{
 "cells": [
  {
   "attachments": {},
   "cell_type": "markdown",
   "metadata": {},
   "source": [
    "Example case study to demonstrate the use of energiapy for solar panel reverse logistics network! Will mess around in SOLAR branch"
   ]
  },
  {
   "cell_type": "code",
   "execution_count": 2,
   "metadata": {},
   "outputs": [],
   "source": [
    "import pandas \n",
    "import numpy\n",
    "import sys\n",
    "sys.path.append('src')\n",
    "\n",
    "from energiapy.components.temporal_scale import TemporalScale\n",
    "from energiapy.components.resource import Resource, VaryingResource\n",
    "from energiapy.components.process import Process, VaryingProcess\n",
    "from energiapy.components.material import Material\n",
    "from energiapy.components.location import Location\n",
    "from energiapy.components.transport import Transport\n",
    "from energiapy.components.network import Network\n",
    "from energiapy.components.scenario import Scenario\n",
    "from energiapy.components.transport import Transport\n",
    "from energiapy.components.result import Result \n",
    "from energiapy.utils.data_utils import get_data, make_henry_price_df, remove_outliers, load_results\n",
    "from energiapy.model.formulate import formulate, Constraints, Objective\n",
    "from energiapy.utils.nsrdb_utils import fetch_nsrdb_data\n",
    "from energiapy.plot import plot_results, plot_scenario\n",
    "from energiapy.plot.plot_results import CostY, CostX\n",
    "from energiapy.model.solve import solve\n",
    "from energiapy.aggregation.reduce_scenario import reduce_scenario, Clustermethod\n",
    "from energiapy.aggregation.ahc import agg_hierarchial_elbow, IncludeAHC, Fit\n",
    "from energiapy.aggregation.dtw import dynamic_warping, dynamic_warping_matrix, dynamic_warping_path, IncludeDTW\n",
    "from energiapy.utils.data_utils import load_results\n",
    "import matplotlib.pyplot as plt\n",
    "from matplotlib import rc\n",
    "from itertools import product"
   ]
  },
  {
   "attachments": {},
   "cell_type": "markdown",
   "metadata": {},
   "source": [
    "Initialize model"
   ]
  },
  {
   "attachments": {},
   "cell_type": "markdown",
   "metadata": {},
   "source": [
    "Temporal scale"
   ]
  },
  {
   "cell_type": "code",
   "execution_count": 3,
   "metadata": {},
   "outputs": [],
   "source": [
    "scales = TemporalScale(discretization_list=[1, 365])"
   ]
  },
  {
   "attachments": {},
   "cell_type": "markdown",
   "metadata": {},
   "source": [
    "Resources"
   ]
  },
  {
   "cell_type": "code",
   "execution_count": 4,
   "metadata": {},
   "outputs": [],
   "source": [
    "SiPV = Resource(name = 'sipv', label='Silicon Photovoltaic', price=50, basis = 'module', cons_max=130000)\n",
    "glass = Resource(name = 'glass', label='Recycled glass', revenue=100, basis = 'kg', demand=True)\n",
    "aluminum = Resource(name = 'al', label='Recycled aluminum', revenue=100, basis = 'kg', sell=True)\n",
    "polymer = Resource(name = 'polymer', label='Recycled polymer', revenue=100, basis = 'kg', sell=True)\n",
    "copper = Resource(name = 'cu', label='Recycled copper', revenue=100, basis = 'kg', sell=True)\n",
    "silver = Resource(name = 'ag', label='Recycled silver', revenue=100, basis = 'kg', sell=True)\n",
    "silicon = Resource(name = 'si', label='Recycled silicon', revenue=100, basis = 'kg', sell=True)"
   ]
  },
  {
   "attachments": {},
   "cell_type": "markdown",
   "metadata": {},
   "source": [
    "Processes"
   ]
  },
  {
   "cell_type": "code",
   "execution_count": 5,
   "metadata": {},
   "outputs": [],
   "source": [
    "FRELP = Process(name = 'FRELP', label='FRELP recycling', conversion = {SiPV: -1, glass: 13.5975, polymer: 2.22, aluminum: 1.65501, silicon: 0.53835, copper: 0.17945, silver: 0.001739}, prod_max = 1300, capex = 4, vopex = 8)\n",
    "ASU = Process(name = 'ASU', label='ASU recycling', conversion = {SiPV: -1, glass: 13.73625, polymer: 2.22, aluminum: 1.5651, silicon: 0.4995, copper: 0.15355, silver: 0.001369}, prod_max = 1300, capex = 17, vopex = 9)\n",
    "hybrid = Process(name = 'hybrid', label='Hybrid recycling', conversion = {SiPV: -1, glass: 13.5975, polymer: 2.22, aluminum: 1.65501, silicon: 0.53835, copper: 0.15355, silver: 0.001369}, prod_max = 1300, capex = 3, vopex = 7)\n",
    "\n",
    "\n",
    "FRELP_big = Process(name = 'FRELP_big', label='big FRELP recycling', conversion = {SiPV: -1, glass: 13.5975, polymer: 2.22, aluminum: 1.65501, silicon: 0.53835, copper: 0.17945, silver: 0.001739}, prod_max = 13000, capex = 3, vopex = 5)\n",
    "ASU_big = Process(name = 'ASU_big', label='big ASU recycling', conversion = {SiPV: -1, glass: 13.73625, polymer: 2.22, aluminum: 1.5651, silicon: 0.4995, copper: 0.15355, silver: 0.001369}, prod_max = 13000, capex = 8, vopex = 6)\n",
    "hybrid_big = Process(name = 'hybrid_big', label='big Hybrid recycling', conversion = {SiPV: -1, glass: 13.5975, polymer: 2.22, aluminum: 1.65501, silicon: 0.53835, copper: 0.15355, silver: 0.001369}, prod_max = 13000, capex = 3, vopex = 4)\n"
   ]
  },
  {
   "attachments": {},
   "cell_type": "markdown",
   "metadata": {},
   "source": [
    "Location"
   ]
  },
  {
   "cell_type": "code",
   "execution_count": 6,
   "metadata": {},
   "outputs": [],
   "source": [
    "mitsubishi = Location(name='mitsubishi', processes = {FRELP, ASU, hybrid, FRELP_big, ASU_big, hybrid_big}, scales = scales, label = 'Mitsubishi recycling')\n",
    "\n",
    "# houston = Location(name = 'HO', scales = scales, , processes = {dummy}, label = 'Houston')"
   ]
  },
  {
   "attachments": {},
   "cell_type": "markdown",
   "metadata": {},
   "source": [
    "Scenario"
   ]
  },
  {
   "cell_type": "code",
   "execution_count": 7,
   "metadata": {},
   "outputs": [],
   "source": [
    "glassDelivery = Scenario(name = 'glassDelivery', network = mitsubishi, demand = {mitsubishi: {glass: 15000}}, scales= scales, label = 'glassDelivery', network_scale_level = 0, purchase_scale_level = 1, scheduling_scale_level = 1, demand_scale_level = 1, expenditure_scale_level = 0)"
   ]
  },
  {
   "attachments": {},
   "cell_type": "markdown",
   "metadata": {},
   "source": [
    "MILP formulation"
   ]
  },
  {
   "cell_type": "code",
   "execution_count": 10,
   "metadata": {},
   "outputs": [
    {
     "name": "stdout",
     "output_type": "stream",
     "text": [
      "constraint production mode\n",
      "constraint production mode facility\n",
      "constraint production mode binary\n",
      "constraint process capex\n",
      "constraint process fopex\n",
      "constraint process vopex\n",
      "constraint process incidental\n",
      "constraint location capex\n",
      "constraint location fopex\n",
      "constraint location vopex\n",
      "constraint location incidental\n",
      "constraint network capex\n",
      "constraint network fopex\n",
      "constraint network vopex\n",
      "constraint network incidental\n",
      "constraint nameplate inventory\n",
      "constraint storage facility\n",
      "constraint min storage facility\n",
      "constraint nameplate production\n",
      "constraint production facility\n",
      "constraint min production facility\n",
      "constraint inventory balance\n",
      "constraint resource consumption\n",
      "constraint resource purchase\n",
      "constraint location production\n",
      "constraint location discharge\n",
      "constraint location consumption\n",
      "constraint location purchase\n",
      "constraint network production\n",
      "constraint network discharge\n",
      "constraint network consumption\n",
      "constraint network purchase\n"
     ]
    }
   ],
   "source": [
    "milp_demand = formulate(scenario = glassDelivery, constraints={Constraints.INVENTORY,Constraints.COST, Constraints.PRODUCTION, Constraints.RESOURCE_BALANCE, Constraints.MODE}, objective=Objective.DEMAND)"
   ]
  },
  {
   "cell_type": "code",
   "execution_count": 24,
   "metadata": {},
   "outputs": [
    {
     "name": "stdout",
     "output_type": "stream",
     "text": [
      "Parameter OutputFlag unchanged\n",
      "   Value: 1  Min: 0  Max: 1  Default: 1\n",
      "Changed value of parameter LogFile to C:\\Users\\NCHRIS~1\\AppData\\Local\\Temp\\tmp7iu5ytu3.log\n",
      "   Prev:   Default: \n",
      "Gurobi Optimizer version 9.1.2 build v9.1.2rc0 (win64)\n",
      "Thread count: 4 physical cores, 8 logical processors, using up to 8 threads\n",
      "Optimize a model with 12117 rows, 11785 columns and 41742 nonzeros\n",
      "Model fingerprint: 0x135a3144\n",
      "Variable types: 7393 continuous, 4392 integer (4392 binary)\n",
      "Coefficient statistics:\n",
      "  Matrix range     [1e-03, 1e+04]\n",
      "  Objective range  [1e+00, 1e+00]\n",
      "  Bounds range     [1e+00, 1e+00]\n",
      "  RHS range        [1e+05, 1e+05]\n",
      "Found heuristic solution: objective -0.0000000\n",
      "Presolve removed 12117 rows and 11785 columns\n",
      "Presolve time: 0.01s\n",
      "Presolve: All rows and columns removed\n",
      "\n",
      "Explored 0 nodes (0 simplex iterations) in 0.03 seconds\n",
      "Thread count was 1 (of 8 available processors)\n",
      "\n",
      "Solution count 2: 2.13641e+08 -0 \n",
      "\n",
      "Optimal solution found (tolerance 1.00e-04)\n",
      "Best objective 2.136406593750e+08, best bound 2.136406593750e+08, gap 0.0000%\n",
      "Changed value of parameter LogFile to \n",
      "   Prev: C:\\Users\\NCHRIS~1\\AppData\\Local\\Temp\\tmp7iu5ytu3.log  Default: \n"
     ]
    }
   ],
   "source": [
    "results = solve(scenario = glassDelivery, instance=milp_demand, solver='gurobi', print_solversteps=True, name = 'results')"
   ]
  },
  {
   "cell_type": "code",
   "execution_count": null,
   "metadata": {},
   "outputs": [],
   "source": []
  }
 ],
 "metadata": {
  "kernelspec": {
   "display_name": "envpython38",
   "language": "python",
   "name": "python3"
  },
  "language_info": {
   "codemirror_mode": {
    "name": "ipython",
    "version": 3
   },
   "file_extension": ".py",
   "mimetype": "text/x-python",
   "name": "python",
   "nbconvert_exporter": "python",
   "pygments_lexer": "ipython3",
   "version": "3.8.13"
  },
  "orig_nbformat": 4
 },
 "nbformat": 4,
 "nbformat_minor": 2
}
