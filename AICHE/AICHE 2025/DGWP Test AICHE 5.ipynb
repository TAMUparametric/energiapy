{
 "cells": [
  {
   "cell_type": "code",
   "execution_count": 1,
   "metadata": {},
   "outputs": [],
   "source": [
    "import sys\n",
    "sys.path.append('../../src')"
   ]
  },
  {
   "cell_type": "code",
   "execution_count": 2,
   "metadata": {},
   "outputs": [],
   "source": [
    "import pandas as pd\n",
    "import numpy\n",
    "from energiapy.components.temporal_scale import TemporalScale\n",
    "from energiapy.components.resource import Resource, VaryingResource, Scope\n",
    "from energiapy.components.process import Process, VaryingProcess\n",
    "from energiapy.components.material import Material\n",
    "from energiapy.components.location import Location\n",
    "from energiapy.components.network import Network\n",
    "from energiapy.components.scenario import Scenario\n",
    "from energiapy.components.transport import Transport\n",
    "from energiapy.model.formulate import formulate, Constraints, Objective\n",
    "from energiapy.utils.nsrdb_utils import fetch_nsrdb_data\n",
    "from energiapy.plot import plot_results, plot_scenario\n",
    "from energiapy.plot.plot_results import CostY, CostX\n",
    "from energiapy.model.solve import solve\n",
    "from itertools import product\n",
    "from energiapy.components.result import Result\n",
    "from itertools import product\n",
    "from matplotlib import rc\n",
    "import matplotlib.pyplot as plt\n",
    "from energiapy.model.solve import solve\n",
    "from energiapy.plot.plot_results import CostY, CostX\n",
    "from energiapy.components.location import Location\n",
    "from energiapy.plot import plot_results, plot_scenario\n",
    "from energiapy.utils.nsrdb_utils import fetch_nsrdb_data\n",
    "from energiapy.model.formulate import formulate, Constraints, Objective\n",
    "from energiapy.model.bounds import CapacityBounds\n",
    "from energiapy.utils.data_utils import get_data, make_henry_price_df, remove_outliers, load_results\n",
    "from energiapy.conversion.photovoltaic import solar_power_output\n",
    "from energiapy.conversion.windmill import wind_power_output\n",
    "from energiapy.model.constraints.integer_cuts import constraint_block_integer_cut, constraint_block_integer_cut_min\n",
    "from scipy import stats"
   ]
  },
  {
   "cell_type": "code",
   "execution_count": 3,
   "metadata": {},
   "outputs": [],
   "source": [
    "# To solve the scheduling level problem for the motivating example of 3 forms of LNG production with varying GWP (resets every year), varying ERCOT power prices & NG prices (fluctuates every hour for the next 5 years)\n",
    "# For optimal cost vs emission scenario (and varying weights for emission reduction , eg, for 10% reduction in emission, what is the best case scenario)"
   ]
  },
  {
   "cell_type": "code",
   "execution_count": 4,
   "metadata": {},
   "outputs": [],
   "source": [
    "horizon = 1\n",
    "scales = TemporalScale(discretization_list=[1,1825])"
   ]
  },
  {
   "cell_type": "code",
   "execution_count": 5,
   "metadata": {},
   "outputs": [],
   "source": [
    "bigM = 10**8\n",
    "smallM = 0.001"
   ]
  },
  {
   "cell_type": "code",
   "execution_count": 6,
   "metadata": {},
   "outputs": [
    {
     "data": {
      "text/html": [
       "<div>\n",
       "<style scoped>\n",
       "    .dataframe tbody tr th:only-of-type {\n",
       "        vertical-align: middle;\n",
       "    }\n",
       "\n",
       "    .dataframe tbody tr th {\n",
       "        vertical-align: top;\n",
       "    }\n",
       "\n",
       "    .dataframe thead th {\n",
       "        text-align: right;\n",
       "    }\n",
       "</style>\n",
       "<table border=\"1\" class=\"dataframe\">\n",
       "  <thead>\n",
       "    <tr style=\"text-align: right;\">\n",
       "      <th></th>\n",
       "      <th>Settlement Point Price</th>\n",
       "    </tr>\n",
       "  </thead>\n",
       "  <tbody>\n",
       "    <tr>\n",
       "      <th>0</th>\n",
       "      <td>14.70</td>\n",
       "    </tr>\n",
       "    <tr>\n",
       "      <th>1</th>\n",
       "      <td>18.45</td>\n",
       "    </tr>\n",
       "    <tr>\n",
       "      <th>2</th>\n",
       "      <td>17.73</td>\n",
       "    </tr>\n",
       "    <tr>\n",
       "      <th>3</th>\n",
       "      <td>13.60</td>\n",
       "    </tr>\n",
       "    <tr>\n",
       "      <th>4</th>\n",
       "      <td>16.14</td>\n",
       "    </tr>\n",
       "    <tr>\n",
       "      <th>...</th>\n",
       "      <td>...</td>\n",
       "    </tr>\n",
       "    <tr>\n",
       "      <th>1820</th>\n",
       "      <td>17.11</td>\n",
       "    </tr>\n",
       "    <tr>\n",
       "      <th>1821</th>\n",
       "      <td>22.73</td>\n",
       "    </tr>\n",
       "    <tr>\n",
       "      <th>1822</th>\n",
       "      <td>12.23</td>\n",
       "    </tr>\n",
       "    <tr>\n",
       "      <th>1823</th>\n",
       "      <td>16.13</td>\n",
       "    </tr>\n",
       "    <tr>\n",
       "      <th>1824</th>\n",
       "      <td>20.11</td>\n",
       "    </tr>\n",
       "  </tbody>\n",
       "</table>\n",
       "<p>1825 rows × 1 columns</p>\n",
       "</div>"
      ],
      "text/plain": [
       "      Settlement Point Price\n",
       "0                      14.70\n",
       "1                      18.45\n",
       "2                      17.73\n",
       "3                      13.60\n",
       "4                      16.14\n",
       "...                      ...\n",
       "1820                   17.11\n",
       "1821                   22.73\n",
       "1822                   12.23\n",
       "1823                   16.13\n",
       "1824                   20.11\n",
       "\n",
       "[1825 rows x 1 columns]"
      ]
     },
     "execution_count": 6,
     "metadata": {},
     "output_type": "execute_result"
    }
   ],
   "source": [
    "import pandas as pd\n",
    "\n",
    "# Read the Excel file into a DataFrame\n",
    "elec_price_df = pd.read_csv('C:/Users/marcopdsousa/Documents/energiapy/AICHE/AICHE 2025 Data/Complete_ERCOT_Prices - 5 year_Daily.csv')\n",
    "\n",
    "\n",
    "elec_price_df\n",
    "\n",
    "# Increment index by 1 (optional, depending on what you want to do)\n",
    "# elec_price_df.index = elec_price_df.index + 1\n",
    "\n",
    "# Display DataFrame\n",
    "# print(elec_price_df)\n",
    "\n",
    "# Get the maximum price from the first column\n"
   ]
  },
  {
   "cell_type": "code",
   "execution_count": 7,
   "metadata": {},
   "outputs": [
    {
     "data": {
      "text/html": [
       "<div>\n",
       "<style scoped>\n",
       "    .dataframe tbody tr th:only-of-type {\n",
       "        vertical-align: middle;\n",
       "    }\n",
       "\n",
       "    .dataframe tbody tr th {\n",
       "        vertical-align: top;\n",
       "    }\n",
       "\n",
       "    .dataframe thead th {\n",
       "        text-align: right;\n",
       "    }\n",
       "</style>\n",
       "<table border=\"1\" class=\"dataframe\">\n",
       "  <thead>\n",
       "    <tr style=\"text-align: right;\">\n",
       "      <th></th>\n",
       "      <th>Methane</th>\n",
       "    </tr>\n",
       "  </thead>\n",
       "  <tbody>\n",
       "    <tr>\n",
       "      <th>0</th>\n",
       "      <td>83.82</td>\n",
       "    </tr>\n",
       "    <tr>\n",
       "      <th>1</th>\n",
       "      <td>83.82</td>\n",
       "    </tr>\n",
       "    <tr>\n",
       "      <th>2</th>\n",
       "      <td>83.82</td>\n",
       "    </tr>\n",
       "    <tr>\n",
       "      <th>3</th>\n",
       "      <td>83.82</td>\n",
       "    </tr>\n",
       "    <tr>\n",
       "      <th>4</th>\n",
       "      <td>83.82</td>\n",
       "    </tr>\n",
       "    <tr>\n",
       "      <th>...</th>\n",
       "      <td>...</td>\n",
       "    </tr>\n",
       "    <tr>\n",
       "      <th>1820</th>\n",
       "      <td>112.23</td>\n",
       "    </tr>\n",
       "    <tr>\n",
       "      <th>1821</th>\n",
       "      <td>112.23</td>\n",
       "    </tr>\n",
       "    <tr>\n",
       "      <th>1822</th>\n",
       "      <td>112.23</td>\n",
       "    </tr>\n",
       "    <tr>\n",
       "      <th>1823</th>\n",
       "      <td>112.23</td>\n",
       "    </tr>\n",
       "    <tr>\n",
       "      <th>1824</th>\n",
       "      <td>112.23</td>\n",
       "    </tr>\n",
       "  </tbody>\n",
       "</table>\n",
       "<p>1825 rows × 1 columns</p>\n",
       "</div>"
      ],
      "text/plain": [
       "      Methane\n",
       "0       83.82\n",
       "1       83.82\n",
       "2       83.82\n",
       "3       83.82\n",
       "4       83.82\n",
       "...       ...\n",
       "1820   112.23\n",
       "1821   112.23\n",
       "1822   112.23\n",
       "1823   112.23\n",
       "1824   112.23\n",
       "\n",
       "[1825 rows x 1 columns]"
      ]
     },
     "execution_count": 7,
     "metadata": {},
     "output_type": "execute_result"
    }
   ],
   "source": [
    "#The natural gas price is calculated as the average between the high and low cost, also the unit used is $/kg of natural gas\n",
    "GWP_df = pd.read_csv(r\"C:/Users/marcopdsousa/Documents/energiapy/AICHE/AICHE 2025 Data/GWP_FuelMix.csv\")\n",
    "# NG_price_df = pd.DataFrame(NG_price_df['USD/kg'])[::-1].reset_index()\n",
    "GWP_df = GWP_df[['Methane']]\n",
    "GWP_df = GWP_df[:1825].reset_index(drop = True)\n",
    "GWP_df"
   ]
  },
  {
   "cell_type": "code",
   "execution_count": 8,
   "metadata": {},
   "outputs": [
    {
     "data": {
      "text/html": [
       "<div>\n",
       "<style scoped>\n",
       "    .dataframe tbody tr th:only-of-type {\n",
       "        vertical-align: middle;\n",
       "    }\n",
       "\n",
       "    .dataframe tbody tr th {\n",
       "        vertical-align: top;\n",
       "    }\n",
       "\n",
       "    .dataframe thead th {\n",
       "        text-align: right;\n",
       "    }\n",
       "</style>\n",
       "<table border=\"1\" class=\"dataframe\">\n",
       "  <thead>\n",
       "    <tr style=\"text-align: right;\">\n",
       "      <th></th>\n",
       "      <th>GWP</th>\n",
       "    </tr>\n",
       "  </thead>\n",
       "  <tbody>\n",
       "    <tr>\n",
       "      <th>0</th>\n",
       "      <td>276.211933</td>\n",
       "    </tr>\n",
       "    <tr>\n",
       "      <th>1</th>\n",
       "      <td>332.332728</td>\n",
       "    </tr>\n",
       "    <tr>\n",
       "      <th>2</th>\n",
       "      <td>324.429326</td>\n",
       "    </tr>\n",
       "    <tr>\n",
       "      <th>3</th>\n",
       "      <td>353.487385</td>\n",
       "    </tr>\n",
       "    <tr>\n",
       "      <th>4</th>\n",
       "      <td>302.086112</td>\n",
       "    </tr>\n",
       "    <tr>\n",
       "      <th>...</th>\n",
       "      <td>...</td>\n",
       "    </tr>\n",
       "    <tr>\n",
       "      <th>1820</th>\n",
       "      <td>315.482312</td>\n",
       "    </tr>\n",
       "    <tr>\n",
       "      <th>1821</th>\n",
       "      <td>315.482312</td>\n",
       "    </tr>\n",
       "    <tr>\n",
       "      <th>1822</th>\n",
       "      <td>315.482312</td>\n",
       "    </tr>\n",
       "    <tr>\n",
       "      <th>1823</th>\n",
       "      <td>315.482312</td>\n",
       "    </tr>\n",
       "    <tr>\n",
       "      <th>1824</th>\n",
       "      <td>315.482312</td>\n",
       "    </tr>\n",
       "  </tbody>\n",
       "</table>\n",
       "<p>1825 rows × 1 columns</p>\n",
       "</div>"
      ],
      "text/plain": [
       "             GWP\n",
       "0     276.211933\n",
       "1     332.332728\n",
       "2     324.429326\n",
       "3     353.487385\n",
       "4     302.086112\n",
       "...          ...\n",
       "1820  315.482312\n",
       "1821  315.482312\n",
       "1822  315.482312\n",
       "1823  315.482312\n",
       "1824  315.482312\n",
       "\n",
       "[1825 rows x 1 columns]"
      ]
     },
     "execution_count": 8,
     "metadata": {},
     "output_type": "execute_result"
    }
   ],
   "source": [
    "#The natural gas price is calculated as the average between the high and low cost, also the unit used is $/kg of natural gas\n",
    "TVEF_df = pd.read_csv(r\"C:/Users/marcopdsousa/Documents/energiapy/AICHE/AICHE 2025 Data/GWP_FuelMix.csv\")\n",
    "# NG_price_df = pd.DataFrame(NG_price_df['USD/kg'])[::-1].reset_index()\n",
    "TVEF_df = TVEF_df[['GWP']]\n",
    "TVEF_df = TVEF_df[:1825].reset_index(drop = True)\n",
    "TVEF_df"
   ]
  },
  {
   "cell_type": "code",
   "execution_count": 9,
   "metadata": {},
   "outputs": [
    {
     "name": "stderr",
     "output_type": "stream",
     "text": [
      "C:\\Users\\marcopdsousa\\AppData\\Local\\Temp\\ipykernel_35520\\1306193089.py:1: FutureWarning: Series.__getitem__ treating keys as positions is deprecated. In a future version, integer keys will always be treated as labels (consistent with DataFrame behavior). To access a value by position, use `ser.iloc[pos]`\n",
      "  TVEF_value = TVEF_df.max()[0]\n",
      "C:\\Users\\marcopdsousa\\AppData\\Local\\Temp\\ipykernel_35520\\1306193089.py:2: FutureWarning: Series.__getitem__ treating keys as positions is deprecated. In a future version, integer keys will always be treated as labels (consistent with DataFrame behavior). To access a value by position, use `ser.iloc[pos]`\n",
      "  GWP_value = GWP_df.max()[0]\n",
      "C:\\Users\\marcopdsousa\\AppData\\Local\\Temp\\ipykernel_35520\\1306193089.py:3: FutureWarning: Series.__getitem__ treating keys as positions is deprecated. In a future version, integer keys will always be treated as labels (consistent with DataFrame behavior). To access a value by position, use `ser.iloc[pos]`\n",
      "  elec_price = elec_price_df.max()[0]\n"
     ]
    }
   ],
   "source": [
    "TVEF_value = TVEF_df.max()[0]\n",
    "GWP_value = GWP_df.max()[0]\n",
    "elec_price = elec_price_df.max()[0]"
   ]
  },
  {
   "cell_type": "code",
   "execution_count": 10,
   "metadata": {},
   "outputs": [],
   "source": [
    "# Formula verified\n",
    "\n",
    "#for index in elec_price_df.index:\n",
    "    #if index <= 20:\n",
    "        #GWP_value = 112.23\n",
    "    #elif index <= 70:\n",
    "        #GWP_value = 99.99\n",
    "    #elif index <= 72:\n",
    "        #GWP_value = 92.84\n",
    "    #else:\n",
    "        #GWP_value = 83.82\n",
    "    \n",
    "    #print(f\"Index: {index}, GWP_value: {GWP_value}\")  # To check the values dynamically\n"
   ]
  },
  {
   "cell_type": "code",
   "execution_count": 11,
   "metadata": {},
   "outputs": [],
   "source": [
    "# for index in elec_price_df.index:\n",
    "#     if index <= 365:\n",
    "#         GWP_value = 112.23\n",
    "#     elif index >365 and index<= 730:\n",
    "#         GWP_value = 99.99\n",
    "#     elif index >730 and index<= 1095:\n",
    "#         GWP_value = 92.84\n",
    "#     elif index >1095 and index<= 1460:\n",
    "#         GWP_value = 87.76\n",
    "#     else:\n",
    "#         GWP_value= 83.82\n",
    "#         # for 5 years\n",
    "#         # 112.23"
   ]
  },
  {
   "cell_type": "code",
   "execution_count": 12,
   "metadata": {},
   "outputs": [],
   "source": [
    "# Natural gas great alternative to Coal"
   ]
  },
  {
   "cell_type": "code",
   "execution_count": 13,
   "metadata": {},
   "outputs": [],
   "source": [
    "# Outputs\n",
    "\n",
    "CO2 = Resource(name='CO2 Vented from the process', basis='kg/hr',\n",
    "               label='Carbon dioxide vented from the process', block='Resource', gwp = 1, sell=True, scope = Scope.ONE)\n",
    "\n",
    "Methane = Resource(name='Methane leaked from the process', basis='kg/hr',\n",
    "               label='Methane from the process', block='Resource', cons_max = bigM, gwp = GWP_value, varying = [VaryingResource.DETERMINISTIC_GWP], scope = Scope.ONE)\n",
    "\n",
    "#cons_max=bigM, GWP_value, varying = [VaryingResource.DETERMINISTIC_GWP]\n",
    "\n",
    "MethaneD = Resource(name='Dynamic Methane emission', basis='kg', label='Methane emitted')\n",
    "\n",
    "NGL = Resource(name='Natural Gas Liquids_in_extraction', basis='kg/hr', label='Natural Gas Liquids_in_extraction', block='Resource', sell=True)\n",
    "\n",
    "ProducedWater = Resource(name='H2O vented from the process',\n",
    "               basis='kg/hr', sell=True, label='Water vented from the process', block='Resource')\n",
    "\n",
    "LNG = Resource(name='LNG', demand = True, basis='kg/hr', label='LNG', block='Resource')\n",
    "\n",
    "Boil_off_LNG = Resource(name='Boil_off_LNG', sell=True, basis='kg/hr', label='Boil_off_LNG', block='Resource')\n",
    "\n",
    "Heat_Energy = Resource(name='Heat_Energy', basis='MW', label='Heat_Energy', sell=True, block='Resource')\n",
    "\n",
    "#Methane = Resource(name='Methane leaked from the process', basis='kg/hr',\n",
    "               #label='Methane from the process', block='Resource', gwp = GWP_value, varying = [VaryingResource.DETERMINISTIC_GWP], sell=True, scope = Scope.ONE)\n",
    "\n",
    "# Inputs\n",
    "\n",
    "Power = Resource(name='Power', basis='MW', label='Power generated')\n",
    "\n",
    "GridPower = Resource(name='GridPower', basis='MW',\n",
    "                     cons_max=bigM, label='Power bought', gwp= TVEF_value, price =elec_price ,varying = [VaryingResource.DETERMINISTIC_PRICE, VaryingResource.DETERMINISTIC_GWP], scope = Scope.TWO)\n",
    "# Grid Power GWP from average value of time-varying GWP\n",
    "\n",
    "ResourceWater = Resource(name='H2O',\n",
    "               basis='kg/hr', cons_max=bigM, label='Water', price = 0.002, block='Resource')\n",
    "\n",
    "Proppant_Additive = Resource(name='Proppant_Additive', basis='kg/hr', label='Proppant_Additive', block='Resource', price= 0.975, cons_max=bigM)\n",
    "# Reference Link: https://www.maximizemarketresearch.com/market-report/global-proppant-market/14899/?utm_source=chatgpt.com\n",
    "\n",
    "Diesel = Resource(name='Diesel', basis='kg/hr', label='Diesel', block='Resource', price= 0.98, cons_max=bigM)\n",
    "# Reference Link: https://businessanalytiq.com/procurementanalytics/index/diesel-price-index/\n",
    "\n",
    "Cooling_Water_In_Liquifaction = Resource(name='Cooling_Water_In_Liquifaction', basis='kg/hr', label='Cooling_Water_In_Liquifaction', block='Resource', cons_max=bigM, price= 0.0572)\n",
    "# Reference link: https://www.intratec.us/products/industry-economics-worldwide/utility/cooling-water-united-states\n",
    "\n",
    "LNG =  Resource(name='LNG', demand=True, basis='kg/hr', label='LNG', block='Resource')\n",
    "\n",
    "Glycol = Resource(name='Glycol', basis='kg/hr', label='Glycol', block='Resource', cons_max=bigM, price= 0.052)\n",
    "# Reference link: https://businessanalytiq.com/procurementanalytics/index/ethylene-glycol-price-index/\n",
    "\n",
    "MDEA = Resource(name='MDEA', basis='kg/hr', label='MDEA', block='Resource', cons_max=bigM, price= 10)"
   ]
  },
  {
   "cell_type": "code",
   "execution_count": 14,
   "metadata": {},
   "outputs": [],
   "source": [
    "# FU: 1 kg/hr of LNG\n",
    "# 3 methane producing processes\n",
    "\n",
    "Grid = Process(name='Grid', conversion={GridPower: -1, Power: 1}, prod_min=smallM, prod_max=bigM, label='Grid', basis='MW')\n",
    "\n",
    "MDGWP = Process(name='MDGWP', conversion={Methane: -1, MethaneD: 1}, prod_min=smallM, prod_max=bigM, label='MDGWP', basis='kg')\n",
    "\n",
    "Conventional_NG = Process(name='Conventional_NG', conversion={Boil_off_LNG: 0.01, Power: -0.0028, ResourceWater: -0.5, Diesel: -0.000741382, Glycol: -0.000818111, MDEA: -0.012391658, Cooling_Water_In_Liquifaction: -1.75,\n",
    "                                                              MethaneD: -0.00395, CO2: 0.966504505 , NGL: 0.3, Heat_Energy: 0.02, ProducedWater: 0.912, LNG: 1}, capex=0.17, fopex=1.5, vopex=1.5, prod_min=smallM, prod_max=bigM, label='Conventional LNG', basis='kg/hr')  \n",
    "\n",
    "# https://shareholdersunite.com/the-ioc-files-useful-background-material/the-economics-of-lng/\n",
    "\n",
    "ShaleGas = Process(name='ShaleGas', conversion={Boil_off_LNG: 0.01, Power: -0.003, ResourceWater: -0.92, Diesel: -0.002041766, Glycol: -0.01875, MDEA: -0.284, Cooling_Water_In_Liquifaction: -2.75,\n",
    "                                                              MethaneD: -0.00895, CO2: 2.1, NGL: 1.9, Heat_Energy: 0.074, ProducedWater: 2.2205, LNG: 1}, capex=0.19, fopex=0.6, vopex=0.6, prod_min=smallM, prod_max=bigM, label='ShaleGas', basis='kg/hr')\n",
    "# https://marcelluscoalition.org/wp-content/uploads/2012/07/The-Arithmetic-of-Shale-Gas.pdf\n",
    "\n",
    "Coalbed = Process(name='Coalbed', conversion={Boil_off_LNG: 0.01, Power: -0.01, Diesel: -0.075, Glycol: -0.026539527, MDEA: -0.401985372, Cooling_Water_In_Liquifaction: -3.25,\n",
    "                                                              MethaneD: -0.811, CO2: 5.823126126, NGL: 0.062761905, Heat_Energy: 0.002, ProducedWater: 6.2755, LNG: 1}, capex=0.205, fopex=2.24, vopex=1.17, prod_min=smallM, prod_max=bigM, label='CoalBed', basis='kg/hr')\n",
    "\n",
    "\n",
    "# Conventional_NG = Process(name='Conventional_NG', conversion={Boil_off_LNG: 0.01, Power: -0.00015, ResourceWater: -0.5, Diesel: -0.000741382, Glycol: -0.000818111, MDEA: -0.012391658, Cooling_Water_In_Liquifaction: -19.85645933,\n",
    "#                                                               MethaneD: -0.025, CO2: 0.179504505, NGL: 0.3, Heat_Energy: 0.02, ProducedWater: 0.912, LNG: 1}, fopex=0.0325, vopex=0.0325, prod_min=0.1, prod_max=bigM, label='Conventional LNG', basis='kg/hr')  \n",
    "\n",
    "# # https://shareholdersunite.com/the-ioc-files-useful-background-material/the-economics-of-lng/\n",
    "\n",
    "# ShaleGas = Process(name='ShaleGas', conversion={Boil_off_LNG: 0.01, Power: -0.0003, ResourceWater: -2, Diesel: -0.002041766, Glycol: -0.01875, MDEA: -0.284, Cooling_Water_In_Liquifaction: -19.85645933,\n",
    "#                                                               MethaneD: -0.0395, CO2: 4.114, NGL: 0.0557, Heat_Energy: 0.074, ProducedWater: 0.00002205, LNG: 1}, fopex=2.24, vopex=1.17, prod_min=0.1, prod_max=bigM, label='ShaleGas', basis='kg/hr')\n",
    "# # https://marcelluscoalition.org/wp-content/uploads/2012/07/The-Arithmetic-of-Shale-Gas.pdf\n",
    "\n",
    "# Coalbed = Process(name='Coalbed', conversion={Boil_off_LNG: 0.01, Power: -0.001, Diesel: -0.075, Glycol: -0.026539527, MDEA: -0.401985372, Cooling_Water_In_Liquifaction: -19.85645933,\n",
    "#                                                               MethaneD: -0.811, CO2: 5.823126126, NGL: 0.062761905, Heat_Energy: 0.002, ProducedWater: 6.2755, LNG: 1}, fopex=0.245, vopex=0.415, prod_min=0.1, prod_max=bigM, label='CoalBed', basis='kg/hr')\n",
    "\n",
    "# capacity needed? No"
   ]
  },
  {
   "cell_type": "code",
   "execution_count": 15,
   "metadata": {},
   "outputs": [],
   "source": [
    "process_set = {Grid, MDGWP, Conventional_NG, ShaleGas, Coalbed}"
   ]
  },
  {
   "cell_type": "code",
   "execution_count": 21,
   "metadata": {},
   "outputs": [],
   "source": [
    "# network scale level is 2, due to indexing issues. However, this shouldn't change the final output as capex is smallM. Fopex will be mentiond in hourly level\n",
    "\n",
    "houston = Location(name='Houston', processes=process_set,  price_factor={GridPower: elec_price_df}, gwp_factor={Methane:GWP_df, GridPower:TVEF_df},\n",
    "                   scales=scales, label='Houston', expenditure_scale_level=0, demand_scale_level=0, price_scale_level=1, gwp_scale_level = 1)\n",
    "\n"
   ]
  },
  {
   "cell_type": "code",
   "execution_count": 22,
   "metadata": {},
   "outputs": [],
   "source": [
    "\n",
    "scenario = Scenario(name='scenario_full', network=houston, scales=scales,  expenditure_scale_level=0, demand_scale_level=0, network_scale_level=0,\n",
    "                    purchase_scale_level = 1, scheduling_scale_level=1, capacity_scale_level=1, gwp_scale_level =1, \n",
    "                    label='full_case', demand={houston: {LNG:200000}})"
   ]
  },
  {
   "cell_type": "code",
   "execution_count": 23,
   "metadata": {},
   "outputs": [
    {
     "name": "stdout",
     "output_type": "stream",
     "text": [
      "Contents of scenario.gwp_dict: None\n"
     ]
    }
   ],
   "source": [
    "print(\"Contents of scenario.gwp_dict:\", Location.gwp_factor)\n",
    "#code not reading demand or gwp factor"
   ]
  },
  {
   "cell_type": "code",
   "execution_count": 24,
   "metadata": {},
   "outputs": [
    {
     "data": {
      "image/png": "[encoded data removed]",
      "text/plain": [
       "<Figure size 900x500 with 1 Axes>"
      ]
     },
     "metadata": {},
     "output_type": "display_data"
    }
   ],
   "source": [
    "plot_scenario.price_factor(scenario=scenario, location=houston, resource=GridPower, fig_size=(9, 5), color='black')"
   ]
  },
  {
   "cell_type": "code",
   "execution_count": 25,
   "metadata": {},
   "outputs": [
    {
     "name": "stdout",
     "output_type": "stream",
     "text": [
      "constraint process capex\n",
      "constraint process fopex\n",
      "constraint process vopex\n",
      "constraint storage capex\n",
      "constraint process incidental\n",
      "constraint location capex\n",
      "constraint storage cost\n",
      "constraint storage cost location\n",
      "constraint storage cost network\n",
      "constraint global warming potential resource\n",
      "constraint global warming potential resource consumption\n",
      "constraint global warming potential resource discharge\n",
      "constraint global warming potential location\n",
      "constraint global warming potential network\n",
      "constraint production mode\n",
      "constraint inventory balance\n",
      "constraint inventory network\n",
      "constraint storage facility\n",
      "constraint production facility\n",
      "constraint min production facility\n",
      "constraint min storage facility\n",
      "constraint demand\n",
      "objective cost\n"
     ]
    }
   ],
   "source": [
    "#, Constraints.MODE\n",
    "\n",
    "milp_cost = formulate(scenario=scenario, constraints={Constraints.COST, Constraints.INVENTORY, Constraints.PRODUCTION, Constraints.NETWORK,\n",
    "                      Constraints.RESOURCE_BALANCE, Constraints.DEMAND, Constraints.EMISSION}, objective=Objective.COST, demand_sign = 'eq')"
   ]
  },
  {
   "cell_type": "code",
   "execution_count": null,
   "metadata": {},
   "outputs": [],
   "source": [
    "# print(\"Type of scenario.price_dict:\", type(scenario.price_dict))\n",
    "# print(\"Contents of scenario.price_dict:\", scenario.price_dict)"
   ]
  },
  {
   "cell_type": "code",
   "execution_count": null,
   "metadata": {},
   "outputs": [],
   "source": [
    "# type(milp_cost)"
   ]
  },
  {
   "cell_type": "code",
   "execution_count": null,
   "metadata": {},
   "outputs": [],
   "source": [
    "# print(\"Scale 1 Indices:\", list(scales.scale_iter(1)))\n",
    "# print(\"Scale 2 Indices:\", list(scales.scale_iter(2)))"
   ]
  },
  {
   "cell_type": "markdown",
   "metadata": {},
   "source": [
    "Ramping constraints"
   ]
  },
  {
   "cell_type": "code",
   "execution_count": 26,
   "metadata": {},
   "outputs": [],
   "source": [
    "from pyomo.environ import ConstraintList\n",
    "\n",
    "# Loop of how this code runs\n",
    "# Constraint 1: except for the first value (year 1, day 1, hour 0), all the other values ramp up as per the previous production rate\n",
    "milp_cost.cons1 = ConstraintList()\n",
    "for i in scales.scale_iter(1):\n",
    "    if i != (0,0):\n",
    "        milp_cost.cons1.add(expr = milp_cost.P['Houston', 'Conventional_NG', *i] - milp_cost.P['Houston', 'Conventional_NG', *scales.scale_iter(1)[scales.scale_iter(1).index(i) - 1]] <= 0.05* milp_cost.P['Houston', 'Conventional_NG', *scales.scale_iter(1)[scales.scale_iter(1).index(i) - 1]])\n",
    "\n",
    "#Constraint 2: Ramp down\n",
    "\n",
    "milp_cost.cons2 = ConstraintList()\n",
    "for i in scales.scale_iter(1):\n",
    "    if i != (0,0):\n",
    "        milp_cost.cons2.add(milp_cost.P['Houston', 'Conventional_NG', *scales.scale_iter(1)[scales.scale_iter(1).index(i) - 1]] - milp_cost.P['Houston', 'Conventional_NG', *i] <= 0.05*milp_cost.P['Houston', 'Conventional_NG', *scales.scale_iter(1)[scales.scale_iter(1).index(i) - 1]])\n"
   ]
  },
  {
   "cell_type": "code",
   "execution_count": 27,
   "metadata": {},
   "outputs": [],
   "source": [
    "# Loop of how this code runs\n",
    "# Constraint 1: except for the first value (year 1, day 1, hour 0), all the other values ramp up as per the previous production rate\n",
    "milp_cost.cons3 = ConstraintList()\n",
    "for i in scales.scale_iter(1):\n",
    "    if i != (0,0):\n",
    "        milp_cost.cons3.add(expr = milp_cost.P['Houston', 'ShaleGas', *i] - milp_cost.P['Houston', 'ShaleGas', *scales.scale_iter(1)[scales.scale_iter(1).index(i) - 1]] <= 0.05* milp_cost.P['Houston', 'ShaleGas', *scales.scale_iter(1)[scales.scale_iter(1).index(i) - 1]])\n",
    "\n",
    "#Constraint 2: Ramp down\n",
    "\n",
    "milp_cost.cons4 = ConstraintList()\n",
    "for i in scales.scale_iter(1):\n",
    "    if i != (0,0):\n",
    "        milp_cost.cons4.add(milp_cost.P['Houston', 'ShaleGas', *scales.scale_iter(1)[scales.scale_iter(1).index(i) - 1]] - milp_cost.P['Houston', 'ShaleGas', *i] <= 0.05*milp_cost.P['Houston', 'ShaleGas', *scales.scale_iter(1)[scales.scale_iter(1).index(i) - 1]])\n"
   ]
  },
  {
   "cell_type": "code",
   "execution_count": 28,
   "metadata": {},
   "outputs": [],
   "source": [
    "# Loop of how this code runs\n",
    "# Constraint 1: except for the first value (year 1, day 1, hour 0), all the other values ramp up as per the previous production rate\n",
    "milp_cost.cons5 = ConstraintList()\n",
    "for i in scales.scale_iter(1):\n",
    "    if i != (0,0):\n",
    "        milp_cost.cons5.add(expr = milp_cost.P['Houston', 'Coalbed', *i] - milp_cost.P['Houston', 'Coalbed', *scales.scale_iter(1)[scales.scale_iter(1).index(i) - 1]] <= 0.05* milp_cost.P['Houston', 'Coalbed', *scales.scale_iter(1)[scales.scale_iter(1).index(i) - 1]])\n",
    "\n",
    "#Constraint 2: Ramp down\n",
    "\n",
    "milp_cost.cons6 = ConstraintList()\n",
    "for i in scales.scale_iter(1):\n",
    "    if i != (0,0):\n",
    "        milp_cost.cons6.add(milp_cost.P['Houston', 'Coalbed', *scales.scale_iter(1)[scales.scale_iter(1).index(i) - 1]] - milp_cost.P['Houston', 'Coalbed', *i] <= 0.05*milp_cost.P['Houston', 'Coalbed', *scales.scale_iter(1)[scales.scale_iter(1).index(i) - 1]])\n"
   ]
  },
  {
   "cell_type": "code",
   "execution_count": 29,
   "metadata": {},
   "outputs": [
    {
     "name": "stdout",
     "output_type": "stream",
     "text": [
      "Set parameter OutputFlag to value 1\n",
      "Set parameter QCPDual to value 1\n",
      "Gurobi Optimizer version 12.0.1 build v12.0.1rc0 (win64 - Windows 11.0 (26100.2))\n",
      "\n",
      "CPU model: 13th Gen Intel(R) Core(TM) i7-13700, instruction set [SSE2|AVX|AVX2]\n",
      "Thread count: 16 physical cores, 24 logical processors, using up to 24 threads\n",
      "\n",
      "Non-default parameters:\n",
      "QCPDual  1\n",
      "\n",
      "Optimize a model with 127842 rows, 668074 columns and 345085 nonzeros\n",
      "Model fingerprint: 0x7d72c3b9\n",
      "Variable types: 668069 continuous, 5 integer (5 binary)\n",
      "Coefficient statistics:\n",
      "  Matrix range     [7e-04, 1e+08]\n",
      "  Objective range  [1e+00, 1e+00]\n",
      "  Bounds range     [1e+00, 1e+00]\n",
      "  RHS range        [2e+05, 1e+08]\n",
      "Presolve removed 102287 rows and 657114 columns\n",
      "Presolve time: 0.08s\n",
      "Presolved: 25555 rows, 10960 columns, 63883 nonzeros\n",
      "Variable types: 10953 continuous, 7 integer (5 binary)\n",
      "Performing another presolve...\n",
      "Presolve removed 9129 rows and 5479 columns\n",
      "Presolve time: 0.04s\n",
      "\n",
      "Root relaxation: objective 3.544021e+05, 1792 iterations, 0.14 seconds (0.48 work units)\n",
      "\n",
      "    Nodes    |    Current Node    |     Objective Bounds      |     Work\n",
      " Expl Unexpl |  Obj  Depth IntInf | Incumbent    BestBd   Gap | It/Node Time\n",
      "\n",
      "*    0     0               0    354402.10968 354402.110  0.00%     -    0s\n",
      "\n",
      "Explored 1 nodes (1792 simplex iterations) in 0.40 seconds (0.82 work units)\n",
      "Thread count was 24 (of 24 available processors)\n",
      "\n",
      "Solution count 1: 354402 \n",
      "\n",
      "Optimal solution found (tolerance 1.00e-04)\n",
      "Warning: max constraint violation (3.9731e-06) exceeds tolerance\n",
      "Best objective 3.544021096786e+05, best bound 3.544021096786e+05, gap 0.0000%\n",
      "WARNING: Cannot get duals for MIP.\n"
     ]
    }
   ],
   "source": [
    "results_cost = solve(scenario=scenario, instance=milp_cost,\n",
    "                     solver='gurobi', name=f\"res_cost\", print_solversteps=True, saveformat = '.pkl')"
   ]
  },
  {
   "cell_type": "code",
   "execution_count": 30,
   "metadata": {},
   "outputs": [
    {
     "data": {
      "text/plain": [
       "354402.10967859643"
      ]
     },
     "execution_count": 30,
     "metadata": {},
     "output_type": "execute_result"
    }
   ],
   "source": [
    "results_cost.output['objective']"
   ]
  },
  {
   "cell_type": "code",
   "execution_count": 31,
   "metadata": {},
   "outputs": [
    {
     "data": {
      "text/plain": [
       "{('Houston', 0): 442151.6355425515}"
      ]
     },
     "execution_count": 31,
     "metadata": {},
     "output_type": "execute_result"
    }
   ],
   "source": [
    "results_cost.output['global_warming_potential_location']"
   ]
  },
  {
   "cell_type": "code",
   "execution_count": null,
   "metadata": {},
   "outputs": [],
   "source": [
    "4748525.212799198"
   ]
  },
  {
   "cell_type": "code",
   "execution_count": null,
   "metadata": {},
   "outputs": [],
   "source": [
    "results_cost.output['X_P']"
   ]
  },
  {
   "cell_type": "code",
   "execution_count": null,
   "metadata": {},
   "outputs": [],
   "source": [
    "results_cost.output['Cap_P']"
   ]
  },
  {
   "cell_type": "code",
   "execution_count": null,
   "metadata": {},
   "outputs": [],
   "source": [
    "results_cost.output['P']"
   ]
  },
  {
   "cell_type": "code",
   "execution_count": null,
   "metadata": {},
   "outputs": [],
   "source": [
    "results_cost.output['global_warming_potential_resource']"
   ]
  },
  {
   "cell_type": "code",
   "execution_count": null,
   "metadata": {},
   "outputs": [],
   "source": [
    "results_cost.output['global_warming_potential_resource']"
   ]
  },
  {
   "cell_type": "code",
   "execution_count": null,
   "metadata": {},
   "outputs": [],
   "source": [
    "data1 = results_cost.output['P']\n",
    "df1 = pd.DataFrame(data1,index=[0])\n",
    "df1 = df1.T\n",
    "# Export the DataFrame to an Excel file\n",
    "df1.to_excel('C:\\\\Users\\\\marcopdsousa\\\\Desktop\\\\AICHE 2025\\\\Updated_Flow_Test_MinCost_Production Data.xlsx', index=True)"
   ]
  },
  {
   "cell_type": "code",
   "execution_count": null,
   "metadata": {},
   "outputs": [],
   "source": [
    "data2 = results_cost.output['global_warming_potential_resource']\n",
    "df2 = pd.DataFrame(data2,index=[0])\n",
    "df2 = df2.T\n",
    "# Export the DataFrame to an Excel file\n",
    "df2.to_excel('C:\\\\Users\\\\marcopdsousa\\\\Desktop\\\\AICHE 2025\\\\Updated_Flow_MinCost_GWP Data.xlsx', index=True)"
   ]
  },
  {
   "cell_type": "code",
   "execution_count": 32,
   "metadata": {},
   "outputs": [
    {
     "name": "stdout",
     "output_type": "stream",
     "text": [
      "constraint process capex\n",
      "constraint process fopex\n",
      "constraint process vopex\n",
      "constraint storage capex\n",
      "constraint process incidental\n",
      "constraint location capex\n",
      "constraint storage cost\n",
      "constraint storage cost location\n",
      "constraint storage cost network\n",
      "constraint global warming potential resource\n",
      "constraint global warming potential resource consumption\n",
      "constraint global warming potential resource discharge\n",
      "constraint global warming potential location\n",
      "constraint global warming potential network\n",
      "constraint production mode\n",
      "constraint inventory balance\n",
      "constraint inventory network\n",
      "constraint demand\n",
      "constraint network cost\n",
      "objective gwp min\n"
     ]
    }
   ],
   "source": [
    "#, Constraints.MODE\n",
    "\n",
    "milp_gwp = formulate(scenario=scenario, constraints={Constraints.COST, Constraints.INVENTORY, Constraints.PRODUCTION,\n",
    "                     Constraints.RESOURCE_BALANCE, Constraints.DEMAND, Constraints.EMISSION}, objective=Objective.MIN_GWP, demand_sign = 'eq')"
   ]
  },
  {
   "cell_type": "code",
   "execution_count": null,
   "metadata": {},
   "outputs": [],
   "source": [
    "print(\"Scale 1 Indices:\", list(scales.scale_iter(1)))\n",
    "print(\"Scale 2 Indices:\", list(scales.scale_iter(2)))"
   ]
  },
  {
   "cell_type": "code",
   "execution_count": 33,
   "metadata": {},
   "outputs": [],
   "source": [
    "# P is production rate\n",
    "# Loop of how this code runs\n",
    "# Constraint 1: except for the first value (year 1, day 1, hour 0), all the other values ramp up as per the previous production rate\n",
    "milp_gwp.cons1 = ConstraintList()\n",
    "for i in scales.scale_iter(1):\n",
    "    if i != (0,0):\n",
    "        milp_gwp.cons1.add(expr = milp_gwp.P['Houston', 'Conventional_NG', *i] - milp_gwp.P['Houston', 'Conventional_NG', *scales.scale_iter(1)[scales.scale_iter(1).index(i) - 1]] <= 0.05* milp_gwp.P['Houston', 'Conventional_NG', *scales.scale_iter(1)[scales.scale_iter(1).index(i) - 1]])\n",
    "\n",
    "#Constraint 2: Ramp down\n",
    "\n",
    "milp_gwp.cons2 = ConstraintList()\n",
    "for i in scales.scale_iter(1):\n",
    "    if i != (0,0):\n",
    "        milp_gwp.cons2.add(milp_gwp.P['Houston', 'Conventional_NG', *scales.scale_iter(1)[scales.scale_iter(1).index(i) - 1]] - milp_gwp.P['Houston', 'Conventional_NG', *i] <= 0.05*milp_gwp.P['Houston', 'Conventional_NG', *scales.scale_iter(1)[scales.scale_iter(1).index(i) - 1]])\n",
    "\n",
    "# Loop of how this code runs\n",
    "# Constraint 1: except for the first value (year 1, day 1, hour 0), all the other values ramp up as per the previous production rate\n",
    "milp_gwp.cons3 = ConstraintList()\n",
    "for i in scales.scale_iter(1):\n",
    "    if i != (0,0):\n",
    "        milp_gwp.cons3.add(expr = milp_gwp.P['Houston', 'ShaleGas', *i] - milp_gwp.P['Houston', 'ShaleGas', *scales.scale_iter(1)[scales.scale_iter(1).index(i) - 1]] <= 0.05* milp_gwp.P['Houston', 'ShaleGas', *scales.scale_iter(1)[scales.scale_iter(1).index(i) - 1]])\n",
    "\n",
    "#Constraint 2: Ramp down\n",
    "\n",
    "milp_gwp.cons4 = ConstraintList()\n",
    "for i in scales.scale_iter(1):\n",
    "    if i != (0,0):\n",
    "        milp_gwp.cons4.add(milp_gwp.P['Houston', 'ShaleGas', *scales.scale_iter(1)[scales.scale_iter(1).index(i) - 1]] - milp_gwp.P['Houston', 'ShaleGas', *i] <= 0.05*milp_gwp.P['Houston', 'ShaleGas', *scales.scale_iter(1)[scales.scale_iter(1).index(i) - 1]])\n",
    "\n",
    "# Similarly:\n",
    "from pyomo.environ import ConstraintList\n",
    "\n",
    "# Loop of how this code runs\n",
    "# Constraint 1: except for the first value (year 1, day 1, hour 0), all the other values ramp up as per the previous production rate\n",
    "milp_gwp.cons5 = ConstraintList()\n",
    "for i in scales.scale_iter(1):\n",
    "    if i != (0,0):\n",
    "        milp_gwp.cons5.add(expr = milp_gwp.P['Houston', 'Coalbed', *i] - milp_gwp.P['Houston', 'Coalbed', *scales.scale_iter(1)[scales.scale_iter(1).index(i) - 1]] <= 0.05* milp_gwp.P['Houston', 'Coalbed', *scales.scale_iter(1)[scales.scale_iter(1).index(i) - 1]])\n",
    "\n",
    "#Constraint 2: Ramp down\n",
    "\n",
    "milp_gwp.cons6 = ConstraintList()\n",
    "for i in scales.scale_iter(1):\n",
    "    if i != (0,0):\n",
    "        milp_gwp.cons6.add(milp_gwp.P['Houston', 'Coalbed', *scales.scale_iter(1)[scales.scale_iter(1).index(i) - 1]] - milp_gwp.P['Houston', 'Coalbed', *i] <= 0.05*milp_gwp.P['Houston', 'Coalbed', *scales.scale_iter(1)[scales.scale_iter(1).index(i) - 1]])\n",
    "\n"
   ]
  },
  {
   "cell_type": "code",
   "execution_count": 34,
   "metadata": {},
   "outputs": [
    {
     "name": "stdout",
     "output_type": "stream",
     "text": [
      "Set parameter OutputFlag to value 1\n",
      "Set parameter QCPDual to value 1\n",
      "Gurobi Optimizer version 12.0.1 build v12.0.1rc0 (win64 - Windows 11.0 (26100.2))\n",
      "\n",
      "CPU model: 13th Gen Intel(R) Core(TM) i7-13700, instruction set [SSE2|AVX|AVX2]\n",
      "Thread count: 16 physical cores, 24 logical processors, using up to 24 threads\n",
      "\n",
      "Non-default parameters:\n",
      "QCPDual  1\n",
      "\n",
      "Optimize a model with 127838 rows, 668069 columns and 345082 nonzeros\n",
      "Model fingerprint: 0xb05cba38\n",
      "Coefficient statistics:\n",
      "  Matrix range     [7e-04, 4e+02]\n",
      "  Objective range  [1e+00, 1e+00]\n",
      "  Bounds range     [0e+00, 0e+00]\n",
      "  RHS range        [1e-03, 1e+08]\n",
      "Presolve removed 116893 rows and 662594 columns\n",
      "Presolve time: 0.13s\n",
      "Presolved: 10945 rows, 5475 columns, 41947 nonzeros\n",
      "\n",
      "Concurrent LP optimizer: primal simplex, dual simplex, and barrier\n",
      "Showing barrier log only...\n",
      "\n",
      "Ordering time: 0.00s\n",
      "\n",
      "Barrier statistics:\n",
      " AA' NZ     : 8.205e+04\n",
      " Factor NZ  : 1.477e+05 (roughly 8 MB of memory)\n",
      " Factor Ops : 2.124e+06 (less than 1 second per iteration)\n",
      " Threads    : 14\n",
      "\n",
      "                  Objective                Residual\n",
      "Iter       Primal          Dual         Primal    Dual     Compl     Time\n",
      "   0   4.60208257e+08  0.00000000e+00  1.64e+06 0.00e+00  8.72e+04     0s\n",
      "   1   7.56119221e+07 -7.78399453e+06  1.47e+05 2.27e-13  1.03e+04     0s\n",
      "   2   7.87996032e+06 -4.19257137e+06  4.59e+03 3.41e-13  7.21e+02     0s\n",
      "   3   2.32164861e+06 -1.79589943e+06  1.02e+03 2.27e-13  2.19e+02     0s\n",
      "   4   6.37173263e+05  2.52126679e+05  9.24e+01 1.71e-13  1.88e+01     0s\n",
      "   5   4.63392828e+05  3.15104275e+05  3.32e+01 1.14e-13  7.25e+00     0s\n",
      "   6   4.41799600e+05  3.30306622e+05  2.68e+01 4.55e-13  5.62e+00     0s\n",
      "   7   4.18499898e+05  3.50097069e+05  1.91e+01 8.53e-13  3.71e+00     0s\n",
      "   8   3.98084992e+05  3.67005698e+05  1.12e+01 1.53e-12  2.08e+00     0s\n",
      "   9   3.94754113e+05  3.77541730e+05  9.18e+00 1.34e-12  1.65e+00     0s\n",
      "  10   3.94818858e+05  3.86338514e+05  8.62e+00 1.59e-12  1.49e+00     0s\n",
      "  11   3.95665110e+05  3.95434600e+05  8.03e+00 1.79e-12  1.34e+00     0s\n",
      "  12   3.96380888e+05  4.03240367e+05  7.73e+00 2.77e-12  1.22e+00     0s\n",
      "  13   3.97451003e+05  4.07484506e+05  7.33e+00 2.07e-12  1.13e+00     0s\n",
      "  14   3.99268637e+05  4.08222226e+05  6.67e+00 2.66e-12  1.06e+00     0s\n",
      "  15   4.00991425e+05  4.10608256e+05  6.02e+00 2.40e-12  9.52e-01     0s\n",
      "  16   4.01962129e+05  4.11391742e+05  5.68e+00 3.64e-12  9.01e-01     0s\n",
      "  17   4.02452305e+05  4.11416051e+05  5.50e+00 3.23e-12  8.82e-01     0s\n",
      "  18   4.03147971e+05  4.11645980e+05  5.24e+00 2.59e-12  8.52e-01     0s\n",
      "  19   4.05263764e+05  4.12217406e+05  4.45e+00 2.23e-12  7.50e-01     0s\n",
      "  20   4.06606633e+05  4.12961751e+05  3.93e+00 2.83e-12  6.69e-01     0s\n",
      "  21   4.07771572e+05  4.13484335e+05  3.47e+00 2.91e-12  5.95e-01     0s\n",
      "  22   4.08736506e+05  4.13802681e+05  3.10e+00 3.44e-12  5.40e-01     0s\n",
      "  23   4.09787122e+05  4.14166931e+05  2.70e+00 2.60e-12  4.78e-01     0s\n",
      "  24   4.10563697e+05  4.14486701e+05  2.38e+00 2.77e-12  4.24e-01     0s\n",
      "  25   4.10756021e+05  4.14689498e+05  2.30e+00 3.23e-12  4.08e-01     0s\n",
      "  26   4.10906284e+05  4.14937494e+05  2.24e+00 2.79e-12  3.91e-01     0s\n",
      "  27   4.11492948e+05  4.15263488e+05  1.99e+00 2.53e-12  3.43e-01     0s\n",
      "  28   4.11580425e+05  4.15286066e+05  1.95e+00 3.02e-12  3.36e-01     0s\n",
      "  29   4.11715161e+05  4.15327957e+05  1.89e+00 3.26e-12  3.25e-01     0s\n",
      "  30   4.11971119e+05  4.15364841e+05  1.78e+00 3.07e-12  3.07e-01     0s\n",
      "  31   4.12114084e+05  4.15517159e+05  1.72e+00 3.64e-12  2.93e-01     0s\n",
      "  32   4.12312642e+05  4.15584639e+05  1.63e+00 3.38e-12  2.77e-01     0s\n",
      "  33   4.12455046e+05  4.15624584e+05  1.55e+00 4.09e-12  2.61e-01     0s\n",
      "  34   4.13059547e+05  4.15801058e+05  1.29e+00 3.44e-12  2.15e-01     0s\n",
      "  35   4.13269253e+05  4.15845992e+05  1.20e+00 3.55e-12  2.00e-01     0s\n",
      "  36   4.13343785e+05  4.15878800e+05  1.17e+00 3.02e-12  1.95e-01     0s\n",
      "  37   4.13558356e+05  4.15960636e+05  1.09e+00 2.70e-12  1.79e-01     0s\n",
      "  38   4.13736881e+05  4.16033547e+05  1.02e+00 3.03e-12  1.67e-01     0s\n",
      "  39   4.14194819e+05  4.16059646e+05  8.29e-01 2.70e-12  1.36e-01     0s\n",
      "  40   4.14609582e+05  4.16163366e+05  6.59e-01 3.20e-12  1.06e-01     0s\n",
      "  41   4.14913434e+05  4.16209380e+05  5.35e-01 2.64e-12  8.45e-02     0s\n",
      "  42   4.15101969e+05  4.16254135e+05  4.63e-01 2.36e-12  7.24e-02     0s\n",
      "  43   4.15433122e+05  4.16298140e+05  3.38e-01 2.71e-12  5.24e-02     0s\n",
      "  44   4.15584040e+05  4.16316151e+05  2.82e-01 2.21e-12  4.35e-02     0s\n",
      "  45   4.15735734e+05  4.16333328e+05  2.26e-01 2.11e-12  3.46e-02     0s\n",
      "  46   4.15901654e+05  4.16346235e+05  1.63e-01 2.28e-12  2.46e-02     0s\n",
      "  47   4.15982649e+05  4.16355055e+05  1.33e-01 2.18e-12  1.98e-02     0s\n",
      "  48   4.16069525e+05  4.16361172e+05  1.03e-01 2.70e-12  1.53e-02     0s\n",
      "  49   4.16112819e+05  4.16364430e+05  8.79e-02 2.31e-12  1.30e-02     0s\n",
      "  50   4.16153445e+05  4.16367603e+05  7.40e-02 2.32e-12  1.09e-02     0s\n",
      "  51   4.16186796e+05  4.16369426e+05  6.22e-02 2.87e-12  9.10e-03     0s\n",
      "  52   4.16223584e+05  4.16372143e+05  4.95e-02 1.97e-12  7.19e-03     0s\n",
      "  53   4.16257432e+05  4.16373890e+05  3.84e-02 2.37e-12  5.56e-03     0s\n",
      "  54   4.16285515e+05  4.16375270e+05  2.95e-02 2.53e-12  4.28e-03     0s\n",
      "  55   4.16304975e+05  4.16375999e+05  2.32e-02 2.61e-12  3.36e-03     0s\n",
      "  56   4.16319061e+05  4.16376693e+05  1.86e-02 1.85e-12  2.70e-03     0s\n",
      "  57   4.16337282e+05  4.16377279e+05  1.27e-02 2.45e-12  1.83e-03     0s\n",
      "  58   4.16351739e+05  4.16378084e+05  8.09e-03 1.95e-12  1.14e-03     0s\n",
      "  59   4.16359015e+05  4.16378391e+05  5.84e-03 1.98e-12  8.13e-04     0s\n",
      "  60   4.16362617e+05  4.16378482e+05  4.76e-03 3.32e-12  6.62e-04     0s\n",
      "  61   4.16365801e+05  4.16378589e+05  3.81e-03 2.52e-12  5.31e-04     0s\n",
      "  62   4.16369721e+05  4.16378704e+05  2.66e-03 3.20e-12  3.69e-04     0s\n",
      "  63   4.16371867e+05  4.16378757e+05  2.02e-03 2.36e-12  2.81e-04     0s\n",
      "  64   4.16374330e+05  4.16378812e+05  1.31e-03 2.38e-12  1.82e-04     0s\n",
      "  65   4.16375642e+05  4.16378844e+05  9.16e-04 2.24e-12  1.27e-04     0s\n",
      "  66   4.16376255e+05  4.16378872e+05  7.44e-04 3.64e-12  1.03e-04     0s\n",
      "  67   4.16377081e+05  4.16378880e+05  5.18e-04 3.64e-12  7.31e-05     0s\n",
      "  68   4.16377287e+05  4.16378903e+05  4.62e-04 2.42e-12  6.50e-05     0s\n",
      "  69   4.16377555e+05  4.16378907e+05  3.88e-04 2.97e-12  5.48e-05     0s\n",
      "  70   4.16377864e+05  4.16378921e+05  3.01e-04 2.47e-12  4.24e-05     0s\n",
      "  71   4.16378096e+05  4.16378935e+05  2.37e-04 1.54e-11  3.32e-05     0s\n",
      "  72   4.16378360e+05  4.16378945e+05  1.64e-04 5.42e-12  2.30e-05     0s\n",
      "  73   4.16378545e+05  4.16378950e+05  1.14e-04 5.59e-12  1.60e-05     0s\n",
      "  74   4.16378710e+05  4.16378954e+05  6.81e-05 2.90e-12  9.70e-06     0s\n",
      "  75   4.16378740e+05  4.16378955e+05  5.99e-05 4.12e-12  8.54e-06     0s\n",
      "  76   4.16378781e+05  4.16378955e+05  4.87e-05 8.49e-12  6.95e-06     0s\n",
      "  77   4.16378804e+05  4.16378956e+05  4.25e-05 5.72e-12  6.08e-06     0s\n",
      "  78   4.16378824e+05  4.16378957e+05  3.73e-05 6.10e-12  5.33e-06     0s\n",
      "  79   4.16378838e+05  4.16378957e+05  3.34e-05 3.11e-12  4.77e-06     0s\n",
      "  80   4.16378853e+05  4.16378958e+05  2.93e-05 2.66e-12  4.19e-06     0s\n",
      "  81   4.16378898e+05  4.16378960e+05  1.73e-05 2.29e-12  2.48e-06     0s\n",
      "  82   4.16378904e+05  4.16378960e+05  1.55e-05 3.13e-12  2.22e-06     0s\n",
      "  83   4.16378914e+05  4.16378960e+05  1.29e-05 2.85e-12  1.86e-06     0s\n",
      "  84   4.16378920e+05  4.16378961e+05  1.13e-05 9.35e-12  1.65e-06     0s\n",
      "  85   4.16378929e+05  4.16378961e+05  9.00e-06 3.14e-12  1.31e-06     0s\n",
      "  86   4.16378932e+05  4.16378961e+05  8.23e-06 5.58e-12  1.18e-06     0s\n",
      "  87   4.16378938e+05  4.16378962e+05  6.69e-06 2.52e-12  9.58e-07     0s\n",
      "  88   4.16378942e+05  4.16378962e+05  5.52e-06 5.22e-12  7.96e-07     0s\n",
      "  89   4.16378944e+05  4.16378962e+05  4.98e-06 9.77e-12  7.25e-07     0s\n",
      "  90   4.16378950e+05  4.16378963e+05  3.42e-06 2.82e-12  4.86e-07     1s\n",
      "  91   4.16378951e+05  4.16378963e+05  3.15e-06 3.86e-12  4.51e-07     1s\n",
      "  92   4.16378953e+05  4.16378963e+05  2.74e-06 3.29e-12  3.88e-07     1s\n",
      "  93   4.16378955e+05  4.16378963e+05  2.18e-06 6.71e-12  3.08e-07     1s\n",
      "  94   4.16378957e+05  4.16378963e+05  1.77e-06 6.79e-12  2.44e-07     1s\n",
      "  95   4.16378958e+05  4.16378963e+05  1.48e-06 2.47e-12  2.06e-07     1s\n",
      "  96   4.16378959e+05  4.16378964e+05  1.16e-06 2.20e-12  1.63e-07     1s\n",
      "\n",
      "Barrier solved model in 96 iterations and 0.52 seconds (0.58 work units)\n",
      "Optimal objective 4.16378959e+05\n",
      "\n",
      "Crossover log...\n",
      "\n",
      "    9255 DPushes remaining with DInf 0.0000000e+00                 1s\n",
      "       0 DPushes remaining with DInf 0.0000000e+00                 1s\n",
      "\n",
      "      11 PPushes remaining with PInf 2.0980916e-04                 1s\n",
      "       0 PPushes remaining with PInf 1.0662231e-04                 1s\n",
      "\n",
      "  Push phase complete: Pinf 1.0662231e-04, Dinf 2.2589995e+03      1s\n",
      "\n",
      "Iteration    Objective       Primal Inf.    Dual Inf.      Time\n",
      "    6360    4.1637895e+05   0.000000e+00   2.259000e+03      1s\n",
      "\n",
      "Solved with barrier\n",
      "Extra simplex iterations after uncrush: 1123\n",
      "    7708    4.1637896e+05   0.000000e+00   0.000000e+00      1s\n",
      "\n",
      "Solved in 7708 iterations and 1.49 seconds (2.90 work units)\n",
      "Optimal objective  4.163789638e+05\n"
     ]
    }
   ],
   "source": [
    "results_gwp = solve(scenario=scenario, instance=milp_gwp,\n",
    "                     solver='gurobi', name=f\"res_gwp\", print_solversteps=True, saveformat = '.pkl')\n"
   ]
  },
  {
   "cell_type": "code",
   "execution_count": 35,
   "metadata": {},
   "outputs": [
    {
     "data": {
      "text/plain": [
       "{('Houston', 0): 416378.96383391233}"
      ]
     },
     "execution_count": 35,
     "metadata": {},
     "output_type": "execute_result"
    }
   ],
   "source": [
    "results_gwp.output['global_warming_potential_location']"
   ]
  },
  {
   "cell_type": "code",
   "execution_count": 36,
   "metadata": {},
   "outputs": [
    {
     "data": {
      "text/plain": [
       "{None: 490855802.8437262}"
      ]
     },
     "execution_count": 36,
     "metadata": {},
     "output_type": "execute_result"
    }
   ],
   "source": [
    "results_gwp.output['Cost']"
   ]
  },
  {
   "cell_type": "code",
   "execution_count": null,
   "metadata": {},
   "outputs": [],
   "source": [
    "results_gwp.output['Cap_P']"
   ]
  },
  {
   "cell_type": "code",
   "execution_count": null,
   "metadata": {},
   "outputs": [],
   "source": [
    "data = results_gwp.output['global_warming_potential_resource']\n",
    "df = pd.DataFrame(data,index=[0])\n",
    "df = df.T\n",
    "# Export the DataFrame to an Excel file\n",
    "df.to_excel('C:\\\\Users\\\\marcopdsousa\\\\Desktop\\\\AICHE 2025\\\\Updated_Flow_Test_MinGWP_ResourceEmission.xlsx', index=True)"
   ]
  },
  {
   "cell_type": "code",
   "execution_count": null,
   "metadata": {},
   "outputs": [],
   "source": [
    "results_gwp.output['global_warming_potential_resource']"
   ]
  },
  {
   "cell_type": "code",
   "execution_count": null,
   "metadata": {},
   "outputs": [],
   "source": [
    "results_cost.output['P_network']"
   ]
  },
  {
   "cell_type": "code",
   "execution_count": null,
   "metadata": {},
   "outputs": [],
   "source": [
    "results_gwp.output['P_network']"
   ]
  },
  {
   "cell_type": "code",
   "execution_count": null,
   "metadata": {},
   "outputs": [],
   "source": [
    "results_gwp.output['Cost']"
   ]
  },
  {
   "cell_type": "code",
   "execution_count": null,
   "metadata": {},
   "outputs": [],
   "source": [
    "data = results_gwp.output['P']\n",
    "df = pd.DataFrame(data,index=[0])\n",
    "df = df.T\n",
    "# Export the DataFrame to an Excel file\n",
    "df.to_excel('C:\\\\Users\\\\marcopdsousa\\\\Desktop\\\\AICHE 2025\\\\Updated_Flow_Test_MinGWP_ProductionData.xlsx', index=True)"
   ]
  },
  {
   "cell_type": "markdown",
   "metadata": {},
   "source": [
    "Emission Restrictions by 10%"
   ]
  },
  {
   "cell_type": "code",
   "execution_count": null,
   "metadata": {},
   "outputs": [],
   "source": [
    "results_cost.output['global_warming_potential_network'][0]"
   ]
  },
  {
   "cell_type": "code",
   "execution_count": null,
   "metadata": {},
   "outputs": [],
   "source": [
    "milp_gwp_10 = formulate(scenario=scenario, constraints={Constraints.COST, Constraints.INVENTORY, Constraints.PRODUCTION,\n",
    "                     Constraints.RESOURCE_BALANCE, Constraints.NETWORK, Constraints.DEMAND, Constraints.EMISSION}, objective=Objective.COST, demand_sign = 'eq')\n",
    "\n",
    "from src.energiapy.model.constraints.emission import constraint_global_warming_potential_network_reduction\n",
    "constraint_global_warming_potential_network_reduction(instance= milp_gwp_10, gwp_reduction_pct = 10, gwp = results_cost.output['global_warming_potential_network'][0])"
   ]
  },
  {
   "cell_type": "code",
   "execution_count": null,
   "metadata": {},
   "outputs": [],
   "source": [
    "# P is production rate\n",
    "# Loop of how this code runs\n",
    "# Constraint 1: except for the first value (year 1, day 1, hour 0), all the other values ramp up as per the previous production rate\n",
    "milp_gwp_10.cons1 = ConstraintList()\n",
    "for i in scales.scale_iter(2):\n",
    "    if i != (0,0,0):\n",
    "        milp_gwp_10.cons1.add(expr = milp_gwp_10.P['Houston', 'Conventional_NG', *i] - milp_gwp_10.P['Houston', 'Conventional_NG', *scales.scale_iter(2)[scales.scale_iter(2).index(i) - 1]] <= 0.05* milp_gwp_10.P['Houston', 'Conventional_NG', *scales.scale_iter(2)[scales.scale_iter(2).index(i) - 1]])\n",
    "\n",
    "#Constraint 2: Ramp down\n",
    "\n",
    "milp_gwp_10.cons2 = ConstraintList()\n",
    "for i in scales.scale_iter(2):\n",
    "    if i != (0,0,0):\n",
    "        milp_gwp_10.cons2.add(milp_gwp_10.P['Houston', 'Conventional_NG', *scales.scale_iter(2)[scales.scale_iter(2).index(i) - 1]] - milp_gwp_10.P['Houston', 'Conventional_NG', *i] <= 0.05*milp_gwp_10.P['Houston', 'Conventional_NG', *scales.scale_iter(2)[scales.scale_iter(2).index(i) - 1]])\n",
    "\n",
    "# Loop of how this code runs\n",
    "# Constraint 1: except for the first value (year 1, day 1, hour 0), all the other values ramp up as per the previous production rate\n",
    "milp_gwp_10.cons3 = ConstraintList()\n",
    "for i in scales.scale_iter(2):\n",
    "    if i != (0,0,0):\n",
    "        milp_gwp_10.cons3.add(expr = milp_gwp_10.P['Houston', 'ShaleGas', *i] - milp_gwp_10.P['Houston', 'ShaleGas', *scales.scale_iter(2)[scales.scale_iter(2).index(i) - 1]] <= 0.05* milp_gwp_10.P['Houston', 'ShaleGas', *scales.scale_iter(2)[scales.scale_iter(2).index(i) - 1]])\n",
    "\n",
    "#Constraint 2: Ramp down\n",
    "\n",
    "milp_gwp_10.cons4 = ConstraintList()\n",
    "for i in scales.scale_iter(2):\n",
    "    if i != (0,0,0):\n",
    "        milp_gwp_10.cons4.add(milp_gwp_10.P['Houston', 'ShaleGas', *scales.scale_iter(2)[scales.scale_iter(2).index(i) - 1]] - milp_gwp_10.P['Houston', 'ShaleGas', *i] <= 0.05*milp_gwp_10.P['Houston', 'ShaleGas', *scales.scale_iter(2)[scales.scale_iter(2).index(i) - 1]])\n",
    "\n",
    "# Similarly:\n",
    "from pyomo.environ import ConstraintList\n",
    "\n",
    "# Loop of how this code runs\n",
    "# Constraint 1: except for the first value (year 1, day 1, hour 0), all the other values ramp up as per the previous production rate\n",
    "milp_gwp_10.cons5 = ConstraintList()\n",
    "for i in scales.scale_iter(2):\n",
    "    if i != (0,0,0):\n",
    "        milp_gwp_10.cons5.add(expr = milp_gwp_10.P['Houston', 'Coalbed', *i] - milp_gwp_10.P['Houston', 'Coalbed', *scales.scale_iter(2)[scales.scale_iter(2).index(i) - 1]] <= 0.05* milp_gwp_10.P['Houston', 'Coalbed', *scales.scale_iter(2)[scales.scale_iter(2).index(i) - 1]])\n",
    "\n",
    "#Constraint 2: Ramp down\n",
    "\n",
    "milp_gwp_10.cons6 = ConstraintList()\n",
    "for i in scales.scale_iter(2):\n",
    "    if i != (0,0,0):\n",
    "        milp_gwp_10.cons6.add(milp_gwp_10.P['Houston', 'Coalbed', *scales.scale_iter(2)[scales.scale_iter(2).index(i) - 1]] - milp_gwp_10.P['Houston', 'Coalbed', *i] <= 0.05*milp_gwp_10.P['Houston', 'Coalbed', *scales.scale_iter(2)[scales.scale_iter(2).index(i) - 1]])"
   ]
  },
  {
   "cell_type": "code",
   "execution_count": null,
   "metadata": {},
   "outputs": [],
   "source": [
    "results_gwp_10 = solve(scenario=scenario, instance=milp_gwp_10,\n",
    "                     solver='gurobi', name=f\"res_gwp\", print_solversteps=True, saveformat = '.pkl')\n"
   ]
  },
  {
   "cell_type": "code",
   "execution_count": null,
   "metadata": {},
   "outputs": [],
   "source": [
    "results_gwp_10.output['objective']"
   ]
  },
  {
   "cell_type": "code",
   "execution_count": null,
   "metadata": {},
   "outputs": [],
   "source": [
    "results_gwp_10.output['global_warming_potential_resource']"
   ]
  },
  {
   "cell_type": "code",
   "execution_count": null,
   "metadata": {},
   "outputs": [],
   "source": [
    "results_gwp_10.output['global_warming_potential_location']"
   ]
  },
  {
   "cell_type": "code",
   "execution_count": null,
   "metadata": {},
   "outputs": [],
   "source": [
    "results_gwp_10.output['B_location']\n",
    "#What is B,C location?"
   ]
  },
  {
   "cell_type": "code",
   "execution_count": null,
   "metadata": {},
   "outputs": [],
   "source": [
    "# Not sure why\n",
    "results_gwp_10.output['P']"
   ]
  },
  {
   "cell_type": "markdown",
   "metadata": {},
   "source": [
    "20% Emission Restrictions"
   ]
  },
  {
   "cell_type": "code",
   "execution_count": null,
   "metadata": {},
   "outputs": [],
   "source": [
    "milp_gwp_20 = formulate(scenario=scenario, constraints={Constraints.COST, Constraints.INVENTORY, Constraints.PRODUCTION,\n",
    "                     Constraints.RESOURCE_BALANCE, Constraints.NETWORK, Constraints.DEMAND, Constraints.EMISSION}, objective=Objective.COST, demand_sign = 'eq')\n",
    "\n",
    "constraint_global_warming_potential_network_reduction(instance= milp_gwp_20, gwp_reduction_pct = 20, gwp = results_cost.output['global_warming_potential_network'][0])"
   ]
  },
  {
   "cell_type": "code",
   "execution_count": null,
   "metadata": {},
   "outputs": [],
   "source": [
    "# P is production rate\n",
    "# Loop of how this code runs\n",
    "# Constraint 1: except for the first value (year 1, day 1, hour 0), all the other values ramp up as per the previous production rate\n",
    "milp_gwp_20.cons1 = ConstraintList()\n",
    "for i in scales.scale_iter(2):\n",
    "    if i != (0,0,0):\n",
    "        milp_gwp_20.cons1.add(expr = milp_gwp_20.P['Houston', 'Conventional_NG', *i] - milp_gwp_20.P['Houston', 'Conventional_NG', *scales.scale_iter(2)[scales.scale_iter(2).index(i) - 1]] <= 0.05* milp_gwp_20.P['Houston', 'Conventional_NG', *scales.scale_iter(2)[scales.scale_iter(2).index(i) - 1]])\n",
    "\n",
    "#Constraint 2: Ramp down\n",
    "\n",
    "milp_gwp_20.cons2 = ConstraintList()\n",
    "for i in scales.scale_iter(2):\n",
    "    if i != (0,0,0):\n",
    "        milp_gwp_20.cons2.add(milp_gwp_20.P['Houston', 'Conventional_NG', *scales.scale_iter(2)[scales.scale_iter(2).index(i) - 1]] - milp_gwp_20.P['Houston', 'Conventional_NG', *i] <= 0.05*milp_gwp_20.P['Houston', 'Conventional_NG', *scales.scale_iter(2)[scales.scale_iter(2).index(i) - 1]])\n",
    "\n",
    "# Loop of how this code runs\n",
    "# Constraint 1: except for the first value (year 1, day 1, hour 0), all the other values ramp up as per the previous production rate\n",
    "milp_gwp_20.cons3 = ConstraintList()\n",
    "for i in scales.scale_iter(2):\n",
    "    if i != (0,0,0):\n",
    "        milp_gwp_20.cons3.add(expr = milp_gwp_20.P['Houston', 'ShaleGas', *i] - milp_gwp_20.P['Houston', 'ShaleGas', *scales.scale_iter(2)[scales.scale_iter(2).index(i) - 1]] <= 0.05* milp_gwp_20.P['Houston', 'ShaleGas', *scales.scale_iter(2)[scales.scale_iter(2).index(i) - 1]])\n",
    "\n",
    "#Constraint 2: Ramp down\n",
    "\n",
    "milp_gwp_20.cons4 = ConstraintList()\n",
    "for i in scales.scale_iter(2):\n",
    "    if i != (0,0,0):\n",
    "        milp_gwp_20.cons4.add(milp_gwp_20.P['Houston', 'ShaleGas', *scales.scale_iter(2)[scales.scale_iter(2).index(i) - 1]] - milp_gwp_20.P['Houston', 'ShaleGas', *i] <= 0.05*milp_gwp_20.P['Houston', 'ShaleGas', *scales.scale_iter(2)[scales.scale_iter(2).index(i) - 1]])\n",
    "\n",
    "# Similarly:\n",
    "from pyomo.environ import ConstraintList\n",
    "\n",
    "# Loop of how this code runs\n",
    "# Constraint 1: except for the first value (year 1, day 1, hour 0), all the other values ramp up as per the previous production rate\n",
    "milp_gwp_20.cons5 = ConstraintList()\n",
    "for i in scales.scale_iter(2):\n",
    "    if i != (0,0,0):\n",
    "        milp_gwp_20.cons5.add(expr = milp_gwp_20.P['Houston', 'Coalbed', *i] - milp_gwp_20.P['Houston', 'Coalbed', *scales.scale_iter(2)[scales.scale_iter(2).index(i) - 1]] <= 0.05* milp_gwp_20.P['Houston', 'Coalbed', *scales.scale_iter(2)[scales.scale_iter(2).index(i) - 1]])\n",
    "\n",
    "#Constraint 2: Ramp down\n",
    "\n",
    "milp_gwp_20.cons6 = ConstraintList()\n",
    "for i in scales.scale_iter(2):\n",
    "    if i != (0,0,0):\n",
    "        milp_gwp_20.cons6.add(milp_gwp_20.P['Houston', 'Coalbed', *scales.scale_iter(2)[scales.scale_iter(2).index(i) - 1]] - milp_gwp_20.P['Houston', 'Coalbed', *i] <= 0.05*milp_gwp_20.P['Houston', 'Coalbed', *scales.scale_iter(2)[scales.scale_iter(2).index(i) - 1]])\n",
    "\n"
   ]
  },
  {
   "cell_type": "code",
   "execution_count": null,
   "metadata": {},
   "outputs": [],
   "source": [
    "results_gwp_20 = solve(scenario=scenario, instance=milp_gwp_20,\n",
    "                     solver='gurobi', name=f\"res_gwp\", print_solversteps=True, saveformat = '.pkl')\n"
   ]
  },
  {
   "cell_type": "code",
   "execution_count": null,
   "metadata": {},
   "outputs": [],
   "source": [
    "results_gwp_20.output['objective']"
   ]
  },
  {
   "cell_type": "code",
   "execution_count": null,
   "metadata": {},
   "outputs": [],
   "source": [
    "results_gwp_20.output['Vopex_location']"
   ]
  },
  {
   "cell_type": "code",
   "execution_count": null,
   "metadata": {},
   "outputs": [],
   "source": [
    "results_gwp_20.output['global_warming_potential_location']"
   ]
  },
  {
   "cell_type": "code",
   "execution_count": null,
   "metadata": {},
   "outputs": [],
   "source": [
    "results_gwp_20.output['global_warming_potential_resource']"
   ]
  },
  {
   "cell_type": "code",
   "execution_count": null,
   "metadata": {},
   "outputs": [],
   "source": [
    "results_gwp_20.output['P']"
   ]
  },
  {
   "cell_type": "markdown",
   "metadata": {},
   "source": [
    "30% emission restrictions"
   ]
  },
  {
   "cell_type": "code",
   "execution_count": null,
   "metadata": {},
   "outputs": [],
   "source": [
    "milp_gwp_30 = formulate(scenario=scenario, constraints={Constraints.COST, Constraints.INVENTORY, Constraints.PRODUCTION,\n",
    "                     Constraints.RESOURCE_BALANCE, Constraints.NETWORK, Constraints.DEMAND, Constraints.EMISSION}, objective=Objective.COST, demand_sign = 'eq')\n",
    "\n",
    "constraint_global_warming_potential_network_reduction(instance= milp_gwp_30, gwp_reduction_pct = 30, gwp = results_cost.output['global_warming_potential_network'][0])"
   ]
  },
  {
   "cell_type": "code",
   "execution_count": null,
   "metadata": {},
   "outputs": [],
   "source": [
    "# P is production rate\n",
    "# Loop of how this code runs\n",
    "# Constraint 1: except for the first value (year 1, day 1, hour 0), all the other values ramp up as per the previous production rate\n",
    "milp_gwp_30.cons1 = ConstraintList()\n",
    "for i in scales.scale_iter(2):\n",
    "    if i != (0,0,0):\n",
    "        milp_gwp_30.cons1.add(expr = milp_gwp_30.P['Houston', 'Conventional_NG', *i] - milp_gwp_30.P['Houston', 'Conventional_NG', *scales.scale_iter(2)[scales.scale_iter(2).index(i) - 1]] <= 0.05* milp_gwp_30.P['Houston', 'Conventional_NG', *scales.scale_iter(2)[scales.scale_iter(2).index(i) - 1]])\n",
    "\n",
    "#Constraint 2: Ramp down\n",
    "\n",
    "milp_gwp_30.cons2 = ConstraintList()\n",
    "for i in scales.scale_iter(2):\n",
    "    if i != (0,0,0):\n",
    "        milp_gwp_30.cons2.add(milp_gwp_30.P['Houston', 'Conventional_NG', *scales.scale_iter(2)[scales.scale_iter(2).index(i) - 1]] - milp_gwp_30.P['Houston', 'Conventional_NG', *i] <= 0.05*milp_gwp_30.P['Houston', 'Conventional_NG', *scales.scale_iter(2)[scales.scale_iter(2).index(i) - 1]])\n",
    "\n",
    "# Loop of how this code runs\n",
    "# Constraint 1: except for the first value (year 1, day 1, hour 0), all the other values ramp up as per the previous production rate\n",
    "milp_gwp_30.cons3 = ConstraintList()\n",
    "for i in scales.scale_iter(2):\n",
    "    if i != (0,0,0):\n",
    "        milp_gwp_30.cons3.add(expr = milp_gwp_30.P['Houston', 'ShaleGas', *i] - milp_gwp_30.P['Houston', 'ShaleGas', *scales.scale_iter(2)[scales.scale_iter(2).index(i) - 1]] <= 0.05* milp_gwp_30.P['Houston', 'ShaleGas', *scales.scale_iter(2)[scales.scale_iter(2).index(i) - 1]])\n",
    "\n",
    "#Constraint 2: Ramp down\n",
    "\n",
    "milp_gwp_30.cons4 = ConstraintList()\n",
    "for i in scales.scale_iter(2):\n",
    "    if i != (0,0,0):\n",
    "        milp_gwp_30.cons4.add(milp_gwp_30.P['Houston', 'ShaleGas', *scales.scale_iter(2)[scales.scale_iter(2).index(i) - 1]] - milp_gwp_30.P['Houston', 'ShaleGas', *i] <= 0.05*milp_gwp_30.P['Houston', 'ShaleGas', *scales.scale_iter(2)[scales.scale_iter(2).index(i) - 1]])\n",
    "\n",
    "# Similarly:\n",
    "from pyomo.environ import ConstraintList\n",
    "\n",
    "# Loop of how this code runs\n",
    "# Constraint 1: except for the first value (year 1, day 1, hour 0), all the other values ramp up as per the previous production rate\n",
    "milp_gwp_30.cons5 = ConstraintList()\n",
    "for i in scales.scale_iter(2):\n",
    "    if i != (0,0,0):\n",
    "        milp_gwp_30.cons5.add(expr = milp_gwp_30.P['Houston', 'Coalbed', *i] - milp_gwp_30.P['Houston', 'Coalbed', *scales.scale_iter(2)[scales.scale_iter(2).index(i) - 1]] <= 0.05* milp_gwp_30.P['Houston', 'Coalbed', *scales.scale_iter(2)[scales.scale_iter(2).index(i) - 1]])\n",
    "\n",
    "#Constraint 2: Ramp down\n",
    "\n",
    "milp_gwp_30.cons6 = ConstraintList()\n",
    "for i in scales.scale_iter(2):\n",
    "    if i != (0,0,0):\n",
    "        milp_gwp_30.cons6.add(milp_gwp_30.P['Houston', 'Coalbed', *scales.scale_iter(2)[scales.scale_iter(2).index(i) - 1]] - milp_gwp_30.P['Houston', 'Coalbed', *i] <= 0.05*milp_gwp_30.P['Houston', 'Coalbed', *scales.scale_iter(2)[scales.scale_iter(2).index(i) - 1]])"
   ]
  },
  {
   "cell_type": "code",
   "execution_count": null,
   "metadata": {},
   "outputs": [],
   "source": [
    "results_gwp_30 = solve(scenario=scenario, instance=milp_gwp_30,\n",
    "                     solver='gurobi', name=f\"res_gwp\", print_solversteps=True, saveformat = '.pkl')"
   ]
  },
  {
   "cell_type": "code",
   "execution_count": null,
   "metadata": {},
   "outputs": [],
   "source": [
    "results_gwp_30.output['objective']"
   ]
  },
  {
   "cell_type": "code",
   "execution_count": null,
   "metadata": {},
   "outputs": [],
   "source": [
    "results_gwp_30.output['P']"
   ]
  },
  {
   "cell_type": "code",
   "execution_count": null,
   "metadata": {},
   "outputs": [],
   "source": [
    "results_gwp_30.output['global_warming_potential_resource']"
   ]
  },
  {
   "cell_type": "code",
   "execution_count": null,
   "metadata": {},
   "outputs": [],
   "source": [
    "results_gwp_30.output['global_warming_potential_location']"
   ]
  },
  {
   "cell_type": "markdown",
   "metadata": {},
   "source": [
    "40% Emission reduction"
   ]
  },
  {
   "cell_type": "code",
   "execution_count": null,
   "metadata": {},
   "outputs": [],
   "source": [
    "milp_gwp_40 = formulate(scenario=scenario, constraints={Constraints.COST, Constraints.INVENTORY, Constraints.PRODUCTION,\n",
    "                     Constraints.RESOURCE_BALANCE, Constraints.NETWORK, Constraints.DEMAND, Constraints.EMISSION}, objective=Objective.COST, demand_sign = 'eq')\n",
    "\n",
    "constraint_global_warming_potential_network_reduction(instance= milp_gwp_40, gwp_reduction_pct = 40, gwp = results_cost.output['global_warming_potential_network'][0])"
   ]
  },
  {
   "cell_type": "code",
   "execution_count": null,
   "metadata": {},
   "outputs": [],
   "source": [
    "# P is production rate\n",
    "# Loop of how this code runs\n",
    "# Constraint 1: except for the first value (year 1, day 1, hour 0), all the other values ramp up as per the previous production rate\n",
    "milp_gwp_40.cons1 = ConstraintList()\n",
    "for i in scales.scale_iter(2):\n",
    "    if i != (0,0,0):\n",
    "        milp_gwp_40.cons1.add(expr = milp_gwp_40.P['Houston', 'Conventional_NG', *i] - milp_gwp_40.P['Houston', 'Conventional_NG', *scales.scale_iter(2)[scales.scale_iter(2).index(i) - 1]] <= 0.05* milp_gwp_40.P['Houston', 'Conventional_NG', *scales.scale_iter(2)[scales.scale_iter(2).index(i) - 1]])\n",
    "\n",
    "#Constraint 2: Ramp down\n",
    "\n",
    "milp_gwp_40.cons2 = ConstraintList()\n",
    "for i in scales.scale_iter(2):\n",
    "    if i != (0,0,0):\n",
    "        milp_gwp_40.cons2.add(milp_gwp_40.P['Houston', 'Conventional_NG', *scales.scale_iter(2)[scales.scale_iter(2).index(i) - 1]] - milp_gwp_40.P['Houston', 'Conventional_NG', *i] <= 0.05*milp_gwp_40.P['Houston', 'Conventional_NG', *scales.scale_iter(2)[scales.scale_iter(2).index(i) - 1]])\n",
    "\n",
    "# Loop of how this code runs\n",
    "# Constraint 1: except for the first value (year 1, day 1, hour 0), all the other values ramp up as per the previous production rate\n",
    "milp_gwp_40.cons3 = ConstraintList()\n",
    "for i in scales.scale_iter(2):\n",
    "    if i != (0,0,0):\n",
    "        milp_gwp_40.cons3.add(expr = milp_gwp_40.P['Houston', 'ShaleGas', *i] - milp_gwp_40.P['Houston', 'ShaleGas', *scales.scale_iter(2)[scales.scale_iter(2).index(i) - 1]] <= 0.05* milp_gwp_40.P['Houston', 'ShaleGas', *scales.scale_iter(2)[scales.scale_iter(2).index(i) - 1]])\n",
    "\n",
    "#Constraint 2: Ramp down\n",
    "\n",
    "milp_gwp_40.cons4 = ConstraintList()\n",
    "for i in scales.scale_iter(2):\n",
    "    if i != (0,0,0):\n",
    "        milp_gwp_40.cons4.add(milp_gwp_40.P['Houston', 'ShaleGas', *scales.scale_iter(2)[scales.scale_iter(2).index(i) - 1]] - milp_gwp_40.P['Houston', 'ShaleGas', *i] <= 0.05*milp_gwp_40.P['Houston', 'ShaleGas', *scales.scale_iter(2)[scales.scale_iter(2).index(i) - 1]])\n",
    "\n",
    "# Similarly:\n",
    "from pyomo.environ import ConstraintList\n",
    "\n",
    "# Loop of how this code runs\n",
    "# Constraint 1: except for the first value (year 1, day 1, hour 0), all the other values ramp up as per the previous production rate\n",
    "milp_gwp_40.cons5 = ConstraintList()\n",
    "for i in scales.scale_iter(2):\n",
    "    if i != (0,0,0):\n",
    "        milp_gwp_40.cons5.add(expr = milp_gwp_40.P['Houston', 'Coalbed', *i] - milp_gwp_40.P['Houston', 'Coalbed', *scales.scale_iter(2)[scales.scale_iter(2).index(i) - 1]] <= 0.05* milp_gwp_40.P['Houston', 'Coalbed', *scales.scale_iter(2)[scales.scale_iter(2).index(i) - 1]])\n",
    "\n",
    "#Constraint 2: Ramp down\n",
    "\n",
    "milp_gwp_40.cons6 = ConstraintList()\n",
    "for i in scales.scale_iter(2):\n",
    "    if i != (0,0,0):\n",
    "        milp_gwp_40.cons6.add(milp_gwp_40.P['Houston', 'Coalbed', *scales.scale_iter(2)[scales.scale_iter(2).index(i) - 1]] - milp_gwp_40.P['Houston', 'Coalbed', *i] <= 0.05*milp_gwp_40.P['Houston', 'Coalbed', *scales.scale_iter(2)[scales.scale_iter(2).index(i) - 1]])"
   ]
  },
  {
   "cell_type": "code",
   "execution_count": null,
   "metadata": {},
   "outputs": [],
   "source": [
    "results_gwp_40 = solve(scenario=scenario, instance=milp_gwp_40,\n",
    "                     solver='gurobi', name=f\"res_gwp\", print_solversteps=True, saveformat = '.pkl')"
   ]
  },
  {
   "cell_type": "code",
   "execution_count": null,
   "metadata": {},
   "outputs": [],
   "source": [
    "results_gwp_40.output['objective']"
   ]
  },
  {
   "cell_type": "code",
   "execution_count": null,
   "metadata": {},
   "outputs": [],
   "source": [
    "results_gwp_40.output['P']"
   ]
  },
  {
   "cell_type": "code",
   "execution_count": null,
   "metadata": {},
   "outputs": [],
   "source": [
    "results_gwp_40.output['global_warming_potential_resource']"
   ]
  },
  {
   "cell_type": "code",
   "execution_count": null,
   "metadata": {},
   "outputs": [],
   "source": [
    "results_gwp_40.output['global_warming_potential_location']"
   ]
  },
  {
   "cell_type": "markdown",
   "metadata": {},
   "source": [
    "50% Emission Restriction"
   ]
  },
  {
   "cell_type": "code",
   "execution_count": null,
   "metadata": {},
   "outputs": [],
   "source": [
    "milp_gwp_50 = formulate(scenario=scenario, constraints={Constraints.COST, Constraints.INVENTORY, Constraints.PRODUCTION,\n",
    "                     Constraints.RESOURCE_BALANCE, Constraints.NETWORK, Constraints.DEMAND, Constraints.EMISSION}, objective=Objective.COST, demand_sign = 'eq')\n",
    "\n",
    "constraint_global_warming_potential_network_reduction(instance= milp_gwp_50, gwp_reduction_pct = 50, gwp = results_cost.output['global_warming_potential_network'][0])"
   ]
  },
  {
   "cell_type": "code",
   "execution_count": null,
   "metadata": {},
   "outputs": [],
   "source": [
    "# P is production rate\n",
    "# Loop of how this code runs\n",
    "# Constraint 1: except for the first value (year 1, day 1, hour 0), all the other values ramp up as per the previous production rate\n",
    "milp_gwp_50.cons1 = ConstraintList()\n",
    "for i in scales.scale_iter(2):\n",
    "    if i != (0,0,0):\n",
    "        milp_gwp_50.cons1.add(expr = milp_gwp_50.P['Houston', 'Conventional_NG', *i] - milp_gwp_50.P['Houston', 'Conventional_NG', *scales.scale_iter(2)[scales.scale_iter(2).index(i) - 1]] <= 0.05* milp_gwp_50.P['Houston', 'Conventional_NG', *scales.scale_iter(2)[scales.scale_iter(2).index(i) - 1]])\n",
    "\n",
    "#Constraint 2: Ramp down\n",
    "\n",
    "milp_gwp_50.cons2 = ConstraintList()\n",
    "for i in scales.scale_iter(2):\n",
    "    if i != (0,0,0):\n",
    "        milp_gwp_50.cons2.add(milp_gwp_50.P['Houston', 'Conventional_NG', *scales.scale_iter(2)[scales.scale_iter(2).index(i) - 1]] - milp_gwp_50.P['Houston', 'Conventional_NG', *i] <= 0.05*milp_gwp_50.P['Houston', 'Conventional_NG', *scales.scale_iter(2)[scales.scale_iter(2).index(i) - 1]])\n",
    "\n",
    "# Loop of how this code runs\n",
    "# Constraint 1: except for the first value (year 1, day 1, hour 0), all the other values ramp up as per the previous production rate\n",
    "milp_gwp_50.cons3 = ConstraintList()\n",
    "for i in scales.scale_iter(2):\n",
    "    if i != (0,0,0):\n",
    "        milp_gwp_50.cons3.add(expr = milp_gwp_50.P['Houston', 'ShaleGas', *i] - milp_gwp_50.P['Houston', 'ShaleGas', *scales.scale_iter(2)[scales.scale_iter(2).index(i) - 1]] <= 0.05* milp_gwp_50.P['Houston', 'ShaleGas', *scales.scale_iter(2)[scales.scale_iter(2).index(i) - 1]])\n",
    "\n",
    "#Constraint 2: Ramp down\n",
    "\n",
    "milp_gwp_50.cons4 = ConstraintList()\n",
    "for i in scales.scale_iter(2):\n",
    "    if i != (0,0,0):\n",
    "        milp_gwp_50.cons4.add(milp_gwp_50.P['Houston', 'ShaleGas', *scales.scale_iter(2)[scales.scale_iter(2).index(i) - 1]] - milp_gwp_50.P['Houston', 'ShaleGas', *i] <= 0.05*milp_gwp_50.P['Houston', 'ShaleGas', *scales.scale_iter(2)[scales.scale_iter(2).index(i) - 1]])\n",
    "\n",
    "# Similarly:\n",
    "from pyomo.environ import ConstraintList\n",
    "\n",
    "# Loop of how this code runs\n",
    "# Constraint 1: except for the first value (year 1, day 1, hour 0), all the other values ramp up as per the previous production rate\n",
    "milp_gwp_50.cons5 = ConstraintList()\n",
    "for i in scales.scale_iter(2):\n",
    "    if i != (0,0,0):\n",
    "        milp_gwp_50.cons5.add(expr = milp_gwp_50.P['Houston', 'Coalbed', *i] - milp_gwp_50.P['Houston', 'Coalbed', *scales.scale_iter(2)[scales.scale_iter(2).index(i) - 1]] <= 0.05* milp_gwp_50.P['Houston', 'Coalbed', *scales.scale_iter(2)[scales.scale_iter(2).index(i) - 1]])\n",
    "\n",
    "#Constraint 2: Ramp down\n",
    "\n",
    "milp_gwp_50.cons6 = ConstraintList()\n",
    "for i in scales.scale_iter(2):\n",
    "    if i != (0,0,0):\n",
    "        milp_gwp_50.cons6.add(milp_gwp_50.P['Houston', 'Coalbed', *scales.scale_iter(2)[scales.scale_iter(2).index(i) - 1]] - milp_gwp_50.P['Houston', 'Coalbed', *i] <= 0.05*milp_gwp_50.P['Houston', 'Coalbed', *scales.scale_iter(2)[scales.scale_iter(2).index(i) - 1]])"
   ]
  },
  {
   "cell_type": "code",
   "execution_count": null,
   "metadata": {},
   "outputs": [],
   "source": [
    "results_gwp_50 = solve(scenario=scenario, instance=milp_gwp_50,\n",
    "                     solver='gurobi', name=f\"res_gwp\", print_solversteps=True, saveformat = '.pkl')"
   ]
  },
  {
   "cell_type": "code",
   "execution_count": null,
   "metadata": {},
   "outputs": [],
   "source": [
    "results_gwp_50.output['objective']"
   ]
  },
  {
   "cell_type": "code",
   "execution_count": null,
   "metadata": {},
   "outputs": [],
   "source": [
    "results_gwp_50.output['P']"
   ]
  },
  {
   "cell_type": "code",
   "execution_count": null,
   "metadata": {},
   "outputs": [],
   "source": [
    "results_gwp_50.output['global_warming_potential_resource']"
   ]
  },
  {
   "cell_type": "code",
   "execution_count": null,
   "metadata": {},
   "outputs": [],
   "source": [
    "results_gwp_50.output['global_warming_potential_location']"
   ]
  },
  {
   "cell_type": "markdown",
   "metadata": {},
   "source": [
    "60% Emission reduction"
   ]
  },
  {
   "cell_type": "code",
   "execution_count": null,
   "metadata": {},
   "outputs": [],
   "source": [
    "milp_gwp_60 = formulate(scenario=scenario, constraints={Constraints.COST, Constraints.INVENTORY, Constraints.PRODUCTION,\n",
    "                     Constraints.RESOURCE_BALANCE, Constraints.NETWORK, Constraints.DEMAND, Constraints.EMISSION}, objective=Objective.COST, demand_sign = 'eq')\n",
    "\n",
    "constraint_global_warming_potential_network_reduction(instance= milp_gwp_60, gwp_reduction_pct = 60, gwp = results_cost.output['global_warming_potential_network'][0])"
   ]
  },
  {
   "cell_type": "code",
   "execution_count": null,
   "metadata": {},
   "outputs": [],
   "source": [
    "# P is production rate\n",
    "# Loop of how this code runs\n",
    "# Constraint 1: except for the first value (year 1, day 1, hour 0), all the other values ramp up as per the previous production rate\n",
    "milp_gwp_60.cons1 = ConstraintList()\n",
    "for i in scales.scale_iter(2):\n",
    "    if i != (0,0,0):\n",
    "        milp_gwp_60.cons1.add(expr = milp_gwp_60.P['Houston', 'Conventional_NG', *i] - milp_gwp_60.P['Houston', 'Conventional_NG', *scales.scale_iter(2)[scales.scale_iter(2).index(i) - 1]] <= 0.05* milp_gwp_60.P['Houston', 'Conventional_NG', *scales.scale_iter(2)[scales.scale_iter(2).index(i) - 1]])\n",
    "\n",
    "#Constraint 2: Ramp down\n",
    "\n",
    "milp_gwp_60.cons2 = ConstraintList()\n",
    "for i in scales.scale_iter(2):\n",
    "    if i != (0,0,0):\n",
    "        milp_gwp_60.cons2.add(milp_gwp_60.P['Houston', 'Conventional_NG', *scales.scale_iter(2)[scales.scale_iter(2).index(i) - 1]] - milp_gwp_60.P['Houston', 'Conventional_NG', *i] <= 0.05*milp_gwp_60.P['Houston', 'Conventional_NG', *scales.scale_iter(2)[scales.scale_iter(2).index(i) - 1]])\n",
    "\n",
    "# Loop of how this code runs\n",
    "# Constraint 1: except for the first value (year 1, day 1, hour 0), all the other values ramp up as per the previous production rate\n",
    "milp_gwp_60.cons3 = ConstraintList()\n",
    "for i in scales.scale_iter(2):\n",
    "    if i != (0,0,0):\n",
    "        milp_gwp_60.cons3.add(expr = milp_gwp_60.P['Houston', 'ShaleGas', *i] - milp_gwp_60.P['Houston', 'ShaleGas', *scales.scale_iter(2)[scales.scale_iter(2).index(i) - 1]] <= 0.05* milp_gwp_60.P['Houston', 'ShaleGas', *scales.scale_iter(2)[scales.scale_iter(2).index(i) - 1]])\n",
    "\n",
    "#Constraint 2: Ramp down\n",
    "\n",
    "milp_gwp_60.cons4 = ConstraintList()\n",
    "for i in scales.scale_iter(2):\n",
    "    if i != (0,0,0):\n",
    "        milp_gwp_60.cons4.add(milp_gwp_60.P['Houston', 'ShaleGas', *scales.scale_iter(2)[scales.scale_iter(2).index(i) - 1]] - milp_gwp_60.P['Houston', 'ShaleGas', *i] <= 0.05*milp_gwp_60.P['Houston', 'ShaleGas', *scales.scale_iter(2)[scales.scale_iter(2).index(i) - 1]])\n",
    "\n",
    "# Similarly:\n",
    "from pyomo.environ import ConstraintList\n",
    "\n",
    "# Loop of how this code runs\n",
    "# Constraint 1: except for the first value (year 1, day 1, hour 0), all the other values ramp up as per the previous production rate\n",
    "milp_gwp_60.cons5 = ConstraintList()\n",
    "for i in scales.scale_iter(2):\n",
    "    if i != (0,0,0):\n",
    "        milp_gwp_60.cons5.add(expr = milp_gwp_60.P['Houston', 'Coalbed', *i] - milp_gwp_60.P['Houston', 'Coalbed', *scales.scale_iter(2)[scales.scale_iter(2).index(i) - 1]] <= 0.05* milp_gwp_60.P['Houston', 'Coalbed', *scales.scale_iter(2)[scales.scale_iter(2).index(i) - 1]])\n",
    "\n",
    "#Constraint 2: Ramp down\n",
    "\n",
    "milp_gwp_60.cons6 = ConstraintList()\n",
    "for i in scales.scale_iter(2):\n",
    "    if i != (0,0,0):\n",
    "        milp_gwp_60.cons6.add(milp_gwp_60.P['Houston', 'Coalbed', *scales.scale_iter(2)[scales.scale_iter(2).index(i) - 1]] - milp_gwp_60.P['Houston', 'Coalbed', *i] <= 0.05*milp_gwp_60.P['Houston', 'Coalbed', *scales.scale_iter(2)[scales.scale_iter(2).index(i) - 1]])"
   ]
  },
  {
   "cell_type": "code",
   "execution_count": null,
   "metadata": {},
   "outputs": [],
   "source": [
    "results_gwp_60 = solve(scenario=scenario, instance=milp_gwp_60,\n",
    "                     solver='gurobi', name=f\"res_gwp\", print_solversteps=True, saveformat = '.pkl')"
   ]
  },
  {
   "cell_type": "code",
   "execution_count": null,
   "metadata": {},
   "outputs": [],
   "source": [
    "results_gwp_60.output['objective']"
   ]
  },
  {
   "cell_type": "code",
   "execution_count": null,
   "metadata": {},
   "outputs": [],
   "source": [
    "results_gwp_60.output['P']"
   ]
  },
  {
   "cell_type": "code",
   "execution_count": null,
   "metadata": {},
   "outputs": [],
   "source": [
    "results_gwp_60.output['global_warming_potential_resource']"
   ]
  },
  {
   "cell_type": "code",
   "execution_count": null,
   "metadata": {},
   "outputs": [],
   "source": [
    "results_gwp_60.output['global_warming_potential_location']"
   ]
  },
  {
   "cell_type": "markdown",
   "metadata": {},
   "source": [
    "70% emission reduction"
   ]
  },
  {
   "cell_type": "code",
   "execution_count": null,
   "metadata": {},
   "outputs": [],
   "source": [
    "milp_gwp_70 = formulate(scenario=scenario, constraints={Constraints.COST, Constraints.INVENTORY, Constraints.PRODUCTION,\n",
    "                     Constraints.RESOURCE_BALANCE, Constraints.NETWORK, Constraints.DEMAND, Constraints.EMISSION}, objective=Objective.COST, demand_sign = 'eq')\n",
    "\n",
    "constraint_global_warming_potential_network_reduction(instance= milp_gwp_70, gwp_reduction_pct = 70, gwp = results_cost.output['global_warming_potential_network'][0])"
   ]
  },
  {
   "cell_type": "code",
   "execution_count": null,
   "metadata": {},
   "outputs": [],
   "source": [
    "# P is production rate\n",
    "# Loop of how this code runs\n",
    "# Constraint 1: except for the first value (year 1, day 1, hour 0), all the other values ramp up as per the previous production rate\n",
    "milp_gwp_70.cons1 = ConstraintList()\n",
    "for i in scales.scale_iter(2):\n",
    "    if i != (0,0,0):\n",
    "        milp_gwp_70.cons1.add(expr = milp_gwp_70.P['Houston', 'Conventional_NG', *i] - milp_gwp_70.P['Houston', 'Conventional_NG', *scales.scale_iter(2)[scales.scale_iter(2).index(i) - 1]] <= 0.05* milp_gwp_70.P['Houston', 'Conventional_NG', *scales.scale_iter(2)[scales.scale_iter(2).index(i) - 1]])\n",
    "\n",
    "#Constraint 2: Ramp down\n",
    "\n",
    "milp_gwp_70.cons2 = ConstraintList()\n",
    "for i in scales.scale_iter(2):\n",
    "    if i != (0,0,0):\n",
    "        milp_gwp_70.cons2.add(milp_gwp_70.P['Houston', 'Conventional_NG', *scales.scale_iter(2)[scales.scale_iter(2).index(i) - 1]] - milp_gwp_70.P['Houston', 'Conventional_NG', *i] <= 0.05*milp_gwp_70.P['Houston', 'Conventional_NG', *scales.scale_iter(2)[scales.scale_iter(2).index(i) - 1]])\n",
    "\n",
    "# Loop of how this code runs\n",
    "# Constraint 1: except for the first value (year 1, day 1, hour 0), all the other values ramp up as per the previous production rate\n",
    "milp_gwp_70.cons3 = ConstraintList()\n",
    "for i in scales.scale_iter(2):\n",
    "    if i != (0,0,0):\n",
    "        milp_gwp_70.cons3.add(expr = milp_gwp_70.P['Houston', 'ShaleGas', *i] - milp_gwp_70.P['Houston', 'ShaleGas', *scales.scale_iter(2)[scales.scale_iter(2).index(i) - 1]] <= 0.05* milp_gwp_70.P['Houston', 'ShaleGas', *scales.scale_iter(2)[scales.scale_iter(2).index(i) - 1]])\n",
    "\n",
    "#Constraint 2: Ramp down\n",
    "\n",
    "milp_gwp_70.cons4 = ConstraintList()\n",
    "for i in scales.scale_iter(2):\n",
    "    if i != (0,0,0):\n",
    "        milp_gwp_70.cons4.add(milp_gwp_70.P['Houston', 'ShaleGas', *scales.scale_iter(2)[scales.scale_iter(2).index(i) - 1]] - milp_gwp_70.P['Houston', 'ShaleGas', *i] <= 0.05*milp_gwp_70.P['Houston', 'ShaleGas', *scales.scale_iter(2)[scales.scale_iter(2).index(i) - 1]])\n",
    "\n",
    "# Similarly:\n",
    "from pyomo.environ import ConstraintList\n",
    "\n",
    "# Loop of how this code runs\n",
    "# Constraint 1: except for the first value (year 1, day 1, hour 0), all the other values ramp up as per the previous production rate\n",
    "milp_gwp_70.cons5 = ConstraintList()\n",
    "for i in scales.scale_iter(2):\n",
    "    if i != (0,0,0):\n",
    "        milp_gwp_70.cons5.add(expr = milp_gwp_70.P['Houston', 'Coalbed', *i] - milp_gwp_70.P['Houston', 'Coalbed', *scales.scale_iter(2)[scales.scale_iter(2).index(i) - 1]] <= 0.05* milp_gwp_70.P['Houston', 'Coalbed', *scales.scale_iter(2)[scales.scale_iter(2).index(i) - 1]])\n",
    "\n",
    "#Constraint 2: Ramp down\n",
    "\n",
    "milp_gwp_70.cons6 = ConstraintList()\n",
    "for i in scales.scale_iter(2):\n",
    "    if i != (0,0,0):\n",
    "        milp_gwp_70.cons6.add(milp_gwp_70.P['Houston', 'Coalbed', *scales.scale_iter(2)[scales.scale_iter(2).index(i) - 1]] - milp_gwp_70.P['Houston', 'Coalbed', *i] <= 0.05*milp_gwp_70.P['Houston', 'Coalbed', *scales.scale_iter(2)[scales.scale_iter(2).index(i) - 1]])"
   ]
  },
  {
   "cell_type": "code",
   "execution_count": null,
   "metadata": {},
   "outputs": [],
   "source": [
    "results_gwp_70 = solve(scenario=scenario, instance=milp_gwp_70,\n",
    "                     solver='gurobi', name=f\"res_gwp\", print_solversteps=True, saveformat = '.pkl')"
   ]
  },
  {
   "cell_type": "code",
   "execution_count": null,
   "metadata": {},
   "outputs": [],
   "source": [
    "results_gwp_70.output['objective']"
   ]
  },
  {
   "cell_type": "code",
   "execution_count": null,
   "metadata": {},
   "outputs": [],
   "source": [
    "results_gwp_70.output['P']"
   ]
  },
  {
   "cell_type": "code",
   "execution_count": null,
   "metadata": {},
   "outputs": [],
   "source": [
    "results_gwp_70.output['global_warming_potential_resource']"
   ]
  },
  {
   "cell_type": "code",
   "execution_count": null,
   "metadata": {},
   "outputs": [],
   "source": [
    "results_gwp_70.output['global_warming_potential_location']"
   ]
  },
  {
   "cell_type": "markdown",
   "metadata": {},
   "source": [
    "80% Emission Reduction"
   ]
  },
  {
   "cell_type": "code",
   "execution_count": null,
   "metadata": {},
   "outputs": [],
   "source": [
    "milp_gwp_80 = formulate(scenario=scenario, constraints={Constraints.COST, Constraints.INVENTORY, Constraints.PRODUCTION,\n",
    "                     Constraints.RESOURCE_BALANCE, Constraints.NETWORK, Constraints.DEMAND, Constraints.EMISSION}, objective=Objective.COST, demand_sign = 'eq')\n",
    "\n",
    "constraint_global_warming_potential_network_reduction(instance= milp_gwp_80, gwp_reduction_pct = 80, gwp = results_cost.output['global_warming_potential_network'][0])"
   ]
  },
  {
   "cell_type": "code",
   "execution_count": null,
   "metadata": {},
   "outputs": [],
   "source": [
    "# P is production rate\n",
    "# Loop of how this code runs\n",
    "# Constraint 1: except for the first value (year 1, day 1, hour 0), all the other values ramp up as per the previous production rate\n",
    "milp_gwp_80.cons1 = ConstraintList()\n",
    "for i in scales.scale_iter(2):\n",
    "    if i != (0,0,0):\n",
    "        milp_gwp_80.cons1.add(expr = milp_gwp_80.P['Houston', 'Conventional_NG', *i] - milp_gwp_80.P['Houston', 'Conventional_NG', *scales.scale_iter(2)[scales.scale_iter(2).index(i) - 1]] <= 0.05* milp_gwp_80.P['Houston', 'Conventional_NG', *scales.scale_iter(2)[scales.scale_iter(2).index(i) - 1]])\n",
    "\n",
    "#Constraint 2: Ramp down\n",
    "\n",
    "milp_gwp_80.cons2 = ConstraintList()\n",
    "for i in scales.scale_iter(2):\n",
    "    if i != (0,0,0):\n",
    "        milp_gwp_80.cons2.add(milp_gwp_80.P['Houston', 'Conventional_NG', *scales.scale_iter(2)[scales.scale_iter(2).index(i) - 1]] - milp_gwp_80.P['Houston', 'Conventional_NG', *i] <= 0.05*milp_gwp_80.P['Houston', 'Conventional_NG', *scales.scale_iter(2)[scales.scale_iter(2).index(i) - 1]])\n",
    "\n",
    "# Loop of how this code runs\n",
    "# Constraint 1: except for the first value (year 1, day 1, hour 0), all the other values ramp up as per the previous production rate\n",
    "milp_gwp_80.cons3 = ConstraintList()\n",
    "for i in scales.scale_iter(2):\n",
    "    if i != (0,0,0):\n",
    "        milp_gwp_80.cons3.add(expr = milp_gwp_80.P['Houston', 'ShaleGas', *i] - milp_gwp_80.P['Houston', 'ShaleGas', *scales.scale_iter(2)[scales.scale_iter(2).index(i) - 1]] <= 0.05* milp_gwp_80.P['Houston', 'ShaleGas', *scales.scale_iter(2)[scales.scale_iter(2).index(i) - 1]])\n",
    "\n",
    "#Constraint 2: Ramp down\n",
    "\n",
    "milp_gwp_80.cons4 = ConstraintList()\n",
    "for i in scales.scale_iter(2):\n",
    "    if i != (0,0,0):\n",
    "        milp_gwp_80.cons4.add(milp_gwp_80.P['Houston', 'ShaleGas', *scales.scale_iter(2)[scales.scale_iter(2).index(i) - 1]] - milp_gwp_80.P['Houston', 'ShaleGas', *i] <= 0.05*milp_gwp_80.P['Houston', 'ShaleGas', *scales.scale_iter(2)[scales.scale_iter(2).index(i) - 1]])\n",
    "\n",
    "# Similarly:\n",
    "from pyomo.environ import ConstraintList\n",
    "\n",
    "# Loop of how this code runs\n",
    "# Constraint 1: except for the first value (year 1, day 1, hour 0), all the other values ramp up as per the previous production rate\n",
    "milp_gwp_80.cons5 = ConstraintList()\n",
    "for i in scales.scale_iter(2):\n",
    "    if i != (0,0,0):\n",
    "        milp_gwp_80.cons5.add(expr = milp_gwp_80.P['Houston', 'Coalbed', *i] - milp_gwp_80.P['Houston', 'Coalbed', *scales.scale_iter(2)[scales.scale_iter(2).index(i) - 1]] <= 0.05* milp_gwp_80.P['Houston', 'Coalbed', *scales.scale_iter(2)[scales.scale_iter(2).index(i) - 1]])\n",
    "\n",
    "#Constraint 2: Ramp down\n",
    "\n",
    "milp_gwp_80.cons6 = ConstraintList()\n",
    "for i in scales.scale_iter(2):\n",
    "    if i != (0,0,0):\n",
    "        milp_gwp_80.cons6.add(milp_gwp_80.P['Houston', 'Coalbed', *scales.scale_iter(2)[scales.scale_iter(2).index(i) - 1]] - milp_gwp_80.P['Houston', 'Coalbed', *i] <= 0.05*milp_gwp_80.P['Houston', 'Coalbed', *scales.scale_iter(2)[scales.scale_iter(2).index(i) - 1]])"
   ]
  },
  {
   "cell_type": "code",
   "execution_count": null,
   "metadata": {},
   "outputs": [],
   "source": [
    "results_gwp_80 = solve(scenario=scenario, instance=milp_gwp_80,\n",
    "                     solver='gurobi', name=f\"res_gwp\", print_solversteps=True, saveformat = '.pkl')"
   ]
  },
  {
   "cell_type": "code",
   "execution_count": null,
   "metadata": {},
   "outputs": [],
   "source": [
    "results_gwp_80.output['objective']"
   ]
  },
  {
   "cell_type": "code",
   "execution_count": null,
   "metadata": {},
   "outputs": [],
   "source": [
    "results_gwp_80.output['P']"
   ]
  },
  {
   "cell_type": "code",
   "execution_count": null,
   "metadata": {},
   "outputs": [],
   "source": [
    "results_gwp_80.output['global_warming_potential_resource']"
   ]
  },
  {
   "cell_type": "code",
   "execution_count": null,
   "metadata": {},
   "outputs": [],
   "source": [
    "results_gwp_80.output['global_warming_potential_location']"
   ]
  },
  {
   "cell_type": "markdown",
   "metadata": {},
   "source": [
    "90% Emission Reduction"
   ]
  },
  {
   "cell_type": "code",
   "execution_count": null,
   "metadata": {},
   "outputs": [],
   "source": [
    "milp_gwp_90 = formulate(scenario=scenario, constraints={Constraints.COST, Constraints.INVENTORY, Constraints.PRODUCTION,\n",
    "                     Constraints.RESOURCE_BALANCE, Constraints.NETWORK, Constraints.DEMAND, Constraints.EMISSION}, objective=Objective.COST, demand_sign = 'eq')\n",
    "\n",
    "constraint_global_warming_potential_network_reduction(instance= milp_gwp_90, gwp_reduction_pct = 90, gwp = results_cost.output['global_warming_potential_network'][0])"
   ]
  },
  {
   "cell_type": "code",
   "execution_count": null,
   "metadata": {},
   "outputs": [],
   "source": [
    "# P is production rate\n",
    "# Loop of how this code runs\n",
    "# Constraint 1: except for the first value (year 1, day 1, hour 0), all the other values ramp up as per the previous production rate\n",
    "milp_gwp_90.cons1 = ConstraintList()\n",
    "for i in scales.scale_iter(2):\n",
    "    if i != (0,0,0):\n",
    "        milp_gwp_90.cons1.add(expr = milp_gwp_90.P['Houston', 'Conventional_NG', *i] - milp_gwp_90.P['Houston', 'Conventional_NG', *scales.scale_iter(2)[scales.scale_iter(2).index(i) - 1]] <= 0.05* milp_gwp_90.P['Houston', 'Conventional_NG', *scales.scale_iter(2)[scales.scale_iter(2).index(i) - 1]])\n",
    "\n",
    "#Constraint 2: Ramp down\n",
    "\n",
    "milp_gwp_90.cons2 = ConstraintList()\n",
    "for i in scales.scale_iter(2):\n",
    "    if i != (0,0,0):\n",
    "        milp_gwp_90.cons2.add(milp_gwp_90.P['Houston', 'Conventional_NG', *scales.scale_iter(2)[scales.scale_iter(2).index(i) - 1]] - milp_gwp_90.P['Houston', 'Conventional_NG', *i] <= 0.05*milp_gwp_90.P['Houston', 'Conventional_NG', *scales.scale_iter(2)[scales.scale_iter(2).index(i) - 1]])\n",
    "\n",
    "# Loop of how this code runs\n",
    "# Constraint 1: except for the first value (year 1, day 1, hour 0), all the other values ramp up as per the previous production rate\n",
    "milp_gwp_90.cons3 = ConstraintList()\n",
    "for i in scales.scale_iter(2):\n",
    "    if i != (0,0,0):\n",
    "        milp_gwp_90.cons3.add(expr = milp_gwp_90.P['Houston', 'ShaleGas', *i] - milp_gwp_90.P['Houston', 'ShaleGas', *scales.scale_iter(2)[scales.scale_iter(2).index(i) - 1]] <= 0.05* milp_gwp_90.P['Houston', 'ShaleGas', *scales.scale_iter(2)[scales.scale_iter(2).index(i) - 1]])\n",
    "\n",
    "#Constraint 2: Ramp down\n",
    "\n",
    "milp_gwp_90.cons4 = ConstraintList()\n",
    "for i in scales.scale_iter(2):\n",
    "    if i != (0,0,0):\n",
    "        milp_gwp_90.cons4.add(milp_gwp_90.P['Houston', 'ShaleGas', *scales.scale_iter(2)[scales.scale_iter(2).index(i) - 1]] - milp_gwp_90.P['Houston', 'ShaleGas', *i] <= 0.05*milp_gwp_90.P['Houston', 'ShaleGas', *scales.scale_iter(2)[scales.scale_iter(2).index(i) - 1]])\n",
    "\n",
    "# Similarly:\n",
    "from pyomo.environ import ConstraintList\n",
    "\n",
    "# Loop of how this code runs\n",
    "# Constraint 1: except for the first value (year 1, day 1, hour 0), all the other values ramp up as per the previous production rate\n",
    "milp_gwp_90.cons5 = ConstraintList()\n",
    "for i in scales.scale_iter(2):\n",
    "    if i != (0,0,0):\n",
    "        milp_gwp_90.cons5.add(expr = milp_gwp_90.P['Houston', 'Coalbed', *i] - milp_gwp_90.P['Houston', 'Coalbed', *scales.scale_iter(2)[scales.scale_iter(2).index(i) - 1]] <= 0.05* milp_gwp_90.P['Houston', 'Coalbed', *scales.scale_iter(2)[scales.scale_iter(2).index(i) - 1]])\n",
    "\n",
    "#Constraint 2: Ramp down\n",
    "\n",
    "milp_gwp_90.cons6 = ConstraintList()\n",
    "for i in scales.scale_iter(2):\n",
    "    if i != (0,0,0):\n",
    "        milp_gwp_90.cons6.add(milp_gwp_90.P['Houston', 'Coalbed', *scales.scale_iter(2)[scales.scale_iter(2).index(i) - 1]] - milp_gwp_90.P['Houston', 'Coalbed', *i] <= 0.05*milp_gwp_90.P['Houston', 'Coalbed', *scales.scale_iter(2)[scales.scale_iter(2).index(i) - 1]])"
   ]
  },
  {
   "cell_type": "code",
   "execution_count": null,
   "metadata": {},
   "outputs": [],
   "source": [
    "results_gwp_90 = solve(scenario=scenario, instance=milp_gwp_90,\n",
    "                     solver='gurobi', name=f\"res_gwp\", print_solversteps=True, saveformat = '.pkl')"
   ]
  },
  {
   "cell_type": "code",
   "execution_count": null,
   "metadata": {},
   "outputs": [],
   "source": [
    "results_gwp_90.output['objective']"
   ]
  },
  {
   "cell_type": "code",
   "execution_count": null,
   "metadata": {},
   "outputs": [],
   "source": [
    "results_gwp_90.output['P']"
   ]
  },
  {
   "cell_type": "code",
   "execution_count": null,
   "metadata": {},
   "outputs": [],
   "source": [
    "results_gwp_90.output['global_warming_potential_resource']"
   ]
  },
  {
   "cell_type": "code",
   "execution_count": null,
   "metadata": {},
   "outputs": [],
   "source": [
    "results_gwp_90.output['global_warming_potential_location']"
   ]
  }
 ],
 "metadata": {
  "kernelspec": {
   "display_name": ".venv",
   "language": "python",
   "name": "python3"
  },
  "language_info": {
   "codemirror_mode": {
    "name": "ipython",
    "version": 3
   },
   "file_extension": ".py",
   "mimetype": "text/x-python",
   "name": "python",
   "nbconvert_exporter": "python",
   "pygments_lexer": "ipython3",
   "version": "3.11.9"
  },
  "orig_nbformat": 4
 },
 "nbformat": 4,
 "nbformat_minor": 2
}
