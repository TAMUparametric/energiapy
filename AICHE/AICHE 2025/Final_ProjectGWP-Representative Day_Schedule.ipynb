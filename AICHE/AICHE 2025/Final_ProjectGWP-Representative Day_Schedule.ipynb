{
 "cells": [
  {
   "cell_type": "code",
   "execution_count": 1346,
   "metadata": {},
   "outputs": [],
   "source": [
    "import sys\n",
    "sys.path.append('../src')"
   ]
  },
  {
   "cell_type": "code",
   "execution_count": 1347,
   "metadata": {},
   "outputs": [],
   "source": [
    "import pandas as pd\n",
    "import numpy\n",
    "from src.energiapy.components.temporal_scale import TemporalScale\n",
    "from src.energiapy.components.resource import Resource, VaryingResource, Scope\n",
    "from src.energiapy.components.process import Process, VaryingProcess\n",
    "from src.energiapy.components.material import Material\n",
    "from src.energiapy.components.location import Location\n",
    "from src.energiapy.components.network import Network\n",
    "from src.energiapy.components.scenario import Scenario\n",
    "from src.energiapy.components.transport import Transport\n",
    "from src.energiapy.model.formulate import formulate, Constraints, Objective\n",
    "from src.energiapy.utils.nsrdb_utils import fetch_nsrdb_data\n",
    "from src.energiapy.plot import plot_results, plot_scenario\n",
    "from src.energiapy.plot.plot_results import CostY, CostX\n",
    "from src.energiapy.model.solve import solve\n",
    "from itertools import product\n",
    "from src.energiapy.components.result import Result\n",
    "from itertools import product\n",
    "from matplotlib import rc\n",
    "import matplotlib.pyplot as plt\n",
    "from src.energiapy.model.solve import solve\n",
    "from src.energiapy.plot.plot_results import CostY, CostX\n",
    "from src.energiapy.components.location import Location\n",
    "from src.energiapy.plot import plot_results, plot_scenario\n",
    "from src.energiapy.utils.nsrdb_utils import fetch_nsrdb_data\n",
    "from src.energiapy.model.formulate import formulate, Constraints, Objective\n",
    "from src.energiapy.model.bounds import CapacityBounds\n",
    "from src.energiapy.utils.data_utils import get_data, make_henry_price_df, remove_outliers, load_results\n",
    "from src.energiapy.conversion.photovoltaic import solar_power_output\n",
    "from src.energiapy.conversion.windmill import wind_power_output\n",
    "from src.energiapy.model.constraints.integer_cuts import constraint_block_integer_cut, constraint_block_integer_cut_min"
   ]
  },
  {
   "cell_type": "code",
   "execution_count": 1348,
   "metadata": {},
   "outputs": [],
   "source": [
    "# To solve the scheduling level problem for the motivating example of 3 forms of LNG production with varying GWP (resets every year), varying ERCOT power prices & NG prices (fluctuates every hour for the next 5 years)\n",
    "# For optimal cost vs emission scenario (and varying weights for emission reduction , eg, for 10% reduction in emission, what is the best case scenario)"
   ]
  },
  {
   "cell_type": "code",
   "execution_count": 1349,
   "metadata": {},
   "outputs": [],
   "source": [
    "horizon = 1\n",
    "scales = TemporalScale(discretization_list=[1,24])"
   ]
  },
  {
   "cell_type": "code",
   "execution_count": 1350,
   "metadata": {},
   "outputs": [],
   "source": [
    "bigM = 10**8\n",
    "smallM = 0.001"
   ]
  },
  {
   "cell_type": "code",
   "execution_count": 1351,
   "metadata": {},
   "outputs": [
    {
     "data": {
      "text/plain": [
       "RangeIndex(start=0, stop=24, step=1)"
      ]
     },
     "execution_count": 1351,
     "metadata": {},
     "output_type": "execute_result"
    }
   ],
   "source": [
    "elec_price_df = pd.read_excel(r'C:\\Users\\saatvisuresh_1\\Desktop\\Saatvi Thesis\\Complete_ERCOT_Prices_RepresentativeDay.xlsx')\n",
    "elec_price_df.index\n"
   ]
  },
  {
   "cell_type": "code",
   "execution_count": 1352,
   "metadata": {},
   "outputs": [
    {
     "data": {
      "text/plain": [
       "np.float64(72.64)"
      ]
     },
     "execution_count": 1352,
     "metadata": {},
     "output_type": "execute_result"
    }
   ],
   "source": [
    "elec_price"
   ]
  },
  {
   "cell_type": "code",
   "execution_count": 1353,
   "metadata": {},
   "outputs": [],
   "source": [
    "# Formula verified\n",
    "\n",
    "#for index in elec_price_df.index:\n",
    "    #if index <= 20:\n",
    "        #GWP_value = 112.23\n",
    "    #elif index <= 70:\n",
    "        #GWP_value = 99.99\n",
    "    #elif index <= 72:\n",
    "        #GWP_value = 92.84\n",
    "    #else:\n",
    "        #GWP_value = 83.82\n",
    "    \n",
    "    #print(f\"Index: {index}, GWP_value: {GWP_value}\")  # To check the values dynamically\n"
   ]
  },
  {
   "cell_type": "code",
   "execution_count": 1354,
   "metadata": {},
   "outputs": [],
   "source": [
    "for index in elec_price_df.index:\n",
    "    if index <= 365:\n",
    "        GWP_value = 112.23\n",
    "    elif index >365 and index<= 730:\n",
    "        GWP_value = ((99.99*(index - 365))+(112.23*365))/(index)\n",
    "    elif index >730 and index<= 1095:\n",
    "        GWP_value = ((92.84*(index - 730))+(99.99*365)+(112.23*365))/index\n",
    "    elif index >1095 and index<= 1460:\n",
    "        GWP_value = ((87.76*(index - 1095))+(99.99*365)+(112.23*365)+(92.84*730))/index\n",
    "    else:\n",
    "        GWP_value= (83.82*((index - 1460))+(87.76*365)+(99.99*365)+(112.23*365)+(92.84*730))/index\n",
    "        # for 5 years"
   ]
  },
  {
   "cell_type": "code",
   "execution_count": 1355,
   "metadata": {},
   "outputs": [
    {
     "data": {
      "text/plain": [
       "RangeIndex(start=0, stop=24, step=1)"
      ]
     },
     "execution_count": 1355,
     "metadata": {},
     "output_type": "execute_result"
    }
   ],
   "source": [
    "# Fuel Mix GWP\n",
    "GWP_df = pd.read_excel(r'C:\\Users\\saatvisuresh_1\\Desktop\\Saatvi Thesis\\5 year_final\\GWP_FuelMix_Day1.xlsx')\n",
    "GWP_df.head()\n",
    "GWP_df.index"
   ]
  },
  {
   "cell_type": "code",
   "execution_count": 1356,
   "metadata": {},
   "outputs": [],
   "source": [
    "# Outputs\n",
    "\n",
    "CO2 = Resource(name='CO2 Vented from the process', basis='kg/hr',\n",
    "               label='Carbon dioxide vented from the process', block='Resource', gwp = 1, sell=True, scope = Scope.ONE)\n",
    "\n",
    "Methane = Resource(name='Methane leaked from the process', basis='kg/hr',\n",
    "               label='Methane from the process', block='Resource', gwp = GWP_value, sell=True, scope = Scope.ONE)\n",
    "\n",
    "NGL = Resource(name='Natural Gas Liquids_in_extraction', basis='kg/hr', label='Natural Gas Liquids_in_extraction', block='Resource', sell=True)\n",
    "\n",
    "ProducedWater = Resource(name='H2O vented from the process',\n",
    "               basis='kg/hr', sell=True, label='Water vented from the process', block='Resource')\n",
    "\n",
    "LNG = Resource(name='LNG', demand = True, basis='kg/hr', label='LNG', block='Resource')\n",
    "\n",
    "Boil_off_LNG = Resource(name='Boil_off_LNG', sell=True, basis='kg/hr', label='Boil_off_LNG', block='Resource')\n",
    "\n",
    "Heat_Energy = Resource(name='Heat_Energy', basis='MW', label='Heat_Energy', sell=True, block='Resource')\n",
    "\n",
    "#Methane = Resource(name='Methane leaked from the process', basis='kg/hr',\n",
    "               #label='Methane from the process', block='Resource', gwp = GWP_value, varying = [VaryingResource.DETERMINISTIC_GWP], sell=True, scope = Scope.ONE)\n",
    "\n",
    "# Inputs\n",
    "\n",
    "Power = Resource(name='Power', basis='MW', label='Power generated')\n",
    "\n",
    "GridPower = Resource(name='GridPower', basis='MW',\n",
    "                     cons_max=bigM, label='Power bought', scope = Scope.TWO)\n",
    "# Grid Power GWP from average value of time-varying GWP\n",
    "\n",
    "ResourceWater = Resource(name='H2O',\n",
    "               basis='kg/hr', cons_max=bigM, label='Water', price = 0.002, block='Resource')\n",
    "\n",
    "Proppant_Additive = Resource(name='Proppant_Additive', basis='kg/hr', label='Proppant_Additive', block='Resource', price= 0.975, cons_max=bigM)\n",
    "# Reference Link: https://www.maximizemarketresearch.com/market-report/global-proppant-market/14899/?utm_source=chatgpt.com\n",
    "\n",
    "Diesel = Resource(name='Diesel', basis='kg/hr', label='Diesel', block='Resource', price= 0.98, cons_max=bigM)\n",
    "# Reference Link: https://businessanalytiq.com/procurementanalytics/index/diesel-price-index/\n",
    "\n",
    "Cooling_Water_In_Liquifaction = Resource(name='Cooling_Water_In_Liquifaction', basis='kg/hr', label='Cooling_Water_In_Liquifaction', block='Resource', cons_max=bigM, price= 0.0572)\n",
    "# Reference link: https://www.intratec.us/products/industry-economics-worldwide/utility/cooling-water-united-states\n",
    "\n",
    "LNG =  Resource(name='LNG', demand=True, basis='kg/hr', label='LNG', block='Resource')\n",
    "\n",
    "Glycol = Resource(name='Glycol', basis='kg/hr', label='Glycol', block='Resource', cons_max=bigM, price= 0.052)\n",
    "# Reference link: https://businessanalytiq.com/procurementanalytics/index/ethylene-glycol-price-index/\n",
    "\n",
    "MDEA = Resource(name='MDEA', basis='kg/hr', label='MDEA', block='Resource', cons_max=bigM)"
   ]
  },
  {
   "cell_type": "code",
   "execution_count": 1357,
   "metadata": {},
   "outputs": [
    {
     "name": "stdout",
     "output_type": "stream",
     "text": [
      "24\n"
     ]
    }
   ],
   "source": [
    "print(elec_price_df.shape[0])"
   ]
  },
  {
   "cell_type": "code",
   "execution_count": 1358,
   "metadata": {},
   "outputs": [],
   "source": [
    "# FU: 1 kg/hr of LNG\n",
    "# 3 methane producing processes\n",
    "\n",
    "Grid = Process(name='Grid', conversion={GridPower: -1, Power: 1}, prod_min=smallM, prod_max=bigM, label='Grid', basis='MW')\n",
    "\n",
    "Conventional_NG = Process(name='Conventional_NG', conversion={Boil_off_LNG: 0.01, Power: -0.0028, ResourceWater: -0.5, Diesel: -0.000741382, Glycol: -0.000818111, MDEA: -0.012391658, Cooling_Water_In_Liquifaction: -1.75,\n",
    "                                                              Methane: 0.00395, CO2: 0.966504505 , NGL: 0.3, Heat_Energy: 0.02, ProducedWater: 0.912, LNG: 1}, capex=0.17, fopex=1.5, vopex=1.5, prod_min=0.1, prod_max=bigM, label='Conventional LNG', basis='kg/hr')  \n",
    "\n",
    "# https://shareholdersunite.com/the-ioc-files-useful-background-material/the-economics-of-lng/\n",
    "\n",
    "ShaleGas = Process(name='ShaleGas', conversion={Boil_off_LNG: 0.01, Power: -0.003, ResourceWater: -0.92, Diesel: -0.002041766, Glycol: -0.01875, MDEA: -0.284, Cooling_Water_In_Liquifaction: -2.75,\n",
    "                                                              Methane: 0.00895, CO2: 2.1, NGL: 1.9, Heat_Energy: 0.074, ProducedWater: 2.2205, LNG: 1}, capex=0.19, fopex=0.6, vopex=0.6, prod_min=0.1, prod_max=bigM, label='ShaleGas', basis='kg/hr')\n",
    "# https://marcelluscoalition.org/wp-content/uploads/2012/07/The-Arithmetic-of-Shale-Gas.pdf\n",
    "\n",
    "Coalbed = Process(name='Coalbed', conversion={Boil_off_LNG: 0.01, Power: -0.01, Diesel: -0.075, Glycol: -0.026539527, MDEA: -0.401985372, Cooling_Water_In_Liquifaction: -3.25,\n",
    "                                                              Methane: 0.811, CO2: 5.823126126, NGL: 0.062761905, Heat_Energy: 0.002, ProducedWater: 6.2755, LNG: 1}, capex=0.205, fopex=2.24, vopex=1.17, prod_min=0.1, prod_max=bigM, label='CoalBed', basis='kg/hr')\n",
    "\n",
    "# capacity needed? No"
   ]
  },
  {
   "cell_type": "code",
   "execution_count": 1359,
   "metadata": {},
   "outputs": [],
   "source": [
    "process_set = {Grid, Conventional_NG, ShaleGas, Coalbed}"
   ]
  },
  {
   "cell_type": "code",
   "execution_count": 1360,
   "metadata": {},
   "outputs": [],
   "source": [
    "# network scale level is 2, due to indexing issues. However, this shouldn't change the final output as capex is smallM. Fopex will be mentiond in hourly level\n",
    "#{Methane:GWP_value, GridPower: GWP_df}\n",
    "\n",
    "houston = Location(name='Houston', processes=process_set,  price_factor={GridPower: elec_price_df}, gwp_factor= {GridPower: GWP_df} , expenditure_scale_level=0,\n",
    "                   scales=scales, label='Houston', demand_scale_level=0, price_scale_level=1, gwp_scale_level = 1)\n"
   ]
  },
  {
   "cell_type": "code",
   "execution_count": 1361,
   "metadata": {},
   "outputs": [],
   "source": [
    "\n",
    "scenario = Scenario(name='scenario_full', network=houston, scales=scales,  demand_scale_level=0, expenditure_scale_level=0,\n",
    "                    purchase_scale_level = 1, scheduling_scale_level=1, network_scale_level=0, gwp_scale_level = 1, \n",
    "                    label='full_case', demand={houston: {LNG:2000}})"
   ]
  },
  {
   "cell_type": "code",
   "execution_count": 1362,
   "metadata": {},
   "outputs": [
    {
     "name": "stdout",
     "output_type": "stream",
     "text": [
      "Contents of scenario.gwp_dict: None\n"
     ]
    }
   ],
   "source": [
    "print(\"Contents of scenario.gwp_dict:\", Location.gwp_factor)\n",
    "#code not reading demand or gwp factor"
   ]
  },
  {
   "cell_type": "code",
   "execution_count": 1363,
   "metadata": {},
   "outputs": [
    {
     "data": {
      "image/png": "[encoded data removed]",
      "text/plain": [
       "<Figure size 900x500 with 1 Axes>"
      ]
     },
     "metadata": {},
     "output_type": "display_data"
    }
   ],
   "source": [
    "plot_scenario.price_factor(scenario=scenario, location=houston, resource=GridPower, fig_size=(9, 5), color='black')"
   ]
  },
  {
   "cell_type": "code",
   "execution_count": 1364,
   "metadata": {},
   "outputs": [
    {
     "name": "stdout",
     "output_type": "stream",
     "text": [
      "constraint process capex\n",
      "constraint process fopex\n",
      "constraint process vopex\n",
      "constraint process incidental\n",
      "constraint storage cost\n",
      "constraint storage cost location\n",
      "constraint storage cost network\n",
      "constraint global warming potential resource\n",
      "constraint global warming potential resource consumption\n",
      "constraint global warming potential resource discharge\n",
      "constraint global warming potential location\n",
      "constraint global warming potential network\n",
      "constraint production mode\n",
      "constraint inventory balance\n",
      "constraint inventory network\n",
      "constraint storage facility\n",
      "constraint production facility\n",
      "constraint min production facility\n",
      "constraint min storage facility\n",
      "constraint demand\n",
      "objective cost\n"
     ]
    }
   ],
   "source": [
    "#, Constraints.MODE\n",
    "\n",
    "milp_cost = formulate(scenario=scenario, constraints={Constraints.COST, Constraints.INVENTORY, Constraints.PRODUCTION, Constraints.NETWORK,\n",
    "                      Constraints.RESOURCE_BALANCE, Constraints.DEMAND, Constraints.EMISSION}, objective=Objective.COST, demand_sign = 'eq')"
   ]
  },
  {
   "cell_type": "code",
   "execution_count": 1365,
   "metadata": {},
   "outputs": [],
   "source": [
    "from pyomo.environ import ConstraintList\n",
    "\n",
    "# Constraint 1: except for the first value (year 1, day 1, hour 0), all the other values ramp up as per the previous production rate\n",
    "milp_cost.cons1 = ConstraintList()\n",
    "for i in scales.scale_iter(2):\n",
    "    if i != (0, 0, 0):\n",
    "        milp_cost.cons1.add(expr=milp_cost.P['Houston', 'Conventional_NG', *i] - milp_cost.P['Houston', 'Conventional_NG', *scales.scale_iter(2)[scales.scale_iter(2).index(i) - 1]] <= 0.05 * milp_cost.P['Houston', 'Conventional_NG', *scales.scale_iter(2)[scales.scale_iter(2).index(i) - 1]])\n",
    "\n",
    "# Constraint 2: Ramp down\n",
    "milp_cost.cons2 = ConstraintList()\n",
    "for i in scales.scale_iter(2):\n",
    "    if i != (0, 0, 0):\n",
    "        milp_cost.cons2.add(milp_cost.P['Houston', 'Conventional_NG', *scales.scale_iter(2)[scales.scale_iter(2).index(i) - 1]] - milp_cost.P['Houston', 'Conventional_NG', *i] <= 0.05 * milp_cost.P['Houston', 'Conventional_NG', *scales.scale_iter(2)[scales.scale_iter(2).index(i) - 1]])\n",
    "\n",
    "# Constraint 1: except for the first value (year 1, day 1, hour 0), all the other values ramp up as per the previous production rate\n",
    "milp_cost.cons3 = ConstraintList()\n",
    "for i in scales.scale_iter(2):\n",
    "    if i != (0, 0, 0):\n",
    "        milp_cost.cons3.add(expr=milp_cost.P['Houston', 'ShaleGas', *i] - milp_cost.P['Houston', 'ShaleGas', *scales.scale_iter(2)[scales.scale_iter(2).index(i) - 1]] <= 0.05 * milp_cost.P['Houston', 'ShaleGas', *scales.scale_iter(2)[scales.scale_iter(2).index(i) - 1]])\n",
    "\n",
    "# Constraint 2: Ramp down\n",
    "milp_cost.cons4 = ConstraintList()\n",
    "for i in scales.scale_iter(2):\n",
    "    if i != (0, 0, 0):\n",
    "        milp_cost.cons4.add(milp_cost.P['Houston', 'ShaleGas', *scales.scale_iter(2)[scales.scale_iter(2).index(i) - 1]] - milp_cost.P['Houston', 'ShaleGas', *i] <= 0.05 * milp_cost.P['Houston', 'ShaleGas', *scales.scale_iter(2)[scales.scale_iter(2).index(i) - 1]])\n",
    "\n",
    "# Constraint 1: except for the first value (year 1, day 1, hour 0), all the other values ramp up as per the previous production rate\n",
    "milp_cost.cons5 = ConstraintList()\n",
    "for i in scales.scale_iter(2):\n",
    "    if i != (0, 0, 0):\n",
    "        milp_cost.cons5.add(expr=milp_cost.P['Houston', 'Coalbed', *i] - milp_cost.P['Houston', 'Coalbed', *scales.scale_iter(2)[scales.scale_iter(2).index(i) - 1]] <= 0.05 * milp_cost.P['Houston', 'Coalbed', *scales.scale_iter(2)[scales.scale_iter(2).index(i) - 1]])\n",
    "\n",
    "# Constraint 2: Ramp down\n",
    "milp_cost.cons6 = ConstraintList()\n",
    "for i in scales.scale_iter(2):\n",
    "    if i != (0, 0, 0):\n",
    "        milp_cost.cons6.add(milp_cost.P['Houston', 'Coalbed', *scales.scale_iter(2)[scales.scale_iter(2).index(i) - 1]] - milp_cost.P['Houston', 'Coalbed', *i] <= 0.05 * milp_cost.P['Houston', 'Coalbed', *scales.scale_iter(2)[scales.scale_iter(2).index(i) - 1]])\n"
   ]
  },
  {
   "cell_type": "code",
   "execution_count": 1366,
   "metadata": {},
   "outputs": [
    {
     "name": "stdout",
     "output_type": "stream",
     "text": [
      "Set parameter OutputFlag to value 1\n",
      "Set parameter QCPDual to value 1\n",
      "Gurobi Optimizer version 12.0.1 build v12.0.1rc0 (win64 - Windows 11.0 (26100.2))\n",
      "\n",
      "CPU model: 13th Gen Intel(R) Core(TM) i7-13700, instruction set [SSE2|AVX|AVX2]\n",
      "Thread count: 16 physical cores, 24 logical processors, using up to 24 threads\n",
      "\n",
      "Non-default parameters:\n",
      "QCPDual  1\n",
      "\n",
      "Optimize a model with 1695 rows, 8057 columns and 4400 nonzeros\n",
      "Model fingerprint: 0xb741b34f\n",
      "Variable types: 8053 continuous, 4 integer (4 binary)\n",
      "Coefficient statistics:\n",
      "  Matrix range     [7e-04, 1e+08]\n",
      "  Objective range  [1e+00, 1e+00]\n",
      "  Bounds range     [1e+00, 1e+00]\n",
      "  RHS range        [2e+03, 1e+08]\n",
      "Presolve removed 1688 rows and 8048 columns\n",
      "Presolve time: 0.00s\n",
      "Presolved: 7 rows, 9 columns, 18 nonzeros\n",
      "Variable types: 6 continuous, 3 integer (3 binary)\n",
      "Found heuristic solution: objective 1590.4766947\n",
      "\n",
      "Root relaxation: objective 1.590065e+03, 2 iterations, 0.00 seconds (0.00 work units)\n",
      "\n",
      "    Nodes    |    Current Node    |     Objective Bounds      |     Work\n",
      " Expl Unexpl |  Obj  Depth IntInf | Incumbent    BestBd   Gap | It/Node Time\n",
      "\n",
      "     0     0 1590.06519    0    1 1590.47669 1590.06519  0.03%     -    0s\n",
      "*    0     0               0    1590.0651947 1590.06519  0.00%     -    0s\n",
      "\n",
      "Explored 1 nodes (3 simplex iterations) in 0.01 seconds (0.01 work units)\n",
      "Thread count was 24 (of 24 available processors)\n",
      "\n",
      "Solution count 2: 1590.07 1590.48 \n",
      "\n",
      "Optimal solution found (tolerance 1.00e-04)\n",
      "Best objective 1.590065194693e+03, best bound 1.590065194693e+03, gap 0.0000%\n",
      "WARNING: Cannot get duals for MIP.\n"
     ]
    }
   ],
   "source": [
    "results_cost = solve(scenario=scenario, instance=milp_cost,\n",
    "                     solver='gurobi', name=f\"res_cost\", print_solversteps=True, saveformat = '.pkl')"
   ]
  },
  {
   "cell_type": "code",
   "execution_count": 1367,
   "metadata": {},
   "outputs": [
    {
     "data": {
      "text/plain": [
       "1590.0651946933335"
      ]
     },
     "execution_count": 1367,
     "metadata": {},
     "output_type": "execute_result"
    }
   ],
   "source": [
    "results_cost.output['objective']"
   ]
  },
  {
   "cell_type": "code",
   "execution_count": 1368,
   "metadata": {},
   "outputs": [
    {
     "data": {
      "text/plain": [
       "{('Houston', 0): 6208.917}"
      ]
     },
     "execution_count": 1368,
     "metadata": {},
     "output_type": "execute_result"
    }
   ],
   "source": [
    "results_cost.output['global_warming_potential_location']"
   ]
  },
  {
   "cell_type": "code",
   "execution_count": 1369,
   "metadata": {},
   "outputs": [
    {
     "data": {
      "text/plain": [
       "{('Houston', 'Coalbed', 0): 0.0,\n",
       " ('Houston', 'Conventional_NG', 0): 0.0,\n",
       " ('Houston', 'Grid', 0): 100000000.0,\n",
       " ('Houston', 'ShaleGas', 0): 83.33333333333333}"
      ]
     },
     "execution_count": 1369,
     "metadata": {},
     "output_type": "execute_result"
    }
   ],
   "source": [
    "results_cost.output['Cap_P']"
   ]
  },
  {
   "cell_type": "code",
   "execution_count": 1370,
   "metadata": {},
   "outputs": [
    {
     "name": "stdout",
     "output_type": "stream",
     "text": [
      "[83.33333333333333, 83.33333333333333, 83.33333333333333, 83.33333333333333, 83.33333333333333, 83.33333333333333, 83.33333333333333, 83.33333333333333, 83.33333333333333, 83.33333333333333, 83.33333333333333, 83.33333333333333, 83.33333333333333, 83.33333333333333, 83.33333333333333, 83.33333333333333, 83.33333333333333, 83.33333333333333, 83.33333333333333, 83.33333333333333, 83.33333333333333, 83.33333333333333, 83.33333333333333, 83.33333333333333]\n"
     ]
    },
    {
     "data": {
      "image/png": "[encoded data removed]",
      "text/plain": [
       "<Figure size 1200x600 with 1 Axes>"
      ]
     },
     "metadata": {},
     "output_type": "display_data"
    }
   ],
   "source": [
    "plot_results.schedule(results = results_cost, y_axis= 'P', component = 'ShaleGas', location='Houston')"
   ]
  },
  {
   "cell_type": "code",
   "execution_count": 1371,
   "metadata": {},
   "outputs": [],
   "source": [
    "data = results_cost.output['P']\n",
    "df = pd.DataFrame(data,index=[0])\n",
    "df = df.T\n",
    "# Export the DataFrame to an Excel file\n",
    "df.to_excel(r'C:\\Users\\saatvisuresh_1\\Desktop\\Saatvi Thesis\\5 year_final\\P_output_F_both_Cost_min.xlsx', index=True)"
   ]
  },
  {
   "cell_type": "code",
   "execution_count": 1372,
   "metadata": {},
   "outputs": [
    {
     "name": "stdout",
     "output_type": "stream",
     "text": [
      "constraint process capex\n",
      "constraint process fopex\n",
      "constraint process vopex\n",
      "constraint process incidental\n",
      "constraint storage cost\n",
      "constraint storage cost location\n",
      "constraint storage cost network\n",
      "constraint global warming potential resource\n",
      "constraint global warming potential resource consumption\n",
      "constraint global warming potential resource discharge\n",
      "constraint global warming potential location\n",
      "constraint global warming potential network\n",
      "constraint production mode\n",
      "constraint inventory balance\n",
      "constraint inventory network\n",
      "constraint demand\n",
      "constraint network cost\n",
      "objective gwp min\n"
     ]
    }
   ],
   "source": [
    "#, Constraints.MODE\n",
    "\n",
    "milp_gwp = formulate(scenario=scenario, constraints={Constraints.COST, Constraints.INVENTORY, Constraints.PRODUCTION,\n",
    "                     Constraints.RESOURCE_BALANCE, Constraints.DEMAND, Constraints.EMISSION}, objective=Objective.MIN_GWP, demand_sign = 'eq')"
   ]
  },
  {
   "cell_type": "code",
   "execution_count": 1373,
   "metadata": {},
   "outputs": [],
   "source": [
    "# P is production rate\n",
    "# Loop of how this code runs\n",
    "# Constraint 1: except for the first value (year 1, day 1, hour 0), all the other values ramp up as per the previous production rate\n",
    "milp_gwp.cons1 = ConstraintList()\n",
    "for i in scales.scale_iter(2):\n",
    "    if i != (0,0,0):\n",
    "        milp_gwp.cons1.add(expr = milp_gwp.P['Houston', 'Conventional_NG', *i] - milp_gwp.P['Houston', 'Conventional_NG', *scales.scale_iter(2)[scales.scale_iter(2).index(i) - 1]] <= 0.05* milp_gwp.P['Houston', 'Conventional_NG', *scales.scale_iter(2)[scales.scale_iter(2).index(i) - 1]])\n",
    "\n",
    "#Constraint 2: Ramp down\n",
    "\n",
    "milp_gwp.cons2 = ConstraintList()\n",
    "for i in scales.scale_iter(2):\n",
    "    if i != (0,0,0):\n",
    "        milp_gwp.cons2.add(milp_gwp.P['Houston', 'Conventional_NG', *scales.scale_iter(2)[scales.scale_iter(2).index(i) - 1]] - milp_gwp.P['Houston', 'Conventional_NG', *i] <= 0.05*milp_gwp.P['Houston', 'Conventional_NG', *scales.scale_iter(2)[scales.scale_iter(2).index(i) - 1]])\n",
    "\n",
    "# Loop of how this code runs\n",
    "# Constraint 1: except for the first value (year 1, day 1, hour 0), all the other values ramp up as per the previous production rate\n",
    "milp_gwp.cons3 = ConstraintList()\n",
    "for i in scales.scale_iter(2):\n",
    "    if i != (0,0,0):\n",
    "        milp_gwp.cons3.add(expr = milp_gwp.P['Houston', 'ShaleGas', *i] - milp_gwp.P['Houston', 'ShaleGas', *scales.scale_iter(2)[scales.scale_iter(2).index(i) - 1]] <= 0.05* milp_gwp.P['Houston', 'ShaleGas', *scales.scale_iter(2)[scales.scale_iter(2).index(i) - 1]])\n",
    "\n",
    "#Constraint 2: Ramp down\n",
    "\n",
    "milp_gwp.cons4 = ConstraintList()\n",
    "for i in scales.scale_iter(2):\n",
    "    if i != (0,0,0):\n",
    "        milp_gwp.cons4.add(milp_gwp.P['Houston', 'ShaleGas', *scales.scale_iter(2)[scales.scale_iter(2).index(i) - 1]] - milp_gwp.P['Houston', 'ShaleGas', *i] <= 0.05*milp_gwp.P['Houston', 'ShaleGas', *scales.scale_iter(2)[scales.scale_iter(2).index(i) - 1]])\n",
    "\n",
    "# Similarly:\n",
    "from pyomo.environ import ConstraintList\n",
    "\n",
    "# Loop of how this code runs\n",
    "# Constraint 1: except for the first value (year 1, day 1, hour 0), all the other values ramp up as per the previous production rate\n",
    "milp_gwp.cons5 = ConstraintList()\n",
    "for i in scales.scale_iter(2):\n",
    "    if i != (0,0,0):\n",
    "        milp_gwp.cons5.add(expr = milp_gwp.P['Houston', 'Coalbed', *i] - milp_gwp.P['Houston', 'Coalbed', *scales.scale_iter(2)[scales.scale_iter(2).index(i) - 1]] <= 0.05* milp_gwp.P['Houston', 'Coalbed', *scales.scale_iter(2)[scales.scale_iter(2).index(i) - 1]])\n",
    "\n",
    "#Constraint 2: Ramp down\n",
    "\n",
    "milp_gwp.cons6 = ConstraintList()\n",
    "for i in scales.scale_iter(2):\n",
    "    if i != (0,0,0):\n",
    "        milp_gwp.cons6.add(milp_gwp.P['Houston', 'Coalbed', *scales.scale_iter(2)[scales.scale_iter(2).index(i) - 1]] - milp_gwp.P['Houston', 'Coalbed', *i] <= 0.05*milp_gwp.P['Houston', 'Coalbed', *scales.scale_iter(2)[scales.scale_iter(2).index(i) - 1]])\n",
    "\n"
   ]
  },
  {
   "cell_type": "code",
   "execution_count": 1374,
   "metadata": {},
   "outputs": [
    {
     "name": "stdout",
     "output_type": "stream",
     "text": [
      "Set parameter OutputFlag to value 1\n",
      "Set parameter QCPDual to value 1\n",
      "Gurobi Optimizer version 12.0.1 build v12.0.1rc0 (win64 - Windows 11.0 (26100.2))\n",
      "\n",
      "CPU model: 13th Gen Intel(R) Core(TM) i7-13700, instruction set [SSE2|AVX|AVX2]\n",
      "Thread count: 16 physical cores, 24 logical processors, using up to 24 threads\n",
      "\n",
      "Non-default parameters:\n",
      "QCPDual  1\n",
      "\n",
      "Optimize a model with 1692 rows, 8053 columns and 4399 nonzeros\n",
      "Model fingerprint: 0xb42195a3\n",
      "Coefficient statistics:\n",
      "  Matrix range     [7e-04, 1e+02]\n",
      "  Objective range  [1e+00, 1e+00]\n",
      "  Bounds range     [0e+00, 0e+00]\n",
      "  RHS range        [1e-03, 1e+08]\n",
      "Presolve removed 1547 rows and 7981 columns\n",
      "Presolve time: 0.01s\n",
      "Presolved: 145 rows, 72 columns, 360 nonzeros\n",
      "\n",
      "Iteration    Objective       Primal Inf.    Dual Inf.      Time\n",
      "       0    2.8196260e+03   7.250000e+02   0.000000e+00      0s\n",
      "      34    2.8196260e+03   0.000000e+00   0.000000e+00      0s\n",
      "\n",
      "Solved in 34 iterations and 0.01 seconds (0.00 work units)\n",
      "Optimal objective  2.819626010e+03\n"
     ]
    }
   ],
   "source": [
    "results_gwp = solve(scenario=scenario, instance=milp_gwp,\n",
    "                     solver='gurobi', name=f\"res_gwp\", print_solversteps=True, saveformat = '.pkl')\n"
   ]
  },
  {
   "cell_type": "code",
   "execution_count": 1375,
   "metadata": {},
   "outputs": [
    {
     "data": {
      "text/plain": [
       "2819.6260100000004"
      ]
     },
     "execution_count": 1375,
     "metadata": {},
     "output_type": "execute_result"
    }
   ],
   "source": [
    "results_gwp.output['objective']"
   ]
  },
  {
   "cell_type": "code",
   "execution_count": 1376,
   "metadata": {},
   "outputs": [
    {
     "data": {
      "text/plain": [
       "{None: 490503203.73819226}"
      ]
     },
     "execution_count": 1376,
     "metadata": {},
     "output_type": "execute_result"
    }
   ],
   "source": [
    "results_gwp.output['Cost']"
   ]
  },
  {
   "cell_type": "code",
   "execution_count": 1379,
   "metadata": {},
   "outputs": [],
   "source": [
    "data = results_gwp.output['P']\n",
    "df = pd.DataFrame(data,index=[0])\n",
    "df = df.T\n",
    "# Export the DataFrame to an Excel file\n",
    "df.to_excel(r'C:\\Users\\saatvisuresh_1\\Desktop\\Saatvi Thesis\\5 year_final\\P_output_V_both_GWP_min.xlsx', index=True)"
   ]
  },
  {
   "cell_type": "code",
   "execution_count": 1381,
   "metadata": {},
   "outputs": [
    {
     "name": "stdout",
     "output_type": "stream",
     "text": [
      "[74.22206154448413, 77.93316462170834, 81.82982285279377, 85.92131399543347, 90.21737969520514, 94.7282486799654, 99.46466111396367, 104.43789416966186, 102.24141686860003, 107.35348771203003, 101.98581332642853, 96.88652266010709, 92.04219652710174, 87.44008670074665, 83.06808236570932, 78.91467824742385, 74.96894433505265, 71.22049711830002, 67.65947226238501, 64.27649864926576, 61.062673716802465, 64.11580740264259, 67.32159777277472, 70.68767766141346]\n"
     ]
    },
    {
     "data": {
      "image/png": "[encoded data removed]",
      "text/plain": [
       "<Figure size 1200x600 with 1 Axes>"
      ]
     },
     "metadata": {},
     "output_type": "display_data"
    }
   ],
   "source": [
    "plot_results.schedule(results = results_gwp, y_axis= 'P', component = 'Conventional_NG', location='Houston')"
   ]
  },
  {
   "cell_type": "markdown",
   "metadata": {},
   "source": [
    "5% emission reduction"
   ]
  },
  {
   "cell_type": "code",
   "execution_count": 954,
   "metadata": {},
   "outputs": [
    {
     "name": "stdout",
     "output_type": "stream",
     "text": [
      "constraint process capex\n",
      "constraint process fopex\n",
      "constraint process vopex\n",
      "constraint process incidental\n",
      "constraint storage cost\n",
      "constraint storage cost location\n",
      "constraint storage cost network\n",
      "constraint global warming potential resource\n",
      "constraint global warming potential resource consumption\n",
      "constraint global warming potential resource discharge\n",
      "constraint global warming potential location\n",
      "constraint global warming potential network\n",
      "constraint production mode\n",
      "constraint inventory balance\n",
      "constraint inventory network\n",
      "constraint storage facility\n",
      "constraint production facility\n",
      "constraint min production facility\n",
      "constraint min storage facility\n",
      "constraint demand\n",
      "objective cost\n",
      "constraint global warming potential network reduction\n"
     ]
    },
    {
     "data": {
      "text/plain": [
       "<pyomo.core.base.constraint.IndexedConstraint at 0x1aad185fb90>"
      ]
     },
     "execution_count": 954,
     "metadata": {},
     "output_type": "execute_result"
    }
   ],
   "source": [
    "# Code 1\n",
    "milp_gwp_5 = formulate(scenario=scenario, constraints={Constraints.COST, Constraints.INVENTORY, Constraints.PRODUCTION,\n",
    "                     Constraints.RESOURCE_BALANCE, Constraints.NETWORK, Constraints.DEMAND, Constraints.EMISSION}, objective=Objective.COST, demand_sign = 'eq')\n",
    "from src.energiapy.model.constraints.emission import constraint_global_warming_potential_network_reduction\n",
    "constraint_global_warming_potential_network_reduction(instance= milp_gwp_5, gwp_reduction_pct = 5, gwp = results_cost.output['global_warming_potential_network'][0])\n"
   ]
  },
  {
   "cell_type": "code",
   "execution_count": 955,
   "metadata": {},
   "outputs": [
    {
     "name": "stdout",
     "output_type": "stream",
     "text": [
      "Set parameter OutputFlag to value 1\n",
      "Set parameter QCPDual to value 1\n",
      "Gurobi Optimizer version 12.0.1 build v12.0.1rc0 (win64 - Windows 11.0 (26100.2))\n",
      "\n",
      "CPU model: 13th Gen Intel(R) Core(TM) i7-13700, instruction set [SSE2|AVX|AVX2]\n",
      "Thread count: 16 physical cores, 24 logical processors, using up to 24 threads\n",
      "\n",
      "Non-default parameters:\n",
      "QCPDual  1\n",
      "\n",
      "Optimize a model with 1552 rows, 8057 columns and 4113 nonzeros\n",
      "Model fingerprint: 0x404b9932\n",
      "Variable types: 8053 continuous, 4 integer (4 binary)\n",
      "Coefficient statistics:\n",
      "  Matrix range     [7e-04, 1e+08]\n",
      "  Objective range  [1e+00, 1e+00]\n",
      "  Bounds range     [1e+00, 1e+00]\n",
      "  RHS range        [2e+03, 1e+08]\n",
      "Presolve removed 1547 rows and 8051 columns\n",
      "Presolve time: 0.01s\n",
      "Presolved: 5 rows, 6 columns, 12 nonzeros\n",
      "Variable types: 4 continuous, 2 integer (2 binary)\n",
      "Found heuristic solution: objective 1750.8629789\n",
      "\n",
      "Root relaxation: objective 1.750618e+03, 1 iterations, 0.00 seconds (0.00 work units)\n",
      "\n",
      "    Nodes    |    Current Node    |     Objective Bounds      |     Work\n",
      " Expl Unexpl |  Obj  Depth IntInf | Incumbent    BestBd   Gap | It/Node Time\n",
      "\n",
      "*    0     0               0    1750.6184789 1750.61848  0.00%     -    0s\n",
      "\n",
      "Explored 1 nodes (1 simplex iterations) in 0.02 seconds (0.01 work units)\n",
      "Thread count was 24 (of 24 available processors)\n",
      "\n",
      "Solution count 2: 1750.62 1750.86 \n",
      "\n",
      "Optimal solution found (tolerance 1.00e-04)\n",
      "Best objective 1.750618478871e+03, best bound 1.750618478871e+03, gap 0.0000%\n",
      "WARNING: Cannot get duals for MIP.\n"
     ]
    }
   ],
   "source": [
    "# Code 3 \n",
    "results_gwp_5 = solve(scenario=scenario, instance=milp_gwp_5,\n",
    "                     solver='gurobi', name=f\"res_gwp\", print_solversteps=True, saveformat = '.pkl')"
   ]
  },
  {
   "cell_type": "code",
   "execution_count": 956,
   "metadata": {},
   "outputs": [
    {
     "data": {
      "text/plain": [
       "1750.6184788708817"
      ]
     },
     "execution_count": 956,
     "metadata": {},
     "output_type": "execute_result"
    }
   ],
   "source": [
    "# Code 4\n",
    "results_gwp_5.output['objective']"
   ]
  },
  {
   "cell_type": "code",
   "execution_count": 957,
   "metadata": {},
   "outputs": [
    {
     "data": {
      "text/plain": [
       "{('Houston', 0): 5898.47115}"
      ]
     },
     "execution_count": 957,
     "metadata": {},
     "output_type": "execute_result"
    }
   ],
   "source": [
    "# Code 5\n",
    "results_gwp_5.output['global_warming_potential_location']"
   ]
  },
  {
   "cell_type": "code",
   "execution_count": 959,
   "metadata": {},
   "outputs": [
    {
     "data": {
      "text/plain": [
       "{('Houston', 'Coalbed', 0): 0.0,\n",
       " ('Houston', 'Conventional_NG', 0): 7.633008666511699,\n",
       " ('Houston', 'Grid', 0): 100000000.0,\n",
       " ('Houston', 'ShaleGas', 0): 75.70032466682163}"
      ]
     },
     "execution_count": 959,
     "metadata": {},
     "output_type": "execute_result"
    }
   ],
   "source": [
    "# Code 6\n",
    "results_gwp_5.output['Cap_P']"
   ]
  },
  {
   "cell_type": "code",
   "execution_count": 960,
   "metadata": {},
   "outputs": [
    {
     "name": "stdout",
     "output_type": "stream",
     "text": [
      "[7.633008666511699, 7.633008666511699, 7.633008666511699, 7.633008666511699, 7.633008666511699, 7.633008666511699, 7.633008666511699, 7.633008666511699, 7.633008666511699, 7.633008666511699, 7.633008666511699, 7.633008666511699, 7.633008666511699, 7.633008666511699, 7.633008666511699, 7.633008666511699, 7.633008666511699, 7.633008666511699, 7.633008666511699, 7.633008666511699, 7.633008666511699, 7.633008666511699, 7.633008666511699, 7.633008666511699]\n"
     ]
    },
    {
     "data": {
      "image/png": "[encoded data removed]",
      "text/plain": [
       "<Figure size 1200x600 with 1 Axes>"
      ]
     },
     "metadata": {},
     "output_type": "display_data"
    }
   ],
   "source": [
    "plot_results.schedule(results = results_gwp_5, y_axis= 'P', component = 'Conventional_NG', location='Houston')"
   ]
  },
  {
   "cell_type": "code",
   "execution_count": 1164,
   "metadata": {},
   "outputs": [
    {
     "name": "stdout",
     "output_type": "stream",
     "text": [
      "[75.70032466682163, 75.70032466682163, 75.70032466682163, 75.70032466682163, 75.70032466682163, 75.70032466682163, 75.70032466682163, 75.70032466682163, 75.70032466682163, 75.70032466682163, 75.70032466682163, 75.70032466682163, 75.70032466682163, 75.70032466682163, 75.70032466682163, 75.70032466682163, 75.70032466682163, 75.70032466682163, 75.70032466682163, 75.70032466682163, 75.70032466682163, 75.70032466682163, 75.70032466682163, 75.70032466682163]\n"
     ]
    },
    {
     "data": {
      "image/png": "[encoded data removed]",
      "text/plain": [
       "<Figure size 1200x600 with 1 Axes>"
      ]
     },
     "metadata": {},
     "output_type": "display_data"
    }
   ],
   "source": [
    "plot_results.schedule(results = results_gwp_5, y_axis= 'P', component = 'ShaleGas', location='Houston')"
   ]
  },
  {
   "cell_type": "markdown",
   "metadata": {},
   "source": [
    "Emission Restrictions by 10%"
   ]
  },
  {
   "cell_type": "code",
   "execution_count": 341,
   "metadata": {},
   "outputs": [
    {
     "data": {
      "text/plain": [
       "8073.677426052885"
      ]
     },
     "execution_count": 341,
     "metadata": {},
     "output_type": "execute_result"
    }
   ],
   "source": [
    "results_cost.output['global_warming_potential_network'][0]"
   ]
  },
  {
   "cell_type": "code",
   "execution_count": 342,
   "metadata": {},
   "outputs": [
    {
     "name": "stdout",
     "output_type": "stream",
     "text": [
      "constraint process capex\n",
      "constraint process fopex\n",
      "constraint process vopex\n",
      "constraint process incidental\n",
      "constraint storage cost\n",
      "constraint storage cost location\n",
      "constraint storage cost network\n",
      "constraint global warming potential resource\n",
      "constraint global warming potential resource consumption\n",
      "constraint global warming potential resource discharge\n",
      "constraint global warming potential location\n",
      "constraint global warming potential network\n",
      "constraint production mode\n",
      "constraint inventory balance\n",
      "constraint inventory network\n",
      "constraint storage facility\n",
      "constraint production facility\n",
      "constraint min production facility\n",
      "constraint min storage facility\n",
      "constraint demand\n",
      "objective cost\n",
      "constraint global warming potential network reduction\n"
     ]
    },
    {
     "data": {
      "text/plain": [
       "<pyomo.core.base.constraint.IndexedConstraint at 0x1aad1826050>"
      ]
     },
     "execution_count": 342,
     "metadata": {},
     "output_type": "execute_result"
    }
   ],
   "source": [
    "milp_gwp_10 = formulate(scenario=scenario, constraints={Constraints.COST, Constraints.INVENTORY, Constraints.PRODUCTION,\n",
    "                     Constraints.RESOURCE_BALANCE, Constraints.NETWORK, Constraints.DEMAND, Constraints.EMISSION}, objective=Objective.COST, demand_sign = 'eq')\n",
    "\n",
    "from src.energiapy.model.constraints.emission import constraint_global_warming_potential_network_reduction\n",
    "constraint_global_warming_potential_network_reduction(instance= milp_gwp_10, gwp_reduction_pct = 10, gwp = results_cost.output['global_warming_potential_network'][0])"
   ]
  },
  {
   "cell_type": "code",
   "execution_count": 343,
   "metadata": {},
   "outputs": [],
   "source": [
    "# P is production rate\n",
    "# Loop of how this code runs\n",
    "# Constraint 1: except for the first value (year 1, day 1, hour 0), all the other values ramp up as per the previous production rate\n",
    "milp_gwp_10.cons1 = ConstraintList()\n",
    "for i in scales.scale_iter(2):\n",
    "    if i != (0,0,0):\n",
    "        milp_gwp_10.cons1.add(expr = milp_gwp_10.P['Houston', 'Conventional_NG', *i] - milp_gwp_10.P['Houston', 'Conventional_NG', *scales.scale_iter(2)[scales.scale_iter(2).index(i) - 1]] <= 0.05* milp_gwp_10.P['Houston', 'Conventional_NG', *scales.scale_iter(2)[scales.scale_iter(2).index(i) - 1]])\n",
    "\n",
    "#Constraint 2: Ramp down\n",
    "\n",
    "milp_gwp_10.cons2 = ConstraintList()\n",
    "for i in scales.scale_iter(2):\n",
    "    if i != (0,0,0):\n",
    "        milp_gwp_10.cons2.add(milp_gwp_10.P['Houston', 'Conventional_NG', *scales.scale_iter(2)[scales.scale_iter(2).index(i) - 1]] - milp_gwp_10.P['Houston', 'Conventional_NG', *i] <= 0.05*milp_gwp_10.P['Houston', 'Conventional_NG', *scales.scale_iter(2)[scales.scale_iter(2).index(i) - 1]])\n",
    "\n",
    "# Loop of how this code runs\n",
    "# Constraint 1: except for the first value (year 1, day 1, hour 0), all the other values ramp up as per the previous production rate\n",
    "milp_gwp_10.cons3 = ConstraintList()\n",
    "for i in scales.scale_iter(2):\n",
    "    if i != (0,0,0):\n",
    "        milp_gwp_10.cons3.add(expr = milp_gwp_10.P['Houston', 'ShaleGas', *i] - milp_gwp_10.P['Houston', 'ShaleGas', *scales.scale_iter(2)[scales.scale_iter(2).index(i) - 1]] <= 0.05* milp_gwp_10.P['Houston', 'ShaleGas', *scales.scale_iter(2)[scales.scale_iter(2).index(i) - 1]])\n",
    "\n",
    "#Constraint 2: Ramp down\n",
    "\n",
    "milp_gwp_10.cons4 = ConstraintList()\n",
    "for i in scales.scale_iter(2):\n",
    "    if i != (0,0,0):\n",
    "        milp_gwp_10.cons4.add(milp_gwp_10.P['Houston', 'ShaleGas', *scales.scale_iter(2)[scales.scale_iter(2).index(i) - 1]] - milp_gwp_10.P['Houston', 'ShaleGas', *i] <= 0.05*milp_gwp_10.P['Houston', 'ShaleGas', *scales.scale_iter(2)[scales.scale_iter(2).index(i) - 1]])\n",
    "\n",
    "# Similarly:\n",
    "from pyomo.environ import ConstraintList\n",
    "\n",
    "# Loop of how this code runs\n",
    "# Constraint 1: except for the first value (year 1, day 1, hour 0), all the other values ramp up as per the previous production rate\n",
    "milp_gwp_10.cons5 = ConstraintList()\n",
    "for i in scales.scale_iter(2):\n",
    "    if i != (0,0,0):\n",
    "        milp_gwp_10.cons5.add(expr = milp_gwp_10.P['Houston', 'Coalbed', *i] - milp_gwp_10.P['Houston', 'Coalbed', *scales.scale_iter(2)[scales.scale_iter(2).index(i) - 1]] <= 0.05* milp_gwp_10.P['Houston', 'Coalbed', *scales.scale_iter(2)[scales.scale_iter(2).index(i) - 1]])\n",
    "\n",
    "#Constraint 2: Ramp down\n",
    "\n",
    "milp_gwp_10.cons6 = ConstraintList()\n",
    "for i in scales.scale_iter(2):\n",
    "    if i != (0,0,0):\n",
    "        milp_gwp_10.cons6.add(milp_gwp_10.P['Houston', 'Coalbed', *scales.scale_iter(2)[scales.scale_iter(2).index(i) - 1]] - milp_gwp_10.P['Houston', 'Coalbed', *i] <= 0.05*milp_gwp_10.P['Houston', 'Coalbed', *scales.scale_iter(2)[scales.scale_iter(2).index(i) - 1]])"
   ]
  },
  {
   "cell_type": "code",
   "execution_count": 344,
   "metadata": {},
   "outputs": [
    {
     "name": "stdout",
     "output_type": "stream",
     "text": [
      "Set parameter OutputFlag to value 1\n",
      "Set parameter QCPDual to value 1\n",
      "Gurobi Optimizer version 12.0.1 build v12.0.1rc0 (win64 - Windows 11.0 (26100.2))\n",
      "\n",
      "CPU model: 13th Gen Intel(R) Core(TM) i7-13700, instruction set [SSE2|AVX|AVX2]\n",
      "Thread count: 16 physical cores, 24 logical processors, using up to 24 threads\n",
      "\n",
      "Non-default parameters:\n",
      "QCPDual  1\n",
      "\n",
      "Optimize a model with 1696 rows, 8057 columns and 4449 nonzeros\n",
      "Model fingerprint: 0xc28bd7c4\n",
      "Variable types: 8053 continuous, 4 integer (4 binary)\n",
      "Coefficient statistics:\n",
      "  Matrix range     [7e-04, 1e+08]\n",
      "  Objective range  [1e+00, 1e+00]\n",
      "  Bounds range     [1e+00, 1e+00]\n",
      "  RHS range        [2e+03, 1e+08]\n",
      "Presolve removed 1691 rows and 8051 columns\n",
      "Presolve time: 0.00s\n",
      "Presolved: 5 rows, 6 columns, 12 nonzeros\n",
      "Variable types: 4 continuous, 2 integer (2 binary)\n",
      "Found heuristic solution: objective 2102.0867892\n",
      "\n",
      "Root relaxation: objective 2.101842e+03, 1 iterations, 0.00 seconds (0.00 work units)\n",
      "\n",
      "    Nodes    |    Current Node    |     Objective Bounds      |     Work\n",
      " Expl Unexpl |  Obj  Depth IntInf | Incumbent    BestBd   Gap | It/Node Time\n",
      "\n",
      "*    0     0               0    2101.8422892 2101.84229  0.00%     -    0s\n",
      "\n",
      "Explored 1 nodes (1 simplex iterations) in 0.01 seconds (0.01 work units)\n",
      "Thread count was 24 (of 24 available processors)\n",
      "\n",
      "Solution count 2: 2101.84 2102.09 \n",
      "\n",
      "Optimal solution found (tolerance 1.00e-04)\n",
      "Best objective 2.101842289193e+03, best bound 2.101842289193e+03, gap 0.0000%\n",
      "WARNING: Cannot get duals for MIP.\n"
     ]
    }
   ],
   "source": [
    "results_gwp_10 = solve(scenario=scenario, instance=milp_gwp_10,\n",
    "                     solver='gurobi', name=f\"res_gwp\", print_solversteps=True, saveformat = '.pkl')\n"
   ]
  },
  {
   "cell_type": "code",
   "execution_count": 345,
   "metadata": {},
   "outputs": [
    {
     "data": {
      "text/plain": [
       "2101.8422891928576"
      ]
     },
     "execution_count": 345,
     "metadata": {},
     "output_type": "execute_result"
    }
   ],
   "source": [
    "results_gwp_10.output['objective']"
   ]
  },
  {
   "cell_type": "code",
   "execution_count": 346,
   "metadata": {},
   "outputs": [
    {
     "data": {
      "text/plain": [
       "{('Houston', 0): 7266.309683447596}"
      ]
     },
     "execution_count": 346,
     "metadata": {},
     "output_type": "execute_result"
    }
   ],
   "source": [
    "results_gwp_10.output['global_warming_potential_location']"
   ]
  },
  {
   "cell_type": "code",
   "execution_count": 347,
   "metadata": {},
   "outputs": [
    {
     "data": {
      "text/plain": [
       "{('Houston', 'Coalbed', 0): 0.0,\n",
       " ('Houston', 'Conventional_NG', 0): 19.148589848908188,\n",
       " ('Houston', 'Grid', 0): 100000000.0,\n",
       " ('Houston', 'ShaleGas', 0): 64.18474348442516}"
      ]
     },
     "execution_count": 347,
     "metadata": {},
     "output_type": "execute_result"
    }
   ],
   "source": [
    "results_gwp_10.output['Cap_P']"
   ]
  },
  {
   "cell_type": "markdown",
   "metadata": {},
   "source": [
    "15% emission restrictions"
   ]
  },
  {
   "cell_type": "code",
   "execution_count": 348,
   "metadata": {},
   "outputs": [
    {
     "name": "stdout",
     "output_type": "stream",
     "text": [
      "constraint process capex\n",
      "constraint process fopex\n",
      "constraint process vopex\n",
      "constraint process incidental\n",
      "constraint storage cost\n",
      "constraint storage cost location\n",
      "constraint storage cost network\n",
      "constraint global warming potential resource\n",
      "constraint global warming potential resource consumption\n",
      "constraint global warming potential resource discharge\n",
      "constraint global warming potential location\n",
      "constraint global warming potential network\n",
      "constraint production mode\n",
      "constraint inventory balance\n",
      "constraint inventory network\n",
      "constraint storage facility\n",
      "constraint production facility\n",
      "constraint min production facility\n",
      "constraint min storage facility\n",
      "constraint demand\n",
      "objective cost\n",
      "constraint global warming potential network reduction\n"
     ]
    }
   ],
   "source": [
    "# Code 1\n",
    "milp_gwp_15 = formulate(scenario=scenario, constraints={Constraints.COST, Constraints.INVENTORY, Constraints.PRODUCTION,\n",
    "                     Constraints.RESOURCE_BALANCE, Constraints.NETWORK, Constraints.DEMAND, Constraints.EMISSION}, objective=Objective.COST, demand_sign = 'eq')\n",
    "\n",
    "constraint_global_warming_potential_network_reduction(instance= milp_gwp_15, gwp_reduction_pct = 15, gwp = results_cost.output['global_warming_potential_network'][0])\n",
    "\n",
    "# Code 2\n",
    "from pyomo.environ import ConstraintList\n",
    "\n",
    "# Constraint 1: Ramp-up for Conventional_NG\n",
    "milp_gwp_15.cons1 = ConstraintList()\n",
    "for i in scales.scale_iter(2):\n",
    "    if i != (0,0,0):\n",
    "        milp_gwp_15.cons1.add(\n",
    "            expr = milp_gwp_15.P['Houston', 'Conventional_NG', *i] - \n",
    "                   milp_gwp_15.P['Houston', 'Conventional_NG', *scales.scale_iter(2)[scales.scale_iter(2).index(i) - 1]] \n",
    "                   <= 0.05 * milp_gwp_15.P['Houston', 'Conventional_NG', *scales.scale_iter(2)[scales.scale_iter(2).index(i) - 1]]\n",
    "        )\n",
    "\n",
    "# Constraint 2: Ramp-down for Conventional_NG\n",
    "milp_gwp_15.cons2 = ConstraintList()\n",
    "for i in scales.scale_iter(2):\n",
    "    if i != (0,0,0):\n",
    "        milp_gwp_15.cons2.add(\n",
    "            milp_gwp_15.P['Houston', 'Conventional_NG', *scales.scale_iter(2)[scales.scale_iter(2).index(i) - 1]] - \n",
    "            milp_gwp_15.P['Houston', 'Conventional_NG', *i] \n",
    "            <= 0.05 * milp_gwp_15.P['Houston', 'Conventional_NG', *scales.scale_iter(2)[scales.scale_iter(2).index(i) - 1]]\n",
    "        )\n",
    "\n",
    "# Constraint 3: Ramp-up for ShaleGas\n",
    "milp_gwp_15.cons3 = ConstraintList()\n",
    "for i in scales.scale_iter(2):\n",
    "    if i != (0,0,0):\n",
    "        milp_gwp_15.cons3.add(\n",
    "            expr = milp_gwp_15.P['Houston', 'ShaleGas', *i] - \n",
    "                   milp_gwp_15.P['Houston', 'ShaleGas', *scales.scale_iter(2)[scales.scale_iter(2).index(i) - 1]] \n",
    "                   <= 0.05 * milp_gwp_15.P['Houston', 'ShaleGas', *scales.scale_iter(2)[scales.scale_iter(2).index(i) - 1]]\n",
    "        )\n",
    "\n",
    "# Constraint 4: Ramp-down for ShaleGas\n",
    "milp_gwp_15.cons4 = ConstraintList()\n",
    "for i in scales.scale_iter(2):\n",
    "    if i != (0,0,0):\n",
    "        milp_gwp_15.cons4.add(\n",
    "            milp_gwp_15.P['Houston', 'ShaleGas', *scales.scale_iter(2)[scales.scale_iter(2).index(i) - 1]] - \n",
    "            milp_gwp_15.P['Houston', 'ShaleGas', *i] \n",
    "            <= 0.05 * milp_gwp_15.P['Houston', 'ShaleGas', *scales.scale_iter(2)[scales.scale_iter(2).index(i) - 1]]\n",
    "        )\n",
    "\n",
    "# Constraint 5: Ramp-up for Coalbed\n",
    "milp_gwp_15.cons5 = ConstraintList()\n",
    "for i in scales.scale_iter(2):\n",
    "    if i != (0,0,0):\n",
    "        milp_gwp_15.cons5.add(\n",
    "            expr = milp_gwp_15.P['Houston', 'Coalbed', *i] - \n",
    "                   milp_gwp_15.P['Houston', 'Coalbed', *scales.scale_iter(2)[scales.scale_iter(2).index(i) - 1]] \n",
    "                   <= 0.05 * milp_gwp_15.P['Houston', 'Coalbed', *scales.scale_iter(2)[scales.scale_iter(2).index(i) - 1]]\n",
    "        )\n",
    "\n",
    "# Constraint 6: Ramp-down for Coalbed\n",
    "milp_gwp_15.cons6 = ConstraintList()\n",
    "for i in scales.scale_iter(2):\n",
    "    if i != (0,0,0):\n",
    "        milp_gwp_15.cons6.add(\n",
    "            milp_gwp_15.P['Houston', 'Coalbed', *scales.scale_iter(2)[scales.scale_iter(2).index(i) - 1]] - \n",
    "            milp_gwp_15.P['Houston', 'Coalbed', *i] \n",
    "            <= 0.05 * milp_gwp_15.P['Houston', 'Coalbed', *scales.scale_iter(2)[scales.scale_iter(2).index(i) - 1]]\n",
    "        )"
   ]
  },
  {
   "cell_type": "code",
   "execution_count": 349,
   "metadata": {},
   "outputs": [
    {
     "name": "stdout",
     "output_type": "stream",
     "text": [
      "Set parameter OutputFlag to value 1\n",
      "Set parameter QCPDual to value 1\n",
      "Gurobi Optimizer version 12.0.1 build v12.0.1rc0 (win64 - Windows 11.0 (26100.2))\n",
      "\n",
      "CPU model: 13th Gen Intel(R) Core(TM) i7-13700, instruction set [SSE2|AVX|AVX2]\n",
      "Thread count: 16 physical cores, 24 logical processors, using up to 24 threads\n",
      "\n",
      "Non-default parameters:\n",
      "QCPDual  1\n",
      "\n",
      "Optimize a model with 1696 rows, 8057 columns and 4449 nonzeros\n",
      "Model fingerprint: 0xc42736b3\n",
      "Variable types: 8053 continuous, 4 integer (4 binary)\n",
      "Coefficient statistics:\n",
      "  Matrix range     [7e-04, 1e+08]\n",
      "  Objective range  [1e+00, 1e+00]\n",
      "  Bounds range     [1e+00, 1e+00]\n",
      "  RHS range        [2e+03, 1e+08]\n",
      "Presolve removed 1691 rows and 8051 columns\n",
      "Presolve time: 0.01s\n",
      "Presolved: 5 rows, 6 columns, 12 nonzeros\n",
      "Variable types: 4 continuous, 2 integer (2 binary)\n",
      "Found heuristic solution: objective 2302.6253364\n",
      "\n",
      "Root relaxation: objective 2.302381e+03, 1 iterations, 0.00 seconds (0.00 work units)\n",
      "\n",
      "    Nodes    |    Current Node    |     Objective Bounds      |     Work\n",
      " Expl Unexpl |  Obj  Depth IntInf | Incumbent    BestBd   Gap | It/Node Time\n",
      "\n",
      "*    0     0               0    2302.3808364 2302.38084  0.00%     -    0s\n",
      "\n",
      "Explored 1 nodes (1 simplex iterations) in 0.01 seconds (0.01 work units)\n",
      "Thread count was 24 (of 24 available processors)\n",
      "\n",
      "Solution count 2: 2302.38 2302.63 \n",
      "\n",
      "Optimal solution found (tolerance 1.00e-04)\n",
      "Best objective 2.302380836443e+03, best bound 2.302380836443e+03, gap 0.0000%\n",
      "WARNING: Cannot get duals for MIP.\n"
     ]
    }
   ],
   "source": [
    "# Code 3 \n",
    "results_gwp_15 = solve(scenario=scenario, instance=milp_gwp_15,\n",
    "                     solver='gurobi', name=f\"res_gwp\", print_solversteps=True, saveformat = '.pkl')\n"
   ]
  },
  {
   "cell_type": "code",
   "execution_count": 350,
   "metadata": {},
   "outputs": [
    {
     "data": {
      "text/plain": [
       "2302.380836442619"
      ]
     },
     "execution_count": 350,
     "metadata": {},
     "output_type": "execute_result"
    }
   ],
   "source": [
    "# Code 4\n",
    "results_gwp_15.output['objective']"
   ]
  },
  {
   "cell_type": "code",
   "execution_count": 351,
   "metadata": {},
   "outputs": [
    {
     "data": {
      "text/plain": [
       "{('Houston', 0): 6862.625812144952}"
      ]
     },
     "execution_count": 351,
     "metadata": {},
     "output_type": "execute_result"
    }
   ],
   "source": [
    "# Code 5\n",
    "results_gwp_15.output['global_warming_potential_location']"
   ]
  },
  {
   "cell_type": "code",
   "execution_count": 352,
   "metadata": {},
   "outputs": [
    {
     "data": {
      "text/plain": [
       "{('Houston', 'Coalbed', 0): 0.0,\n",
       " ('Houston', 'Conventional_NG', 0): 28.722884773362274,\n",
       " ('Houston', 'Grid', 0): 100000000.0,\n",
       " ('Houston', 'ShaleGas', 0): 54.61044855997106}"
      ]
     },
     "execution_count": 352,
     "metadata": {},
     "output_type": "execute_result"
    }
   ],
   "source": [
    "results_gwp_15.output['Cap_P']"
   ]
  },
  {
   "cell_type": "markdown",
   "metadata": {},
   "source": [
    "20% Emission Restrictions"
   ]
  },
  {
   "cell_type": "code",
   "execution_count": 353,
   "metadata": {},
   "outputs": [
    {
     "name": "stdout",
     "output_type": "stream",
     "text": [
      "constraint process capex\n",
      "constraint process fopex\n",
      "constraint process vopex\n",
      "constraint process incidental\n",
      "constraint storage cost\n",
      "constraint storage cost location\n",
      "constraint storage cost network\n",
      "constraint global warming potential resource\n",
      "constraint global warming potential resource consumption\n",
      "constraint global warming potential resource discharge\n",
      "constraint global warming potential location\n",
      "constraint global warming potential network\n",
      "constraint production mode\n",
      "constraint inventory balance\n",
      "constraint inventory network\n",
      "constraint storage facility\n",
      "constraint production facility\n",
      "constraint min production facility\n",
      "constraint min storage facility\n",
      "constraint demand\n",
      "objective cost\n",
      "constraint global warming potential network reduction\n"
     ]
    },
    {
     "data": {
      "text/plain": [
       "<pyomo.core.base.constraint.IndexedConstraint at 0x1aacdfd5a50>"
      ]
     },
     "execution_count": 353,
     "metadata": {},
     "output_type": "execute_result"
    }
   ],
   "source": [
    "milp_gwp_20 = formulate(scenario=scenario, constraints={Constraints.COST, Constraints.INVENTORY, Constraints.PRODUCTION,\n",
    "                     Constraints.RESOURCE_BALANCE, Constraints.NETWORK, Constraints.DEMAND, Constraints.EMISSION}, objective=Objective.COST, demand_sign = 'eq')\n",
    "\n",
    "constraint_global_warming_potential_network_reduction(instance= milp_gwp_20, gwp_reduction_pct = 20, gwp = results_cost.output['global_warming_potential_network'][0])"
   ]
  },
  {
   "cell_type": "code",
   "execution_count": 354,
   "metadata": {},
   "outputs": [],
   "source": [
    "# P is production rate\n",
    "# Loop of how this code runs\n",
    "# Constraint 1: except for the first value (year 1, day 1, hour 0), all the other values ramp up as per the previous production rate\n",
    "milp_gwp_20.cons1 = ConstraintList()\n",
    "for i in scales.scale_iter(2):\n",
    "    if i != (0,0,0):\n",
    "        milp_gwp_20.cons1.add(expr = milp_gwp_20.P['Houston', 'Conventional_NG', *i] - milp_gwp_20.P['Houston', 'Conventional_NG', *scales.scale_iter(2)[scales.scale_iter(2).index(i) - 1]] <= 0.05* milp_gwp_20.P['Houston', 'Conventional_NG', *scales.scale_iter(2)[scales.scale_iter(2).index(i) - 1]])\n",
    "\n",
    "#Constraint 2: Ramp down\n",
    "\n",
    "milp_gwp_20.cons2 = ConstraintList()\n",
    "for i in scales.scale_iter(2):\n",
    "    if i != (0,0,0):\n",
    "        milp_gwp_20.cons2.add(milp_gwp_20.P['Houston', 'Conventional_NG', *scales.scale_iter(2)[scales.scale_iter(2).index(i) - 1]] - milp_gwp_20.P['Houston', 'Conventional_NG', *i] <= 0.05*milp_gwp_20.P['Houston', 'Conventional_NG', *scales.scale_iter(2)[scales.scale_iter(2).index(i) - 1]])\n",
    "\n",
    "# Loop of how this code runs\n",
    "# Constraint 1: except for the first value (year 1, day 1, hour 0), all the other values ramp up as per the previous production rate\n",
    "milp_gwp_20.cons3 = ConstraintList()\n",
    "for i in scales.scale_iter(2):\n",
    "    if i != (0,0,0):\n",
    "        milp_gwp_20.cons3.add(expr = milp_gwp_20.P['Houston', 'ShaleGas', *i] - milp_gwp_20.P['Houston', 'ShaleGas', *scales.scale_iter(2)[scales.scale_iter(2).index(i) - 1]] <= 0.05* milp_gwp_20.P['Houston', 'ShaleGas', *scales.scale_iter(2)[scales.scale_iter(2).index(i) - 1]])\n",
    "\n",
    "#Constraint 2: Ramp down\n",
    "\n",
    "milp_gwp_20.cons4 = ConstraintList()\n",
    "for i in scales.scale_iter(2):\n",
    "    if i != (0,0,0):\n",
    "        milp_gwp_20.cons4.add(milp_gwp_20.P['Houston', 'ShaleGas', *scales.scale_iter(2)[scales.scale_iter(2).index(i) - 1]] - milp_gwp_20.P['Houston', 'ShaleGas', *i] <= 0.05*milp_gwp_20.P['Houston', 'ShaleGas', *scales.scale_iter(2)[scales.scale_iter(2).index(i) - 1]])\n",
    "\n",
    "# Similarly:\n",
    "from pyomo.environ import ConstraintList\n",
    "\n",
    "# Loop of how this code runs\n",
    "# Constraint 1: except for the first value (year 1, day 1, hour 0), all the other values ramp up as per the previous production rate\n",
    "milp_gwp_20.cons5 = ConstraintList()\n",
    "for i in scales.scale_iter(2):\n",
    "    if i != (0,0,0):\n",
    "        milp_gwp_20.cons5.add(expr = milp_gwp_20.P['Houston', 'Coalbed', *i] - milp_gwp_20.P['Houston', 'Coalbed', *scales.scale_iter(2)[scales.scale_iter(2).index(i) - 1]] <= 0.05* milp_gwp_20.P['Houston', 'Coalbed', *scales.scale_iter(2)[scales.scale_iter(2).index(i) - 1]])\n",
    "\n",
    "#Constraint 2: Ramp down\n",
    "\n",
    "milp_gwp_20.cons6 = ConstraintList()\n",
    "for i in scales.scale_iter(2):\n",
    "    if i != (0,0,0):\n",
    "        milp_gwp_20.cons6.add(milp_gwp_20.P['Houston', 'Coalbed', *scales.scale_iter(2)[scales.scale_iter(2).index(i) - 1]] - milp_gwp_20.P['Houston', 'Coalbed', *i] <= 0.05*milp_gwp_20.P['Houston', 'Coalbed', *scales.scale_iter(2)[scales.scale_iter(2).index(i) - 1]])\n",
    "\n"
   ]
  },
  {
   "cell_type": "code",
   "execution_count": 355,
   "metadata": {},
   "outputs": [
    {
     "name": "stdout",
     "output_type": "stream",
     "text": [
      "Set parameter OutputFlag to value 1\n",
      "Set parameter QCPDual to value 1\n",
      "Gurobi Optimizer version 12.0.1 build v12.0.1rc0 (win64 - Windows 11.0 (26100.2))\n",
      "\n",
      "CPU model: 13th Gen Intel(R) Core(TM) i7-13700, instruction set [SSE2|AVX|AVX2]\n",
      "Thread count: 16 physical cores, 24 logical processors, using up to 24 threads\n",
      "\n",
      "Non-default parameters:\n",
      "QCPDual  1\n",
      "\n",
      "Optimize a model with 1696 rows, 8057 columns and 4449 nonzeros\n",
      "Model fingerprint: 0x47c411fa\n",
      "Variable types: 8053 continuous, 4 integer (4 binary)\n",
      "Coefficient statistics:\n",
      "  Matrix range     [7e-04, 1e+08]\n",
      "  Objective range  [1e+00, 1e+00]\n",
      "  Bounds range     [1e+00, 1e+00]\n",
      "  RHS range        [2e+03, 1e+08]\n",
      "Presolve removed 1691 rows and 8051 columns\n",
      "Presolve time: 0.00s\n",
      "Presolved: 5 rows, 6 columns, 12 nonzeros\n",
      "Variable types: 4 continuous, 2 integer (2 binary)\n",
      "Found heuristic solution: objective 2503.1638837\n",
      "\n",
      "Root relaxation: interrupted, 0 iterations, 0.00 seconds (0.00 work units)\n",
      "\n",
      "Explored 1 nodes (0 simplex iterations) in 0.01 seconds (0.01 work units)\n",
      "Thread count was 24 (of 24 available processors)\n",
      "\n",
      "Solution count 1: 2503.16 \n",
      "\n",
      "Optimal solution found (tolerance 1.00e-04)\n",
      "Best objective 2.503163883692e+03, best bound 2.502919383692e+03, gap 0.0098%\n",
      "WARNING: Cannot get duals for MIP.\n"
     ]
    }
   ],
   "source": [
    "results_gwp_20 = solve(scenario=scenario, instance=milp_gwp_20,\n",
    "                     solver='gurobi', name=f\"res_gwp\", print_solversteps=True, saveformat = '.pkl')\n"
   ]
  },
  {
   "cell_type": "code",
   "execution_count": 356,
   "metadata": {},
   "outputs": [
    {
     "data": {
      "text/plain": [
       "2503.1638836923808"
      ]
     },
     "execution_count": 356,
     "metadata": {},
     "output_type": "execute_result"
    }
   ],
   "source": [
    "results_gwp_20.output['objective']"
   ]
  },
  {
   "cell_type": "code",
   "execution_count": 357,
   "metadata": {},
   "outputs": [
    {
     "data": {
      "text/plain": [
       "{('Houston', 0): 6458.941940842308}"
      ]
     },
     "execution_count": 357,
     "metadata": {},
     "output_type": "execute_result"
    }
   ],
   "source": [
    "results_gwp_20.output['global_warming_potential_location']"
   ]
  },
  {
   "cell_type": "code",
   "execution_count": 358,
   "metadata": {},
   "outputs": [
    {
     "data": {
      "text/plain": [
       "{('Houston', 'Coalbed', 0): 0.1,\n",
       " ('Houston', 'Conventional_NG', 0): 38.29717969781634,\n",
       " ('Houston', 'Grid', 0): 100000000.0,\n",
       " ('Houston', 'ShaleGas', 0): 45.03615363551699}"
      ]
     },
     "execution_count": 358,
     "metadata": {},
     "output_type": "execute_result"
    }
   ],
   "source": [
    "results_gwp_20.output['Cap_P']"
   ]
  },
  {
   "cell_type": "markdown",
   "metadata": {},
   "source": [
    "25% emission reductions"
   ]
  },
  {
   "cell_type": "code",
   "execution_count": 359,
   "metadata": {},
   "outputs": [
    {
     "name": "stdout",
     "output_type": "stream",
     "text": [
      "constraint process capex\n",
      "constraint process fopex\n",
      "constraint process vopex\n",
      "constraint process incidental\n",
      "constraint storage cost\n",
      "constraint storage cost location\n",
      "constraint storage cost network\n",
      "constraint global warming potential resource\n",
      "constraint global warming potential resource consumption\n",
      "constraint global warming potential resource discharge\n",
      "constraint global warming potential location\n",
      "constraint global warming potential network\n",
      "constraint production mode\n",
      "constraint inventory balance\n",
      "constraint inventory network\n",
      "constraint storage facility\n",
      "constraint production facility\n",
      "constraint min production facility\n",
      "constraint min storage facility\n",
      "constraint demand\n",
      "objective cost\n",
      "constraint global warming potential network reduction\n"
     ]
    }
   ],
   "source": [
    "#Code 1\n",
    "milp_gwp_25 = formulate(scenario=scenario, constraints={Constraints.COST, Constraints.INVENTORY, Constraints.PRODUCTION,\n",
    "                     Constraints.RESOURCE_BALANCE, Constraints.NETWORK, Constraints.DEMAND, Constraints.EMISSION}, objective=Objective.COST, demand_sign = 'eq')\n",
    "\n",
    "constraint_global_warming_potential_network_reduction(instance= milp_gwp_25, gwp_reduction_pct = 25, gwp = results_cost.output['global_warming_potential_network'][0])\n",
    "\n",
    "# Code 2\n",
    "from pyomo.environ import ConstraintList\n",
    "\n",
    "# Constraint 1: Ramp-up for Conventional_NG\n",
    "milp_gwp_25.cons1 = ConstraintList()\n",
    "for i in scales.scale_iter(2):\n",
    "    if i != (0,0,0):\n",
    "        milp_gwp_25.cons1.add(\n",
    "            expr = milp_gwp_25.P['Houston', 'Conventional_NG', *i] - \n",
    "                   milp_gwp_25.P['Houston', 'Conventional_NG', *scales.scale_iter(2)[scales.scale_iter(2).index(i) - 1]] \n",
    "                   <= 0.05 * milp_gwp_25.P['Houston', 'Conventional_NG', *scales.scale_iter(2)[scales.scale_iter(2).index(i) - 1]]\n",
    "        )\n",
    "\n",
    "# Constraint 2: Ramp-down for Conventional_NG\n",
    "milp_gwp_25.cons2 = ConstraintList()\n",
    "for i in scales.scale_iter(2):\n",
    "    if i != (0,0,0):\n",
    "        milp_gwp_25.cons2.add(\n",
    "            milp_gwp_25.P['Houston', 'Conventional_NG', *scales.scale_iter(2)[scales.scale_iter(2).index(i) - 1]] - \n",
    "            milp_gwp_25.P['Houston', 'Conventional_NG', *i] \n",
    "            <= 0.05 * milp_gwp_25.P['Houston', 'Conventional_NG', *scales.scale_iter(2)[scales.scale_iter(2).index(i) - 1]]\n",
    "        )\n",
    "\n",
    "# Constraint 3: Ramp-up for ShaleGas\n",
    "milp_gwp_25.cons3 = ConstraintList()\n",
    "for i in scales.scale_iter(2):\n",
    "    if i != (0,0,0):\n",
    "        milp_gwp_25.cons3.add(\n",
    "            expr = milp_gwp_25.P['Houston', 'ShaleGas', *i] - \n",
    "                   milp_gwp_25.P['Houston', 'ShaleGas', *scales.scale_iter(2)[scales.scale_iter(2).index(i) - 1]] \n",
    "                   <= 0.05 * milp_gwp_25.P['Houston', 'ShaleGas', *scales.scale_iter(2)[scales.scale_iter(2).index(i) - 1]]\n",
    "        )\n",
    "\n",
    "# Constraint 4: Ramp-down for ShaleGas\n",
    "milp_gwp_25.cons4 = ConstraintList()\n",
    "for i in scales.scale_iter(2):\n",
    "    if i != (0,0,0):\n",
    "        milp_gwp_25.cons4.add(\n",
    "            milp_gwp_25.P['Houston', 'ShaleGas', *scales.scale_iter(2)[scales.scale_iter(2).index(i) - 1]] - \n",
    "            milp_gwp_25.P['Houston', 'ShaleGas', *i] \n",
    "            <= 0.05 * milp_gwp_25.P['Houston', 'ShaleGas', *scales.scale_iter(2)[scales.scale_iter(2).index(i) - 1]]\n",
    "        )\n",
    "\n",
    "# Constraint 5: Ramp-up for Coalbed\n",
    "milp_gwp_25.cons5 = ConstraintList()\n",
    "for i in scales.scale_iter(2):\n",
    "    if i != (0,0,0):\n",
    "        milp_gwp_25.cons5.add(\n",
    "            expr = milp_gwp_25.P['Houston', 'Coalbed', *i] - \n",
    "                   milp_gwp_25.P['Houston', 'Coalbed', *scales.scale_iter(2)[scales.scale_iter(2).index(i) - 1]] \n",
    "                   <= 0.05 * milp_gwp_25.P['Houston', 'Coalbed', *scales.scale_iter(2)[scales.scale_iter(2).index(i) - 1]]\n",
    "        )\n",
    "\n",
    "# Constraint 6: Ramp-down for Coalbed\n",
    "milp_gwp_25.cons6 = ConstraintList()\n",
    "for i in scales.scale_iter(2):\n",
    "    if i != (0,0,0):\n",
    "        milp_gwp_25.cons6.add(\n",
    "            milp_gwp_25.P['Houston', 'Coalbed', *scales.scale_iter(2)[scales.scale_iter(2).index(i) - 1]] - \n",
    "            milp_gwp_25.P['Houston', 'Coalbed', *i] \n",
    "            <= 0.05 * milp_gwp_25.P['Houston', 'Coalbed', *scales.scale_iter(2)[scales.scale_iter(2).index(i) - 1]]\n",
    "        )\n"
   ]
  },
  {
   "cell_type": "code",
   "execution_count": 360,
   "metadata": {},
   "outputs": [
    {
     "name": "stdout",
     "output_type": "stream",
     "text": [
      "Set parameter OutputFlag to value 1\n",
      "Set parameter QCPDual to value 1\n",
      "Gurobi Optimizer version 12.0.1 build v12.0.1rc0 (win64 - Windows 11.0 (26100.2))\n",
      "\n",
      "CPU model: 13th Gen Intel(R) Core(TM) i7-13700, instruction set [SSE2|AVX|AVX2]\n",
      "Thread count: 16 physical cores, 24 logical processors, using up to 24 threads\n",
      "\n",
      "Non-default parameters:\n",
      "QCPDual  1\n",
      "\n",
      "Optimize a model with 1696 rows, 8057 columns and 4449 nonzeros\n",
      "Model fingerprint: 0x3576165e\n",
      "Variable types: 8053 continuous, 4 integer (4 binary)\n",
      "Coefficient statistics:\n",
      "  Matrix range     [7e-04, 1e+08]\n",
      "  Objective range  [1e+00, 1e+00]\n",
      "  Bounds range     [1e+00, 1e+00]\n",
      "  RHS range        [2e+03, 1e+08]\n",
      "Presolve removed 1691 rows and 8051 columns\n",
      "Presolve time: 0.00s\n",
      "Presolved: 5 rows, 6 columns, 12 nonzeros\n",
      "Variable types: 4 continuous, 2 integer (2 binary)\n",
      "Found heuristic solution: objective 2703.7024309\n",
      "\n",
      "Root relaxation: interrupted, 0 iterations, 0.00 seconds (0.00 work units)\n",
      "\n",
      "Explored 1 nodes (0 simplex iterations) in 0.01 seconds (0.01 work units)\n",
      "Thread count was 24 (of 24 available processors)\n",
      "\n",
      "Solution count 1: 2703.7 \n",
      "\n",
      "Optimal solution found (tolerance 1.00e-04)\n",
      "Best objective 2.703702430942e+03, best bound 2.703457930942e+03, gap 0.0090%\n",
      "WARNING: Cannot get duals for MIP.\n"
     ]
    }
   ],
   "source": [
    "# Code 3 \n",
    "results_gwp_25 = solve(scenario=scenario, instance=milp_gwp_25,\n",
    "                     solver='gurobi', name=f\"res_gwp\", print_solversteps=True, saveformat = '.pkl')"
   ]
  },
  {
   "cell_type": "code",
   "execution_count": 361,
   "metadata": {},
   "outputs": [
    {
     "data": {
      "text/plain": [
       "2703.7024309421436"
      ]
     },
     "execution_count": 361,
     "metadata": {},
     "output_type": "execute_result"
    }
   ],
   "source": [
    "# Code 4\n",
    "results_gwp_25.output['objective']"
   ]
  },
  {
   "cell_type": "code",
   "execution_count": 362,
   "metadata": {},
   "outputs": [
    {
     "data": {
      "text/plain": [
       "{('Houston', 0): 6055.258069539664}"
      ]
     },
     "execution_count": 362,
     "metadata": {},
     "output_type": "execute_result"
    }
   ],
   "source": [
    "# Code 5\n",
    "results_gwp_25.output['global_warming_potential_location']"
   ]
  },
  {
   "cell_type": "code",
   "execution_count": 363,
   "metadata": {},
   "outputs": [
    {
     "data": {
      "text/plain": [
       "{('Houston', 'Coalbed', 0): 0.1,\n",
       " ('Houston', 'Conventional_NG', 0): 47.87147462227043,\n",
       " ('Houston', 'Grid', 0): 100000000.0,\n",
       " ('Houston', 'ShaleGas', 0): 35.4618587110629}"
      ]
     },
     "execution_count": 363,
     "metadata": {},
     "output_type": "execute_result"
    }
   ],
   "source": [
    "results_gwp_25.output['Cap_P']"
   ]
  },
  {
   "cell_type": "markdown",
   "metadata": {},
   "source": [
    "30% emission restrictions"
   ]
  },
  {
   "cell_type": "code",
   "execution_count": 364,
   "metadata": {},
   "outputs": [
    {
     "name": "stdout",
     "output_type": "stream",
     "text": [
      "constraint process capex\n",
      "constraint process fopex\n",
      "constraint process vopex\n",
      "constraint process incidental\n",
      "constraint storage cost\n",
      "constraint storage cost location\n",
      "constraint storage cost network\n",
      "constraint global warming potential resource\n",
      "constraint global warming potential resource consumption\n",
      "constraint global warming potential resource discharge\n",
      "constraint global warming potential location\n",
      "constraint global warming potential network\n",
      "constraint production mode\n",
      "constraint inventory balance\n",
      "constraint inventory network\n",
      "constraint storage facility\n",
      "constraint production facility\n",
      "constraint min production facility\n",
      "constraint min storage facility\n",
      "constraint demand\n",
      "objective cost\n",
      "constraint global warming potential network reduction\n"
     ]
    },
    {
     "data": {
      "text/plain": [
       "<pyomo.core.base.constraint.IndexedConstraint at 0x1aad1e5ad50>"
      ]
     },
     "execution_count": 364,
     "metadata": {},
     "output_type": "execute_result"
    }
   ],
   "source": [
    "milp_gwp_30 = formulate(scenario=scenario, constraints={Constraints.COST, Constraints.INVENTORY, Constraints.PRODUCTION,\n",
    "                     Constraints.RESOURCE_BALANCE, Constraints.NETWORK, Constraints.DEMAND, Constraints.EMISSION}, objective=Objective.COST, demand_sign = 'eq')\n",
    "\n",
    "constraint_global_warming_potential_network_reduction(instance= milp_gwp_30, gwp_reduction_pct = 30, gwp = results_cost.output['global_warming_potential_network'][0])"
   ]
  },
  {
   "cell_type": "code",
   "execution_count": 365,
   "metadata": {},
   "outputs": [],
   "source": [
    "# P is production rate\n",
    "# Loop of how this code runs\n",
    "# Constraint 1: except for the first value (year 1, day 1, hour 0), all the other values ramp up as per the previous production rate\n",
    "milp_gwp_30.cons1 = ConstraintList()\n",
    "for i in scales.scale_iter(2):\n",
    "    if i != (0,0,0):\n",
    "        milp_gwp_30.cons1.add(expr = milp_gwp_30.P['Houston', 'Conventional_NG', *i] - milp_gwp_30.P['Houston', 'Conventional_NG', *scales.scale_iter(2)[scales.scale_iter(2).index(i) - 1]] <= 0.05* milp_gwp_30.P['Houston', 'Conventional_NG', *scales.scale_iter(2)[scales.scale_iter(2).index(i) - 1]])\n",
    "\n",
    "#Constraint 2: Ramp down\n",
    "\n",
    "milp_gwp_30.cons2 = ConstraintList()\n",
    "for i in scales.scale_iter(2):\n",
    "    if i != (0,0,0):\n",
    "        milp_gwp_30.cons2.add(milp_gwp_30.P['Houston', 'Conventional_NG', *scales.scale_iter(2)[scales.scale_iter(2).index(i) - 1]] - milp_gwp_30.P['Houston', 'Conventional_NG', *i] <= 0.05*milp_gwp_30.P['Houston', 'Conventional_NG', *scales.scale_iter(2)[scales.scale_iter(2).index(i) - 1]])\n",
    "\n",
    "# Loop of how this code runs\n",
    "# Constraint 1: except for the first value (year 1, day 1, hour 0), all the other values ramp up as per the previous production rate\n",
    "milp_gwp_30.cons3 = ConstraintList()\n",
    "for i in scales.scale_iter(2):\n",
    "    if i != (0,0,0):\n",
    "        milp_gwp_30.cons3.add(expr = milp_gwp_30.P['Houston', 'ShaleGas', *i] - milp_gwp_30.P['Houston', 'ShaleGas', *scales.scale_iter(2)[scales.scale_iter(2).index(i) - 1]] <= 0.05* milp_gwp_30.P['Houston', 'ShaleGas', *scales.scale_iter(2)[scales.scale_iter(2).index(i) - 1]])\n",
    "\n",
    "#Constraint 2: Ramp down\n",
    "\n",
    "milp_gwp_30.cons4 = ConstraintList()\n",
    "for i in scales.scale_iter(2):\n",
    "    if i != (0,0,0):\n",
    "        milp_gwp_30.cons4.add(milp_gwp_30.P['Houston', 'ShaleGas', *scales.scale_iter(2)[scales.scale_iter(2).index(i) - 1]] - milp_gwp_30.P['Houston', 'ShaleGas', *i] <= 0.05*milp_gwp_30.P['Houston', 'ShaleGas', *scales.scale_iter(2)[scales.scale_iter(2).index(i) - 1]])\n",
    "\n",
    "# Similarly:\n",
    "from pyomo.environ import ConstraintList\n",
    "\n",
    "# Loop of how this code runs\n",
    "# Constraint 1: except for the first value (year 1, day 1, hour 0), all the other values ramp up as per the previous production rate\n",
    "milp_gwp_30.cons5 = ConstraintList()\n",
    "for i in scales.scale_iter(2):\n",
    "    if i != (0,0,0):\n",
    "        milp_gwp_30.cons5.add(expr = milp_gwp_30.P['Houston', 'Coalbed', *i] - milp_gwp_30.P['Houston', 'Coalbed', *scales.scale_iter(2)[scales.scale_iter(2).index(i) - 1]] <= 0.05* milp_gwp_30.P['Houston', 'Coalbed', *scales.scale_iter(2)[scales.scale_iter(2).index(i) - 1]])\n",
    "\n",
    "#Constraint 2: Ramp down\n",
    "\n",
    "milp_gwp_30.cons6 = ConstraintList()\n",
    "for i in scales.scale_iter(2):\n",
    "    if i != (0,0,0):\n",
    "        milp_gwp_30.cons6.add(milp_gwp_30.P['Houston', 'Coalbed', *scales.scale_iter(2)[scales.scale_iter(2).index(i) - 1]] - milp_gwp_30.P['Houston', 'Coalbed', *i] <= 0.05*milp_gwp_30.P['Houston', 'Coalbed', *scales.scale_iter(2)[scales.scale_iter(2).index(i) - 1]])"
   ]
  },
  {
   "cell_type": "code",
   "execution_count": 366,
   "metadata": {},
   "outputs": [
    {
     "name": "stdout",
     "output_type": "stream",
     "text": [
      "Set parameter OutputFlag to value 1\n",
      "Set parameter QCPDual to value 1\n",
      "Gurobi Optimizer version 12.0.1 build v12.0.1rc0 (win64 - Windows 11.0 (26100.2))\n",
      "\n",
      "CPU model: 13th Gen Intel(R) Core(TM) i7-13700, instruction set [SSE2|AVX|AVX2]\n",
      "Thread count: 16 physical cores, 24 logical processors, using up to 24 threads\n",
      "\n",
      "Non-default parameters:\n",
      "QCPDual  1\n",
      "\n",
      "Optimize a model with 1696 rows, 8057 columns and 4449 nonzeros\n",
      "Model fingerprint: 0xd7523eb2\n",
      "Variable types: 8053 continuous, 4 integer (4 binary)\n",
      "Coefficient statistics:\n",
      "  Matrix range     [7e-04, 1e+08]\n",
      "  Objective range  [1e+00, 1e+00]\n",
      "  Bounds range     [1e+00, 1e+00]\n",
      "  RHS range        [2e+03, 1e+08]\n",
      "Presolve removed 1691 rows and 8051 columns\n",
      "Presolve time: 0.01s\n",
      "Presolved: 5 rows, 6 columns, 12 nonzeros\n",
      "Variable types: 4 continuous, 2 integer (2 binary)\n",
      "Found heuristic solution: objective 2904.2409782\n",
      "\n",
      "Root relaxation: interrupted, 0 iterations, 0.00 seconds (0.00 work units)\n",
      "\n",
      "Explored 1 nodes (0 simplex iterations) in 0.01 seconds (0.01 work units)\n",
      "Thread count was 24 (of 24 available processors)\n",
      "\n",
      "Solution count 1: 2904.24 \n",
      "\n",
      "Optimal solution found (tolerance 1.00e-04)\n",
      "Best objective 2.904240978192e+03, best bound 2.903996478192e+03, gap 0.0084%\n",
      "WARNING: Cannot get duals for MIP.\n"
     ]
    }
   ],
   "source": [
    "results_gwp_30 = solve(scenario=scenario, instance=milp_gwp_30,\n",
    "                     solver='gurobi', name=f\"res_gwp\", print_solversteps=True, saveformat = '.pkl')"
   ]
  },
  {
   "cell_type": "code",
   "execution_count": 367,
   "metadata": {},
   "outputs": [
    {
     "data": {
      "text/plain": [
       "2904.240978191905"
      ]
     },
     "execution_count": 367,
     "metadata": {},
     "output_type": "execute_result"
    }
   ],
   "source": [
    "results_gwp_30.output['objective']"
   ]
  },
  {
   "cell_type": "code",
   "execution_count": 368,
   "metadata": {},
   "outputs": [
    {
     "data": {
      "text/plain": [
       "{('Houston', 0): 5651.574198237019}"
      ]
     },
     "execution_count": 368,
     "metadata": {},
     "output_type": "execute_result"
    }
   ],
   "source": [
    "results_gwp_30.output['global_warming_potential_location']"
   ]
  },
  {
   "cell_type": "code",
   "execution_count": 369,
   "metadata": {},
   "outputs": [
    {
     "data": {
      "text/plain": [
       "{('Houston', 'Coalbed', 0): 0.1,\n",
       " ('Houston', 'Conventional_NG', 0): 57.44576954672452,\n",
       " ('Houston', 'Grid', 0): 100000000.0,\n",
       " ('Houston', 'ShaleGas', 0): 25.88756378660881}"
      ]
     },
     "execution_count": 369,
     "metadata": {},
     "output_type": "execute_result"
    }
   ],
   "source": [
    "results_gwp_30.output['Cap_P']"
   ]
  },
  {
   "cell_type": "markdown",
   "metadata": {},
   "source": [
    "35% emission constraint"
   ]
  },
  {
   "cell_type": "code",
   "execution_count": 370,
   "metadata": {},
   "outputs": [
    {
     "name": "stdout",
     "output_type": "stream",
     "text": [
      "constraint process capex\n",
      "constraint process fopex\n",
      "constraint process vopex\n",
      "constraint process incidental\n",
      "constraint storage cost\n",
      "constraint storage cost location\n",
      "constraint storage cost network\n",
      "constraint global warming potential resource\n",
      "constraint global warming potential resource consumption\n",
      "constraint global warming potential resource discharge\n",
      "constraint global warming potential location\n",
      "constraint global warming potential network\n",
      "constraint production mode\n",
      "constraint inventory balance\n",
      "constraint inventory network\n",
      "constraint storage facility\n",
      "constraint production facility\n",
      "constraint min production facility\n",
      "constraint min storage facility\n",
      "constraint demand\n",
      "objective cost\n",
      "constraint global warming potential network reduction\n"
     ]
    },
    {
     "data": {
      "text/plain": [
       "<pyomo.core.base.constraint.IndexedConstraint at 0x1aad107be50>"
      ]
     },
     "execution_count": 370,
     "metadata": {},
     "output_type": "execute_result"
    }
   ],
   "source": [
    "# Code 1\n",
    "milp_gwp_35 = formulate(scenario=scenario, constraints={Constraints.COST, Constraints.INVENTORY, Constraints.PRODUCTION,\n",
    "                     Constraints.RESOURCE_BALANCE, Constraints.NETWORK, Constraints.DEMAND, Constraints.EMISSION}, objective=Objective.COST, demand_sign = 'eq')\n",
    "\n",
    "constraint_global_warming_potential_network_reduction(instance= milp_gwp_35, gwp_reduction_pct = 35, gwp = results_cost.output['global_warming_potential_network'][0])"
   ]
  },
  {
   "cell_type": "code",
   "execution_count": 371,
   "metadata": {},
   "outputs": [],
   "source": [
    "# Code 2\n",
    "from pyomo.environ import ConstraintList\n",
    "\n",
    "# Constraint 1: Ramp-up for Conventional_NG\n",
    "milp_gwp_35.cons1 = ConstraintList()\n",
    "for i in scales.scale_iter(2):\n",
    "    if i != (0,0,0):\n",
    "        milp_gwp_35.cons1.add(\n",
    "            expr = milp_gwp_35.P['Houston', 'Conventional_NG', *i] - \n",
    "                   milp_gwp_35.P['Houston', 'Conventional_NG', *scales.scale_iter(2)[scales.scale_iter(2).index(i) - 1]] \n",
    "                   <= 0.05 * milp_gwp_35.P['Houston', 'Conventional_NG', *scales.scale_iter(2)[scales.scale_iter(2).index(i) - 1]]\n",
    "        )\n",
    "\n",
    "# Constraint 2: Ramp-down for Conventional_NG\n",
    "milp_gwp_35.cons2 = ConstraintList()\n",
    "for i in scales.scale_iter(2):\n",
    "    if i != (0,0,0):\n",
    "        milp_gwp_35.cons2.add(\n",
    "            milp_gwp_35.P['Houston', 'Conventional_NG', *scales.scale_iter(2)[scales.scale_iter(2).index(i) - 1]] - \n",
    "            milp_gwp_35.P['Houston', 'Conventional_NG', *i] \n",
    "            <= 0.05 * milp_gwp_35.P['Houston', 'Conventional_NG', *scales.scale_iter(2)[scales.scale_iter(2).index(i) - 1]]\n",
    "        )\n",
    "\n",
    "# Constraint 3: Ramp-up for ShaleGas\n",
    "milp_gwp_35.cons3 = ConstraintList()\n",
    "for i in scales.scale_iter(2):\n",
    "    if i != (0,0,0):\n",
    "        milp_gwp_35.cons3.add(\n",
    "            expr = milp_gwp_35.P['Houston', 'ShaleGas', *i] - \n",
    "                   milp_gwp_35.P['Houston', 'ShaleGas', *scales.scale_iter(2)[scales.scale_iter(2).index(i) - 1]] \n",
    "                   <= 0.05 * milp_gwp_35.P['Houston', 'ShaleGas', *scales.scale_iter(2)[scales.scale_iter(2).index(i) - 1]]\n",
    "        )\n",
    "\n",
    "# Constraint 4: Ramp-down for ShaleGas\n",
    "milp_gwp_35.cons4 = ConstraintList()\n",
    "for i in scales.scale_iter(2):\n",
    "    if i != (0,0,0):\n",
    "        milp_gwp_35.cons4.add(\n",
    "            milp_gwp_35.P['Houston', 'ShaleGas', *scales.scale_iter(2)[scales.scale_iter(2).index(i) - 1]] - \n",
    "            milp_gwp_35.P['Houston', 'ShaleGas', *i] \n",
    "            <= 0.05 * milp_gwp_35.P['Houston', 'ShaleGas', *scales.scale_iter(2)[scales.scale_iter(2).index(i) - 1]]\n",
    "        )\n",
    "\n",
    "# Constraint 5: Ramp-up for Coalbed\n",
    "milp_gwp_35.cons5 = ConstraintList()\n",
    "for i in scales.scale_iter(2):\n",
    "    if i != (0,0,0):\n",
    "        milp_gwp_35.cons5.add(\n",
    "            expr = milp_gwp_35.P['Houston', 'Coalbed', *i] - \n",
    "                   milp_gwp_35.P['Houston', 'Coalbed', *scales.scale_iter(2)[scales.scale_iter(2).index(i) - 1]] \n",
    "                   <= 0.05 * milp_gwp_35.P['Houston', 'Coalbed', *scales.scale_iter(2)[scales.scale_iter(2).index(i) - 1]]\n",
    "        )\n",
    "\n",
    "# Constraint 6: Ramp-down for Coalbed\n",
    "milp_gwp_35.cons6 = ConstraintList()\n",
    "for i in scales.scale_iter(2):\n",
    "    if i != (0,0,0):\n",
    "        milp_gwp_35.cons6.add(\n",
    "            milp_gwp_35.P['Houston', 'Coalbed', *scales.scale_iter(2)[scales.scale_iter(2).index(i) - 1]] - \n",
    "            milp_gwp_35.P['Houston', 'Coalbed', *i] \n",
    "            <= 0.05 * milp_gwp_35.P['Houston', 'Coalbed', *scales.scale_iter(2)[scales.scale_iter(2).index(i) - 1]]\n",
    "        )\n"
   ]
  },
  {
   "cell_type": "code",
   "execution_count": 372,
   "metadata": {},
   "outputs": [
    {
     "name": "stdout",
     "output_type": "stream",
     "text": [
      "Set parameter OutputFlag to value 1\n",
      "Set parameter QCPDual to value 1\n",
      "Gurobi Optimizer version 12.0.1 build v12.0.1rc0 (win64 - Windows 11.0 (26100.2))\n",
      "\n",
      "CPU model: 13th Gen Intel(R) Core(TM) i7-13700, instruction set [SSE2|AVX|AVX2]\n",
      "Thread count: 16 physical cores, 24 logical processors, using up to 24 threads\n",
      "\n",
      "Non-default parameters:\n",
      "QCPDual  1\n",
      "\n",
      "Optimize a model with 1696 rows, 8057 columns and 4449 nonzeros\n",
      "Model fingerprint: 0x66f3c1a0\n",
      "Variable types: 8053 continuous, 4 integer (4 binary)\n",
      "Coefficient statistics:\n",
      "  Matrix range     [7e-04, 1e+08]\n",
      "  Objective range  [1e+00, 1e+00]\n",
      "  Bounds range     [1e+00, 1e+00]\n",
      "  RHS range        [2e+03, 1e+08]\n",
      "Presolve removed 1691 rows and 8051 columns\n",
      "Presolve time: 0.00s\n",
      "Presolved: 5 rows, 6 columns, 12 nonzeros\n",
      "Variable types: 4 continuous, 2 integer (2 binary)\n",
      "Found heuristic solution: objective 3104.7795254\n",
      "\n",
      "Root relaxation: interrupted, 0 iterations, 0.00 seconds (0.00 work units)\n",
      "\n",
      "Explored 1 nodes (0 simplex iterations) in 0.01 seconds (0.01 work units)\n",
      "Thread count was 24 (of 24 available processors)\n",
      "\n",
      "Solution count 1: 3104.78 \n",
      "\n",
      "Optimal solution found (tolerance 1.00e-04)\n",
      "Best objective 3.104779525442e+03, best bound 3.104535025442e+03, gap 0.0079%\n",
      "WARNING: Cannot get duals for MIP.\n"
     ]
    }
   ],
   "source": [
    "# Code 3 \n",
    "results_gwp_35 = solve(scenario=scenario, instance=milp_gwp_35,\n",
    "                     solver='gurobi', name=f\"res_gwp\", print_solversteps=True, saveformat = '.pkl')"
   ]
  },
  {
   "cell_type": "code",
   "execution_count": 426,
   "metadata": {},
   "outputs": [
    {
     "name": "stdout",
     "output_type": "stream",
     "text": [
      "[67.02006447117859, 67.02006447117859, 67.02006447117859, 67.02006447117859, 67.02006447117859, 67.02006447117859, 67.02006447117859, 67.02006447117859, 67.02006447117859, 67.02006447117859, 67.02006447117859, 67.02006447117859, 67.02006447117859, 67.02006447117859, 67.02006447117859, 67.02006447117859, 67.02006447117859, 67.02006447117859, 67.02006447117859, 67.02006447117859, 67.02006447117859, 67.02006447117859, 67.02006447117859, 67.02006447117859]\n"
     ]
    },
    {
     "data": {
      "image/png": "[encoded data removed]",
      "text/plain": [
       "<Figure size 1200x600 with 1 Axes>"
      ]
     },
     "metadata": {},
     "output_type": "display_data"
    }
   ],
   "source": [
    "plot_results.schedule(results = results_gwp_35, y_axis= 'P', component = 'Conventional_NG', location='Houston')"
   ]
  },
  {
   "cell_type": "code",
   "execution_count": 421,
   "metadata": {},
   "outputs": [
    {
     "data": {
      "text/plain": [
       "3104.779525441666"
      ]
     },
     "execution_count": 421,
     "metadata": {},
     "output_type": "execute_result"
    }
   ],
   "source": [
    "# Code 4\n",
    "results_gwp_35.output['objective']"
   ]
  },
  {
   "cell_type": "code",
   "execution_count": 375,
   "metadata": {},
   "outputs": [
    {
     "data": {
      "text/plain": [
       "{('Houston', 0): 5247.8903269343755}"
      ]
     },
     "execution_count": 375,
     "metadata": {},
     "output_type": "execute_result"
    }
   ],
   "source": [
    "# Code 5\n",
    "results_gwp_35.output['global_warming_potential_location']"
   ]
  },
  {
   "cell_type": "code",
   "execution_count": 376,
   "metadata": {},
   "outputs": [
    {
     "data": {
      "text/plain": [
       "{('Houston', 'Coalbed', 0): 0.1,\n",
       " ('Houston', 'Conventional_NG', 0): 67.02006447117859,\n",
       " ('Houston', 'Grid', 0): 100000000.0,\n",
       " ('Houston', 'ShaleGas', 0): 16.31326886215474}"
      ]
     },
     "execution_count": 376,
     "metadata": {},
     "output_type": "execute_result"
    }
   ],
   "source": [
    "# Code 5\n",
    "results_gwp_35.output['Cap_P']"
   ]
  },
  {
   "cell_type": "markdown",
   "metadata": {},
   "source": [
    "37% Emission reduction"
   ]
  },
  {
   "cell_type": "code",
   "execution_count": 377,
   "metadata": {},
   "outputs": [
    {
     "name": "stdout",
     "output_type": "stream",
     "text": [
      "constraint process capex\n",
      "constraint process fopex\n",
      "constraint process vopex\n",
      "constraint process incidental\n",
      "constraint storage cost\n",
      "constraint storage cost location\n",
      "constraint storage cost network\n",
      "constraint global warming potential resource\n",
      "constraint global warming potential resource consumption\n",
      "constraint global warming potential resource discharge\n",
      "constraint global warming potential location\n",
      "constraint global warming potential network\n",
      "constraint production mode\n",
      "constraint inventory balance\n",
      "constraint inventory network\n",
      "constraint storage facility\n",
      "constraint production facility\n",
      "constraint min production facility\n",
      "constraint min storage facility\n",
      "constraint demand\n",
      "objective cost\n",
      "constraint global warming potential network reduction\n"
     ]
    },
    {
     "data": {
      "text/plain": [
       "<pyomo.core.base.constraint.IndexedConstraint at 0x1aad217a710>"
      ]
     },
     "execution_count": 377,
     "metadata": {},
     "output_type": "execute_result"
    }
   ],
   "source": [
    "# Code 1\n",
    "milp_gwp_37 = formulate(scenario=scenario, constraints={Constraints.COST, Constraints.INVENTORY, Constraints.PRODUCTION,\n",
    "                     Constraints.RESOURCE_BALANCE, Constraints.NETWORK, Constraints.DEMAND, Constraints.EMISSION}, objective=Objective.COST, demand_sign = 'eq')\n",
    "\n",
    "constraint_global_warming_potential_network_reduction(instance= milp_gwp_37, gwp_reduction_pct = 37, gwp = results_cost.output['global_warming_potential_network'][0])"
   ]
  },
  {
   "cell_type": "code",
   "execution_count": 378,
   "metadata": {},
   "outputs": [],
   "source": [
    "# Code 2\n",
    "from pyomo.environ import ConstraintList\n",
    "\n",
    "# Constraint 1: Ramp-up for Conventional_NG\n",
    "milp_gwp_37.cons1 = ConstraintList()\n",
    "for i in scales.scale_iter(2):\n",
    "    if i != (0,0,0):\n",
    "        milp_gwp_37.cons1.add(\n",
    "            expr = milp_gwp_37.P['Houston', 'Conventional_NG', *i] - \n",
    "                   milp_gwp_37.P['Houston', 'Conventional_NG', *scales.scale_iter(2)[scales.scale_iter(2).index(i) - 1]] \n",
    "                   <= 0.05 * milp_gwp_37.P['Houston', 'Conventional_NG', *scales.scale_iter(2)[scales.scale_iter(2).index(i) - 1]]\n",
    "        )\n",
    "\n",
    "# Constraint 2: Ramp-down for Conventional_NG\n",
    "milp_gwp_37.cons2 = ConstraintList()\n",
    "for i in scales.scale_iter(2):\n",
    "    if i != (0,0,0):\n",
    "        milp_gwp_37.cons2.add(\n",
    "            milp_gwp_37.P['Houston', 'Conventional_NG', *scales.scale_iter(2)[scales.scale_iter(2).index(i) - 1]] - \n",
    "            milp_gwp_37.P['Houston', 'Conventional_NG', *i] \n",
    "            <= 0.05 * milp_gwp_37.P['Houston', 'Conventional_NG', *scales.scale_iter(2)[scales.scale_iter(2).index(i) - 1]]\n",
    "        )\n",
    "\n",
    "# Constraint 3: Ramp-up for ShaleGas\n",
    "milp_gwp_37.cons3 = ConstraintList()\n",
    "for i in scales.scale_iter(2):\n",
    "    if i != (0,0,0):\n",
    "        milp_gwp_37.cons3.add(\n",
    "            expr = milp_gwp_37.P['Houston', 'ShaleGas', *i] - \n",
    "                   milp_gwp_37.P['Houston', 'ShaleGas', *scales.scale_iter(2)[scales.scale_iter(2).index(i) - 1]] \n",
    "                   <= 0.05 * milp_gwp_37.P['Houston', 'ShaleGas', *scales.scale_iter(2)[scales.scale_iter(2).index(i) - 1]]\n",
    "        )\n",
    "\n",
    "# Constraint 4: Ramp-down for ShaleGas\n",
    "milp_gwp_37.cons4 = ConstraintList()\n",
    "for i in scales.scale_iter(2):\n",
    "    if i != (0,0,0):\n",
    "        milp_gwp_37.cons4.add(\n",
    "            milp_gwp_37.P['Houston', 'ShaleGas', *scales.scale_iter(2)[scales.scale_iter(2).index(i) - 1]] - \n",
    "            milp_gwp_37.P['Houston', 'ShaleGas', *i] \n",
    "            <= 0.05 * milp_gwp_37.P['Houston', 'ShaleGas', *scales.scale_iter(2)[scales.scale_iter(2).index(i) - 1]]\n",
    "        )\n",
    "\n",
    "# Constraint 5: Ramp-up for Coalbed\n",
    "milp_gwp_37.cons5 = ConstraintList()\n",
    "for i in scales.scale_iter(2):\n",
    "    if i != (0,0,0):\n",
    "        milp_gwp_37.cons5.add(\n",
    "            expr = milp_gwp_37.P['Houston', 'Coalbed', *i] - \n",
    "                   milp_gwp_37.P['Houston', 'Coalbed', *scales.scale_iter(2)[scales.scale_iter(2).index(i) - 1]] \n",
    "                   <= 0.05 * milp_gwp_37.P['Houston', 'Coalbed', *scales.scale_iter(2)[scales.scale_iter(2).index(i) - 1]]\n",
    "        )\n",
    "\n",
    "# Constraint 6: Ramp-down for Coalbed\n",
    "milp_gwp_37.cons6 = ConstraintList()\n",
    "for i in scales.scale_iter(2):\n",
    "    if i != (0,0,0):\n",
    "        milp_gwp_37.cons6.add(\n",
    "            milp_gwp_37.P['Houston', 'Coalbed', *scales.scale_iter(2)[scales.scale_iter(2).index(i) - 1]] - \n",
    "            milp_gwp_37.P['Houston', 'Coalbed', *i] \n",
    "            <= 0.05 * milp_gwp_37.P['Houston', 'Coalbed', *scales.scale_iter(2)[scales.scale_iter(2).index(i) - 1]]\n",
    "        )\n"
   ]
  },
  {
   "cell_type": "code",
   "execution_count": 379,
   "metadata": {},
   "outputs": [
    {
     "name": "stdout",
     "output_type": "stream",
     "text": [
      "Set parameter OutputFlag to value 1\n",
      "Set parameter QCPDual to value 1\n",
      "Gurobi Optimizer version 12.0.1 build v12.0.1rc0 (win64 - Windows 11.0 (26100.2))\n",
      "\n",
      "CPU model: 13th Gen Intel(R) Core(TM) i7-13700, instruction set [SSE2|AVX|AVX2]\n",
      "Thread count: 16 physical cores, 24 logical processors, using up to 24 threads\n",
      "\n",
      "Non-default parameters:\n",
      "QCPDual  1\n",
      "\n",
      "Optimize a model with 1696 rows, 8057 columns and 4449 nonzeros\n",
      "Model fingerprint: 0xd2afd1a3\n",
      "Variable types: 8053 continuous, 4 integer (4 binary)\n",
      "Coefficient statistics:\n",
      "  Matrix range     [7e-04, 1e+08]\n",
      "  Objective range  [1e+00, 1e+00]\n",
      "  Bounds range     [1e+00, 1e+00]\n",
      "  RHS range        [2e+03, 1e+08]\n",
      "Presolve removed 1691 rows and 8051 columns\n",
      "Presolve time: 0.00s\n",
      "Presolved: 5 rows, 6 columns, 12 nonzeros\n",
      "Variable types: 4 continuous, 2 integer (2 binary)\n",
      "Found heuristic solution: objective 3184.9949443\n",
      "\n",
      "Root relaxation: interrupted, 0 iterations, 0.00 seconds (0.00 work units)\n",
      "\n",
      "Explored 1 nodes (0 simplex iterations) in 0.01 seconds (0.01 work units)\n",
      "Thread count was 24 (of 24 available processors)\n",
      "\n",
      "Solution count 1: 3184.99 \n",
      "\n",
      "Optimal solution found (tolerance 1.00e-04)\n",
      "Best objective 3.184994944342e+03, best bound 3.184750444342e+03, gap 0.0077%\n",
      "WARNING: Cannot get duals for MIP.\n"
     ]
    }
   ],
   "source": [
    "# Code 3 \n",
    "results_gwp_37 = solve(scenario=scenario, instance=milp_gwp_37,\n",
    "                     solver='gurobi', name=f\"res_gwp\", print_solversteps=True, saveformat = '.pkl')\n"
   ]
  },
  {
   "cell_type": "code",
   "execution_count": 380,
   "metadata": {},
   "outputs": [
    {
     "data": {
      "text/plain": [
       "3184.994944341572"
      ]
     },
     "execution_count": 380,
     "metadata": {},
     "output_type": "execute_result"
    }
   ],
   "source": [
    "# Code 4\n",
    "results_gwp_37.output['objective']\n"
   ]
  },
  {
   "cell_type": "code",
   "execution_count": 381,
   "metadata": {},
   "outputs": [
    {
     "data": {
      "text/plain": [
       "{('Houston', 0): 5086.416778413317}"
      ]
     },
     "execution_count": 381,
     "metadata": {},
     "output_type": "execute_result"
    }
   ],
   "source": [
    "# Code 5\n",
    "results_gwp_37.output['global_warming_potential_location']"
   ]
  },
  {
   "cell_type": "code",
   "execution_count": 382,
   "metadata": {},
   "outputs": [
    {
     "data": {
      "text/plain": [
       "{('Houston', 'Coalbed', 0): 0.1,\n",
       " ('Houston', 'Conventional_NG', 0): 70.84978244096024,\n",
       " ('Houston', 'Grid', 0): 100000000.0,\n",
       " ('Houston', 'ShaleGas', 0): 12.483550892373085}"
      ]
     },
     "execution_count": 382,
     "metadata": {},
     "output_type": "execute_result"
    }
   ],
   "source": [
    "results_gwp_37.output['Cap_P']"
   ]
  },
  {
   "cell_type": "markdown",
   "metadata": {},
   "source": [
    "38% emission reduction"
   ]
  },
  {
   "cell_type": "code",
   "execution_count": 383,
   "metadata": {},
   "outputs": [
    {
     "name": "stdout",
     "output_type": "stream",
     "text": [
      "constraint process capex\n",
      "constraint process fopex\n",
      "constraint process vopex\n",
      "constraint process incidental\n",
      "constraint storage cost\n",
      "constraint storage cost location\n",
      "constraint storage cost network\n",
      "constraint global warming potential resource\n",
      "constraint global warming potential resource consumption\n",
      "constraint global warming potential resource discharge\n",
      "constraint global warming potential location\n",
      "constraint global warming potential network\n",
      "constraint production mode\n",
      "constraint inventory balance\n",
      "constraint inventory network\n",
      "constraint storage facility\n",
      "constraint production facility\n",
      "constraint min production facility\n",
      "constraint min storage facility\n",
      "constraint demand\n",
      "objective cost\n",
      "constraint global warming potential network reduction\n"
     ]
    },
    {
     "data": {
      "text/plain": [
       "<pyomo.core.base.constraint.IndexedConstraint at 0x1aad15ec090>"
      ]
     },
     "execution_count": 383,
     "metadata": {},
     "output_type": "execute_result"
    }
   ],
   "source": [
    "# Code 1\n",
    "milp_gwp_38 = formulate(scenario=scenario, constraints={Constraints.COST, Constraints.INVENTORY, Constraints.PRODUCTION,\n",
    "                     Constraints.RESOURCE_BALANCE, Constraints.NETWORK, Constraints.DEMAND, Constraints.EMISSION}, objective=Objective.COST, demand_sign = 'eq')\n",
    "\n",
    "constraint_global_warming_potential_network_reduction(instance= milp_gwp_38, gwp_reduction_pct = 38, gwp = results_cost.output['global_warming_potential_network'][0])\n"
   ]
  },
  {
   "cell_type": "code",
   "execution_count": 384,
   "metadata": {},
   "outputs": [],
   "source": [
    "# Code 2\n",
    "from pyomo.environ import ConstraintList\n",
    "\n",
    "# Constraint 1: Ramp-up for Conventional_NG\n",
    "milp_gwp_38.cons1 = ConstraintList()\n",
    "for i in scales.scale_iter(2):\n",
    "    if i != (0,0,0):\n",
    "        milp_gwp_38.cons1.add(\n",
    "            expr = milp_gwp_38.P['Houston', 'Conventional_NG', *i] - \n",
    "                   milp_gwp_38.P['Houston', 'Conventional_NG', *scales.scale_iter(2)[scales.scale_iter(2).index(i) - 1]] \n",
    "                   <= 0.05 * milp_gwp_38.P['Houston', 'Conventional_NG', *scales.scale_iter(2)[scales.scale_iter(2).index(i) - 1]]\n",
    "        )\n",
    "\n",
    "# Constraint 2: Ramp-down for Conventional_NG\n",
    "milp_gwp_38.cons2 = ConstraintList()\n",
    "for i in scales.scale_iter(2):\n",
    "    if i != (0,0,0):\n",
    "        milp_gwp_38.cons2.add(\n",
    "            milp_gwp_38.P['Houston', 'Conventional_NG', *scales.scale_iter(2)[scales.scale_iter(2).index(i) - 1]] - \n",
    "            milp_gwp_38.P['Houston', 'Conventional_NG', *i] \n",
    "            <= 0.05 * milp_gwp_38.P['Houston', 'Conventional_NG', *scales.scale_iter(2)[scales.scale_iter(2).index(i) - 1]]\n",
    "        )\n",
    "\n",
    "# Constraint 3: Ramp-up for ShaleGas\n",
    "milp_gwp_38.cons3 = ConstraintList()\n",
    "for i in scales.scale_iter(2):\n",
    "    if i != (0,0,0):\n",
    "        milp_gwp_38.cons3.add(\n",
    "            expr = milp_gwp_38.P['Houston', 'ShaleGas', *i] - \n",
    "                   milp_gwp_38.P['Houston', 'ShaleGas', *scales.scale_iter(2)[scales.scale_iter(2).index(i) - 1]] \n",
    "                   <= 0.05 * milp_gwp_38.P['Houston', 'ShaleGas', *scales.scale_iter(2)[scales.scale_iter(2).index(i) - 1]]\n",
    "        )\n",
    "\n",
    "# Constraint 4: Ramp-down for ShaleGas\n",
    "milp_gwp_38.cons4 = ConstraintList()\n",
    "for i in scales.scale_iter(2):\n",
    "    if i != (0,0,0):\n",
    "        milp_gwp_38.cons4.add(\n",
    "            milp_gwp_38.P['Houston', 'ShaleGas', *scales.scale_iter(2)[scales.scale_iter(2).index(i) - 1]] - \n",
    "            milp_gwp_38.P['Houston', 'ShaleGas', *i] \n",
    "            <= 0.05 * milp_gwp_38.P['Houston', 'ShaleGas', *scales.scale_iter(2)[scales.scale_iter(2).index(i) - 1]]\n",
    "        )\n",
    "\n",
    "# Constraint 5: Ramp-up for Coalbed\n",
    "milp_gwp_38.cons5 = ConstraintList()\n",
    "for i in scales.scale_iter(2):\n",
    "    if i != (0,0,0):\n",
    "        milp_gwp_38.cons5.add(\n",
    "            expr = milp_gwp_38.P['Houston', 'Coalbed', *i] - \n",
    "                   milp_gwp_38.P['Houston', 'Coalbed', *scales.scale_iter(2)[scales.scale_iter(2).index(i) - 1]] \n",
    "                   <= 0.05 * milp_gwp_38.P['Houston', 'Coalbed', *scales.scale_iter(2)[scales.scale_iter(2).index(i) - 1]]\n",
    "        )\n",
    "\n",
    "# Constraint 6: Ramp-down for Coalbed\n",
    "milp_gwp_38.cons6 = ConstraintList()\n",
    "for i in scales.scale_iter(2):\n",
    "    if i != (0,0,0):\n",
    "        milp_gwp_38.cons6.add(\n",
    "            milp_gwp_38.P['Houston', 'Coalbed', *scales.scale_iter(2)[scales.scale_iter(2).index(i) - 1]] - \n",
    "            milp_gwp_38.P['Houston', 'Coalbed', *i] \n",
    "            <= 0.05 * milp_gwp_38.P['Houston', 'Coalbed', *scales.scale_iter(2)[scales.scale_iter(2).index(i) - 1]]\n",
    "        )\n"
   ]
  },
  {
   "cell_type": "code",
   "execution_count": 385,
   "metadata": {},
   "outputs": [
    {
     "name": "stdout",
     "output_type": "stream",
     "text": [
      "Set parameter OutputFlag to value 1\n",
      "Set parameter QCPDual to value 1\n",
      "Gurobi Optimizer version 12.0.1 build v12.0.1rc0 (win64 - Windows 11.0 (26100.2))\n",
      "\n",
      "CPU model: 13th Gen Intel(R) Core(TM) i7-13700, instruction set [SSE2|AVX|AVX2]\n",
      "Thread count: 16 physical cores, 24 logical processors, using up to 24 threads\n",
      "\n",
      "Non-default parameters:\n",
      "QCPDual  1\n",
      "\n",
      "Optimize a model with 1696 rows, 8057 columns and 4449 nonzeros\n",
      "Model fingerprint: 0x8e71402a\n",
      "Variable types: 8053 continuous, 4 integer (4 binary)\n",
      "Coefficient statistics:\n",
      "  Matrix range     [7e-04, 1e+08]\n",
      "  Objective range  [1e+00, 1e+00]\n",
      "  Bounds range     [1e+00, 1e+00]\n",
      "  RHS range        [2e+03, 1e+08]\n",
      "Presolve removed 1691 rows and 8051 columns\n",
      "Presolve time: 0.00s\n",
      "Presolved: 5 rows, 6 columns, 12 nonzeros\n",
      "Variable types: 4 continuous, 2 integer (2 binary)\n",
      "Found heuristic solution: objective 3225.1026538\n",
      "\n",
      "Root relaxation: interrupted, 0 iterations, 0.00 seconds (0.00 work units)\n",
      "\n",
      "Explored 1 nodes (0 simplex iterations) in 0.01 seconds (0.01 work units)\n",
      "Thread count was 24 (of 24 available processors)\n",
      "\n",
      "Solution count 1: 3225.1 \n",
      "\n",
      "Optimal solution found (tolerance 1.00e-04)\n",
      "Best objective 3.225102653792e+03, best bound 3.224858153792e+03, gap 0.0076%\n",
      "WARNING: Cannot get duals for MIP.\n"
     ]
    }
   ],
   "source": [
    "# Code 3 \n",
    "results_gwp_38 = solve(scenario=scenario, instance=milp_gwp_38,\n",
    "                     solver='gurobi', name=f\"res_gwp\", print_solversteps=True, saveformat = '.pkl')\n"
   ]
  },
  {
   "cell_type": "code",
   "execution_count": 386,
   "metadata": {},
   "outputs": [
    {
     "data": {
      "text/plain": [
       "3225.1026537915254"
      ]
     },
     "execution_count": 386,
     "metadata": {},
     "output_type": "execute_result"
    }
   ],
   "source": [
    "# Code 4\n",
    "results_gwp_38.output['objective']"
   ]
  },
  {
   "cell_type": "code",
   "execution_count": 387,
   "metadata": {},
   "outputs": [
    {
     "data": {
      "text/plain": [
       "{('Houston', 0): 5005.680004152789}"
      ]
     },
     "execution_count": 387,
     "metadata": {},
     "output_type": "execute_result"
    }
   ],
   "source": [
    "# Code 5\n",
    "results_gwp_38.output['global_warming_potential_location']"
   ]
  },
  {
   "cell_type": "code",
   "execution_count": 388,
   "metadata": {},
   "outputs": [
    {
     "data": {
      "text/plain": [
       "{('Houston', 'Coalbed', 0): 0.1,\n",
       " ('Houston', 'Conventional_NG', 0): 72.76464142585105,\n",
       " ('Houston', 'Grid', 0): 100000000.0,\n",
       " ('Houston', 'ShaleGas', 0): 10.568691907482279}"
      ]
     },
     "execution_count": 388,
     "metadata": {},
     "output_type": "execute_result"
    }
   ],
   "source": [
    "# Code 6\n",
    "results_gwp_38.output['Cap_P']\n"
   ]
  },
  {
   "cell_type": "markdown",
   "metadata": {},
   "source": [
    "39% emission reduction"
   ]
  },
  {
   "cell_type": "code",
   "execution_count": 389,
   "metadata": {},
   "outputs": [
    {
     "name": "stdout",
     "output_type": "stream",
     "text": [
      "constraint process capex\n",
      "constraint process fopex\n",
      "constraint process vopex\n",
      "constraint process incidental\n",
      "constraint storage cost\n",
      "constraint storage cost location\n",
      "constraint storage cost network\n",
      "constraint global warming potential resource\n",
      "constraint global warming potential resource consumption\n",
      "constraint global warming potential resource discharge\n",
      "constraint global warming potential location\n",
      "constraint global warming potential network\n",
      "constraint production mode\n",
      "constraint inventory balance\n",
      "constraint inventory network\n",
      "constraint storage facility\n",
      "constraint production facility\n",
      "constraint min production facility\n",
      "constraint min storage facility\n",
      "constraint demand\n",
      "objective cost\n",
      "constraint global warming potential network reduction\n"
     ]
    },
    {
     "data": {
      "text/plain": [
       "<pyomo.core.base.constraint.IndexedConstraint at 0x1aace8f4090>"
      ]
     },
     "execution_count": 389,
     "metadata": {},
     "output_type": "execute_result"
    }
   ],
   "source": [
    "# Code 1\n",
    "milp_gwp_39 = formulate(scenario=scenario, constraints={Constraints.COST, Constraints.INVENTORY, Constraints.PRODUCTION,\n",
    "                     Constraints.RESOURCE_BALANCE, Constraints.NETWORK, Constraints.DEMAND, Constraints.EMISSION}, objective=Objective.COST, demand_sign = 'eq')\n",
    "\n",
    "constraint_global_warming_potential_network_reduction(instance= milp_gwp_39, gwp_reduction_pct = 39, gwp = results_cost.output['global_warming_potential_network'][0])\n"
   ]
  },
  {
   "cell_type": "code",
   "execution_count": 390,
   "metadata": {},
   "outputs": [],
   "source": [
    "# Code 2\n",
    "from pyomo.environ import ConstraintList\n",
    "\n",
    "# Constraint 1: Ramp-up for Conventional_NG\n",
    "milp_gwp_39.cons1 = ConstraintList()\n",
    "for i in scales.scale_iter(2):\n",
    "    if i != (0,0,0):\n",
    "        milp_gwp_39.cons1.add(\n",
    "            expr = milp_gwp_39.P['Houston', 'Conventional_NG', *i] - \n",
    "                   milp_gwp_39.P['Houston', 'Conventional_NG', *scales.scale_iter(2)[scales.scale_iter(2).index(i) - 1]] \n",
    "                   <= 0.05 * milp_gwp_39.P['Houston', 'Conventional_NG', *scales.scale_iter(2)[scales.scale_iter(2).index(i) - 1]]\n",
    "        )\n",
    "\n",
    "# Constraint 2: Ramp-down for Conventional_NG\n",
    "milp_gwp_39.cons2 = ConstraintList()\n",
    "for i in scales.scale_iter(2):\n",
    "    if i != (0,0,0):\n",
    "        milp_gwp_39.cons2.add(\n",
    "            milp_gwp_39.P['Houston', 'Conventional_NG', *scales.scale_iter(2)[scales.scale_iter(2).index(i) - 1]] - \n",
    "            milp_gwp_39.P['Houston', 'Conventional_NG', *i] \n",
    "            <= 0.05 * milp_gwp_39.P['Houston', 'Conventional_NG', *scales.scale_iter(2)[scales.scale_iter(2).index(i) - 1]]\n",
    "        )\n",
    "\n",
    "# Constraint 3: Ramp-up for ShaleGas\n",
    "milp_gwp_39.cons3 = ConstraintList()\n",
    "for i in scales.scale_iter(2):\n",
    "    if i != (0,0,0):\n",
    "        milp_gwp_39.cons3.add(\n",
    "            expr = milp_gwp_39.P['Houston', 'ShaleGas', *i] - \n",
    "                   milp_gwp_39.P['Houston', 'ShaleGas', *scales.scale_iter(2)[scales.scale_iter(2).index(i) - 1]] \n",
    "                   <= 0.05 * milp_gwp_39.P['Houston', 'ShaleGas', *scales.scale_iter(2)[scales.scale_iter(2).index(i) - 1]]\n",
    "        )\n",
    "\n",
    "# Constraint 4: Ramp-down for ShaleGas\n",
    "milp_gwp_39.cons4 = ConstraintList()\n",
    "for i in scales.scale_iter(2):\n",
    "    if i != (0,0,0):\n",
    "        milp_gwp_39.cons4.add(\n",
    "            milp_gwp_39.P['Houston', 'ShaleGas', *scales.scale_iter(2)[scales.scale_iter(2).index(i) - 1]] - \n",
    "            milp_gwp_39.P['Houston', 'ShaleGas', *i] \n",
    "            <= 0.05 * milp_gwp_39.P['Houston', 'ShaleGas', *scales.scale_iter(2)[scales.scale_iter(2).index(i) - 1]]\n",
    "        )\n",
    "\n",
    "# Constraint 5: Ramp-up for Coalbed\n",
    "milp_gwp_39.cons5 = ConstraintList()\n",
    "for i in scales.scale_iter(2):\n",
    "    if i != (0,0,0):\n",
    "        milp_gwp_39.cons5.add(\n",
    "            expr = milp_gwp_39.P['Houston', 'Coalbed', *i] - \n",
    "                   milp_gwp_39.P['Houston', 'Coalbed', *scales.scale_iter(2)[scales.scale_iter(2).index(i) - 1]] \n",
    "                   <= 0.05 * milp_gwp_39.P['Houston', 'Coalbed', *scales.scale_iter(2)[scales.scale_iter(2).index(i) - 1]]\n",
    "        )\n",
    "\n",
    "# Constraint 6: Ramp-down for Coalbed\n",
    "milp_gwp_39.cons6 = ConstraintList()\n",
    "for i in scales.scale_iter(2):\n",
    "    if i != (0,0,0):\n",
    "        milp_gwp_39.cons6.add(\n",
    "            milp_gwp_39.P['Houston', 'Coalbed', *scales.scale_iter(2)[scales.scale_iter(2).index(i) - 1]] - \n",
    "            milp_gwp_39.P['Houston', 'Coalbed', *i] \n",
    "            <= 0.05 * milp_gwp_39.P['Houston', 'Coalbed', *scales.scale_iter(2)[scales.scale_iter(2).index(i) - 1]]\n",
    "        )\n"
   ]
  },
  {
   "cell_type": "code",
   "execution_count": 391,
   "metadata": {},
   "outputs": [
    {
     "name": "stdout",
     "output_type": "stream",
     "text": [
      "Set parameter OutputFlag to value 1\n",
      "Set parameter QCPDual to value 1\n",
      "Gurobi Optimizer version 12.0.1 build v12.0.1rc0 (win64 - Windows 11.0 (26100.2))\n",
      "\n",
      "CPU model: 13th Gen Intel(R) Core(TM) i7-13700, instruction set [SSE2|AVX|AVX2]\n",
      "Thread count: 16 physical cores, 24 logical processors, using up to 24 threads\n",
      "\n",
      "Non-default parameters:\n",
      "QCPDual  1\n",
      "\n",
      "Optimize a model with 1696 rows, 8057 columns and 4449 nonzeros\n",
      "Model fingerprint: 0x0ff19dbb\n",
      "Variable types: 8053 continuous, 4 integer (4 binary)\n",
      "Coefficient statistics:\n",
      "  Matrix range     [7e-04, 1e+08]\n",
      "  Objective range  [1e+00, 1e+00]\n",
      "  Bounds range     [1e+00, 1e+00]\n",
      "  RHS range        [2e+03, 1e+08]\n",
      "Presolve removed 1691 rows and 8051 columns\n",
      "Presolve time: 0.01s\n",
      "Presolved: 5 rows, 6 columns, 12 nonzeros\n",
      "Variable types: 4 continuous, 2 integer (2 binary)\n",
      "Found heuristic solution: objective 3265.2103632\n",
      "\n",
      "Root relaxation: interrupted, 0 iterations, 0.00 seconds (0.00 work units)\n",
      "\n",
      "Explored 1 nodes (0 simplex iterations) in 0.01 seconds (0.01 work units)\n",
      "Thread count was 24 (of 24 available processors)\n",
      "\n",
      "Solution count 1: 3265.21 \n",
      "\n",
      "Optimal solution found (tolerance 1.00e-04)\n",
      "Best objective 3.265210363241e+03, best bound 3.264965863241e+03, gap 0.0075%\n",
      "WARNING: Cannot get duals for MIP.\n"
     ]
    }
   ],
   "source": [
    "# Code 3 \n",
    "results_gwp_39 = solve(scenario=scenario, instance=milp_gwp_39,\n",
    "                     solver='gurobi', name=f\"res_gwp\", print_solversteps=True, saveformat = '.pkl')\n"
   ]
  },
  {
   "cell_type": "code",
   "execution_count": 392,
   "metadata": {},
   "outputs": [
    {
     "data": {
      "text/plain": [
       "3265.210363241477"
      ]
     },
     "execution_count": 392,
     "metadata": {},
     "output_type": "execute_result"
    }
   ],
   "source": [
    "# Code 4\n",
    "results_gwp_39.output['objective']\n"
   ]
  },
  {
   "cell_type": "code",
   "execution_count": 393,
   "metadata": {},
   "outputs": [
    {
     "data": {
      "text/plain": [
       "{('Houston', 0): 4924.943229892259}"
      ]
     },
     "execution_count": 393,
     "metadata": {},
     "output_type": "execute_result"
    }
   ],
   "source": [
    "# Code 5\n",
    "results_gwp_39.output['global_warming_potential_location']\n"
   ]
  },
  {
   "cell_type": "code",
   "execution_count": 394,
   "metadata": {},
   "outputs": [
    {
     "data": {
      "text/plain": [
       "{('Houston', 'Coalbed', 0): 0.1,\n",
       " ('Houston', 'Conventional_NG', 0): 74.67950041074188,\n",
       " ('Houston', 'Grid', 0): 100000000.0,\n",
       " ('Houston', 'ShaleGas', 0): 8.653832922591453}"
      ]
     },
     "execution_count": 394,
     "metadata": {},
     "output_type": "execute_result"
    }
   ],
   "source": [
    "# Code 6\n",
    "results_gwp_39.output['Cap_P']"
   ]
  },
  {
   "cell_type": "markdown",
   "metadata": {},
   "source": [
    "40% emission reduction"
   ]
  },
  {
   "cell_type": "code",
   "execution_count": 395,
   "metadata": {},
   "outputs": [
    {
     "name": "stdout",
     "output_type": "stream",
     "text": [
      "constraint process capex\n",
      "constraint process fopex\n",
      "constraint process vopex\n",
      "constraint process incidental\n",
      "constraint storage cost\n",
      "constraint storage cost location\n",
      "constraint storage cost network\n",
      "constraint global warming potential resource\n",
      "constraint global warming potential resource consumption\n",
      "constraint global warming potential resource discharge\n",
      "constraint global warming potential location\n",
      "constraint global warming potential network\n",
      "constraint production mode\n",
      "constraint inventory balance\n",
      "constraint inventory network\n",
      "constraint storage facility\n",
      "constraint production facility\n",
      "constraint min production facility\n",
      "constraint min storage facility\n",
      "constraint demand\n",
      "objective cost\n",
      "constraint global warming potential network reduction\n"
     ]
    },
    {
     "data": {
      "text/plain": [
       "<pyomo.core.base.constraint.IndexedConstraint at 0x1aace719310>"
      ]
     },
     "execution_count": 395,
     "metadata": {},
     "output_type": "execute_result"
    }
   ],
   "source": [
    "# Code 1\n",
    "milp_gwp_40 = formulate(scenario=scenario, constraints={Constraints.COST, Constraints.INVENTORY, Constraints.PRODUCTION,\n",
    "                     Constraints.RESOURCE_BALANCE, Constraints.NETWORK, Constraints.DEMAND, Constraints.EMISSION}, objective=Objective.COST, demand_sign = 'eq')\n",
    "\n",
    "constraint_global_warming_potential_network_reduction(instance= milp_gwp_40, gwp_reduction_pct = 40, gwp = results_cost.output['global_warming_potential_network'][0])"
   ]
  },
  {
   "cell_type": "code",
   "execution_count": 396,
   "metadata": {},
   "outputs": [],
   "source": [
    "# Code 2\n",
    "from pyomo.environ import ConstraintList\n",
    "\n",
    "# Constraint 1: Ramp-up for Conventional_NG\n",
    "milp_gwp_40.cons1 = ConstraintList()\n",
    "for i in scales.scale_iter(2):\n",
    "    if i != (0,0,0):\n",
    "        milp_gwp_40.cons1.add(\n",
    "            expr = milp_gwp_40.P['Houston', 'Conventional_NG', *i] - \n",
    "                   milp_gwp_40.P['Houston', 'Conventional_NG', *scales.scale_iter(2)[scales.scale_iter(2).index(i) - 1]] \n",
    "                   <= 0.05 * milp_gwp_40.P['Houston', 'Conventional_NG', *scales.scale_iter(2)[scales.scale_iter(2).index(i) - 1]]\n",
    "        )\n",
    "\n",
    "# Constraint 2: Ramp-down for Conventional_NG\n",
    "milp_gwp_40.cons2 = ConstraintList()\n",
    "for i in scales.scale_iter(2):\n",
    "    if i != (0,0,0):\n",
    "        milp_gwp_40.cons2.add(\n",
    "            milp_gwp_40.P['Houston', 'Conventional_NG', *scales.scale_iter(2)[scales.scale_iter(2).index(i) - 1]] - \n",
    "            milp_gwp_40.P['Houston', 'Conventional_NG', *i] \n",
    "            <= 0.05 * milp_gwp_40.P['Houston', 'Conventional_NG', *scales.scale_iter(2)[scales.scale_iter(2).index(i) - 1]]\n",
    "        )\n",
    "\n",
    "# Constraint 3: Ramp-up for ShaleGas\n",
    "milp_gwp_40.cons3 = ConstraintList()\n",
    "for i in scales.scale_iter(2):\n",
    "    if i != (0,0,0):\n",
    "        milp_gwp_40.cons3.add(\n",
    "            expr = milp_gwp_40.P['Houston', 'ShaleGas', *i] - \n",
    "                   milp_gwp_40.P['Houston', 'ShaleGas', *scales.scale_iter(2)[scales.scale_iter(2).index(i) - 1]] \n",
    "                   <= 0.05 * milp_gwp_40.P['Houston', 'ShaleGas', *scales.scale_iter(2)[scales.scale_iter(2).index(i) - 1]]\n",
    "        )\n",
    "\n",
    "# Constraint 4: Ramp-down for ShaleGas\n",
    "milp_gwp_40.cons4 = ConstraintList()\n",
    "for i in scales.scale_iter(2):\n",
    "    if i != (0,0,0):\n",
    "        milp_gwp_40.cons4.add(\n",
    "            milp_gwp_40.P['Houston', 'ShaleGas', *scales.scale_iter(2)[scales.scale_iter(2).index(i) - 1]] - \n",
    "            milp_gwp_40.P['Houston', 'ShaleGas', *i] \n",
    "            <= 0.05 * milp_gwp_40.P['Houston', 'ShaleGas', *scales.scale_iter(2)[scales.scale_iter(2).index(i) - 1]]\n",
    "        )\n",
    "\n",
    "# Constraint 5: Ramp-up for Coalbed\n",
    "milp_gwp_40.cons5 = ConstraintList()\n",
    "for i in scales.scale_iter(2):\n",
    "    if i != (0,0,0):\n",
    "        milp_gwp_40.cons5.add(\n",
    "            expr = milp_gwp_40.P['Houston', 'Coalbed', *i] - \n",
    "                   milp_gwp_40.P['Houston', 'Coalbed', *scales.scale_iter(2)[scales.scale_iter(2).index(i) - 1]] \n",
    "                   <= 0.05 * milp_gwp_40.P['Houston', 'Coalbed', *scales.scale_iter(2)[scales.scale_iter(2).index(i) - 1]]\n",
    "        )\n",
    "\n",
    "# Constraint 6: Ramp-down for Coalbed\n",
    "milp_gwp_40.cons6 = ConstraintList()\n",
    "for i in scales.scale_iter(2):\n",
    "    if i != (0,0,0):\n",
    "        milp_gwp_40.cons6.add(\n",
    "            milp_gwp_40.P['Houston', 'Coalbed', *scales.scale_iter(2)[scales.scale_iter(2).index(i) - 1]] - \n",
    "            milp_gwp_40.P['Houston', 'Coalbed', *i] \n",
    "            <= 0.05 * milp_gwp_40.P['Houston', 'Coalbed', *scales.scale_iter(2)[scales.scale_iter(2).index(i) - 1]]\n",
    "        )\n"
   ]
  },
  {
   "cell_type": "code",
   "execution_count": 397,
   "metadata": {},
   "outputs": [
    {
     "name": "stdout",
     "output_type": "stream",
     "text": [
      "Set parameter OutputFlag to value 1\n",
      "Set parameter QCPDual to value 1\n",
      "Gurobi Optimizer version 12.0.1 build v12.0.1rc0 (win64 - Windows 11.0 (26100.2))\n",
      "\n",
      "CPU model: 13th Gen Intel(R) Core(TM) i7-13700, instruction set [SSE2|AVX|AVX2]\n",
      "Thread count: 16 physical cores, 24 logical processors, using up to 24 threads\n",
      "\n",
      "Non-default parameters:\n",
      "QCPDual  1\n",
      "\n",
      "Optimize a model with 1696 rows, 8057 columns and 4449 nonzeros\n",
      "Model fingerprint: 0xe48f86af\n",
      "Variable types: 8053 continuous, 4 integer (4 binary)\n",
      "Coefficient statistics:\n",
      "  Matrix range     [7e-04, 1e+08]\n",
      "  Objective range  [1e+00, 1e+00]\n",
      "  Bounds range     [1e+00, 1e+00]\n",
      "  RHS range        [2e+03, 1e+08]\n",
      "Presolve removed 1691 rows and 8051 columns\n",
      "Presolve time: 0.00s\n",
      "Presolved: 5 rows, 6 columns, 12 nonzeros\n",
      "Variable types: 4 continuous, 2 integer (2 binary)\n",
      "Found heuristic solution: objective 3305.3180727\n",
      "\n",
      "Root relaxation: interrupted, 0 iterations, 0.00 seconds (0.00 work units)\n",
      "\n",
      "Explored 1 nodes (0 simplex iterations) in 0.00 seconds (0.01 work units)\n",
      "Thread count was 24 (of 24 available processors)\n",
      "\n",
      "Solution count 1: 3305.32 \n",
      "\n",
      "Optimal solution found (tolerance 1.00e-04)\n",
      "Best objective 3.305318072691e+03, best bound 3.305073572691e+03, gap 0.0074%\n",
      "WARNING: Cannot get duals for MIP.\n"
     ]
    }
   ],
   "source": [
    "# Code 3 \n",
    "results_gwp_40 = solve(scenario=scenario, instance=milp_gwp_40,\n",
    "                     solver='gurobi', name=f\"res_gwp\", print_solversteps=True, saveformat = '.pkl')\n"
   ]
  },
  {
   "cell_type": "code",
   "execution_count": 398,
   "metadata": {},
   "outputs": [
    {
     "data": {
      "text/plain": [
       "3305.318072691428"
      ]
     },
     "execution_count": 398,
     "metadata": {},
     "output_type": "execute_result"
    }
   ],
   "source": [
    "# Code 4\n",
    "results_gwp_40.output['objective']"
   ]
  },
  {
   "cell_type": "code",
   "execution_count": 399,
   "metadata": {},
   "outputs": [
    {
     "data": {
      "text/plain": [
       "{('Houston', 0): 4844.206455631731}"
      ]
     },
     "execution_count": 399,
     "metadata": {},
     "output_type": "execute_result"
    }
   ],
   "source": [
    "# Code 5\n",
    "results_gwp_40.output['global_warming_potential_location']"
   ]
  },
  {
   "cell_type": "code",
   "execution_count": 400,
   "metadata": {},
   "outputs": [
    {
     "data": {
      "text/plain": [
       "{('Houston', 'Coalbed', 0): 0.1,\n",
       " ('Houston', 'Conventional_NG', 0): 76.59435939563268,\n",
       " ('Houston', 'Grid', 0): 100000000.0,\n",
       " ('Houston', 'ShaleGas', 0): 6.7389739377006475}"
      ]
     },
     "execution_count": 400,
     "metadata": {},
     "output_type": "execute_result"
    }
   ],
   "source": [
    "# Code 6\n",
    "results_gwp_40.output['Cap_P']"
   ]
  },
  {
   "cell_type": "markdown",
   "metadata": {},
   "source": [
    "41% emission reduction"
   ]
  },
  {
   "cell_type": "code",
   "execution_count": 401,
   "metadata": {},
   "outputs": [
    {
     "name": "stdout",
     "output_type": "stream",
     "text": [
      "constraint process capex\n",
      "constraint process fopex\n",
      "constraint process vopex\n",
      "constraint process incidental\n",
      "constraint storage cost\n",
      "constraint storage cost location\n",
      "constraint storage cost network\n",
      "constraint global warming potential resource\n",
      "constraint global warming potential resource consumption\n",
      "constraint global warming potential resource discharge\n",
      "constraint global warming potential location\n",
      "constraint global warming potential network\n",
      "constraint production mode\n",
      "constraint inventory balance\n",
      "constraint inventory network\n",
      "constraint storage facility\n",
      "constraint production facility\n",
      "constraint min production facility\n",
      "constraint min storage facility\n",
      "constraint demand\n",
      "objective cost\n",
      "constraint global warming potential network reduction\n"
     ]
    },
    {
     "data": {
      "text/plain": [
       "<pyomo.core.base.constraint.IndexedConstraint at 0x1aad268c050>"
      ]
     },
     "execution_count": 401,
     "metadata": {},
     "output_type": "execute_result"
    }
   ],
   "source": [
    "# Code 1\n",
    "milp_gwp_41 = formulate(scenario=scenario, constraints={Constraints.COST, Constraints.INVENTORY, Constraints.PRODUCTION,\n",
    "                     Constraints.RESOURCE_BALANCE, Constraints.NETWORK, Constraints.DEMAND, Constraints.EMISSION}, objective=Objective.COST, demand_sign = 'eq')\n",
    "\n",
    "constraint_global_warming_potential_network_reduction(instance= milp_gwp_41, gwp_reduction_pct = 41, gwp = results_cost.output['global_warming_potential_network'][0])"
   ]
  },
  {
   "cell_type": "code",
   "execution_count": 402,
   "metadata": {},
   "outputs": [],
   "source": [
    "# Code 2\n",
    "from pyomo.environ import ConstraintList\n",
    "\n",
    "# Constraint 1: Ramp-up for Conventional_NG\n",
    "milp_gwp_41.cons1 = ConstraintList()\n",
    "for i in scales.scale_iter(2):\n",
    "    if i != (0,0,0):\n",
    "        milp_gwp_41.cons1.add(\n",
    "            expr = milp_gwp_41.P['Houston', 'Conventional_NG', *i] - \n",
    "                   milp_gwp_41.P['Houston', 'Conventional_NG', *scales.scale_iter(2)[scales.scale_iter(2).index(i) - 1]] \n",
    "                   <= 0.05 * milp_gwp_41.P['Houston', 'Conventional_NG', *scales.scale_iter(2)[scales.scale_iter(2).index(i) - 1]]\n",
    "        )\n",
    "\n",
    "# Constraint 2: Ramp-down for Conventional_NG\n",
    "milp_gwp_41.cons2 = ConstraintList()\n",
    "for i in scales.scale_iter(2):\n",
    "    if i != (0,0,0):\n",
    "        milp_gwp_41.cons2.add(\n",
    "            milp_gwp_41.P['Houston', 'Conventional_NG', *scales.scale_iter(2)[scales.scale_iter(2).index(i) - 1]] - \n",
    "            milp_gwp_41.P['Houston', 'Conventional_NG', *i] \n",
    "            <= 0.05 * milp_gwp_41.P['Houston', 'Conventional_NG', *scales.scale_iter(2)[scales.scale_iter(2).index(i) - 1]]\n",
    "        )\n",
    "\n",
    "# Constraint 3: Ramp-up for ShaleGas\n",
    "milp_gwp_41.cons3 = ConstraintList()\n",
    "for i in scales.scale_iter(2):\n",
    "    if i != (0,0,0):\n",
    "        milp_gwp_41.cons3.add(\n",
    "            expr = milp_gwp_41.P['Houston', 'ShaleGas', *i] - \n",
    "                   milp_gwp_41.P['Houston', 'ShaleGas', *scales.scale_iter(2)[scales.scale_iter(2).index(i) - 1]] \n",
    "                   <= 0.05 * milp_gwp_41.P['Houston', 'ShaleGas', *scales.scale_iter(2)[scales.scale_iter(2).index(i) - 1]]\n",
    "        )\n",
    "\n",
    "# Constraint 4: Ramp-down for ShaleGas\n",
    "milp_gwp_41.cons4 = ConstraintList()\n",
    "for i in scales.scale_iter(2):\n",
    "    if i != (0,0,0):\n",
    "        milp_gwp_41.cons4.add(\n",
    "            milp_gwp_41.P['Houston', 'ShaleGas', *scales.scale_iter(2)[scales.scale_iter(2).index(i) - 1]] - \n",
    "            milp_gwp_41.P['Houston', 'ShaleGas', *i] \n",
    "            <= 0.05 * milp_gwp_41.P['Houston', 'ShaleGas', *scales.scale_iter(2)[scales.scale_iter(2).index(i) - 1]]\n",
    "        )\n",
    "\n",
    "# Constraint 5: Ramp-up for Coalbed\n",
    "milp_gwp_41.cons5 = ConstraintList()\n",
    "for i in scales.scale_iter(2):\n",
    "    if i != (0,0,0):\n",
    "        milp_gwp_41.cons5.add(\n",
    "            expr = milp_gwp_41.P['Houston', 'Coalbed', *i] - \n",
    "                   milp_gwp_41.P['Houston', 'Coalbed', *scales.scale_iter(2)[scales.scale_iter(2).index(i) - 1]] \n",
    "                   <= 0.05 * milp_gwp_41.P['Houston', 'Coalbed', *scales.scale_iter(2)[scales.scale_iter(2).index(i) - 1]]\n",
    "        )\n",
    "\n",
    "# Constraint 6: Ramp-down for Coalbed\n",
    "milp_gwp_41.cons6 = ConstraintList()\n",
    "for i in scales.scale_iter(2):\n",
    "    if i != (0,0,0):\n",
    "        milp_gwp_41.cons6.add(\n",
    "            milp_gwp_41.P['Houston', 'Coalbed', *scales.scale_iter(2)[scales.scale_iter(2).index(i) - 1]] - \n",
    "            milp_gwp_41.P['Houston', 'Coalbed', *i] \n",
    "            <= 0.05 * milp_gwp_41.P['Houston', 'Coalbed', *scales.scale_iter(2)[scales.scale_iter(2).index(i) - 1]]\n",
    "        )"
   ]
  },
  {
   "cell_type": "code",
   "execution_count": 403,
   "metadata": {},
   "outputs": [
    {
     "name": "stdout",
     "output_type": "stream",
     "text": [
      "Set parameter OutputFlag to value 1\n",
      "Set parameter QCPDual to value 1\n",
      "Gurobi Optimizer version 12.0.1 build v12.0.1rc0 (win64 - Windows 11.0 (26100.2))\n",
      "\n",
      "CPU model: 13th Gen Intel(R) Core(TM) i7-13700, instruction set [SSE2|AVX|AVX2]\n",
      "Thread count: 16 physical cores, 24 logical processors, using up to 24 threads\n",
      "\n",
      "Non-default parameters:\n",
      "QCPDual  1\n",
      "\n",
      "Optimize a model with 1696 rows, 8057 columns and 4449 nonzeros\n",
      "Model fingerprint: 0x0aec3c31\n",
      "Variable types: 8053 continuous, 4 integer (4 binary)\n",
      "Coefficient statistics:\n",
      "  Matrix range     [7e-04, 1e+08]\n",
      "  Objective range  [1e+00, 1e+00]\n",
      "  Bounds range     [1e+00, 1e+00]\n",
      "  RHS range        [2e+03, 1e+08]\n",
      "Presolve removed 1691 rows and 8051 columns\n",
      "Presolve time: 0.00s\n",
      "Presolved: 5 rows, 6 columns, 12 nonzeros\n",
      "Variable types: 4 continuous, 2 integer (2 binary)\n",
      "Found heuristic solution: objective 3345.4257821\n",
      "\n",
      "Root relaxation: interrupted, 0 iterations, 0.00 seconds (0.00 work units)\n",
      "\n",
      "Explored 1 nodes (0 simplex iterations) in 0.00 seconds (0.01 work units)\n",
      "Thread count was 24 (of 24 available processors)\n",
      "\n",
      "Solution count 1: 3345.43 \n",
      "\n",
      "Optimal solution found (tolerance 1.00e-04)\n",
      "Best objective 3.345425782141e+03, best bound 3.345181282141e+03, gap 0.0073%\n",
      "WARNING: Cannot get duals for MIP.\n"
     ]
    }
   ],
   "source": [
    "# Code 3 \n",
    "results_gwp_41 = solve(scenario=scenario, instance=milp_gwp_41,\n",
    "                     solver='gurobi', name=f\"res_gwp\", print_solversteps=True, saveformat = '.pkl')\n"
   ]
  },
  {
   "cell_type": "code",
   "execution_count": 404,
   "metadata": {},
   "outputs": [
    {
     "data": {
      "text/plain": [
       "3345.4257821413817"
      ]
     },
     "execution_count": 404,
     "metadata": {},
     "output_type": "execute_result"
    }
   ],
   "source": [
    "results_gwp_41.output['objective']"
   ]
  },
  {
   "cell_type": "code",
   "execution_count": 405,
   "metadata": {},
   "outputs": [
    {
     "data": {
      "text/plain": [
       "{('Houston', 0): 4763.469681371203}"
      ]
     },
     "execution_count": 405,
     "metadata": {},
     "output_type": "execute_result"
    }
   ],
   "source": [
    "# Code 5\n",
    "results_gwp_41.output['global_warming_potential_location']"
   ]
  },
  {
   "cell_type": "code",
   "execution_count": 406,
   "metadata": {},
   "outputs": [
    {
     "data": {
      "text/plain": [
       "{('Houston', 'Coalbed', 0): 0.1,\n",
       " ('Houston', 'Conventional_NG', 0): 78.50921838052349,\n",
       " ('Houston', 'Grid', 0): 100000000.0,\n",
       " ('Houston', 'ShaleGas', 0): 4.824114952809842}"
      ]
     },
     "execution_count": 406,
     "metadata": {},
     "output_type": "execute_result"
    }
   ],
   "source": [
    "# Code 6\n",
    "results_gwp_41.output['Cap_P']"
   ]
  },
  {
   "cell_type": "markdown",
   "metadata": {},
   "source": [
    "42% emission reduction"
   ]
  },
  {
   "cell_type": "code",
   "execution_count": 407,
   "metadata": {},
   "outputs": [
    {
     "name": "stdout",
     "output_type": "stream",
     "text": [
      "constraint process capex\n",
      "constraint process fopex\n",
      "constraint process vopex\n",
      "constraint process incidental\n",
      "constraint storage cost\n",
      "constraint storage cost location\n",
      "constraint storage cost network\n",
      "constraint global warming potential resource\n",
      "constraint global warming potential resource consumption\n",
      "constraint global warming potential resource discharge\n",
      "constraint global warming potential location\n",
      "constraint global warming potential network\n",
      "constraint production mode\n",
      "constraint inventory balance\n",
      "constraint inventory network\n",
      "constraint storage facility\n",
      "constraint production facility\n",
      "constraint min production facility\n",
      "constraint min storage facility\n",
      "constraint demand\n",
      "objective cost\n",
      "constraint global warming potential network reduction\n"
     ]
    },
    {
     "data": {
      "text/plain": [
       "<pyomo.core.base.constraint.IndexedConstraint at 0x1aacecc6e90>"
      ]
     },
     "execution_count": 407,
     "metadata": {},
     "output_type": "execute_result"
    }
   ],
   "source": [
    "# Code 1\n",
    "milp_gwp_42 = formulate(scenario=scenario, constraints={Constraints.COST, Constraints.INVENTORY, Constraints.PRODUCTION,\n",
    "                     Constraints.RESOURCE_BALANCE, Constraints.NETWORK, Constraints.DEMAND, Constraints.EMISSION}, objective=Objective.COST, demand_sign = 'eq')\n",
    "\n",
    "constraint_global_warming_potential_network_reduction(instance= milp_gwp_42, gwp_reduction_pct = 42, gwp = results_cost.output['global_warming_potential_network'][0])"
   ]
  },
  {
   "cell_type": "code",
   "execution_count": 408,
   "metadata": {},
   "outputs": [],
   "source": [
    "# Code 2\n",
    "from pyomo.environ import ConstraintList\n",
    "\n",
    "# Constraint 1: Ramp-up for Conventional_NG\n",
    "milp_gwp_42.cons1 = ConstraintList()\n",
    "for i in scales.scale_iter(2):\n",
    "    if i != (0,0,0):\n",
    "        milp_gwp_42.cons1.add(\n",
    "            expr = milp_gwp_42.P['Houston', 'Conventional_NG', *i] - \n",
    "                   milp_gwp_42.P['Houston', 'Conventional_NG', *scales.scale_iter(2)[scales.scale_iter(2).index(i) - 1]] \n",
    "                   <= 0.05 * milp_gwp_42.P['Houston', 'Conventional_NG', *scales.scale_iter(2)[scales.scale_iter(2).index(i) - 1]]\n",
    "        )\n",
    "\n",
    "# Constraint 2: Ramp-down for Conventional_NG\n",
    "milp_gwp_42.cons2 = ConstraintList()\n",
    "for i in scales.scale_iter(2):\n",
    "    if i != (0,0,0):\n",
    "        milp_gwp_42.cons2.add(\n",
    "            milp_gwp_42.P['Houston', 'Conventional_NG', *scales.scale_iter(2)[scales.scale_iter(2).index(i) - 1]] - \n",
    "            milp_gwp_42.P['Houston', 'Conventional_NG', *i] \n",
    "            <= 0.05 * milp_gwp_42.P['Houston', 'Conventional_NG', *scales.scale_iter(2)[scales.scale_iter(2).index(i) - 1]]\n",
    "        )\n",
    "\n",
    "# Constraint 3: Ramp-up for ShaleGas\n",
    "milp_gwp_42.cons3 = ConstraintList()\n",
    "for i in scales.scale_iter(2):\n",
    "    if i != (0,0,0):\n",
    "        milp_gwp_42.cons3.add(\n",
    "            expr = milp_gwp_42.P['Houston', 'ShaleGas', *i] - \n",
    "                   milp_gwp_42.P['Houston', 'ShaleGas', *scales.scale_iter(2)[scales.scale_iter(2).index(i) - 1]] \n",
    "                   <= 0.05 * milp_gwp_42.P['Houston', 'ShaleGas', *scales.scale_iter(2)[scales.scale_iter(2).index(i) - 1]]\n",
    "        )\n",
    "\n",
    "# Constraint 4: Ramp-down for ShaleGas\n",
    "milp_gwp_42.cons4 = ConstraintList()\n",
    "for i in scales.scale_iter(2):\n",
    "    if i != (0,0,0):\n",
    "        milp_gwp_42.cons4.add(\n",
    "            milp_gwp_42.P['Houston', 'ShaleGas', *scales.scale_iter(2)[scales.scale_iter(2).index(i) - 1]] - \n",
    "            milp_gwp_42.P['Houston', 'ShaleGas', *i] \n",
    "            <= 0.05 * milp_gwp_42.P['Houston', 'ShaleGas', *scales.scale_iter(2)[scales.scale_iter(2).index(i) - 1]]\n",
    "        )\n",
    "\n",
    "# Constraint 5: Ramp-up for Coalbed\n",
    "milp_gwp_42.cons5 = ConstraintList()\n",
    "for i in scales.scale_iter(2):\n",
    "    if i != (0,0,0):\n",
    "        milp_gwp_42.cons5.add(\n",
    "            expr = milp_gwp_42.P['Houston', 'Coalbed', *i] - \n",
    "                   milp_gwp_42.P['Houston', 'Coalbed', *scales.scale_iter(2)[scales.scale_iter(2).index(i) - 1]] \n",
    "                   <= 0.05 * milp_gwp_42.P['Houston', 'Coalbed', *scales.scale_iter(2)[scales.scale_iter(2).index(i) - 1]]\n",
    "        )\n",
    "\n",
    "# Constraint 6: Ramp-down for Coalbed\n",
    "milp_gwp_42.cons6 = ConstraintList()\n",
    "for i in scales.scale_iter(2):\n",
    "    if i != (0,0,0):\n",
    "        milp_gwp_42.cons6.add(\n",
    "            milp_gwp_42.P['Houston', 'Coalbed', *scales.scale_iter(2)[scales.scale_iter(2).index(i) - 1]] - \n",
    "            milp_gwp_42.P['Houston', 'Coalbed', *i] \n",
    "            <= 0.05 * milp_gwp_42.P['Houston', 'Coalbed', *scales.scale_iter(2)[scales.scale_iter(2).index(i) - 1]]\n",
    "        )"
   ]
  },
  {
   "cell_type": "code",
   "execution_count": 409,
   "metadata": {},
   "outputs": [
    {
     "name": "stdout",
     "output_type": "stream",
     "text": [
      "Set parameter OutputFlag to value 1\n",
      "Set parameter QCPDual to value 1\n",
      "Gurobi Optimizer version 12.0.1 build v12.0.1rc0 (win64 - Windows 11.0 (26100.2))\n",
      "\n",
      "CPU model: 13th Gen Intel(R) Core(TM) i7-13700, instruction set [SSE2|AVX|AVX2]\n",
      "Thread count: 16 physical cores, 24 logical processors, using up to 24 threads\n",
      "\n",
      "Non-default parameters:\n",
      "QCPDual  1\n",
      "\n",
      "Optimize a model with 1696 rows, 8057 columns and 4449 nonzeros\n",
      "Model fingerprint: 0x56450b30\n",
      "Variable types: 8053 continuous, 4 integer (4 binary)\n",
      "Coefficient statistics:\n",
      "  Matrix range     [7e-04, 1e+08]\n",
      "  Objective range  [1e+00, 1e+00]\n",
      "  Bounds range     [1e+00, 1e+00]\n",
      "  RHS range        [2e+03, 1e+08]\n",
      "Presolve removed 1691 rows and 8051 columns\n",
      "Presolve time: 0.01s\n",
      "Presolved: 5 rows, 6 columns, 12 nonzeros\n",
      "Variable types: 4 continuous, 2 integer (2 binary)\n",
      "Found heuristic solution: objective 3385.5334916\n",
      "\n",
      "Root relaxation: interrupted, 0 iterations, 0.00 seconds (0.00 work units)\n",
      "\n",
      "Explored 1 nodes (0 simplex iterations) in 0.01 seconds (0.01 work units)\n",
      "Thread count was 24 (of 24 available processors)\n",
      "\n",
      "Solution count 1: 3385.53 \n",
      "\n",
      "Optimal solution found (tolerance 1.00e-04)\n",
      "Best objective 3.385533491591e+03, best bound 3.385288991591e+03, gap 0.0072%\n",
      "WARNING: Cannot get duals for MIP.\n"
     ]
    }
   ],
   "source": [
    "# Code 3 \n",
    "results_gwp_42 = solve(scenario=scenario, instance=milp_gwp_42,\n",
    "                     solver='gurobi', name=f\"res_gwp\", print_solversteps=True, saveformat = '.pkl')"
   ]
  },
  {
   "cell_type": "code",
   "execution_count": 410,
   "metadata": {},
   "outputs": [
    {
     "data": {
      "text/plain": [
       "3385.5334915913336"
      ]
     },
     "execution_count": 410,
     "metadata": {},
     "output_type": "execute_result"
    }
   ],
   "source": [
    "# Code 4\n",
    "results_gwp_42.output['objective']"
   ]
  },
  {
   "cell_type": "code",
   "execution_count": 411,
   "metadata": {},
   "outputs": [
    {
     "data": {
      "text/plain": [
       "{('Houston', 0): 4682.732907110673}"
      ]
     },
     "execution_count": 411,
     "metadata": {},
     "output_type": "execute_result"
    }
   ],
   "source": [
    "# Code 5\n",
    "results_gwp_42.output['global_warming_potential_location']"
   ]
  },
  {
   "cell_type": "code",
   "execution_count": 412,
   "metadata": {},
   "outputs": [
    {
     "data": {
      "text/plain": [
       "{('Houston', 'Coalbed', 0): 0.1,\n",
       " ('Houston', 'Conventional_NG', 0): 80.42407736541432,\n",
       " ('Houston', 'Grid', 0): 100000000.0,\n",
       " ('Houston', 'ShaleGas', 0): 2.9092559679190155}"
      ]
     },
     "execution_count": 412,
     "metadata": {},
     "output_type": "execute_result"
    }
   ],
   "source": [
    "# Code 6\n",
    "results_gwp_42.output['Cap_P']"
   ]
  },
  {
   "cell_type": "markdown",
   "metadata": {},
   "source": [
    "43% emission reduction"
   ]
  },
  {
   "cell_type": "code",
   "execution_count": 413,
   "metadata": {},
   "outputs": [
    {
     "name": "stdout",
     "output_type": "stream",
     "text": [
      "constraint process capex\n",
      "constraint process fopex\n",
      "constraint process vopex\n",
      "constraint process incidental\n",
      "constraint storage cost\n",
      "constraint storage cost location\n",
      "constraint storage cost network\n",
      "constraint global warming potential resource\n",
      "constraint global warming potential resource consumption\n",
      "constraint global warming potential resource discharge\n",
      "constraint global warming potential location\n",
      "constraint global warming potential network\n",
      "constraint production mode\n",
      "constraint inventory balance\n",
      "constraint inventory network\n",
      "constraint storage facility\n",
      "constraint production facility\n",
      "constraint min production facility\n",
      "constraint min storage facility\n",
      "constraint demand\n",
      "objective cost\n",
      "constraint global warming potential network reduction\n"
     ]
    },
    {
     "data": {
      "text/plain": [
       "<pyomo.core.base.constraint.IndexedConstraint at 0x1aad00fd410>"
      ]
     },
     "execution_count": 413,
     "metadata": {},
     "output_type": "execute_result"
    }
   ],
   "source": [
    "# Code 1\n",
    "milp_gwp_43 = formulate(scenario=scenario, constraints={Constraints.COST, Constraints.INVENTORY, Constraints.PRODUCTION,\n",
    "                     Constraints.RESOURCE_BALANCE, Constraints.NETWORK, Constraints.DEMAND, Constraints.EMISSION}, objective=Objective.COST, demand_sign = 'eq')\n",
    "\n",
    "constraint_global_warming_potential_network_reduction(instance= milp_gwp_43, gwp_reduction_pct = 43, gwp = results_cost.output['global_warming_potential_network'][0])"
   ]
  },
  {
   "cell_type": "code",
   "execution_count": 414,
   "metadata": {},
   "outputs": [],
   "source": [
    "# Code 2\n",
    "from pyomo.environ import ConstraintList\n",
    "\n",
    "# Constraint 1: Ramp-up for Conventional_NG\n",
    "milp_gwp_43.cons1 = ConstraintList()\n",
    "for i in scales.scale_iter(2):\n",
    "    if i != (0,0,0):\n",
    "        milp_gwp_43.cons1.add(\n",
    "            expr = milp_gwp_43.P['Houston', 'Conventional_NG', *i] - \n",
    "                   milp_gwp_43.P['Houston', 'Conventional_NG', *scales.scale_iter(2)[scales.scale_iter(2).index(i) - 1]] \n",
    "                   <= 0.05 * milp_gwp_43.P['Houston', 'Conventional_NG', *scales.scale_iter(2)[scales.scale_iter(2).index(i) - 1]]\n",
    "        )\n",
    "\n",
    "# Constraint 2: Ramp-down for Conventional_NG\n",
    "milp_gwp_43.cons2 = ConstraintList()\n",
    "for i in scales.scale_iter(2):\n",
    "    if i != (0,0,0):\n",
    "        milp_gwp_43.cons2.add(\n",
    "            milp_gwp_43.P['Houston', 'Conventional_NG', *scales.scale_iter(2)[scales.scale_iter(2).index(i) - 1]] - \n",
    "            milp_gwp_43.P['Houston', 'Conventional_NG', *i] \n",
    "            <= 0.05 * milp_gwp_43.P['Houston', 'Conventional_NG', *scales.scale_iter(2)[scales.scale_iter(2).index(i) - 1]]\n",
    "        )\n",
    "\n",
    "# Constraint 3: Ramp-up for ShaleGas\n",
    "milp_gwp_43.cons3 = ConstraintList()\n",
    "for i in scales.scale_iter(2):\n",
    "    if i != (0,0,0):\n",
    "        milp_gwp_43.cons3.add(\n",
    "            expr = milp_gwp_43.P['Houston', 'ShaleGas', *i] - \n",
    "                   milp_gwp_43.P['Houston', 'ShaleGas', *scales.scale_iter(2)[scales.scale_iter(2).index(i) - 1]] \n",
    "                   <= 0.05 * milp_gwp_43.P['Houston', 'ShaleGas', *scales.scale_iter(2)[scales.scale_iter(2).index(i) - 1]]\n",
    "        )\n",
    "\n",
    "# Constraint 4: Ramp-down for ShaleGas\n",
    "milp_gwp_43.cons4 = ConstraintList()\n",
    "for i in scales.scale_iter(2):\n",
    "    if i != (0,0,0):\n",
    "        milp_gwp_43.cons4.add(\n",
    "            milp_gwp_43.P['Houston', 'ShaleGas', *scales.scale_iter(2)[scales.scale_iter(2).index(i) - 1]] - \n",
    "            milp_gwp_43.P['Houston', 'ShaleGas', *i] \n",
    "            <= 0.05 * milp_gwp_43.P['Houston', 'ShaleGas', *scales.scale_iter(2)[scales.scale_iter(2).index(i) - 1]]\n",
    "        )\n",
    "\n",
    "# Constraint 5: Ramp-up for Coalbed\n",
    "milp_gwp_43.cons5 = ConstraintList()\n",
    "for i in scales.scale_iter(2):\n",
    "    if i != (0,0,0):\n",
    "        milp_gwp_43.cons5.add(\n",
    "            expr = milp_gwp_43.P['Houston', 'Coalbed', *i] - \n",
    "                   milp_gwp_43.P['Houston', 'Coalbed', *scales.scale_iter(2)[scales.scale_iter(2).index(i) - 1]] \n",
    "                   <= 0.05 * milp_gwp_43.P['Houston', 'Coalbed', *scales.scale_iter(2)[scales.scale_iter(2).index(i) - 1]]\n",
    "        )\n",
    "\n",
    "# Constraint 6: Ramp-down for Coalbed\n",
    "milp_gwp_43.cons6 = ConstraintList()\n",
    "for i in scales.scale_iter(2):\n",
    "    if i != (0,0,0):\n",
    "        milp_gwp_43.cons6.add(\n",
    "            milp_gwp_43.P['Houston', 'Coalbed', *scales.scale_iter(2)[scales.scale_iter(2).index(i) - 1]] - \n",
    "            milp_gwp_43.P['Houston', 'Coalbed', *i] \n",
    "            <= 0.05 * milp_gwp_43.P['Houston', 'Coalbed', *scales.scale_iter(2)[scales.scale_iter(2).index(i) - 1]]\n",
    "        )\n"
   ]
  },
  {
   "cell_type": "code",
   "execution_count": 415,
   "metadata": {},
   "outputs": [
    {
     "name": "stdout",
     "output_type": "stream",
     "text": [
      "Set parameter OutputFlag to value 1\n",
      "Set parameter QCPDual to value 1\n",
      "Gurobi Optimizer version 12.0.1 build v12.0.1rc0 (win64 - Windows 11.0 (26100.2))\n",
      "\n",
      "CPU model: 13th Gen Intel(R) Core(TM) i7-13700, instruction set [SSE2|AVX|AVX2]\n",
      "Thread count: 16 physical cores, 24 logical processors, using up to 24 threads\n",
      "\n",
      "Non-default parameters:\n",
      "QCPDual  1\n",
      "\n",
      "Optimize a model with 1696 rows, 8057 columns and 4449 nonzeros\n",
      "Model fingerprint: 0x5d99144e\n",
      "Variable types: 8053 continuous, 4 integer (4 binary)\n",
      "Coefficient statistics:\n",
      "  Matrix range     [7e-04, 1e+08]\n",
      "  Objective range  [1e+00, 1e+00]\n",
      "  Bounds range     [1e+00, 1e+00]\n",
      "  RHS range        [2e+03, 1e+08]\n",
      "Presolve removed 1691 rows and 8051 columns\n",
      "Presolve time: 0.00s\n",
      "Presolved: 5 rows, 6 columns, 12 nonzeros\n",
      "Variable types: 4 continuous, 2 integer (2 binary)\n",
      "Found heuristic solution: objective 3425.6412010\n",
      "\n",
      "Root relaxation: interrupted, 0 iterations, 0.00 seconds (0.00 work units)\n",
      "\n",
      "Explored 1 nodes (0 simplex iterations) in 0.01 seconds (0.01 work units)\n",
      "Thread count was 24 (of 24 available processors)\n",
      "\n",
      "Solution count 1: 3425.64 \n",
      "\n",
      "Optimal solution found (tolerance 1.00e-04)\n",
      "Best objective 3.425641201041e+03, best bound 3.425357579506e+03, gap 0.0083%\n",
      "WARNING: Cannot get duals for MIP.\n"
     ]
    }
   ],
   "source": [
    "# Code 3 \n",
    "results_gwp_43 = solve(scenario=scenario, instance=milp_gwp_43,\n",
    "                     solver='gurobi', name=f\"res_gwp\", print_solversteps=True, saveformat = '.pkl')"
   ]
  },
  {
   "cell_type": "code",
   "execution_count": 416,
   "metadata": {},
   "outputs": [
    {
     "data": {
      "text/plain": [
       "3425.641201041286"
      ]
     },
     "execution_count": 416,
     "metadata": {},
     "output_type": "execute_result"
    }
   ],
   "source": [
    "# Code 4\n",
    "results_gwp_43.output['objective']"
   ]
  },
  {
   "cell_type": "code",
   "execution_count": 417,
   "metadata": {},
   "outputs": [
    {
     "data": {
      "text/plain": [
       "{('Houston', 0): 4601.996132850145}"
      ]
     },
     "execution_count": 417,
     "metadata": {},
     "output_type": "execute_result"
    }
   ],
   "source": [
    "# Code 5\n",
    "results_gwp_43.output['global_warming_potential_location']"
   ]
  },
  {
   "cell_type": "code",
   "execution_count": 418,
   "metadata": {},
   "outputs": [
    {
     "data": {
      "text/plain": [
       "{('Houston', 'Coalbed', 0): 0.1,\n",
       " ('Houston', 'Conventional_NG', 0): 82.33893635030512,\n",
       " ('Houston', 'Grid', 0): 100000000.0,\n",
       " ('Houston', 'ShaleGas', 0): 0.9943969830282102}"
      ]
     },
     "execution_count": 418,
     "metadata": {},
     "output_type": "execute_result"
    }
   ],
   "source": [
    "# Code 6\n",
    "results_gwp_43.output['Cap_P']"
   ]
  }
 ],
 "metadata": {
  "kernelspec": {
   "display_name": ".venv",
   "language": "python",
   "name": "python3"
  },
  "language_info": {
   "codemirror_mode": {
    "name": "ipython",
    "version": 3
   },
   "file_extension": ".py",
   "mimetype": "text/x-python",
   "name": "python",
   "nbconvert_exporter": "python",
   "pygments_lexer": "ipython3",
   "version": "3.11.9"
  },
  "orig_nbformat": 4
 },
 "nbformat": 4,
 "nbformat_minor": 2
}
