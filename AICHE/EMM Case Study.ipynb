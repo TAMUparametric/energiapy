{
 "cells": [
  {
   "attachments": {},
   "cell_type": "markdown",
   "metadata": {},
   "source": [
    "# Real-time carbon accounting and material transition for hydrogen systems"
   ]
  },
  {
   "attachments": {},
   "cell_type": "markdown",
   "metadata": {},
   "source": [
    "__author__ = \"Marco De Sousa\"\n",
    "__copyright__ = \"Copyright 2023, Multi-parametric Optimization & Control Lab\"\n",
    "__credits__ = [\"Marco De Sousa\", \"Rahul Kakodkar\", \"Efstratios N. Pistikopoulos\"]\n",
    "__license__ = \"MIT\"\n",
    "__version__ = \"1.1.0\"\n",
    "__maintainer__ = \"Marco De Sousa\"\n",
    "__email__ = \"marcopdsousa@tamu.edu\"\n",
    "__status__ = \"Production\"\n"
   ]
  },
  {
   "attachments": {},
   "cell_type": "markdown",
   "metadata": {},
   "source": [
    "## Problem Statement"
   ]
  },
  {
   "attachments": {},
   "cell_type": "markdown",
   "metadata": {},
   "source": [
    "The following case study considers three different type of solar photovoltaics, namely Monocrystalline (PV_Mo), Polycrystalline (PV_Po), and Cadmium Telluride (PV_Cd) and  Lithium-ion batteries made of either rock-based lithium (LiI_Ro) or brine-based lithium (LiI_Br).\n",
    "\n",
    "The goal is to meet a fixed demand of hydrogen on a daily scale while optimizing the production process by using forecasting techniques.\n",
    "\n",
    "It is important to note that three different hydrogen pathways can be utilized each with their respective emissions.\n",
    "\n",
    "Hypothesis: By using real-time carbon accounting, decisions and changes can be made in a more dynamic nature.\n",
    "\n",
    "Users are advised caution in terms of assigning the emissions at the appropriate levels and avoiding double account. For example, if providing the global warming potentials (GWP) for each individual material to make up a process, the GWP for processes should only consider the values for construction. Moreover, the direct emissions are considered through the resource balance constraint."
   ]
  },
  {
   "attachments": {},
   "cell_type": "markdown",
   "metadata": {},
   "source": [
    "## Nomenclature"
   ]
  },
  {
   "attachments": {},
   "cell_type": "markdown",
   "metadata": {},
   "source": [
    "\n",
    "\n",
    "*Sets*\n",
    "\n",
    "\n",
    "$\\mathcal{R}$ - set of all resources r\n",
    "\n",
    "$\\mathcal{P}$ - set of all processes p\n",
    "\n",
    "$\\mathcal{T}$ - set of temporal periods t\n",
    "\n",
    "$\\mathcal{B}$ - set of transport modes b\n",
    "\n",
    "$\\mathcal{L}$ - set of locations l\n",
    "\n",
    "$\\mathcal{M}$ - set of materials m\n",
    "\n",
    "*Subsets*\n",
    "\n",
    "\n",
    "$\\mathcal{R}^{storage}$ - set of resources that can be stored\n",
    "\n",
    "$\\mathcal{R}^{sell}$ - set of resources that can be discharged\n",
    "\n",
    "$\\mathcal{R}^{demand}$ - set of resources that meet  demand\n",
    "\n",
    "$\\mathcal{R}^{cons}$ - set of resources that can be consumed\n",
    "\n",
    "$\\mathcal{R}^{trans}$ - set of resources that can be transported\n",
    "\n",
    "$\\mathcal{P}^{uncertain}$ - set of processes with uncertain capacity\n",
    "\n",
    "$\\mathcal{T}^{net}$ - set of temporal periods t for network level decision making\n",
    "\n",
    "$\\mathcal{T}^{sch}$ - set of temporal periods t for schedule level decision making\n",
    "\n",
    "*Continuous Variables*\n",
    "\n",
    "\n",
    "$P_{l,p,t}$ - production level of p $\\in$  $\\mathcal{P}$ in time period t $\\in$ $\\mathcal{T}^{sch}$  \n",
    "\n",
    "$C_{l,r,t}$ - consumption of r $\\in$ in $\\mathcal{R}^{cons}$ time period t $\\in$ $\\mathcal{T}^{sch}$ \n",
    "\n",
    "$S_{l,r,t}$ - discharge of r $\\in$ in $\\mathcal{R}^{demand}$ time period t $\\in$ $\\mathcal{T}^{sch}$ \n",
    "\n",
    "$Inv_{l,r,t}$ - inventory level of r $\\in$ $\\mathcal{R}^{storage}$  in time period t $\\in$ $\\mathcal{T}^{sch}$\n",
    "\n",
    "$Cap^S_{l,r,t}$ - installed inventory capacity for resource r $\\in$  $\\mathcal{R}^{storage}$ in time period t $\\in$ $\\mathcal{T}^{net}$\n",
    "\n",
    "$Cap^P_{l,p,t}$ - installed production capacity for process p $\\in$ $\\mathcal{P}$ in time period t $\\in$ $\\mathcal{T}^{net}$\n",
    "\n",
    "$Mat^P_{l,p,m,t}$ - material m $\\in$ $\\mathcal{M}$ used by process p $\\in$ $\\mathcal{P}$ in time period t $\\in$ $\\mathcal{T}^{net}$\n",
    "\n",
    "$Em^{p/r/m}_{l,p/r/m,t}$ - emission from process/resource/material in time t $\\in$ $\\mathcal{T}^{net}$\n",
    "\n",
    "\n",
    "*Binary Variables*\n",
    "\n",
    "$X^P_{l,p,t}$ - network binary for production process p $\\in$ $\\mathcal{P}$\n",
    "\n",
    "$X^S_{l,r,t}$ - network binary for inventory of resource r $\\in$  $\\mathcal{R}^{storage}$ \n",
    "\n",
    "*Parameters*\n",
    "\n",
    "$Cap^{P-max}_{l,p,t}$ - maximum production capacity of process p $\\in$ $\\mathcal{P}$ in time t $\\in$ $\\mathcal{T}^{net}$\n",
    "\n",
    "$Cap^{S-max}_{l,r,t}$ - maximum inventory capacity for process r $\\in$ $\\mathcal{R}^{storage}$ in time t $\\in$ $\\mathcal{T}^{net}$\n",
    "\n",
    "$Capex_{l,p,t}$ - capital expenditure for process p $\\in$ $\\mathcal{P}$ in time t $\\in$ $\\mathcal{T}^{net}$\n",
    "\n",
    "$Vopex_{l,p,t}$ - variable operational expenditure for process p $\\in$ $\\mathcal{P}$ in time t $\\in$ $\\mathcal{T}^{sch}$\n",
    "\n",
    "$Price_{l,r,t}$ - purchase price for resource r $\\in$ $\\mathcal{R}^{cons}$ in time t $\\in$ $\\mathcal{T}^{sch}$\n",
    "\n",
    "$C^{max}_{l,r,t}$ - maximum consumption availability for resource r $\\in$ $\\mathcal{R}^{cons}$ in time t $\\in$ $\\mathcal{T}^{sch}$\n",
    "\n",
    "$D_{l,r,t}$ - demand for resource r $in$ $\\mathcal{R}^{sell}$ in time t $\\in$ $\\mathcal{T}^{sch}$\n",
    "\n",
    "$\\alpha$ - annualization factor\n",
    "\n",
    "$Mat^{cons}_{p,m}$ - material m $\\in$ $\\mathcal{M}$ consumed by process p $\\in$ $\\mathcal{P}$\n",
    "\n",
    "$GWP^{p/r/m}_{l,p/r/m,t}$ - global warming indicators for process/resource/material in time t $\\in$ $\\mathcal{T}^{net}$\n"
   ]
  },
  {
   "attachments": {},
   "cell_type": "markdown",
   "metadata": {},
   "source": [
    "## MILP Formulation"
   ]
  },
  {
   "attachments": {},
   "cell_type": "markdown",
   "metadata": {},
   "source": [
    "Given is a mulit-scale modeling and optimization MILP framework for the simultaneous design and schedule planning of a single location energy system \n",
    "\n",
    "\\begin{equation}\n",
    "min \\sum_{l \\in \\mathcal{L}} \\Big(\\sum_{t \\in \\mathcal{T}^{net}} \\sum_{p \\in \\mathcal{P}} (\\alpha \\times Capex_{l,p,t} + Fopex_{l,p,t}) \\times Cap^P_{l,p,t} +  \\sum_{t \\in \\mathcal{T}^{sch}} \\sum_{r \\in \\mathcal{R}}  Vopex_{l,r,t} \\times P_{l,r,t} \n",
    "\\end{equation}\n",
    "\n",
    "\\begin{equation*}\n",
    "+ \\sum_{t \\in \\mathcal{T}^{sch}} \\sum_{r \\in \\mathcal{R}^{cons}} C_{l,r,t} \\times Price_{l,r,t} \\Big)\n",
    "\\end{equation*}\n",
    "\n",
    "\\begin{equation}\n",
    "Cap^S_{l,r,t} \\leq Cap^{S-max}_{l,r,t} \\times X^S_{l,r,t} \\hspace{1cm} \\forall r \\in \\mathcal{R}^{storage}, t \\in \\mathcal{T}^{net}\n",
    "\\end{equation}\n",
    "\n",
    "\\begin{equation}\n",
    "Cap^P_{l,p,t} \\leq Cap^{P-max}_{l,p,t} \\times X^P_{l,p,t}  \\hspace{1cm} \\forall p \\in \\mathcal{P}, t \\in \\mathcal{T}^{net}, l \\in \\mathcal{L}\n",
    "\\end{equation} \n",
    "\n",
    "\\begin{equation}\n",
    "P_{l,p,t} \\leq Cap^{P}_{l,p,t}  \\hspace{1cm} \\forall p \\in \\mathcal{P}, t \\in \\mathcal{T}^{sch}\n",
    "\\end{equation} \n",
    "\n",
    "\\begin{equation}\n",
    "Inv_{l,r,t} \\leq Cap^{S}_{l,r,t}  \\hspace{1cm} \\forall r \\in \\mathcal{R}^{storage}, t \\in \\mathcal{T}^{sch}\n",
    "\\end{equation} \n",
    "\n",
    "\n",
    "\\begin{equation}\n",
    "- S_{l,r,t} \\leq - D_{l,r,t}  \\hspace{1cm} \\forall r \\in \\mathcal{R}, t \\in \\mathcal{T}^{sch}\n",
    "\\end{equation}\n",
    "\n",
    "\\begin{equation}\n",
    "C_{l,r,t} \\leq C^{max}_{l,r,t} \\hspace{1cm} \\forall r \\in \\mathcal{R}, t \\in \\mathcal{T}^{sch}\n",
    "\\end{equation}\n",
    "\n",
    "\\begin{equation}\n",
    "\\sum_{p \\in \\mathcal{P}} P_{l,p,t} \\times \\eta(p,r) + C_{l,r,t} +  Inv_{l,r,t-1}=  Inv_{l,r,t} + S_{l,r,t}  \n",
    "\\end{equation}\n",
    "\n",
    "\\begin{equation*}\n",
    "\\forall r \\in \\mathcal{R}^{cons}, t \\in \\mathcal{T}^{sch}, l \\in \\mathcal{L}\n",
    "\\end{equation*}\n",
    "\n",
    "\\begin{equation}\n",
    "Mat_{l,p,m,t} = Mat^{cons}_{p,m} \\times Cap^P_{l,p,t} \\hspace{1cm} \\forall m \\in \\mathcal{M}, p \\in \\mathcal{P}, t \\in \\mathcal{T}^{net}\n",
    "\\end{equation}\n",
    "\n",
    "\\begin{equation}\n",
    "Em^{r}_{l,r,t} = GWP^{r}_{l,r,t} \\times C_{l,r,t} \\hspace{1cm} \\forall r \\in \\mathcal{R}, t \\in \\mathcal{T}^{sch}\n",
    "\\end{equation}\n",
    "\n",
    "\\begin{equation}\n",
    "Em^{m}_{l,m,t} = GWP^{m}_{l,m,t} \\times \\sum_{p \\in \\mathcal{P}} Mat_{l,p,m,t} \\hspace{1cm} \\forall p \\in \\mathcal{P}, t \\in \\mathcal{T}^{net}\n",
    "\\end{equation}\n",
    "\n",
    "\\begin{equation}\n",
    "Em^{p}_{l,p,t} = GWP^{p}_{l,p,t} \\times Cap_{l,p,t} \\hspace{1cm} \\forall p \\in \\mathcal{P}, t \\in \\mathcal{T}^{net}\n",
    "\\end{equation}\n",
    "\n",
    "\\begin{equation}\n",
    "S_{l,r,t}, C_{l,r,t}, Inv_{l,r,t}, P_{l,p,t}, Cap^P_{l,p,t}, Cap^S_{l,r,t}, Mat_{l,p,m,t}, Em^{p/r/m}_{l,p/r/m,t} \\in R_{\\geq 0}\n",
    "\\end{equation}\n",
    "\n"
   ]
  },
  {
   "attachments": {},
   "cell_type": "markdown",
   "metadata": {},
   "source": [
    "## Import Modules"
   ]
  },
  {
   "cell_type": "code",
   "execution_count": 39,
   "metadata": {},
   "outputs": [],
   "source": [
    "import sys\n",
    "sys.path.append('../src')"
   ]
  },
  {
   "cell_type": "code",
   "execution_count": 40,
   "metadata": {},
   "outputs": [],
   "source": [
    "import pandas as pd\n",
    "import numpy\n",
    "from energiapy.components.temporal_scale import TemporalScale\n",
    "from energiapy.components.resource import Resource, VaryingResource, Scope\n",
    "from energiapy.components.process import Process, VaryingProcess\n",
    "from energiapy.components.material import Material\n",
    "from energiapy.components.location import Location\n",
    "from energiapy.components.network import Network\n",
    "from energiapy.components.scenario import Scenario\n",
    "from energiapy.components.transport import Transport\n",
    "from energiapy.model.formulate import formulate, Constraints, Objective\n",
    "from energiapy.utils.nsrdb_utils import fetch_nsrdb_data\n",
    "from energiapy.plot import plot_results, plot_scenario\n",
    "from energiapy.plot.plot_results import CostY, CostX\n",
    "from energiapy.model.solve import solve\n",
    "from itertools import product\n",
    "from energiapy.components.result import Result\n",
    "from itertools import product\n",
    "from matplotlib import rc\n",
    "import matplotlib.pyplot as plt\n",
    "from energiapy.model.solve import solve\n",
    "from energiapy.plot.plot_results import CostY, CostX\n",
    "from energiapy.components.location import Location\n",
    "from energiapy.plot import plot_results, plot_scenario\n",
    "from energiapy.utils.nsrdb_utils import fetch_nsrdb_data\n",
    "from energiapy.model.formulate import formulate, Constraints, Objective\n",
    "from energiapy.model.bounds import CapacityBounds\n",
    "from energiapy.utils.data_utils import get_data, make_henry_price_df, remove_outliers, load_results\n",
    "from energiapy.conversion.photovoltaic import solar_power_output\n",
    "from energiapy.conversion.windmill import wind_power_output\n",
    "from energiapy.model.constraints.integer_cuts import constraint_block_integer_cut, constraint_block_integer_cut_min\n",
    "from scipy import stats"
   ]
  },
  {
   "attachments": {},
   "cell_type": "markdown",
   "metadata": {},
   "source": [
    "## Data Import"
   ]
  },
  {
   "cell_type": "code",
   "execution_count": 41,
   "metadata": {},
   "outputs": [],
   "source": [
    "horizon = 1"
   ]
  },
  {
   "cell_type": "code",
   "execution_count": 42,
   "metadata": {},
   "outputs": [],
   "source": [
    "lf = 15"
   ]
  },
  {
   "attachments": {},
   "cell_type": "markdown",
   "metadata": {},
   "source": [
    "The following data is needed for the model\n",
    "\n",
    "- Daily demands of hydrogen.\n",
    "- The capacity factor of renewable energy sources and traditional grid power.\n"
   ]
  },
  {
   "attachments": {},
   "cell_type": "markdown",
   "metadata": {},
   "source": [
    "**Declare temporal scale**\n",
    "\n",
    "The variabilities of energy systems are best captured over a discretized spatio-temporal scale. In energiapy, the first declaration is the temporal scale. \n",
    "\n",
    "For e.g.: Here we declare three temporal scales at different levels from right to left. The interpretation of these scales is merely symentic. Scales can be declared as the problem demands.\n",
    "- 0, annual, with 1 discretization\n",
    "- 1, daily with 365 discretization\n",
    "- 2, hourly with 24 discretization\n",
    "\n",
    "In essence, we are creating a temporal scale of 8760 points.\n",
    "\n"
   ]
  },
  {
   "cell_type": "code",
   "execution_count": 43,
   "metadata": {},
   "outputs": [],
   "source": [
    "scales = TemporalScale(discretization_list=[1,365,24])"
   ]
  },
  {
   "attachments": {},
   "cell_type": "markdown",
   "metadata": {},
   "source": [
    "## Declare resources"
   ]
  },
  {
   "attachments": {},
   "cell_type": "markdown",
   "metadata": {},
   "source": [
    "Resources can be consumed, produced, stored, discharged (or sold).\n",
    "\n",
    "Power demand follows a varying deterministic demand"
   ]
  },
  {
   "cell_type": "code",
   "execution_count": 44,
   "metadata": {},
   "outputs": [],
   "source": [
    "bigM = 10**7\n",
    "smallM = 0.001"
   ]
  },
  {
   "cell_type": "markdown",
   "metadata": {},
   "source": [
    "Historical Data for Design - Hourly Wind Availability"
   ]
  },
  {
   "cell_type": "code",
   "execution_count": 45,
   "metadata": {},
   "outputs": [],
   "source": [
    "def load_data(loc: str, index: list):\n",
    "    df = pd.read_csv(f'C:/Users/marcopdsousa/Documents/energiapy/data/{loc}_solar19.csv')\n",
    "    df['idx'] = index\n",
    "    df = df.set_index('idx')\n",
    "    return df\n",
    "idx = [(i, j, k) for i, j, k in product(range(1), range(365), range(24))]"
   ]
  },
  {
   "cell_type": "code",
   "execution_count": 46,
   "metadata": {},
   "outputs": [],
   "source": [
    "weather_ho = load_data('ho', idx)[['dni']]"
   ]
  },
  {
   "cell_type": "code",
   "execution_count": 47,
   "metadata": {},
   "outputs": [
    {
     "name": "stderr",
     "output_type": "stream",
     "text": [
      "C:\\Users\\marcopdsousa\\AppData\\Local\\Temp\\ipykernel_43100\\953918276.py:3: UserWarning: Could not infer format, so each element will be parsed individually, falling back to `dateutil`. To ensure parsing is consistent and as-expected, please specify a format.\n",
      "  weather_houston.index = pd.to_datetime(weather_houston.index, utc = True)\n"
     ]
    }
   ],
   "source": [
    "coord_houston = (29.56999969482422, -95.05999755859375)\n",
    "weather_houston = pd.read_csv('C:/Users/marcopdsousa/Documents/energiapy/data/weather_houston.csv', index_col=0)\n",
    "weather_houston.index = pd.to_datetime(weather_houston.index, utc = True)"
   ]
  },
  {
   "cell_type": "code",
   "execution_count": 48,
   "metadata": {},
   "outputs": [],
   "source": [
    "# I do not understand this block of code very well, how does the hub height, obersvation height, and roughness length relate to the wind speed model?\n",
    "\n",
    "\n",
    "wind_houston = wind_power_output(data= weather_houston, roughness_length= 0.1, turbine_type= 'V100/1800', hub_height= 92, \n",
    "                                 wind_speed_model= 'logarithmic', density_model = 'ideal_gas', temperature_model = 'linear_gradient', \n",
    "                                 power_output_model = 'power_coefficient_curve', density_correction = True, obstacle_height = 0, \n",
    "                                 observation_height = 10)\n",
    "\n",
    "solar_houston = solar_power_output(data= weather_houston, coord=coord_houston, sam = 'cecmod', module_params= 'Canadian_Solar_Inc__CS5P_220M', \n",
    "                                   inverter = 'cecinverter', inverter_params= 'ABB__MICRO_0_25_I_OUTD_US_208__208V_', \n",
    "                                   temperature_params= 'open_rack_glass_glass', aoi_model= 'no_loss', ac_model= 'sandia', spectral_model= 'no_loss')"
   ]
  },
  {
   "cell_type": "code",
   "execution_count": 49,
   "metadata": {},
   "outputs": [],
   "source": [
    "# # wfdf1 = pd.read_excel(\"C:/Users/marcopdsousa/Documents/energiapy/AICHE/Historical Renewable availability/2021 Wind and Solar data.xlsx\", sheet_name='Wind Data')  # None reads all sheets\n",
    "# # wfdf1 = wfdf1['ERCOT.WIND.GEN']\n",
    "\n",
    "# # wfdf2 = pd.read_excel(\"C:/Users/marcopdsousa/Documents/energiapy/AICHE/Historical Renewable availability/2022 Wind and Solar data.xlsx\", sheet_name='Wind Data')  # None reads all sheets\n",
    "# # wfdf2 = wfdf2['ERCOT.WIND.GEN']\n",
    "\n",
    "# wfdf3 = pd.read_excel(\"C:/Users/marcopdsousa/Documents/energiapy/AICHE/Historical Renewable availability/2023 Wind and Solar data.xlsx\", sheet_name='Wind Data')  # None reads all sheets\n",
    "# wfdf3 = wfdf3['ERCOT.WIND.GEN']\n",
    "# wfdf3\n",
    "\n",
    "# wfcombined_df = pd.concat([wfdf3], axis=0)  # axis=0 means row-wise (default)\n",
    "# wfcombined_df = pd.DataFrame(wfcombined_df)\n",
    "# #wfdf1, wfdf2, \n",
    "# wfcombined_df[:24]\n"
   ]
  },
  {
   "cell_type": "markdown",
   "metadata": {},
   "source": [
    "Historical Data for Design - Hourly Solar Availability"
   ]
  },
  {
   "cell_type": "code",
   "execution_count": 50,
   "metadata": {},
   "outputs": [],
   "source": [
    "# # sfdf1 = pd.read_excel(\"C:/Users/marcopdsousa/Documents/energiapy/AICHE/Historical Renewable availability/2021 Wind and Solar data.xlsx\", sheet_name='Solar Data')  # None reads all sheets\n",
    "# # sfdf1 = sfdf1['ERCOT.PVGR.GEN']\n",
    "\n",
    "# # sfdf2 = pd.read_excel(\"C:/Users/marcopdsousa/Documents/energiapy/AICHE/Historical Renewable availability/2022 Wind and Solar data.xlsx\", sheet_name='Solar Data')  # None reads all sheets\n",
    "# # sfdf2 = sfdf2['ERCOT.PVGR.GEN']\n",
    "\n",
    "# sfdf3 = pd.read_excel(\"C:/Users/marcopdsousa/Documents/energiapy/AICHE/Historical Renewable availability/2023 Wind and Solar data.xlsx\", sheet_name='Solar Data')  # None reads all sheets\n",
    "# sfdf3 = sfdf3['PV_Final']\n",
    "# sfcombined_df = pd.concat([sfdf3], axis=0)  # axis=0 means row-wise (default)\n",
    "# sfcombined_df = pd.DataFrame(sfcombined_df)\n",
    "# sfcombined_df[:24]\n",
    "# #sfdf1, sfdf2, "
   ]
  },
  {
   "cell_type": "code",
   "execution_count": 51,
   "metadata": {},
   "outputs": [],
   "source": [
    "# #Gives relevancy to price values again\n",
    "# wfcombined = wfcombined_df.max()\n",
    "# sfcombined = sfcombined_df.max()"
   ]
  },
  {
   "cell_type": "markdown",
   "metadata": {},
   "source": [
    "## Declare Resources"
   ]
  },
  {
   "cell_type": "code",
   "execution_count": 52,
   "metadata": {},
   "outputs": [],
   "source": [
    "Solar = Resource(name='Solar', cons_max=bigM, basis='MW', label='Solar Power')\n",
    "# , price= 52.69, gwp=0, scope=Scope.TWO)\n",
    "\n",
    "Wind = Resource(name='Wind', cons_max=bigM, basis='MW', label='Wind Power')\n",
    "# , price= 60.11, gwp=0, scope=Scope.TWO)\n",
    "\n",
    "Power = Resource(name='Power', basis='MW',\n",
    "                 label='Power generated')\n",
    "\n",
    "LiIPower = Resource(name='LiIPower', basis='MW',  store_max=bigM, label='Power bought')\n",
    "\n",
    "# GridPower = Resource(name='GridPower', basis='MW',\n",
    "#                      cons_max=bigM, label='Power bought', gwp= 353.83, price =ecombined ,varying = [VaryingResource.DETERMINISTIC_PRICE], scope = Scope.TWO)\n",
    "\n",
    "\n",
    "Steam = Resource(name='Steam', basis='tons', cons_max=bigM, label='Steam')\n",
    "\n",
    "CW = Resource(name='Cooling water', cons_max=10**10, price=0.001, basis='tons', label='Cooling water', block='Resource')\n",
    "\n",
    "CO2 = Resource(name='CO2', basis='tons', label='Carbon dioxide', block='Resource')\n",
    "\n",
    "CO2_air = Resource(name='CO2_air', basis='tons', label='Carbon dioxide', block='Resource', cons_max = bigM)\n",
    "\n",
    "# Why is the GWP for CO2 1000?\n",
    "CO2_Vent = Resource(name='CO2_Vent', sell=True, basis='tons', label='Carbon dioxide', gwp = 1000)\n",
    "\n",
    "H2O = Resource(name='H2O', cons_max=10**10, price=1.8494, basis='tons', label='Water', block='Resource')\n",
    "#7 usd/(1000 gal= 3785 kg) #https://waterinfo.murphytx.org/fees/rates/\n",
    "\n",
    "Chlorine = Resource(name='Chlorine', cons_max=10**10, price=660, basis='tons', label='Chlorine', block='Resource')\n",
    "#0.66/kg https://businessanalytiq.com/procurementanalytics/index/chlorine-price-index/\n",
    "\n",
    "Air = Resource(name='Air', cons_max=10**10, price=0, basis='tons', label='Air', block='Resource')\n",
    "#7 usd/(1000 gal= 3785 kg) #https://waterinfo.murphytx.org/fees/rates/\n",
    "\n",
    "#Prices - Here we can feed deterministic prices for NG\n",
    "NG = Resource(name='Natural Gas', price=128.81, basis='ton', cons_max=bigM, label='Natural Gas', gwp = 1249.181)\n",
    "\n",
    "#Why is there a specific cons_max for oil?\n",
    "Oil = Resource(name='Oil', price=572.166, basis='ton', cons_max=7162.30, label='Oil', gwp = 1558.187)\n",
    "\n",
    "O2 = Resource(name='Oxygen', price=230, cons_max=10**10, basis='tons', label='Oxygen', gwp =183.1, block='Resource')\n",
    "#https://medium.com/intratec-products-blog/oxygen-prices-latest-historical-data-in-several-countries-b180fad7dafa (usd/ton)\n",
    "#http://www.leonland.de/elements_by_price/en/list (Praxair, $640)\n",
    "#https://www.chemanalyst.com/Pricing-data/oxygen-1575#:~:text=Oxygen%20prices%20for%20Q1%202024,at%20USD%20230%20per%20MT($230).\n",
    "#https://www.imarcgroup.com/oxygen-pricing-report\n",
    "#O2 = Resource(name='Oxygen', cons_max=10**10, basis='tons', label='Oxygen', gwp =28.7316, block='Resource')\n",
    "#ASU cryogenic distillation\n",
    "\n",
    "#From SMR+CCS HYDROGEN (92% capture)\n",
    "H2 = Resource(name='Hydrogen', price= 6700, cons_max=10**10, basis='tons', label='Hydrogen', gwp = 2500, block='Resource')\n",
    "#https://www.statista.com/statistics/1179498/us-hydrogen-production-costs-forecast/ (usd/ton)\n",
    "#https://www.frompollutiontosolution.org/hydrogen-from-smr-and-ccs\n",
    "\n",
    "\n",
    "#Do none of the resources below have gwp's?\n",
    "\n",
    "Methanol = Resource(name='Methanol', basis='tons', label='Methanol')\n",
    "\n",
    "Methane = Resource(name='Methane', basis='tons', label='Methane')\n",
    "\n",
    "Ethylene = Resource(name='Ethylene', basis='tons', label='Ethylene')\n",
    "\n",
    "Propylene = Resource(name='Propylene', basis='tons', label='Propylene', sell= True)\n",
    "\n",
    "C4_frac = Resource(name='C4 fraction', basis='tons', label='C4 fraction', sell= True)\n",
    "\n",
    "LPG = Resource(name='LPG', basis='tons', label='LPG', sell= True, gwp = 937)\n",
    "\n",
    "C5_frac = Resource(name='C5 fraction', basis='tons', label='C5 fraction', sell= True)\n",
    "\n",
    "#POLYMERS\n",
    "\n",
    "HDPE = Resource(name='High density polyethylene', basis='tons', label='HDPE')\n",
    "\n",
    "HDPE_CM = Resource(name='HDPE_CM', basis='tons', label='HDPE')\n",
    "\n",
    "HDPE_E = Resource(name='HDPE_E', basis='tons', label='HDPE')\n",
    "\n",
    "HDPE_IM = Resource(name='HDPE_IM', basis='tons', label='HDPE')\n",
    "\n",
    "\n",
    "#PLASTICS THAT ONLY BAU ROUTE IS DEFINED\n",
    "\n",
    "NMC = Resource(name='NMC', basis='tons', label='NMC')\n",
    "Battery = Resource(name='Battery', basis='tons', label='Battery')\n",
    "Gasoline = Resource(name='Gasoline', basis='tons', label='Gasoline')\n",
    "ICE = Resource(name='ICE', basis='unit', label='ICE')\n",
    "EV = Resource(name='EV', basis='unit', label='EV')\n",
    "Miles = Resource(name='Miles', basis='unit', label='Miles', demand = True)\n",
    "\n",
    "\n",
    "#Both Charging stations are net zero? The fuel charging station is not used at all\n",
    "EC = Resource(name= 'Electric charging station', gwp = 0)\n"
   ]
  },
  {
   "attachments": {},
   "cell_type": "markdown",
   "metadata": {},
   "source": [
    "## Declare Materials"
   ]
  },
  {
   "attachments": {},
   "cell_type": "markdown",
   "metadata": {},
   "source": [
    "Materials are utilized for the establishment of processes. Materials inturn require resources to be set up. "
   ]
  },
  {
   "cell_type": "code",
   "execution_count": 53,
   "metadata": {},
   "outputs": [],
   "source": [
    "#These two are derived from the carbonate versions, there are two hydroxide versions as well - FUTURE WORK\n",
    "#Ah I remember this IEA document \n",
    "LiR = Material(name='LiR', gwp=9600, basis='kg CO2 eq./ton', label='Rock-based Lithium',\n",
    "               citation='https://www.iea.org/data-and-statistics/charts/ghg-emissions-intensity-for-lithium-by-resource-type-and-processing-route')  \n",
    "LiB = Material(name='LiB', gwp=2800, basis='kg CO2 eq./ton', label='Brine-based Lithium',\n",
    "               citation='https://www.iea.org/data-and-statistics/charts/ghg-emissions-intensity-for-lithium-by-resource-type-and-processing-route')\n",
    "Inverter = Material(name = 'Inverter', gwp = 4041, basis = 'kg CO2 eq./ton', label = 'copper',\n",
    "                 citation = 'GREET 2022, Glass fiber reinforced plastic') \n",
    "\n",
    "#https://onlinelibrary.wiley.com/doi/full/10.1002/ente.201800037#:~:text=It%20is%20well%20established%20that,53%20g%20CO2%20eq.\n",
    "\n",
    "Steel = Material(name ='steel', gwp= 2121.152427, basis='kg CO2 eq./ton', label = 'Steel', \n",
    "                 citation= 'Annika Eberle et al., (2023), Materials used in U.S. Wind Energy Technologies: Quanitities and Availability for Two Future Scenarios')\n",
    "\n",
    "Cast_iron = Material(name ='cast iron', gwp= 1759.710573, basis='kg CO2 eq./ton', label = 'Cast iron', \n",
    "                 citation= 'Annika Eberle et al., (2023), Materials used in U.S. Wind Energy Technologies: Quanitities and Availability for Two Future Scenarios')\n",
    "\n",
    "Concrete = Material(name ='concrete', gwp= 120.0378, basis='kg CO2 eq./ton', label = 'Concrete', \n",
    "                 citation= 'Annika Eberle et al., (2023), Materials used in U.S. Wind Energy Technologies: Quanitities and Availability for Two Future Scenarios')\n",
    "\n",
    "Glass = Material(name = 'glass', gwp = 1118.5, basis = 'kg CO2 eq./ton', label = 'glass',\n",
    "                 citation = 'Statista.com/statistics/1118670/materials-used-manufacture-solar-pv-plant-globally. & https://solaredition.com/raw-materials-breakdown-for-building-a-1-megawatt-solar-photovoltaic-plant-2017')\n",
    "\n",
    "Aluminium = Material(name = 'aluminium', gwp = 16707.00, basis = 'kg CO2 eq./ton', label = 'aluminium',\n",
    "                 citation = 'https://www.researchgate.net/figure/Overall-environmental-impact-per-kg-Pts-kg-and-GWP-kg-of-CO2-eq-kg-aluminium-of_fig2_295243557. & Statista.com/statistics/1118670/materials-used-manufacture-solar-pv-plant-globally. & https://solaredition.com/raw-materials-breakdown-for-building-a-1-megawatt-solar-photovoltaic-plant-2017')\n",
    "\n",
    "Silicon_mono = Material(name = 'silicon', gwp = 122239.1, basis = 'kg CO2 eq./ton', label = 'silicon',\n",
    "                 citation = 'Statista.com/statistics/1118670/materials-used-manufacture-solar-pv-plant-globally. & https://solaredition.com/raw-materials-breakdown-for-building-a-1-megawatt-solar-photovoltaic-plant-2017')\n",
    "\n",
    "Silicon_poly = Material(name = 'silicon', gwp = 98646.7, basis = 'kg CO2 eq./ton', label = 'silicon',\n",
    "                 citation = 'Statista.com/statistics/1118670/materials-used-manufacture-solar-pv-plant-globally. & https://solaredition.com/raw-materials-breakdown-for-building-a-1-megawatt-solar-photovoltaic-plant-2017')\n",
    "\n",
    "Copper = Material(name = 'copper', gwp = 8660.4, basis = 'kg CO2 eq./ton', label = 'copper',\n",
    "                 citation = 'Statista.com/statistics/1118670/materials-used-manufacture-solar-pv-plant-globally. & https://solaredition.com/raw-materials-breakdown-for-building-a-1-megawatt-solar-photovoltaic-plant-2017')\n",
    "\n",
    "Epoxy_resin = Material(name = 'epoxy resin', gwp = 5508.8, basis = 'kg CO2 eq./ton', label = 'epoxy resin',\n",
    "                 citation = 'Statista.com/statistics/1118670/materials-used-manufacture-solar-pv-plant-globally. & https://solaredition.com/raw-materials-breakdown-for-building-a-1-megawatt-solar-photovoltaic-plant-2017')\n",
    "\n",
    "Glass_fiber = Material(name = 'glass fiber', gwp = 4041, basis = 'kg CO2 eq./ton', label = 'glass fiber',\n",
    "                 citation = 'GREET 2022, Glass fiber reinforced plastic')\n",
    "\n",
    "Dummy = Material(name= 'Dummy', gwp = 0)"
   ]
  },
  {
   "attachments": {},
   "cell_type": "markdown",
   "metadata": {},
   "source": [
    "## Declare Processes"
   ]
  },
  {
   "cell_type": "code",
   "execution_count": 54,
   "metadata": {},
   "outputs": [],
   "source": [
    "\n",
    "LiIB = Process(name='LiIB', conversion= {Power: -1, LiIPower: 1}, \n",
    "              material_cons={LiB: 0.137, Copper: 0.6497, Steel: 1.165},\n",
    "               capex= 1938204,fopex=44247, vopex=0, prod_min=smallM, prod_max=bigM, label='Lithium-ion battery', basis='MW')\n",
    "#https://atb.nrel.gov/electricity/2023/utility-scale_battery_storage#\n",
    "\n",
    "LiIR = Process(name='LiIR', conversion={Power: -1, LiIPower: 1},\n",
    "               material_cons={LiR: 0.137, Copper: 0.6497, Steel: 1.165},\n",
    "               capex=1938204, fopex=44247, vopex=0, prod_min=smallM, prod_max=bigM, label='Lithium-ion battery', basis='MW')\n",
    "\n",
    "LiI_discharge = Process(name='LiI_d', conversion={Power: 0.8, LiIPower: -1},\n",
    "                        capex=0, fopex=0, vopex=0, prod_max=bigM, prod_min=smallM,  \n",
    "                        label='Lithium-ion battery (d)', basis='MW', material_cons= {Dummy: 0})\n",
    "\n",
    "#PV_Monocrystalline is used\n",
    "\n",
    "PV = Process(name='PV', conversion={Solar: -5, Power: 1}, \n",
    "              capex= 1289507, fopex=20988, vopex=0,\n",
    "              material_cons={Glass: 70, Steel: 56, Concrete: 48, Aluminium: 19, Silicon_mono: 7, Copper: 7}, prod_min=0, prod_max=0, varying=[VaryingProcess.DETERMINISTIC_CAPACITY], label='Solar PV', basis='MW', block = 'power')\n",
    "\n",
    "#WF Land form is used\n",
    "\n",
    "WF = Process(name='WF', conversion={Wind: -2.857, Power: 1}, \n",
    "             capex=1292000, fopex=29200, vopex= 0,\n",
    "             material_cons={Steel: 109.9, Cast_iron: 8.805, Concrete: 398.7, Epoxy_resin: 5, Glass_fiber: 12.2}, prod_min=smallM, prod_max=bigM, varying=[VaryingProcess.DETERMINISTIC_CAPACITY], label='Wind farm', basis='MW', block = 'power')\n",
    "\n",
    "\n",
    "\n",
    "HDPE_BAU = Process(name='HDPE BAU', \n",
    "              conversion={Power: -0.320, NG: -0.8581, Oil: -0.1756, HDPE: 1, CO2_Vent:0.457},\n",
    "              material_cons={Dummy: 5},\n",
    "              capex=12260000, fopex=2201.85, vopex=0,  \n",
    "              prod_min=0.01, prod_max=bigM, label='HDPE production BAU', block='olefins_prod')\n",
    "\n",
    "\n",
    "\n",
    "CM_HDPE = Process(name='Compression molding', \n",
    "              conversion={Power: -0.420, HDPE: -1, HDPE_CM: 1, CO2_Vent:1.6527-1.0578},\n",
    "              material_cons={Dummy: 5},\n",
    "              capex=0, fopex=0, vopex=0,  \n",
    "              prod_min=smallM, prod_max=bigM, label='HDPE CM', block='finishing')\n",
    "\n",
    "E_HDPE = Process(name='Extrusion', \n",
    "              conversion={Power: -0.540, HDPE: -1.002, HDPE_E: 1, CO2_Vent:1.2394-1.0578},\n",
    "              material_cons={Dummy: 5},\n",
    "              capex=0, fopex=0, vopex=0,  \n",
    "              prod_min=smallM, prod_max=bigM, label='HDPE E', block='finishing')\n",
    "\n",
    "IM_HDPE = Process(name='Injection molding', \n",
    "              conversion={Power: -2.10, HDPE: -1.139, HDPE_IM: 1, CO2_Vent:1.9351-1.0578},\n",
    "              material_cons={Dummy: 5},\n",
    "              capex=0, fopex=0, vopex=0,  \n",
    "              prod_min=smallM, prod_max=bigM, label='HDPE IM', block='finishing')\n",
    "\n",
    "NMC_production = Process(name='NMC production', \n",
    "              conversion={Power: -43.055, NMC:1, CO2_Vent:11}, \n",
    "              material_cons={Dummy: 5},\n",
    "              capex=0, fopex=0, vopex=0,  \n",
    "              prod_min=smallM, prod_max=bigM, label='NMC production', block='NMC production')\n",
    "\n",
    "Battery_production = Process(name='Battery production', \n",
    "              conversion={Power:-0.293, NMC:-0.2504, Battery:1}, \n",
    "              material_cons={Dummy: 5},\n",
    "              capex=0, fopex=0, vopex=0,  \n",
    "              prod_min=smallM, prod_max=bigM, label='Battery production', block='Battery production')\n",
    "\n",
    "\n",
    "Gasoline_production = Process(name='Gasoline production', conversion={Oil: -0.00556, Gasoline: 1}, \n",
    "                              capex=0, fopex=0, vopex=0, prod_min=smallM, prod_max=bigM, label='Gasoline Production', basis='gallons', material_cons={Dummy: 5}, block = 'gasoline_prod')\n",
    "\n",
    "#FIX ALL DEMANDS IN A CAR [TON]\n",
    "ICE_production = Process(name='ICE_prod', conversion={HDPE_CM: -0.0437664, HDPE_E: -0.0166944, HDPE_IM: -0.1200192, ICE: 1, CO2_Vent:3.7}, \n",
    "                         capex=0, fopex=0, vopex=22627, prod_min=0, prod_max=bigM, label='ICE_prod', basis='car', material_cons={Dummy: 5}, block = 'ICE_prod')\n",
    "#Steel1:-923, Aluminium1:-208, Cast_iron1:-143,\n",
    "\n",
    "#FIX ALL DEMANDS IN A CAR [TON]\n",
    "EV_production = Process(name='EV_prod', conversion={EC:-1/35.17, HDPE_CM: -0.0437664, HDPE_E: -0.0166944, HDPE_IM: -0.1200192, Battery:-0.7711, EV: 1, CO2_Vent:3.3}, \n",
    "                        capex=0,fopex=0, vopex=31895, prod_min=0, prod_max=bigM, label='EV_prod', basis='car', material_cons={Dummy: 5}, block = 'EV_prod')\n",
    "\n",
    "\n",
    "EC_station = Process(name='Electric Charging station', conversion={HDPE:-0.029, EC:1}, \n",
    "                     capex=0,fopex=0, vopex=0, prod_min=smallM, prod_max=bigM, label='Electric Charging station', basis='stations/EV', material_cons={Dummy: 5}, block = 'EV_drive')\n",
    "\n",
    "Driving1 = Process(name='Driving1', conversion={ICE:(-1/lf)/16171, Gasoline:-539/16171, Miles:1}, \n",
    "                   capex=0, fopex=0, vopex=0, prod_min=smallM, prod_max=bigM, label='Driving1', basis='miles/year', material_cons={Dummy: 5}, block = 'ICE_drive')\n",
    "\n",
    "Driving2 = Process(name='Driving2', conversion={EV:(-1/lf)/16171, Power: -5.6/16171, Miles:1}, \n",
    "                   capex=0,fopex=0, vopex=0, prod_min=smallM, prod_max=bigM, label='Driving2', basis='miles/year', material_cons={Dummy: 5}, block = 'EV_drive')\n"
   ]
  },
  {
   "attachments": {},
   "cell_type": "markdown",
   "metadata": {},
   "source": [
    "## Declare Location"
   ]
  },
  {
   "cell_type": "code",
   "execution_count": 55,
   "metadata": {},
   "outputs": [],
   "source": [
    "# pd.DataFrame(ecombined_df)"
   ]
  },
  {
   "cell_type": "code",
   "execution_count": 56,
   "metadata": {},
   "outputs": [],
   "source": [
    "# process_set = {Grid, PV, WF, SMR, PEM,SMRCCS, ATR_CCS_R, ATR_CCS_R_OC, AWE}#, SMRCCS, PEM} #Grid,  ATR_CCS_OC,\n",
    "\n",
    "\n",
    "process_set = {PV, WF, LiIR, LiIB, LiI_discharge, HDPE_BAU, CM_HDPE, E_HDPE, IM_HDPE, Battery_production, NMC_production, EV_production, Gasoline_production, ICE_production, Driving1, Driving2, EC_station}\n",
    "#process_set = {PV, WF, PEM, AWE}#, SMRCCS, PEM} #Grid,  ATR_CCS_OC,\n",
    "\n",
    "# process_set = {Grid, PV, WF, SMR, AWE}#, SMRCCS, PEM} #Grid,\n",
    "\n",
    "# process_set = {Grid, PV, WF, SMR, SMRCCS, ATR_CCS_OC, ATR_CCS_R, ATR_CCS_R_OC}#, SMRCCS, PEM} #Grid,"
   ]
  },
  {
   "cell_type": "code",
   "execution_count": 57,
   "metadata": {},
   "outputs": [],
   "source": [
    "houston = Location(name='HO', processes=process_set, capacity_factor={PV: weather_ho, WF: wind_houston[:8760*horizon]}, \n",
    "                   scales=scales, label='Houston', demand_scale_level=2, price_scale_level=2, capacity_scale_level=2, gwp_scale_level = 2)\n",
    "\n",
    "#, NG: NG_price_hourly expenditure_scale_level=0, , price_factor={GridPower: ecombined_df, NG: NG_price_hourly\n",
    "\n",
    "#wfcombined_df"
   ]
  },
  {
   "attachments": {},
   "cell_type": "markdown",
   "metadata": {},
   "source": [
    "## Declare Scenario"
   ]
  },
  {
   "cell_type": "code",
   "execution_count": 58,
   "metadata": {},
   "outputs": [],
   "source": [
    "\n",
    "scenario = Scenario(name='scenario_full', network=houston, scales=scales,  expenditure_scale_level=0, demand_scale_level=2, \n",
    "                    purchase_scale_level = 2, scheduling_scale_level=2, network_scale_level=0, capacity_scale_level=2, gwp_scale_level = 2,\n",
    "                    label='full_case', demand={houston: {Miles:26149807.8179865*16171/(365*24)}})\n",
    "\n",
    "#, annualization_factor = 1/25"
   ]
  },
  {
   "cell_type": "code",
   "execution_count": 59,
   "metadata": {},
   "outputs": [
    {
     "data": {
      "image/png": "[encoded data removed]",
      "text/plain": [
       "<Figure size 900x500 with 1 Axes>"
      ]
     },
     "metadata": {},
     "output_type": "display_data"
    }
   ],
   "source": [
    "plot_scenario.capacity_factor(\n",
    "    scenario=scenario, location=houston, process=PV, fig_size=(9, 5), color='red')"
   ]
  },
  {
   "cell_type": "code",
   "execution_count": 60,
   "metadata": {},
   "outputs": [
    {
     "data": {
      "image/png": "[encoded data removed]",
      "text/plain": [
       "<Figure size 900x500 with 1 Axes>"
      ]
     },
     "metadata": {},
     "output_type": "display_data"
    }
   ],
   "source": [
    "plot_scenario.capacity_factor(\n",
    "    scenario=scenario, location=houston, process=WF, fig_size=(9, 5), color='green')"
   ]
  },
  {
   "attachments": {},
   "cell_type": "markdown",
   "metadata": {},
   "source": [
    "## Formulate MILP"
   ]
  },
  {
   "attachments": {},
   "cell_type": "markdown",
   "metadata": {},
   "source": [
    "Here we formulate two milps which differ only in their objectives.\n",
    "\n",
    "For maximizing the discharge of a particular resource, use the objective MAX_DISCHARGE, the objective resource also needs to be specified.\n",
    "\n",
    "Similarly the discharge can also be minimized using MIN_DISCHARGE. This can be used with a demand for another resource being set. For example, minimizing the discharge of carbon dioxide while meeting a hydrogen demand.\n",
    "\n",
    "The second MILP, minimized the cost while meeting a varying demand for power"
   ]
  },
  {
   "cell_type": "code",
   "execution_count": 61,
   "metadata": {},
   "outputs": [
    {
     "name": "stdout",
     "output_type": "stream",
     "text": [
      "constraint process capex\n",
      "constraint process fopex\n",
      "constraint process vopex\n",
      "constraint storage capex\n",
      "constraint process incidental\n",
      "constraint location capex\n",
      "constraint storage cost\n",
      "constraint storage cost location\n",
      "constraint storage cost network\n",
      "constraint global warming potential resource\n",
      "constraint global warming potential resource consumption\n",
      "constraint global warming potential resource discharge\n",
      "constraint global warming potential material\n",
      "constraint global warming potential material mode\n",
      "constraint global warming potential location\n",
      "constraint global warming potential network\n",
      "constraint production mode\n",
      "constraint inventory balance\n",
      "constraint inventory network\n",
      "constraint storage facility\n",
      "constraint production facility\n",
      "constraint min production facility\n",
      "constraint min storage facility\n",
      "constraint material process\n",
      "constraint material location\n",
      "constraint material network\n",
      "constraint production facility material mode\n",
      "constraint production facility material mode binary\n",
      "constraint production facility material\n",
      "constraint min production facility material\n",
      "constraint material mode process\n",
      "constraint nameplate production material mode\n",
      "constraint location production material mode\n",
      "constraint location production material mode sum\n",
      "constraint demand\n",
      "objective cost\n"
     ]
    }
   ],
   "source": [
    "milp_cost = formulate(scenario=scenario, constraints={Constraints.COST, Constraints.INVENTORY, Constraints.NETWORK, Constraints.PRODUCTION,\n",
    "                      Constraints.RESOURCE_BALANCE, Constraints.DEMAND, Constraints.EMISSION, Constraints.MATERIAL}, objective=Objective.COST, demand_sign = 'geq')"
   ]
  },
  {
   "cell_type": "code",
   "execution_count": 62,
   "metadata": {},
   "outputs": [
    {
     "name": "stdout",
     "output_type": "stream",
     "text": [
      "Set parameter OutputFlag to value 1\n",
      "Set parameter QCPDual to value 1\n",
      "Gurobi Optimizer version 12.0.1 build v12.0.1rc0 (win64 - Windows 11.0 (26100.2))\n",
      "\n",
      "CPU model: 13th Gen Intel(R) Core(TM) i7-13700, instruction set [SSE2|AVX|AVX2]\n",
      "Thread count: 16 physical cores, 24 logical processors, using up to 24 threads\n",
      "\n",
      "Non-default parameters:\n",
      "QCPDual  1\n",
      "\n",
      "Optimize a model with 903039 rows, 5519499 columns and 2389124 nonzeros\n",
      "Model fingerprint: 0xd18e8197\n",
      "Variable types: 5519464 continuous, 35 integer (35 binary)\n",
      "Coefficient statistics:\n",
      "  Matrix range     [4e-06, 1e+07]\n",
      "  Objective range  [1e+00, 1e+00]\n",
      "  Bounds range     [1e+00, 1e+00]\n",
      "  RHS range        [7e+03, 5e+07]\n",
      "Warning: Model contains large matrix coefficient range\n",
      "         Consider reformulating model or setting NumericFocus parameter\n",
      "         to avoid numerical issues.\n",
      "Presolve removed 591471 rows and 5278056 columns\n",
      "Presolve time: 0.49s\n",
      "\n",
      "Explored 0 nodes (0 simplex iterations) in 0.89 seconds (1.44 work units)\n",
      "Thread count was 1 (of 24 available processors)\n",
      "\n",
      "Solution count 0\n",
      "\n",
      "Model is infeasible\n",
      "Best objective -, best bound -, gap -\n"
     ]
    },
    {
     "name": "stderr",
     "output_type": "stream",
     "text": [
      "WARNING:pyomo.solvers:Cannot get duals for MIP.\n",
      "WARNING:pyomo.core:Loading a SolverResults object with a warning status into model.name=\"unknown\";\n",
      "  - termination condition: infeasible\n",
      "  - message from solver: <undefined>\n"
     ]
    }
   ],
   "source": [
    "results_cost = solve(scenario=scenario, instance=milp_cost,\n",
    "                     solver='gurobi', name=f\"res_cost\", print_solversteps=True, saveformat = '.pkl')\n"
   ]
  },
  {
   "cell_type": "code",
   "execution_count": null,
   "metadata": {},
   "outputs": [],
   "source": [
    "x = results_cost.output['P']"
   ]
  },
  {
   "cell_type": "code",
   "execution_count": null,
   "metadata": {},
   "outputs": [],
   "source": [
    "import matplotlib.pyplot as plt\n",
    "import matplotlib.dates as mdates\n",
    "from datetime import datetime, timedelta\n",
    "\n",
    "# Generate time labels\n",
    "time_labels = [datetime(2024, 1, 1) + timedelta(days=j, hours=i) for j in range(174,175) for i in range(24)]\n",
    "\n",
    "# Plotting the data\n",
    "plt.plot(time_labels, [x['HO', 'SMR', 0, day, hour] for day in range(174,175) for hour in range(24)], color='maroon', label=\"SMR Production\")\n",
    "# plt.plot(time_labels, [x['HO', 'SMR', 0, day, hour] for day in range(174,175) for hour in range(24)], color='red', linestyle='--', label=\"PV\")\n",
    "# plt.plot(time_labels, [x['HO', 'PEM', 0, day, hour] for day in range(174,175) for hour in range(24)], color='g', linestyle=':', label=\"WF\")\n",
    "\n",
    "\n",
    "# Labeling axes\n",
    "plt.xlabel('Time')\n",
    "plt.ylabel('Total Electricity Consumed [MWh]')\n",
    "\n",
    "# Format the y-axis in scientific notation\n",
    "plt.ticklabel_format(style='sci', axis='y')  \n",
    "\n",
    "# Set limits for y and x axes\n",
    "plt.ylim(bottom=0)\n",
    "plt.xlim([time_labels[0], time_labels[-1]])\n",
    "\n",
    "# Set custom time labels for the x-axis\n",
    "plt.gca().xaxis.set_major_formatter(mdates.DateFormatter('%H:%M'))  # Hour:Minute format %D::%H:%M\n",
    "plt.xticks(time_labels[::3])  # Show every second hour for better spacing\n",
    "\n",
    "# Set custom time labels for the x-axis\n",
    "# plt.gca().xaxis.set_major_locator(mdates.MonthLocator())  # Show one tick per month\n",
    "# plt.gca().xaxis.set_major_formatter(mdates.DateFormatter('%b'))  # Format as 'Jan 2024', 'Feb 2024', etc.  %Y\n",
    "\n",
    "\n",
    "# Add grid\n",
    "plt.grid(color='gray', linestyle='--', linewidth=0.5, alpha=0.5)\n",
    "\n",
    "# Display legend\n",
    "plt.legend()\n",
    "\n",
    "# Show the plot\n",
    "plt.show()"
   ]
  },
  {
   "cell_type": "code",
   "execution_count": null,
   "metadata": {},
   "outputs": [],
   "source": [
    "import matplotlib.pyplot as plt\n",
    "import matplotlib.dates as mdates\n",
    "from datetime import datetime, timedelta\n",
    "\n",
    "# Generate time labels\n",
    "time_labels = [datetime(2024, 1, 1) + timedelta(days=j, hours=i) for j in range(74,75) for i in range(24)]\n",
    "#SMRplot = [x['HO', 'SMR', 0, day, hour] for day in range(74,75) for hour in range(24)]\n",
    "SMRplot = [x['HO', 'SMR', 0, day, hour] for day in range(74,75) for hour in range(24)]\n",
    "# Plotting the data\n",
    "plt.fill_between(time_labels, SMRplot, color= 'b', alpha=0.1)\n",
    "plt.plot(time_labels, [x['HO', 'SMR', 0, day, hour] for day in range(74,75) for hour in range(24)], color='b', label=\"Hydrogen production on the cloudiest day of the year\")\n",
    "#plt.plot(time_labels, SMRplot, color='orange', linestyle='--', label=\"Hydrogen production on the sunniest day of the year\")\n",
    "# plt.plot(time_labels, [x['HO', 'WF', 0, day, hour] for day in range(74,75) for hour in range(24)], color='g', linestyle=':', label=\"WF\")\n",
    "\n",
    "# Labeling axes\n",
    "plt.xlabel('Time')\n",
    "plt.ylabel('Hourly Hydrogen Production [kg]')\n",
    "\n",
    "# Format the y-axis in scientific notation\n",
    "plt.ticklabel_format(style='sci', axis='y')  \n",
    "\n",
    "# Set limits for y and x axes\n",
    "plt.ylim(bottom=0)\n",
    "plt.xlim([time_labels[0], time_labels[-1]])\n",
    "\n",
    "# Set custom time labels for the x-axis\n",
    "plt.gca().xaxis.set_major_formatter(mdates.DateFormatter('%H:%M'))  # Hour:Minute format %D::%H:%M\n",
    "plt.xticks(time_labels[::3])  # Show every second hour for better spacing\n",
    "\n",
    "# Set custom time labels for the x-axis\n",
    "# plt.gca().xaxis.set_major_locator(mdates.MonthLocator())  # Show one tick per month\n",
    "# plt.gca().xaxis.set_major_formatter(mdates.DateFormatter('%b'))  # Format as 'Jan 2024', 'Feb 2024', etc.  %Y\n",
    "\n",
    "\n",
    "# Add grid\n",
    "plt.grid(color='gray', linestyle='--', linewidth=0.5, alpha=0.5)\n",
    "\n",
    "# Display legend\n",
    "plt.legend()\n",
    "\n",
    "# Show the plot\n",
    "plt.show()"
   ]
  },
  {
   "cell_type": "code",
   "execution_count": null,
   "metadata": {},
   "outputs": [],
   "source": [
    "import matplotlib.pyplot as plt\n",
    "import matplotlib.dates as mdates\n",
    "from datetime import datetime, timedelta\n",
    "\n",
    "# Generate time labels\n",
    "time_labels = [datetime(2024, 1, 1) + timedelta(days=j, hours=i) for j in range(174,175) for i in range(24)]\n",
    "#SMRplot = [x['HO', 'SMR', 0, day, hour] for day in range(74,75) for hour in range(24)]\n",
    "#SMRplot = [x['HO', 'SMR', 0, day, hour] for day in range(174,175) for hour in range(24)]\n",
    "plt.fill_between(time_labels, SMRplot, color= 'maroon', alpha=0.1)\n",
    "# Plotting the data\n",
    "# plt.plot(time_labels, [x['HO', 'Grid', 0, day, hour] for day in range(174,175) for hour in range(24)], color='purple', label=\"Grid\"), label=\"Hydrogen production when there is abundant renewable energy\"\n",
    "plt.plot(time_labels, SMRplot, color='maroon', linestyle='--', label = 'SMR')#, label = \"Hydrogen production rate\")\n",
    "# plt.plot(time_labels, [x['HO', 'WF', 0, day, hour] for day in range(174,175) for hour in range(24)], color='g', linestyle=':', label=\"WF\")\n",
    "# plt.plot(time_labels, [x['HO', 'PV', 0, day, hour] for day in range(174,175) for hour in range(24)], color='red', linestyle='--', label=\"PV\")\n",
    "\n",
    "\n",
    "# Labeling axes\n",
    "plt.xlabel('Time', fontsize = 14)\n",
    "plt.ylabel('Hourly Hydrogen Production [kg]', fontsize = 14)\n",
    "\n",
    "# Format the y-axis in scientific notation\n",
    "plt.ticklabel_format(style='sci', axis='y')  \n",
    "\n",
    "# Set limits for y and x axes\n",
    "plt.ylim(bottom=0)\n",
    "plt.xlim([time_labels[0], time_labels[-1]])\n",
    "\n",
    "# Set custom time labels for the x-axis\n",
    "# plt.gca().xaxis.set_major_formatter(mdates.DateFormatter('%D')  # Hour:Minute format %D::%H:%M\n",
    "# plt.xticks(time_labels[::3])  # Show every second hour for better spacing\n",
    "\n",
    "# Set custom time labels for the x-axis\n",
    "plt.gca().xaxis.set_major_locator(mdates.HourLocator(interval=3))  # Show one tick per month\n",
    "plt.gca().xaxis.set_major_formatter(mdates.DateFormatter('%H:%M'))  # Format as 'Jan 2024', 'Feb 2024', etc.  %Y\n",
    "\n",
    "\n",
    "# Add grid\n",
    "plt.grid(color='gray', linestyle='--', linewidth=0.5, alpha=0.5)\n",
    "\n",
    "# Display legend\n",
    "plt.legend(fontsize = 10)\n",
    "\n",
    "# Show the plot\n",
    "plt.show()"
   ]
  },
  {
   "cell_type": "code",
   "execution_count": null,
   "metadata": {},
   "outputs": [],
   "source": [
    "# results_cost.output['P']"
   ]
  },
  {
   "cell_type": "code",
   "execution_count": null,
   "metadata": {},
   "outputs": [],
   "source": [
    "results_cost.output['objective']"
   ]
  },
  {
   "cell_type": "code",
   "execution_count": null,
   "metadata": {},
   "outputs": [],
   "source": [
    "111735572.95121007/(200000*365)"
   ]
  },
  {
   "cell_type": "code",
   "execution_count": null,
   "metadata": {},
   "outputs": [],
   "source": [
    "results_cost.output['global_warming_potential_material']"
   ]
  },
  {
   "cell_type": "code",
   "execution_count": null,
   "metadata": {},
   "outputs": [],
   "source": [
    "results_cost.output['global_warming_potential_location']"
   ]
  },
  {
   "cell_type": "code",
   "execution_count": null,
   "metadata": {},
   "outputs": [],
   "source": [
    "940464990.9071429/(200000*365)"
   ]
  },
  {
   "cell_type": "code",
   "execution_count": null,
   "metadata": {},
   "outputs": [],
   "source": [
    "results_cost.output['X_P']"
   ]
  },
  {
   "cell_type": "code",
   "execution_count": null,
   "metadata": {},
   "outputs": [],
   "source": [
    "results_cost.output['Cap_P']"
   ]
  },
  {
   "cell_type": "code",
   "execution_count": null,
   "metadata": {},
   "outputs": [],
   "source": [
    "# gwp = {i: i.gwp for  i in WF.material_cons}\n",
    "# mat = WF.material_cons"
   ]
  },
  {
   "cell_type": "code",
   "execution_count": null,
   "metadata": {},
   "outputs": [],
   "source": [
    "# mul = {i: gwp[i]*mat[i] for i in gwp}"
   ]
  },
  {
   "cell_type": "code",
   "execution_count": null,
   "metadata": {},
   "outputs": [],
   "source": [
    "# sum(list(mul.values()))*300/25 "
   ]
  },
  {
   "cell_type": "code",
   "execution_count": null,
   "metadata": {},
   "outputs": [],
   "source": [
    "results_cost.output['global_warming_potential_location']"
   ]
  },
  {
   "cell_type": "code",
   "execution_count": null,
   "metadata": {},
   "outputs": [],
   "source": [
    "results_cost.output['global_warming_potential_material']"
   ]
  },
  {
   "cell_type": "code",
   "execution_count": null,
   "metadata": {},
   "outputs": [],
   "source": [
    "# results_cost.output['Capex_process']"
   ]
  },
  {
   "cell_type": "code",
   "execution_count": null,
   "metadata": {},
   "outputs": [],
   "source": [
    "# plot_results.schedule(results = results_cost, y_axis= 'S', component = 'Pure Hydrogen', location='HO')"
   ]
  },
  {
   "cell_type": "code",
   "execution_count": null,
   "metadata": {},
   "outputs": [],
   "source": [
    "# plot_results.schedule(results = results_cost, y_axis= 'P', component = 'Grid', location='HO')"
   ]
  },
  {
   "cell_type": "code",
   "execution_count": null,
   "metadata": {},
   "outputs": [],
   "source": [
    "from energiapy.model.constraints.emission import constraint_global_warming_potential_network_reduction"
   ]
  },
  {
   "cell_type": "code",
   "execution_count": null,
   "metadata": {},
   "outputs": [],
   "source": [
    "from pyomo.environ import Var, Binary\n",
    "\n",
    "\n",
    "\n",
    "    # milp_cost.cons2.add(expr = milp_cost.P['HO', 'SMR', *i] - milp_cost.P['HO', 'SMR', *scales.scale_iter(2)[scales.scale_iter(2).index(i) - 1]] <= 0.05*milp_cost.Cap_P['HO','SMR', i[0]])\n",
    "\n",
    "# #ramping_limitz = 2000\n",
    "\n",
    "\n",
    "# milp_cost.cons6 = ConstraintList()\n",
    "# for i in scales.scale_iter(2):\n",
    "#     if i != (0,0,0):\n",
    "#         milp_cost.cons6.add(expr = milp_cost.P['HO', 'ATR_CCS_OC', *i] - milp_cost.P['HO', 'ATR_CCS_OC', *scales.scale_iter(2)[scales.scale_iter(2).index(i) - 1]] <= 0.1*milp_cost.Cap_P['HO','ATR_CCS_OC', i[0]])\n",
    "\n",
    "# milp_cost.cons7 = ConstraintList()\n",
    "# for i in scales.scale_iter(2):\n",
    "#     if i != (0,0,0):\n",
    "#         milp_cost.cons7.add(expr = milp_cost.P['HO', 'ATR_CCS_OC', *i] - milp_cost.P['HO', 'ATR_CCS_OC', *scales.scale_iter(2)[scales.scale_iter(2).index(i) - 1]] >= -0.1*milp_cost.Cap_P['HO','ATR_CCS_OC', i[0]])        \n",
    "\n",
    "\n",
    "# Minimum production rate\n",
    "# milp_cost.cons1 = ConstraintList()\n",
    "# for i in scales.scale_iter(1):\n",
    "#  milp_cost.cons1.add(expr = milp_cost.P['HO', 'SMR', *i] >= 1000)\n",
    "\n",
    "# Add binary variables for on/off control\n",
    "# milp_cost.on_smr = Var(scales.scale_iter(2), domain=Binary)  # Binary variable for SMR system\n",
    "# milp_cost.on_atr_ccs_r = Var(scales.scale_iter(2), domain=Binary)  # Binary variable for ATR_CCS_R system\n",
    "# milp_cost.on_atr_ccs_oc = Var(scales.scale_iter(2), domain=Binary)  # Binary variable for ATR_CCS_OC system\n",
    "# milp_cost.on_atr_ccs_r_oc = Var(scales.scale_iter(2), domain=Binary)  # Binary variable for ATR_CCS_R_OC system\n",
    "\n",
    "\n",
    "\n",
    "\n",
    "#if i != (0,0):\n",
    "\n",
    "# milp_cost.cons12 = ConstraintList()\n",
    "# for i in scales.scale_iter(2):\n",
    "#     #if i != (0,0):\n",
    "#     milp_cost.cons12.add(expr = milp_cost.P['HO', 'ATR_CCS_OC', *i] >= 0.2*milp_cost.Cap_P['HO','ATR_CCS_OC', i[0]]) #20% of max production rate\n",
    "\n",
    "#if i != (0,0):\n",
    "\n",
    "# For SMR\n",
    "\n",
    "#if i != (0, 0):\n",
    "# Force production to zero if the system is off (on_smr == 0)\n",
    "\n",
    "# For ATR_CCS_R\n",
    "\n",
    "\n",
    "#if i != (0, 0):\n",
    "# Force production to zero if the system is off (on_atr_ccs_r == 0)\n",
    "\n",
    "# # For ATR_CCS_OC\n",
    "# milp_cost.cons16 = ConstraintList()\n",
    "# for i in scales.scale_iter(2):\n",
    "#     #if i != (0, 0):\n",
    "#     # Force production to zero if the system is off (on_atr_ccs_oc == 0)\n",
    "#     milp_cost.cons16.add(expr = milp_cost.P['HO', 'ATR_CCS_OC', *i] <= milp_cost.Cap_P['HO','ATR_CCS_OC', i[0]])\n",
    "\n",
    "# For ATR_CCS_R_OC\n",
    "\n",
    "#if i != (0, 0):\n",
    "# Force production to zero if the system is off (on_atr_ccs_r_oc == 0)\n",
    "\n",
    "def modeler(gwp_pct: float):\n",
    "    gwp_eval = formulate(scenario=scenario, constraints={Constraints.COST, Constraints.INVENTORY, Constraints.PRODUCTION, Constraints.NETWORK,\n",
    "                        Constraints.RESOURCE_BALANCE, Constraints.DEMAND, Constraints.EMISSION, Constraints.MATERIAL}, objective=Objective.COST, demand_sign = 'geq')\n",
    "    gwp_eval.cons2 = ConstraintList()\n",
    "    gwp_eval.cons3 = ConstraintList()\n",
    "    gwp_eval.cons4 = ConstraintList()\n",
    "    gwp_eval.cons5 = ConstraintList()\n",
    "    gwp_eval.cons8 = ConstraintList()\n",
    "    gwp_eval.cons9 = ConstraintList()\n",
    "    gwp_eval.cons10 = ConstraintList()\n",
    "    gwp_eval.cons11 = ConstraintList()\n",
    "    gwp_eval.cons13 = ConstraintList()\n",
    "    gwp_eval.cons14 = ConstraintList()\n",
    "    gwp_eval.cons15 = ConstraintList()\n",
    "    gwp_eval.cons17 = ConstraintList()\n",
    "\n",
    "    for i in scales.scale_iter(2):\n",
    "        gwp_eval.cons10.add(expr = gwp_eval.P['HO', 'SMR', *i] >= 0.3*gwp_eval.Cap_P['HO','SMR', i[0]]) #30% of max production rate 6000 * milp_cost.on_smr[i]\n",
    "        gwp_eval.cons11.add(expr = gwp_eval.P['HO', 'ATR_CCS_R', *i] >= 0.2*gwp_eval.Cap_P['HO','ATR_CCS_R', i[0]]) #20% of max production rate\n",
    "        gwp_eval.cons13.add(expr = gwp_eval.P['HO', 'ATR_CCS_R_OC', *i] >= 0.2*gwp_eval.Cap_P['HO','ATR_CCS_R_OC', i[0]]) #20% of max production rate\n",
    "        gwp_eval.cons14.add(expr = gwp_eval.P['HO', 'SMR', *i] <=gwp_eval.Cap_P['HO','SMR', i[0]])\n",
    "        gwp_eval.cons15.add(expr = gwp_eval.P['HO', 'ATR_CCS_R', *i] <= gwp_eval.Cap_P['HO','ATR_CCS_R', i[0]])\n",
    "        gwp_eval.cons17.add(expr = gwp_eval.P['HO', 'ATR_CCS_R_OC', *i] <= gwp_eval.Cap_P['HO','ATR_CCS_R_OC', i[0]])\n",
    "        if i != (0,0,0):\n",
    "            gwp_eval.cons2.add(expr = gwp_eval.P['HO', 'SMR', *i] - gwp_eval.P['HO', 'SMR', *scales.scale_iter(2)[scales.scale_iter(2).index(i) - 1]] <= 0.05*gwp_eval.Cap_P['HO','SMR', i[0]])\n",
    "            gwp_eval.cons3.add(expr = gwp_eval.P['HO', 'SMR', *i] - gwp_eval.P['HO', 'SMR', *scales.scale_iter(2)[scales.scale_iter(2).index(i) - 1]] >= -0.05*gwp_eval.Cap_P['HO','SMR', i[0]])\n",
    "            gwp_eval.cons4.add(expr = gwp_eval.P['HO', 'ATR_CCS_R', *i] - gwp_eval.P['HO', 'ATR_CCS_R', *scales.scale_iter(2)[scales.scale_iter(2).index(i) - 1]] <= 0.1*gwp_eval.Cap_P['HO','ATR_CCS_R', i[0]])\n",
    "            gwp_eval.cons5.add(expr = gwp_eval.P['HO', 'ATR_CCS_R', *i] - gwp_eval.P['HO', 'ATR_CCS_R', *scales.scale_iter(2)[scales.scale_iter(2).index(i) - 1]] >= -0.1*gwp_eval.Cap_P['HO','ATR_CCS_R', i[0]])\n",
    "            gwp_eval.cons8.add(expr = gwp_eval.P['HO', 'ATR_CCS_R_OC', *i] - gwp_eval.P['HO', 'ATR_CCS_R_OC', *scales.scale_iter(2)[scales.scale_iter(2).index(i) - 1]] <= 0.1*gwp_eval.Cap_P['HO','ATR_CCS_R_OC', i[0]])\n",
    "            gwp_eval.cons9.add(expr = gwp_eval.P['HO', 'ATR_CCS_R_OC', *i] - gwp_eval.P['HO', 'ATR_CCS_R_OC', *scales.scale_iter(2)[scales.scale_iter(2).index(i) - 1]] >= -0.1*gwp_eval.Cap_P['HO','ATR_CCS_R_OC', i[0]])\n",
    "\n",
    "\n",
    "    constraint_global_warming_potential_network_reduction(instance= gwp_eval, network_scale_level = 0, gwp_reduction_pct = gwp_pct, gwp = results_cost.output['global_warming_potential_network'][0])\n",
    "    \n",
    "    return gwp_eval"
   ]
  },
  {
   "cell_type": "code",
   "execution_count": null,
   "metadata": {},
   "outputs": [],
   "source": [
    "models = [modeler((i+1)*10) for i in range(10)]"
   ]
  },
  {
   "cell_type": "code",
   "execution_count": null,
   "metadata": {},
   "outputs": [],
   "source": [
    "# def solver(instance, i): \n",
    "#     return solve(scenario=scenario, instance=instance,\n",
    "#                      solver='gurobi', name=f\"res_red/res_red_{i}\", print_solversteps=True, saveformat = '.pkl')"
   ]
  },
  {
   "cell_type": "code",
   "execution_count": null,
   "metadata": {},
   "outputs": [],
   "source": [
    "import os\n",
    "\n",
    "# Create the 'res_red' directory if it doesn't exist\n",
    "os.makedirs('res_red', exist_ok=True)\n",
    "\n",
    "def solver(instance, i): \n",
    "    return solve(\n",
    "        scenario=scenario, \n",
    "        instance=instance,\n",
    "        solver='gurobi', \n",
    "        name=f\"res_red/res_red_{i}\", \n",
    "        print_solversteps=True, \n",
    "        saveformat='.pkl'\n",
    "    )\n",
    "\n",
    "# Assuming 'models' is a list of instances to be solved\n",
    "results = {i: solver(m, i) for i, m in enumerate(models)}\n"
   ]
  },
  {
   "cell_type": "code",
   "execution_count": null,
   "metadata": {},
   "outputs": [],
   "source": [
    "# results = {i: solver(m,i) for i,m in enumerate(models)}"
   ]
  },
  {
   "cell_type": "code",
   "execution_count": null,
   "metadata": {},
   "outputs": [],
   "source": [
    "for i in range(len(models)):\n",
    "    print(results[i].output['termination'])"
   ]
  },
  {
   "cell_type": "code",
   "execution_count": null,
   "metadata": {},
   "outputs": [],
   "source": [
    "cost = [None for i in range(len(results))]\n",
    "gwp_study = [None for i in range(len(results))]\n",
    "gwpm_study = [None for i in range(len(results))]\n",
    "prod_study = [None for i in range(len(results))]\n",
    "\n",
    "\n",
    "for gwp_red, result in results.items():\n",
    "\n",
    "    if result.output['termination'] == 'optimal':\n",
    "        cost[gwp_red] = result.output['objective']\n",
    "        gwp_study[gwp_red] = result.output['global_warming_potential_location']['HO', 0]\n",
    "        gwpm_study[gwp_red] = result.output['global_warming_potential_material']\n",
    "        prod_study[gwp_red] = result.output['P']\n",
    "\n",
    "#print(type(gwp_study[0]))\n",
    "\n",
    "plt.plot(cost, gwp_study, color='blue', linestyle='--', alpha=0.5)\n",
    "\n",
    "plt.xlabel('Total Cost of Hydrogen Production [USD]')\n",
    "plt.ylabel('Carbon Intensity [kg CO$_2$ eq.]')\n",
    "plt.ticklabel_format(style='sci', axis='x', scilimits=(0, 0))  # For x-axis\n",
    "plt.ticklabel_format(style='sci', axis='y', scilimits=(0, 0))  # For y-axis\n",
    "plt.grid(color='gray', linestyle='--', linewidth=0.5, alpha = 0.5)\n",
    "# gwp_study[0]"
   ]
  },
  {
   "cell_type": "code",
   "execution_count": null,
   "metadata": {},
   "outputs": [],
   "source": [
    "196095904.32489505/(200000*365)"
   ]
  },
  {
   "cell_type": "code",
   "execution_count": null,
   "metadata": {},
   "outputs": [],
   "source": [
    "304555211.5247123/(200000*365)"
   ]
  },
  {
   "cell_type": "code",
   "execution_count": null,
   "metadata": {},
   "outputs": [],
   "source": [
    "import matplotlib.pyplot as plt\n",
    "import matplotlib.dates as mdates\n",
    "from datetime import datetime, timedelta\n",
    "\n",
    "# Generate time labels\n",
    "time_labels = [datetime(2024, 1, 1) + timedelta(days=j, hours=i) for j in range(174,175) for i in range(24)]\n",
    "\n",
    "# Plotting the data\n",
    "plt.plot(time_labels, [prod_study[7]['HO', 'SMRCCS', 0, day, hour] for day in range(174,175) for hour in range(24)], color='blue', label=\"SMRCCS\")\n",
    "plt.plot(time_labels, [prod_study[7]['HO', 'PEM', 0, day, hour] for day in range(174,175) for hour in range(24)], color='green', linestyle='--', label=\"PEM\")\n",
    "plt.plot(time_labels, [prod_study[7]['HO', 'AWE', 0, day, hour] for day in range(174,175) for hour in range(24)], color='purple', linestyle=':', label=\"AWE\")\n",
    "\n",
    "\n",
    "# Labeling axes\n",
    "plt.xlabel('Time')\n",
    "plt.ylabel('Hourly Hydrogen Production [kg]')\n",
    "\n",
    "# Format the y-axis in scientific notation\n",
    "plt.ticklabel_format(style='sci', axis='y')  \n",
    "\n",
    "# Set limits for y and x axes\n",
    "plt.ylim(bottom=0)\n",
    "plt.xlim([time_labels[0], time_labels[-1]])\n",
    "\n",
    "# Set custom time labels for the x-axis\n",
    "plt.gca().xaxis.set_major_formatter(mdates.DateFormatter('%H:%M'))  # Hour:Minute format %D:%H:%M\n",
    "plt.xticks(time_labels[::3])  # Show every second hour for better spacing\n",
    "\n",
    "# Set custom time labels for the x-axis\n",
    "# plt.gca().xaxis.set_major_locator(mdates.MonthLocator())  # Show one tick per month\n",
    "# plt.gca().xaxis.set_major_formatter(mdates.DateFormatter('%b'))  # Format as 'Jan 2024', 'Feb 2024', etc.  %Y\n",
    "\n",
    "\n",
    "# Add grid\n",
    "plt.grid(color='gray', linestyle='--', linewidth=0.5, alpha=0.5)\n",
    "\n",
    "# Display legend\n",
    "plt.legend()\n",
    "\n",
    "# Show the plot\n",
    "plt.show()"
   ]
  },
  {
   "cell_type": "code",
   "execution_count": null,
   "metadata": {},
   "outputs": [],
   "source": []
  },
  {
   "cell_type": "code",
   "execution_count": null,
   "metadata": {},
   "outputs": [],
   "source": [
    "200000*365\n"
   ]
  },
  {
   "cell_type": "markdown",
   "metadata": {},
   "source": [
    "10% Reduction scenario"
   ]
  },
  {
   "cell_type": "code",
   "execution_count": null,
   "metadata": {},
   "outputs": [],
   "source": [
    "import pickle\n",
    "data = [pickle.load(open(f'res_red/res_red_{i}.pkl','rb')) for i in range(9)]"
   ]
  },
  {
   "cell_type": "code",
   "execution_count": null,
   "metadata": {},
   "outputs": [],
   "source": [
    "gwp = [data[i]['output']['global_warming_potential_network'] for i in range(8)]\n",
    "cost = [data[i]['output']['objective'] for i in range(8)]"
   ]
  },
  {
   "cell_type": "code",
   "execution_count": null,
   "metadata": {},
   "outputs": [],
   "source": [
    "test = pickle.load(open(f'res_red/res_red_6.pkl','rb'))"
   ]
  },
  {
   "cell_type": "code",
   "execution_count": null,
   "metadata": {},
   "outputs": [],
   "source": [
    "test['output']['global_warming_potential_material']"
   ]
  },
  {
   "cell_type": "code",
   "execution_count": null,
   "metadata": {},
   "outputs": [],
   "source": [
    "test['output']['objective']"
   ]
  },
  {
   "cell_type": "code",
   "execution_count": null,
   "metadata": {},
   "outputs": [],
   "source": [
    "test['output']['global_warming_potential_material']"
   ]
  },
  {
   "cell_type": "code",
   "execution_count": null,
   "metadata": {},
   "outputs": [],
   "source": [
    "2994.1382395718174+1632.9517222916115+156.7113953925191+4082880.111588101 + 244288572.0237259 #Scope 3 Emissions"
   ]
  },
  {
   "cell_type": "code",
   "execution_count": null,
   "metadata": {},
   "outputs": [],
   "source": [
    "248376235.93667126+70094.88867814424+33693166.4467999"
   ]
  },
  {
   "cell_type": "code",
   "execution_count": null,
   "metadata": {},
   "outputs": [],
   "source": [
    "a = {i:j for i,j in test['output']['global_warming_potential_resource_consumption'].items() if i[1] == 'GridPower'}"
   ]
  },
  {
   "cell_type": "code",
   "execution_count": null,
   "metadata": {},
   "outputs": [],
   "source": [
    "b = {i:j for i,j in test['output']['global_warming_potential_resource_discharge'].items() if i[1] == 'CO2 to Stack' }"
   ]
  },
  {
   "cell_type": "code",
   "execution_count": null,
   "metadata": {},
   "outputs": [],
   "source": [
    "c = {i:j for i,j in test['output']['global_warming_potential_resource_discharge'].items() if i[1] == 'CO2 Vented from the process' }"
   ]
  },
  {
   "cell_type": "code",
   "execution_count": null,
   "metadata": {},
   "outputs": [],
   "source": [
    "ng = {i:j for i,j in test['output']['global_warming_potential_resource_consumption'].items() if i[1] == 'Natural Gas'}"
   ]
  },
  {
   "cell_type": "code",
   "execution_count": null,
   "metadata": {},
   "outputs": [],
   "source": [
    "4125580.7165999995+1704.0333747974853+136.77303096392424+4082880.111588101+247998694.47225738"
   ]
  },
  {
   "cell_type": "code",
   "execution_count": null,
   "metadata": {},
   "outputs": [],
   "source": [
    "90267378.53178616 + 29691559.235019855"
   ]
  },
  {
   "cell_type": "code",
   "execution_count": null,
   "metadata": {},
   "outputs": [],
   "source": [
    "sum(list(a.values()))"
   ]
  },
  {
   "cell_type": "code",
   "execution_count": null,
   "metadata": {},
   "outputs": [],
   "source": [
    "sum(list(b.values()))"
   ]
  },
  {
   "cell_type": "code",
   "execution_count": null,
   "metadata": {},
   "outputs": [],
   "source": [
    "sum(list(ng.values()))"
   ]
  },
  {
   "cell_type": "code",
   "execution_count": null,
   "metadata": {},
   "outputs": [],
   "source": [
    "sum(list(c.values()))"
   ]
  },
  {
   "cell_type": "markdown",
   "metadata": {},
   "source": [
    "60% Reduction scenario"
   ]
  },
  {
   "cell_type": "code",
   "execution_count": null,
   "metadata": {},
   "outputs": [],
   "source": [
    "18062.49+90267378.53178616+247998694.47225738+29691559.235019855+4125580.7165999995+1704.0333747974853+136.77303096392424+4082880.111588101"
   ]
  },
  {
   "cell_type": "markdown",
   "metadata": {},
   "source": [
    "70% Reduction Scenario"
   ]
  },
  {
   "cell_type": "code",
   "execution_count": null,
   "metadata": {},
   "outputs": [],
   "source": []
  },
  {
   "cell_type": "code",
   "execution_count": null,
   "metadata": {},
   "outputs": [],
   "source": [
    "29691559.235019855+247998694.47225738+90267378.5317861+18062.4891893805+4125580.7165999995+4082880.111588101+1704.0333747974853+136.77303096392424"
   ]
  },
  {
   "cell_type": "code",
   "execution_count": null,
   "metadata": {},
   "outputs": [],
   "source": [
    "test['output']['Cap_P']"
   ]
  },
  {
   "cell_type": "code",
   "execution_count": null,
   "metadata": {},
   "outputs": [],
   "source": [
    "# plt.plot(list(b.values()))"
   ]
  },
  {
   "cell_type": "code",
   "execution_count": null,
   "metadata": {},
   "outputs": [],
   "source": [
    "# plt.plot(list(a.values()))"
   ]
  },
  {
   "cell_type": "code",
   "execution_count": null,
   "metadata": {},
   "outputs": [],
   "source": []
  },
  {
   "cell_type": "code",
   "execution_count": null,
   "metadata": {},
   "outputs": [],
   "source": [
    "#Material emissions Scope 3\n",
    "18062.49+8210301.63+247998694.4+90267378.53+29671559.235\n"
   ]
  },
  {
   "cell_type": "code",
   "execution_count": null,
   "metadata": {},
   "outputs": [],
   "source": [
    "test['output']['global_warming_potential_location']"
   ]
  },
  {
   "cell_type": "code",
   "execution_count": null,
   "metadata": {},
   "outputs": [],
   "source": [
    "test['output']['Cap_P']"
   ]
  },
  {
   "cell_type": "code",
   "execution_count": null,
   "metadata": {},
   "outputs": [],
   "source": [
    "test['output']['objective']"
   ]
  },
  {
   "cell_type": "code",
   "execution_count": null,
   "metadata": {},
   "outputs": [],
   "source": [
    "cost"
   ]
  },
  {
   "cell_type": "code",
   "execution_count": null,
   "metadata": {},
   "outputs": [],
   "source": [
    "gwp"
   ]
  },
  {
   "cell_type": "code",
   "execution_count": null,
   "metadata": {},
   "outputs": [],
   "source": [
    "# plt.plot(gwp, cost, color='blue', linestyle='--', alpha=0.5)\n",
    "\n",
    "# plt.xlabel('Total Cost of Hydrogen Production [USD]')\n",
    "# plt.ylabel('Carbon Intensity [kg CO$_2$ eq.]')\n",
    "# plt.ticklabel_format(style='sci', axis='x', scilimits=(0, 0))  # For x-axis\n",
    "# plt.ticklabel_format(style='sci', axis='y', scilimits=(0, 0))  # For y-axis\n",
    "# plt.grid(color='gray', linestyle='--', linewidth=0.5, alpha = 0.5)"
   ]
  },
  {
   "cell_type": "code",
   "execution_count": null,
   "metadata": {},
   "outputs": [],
   "source": [
    "cost = [None for i in range(len(results))]\n",
    "gwp_study = [None for i in range(len(results))]\n",
    "prod_study = [None for i in range(len(results))]\n",
    "\n",
    "\n",
    "for gwp_red, result in results.items():\n",
    "\n",
    "    if result.output['termination'] == 'optimal':\n",
    "        cost[gwp_red] = result.output['objective']\n",
    "        gwp_study[gwp_red] = result.output['global_warming_potential_location']['HO', 0]\n",
    "        prod_study[gwp_red] = result.output['P']\n",
    "\n",
    "print(type(gwp_study[0]))\n",
    "\n",
    "plt.plot(gwp_study, cost, color='blue', linestyle='--', alpha=0.5)\n",
    "\n",
    "plt.xlabel('Total Cost of Hydrogen Production [USD]')\n",
    "plt.ylabel('Carbon Intensity [kg CO$_2$ eq.]')\n",
    "plt.ticklabel_format(style='sci', axis='x', scilimits=(0, 0))  # For x-axis\n",
    "plt.ticklabel_format(style='sci', axis='y', scilimits=(0, 0))  # For y-axis\n",
    "plt.grid(color='gray', linestyle='--', linewidth=0.5, alpha = 0.5)\n",
    "# gwp_study[0]"
   ]
  },
  {
   "cell_type": "markdown",
   "metadata": {},
   "source": [
    "Additional call out for results gathering"
   ]
  },
  {
   "cell_type": "code",
   "execution_count": null,
   "metadata": {},
   "outputs": [],
   "source": [
    "results_cost.output['X_P']"
   ]
  },
  {
   "cell_type": "code",
   "execution_count": null,
   "metadata": {},
   "outputs": [],
   "source": [
    "results_cost.output['P_location'][('HO', 'AWE', 0)]/results_cost.output['P_location'][('HO', 'PEM', 0)] "
   ]
  },
  {
   "cell_type": "code",
   "execution_count": null,
   "metadata": {},
   "outputs": [],
   "source": [
    "results_cost.output['Capex_process'][('HO', 'AWE', 0)]/results_cost.output['Capex_process'][('HO', 'PEM', 0)] "
   ]
  },
  {
   "cell_type": "code",
   "execution_count": null,
   "metadata": {},
   "outputs": [],
   "source": [
    "results_cost.output['Capex_process'][('HO', 'AWE', 0)]/results_cost.output['P_location'][('HO', 'AWE', 0)]"
   ]
  },
  {
   "cell_type": "code",
   "execution_count": null,
   "metadata": {},
   "outputs": [],
   "source": [
    "results_cost.output['Capex_process'][('HO', 'PEM', 0)]/results_cost.output['P_location'][('HO', 'PEM', 0)]"
   ]
  },
  {
   "cell_type": "code",
   "execution_count": null,
   "metadata": {},
   "outputs": [],
   "source": [
    "results_cost.output['global_warming_potential_location']"
   ]
  },
  {
   "cell_type": "code",
   "execution_count": null,
   "metadata": {},
   "outputs": [],
   "source": [
    "prod_study = results_cost.output['P']"
   ]
  },
  {
   "cell_type": "code",
   "execution_count": null,
   "metadata": {},
   "outputs": [],
   "source": [
    "prod_study['HO','Grid',0,0,8]"
   ]
  },
  {
   "cell_type": "code",
   "execution_count": null,
   "metadata": {},
   "outputs": [],
   "source": [
    "# results_cost.output['P']"
   ]
  },
  {
   "cell_type": "code",
   "execution_count": null,
   "metadata": {},
   "outputs": [],
   "source": [
    "results_cost.output['Cap_P']"
   ]
  }
 ],
 "metadata": {
  "kernelspec": {
   "display_name": "Python 3.10.5 ('ki': venv)",
   "language": "python",
   "name": "python3"
  },
  "language_info": {
   "codemirror_mode": {
    "name": "ipython",
    "version": 3
   },
   "file_extension": ".py",
   "mimetype": "text/x-python",
   "name": "python",
   "nbconvert_exporter": "python",
   "pygments_lexer": "ipython3",
   "version": "3.11.9"
  },
  "orig_nbformat": 4,
  "vscode": {
   "interpreter": {
    "hash": "a4a97498e3c1bfef05f70a75d4fcafcb7b5c9c4ed86429a4e7bee46eaa890f24"
   }
  }
 },
 "nbformat": 4,
 "nbformat_minor": 2
}
