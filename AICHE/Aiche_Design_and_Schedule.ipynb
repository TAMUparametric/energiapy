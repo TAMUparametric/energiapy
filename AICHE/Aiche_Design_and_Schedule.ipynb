{
 "cells": [
  {
   "attachments": {},
   "cell_type": "markdown",
   "metadata": {},
   "source": [
    "# Real-time carbon accounting and material transition for hydrogen systems"
   ]
  },
  {
   "attachments": {},
   "cell_type": "markdown",
   "metadata": {},
   "source": [
    "__author__ = \"Marco De Sousa\"\n",
    "__copyright__ = \"Copyright 2023, Multi-parametric Optimization & Control Lab\"\n",
    "__credits__ = [\"Marco De Sousa\", \"Rahul Kakodkar\", \"Efstratios N. Pistikopoulos\"]\n",
    "__license__ = \"MIT\"\n",
    "__version__ = \"1.1.0\"\n",
    "__maintainer__ = \"Marco De Sousa\"\n",
    "__email__ = \"marcopdsousa@tamu.edu\"\n",
    "__status__ = \"Production\"\n"
   ]
  },
  {
   "attachments": {},
   "cell_type": "markdown",
   "metadata": {},
   "source": [
    "## Problem Statement"
   ]
  },
  {
   "attachments": {},
   "cell_type": "markdown",
   "metadata": {},
   "source": [
    "The following case study considers three different type of solar photovoltaics, namely Monocrystalline (PV_Mo), Polycrystalline (PV_Po), and Cadmium Telluride (PV_Cd) and  Lithium-ion batteries made of either rock-based lithium (LiI_Ro) or brine-based lithium (LiI_Br).\n",
    "\n",
    "The goal is to meet a fixed demand of hydrogen on a daily scale while optimizing the production process by using forecasting techniques.\n",
    "\n",
    "It is important to note that three different hydrogen pathways can be utilized each with their respective emissions.\n",
    "\n",
    "Hypothesis: By using real-time carbon accounting, decisions and changes can be made in a more dynamic nature.\n",
    "\n",
    "Users are advised caution in terms of assigning the emissions at the appropriate levels and avoiding double account. For example, if providing the global warming potentials (GWP) for each individual material to make up a process, the GWP for processes should only consider the values for construction. Moreover, the direct emissions are considered through the resource balance constraint."
   ]
  },
  {
   "attachments": {},
   "cell_type": "markdown",
   "metadata": {},
   "source": [
    "## Nomenclature"
   ]
  },
  {
   "attachments": {},
   "cell_type": "markdown",
   "metadata": {},
   "source": [
    "\n",
    "\n",
    "*Sets*\n",
    "\n",
    "\n",
    "$\\mathcal{R}$ - set of all resources r\n",
    "\n",
    "$\\mathcal{P}$ - set of all processes p\n",
    "\n",
    "$\\mathcal{T}$ - set of temporal periods t\n",
    "\n",
    "$\\mathcal{B}$ - set of transport modes b\n",
    "\n",
    "$\\mathcal{L}$ - set of locations l\n",
    "\n",
    "$\\mathcal{M}$ - set of materials m\n",
    "\n",
    "*Subsets*\n",
    "\n",
    "\n",
    "$\\mathcal{R}^{storage}$ - set of resources that can be stored\n",
    "\n",
    "$\\mathcal{R}^{sell}$ - set of resources that can be discharged\n",
    "\n",
    "$\\mathcal{R}^{demand}$ - set of resources that meet  demand\n",
    "\n",
    "$\\mathcal{R}^{cons}$ - set of resources that can be consumed\n",
    "\n",
    "$\\mathcal{R}^{trans}$ - set of resources that can be transported\n",
    "\n",
    "$\\mathcal{P}^{uncertain}$ - set of processes with uncertain capacity\n",
    "\n",
    "$\\mathcal{T}^{net}$ - set of temporal periods t for network level decision making\n",
    "\n",
    "$\\mathcal{T}^{sch}$ - set of temporal periods t for schedule level decision making\n",
    "\n",
    "*Continuous Variables*\n",
    "\n",
    "\n",
    "$P_{l,p,t}$ - production level of p $\\in$  $\\mathcal{P}$ in time period t $\\in$ $\\mathcal{T}^{sch}$  \n",
    "\n",
    "$C_{l,r,t}$ - consumption of r $\\in$ in $\\mathcal{R}^{cons}$ time period t $\\in$ $\\mathcal{T}^{sch}$ \n",
    "\n",
    "$S_{l,r,t}$ - discharge of r $\\in$ in $\\mathcal{R}^{demand}$ time period t $\\in$ $\\mathcal{T}^{sch}$ \n",
    "\n",
    "$Inv_{l,r,t}$ - inventory level of r $\\in$ $\\mathcal{R}^{storage}$  in time period t $\\in$ $\\mathcal{T}^{sch}$\n",
    "\n",
    "$Cap^S_{l,r,t}$ - installed inventory capacity for resource r $\\in$  $\\mathcal{R}^{storage}$ in time period t $\\in$ $\\mathcal{T}^{net}$\n",
    "\n",
    "$Cap^P_{l,p,t}$ - installed production capacity for process p $\\in$ $\\mathcal{P}$ in time period t $\\in$ $\\mathcal{T}^{net}$\n",
    "\n",
    "$Mat^P_{l,p,m,t}$ - material m $\\in$ $\\mathcal{M}$ used by process p $\\in$ $\\mathcal{P}$ in time period t $\\in$ $\\mathcal{T}^{net}$\n",
    "\n",
    "$Em^{p/r/m}_{l,p/r/m,t}$ - emission from process/resource/material in time t $\\in$ $\\mathcal{T}^{net}$\n",
    "\n",
    "\n",
    "*Binary Variables*\n",
    "\n",
    "$X^P_{l,p,t}$ - network binary for production process p $\\in$ $\\mathcal{P}$\n",
    "\n",
    "$X^S_{l,r,t}$ - network binary for inventory of resource r $\\in$  $\\mathcal{R}^{storage}$ \n",
    "\n",
    "*Parameters*\n",
    "\n",
    "$Cap^{P-max}_{l,p,t}$ - maximum production capacity of process p $\\in$ $\\mathcal{P}$ in time t $\\in$ $\\mathcal{T}^{net}$\n",
    "\n",
    "$Cap^{S-max}_{l,r,t}$ - maximum inventory capacity for process r $\\in$ $\\mathcal{R}^{storage}$ in time t $\\in$ $\\mathcal{T}^{net}$\n",
    "\n",
    "$Capex_{l,p,t}$ - capital expenditure for process p $\\in$ $\\mathcal{P}$ in time t $\\in$ $\\mathcal{T}^{net}$\n",
    "\n",
    "$Vopex_{l,p,t}$ - variable operational expenditure for process p $\\in$ $\\mathcal{P}$ in time t $\\in$ $\\mathcal{T}^{sch}$\n",
    "\n",
    "$Price_{l,r,t}$ - purchase price for resource r $\\in$ $\\mathcal{R}^{cons}$ in time t $\\in$ $\\mathcal{T}^{sch}$\n",
    "\n",
    "$C^{max}_{l,r,t}$ - maximum consumption availability for resource r $\\in$ $\\mathcal{R}^{cons}$ in time t $\\in$ $\\mathcal{T}^{sch}$\n",
    "\n",
    "$D_{l,r,t}$ - demand for resource r $in$ $\\mathcal{R}^{sell}$ in time t $\\in$ $\\mathcal{T}^{sch}$\n",
    "\n",
    "$\\alpha$ - annualization factor\n",
    "\n",
    "$Mat^{cons}_{p,m}$ - material m $\\in$ $\\mathcal{M}$ consumed by process p $\\in$ $\\mathcal{P}$\n",
    "\n",
    "$GWP^{p/r/m}_{l,p/r/m,t}$ - global warming indicators for process/resource/material in time t $\\in$ $\\mathcal{T}^{net}$\n"
   ]
  },
  {
   "attachments": {},
   "cell_type": "markdown",
   "metadata": {},
   "source": [
    "## MILP Formulation"
   ]
  },
  {
   "attachments": {},
   "cell_type": "markdown",
   "metadata": {},
   "source": [
    "Given is a mulit-scale modeling and optimization MILP framework for the simultaneous design and schedule planning of a single location energy system \n",
    "\n",
    "\\begin{equation}\n",
    "min \\sum_{l \\in \\mathcal{L}} \\Big(\\sum_{t \\in \\mathcal{T}^{net}} \\sum_{p \\in \\mathcal{P}} (\\alpha \\times Capex_{l,p,t} + Fopex_{l,p,t}) \\times Cap^P_{l,p,t} +  \\sum_{t \\in \\mathcal{T}^{sch}} \\sum_{r \\in \\mathcal{R}}  Vopex_{l,r,t} \\times P_{l,r,t} \n",
    "\\end{equation}\n",
    "\n",
    "\\begin{equation*}\n",
    "+ \\sum_{t \\in \\mathcal{T}^{sch}} \\sum_{r \\in \\mathcal{R}^{cons}} C_{l,r,t} \\times Price_{l,r,t} \\Big)\n",
    "\\end{equation*}\n",
    "\n",
    "\\begin{equation}\n",
    "Cap^S_{l,r,t} \\leq Cap^{S-max}_{l,r,t} \\times X^S_{l,r,t} \\hspace{1cm} \\forall r \\in \\mathcal{R}^{storage}, t \\in \\mathcal{T}^{net}\n",
    "\\end{equation}\n",
    "\n",
    "\\begin{equation}\n",
    "Cap^P_{l,p,t} \\leq Cap^{P-max}_{l,p,t} \\times X^P_{l,p,t}  \\hspace{1cm} \\forall p \\in \\mathcal{P}, t \\in \\mathcal{T}^{net}, l \\in \\mathcal{L}\n",
    "\\end{equation} \n",
    "\n",
    "\\begin{equation}\n",
    "P_{l,p,t} \\leq Cap^{P}_{l,p,t}  \\hspace{1cm} \\forall p \\in \\mathcal{P}, t \\in \\mathcal{T}^{sch}\n",
    "\\end{equation} \n",
    "\n",
    "\\begin{equation}\n",
    "Inv_{l,r,t} \\leq Cap^{S}_{l,r,t}  \\hspace{1cm} \\forall r \\in \\mathcal{R}^{storage}, t \\in \\mathcal{T}^{sch}\n",
    "\\end{equation} \n",
    "\n",
    "\n",
    "\\begin{equation}\n",
    "- S_{l,r,t} \\leq - D_{l,r,t}  \\hspace{1cm} \\forall r \\in \\mathcal{R}, t \\in \\mathcal{T}^{sch}\n",
    "\\end{equation}\n",
    "\n",
    "\\begin{equation}\n",
    "C_{l,r,t} \\leq C^{max}_{l,r,t} \\hspace{1cm} \\forall r \\in \\mathcal{R}, t \\in \\mathcal{T}^{sch}\n",
    "\\end{equation}\n",
    "\n",
    "\\begin{equation}\n",
    "\\sum_{p \\in \\mathcal{P}} P_{l,p,t} \\times \\eta(p,r) + C_{l,r,t} +  Inv_{l,r,t-1}=  Inv_{l,r,t} + S_{l,r,t}  \n",
    "\\end{equation}\n",
    "\n",
    "\\begin{equation*}\n",
    "\\forall r \\in \\mathcal{R}^{cons}, t \\in \\mathcal{T}^{sch}, l \\in \\mathcal{L}\n",
    "\\end{equation*}\n",
    "\n",
    "\\begin{equation}\n",
    "Mat_{l,p,m,t} = Mat^{cons}_{p,m} \\times Cap^P_{l,p,t} \\hspace{1cm} \\forall m \\in \\mathcal{M}, p \\in \\mathcal{P}, t \\in \\mathcal{T}^{net}\n",
    "\\end{equation}\n",
    "\n",
    "\\begin{equation}\n",
    "Em^{r}_{l,r,t} = GWP^{r}_{l,r,t} \\times C_{l,r,t} \\hspace{1cm} \\forall r \\in \\mathcal{R}, t \\in \\mathcal{T}^{sch}\n",
    "\\end{equation}\n",
    "\n",
    "\\begin{equation}\n",
    "Em^{m}_{l,m,t} = GWP^{m}_{l,m,t} \\times \\sum_{p \\in \\mathcal{P}} Mat_{l,p,m,t} \\hspace{1cm} \\forall p \\in \\mathcal{P}, t \\in \\mathcal{T}^{net}\n",
    "\\end{equation}\n",
    "\n",
    "\\begin{equation}\n",
    "Em^{p}_{l,p,t} = GWP^{p}_{l,p,t} \\times Cap_{l,p,t} \\hspace{1cm} \\forall p \\in \\mathcal{P}, t \\in \\mathcal{T}^{net}\n",
    "\\end{equation}\n",
    "\n",
    "\\begin{equation}\n",
    "S_{l,r,t}, C_{l,r,t}, Inv_{l,r,t}, P_{l,p,t}, Cap^P_{l,p,t}, Cap^S_{l,r,t}, Mat_{l,p,m,t}, Em^{p/r/m}_{l,p/r/m,t} \\in R_{\\geq 0}\n",
    "\\end{equation}\n",
    "\n"
   ]
  },
  {
   "attachments": {},
   "cell_type": "markdown",
   "metadata": {},
   "source": [
    "## Import Modules"
   ]
  },
  {
   "cell_type": "code",
   "execution_count": 2,
   "metadata": {},
   "outputs": [],
   "source": [
    "import sys\n",
    "sys.path.append('../src')"
   ]
  },
  {
   "cell_type": "code",
   "execution_count": 3,
   "metadata": {},
   "outputs": [],
   "source": [
    "import pandas as pd\n",
    "import numpy\n",
    "from energiapy.components.temporal_scale import TemporalScale\n",
    "from energiapy.components.resource import Resource, VaryingResource, Scope\n",
    "from energiapy.components.process import Process, VaryingProcess\n",
    "from energiapy.components.material import Material\n",
    "from energiapy.components.location import Location\n",
    "from energiapy.components.network import Network\n",
    "from energiapy.components.scenario import Scenario\n",
    "from energiapy.components.transport import Transport\n",
    "from energiapy.model.formulate import formulate, Constraints, Objective\n",
    "from energiapy.utils.nsrdb_utils import fetch_nsrdb_data\n",
    "from energiapy.plot import plot_results, plot_scenario\n",
    "from energiapy.plot.plot_results import CostY, CostX\n",
    "from energiapy.model.solve import solve\n",
    "from itertools import product\n",
    "from energiapy.components.result import Result\n",
    "from itertools import product\n",
    "from matplotlib import rc\n",
    "import matplotlib.pyplot as plt\n",
    "from energiapy.model.solve import solve\n",
    "from energiapy.plot.plot_results import CostY, CostX\n",
    "from energiapy.components.location import Location\n",
    "from energiapy.plot import plot_results, plot_scenario\n",
    "from energiapy.utils.nsrdb_utils import fetch_nsrdb_data\n",
    "from energiapy.model.formulate import formulate, Constraints, Objective\n",
    "from energiapy.model.bounds import CapacityBounds\n",
    "from energiapy.utils.data_utils import get_data, make_henry_price_df, remove_outliers, load_results\n",
    "from energiapy.conversion.photovoltaic import solar_power_output\n",
    "from energiapy.conversion.windmill import wind_power_output\n",
    "from energiapy.model.constraints.integer_cuts import constraint_block_integer_cut, constraint_block_integer_cut_min\n",
    "from scipy import stats"
   ]
  },
  {
   "attachments": {},
   "cell_type": "markdown",
   "metadata": {},
   "source": [
    "## Data Import"
   ]
  },
  {
   "cell_type": "code",
   "execution_count": 4,
   "metadata": {},
   "outputs": [],
   "source": [
    "horizon = 3"
   ]
  },
  {
   "attachments": {},
   "cell_type": "markdown",
   "metadata": {},
   "source": [
    "The following data is needed for the model\n",
    "\n",
    "- Daily demands of hydrogen.\n",
    "- The capacity factor of renewable energy sources and traditional grid power.\n"
   ]
  },
  {
   "attachments": {},
   "cell_type": "markdown",
   "metadata": {},
   "source": [
    "**Declare temporal scale**\n",
    "\n",
    "The variabilities of energy systems are best captured over a discretized spatio-temporal scale. In energiapy, the first declaration is the temporal scale. \n",
    "\n",
    "For e.g.: Here we declare three temporal scales at different levels from right to left. The interpretation of these scales is merely symentic. Scales can be declared as the problem demands.\n",
    "- 0, annual, with 1 discretization\n",
    "- 1, daily with 365 discretization\n",
    "- 2, hourly with 24 discretization\n",
    "\n",
    "In essence, we are creating a temporal scale of 8760 points.\n",
    "\n"
   ]
  },
  {
   "cell_type": "code",
   "execution_count": 5,
   "metadata": {},
   "outputs": [],
   "source": [
    "scales = TemporalScale(discretization_list=[3, 365, 24])"
   ]
  },
  {
   "attachments": {},
   "cell_type": "markdown",
   "metadata": {},
   "source": [
    "## Declare resources"
   ]
  },
  {
   "attachments": {},
   "cell_type": "markdown",
   "metadata": {},
   "source": [
    "Resources can be consumed, produced, stored, discharged (or sold).\n",
    "\n",
    "Power demand follows a varying deterministic demand"
   ]
  },
  {
   "cell_type": "code",
   "execution_count": 6,
   "metadata": {},
   "outputs": [],
   "source": [
    "bigM = 10**6\n",
    "smallM = 0.001"
   ]
  },
  {
   "cell_type": "markdown",
   "metadata": {},
   "source": [
    "Historical Data for Design - Hourly Electricity Pricing"
   ]
  },
  {
   "cell_type": "code",
   "execution_count": 7,
   "metadata": {},
   "outputs": [
    {
     "data": {
      "text/html": [
       "<div>\n",
       "<style scoped>\n",
       "    .dataframe tbody tr th:only-of-type {\n",
       "        vertical-align: middle;\n",
       "    }\n",
       "\n",
       "    .dataframe tbody tr th {\n",
       "        vertical-align: top;\n",
       "    }\n",
       "\n",
       "    .dataframe thead th {\n",
       "        text-align: right;\n",
       "    }\n",
       "</style>\n",
       "<table border=\"1\" class=\"dataframe\">\n",
       "  <thead>\n",
       "    <tr style=\"text-align: right;\">\n",
       "      <th></th>\n",
       "      <th>Settlement Point Price</th>\n",
       "    </tr>\n",
       "  </thead>\n",
       "  <tbody>\n",
       "    <tr>\n",
       "      <th>0</th>\n",
       "      <td>18.30</td>\n",
       "    </tr>\n",
       "    <tr>\n",
       "      <th>1</th>\n",
       "      <td>17.65</td>\n",
       "    </tr>\n",
       "    <tr>\n",
       "      <th>2</th>\n",
       "      <td>17.07</td>\n",
       "    </tr>\n",
       "    <tr>\n",
       "      <th>3</th>\n",
       "      <td>17.19</td>\n",
       "    </tr>\n",
       "    <tr>\n",
       "      <th>4</th>\n",
       "      <td>17.24</td>\n",
       "    </tr>\n",
       "    <tr>\n",
       "      <th>...</th>\n",
       "      <td>...</td>\n",
       "    </tr>\n",
       "    <tr>\n",
       "      <th>26275</th>\n",
       "      <td>19.29</td>\n",
       "    </tr>\n",
       "    <tr>\n",
       "      <th>26276</th>\n",
       "      <td>16.57</td>\n",
       "    </tr>\n",
       "    <tr>\n",
       "      <th>26277</th>\n",
       "      <td>14.47</td>\n",
       "    </tr>\n",
       "    <tr>\n",
       "      <th>26278</th>\n",
       "      <td>15.50</td>\n",
       "    </tr>\n",
       "    <tr>\n",
       "      <th>26279</th>\n",
       "      <td>15.50</td>\n",
       "    </tr>\n",
       "  </tbody>\n",
       "</table>\n",
       "<p>26280 rows × 1 columns</p>\n",
       "</div>"
      ],
      "text/plain": [
       "       Settlement Point Price\n",
       "0                       18.30\n",
       "1                       17.65\n",
       "2                       17.07\n",
       "3                       17.19\n",
       "4                       17.24\n",
       "...                       ...\n",
       "26275                   19.29\n",
       "26276                   16.57\n",
       "26277                   14.47\n",
       "26278                   15.50\n",
       "26279                   15.50\n",
       "\n",
       "[26280 rows x 1 columns]"
      ]
     },
     "execution_count": 7,
     "metadata": {},
     "output_type": "execute_result"
    }
   ],
   "source": [
    "# Read and process 2021 data\n",
    "edf1 = pd.read_excel(\"C:/Users/marcopdsousa/Documents/energiapy/AICHE/Historical electricity prices/2021 Historical electricity prices.xlsx\", sheet_name=None)\n",
    "edf1 = pd.concat(edf1.values(), ignore_index=True)\n",
    "edf1 = edf1[edf1['Settlement Point'] == 'HB_HOUSTON']['Settlement Point Price'].reset_index(drop = True)\n",
    "\n",
    "# Read and process 2022 data\n",
    "edf2 = pd.read_excel(\"C:/Users/marcopdsousa/Documents/energiapy/AICHE/Historical electricity prices/2022 Historical electricity prices.xlsx\", sheet_name=None)\n",
    "edf2 = pd.concat(edf2.values(), ignore_index=True)\n",
    "edf2 = edf2[edf2['Settlement Point'] == 'HB_HOUSTON']['Settlement Point Price'].reset_index(drop = True)\n",
    "\n",
    "# Read and process 2023 data\n",
    "edf3 = pd.read_excel(\"C:/Users/marcopdsousa/Documents/energiapy/AICHE/Historical electricity prices/2023 Historical electricity prices.xlsx\", sheet_name=None)\n",
    "edf3 = pd.concat(edf3.values(), ignore_index=True)\n",
    "edf3 = edf3[edf3['Settlement Point'] == 'HB_HOUSTON']['Settlement Point Price'].reset_index(drop = True)\n",
    "\n",
    "# Combine the data from all years\n",
    "ecombined_df = pd.concat([edf1, edf2, edf3]).reset_index(drop = True)\n",
    "#ecombined_df = ecombined_df.reset_index(drop = True)\n",
    "#ecombined_df\n",
    "\n",
    "ecombined_df = pd.DataFrame(ecombined_df)\n",
    "\n",
    "# Calculate the mean and standard deviation\n",
    "mean = ecombined_df.mean()\n",
    "std = ecombined_df.std()\n",
    "\n",
    "\n",
    "outliers = numpy.abs(ecombined_df - mean) > 2 * std\n",
    "# Prune outliers beyond 3 standard deviations\n",
    "ecombined_df = ecombined_df.mask(outliers)\n",
    "fill_value = ecombined_df.mean()\n",
    "ecombined_df = ecombined_df.fillna(fill_value)\n",
    "ecombined_df\n",
    "\n",
    "# Get the maximum value from the combined data\n",
    "#combined = ecombined_df.max()\n",
    "\n",
    "# Output the maximum value\n",
    "#print(ecombined)"
   ]
  },
  {
   "cell_type": "markdown",
   "metadata": {},
   "source": [
    "Historical Data for Design - Hourly Wind Availability"
   ]
  },
  {
   "cell_type": "code",
   "execution_count": 8,
   "metadata": {},
   "outputs": [],
   "source": [
    "wfdf1 = pd.read_excel(\"C:/Users/marcopdsousa/Documents/energiapy/AICHE/Historical Renewable availability/2021 Wind and Solar data.xlsx\", sheet_name='Wind Data')  # None reads all sheets\n",
    "wfdf1 = wfdf1['ERCOT.WIND.GEN']\n",
    "\n",
    "wfdf2 = pd.read_excel(\"C:/Users/marcopdsousa/Documents/energiapy/AICHE/Historical Renewable availability/2022 Wind and Solar data.xlsx\", sheet_name='Wind Data')  # None reads all sheets\n",
    "wfdf2 = wfdf2['ERCOT.WIND.GEN']\n",
    "\n",
    "wfdf3 = pd.read_excel(\"C:/Users/marcopdsousa/Documents/energiapy/AICHE/Historical Renewable availability/2023 Wind and Solar data.xlsx\", sheet_name='Wind Data')  # None reads all sheets\n",
    "wfdf3 = wfdf3['ERCOT.WIND.GEN']\n",
    "wfdf3\n",
    "\n",
    "wfcombined_df = pd.concat([wfdf1, wfdf2, wfdf3], axis=0)  # axis=0 means row-wise (default)\n",
    "wfcombined_df = pd.DataFrame(wfcombined_df)\n",
    "\n"
   ]
  },
  {
   "cell_type": "markdown",
   "metadata": {},
   "source": [
    "Historical Data for Design - Hourly Solar Availability"
   ]
  },
  {
   "cell_type": "code",
   "execution_count": 9,
   "metadata": {},
   "outputs": [],
   "source": [
    "sfdf1 = pd.read_excel(\"C:/Users/marcopdsousa/Documents/energiapy/AICHE/Historical Renewable availability/2021 Wind and Solar data.xlsx\", sheet_name='Solar Data')  # None reads all sheets\n",
    "sfdf1 = sfdf1['ERCOT.PVGR.GEN']\n",
    "\n",
    "sfdf2 = pd.read_excel(\"C:/Users/marcopdsousa/Documents/energiapy/AICHE/Historical Renewable availability/2022 Wind and Solar data.xlsx\", sheet_name='Solar Data')  # None reads all sheets\n",
    "sfdf2 = sfdf2['ERCOT.PVGR.GEN']\n",
    "\n",
    "sfdf3 = pd.read_excel(\"C:/Users/marcopdsousa/Documents/energiapy/AICHE/Historical Renewable availability/2023 Wind and Solar data.xlsx\", sheet_name='Solar Data')  # None reads all sheets\n",
    "sfdf3 = sfdf3['ERCOT.PVGR.GEN']\n",
    "sfdf3\n",
    "\n",
    "sfcombined_df = pd.concat([sfdf1, sfdf2, sfdf3], axis=0)  # axis=0 means row-wise (default)\n",
    "sfcombined_df = pd.DataFrame(sfcombined_df)"
   ]
  },
  {
   "cell_type": "markdown",
   "metadata": {},
   "source": [
    "Hourly Natural Gas Prices"
   ]
  },
  {
   "cell_type": "code",
   "execution_count": 10,
   "metadata": {},
   "outputs": [
    {
     "data": {
      "text/html": [
       "<div>\n",
       "<style scoped>\n",
       "    .dataframe tbody tr th:only-of-type {\n",
       "        vertical-align: middle;\n",
       "    }\n",
       "\n",
       "    .dataframe tbody tr th {\n",
       "        vertical-align: top;\n",
       "    }\n",
       "\n",
       "    .dataframe thead th {\n",
       "        text-align: right;\n",
       "    }\n",
       "</style>\n",
       "<table border=\"1\" class=\"dataframe\">\n",
       "  <thead>\n",
       "    <tr style=\"text-align: right;\">\n",
       "      <th></th>\n",
       "      <th>Henry Hub Natural Gas Spot Price (Dollars per Million Btu)</th>\n",
       "    </tr>\n",
       "  </thead>\n",
       "  <tbody>\n",
       "    <tr>\n",
       "      <th>0</th>\n",
       "      <td>2.39</td>\n",
       "    </tr>\n",
       "    <tr>\n",
       "      <th>0</th>\n",
       "      <td>2.39</td>\n",
       "    </tr>\n",
       "    <tr>\n",
       "      <th>0</th>\n",
       "      <td>2.39</td>\n",
       "    </tr>\n",
       "    <tr>\n",
       "      <th>0</th>\n",
       "      <td>2.39</td>\n",
       "    </tr>\n",
       "    <tr>\n",
       "      <th>0</th>\n",
       "      <td>2.39</td>\n",
       "    </tr>\n",
       "    <tr>\n",
       "      <th>...</th>\n",
       "      <td>...</td>\n",
       "    </tr>\n",
       "    <tr>\n",
       "      <th>875</th>\n",
       "      <td>2.45</td>\n",
       "    </tr>\n",
       "    <tr>\n",
       "      <th>875</th>\n",
       "      <td>2.45</td>\n",
       "    </tr>\n",
       "    <tr>\n",
       "      <th>875</th>\n",
       "      <td>2.45</td>\n",
       "    </tr>\n",
       "    <tr>\n",
       "      <th>875</th>\n",
       "      <td>2.45</td>\n",
       "    </tr>\n",
       "    <tr>\n",
       "      <th>875</th>\n",
       "      <td>2.45</td>\n",
       "    </tr>\n",
       "  </tbody>\n",
       "</table>\n",
       "<p>26280 rows × 1 columns</p>\n",
       "</div>"
      ],
      "text/plain": [
       "     Henry Hub Natural Gas Spot Price (Dollars per Million Btu)\n",
       "0                                                 2.39         \n",
       "0                                                 2.39         \n",
       "0                                                 2.39         \n",
       "0                                                 2.39         \n",
       "0                                                 2.39         \n",
       "..                                                 ...         \n",
       "875                                               2.45         \n",
       "875                                               2.45         \n",
       "875                                               2.45         \n",
       "875                                               2.45         \n",
       "875                                               2.45         \n",
       "\n",
       "[26280 rows x 1 columns]"
      ]
     },
     "execution_count": 10,
     "metadata": {},
     "output_type": "execute_result"
    }
   ],
   "source": [
    "#The natural gas price is calculated as the average between the high and low cost, also the unit used is $/kg of natural gas\n",
    "NG_price_df = pd.read_csv('C:/Users/marcopdsousa/Documents/energiapy/AICHE/Historical natural gas prices/Natural gas historical data.csv')\n",
    "NG_price_df = NG_price_df[['Henry Hub Natural Gas Spot Price (Dollars per Million Btu)']]\n",
    "# NG_price_df = NG_price_df[:24]\n",
    "NG_price_df\n",
    "NG_price_hourly = NG_price_df.reindex(NG_price_df.index.repeat(30))\n",
    "NG_price_hourly = NG_price_hourly[:26280]\n",
    "NG_price_hourly\n",
    "NG_price_hourly = pd.DataFrame(NG_price_hourly)\n",
    "\n",
    "mean = NG_price_hourly.mean()\n",
    "std = NG_price_hourly.std()\n",
    "\n",
    "\n",
    "outliers = numpy.abs(NG_price_hourly - mean) > 3 * std\n",
    "# Prune outliers beyond 3 standard deviations\n",
    "NG_price_hourly = NG_price_hourly.mask(outliers)\n",
    "fill_value = NG_price_hourly.mean()\n",
    "NG_price_hourly = NG_price_hourly.fillna(fill_value)\n",
    "NG_price_hourly\n"
   ]
  },
  {
   "cell_type": "code",
   "execution_count": 11,
   "metadata": {},
   "outputs": [],
   "source": [
    "#Gives relevancy to price values again\n",
    "ecombined = ecombined_df.max()\n",
    "wfcombined = wfcombined_df.max()\n",
    "sfcombined = sfcombined_df.max()"
   ]
  },
  {
   "cell_type": "markdown",
   "metadata": {},
   "source": [
    "## Declare Resources"
   ]
  },
  {
   "cell_type": "code",
   "execution_count": 12,
   "metadata": {},
   "outputs": [],
   "source": [
    "Solar = Resource(name='Solar', cons_max=bigM, basis='MW', label='Solar Power', price= 52.69, gwp=0, scope=Scope.TWO)\n",
    "\n",
    "Wind = Resource(name='Wind', cons_max=bigM, basis='MW', label='Wind Power', price= 60.11, gwp=0, scope=Scope.TWO)\n",
    "\n",
    "Power = Resource(name='Power', basis='MW',\n",
    "                 label='Power generated')\n",
    "\n",
    "GridPower = Resource(name='GridPower', basis='MW',\n",
    "                     cons_max=bigM, label='Power bought', gwp=420.62, price = ecombined, varying = [VaryingResource.DETERMINISTIC_PRICE], scope = Scope.TWO)\n",
    "\n",
    "#The following are components of natural gas\n",
    "\n",
    "CO2 = Resource(name='CO2', basis='kg/hr',\n",
    "               label='Carbon dioxide', block='Resource')\n",
    "\n",
    "CO2_Stack = Resource(name='CO2 to Stack', basis='kg/hr', sell=True,\n",
    "               label='Carbon dioxide to Stack', block='Resource', gwp = 1, scope = Scope.ONE)\n",
    "\n",
    "CO2_Air = Resource(name='CO2 from air', basis='kg/hr',\n",
    "               label='Carbon dioxide from air', block='Resource', cons_max=bigM)\n",
    "\n",
    "CO2_Vent = Resource(name='CO2 Vented from the process', basis='kg/hr',\n",
    "               label='Carbon dioxide vented from the process', block='Resource', gwp = 1, sell=True, scope = Scope.ONE)\n",
    "\n",
    "CO2cpt = Resource(name='CO2 Captured', basis='kg/hr', sell=True, label='Captured carbon dioxide', block='Resource')\n",
    "\n",
    "#CO2_Blowdown= Resource(name='CO2 Blowdown', basis='kg/hr', sell=True, block='Resource', gwp = 1) # 2 ATR processes, imp, Stream X+20, 16+20 Declares CO2 going into the Boiler via Air stream 5 in ATR process\n",
    "\n",
    "CH4 = Resource(name='CH4', basis='kg/hr',\n",
    "               label='Methane', block='Resource')\n",
    "\n",
    "CH4_Desorped = Resource(name='CH4_Desorped', basis='kg/hr',\n",
    "               label='Methane', block='Resource') # True for ATR Occurs during ATR process\n",
    "\n",
    "#Important: Natural gas consists over different components\n",
    "\n",
    "NG = Resource(name='Natural Gas', basis='kg/hr',\n",
    "                     cons_max=bigM, label='Natural Gas', gwp = 0.660979, price = NG_price_hourly, varying = [VaryingResource.DETERMINISTIC_PRICE])\n",
    "\n",
    "\n",
    "# Hydrogen is what I want to sell/satisfy a specific demand for\n",
    "\n",
    "H2 = Resource(name='Hydrogen', basis='kg/hr', label='Hydrogen', block='Resource')\n",
    "\n",
    "H2Pure = Resource(name='Pure Hydrogen', demand = True, basis='kg/hr', label='Pure Hydrogen', block='Resource')\n",
    "\n",
    "# Water is required for the electrolysis process\n",
    "\n",
    "H2O = Resource(name='H2O',\n",
    "               basis='kg/hr', cons_max=bigM, label='Water', block='Resource')\n",
    "\n",
    "#Industrial water price is 0.002 USD/kg of water\n",
    "H2OFresh = Resource(name=\"H2O Fresh\", cons_max=bigM, price = 0.002, basis='kg/hr', label='Fresh Water', block='Resource')\n",
    "\n",
    "H2O_Air = Resource(name='H2O from air', cons_max=bigM,\n",
    "               basis='kg/hr', label='Water from air', block='Resource')\n",
    "\n",
    "H2O_Vent = Resource(name='H2O vented from the process',\n",
    "               basis='kg/hr', sell=True, label='Water vented from the process', block='Resource')\n",
    "\n",
    "\n",
    "H2O_Stack = Resource(name='H2O to Stack',\n",
    "               basis='kg/hr', sell= True, label='Water to Stack', block='Resource')\n",
    "\n",
    "'''Do we need h20 vent asu and just h20 vent?'''\n",
    "H2O_Vent_ASU = Resource(name='H2O Vent from ASU',\n",
    "               basis='kg/hr', sell= True, label='Water vented from ASU', block='Resource') # True for ATR - Stream 17\n",
    "\n",
    "H2O_Blowdown = Resource(name='H2O in Blowdown',\n",
    "               basis='kg/hr', sell= True, label='H2O present in air - Stream 5', block='Resource') # True for ATR - Stream 20\n",
    "\n",
    "#Industrial water price is 0.002 USD/kg of water\n",
    "\n",
    "# Air components\n",
    "\n",
    "N2 = Resource(name='N2', basis='kg/hr',\n",
    "               label='Nitrogen', block='Resource')\n",
    "\n",
    "N2_SMR = Resource(name='N2 from SMR', basis='kg/hr',\n",
    "               label='Nitrogen from SMR', block='Resource')\n",
    "\n",
    "N2_WGS = Resource(name='N2 from WGS', basis='kg/hr',\n",
    "               label='Nitrogen from WGS', block='Resource')\n",
    "\n",
    "N2_FG = Resource(name='N2 from FG', basis='kg/hr',\n",
    "               label='Nitrogen from FG', block='Resource')\n",
    "\n",
    "N2_Air = Resource(name='N2 from Air', basis='kg/hr', cons_max= bigM,\n",
    "               label='Nitrogen from Air', block='Resource')\n",
    "\n",
    "N2_Vent = Resource(name='N2 vented from the process', basis='kg/hr', sell= True,\n",
    "               label='Nitrogen vented from the process', block='Resource')\n",
    "\n",
    "N2Prod = Resource(name='N2 in product stream', basis='kg/hr',\n",
    "               label='Nitrogen in product stream', block='Resource')\n",
    "\n",
    "N2_Stack = Resource(name='N2 to Stack', basis='kg/hr', sell= True,\n",
    "               label='Nitrogen to stack', block='Resource')\n",
    "\n",
    "N2_Desorped = Resource(name='N2 Desorped', basis='kg/hr',\n",
    "               label='Nitrogen in CO2 desorption stream', block='Resource') # True for ATR\n",
    "N2_Vented_Stack = Resource(name='N2 in Stack', basis='kg/hr',\n",
    "               label='Nitrogen in Stack', block='Resource') # True for ATR\n",
    "N2_Blowdown = Resource(name='N2 in Blowdown', basis='kg/hr',\n",
    "               label='Nitrogen in Blowdown stream', block='Resource') # True for ATR\n",
    "\n",
    "O2 = Resource(name='O2', basis='kg/hr',\n",
    "               label='Oxygen', block='Resource')\n",
    "\n",
    "O2_Air = Resource(name='O2 from air', basis='kg/hr',\n",
    "               label='Oxygen from air', block='Resource', cons_max = bigM)\n",
    "\n",
    "O2_Vent = Resource(name='O2 vented from the process', basis='kg/hr', sell=True,\n",
    "               label='Oxygen vented from the process', block='Resource')\n",
    "\n",
    "O2_Stack = Resource(name='O2 to Stack', basis='kg/hr', sell= True,\n",
    "               label='Oxygen to Stack', block='Resource')\n",
    "\n",
    "O2_Desorped = Resource(name='O2 Desorped', basis='kg/hr',\n",
    "               label='Oxygen in CO2 desorption stream', block='Resource') # True for ATR\n",
    "\n",
    "O2_ASU = Resource(name='O2 vented out of ASU', basis='kg/hr',\n",
    "               label='O2 vented out of ASU', block='Resource') # True for ATR\n",
    "\n",
    "O2_Blowdown = Resource(name='O2 in Blowdown', basis='kg/hr',\n",
    "               label='O2 in Blowdown stream', block='Resource') # True for ATR\n"
   ]
  },
  {
   "attachments": {},
   "cell_type": "markdown",
   "metadata": {},
   "source": [
    "## Declare Materials"
   ]
  },
  {
   "attachments": {},
   "cell_type": "markdown",
   "metadata": {},
   "source": [
    "Materials are utilized for the establishment of processes. Materials inturn require resources to be set up. "
   ]
  },
  {
   "cell_type": "code",
   "execution_count": 13,
   "metadata": {},
   "outputs": [
    {
     "data": {
      "text/plain": [
       "'Do I understand it correctly that I will have no material modes'"
      ]
     },
     "execution_count": 13,
     "metadata": {},
     "output_type": "execute_result"
    }
   ],
   "source": [
    "'''Do I understand it correctly that I will have no material modes'''"
   ]
  },
  {
   "attachments": {},
   "cell_type": "markdown",
   "metadata": {},
   "source": [
    "## Declare Processes"
   ]
  },
  {
   "cell_type": "code",
   "execution_count": 14,
   "metadata": {},
   "outputs": [],
   "source": [
    "'''Purchasing electricity from a traditional power production system'''\n",
    "\n",
    "Grid = Process(name='Grid', conversion={GridPower: -1, Power: 1}, prod_min=smallM, prod_max=bigM, label='Grid', basis='MW')\n",
    "\n",
    "PV = Process(name='PV', conversion={Solar: -1, Power: 1},\n",
    "             prod_max=bigM, prod_min=smallM,  varying= [VaryingProcess.DETERMINISTIC_CAPACITY], label='Solar PV', basis='MW')\n",
    "#PV - PPA was constructed as a 10 MWh system\n",
    "# capex=0.0001, fopex=0.0001, vopex=0.0001, gwp = 0.0001\n",
    "\n",
    "WF = Process(name='WF', conversion={Wind: -1, Power: 1},\n",
    "             prod_max=bigM, prod_min=smallM, label='Wind mill array', varying=[VaryingProcess.DETERMINISTIC_CAPACITY], basis='MW')\n",
    "\n",
    "#WF  - PPA was constructed as a 30 MWh system\n",
    "SMR = Process(name='SMR', conversion={Power: -0.00065, NG: -3.535189, H2OFresh: -16.78877421, N2_Air: -19.2134, O2_Air: -5.88716, H2O_Air: -0.1582, CO2_Air: -0.01171, \n",
    "                                            H2Pure: 1, CO2_Stack: 9.3713,  H2O_Stack: 3.94959, N2_Stack: 19.29814, O2_Stack: 0.535434}, capex=0.2,\n",
    "               vopex=0.78, fopex=0.06, prod_min=smallM, prod_max=bigM, label='SMR', basis='kg/hr')\n",
    "\n",
    "\n",
    "SMRCCS = Process(name='SMRCCS', conversion={Power: -0.00139, N2_Air: -22.2315, O2_Air: -6.811924, H2O_Air: -0.183055, CO2_Air: -0.013551, CO2_Stack: -9.3713,\n",
    "                                             H2O_Vent: 3.826767, CO2cpt: 8.903, CO2_Vent: 0.46856, H2O_Stack: 0.558114, N2_Stack: 22.32218, O2_Stack: 0.6203032, }, capex=0.45,\n",
    "                vopex=1.01, fopex=0.1, prod_min=smallM, prod_max=bigM, label='SMRCCS', basis='kg/hr')\n",
    "\n",
    "PEM = Process(name='PEM', conversion={Power: -0.064, H2OFresh: -9.5,\n",
    "                                            H2Pure: 1}, capex=1.2,\n",
    "               vopex=3.03, fopex=0.7, prod_min=smallM, prod_max=bigM, label='PEM', basis='kg/hr')\n",
    "\n",
    "ATR_CCS_R = Process(name='ATR_CCS_R', conversion= {Power: -0.00175403726, NG: -3.2080287, H2OFresh: -4.8123228, H2O_Air : -0.1041653, H2O_Vent_ASU : 0.0019387, H2O_Blowdown : 1.7351222, H2O_Vent : 0.5220523,\n",
    "                                                   N2_Air: -12.653394, N2_Vent: 9.970844643, N2Prod: 0.002780318, N2_Vented_Stack: 2.182324573, N2_Desorped: 0.023329689, O2_Air: -3.87607534,\n",
    "                                                   O2_ASU: 0.061984387, O2_Vent: 0.0647028, CO2_Air:-0.007711159, CO2_Vent: 0.457276602, CO2cpt: 7.733322317, H2Pure: 1}, capex=0.35,\n",
    "               vopex=0.74, fopex=0.08, prod_min=smallM, prod_max=bigM, label='ATR_CCS_R', basis='kg/hr')\n",
    "\n",
    "ATR_CCS_OC = Process(name='ATR_CCS_OC', conversion={Power: -0.0059130434, NG: -3.584338787, CO2_Air: -0.010770164, CO2_Vent: 0.11601384, CO2cpt: 9.192057517, N2_Air: -17.67297545, N2_Vent: 16.7175342, N2_Blowdown: 0.000797082, N2_Desorped: 0.131330546, N2Prod: 0.002780318,\n",
    "                                                    H2O_Air: -0.145487576, H2OFresh: -5.377267146, H2O_Vent_ASU: 0.003250534, H2O_Blowdown: 3.598489736, O2_Air: -6.758549377, O2_Vent: 0.10392561, H2Pure: 1}, capex=0.45,\n",
    "               vopex=0.77, fopex=0.1, prod_min=smallM, prod_max=bigM, label='ATR_CCS_OC', basis='kg/hr')\n",
    "\n",
    "ATR_CCS_R_OC = Process(name='ATR_CCS_R_OC', conversion={Power: -0.00203229813, NG: -3.208028688, CO2_Air: -0.007656042, CO2_Vent: 0.671400596, CO2cpt: 8.152141983, \n",
    "                                                        N2_Air: -12.56295099, N2_Vent: 11.88406435, N2_Blowdown: 0.008434949, N2_Desorped: 0.102417105, N2Prod: 0.002780318, \n",
    "                                                        H2OFresh: -4.812322829, H2O_Air: -0.103420802, H2O_Vent_ASU: 0.002310721, H2O_Blowdown: 0.004504513, O2_Air: -4.804359335, \n",
    "                                                        O2_Vent: 0.073878039, H2Pure: 1}, capex=0.35,\n",
    "               vopex=0.75, fopex=0.1, prod_min=smallM, prod_max=bigM, label='ATR_CCS_R_OC', basis='kg/hr')\n",
    "\n",
    "AWE = Process(name='PEM', conversion={Power: -0.05, H2OFresh: -9.4635,\n",
    "                                            H2Pure: 1}, capex=0.810127,vopex=4.050633, fopex=0.202532, prod_min=smallM, prod_max=bigM, label='AWE', basis='kg/hr')"
   ]
  },
  {
   "attachments": {},
   "cell_type": "markdown",
   "metadata": {},
   "source": [
    "## Declare Location"
   ]
  },
  {
   "cell_type": "code",
   "execution_count": 15,
   "metadata": {},
   "outputs": [
    {
     "data": {
      "text/html": [
       "<div>\n",
       "<style scoped>\n",
       "    .dataframe tbody tr th:only-of-type {\n",
       "        vertical-align: middle;\n",
       "    }\n",
       "\n",
       "    .dataframe tbody tr th {\n",
       "        vertical-align: top;\n",
       "    }\n",
       "\n",
       "    .dataframe thead th {\n",
       "        text-align: right;\n",
       "    }\n",
       "</style>\n",
       "<table border=\"1\" class=\"dataframe\">\n",
       "  <thead>\n",
       "    <tr style=\"text-align: right;\">\n",
       "      <th></th>\n",
       "      <th>Settlement Point Price</th>\n",
       "    </tr>\n",
       "  </thead>\n",
       "  <tbody>\n",
       "    <tr>\n",
       "      <th>0</th>\n",
       "      <td>18.30</td>\n",
       "    </tr>\n",
       "    <tr>\n",
       "      <th>1</th>\n",
       "      <td>17.65</td>\n",
       "    </tr>\n",
       "    <tr>\n",
       "      <th>2</th>\n",
       "      <td>17.07</td>\n",
       "    </tr>\n",
       "    <tr>\n",
       "      <th>3</th>\n",
       "      <td>17.19</td>\n",
       "    </tr>\n",
       "    <tr>\n",
       "      <th>4</th>\n",
       "      <td>17.24</td>\n",
       "    </tr>\n",
       "    <tr>\n",
       "      <th>...</th>\n",
       "      <td>...</td>\n",
       "    </tr>\n",
       "    <tr>\n",
       "      <th>26275</th>\n",
       "      <td>19.29</td>\n",
       "    </tr>\n",
       "    <tr>\n",
       "      <th>26276</th>\n",
       "      <td>16.57</td>\n",
       "    </tr>\n",
       "    <tr>\n",
       "      <th>26277</th>\n",
       "      <td>14.47</td>\n",
       "    </tr>\n",
       "    <tr>\n",
       "      <th>26278</th>\n",
       "      <td>15.50</td>\n",
       "    </tr>\n",
       "    <tr>\n",
       "      <th>26279</th>\n",
       "      <td>15.50</td>\n",
       "    </tr>\n",
       "  </tbody>\n",
       "</table>\n",
       "<p>26280 rows × 1 columns</p>\n",
       "</div>"
      ],
      "text/plain": [
       "       Settlement Point Price\n",
       "0                       18.30\n",
       "1                       17.65\n",
       "2                       17.07\n",
       "3                       17.19\n",
       "4                       17.24\n",
       "...                       ...\n",
       "26275                   19.29\n",
       "26276                   16.57\n",
       "26277                   14.47\n",
       "26278                   15.50\n",
       "26279                   15.50\n",
       "\n",
       "[26280 rows x 1 columns]"
      ]
     },
     "execution_count": 15,
     "metadata": {},
     "output_type": "execute_result"
    }
   ],
   "source": [
    "pd.DataFrame(ecombined_df)"
   ]
  },
  {
   "cell_type": "code",
   "execution_count": 16,
   "metadata": {},
   "outputs": [],
   "source": [
    "process_set = {Grid, PV, WF, SMR, PEM,SMRCCS, ATR_CCS_OC, ATR_CCS_R, ATR_CCS_R_OC, AWE}#, SMRCCS, PEM} #Grid,"
   ]
  },
  {
   "cell_type": "code",
   "execution_count": 17,
   "metadata": {},
   "outputs": [],
   "source": [
    "houston = Location(name='HO', processes=process_set, capacity_factor={PV: sfcombined_df, WF: wfcombined_df}, price_factor={GridPower: ecombined_df, NG: NG_price_hourly}, \n",
    "                   scales=scales, label='Houston', expenditure_scale_level=1, demand_scale_level=1, price_scale_level=2, capacity_scale_level=2, gwp_scale_level = 2)"
   ]
  },
  {
   "attachments": {},
   "cell_type": "markdown",
   "metadata": {},
   "source": [
    "## Declare Scenario"
   ]
  },
  {
   "cell_type": "code",
   "execution_count": 18,
   "metadata": {},
   "outputs": [],
   "source": [
    "\n",
    "scenario = Scenario(name='scenario_full', network=houston, scales=scales,  expenditure_scale_level=1, demand_scale_level=1, \n",
    "                    purchase_scale_level = 2, scheduling_scale_level=2, network_scale_level=1, capacity_scale_level=2, gwp_scale_level = 2,\n",
    "                    label='full_case', demand={houston: {H2Pure:240000}})"
   ]
  },
  {
   "cell_type": "code",
   "execution_count": 19,
   "metadata": {},
   "outputs": [
    {
     "data": {
      "image/png": "[encoded data removed]",
      "text/plain": [
       "<Figure size 900x500 with 1 Axes>"
      ]
     },
     "metadata": {},
     "output_type": "display_data"
    }
   ],
   "source": [
    "\n",
    "plot_scenario.price_factor(\n",
    "    scenario=scenario, location=houston, resource=GridPower, fig_size=(9, 5), color='black')\n"
   ]
  },
  {
   "cell_type": "code",
   "execution_count": 20,
   "metadata": {},
   "outputs": [
    {
     "data": {
      "image/png": "[encoded data removed]",
      "text/plain": [
       "<Figure size 900x500 with 1 Axes>"
      ]
     },
     "metadata": {},
     "output_type": "display_data"
    }
   ],
   "source": [
    "plot_scenario.price_factor(\n",
    "    scenario=scenario, location=houston, resource=NG, fig_size=(9, 5), color='blue')"
   ]
  },
  {
   "cell_type": "code",
   "execution_count": 21,
   "metadata": {},
   "outputs": [
    {
     "data": {
      "image/png": "[encoded data removed]",
      "text/plain": [
       "<Figure size 900x500 with 1 Axes>"
      ]
     },
     "metadata": {},
     "output_type": "display_data"
    }
   ],
   "source": [
    "plot_scenario.capacity_factor(\n",
    "    scenario=scenario, location=houston, process=PV, fig_size=(9, 5), color='red')"
   ]
  },
  {
   "cell_type": "code",
   "execution_count": 22,
   "metadata": {},
   "outputs": [
    {
     "data": {
      "image/png": "[encoded data removed]",
      "text/plain": [
       "<Figure size 900x500 with 1 Axes>"
      ]
     },
     "metadata": {},
     "output_type": "display_data"
    }
   ],
   "source": [
    "plot_scenario.capacity_factor(\n",
    "    scenario=scenario, location=houston, process=WF, fig_size=(9, 5), color='green')"
   ]
  },
  {
   "cell_type": "code",
   "execution_count": 23,
   "metadata": {},
   "outputs": [],
   "source": [
    "#Stop here and revise all your entries"
   ]
  },
  {
   "attachments": {},
   "cell_type": "markdown",
   "metadata": {},
   "source": [
    "## Formulate MILP"
   ]
  },
  {
   "attachments": {},
   "cell_type": "markdown",
   "metadata": {},
   "source": [
    "Here we formulate two milps which differ only in their objectives.\n",
    "\n",
    "For maximizing the discharge of a particular resource, use the objective MAX_DISCHARGE, the objective resource also needs to be specified.\n",
    "\n",
    "Similarly the discharge can also be minimized using MIN_DISCHARGE. This can be used with a demand for another resource being set. For example, minimizing the discharge of carbon dioxide while meeting a hydrogen demand.\n",
    "\n",
    "The second MILP, minimized the cost while meeting a varying demand for power"
   ]
  },
  {
   "cell_type": "code",
   "execution_count": 24,
   "metadata": {},
   "outputs": [
    {
     "name": "stdout",
     "output_type": "stream",
     "text": [
      "constraint process capex\n",
      "constraint process fopex\n",
      "constraint process vopex\n",
      "constraint process incidental\n",
      "constraint storage cost\n",
      "constraint storage cost location\n",
      "constraint storage cost network\n",
      "constraint global warming potential resource\n",
      "constraint global warming potential resource consumption\n",
      "constraint global warming potential resource discharge\n"
     ]
    }
   ],
   "source": [
    "#, Constraints.MODE\n",
    "\n",
    "milp_cost = formulate(scenario=scenario, constraints={Constraints.COST, Constraints.INVENTORY, Constraints.PRODUCTION,\n",
    "                      Constraints.RESOURCE_BALANCE, Constraints.DEMAND, Constraints.EMISSION}, objective=Objective.COST, demand_sign = 'eq')"
   ]
  },
  {
   "cell_type": "code",
   "execution_count": null,
   "metadata": {},
   "outputs": [],
   "source": [
    "# # model.component\n",
    "\n",
    "# from pyomo.environ import ConstraintList\n",
    "# milp_cost.cons1 = ConstraintList()\n",
    "# for i in scales.scale_iter(2):\n",
    "#     milp_cost.cons1.add(expr = milp_cost.P['HO', 'SMR', *i] >= 5000)"
   ]
  },
  {
   "cell_type": "code",
   "execution_count": null,
   "metadata": {},
   "outputs": [],
   "source": [
    "# # model.component\n",
    "\n",
    "# from pyomo.environ import ConstraintList\n",
    "\n",
    "# ramping_limit = 1000\n",
    "\n",
    "# milp_cost.cons2 = ConstraintList()\n",
    "# for i in scales.scale_iter(1):\n",
    "#     if i != (0,0):\n",
    "#         milp_cost.cons2.add(expr = milp_cost.P['HO', 'SMR', *i] - milp_cost.P['HO', 'SMR', *scales.scale_iter(2)[scales.scale_iter(1).index(i) - 1]] <= ramping_limit)\n",
    "\n",
    "# milp_cost.cons3 = ConstraintList()\n",
    "# for i in scales.scale_iter(1):\n",
    "#     if i != (0,0):\n",
    "#         milp_cost.cons3.add(expr = milp_cost.P['HO', 'SMR', *i] - milp_cost.P['HO', 'SMR', *scales.scale_iter(2)[scales.scale_iter(1).index(i) - 1]] >= -ramping_limit)"
   ]
  },
  {
   "cell_type": "code",
   "execution_count": null,
   "metadata": {},
   "outputs": [],
   "source": [
    "from pyomo.environ import Var, Binary\n",
    "\n",
    "ramping_limit = 1000\n",
    "\n",
    "milp_cost.cons2 = ConstraintList()\n",
    "for i in scales.scale_iter(1):\n",
    "    if i != (0,0):\n",
    "        milp_cost.cons2.add(expr = milp_cost.P['HO', 'SMR', *i] - milp_cost.P['HO', 'SMR', *scales.scale_iter(2)[scales.scale_iter(1).index(i) - 1]] <= ramping_limit)\n",
    "\n",
    "milp_cost.cons3 = ConstraintList()\n",
    "for i in scales.scale_iter(1):\n",
    "    if i != (0,0):\n",
    "        milp_cost.cons3.add(expr = milp_cost.P['HO', 'SMR', *i] - milp_cost.P['HO', 'SMR', *scales.scale_iter(2)[scales.scale_iter(1).index(i) - 1]] >= -ramping_limit)\n",
    "\n",
    "ramping_limitz = 2000\n",
    "\n",
    "milp_cost.cons4 = ConstraintList()\n",
    "for i in scales.scale_iter(1):\n",
    "    if i != (0,0):\n",
    "        milp_cost.cons4.add(expr = milp_cost.P['HO', 'ATR_CCS_R', *i] - milp_cost.P['HO', 'ATR_CCS_R', *scales.scale_iter(2)[scales.scale_iter(1).index(i) - 1]] <= ramping_limitz)\n",
    "\n",
    "milp_cost.cons5 = ConstraintList()\n",
    "for i in scales.scale_iter(1):\n",
    "    if i != (0,0):\n",
    "        milp_cost.cons5.add(expr = milp_cost.P['HO', 'ATR_CCS_R', *i] - milp_cost.P['HO', 'ATR_CCS_R', *scales.scale_iter(2)[scales.scale_iter(1).index(i) - 1]] >= -ramping_limitz)\n",
    "\n",
    "milp_cost.cons6 = ConstraintList()\n",
    "for i in scales.scale_iter(1):\n",
    "    if i != (0,0):\n",
    "        milp_cost.cons6.add(expr = milp_cost.P['HO', 'ATR_CCS_OC', *i] - milp_cost.P['HO', 'ATR_CCS_OC', *scales.scale_iter(2)[scales.scale_iter(1).index(i) - 1]] <= ramping_limitz)\n",
    "\n",
    "milp_cost.cons7 = ConstraintList()\n",
    "for i in scales.scale_iter(1):\n",
    "    if i != (0,0):\n",
    "        milp_cost.cons7.add(expr = milp_cost.P['HO', 'ATR_CCS_OC', *i] - milp_cost.P['HO', 'ATR_CCS_OC', *scales.scale_iter(2)[scales.scale_iter(1).index(i) - 1]] >= -ramping_limitz)        \n",
    "\n",
    "milp_cost.cons8 = ConstraintList()\n",
    "for i in scales.scale_iter(1):\n",
    "    if i != (0,0):\n",
    "        milp_cost.cons8.add(expr = milp_cost.P['HO', 'ATR_CCS_R_OC', *i] - milp_cost.P['HO', 'ATR_CCS_R_OC', *scales.scale_iter(2)[scales.scale_iter(1).index(i) - 1]] <= ramping_limitz)\n",
    "\n",
    "milp_cost.cons9 = ConstraintList()\n",
    "for i in scales.scale_iter(1):\n",
    "    if i != (0,0):\n",
    "        milp_cost.cons9.add(expr = milp_cost.P['HO', 'ATR_CCS_R_OC', *i] - milp_cost.P['HO', 'ATR_CCS_R_OC', *scales.scale_iter(2)[scales.scale_iter(1).index(i) - 1]] >= -ramping_limitz)  \n",
    "\n",
    "    # Minimum production rate\n",
    "    # milp_cost.cons1 = ConstraintList()\n",
    "    # for i in scales.scale_iter(1):\n",
    "    #  milp_cost.cons1.add(expr = milp_cost.P['HO', 'SMR', *i] >= 1000)\n",
    "\n",
    "    # Add binary variables for on/off control\n",
    "milp_cost.on_smr = Var(scales.scale_iter(1), domain=Binary)  # Binary variable for SMR system\n",
    "milp_cost.on_atr_ccs_r = Var(scales.scale_iter(1), domain=Binary)  # Binary variable for ATR_CCS_R system\n",
    "milp_cost.on_atr_ccs_oc = Var(scales.scale_iter(1), domain=Binary)  # Binary variable for ATR_CCS_OC system\n",
    "milp_cost.on_atr_ccs_r_oc = Var(scales.scale_iter(1), domain=Binary)  # Binary variable for ATR_CCS_R_OC system\n",
    "\n",
    "milp_cost.cons10 = ConstraintList()\n",
    "for i in scales.scale_iter(1):\n",
    "    #if i != (0,0):\n",
    "    milp_cost.cons10.add(expr = milp_cost.P['HO', 'SMR', *i] >= 6000 * milp_cost.on_smr[i]) #30% of max production rate\n",
    "\n",
    "milp_cost.cons11 = ConstraintList()\n",
    "for i in scales.scale_iter(1):\n",
    "    #if i != (0,0):\n",
    "    milp_cost.cons11.add(expr = milp_cost.P['HO', 'ATR_CCS_R', *i] >= 4000 * milp_cost.on_atr_ccs_r[i]) #20% of max production rate\n",
    "    \n",
    "milp_cost.cons12 = ConstraintList()\n",
    "for i in scales.scale_iter(1):\n",
    "    #if i != (0,0):\n",
    "    milp_cost.cons12.add(expr = milp_cost.P['HO', 'ATR_CCS_OC', *i] >= 4000 * milp_cost.on_atr_ccs_oc[i]) #20% of max production rate\n",
    "\n",
    "milp_cost.cons13 = ConstraintList()\n",
    "for i in scales.scale_iter(1):\n",
    "    #if i != (0,0):\n",
    "    milp_cost.cons13.add(expr = milp_cost.P['HO', 'ATR_CCS_R_OC', *i] >= 4000 * milp_cost.on_atr_ccs_r_oc[i]) #20% of max production rate\n",
    "\n",
    "    # For SMR\n",
    "milp_cost.cons14 = ConstraintList()\n",
    "for i in scales.scale_iter(1):\n",
    "    #if i != (0, 0):\n",
    "    # Force production to zero if the system is off (on_smr == 0)\n",
    "    milp_cost.cons14.add(expr = milp_cost.P['HO', 'SMR', *i] <= 20000 * milp_cost.on_smr[i])\n",
    "\n",
    "# For ATR_CCS_R\n",
    "milp_cost.cons15 = ConstraintList()\n",
    "for i in scales.scale_iter(1):\n",
    "    #if i != (0, 0):\n",
    "    # Force production to zero if the system is off (on_atr_ccs_r == 0)\n",
    "    milp_cost.cons15.add(expr = milp_cost.P['HO', 'ATR_CCS_R', *i] <= 20000 * milp_cost.on_atr_ccs_r[i])\n",
    "\n",
    "# For ATR_CCS_OC\n",
    "milp_cost.cons16 = ConstraintList()\n",
    "for i in scales.scale_iter(1):\n",
    "    #if i != (0, 0):\n",
    "    # Force production to zero if the system is off (on_atr_ccs_oc == 0)\n",
    "    milp_cost.cons16.add(expr = milp_cost.P['HO', 'ATR_CCS_OC', *i] <= 20000 * milp_cost.on_atr_ccs_oc[i])\n",
    "\n",
    "# For ATR_CCS_R_OC\n",
    "milp_cost.cons17 = ConstraintList()\n",
    "for i in scales.scale_iter(1):\n",
    "    #if i != (0, 0):\n",
    "    # Force production to zero if the system is off (on_atr_ccs_r_oc == 0)\n",
    "    milp_cost.cons17.add(expr = milp_cost.P['HO', 'ATR_CCS_R_OC', *i] <= 20000 * milp_cost.on_atr_ccs_r_oc[i])\n"
   ]
  },
  {
   "cell_type": "code",
   "execution_count": null,
   "metadata": {},
   "outputs": [],
   "source": [
    "results_cost = solve(scenario=scenario, instance=milp_cost,\n",
    "                     solver='gurobi', name=f\"res_cost\", print_solversteps=True, saveformat = '.pkl')\n"
   ]
  },
  {
   "cell_type": "code",
   "execution_count": null,
   "metadata": {},
   "outputs": [],
   "source": [
    "plot_results.schedule(results = results_cost, y_axis= 'P', component = 'SMR', location='HO')"
   ]
  },
  {
   "cell_type": "code",
   "execution_count": null,
   "metadata": {},
   "outputs": [],
   "source": [
    "results_cost.output['objective']"
   ]
  },
  {
   "cell_type": "code",
   "execution_count": null,
   "metadata": {},
   "outputs": [],
   "source": [
    "results_cost.output['global_warming_potential_location']"
   ]
  },
  {
   "cell_type": "code",
   "execution_count": null,
   "metadata": {},
   "outputs": [],
   "source": [
    "results_cost.output['P']"
   ]
  },
  {
   "cell_type": "code",
   "execution_count": null,
   "metadata": {},
   "outputs": [],
   "source": [
    "milp_gwp = formulate(scenario=scenario, constraints={Constraints.COST, Constraints.INVENTORY, Constraints.PRODUCTION,\n",
    "                     Constraints.RESOURCE_BALANCE, Constraints.DEMAND, Constraints.EMISSION}, objective=Objective.MIN_GWP, demand_sign = 'eq')"
   ]
  },
  {
   "cell_type": "code",
   "execution_count": null,
   "metadata": {},
   "outputs": [],
   "source": [
    "\n",
    "from pyomo.environ import ConstraintList\n",
    "\n",
    "ramping_limit = 1000\n",
    "\n",
    "milp_gwp.cons2 = ConstraintList()\n",
    "for i in scales.scale_iter(1):\n",
    "    if i != (0,0):\n",
    "        milp_gwp.cons2.add(expr = milp_gwp.P['HO', 'SMR', *i] - milp_gwp.P['HO', 'SMR', *scales.scale_iter(2)[scales.scale_iter(1).index(i) - 1]] <= ramping_limit)\n",
    "\n",
    "milp_gwp.cons3 = ConstraintList()\n",
    "for i in scales.scale_iter(1):\n",
    "    if i != (0,0):\n",
    "        milp_gwp.cons3.add(expr = milp_gwp.P['HO', 'SMR', *i] - milp_gwp.P['HO', 'SMR', *scales.scale_iter(2)[scales.scale_iter(1).index(i) - 1]] >= -ramping_limit)"
   ]
  },
  {
   "cell_type": "code",
   "execution_count": null,
   "metadata": {},
   "outputs": [],
   "source": [
    "# # model.component\n",
    "\n",
    "# from pyomo.environ import ConstraintList\n",
    "# milp_gwp.cons3 = ConstraintList()\n",
    "# for i in scales.scale_iter(2):\n",
    "#     milp_gwp.cons3.add(expr = milp_gwp.P['HO', 'SMRCCS', *i] >= 5)"
   ]
  },
  {
   "cell_type": "code",
   "execution_count": null,
   "metadata": {},
   "outputs": [],
   "source": [
    "results_gwp = solve(scenario=scenario, instance=milp_gwp,\n",
    "                     solver='gurobi', name=f\"res_gwp\", print_solversteps=True, saveformat = '.pkl')"
   ]
  },
  {
   "cell_type": "code",
   "execution_count": null,
   "metadata": {},
   "outputs": [],
   "source": [
    "#plot_results.schedule(results = results_gwp, y_axis= 'P', component = 'PEM', location='HO')"
   ]
  },
  {
   "cell_type": "code",
   "execution_count": null,
   "metadata": {},
   "outputs": [],
   "source": [
    "results_gwp.model_summary()"
   ]
  },
  {
   "cell_type": "code",
   "execution_count": null,
   "metadata": {},
   "outputs": [],
   "source": [
    "results_gwp.output['Cost']"
   ]
  },
  {
   "cell_type": "code",
   "execution_count": null,
   "metadata": {},
   "outputs": [],
   "source": [
    "results_gwp.output['objective']"
   ]
  },
  {
   "cell_type": "code",
   "execution_count": null,
   "metadata": {},
   "outputs": [],
   "source": [
    "results_gwp.output['global_warming_potential_resource']"
   ]
  },
  {
   "cell_type": "code",
   "execution_count": null,
   "metadata": {},
   "outputs": [],
   "source": [
    "#results_scope2.output['P_network']"
   ]
  },
  {
   "cell_type": "code",
   "execution_count": null,
   "metadata": {},
   "outputs": [],
   "source": [
    "results_gwp.output['P_network']"
   ]
  },
  {
   "cell_type": "code",
   "execution_count": null,
   "metadata": {},
   "outputs": [],
   "source": [
    "results_gwp.output['P']"
   ]
  },
  {
   "cell_type": "code",
   "execution_count": null,
   "metadata": {},
   "outputs": [],
   "source": [
    "# data = results_gwp.output['P']\n",
    "# df = pd.DataFrame(data,index=[0])\n",
    "# df = df.T\n",
    "# # Export the DataFrame to an Excel file\n",
    "# df.to_excel('C:/Users/marcopdsousa/Desktop/Dataframes/ScopeFormulation/mingwpP.xlsx', index=True)"
   ]
  },
  {
   "cell_type": "code",
   "execution_count": null,
   "metadata": {},
   "outputs": [],
   "source": [
    "#, Constraints.MODE\n",
    "\n",
    "milp_scope1 = formulate(scenario=scenario, constraints={Constraints.COST, Constraints.INVENTORY, Constraints.PRODUCTION,\n",
    "                      Constraints.RESOURCE_BALANCE, Constraints.NETWORK, Constraints.DEMAND, Constraints.SCOPEONE}, objective=Objective.MIN_ScopeONE_GWP, demand_sign = 'eq')\n",
    "\n",
    "#, Constraints.SCOPEONE\n",
    "\n",
    "#, Constraints.EMISSION"
   ]
  },
  {
   "cell_type": "markdown",
   "metadata": {},
   "source": []
  },
  {
   "cell_type": "code",
   "execution_count": null,
   "metadata": {},
   "outputs": [],
   "source": [
    "# # model.component\n",
    "\n",
    "# from pyomo.environ import ConstraintList\n",
    "# milp_scope1.cons1 = ConstraintList()\n",
    "# for i in scales.scale_iter(2):\n",
    "#     milp_scope1.cons1.add(expr = milp_scope1.P['HO', 'SMR', *i] >= 5)"
   ]
  },
  {
   "cell_type": "code",
   "execution_count": null,
   "metadata": {},
   "outputs": [],
   "source": [
    "# model.component\n",
    "\n",
    "from pyomo.environ import ConstraintList\n",
    "\n",
    "ramping_limit = 1000\n",
    "\n",
    "milp_scope1.cons2 = ConstraintList()\n",
    "for i in scales.scale_iter(1):\n",
    "    if i != (0,0):\n",
    "        milp_scope1.cons2.add(expr = milp_scope1.P['HO', 'SMR', *i] - milp_scope1.P['HO', 'SMR', *scales.scale_iter(2)[scales.scale_iter(1).index(i) - 1]] <= ramping_limit)\n",
    "\n",
    "milp_scope1.cons3 = ConstraintList()\n",
    "for i in scales.scale_iter(1):\n",
    "    if i != (0,0):\n",
    "        milp_scope1.cons3.add(expr = milp_scope1.P['HO', 'SMR', *i] - milp_scope1.P['HO', 'SMR', *scales.scale_iter(2)[scales.scale_iter(1).index(i) - 1]] >= -ramping_limit)"
   ]
  },
  {
   "attachments": {},
   "cell_type": "markdown",
   "metadata": {},
   "source": [
    "## Optimize to minimize cost"
   ]
  },
  {
   "cell_type": "code",
   "execution_count": null,
   "metadata": {},
   "outputs": [],
   "source": [
    "results_scope1 = solve(scenario=scenario, instance=milp_scope1,\n",
    "                     solver='gurobi', name=f\"res_scope1\", print_solversteps=True, saveformat = '.pkl')\n"
   ]
  },
  {
   "cell_type": "code",
   "execution_count": null,
   "metadata": {},
   "outputs": [],
   "source": [
    "#plot_results.schedule(results = results_scope1, y_axis= 'P', component = 'PEM', location='HO')"
   ]
  },
  {
   "cell_type": "code",
   "execution_count": null,
   "metadata": {},
   "outputs": [],
   "source": [
    "results_scope1.output['P_network']"
   ]
  },
  {
   "cell_type": "code",
   "execution_count": null,
   "metadata": {},
   "outputs": [],
   "source": [
    "results_scope1.output['Cost']"
   ]
  },
  {
   "cell_type": "code",
   "execution_count": null,
   "metadata": {},
   "outputs": [],
   "source": [
    "results_scope1.output['objective']"
   ]
  },
  {
   "cell_type": "code",
   "execution_count": null,
   "metadata": {},
   "outputs": [],
   "source": [
    "results_scope1.output['P']"
   ]
  },
  {
   "cell_type": "code",
   "execution_count": null,
   "metadata": {},
   "outputs": [],
   "source": [
    "# data = results_scope1.output['P']\n",
    "# df = pd.DataFrame(data,index=[0])\n",
    "# df = df.T\n",
    "# # Export the DataFrame to an Excel file\n",
    "# df.to_excel('C:/Users/marcopdsousa/Desktop/Dataframes/ScopeFormulation/minscope1.xlsx', index=True)"
   ]
  },
  {
   "cell_type": "code",
   "execution_count": null,
   "metadata": {},
   "outputs": [],
   "source": [
    "#, Constraints.MODE\n",
    "\n",
    "milp_scope2 = formulate(scenario=scenario, constraints={Constraints.COST, Constraints.INVENTORY, Constraints.PRODUCTION,\n",
    "                      Constraints.RESOURCE_BALANCE, Constraints.NETWORK, Constraints.DEMAND, Constraints.SCOPETWO}, objective=Objective.MIN_ScopeTWO_GWP, demand_sign = 'eq')\n",
    "\n",
    "#, Constraints.SCOPEONE\n",
    "\n",
    "#, Constraints.EMISSION"
   ]
  },
  {
   "cell_type": "code",
   "execution_count": null,
   "metadata": {},
   "outputs": [],
   "source": [
    "# # model.component\n",
    "\n",
    "# from pyomo.environ import ConstraintList\n",
    "# milp_scope2.cons1 = ConstraintList()\n",
    "# for i in scales.scale_iter(2):\n",
    "#     milp_scope2.cons1.add(expr = milp_scope2.P['HO', 'SMR', *i] >= 5)"
   ]
  },
  {
   "cell_type": "code",
   "execution_count": null,
   "metadata": {},
   "outputs": [],
   "source": [
    "# model.component\n",
    "\n",
    "from pyomo.environ import ConstraintList\n",
    "\n",
    "ramping_limit = 1000\n",
    "\n",
    "milp_scope2.cons2 = ConstraintList()\n",
    "for i in scales.scale_iter(1):\n",
    "    if i != (0,0):\n",
    "        milp_scope2.cons2.add(expr = milp_scope2.P['HO', 'SMR', *i] - milp_scope2.P['HO', 'SMR', *scales.scale_iter(2)[scales.scale_iter(1).index(i) - 1]] <= ramping_limit)\n",
    "\n",
    "milp_scope2.cons3 = ConstraintList()\n",
    "for i in scales.scale_iter(1):\n",
    "    if i != (0,0):\n",
    "        milp_scope2.cons3.add(expr = milp_scope2.P['HO', 'SMR', *i] - milp_scope2.P['HO', 'SMR', *scales.scale_iter(2)[scales.scale_iter(1).index(i) - 1]] >= -ramping_limit)"
   ]
  },
  {
   "cell_type": "code",
   "execution_count": null,
   "metadata": {},
   "outputs": [],
   "source": [
    "results_scope2 = solve(scenario=scenario, instance=milp_scope2,\n",
    "                     solver='gurobi', name=f\"res_scope2\", print_solversteps=True, saveformat = '.pkl')"
   ]
  },
  {
   "cell_type": "code",
   "execution_count": null,
   "metadata": {},
   "outputs": [],
   "source": [
    "results_scope2.output['C_network']"
   ]
  },
  {
   "cell_type": "code",
   "execution_count": null,
   "metadata": {},
   "outputs": [],
   "source": [
    "results_scope2.output['global_warming_potential_resource_scope2']"
   ]
  },
  {
   "cell_type": "code",
   "execution_count": null,
   "metadata": {},
   "outputs": [],
   "source": [
    "#plot_results.schedule(results = results_scope2, y_axis= 'P', component = 'PEM', location='HO')"
   ]
  },
  {
   "cell_type": "code",
   "execution_count": null,
   "metadata": {},
   "outputs": [],
   "source": [
    "plot_results.schedule(results = results_scope2, y_axis= 'P', component = 'SMR', location='HO')"
   ]
  },
  {
   "cell_type": "code",
   "execution_count": null,
   "metadata": {},
   "outputs": [],
   "source": [
    "results_scope2.output['P']"
   ]
  },
  {
   "cell_type": "code",
   "execution_count": null,
   "metadata": {},
   "outputs": [],
   "source": [
    "results_scope2.output['P_network']"
   ]
  },
  {
   "cell_type": "code",
   "execution_count": null,
   "metadata": {},
   "outputs": [],
   "source": [
    "results_scope2.output['Cost']"
   ]
  },
  {
   "cell_type": "code",
   "execution_count": null,
   "metadata": {},
   "outputs": [],
   "source": [
    "results_scope2.output['objective']"
   ]
  },
  {
   "cell_type": "code",
   "execution_count": null,
   "metadata": {},
   "outputs": [],
   "source": [
    "# data = results_scope2.output['P']\n",
    "# df = pd.DataFrame(data,index=[0])\n",
    "# df = df.T\n",
    "# # Export the DataFrame to an Excel file\n",
    "# df.to_excel('C:/Users/marcopdsousa/Desktop/Dataframes/ScopeFormulation/minscope2.xlsx', index=True)"
   ]
  },
  {
   "cell_type": "code",
   "execution_count": null,
   "metadata": {},
   "outputs": [],
   "source": [
    "results_scope2.output['global_warming_potential_location']"
   ]
  },
  {
   "cell_type": "code",
   "execution_count": null,
   "metadata": {},
   "outputs": [],
   "source": [
    "#, Constraints.MODE\n",
    "\n",
    "milp_gwp = formulate(scenario=scenario, constraints={Constraints.COST, Constraints.INVENTORY, Constraints.PRODUCTION,\n",
    "                      Constraints.RESOURCE_BALANCE, Constraints.NETWORK, Constraints.DEMAND, Constraints.EMISSION}, objective=Objective.MIN_GWP, demand_sign = 'eq')\n",
    "\n",
    "#, Constraints.SCOPEONE\n",
    "\n",
    "#, Constraints.EMISSION"
   ]
  },
  {
   "cell_type": "code",
   "execution_count": null,
   "metadata": {},
   "outputs": [],
   "source": [
    "results_gwp = solve(scenario=scenario, instance=milp_gwp,\n",
    "                     solver='gurobi', name=f\"res_gwp\", print_solversteps=True, saveformat = '.pkl')"
   ]
  },
  {
   "cell_type": "code",
   "execution_count": null,
   "metadata": {},
   "outputs": [],
   "source": [
    "results_gwp.output['P_network']"
   ]
  },
  {
   "cell_type": "code",
   "execution_count": null,
   "metadata": {},
   "outputs": [],
   "source": [
    "plot_results.schedule(results = results_scope1, y_axis= 'P', component = 'PEM', location='HO')"
   ]
  },
  {
   "cell_type": "code",
   "execution_count": null,
   "metadata": {},
   "outputs": [],
   "source": [
    "results_scope1.output['global_warming_potential_resource_scope1']"
   ]
  },
  {
   "cell_type": "code",
   "execution_count": null,
   "metadata": {},
   "outputs": [],
   "source": [
    "results_scope1.output['P']"
   ]
  },
  {
   "cell_type": "code",
   "execution_count": null,
   "metadata": {},
   "outputs": [],
   "source": [
    "\n",
    "data = results_cost.output['P']"
   ]
  },
  {
   "cell_type": "code",
   "execution_count": null,
   "metadata": {},
   "outputs": [],
   "source": [
    "df = pd.DataFrame(data,index=[0])"
   ]
  },
  {
   "cell_type": "code",
   "execution_count": null,
   "metadata": {},
   "outputs": [],
   "source": [
    "df"
   ]
  },
  {
   "cell_type": "code",
   "execution_count": null,
   "metadata": {},
   "outputs": [],
   "source": [
    "df=df.T"
   ]
  },
  {
   "cell_type": "code",
   "execution_count": null,
   "metadata": {},
   "outputs": [],
   "source": [
    "# # Export the DataFrame to an Excel file\n",
    "# df.to_excel('C:/Users/marcopdsousa/Desktop/Dataframes/mincostprod.xlsx', index=True)"
   ]
  },
  {
   "cell_type": "code",
   "execution_count": null,
   "metadata": {},
   "outputs": [],
   "source": [
    "# data = results_cost.output['global_warming_potential_resource']\n",
    "# df = pd.DataFrame(data,index=[0])\n",
    "# df = df.T\n",
    "# # Export the DataFrame to an Excel file\n",
    "# df.to_excel('C:/Users/marcopdsousa/Desktop/Dataframes/mincostresource_emission.xlsx', index=True)"
   ]
  },
  {
   "cell_type": "code",
   "execution_count": null,
   "metadata": {},
   "outputs": [],
   "source": [
    "milp_scope1.constraint_inventory_balance.pprint()"
   ]
  },
  {
   "cell_type": "code",
   "execution_count": null,
   "metadata": {},
   "outputs": [],
   "source": [
    "results_scope1.output['objective']"
   ]
  },
  {
   "cell_type": "code",
   "execution_count": null,
   "metadata": {},
   "outputs": [],
   "source": [
    "results_scope1.output['Cost']"
   ]
  },
  {
   "cell_type": "code",
   "execution_count": null,
   "metadata": {},
   "outputs": [],
   "source": [
    "# plot_results.cost(results=results_cost, x=CostX.PROCESS_WISE,\n",
    "#                   y=CostY.TOTAL, location='HO', fig_size=(11, 6), )\n",
    "# #plt.rc('xtick', titlesize=8, labelsize=8)\n",
    "# plt.xticks(fontsize=10, rotation=45, ha='right')"
   ]
  },
  {
   "cell_type": "code",
   "execution_count": null,
   "metadata": {},
   "outputs": [],
   "source": [
    "results_scope1.output['global_warming_potential_location_scope1']"
   ]
  },
  {
   "cell_type": "code",
   "execution_count": null,
   "metadata": {},
   "outputs": [],
   "source": [
    "results_cost.output['P_network']"
   ]
  },
  {
   "cell_type": "code",
   "execution_count": null,
   "metadata": {},
   "outputs": [],
   "source": [
    "results_scope1.output['global_warming_potential_resource_scope1']"
   ]
  },
  {
   "cell_type": "code",
   "execution_count": null,
   "metadata": {},
   "outputs": [],
   "source": [
    "results_scope1.output['global_warming_potential_process']"
   ]
  },
  {
   "cell_type": "code",
   "execution_count": null,
   "metadata": {},
   "outputs": [],
   "source": [
    "milp_gwp = formulate(scenario=scenario, constraints={Constraints.COST, Constraints.INVENTORY, Constraints.PRODUCTION,\n",
    "                     Constraints.RESOURCE_BALANCE, Constraints.NETWORK, Constraints.DEMAND, Constraints.EMISSION}, objective=Objective.MIN_GWP, demand_sign = 'eq')"
   ]
  },
  {
   "cell_type": "code",
   "execution_count": null,
   "metadata": {},
   "outputs": [],
   "source": [
    "\n",
    "from pyomo.environ import ConstraintList\n",
    "\n",
    "ramping_limit = 3\n",
    "\n",
    "milp_gwp.cons1 = ConstraintList()\n",
    "for i in scales.scale_iter(1):\n",
    "    if i != (0,0):\n",
    "        milp_gwp.cons1.add(expr = milp_gwp.P['HO', 'PEM', *i] - milp_gwp.P['HO', 'PEM', *scales.scale_iter(2)[scales.scale_iter(1).index(i) - 1]] <= ramping_limit)\n"
   ]
  },
  {
   "cell_type": "code",
   "execution_count": null,
   "metadata": {},
   "outputs": [],
   "source": [
    "\n",
    "from pyomo.environ import ConstraintList\n",
    "\n",
    "ramping_limit = 3\n",
    "\n",
    "milp_gwp.cons2 = ConstraintList()\n",
    "for i in scales.scale_iter(1):\n",
    "    if i != (0,0):\n",
    "        milp_gwp.cons2.add(expr = milp_gwp.P['HO', 'SMR', *i] - milp_gwp.P['HO', 'SMR', *scales.scale_iter(2)[scales.scale_iter(1).index(i) - 1]] <= ramping_limit)"
   ]
  },
  {
   "cell_type": "code",
   "execution_count": null,
   "metadata": {},
   "outputs": [],
   "source": [
    "# model.component\n",
    "\n",
    "from pyomo.environ import ConstraintList\n",
    "milp_gwp.cons3 = ConstraintList()\n",
    "for i in scales.scale_iter(2):\n",
    "    milp_gwp.cons3.add(expr = milp_gwp.P['HO', 'SMRCCS', *i] >= 5)"
   ]
  },
  {
   "cell_type": "code",
   "execution_count": null,
   "metadata": {},
   "outputs": [],
   "source": [
    "milp_gwp.constraint_resource_purchase_varying.pprint()"
   ]
  },
  {
   "cell_type": "code",
   "execution_count": null,
   "metadata": {},
   "outputs": [],
   "source": [
    "results_gwp = solve(scenario=scenario, instance=milp_gwp,\n",
    "                     solver='gurobi', name=f\"res_gwp\", print_solversteps=True, saveformat = '.pkl')"
   ]
  },
  {
   "cell_type": "code",
   "execution_count": null,
   "metadata": {},
   "outputs": [],
   "source": [
    "plot_results.schedule(results = results_gwp, y_axis= 'P', component = 'PEM', location='HO')"
   ]
  },
  {
   "cell_type": "code",
   "execution_count": null,
   "metadata": {},
   "outputs": [],
   "source": [
    "results_gwp.output['Cost']"
   ]
  },
  {
   "cell_type": "code",
   "execution_count": null,
   "metadata": {},
   "outputs": [],
   "source": [
    "results_gwp.output['P']"
   ]
  },
  {
   "cell_type": "code",
   "execution_count": null,
   "metadata": {},
   "outputs": [],
   "source": [
    "# data = results_gwp.output['P']\n",
    "# df = pd.DataFrame(data,index=[0])\n",
    "# df = df.T\n",
    "# # Export the DataFrame to an Excel file\n",
    "# df.to_excel('C:/Users/marcopdsousa/Desktop/Dataframes/mingwpprod.xlsx', index=True)"
   ]
  },
  {
   "cell_type": "code",
   "execution_count": null,
   "metadata": {},
   "outputs": [],
   "source": [
    "results_cost.output['Cap_P']"
   ]
  },
  {
   "cell_type": "code",
   "execution_count": null,
   "metadata": {},
   "outputs": [],
   "source": [
    "results_gwp.output['Cap_P']"
   ]
  },
  {
   "cell_type": "code",
   "execution_count": null,
   "metadata": {},
   "outputs": [],
   "source": [
    "milp_gwp.constraint_global_warming_potential_resource.pprint()"
   ]
  },
  {
   "cell_type": "code",
   "execution_count": null,
   "metadata": {},
   "outputs": [],
   "source": [
    "scenario.resource_gwp_dict"
   ]
  },
  {
   "cell_type": "code",
   "execution_count": null,
   "metadata": {},
   "outputs": [],
   "source": [
    "results_gwp.output['X_P']"
   ]
  },
  {
   "cell_type": "code",
   "execution_count": null,
   "metadata": {},
   "outputs": [],
   "source": [
    "results_cost.output['X_P']"
   ]
  },
  {
   "cell_type": "code",
   "execution_count": null,
   "metadata": {},
   "outputs": [],
   "source": [
    "results_gwp.output['Cap_P']"
   ]
  },
  {
   "cell_type": "code",
   "execution_count": null,
   "metadata": {},
   "outputs": [],
   "source": [
    "results_cost.output['Cap_P']"
   ]
  },
  {
   "cell_type": "code",
   "execution_count": null,
   "metadata": {},
   "outputs": [],
   "source": [
    "results_gwp.output['Capex_network']"
   ]
  },
  {
   "cell_type": "code",
   "execution_count": null,
   "metadata": {},
   "outputs": [],
   "source": [
    "results_gwp.output['Fopex_network']"
   ]
  },
  {
   "cell_type": "code",
   "execution_count": null,
   "metadata": {},
   "outputs": [],
   "source": [
    "results_gwp.output['Vopex_network']"
   ]
  },
  {
   "cell_type": "code",
   "execution_count": null,
   "metadata": {},
   "outputs": [],
   "source": [
    "results_gwp.output['B_network']"
   ]
  },
  {
   "cell_type": "code",
   "execution_count": null,
   "metadata": {},
   "outputs": [],
   "source": [
    "results_cost.output['B_network']"
   ]
  },
  {
   "cell_type": "code",
   "execution_count": null,
   "metadata": {},
   "outputs": [],
   "source": [
    "results_cost.output['C_network']"
   ]
  },
  {
   "cell_type": "code",
   "execution_count": null,
   "metadata": {},
   "outputs": [],
   "source": [
    "results_cost.output['P']['HO','SMR',0,0]"
   ]
  },
  {
   "cell_type": "code",
   "execution_count": null,
   "metadata": {},
   "outputs": [],
   "source": [
    "print([(key, value) for key, value in results_cost.output['P'].items() if key[1]=='SMR'])"
   ]
  },
  {
   "cell_type": "code",
   "execution_count": null,
   "metadata": {},
   "outputs": [],
   "source": [
    "[results_cost.output['P'][('HO', 'SMR', *i)] for i in scales.scale_iter(2)]"
   ]
  },
  {
   "cell_type": "code",
   "execution_count": null,
   "metadata": {},
   "outputs": [],
   "source": [
    "results_cost.output['C']"
   ]
  },
  {
   "cell_type": "code",
   "execution_count": null,
   "metadata": {},
   "outputs": [],
   "source": [
    "print([(key, value) for key, value in results_cost.output['P'].items() if key[1]=='SMR'])"
   ]
  },
  {
   "cell_type": "code",
   "execution_count": null,
   "metadata": {},
   "outputs": [],
   "source": [
    "results_cost.output['C']"
   ]
  },
  {
   "cell_type": "code",
   "execution_count": null,
   "metadata": {},
   "outputs": [],
   "source": [
    "results_cost.output['P_network']"
   ]
  },
  {
   "cell_type": "code",
   "execution_count": null,
   "metadata": {},
   "outputs": [],
   "source": [
    "results_gwp.output['P_network']"
   ]
  },
  {
   "cell_type": "code",
   "execution_count": null,
   "metadata": {},
   "outputs": [],
   "source": [
    "PEM.conversion[Power]/SMR.conversion[Power]"
   ]
  },
  {
   "cell_type": "code",
   "execution_count": null,
   "metadata": {},
   "outputs": [],
   "source": [
    "SMR.conversion[Power]"
   ]
  },
  {
   "cell_type": "code",
   "execution_count": null,
   "metadata": {},
   "outputs": [],
   "source": [
    "SMRCCS.conversion[Power]"
   ]
  },
  {
   "cell_type": "code",
   "execution_count": null,
   "metadata": {},
   "outputs": [],
   "source": [
    "results_cost.output['Cap_P']"
   ]
  },
  {
   "cell_type": "code",
   "execution_count": null,
   "metadata": {},
   "outputs": [],
   "source": [
    "results_cost.output['S_network']"
   ]
  },
  {
   "cell_type": "code",
   "execution_count": null,
   "metadata": {},
   "outputs": [],
   "source": [
    "results_gwp.output['S_network']"
   ]
  },
  {
   "cell_type": "code",
   "execution_count": null,
   "metadata": {},
   "outputs": [],
   "source": [
    "results_gwp.output['Cost']"
   ]
  },
  {
   "cell_type": "code",
   "execution_count": null,
   "metadata": {},
   "outputs": [],
   "source": [
    "results_gwp.output['X_P']"
   ]
  },
  {
   "cell_type": "code",
   "execution_count": null,
   "metadata": {},
   "outputs": [],
   "source": [
    "results_gwp.output['Cap_P']"
   ]
  },
  {
   "cell_type": "code",
   "execution_count": null,
   "metadata": {},
   "outputs": [],
   "source": [
    "results_cost.output['objective']"
   ]
  },
  {
   "cell_type": "code",
   "execution_count": null,
   "metadata": {},
   "outputs": [],
   "source": [
    "results_gwp.output['objective']"
   ]
  },
  {
   "cell_type": "code",
   "execution_count": null,
   "metadata": {},
   "outputs": [],
   "source": [
    "results_cost.output['global_warming_potential_network']"
   ]
  },
  {
   "cell_type": "code",
   "execution_count": null,
   "metadata": {},
   "outputs": [],
   "source": [
    "results_gwp.output['global_warming_potential_network']"
   ]
  },
  {
   "cell_type": "code",
   "execution_count": null,
   "metadata": {},
   "outputs": [],
   "source": [
    "results_gwp.output['global_warming_potential_resource']"
   ]
  },
  {
   "cell_type": "code",
   "execution_count": null,
   "metadata": {},
   "outputs": [],
   "source": [
    "results_gwp.output['P_network']"
   ]
  },
  {
   "cell_type": "code",
   "execution_count": null,
   "metadata": {},
   "outputs": [],
   "source": [
    "results_cost.output['P_network']"
   ]
  },
  {
   "cell_type": "code",
   "execution_count": null,
   "metadata": {},
   "outputs": [],
   "source": [
    "results_gwp.output"
   ]
  },
  {
   "cell_type": "code",
   "execution_count": null,
   "metadata": {},
   "outputs": [],
   "source": [
    "\n",
    "# plot_results.gwp(results=results_gwp, x=CostX.PROCESS_WISE,\n",
    "#                   y=CostY.TOTAL, location='HO', fig_size=(11, 6), )\n",
    "# #plt.rc('xtick', titlesize=8, labelsize=8)\n",
    "# plt.xticks(fontsize=10, rotation=45, ha='right')"
   ]
  },
  {
   "cell_type": "code",
   "execution_count": null,
   "metadata": {},
   "outputs": [],
   "source": [
    "results_gwp.output['global_warming_potential_location']"
   ]
  },
  {
   "cell_type": "code",
   "execution_count": null,
   "metadata": {},
   "outputs": [],
   "source": [
    "results_gwp.output['P_network']"
   ]
  },
  {
   "cell_type": "markdown",
   "metadata": {},
   "source": [
    "EMISSION RESTRICTIONS"
   ]
  },
  {
   "cell_type": "code",
   "execution_count": null,
   "metadata": {},
   "outputs": [],
   "source": [
    "milp_gwp_10 = formulate(scenario=scenario, constraints={Constraints.COST, Constraints.INVENTORY, Constraints.PRODUCTION,\n",
    "                     Constraints.RESOURCE_BALANCE, Constraints.NETWORK, Constraints.DEMAND, Constraints.EMISSION}, objective=Objective.COST, demand_sign = 'eq')\n",
    "\n",
    "from energiapy.model.constraints.emission import constraint_global_warming_potential_network_reduction\n",
    "constraint_global_warming_potential_network_reduction(instance= milp_gwp_10, network_scale_level = 0, gwp_reduction_pct = 10, gwp = results_cost.output['global_warming_potential_network'][0])"
   ]
  },
  {
   "cell_type": "code",
   "execution_count": null,
   "metadata": {},
   "outputs": [],
   "source": [
    "from pyomo.environ import ConstraintList\n",
    "\n",
    "ramping_limit = 3\n",
    "\n",
    "milp_gwp_10.cons1 = ConstraintList()\n",
    "for i in scales.scale_iter(1):\n",
    "    if i != (0,0):\n",
    "        milp_gwp_10.cons1.add(expr = milp_gwp_10.P['HO', 'PEM', *i] - milp_gwp_10.P['HO', 'PEM', *scales.scale_iter(2)[scales.scale_iter(1).index(i) - 1]] <= ramping_limit)\n",
    "\n",
    "milp_gwp_10.cons2 = ConstraintList()\n",
    "for i in scales.scale_iter(1):\n",
    "    if i != (0,0):\n",
    "        milp_gwp_10.cons2.add(expr = milp_gwp_10.P['HO', 'SMR', *i] - milp_gwp_10.P['HO', 'SMR', *scales.scale_iter(2)[scales.scale_iter(1).index(i) - 1]] <= ramping_limit)\n",
    "\n",
    "milp_gwp_10.cons3 = ConstraintList()\n",
    "for i in scales.scale_iter(1):\n",
    "    if i != (0,0):\n",
    "        milp_gwp_10.cons3.add(expr = milp_gwp_10.P['HO', 'SMRCCS', *i] - milp_gwp_10.P['HO', 'SMRCCS', *scales.scale_iter(2)[scales.scale_iter(1).index(i) - 1]] <= ramping_limit)\n",
    "\n",
    "milp_gwp_10.cons4 = ConstraintList()\n",
    "for i in scales.scale_iter(2):\n",
    "    milp_gwp_10.cons4.add(expr = milp_gwp_10.P['HO', 'SMR', *i] >= 5)"
   ]
  },
  {
   "cell_type": "code",
   "execution_count": null,
   "metadata": {},
   "outputs": [],
   "source": [
    "results_gwp_10 = solve(scenario=scenario, instance=milp_gwp_10,\n",
    "                     solver='gurobi', name=f\"res_gwp_10\", print_solversteps=True, saveformat = '.pkl')"
   ]
  },
  {
   "cell_type": "code",
   "execution_count": null,
   "metadata": {},
   "outputs": [],
   "source": [
    "results_gwp_10.output['objective']"
   ]
  },
  {
   "cell_type": "code",
   "execution_count": null,
   "metadata": {},
   "outputs": [],
   "source": [
    "results_gwp_10.output['global_warming_potential_location']"
   ]
  },
  {
   "cell_type": "code",
   "execution_count": null,
   "metadata": {},
   "outputs": [],
   "source": [
    "results_gwp_10.output['P']"
   ]
  },
  {
   "cell_type": "code",
   "execution_count": null,
   "metadata": {},
   "outputs": [],
   "source": [
    "# data = results_gwp_10.output['P']\n",
    "# df = pd.DataFrame(data,index=[0])\n",
    "# df = df.T\n",
    "# # Export the DataFrame to an Excel file\n",
    "# df.to_excel('C:/Users/marcopdsousa/Desktop/Dataframes/mingwpprod10.xlsx', index=True)"
   ]
  },
  {
   "cell_type": "code",
   "execution_count": null,
   "metadata": {},
   "outputs": [],
   "source": [
    "# data = results_gwp_10.output['global_warming_potential_resource']\n",
    "# df = pd.DataFrame(data,index=[0])\n",
    "# df = df.T\n",
    "# # Export the DataFrame to an Excel file\n",
    "# df.to_excel('C:/Users/marcopdsousa/Desktop/Dataframes/mingwp10resource_emission.xlsx', index=True)"
   ]
  },
  {
   "cell_type": "code",
   "execution_count": null,
   "metadata": {},
   "outputs": [],
   "source": [
    "results_cost.output['global_warming_potential_resource']"
   ]
  },
  {
   "cell_type": "code",
   "execution_count": null,
   "metadata": {},
   "outputs": [],
   "source": [
    "results_gwp_10.output['global_warming_potential_resource']"
   ]
  },
  {
   "cell_type": "code",
   "execution_count": null,
   "metadata": {},
   "outputs": [],
   "source": [
    "milp_gwp_20 = formulate(scenario=scenario, constraints={Constraints.COST, Constraints.INVENTORY, Constraints.PRODUCTION,\n",
    "                     Constraints.RESOURCE_BALANCE, Constraints.NETWORK, Constraints.DEMAND, Constraints.EMISSION}, objective=Objective.COST, demand_sign = 'eq')\n",
    "\n",
    "from energiapy.model.constraints.emission import constraint_global_warming_potential_network_reduction\n",
    "constraint_global_warming_potential_network_reduction(instance= milp_gwp_20, network_scale_level = 0, gwp_reduction_pct = 20, gwp = results_cost.output['global_warming_potential_network'][0])\n"
   ]
  },
  {
   "cell_type": "code",
   "execution_count": null,
   "metadata": {},
   "outputs": [],
   "source": [
    "from pyomo.environ import ConstraintList\n",
    "\n",
    "ramping_limit = 3\n",
    "\n",
    "milp_gwp_20.cons1 = ConstraintList()\n",
    "for i in scales.scale_iter(1):\n",
    "    if i != (0,0):\n",
    "        milp_gwp_20.cons1.add(expr = milp_gwp_20.P['HO', 'PEM', *i] - milp_gwp_20.P['HO', 'PEM', *scales.scale_iter(2)[scales.scale_iter(1).index(i) - 1]] <= ramping_limit)\n",
    "\n",
    "milp_gwp_20.cons2 = ConstraintList()\n",
    "for i in scales.scale_iter(1):\n",
    "    if i != (0,0):\n",
    "        milp_gwp_20.cons2.add(expr = milp_gwp_20.P['HO', 'SMR', *i] - milp_gwp_20.P['HO', 'SMR', *scales.scale_iter(2)[scales.scale_iter(1).index(i) - 1]] <= ramping_limit)\n",
    "\n",
    "milp_gwp_20.cons3 = ConstraintList()\n",
    "for i in scales.scale_iter(1):\n",
    "    if i != (0,0):\n",
    "        milp_gwp_20.cons3.add(expr = milp_gwp_20.P['HO', 'SMRCCS', *i] - milp_gwp_20.P['HO', 'SMRCCS', *scales.scale_iter(2)[scales.scale_iter(1).index(i) - 1]] <= ramping_limit)\n",
    "\n",
    "milp_gwp_20.cons4 = ConstraintList()\n",
    "for i in scales.scale_iter(2):\n",
    "    milp_gwp_20.cons4.add(expr = milp_gwp_20.P['HO', 'SMR', *i] >= 5)"
   ]
  },
  {
   "cell_type": "code",
   "execution_count": null,
   "metadata": {},
   "outputs": [],
   "source": [
    "results_gwp_20 = solve(scenario=scenario, instance=milp_gwp_20,\n",
    "                     solver='gurobi', name=f\"res_gwp_20\", print_solversteps=True, saveformat = '.pkl')"
   ]
  },
  {
   "cell_type": "code",
   "execution_count": null,
   "metadata": {},
   "outputs": [],
   "source": [
    "results_gwp_20.output['objective']\n"
   ]
  },
  {
   "cell_type": "code",
   "execution_count": null,
   "metadata": {},
   "outputs": [],
   "source": [
    "results_gwp_20.output['P']"
   ]
  },
  {
   "cell_type": "code",
   "execution_count": null,
   "metadata": {},
   "outputs": [],
   "source": [
    "results_gwp_20.output['global_warming_potential_location']"
   ]
  },
  {
   "cell_type": "code",
   "execution_count": null,
   "metadata": {},
   "outputs": [],
   "source": [
    "results_gwp_20.output['global_warming_potential_resource']"
   ]
  },
  {
   "cell_type": "code",
   "execution_count": null,
   "metadata": {},
   "outputs": [],
   "source": [
    "results_gwp_20.output['P_network']"
   ]
  },
  {
   "cell_type": "code",
   "execution_count": null,
   "metadata": {},
   "outputs": [],
   "source": [
    "# data = results_gwp_20.output['P']\n",
    "# df = pd.DataFrame(data,index=[0])\n",
    "# df = df.T\n",
    "# # Export the DataFrame to an Excel file\n",
    "# df.to_excel('C:/Users/marcopdsousa/Desktop/Dataframes/mingwpprod20.xlsx', index=True)"
   ]
  },
  {
   "cell_type": "code",
   "execution_count": null,
   "metadata": {},
   "outputs": [],
   "source": [
    "# data = results_gwp_20.output['global_warming_potential_resource']\n",
    "# df = pd.DataFrame(data,index=[0])\n",
    "# df = df.T\n",
    "# # Export the DataFrame to an Excel file\n",
    "# df.to_excel('C:/Users/marcopdsousa/Desktop/Dataframes/mingwp20resource_emission.xlsx', index=True)"
   ]
  },
  {
   "cell_type": "code",
   "execution_count": null,
   "metadata": {},
   "outputs": [],
   "source": [
    "results_gwp_20.output[\"objective\"]"
   ]
  },
  {
   "cell_type": "code",
   "execution_count": null,
   "metadata": {},
   "outputs": [],
   "source": [
    "milp_gwp_30 = formulate(scenario=scenario, constraints={Constraints.COST, Constraints.INVENTORY, Constraints.PRODUCTION,\n",
    "                     Constraints.RESOURCE_BALANCE, Constraints.NETWORK, Constraints.DEMAND, Constraints.EMISSION}, objective=Objective.COST, demand_sign = 'eq')\n",
    "\n",
    "from energiapy.model.constraints.emission import constraint_global_warming_potential_network_reduction\n",
    "constraint_global_warming_potential_network_reduction(instance= milp_gwp_30, network_scale_level = 0, gwp_reduction_pct = 30, gwp = results_cost.output['global_warming_potential_network'][0])\n",
    "\n",
    "\n",
    "\n"
   ]
  },
  {
   "cell_type": "code",
   "execution_count": null,
   "metadata": {},
   "outputs": [],
   "source": [
    "from pyomo.environ import ConstraintList\n",
    "\n",
    "ramping_limit = 3\n",
    "\n",
    "milp_gwp_30.cons1 = ConstraintList()\n",
    "for i in scales.scale_iter(1):\n",
    "    if i != (0,0):\n",
    "        milp_gwp_30.cons1.add(expr = milp_gwp_30.P['HO', 'PEM', *i] - milp_gwp_30.P['HO', 'PEM', *scales.scale_iter(2)[scales.scale_iter(1).index(i) - 1]] <= ramping_limit)\n",
    "\n",
    "milp_gwp_30.cons2 = ConstraintList()\n",
    "for i in scales.scale_iter(1):\n",
    "    if i != (0,0):\n",
    "        milp_gwp_30.cons2.add(expr = milp_gwp_30.P['HO', 'SMR', *i] - milp_gwp_30.P['HO', 'SMR', *scales.scale_iter(2)[scales.scale_iter(1).index(i) - 1]] <= ramping_limit)\n",
    "\n",
    "milp_gwp_30.cons3 = ConstraintList()\n",
    "for i in scales.scale_iter(1):\n",
    "    if i != (0,0):\n",
    "        milp_gwp_30.cons3.add(expr = milp_gwp_30.P['HO', 'SMRCCS', *i] - milp_gwp_30.P['HO', 'SMRCCS', *scales.scale_iter(2)[scales.scale_iter(1).index(i) - 1]] <= ramping_limit)\n",
    "\n",
    "milp_gwp_30.cons4 = ConstraintList()\n",
    "for i in scales.scale_iter(2):\n",
    "    milp_gwp_30.cons4.add(expr = milp_gwp_30.P['HO', 'SMR', *i] >= 5)"
   ]
  },
  {
   "cell_type": "code",
   "execution_count": null,
   "metadata": {},
   "outputs": [],
   "source": [
    "results_gwp_30 = solve(scenario=scenario, instance=milp_gwp_30,\n",
    "                     solver='gurobi', name=f\"res_gwp_30\", print_solversteps=True, saveformat = '.pkl')"
   ]
  },
  {
   "cell_type": "code",
   "execution_count": null,
   "metadata": {},
   "outputs": [],
   "source": [
    "\n",
    "results_gwp_30.output['objective']"
   ]
  },
  {
   "cell_type": "code",
   "execution_count": null,
   "metadata": {},
   "outputs": [],
   "source": [
    "results_gwp_30.output['P']"
   ]
  },
  {
   "cell_type": "code",
   "execution_count": null,
   "metadata": {},
   "outputs": [],
   "source": [
    "results_gwp_30.output['global_warming_potential_location']"
   ]
  },
  {
   "cell_type": "code",
   "execution_count": null,
   "metadata": {},
   "outputs": [],
   "source": [
    "results_gwp_30.output['P_network']"
   ]
  },
  {
   "cell_type": "code",
   "execution_count": null,
   "metadata": {},
   "outputs": [],
   "source": [
    "plot_results.cost(results=results_gwp_30, x=CostX.PROCESS_WISE,\n",
    "                  y=CostY.TOTAL, location='HO', fig_size=(11, 6))"
   ]
  },
  {
   "cell_type": "code",
   "execution_count": null,
   "metadata": {},
   "outputs": [],
   "source": [
    "# data = results_gwp_30.output['P']\n",
    "# df = pd.DataFrame(data,index=[0])\n",
    "# df = df.T\n",
    "# # Export the DataFrame to an Excel file\n",
    "# df.to_excel('C:/Users/marcopdsousa/Desktop/Dataframes/mingwpprod30.xlsx', index=True)"
   ]
  },
  {
   "cell_type": "code",
   "execution_count": null,
   "metadata": {},
   "outputs": [],
   "source": [
    "results_gwp_30.output[\"objective\"]"
   ]
  },
  {
   "cell_type": "code",
   "execution_count": null,
   "metadata": {},
   "outputs": [],
   "source": [
    "# data = results_gwp_30.output['global_warming_potential_resource']\n",
    "# df = pd.DataFrame(data,index=[0])\n",
    "# df = df.T\n",
    "# # Export the DataFrame to an Excel file\n",
    "# df.to_excel('C:/Users/marcopdsousa/Desktop/Dataframes/mingwp30resource_emission.xlsx', index=True)"
   ]
  },
  {
   "cell_type": "code",
   "execution_count": null,
   "metadata": {},
   "outputs": [],
   "source": [
    "milp_gwp_40 = formulate(scenario=scenario, constraints={Constraints.COST, Constraints.INVENTORY, Constraints.PRODUCTION,\n",
    "                     Constraints.RESOURCE_BALANCE, Constraints.NETWORK, Constraints.DEMAND, Constraints.EMISSION}, objective=Objective.COST, demand_sign = 'eq')\n",
    "\n",
    "from energiapy.model.constraints.emission import constraint_global_warming_potential_network_reduction\n",
    "constraint_global_warming_potential_network_reduction(instance= milp_gwp_40, network_scale_level = 0, gwp_reduction_pct = 40, gwp = results_cost.output['global_warming_potential_network'][0])\n"
   ]
  },
  {
   "cell_type": "code",
   "execution_count": null,
   "metadata": {},
   "outputs": [],
   "source": [
    "from pyomo.environ import ConstraintList\n",
    "\n",
    "ramping_limit = 3\n",
    "\n",
    "milp_gwp_40.cons1 = ConstraintList()\n",
    "for i in scales.scale_iter(1):\n",
    "    if i != (0,0):\n",
    "        milp_gwp_40.cons1.add(expr = milp_gwp_40.P['HO', 'PEM', *i] - milp_gwp_40.P['HO', 'PEM', *scales.scale_iter(2)[scales.scale_iter(1).index(i) - 1]] <= ramping_limit)\n",
    "\n",
    "milp_gwp_40.cons2 = ConstraintList()\n",
    "for i in scales.scale_iter(1):\n",
    "    if i != (0,0):\n",
    "        milp_gwp_40.cons2.add(expr = milp_gwp_40.P['HO', 'SMR', *i] - milp_gwp_40.P['HO', 'SMR', *scales.scale_iter(2)[scales.scale_iter(1).index(i) - 1]] <= ramping_limit)\n",
    "\n",
    "milp_gwp_40.cons3 = ConstraintList()\n",
    "for i in scales.scale_iter(1):\n",
    "    if i != (0,0):\n",
    "        milp_gwp_40.cons3.add(expr = milp_gwp_40.P['HO', 'SMRCCS', *i] - milp_gwp_40.P['HO', 'SMRCCS', *scales.scale_iter(2)[scales.scale_iter(1).index(i) - 1]] <= ramping_limit)\n",
    "\n",
    "milp_gwp_40.cons4 = ConstraintList()\n",
    "for i in scales.scale_iter(2):\n",
    "    milp_gwp_40.cons4.add(expr = milp_gwp_40.P['HO', 'SMR', *i] >= 5)"
   ]
  },
  {
   "cell_type": "code",
   "execution_count": null,
   "metadata": {},
   "outputs": [],
   "source": [
    "results_gwp_40 = solve(scenario=scenario, instance=milp_gwp_40,\n",
    "                     solver='gurobi', name=f\"res_gwp_40\", print_solversteps=True, saveformat = '.pkl')"
   ]
  },
  {
   "cell_type": "code",
   "execution_count": null,
   "metadata": {},
   "outputs": [],
   "source": [
    "results_gwp_40.output['objective']"
   ]
  },
  {
   "cell_type": "code",
   "execution_count": null,
   "metadata": {},
   "outputs": [],
   "source": [
    "results_gwp_40.output['global_warming_potential_location']"
   ]
  },
  {
   "cell_type": "code",
   "execution_count": null,
   "metadata": {},
   "outputs": [],
   "source": [
    "results_gwp_40.output['global_warming_potential_resource']"
   ]
  },
  {
   "cell_type": "code",
   "execution_count": null,
   "metadata": {},
   "outputs": [],
   "source": [
    "results_gwp_40.output['P_network']"
   ]
  },
  {
   "cell_type": "code",
   "execution_count": null,
   "metadata": {},
   "outputs": [],
   "source": [
    "results_gwp_40.output['P']"
   ]
  },
  {
   "cell_type": "code",
   "execution_count": null,
   "metadata": {},
   "outputs": [],
   "source": [
    "plot_results.cost(results=results_gwp_40, x=CostX.PROCESS_WISE,\n",
    "                  y=CostY.TOTAL, location='HO', fig_size=(11, 6))"
   ]
  },
  {
   "cell_type": "code",
   "execution_count": null,
   "metadata": {},
   "outputs": [],
   "source": [
    "plot_results.schedule(results = results_gwp_40, y_axis= 'P', component = 'SMR', location='HO')\n",
    "plot_results.schedule(results = results_gwp_40, y_axis= 'P', component = 'SMRCCS', location='HO')\n"
   ]
  },
  {
   "cell_type": "code",
   "execution_count": null,
   "metadata": {},
   "outputs": [],
   "source": [
    "# data = results_gwp_40.output['P']\n",
    "# df = pd.DataFrame(data,index=[0])\n",
    "# df = df.T\n",
    "# # Export the DataFrame to an Excel file\n",
    "# df.to_excel('C:/Users/marcopdsousa/Desktop/Dataframes/mingwpprod40.xlsx', index=True)"
   ]
  },
  {
   "cell_type": "code",
   "execution_count": null,
   "metadata": {},
   "outputs": [],
   "source": [
    "# data = results_gwp_40.output['global_warming_potential_resource']\n",
    "# df = pd.DataFrame(data,index=[0])\n",
    "# df = df.T\n",
    "# # Export the DataFrame to an Excel file\n",
    "# df.to_excel('C:/Users/marcopdsousa/Desktop/Dataframes/mingwp40resource_emission.xlsx', index=True)"
   ]
  },
  {
   "cell_type": "code",
   "execution_count": null,
   "metadata": {},
   "outputs": [],
   "source": [
    "results_gwp_40.output[\"objective\"]"
   ]
  },
  {
   "cell_type": "code",
   "execution_count": null,
   "metadata": {},
   "outputs": [],
   "source": [
    "milp_gwp_50 = formulate(scenario=scenario, constraints={Constraints.COST, Constraints.INVENTORY, Constraints.PRODUCTION,\n",
    "                     Constraints.RESOURCE_BALANCE, Constraints.NETWORK, Constraints.DEMAND, Constraints.EMISSION}, objective=Objective.COST, demand_sign = 'eq')\n",
    "\n",
    "from energiapy.model.constraints.emission import constraint_global_warming_potential_network_reduction\n",
    "constraint_global_warming_potential_network_reduction(instance= milp_gwp_50, network_scale_level = 0, gwp_reduction_pct = 50, gwp = results_cost.output['global_warming_potential_network'][0])"
   ]
  },
  {
   "cell_type": "code",
   "execution_count": null,
   "metadata": {},
   "outputs": [],
   "source": [
    "from pyomo.environ import ConstraintList\n",
    "\n",
    "ramping_limit = 3\n",
    "\n",
    "milp_gwp_50.cons1 = ConstraintList()\n",
    "for i in scales.scale_iter(1):\n",
    "    if i != (0,0):\n",
    "        milp_gwp_50.cons1.add(expr = milp_gwp_50.P['HO', 'PEM', *i] - milp_gwp_50.P['HO', 'PEM', *scales.scale_iter(2)[scales.scale_iter(1).index(i) - 1]] <= ramping_limit)\n",
    "\n",
    "milp_gwp_50.cons2 = ConstraintList()\n",
    "for i in scales.scale_iter(1):\n",
    "    if i != (0,0):\n",
    "        milp_gwp_50.cons2.add(expr = milp_gwp_50.P['HO', 'SMR', *i] - milp_gwp_50.P['HO', 'SMR', *scales.scale_iter(2)[scales.scale_iter(1).index(i) - 1]] <= ramping_limit)\n",
    "\n",
    "milp_gwp_50.cons3 = ConstraintList()\n",
    "for i in scales.scale_iter(1):\n",
    "    if i != (0,0):\n",
    "        milp_gwp_50.cons3.add(expr = milp_gwp_50.P['HO', 'SMRCCS', *i] - milp_gwp_50.P['HO', 'SMRCCS', *scales.scale_iter(2)[scales.scale_iter(1).index(i) - 1]] <= ramping_limit)\n",
    "\n",
    "milp_gwp_50.cons4 = ConstraintList()\n",
    "for i in scales.scale_iter(2):\n",
    "    milp_gwp_50.cons4.add(expr = milp_gwp_50.P['HO', 'SMR', *i] >= 5)"
   ]
  },
  {
   "cell_type": "code",
   "execution_count": null,
   "metadata": {},
   "outputs": [],
   "source": [
    "results_gwp_50 = solve(scenario=scenario, instance=milp_gwp_50,\n",
    "                     solver='gurobi', name=f\"res_gwp_50\", print_solversteps=True, saveformat = '.pkl')"
   ]
  },
  {
   "cell_type": "code",
   "execution_count": null,
   "metadata": {},
   "outputs": [],
   "source": [
    "# data = results_gwp_50.output['P']\n",
    "# df = pd.DataFrame(data,index=[0])\n",
    "# df = df.T\n",
    "# # Export the DataFrame to an Excel file\n",
    "# df.to_excel('C:/Users/marcopdsousa/Desktop/Dataframes/mingwpprod50.xlsx', index=True)"
   ]
  },
  {
   "cell_type": "code",
   "execution_count": null,
   "metadata": {},
   "outputs": [],
   "source": [
    "# data = results_gwp_50.output['global_warming_potential_resource']\n",
    "# df = pd.DataFrame(data,index=[0])\n",
    "# df = df.T\n",
    "# # Export the DataFrame to an Excel file\n",
    "# df.to_excel('C:/Users/marcopdsousa/Desktop/Dataframes/mingwp50resource_emission.xlsx', index=True)"
   ]
  },
  {
   "cell_type": "code",
   "execution_count": null,
   "metadata": {},
   "outputs": [],
   "source": [
    "results_gwp_50.output[\"objective\"]"
   ]
  },
  {
   "cell_type": "code",
   "execution_count": null,
   "metadata": {},
   "outputs": [],
   "source": [
    "results_gwp_50.output['global_warming_potential_location']"
   ]
  },
  {
   "cell_type": "code",
   "execution_count": null,
   "metadata": {},
   "outputs": [],
   "source": [
    "milp_gwp_60 = formulate(scenario=scenario, constraints={Constraints.COST, Constraints.INVENTORY, Constraints.PRODUCTION,\n",
    "                     Constraints.RESOURCE_BALANCE, Constraints.NETWORK, Constraints.DEMAND, Constraints.EMISSION}, objective=Objective.COST, demand_sign = 'eq')\n",
    "\n",
    "from energiapy.model.constraints.emission import constraint_global_warming_potential_network_reduction\n",
    "constraint_global_warming_potential_network_reduction(instance= milp_gwp_60, network_scale_level = 0, gwp_reduction_pct = 60, gwp = results_cost.output['global_warming_potential_network'][0])"
   ]
  },
  {
   "cell_type": "code",
   "execution_count": null,
   "metadata": {},
   "outputs": [],
   "source": [
    "from pyomo.environ import ConstraintList\n",
    "\n",
    "ramping_limit = 3\n",
    "\n",
    "milp_gwp_60.cons1 = ConstraintList()\n",
    "for i in scales.scale_iter(1):\n",
    "    if i != (0,0):\n",
    "        milp_gwp_60.cons1.add(expr = milp_gwp_60.P['HO', 'PEM', *i] - milp_gwp_60.P['HO', 'PEM', *scales.scale_iter(2)[scales.scale_iter(1).index(i) - 1]] <= ramping_limit)\n",
    "\n",
    "milp_gwp_60.cons2 = ConstraintList()\n",
    "for i in scales.scale_iter(1):\n",
    "    if i != (0,0):\n",
    "        milp_gwp_60.cons2.add(expr = milp_gwp_60.P['HO', 'SMR', *i] - milp_gwp_60.P['HO', 'SMR', *scales.scale_iter(2)[scales.scale_iter(1).index(i) - 1]] <= ramping_limit)\n",
    "\n",
    "milp_gwp_60.cons3 = ConstraintList()\n",
    "for i in scales.scale_iter(1):\n",
    "    if i != (0,0):\n",
    "        milp_gwp_60.cons3.add(expr = milp_gwp_60.P['HO', 'SMRCCS', *i] - milp_gwp_60.P['HO', 'SMRCCS', *scales.scale_iter(2)[scales.scale_iter(1).index(i) - 1]] <= ramping_limit)\n",
    "\n",
    "milp_gwp_60.cons4 = ConstraintList()\n",
    "for i in scales.scale_iter(2):\n",
    "    milp_gwp_60.cons4.add(expr = milp_gwp_60.P['HO', 'SMR', *i] >= 5)"
   ]
  },
  {
   "cell_type": "code",
   "execution_count": null,
   "metadata": {},
   "outputs": [],
   "source": [
    "results_gwp_60 = solve(scenario=scenario, instance=milp_gwp_60,\n",
    "                     solver='gurobi', name=f\"res_gwp_60\", print_solversteps=True, saveformat = '.pkl')"
   ]
  },
  {
   "cell_type": "code",
   "execution_count": null,
   "metadata": {},
   "outputs": [],
   "source": [
    "plot_results.schedule(results = results_gwp_60, y_axis= 'P', component = 'SMR', location='HO')\n",
    "plot_results.schedule(results = results_gwp_60, y_axis= 'P', component = 'SMRCCS', location='HO')\n",
    "plot_results.schedule(results = results_gwp_60, y_axis= 'P', component = 'PEM', location='HO')"
   ]
  },
  {
   "cell_type": "code",
   "execution_count": null,
   "metadata": {},
   "outputs": [],
   "source": [
    "# data = results_gwp_60.output['P']\n",
    "# df = pd.DataFrame(data,index=[0])\n",
    "# df = df.T\n",
    "# # Export the DataFrame to an Excel file\n",
    "# df.to_excel('C:/Users/marcopdsousa/Desktop/Dataframes/mingwpprod60.xlsx', index=True)"
   ]
  },
  {
   "cell_type": "code",
   "execution_count": null,
   "metadata": {},
   "outputs": [],
   "source": [
    "# data = results_gwp_60.output['global_warming_potential_resource']\n",
    "# df = pd.DataFrame(data,index=[0])\n",
    "# df = df.T\n",
    "# # Export the DataFrame to an Excel file\n",
    "# df.to_excel('C:/Users/marcopdsousa/Desktop/Dataframes/mingwp60resource_emission.xlsx', index=True)"
   ]
  },
  {
   "cell_type": "code",
   "execution_count": null,
   "metadata": {},
   "outputs": [],
   "source": [
    "results_gwp_60.output[\"objective\"]"
   ]
  },
  {
   "cell_type": "code",
   "execution_count": null,
   "metadata": {},
   "outputs": [],
   "source": [
    "results_gwp_60.output[\"P\"]"
   ]
  },
  {
   "cell_type": "code",
   "execution_count": null,
   "metadata": {},
   "outputs": [],
   "source": [
    "results_gwp_60.output['global_warming_potential_location']"
   ]
  },
  {
   "cell_type": "code",
   "execution_count": null,
   "metadata": {},
   "outputs": [],
   "source": [
    "results_gwp_60.output['global_warming_potential_resource']"
   ]
  },
  {
   "cell_type": "code",
   "execution_count": null,
   "metadata": {},
   "outputs": [],
   "source": [
    "milp_gwp_70 = formulate(scenario=scenario, constraints={Constraints.COST, Constraints.INVENTORY, Constraints.PRODUCTION,\n",
    "                     Constraints.RESOURCE_BALANCE, Constraints.NETWORK, Constraints.DEMAND, Constraints.EMISSION}, objective=Objective.COST, demand_sign = 'eq')\n",
    "\n",
    "from energiapy.model.constraints.emission import constraint_global_warming_potential_network_reduction\n",
    "constraint_global_warming_potential_network_reduction(instance= milp_gwp_70, network_scale_level = 0, gwp_reduction_pct = 70, gwp = results_cost.output['global_warming_potential_network'][0])"
   ]
  },
  {
   "cell_type": "code",
   "execution_count": null,
   "metadata": {},
   "outputs": [],
   "source": [
    "from pyomo.environ import ConstraintList\n",
    "\n",
    "ramping_limit = 3\n",
    "\n",
    "milp_gwp_70.cons1 = ConstraintList()\n",
    "for i in scales.scale_iter(1):\n",
    "    if i != (0,0):\n",
    "        milp_gwp_70.cons1.add(expr = milp_gwp_70.P['HO', 'PEM', *i] - milp_gwp_70.P['HO', 'PEM', *scales.scale_iter(2)[scales.scale_iter(1).index(i) - 1]] <= ramping_limit)\n",
    "\n",
    "milp_gwp_70.cons2 = ConstraintList()\n",
    "for i in scales.scale_iter(1):\n",
    "    if i != (0,0):\n",
    "        milp_gwp_70.cons2.add(expr = milp_gwp_70.P['HO', 'SMR', *i] - milp_gwp_70.P['HO', 'SMR', *scales.scale_iter(2)[scales.scale_iter(1).index(i) - 1]] <= ramping_limit)\n",
    "\n",
    "milp_gwp_70.cons3 = ConstraintList()\n",
    "for i in scales.scale_iter(1):\n",
    "    if i != (0,0):\n",
    "        milp_gwp_70.cons3.add(expr = milp_gwp_70.P['HO', 'SMRCCS', *i] - milp_gwp_70.P['HO', 'SMRCCS', *scales.scale_iter(2)[scales.scale_iter(1).index(i) - 1]] <= ramping_limit)\n",
    "\n",
    "milp_gwp_70.cons4 = ConstraintList()\n",
    "for i in scales.scale_iter(2):\n",
    "    milp_gwp_70.cons4.add(expr = milp_gwp_70.P['HO', 'SMR', *i] >= 5)"
   ]
  },
  {
   "cell_type": "code",
   "execution_count": null,
   "metadata": {},
   "outputs": [],
   "source": [
    "results_gwp_70 = solve(scenario=scenario, instance=milp_gwp_70,\n",
    "                     solver='gurobi', name=f\"res_gwp_70\", print_solversteps=True, saveformat = '.pkl')"
   ]
  },
  {
   "cell_type": "code",
   "execution_count": null,
   "metadata": {},
   "outputs": [],
   "source": [
    "# data = results_gwp_70.output['P']\n",
    "# df = pd.DataFrame(data,index=[0])\n",
    "# df = df.T\n",
    "# # Export the DataFrame to an Excel file\n",
    "# df.to_excel('C:/Users/marcopdsousa/Desktop/Dataframes/mingwpprod70.xlsx', index=True)"
   ]
  },
  {
   "cell_type": "code",
   "execution_count": null,
   "metadata": {},
   "outputs": [],
   "source": [
    "# data = results_gwp_70.output['global_warming_potential_resource']\n",
    "# df = pd.DataFrame(data,index=[0])\n",
    "# df = df.T\n",
    "# # Export the DataFrame to an Excel file\n",
    "# df.to_excel('C:/Users/marcopdsousa/Desktop/Dataframes/mingwp70resource_emission.xlsx', index=True)"
   ]
  },
  {
   "cell_type": "code",
   "execution_count": null,
   "metadata": {},
   "outputs": [],
   "source": [
    "results_gwp_70.output[\"objective\"]"
   ]
  },
  {
   "cell_type": "code",
   "execution_count": null,
   "metadata": {},
   "outputs": [],
   "source": [
    "results_gwp_70.output['global_warming_potential_resource']"
   ]
  },
  {
   "cell_type": "code",
   "execution_count": null,
   "metadata": {},
   "outputs": [],
   "source": [
    "results_gwp_70.output[\"P\"]"
   ]
  },
  {
   "cell_type": "code",
   "execution_count": null,
   "metadata": {},
   "outputs": [],
   "source": [
    "results_gwp_70.output['global_warming_potential_location']"
   ]
  },
  {
   "cell_type": "code",
   "execution_count": null,
   "metadata": {},
   "outputs": [],
   "source": [
    "milp_gwp_75 = formulate(scenario=scenario, constraints={Constraints.COST, Constraints.INVENTORY, Constraints.PRODUCTION,\n",
    "                     Constraints.RESOURCE_BALANCE, Constraints.NETWORK, Constraints.DEMAND, Constraints.EMISSION}, objective=Objective.COST, demand_sign = 'eq')\n",
    "\n",
    "from energiapy.model.constraints.emission import constraint_global_warming_potential_network_reduction\n",
    "constraint_global_warming_potential_network_reduction(instance= milp_gwp_75, network_scale_level = 0, gwp_reduction_pct = 75, gwp = results_cost.output['global_warming_potential_network'][0])"
   ]
  },
  {
   "cell_type": "code",
   "execution_count": null,
   "metadata": {},
   "outputs": [],
   "source": [
    "from pyomo.environ import ConstraintList\n",
    "\n",
    "ramping_limit = 3\n",
    "\n",
    "milp_gwp_75.cons1 = ConstraintList()\n",
    "for i in scales.scale_iter(1):\n",
    "    if i != (0,0):\n",
    "        milp_gwp_75.cons1.add(expr = milp_gwp_75.P['HO', 'PEM', *i] - milp_gwp_75.P['HO', 'PEM', *scales.scale_iter(2)[scales.scale_iter(1).index(i) - 1]] <= ramping_limit)\n",
    "\n",
    "milp_gwp_75.cons2 = ConstraintList()\n",
    "for i in scales.scale_iter(1):\n",
    "    if i != (0,0):\n",
    "        milp_gwp_75.cons2.add(expr = milp_gwp_75.P['HO', 'SMR', *i] - milp_gwp_75.P['HO', 'SMR', *scales.scale_iter(2)[scales.scale_iter(1).index(i) - 1]] <= ramping_limit)\n",
    "\n",
    "milp_gwp_75.cons3 = ConstraintList()\n",
    "for i in scales.scale_iter(1):\n",
    "    if i != (0,0):\n",
    "        milp_gwp_75.cons3.add(expr = milp_gwp_75.P['HO', 'SMRCCS', *i] - milp_gwp_75.P['HO', 'SMRCCS', *scales.scale_iter(2)[scales.scale_iter(1).index(i) - 1]] <= ramping_limit)\n",
    "\n",
    "milp_gwp_75.cons4 = ConstraintList()\n",
    "for i in scales.scale_iter(2):\n",
    "    milp_gwp_75.cons4.add(expr = milp_gwp_75.P['HO', 'SMR', *i] >= 5)"
   ]
  },
  {
   "cell_type": "code",
   "execution_count": null,
   "metadata": {},
   "outputs": [],
   "source": [
    "results_gwp_75 = solve(scenario=scenario, instance=milp_gwp_75,\n",
    "                     solver='gurobi', name=f\"res_gwp_75\", print_solversteps=True, saveformat = '.pkl')"
   ]
  },
  {
   "cell_type": "code",
   "execution_count": null,
   "metadata": {},
   "outputs": [],
   "source": [
    "# data = results_gwp_75.output['P']\n",
    "# df = pd.DataFrame(data,index=[0])\n",
    "# df = df.T\n",
    "# # Export the DataFrame to an Excel file\n",
    "# df.to_excel('C:/Users/marcopdsousa/Desktop/Dataframes/mingwpprod75.xlsx', index=True)"
   ]
  },
  {
   "cell_type": "code",
   "execution_count": null,
   "metadata": {},
   "outputs": [],
   "source": [
    "results_gwp_75.output[\"objective\"]"
   ]
  },
  {
   "cell_type": "code",
   "execution_count": null,
   "metadata": {},
   "outputs": [],
   "source": [
    "results_gwp_75.output[\"P\"]"
   ]
  },
  {
   "cell_type": "code",
   "execution_count": null,
   "metadata": {},
   "outputs": [],
   "source": [
    "results_gwp_75.output['global_warming_potential_location']"
   ]
  },
  {
   "cell_type": "code",
   "execution_count": null,
   "metadata": {},
   "outputs": [],
   "source": [
    "milp_gwp_78 = formulate(scenario=scenario, constraints={Constraints.COST, Constraints.INVENTORY, Constraints.PRODUCTION,\n",
    "                     Constraints.RESOURCE_BALANCE, Constraints.NETWORK, Constraints.DEMAND, Constraints.EMISSION}, objective=Objective.COST, demand_sign = 'eq')\n",
    "\n",
    "from energiapy.model.constraints.emission import constraint_global_warming_potential_network_reduction\n",
    "constraint_global_warming_potential_network_reduction(instance= milp_gwp_78, network_scale_level = 0, gwp_reduction_pct = 78, gwp = results_cost.output['global_warming_potential_network'][0])"
   ]
  },
  {
   "cell_type": "code",
   "execution_count": null,
   "metadata": {},
   "outputs": [],
   "source": [
    "from pyomo.environ import ConstraintList\n",
    "\n",
    "ramping_limit = 3\n",
    "\n",
    "milp_gwp_78.cons1 = ConstraintList()\n",
    "for i in scales.scale_iter(1):\n",
    "    if i != (0,0):\n",
    "        milp_gwp_78.cons1.add(expr = milp_gwp_78.P['HO', 'PEM', *i] - milp_gwp_78.P['HO', 'PEM', *scales.scale_iter(2)[scales.scale_iter(1).index(i) - 1]] <= ramping_limit)\n",
    "\n",
    "milp_gwp_78.cons2 = ConstraintList()\n",
    "for i in scales.scale_iter(1):\n",
    "    if i != (0,0):\n",
    "        milp_gwp_78.cons2.add(expr = milp_gwp_78.P['HO', 'SMR', *i] - milp_gwp_78.P['HO', 'SMR', *scales.scale_iter(2)[scales.scale_iter(1).index(i) - 1]] <= ramping_limit)\n",
    "\n",
    "milp_gwp_78.cons3 = ConstraintList()\n",
    "for i in scales.scale_iter(1):\n",
    "    if i != (0,0):\n",
    "        milp_gwp_78.cons3.add(expr = milp_gwp_78.P['HO', 'SMRCCS', *i] - milp_gwp_78.P['HO', 'SMRCCS', *scales.scale_iter(2)[scales.scale_iter(1).index(i) - 1]] <= ramping_limit)\n",
    "\n",
    "milp_gwp_78.cons4 = ConstraintList()\n",
    "for i in scales.scale_iter(2):\n",
    "    milp_gwp_78.cons4.add(expr = milp_gwp_78.P['HO', 'SMR', *i] >= 5)"
   ]
  },
  {
   "cell_type": "code",
   "execution_count": null,
   "metadata": {},
   "outputs": [],
   "source": [
    "results_gwp_78 = solve(scenario=scenario, instance=milp_gwp_78,\n",
    "                     solver='gurobi', name=f\"res_gwp_78\", print_solversteps=True, saveformat = '.pkl')"
   ]
  },
  {
   "cell_type": "code",
   "execution_count": null,
   "metadata": {},
   "outputs": [],
   "source": [
    "results_gwp_78.output['objective']"
   ]
  },
  {
   "cell_type": "code",
   "execution_count": null,
   "metadata": {},
   "outputs": [],
   "source": [
    "results_gwp_78.output['global_warming_potential_location']"
   ]
  },
  {
   "cell_type": "code",
   "execution_count": null,
   "metadata": {},
   "outputs": [],
   "source": [
    "results_gwp_78.output[\"P\"]"
   ]
  },
  {
   "cell_type": "code",
   "execution_count": null,
   "metadata": {},
   "outputs": [],
   "source": [
    "# data = results_gwp_78.output['P']\n",
    "# df = pd.DataFrame(data,index=[0])\n",
    "# df = df.T\n",
    "# # Export the DataFrame to an Excel file\n",
    "# df.to_excel('C:/Users/marcopdsousa/Desktop/Dataframes/mingwpprod78.xlsx', index=True)"
   ]
  },
  {
   "cell_type": "code",
   "execution_count": null,
   "metadata": {},
   "outputs": [],
   "source": [
    "plot_results.cost(results=results_gwp_78, x=CostX.PROCESS_WISE,\n",
    "                  y=CostY.TOTAL, location='HO', fig_size=(11, 6))"
   ]
  },
  {
   "cell_type": "code",
   "execution_count": null,
   "metadata": {},
   "outputs": [],
   "source": [
    "milp_gwp_79 = formulate(scenario=scenario, constraints={Constraints.COST, Constraints.INVENTORY, Constraints.PRODUCTION,\n",
    "                     Constraints.RESOURCE_BALANCE, Constraints.NETWORK, Constraints.DEMAND, Constraints.EMISSION}, objective=Objective.COST, demand_sign = 'eq')\n",
    "\n",
    "from energiapy.model.constraints.emission import constraint_global_warming_potential_network_reduction\n",
    "constraint_global_warming_potential_network_reduction(instance= milp_gwp_79, network_scale_level = 0, gwp_reduction_pct = 79, gwp = results_cost.output['global_warming_potential_network'][0])"
   ]
  },
  {
   "cell_type": "code",
   "execution_count": null,
   "metadata": {},
   "outputs": [],
   "source": [
    "from pyomo.environ import ConstraintList\n",
    "\n",
    "ramping_limit = 3\n",
    "\n",
    "milp_gwp_79.cons1 = ConstraintList()\n",
    "for i in scales.scale_iter(1):\n",
    "    if i != (0,0):\n",
    "        milp_gwp_79.cons1.add(expr = milp_gwp_79.P['HO', 'PEM', *i] - milp_gwp_79.P['HO', 'PEM', *scales.scale_iter(2)[scales.scale_iter(1).index(i) - 1]] <= ramping_limit)\n",
    "\n",
    "milp_gwp_79.cons2 = ConstraintList()\n",
    "for i in scales.scale_iter(1):\n",
    "    if i != (0,0):\n",
    "        milp_gwp_79.cons2.add(expr = milp_gwp_79.P['HO', 'SMR', *i] - milp_gwp_79.P['HO', 'SMR', *scales.scale_iter(2)[scales.scale_iter(1).index(i) - 1]] <= ramping_limit)\n",
    "\n",
    "milp_gwp_79.cons3 = ConstraintList()\n",
    "for i in scales.scale_iter(1):\n",
    "    if i != (0,0):\n",
    "        milp_gwp_79.cons3.add(expr = milp_gwp_79.P['HO', 'SMRCCS', *i] - milp_gwp_79.P['HO', 'SMRCCS', *scales.scale_iter(2)[scales.scale_iter(1).index(i) - 1]] <= ramping_limit)\n",
    "\n",
    "milp_gwp_79.cons4 = ConstraintList()\n",
    "for i in scales.scale_iter(2):\n",
    "    milp_gwp_79.cons4.add(expr = milp_gwp_79.P['HO', 'SMR', *i] >= 5)"
   ]
  },
  {
   "cell_type": "code",
   "execution_count": null,
   "metadata": {},
   "outputs": [],
   "source": [
    "results_gwp_79 = solve(scenario=scenario, instance=milp_gwp_79,\n",
    "                     solver='gurobi', name=f\"res_gwp_79\", print_solversteps=True, saveformat = '.pkl')"
   ]
  },
  {
   "cell_type": "code",
   "execution_count": null,
   "metadata": {},
   "outputs": [],
   "source": [
    "results_gwp_79.output['objective']"
   ]
  },
  {
   "cell_type": "code",
   "execution_count": null,
   "metadata": {},
   "outputs": [],
   "source": [
    "results_gwp_79.output['global_warming_potential_location']"
   ]
  },
  {
   "cell_type": "code",
   "execution_count": null,
   "metadata": {},
   "outputs": [],
   "source": [
    "results_gwp_79.output['P']"
   ]
  },
  {
   "cell_type": "code",
   "execution_count": null,
   "metadata": {},
   "outputs": [],
   "source": [
    "milp_gwp_85 = formulate(scenario=scenario, constraints={Constraints.COST, Constraints.INVENTORY, Constraints.PRODUCTION,\n",
    "                     Constraints.RESOURCE_BALANCE, Constraints.NETWORK, Constraints.DEMAND, Constraints.EMISSION}, objective=Objective.COST, demand_sign = 'eq')\n",
    "\n",
    "from energiapy.model.constraints.emission import constraint_global_warming_potential_network_reduction\n",
    "constraint_global_warming_potential_network_reduction(instance= milp_gwp_85, network_scale_level = 0, gwp_reduction_pct = 85, gwp = results_cost.output['global_warming_potential_network'][0])"
   ]
  },
  {
   "cell_type": "code",
   "execution_count": null,
   "metadata": {},
   "outputs": [],
   "source": [
    "from pyomo.environ import ConstraintList\n",
    "\n",
    "ramping_limit = 3\n",
    "\n",
    "milp_gwp_85.cons1 = ConstraintList()\n",
    "for i in scales.scale_iter(1):\n",
    "    if i != (0,0):\n",
    "        milp_gwp_85.cons1.add(expr = milp_gwp_85.P['HO', 'PEM', *i] - milp_gwp_85.P['HO', 'PEM', *scales.scale_iter(2)[scales.scale_iter(1).index(i) - 1]] <= ramping_limit)\n",
    "\n",
    "milp_gwp_85.cons2 = ConstraintList()\n",
    "for i in scales.scale_iter(1):\n",
    "    if i != (0,0):\n",
    "        milp_gwp_85.cons2.add(expr = milp_gwp_85.P['HO', 'SMR', *i] - milp_gwp_85.P['HO', 'SMR', *scales.scale_iter(2)[scales.scale_iter(1).index(i) - 1]] <= ramping_limit)\n",
    "\n",
    "milp_gwp_85.cons3 = ConstraintList()\n",
    "for i in scales.scale_iter(1):\n",
    "    if i != (0,0):\n",
    "        milp_gwp_85.cons3.add(expr = milp_gwp_85.P['HO', 'SMRCCS', *i] - milp_gwp_85.P['HO', 'SMRCCS', *scales.scale_iter(2)[scales.scale_iter(1).index(i) - 1]] <= ramping_limit)\n",
    "\n",
    "milp_gwp_85.cons4 = ConstraintList()\n",
    "for i in scales.scale_iter(2):\n",
    "    milp_gwp_85.cons4.add(expr = milp_gwp_85.P['HO', 'SMR', *i] >= 5)"
   ]
  },
  {
   "cell_type": "code",
   "execution_count": null,
   "metadata": {},
   "outputs": [],
   "source": [
    "results_gwp_85 = solve(scenario=scenario, instance=milp_gwp_85,\n",
    "                     solver='gurobi', name=f\"res_gwp_85\", print_solversteps=True, saveformat = '.pkl')"
   ]
  },
  {
   "cell_type": "code",
   "execution_count": null,
   "metadata": {},
   "outputs": [],
   "source": [
    "# data = results_gwp_85.output['P']\n",
    "# df = pd.DataFrame(data,index=[0])\n",
    "# df = df.T\n",
    "# # Export the DataFrame to an Excel file\n",
    "# df.to_excel('C:/Users/marcopdsousa/Desktop/Dataframes/mingwpprod85.xlsx', index=True)"
   ]
  },
  {
   "cell_type": "code",
   "execution_count": null,
   "metadata": {},
   "outputs": [],
   "source": [
    "results_gwp_85.output['objective']"
   ]
  },
  {
   "cell_type": "code",
   "execution_count": null,
   "metadata": {},
   "outputs": [],
   "source": [
    "results_gwp_85.output['global_warming_potential_location']"
   ]
  },
  {
   "cell_type": "code",
   "execution_count": null,
   "metadata": {},
   "outputs": [],
   "source": [
    "results_gwp_85.output['P']"
   ]
  },
  {
   "cell_type": "code",
   "execution_count": null,
   "metadata": {},
   "outputs": [],
   "source": [
    "milp_gwp_80 = formulate(scenario=scenario, constraints={Constraints.COST, Constraints.INVENTORY, Constraints.PRODUCTION,\n",
    "                     Constraints.RESOURCE_BALANCE, Constraints.NETWORK, Constraints.DEMAND, Constraints.EMISSION}, objective=Objective.COST, demand_sign = 'eq')\n",
    "\n",
    "from energiapy.model.constraints.emission import constraint_global_warming_potential_network_reduction\n",
    "constraint_global_warming_potential_network_reduction(instance= milp_gwp_80, network_scale_level = 0, gwp_reduction_pct = 80, gwp = results_cost.output['global_warming_potential_network'][0])"
   ]
  },
  {
   "cell_type": "code",
   "execution_count": null,
   "metadata": {},
   "outputs": [],
   "source": [
    "from pyomo.environ import ConstraintList\n",
    "\n",
    "ramping_limit = 3\n",
    "\n",
    "milp_gwp_80.cons1 = ConstraintList()\n",
    "for i in scales.scale_iter(1):\n",
    "    if i != (0,0):\n",
    "        milp_gwp_80.cons1.add(expr = milp_gwp_80.P['HO', 'PEM', *i] - milp_gwp_80.P['HO', 'PEM', *scales.scale_iter(2)[scales.scale_iter(1).index(i) - 1]] <= ramping_limit)\n",
    "\n",
    "milp_gwp_80.cons2 = ConstraintList()\n",
    "for i in scales.scale_iter(1):\n",
    "    if i != (0,0):\n",
    "        milp_gwp_80.cons2.add(expr = milp_gwp_80.P['HO', 'SMR', *i] - milp_gwp_80.P['HO', 'SMR', *scales.scale_iter(2)[scales.scale_iter(1).index(i) - 1]] <= ramping_limit)\n",
    "\n",
    "milp_gwp_80.cons3 = ConstraintList()\n",
    "for i in scales.scale_iter(1):\n",
    "    if i != (0,0):\n",
    "        milp_gwp_80.cons3.add(expr = milp_gwp_80.P['HO', 'SMRCCS', *i] - milp_gwp_80.P['HO', 'SMRCCS', *scales.scale_iter(2)[scales.scale_iter(1).index(i) - 1]] <= ramping_limit)\n",
    "\n",
    "milp_gwp_80.cons4 = ConstraintList()\n",
    "for i in scales.scale_iter(2):\n",
    "    milp_gwp_80.cons4.add(expr = milp_gwp_80.P['HO', 'SMR', *i] >= 5)"
   ]
  },
  {
   "cell_type": "code",
   "execution_count": null,
   "metadata": {},
   "outputs": [],
   "source": [
    "results_gwp_80 = solve(scenario=scenario, instance=milp_gwp_80,\n",
    "                     solver='gurobi', name=f\"res_gwp_80\", print_solversteps=True, saveformat = '.pkl')"
   ]
  },
  {
   "cell_type": "code",
   "execution_count": null,
   "metadata": {},
   "outputs": [],
   "source": [
    "# data = results_gwp_80.output['P']\n",
    "# df = pd.DataFrame(data,index=[0])\n",
    "# df = df.T\n",
    "# # Export the DataFrame to an Excel file\n",
    "# df.to_excel('C:/Users/marcopdsousa/Desktop/Dataframes/mingwpprod80.xlsx', index=True)"
   ]
  },
  {
   "cell_type": "code",
   "execution_count": null,
   "metadata": {},
   "outputs": [],
   "source": [
    "# data = results_gwp_80.output['global_warming_potential_resource']\n",
    "# df = pd.DataFrame(data,index=[0])\n",
    "# df = df.T\n",
    "# # Export the DataFrame to an Excel file\n",
    "# df.to_excel('C:/Users/marcopdsousa/Desktop/Dataframes/mingwp80resource_emission.xlsx', index=True)"
   ]
  },
  {
   "cell_type": "code",
   "execution_count": null,
   "metadata": {},
   "outputs": [],
   "source": [
    "results_gwp_80.output['objective']"
   ]
  },
  {
   "cell_type": "code",
   "execution_count": null,
   "metadata": {},
   "outputs": [],
   "source": [
    "results_gwp_80.output['global_warming_potential_location']"
   ]
  },
  {
   "cell_type": "code",
   "execution_count": null,
   "metadata": {},
   "outputs": [],
   "source": [
    "milp_gwp_90 = formulate(scenario=scenario, constraints={Constraints.COST, Constraints.INVENTORY, Constraints.PRODUCTION,\n",
    "                     Constraints.RESOURCE_BALANCE, Constraints.NETWORK, Constraints.DEMAND, Constraints.EMISSION}, objective=Objective.COST, demand_sign = 'eq')\n",
    "\n",
    "from energiapy.model.constraints.emission import constraint_global_warming_potential_network_reduction\n",
    "constraint_global_warming_potential_network_reduction(instance= milp_gwp_90, network_scale_level = 0, gwp_reduction_pct = 90, gwp = results_cost.output['global_warming_potential_network'][0])"
   ]
  },
  {
   "cell_type": "code",
   "execution_count": null,
   "metadata": {},
   "outputs": [],
   "source": [
    "from pyomo.environ import ConstraintList\n",
    "\n",
    "ramping_limit = 3\n",
    "\n",
    "milp_gwp_90.cons1 = ConstraintList()\n",
    "for i in scales.scale_iter(1):\n",
    "    if i != (0,0):\n",
    "        milp_gwp_90.cons1.add(expr = milp_gwp_90.P['HO', 'PEM', *i] - milp_gwp_90.P['HO', 'PEM', *scales.scale_iter(2)[scales.scale_iter(1).index(i) - 1]] <= ramping_limit)\n",
    "\n",
    "milp_gwp_90.cons2 = ConstraintList()\n",
    "for i in scales.scale_iter(1):\n",
    "    if i != (0,0):\n",
    "        milp_gwp_90.cons2.add(expr = milp_gwp_90.P['HO', 'SMR', *i] - milp_gwp_90.P['HO', 'SMR', *scales.scale_iter(2)[scales.scale_iter(1).index(i) - 1]] <= ramping_limit)\n",
    "\n",
    "milp_gwp_90.cons3 = ConstraintList()\n",
    "for i in scales.scale_iter(1):\n",
    "    if i != (0,0):\n",
    "        milp_gwp_90.cons3.add(expr = milp_gwp_90.P['HO', 'SMRCCS', *i] - milp_gwp_90.P['HO', 'SMRCCS', *scales.scale_iter(2)[scales.scale_iter(1).index(i) - 1]] <= ramping_limit)\n",
    "\n",
    "milp_gwp_90.cons4 = ConstraintList()\n",
    "for i in scales.scale_iter(2):\n",
    "    milp_gwp_90.cons4.add(expr = milp_gwp_90.P['HO', 'SMR', *i] >= 5)"
   ]
  },
  {
   "cell_type": "code",
   "execution_count": null,
   "metadata": {},
   "outputs": [],
   "source": [
    "results_gwp_90 = solve(scenario=scenario, instance=milp_gwp_90,\n",
    "                     solver='gurobi', name=f\"res_gwp_90\", print_solversteps=True, saveformat = '.pkl')"
   ]
  },
  {
   "cell_type": "code",
   "execution_count": null,
   "metadata": {},
   "outputs": [],
   "source": [
    "# data = results_gwp_90.output['P']\n",
    "# df = pd.DataFrame(data,index=[0])\n",
    "# df = df.T\n",
    "# # Export the DataFrame to an Excel file\n",
    "# df.to_excel('C:/Users/marcopdsousa/Desktop/Dataframes/mingwpprod90.xlsx', index=True)"
   ]
  },
  {
   "cell_type": "code",
   "execution_count": null,
   "metadata": {},
   "outputs": [],
   "source": [
    "# data = results_gwp_90.output['global_warming_potential_resource']\n",
    "# df = pd.DataFrame(data,index=[0])\n",
    "# df = df.T\n",
    "# # Export the DataFrame to an Excel file\n",
    "# df.to_excel('C:/Users/marcopdsousa/Desktop/Dataframes/mingwp90resource_emission.xlsx', index=True)"
   ]
  },
  {
   "cell_type": "code",
   "execution_count": null,
   "metadata": {},
   "outputs": [],
   "source": [
    "results_gwp_90.output['objective']"
   ]
  },
  {
   "cell_type": "code",
   "execution_count": null,
   "metadata": {},
   "outputs": [],
   "source": [
    "results_gwp_90.output['global_warming_potential_location']"
   ]
  },
  {
   "cell_type": "code",
   "execution_count": null,
   "metadata": {},
   "outputs": [],
   "source": [
    "results_gwp_90.output['P']"
   ]
  },
  {
   "cell_type": "code",
   "execution_count": null,
   "metadata": {},
   "outputs": [],
   "source": [
    "milp_gwp_92 = formulate(scenario=scenario, constraints={Constraints.COST, Constraints.INVENTORY, Constraints.PRODUCTION,\n",
    "                     Constraints.RESOURCE_BALANCE, Constraints.NETWORK, Constraints.DEMAND, Constraints.EMISSION}, objective=Objective.COST, demand_sign = 'eq')\n",
    "\n",
    "from energiapy.model.constraints.emission import constraint_global_warming_potential_network_reduction\n",
    "constraint_global_warming_potential_network_reduction(instance= milp_gwp_92, network_scale_level = 0, gwp_reduction_pct = 92, gwp = results_cost.output['global_warming_potential_network'][0])"
   ]
  },
  {
   "cell_type": "code",
   "execution_count": null,
   "metadata": {},
   "outputs": [],
   "source": [
    "from pyomo.environ import ConstraintList\n",
    "\n",
    "ramping_limit = 3\n",
    "\n",
    "milp_gwp_92.cons1 = ConstraintList()\n",
    "for i in scales.scale_iter(1):\n",
    "    if i != (0,0):\n",
    "        milp_gwp_92.cons1.add(expr = milp_gwp_92.P['HO', 'PEM', *i] - milp_gwp_92.P['HO', 'PEM', *scales.scale_iter(2)[scales.scale_iter(1).index(i) - 1]] <= ramping_limit)\n",
    "\n",
    "milp_gwp_92.cons2 = ConstraintList()\n",
    "for i in scales.scale_iter(1):\n",
    "    if i != (0,0):\n",
    "        milp_gwp_92.cons2.add(expr = milp_gwp_92.P['HO', 'SMR', *i] - milp_gwp_92.P['HO', 'SMR', *scales.scale_iter(2)[scales.scale_iter(1).index(i) - 1]] <= ramping_limit)\n",
    "\n",
    "milp_gwp_92.cons3 = ConstraintList()\n",
    "for i in scales.scale_iter(1):\n",
    "    if i != (0,0):\n",
    "        milp_gwp_92.cons3.add(expr = milp_gwp_92.P['HO', 'SMRCCS', *i] - milp_gwp_92.P['HO', 'SMRCCS', *scales.scale_iter(2)[scales.scale_iter(1).index(i) - 1]] <= ramping_limit)\n",
    "\n",
    "milp_gwp_92.cons4 = ConstraintList()\n",
    "for i in scales.scale_iter(2):\n",
    "    milp_gwp_92.cons4.add(expr = milp_gwp_92.P['HO', 'SMR', *i] >= 5)"
   ]
  },
  {
   "cell_type": "code",
   "execution_count": null,
   "metadata": {},
   "outputs": [],
   "source": [
    "results_gwp_92 = solve(scenario=scenario, instance=milp_gwp_92,\n",
    "                     solver='gurobi', name=f\"res_gwp_92\", print_solversteps=True, saveformat = '.pkl')"
   ]
  },
  {
   "cell_type": "code",
   "execution_count": null,
   "metadata": {},
   "outputs": [],
   "source": [
    "results_gwp_92.output['objective']"
   ]
  },
  {
   "cell_type": "code",
   "execution_count": null,
   "metadata": {},
   "outputs": [],
   "source": [
    "results_gwp_92.output['global_warming_potential_location']"
   ]
  },
  {
   "cell_type": "code",
   "execution_count": null,
   "metadata": {},
   "outputs": [],
   "source": [
    "results_gwp_92.output['P']"
   ]
  },
  {
   "cell_type": "code",
   "execution_count": null,
   "metadata": {},
   "outputs": [],
   "source": [
    "# data = results_gwp_92.output['P']\n",
    "# df = pd.DataFrame(data,index=[0])\n",
    "# df = df.T\n",
    "# # Export the DataFrame to an Excel file\n",
    "# df.to_excel('C:/Users/marcopdsousa/Desktop/Dataframes/mingwpprod92.xlsx', index=True)"
   ]
  }
 ],
 "metadata": {
  "kernelspec": {
   "display_name": "Python 3.10.5 ('ki': venv)",
   "language": "python",
   "name": "python3"
  },
  "language_info": {
   "codemirror_mode": {
    "name": "ipython",
    "version": 3
   },
   "file_extension": ".py",
   "mimetype": "text/x-python",
   "name": "python",
   "nbconvert_exporter": "python",
   "pygments_lexer": "ipython3",
   "version": "3.11.8"
  },
  "orig_nbformat": 4,
  "vscode": {
   "interpreter": {
    "hash": "a4a97498e3c1bfef05f70a75d4fcafcb7b5c9c4ed86429a4e7bee46eaa890f24"
   }
  }
 },
 "nbformat": 4,
 "nbformat_minor": 2
}
