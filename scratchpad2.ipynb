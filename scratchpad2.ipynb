{
 "cells": [
  {
   "attachments": {},
   "cell_type": "markdown",
   "metadata": {},
   "source": [
    "## Import modules"
   ]
  },
  {
   "cell_type": "code",
   "execution_count": 1,
   "metadata": {},
   "outputs": [],
   "source": [
    "import sys\n",
    "sys.path.append('src')"
   ]
  },
  {
   "cell_type": "code",
   "execution_count": 2,
   "metadata": {},
   "outputs": [],
   "source": [
    "# import pandas\n",
    "# import numpy\n",
    "# from energiapy.components.energy_system import EnergySystem \n",
    "# from energiapy.components.resource import Resource\n",
    "# from energiapy.components.process import Process\n",
    "# from energiapy.model.dataset import DataSet\n",
    "# from energiapy.components.temporal_scale import TemporalScale\n",
    "# from energiapy.model.theta import Theta\n",
    "# from energiapy.model.unbound import BigM\n",
    "# from energiapy.utils.data_utils import make_henry_price_df, remove_outliers\n",
    "# from itertools import product"
   ]
  },
  {
   "cell_type": "code",
   "execution_count": 3,
   "metadata": {},
   "outputs": [],
   "source": [
    "import pandas\n",
    "from energiapy.components.scenario import Scenario \n",
    "from energiapy.components.horizon import Horizon\n",
    "from energiapy.components.resource import Resource"
   ]
  },
  {
   "cell_type": "code",
   "execution_count": 4,
   "metadata": {},
   "outputs": [],
   "source": [
    "s = Scenario()"
   ]
  },
  {
   "cell_type": "code",
   "execution_count": 5,
   "metadata": {},
   "outputs": [],
   "source": [
    "s.h = Horizon(discretizations=[365, 24])"
   ]
  },
  {
   "cell_type": "code",
   "execution_count": 6,
   "metadata": {},
   "outputs": [],
   "source": [
    "a = pandas.DataFrame({'a': list(range(8760))})\n",
    "b = pandas.DataFrame({'b': list(range(8760))})"
   ]
  },
  {
   "cell_type": "code",
   "execution_count": 7,
   "metadata": {},
   "outputs": [
    {
     "ename": "UnboundLocalError",
     "evalue": "local variable 'constraint' referenced before assignment",
     "output_type": "error",
     "traceback": [
      "\u001b[0;31m---------------------------------------------------------------------------\u001b[0m",
      "\u001b[0;31mUnboundLocalError\u001b[0m                         Traceback (most recent call last)",
      "\u001b[1;32m/Users/cacodcar/Desktop/repos/energiapy/scratchpad2.ipynb Cell 8\u001b[0m line \u001b[0;36m1\n\u001b[0;32m----> <a href='vscode-notebook-cell:/Users/cacodcar/Desktop/repos/energiapy/scratchpad2.ipynb#Y426sZmlsZQ%3D%3D?line=0'>1</a>\u001b[0m s\u001b[39m.\u001b[39;49mH2 \u001b[39m=\u001b[39m Resource(discharge \u001b[39m=\u001b[39m {s\u001b[39m.\u001b[39mt0: [\u001b[39m0\u001b[39m,\u001b[39m4\u001b[39m], s\u001b[39m.\u001b[39mt1: [\u001b[39m22\u001b[39m, \u001b[39m34\u001b[39m], s\u001b[39m.\u001b[39mt2: (a, b)}, sell_cost \u001b[39m=\u001b[39m (\u001b[39m0\u001b[39m, \u001b[39m10\u001b[39m))\n",
      "File \u001b[0;32m~/Desktop/repos/energiapy/src/energiapy/components/scenario.py:60\u001b[0m, in \u001b[0;36mScenario.__setattr__\u001b[0;34m(self, name, value)\u001b[0m\n\u001b[1;32m     58\u001b[0m \u001b[39mif\u001b[39;00m \u001b[39mnot\u001b[39;00m value\u001b[39m.\u001b[39mname:\n\u001b[1;32m     59\u001b[0m     \u001b[39msetattr\u001b[39m(value, \u001b[39m'\u001b[39m\u001b[39mname\u001b[39m\u001b[39m'\u001b[39m, name)\n\u001b[0;32m---> 60\u001b[0m     \u001b[39msetattr\u001b[39;49m(value, \u001b[39m'\u001b[39;49m\u001b[39mhorizon\u001b[39;49m\u001b[39m'\u001b[39;49m, \u001b[39mself\u001b[39;49m\u001b[39m.\u001b[39;49mhorizon)\n\u001b[1;32m     61\u001b[0m \u001b[39mgetattr\u001b[39m(\u001b[39mself\u001b[39m, \u001b[39m'\u001b[39m\u001b[39mresources\u001b[39m\u001b[39m'\u001b[39m)\u001b[39m.\u001b[39mappend(value)\n",
      "File \u001b[0;32m~/Desktop/repos/energiapy/src/energiapy/components/resource.py:148\u001b[0m, in \u001b[0;36mResource.__setattr__\u001b[0;34m(self, name, value)\u001b[0m\n\u001b[1;32m    145\u001b[0m         aspect \u001b[39m=\u001b[39m Aspect(aspect\u001b[39m=\u001b[39mi, component\u001b[39m=\u001b[39m\u001b[39mself\u001b[39m)\n\u001b[1;32m    146\u001b[0m         aspect\u001b[39m.\u001b[39madd(value\u001b[39m=\u001b[39mattr, aspect\u001b[39m=\u001b[39mi, component\u001b[39m=\u001b[39m\u001b[39mself\u001b[39m,\n\u001b[1;32m    147\u001b[0m                     horizon\u001b[39m=\u001b[39m\u001b[39mself\u001b[39m\u001b[39m.\u001b[39mhorizon, declared_at\u001b[39m=\u001b[39m\u001b[39mself\u001b[39m)\n\u001b[0;32m--> 148\u001b[0m         \u001b[39msetattr\u001b[39;49m(\u001b[39mself\u001b[39;49m, asp_, aspect)\n\u001b[1;32m    150\u001b[0m \u001b[39mfor\u001b[39;00m i \u001b[39min\u001b[39;00m [\u001b[39m'\u001b[39m\u001b[39mparameters\u001b[39m\u001b[39m'\u001b[39m, \u001b[39m'\u001b[39m\u001b[39mvariables\u001b[39m\u001b[39m'\u001b[39m, \u001b[39m'\u001b[39m\u001b[39mconstraints\u001b[39m\u001b[39m'\u001b[39m]:\n\u001b[1;32m    151\u001b[0m     \u001b[39mif\u001b[39;00m \u001b[39mhasattr\u001b[39m(\u001b[39mgetattr\u001b[39m(\u001b[39mself\u001b[39m, name), i):\n",
      "File \u001b[0;32m~/Desktop/repos/energiapy/src/energiapy/components/resource.py:146\u001b[0m, in \u001b[0;36mResource.__setattr__\u001b[0;34m(self, name, value)\u001b[0m\n\u001b[1;32m    144\u001b[0m         \u001b[39m# if attr is not None and not isinstance(attr, Aspect):\u001b[39;00m\n\u001b[1;32m    145\u001b[0m         aspect \u001b[39m=\u001b[39m Aspect(aspect\u001b[39m=\u001b[39mi, component\u001b[39m=\u001b[39m\u001b[39mself\u001b[39m)\n\u001b[0;32m--> 146\u001b[0m         aspect\u001b[39m.\u001b[39;49madd(value\u001b[39m=\u001b[39;49mattr, aspect\u001b[39m=\u001b[39;49mi, component\u001b[39m=\u001b[39;49m\u001b[39mself\u001b[39;49m,\n\u001b[1;32m    147\u001b[0m                     horizon\u001b[39m=\u001b[39;49m\u001b[39mself\u001b[39;49m\u001b[39m.\u001b[39;49mhorizon, declared_at\u001b[39m=\u001b[39;49m\u001b[39mself\u001b[39;49m)\n\u001b[1;32m    148\u001b[0m         \u001b[39msetattr\u001b[39m(\u001b[39mself\u001b[39m, asp_, aspect)\n\u001b[1;32m    150\u001b[0m \u001b[39mfor\u001b[39;00m i \u001b[39min\u001b[39;00m [\u001b[39m'\u001b[39m\u001b[39mparameters\u001b[39m\u001b[39m'\u001b[39m, \u001b[39m'\u001b[39m\u001b[39mvariables\u001b[39m\u001b[39m'\u001b[39m, \u001b[39m'\u001b[39m\u001b[39mconstraints\u001b[39m\u001b[39m'\u001b[39m]:\n",
      "File \u001b[0;32m~/Desktop/repos/energiapy/src/energiapy/model/aspect.py:135\u001b[0m, in \u001b[0;36mAspect.add\u001b[0;34m(self, value, aspect, component, declared_at, horizon)\u001b[0m\n\u001b[1;32m    133\u001b[0m     \u001b[39mcontinue\u001b[39;00m\n\u001b[1;32m    134\u001b[0m \u001b[39melse\u001b[39;00m:\n\u001b[0;32m--> 135\u001b[0m     constraint \u001b[39m=\u001b[39m Constraint(condition\u001b[39m=\u001b[39;49mrule\u001b[39m.\u001b[39;49mcondition, variable\u001b[39m=\u001b[39;49mvariable,\n\u001b[1;32m    136\u001b[0m                             associated\u001b[39m=\u001b[39;49massociated_, parameter\u001b[39m=\u001b[39;49mparameter_, bound\u001b[39m=\u001b[39;49mbound_, rhs\u001b[39m=\u001b[39;49mrule\u001b[39m.\u001b[39;49mrhs)\n\u001b[1;32m    137\u001b[0m     \u001b[39mself\u001b[39m\u001b[39m.\u001b[39mconstraints \u001b[39m=\u001b[39m \u001b[39msorted\u001b[39m(\u001b[39mlist\u001b[39m(\n\u001b[1;32m    138\u001b[0m         \u001b[39mset\u001b[39m(\u001b[39mself\u001b[39m\u001b[39m.\u001b[39mconstraints) \u001b[39m|\u001b[39m {constraint}))\n",
      "File \u001b[0;32m<string>:11\u001b[0m, in \u001b[0;36m__init__\u001b[0;34m(self, condition, variable, rhs, associated, parameter, balance, bound, sumover)\u001b[0m\n",
      "File \u001b[0;32m~/Desktop/repos/energiapy/src/energiapy/model/constraint.py:64\u001b[0m, in \u001b[0;36mConstraint.__post_init__\u001b[0;34m(self)\u001b[0m\n\u001b[1;32m     61\u001b[0m \u001b[39mif\u001b[39;00m \u001b[39mself\u001b[39m\u001b[39m.\u001b[39mcondition \u001b[39m==\u001b[39m Condition\u001b[39m.\u001b[39mCAPACITATE:\n\u001b[1;32m     62\u001b[0m     constraint \u001b[39m=\u001b[39m \u001b[39mf\u001b[39m\u001b[39m'\u001b[39m\u001b[39m{\u001b[39;00mvariable\u001b[39m}\u001b[39;00m\u001b[39m<=\u001b[39m\u001b[39m{\u001b[39;00mparameter\u001b[39m}\u001b[39;00m\u001b[39m{\u001b[39;00mmultip\u001b[39m}\u001b[39;00m\u001b[39m{\u001b[39;00massociated\u001b[39m}\u001b[39;00m\u001b[39m'\u001b[39m\n\u001b[0;32m---> 64\u001b[0m \u001b[39mself\u001b[39m\u001b[39m.\u001b[39mname \u001b[39m=\u001b[39m constraint\n",
      "\u001b[0;31mUnboundLocalError\u001b[0m: local variable 'constraint' referenced before assignment"
     ]
    }
   ],
   "source": [
    "s.H2 = Resource(discharge = {s.t0: [0,4], s.t1: [22, 34], s.t2: (a, b)}, sell_cost = (0, 10))\n"
   ]
  },
  {
   "cell_type": "code",
   "execution_count": null,
   "metadata": {},
   "outputs": [
    {
     "name": "stdout",
     "output_type": "stream",
     "text": [
      "Th|Sell_cost('H2', 't0')|\n",
      "Discharge_lb('H2', 't0')\n",
      "Discharge_lb('H2', 't1')\n",
      "Discharge_ub('H2', 't0')\n",
      "Discharge_ub('H2', 't1')\n",
      "Th|Discharge('H2', 't2')|\n"
     ]
    }
   ],
   "source": [
    "s.H2.params()"
   ]
  },
  {
   "cell_type": "code",
   "execution_count": 14,
   "metadata": {},
   "outputs": [
    {
     "data": {
      "text/plain": [
       "'(t0,)'"
      ]
     },
     "execution_count": 14,
     "metadata": {},
     "output_type": "execute_result"
    }
   ],
   "source": [
    "f'{s.H2.parameters[0].disposition}'"
   ]
  },
  {
   "cell_type": "code",
   "execution_count": 15,
   "metadata": {},
   "outputs": [
    {
     "data": {
      "text/plain": [
       "('H2', 't0')"
      ]
     },
     "execution_count": 15,
     "metadata": {},
     "output_type": "execute_result"
    }
   ],
   "source": [
    "s.H2.parameters[0].index "
   ]
  },
  {
   "cell_type": "code",
   "execution_count": 9,
   "metadata": {},
   "outputs": [
    {
     "data": {
      "text/plain": [
       "'t0'"
      ]
     },
     "execution_count": 9,
     "metadata": {},
     "output_type": "execute_result"
    }
   ],
   "source": [
    "s.t0.name "
   ]
  },
  {
   "cell_type": "code",
   "execution_count": 10,
   "metadata": {},
   "outputs": [
    {
     "name": "stdout",
     "output_type": "stream",
     "text": [
      "sell_cost('H2', 't0')=Th|Sell_cost('H2', 't0')|*discharge('H2', 't0'), Th in [0, 10]\n",
      "discharge('H2', 't0')<=4\n",
      "discharge('H2', 't0')>=0\n",
      "discharge('H2', 't1')<=34\n",
      "discharge('H2', 't1')>=22\n",
      "discharge('H2', 't2')=Th|Discharge('H2', 't2')|, Th in [DSet|Discharge_lb('H2', 't2')|, DSet|Discharge_ub('H2', 't2')|]\n"
     ]
    }
   ],
   "source": [
    "s.H2.cons()"
   ]
  },
  {
   "cell_type": "code",
   "execution_count": null,
   "metadata": {},
   "outputs": [],
   "source": [
    "def load_data(loc:str, index:list):\n",
    "    df = pandas.read_csv(f'data/{loc}_solar19.csv')\n",
    "    df['idx'] = index\n",
    "    df = df.set_index('idx')\n",
    "    return df\n",
    "idx = [(i,j,k) for i,j,k in product(range(1), range(365), range(24))]\n",
    "weather_ny = load_data('ny', idx)[['DNI', 'Wind Speed']]\n",
    "weather_ny = weather_ny.rename(columns= {'DNI': 'dni', 'Wind Speed': 'wind_speed'})\n",
    "weather_sd = load_data('sd', idx)[['dni', 'wind_speed']]\n",
    "weather_ho = load_data('ho', idx)[['dni', 'wind_speed']]\n",
    "demand_sd = pandas.read_excel('data/HistoricalEMSHourlyLoad-2019.xlsx', index_col= 0)[['SDGE']]\n",
    "demand_ho = pandas.read_excel('data/Native_Load_2019.xlsx')[['COAST']]\n",
    "demand_ny = pandas.DataFrame(pandas.read_csv('data/NYC_load.csv')['Load']) #from Will and Doga\n",
    "ng_price = make_henry_price_df(\n",
    "    file_name='data/Henry_Hub_Natural_Gas_Spot_Price_Daily.csv', year=2020)\n",
    "ng_price = ng_price.drop(columns= 'scales')\n",
    "ng_price = remove_outliers(ng_price, sd_cuttoff = 3)\n",
    "ng_price = pandas.concat([ng_price])"
   ]
  },
  {
   "cell_type": "code",
   "execution_count": null,
   "metadata": {},
   "outputs": [
    {
     "data": {
      "text/plain": [
       "((0, 0), (1, 2), (2, 3), (3, -11))"
      ]
     },
     "execution_count": 23,
     "metadata": {},
     "output_type": "execute_result"
    }
   ],
   "source": [
    "tuple([(a,b) for a,b in enumerate((0, 2, 3, -11))])"
   ]
  },
  {
   "cell_type": "code",
   "execution_count": null,
   "metadata": {},
   "outputs": [
    {
     "name": "stdout",
     "output_type": "stream",
     "text": [
      "discharge('H2', 't0')<=200\n",
      "discharge('H2', 't0')>=0\n",
      "discharge('H2', 't1')<=34\n",
      "discharge('H2', 't1')>=22\n",
      "discharge('H2', 't2')=Th|Discharge('H2', 't2')|, Th in [Data|t2|, Data|t2|]\n",
      "sell_cost('H2', 't0')=Th|Sell_cost('H2', 't0')|*discharge('H2', 't0'), Th in [0, 10]\n"
     ]
    }
   ],
   "source": [
    "Hydrogen.cons()"
   ]
  },
  {
   "cell_type": "code",
   "execution_count": null,
   "metadata": {},
   "outputs": [
    {
     "data": {
      "text/plain": [
       "{'aspect': <CashFlow.SELL_COST: 1>,\n",
       " 'component': H2,\n",
       " 'name': 'Sell_cost(H2)',\n",
       " 'parameters': [Sell_cost('H2', 't0')],\n",
       " 'variables': [sell_cost('H2', 't0')],\n",
       " 'constraints': [sell_cost('H2', 't0')=<generator object Aspect.add.<locals>.<genexpr> at 0x126959970>*discharge('H2', 't0')]}"
      ]
     },
     "execution_count": 23,
     "metadata": {},
     "output_type": "execute_result"
    }
   ],
   "source": [
    "Hydrogen.sell_cost.__dict__ "
   ]
  },
  {
   "cell_type": "code",
   "execution_count": null,
   "metadata": {},
   "outputs": [
    {
     "data": {
      "text/plain": [
       "[Data|Discharge('H2', 't2')|,\n",
       " Discharge_lb('H2', 't1'),\n",
       " Discharge_lb('H2', 't2'),\n",
       " Discharge_ub('H2', 't1'),\n",
       " Th|Discharge('H2', 't0')|,\n",
       " Th|Sell_cost('H2', 't0')|]"
      ]
     },
     "execution_count": 32,
     "metadata": {},
     "output_type": "execute_result"
    }
   ],
   "source": [
    "Hydrogen.parameters"
   ]
  },
  {
   "cell_type": "code",
   "execution_count": null,
   "metadata": {},
   "outputs": [
    {
     "data": {
      "text/plain": [
       "[discharge('H2', 't0'),\n",
       " discharge('H2', 't1'),\n",
       " discharge('H2', 't2'),\n",
       " sell_cost('H2', 't0')]"
      ]
     },
     "execution_count": 20,
     "metadata": {},
     "output_type": "execute_result"
    }
   ],
   "source": [
    "Hydrogen.variables"
   ]
  },
  {
   "cell_type": "code",
   "execution_count": null,
   "metadata": {},
   "outputs": [
    {
     "name": "stdout",
     "output_type": "stream",
     "text": [
      "discharge('H2', 't0')=200\n",
      "discharge('H2', 't1')<=34\n",
      "discharge('H2', 't1')>=22\n",
      "discharge('H2', 't2')<=Data|Discharge('H2', 't2')|\n",
      "discharge('H2', 't2')>=0\n"
     ]
    }
   ],
   "source": [
    "Hydrogen.discharge.cons()"
   ]
  },
  {
   "cell_type": "code",
   "execution_count": null,
   "metadata": {},
   "outputs": [
    {
     "name": "stdout",
     "output_type": "stream",
     "text": [
      "discharge('H2', 't0')=200\n",
      "discharge('H2', 't1')<=34\n",
      "discharge('H2', 't1')>=22\n",
      "discharge('H2', 't2')<=Data|Discharge('H2', 't2')|\n",
      "discharge('H2', 't2')>=0\n",
      "sell_cost('H2', 't0')=Th|Sell_cost('H2', 't0')|*discharge('H2', 't0'), Th in [0, 10]\n"
     ]
    }
   ],
   "source": [
    "Hydrogen.cons()"
   ]
  },
  {
   "cell_type": "code",
   "execution_count": null,
   "metadata": {},
   "outputs": [
    {
     "name": "stdout",
     "output_type": "stream",
     "text": [
      "discharge('H2', 't0')=200\n",
      "discharge('H2', 't1')<=34\n",
      "discharge('H2', 't1')>=22\n",
      "discharge('H2', 't2')<=Data|Discharge('H2', 't2')|\n",
      "discharge('H2', 't2')>=0\n",
      "sell_cost('H2', 't0')=Th|Sell_cost('H2', 't0')|*discharge('H2', 't0'), Th in [0, 10]\n"
     ]
    }
   ],
   "source": [
    "Hydrogen.cons()"
   ]
  },
  {
   "cell_type": "code",
   "execution_count": 24,
   "metadata": {},
   "outputs": [],
   "source": [
    "cc = Data(data = a, scales= horizon, apply_max_scaler= False)\n"
   ]
  },
  {
   "cell_type": "code",
   "execution_count": 10,
   "metadata": {},
   "outputs": [
    {
     "ename": "TypeError",
     "evalue": "object of type 'Data' has no len()",
     "output_type": "error",
     "traceback": [
      "\u001b[0;31m---------------------------------------------------------------------------\u001b[0m",
      "\u001b[0;31mTypeError\u001b[0m                                 Traceback (most recent call last)",
      "\u001b[1;32m/Users/cacodcar/Desktop/repos/energiapy/scratchpad.ipynb Cell 48\u001b[0m line \u001b[0;36m1\n\u001b[0;32m----> <a href='vscode-notebook-cell:/Users/cacodcar/Desktop/repos/energiapy/scratchpad.ipynb#Y442sZmlsZQ%3D%3D?line=0'>1</a>\u001b[0m \u001b[39mlen\u001b[39;49m(cc)\n",
      "\u001b[0;31mTypeError\u001b[0m: object of type 'Data' has no len()"
     ]
    }
   ],
   "source": [
    "len(cc)"
   ]
  },
  {
   "cell_type": "code",
   "execution_count": 25,
   "metadata": {},
   "outputs": [],
   "source": [
    "Solar = Resource(name='Solar', gwp =50, eutt = 60, consume=BigM, basis='MW', label='Solar Power')\n",
    "\n",
    "Wind = Resource(name='Wind', consume=cc, basis='MW', label='Wind Power')\n",
    "\n",
    "Power = Resource(name='Power', basis='MW', label='Power generated')\n",
    "\n",
    "Uranium = Resource(name='Ur', consume=pandas.DataFrame({'a': [i for i in range(365)]}), scales= horizon, purchase_cost= 42.70/(250/2), basis='kg', label='Uranium')\n",
    "\n",
    "\n",
    "H2 = Resource(name='H2', basis='tons', label='Hydrogen')\n",
    "\n",
    "H2_L = Resource(name='H2_L', discharge = (0,23), store= True, basis='tons', label='Hydrogen')\n",
    "\n",
    "CO2_AQoff = Resource(name='CO2(Aq)', store= True, basis='tons', label='Carbon dioxide - sequestered')\n",
    "\n",
    "H2O = Resource(name='H2O', consume=(20,50),\n",
    "               purchase_cost= 0.001, basis='tons', label='Water')\n",
    "\n",
    "CH4 = Resource(name='CH4', consume=[20, 40], purchase_cost=20, basis='tons', label='Natural gas')\n",
    "\n",
    "CO2 = Resource(name='CO2', basis='tons', label='Carbon dioxide', block='Resource')\n",
    "\n",
    "CO2_Vent = Resource(name='CO2_Vent', basis='tons', label='Carbon dioxide - Vented', sell_cost= (2, 20))\n",
    "\n",
    "O2 = Resource(name='O2', discharge= [20, BigM], basis='tons', label='Oxygen')\n",
    "\n",
    "CO2_DAC = Resource(name='CO2_DAC', basis='tons', store = {'t0': (0,1)}, store_loss = {'t2': 0.01}, scales = horizon,  label='Carbon dioxide - captured')\n"
   ]
  },
  {
   "cell_type": "code",
   "execution_count": 26,
   "metadata": {},
   "outputs": [
    {
     "name": "stdout",
     "output_type": "stream",
     "text": [
      "Th|Discharge('H2_L', 't0')|\n",
      "Store('H2_L', 't0')\n"
     ]
    }
   ],
   "source": [
    "H2_L.params()"
   ]
  },
  {
   "cell_type": "code",
   "execution_count": 27,
   "metadata": {},
   "outputs": [
    {
     "name": "stdout",
     "output_type": "stream",
     "text": [
      "discharge('O2', 't0')<=M\n",
      "discharge('O2', 't0')>=20\n"
     ]
    }
   ],
   "source": [
    "O2.cons()"
   ]
  },
  {
   "cell_type": "code",
   "execution_count": 30,
   "metadata": {},
   "outputs": [
    {
     "name": "stdout",
     "output_type": "stream",
     "text": [
      "store('CO2_DAC', 't0')=Th|Store('CO2_DAC', 't0')|, Th in [0, 1]\n",
      "store_loss('CO2_DAC', 't2')=0.01*store('CO2_DAC', 't2')\n"
     ]
    }
   ],
   "source": [
    "CO2_DAC.cons()"
   ]
  },
  {
   "attachments": {},
   "cell_type": "markdown",
   "metadata": {},
   "source": [
    "## Declare processes"
   ]
  },
  {
   "cell_type": "code",
   "execution_count": 33,
   "metadata": {},
   "outputs": [
    {
     "ename": "AttributeError",
     "evalue": "'Process' object has no attribute 'constraints'",
     "output_type": "error",
     "traceback": [
      "\u001b[0;31m---------------------------------------------------------------------------\u001b[0m",
      "\u001b[0;31mAttributeError\u001b[0m                            Traceback (most recent call last)",
      "\u001b[1;32m/Users/cacodcar/Desktop/repos/energiapy/scratchpad.ipynb Cell 43\u001b[0m line \u001b[0;36m1\n\u001b[0;32m----> <a href='vscode-notebook-cell:/Users/cacodcar/Desktop/repos/energiapy/scratchpad.ipynb#Y511sZmlsZQ%3D%3D?line=0'>1</a>\u001b[0m LiI \u001b[39m=\u001b[39m Process(name\u001b[39m=\u001b[39;49m\u001b[39m'\u001b[39;49m\u001b[39mLiI\u001b[39;49m\u001b[39m'\u001b[39;49m, store\u001b[39m=\u001b[39;49m \u001b[39m2000\u001b[39;49m, conversion \u001b[39m=\u001b[39;49m {Power: \u001b[39m0.9\u001b[39;49m}, store_loss \u001b[39m=\u001b[39;49m \u001b[39m0.2\u001b[39;49m, store_cost\u001b[39m=\u001b[39;49m \u001b[39m0.4\u001b[39;49m, store_loss_every \u001b[39m=\u001b[39;49m \u001b[39m2\u001b[39;49m, \n\u001b[1;32m      <a href='vscode-notebook-cell:/Users/cacodcar/Desktop/repos/energiapy/scratchpad.ipynb#Y511sZmlsZQ%3D%3D?line=1'>2</a>\u001b[0m               capex \u001b[39m=\u001b[39;49m \u001b[39m3516428\u001b[39;49m, fopex\u001b[39m=\u001b[39;49m \u001b[39m87910\u001b[39;49m, vopex \u001b[39m=\u001b[39;49m \u001b[39m0\u001b[39;49m, capacity\u001b[39m=\u001b[39;49m \u001b[39m1000\u001b[39;49m, label\u001b[39m=\u001b[39;49m\u001b[39m'\u001b[39;49m\u001b[39mLithium-ion battery\u001b[39;49m\u001b[39m'\u001b[39;49m, basis \u001b[39m=\u001b[39;49m \u001b[39m'\u001b[39;49m\u001b[39mMW\u001b[39;49m\u001b[39m'\u001b[39;49m)\n\u001b[1;32m      <a href='vscode-notebook-cell:/Users/cacodcar/Desktop/repos/energiapy/scratchpad.ipynb#Y511sZmlsZQ%3D%3D?line=3'>4</a>\u001b[0m \u001b[39m# WF = Process(name='WF', conversion={Wind: -1, Power: 1}, capex= (0, 20), fopex= (0, 3), vopex=(0, 1), cap_max= Theta((1, 2)), land = Theta((4, 10)), label='Wind mill array', basis = 'MW')\u001b[39;00m\n\u001b[1;32m      <a href='vscode-notebook-cell:/Users/cacodcar/Desktop/repos/energiapy/scratchpad.ipynb#Y511sZmlsZQ%3D%3D?line=5'>6</a>\u001b[0m WF \u001b[39m=\u001b[39m Process(name\u001b[39m=\u001b[39m\u001b[39m'\u001b[39m\u001b[39mWF\u001b[39m\u001b[39m'\u001b[39m, gwp \u001b[39m=\u001b[39m \u001b[39m50\u001b[39m, odp \u001b[39m=\u001b[39m \u001b[39m2900\u001b[39m,  produce\u001b[39m=\u001b[39m weather_ho[[\u001b[39m'\u001b[39m\u001b[39mwind_speed\u001b[39m\u001b[39m'\u001b[39m]], scales \u001b[39m=\u001b[39m horizon, conversion\u001b[39m=\u001b[39m{Power: {Wind: \u001b[39m-\u001b[39m\u001b[39m1\u001b[39m}},capex\u001b[39m=\u001b[39m\u001b[39m1462000\u001b[39m, fopex\u001b[39m=\u001b[39m\u001b[39m43000\u001b[39m, vopex\u001b[39m=\u001b[39m\u001b[39m4953\u001b[39m, capacity\u001b[39m=\u001b[39m\u001b[39m1000\u001b[39m, land_use \u001b[39m=\u001b[39m \u001b[39m30\u001b[39m, label\u001b[39m=\u001b[39m\u001b[39m'\u001b[39m\u001b[39mWind mill array\u001b[39m\u001b[39m'\u001b[39m, basis \u001b[39m=\u001b[39m \u001b[39m'\u001b[39m\u001b[39mMW\u001b[39m\u001b[39m'\u001b[39m)\n",
      "File \u001b[0;32m<string>:49\u001b[0m, in \u001b[0;36m__init__\u001b[0;34m(self, name, conversion, capacity, capacity_over, land_use, material_cons, capex, pwl, fopex, vopex, incidental, gwp, odp, acid, eutt, eutf, eutm, introduce, retire, lifetime, pfail, scales, discharge, consume, store, produce, store_loss, discharge_over, consume_over, store_over, store_loss_every, sell_cost, purchase_cost, store_cost, credit, penalty, ctype, eqn_list, basis, block, citation, label, trl, varying, prod_max, prod_min)\u001b[0m\n",
      "File \u001b[0;32m~/Desktop/repos/energiapy/src/energiapy/components/process.py:183\u001b[0m, in \u001b[0;36mProcess.__post_init__\u001b[0;34m(self)\u001b[0m\n\u001b[1;32m    181\u001b[0m \u001b[39mdef\u001b[39;00m \u001b[39m__post_init__\u001b[39m(\u001b[39mself\u001b[39m):\n\u001b[0;32m--> 183\u001b[0m     \u001b[39mif\u001b[39;00m \u001b[39mnot\u001b[39;00m \u001b[39mself\u001b[39;49m\u001b[39m.\u001b[39;49mconstraints:\n\u001b[1;32m    184\u001b[0m         \u001b[39mself\u001b[39m\u001b[39m.\u001b[39mconstraints \u001b[39m=\u001b[39m \u001b[39mlist\u001b[39m()\n\u001b[1;32m    185\u001b[0m     \u001b[39m# *-----------------Set ctype (ProcessType)---------------------------------\u001b[39;00m\n",
      "\u001b[0;31mAttributeError\u001b[0m: 'Process' object has no attribute 'constraints'"
     ]
    }
   ],
   "source": [
    "LiI = Process(name='LiI', store= 2000, conversion = {Power: 0.9}, store_loss = 0.2, store_cost= 0.4, store_loss_over = 2, \n",
    "              capex = 3516428, fopex= 87910, vopex = 0, capacity= 1000, label='Lithium-ion battery', basis = 'MW')\n",
    "\n",
    "# WF = Process(name='WF', conversion={Wind: -1, Power: 1}, capex= (0, 20), fopex= (0, 3), vopex=(0, 1), cap_max= Theta((1, 2)), land = Theta((4, 10)), label='Wind mill array', basis = 'MW')\n",
    "\n",
    "WF = Process(name='WF', gwp = 50, odp = 2900,  produce= weather_ho[['wind_speed']], scales = horizon, conversion={Power: {Wind: -1}},capex=1462000, fopex=43000, vopex=4953, capacity=1000, land_use = 30, label='Wind mill array', basis = 'MW')\n",
    "\n",
    "# PV = Process(name='PV', conversion={Solar: -1, Power: 1}, capex = 1333262, fopex= 22623, cap_max=1000, label = 'Solar PV', basis = 'MW')\n",
    "PV = Process(name='PV', scales= horizon, sell_cost= 30, credit = pandas.DataFrame({'a': [2]}), conversion={Power: {1:{Solar: -1.2}, 2: {Solar: -1.5}}}, capex = 1333262, fopex= 22623, capacity=True, label = 'Solar PV', basis = 'MW')\n",
    "\n",
    "SMRH = Process(name='SMRH', land_use=50, conversion={H2: {Power: -1.11, CH4: -3.76, H2O: -23.7, CO2_Vent: 1.03, CO2: 9.332}}, capex =2520000, fopex = 945000, vopex = 51.5, capacity= 1000, label='Steam methane reforming + CCUS')\n",
    "\n",
    "NGCC = Process(name= 'NGCC', purchase_cost= {CH4: 4, H2O: 20}, conversion = {Power: {CH4: -0.108, H2O: -10, CO2_Vent: 0.297*0.05, CO2:0.297*0.95}}, capex = 2158928, fopex= 53320, vopex = 4090, capacity= [1,100], label = 'NGCC + 95% CC')\n",
    "\n",
    "SMR = Process(name='SMR', capex = 2400, fopex = 800, vopex = 0.03,  conversion={H2: {Power: -1.11, CH4: -3.76, H2O: -23.7,CO2_Vent: 9.4979}}, capacity=1000, label='Steam methane reforming')\n",
    "\n",
    "H2FC = Process(name='H2FC', purchase_cost= {H2: 2},  conversion = {Power: {H2:-0.050}}, capex =  1.6*10**6, vopex = 3.5, capacity = 1000, label = 'hydrogen fuel cell')\n",
    "\n",
    "DAC = Process(name='DAC', capex = 0.02536, fopex = 0.634, conversion= {CO2_DAC: {Power: -0.193, H2O: -4.048}}, capacity=1000, label='Direct air capture')\n",
    "\n",
    "PSH = Process(name='PSH', conversion = {Power: 0.6}, capex = 3924781, fopex= 17820, vopex = 512.5, store = 10000, capacity=1000, label='Pumped storage hydropower', basis = 'MW')\n",
    "\n",
    "ASMR = Process(name='ASMR', consume = {Uranium: 40}, conversion={Power:{Uranium: -4.17*10**(-5), H2O: -3.364}}, capex = 7988951, fopex= 0.04*0.730, capacity = 1000, label='Small modular reactors (SMRs)')\n",
    "\n",
    "AWE = Process(name='AWE', incidental= 20, land_use = (0,20),   conversion= {H2: {Power: -1, O2: 0.7632, H2O: -0.1753}}, capex = 1.1*10**6, fopex = 16918, capacity = BigM, label='Alkaline water electrolysis (AWE)', citation='Demirhan et al. 2018 AIChE paper') \n"
   ]
  },
  {
   "cell_type": "code",
   "execution_count": null,
   "metadata": {},
   "outputs": [
    {
     "data": {
      "text/plain": [
       "0"
      ]
     },
     "execution_count": 29,
     "metadata": {},
     "output_type": "execute_result"
    }
   ],
   "source": [
    "WF.capacity.params[0].ub\n",
    "WF.capacity.params[0].lb"
   ]
  },
  {
   "cell_type": "code",
   "execution_count": null,
   "metadata": {},
   "outputs": [],
   "source": [
    "Power.consume_scale"
   ]
  },
  {
   "cell_type": "code",
   "execution_count": null,
   "metadata": {},
   "outputs": [],
   "source": [
    "i = tuple(dict.fromkeys(['a', 'b', 'c', 'b']).keys())"
   ]
  },
  {
   "cell_type": "code",
   "execution_count": null,
   "metadata": {},
   "outputs": [
    {
     "data": {
      "text/plain": [
       "\"('a', 'b', 'c')\""
      ]
     },
     "execution_count": 38,
     "metadata": {},
     "output_type": "execute_result"
    }
   ],
   "source": [
    "f'{i}' "
   ]
  },
  {
   "cell_type": "code",
   "execution_count": null,
   "metadata": {},
   "outputs": [
    {
     "name": "stdout",
     "output_type": "stream",
     "text": [
      "capex(WF,t0)=1462000*capacity(WF,t0)\n",
      "fopex(WF,t0)=43000*capacity(WF,t0)\n",
      "vopex(WF,t0)=4953*discharge(WF,t0)\n",
      "gwp(WF,t0)=50\n",
      "odp(WF,t0)=2900\n",
      "land_use(WF,t0)=30*capacity(WF,t0)\n",
      "0<=capacity(WF,t0)<=1000\n",
      "0<=produce(Power,WF,t2)<=capacity(WF,t0)*Produce(Power,WF,t2)\n"
     ]
    }
   ],
   "source": [
    "WF.eqns()"
   ]
  },
  {
   "cell_type": "code",
   "execution_count": null,
   "metadata": {},
   "outputs": [
    {
     "data": {
      "text/plain": [
       "[('WF', 't0')]"
      ]
     },
     "execution_count": 31,
     "metadata": {},
     "output_type": "execute_result"
    }
   ],
   "source": [
    "WF.capacity.indices"
   ]
  },
  {
   "cell_type": "code",
   "execution_count": null,
   "metadata": {},
   "outputs": [
    {
     "name": "stdout",
     "output_type": "stream",
     "text": [
      "capex(PV,t0)=1333262*capacity(PV,t0)\n",
      "fopex(PV,t0)=22623*capacity(PV,t0)\n",
      "0<=capacity(PV,t0)<=BigM\n",
      "0<=produce(Power,PV,t0)<=capacity(PV,t0)*1\n",
      "sell_exp(Power,PV,t0)=30*discharge(Power,PV,t0)\n",
      "credit(Power,PV,t0)=Credit(Power,PV,t0)*discharge(Power,PV,t0)\n"
     ]
    }
   ],
   "source": [
    "PV.eqns()"
   ]
  },
  {
   "cell_type": "code",
   "execution_count": null,
   "metadata": {},
   "outputs": [
    {
     "name": "stdout",
     "output_type": "stream",
     "text": [
      "0<=produce(H2,t2)<=2000\n",
      "purchase_exp(H2,H2FC,t0)=2*consume(H2,H2FC,t0)\n"
     ]
    }
   ],
   "source": [
    "H2.eqns()"
   ]
  },
  {
   "cell_type": "code",
   "execution_count": null,
   "metadata": {},
   "outputs": [
    {
     "name": "stdout",
     "output_type": "stream",
     "text": [
      "purchase_exp(CH4,NGCC,t0)=4*consume(CH4,NGCC,t0)\n",
      "purchase_exp(H2O,NGCC,t0)=20*consume(H2O,NGCC,t0)\n"
     ]
    }
   ],
   "source": [
    "NGCC.purchase_cost.eqns()"
   ]
  },
  {
   "cell_type": "code",
   "execution_count": null,
   "metadata": {},
   "outputs": [
    {
     "name": "stdout",
     "output_type": "stream",
     "text": [
      "capex(NGCC,t0)=2158928*capacity(NGCC,t0)\n",
      "fopex(NGCC,t0)=53320*capacity(NGCC,t0)\n",
      "vopex(NGCC,t0)=4090*discharge(NGCC,t0)\n",
      "1<=capacity(NGCC,t0)<=100\n",
      "0<=produce(Power,NGCC,t0)<=capacity(NGCC,t0)*1\n",
      "purchase_exp(CH4,NGCC,t0)=4*consume(CH4,NGCC,t0)\n"
     ]
    }
   ],
   "source": [
    "NGCC.eqns()"
   ]
  },
  {
   "cell_type": "code",
   "execution_count": null,
   "metadata": {},
   "outputs": [
    {
     "name": "stdout",
     "output_type": "stream",
     "text": [
      "capex(PV,t0)=1333262*capacity(PV,t0)\n",
      "fopex(PV,t0)=22623*capacity(PV,t0)\n",
      "0<=capacity(PV,t0)<=BigM\n",
      "0<=produce(Power,PV,t0)<=capacity(PV,t0)*1\n",
      "sell_exp(Power,PV,t0)=30*discharge(Power,PV,t0)\n",
      "credit(Power,PV,t0)=Credit(Power,PV,t0)*discharge(Power,PV,t0)\n"
     ]
    }
   ],
   "source": [
    "PV.eqns()"
   ]
  },
  {
   "cell_type": "code",
   "execution_count": null,
   "metadata": {},
   "outputs": [
    {
     "name": "stdout",
     "output_type": "stream",
     "text": [
      "0<=store(Power,LiI,t0)<=capacity(LiI,t0)*2000\n",
      "0<=produce(Power,LiI,t0)<=capacity(LiI,t0)*1\n",
      "store_exp(Power,LiI,t0)=0.4*store(Power,LiI,t0)\n",
      "store_loss(Power,LiI,t2)=0.2\n",
      "sell_exp(Power,PV,t0)=30*discharge(Power,PV,t0)\n",
      "credit(Power,PV,t0)=Credit(Power,PV,t0)*discharge(Power,PV,t0)\n"
     ]
    }
   ],
   "source": [
    "Power.eqns()"
   ]
  },
  {
   "cell_type": "code",
   "execution_count": null,
   "metadata": {},
   "outputs": [
    {
     "data": {
      "text/plain": [
       "[('Power', 'PV', 't0')]"
      ]
     },
     "execution_count": 38,
     "metadata": {},
     "output_type": "execute_result"
    }
   ],
   "source": [
    "Power.sell_cost.indices"
   ]
  },
  {
   "cell_type": "code",
   "execution_count": null,
   "metadata": {},
   "outputs": [
    {
     "name": "stdout",
     "output_type": "stream",
     "text": [
      "capex(H2FC,t0)=1600000.0*capacity(H2FC,t0)\n",
      "vopex(H2FC,t0)=3.5*discharge(H2FC,t0)\n",
      "0<=capacity(H2FC,t0)<=1000\n",
      "0<=produce(Power,H2FC,t0)<=capacity(H2FC,t0)*1\n",
      "purchase_exp(H2,H2FC,t0)=2*consume(H2,H2FC,t0)\n"
     ]
    }
   ],
   "source": [
    "H2FC.eqns()"
   ]
  },
  {
   "cell_type": "code",
   "execution_count": null,
   "metadata": {},
   "outputs": [
    {
     "name": "stdout",
     "output_type": "stream",
     "text": [
      "purchase_exp(H2,H2FC,t0)=2*consume(H2,H2FC,t0)\n"
     ]
    }
   ],
   "source": [
    "H2FC.purchase_cost.eqns()"
   ]
  },
  {
   "cell_type": "code",
   "execution_count": null,
   "metadata": {},
   "outputs": [
    {
     "name": "stdout",
     "output_type": "stream",
     "text": [
      "capex(WF,t0)=1462000*capacity(WF,t0)\n",
      "fopex(WF,t0)=43000*capacity(WF,t0)\n",
      "vopex(WF,t0)=4953*discharge(WF,t0)\n",
      "gwp(WF,t0)=50\n",
      "odp(WF,t0)=2900\n",
      "land_use(WF,t0)=30*capacity(WF,t0)\n",
      "0<=capacity(WF,t0)<=1000\n",
      "0<=produce(Power,WF,t2)<=capacity(WF,t0)*Produce(Power,WF,t2)\n"
     ]
    }
   ],
   "source": [
    "WF.eqns()"
   ]
  },
  {
   "cell_type": "code",
   "execution_count": null,
   "metadata": {},
   "outputs": [
    {
     "data": {
      "text/plain": [
       "Produce(Power,WF,t2)"
      ]
     },
     "execution_count": 42,
     "metadata": {},
     "output_type": "execute_result"
    }
   ],
   "source": [
    "WF.produce.params[0]"
   ]
  },
  {
   "cell_type": "code",
   "execution_count": null,
   "metadata": {},
   "outputs": [],
   "source": [
    "WF.store"
   ]
  },
  {
   "cell_type": "code",
   "execution_count": null,
   "metadata": {},
   "outputs": [
    {
     "name": "stdout",
     "output_type": "stream",
     "text": [
      "0<=store(Power,LiI,t0)<=capacity(LiI,t0)*2000\n",
      "0<=produce(Power,LiI,t0)<=capacity(LiI,t0)*1\n",
      "store_exp(Power,LiI,t0)=0.4*store(Power,LiI,t0)\n",
      "store_loss(Power,LiI,t2)=0.2\n",
      "sell_exp(Power,PV,t0)=30*discharge(Power,PV,t0)\n",
      "credit(Power,PV,t0)=Credit(Power,PV,t0)*discharge(Power,PV,t0)\n"
     ]
    }
   ],
   "source": [
    "Power.eqns()"
   ]
  },
  {
   "cell_type": "code",
   "execution_count": null,
   "metadata": {},
   "outputs": [
    {
     "name": "stdout",
     "output_type": "stream",
     "text": [
      "capex(WF,t0)=1462000*capacity(WF,t0)\n",
      "fopex(WF,t0)=43000*capacity(WF,t0)\n",
      "vopex(WF,t0)=4953*discharge(WF,t0)\n",
      "gwp(WF,t0)=50\n",
      "odp(WF,t0)=2900\n",
      "land_use(WF,t0)=30*capacity(WF,t0)\n",
      "0<=capacity(WF,t0)<=1000\n",
      "0<=produce(Power,WF,t2)<=capacity(WF,t0)*Produce(Power,WF,t2)\n"
     ]
    }
   ],
   "source": [
    "WF.eqns()"
   ]
  },
  {
   "cell_type": "code",
   "execution_count": null,
   "metadata": {},
   "outputs": [
    {
     "name": "stdout",
     "output_type": "stream",
     "text": [
      "capex(PV,t0)=1333262*capacity(PV,t0)\n",
      "fopex(PV,t0)=22623*capacity(PV,t0)\n",
      "0<=capacity(PV,t0)<=BigM\n",
      "0<=produce(Power,PV,t0)<=capacity(PV,t0)*1\n",
      "sell_exp(Power,PV,t0)=30*discharge(Power,PV,t0)\n",
      "credit(Power,PV,t0)=Credit(Power,PV,t0)*discharge(Power,PV,t0)\n"
     ]
    }
   ],
   "source": [
    "PV.eqns()"
   ]
  },
  {
   "cell_type": "code",
   "execution_count": null,
   "metadata": {},
   "outputs": [
    {
     "name": "stdout",
     "output_type": "stream",
     "text": [
      "capex(SMRH,t0)=2520000*capacity(SMRH,t0)\n",
      "fopex(SMRH,t0)=945000*capacity(SMRH,t0)\n",
      "vopex(SMRH,t0)=51.5*discharge(SMRH,t0)\n",
      "land_use(SMRH,t0)=50*capacity(SMRH,t0)\n",
      "0<=capacity(SMRH,t0)<=1000\n",
      "0<=produce(H2,SMRH,t0)<=capacity(SMRH,t0)*1\n"
     ]
    }
   ],
   "source": [
    "SMRH.eqns()"
   ]
  },
  {
   "cell_type": "code",
   "execution_count": null,
   "metadata": {},
   "outputs": [
    {
     "name": "stdout",
     "output_type": "stream",
     "text": [
      "0<=consume(Solar,t0)<=BigM\n",
      "gwp(Solar,t0)=50\n",
      "eutt(Solar,t0)=60\n"
     ]
    }
   ],
   "source": [
    "Solar.eqns()"
   ]
  },
  {
   "cell_type": "code",
   "execution_count": 49,
   "metadata": {},
   "outputs": [
    {
     "name": "stdout",
     "output_type": "stream",
     "text": [
      "0<=store(Power,LiI,t0)<=capacity(LiI,t0)*2000\n",
      "0<=produce(Power,LiI,t0)<=capacity(LiI,t0)*1\n",
      "store_exp(Power,LiI,t0)=0.4*store(Power,LiI,t0)\n",
      "store_loss(Power,LiI,t2)=0.2\n",
      "sell_exp(Power,PV,t0)=30*discharge(Power,PV,t0)\n",
      "credit(Power,PV,t0)=Credit(Power,PV,t0)*discharge(Power,PV,t0)\n"
     ]
    }
   ],
   "source": [
    "Power.eqns()"
   ]
  },
  {
   "cell_type": "code",
   "execution_count": 50,
   "metadata": {},
   "outputs": [
    {
     "name": "stdout",
     "output_type": "stream",
     "text": [
      "capex(AWE,t0)=1100000.0*capacity(AWE,t0)\n",
      "fopex(AWE,t0)=16918*capacity(AWE,t0)\n",
      "incidental(AWE,t0)=20\n",
      "land_use(AWE,t0)=Th*capacity(AWE,t0), Th in (0,20)\n",
      "0<=capacity(AWE,t0)<=BigM\n",
      "0<=produce(H2,AWE,t0)<=capacity(AWE,t0)*1\n"
     ]
    }
   ],
   "source": [
    "AWE.eqns()"
   ]
  },
  {
   "cell_type": "code",
   "execution_count": 51,
   "metadata": {},
   "outputs": [
    {
     "name": "stdout",
     "output_type": "stream",
     "text": [
      "0<=store(Power,LiI,t0)<=capacity(LiI,t0)*2000\n",
      "0<=produce(Power,LiI,t0)<=capacity(LiI,t0)*1\n",
      "store_exp(Power,LiI,t0)=0.4*store(Power,LiI,t0)\n",
      "store_loss(Power,LiI,t2)=0.2\n",
      "sell_exp(Power,PV,t0)=30*discharge(Power,PV,t0)\n",
      "credit(Power,PV,t0)=Credit(Power,PV,t0)*discharge(Power,PV,t0)\n"
     ]
    }
   ],
   "source": [
    "Power.eqns()"
   ]
  },
  {
   "cell_type": "code",
   "execution_count": 52,
   "metadata": {},
   "outputs": [
    {
     "name": "stdout",
     "output_type": "stream",
     "text": [
      "0<=produce(H2,t2)<=2000\n",
      "purchase_exp(H2,H2FC,t0)=2*consume(H2,H2FC,t0)\n"
     ]
    }
   ],
   "source": [
    "H2.eqns()"
   ]
  },
  {
   "cell_type": "code",
   "execution_count": 53,
   "metadata": {},
   "outputs": [
    {
     "name": "stdout",
     "output_type": "stream",
     "text": [
      "0<=consume(Ur,t1)<=Consume(Ur,Ur,t1)\n",
      "0<=consume(Ur,ASMR,t0)<=capacity(ASMR,t0)*40\n"
     ]
    }
   ],
   "source": [
    "Uranium.consume.eqns()"
   ]
  },
  {
   "cell_type": "code",
   "execution_count": 54,
   "metadata": {},
   "outputs": [
    {
     "name": "stdout",
     "output_type": "stream",
     "text": [
      "0<=consume(Ur,t1)<=Consume(Ur,Ur,t1)\n",
      "purchase_exp(Ur,t0)=0.3416*consume(Ur,t0)\n"
     ]
    }
   ],
   "source": [
    "Uranium.eqns()"
   ]
  },
  {
   "cell_type": "code",
   "execution_count": 55,
   "metadata": {},
   "outputs": [
    {
     "name": "stdout",
     "output_type": "stream",
     "text": [
      "capex(NGCC,t0)=2158928*capacity(NGCC,t0)\n",
      "fopex(NGCC,t0)=53320*capacity(NGCC,t0)\n",
      "vopex(NGCC,t0)=4090*discharge(NGCC,t0)\n",
      "1<=capacity(NGCC,t0)<=100\n",
      "0<=produce(Power,NGCC,t0)<=capacity(NGCC,t0)*1\n",
      "purchase_exp(CH4,NGCC,t0)=4*consume(CH4,NGCC,t0)\n"
     ]
    }
   ],
   "source": [
    "NGCC.eqns()"
   ]
  },
  {
   "cell_type": "code",
   "execution_count": null,
   "metadata": {},
   "outputs": [],
   "source": [
    "process_list = {LiI, WF, PV, SMRH, SMR, DAC, AWE, H2_L_c, H2_L_d, AQoff_SMR, ASMR, PSH, NGCC}"
   ]
  },
  {
   "attachments": {},
   "cell_type": "markdown",
   "metadata": {},
   "source": [
    "## Declare locations"
   ]
  },
  {
   "cell_type": "code",
   "execution_count": null,
   "metadata": {},
   "outputs": [],
   "source": [
    "cc = Factor(data = pandas.DataFrame({'a': [2]}), scales= scales, apply_max_scaler= False)\n",
    "\n",
    "houston = Location(name='HO', processes={LiI, PV, WF, SMRH, AWE, AQoff_SMR}, credit = {PV: 2}, cap_max_localize = {WF: 0.4, AWE: 23}, \n",
    "                   credit_factor ={PV: pandas.DataFrame({'a': [2]})}, consume_localize = {Solar: 2}, demand= {Power: (0, 1)}, \n",
    "                   land_cost = 10, land_cost_factor= cc, capacity_factor={PV: weather_ho[['dni']], WF: weather_ho[['wind_speed']]}, demand_factor={\n",
    "                   Power: demand_ho}, discharge_factor={Power: demand_ho}, purchase_cost_factor={CH4: ng_price}, land_max= True, scales=scales, label='Houston')\n",
    "\n",
    "sandiego = Location(name='SD', processes={LiI, PV, WF, SMRH, AWE, AQoff_SMR}, purchase_cost_localize = {CH4: 222}, \n",
    "                    consume_localize = {Solar: 3}, land_cost = 30, land_cost_factor = pandas.DataFrame({'a': [2]}) , \n",
    "                    credit = {SMRH: 30, AQoff_SMR: Theta((0, 23))}, credit_factor= {SMRH: pandas.DataFrame({'a': [1 - 0.001*i for i in range(365)]})}, \n",
    "                    capacity_factor={PV: weather_sd[['dni']], WF: weather_sd[['wind_speed']]}, demand_factor={\n",
    "                    Power: demand_sd}, purchase_cost_factor={CH4: ng_price}, discharge_localize= {O2: 0.2}, scales=scales, label='SanDiego')\n",
    "\n",
    "newyork = Location(name='NY', processes={LiI, H2FC}, land_max = (0, 50000), land_max_factor = pandas.DataFrame({'a': [2]}), cap_max_localize = {PV: 0.2, AWE: 34}, \n",
    "                   capacity_factor={PV: weather_ny[['dni']], WF: weather_ny[['wind_speed']]}, demand= {Power: 40}, demand_factor={\n",
    "                   Power: demand_ny}, credit = {PV: 7}, purchase_cost_localize = {CH4: 2}, scales=scales, label='NewYork')\n"
   ]
  },
  {
   "cell_type": "code",
   "execution_count": null,
   "metadata": {},
   "outputs": [],
   "source": [
    "PV.cap_max"
   ]
  },
  {
   "cell_type": "code",
   "execution_count": null,
   "metadata": {},
   "outputs": [],
   "source": [
    "PV.factors"
   ]
  },
  {
   "cell_type": "code",
   "execution_count": null,
   "metadata": {},
   "outputs": [],
   "source": [
    "houston.aspect"
   ]
  },
  {
   "cell_type": "code",
   "execution_count": null,
   "metadata": {},
   "outputs": [],
   "source": [
    "houston.land_cost_factor"
   ]
  },
  {
   "cell_type": "code",
   "execution_count": null,
   "metadata": {},
   "outputs": [],
   "source": [
    "# for i in houston.processes | sandiego.processes | newyork.processes:\n",
    "# # for i in houston.resources | sandiego.resources | newyork.resources:\n",
    "#     print(i, i.localizations)\n",
    "#     print(i, i.factors)\n",
    "    "
   ]
  },
  {
   "cell_type": "code",
   "execution_count": null,
   "metadata": {},
   "outputs": [],
   "source": [
    "Power.ctype"
   ]
  },
  {
   "attachments": {},
   "cell_type": "markdown",
   "metadata": {},
   "source": [
    "## Declare transports"
   ]
  },
  {
   "cell_type": "code",
   "execution_count": null,
   "metadata": {},
   "outputs": [],
   "source": [
    "\n",
    "# Train_H2 = Transport(name='Train_H2', resources={\n",
    "#                      H2}, trans_max=bigM, trans_loss=0.03, trans_cost=1.667*10**(-3), label='Railway for hydrogen transportation')\n",
    "# Grid = Transport(name='Grid', resources={\n",
    "#                  Power}, trans_max=bigM, trans_loss=0.001, trans_cost=0.5*10**(-3), label='Railroad transport')\n",
    "\n",
    "\n",
    "Train_H2 = Transport(name='Train_H2', resources={\n",
    "                     H2}, cap_max=BigM, trans_loss=0.03, capex = 1000, vopex=1.667, fopex = (0,1), acid = 34, eutf =55, label='Railway for hydrogen transportation')\n",
    "Grid = Transport(name='Grid', resources={\n",
    "                 H2, Power}, cap_max=BigM, trans_loss=0.001, capex = 500, vopex = 0.444, label='Railroad transport')\n",
    "\n"
   ]
  },
  {
   "cell_type": "code",
   "execution_count": null,
   "metadata": {},
   "outputs": [],
   "source": [
    "Train_H2.cap_max"
   ]
  },
  {
   "attachments": {},
   "cell_type": "markdown",
   "metadata": {},
   "source": [
    "## Declare Network"
   ]
  },
  {
   "cell_type": "code",
   "execution_count": null,
   "metadata": {},
   "outputs": [],
   "source": [
    "distance_matrix = [\n",
    "    [2366], \n",
    "    [2620]\n",
    "]\n",
    "\n",
    "transport_matrix = [\n",
    "    [[Train_H2]], \n",
    "    [[Grid]],\n",
    "]\n",
    "capacity_factor  = {(houston, newyork): {Train_H2: weather_sd[['wind_speed']]}, (sandiego, newyork): {Train_H2: weather_sd[['wind_speed']]}}\n",
    "\n",
    "network = Network(name='network', scales = scales, land_max= (0,5), land_max_factor= pandas.DataFrame({'a': [5]}),  \n",
    "                  capacity_factor= capacity_factor, vopex_factor = {(houston, sandiego): {Train_H2: weather_sd[['wind_speed']]}}, sources=[houston, sandiego],\n",
    "                  sinks=[newyork], distance_matrix=distance_matrix, transport_matrix=transport_matrix)\n"
   ]
  },
  {
   "cell_type": "code",
   "execution_count": null,
   "metadata": {},
   "outputs": [],
   "source": [
    "\n",
    "scenario = Scenario(name='scenario_full', network=network, scales=scales, label='full_case')\n"
   ]
  },
  {
   "cell_type": "code",
   "execution_count": null,
   "metadata": {},
   "outputs": [],
   "source": [
    "scenario"
   ]
  },
  {
   "cell_type": "code",
   "execution_count": null,
   "metadata": {},
   "outputs": [],
   "source": [
    "for i in houston.resources:\n",
    "    print(i.ctype)"
   ]
  },
  {
   "cell_type": "code",
   "execution_count": null,
   "metadata": {},
   "outputs": [],
   "source": [
    "houston.resources_produce"
   ]
  },
  {
   "cell_type": "code",
   "execution_count": null,
   "metadata": {},
   "outputs": [],
   "source": []
  },
  {
   "cell_type": "code",
   "execution_count": null,
   "metadata": {},
   "outputs": [],
   "source": [
    "ResourceType.all()"
   ]
  },
  {
   "cell_type": "code",
   "execution_count": null,
   "metadata": {},
   "outputs": [],
   "source": [
    "ResourceType.resource_level()"
   ]
  },
  {
   "cell_type": "code",
   "execution_count": null,
   "metadata": {},
   "outputs": [],
   "source": [
    "ResourceType.location_level()"
   ]
  },
  {
   "cell_type": "code",
   "execution_count": null,
   "metadata": {},
   "outputs": [],
   "source": [
    "ResourceType.transport_level()"
   ]
  },
  {
   "cell_type": "code",
   "execution_count": null,
   "metadata": {},
   "outputs": [],
   "source": [
    "ProcessType.all()"
   ]
  },
  {
   "cell_type": "code",
   "execution_count": null,
   "metadata": {},
   "outputs": [],
   "source": [
    "ProcessType.process_level()"
   ]
  },
  {
   "cell_type": "code",
   "execution_count": null,
   "metadata": {},
   "outputs": [],
   "source": [
    "ProcessType.location_level()"
   ]
  },
  {
   "cell_type": "code",
   "execution_count": null,
   "metadata": {},
   "outputs": [],
   "source": [
    "LocationType.location_level()"
   ]
  },
  {
   "cell_type": "code",
   "execution_count": null,
   "metadata": {},
   "outputs": [],
   "source": [
    "Power.transport"
   ]
  },
  {
   "cell_type": "code",
   "execution_count": null,
   "metadata": {},
   "outputs": [],
   "source": [
    "Solar.availability"
   ]
  },
  {
   "cell_type": "code",
   "execution_count": null,
   "metadata": {},
   "outputs": [],
   "source": [
    "Power.demand"
   ]
  },
  {
   "cell_type": "code",
   "execution_count": null,
   "metadata": {},
   "outputs": [],
   "source": [
    "[((houston, sandiego), CO2), ((houston, sandiego), H2), ((houston, newyork), CO2)]"
   ]
  },
  {
   "cell_type": "code",
   "execution_count": null,
   "metadata": {},
   "outputs": [],
   "source": [
    "comp_loc_dict = scenario.resources_locations_discharge"
   ]
  },
  {
   "cell_type": "code",
   "execution_count": null,
   "metadata": {},
   "outputs": [],
   "source": [
    "scenario.locations_land"
   ]
  },
  {
   "cell_type": "code",
   "execution_count": null,
   "metadata": {},
   "outputs": [],
   "source": [
    "scenario.locations_locations_land"
   ]
  },
  {
   "cell_type": "code",
   "execution_count": null,
   "metadata": {},
   "outputs": [],
   "source": [
    "comp_loc_ordered_set = [(i, j) for i in comp_loc_dict for j in comp_loc_dict[i]]"
   ]
  },
  {
   "cell_type": "code",
   "execution_count": null,
   "metadata": {},
   "outputs": [],
   "source": [
    "scenario.resources_locations_store"
   ]
  },
  {
   "cell_type": "code",
   "execution_count": null,
   "metadata": {},
   "outputs": [],
   "source": [
    "comp_loc_ordered_set"
   ]
  },
  {
   "cell_type": "code",
   "execution_count": null,
   "metadata": {},
   "outputs": [],
   "source": [
    "comp_loc_ordered_set"
   ]
  },
  {
   "cell_type": "code",
   "execution_count": null,
   "metadata": {},
   "outputs": [],
   "source": [
    "scenario.resources_locations_discharge"
   ]
  },
  {
   "cell_type": "code",
   "execution_count": null,
   "metadata": {},
   "outputs": [],
   "source": [
    "scenario.resources_discharge"
   ]
  },
  {
   "cell_type": "code",
   "execution_count": null,
   "metadata": {},
   "outputs": [],
   "source": [
    "scenario.processes_locations_expenditure"
   ]
  },
  {
   "cell_type": "code",
   "execution_count": null,
   "metadata": {},
   "outputs": [],
   "source": [
    "resources_consume_locations = {resource: set() for resource in scenario.resources_consume}\n",
    "for resource in scenario.resources_consume:\n",
    "    for location in scenario.locations:\n",
    "        if hasattr(location, 'resources_consume'):\n",
    "            if resource in location.resources_consume:\n",
    "                resources_consume_locations[resource].add(location)"
   ]
  },
  {
   "cell_type": "code",
   "execution_count": null,
   "metadata": {},
   "outputs": [],
   "source": [
    "resources_consume_locations = {resource: {location for location in scenario.locations if hasattr(location, 'resources_consume') and resource in location.resources_consume} for resource in scenario.resources_consume}"
   ]
  },
  {
   "cell_type": "code",
   "execution_count": null,
   "metadata": {},
   "outputs": [],
   "source": [
    "scenario.resources_consume"
   ]
  },
  {
   "cell_type": "code",
   "execution_count": null,
   "metadata": {},
   "outputs": [],
   "source": [
    "resources_consume_locations = {resource: {location for location in self.locations if hasattr(location, 'resources_consume') and resource in location.resources_consume} for resource in self.resources_consume}"
   ]
  },
  {
   "cell_type": "code",
   "execution_count": null,
   "metadata": {},
   "outputs": [],
   "source": [
    "resources_consume_locations "
   ]
  },
  {
   "cell_type": "code",
   "execution_count": null,
   "metadata": {},
   "outputs": [],
   "source": [
    "resources_demand_locations = {resource: {location for location in scenario.locations if hasattr(location, 'resources_demand') and resource in location.resources_demand} for resource in scenario.resources_demand}"
   ]
  },
  {
   "cell_type": "code",
   "execution_count": null,
   "metadata": {},
   "outputs": [],
   "source": [
    "scenario.resource_classifications()"
   ]
  },
  {
   "cell_type": "code",
   "execution_count": null,
   "metadata": {},
   "outputs": [],
   "source": [
    "{component: {location for location in getattr(self, 'locations') if hasattr(location, f'{component_set}_{parameter.lower()}') and resource in getattr(location, f'{component_set}_{parameter.lower()}')} for resource in getattr(self, f'{component_set}_{parameter.lower()}')}"
   ]
  },
  {
   "cell_type": "code",
   "execution_count": null,
   "metadata": {},
   "outputs": [],
   "source": [
    "scenario.process_classifications()\n"
   ]
  },
  {
   "cell_type": "code",
   "execution_count": null,
   "metadata": {},
   "outputs": [],
   "source": [
    "[((houston.name, sandiego.name), CO2.name), ((houston.name, sandiego.name), H2.name), ((houston.name, newyork.name), CO2.name)]"
   ]
  },
  {
   "cell_type": "code",
   "execution_count": null,
   "metadata": {},
   "outputs": [],
   "source": [
    "help(ResourceParamType)"
   ]
  },
  {
   "cell_type": "code",
   "execution_count": null,
   "metadata": {},
   "outputs": [],
   "source": []
  },
  {
   "cell_type": "code",
   "execution_count": null,
   "metadata": {},
   "outputs": [],
   "source": [
    "from pyomo.environ import *\n",
    "# from energiapy.utils.scale_utils import scale_pyomo_set\n"
   ]
  },
  {
   "cell_type": "code",
   "execution_count": null,
   "metadata": {},
   "outputs": [],
   "source": [
    "scales1 = TemporalScale(discretization_list=[1, 4], design_scale= 0, scheduling_scale=1)"
   ]
  },
  {
   "cell_type": "code",
   "execution_count": null,
   "metadata": {},
   "outputs": [],
   "source": [
    "type(scales1)"
   ]
  },
  {
   "cell_type": "code",
   "execution_count": null,
   "metadata": {},
   "outputs": [],
   "source": [
    "scales2 = TemporalScale(discretization_list=[2, 2, 2], design_scale= 0, scheduling_scale=2)\n"
   ]
  },
  {
   "cell_type": "code",
   "execution_count": null,
   "metadata": {},
   "outputs": [],
   "source": [
    "scales1.index_list"
   ]
  },
  {
   "cell_type": "code",
   "execution_count": null,
   "metadata": {},
   "outputs": [],
   "source": [
    "scales2.index_list"
   ]
  },
  {
   "cell_type": "code",
   "execution_count": null,
   "metadata": {},
   "outputs": [],
   "source": [
    "m = ConcreteModel()\n",
    "m.scales = Set(scales1.list,\n",
    "                    initialize=scales1.scale)\n",
    "m.scales_scheduling = scale_pyomo_set(\n",
    "        instance=m, scale_level=scales1.scheduling_scale)\n",
    "m.scales_design = scale_pyomo_set(\n",
    "        instance=m, scale_level=scales1.design_scale)\n",
    "\n"
   ]
  },
  {
   "cell_type": "code",
   "execution_count": null,
   "metadata": {},
   "outputs": [],
   "source": [
    "scales.scheduling_scale"
   ]
  },
  {
   "cell_type": "code",
   "execution_count": null,
   "metadata": {},
   "outputs": [],
   "source": [
    "# m.a = Set(initialize = [(i, j) for i in resources_consume_locations for j in resources_consume_locations[i]])\n",
    "# m.b = Set(initialize = [(i.name, j.name) for i in scenario.resources_locations_consume for j in scenario.resources_locations_consume[i]])\n",
    "# m.c = Set(initialize = [((houston.name, sandiego.name), CO2.name), ((houston.name, sandiego.name), H2.name), ((houston.name, newyork.name), CO2.name)])\n",
    "# m.A = Var(m.a, m.scales_scheduling, within = NonNegativeReals)\n",
    "# m.B = Var(m.b, m.scales_design, within = NonNegativeReals)\n",
    "# m.C = Var(m.c, m.scales_scheduling, within = NonNegativeReals)"
   ]
  },
  {
   "cell_type": "code",
   "execution_count": null,
   "metadata": {},
   "outputs": [],
   "source": [
    "from pyomo.environ import * \n",
    "m = ConcreteModel()"
   ]
  },
  {
   "cell_type": "code",
   "execution_count": null,
   "metadata": {},
   "outputs": [],
   "source": [
    "m.d = Set(initialize = [(Train_H2.name, (houston.name, sandiego.name)), (Grid.name, (houston.name, sandiego.name)), (Grid.name, (houston.name, newyork.name))])\n",
    "m.D = Var(m.d, m.scales_design, within = NonNegativeReals)\n"
   ]
  },
  {
   "cell_type": "code",
   "execution_count": null,
   "metadata": {},
   "outputs": [],
   "source": [
    "m.f = Set(initialize = [Train_H2.name, Grid.name])\n",
    "m.F = Var(m.f, m.scales_design, within = NonNegativeReals)\n"
   ]
  },
  {
   "cell_type": "code",
   "execution_count": null,
   "metadata": {},
   "outputs": [],
   "source": [
    "m.g = Set(initialize = [(CO2.name, (houston.name, sandiego.name)), (Power.name, (houston.name, sandiego.name)), (H2.name, (houston.name, newyork.name))])"
   ]
  },
  {
   "cell_type": "code",
   "execution_count": null,
   "metadata": {},
   "outputs": [],
   "source": [
    "m.G = Var(m.g, m.scales_scheduling, within = NonNegativeReals)"
   ]
  },
  {
   "cell_type": "code",
   "execution_count": null,
   "metadata": {},
   "outputs": [],
   "source": [
    "m.G.pprint()"
   ]
  },
  {
   "cell_type": "code",
   "execution_count": null,
   "metadata": {},
   "outputs": [],
   "source": [
    "m = ConcreteModel()\n"
   ]
  },
  {
   "cell_type": "code",
   "execution_count": null,
   "metadata": {},
   "outputs": [],
   "source": [
    "import gurobipy\n",
    "m = gurobipy.read('example.lp')"
   ]
  },
  {
   "cell_type": "code",
   "execution_count": null,
   "metadata": {},
   "outputs": [],
   "source": [
    "import pandas "
   ]
  },
  {
   "cell_type": "code",
   "execution_count": null,
   "metadata": {},
   "outputs": [],
   "source": [
    "a = pandas.DataFrame(data= {'a': [1, 2, 3]})"
   ]
  },
  {
   "cell_type": "code",
   "execution_count": null,
   "metadata": {},
   "outputs": [],
   "source": [
    "b = "
   ]
  },
  {
   "cell_type": "code",
   "execution_count": null,
   "metadata": {},
   "outputs": [],
   "source": []
  },
  {
   "cell_type": "code",
   "execution_count": null,
   "metadata": {},
   "outputs": [],
   "source": [
    "class LPFileCreator:\n",
    "    def __init__(self, objective, constraints, bounds, file_name=\"problem.lp\"):\n",
    "        self.objective = objective\n",
    "        self.constraints = constraints\n",
    "        self.bounds = bounds\n",
    "        self.file_name = file_name\n",
    "    \n",
    "    def create_lp_file(self):\n",
    "        content = self._generate_lp_content()\n",
    "        with open(self.file_name, \"w\") as file:\n",
    "            file.write(content)\n",
    "    \n",
    "    def _generate_lp_content(self):\n",
    "        lp_content = []\n",
    "        \n",
    "        # Add Objective Function\n",
    "        lp_content.append(\"\\\\* Problem Statement *\\\\\")\n",
    "        lp_content.append(\"\\nMaximize\")\n",
    "        lp_content.append(f\" obj: {self.objective}\\n\")\n",
    "        \n",
    "        # Add Constraints\n",
    "        lp_content.append(\"Subject To\")\n",
    "        for i, constraint in enumerate(self.constraints, start=1):\n",
    "            lp_content.append(f\" c{i}: {constraint}\")\n",
    "        lp_content.append(\"\")\n",
    "        \n",
    "        # Add Bounds\n",
    "        lp_content.append(\"Bounds\")\n",
    "        for bound in self.bounds:\n",
    "            lp_content.append(f\" {bound}\")\n",
    "        lp_content.append(\"\")\n",
    "        \n",
    "        # Add End\n",
    "        lp_content.append(\"End\")\n",
    "        \n",
    "        return \"\\n\".join(lp_content)\n"
   ]
  },
  {
   "cell_type": "code",
   "execution_count": null,
   "metadata": {},
   "outputs": [],
   "source": [
    "a = [7, 2, 3].sort()\n"
   ]
  },
  {
   "cell_type": "code",
   "execution_count": null,
   "metadata": {},
   "outputs": [],
   "source": [
    "a"
   ]
  },
  {
   "cell_type": "code",
   "execution_count": null,
   "metadata": {},
   "outputs": [],
   "source": [
    "sorted(a)"
   ]
  },
  {
   "cell_type": "code",
   "execution_count": null,
   "metadata": {},
   "outputs": [],
   "source": [
    "houston.resources_consume"
   ]
  },
  {
   "cell_type": "code",
   "execution_count": null,
   "metadata": {},
   "outputs": [],
   "source": [
    "[f'cons_{i.name}_' for i in houston.resources_consume]"
   ]
  },
  {
   "cell_type": "code",
   "execution_count": null,
   "metadata": {},
   "outputs": [],
   "source": []
  },
  {
   "cell_type": "code",
   "execution_count": null,
   "metadata": {},
   "outputs": [],
   "source": [
    "def tuples_to_strings(tuple_list):\n",
    "    return ['_'.join(map(str, t)) for t in tuple_list]"
   ]
  },
  {
   "cell_type": "code",
   "execution_count": null,
   "metadata": {},
   "outputs": [],
   "source": [
    "scales = TemporalScale([1,4], design_scale= 0, scheduling_scale=1)"
   ]
  },
  {
   "cell_type": "code",
   "execution_count": null,
   "metadata": {},
   "outputs": [],
   "source": [
    "var = ['cons'] #, 'sell']"
   ]
  },
  {
   "cell_type": "code",
   "execution_count": null,
   "metadata": {},
   "outputs": [],
   "source": [
    "res_list = ['res1', 'res2', 'res3']"
   ]
  },
  {
   "cell_type": "code",
   "execution_count": null,
   "metadata": {},
   "outputs": [],
   "source": [
    "time_index = tuples_to_strings(scales.index_list[1])"
   ]
  },
  {
   "cell_type": "code",
   "execution_count": null,
   "metadata": {},
   "outputs": [],
   "source": [
    "value = {'res1': 5, 'res2': 7, 'res3': 8}"
   ]
  },
  {
   "cell_type": "code",
   "execution_count": null,
   "metadata": {},
   "outputs": [],
   "source": [
    "cons = list()"
   ]
  },
  {
   "cell_type": "code",
   "execution_count": null,
   "metadata": {},
   "outputs": [],
   "source": [
    "for i,j,k in product(var, res_list, time_index):\n",
    "    cons.append(f'{i}_{j}_{k} <= {value[j]}')"
   ]
  },
  {
   "cell_type": "code",
   "execution_count": null,
   "metadata": {},
   "outputs": [],
   "source": [
    "ooo = {'res1': 7, 'res2': 5, 'res3': 9}"
   ]
  },
  {
   "cell_type": "code",
   "execution_count": null,
   "metadata": {},
   "outputs": [],
   "source": [
    "k = [f'{ooo[i]} {i}' for i in res_list]"
   ]
  },
  {
   "cell_type": "code",
   "execution_count": null,
   "metadata": {},
   "outputs": [],
   "source": [
    "obj = ' + '.join(k)\n",
    "obj"
   ]
  },
  {
   "cell_type": "code",
   "execution_count": null,
   "metadata": {},
   "outputs": [],
   "source": [
    "for i,j,k in product(var, res_list, time_index):\n"
   ]
  },
  {
   "cell_type": "code",
   "execution_count": null,
   "metadata": {},
   "outputs": [],
   "source": [
    "bou = [f'0 <= {i}' for i in var]"
   ]
  },
  {
   "cell_type": "code",
   "execution_count": null,
   "metadata": {},
   "outputs": [],
   "source": [
    "\n",
    "# Define the problem components\n",
    "objective = \"x + 2 y\"\n",
    "constraints = [\n",
    "    \"x + y >= 1\",\n",
    "    \"x <= 2\",\n",
    "    \"y <= 2\"\n",
    "]\n",
    "bounds = [\n",
    "    \"0 <= x\",\n",
    "    \"0 <= y\"\n",
    "]\n",
    "\n",
    "# Create the LP file\n",
    "# creator = LPFileCreator(objective, constraints, bounds, file_name=\"example.lp\")\n",
    "\n",
    "creator = LPFileCreator(obj, cons, bou, file_name=\"example.lp\")\n",
    "creator.create_lp_file()\n",
    "print(\"LP file 'example.lp' created successfully.\")"
   ]
  },
  {
   "cell_type": "code",
   "execution_count": null,
   "metadata": {},
   "outputs": [],
   "source": [
    "import gurobipy as gb \n",
    "\n",
    "a = gb.read('example.lp')"
   ]
  },
  {
   "cell_type": "code",
   "execution_count": null,
   "metadata": {},
   "outputs": [],
   "source": []
  },
  {
   "cell_type": "code",
   "execution_count": null,
   "metadata": {},
   "outputs": [],
   "source": [
    "a.optimize()"
   ]
  },
  {
   "cell_type": "code",
   "execution_count": null,
   "metadata": {},
   "outputs": [],
   "source": [
    "Maximize\n",
    "  x + y + z\n",
    "Subject To\n",
    "  c0: x + y = 1\n",
    "  c1: x + 5 y + 2 z <= 10\n",
    "  qc0: x + y + [ x ^ 2 - 2 x * y + 3 y ^ 2 ] <= 5\n",
    "Bounds\n",
    "  0 <= x <= 5\n",
    "  z >= 2\n",
    "Generals\n",
    "  x y z\n",
    "End\n"
   ]
  },
  {
   "cell_type": "code",
   "execution_count": null,
   "metadata": {},
   "outputs": [],
   "source": [
    "H2O.purchase_cost"
   ]
  },
  {
   "cell_type": "code",
   "execution_count": null,
   "metadata": {},
   "outputs": [],
   "source": [
    "H2O.cons_max"
   ]
  },
  {
   "cell_type": "code",
   "execution_count": null,
   "metadata": {},
   "outputs": [],
   "source": [
    "m.optimize()"
   ]
  },
  {
   "cell_type": "code",
   "execution_count": null,
   "metadata": {},
   "outputs": [],
   "source": [
    "m.getVars()"
   ]
  },
  {
   "cell_type": "code",
   "execution_count": null,
   "metadata": {},
   "outputs": [],
   "source": [
    "plot_scenario.capacity_factor(scenario = scenario, location= houston, process= PV, fig_size= (9,5), color= 'orange')\n"
   ]
  },
  {
   "attachments": {},
   "cell_type": "markdown",
   "metadata": {},
   "source": [
    "![cap fac pv](plots/cf_ho.png)"
   ]
  },
  {
   "cell_type": "code",
   "execution_count": null,
   "metadata": {},
   "outputs": [],
   "source": [
    "plot_scenario.capacity_factor(scenario = scenario, location= sandiego, process= WF, fig_size= (9,5), color= 'blue')\n"
   ]
  },
  {
   "attachments": {},
   "cell_type": "markdown",
   "metadata": {},
   "source": [
    "![cap fac wf](plots/wf_sd.png)"
   ]
  },
  {
   "cell_type": "code",
   "execution_count": null,
   "metadata": {},
   "outputs": [],
   "source": [
    "plot_scenario.demand_factor(scenario = scenario, location= newyork, resource= Power, fig_size= (9,5), color= 'red')\n"
   ]
  },
  {
   "attachments": {},
   "cell_type": "markdown",
   "metadata": {},
   "source": [
    "![df ny](plots/df_ny.png)"
   ]
  },
  {
   "attachments": {},
   "cell_type": "markdown",
   "metadata": {},
   "source": [
    "## Optimize for minimum cost"
   ]
  },
  {
   "cell_type": "code",
   "execution_count": null,
   "metadata": {},
   "outputs": [],
   "source": [
    "milp_cost = formulate(scenario= scenario, constraints={Constraints.COST, Constraints.INVENTORY, Constraints.PRODUCTION, Constraints.RESOURCE_BALANCE, Constraints.TRANSPORT, Constraints.MODE, Constraints.NETWORK},  objective=Objective.COST)"
   ]
  },
  {
   "attachments": {},
   "cell_type": "markdown",
   "metadata": {},
   "source": [
    "**Ensure no discharge of power in Houston and San Diego**\n",
    "\n",
    "While the demand for power is zero in these locations, Power is still a dischargeable resource. Hence, the discharge bounds need to be set to zero.\n",
    "If not set to zero, the system chooses to dispense power instead of establishing storage networks."
   ]
  },
  {
   "cell_type": "code",
   "execution_count": null,
   "metadata": {},
   "outputs": [],
   "source": [
    "\n",
    "milp_cost.constraint_specific_location_discharge_ho = constraint_specific_location_discharge(\n",
    "        instance=milp_cost, network_scale_level=0, bounds={Power: 0}, location = houston)\n",
    "milp_cost.constraint_specific_location_discharge_sd = constraint_specific_location_discharge(\n",
    "        instance=milp_cost, network_scale_level=0, bounds={Power: 0}, location = sandiego)\n"
   ]
  },
  {
   "cell_type": "code",
   "execution_count": null,
   "metadata": {},
   "outputs": [],
   "source": [
    "\n",
    "results_cost = solve(scenario = scenario, instance= milp_cost, solver= 'gurobi', name=\"results_cost\", print_solversteps = True)\n"
   ]
  },
  {
   "attachments": {},
   "cell_type": "markdown",
   "metadata": {},
   "source": [
    "**Schedule for transport of hydrogen**"
   ]
  },
  {
   "cell_type": "code",
   "execution_count": null,
   "metadata": {},
   "outputs": [],
   "source": [
    "plot_results.transport(results=results_cost, source='SD', sink='NY', resource='H2', transport='Train_H2')\n"
   ]
  },
  {
   "attachments": {},
   "cell_type": "markdown",
   "metadata": {},
   "source": [
    "![sch t sdny](plots/sch_sdny.png)"
   ]
  },
  {
   "cell_type": "code",
   "execution_count": null,
   "metadata": {},
   "outputs": [],
   "source": [
    "plot_results.transport(results=results_cost, source='HO', sink='NY', resource='H2', transport='Train_H2')"
   ]
  },
  {
   "attachments": {},
   "cell_type": "markdown",
   "metadata": {},
   "source": [
    "![sch hony](plots/sch_hony.png)"
   ]
  },
  {
   "attachments": {},
   "cell_type": "markdown",
   "metadata": {},
   "source": [
    "**Cost contribution by technology**"
   ]
  },
  {
   "cell_type": "code",
   "execution_count": null,
   "metadata": {},
   "outputs": [],
   "source": [
    "plot_results.cost(results= results_cost, x = CostX.PROCESS_WISE, y = CostY.CAPEX, location= 'HO', fig_size= (8,6))\n",
    "plot_results.cost(results= results_cost, x = CostX.PROCESS_WISE, y = CostY.VOPEX, location= 'HO', fig_size= (8,6))\n",
    "plot_results.cost(results= results_cost, x = CostX.PROCESS_WISE, y = CostY.FOPEX, location= 'HO', fig_size= (8,6))\n",
    "plot_results.cost(results= results_cost, x = CostX.PROCESS_WISE, y = CostY.TOTAL, location= 'HO', fig_size= (8,6))"
   ]
  },
  {
   "attachments": {},
   "cell_type": "markdown",
   "metadata": {},
   "source": [
    "![total cost ho](plots/total_ho.png)"
   ]
  },
  {
   "attachments": {},
   "cell_type": "markdown",
   "metadata": {},
   "source": [
    "**Location-wise cost contribution by technology**"
   ]
  },
  {
   "cell_type": "code",
   "execution_count": null,
   "metadata": {},
   "outputs": [],
   "source": [
    "\n",
    "plot_results.cost(results= results_cost, x = CostX.LOCATION_WISE, y = CostY.CAPEX, fig_size= (8,6))\n",
    "plot_results.cost(results= results_cost, x = CostX.LOCATION_WISE, y = CostY.VOPEX, fig_size= (8,6))\n",
    "plot_results.cost(results= results_cost, x = CostX.LOCATION_WISE, y = CostY.FOPEX, fig_size= (8,6))\n",
    "plot_results.cost(results= results_cost, x = CostX.LOCATION_WISE, y = CostY.TOTAL, fig_size= (8,6))"
   ]
  },
  {
   "attachments": {},
   "cell_type": "markdown",
   "metadata": {},
   "source": [
    "![total lw](plots/total_lw.png)"
   ]
  },
  {
   "attachments": {},
   "cell_type": "markdown",
   "metadata": {},
   "source": [
    "**Inventory and production schedules**"
   ]
  },
  {
   "cell_type": "code",
   "execution_count": null,
   "metadata": {},
   "outputs": [],
   "source": [
    "plot_results.schedule(results= results_cost, y_axis= 'Inv', component= 'LiI_Power_stored', location = 'SD', fig_size= (9,5), color = 'steelblue')"
   ]
  },
  {
   "attachments": {},
   "cell_type": "markdown",
   "metadata": {},
   "source": [
    "![inv lii](plots/lii_inv.png)"
   ]
  },
  {
   "cell_type": "code",
   "execution_count": null,
   "metadata": {},
   "outputs": [],
   "source": [
    "plot_results.schedule(results= results_cost, y_axis= 'P', component= 'PV', location = 'SD', fig_size= (9,5), color = 'steelblue')"
   ]
  },
  {
   "attachments": {},
   "cell_type": "markdown",
   "metadata": {},
   "source": [
    "![pv p](plots/pv_p.png)"
   ]
  },
  {
   "attachments": {},
   "cell_type": "markdown",
   "metadata": {},
   "source": [
    "## Optimize to maximize resource discharge "
   ]
  },
  {
   "cell_type": "code",
   "execution_count": null,
   "metadata": {},
   "outputs": [],
   "source": [
    "\n",
    "milp_demand = formulate(scenario=scenario, constraints={Constraints.COST, Constraints.INVENTORY, Constraints.PRODUCTION,\n",
    "                        Constraints.RESOURCE_BALANCE, Constraints.TRANSPORT, Constraints.MODE, Constraints.NETWORK},  objective=Objective.MAX_DISCHARGE, objective_resource=Power)\n"
   ]
  },
  {
   "cell_type": "code",
   "execution_count": null,
   "metadata": {},
   "outputs": [],
   "source": [
    "\n",
    "milp_demand.constraint_specific_location_discharge_ho = constraint_specific_location_discharge(\n",
    "        instance=milp_demand, network_scale_level=0, bounds={Power: 0}, location = houston)\n",
    "milp_demand.constraint_specific_location_discharge_sd = constraint_specific_location_discharge(\n",
    "        instance=milp_demand, network_scale_level=0, bounds={Power: 0}, location = sandiego)\n"
   ]
  },
  {
   "cell_type": "code",
   "execution_count": null,
   "metadata": {},
   "outputs": [],
   "source": [
    "\n",
    "results_demand = solve(scenario=scenario, instance=milp_demand, solver='gurobi',\n",
    "                       name=\"results_demand\", print_solversteps=True)\n"
   ]
  },
  {
   "attachments": {},
   "cell_type": "markdown",
   "metadata": {},
   "source": [
    "**Schedule for transport of hydrogen**"
   ]
  },
  {
   "cell_type": "code",
   "execution_count": null,
   "metadata": {},
   "outputs": [],
   "source": [
    "plot_results.transport(results=results_demand, source='SD', sink='NY', resource='H2', transport='Train_H2')\n"
   ]
  },
  {
   "attachments": {},
   "cell_type": "markdown",
   "metadata": {},
   "source": [
    "![sch t sdny2](plots/sch_sdny2.png)"
   ]
  },
  {
   "cell_type": "code",
   "execution_count": null,
   "metadata": {},
   "outputs": [],
   "source": [
    "plot_results.transport(results=results_demand, source='HO', sink='NY', resource='H2', transport='Train_H2')"
   ]
  },
  {
   "attachments": {},
   "cell_type": "markdown",
   "metadata": {},
   "source": [
    "![sch t hony](plots/sch_hony2.png)"
   ]
  }
 ],
 "metadata": {
  "kernelspec": {
   "display_name": "Python 3.10.5 ('ki': venv)",
   "language": "python",
   "name": "python3"
  },
  "language_info": {
   "codemirror_mode": {
    "name": "ipython",
    "version": 3
   },
   "file_extension": ".py",
   "mimetype": "text/x-python",
   "name": "python",
   "nbconvert_exporter": "python",
   "pygments_lexer": "ipython3",
   "version": "3.11.9"
  },
  "orig_nbformat": 4,
  "vscode": {
   "interpreter": {
    "hash": "a4a97498e3c1bfef05f70a75d4fcafcb7b5c9c4ed86429a4e7bee46eaa890f24"
   }
  }
 },
 "nbformat": 4,
 "nbformat_minor": 2
}
