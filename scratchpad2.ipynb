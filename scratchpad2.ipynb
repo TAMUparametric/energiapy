{
 "cells": [
  {
   "attachments": {},
   "cell_type": "markdown",
   "metadata": {},
   "source": [
    "## Import modules"
   ]
  },
  {
   "cell_type": "code",
   "execution_count": 1,
   "metadata": {},
   "outputs": [],
   "source": [
    "# def load_data(loc:str, index:list):\n",
    "#     df = pandas.read_csv(f'data/{loc}_solar19.csv')\n",
    "#     df['idx'] = index\n",
    "#     df = df.set_index('idx')\n",
    "#     return df\n",
    "# idx = [(i,j,k) for i,j,k in product(range(1), range(365), range(24))]\n",
    "# weather_ny = load_data('ny', idx)[['DNI', 'Wind Speed']]\n",
    "# weather_ny = weather_ny.rename(columns= {'DNI': 'dni', 'Wind Speed': 'wind_speed'})\n",
    "# weather_sd = load_data('sd', idx)[['dni', 'wind_speed']]\n",
    "# weather_ho = load_data('ho', idx)[['dni', 'wind_speed']]\"\"\n",
    "# demand_sd = pandas.read_excel('data/HistoricalEMSHourlyLoad-2019.xlsx', index_col= 0)[['SDGE']]\n",
    "# demand_ho = pandas.read_excel('data/Native_Load_2019.xlsx')[['COAST']]\n",
    "# demand_ny = DataFrame(pandas.read_csv('data/NYC_load.csv')['Load']) #from Will and Doga\n",
    "# ng_price = make_henry_price_df(\n",
    "#     file_name='data/Henry_Hub_Natural_Gas_Spot_Price_Daily.csv', year=2020)\n",
    "# ng_price = ng_price.drop(columns= 'scales')\n",
    "# ng_price = remove_outliers(ng_price, sd_cuttoff = 3)\n",
    "# ng_price = pandas.concat([ng_price])"
   ]
  },
  {
   "cell_type": "code",
   "execution_count": 2,
   "metadata": {},
   "outputs": [],
   "source": [
    "import sys\n",
    "\n",
    "\n",
    "sys.path.append('src')"
   ]
  },
  {
   "cell_type": "code",
   "execution_count": 3,
   "metadata": {},
   "outputs": [],
   "source": [
    "from pandas import DataFrame\n",
    "from energiapy.components import *\n",
    "from energiapy.blocks.scenario import Scenario\n",
    "from energiapy.parameters.designators.mode import X\n",
    "from energiapy.parameters.designators.incidental import I"
   ]
  },
  {
   "cell_type": "code",
   "execution_count": 4,
   "metadata": {},
   "outputs": [],
   "source": [
    "s = Scenario(default=True)"
   ]
  },
  {
   "cell_type": "code",
   "execution_count": 5,
   "metadata": {},
   "outputs": [
    {
     "name": "stderr",
     "output_type": "stream",
     "text": [
      "c:\\Users\\cacodcar\\energiapy\\src\\energiapy\\blocks\\scenario.py:310: UserWarning: \n",
      "A hrz_def object was already defined.\n",
      "Overwriting.\n",
      "This should not cause any modeling issues.\n",
      "Check Scenario defaults if unintended.\n",
      "\n",
      "  warn(\n",
      "c:\\Users\\cacodcar\\energiapy\\src\\energiapy\\blocks\\scenario.py:310: UserWarning: \n",
      "A ntw_def object was already defined.\n",
      "Overwriting.\n",
      "This should not cause any modeling issues.\n",
      "Check Scenario defaults if unintended.\n",
      "\n",
      "  warn(\n"
     ]
    }
   ],
   "source": [
    "# s.h2 = Horizon({'days': 2, 'hours': 12})\n",
    "s.hor = Horizon(discretizations=[2, 12])\n",
    "s.scales\n",
    "s.net = Network(['madgaon', 'ponje', 'cacoda'])\n",
    "s.nodes\n",
    "s.alink = Linkage(source=s.madgaon, sink=s.ponje, bi=True, distance=50)\n",
    "s.blink = Linkage(source=s.ponje, sink=s.cacoda, bi=False, distance=80)\n",
    "s.clink = Linkage(source=s.cacoda, sink=s.madgaon, bi=True, distance=100)\n",
    "s.dlink = Linkage(source=s.madgaon, sink=s.ponje, bi=False, distance=200)"
   ]
  },
  {
   "cell_type": "code",
   "execution_count": 6,
   "metadata": {},
   "outputs": [
    {
     "data": {
      "text/plain": [
       "[t0, t1, t2]"
      ]
     },
     "execution_count": 6,
     "metadata": {},
     "output_type": "execute_result"
    }
   ],
   "source": [
    "s.system.scales "
   ]
  },
  {
   "cell_type": "code",
   "execution_count": 7,
   "metadata": {},
   "outputs": [
    {
     "data": {
      "text/plain": [
       "[t0, t1, t2]"
      ]
     },
     "execution_count": 7,
     "metadata": {},
     "output_type": "execute_result"
    }
   ],
   "source": [
    "s.scales"
   ]
  },
  {
   "cell_type": "code",
   "execution_count": 8,
   "metadata": {},
   "outputs": [],
   "source": [
    "a = DataFrame({'a': list(range(2))})\n",
    "b = DataFrame({'b': list(range(24))})"
   ]
  },
  {
   "cell_type": "code",
   "execution_count": 9,
   "metadata": {},
   "outputs": [
    {
     "name": "stderr",
     "output_type": "stream",
     "text": [
      "c:\\Users\\cacodcar\\energiapy\\src\\energiapy\\blocks\\scenario.py:310: UserWarning: \n",
      "A csh_def object was already defined.\n",
      "Overwriting.\n",
      "This should not cause any modeling issues.\n",
      "Check Scenario defaults if unintended.\n",
      "\n",
      "  warn(\n"
     ]
    }
   ],
   "source": [
    "s.csh = Cash(\n",
    "    spend={\n",
    "        s.madgaon: True,\n",
    "        s.ponje: {s.t1: (2, a)},\n",
    "        s.cacoda: 300,\n",
    "        s.network: {s.t2: [5, 60]},\n",
    "    }\n",
    ")"
   ]
  },
  {
   "cell_type": "code",
   "execution_count": 10,
   "metadata": {},
   "outputs": [
    {
     "data": {
      "text/plain": [
       "[BindLB[Spend(csh, net, t2)],\n",
       " BindUB[Spend(csh, madgaon, t0)],\n",
       " BindUB[Spend(csh, net, t2)],\n",
       " Bind[Spend(csh, cacoda, t0)],\n",
       " Bind[Spend(csh, ponje, t1)]]"
      ]
     },
     "execution_count": 10,
     "metadata": {},
     "output_type": "execute_result"
    }
   ],
   "source": [
    "s.csh.constraints"
   ]
  },
  {
   "cell_type": "code",
   "execution_count": 11,
   "metadata": {},
   "outputs": [
    {
     "data": {
      "text/plain": [
       "[Spend(csh, cacoda, t0),\n",
       " Spend(csh, madgaon, t0),\n",
       " Spend(csh, net, t2),\n",
       " Spend(csh, ponje, t1)]"
      ]
     },
     "execution_count": 11,
     "metadata": {},
     "output_type": "execute_result"
    }
   ],
   "source": [
    "s.csh.variables"
   ]
  },
  {
   "cell_type": "code",
   "execution_count": 12,
   "metadata": {},
   "outputs": [
    {
     "data": {
      "text/plain": [
       "[SpendBnd|300(csh, cacoda, t0)|,\n",
       " SpendBnd|5(csh, net, t2):L|,\n",
       " SpendBnd|60(csh, net, t2):U|,\n",
       " SpendBnd|M(csh, madgaon, t0)|,\n",
       " SpendBnd|Th(csh, ponje, t1)|]"
      ]
     },
     "execution_count": 12,
     "metadata": {},
     "output_type": "execute_result"
    }
   ],
   "source": [
    "s.csh.parameters"
   ]
  },
  {
   "cell_type": "code",
   "execution_count": 13,
   "metadata": {},
   "outputs": [
    {
     "name": "stderr",
     "output_type": "stream",
     "text": [
      "c:\\Users\\cacodcar\\energiapy\\src\\energiapy\\blocks\\scenario.py:310: UserWarning: \n",
      "A lnd_def object was already defined.\n",
      "Overwriting.\n",
      "This should not cause any modeling issues.\n",
      "Check Scenario defaults if unintended.\n",
      "\n",
      "  warn(\n",
      "c:\\Users\\cacodcar\\energiapy\\src\\energiapy\\components\\_base\\_consistent.py:164: UserWarning: lnd.use:Inconsistent temporal scale for ponje at t0. Updating to t2\n",
      "  warn(\n"
     ]
    }
   ],
   "source": [
    "s.lnd = Land(use={s.t2: 100, s.ponje: {s.t0: b}, s.cacoda: a}, cost=20)"
   ]
  },
  {
   "cell_type": "code",
   "execution_count": 14,
   "metadata": {},
   "outputs": [],
   "source": [
    "# s.lnd.parameters\n",
    "# s.lnd.constraints\n",
    "# s.lnd.variables"
   ]
  },
  {
   "cell_type": "code",
   "execution_count": 15,
   "metadata": {},
   "outputs": [
    {
     "name": "stderr",
     "output_type": "stream",
     "text": [
      "c:\\Users\\cacodcar\\energiapy\\src\\energiapy\\components\\_base\\_consistent.py:202: UserWarning: H2.sell_price:Inconsistent temporal scale for ponje at t1. Updating to t2\n",
      "  warn(\n",
      "c:\\Users\\cacodcar\\energiapy\\src\\energiapy\\components\\_base\\_consistent.py:202: UserWarning: Power.buy:Inconsistent temporal scale for net at t0. Updating to t1\n",
      "  warn(\n"
     ]
    }
   ],
   "source": [
    "s.H2 = Resource(\n",
    "    sell={s.t0: [0, 4], s.t1: [a, 34], s.t2: (a, b)},\n",
    "    sell_price={\n",
    "        s.madgaon: True,\n",
    "        s.ponje: {s.t1: (2, b)},\n",
    "        s.cacoda: 300,\n",
    "        s.net: {s.t0: [5, 60]},\n",
    "    },\n",
    ")\n",
    "\n",
    "\n",
    "s.Solar = Resource(buy=True, basis='MW', label='Solar Power')\n",
    "\n",
    "\n",
    "s.Wind = Resource(buy=a, basis='MW', label='Wind Power')\n",
    "\n",
    "\n",
    "s.Power = Resource(basis='MW', label='Power generated')\n",
    "\n",
    "\n",
    "s.Uranium = Resource(\n",
    "    buy=DataFrame({'a': [i for i in range(24)]}),\n",
    "    buy_price=42.70 / (250 / 2),\n",
    "    basis='kg',\n",
    "    label='Uranium',\n",
    ")\n",
    "\n",
    "\n",
    "s.H2_L = Resource(sell=(0, 23), basis='tons', label='Hydrogen')\n",
    "\n",
    "\n",
    "s.CO2_AQoff = Resource(basis='tons', label='Carbon dioxide - sequestered')\n",
    "\n",
    "\n",
    "s.H2O = Resource(buy=(20, 50), buy_price=b, basis='tons', label='Water')\n",
    "\n",
    "\n",
    "s.CH4 = Resource(buy=[20, 40], buy_price=20, basis='tons', label='Natural gas')\n",
    "\n",
    "\n",
    "s.CO2 = Resource(basis='tons', label='Carbon dioxide', block='Resource')\n",
    "\n",
    "\n",
    "s.CO2_Vent = Resource(\n",
    "    basis='tons', label='Carbon dioxide - Vented', sell_price=(2, 20))\n",
    "\n",
    "\n",
    "s.O2 = Resource(sell=[20, True], basis='tons', label='Oxygen')\n",
    "\n",
    "\n",
    "s.CO2_DAC = Resource(basis='tons', label='Carbon dioxide - captured')\n",
    "s.Power = Resource(buy=[0, a], basis='MW', label='Power generated')"
   ]
  },
  {
   "cell_type": "code",
   "execution_count": 16,
   "metadata": {},
   "outputs": [],
   "source": [
    "s.LiR = Material(\n",
    "    emission={s.gwp: 1.484},\n",
    "    use={s.ponje: 1.5},\n",
    "    basis='kg',\n",
    "\n",
    "\n",
    "\n",
    "\n",
    "\n",
    "\n",
    "\n",
    "\n",
    "\n",
    "\n",
    "\n",
    "\n",
    "\n",
    "    label='Lithium Reserves',\n",
    "    citation='Nelson Bunyui Manjong (2021)',\n",
    ")\n",
    "\n",
    "\n",
    "\n",
    "# LiB = Material(name='LiB', gwp=0.031, toxicity=793, basis='kg', label='Brine-based Lithium',\n",
    "\n",
    "\n",
    "\n",
    "#                citation='Nelson Bunyui Manjong (2021)')\n",
    "\n",
    "\n",
    "\n",
    "# Monocrystalline = Material(name='Mc', gwp=20, resource_cons={H2O: 1.5}, toxicity=40.74, basis='kg', label='Mono',\n",
    "\n",
    "\n",
    "#                            citation='Environmental impact assessment of monocrystalline silicon solar photovoltaic cell production: a case study in China (toxicity)')\n",
    "\n",
    "\n",
    "# Polycrystalline = Material(name='Pc', gwp=26, resource_cons={\n",
    "\n",
    "\n",
    "#                            H2O: 1}, toxicity=15, basis='kg', label='Poly', citation='Environmental Economic Impact Assessments of a ... - MDPI (gwp and toxicity)')\n",
    "\n",
    "\n",
    "# CdTE = Material(name='CdTe', gwp=40, resource_cons={H2O: 0.25}, toxicity=5, basis='kg', label='C',\n",
    "\n",
    "\n",
    "#                 citation='Investigation of life cycle CO2 emissions of the polycrystalline and cadmium telluride PV panels')"
   ]
  },
  {
   "cell_type": "code",
   "execution_count": 17,
   "metadata": {},
   "outputs": [],
   "source": [
    "s.WF = Process(\n",
    "    conversion={s.Power: {X(0): {s.Wind: -1}, X(1): {s.Wind: -1}}},\n",
    "    operate=b,\n",
    "    capex={1462000, I(202233)},\n",
    "    opex={4953, I(70)},\n",
    "    capacity=1000,\n",
    "    emission={s.gwp: 50, s.odp: 2900},\n",
    "    material={s.LiR: 1.5},\n",
    "    land=30,\n",
    "    label='Wind mill array',\n",
    "    basis='MW',\n",
    ")\n",
    "\n",
    "\n",
    "s.PV = Process(\n",
    "    sell_price={s.Power: 30},\n",
    "    credit={s.Power: DataFrame({'a': [2]})},\n",
    "    conversion={s.Power: {X(1): {s.Solar: -1.2}, X(2): {s.Solar: -1.5}}},\n",
    "    capex={X(0): 1333, X(1): 1444, X(2): 1555},\n",
    "    opex=22623,\n",
    "    capacity={X(0): 3000, X(1): 4000, X(2): 5000},\n",
    "    label='Solar PV',\n",
    "    basis='MW',\n",
    ")\n",
    "\n",
    "\n",
    "s.SMRH = Process(\n",
    "    land=50,\n",
    "    conversion={\n",
    "        s.H2: {\n",
    "            s.Power: -1.11,\n",
    "            s.CH4: -3.76,\n",
    "            s.H2O: -23.7,\n",
    "            s.CO2_Vent: 1.03,\n",
    "            s.CO2: 9.332,\n",
    "        }\n",
    "    },\n",
    "    capex={2520000, },\n",
    "    opex={51.5, I(945000)},\n",
    "    capacity=1000,\n",
    "    label='Steam methane reforming + CCUS',\n",
    ")\n",
    "\n",
    "s.NGCC = Process(\n",
    "    buy_price={s.CH4: 4, s.H2O: 20},\n",
    "    conversion={\n",
    "        s.Power: {\n",
    "            s.CH4: -0.108,\n",
    "            s.H2O: -10,\n",
    "            s.CO2_Vent: 0.297 * 0.05,\n",
    "            s.CO2: 0.297 * 0.95,\n",
    "        }\n",
    "    },\n",
    "    capex=2158928,\n",
    "    opex={4090, I(53320)},\n",
    "    capacity=[1, 100],\n",
    "    label='NGCC + 95% CC',\n",
    ")\n",
    "s.SMR = Process(\n",
    "    capex=2400,\n",
    "    opex={0.03, I(800)},\n",
    "    conversion={s.H2: {s.Power: -1.11, s.CH4: -\n",
    "                       3.76, s.H2O: -23.7, s.CO2_Vent: 9.4979}},\n",
    "    capacity=1000,\n",
    "    label='Steam methane reforming',\n",
    ")\n",
    "s.H2FC = Process(\n",
    "    buy_price={s.H2: 2},\n",
    "    sell={s.Power: 20},\n",
    "    conversion={s.Power: {s.H2: -0.050}},\n",
    "    capex=1.6 * 10**6,\n",
    "    opex=3.5,\n",
    "    capacity=[1000, 2000],\n",
    "    label='hydrogen fuel cell',\n",
    ")\n",
    "s.DAC = Process(\n",
    "    capex=0.02536,\n",
    "    opex=0.634,\n",
    "    conversion={s.CO2_DAC: {s.Power: -0.193, s.H2O: -4.048}},\n",
    "    capacity=1000,\n",
    "    label='Direct air capture',\n",
    ")\n",
    "# s.PSH = Process(conversion = {s.Power: 0.6}, capex = 3924781, fopex= 17820, vopex = 512.5, store = 10000, capacity=1000, label='Pumped storage hydropower', basis = 'MW')\n",
    "s.ASMR = Process(\n",
    "    buy={s.Uranium: 40},\n",
    "    conversion={s.Power: {s.Uranium: -4.17 * 10 ** (-5), s.H2O: -3.364}},\n",
    "    capex=7988951,\n",
    "    opex=I(0.04 * 0.730),\n",
    "    capacity=1000,\n",
    "    label='Small modular reactors (SMRs)',\n",
    ")\n",
    "s.AWE = Process(\n",
    "    land=(0, 20),\n",
    "    conversion={s.H2: {s.Power: -1, s.O2: 0.7632, s.H2O: -0.1753}},\n",
    "    capex={1.1 * 10**6, I(20)},\n",
    "    opex=I(16918),\n",
    "    capacity=True,\n",
    "    label='Alkaline water electrolysis (AWE)',\n",
    "    citation='Demirhan et al. 2018 AIChE paper',\n",
    ")"
   ]
  },
  {
   "cell_type": "code",
   "execution_count": 18,
   "metadata": {},
   "outputs": [
    {
     "name": "stdout",
     "output_type": "stream",
     "text": [
      "Capacity(PV, net, t0, x(PV,capacity,0))==CapBnd|3000(PV, net, t0, x(PV,capacity,0))|\n",
      "Capacity(PV, net, t0, x(PV,capacity,1))==CapBnd|4000(PV, net, t0, x(PV,capacity,1))|\n",
      "Capacity(PV, net, t0, x(PV,capacity,2))==CapBnd|5000(PV, net, t0, x(PV,capacity,2))|\n",
      "Credit(csh, Power, PV, net, t0)==ResCredit|DtSt(csh, Power, PV, net, t0)|*Sell(Power, PV, net, t0)\n",
      "ExpCap(csh, PV, net, t0, x(PV,capex,0))==CapExp|1333(csh, PV, net, t0, x(PV,capex,0))|*Capacity(PV, net, t0, x(PV,capex,0))\n",
      "ExpCap(csh, PV, net, t0, x(PV,capex,1))==CapExp|1444(csh, PV, net, t0, x(PV,capex,1))|*Capacity(PV, net, t0, x(PV,capex,1))\n",
      "ExpCap(csh, PV, net, t0, x(PV,capex,2))==CapExp|1555(csh, PV, net, t0, x(PV,capex,2))|*Capacity(PV, net, t0, x(PV,capex,2))\n",
      "ExpOp(csh, PV, net, t0)==OpExp|22623(csh, PV, net, t0)|*Operate(PV, net, t0)\n",
      "ExpSell(csh, Power, PV, net, t0)==SellPrice|30(csh, Power, PV, net, t0)|*Sell(Power, PV, net, t0)\n"
     ]
    }
   ],
   "source": [
    "s.PV.eqns()"
   ]
  },
  {
   "cell_type": "code",
   "execution_count": 19,
   "metadata": {},
   "outputs": [
    {
     "data": {
      "text/plain": [
       "[csh, lnd]"
      ]
     },
     "execution_count": 19,
     "metadata": {},
     "output_type": "execute_result"
    }
   ],
   "source": [
    "s.system.assets"
   ]
  },
  {
   "cell_type": "code",
   "execution_count": 20,
   "metadata": {},
   "outputs": [
    {
     "data": {
      "text/plain": [
       "Data|csh|"
      ]
     },
     "execution_count": 20,
     "metadata": {},
     "output_type": "execute_result"
    }
   ],
   "source": [
    "s.data.csh"
   ]
  },
  {
   "cell_type": "code",
   "execution_count": 21,
   "metadata": {},
   "outputs": [
    {
     "data": {
      "text/plain": [
       "energiapy.components.scope.horizon.Horizon"
      ]
     },
     "execution_count": 21,
     "metadata": {},
     "output_type": "execute_result"
    }
   ],
   "source": [
    "type(s.system.components()['scopes'][0])"
   ]
  },
  {
   "cell_type": "code",
   "execution_count": 22,
   "metadata": {},
   "outputs": [
    {
     "data": {
      "text/plain": [
       "[Bind[Capacity(WF, net, t0)],\n",
       " Bind[Operate(WF, net, t2)],\n",
       " Calculate[EmitCap(gwp, WF, net, t0)],\n",
       " Calculate[EmitCap(odp, WF, net, t0)],\n",
       " Calculate[ExpCap(csh, WF, net, t0)],\n",
       " Calculate[ExpCapI(csh, WF, net, t0)],\n",
       " Calculate[ExpOp(csh, WF, net, t0)],\n",
       " Calculate[ExpOpI(csh, WF, net, t0)],\n",
       " Calculate[UseLnd(lnd, WF, net, t0)],\n",
       " Calculate[UseMat(LiR, WF, net, t0)]]"
      ]
     },
     "execution_count": 22,
     "metadata": {},
     "output_type": "execute_result"
    }
   ],
   "source": [
    "s.WF.constraints"
   ]
  },
  {
   "cell_type": "code",
   "execution_count": 23,
   "metadata": {},
   "outputs": [
    {
     "data": {
      "text/plain": [
       "{'index': [(0,)],\n",
       " 'label': None,\n",
       " 'name': 't0',\n",
       " '_named': True,\n",
       " '_system': System|:s:|,\n",
       " '_data': Data|:s:|,\n",
       " '_matrix': Matrix|:s:|,\n",
       " '_program': Program|:s:|}"
      ]
     },
     "execution_count": 23,
     "metadata": {},
     "output_type": "execute_result"
    }
   ],
   "source": [
    "s.t0.__dict__ "
   ]
  },
  {
   "cell_type": "code",
   "execution_count": 24,
   "metadata": {},
   "outputs": [
    {
     "data": {
      "text/plain": [
       "{'index': [(0, 0), (0, 1)],\n",
       " 'label': None,\n",
       " 'name': 't1',\n",
       " '_named': True,\n",
       " '_system': System|:s:|,\n",
       " '_data': Data|:s:|,\n",
       " '_matrix': Matrix|:s:|,\n",
       " '_program': Program|:s:|}"
      ]
     },
     "execution_count": 24,
     "metadata": {},
     "output_type": "execute_result"
    }
   ],
   "source": [
    "s.t1.__dict__"
   ]
  },
  {
   "cell_type": "code",
   "execution_count": 25,
   "metadata": {},
   "outputs": [
    {
     "data": {
      "text/plain": [
       "[Program|gwp|,\n",
       " Program|ap|,\n",
       " Program|epm|,\n",
       " Program|epf|,\n",
       " Program|ept|,\n",
       " Program|pocp|,\n",
       " Program|odp|,\n",
       " Program|adpmn|,\n",
       " Program|adpmt|,\n",
       " Program|adpf|,\n",
       " Program|wdp|,\n",
       " Program|dm|,\n",
       " Program|market|,\n",
       " Program|consumer|,\n",
       " Program|earth|,\n",
       " Program|csh|,\n",
       " Program|lnd|,\n",
       " Program|H2|,\n",
       " Program|Solar|,\n",
       " Program|Wind|,\n",
       " Program|Power|,\n",
       " Program|Uranium|,\n",
       " Program|H2_L|,\n",
       " Program|CO2_AQoff|,\n",
       " Program|H2O|,\n",
       " Program|CH4|,\n",
       " Program|CO2|,\n",
       " Program|CO2_Vent|,\n",
       " Program|O2|,\n",
       " Program|CO2_DAC|,\n",
       " Program|LiR|,\n",
       " Program|WF|,\n",
       " Program|PV|,\n",
       " Program|SMRH|,\n",
       " Program|NGCC|,\n",
       " Program|SMR|,\n",
       " Program|H2FC|,\n",
       " Program|DAC|,\n",
       " Program|ASMR|,\n",
       " Program|AWE|]"
      ]
     },
     "execution_count": 25,
     "metadata": {},
     "output_type": "execute_result"
    }
   ],
   "source": [
    "s.program.blocks "
   ]
  },
  {
   "cell_type": "code",
   "execution_count": 27,
   "metadata": {},
   "outputs": [
    {
     "data": {
      "text/plain": [
       "[cacoda, madgaon, ponje]"
      ]
     },
     "execution_count": 27,
     "metadata": {},
     "output_type": "execute_result"
    }
   ],
   "source": [
    "s.locations "
   ]
  },
  {
   "cell_type": "code",
   "execution_count": null,
   "metadata": {},
   "outputs": [],
   "source": []
  },
  {
   "cell_type": "code",
   "execution_count": 34,
   "metadata": {},
   "outputs": [],
   "source": [
    "s = Scenario()"
   ]
  },
  {
   "cell_type": "code",
   "execution_count": 36,
   "metadata": {},
   "outputs": [
    {
     "data": {
      "text/plain": [
       "{'name': ':s:'}"
      ]
     },
     "execution_count": 36,
     "metadata": {},
     "output_type": "execute_result"
    }
   ],
   "source": [
    "s.program._initial_state"
   ]
  },
  {
   "cell_type": "code",
   "execution_count": 43,
   "metadata": {},
   "outputs": [],
   "source": [
    "s.a = Resource()"
   ]
  },
  {
   "cell_type": "code",
   "execution_count": 41,
   "metadata": {},
   "outputs": [
    {
     "data": {
      "text/plain": [
       "{'a': None}"
      ]
     },
     "execution_count": 41,
     "metadata": {},
     "output_type": "execute_result"
    }
   ],
   "source": [
    "s.program.components()"
   ]
  },
  {
   "cell_type": "code",
   "execution_count": 44,
   "metadata": {},
   "outputs": [
    {
     "data": {
      "text/plain": [
       "[a]"
      ]
     },
     "execution_count": 44,
     "metadata": {},
     "output_type": "execute_result"
    }
   ],
   "source": [
    "s.resources"
   ]
  },
  {
   "cell_type": "code",
   "execution_count": 45,
   "metadata": {},
   "outputs": [
    {
     "data": {
      "text/plain": [
       "{'default_scope': False,\n",
       " 'default_players': False,\n",
       " 'default_emissions': False,\n",
       " 'default_cash': False,\n",
       " 'default_land': False,\n",
       " 'default': False,\n",
       " 'name': ':s:',\n",
       " 'system': System|:s:|,\n",
       " 'program': Program|:s:|,\n",
       " 'data': Data|:s:|,\n",
       " 'matrix': Matrix|:s:|,\n",
       " 'a': a}"
      ]
     },
     "execution_count": 45,
     "metadata": {},
     "output_type": "execute_result"
    }
   ],
   "source": [
    "s.__dict__ "
   ]
  },
  {
   "cell_type": "code",
   "execution_count": 42,
   "metadata": {},
   "outputs": [
    {
     "data": {
      "text/plain": [
       "[]"
      ]
     },
     "execution_count": 42,
     "metadata": {},
     "output_type": "execute_result"
    }
   ],
   "source": [
    "s.locations "
   ]
  },
  {
   "cell_type": "code",
   "execution_count": 33,
   "metadata": {},
   "outputs": [
    {
     "data": {
      "text/plain": [
       "{'component': WF,\n",
       " 'name': 'Data|WF|',\n",
       " 'constants': [1.5(LiR, WF, net, t0),\n",
       "  30(lnd, WF, net, t0),\n",
       "  50(gwp, WF, net, t0),\n",
       "  70(csh, WF, net, t0):i,\n",
       "  1000(WF, net, t0),\n",
       "  2900(odp, WF, net, t0),\n",
       "  4953(csh, WF, net, t0),\n",
       "  202233(csh, WF, net, t0):i,\n",
       "  1462000(csh, WF, net, t0)],\n",
       " 'ms': [],\n",
       " 'thetas': [],\n",
       " 'datasets': [DtSt(WF, net, t2)],\n",
       " 'attrs': ['capacity',\n",
       "  'operate',\n",
       "  'capex',\n",
       "  'opex',\n",
       "  'emission',\n",
       "  'land',\n",
       "  'material'],\n",
       " 'capacity': [1000(WF, net, t0)],\n",
       " 'operate': [DtSt(WF, net, t2)],\n",
       " 'capex': [{202233(csh, WF, net, t0):i, 1462000(csh, WF, net, t0)}],\n",
       " 'opex': [{70(csh, WF, net, t0):i, 4953(csh, WF, net, t0)}],\n",
       " 'emission': [50(gwp, WF, net, t0), 2900(odp, WF, net, t0)],\n",
       " 'land': [30(lnd, WF, net, t0)],\n",
       " 'material': [1.5(LiR, WF, net, t0)]}"
      ]
     },
     "execution_count": 33,
     "metadata": {},
     "output_type": "execute_result"
    }
   ],
   "source": [
    "s.WF.data.__dict__"
   ]
  },
  {
   "cell_type": "code",
   "execution_count": 29,
   "metadata": {},
   "outputs": [
    {
     "data": {
      "text/plain": [
       "{'name': 'Program|:s:|',\n",
       " '_initial_state': {'name': ':s:'},\n",
       " 'gwp': Program|gwp|,\n",
       " 'ap': Program|ap|,\n",
       " 'epm': Program|epm|,\n",
       " 'epf': Program|epf|,\n",
       " 'ept': Program|ept|,\n",
       " 'pocp': Program|pocp|,\n",
       " 'odp': Program|odp|,\n",
       " 'adpmn': Program|adpmn|,\n",
       " 'adpmt': Program|adpmt|,\n",
       " 'adpf': Program|adpf|,\n",
       " 'wdp': Program|wdp|,\n",
       " 'dm': Program|dm|,\n",
       " 'market': Program|market|,\n",
       " 'consumer': Program|consumer|,\n",
       " 'earth': Program|earth|,\n",
       " 'csh': Program|csh|,\n",
       " 'lnd': Program|lnd|,\n",
       " 'H2': Program|H2|,\n",
       " 'Solar': Program|Solar|,\n",
       " 'Wind': Program|Wind|,\n",
       " 'Power': Program|Power|,\n",
       " 'Uranium': Program|Uranium|,\n",
       " 'H2_L': Program|H2_L|,\n",
       " 'CO2_AQoff': Program|CO2_AQoff|,\n",
       " 'H2O': Program|H2O|,\n",
       " 'CH4': Program|CH4|,\n",
       " 'CO2': Program|CO2|,\n",
       " 'CO2_Vent': Program|CO2_Vent|,\n",
       " 'O2': Program|O2|,\n",
       " 'CO2_DAC': Program|CO2_DAC|,\n",
       " 'LiR': Program|LiR|,\n",
       " 'WF': Program|WF|,\n",
       " 'PV': Program|PV|,\n",
       " 'SMRH': Program|SMRH|,\n",
       " 'NGCC': Program|NGCC|,\n",
       " 'SMR': Program|SMR|,\n",
       " 'H2FC': Program|H2FC|,\n",
       " 'DAC': Program|DAC|,\n",
       " 'ASMR': Program|ASMR|,\n",
       " 'AWE': Program|AWE|}"
      ]
     },
     "execution_count": 29,
     "metadata": {},
     "output_type": "execute_result"
    }
   ],
   "source": [
    "s.program.__dict__ "
   ]
  },
  {
   "cell_type": "code",
   "execution_count": 28,
   "metadata": {},
   "outputs": [
    {
     "data": {
      "text/plain": [
       "{'default_scope': True,\n",
       " 'default_players': True,\n",
       " 'default_emissions': True,\n",
       " 'default_cash': True,\n",
       " 'default_land': True,\n",
       " 'default': True,\n",
       " 'name': ':s:',\n",
       " 'system': System|:s:|,\n",
       " 'program': Program|:s:|,\n",
       " 'data': Data|:s:|,\n",
       " 'matrix': Matrix|:s:|,\n",
       " 'gwp': gwp,\n",
       " 'ap': ap,\n",
       " 'epm': epm,\n",
       " 'epf': epf,\n",
       " 'ept': ept,\n",
       " 'pocp': pocp,\n",
       " 'odp': odp,\n",
       " 'adpmn': adpmn,\n",
       " 'adpmt': adpmt,\n",
       " 'adpf': adpf,\n",
       " 'wdp': wdp,\n",
       " 'dm': dm,\n",
       " 'market': market,\n",
       " 'consumer': consumer,\n",
       " 'earth': earth,\n",
       " 't0': t0,\n",
       " 't1': t1,\n",
       " 't2': t2,\n",
       " 'hor': hor,\n",
       " 'madgaon': madgaon,\n",
       " 'ponje': ponje,\n",
       " 'cacoda': cacoda,\n",
       " 'net': net,\n",
       " 'alink_': alink_,\n",
       " 'alink': alink,\n",
       " 'blink': blink,\n",
       " 'clink_': clink_,\n",
       " 'clink': clink,\n",
       " 'dlink': dlink,\n",
       " 'csh': csh,\n",
       " 'lnd': lnd,\n",
       " 'H2': H2,\n",
       " 'Solar': Solar,\n",
       " 'Wind': Wind,\n",
       " 'Power': Power,\n",
       " 'Uranium': Uranium,\n",
       " 'H2_L': H2_L,\n",
       " 'CO2_AQoff': CO2_AQoff,\n",
       " 'H2O': H2O,\n",
       " 'CH4': CH4,\n",
       " 'CO2': CO2,\n",
       " 'CO2_Vent': CO2_Vent,\n",
       " 'O2': O2,\n",
       " 'CO2_DAC': CO2_DAC,\n",
       " 'LiR': LiR,\n",
       " 'WF': WF,\n",
       " 'PV': PV,\n",
       " 'SMRH': SMRH,\n",
       " 'NGCC': NGCC,\n",
       " 'SMR': SMR,\n",
       " 'H2FC': H2FC,\n",
       " 'DAC': DAC,\n",
       " 'ASMR': ASMR,\n",
       " 'AWE': AWE}"
      ]
     },
     "execution_count": 28,
     "metadata": {},
     "output_type": "execute_result"
    }
   ],
   "source": [
    "s.__dict__ "
   ]
  },
  {
   "cell_type": "code",
   "execution_count": null,
   "metadata": {},
   "outputs": [],
   "source": [
    "s.system.__dict__"
   ]
  },
  {
   "cell_type": "code",
   "execution_count": null,
   "metadata": {},
   "outputs": [],
   "source": [
    "s.WF.program.eqns()"
   ]
  },
  {
   "cell_type": "code",
   "execution_count": null,
   "metadata": {},
   "outputs": [],
   "source": [
    "s.locations "
   ]
  },
  {
   "cell_type": "code",
   "execution_count": null,
   "metadata": {},
   "outputs": [],
   "source": [
    "s.system.components()"
   ]
  },
  {
   "cell_type": "code",
   "execution_count": null,
   "metadata": {},
   "outputs": [],
   "source": []
  },
  {
   "cell_type": "code",
   "execution_count": null,
   "metadata": {},
   "outputs": [],
   "source": [
    "s.program.eqns()"
   ]
  },
  {
   "cell_type": "code",
   "execution_count": null,
   "metadata": {},
   "outputs": [],
   "source": [
    "s.WF.eqns()"
   ]
  },
  {
   "cell_type": "code",
   "execution_count": null,
   "metadata": {},
   "outputs": [],
   "source": [
    "s.eqns(at_disp=(s.csh, s.Power, s.PV, s.net, s.t0))"
   ]
  },
  {
   "cell_type": "code",
   "execution_count": null,
   "metadata": {},
   "outputs": [],
   "source": [
    "s.eqns(at_cmp=s.Power)"
   ]
  },
  {
   "cell_type": "code",
   "execution_count": null,
   "metadata": {},
   "outputs": [],
   "source": [
    "s.WF.eqns()"
   ]
  },
  {
   "cell_type": "code",
   "execution_count": null,
   "metadata": {},
   "outputs": [],
   "source": [
    "s.WF.constraints[0].parameter.disposition"
   ]
  },
  {
   "cell_type": "code",
   "execution_count": null,
   "metadata": {},
   "outputs": [],
   "source": [
    "s.WF.eqns()"
   ]
  },
  {
   "cell_type": "code",
   "execution_count": null,
   "metadata": {},
   "outputs": [],
   "source": [
    "s.H2FC.eqns()"
   ]
  },
  {
   "cell_type": "code",
   "execution_count": null,
   "metadata": {},
   "outputs": [],
   "source": [
    "s.cash.eqns()"
   ]
  },
  {
   "cell_type": "code",
   "execution_count": null,
   "metadata": {},
   "outputs": [],
   "source": [
    "s.WF.eqns()"
   ]
  },
  {
   "cell_type": "code",
   "execution_count": null,
   "metadata": {},
   "outputs": [],
   "source": [
    "s.eqns()"
   ]
  },
  {
   "cell_type": "code",
   "execution_count": null,
   "metadata": {},
   "outputs": [],
   "source": [
    "s._model"
   ]
  },
  {
   "cell_type": "code",
   "execution_count": null,
   "metadata": {},
   "outputs": [],
   "source": [
    "s.eqns()"
   ]
  },
  {
   "cell_type": "code",
   "execution_count": null,
   "metadata": {},
   "outputs": [],
   "source": [
    "# from collections import Counter\n",
    "\n",
    "# Counter(s.dispositions)"
   ]
  },
  {
   "cell_type": "code",
   "execution_count": null,
   "metadata": {},
   "outputs": [],
   "source": [
    "# sorted(s.dispositions)"
   ]
  },
  {
   "cell_type": "code",
   "execution_count": null,
   "metadata": {},
   "outputs": [],
   "source": [
    "s.PV.parameters"
   ]
  },
  {
   "cell_type": "code",
   "execution_count": null,
   "metadata": {},
   "outputs": [],
   "source": [
    "s.PV.constraints"
   ]
  },
  {
   "cell_type": "code",
   "execution_count": null,
   "metadata": {},
   "outputs": [],
   "source": [
    "s.PV.variables[4].disposition.__dict__"
   ]
  },
  {
   "cell_type": "code",
   "execution_count": null,
   "metadata": {},
   "outputs": [],
   "source": [
    "s.PV.capex[0].disposition.__dict__"
   ]
  },
  {
   "cell_type": "code",
   "execution_count": null,
   "metadata": {},
   "outputs": [],
   "source": [
    "s.WF.variables"
   ]
  },
  {
   "cell_type": "code",
   "execution_count": null,
   "metadata": {},
   "outputs": [],
   "source": [
    "s.WF.parameters"
   ]
  },
  {
   "cell_type": "code",
   "execution_count": null,
   "metadata": {},
   "outputs": [],
   "source": [
    "s.WF.__dict__"
   ]
  },
  {
   "attachments": {},
   "cell_type": "markdown",
   "metadata": {},
   "source": [
    "## Declare processes"
   ]
  },
  {
   "cell_type": "code",
   "execution_count": null,
   "metadata": {},
   "outputs": [],
   "source": [
    "# s.LiI = Process(store= 2000, conversion = {s.Power: 0.9}, store_loss = 0.2, store_cost= 0.4, capex = 3516428, fopex= 87910, vopex = 0, capacity= [1000,BigM], label='Lithium-ion battery', basis = 'MW')"
   ]
  },
  {
   "attachments": {},
   "cell_type": "markdown",
   "metadata": {},
   "source": [
    "## Declare locations"
   ]
  },
  {
   "cell_type": "code",
   "execution_count": null,
   "metadata": {},
   "outputs": [],
   "source": [
    "cc = Factor(data=DataFrame(\n",
    "    {'a': [2]}), scales=scales, apply_max_scaler=False)\n",
    "\n",
    "\n",
    "\n",
    "houston = Location(\n",
    "\n",
    "\n",
    "\n",
    "\n",
    "    name='HO',\n",
    "\n",
    "\n",
    "\n",
    "    processes={LiI, PV, WF, SMRH, AWE, AQoff_SMR},\n",
    "\n",
    "\n",
    "\n",
    "\n",
    "    credit={PV: 2},\n",
    "\n",
    "\n",
    "\n",
    "\n",
    "    cap_max_localize={WF: 0.4, AWE: 23},\n",
    "\n",
    "\n",
    "\n",
    "\n",
    "    credit_factor={PV: DataFrame({'a': [2]})},\n",
    "\n",
    "\n",
    "\n",
    "\n",
    "    consume_localize={Solar: 2},\n",
    "\n",
    "\n",
    "\n",
    "    demand={Power: (0, 1)},\n",
    "\n",
    "\n",
    "\n",
    "\n",
    "    land_cost=10,\n",
    "    land_cost_factor=cc,\n",
    "\n",
    "\n",
    "\n",
    "\n",
    "    capacity_factor={PV: weather_ho[['dni']], WF: weather_ho[['wind_speed']]},\n",
    "\n",
    "\n",
    "\n",
    "\n",
    "\n",
    "    demand_factor={Power: demand_ho},\n",
    "\n",
    "\n",
    "\n",
    "\n",
    "    discharge_factor={Power: demand_ho},\n",
    "\n",
    "\n",
    "\n",
    "    purchase_cost_factor={CH4: ng_price},\n",
    "\n",
    "\n",
    "\n",
    "\n",
    "    land_max=True,\n",
    "    scales=scales,\n",
    "\n",
    "\n",
    "\n",
    "\n",
    "    label='Houston',\n",
    "\n",
    "\n",
    "\n",
    "\n",
    ")\n",
    "\n",
    "\n",
    "\n",
    "\n",
    "sandiego = Locatio\n",
    "    scales=scales,\n",
    "\n",
    "\n",
    "\n",
    "\n",
    "\n",
    "\n",
    "\n",
    "    processes={LiI, PV, WF, SMRH, AWE, AQoff_SMR},\n",
    "\n",
    "\n",
    "\n",
    "\n",
    "\n",
    "\n",
    "\n",
    "\n",
    "    consume_localize={Solar: 3},\n",
    "\n",
    "\n",
    "\n",
    "\n",
    "    land_cost=30,\n",
    "\n",
    "\n",
    "\n",
    "\n",
    "    land_cost_factor=DataFrame({'a': [2]}),\n",
    "\n",
    "\n",
    "\n",
    "    credit={SMRH: 30, AQoff_SMR: Theta((0, 23))},\n",
    "\n",
    "\n",
    "\n",
    "\n",
    "    credit_factor={SMRH: DataFrame(\n",
    "        {'a': [1 - 0.001 * i for i in range(365)]})},\n",
    "\n",
    "\n",
    "\n",
    "\n",
    "    capacity_factor={PV: weather_sd[['dni']], WF: weather_sd[['wind_speed']]},\n",
    "\n",
    "\n",
    "\n",
    "\n",
    "    demand_factor={Power: demand_sd},\n",
    "\n",
    "\n",
    "\n",
    "\n",
    "    purchase_cost_factor={CH4: ng_price},\n",
    "\n",
    "\n",
    "\n",
    "\n",
    "    discharge_localize={O2: 0.2},\n",
    "    scales=scales,\n",
    "\n",
    "\n",
    "\n",
    "\n",
    "    label='SanDiego',\n",
    "\n",
    "\n",
    "\n",
    ")\n",
    "\n",
    "\n",
    "\n",
    "\n",
    "newyork = Location(\n",
    "\n",
    "\n",
    "\n",
    "\n",
    "    name='NY',\n",
    "\n",
    "\n",
    "\n",
    "\n",
    "    processes={LiI, H2FC},\n",
    "\n",
    "\n",
    "\n",
    "    land_max=(0, 50000),\n",
    "\n",
    "\n",
    "\n",
    "    scales=scales,\n",
    "\n",
    "\n",
    "\n",
    "\n",
    "\n",
    "    cap_max_localize={PV: 0.2, AWE: 34},\n",
    "\n",
    "\n",
    "\n",
    "\n",
    "    capacity_factor={PV: weather_ny[['dni']], WF: weather_ny[['wind_speed']]},\n",
    "\n",
    "\n",
    "\n",
    "    demand={Power: 40},\n",
    "\n",
    "\n",
    "\n",
    "    demand_factor={Power: demand_ny},\n",
    "\n",
    "\n",
    "\n",
    "\n",
    "    credit={PV: 7},\n",
    "\n",
    "\n",
    "\n",
    "\n",
    "    purchase_cost_localize={CH4: 2},\n",
    "    scales=scales,\n",
    "\n",
    "\n",
    "\n",
    "\n",
    "    label='NewYork',\n",
    "\n",
    "\n",
    "\n",
    "\n",
    ")\n",
    "\n",
    "\n",
    "\n",
    "\n",
    "\n",
    "\n",
    "    scales=scales,\n",
    "\n",
    "\n",
    "\n",
    "\n",
    "\n"
   ]
  },
  {
   "cell_type": "code",
   "execution_count": null,
   "metadata": {},
   "outputs": [],
   "source": [
    "PV.cap_max"
   ]
  },
  {
   "cell_type": "code",
   "execution_count": null,
   "metadata": {},
   "outputs": [],
   "source": [
    "PV.factors"
   ]
  },
  {
   "cell_type": "code",
   "execution_count": null,
   "metadata": {},
   "outputs": [],
   "source": [
    "houston.aspect"
   ]
  },
  {
   "cell_type": "code",
   "execution_count": null,
   "metadata": {},
   "outputs": [],
   "source": [
    "houston.land_cost_factor"
   ]
  },
  {
   "cell_type": "code",
   "execution_count": null,
   "metadata": {},
   "outputs": [],
   "source": [
    "# for i in houston.processes | sandiego.processes | newyork.processes:\n",
    "# # for i in houston.resources | sandiego.resources | newyork.resources:\n",
    "#     print(i, i.localizations)\n",
    "#     print(i, i.factors)"
   ]
  },
  {
   "cell_type": "code",
   "execution_count": null,
   "metadata": {},
   "outputs": [],
   "source": [
    "Power.ctype"
   ]
  },
  {
   "attachments": {},
   "cell_type": "markdown",
   "metadata": {},
   "source": [
    "## Declare transports"
   ]
  },
  {
   "cell_type": "code",
   "execution_count": null,
   "metadata": {},
   "outputs": [],
   "source": [
    "# Train_H2 = Transport(name='Train_H2', resources={\n",
    "#                      H2}, trans_max=bigM, trans_loss=0.03, trans_cost=1.667*10**(-3), label='Railway for hydrogen transportation')\n",
    "# Grid = Transport(name='Grid', resources={\n",
    "#                  Power}, trans_max=bigM, trans_loss=0.001, trans_cost=0.5*10**(-3), label='Railroad transport')\n",
    "\n",
    "\n",
    "Train_H2 = Transport(\n",
    "    name='Train_H2',\n",
    "    resources={H2},\n",
    "    cap_max=BigM,\n",
    "    trans_loss=0.03,\n",
    "    capex=1000,\n",
    "    vopex=1.667,\n",
    "    fopex=(0, 1),\n",
    "    acid=34,\n",
    "    eutf=55,\n",
    "    label='Railway for hydrogen transportation',\n",
    ")\n",
    "Grid = Transport(\n",
    "    name='Grid',\n",
    "    resources={H2, Power},\n",
    "    cap_max=BigM,\n",
    "    trans_loss=0.001,\n",
    "    capex=500,\n",
    "    vopex=0.444,\n",
    "    label='Railroad transport',\n",
    ")"
   ]
  },
  {
   "cell_type": "code",
   "execution_count": null,
   "metadata": {},
   "outputs": [],
   "source": [
    "Train_H2.cap_max"
   ]
  },
  {
   "attachments": {},
   "cell_type": "markdown",
   "metadata": {},
   "source": [
    "## Declare Network"
   ]
  },
  {
   "cell_type": "code",
   "execution_count": null,
   "metadata": {},
   "outputs": [],
   "source": [
    "distance_matrix = [[2366], [2620]]\n",
    "\n",
    "transport_matrix = [\n",
    "    [[Train_H2]],\n",
    "    [[Grid]],\n",
    "]\n",
    "capacity_factor = {\n",
    "    (houston, newyork): {Train_H2: weather_sd[['wind_speed']]},\n",
    "    (sandiego, newyork): {Train_H2: weather_sd[['wind_speed']]},\n",
    "}\n",
    "\n",
    "network = Network(\n",
    "    name='network',\n",
    "    scales=scales,\n",
    "    land_max=(0, 5),\n",
    "    land_max_factor=DataFrame({'a': [5]}),\n",
    "    capacity_factor=capacity_factor,\n",
    "    vopex_factor={(houston, sandiego): {Train_H2: weather_sd[['wind_speed']]}},\n",
    "    sources=[houston, sandiego],\n",
    "    sinks=[newyork],\n",
    "    distance_matrix=distance_matrix,\n",
    "    transport_matrix=transport_matrix,\n",
    ")"
   ]
  },
  {
   "cell_type": "code",
   "execution_count": null,
   "metadata": {},
   "outputs": [],
   "source": [
    "scenario = Scenario(\n",
    "    name='scenario_full', network=network, scales=scales, label='full_case'\n",
    ")"
   ]
  },
  {
   "cell_type": "code",
   "execution_count": null,
   "metadata": {},
   "outputs": [],
   "source": [
    "scenario"
   ]
  },
  {
   "cell_type": "code",
   "execution_count": null,
   "metadata": {},
   "outputs": [],
   "source": [
    "for i in houston.resources:\n",
    "    print(i.ctype)"
   ]
  },
  {
   "cell_type": "code",
   "execution_count": null,
   "metadata": {},
   "outputs": [],
   "source": [
    "houston.resources_produce"
   ]
  },
  {
   "cell_type": "code",
   "execution_count": null,
   "metadata": {},
   "outputs": [],
   "source": []
  },
  {
   "cell_type": "code",
   "execution_count": null,
   "metadata": {},
   "outputs": [],
   "source": [
    "ResourceType.all()"
   ]
  },
  {
   "cell_type": "code",
   "execution_count": null,
   "metadata": {},
   "outputs": [],
   "source": [
    "ResourceType.resource_level()"
   ]
  },
  {
   "cell_type": "code",
   "execution_count": null,
   "metadata": {},
   "outputs": [],
   "source": [
    "ResourceType.location_level()"
   ]
  },
  {
   "cell_type": "code",
   "execution_count": null,
   "metadata": {},
   "outputs": [],
   "source": [
    "ResourceType.transport_level()"
   ]
  },
  {
   "cell_type": "code",
   "execution_count": null,
   "metadata": {},
   "outputs": [],
   "source": [
    "ProcessType.all()"
   ]
  },
  {
   "cell_type": "code",
   "execution_count": null,
   "metadata": {},
   "outputs": [],
   "source": [
    "ProcessType.process_level()"
   ]
  },
  {
   "cell_type": "code",
   "execution_count": null,
   "metadata": {},
   "outputs": [],
   "source": [
    "ProcessType.location_level()"
   ]
  },
  {
   "cell_type": "code",
   "execution_count": null,
   "metadata": {},
   "outputs": [],
   "source": [
    "LocationType.location_level()"
   ]
  },
  {
   "cell_type": "code",
   "execution_count": null,
   "metadata": {},
   "outputs": [],
   "source": [
    "Power.transport"
   ]
  },
  {
   "cell_type": "code",
   "execution_count": null,
   "metadata": {},
   "outputs": [],
   "source": [
    "Solar.availability"
   ]
  },
  {
   "cell_type": "code",
   "execution_count": null,
   "metadata": {},
   "outputs": [],
   "source": [
    "Power.demand"
   ]
  },
  {
   "cell_type": "code",
   "execution_count": null,
   "metadata": {},
   "outputs": [],
   "source": [
    "[((houston, sandiego), CO2), ((houston, sandiego), H2), ((houston, newyork), CO2)]"
   ]
  },
  {
   "cell_type": "code",
   "execution_count": null,
   "metadata": {},
   "outputs": [],
   "source": [
    "comp_loc_dict = scenario.resources_locations_discharge"
   ]
  },
  {
   "cell_type": "code",
   "execution_count": null,
   "metadata": {},
   "outputs": [],
   "source": [
    "scenario.locations_land"
   ]
  },
  {
   "cell_type": "code",
   "execution_count": null,
   "metadata": {},
   "outputs": [],
   "source": [
    "scenario.locations_locations_land"
   ]
  },
  {
   "cell_type": "code",
   "execution_count": null,
   "metadata": {},
   "outputs": [],
   "source": [
    "comp_loc_ordered_set = [(i, j)\n",
    "                        for i in comp_loc_dict for j in comp_loc_dict[i]]"
   ]
  },
  {
   "cell_type": "code",
   "execution_count": null,
   "metadata": {},
   "outputs": [],
   "source": [
    "scenario.resources_locations_store"
   ]
  },
  {
   "cell_type": "code",
   "execution_count": null,
   "metadata": {},
   "outputs": [],
   "source": [
    "comp_loc_ordered_set"
   ]
  },
  {
   "cell_type": "code",
   "execution_count": null,
   "metadata": {},
   "outputs": [],
   "source": [
    "comp_loc_ordered_set"
   ]
  },
  {
   "cell_type": "code",
   "execution_count": null,
   "metadata": {},
   "outputs": [],
   "source": [
    "scenario.resources_locations_discharge"
   ]
  },
  {
   "cell_type": "code",
   "execution_count": null,
   "metadata": {},
   "outputs": [],
   "source": [
    "scenario.resources_discharge"
   ]
  },
  {
   "cell_type": "code",
   "execution_count": null,
   "metadata": {},
   "outputs": [],
   "source": [
    "scenario.processes_locations_expenditure"
   ]
  },
  {
   "cell_type": "code",
   "execution_count": null,
   "metadata": {},
   "outputs": [],
   "source": [
    "resources_consume_locations = {\n",
    "    resource: set() for resource in scenario.resources_consume\n",
    "}\n",
    "for resource in scenario.resources_consume:\n",
    "    for location in scenario.locations:\n",
    "        if hasattr(location, 'resources_consume'):\n",
    "            if resource in location.resources_consume:\n",
    "                resources_consume_locations[resource].add(location)"
   ]
  },
  {
   "cell_type": "code",
   "execution_count": null,
   "metadata": {},
   "outputs": [],
   "source": [
    "resources_consume_locations = {\n",
    "    resource: {\n",
    "        location\n",
    "        for location in scenario.locations\n",
    "        if hasattr(location, 'resources_consume')\n",
    "        and resource in location.resources_consume\n",
    "    }\n",
    "    for resource in scenario.resources_consume\n",
    "}"
   ]
  },
  {
   "cell_type": "code",
   "execution_count": null,
   "metadata": {},
   "outputs": [],
   "source": [
    "scenario.resources_consume"
   ]
  },
  {
   "cell_type": "code",
   "execution_count": null,
   "metadata": {},
   "outputs": [],
   "source": [
    "resources_consume_locations = {\n",
    "    resource: {\n",
    "        location\n",
    "        for location in self.locations\n",
    "        if hasattr(location, 'resources_consume')\n",
    "        and resource in location.resources_consume\n",
    "    }\n",
    "    for resource in self.resources_consume\n",
    "}"
   ]
  },
  {
   "cell_type": "code",
   "execution_count": null,
   "metadata": {},
   "outputs": [],
   "source": [
    "resources_consume_locations"
   ]
  },
  {
   "cell_type": "code",
   "execution_count": null,
   "metadata": {},
   "outputs": [],
   "source": [
    "resources_demand_locations = {\n",
    "    resource: {\n",
    "        location\n",
    "        for location in scenario.locations\n",
    "        if hasattr(location, 'resources_demand')\n",
    "        and resource in location.resources_demand\n",
    "    }\n",
    "    for resource in scenario.resources_demand\n",
    "}"
   ]
  },
  {
   "cell_type": "code",
   "execution_count": null,
   "metadata": {},
   "outputs": [],
   "source": [
    "scenario.resource_classifications()"
   ]
  },
  {
   "cell_type": "code",
   "execution_count": null,
   "metadata": {},
   "outputs": [],
   "source": [
    "{\n",
    "    component: {\n",
    "        location\n",
    "        for location in getattr(self, 'locations')\n",
    "        if hasattr(location, f'{component_set}_{parameter.lower()}')\n",
    "        and resource in getattr(location, f'{component_set}_{parameter.lower()}')\n",
    "    }\n",
    "    for resource in getattr(self, f'{component_set}_{parameter.lower()}')\n",
    "}"
   ]
  },
  {
   "cell_type": "code",
   "execution_count": null,
   "metadata": {},
   "outputs": [],
   "source": [
    "scenario.process_classifications()"
   ]
  },
  {
   "cell_type": "code",
   "execution_count": null,
   "metadata": {},
   "outputs": [],
   "source": [
    "[\n",
    "    ((houston.name, sandiego.name), CO2.name),\n",
    "    ((houston.name, sandiego.name), H2.name),\n",
    "    ((houston.name, newyork.name), CO2.name),\n",
    "]"
   ]
  },
  {
   "cell_type": "code",
   "execution_count": null,
   "metadata": {},
   "outputs": [],
   "source": [
    "help(ResourceParamType)"
   ]
  },
  {
   "cell_type": "code",
   "execution_count": null,
   "metadata": {},
   "outputs": [],
   "source": []
  },
  {
   "cell_type": "code",
   "execution_count": null,
   "metadata": {},
   "outputs": [],
   "source": [
    "from pyomo.environ import *\n",
    "\n",
    "# from energiapy.utils.scale_utils import scale_pyomo_set"
   ]
  },
  {
   "cell_type": "code",
   "execution_count": null,
   "metadata": {},
   "outputs": [],
   "source": [
    "scales1 = TemporalScale(discretization_list=[\n",
    "                        1, 4], design_scale=0, scheduling_scale=1)"
   ]
  },
  {
   "cell_type": "code",
   "execution_count": null,
   "metadata": {},
   "outputs": [],
   "source": [
    "type(scales1)"
   ]
  },
  {
   "cell_type": "code",
   "execution_count": null,
   "metadata": {},
   "outputs": [],
   "source": [
    "scales2 = TemporalScale(\n",
    "    discretization_list=[2, 2, 2], design_scale=0, scheduling_scale=2\n",
    ")"
   ]
  },
  {
   "cell_type": "code",
   "execution_count": null,
   "metadata": {},
   "outputs": [],
   "source": [
    "scales1.index_list"
   ]
  },
  {
   "cell_type": "code",
   "execution_count": null,
   "metadata": {},
   "outputs": [],
   "source": [
    "scales2.index_list"
   ]
  },
  {
   "cell_type": "code",
   "execution_count": null,
   "metadata": {},
   "outputs": [],
   "source": [
    "m = ConcreteModel()\n",
    "m.scales = Set(scales1.list, initialize=scales1.scale)\n",
    "m.scales_scheduling = scale_pyomo_set(\n",
    "    instance=m, scale_level=scales1.scheduling_scale)\n",
    "m.scales_design = scale_pyomo_set(instance=m, scale_level=scales1.design_scale)"
   ]
  },
  {
   "cell_type": "code",
   "execution_count": null,
   "metadata": {},
   "outputs": [],
   "source": [
    "scales.scheduling_scale"
   ]
  },
  {
   "cell_type": "code",
   "execution_count": null,
   "metadata": {},
   "outputs": [],
   "source": [
    "# m.a = Set(initialize = [(i, j) for i in resources_consume_locations for j in resources_consume_locations[i]])\n",
    "# m.b = Set(initialize = [(i.name, j.name) for i in scenario.resources_locations_consume for j in scenario.resources_locations_consume[i]])\n",
    "# m.c = Set(initialize = [((houston.name, sandiego.name), CO2.name), ((houston.name, sandiego.name), H2.name), ((houston.name, newyork.name), CO2.name)])\n",
    "# m.A = Var(m.a, m.scales_scheduling, within = NonNegativeReals)\n",
    "# m.B = Var(m.b, m.scales_design, within = NonNegativeReals)\n",
    "# m.C = Var(m.c, m.scales_scheduling, within = NonNegativeReals)"
   ]
  },
  {
   "cell_type": "code",
   "execution_count": null,
   "metadata": {},
   "outputs": [],
   "source": [
    "from pyomo.environ import *\n",
    "\n",
    "m = ConcreteModel()"
   ]
  },
  {
   "cell_type": "code",
   "execution_count": null,
   "metadata": {},
   "outputs": [],
   "source": [
    "m.d = Set(\n",
    "    initialize=[\n",
    "        (Train_H2.name, (houston.name, sandiego.name)),\n",
    "        (Grid.name, (houston.name, sandiego.name)),\n",
    "        (Grid.name, (houston.name, newyork.name)),\n",
    "    ]\n",
    ")\n",
    "m.D = Var(m.d, m.scales_design, within=NonNegativeReals)"
   ]
  },
  {
   "cell_type": "code",
   "execution_count": null,
   "metadata": {},
   "outputs": [],
   "source": [
    "m.f = Set(initialize=[Train_H2.name, Grid.name])\n",
    "m.F = Var(m.f, m.scales_design, within=NonNegativeReals)"
   ]
  },
  {
   "cell_type": "code",
   "execution_count": null,
   "metadata": {},
   "outputs": [],
   "source": [
    "m.g = Set(\n",
    "    initialize=[\n",
    "        (CO2.name, (houston.name, sandiego.name)),\n",
    "        (Power.name, (houston.name, sandiego.name)),\n",
    "        (H2.name, (houston.name, newyork.name)),\n",
    "    ]\n",
    ")"
   ]
  },
  {
   "cell_type": "code",
   "execution_count": null,
   "metadata": {},
   "outputs": [],
   "source": [
    "m.G = Var(m.g, m.scales_scheduling, within=NonNegativeReals)"
   ]
  },
  {
   "cell_type": "code",
   "execution_count": null,
   "metadata": {},
   "outputs": [],
   "source": [
    "m.G.pprint()"
   ]
  },
  {
   "cell_type": "code",
   "execution_count": null,
   "metadata": {},
   "outputs": [],
   "source": [
    "m = ConcreteModel()"
   ]
  },
  {
   "cell_type": "code",
   "execution_count": null,
   "metadata": {},
   "outputs": [],
   "source": [
    "import gurobipy\n",
    "\n",
    "m = gurobipy.read('example.lp')"
   ]
  },
  {
   "cell_type": "code",
   "execution_count": null,
   "metadata": {},
   "outputs": [],
   "source": [
    "import pandas"
   ]
  },
  {
   "cell_type": "code",
   "execution_count": null,
   "metadata": {},
   "outputs": [],
   "source": [
    "a = DataFrame(data={'a': [1, 2, 3]})"
   ]
  },
  {
   "cell_type": "code",
   "execution_count": null,
   "metadata": {},
   "outputs": [],
   "source": [
    "b = "
   ]
  },
  {
   "cell_type": "code",
   "execution_count": null,
   "metadata": {},
   "outputs": [],
   "source": []
  },
  {
   "cell_type": "code",
   "execution_count": null,
   "metadata": {},
   "outputs": [],
   "source": [
    "class LPFileCreator:\n",
    "    def __init__(self, objective, constraints, bounds, file_name=\"problem.lp\"):\n",
    "        self.objective = objective\n",
    "        self.constraints = constraints\n",
    "        self.bounds = bounds\n",
    "        self.file_name = file_name\n",
    "\n",
    "    def create_lp_file(self):\n",
    "        content = self._generate_lp_content()\n",
    "        with open(self.file_name, \"w\") as file:\n",
    "            file.write(content)\n",
    "\n",
    "    def _generate_lp_content(self):\n",
    "        lp_content = []\n",
    "\n",
    "        # Add Objective Function\n",
    "        lp_content.append(\"\\\\* Problem Statement *\\\\\")\n",
    "        lp_content.append(\"\\nMaximize\")\n",
    "        lp_content.append(f\" obj: {self.objective}\\n\")\n",
    "\n",
    "        # Add Constraints\n",
    "        lp_content.append(\"Subject To\")\n",
    "        for i, constraint in enumerate(self.constraints, start=1):\n",
    "            lp_content.append(f\" c{i}: {constraint}\")\n",
    "        lp_content.append(\"\")\n",
    "\n",
    "        # Add Bounds\n",
    "        lp_content.append(\"Bounds\")\n",
    "        for bound in self.bounds:\n",
    "            lp_content.append(f\" {bound}\")\n",
    "        lp_content.append(\"\")\n",
    "\n",
    "        # Add End\n",
    "        lp_content.append(\"End\")\n",
    "\n",
    "        return \"\\n\".join(lp_content)"
   ]
  },
  {
   "cell_type": "code",
   "execution_count": null,
   "metadata": {},
   "outputs": [],
   "source": [
    "a = [7, 2, 3].sort()"
   ]
  },
  {
   "cell_type": "code",
   "execution_count": null,
   "metadata": {},
   "outputs": [],
   "source": [
    "a"
   ]
  },
  {
   "cell_type": "code",
   "execution_count": null,
   "metadata": {},
   "outputs": [],
   "source": [
    "sorted(a)"
   ]
  },
  {
   "cell_type": "code",
   "execution_count": null,
   "metadata": {},
   "outputs": [],
   "source": [
    "houston.resources_consume"
   ]
  },
  {
   "cell_type": "code",
   "execution_count": null,
   "metadata": {},
   "outputs": [],
   "source": [
    "[f'cons_{i.name}_' for i in houston.resources_consume]"
   ]
  },
  {
   "cell_type": "code",
   "execution_count": null,
   "metadata": {},
   "outputs": [],
   "source": []
  },
  {
   "cell_type": "code",
   "execution_count": null,
   "metadata": {},
   "outputs": [],
   "source": [
    "def tuples_to_strings(tuple_list):\n",
    "    return ['_'.join(map(str, t)) for t in tuple_list]"
   ]
  },
  {
   "cell_type": "code",
   "execution_count": null,
   "metadata": {},
   "outputs": [],
   "source": [
    "scales = TemporalScale([1, 4], design_scale=0, scheduling_scale=1)"
   ]
  },
  {
   "cell_type": "code",
   "execution_count": null,
   "metadata": {},
   "outputs": [],
   "source": [
    "var = ['cons']  # , 'sell']"
   ]
  },
  {
   "cell_type": "code",
   "execution_count": null,
   "metadata": {},
   "outputs": [],
   "source": [
    "res_list = ['res1', 'res2', 'res3']"
   ]
  },
  {
   "cell_type": "code",
   "execution_count": null,
   "metadata": {},
   "outputs": [],
   "source": [
    "time_index = tuples_to_strings(scales.index_list[1])"
   ]
  },
  {
   "cell_type": "code",
   "execution_count": null,
   "metadata": {},
   "outputs": [],
   "source": [
    "value = {'res1': 5, 'res2': 7, 'res3': 8}"
   ]
  },
  {
   "cell_type": "code",
   "execution_count": null,
   "metadata": {},
   "outputs": [],
   "source": [
    "cons = list()"
   ]
  },
  {
   "cell_type": "code",
   "execution_count": null,
   "metadata": {},
   "outputs": [],
   "source": [
    "for i, j, k in product(var, res_list, time_index):\n",
    "    cons.append(f'{i}_{j}_{k} <= {value[j]}')"
   ]
  },
  {
   "cell_type": "code",
   "execution_count": null,
   "metadata": {},
   "outputs": [],
   "source": [
    "ooo = {'res1': 7, 'res2': 5, 'res3': 9}"
   ]
  },
  {
   "cell_type": "code",
   "execution_count": null,
   "metadata": {},
   "outputs": [],
   "source": [
    "k = [f'{ooo[i]} {i}' for i in res_list]"
   ]
  },
  {
   "cell_type": "code",
   "execution_count": null,
   "metadata": {},
   "outputs": [],
   "source": [
    "obj = ' + '.join(k)\n",
    "obj"
   ]
  },
  {
   "cell_type": "code",
   "execution_count": null,
   "metadata": {},
   "outputs": [],
   "source": [
    "for i,j,k in product(var, res_list, time_index):\n"
   ]
  },
  {
   "cell_type": "code",
   "execution_count": null,
   "metadata": {},
   "outputs": [],
   "source": [
    "bou = [f'0 <= {i}' for i in var]"
   ]
  },
  {
   "cell_type": "code",
   "execution_count": null,
   "metadata": {},
   "outputs": [],
   "source": [
    "# Define the problem components\n",
    "objective = \"x + 2 y\"\n",
    "constraints = [\"x + y >= 1\", \"x <= 2\", \"y <= 2\"]\n",
    "bounds = [\"0 <= x\", \"0 <= y\"]\n",
    "\n",
    "# Create the LP file\n",
    "# creator = LPFileCreator(objective, constraints, bounds, file_name=\"example.lp\")\n",
    "\n",
    "creator = LPFileCreator(obj, cons, bou, file_name=\"example.lp\")\n",
    "creator.create_lp_file()\n",
    "print(\"LP file 'example.lp' created successfully.\")"
   ]
  },
  {
   "cell_type": "code",
   "execution_count": null,
   "metadata": {},
   "outputs": [],
   "source": [
    "import gurobipy as gb\n",
    "\n",
    "a = gb.read('example.lp')"
   ]
  },
  {
   "cell_type": "code",
   "execution_count": null,
   "metadata": {},
   "outputs": [],
   "source": []
  },
  {
   "cell_type": "code",
   "execution_count": null,
   "metadata": {},
   "outputs": [],
   "source": [
    "a.optimize()"
   ]
  },
  {
   "cell_type": "code",
   "execution_count": null,
   "metadata": {},
   "outputs": [],
   "source": [
    "Maximize\n",
    "  x + y + z\n",
    "Subject To\n",
    "  c0: x + y = 1\n",
    "  c1: x + 5 y + 2 z <= 10\n",
    "  qc0: x + y + [ x ^ 2 - 2 x * y + 3 y ^ 2 ] <= 5\n",
    "Bounds\n",
    "  0 <= x <= 5\n",
    "  z >= 2\n",
    "Generals\n",
    "  x y z\n",
    "End\n"
   ]
  },
  {
   "cell_type": "code",
   "execution_count": null,
   "metadata": {},
   "outputs": [],
   "source": [
    "H2O.purchase_cost"
   ]
  },
  {
   "cell_type": "code",
   "execution_count": null,
   "metadata": {},
   "outputs": [],
   "source": [
    "H2O.cons_max"
   ]
  },
  {
   "cell_type": "code",
   "execution_count": null,
   "metadata": {},
   "outputs": [],
   "source": [
    "m.optimize()"
   ]
  },
  {
   "cell_type": "code",
   "execution_count": null,
   "metadata": {},
   "outputs": [],
   "source": [
    "m.getVars()"
   ]
  },
  {
   "cell_type": "code",
   "execution_count": null,
   "metadata": {},
   "outputs": [],
   "source": [
    "plot_scenario.capacity_factor(\n",
    "    scenario=scenario, location=houston, process=PV, fig_size=(9, 5), color='orange'\n",
    ")"
   ]
  },
  {
   "attachments": {},
   "cell_type": "markdown",
   "metadata": {},
   "source": [
    "![cap fac pv](plots / cf_ho.png)"
   ]
  },
  {
   "cell_type": "code",
   "execution_count": null,
   "metadata": {},
   "outputs": [],
   "source": [
    "plot_scenario.capacity_factor(\n",
    "    scenario=scenario, location=sandiego, process=WF, fig_size=(9, 5), color='blue'\n",
    ")"
   ]
  },
  {
   "attachments": {},
   "cell_type": "markdown",
   "metadata": {},
   "source": [
    "![cap fac wf](plots / wf_sd.png)"
   ]
  },
  {
   "cell_type": "code",
   "execution_count": null,
   "metadata": {},
   "outputs": [],
   "source": [
    "plot_scenario.demand_factor(\n",
    "    scenario=scenario, location=newyork, resource=Power, fig_size=(9, 5), color='red'\n",
    ")"
   ]
  },
  {
   "attachments": {},
   "cell_type": "markdown",
   "metadata": {},
   "source": [
    "![df ny](plots / df_ny.png)"
   ]
  },
  {
   "attachments": {},
   "cell_type": "markdown",
   "metadata": {},
   "source": [
    "## Optimize for minimum cost"
   ]
  },
  {
   "cell_type": "code",
   "execution_count": null,
   "metadata": {},
   "outputs": [],
   "source": [
    "milp_cost = formulate(\n",
    "    scenario=scenario,\n",
    "    constraints={\n",
    "        Constraints.COST,\n",
    "        Constraints.INVENTORY,\n",
    "        Constraints.PRODUCTION,\n",
    "        Constraints.RESOURCE_BALANCE,\n",
    "        Constraints.TRANSPORT,\n",
    "        Constraints.MODE,\n",
    "        Constraints.NETWORK,\n",
    "    },\n",
    "    objective=Objective.COST,\n",
    ")"
   ]
  },
  {
   "attachments": {},
   "cell_type": "markdown",
   "metadata": {},
   "source": [
    "**Ensure no discharge of power in Houston and San Diego**\n",
    "\n",
    "While the demand for power is zero in these locations, Power is still a dischargeable resource. Hence, the discharge bounds need to be set to zero.\n",
    "If not set to zero, the system chooses to dispense power instead of establishing storage networks."
   ]
  },
  {
   "cell_type": "code",
   "execution_count": null,
   "metadata": {},
   "outputs": [],
   "source": [
    "milp_cost.constraint_specific_location_discharge_ho = (\n",
    "    constraint_specific_location_discharge(\n",
    "        instance=milp_cost, network_scale_level=0, bounds={Power: 0}, location=houston\n",
    "    )\n",
    ")\n",
    "milp_cost.constraint_specific_location_discharge_sd = (\n",
    "    constraint_specific_location_discharge(\n",
    "        instance=milp_cost, network_scale_level=0, bounds={Power: 0}, location=sandiego\n",
    "    )\n",
    ")"
   ]
  },
  {
   "cell_type": "code",
   "execution_count": null,
   "metadata": {},
   "outputs": [],
   "source": [
    "results_cost = solve(\n",
    "    scenario=scenario,\n",
    "    instance=milp_cost,\n",
    "    solver='gurobi',\n",
    "    name=\"results_cost\",\n",
    "    print_solversteps=True,\n",
    ")"
   ]
  },
  {
   "attachments": {},
   "cell_type": "markdown",
   "metadata": {},
   "source": [
    "**Schedule for transport of hydrogen**"
   ]
  },
  {
   "cell_type": "code",
   "execution_count": null,
   "metadata": {},
   "outputs": [],
   "source": [
    "plot_results.transport(\n",
    "    results=results_cost, source='SD', sink='NY', resource='H2', transport='Train_H2'\n",
    ")"
   ]
  },
  {
   "attachments": {},
   "cell_type": "markdown",
   "metadata": {},
   "source": [
    "![sch t sdny](plots / sch_sdny.png)"
   ]
  },
  {
   "cell_type": "code",
   "execution_count": null,
   "metadata": {},
   "outputs": [],
   "source": [
    "plot_results.transport(\n",
    "    results=results_cost, source='HO', sink='NY', resource='H2', transport='Train_H2'\n",
    ")"
   ]
  },
  {
   "attachments": {},
   "cell_type": "markdown",
   "metadata": {},
   "source": [
    "![sch hony](plots / sch_hony.png)"
   ]
  },
  {
   "attachments": {},
   "cell_type": "markdown",
   "metadata": {},
   "source": [
    "**Cost contribution by technology**"
   ]
  },
  {
   "cell_type": "code",
   "execution_count": null,
   "metadata": {},
   "outputs": [],
   "source": [
    "plot_results.cost(\n",
    "    results=results_cost,\n",
    "    x=CostX.PROCESS_WISE,\n",
    "    y=CostY.CAPEX,\n",
    "    location='HO',\n",
    "    fig_size=(8, 6),\n",
    ")\n",
    "plot_results.cost(\n",
    "    results=results_cost,\n",
    "    x=CostX.PROCESS_WISE,\n",
    "    y=CostY.VOPEX,\n",
    "    location='HO',\n",
    "    fig_size=(8, 6),\n",
    ")\n",
    "plot_results.cost(\n",
    "    results=results_cost,\n",
    "    x=CostX.PROCESS_WISE,\n",
    "    y=CostY.FOPEX,\n",
    "    location='HO',\n",
    "    fig_size=(8, 6),\n",
    ")\n",
    "plot_results.cost(\n",
    "    results=results_cost,\n",
    "    x=CostX.PROCESS_WISE,\n",
    "    y=CostY.TOTAL,\n",
    "    location='HO',\n",
    "    fig_size=(8, 6),\n",
    ")"
   ]
  },
  {
   "attachments": {},
   "cell_type": "markdown",
   "metadata": {},
   "source": [
    "![total cost ho](plots / total_ho.png)"
   ]
  },
  {
   "attachments": {},
   "cell_type": "markdown",
   "metadata": {},
   "source": [
    "**Location-wise cost contribution by technology**"
   ]
  },
  {
   "cell_type": "code",
   "execution_count": null,
   "metadata": {},
   "outputs": [],
   "source": [
    "plot_results.cost(\n",
    "    results=results_cost, x=CostX.LOCATION_WISE, y=CostY.CAPEX, fig_size=(8, 6)\n",
    ")\n",
    "plot_results.cost(\n",
    "    results=results_cost, x=CostX.LOCATION_WISE, y=CostY.VOPEX, fig_size=(8, 6)\n",
    ")\n",
    "plot_results.cost(\n",
    "    results=results_cost, x=CostX.LOCATION_WISE, y=CostY.FOPEX, fig_size=(8, 6)\n",
    ")\n",
    "plot_results.cost(\n",
    "    results=results_cost, x=CostX.LOCATION_WISE, y=CostY.TOTAL, fig_size=(8, 6)\n",
    ")"
   ]
  },
  {
   "attachments": {},
   "cell_type": "markdown",
   "metadata": {},
   "source": [
    "![total lw](plots / total_lw.png)"
   ]
  },
  {
   "attachments": {},
   "cell_type": "markdown",
   "metadata": {},
   "source": [
    "**Inventory and production schedules**"
   ]
  },
  {
   "cell_type": "code",
   "execution_count": null,
   "metadata": {},
   "outputs": [],
   "source": [
    "plot_results.schedule(\n",
    "    results=results_cost,\n",
    "    y_axis='Inv',\n",
    "    component='LiI_Power_stored',\n",
    "    location='SD',\n",
    "    fig_size=(9, 5),\n",
    "    color='steelblue',\n",
    ")"
   ]
  },
  {
   "attachments": {},
   "cell_type": "markdown",
   "metadata": {},
   "source": [
    "![inv lii](plots / lii_inv.png)"
   ]
  },
  {
   "cell_type": "code",
   "execution_count": null,
   "metadata": {},
   "outputs": [],
   "source": [
    "plot_results.schedule(\n",
    "    results=results_cost,\n",
    "    y_axis='P',\n",
    "    component='PV',\n",
    "    location='SD',\n",
    "    fig_size=(9, 5),\n",
    "    color='steelblue',\n",
    ")"
   ]
  },
  {
   "attachments": {},
   "cell_type": "markdown",
   "metadata": {},
   "source": [
    "![pv p](plots / pv_p.png)"
   ]
  },
  {
   "attachments": {},
   "cell_type": "markdown",
   "metadata": {},
   "source": [
    "## Optimize to maximize resource discharge "
   ]
  },
  {
   "cell_type": "code",
   "execution_count": null,
   "metadata": {},
   "outputs": [],
   "source": [
    "milp_demand = formulate(\n",
    "    scenario=scenario,\n",
    "    constraints={\n",
    "        Constraints.COST,\n",
    "        Constraints.INVENTORY,\n",
    "        Constraints.PRODUCTION,\n",
    "        Constraints.RESOURCE_BALANCE,\n",
    "        Constraints.TRANSPORT,\n",
    "        Constraints.MODE,\n",
    "        Constraints.NETWORK,\n",
    "    },\n",
    "    objective=Objective.MAX_DISCHARGE,\n",
    "    objective_resource=Power,\n",
    ")"
   ]
  },
  {
   "cell_type": "code",
   "execution_count": null,
   "metadata": {},
   "outputs": [],
   "source": [
    "milp_demand.constraint_specific_location_discharge_ho = (\n",
    "    constraint_specific_location_discharge(\n",
    "        instance=milp_demand, network_scale_level=0, bounds={Power: 0}, location=houston\n",
    "    )\n",
    ")\n",
    "milp_demand.constraint_specific_location_discharge_sd = (\n",
    "    constraint_specific_location_discharge(\n",
    "        instance=milp_demand,\n",
    "        network_scale_level=0,\n",
    "        bounds={Power: 0},\n",
    "        location=sandiego,\n",
    "    )\n",
    ")"
   ]
  },
  {
   "cell_type": "code",
   "execution_count": null,
   "metadata": {},
   "outputs": [],
   "source": [
    "results_demand = solve(\n",
    "    scenario=scenario,\n",
    "    instance=milp_demand,\n",
    "    solver='gurobi',\n",
    "    name=\"results_demand\",\n",
    "    print_solversteps=True,\n",
    ")"
   ]
  },
  {
   "attachments": {},
   "cell_type": "markdown",
   "metadata": {},
   "source": [
    "**Schedule for transport of hydrogen**"
   ]
  },
  {
   "cell_type": "code",
   "execution_count": null,
   "metadata": {},
   "outputs": [],
   "source": [
    "plot_results.transport(\n",
    "    results=results_demand, source='SD', sink='NY', resource='H2', transport='Train_H2'\n",
    ")"
   ]
  },
  {
   "attachments": {},
   "cell_type": "markdown",
   "metadata": {},
   "source": [
    "![sch t sdny2](plots / sch_sdny2.png)"
   ]
  },
  {
   "cell_type": "code",
   "execution_count": null,
   "metadata": {},
   "outputs": [],
   "source": [
    "plot_results.transport(\n",
    "    results=results_demand, source='HO', sink='NY', resource='H2', transport='Train_H2'\n",
    ")"
   ]
  },
  {
   "attachments": {},
   "cell_type": "markdown",
   "metadata": {},
   "source": [
    "![sch t hony](plots / sch_hony2.png)"
   ]
  }
 ],
 "metadata": {
  "kernelspec": {
   "display_name": ".venv",
   "language": "python",
   "name": "python3"
  },
  "language_info": {
   "codemirror_mode": {
    "name": "ipython",
    "version": 3
   },
   "file_extension": ".py",
   "mimetype": "text/x-python",
   "name": "python",
   "nbconvert_exporter": "python",
   "pygments_lexer": "ipython3",
   "version": "3.10.11"
  },
  "orig_nbformat": 4
 },
 "nbformat": 4,
 "nbformat_minor": 2
}
