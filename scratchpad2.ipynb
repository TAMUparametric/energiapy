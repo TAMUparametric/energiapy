{
 "cells": [
  {
   "cell_type": "code",
   "execution_count": 1,
   "metadata": {},
   "outputs": [],
   "source": [
    "# def load_data(loc:str, index:list):\n",
    "#     df = pandas.read_csv(f'data/{loc}_solar19.csv')\n",
    "#     df['idx'] = index\n",
    "#     df = df.set_index('idx')\n",
    "#     return df\n",
    "# idx = [(i,j,k) for i,j,k in product(range(1), range(365), range(24))]\n",
    "# weather_ny = load_data('ny', idx)[['DNI', 'Wind Speed']]\n",
    "# weather_ny = weather_ny.rename(columns= {'DNI': 'dni', 'Wind Speed': 'wind_speed'})\n",
    "# weather_sd = load_data('sd', idx)[['dni', 'wind_speed']]\n",
    "# weather_ho = load_data('ho', idx)[['dni', 'wind_speed']]\"\"\n",
    "# demand_sd = pandas.read_excel('data/HistoricalEMSHourlyLoad-2019.xlsx', index_col= 0)[['SDGE']]\n",
    "# demand_ho = pandas.read_excel('data/Native_Load_2019.xlsx')[['COAST']]\n",
    "# demand_ny = DataFrame(pandas.read_csv('data/NYC_load.csv')['Load']) #from Will and Doga\n",
    "# ng_price = make_henry_price_df(\n",
    "#     file_name='data/Henry_Hub_Natural_Gas_Spot_Price_Daily.csv', year=2020)\n",
    "# ng_price = ng_price.drop(columns= 'scales')\n",
    "# ng_price = remove_outliers(ng_price, sd_cuttoff = 3)\n",
    "# ng_price = pandas.concat([ng_price])"
   ]
  },
  {
   "cell_type": "code",
   "execution_count": 2,
   "metadata": {},
   "outputs": [],
   "source": [
    "import sys\n",
    "\n",
    "sys.path.append('src')"
   ]
  },
  {
   "cell_type": "code",
   "execution_count": 3,
   "metadata": {},
   "outputs": [],
   "source": [
    "from energiapy.components import *\n",
    "from energiapy.environ import *\n",
    "from pandas import DataFrame"
   ]
  },
  {
   "cell_type": "code",
   "execution_count": 4,
   "metadata": {},
   "outputs": [
    {
     "data": {
      "text/plain": [
       "typing.Union[float, int, pandas.core.frame.DataFrame, tuple[float | int | pandas.core.frame.DataFrame, float | int | pandas.core.frame.DataFrame], typing.Literal[True], list[typing.Union[float, int, pandas.core.frame.DataFrame, tuple[float | int | pandas.core.frame.DataFrame, float | int | pandas.core.frame.DataFrame], typing.Literal[True]]], dict[energiapy.components.scope.spatial.location.Location | energiapy.components.scope.spatial.linkage.Linkage | energiapy.components.scope.spatial.network.Network, typing.Union[float, int, pandas.core.frame.DataFrame, tuple[float | int | pandas.core.frame.DataFrame, float | int | pandas.core.frame.DataFrame], typing.Literal[True], list[typing.Union[float, int, pandas.core.frame.DataFrame, tuple[float | int | pandas.core.frame.DataFrame, float | int | pandas.core.frame.DataFrame], typing.Literal[True]]]]], dict[energiapy.components.scope.temporal.scale.Scale, typing.Union[float, int, pandas.core.frame.DataFrame, tuple[float | int | pandas.core.frame.DataFrame, float | int | pandas.core.frame.DataFrame], typing.Literal[True], list[typing.Union[float, int, pandas.core.frame.DataFrame, tuple[float | int | pandas.core.frame.DataFrame, float | int | pandas.core.frame.DataFrame], typing.Literal[True]]]]], dict[energiapy.components.scope.spatial.location.Location | energiapy.components.scope.spatial.linkage.Linkage | energiapy.components.scope.spatial.network.Network, dict[energiapy.components.scope.temporal.scale.Scale, typing.Union[float, int, pandas.core.frame.DataFrame, tuple[float | int | pandas.core.frame.DataFrame, float | int | pandas.core.frame.DataFrame], typing.Literal[True], list[typing.Union[float, int, pandas.core.frame.DataFrame, tuple[float | int | pandas.core.frame.DataFrame, float | int | pandas.core.frame.DataFrame], typing.Literal[True]]]]]]]"
      ]
     },
     "execution_count": 4,
     "metadata": {},
     "output_type": "execute_result"
    }
   ],
   "source": [
    "IsBnd "
   ]
  },
  {
   "cell_type": "code",
   "execution_count": 5,
   "metadata": {},
   "outputs": [],
   "source": [
    "s = Scenario(default=True)"
   ]
  },
  {
   "cell_type": "code",
   "execution_count": 6,
   "metadata": {},
   "outputs": [
    {
     "data": {
      "text/plain": [
       "[energiapy.elements.variables.trade.Buy,\n",
       " energiapy.elements.variables.setup.Capacitate,\n",
       " energiapy.elements.variables.transact.Earn,\n",
       " energiapy.elements.variables.emit.Emit,\n",
       " energiapy.elements.variables.emit.EmitBuy,\n",
       " energiapy.elements.variables.emit.EmitLse,\n",
       " energiapy.elements.variables.emit.EmitSll,\n",
       " energiapy.elements.variables.emit.EmitStp,\n",
       " energiapy.elements.variables.emit.EmitUse,\n",
       " energiapy.elements.variables.act.Give,\n",
       " energiapy.elements.variables.lose.Lose,\n",
       " energiapy.elements.variables.operate.Operate,\n",
       " energiapy.elements.variables.trade.Sell,\n",
       " energiapy.elements.variables.trade.Ship,\n",
       " energiapy.elements.variables.transact.Spend,\n",
       " energiapy.elements.variables.act.Take,\n",
       " energiapy.elements.variables.transact.TransactBuy,\n",
       " energiapy.elements.variables.transact.TransactCrd,\n",
       " energiapy.elements.variables.transact.TransactOpr,\n",
       " energiapy.elements.variables.transact.TransactOprI,\n",
       " energiapy.elements.variables.transact.TransactPnt,\n",
       " energiapy.elements.variables.transact.TransactSll,\n",
       " energiapy.elements.variables.transact.TransactStp,\n",
       " energiapy.elements.variables.transact.TransactStpI,\n",
       " energiapy.elements.variables.transact.TransactUse,\n",
       " energiapy.elements.variables.use.Use,\n",
       " energiapy.elements.variables.use.UseStp]"
      ]
     },
     "execution_count": 6,
     "metadata": {},
     "output_type": "execute_result"
    }
   ],
   "source": [
    "s.taskmaster.vars()"
   ]
  },
  {
   "cell_type": "code",
   "execution_count": 7,
   "metadata": {},
   "outputs": [
    {
     "data": {
      "text/plain": [
       "TaskMaster|:s:|"
      ]
     },
     "execution_count": 7,
     "metadata": {},
     "output_type": "execute_result"
    }
   ],
   "source": [
    "s.taskmaster "
   ]
  },
  {
   "cell_type": "code",
   "execution_count": 8,
   "metadata": {},
   "outputs": [
    {
     "data": {
      "text/plain": [
       "Registrar|:s:|"
      ]
     },
     "execution_count": 8,
     "metadata": {},
     "output_type": "execute_result"
    }
   ],
   "source": [
    "s.registrar"
   ]
  },
  {
   "cell_type": "code",
   "execution_count": 9,
   "metadata": {},
   "outputs": [
    {
     "data": {
      "text/plain": [
       "energiapy.environ.engines.registrar.ChitraGupta"
      ]
     },
     "execution_count": 9,
     "metadata": {},
     "output_type": "execute_result"
    }
   ],
   "source": [
    "type(s.registrar)"
   ]
  },
  {
   "cell_type": "code",
   "execution_count": 10,
   "metadata": {},
   "outputs": [
    {
     "data": {
      "text/plain": [
       "energiapy.environ.engines.taskmaster.Chanakya"
      ]
     },
     "execution_count": 10,
     "metadata": {},
     "output_type": "execute_result"
    }
   ],
   "source": [
    "type(s.taskmaster)"
   ]
  },
  {
   "cell_type": "code",
   "execution_count": 11,
   "metadata": {},
   "outputs": [
    {
     "data": {
      "text/plain": [
       "energiapy.environ.engines.rulebook.Bhaskara"
      ]
     },
     "execution_count": 11,
     "metadata": {},
     "output_type": "execute_result"
    }
   ],
   "source": [
    "type(s.rulebook)"
   ]
  },
  {
   "cell_type": "code",
   "execution_count": 12,
   "metadata": {},
   "outputs": [
    {
     "data": {
      "text/plain": [
       "RuleBook|:s:|"
      ]
     },
     "execution_count": 12,
     "metadata": {},
     "output_type": "execute_result"
    }
   ],
   "source": [
    "s.rulebook"
   ]
  },
  {
   "cell_type": "code",
   "execution_count": 13,
   "metadata": {},
   "outputs": [],
   "source": [
    "# s.h2 = Horizon({'days': 2, 'hours': 12})\n",
    "s.hor = Horizon(discretizations=[2, 12])\n",
    "s.scales\n",
    "s.net = Network(['madgaon', 'ponje', 'cacoda'])  # , link_all=True)\n",
    "s.nodes\n",
    "s.alink = Linkage(source=s.madgaon, sink=s.ponje, bi=True, distance=50)\n",
    "s.blink = Linkage(source=s.ponje, sink=s.cacoda, bi=False, distance=80)\n",
    "s.clink = Linkage(source=s.cacoda, sink=s.madgaon, bi=True, distance=100)\n",
    "s.dlink = Linkage(source=s.madgaon, sink=s.ponje, bi=False, distance=200)"
   ]
  },
  {
   "cell_type": "code",
   "execution_count": 14,
   "metadata": {},
   "outputs": [],
   "source": [
    "a = DataFrame({'a': list(range(2))})\n",
    "b = DataFrame({'b': list(range(24))})"
   ]
  },
  {
   "cell_type": "code",
   "execution_count": 15,
   "metadata": {},
   "outputs": [
    {
     "name": "stderr",
     "output_type": "stream",
     "text": [
      "/Users/cacodcar/Desktop/repos/energiapy/src/energiapy/components/_base/_consistent.py:230: InconsistencyWarning: \n",
      "csh.spend:Inconsistent temporal scale for ponje at t2.\n",
      "Updating to t1\n",
      "Set Scneario.ok_inconsistent=False, to enforce strictly\n",
      "  warn(\n"
     ]
    }
   ],
   "source": [
    "s.csh = Cash(\n",
    "    spend={\n",
    "        s.madgaon: True,\n",
    "        s.ponje: {s.t2: (2, a)},\n",
    "        s.cacoda: a,\n",
    "        s.network: {s.t2: [5, 7]},\n",
    "    },\n",
    "    # label='cash',\n",
    "    basis='USD',\n",
    ")"
   ]
  },
  {
   "cell_type": "code",
   "execution_count": 16,
   "metadata": {},
   "outputs": [
    {
     "data": {
      "text/latex": [
       "$\\displaystyle {spend}_{csh,madgaon,t_{0}} \\geq 0$"
      ],
      "text/plain": [
       "<IPython.core.display.Math object>"
      ]
     },
     "metadata": {},
     "output_type": "display_data"
    },
    {
     "data": {
      "text/latex": [
       "$\\displaystyle {spend}_{csh,madgaon,t_{0}} \\leq M$"
      ],
      "text/plain": [
       "<IPython.core.display.Math object>"
      ]
     },
     "metadata": {},
     "output_type": "display_data"
    },
    {
     "data": {
      "text/latex": [
       "$\\displaystyle {spend}_{csh,ponje,t_{1}} = {θ}_{csh,ponje,t_{1}}$"
      ],
      "text/plain": [
       "<IPython.core.display.Math object>"
      ]
     },
     "metadata": {},
     "output_type": "display_data"
    },
    {
     "data": {
      "text/latex": [
       "$\\displaystyle {spend}_{csh,cacoda,t_{1}} = {DtSt}_{csh,cacoda,t_{1}}$"
      ],
      "text/plain": [
       "<IPython.core.display.Math object>"
      ]
     },
     "metadata": {},
     "output_type": "display_data"
    },
    {
     "data": {
      "text/latex": [
       "$\\displaystyle {spend}_{csh,net,t_{2}} \\geq 5$"
      ],
      "text/plain": [
       "<IPython.core.display.Math object>"
      ]
     },
     "metadata": {},
     "output_type": "display_data"
    },
    {
     "data": {
      "text/latex": [
       "$\\displaystyle {spend}_{csh,net,t_{2}} \\leq 7$"
      ],
      "text/plain": [
       "<IPython.core.display.Math object>"
      ]
     },
     "metadata": {},
     "output_type": "display_data"
    }
   ],
   "source": [
    "s.cash.pprint()"
   ]
  },
  {
   "cell_type": "code",
   "execution_count": 17,
   "metadata": {},
   "outputs": [
    {
     "name": "stderr",
     "output_type": "stream",
     "text": [
      "/Users/cacodcar/Desktop/repos/energiapy/src/energiapy/components/_base/_consistent.py:230: InconsistencyWarning: \n",
      "H2.sell_price:Inconsistent temporal scale for ponje at t1.\n",
      "Updating to t2\n",
      "Set Scneario.ok_inconsistent=False, to enforce strictly\n",
      "  warn(\n"
     ]
    }
   ],
   "source": [
    "s.H2 = Resource(\n",
    "    # sell={s.t0: [0, 4], s.t1: [a, 34], s.t2: (a, b)},\n",
    "    sell_price={\n",
    "        s.madgaon: {s.t1: (2, a)},\n",
    "        s.ponje: {s.t1: (2, b)},\n",
    "        s.cacoda: 300,\n",
    "    },\n",
    ")"
   ]
  },
  {
   "cell_type": "code",
   "execution_count": 18,
   "metadata": {},
   "outputs": [
    {
     "data": {
      "text/plain": [
       "[Price^sell[csh, H2, cacoda, t0],\n",
       " Price^sell[csh, H2, madgaon, t1],\n",
       " Price^sell[csh, H2, ponje, t2]]"
      ]
     },
     "execution_count": 18,
     "metadata": {},
     "output_type": "execute_result"
    }
   ],
   "source": [
    "s.H2.parameters"
   ]
  },
  {
   "cell_type": "code",
   "execution_count": 19,
   "metadata": {},
   "outputs": [
    {
     "data": {
      "text/latex": [
       "$\\displaystyle {exp^{sell}}_{csh,H_{2},cacoda,t_{0}} = {sell}_{H_{2},cacoda,t_{0}} \\cdot 300$"
      ],
      "text/plain": [
       "<IPython.core.display.Math object>"
      ]
     },
     "metadata": {},
     "output_type": "display_data"
    },
    {
     "data": {
      "text/latex": [
       "$\\displaystyle {exp^{sell}}_{csh,H_{2},madgaon,t_{1}} = {sell}_{H_{2},madgaon,t_{1}} \\cdot {θ}_{csh,H_{2},madgaon,t_{1}}$"
      ],
      "text/plain": [
       "<IPython.core.display.Math object>"
      ]
     },
     "metadata": {},
     "output_type": "display_data"
    },
    {
     "data": {
      "text/latex": [
       "$\\displaystyle {exp^{sell}}_{csh,H_{2},ponje,t_{2}} = {sell}_{H_{2},ponje,t_{2}} \\cdot {θ}_{csh,H_{2},ponje,t_{2}}$"
      ],
      "text/plain": [
       "<IPython.core.display.Math object>"
      ]
     },
     "metadata": {},
     "output_type": "display_data"
    }
   ],
   "source": [
    "s.H2.pprint()"
   ]
  },
  {
   "cell_type": "code",
   "execution_count": 20,
   "metadata": {},
   "outputs": [
    {
     "name": "stderr",
     "output_type": "stream",
     "text": [
      "/Users/cacodcar/Desktop/repos/energiapy/src/energiapy/environ/_scenario/_ok.py:54: OverWriteWarning: \n",
      "A Power was already defined.\n",
      "Overwriting. Set Scenario.ok_overwrite=False, to enforce strictly\n",
      "This should not cause any modeling issues.\n",
      "Check Scenario defaults if unintended.\n",
      "Only one instance of Horizon, Network, Cash, and Land are allowed\n",
      "  warn(OverWriteWarning(cmp))\n"
     ]
    }
   ],
   "source": [
    "s.Solar = Resource(buy=True, basis='MW', label='Solar Power')\n",
    "\n",
    "\n",
    "s.Wind = Resource(buy=a, basis='MW', label='Wind Power')\n",
    "\n",
    "\n",
    "s.Power = Resource(basis='MW', label='Power generated')\n",
    "\n",
    "\n",
    "s.Uranium = Resource(\n",
    "    buy=DataFrame({'a': [i for i in range(24)]}),\n",
    "    buy_price=42.70 / (250 / 2),\n",
    "    basis='kg',\n",
    "    label='Uranium',\n",
    ")\n",
    "\n",
    "\n",
    "# s.H2_L = Resource(sell=(0, 23), basis='tons', label='Hydrogen')\n",
    "\n",
    "\n",
    "# s.CO2_AQoff = Resource(basis='tons', label='Carbon dioxide - sequestered')\n",
    "\n",
    "\n",
    "s.H2O = Resource(buy=(20, 50), buy_price=b, basis='tons', label='Water')\n",
    "\n",
    "\n",
    "s.CH4 = Resource(buy=[20, 40], buy_price=20, basis='tons', label='Natural gas')\n",
    "\n",
    "\n",
    "s.CO2 = Resource(basis='tons', label='Carbon dioxide', block='Resource')\n",
    "\n",
    "\n",
    "s.CO2_Vent = Resource(\n",
    "    basis='tons',\n",
    "    label='Carbon dioxide - Vented',\n",
    "    sell_price=(2, 20),\n",
    "    sell_emission={s.gwp: b},\n",
    ")\n",
    "\n",
    "\n",
    "s.O2 = Resource(sell=[20, True], basis='tons', label='Oxygen')\n",
    "\n",
    "\n",
    "s.CO2_DAC = Resource(basis='tons', label='Carbon dioxide - captured')\n",
    "s.Power = Resource(buy=[0, a], basis='MW', label='Power generated')"
   ]
  },
  {
   "cell_type": "code",
   "execution_count": 21,
   "metadata": {},
   "outputs": [
    {
     "data": {
      "text/latex": [
       "$\\displaystyle {spend}_{csh,madgaon,t_{0}} \\geq 0$"
      ],
      "text/plain": [
       "<IPython.core.display.Math object>"
      ]
     },
     "metadata": {},
     "output_type": "display_data"
    },
    {
     "data": {
      "text/latex": [
       "$\\displaystyle {spend}_{csh,madgaon,t_{0}} \\leq M$"
      ],
      "text/plain": [
       "<IPython.core.display.Math object>"
      ]
     },
     "metadata": {},
     "output_type": "display_data"
    },
    {
     "data": {
      "text/latex": [
       "$\\displaystyle {spend}_{csh,ponje,t_{1}} = {θ}_{csh,ponje,t_{1}}$"
      ],
      "text/plain": [
       "<IPython.core.display.Math object>"
      ]
     },
     "metadata": {},
     "output_type": "display_data"
    },
    {
     "data": {
      "text/latex": [
       "$\\displaystyle {spend}_{csh,cacoda,t_{1}} = {DtSt}_{csh,cacoda,t_{1}}$"
      ],
      "text/plain": [
       "<IPython.core.display.Math object>"
      ]
     },
     "metadata": {},
     "output_type": "display_data"
    },
    {
     "data": {
      "text/latex": [
       "$\\displaystyle {spend}_{csh,net,t_{2}} \\geq 5$"
      ],
      "text/plain": [
       "<IPython.core.display.Math object>"
      ]
     },
     "metadata": {},
     "output_type": "display_data"
    },
    {
     "data": {
      "text/latex": [
       "$\\displaystyle {spend}_{csh,net,t_{2}} \\leq 7$"
      ],
      "text/plain": [
       "<IPython.core.display.Math object>"
      ]
     },
     "metadata": {},
     "output_type": "display_data"
    },
    {
     "data": {
      "text/latex": [
       "$\\displaystyle {exp^{sell}}_{csh,H_{2},cacoda,t_{0}} = {sell}_{H_{2},cacoda,t_{0}} \\cdot 300$"
      ],
      "text/plain": [
       "<IPython.core.display.Math object>"
      ]
     },
     "metadata": {},
     "output_type": "display_data"
    },
    {
     "data": {
      "text/latex": [
       "$\\displaystyle {exp^{sell}}_{csh,H_{2},madgaon,t_{1}} = {sell}_{H_{2},madgaon,t_{1}} \\cdot {θ}_{csh,H_{2},madgaon,t_{1}}$"
      ],
      "text/plain": [
       "<IPython.core.display.Math object>"
      ]
     },
     "metadata": {},
     "output_type": "display_data"
    },
    {
     "data": {
      "text/latex": [
       "$\\displaystyle {exp^{sell}}_{csh,H_{2},ponje,t_{2}} = {sell}_{H_{2},ponje,t_{2}} \\cdot {θ}_{csh,H_{2},ponje,t_{2}}$"
      ],
      "text/plain": [
       "<IPython.core.display.Math object>"
      ]
     },
     "metadata": {},
     "output_type": "display_data"
    },
    {
     "data": {
      "text/latex": [
       "$\\displaystyle {buy}_{Solar,net,t_{0}} \\geq 0$"
      ],
      "text/plain": [
       "<IPython.core.display.Math object>"
      ]
     },
     "metadata": {},
     "output_type": "display_data"
    },
    {
     "data": {
      "text/latex": [
       "$\\displaystyle {buy}_{Solar,net,t_{0}} \\leq M$"
      ],
      "text/plain": [
       "<IPython.core.display.Math object>"
      ]
     },
     "metadata": {},
     "output_type": "display_data"
    },
    {
     "data": {
      "text/latex": [
       "$\\displaystyle {buy}_{Wind,net,t_{1}} = {DtSt}_{Wind,net,t_{1}}$"
      ],
      "text/plain": [
       "<IPython.core.display.Math object>"
      ]
     },
     "metadata": {},
     "output_type": "display_data"
    },
    {
     "data": {
      "text/latex": [
       "$\\displaystyle {buy}_{Power,net,t_{1}} \\geq 0$"
      ],
      "text/plain": [
       "<IPython.core.display.Math object>"
      ]
     },
     "metadata": {},
     "output_type": "display_data"
    },
    {
     "data": {
      "text/latex": [
       "$\\displaystyle {buy}_{Power,net,t_{1}} \\leq {DtSt^{max}}_{Power,net,t_{1}}$"
      ],
      "text/plain": [
       "<IPython.core.display.Math object>"
      ]
     },
     "metadata": {},
     "output_type": "display_data"
    },
    {
     "data": {
      "text/latex": [
       "$\\displaystyle {buy}_{Uranium,net,t_{2}} = {DtSt}_{Uranium,net,t_{2}}$"
      ],
      "text/plain": [
       "<IPython.core.display.Math object>"
      ]
     },
     "metadata": {},
     "output_type": "display_data"
    },
    {
     "data": {
      "text/latex": [
       "$\\displaystyle {exp^{buy}}_{csh,Uranium,cacoda,t_{0}} = {buy}_{Uranium,cacoda,t_{0}} \\cdot 0.3416$"
      ],
      "text/plain": [
       "<IPython.core.display.Math object>"
      ]
     },
     "metadata": {},
     "output_type": "display_data"
    },
    {
     "data": {
      "text/latex": [
       "$\\displaystyle {exp^{buy}}_{csh,Uranium,madgaon,t_{0}} = {buy}_{Uranium,madgaon,t_{0}} \\cdot 0.3416$"
      ],
      "text/plain": [
       "<IPython.core.display.Math object>"
      ]
     },
     "metadata": {},
     "output_type": "display_data"
    },
    {
     "data": {
      "text/latex": [
       "$\\displaystyle {exp^{buy}}_{csh,Uranium,ponje,t_{0}} = {buy}_{Uranium,ponje,t_{0}} \\cdot 0.3416$"
      ],
      "text/plain": [
       "<IPython.core.display.Math object>"
      ]
     },
     "metadata": {},
     "output_type": "display_data"
    },
    {
     "data": {
      "text/latex": [
       "$\\displaystyle {buy}_{H2O,net,t_{0}} = {θ}_{H2O,net,t_{0}}$"
      ],
      "text/plain": [
       "<IPython.core.display.Math object>"
      ]
     },
     "metadata": {},
     "output_type": "display_data"
    },
    {
     "data": {
      "text/latex": [
       "$\\displaystyle {exp^{buy}}_{csh,H2O,cacoda,t_{2}} = {DtSt}_{csh,H2O,cacoda,t_{2}} \\cdot {buy}_{H2O,cacoda,t_{2}}$"
      ],
      "text/plain": [
       "<IPython.core.display.Math object>"
      ]
     },
     "metadata": {},
     "output_type": "display_data"
    },
    {
     "data": {
      "text/latex": [
       "$\\displaystyle {exp^{buy}}_{csh,H2O,madgaon,t_{2}} = {DtSt}_{csh,H2O,madgaon,t_{2}} \\cdot {buy}_{H2O,madgaon,t_{2}}$"
      ],
      "text/plain": [
       "<IPython.core.display.Math object>"
      ]
     },
     "metadata": {},
     "output_type": "display_data"
    },
    {
     "data": {
      "text/latex": [
       "$\\displaystyle {exp^{buy}}_{csh,H2O,ponje,t_{2}} = {DtSt}_{csh,H2O,ponje,t_{2}} \\cdot {buy}_{H2O,ponje,t_{2}}$"
      ],
      "text/plain": [
       "<IPython.core.display.Math object>"
      ]
     },
     "metadata": {},
     "output_type": "display_data"
    },
    {
     "data": {
      "text/latex": [
       "$\\displaystyle {buy}_{CH_{4},net,t_{0}} \\geq 20$"
      ],
      "text/plain": [
       "<IPython.core.display.Math object>"
      ]
     },
     "metadata": {},
     "output_type": "display_data"
    },
    {
     "data": {
      "text/latex": [
       "$\\displaystyle {buy}_{CH_{4},net,t_{0}} \\leq 40$"
      ],
      "text/plain": [
       "<IPython.core.display.Math object>"
      ]
     },
     "metadata": {},
     "output_type": "display_data"
    },
    {
     "data": {
      "text/latex": [
       "$\\displaystyle {exp^{buy}}_{csh,CH_{4},cacoda,t_{0}} = {buy}_{CH_{4},cacoda,t_{0}} \\cdot 20$"
      ],
      "text/plain": [
       "<IPython.core.display.Math object>"
      ]
     },
     "metadata": {},
     "output_type": "display_data"
    },
    {
     "data": {
      "text/latex": [
       "$\\displaystyle {exp^{buy}}_{csh,CH_{4},madgaon,t_{0}} = {buy}_{CH_{4},madgaon,t_{0}} \\cdot 20$"
      ],
      "text/plain": [
       "<IPython.core.display.Math object>"
      ]
     },
     "metadata": {},
     "output_type": "display_data"
    },
    {
     "data": {
      "text/latex": [
       "$\\displaystyle {exp^{buy}}_{csh,CH_{4},ponje,t_{0}} = {buy}_{CH_{4},ponje,t_{0}} \\cdot 20$"
      ],
      "text/plain": [
       "<IPython.core.display.Math object>"
      ]
     },
     "metadata": {},
     "output_type": "display_data"
    },
    {
     "data": {
      "text/latex": [
       "$\\displaystyle {exp^{sell}}_{csh,CO_{2 Vent},cacoda,t_{0}} = {sell}_{CO_{2 Vent},cacoda,t_{0}} \\cdot {θ}_{csh,CO_{2 Vent},cacoda,t_{0}}$"
      ],
      "text/plain": [
       "<IPython.core.display.Math object>"
      ]
     },
     "metadata": {},
     "output_type": "display_data"
    },
    {
     "data": {
      "text/latex": [
       "$\\displaystyle {exp^{sell}}_{csh,CO_{2 Vent},madgaon,t_{0}} = {sell}_{CO_{2 Vent},madgaon,t_{0}} \\cdot {θ}_{csh,CO_{2 Vent},madgaon,t_{0}}$"
      ],
      "text/plain": [
       "<IPython.core.display.Math object>"
      ]
     },
     "metadata": {},
     "output_type": "display_data"
    },
    {
     "data": {
      "text/latex": [
       "$\\displaystyle {exp^{sell}}_{csh,CO_{2 Vent},ponje,t_{0}} = {sell}_{CO_{2 Vent},ponje,t_{0}} \\cdot {θ}_{csh,CO_{2 Vent},ponje,t_{0}}$"
      ],
      "text/plain": [
       "<IPython.core.display.Math object>"
      ]
     },
     "metadata": {},
     "output_type": "display_data"
    },
    {
     "data": {
      "text/latex": [
       "$\\displaystyle {emit^{sell}}_{gwp,CO_{2 Vent},cacoda,t_{2}} = {DtSt}_{gwp,CO_{2 Vent},cacoda,t_{2}} \\cdot {sell}_{CO_{2 Vent},cacoda,t_{2}}$"
      ],
      "text/plain": [
       "<IPython.core.display.Math object>"
      ]
     },
     "metadata": {},
     "output_type": "display_data"
    },
    {
     "data": {
      "text/latex": [
       "$\\displaystyle {emit^{sell}}_{gwp,CO_{2 Vent},madgaon,t_{2}} = {DtSt}_{gwp,CO_{2 Vent},madgaon,t_{2}} \\cdot {sell}_{CO_{2 Vent},madgaon,t_{2}}$"
      ],
      "text/plain": [
       "<IPython.core.display.Math object>"
      ]
     },
     "metadata": {},
     "output_type": "display_data"
    },
    {
     "data": {
      "text/latex": [
       "$\\displaystyle {emit^{sell}}_{gwp,CO_{2 Vent},ponje,t_{2}} = {DtSt}_{gwp,CO_{2 Vent},ponje,t_{2}} \\cdot {sell}_{CO_{2 Vent},ponje,t_{2}}$"
      ],
      "text/plain": [
       "<IPython.core.display.Math object>"
      ]
     },
     "metadata": {},
     "output_type": "display_data"
    },
    {
     "data": {
      "text/latex": [
       "$\\displaystyle {sell}_{O_{2},net,t_{0}} \\geq 20$"
      ],
      "text/plain": [
       "<IPython.core.display.Math object>"
      ]
     },
     "metadata": {},
     "output_type": "display_data"
    },
    {
     "data": {
      "text/latex": [
       "$\\displaystyle {sell}_{O_{2},net,t_{0}} \\leq M$"
      ],
      "text/plain": [
       "<IPython.core.display.Math object>"
      ]
     },
     "metadata": {},
     "output_type": "display_data"
    }
   ],
   "source": [
    "s.pprint()"
   ]
  },
  {
   "cell_type": "code",
   "execution_count": 22,
   "metadata": {},
   "outputs": [],
   "source": [
    "s.LiR = Material(\n",
    "    use_emission={s.gwp: {s.t2: 1.484}},\n",
    "    use={s.ponje: 1.5},\n",
    "    basis='kg',\n",
    "    label='Lithium Reserves',\n",
    "    citation='Nelson Bunyui Manjong (2021)',\n",
    ")"
   ]
  },
  {
   "cell_type": "code",
   "execution_count": 23,
   "metadata": {},
   "outputs": [
    {
     "data": {
      "text/latex": [
       "$\\displaystyle {use}_{LiR,ponje,t_{0}} = 1.5$"
      ],
      "text/plain": [
       "<IPython.core.display.Math object>"
      ]
     },
     "metadata": {},
     "output_type": "display_data"
    },
    {
     "data": {
      "text/latex": [
       "$\\displaystyle {emit^{use}}_{gwp,LiR,cacoda,t_{0}} = {use}_{LiR,cacoda,t_{0}} \\cdot 1.484$"
      ],
      "text/plain": [
       "<IPython.core.display.Math object>"
      ]
     },
     "metadata": {},
     "output_type": "display_data"
    },
    {
     "data": {
      "text/latex": [
       "$\\displaystyle {emit^{use}}_{gwp,LiR,madgaon,t_{0}} = {use}_{LiR,madgaon,t_{0}} \\cdot 1.484$"
      ],
      "text/plain": [
       "<IPython.core.display.Math object>"
      ]
     },
     "metadata": {},
     "output_type": "display_data"
    },
    {
     "data": {
      "text/latex": [
       "$\\displaystyle {emit^{use}}_{gwp,LiR,ponje,t_{0}} = {use}_{LiR,ponje,t_{0}} \\cdot 1.484$"
      ],
      "text/plain": [
       "<IPython.core.display.Math object>"
      ]
     },
     "metadata": {},
     "output_type": "display_data"
    }
   ],
   "source": [
    "s.LiR.pprint()"
   ]
  },
  {
   "cell_type": "code",
   "execution_count": 24,
   "metadata": {},
   "outputs": [],
   "source": [
    "s.WF = Process(\n",
    "    conversion={s.Power: {X(0): {s.Wind: -1}, X(1): {s.Wind: -1}}},\n",
    "    produce=[(0, 3), (3, 5)],\n",
    "    capex={s.madgaon: {s.t1: {1462000, I(202233)}}},\n",
    "    opex={4953, I(70)},\n",
    "    capacity=1000,\n",
    "    setup_emission={s.gwp: 50, s.odp: 2900},\n",
    "    material_use={s.LiR: 1.5},\n",
    "    locations=[s.madgaon, s.ponje],\n",
    "    land_use=30,\n",
    "    label='Wind mill array',\n",
    "    basis='MW',\n",
    ")\n",
    "\n",
    "\n",
    "s.PV = Process(\n",
    "    sell_price={s.Power: 30},\n",
    "    credit={s.Power: DataFrame({'a': [2]})},\n",
    "    conversion={s.Power: {X(1): {s.Solar: -1.2}, X(2): {s.Solar: -1.5}}},\n",
    "    capex={X(0): 1333, X(1): 1444, X(2): 1555},\n",
    "    opex=22623,\n",
    "    capacity={X(0): 3000, X(1): 4000, X(2): 5000},\n",
    "    locations=s.cacoda,\n",
    "    label='Solar PV',\n",
    "    basis='MW',\n",
    ")\n",
    "\n",
    "\n",
    "s.SMRH = Process(\n",
    "    land_use=50,\n",
    "    conversion={\n",
    "        s.H2: {\n",
    "            s.Power: -1.11,\n",
    "            s.CH4: -3.76,\n",
    "            s.H2O: -23.7,\n",
    "            s.CO2_Vent: 1.03,\n",
    "            s.CO2: 9.332,\n",
    "        }\n",
    "    },\n",
    "    capex={\n",
    "        2520000,\n",
    "    },\n",
    "    opex={51.5, I(945000)},\n",
    "    capacity=[1000],\n",
    "    label='Steam methane reforming + CCUS',\n",
    ")\n",
    "\n",
    "s.NGCC = Process(\n",
    "    buy_price={s.CH4: 4, s.H2O: 20},\n",
    "    conversion={\n",
    "        s.Power: {\n",
    "            s.CH4: -0.108,\n",
    "            s.H2O: -10,\n",
    "            s.CO2_Vent: 0.297 * 0.05,\n",
    "            s.CO2: 0.297 * 0.95,\n",
    "        }\n",
    "    },\n",
    "    capex=2158928,\n",
    "    opex={4090, I(53320)},\n",
    "    capacity=[1, 100],\n",
    "    label='NGCC + 95% CC',\n",
    ")\n",
    "s.SMR = Process(\n",
    "    capex=2400,\n",
    "    opex={0.03, I(800)},\n",
    "    conversion={s.H2: {s.Power: -1.11, s.CH4: -3.76, s.H2O: -23.7, s.CO2_Vent: 9.4979}},\n",
    "    capacity=1000,\n",
    "    label='Steam methane reforming',\n",
    ")\n",
    "s.H2FC = Process(\n",
    "    buy_price={s.H2: 2},\n",
    "    sell={s.Power: 20},\n",
    "    conversion={s.Power: {s.H2: -0.050}},\n",
    "    capex=1.6 * 10**6,\n",
    "    opex=3.5,\n",
    "    capacity=[1000, 2000],\n",
    "    label='hydrogen fuel cell',\n",
    ")\n",
    "s.DAC = Process(\n",
    "    capex=0.02536,\n",
    "    opex=0.634,\n",
    "    conversion={s.CO2_DAC: {s.Power: -0.193, s.H2O: -4.048}},\n",
    "    capacity=1000,\n",
    "    label='Direct air capture',\n",
    ")\n",
    "# s.PSH = Process(conversion = {s.Power: 0.6}, capex = 3924781, fopex= 17820, vopex = 512.5, store = 10000, capacity=1000, label='Pumped storage hydropower', basis = 'MW')\n",
    "s.ASMR = Process(\n",
    "    buy={s.Uranium: 40},\n",
    "    conversion={s.Power: {s.Uranium: -4.17 * 10 ** (-5), s.H2O: -3.364}},\n",
    "    capex=7988951,\n",
    "    opex=I(0.04 * 0.730),\n",
    "    capacity=1000,\n",
    "    label='Small modular reactors (SMRs)',\n",
    "    locations=s.madgaon,\n",
    ")\n",
    "s.AWE = Process(\n",
    "    land_use=(0, 20),\n",
    "    conversion={s.H2: {s.Power: -1, s.O2: 0.7632, s.H2O: -0.1753}},\n",
    "    capex={1.1 * 10**6, I(20)},\n",
    "    opex=I(16918),\n",
    "    capacity=True,\n",
    "    label='Alkaline water electrolysis (AWE)',\n",
    "    citation='Demirhan et al. 2018 AIChE paper',\n",
    ")"
   ]
  },
  {
   "cell_type": "code",
   "execution_count": 25,
   "metadata": {},
   "outputs": [],
   "source": [
    "s.LiI = Storage(capacity=[2000], inventory=s.Power, capacity_in=[40], capacity_out=[20])\n",
    "s.LiI2 = Storage(capacity=[2000], inventory={s.Power: 0.6})\n",
    "s.H2Stg = Storage(\n",
    "    capacity=[2000], inventory={s.H2: {X(0): {s.Power: 0.8}, X(1): {s.Power: 0.9}}}\n",
    ")"
   ]
  },
  {
   "cell_type": "code",
   "execution_count": 26,
   "metadata": {},
   "outputs": [
    {
     "name": "stdout",
     "output_type": "stream",
     "text": [
      "Help on class Process in module energiapy.components.operation.process:\n",
      "\n",
      "class Process(energiapy.components._attrs._balances._ProBalance, energiapy.components._attrs._bounds._OpnBounds, energiapy.components._attrs._bounds._ProBounds, energiapy.components._attrs._exacts._ProExacts, energiapy.components._attrs._bounds._ResLocBounds, energiapy.components._attrs._exacts._ResExacts, energiapy.components._attrs._spatials.LocCollection, energiapy.components.operation._operation._Operation)\n",
      " |  Process(basis: str = None, citation: dict = None, block: str = None, introduce: str = None, retire: str = None, label: str = None, locations: list[energiapy.components.scope.spatial.location.Location] = <factory>, buy_emission: float | int | pandas.core.frame.DataFrame | tuple[float | int | pandas.core.frame.DataFrame, float | int | pandas.core.frame.DataFrame] | dict[energiapy.components.scope.spatial.location.Location | energiapy.components.scope.spatial.linkage.Linkage, float | int | pandas.core.frame.DataFrame | tuple[float | int | pandas.core.frame.DataFrame, float | int | pandas.core.frame.DataFrame]] | dict[energiapy.components.scope.temporal.scale.Scale, float | int | pandas.core.frame.DataFrame | tuple[float | int | pandas.core.frame.DataFrame, float | int | pandas.core.frame.DataFrame]] | dict[energiapy.components.scope.temporal.mode.X, float | int | pandas.core.frame.DataFrame | tuple[float | int | pandas.core.frame.DataFrame, float | int | pandas.core.frame.DataFrame]] | dict[energiapy.components.scope.spatial.location.Location | energiapy.components.scope.spatial.linkage.Linkage, dict[energiapy.components.scope.temporal.scale.Scale, float | int | pandas.core.frame.DataFrame | tuple[float | int | pandas.core.frame.DataFrame, float | int | pandas.core.frame.DataFrame]]] | dict[energiapy.components.scope.spatial.location.Location | energiapy.components.scope.spatial.linkage.Linkage, dict[energiapy.components.scope.temporal.mode.X, float | int | pandas.core.frame.DataFrame | tuple[float | int | pandas.core.frame.DataFrame, float | int | pandas.core.frame.DataFrame]]] | dict[energiapy.components.scope.temporal.scale.Scale, dict[energiapy.components.scope.temporal.mode.X, float | int | pandas.core.frame.DataFrame | tuple[float | int | pandas.core.frame.DataFrame, float | int | pandas.core.frame.DataFrame]]] | dict[energiapy.components.scope.spatial.location.Location | energiapy.components.scope.spatial.linkage.Linkage, dict[energiapy.components.scope.temporal.scale.Scale, dict[energiapy.components.scope.temporal.mode.X, float | int | pandas.core.frame.DataFrame | tuple[float | int | pandas.core.frame.DataFrame, float | int | pandas.core.frame.DataFrame]]]] = None, sell_emission: float | int | pandas.core.frame.DataFrame | tuple[float | int | pandas.core.frame.DataFrame, float | int | pandas.core.frame.DataFrame] | dict[energiapy.components.scope.spatial.location.Location | energiapy.components.scope.spatial.linkage.Linkage, float | int | pandas.core.frame.DataFrame | tuple[float | int | pandas.core.frame.DataFrame, float | int | pandas.core.frame.DataFrame]] | dict[energiapy.components.scope.temporal.scale.Scale, float | int | pandas.core.frame.DataFrame | tuple[float | int | pandas.core.frame.DataFrame, float | int | pandas.core.frame.DataFrame]] | dict[energiapy.components.scope.temporal.mode.X, float | int | pandas.core.frame.DataFrame | tuple[float | int | pandas.core.frame.DataFrame, float | int | pandas.core.frame.DataFrame]] | dict[energiapy.components.scope.spatial.location.Location | energiapy.components.scope.spatial.linkage.Linkage, dict[energiapy.components.scope.temporal.scale.Scale, float | int | pandas.core.frame.DataFrame | tuple[float | int | pandas.core.frame.DataFrame, float | int | pandas.core.frame.DataFrame]]] | dict[energiapy.components.scope.spatial.location.Location | energiapy.components.scope.spatial.linkage.Linkage, dict[energiapy.components.scope.temporal.mode.X, float | int | pandas.core.frame.DataFrame | tuple[float | int | pandas.core.frame.DataFrame, float | int | pandas.core.frame.DataFrame]]] | dict[energiapy.components.scope.temporal.scale.Scale, dict[energiapy.components.scope.temporal.mode.X, float | int | pandas.core.frame.DataFrame | tuple[float | int | pandas.core.frame.DataFrame, float | int | pandas.core.frame.DataFrame]]] | dict[energiapy.components.scope.spatial.location.Location | energiapy.components.scope.spatial.linkage.Linkage, dict[energiapy.components.scope.temporal.scale.Scale, dict[energiapy.components.scope.temporal.mode.X, float | int | pandas.core.frame.DataFrame | tuple[float | int | pandas.core.frame.DataFrame, float | int | pandas.core.frame.DataFrame]]]] = None, loss_emission: float | int | pandas.core.frame.DataFrame | tuple[float | int | pandas.core.frame.DataFrame, float | int | pandas.core.frame.DataFrame] | dict[energiapy.components.scope.spatial.location.Location | energiapy.components.scope.spatial.linkage.Linkage, float | int | pandas.core.frame.DataFrame | tuple[float | int | pandas.core.frame.DataFrame, float | int | pandas.core.frame.DataFrame]] | dict[energiapy.components.scope.temporal.scale.Scale, float | int | pandas.core.frame.DataFrame | tuple[float | int | pandas.core.frame.DataFrame, float | int | pandas.core.frame.DataFrame]] | dict[energiapy.components.scope.temporal.mode.X, float | int | pandas.core.frame.DataFrame | tuple[float | int | pandas.core.frame.DataFrame, float | int | pandas.core.frame.DataFrame]] | dict[energiapy.components.scope.spatial.location.Location | energiapy.components.scope.spatial.linkage.Linkage, dict[energiapy.components.scope.temporal.scale.Scale, float | int | pandas.core.frame.DataFrame | tuple[float | int | pandas.core.frame.DataFrame, float | int | pandas.core.frame.DataFrame]]] | dict[energiapy.components.scope.spatial.location.Location | energiapy.components.scope.spatial.linkage.Linkage, dict[energiapy.components.scope.temporal.mode.X, float | int | pandas.core.frame.DataFrame | tuple[float | int | pandas.core.frame.DataFrame, float | int | pandas.core.frame.DataFrame]]] | dict[energiapy.components.scope.temporal.scale.Scale, dict[energiapy.components.scope.temporal.mode.X, float | int | pandas.core.frame.DataFrame | tuple[float | int | pandas.core.frame.DataFrame, float | int | pandas.core.frame.DataFrame]]] | dict[energiapy.components.scope.spatial.location.Location | energiapy.components.scope.spatial.linkage.Linkage, dict[energiapy.components.scope.temporal.scale.Scale, dict[energiapy.components.scope.temporal.mode.X, float | int | pandas.core.frame.DataFrame | tuple[float | int | pandas.core.frame.DataFrame, float | int | pandas.core.frame.DataFrame]]]] = None, buy_price: set[float | int | pandas.core.frame.DataFrame | tuple[float | int | pandas.core.frame.DataFrame, float | int | pandas.core.frame.DataFrame] | energiapy.components.scope.temporal.incidental.I] | dict[energiapy.components.scope.spatial.location.Location | energiapy.components.scope.spatial.linkage.Linkage, set[float | int | pandas.core.frame.DataFrame | tuple[float | int | pandas.core.frame.DataFrame, float | int | pandas.core.frame.DataFrame] | energiapy.components.scope.temporal.incidental.I]] | dict[energiapy.components.scope.temporal.scale.Scale, set[float | int | pandas.core.frame.DataFrame | tuple[float | int | pandas.core.frame.DataFrame, float | int | pandas.core.frame.DataFrame] | energiapy.components.scope.temporal.incidental.I]] | dict[energiapy.components.scope.temporal.mode.X, set[float | int | pandas.core.frame.DataFrame | tuple[float | int | pandas.core.frame.DataFrame, float | int | pandas.core.frame.DataFrame] | energiapy.components.scope.temporal.incidental.I]] | dict[energiapy.components.scope.spatial.location.Location | energiapy.components.scope.spatial.linkage.Linkage, dict[energiapy.components.scope.temporal.scale.Scale, set[float | int | pandas.core.frame.DataFrame | tuple[float | int | pandas.core.frame.DataFrame, float | int | pandas.core.frame.DataFrame] | energiapy.components.scope.temporal.incidental.I]]] | dict[energiapy.components.scope.spatial.location.Location | energiapy.components.scope.spatial.linkage.Linkage, dict[energiapy.components.scope.temporal.mode.X, set[float | int | pandas.core.frame.DataFrame | tuple[float | int | pandas.core.frame.DataFrame, float | int | pandas.core.frame.DataFrame] | energiapy.components.scope.temporal.incidental.I]]] | dict[energiapy.components.scope.temporal.scale.Scale, dict[energiapy.components.scope.temporal.mode.X, set[float | int | pandas.core.frame.DataFrame | tuple[float | int | pandas.core.frame.DataFrame, float | int | pandas.core.frame.DataFrame] | energiapy.components.scope.temporal.incidental.I]]] | dict[energiapy.components.scope.spatial.location.Location | energiapy.components.scope.spatial.linkage.Linkage, dict[energiapy.components.scope.temporal.scale.Scale, dict[energiapy.components.scope.temporal.mode.X, set[float | int | pandas.core.frame.DataFrame | tuple[float | int | pandas.core.frame.DataFrame, float | int | pandas.core.frame.DataFrame] | energiapy.components.scope.temporal.incidental.I]]]] = None, sell_price: set[float | int | pandas.core.frame.DataFrame | tuple[float | int | pandas.core.frame.DataFrame, float | int | pandas.core.frame.DataFrame] | energiapy.components.scope.temporal.incidental.I] | dict[energiapy.components.scope.spatial.location.Location | energiapy.components.scope.spatial.linkage.Linkage, set[float | int | pandas.core.frame.DataFrame | tuple[float | int | pandas.core.frame.DataFrame, float | int | pandas.core.frame.DataFrame] | energiapy.components.scope.temporal.incidental.I]] | dict[energiapy.components.scope.temporal.scale.Scale, set[float | int | pandas.core.frame.DataFrame | tuple[float | int | pandas.core.frame.DataFrame, float | int | pandas.core.frame.DataFrame] | energiapy.components.scope.temporal.incidental.I]] | dict[energiapy.components.scope.temporal.mode.X, set[float | int | pandas.core.frame.DataFrame | tuple[float | int | pandas.core.frame.DataFrame, float | int | pandas.core.frame.DataFrame] | energiapy.components.scope.temporal.incidental.I]] | dict[energiapy.components.scope.spatial.location.Location | energiapy.components.scope.spatial.linkage.Linkage, dict[energiapy.components.scope.temporal.scale.Scale, set[float | int | pandas.core.frame.DataFrame | tuple[float | int | pandas.core.frame.DataFrame, float | int | pandas.core.frame.DataFrame] | energiapy.components.scope.temporal.incidental.I]]] | dict[energiapy.components.scope.spatial.location.Location | energiapy.components.scope.spatial.linkage.Linkage, dict[energiapy.components.scope.temporal.mode.X, set[float | int | pandas.core.frame.DataFrame | tuple[float | int | pandas.core.frame.DataFrame, float | int | pandas.core.frame.DataFrame] | energiapy.components.scope.temporal.incidental.I]]] | dict[energiapy.components.scope.temporal.scale.Scale, dict[energiapy.components.scope.temporal.mode.X, set[float | int | pandas.core.frame.DataFrame | tuple[float | int | pandas.core.frame.DataFrame, float | int | pandas.core.frame.DataFrame] | energiapy.components.scope.temporal.incidental.I]]] | dict[energiapy.components.scope.spatial.location.Location | energiapy.components.scope.spatial.linkage.Linkage, dict[energiapy.components.scope.temporal.scale.Scale, dict[energiapy.components.scope.temporal.mode.X, set[float | int | pandas.core.frame.DataFrame | tuple[float | int | pandas.core.frame.DataFrame, float | int | pandas.core.frame.DataFrame] | energiapy.components.scope.temporal.incidental.I]]]] = None, credit: float | int | pandas.core.frame.DataFrame | tuple[float | int | pandas.core.frame.DataFrame, float | int | pandas.core.frame.DataFrame] | dict[energiapy.components.scope.spatial.location.Location | energiapy.components.scope.spatial.linkage.Linkage, float | int | pandas.core.frame.DataFrame | tuple[float | int | pandas.core.frame.DataFrame, float | int | pandas.core.frame.DataFrame]] | dict[energiapy.components.scope.temporal.scale.Scale, float | int | pandas.core.frame.DataFrame | tuple[float | int | pandas.core.frame.DataFrame, float | int | pandas.core.frame.DataFrame]] | dict[energiapy.components.scope.temporal.mode.X, float | int | pandas.core.frame.DataFrame | tuple[float | int | pandas.core.frame.DataFrame, float | int | pandas.core.frame.DataFrame]] | dict[energiapy.components.scope.spatial.location.Location | energiapy.components.scope.spatial.linkage.Linkage, dict[energiapy.components.scope.temporal.scale.Scale, float | int | pandas.core.frame.DataFrame | tuple[float | int | pandas.core.frame.DataFrame, float | int | pandas.core.frame.DataFrame]]] | dict[energiapy.components.scope.spatial.location.Location | energiapy.components.scope.spatial.linkage.Linkage, dict[energiapy.components.scope.temporal.mode.X, float | int | pandas.core.frame.DataFrame | tuple[float | int | pandas.core.frame.DataFrame, float | int | pandas.core.frame.DataFrame]]] | dict[energiapy.components.scope.temporal.scale.Scale, dict[energiapy.components.scope.temporal.mode.X, float | int | pandas.core.frame.DataFrame | tuple[float | int | pandas.core.frame.DataFrame, float | int | pandas.core.frame.DataFrame]]] | dict[energiapy.components.scope.spatial.location.Location | energiapy.components.scope.spatial.linkage.Linkage, dict[energiapy.components.scope.temporal.scale.Scale, dict[energiapy.components.scope.temporal.mode.X, float | int | pandas.core.frame.DataFrame | tuple[float | int | pandas.core.frame.DataFrame, float | int | pandas.core.frame.DataFrame]]]] = None, penalty: float | int | pandas.core.frame.DataFrame | tuple[float | int | pandas.core.frame.DataFrame, float | int | pandas.core.frame.DataFrame] | dict[energiapy.components.scope.spatial.location.Location | energiapy.components.scope.spatial.linkage.Linkage, float | int | pandas.core.frame.DataFrame | tuple[float | int | pandas.core.frame.DataFrame, float | int | pandas.core.frame.DataFrame]] | dict[energiapy.components.scope.temporal.scale.Scale, float | int | pandas.core.frame.DataFrame | tuple[float | int | pandas.core.frame.DataFrame, float | int | pandas.core.frame.DataFrame]] | dict[energiapy.components.scope.temporal.mode.X, float | int | pandas.core.frame.DataFrame | tuple[float | int | pandas.core.frame.DataFrame, float | int | pandas.core.frame.DataFrame]] | dict[energiapy.components.scope.spatial.location.Location | energiapy.components.scope.spatial.linkage.Linkage, dict[energiapy.components.scope.temporal.scale.Scale, float | int | pandas.core.frame.DataFrame | tuple[float | int | pandas.core.frame.DataFrame, float | int | pandas.core.frame.DataFrame]]] | dict[energiapy.components.scope.spatial.location.Location | energiapy.components.scope.spatial.linkage.Linkage, dict[energiapy.components.scope.temporal.mode.X, float | int | pandas.core.frame.DataFrame | tuple[float | int | pandas.core.frame.DataFrame, float | int | pandas.core.frame.DataFrame]]] | dict[energiapy.components.scope.temporal.scale.Scale, dict[energiapy.components.scope.temporal.mode.X, float | int | pandas.core.frame.DataFrame | tuple[float | int | pandas.core.frame.DataFrame, float | int | pandas.core.frame.DataFrame]]] | dict[energiapy.components.scope.spatial.location.Location | energiapy.components.scope.spatial.linkage.Linkage, dict[energiapy.components.scope.temporal.scale.Scale, dict[energiapy.components.scope.temporal.mode.X, float | int | pandas.core.frame.DataFrame | tuple[float | int | pandas.core.frame.DataFrame, float | int | pandas.core.frame.DataFrame]]]] = None, buy: Union[float, int, pandas.core.frame.DataFrame, tuple[float | int | pandas.core.frame.DataFrame, float | int | pandas.core.frame.DataFrame], Literal[True], list[Union[float, int, pandas.core.frame.DataFrame, tuple[float | int | pandas.core.frame.DataFrame, float | int | pandas.core.frame.DataFrame], Literal[True]]], dict[energiapy.components.scope.spatial.location.Location | energiapy.components.scope.spatial.linkage.Linkage | energiapy.components.scope.spatial.network.Network, Union[float, int, pandas.core.frame.DataFrame, tuple[float | int | pandas.core.frame.DataFrame, float | int | pandas.core.frame.DataFrame], Literal[True], list[Union[float, int, pandas.core.frame.DataFrame, tuple[float | int | pandas.core.frame.DataFrame, float | int | pandas.core.frame.DataFrame], Literal[True]]]]], dict[energiapy.components.scope.temporal.scale.Scale, Union[float, int, pandas.core.frame.DataFrame, tuple[float | int | pandas.core.frame.DataFrame, float | int | pandas.core.frame.DataFrame], Literal[True], list[Union[float, int, pandas.core.frame.DataFrame, tuple[float | int | pandas.core.frame.DataFrame, float | int | pandas.core.frame.DataFrame], Literal[True]]]]], dict[energiapy.components.scope.spatial.location.Location | energiapy.components.scope.spatial.linkage.Linkage | energiapy.components.scope.spatial.network.Network, dict[energiapy.components.scope.temporal.scale.Scale, Union[float, int, pandas.core.frame.DataFrame, tuple[float | int | pandas.core.frame.DataFrame, float | int | pandas.core.frame.DataFrame], Literal[True], list[Union[float, int, pandas.core.frame.DataFrame, tuple[float | int | pandas.core.frame.DataFrame, float | int | pandas.core.frame.DataFrame], Literal[True]]]]]]] = None, sell: Union[float, int, pandas.core.frame.DataFrame, tuple[float | int | pandas.core.frame.DataFrame, float | int | pandas.core.frame.DataFrame], Literal[True], list[Union[float, int, pandas.core.frame.DataFrame, tuple[float | int | pandas.core.frame.DataFrame, float | int | pandas.core.frame.DataFrame], Literal[True]]], dict[energiapy.components.scope.spatial.location.Location | energiapy.components.scope.spatial.linkage.Linkage | energiapy.components.scope.spatial.network.Network, Union[float, int, pandas.core.frame.DataFrame, tuple[float | int | pandas.core.frame.DataFrame, float | int | pandas.core.frame.DataFrame], Literal[True], list[Union[float, int, pandas.core.frame.DataFrame, tuple[float | int | pandas.core.frame.DataFrame, float | int | pandas.core.frame.DataFrame], Literal[True]]]]], dict[energiapy.components.scope.temporal.scale.Scale, Union[float, int, pandas.core.frame.DataFrame, tuple[float | int | pandas.core.frame.DataFrame, float | int | pandas.core.frame.DataFrame], Literal[True], list[Union[float, int, pandas.core.frame.DataFrame, tuple[float | int | pandas.core.frame.DataFrame, float | int | pandas.core.frame.DataFrame], Literal[True]]]]], dict[energiapy.components.scope.spatial.location.Location | energiapy.components.scope.spatial.linkage.Linkage | energiapy.components.scope.spatial.network.Network, dict[energiapy.components.scope.temporal.scale.Scale, Union[float, int, pandas.core.frame.DataFrame, tuple[float | int | pandas.core.frame.DataFrame, float | int | pandas.core.frame.DataFrame], Literal[True], list[Union[float, int, pandas.core.frame.DataFrame, tuple[float | int | pandas.core.frame.DataFrame, float | int | pandas.core.frame.DataFrame], Literal[True]]]]]]] = None, setup_time: float | int | pandas.core.frame.DataFrame | tuple[float | int | pandas.core.frame.DataFrame, float | int | pandas.core.frame.DataFrame] | dict[energiapy.components.scope.spatial.location.Location | energiapy.components.scope.spatial.linkage.Linkage, float | int | pandas.core.frame.DataFrame | tuple[float | int | pandas.core.frame.DataFrame, float | int | pandas.core.frame.DataFrame]] | dict[energiapy.components.scope.temporal.scale.Scale, float | int | pandas.core.frame.DataFrame | tuple[float | int | pandas.core.frame.DataFrame, float | int | pandas.core.frame.DataFrame]] | dict[energiapy.components.scope.temporal.mode.X, float | int | pandas.core.frame.DataFrame | tuple[float | int | pandas.core.frame.DataFrame, float | int | pandas.core.frame.DataFrame]] | dict[energiapy.components.scope.spatial.location.Location | energiapy.components.scope.spatial.linkage.Linkage, dict[energiapy.components.scope.temporal.scale.Scale, float | int | pandas.core.frame.DataFrame | tuple[float | int | pandas.core.frame.DataFrame, float | int | pandas.core.frame.DataFrame]]] | dict[energiapy.components.scope.spatial.location.Location | energiapy.components.scope.spatial.linkage.Linkage, dict[energiapy.components.scope.temporal.mode.X, float | int | pandas.core.frame.DataFrame | tuple[float | int | pandas.core.frame.DataFrame, float | int | pandas.core.frame.DataFrame]]] | dict[energiapy.components.scope.temporal.scale.Scale, dict[energiapy.components.scope.temporal.mode.X, float | int | pandas.core.frame.DataFrame | tuple[float | int | pandas.core.frame.DataFrame, float | int | pandas.core.frame.DataFrame]]] | dict[energiapy.components.scope.spatial.location.Location | energiapy.components.scope.spatial.linkage.Linkage, dict[energiapy.components.scope.temporal.scale.Scale, dict[energiapy.components.scope.temporal.mode.X, float | int | pandas.core.frame.DataFrame | tuple[float | int | pandas.core.frame.DataFrame, float | int | pandas.core.frame.DataFrame]]]] = None, land_use_emission: float | int | pandas.core.frame.DataFrame | tuple[float | int | pandas.core.frame.DataFrame, float | int | pandas.core.frame.DataFrame] | dict[energiapy.components.scope.spatial.location.Location | energiapy.components.scope.spatial.linkage.Linkage, float | int | pandas.core.frame.DataFrame | tuple[float | int | pandas.core.frame.DataFrame, float | int | pandas.core.frame.DataFrame]] | dict[energiapy.components.scope.temporal.scale.Scale, float | int | pandas.core.frame.DataFrame | tuple[float | int | pandas.core.frame.DataFrame, float | int | pandas.core.frame.DataFrame]] | dict[energiapy.components.scope.temporal.mode.X, float | int | pandas.core.frame.DataFrame | tuple[float | int | pandas.core.frame.DataFrame, float | int | pandas.core.frame.DataFrame]] | dict[energiapy.components.scope.spatial.location.Location | energiapy.components.scope.spatial.linkage.Linkage, dict[energiapy.components.scope.temporal.scale.Scale, float | int | pandas.core.frame.DataFrame | tuple[float | int | pandas.core.frame.DataFrame, float | int | pandas.core.frame.DataFrame]]] | dict[energiapy.components.scope.spatial.location.Location | energiapy.components.scope.spatial.linkage.Linkage, dict[energiapy.components.scope.temporal.mode.X, float | int | pandas.core.frame.DataFrame | tuple[float | int | pandas.core.frame.DataFrame, float | int | pandas.core.frame.DataFrame]]] | dict[energiapy.components.scope.temporal.scale.Scale, dict[energiapy.components.scope.temporal.mode.X, float | int | pandas.core.frame.DataFrame | tuple[float | int | pandas.core.frame.DataFrame, float | int | pandas.core.frame.DataFrame]]] | dict[energiapy.components.scope.spatial.location.Location | energiapy.components.scope.spatial.linkage.Linkage, dict[energiapy.components.scope.temporal.scale.Scale, dict[energiapy.components.scope.temporal.mode.X, float | int | pandas.core.frame.DataFrame | tuple[float | int | pandas.core.frame.DataFrame, float | int | pandas.core.frame.DataFrame]]]] = None, material_use_emission: float | int | pandas.core.frame.DataFrame | tuple[float | int | pandas.core.frame.DataFrame, float | int | pandas.core.frame.DataFrame] | dict[energiapy.components.scope.spatial.location.Location | energiapy.components.scope.spatial.linkage.Linkage, float | int | pandas.core.frame.DataFrame | tuple[float | int | pandas.core.frame.DataFrame, float | int | pandas.core.frame.DataFrame]] | dict[energiapy.components.scope.temporal.scale.Scale, float | int | pandas.core.frame.DataFrame | tuple[float | int | pandas.core.frame.DataFrame, float | int | pandas.core.frame.DataFrame]] | dict[energiapy.components.scope.temporal.mode.X, float | int | pandas.core.frame.DataFrame | tuple[float | int | pandas.core.frame.DataFrame, float | int | pandas.core.frame.DataFrame]] | dict[energiapy.components.scope.spatial.location.Location | energiapy.components.scope.spatial.linkage.Linkage, dict[energiapy.components.scope.temporal.scale.Scale, float | int | pandas.core.frame.DataFrame | tuple[float | int | pandas.core.frame.DataFrame, float | int | pandas.core.frame.DataFrame]]] | dict[energiapy.components.scope.spatial.location.Location | energiapy.components.scope.spatial.linkage.Linkage, dict[energiapy.components.scope.temporal.mode.X, float | int | pandas.core.frame.DataFrame | tuple[float | int | pandas.core.frame.DataFrame, float | int | pandas.core.frame.DataFrame]]] | dict[energiapy.components.scope.temporal.scale.Scale, dict[energiapy.components.scope.temporal.mode.X, float | int | pandas.core.frame.DataFrame | tuple[float | int | pandas.core.frame.DataFrame, float | int | pandas.core.frame.DataFrame]]] | dict[energiapy.components.scope.spatial.location.Location | energiapy.components.scope.spatial.linkage.Linkage, dict[energiapy.components.scope.temporal.scale.Scale, dict[energiapy.components.scope.temporal.mode.X, float | int | pandas.core.frame.DataFrame | tuple[float | int | pandas.core.frame.DataFrame, float | int | pandas.core.frame.DataFrame]]]] = None, land_use_cost: float | int | pandas.core.frame.DataFrame | tuple[float | int | pandas.core.frame.DataFrame, float | int | pandas.core.frame.DataFrame] | dict[energiapy.components.scope.spatial.location.Location | energiapy.components.scope.spatial.linkage.Linkage, float | int | pandas.core.frame.DataFrame | tuple[float | int | pandas.core.frame.DataFrame, float | int | pandas.core.frame.DataFrame]] | dict[energiapy.components.scope.temporal.scale.Scale, float | int | pandas.core.frame.DataFrame | tuple[float | int | pandas.core.frame.DataFrame, float | int | pandas.core.frame.DataFrame]] | dict[energiapy.components.scope.temporal.mode.X, float | int | pandas.core.frame.DataFrame | tuple[float | int | pandas.core.frame.DataFrame, float | int | pandas.core.frame.DataFrame]] | dict[energiapy.components.scope.spatial.location.Location | energiapy.components.scope.spatial.linkage.Linkage, dict[energiapy.components.scope.temporal.scale.Scale, float | int | pandas.core.frame.DataFrame | tuple[float | int | pandas.core.frame.DataFrame, float | int | pandas.core.frame.DataFrame]]] | dict[energiapy.components.scope.spatial.location.Location | energiapy.components.scope.spatial.linkage.Linkage, dict[energiapy.components.scope.temporal.mode.X, float | int | pandas.core.frame.DataFrame | tuple[float | int | pandas.core.frame.DataFrame, float | int | pandas.core.frame.DataFrame]]] | dict[energiapy.components.scope.temporal.scale.Scale, dict[energiapy.components.scope.temporal.mode.X, float | int | pandas.core.frame.DataFrame | tuple[float | int | pandas.core.frame.DataFrame, float | int | pandas.core.frame.DataFrame]]] | dict[energiapy.components.scope.spatial.location.Location | energiapy.components.scope.spatial.linkage.Linkage, dict[energiapy.components.scope.temporal.scale.Scale, dict[energiapy.components.scope.temporal.mode.X, float | int | pandas.core.frame.DataFrame | tuple[float | int | pandas.core.frame.DataFrame, float | int | pandas.core.frame.DataFrame]]]] = None, material_use_cost: float | int | pandas.core.frame.DataFrame | tuple[float | int | pandas.core.frame.DataFrame, float | int | pandas.core.frame.DataFrame] | dict[energiapy.components.scope.spatial.location.Location | energiapy.components.scope.spatial.linkage.Linkage, float | int | pandas.core.frame.DataFrame | tuple[float | int | pandas.core.frame.DataFrame, float | int | pandas.core.frame.DataFrame]] | dict[energiapy.components.scope.temporal.scale.Scale, float | int | pandas.core.frame.DataFrame | tuple[float | int | pandas.core.frame.DataFrame, float | int | pandas.core.frame.DataFrame]] | dict[energiapy.components.scope.temporal.mode.X, float | int | pandas.core.frame.DataFrame | tuple[float | int | pandas.core.frame.DataFrame, float | int | pandas.core.frame.DataFrame]] | dict[energiapy.components.scope.spatial.location.Location | energiapy.components.scope.spatial.linkage.Linkage, dict[energiapy.components.scope.temporal.scale.Scale, float | int | pandas.core.frame.DataFrame | tuple[float | int | pandas.core.frame.DataFrame, float | int | pandas.core.frame.DataFrame]]] | dict[energiapy.components.scope.spatial.location.Location | energiapy.components.scope.spatial.linkage.Linkage, dict[energiapy.components.scope.temporal.mode.X, float | int | pandas.core.frame.DataFrame | tuple[float | int | pandas.core.frame.DataFrame, float | int | pandas.core.frame.DataFrame]]] | dict[energiapy.components.scope.temporal.scale.Scale, dict[energiapy.components.scope.temporal.mode.X, float | int | pandas.core.frame.DataFrame | tuple[float | int | pandas.core.frame.DataFrame, float | int | pandas.core.frame.DataFrame]]] | dict[energiapy.components.scope.spatial.location.Location | energiapy.components.scope.spatial.linkage.Linkage, dict[energiapy.components.scope.temporal.scale.Scale, dict[energiapy.components.scope.temporal.mode.X, float | int | pandas.core.frame.DataFrame | tuple[float | int | pandas.core.frame.DataFrame, float | int | pandas.core.frame.DataFrame]]]] = None, land_use: float | int | pandas.core.frame.DataFrame | tuple[float | int | pandas.core.frame.DataFrame, float | int | pandas.core.frame.DataFrame] | dict[energiapy.components.scope.spatial.location.Location | energiapy.components.scope.spatial.linkage.Linkage, float | int | pandas.core.frame.DataFrame | tuple[float | int | pandas.core.frame.DataFrame, float | int | pandas.core.frame.DataFrame]] | dict[energiapy.components.scope.temporal.scale.Scale, float | int | pandas.core.frame.DataFrame | tuple[float | int | pandas.core.frame.DataFrame, float | int | pandas.core.frame.DataFrame]] | dict[energiapy.components.scope.temporal.mode.X, float | int | pandas.core.frame.DataFrame | tuple[float | int | pandas.core.frame.DataFrame, float | int | pandas.core.frame.DataFrame]] | dict[energiapy.components.scope.spatial.location.Location | energiapy.components.scope.spatial.linkage.Linkage, dict[energiapy.components.scope.temporal.scale.Scale, float | int | pandas.core.frame.DataFrame | tuple[float | int | pandas.core.frame.DataFrame, float | int | pandas.core.frame.DataFrame]]] | dict[energiapy.components.scope.spatial.location.Location | energiapy.components.scope.spatial.linkage.Linkage, dict[energiapy.components.scope.temporal.mode.X, float | int | pandas.core.frame.DataFrame | tuple[float | int | pandas.core.frame.DataFrame, float | int | pandas.core.frame.DataFrame]]] | dict[energiapy.components.scope.temporal.scale.Scale, dict[energiapy.components.scope.temporal.mode.X, float | int | pandas.core.frame.DataFrame | tuple[float | int | pandas.core.frame.DataFrame, float | int | pandas.core.frame.DataFrame]]] | dict[energiapy.components.scope.spatial.location.Location | energiapy.components.scope.spatial.linkage.Linkage, dict[energiapy.components.scope.temporal.scale.Scale, dict[energiapy.components.scope.temporal.mode.X, float | int | pandas.core.frame.DataFrame | tuple[float | int | pandas.core.frame.DataFrame, float | int | pandas.core.frame.DataFrame]]]] = None, material_use: float | int | pandas.core.frame.DataFrame | tuple[float | int | pandas.core.frame.DataFrame, float | int | pandas.core.frame.DataFrame] | dict[energiapy.components.scope.spatial.location.Location | energiapy.components.scope.spatial.linkage.Linkage, float | int | pandas.core.frame.DataFrame | tuple[float | int | pandas.core.frame.DataFrame, float | int | pandas.core.frame.DataFrame]] | dict[energiapy.components.scope.temporal.scale.Scale, float | int | pandas.core.frame.DataFrame | tuple[float | int | pandas.core.frame.DataFrame, float | int | pandas.core.frame.DataFrame]] | dict[energiapy.components.scope.temporal.mode.X, float | int | pandas.core.frame.DataFrame | tuple[float | int | pandas.core.frame.DataFrame, float | int | pandas.core.frame.DataFrame]] | dict[energiapy.components.scope.spatial.location.Location | energiapy.components.scope.spatial.linkage.Linkage, dict[energiapy.components.scope.temporal.scale.Scale, float | int | pandas.core.frame.DataFrame | tuple[float | int | pandas.core.frame.DataFrame, float | int | pandas.core.frame.DataFrame]]] | dict[energiapy.components.scope.spatial.location.Location | energiapy.components.scope.spatial.linkage.Linkage, dict[energiapy.components.scope.temporal.mode.X, float | int | pandas.core.frame.DataFrame | tuple[float | int | pandas.core.frame.DataFrame, float | int | pandas.core.frame.DataFrame]]] | dict[energiapy.components.scope.temporal.scale.Scale, dict[energiapy.components.scope.temporal.mode.X, float | int | pandas.core.frame.DataFrame | tuple[float | int | pandas.core.frame.DataFrame, float | int | pandas.core.frame.DataFrame]]] | dict[energiapy.components.scope.spatial.location.Location | energiapy.components.scope.spatial.linkage.Linkage, dict[energiapy.components.scope.temporal.scale.Scale, dict[energiapy.components.scope.temporal.mode.X, float | int | pandas.core.frame.DataFrame | tuple[float | int | pandas.core.frame.DataFrame, float | int | pandas.core.frame.DataFrame]]]] = None, setup_emission: float | int | pandas.core.frame.DataFrame | tuple[float | int | pandas.core.frame.DataFrame, float | int | pandas.core.frame.DataFrame] | dict[energiapy.components.scope.spatial.location.Location | energiapy.components.scope.spatial.linkage.Linkage, float | int | pandas.core.frame.DataFrame | tuple[float | int | pandas.core.frame.DataFrame, float | int | pandas.core.frame.DataFrame]] | dict[energiapy.components.scope.temporal.scale.Scale, float | int | pandas.core.frame.DataFrame | tuple[float | int | pandas.core.frame.DataFrame, float | int | pandas.core.frame.DataFrame]] | dict[energiapy.components.scope.temporal.mode.X, float | int | pandas.core.frame.DataFrame | tuple[float | int | pandas.core.frame.DataFrame, float | int | pandas.core.frame.DataFrame]] | dict[energiapy.components.scope.spatial.location.Location | energiapy.components.scope.spatial.linkage.Linkage, dict[energiapy.components.scope.temporal.scale.Scale, float | int | pandas.core.frame.DataFrame | tuple[float | int | pandas.core.frame.DataFrame, float | int | pandas.core.frame.DataFrame]]] | dict[energiapy.components.scope.spatial.location.Location | energiapy.components.scope.spatial.linkage.Linkage, dict[energiapy.components.scope.temporal.mode.X, float | int | pandas.core.frame.DataFrame | tuple[float | int | pandas.core.frame.DataFrame, float | int | pandas.core.frame.DataFrame]]] | dict[energiapy.components.scope.temporal.scale.Scale, dict[energiapy.components.scope.temporal.mode.X, float | int | pandas.core.frame.DataFrame | tuple[float | int | pandas.core.frame.DataFrame, float | int | pandas.core.frame.DataFrame]]] | dict[energiapy.components.scope.spatial.location.Location | energiapy.components.scope.spatial.linkage.Linkage, dict[energiapy.components.scope.temporal.scale.Scale, dict[energiapy.components.scope.temporal.mode.X, float | int | pandas.core.frame.DataFrame | tuple[float | int | pandas.core.frame.DataFrame, float | int | pandas.core.frame.DataFrame]]]] = None, capex: set[float | int | pandas.core.frame.DataFrame | tuple[float | int | pandas.core.frame.DataFrame, float | int | pandas.core.frame.DataFrame] | energiapy.components.scope.temporal.incidental.I] | dict[energiapy.components.scope.spatial.location.Location | energiapy.components.scope.spatial.linkage.Linkage, set[float | int | pandas.core.frame.DataFrame | tuple[float | int | pandas.core.frame.DataFrame, float | int | pandas.core.frame.DataFrame] | energiapy.components.scope.temporal.incidental.I]] | dict[energiapy.components.scope.temporal.scale.Scale, set[float | int | pandas.core.frame.DataFrame | tuple[float | int | pandas.core.frame.DataFrame, float | int | pandas.core.frame.DataFrame] | energiapy.components.scope.temporal.incidental.I]] | dict[energiapy.components.scope.temporal.mode.X, set[float | int | pandas.core.frame.DataFrame | tuple[float | int | pandas.core.frame.DataFrame, float | int | pandas.core.frame.DataFrame] | energiapy.components.scope.temporal.incidental.I]] | dict[energiapy.components.scope.spatial.location.Location | energiapy.components.scope.spatial.linkage.Linkage, dict[energiapy.components.scope.temporal.scale.Scale, set[float | int | pandas.core.frame.DataFrame | tuple[float | int | pandas.core.frame.DataFrame, float | int | pandas.core.frame.DataFrame] | energiapy.components.scope.temporal.incidental.I]]] | dict[energiapy.components.scope.spatial.location.Location | energiapy.components.scope.spatial.linkage.Linkage, dict[energiapy.components.scope.temporal.mode.X, set[float | int | pandas.core.frame.DataFrame | tuple[float | int | pandas.core.frame.DataFrame, float | int | pandas.core.frame.DataFrame] | energiapy.components.scope.temporal.incidental.I]]] | dict[energiapy.components.scope.temporal.scale.Scale, dict[energiapy.components.scope.temporal.mode.X, set[float | int | pandas.core.frame.DataFrame | tuple[float | int | pandas.core.frame.DataFrame, float | int | pandas.core.frame.DataFrame] | energiapy.components.scope.temporal.incidental.I]]] | dict[energiapy.components.scope.spatial.location.Location | energiapy.components.scope.spatial.linkage.Linkage, dict[energiapy.components.scope.temporal.scale.Scale, dict[energiapy.components.scope.temporal.mode.X, set[float | int | pandas.core.frame.DataFrame | tuple[float | int | pandas.core.frame.DataFrame, float | int | pandas.core.frame.DataFrame] | energiapy.components.scope.temporal.incidental.I]]]] = None, opex: set[float | int | pandas.core.frame.DataFrame | tuple[float | int | pandas.core.frame.DataFrame, float | int | pandas.core.frame.DataFrame] | energiapy.components.scope.temporal.incidental.I] | dict[energiapy.components.scope.spatial.location.Location | energiapy.components.scope.spatial.linkage.Linkage, set[float | int | pandas.core.frame.DataFrame | tuple[float | int | pandas.core.frame.DataFrame, float | int | pandas.core.frame.DataFrame] | energiapy.components.scope.temporal.incidental.I]] | dict[energiapy.components.scope.temporal.scale.Scale, set[float | int | pandas.core.frame.DataFrame | tuple[float | int | pandas.core.frame.DataFrame, float | int | pandas.core.frame.DataFrame] | energiapy.components.scope.temporal.incidental.I]] | dict[energiapy.components.scope.temporal.mode.X, set[float | int | pandas.core.frame.DataFrame | tuple[float | int | pandas.core.frame.DataFrame, float | int | pandas.core.frame.DataFrame] | energiapy.components.scope.temporal.incidental.I]] | dict[energiapy.components.scope.spatial.location.Location | energiapy.components.scope.spatial.linkage.Linkage, dict[energiapy.components.scope.temporal.scale.Scale, set[float | int | pandas.core.frame.DataFrame | tuple[float | int | pandas.core.frame.DataFrame, float | int | pandas.core.frame.DataFrame] | energiapy.components.scope.temporal.incidental.I]]] | dict[energiapy.components.scope.spatial.location.Location | energiapy.components.scope.spatial.linkage.Linkage, dict[energiapy.components.scope.temporal.mode.X, set[float | int | pandas.core.frame.DataFrame | tuple[float | int | pandas.core.frame.DataFrame, float | int | pandas.core.frame.DataFrame] | energiapy.components.scope.temporal.incidental.I]]] | dict[energiapy.components.scope.temporal.scale.Scale, dict[energiapy.components.scope.temporal.mode.X, set[float | int | pandas.core.frame.DataFrame | tuple[float | int | pandas.core.frame.DataFrame, float | int | pandas.core.frame.DataFrame] | energiapy.components.scope.temporal.incidental.I]]] | dict[energiapy.components.scope.spatial.location.Location | energiapy.components.scope.spatial.linkage.Linkage, dict[energiapy.components.scope.temporal.scale.Scale, dict[energiapy.components.scope.temporal.mode.X, set[float | int | pandas.core.frame.DataFrame | tuple[float | int | pandas.core.frame.DataFrame, float | int | pandas.core.frame.DataFrame] | energiapy.components.scope.temporal.incidental.I]]]] = None, produce: Union[float, int, pandas.core.frame.DataFrame, tuple[float | int | pandas.core.frame.DataFrame, float | int | pandas.core.frame.DataFrame], Literal[True], list[Union[float, int, pandas.core.frame.DataFrame, tuple[float | int | pandas.core.frame.DataFrame, float | int | pandas.core.frame.DataFrame], Literal[True]]], dict[energiapy.components.scope.spatial.location.Location | energiapy.components.scope.spatial.linkage.Linkage | energiapy.components.scope.spatial.network.Network, Union[float, int, pandas.core.frame.DataFrame, tuple[float | int | pandas.core.frame.DataFrame, float | int | pandas.core.frame.DataFrame], Literal[True], list[Union[float, int, pandas.core.frame.DataFrame, tuple[float | int | pandas.core.frame.DataFrame, float | int | pandas.core.frame.DataFrame], Literal[True]]]]], dict[energiapy.components.scope.temporal.scale.Scale, Union[float, int, pandas.core.frame.DataFrame, tuple[float | int | pandas.core.frame.DataFrame, float | int | pandas.core.frame.DataFrame], Literal[True], list[Union[float, int, pandas.core.frame.DataFrame, tuple[float | int | pandas.core.frame.DataFrame, float | int | pandas.core.frame.DataFrame], Literal[True]]]]], dict[energiapy.components.scope.spatial.location.Location | energiapy.components.scope.spatial.linkage.Linkage | energiapy.components.scope.spatial.network.Network, dict[energiapy.components.scope.temporal.scale.Scale, Union[float, int, pandas.core.frame.DataFrame, tuple[float | int | pandas.core.frame.DataFrame, float | int | pandas.core.frame.DataFrame], Literal[True], list[Union[float, int, pandas.core.frame.DataFrame, tuple[float | int | pandas.core.frame.DataFrame, float | int | pandas.core.frame.DataFrame], Literal[True]]]]]]] = None, capacity: Union[float, int, pandas.core.frame.DataFrame, tuple[float | int | pandas.core.frame.DataFrame, float | int | pandas.core.frame.DataFrame], Literal[True], list[Union[float, int, pandas.core.frame.DataFrame, tuple[float | int | pandas.core.frame.DataFrame, float | int | pandas.core.frame.DataFrame], Literal[True]]], dict[energiapy.components.scope.spatial.location.Location | energiapy.components.scope.spatial.linkage.Linkage | energiapy.components.scope.spatial.network.Network, Union[float, int, pandas.core.frame.DataFrame, tuple[float | int | pandas.core.frame.DataFrame, float | int | pandas.core.frame.DataFrame], Literal[True], list[Union[float, int, pandas.core.frame.DataFrame, tuple[float | int | pandas.core.frame.DataFrame, float | int | pandas.core.frame.DataFrame], Literal[True]]]]], dict[energiapy.components.scope.temporal.scale.Scale, Union[float, int, pandas.core.frame.DataFrame, tuple[float | int | pandas.core.frame.DataFrame, float | int | pandas.core.frame.DataFrame], Literal[True], list[Union[float, int, pandas.core.frame.DataFrame, tuple[float | int | pandas.core.frame.DataFrame, float | int | pandas.core.frame.DataFrame], Literal[True]]]]], dict[energiapy.components.scope.spatial.location.Location | energiapy.components.scope.spatial.linkage.Linkage | energiapy.components.scope.spatial.network.Network, dict[energiapy.components.scope.temporal.scale.Scale, Union[float, int, pandas.core.frame.DataFrame, tuple[float | int | pandas.core.frame.DataFrame, float | int | pandas.core.frame.DataFrame], Literal[True], list[Union[float, int, pandas.core.frame.DataFrame, tuple[float | int | pandas.core.frame.DataFrame, float | int | pandas.core.frame.DataFrame], Literal[True]]]]]]] = None, conversion: dict[energiapy.components.commodity.resource.Resource, int | float] | dict[energiapy.components.scope.temporal.mode.X, dict[energiapy.components.commodity.resource.Resource, int | float]] = None) -> None\n",
      " |\n",
      " |  Process converts one Resource to another Resource\n",
      " |\n",
      " |  Attributes:\n",
      " |      capacity (IsBnd): bound on the capacity of the Operation\n",
      " |      produce (IsBnd): bounded by capacity of Process. Reported by Operate as well\n",
      " |      land_use (IsExt): land use per Capacitate\n",
      " |      material_use (IsExt): material use per Capacitate\n",
      " |      capex (IsInc): capital expense per Capacitate\n",
      " |      opex (IsInc): operational expense based on Operation\n",
      " |      land_use_emission (IsExt): emission due to land use\n",
      " |      material_use_emission (IsExt): emission due to material use\n",
      " |      buy (IsBnd): bound on amount of Resource bought by Process\n",
      " |      sell (IsBnd): bound on amount of Resource sold by Process\n",
      " |      buy_price (IsInc): price to buy per unit basis\n",
      " |      sell_price (IsInc): price at which to sell per unit basis\n",
      " |      credit (IsExt): credit received per unit basis sold\n",
      " |      penalty (IsExt): penalty paid for not meeting lower bound of sell\n",
      " |      conversion (IsCnv): conversion of Resource to other Resources\n",
      " |      locations (list[Location]): locations where the Process is located\n",
      " |      basis (str): basis of the component\n",
      " |      citation (dict): citation of the component\n",
      " |      block (str): block of the component\n",
      " |      introduce (str): index in scale when the component is introduced\n",
      " |      retire (str): index in scale when the component is retired\n",
      " |      label (str): label of the component\n",
      " |\n",
      " |  Method resolution order:\n",
      " |      Process\n",
      " |      energiapy.components._attrs._balances._ProBalance\n",
      " |      energiapy.components._attrs._bounds._OpnBounds\n",
      " |      energiapy.components._attrs._bounds._ProBounds\n",
      " |      energiapy.components._attrs._exacts._ProExacts\n",
      " |      energiapy.components._attrs._exacts._OpnExacts\n",
      " |      energiapy.components._attrs._exacts._OpnTscExacts\n",
      " |      energiapy.components._attrs._exacts._OpnEmnExacts\n",
      " |      energiapy.components._attrs._exacts._OpnUsdExacts\n",
      " |      energiapy.components._attrs._exacts._OpnUseExacts\n",
      " |      energiapy.components._attrs._exacts._OpnUseTscExacts\n",
      " |      energiapy.components._attrs._exacts._OpnUseEmnExacts\n",
      " |      energiapy.components._attrs._exacts._OpnRteExacts\n",
      " |      energiapy.components._attrs._bounds._ResLocBounds\n",
      " |      energiapy.components._attrs._exacts._ResExacts\n",
      " |      energiapy.components._attrs._exacts._ResTscExacts\n",
      " |      energiapy.components._attrs._exacts._ResEmnExacts\n",
      " |      energiapy.components._attrs._spatials.LocCollection\n",
      " |      energiapy.components.operation._operation._Operation\n",
      " |      energiapy.components._base._defined._Defined\n",
      " |      energiapy.components._base._component._Component\n",
      " |      energiapy.core._handy._dunders._Dunders\n",
      " |      energiapy.core._handy._dunders._Reprs\n",
      " |      energiapy.core._handy._dunders._Magics\n",
      " |      energiapy.components._base._consistent._Consistent\n",
      " |      energiapy.core._handy._collections._Vlus\n",
      " |      energiapy.core._handy._collections._Dt\n",
      " |      energiapy.core._handy._collections._Elms\n",
      " |      energiapy.core._handy._collections._Prog\n",
      " |      energiapy.core._handy._printers._Print\n",
      " |      abc.ABC\n",
      " |      builtins.object\n",
      " |\n",
      " |  Methods defined here:\n",
      " |\n",
      " |  __eq__(self, other) from energiapy.core._handy._dunders._Reprs\n",
      " |      Return self==value.\n",
      " |\n",
      " |  __hash__(self) from energiapy.core._handy._dunders._Reprs\n",
      " |      Return hash(self).\n",
      " |\n",
      " |  __init__(self, basis: str = None, citation: dict = None, block: str = None, introduce: str = None, retire: str = None, label: str = None, locations: list[energiapy.components.scope.spatial.location.Location] = <factory>, buy_emission: float | int | pandas.core.frame.DataFrame | tuple[float | int | pandas.core.frame.DataFrame, float | int | pandas.core.frame.DataFrame] | dict[energiapy.components.scope.spatial.location.Location | energiapy.components.scope.spatial.linkage.Linkage, float | int | pandas.core.frame.DataFrame | tuple[float | int | pandas.core.frame.DataFrame, float | int | pandas.core.frame.DataFrame]] | dict[energiapy.components.scope.temporal.scale.Scale, float | int | pandas.core.frame.DataFrame | tuple[float | int | pandas.core.frame.DataFrame, float | int | pandas.core.frame.DataFrame]] | dict[energiapy.components.scope.temporal.mode.X, float | int | pandas.core.frame.DataFrame | tuple[float | int | pandas.core.frame.DataFrame, float | int | pandas.core.frame.DataFrame]] | dict[energiapy.components.scope.spatial.location.Location | energiapy.components.scope.spatial.linkage.Linkage, dict[energiapy.components.scope.temporal.scale.Scale, float | int | pandas.core.frame.DataFrame | tuple[float | int | pandas.core.frame.DataFrame, float | int | pandas.core.frame.DataFrame]]] | dict[energiapy.components.scope.spatial.location.Location | energiapy.components.scope.spatial.linkage.Linkage, dict[energiapy.components.scope.temporal.mode.X, float | int | pandas.core.frame.DataFrame | tuple[float | int | pandas.core.frame.DataFrame, float | int | pandas.core.frame.DataFrame]]] | dict[energiapy.components.scope.temporal.scale.Scale, dict[energiapy.components.scope.temporal.mode.X, float | int | pandas.core.frame.DataFrame | tuple[float | int | pandas.core.frame.DataFrame, float | int | pandas.core.frame.DataFrame]]] | dict[energiapy.components.scope.spatial.location.Location | energiapy.components.scope.spatial.linkage.Linkage, dict[energiapy.components.scope.temporal.scale.Scale, dict[energiapy.components.scope.temporal.mode.X, float | int | pandas.core.frame.DataFrame | tuple[float | int | pandas.core.frame.DataFrame, float | int | pandas.core.frame.DataFrame]]]] = None, sell_emission: float | int | pandas.core.frame.DataFrame | tuple[float | int | pandas.core.frame.DataFrame, float | int | pandas.core.frame.DataFrame] | dict[energiapy.components.scope.spatial.location.Location | energiapy.components.scope.spatial.linkage.Linkage, float | int | pandas.core.frame.DataFrame | tuple[float | int | pandas.core.frame.DataFrame, float | int | pandas.core.frame.DataFrame]] | dict[energiapy.components.scope.temporal.scale.Scale, float | int | pandas.core.frame.DataFrame | tuple[float | int | pandas.core.frame.DataFrame, float | int | pandas.core.frame.DataFrame]] | dict[energiapy.components.scope.temporal.mode.X, float | int | pandas.core.frame.DataFrame | tuple[float | int | pandas.core.frame.DataFrame, float | int | pandas.core.frame.DataFrame]] | dict[energiapy.components.scope.spatial.location.Location | energiapy.components.scope.spatial.linkage.Linkage, dict[energiapy.components.scope.temporal.scale.Scale, float | int | pandas.core.frame.DataFrame | tuple[float | int | pandas.core.frame.DataFrame, float | int | pandas.core.frame.DataFrame]]] | dict[energiapy.components.scope.spatial.location.Location | energiapy.components.scope.spatial.linkage.Linkage, dict[energiapy.components.scope.temporal.mode.X, float | int | pandas.core.frame.DataFrame | tuple[float | int | pandas.core.frame.DataFrame, float | int | pandas.core.frame.DataFrame]]] | dict[energiapy.components.scope.temporal.scale.Scale, dict[energiapy.components.scope.temporal.mode.X, float | int | pandas.core.frame.DataFrame | tuple[float | int | pandas.core.frame.DataFrame, float | int | pandas.core.frame.DataFrame]]] | dict[energiapy.components.scope.spatial.location.Location | energiapy.components.scope.spatial.linkage.Linkage, dict[energiapy.components.scope.temporal.scale.Scale, dict[energiapy.components.scope.temporal.mode.X, float | int | pandas.core.frame.DataFrame | tuple[float | int | pandas.core.frame.DataFrame, float | int | pandas.core.frame.DataFrame]]]] = None, loss_emission: float | int | pandas.core.frame.DataFrame | tuple[float | int | pandas.core.frame.DataFrame, float | int | pandas.core.frame.DataFrame] | dict[energiapy.components.scope.spatial.location.Location | energiapy.components.scope.spatial.linkage.Linkage, float | int | pandas.core.frame.DataFrame | tuple[float | int | pandas.core.frame.DataFrame, float | int | pandas.core.frame.DataFrame]] | dict[energiapy.components.scope.temporal.scale.Scale, float | int | pandas.core.frame.DataFrame | tuple[float | int | pandas.core.frame.DataFrame, float | int | pandas.core.frame.DataFrame]] | dict[energiapy.components.scope.temporal.mode.X, float | int | pandas.core.frame.DataFrame | tuple[float | int | pandas.core.frame.DataFrame, float | int | pandas.core.frame.DataFrame]] | dict[energiapy.components.scope.spatial.location.Location | energiapy.components.scope.spatial.linkage.Linkage, dict[energiapy.components.scope.temporal.scale.Scale, float | int | pandas.core.frame.DataFrame | tuple[float | int | pandas.core.frame.DataFrame, float | int | pandas.core.frame.DataFrame]]] | dict[energiapy.components.scope.spatial.location.Location | energiapy.components.scope.spatial.linkage.Linkage, dict[energiapy.components.scope.temporal.mode.X, float | int | pandas.core.frame.DataFrame | tuple[float | int | pandas.core.frame.DataFrame, float | int | pandas.core.frame.DataFrame]]] | dict[energiapy.components.scope.temporal.scale.Scale, dict[energiapy.components.scope.temporal.mode.X, float | int | pandas.core.frame.DataFrame | tuple[float | int | pandas.core.frame.DataFrame, float | int | pandas.core.frame.DataFrame]]] | dict[energiapy.components.scope.spatial.location.Location | energiapy.components.scope.spatial.linkage.Linkage, dict[energiapy.components.scope.temporal.scale.Scale, dict[energiapy.components.scope.temporal.mode.X, float | int | pandas.core.frame.DataFrame | tuple[float | int | pandas.core.frame.DataFrame, float | int | pandas.core.frame.DataFrame]]]] = None, buy_price: set[float | int | pandas.core.frame.DataFrame | tuple[float | int | pandas.core.frame.DataFrame, float | int | pandas.core.frame.DataFrame] | energiapy.components.scope.temporal.incidental.I] | dict[energiapy.components.scope.spatial.location.Location | energiapy.components.scope.spatial.linkage.Linkage, set[float | int | pandas.core.frame.DataFrame | tuple[float | int | pandas.core.frame.DataFrame, float | int | pandas.core.frame.DataFrame] | energiapy.components.scope.temporal.incidental.I]] | dict[energiapy.components.scope.temporal.scale.Scale, set[float | int | pandas.core.frame.DataFrame | tuple[float | int | pandas.core.frame.DataFrame, float | int | pandas.core.frame.DataFrame] | energiapy.components.scope.temporal.incidental.I]] | dict[energiapy.components.scope.temporal.mode.X, set[float | int | pandas.core.frame.DataFrame | tuple[float | int | pandas.core.frame.DataFrame, float | int | pandas.core.frame.DataFrame] | energiapy.components.scope.temporal.incidental.I]] | dict[energiapy.components.scope.spatial.location.Location | energiapy.components.scope.spatial.linkage.Linkage, dict[energiapy.components.scope.temporal.scale.Scale, set[float | int | pandas.core.frame.DataFrame | tuple[float | int | pandas.core.frame.DataFrame, float | int | pandas.core.frame.DataFrame] | energiapy.components.scope.temporal.incidental.I]]] | dict[energiapy.components.scope.spatial.location.Location | energiapy.components.scope.spatial.linkage.Linkage, dict[energiapy.components.scope.temporal.mode.X, set[float | int | pandas.core.frame.DataFrame | tuple[float | int | pandas.core.frame.DataFrame, float | int | pandas.core.frame.DataFrame] | energiapy.components.scope.temporal.incidental.I]]] | dict[energiapy.components.scope.temporal.scale.Scale, dict[energiapy.components.scope.temporal.mode.X, set[float | int | pandas.core.frame.DataFrame | tuple[float | int | pandas.core.frame.DataFrame, float | int | pandas.core.frame.DataFrame] | energiapy.components.scope.temporal.incidental.I]]] | dict[energiapy.components.scope.spatial.location.Location | energiapy.components.scope.spatial.linkage.Linkage, dict[energiapy.components.scope.temporal.scale.Scale, dict[energiapy.components.scope.temporal.mode.X, set[float | int | pandas.core.frame.DataFrame | tuple[float | int | pandas.core.frame.DataFrame, float | int | pandas.core.frame.DataFrame] | energiapy.components.scope.temporal.incidental.I]]]] = None, sell_price: set[float | int | pandas.core.frame.DataFrame | tuple[float | int | pandas.core.frame.DataFrame, float | int | pandas.core.frame.DataFrame] | energiapy.components.scope.temporal.incidental.I] | dict[energiapy.components.scope.spatial.location.Location | energiapy.components.scope.spatial.linkage.Linkage, set[float | int | pandas.core.frame.DataFrame | tuple[float | int | pandas.core.frame.DataFrame, float | int | pandas.core.frame.DataFrame] | energiapy.components.scope.temporal.incidental.I]] | dict[energiapy.components.scope.temporal.scale.Scale, set[float | int | pandas.core.frame.DataFrame | tuple[float | int | pandas.core.frame.DataFrame, float | int | pandas.core.frame.DataFrame] | energiapy.components.scope.temporal.incidental.I]] | dict[energiapy.components.scope.temporal.mode.X, set[float | int | pandas.core.frame.DataFrame | tuple[float | int | pandas.core.frame.DataFrame, float | int | pandas.core.frame.DataFrame] | energiapy.components.scope.temporal.incidental.I]] | dict[energiapy.components.scope.spatial.location.Location | energiapy.components.scope.spatial.linkage.Linkage, dict[energiapy.components.scope.temporal.scale.Scale, set[float | int | pandas.core.frame.DataFrame | tuple[float | int | pandas.core.frame.DataFrame, float | int | pandas.core.frame.DataFrame] | energiapy.components.scope.temporal.incidental.I]]] | dict[energiapy.components.scope.spatial.location.Location | energiapy.components.scope.spatial.linkage.Linkage, dict[energiapy.components.scope.temporal.mode.X, set[float | int | pandas.core.frame.DataFrame | tuple[float | int | pandas.core.frame.DataFrame, float | int | pandas.core.frame.DataFrame] | energiapy.components.scope.temporal.incidental.I]]] | dict[energiapy.components.scope.temporal.scale.Scale, dict[energiapy.components.scope.temporal.mode.X, set[float | int | pandas.core.frame.DataFrame | tuple[float | int | pandas.core.frame.DataFrame, float | int | pandas.core.frame.DataFrame] | energiapy.components.scope.temporal.incidental.I]]] | dict[energiapy.components.scope.spatial.location.Location | energiapy.components.scope.spatial.linkage.Linkage, dict[energiapy.components.scope.temporal.scale.Scale, dict[energiapy.components.scope.temporal.mode.X, set[float | int | pandas.core.frame.DataFrame | tuple[float | int | pandas.core.frame.DataFrame, float | int | pandas.core.frame.DataFrame] | energiapy.components.scope.temporal.incidental.I]]]] = None, credit: float | int | pandas.core.frame.DataFrame | tuple[float | int | pandas.core.frame.DataFrame, float | int | pandas.core.frame.DataFrame] | dict[energiapy.components.scope.spatial.location.Location | energiapy.components.scope.spatial.linkage.Linkage, float | int | pandas.core.frame.DataFrame | tuple[float | int | pandas.core.frame.DataFrame, float | int | pandas.core.frame.DataFrame]] | dict[energiapy.components.scope.temporal.scale.Scale, float | int | pandas.core.frame.DataFrame | tuple[float | int | pandas.core.frame.DataFrame, float | int | pandas.core.frame.DataFrame]] | dict[energiapy.components.scope.temporal.mode.X, float | int | pandas.core.frame.DataFrame | tuple[float | int | pandas.core.frame.DataFrame, float | int | pandas.core.frame.DataFrame]] | dict[energiapy.components.scope.spatial.location.Location | energiapy.components.scope.spatial.linkage.Linkage, dict[energiapy.components.scope.temporal.scale.Scale, float | int | pandas.core.frame.DataFrame | tuple[float | int | pandas.core.frame.DataFrame, float | int | pandas.core.frame.DataFrame]]] | dict[energiapy.components.scope.spatial.location.Location | energiapy.components.scope.spatial.linkage.Linkage, dict[energiapy.components.scope.temporal.mode.X, float | int | pandas.core.frame.DataFrame | tuple[float | int | pandas.core.frame.DataFrame, float | int | pandas.core.frame.DataFrame]]] | dict[energiapy.components.scope.temporal.scale.Scale, dict[energiapy.components.scope.temporal.mode.X, float | int | pandas.core.frame.DataFrame | tuple[float | int | pandas.core.frame.DataFrame, float | int | pandas.core.frame.DataFrame]]] | dict[energiapy.components.scope.spatial.location.Location | energiapy.components.scope.spatial.linkage.Linkage, dict[energiapy.components.scope.temporal.scale.Scale, dict[energiapy.components.scope.temporal.mode.X, float | int | pandas.core.frame.DataFrame | tuple[float | int | pandas.core.frame.DataFrame, float | int | pandas.core.frame.DataFrame]]]] = None, penalty: float | int | pandas.core.frame.DataFrame | tuple[float | int | pandas.core.frame.DataFrame, float | int | pandas.core.frame.DataFrame] | dict[energiapy.components.scope.spatial.location.Location | energiapy.components.scope.spatial.linkage.Linkage, float | int | pandas.core.frame.DataFrame | tuple[float | int | pandas.core.frame.DataFrame, float | int | pandas.core.frame.DataFrame]] | dict[energiapy.components.scope.temporal.scale.Scale, float | int | pandas.core.frame.DataFrame | tuple[float | int | pandas.core.frame.DataFrame, float | int | pandas.core.frame.DataFrame]] | dict[energiapy.components.scope.temporal.mode.X, float | int | pandas.core.frame.DataFrame | tuple[float | int | pandas.core.frame.DataFrame, float | int | pandas.core.frame.DataFrame]] | dict[energiapy.components.scope.spatial.location.Location | energiapy.components.scope.spatial.linkage.Linkage, dict[energiapy.components.scope.temporal.scale.Scale, float | int | pandas.core.frame.DataFrame | tuple[float | int | pandas.core.frame.DataFrame, float | int | pandas.core.frame.DataFrame]]] | dict[energiapy.components.scope.spatial.location.Location | energiapy.components.scope.spatial.linkage.Linkage, dict[energiapy.components.scope.temporal.mode.X, float | int | pandas.core.frame.DataFrame | tuple[float | int | pandas.core.frame.DataFrame, float | int | pandas.core.frame.DataFrame]]] | dict[energiapy.components.scope.temporal.scale.Scale, dict[energiapy.components.scope.temporal.mode.X, float | int | pandas.core.frame.DataFrame | tuple[float | int | pandas.core.frame.DataFrame, float | int | pandas.core.frame.DataFrame]]] | dict[energiapy.components.scope.spatial.location.Location | energiapy.components.scope.spatial.linkage.Linkage, dict[energiapy.components.scope.temporal.scale.Scale, dict[energiapy.components.scope.temporal.mode.X, float | int | pandas.core.frame.DataFrame | tuple[float | int | pandas.core.frame.DataFrame, float | int | pandas.core.frame.DataFrame]]]] = None, buy: Union[float, int, pandas.core.frame.DataFrame, tuple[float | int | pandas.core.frame.DataFrame, float | int | pandas.core.frame.DataFrame], Literal[True], list[Union[float, int, pandas.core.frame.DataFrame, tuple[float | int | pandas.core.frame.DataFrame, float | int | pandas.core.frame.DataFrame], Literal[True]]], dict[energiapy.components.scope.spatial.location.Location | energiapy.components.scope.spatial.linkage.Linkage | energiapy.components.scope.spatial.network.Network, Union[float, int, pandas.core.frame.DataFrame, tuple[float | int | pandas.core.frame.DataFrame, float | int | pandas.core.frame.DataFrame], Literal[True], list[Union[float, int, pandas.core.frame.DataFrame, tuple[float | int | pandas.core.frame.DataFrame, float | int | pandas.core.frame.DataFrame], Literal[True]]]]], dict[energiapy.components.scope.temporal.scale.Scale, Union[float, int, pandas.core.frame.DataFrame, tuple[float | int | pandas.core.frame.DataFrame, float | int | pandas.core.frame.DataFrame], Literal[True], list[Union[float, int, pandas.core.frame.DataFrame, tuple[float | int | pandas.core.frame.DataFrame, float | int | pandas.core.frame.DataFrame], Literal[True]]]]], dict[energiapy.components.scope.spatial.location.Location | energiapy.components.scope.spatial.linkage.Linkage | energiapy.components.scope.spatial.network.Network, dict[energiapy.components.scope.temporal.scale.Scale, Union[float, int, pandas.core.frame.DataFrame, tuple[float | int | pandas.core.frame.DataFrame, float | int | pandas.core.frame.DataFrame], Literal[True], list[Union[float, int, pandas.core.frame.DataFrame, tuple[float | int | pandas.core.frame.DataFrame, float | int | pandas.core.frame.DataFrame], Literal[True]]]]]]] = None, sell: Union[float, int, pandas.core.frame.DataFrame, tuple[float | int | pandas.core.frame.DataFrame, float | int | pandas.core.frame.DataFrame], Literal[True], list[Union[float, int, pandas.core.frame.DataFrame, tuple[float | int | pandas.core.frame.DataFrame, float | int | pandas.core.frame.DataFrame], Literal[True]]], dict[energiapy.components.scope.spatial.location.Location | energiapy.components.scope.spatial.linkage.Linkage | energiapy.components.scope.spatial.network.Network, Union[float, int, pandas.core.frame.DataFrame, tuple[float | int | pandas.core.frame.DataFrame, float | int | pandas.core.frame.DataFrame], Literal[True], list[Union[float, int, pandas.core.frame.DataFrame, tuple[float | int | pandas.core.frame.DataFrame, float | int | pandas.core.frame.DataFrame], Literal[True]]]]], dict[energiapy.components.scope.temporal.scale.Scale, Union[float, int, pandas.core.frame.DataFrame, tuple[float | int | pandas.core.frame.DataFrame, float | int | pandas.core.frame.DataFrame], Literal[True], list[Union[float, int, pandas.core.frame.DataFrame, tuple[float | int | pandas.core.frame.DataFrame, float | int | pandas.core.frame.DataFrame], Literal[True]]]]], dict[energiapy.components.scope.spatial.location.Location | energiapy.components.scope.spatial.linkage.Linkage | energiapy.components.scope.spatial.network.Network, dict[energiapy.components.scope.temporal.scale.Scale, Union[float, int, pandas.core.frame.DataFrame, tuple[float | int | pandas.core.frame.DataFrame, float | int | pandas.core.frame.DataFrame], Literal[True], list[Union[float, int, pandas.core.frame.DataFrame, tuple[float | int | pandas.core.frame.DataFrame, float | int | pandas.core.frame.DataFrame], Literal[True]]]]]]] = None, setup_time: float | int | pandas.core.frame.DataFrame | tuple[float | int | pandas.core.frame.DataFrame, float | int | pandas.core.frame.DataFrame] | dict[energiapy.components.scope.spatial.location.Location | energiapy.components.scope.spatial.linkage.Linkage, float | int | pandas.core.frame.DataFrame | tuple[float | int | pandas.core.frame.DataFrame, float | int | pandas.core.frame.DataFrame]] | dict[energiapy.components.scope.temporal.scale.Scale, float | int | pandas.core.frame.DataFrame | tuple[float | int | pandas.core.frame.DataFrame, float | int | pandas.core.frame.DataFrame]] | dict[energiapy.components.scope.temporal.mode.X, float | int | pandas.core.frame.DataFrame | tuple[float | int | pandas.core.frame.DataFrame, float | int | pandas.core.frame.DataFrame]] | dict[energiapy.components.scope.spatial.location.Location | energiapy.components.scope.spatial.linkage.Linkage, dict[energiapy.components.scope.temporal.scale.Scale, float | int | pandas.core.frame.DataFrame | tuple[float | int | pandas.core.frame.DataFrame, float | int | pandas.core.frame.DataFrame]]] | dict[energiapy.components.scope.spatial.location.Location | energiapy.components.scope.spatial.linkage.Linkage, dict[energiapy.components.scope.temporal.mode.X, float | int | pandas.core.frame.DataFrame | tuple[float | int | pandas.core.frame.DataFrame, float | int | pandas.core.frame.DataFrame]]] | dict[energiapy.components.scope.temporal.scale.Scale, dict[energiapy.components.scope.temporal.mode.X, float | int | pandas.core.frame.DataFrame | tuple[float | int | pandas.core.frame.DataFrame, float | int | pandas.core.frame.DataFrame]]] | dict[energiapy.components.scope.spatial.location.Location | energiapy.components.scope.spatial.linkage.Linkage, dict[energiapy.components.scope.temporal.scale.Scale, dict[energiapy.components.scope.temporal.mode.X, float | int | pandas.core.frame.DataFrame | tuple[float | int | pandas.core.frame.DataFrame, float | int | pandas.core.frame.DataFrame]]]] = None, land_use_emission: float | int | pandas.core.frame.DataFrame | tuple[float | int | pandas.core.frame.DataFrame, float | int | pandas.core.frame.DataFrame] | dict[energiapy.components.scope.spatial.location.Location | energiapy.components.scope.spatial.linkage.Linkage, float | int | pandas.core.frame.DataFrame | tuple[float | int | pandas.core.frame.DataFrame, float | int | pandas.core.frame.DataFrame]] | dict[energiapy.components.scope.temporal.scale.Scale, float | int | pandas.core.frame.DataFrame | tuple[float | int | pandas.core.frame.DataFrame, float | int | pandas.core.frame.DataFrame]] | dict[energiapy.components.scope.temporal.mode.X, float | int | pandas.core.frame.DataFrame | tuple[float | int | pandas.core.frame.DataFrame, float | int | pandas.core.frame.DataFrame]] | dict[energiapy.components.scope.spatial.location.Location | energiapy.components.scope.spatial.linkage.Linkage, dict[energiapy.components.scope.temporal.scale.Scale, float | int | pandas.core.frame.DataFrame | tuple[float | int | pandas.core.frame.DataFrame, float | int | pandas.core.frame.DataFrame]]] | dict[energiapy.components.scope.spatial.location.Location | energiapy.components.scope.spatial.linkage.Linkage, dict[energiapy.components.scope.temporal.mode.X, float | int | pandas.core.frame.DataFrame | tuple[float | int | pandas.core.frame.DataFrame, float | int | pandas.core.frame.DataFrame]]] | dict[energiapy.components.scope.temporal.scale.Scale, dict[energiapy.components.scope.temporal.mode.X, float | int | pandas.core.frame.DataFrame | tuple[float | int | pandas.core.frame.DataFrame, float | int | pandas.core.frame.DataFrame]]] | dict[energiapy.components.scope.spatial.location.Location | energiapy.components.scope.spatial.linkage.Linkage, dict[energiapy.components.scope.temporal.scale.Scale, dict[energiapy.components.scope.temporal.mode.X, float | int | pandas.core.frame.DataFrame | tuple[float | int | pandas.core.frame.DataFrame, float | int | pandas.core.frame.DataFrame]]]] = None, material_use_emission: float | int | pandas.core.frame.DataFrame | tuple[float | int | pandas.core.frame.DataFrame, float | int | pandas.core.frame.DataFrame] | dict[energiapy.components.scope.spatial.location.Location | energiapy.components.scope.spatial.linkage.Linkage, float | int | pandas.core.frame.DataFrame | tuple[float | int | pandas.core.frame.DataFrame, float | int | pandas.core.frame.DataFrame]] | dict[energiapy.components.scope.temporal.scale.Scale, float | int | pandas.core.frame.DataFrame | tuple[float | int | pandas.core.frame.DataFrame, float | int | pandas.core.frame.DataFrame]] | dict[energiapy.components.scope.temporal.mode.X, float | int | pandas.core.frame.DataFrame | tuple[float | int | pandas.core.frame.DataFrame, float | int | pandas.core.frame.DataFrame]] | dict[energiapy.components.scope.spatial.location.Location | energiapy.components.scope.spatial.linkage.Linkage, dict[energiapy.components.scope.temporal.scale.Scale, float | int | pandas.core.frame.DataFrame | tuple[float | int | pandas.core.frame.DataFrame, float | int | pandas.core.frame.DataFrame]]] | dict[energiapy.components.scope.spatial.location.Location | energiapy.components.scope.spatial.linkage.Linkage, dict[energiapy.components.scope.temporal.mode.X, float | int | pandas.core.frame.DataFrame | tuple[float | int | pandas.core.frame.DataFrame, float | int | pandas.core.frame.DataFrame]]] | dict[energiapy.components.scope.temporal.scale.Scale, dict[energiapy.components.scope.temporal.mode.X, float | int | pandas.core.frame.DataFrame | tuple[float | int | pandas.core.frame.DataFrame, float | int | pandas.core.frame.DataFrame]]] | dict[energiapy.components.scope.spatial.location.Location | energiapy.components.scope.spatial.linkage.Linkage, dict[energiapy.components.scope.temporal.scale.Scale, dict[energiapy.components.scope.temporal.mode.X, float | int | pandas.core.frame.DataFrame | tuple[float | int | pandas.core.frame.DataFrame, float | int | pandas.core.frame.DataFrame]]]] = None, land_use_cost: float | int | pandas.core.frame.DataFrame | tuple[float | int | pandas.core.frame.DataFrame, float | int | pandas.core.frame.DataFrame] | dict[energiapy.components.scope.spatial.location.Location | energiapy.components.scope.spatial.linkage.Linkage, float | int | pandas.core.frame.DataFrame | tuple[float | int | pandas.core.frame.DataFrame, float | int | pandas.core.frame.DataFrame]] | dict[energiapy.components.scope.temporal.scale.Scale, float | int | pandas.core.frame.DataFrame | tuple[float | int | pandas.core.frame.DataFrame, float | int | pandas.core.frame.DataFrame]] | dict[energiapy.components.scope.temporal.mode.X, float | int | pandas.core.frame.DataFrame | tuple[float | int | pandas.core.frame.DataFrame, float | int | pandas.core.frame.DataFrame]] | dict[energiapy.components.scope.spatial.location.Location | energiapy.components.scope.spatial.linkage.Linkage, dict[energiapy.components.scope.temporal.scale.Scale, float | int | pandas.core.frame.DataFrame | tuple[float | int | pandas.core.frame.DataFrame, float | int | pandas.core.frame.DataFrame]]] | dict[energiapy.components.scope.spatial.location.Location | energiapy.components.scope.spatial.linkage.Linkage, dict[energiapy.components.scope.temporal.mode.X, float | int | pandas.core.frame.DataFrame | tuple[float | int | pandas.core.frame.DataFrame, float | int | pandas.core.frame.DataFrame]]] | dict[energiapy.components.scope.temporal.scale.Scale, dict[energiapy.components.scope.temporal.mode.X, float | int | pandas.core.frame.DataFrame | tuple[float | int | pandas.core.frame.DataFrame, float | int | pandas.core.frame.DataFrame]]] | dict[energiapy.components.scope.spatial.location.Location | energiapy.components.scope.spatial.linkage.Linkage, dict[energiapy.components.scope.temporal.scale.Scale, dict[energiapy.components.scope.temporal.mode.X, float | int | pandas.core.frame.DataFrame | tuple[float | int | pandas.core.frame.DataFrame, float | int | pandas.core.frame.DataFrame]]]] = None, material_use_cost: float | int | pandas.core.frame.DataFrame | tuple[float | int | pandas.core.frame.DataFrame, float | int | pandas.core.frame.DataFrame] | dict[energiapy.components.scope.spatial.location.Location | energiapy.components.scope.spatial.linkage.Linkage, float | int | pandas.core.frame.DataFrame | tuple[float | int | pandas.core.frame.DataFrame, float | int | pandas.core.frame.DataFrame]] | dict[energiapy.components.scope.temporal.scale.Scale, float | int | pandas.core.frame.DataFrame | tuple[float | int | pandas.core.frame.DataFrame, float | int | pandas.core.frame.DataFrame]] | dict[energiapy.components.scope.temporal.mode.X, float | int | pandas.core.frame.DataFrame | tuple[float | int | pandas.core.frame.DataFrame, float | int | pandas.core.frame.DataFrame]] | dict[energiapy.components.scope.spatial.location.Location | energiapy.components.scope.spatial.linkage.Linkage, dict[energiapy.components.scope.temporal.scale.Scale, float | int | pandas.core.frame.DataFrame | tuple[float | int | pandas.core.frame.DataFrame, float | int | pandas.core.frame.DataFrame]]] | dict[energiapy.components.scope.spatial.location.Location | energiapy.components.scope.spatial.linkage.Linkage, dict[energiapy.components.scope.temporal.mode.X, float | int | pandas.core.frame.DataFrame | tuple[float | int | pandas.core.frame.DataFrame, float | int | pandas.core.frame.DataFrame]]] | dict[energiapy.components.scope.temporal.scale.Scale, dict[energiapy.components.scope.temporal.mode.X, float | int | pandas.core.frame.DataFrame | tuple[float | int | pandas.core.frame.DataFrame, float | int | pandas.core.frame.DataFrame]]] | dict[energiapy.components.scope.spatial.location.Location | energiapy.components.scope.spatial.linkage.Linkage, dict[energiapy.components.scope.temporal.scale.Scale, dict[energiapy.components.scope.temporal.mode.X, float | int | pandas.core.frame.DataFrame | tuple[float | int | pandas.core.frame.DataFrame, float | int | pandas.core.frame.DataFrame]]]] = None, land_use: float | int | pandas.core.frame.DataFrame | tuple[float | int | pandas.core.frame.DataFrame, float | int | pandas.core.frame.DataFrame] | dict[energiapy.components.scope.spatial.location.Location | energiapy.components.scope.spatial.linkage.Linkage, float | int | pandas.core.frame.DataFrame | tuple[float | int | pandas.core.frame.DataFrame, float | int | pandas.core.frame.DataFrame]] | dict[energiapy.components.scope.temporal.scale.Scale, float | int | pandas.core.frame.DataFrame | tuple[float | int | pandas.core.frame.DataFrame, float | int | pandas.core.frame.DataFrame]] | dict[energiapy.components.scope.temporal.mode.X, float | int | pandas.core.frame.DataFrame | tuple[float | int | pandas.core.frame.DataFrame, float | int | pandas.core.frame.DataFrame]] | dict[energiapy.components.scope.spatial.location.Location | energiapy.components.scope.spatial.linkage.Linkage, dict[energiapy.components.scope.temporal.scale.Scale, float | int | pandas.core.frame.DataFrame | tuple[float | int | pandas.core.frame.DataFrame, float | int | pandas.core.frame.DataFrame]]] | dict[energiapy.components.scope.spatial.location.Location | energiapy.components.scope.spatial.linkage.Linkage, dict[energiapy.components.scope.temporal.mode.X, float | int | pandas.core.frame.DataFrame | tuple[float | int | pandas.core.frame.DataFrame, float | int | pandas.core.frame.DataFrame]]] | dict[energiapy.components.scope.temporal.scale.Scale, dict[energiapy.components.scope.temporal.mode.X, float | int | pandas.core.frame.DataFrame | tuple[float | int | pandas.core.frame.DataFrame, float | int | pandas.core.frame.DataFrame]]] | dict[energiapy.components.scope.spatial.location.Location | energiapy.components.scope.spatial.linkage.Linkage, dict[energiapy.components.scope.temporal.scale.Scale, dict[energiapy.components.scope.temporal.mode.X, float | int | pandas.core.frame.DataFrame | tuple[float | int | pandas.core.frame.DataFrame, float | int | pandas.core.frame.DataFrame]]]] = None, material_use: float | int | pandas.core.frame.DataFrame | tuple[float | int | pandas.core.frame.DataFrame, float | int | pandas.core.frame.DataFrame] | dict[energiapy.components.scope.spatial.location.Location | energiapy.components.scope.spatial.linkage.Linkage, float | int | pandas.core.frame.DataFrame | tuple[float | int | pandas.core.frame.DataFrame, float | int | pandas.core.frame.DataFrame]] | dict[energiapy.components.scope.temporal.scale.Scale, float | int | pandas.core.frame.DataFrame | tuple[float | int | pandas.core.frame.DataFrame, float | int | pandas.core.frame.DataFrame]] | dict[energiapy.components.scope.temporal.mode.X, float | int | pandas.core.frame.DataFrame | tuple[float | int | pandas.core.frame.DataFrame, float | int | pandas.core.frame.DataFrame]] | dict[energiapy.components.scope.spatial.location.Location | energiapy.components.scope.spatial.linkage.Linkage, dict[energiapy.components.scope.temporal.scale.Scale, float | int | pandas.core.frame.DataFrame | tuple[float | int | pandas.core.frame.DataFrame, float | int | pandas.core.frame.DataFrame]]] | dict[energiapy.components.scope.spatial.location.Location | energiapy.components.scope.spatial.linkage.Linkage, dict[energiapy.components.scope.temporal.mode.X, float | int | pandas.core.frame.DataFrame | tuple[float | int | pandas.core.frame.DataFrame, float | int | pandas.core.frame.DataFrame]]] | dict[energiapy.components.scope.temporal.scale.Scale, dict[energiapy.components.scope.temporal.mode.X, float | int | pandas.core.frame.DataFrame | tuple[float | int | pandas.core.frame.DataFrame, float | int | pandas.core.frame.DataFrame]]] | dict[energiapy.components.scope.spatial.location.Location | energiapy.components.scope.spatial.linkage.Linkage, dict[energiapy.components.scope.temporal.scale.Scale, dict[energiapy.components.scope.temporal.mode.X, float | int | pandas.core.frame.DataFrame | tuple[float | int | pandas.core.frame.DataFrame, float | int | pandas.core.frame.DataFrame]]]] = None, setup_emission: float | int | pandas.core.frame.DataFrame | tuple[float | int | pandas.core.frame.DataFrame, float | int | pandas.core.frame.DataFrame] | dict[energiapy.components.scope.spatial.location.Location | energiapy.components.scope.spatial.linkage.Linkage, float | int | pandas.core.frame.DataFrame | tuple[float | int | pandas.core.frame.DataFrame, float | int | pandas.core.frame.DataFrame]] | dict[energiapy.components.scope.temporal.scale.Scale, float | int | pandas.core.frame.DataFrame | tuple[float | int | pandas.core.frame.DataFrame, float | int | pandas.core.frame.DataFrame]] | dict[energiapy.components.scope.temporal.mode.X, float | int | pandas.core.frame.DataFrame | tuple[float | int | pandas.core.frame.DataFrame, float | int | pandas.core.frame.DataFrame]] | dict[energiapy.components.scope.spatial.location.Location | energiapy.components.scope.spatial.linkage.Linkage, dict[energiapy.components.scope.temporal.scale.Scale, float | int | pandas.core.frame.DataFrame | tuple[float | int | pandas.core.frame.DataFrame, float | int | pandas.core.frame.DataFrame]]] | dict[energiapy.components.scope.spatial.location.Location | energiapy.components.scope.spatial.linkage.Linkage, dict[energiapy.components.scope.temporal.mode.X, float | int | pandas.core.frame.DataFrame | tuple[float | int | pandas.core.frame.DataFrame, float | int | pandas.core.frame.DataFrame]]] | dict[energiapy.components.scope.temporal.scale.Scale, dict[energiapy.components.scope.temporal.mode.X, float | int | pandas.core.frame.DataFrame | tuple[float | int | pandas.core.frame.DataFrame, float | int | pandas.core.frame.DataFrame]]] | dict[energiapy.components.scope.spatial.location.Location | energiapy.components.scope.spatial.linkage.Linkage, dict[energiapy.components.scope.temporal.scale.Scale, dict[energiapy.components.scope.temporal.mode.X, float | int | pandas.core.frame.DataFrame | tuple[float | int | pandas.core.frame.DataFrame, float | int | pandas.core.frame.DataFrame]]]] = None, capex: set[float | int | pandas.core.frame.DataFrame | tuple[float | int | pandas.core.frame.DataFrame, float | int | pandas.core.frame.DataFrame] | energiapy.components.scope.temporal.incidental.I] | dict[energiapy.components.scope.spatial.location.Location | energiapy.components.scope.spatial.linkage.Linkage, set[float | int | pandas.core.frame.DataFrame | tuple[float | int | pandas.core.frame.DataFrame, float | int | pandas.core.frame.DataFrame] | energiapy.components.scope.temporal.incidental.I]] | dict[energiapy.components.scope.temporal.scale.Scale, set[float | int | pandas.core.frame.DataFrame | tuple[float | int | pandas.core.frame.DataFrame, float | int | pandas.core.frame.DataFrame] | energiapy.components.scope.temporal.incidental.I]] | dict[energiapy.components.scope.temporal.mode.X, set[float | int | pandas.core.frame.DataFrame | tuple[float | int | pandas.core.frame.DataFrame, float | int | pandas.core.frame.DataFrame] | energiapy.components.scope.temporal.incidental.I]] | dict[energiapy.components.scope.spatial.location.Location | energiapy.components.scope.spatial.linkage.Linkage, dict[energiapy.components.scope.temporal.scale.Scale, set[float | int | pandas.core.frame.DataFrame | tuple[float | int | pandas.core.frame.DataFrame, float | int | pandas.core.frame.DataFrame] | energiapy.components.scope.temporal.incidental.I]]] | dict[energiapy.components.scope.spatial.location.Location | energiapy.components.scope.spatial.linkage.Linkage, dict[energiapy.components.scope.temporal.mode.X, set[float | int | pandas.core.frame.DataFrame | tuple[float | int | pandas.core.frame.DataFrame, float | int | pandas.core.frame.DataFrame] | energiapy.components.scope.temporal.incidental.I]]] | dict[energiapy.components.scope.temporal.scale.Scale, dict[energiapy.components.scope.temporal.mode.X, set[float | int | pandas.core.frame.DataFrame | tuple[float | int | pandas.core.frame.DataFrame, float | int | pandas.core.frame.DataFrame] | energiapy.components.scope.temporal.incidental.I]]] | dict[energiapy.components.scope.spatial.location.Location | energiapy.components.scope.spatial.linkage.Linkage, dict[energiapy.components.scope.temporal.scale.Scale, dict[energiapy.components.scope.temporal.mode.X, set[float | int | pandas.core.frame.DataFrame | tuple[float | int | pandas.core.frame.DataFrame, float | int | pandas.core.frame.DataFrame] | energiapy.components.scope.temporal.incidental.I]]]] = None, opex: set[float | int | pandas.core.frame.DataFrame | tuple[float | int | pandas.core.frame.DataFrame, float | int | pandas.core.frame.DataFrame] | energiapy.components.scope.temporal.incidental.I] | dict[energiapy.components.scope.spatial.location.Location | energiapy.components.scope.spatial.linkage.Linkage, set[float | int | pandas.core.frame.DataFrame | tuple[float | int | pandas.core.frame.DataFrame, float | int | pandas.core.frame.DataFrame] | energiapy.components.scope.temporal.incidental.I]] | dict[energiapy.components.scope.temporal.scale.Scale, set[float | int | pandas.core.frame.DataFrame | tuple[float | int | pandas.core.frame.DataFrame, float | int | pandas.core.frame.DataFrame] | energiapy.components.scope.temporal.incidental.I]] | dict[energiapy.components.scope.temporal.mode.X, set[float | int | pandas.core.frame.DataFrame | tuple[float | int | pandas.core.frame.DataFrame, float | int | pandas.core.frame.DataFrame] | energiapy.components.scope.temporal.incidental.I]] | dict[energiapy.components.scope.spatial.location.Location | energiapy.components.scope.spatial.linkage.Linkage, dict[energiapy.components.scope.temporal.scale.Scale, set[float | int | pandas.core.frame.DataFrame | tuple[float | int | pandas.core.frame.DataFrame, float | int | pandas.core.frame.DataFrame] | energiapy.components.scope.temporal.incidental.I]]] | dict[energiapy.components.scope.spatial.location.Location | energiapy.components.scope.spatial.linkage.Linkage, dict[energiapy.components.scope.temporal.mode.X, set[float | int | pandas.core.frame.DataFrame | tuple[float | int | pandas.core.frame.DataFrame, float | int | pandas.core.frame.DataFrame] | energiapy.components.scope.temporal.incidental.I]]] | dict[energiapy.components.scope.temporal.scale.Scale, dict[energiapy.components.scope.temporal.mode.X, set[float | int | pandas.core.frame.DataFrame | tuple[float | int | pandas.core.frame.DataFrame, float | int | pandas.core.frame.DataFrame] | energiapy.components.scope.temporal.incidental.I]]] | dict[energiapy.components.scope.spatial.location.Location | energiapy.components.scope.spatial.linkage.Linkage, dict[energiapy.components.scope.temporal.scale.Scale, dict[energiapy.components.scope.temporal.mode.X, set[float | int | pandas.core.frame.DataFrame | tuple[float | int | pandas.core.frame.DataFrame, float | int | pandas.core.frame.DataFrame] | energiapy.components.scope.temporal.incidental.I]]]] = None, produce: Union[float, int, pandas.core.frame.DataFrame, tuple[float | int | pandas.core.frame.DataFrame, float | int | pandas.core.frame.DataFrame], Literal[True], list[Union[float, int, pandas.core.frame.DataFrame, tuple[float | int | pandas.core.frame.DataFrame, float | int | pandas.core.frame.DataFrame], Literal[True]]], dict[energiapy.components.scope.spatial.location.Location | energiapy.components.scope.spatial.linkage.Linkage | energiapy.components.scope.spatial.network.Network, Union[float, int, pandas.core.frame.DataFrame, tuple[float | int | pandas.core.frame.DataFrame, float | int | pandas.core.frame.DataFrame], Literal[True], list[Union[float, int, pandas.core.frame.DataFrame, tuple[float | int | pandas.core.frame.DataFrame, float | int | pandas.core.frame.DataFrame], Literal[True]]]]], dict[energiapy.components.scope.temporal.scale.Scale, Union[float, int, pandas.core.frame.DataFrame, tuple[float | int | pandas.core.frame.DataFrame, float | int | pandas.core.frame.DataFrame], Literal[True], list[Union[float, int, pandas.core.frame.DataFrame, tuple[float | int | pandas.core.frame.DataFrame, float | int | pandas.core.frame.DataFrame], Literal[True]]]]], dict[energiapy.components.scope.spatial.location.Location | energiapy.components.scope.spatial.linkage.Linkage | energiapy.components.scope.spatial.network.Network, dict[energiapy.components.scope.temporal.scale.Scale, Union[float, int, pandas.core.frame.DataFrame, tuple[float | int | pandas.core.frame.DataFrame, float | int | pandas.core.frame.DataFrame], Literal[True], list[Union[float, int, pandas.core.frame.DataFrame, tuple[float | int | pandas.core.frame.DataFrame, float | int | pandas.core.frame.DataFrame], Literal[True]]]]]]] = None, capacity: Union[float, int, pandas.core.frame.DataFrame, tuple[float | int | pandas.core.frame.DataFrame, float | int | pandas.core.frame.DataFrame], Literal[True], list[Union[float, int, pandas.core.frame.DataFrame, tuple[float | int | pandas.core.frame.DataFrame, float | int | pandas.core.frame.DataFrame], Literal[True]]], dict[energiapy.components.scope.spatial.location.Location | energiapy.components.scope.spatial.linkage.Linkage | energiapy.components.scope.spatial.network.Network, Union[float, int, pandas.core.frame.DataFrame, tuple[float | int | pandas.core.frame.DataFrame, float | int | pandas.core.frame.DataFrame], Literal[True], list[Union[float, int, pandas.core.frame.DataFrame, tuple[float | int | pandas.core.frame.DataFrame, float | int | pandas.core.frame.DataFrame], Literal[True]]]]], dict[energiapy.components.scope.temporal.scale.Scale, Union[float, int, pandas.core.frame.DataFrame, tuple[float | int | pandas.core.frame.DataFrame, float | int | pandas.core.frame.DataFrame], Literal[True], list[Union[float, int, pandas.core.frame.DataFrame, tuple[float | int | pandas.core.frame.DataFrame, float | int | pandas.core.frame.DataFrame], Literal[True]]]]], dict[energiapy.components.scope.spatial.location.Location | energiapy.components.scope.spatial.linkage.Linkage | energiapy.components.scope.spatial.network.Network, dict[energiapy.components.scope.temporal.scale.Scale, Union[float, int, pandas.core.frame.DataFrame, tuple[float | int | pandas.core.frame.DataFrame, float | int | pandas.core.frame.DataFrame], Literal[True], list[Union[float, int, pandas.core.frame.DataFrame, tuple[float | int | pandas.core.frame.DataFrame, float | int | pandas.core.frame.DataFrame], Literal[True]]]]]]] = None, conversion: dict[energiapy.components.commodity.resource.Resource, int | float] | dict[energiapy.components.scope.temporal.mode.X, dict[energiapy.components.commodity.resource.Resource, int | float]] = None) -> None\n",
      " |      Initialize self.  See help(type(self)) for accurate signature.\n",
      " |\n",
      " |  __post_init__(self)\n",
      " |\n",
      " |  __repr__(self) from energiapy.core._handy._dunders._Reprs\n",
      " |      Return repr(self).\n",
      " |\n",
      " |  conversionize(self)\n",
      " |      Makes the conversion\n",
      " |\n",
      " |  ----------------------------------------------------------------------\n",
      " |  Static methods defined here:\n",
      " |\n",
      " |  inputs()\n",
      " |      Input attributes\n",
      " |\n",
      " |  ----------------------------------------------------------------------\n",
      " |  Readonly properties defined here:\n",
      " |\n",
      " |  balance\n",
      " |      The balance of resources\n",
      " |\n",
      " |  base\n",
      " |      The base resource\n",
      " |\n",
      " |  bought\n",
      " |      The resources bought\n",
      " |\n",
      " |  is_balanced\n",
      " |      The Process conversion is Conversion\n",
      " |\n",
      " |  modes\n",
      " |      The modes of conversion\n",
      " |\n",
      " |  resources\n",
      " |      Resources in Conversion\n",
      " |\n",
      " |  sold\n",
      " |      The resources sold\n",
      " |\n",
      " |  x_conv\n",
      " |      The number of modes\n",
      " |\n",
      " |  ----------------------------------------------------------------------\n",
      " |  Data and other attributes defined here:\n",
      " |\n",
      " |  __abstractmethods__ = frozenset()\n",
      " |\n",
      " |  __annotations__ = {}\n",
      " |\n",
      " |  __dataclass_fields__ = {'basis': Field(name='basis',type=<class 'str'>...\n",
      " |\n",
      " |  __dataclass_params__ = _DataclassParams(init=True,repr=True,eq=True,or...\n",
      " |\n",
      " |  __match_args__ = ('basis', 'citation', 'block', 'introduce', 'retire',...\n",
      " |\n",
      " |  ----------------------------------------------------------------------\n",
      " |  Data descriptors inherited from energiapy.components._attrs._balances._ProBalance:\n",
      " |\n",
      " |  __dict__\n",
      " |      dictionary for instance variables\n",
      " |\n",
      " |  __weakref__\n",
      " |      list of weak references to the object\n",
      " |\n",
      " |  ----------------------------------------------------------------------\n",
      " |  Data and other attributes inherited from energiapy.components._attrs._balances._ProBalance:\n",
      " |\n",
      " |  conversion = None\n",
      " |\n",
      " |  ----------------------------------------------------------------------\n",
      " |  Data and other attributes inherited from energiapy.components._attrs._bounds._OpnBounds:\n",
      " |\n",
      " |  capacity = None\n",
      " |\n",
      " |  ----------------------------------------------------------------------\n",
      " |  Data and other attributes inherited from energiapy.components._attrs._bounds._ProBounds:\n",
      " |\n",
      " |  produce = None\n",
      " |\n",
      " |  ----------------------------------------------------------------------\n",
      " |  Data and other attributes inherited from energiapy.components._attrs._exacts._OpnTscExacts:\n",
      " |\n",
      " |  capex = None\n",
      " |\n",
      " |  opex = None\n",
      " |\n",
      " |  ----------------------------------------------------------------------\n",
      " |  Data and other attributes inherited from energiapy.components._attrs._exacts._OpnEmnExacts:\n",
      " |\n",
      " |  setup_emission = None\n",
      " |\n",
      " |  ----------------------------------------------------------------------\n",
      " |  Data and other attributes inherited from energiapy.components._attrs._exacts._OpnUseExacts:\n",
      " |\n",
      " |  land_use = None\n",
      " |\n",
      " |  material_use = None\n",
      " |\n",
      " |  ----------------------------------------------------------------------\n",
      " |  Data and other attributes inherited from energiapy.components._attrs._exacts._OpnUseTscExacts:\n",
      " |\n",
      " |  land_use_cost = None\n",
      " |\n",
      " |  material_use_cost = None\n",
      " |\n",
      " |  ----------------------------------------------------------------------\n",
      " |  Data and other attributes inherited from energiapy.components._attrs._exacts._OpnUseEmnExacts:\n",
      " |\n",
      " |  land_use_emission = None\n",
      " |\n",
      " |  material_use_emission = None\n",
      " |\n",
      " |  ----------------------------------------------------------------------\n",
      " |  Data and other attributes inherited from energiapy.components._attrs._exacts._OpnRteExacts:\n",
      " |\n",
      " |  setup_time = None\n",
      " |\n",
      " |  ----------------------------------------------------------------------\n",
      " |  Data and other attributes inherited from energiapy.components._attrs._bounds._ResLocBounds:\n",
      " |\n",
      " |  buy = None\n",
      " |\n",
      " |  sell = None\n",
      " |\n",
      " |  ----------------------------------------------------------------------\n",
      " |  Data and other attributes inherited from energiapy.components._attrs._exacts._ResTscExacts:\n",
      " |\n",
      " |  buy_price = None\n",
      " |\n",
      " |  credit = None\n",
      " |\n",
      " |  penalty = None\n",
      " |\n",
      " |  sell_price = None\n",
      " |\n",
      " |  ----------------------------------------------------------------------\n",
      " |  Data and other attributes inherited from energiapy.components._attrs._exacts._ResEmnExacts:\n",
      " |\n",
      " |  buy_emission = None\n",
      " |\n",
      " |  loss_emission = None\n",
      " |\n",
      " |  sell_emission = None\n",
      " |\n",
      " |  ----------------------------------------------------------------------\n",
      " |  Methods inherited from energiapy.components.operation._operation._Operation:\n",
      " |\n",
      " |  locate(self)\n",
      " |      Locates the Component\n",
      " |\n",
      " |  ----------------------------------------------------------------------\n",
      " |  Readonly properties inherited from energiapy.components.operation._operation._Operation:\n",
      " |\n",
      " |  commodities\n",
      " |      Commodities used in the Operation\n",
      " |\n",
      " |  emissions\n",
      " |      Emissions from the Operation\n",
      " |\n",
      " |  materials\n",
      " |      Materials used in the Operation\n",
      " |\n",
      " |  spatials\n",
      " |      Spatial Components where the Operation is located\n",
      " |\n",
      " |  ----------------------------------------------------------------------\n",
      " |  Methods inherited from energiapy.components._base._defined._Defined:\n",
      " |\n",
      " |  eqns(self)\n",
      " |      Prints all equations in the ProgramBlock\n",
      " |\n",
      " |  ----------------------------------------------------------------------\n",
      " |  Data and other attributes inherited from energiapy.components._base._defined._Defined:\n",
      " |\n",
      " |  basis = None\n",
      " |\n",
      " |  block = None\n",
      " |\n",
      " |  citation = None\n",
      " |\n",
      " |  introduce = None\n",
      " |\n",
      " |  label = None\n",
      " |\n",
      " |  retire = None\n",
      " |\n",
      " |  ----------------------------------------------------------------------\n",
      " |  Methods inherited from energiapy.components._base._component._Component:\n",
      " |\n",
      " |  personalize(self, name: 'str', model: 'Model')\n",
      " |      Personalize the compoenent\n",
      " |      give it a name (public),\n",
      " |      add model components\n",
      " |\n",
      " |      Args:\n",
      " |          name (str): name of the component. Given as Scenario attribute\n",
      " |          model (IsModel): Model with System, Program, Data, Matrix, Chanakya, Rulebook, Registrar\n",
      " |\n",
      " |  ----------------------------------------------------------------------\n",
      " |  Readonly properties inherited from energiapy.components._base._component._Component:\n",
      " |\n",
      " |  data\n",
      " |      The Data of the Component\n",
      " |\n",
      " |  is_named\n",
      " |      The component has been named\n",
      " |\n",
      " |  matrix\n",
      " |      The Matrix of the Component\n",
      " |\n",
      " |  program\n",
      " |      The Program of the Component\n",
      " |\n",
      " |  program_full\n",
      " |      The Program for the entire Scenario\n",
      " |\n",
      " |  registrar\n",
      " |      Registrar of the Scenario\n",
      " |\n",
      " |  rulebook\n",
      " |      Bhaskara of the Scenario\n",
      " |\n",
      " |  system\n",
      " |      The System of the Component\n",
      " |\n",
      " |  taskmaster\n",
      " |      Chanakya of the Scenario\n",
      " |\n",
      " |  ----------------------------------------------------------------------\n",
      " |  Class methods inherited from energiapy.core._handy._dunders._Reprs:\n",
      " |\n",
      " |  __init_subclass__()\n",
      " |      This method is called when a class is subclassed.\n",
      " |\n",
      " |      The default implementation does nothing. It may be\n",
      " |      overridden to extend subclasses.\n",
      " |\n",
      " |  cname()\n",
      " |      The name of the Class\n",
      " |\n",
      " |  ----------------------------------------------------------------------\n",
      " |  Methods inherited from energiapy.core._handy._dunders._Magics:\n",
      " |\n",
      " |  __gt__(self, other)\n",
      " |      Return self>value.\n",
      " |\n",
      " |  __lt__(self, other)\n",
      " |      Return self<value.\n",
      " |\n",
      " |  ----------------------------------------------------------------------\n",
      " |  Methods inherited from energiapy.components._base._consistent._Consistent:\n",
      " |\n",
      " |  bounds(self)\n",
      " |      Bounds attributes\n",
      " |\n",
      " |  exacts(self)\n",
      " |      Exact attributes\n",
      " |\n",
      " |  fix_temporal(self, spttmpmdeval: dict, attr: str, ok_inconsistent: bool) -> dict\n",
      " |      Fixes the temporal disposition of the input\n",
      " |\n",
      " |      Args:\n",
      " |          spttmpmdeval (dict): {Spatial: {Temporal: {Mode: value}}}\n",
      " |          attr (str): attr for which input is being passed\n",
      " |          ok_inconsistent (bool): whether to fix indices or just warn.\n",
      " |\n",
      " |      Returns:\n",
      " |          dict: {Spatial: {Temporal: {Mode: value}}} but with scales checked\n",
      " |\n",
      " |  make_commodity(self, attr: str, value: Union[float, int, pandas.core.frame.DataFrame, tuple[float | int | pandas.core.frame.DataFrame, float | int | pandas.core.frame.DataFrame], dict[energiapy.components.scope.spatial.location.Location | energiapy.components.scope.spatial.linkage.Linkage, float | int | pandas.core.frame.DataFrame | tuple[float | int | pandas.core.frame.DataFrame, float | int | pandas.core.frame.DataFrame]], dict[energiapy.components.scope.temporal.scale.Scale, float | int | pandas.core.frame.DataFrame | tuple[float | int | pandas.core.frame.DataFrame, float | int | pandas.core.frame.DataFrame]], dict[energiapy.components.scope.temporal.mode.X, float | int | pandas.core.frame.DataFrame | tuple[float | int | pandas.core.frame.DataFrame, float | int | pandas.core.frame.DataFrame]], dict[energiapy.components.scope.spatial.location.Location | energiapy.components.scope.spatial.linkage.Linkage, dict[energiapy.components.scope.temporal.scale.Scale, float | int | pandas.core.frame.DataFrame | tuple[float | int | pandas.core.frame.DataFrame, float | int | pandas.core.frame.DataFrame]]], dict[energiapy.components.scope.spatial.location.Location | energiapy.components.scope.spatial.linkage.Linkage, dict[energiapy.components.scope.temporal.mode.X, float | int | pandas.core.frame.DataFrame | tuple[float | int | pandas.core.frame.DataFrame, float | int | pandas.core.frame.DataFrame]]], dict[energiapy.components.scope.temporal.scale.Scale, dict[energiapy.components.scope.temporal.mode.X, float | int | pandas.core.frame.DataFrame | tuple[float | int | pandas.core.frame.DataFrame, float | int | pandas.core.frame.DataFrame]]], dict[energiapy.components.scope.spatial.location.Location | energiapy.components.scope.spatial.linkage.Linkage, dict[energiapy.components.scope.temporal.scale.Scale, dict[energiapy.components.scope.temporal.mode.X, float | int | pandas.core.frame.DataFrame | tuple[float | int | pandas.core.frame.DataFrame, float | int | pandas.core.frame.DataFrame]]]], set[float | int | pandas.core.frame.DataFrame | tuple[float | int | pandas.core.frame.DataFrame, float | int | pandas.core.frame.DataFrame] | energiapy.components.scope.temporal.incidental.I], dict[energiapy.components.scope.spatial.location.Location | energiapy.components.scope.spatial.linkage.Linkage, set[float | int | pandas.core.frame.DataFrame | tuple[float | int | pandas.core.frame.DataFrame, float | int | pandas.core.frame.DataFrame] | energiapy.components.scope.temporal.incidental.I]], dict[energiapy.components.scope.temporal.scale.Scale, set[float | int | pandas.core.frame.DataFrame | tuple[float | int | pandas.core.frame.DataFrame, float | int | pandas.core.frame.DataFrame] | energiapy.components.scope.temporal.incidental.I]], dict[energiapy.components.scope.temporal.mode.X, set[float | int | pandas.core.frame.DataFrame | tuple[float | int | pandas.core.frame.DataFrame, float | int | pandas.core.frame.DataFrame] | energiapy.components.scope.temporal.incidental.I]], dict[energiapy.components.scope.spatial.location.Location | energiapy.components.scope.spatial.linkage.Linkage, dict[energiapy.components.scope.temporal.scale.Scale, set[float | int | pandas.core.frame.DataFrame | tuple[float | int | pandas.core.frame.DataFrame, float | int | pandas.core.frame.DataFrame] | energiapy.components.scope.temporal.incidental.I]]], dict[energiapy.components.scope.spatial.location.Location | energiapy.components.scope.spatial.linkage.Linkage, dict[energiapy.components.scope.temporal.mode.X, set[float | int | pandas.core.frame.DataFrame | tuple[float | int | pandas.core.frame.DataFrame, float | int | pandas.core.frame.DataFrame] | energiapy.components.scope.temporal.incidental.I]]], dict[energiapy.components.scope.temporal.scale.Scale, dict[energiapy.components.scope.temporal.mode.X, set[float | int | pandas.core.frame.DataFrame | tuple[float | int | pandas.core.frame.DataFrame, float | int | pandas.core.frame.DataFrame] | energiapy.components.scope.temporal.incidental.I]]], dict[energiapy.components.scope.spatial.location.Location | energiapy.components.scope.spatial.linkage.Linkage, dict[energiapy.components.scope.temporal.scale.Scale, dict[energiapy.components.scope.temporal.mode.X, set[float | int | pandas.core.frame.DataFrame | tuple[float | int | pandas.core.frame.DataFrame, float | int | pandas.core.frame.DataFrame] | energiapy.components.scope.temporal.incidental.I]]]], Literal[True], list[Union[float, int, pandas.core.frame.DataFrame, tuple[float | int | pandas.core.frame.DataFrame, float | int | pandas.core.frame.DataFrame], Literal[True]]], dict[energiapy.components.scope.spatial.location.Location | energiapy.components.scope.spatial.linkage.Linkage | energiapy.components.scope.spatial.network.Network, Union[float, int, pandas.core.frame.DataFrame, tuple[float | int | pandas.core.frame.DataFrame, float | int | pandas.core.frame.DataFrame], Literal[True], list[Union[float, int, pandas.core.frame.DataFrame, tuple[float | int | pandas.core.frame.DataFrame, float | int | pandas.core.frame.DataFrame], Literal[True]]]]], dict[energiapy.components.scope.temporal.scale.Scale, Union[float, int, pandas.core.frame.DataFrame, tuple[float | int | pandas.core.frame.DataFrame, float | int | pandas.core.frame.DataFrame], Literal[True], list[Union[float, int, pandas.core.frame.DataFrame, tuple[float | int | pandas.core.frame.DataFrame, float | int | pandas.core.frame.DataFrame], Literal[True]]]]], dict[energiapy.components.scope.spatial.location.Location | energiapy.components.scope.spatial.linkage.Linkage | energiapy.components.scope.spatial.network.Network, dict[energiapy.components.scope.temporal.scale.Scale, Union[float, int, pandas.core.frame.DataFrame, tuple[float | int | pandas.core.frame.DataFrame, float | int | pandas.core.frame.DataFrame], Literal[True], list[Union[float, int, pandas.core.frame.DataFrame, tuple[float | int | pandas.core.frame.DataFrame, float | int | pandas.core.frame.DataFrame], Literal[True]]]]]]]) -> dict\n",
      " |      If exact input is given, checks if commodity is given.\n",
      " |\n",
      " |      If not sets one for Cash and Land\n",
      " |\n",
      " |      Args:\n",
      " |          attr (str): attribute being passed\n",
      " |          value (IsInp): user input\n",
      " |\n",
      " |      Returns:\n",
      " |          dict: {Commodity: value}\n",
      " |\n",
      " |  make_consistent(self, ok_inconsistent: bool)\n",
      " |      Makes and sets input attributes consistent as SptTmpDict\n",
      " |\n",
      " |      Args:\n",
      " |          ok_inconsistent (bool): whether to fix indices with warning or error out\n",
      " |\n",
      " |  make_modes(self, value: Union[float, int, pandas.core.frame.DataFrame, tuple[float | int | pandas.core.frame.DataFrame, float | int | pandas.core.frame.DataFrame], dict[energiapy.components.scope.spatial.location.Location | energiapy.components.scope.spatial.linkage.Linkage, float | int | pandas.core.frame.DataFrame | tuple[float | int | pandas.core.frame.DataFrame, float | int | pandas.core.frame.DataFrame]], dict[energiapy.components.scope.temporal.scale.Scale, float | int | pandas.core.frame.DataFrame | tuple[float | int | pandas.core.frame.DataFrame, float | int | pandas.core.frame.DataFrame]], dict[energiapy.components.scope.temporal.mode.X, float | int | pandas.core.frame.DataFrame | tuple[float | int | pandas.core.frame.DataFrame, float | int | pandas.core.frame.DataFrame]], dict[energiapy.components.scope.spatial.location.Location | energiapy.components.scope.spatial.linkage.Linkage, dict[energiapy.components.scope.temporal.scale.Scale, float | int | pandas.core.frame.DataFrame | tuple[float | int | pandas.core.frame.DataFrame, float | int | pandas.core.frame.DataFrame]]], dict[energiapy.components.scope.spatial.location.Location | energiapy.components.scope.spatial.linkage.Linkage, dict[energiapy.components.scope.temporal.mode.X, float | int | pandas.core.frame.DataFrame | tuple[float | int | pandas.core.frame.DataFrame, float | int | pandas.core.frame.DataFrame]]], dict[energiapy.components.scope.temporal.scale.Scale, dict[energiapy.components.scope.temporal.mode.X, float | int | pandas.core.frame.DataFrame | tuple[float | int | pandas.core.frame.DataFrame, float | int | pandas.core.frame.DataFrame]]], dict[energiapy.components.scope.spatial.location.Location | energiapy.components.scope.spatial.linkage.Linkage, dict[energiapy.components.scope.temporal.scale.Scale, dict[energiapy.components.scope.temporal.mode.X, float | int | pandas.core.frame.DataFrame | tuple[float | int | pandas.core.frame.DataFrame, float | int | pandas.core.frame.DataFrame]]]], set[float | int | pandas.core.frame.DataFrame | tuple[float | int | pandas.core.frame.DataFrame, float | int | pandas.core.frame.DataFrame] | energiapy.components.scope.temporal.incidental.I], dict[energiapy.components.scope.spatial.location.Location | energiapy.components.scope.spatial.linkage.Linkage, set[float | int | pandas.core.frame.DataFrame | tuple[float | int | pandas.core.frame.DataFrame, float | int | pandas.core.frame.DataFrame] | energiapy.components.scope.temporal.incidental.I]], dict[energiapy.components.scope.temporal.scale.Scale, set[float | int | pandas.core.frame.DataFrame | tuple[float | int | pandas.core.frame.DataFrame, float | int | pandas.core.frame.DataFrame] | energiapy.components.scope.temporal.incidental.I]], dict[energiapy.components.scope.temporal.mode.X, set[float | int | pandas.core.frame.DataFrame | tuple[float | int | pandas.core.frame.DataFrame, float | int | pandas.core.frame.DataFrame] | energiapy.components.scope.temporal.incidental.I]], dict[energiapy.components.scope.spatial.location.Location | energiapy.components.scope.spatial.linkage.Linkage, dict[energiapy.components.scope.temporal.scale.Scale, set[float | int | pandas.core.frame.DataFrame | tuple[float | int | pandas.core.frame.DataFrame, float | int | pandas.core.frame.DataFrame] | energiapy.components.scope.temporal.incidental.I]]], dict[energiapy.components.scope.spatial.location.Location | energiapy.components.scope.spatial.linkage.Linkage, dict[energiapy.components.scope.temporal.mode.X, set[float | int | pandas.core.frame.DataFrame | tuple[float | int | pandas.core.frame.DataFrame, float | int | pandas.core.frame.DataFrame] | energiapy.components.scope.temporal.incidental.I]]], dict[energiapy.components.scope.temporal.scale.Scale, dict[energiapy.components.scope.temporal.mode.X, set[float | int | pandas.core.frame.DataFrame | tuple[float | int | pandas.core.frame.DataFrame, float | int | pandas.core.frame.DataFrame] | energiapy.components.scope.temporal.incidental.I]]], dict[energiapy.components.scope.spatial.location.Location | energiapy.components.scope.spatial.linkage.Linkage, dict[energiapy.components.scope.temporal.scale.Scale, dict[energiapy.components.scope.temporal.mode.X, set[float | int | pandas.core.frame.DataFrame | tuple[float | int | pandas.core.frame.DataFrame, float | int | pandas.core.frame.DataFrame] | energiapy.components.scope.temporal.incidental.I]]]], Literal[True], list[Union[float, int, pandas.core.frame.DataFrame, tuple[float | int | pandas.core.frame.DataFrame, float | int | pandas.core.frame.DataFrame], Literal[True]]], dict[energiapy.components.scope.spatial.location.Location | energiapy.components.scope.spatial.linkage.Linkage | energiapy.components.scope.spatial.network.Network, Union[float, int, pandas.core.frame.DataFrame, tuple[float | int | pandas.core.frame.DataFrame, float | int | pandas.core.frame.DataFrame], Literal[True], list[Union[float, int, pandas.core.frame.DataFrame, tuple[float | int | pandas.core.frame.DataFrame, float | int | pandas.core.frame.DataFrame], Literal[True]]]]], dict[energiapy.components.scope.temporal.scale.Scale, Union[float, int, pandas.core.frame.DataFrame, tuple[float | int | pandas.core.frame.DataFrame, float | int | pandas.core.frame.DataFrame], Literal[True], list[Union[float, int, pandas.core.frame.DataFrame, tuple[float | int | pandas.core.frame.DataFrame, float | int | pandas.core.frame.DataFrame], Literal[True]]]]], dict[energiapy.components.scope.spatial.location.Location | energiapy.components.scope.spatial.linkage.Linkage | energiapy.components.scope.spatial.network.Network, dict[energiapy.components.scope.temporal.scale.Scale, Union[float, int, pandas.core.frame.DataFrame, tuple[float | int | pandas.core.frame.DataFrame, float | int | pandas.core.frame.DataFrame], Literal[True], list[Union[float, int, pandas.core.frame.DataFrame, tuple[float | int | pandas.core.frame.DataFrame, float | int | pandas.core.frame.DataFrame], Literal[True]]]]]]], attr: str) -> dict\n",
      " |      Recognizes and creates modes\n",
      " |\n",
      " |      Args:\n",
      " |          value (IsInp): any input\n",
      " |          attr (str): attr for which input is being passed\n",
      " |\n",
      " |      Returns:\n",
      " |          dict: Always {Spatial: {Temporal: {Mode (X): value}}}\n",
      " |\n",
      " |  make_spatial(self, value: Union[float, int, pandas.core.frame.DataFrame, tuple[float | int | pandas.core.frame.DataFrame, float | int | pandas.core.frame.DataFrame], dict[energiapy.components.scope.spatial.location.Location | energiapy.components.scope.spatial.linkage.Linkage, float | int | pandas.core.frame.DataFrame | tuple[float | int | pandas.core.frame.DataFrame, float | int | pandas.core.frame.DataFrame]], dict[energiapy.components.scope.temporal.scale.Scale, float | int | pandas.core.frame.DataFrame | tuple[float | int | pandas.core.frame.DataFrame, float | int | pandas.core.frame.DataFrame]], dict[energiapy.components.scope.temporal.mode.X, float | int | pandas.core.frame.DataFrame | tuple[float | int | pandas.core.frame.DataFrame, float | int | pandas.core.frame.DataFrame]], dict[energiapy.components.scope.spatial.location.Location | energiapy.components.scope.spatial.linkage.Linkage, dict[energiapy.components.scope.temporal.scale.Scale, float | int | pandas.core.frame.DataFrame | tuple[float | int | pandas.core.frame.DataFrame, float | int | pandas.core.frame.DataFrame]]], dict[energiapy.components.scope.spatial.location.Location | energiapy.components.scope.spatial.linkage.Linkage, dict[energiapy.components.scope.temporal.mode.X, float | int | pandas.core.frame.DataFrame | tuple[float | int | pandas.core.frame.DataFrame, float | int | pandas.core.frame.DataFrame]]], dict[energiapy.components.scope.temporal.scale.Scale, dict[energiapy.components.scope.temporal.mode.X, float | int | pandas.core.frame.DataFrame | tuple[float | int | pandas.core.frame.DataFrame, float | int | pandas.core.frame.DataFrame]]], dict[energiapy.components.scope.spatial.location.Location | energiapy.components.scope.spatial.linkage.Linkage, dict[energiapy.components.scope.temporal.scale.Scale, dict[energiapy.components.scope.temporal.mode.X, float | int | pandas.core.frame.DataFrame | tuple[float | int | pandas.core.frame.DataFrame, float | int | pandas.core.frame.DataFrame]]]], set[float | int | pandas.core.frame.DataFrame | tuple[float | int | pandas.core.frame.DataFrame, float | int | pandas.core.frame.DataFrame] | energiapy.components.scope.temporal.incidental.I], dict[energiapy.components.scope.spatial.location.Location | energiapy.components.scope.spatial.linkage.Linkage, set[float | int | pandas.core.frame.DataFrame | tuple[float | int | pandas.core.frame.DataFrame, float | int | pandas.core.frame.DataFrame] | energiapy.components.scope.temporal.incidental.I]], dict[energiapy.components.scope.temporal.scale.Scale, set[float | int | pandas.core.frame.DataFrame | tuple[float | int | pandas.core.frame.DataFrame, float | int | pandas.core.frame.DataFrame] | energiapy.components.scope.temporal.incidental.I]], dict[energiapy.components.scope.temporal.mode.X, set[float | int | pandas.core.frame.DataFrame | tuple[float | int | pandas.core.frame.DataFrame, float | int | pandas.core.frame.DataFrame] | energiapy.components.scope.temporal.incidental.I]], dict[energiapy.components.scope.spatial.location.Location | energiapy.components.scope.spatial.linkage.Linkage, dict[energiapy.components.scope.temporal.scale.Scale, set[float | int | pandas.core.frame.DataFrame | tuple[float | int | pandas.core.frame.DataFrame, float | int | pandas.core.frame.DataFrame] | energiapy.components.scope.temporal.incidental.I]]], dict[energiapy.components.scope.spatial.location.Location | energiapy.components.scope.spatial.linkage.Linkage, dict[energiapy.components.scope.temporal.mode.X, set[float | int | pandas.core.frame.DataFrame | tuple[float | int | pandas.core.frame.DataFrame, float | int | pandas.core.frame.DataFrame] | energiapy.components.scope.temporal.incidental.I]]], dict[energiapy.components.scope.temporal.scale.Scale, dict[energiapy.components.scope.temporal.mode.X, set[float | int | pandas.core.frame.DataFrame | tuple[float | int | pandas.core.frame.DataFrame, float | int | pandas.core.frame.DataFrame] | energiapy.components.scope.temporal.incidental.I]]], dict[energiapy.components.scope.spatial.location.Location | energiapy.components.scope.spatial.linkage.Linkage, dict[energiapy.components.scope.temporal.scale.Scale, dict[energiapy.components.scope.temporal.mode.X, set[float | int | pandas.core.frame.DataFrame | tuple[float | int | pandas.core.frame.DataFrame, float | int | pandas.core.frame.DataFrame] | energiapy.components.scope.temporal.incidental.I]]]], Literal[True], list[Union[float, int, pandas.core.frame.DataFrame, tuple[float | int | pandas.core.frame.DataFrame, float | int | pandas.core.frame.DataFrame], Literal[True]]], dict[energiapy.components.scope.spatial.location.Location | energiapy.components.scope.spatial.linkage.Linkage | energiapy.components.scope.spatial.network.Network, Union[float, int, pandas.core.frame.DataFrame, tuple[float | int | pandas.core.frame.DataFrame, float | int | pandas.core.frame.DataFrame], Literal[True], list[Union[float, int, pandas.core.frame.DataFrame, tuple[float | int | pandas.core.frame.DataFrame, float | int | pandas.core.frame.DataFrame], Literal[True]]]]], dict[energiapy.components.scope.temporal.scale.Scale, Union[float, int, pandas.core.frame.DataFrame, tuple[float | int | pandas.core.frame.DataFrame, float | int | pandas.core.frame.DataFrame], Literal[True], list[Union[float, int, pandas.core.frame.DataFrame, tuple[float | int | pandas.core.frame.DataFrame, float | int | pandas.core.frame.DataFrame], Literal[True]]]]], dict[energiapy.components.scope.spatial.location.Location | energiapy.components.scope.spatial.linkage.Linkage | energiapy.components.scope.spatial.network.Network, dict[energiapy.components.scope.temporal.scale.Scale, Union[float, int, pandas.core.frame.DataFrame, tuple[float | int | pandas.core.frame.DataFrame, float | int | pandas.core.frame.DataFrame], Literal[True], list[Union[float, int, pandas.core.frame.DataFrame, tuple[float | int | pandas.core.frame.DataFrame, float | int | pandas.core.frame.DataFrame], Literal[True]]]]]]]) -> dict\n",
      " |      adds spatial disposition to input data if not there already\n",
      " |      defaults to Network\n",
      " |\n",
      " |      Args:\n",
      " |          value (IsInp): any input\n",
      " |          attr (str): attr for which input is being passed\n",
      " |\n",
      " |      Returns:\n",
      " |          dict: Always {Spatial (Location, Linkage, Network): Something}\n",
      " |\n",
      " |  make_spttmpmde(self, value: Union[float, int, pandas.core.frame.DataFrame, tuple[float | int | pandas.core.frame.DataFrame, float | int | pandas.core.frame.DataFrame], dict[energiapy.components.scope.spatial.location.Location | energiapy.components.scope.spatial.linkage.Linkage, float | int | pandas.core.frame.DataFrame | tuple[float | int | pandas.core.frame.DataFrame, float | int | pandas.core.frame.DataFrame]], dict[energiapy.components.scope.temporal.scale.Scale, float | int | pandas.core.frame.DataFrame | tuple[float | int | pandas.core.frame.DataFrame, float | int | pandas.core.frame.DataFrame]], dict[energiapy.components.scope.temporal.mode.X, float | int | pandas.core.frame.DataFrame | tuple[float | int | pandas.core.frame.DataFrame, float | int | pandas.core.frame.DataFrame]], dict[energiapy.components.scope.spatial.location.Location | energiapy.components.scope.spatial.linkage.Linkage, dict[energiapy.components.scope.temporal.scale.Scale, float | int | pandas.core.frame.DataFrame | tuple[float | int | pandas.core.frame.DataFrame, float | int | pandas.core.frame.DataFrame]]], dict[energiapy.components.scope.spatial.location.Location | energiapy.components.scope.spatial.linkage.Linkage, dict[energiapy.components.scope.temporal.mode.X, float | int | pandas.core.frame.DataFrame | tuple[float | int | pandas.core.frame.DataFrame, float | int | pandas.core.frame.DataFrame]]], dict[energiapy.components.scope.temporal.scale.Scale, dict[energiapy.components.scope.temporal.mode.X, float | int | pandas.core.frame.DataFrame | tuple[float | int | pandas.core.frame.DataFrame, float | int | pandas.core.frame.DataFrame]]], dict[energiapy.components.scope.spatial.location.Location | energiapy.components.scope.spatial.linkage.Linkage, dict[energiapy.components.scope.temporal.scale.Scale, dict[energiapy.components.scope.temporal.mode.X, float | int | pandas.core.frame.DataFrame | tuple[float | int | pandas.core.frame.DataFrame, float | int | pandas.core.frame.DataFrame]]]], set[float | int | pandas.core.frame.DataFrame | tuple[float | int | pandas.core.frame.DataFrame, float | int | pandas.core.frame.DataFrame] | energiapy.components.scope.temporal.incidental.I], dict[energiapy.components.scope.spatial.location.Location | energiapy.components.scope.spatial.linkage.Linkage, set[float | int | pandas.core.frame.DataFrame | tuple[float | int | pandas.core.frame.DataFrame, float | int | pandas.core.frame.DataFrame] | energiapy.components.scope.temporal.incidental.I]], dict[energiapy.components.scope.temporal.scale.Scale, set[float | int | pandas.core.frame.DataFrame | tuple[float | int | pandas.core.frame.DataFrame, float | int | pandas.core.frame.DataFrame] | energiapy.components.scope.temporal.incidental.I]], dict[energiapy.components.scope.temporal.mode.X, set[float | int | pandas.core.frame.DataFrame | tuple[float | int | pandas.core.frame.DataFrame, float | int | pandas.core.frame.DataFrame] | energiapy.components.scope.temporal.incidental.I]], dict[energiapy.components.scope.spatial.location.Location | energiapy.components.scope.spatial.linkage.Linkage, dict[energiapy.components.scope.temporal.scale.Scale, set[float | int | pandas.core.frame.DataFrame | tuple[float | int | pandas.core.frame.DataFrame, float | int | pandas.core.frame.DataFrame] | energiapy.components.scope.temporal.incidental.I]]], dict[energiapy.components.scope.spatial.location.Location | energiapy.components.scope.spatial.linkage.Linkage, dict[energiapy.components.scope.temporal.mode.X, set[float | int | pandas.core.frame.DataFrame | tuple[float | int | pandas.core.frame.DataFrame, float | int | pandas.core.frame.DataFrame] | energiapy.components.scope.temporal.incidental.I]]], dict[energiapy.components.scope.temporal.scale.Scale, dict[energiapy.components.scope.temporal.mode.X, set[float | int | pandas.core.frame.DataFrame | tuple[float | int | pandas.core.frame.DataFrame, float | int | pandas.core.frame.DataFrame] | energiapy.components.scope.temporal.incidental.I]]], dict[energiapy.components.scope.spatial.location.Location | energiapy.components.scope.spatial.linkage.Linkage, dict[energiapy.components.scope.temporal.scale.Scale, dict[energiapy.components.scope.temporal.mode.X, set[float | int | pandas.core.frame.DataFrame | tuple[float | int | pandas.core.frame.DataFrame, float | int | pandas.core.frame.DataFrame] | energiapy.components.scope.temporal.incidental.I]]]], Literal[True], list[Union[float, int, pandas.core.frame.DataFrame, tuple[float | int | pandas.core.frame.DataFrame, float | int | pandas.core.frame.DataFrame], Literal[True]]], dict[energiapy.components.scope.spatial.location.Location | energiapy.components.scope.spatial.linkage.Linkage | energiapy.components.scope.spatial.network.Network, Union[float, int, pandas.core.frame.DataFrame, tuple[float | int | pandas.core.frame.DataFrame, float | int | pandas.core.frame.DataFrame], Literal[True], list[Union[float, int, pandas.core.frame.DataFrame, tuple[float | int | pandas.core.frame.DataFrame, float | int | pandas.core.frame.DataFrame], Literal[True]]]]], dict[energiapy.components.scope.temporal.scale.Scale, Union[float, int, pandas.core.frame.DataFrame, tuple[float | int | pandas.core.frame.DataFrame, float | int | pandas.core.frame.DataFrame], Literal[True], list[Union[float, int, pandas.core.frame.DataFrame, tuple[float | int | pandas.core.frame.DataFrame, float | int | pandas.core.frame.DataFrame], Literal[True]]]]], dict[energiapy.components.scope.spatial.location.Location | energiapy.components.scope.spatial.linkage.Linkage | energiapy.components.scope.spatial.network.Network, dict[energiapy.components.scope.temporal.scale.Scale, Union[float, int, pandas.core.frame.DataFrame, tuple[float | int | pandas.core.frame.DataFrame, float | int | pandas.core.frame.DataFrame], Literal[True], list[Union[float, int, pandas.core.frame.DataFrame, tuple[float | int | pandas.core.frame.DataFrame, float | int | pandas.core.frame.DataFrame], Literal[True]]]]]]], attr: str, ok_inconsistent: bool) -> dict[energiapy.components.scope.spatial.location.Location | energiapy.components.scope.spatial.linkage.Linkage, dict[energiapy.components.scope.temporal.scale.Scale, float | int | pandas.core.frame.DataFrame | tuple[float | int | pandas.core.frame.DataFrame, float | int | pandas.core.frame.DataFrame]]] | dict[energiapy.components.scope.spatial.location.Location | energiapy.components.scope.spatial.linkage.Linkage, dict[energiapy.components.scope.temporal.scale.Scale, set[float | int | pandas.core.frame.DataFrame | tuple[float | int | pandas.core.frame.DataFrame, float | int | pandas.core.frame.DataFrame] | energiapy.components.scope.temporal.incidental.I]]] | dict[energiapy.components.scope.spatial.location.Location | energiapy.components.scope.spatial.linkage.Linkage | energiapy.components.scope.spatial.network.Network, dict[energiapy.components.scope.temporal.scale.Scale, typing.Union[float, int, pandas.core.frame.DataFrame, tuple[float | int | pandas.core.frame.DataFrame, float | int | pandas.core.frame.DataFrame], typing.Literal[True], list[typing.Union[float, int, pandas.core.frame.DataFrame, tuple[float | int | pandas.core.frame.DataFrame, float | int | pandas.core.frame.DataFrame], typing.Literal[True]]]]]] | dict[energiapy.components.scope.spatial.location.Location | energiapy.components.scope.spatial.linkage.Linkage, dict[energiapy.components.scope.temporal.scale.Scale, dict[energiapy.components.scope.temporal.mode.X, float | int | pandas.core.frame.DataFrame | tuple[float | int | pandas.core.frame.DataFrame, float | int | pandas.core.frame.DataFrame]]]] | dict[energiapy.components.scope.spatial.location.Location | energiapy.components.scope.spatial.linkage.Linkage, dict[energiapy.components.scope.temporal.scale.Scale, dict[energiapy.components.scope.temporal.mode.X, set[float | int | pandas.core.frame.DataFrame | tuple[float | int | pandas.core.frame.DataFrame, float | int | pandas.core.frame.DataFrame] | energiapy.components.scope.temporal.incidental.I]]]]\n",
      " |      Uses all the above functions to make a consistent input\n",
      " |\n",
      " |      Args:\n",
      " |          value (IsInp): any Input\n",
      " |          attr (str): attr for which input is being passed\n",
      " |          fix_bool (bool): whether to fix indices or just warn.\n",
      " |      Returns:\n",
      " |          IsSptTmpDict: {Spatial: {Temporal: {Mode: value}}} Always!!\n",
      " |\n",
      " |  make_temporal(self, value: Union[float, int, pandas.core.frame.DataFrame, tuple[float | int | pandas.core.frame.DataFrame, float | int | pandas.core.frame.DataFrame], dict[energiapy.components.scope.spatial.location.Location | energiapy.components.scope.spatial.linkage.Linkage, float | int | pandas.core.frame.DataFrame | tuple[float | int | pandas.core.frame.DataFrame, float | int | pandas.core.frame.DataFrame]], dict[energiapy.components.scope.temporal.scale.Scale, float | int | pandas.core.frame.DataFrame | tuple[float | int | pandas.core.frame.DataFrame, float | int | pandas.core.frame.DataFrame]], dict[energiapy.components.scope.temporal.mode.X, float | int | pandas.core.frame.DataFrame | tuple[float | int | pandas.core.frame.DataFrame, float | int | pandas.core.frame.DataFrame]], dict[energiapy.components.scope.spatial.location.Location | energiapy.components.scope.spatial.linkage.Linkage, dict[energiapy.components.scope.temporal.scale.Scale, float | int | pandas.core.frame.DataFrame | tuple[float | int | pandas.core.frame.DataFrame, float | int | pandas.core.frame.DataFrame]]], dict[energiapy.components.scope.spatial.location.Location | energiapy.components.scope.spatial.linkage.Linkage, dict[energiapy.components.scope.temporal.mode.X, float | int | pandas.core.frame.DataFrame | tuple[float | int | pandas.core.frame.DataFrame, float | int | pandas.core.frame.DataFrame]]], dict[energiapy.components.scope.temporal.scale.Scale, dict[energiapy.components.scope.temporal.mode.X, float | int | pandas.core.frame.DataFrame | tuple[float | int | pandas.core.frame.DataFrame, float | int | pandas.core.frame.DataFrame]]], dict[energiapy.components.scope.spatial.location.Location | energiapy.components.scope.spatial.linkage.Linkage, dict[energiapy.components.scope.temporal.scale.Scale, dict[energiapy.components.scope.temporal.mode.X, float | int | pandas.core.frame.DataFrame | tuple[float | int | pandas.core.frame.DataFrame, float | int | pandas.core.frame.DataFrame]]]], set[float | int | pandas.core.frame.DataFrame | tuple[float | int | pandas.core.frame.DataFrame, float | int | pandas.core.frame.DataFrame] | energiapy.components.scope.temporal.incidental.I], dict[energiapy.components.scope.spatial.location.Location | energiapy.components.scope.spatial.linkage.Linkage, set[float | int | pandas.core.frame.DataFrame | tuple[float | int | pandas.core.frame.DataFrame, float | int | pandas.core.frame.DataFrame] | energiapy.components.scope.temporal.incidental.I]], dict[energiapy.components.scope.temporal.scale.Scale, set[float | int | pandas.core.frame.DataFrame | tuple[float | int | pandas.core.frame.DataFrame, float | int | pandas.core.frame.DataFrame] | energiapy.components.scope.temporal.incidental.I]], dict[energiapy.components.scope.temporal.mode.X, set[float | int | pandas.core.frame.DataFrame | tuple[float | int | pandas.core.frame.DataFrame, float | int | pandas.core.frame.DataFrame] | energiapy.components.scope.temporal.incidental.I]], dict[energiapy.components.scope.spatial.location.Location | energiapy.components.scope.spatial.linkage.Linkage, dict[energiapy.components.scope.temporal.scale.Scale, set[float | int | pandas.core.frame.DataFrame | tuple[float | int | pandas.core.frame.DataFrame, float | int | pandas.core.frame.DataFrame] | energiapy.components.scope.temporal.incidental.I]]], dict[energiapy.components.scope.spatial.location.Location | energiapy.components.scope.spatial.linkage.Linkage, dict[energiapy.components.scope.temporal.mode.X, set[float | int | pandas.core.frame.DataFrame | tuple[float | int | pandas.core.frame.DataFrame, float | int | pandas.core.frame.DataFrame] | energiapy.components.scope.temporal.incidental.I]]], dict[energiapy.components.scope.temporal.scale.Scale, dict[energiapy.components.scope.temporal.mode.X, set[float | int | pandas.core.frame.DataFrame | tuple[float | int | pandas.core.frame.DataFrame, float | int | pandas.core.frame.DataFrame] | energiapy.components.scope.temporal.incidental.I]]], dict[energiapy.components.scope.spatial.location.Location | energiapy.components.scope.spatial.linkage.Linkage, dict[energiapy.components.scope.temporal.scale.Scale, dict[energiapy.components.scope.temporal.mode.X, set[float | int | pandas.core.frame.DataFrame | tuple[float | int | pandas.core.frame.DataFrame, float | int | pandas.core.frame.DataFrame] | energiapy.components.scope.temporal.incidental.I]]]], Literal[True], list[Union[float, int, pandas.core.frame.DataFrame, tuple[float | int | pandas.core.frame.DataFrame, float | int | pandas.core.frame.DataFrame], Literal[True]]], dict[energiapy.components.scope.spatial.location.Location | energiapy.components.scope.spatial.linkage.Linkage | energiapy.components.scope.spatial.network.Network, Union[float, int, pandas.core.frame.DataFrame, tuple[float | int | pandas.core.frame.DataFrame, float | int | pandas.core.frame.DataFrame], Literal[True], list[Union[float, int, pandas.core.frame.DataFrame, tuple[float | int | pandas.core.frame.DataFrame, float | int | pandas.core.frame.DataFrame], Literal[True]]]]], dict[energiapy.components.scope.temporal.scale.Scale, Union[float, int, pandas.core.frame.DataFrame, tuple[float | int | pandas.core.frame.DataFrame, float | int | pandas.core.frame.DataFrame], Literal[True], list[Union[float, int, pandas.core.frame.DataFrame, tuple[float | int | pandas.core.frame.DataFrame, float | int | pandas.core.frame.DataFrame], Literal[True]]]]], dict[energiapy.components.scope.spatial.location.Location | energiapy.components.scope.spatial.linkage.Linkage | energiapy.components.scope.spatial.network.Network, dict[energiapy.components.scope.temporal.scale.Scale, Union[float, int, pandas.core.frame.DataFrame, tuple[float | int | pandas.core.frame.DataFrame, float | int | pandas.core.frame.DataFrame], Literal[True], list[Union[float, int, pandas.core.frame.DataFrame, tuple[float | int | pandas.core.frame.DataFrame, float | int | pandas.core.frame.DataFrame], Literal[True]]]]]]]) -> dict\n",
      " |      adds temporal disposition to input data if not there already\n",
      " |      puts a _Dummy.T temporarily\n",
      " |\n",
      " |      Args:\n",
      " |          value (IsInp): any input\n",
      " |\n",
      " |      Returns:\n",
      " |          dict: Always {Spatial: {Temporal (Scale): Something}}\n",
      " |\n",
      " |  match_scale(self, val: Union[float, int, pandas.core.frame.DataFrame, tuple[float | int | pandas.core.frame.DataFrame, float | int | pandas.core.frame.DataFrame], Literal[True], list[Union[float, int, pandas.core.frame.DataFrame, tuple[float | int | pandas.core.frame.DataFrame, float | int | pandas.core.frame.DataFrame], Literal[True]]]], tmp: energiapy.components.scope.temporal.scale.Scale | energiapy.components._base._dummy._Dummy, attr: str) -> energiapy.components.scope.temporal.scale.Scale\n",
      " |      checks whether a dataframe is given.\n",
      " |      if df, then sets to a matching scale or gives warning\n",
      " |      if not df, sets to parent scale\n",
      " |\n",
      " |      Args:\n",
      " |          val (Any): Any incoming value\n",
      " |          tmp (Scale, _Dummy]): Temporal disposition\n",
      " |          attr (str): attr for which input is being passed\n",
      " |      Returns:\n",
      " |          Scale: Updated scale\n",
      " |\n",
      " |  replace_dummy_n(self, spttmpmdeval: dict, attr: str) -> dict\n",
      " |      Replaces the dummy N in the input\n",
      " |\n",
      " |      Args:\n",
      " |          spttmpmdeval (dict): {Spatial: {Temporal: {Mode: value}}}\n",
      " |          attr (str): attr for which input is being passed\n",
      " |\n",
      " |      Returns:\n",
      " |          dict: {Spatial: {Temporal: {Mode: value}}}\n",
      " |\n",
      " |  replace_dummy_t(self, spttmpmdeval: dict) -> dict\n",
      " |      Replaces the dummy T in the input\n",
      " |\n",
      " |      Args:\n",
      " |          spttmpmdeval (dict): {Spatial: {Temporal: {Mode: value}}}\n",
      " |\n",
      " |      Returns:\n",
      " |          dict: {Spatial: {Temporal: {Mode: value}}}\n",
      " |\n",
      " |  replace_dummy_x(self, spttmpmdeval: dict) -> dict\n",
      " |      Replaces the dummy X in the input\n",
      " |\n",
      " |      Args:\n",
      " |          spttmpmdeval (dict): {Spatial: {Temporal: {Mode: value}}}\n",
      " |\n",
      " |      Returns:\n",
      " |          dict: {Spatial: {Temporal: {Mode: value}}} or {Spatial: {Temporal: value}}\n",
      " |\n",
      " |  upd_dict(self, value: Union[float, int, pandas.core.frame.DataFrame, tuple[float | int | pandas.core.frame.DataFrame, float | int | pandas.core.frame.DataFrame], dict[energiapy.components.scope.spatial.location.Location | energiapy.components.scope.spatial.linkage.Linkage, float | int | pandas.core.frame.DataFrame | tuple[float | int | pandas.core.frame.DataFrame, float | int | pandas.core.frame.DataFrame]], dict[energiapy.components.scope.temporal.scale.Scale, float | int | pandas.core.frame.DataFrame | tuple[float | int | pandas.core.frame.DataFrame, float | int | pandas.core.frame.DataFrame]], dict[energiapy.components.scope.temporal.mode.X, float | int | pandas.core.frame.DataFrame | tuple[float | int | pandas.core.frame.DataFrame, float | int | pandas.core.frame.DataFrame]], dict[energiapy.components.scope.spatial.location.Location | energiapy.components.scope.spatial.linkage.Linkage, dict[energiapy.components.scope.temporal.scale.Scale, float | int | pandas.core.frame.DataFrame | tuple[float | int | pandas.core.frame.DataFrame, float | int | pandas.core.frame.DataFrame]]], dict[energiapy.components.scope.spatial.location.Location | energiapy.components.scope.spatial.linkage.Linkage, dict[energiapy.components.scope.temporal.mode.X, float | int | pandas.core.frame.DataFrame | tuple[float | int | pandas.core.frame.DataFrame, float | int | pandas.core.frame.DataFrame]]], dict[energiapy.components.scope.temporal.scale.Scale, dict[energiapy.components.scope.temporal.mode.X, float | int | pandas.core.frame.DataFrame | tuple[float | int | pandas.core.frame.DataFrame, float | int | pandas.core.frame.DataFrame]]], dict[energiapy.components.scope.spatial.location.Location | energiapy.components.scope.spatial.linkage.Linkage, dict[energiapy.components.scope.temporal.scale.Scale, dict[energiapy.components.scope.temporal.mode.X, float | int | pandas.core.frame.DataFrame | tuple[float | int | pandas.core.frame.DataFrame, float | int | pandas.core.frame.DataFrame]]]], set[float | int | pandas.core.frame.DataFrame | tuple[float | int | pandas.core.frame.DataFrame, float | int | pandas.core.frame.DataFrame] | energiapy.components.scope.temporal.incidental.I], dict[energiapy.components.scope.spatial.location.Location | energiapy.components.scope.spatial.linkage.Linkage, set[float | int | pandas.core.frame.DataFrame | tuple[float | int | pandas.core.frame.DataFrame, float | int | pandas.core.frame.DataFrame] | energiapy.components.scope.temporal.incidental.I]], dict[energiapy.components.scope.temporal.scale.Scale, set[float | int | pandas.core.frame.DataFrame | tuple[float | int | pandas.core.frame.DataFrame, float | int | pandas.core.frame.DataFrame] | energiapy.components.scope.temporal.incidental.I]], dict[energiapy.components.scope.temporal.mode.X, set[float | int | pandas.core.frame.DataFrame | tuple[float | int | pandas.core.frame.DataFrame, float | int | pandas.core.frame.DataFrame] | energiapy.components.scope.temporal.incidental.I]], dict[energiapy.components.scope.spatial.location.Location | energiapy.components.scope.spatial.linkage.Linkage, dict[energiapy.components.scope.temporal.scale.Scale, set[float | int | pandas.core.frame.DataFrame | tuple[float | int | pandas.core.frame.DataFrame, float | int | pandas.core.frame.DataFrame] | energiapy.components.scope.temporal.incidental.I]]], dict[energiapy.components.scope.spatial.location.Location | energiapy.components.scope.spatial.linkage.Linkage, dict[energiapy.components.scope.temporal.mode.X, set[float | int | pandas.core.frame.DataFrame | tuple[float | int | pandas.core.frame.DataFrame, float | int | pandas.core.frame.DataFrame] | energiapy.components.scope.temporal.incidental.I]]], dict[energiapy.components.scope.temporal.scale.Scale, dict[energiapy.components.scope.temporal.mode.X, set[float | int | pandas.core.frame.DataFrame | tuple[float | int | pandas.core.frame.DataFrame, float | int | pandas.core.frame.DataFrame] | energiapy.components.scope.temporal.incidental.I]]], dict[energiapy.components.scope.spatial.location.Location | energiapy.components.scope.spatial.linkage.Linkage, dict[energiapy.components.scope.temporal.scale.Scale, dict[energiapy.components.scope.temporal.mode.X, set[float | int | pandas.core.frame.DataFrame | tuple[float | int | pandas.core.frame.DataFrame, float | int | pandas.core.frame.DataFrame] | energiapy.components.scope.temporal.incidental.I]]]], Literal[True], list[Union[float, int, pandas.core.frame.DataFrame, tuple[float | int | pandas.core.frame.DataFrame, float | int | pandas.core.frame.DataFrame], Literal[True]]], dict[energiapy.components.scope.spatial.location.Location | energiapy.components.scope.spatial.linkage.Linkage | energiapy.components.scope.spatial.network.Network, Union[float, int, pandas.core.frame.DataFrame, tuple[float | int | pandas.core.frame.DataFrame, float | int | pandas.core.frame.DataFrame], Literal[True], list[Union[float, int, pandas.core.frame.DataFrame, tuple[float | int | pandas.core.frame.DataFrame, float | int | pandas.core.frame.DataFrame], Literal[True]]]]], dict[energiapy.components.scope.temporal.scale.Scale, Union[float, int, pandas.core.frame.DataFrame, tuple[float | int | pandas.core.frame.DataFrame, float | int | pandas.core.frame.DataFrame], Literal[True], list[Union[float, int, pandas.core.frame.DataFrame, tuple[float | int | pandas.core.frame.DataFrame, float | int | pandas.core.frame.DataFrame], Literal[True]]]]], dict[energiapy.components.scope.spatial.location.Location | energiapy.components.scope.spatial.linkage.Linkage | energiapy.components.scope.spatial.network.Network, dict[energiapy.components.scope.temporal.scale.Scale, Union[float, int, pandas.core.frame.DataFrame, tuple[float | int | pandas.core.frame.DataFrame, float | int | pandas.core.frame.DataFrame], Literal[True], list[Union[float, int, pandas.core.frame.DataFrame, tuple[float | int | pandas.core.frame.DataFrame, float | int | pandas.core.frame.DataFrame], Literal[True]]]]]]], level: str) -> dict\n",
      " |      Returns an empty dict with the same keys as the input\n",
      " |\n",
      " |      Args:\n",
      " |          value (IsInp): any input\n",
      " |\n",
      " |      Returns:\n",
      " |          dict: empty dict with same keys as input\n",
      " |\n",
      " |  ----------------------------------------------------------------------\n",
      " |  Data descriptors inherited from energiapy.components._base._consistent._Consistent:\n",
      " |\n",
      " |  consistent\n",
      " |      Checks if the inputs have been made consistent\n",
      " |\n",
      " |  ----------------------------------------------------------------------\n",
      " |  Readonly properties inherited from energiapy.core._handy._collections._Vlus:\n",
      " |\n",
      " |  constants\n",
      " |      All Constants in the Data\n",
      " |\n",
      " |  data_all\n",
      " |      All Data in the Data\n",
      " |\n",
      " |  datasets\n",
      " |      All Datasets in the Data\n",
      " |\n",
      " |  ms\n",
      " |      All M in the Data\n",
      " |\n",
      " |  thetas\n",
      " |      All Thetas in the Data\n",
      " |\n",
      " |  ----------------------------------------------------------------------\n",
      " |  Readonly properties inherited from energiapy.core._handy._collections._Elms:\n",
      " |\n",
      " |  constraints\n",
      " |      All Constraints in the Program\n",
      " |\n",
      " |  indices\n",
      " |      All Indexs in the Program\n",
      " |\n",
      " |  parameters\n",
      " |      All Parameters in the Program\n",
      " |\n",
      " |  variables\n",
      " |      All Variables in the Program\n",
      " |\n",
      " |  ----------------------------------------------------------------------\n",
      " |  Methods inherited from energiapy.core._handy._printers._Print:\n",
      " |\n",
      " |  latex(self)\n",
      " |      Returns the latex\n",
      " |\n",
      " |  pprint(self)\n",
      " |      Pretty prints the component\n",
      "\n"
     ]
    }
   ],
   "source": [
    "help(Process)"
   ]
  },
  {
   "cell_type": "code",
   "execution_count": 27,
   "metadata": {},
   "outputs": [
    {
     "data": {
      "text/latex": [
       "$\\displaystyle {spend}_{csh,madgaon,t_{0}} \\geq 0$"
      ],
      "text/plain": [
       "<IPython.core.display.Math object>"
      ]
     },
     "metadata": {},
     "output_type": "display_data"
    },
    {
     "data": {
      "text/latex": [
       "$\\displaystyle {spend}_{csh,madgaon,t_{0}} \\leq M$"
      ],
      "text/plain": [
       "<IPython.core.display.Math object>"
      ]
     },
     "metadata": {},
     "output_type": "display_data"
    },
    {
     "data": {
      "text/latex": [
       "$\\displaystyle {spend}_{csh,ponje,t_{1}} = {θ}_{csh,ponje,t_{1}}$"
      ],
      "text/plain": [
       "<IPython.core.display.Math object>"
      ]
     },
     "metadata": {},
     "output_type": "display_data"
    },
    {
     "data": {
      "text/latex": [
       "$\\displaystyle {spend}_{csh,cacoda,t_{1}} = {DtSt}_{csh,cacoda,t_{1}}$"
      ],
      "text/plain": [
       "<IPython.core.display.Math object>"
      ]
     },
     "metadata": {},
     "output_type": "display_data"
    },
    {
     "data": {
      "text/latex": [
       "$\\displaystyle {spend}_{csh,net,t_{2}} \\geq 5$"
      ],
      "text/plain": [
       "<IPython.core.display.Math object>"
      ]
     },
     "metadata": {},
     "output_type": "display_data"
    },
    {
     "data": {
      "text/latex": [
       "$\\displaystyle {spend}_{csh,net,t_{2}} \\leq 7$"
      ],
      "text/plain": [
       "<IPython.core.display.Math object>"
      ]
     },
     "metadata": {},
     "output_type": "display_data"
    },
    {
     "data": {
      "text/latex": [
       "$\\displaystyle {exp^{sell}}_{csh,H_{2},cacoda,t_{0}} = {sell}_{H_{2},cacoda,t_{0}} \\cdot 300$"
      ],
      "text/plain": [
       "<IPython.core.display.Math object>"
      ]
     },
     "metadata": {},
     "output_type": "display_data"
    },
    {
     "data": {
      "text/latex": [
       "$\\displaystyle {exp^{sell}}_{csh,H_{2},madgaon,t_{1}} = {sell}_{H_{2},madgaon,t_{1}} \\cdot {θ}_{csh,H_{2},madgaon,t_{1}}$"
      ],
      "text/plain": [
       "<IPython.core.display.Math object>"
      ]
     },
     "metadata": {},
     "output_type": "display_data"
    },
    {
     "data": {
      "text/latex": [
       "$\\displaystyle {exp^{sell}}_{csh,H_{2},ponje,t_{2}} = {sell}_{H_{2},ponje,t_{2}} \\cdot {θ}_{csh,H_{2},ponje,t_{2}}$"
      ],
      "text/plain": [
       "<IPython.core.display.Math object>"
      ]
     },
     "metadata": {},
     "output_type": "display_data"
    },
    {
     "data": {
      "text/latex": [
       "$\\displaystyle {buy}_{Solar,net,t_{0}} \\geq 0$"
      ],
      "text/plain": [
       "<IPython.core.display.Math object>"
      ]
     },
     "metadata": {},
     "output_type": "display_data"
    },
    {
     "data": {
      "text/latex": [
       "$\\displaystyle {buy}_{Solar,net,t_{0}} \\leq M$"
      ],
      "text/plain": [
       "<IPython.core.display.Math object>"
      ]
     },
     "metadata": {},
     "output_type": "display_data"
    },
    {
     "data": {
      "text/latex": [
       "$\\displaystyle {buy}_{Wind,net,t_{1}} = {DtSt}_{Wind,net,t_{1}}$"
      ],
      "text/plain": [
       "<IPython.core.display.Math object>"
      ]
     },
     "metadata": {},
     "output_type": "display_data"
    },
    {
     "data": {
      "text/latex": [
       "$\\displaystyle {buy}_{Power,net,t_{1}} \\geq 0$"
      ],
      "text/plain": [
       "<IPython.core.display.Math object>"
      ]
     },
     "metadata": {},
     "output_type": "display_data"
    },
    {
     "data": {
      "text/latex": [
       "$\\displaystyle {buy}_{Power,net,t_{1}} \\leq {DtSt^{max}}_{Power,net,t_{1}}$"
      ],
      "text/plain": [
       "<IPython.core.display.Math object>"
      ]
     },
     "metadata": {},
     "output_type": "display_data"
    },
    {
     "data": {
      "text/latex": [
       "$\\displaystyle {buy}_{Uranium,net,t_{2}} = {DtSt}_{Uranium,net,t_{2}}$"
      ],
      "text/plain": [
       "<IPython.core.display.Math object>"
      ]
     },
     "metadata": {},
     "output_type": "display_data"
    },
    {
     "data": {
      "text/latex": [
       "$\\displaystyle {exp^{buy}}_{csh,Uranium,cacoda,t_{0}} = {buy}_{Uranium,cacoda,t_{0}} \\cdot 0.3416$"
      ],
      "text/plain": [
       "<IPython.core.display.Math object>"
      ]
     },
     "metadata": {},
     "output_type": "display_data"
    },
    {
     "data": {
      "text/latex": [
       "$\\displaystyle {exp^{buy}}_{csh,Uranium,madgaon,t_{0}} = {buy}_{Uranium,madgaon,t_{0}} \\cdot 0.3416$"
      ],
      "text/plain": [
       "<IPython.core.display.Math object>"
      ]
     },
     "metadata": {},
     "output_type": "display_data"
    },
    {
     "data": {
      "text/latex": [
       "$\\displaystyle {exp^{buy}}_{csh,Uranium,ponje,t_{0}} = {buy}_{Uranium,ponje,t_{0}} \\cdot 0.3416$"
      ],
      "text/plain": [
       "<IPython.core.display.Math object>"
      ]
     },
     "metadata": {},
     "output_type": "display_data"
    },
    {
     "data": {
      "text/latex": [
       "$\\displaystyle {buy}_{H2O,net,t_{0}} = {θ}_{H2O,net,t_{0}}$"
      ],
      "text/plain": [
       "<IPython.core.display.Math object>"
      ]
     },
     "metadata": {},
     "output_type": "display_data"
    },
    {
     "data": {
      "text/latex": [
       "$\\displaystyle {exp^{buy}}_{csh,H2O,cacoda,t_{2}} = {DtSt}_{csh,H2O,cacoda,t_{2}} \\cdot {buy}_{H2O,cacoda,t_{2}}$"
      ],
      "text/plain": [
       "<IPython.core.display.Math object>"
      ]
     },
     "metadata": {},
     "output_type": "display_data"
    },
    {
     "data": {
      "text/latex": [
       "$\\displaystyle {exp^{buy}}_{csh,H2O,madgaon,t_{2}} = {DtSt}_{csh,H2O,madgaon,t_{2}} \\cdot {buy}_{H2O,madgaon,t_{2}}$"
      ],
      "text/plain": [
       "<IPython.core.display.Math object>"
      ]
     },
     "metadata": {},
     "output_type": "display_data"
    },
    {
     "data": {
      "text/latex": [
       "$\\displaystyle {exp^{buy}}_{csh,H2O,ponje,t_{2}} = {DtSt}_{csh,H2O,ponje,t_{2}} \\cdot {buy}_{H2O,ponje,t_{2}}$"
      ],
      "text/plain": [
       "<IPython.core.display.Math object>"
      ]
     },
     "metadata": {},
     "output_type": "display_data"
    },
    {
     "data": {
      "text/latex": [
       "$\\displaystyle {buy}_{CH_{4},net,t_{0}} \\geq 20$"
      ],
      "text/plain": [
       "<IPython.core.display.Math object>"
      ]
     },
     "metadata": {},
     "output_type": "display_data"
    },
    {
     "data": {
      "text/latex": [
       "$\\displaystyle {buy}_{CH_{4},net,t_{0}} \\leq 40$"
      ],
      "text/plain": [
       "<IPython.core.display.Math object>"
      ]
     },
     "metadata": {},
     "output_type": "display_data"
    },
    {
     "data": {
      "text/latex": [
       "$\\displaystyle {exp^{buy}}_{csh,CH_{4},cacoda,t_{0}} = {buy}_{CH_{4},cacoda,t_{0}} \\cdot 20$"
      ],
      "text/plain": [
       "<IPython.core.display.Math object>"
      ]
     },
     "metadata": {},
     "output_type": "display_data"
    },
    {
     "data": {
      "text/latex": [
       "$\\displaystyle {exp^{buy}}_{csh,CH_{4},madgaon,t_{0}} = {buy}_{CH_{4},madgaon,t_{0}} \\cdot 20$"
      ],
      "text/plain": [
       "<IPython.core.display.Math object>"
      ]
     },
     "metadata": {},
     "output_type": "display_data"
    },
    {
     "data": {
      "text/latex": [
       "$\\displaystyle {exp^{buy}}_{csh,CH_{4},ponje,t_{0}} = {buy}_{CH_{4},ponje,t_{0}} \\cdot 20$"
      ],
      "text/plain": [
       "<IPython.core.display.Math object>"
      ]
     },
     "metadata": {},
     "output_type": "display_data"
    },
    {
     "data": {
      "text/latex": [
       "$\\displaystyle {exp^{sell}}_{csh,CO_{2 Vent},cacoda,t_{0}} = {sell}_{CO_{2 Vent},cacoda,t_{0}} \\cdot {θ}_{csh,CO_{2 Vent},cacoda,t_{0}}$"
      ],
      "text/plain": [
       "<IPython.core.display.Math object>"
      ]
     },
     "metadata": {},
     "output_type": "display_data"
    },
    {
     "data": {
      "text/latex": [
       "$\\displaystyle {exp^{sell}}_{csh,CO_{2 Vent},madgaon,t_{0}} = {sell}_{CO_{2 Vent},madgaon,t_{0}} \\cdot {θ}_{csh,CO_{2 Vent},madgaon,t_{0}}$"
      ],
      "text/plain": [
       "<IPython.core.display.Math object>"
      ]
     },
     "metadata": {},
     "output_type": "display_data"
    },
    {
     "data": {
      "text/latex": [
       "$\\displaystyle {exp^{sell}}_{csh,CO_{2 Vent},ponje,t_{0}} = {sell}_{CO_{2 Vent},ponje,t_{0}} \\cdot {θ}_{csh,CO_{2 Vent},ponje,t_{0}}$"
      ],
      "text/plain": [
       "<IPython.core.display.Math object>"
      ]
     },
     "metadata": {},
     "output_type": "display_data"
    },
    {
     "data": {
      "text/latex": [
       "$\\displaystyle {emit^{sell}}_{gwp,CO_{2 Vent},cacoda,t_{2}} = {DtSt}_{gwp,CO_{2 Vent},cacoda,t_{2}} \\cdot {sell}_{CO_{2 Vent},cacoda,t_{2}}$"
      ],
      "text/plain": [
       "<IPython.core.display.Math object>"
      ]
     },
     "metadata": {},
     "output_type": "display_data"
    },
    {
     "data": {
      "text/latex": [
       "$\\displaystyle {emit^{sell}}_{gwp,CO_{2 Vent},madgaon,t_{2}} = {DtSt}_{gwp,CO_{2 Vent},madgaon,t_{2}} \\cdot {sell}_{CO_{2 Vent},madgaon,t_{2}}$"
      ],
      "text/plain": [
       "<IPython.core.display.Math object>"
      ]
     },
     "metadata": {},
     "output_type": "display_data"
    },
    {
     "data": {
      "text/latex": [
       "$\\displaystyle {emit^{sell}}_{gwp,CO_{2 Vent},ponje,t_{2}} = {DtSt}_{gwp,CO_{2 Vent},ponje,t_{2}} \\cdot {sell}_{CO_{2 Vent},ponje,t_{2}}$"
      ],
      "text/plain": [
       "<IPython.core.display.Math object>"
      ]
     },
     "metadata": {},
     "output_type": "display_data"
    },
    {
     "data": {
      "text/latex": [
       "$\\displaystyle {sell}_{O_{2},net,t_{0}} \\geq 20$"
      ],
      "text/plain": [
       "<IPython.core.display.Math object>"
      ]
     },
     "metadata": {},
     "output_type": "display_data"
    },
    {
     "data": {
      "text/latex": [
       "$\\displaystyle {sell}_{O_{2},net,t_{0}} \\leq M$"
      ],
      "text/plain": [
       "<IPython.core.display.Math object>"
      ]
     },
     "metadata": {},
     "output_type": "display_data"
    },
    {
     "data": {
      "text/latex": [
       "$\\displaystyle {use}_{LiR,ponje,t_{0}} = 1.5$"
      ],
      "text/plain": [
       "<IPython.core.display.Math object>"
      ]
     },
     "metadata": {},
     "output_type": "display_data"
    },
    {
     "data": {
      "text/latex": [
       "$\\displaystyle {emit^{use}}_{gwp,LiR,cacoda,t_{0}} = {use}_{LiR,cacoda,t_{0}} \\cdot 1.484$"
      ],
      "text/plain": [
       "<IPython.core.display.Math object>"
      ]
     },
     "metadata": {},
     "output_type": "display_data"
    },
    {
     "data": {
      "text/latex": [
       "$\\displaystyle {emit^{use}}_{gwp,LiR,madgaon,t_{0}} = {use}_{LiR,madgaon,t_{0}} \\cdot 1.484$"
      ],
      "text/plain": [
       "<IPython.core.display.Math object>"
      ]
     },
     "metadata": {},
     "output_type": "display_data"
    },
    {
     "data": {
      "text/latex": [
       "$\\displaystyle {emit^{use}}_{gwp,LiR,ponje,t_{0}} = {use}_{LiR,ponje,t_{0}} \\cdot 1.484$"
      ],
      "text/plain": [
       "<IPython.core.display.Math object>"
      ]
     },
     "metadata": {},
     "output_type": "display_data"
    },
    {
     "data": {
      "text/latex": [
       "$\\displaystyle {capacity}_{WF,net,t_{0}} = 1000$"
      ],
      "text/plain": [
       "<IPython.core.display.Math object>"
      ]
     },
     "metadata": {},
     "output_type": "display_data"
    },
    {
     "data": {
      "text/latex": [
       "$\\displaystyle {operate}_{WF,net,t_{0}} \\geq {capacity}_{WF,net,t_{0}} \\cdot {θ^{min}}_{WF,net,t_{0}}$"
      ],
      "text/plain": [
       "<IPython.core.display.Math object>"
      ]
     },
     "metadata": {},
     "output_type": "display_data"
    },
    {
     "data": {
      "text/latex": [
       "$\\displaystyle {operate}_{WF,net,t_{0}} \\leq {capacity}_{WF,net,t_{0}} \\cdot {θ^{max}}_{WF,net,t_{0}}$"
      ],
      "text/plain": [
       "<IPython.core.display.Math object>"
      ]
     },
     "metadata": {},
     "output_type": "display_data"
    },
    {
     "data": {
      "text/latex": [
       "$\\displaystyle {use^{setup}}_{lnd_{def},WF,cacoda,t_{0}} = {capacity}_{WF,cacoda,t_{0}} \\cdot 30$"
      ],
      "text/plain": [
       "<IPython.core.display.Math object>"
      ]
     },
     "metadata": {},
     "output_type": "display_data"
    },
    {
     "data": {
      "text/latex": [
       "$\\displaystyle {use^{setup}}_{lnd_{def},WF,madgaon,t_{0}} = {capacity}_{WF,madgaon,t_{0}} \\cdot 30$"
      ],
      "text/plain": [
       "<IPython.core.display.Math object>"
      ]
     },
     "metadata": {},
     "output_type": "display_data"
    },
    {
     "data": {
      "text/latex": [
       "$\\displaystyle {use^{setup}}_{lnd_{def},WF,ponje,t_{0}} = {capacity}_{WF,ponje,t_{0}} \\cdot 30$"
      ],
      "text/plain": [
       "<IPython.core.display.Math object>"
      ]
     },
     "metadata": {},
     "output_type": "display_data"
    },
    {
     "data": {
      "text/latex": [
       "$\\displaystyle {use^{setup}}_{LiR,WF,cacoda,t_{0}} = {capacity}_{WF,cacoda,t_{0}} \\cdot 1.5$"
      ],
      "text/plain": [
       "<IPython.core.display.Math object>"
      ]
     },
     "metadata": {},
     "output_type": "display_data"
    },
    {
     "data": {
      "text/latex": [
       "$\\displaystyle {use^{setup}}_{LiR,WF,madgaon,t_{0}} = {capacity}_{WF,madgaon,t_{0}} \\cdot 1.5$"
      ],
      "text/plain": [
       "<IPython.core.display.Math object>"
      ]
     },
     "metadata": {},
     "output_type": "display_data"
    },
    {
     "data": {
      "text/latex": [
       "$\\displaystyle {use^{setup}}_{LiR,WF,ponje,t_{0}} = {capacity}_{WF,ponje,t_{0}} \\cdot 1.5$"
      ],
      "text/plain": [
       "<IPython.core.display.Math object>"
      ]
     },
     "metadata": {},
     "output_type": "display_data"
    },
    {
     "data": {
      "text/latex": [
       "$\\displaystyle {emit^{setup}}_{gwp,WF,cacoda,t_{0}} = {capacity}_{WF,cacoda,t_{0}} \\cdot 50$"
      ],
      "text/plain": [
       "<IPython.core.display.Math object>"
      ]
     },
     "metadata": {},
     "output_type": "display_data"
    },
    {
     "data": {
      "text/latex": [
       "$\\displaystyle {emit^{setup}}_{gwp,WF,madgaon,t_{0}} = {capacity}_{WF,madgaon,t_{0}} \\cdot 50$"
      ],
      "text/plain": [
       "<IPython.core.display.Math object>"
      ]
     },
     "metadata": {},
     "output_type": "display_data"
    },
    {
     "data": {
      "text/latex": [
       "$\\displaystyle {emit^{setup}}_{gwp,WF,ponje,t_{0}} = {capacity}_{WF,ponje,t_{0}} \\cdot 50$"
      ],
      "text/plain": [
       "<IPython.core.display.Math object>"
      ]
     },
     "metadata": {},
     "output_type": "display_data"
    },
    {
     "data": {
      "text/latex": [
       "$\\displaystyle {emit^{setup}}_{odp,WF,cacoda,t_{0}} = {capacity}_{WF,cacoda,t_{0}} \\cdot 2900$"
      ],
      "text/plain": [
       "<IPython.core.display.Math object>"
      ]
     },
     "metadata": {},
     "output_type": "display_data"
    },
    {
     "data": {
      "text/latex": [
       "$\\displaystyle {emit^{setup}}_{odp,WF,madgaon,t_{0}} = {capacity}_{WF,madgaon,t_{0}} \\cdot 2900$"
      ],
      "text/plain": [
       "<IPython.core.display.Math object>"
      ]
     },
     "metadata": {},
     "output_type": "display_data"
    },
    {
     "data": {
      "text/latex": [
       "$\\displaystyle {emit^{setup}}_{odp,WF,ponje,t_{0}} = {capacity}_{WF,ponje,t_{0}} \\cdot 2900$"
      ],
      "text/plain": [
       "<IPython.core.display.Math object>"
      ]
     },
     "metadata": {},
     "output_type": "display_data"
    },
    {
     "data": {
      "text/latex": [
       "$\\displaystyle {capex}_{csh,WF,madgaon,t_{1}} = {capacity}_{WF,madgaon,t_{1}} \\cdot 1462000$"
      ],
      "text/plain": [
       "<IPython.core.display.Math object>"
      ]
     },
     "metadata": {},
     "output_type": "display_data"
    },
    {
     "data": {
      "text/latex": [
       "$\\displaystyle {capex^{I}}_{csh,WF,madgaon,t_{1}} = 202233$"
      ],
      "text/plain": [
       "<IPython.core.display.Math object>"
      ]
     },
     "metadata": {},
     "output_type": "display_data"
    },
    {
     "data": {
      "text/latex": [
       "$\\displaystyle {opex}_{csh,WF,cacoda,t_{0}} = {operate}_{WF,cacoda,t_{0}} \\cdot 4953$"
      ],
      "text/plain": [
       "<IPython.core.display.Math object>"
      ]
     },
     "metadata": {},
     "output_type": "display_data"
    },
    {
     "data": {
      "text/latex": [
       "$\\displaystyle {opex^{I}}_{csh,WF,cacoda,t_{0}} = 70$"
      ],
      "text/plain": [
       "<IPython.core.display.Math object>"
      ]
     },
     "metadata": {},
     "output_type": "display_data"
    },
    {
     "data": {
      "text/latex": [
       "$\\displaystyle {opex}_{csh,WF,madgaon,t_{0}} = {operate}_{WF,madgaon,t_{0}} \\cdot 4953$"
      ],
      "text/plain": [
       "<IPython.core.display.Math object>"
      ]
     },
     "metadata": {},
     "output_type": "display_data"
    },
    {
     "data": {
      "text/latex": [
       "$\\displaystyle {opex^{I}}_{csh,WF,madgaon,t_{0}} = 70$"
      ],
      "text/plain": [
       "<IPython.core.display.Math object>"
      ]
     },
     "metadata": {},
     "output_type": "display_data"
    },
    {
     "data": {
      "text/latex": [
       "$\\displaystyle {opex}_{csh,WF,ponje,t_{0}} = {operate}_{WF,ponje,t_{0}} \\cdot 4953$"
      ],
      "text/plain": [
       "<IPython.core.display.Math object>"
      ]
     },
     "metadata": {},
     "output_type": "display_data"
    },
    {
     "data": {
      "text/latex": [
       "$\\displaystyle {opex^{I}}_{csh,WF,ponje,t_{0}} = 70$"
      ],
      "text/plain": [
       "<IPython.core.display.Math object>"
      ]
     },
     "metadata": {},
     "output_type": "display_data"
    },
    {
     "data": {
      "text/latex": [
       "$\\displaystyle {capacity}_{PV,net,t_{0}} = 5000$"
      ],
      "text/plain": [
       "<IPython.core.display.Math object>"
      ]
     },
     "metadata": {},
     "output_type": "display_data"
    },
    {
     "data": {
      "text/latex": [
       "$\\displaystyle {capex}_{csh,PV,cacoda,t_{0}} = {capacity}_{PV,cacoda,t_{0}} \\cdot 1555$"
      ],
      "text/plain": [
       "<IPython.core.display.Math object>"
      ]
     },
     "metadata": {},
     "output_type": "display_data"
    },
    {
     "data": {
      "text/latex": [
       "$\\displaystyle {capex}_{csh,PV,madgaon,t_{0}} = {capacity}_{PV,madgaon,t_{0}} \\cdot 1555$"
      ],
      "text/plain": [
       "<IPython.core.display.Math object>"
      ]
     },
     "metadata": {},
     "output_type": "display_data"
    },
    {
     "data": {
      "text/latex": [
       "$\\displaystyle {capex}_{csh,PV,ponje,t_{0}} = {capacity}_{PV,ponje,t_{0}} \\cdot 1555$"
      ],
      "text/plain": [
       "<IPython.core.display.Math object>"
      ]
     },
     "metadata": {},
     "output_type": "display_data"
    },
    {
     "data": {
      "text/latex": [
       "$\\displaystyle {opex}_{csh,PV,cacoda,t_{0}} = {operate}_{PV,cacoda,t_{0}} \\cdot 22623$"
      ],
      "text/plain": [
       "<IPython.core.display.Math object>"
      ]
     },
     "metadata": {},
     "output_type": "display_data"
    },
    {
     "data": {
      "text/latex": [
       "$\\displaystyle {opex}_{csh,PV,madgaon,t_{0}} = {operate}_{PV,madgaon,t_{0}} \\cdot 22623$"
      ],
      "text/plain": [
       "<IPython.core.display.Math object>"
      ]
     },
     "metadata": {},
     "output_type": "display_data"
    },
    {
     "data": {
      "text/latex": [
       "$\\displaystyle {opex}_{csh,PV,ponje,t_{0}} = {operate}_{PV,ponje,t_{0}} \\cdot 22623$"
      ],
      "text/plain": [
       "<IPython.core.display.Math object>"
      ]
     },
     "metadata": {},
     "output_type": "display_data"
    },
    {
     "data": {
      "text/latex": [
       "$\\displaystyle {exp^{sell}}_{csh,Power,PV,cacoda,t_{0}} = {sell}_{Power,PV,cacoda,t_{0}} \\cdot 30$"
      ],
      "text/plain": [
       "<IPython.core.display.Math object>"
      ]
     },
     "metadata": {},
     "output_type": "display_data"
    },
    {
     "data": {
      "text/latex": [
       "$\\displaystyle {exp^{sell}}_{csh,Power,PV,madgaon,t_{0}} = {sell}_{Power,PV,madgaon,t_{0}} \\cdot 30$"
      ],
      "text/plain": [
       "<IPython.core.display.Math object>"
      ]
     },
     "metadata": {},
     "output_type": "display_data"
    },
    {
     "data": {
      "text/latex": [
       "$\\displaystyle {exp^{sell}}_{csh,Power,PV,ponje,t_{0}} = {sell}_{Power,PV,ponje,t_{0}} \\cdot 30$"
      ],
      "text/plain": [
       "<IPython.core.display.Math object>"
      ]
     },
     "metadata": {},
     "output_type": "display_data"
    },
    {
     "data": {
      "text/latex": [
       "$\\displaystyle {credit}_{csh,Power,PV,cacoda,t_{0}} = {DtSt}_{csh,Power,PV,cacoda,t_{0}} \\cdot {sell}_{Power,PV,cacoda,t_{0}}$"
      ],
      "text/plain": [
       "<IPython.core.display.Math object>"
      ]
     },
     "metadata": {},
     "output_type": "display_data"
    },
    {
     "data": {
      "text/latex": [
       "$\\displaystyle {credit}_{csh,Power,PV,madgaon,t_{0}} = {DtSt}_{csh,Power,PV,madgaon,t_{0}} \\cdot {sell}_{Power,PV,madgaon,t_{0}}$"
      ],
      "text/plain": [
       "<IPython.core.display.Math object>"
      ]
     },
     "metadata": {},
     "output_type": "display_data"
    },
    {
     "data": {
      "text/latex": [
       "$\\displaystyle {credit}_{csh,Power,PV,ponje,t_{0}} = {DtSt}_{csh,Power,PV,ponje,t_{0}} \\cdot {sell}_{Power,PV,ponje,t_{0}}$"
      ],
      "text/plain": [
       "<IPython.core.display.Math object>"
      ]
     },
     "metadata": {},
     "output_type": "display_data"
    },
    {
     "data": {
      "text/latex": [
       "$\\displaystyle {capacity}_{SMRH,net,t_{0}} \\geq 0$"
      ],
      "text/plain": [
       "<IPython.core.display.Math object>"
      ]
     },
     "metadata": {},
     "output_type": "display_data"
    },
    {
     "data": {
      "text/latex": [
       "$\\displaystyle {capacity}_{SMRH,net,t_{0}} \\leq 1000$"
      ],
      "text/plain": [
       "<IPython.core.display.Math object>"
      ]
     },
     "metadata": {},
     "output_type": "display_data"
    },
    {
     "data": {
      "text/latex": [
       "$\\displaystyle {use^{setup}}_{lnd_{def},SMRH,cacoda,t_{0}} = {capacity}_{SMRH,cacoda,t_{0}} \\cdot 50$"
      ],
      "text/plain": [
       "<IPython.core.display.Math object>"
      ]
     },
     "metadata": {},
     "output_type": "display_data"
    },
    {
     "data": {
      "text/latex": [
       "$\\displaystyle {use^{setup}}_{lnd_{def},SMRH,madgaon,t_{0}} = {capacity}_{SMRH,madgaon,t_{0}} \\cdot 50$"
      ],
      "text/plain": [
       "<IPython.core.display.Math object>"
      ]
     },
     "metadata": {},
     "output_type": "display_data"
    },
    {
     "data": {
      "text/latex": [
       "$\\displaystyle {use^{setup}}_{lnd_{def},SMRH,ponje,t_{0}} = {capacity}_{SMRH,ponje,t_{0}} \\cdot 50$"
      ],
      "text/plain": [
       "<IPython.core.display.Math object>"
      ]
     },
     "metadata": {},
     "output_type": "display_data"
    },
    {
     "data": {
      "text/latex": [
       "$\\displaystyle {capex}_{csh,SMRH,cacoda,t_{0}} = {capacity}_{SMRH,cacoda,t_{0}} \\cdot 2520000$"
      ],
      "text/plain": [
       "<IPython.core.display.Math object>"
      ]
     },
     "metadata": {},
     "output_type": "display_data"
    },
    {
     "data": {
      "text/latex": [
       "$\\displaystyle {capex}_{csh,SMRH,madgaon,t_{0}} = {capacity}_{SMRH,madgaon,t_{0}} \\cdot 2520000$"
      ],
      "text/plain": [
       "<IPython.core.display.Math object>"
      ]
     },
     "metadata": {},
     "output_type": "display_data"
    },
    {
     "data": {
      "text/latex": [
       "$\\displaystyle {capex}_{csh,SMRH,ponje,t_{0}} = {capacity}_{SMRH,ponje,t_{0}} \\cdot 2520000$"
      ],
      "text/plain": [
       "<IPython.core.display.Math object>"
      ]
     },
     "metadata": {},
     "output_type": "display_data"
    },
    {
     "data": {
      "text/latex": [
       "$\\displaystyle {opex}_{csh,SMRH,cacoda,t_{0}} = {operate}_{SMRH,cacoda,t_{0}} \\cdot 51.5$"
      ],
      "text/plain": [
       "<IPython.core.display.Math object>"
      ]
     },
     "metadata": {},
     "output_type": "display_data"
    },
    {
     "data": {
      "text/latex": [
       "$\\displaystyle {opex^{I}}_{csh,SMRH,cacoda,t_{0}} = 945000$"
      ],
      "text/plain": [
       "<IPython.core.display.Math object>"
      ]
     },
     "metadata": {},
     "output_type": "display_data"
    },
    {
     "data": {
      "text/latex": [
       "$\\displaystyle {opex^{I}}_{csh,SMRH,madgaon,t_{0}} = 945000$"
      ],
      "text/plain": [
       "<IPython.core.display.Math object>"
      ]
     },
     "metadata": {},
     "output_type": "display_data"
    },
    {
     "data": {
      "text/latex": [
       "$\\displaystyle {opex}_{csh,SMRH,madgaon,t_{0}} = {operate}_{SMRH,madgaon,t_{0}} \\cdot 51.5$"
      ],
      "text/plain": [
       "<IPython.core.display.Math object>"
      ]
     },
     "metadata": {},
     "output_type": "display_data"
    },
    {
     "data": {
      "text/latex": [
       "$\\displaystyle {opex^{I}}_{csh,SMRH,ponje,t_{0}} = 945000$"
      ],
      "text/plain": [
       "<IPython.core.display.Math object>"
      ]
     },
     "metadata": {},
     "output_type": "display_data"
    },
    {
     "data": {
      "text/latex": [
       "$\\displaystyle {opex}_{csh,SMRH,ponje,t_{0}} = {operate}_{SMRH,ponje,t_{0}} \\cdot 51.5$"
      ],
      "text/plain": [
       "<IPython.core.display.Math object>"
      ]
     },
     "metadata": {},
     "output_type": "display_data"
    },
    {
     "data": {
      "text/latex": [
       "$\\displaystyle {capacity}_{NGCC,net,t_{0}} \\geq 1$"
      ],
      "text/plain": [
       "<IPython.core.display.Math object>"
      ]
     },
     "metadata": {},
     "output_type": "display_data"
    },
    {
     "data": {
      "text/latex": [
       "$\\displaystyle {capacity}_{NGCC,net,t_{0}} \\leq 100$"
      ],
      "text/plain": [
       "<IPython.core.display.Math object>"
      ]
     },
     "metadata": {},
     "output_type": "display_data"
    },
    {
     "data": {
      "text/latex": [
       "$\\displaystyle {capex}_{csh,NGCC,cacoda,t_{0}} = {capacity}_{NGCC,cacoda,t_{0}} \\cdot 2158928$"
      ],
      "text/plain": [
       "<IPython.core.display.Math object>"
      ]
     },
     "metadata": {},
     "output_type": "display_data"
    },
    {
     "data": {
      "text/latex": [
       "$\\displaystyle {capex}_{csh,NGCC,madgaon,t_{0}} = {capacity}_{NGCC,madgaon,t_{0}} \\cdot 2158928$"
      ],
      "text/plain": [
       "<IPython.core.display.Math object>"
      ]
     },
     "metadata": {},
     "output_type": "display_data"
    },
    {
     "data": {
      "text/latex": [
       "$\\displaystyle {capex}_{csh,NGCC,ponje,t_{0}} = {capacity}_{NGCC,ponje,t_{0}} \\cdot 2158928$"
      ],
      "text/plain": [
       "<IPython.core.display.Math object>"
      ]
     },
     "metadata": {},
     "output_type": "display_data"
    },
    {
     "data": {
      "text/latex": [
       "$\\displaystyle {opex}_{csh,NGCC,cacoda,t_{0}} = {operate}_{NGCC,cacoda,t_{0}} \\cdot 4090$"
      ],
      "text/plain": [
       "<IPython.core.display.Math object>"
      ]
     },
     "metadata": {},
     "output_type": "display_data"
    },
    {
     "data": {
      "text/latex": [
       "$\\displaystyle {opex^{I}}_{csh,NGCC,cacoda,t_{0}} = 53320$"
      ],
      "text/plain": [
       "<IPython.core.display.Math object>"
      ]
     },
     "metadata": {},
     "output_type": "display_data"
    },
    {
     "data": {
      "text/latex": [
       "$\\displaystyle {opex^{I}}_{csh,NGCC,madgaon,t_{0}} = 53320$"
      ],
      "text/plain": [
       "<IPython.core.display.Math object>"
      ]
     },
     "metadata": {},
     "output_type": "display_data"
    },
    {
     "data": {
      "text/latex": [
       "$\\displaystyle {opex}_{csh,NGCC,madgaon,t_{0}} = {operate}_{NGCC,madgaon,t_{0}} \\cdot 4090$"
      ],
      "text/plain": [
       "<IPython.core.display.Math object>"
      ]
     },
     "metadata": {},
     "output_type": "display_data"
    },
    {
     "data": {
      "text/latex": [
       "$\\displaystyle {opex^{I}}_{csh,NGCC,ponje,t_{0}} = 53320$"
      ],
      "text/plain": [
       "<IPython.core.display.Math object>"
      ]
     },
     "metadata": {},
     "output_type": "display_data"
    },
    {
     "data": {
      "text/latex": [
       "$\\displaystyle {opex}_{csh,NGCC,ponje,t_{0}} = {operate}_{NGCC,ponje,t_{0}} \\cdot 4090$"
      ],
      "text/plain": [
       "<IPython.core.display.Math object>"
      ]
     },
     "metadata": {},
     "output_type": "display_data"
    },
    {
     "data": {
      "text/latex": [
       "$\\displaystyle {exp^{buy}}_{csh,CH_{4},NGCC,cacoda,t_{0}} = {buy}_{CH_{4},NGCC,cacoda,t_{0}} \\cdot 4$"
      ],
      "text/plain": [
       "<IPython.core.display.Math object>"
      ]
     },
     "metadata": {},
     "output_type": "display_data"
    },
    {
     "data": {
      "text/latex": [
       "$\\displaystyle {exp^{buy}}_{csh,CH_{4},NGCC,madgaon,t_{0}} = {buy}_{CH_{4},NGCC,madgaon,t_{0}} \\cdot 4$"
      ],
      "text/plain": [
       "<IPython.core.display.Math object>"
      ]
     },
     "metadata": {},
     "output_type": "display_data"
    },
    {
     "data": {
      "text/latex": [
       "$\\displaystyle {exp^{buy}}_{csh,CH_{4},NGCC,ponje,t_{0}} = {buy}_{CH_{4},NGCC,ponje,t_{0}} \\cdot 4$"
      ],
      "text/plain": [
       "<IPython.core.display.Math object>"
      ]
     },
     "metadata": {},
     "output_type": "display_data"
    },
    {
     "data": {
      "text/latex": [
       "$\\displaystyle {exp^{buy}}_{csh,H2O,NGCC,cacoda,t_{0}} = {buy}_{H2O,NGCC,cacoda,t_{0}} \\cdot 20$"
      ],
      "text/plain": [
       "<IPython.core.display.Math object>"
      ]
     },
     "metadata": {},
     "output_type": "display_data"
    },
    {
     "data": {
      "text/latex": [
       "$\\displaystyle {exp^{buy}}_{csh,H2O,NGCC,madgaon,t_{0}} = {buy}_{H2O,NGCC,madgaon,t_{0}} \\cdot 20$"
      ],
      "text/plain": [
       "<IPython.core.display.Math object>"
      ]
     },
     "metadata": {},
     "output_type": "display_data"
    },
    {
     "data": {
      "text/latex": [
       "$\\displaystyle {exp^{buy}}_{csh,H2O,NGCC,ponje,t_{0}} = {buy}_{H2O,NGCC,ponje,t_{0}} \\cdot 20$"
      ],
      "text/plain": [
       "<IPython.core.display.Math object>"
      ]
     },
     "metadata": {},
     "output_type": "display_data"
    },
    {
     "data": {
      "text/latex": [
       "$\\displaystyle {capacity}_{SMR,net,t_{0}} = 1000$"
      ],
      "text/plain": [
       "<IPython.core.display.Math object>"
      ]
     },
     "metadata": {},
     "output_type": "display_data"
    },
    {
     "data": {
      "text/latex": [
       "$\\displaystyle {capex}_{csh,SMR,cacoda,t_{0}} = {capacity}_{SMR,cacoda,t_{0}} \\cdot 2400$"
      ],
      "text/plain": [
       "<IPython.core.display.Math object>"
      ]
     },
     "metadata": {},
     "output_type": "display_data"
    },
    {
     "data": {
      "text/latex": [
       "$\\displaystyle {capex}_{csh,SMR,madgaon,t_{0}} = {capacity}_{SMR,madgaon,t_{0}} \\cdot 2400$"
      ],
      "text/plain": [
       "<IPython.core.display.Math object>"
      ]
     },
     "metadata": {},
     "output_type": "display_data"
    },
    {
     "data": {
      "text/latex": [
       "$\\displaystyle {capex}_{csh,SMR,ponje,t_{0}} = {capacity}_{SMR,ponje,t_{0}} \\cdot 2400$"
      ],
      "text/plain": [
       "<IPython.core.display.Math object>"
      ]
     },
     "metadata": {},
     "output_type": "display_data"
    },
    {
     "data": {
      "text/latex": [
       "$\\displaystyle {opex^{I}}_{csh,SMR,cacoda,t_{0}} = 800$"
      ],
      "text/plain": [
       "<IPython.core.display.Math object>"
      ]
     },
     "metadata": {},
     "output_type": "display_data"
    },
    {
     "data": {
      "text/latex": [
       "$\\displaystyle {opex}_{csh,SMR,cacoda,t_{0}} = {operate}_{SMR,cacoda,t_{0}} \\cdot 0.03$"
      ],
      "text/plain": [
       "<IPython.core.display.Math object>"
      ]
     },
     "metadata": {},
     "output_type": "display_data"
    },
    {
     "data": {
      "text/latex": [
       "$\\displaystyle {opex^{I}}_{csh,SMR,madgaon,t_{0}} = 800$"
      ],
      "text/plain": [
       "<IPython.core.display.Math object>"
      ]
     },
     "metadata": {},
     "output_type": "display_data"
    },
    {
     "data": {
      "text/latex": [
       "$\\displaystyle {opex}_{csh,SMR,madgaon,t_{0}} = {operate}_{SMR,madgaon,t_{0}} \\cdot 0.03$"
      ],
      "text/plain": [
       "<IPython.core.display.Math object>"
      ]
     },
     "metadata": {},
     "output_type": "display_data"
    },
    {
     "data": {
      "text/latex": [
       "$\\displaystyle {opex}_{csh,SMR,ponje,t_{0}} = {operate}_{SMR,ponje,t_{0}} \\cdot 0.03$"
      ],
      "text/plain": [
       "<IPython.core.display.Math object>"
      ]
     },
     "metadata": {},
     "output_type": "display_data"
    },
    {
     "data": {
      "text/latex": [
       "$\\displaystyle {opex^{I}}_{csh,SMR,ponje,t_{0}} = 800$"
      ],
      "text/plain": [
       "<IPython.core.display.Math object>"
      ]
     },
     "metadata": {},
     "output_type": "display_data"
    },
    {
     "data": {
      "text/latex": [
       "$\\displaystyle {capacity}_{H2FC,net,t_{0}} \\geq 1000$"
      ],
      "text/plain": [
       "<IPython.core.display.Math object>"
      ]
     },
     "metadata": {},
     "output_type": "display_data"
    },
    {
     "data": {
      "text/latex": [
       "$\\displaystyle {capacity}_{H2FC,net,t_{0}} \\leq 2000$"
      ],
      "text/plain": [
       "<IPython.core.display.Math object>"
      ]
     },
     "metadata": {},
     "output_type": "display_data"
    },
    {
     "data": {
      "text/latex": [
       "$\\displaystyle {capex}_{csh,H2FC,cacoda,t_{0}} = {capacity}_{H2FC,cacoda,t_{0}} \\cdot 1600000.0$"
      ],
      "text/plain": [
       "<IPython.core.display.Math object>"
      ]
     },
     "metadata": {},
     "output_type": "display_data"
    },
    {
     "data": {
      "text/latex": [
       "$\\displaystyle {capex}_{csh,H2FC,madgaon,t_{0}} = {capacity}_{H2FC,madgaon,t_{0}} \\cdot 1600000.0$"
      ],
      "text/plain": [
       "<IPython.core.display.Math object>"
      ]
     },
     "metadata": {},
     "output_type": "display_data"
    },
    {
     "data": {
      "text/latex": [
       "$\\displaystyle {capex}_{csh,H2FC,ponje,t_{0}} = {capacity}_{H2FC,ponje,t_{0}} \\cdot 1600000.0$"
      ],
      "text/plain": [
       "<IPython.core.display.Math object>"
      ]
     },
     "metadata": {},
     "output_type": "display_data"
    },
    {
     "data": {
      "text/latex": [
       "$\\displaystyle {opex}_{csh,H2FC,cacoda,t_{0}} = {operate}_{H2FC,cacoda,t_{0}} \\cdot 3.5$"
      ],
      "text/plain": [
       "<IPython.core.display.Math object>"
      ]
     },
     "metadata": {},
     "output_type": "display_data"
    },
    {
     "data": {
      "text/latex": [
       "$\\displaystyle {opex}_{csh,H2FC,madgaon,t_{0}} = {operate}_{H2FC,madgaon,t_{0}} \\cdot 3.5$"
      ],
      "text/plain": [
       "<IPython.core.display.Math object>"
      ]
     },
     "metadata": {},
     "output_type": "display_data"
    },
    {
     "data": {
      "text/latex": [
       "$\\displaystyle {opex}_{csh,H2FC,ponje,t_{0}} = {operate}_{H2FC,ponje,t_{0}} \\cdot 3.5$"
      ],
      "text/plain": [
       "<IPython.core.display.Math object>"
      ]
     },
     "metadata": {},
     "output_type": "display_data"
    },
    {
     "data": {
      "text/latex": [
       "$\\displaystyle {exp^{buy}}_{csh,H_{2},H2FC,cacoda,t_{0}} = {buy}_{H_{2},H2FC,cacoda,t_{0}} \\cdot 2$"
      ],
      "text/plain": [
       "<IPython.core.display.Math object>"
      ]
     },
     "metadata": {},
     "output_type": "display_data"
    },
    {
     "data": {
      "text/latex": [
       "$\\displaystyle {exp^{buy}}_{csh,H_{2},H2FC,madgaon,t_{0}} = {buy}_{H_{2},H2FC,madgaon,t_{0}} \\cdot 2$"
      ],
      "text/plain": [
       "<IPython.core.display.Math object>"
      ]
     },
     "metadata": {},
     "output_type": "display_data"
    },
    {
     "data": {
      "text/latex": [
       "$\\displaystyle {exp^{buy}}_{csh,H_{2},H2FC,ponje,t_{0}} = {buy}_{H_{2},H2FC,ponje,t_{0}} \\cdot 2$"
      ],
      "text/plain": [
       "<IPython.core.display.Math object>"
      ]
     },
     "metadata": {},
     "output_type": "display_data"
    },
    {
     "data": {
      "text/latex": [
       "$\\displaystyle {sell}_{Power,H2FC,net,t_{0}} = 20$"
      ],
      "text/plain": [
       "<IPython.core.display.Math object>"
      ]
     },
     "metadata": {},
     "output_type": "display_data"
    },
    {
     "data": {
      "text/latex": [
       "$\\displaystyle {capacity}_{DAC,net,t_{0}} = 1000$"
      ],
      "text/plain": [
       "<IPython.core.display.Math object>"
      ]
     },
     "metadata": {},
     "output_type": "display_data"
    },
    {
     "data": {
      "text/latex": [
       "$\\displaystyle {capex}_{csh,DAC,cacoda,t_{0}} = {capacity}_{DAC,cacoda,t_{0}} \\cdot 0.02536$"
      ],
      "text/plain": [
       "<IPython.core.display.Math object>"
      ]
     },
     "metadata": {},
     "output_type": "display_data"
    },
    {
     "data": {
      "text/latex": [
       "$\\displaystyle {capex}_{csh,DAC,madgaon,t_{0}} = {capacity}_{DAC,madgaon,t_{0}} \\cdot 0.02536$"
      ],
      "text/plain": [
       "<IPython.core.display.Math object>"
      ]
     },
     "metadata": {},
     "output_type": "display_data"
    },
    {
     "data": {
      "text/latex": [
       "$\\displaystyle {capex}_{csh,DAC,ponje,t_{0}} = {capacity}_{DAC,ponje,t_{0}} \\cdot 0.02536$"
      ],
      "text/plain": [
       "<IPython.core.display.Math object>"
      ]
     },
     "metadata": {},
     "output_type": "display_data"
    },
    {
     "data": {
      "text/latex": [
       "$\\displaystyle {opex}_{csh,DAC,cacoda,t_{0}} = {operate}_{DAC,cacoda,t_{0}} \\cdot 0.634$"
      ],
      "text/plain": [
       "<IPython.core.display.Math object>"
      ]
     },
     "metadata": {},
     "output_type": "display_data"
    },
    {
     "data": {
      "text/latex": [
       "$\\displaystyle {opex}_{csh,DAC,madgaon,t_{0}} = {operate}_{DAC,madgaon,t_{0}} \\cdot 0.634$"
      ],
      "text/plain": [
       "<IPython.core.display.Math object>"
      ]
     },
     "metadata": {},
     "output_type": "display_data"
    },
    {
     "data": {
      "text/latex": [
       "$\\displaystyle {opex}_{csh,DAC,ponje,t_{0}} = {operate}_{DAC,ponje,t_{0}} \\cdot 0.634$"
      ],
      "text/plain": [
       "<IPython.core.display.Math object>"
      ]
     },
     "metadata": {},
     "output_type": "display_data"
    },
    {
     "data": {
      "text/latex": [
       "$\\displaystyle {capacity}_{ASMR,net,t_{0}} = 1000$"
      ],
      "text/plain": [
       "<IPython.core.display.Math object>"
      ]
     },
     "metadata": {},
     "output_type": "display_data"
    },
    {
     "data": {
      "text/latex": [
       "$\\displaystyle {capex}_{csh,ASMR,cacoda,t_{0}} = {capacity}_{ASMR,cacoda,t_{0}} \\cdot 7988951$"
      ],
      "text/plain": [
       "<IPython.core.display.Math object>"
      ]
     },
     "metadata": {},
     "output_type": "display_data"
    },
    {
     "data": {
      "text/latex": [
       "$\\displaystyle {capex}_{csh,ASMR,madgaon,t_{0}} = {capacity}_{ASMR,madgaon,t_{0}} \\cdot 7988951$"
      ],
      "text/plain": [
       "<IPython.core.display.Math object>"
      ]
     },
     "metadata": {},
     "output_type": "display_data"
    },
    {
     "data": {
      "text/latex": [
       "$\\displaystyle {capex}_{csh,ASMR,ponje,t_{0}} = {capacity}_{ASMR,ponje,t_{0}} \\cdot 7988951$"
      ],
      "text/plain": [
       "<IPython.core.display.Math object>"
      ]
     },
     "metadata": {},
     "output_type": "display_data"
    },
    {
     "data": {
      "text/latex": [
       "$\\displaystyle {opex^{I}}_{csh,ASMR,cacoda,t_{0}} = 0.0292$"
      ],
      "text/plain": [
       "<IPython.core.display.Math object>"
      ]
     },
     "metadata": {},
     "output_type": "display_data"
    },
    {
     "data": {
      "text/latex": [
       "$\\displaystyle {opex^{I}}_{csh,ASMR,madgaon,t_{0}} = 0.0292$"
      ],
      "text/plain": [
       "<IPython.core.display.Math object>"
      ]
     },
     "metadata": {},
     "output_type": "display_data"
    },
    {
     "data": {
      "text/latex": [
       "$\\displaystyle {opex^{I}}_{csh,ASMR,ponje,t_{0}} = 0.0292$"
      ],
      "text/plain": [
       "<IPython.core.display.Math object>"
      ]
     },
     "metadata": {},
     "output_type": "display_data"
    },
    {
     "data": {
      "text/latex": [
       "$\\displaystyle {buy}_{Uranium,ASMR,net,t_{0}} = 40$"
      ],
      "text/plain": [
       "<IPython.core.display.Math object>"
      ]
     },
     "metadata": {},
     "output_type": "display_data"
    },
    {
     "data": {
      "text/latex": [
       "$\\displaystyle {capacity}_{AWE,net,t_{0}} \\geq 0$"
      ],
      "text/plain": [
       "<IPython.core.display.Math object>"
      ]
     },
     "metadata": {},
     "output_type": "display_data"
    },
    {
     "data": {
      "text/latex": [
       "$\\displaystyle {capacity}_{AWE,net,t_{0}} \\leq M$"
      ],
      "text/plain": [
       "<IPython.core.display.Math object>"
      ]
     },
     "metadata": {},
     "output_type": "display_data"
    },
    {
     "data": {
      "text/latex": [
       "$\\displaystyle {use^{setup}}_{lnd_{def},AWE,cacoda,t_{0}} = {capacity}_{AWE,cacoda,t_{0}} \\cdot {θ}_{lnd_{def},AWE,cacoda,t_{0}}$"
      ],
      "text/plain": [
       "<IPython.core.display.Math object>"
      ]
     },
     "metadata": {},
     "output_type": "display_data"
    },
    {
     "data": {
      "text/latex": [
       "$\\displaystyle {use^{setup}}_{lnd_{def},AWE,madgaon,t_{0}} = {capacity}_{AWE,madgaon,t_{0}} \\cdot {θ}_{lnd_{def},AWE,madgaon,t_{0}}$"
      ],
      "text/plain": [
       "<IPython.core.display.Math object>"
      ]
     },
     "metadata": {},
     "output_type": "display_data"
    },
    {
     "data": {
      "text/latex": [
       "$\\displaystyle {use^{setup}}_{lnd_{def},AWE,ponje,t_{0}} = {capacity}_{AWE,ponje,t_{0}} \\cdot {θ}_{lnd_{def},AWE,ponje,t_{0}}$"
      ],
      "text/plain": [
       "<IPython.core.display.Math object>"
      ]
     },
     "metadata": {},
     "output_type": "display_data"
    },
    {
     "data": {
      "text/latex": [
       "$\\displaystyle {capex}_{csh,AWE,cacoda,t_{0}} = {capacity}_{AWE,cacoda,t_{0}} \\cdot 1100000.0$"
      ],
      "text/plain": [
       "<IPython.core.display.Math object>"
      ]
     },
     "metadata": {},
     "output_type": "display_data"
    },
    {
     "data": {
      "text/latex": [
       "$\\displaystyle {capex^{I}}_{csh,AWE,cacoda,t_{0}} = 20$"
      ],
      "text/plain": [
       "<IPython.core.display.Math object>"
      ]
     },
     "metadata": {},
     "output_type": "display_data"
    },
    {
     "data": {
      "text/latex": [
       "$\\displaystyle {capex^{I}}_{csh,AWE,madgaon,t_{0}} = 20$"
      ],
      "text/plain": [
       "<IPython.core.display.Math object>"
      ]
     },
     "metadata": {},
     "output_type": "display_data"
    },
    {
     "data": {
      "text/latex": [
       "$\\displaystyle {capex}_{csh,AWE,madgaon,t_{0}} = {capacity}_{AWE,madgaon,t_{0}} \\cdot 1100000.0$"
      ],
      "text/plain": [
       "<IPython.core.display.Math object>"
      ]
     },
     "metadata": {},
     "output_type": "display_data"
    },
    {
     "data": {
      "text/latex": [
       "$\\displaystyle {capex^{I}}_{csh,AWE,ponje,t_{0}} = 20$"
      ],
      "text/plain": [
       "<IPython.core.display.Math object>"
      ]
     },
     "metadata": {},
     "output_type": "display_data"
    },
    {
     "data": {
      "text/latex": [
       "$\\displaystyle {capex}_{csh,AWE,ponje,t_{0}} = {capacity}_{AWE,ponje,t_{0}} \\cdot 1100000.0$"
      ],
      "text/plain": [
       "<IPython.core.display.Math object>"
      ]
     },
     "metadata": {},
     "output_type": "display_data"
    },
    {
     "data": {
      "text/latex": [
       "$\\displaystyle {opex^{I}}_{csh,AWE,cacoda,t_{0}} = 16918$"
      ],
      "text/plain": [
       "<IPython.core.display.Math object>"
      ]
     },
     "metadata": {},
     "output_type": "display_data"
    },
    {
     "data": {
      "text/latex": [
       "$\\displaystyle {opex^{I}}_{csh,AWE,madgaon,t_{0}} = 16918$"
      ],
      "text/plain": [
       "<IPython.core.display.Math object>"
      ]
     },
     "metadata": {},
     "output_type": "display_data"
    },
    {
     "data": {
      "text/latex": [
       "$\\displaystyle {opex^{I}}_{csh,AWE,ponje,t_{0}} = 16918$"
      ],
      "text/plain": [
       "<IPython.core.display.Math object>"
      ]
     },
     "metadata": {},
     "output_type": "display_data"
    },
    {
     "data": {
      "text/latex": [
       "$\\displaystyle {capacity}_{LiI,net,t_{0}} \\geq 0$"
      ],
      "text/plain": [
       "<IPython.core.display.Math object>"
      ]
     },
     "metadata": {},
     "output_type": "display_data"
    },
    {
     "data": {
      "text/latex": [
       "$\\displaystyle {capacity}_{LiI,net,t_{0}} \\leq 2000$"
      ],
      "text/plain": [
       "<IPython.core.display.Math object>"
      ]
     },
     "metadata": {},
     "output_type": "display_data"
    },
    {
     "data": {
      "text/latex": [
       "$\\displaystyle {capacity}_{LiI_{in},net,t_{0}} \\geq 0$"
      ],
      "text/plain": [
       "<IPython.core.display.Math object>"
      ]
     },
     "metadata": {},
     "output_type": "display_data"
    },
    {
     "data": {
      "text/latex": [
       "$\\displaystyle {capacity}_{LiI_{in},net,t_{0}} \\leq 40$"
      ],
      "text/plain": [
       "<IPython.core.display.Math object>"
      ]
     },
     "metadata": {},
     "output_type": "display_data"
    },
    {
     "data": {
      "text/latex": [
       "$\\displaystyle {capacity}_{LiI_{out},net,t_{0}} \\geq 0$"
      ],
      "text/plain": [
       "<IPython.core.display.Math object>"
      ]
     },
     "metadata": {},
     "output_type": "display_data"
    },
    {
     "data": {
      "text/latex": [
       "$\\displaystyle {capacity}_{LiI_{out},net,t_{0}} \\leq 20$"
      ],
      "text/plain": [
       "<IPython.core.display.Math object>"
      ]
     },
     "metadata": {},
     "output_type": "display_data"
    },
    {
     "data": {
      "text/latex": [
       "$\\displaystyle {capacity}_{LiI_{2},net,t_{0}} \\geq 0$"
      ],
      "text/plain": [
       "<IPython.core.display.Math object>"
      ]
     },
     "metadata": {},
     "output_type": "display_data"
    },
    {
     "data": {
      "text/latex": [
       "$\\displaystyle {capacity}_{LiI_{2},net,t_{0}} \\leq 2000$"
      ],
      "text/plain": [
       "<IPython.core.display.Math object>"
      ]
     },
     "metadata": {},
     "output_type": "display_data"
    },
    {
     "data": {
      "text/latex": [
       "$\\displaystyle {capacity}_{H2Stg,net,t_{0}} \\geq 0$"
      ],
      "text/plain": [
       "<IPython.core.display.Math object>"
      ]
     },
     "metadata": {},
     "output_type": "display_data"
    },
    {
     "data": {
      "text/latex": [
       "$\\displaystyle {capacity}_{H2Stg,net,t_{0}} \\leq 2000$"
      ],
      "text/plain": [
       "<IPython.core.display.Math object>"
      ]
     },
     "metadata": {},
     "output_type": "display_data"
    }
   ],
   "source": [
    "s.pprint()"
   ]
  },
  {
   "cell_type": "code",
   "execution_count": 28,
   "metadata": {},
   "outputs": [
    {
     "name": "stdout",
     "output_type": "stream",
     "text": [
      "232\n",
      "232\n",
      "232\n",
      "\n",
      "167\n",
      "167\n",
      "167\n",
      "\n",
      "167\n",
      "124\n",
      "124\n",
      "\n",
      "100\n",
      "61\n",
      "61\n"
     ]
    }
   ],
   "source": [
    "print(len(s.variables))\n",
    "print(len(set(s.variables)))\n",
    "print(len(set([v.name for v in s.variables])))\n",
    "print()\n",
    "print(len(s.parameters))\n",
    "print(len(set(s.parameters)))\n",
    "print(len(set([v.name for v in s.parameters])))\n",
    "print()\n",
    "print(len(s.constraints))\n",
    "print(len(set(s.constraints)))\n",
    "print(len(set([v.name for v in s.constraints])))\n",
    "print()\n",
    "print(len(s.indices))\n",
    "print(len(set(s.indices)))\n",
    "print(len(set([v.name for v in s.indices])))"
   ]
  },
  {
   "cell_type": "code",
   "execution_count": null,
   "metadata": {},
   "outputs": [],
   "source": []
  },
  {
   "cell_type": "code",
   "execution_count": null,
   "metadata": {},
   "outputs": [],
   "source": []
  },
  {
   "cell_type": "code",
   "execution_count": null,
   "metadata": {},
   "outputs": [],
   "source": []
  },
  {
   "cell_type": "code",
   "execution_count": null,
   "metadata": {},
   "outputs": [],
   "source": []
  },
  {
   "cell_type": "code",
   "execution_count": 29,
   "metadata": {},
   "outputs": [
    {
     "ename": "AttributeError",
     "evalue": "'ProgramBlock' object has no attribute 'attr_dispositions'",
     "output_type": "error",
     "traceback": [
      "\u001b[0;31m---------------------------------------------------------------------------\u001b[0m",
      "\u001b[0;31mAttributeError\u001b[0m                            Traceback (most recent call last)",
      "Cell \u001b[0;32mIn[29], line 2\u001b[0m\n\u001b[1;32m      1\u001b[0m \u001b[38;5;28;01mfor\u001b[39;00m block \u001b[38;5;129;01min\u001b[39;00m s\u001b[38;5;241m.\u001b[39mprogram\u001b[38;5;241m.\u001b[39mblocks:\n\u001b[0;32m----> 2\u001b[0m     \u001b[38;5;28mprint\u001b[39m(\u001b[43mblock\u001b[49m\u001b[38;5;241;43m.\u001b[39;49m\u001b[43mattr_dispositions\u001b[49m)\n",
      "\u001b[0;31mAttributeError\u001b[0m: 'ProgramBlock' object has no attribute 'attr_dispositions'"
     ]
    }
   ],
   "source": [
    "for block in s.program.blocks:\n",
    "    print(block.attr_dispositions)"
   ]
  },
  {
   "cell_type": "code",
   "execution_count": null,
   "metadata": {},
   "outputs": [],
   "source": [
    "is_(s.program.variables[5], s.program.variables[6])"
   ]
  },
  {
   "cell_type": "code",
   "execution_count": null,
   "metadata": {},
   "outputs": [],
   "source": [
    "len(set(s.program.variables))"
   ]
  },
  {
   "cell_type": "code",
   "execution_count": null,
   "metadata": {},
   "outputs": [],
   "source": [
    "s.program.variables[6]"
   ]
  },
  {
   "cell_type": "code",
   "execution_count": null,
   "metadata": {},
   "outputs": [],
   "source": [
    "s.LiI.capacity"
   ]
  },
  {
   "cell_type": "code",
   "execution_count": null,
   "metadata": {},
   "outputs": [],
   "source": [
    "getattr(s.LiI, 'capacity')"
   ]
  },
  {
   "cell_type": "code",
   "execution_count": null,
   "metadata": {},
   "outputs": [],
   "source": [
    "s.attr.bounds()"
   ]
  },
  {
   "cell_type": "code",
   "execution_count": null,
   "metadata": {},
   "outputs": [],
   "source": [
    "s.components"
   ]
  },
  {
   "cell_type": "code",
   "execution_count": null,
   "metadata": {},
   "outputs": [],
   "source": [
    "s.train = Transit(\n",
    "    freight=s.H2,\n",
    "    ship={s.H2: [300]},\n",
    "    capacity=[5, 400],\n",
    "    land_use=20,\n",
    "    setup_emission={s.odp: 0.1},\n",
    "    capex={s.alink: 200, s.blink: 300, s.clink: 400},\n",
    "    opex=100,\n",
    "    label='Train',\n",
    "    basis='passengers',\n",
    "    linkages=[s.alink],\n",
    ")"
   ]
  },
  {
   "cell_type": "code",
   "execution_count": null,
   "metadata": {},
   "outputs": [],
   "source": []
  },
  {
   "cell_type": "code",
   "execution_count": null,
   "metadata": {},
   "outputs": [],
   "source": [
    "s.pprint()"
   ]
  },
  {
   "cell_type": "code",
   "execution_count": null,
   "metadata": {},
   "outputs": [],
   "source": []
  }
 ],
 "metadata": {
  "kernelspec": {
   "display_name": ".venv",
   "language": "python",
   "name": "python3"
  },
  "language_info": {
   "codemirror_mode": {
    "name": "ipython",
    "version": 3
   },
   "file_extension": ".py",
   "mimetype": "text/x-python",
   "name": "python",
   "nbconvert_exporter": "python",
   "pygments_lexer": "ipython3",
   "version": "3.12.5"
  },
  "orig_nbformat": 4
 },
 "nbformat": 4,
 "nbformat_minor": 2
}
