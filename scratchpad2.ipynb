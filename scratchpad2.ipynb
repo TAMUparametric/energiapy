{
 "cells": [
  {
   "attachments": {},
   "cell_type": "markdown",
   "metadata": {},
   "source": [
    "## Import modules"
   ]
  },
  {
   "cell_type": "code",
   "execution_count": 1,
   "metadata": {},
   "outputs": [],
   "source": [
    "# def load_data(loc:str, index:list):\n",
    "#     df = pandas.read_csv(f'data/{loc}_solar19.csv')\n",
    "#     df['idx'] = index\n",
    "#     df = df.set_index('idx')\n",
    "#     return df\n",
    "# idx = [(i,j,k) for i,j,k in product(range(1), range(365), range(24))]\n",
    "# weather_ny = load_data('ny', idx)[['DNI', 'Wind Speed']]\n",
    "# weather_ny = weather_ny.rename(columns= {'DNI': 'dni', 'Wind Speed': 'wind_speed'})\n",
    "# weather_sd = load_data('sd', idx)[['dni', 'wind_speed']]\n",
    "# weather_ho = load_data('ho', idx)[['dni', 'wind_speed']]\"\"\n",
    "# demand_sd = pandas.read_excel('data/HistoricalEMSHourlyLoad-2019.xlsx', index_col= 0)[['SDGE']]\n",
    "# demand_ho = pandas.read_excel('data/Native_Load_2019.xlsx')[['COAST']]\n",
    "# demand_ny = DataFrame(pandas.read_csv('data/NYC_load.csv')['Load']) #from Will and Doga\n",
    "# ng_price = make_henry_price_df(\n",
    "#     file_name='data/Henry_Hub_Natural_Gas_Spot_Price_Daily.csv', year=2020)\n",
    "# ng_price = ng_price.drop(columns= 'scales')\n",
    "# ng_price = remove_outliers(ng_price, sd_cuttoff = 3)\n",
    "# ng_price = pandas.concat([ng_price])"
   ]
  },
  {
   "cell_type": "code",
   "execution_count": 2,
   "metadata": {},
   "outputs": [],
   "source": [
    "import sys\n",
    "\n",
    "\n",
    "\n",
    "sys.path.append('src')"
   ]
  },
  {
   "cell_type": "code",
   "execution_count": 3,
   "metadata": {},
   "outputs": [],
   "source": [
    "from pandas import DataFrame\n",
    "from energiapy.components import *\n",
    "from energiapy.blocks.scenario import Scenario\n",
    "from energiapy.parameters.designators.mode import X\n",
    "from energiapy.parameters.designators.incidental import I"
   ]
  },
  {
   "cell_type": "code",
   "execution_count": 4,
   "metadata": {},
   "outputs": [],
   "source": [
    "from dataclasses import dataclass, fields"
   ]
  },
  {
   "cell_type": "code",
   "execution_count": 5,
   "metadata": {},
   "outputs": [
    {
     "data": {
      "text/plain": [
       "['has', 'needs']"
      ]
     },
     "execution_count": 5,
     "metadata": {},
     "output_type": "execute_result"
    }
   ],
   "source": [
    "Player.inputs()"
   ]
  },
  {
   "cell_type": "code",
   "execution_count": 6,
   "metadata": {},
   "outputs": [],
   "source": [
    "from energiapy._core._aliases._is_input import IsInput"
   ]
  },
  {
   "cell_type": "code",
   "execution_count": 7,
   "metadata": {},
   "outputs": [],
   "source": [
    "s = Scenario(default=True)"
   ]
  },
  {
   "cell_type": "code",
   "execution_count": 8,
   "metadata": {},
   "outputs": [
    {
     "name": "stderr",
     "output_type": "stream",
     "text": [
      "c:\\Users\\cacodcar\\energiapy\\src\\energiapy\\blocks\\scenario.py:243: UserWarning: \n",
      "A hrz_def object was already defined.\n",
      "Overwriting.\n",
      "This should not cause any modeling issues.\n",
      "Check Scenario defaults if unintended.\n",
      "\n",
      "  warn(\n",
      "c:\\Users\\cacodcar\\energiapy\\src\\energiapy\\blocks\\scenario.py:243: UserWarning: \n",
      "A ntw_def object was already defined.\n",
      "Overwriting.\n",
      "This should not cause any modeling issues.\n",
      "Check Scenario defaults if unintended.\n",
      "\n",
      "  warn(\n"
     ]
    }
   ],
   "source": [
    "# s.h2 = Horizon({'days': 2, 'hours': 12})\n",
    "s.hor = Horizon(discretizations=[2, 12])\n",
    "s.scales\n",
    "s.net = Network(['madgaon', 'ponje', 'cacoda'])\n",
    "s.nodes\n",
    "s.alink = Linkage(source=s.madgaon, sink=s.ponje, bi=True, distance=50)\n",
    "s.blink = Linkage(source=s.ponje, sink=s.cacoda, bi=False, distance=80)\n",
    "s.clink = Linkage(source=s.cacoda, sink=s.madgaon, bi=True, distance=100)\n",
    "s.dlink = Linkage(source=s.madgaon, sink=s.ponje, bi=False, distance=200)"
   ]
  },
  {
   "cell_type": "code",
   "execution_count": 9,
   "metadata": {},
   "outputs": [
    {
     "data": {
      "text/plain": [
       "[t0, t1, t2]"
      ]
     },
     "execution_count": 9,
     "metadata": {},
     "output_type": "execute_result"
    }
   ],
   "source": [
    "s.system.scales"
   ]
  },
  {
   "cell_type": "code",
   "execution_count": 10,
   "metadata": {},
   "outputs": [
    {
     "data": {
      "text/plain": [
       "[t0, t1, t2]"
      ]
     },
     "execution_count": 10,
     "metadata": {},
     "output_type": "execute_result"
    }
   ],
   "source": [
    "s.scales"
   ]
  },
  {
   "cell_type": "code",
   "execution_count": 11,
   "metadata": {},
   "outputs": [],
   "source": [
    "a = DataFrame({'a': list(range(2))})\n",
    "b = DataFrame({'b': list(range(24))})"
   ]
  },
  {
   "cell_type": "code",
   "execution_count": 12,
   "metadata": {},
   "outputs": [
    {
     "name": "stderr",
     "output_type": "stream",
     "text": [
      "c:\\Users\\cacodcar\\energiapy\\src\\energiapy\\blocks\\scenario.py:243: UserWarning: \n",
      "A csh_def object was already defined.\n",
      "Overwriting.\n",
      "This should not cause any modeling issues.\n",
      "Check Scenario defaults if unintended.\n",
      "\n",
      "  warn(\n"
     ]
    }
   ],
   "source": [
    "s.csh = Cash(\n",
    "    spend={\n",
    "        s.madgaon: True,\n",
    "        s.ponje: {s.t1: (2, a)},\n",
    "        s.cacoda: 300,\n",
    "        s.network: {s.t2: [5, 60]},\n",
    "    }\n",
    ")"
   ]
  },
  {
   "cell_type": "code",
   "execution_count": 13,
   "metadata": {},
   "outputs": [
    {
     "data": {
      "text/plain": [
       "[BindLB[Spend(csh, net, t2)],\n",
       " BindUB[Spend(csh, madgaon, t0)],\n",
       " BindUB[Spend(csh, net, t2)],\n",
       " Bind[Spend(csh, cacoda, t0)],\n",
       " Bind[Spend(csh, ponje, t1)]]"
      ]
     },
     "execution_count": 13,
     "metadata": {},
     "output_type": "execute_result"
    }
   ],
   "source": [
    "s.csh.constraints"
   ]
  },
  {
   "cell_type": "code",
   "execution_count": 14,
   "metadata": {},
   "outputs": [
    {
     "data": {
      "text/plain": [
       "[Spend(csh, cacoda, t0),\n",
       " Spend(csh, madgaon, t0),\n",
       " Spend(csh, net, t2),\n",
       " Spend(csh, ponje, t1)]"
      ]
     },
     "execution_count": 14,
     "metadata": {},
     "output_type": "execute_result"
    }
   ],
   "source": [
    "s.csh.variables"
   ]
  },
  {
   "cell_type": "code",
   "execution_count": 15,
   "metadata": {},
   "outputs": [
    {
     "data": {
      "text/plain": [
       "{'name': 'Data|:s:|',\n",
       " '_initial_state': {'name': ':s:'},\n",
       " 'lnd_def': Data|lnd_def|,\n",
       " 'gwp': Data|gwp|,\n",
       " 'ap': Data|ap|,\n",
       " 'epm': Data|epm|,\n",
       " 'epf': Data|epf|,\n",
       " 'ept': Data|ept|,\n",
       " 'pocp': Data|pocp|,\n",
       " 'odp': Data|odp|,\n",
       " 'adpmn': Data|adpmn|,\n",
       " 'adpmt': Data|adpmt|,\n",
       " 'adpf': Data|adpf|,\n",
       " 'wdp': Data|wdp|,\n",
       " 'dm': Data|dm|,\n",
       " 'market': Data|market|,\n",
       " 'consumer': Data|consumer|,\n",
       " 'earth': Data|earth|,\n",
       " 'csh': Data|csh|}"
      ]
     },
     "execution_count": 15,
     "metadata": {},
     "output_type": "execute_result"
    }
   ],
   "source": [
    "s.data.__dict__"
   ]
  },
  {
   "cell_type": "code",
   "execution_count": 16,
   "metadata": {},
   "outputs": [
    {
     "data": {
      "text/plain": [
       "{'component': csh,\n",
       " 'name': 'Data|csh|',\n",
       " 'spend': [M(csh, madgaon, t0),\n",
       "  300(csh, cacoda, t0),\n",
       "  Th(csh, ponje, t1),\n",
       "  [5(csh, net, t2):L, 60(csh, net, t2):U]]}"
      ]
     },
     "execution_count": 16,
     "metadata": {},
     "output_type": "execute_result"
    }
   ],
   "source": [
    "s.csh.data.__dict__"
   ]
  },
  {
   "cell_type": "code",
   "execution_count": 17,
   "metadata": {},
   "outputs": [
    {
     "data": {
      "text/plain": [
       "[SpendBnd|300(csh, cacoda, t0)|,\n",
       " SpendBnd|5(csh, net, t2):L|,\n",
       " SpendBnd|60(csh, net, t2):U|,\n",
       " SpendBnd|M(csh, madgaon, t0)|,\n",
       " SpendBnd|Th(csh, ponje, t1)|]"
      ]
     },
     "execution_count": 17,
     "metadata": {},
     "output_type": "execute_result"
    }
   ],
   "source": [
    "s.csh.parameters"
   ]
  },
  {
   "cell_type": "code",
   "execution_count": 18,
   "metadata": {},
   "outputs": [
    {
     "name": "stderr",
     "output_type": "stream",
     "text": [
      "c:\\Users\\cacodcar\\energiapy\\src\\energiapy\\blocks\\scenario.py:243: UserWarning: \n",
      "A lnd_def object was already defined.\n",
      "Overwriting.\n",
      "This should not cause any modeling issues.\n",
      "Check Scenario defaults if unintended.\n",
      "\n",
      "  warn(\n",
      "c:\\Users\\cacodcar\\energiapy\\src\\energiapy\\components\\_base\\_consistent.py:160: UserWarning: lnd.use:Inconsistent temporal scale for ponje at t0. Updating to t2\n",
      "  warn(\n"
     ]
    }
   ],
   "source": [
    "s.lnd = Land(use={s.t2: 100, s.ponje: {s.t0: b}, s.cacoda: a}, cost=20)"
   ]
  },
  {
   "cell_type": "code",
   "execution_count": 19,
   "metadata": {},
   "outputs": [],
   "source": [
    "# s.lnd.parameters\n",
    "# s.lnd.constraints\n",
    "# s.lnd.variables"
   ]
  },
  {
   "cell_type": "code",
   "execution_count": 20,
   "metadata": {},
   "outputs": [
    {
     "name": "stderr",
     "output_type": "stream",
     "text": [
      "c:\\Users\\cacodcar\\energiapy\\src\\energiapy\\components\\_base\\_consistent.py:198: UserWarning: H2.sell_price:Inconsistent temporal scale for ponje at t1. Updating to t2\n",
      "  warn(\n",
      "c:\\Users\\cacodcar\\energiapy\\src\\energiapy\\components\\_base\\_consistent.py:198: UserWarning: Power.buy:Inconsistent temporal scale for net at t0. Updating to t1\n",
      "  warn(\n"
     ]
    }
   ],
   "source": [
    "s.H2 = Resource(\n",
    "    sell={s.t0: [0, 4], s.t1: [a, 34], s.t2: (a, b)},\n",
    "    sell_price={\n",
    "        s.madgaon: True,\n",
    "        s.ponje: {s.t1: (2, b)},\n",
    "        s.cacoda: 300,\n",
    "        s.net: {s.t0: [5, 60]},\n",
    "    },\n",
    ")\n",
    "\n",
    "\n",
    "s.Solar = Resource(buy=True, basis='MW', label='Solar Power')\n",
    "\n",
    "\n",
    "s.Wind = Resource(buy=a, basis='MW', label='Wind Power')\n",
    "\n",
    "\n",
    "s.Power = Resource(basis='MW', label='Power generated')\n",
    "\n",
    "\n",
    "s.Uranium = Resource(\n",
    "    buy=DataFrame({'a': [i for i in range(24)]}),\n",
    "    buy_price=42.70 / (250 / 2),\n",
    "    basis='kg',\n",
    "    label='Uranium',\n",
    ")\n",
    "\n",
    "\n",
    "s.H2_L = Resource(sell=(0, 23), basis='tons', label='Hydrogen')\n",
    "\n",
    "\n",
    "s.CO2_AQoff = Resource(basis='tons', label='Carbon dioxide - sequestered')\n",
    "\n",
    "\n",
    "s.H2O = Resource(buy=(20, 50), buy_price=b, basis='tons', label='Water')\n",
    "\n",
    "\n",
    "s.CH4 = Resource(buy=[20, 40], buy_price=20, basis='tons', label='Natural gas')\n",
    "\n",
    "\n",
    "s.CO2 = Resource(basis='tons', label='Carbon dioxide', block='Resource')\n",
    "\n",
    "\n",
    "s.CO2_Vent = Resource(\n",
    "    basis='tons', label='Carbon dioxide - Vented', sell_price=(2, 20))\n",
    "\n",
    "\n",
    "s.O2 = Resource(sell=[20, True], basis='tons', label='Oxygen')\n",
    "\n",
    "\n",
    "s.CO2_DAC = Resource(basis='tons', label='Carbon dioxide - captured')\n",
    "s.Power = Resource(buy=[0, a], basis='MW', label='Power generated')"
   ]
  },
  {
   "cell_type": "code",
   "execution_count": 21,
   "metadata": {},
   "outputs": [],
   "source": [
    "s.LiR = Material(\n",
    "    emission={s.gwp: 1.484},\n",
    "    use={s.ponje: 1.5},\n",
    "    basis='kg',\n",
    "    label='Lithium Reserves',\n",
    "    citation='Nelson Bunyui Manjong (2021)',\n",
    ")\n",
    "\n",
    "\n",
    "# LiB = Material(name='LiB', gwp=0.031, toxicity=793, basis='kg', label='Brine-based Lithium',\n",
    "\n",
    "\n",
    "#                citation='Nelson Bunyui Manjong (2021)')\n",
    "\n",
    "\n",
    "# Monocrystalline = Material(name='Mc', gwp=20, resource_cons={H2O: 1.5}, toxicity=40.74, basis='kg', label='Mono',\n",
    "\n",
    "\n",
    "#                            citation='Environmental impact assessment of monocrystalline silicon solar photovoltaic cell production: a case study in China (toxicity)')\n",
    "\n",
    "\n",
    "# Polycrystalline = Material(name='Pc', gwp=26, resource_cons={\n",
    "\n",
    "\n",
    "#                            H2O: 1}, toxicity=15, basis='kg', label='Poly', citation='Environmental Economic Impact Assessments of a ... - MDPI (gwp and toxicity)')\n",
    "\n",
    "\n",
    "# CdTE = Material(name='CdTe', gwp=40, resource_cons={H2O: 0.25}, toxicity=5, basis='kg', label='C',\n",
    "\n",
    "\n",
    "#                 citation='Investigation of life cycle CO2 emissions of the polycrystalline and cadmium telluride PV panels')"
   ]
  },
  {
   "cell_type": "code",
   "execution_count": 22,
   "metadata": {},
   "outputs": [
    {
     "name": "stderr",
     "output_type": "stream",
     "text": [
      "c:\\Users\\cacodcar\\energiapy\\src\\energiapy\\components\\_base\\_consistent.py:198: UserWarning: WF.operate:Inconsistent temporal scale for net at t0. Updating to t2\n",
      "  warn(\n"
     ]
    }
   ],
   "source": [
    "s.WF = Process(\n",
    "    conversion={s.Power: {X(0): {s.Wind: -1}, X(1): {s.Wind: -1}}},\n",
    "    produce=[True, b],\n",
    "    capex={1462000, I(202233)},\n",
    "    opex={4953, I(70)},\n",
    "    capacity=1000,\n",
    "    emission={s.gwp: 50, s.odp: 2900},\n",
    "    material={s.LiR: 1.5},\n",
    "    land=30,\n",
    "    label='Wind mill array',\n",
    "    basis='MW',\n",
    ")\n",
    "\n",
    "\n",
    "s.PV = Process(\n",
    "    sell_price={s.Power: 30},\n",
    "    credit={s.Power: DataFrame({'a': [2]})},\n",
    "    conversion={s.Power: {X(1): {s.Solar: -1.2}, X(2): {s.Solar: -1.5}}},\n",
    "    capex={X(0): 1333, X(1): 1444, X(2): 1555},\n",
    "    opex=22623,\n",
    "    capacity={X(0): 3000, X(1): 4000, X(2): 5000},\n",
    "    label='Solar PV',\n",
    "    basis='MW',\n",
    ")\n",
    "\n",
    "\n",
    "s.SMRH = Process(\n",
    "    land=50,\n",
    "    conversion={\n",
    "        s.H2: {\n",
    "            s.Power: -1.11,\n",
    "            s.CH4: -3.76,\n",
    "            s.H2O: -23.7,\n",
    "            s.CO2_Vent: 1.03,\n",
    "            s.CO2: 9.332,\n",
    "        }\n",
    "    },\n",
    "    capex={\n",
    "        2520000,\n",
    "    },\n",
    "    opex={51.5, I(945000)},\n",
    "    capacity=1000,\n",
    "    label='Steam methane reforming + CCUS',\n",
    ")\n",
    "\n",
    "s.NGCC = Process(\n",
    "    buy_price={s.CH4: 4, s.H2O: 20},\n",
    "    conversion={\n",
    "        s.Power: {\n",
    "            s.CH4: -0.108,\n",
    "            s.H2O: -10,\n",
    "            s.CO2_Vent: 0.297 * 0.05,\n",
    "            s.CO2: 0.297 * 0.95,\n",
    "        }\n",
    "    },\n",
    "    capex=2158928,\n",
    "    opex={4090, I(53320)},\n",
    "    capacity=[1, 100],\n",
    "    label='NGCC + 95% CC',\n",
    ")\n",
    "s.SMR = Process(\n",
    "    capex=2400,\n",
    "    opex={0.03, I(800)},\n",
    "    conversion={s.H2: {s.Power: -1.11, s.CH4: -\n",
    "                       3.76, s.H2O: -23.7, s.CO2_Vent: 9.4979}},\n",
    "    capacity=1000,\n",
    "    label='Steam methane reforming',\n",
    ")\n",
    "s.H2FC = Process(\n",
    "    buy_price={s.H2: 2},\n",
    "    sell={s.Power: 20},\n",
    "    conversion={s.Power: {s.H2: -0.050}},\n",
    "    capex=1.6 * 10**6,\n",
    "    opex=3.5,\n",
    "    capacity=[1000, 2000],\n",
    "    label='hydrogen fuel cell',\n",
    ")\n",
    "s.DAC = Process(\n",
    "    capex=0.02536,\n",
    "    opex=0.634,\n",
    "    conversion={s.CO2_DAC: {s.Power: -0.193, s.H2O: -4.048}},\n",
    "    capacity=1000,\n",
    "    label='Direct air capture',\n",
    ")\n",
    "# s.PSH = Process(conversion = {s.Power: 0.6}, capex = 3924781, fopex= 17820, vopex = 512.5, store = 10000, capacity=1000, label='Pumped storage hydropower', basis = 'MW')\n",
    "s.ASMR = Process(\n",
    "    buy={s.Uranium: 40},\n",
    "    conversion={s.Power: {s.Uranium: -4.17 * 10 ** (-5), s.H2O: -3.364}},\n",
    "    capex=7988951,\n",
    "    opex=I(0.04 * 0.730),\n",
    "    capacity=1000,\n",
    "    label='Small modular reactors (SMRs)',\n",
    ")\n",
    "s.AWE = Process(\n",
    "    land=(0, 20),\n",
    "    conversion={s.H2: {s.Power: -1, s.O2: 0.7632, s.H2O: -0.1753}},\n",
    "    capex={1.1 * 10**6, I(20)},\n",
    "    opex=I(16918),\n",
    "    capacity=True,\n",
    "    label='Alkaline water electrolysis (AWE)',\n",
    "    citation='Demirhan et al. 2018 AIChE paper',\n",
    ")"
   ]
  },
  {
   "cell_type": "code",
   "execution_count": 23,
   "metadata": {},
   "outputs": [
    {
     "data": {
      "text/plain": [
       "['capacity',\n",
       " 'operate',\n",
       " 'capex',\n",
       " 'opex',\n",
       " 'emission',\n",
       " 'land',\n",
       " 'buy',\n",
       " 'sell',\n",
       " 'buy_price',\n",
       " 'sell_price',\n",
       " 'credit',\n",
       " 'penalty',\n",
       " 'material']"
      ]
     },
     "execution_count": 23,
     "metadata": {},
     "output_type": "execute_result"
    }
   ],
   "source": [
    "Process.inputs()"
   ]
  },
  {
   "cell_type": "code",
   "execution_count": 24,
   "metadata": {},
   "outputs": [
    {
     "data": {
      "text/plain": [
       "['capacity',\n",
       " 'operate',\n",
       " 'capex',\n",
       " 'opex',\n",
       " 'emission',\n",
       " 'land',\n",
       " 'material',\n",
       " 'loss']"
      ]
     },
     "execution_count": 24,
     "metadata": {},
     "output_type": "execute_result"
    }
   ],
   "source": [
    "Storage.inputs()"
   ]
  },
  {
   "cell_type": "code",
   "execution_count": 25,
   "metadata": {},
   "outputs": [
    {
     "name": "stdout",
     "output_type": "stream",
     "text": [
      "{Power: 0.8}\n",
      "{Power: 0.9}\n"
     ]
    }
   ],
   "source": [
    "s.LiI = Storage(capacity=[2000], inventory=s.Power)\n",
    "s.LiI2 = Storage(capacity=[2000], inventory={s.Power: 0.6})\n",
    "s.H2Stg = Storage(\n",
    "    capacity=[2000], inventory={s.H2: {X(0): {s.Power: 0.8}, X(1): {s.Power: 0.9}}}\n",
    ")"
   ]
  },
  {
   "cell_type": "code",
   "execution_count": 29,
   "metadata": {},
   "outputs": [
    {
     "data": {
      "text/plain": [
       "{x(H2Stg_c,conv,(0)): {H2Stg_H2: 1, Power: -1.25, H2: -1},\n",
       " x(H2Stg_c,conv,(1)): {H2Stg_H2: 1, Power: -1.1111111111111112, H2: -1}}"
      ]
     },
     "execution_count": 29,
     "metadata": {},
     "output_type": "execute_result"
    }
   ],
   "source": [
    "s.H2Stg.balance_c"
   ]
  },
  {
   "cell_type": "code",
   "execution_count": 28,
   "metadata": {},
   "outputs": [
    {
     "data": {
      "text/plain": [
       "{Power: 1, LiI_Power: -1}"
      ]
     },
     "execution_count": 28,
     "metadata": {},
     "output_type": "execute_result"
    }
   ],
   "source": [
    "s.LiI.balance_d"
   ]
  },
  {
   "cell_type": "code",
   "execution_count": 26,
   "metadata": {},
   "outputs": [
    {
     "data": {
      "text/plain": [
       "{x(H2Stg_c,conv,(0)): {H2Stg_H2: 1, Power: -1.25, H2: -1},\n",
       " x(H2Stg_c,conv,(1)): {H2Stg_H2: 1, Power: -1.1111111111111112, H2: -1}}"
      ]
     },
     "execution_count": 26,
     "metadata": {},
     "output_type": "execute_result"
    }
   ],
   "source": [
    "# s.H2Stg.cin.balance\n",
    "s.H2Stg_c.conversion.balance"
   ]
  },
  {
   "cell_type": "code",
   "execution_count": null,
   "metadata": {},
   "outputs": [],
   "source": []
  },
  {
   "cell_type": "code",
   "execution_count": 34,
   "metadata": {},
   "outputs": [
    {
     "ename": "SyntaxError",
     "evalue": "invalid syntax (1167265362.py, line 1)",
     "output_type": "error",
     "traceback": [
      "\u001b[1;36m  Cell \u001b[1;32mIn[34], line 1\u001b[1;36m\u001b[0m\n\u001b[1;33m    s.LiI.inventory.conversion_c.\u001b[0m\n\u001b[1;37m                                 ^\u001b[0m\n\u001b[1;31mSyntaxError\u001b[0m\u001b[1;31m:\u001b[0m invalid syntax\n"
     ]
    }
   ],
   "source": [
    "s.LiI.inventory.conversion_c."
   ]
  },
  {
   "cell_type": "code",
   "execution_count": 29,
   "metadata": {},
   "outputs": [
    {
     "name": "stdout",
     "output_type": "stream",
     "text": [
      "Capacity(LiI, net, t0)>=CapBnd|0(LiI, net, t0):L|\n",
      "Capacity(LiI, net, t0)<=CapBnd|2000(LiI, net, t0):U|\n"
     ]
    }
   ],
   "source": [
    "s.LiI.eqns()"
   ]
  },
  {
   "cell_type": "code",
   "execution_count": null,
   "metadata": {},
   "outputs": [],
   "source": []
  },
  {
   "cell_type": "code",
   "execution_count": 30,
   "metadata": {},
   "outputs": [
    {
     "name": "stdout",
     "output_type": "stream",
     "text": [
      "Capacity(LiI_c, net, t0)<=CapBnd|M(LiI_c, net, t0)|\n"
     ]
    }
   ],
   "source": [
    "s.LiI_c.eqns()"
   ]
  },
  {
   "cell_type": "code",
   "execution_count": null,
   "metadata": {},
   "outputs": [
    {
     "data": {
      "text/plain": [
       "{H2: 1, H2Stg_H2: 1}"
      ]
     },
     "execution_count": 28,
     "metadata": {},
     "output_type": "execute_result"
    }
   ],
   "source": [
    "s.LiI2_d.conversion.balance\n",
    "s.H2Stg_d.conversion.balance"
   ]
  },
  {
   "cell_type": "code",
   "execution_count": 29,
   "metadata": {},
   "outputs": [
    {
     "data": {
      "text/plain": [
       "[CH4,\n",
       " CO2,\n",
       " CO2_AQoff,\n",
       " CO2_DAC,\n",
       " CO2_Vent,\n",
       " H2,\n",
       " H2O,\n",
       " H2Stg_H2,\n",
       " H2_L,\n",
       " LiI2_Power,\n",
       " LiI_Power,\n",
       " O2,\n",
       " Power,\n",
       " Solar,\n",
       " Uranium,\n",
       " Wind]"
      ]
     },
     "execution_count": 29,
     "metadata": {},
     "output_type": "execute_result"
    }
   ],
   "source": [
    "s.resources"
   ]
  },
  {
   "cell_type": "code",
   "execution_count": 30,
   "metadata": {},
   "outputs": [
    {
     "data": {
      "text/plain": [
       "True"
      ]
     },
     "execution_count": 30,
     "metadata": {},
     "output_type": "execute_result"
    }
   ],
   "source": [
    "isinstance(s.LiI_Power, Resource)"
   ]
  },
  {
   "cell_type": "code",
   "execution_count": 37,
   "metadata": {},
   "outputs": [],
   "source": [
    "from energiapy.components._base._component import _Component\n",
    "from energiapy.components._base._defined import _Defined"
   ]
  },
  {
   "cell_type": "code",
   "execution_count": 38,
   "metadata": {},
   "outputs": [
    {
     "data": {
      "text/plain": [
       "True"
      ]
     },
     "execution_count": 38,
     "metadata": {},
     "output_type": "execute_result"
    }
   ],
   "source": [
    "isinstance(s.H2, _Defined)"
   ]
  },
  {
   "cell_type": "code",
   "execution_count": 33,
   "metadata": {},
   "outputs": [
    {
     "data": {
      "text/plain": [
       "[H2Stg, LiI, LiI2]"
      ]
     },
     "execution_count": 33,
     "metadata": {},
     "output_type": "execute_result"
    }
   ],
   "source": [
    "s.storages"
   ]
  },
  {
   "cell_type": "code",
   "execution_count": 32,
   "metadata": {},
   "outputs": [
    {
     "data": {
      "text/plain": [
       "[ASMR,\n",
       " AWE,\n",
       " DAC,\n",
       " H2FC,\n",
       " H2Stg_c,\n",
       " H2Stg_d,\n",
       " LiI2_c,\n",
       " LiI2_d,\n",
       " LiI_c,\n",
       " LiI_d,\n",
       " NGCC,\n",
       " PV,\n",
       " SMR,\n",
       " SMRH,\n",
       " WF]"
      ]
     },
     "execution_count": 32,
     "metadata": {},
     "output_type": "execute_result"
    }
   ],
   "source": [
    "s.processes"
   ]
  },
  {
   "cell_type": "code",
   "execution_count": null,
   "metadata": {},
   "outputs": [
    {
     "data": {
      "text/plain": [
       "{'conversion': {'resource_str': {Power: -1}},\n",
       " 'process': LiI_c,\n",
       " 'base': 'resource_str',\n",
       " 'modes': None,\n",
       " 'n_modes': 1,\n",
       " 'sold': ['resource_str'],\n",
       " 'bought': [Power],\n",
       " 'balance': {'resource_str': 1, Power: -1},\n",
       " 'involve': ['resource_str', Power],\n",
       " 'name': 'Conv(resource_str,LiI_c)'}"
      ]
     },
     "execution_count": 28,
     "metadata": {},
     "output_type": "execute_result"
    }
   ],
   "source": [
    "s.LiI_c.conversion.__dict__"
   ]
  },
  {
   "cell_type": "code",
   "execution_count": null,
   "metadata": {},
   "outputs": [
    {
     "data": {
      "text/plain": [
       "[[M(WF, net, t2):L, DtSt(WF, net, t2):U]]"
      ]
     },
     "execution_count": 24,
     "metadata": {},
     "output_type": "execute_result"
    }
   ],
   "source": [
    "s.WF.operate"
   ]
  },
  {
   "cell_type": "code",
   "execution_count": 25,
   "metadata": {},
   "outputs": [
    {
     "data": {
      "text/plain": [
       "{'name': 'Data|:s:|',\n",
       " '_initial_state': {'name': ':s:'},\n",
       " 'gwp': Data|gwp|,\n",
       " 'ap': Data|ap|,\n",
       " 'epm': Data|epm|,\n",
       " 'epf': Data|epf|,\n",
       " 'ept': Data|ept|,\n",
       " 'pocp': Data|pocp|,\n",
       " 'odp': Data|odp|,\n",
       " 'adpmn': Data|adpmn|,\n",
       " 'adpmt': Data|adpmt|,\n",
       " 'adpf': Data|adpf|,\n",
       " 'wdp': Data|wdp|,\n",
       " 'dm': Data|dm|,\n",
       " 'market': Data|market|,\n",
       " 'consumer': Data|consumer|,\n",
       " 'earth': Data|earth|,\n",
       " 'csh': Data|csh|,\n",
       " 'lnd': Data|lnd|,\n",
       " 'H2': Data|H2|,\n",
       " 'Solar': Data|Solar|,\n",
       " 'Wind': Data|Wind|,\n",
       " 'Power': Data|Power|,\n",
       " 'Uranium': Data|Uranium|,\n",
       " 'H2_L': Data|H2_L|,\n",
       " 'CO2_AQoff': Data|CO2_AQoff|,\n",
       " 'H2O': Data|H2O|,\n",
       " 'CH4': Data|CH4|,\n",
       " 'CO2': Data|CO2|,\n",
       " 'CO2_Vent': Data|CO2_Vent|,\n",
       " 'O2': Data|O2|,\n",
       " 'CO2_DAC': Data|CO2_DAC|,\n",
       " 'LiR': Data|LiR|,\n",
       " 'WF': Data|WF|,\n",
       " 'PV': Data|PV|,\n",
       " 'SMRH': Data|SMRH|,\n",
       " 'NGCC': Data|NGCC|,\n",
       " 'SMR': Data|SMR|,\n",
       " 'H2FC': Data|H2FC|,\n",
       " 'DAC': Data|DAC|,\n",
       " 'ASMR': Data|ASMR|,\n",
       " 'AWE': Data|AWE|}"
      ]
     },
     "execution_count": 25,
     "metadata": {},
     "output_type": "execute_result"
    }
   ],
   "source": [
    "s.data.__dict__"
   ]
  },
  {
   "cell_type": "code",
   "execution_count": 26,
   "metadata": {},
   "outputs": [
    {
     "data": {
      "text/plain": [
       "[0.03(csh, SMR, net, t0),\n",
       " 800(csh, SMR, net, t0):i,\n",
       " 1000(SMR, net, t0),\n",
       " 2400(csh, SMR, net, t0)]"
      ]
     },
     "execution_count": 26,
     "metadata": {},
     "output_type": "execute_result"
    }
   ],
   "source": [
    "s.SMR.constants"
   ]
  },
  {
   "cell_type": "code",
   "execution_count": 27,
   "metadata": {},
   "outputs": [
    {
     "name": "stdout",
     "output_type": "stream",
     "text": [
      "Capacity(SMR, net, t0)==CapBnd|1000(SMR, net, t0)|\n",
      "ExpCap(csh, SMR, net, t0)==CapExp|2400(csh, SMR, net, t0)|*Capacity(SMR, net, t0)\n",
      "ExpOp(csh, SMR, net, t0)==OpExp|0.03(csh, SMR, net, t0)|*Operate(SMR, net, t0)\n",
      "ExpOpI(csh, SMR, net, t0)==OpExpI|800(csh, SMR, net, t0):i|\n"
     ]
    }
   ],
   "source": [
    "s.SMR.eqns()"
   ]
  },
  {
   "cell_type": "code",
   "execution_count": 28,
   "metadata": {},
   "outputs": [
    {
     "name": "stdout",
     "output_type": "stream",
     "text": [
      "-----------gwp Constraints -----------\n",
      "\n",
      "-----------ap Constraints -----------\n",
      "\n",
      "-----------epm Constraints -----------\n",
      "\n",
      "-----------epf Constraints -----------\n",
      "\n",
      "-----------ept Constraints -----------\n",
      "\n",
      "-----------pocp Constraints -----------\n",
      "\n",
      "-----------odp Constraints -----------\n",
      "\n",
      "-----------adpmn Constraints -----------\n",
      "\n",
      "-----------adpmt Constraints -----------\n",
      "\n",
      "-----------adpf Constraints -----------\n",
      "\n",
      "-----------wdp Constraints -----------\n",
      "\n",
      "-----------dm Constraints -----------\n",
      "\n",
      "-----------market Constraints -----------\n",
      "\n",
      "-----------consumer Constraints -----------\n",
      "\n",
      "-----------earth Constraints -----------\n",
      "\n",
      "-----------csh Constraints -----------\n",
      "Spend(csh, net, t2)>=SpendBnd|5(csh, net, t2):L|\n",
      "Spend(csh, madgaon, t0)<=SpendBnd|M(csh, madgaon, t0)|\n",
      "Spend(csh, net, t2)<=SpendBnd|60(csh, net, t2):U|\n",
      "Spend(csh, cacoda, t0)==SpendBnd|300(csh, cacoda, t0)|\n",
      "Spend(csh, ponje, t1)==SpendBnd|Th(csh, ponje, t1)|\n",
      "\n",
      "-----------lnd Constraints -----------\n",
      "Use(lnd, cacoda, t1)==UseBnd|DtSt(lnd, cacoda, t1)|\n",
      "Use(lnd, net, t2)==UseBnd|100(lnd, net, t2)|\n",
      "Use(lnd, ponje, t2)==UseBnd|DtSt(lnd, ponje, t2)|\n",
      "ExpUse(csh, lnd, net, t0)==UseExp|20(csh, lnd, net, t0)|*Use(lnd, net, t0)\n",
      "\n",
      "-----------H2 Constraints -----------\n",
      "Sell(H2, net, t0)>=SellBnd|0(H2, net, t0):L|\n",
      "Sell(H2, net, t1)>=SellBnd|DtSt(H2, net, t1):L|\n",
      "Sell(H2, net, t0)<=SellBnd|4(H2, net, t0):U|\n",
      "Sell(H2, net, t1)<=SellBnd|34(H2, net, t1):U|\n",
      "Sell(H2, net, t2)==SellBnd|Th(H2, net, t2)|\n",
      "ExpSell(csh, H2, net, t0)>=SellPrice|5(csh, H2, net, t0):L|*Sell(H2, net, t0)\n",
      "ExpSell(csh, H2, madgaon, t0)<=SellPrice|M(csh, H2, madgaon, t0)|*Sell(H2, madgaon, t0)\n",
      "ExpSell(csh, H2, net, t0)<=SellPrice|60(csh, H2, net, t0):U|*Sell(H2, net, t0)\n",
      "ExpSell(csh, H2, cacoda, t0)==SellPrice|300(csh, H2, cacoda, t0)|*Sell(H2, cacoda, t0)\n",
      "ExpSell(csh, H2, ponje, t2)==SellPrice|Th(csh, H2, ponje, t2)|*Sell(H2, ponje, t2)\n",
      "\n",
      "-----------Solar Constraints -----------\n",
      "Buy(Solar, net, t0)<=BuyBnd|M(Solar, net, t0)|\n",
      "\n",
      "-----------Wind Constraints -----------\n",
      "Buy(Wind, net, t1)==BuyBnd|DtSt(Wind, net, t1)|\n",
      "\n",
      "-----------Power Constraints -----------\n",
      "Buy(Power, net, t1)>=BuyBnd|0(Power, net, t1):L|\n",
      "Buy(Power, net, t1)<=BuyBnd|DtSt(Power, net, t1):U|\n",
      "\n",
      "-----------Uranium Constraints -----------\n",
      "Buy(Uranium, net, t2)==BuyBnd|DtSt(Uranium, net, t2)|\n",
      "ExpBuy(csh, Uranium, net, t0)==BuyPrice|0.3416(csh, Uranium, net, t0)|*Buy(Uranium, net, t0)\n",
      "\n",
      "-----------H2_L Constraints -----------\n",
      "Sell(H2_L, net, t0)==SellBnd|Th(H2_L, net, t0)|\n",
      "\n",
      "-----------CO2_AQoff Constraints -----------\n",
      "\n",
      "-----------H2O Constraints -----------\n",
      "Buy(H2O, net, t0)==BuyBnd|Th(H2O, net, t0)|\n",
      "ExpBuy(csh, H2O, net, t2)==BuyPrice|DtSt(csh, H2O, net, t2)|*Buy(H2O, net, t2)\n",
      "\n",
      "-----------CH4 Constraints -----------\n",
      "Buy(CH4, net, t0)>=BuyBnd|20(CH4, net, t0):L|\n",
      "Buy(CH4, net, t0)<=BuyBnd|40(CH4, net, t0):U|\n",
      "ExpBuy(csh, CH4, net, t0)==BuyPrice|20(csh, CH4, net, t0)|*Buy(CH4, net, t0)\n",
      "\n",
      "-----------CO2 Constraints -----------\n",
      "\n",
      "-----------CO2_Vent Constraints -----------\n",
      "ExpSell(csh, CO2_Vent, net, t0)==SellPrice|Th(csh, CO2_Vent, net, t0)|*Sell(CO2_Vent, net, t0)\n",
      "\n",
      "-----------O2 Constraints -----------\n",
      "Sell(O2, net, t0)>=SellBnd|20(O2, net, t0):L|\n",
      "Sell(O2, net, t0)<=SellBnd|M(O2, net, t0):U|\n",
      "\n",
      "-----------CO2_DAC Constraints -----------\n",
      "\n",
      "-----------LiR Constraints -----------\n",
      "Use(LiR, ponje, t0)==UseBnd|1.5(LiR, ponje, t0)|\n",
      "EmitUse(gwp, LiR, net, t0)==CmdEmitUse|1.484(gwp, LiR, net, t0)|*Use(LiR, net, t0)\n",
      "\n",
      "-----------WF Constraints -----------\n",
      "Operate(WF, net, t2)<=OpBnd|M(WF, net, t2):L|*Capacity(WF, net, t2)\n",
      "Capacity(WF, net, t0)==CapBnd|1000(WF, net, t0)|\n",
      "EmitCap(gwp, WF, net, t0)==OpnEmit|50(gwp, WF, net, t0)|*Capacity(WF, net, t0)\n",
      "EmitCap(odp, WF, net, t0)==OpnEmit|2900(odp, WF, net, t0)|*Capacity(WF, net, t0)\n",
      "ExpCap(csh, WF, net, t0)==CapExp|1462000(csh, WF, net, t0)|*Capacity(WF, net, t0)\n",
      "ExpCapI(csh, WF, net, t0)==CapExpI|202233(csh, WF, net, t0):i|\n",
      "ExpOp(csh, WF, net, t0)==OpExp|4953(csh, WF, net, t0)|*Operate(WF, net, t0)\n",
      "ExpOpI(csh, WF, net, t0)==OpExpI|70(csh, WF, net, t0):i|\n",
      "Used(LiR, WF, net, t0)==LndUse|1.5(LiR, WF, net, t0)|*Capacity(WF, net, t0)\n",
      "Used(lnd, WF, net, t0)==LndUse|30(lnd, WF, net, t0)|*Capacity(WF, net, t0)\n",
      "\n",
      "-----------PV Constraints -----------\n",
      "Capacity(PV, net, t0, x(PV,capacity,0))==CapBnd|3000(PV, net, t0, x(PV,capacity,0))|\n",
      "Capacity(PV, net, t0, x(PV,capacity,1))==CapBnd|4000(PV, net, t0, x(PV,capacity,1))|\n",
      "Capacity(PV, net, t0, x(PV,capacity,2))==CapBnd|5000(PV, net, t0, x(PV,capacity,2))|\n",
      "Credit(csh, Power, PV, net, t0)==ResCredit|DtSt(csh, Power, PV, net, t0)|*Sell(Power, PV, net, t0)\n",
      "ExpCap(csh, PV, net, t0, x(PV,capex,0))==CapExp|1333(csh, PV, net, t0, x(PV,capex,0))|*Capacity(PV, net, t0, x(PV,capex,0))\n",
      "ExpCap(csh, PV, net, t0, x(PV,capex,1))==CapExp|1444(csh, PV, net, t0, x(PV,capex,1))|*Capacity(PV, net, t0, x(PV,capex,1))\n",
      "ExpCap(csh, PV, net, t0, x(PV,capex,2))==CapExp|1555(csh, PV, net, t0, x(PV,capex,2))|*Capacity(PV, net, t0, x(PV,capex,2))\n",
      "ExpOp(csh, PV, net, t0)==OpExp|22623(csh, PV, net, t0)|*Operate(PV, net, t0)\n",
      "ExpSell(csh, Power, PV, net, t0)==SellPrice|30(csh, Power, PV, net, t0)|*Sell(Power, PV, net, t0)\n",
      "\n",
      "-----------SMRH Constraints -----------\n",
      "Capacity(SMRH, net, t0)==CapBnd|1000(SMRH, net, t0)|\n",
      "ExpCap(csh, SMRH, net, t0)==CapExp|2520000(csh, SMRH, net, t0)|*Capacity(SMRH, net, t0)\n",
      "ExpOp(csh, SMRH, net, t0)==OpExp|51.5(csh, SMRH, net, t0)|*Operate(SMRH, net, t0)\n",
      "ExpOpI(csh, SMRH, net, t0)==OpExpI|945000(csh, SMRH, net, t0):i|\n",
      "Used(lnd, SMRH, net, t0)==LndUse|50(lnd, SMRH, net, t0)|*Capacity(SMRH, net, t0)\n",
      "\n",
      "-----------NGCC Constraints -----------\n",
      "Capacity(NGCC, net, t0)>=CapBnd|1(NGCC, net, t0):L|\n",
      "Capacity(NGCC, net, t0)<=CapBnd|100(NGCC, net, t0):U|\n",
      "ExpBuy(csh, CH4, NGCC, net, t0)==BuyPrice|4(csh, CH4, NGCC, net, t0)|*Buy(CH4, NGCC, net, t0)\n",
      "ExpBuy(csh, H2O, NGCC, net, t0)==BuyPrice|20(csh, H2O, NGCC, net, t0)|*Buy(H2O, NGCC, net, t0)\n",
      "ExpCap(csh, NGCC, net, t0)==CapExp|2158928(csh, NGCC, net, t0)|*Capacity(NGCC, net, t0)\n",
      "ExpOp(csh, NGCC, net, t0)==OpExp|4090(csh, NGCC, net, t0)|*Operate(NGCC, net, t0)\n",
      "ExpOpI(csh, NGCC, net, t0)==OpExpI|53320(csh, NGCC, net, t0):i|\n",
      "\n",
      "-----------SMR Constraints -----------\n",
      "Capacity(SMR, net, t0)==CapBnd|1000(SMR, net, t0)|\n",
      "ExpCap(csh, SMR, net, t0)==CapExp|2400(csh, SMR, net, t0)|*Capacity(SMR, net, t0)\n",
      "ExpOp(csh, SMR, net, t0)==OpExp|0.03(csh, SMR, net, t0)|*Operate(SMR, net, t0)\n",
      "ExpOpI(csh, SMR, net, t0)==OpExpI|800(csh, SMR, net, t0):i|\n",
      "\n",
      "-----------H2FC Constraints -----------\n",
      "Capacity(H2FC, net, t0)>=CapBnd|1000(H2FC, net, t0):L|\n",
      "Capacity(H2FC, net, t0)<=CapBnd|2000(H2FC, net, t0):U|\n",
      "Sell(Power, H2FC, net, t0)==SellBnd|20(Power, H2FC, net, t0)|\n",
      "ExpBuy(csh, H2, H2FC, net, t0)==BuyPrice|2(csh, H2, H2FC, net, t0)|*Buy(H2, H2FC, net, t0)\n",
      "ExpCap(csh, H2FC, net, t0)==CapExp|1600000.0(csh, H2FC, net, t0)|*Capacity(H2FC, net, t0)\n",
      "ExpOp(csh, H2FC, net, t0)==OpExp|3.5(csh, H2FC, net, t0)|*Operate(H2FC, net, t0)\n",
      "\n",
      "-----------DAC Constraints -----------\n",
      "Capacity(DAC, net, t0)==CapBnd|1000(DAC, net, t0)|\n",
      "ExpCap(csh, DAC, net, t0)==CapExp|0.02536(csh, DAC, net, t0)|*Capacity(DAC, net, t0)\n",
      "ExpOp(csh, DAC, net, t0)==OpExp|0.634(csh, DAC, net, t0)|*Operate(DAC, net, t0)\n",
      "\n",
      "-----------ASMR Constraints -----------\n",
      "Buy(Uranium, ASMR, net, t0)==BuyBnd|40(Uranium, ASMR, net, t0)|\n",
      "Capacity(ASMR, net, t0)==CapBnd|1000(ASMR, net, t0)|\n",
      "ExpCap(csh, ASMR, net, t0)==CapExp|7988951(csh, ASMR, net, t0)|*Capacity(ASMR, net, t0)\n",
      "ExpOpI(csh, ASMR, net, t0)==OpExpI|0.0292(csh, ASMR, net, t0):i|\n",
      "\n",
      "-----------AWE Constraints -----------\n",
      "Capacity(AWE, net, t0)<=CapBnd|M(AWE, net, t0)|\n",
      "ExpCap(csh, AWE, net, t0)==CapExp|1100000.0(csh, AWE, net, t0)|*Capacity(AWE, net, t0)\n",
      "ExpCapI(csh, AWE, net, t0)==CapExpI|20(csh, AWE, net, t0):i|\n",
      "ExpOpI(csh, AWE, net, t0)==OpExpI|16918(csh, AWE, net, t0):i|\n",
      "Used(lnd, AWE, net, t0)==LndUse|Th(lnd, AWE, net, t0)|*Capacity(AWE, net, t0)\n",
      "\n"
     ]
    }
   ],
   "source": [
    "s.eqns()"
   ]
  },
  {
   "cell_type": "code",
   "execution_count": 29,
   "metadata": {},
   "outputs": [
    {
     "data": {
      "text/plain": [
       "[(odp, WF, net, t0),\n",
       " (csh, WF, net, t0),\n",
       " (lnd, WF, net, t0),\n",
       " (gwp, WF, net, t0),\n",
       " (WF, net, t0),\n",
       " (LiR, WF, net, t0),\n",
       " (WF, net, t2)]"
      ]
     },
     "execution_count": 29,
     "metadata": {},
     "output_type": "execute_result"
    }
   ],
   "source": [
    "s.WF.dispositions"
   ]
  },
  {
   "cell_type": "code",
   "execution_count": 30,
   "metadata": {},
   "outputs": [],
   "source": [
    "a = [1].insert(0, 0)"
   ]
  },
  {
   "cell_type": "code",
   "execution_count": 31,
   "metadata": {},
   "outputs": [],
   "source": [
    "a"
   ]
  },
  {
   "cell_type": "code",
   "execution_count": 32,
   "metadata": {},
   "outputs": [
    {
     "data": {
      "text/plain": [
       "{'scopes': [hor, net],\n",
       " 'assets': [csh, lnd],\n",
       " 'gwp': gwp,\n",
       " 'ap': ap,\n",
       " 'epm': epm,\n",
       " 'epf': epf,\n",
       " 'ept': ept,\n",
       " 'pocp': pocp,\n",
       " 'odp': odp,\n",
       " 'adpmn': adpmn,\n",
       " 'adpmt': adpmt,\n",
       " 'adpf': adpf,\n",
       " 'wdp': wdp,\n",
       " 'dm': dm,\n",
       " 'market': market,\n",
       " 'consumer': consumer,\n",
       " 'earth': earth,\n",
       " 'hor': hor,\n",
       " 't0': t0,\n",
       " 't1': t1,\n",
       " 't2': t2,\n",
       " 'net': net,\n",
       " 'madgaon': madgaon,\n",
       " 'ponje': ponje,\n",
       " 'cacoda': cacoda,\n",
       " 'alink': alink,\n",
       " 'alink_': alink_,\n",
       " 'blink': blink,\n",
       " 'clink': clink,\n",
       " 'clink_': clink_,\n",
       " 'dlink': dlink,\n",
       " 'csh': csh,\n",
       " 'lnd': lnd,\n",
       " 'H2': H2,\n",
       " 'Solar': Solar,\n",
       " 'Wind': Wind,\n",
       " 'Power': Power,\n",
       " 'Uranium': Uranium,\n",
       " 'H2_L': H2_L,\n",
       " 'CO2_AQoff': CO2_AQoff,\n",
       " 'H2O': H2O,\n",
       " 'CH4': CH4,\n",
       " 'CO2': CO2,\n",
       " 'CO2_Vent': CO2_Vent,\n",
       " 'O2': O2,\n",
       " 'CO2_DAC': CO2_DAC,\n",
       " 'LiR': LiR,\n",
       " 'WF': WF,\n",
       " 'PV': PV,\n",
       " 'SMRH': SMRH,\n",
       " 'NGCC': NGCC,\n",
       " 'SMR': SMR,\n",
       " 'H2FC': H2FC,\n",
       " 'DAC': DAC,\n",
       " 'ASMR': ASMR,\n",
       " 'AWE': AWE}"
      ]
     },
     "execution_count": 32,
     "metadata": {},
     "output_type": "execute_result"
    }
   ],
   "source": [
    "s.components"
   ]
  },
  {
   "cell_type": "code",
   "execution_count": 33,
   "metadata": {},
   "outputs": [
    {
     "data": {
      "text/plain": [
       "Data|WF|"
      ]
     },
     "execution_count": 33,
     "metadata": {},
     "output_type": "execute_result"
    }
   ],
   "source": [
    "s.WF.data"
   ]
  },
  {
   "cell_type": "code",
   "execution_count": 34,
   "metadata": {},
   "outputs": [
    {
     "data": {
      "text/plain": [
       "{'variable': Operate(WF, net, t2),\n",
       " 'varbnd': <VarBnd.FREE: 5>,\n",
       " 'parent': Capacity(WF, net, t2),\n",
       " 'parameter': OpBnd|M(WF, net, t2):L|,\n",
       " 'balance': None,\n",
       " 'sumover': None,\n",
       " 'multiply': True,\n",
       " 'equality': 'leq',\n",
       " 'disposition': (WF, net, t2),\n",
       " 'name': 'BindUB[Operate(WF, net, t2)]',\n",
       " 'equation': 'Operate(WF, net, t2)<=OpBnd|M(WF, net, t2):L|*Capacity(WF, net, t2)'}"
      ]
     },
     "execution_count": 34,
     "metadata": {},
     "output_type": "execute_result"
    }
   ],
   "source": [
    "s.WF.constraints[0].__dict__"
   ]
  },
  {
   "cell_type": "code",
   "execution_count": null,
   "metadata": {},
   "outputs": [],
   "source": []
  },
  {
   "cell_type": "code",
   "execution_count": 35,
   "metadata": {},
   "outputs": [
    {
     "data": {
      "text/plain": [
       "[5(csh, net, t2):L,\n",
       " 60(csh, net, t2):U,\n",
       " 300(csh, cacoda, t0),\n",
       " 20(csh, lnd, net, t0),\n",
       " 100(lnd, net, t2),\n",
       " 0(H2, net, t0):L,\n",
       " 4(H2, net, t0):U,\n",
       " 5(csh, H2, net, t0):L,\n",
       " 34(H2, net, t1):U,\n",
       " 60(csh, H2, net, t0):U,\n",
       " 300(csh, H2, cacoda, t0),\n",
       " 0(Power, net, t1):L,\n",
       " 0.3416(csh, Uranium, net, t0),\n",
       " 20(CH4, net, t0):L,\n",
       " 20(csh, CH4, net, t0),\n",
       " 40(CH4, net, t0):U,\n",
       " 20(O2, net, t0):L,\n",
       " 1.484(gwp, LiR, net, t0),\n",
       " 1.5(LiR, ponje, t0),\n",
       " 1.5(LiR, WF, net, t0),\n",
       " 30(lnd, WF, net, t0),\n",
       " 50(gwp, WF, net, t0),\n",
       " 70(csh, WF, net, t0):i,\n",
       " 1000(WF, net, t0),\n",
       " 2900(odp, WF, net, t0),\n",
       " 4953(csh, WF, net, t0),\n",
       " 202233(csh, WF, net, t0):i,\n",
       " 1462000(csh, WF, net, t0),\n",
       " 30(csh, Power, PV, net, t0),\n",
       " 1333(csh, PV, net, t0, x(PV,capex,0)),\n",
       " 1444(csh, PV, net, t0, x(PV,capex,1)),\n",
       " 1555(csh, PV, net, t0, x(PV,capex,2)),\n",
       " 3000(PV, net, t0, x(PV,capacity,0)),\n",
       " 4000(PV, net, t0, x(PV,capacity,1)),\n",
       " 5000(PV, net, t0, x(PV,capacity,2)),\n",
       " 22623(csh, PV, net, t0),\n",
       " 50(lnd, SMRH, net, t0),\n",
       " 51.5(csh, SMRH, net, t0),\n",
       " 1000(SMRH, net, t0),\n",
       " 945000(csh, SMRH, net, t0):i,\n",
       " 2520000(csh, SMRH, net, t0),\n",
       " 1(NGCC, net, t0):L,\n",
       " 4(csh, CH4, NGCC, net, t0),\n",
       " 20(csh, H2O, NGCC, net, t0),\n",
       " 100(NGCC, net, t0):U,\n",
       " 4090(csh, NGCC, net, t0),\n",
       " 53320(csh, NGCC, net, t0):i,\n",
       " 2158928(csh, NGCC, net, t0),\n",
       " 0.03(csh, SMR, net, t0),\n",
       " 800(csh, SMR, net, t0):i,\n",
       " 1000(SMR, net, t0),\n",
       " 2400(csh, SMR, net, t0),\n",
       " 2(csh, H2, H2FC, net, t0),\n",
       " 3.5(csh, H2FC, net, t0),\n",
       " 20(Power, H2FC, net, t0),\n",
       " 1000(H2FC, net, t0):L,\n",
       " 2000(H2FC, net, t0):U,\n",
       " 1600000.0(csh, H2FC, net, t0),\n",
       " 0.02536(csh, DAC, net, t0),\n",
       " 0.634(csh, DAC, net, t0),\n",
       " 1000(DAC, net, t0),\n",
       " 0.0292(csh, ASMR, net, t0):i,\n",
       " 40(Uranium, ASMR, net, t0),\n",
       " 1000(ASMR, net, t0),\n",
       " 7988951(csh, ASMR, net, t0),\n",
       " 20(csh, AWE, net, t0):i,\n",
       " 16918(csh, AWE, net, t0):i,\n",
       " 1100000.0(csh, AWE, net, t0)]"
      ]
     },
     "execution_count": 35,
     "metadata": {},
     "output_type": "execute_result"
    }
   ],
   "source": [
    "s.constants"
   ]
  },
  {
   "cell_type": "code",
   "execution_count": 55,
   "metadata": {},
   "outputs": [],
   "source": [
    "from energiapy._core._aliases._is_component import IsComponent"
   ]
  },
  {
   "cell_type": "code",
   "execution_count": 57,
   "metadata": {},
   "outputs": [],
   "source": [
    "from enum import Enum, auto"
   ]
  },
  {
   "cell_type": "code",
   "execution_count": 58,
   "metadata": {},
   "outputs": [],
   "source": [
    "class A(Enum):\n",
    "    a = auto()\n",
    "    b = auto()"
   ]
  },
  {
   "cell_type": "code",
   "execution_count": 59,
   "metadata": {},
   "outputs": [],
   "source": [
    "@dataclass\n",
    "class B:\n",
    "    a: A"
   ]
  },
  {
   "cell_type": "code",
   "execution_count": 61,
   "metadata": {},
   "outputs": [],
   "source": [
    "q = B(A.a)\n",
    "r = B(A.b)\n",
    "z = B(A.a)\n",
    "w = B(A.b)\n",
    "l = [q, r, z, w]"
   ]
  },
  {
   "cell_type": "code",
   "execution_count": 62,
   "metadata": {},
   "outputs": [],
   "source": [
    "l_a = [i for i in l if i.a == A.a]"
   ]
  },
  {
   "cell_type": "code",
   "execution_count": 63,
   "metadata": {},
   "outputs": [
    {
     "data": {
      "text/plain": [
       "[B(a=<A.a: 1>), B(a=<A.a: 1>)]"
      ]
     },
     "execution_count": 63,
     "metadata": {},
     "output_type": "execute_result"
    }
   ],
   "source": [
    "l_a"
   ]
  },
  {
   "cell_type": "code",
   "execution_count": 36,
   "metadata": {},
   "outputs": [
    {
     "data": {
      "text/plain": [
       "[CapBnd|3000(PV, net, t0, x(PV,capacity,0))|,\n",
       " CapBnd|4000(PV, net, t0, x(PV,capacity,1))|,\n",
       " CapBnd|5000(PV, net, t0, x(PV,capacity,2))|,\n",
       " CapExp|1333(csh, PV, net, t0, x(PV,capex,0))|,\n",
       " CapExp|1444(csh, PV, net, t0, x(PV,capex,1))|,\n",
       " CapExp|1555(csh, PV, net, t0, x(PV,capex,2))|,\n",
       " OpExp|22623(csh, PV, net, t0)|,\n",
       " ResCredit|DtSt(csh, Power, PV, net, t0)|,\n",
       " SellPrice|30(csh, Power, PV, net, t0)|]"
      ]
     },
     "execution_count": 36,
     "metadata": {},
     "output_type": "execute_result"
    }
   ],
   "source": [
    "s.PV.parameters"
   ]
  },
  {
   "cell_type": "code",
   "execution_count": 37,
   "metadata": {},
   "outputs": [
    {
     "data": {
      "text/plain": [
       "[Bind[Capacity(PV, net, t0, x(PV,capacity,0))],\n",
       " Bind[Capacity(PV, net, t0, x(PV,capacity,1))],\n",
       " Bind[Capacity(PV, net, t0, x(PV,capacity,2))],\n",
       " Calculate[Credit(csh, Power, PV, net, t0)],\n",
       " Calculate[ExpCap(csh, PV, net, t0, x(PV,capex,0))],\n",
       " Calculate[ExpCap(csh, PV, net, t0, x(PV,capex,1))],\n",
       " Calculate[ExpCap(csh, PV, net, t0, x(PV,capex,2))],\n",
       " Calculate[ExpOp(csh, PV, net, t0)],\n",
       " Calculate[ExpSell(csh, Power, PV, net, t0)]]"
      ]
     },
     "execution_count": 37,
     "metadata": {},
     "output_type": "execute_result"
    }
   ],
   "source": [
    "s.PV.constraints"
   ]
  },
  {
   "cell_type": "code",
   "execution_count": 38,
   "metadata": {},
   "outputs": [
    {
     "data": {
      "text/plain": [
       "{'ply': None,\n",
       " 'emn': None,\n",
       " 'csh': None,\n",
       " 'res': None,\n",
       " 'mat': None,\n",
       " 'lnd': None,\n",
       " 'pro': PV,\n",
       " 'stg': None,\n",
       " 'trn': None,\n",
       " 'loc': None,\n",
       " 'lnk': None,\n",
       " 'ntw': net,\n",
       " 'scl': t0,\n",
       " 'mde': x(PV,capex,1),\n",
       " 'index': (PV, net, t0, x(PV,capex,1)),\n",
       " 'name': '(PV, net, t0, x(PV,capex,1))'}"
      ]
     },
     "execution_count": 38,
     "metadata": {},
     "output_type": "execute_result"
    }
   ],
   "source": [
    "s.PV.variables[4].disposition.__dict__"
   ]
  },
  {
   "cell_type": "code",
   "execution_count": 46,
   "metadata": {},
   "outputs": [],
   "source": [
    "from dataclasses import dataclass"
   ]
  },
  {
   "cell_type": "code",
   "execution_count": 53,
   "metadata": {},
   "outputs": [],
   "source": [
    "@dataclass\n",
    "class Ra:\n",
    "    a: int = 0\n",
    "\n",
    "    @classmethod\n",
    "    def b(self, b):\n",
    "        return self.a + b"
   ]
  },
  {
   "cell_type": "code",
   "execution_count": 54,
   "metadata": {},
   "outputs": [
    {
     "data": {
      "text/plain": [
       "2"
      ]
     },
     "execution_count": 54,
     "metadata": {},
     "output_type": "execute_result"
    }
   ],
   "source": [
    "Ra.b(2)"
   ]
  },
  {
   "cell_type": "code",
   "execution_count": 39,
   "metadata": {},
   "outputs": [
    {
     "data": {
      "text/plain": [
       "{'ply': None,\n",
       " 'emn': None,\n",
       " 'csh': csh,\n",
       " 'res': None,\n",
       " 'mat': None,\n",
       " 'lnd': None,\n",
       " 'pro': PV,\n",
       " 'stg': None,\n",
       " 'trn': None,\n",
       " 'loc': None,\n",
       " 'lnk': None,\n",
       " 'ntw': net,\n",
       " 'scl': t0,\n",
       " 'mde': x(PV,capex,0),\n",
       " 'index': (csh, PV, net, t0, x(PV,capex,0)),\n",
       " 'name': '(csh, PV, net, t0, x(PV,capex,0))'}"
      ]
     },
     "execution_count": 39,
     "metadata": {},
     "output_type": "execute_result"
    }
   ],
   "source": [
    "s.PV.capex[0].disposition.__dict__"
   ]
  },
  {
   "cell_type": "code",
   "execution_count": 40,
   "metadata": {},
   "outputs": [
    {
     "data": {
      "text/plain": [
       "[Capacity(WF, net, t0),\n",
       " Capacity(WF, net, t2),\n",
       " EmitCap(gwp, WF, net, t0),\n",
       " EmitCap(odp, WF, net, t0),\n",
       " ExpCap(csh, WF, net, t0),\n",
       " ExpCapI(csh, WF, net, t0),\n",
       " ExpOp(csh, WF, net, t0),\n",
       " ExpOpI(csh, WF, net, t0),\n",
       " Operate(WF, net, t0),\n",
       " Operate(WF, net, t2),\n",
       " UseLnd(lnd, WF, net, t0),\n",
       " UseMat(LiR, WF, net, t0)]"
      ]
     },
     "execution_count": 40,
     "metadata": {},
     "output_type": "execute_result"
    }
   ],
   "source": [
    "s.WF.variables"
   ]
  },
  {
   "cell_type": "code",
   "execution_count": 40,
   "metadata": {},
   "outputs": [
    {
     "data": {
      "text/plain": [
       "[CapBnd|1000(WF, net, t0)|,\n",
       " CapExpI|202233(csh, WF, net, t0):i|,\n",
       " CapExp|1462000(csh, WF, net, t0)|,\n",
       " LndUse|30(lnd, WF, net, t0)|,\n",
       " MatUse|1.5(LiR, WF, net, t0)|,\n",
       " OpBnd|DtSt(WF, net, t2)|,\n",
       " OpExpI|70(csh, WF, net, t0):i|,\n",
       " OpExp|4953(csh, WF, net, t0)|,\n",
       " OpnEmit|2900(odp, WF, net, t0)|,\n",
       " OpnEmit|50(gwp, WF, net, t0)|]"
      ]
     },
     "execution_count": 40,
     "metadata": {},
     "output_type": "execute_result"
    }
   ],
   "source": [
    "s.WF.parameters"
   ]
  },
  {
   "cell_type": "code",
   "execution_count": 44,
   "metadata": {},
   "outputs": [
    {
     "data": {
      "text/plain": [
       "True"
      ]
     },
     "execution_count": 44,
     "metadata": {},
     "output_type": "execute_result"
    }
   ],
   "source": [
    "s.WF._consistent"
   ]
  },
  {
   "cell_type": "code",
   "execution_count": 45,
   "metadata": {},
   "outputs": [
    {
     "data": {
      "text/plain": [
       "{'basis': 'MW',\n",
       " 'citation': None,\n",
       " 'block': None,\n",
       " 'introduce': None,\n",
       " 'retire': None,\n",
       " 'label': 'Wind mill array',\n",
       " 'capacity': [1000(WF, net, t0)],\n",
       " 'land': [30(lnd, WF, net, t0)],\n",
       " 'material': [1.5(LiR, WF, net, t0)],\n",
       " 'capex': [{202233(csh, WF, net, t0):i, 1462000(csh, WF, net, t0)}],\n",
       " 'opex': [{70(csh, WF, net, t0):i, 4953(csh, WF, net, t0)}],\n",
       " 'emission': [50(gwp, WF, net, t0), 2900(odp, WF, net, t0)],\n",
       " 'buy': None,\n",
       " 'sell': None,\n",
       " 'buy_price': None,\n",
       " 'sell_price': None,\n",
       " 'credit': None,\n",
       " 'penalty': None,\n",
       " 'conversion': Conv(Power,WF),\n",
       " 'produce': [True,\n",
       "       b\n",
       "  0    0\n",
       "  1    1\n",
       "  2    2\n",
       "  3    3\n",
       "  4    4\n",
       "  5    5\n",
       "  6    6\n",
       "  7    7\n",
       "  8    8\n",
       "  9    9\n",
       "  10  10\n",
       "  11  11\n",
       "  12  12\n",
       "  13  13\n",
       "  14  14\n",
       "  15  15\n",
       "  16  16\n",
       "  17  17\n",
       "  18  18\n",
       "  19  19\n",
       "  20  20\n",
       "  21  21\n",
       "  22  22\n",
       "  23  23],\n",
       " 'varying': None,\n",
       " 'prod_max': None,\n",
       " 'prod_min': None,\n",
       " 'name': 'WF',\n",
       " '_named': True,\n",
       " '_model': :s:,\n",
       " '_consistent': True,\n",
       " 'operate': [[M(WF, net, t2):L, DtSt(WF, net, t2):U]]}"
      ]
     },
     "execution_count": 45,
     "metadata": {},
     "output_type": "execute_result"
    }
   ],
   "source": [
    "s.WF.__dict__"
   ]
  },
  {
   "cell_type": "code",
   "execution_count": 42,
   "metadata": {},
   "outputs": [
    {
     "data": {
      "text/plain": [
       "[Capacity(PV, net, t0, x(PV,capacity,0)),\n",
       " Capacity(PV, net, t0, x(PV,capacity,1)),\n",
       " Capacity(PV, net, t0, x(PV,capacity,2)),\n",
       " Capacity(PV, net, t0, x(PV,capex,0)),\n",
       " Capacity(PV, net, t0, x(PV,capex,1)),\n",
       " Capacity(PV, net, t0, x(PV,capex,2)),\n",
       " Credit(csh, Power, PV, net, t0),\n",
       " ExpCap(csh, PV, net, t0, x(PV,capex,0)),\n",
       " ExpCap(csh, PV, net, t0, x(PV,capex,1)),\n",
       " ExpCap(csh, PV, net, t0, x(PV,capex,2)),\n",
       " ExpOp(csh, PV, net, t0),\n",
       " ExpSell(csh, Power, PV, net, t0),\n",
       " Operate(PV, net, t0),\n",
       " Sell(Power, PV, net, t0)]"
      ]
     },
     "execution_count": 42,
     "metadata": {},
     "output_type": "execute_result"
    }
   ],
   "source": [
    "s.PV.variables"
   ]
  },
  {
   "cell_type": "code",
   "execution_count": 43,
   "metadata": {},
   "outputs": [
    {
     "data": {
      "text/plain": [
       "[Buy(CH4, NGCC, net, t0),\n",
       " Buy(CH4, net, t0),\n",
       " Buy(H2, H2FC, net, t0),\n",
       " Buy(H2O, NGCC, net, t0),\n",
       " Buy(H2O, net, t0),\n",
       " Buy(H2O, net, t2),\n",
       " Buy(Power, net, t1),\n",
       " Buy(Solar, net, t0),\n",
       " Buy(Uranium, ASMR, net, t0),\n",
       " Buy(Uranium, net, t0),\n",
       " Buy(Uranium, net, t2),\n",
       " Buy(Wind, net, t1),\n",
       " Capacity(ASMR, net, t0),\n",
       " Capacity(AWE, net, t0),\n",
       " Capacity(DAC, net, t0),\n",
       " Capacity(H2FC, net, t0),\n",
       " Capacity(NGCC, net, t0),\n",
       " Capacity(PV, net, t0, x(PV,capacity,0)),\n",
       " Capacity(PV, net, t0, x(PV,capacity,1)),\n",
       " Capacity(PV, net, t0, x(PV,capacity,2)),\n",
       " Capacity(PV, net, t0, x(PV,capex,0)),\n",
       " Capacity(PV, net, t0, x(PV,capex,1)),\n",
       " Capacity(PV, net, t0, x(PV,capex,2)),\n",
       " Capacity(SMR, net, t0),\n",
       " Capacity(SMRH, net, t0),\n",
       " Capacity(WF, net, t0),\n",
       " Capacity(WF, net, t2),\n",
       " Credit(csh, Power, PV, net, t0),\n",
       " EmitCap(gwp, WF, net, t0),\n",
       " EmitCap(odp, WF, net, t0),\n",
       " EmitUse(gwp, LiR, net, t0),\n",
       " ExpBuy(csh, CH4, NGCC, net, t0),\n",
       " ExpBuy(csh, CH4, net, t0),\n",
       " ExpBuy(csh, H2, H2FC, net, t0),\n",
       " ExpBuy(csh, H2O, NGCC, net, t0),\n",
       " ExpBuy(csh, H2O, net, t2),\n",
       " ExpBuy(csh, Uranium, net, t0),\n",
       " ExpCap(csh, ASMR, net, t0),\n",
       " ExpCap(csh, AWE, net, t0),\n",
       " ExpCap(csh, DAC, net, t0),\n",
       " ExpCap(csh, H2FC, net, t0),\n",
       " ExpCap(csh, NGCC, net, t0),\n",
       " ExpCap(csh, PV, net, t0, x(PV,capex,0)),\n",
       " ExpCap(csh, PV, net, t0, x(PV,capex,1)),\n",
       " ExpCap(csh, PV, net, t0, x(PV,capex,2)),\n",
       " ExpCap(csh, SMR, net, t0),\n",
       " ExpCap(csh, SMRH, net, t0),\n",
       " ExpCap(csh, WF, net, t0),\n",
       " ExpCapI(csh, AWE, net, t0),\n",
       " ExpCapI(csh, WF, net, t0),\n",
       " ExpOp(csh, DAC, net, t0),\n",
       " ExpOp(csh, H2FC, net, t0),\n",
       " ExpOp(csh, NGCC, net, t0),\n",
       " ExpOp(csh, PV, net, t0),\n",
       " ExpOp(csh, SMR, net, t0),\n",
       " ExpOp(csh, SMRH, net, t0),\n",
       " ExpOp(csh, WF, net, t0),\n",
       " ExpOpI(csh, ASMR, net, t0),\n",
       " ExpOpI(csh, AWE, net, t0),\n",
       " ExpOpI(csh, NGCC, net, t0),\n",
       " ExpOpI(csh, SMR, net, t0),\n",
       " ExpOpI(csh, SMRH, net, t0),\n",
       " ExpOpI(csh, WF, net, t0),\n",
       " ExpSell(csh, CO2_Vent, net, t0),\n",
       " ExpSell(csh, H2, cacoda, t0),\n",
       " ExpSell(csh, H2, madgaon, t0),\n",
       " ExpSell(csh, H2, net, t0),\n",
       " ExpSell(csh, H2, ponje, t2),\n",
       " ExpSell(csh, Power, PV, net, t0),\n",
       " ExpUse(csh, lnd, net, t0),\n",
       " Operate(DAC, net, t0),\n",
       " Operate(H2FC, net, t0),\n",
       " Operate(NGCC, net, t0),\n",
       " Operate(PV, net, t0),\n",
       " Operate(SMR, net, t0),\n",
       " Operate(SMRH, net, t0),\n",
       " Operate(WF, net, t0),\n",
       " Operate(WF, net, t2),\n",
       " Sell(CO2_Vent, net, t0),\n",
       " Sell(H2, cacoda, t0),\n",
       " Sell(H2, madgaon, t0),\n",
       " Sell(H2, net, t0),\n",
       " Sell(H2, net, t1),\n",
       " Sell(H2, net, t2),\n",
       " Sell(H2, ponje, t2),\n",
       " Sell(H2_L, net, t0),\n",
       " Sell(O2, net, t0),\n",
       " Sell(Power, H2FC, net, t0),\n",
       " Sell(Power, PV, net, t0),\n",
       " Spend(csh, cacoda, t0),\n",
       " Spend(csh, madgaon, t0),\n",
       " Spend(csh, net, t2),\n",
       " Spend(csh, ponje, t1),\n",
       " Use(LiR, net, t0),\n",
       " Use(LiR, ponje, t0),\n",
       " Use(lnd, cacoda, t1),\n",
       " Use(lnd, net, t0),\n",
       " Use(lnd, net, t2),\n",
       " Use(lnd, ponje, t2),\n",
       " UseLnd(lnd, AWE, net, t0),\n",
       " UseLnd(lnd, SMRH, net, t0),\n",
       " UseLnd(lnd, WF, net, t0),\n",
       " UseMat(LiR, WF, net, t0)]"
      ]
     },
     "execution_count": 43,
     "metadata": {},
     "output_type": "execute_result"
    }
   ],
   "source": [
    "s.variables"
   ]
  },
  {
   "attachments": {},
   "cell_type": "markdown",
   "metadata": {},
   "source": [
    "## Declare processes"
   ]
  },
  {
   "cell_type": "code",
   "execution_count": null,
   "metadata": {},
   "outputs": [],
   "source": [
    "# s.LiI = Process(store= 2000, conversion = {s.Power: 0.9}, store_loss = 0.2, store_cost= 0.4, capex = 3516428, fopex= 87910, vopex = 0, capacity= [1000,BigM], label='Lithium-ion battery', basis = 'MW')"
   ]
  },
  {
   "attachments": {},
   "cell_type": "markdown",
   "metadata": {},
   "source": [
    "## Declare locations"
   ]
  },
  {
   "cell_type": "code",
   "execution_count": null,
   "metadata": {},
   "outputs": [],
   "source": [
    "PV.cap_max"
   ]
  },
  {
   "cell_type": "code",
   "execution_count": null,
   "metadata": {},
   "outputs": [],
   "source": [
    "PV.factors"
   ]
  },
  {
   "cell_type": "code",
   "execution_count": null,
   "metadata": {},
   "outputs": [],
   "source": [
    "houston.aspect"
   ]
  },
  {
   "cell_type": "code",
   "execution_count": null,
   "metadata": {},
   "outputs": [],
   "source": [
    "houston.land_cost_factor"
   ]
  },
  {
   "cell_type": "code",
   "execution_count": null,
   "metadata": {},
   "outputs": [],
   "source": [
    "# for i in houston.processes | sandiego.processes | newyork.processes:\n",
    "# # for i in houston.resources | sandiego.resources | newyork.resources:\n",
    "#     print(i, i.localizations)\n",
    "#     print(i, i.factors)"
   ]
  },
  {
   "cell_type": "code",
   "execution_count": null,
   "metadata": {},
   "outputs": [],
   "source": [
    "Power.ctype"
   ]
  },
  {
   "attachments": {},
   "cell_type": "markdown",
   "metadata": {},
   "source": [
    "## Declare transports"
   ]
  },
  {
   "cell_type": "code",
   "execution_count": null,
   "metadata": {},
   "outputs": [],
   "source": [
    "# Train_H2 = Transport(name='Train_H2', resources={\n",
    "#                      H2}, trans_max=bigM, trans_loss=0.03, trans_cost=1.667*10**(-3), label='Railway for hydrogen transportation')\n",
    "# Grid = Transport(name='Grid', resources={\n",
    "#                  Power}, trans_max=bigM, trans_loss=0.001, trans_cost=0.5*10**(-3), label='Railroad transport')\n",
    "\n",
    "\n",
    "Train_H2 = Transport(\n",
    "    name='Train_H2',\n",
    "    resources={H2},\n",
    "    cap_max=BigM,\n",
    "    trans_loss=0.03,\n",
    "    capex=1000,\n",
    "    vopex=1.667,\n",
    "    fopex=(0, 1),\n",
    "    acid=34,\n",
    "    eutf=55,\n",
    "    label='Railway for hydrogen transportation',\n",
    ")\n",
    "Grid = Transport(\n",
    "    name='Grid',\n",
    "    resources={H2, Power},\n",
    "    cap_max=BigM,\n",
    "    trans_loss=0.001,\n",
    "    capex=500,\n",
    "    vopex=0.444,\n",
    "    label='Railroad transport',\n",
    ")"
   ]
  },
  {
   "cell_type": "code",
   "execution_count": null,
   "metadata": {},
   "outputs": [],
   "source": [
    "Train_H2.cap_max"
   ]
  },
  {
   "attachments": {},
   "cell_type": "markdown",
   "metadata": {},
   "source": [
    "## Declare Network"
   ]
  },
  {
   "cell_type": "code",
   "execution_count": null,
   "metadata": {},
   "outputs": [],
   "source": [
    "distance_matrix = [[2366], [2620]]\n",
    "\n",
    "transport_matrix = [\n",
    "    [[Train_H2]],\n",
    "    [[Grid]],\n",
    "]\n",
    "capacity_factor = {\n",
    "    (houston, newyork): {Train_H2: weather_sd[['wind_speed']]},\n",
    "    (sandiego, newyork): {Train_H2: weather_sd[['wind_speed']]},\n",
    "}\n",
    "\n",
    "network = Network(\n",
    "    name='network',\n",
    "    scales=scales,\n",
    "    land_max=(0, 5),\n",
    "    land_max_factor=DataFrame({'a': [5]}),\n",
    "    capacity_factor=capacity_factor,\n",
    "    vopex_factor={(houston, sandiego): {Train_H2: weather_sd[['wind_speed']]}},\n",
    "    sources=[houston, sandiego],\n",
    "    sinks=[newyork],\n",
    "    distance_matrix=distance_matrix,\n",
    "    transport_matrix=transport_matrix,\n",
    ")"
   ]
  },
  {
   "cell_type": "code",
   "execution_count": null,
   "metadata": {},
   "outputs": [],
   "source": [
    "scenario = Scenario(\n",
    "    name='scenario_full', network=network, scales=scales, label='full_case'\n",
    ")"
   ]
  },
  {
   "cell_type": "code",
   "execution_count": null,
   "metadata": {},
   "outputs": [],
   "source": [
    "scenario"
   ]
  },
  {
   "cell_type": "code",
   "execution_count": null,
   "metadata": {},
   "outputs": [],
   "source": [
    "for i in houston.resources:\n",
    "    print(i.ctype)"
   ]
  },
  {
   "cell_type": "code",
   "execution_count": null,
   "metadata": {},
   "outputs": [],
   "source": [
    "houston.resources_produce"
   ]
  },
  {
   "cell_type": "code",
   "execution_count": null,
   "metadata": {},
   "outputs": [],
   "source": []
  },
  {
   "cell_type": "code",
   "execution_count": null,
   "metadata": {},
   "outputs": [],
   "source": [
    "ResourceType.all()"
   ]
  },
  {
   "cell_type": "code",
   "execution_count": null,
   "metadata": {},
   "outputs": [],
   "source": [
    "ResourceType.resource_level()"
   ]
  },
  {
   "cell_type": "code",
   "execution_count": null,
   "metadata": {},
   "outputs": [],
   "source": [
    "ResourceType.location_level()"
   ]
  },
  {
   "cell_type": "code",
   "execution_count": null,
   "metadata": {},
   "outputs": [],
   "source": [
    "ResourceType.transport_level()"
   ]
  },
  {
   "cell_type": "code",
   "execution_count": null,
   "metadata": {},
   "outputs": [],
   "source": [
    "ProcessType.all()"
   ]
  },
  {
   "cell_type": "code",
   "execution_count": null,
   "metadata": {},
   "outputs": [],
   "source": [
    "ProcessType.process_level()"
   ]
  },
  {
   "cell_type": "code",
   "execution_count": null,
   "metadata": {},
   "outputs": [],
   "source": [
    "ProcessType.location_level()"
   ]
  },
  {
   "cell_type": "code",
   "execution_count": null,
   "metadata": {},
   "outputs": [],
   "source": [
    "LocationType.location_level()"
   ]
  },
  {
   "cell_type": "code",
   "execution_count": null,
   "metadata": {},
   "outputs": [],
   "source": [
    "Power.transport"
   ]
  },
  {
   "cell_type": "code",
   "execution_count": null,
   "metadata": {},
   "outputs": [],
   "source": [
    "Solar.availability"
   ]
  },
  {
   "cell_type": "code",
   "execution_count": null,
   "metadata": {},
   "outputs": [],
   "source": [
    "Power.demand"
   ]
  },
  {
   "cell_type": "code",
   "execution_count": null,
   "metadata": {},
   "outputs": [],
   "source": [
    "[((houston, sandiego), CO2), ((houston, sandiego), H2), ((houston, newyork), CO2)]"
   ]
  },
  {
   "cell_type": "code",
   "execution_count": null,
   "metadata": {},
   "outputs": [],
   "source": [
    "comp_loc_dict = scenario.resources_locations_discharge"
   ]
  },
  {
   "cell_type": "code",
   "execution_count": null,
   "metadata": {},
   "outputs": [],
   "source": [
    "scenario.locations_land"
   ]
  },
  {
   "cell_type": "code",
   "execution_count": null,
   "metadata": {},
   "outputs": [],
   "source": [
    "scenario.locations_locations_land"
   ]
  },
  {
   "cell_type": "code",
   "execution_count": null,
   "metadata": {},
   "outputs": [],
   "source": [
    "comp_loc_ordered_set = [(i, j)\n",
    "                        for i in comp_loc_dict for j in comp_loc_dict[i]]"
   ]
  },
  {
   "cell_type": "code",
   "execution_count": null,
   "metadata": {},
   "outputs": [],
   "source": [
    "scenario.resources_locations_store"
   ]
  },
  {
   "cell_type": "code",
   "execution_count": null,
   "metadata": {},
   "outputs": [],
   "source": [
    "comp_loc_ordered_set"
   ]
  },
  {
   "cell_type": "code",
   "execution_count": null,
   "metadata": {},
   "outputs": [],
   "source": [
    "comp_loc_ordered_set"
   ]
  },
  {
   "cell_type": "code",
   "execution_count": null,
   "metadata": {},
   "outputs": [],
   "source": [
    "scenario.resources_locations_discharge"
   ]
  },
  {
   "cell_type": "code",
   "execution_count": null,
   "metadata": {},
   "outputs": [],
   "source": [
    "scenario.resources_discharge"
   ]
  },
  {
   "cell_type": "code",
   "execution_count": null,
   "metadata": {},
   "outputs": [],
   "source": [
    "scenario.processes_locations_expenditure"
   ]
  },
  {
   "cell_type": "code",
   "execution_count": null,
   "metadata": {},
   "outputs": [],
   "source": [
    "resources_consume_locations = {\n",
    "    resource: set() for resource in scenario.resources_consume\n",
    "}\n",
    "for resource in scenario.resources_consume:\n",
    "    for location in scenario.locations:\n",
    "        if hasattr(location, 'resources_consume'):\n",
    "            if resource in location.resources_consume:\n",
    "                resources_consume_locations[resource].add(location)"
   ]
  },
  {
   "cell_type": "code",
   "execution_count": null,
   "metadata": {},
   "outputs": [],
   "source": [
    "resources_consume_locations = {\n",
    "    resource: {\n",
    "        location\n",
    "        for location in scenario.locations\n",
    "        if hasattr(location, 'resources_consume')\n",
    "        and resource in location.resources_consume\n",
    "    }\n",
    "    for resource in scenario.resources_consume\n",
    "}"
   ]
  },
  {
   "cell_type": "code",
   "execution_count": null,
   "metadata": {},
   "outputs": [],
   "source": [
    "scenario.resources_consume"
   ]
  },
  {
   "cell_type": "code",
   "execution_count": null,
   "metadata": {},
   "outputs": [],
   "source": [
    "resources_consume_locations = {\n",
    "    resource: {\n",
    "        location\n",
    "        for location in self.locations\n",
    "        if hasattr(location, 'resources_consume')\n",
    "        and resource in location.resources_consume\n",
    "    }\n",
    "    for resource in self.resources_consume\n",
    "}"
   ]
  },
  {
   "cell_type": "code",
   "execution_count": null,
   "metadata": {},
   "outputs": [],
   "source": [
    "resources_consume_locations"
   ]
  },
  {
   "cell_type": "code",
   "execution_count": null,
   "metadata": {},
   "outputs": [],
   "source": [
    "resources_demand_locations = {\n",
    "    resource: {\n",
    "        location\n",
    "        for location in scenario.locations\n",
    "        if hasattr(location, 'resources_demand')\n",
    "        and resource in location.resources_demand\n",
    "    }\n",
    "    for resource in scenario.resources_demand\n",
    "}"
   ]
  },
  {
   "cell_type": "code",
   "execution_count": null,
   "metadata": {},
   "outputs": [],
   "source": [
    "scenario.resource_classifications()"
   ]
  },
  {
   "cell_type": "code",
   "execution_count": null,
   "metadata": {},
   "outputs": [],
   "source": [
    "{\n",
    "    component: {\n",
    "        location\n",
    "        for location in getattr(self, 'locations')\n",
    "        if hasattr(location, f'{component_set}_{parameter.lower()}')\n",
    "        and resource in getattr(location, f'{component_set}_{parameter.lower()}')\n",
    "    }\n",
    "    for resource in getattr(self, f'{component_set}_{parameter.lower()}')\n",
    "}"
   ]
  },
  {
   "cell_type": "code",
   "execution_count": null,
   "metadata": {},
   "outputs": [],
   "source": [
    "scenario.process_classifications()"
   ]
  },
  {
   "cell_type": "code",
   "execution_count": null,
   "metadata": {},
   "outputs": [],
   "source": [
    "[\n",
    "    ((houston.name, sandiego.name), CO2.name),\n",
    "    ((houston.name, sandiego.name), H2.name),\n",
    "    ((houston.name, newyork.name), CO2.name),\n",
    "]"
   ]
  },
  {
   "cell_type": "code",
   "execution_count": null,
   "metadata": {},
   "outputs": [],
   "source": [
    "help(ResourceParamType)"
   ]
  },
  {
   "cell_type": "code",
   "execution_count": null,
   "metadata": {},
   "outputs": [],
   "source": []
  },
  {
   "cell_type": "code",
   "execution_count": null,
   "metadata": {},
   "outputs": [],
   "source": [
    "from pyomo.environ import *\n",
    "\n",
    "# from energiapy.utils.scale_utils import scale_pyomo_set"
   ]
  },
  {
   "cell_type": "code",
   "execution_count": null,
   "metadata": {},
   "outputs": [],
   "source": [
    "scales1 = TemporalScale(discretization_list=[\n",
    "                        1, 4], design_scale=0, scheduling_scale=1)"
   ]
  },
  {
   "cell_type": "code",
   "execution_count": null,
   "metadata": {},
   "outputs": [],
   "source": [
    "type(scales1)"
   ]
  },
  {
   "cell_type": "code",
   "execution_count": null,
   "metadata": {},
   "outputs": [],
   "source": [
    "scales2 = TemporalScale(\n",
    "    discretization_list=[2, 2, 2], design_scale=0, scheduling_scale=2\n",
    ")"
   ]
  },
  {
   "cell_type": "code",
   "execution_count": null,
   "metadata": {},
   "outputs": [],
   "source": [
    "scales1.index_list"
   ]
  },
  {
   "cell_type": "code",
   "execution_count": null,
   "metadata": {},
   "outputs": [],
   "source": [
    "scales2.index_list"
   ]
  },
  {
   "cell_type": "code",
   "execution_count": null,
   "metadata": {},
   "outputs": [],
   "source": [
    "m = ConcreteModel()\n",
    "m.scales = Set(scales1.list, initialize=scales1.scale)\n",
    "m.scales_scheduling = scale_pyomo_set(\n",
    "    instance=m, scale_level=scales1.scheduling_scale)\n",
    "m.scales_design = scale_pyomo_set(instance=m, scale_level=scales1.design_scale)"
   ]
  },
  {
   "cell_type": "code",
   "execution_count": null,
   "metadata": {},
   "outputs": [],
   "source": [
    "scales.scheduling_scale"
   ]
  },
  {
   "cell_type": "code",
   "execution_count": null,
   "metadata": {},
   "outputs": [],
   "source": [
    "# m.a = Set(initialize = [(i, j) for i in resources_consume_locations for j in resources_consume_locations[i]])\n",
    "# m.b = Set(initialize = [(i.name, j.name) for i in scenario.resources_locations_consume for j in scenario.resources_locations_consume[i]])\n",
    "# m.c = Set(initialize = [((houston.name, sandiego.name), CO2.name), ((houston.name, sandiego.name), H2.name), ((houston.name, newyork.name), CO2.name)])\n",
    "# m.A = Var(m.a, m.scales_scheduling, within = NonNegativeReals)\n",
    "# m.B = Var(m.b, m.scales_design, within = NonNegativeReals)\n",
    "# m.C = Var(m.c, m.scales_scheduling, within = NonNegativeReals)"
   ]
  },
  {
   "cell_type": "code",
   "execution_count": null,
   "metadata": {},
   "outputs": [],
   "source": [
    "from pyomo.environ import *\n",
    "\n",
    "m = ConcreteModel()"
   ]
  },
  {
   "cell_type": "code",
   "execution_count": null,
   "metadata": {},
   "outputs": [],
   "source": [
    "m.d = Set(\n",
    "    initialize=[\n",
    "        (Train_H2.name, (houston.name, sandiego.name)),\n",
    "        (Grid.name, (houston.name, sandiego.name)),\n",
    "        (Grid.name, (houston.name, newyork.name)),\n",
    "    ]\n",
    ")\n",
    "m.D = Var(m.d, m.scales_design, within=NonNegativeReals)"
   ]
  },
  {
   "cell_type": "code",
   "execution_count": null,
   "metadata": {},
   "outputs": [],
   "source": [
    "m.f = Set(initialize=[Train_H2.name, Grid.name])\n",
    "m.F = Var(m.f, m.scales_design, within=NonNegativeReals)"
   ]
  },
  {
   "cell_type": "code",
   "execution_count": null,
   "metadata": {},
   "outputs": [],
   "source": [
    "m.g = Set(\n",
    "    initialize=[\n",
    "        (CO2.name, (houston.name, sandiego.name)),\n",
    "        (Power.name, (houston.name, sandiego.name)),\n",
    "        (H2.name, (houston.name, newyork.name)),\n",
    "    ]\n",
    ")"
   ]
  },
  {
   "cell_type": "code",
   "execution_count": null,
   "metadata": {},
   "outputs": [],
   "source": [
    "m.G = Var(m.g, m.scales_scheduling, within=NonNegativeReals)"
   ]
  },
  {
   "cell_type": "code",
   "execution_count": null,
   "metadata": {},
   "outputs": [],
   "source": [
    "m.G.pprint()"
   ]
  },
  {
   "cell_type": "code",
   "execution_count": null,
   "metadata": {},
   "outputs": [],
   "source": [
    "m = ConcreteModel()"
   ]
  },
  {
   "cell_type": "code",
   "execution_count": null,
   "metadata": {},
   "outputs": [],
   "source": [
    "import gurobipy\n",
    "\n",
    "m = gurobipy.read('example.lp')"
   ]
  },
  {
   "cell_type": "code",
   "execution_count": null,
   "metadata": {},
   "outputs": [],
   "source": [
    "import pandas"
   ]
  },
  {
   "cell_type": "code",
   "execution_count": null,
   "metadata": {},
   "outputs": [],
   "source": [
    "a = DataFrame(data={'a': [1, 2, 3]})"
   ]
  },
  {
   "cell_type": "code",
   "execution_count": null,
   "metadata": {},
   "outputs": [],
   "source": [
    "b = "
   ]
  },
  {
   "cell_type": "code",
   "execution_count": null,
   "metadata": {},
   "outputs": [],
   "source": []
  },
  {
   "cell_type": "code",
   "execution_count": null,
   "metadata": {},
   "outputs": [],
   "source": [
    "class LPFileCreator:\n",
    "    def __init__(self, objective, constraints, bounds, file_name=\"problem.lp\"):\n",
    "        self.objective = objective\n",
    "        self.constraints = constraints\n",
    "        self.bounds = bounds\n",
    "        self.file_name = file_name\n",
    "\n",
    "    def create_lp_file(self):\n",
    "        content = self._generate_lp_content()\n",
    "        with open(self.file_name, \"w\") as file:\n",
    "            file.write(content)\n",
    "\n",
    "    def _generate_lp_content(self):\n",
    "        lp_content = []\n",
    "\n",
    "        # Add Objective Function\n",
    "        lp_content.append(\"\\\\* Problem Statement *\\\\\")\n",
    "        lp_content.append(\"\\nMaximize\")\n",
    "        lp_content.append(f\" obj: {self.objective}\\n\")\n",
    "\n",
    "        # Add Constraints\n",
    "        lp_content.append(\"Subject To\")\n",
    "        for i, constraint in enumerate(self.constraints, start=1):\n",
    "            lp_content.append(f\" c{i}: {constraint}\")\n",
    "        lp_content.append(\"\")\n",
    "\n",
    "        # Add Bounds\n",
    "        lp_content.append(\"Bounds\")\n",
    "        for bound in self.bounds:\n",
    "            lp_content.append(f\" {bound}\")\n",
    "        lp_content.append(\"\")\n",
    "\n",
    "        # Add End\n",
    "        lp_content.append(\"End\")\n",
    "\n",
    "        return \"\\n\".join(lp_content)"
   ]
  },
  {
   "cell_type": "code",
   "execution_count": null,
   "metadata": {},
   "outputs": [],
   "source": [
    "a = [7, 2, 3].sort()"
   ]
  },
  {
   "cell_type": "code",
   "execution_count": null,
   "metadata": {},
   "outputs": [],
   "source": [
    "a"
   ]
  },
  {
   "cell_type": "code",
   "execution_count": null,
   "metadata": {},
   "outputs": [],
   "source": [
    "sorted(a)"
   ]
  },
  {
   "cell_type": "code",
   "execution_count": null,
   "metadata": {},
   "outputs": [],
   "source": [
    "houston.resources_consume"
   ]
  },
  {
   "cell_type": "code",
   "execution_count": null,
   "metadata": {},
   "outputs": [],
   "source": [
    "[f'cons_{i.name}_' for i in houston.resources_consume]"
   ]
  },
  {
   "cell_type": "code",
   "execution_count": null,
   "metadata": {},
   "outputs": [],
   "source": []
  },
  {
   "cell_type": "code",
   "execution_count": null,
   "metadata": {},
   "outputs": [],
   "source": [
    "def tuples_to_strings(tuple_list):\n",
    "    return ['_'.join(map(str, t)) for t in tuple_list]"
   ]
  },
  {
   "cell_type": "code",
   "execution_count": null,
   "metadata": {},
   "outputs": [],
   "source": [
    "scales = TemporalScale([1, 4], design_scale=0, scheduling_scale=1)"
   ]
  },
  {
   "cell_type": "code",
   "execution_count": null,
   "metadata": {},
   "outputs": [],
   "source": [
    "var = ['cons']  # , 'sell']"
   ]
  },
  {
   "cell_type": "code",
   "execution_count": null,
   "metadata": {},
   "outputs": [],
   "source": [
    "res_list = ['res1', 'res2', 'res3']"
   ]
  },
  {
   "cell_type": "code",
   "execution_count": null,
   "metadata": {},
   "outputs": [],
   "source": [
    "time_index = tuples_to_strings(scales.index_list[1])"
   ]
  },
  {
   "cell_type": "code",
   "execution_count": null,
   "metadata": {},
   "outputs": [],
   "source": [
    "value = {'res1': 5, 'res2': 7, 'res3': 8}"
   ]
  },
  {
   "cell_type": "code",
   "execution_count": null,
   "metadata": {},
   "outputs": [],
   "source": [
    "cons = list()"
   ]
  },
  {
   "cell_type": "code",
   "execution_count": null,
   "metadata": {},
   "outputs": [],
   "source": [
    "for i, j, k in product(var, res_list, time_index):\n",
    "    cons.append(f'{i}_{j}_{k} <= {value[j]}')"
   ]
  },
  {
   "cell_type": "code",
   "execution_count": null,
   "metadata": {},
   "outputs": [],
   "source": [
    "ooo = {'res1': 7, 'res2': 5, 'res3': 9}"
   ]
  },
  {
   "cell_type": "code",
   "execution_count": null,
   "metadata": {},
   "outputs": [],
   "source": [
    "k = [f'{ooo[i]} {i}' for i in res_list]"
   ]
  },
  {
   "cell_type": "code",
   "execution_count": null,
   "metadata": {},
   "outputs": [],
   "source": [
    "obj = ' + '.join(k)\n",
    "obj"
   ]
  },
  {
   "cell_type": "code",
   "execution_count": null,
   "metadata": {},
   "outputs": [],
   "source": [
    "for i,j,k in product(var, res_list, time_index):\n"
   ]
  },
  {
   "cell_type": "code",
   "execution_count": null,
   "metadata": {},
   "outputs": [],
   "source": [
    "bou = [f'0 <= {i}' for i in var]"
   ]
  },
  {
   "cell_type": "code",
   "execution_count": null,
   "metadata": {},
   "outputs": [],
   "source": [
    "# Define the problem components\n",
    "objective = \"x + 2 y\"\n",
    "constraints = [\"x + y >= 1\", \"x <= 2\", \"y <= 2\"]\n",
    "bounds = [\"0 <= x\", \"0 <= y\"]\n",
    "\n",
    "# Create the LP file\n",
    "# creator = LPFileCreator(objective, constraints, bounds, file_name=\"example.lp\")\n",
    "\n",
    "creator = LPFileCreator(obj, cons, bou, file_name=\"example.lp\")\n",
    "creator.create_lp_file()\n",
    "print(\"LP file 'example.lp' created successfully.\")"
   ]
  },
  {
   "cell_type": "code",
   "execution_count": null,
   "metadata": {},
   "outputs": [],
   "source": [
    "import gurobipy as gb\n",
    "\n",
    "a = gb.read('example.lp')"
   ]
  },
  {
   "cell_type": "code",
   "execution_count": null,
   "metadata": {},
   "outputs": [],
   "source": []
  },
  {
   "cell_type": "code",
   "execution_count": null,
   "metadata": {},
   "outputs": [],
   "source": [
    "a.optimize()"
   ]
  },
  {
   "cell_type": "code",
   "execution_count": null,
   "metadata": {},
   "outputs": [],
   "source": [
    "Maximize\n",
    "  x + y + z\n",
    "Subject To\n",
    "  c0: x + y = 1\n",
    "  c1: x + 5 y + 2 z <= 10\n",
    "  qc0: x + y + [ x ^ 2 - 2 x * y + 3 y ^ 2 ] <= 5\n",
    "Bounds\n",
    "  0 <= x <= 5\n",
    "  z >= 2\n",
    "Generals\n",
    "  x y z\n",
    "End\n"
   ]
  },
  {
   "cell_type": "code",
   "execution_count": null,
   "metadata": {},
   "outputs": [],
   "source": [
    "H2O.purchase_cost"
   ]
  },
  {
   "cell_type": "code",
   "execution_count": null,
   "metadata": {},
   "outputs": [],
   "source": [
    "H2O.cons_max"
   ]
  },
  {
   "cell_type": "code",
   "execution_count": null,
   "metadata": {},
   "outputs": [],
   "source": [
    "m.optimize()"
   ]
  },
  {
   "cell_type": "code",
   "execution_count": null,
   "metadata": {},
   "outputs": [],
   "source": [
    "m.getVars()"
   ]
  },
  {
   "cell_type": "code",
   "execution_count": null,
   "metadata": {},
   "outputs": [],
   "source": [
    "plot_scenario.capacity_factor(\n",
    "    scenario=scenario, location=houston, process=PV, fig_size=(9, 5), color='orange'\n",
    ")"
   ]
  },
  {
   "attachments": {},
   "cell_type": "markdown",
   "metadata": {},
   "source": [
    "![cap fac pv](plots / cf_ho.png)"
   ]
  },
  {
   "cell_type": "code",
   "execution_count": null,
   "metadata": {},
   "outputs": [],
   "source": [
    "plot_scenario.capacity_factor(\n",
    "    scenario=scenario, location=sandiego, process=WF, fig_size=(9, 5), color='blue'\n",
    ")"
   ]
  },
  {
   "attachments": {},
   "cell_type": "markdown",
   "metadata": {},
   "source": [
    "![cap fac wf](plots / wf_sd.png)"
   ]
  },
  {
   "cell_type": "code",
   "execution_count": null,
   "metadata": {},
   "outputs": [],
   "source": [
    "plot_scenario.demand_factor(\n",
    "    scenario=scenario, location=newyork, resource=Power, fig_size=(9, 5), color='red'\n",
    ")"
   ]
  },
  {
   "attachments": {},
   "cell_type": "markdown",
   "metadata": {},
   "source": [
    "![df ny](plots / df_ny.png)"
   ]
  },
  {
   "attachments": {},
   "cell_type": "markdown",
   "metadata": {},
   "source": [
    "## Optimize for minimum cost"
   ]
  },
  {
   "cell_type": "code",
   "execution_count": null,
   "metadata": {},
   "outputs": [],
   "source": [
    "milp_cost = formulate(\n",
    "    scenario=scenario,\n",
    "    constraints={\n",
    "        Constraints.COST,\n",
    "        Constraints.INVENTORY,\n",
    "        Constraints.PRODUCTION,\n",
    "        Constraints.RESOURCE_BALANCE,\n",
    "        Constraints.TRANSPORT,\n",
    "        Constraints.MODE,\n",
    "        Constraints.NETWORK,\n",
    "    },\n",
    "    objective=Objective.COST,\n",
    ")"
   ]
  },
  {
   "attachments": {},
   "cell_type": "markdown",
   "metadata": {},
   "source": [
    "**Ensure no discharge of power in Houston and San Diego**\n",
    "\n",
    "While the demand for power is zero in these locations, Power is still a dischargeable resource. Hence, the discharge bounds need to be set to zero.\n",
    "If not set to zero, the system chooses to dispense power instead of establishing storage networks."
   ]
  },
  {
   "cell_type": "code",
   "execution_count": null,
   "metadata": {},
   "outputs": [],
   "source": [
    "milp_cost.constraint_specific_location_discharge_ho = (\n",
    "    constraint_specific_location_discharge(\n",
    "        instance=milp_cost, network_scale_level=0, bounds={Power: 0}, location=houston\n",
    "    )\n",
    ")\n",
    "milp_cost.constraint_specific_location_discharge_sd = (\n",
    "    constraint_specific_location_discharge(\n",
    "        instance=milp_cost, network_scale_level=0, bounds={Power: 0}, location=sandiego\n",
    "    )\n",
    ")"
   ]
  },
  {
   "cell_type": "code",
   "execution_count": null,
   "metadata": {},
   "outputs": [],
   "source": [
    "results_cost = solve(\n",
    "    scenario=scenario,\n",
    "    instance=milp_cost,\n",
    "    solver='gurobi',\n",
    "    name=\"results_cost\",\n",
    "    print_solversteps=True,\n",
    ")"
   ]
  },
  {
   "attachments": {},
   "cell_type": "markdown",
   "metadata": {},
   "source": [
    "**Schedule for transport of hydrogen**"
   ]
  },
  {
   "cell_type": "code",
   "execution_count": null,
   "metadata": {},
   "outputs": [],
   "source": [
    "plot_results.transport(\n",
    "    results=results_cost, source='SD', sink='NY', resource='H2', transport='Train_H2'\n",
    ")"
   ]
  },
  {
   "attachments": {},
   "cell_type": "markdown",
   "metadata": {},
   "source": [
    "![sch t sdny](plots / sch_sdny.png)"
   ]
  },
  {
   "cell_type": "code",
   "execution_count": null,
   "metadata": {},
   "outputs": [],
   "source": [
    "plot_results.transport(\n",
    "    results=results_cost, source='HO', sink='NY', resource='H2', transport='Train_H2'\n",
    ")"
   ]
  },
  {
   "attachments": {},
   "cell_type": "markdown",
   "metadata": {},
   "source": [
    "![sch hony](plots / sch_hony.png)"
   ]
  },
  {
   "attachments": {},
   "cell_type": "markdown",
   "metadata": {},
   "source": [
    "**Cost contribution by technology**"
   ]
  },
  {
   "cell_type": "code",
   "execution_count": null,
   "metadata": {},
   "outputs": [],
   "source": [
    "plot_results.cost(\n",
    "    results=results_cost,\n",
    "    x=CostX.PROCESS_WISE,\n",
    "    y=CostY.CAPEX,\n",
    "    location='HO',\n",
    "    fig_size=(8, 6),\n",
    ")\n",
    "plot_results.cost(\n",
    "    results=results_cost,\n",
    "    x=CostX.PROCESS_WISE,\n",
    "    y=CostY.VOPEX,\n",
    "    location='HO',\n",
    "    fig_size=(8, 6),\n",
    ")\n",
    "plot_results.cost(\n",
    "    results=results_cost,\n",
    "    x=CostX.PROCESS_WISE,\n",
    "    y=CostY.FOPEX,\n",
    "    location='HO',\n",
    "    fig_size=(8, 6),\n",
    ")\n",
    "plot_results.cost(\n",
    "    results=results_cost,\n",
    "    x=CostX.PROCESS_WISE,\n",
    "    y=CostY.TOTAL,\n",
    "    location='HO',\n",
    "    fig_size=(8, 6),\n",
    ")"
   ]
  },
  {
   "attachments": {},
   "cell_type": "markdown",
   "metadata": {},
   "source": [
    "![total cost ho](plots / total_ho.png)"
   ]
  },
  {
   "attachments": {},
   "cell_type": "markdown",
   "metadata": {},
   "source": [
    "**Location-wise cost contribution by technology**"
   ]
  },
  {
   "cell_type": "code",
   "execution_count": null,
   "metadata": {},
   "outputs": [],
   "source": [
    "plot_results.cost(\n",
    "    results=results_cost, x=CostX.LOCATION_WISE, y=CostY.CAPEX, fig_size=(8, 6)\n",
    ")\n",
    "plot_results.cost(\n",
    "    results=results_cost, x=CostX.LOCATION_WISE, y=CostY.VOPEX, fig_size=(8, 6)\n",
    ")\n",
    "plot_results.cost(\n",
    "    results=results_cost, x=CostX.LOCATION_WISE, y=CostY.FOPEX, fig_size=(8, 6)\n",
    ")\n",
    "plot_results.cost(\n",
    "    results=results_cost, x=CostX.LOCATION_WISE, y=CostY.TOTAL, fig_size=(8, 6)\n",
    ")"
   ]
  },
  {
   "attachments": {},
   "cell_type": "markdown",
   "metadata": {},
   "source": [
    "![total lw](plots / total_lw.png)"
   ]
  },
  {
   "attachments": {},
   "cell_type": "markdown",
   "metadata": {},
   "source": [
    "**Inventory and production schedules**"
   ]
  },
  {
   "cell_type": "code",
   "execution_count": null,
   "metadata": {},
   "outputs": [],
   "source": [
    "plot_results.schedule(\n",
    "    results=results_cost,\n",
    "    y_axis='Inv',\n",
    "    component='LiI_Power_stored',\n",
    "    location='SD',\n",
    "    fig_size=(9, 5),\n",
    "    color='steelblue',\n",
    ")"
   ]
  },
  {
   "attachments": {},
   "cell_type": "markdown",
   "metadata": {},
   "source": [
    "![inv lii](plots / lii_inv.png)"
   ]
  },
  {
   "cell_type": "code",
   "execution_count": null,
   "metadata": {},
   "outputs": [],
   "source": [
    "plot_results.schedule(\n",
    "    results=results_cost,\n",
    "    y_axis='P',\n",
    "    component='PV',\n",
    "    location='SD',\n",
    "    fig_size=(9, 5),\n",
    "    color='steelblue',\n",
    ")"
   ]
  },
  {
   "attachments": {},
   "cell_type": "markdown",
   "metadata": {},
   "source": [
    "![pv p](plots / pv_p.png)"
   ]
  },
  {
   "attachments": {},
   "cell_type": "markdown",
   "metadata": {},
   "source": [
    "## Optimize to maximize resource discharge "
   ]
  },
  {
   "cell_type": "code",
   "execution_count": null,
   "metadata": {},
   "outputs": [],
   "source": [
    "milp_demand = formulate(\n",
    "    scenario=scenario,\n",
    "    constraints={\n",
    "        Constraints.COST,\n",
    "        Constraints.INVENTORY,\n",
    "        Constraints.PRODUCTION,\n",
    "        Constraints.RESOURCE_BALANCE,\n",
    "        Constraints.TRANSPORT,\n",
    "        Constraints.MODE,\n",
    "        Constraints.NETWORK,\n",
    "    },\n",
    "    objective=Objective.MAX_DISCHARGE,\n",
    "    objective_resource=Power,\n",
    ")"
   ]
  },
  {
   "cell_type": "code",
   "execution_count": null,
   "metadata": {},
   "outputs": [],
   "source": [
    "milp_demand.constraint_specific_location_discharge_ho = (\n",
    "    constraint_specific_location_discharge(\n",
    "        instance=milp_demand, network_scale_level=0, bounds={Power: 0}, location=houston\n",
    "    )\n",
    ")\n",
    "milp_demand.constraint_specific_location_discharge_sd = (\n",
    "    constraint_specific_location_discharge(\n",
    "        instance=milp_demand,\n",
    "        network_scale_level=0,\n",
    "        bounds={Power: 0},\n",
    "        location=sandiego,\n",
    "    )\n",
    ")"
   ]
  },
  {
   "cell_type": "code",
   "execution_count": null,
   "metadata": {},
   "outputs": [],
   "source": [
    "results_demand = solve(\n",
    "    scenario=scenario,\n",
    "    instance=milp_demand,\n",
    "    solver='gurobi',\n",
    "    name=\"results_demand\",\n",
    "    print_solversteps=True,\n",
    ")"
   ]
  },
  {
   "attachments": {},
   "cell_type": "markdown",
   "metadata": {},
   "source": [
    "**Schedule for transport of hydrogen**"
   ]
  },
  {
   "cell_type": "code",
   "execution_count": null,
   "metadata": {},
   "outputs": [],
   "source": [
    "plot_results.transport(\n",
    "    results=results_demand, source='SD', sink='NY', resource='H2', transport='Train_H2'\n",
    ")"
   ]
  },
  {
   "attachments": {},
   "cell_type": "markdown",
   "metadata": {},
   "source": [
    "![sch t sdny2](plots / sch_sdny2.png)"
   ]
  },
  {
   "cell_type": "code",
   "execution_count": null,
   "metadata": {},
   "outputs": [],
   "source": [
    "plot_results.transport(\n",
    "    results=results_demand, source='HO', sink='NY', resource='H2', transport='Train_H2'\n",
    ")"
   ]
  },
  {
   "attachments": {},
   "cell_type": "markdown",
   "metadata": {},
   "source": [
    "![sch t hony](plots / sch_hony2.png)"
   ]
  }
 ],
 "metadata": {
  "kernelspec": {
   "display_name": ".venv",
   "language": "python",
   "name": "python3"
  },
  "language_info": {
   "codemirror_mode": {
    "name": "ipython",
    "version": 3
   },
   "file_extension": ".py",
   "mimetype": "text/x-python",
   "name": "python",
   "nbconvert_exporter": "python",
   "pygments_lexer": "ipython3",
   "version": "3.10.11"
  },
  "orig_nbformat": 4
 },
 "nbformat": 4,
 "nbformat_minor": 2
}
