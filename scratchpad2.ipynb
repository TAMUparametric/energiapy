{
 "cells": [
  {
   "cell_type": "code",
   "execution_count": 1,
   "metadata": {},
   "outputs": [],
   "source": [
    "# def load_data(loc:str, index:list):\n",
    "#     df = pandas.read_csv(f'data/{loc}_solar19.csv')\n",
    "#     df['idx'] = index\n",
    "#     df = df.set_index('idx')\n",
    "#     return df\n",
    "# idx = [(i,j,k) for i,j,k in product(range(1), range(365), range(24))]\n",
    "# weather_ny = load_data('ny', idx)[['DNI', 'Wind Speed']]\n",
    "# weather_ny = weather_ny.rename(columns= {'DNI': 'dni', 'Wind Speed': 'wind_speed'})\n",
    "# weather_sd = load_data('sd', idx)[['dni', 'wind_speed']]\n",
    "# weather_ho = load_data('ho', idx)[['dni', 'wind_speed']]\"\"\n",
    "# demand_sd = pandas.read_excel('data/HistoricalEMSHourlyLoad-2019.xlsx', index_col= 0)[['SDGE']]\n",
    "# demand_ho = pandas.read_excel('data/Native_Load_2019.xlsx')[['COAST']]\n",
    "# demand_ny = DataFrame(pandas.read_csv('data/NYC_load.csv')['Load']) #from Will and Doga\n",
    "# ng_price = make_henry_price_df(\n",
    "#     file_name='data/Henry_Hub_Natural_Gas_Spot_Price_Daily.csv', year=2020)\n",
    "# ng_price = ng_price.drop(columns= 'scales')\n",
    "# ng_price = remove_outliers(ng_price, sd_cuttoff = 3)\n",
    "# ng_price = pandas.concat([ng_price])"
   ]
  },
  {
   "cell_type": "code",
   "execution_count": 2,
   "metadata": {},
   "outputs": [],
   "source": [
    "import sys\n",
    "\n",
    "sys.path.append('src')"
   ]
  },
  {
   "cell_type": "code",
   "execution_count": 3,
   "metadata": {},
   "outputs": [],
   "source": [
    "from energiapy.blocks.model import Model\n",
    "from energiapy.blocks.taskmaster import TaskMaster\n",
    "from dataclasses import dataclass, field, fields, asdict\n",
    "from operator import is_"
   ]
  },
  {
   "cell_type": "code",
   "execution_count": 4,
   "metadata": {},
   "outputs": [],
   "source": [
    "from pandas import DataFrame\n",
    "from energiapy.components import *\n",
    "from energiapy.model.scenario import Scenario\n",
    "from energiapy.parameters.designators.mode import X\n",
    "from energiapy.parameters.designators.incidental import I"
   ]
  },
  {
   "cell_type": "code",
   "execution_count": 5,
   "metadata": {},
   "outputs": [],
   "source": [
    "from energiapy.core.aliases.is_input import IsBoundInput"
   ]
  },
  {
   "cell_type": "code",
   "execution_count": 6,
   "metadata": {},
   "outputs": [],
   "source": [
    "from energiapy.components._base._scope import _Scope\n",
    "from energiapy.components._base._defined import _Defined\n",
    "from energiapy.components.temporal.scale import Scale\n",
    "from energiapy.components.spatial.location import Location\n",
    "from energiapy.components.spatial._spatial import _Spatial\n",
    "from energiapy.core._handy._enums import _Dummy\n",
    "from energiapy.indices.disposition import Disposition"
   ]
  },
  {
   "cell_type": "code",
   "execution_count": 7,
   "metadata": {},
   "outputs": [],
   "source": [
    "s = Scenario(default=True)"
   ]
  },
  {
   "cell_type": "code",
   "execution_count": 8,
   "metadata": {},
   "outputs": [],
   "source": [
    "# s.h2 = Horizon({'days': 2, 'hours': 12})\n",
    "s.hor = Horizon(discretizations=[2, 12])\n",
    "s.scales\n",
    "s.net = Network(['madgaon', 'ponje', 'cacoda'])  # , link_all=True)\n",
    "s.nodes\n",
    "s.alink = Linkage(source=s.madgaon, sink=s.ponje, bi=True, distance=50)\n",
    "s.blink = Linkage(source=s.ponje, sink=s.cacoda, bi=False, distance=80)\n",
    "s.clink = Linkage(source=s.cacoda, sink=s.madgaon, bi=True, distance=100)\n",
    "s.dlink = Linkage(source=s.madgaon, sink=s.ponje, bi=False, distance=200)"
   ]
  },
  {
   "cell_type": "code",
   "execution_count": 9,
   "metadata": {},
   "outputs": [],
   "source": [
    "a = DataFrame({'a': list(range(2))})\n",
    "b = DataFrame({'b': list(range(24))})"
   ]
  },
  {
   "cell_type": "code",
   "execution_count": 10,
   "metadata": {},
   "outputs": [
    {
     "name": "stderr",
     "output_type": "stream",
     "text": [
      "c:\\Users\\cacodcar\\energiapy\\src\\energiapy\\components\\_base\\_consistent.py:227: InconsistencyWarning: \n",
      "csh.spend:Inconsistent temporal scale for ponje at t2.\n",
      "Updating to t1\n",
      "Set Scneario.ok_inconsistent=False, to enforce strictly\n",
      "  warn(\n"
     ]
    }
   ],
   "source": [
    "s.csh = Cash(\n",
    "    spend={\n",
    "        s.madgaon: True,\n",
    "        s.ponje: {s.t2: (2, a)},\n",
    "        s.cacoda: a,\n",
    "        s.network: {s.t2: [5, 7]},\n",
    "    },\n",
    "    # label='cash',\n",
    "    basis='USD',\n",
    ")"
   ]
  },
  {
   "cell_type": "code",
   "execution_count": 11,
   "metadata": {},
   "outputs": [
    {
     "data": {
      "text/latex": [
       "$\\displaystyle {spend}_{csh,madgaon,t_{0}} \\geq 0$"
      ],
      "text/plain": [
       "<IPython.core.display.Math object>"
      ]
     },
     "metadata": {},
     "output_type": "display_data"
    },
    {
     "data": {
      "text/latex": [
       "$\\displaystyle {spend}_{csh,madgaon,t_{0}} \\leq M$"
      ],
      "text/plain": [
       "<IPython.core.display.Math object>"
      ]
     },
     "metadata": {},
     "output_type": "display_data"
    },
    {
     "data": {
      "text/latex": [
       "$\\displaystyle {spend}_{csh,ponje,t_{1}} = {θ}_{csh,ponje,t_{1}}$"
      ],
      "text/plain": [
       "<IPython.core.display.Math object>"
      ]
     },
     "metadata": {},
     "output_type": "display_data"
    },
    {
     "data": {
      "text/latex": [
       "$\\displaystyle {spend}_{csh,cacoda,t_{1}} = {DtSt}_{csh,cacoda,t_{1}}$"
      ],
      "text/plain": [
       "<IPython.core.display.Math object>"
      ]
     },
     "metadata": {},
     "output_type": "display_data"
    },
    {
     "data": {
      "text/latex": [
       "$\\displaystyle {spend}_{csh,net,t_{2}} \\geq 5$"
      ],
      "text/plain": [
       "<IPython.core.display.Math object>"
      ]
     },
     "metadata": {},
     "output_type": "display_data"
    },
    {
     "data": {
      "text/latex": [
       "$\\displaystyle {spend}_{csh,net,t_{2}} \\leq 7$"
      ],
      "text/plain": [
       "<IPython.core.display.Math object>"
      ]
     },
     "metadata": {},
     "output_type": "display_data"
    }
   ],
   "source": [
    "s.cash.pprint()"
   ]
  },
  {
   "cell_type": "code",
   "execution_count": 12,
   "metadata": {},
   "outputs": [
    {
     "name": "stderr",
     "output_type": "stream",
     "text": [
      "c:\\Users\\cacodcar\\energiapy\\src\\energiapy\\components\\_base\\_consistent.py:227: InconsistencyWarning: \n",
      "H2.price_sell:Inconsistent temporal scale for ponje at t1.\n",
      "Updating to t2\n",
      "Set Scneario.ok_inconsistent=False, to enforce strictly\n",
      "  warn(\n"
     ]
    }
   ],
   "source": [
    "s.H2 = Resource(\n",
    "    # sell={s.t0: [0, 4], s.t1: [a, 34], s.t2: (a, b)},\n",
    "    price_sell={\n",
    "        s.madgaon: {s.t1: (2, a)},\n",
    "        s.ponje: {s.t1: (2, b)},\n",
    "        s.cacoda: 300,\n",
    "    },\n",
    ")"
   ]
  },
  {
   "cell_type": "code",
   "execution_count": 13,
   "metadata": {},
   "outputs": [
    {
     "data": {
      "text/plain": [
       "[Price^sell[csh, H2, cacoda, t0],\n",
       " Price^sell[csh, H2, madgaon, t1],\n",
       " Price^sell[csh, H2, ponje, t2]]"
      ]
     },
     "execution_count": 13,
     "metadata": {},
     "output_type": "execute_result"
    }
   ],
   "source": [
    "s.H2.parameters"
   ]
  },
  {
   "cell_type": "code",
   "execution_count": 14,
   "metadata": {},
   "outputs": [
    {
     "data": {
      "text/latex": [
       "$\\displaystyle {exp^{sell}}_{csh,H_{2},cacoda,t_{0}} = {sell}_{H_{2},cacoda,t_{0}} \\cdot 300$"
      ],
      "text/plain": [
       "<IPython.core.display.Math object>"
      ]
     },
     "metadata": {},
     "output_type": "display_data"
    },
    {
     "data": {
      "text/latex": [
       "$\\displaystyle {exp^{sell}}_{csh,H_{2},madgaon,t_{1}} = {sell}_{H_{2},madgaon,t_{1}} \\cdot {θ}_{csh,H_{2},madgaon,t_{1}}$"
      ],
      "text/plain": [
       "<IPython.core.display.Math object>"
      ]
     },
     "metadata": {},
     "output_type": "display_data"
    },
    {
     "data": {
      "text/latex": [
       "$\\displaystyle {exp^{sell}}_{csh,H_{2},ponje,t_{2}} = {sell}_{H_{2},ponje,t_{2}} \\cdot {θ}_{csh,H_{2},ponje,t_{2}}$"
      ],
      "text/plain": [
       "<IPython.core.display.Math object>"
      ]
     },
     "metadata": {},
     "output_type": "display_data"
    }
   ],
   "source": [
    "s.H2.pprint()"
   ]
  },
  {
   "cell_type": "code",
   "execution_count": 15,
   "metadata": {},
   "outputs": [
    {
     "name": "stderr",
     "output_type": "stream",
     "text": [
      "c:\\Users\\cacodcar\\energiapy\\src\\energiapy\\model\\_ok.py:54: OverWriteWarning: \n",
      "A Power was already defined.\n",
      "Overwriting. Set Scenario.ok_overwrite=False, to enforce strictly\n",
      "This should not cause any modeling issues.\n",
      "Check Scenario defaults if unintended.\n",
      "Only one instance of Horizon, Network, Cash, and Land are allowed\n",
      "  warn(OverWriteWarning(cmp))\n"
     ]
    }
   ],
   "source": [
    "s.Solar = Resource(buy=True, basis='MW', label='Solar Power')\n",
    "\n",
    "\n",
    "s.Wind = Resource(buy=a, basis='MW', label='Wind Power')\n",
    "\n",
    "\n",
    "s.Power = Resource(basis='MW', label='Power generated')\n",
    "\n",
    "\n",
    "s.Uranium = Resource(\n",
    "    buy=DataFrame({'a': [i for i in range(24)]}),\n",
    "    price_buy=42.70 / (250 / 2),\n",
    "    basis='kg',\n",
    "    label='Uranium',\n",
    ")\n",
    "\n",
    "\n",
    "# s.H2_L = Resource(sell=(0, 23), basis='tons', label='Hydrogen')\n",
    "\n",
    "\n",
    "# s.CO2_AQoff = Resource(basis='tons', label='Carbon dioxide - sequestered')\n",
    "\n",
    "\n",
    "s.H2O = Resource(buy=(20, 50), price_buy=b, basis='tons', label='Water')\n",
    "\n",
    "\n",
    "s.CH4 = Resource(buy=[20, 40], price_buy=20, basis='tons', label='Natural gas')\n",
    "\n",
    "\n",
    "s.CO2 = Resource(basis='tons', label='Carbon dioxide', block='Resource')\n",
    "\n",
    "\n",
    "s.CO2_Vent = Resource(\n",
    "    basis='tons',\n",
    "    label='Carbon dioxide - Vented',\n",
    "    price_sell=(2, 20),\n",
    "    emission_sell={s.gwp: b},\n",
    ")\n",
    "\n",
    "\n",
    "s.O2 = Resource(sell=[20, True], basis='tons', label='Oxygen')\n",
    "\n",
    "\n",
    "s.CO2_DAC = Resource(basis='tons', label='Carbon dioxide - captured')\n",
    "s.Power = Resource(buy=[0, a], basis='MW', label='Power generated')"
   ]
  },
  {
   "cell_type": "code",
   "execution_count": 16,
   "metadata": {},
   "outputs": [
    {
     "data": {
      "text/latex": [
       "$\\displaystyle {spend}_{csh,madgaon,t_{0}} \\geq 0$"
      ],
      "text/plain": [
       "<IPython.core.display.Math object>"
      ]
     },
     "metadata": {},
     "output_type": "display_data"
    },
    {
     "data": {
      "text/latex": [
       "$\\displaystyle {spend}_{csh,madgaon,t_{0}} \\leq M$"
      ],
      "text/plain": [
       "<IPython.core.display.Math object>"
      ]
     },
     "metadata": {},
     "output_type": "display_data"
    },
    {
     "data": {
      "text/latex": [
       "$\\displaystyle {spend}_{csh,ponje,t_{1}} = {θ}_{csh,ponje,t_{1}}$"
      ],
      "text/plain": [
       "<IPython.core.display.Math object>"
      ]
     },
     "metadata": {},
     "output_type": "display_data"
    },
    {
     "data": {
      "text/latex": [
       "$\\displaystyle {spend}_{csh,cacoda,t_{1}} = {DtSt}_{csh,cacoda,t_{1}}$"
      ],
      "text/plain": [
       "<IPython.core.display.Math object>"
      ]
     },
     "metadata": {},
     "output_type": "display_data"
    },
    {
     "data": {
      "text/latex": [
       "$\\displaystyle {spend}_{csh,net,t_{2}} \\geq 5$"
      ],
      "text/plain": [
       "<IPython.core.display.Math object>"
      ]
     },
     "metadata": {},
     "output_type": "display_data"
    },
    {
     "data": {
      "text/latex": [
       "$\\displaystyle {spend}_{csh,net,t_{2}} \\leq 7$"
      ],
      "text/plain": [
       "<IPython.core.display.Math object>"
      ]
     },
     "metadata": {},
     "output_type": "display_data"
    },
    {
     "data": {
      "text/latex": [
       "$\\displaystyle {exp^{sell}}_{csh,H_{2},cacoda,t_{0}} = {sell}_{H_{2},cacoda,t_{0}} \\cdot 300$"
      ],
      "text/plain": [
       "<IPython.core.display.Math object>"
      ]
     },
     "metadata": {},
     "output_type": "display_data"
    },
    {
     "data": {
      "text/latex": [
       "$\\displaystyle {exp^{sell}}_{csh,H_{2},madgaon,t_{1}} = {sell}_{H_{2},madgaon,t_{1}} \\cdot {θ}_{csh,H_{2},madgaon,t_{1}}$"
      ],
      "text/plain": [
       "<IPython.core.display.Math object>"
      ]
     },
     "metadata": {},
     "output_type": "display_data"
    },
    {
     "data": {
      "text/latex": [
       "$\\displaystyle {exp^{sell}}_{csh,H_{2},ponje,t_{2}} = {sell}_{H_{2},ponje,t_{2}} \\cdot {θ}_{csh,H_{2},ponje,t_{2}}$"
      ],
      "text/plain": [
       "<IPython.core.display.Math object>"
      ]
     },
     "metadata": {},
     "output_type": "display_data"
    },
    {
     "data": {
      "text/latex": [
       "$\\displaystyle {buy}_{Solar,net,t_{0}} \\geq 0$"
      ],
      "text/plain": [
       "<IPython.core.display.Math object>"
      ]
     },
     "metadata": {},
     "output_type": "display_data"
    },
    {
     "data": {
      "text/latex": [
       "$\\displaystyle {buy}_{Solar,net,t_{0}} \\leq M$"
      ],
      "text/plain": [
       "<IPython.core.display.Math object>"
      ]
     },
     "metadata": {},
     "output_type": "display_data"
    },
    {
     "data": {
      "text/latex": [
       "$\\displaystyle {buy}_{Wind,net,t_{1}} = {DtSt}_{Wind,net,t_{1}}$"
      ],
      "text/plain": [
       "<IPython.core.display.Math object>"
      ]
     },
     "metadata": {},
     "output_type": "display_data"
    },
    {
     "data": {
      "text/latex": [
       "$\\displaystyle {buy}_{Power,net,t_{1}} \\geq 0$"
      ],
      "text/plain": [
       "<IPython.core.display.Math object>"
      ]
     },
     "metadata": {},
     "output_type": "display_data"
    },
    {
     "data": {
      "text/latex": [
       "$\\displaystyle {buy}_{Power,net,t_{1}} \\leq {DtSt^{max}}_{Power,net,t_{1}}$"
      ],
      "text/plain": [
       "<IPython.core.display.Math object>"
      ]
     },
     "metadata": {},
     "output_type": "display_data"
    },
    {
     "data": {
      "text/latex": [
       "$\\displaystyle {buy}_{Uranium,net,t_{2}} = {DtSt}_{Uranium,net,t_{2}}$"
      ],
      "text/plain": [
       "<IPython.core.display.Math object>"
      ]
     },
     "metadata": {},
     "output_type": "display_data"
    },
    {
     "data": {
      "text/latex": [
       "$\\displaystyle {exp^{buy}}_{csh,Uranium,cacoda,t_{0}} = {buy}_{Uranium,cacoda,t_{0}} \\cdot 0.3416$"
      ],
      "text/plain": [
       "<IPython.core.display.Math object>"
      ]
     },
     "metadata": {},
     "output_type": "display_data"
    },
    {
     "data": {
      "text/latex": [
       "$\\displaystyle {exp^{buy}}_{csh,Uranium,madgaon,t_{0}} = {buy}_{Uranium,madgaon,t_{0}} \\cdot 0.3416$"
      ],
      "text/plain": [
       "<IPython.core.display.Math object>"
      ]
     },
     "metadata": {},
     "output_type": "display_data"
    },
    {
     "data": {
      "text/latex": [
       "$\\displaystyle {exp^{buy}}_{csh,Uranium,ponje,t_{0}} = {buy}_{Uranium,ponje,t_{0}} \\cdot 0.3416$"
      ],
      "text/plain": [
       "<IPython.core.display.Math object>"
      ]
     },
     "metadata": {},
     "output_type": "display_data"
    },
    {
     "data": {
      "text/latex": [
       "$\\displaystyle {buy}_{H2O,net,t_{0}} = {θ}_{H2O,net,t_{0}}$"
      ],
      "text/plain": [
       "<IPython.core.display.Math object>"
      ]
     },
     "metadata": {},
     "output_type": "display_data"
    },
    {
     "data": {
      "text/latex": [
       "$\\displaystyle {exp^{buy}}_{csh,H2O,cacoda,t_{2}} = {DtSt}_{csh,H2O,cacoda,t_{2}} \\cdot {buy}_{H2O,cacoda,t_{2}}$"
      ],
      "text/plain": [
       "<IPython.core.display.Math object>"
      ]
     },
     "metadata": {},
     "output_type": "display_data"
    },
    {
     "data": {
      "text/latex": [
       "$\\displaystyle {exp^{buy}}_{csh,H2O,madgaon,t_{2}} = {DtSt}_{csh,H2O,madgaon,t_{2}} \\cdot {buy}_{H2O,madgaon,t_{2}}$"
      ],
      "text/plain": [
       "<IPython.core.display.Math object>"
      ]
     },
     "metadata": {},
     "output_type": "display_data"
    },
    {
     "data": {
      "text/latex": [
       "$\\displaystyle {exp^{buy}}_{csh,H2O,ponje,t_{2}} = {DtSt}_{csh,H2O,ponje,t_{2}} \\cdot {buy}_{H2O,ponje,t_{2}}$"
      ],
      "text/plain": [
       "<IPython.core.display.Math object>"
      ]
     },
     "metadata": {},
     "output_type": "display_data"
    },
    {
     "data": {
      "text/latex": [
       "$\\displaystyle {buy}_{CH_{4},net,t_{0}} \\geq 20$"
      ],
      "text/plain": [
       "<IPython.core.display.Math object>"
      ]
     },
     "metadata": {},
     "output_type": "display_data"
    },
    {
     "data": {
      "text/latex": [
       "$\\displaystyle {buy}_{CH_{4},net,t_{0}} \\leq 40$"
      ],
      "text/plain": [
       "<IPython.core.display.Math object>"
      ]
     },
     "metadata": {},
     "output_type": "display_data"
    },
    {
     "data": {
      "text/latex": [
       "$\\displaystyle {exp^{buy}}_{csh,CH_{4},cacoda,t_{0}} = {buy}_{CH_{4},cacoda,t_{0}} \\cdot 20$"
      ],
      "text/plain": [
       "<IPython.core.display.Math object>"
      ]
     },
     "metadata": {},
     "output_type": "display_data"
    },
    {
     "data": {
      "text/latex": [
       "$\\displaystyle {exp^{buy}}_{csh,CH_{4},madgaon,t_{0}} = {buy}_{CH_{4},madgaon,t_{0}} \\cdot 20$"
      ],
      "text/plain": [
       "<IPython.core.display.Math object>"
      ]
     },
     "metadata": {},
     "output_type": "display_data"
    },
    {
     "data": {
      "text/latex": [
       "$\\displaystyle {exp^{buy}}_{csh,CH_{4},ponje,t_{0}} = {buy}_{CH_{4},ponje,t_{0}} \\cdot 20$"
      ],
      "text/plain": [
       "<IPython.core.display.Math object>"
      ]
     },
     "metadata": {},
     "output_type": "display_data"
    },
    {
     "data": {
      "text/latex": [
       "$\\displaystyle {exp^{sell}}_{csh,CO_{2 Vent},cacoda,t_{0}} = {sell}_{CO_{2 Vent},cacoda,t_{0}} \\cdot {θ}_{csh,CO_{2 Vent},cacoda,t_{0}}$"
      ],
      "text/plain": [
       "<IPython.core.display.Math object>"
      ]
     },
     "metadata": {},
     "output_type": "display_data"
    },
    {
     "data": {
      "text/latex": [
       "$\\displaystyle {exp^{sell}}_{csh,CO_{2 Vent},madgaon,t_{0}} = {sell}_{CO_{2 Vent},madgaon,t_{0}} \\cdot {θ}_{csh,CO_{2 Vent},madgaon,t_{0}}$"
      ],
      "text/plain": [
       "<IPython.core.display.Math object>"
      ]
     },
     "metadata": {},
     "output_type": "display_data"
    },
    {
     "data": {
      "text/latex": [
       "$\\displaystyle {exp^{sell}}_{csh,CO_{2 Vent},ponje,t_{0}} = {sell}_{CO_{2 Vent},ponje,t_{0}} \\cdot {θ}_{csh,CO_{2 Vent},ponje,t_{0}}$"
      ],
      "text/plain": [
       "<IPython.core.display.Math object>"
      ]
     },
     "metadata": {},
     "output_type": "display_data"
    },
    {
     "data": {
      "text/latex": [
       "$\\displaystyle {emit^{sell}}_{gwp,CO_{2 Vent},cacoda,t_{2}} = {DtSt}_{gwp,CO_{2 Vent},cacoda,t_{2}} \\cdot {sell}_{CO_{2 Vent},cacoda,t_{2}}$"
      ],
      "text/plain": [
       "<IPython.core.display.Math object>"
      ]
     },
     "metadata": {},
     "output_type": "display_data"
    },
    {
     "data": {
      "text/latex": [
       "$\\displaystyle {emit^{sell}}_{gwp,CO_{2 Vent},madgaon,t_{2}} = {DtSt}_{gwp,CO_{2 Vent},madgaon,t_{2}} \\cdot {sell}_{CO_{2 Vent},madgaon,t_{2}}$"
      ],
      "text/plain": [
       "<IPython.core.display.Math object>"
      ]
     },
     "metadata": {},
     "output_type": "display_data"
    },
    {
     "data": {
      "text/latex": [
       "$\\displaystyle {emit^{sell}}_{gwp,CO_{2 Vent},ponje,t_{2}} = {DtSt}_{gwp,CO_{2 Vent},ponje,t_{2}} \\cdot {sell}_{CO_{2 Vent},ponje,t_{2}}$"
      ],
      "text/plain": [
       "<IPython.core.display.Math object>"
      ]
     },
     "metadata": {},
     "output_type": "display_data"
    },
    {
     "data": {
      "text/latex": [
       "$\\displaystyle {sell}_{O_{2},net,t_{0}} \\geq 20$"
      ],
      "text/plain": [
       "<IPython.core.display.Math object>"
      ]
     },
     "metadata": {},
     "output_type": "display_data"
    },
    {
     "data": {
      "text/latex": [
       "$\\displaystyle {sell}_{O_{2},net,t_{0}} \\leq M$"
      ],
      "text/plain": [
       "<IPython.core.display.Math object>"
      ]
     },
     "metadata": {},
     "output_type": "display_data"
    }
   ],
   "source": [
    "s.pprint()"
   ]
  },
  {
   "cell_type": "code",
   "execution_count": 17,
   "metadata": {},
   "outputs": [],
   "source": [
    "s.LiR = Material(\n",
    "    emission_use={s.gwp: {s.t2: 1.484}},\n",
    "    use={s.ponje: 1.5},\n",
    "    basis='kg',\n",
    "    label='Lithium Reserves',\n",
    "    citation='Nelson Bunyui Manjong (2021)',\n",
    ")"
   ]
  },
  {
   "cell_type": "code",
   "execution_count": 18,
   "metadata": {},
   "outputs": [
    {
     "data": {
      "text/latex": [
       "$\\displaystyle {use}_{LiR,ponje,t_{0}} = 1.5$"
      ],
      "text/plain": [
       "<IPython.core.display.Math object>"
      ]
     },
     "metadata": {},
     "output_type": "display_data"
    },
    {
     "data": {
      "text/latex": [
       "$\\displaystyle {emit^{use}}_{gwp,LiR,cacoda,t_{0}} = {use}_{LiR,cacoda,t_{0}} \\cdot 1.484$"
      ],
      "text/plain": [
       "<IPython.core.display.Math object>"
      ]
     },
     "metadata": {},
     "output_type": "display_data"
    },
    {
     "data": {
      "text/latex": [
       "$\\displaystyle {emit^{use}}_{gwp,LiR,madgaon,t_{0}} = {use}_{LiR,madgaon,t_{0}} \\cdot 1.484$"
      ],
      "text/plain": [
       "<IPython.core.display.Math object>"
      ]
     },
     "metadata": {},
     "output_type": "display_data"
    },
    {
     "data": {
      "text/latex": [
       "$\\displaystyle {emit^{use}}_{gwp,LiR,ponje,t_{0}} = {use}_{LiR,ponje,t_{0}} \\cdot 1.484$"
      ],
      "text/plain": [
       "<IPython.core.display.Math object>"
      ]
     },
     "metadata": {},
     "output_type": "display_data"
    }
   ],
   "source": [
    "s.LiR.pprint()"
   ]
  },
  {
   "cell_type": "code",
   "execution_count": 19,
   "metadata": {},
   "outputs": [],
   "source": [
    "s.WF = Process(\n",
    "    conversion={s.Power: {X(0): {s.Wind: -1}, X(1): {s.Wind: -1}}},\n",
    "    produce=[(0, 3), (3, 5)],\n",
    "    capex={s.madgaon: {s.t1: {1462000, I(202233)}}},\n",
    "    opex={4953, I(70)},\n",
    "    capacity=1000,\n",
    "    emission_setup={s.gwp: 50, s.odp: 2900},\n",
    "    use_material={s.LiR: 1.5},\n",
    "    locations=[s.madgaon, s.ponje],\n",
    "    use_land=30,\n",
    "    label='Wind mill array',\n",
    "    basis='MW',\n",
    ")\n",
    "\n",
    "\n",
    "s.PV = Process(\n",
    "    price_sell={s.Power: 30},\n",
    "    credit={s.Power: DataFrame({'a': [2]})},\n",
    "    conversion={s.Power: {X(1): {s.Solar: -1.2}, X(2): {s.Solar: -1.5}}},\n",
    "    capex={X(0): 1333, X(1): 1444, X(2): 1555},\n",
    "    opex=22623,\n",
    "    capacity={X(0): 3000, X(1): 4000, X(2): 5000},\n",
    "    locations=s.cacoda,\n",
    "    label='Solar PV',\n",
    "    basis='MW',\n",
    ")\n",
    "\n",
    "\n",
    "s.SMRH = Process(\n",
    "    use_land=50,\n",
    "    conversion={\n",
    "        s.H2: {\n",
    "            s.Power: -1.11,\n",
    "            s.CH4: -3.76,\n",
    "            s.H2O: -23.7,\n",
    "            s.CO2_Vent: 1.03,\n",
    "            s.CO2: 9.332,\n",
    "        }\n",
    "    },\n",
    "    capex={\n",
    "        2520000,\n",
    "    },\n",
    "    opex={51.5, I(945000)},\n",
    "    capacity=[1000],\n",
    "    label='Steam methane reforming + CCUS',\n",
    ")\n",
    "\n",
    "s.NGCC = Process(\n",
    "    price_buy={s.CH4: 4, s.H2O: 20},\n",
    "    conversion={\n",
    "        s.Power: {\n",
    "            s.CH4: -0.108,\n",
    "            s.H2O: -10,\n",
    "            s.CO2_Vent: 0.297 * 0.05,\n",
    "            s.CO2: 0.297 * 0.95,\n",
    "        }\n",
    "    },\n",
    "    capex=2158928,\n",
    "    opex={4090, I(53320)},\n",
    "    capacity=[1, 100],\n",
    "    label='NGCC + 95% CC',\n",
    ")\n",
    "s.SMR = Process(\n",
    "    capex=2400,\n",
    "    opex={0.03, I(800)},\n",
    "    conversion={s.H2: {s.Power: -1.11, s.CH4: -3.76, s.H2O: -23.7, s.CO2_Vent: 9.4979}},\n",
    "    capacity=1000,\n",
    "    label='Steam methane reforming',\n",
    ")\n",
    "s.H2FC = Process(\n",
    "    price_buy={s.H2: 2},\n",
    "    sell={s.Power: 20},\n",
    "    conversion={s.Power: {s.H2: -0.050}},\n",
    "    capex=1.6 * 10**6,\n",
    "    opex=3.5,\n",
    "    capacity=[1000, 2000],\n",
    "    label='hydrogen fuel cell',\n",
    ")\n",
    "s.DAC = Process(\n",
    "    capex=0.02536,\n",
    "    opex=0.634,\n",
    "    conversion={s.CO2_DAC: {s.Power: -0.193, s.H2O: -4.048}},\n",
    "    capacity=1000,\n",
    "    label='Direct air capture',\n",
    ")\n",
    "# s.PSH = Process(conversion = {s.Power: 0.6}, capex = 3924781, fopex= 17820, vopex = 512.5, store = 10000, capacity=1000, label='Pumped storage hydropower', basis = 'MW')\n",
    "s.ASMR = Process(\n",
    "    buy={s.Uranium: 40},\n",
    "    conversion={s.Power: {s.Uranium: -4.17 * 10 ** (-5), s.H2O: -3.364}},\n",
    "    capex=7988951,\n",
    "    opex=I(0.04 * 0.730),\n",
    "    capacity=1000,\n",
    "    label='Small modular reactors (SMRs)',\n",
    "    locations=s.madgaon,\n",
    ")\n",
    "s.AWE = Process(\n",
    "    use_land=(0, 20),\n",
    "    conversion={s.H2: {s.Power: -1, s.O2: 0.7632, s.H2O: -0.1753}},\n",
    "    capex={1.1 * 10**6, I(20)},\n",
    "    opex=I(16918),\n",
    "    capacity=True,\n",
    "    label='Alkaline water electrolysis (AWE)',\n",
    "    citation='Demirhan et al. 2018 AIChE paper',\n",
    ")"
   ]
  },
  {
   "cell_type": "code",
   "execution_count": 20,
   "metadata": {},
   "outputs": [],
   "source": [
    "s.LiI = Storage(capacity=[2000], inventory=s.Power, capacity_in=[40], capacity_out=[20])\n",
    "s.LiI2 = Storage(capacity=[2000], inventory={s.Power: 0.6})\n",
    "s.H2Stg = Storage(\n",
    "    capacity=[2000], inventory={s.H2: {X(0): {s.Power: 0.8}, X(1): {s.Power: 0.9}}}\n",
    ")"
   ]
  },
  {
   "cell_type": "code",
   "execution_count": 36,
   "metadata": {},
   "outputs": [
    {
     "name": "stdout",
     "output_type": "stream",
     "text": [
      "232\n",
      "232\n",
      "232\n",
      "\n",
      "167\n",
      "167\n",
      "167\n",
      "\n",
      "167\n",
      "124\n",
      "124\n",
      "\n",
      "100\n",
      "61\n",
      "61\n"
     ]
    }
   ],
   "source": [
    "print(len(s.variables))\n",
    "print(len(set(s.variables)))\n",
    "print(len(set([v.name for v in s.variables])))\n",
    "print()\n",
    "print(len(s.parameters))\n",
    "print(len(set(s.parameters)))\n",
    "print(len(set([v.name for v in s.parameters])))\n",
    "print()\n",
    "print(len(s.constraints))\n",
    "print(len(set(s.constraints)))\n",
    "print(len(set([v.name for v in s.constraints])))\n",
    "print()\n",
    "print(len(s.dispositions))\n",
    "print(len(set(s.dispositions)))\n",
    "print(len(set([v.name for v in s.dispositions])))"
   ]
  },
  {
   "cell_type": "code",
   "execution_count": 28,
   "metadata": {},
   "outputs": [
    {
     "name": "stdout",
     "output_type": "stream",
     "text": [
      "167\n",
      "167\n"
     ]
    }
   ],
   "source": []
  },
  {
   "cell_type": "code",
   "execution_count": 30,
   "metadata": {},
   "outputs": [
    {
     "name": "stdout",
     "output_type": "stream",
     "text": [
      "167\n",
      "124\n"
     ]
    }
   ],
   "source": []
  },
  {
   "cell_type": "code",
   "execution_count": 31,
   "metadata": {},
   "outputs": [
    {
     "name": "stdout",
     "output_type": "stream",
     "text": [
      "100\n",
      "61\n"
     ]
    }
   ],
   "source": []
  },
  {
   "cell_type": "code",
   "execution_count": null,
   "metadata": {},
   "outputs": [],
   "source": []
  },
  {
   "cell_type": "code",
   "execution_count": 34,
   "metadata": {},
   "outputs": [
    {
     "name": "stdout",
     "output_type": "stream",
     "text": [
      "{'use': [], 'cost_use': [], 'emission_use': []}\n",
      "{'emit': []}\n",
      "{'emit': []}\n",
      "{'emit': []}\n",
      "{'emit': []}\n",
      "{'emit': []}\n",
      "{'emit': []}\n",
      "{'emit': []}\n",
      "{'emit': []}\n",
      "{'emit': []}\n",
      "{'emit': []}\n",
      "{'emit': []}\n",
      "{'has': [], 'needs': []}\n",
      "{'has': [], 'needs': []}\n",
      "{'has': [], 'needs': []}\n",
      "{'has': [], 'needs': []}\n",
      "{'spend': [], 'earn': []}\n",
      "{'ship': [], 'buy': [], 'sell': [], 'price_buy': [], 'price_sell': [(H2, cacoda, t0), (H2, madgaon, t1), (H2, ponje, t2)], 'credit': [], 'penalty': [], 'emission_buy': [], 'emission_sell': [], 'emission_loss': []}\n",
      "{'ship': [], 'buy': [], 'sell': [], 'price_buy': [], 'price_sell': [], 'credit': [], 'penalty': [], 'emission_buy': [], 'emission_sell': [], 'emission_loss': []}\n",
      "{'ship': [], 'buy': [], 'sell': [], 'price_buy': [], 'price_sell': [], 'credit': [], 'penalty': [], 'emission_buy': [], 'emission_sell': [], 'emission_loss': []}\n",
      "{'ship': [], 'buy': [], 'sell': [], 'price_buy': [], 'price_sell': [], 'credit': [], 'penalty': [], 'emission_buy': [], 'emission_sell': [], 'emission_loss': []}\n",
      "{'ship': [], 'buy': [], 'sell': [], 'price_buy': [(Uranium, cacoda, t0), (Uranium, madgaon, t0), (Uranium, ponje, t0)], 'price_sell': [], 'credit': [], 'penalty': [], 'emission_buy': [], 'emission_sell': [], 'emission_loss': []}\n",
      "{'ship': [], 'buy': [], 'sell': [], 'price_buy': [(H2O, cacoda, t2), (H2O, madgaon, t2), (H2O, ponje, t2)], 'price_sell': [], 'credit': [], 'penalty': [], 'emission_buy': [], 'emission_sell': [], 'emission_loss': []}\n",
      "{'ship': [], 'buy': [], 'sell': [], 'price_buy': [(CH4, cacoda, t0), (CH4, madgaon, t0), (CH4, ponje, t0)], 'price_sell': [], 'credit': [], 'penalty': [], 'emission_buy': [], 'emission_sell': [], 'emission_loss': []}\n",
      "{'ship': [], 'buy': [], 'sell': [], 'price_buy': [], 'price_sell': [], 'credit': [], 'penalty': [], 'emission_buy': [], 'emission_sell': [], 'emission_loss': []}\n",
      "{'ship': [], 'buy': [], 'sell': [], 'price_buy': [], 'price_sell': [(CO2_Vent, cacoda, t0), (CO2_Vent, madgaon, t0), (CO2_Vent, ponje, t0)], 'credit': [], 'penalty': [], 'emission_buy': [], 'emission_sell': [(CO2_Vent, cacoda, t2), (CO2_Vent, madgaon, t2), (CO2_Vent, ponje, t2)], 'emission_loss': []}\n",
      "{'ship': [], 'buy': [], 'sell': [], 'price_buy': [], 'price_sell': [], 'credit': [], 'penalty': [], 'emission_buy': [], 'emission_sell': [], 'emission_loss': []}\n",
      "{'ship': [], 'buy': [], 'sell': [], 'price_buy': [], 'price_sell': [], 'credit': [], 'penalty': [], 'emission_buy': [], 'emission_sell': [], 'emission_loss': []}\n",
      "{'use': [], 'cost_use': [], 'emission_use': [(LiR, cacoda, t0), (LiR, madgaon, t0), (LiR, ponje, t0)]}\n",
      "{'capacity': [], 'produce': [], 'setup_time': [], 'emission_use_land': [], 'emission_use_material': [], 'cost_use_land': [], 'cost_use_material': [], 'use_land': [(WF, cacoda, t0), (WF, madgaon, t0), (WF, ponje, t0)], 'use_material': [(WF, cacoda, t0), (WF, madgaon, t0), (WF, ponje, t0)], 'emission_setup': [(WF, cacoda, t0), (WF, madgaon, t0), (WF, ponje, t0), (WF, cacoda, t0), (WF, madgaon, t0), (WF, ponje, t0)], 'capex': [(WF, madgaon, t1)], 'opex': [(WF, cacoda, t0), (WF, madgaon, t0), (WF, ponje, t0)], 'emission_buy': [], 'emission_sell': [], 'emission_loss': [], 'price_buy': [], 'price_sell': [], 'credit': [], 'penalty': [], 'buy': [], 'sell': []}\n",
      "{'capacity': [], 'produce': [], 'setup_time': [], 'emission_use_land': [], 'emission_use_material': [], 'cost_use_land': [], 'cost_use_material': [], 'use_land': [], 'use_material': [], 'emission_setup': [], 'capex': [(PV, cacoda, t0), (PV, madgaon, t0), (PV, ponje, t0)], 'opex': [(PV, cacoda, t0), (PV, madgaon, t0), (PV, ponje, t0)], 'emission_buy': [], 'emission_sell': [], 'emission_loss': [], 'price_buy': [], 'price_sell': [(Power, PV, cacoda, t0), (Power, PV, madgaon, t0), (Power, PV, ponje, t0)], 'credit': [(Power, PV, cacoda, t0), (Power, PV, madgaon, t0), (Power, PV, ponje, t0)], 'penalty': [], 'buy': [], 'sell': []}\n",
      "{'capacity': [], 'produce': [], 'setup_time': [], 'emission_use_land': [], 'emission_use_material': [], 'cost_use_land': [], 'cost_use_material': [], 'use_land': [(SMRH, cacoda, t0), (SMRH, madgaon, t0), (SMRH, ponje, t0)], 'use_material': [], 'emission_setup': [], 'capex': [(SMRH, cacoda, t0), (SMRH, madgaon, t0), (SMRH, ponje, t0)], 'opex': [(SMRH, cacoda, t0), (SMRH, madgaon, t0), (SMRH, ponje, t0)], 'emission_buy': [], 'emission_sell': [], 'emission_loss': [], 'price_buy': [], 'price_sell': [], 'credit': [], 'penalty': [], 'buy': [], 'sell': []}\n",
      "{'capacity': [], 'produce': [], 'setup_time': [], 'emission_use_land': [], 'emission_use_material': [], 'cost_use_land': [], 'cost_use_material': [], 'use_land': [], 'use_material': [], 'emission_setup': [], 'capex': [(NGCC, cacoda, t0), (NGCC, madgaon, t0), (NGCC, ponje, t0)], 'opex': [(NGCC, cacoda, t0), (NGCC, madgaon, t0), (NGCC, ponje, t0)], 'emission_buy': [], 'emission_sell': [], 'emission_loss': [], 'price_buy': [(CH4, NGCC, cacoda, t0), (CH4, NGCC, madgaon, t0), (CH4, NGCC, ponje, t0), (H2O, NGCC, cacoda, t0), (H2O, NGCC, madgaon, t0), (H2O, NGCC, ponje, t0)], 'price_sell': [], 'credit': [], 'penalty': [], 'buy': [], 'sell': []}\n",
      "{'capacity': [], 'produce': [], 'setup_time': [], 'emission_use_land': [], 'emission_use_material': [], 'cost_use_land': [], 'cost_use_material': [], 'use_land': [], 'use_material': [], 'emission_setup': [], 'capex': [(SMR, cacoda, t0), (SMR, madgaon, t0), (SMR, ponje, t0)], 'opex': [(SMR, cacoda, t0), (SMR, madgaon, t0), (SMR, ponje, t0)], 'emission_buy': [], 'emission_sell': [], 'emission_loss': [], 'price_buy': [], 'price_sell': [], 'credit': [], 'penalty': [], 'buy': [], 'sell': []}\n",
      "{'capacity': [], 'produce': [], 'setup_time': [], 'emission_use_land': [], 'emission_use_material': [], 'cost_use_land': [], 'cost_use_material': [], 'use_land': [], 'use_material': [], 'emission_setup': [], 'capex': [(H2FC, cacoda, t0), (H2FC, madgaon, t0), (H2FC, ponje, t0)], 'opex': [(H2FC, cacoda, t0), (H2FC, madgaon, t0), (H2FC, ponje, t0)], 'emission_buy': [], 'emission_sell': [], 'emission_loss': [], 'price_buy': [(H2, H2FC, cacoda, t0), (H2, H2FC, madgaon, t0), (H2, H2FC, ponje, t0)], 'price_sell': [], 'credit': [], 'penalty': [], 'buy': [], 'sell': []}\n",
      "{'capacity': [], 'produce': [], 'setup_time': [], 'emission_use_land': [], 'emission_use_material': [], 'cost_use_land': [], 'cost_use_material': [], 'use_land': [], 'use_material': [], 'emission_setup': [], 'capex': [(DAC, cacoda, t0), (DAC, madgaon, t0), (DAC, ponje, t0)], 'opex': [(DAC, cacoda, t0), (DAC, madgaon, t0), (DAC, ponje, t0)], 'emission_buy': [], 'emission_sell': [], 'emission_loss': [], 'price_buy': [], 'price_sell': [], 'credit': [], 'penalty': [], 'buy': [], 'sell': []}\n",
      "{'capacity': [], 'produce': [], 'setup_time': [], 'emission_use_land': [], 'emission_use_material': [], 'cost_use_land': [], 'cost_use_material': [], 'use_land': [], 'use_material': [], 'emission_setup': [], 'capex': [(ASMR, cacoda, t0), (ASMR, madgaon, t0), (ASMR, ponje, t0)], 'opex': [], 'emission_buy': [], 'emission_sell': [], 'emission_loss': [], 'price_buy': [], 'price_sell': [], 'credit': [], 'penalty': [], 'buy': [], 'sell': []}\n",
      "{'capacity': [], 'produce': [], 'setup_time': [], 'emission_use_land': [], 'emission_use_material': [], 'cost_use_land': [], 'cost_use_material': [], 'use_land': [(AWE, cacoda, t0), (AWE, madgaon, t0), (AWE, ponje, t0)], 'use_material': [], 'emission_setup': [], 'capex': [(AWE, cacoda, t0), (AWE, madgaon, t0), (AWE, ponje, t0)], 'opex': [], 'emission_buy': [], 'emission_sell': [], 'emission_loss': [], 'price_buy': [], 'price_sell': [], 'credit': [], 'penalty': [], 'buy': [], 'sell': []}\n",
      "{'capacity': [], 'store': [], 'loss_storage': [], 'setup_time': [], 'emission_use_land': [], 'emission_use_material': [], 'cost_use_land': [], 'cost_use_material': [], 'use_land': [], 'use_material': [], 'emission_setup': [], 'capex': [], 'opex': []}\n",
      "{'ship': [], 'buy': [], 'sell': [], 'price_buy': [], 'price_sell': [], 'credit': [], 'penalty': [], 'emission_buy': [], 'emission_sell': [], 'emission_loss': []}\n",
      "{'capacity': [], 'produce': [], 'setup_time': [], 'emission_use_land': [], 'emission_use_material': [], 'cost_use_land': [], 'cost_use_material': [], 'use_land': [], 'use_material': [], 'emission_setup': [], 'capex': [], 'opex': [], 'emission_buy': [], 'emission_sell': [], 'emission_loss': [], 'price_buy': [], 'price_sell': [], 'credit': [], 'penalty': [], 'buy': [], 'sell': []}\n",
      "{'capacity': [], 'produce': [], 'setup_time': [], 'emission_use_land': [], 'emission_use_material': [], 'cost_use_land': [], 'cost_use_material': [], 'use_land': [], 'use_material': [], 'emission_setup': [], 'capex': [], 'opex': [], 'emission_buy': [], 'emission_sell': [], 'emission_loss': [], 'price_buy': [], 'price_sell': [], 'credit': [], 'penalty': [], 'buy': [], 'sell': []}\n",
      "{'capacity': [], 'store': [], 'loss_storage': [], 'setup_time': [], 'emission_use_land': [], 'emission_use_material': [], 'cost_use_land': [], 'cost_use_material': [], 'use_land': [], 'use_material': [], 'emission_setup': [], 'capex': [], 'opex': []}\n",
      "{'ship': [], 'buy': [], 'sell': [], 'price_buy': [], 'price_sell': [], 'credit': [], 'penalty': [], 'emission_buy': [], 'emission_sell': [], 'emission_loss': []}\n",
      "{'capacity': [], 'produce': [], 'setup_time': [], 'emission_use_land': [], 'emission_use_material': [], 'cost_use_land': [], 'cost_use_material': [], 'use_land': [], 'use_material': [], 'emission_setup': [], 'capex': [], 'opex': [], 'emission_buy': [], 'emission_sell': [], 'emission_loss': [], 'price_buy': [], 'price_sell': [], 'credit': [], 'penalty': [], 'buy': [], 'sell': []}\n",
      "{'capacity': [], 'produce': [], 'setup_time': [], 'emission_use_land': [], 'emission_use_material': [], 'cost_use_land': [], 'cost_use_material': [], 'use_land': [], 'use_material': [], 'emission_setup': [], 'capex': [], 'opex': [], 'emission_buy': [], 'emission_sell': [], 'emission_loss': [], 'price_buy': [], 'price_sell': [], 'credit': [], 'penalty': [], 'buy': [], 'sell': []}\n",
      "{'capacity': [], 'store': [], 'loss_storage': [], 'setup_time': [], 'emission_use_land': [], 'emission_use_material': [], 'cost_use_land': [], 'cost_use_material': [], 'use_land': [], 'use_material': [], 'emission_setup': [], 'capex': [], 'opex': []}\n",
      "{'ship': [], 'buy': [], 'sell': [], 'price_buy': [], 'price_sell': [], 'credit': [], 'penalty': [], 'emission_buy': [], 'emission_sell': [], 'emission_loss': []}\n",
      "{'capacity': [], 'produce': [], 'setup_time': [], 'emission_use_land': [], 'emission_use_material': [], 'cost_use_land': [], 'cost_use_material': [], 'use_land': [], 'use_material': [], 'emission_setup': [], 'capex': [], 'opex': [], 'emission_buy': [], 'emission_sell': [], 'emission_loss': [], 'price_buy': [], 'price_sell': [], 'credit': [], 'penalty': [], 'buy': [], 'sell': []}\n",
      "{'capacity': [], 'produce': [], 'setup_time': [], 'emission_use_land': [], 'emission_use_material': [], 'cost_use_land': [], 'cost_use_material': [], 'use_land': [], 'use_material': [], 'emission_setup': [], 'capex': [], 'opex': [], 'emission_buy': [], 'emission_sell': [], 'emission_loss': [], 'price_buy': [], 'price_sell': [], 'credit': [], 'penalty': [], 'buy': [], 'sell': []}\n"
     ]
    }
   ],
   "source": [
    "for block in s.program.blocks:\n",
    "    print(block.attr_dispositions)"
   ]
  },
  {
   "cell_type": "code",
   "execution_count": 21,
   "metadata": {},
   "outputs": [
    {
     "data": {
      "text/plain": [
       "False"
      ]
     },
     "execution_count": 21,
     "metadata": {},
     "output_type": "execute_result"
    }
   ],
   "source": [
    "is_(s.program.variables[5], s.program.variables[6])"
   ]
  },
  {
   "cell_type": "code",
   "execution_count": 25,
   "metadata": {},
   "outputs": [
    {
     "data": {
      "text/plain": [
       "232"
      ]
     },
     "execution_count": 25,
     "metadata": {},
     "output_type": "execute_result"
    }
   ],
   "source": [
    "len(set(s.program.variables))"
   ]
  },
  {
   "cell_type": "code",
   "execution_count": 22,
   "metadata": {},
   "outputs": [
    {
     "data": {
      "text/plain": [
       "buy[CH4, net, t0]"
      ]
     },
     "execution_count": 22,
     "metadata": {},
     "output_type": "execute_result"
    }
   ],
   "source": [
    "s.program.variables[6]"
   ]
  },
  {
   "cell_type": "code",
   "execution_count": 25,
   "metadata": {},
   "outputs": [
    {
     "data": {
      "text/plain": [
       "capacity{(LiI, net, t0): [0[LiI, net, t0], 2000[LiI, net, t0]]}"
      ]
     },
     "execution_count": 25,
     "metadata": {},
     "output_type": "execute_result"
    }
   ],
   "source": [
    "s.LiI.capacity"
   ]
  },
  {
   "cell_type": "code",
   "execution_count": 24,
   "metadata": {},
   "outputs": [
    {
     "data": {
      "text/plain": [
       "capacity{(LiI, net, t0): [0[LiI, net, t0], 2000[LiI, net, t0]]}"
      ]
     },
     "execution_count": 24,
     "metadata": {},
     "output_type": "execute_result"
    }
   ],
   "source": [
    "getattr(s.LiI, 'capacity')"
   ]
  },
  {
   "cell_type": "code",
   "execution_count": 35,
   "metadata": {},
   "outputs": [
    {
     "data": {
      "text/plain": [
       "['has',\n",
       " 'needs',\n",
       " 'spend',\n",
       " 'earn',\n",
       " 'emit',\n",
       " 'use',\n",
       " 'ship',\n",
       " 'buy',\n",
       " 'sell',\n",
       " 'capacity',\n",
       " 'produce',\n",
       " 'store',\n",
       " 'transport']"
      ]
     },
     "execution_count": 35,
     "metadata": {},
     "output_type": "execute_result"
    }
   ],
   "source": [
    "s.attr.bounds()"
   ]
  },
  {
   "cell_type": "code",
   "execution_count": 37,
   "metadata": {},
   "outputs": [],
   "source": [
    "from energiapy.core.aliases.is_input import IsBoundInput"
   ]
  },
  {
   "cell_type": "code",
   "execution_count": 38,
   "metadata": {},
   "outputs": [
    {
     "data": {
      "text/plain": [
       "typing.Union[float, int, pandas.core.frame.DataFrame, typing.Tuple[typing.Union[float, int, pandas.core.frame.DataFrame], typing.Union[float, int, pandas.core.frame.DataFrame]], energiapy.parameters.values.theta.Theta, typing.Literal[True], energiapy.parameters.values.m.M, typing.List[typing.Union[float, int, pandas.core.frame.DataFrame, typing.Tuple[typing.Union[float, int, pandas.core.frame.DataFrame], typing.Union[float, int, pandas.core.frame.DataFrame]], energiapy.parameters.values.theta.Theta, typing.Literal[True], energiapy.parameters.values.m.M]], typing.Dict[energiapy.components.temporal.scale.Scale, typing.Union[float, int, pandas.core.frame.DataFrame, typing.Tuple[typing.Union[float, int, pandas.core.frame.DataFrame], typing.Union[float, int, pandas.core.frame.DataFrame]], energiapy.parameters.values.theta.Theta, typing.Literal[True], energiapy.parameters.values.m.M, typing.List[typing.Union[float, int, pandas.core.frame.DataFrame, typing.Tuple[typing.Union[float, int, pandas.core.frame.DataFrame], typing.Union[float, int, pandas.core.frame.DataFrame]], energiapy.parameters.values.theta.Theta, typing.Literal[True], energiapy.parameters.values.m.M]]]], typing.Dict[typing.Union[energiapy.components.spatial.linkage.Linkage, energiapy.components.spatial.location.Location], typing.Union[float, int, pandas.core.frame.DataFrame, typing.Tuple[typing.Union[float, int, pandas.core.frame.DataFrame], typing.Union[float, int, pandas.core.frame.DataFrame]], energiapy.parameters.values.theta.Theta, typing.Literal[True], energiapy.parameters.values.m.M, typing.List[typing.Union[float, int, pandas.core.frame.DataFrame, typing.Tuple[typing.Union[float, int, pandas.core.frame.DataFrame], typing.Union[float, int, pandas.core.frame.DataFrame]], energiapy.parameters.values.theta.Theta, typing.Literal[True], energiapy.parameters.values.m.M]]]], typing.Dict[typing.Union[energiapy.components.spatial.linkage.Linkage, energiapy.components.spatial.location.Location], typing.Dict[energiapy.components.temporal.scale.Scale, typing.Union[float, int, pandas.core.frame.DataFrame, typing.Tuple[typing.Union[float, int, pandas.core.frame.DataFrame], typing.Union[float, int, pandas.core.frame.DataFrame]], energiapy.parameters.values.theta.Theta, typing.Literal[True], energiapy.parameters.values.m.M, typing.List[typing.Union[float, int, pandas.core.frame.DataFrame, typing.Tuple[typing.Union[float, int, pandas.core.frame.DataFrame], typing.Union[float, int, pandas.core.frame.DataFrame]], energiapy.parameters.values.theta.Theta, typing.Literal[True], energiapy.parameters.values.m.M]]]]]]"
      ]
     },
     "execution_count": 38,
     "metadata": {},
     "output_type": "execute_result"
    }
   ],
   "source": [
    "IsBoundInput"
   ]
  },
  {
   "cell_type": "code",
   "execution_count": 36,
   "metadata": {},
   "outputs": [
    {
     "data": {
      "text/plain": [
       "['capex',\n",
       " 'opex',\n",
       " 'cost_use',\n",
       " 'price_buy',\n",
       " 'price_sell',\n",
       " 'credit',\n",
       " 'penalty',\n",
       " 'emission_setup',\n",
       " 'emission_use',\n",
       " 'emission_buy',\n",
       " 'emission_sell',\n",
       " 'emission_loss',\n",
       " 'emission_use_land',\n",
       " 'emission_use_material',\n",
       " 'cost_use_land',\n",
       " 'cost_use_material',\n",
       " 'use_land',\n",
       " 'use_material',\n",
       " 'loss_transit',\n",
       " 'loss_storage']"
      ]
     },
     "execution_count": 36,
     "metadata": {},
     "output_type": "execute_result"
    }
   ],
   "source": [
    "s.attr.exacts()"
   ]
  },
  {
   "cell_type": "code",
   "execution_count": 30,
   "metadata": {},
   "outputs": [
    {
     "data": {
      "text/plain": [
       "{'lnd_def': lnd_def,\n",
       " 'gwp': gwp,\n",
       " 'ap': ap,\n",
       " 'epm': epm,\n",
       " 'epf': epf,\n",
       " 'ept': ept,\n",
       " 'pocp': pocp,\n",
       " 'odp': odp,\n",
       " 'adpmn': adpmn,\n",
       " 'adpmt': adpmt,\n",
       " 'adpf': adpf,\n",
       " 'wdp': wdp,\n",
       " 'dm': dm,\n",
       " 'market': market,\n",
       " 'consumer': consumer,\n",
       " 'earth': earth,\n",
       " 'hor': hor,\n",
       " 't0': t0,\n",
       " 't1': t1,\n",
       " 't2': t2,\n",
       " 'net': net,\n",
       " 'madgaon': madgaon,\n",
       " 'ponje': ponje,\n",
       " 'cacoda': cacoda,\n",
       " 'alink': alink,\n",
       " 'alink_': alink_,\n",
       " 'blink': blink,\n",
       " 'clink': clink,\n",
       " 'clink_': clink_,\n",
       " 'dlink': dlink,\n",
       " 'csh': csh,\n",
       " 'H2': H2,\n",
       " 'Solar': Solar,\n",
       " 'Wind': Wind,\n",
       " 'Power': Power,\n",
       " 'Uranium': Uranium,\n",
       " 'H2O': H2O,\n",
       " 'CH4': CH4,\n",
       " 'CO2': CO2,\n",
       " 'CO2_Vent': CO2_Vent,\n",
       " 'O2': O2,\n",
       " 'CO2_DAC': CO2_DAC,\n",
       " 'LiR': LiR,\n",
       " 'WF': WF,\n",
       " 'PV': PV,\n",
       " 'SMRH': SMRH,\n",
       " 'NGCC': NGCC,\n",
       " 'SMR': SMR,\n",
       " 'H2FC': H2FC,\n",
       " 'DAC': DAC,\n",
       " 'ASMR': ASMR,\n",
       " 'AWE': AWE,\n",
       " 'LiI': LiI,\n",
       " 'LiI_Power': LiI_Power,\n",
       " 'LiI_in': LiI_in,\n",
       " 'LiI_out': LiI_out,\n",
       " 'LiI2': LiI2,\n",
       " 'LiI2_Power': LiI2_Power,\n",
       " 'LiI2_in': LiI2_in,\n",
       " 'LiI2_out': LiI2_out,\n",
       " 'H2Stg': H2Stg,\n",
       " 'H2Stg_H2': H2Stg_H2,\n",
       " 'H2Stg_in': H2Stg_in,\n",
       " 'H2Stg_out': H2Stg_out,\n",
       " 'train': train}"
      ]
     },
     "execution_count": 30,
     "metadata": {},
     "output_type": "execute_result"
    }
   ],
   "source": [
    "s.components"
   ]
  },
  {
   "cell_type": "code",
   "execution_count": 23,
   "metadata": {},
   "outputs": [
    {
     "name": "stdout",
     "output_type": "stream",
     "text": [
      "making new at capacity[train, net, t0] (train, net, t0) train\n",
      "making new at capacity[train, net, t0] (train, net, t0) train\n"
     ]
    },
    {
     "ename": "CacodcarError",
     "evalue": "use^setup[lnd_def, train, cacoda, t0]:['lnd', 'trn', 'loc', 'scl'] not in [['lnd', 'trn', 'lnk', 'scl'], ['lnd', 'trn', 'lnk', 'scl', 'mde'], ['lnd', 'trn', 'ntw', 'scl'], ['lnd', 'trn', 'ntw', 'scl', 'mde'], ['lnd', 'lnk', 'scl'], ['lnd', 'lnk', 'scl', 'mde'], ['lnd', 'ntw', 'scl'], ['lnd', 'ntw', 'scl', 'mde'], ['mat', 'trn', 'lnk', 'scl'], ['mat', 'trn', 'lnk', 'scl', 'mde'], ['mat', 'trn', 'ntw', 'scl'], ['mat', 'trn', 'ntw', 'scl', 'mde'], ['mat', 'lnk', 'scl'], ['mat', 'lnk', 'scl', 'mde'], ['mat', 'ntw', 'scl'], ['mat', 'ntw', 'scl', 'mde'], ['ply', 'lnd', 'trn', 'lnk', 'scl'], ['ply', 'lnd', 'trn', 'lnk', 'scl', 'mde'], ['ply', 'lnd', 'trn', 'ntw', 'scl'], ['ply', 'lnd', 'trn', 'ntw', 'scl', 'mde'], ['ply', 'lnd', 'lnk', 'scl'], ['ply', 'lnd', 'lnk', 'scl', 'mde'], ['ply', 'lnd', 'ntw', 'scl'], ['ply', 'lnd', 'ntw', 'scl', 'mde'], ['ply', 'mat', 'trn', 'lnk', 'scl'], ['ply', 'mat', 'trn', 'lnk', 'scl', 'mde'], ['ply', 'mat', 'trn', 'ntw', 'scl'], ['ply', 'mat', 'trn', 'ntw', 'scl', 'mde'], ['ply', 'mat', 'lnk', 'scl'], ['ply', 'mat', 'lnk', 'scl', 'mde'], ['ply', 'mat', 'ntw', 'scl'], ['ply', 'mat', 'ntw', 'scl', 'mde']]\n This could be a developer error\n raise an issue on github if you think this is a bug\n or contact cacodcar@tamu.edu\n",
     "output_type": "error",
     "traceback": [
      "\u001b[1;31m---------------------------------------------------------------------------\u001b[0m",
      "\u001b[1;31mCacodcarError\u001b[0m                             Traceback (most recent call last)",
      "Cell \u001b[1;32mIn[23], line 1\u001b[0m\n\u001b[1;32m----> 1\u001b[0m \u001b[43ms\u001b[49m\u001b[38;5;241;43m.\u001b[39;49m\u001b[43mtrain\u001b[49m \u001b[38;5;241m=\u001b[39m Transit(\n\u001b[0;32m      2\u001b[0m     freight\u001b[38;5;241m=\u001b[39ms\u001b[38;5;241m.\u001b[39mH2,\n\u001b[0;32m      3\u001b[0m     ship\u001b[38;5;241m=\u001b[39m{s\u001b[38;5;241m.\u001b[39mH2: [\u001b[38;5;241m300\u001b[39m]},\n\u001b[0;32m      4\u001b[0m     capacity\u001b[38;5;241m=\u001b[39m[\u001b[38;5;241m5\u001b[39m, \u001b[38;5;241m400\u001b[39m],\n\u001b[0;32m      5\u001b[0m     use_land\u001b[38;5;241m=\u001b[39m\u001b[38;5;241m20\u001b[39m,\n\u001b[0;32m      6\u001b[0m     emission_setup\u001b[38;5;241m=\u001b[39m{s\u001b[38;5;241m.\u001b[39modp: \u001b[38;5;241m0.1\u001b[39m},\n\u001b[0;32m      7\u001b[0m     capex\u001b[38;5;241m=\u001b[39m{s\u001b[38;5;241m.\u001b[39malink: \u001b[38;5;241m200\u001b[39m, s\u001b[38;5;241m.\u001b[39mblink: \u001b[38;5;241m300\u001b[39m, s\u001b[38;5;241m.\u001b[39mclink: \u001b[38;5;241m400\u001b[39m},\n\u001b[0;32m      8\u001b[0m     opex\u001b[38;5;241m=\u001b[39m\u001b[38;5;241m100\u001b[39m,\n\u001b[0;32m      9\u001b[0m     label\u001b[38;5;241m=\u001b[39m\u001b[38;5;124m'\u001b[39m\u001b[38;5;124mTrain\u001b[39m\u001b[38;5;124m'\u001b[39m,\n\u001b[0;32m     10\u001b[0m     basis\u001b[38;5;241m=\u001b[39m\u001b[38;5;124m'\u001b[39m\u001b[38;5;124mpassengers\u001b[39m\u001b[38;5;124m'\u001b[39m,\n\u001b[0;32m     11\u001b[0m     linkages\u001b[38;5;241m=\u001b[39m[s\u001b[38;5;241m.\u001b[39malink],\n\u001b[0;32m     12\u001b[0m )\n",
      "File \u001b[1;32mc:\\Users\\cacodcar\\energiapy\\src\\energiapy\\model\\scenario.py:154\u001b[0m, in \u001b[0;36mScenario.__setattr__\u001b[1;34m(self, name, value)\u001b[0m\n\u001b[0;32m    149\u001b[0m         \u001b[38;5;28mself\u001b[39m\u001b[38;5;241m.\u001b[39mhandle_unique_cmp(cmp\u001b[38;5;241m=\u001b[39m\u001b[38;5;124m'\u001b[39m\u001b[38;5;124mland\u001b[39m\u001b[38;5;124m'\u001b[39m, component\u001b[38;5;241m=\u001b[39mvalue)\n\u001b[0;32m    151\u001b[0m     \u001b[38;5;66;03m# All defined components have constraints\u001b[39;00m\n\u001b[0;32m    152\u001b[0m     \u001b[38;5;66;03m# The data is handled first and made into internal formats and added to the Data Model\u001b[39;00m\n\u001b[0;32m    153\u001b[0m     \u001b[38;5;66;03m# The Program Model is then generated using information from the Data Model\u001b[39;00m\n\u001b[1;32m--> 154\u001b[0m     \u001b[38;5;28;43mself\u001b[39;49m\u001b[38;5;241;43m.\u001b[39;49m\u001b[43mupdate_model\u001b[49m\u001b[43m(\u001b[49m\u001b[43mname\u001b[49m\u001b[38;5;241;43m=\u001b[39;49m\u001b[43mname\u001b[49m\u001b[43m,\u001b[49m\u001b[43m \u001b[49m\u001b[43mcomponent\u001b[49m\u001b[38;5;241;43m=\u001b[39;49m\u001b[43mvalue\u001b[49m\u001b[43m)\u001b[49m\n\u001b[0;32m    156\u001b[0m \u001b[38;5;66;03m# Horizon, Network, Linkages and Storage give birth to new components\u001b[39;00m\n\u001b[0;32m    157\u001b[0m \u001b[38;5;28;01mif\u001b[39;00m \u001b[38;5;28misinstance\u001b[39m(value, Horizon):\n",
      "File \u001b[1;32mc:\\Users\\cacodcar\\energiapy\\src\\energiapy\\model\\_update.py:150\u001b[0m, in \u001b[0;36m_Update.update_model\u001b[1;34m(self, name, component)\u001b[0m\n\u001b[0;32m    145\u001b[0m \u001b[38;5;28msetattr\u001b[39m(\u001b[38;5;28mself\u001b[39m\u001b[38;5;241m.\u001b[39mdata, name, datablock)\n\u001b[0;32m    147\u001b[0m \u001b[38;5;66;03m# The DataBlock is then added to the ProgramBlock\u001b[39;00m\n\u001b[0;32m    148\u001b[0m \u001b[38;5;66;03m# The disposition and type of value is used to generate Program elements:\u001b[39;00m\n\u001b[0;32m    149\u001b[0m \u001b[38;5;66;03m# Parameters, Variables, Constraints, and Objectives\u001b[39;00m\n\u001b[1;32m--> 150\u001b[0m \u001b[38;5;28;43msetattr\u001b[39;49m\u001b[43m(\u001b[49m\u001b[43mprogramblock\u001b[49m\u001b[43m,\u001b[49m\u001b[43m \u001b[49m\u001b[43mname\u001b[49m\u001b[43m,\u001b[49m\u001b[43m \u001b[49m\u001b[43mdatablock\u001b[49m\u001b[43m)\u001b[49m\n\u001b[0;32m    152\u001b[0m \u001b[38;5;66;03m# update all the elements related the attributes in the Task Modeling Block\u001b[39;00m\n\u001b[0;32m    153\u001b[0m \u001b[38;5;28;01mfor\u001b[39;00m attr, cons \u001b[38;5;129;01min\u001b[39;00m programblock\u001b[38;5;241m.\u001b[39mattr_constraints\u001b[38;5;241m.\u001b[39mitems():\n",
      "File \u001b[1;32mc:\\Users\\cacodcar\\energiapy\\src\\energiapy\\blocks\\program.py:57\u001b[0m, in \u001b[0;36mProgramBlock.__setattr__\u001b[1;34m(self, name, datablock)\u001b[0m\n\u001b[0;32m     55\u001b[0m                     \u001b[38;5;28mself\u001b[39m\u001b[38;5;241m.\u001b[39mbirth_elements(d, attr)\n\u001b[0;32m     56\u001b[0m             \u001b[38;5;28;01melse\u001b[39;00m:\n\u001b[1;32m---> 57\u001b[0m                 \u001b[38;5;28;43mself\u001b[39;49m\u001b[38;5;241;43m.\u001b[39;49m\u001b[43mbirth_elements\u001b[49m\u001b[43m(\u001b[49m\u001b[43mdata\u001b[49m\u001b[43m,\u001b[49m\u001b[43m \u001b[49m\u001b[43mattr\u001b[49m\u001b[43m)\u001b[49m\n\u001b[0;32m     59\u001b[0m \u001b[38;5;28msuper\u001b[39m()\u001b[38;5;241m.\u001b[39m\u001b[38;5;21m__setattr__\u001b[39m(name, datablock)\n",
      "File \u001b[1;32mc:\\Users\\cacodcar\\energiapy\\src\\energiapy\\blocks\\program.py:90\u001b[0m, in \u001b[0;36mProgramBlock.birth_elements\u001b[1;34m(self, value, attr)\u001b[0m\n\u001b[0;32m     87\u001b[0m     var \u001b[38;5;241m=\u001b[39m \u001b[38;5;28mgetattr\u001b[39m(\u001b[38;5;28mself\u001b[39m\u001b[38;5;241m.\u001b[39mcomponent\u001b[38;5;241m.\u001b[39mtaskmaster, attr)\u001b[38;5;241m.\u001b[39mvar\n\u001b[0;32m     89\u001b[0m \u001b[38;5;66;03m# This fishes for an existing variable, or creates a new one\u001b[39;00m\n\u001b[1;32m---> 90\u001b[0m variable \u001b[38;5;241m=\u001b[39m \u001b[38;5;28;43mself\u001b[39;49m\u001b[38;5;241;43m.\u001b[39;49m\u001b[43mcomponent\u001b[49m\u001b[38;5;241;43m.\u001b[39;49m\u001b[43mprogram_full\u001b[49m\u001b[38;5;241;43m.\u001b[39;49m\u001b[43mfish_var\u001b[49m\u001b[43m(\u001b[49m\n\u001b[0;32m     91\u001b[0m \u001b[43m    \u001b[49m\u001b[43mvar\u001b[49m\u001b[38;5;241;43m=\u001b[39;49m\u001b[43mvar\u001b[49m\u001b[43m,\u001b[49m\u001b[43m \u001b[49m\u001b[43mdisposition\u001b[49m\u001b[38;5;241;43m=\u001b[39;49m\u001b[43mvalue\u001b[49m\u001b[38;5;241;43m.\u001b[39;49m\u001b[43mdisposition\u001b[49m\u001b[43m,\u001b[49m\u001b[43m \u001b[49m\u001b[43mcomponent\u001b[49m\u001b[38;5;241;43m=\u001b[39;49m\u001b[38;5;28;43mself\u001b[39;49m\u001b[38;5;241;43m.\u001b[39;49m\u001b[43mcomponent\u001b[49m\n\u001b[0;32m     92\u001b[0m \u001b[43m\u001b[49m\u001b[43m)\u001b[49m\n\u001b[0;32m     94\u001b[0m \u001b[38;5;66;03m# Update the Registrar with the disposition for the Variable\u001b[39;00m\n\u001b[0;32m     95\u001b[0m \u001b[38;5;28mself\u001b[39m\u001b[38;5;241m.\u001b[39mcomponent\u001b[38;5;241m.\u001b[39mregistrar\u001b[38;5;241m.\u001b[39madd(var, value\u001b[38;5;241m.\u001b[39mdisposition)\n",
      "File \u001b[1;32mc:\\Users\\cacodcar\\energiapy\\src\\energiapy\\blocks\\program.py:346\u001b[0m, in \u001b[0;36mProgram.fish_var\u001b[1;34m(self, var, disposition, component)\u001b[0m\n\u001b[0;32m    344\u001b[0m \u001b[38;5;66;03m# If no catch, make a new variable\u001b[39;00m\n\u001b[0;32m    345\u001b[0m \u001b[38;5;28;01mif\u001b[39;00m n_catch \u001b[38;5;241m==\u001b[39m \u001b[38;5;241m0\u001b[39m:\n\u001b[1;32m--> 346\u001b[0m     v \u001b[38;5;241m=\u001b[39m \u001b[43mvar\u001b[49m\u001b[43m(\u001b[49m\u001b[43mdisposition\u001b[49m\u001b[38;5;241;43m=\u001b[39;49m\u001b[43mdisposition\u001b[49m\u001b[43m,\u001b[49m\u001b[43m \u001b[49m\u001b[43mcomponent\u001b[49m\u001b[38;5;241;43m=\u001b[39;49m\u001b[43mcomponent\u001b[49m\u001b[43m)\u001b[49m\n\u001b[0;32m    348\u001b[0m     \u001b[38;5;28mprint\u001b[39m(\u001b[38;5;124mf\u001b[39m\u001b[38;5;124m'\u001b[39m\u001b[38;5;124mmaking new at \u001b[39m\u001b[38;5;132;01m{\u001b[39;00mv\u001b[38;5;132;01m}\u001b[39;00m\u001b[38;5;124m \u001b[39m\u001b[38;5;132;01m{\u001b[39;00mdisposition\u001b[38;5;132;01m}\u001b[39;00m\u001b[38;5;124m \u001b[39m\u001b[38;5;132;01m{\u001b[39;00mcomponent\u001b[38;5;132;01m}\u001b[39;00m\u001b[38;5;124m'\u001b[39m)\n\u001b[0;32m    349\u001b[0m     \u001b[38;5;28;01mreturn\u001b[39;00m v\n",
      "File \u001b[1;32m<string>:5\u001b[0m, in \u001b[0;36m__init__\u001b[1;34m(self, disposition, component)\u001b[0m\n",
      "File \u001b[1;32mc:\\Users\\cacodcar\\energiapy\\src\\energiapy\\variables\\use.py:58\u001b[0m, in \u001b[0;36mUseSetUp.__post_init__\u001b[1;34m(self)\u001b[0m\n\u001b[0;32m     57\u001b[0m \u001b[38;5;28;01mdef\u001b[39;00m \u001b[38;5;21m__post_init__\u001b[39m(\u001b[38;5;28mself\u001b[39m):\n\u001b[1;32m---> 58\u001b[0m     \u001b[43m_ExactVar\u001b[49m\u001b[38;5;241;43m.\u001b[39;49m\u001b[43m__post_init__\u001b[49m\u001b[43m(\u001b[49m\u001b[38;5;28;43mself\u001b[39;49m\u001b[43m)\u001b[49m\n",
      "File \u001b[1;32mc:\\Users\\cacodcar\\energiapy\\src\\energiapy\\variables\\_variable.py:85\u001b[0m, in \u001b[0;36m_ExactVar.__post_init__\u001b[1;34m(self)\u001b[0m\n\u001b[0;32m     84\u001b[0m \u001b[38;5;28;01mdef\u001b[39;00m \u001b[38;5;21m__post_init__\u001b[39m(\u001b[38;5;28mself\u001b[39m):\n\u001b[1;32m---> 85\u001b[0m     \u001b[43m_Variable\u001b[49m\u001b[38;5;241;43m.\u001b[39;49m\u001b[43m__post_init__\u001b[49m\u001b[43m(\u001b[49m\u001b[38;5;28;43mself\u001b[39;49m\u001b[43m)\u001b[49m\n",
      "File \u001b[1;32mc:\\Users\\cacodcar\\energiapy\\src\\energiapy\\variables\\_variable.py:32\u001b[0m, in \u001b[0;36m_Variable.__post_init__\u001b[1;34m(self)\u001b[0m\n\u001b[0;32m     29\u001b[0m \u001b[38;5;28mself\u001b[39m\u001b[38;5;241m.\u001b[39mname \u001b[38;5;241m=\u001b[39m \u001b[38;5;28mstr\u001b[39m(\u001b[38;5;28mself\u001b[39m\u001b[38;5;241m.\u001b[39msym)\n\u001b[0;32m     31\u001b[0m \u001b[38;5;28;01mif\u001b[39;00m \u001b[38;5;129;01mnot\u001b[39;00m \u001b[38;5;28mself\u001b[39m\u001b[38;5;241m.\u001b[39mdisposition\u001b[38;5;241m.\u001b[39mstructure() \u001b[38;5;129;01min\u001b[39;00m \u001b[38;5;28mself\u001b[39m\u001b[38;5;241m.\u001b[39mstructures(\u001b[38;5;28mself\u001b[39m\u001b[38;5;241m.\u001b[39mcomponent):\n\u001b[1;32m---> 32\u001b[0m     \u001b[38;5;28;01mraise\u001b[39;00m CacodcarError(\n\u001b[0;32m     33\u001b[0m         \u001b[38;5;124mf\u001b[39m\u001b[38;5;124m'\u001b[39m\u001b[38;5;132;01m{\u001b[39;00m\u001b[38;5;28mself\u001b[39m\u001b[38;5;132;01m}\u001b[39;00m\u001b[38;5;124m:\u001b[39m\u001b[38;5;132;01m{\u001b[39;00m\u001b[38;5;28mself\u001b[39m\u001b[38;5;241m.\u001b[39mdisposition\u001b[38;5;241m.\u001b[39mstructure()\u001b[38;5;132;01m}\u001b[39;00m\u001b[38;5;124m not in \u001b[39m\u001b[38;5;132;01m{\u001b[39;00m\u001b[38;5;28mself\u001b[39m\u001b[38;5;241m.\u001b[39mstructures(\u001b[38;5;28mself\u001b[39m\u001b[38;5;241m.\u001b[39mcomponent)\u001b[38;5;132;01m}\u001b[39;00m\u001b[38;5;124m'\u001b[39m\n\u001b[0;32m     34\u001b[0m     )\n",
      "\u001b[1;31mCacodcarError\u001b[0m: use^setup[lnd_def, train, cacoda, t0]:['lnd', 'trn', 'loc', 'scl'] not in [['lnd', 'trn', 'lnk', 'scl'], ['lnd', 'trn', 'lnk', 'scl', 'mde'], ['lnd', 'trn', 'ntw', 'scl'], ['lnd', 'trn', 'ntw', 'scl', 'mde'], ['lnd', 'lnk', 'scl'], ['lnd', 'lnk', 'scl', 'mde'], ['lnd', 'ntw', 'scl'], ['lnd', 'ntw', 'scl', 'mde'], ['mat', 'trn', 'lnk', 'scl'], ['mat', 'trn', 'lnk', 'scl', 'mde'], ['mat', 'trn', 'ntw', 'scl'], ['mat', 'trn', 'ntw', 'scl', 'mde'], ['mat', 'lnk', 'scl'], ['mat', 'lnk', 'scl', 'mde'], ['mat', 'ntw', 'scl'], ['mat', 'ntw', 'scl', 'mde'], ['ply', 'lnd', 'trn', 'lnk', 'scl'], ['ply', 'lnd', 'trn', 'lnk', 'scl', 'mde'], ['ply', 'lnd', 'trn', 'ntw', 'scl'], ['ply', 'lnd', 'trn', 'ntw', 'scl', 'mde'], ['ply', 'lnd', 'lnk', 'scl'], ['ply', 'lnd', 'lnk', 'scl', 'mde'], ['ply', 'lnd', 'ntw', 'scl'], ['ply', 'lnd', 'ntw', 'scl', 'mde'], ['ply', 'mat', 'trn', 'lnk', 'scl'], ['ply', 'mat', 'trn', 'lnk', 'scl', 'mde'], ['ply', 'mat', 'trn', 'ntw', 'scl'], ['ply', 'mat', 'trn', 'ntw', 'scl', 'mde'], ['ply', 'mat', 'lnk', 'scl'], ['ply', 'mat', 'lnk', 'scl', 'mde'], ['ply', 'mat', 'ntw', 'scl'], ['ply', 'mat', 'ntw', 'scl', 'mde']]\n This could be a developer error\n raise an issue on github if you think this is a bug\n or contact cacodcar@tamu.edu\n"
     ]
    }
   ],
   "source": [
    "s.train = Transit(\n",
    "    freight=s.H2,\n",
    "    ship={s.H2: [300]},\n",
    "    capacity=[5, 400],\n",
    "    use_land=20,\n",
    "    emission_setup={s.odp: 0.1},\n",
    "    capex={s.alink: 200, s.blink: 300, s.clink: 400},\n",
    "    opex=100,\n",
    "    label='Train',\n",
    "    basis='passengers',\n",
    "    linkages=[s.alink],\n",
    ")"
   ]
  },
  {
   "cell_type": "code",
   "execution_count": null,
   "metadata": {},
   "outputs": [],
   "source": []
  },
  {
   "cell_type": "code",
   "execution_count": null,
   "metadata": {},
   "outputs": [
    {
     "data": {
      "text/latex": [
       "$\\displaystyle {spend}_{csh,madgaon,t_{0}} \\geq 0$"
      ],
      "text/plain": [
       "<IPython.core.display.Math object>"
      ]
     },
     "metadata": {},
     "output_type": "display_data"
    },
    {
     "data": {
      "text/latex": [
       "$\\displaystyle {spend}_{csh,madgaon,t_{0}} \\leq M$"
      ],
      "text/plain": [
       "<IPython.core.display.Math object>"
      ]
     },
     "metadata": {},
     "output_type": "display_data"
    },
    {
     "data": {
      "text/latex": [
       "$\\displaystyle {spend}_{csh,ponje,t_{1}} = {θ}_{csh,ponje,t_{1}}$"
      ],
      "text/plain": [
       "<IPython.core.display.Math object>"
      ]
     },
     "metadata": {},
     "output_type": "display_data"
    },
    {
     "data": {
      "text/latex": [
       "$\\displaystyle {spend}_{csh,cacoda,t_{1}} = {DtSt}_{csh,cacoda,t_{1}}$"
      ],
      "text/plain": [
       "<IPython.core.display.Math object>"
      ]
     },
     "metadata": {},
     "output_type": "display_data"
    },
    {
     "data": {
      "text/latex": [
       "$\\displaystyle {spend}_{csh,net,t_{2}} \\geq 5$"
      ],
      "text/plain": [
       "<IPython.core.display.Math object>"
      ]
     },
     "metadata": {},
     "output_type": "display_data"
    },
    {
     "data": {
      "text/latex": [
       "$\\displaystyle {spend}_{csh,net,t_{2}} \\leq 7$"
      ],
      "text/plain": [
       "<IPython.core.display.Math object>"
      ]
     },
     "metadata": {},
     "output_type": "display_data"
    },
    {
     "data": {
      "text/latex": [
       "$\\displaystyle {exp^{sell}}_{csh,H_{2},cacoda,t_{0}} = {sell}_{H_{2},cacoda,t_{0}} \\cdot 300$"
      ],
      "text/plain": [
       "<IPython.core.display.Math object>"
      ]
     },
     "metadata": {},
     "output_type": "display_data"
    },
    {
     "data": {
      "text/latex": [
       "$\\displaystyle {exp^{sell}}_{csh,H_{2},madgaon,t_{0}} = {sell}_{H_{2},madgaon,t_{0}} \\cdot 0$"
      ],
      "text/plain": [
       "<IPython.core.display.Math object>"
      ]
     },
     "metadata": {},
     "output_type": "display_data"
    },
    {
     "data": {
      "text/latex": [
       "$\\displaystyle {exp^{sell}}_{csh,H_{2},madgaon,t_{0}} = {sell}_{H_{2},madgaon,t_{0}} \\cdot M$"
      ],
      "text/plain": [
       "<IPython.core.display.Math object>"
      ]
     },
     "metadata": {},
     "output_type": "display_data"
    },
    {
     "data": {
      "text/latex": [
       "$\\displaystyle {exp^{sell}}_{csh,H_{2},ponje,t_{2}} = {sell}_{H_{2},ponje,t_{2}} \\cdot {θ}_{csh,H_{2},ponje,t_{2}}$"
      ],
      "text/plain": [
       "<IPython.core.display.Math object>"
      ]
     },
     "metadata": {},
     "output_type": "display_data"
    },
    {
     "data": {
      "text/latex": [
       "$\\displaystyle {buy}_{Solar,net,t_{0}} \\geq 0$"
      ],
      "text/plain": [
       "<IPython.core.display.Math object>"
      ]
     },
     "metadata": {},
     "output_type": "display_data"
    },
    {
     "data": {
      "text/latex": [
       "$\\displaystyle {buy}_{Solar,net,t_{0}} \\leq M$"
      ],
      "text/plain": [
       "<IPython.core.display.Math object>"
      ]
     },
     "metadata": {},
     "output_type": "display_data"
    },
    {
     "data": {
      "text/latex": [
       "$\\displaystyle {buy}_{Wind,net,t_{1}} = {DtSt}_{Wind,net,t_{1}}$"
      ],
      "text/plain": [
       "<IPython.core.display.Math object>"
      ]
     },
     "metadata": {},
     "output_type": "display_data"
    },
    {
     "data": {
      "text/latex": [
       "$\\displaystyle {buy}_{Power,net,t_{1}} \\geq 0$"
      ],
      "text/plain": [
       "<IPython.core.display.Math object>"
      ]
     },
     "metadata": {},
     "output_type": "display_data"
    },
    {
     "data": {
      "text/latex": [
       "$\\displaystyle {buy}_{Power,net,t_{1}} \\leq {DtSt^{max}}_{Power,net,t_{1}}$"
      ],
      "text/plain": [
       "<IPython.core.display.Math object>"
      ]
     },
     "metadata": {},
     "output_type": "display_data"
    },
    {
     "data": {
      "text/latex": [
       "$\\displaystyle {buy}_{Uranium,net,t_{2}} = {DtSt}_{Uranium,net,t_{2}}$"
      ],
      "text/plain": [
       "<IPython.core.display.Math object>"
      ]
     },
     "metadata": {},
     "output_type": "display_data"
    },
    {
     "data": {
      "text/latex": [
       "$\\displaystyle {exp^{buy}}_{csh,Uranium,cacoda,t_{0}} = {buy}_{Uranium,cacoda,t_{0}} \\cdot 0.3416$"
      ],
      "text/plain": [
       "<IPython.core.display.Math object>"
      ]
     },
     "metadata": {},
     "output_type": "display_data"
    },
    {
     "data": {
      "text/latex": [
       "$\\displaystyle {exp^{buy}}_{csh,Uranium,madgaon,t_{0}} = {buy}_{Uranium,madgaon,t_{0}} \\cdot 0.3416$"
      ],
      "text/plain": [
       "<IPython.core.display.Math object>"
      ]
     },
     "metadata": {},
     "output_type": "display_data"
    },
    {
     "data": {
      "text/latex": [
       "$\\displaystyle {exp^{buy}}_{csh,Uranium,ponje,t_{0}} = {buy}_{Uranium,ponje,t_{0}} \\cdot 0.3416$"
      ],
      "text/plain": [
       "<IPython.core.display.Math object>"
      ]
     },
     "metadata": {},
     "output_type": "display_data"
    },
    {
     "data": {
      "text/latex": [
       "$\\displaystyle {buy}_{H2O,net,t_{0}} = {θ}_{H2O,net,t_{0}}$"
      ],
      "text/plain": [
       "<IPython.core.display.Math object>"
      ]
     },
     "metadata": {},
     "output_type": "display_data"
    },
    {
     "data": {
      "text/latex": [
       "$\\displaystyle {exp^{buy}}_{csh,H2O,cacoda,t_{2}} = {DtSt}_{csh,H2O,cacoda,t_{2}} \\cdot {buy}_{H2O,cacoda,t_{2}}$"
      ],
      "text/plain": [
       "<IPython.core.display.Math object>"
      ]
     },
     "metadata": {},
     "output_type": "display_data"
    },
    {
     "data": {
      "text/latex": [
       "$\\displaystyle {exp^{buy}}_{csh,H2O,madgaon,t_{2}} = {DtSt}_{csh,H2O,madgaon,t_{2}} \\cdot {buy}_{H2O,madgaon,t_{2}}$"
      ],
      "text/plain": [
       "<IPython.core.display.Math object>"
      ]
     },
     "metadata": {},
     "output_type": "display_data"
    },
    {
     "data": {
      "text/latex": [
       "$\\displaystyle {exp^{buy}}_{csh,H2O,ponje,t_{2}} = {DtSt}_{csh,H2O,ponje,t_{2}} \\cdot {buy}_{H2O,ponje,t_{2}}$"
      ],
      "text/plain": [
       "<IPython.core.display.Math object>"
      ]
     },
     "metadata": {},
     "output_type": "display_data"
    },
    {
     "data": {
      "text/latex": [
       "$\\displaystyle {buy}_{CH_{4},net,t_{0}} \\geq 20$"
      ],
      "text/plain": [
       "<IPython.core.display.Math object>"
      ]
     },
     "metadata": {},
     "output_type": "display_data"
    },
    {
     "data": {
      "text/latex": [
       "$\\displaystyle {buy}_{CH_{4},net,t_{0}} \\leq 40$"
      ],
      "text/plain": [
       "<IPython.core.display.Math object>"
      ]
     },
     "metadata": {},
     "output_type": "display_data"
    },
    {
     "data": {
      "text/latex": [
       "$\\displaystyle {exp^{buy}}_{csh,CH_{4},cacoda,t_{0}} = {buy}_{CH_{4},cacoda,t_{0}} \\cdot 20$"
      ],
      "text/plain": [
       "<IPython.core.display.Math object>"
      ]
     },
     "metadata": {},
     "output_type": "display_data"
    },
    {
     "data": {
      "text/latex": [
       "$\\displaystyle {exp^{buy}}_{csh,CH_{4},madgaon,t_{0}} = {buy}_{CH_{4},madgaon,t_{0}} \\cdot 20$"
      ],
      "text/plain": [
       "<IPython.core.display.Math object>"
      ]
     },
     "metadata": {},
     "output_type": "display_data"
    },
    {
     "data": {
      "text/latex": [
       "$\\displaystyle {exp^{buy}}_{csh,CH_{4},ponje,t_{0}} = {buy}_{CH_{4},ponje,t_{0}} \\cdot 20$"
      ],
      "text/plain": [
       "<IPython.core.display.Math object>"
      ]
     },
     "metadata": {},
     "output_type": "display_data"
    },
    {
     "data": {
      "text/latex": [
       "$\\displaystyle {exp^{sell}}_{csh,CO_{2 Vent},cacoda,t_{0}} = {sell}_{CO_{2 Vent},cacoda,t_{0}} \\cdot {θ}_{csh,CO_{2 Vent},cacoda,t_{0}}$"
      ],
      "text/plain": [
       "<IPython.core.display.Math object>"
      ]
     },
     "metadata": {},
     "output_type": "display_data"
    },
    {
     "data": {
      "text/latex": [
       "$\\displaystyle {exp^{sell}}_{csh,CO_{2 Vent},madgaon,t_{0}} = {sell}_{CO_{2 Vent},madgaon,t_{0}} \\cdot {θ}_{csh,CO_{2 Vent},madgaon,t_{0}}$"
      ],
      "text/plain": [
       "<IPython.core.display.Math object>"
      ]
     },
     "metadata": {},
     "output_type": "display_data"
    },
    {
     "data": {
      "text/latex": [
       "$\\displaystyle {exp^{sell}}_{csh,CO_{2 Vent},ponje,t_{0}} = {sell}_{CO_{2 Vent},ponje,t_{0}} \\cdot {θ}_{csh,CO_{2 Vent},ponje,t_{0}}$"
      ],
      "text/plain": [
       "<IPython.core.display.Math object>"
      ]
     },
     "metadata": {},
     "output_type": "display_data"
    },
    {
     "data": {
      "text/latex": [
       "$\\displaystyle {emit^{sell}}_{gwp,CO_{2 Vent},cacoda,t_{2}} = {DtSt}_{gwp,CO_{2 Vent},cacoda,t_{2}} \\cdot {sell}_{CO_{2 Vent},cacoda,t_{2}}$"
      ],
      "text/plain": [
       "<IPython.core.display.Math object>"
      ]
     },
     "metadata": {},
     "output_type": "display_data"
    },
    {
     "data": {
      "text/latex": [
       "$\\displaystyle {emit^{sell}}_{gwp,CO_{2 Vent},madgaon,t_{2}} = {DtSt}_{gwp,CO_{2 Vent},madgaon,t_{2}} \\cdot {sell}_{CO_{2 Vent},madgaon,t_{2}}$"
      ],
      "text/plain": [
       "<IPython.core.display.Math object>"
      ]
     },
     "metadata": {},
     "output_type": "display_data"
    },
    {
     "data": {
      "text/latex": [
       "$\\displaystyle {emit^{sell}}_{gwp,CO_{2 Vent},ponje,t_{2}} = {DtSt}_{gwp,CO_{2 Vent},ponje,t_{2}} \\cdot {sell}_{CO_{2 Vent},ponje,t_{2}}$"
      ],
      "text/plain": [
       "<IPython.core.display.Math object>"
      ]
     },
     "metadata": {},
     "output_type": "display_data"
    },
    {
     "data": {
      "text/latex": [
       "$\\displaystyle {sell}_{O_{2},net,t_{0}} \\geq 20$"
      ],
      "text/plain": [
       "<IPython.core.display.Math object>"
      ]
     },
     "metadata": {},
     "output_type": "display_data"
    },
    {
     "data": {
      "text/latex": [
       "$\\displaystyle {sell}_{O_{2},net,t_{0}} \\leq M$"
      ],
      "text/plain": [
       "<IPython.core.display.Math object>"
      ]
     },
     "metadata": {},
     "output_type": "display_data"
    },
    {
     "data": {
      "text/latex": [
       "$\\displaystyle {use}_{LiR,ponje,t_{0}} = 1.5$"
      ],
      "text/plain": [
       "<IPython.core.display.Math object>"
      ]
     },
     "metadata": {},
     "output_type": "display_data"
    },
    {
     "data": {
      "text/latex": [
       "$\\displaystyle {emit^{use}}_{gwp,LiR,cacoda,t_{0}} = {use}_{LiR,cacoda,t_{0}} \\cdot 1.484$"
      ],
      "text/plain": [
       "<IPython.core.display.Math object>"
      ]
     },
     "metadata": {},
     "output_type": "display_data"
    },
    {
     "data": {
      "text/latex": [
       "$\\displaystyle {emit^{use}}_{gwp,LiR,madgaon,t_{0}} = {use}_{LiR,madgaon,t_{0}} \\cdot 1.484$"
      ],
      "text/plain": [
       "<IPython.core.display.Math object>"
      ]
     },
     "metadata": {},
     "output_type": "display_data"
    },
    {
     "data": {
      "text/latex": [
       "$\\displaystyle {emit^{use}}_{gwp,LiR,ponje,t_{0}} = {use}_{LiR,ponje,t_{0}} \\cdot 1.484$"
      ],
      "text/plain": [
       "<IPython.core.display.Math object>"
      ]
     },
     "metadata": {},
     "output_type": "display_data"
    },
    {
     "data": {
      "text/latex": [
       "$\\displaystyle {capacity}_{WF,net,t_{0}} = 1000$"
      ],
      "text/plain": [
       "<IPython.core.display.Math object>"
      ]
     },
     "metadata": {},
     "output_type": "display_data"
    },
    {
     "data": {
      "text/latex": [
       "$\\displaystyle {operate}_{WF,net,t_{0}} \\geq {capacity}_{WF,net,t_{0}} \\cdot {θ^{min}}_{WF,net,t_{0}}$"
      ],
      "text/plain": [
       "<IPython.core.display.Math object>"
      ]
     },
     "metadata": {},
     "output_type": "display_data"
    },
    {
     "data": {
      "text/latex": [
       "$\\displaystyle {operate}_{WF,net,t_{0}} \\leq {capacity}_{WF,net,t_{0}} \\cdot {θ^{max}}_{WF,net,t_{0}}$"
      ],
      "text/plain": [
       "<IPython.core.display.Math object>"
      ]
     },
     "metadata": {},
     "output_type": "display_data"
    },
    {
     "data": {
      "text/latex": [
       "$\\displaystyle {use^{setup}}_{lnd_{def},WF,cacoda,t_{0}} = {capacity}_{WF,cacoda,t_{0}} \\cdot 30$"
      ],
      "text/plain": [
       "<IPython.core.display.Math object>"
      ]
     },
     "metadata": {},
     "output_type": "display_data"
    },
    {
     "data": {
      "text/latex": [
       "$\\displaystyle {use^{setup}}_{lnd_{def},WF,madgaon,t_{0}} = {capacity}_{WF,madgaon,t_{0}} \\cdot 30$"
      ],
      "text/plain": [
       "<IPython.core.display.Math object>"
      ]
     },
     "metadata": {},
     "output_type": "display_data"
    },
    {
     "data": {
      "text/latex": [
       "$\\displaystyle {use^{setup}}_{lnd_{def},WF,ponje,t_{0}} = {capacity}_{WF,ponje,t_{0}} \\cdot 30$"
      ],
      "text/plain": [
       "<IPython.core.display.Math object>"
      ]
     },
     "metadata": {},
     "output_type": "display_data"
    },
    {
     "data": {
      "text/latex": [
       "$\\displaystyle {use^{setup}}_{LiR,WF,cacoda,t_{0}} = {capacity}_{WF,cacoda,t_{0}} \\cdot 1.5$"
      ],
      "text/plain": [
       "<IPython.core.display.Math object>"
      ]
     },
     "metadata": {},
     "output_type": "display_data"
    },
    {
     "data": {
      "text/latex": [
       "$\\displaystyle {use^{setup}}_{LiR,WF,madgaon,t_{0}} = {capacity}_{WF,madgaon,t_{0}} \\cdot 1.5$"
      ],
      "text/plain": [
       "<IPython.core.display.Math object>"
      ]
     },
     "metadata": {},
     "output_type": "display_data"
    },
    {
     "data": {
      "text/latex": [
       "$\\displaystyle {use^{setup}}_{LiR,WF,ponje,t_{0}} = {capacity}_{WF,ponje,t_{0}} \\cdot 1.5$"
      ],
      "text/plain": [
       "<IPython.core.display.Math object>"
      ]
     },
     "metadata": {},
     "output_type": "display_data"
    },
    {
     "data": {
      "text/latex": [
       "$\\displaystyle {emit^{setup}}_{gwp,WF,cacoda,t_{0}} = {capacity}_{WF,cacoda,t_{0}} \\cdot 50$"
      ],
      "text/plain": [
       "<IPython.core.display.Math object>"
      ]
     },
     "metadata": {},
     "output_type": "display_data"
    },
    {
     "data": {
      "text/latex": [
       "$\\displaystyle {emit^{setup}}_{gwp,WF,madgaon,t_{0}} = {capacity}_{WF,madgaon,t_{0}} \\cdot 50$"
      ],
      "text/plain": [
       "<IPython.core.display.Math object>"
      ]
     },
     "metadata": {},
     "output_type": "display_data"
    },
    {
     "data": {
      "text/latex": [
       "$\\displaystyle {emit^{setup}}_{gwp,WF,ponje,t_{0}} = {capacity}_{WF,ponje,t_{0}} \\cdot 50$"
      ],
      "text/plain": [
       "<IPython.core.display.Math object>"
      ]
     },
     "metadata": {},
     "output_type": "display_data"
    },
    {
     "data": {
      "text/latex": [
       "$\\displaystyle {emit^{setup}}_{odp,WF,cacoda,t_{0}} = {capacity}_{WF,cacoda,t_{0}} \\cdot 2900$"
      ],
      "text/plain": [
       "<IPython.core.display.Math object>"
      ]
     },
     "metadata": {},
     "output_type": "display_data"
    },
    {
     "data": {
      "text/latex": [
       "$\\displaystyle {emit^{setup}}_{odp,WF,madgaon,t_{0}} = {capacity}_{WF,madgaon,t_{0}} \\cdot 2900$"
      ],
      "text/plain": [
       "<IPython.core.display.Math object>"
      ]
     },
     "metadata": {},
     "output_type": "display_data"
    },
    {
     "data": {
      "text/latex": [
       "$\\displaystyle {emit^{setup}}_{odp,WF,ponje,t_{0}} = {capacity}_{WF,ponje,t_{0}} \\cdot 2900$"
      ],
      "text/plain": [
       "<IPython.core.display.Math object>"
      ]
     },
     "metadata": {},
     "output_type": "display_data"
    },
    {
     "data": {
      "text/latex": [
       "$\\displaystyle {capex^{I}}_{csh,WF,madgaon,t_{1}} = 202233$"
      ],
      "text/plain": [
       "<IPython.core.display.Math object>"
      ]
     },
     "metadata": {},
     "output_type": "display_data"
    },
    {
     "data": {
      "text/latex": [
       "$\\displaystyle {capex}_{csh,WF,madgaon,t_{1}} = {capacity}_{WF,madgaon,t_{1}} \\cdot 1462000$"
      ],
      "text/plain": [
       "<IPython.core.display.Math object>"
      ]
     },
     "metadata": {},
     "output_type": "display_data"
    },
    {
     "data": {
      "text/latex": [
       "$\\displaystyle {opex^{I}}_{csh,WF,cacoda,t_{0}} = 70$"
      ],
      "text/plain": [
       "<IPython.core.display.Math object>"
      ]
     },
     "metadata": {},
     "output_type": "display_data"
    },
    {
     "data": {
      "text/latex": [
       "$\\displaystyle {opex}_{csh,WF,cacoda,t_{0}} = {operate}_{WF,cacoda,t_{0}} \\cdot 4953$"
      ],
      "text/plain": [
       "<IPython.core.display.Math object>"
      ]
     },
     "metadata": {},
     "output_type": "display_data"
    },
    {
     "data": {
      "text/latex": [
       "$\\displaystyle {opex}_{csh,WF,madgaon,t_{0}} = {operate}_{WF,madgaon,t_{0}} \\cdot 4953$"
      ],
      "text/plain": [
       "<IPython.core.display.Math object>"
      ]
     },
     "metadata": {},
     "output_type": "display_data"
    },
    {
     "data": {
      "text/latex": [
       "$\\displaystyle {opex^{I}}_{csh,WF,madgaon,t_{0}} = 70$"
      ],
      "text/plain": [
       "<IPython.core.display.Math object>"
      ]
     },
     "metadata": {},
     "output_type": "display_data"
    },
    {
     "data": {
      "text/latex": [
       "$\\displaystyle {opex^{I}}_{csh,WF,ponje,t_{0}} = 70$"
      ],
      "text/plain": [
       "<IPython.core.display.Math object>"
      ]
     },
     "metadata": {},
     "output_type": "display_data"
    },
    {
     "data": {
      "text/latex": [
       "$\\displaystyle {opex}_{csh,WF,ponje,t_{0}} = {operate}_{WF,ponje,t_{0}} \\cdot 4953$"
      ],
      "text/plain": [
       "<IPython.core.display.Math object>"
      ]
     },
     "metadata": {},
     "output_type": "display_data"
    },
    {
     "data": {
      "text/latex": [
       "$\\displaystyle {capacity}_{PV,net,t_{0}} = 5000$"
      ],
      "text/plain": [
       "<IPython.core.display.Math object>"
      ]
     },
     "metadata": {},
     "output_type": "display_data"
    },
    {
     "data": {
      "text/latex": [
       "$\\displaystyle {capex}_{csh,PV,cacoda,t_{0}} = {capacity}_{PV,cacoda,t_{0}} \\cdot 1555$"
      ],
      "text/plain": [
       "<IPython.core.display.Math object>"
      ]
     },
     "metadata": {},
     "output_type": "display_data"
    },
    {
     "data": {
      "text/latex": [
       "$\\displaystyle {capex}_{csh,PV,madgaon,t_{0}} = {capacity}_{PV,madgaon,t_{0}} \\cdot 1555$"
      ],
      "text/plain": [
       "<IPython.core.display.Math object>"
      ]
     },
     "metadata": {},
     "output_type": "display_data"
    },
    {
     "data": {
      "text/latex": [
       "$\\displaystyle {capex}_{csh,PV,ponje,t_{0}} = {capacity}_{PV,ponje,t_{0}} \\cdot 1555$"
      ],
      "text/plain": [
       "<IPython.core.display.Math object>"
      ]
     },
     "metadata": {},
     "output_type": "display_data"
    },
    {
     "data": {
      "text/latex": [
       "$\\displaystyle {opex}_{csh,PV,cacoda,t_{0}} = {operate}_{PV,cacoda,t_{0}} \\cdot 22623$"
      ],
      "text/plain": [
       "<IPython.core.display.Math object>"
      ]
     },
     "metadata": {},
     "output_type": "display_data"
    },
    {
     "data": {
      "text/latex": [
       "$\\displaystyle {opex}_{csh,PV,madgaon,t_{0}} = {operate}_{PV,madgaon,t_{0}} \\cdot 22623$"
      ],
      "text/plain": [
       "<IPython.core.display.Math object>"
      ]
     },
     "metadata": {},
     "output_type": "display_data"
    },
    {
     "data": {
      "text/latex": [
       "$\\displaystyle {opex}_{csh,PV,ponje,t_{0}} = {operate}_{PV,ponje,t_{0}} \\cdot 22623$"
      ],
      "text/plain": [
       "<IPython.core.display.Math object>"
      ]
     },
     "metadata": {},
     "output_type": "display_data"
    },
    {
     "data": {
      "text/latex": [
       "$\\displaystyle {exp^{sell}}_{csh,Power,PV,cacoda,t_{0}} = {sell}_{Power,PV,cacoda,t_{0}} \\cdot 30$"
      ],
      "text/plain": [
       "<IPython.core.display.Math object>"
      ]
     },
     "metadata": {},
     "output_type": "display_data"
    },
    {
     "data": {
      "text/latex": [
       "$\\displaystyle {exp^{sell}}_{csh,Power,PV,madgaon,t_{0}} = {sell}_{Power,PV,madgaon,t_{0}} \\cdot 30$"
      ],
      "text/plain": [
       "<IPython.core.display.Math object>"
      ]
     },
     "metadata": {},
     "output_type": "display_data"
    },
    {
     "data": {
      "text/latex": [
       "$\\displaystyle {exp^{sell}}_{csh,Power,PV,ponje,t_{0}} = {sell}_{Power,PV,ponje,t_{0}} \\cdot 30$"
      ],
      "text/plain": [
       "<IPython.core.display.Math object>"
      ]
     },
     "metadata": {},
     "output_type": "display_data"
    },
    {
     "data": {
      "text/latex": [
       "$\\displaystyle {credit}_{csh,Power,PV,cacoda,t_{0}} = {DtSt}_{csh,Power,PV,cacoda,t_{0}} \\cdot {sell}_{Power,PV,cacoda,t_{0}}$"
      ],
      "text/plain": [
       "<IPython.core.display.Math object>"
      ]
     },
     "metadata": {},
     "output_type": "display_data"
    },
    {
     "data": {
      "text/latex": [
       "$\\displaystyle {credit}_{csh,Power,PV,madgaon,t_{0}} = {DtSt}_{csh,Power,PV,madgaon,t_{0}} \\cdot {sell}_{Power,PV,madgaon,t_{0}}$"
      ],
      "text/plain": [
       "<IPython.core.display.Math object>"
      ]
     },
     "metadata": {},
     "output_type": "display_data"
    },
    {
     "data": {
      "text/latex": [
       "$\\displaystyle {credit}_{csh,Power,PV,ponje,t_{0}} = {DtSt}_{csh,Power,PV,ponje,t_{0}} \\cdot {sell}_{Power,PV,ponje,t_{0}}$"
      ],
      "text/plain": [
       "<IPython.core.display.Math object>"
      ]
     },
     "metadata": {},
     "output_type": "display_data"
    },
    {
     "data": {
      "text/latex": [
       "$\\displaystyle {capacity}_{SMRH,net,t_{0}} \\geq 0$"
      ],
      "text/plain": [
       "<IPython.core.display.Math object>"
      ]
     },
     "metadata": {},
     "output_type": "display_data"
    },
    {
     "data": {
      "text/latex": [
       "$\\displaystyle {capacity}_{SMRH,net,t_{0}} \\leq 1000$"
      ],
      "text/plain": [
       "<IPython.core.display.Math object>"
      ]
     },
     "metadata": {},
     "output_type": "display_data"
    },
    {
     "data": {
      "text/latex": [
       "$\\displaystyle {use^{setup}}_{lnd_{def},SMRH,cacoda,t_{0}} = {capacity}_{SMRH,cacoda,t_{0}} \\cdot 50$"
      ],
      "text/plain": [
       "<IPython.core.display.Math object>"
      ]
     },
     "metadata": {},
     "output_type": "display_data"
    },
    {
     "data": {
      "text/latex": [
       "$\\displaystyle {use^{setup}}_{lnd_{def},SMRH,madgaon,t_{0}} = {capacity}_{SMRH,madgaon,t_{0}} \\cdot 50$"
      ],
      "text/plain": [
       "<IPython.core.display.Math object>"
      ]
     },
     "metadata": {},
     "output_type": "display_data"
    },
    {
     "data": {
      "text/latex": [
       "$\\displaystyle {use^{setup}}_{lnd_{def},SMRH,ponje,t_{0}} = {capacity}_{SMRH,ponje,t_{0}} \\cdot 50$"
      ],
      "text/plain": [
       "<IPython.core.display.Math object>"
      ]
     },
     "metadata": {},
     "output_type": "display_data"
    },
    {
     "data": {
      "text/latex": [
       "$\\displaystyle {capex}_{csh,SMRH,cacoda,t_{0}} = {capacity}_{SMRH,cacoda,t_{0}} \\cdot 2520000$"
      ],
      "text/plain": [
       "<IPython.core.display.Math object>"
      ]
     },
     "metadata": {},
     "output_type": "display_data"
    },
    {
     "data": {
      "text/latex": [
       "$\\displaystyle {capex}_{csh,SMRH,madgaon,t_{0}} = {capacity}_{SMRH,madgaon,t_{0}} \\cdot 2520000$"
      ],
      "text/plain": [
       "<IPython.core.display.Math object>"
      ]
     },
     "metadata": {},
     "output_type": "display_data"
    },
    {
     "data": {
      "text/latex": [
       "$\\displaystyle {capex}_{csh,SMRH,ponje,t_{0}} = {capacity}_{SMRH,ponje,t_{0}} \\cdot 2520000$"
      ],
      "text/plain": [
       "<IPython.core.display.Math object>"
      ]
     },
     "metadata": {},
     "output_type": "display_data"
    },
    {
     "data": {
      "text/latex": [
       "$\\displaystyle {opex}_{csh,SMRH,cacoda,t_{0}} = {operate}_{SMRH,cacoda,t_{0}} \\cdot 51.5$"
      ],
      "text/plain": [
       "<IPython.core.display.Math object>"
      ]
     },
     "metadata": {},
     "output_type": "display_data"
    },
    {
     "data": {
      "text/latex": [
       "$\\displaystyle {opex^{I}}_{csh,SMRH,cacoda,t_{0}} = 945000$"
      ],
      "text/plain": [
       "<IPython.core.display.Math object>"
      ]
     },
     "metadata": {},
     "output_type": "display_data"
    },
    {
     "data": {
      "text/latex": [
       "$\\displaystyle {opex}_{csh,SMRH,madgaon,t_{0}} = {operate}_{SMRH,madgaon,t_{0}} \\cdot 51.5$"
      ],
      "text/plain": [
       "<IPython.core.display.Math object>"
      ]
     },
     "metadata": {},
     "output_type": "display_data"
    },
    {
     "data": {
      "text/latex": [
       "$\\displaystyle {opex^{I}}_{csh,SMRH,madgaon,t_{0}} = 945000$"
      ],
      "text/plain": [
       "<IPython.core.display.Math object>"
      ]
     },
     "metadata": {},
     "output_type": "display_data"
    },
    {
     "data": {
      "text/latex": [
       "$\\displaystyle {opex}_{csh,SMRH,ponje,t_{0}} = {operate}_{SMRH,ponje,t_{0}} \\cdot 51.5$"
      ],
      "text/plain": [
       "<IPython.core.display.Math object>"
      ]
     },
     "metadata": {},
     "output_type": "display_data"
    },
    {
     "data": {
      "text/latex": [
       "$\\displaystyle {opex^{I}}_{csh,SMRH,ponje,t_{0}} = 945000$"
      ],
      "text/plain": [
       "<IPython.core.display.Math object>"
      ]
     },
     "metadata": {},
     "output_type": "display_data"
    },
    {
     "data": {
      "text/latex": [
       "$\\displaystyle {capacity}_{NGCC,net,t_{0}} \\geq 1$"
      ],
      "text/plain": [
       "<IPython.core.display.Math object>"
      ]
     },
     "metadata": {},
     "output_type": "display_data"
    },
    {
     "data": {
      "text/latex": [
       "$\\displaystyle {capacity}_{NGCC,net,t_{0}} \\leq 100$"
      ],
      "text/plain": [
       "<IPython.core.display.Math object>"
      ]
     },
     "metadata": {},
     "output_type": "display_data"
    },
    {
     "data": {
      "text/latex": [
       "$\\displaystyle {capex}_{csh,NGCC,cacoda,t_{0}} = {capacity}_{NGCC,cacoda,t_{0}} \\cdot 2158928$"
      ],
      "text/plain": [
       "<IPython.core.display.Math object>"
      ]
     },
     "metadata": {},
     "output_type": "display_data"
    },
    {
     "data": {
      "text/latex": [
       "$\\displaystyle {capex}_{csh,NGCC,madgaon,t_{0}} = {capacity}_{NGCC,madgaon,t_{0}} \\cdot 2158928$"
      ],
      "text/plain": [
       "<IPython.core.display.Math object>"
      ]
     },
     "metadata": {},
     "output_type": "display_data"
    },
    {
     "data": {
      "text/latex": [
       "$\\displaystyle {capex}_{csh,NGCC,ponje,t_{0}} = {capacity}_{NGCC,ponje,t_{0}} \\cdot 2158928$"
      ],
      "text/plain": [
       "<IPython.core.display.Math object>"
      ]
     },
     "metadata": {},
     "output_type": "display_data"
    },
    {
     "data": {
      "text/latex": [
       "$\\displaystyle {opex}_{csh,NGCC,cacoda,t_{0}} = {operate}_{NGCC,cacoda,t_{0}} \\cdot 4090$"
      ],
      "text/plain": [
       "<IPython.core.display.Math object>"
      ]
     },
     "metadata": {},
     "output_type": "display_data"
    },
    {
     "data": {
      "text/latex": [
       "$\\displaystyle {opex^{I}}_{csh,NGCC,cacoda,t_{0}} = 53320$"
      ],
      "text/plain": [
       "<IPython.core.display.Math object>"
      ]
     },
     "metadata": {},
     "output_type": "display_data"
    },
    {
     "data": {
      "text/latex": [
       "$\\displaystyle {opex}_{csh,NGCC,madgaon,t_{0}} = {operate}_{NGCC,madgaon,t_{0}} \\cdot 4090$"
      ],
      "text/plain": [
       "<IPython.core.display.Math object>"
      ]
     },
     "metadata": {},
     "output_type": "display_data"
    },
    {
     "data": {
      "text/latex": [
       "$\\displaystyle {opex^{I}}_{csh,NGCC,madgaon,t_{0}} = 53320$"
      ],
      "text/plain": [
       "<IPython.core.display.Math object>"
      ]
     },
     "metadata": {},
     "output_type": "display_data"
    },
    {
     "data": {
      "text/latex": [
       "$\\displaystyle {opex^{I}}_{csh,NGCC,ponje,t_{0}} = 53320$"
      ],
      "text/plain": [
       "<IPython.core.display.Math object>"
      ]
     },
     "metadata": {},
     "output_type": "display_data"
    },
    {
     "data": {
      "text/latex": [
       "$\\displaystyle {opex}_{csh,NGCC,ponje,t_{0}} = {operate}_{NGCC,ponje,t_{0}} \\cdot 4090$"
      ],
      "text/plain": [
       "<IPython.core.display.Math object>"
      ]
     },
     "metadata": {},
     "output_type": "display_data"
    },
    {
     "data": {
      "text/latex": [
       "$\\displaystyle {exp^{buy}}_{csh,CH_{4},NGCC,cacoda,t_{0}} = {buy}_{CH_{4},NGCC,cacoda,t_{0}} \\cdot 4$"
      ],
      "text/plain": [
       "<IPython.core.display.Math object>"
      ]
     },
     "metadata": {},
     "output_type": "display_data"
    },
    {
     "data": {
      "text/latex": [
       "$\\displaystyle {exp^{buy}}_{csh,CH_{4},NGCC,madgaon,t_{0}} = {buy}_{CH_{4},NGCC,madgaon,t_{0}} \\cdot 4$"
      ],
      "text/plain": [
       "<IPython.core.display.Math object>"
      ]
     },
     "metadata": {},
     "output_type": "display_data"
    },
    {
     "data": {
      "text/latex": [
       "$\\displaystyle {exp^{buy}}_{csh,CH_{4},NGCC,ponje,t_{0}} = {buy}_{CH_{4},NGCC,ponje,t_{0}} \\cdot 4$"
      ],
      "text/plain": [
       "<IPython.core.display.Math object>"
      ]
     },
     "metadata": {},
     "output_type": "display_data"
    },
    {
     "data": {
      "text/latex": [
       "$\\displaystyle {exp^{buy}}_{csh,H2O,NGCC,cacoda,t_{0}} = {buy}_{H2O,NGCC,cacoda,t_{0}} \\cdot 20$"
      ],
      "text/plain": [
       "<IPython.core.display.Math object>"
      ]
     },
     "metadata": {},
     "output_type": "display_data"
    },
    {
     "data": {
      "text/latex": [
       "$\\displaystyle {exp^{buy}}_{csh,H2O,NGCC,madgaon,t_{0}} = {buy}_{H2O,NGCC,madgaon,t_{0}} \\cdot 20$"
      ],
      "text/plain": [
       "<IPython.core.display.Math object>"
      ]
     },
     "metadata": {},
     "output_type": "display_data"
    },
    {
     "data": {
      "text/latex": [
       "$\\displaystyle {exp^{buy}}_{csh,H2O,NGCC,ponje,t_{0}} = {buy}_{H2O,NGCC,ponje,t_{0}} \\cdot 20$"
      ],
      "text/plain": [
       "<IPython.core.display.Math object>"
      ]
     },
     "metadata": {},
     "output_type": "display_data"
    },
    {
     "data": {
      "text/latex": [
       "$\\displaystyle {capacity}_{SMR,net,t_{0}} = 1000$"
      ],
      "text/plain": [
       "<IPython.core.display.Math object>"
      ]
     },
     "metadata": {},
     "output_type": "display_data"
    },
    {
     "data": {
      "text/latex": [
       "$\\displaystyle {capex}_{csh,SMR,cacoda,t_{0}} = {capacity}_{SMR,cacoda,t_{0}} \\cdot 2400$"
      ],
      "text/plain": [
       "<IPython.core.display.Math object>"
      ]
     },
     "metadata": {},
     "output_type": "display_data"
    },
    {
     "data": {
      "text/latex": [
       "$\\displaystyle {capex}_{csh,SMR,madgaon,t_{0}} = {capacity}_{SMR,madgaon,t_{0}} \\cdot 2400$"
      ],
      "text/plain": [
       "<IPython.core.display.Math object>"
      ]
     },
     "metadata": {},
     "output_type": "display_data"
    },
    {
     "data": {
      "text/latex": [
       "$\\displaystyle {capex}_{csh,SMR,ponje,t_{0}} = {capacity}_{SMR,ponje,t_{0}} \\cdot 2400$"
      ],
      "text/plain": [
       "<IPython.core.display.Math object>"
      ]
     },
     "metadata": {},
     "output_type": "display_data"
    },
    {
     "data": {
      "text/latex": [
       "$\\displaystyle {opex^{I}}_{csh,SMR,cacoda,t_{0}} = 800$"
      ],
      "text/plain": [
       "<IPython.core.display.Math object>"
      ]
     },
     "metadata": {},
     "output_type": "display_data"
    },
    {
     "data": {
      "text/latex": [
       "$\\displaystyle {opex}_{csh,SMR,cacoda,t_{0}} = {operate}_{SMR,cacoda,t_{0}} \\cdot 0.03$"
      ],
      "text/plain": [
       "<IPython.core.display.Math object>"
      ]
     },
     "metadata": {},
     "output_type": "display_data"
    },
    {
     "data": {
      "text/latex": [
       "$\\displaystyle {opex^{I}}_{csh,SMR,madgaon,t_{0}} = 800$"
      ],
      "text/plain": [
       "<IPython.core.display.Math object>"
      ]
     },
     "metadata": {},
     "output_type": "display_data"
    },
    {
     "data": {
      "text/latex": [
       "$\\displaystyle {opex}_{csh,SMR,madgaon,t_{0}} = {operate}_{SMR,madgaon,t_{0}} \\cdot 0.03$"
      ],
      "text/plain": [
       "<IPython.core.display.Math object>"
      ]
     },
     "metadata": {},
     "output_type": "display_data"
    },
    {
     "data": {
      "text/latex": [
       "$\\displaystyle {opex^{I}}_{csh,SMR,ponje,t_{0}} = 800$"
      ],
      "text/plain": [
       "<IPython.core.display.Math object>"
      ]
     },
     "metadata": {},
     "output_type": "display_data"
    },
    {
     "data": {
      "text/latex": [
       "$\\displaystyle {opex}_{csh,SMR,ponje,t_{0}} = {operate}_{SMR,ponje,t_{0}} \\cdot 0.03$"
      ],
      "text/plain": [
       "<IPython.core.display.Math object>"
      ]
     },
     "metadata": {},
     "output_type": "display_data"
    },
    {
     "data": {
      "text/latex": [
       "$\\displaystyle {capacity}_{H2FC,net,t_{0}} \\geq 1000$"
      ],
      "text/plain": [
       "<IPython.core.display.Math object>"
      ]
     },
     "metadata": {},
     "output_type": "display_data"
    },
    {
     "data": {
      "text/latex": [
       "$\\displaystyle {capacity}_{H2FC,net,t_{0}} \\leq 2000$"
      ],
      "text/plain": [
       "<IPython.core.display.Math object>"
      ]
     },
     "metadata": {},
     "output_type": "display_data"
    },
    {
     "data": {
      "text/latex": [
       "$\\displaystyle {capex}_{csh,H2FC,cacoda,t_{0}} = {capacity}_{H2FC,cacoda,t_{0}} \\cdot 1600000.0$"
      ],
      "text/plain": [
       "<IPython.core.display.Math object>"
      ]
     },
     "metadata": {},
     "output_type": "display_data"
    },
    {
     "data": {
      "text/latex": [
       "$\\displaystyle {capex}_{csh,H2FC,madgaon,t_{0}} = {capacity}_{H2FC,madgaon,t_{0}} \\cdot 1600000.0$"
      ],
      "text/plain": [
       "<IPython.core.display.Math object>"
      ]
     },
     "metadata": {},
     "output_type": "display_data"
    },
    {
     "data": {
      "text/latex": [
       "$\\displaystyle {capex}_{csh,H2FC,ponje,t_{0}} = {capacity}_{H2FC,ponje,t_{0}} \\cdot 1600000.0$"
      ],
      "text/plain": [
       "<IPython.core.display.Math object>"
      ]
     },
     "metadata": {},
     "output_type": "display_data"
    },
    {
     "data": {
      "text/latex": [
       "$\\displaystyle {opex}_{csh,H2FC,cacoda,t_{0}} = {operate}_{H2FC,cacoda,t_{0}} \\cdot 3.5$"
      ],
      "text/plain": [
       "<IPython.core.display.Math object>"
      ]
     },
     "metadata": {},
     "output_type": "display_data"
    },
    {
     "data": {
      "text/latex": [
       "$\\displaystyle {opex}_{csh,H2FC,madgaon,t_{0}} = {operate}_{H2FC,madgaon,t_{0}} \\cdot 3.5$"
      ],
      "text/plain": [
       "<IPython.core.display.Math object>"
      ]
     },
     "metadata": {},
     "output_type": "display_data"
    },
    {
     "data": {
      "text/latex": [
       "$\\displaystyle {opex}_{csh,H2FC,ponje,t_{0}} = {operate}_{H2FC,ponje,t_{0}} \\cdot 3.5$"
      ],
      "text/plain": [
       "<IPython.core.display.Math object>"
      ]
     },
     "metadata": {},
     "output_type": "display_data"
    },
    {
     "data": {
      "text/latex": [
       "$\\displaystyle {exp^{buy}}_{csh,H_{2},H2FC,cacoda,t_{0}} = {buy}_{H_{2},H2FC,cacoda,t_{0}} \\cdot 2$"
      ],
      "text/plain": [
       "<IPython.core.display.Math object>"
      ]
     },
     "metadata": {},
     "output_type": "display_data"
    },
    {
     "data": {
      "text/latex": [
       "$\\displaystyle {exp^{buy}}_{csh,H_{2},H2FC,madgaon,t_{0}} = {buy}_{H_{2},H2FC,madgaon,t_{0}} \\cdot 2$"
      ],
      "text/plain": [
       "<IPython.core.display.Math object>"
      ]
     },
     "metadata": {},
     "output_type": "display_data"
    },
    {
     "data": {
      "text/latex": [
       "$\\displaystyle {exp^{buy}}_{csh,H_{2},H2FC,ponje,t_{0}} = {buy}_{H_{2},H2FC,ponje,t_{0}} \\cdot 2$"
      ],
      "text/plain": [
       "<IPython.core.display.Math object>"
      ]
     },
     "metadata": {},
     "output_type": "display_data"
    },
    {
     "data": {
      "text/latex": [
       "$\\displaystyle {sell}_{Power,H2FC,net,t_{0}} = 20$"
      ],
      "text/plain": [
       "<IPython.core.display.Math object>"
      ]
     },
     "metadata": {},
     "output_type": "display_data"
    },
    {
     "data": {
      "text/latex": [
       "$\\displaystyle {capacity}_{DAC,net,t_{0}} = 1000$"
      ],
      "text/plain": [
       "<IPython.core.display.Math object>"
      ]
     },
     "metadata": {},
     "output_type": "display_data"
    },
    {
     "data": {
      "text/latex": [
       "$\\displaystyle {capex}_{csh,DAC,cacoda,t_{0}} = {capacity}_{DAC,cacoda,t_{0}} \\cdot 0.02536$"
      ],
      "text/plain": [
       "<IPython.core.display.Math object>"
      ]
     },
     "metadata": {},
     "output_type": "display_data"
    },
    {
     "data": {
      "text/latex": [
       "$\\displaystyle {capex}_{csh,DAC,madgaon,t_{0}} = {capacity}_{DAC,madgaon,t_{0}} \\cdot 0.02536$"
      ],
      "text/plain": [
       "<IPython.core.display.Math object>"
      ]
     },
     "metadata": {},
     "output_type": "display_data"
    },
    {
     "data": {
      "text/latex": [
       "$\\displaystyle {capex}_{csh,DAC,ponje,t_{0}} = {capacity}_{DAC,ponje,t_{0}} \\cdot 0.02536$"
      ],
      "text/plain": [
       "<IPython.core.display.Math object>"
      ]
     },
     "metadata": {},
     "output_type": "display_data"
    },
    {
     "data": {
      "text/latex": [
       "$\\displaystyle {opex}_{csh,DAC,cacoda,t_{0}} = {operate}_{DAC,cacoda,t_{0}} \\cdot 0.634$"
      ],
      "text/plain": [
       "<IPython.core.display.Math object>"
      ]
     },
     "metadata": {},
     "output_type": "display_data"
    },
    {
     "data": {
      "text/latex": [
       "$\\displaystyle {opex}_{csh,DAC,madgaon,t_{0}} = {operate}_{DAC,madgaon,t_{0}} \\cdot 0.634$"
      ],
      "text/plain": [
       "<IPython.core.display.Math object>"
      ]
     },
     "metadata": {},
     "output_type": "display_data"
    },
    {
     "data": {
      "text/latex": [
       "$\\displaystyle {opex}_{csh,DAC,ponje,t_{0}} = {operate}_{DAC,ponje,t_{0}} \\cdot 0.634$"
      ],
      "text/plain": [
       "<IPython.core.display.Math object>"
      ]
     },
     "metadata": {},
     "output_type": "display_data"
    },
    {
     "data": {
      "text/latex": [
       "$\\displaystyle {capacity}_{ASMR,net,t_{0}} = 1000$"
      ],
      "text/plain": [
       "<IPython.core.display.Math object>"
      ]
     },
     "metadata": {},
     "output_type": "display_data"
    },
    {
     "data": {
      "text/latex": [
       "$\\displaystyle {capex}_{csh,ASMR,cacoda,t_{0}} = {capacity}_{ASMR,cacoda,t_{0}} \\cdot 7988951$"
      ],
      "text/plain": [
       "<IPython.core.display.Math object>"
      ]
     },
     "metadata": {},
     "output_type": "display_data"
    },
    {
     "data": {
      "text/latex": [
       "$\\displaystyle {capex}_{csh,ASMR,madgaon,t_{0}} = {capacity}_{ASMR,madgaon,t_{0}} \\cdot 7988951$"
      ],
      "text/plain": [
       "<IPython.core.display.Math object>"
      ]
     },
     "metadata": {},
     "output_type": "display_data"
    },
    {
     "data": {
      "text/latex": [
       "$\\displaystyle {capex}_{csh,ASMR,ponje,t_{0}} = {capacity}_{ASMR,ponje,t_{0}} \\cdot 7988951$"
      ],
      "text/plain": [
       "<IPython.core.display.Math object>"
      ]
     },
     "metadata": {},
     "output_type": "display_data"
    },
    {
     "data": {
      "text/latex": [
       "$\\displaystyle {opex^{I}}_{csh,ASMR,cacoda,t_{0}} = 0.0292$"
      ],
      "text/plain": [
       "<IPython.core.display.Math object>"
      ]
     },
     "metadata": {},
     "output_type": "display_data"
    },
    {
     "data": {
      "text/latex": [
       "$\\displaystyle {opex^{I}}_{csh,ASMR,madgaon,t_{0}} = 0.0292$"
      ],
      "text/plain": [
       "<IPython.core.display.Math object>"
      ]
     },
     "metadata": {},
     "output_type": "display_data"
    },
    {
     "data": {
      "text/latex": [
       "$\\displaystyle {opex^{I}}_{csh,ASMR,ponje,t_{0}} = 0.0292$"
      ],
      "text/plain": [
       "<IPython.core.display.Math object>"
      ]
     },
     "metadata": {},
     "output_type": "display_data"
    },
    {
     "data": {
      "text/latex": [
       "$\\displaystyle {buy}_{Uranium,ASMR,net,t_{0}} = 40$"
      ],
      "text/plain": [
       "<IPython.core.display.Math object>"
      ]
     },
     "metadata": {},
     "output_type": "display_data"
    },
    {
     "data": {
      "text/latex": [
       "$\\displaystyle {capacity}_{AWE,net,t_{0}} \\geq 0$"
      ],
      "text/plain": [
       "<IPython.core.display.Math object>"
      ]
     },
     "metadata": {},
     "output_type": "display_data"
    },
    {
     "data": {
      "text/latex": [
       "$\\displaystyle {capacity}_{AWE,net,t_{0}} \\leq M$"
      ],
      "text/plain": [
       "<IPython.core.display.Math object>"
      ]
     },
     "metadata": {},
     "output_type": "display_data"
    },
    {
     "data": {
      "text/latex": [
       "$\\displaystyle {use^{setup}}_{lnd_{def},AWE,cacoda,t_{0}} = {capacity}_{AWE,cacoda,t_{0}} \\cdot {θ}_{lnd_{def},AWE,cacoda,t_{0}}$"
      ],
      "text/plain": [
       "<IPython.core.display.Math object>"
      ]
     },
     "metadata": {},
     "output_type": "display_data"
    },
    {
     "data": {
      "text/latex": [
       "$\\displaystyle {use^{setup}}_{lnd_{def},AWE,madgaon,t_{0}} = {capacity}_{AWE,madgaon,t_{0}} \\cdot {θ}_{lnd_{def},AWE,madgaon,t_{0}}$"
      ],
      "text/plain": [
       "<IPython.core.display.Math object>"
      ]
     },
     "metadata": {},
     "output_type": "display_data"
    },
    {
     "data": {
      "text/latex": [
       "$\\displaystyle {use^{setup}}_{lnd_{def},AWE,ponje,t_{0}} = {capacity}_{AWE,ponje,t_{0}} \\cdot {θ}_{lnd_{def},AWE,ponje,t_{0}}$"
      ],
      "text/plain": [
       "<IPython.core.display.Math object>"
      ]
     },
     "metadata": {},
     "output_type": "display_data"
    },
    {
     "data": {
      "text/latex": [
       "$\\displaystyle {capex}_{csh,AWE,cacoda,t_{0}} = {capacity}_{AWE,cacoda,t_{0}} \\cdot 1100000.0$"
      ],
      "text/plain": [
       "<IPython.core.display.Math object>"
      ]
     },
     "metadata": {},
     "output_type": "display_data"
    },
    {
     "data": {
      "text/latex": [
       "$\\displaystyle {capex^{I}}_{csh,AWE,cacoda,t_{0}} = 20$"
      ],
      "text/plain": [
       "<IPython.core.display.Math object>"
      ]
     },
     "metadata": {},
     "output_type": "display_data"
    },
    {
     "data": {
      "text/latex": [
       "$\\displaystyle {capex^{I}}_{csh,AWE,madgaon,t_{0}} = 20$"
      ],
      "text/plain": [
       "<IPython.core.display.Math object>"
      ]
     },
     "metadata": {},
     "output_type": "display_data"
    },
    {
     "data": {
      "text/latex": [
       "$\\displaystyle {capex}_{csh,AWE,madgaon,t_{0}} = {capacity}_{AWE,madgaon,t_{0}} \\cdot 1100000.0$"
      ],
      "text/plain": [
       "<IPython.core.display.Math object>"
      ]
     },
     "metadata": {},
     "output_type": "display_data"
    },
    {
     "data": {
      "text/latex": [
       "$\\displaystyle {capex}_{csh,AWE,ponje,t_{0}} = {capacity}_{AWE,ponje,t_{0}} \\cdot 1100000.0$"
      ],
      "text/plain": [
       "<IPython.core.display.Math object>"
      ]
     },
     "metadata": {},
     "output_type": "display_data"
    },
    {
     "data": {
      "text/latex": [
       "$\\displaystyle {capex^{I}}_{csh,AWE,ponje,t_{0}} = 20$"
      ],
      "text/plain": [
       "<IPython.core.display.Math object>"
      ]
     },
     "metadata": {},
     "output_type": "display_data"
    },
    {
     "data": {
      "text/latex": [
       "$\\displaystyle {opex^{I}}_{csh,AWE,cacoda,t_{0}} = 16918$"
      ],
      "text/plain": [
       "<IPython.core.display.Math object>"
      ]
     },
     "metadata": {},
     "output_type": "display_data"
    },
    {
     "data": {
      "text/latex": [
       "$\\displaystyle {opex^{I}}_{csh,AWE,madgaon,t_{0}} = 16918$"
      ],
      "text/plain": [
       "<IPython.core.display.Math object>"
      ]
     },
     "metadata": {},
     "output_type": "display_data"
    },
    {
     "data": {
      "text/latex": [
       "$\\displaystyle {opex^{I}}_{csh,AWE,ponje,t_{0}} = 16918$"
      ],
      "text/plain": [
       "<IPython.core.display.Math object>"
      ]
     },
     "metadata": {},
     "output_type": "display_data"
    },
    {
     "data": {
      "text/latex": [
       "$\\displaystyle {capacity}_{LiI,net,t_{0}} \\geq 0$"
      ],
      "text/plain": [
       "<IPython.core.display.Math object>"
      ]
     },
     "metadata": {},
     "output_type": "display_data"
    },
    {
     "data": {
      "text/latex": [
       "$\\displaystyle {capacity}_{LiI,net,t_{0}} \\leq 2000$"
      ],
      "text/plain": [
       "<IPython.core.display.Math object>"
      ]
     },
     "metadata": {},
     "output_type": "display_data"
    },
    {
     "data": {
      "text/latex": [
       "$\\displaystyle {capacity}_{LiI_{in},net,t_{0}} \\geq 0$"
      ],
      "text/plain": [
       "<IPython.core.display.Math object>"
      ]
     },
     "metadata": {},
     "output_type": "display_data"
    },
    {
     "data": {
      "text/latex": [
       "$\\displaystyle {capacity}_{LiI_{in},net,t_{0}} \\leq 40$"
      ],
      "text/plain": [
       "<IPython.core.display.Math object>"
      ]
     },
     "metadata": {},
     "output_type": "display_data"
    },
    {
     "data": {
      "text/latex": [
       "$\\displaystyle {capacity}_{LiI_{out},net,t_{0}} \\geq 0$"
      ],
      "text/plain": [
       "<IPython.core.display.Math object>"
      ]
     },
     "metadata": {},
     "output_type": "display_data"
    },
    {
     "data": {
      "text/latex": [
       "$\\displaystyle {capacity}_{LiI_{out},net,t_{0}} \\leq 20$"
      ],
      "text/plain": [
       "<IPython.core.display.Math object>"
      ]
     },
     "metadata": {},
     "output_type": "display_data"
    },
    {
     "data": {
      "text/latex": [
       "$\\displaystyle {capacity}_{LiI_{2},net,t_{0}} \\geq 0$"
      ],
      "text/plain": [
       "<IPython.core.display.Math object>"
      ]
     },
     "metadata": {},
     "output_type": "display_data"
    },
    {
     "data": {
      "text/latex": [
       "$\\displaystyle {capacity}_{LiI_{2},net,t_{0}} \\leq 2000$"
      ],
      "text/plain": [
       "<IPython.core.display.Math object>"
      ]
     },
     "metadata": {},
     "output_type": "display_data"
    },
    {
     "data": {
      "text/latex": [
       "$\\displaystyle {capacity}_{H2Stg,net,t_{0}} \\geq 0$"
      ],
      "text/plain": [
       "<IPython.core.display.Math object>"
      ]
     },
     "metadata": {},
     "output_type": "display_data"
    },
    {
     "data": {
      "text/latex": [
       "$\\displaystyle {capacity}_{H2Stg,net,t_{0}} \\leq 2000$"
      ],
      "text/plain": [
       "<IPython.core.display.Math object>"
      ]
     },
     "metadata": {},
     "output_type": "display_data"
    }
   ],
   "source": [
    "s.pprint()"
   ]
  },
  {
   "cell_type": "code",
   "execution_count": null,
   "metadata": {},
   "outputs": [],
   "source": []
  }
 ],
 "metadata": {
  "kernelspec": {
   "display_name": ".venv",
   "language": "python",
   "name": "python3"
  },
  "language_info": {
   "codemirror_mode": {
    "name": "ipython",
    "version": 3
   },
   "file_extension": ".py",
   "mimetype": "text/x-python",
   "name": "python",
   "nbconvert_exporter": "python",
   "pygments_lexer": "ipython3",
   "version": "3.10.11"
  },
  "orig_nbformat": 4
 },
 "nbformat": 4,
 "nbformat_minor": 2
}
