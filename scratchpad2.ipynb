{
 "cells": [
  {
   "cell_type": "code",
   "execution_count": 1,
   "metadata": {},
   "outputs": [],
   "source": [
    "# def load_data(loc:str, index:list):\n",
    "#     df = pandas.read_csv(f'data/{loc}_solar19.csv')\n",
    "#     df['idx'] = index\n",
    "#     df = df.set_index('idx')\n",
    "#     return df\n",
    "# idx = [(i,j,k) for i,j,k in product(range(1), range(365), range(24))]\n",
    "# weather_ny = load_data('ny', idx)[['DNI', 'Wind Speed']]\n",
    "# weather_ny = weather_ny.rename(columns= {'DNI': 'dni', 'Wind Speed': 'wind_speed'})\n",
    "# weather_sd = load_data('sd', idx)[['dni', 'wind_speed']]\n",
    "# weather_ho = load_data('ho', idx)[['dni', 'wind_speed']]\"\"\n",
    "# demand_sd = pandas.read_excel('data/HistoricalEMSHourlyLoad-2019.xlsx', index_col= 0)[['SDGE']]\n",
    "# demand_ho = pandas.read_excel('data/Native_Load_2019.xlsx')[['COAST']]\n",
    "# demand_ny = DataFrame(pandas.read_csv('data/NYC_load.csv')['Load']) #from Will and Doga\n",
    "# ng_price = make_henry_price_df(\n",
    "#     file_name='data/Henry_Hub_Natural_Gas_Spot_Price_Daily.csv', year=2020)\n",
    "# ng_price = ng_price.drop(columns= 'scales')\n",
    "# ng_price = remove_outliers(ng_price, sd_cuttoff = 3)\n",
    "# ng_price = pandas.concat([ng_price])"
   ]
  },
  {
   "cell_type": "code",
   "execution_count": 2,
   "metadata": {},
   "outputs": [],
   "source": [
    "import sys\n",
    "\n",
    "sys.path.append('src')"
   ]
  },
  {
   "cell_type": "code",
   "execution_count": 3,
   "metadata": {},
   "outputs": [],
   "source": [
    "from pandas import DataFrame\n",
    "from energiapy.components import *\n",
    "from energiapy.model.scenario import Scenario\n",
    "from energiapy.parameters.designators.mode import X\n",
    "from energiapy.parameters.designators.incidental import I"
   ]
  },
  {
   "cell_type": "code",
   "execution_count": 4,
   "metadata": {},
   "outputs": [],
   "source": [
    "from energiapy.components._base._scope import _Scope\n",
    "from energiapy.components._base._defined import _Defined\n",
    "from energiapy.components.temporal.scale import Scale\n",
    "from energiapy.components.spatial.location import Location\n",
    "\n",
    "# for i in [\n",
    "#     Player,\n",
    "#     Cash,\n",
    "#     Land,\n",
    "#     Material,\n",
    "#     Resource,\n",
    "#     Emission,\n",
    "#     Process,\n",
    "#     Storage,\n",
    "#     Transit,\n",
    "#     Horizon,\n",
    "#     Network,\n",
    "#     Linkage,\n",
    "#     Location,\n",
    "#     Scale,\n",
    "# ]:\n",
    "#     # print(i.__name__, issubclass(i, _Scope))\n",
    "#     print(i.__name__, issubclass(i, _Defined))"
   ]
  },
  {
   "cell_type": "code",
   "execution_count": 5,
   "metadata": {},
   "outputs": [
    {
     "ename": "NameError",
     "evalue": "name 's' is not defined",
     "output_type": "error",
     "traceback": [
      "\u001b[1;31m---------------------------------------------------------------------------\u001b[0m",
      "\u001b[1;31mNameError\u001b[0m                                 Traceback (most recent call last)",
      "Cell \u001b[1;32mIn[5], line 1\u001b[0m\n\u001b[1;32m----> 1\u001b[0m \u001b[43ms\u001b[49m\u001b[38;5;241m.\u001b[39memissions\n",
      "\u001b[1;31mNameError\u001b[0m: name 's' is not defined"
     ]
    }
   ],
   "source": [
    "s.emissions"
   ]
  },
  {
   "cell_type": "code",
   "execution_count": null,
   "metadata": {},
   "outputs": [],
   "source": [
    "s = Scenario(default=True)"
   ]
  },
  {
   "cell_type": "code",
   "execution_count": null,
   "metadata": {},
   "outputs": [
    {
     "data": {
      "text/plain": [
       "[Program|lnd_def|,\n",
       " Program|csh_def|,\n",
       " Program|gwp|,\n",
       " Program|ap|,\n",
       " Program|epm|,\n",
       " Program|epf|,\n",
       " Program|ept|,\n",
       " Program|pocp|,\n",
       " Program|odp|,\n",
       " Program|adpmn|,\n",
       " Program|adpmt|,\n",
       " Program|adpf|,\n",
       " Program|wdp|,\n",
       " Program|dm|,\n",
       " Program|market|,\n",
       " Program|consumer|,\n",
       " Program|earth|]"
      ]
     },
     "execution_count": 33,
     "metadata": {},
     "output_type": "execute_result"
    }
   ],
   "source": [
    "s.program.blocks"
   ]
  },
  {
   "cell_type": "code",
   "execution_count": 32,
   "metadata": {},
   "outputs": [
    {
     "ename": "AttributeError",
     "evalue": "'System' object has no attribute 'variables'",
     "output_type": "error",
     "traceback": [
      "\u001b[1;31m---------------------------------------------------------------------------\u001b[0m",
      "\u001b[1;31mAttributeError\u001b[0m                            Traceback (most recent call last)",
      "Cell \u001b[1;32mIn[32], line 1\u001b[0m\n\u001b[1;32m----> 1\u001b[0m \u001b[43ms\u001b[49m\u001b[38;5;241;43m.\u001b[39;49m\u001b[43msystem\u001b[49m\u001b[38;5;241;43m.\u001b[39;49m\u001b[43mvariables\u001b[49m \n",
      "\u001b[1;31mAttributeError\u001b[0m: 'System' object has no attribute 'variables'"
     ]
    }
   ],
   "source": [
    "s.system.variables "
   ]
  },
  {
   "cell_type": "code",
   "execution_count": 30,
   "metadata": {},
   "outputs": [],
   "source": [
    "test_scenario_def_defaults(s)"
   ]
  },
  {
   "cell_type": "code",
   "execution_count": 26,
   "metadata": {},
   "outputs": [
    {
     "data": {
      "text/plain": [
       "[adpf, adpmn, adpmt, ap, epf, epm, ept, gwp, odp, pocp, wdp, csh_def, lnd_def]"
      ]
     },
     "execution_count": 26,
     "metadata": {},
     "output_type": "execute_result"
    }
   ],
   "source": [
    "s.commodities"
   ]
  },
  {
   "cell_type": "code",
   "execution_count": 11,
   "metadata": {},
   "outputs": [
    {
     "data": {
      "text/plain": [
       "[consumer, dm, earth, market]"
      ]
     },
     "execution_count": 11,
     "metadata": {},
     "output_type": "execute_result"
    }
   ],
   "source": [
    "s.players"
   ]
  },
  {
   "cell_type": "code",
   "execution_count": 6,
   "metadata": {},
   "outputs": [
    {
     "data": {
      "text/plain": [
       "[]"
      ]
     },
     "execution_count": 6,
     "metadata": {},
     "output_type": "execute_result"
    }
   ],
   "source": [
    "s.operations"
   ]
  },
  {
   "cell_type": "code",
   "execution_count": 9,
   "metadata": {},
   "outputs": [
    {
     "data": {
      "text/plain": [
       "[]"
      ]
     },
     "execution_count": 9,
     "metadata": {},
     "output_type": "execute_result"
    }
   ],
   "source": [
    "s.pairs"
   ]
  },
  {
   "cell_type": "code",
   "execution_count": 8,
   "metadata": {},
   "outputs": [
    {
     "data": {
      "text/plain": [
       "[]"
      ]
     },
     "execution_count": 8,
     "metadata": {},
     "output_type": "execute_result"
    }
   ],
   "source": [
    "s.operations"
   ]
  },
  {
   "cell_type": "code",
   "execution_count": 7,
   "metadata": {},
   "outputs": [
    {
     "data": {
      "text/plain": [
       "Model|:s:|"
      ]
     },
     "execution_count": 7,
     "metadata": {},
     "output_type": "execute_result"
    }
   ],
   "source": [
    "s.model"
   ]
  },
  {
   "cell_type": "code",
   "execution_count": 9,
   "metadata": {},
   "outputs": [
    {
     "ename": "AttributeError",
     "evalue": "'System' object has no attribute '_land'",
     "output_type": "error",
     "traceback": [
      "\u001b[1;31m---------------------------------------------------------------------------\u001b[0m",
      "\u001b[1;31mAttributeError\u001b[0m                            Traceback (most recent call last)",
      "Cell \u001b[1;32mIn[9], line 1\u001b[0m\n\u001b[1;32m----> 1\u001b[0m \u001b[43ms\u001b[49m\u001b[38;5;241;43m.\u001b[39;49m\u001b[43mland\u001b[49m \n",
      "File \u001b[1;32mc:\\Users\\cacodcar\\energiapy\\src\\energiapy\\core\\_handy\\_collections.py:26\u001b[0m, in \u001b[0;36m_Cmds.land\u001b[1;34m(self)\u001b[0m\n\u001b[0;32m     23\u001b[0m \u001b[38;5;129m@property\u001b[39m\n\u001b[0;32m     24\u001b[0m \u001b[38;5;28;01mdef\u001b[39;00m \u001b[38;5;21mland\u001b[39m(\u001b[38;5;28mself\u001b[39m):\n\u001b[0;32m     25\u001b[0m \u001b[38;5;250m    \u001b[39m\u001b[38;5;124;03m\"\"\"Land of the System\"\"\"\u001b[39;00m\n\u001b[1;32m---> 26\u001b[0m     \u001b[38;5;28;01mreturn\u001b[39;00m \u001b[38;5;28;43mself\u001b[39;49m\u001b[38;5;241;43m.\u001b[39;49m\u001b[43msystem\u001b[49m\u001b[38;5;241;43m.\u001b[39;49m\u001b[43mland\u001b[49m\n",
      "File \u001b[1;32mc:\\Users\\cacodcar\\energiapy\\src\\energiapy\\blocks\\system.py:73\u001b[0m, in \u001b[0;36mSystem.land\u001b[1;34m(self)\u001b[0m\n\u001b[0;32m     70\u001b[0m \u001b[38;5;129m@property\u001b[39m\n\u001b[0;32m     71\u001b[0m \u001b[38;5;28;01mdef\u001b[39;00m \u001b[38;5;21mland\u001b[39m(\u001b[38;5;28mself\u001b[39m):\n\u001b[0;32m     72\u001b[0m \u001b[38;5;250m    \u001b[39m\u001b[38;5;124;03m\"\"\"Returns the Land of the System\"\"\"\u001b[39;00m\n\u001b[1;32m---> 73\u001b[0m     \u001b[38;5;28;01mreturn\u001b[39;00m \u001b[38;5;28;43mself\u001b[39;49m\u001b[38;5;241;43m.\u001b[39;49m\u001b[43m_land\u001b[49m\n",
      "\u001b[1;31mAttributeError\u001b[0m: 'System' object has no attribute '_land'"
     ]
    }
   ],
   "source": [
    "s.land"
   ]
  },
  {
   "cell_type": "code",
   "execution_count": 14,
   "metadata": {},
   "outputs": [],
   "source": [
    "from dataclasses import dataclass, fields"
   ]
  },
  {
   "cell_type": "code",
   "execution_count": 15,
   "metadata": {},
   "outputs": [],
   "source": [
    "from energiapy.core.aliases.is_input import IsInput"
   ]
  },
  {
   "cell_type": "code",
   "execution_count": 16,
   "metadata": {},
   "outputs": [],
   "source": [
    "s = Scenario(def_emissions=True, m=0.001)"
   ]
  },
  {
   "cell_type": "code",
   "execution_count": 17,
   "metadata": {},
   "outputs": [],
   "source": [
    "a = Scenario()"
   ]
  },
  {
   "cell_type": "code",
   "execution_count": 18,
   "metadata": {},
   "outputs": [
    {
     "data": {
      "text/plain": [
       "{}"
      ]
     },
     "execution_count": 18,
     "metadata": {},
     "output_type": "execute_result"
    }
   ],
   "source": [
    "a.system.components()"
   ]
  },
  {
   "cell_type": "code",
   "execution_count": 19,
   "metadata": {},
   "outputs": [],
   "source": [
    "# s.h2 = Horizon({'days': 2, 'hours': 12})\n",
    "s.hor = Horizon(discretizations=[2, 12])\n",
    "s.scales\n",
    "s.net = Network(['madgaon', 'ponje', 'cacoda'])  # , link_all=True)\n",
    "s.nodes\n",
    "s.alink = Linkage(source=s.madgaon, sink=s.ponje, bi=True, distance=50)\n",
    "s.blink = Linkage(source=s.ponje, sink=s.cacoda, bi=False, distance=80)\n",
    "s.clink = Linkage(source=s.cacoda, sink=s.madgaon, bi=True, distance=100)\n",
    "s.dlink = Linkage(source=s.madgaon, sink=s.ponje, bi=False, distance=200)"
   ]
  },
  {
   "cell_type": "code",
   "execution_count": 20,
   "metadata": {},
   "outputs": [
    {
     "data": {
      "text/plain": [
       "alink_"
      ]
     },
     "execution_count": 20,
     "metadata": {},
     "output_type": "execute_result"
    }
   ],
   "source": [
    "s.alink.sib"
   ]
  },
  {
   "cell_type": "code",
   "execution_count": 21,
   "metadata": {},
   "outputs": [
    {
     "data": {
      "text/plain": [
       "alink"
      ]
     },
     "execution_count": 21,
     "metadata": {},
     "output_type": "execute_result"
    }
   ],
   "source": [
    "s.alink_.sib"
   ]
  },
  {
   "cell_type": "code",
   "execution_count": 22,
   "metadata": {},
   "outputs": [],
   "source": [
    "a = DataFrame({'a': list(range(2))})\n",
    "b = DataFrame({'b': list(range(24))})"
   ]
  },
  {
   "cell_type": "code",
   "execution_count": 23,
   "metadata": {},
   "outputs": [],
   "source": [
    "s.csh = Cash(\n",
    "    spend={\n",
    "        s.madgaon: True,\n",
    "        s.ponje: {s.t1: (2, a)},\n",
    "        s.cacoda: 300,\n",
    "        s.network: {s.t2: [5, 7]},\n",
    "    },\n",
    "    label='cash',\n",
    "    basis='USD',\n",
    ")"
   ]
  },
  {
   "cell_type": "code",
   "execution_count": 24,
   "metadata": {},
   "outputs": [
    {
     "data": {
      "text/plain": [
       "[Spend[csh, cacoda, t0],\n",
       " Spend[csh, ponje, t1],\n",
       " Spend^max[csh, madgaon, t0],\n",
       " Spend^max[csh, net, t2],\n",
       " Spend^min[csh, madgaon, t0],\n",
       " Spend^min[csh, net, t2]]"
      ]
     },
     "execution_count": 24,
     "metadata": {},
     "output_type": "execute_result"
    }
   ],
   "source": [
    "s.csh.parameters"
   ]
  },
  {
   "cell_type": "code",
   "execution_count": 25,
   "metadata": {},
   "outputs": [
    {
     "data": {
      "text/plain": [
       "{'basis': 'USD',\n",
       " 'citation': None,\n",
       " 'block': None,\n",
       " 'introduce': None,\n",
       " 'retire': None,\n",
       " 'label': 'cash',\n",
       " 'spend': [300, [m, M], θ[csh, ponje, t1], [5, 7]],\n",
       " 'earn': None,\n",
       " 'name': 'csh',\n",
       " '_named': True,\n",
       " '_model': :s:,\n",
       " '_consistent': True,\n",
       " '_located': False,\n",
       " 'expense': []}"
      ]
     },
     "execution_count": 25,
     "metadata": {},
     "output_type": "execute_result"
    }
   ],
   "source": [
    "s.cash.__dict__"
   ]
  },
  {
   "cell_type": "code",
   "execution_count": 26,
   "metadata": {},
   "outputs": [
    {
     "data": {
      "text/latex": [
       "$\\displaystyle {spend}_{csh,cacoda,t_{0}} = 300$"
      ],
      "text/plain": [
       "<IPython.core.display.Math object>"
      ]
     },
     "metadata": {},
     "output_type": "display_data"
    },
    {
     "data": {
      "text/latex": [
       "$\\displaystyle {spend}_{csh,madgaon,t_{0}} \\leq M$"
      ],
      "text/plain": [
       "<IPython.core.display.Math object>"
      ]
     },
     "metadata": {},
     "output_type": "display_data"
    },
    {
     "data": {
      "text/latex": [
       "$\\displaystyle {spend}_{csh,madgaon,t_{0}} \\geq m$"
      ],
      "text/plain": [
       "<IPython.core.display.Math object>"
      ]
     },
     "metadata": {},
     "output_type": "display_data"
    },
    {
     "data": {
      "text/latex": [
       "$\\displaystyle {spend}_{csh,net,t_{2}} \\leq 7$"
      ],
      "text/plain": [
       "<IPython.core.display.Math object>"
      ]
     },
     "metadata": {},
     "output_type": "display_data"
    },
    {
     "data": {
      "text/latex": [
       "$\\displaystyle {spend}_{csh,net,t_{2}} \\geq 5$"
      ],
      "text/plain": [
       "<IPython.core.display.Math object>"
      ]
     },
     "metadata": {},
     "output_type": "display_data"
    },
    {
     "data": {
      "text/latex": [
       "$\\displaystyle {spend}_{csh,ponje,t_{1}} = {θ}_{csh,ponje,t_{1}}$"
      ],
      "text/plain": [
       "<IPython.core.display.Math object>"
      ]
     },
     "metadata": {},
     "output_type": "display_data"
    }
   ],
   "source": [
    "s.csh.pprint()"
   ]
  },
  {
   "cell_type": "code",
   "execution_count": 27,
   "metadata": {},
   "outputs": [
    {
     "name": "stderr",
     "output_type": "stream",
     "text": [
      "/Users/cacodcar/Desktop/repos/energiapy/src/energiapy/components/_base/_consistent.py:189: UserWarning: lnd.use:Inconsistent temporal scale for ponje at t0. Updating to t2\n",
      "  warn(\n"
     ]
    }
   ],
   "source": [
    "s.lnd = Land(use={s.t2: 100, s.ponje: {s.t0: b}, s.cacoda: a}, cost=20)"
   ]
  },
  {
   "cell_type": "code",
   "execution_count": 28,
   "metadata": {},
   "outputs": [],
   "source": [
    "# s.lnd.parameters\n",
    "# s.lnd.constraints\n",
    "# s.lnd.variables"
   ]
  },
  {
   "cell_type": "code",
   "execution_count": 29,
   "metadata": {},
   "outputs": [
    {
     "name": "stderr",
     "output_type": "stream",
     "text": [
      "/Users/cacodcar/Desktop/repos/energiapy/src/energiapy/components/_base/_consistent.py:260: UserWarning: H2.sell_price:Inconsistent temporal scale for ponje at t1. Updating to t2\n",
      "  warn(\n",
      "/Users/cacodcar/Desktop/repos/energiapy/src/energiapy/model/_ok.py:49: UserWarning: Power already exists, overwriting\n",
      "set Scenario.ok_overwrite=False, to enforce strictly\n",
      "  warn(\n",
      "/Users/cacodcar/Desktop/repos/energiapy/src/energiapy/components/_base/_consistent.py:260: UserWarning: Power.buy:Inconsistent temporal scale for net at t0. Updating to t1\n",
      "  warn(\n"
     ]
    }
   ],
   "source": [
    "s.H2 = Resource(\n",
    "    sell={s.t0: [0, 4], s.t1: [a, 34], s.t2: (a, b)},\n",
    "    sell_price={\n",
    "        s.madgaon: True,\n",
    "        s.ponje: {s.t1: (2, b)},\n",
    "        s.cacoda: 300,\n",
    "        s.net: {s.t0: [5, 60]},\n",
    "    },\n",
    ")\n",
    "\n",
    "\n",
    "s.Solar = Resource(buy=True, basis='MW', label='Solar Power')\n",
    "\n",
    "\n",
    "s.Wind = Resource(buy=a, basis='MW', label='Wind Power')\n",
    "\n",
    "\n",
    "s.Power = Resource(basis='MW', label='Power generated')\n",
    "\n",
    "\n",
    "s.Uranium = Resource(\n",
    "    buy=DataFrame({'a': [i for i in range(24)]}),\n",
    "    buy_price=42.70 / (250 / 2),\n",
    "    basis='kg',\n",
    "    label='Uranium',\n",
    ")\n",
    "\n",
    "\n",
    "# s.H2_L = Resource(sell=(0, 23), basis='tons', label='Hydrogen')\n",
    "\n",
    "\n",
    "# s.CO2_AQoff = Resource(basis='tons', label='Carbon dioxide - sequestered')\n",
    "\n",
    "\n",
    "s.H2O = Resource(buy=(20, 50), buy_price=b, basis='tons', label='Water')\n",
    "\n",
    "\n",
    "s.CH4 = Resource(buy=[20, 40], buy_price=20, basis='tons', label='Natural gas')\n",
    "\n",
    "\n",
    "s.CO2 = Resource(basis='tons', label='Carbon dioxide', block='Resource')\n",
    "\n",
    "\n",
    "s.CO2_Vent = Resource(\n",
    "    basis='tons',\n",
    "    label='Carbon dioxide - Vented',\n",
    "    sell_price=(2, 20),\n",
    "    sell_emission={s.gwp: b},\n",
    ")\n",
    "\n",
    "\n",
    "s.O2 = Resource(sell=[20, True], basis='tons', label='Oxygen')\n",
    "\n",
    "\n",
    "s.CO2_DAC = Resource(basis='tons', label='Carbon dioxide - captured')\n",
    "s.Power = Resource(buy=[0, a], basis='MW', label='Power generated')"
   ]
  },
  {
   "cell_type": "code",
   "execution_count": 30,
   "metadata": {},
   "outputs": [
    {
     "data": {
      "text/latex": [
       "$\\displaystyle {exp^{sell}}_{csh,CO_{2 Vent},net,t_{0}} = {sell}_{CO_{2 Vent},net,t_{0}} \\cdot {θ}_{csh,CO_{2 Vent},net,t_{0}}$"
      ],
      "text/plain": [
       "<IPython.core.display.Math object>"
      ]
     },
     "metadata": {},
     "output_type": "display_data"
    },
    {
     "data": {
      "text/latex": [
       "$\\displaystyle {emit^{sell}}_{gwp,CO_{2 Vent},net,t_{2}} = {DtSt}_{gwp,CO_{2 Vent},net,t_{2}} \\cdot {sell}_{CO_{2 Vent},net,t_{2}}$"
      ],
      "text/plain": [
       "<IPython.core.display.Math object>"
      ]
     },
     "metadata": {},
     "output_type": "display_data"
    }
   ],
   "source": [
    "s.CO2_Vent.pprint()"
   ]
  },
  {
   "cell_type": "code",
   "execution_count": 31,
   "metadata": {},
   "outputs": [
    {
     "data": {
      "text/plain": [
       "False"
      ]
     },
     "execution_count": 31,
     "metadata": {},
     "output_type": "execute_result"
    }
   ],
   "source": [
    "s.H2.is_located"
   ]
  },
  {
   "cell_type": "code",
   "execution_count": null,
   "metadata": {},
   "outputs": [],
   "source": []
  },
  {
   "cell_type": "code",
   "execution_count": 32,
   "metadata": {},
   "outputs": [
    {
     "data": {
      "text/latex": [
       "$\\displaystyle {spend}_{csh,cacoda,t_{0}} = 300$"
      ],
      "text/plain": [
       "<IPython.core.display.Math object>"
      ]
     },
     "metadata": {},
     "output_type": "display_data"
    },
    {
     "data": {
      "text/latex": [
       "$\\displaystyle {spend}_{csh,madgaon,t_{0}} \\leq M$"
      ],
      "text/plain": [
       "<IPython.core.display.Math object>"
      ]
     },
     "metadata": {},
     "output_type": "display_data"
    },
    {
     "data": {
      "text/latex": [
       "$\\displaystyle {spend}_{csh,madgaon,t_{0}} \\geq m$"
      ],
      "text/plain": [
       "<IPython.core.display.Math object>"
      ]
     },
     "metadata": {},
     "output_type": "display_data"
    },
    {
     "data": {
      "text/latex": [
       "$\\displaystyle {spend}_{csh,net,t_{2}} \\leq 7$"
      ],
      "text/plain": [
       "<IPython.core.display.Math object>"
      ]
     },
     "metadata": {},
     "output_type": "display_data"
    },
    {
     "data": {
      "text/latex": [
       "$\\displaystyle {spend}_{csh,net,t_{2}} \\geq 5$"
      ],
      "text/plain": [
       "<IPython.core.display.Math object>"
      ]
     },
     "metadata": {},
     "output_type": "display_data"
    },
    {
     "data": {
      "text/latex": [
       "$\\displaystyle {spend}_{csh,ponje,t_{1}} = {θ}_{csh,ponje,t_{1}}$"
      ],
      "text/plain": [
       "<IPython.core.display.Math object>"
      ]
     },
     "metadata": {},
     "output_type": "display_data"
    },
    {
     "data": {
      "text/latex": [
       "$\\displaystyle {use}_{lnd,cacoda,t_{1}} = {DtSt}_{lnd,cacoda,t_{1}}$"
      ],
      "text/plain": [
       "<IPython.core.display.Math object>"
      ]
     },
     "metadata": {},
     "output_type": "display_data"
    },
    {
     "data": {
      "text/latex": [
       "$\\displaystyle {use}_{lnd,net,t_{2}} = 100$"
      ],
      "text/plain": [
       "<IPython.core.display.Math object>"
      ]
     },
     "metadata": {},
     "output_type": "display_data"
    },
    {
     "data": {
      "text/latex": [
       "$\\displaystyle {use}_{lnd,ponje,t_{2}} = {DtSt}_{lnd,ponje,t_{2}}$"
      ],
      "text/plain": [
       "<IPython.core.display.Math object>"
      ]
     },
     "metadata": {},
     "output_type": "display_data"
    },
    {
     "data": {
      "text/latex": [
       "$\\displaystyle {exp^{use}}_{csh,lnd,net,t_{0}} = {use}_{lnd,net,t_{0}} \\cdot 20$"
      ],
      "text/plain": [
       "<IPython.core.display.Math object>"
      ]
     },
     "metadata": {},
     "output_type": "display_data"
    },
    {
     "data": {
      "text/latex": [
       "$\\displaystyle {sell}_{H_{2},net,t_{0}} \\leq 4$"
      ],
      "text/plain": [
       "<IPython.core.display.Math object>"
      ]
     },
     "metadata": {},
     "output_type": "display_data"
    },
    {
     "data": {
      "text/latex": [
       "$\\displaystyle {sell}_{H_{2},net,t_{0}} \\geq m$"
      ],
      "text/plain": [
       "<IPython.core.display.Math object>"
      ]
     },
     "metadata": {},
     "output_type": "display_data"
    },
    {
     "data": {
      "text/latex": [
       "$\\displaystyle {sell}_{H_{2},net,t_{1}} \\leq 34$"
      ],
      "text/plain": [
       "<IPython.core.display.Math object>"
      ]
     },
     "metadata": {},
     "output_type": "display_data"
    },
    {
     "data": {
      "text/latex": [
       "$\\displaystyle {sell}_{H_{2},net,t_{1}} \\geq {DtSt^{min}}_{H_{2},net,t_{1}}$"
      ],
      "text/plain": [
       "<IPython.core.display.Math object>"
      ]
     },
     "metadata": {},
     "output_type": "display_data"
    },
    {
     "data": {
      "text/latex": [
       "$\\displaystyle {sell}_{H_{2},net,t_{2}} = {θ}_{H_{2},net,t_{2}}$"
      ],
      "text/plain": [
       "<IPython.core.display.Math object>"
      ]
     },
     "metadata": {},
     "output_type": "display_data"
    },
    {
     "data": {
      "text/latex": [
       "$\\displaystyle {exp^{sell}}_{csh,H_{2},cacoda,t_{0}} = {sell}_{H_{2},cacoda,t_{0}} \\cdot 300$"
      ],
      "text/plain": [
       "<IPython.core.display.Math object>"
      ]
     },
     "metadata": {},
     "output_type": "display_data"
    },
    {
     "data": {
      "text/latex": [
       "$\\displaystyle {exp^{sell}}_{csh,H_{2},madgaon,t_{0}} = {sell}_{H_{2},madgaon,t_{0}} \\cdot m$"
      ],
      "text/plain": [
       "<IPython.core.display.Math object>"
      ]
     },
     "metadata": {},
     "output_type": "display_data"
    },
    {
     "data": {
      "text/latex": [
       "$\\displaystyle {exp^{sell}}_{csh,H_{2},net,t_{0}} = {sell}_{H_{2},net,t_{0}} \\cdot 5$"
      ],
      "text/plain": [
       "<IPython.core.display.Math object>"
      ]
     },
     "metadata": {},
     "output_type": "display_data"
    },
    {
     "data": {
      "text/latex": [
       "$\\displaystyle {exp^{sell}}_{csh,H_{2},ponje,t_{2}} = {sell}_{H_{2},ponje,t_{2}} \\cdot {θ}_{csh,H_{2},ponje,t_{2}}$"
      ],
      "text/plain": [
       "<IPython.core.display.Math object>"
      ]
     },
     "metadata": {},
     "output_type": "display_data"
    },
    {
     "data": {
      "text/latex": [
       "$\\displaystyle {buy}_{Solar,net,t_{0}} \\leq M$"
      ],
      "text/plain": [
       "<IPython.core.display.Math object>"
      ]
     },
     "metadata": {},
     "output_type": "display_data"
    },
    {
     "data": {
      "text/latex": [
       "$\\displaystyle {buy}_{Solar,net,t_{0}} \\geq m$"
      ],
      "text/plain": [
       "<IPython.core.display.Math object>"
      ]
     },
     "metadata": {},
     "output_type": "display_data"
    },
    {
     "data": {
      "text/latex": [
       "$\\displaystyle {buy}_{Wind,net,t_{1}} = {DtSt}_{Wind,net,t_{1}}$"
      ],
      "text/plain": [
       "<IPython.core.display.Math object>"
      ]
     },
     "metadata": {},
     "output_type": "display_data"
    },
    {
     "data": {
      "text/latex": [
       "$\\displaystyle {buy}_{Power,net,t_{1}} \\leq {DtSt^{max}}_{Power,net,t_{1}}$"
      ],
      "text/plain": [
       "<IPython.core.display.Math object>"
      ]
     },
     "metadata": {},
     "output_type": "display_data"
    },
    {
     "data": {
      "text/latex": [
       "$\\displaystyle {buy}_{Power,net,t_{1}} \\geq m$"
      ],
      "text/plain": [
       "<IPython.core.display.Math object>"
      ]
     },
     "metadata": {},
     "output_type": "display_data"
    },
    {
     "data": {
      "text/latex": [
       "$\\displaystyle {buy}_{Uranium,net,t_{2}} = {DtSt}_{Uranium,net,t_{2}}$"
      ],
      "text/plain": [
       "<IPython.core.display.Math object>"
      ]
     },
     "metadata": {},
     "output_type": "display_data"
    },
    {
     "data": {
      "text/latex": [
       "$\\displaystyle {exp^{buy}}_{csh,Uranium,net,t_{0}} = {buy}_{Uranium,net,t_{0}} \\cdot 0.3416$"
      ],
      "text/plain": [
       "<IPython.core.display.Math object>"
      ]
     },
     "metadata": {},
     "output_type": "display_data"
    },
    {
     "data": {
      "text/latex": [
       "$\\displaystyle {buy}_{H2O,net,t_{0}} = {θ}_{H2O,net,t_{0}}$"
      ],
      "text/plain": [
       "<IPython.core.display.Math object>"
      ]
     },
     "metadata": {},
     "output_type": "display_data"
    },
    {
     "data": {
      "text/latex": [
       "$\\displaystyle {exp^{buy}}_{csh,H2O,net,t_{2}} = {DtSt}_{csh,H2O,net,t_{2}} \\cdot {buy}_{H2O,net,t_{2}}$"
      ],
      "text/plain": [
       "<IPython.core.display.Math object>"
      ]
     },
     "metadata": {},
     "output_type": "display_data"
    },
    {
     "data": {
      "text/latex": [
       "$\\displaystyle {buy}_{CH_{4},net,t_{0}} \\leq 40$"
      ],
      "text/plain": [
       "<IPython.core.display.Math object>"
      ]
     },
     "metadata": {},
     "output_type": "display_data"
    },
    {
     "data": {
      "text/latex": [
       "$\\displaystyle {buy}_{CH_{4},net,t_{0}} \\geq 20$"
      ],
      "text/plain": [
       "<IPython.core.display.Math object>"
      ]
     },
     "metadata": {},
     "output_type": "display_data"
    },
    {
     "data": {
      "text/latex": [
       "$\\displaystyle {exp^{buy}}_{csh,CH_{4},net,t_{0}} = {buy}_{CH_{4},net,t_{0}} \\cdot 20$"
      ],
      "text/plain": [
       "<IPython.core.display.Math object>"
      ]
     },
     "metadata": {},
     "output_type": "display_data"
    },
    {
     "data": {
      "text/latex": [
       "$\\displaystyle {exp^{sell}}_{csh,CO_{2 Vent},net,t_{0}} = {sell}_{CO_{2 Vent},net,t_{0}} \\cdot {θ}_{csh,CO_{2 Vent},net,t_{0}}$"
      ],
      "text/plain": [
       "<IPython.core.display.Math object>"
      ]
     },
     "metadata": {},
     "output_type": "display_data"
    },
    {
     "data": {
      "text/latex": [
       "$\\displaystyle {emit^{sell}}_{gwp,CO_{2 Vent},net,t_{2}} = {DtSt}_{gwp,CO_{2 Vent},net,t_{2}} \\cdot {sell}_{CO_{2 Vent},net,t_{2}}$"
      ],
      "text/plain": [
       "<IPython.core.display.Math object>"
      ]
     },
     "metadata": {},
     "output_type": "display_data"
    },
    {
     "data": {
      "text/latex": [
       "$\\displaystyle {sell}_{O_{2},net,t_{0}} \\leq M$"
      ],
      "text/plain": [
       "<IPython.core.display.Math object>"
      ]
     },
     "metadata": {},
     "output_type": "display_data"
    },
    {
     "data": {
      "text/latex": [
       "$\\displaystyle {sell}_{O_{2},net,t_{0}} \\geq 20$"
      ],
      "text/plain": [
       "<IPython.core.display.Math object>"
      ]
     },
     "metadata": {},
     "output_type": "display_data"
    }
   ],
   "source": [
    "s.pprint()"
   ]
  },
  {
   "cell_type": "code",
   "execution_count": 33,
   "metadata": {},
   "outputs": [
    {
     "data": {
      "text/plain": [
       "[[20, M]]"
      ]
     },
     "execution_count": 33,
     "metadata": {},
     "output_type": "execute_result"
    }
   ],
   "source": [
    "s.O2.sell"
   ]
  },
  {
   "cell_type": "code",
   "execution_count": 34,
   "metadata": {},
   "outputs": [
    {
     "data": {
      "text/plain": [
       "'{sell}_{H_{2},net,t_{1}} \\\\leq 34'"
      ]
     },
     "execution_count": 34,
     "metadata": {},
     "output_type": "execute_result"
    }
   ],
   "source": [
    "from sympy import latex\n",
    "\n",
    "latex(s.H2.constraints[2].equation)"
   ]
  },
  {
   "cell_type": "code",
   "execution_count": 35,
   "metadata": {},
   "outputs": [],
   "source": [
    "s.LiR = Material(\n",
    "    emission={s.gwp: {s.t2: 1.484}},\n",
    "    use={s.ponje: 1.5},\n",
    "    basis='kg',\n",
    "    label='Lithium Reserves',\n",
    "    citation='Nelson Bunyui Manjong (2021)',\n",
    ")\n",
    "\n",
    "\n",
    "# LiB = Material(name='LiB', gwp=0.031, toxicity=793, basis='kg', label='Brine-based Lithium',\n",
    "\n",
    "\n",
    "#                citation='Nelson Bunyui Manjong (2021)')\n",
    "\n",
    "\n",
    "# Monocrystalline = Material(name='Mc', gwp=20, resource_cons={H2O: 1.5}, toxicity=40.74, basis='kg', label='Mono',\n",
    "\n",
    "\n",
    "#                            citation='Environmental impact assessment of monocrystalline silicon solar photovoltaic cell production: a case study in China (toxicity)')\n",
    "\n",
    "\n",
    "# Polycrystalline = Material(name='Pc', gwp=26, resource_cons={\n",
    "\n",
    "\n",
    "#                            H2O: 1}, toxicity=15, basis='kg', label='Poly', citation='Environmental Economic Impact Assessments of a ... - MDPI (gwp and toxicity)')\n",
    "\n",
    "\n",
    "# CdTE = Material(name='CdTe', gwp=40, resource_cons={H2O: 0.25}, toxicity=5, basis='kg', label='C',\n",
    "\n",
    "\n",
    "#                 citation='Investigation of life cycle CO2 emissions of the polycrystalline and cadmium telluride PV panels')"
   ]
  },
  {
   "cell_type": "code",
   "execution_count": 36,
   "metadata": {},
   "outputs": [
    {
     "data": {
      "text/latex": [
       "$\\displaystyle {use}_{LiR,ponje,t_{0}} = 1.5$"
      ],
      "text/plain": [
       "<IPython.core.display.Math object>"
      ]
     },
     "metadata": {},
     "output_type": "display_data"
    },
    {
     "data": {
      "text/latex": [
       "$\\displaystyle {emit^{use}}_{gwp,LiR,net,t_{2}} = {use}_{LiR,net,t_{2}} \\cdot 1.484$"
      ],
      "text/plain": [
       "<IPython.core.display.Math object>"
      ]
     },
     "metadata": {},
     "output_type": "display_data"
    }
   ],
   "source": [
    "s.LiR.pprint()"
   ]
  },
  {
   "cell_type": "code",
   "execution_count": 37,
   "metadata": {},
   "outputs": [
    {
     "name": "stderr",
     "output_type": "stream",
     "text": [
      "/Users/cacodcar/Desktop/repos/energiapy/src/energiapy/components/_base/_consistent.py:260: UserWarning: WF.operate:Inconsistent temporal scale for net at t0. Updating to t1\n",
      "  warn(\n"
     ]
    }
   ],
   "source": [
    "s.WF = Process(\n",
    "    conversion={s.Power: {X(0): {s.Wind: -1}, X(1): {s.Wind: -1}}},\n",
    "    produce=[(0, 3), (3, 5)],\n",
    "    capex={s.madgaon: {s.t1: {1462000, I(202233)}}},\n",
    "    opex={4953, I(70)},\n",
    "    capacity=1000,\n",
    "    emission={s.gwp: 50, s.odp: 2900},\n",
    "    material={s.LiR: 1.5},\n",
    "    locations=[s.madgaon, s.ponje],\n",
    "    land=30,\n",
    "    label='Wind mill array',\n",
    "    basis='MW',\n",
    ")\n",
    "\n",
    "\n",
    "s.PV = Process(\n",
    "    sell_price={s.Power: 30},\n",
    "    credit={s.Power: DataFrame({'a': [2]})},\n",
    "    conversion={s.Power: {X(1): {s.Solar: -1.2}, X(2): {s.Solar: -1.5}}},\n",
    "    capex={X(0): 1333, X(1): 1444, X(2): 1555},\n",
    "    opex=22623,\n",
    "    capacity={X(0): 3000, X(1): 4000, X(2): 5000},\n",
    "    locations=s.cacoda,\n",
    "    label='Solar PV',\n",
    "    basis='MW',\n",
    ")\n",
    "\n",
    "\n",
    "s.SMRH = Process(\n",
    "    land=50,\n",
    "    conversion={\n",
    "        s.H2: {\n",
    "            s.Power: -1.11,\n",
    "            s.CH4: -3.76,\n",
    "            s.H2O: -23.7,\n",
    "            s.CO2_Vent: 1.03,\n",
    "            s.CO2: 9.332,\n",
    "        }\n",
    "    },\n",
    "    capex={\n",
    "        2520000,\n",
    "    },\n",
    "    opex={51.5, I(945000)},\n",
    "    capacity=[1000],\n",
    "    label='Steam methane reforming + CCUS',\n",
    ")\n",
    "\n",
    "s.NGCC = Process(\n",
    "    buy_price={s.CH4: 4, s.H2O: 20},\n",
    "    conversion={\n",
    "        s.Power: {\n",
    "            s.CH4: -0.108,\n",
    "            s.H2O: -10,\n",
    "            s.CO2_Vent: 0.297 * 0.05,\n",
    "            s.CO2: 0.297 * 0.95,\n",
    "        }\n",
    "    },\n",
    "    capex=2158928,\n",
    "    opex={4090, I(53320)},\n",
    "    capacity=[1, 100],\n",
    "    label='NGCC + 95% CC',\n",
    ")\n",
    "s.SMR = Process(\n",
    "    capex=2400,\n",
    "    opex={0.03, I(800)},\n",
    "    conversion={s.H2: {s.Power: -1.11, s.CH4: -3.76, s.H2O: -23.7, s.CO2_Vent: 9.4979}},\n",
    "    capacity=1000,\n",
    "    label='Steam methane reforming',\n",
    ")\n",
    "s.H2FC = Process(\n",
    "    buy_price={s.H2: 2},\n",
    "    sell={s.Power: 20},\n",
    "    conversion={s.Power: {s.H2: -0.050}},\n",
    "    capex=1.6 * 10**6,\n",
    "    opex=3.5,\n",
    "    capacity=[1000, 2000],\n",
    "    label='hydrogen fuel cell',\n",
    ")\n",
    "s.DAC = Process(\n",
    "    capex=0.02536,\n",
    "    opex=0.634,\n",
    "    conversion={s.CO2_DAC: {s.Power: -0.193, s.H2O: -4.048}},\n",
    "    capacity=1000,\n",
    "    label='Direct air capture',\n",
    ")\n",
    "# s.PSH = Process(conversion = {s.Power: 0.6}, capex = 3924781, fopex= 17820, vopex = 512.5, store = 10000, capacity=1000, label='Pumped storage hydropower', basis = 'MW')\n",
    "s.ASMR = Process(\n",
    "    buy={s.Uranium: 40},\n",
    "    conversion={s.Power: {s.Uranium: -4.17 * 10 ** (-5), s.H2O: -3.364}},\n",
    "    capex=7988951,\n",
    "    opex=I(0.04 * 0.730),\n",
    "    capacity=1000,\n",
    "    label='Small modular reactors (SMRs)',\n",
    ")\n",
    "s.AWE = Process(\n",
    "    land=(0, 20),\n",
    "    conversion={s.H2: {s.Power: -1, s.O2: 0.7632, s.H2O: -0.1753}},\n",
    "    capex={1.1 * 10**6, I(20)},\n",
    "    opex=I(16918),\n",
    "    capacity=True,\n",
    "    label='Alkaline water electrolysis (AWE)',\n",
    "    citation='Demirhan et al. 2018 AIChE paper',\n",
    ")"
   ]
  },
  {
   "cell_type": "code",
   "execution_count": 38,
   "metadata": {},
   "outputs": [
    {
     "data": {
      "text/plain": [
       "tuple"
      ]
     },
     "execution_count": 38,
     "metadata": {},
     "output_type": "execute_result"
    }
   ],
   "source": [
    "type(s.WF.produce[0])"
   ]
  },
  {
   "cell_type": "code",
   "execution_count": 39,
   "metadata": {},
   "outputs": [
    {
     "data": {
      "text/plain": [
       "x_0^cv_WF"
      ]
     },
     "execution_count": 39,
     "metadata": {},
     "output_type": "execute_result"
    }
   ],
   "source": [
    "list(s.WF.conversion.balance)[0]"
   ]
  },
  {
   "cell_type": "code",
   "execution_count": 40,
   "metadata": {},
   "outputs": [
    {
     "data": {
      "text/plain": [
       "[CO2_DAC, Power, H2O, csh, lnd]"
      ]
     },
     "execution_count": 40,
     "metadata": {},
     "output_type": "execute_result"
    }
   ],
   "source": [
    "s.DAC.commodities"
   ]
  },
  {
   "cell_type": "code",
   "execution_count": 41,
   "metadata": {},
   "outputs": [
    {
     "name": "stdout",
     "output_type": "stream",
     "text": [
      "CH4\n",
      "CH4 [cacoda, madgaon, ponje]\n",
      "CO2\n",
      "CO2 [cacoda, madgaon, ponje]\n",
      "CO2_DAC\n",
      "CO2_DAC [cacoda, madgaon, ponje]\n",
      "CO2_Vent\n",
      "CO2_Vent [cacoda, madgaon, ponje]\n",
      "H2\n",
      "H2 [cacoda, madgaon, ponje]\n",
      "H2O\n",
      "H2O [cacoda, madgaon, ponje]\n",
      "O2\n",
      "O2 [cacoda, madgaon, ponje]\n",
      "Power\n",
      "Power [madgaon, ponje]\n",
      "Solar\n",
      "Solar [cacoda]\n",
      "Uranium\n",
      "Uranium [cacoda, madgaon, ponje]\n",
      "Wind\n",
      "Wind [madgaon, ponje]\n"
     ]
    }
   ],
   "source": [
    "for i in s.resources:\n",
    "    print(i)\n",
    "    print(i, i.locations)"
   ]
  },
  {
   "cell_type": "code",
   "execution_count": 42,
   "metadata": {},
   "outputs": [
    {
     "data": {
      "text/latex": [
       "$\\displaystyle {capacity}_{PV,net,t_{0},x^{cy}_{0 PV}} = 3000$"
      ],
      "text/plain": [
       "<IPython.core.display.Math object>"
      ]
     },
     "metadata": {},
     "output_type": "display_data"
    },
    {
     "data": {
      "text/latex": [
       "$\\displaystyle {capacity}_{PV,net,t_{0},x^{cy}_{1 PV}} = 4000$"
      ],
      "text/plain": [
       "<IPython.core.display.Math object>"
      ]
     },
     "metadata": {},
     "output_type": "display_data"
    },
    {
     "data": {
      "text/latex": [
       "$\\displaystyle {capacity}_{PV,net,t_{0},x^{cy}_{2 PV}} = 5000$"
      ],
      "text/plain": [
       "<IPython.core.display.Math object>"
      ]
     },
     "metadata": {},
     "output_type": "display_data"
    },
    {
     "data": {
      "text/latex": [
       "$\\displaystyle {operate}_{PV,net,t_{0}} \\leq {capacity}_{PV,net,t_{0}} \\cdot 1$"
      ],
      "text/plain": [
       "<IPython.core.display.Math object>"
      ]
     },
     "metadata": {},
     "output_type": "display_data"
    },
    {
     "data": {
      "text/latex": [
       "$\\displaystyle {operate}_{PV,net,t_{0}} \\geq {capacity}_{PV,net,t_{0}} \\cdot m$"
      ],
      "text/plain": [
       "<IPython.core.display.Math object>"
      ]
     },
     "metadata": {},
     "output_type": "display_data"
    },
    {
     "data": {
      "text/latex": [
       "$\\displaystyle {capex}_{csh,PV,net,t_{0},x^{cx}_{0 PV}} = {capacity}_{PV,net,t_{0},x^{cx}_{0 PV}} \\cdot 1333$"
      ],
      "text/plain": [
       "<IPython.core.display.Math object>"
      ]
     },
     "metadata": {},
     "output_type": "display_data"
    },
    {
     "data": {
      "text/latex": [
       "$\\displaystyle {capex}_{csh,PV,net,t_{0},x^{cx}_{1 PV}} = {capacity}_{PV,net,t_{0},x^{cx}_{1 PV}} \\cdot 1444$"
      ],
      "text/plain": [
       "<IPython.core.display.Math object>"
      ]
     },
     "metadata": {},
     "output_type": "display_data"
    },
    {
     "data": {
      "text/latex": [
       "$\\displaystyle {capex}_{csh,PV,net,t_{0},x^{cx}_{2 PV}} = {capacity}_{PV,net,t_{0},x^{cx}_{2 PV}} \\cdot 1555$"
      ],
      "text/plain": [
       "<IPython.core.display.Math object>"
      ]
     },
     "metadata": {},
     "output_type": "display_data"
    },
    {
     "data": {
      "text/latex": [
       "$\\displaystyle {opex}_{csh,PV,net,t_{0}} = {operate}_{PV,net,t_{0}} \\cdot 22623$"
      ],
      "text/plain": [
       "<IPython.core.display.Math object>"
      ]
     },
     "metadata": {},
     "output_type": "display_data"
    },
    {
     "data": {
      "text/latex": [
       "$\\displaystyle {exp^{sell}}_{csh,Power,PV,net,t_{0}} = {sell}_{Power,PV,net,t_{0}} \\cdot 30$"
      ],
      "text/plain": [
       "<IPython.core.display.Math object>"
      ]
     },
     "metadata": {},
     "output_type": "display_data"
    }
   ],
   "source": [
    "s.PV.pprint()"
   ]
  },
  {
   "cell_type": "code",
   "execution_count": 43,
   "metadata": {},
   "outputs": [
    {
     "data": {
      "text/latex": [
       "$\\displaystyle {Cap^{max}_{F}}_{WF,net,t_{1}}$"
      ],
      "text/plain": [
       "Cap_F^max[WF, net, t1]"
      ]
     },
     "execution_count": 43,
     "metadata": {},
     "output_type": "execute_result"
    }
   ],
   "source": [
    "s.WF.parameters[0].sym"
   ]
  },
  {
   "cell_type": "code",
   "execution_count": 44,
   "metadata": {},
   "outputs": [],
   "source": [
    "from energiapy.disposition.bounds import VarBnd"
   ]
  },
  {
   "cell_type": "code",
   "execution_count": 45,
   "metadata": {},
   "outputs": [
    {
     "data": {
      "text/plain": [
       "'LB'"
      ]
     },
     "execution_count": 45,
     "metadata": {},
     "output_type": "execute_result"
    }
   ],
   "source": [
    "VarBnd.LB.name"
   ]
  },
  {
   "cell_type": "code",
   "execution_count": 46,
   "metadata": {},
   "outputs": [
    {
     "data": {
      "text/plain": [
       "[Cap_F^max[PV, net, t0],\n",
       " Cap_F^min[PV, net, t0],\n",
       " Capacity[PV, net, t0, x_0^cy_PV],\n",
       " Capacity[PV, net, t0, x_1^cy_PV],\n",
       " Capacity[PV, net, t0, x_2^cy_PV],\n",
       " Capex[csh, PV, net, t0, x_0^cx_PV],\n",
       " Capex[csh, PV, net, t0, x_1^cx_PV],\n",
       " Capex[csh, PV, net, t0, x_2^cx_PV],\n",
       " Credit[csh, Power, PV, net, t0],\n",
       " Opex[csh, PV, net, t0],\n",
       " Price^sell[csh, Power, PV, net, t0]]"
      ]
     },
     "execution_count": 46,
     "metadata": {},
     "output_type": "execute_result"
    }
   ],
   "source": [
    "s.PV.parameters"
   ]
  },
  {
   "cell_type": "code",
   "execution_count": 47,
   "metadata": {},
   "outputs": [
    {
     "data": {
      "text/plain": [
       "{'ply': None,\n",
       " 'emn': None,\n",
       " 'csh': None,\n",
       " 'res': None,\n",
       " 'mat': None,\n",
       " 'lnd': None,\n",
       " 'pro': PV,\n",
       " 'stg': None,\n",
       " 'trn': None,\n",
       " 'loc': None,\n",
       " 'lnk': None,\n",
       " 'ntw': net,\n",
       " 'scl': t0,\n",
       " 'mde': None}"
      ]
     },
     "execution_count": 47,
     "metadata": {},
     "output_type": "execute_result"
    }
   ],
   "source": [
    "s.PV.parameters[1].disposition.args()"
   ]
  },
  {
   "cell_type": "code",
   "execution_count": 48,
   "metadata": {},
   "outputs": [
    {
     "data": {
      "text/latex": [
       "$\\displaystyle x^{cv}_{0 WF}$"
      ],
      "text/plain": [
       "x_0^cv_WF"
      ]
     },
     "execution_count": 48,
     "metadata": {},
     "output_type": "execute_result"
    }
   ],
   "source": [
    "list(s.WF.conversion.balance)[0].sym"
   ]
  },
  {
   "cell_type": "code",
   "execution_count": null,
   "metadata": {},
   "outputs": [],
   "source": []
  },
  {
   "cell_type": "code",
   "execution_count": 49,
   "metadata": {},
   "outputs": [
    {
     "data": {
      "text/latex": [
       "$\\displaystyle {capacity}_{WF,net,t_{0}} = 1000$"
      ],
      "text/plain": [
       "<IPython.core.display.Math object>"
      ]
     },
     "metadata": {},
     "output_type": "display_data"
    },
    {
     "data": {
      "text/latex": [
       "$\\displaystyle {operate}_{WF,net,t_{1}} \\leq {capacity}_{WF,net,t_{1}} \\cdot {θ^{max}}_{WF,net,t_{1}}$"
      ],
      "text/plain": [
       "<IPython.core.display.Math object>"
      ]
     },
     "metadata": {},
     "output_type": "display_data"
    },
    {
     "data": {
      "text/latex": [
       "$\\displaystyle {operate}_{WF,net,t_{1}} \\geq {capacity}_{WF,net,t_{1}} \\cdot {θ^{min}}_{WF,net,t_{1}}$"
      ],
      "text/plain": [
       "<IPython.core.display.Math object>"
      ]
     },
     "metadata": {},
     "output_type": "display_data"
    },
    {
     "data": {
      "text/latex": [
       "$\\displaystyle {used}_{LiR,WF,net,t_{0}} = {capacity}_{WF,net,t_{0}} \\cdot 1.5$"
      ],
      "text/plain": [
       "<IPython.core.display.Math object>"
      ]
     },
     "metadata": {},
     "output_type": "display_data"
    },
    {
     "data": {
      "text/latex": [
       "$\\displaystyle {capex^{I}}_{csh,WF,madgaon,t_{1}} = 202233$"
      ],
      "text/plain": [
       "<IPython.core.display.Math object>"
      ]
     },
     "metadata": {},
     "output_type": "display_data"
    },
    {
     "data": {
      "text/latex": [
       "$\\displaystyle {opex}_{csh,WF,net,t_{0}} = {operate}_{WF,net,t_{0}} \\cdot 4953$"
      ],
      "text/plain": [
       "<IPython.core.display.Math object>"
      ]
     },
     "metadata": {},
     "output_type": "display_data"
    },
    {
     "data": {
      "text/latex": [
       "$\\displaystyle {emit^{opn}}_{gwp,WF,net,t_{0}} = {capacity}_{WF,net,t_{0}} \\cdot 50$"
      ],
      "text/plain": [
       "<IPython.core.display.Math object>"
      ]
     },
     "metadata": {},
     "output_type": "display_data"
    },
    {
     "data": {
      "text/latex": [
       "$\\displaystyle {used}_{lnd,WF,net,t_{0}} = {capacity}_{WF,net,t_{0}} \\cdot 30$"
      ],
      "text/plain": [
       "<IPython.core.display.Math object>"
      ]
     },
     "metadata": {},
     "output_type": "display_data"
    },
    {
     "data": {
      "text/latex": [
       "$\\displaystyle {emit^{opn}}_{odp,WF,net,t_{0}} = {capacity}_{WF,net,t_{0}} \\cdot 2900$"
      ],
      "text/plain": [
       "<IPython.core.display.Math object>"
      ]
     },
     "metadata": {},
     "output_type": "display_data"
    }
   ],
   "source": [
    "s.WF.pprint()"
   ]
  },
  {
   "cell_type": "code",
   "execution_count": 50,
   "metadata": {},
   "outputs": [],
   "source": [
    "s.LiI = Storage(capacity=[2000], inventory=s.Power, capacity_in=[40], capacity_out=[20])\n",
    "s.LiI2 = Storage(capacity=[2000], inventory={s.Power: 0.6})\n",
    "s.H2Stg = Storage(\n",
    "    capacity=[2000], inventory={s.H2: {X(0): {s.Power: 0.8}, X(1): {s.Power: 0.9}}}\n",
    ")"
   ]
  },
  {
   "cell_type": "code",
   "execution_count": 51,
   "metadata": {},
   "outputs": [
    {
     "data": {
      "text/latex": [
       "$\\displaystyle {spend}_{csh,cacoda,t_{0}} = 300$"
      ],
      "text/plain": [
       "<IPython.core.display.Math object>"
      ]
     },
     "metadata": {},
     "output_type": "display_data"
    },
    {
     "data": {
      "text/latex": [
       "$\\displaystyle {spend}_{csh,madgaon,t_{0}} \\leq M$"
      ],
      "text/plain": [
       "<IPython.core.display.Math object>"
      ]
     },
     "metadata": {},
     "output_type": "display_data"
    },
    {
     "data": {
      "text/latex": [
       "$\\displaystyle {spend}_{csh,madgaon,t_{0}} \\geq m$"
      ],
      "text/plain": [
       "<IPython.core.display.Math object>"
      ]
     },
     "metadata": {},
     "output_type": "display_data"
    },
    {
     "data": {
      "text/latex": [
       "$\\displaystyle {spend}_{csh,net,t_{2}} \\leq 7$"
      ],
      "text/plain": [
       "<IPython.core.display.Math object>"
      ]
     },
     "metadata": {},
     "output_type": "display_data"
    },
    {
     "data": {
      "text/latex": [
       "$\\displaystyle {spend}_{csh,net,t_{2}} \\geq 5$"
      ],
      "text/plain": [
       "<IPython.core.display.Math object>"
      ]
     },
     "metadata": {},
     "output_type": "display_data"
    },
    {
     "data": {
      "text/latex": [
       "$\\displaystyle {spend}_{csh,ponje,t_{1}} = {θ}_{csh,ponje,t_{1}}$"
      ],
      "text/plain": [
       "<IPython.core.display.Math object>"
      ]
     },
     "metadata": {},
     "output_type": "display_data"
    },
    {
     "data": {
      "text/latex": [
       "$\\displaystyle {use}_{lnd,cacoda,t_{1}} = {DtSt}_{lnd,cacoda,t_{1}}$"
      ],
      "text/plain": [
       "<IPython.core.display.Math object>"
      ]
     },
     "metadata": {},
     "output_type": "display_data"
    },
    {
     "data": {
      "text/latex": [
       "$\\displaystyle {use}_{lnd,net,t_{2}} = 100$"
      ],
      "text/plain": [
       "<IPython.core.display.Math object>"
      ]
     },
     "metadata": {},
     "output_type": "display_data"
    },
    {
     "data": {
      "text/latex": [
       "$\\displaystyle {use}_{lnd,ponje,t_{2}} = {DtSt}_{lnd,ponje,t_{2}}$"
      ],
      "text/plain": [
       "<IPython.core.display.Math object>"
      ]
     },
     "metadata": {},
     "output_type": "display_data"
    },
    {
     "data": {
      "text/latex": [
       "$\\displaystyle {exp^{use}}_{csh,lnd,net,t_{0}} = {use}_{lnd,net,t_{0}} \\cdot 20$"
      ],
      "text/plain": [
       "<IPython.core.display.Math object>"
      ]
     },
     "metadata": {},
     "output_type": "display_data"
    },
    {
     "data": {
      "text/latex": [
       "$\\displaystyle {sell}_{H_{2},net,t_{0}} \\leq 4$"
      ],
      "text/plain": [
       "<IPython.core.display.Math object>"
      ]
     },
     "metadata": {},
     "output_type": "display_data"
    },
    {
     "data": {
      "text/latex": [
       "$\\displaystyle {sell}_{H_{2},net,t_{0}} \\geq m$"
      ],
      "text/plain": [
       "<IPython.core.display.Math object>"
      ]
     },
     "metadata": {},
     "output_type": "display_data"
    },
    {
     "data": {
      "text/latex": [
       "$\\displaystyle {sell}_{H_{2},net,t_{1}} \\leq 34$"
      ],
      "text/plain": [
       "<IPython.core.display.Math object>"
      ]
     },
     "metadata": {},
     "output_type": "display_data"
    },
    {
     "data": {
      "text/latex": [
       "$\\displaystyle {sell}_{H_{2},net,t_{1}} \\geq {DtSt^{min}}_{H_{2},net,t_{1}}$"
      ],
      "text/plain": [
       "<IPython.core.display.Math object>"
      ]
     },
     "metadata": {},
     "output_type": "display_data"
    },
    {
     "data": {
      "text/latex": [
       "$\\displaystyle {sell}_{H_{2},net,t_{2}} = {θ}_{H_{2},net,t_{2}}$"
      ],
      "text/plain": [
       "<IPython.core.display.Math object>"
      ]
     },
     "metadata": {},
     "output_type": "display_data"
    },
    {
     "data": {
      "text/latex": [
       "$\\displaystyle {exp^{sell}}_{csh,H_{2},cacoda,t_{0}} = {sell}_{H_{2},cacoda,t_{0}} \\cdot 300$"
      ],
      "text/plain": [
       "<IPython.core.display.Math object>"
      ]
     },
     "metadata": {},
     "output_type": "display_data"
    },
    {
     "data": {
      "text/latex": [
       "$\\displaystyle {exp^{sell}}_{csh,H_{2},madgaon,t_{0}} = {sell}_{H_{2},madgaon,t_{0}} \\cdot m$"
      ],
      "text/plain": [
       "<IPython.core.display.Math object>"
      ]
     },
     "metadata": {},
     "output_type": "display_data"
    },
    {
     "data": {
      "text/latex": [
       "$\\displaystyle {exp^{sell}}_{csh,H_{2},net,t_{0}} = {sell}_{H_{2},net,t_{0}} \\cdot 5$"
      ],
      "text/plain": [
       "<IPython.core.display.Math object>"
      ]
     },
     "metadata": {},
     "output_type": "display_data"
    },
    {
     "data": {
      "text/latex": [
       "$\\displaystyle {exp^{sell}}_{csh,H_{2},ponje,t_{2}} = {sell}_{H_{2},ponje,t_{2}} \\cdot {θ}_{csh,H_{2},ponje,t_{2}}$"
      ],
      "text/plain": [
       "<IPython.core.display.Math object>"
      ]
     },
     "metadata": {},
     "output_type": "display_data"
    },
    {
     "data": {
      "text/latex": [
       "$\\displaystyle {buy}_{Solar,net,t_{0}} \\leq M$"
      ],
      "text/plain": [
       "<IPython.core.display.Math object>"
      ]
     },
     "metadata": {},
     "output_type": "display_data"
    },
    {
     "data": {
      "text/latex": [
       "$\\displaystyle {buy}_{Solar,net,t_{0}} \\geq m$"
      ],
      "text/plain": [
       "<IPython.core.display.Math object>"
      ]
     },
     "metadata": {},
     "output_type": "display_data"
    },
    {
     "data": {
      "text/latex": [
       "$\\displaystyle {buy}_{Wind,net,t_{1}} = {DtSt}_{Wind,net,t_{1}}$"
      ],
      "text/plain": [
       "<IPython.core.display.Math object>"
      ]
     },
     "metadata": {},
     "output_type": "display_data"
    },
    {
     "data": {
      "text/latex": [
       "$\\displaystyle {buy}_{Power,net,t_{1}} \\leq {DtSt^{max}}_{Power,net,t_{1}}$"
      ],
      "text/plain": [
       "<IPython.core.display.Math object>"
      ]
     },
     "metadata": {},
     "output_type": "display_data"
    },
    {
     "data": {
      "text/latex": [
       "$\\displaystyle {buy}_{Power,net,t_{1}} \\geq m$"
      ],
      "text/plain": [
       "<IPython.core.display.Math object>"
      ]
     },
     "metadata": {},
     "output_type": "display_data"
    },
    {
     "data": {
      "text/latex": [
       "$\\displaystyle {buy}_{Uranium,net,t_{2}} = {DtSt}_{Uranium,net,t_{2}}$"
      ],
      "text/plain": [
       "<IPython.core.display.Math object>"
      ]
     },
     "metadata": {},
     "output_type": "display_data"
    },
    {
     "data": {
      "text/latex": [
       "$\\displaystyle {exp^{buy}}_{csh,Uranium,net,t_{0}} = {buy}_{Uranium,net,t_{0}} \\cdot 0.3416$"
      ],
      "text/plain": [
       "<IPython.core.display.Math object>"
      ]
     },
     "metadata": {},
     "output_type": "display_data"
    },
    {
     "data": {
      "text/latex": [
       "$\\displaystyle {buy}_{H2O,net,t_{0}} = {θ}_{H2O,net,t_{0}}$"
      ],
      "text/plain": [
       "<IPython.core.display.Math object>"
      ]
     },
     "metadata": {},
     "output_type": "display_data"
    },
    {
     "data": {
      "text/latex": [
       "$\\displaystyle {exp^{buy}}_{csh,H2O,net,t_{2}} = {DtSt}_{csh,H2O,net,t_{2}} \\cdot {buy}_{H2O,net,t_{2}}$"
      ],
      "text/plain": [
       "<IPython.core.display.Math object>"
      ]
     },
     "metadata": {},
     "output_type": "display_data"
    },
    {
     "data": {
      "text/latex": [
       "$\\displaystyle {buy}_{CH_{4},net,t_{0}} \\leq 40$"
      ],
      "text/plain": [
       "<IPython.core.display.Math object>"
      ]
     },
     "metadata": {},
     "output_type": "display_data"
    },
    {
     "data": {
      "text/latex": [
       "$\\displaystyle {buy}_{CH_{4},net,t_{0}} \\geq 20$"
      ],
      "text/plain": [
       "<IPython.core.display.Math object>"
      ]
     },
     "metadata": {},
     "output_type": "display_data"
    },
    {
     "data": {
      "text/latex": [
       "$\\displaystyle {exp^{buy}}_{csh,CH_{4},net,t_{0}} = {buy}_{CH_{4},net,t_{0}} \\cdot 20$"
      ],
      "text/plain": [
       "<IPython.core.display.Math object>"
      ]
     },
     "metadata": {},
     "output_type": "display_data"
    },
    {
     "data": {
      "text/latex": [
       "$\\displaystyle {exp^{sell}}_{csh,CO_{2 Vent},net,t_{0}} = {sell}_{CO_{2 Vent},net,t_{0}} \\cdot {θ}_{csh,CO_{2 Vent},net,t_{0}}$"
      ],
      "text/plain": [
       "<IPython.core.display.Math object>"
      ]
     },
     "metadata": {},
     "output_type": "display_data"
    },
    {
     "data": {
      "text/latex": [
       "$\\displaystyle {emit^{sell}}_{gwp,CO_{2 Vent},net,t_{2}} = {DtSt}_{gwp,CO_{2 Vent},net,t_{2}} \\cdot {sell}_{CO_{2 Vent},net,t_{2}}$"
      ],
      "text/plain": [
       "<IPython.core.display.Math object>"
      ]
     },
     "metadata": {},
     "output_type": "display_data"
    },
    {
     "data": {
      "text/latex": [
       "$\\displaystyle {sell}_{O_{2},net,t_{0}} \\leq M$"
      ],
      "text/plain": [
       "<IPython.core.display.Math object>"
      ]
     },
     "metadata": {},
     "output_type": "display_data"
    },
    {
     "data": {
      "text/latex": [
       "$\\displaystyle {sell}_{O_{2},net,t_{0}} \\geq 20$"
      ],
      "text/plain": [
       "<IPython.core.display.Math object>"
      ]
     },
     "metadata": {},
     "output_type": "display_data"
    },
    {
     "data": {
      "text/latex": [
       "$\\displaystyle {use}_{LiR,ponje,t_{0}} = 1.5$"
      ],
      "text/plain": [
       "<IPython.core.display.Math object>"
      ]
     },
     "metadata": {},
     "output_type": "display_data"
    },
    {
     "data": {
      "text/latex": [
       "$\\displaystyle {emit^{use}}_{gwp,LiR,net,t_{2}} = {use}_{LiR,net,t_{2}} \\cdot 1.484$"
      ],
      "text/plain": [
       "<IPython.core.display.Math object>"
      ]
     },
     "metadata": {},
     "output_type": "display_data"
    },
    {
     "data": {
      "text/latex": [
       "$\\displaystyle {capacity}_{WF,net,t_{0}} = 1000$"
      ],
      "text/plain": [
       "<IPython.core.display.Math object>"
      ]
     },
     "metadata": {},
     "output_type": "display_data"
    },
    {
     "data": {
      "text/latex": [
       "$\\displaystyle {operate}_{WF,net,t_{1}} \\leq {capacity}_{WF,net,t_{1}} \\cdot {θ^{max}}_{WF,net,t_{1}}$"
      ],
      "text/plain": [
       "<IPython.core.display.Math object>"
      ]
     },
     "metadata": {},
     "output_type": "display_data"
    },
    {
     "data": {
      "text/latex": [
       "$\\displaystyle {operate}_{WF,net,t_{1}} \\geq {capacity}_{WF,net,t_{1}} \\cdot {θ^{min}}_{WF,net,t_{1}}$"
      ],
      "text/plain": [
       "<IPython.core.display.Math object>"
      ]
     },
     "metadata": {},
     "output_type": "display_data"
    },
    {
     "data": {
      "text/latex": [
       "$\\displaystyle {used}_{LiR,WF,net,t_{0}} = {capacity}_{WF,net,t_{0}} \\cdot 1.5$"
      ],
      "text/plain": [
       "<IPython.core.display.Math object>"
      ]
     },
     "metadata": {},
     "output_type": "display_data"
    },
    {
     "data": {
      "text/latex": [
       "$\\displaystyle {capex^{I}}_{csh,WF,madgaon,t_{1}} = 202233$"
      ],
      "text/plain": [
       "<IPython.core.display.Math object>"
      ]
     },
     "metadata": {},
     "output_type": "display_data"
    },
    {
     "data": {
      "text/latex": [
       "$\\displaystyle {opex}_{csh,WF,net,t_{0}} = {operate}_{WF,net,t_{0}} \\cdot 4953$"
      ],
      "text/plain": [
       "<IPython.core.display.Math object>"
      ]
     },
     "metadata": {},
     "output_type": "display_data"
    },
    {
     "data": {
      "text/latex": [
       "$\\displaystyle {emit^{opn}}_{gwp,WF,net,t_{0}} = {capacity}_{WF,net,t_{0}} \\cdot 50$"
      ],
      "text/plain": [
       "<IPython.core.display.Math object>"
      ]
     },
     "metadata": {},
     "output_type": "display_data"
    },
    {
     "data": {
      "text/latex": [
       "$\\displaystyle {used}_{lnd,WF,net,t_{0}} = {capacity}_{WF,net,t_{0}} \\cdot 30$"
      ],
      "text/plain": [
       "<IPython.core.display.Math object>"
      ]
     },
     "metadata": {},
     "output_type": "display_data"
    },
    {
     "data": {
      "text/latex": [
       "$\\displaystyle {emit^{opn}}_{odp,WF,net,t_{0}} = {capacity}_{WF,net,t_{0}} \\cdot 2900$"
      ],
      "text/plain": [
       "<IPython.core.display.Math object>"
      ]
     },
     "metadata": {},
     "output_type": "display_data"
    },
    {
     "data": {
      "text/latex": [
       "$\\displaystyle {capacity}_{PV,net,t_{0},x^{cy}_{0 PV}} = 3000$"
      ],
      "text/plain": [
       "<IPython.core.display.Math object>"
      ]
     },
     "metadata": {},
     "output_type": "display_data"
    },
    {
     "data": {
      "text/latex": [
       "$\\displaystyle {capacity}_{PV,net,t_{0},x^{cy}_{1 PV}} = 4000$"
      ],
      "text/plain": [
       "<IPython.core.display.Math object>"
      ]
     },
     "metadata": {},
     "output_type": "display_data"
    },
    {
     "data": {
      "text/latex": [
       "$\\displaystyle {capacity}_{PV,net,t_{0},x^{cy}_{2 PV}} = 5000$"
      ],
      "text/plain": [
       "<IPython.core.display.Math object>"
      ]
     },
     "metadata": {},
     "output_type": "display_data"
    },
    {
     "data": {
      "text/latex": [
       "$\\displaystyle {operate}_{PV,net,t_{0}} \\leq {capacity}_{PV,net,t_{0}} \\cdot 1$"
      ],
      "text/plain": [
       "<IPython.core.display.Math object>"
      ]
     },
     "metadata": {},
     "output_type": "display_data"
    },
    {
     "data": {
      "text/latex": [
       "$\\displaystyle {operate}_{PV,net,t_{0}} \\geq {capacity}_{PV,net,t_{0}} \\cdot m$"
      ],
      "text/plain": [
       "<IPython.core.display.Math object>"
      ]
     },
     "metadata": {},
     "output_type": "display_data"
    },
    {
     "data": {
      "text/latex": [
       "$\\displaystyle {capex}_{csh,PV,net,t_{0},x^{cx}_{0 PV}} = {capacity}_{PV,net,t_{0},x^{cx}_{0 PV}} \\cdot 1333$"
      ],
      "text/plain": [
       "<IPython.core.display.Math object>"
      ]
     },
     "metadata": {},
     "output_type": "display_data"
    },
    {
     "data": {
      "text/latex": [
       "$\\displaystyle {capex}_{csh,PV,net,t_{0},x^{cx}_{1 PV}} = {capacity}_{PV,net,t_{0},x^{cx}_{1 PV}} \\cdot 1444$"
      ],
      "text/plain": [
       "<IPython.core.display.Math object>"
      ]
     },
     "metadata": {},
     "output_type": "display_data"
    },
    {
     "data": {
      "text/latex": [
       "$\\displaystyle {capex}_{csh,PV,net,t_{0},x^{cx}_{2 PV}} = {capacity}_{PV,net,t_{0},x^{cx}_{2 PV}} \\cdot 1555$"
      ],
      "text/plain": [
       "<IPython.core.display.Math object>"
      ]
     },
     "metadata": {},
     "output_type": "display_data"
    },
    {
     "data": {
      "text/latex": [
       "$\\displaystyle {opex}_{csh,PV,net,t_{0}} = {operate}_{PV,net,t_{0}} \\cdot 22623$"
      ],
      "text/plain": [
       "<IPython.core.display.Math object>"
      ]
     },
     "metadata": {},
     "output_type": "display_data"
    },
    {
     "data": {
      "text/latex": [
       "$\\displaystyle {exp^{sell}}_{csh,Power,PV,net,t_{0}} = {sell}_{Power,PV,net,t_{0}} \\cdot 30$"
      ],
      "text/plain": [
       "<IPython.core.display.Math object>"
      ]
     },
     "metadata": {},
     "output_type": "display_data"
    },
    {
     "data": {
      "text/latex": [
       "$\\displaystyle {capacity}_{SMRH,net,t_{0}} \\leq 1000$"
      ],
      "text/plain": [
       "<IPython.core.display.Math object>"
      ]
     },
     "metadata": {},
     "output_type": "display_data"
    },
    {
     "data": {
      "text/latex": [
       "$\\displaystyle {capacity}_{SMRH,net,t_{0}} \\geq m$"
      ],
      "text/plain": [
       "<IPython.core.display.Math object>"
      ]
     },
     "metadata": {},
     "output_type": "display_data"
    },
    {
     "data": {
      "text/latex": [
       "$\\displaystyle {capex}_{csh,SMRH,net,t_{0}} = {capacity}_{SMRH,net,t_{0}} \\cdot 2520000$"
      ],
      "text/plain": [
       "<IPython.core.display.Math object>"
      ]
     },
     "metadata": {},
     "output_type": "display_data"
    },
    {
     "data": {
      "text/latex": [
       "$\\displaystyle {used}_{lnd,SMRH,net,t_{0}} = {capacity}_{SMRH,net,t_{0}} \\cdot 50$"
      ],
      "text/plain": [
       "<IPython.core.display.Math object>"
      ]
     },
     "metadata": {},
     "output_type": "display_data"
    },
    {
     "data": {
      "text/latex": [
       "$\\displaystyle {capacity}_{NGCC,net,t_{0}} \\leq 100$"
      ],
      "text/plain": [
       "<IPython.core.display.Math object>"
      ]
     },
     "metadata": {},
     "output_type": "display_data"
    },
    {
     "data": {
      "text/latex": [
       "$\\displaystyle {capacity}_{NGCC,net,t_{0}} \\geq 1$"
      ],
      "text/plain": [
       "<IPython.core.display.Math object>"
      ]
     },
     "metadata": {},
     "output_type": "display_data"
    },
    {
     "data": {
      "text/latex": [
       "$\\displaystyle {exp^{buy}}_{csh,CH_{4},NGCC,net,t_{0}} = {buy}_{CH_{4},NGCC,net,t_{0}} \\cdot 4$"
      ],
      "text/plain": [
       "<IPython.core.display.Math object>"
      ]
     },
     "metadata": {},
     "output_type": "display_data"
    },
    {
     "data": {
      "text/latex": [
       "$\\displaystyle {exp^{buy}}_{csh,H2O,NGCC,net,t_{0}} = {buy}_{H2O,NGCC,net,t_{0}} \\cdot 20$"
      ],
      "text/plain": [
       "<IPython.core.display.Math object>"
      ]
     },
     "metadata": {},
     "output_type": "display_data"
    },
    {
     "data": {
      "text/latex": [
       "$\\displaystyle {capex}_{csh,NGCC,net,t_{0}} = {capacity}_{NGCC,net,t_{0}} \\cdot 2158928$"
      ],
      "text/plain": [
       "<IPython.core.display.Math object>"
      ]
     },
     "metadata": {},
     "output_type": "display_data"
    },
    {
     "data": {
      "text/latex": [
       "$\\displaystyle {capacity}_{SMR,net,t_{0}} = 1000$"
      ],
      "text/plain": [
       "<IPython.core.display.Math object>"
      ]
     },
     "metadata": {},
     "output_type": "display_data"
    },
    {
     "data": {
      "text/latex": [
       "$\\displaystyle {operate}_{SMR,net,t_{0}} \\leq {capacity}_{SMR,net,t_{0}} \\cdot 1$"
      ],
      "text/plain": [
       "<IPython.core.display.Math object>"
      ]
     },
     "metadata": {},
     "output_type": "display_data"
    },
    {
     "data": {
      "text/latex": [
       "$\\displaystyle {operate}_{SMR,net,t_{0}} \\geq {capacity}_{SMR,net,t_{0}} \\cdot m$"
      ],
      "text/plain": [
       "<IPython.core.display.Math object>"
      ]
     },
     "metadata": {},
     "output_type": "display_data"
    },
    {
     "data": {
      "text/latex": [
       "$\\displaystyle {capex}_{csh,SMR,net,t_{0}} = {capacity}_{SMR,net,t_{0}} \\cdot 2400$"
      ],
      "text/plain": [
       "<IPython.core.display.Math object>"
      ]
     },
     "metadata": {},
     "output_type": "display_data"
    },
    {
     "data": {
      "text/latex": [
       "$\\displaystyle {capacity}_{H2FC,net,t_{0}} \\leq 2000$"
      ],
      "text/plain": [
       "<IPython.core.display.Math object>"
      ]
     },
     "metadata": {},
     "output_type": "display_data"
    },
    {
     "data": {
      "text/latex": [
       "$\\displaystyle {capacity}_{H2FC,net,t_{0}} \\geq 1000$"
      ],
      "text/plain": [
       "<IPython.core.display.Math object>"
      ]
     },
     "metadata": {},
     "output_type": "display_data"
    },
    {
     "data": {
      "text/latex": [
       "$\\displaystyle {sell}_{Power,H2FC,net,t_{0}} = 20$"
      ],
      "text/plain": [
       "<IPython.core.display.Math object>"
      ]
     },
     "metadata": {},
     "output_type": "display_data"
    },
    {
     "data": {
      "text/latex": [
       "$\\displaystyle {exp^{buy}}_{csh,H_{2},H2FC,net,t_{0}} = {buy}_{H_{2},H2FC,net,t_{0}} \\cdot 2$"
      ],
      "text/plain": [
       "<IPython.core.display.Math object>"
      ]
     },
     "metadata": {},
     "output_type": "display_data"
    },
    {
     "data": {
      "text/latex": [
       "$\\displaystyle {capex}_{csh,H2FC,net,t_{0}} = {capacity}_{H2FC,net,t_{0}} \\cdot 1600000.0$"
      ],
      "text/plain": [
       "<IPython.core.display.Math object>"
      ]
     },
     "metadata": {},
     "output_type": "display_data"
    },
    {
     "data": {
      "text/latex": [
       "$\\displaystyle {capacity}_{DAC,net,t_{0}} = 1000$"
      ],
      "text/plain": [
       "<IPython.core.display.Math object>"
      ]
     },
     "metadata": {},
     "output_type": "display_data"
    },
    {
     "data": {
      "text/latex": [
       "$\\displaystyle {operate}_{DAC,net,t_{0}} \\leq {capacity}_{DAC,net,t_{0}} \\cdot 1$"
      ],
      "text/plain": [
       "<IPython.core.display.Math object>"
      ]
     },
     "metadata": {},
     "output_type": "display_data"
    },
    {
     "data": {
      "text/latex": [
       "$\\displaystyle {operate}_{DAC,net,t_{0}} \\geq {capacity}_{DAC,net,t_{0}} \\cdot m$"
      ],
      "text/plain": [
       "<IPython.core.display.Math object>"
      ]
     },
     "metadata": {},
     "output_type": "display_data"
    },
    {
     "data": {
      "text/latex": [
       "$\\displaystyle {capex}_{csh,DAC,net,t_{0}} = {capacity}_{DAC,net,t_{0}} \\cdot 0.02536$"
      ],
      "text/plain": [
       "<IPython.core.display.Math object>"
      ]
     },
     "metadata": {},
     "output_type": "display_data"
    },
    {
     "data": {
      "text/latex": [
       "$\\displaystyle {capacity}_{ASMR,net,t_{0}} = 1000$"
      ],
      "text/plain": [
       "<IPython.core.display.Math object>"
      ]
     },
     "metadata": {},
     "output_type": "display_data"
    },
    {
     "data": {
      "text/latex": [
       "$\\displaystyle {operate}_{ASMR,net,t_{0}} \\leq {capacity}_{ASMR,net,t_{0}} \\cdot 1$"
      ],
      "text/plain": [
       "<IPython.core.display.Math object>"
      ]
     },
     "metadata": {},
     "output_type": "display_data"
    },
    {
     "data": {
      "text/latex": [
       "$\\displaystyle {operate}_{ASMR,net,t_{0}} \\geq {capacity}_{ASMR,net,t_{0}} \\cdot m$"
      ],
      "text/plain": [
       "<IPython.core.display.Math object>"
      ]
     },
     "metadata": {},
     "output_type": "display_data"
    },
    {
     "data": {
      "text/latex": [
       "$\\displaystyle {buy}_{Uranium,ASMR,net,t_{0}} = 40$"
      ],
      "text/plain": [
       "<IPython.core.display.Math object>"
      ]
     },
     "metadata": {},
     "output_type": "display_data"
    },
    {
     "data": {
      "text/latex": [
       "$\\displaystyle {capex}_{csh,ASMR,net,t_{0}} = {capacity}_{ASMR,net,t_{0}} \\cdot 7988951$"
      ],
      "text/plain": [
       "<IPython.core.display.Math object>"
      ]
     },
     "metadata": {},
     "output_type": "display_data"
    },
    {
     "data": {
      "text/latex": [
       "$\\displaystyle {capacity}_{AWE,net,t_{0}} \\leq M$"
      ],
      "text/plain": [
       "<IPython.core.display.Math object>"
      ]
     },
     "metadata": {},
     "output_type": "display_data"
    },
    {
     "data": {
      "text/latex": [
       "$\\displaystyle {capacity}_{AWE,net,t_{0}} \\geq m$"
      ],
      "text/plain": [
       "<IPython.core.display.Math object>"
      ]
     },
     "metadata": {},
     "output_type": "display_data"
    },
    {
     "data": {
      "text/latex": [
       "$\\displaystyle {capex}_{csh,AWE,net,t_{0}} = {capacity}_{AWE,net,t_{0}} \\cdot 1100000.0$"
      ],
      "text/plain": [
       "<IPython.core.display.Math object>"
      ]
     },
     "metadata": {},
     "output_type": "display_data"
    },
    {
     "data": {
      "text/latex": [
       "$\\displaystyle {used}_{lnd,AWE,net,t_{0}} = {capacity}_{AWE,net,t_{0}} \\cdot {θ}_{lnd,AWE,net,t_{0}}$"
      ],
      "text/plain": [
       "<IPython.core.display.Math object>"
      ]
     },
     "metadata": {},
     "output_type": "display_data"
    },
    {
     "data": {
      "text/latex": [
       "$\\displaystyle {capacity}_{LiI,net,t_{0}} \\leq 2000$"
      ],
      "text/plain": [
       "<IPython.core.display.Math object>"
      ]
     },
     "metadata": {},
     "output_type": "display_data"
    },
    {
     "data": {
      "text/latex": [
       "$\\displaystyle {capacity}_{LiI,net,t_{0}} \\geq m$"
      ],
      "text/plain": [
       "<IPython.core.display.Math object>"
      ]
     },
     "metadata": {},
     "output_type": "display_data"
    },
    {
     "data": {
      "text/latex": [
       "$\\displaystyle {capacity}_{LiI_{in},net,t_{0}} \\leq 40$"
      ],
      "text/plain": [
       "<IPython.core.display.Math object>"
      ]
     },
     "metadata": {},
     "output_type": "display_data"
    },
    {
     "data": {
      "text/latex": [
       "$\\displaystyle {capacity}_{LiI_{in},net,t_{0}} \\geq m$"
      ],
      "text/plain": [
       "<IPython.core.display.Math object>"
      ]
     },
     "metadata": {},
     "output_type": "display_data"
    },
    {
     "data": {
      "text/latex": [
       "$\\displaystyle {capacity}_{LiI_{out},net,t_{0}} \\leq 20$"
      ],
      "text/plain": [
       "<IPython.core.display.Math object>"
      ]
     },
     "metadata": {},
     "output_type": "display_data"
    },
    {
     "data": {
      "text/latex": [
       "$\\displaystyle {capacity}_{LiI_{out},net,t_{0}} \\geq m$"
      ],
      "text/plain": [
       "<IPython.core.display.Math object>"
      ]
     },
     "metadata": {},
     "output_type": "display_data"
    },
    {
     "data": {
      "text/latex": [
       "$\\displaystyle {capacity}_{LiI_{2},net,t_{0}} \\leq 2000$"
      ],
      "text/plain": [
       "<IPython.core.display.Math object>"
      ]
     },
     "metadata": {},
     "output_type": "display_data"
    },
    {
     "data": {
      "text/latex": [
       "$\\displaystyle {capacity}_{LiI_{2},net,t_{0}} \\geq m$"
      ],
      "text/plain": [
       "<IPython.core.display.Math object>"
      ]
     },
     "metadata": {},
     "output_type": "display_data"
    },
    {
     "data": {
      "text/latex": [
       "$\\displaystyle {operate}_{LiI_{2 in},net,t_{0}} \\leq {capacity}_{LiI_{2 in},net,t_{0}} \\cdot 1$"
      ],
      "text/plain": [
       "<IPython.core.display.Math object>"
      ]
     },
     "metadata": {},
     "output_type": "display_data"
    },
    {
     "data": {
      "text/latex": [
       "$\\displaystyle {operate}_{LiI_{2 in},net,t_{0}} \\geq {capacity}_{LiI_{2 in},net,t_{0}} \\cdot m$"
      ],
      "text/plain": [
       "<IPython.core.display.Math object>"
      ]
     },
     "metadata": {},
     "output_type": "display_data"
    },
    {
     "data": {
      "text/latex": [
       "$\\displaystyle {operate}_{LiI_{2 out},net,t_{0}} \\leq {capacity}_{LiI_{2 out},net,t_{0}} \\cdot 1$"
      ],
      "text/plain": [
       "<IPython.core.display.Math object>"
      ]
     },
     "metadata": {},
     "output_type": "display_data"
    },
    {
     "data": {
      "text/latex": [
       "$\\displaystyle {operate}_{LiI_{2 out},net,t_{0}} \\geq {capacity}_{LiI_{2 out},net,t_{0}} \\cdot m$"
      ],
      "text/plain": [
       "<IPython.core.display.Math object>"
      ]
     },
     "metadata": {},
     "output_type": "display_data"
    },
    {
     "data": {
      "text/latex": [
       "$\\displaystyle {capacity}_{H2Stg,net,t_{0}} \\leq 2000$"
      ],
      "text/plain": [
       "<IPython.core.display.Math object>"
      ]
     },
     "metadata": {},
     "output_type": "display_data"
    },
    {
     "data": {
      "text/latex": [
       "$\\displaystyle {capacity}_{H2Stg,net,t_{0}} \\geq m$"
      ],
      "text/plain": [
       "<IPython.core.display.Math object>"
      ]
     },
     "metadata": {},
     "output_type": "display_data"
    },
    {
     "data": {
      "text/latex": [
       "$\\displaystyle {operate}_{H2Stg_{in},net,t_{0}} \\leq {capacity}_{H2Stg_{in},net,t_{0}} \\cdot 1$"
      ],
      "text/plain": [
       "<IPython.core.display.Math object>"
      ]
     },
     "metadata": {},
     "output_type": "display_data"
    },
    {
     "data": {
      "text/latex": [
       "$\\displaystyle {operate}_{H2Stg_{in},net,t_{0}} \\geq {capacity}_{H2Stg_{in},net,t_{0}} \\cdot m$"
      ],
      "text/plain": [
       "<IPython.core.display.Math object>"
      ]
     },
     "metadata": {},
     "output_type": "display_data"
    },
    {
     "data": {
      "text/latex": [
       "$\\displaystyle {operate}_{H2Stg_{out},net,t_{0}} \\leq {capacity}_{H2Stg_{out},net,t_{0}} \\cdot 1$"
      ],
      "text/plain": [
       "<IPython.core.display.Math object>"
      ]
     },
     "metadata": {},
     "output_type": "display_data"
    },
    {
     "data": {
      "text/latex": [
       "$\\displaystyle {operate}_{H2Stg_{out},net,t_{0}} \\geq {capacity}_{H2Stg_{out},net,t_{0}} \\cdot m$"
      ],
      "text/plain": [
       "<IPython.core.display.Math object>"
      ]
     },
     "metadata": {},
     "output_type": "display_data"
    }
   ],
   "source": [
    "s.pprint()"
   ]
  },
  {
   "cell_type": "code",
   "execution_count": 52,
   "metadata": {},
   "outputs": [
    {
     "name": "stderr",
     "output_type": "stream",
     "text": [
      "/Users/cacodcar/Desktop/repos/energiapy/src/energiapy/components/_base/_consistent.py:260: UserWarning: train_in.capacity:Inconsistent temporal scale for net at t0. Updating to t1\n",
      "  warn(\n"
     ]
    },
    {
     "ename": "UnboundLocalError",
     "evalue": "local variable 'datapoint' referenced before assignment",
     "output_type": "error",
     "traceback": [
      "\u001b[0;31m---------------------------------------------------------------------------\u001b[0m",
      "\u001b[0;31mUnboundLocalError\u001b[0m                         Traceback (most recent call last)",
      "Cell \u001b[0;32mIn[52], line 1\u001b[0m\n\u001b[0;32m----> 1\u001b[0m \u001b[43ms\u001b[49m\u001b[38;5;241;43m.\u001b[39;49m\u001b[43mtrain\u001b[49m \u001b[38;5;241m=\u001b[39m Transit(\n\u001b[1;32m      2\u001b[0m     freight\u001b[38;5;241m=\u001b[39ms\u001b[38;5;241m.\u001b[39mH2,\n\u001b[1;32m      3\u001b[0m     ship\u001b[38;5;241m=\u001b[39m {s\u001b[38;5;241m.\u001b[39mH2: [\u001b[38;5;241m300\u001b[39m]},\n\u001b[1;32m      4\u001b[0m     capacity\u001b[38;5;241m=\u001b[39m[\u001b[38;5;241m5\u001b[39m, \u001b[38;5;241m400\u001b[39m],\n\u001b[1;32m      5\u001b[0m     land\u001b[38;5;241m=\u001b[39m\u001b[38;5;241m20\u001b[39m,\n\u001b[1;32m      6\u001b[0m     emission\u001b[38;5;241m=\u001b[39m{s\u001b[38;5;241m.\u001b[39modp: \u001b[38;5;241m0.1\u001b[39m},\n\u001b[1;32m      7\u001b[0m     capex\u001b[38;5;241m=\u001b[39m{s\u001b[38;5;241m.\u001b[39malink: \u001b[38;5;241m200\u001b[39m, s\u001b[38;5;241m.\u001b[39mblink: \u001b[38;5;241m300\u001b[39m, s\u001b[38;5;241m.\u001b[39mclink: \u001b[38;5;241m400\u001b[39m},\n\u001b[1;32m      8\u001b[0m     opex\u001b[38;5;241m=\u001b[39m\u001b[38;5;241m100\u001b[39m,\n\u001b[1;32m      9\u001b[0m     label\u001b[38;5;241m=\u001b[39m\u001b[38;5;124m'\u001b[39m\u001b[38;5;124mTrain\u001b[39m\u001b[38;5;124m'\u001b[39m,\n\u001b[1;32m     10\u001b[0m     basis\u001b[38;5;241m=\u001b[39m\u001b[38;5;124m'\u001b[39m\u001b[38;5;124mpassengers\u001b[39m\u001b[38;5;124m'\u001b[39m,\n\u001b[1;32m     11\u001b[0m     linkages\u001b[38;5;241m=\u001b[39m[s\u001b[38;5;241m.\u001b[39malink],\n\u001b[1;32m     12\u001b[0m )\n",
      "File \u001b[0;32m~/Desktop/repos/energiapy/src/energiapy/model/scenario.py:206\u001b[0m, in \u001b[0;36mScenario.__setattr__\u001b[0;34m(self, name, value)\u001b[0m\n\u001b[1;32m    203\u001b[0m         transit\u001b[38;5;241m.\u001b[39mfreightize()\n\u001b[1;32m    204\u001b[0m         \u001b[38;5;66;03m# birth the Loading and Unloading processes\u001b[39;00m\n\u001b[1;32m    205\u001b[0m         \u001b[38;5;66;03m# and the Transit Resource\u001b[39;00m\n\u001b[0;32m--> 206\u001b[0m         \u001b[38;5;28;43mself\u001b[39;49m\u001b[38;5;241;43m.\u001b[39;49m\u001b[43mbirth_bal_processes\u001b[49m\u001b[43m(\u001b[49m\u001b[43moperation\u001b[49m\u001b[38;5;241;43m=\u001b[39;49m\u001b[43mtransit\u001b[49m\u001b[43m,\u001b[49m\u001b[43m \u001b[49m\u001b[43mres\u001b[49m\u001b[38;5;241;43m=\u001b[39;49m\u001b[43mResourceTrn\u001b[49m\u001b[43m(\u001b[49m\u001b[43m)\u001b[49m\u001b[43m)\u001b[49m\n\u001b[1;32m    208\u001b[0m \u001b[38;5;28msuper\u001b[39m()\u001b[38;5;241m.\u001b[39m\u001b[38;5;21m__setattr__\u001b[39m(name, value)\n",
      "File \u001b[0;32m~/Desktop/repos/energiapy/src/energiapy/model/_update.py:295\u001b[0m, in \u001b[0;36mbirth_bal_processes\u001b[0;34m(self, operation, res)\u001b[0m\n\u001b[1;32m    293\u001b[0m \u001b[38;5;66;03m# set the processes as attributes of the Scenario\u001b[39;00m\n\u001b[1;32m    294\u001b[0m \u001b[38;5;28msetattr\u001b[39m(\u001b[38;5;28mself\u001b[39m, \u001b[38;5;124mf\u001b[39m\u001b[38;5;124m'\u001b[39m\u001b[38;5;132;01m{\u001b[39;00moperation\u001b[38;5;132;01m}\u001b[39;00m\u001b[38;5;124m_in\u001b[39m\u001b[38;5;124m'\u001b[39m, operation\u001b[38;5;241m.\u001b[39mprocess_in)\n\u001b[0;32m--> 295\u001b[0m \u001b[38;5;28msetattr\u001b[39m(\u001b[38;5;28mself\u001b[39m, \u001b[38;5;124mf\u001b[39m\u001b[38;5;124m'\u001b[39m\u001b[38;5;132;01m{\u001b[39;00moperation\u001b[38;5;132;01m}\u001b[39;00m\u001b[38;5;124m_out\u001b[39m\u001b[38;5;124m'\u001b[39m, operation\u001b[38;5;241m.\u001b[39mprocess_out)\n",
      "File \u001b[0;32m~/Desktop/repos/energiapy/src/energiapy/model/scenario.py:164\u001b[0m, in \u001b[0;36mScenario.__setattr__\u001b[0;34m(self, name, value)\u001b[0m\n\u001b[1;32m    159\u001b[0m         \u001b[38;5;28mself\u001b[39m\u001b[38;5;241m.\u001b[39mhandle_unique_cmp(cmp\u001b[38;5;241m=\u001b[39m\u001b[38;5;124m'\u001b[39m\u001b[38;5;124mland\u001b[39m\u001b[38;5;124m'\u001b[39m, component\u001b[38;5;241m=\u001b[39mvalue)\n\u001b[1;32m    161\u001b[0m     \u001b[38;5;66;03m# All defined components have constraints\u001b[39;00m\n\u001b[1;32m    162\u001b[0m     \u001b[38;5;66;03m# The data is handled first and made into internal formats and added to the Data Model\u001b[39;00m\n\u001b[1;32m    163\u001b[0m     \u001b[38;5;66;03m# The Program Model is then generated using information from the Data Model\u001b[39;00m\n\u001b[0;32m--> 164\u001b[0m     \u001b[38;5;28;43mself\u001b[39;49m\u001b[38;5;241;43m.\u001b[39;49m\u001b[43mupdate_model\u001b[49m\u001b[43m(\u001b[49m\u001b[43mname\u001b[49m\u001b[38;5;241;43m=\u001b[39;49m\u001b[43mname\u001b[49m\u001b[43m,\u001b[49m\u001b[43m \u001b[49m\u001b[43mcomponent\u001b[49m\u001b[38;5;241;43m=\u001b[39;49m\u001b[43mvalue\u001b[49m\u001b[43m)\u001b[49m\n\u001b[1;32m    166\u001b[0m \u001b[38;5;66;03m# Horizon, Network, Linkages and Storage give birth to new components\u001b[39;00m\n\u001b[1;32m    167\u001b[0m \u001b[38;5;28;01mif\u001b[39;00m \u001b[38;5;28misinstance\u001b[39m(value, Horizon):\n",
      "File \u001b[0;32m~/Desktop/repos/energiapy/src/energiapy/model/_update.py:152\u001b[0m, in \u001b[0;36m_Update.update_model\u001b[0;34m(self, name, component)\u001b[0m\n\u001b[1;32m    147\u001b[0m \u001b[38;5;28;01mfor\u001b[39;00m inp \u001b[38;5;129;01min\u001b[39;00m component\u001b[38;5;241m.\u001b[39minputs():\n\u001b[1;32m    148\u001b[0m     \u001b[38;5;66;03m# if the input is provided (they all default to None)\u001b[39;00m\n\u001b[1;32m    149\u001b[0m     \u001b[38;5;28;01mif\u001b[39;00m \u001b[38;5;28mgetattr\u001b[39m(component, inp, \u001b[38;5;28;01mFalse\u001b[39;00m):\n\u001b[1;32m    150\u001b[0m         \u001b[38;5;66;03m# set the input as attribute in the DataBlock\u001b[39;00m\n\u001b[1;32m    151\u001b[0m         \u001b[38;5;66;03m# This will make them into energiapy internal formats - Constant, DataSet, Theta, M\u001b[39;00m\n\u001b[0;32m--> 152\u001b[0m         \u001b[38;5;28;43msetattr\u001b[39;49m\u001b[43m(\u001b[49m\u001b[43mdatablock\u001b[49m\u001b[43m,\u001b[49m\u001b[43m \u001b[49m\u001b[43minp\u001b[49m\u001b[43m,\u001b[49m\u001b[43m \u001b[49m\u001b[43m{\u001b[49m\u001b[43mcomponent\u001b[49m\u001b[43m:\u001b[49m\u001b[43m \u001b[49m\u001b[38;5;28;43mgetattr\u001b[39;49m\u001b[43m(\u001b[49m\u001b[43mcomponent\u001b[49m\u001b[43m,\u001b[49m\u001b[43m \u001b[49m\u001b[43minp\u001b[49m\u001b[43m)\u001b[49m\u001b[43m}\u001b[49m\u001b[43m)\u001b[49m\n\u001b[1;32m    154\u001b[0m         \u001b[38;5;66;03m# The updated Values are then set back into the component\u001b[39;00m\n\u001b[1;32m    155\u001b[0m         \u001b[38;5;28msetattr\u001b[39m(component, inp, \u001b[38;5;28mgetattr\u001b[39m(datablock, inp))\n",
      "File \u001b[0;32m~/Desktop/repos/energiapy/src/energiapy/blocks/data.py:67\u001b[0m, in \u001b[0;36mDataBlock.__setattr__\u001b[0;34m(self, name, value)\u001b[0m\n\u001b[1;32m     65\u001b[0m         datapoint \u001b[38;5;241m=\u001b[39m [\u001b[38;5;241m0\u001b[39m] \u001b[38;5;241m+\u001b[39m datapoint\n\u001b[1;32m     66\u001b[0m     \u001b[38;5;66;03m# The first value becomes the LB, and the second becomes the UB\u001b[39;00m\n\u001b[0;32m---> 67\u001b[0m     datapoint \u001b[38;5;241m=\u001b[39m [\n\u001b[1;32m     68\u001b[0m         \u001b[38;5;28mself\u001b[39m\u001b[38;5;241m.\u001b[39mbirth_value(disposition, i, varbnd\u001b[38;5;241m=\u001b[39mvarbnds[b])\n\u001b[1;32m     69\u001b[0m         \u001b[38;5;28;01mfor\u001b[39;00m b, i \u001b[38;5;129;01min\u001b[39;00m \u001b[38;5;28menumerate\u001b[39m(datapoint)\n\u001b[1;32m     70\u001b[0m     ]\n\u001b[1;32m     72\u001b[0m \u001b[38;5;28;01melif\u001b[39;00m \u001b[38;5;28misinstance\u001b[39m(datapoint, \u001b[38;5;28mtuple\u001b[39m):\n\u001b[1;32m     73\u001b[0m     \u001b[38;5;66;03m# Tuples used to declare Theta space can have DataFrames as values\u001b[39;00m\n\u001b[1;32m     74\u001b[0m     datapoint \u001b[38;5;241m=\u001b[39m \u001b[38;5;28mtuple\u001b[39m(\n\u001b[1;32m     75\u001b[0m         [\n\u001b[1;32m     76\u001b[0m             \u001b[38;5;28mself\u001b[39m\u001b[38;5;241m.\u001b[39mbirth_value(disposition, i, spclmt\u001b[38;5;241m=\u001b[39mspclmts[b])\n\u001b[1;32m     77\u001b[0m             \u001b[38;5;28;01mfor\u001b[39;00m b, i \u001b[38;5;129;01min\u001b[39;00m \u001b[38;5;28menumerate\u001b[39m(datapoint)\n\u001b[1;32m     78\u001b[0m         ]\n\u001b[1;32m     79\u001b[0m     )\n",
      "File \u001b[0;32m~/Desktop/repos/energiapy/src/energiapy/blocks/data.py:68\u001b[0m, in \u001b[0;36m<listcomp>\u001b[0;34m(.0)\u001b[0m\n\u001b[1;32m     65\u001b[0m         datapoint \u001b[38;5;241m=\u001b[39m [\u001b[38;5;241m0\u001b[39m] \u001b[38;5;241m+\u001b[39m datapoint\n\u001b[1;32m     66\u001b[0m     \u001b[38;5;66;03m# The first value becomes the LB, and the second becomes the UB\u001b[39;00m\n\u001b[1;32m     67\u001b[0m     datapoint \u001b[38;5;241m=\u001b[39m [\n\u001b[0;32m---> 68\u001b[0m         \u001b[38;5;28;43mself\u001b[39;49m\u001b[38;5;241;43m.\u001b[39;49m\u001b[43mbirth_value\u001b[49m\u001b[43m(\u001b[49m\u001b[43mdisposition\u001b[49m\u001b[43m,\u001b[49m\u001b[43m \u001b[49m\u001b[43mi\u001b[49m\u001b[43m,\u001b[49m\u001b[43m \u001b[49m\u001b[43mvarbnd\u001b[49m\u001b[38;5;241;43m=\u001b[39;49m\u001b[43mvarbnds\u001b[49m\u001b[43m[\u001b[49m\u001b[43mb\u001b[49m\u001b[43m]\u001b[49m\u001b[43m)\u001b[49m\n\u001b[1;32m     69\u001b[0m         \u001b[38;5;28;01mfor\u001b[39;00m b, i \u001b[38;5;129;01min\u001b[39;00m \u001b[38;5;28menumerate\u001b[39m(datapoint)\n\u001b[1;32m     70\u001b[0m     ]\n\u001b[1;32m     72\u001b[0m \u001b[38;5;28;01melif\u001b[39;00m \u001b[38;5;28misinstance\u001b[39m(datapoint, \u001b[38;5;28mtuple\u001b[39m):\n\u001b[1;32m     73\u001b[0m     \u001b[38;5;66;03m# Tuples used to declare Theta space can have DataFrames as values\u001b[39;00m\n\u001b[1;32m     74\u001b[0m     datapoint \u001b[38;5;241m=\u001b[39m \u001b[38;5;28mtuple\u001b[39m(\n\u001b[1;32m     75\u001b[0m         [\n\u001b[1;32m     76\u001b[0m             \u001b[38;5;28mself\u001b[39m\u001b[38;5;241m.\u001b[39mbirth_value(disposition, i, spclmt\u001b[38;5;241m=\u001b[39mspclmts[b])\n\u001b[1;32m     77\u001b[0m             \u001b[38;5;28;01mfor\u001b[39;00m b, i \u001b[38;5;129;01min\u001b[39;00m \u001b[38;5;28menumerate\u001b[39m(datapoint)\n\u001b[1;32m     78\u001b[0m         ]\n\u001b[1;32m     79\u001b[0m     )\n",
      "File \u001b[0;32m~/Desktop/repos/energiapy/src/energiapy/blocks/data.py:217\u001b[0m, in \u001b[0;36mDataBlock.birth_value\u001b[0;34m(self, disposition, value, varbnd, spclmt)\u001b[0m\n\u001b[1;32m    214\u001b[0m         \u001b[38;5;28msetattr\u001b[39m(value, i, j)\n\u001b[1;32m    215\u001b[0m     datapoint \u001b[38;5;241m=\u001b[39m value\n\u001b[0;32m--> 217\u001b[0m \u001b[38;5;28;01mreturn\u001b[39;00m \u001b[43mdatapoint\u001b[49m\n",
      "\u001b[0;31mUnboundLocalError\u001b[0m: local variable 'datapoint' referenced before assignment"
     ]
    }
   ],
   "source": [
    "s.train = Transit(\n",
    "    freight=s.H2,\n",
    "    ship={s.H2: [300]},\n",
    "    capacity=[5, 400],\n",
    "    land=20,\n",
    "    emission={s.odp: 0.1},\n",
    "    capex={s.alink: 200, s.blink: 300, s.clink: 400},\n",
    "    opex=100,\n",
    "    label='Train',\n",
    "    basis='passengers',\n",
    "    linkages=[s.alink],\n",
    ")"
   ]
  },
  {
   "cell_type": "code",
   "execution_count": null,
   "metadata": {},
   "outputs": [],
   "source": [
    "s.transits"
   ]
  },
  {
   "cell_type": "code",
   "execution_count": null,
   "metadata": {},
   "outputs": [],
   "source": [
    "s.train.linkages"
   ]
  },
  {
   "cell_type": "code",
   "execution_count": null,
   "metadata": {},
   "outputs": [],
   "source": [
    "s.train.eqns()"
   ]
  },
  {
   "cell_type": "code",
   "execution_count": null,
   "metadata": {},
   "outputs": [],
   "source": [
    "s.Wind.locations"
   ]
  },
  {
   "cell_type": "code",
   "execution_count": null,
   "metadata": {},
   "outputs": [],
   "source": [
    "s.LiI_c.__dict__"
   ]
  },
  {
   "cell_type": "code",
   "execution_count": null,
   "metadata": {},
   "outputs": [],
   "source": [
    "s.LiI_c.eqns()"
   ]
  },
  {
   "cell_type": "code",
   "execution_count": null,
   "metadata": {},
   "outputs": [],
   "source": [
    "s.processes"
   ]
  },
  {
   "cell_type": "code",
   "execution_count": null,
   "metadata": {},
   "outputs": [],
   "source": [
    "for i in s.resources:\n",
    "    print(i, i.is_located)"
   ]
  },
  {
   "cell_type": "code",
   "execution_count": null,
   "metadata": {},
   "outputs": [],
   "source": [
    "s.WF.locations"
   ]
  },
  {
   "cell_type": "code",
   "execution_count": null,
   "metadata": {},
   "outputs": [],
   "source": [
    "s.AWE.locations"
   ]
  },
  {
   "cell_type": "code",
   "execution_count": null,
   "metadata": {},
   "outputs": [],
   "source": [
    "s.PV.conversion"
   ]
  },
  {
   "cell_type": "code",
   "execution_count": null,
   "metadata": {},
   "outputs": [],
   "source": [
    "s.eqns()"
   ]
  },
  {
   "cell_type": "code",
   "execution_count": null,
   "metadata": {},
   "outputs": [],
   "source": [
    "from energiapy.components._base._component import _Component\n",
    "from energiapy.components._base._defined import _Defined"
   ]
  },
  {
   "cell_type": "code",
   "execution_count": null,
   "metadata": {},
   "outputs": [],
   "source": [
    "isinstance(s.H2, _Defined)"
   ]
  },
  {
   "cell_type": "code",
   "execution_count": null,
   "metadata": {},
   "outputs": [],
   "source": [
    "s.storages"
   ]
  },
  {
   "cell_type": "code",
   "execution_count": null,
   "metadata": {},
   "outputs": [],
   "source": [
    "s.processes"
   ]
  },
  {
   "cell_type": "code",
   "execution_count": null,
   "metadata": {},
   "outputs": [],
   "source": [
    "s.LiI_c.conversion.__dict__"
   ]
  },
  {
   "cell_type": "code",
   "execution_count": null,
   "metadata": {},
   "outputs": [],
   "source": [
    "s.WF.operate"
   ]
  },
  {
   "cell_type": "code",
   "execution_count": null,
   "metadata": {},
   "outputs": [],
   "source": [
    "s.data.__dict__"
   ]
  },
  {
   "cell_type": "code",
   "execution_count": null,
   "metadata": {},
   "outputs": [],
   "source": [
    "s.SMR.constants"
   ]
  },
  {
   "cell_type": "code",
   "execution_count": null,
   "metadata": {},
   "outputs": [],
   "source": [
    "s.SMR.eqns()"
   ]
  },
  {
   "cell_type": "code",
   "execution_count": null,
   "metadata": {},
   "outputs": [],
   "source": [
    "s.eqns()"
   ]
  },
  {
   "cell_type": "code",
   "execution_count": null,
   "metadata": {},
   "outputs": [],
   "source": [
    "s.WF.dispositions"
   ]
  },
  {
   "cell_type": "code",
   "execution_count": null,
   "metadata": {},
   "outputs": [],
   "source": [
    "a = [1].insert(0, 0)"
   ]
  },
  {
   "cell_type": "code",
   "execution_count": null,
   "metadata": {},
   "outputs": [],
   "source": [
    "a"
   ]
  },
  {
   "cell_type": "code",
   "execution_count": null,
   "metadata": {},
   "outputs": [],
   "source": [
    "s.components"
   ]
  },
  {
   "cell_type": "code",
   "execution_count": null,
   "metadata": {},
   "outputs": [],
   "source": [
    "s.WF.data"
   ]
  },
  {
   "cell_type": "code",
   "execution_count": null,
   "metadata": {},
   "outputs": [],
   "source": [
    "s.WF.constraints[0].__dict__"
   ]
  },
  {
   "cell_type": "code",
   "execution_count": null,
   "metadata": {},
   "outputs": [],
   "source": []
  },
  {
   "cell_type": "code",
   "execution_count": null,
   "metadata": {},
   "outputs": [],
   "source": [
    "s.constants"
   ]
  },
  {
   "cell_type": "code",
   "execution_count": null,
   "metadata": {},
   "outputs": [],
   "source": [
    "from energiapy.core.aliases.is_component import IsComponent"
   ]
  },
  {
   "cell_type": "code",
   "execution_count": null,
   "metadata": {},
   "outputs": [],
   "source": [
    "from enum import Enum, auto"
   ]
  },
  {
   "cell_type": "code",
   "execution_count": null,
   "metadata": {},
   "outputs": [],
   "source": [
    "class A(Enum):\n",
    "    a = auto()\n",
    "    b = auto()"
   ]
  },
  {
   "cell_type": "code",
   "execution_count": null,
   "metadata": {},
   "outputs": [],
   "source": [
    "@dataclass\n",
    "class B:\n",
    "    a: A"
   ]
  },
  {
   "cell_type": "code",
   "execution_count": null,
   "metadata": {},
   "outputs": [],
   "source": [
    "q = B(A.a)\n",
    "r = B(A.b)\n",
    "z = B(A.a)\n",
    "w = B(A.b)\n",
    "l = [q, r, z, w]"
   ]
  },
  {
   "cell_type": "code",
   "execution_count": null,
   "metadata": {},
   "outputs": [],
   "source": [
    "l_a = [i for i in l if i.a == A.a]"
   ]
  },
  {
   "cell_type": "code",
   "execution_count": null,
   "metadata": {},
   "outputs": [],
   "source": [
    "l_a"
   ]
  },
  {
   "cell_type": "code",
   "execution_count": null,
   "metadata": {},
   "outputs": [],
   "source": [
    "s.PV.parameters"
   ]
  },
  {
   "cell_type": "code",
   "execution_count": null,
   "metadata": {},
   "outputs": [],
   "source": [
    "s.PV.constraints"
   ]
  },
  {
   "cell_type": "code",
   "execution_count": null,
   "metadata": {},
   "outputs": [],
   "source": [
    "s.PV.variables[4].disposition.__dict__"
   ]
  },
  {
   "cell_type": "code",
   "execution_count": null,
   "metadata": {},
   "outputs": [],
   "source": [
    "from dataclasses import dataclass"
   ]
  },
  {
   "cell_type": "code",
   "execution_count": null,
   "metadata": {},
   "outputs": [],
   "source": [
    "@dataclass\n",
    "class Ra:\n",
    "    a: int = 0\n",
    "\n",
    "    @classmethod\n",
    "    def b(self, b):\n",
    "        return self.a + b"
   ]
  },
  {
   "cell_type": "code",
   "execution_count": null,
   "metadata": {},
   "outputs": [],
   "source": [
    "Ra.b(2)"
   ]
  },
  {
   "cell_type": "code",
   "execution_count": null,
   "metadata": {},
   "outputs": [],
   "source": [
    "s.PV.capex[0].disposition.__dict__"
   ]
  },
  {
   "cell_type": "code",
   "execution_count": null,
   "metadata": {},
   "outputs": [],
   "source": [
    "s.WF.variables"
   ]
  },
  {
   "cell_type": "code",
   "execution_count": null,
   "metadata": {},
   "outputs": [],
   "source": [
    "s.WF.parameters"
   ]
  },
  {
   "cell_type": "code",
   "execution_count": null,
   "metadata": {},
   "outputs": [],
   "source": [
    "s.WF._consistent"
   ]
  },
  {
   "cell_type": "code",
   "execution_count": null,
   "metadata": {},
   "outputs": [],
   "source": [
    "s.WF.__dict__"
   ]
  },
  {
   "cell_type": "code",
   "execution_count": null,
   "metadata": {},
   "outputs": [],
   "source": [
    "s.PV.variables"
   ]
  },
  {
   "cell_type": "code",
   "execution_count": null,
   "metadata": {},
   "outputs": [],
   "source": [
    "s.variables"
   ]
  },
  {
   "attachments": {},
   "cell_type": "markdown",
   "metadata": {},
   "source": [
    "## Declare processes"
   ]
  },
  {
   "cell_type": "code",
   "execution_count": null,
   "metadata": {},
   "outputs": [],
   "source": [
    "# s.LiI = Process(store= 2000, conversion = {s.Power: 0.9}, store_loss = 0.2, store_cost= 0.4, capex = 3516428, fopex= 87910, vopex = 0, capacity= [1000,BigM], label='Lithium-ion battery', basis = 'MW')"
   ]
  },
  {
   "attachments": {},
   "cell_type": "markdown",
   "metadata": {},
   "source": [
    "## Declare locations"
   ]
  },
  {
   "cell_type": "code",
   "execution_count": null,
   "metadata": {},
   "outputs": [],
   "source": [
    "PV.cap_max"
   ]
  },
  {
   "cell_type": "code",
   "execution_count": null,
   "metadata": {},
   "outputs": [],
   "source": [
    "PV.factors"
   ]
  },
  {
   "cell_type": "code",
   "execution_count": null,
   "metadata": {},
   "outputs": [],
   "source": [
    "houston.aspect"
   ]
  },
  {
   "cell_type": "code",
   "execution_count": null,
   "metadata": {},
   "outputs": [],
   "source": [
    "houston.land_cost_factor"
   ]
  },
  {
   "cell_type": "code",
   "execution_count": null,
   "metadata": {},
   "outputs": [],
   "source": [
    "# for i in houston.processes | sandiego.processes | newyork.processes:\n",
    "# # for i in houston.resources | sandiego.resources | newyork.resources:\n",
    "#     print(i, i.localizations)\n",
    "#     print(i, i.factors)"
   ]
  },
  {
   "cell_type": "code",
   "execution_count": null,
   "metadata": {},
   "outputs": [],
   "source": [
    "Power.ctype"
   ]
  },
  {
   "attachments": {},
   "cell_type": "markdown",
   "metadata": {},
   "source": [
    "## Declare transports"
   ]
  },
  {
   "cell_type": "code",
   "execution_count": null,
   "metadata": {},
   "outputs": [],
   "source": [
    "# Train_H2 = Transport(name='Train_H2', resources={\n",
    "#                      H2}, trans_max=bigM, trans_loss=0.03, trans_cost=1.667*10**(-3), label='Railway for hydrogen transportation')\n",
    "# Grid = Transport(name='Grid', resources={\n",
    "#                  Power}, trans_max=bigM, trans_loss=0.001, trans_cost=0.5*10**(-3), label='Railroad transport')\n",
    "\n",
    "\n",
    "Train_H2 = Transport(\n",
    "    name='Train_H2',\n",
    "    resources={H2},\n",
    "    cap_max=BigM,\n",
    "    trans_loss=0.03,\n",
    "    capex=1000,\n",
    "    vopex=1.667,\n",
    "    fopex=(0, 1),\n",
    "    acid=34,\n",
    "    eutf=55,\n",
    "    label='Railway for hydrogen transportation',\n",
    ")\n",
    "Grid = Transport(\n",
    "    name='Grid',\n",
    "    resources={H2, Power},\n",
    "    cap_max=BigM,\n",
    "    trans_loss=0.001,\n",
    "    capex=500,\n",
    "    vopex=0.444,\n",
    "    label='Railroad transport',\n",
    ")"
   ]
  },
  {
   "cell_type": "code",
   "execution_count": null,
   "metadata": {},
   "outputs": [],
   "source": [
    "Train_H2.cap_max"
   ]
  },
  {
   "attachments": {},
   "cell_type": "markdown",
   "metadata": {},
   "source": [
    "## Declare Network"
   ]
  },
  {
   "cell_type": "code",
   "execution_count": null,
   "metadata": {},
   "outputs": [],
   "source": [
    "distance_matrix = [[2366], [2620]]\n",
    "\n",
    "transport_matrix = [\n",
    "    [[Train_H2]],\n",
    "    [[Grid]],\n",
    "]\n",
    "capacity_factor = {\n",
    "    (houston, newyork): {Train_H2: weather_sd[['wind_speed']]},\n",
    "    (sandiego, newyork): {Train_H2: weather_sd[['wind_speed']]},\n",
    "}\n",
    "\n",
    "network = Network(\n",
    "    name='network',\n",
    "    scales=scales,\n",
    "    land_max=(0, 5),\n",
    "    land_max_factor=DataFrame({'a': [5]}),\n",
    "    capacity_factor=capacity_factor,\n",
    "    vopex_factor={(houston, sandiego): {Train_H2: weather_sd[['wind_speed']]}},\n",
    "    sources=[houston, sandiego],\n",
    "    sinks=[newyork],\n",
    "    distance_matrix=distance_matrix,\n",
    "    transport_matrix=transport_matrix,\n",
    ")"
   ]
  },
  {
   "cell_type": "code",
   "execution_count": null,
   "metadata": {},
   "outputs": [],
   "source": [
    "scenario = Scenario(\n",
    "    name='scenario_full', network=network, scales=scales, label='full_case'\n",
    ")"
   ]
  },
  {
   "cell_type": "code",
   "execution_count": null,
   "metadata": {},
   "outputs": [],
   "source": [
    "scenario"
   ]
  },
  {
   "cell_type": "code",
   "execution_count": null,
   "metadata": {},
   "outputs": [],
   "source": [
    "for i in houston.resources:\n",
    "    print(i.ctype)"
   ]
  },
  {
   "cell_type": "code",
   "execution_count": null,
   "metadata": {},
   "outputs": [],
   "source": [
    "houston.resources_produce"
   ]
  },
  {
   "cell_type": "code",
   "execution_count": null,
   "metadata": {},
   "outputs": [],
   "source": []
  },
  {
   "cell_type": "code",
   "execution_count": null,
   "metadata": {},
   "outputs": [],
   "source": [
    "ResourceType.all()"
   ]
  },
  {
   "cell_type": "code",
   "execution_count": null,
   "metadata": {},
   "outputs": [],
   "source": [
    "ResourceType.resource_level()"
   ]
  },
  {
   "cell_type": "code",
   "execution_count": null,
   "metadata": {},
   "outputs": [],
   "source": [
    "ResourceType.location_level()"
   ]
  },
  {
   "cell_type": "code",
   "execution_count": null,
   "metadata": {},
   "outputs": [],
   "source": [
    "ResourceType.transport_level()"
   ]
  },
  {
   "cell_type": "code",
   "execution_count": null,
   "metadata": {},
   "outputs": [],
   "source": [
    "ProcessType.all()"
   ]
  },
  {
   "cell_type": "code",
   "execution_count": null,
   "metadata": {},
   "outputs": [],
   "source": [
    "ProcessType.process_level()"
   ]
  },
  {
   "cell_type": "code",
   "execution_count": null,
   "metadata": {},
   "outputs": [],
   "source": [
    "ProcessType.location_level()"
   ]
  },
  {
   "cell_type": "code",
   "execution_count": null,
   "metadata": {},
   "outputs": [],
   "source": [
    "LocationType.location_level()"
   ]
  },
  {
   "cell_type": "code",
   "execution_count": null,
   "metadata": {},
   "outputs": [],
   "source": [
    "Power.transport"
   ]
  },
  {
   "cell_type": "code",
   "execution_count": null,
   "metadata": {},
   "outputs": [],
   "source": [
    "Solar.availability"
   ]
  },
  {
   "cell_type": "code",
   "execution_count": null,
   "metadata": {},
   "outputs": [],
   "source": [
    "Power.demand"
   ]
  },
  {
   "cell_type": "code",
   "execution_count": null,
   "metadata": {},
   "outputs": [],
   "source": [
    "[((houston, sandiego), CO2), ((houston, sandiego), H2), ((houston, newyork), CO2)]"
   ]
  },
  {
   "cell_type": "code",
   "execution_count": null,
   "metadata": {},
   "outputs": [],
   "source": [
    "comp_loc_dict = scenario.resources_locations_discharge"
   ]
  },
  {
   "cell_type": "code",
   "execution_count": null,
   "metadata": {},
   "outputs": [],
   "source": [
    "scenario.locations_land"
   ]
  },
  {
   "cell_type": "code",
   "execution_count": null,
   "metadata": {},
   "outputs": [],
   "source": [
    "scenario.locations_locations_land"
   ]
  },
  {
   "cell_type": "code",
   "execution_count": null,
   "metadata": {},
   "outputs": [],
   "source": [
    "comp_loc_ordered_set = [(i, j) for i in comp_loc_dict for j in comp_loc_dict[i]]"
   ]
  },
  {
   "cell_type": "code",
   "execution_count": null,
   "metadata": {},
   "outputs": [],
   "source": [
    "scenario.resources_locations_store"
   ]
  },
  {
   "cell_type": "code",
   "execution_count": null,
   "metadata": {},
   "outputs": [],
   "source": [
    "comp_loc_ordered_set"
   ]
  },
  {
   "cell_type": "code",
   "execution_count": null,
   "metadata": {},
   "outputs": [],
   "source": [
    "comp_loc_ordered_set"
   ]
  },
  {
   "cell_type": "code",
   "execution_count": null,
   "metadata": {},
   "outputs": [],
   "source": [
    "scenario.resources_locations_discharge"
   ]
  },
  {
   "cell_type": "code",
   "execution_count": null,
   "metadata": {},
   "outputs": [],
   "source": [
    "scenario.resources_discharge"
   ]
  },
  {
   "cell_type": "code",
   "execution_count": null,
   "metadata": {},
   "outputs": [],
   "source": [
    "scenario.processes_locations_expenditure"
   ]
  },
  {
   "cell_type": "code",
   "execution_count": null,
   "metadata": {},
   "outputs": [],
   "source": [
    "resources_consume_locations = {\n",
    "    resource: set() for resource in scenario.resources_consume\n",
    "}\n",
    "for resource in scenario.resources_consume:\n",
    "    for location in scenario.locations:\n",
    "        if hasattr(location, 'resources_consume'):\n",
    "            if resource in location.resources_consume:\n",
    "                resources_consume_locations[resource].add(location)"
   ]
  },
  {
   "cell_type": "code",
   "execution_count": null,
   "metadata": {},
   "outputs": [],
   "source": [
    "resources_consume_locations = {\n",
    "    resource: {\n",
    "        location\n",
    "        for location in scenario.locations\n",
    "        if hasattr(location, 'resources_consume')\n",
    "        and resource in location.resources_consume\n",
    "    }\n",
    "    for resource in scenario.resources_consume\n",
    "}"
   ]
  },
  {
   "cell_type": "code",
   "execution_count": null,
   "metadata": {},
   "outputs": [],
   "source": [
    "scenario.resources_consume"
   ]
  },
  {
   "cell_type": "code",
   "execution_count": null,
   "metadata": {},
   "outputs": [],
   "source": [
    "resources_consume_locations = {\n",
    "    resource: {\n",
    "        location\n",
    "        for location in self.locations\n",
    "        if hasattr(location, 'resources_consume')\n",
    "        and resource in location.resources_consume\n",
    "    }\n",
    "    for resource in self.resources_consume\n",
    "}"
   ]
  },
  {
   "cell_type": "code",
   "execution_count": null,
   "metadata": {},
   "outputs": [],
   "source": [
    "resources_consume_locations"
   ]
  },
  {
   "cell_type": "code",
   "execution_count": null,
   "metadata": {},
   "outputs": [],
   "source": [
    "resources_demand_locations = {\n",
    "    resource: {\n",
    "        location\n",
    "        for location in scenario.locations\n",
    "        if hasattr(location, 'resources_demand')\n",
    "        and resource in location.resources_demand\n",
    "    }\n",
    "    for resource in scenario.resources_demand\n",
    "}"
   ]
  },
  {
   "cell_type": "code",
   "execution_count": null,
   "metadata": {},
   "outputs": [],
   "source": [
    "scenario.resource_classifications()"
   ]
  },
  {
   "cell_type": "code",
   "execution_count": null,
   "metadata": {},
   "outputs": [],
   "source": [
    "{\n",
    "    component: {\n",
    "        location\n",
    "        for location in getattr(self, 'locations')\n",
    "        if hasattr(location, f'{component_set}_{parameter.lower()}')\n",
    "        and resource in getattr(location, f'{component_set}_{parameter.lower()}')\n",
    "    }\n",
    "    for resource in getattr(self, f'{component_set}_{parameter.lower()}')\n",
    "}"
   ]
  },
  {
   "cell_type": "code",
   "execution_count": null,
   "metadata": {},
   "outputs": [],
   "source": [
    "scenario.process_classifications()"
   ]
  },
  {
   "cell_type": "code",
   "execution_count": null,
   "metadata": {},
   "outputs": [],
   "source": [
    "[\n",
    "    ((houston.name, sandiego.name), CO2.name),\n",
    "    ((houston.name, sandiego.name), H2.name),\n",
    "    ((houston.name, newyork.name), CO2.name),\n",
    "]"
   ]
  },
  {
   "cell_type": "code",
   "execution_count": null,
   "metadata": {},
   "outputs": [],
   "source": [
    "help(ResourceParamType)"
   ]
  },
  {
   "cell_type": "code",
   "execution_count": null,
   "metadata": {},
   "outputs": [],
   "source": []
  },
  {
   "cell_type": "code",
   "execution_count": null,
   "metadata": {},
   "outputs": [],
   "source": [
    "from pyomo.environ import *\n",
    "\n",
    "# from energiapy.utils.scale_utils import scale_pyomo_set"
   ]
  },
  {
   "cell_type": "code",
   "execution_count": null,
   "metadata": {},
   "outputs": [],
   "source": [
    "scales1 = TemporalScale(discretization_list=[1, 4], design_scale=0, scheduling_scale=1)"
   ]
  },
  {
   "cell_type": "code",
   "execution_count": null,
   "metadata": {},
   "outputs": [],
   "source": [
    "type(scales1)"
   ]
  },
  {
   "cell_type": "code",
   "execution_count": null,
   "metadata": {},
   "outputs": [],
   "source": [
    "scales2 = TemporalScale(\n",
    "    discretization_list=[2, 2, 2], design_scale=0, scheduling_scale=2\n",
    ")"
   ]
  },
  {
   "cell_type": "code",
   "execution_count": null,
   "metadata": {},
   "outputs": [],
   "source": [
    "scales1.index_list"
   ]
  },
  {
   "cell_type": "code",
   "execution_count": null,
   "metadata": {},
   "outputs": [],
   "source": [
    "scales2.index_list"
   ]
  },
  {
   "cell_type": "code",
   "execution_count": null,
   "metadata": {},
   "outputs": [],
   "source": [
    "m = ConcreteModel()\n",
    "m.scales = Set(scales1.list, initialize=scales1.scale)\n",
    "m.scales_scheduling = scale_pyomo_set(instance=m, scale_level=scales1.scheduling_scale)\n",
    "m.scales_design = scale_pyomo_set(instance=m, scale_level=scales1.design_scale)"
   ]
  },
  {
   "cell_type": "code",
   "execution_count": null,
   "metadata": {},
   "outputs": [],
   "source": [
    "scales.scheduling_scale"
   ]
  },
  {
   "cell_type": "code",
   "execution_count": null,
   "metadata": {},
   "outputs": [],
   "source": [
    "# m.a = Set(initialize = [(i, j) for i in resources_consume_locations for j in resources_consume_locations[i]])\n",
    "# m.b = Set(initialize = [(i.name, j.name) for i in scenario.resources_locations_consume for j in scenario.resources_locations_consume[i]])\n",
    "# m.c = Set(initialize = [((houston.name, sandiego.name), CO2.name), ((houston.name, sandiego.name), H2.name), ((houston.name, newyork.name), CO2.name)])\n",
    "# m.A = Var(m.a, m.scales_scheduling, within = NonNegativeReals)\n",
    "# m.B = Var(m.b, m.scales_design, within = NonNegativeReals)\n",
    "# m.C = Var(m.c, m.scales_scheduling, within = NonNegativeReals)"
   ]
  },
  {
   "cell_type": "code",
   "execution_count": null,
   "metadata": {},
   "outputs": [],
   "source": [
    "from pyomo.environ import *\n",
    "\n",
    "m = ConcreteModel()"
   ]
  },
  {
   "cell_type": "code",
   "execution_count": null,
   "metadata": {},
   "outputs": [],
   "source": [
    "m.d = Set(\n",
    "    initialize=[\n",
    "        (Train_H2.name, (houston.name, sandiego.name)),\n",
    "        (Grid.name, (houston.name, sandiego.name)),\n",
    "        (Grid.name, (houston.name, newyork.name)),\n",
    "    ]\n",
    ")\n",
    "m.D = Var(m.d, m.scales_design, within=NonNegativeReals)"
   ]
  },
  {
   "cell_type": "code",
   "execution_count": null,
   "metadata": {},
   "outputs": [],
   "source": [
    "m.f = Set(initialize=[Train_H2.name, Grid.name])\n",
    "m.F = Var(m.f, m.scales_design, within=NonNegativeReals)"
   ]
  },
  {
   "cell_type": "code",
   "execution_count": null,
   "metadata": {},
   "outputs": [],
   "source": [
    "m.g = Set(\n",
    "    initialize=[\n",
    "        (CO2.name, (houston.name, sandiego.name)),\n",
    "        (Power.name, (houston.name, sandiego.name)),\n",
    "        (H2.name, (houston.name, newyork.name)),\n",
    "    ]\n",
    ")"
   ]
  },
  {
   "cell_type": "code",
   "execution_count": null,
   "metadata": {},
   "outputs": [],
   "source": [
    "m.G = Var(m.g, m.scales_scheduling, within=NonNegativeReals)"
   ]
  },
  {
   "cell_type": "code",
   "execution_count": null,
   "metadata": {},
   "outputs": [],
   "source": [
    "m.G.pprint()"
   ]
  },
  {
   "cell_type": "code",
   "execution_count": null,
   "metadata": {},
   "outputs": [],
   "source": [
    "m = ConcreteModel()"
   ]
  },
  {
   "cell_type": "code",
   "execution_count": null,
   "metadata": {},
   "outputs": [],
   "source": [
    "import gurobipy\n",
    "\n",
    "m = gurobipy.read('example.lp')"
   ]
  },
  {
   "cell_type": "code",
   "execution_count": null,
   "metadata": {},
   "outputs": [],
   "source": [
    "import pandas"
   ]
  },
  {
   "cell_type": "code",
   "execution_count": null,
   "metadata": {},
   "outputs": [],
   "source": [
    "a = DataFrame(data={'a': [1, 2, 3]})"
   ]
  },
  {
   "cell_type": "code",
   "execution_count": null,
   "metadata": {},
   "outputs": [],
   "source": [
    "b = "
   ]
  },
  {
   "cell_type": "code",
   "execution_count": null,
   "metadata": {},
   "outputs": [],
   "source": []
  },
  {
   "cell_type": "code",
   "execution_count": null,
   "metadata": {},
   "outputs": [],
   "source": [
    "class LPFileCreator:\n",
    "    def __init__(self, objective, constraints, bounds, file_name=\"problem.lp\"):\n",
    "        self.objective = objective\n",
    "        self.constraints = constraints\n",
    "        self.bounds = bounds\n",
    "        self.file_name = file_name\n",
    "\n",
    "    def create_lp_file(self):\n",
    "        content = self._generate_lp_content()\n",
    "        with open(self.file_name, \"w\") as file:\n",
    "            file.write(content)\n",
    "\n",
    "    def _generate_lp_content(self):\n",
    "        lp_content = []\n",
    "\n",
    "        # Add Objective Function\n",
    "        lp_content.append(\"\\\\* Problem Statement *\\\\\")\n",
    "        lp_content.append(\"\\nMaximize\")\n",
    "        lp_content.append(f\" obj: {self.objective}\\n\")\n",
    "\n",
    "        # Add Constraints\n",
    "        lp_content.append(\"Subject To\")\n",
    "        for i, constraint in enumerate(self.constraints, start=1):\n",
    "            lp_content.append(f\" c{i}: {constraint}\")\n",
    "        lp_content.append(\"\")\n",
    "\n",
    "        # Add Bounds\n",
    "        lp_content.append(\"Bounds\")\n",
    "        for bound in self.bounds:\n",
    "            lp_content.append(f\" {bound}\")\n",
    "        lp_content.append(\"\")\n",
    "\n",
    "        # Add End\n",
    "        lp_content.append(\"End\")\n",
    "\n",
    "        return \"\\n\".join(lp_content)"
   ]
  },
  {
   "cell_type": "code",
   "execution_count": null,
   "metadata": {},
   "outputs": [],
   "source": [
    "a = [7, 2, 3].sort()"
   ]
  },
  {
   "cell_type": "code",
   "execution_count": null,
   "metadata": {},
   "outputs": [],
   "source": [
    "a"
   ]
  },
  {
   "cell_type": "code",
   "execution_count": null,
   "metadata": {},
   "outputs": [],
   "source": [
    "sorted(a)"
   ]
  },
  {
   "cell_type": "code",
   "execution_count": null,
   "metadata": {},
   "outputs": [],
   "source": [
    "houston.resources_consume"
   ]
  },
  {
   "cell_type": "code",
   "execution_count": null,
   "metadata": {},
   "outputs": [],
   "source": [
    "[f'cons_{i.name}_' for i in houston.resources_consume]"
   ]
  },
  {
   "cell_type": "code",
   "execution_count": null,
   "metadata": {},
   "outputs": [],
   "source": []
  },
  {
   "cell_type": "code",
   "execution_count": null,
   "metadata": {},
   "outputs": [],
   "source": [
    "def tuples_to_strings(tuple_list):\n",
    "    return ['_'.join(map(str, t)) for t in tuple_list]"
   ]
  },
  {
   "cell_type": "code",
   "execution_count": null,
   "metadata": {},
   "outputs": [],
   "source": [
    "scales = TemporalScale([1, 4], design_scale=0, scheduling_scale=1)"
   ]
  },
  {
   "cell_type": "code",
   "execution_count": null,
   "metadata": {},
   "outputs": [],
   "source": [
    "var = ['cons']  # , 'sell']"
   ]
  },
  {
   "cell_type": "code",
   "execution_count": null,
   "metadata": {},
   "outputs": [],
   "source": [
    "res_list = ['res1', 'res2', 'res3']"
   ]
  },
  {
   "cell_type": "code",
   "execution_count": null,
   "metadata": {},
   "outputs": [],
   "source": [
    "time_index = tuples_to_strings(scales.index_list[1])"
   ]
  },
  {
   "cell_type": "code",
   "execution_count": null,
   "metadata": {},
   "outputs": [],
   "source": [
    "value = {'res1': 5, 'res2': 7, 'res3': 8}"
   ]
  },
  {
   "cell_type": "code",
   "execution_count": null,
   "metadata": {},
   "outputs": [],
   "source": [
    "cons = list()"
   ]
  },
  {
   "cell_type": "code",
   "execution_count": null,
   "metadata": {},
   "outputs": [],
   "source": [
    "for i, j, k in product(var, res_list, time_index):\n",
    "    cons.append(f'{i}_{j}_{k} <= {value[j]}')"
   ]
  },
  {
   "cell_type": "code",
   "execution_count": null,
   "metadata": {},
   "outputs": [],
   "source": [
    "ooo = {'res1': 7, 'res2': 5, 'res3': 9}"
   ]
  },
  {
   "cell_type": "code",
   "execution_count": null,
   "metadata": {},
   "outputs": [],
   "source": [
    "k = [f'{ooo[i]} {i}' for i in res_list]"
   ]
  },
  {
   "cell_type": "code",
   "execution_count": null,
   "metadata": {},
   "outputs": [],
   "source": [
    "obj = ' + '.join(k)\n",
    "obj"
   ]
  },
  {
   "cell_type": "code",
   "execution_count": null,
   "metadata": {},
   "outputs": [],
   "source": [
    "for i,j,k in product(var, res_list, time_index):\n"
   ]
  },
  {
   "cell_type": "code",
   "execution_count": null,
   "metadata": {},
   "outputs": [],
   "source": [
    "bou = [f'0 <= {i}' for i in var]"
   ]
  },
  {
   "cell_type": "code",
   "execution_count": null,
   "metadata": {},
   "outputs": [],
   "source": [
    "# Define the problem components\n",
    "objective = \"x + 2 y\"\n",
    "constraints = [\"x + y >= 1\", \"x <= 2\", \"y <= 2\"]\n",
    "bounds = [\"0 <= x\", \"0 <= y\"]\n",
    "\n",
    "# Create the LP file\n",
    "# creator = LPFileCreator(objective, constraints, bounds, file_name=\"example.lp\")\n",
    "\n",
    "creator = LPFileCreator(obj, cons, bou, file_name=\"example.lp\")\n",
    "creator.create_lp_file()\n",
    "print(\"LP file 'example.lp' created successfully.\")"
   ]
  },
  {
   "cell_type": "code",
   "execution_count": null,
   "metadata": {},
   "outputs": [],
   "source": [
    "import gurobipy as gb\n",
    "\n",
    "a = gb.read('example.lp')"
   ]
  },
  {
   "cell_type": "code",
   "execution_count": null,
   "metadata": {},
   "outputs": [],
   "source": []
  },
  {
   "cell_type": "code",
   "execution_count": null,
   "metadata": {},
   "outputs": [],
   "source": [
    "a.optimize()"
   ]
  },
  {
   "cell_type": "code",
   "execution_count": null,
   "metadata": {},
   "outputs": [],
   "source": [
    "Maximize\n",
    "  x + y + z\n",
    "Subject To\n",
    "  c0: x + y = 1\n",
    "  c1: x + 5 y + 2 z <= 10\n",
    "  qc0: x + y + [ x ^ 2 - 2 x * y + 3 y ^ 2 ] <= 5\n",
    "Bounds\n",
    "  0 <= x <= 5\n",
    "  z >= 2\n",
    "Generals\n",
    "  x y z\n",
    "End\n"
   ]
  },
  {
   "cell_type": "code",
   "execution_count": null,
   "metadata": {},
   "outputs": [],
   "source": [
    "H2O.purchase_cost"
   ]
  },
  {
   "cell_type": "code",
   "execution_count": null,
   "metadata": {},
   "outputs": [],
   "source": [
    "H2O.cons_max"
   ]
  },
  {
   "cell_type": "code",
   "execution_count": null,
   "metadata": {},
   "outputs": [],
   "source": [
    "m.optimize()"
   ]
  },
  {
   "cell_type": "code",
   "execution_count": null,
   "metadata": {},
   "outputs": [],
   "source": [
    "m.getVars()"
   ]
  },
  {
   "cell_type": "code",
   "execution_count": null,
   "metadata": {},
   "outputs": [],
   "source": [
    "plot_scenario.capacity_factor(\n",
    "    scenario=scenario, location=houston, process=PV, fig_size=(9, 5), color='orange'\n",
    ")"
   ]
  },
  {
   "attachments": {},
   "cell_type": "markdown",
   "metadata": {},
   "source": [
    "![cap fac pv](plots / cf_ho.png)"
   ]
  },
  {
   "cell_type": "code",
   "execution_count": null,
   "metadata": {},
   "outputs": [],
   "source": [
    "plot_scenario.capacity_factor(\n",
    "    scenario=scenario, location=sandiego, process=WF, fig_size=(9, 5), color='blue'\n",
    ")"
   ]
  },
  {
   "attachments": {},
   "cell_type": "markdown",
   "metadata": {},
   "source": [
    "![cap fac wf](plots / wf_sd.png)"
   ]
  },
  {
   "cell_type": "code",
   "execution_count": null,
   "metadata": {},
   "outputs": [],
   "source": [
    "plot_scenario.demand_factor(\n",
    "    scenario=scenario, location=newyork, resource=Power, fig_size=(9, 5), color='red'\n",
    ")"
   ]
  },
  {
   "attachments": {},
   "cell_type": "markdown",
   "metadata": {},
   "source": [
    "![df ny](plots / df_ny.png)"
   ]
  },
  {
   "attachments": {},
   "cell_type": "markdown",
   "metadata": {},
   "source": [
    "## Optimize for minimum cost"
   ]
  },
  {
   "cell_type": "code",
   "execution_count": null,
   "metadata": {},
   "outputs": [],
   "source": [
    "milp_cost = formulate(\n",
    "    scenario=scenario,\n",
    "    constraints={\n",
    "        Constraints.COST,\n",
    "        Constraints.INVENTORY,\n",
    "        Constraints.PRODUCTION,\n",
    "        Constraints.RESOURCE_BALANCE,\n",
    "        Constraints.TRANSPORT,\n",
    "        Constraints.MODE,\n",
    "        Constraints.NETWORK,\n",
    "    },\n",
    "    objective=Objective.COST,\n",
    ")"
   ]
  },
  {
   "attachments": {},
   "cell_type": "markdown",
   "metadata": {},
   "source": [
    "**Ensure no discharge of power in Houston and San Diego**\n",
    "\n",
    "While the demand for power is zero in these locations, Power is still a dischargeable resource. Hence, the discharge bounds need to be set to zero.\n",
    "If not set to zero, the system chooses to dispense power instead of establishing storage networks."
   ]
  },
  {
   "cell_type": "code",
   "execution_count": null,
   "metadata": {},
   "outputs": [],
   "source": [
    "milp_cost.constraint_specific_location_discharge_ho = (\n",
    "    constraint_specific_location_discharge(\n",
    "        instance=milp_cost, network_scale_level=0, bounds={Power: 0}, location=houston\n",
    "    )\n",
    ")\n",
    "milp_cost.constraint_specific_location_discharge_sd = (\n",
    "    constraint_specific_location_discharge(\n",
    "        instance=milp_cost, network_scale_level=0, bounds={Power: 0}, location=sandiego\n",
    "    )\n",
    ")"
   ]
  },
  {
   "cell_type": "code",
   "execution_count": null,
   "metadata": {},
   "outputs": [],
   "source": [
    "results_cost = solve(\n",
    "    scenario=scenario,\n",
    "    instance=milp_cost,\n",
    "    solver='gurobi',\n",
    "    name=\"results_cost\",\n",
    "    print_solversteps=True,\n",
    ")"
   ]
  },
  {
   "attachments": {},
   "cell_type": "markdown",
   "metadata": {},
   "source": [
    "**Schedule for transport of hydrogen**"
   ]
  },
  {
   "cell_type": "code",
   "execution_count": null,
   "metadata": {},
   "outputs": [],
   "source": [
    "plot_results.transport(\n",
    "    results=results_cost, source='SD', sink='NY', resource='H2', transport='Train_H2'\n",
    ")"
   ]
  },
  {
   "attachments": {},
   "cell_type": "markdown",
   "metadata": {},
   "source": [
    "![sch t sdny](plots / sch_sdny.png)"
   ]
  },
  {
   "cell_type": "code",
   "execution_count": null,
   "metadata": {},
   "outputs": [],
   "source": [
    "plot_results.transport(\n",
    "    results=results_cost, source='HO', sink='NY', resource='H2', transport='Train_H2'\n",
    ")"
   ]
  },
  {
   "attachments": {},
   "cell_type": "markdown",
   "metadata": {},
   "source": [
    "![sch hony](plots / sch_hony.png)"
   ]
  },
  {
   "attachments": {},
   "cell_type": "markdown",
   "metadata": {},
   "source": [
    "**Cost contribution by technology**"
   ]
  },
  {
   "cell_type": "code",
   "execution_count": null,
   "metadata": {},
   "outputs": [],
   "source": [
    "plot_results.cost(\n",
    "    results=results_cost,\n",
    "    x=CostX.PROCESS_WISE,\n",
    "    y=CostY.CAPEX,\n",
    "    location='HO',\n",
    "    fig_size=(8, 6),\n",
    ")\n",
    "plot_results.cost(\n",
    "    results=results_cost,\n",
    "    x=CostX.PROCESS_WISE,\n",
    "    y=CostY.VOPEX,\n",
    "    location='HO',\n",
    "    fig_size=(8, 6),\n",
    ")\n",
    "plot_results.cost(\n",
    "    results=results_cost,\n",
    "    x=CostX.PROCESS_WISE,\n",
    "    y=CostY.FOPEX,\n",
    "    location='HO',\n",
    "    fig_size=(8, 6),\n",
    ")\n",
    "plot_results.cost(\n",
    "    results=results_cost,\n",
    "    x=CostX.PROCESS_WISE,\n",
    "    y=CostY.TOTAL,\n",
    "    location='HO',\n",
    "    fig_size=(8, 6),\n",
    ")"
   ]
  },
  {
   "attachments": {},
   "cell_type": "markdown",
   "metadata": {},
   "source": [
    "![total cost ho](plots / total_ho.png)"
   ]
  },
  {
   "attachments": {},
   "cell_type": "markdown",
   "metadata": {},
   "source": [
    "**Location-wise cost contribution by technology**"
   ]
  },
  {
   "cell_type": "code",
   "execution_count": null,
   "metadata": {},
   "outputs": [],
   "source": [
    "plot_results.cost(\n",
    "    results=results_cost, x=CostX.LOCATION_WISE, y=CostY.CAPEX, fig_size=(8, 6)\n",
    ")\n",
    "plot_results.cost(\n",
    "    results=results_cost, x=CostX.LOCATION_WISE, y=CostY.VOPEX, fig_size=(8, 6)\n",
    ")\n",
    "plot_results.cost(\n",
    "    results=results_cost, x=CostX.LOCATION_WISE, y=CostY.FOPEX, fig_size=(8, 6)\n",
    ")\n",
    "plot_results.cost(\n",
    "    results=results_cost, x=CostX.LOCATION_WISE, y=CostY.TOTAL, fig_size=(8, 6)\n",
    ")"
   ]
  },
  {
   "attachments": {},
   "cell_type": "markdown",
   "metadata": {},
   "source": [
    "![total lw](plots / total_lw.png)"
   ]
  },
  {
   "attachments": {},
   "cell_type": "markdown",
   "metadata": {},
   "source": [
    "**Inventory and production schedules**"
   ]
  },
  {
   "cell_type": "code",
   "execution_count": null,
   "metadata": {},
   "outputs": [],
   "source": [
    "plot_results.schedule(\n",
    "    results=results_cost,\n",
    "    y_axis='Inv',\n",
    "    component='LiI_Power_stored',\n",
    "    location='SD',\n",
    "    fig_size=(9, 5),\n",
    "    color='steelblue',\n",
    ")"
   ]
  },
  {
   "attachments": {},
   "cell_type": "markdown",
   "metadata": {},
   "source": [
    "![inv lii](plots / lii_inv.png)"
   ]
  },
  {
   "cell_type": "code",
   "execution_count": null,
   "metadata": {},
   "outputs": [],
   "source": [
    "plot_results.schedule(\n",
    "    results=results_cost,\n",
    "    y_axis='P',\n",
    "    component='PV',\n",
    "    location='SD',\n",
    "    fig_size=(9, 5),\n",
    "    color='steelblue',\n",
    ")"
   ]
  },
  {
   "attachments": {},
   "cell_type": "markdown",
   "metadata": {},
   "source": [
    "![pv p](plots / pv_p.png)"
   ]
  },
  {
   "attachments": {},
   "cell_type": "markdown",
   "metadata": {},
   "source": [
    "## Optimize to maximize resource discharge "
   ]
  },
  {
   "cell_type": "code",
   "execution_count": null,
   "metadata": {},
   "outputs": [],
   "source": [
    "milp_demand = formulate(\n",
    "    scenario=scenario,\n",
    "    constraints={\n",
    "        Constraints.COST,\n",
    "        Constraints.INVENTORY,\n",
    "        Constraints.PRODUCTION,\n",
    "        Constraints.RESOURCE_BALANCE,\n",
    "        Constraints.TRANSPORT,\n",
    "        Constraints.MODE,\n",
    "        Constraints.NETWORK,\n",
    "    },\n",
    "    objective=Objective.MAX_DISCHARGE,\n",
    "    objective_resource=Power,\n",
    ")"
   ]
  },
  {
   "cell_type": "code",
   "execution_count": null,
   "metadata": {},
   "outputs": [],
   "source": [
    "milp_demand.constraint_specific_location_discharge_ho = (\n",
    "    constraint_specific_location_discharge(\n",
    "        instance=milp_demand, network_scale_level=0, bounds={Power: 0}, location=houston\n",
    "    )\n",
    ")\n",
    "milp_demand.constraint_specific_location_discharge_sd = (\n",
    "    constraint_specific_location_discharge(\n",
    "        instance=milp_demand,\n",
    "        network_scale_level=0,\n",
    "        bounds={Power: 0},\n",
    "        location=sandiego,\n",
    "    )\n",
    ")"
   ]
  },
  {
   "cell_type": "code",
   "execution_count": null,
   "metadata": {},
   "outputs": [],
   "source": [
    "results_demand = solve(\n",
    "    scenario=scenario,\n",
    "    instance=milp_demand,\n",
    "    solver='gurobi',\n",
    "    name=\"results_demand\",\n",
    "    print_solversteps=True,\n",
    ")"
   ]
  },
  {
   "attachments": {},
   "cell_type": "markdown",
   "metadata": {},
   "source": [
    "**Schedule for transport of hydrogen**"
   ]
  },
  {
   "cell_type": "code",
   "execution_count": null,
   "metadata": {},
   "outputs": [],
   "source": [
    "plot_results.transport(\n",
    "    results=results_demand, source='SD', sink='NY', resource='H2', transport='Train_H2'\n",
    ")"
   ]
  },
  {
   "attachments": {},
   "cell_type": "markdown",
   "metadata": {},
   "source": [
    "![sch t sdny2](plots / sch_sdny2.png)"
   ]
  },
  {
   "cell_type": "code",
   "execution_count": null,
   "metadata": {},
   "outputs": [],
   "source": [
    "plot_results.transport(\n",
    "    results=results_demand, source='HO', sink='NY', resource='H2', transport='Train_H2'\n",
    ")"
   ]
  },
  {
   "attachments": {},
   "cell_type": "markdown",
   "metadata": {},
   "source": [
    "![sch t hony](plots / sch_hony2.png)"
   ]
  }
 ],
 "metadata": {
  "kernelspec": {
   "display_name": ".venv",
   "language": "python",
   "name": "python3"
  },
  "language_info": {
   "codemirror_mode": {
    "name": "ipython",
    "version": 3
   },
   "file_extension": ".py",
   "mimetype": "text/x-python",
   "name": "python",
   "nbconvert_exporter": "python",
   "pygments_lexer": "ipython3",
   "version": "3.10.11"
  },
  "orig_nbformat": 4
 },
 "nbformat": 4,
 "nbformat_minor": 2
}
