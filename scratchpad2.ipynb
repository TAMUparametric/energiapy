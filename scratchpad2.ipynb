{
 "cells": [
  {
   "cell_type": "code",
   "execution_count": 1,
   "metadata": {},
   "outputs": [],
   "source": [
    "# def load_data(loc:str, index:list):\n",
    "#     df = pandas.read_csv(f'data/{loc}_solar19.csv')\n",
    "#     df['idx'] = index\n",
    "#     df = df.set_index('idx')\n",
    "#     return df\n",
    "# idx = [(i,j,k) for i,j,k in product(range(1), range(365), range(24))]\n",
    "# weather_ny = load_data('ny', idx)[['DNI', 'Wind Speed']]\n",
    "# weather_ny = weather_ny.rename(columns= {'DNI': 'dni', 'Wind Speed': 'wind_speed'})\n",
    "# weather_sd = load_data('sd', idx)[['dni', 'wind_speed']]\n",
    "# weather_ho = load_data('ho', idx)[['dni', 'wind_speed']]\"\"\n",
    "# demand_sd = pandas.read_excel('data/HistoricalEMSHourlyLoad-2019.xlsx', index_col= 0)[['SDGE']]\n",
    "# demand_ho = pandas.read_excel('data/Native_Load_2019.xlsx')[['COAST']]\n",
    "# demand_ny = DataFrame(pandas.read_csv('data/NYC_load.csv')['Load']) #from Will and Doga\n",
    "# ng_price = make_henry_price_df(\n",
    "#     file_name='data/Henry_Hub_Natural_Gas_Spot_Price_Daily.csv', year=2020)\n",
    "# ng_price = ng_price.drop(columns= 'scales')\n",
    "# ng_price = remove_outliers(ng_price, sd_cuttoff = 3)\n",
    "# ng_price = pandas.concat([ng_price])"
   ]
  },
  {
   "cell_type": "code",
   "execution_count": 2,
   "metadata": {},
   "outputs": [],
   "source": [
    "import sys\n",
    "\n",
    "sys.path.append('src')"
   ]
  },
  {
   "cell_type": "code",
   "execution_count": 3,
   "metadata": {},
   "outputs": [],
   "source": [
    "from energiapy.components import *\n",
    "from energiapy.environ import *\n",
    "from pandas import DataFrame\n",
    "from dataclasses import fields, field, dataclass"
   ]
  },
  {
   "cell_type": "code",
   "execution_count": 4,
   "metadata": {},
   "outputs": [],
   "source": [
    "s = Scenario(default=True)"
   ]
  },
  {
   "cell_type": "code",
   "execution_count": 5,
   "metadata": {},
   "outputs": [
    {
     "data": {
      "text/plain": [
       "[madgaon, ponje, cacoda]"
      ]
     },
     "execution_count": 5,
     "metadata": {},
     "output_type": "execute_result"
    }
   ],
   "source": [
    "# s.h2 = Horizon({'days': 2, 'hours': 12})\n",
    "s.hor = Horizon(birth=[2, 12], nested=True)\n",
    "s.scales\n",
    "s.net = Network(birth={'madgaon': 1, 'ponje': 1, 'cacoda': 1})  # , link_all=True)\n",
    "s.nodes"
   ]
  },
  {
   "cell_type": "code",
   "execution_count": 6,
   "metadata": {},
   "outputs": [
    {
     "data": {
      "text/plain": [
       "net"
      ]
     },
     "execution_count": 6,
     "metadata": {},
     "output_type": "execute_result"
    }
   ],
   "source": [
    "s.madgaon.parent"
   ]
  },
  {
   "cell_type": "code",
   "execution_count": 7,
   "metadata": {},
   "outputs": [
    {
     "data": {
      "text/plain": [
       "24"
      ]
     },
     "execution_count": 7,
     "metadata": {},
     "output_type": "execute_result"
    }
   ],
   "source": [
    "s.hor.scales[1].discrs"
   ]
  },
  {
   "cell_type": "code",
   "execution_count": 8,
   "metadata": {},
   "outputs": [],
   "source": [
    "s.alink = Linkage(source=s.madgaon, sink=s.ponje, bi=True, distance=50)\n",
    "s.blink = Linkage(source=s.ponje, sink=s.cacoda, bi=False, distance=80)\n",
    "s.clink = Linkage(source=s.cacoda, sink=s.madgaon, bi=True, distance=100)\n",
    "s.dlink = Linkage(source=s.madgaon, sink=s.ponje, bi=False, distance=200)"
   ]
  },
  {
   "cell_type": "code",
   "execution_count": 9,
   "metadata": {},
   "outputs": [],
   "source": [
    "a = DataFrame({'a': list(range(2))})\n",
    "b = DataFrame({'b': list(range(24))})"
   ]
  },
  {
   "cell_type": "code",
   "execution_count": 10,
   "metadata": {},
   "outputs": [
    {
     "name": "stderr",
     "output_type": "stream",
     "text": [
      "c:\\Users\\cacodcar\\energiapy\\src\\energiapy\\components\\_base\\_consistent.py:240: InconsistencyWarning: \n",
      "csh.spend:Inconsistent temporal scale for ponje at t1.\n",
      "Updating to t0\n",
      "Set Scneario.ok_inconsistent=False, to enforce strictly\n",
      "  warn(\n"
     ]
    }
   ],
   "source": [
    "s.csh = Cash(\n",
    "    spend={\n",
    "        s.madgaon: True,\n",
    "        s.ponje: {s.t1: (2, a)},\n",
    "        s.cacoda: a,\n",
    "        s.network: {s.t1: [5, 7]},\n",
    "    },\n",
    "    # label='cash',\n",
    "    basis='USD',\n",
    ")"
   ]
  },
  {
   "cell_type": "code",
   "execution_count": 11,
   "metadata": {},
   "outputs": [
    {
     "name": "stderr",
     "output_type": "stream",
     "text": [
      "c:\\Users\\cacodcar\\energiapy\\src\\energiapy\\components\\_base\\_consistent.py:240: InconsistencyWarning: \n",
      "H2.sell_price:Inconsistent temporal scale for madgaon at t1.\n",
      "Updating to t0\n",
      "Set Scneario.ok_inconsistent=False, to enforce strictly\n",
      "  warn(\n"
     ]
    }
   ],
   "source": [
    "s.H2 = Resource(\n",
    "    # sell={s.t0: [0, 4], s.t1: [a, 34], s.t2: (a, b)},\n",
    "    sell_price={\n",
    "        s.madgaon: {s.t1: (2, a)},\n",
    "        s.ponje: {s.t1: (2, b)},\n",
    "        s.cacoda: 300,\n",
    "    },\n",
    ")"
   ]
  },
  {
   "cell_type": "code",
   "execution_count": 12,
   "metadata": {},
   "outputs": [
    {
     "name": "stderr",
     "output_type": "stream",
     "text": [
      "c:\\Users\\cacodcar\\energiapy\\src\\energiapy\\environ\\_scenario\\_ok.py:54: OverWriteWarning: \n",
      "A Power was already defined.\n",
      "Overwriting. Set Scenario.ok_overwrite=False, to enforce strictly\n",
      "This should not cause any modeling issues.\n",
      "Check Scenario defaults if unintended.\n",
      "Only one instance of Horizon, Network, Cash, and Land are allowed\n",
      "  warn(OverWriteWarning(cmp))\n"
     ]
    }
   ],
   "source": [
    "s.Solar = Resource(buy=True, basis='MW', label='Solar Power')\n",
    "\n",
    "\n",
    "s.Wind = Resource(buy=a, basis='MW', label='Wind Power')\n",
    "\n",
    "\n",
    "s.Power = Resource(basis='MW', label='Power generated')\n",
    "\n",
    "\n",
    "s.Uranium = Resource(\n",
    "    buy=DataFrame({'a': [i for i in range(24)]}),\n",
    "    buy_price=42.70 / (250 / 2),\n",
    "    basis='kg',\n",
    "    label='Uranium',\n",
    ")\n",
    "\n",
    "\n",
    "# s.H2_L = Resource(sell=(0, 23), basis='tons', label='Hydrogen')\n",
    "\n",
    "\n",
    "# s.CO2_AQoff = Resource(basis='tons', label='Carbon dioxide - sequestered')\n",
    "\n",
    "\n",
    "s.H2O = Resource(buy=(20, 50), buy_price=b, basis='tons', label='Water')\n",
    "\n",
    "\n",
    "s.CH4 = Resource(buy=[20, 40], buy_price=20, basis='tons', label='Natural gas')\n",
    "\n",
    "\n",
    "s.CO2 = Resource(basis='tons', label='Carbon dioxide', block='Resource')\n",
    "\n",
    "\n",
    "s.CO2_Vent = Resource(\n",
    "    basis='tons',\n",
    "    label='Carbon dioxide - Vented',\n",
    "    sell_price=(2, 20),\n",
    "    sell_emit={s.gwp: b},\n",
    ")\n",
    "\n",
    "\n",
    "s.O2 = Resource(sell=[20, True], basis='tons', label='Oxygen')\n",
    "\n",
    "\n",
    "s.CO2_DAC = Resource(basis='tons', label='Carbon dioxide - captured')\n",
    "s.Power = Resource(buy=[0, a], basis='MW', label='Power generated')"
   ]
  },
  {
   "cell_type": "code",
   "execution_count": 13,
   "metadata": {},
   "outputs": [],
   "source": [
    "s.LiR = Material(\n",
    "    use_emit={s.gwp: {s.t1: 1.484}},\n",
    "    use={s.ponje: 1.5},\n",
    "    basis='kg',\n",
    "    label='Lithium Reserves',\n",
    "    citation='Nelson Bunyui Manjong (2021)',\n",
    ")"
   ]
  },
  {
   "cell_type": "code",
   "execution_count": 14,
   "metadata": {},
   "outputs": [],
   "source": [
    "s.WF = Process(\n",
    "    conversion={s.Power: {X(0): {s.Wind: -1}, X(1): {s.Wind: -1}}},\n",
    "    produce=[(0, 3), (3, 5)],\n",
    "    capex={s.madgaon: {s.t1: {1462000, I(202233)}}},\n",
    "    opex={4953, I(70)},\n",
    "    setup=1000,\n",
    "    setup_emit={s.gwp: 50, s.odp: 2900},\n",
    "    setup_use={s.LiR: 1.5, s.land: 30},\n",
    "    locations=[s.madgaon, s.ponje],\n",
    "    label='Wind mill array',\n",
    "    basis='MW',\n",
    ")\n",
    "\n",
    "\n",
    "s.PV = Process(\n",
    "    conversion={s.Power: {X(1): {s.Solar: -1.2}, X(2): {s.Solar: -1.5}}},\n",
    "    capex={X(0): 1333, X(1): 1444, X(2): 1555},\n",
    "    opex=22623,\n",
    "    setup={X(0): 3000, X(1): 4000, X(2): 5000},\n",
    "    locations=s.cacoda,\n",
    "    label='Solar PV',\n",
    "    basis='MW',\n",
    ")\n",
    "\n",
    "\n",
    "s.SMRH = Process(\n",
    "    setup_use={s.land: 50},\n",
    "    conversion={\n",
    "        s.H2: {\n",
    "            s.Power: -1.11,\n",
    "            s.CH4: -3.76,\n",
    "            s.H2O: -23.7,\n",
    "            s.CO2_Vent: 1.03,\n",
    "            s.CO2: 9.332,\n",
    "        }\n",
    "    },\n",
    "    capex={\n",
    "        2520000,\n",
    "    },\n",
    "    opex={51.5, I(945000)},\n",
    "    setup=[1000],\n",
    "    label='Steam methane reforming + CCUS',\n",
    ")\n",
    "\n",
    "s.NGCC = Process(\n",
    "    conversion={\n",
    "        s.Power: {\n",
    "            s.CH4: -0.108,\n",
    "            s.H2O: -10,\n",
    "            s.CO2_Vent: 0.297 * 0.05,\n",
    "            s.CO2: 0.297 * 0.95,\n",
    "        }\n",
    "    },\n",
    "    capex=2158928,\n",
    "    opex={4090, I(53320)},\n",
    "    setup=[1, 100],\n",
    "    label='NGCC + 95% CC',\n",
    ")\n",
    "s.SMR = Process(\n",
    "    capex=2400,\n",
    "    opex={0.03, I(800)},\n",
    "    conversion={s.H2: {s.Power: -1.11, s.CH4: -3.76, s.H2O: -23.7, s.CO2_Vent: 9.4979}},\n",
    "    setup=1000,\n",
    "    label='Steam methane reforming',\n",
    ")\n",
    "s.H2FC = Process(\n",
    "    conversion={s.Power: {s.H2: -0.050}},\n",
    "    capex=1.6 * 10**6,\n",
    "    opex=3.5,\n",
    "    setup=[1000, 2000],\n",
    "    label='hydrogen fuel cell',\n",
    ")\n",
    "s.DAC = Process(\n",
    "    capex=0.02536,\n",
    "    opex=0.634,\n",
    "    conversion={s.CO2_DAC: {s.Power: -0.193, s.H2O: -4.048}},\n",
    "    setup=1000,\n",
    "    label='Direct air capture',\n",
    ")\n",
    "# s.PSH = Process(conversion = {s.Power: 0.6}, capex = 3924781, fopex= 17820, vopex = 512.5, store = 10000, capacity=1000, label='Pumped storage hydropower', basis = 'MW')\n",
    "s.ASMR = Process(\n",
    "    conversion={s.Power: {s.Uranium: -4.17 * 10 ** (-5), s.H2O: -3.364}},\n",
    "    capex=7988951,\n",
    "    opex=I(0.04 * 0.730),\n",
    "    setup=1000,\n",
    "    label='Small modular reactors (SMRs)',\n",
    "    locations=s.madgaon,\n",
    ")\n",
    "s.AWE = Process(\n",
    "    setup_use={s.land: (0, 20)},\n",
    "    conversion={s.H2: {s.Power: -1, s.O2: 0.7632, s.H2O: -0.1753}},\n",
    "    capex={1.1 * 10**6, I(20)},\n",
    "    opex=I(16918),\n",
    "    setup=True,\n",
    "    label='Alkaline water electrolysis (AWE)',\n",
    "    citation='Demirhan et al. 2018 AIChE paper',\n",
    ")"
   ]
  },
  {
   "cell_type": "code",
   "execution_count": 15,
   "metadata": {},
   "outputs": [],
   "source": [
    "s.LiI = Storage(setup=[2000], inventory=s.Power, setup_in=[40], setup_out=[20])\n",
    "s.LiI2 = Storage(setup=[2000], inventory={s.Power: 0.6})\n",
    "s.H2Stg = Storage(\n",
    "    setup=[2000], inventory={s.H2: {X(0): {s.Power: 0.8}, X(1): {s.Power: 0.9}}}\n",
    ")"
   ]
  },
  {
   "cell_type": "code",
   "execution_count": 16,
   "metadata": {},
   "outputs": [
    {
     "data": {
      "text/latex": [
       "$\\displaystyle {spend}_{csh,madgaon,t_{0}} \\geq 0$"
      ],
      "text/plain": [
       "<IPython.core.display.Math object>"
      ]
     },
     "metadata": {},
     "output_type": "display_data"
    },
    {
     "data": {
      "text/latex": [
       "$\\displaystyle {spend}_{csh,madgaon,t_{0}} \\leq M$"
      ],
      "text/plain": [
       "<IPython.core.display.Math object>"
      ]
     },
     "metadata": {},
     "output_type": "display_data"
    },
    {
     "data": {
      "text/latex": [
       "$\\displaystyle {spend}_{csh,ponje,t_{0}} = {θ}_{csh,ponje,t_{0}}$"
      ],
      "text/plain": [
       "<IPython.core.display.Math object>"
      ]
     },
     "metadata": {},
     "output_type": "display_data"
    },
    {
     "data": {
      "text/latex": [
       "$\\displaystyle {spend}_{csh,cacoda,t_{0}} = {DtSt}_{csh,cacoda,t_{0}}$"
      ],
      "text/plain": [
       "<IPython.core.display.Math object>"
      ]
     },
     "metadata": {},
     "output_type": "display_data"
    },
    {
     "data": {
      "text/latex": [
       "$\\displaystyle {spend}_{csh,net,t_{1}} \\geq 5$"
      ],
      "text/plain": [
       "<IPython.core.display.Math object>"
      ]
     },
     "metadata": {},
     "output_type": "display_data"
    },
    {
     "data": {
      "text/latex": [
       "$\\displaystyle {spend}_{csh,net,t_{1}} \\leq 7$"
      ],
      "text/plain": [
       "<IPython.core.display.Math object>"
      ]
     },
     "metadata": {},
     "output_type": "display_data"
    },
    {
     "data": {
      "text/latex": [
       "$\\displaystyle {exp^{sell}}_{csh,H_{2},madgaon,t_{0}} = {sell}_{H_{2},madgaon,t_{0}} \\cdot {θ}_{csh,H_{2},madgaon,t_{0}}$"
      ],
      "text/plain": [
       "<IPython.core.display.Math object>"
      ]
     },
     "metadata": {},
     "output_type": "display_data"
    },
    {
     "data": {
      "text/latex": [
       "$\\displaystyle {exp^{sell}}_{csh,H_{2},cacoda,t_{0}} = {sell}_{H_{2},cacoda,t_{0}} \\cdot 300$"
      ],
      "text/plain": [
       "<IPython.core.display.Math object>"
      ]
     },
     "metadata": {},
     "output_type": "display_data"
    },
    {
     "data": {
      "text/latex": [
       "$\\displaystyle {exp^{sell}}_{csh,H_{2},ponje,t_{1}} = {sell}_{H_{2},ponje,t_{1}} \\cdot {θ}_{csh,H_{2},ponje,t_{1}}$"
      ],
      "text/plain": [
       "<IPython.core.display.Math object>"
      ]
     },
     "metadata": {},
     "output_type": "display_data"
    },
    {
     "data": {
      "text/latex": [
       "$\\displaystyle {buy}_{Solar,net,t_{0}} \\geq 0$"
      ],
      "text/plain": [
       "<IPython.core.display.Math object>"
      ]
     },
     "metadata": {},
     "output_type": "display_data"
    },
    {
     "data": {
      "text/latex": [
       "$\\displaystyle {buy}_{Solar,net,t_{0}} \\leq M$"
      ],
      "text/plain": [
       "<IPython.core.display.Math object>"
      ]
     },
     "metadata": {},
     "output_type": "display_data"
    },
    {
     "data": {
      "text/latex": [
       "$\\displaystyle {buy}_{Wind,net,t_{0}} = {DtSt}_{Wind,net,t_{0}}$"
      ],
      "text/plain": [
       "<IPython.core.display.Math object>"
      ]
     },
     "metadata": {},
     "output_type": "display_data"
    },
    {
     "data": {
      "text/latex": [
       "$\\displaystyle {buy}_{Power,net,t_{0}} \\geq 0$"
      ],
      "text/plain": [
       "<IPython.core.display.Math object>"
      ]
     },
     "metadata": {},
     "output_type": "display_data"
    },
    {
     "data": {
      "text/latex": [
       "$\\displaystyle {buy}_{Power,net,t_{0}} \\leq {DtSt^{max}}_{Power,net,t_{0}}$"
      ],
      "text/plain": [
       "<IPython.core.display.Math object>"
      ]
     },
     "metadata": {},
     "output_type": "display_data"
    },
    {
     "data": {
      "text/latex": [
       "$\\displaystyle {buy}_{Uranium,net,t_{1}} = {DtSt}_{Uranium,net,t_{1}}$"
      ],
      "text/plain": [
       "<IPython.core.display.Math object>"
      ]
     },
     "metadata": {},
     "output_type": "display_data"
    },
    {
     "data": {
      "text/latex": [
       "$\\displaystyle {exp^{buy}}_{csh,Uranium,madgaon,t_{0}} = {buy}_{Uranium,madgaon,t_{0}} \\cdot 0.3416$"
      ],
      "text/plain": [
       "<IPython.core.display.Math object>"
      ]
     },
     "metadata": {},
     "output_type": "display_data"
    },
    {
     "data": {
      "text/latex": [
       "$\\displaystyle {exp^{buy}}_{csh,Uranium,ponje,t_{0}} = {buy}_{Uranium,ponje,t_{0}} \\cdot 0.3416$"
      ],
      "text/plain": [
       "<IPython.core.display.Math object>"
      ]
     },
     "metadata": {},
     "output_type": "display_data"
    },
    {
     "data": {
      "text/latex": [
       "$\\displaystyle {exp^{buy}}_{csh,Uranium,cacoda,t_{0}} = {buy}_{Uranium,cacoda,t_{0}} \\cdot 0.3416$"
      ],
      "text/plain": [
       "<IPython.core.display.Math object>"
      ]
     },
     "metadata": {},
     "output_type": "display_data"
    },
    {
     "data": {
      "text/latex": [
       "$\\displaystyle {buy}_{H2O,net,t_{0}} = {θ}_{H2O,net,t_{0}}$"
      ],
      "text/plain": [
       "<IPython.core.display.Math object>"
      ]
     },
     "metadata": {},
     "output_type": "display_data"
    },
    {
     "data": {
      "text/latex": [
       "$\\displaystyle {exp^{buy}}_{csh,H2O,madgaon,t_{1}} = {DtSt}_{csh,H2O,madgaon,t_{1}} \\cdot {buy}_{H2O,madgaon,t_{1}}$"
      ],
      "text/plain": [
       "<IPython.core.display.Math object>"
      ]
     },
     "metadata": {},
     "output_type": "display_data"
    },
    {
     "data": {
      "text/latex": [
       "$\\displaystyle {exp^{buy}}_{csh,H2O,ponje,t_{1}} = {DtSt}_{csh,H2O,ponje,t_{1}} \\cdot {buy}_{H2O,ponje,t_{1}}$"
      ],
      "text/plain": [
       "<IPython.core.display.Math object>"
      ]
     },
     "metadata": {},
     "output_type": "display_data"
    },
    {
     "data": {
      "text/latex": [
       "$\\displaystyle {exp^{buy}}_{csh,H2O,cacoda,t_{1}} = {DtSt}_{csh,H2O,cacoda,t_{1}} \\cdot {buy}_{H2O,cacoda,t_{1}}$"
      ],
      "text/plain": [
       "<IPython.core.display.Math object>"
      ]
     },
     "metadata": {},
     "output_type": "display_data"
    },
    {
     "data": {
      "text/latex": [
       "$\\displaystyle {buy}_{CH_{4},net,t_{0}} \\geq 20$"
      ],
      "text/plain": [
       "<IPython.core.display.Math object>"
      ]
     },
     "metadata": {},
     "output_type": "display_data"
    },
    {
     "data": {
      "text/latex": [
       "$\\displaystyle {buy}_{CH_{4},net,t_{0}} \\leq 40$"
      ],
      "text/plain": [
       "<IPython.core.display.Math object>"
      ]
     },
     "metadata": {},
     "output_type": "display_data"
    },
    {
     "data": {
      "text/latex": [
       "$\\displaystyle {exp^{buy}}_{csh,CH_{4},madgaon,t_{0}} = {buy}_{CH_{4},madgaon,t_{0}} \\cdot 20$"
      ],
      "text/plain": [
       "<IPython.core.display.Math object>"
      ]
     },
     "metadata": {},
     "output_type": "display_data"
    },
    {
     "data": {
      "text/latex": [
       "$\\displaystyle {exp^{buy}}_{csh,CH_{4},ponje,t_{0}} = {buy}_{CH_{4},ponje,t_{0}} \\cdot 20$"
      ],
      "text/plain": [
       "<IPython.core.display.Math object>"
      ]
     },
     "metadata": {},
     "output_type": "display_data"
    },
    {
     "data": {
      "text/latex": [
       "$\\displaystyle {exp^{buy}}_{csh,CH_{4},cacoda,t_{0}} = {buy}_{CH_{4},cacoda,t_{0}} \\cdot 20$"
      ],
      "text/plain": [
       "<IPython.core.display.Math object>"
      ]
     },
     "metadata": {},
     "output_type": "display_data"
    },
    {
     "data": {
      "text/latex": [
       "$\\displaystyle {exp^{sell}}_{csh,CO_{2 Vent},madgaon,t_{0}} = {sell}_{CO_{2 Vent},madgaon,t_{0}} \\cdot {θ}_{csh,CO_{2 Vent},madgaon,t_{0}}$"
      ],
      "text/plain": [
       "<IPython.core.display.Math object>"
      ]
     },
     "metadata": {},
     "output_type": "display_data"
    },
    {
     "data": {
      "text/latex": [
       "$\\displaystyle {exp^{sell}}_{csh,CO_{2 Vent},ponje,t_{0}} = {sell}_{CO_{2 Vent},ponje,t_{0}} \\cdot {θ}_{csh,CO_{2 Vent},ponje,t_{0}}$"
      ],
      "text/plain": [
       "<IPython.core.display.Math object>"
      ]
     },
     "metadata": {},
     "output_type": "display_data"
    },
    {
     "data": {
      "text/latex": [
       "$\\displaystyle {exp^{sell}}_{csh,CO_{2 Vent},cacoda,t_{0}} = {sell}_{CO_{2 Vent},cacoda,t_{0}} \\cdot {θ}_{csh,CO_{2 Vent},cacoda,t_{0}}$"
      ],
      "text/plain": [
       "<IPython.core.display.Math object>"
      ]
     },
     "metadata": {},
     "output_type": "display_data"
    },
    {
     "data": {
      "text/latex": [
       "$\\displaystyle {emit^{sell}}_{gwp,CO_{2 Vent},madgaon,t_{1}} = {DtSt}_{gwp,CO_{2 Vent},madgaon,t_{1}} \\cdot {sell}_{CO_{2 Vent},madgaon,t_{1}}$"
      ],
      "text/plain": [
       "<IPython.core.display.Math object>"
      ]
     },
     "metadata": {},
     "output_type": "display_data"
    },
    {
     "data": {
      "text/latex": [
       "$\\displaystyle {emit^{sell}}_{gwp,CO_{2 Vent},ponje,t_{1}} = {DtSt}_{gwp,CO_{2 Vent},ponje,t_{1}} \\cdot {sell}_{CO_{2 Vent},ponje,t_{1}}$"
      ],
      "text/plain": [
       "<IPython.core.display.Math object>"
      ]
     },
     "metadata": {},
     "output_type": "display_data"
    },
    {
     "data": {
      "text/latex": [
       "$\\displaystyle {emit^{sell}}_{gwp,CO_{2 Vent},cacoda,t_{1}} = {DtSt}_{gwp,CO_{2 Vent},cacoda,t_{1}} \\cdot {sell}_{CO_{2 Vent},cacoda,t_{1}}$"
      ],
      "text/plain": [
       "<IPython.core.display.Math object>"
      ]
     },
     "metadata": {},
     "output_type": "display_data"
    },
    {
     "data": {
      "text/latex": [
       "$\\displaystyle {sell}_{O_{2},net,t_{0}} \\geq 20$"
      ],
      "text/plain": [
       "<IPython.core.display.Math object>"
      ]
     },
     "metadata": {},
     "output_type": "display_data"
    },
    {
     "data": {
      "text/latex": [
       "$\\displaystyle {sell}_{O_{2},net,t_{0}} \\leq M$"
      ],
      "text/plain": [
       "<IPython.core.display.Math object>"
      ]
     },
     "metadata": {},
     "output_type": "display_data"
    },
    {
     "data": {
      "text/latex": [
       "$\\displaystyle {use}_{LiR,ponje,t_{0}} = 1.5$"
      ],
      "text/plain": [
       "<IPython.core.display.Math object>"
      ]
     },
     "metadata": {},
     "output_type": "display_data"
    },
    {
     "data": {
      "text/latex": [
       "$\\displaystyle {emit^{use}}_{gwp,LiR,madgaon,t_{0}} = {use}_{LiR,madgaon,t_{0}} \\cdot 1.484$"
      ],
      "text/plain": [
       "<IPython.core.display.Math object>"
      ]
     },
     "metadata": {},
     "output_type": "display_data"
    },
    {
     "data": {
      "text/latex": [
       "$\\displaystyle {emit^{use}}_{gwp,LiR,ponje,t_{0}} = {use}_{LiR,ponje,t_{0}} \\cdot 1.484$"
      ],
      "text/plain": [
       "<IPython.core.display.Math object>"
      ]
     },
     "metadata": {},
     "output_type": "display_data"
    },
    {
     "data": {
      "text/latex": [
       "$\\displaystyle {emit^{use}}_{gwp,LiR,cacoda,t_{0}} = {use}_{LiR,cacoda,t_{0}} \\cdot 1.484$"
      ],
      "text/plain": [
       "<IPython.core.display.Math object>"
      ]
     },
     "metadata": {},
     "output_type": "display_data"
    },
    {
     "data": {
      "text/latex": [
       "$\\displaystyle {capacity^{add}}_{WF,net,t_{0}} = 1000$"
      ],
      "text/plain": [
       "<IPython.core.display.Math object>"
      ]
     },
     "metadata": {},
     "output_type": "display_data"
    },
    {
     "data": {
      "text/latex": [
       "$\\displaystyle {produce}_{WF,net,t_{0}} \\geq {capacity^{add}}_{net,t_{0}} \\cdot {θ^{min}}_{WF,net,t_{0}}$"
      ],
      "text/plain": [
       "<IPython.core.display.Math object>"
      ]
     },
     "metadata": {},
     "output_type": "display_data"
    },
    {
     "data": {
      "text/latex": [
       "$\\displaystyle {produce}_{WF,net,t_{0}} \\leq {capacity^{add}}_{net,t_{0}} \\cdot {θ^{max}}_{WF,net,t_{0}}$"
      ],
      "text/plain": [
       "<IPython.core.display.Math object>"
      ]
     },
     "metadata": {},
     "output_type": "display_data"
    },
    {
     "data": {
      "text/latex": [
       "$\\displaystyle {use^{setup}}_{LiR,WF,madgaon,t_{0}} = {capacity^{add}}_{WF,madgaon,t_{0}} \\cdot 1.5$"
      ],
      "text/plain": [
       "<IPython.core.display.Math object>"
      ]
     },
     "metadata": {},
     "output_type": "display_data"
    },
    {
     "data": {
      "text/latex": [
       "$\\displaystyle {use^{setup}}_{LiR,WF,ponje,t_{0}} = {capacity^{add}}_{WF,ponje,t_{0}} \\cdot 1.5$"
      ],
      "text/plain": [
       "<IPython.core.display.Math object>"
      ]
     },
     "metadata": {},
     "output_type": "display_data"
    },
    {
     "data": {
      "text/latex": [
       "$\\displaystyle {use^{setup}}_{LiR,WF,cacoda,t_{0}} = {capacity^{add}}_{WF,cacoda,t_{0}} \\cdot 1.5$"
      ],
      "text/plain": [
       "<IPython.core.display.Math object>"
      ]
     },
     "metadata": {},
     "output_type": "display_data"
    },
    {
     "data": {
      "text/latex": [
       "$\\displaystyle {use^{setup}}_{lnd_{def},WF,madgaon,t_{0}} = {capacity^{add}}_{WF,madgaon,t_{0}} \\cdot 30$"
      ],
      "text/plain": [
       "<IPython.core.display.Math object>"
      ]
     },
     "metadata": {},
     "output_type": "display_data"
    },
    {
     "data": {
      "text/latex": [
       "$\\displaystyle {use^{setup}}_{lnd_{def},WF,ponje,t_{0}} = {capacity^{add}}_{WF,ponje,t_{0}} \\cdot 30$"
      ],
      "text/plain": [
       "<IPython.core.display.Math object>"
      ]
     },
     "metadata": {},
     "output_type": "display_data"
    },
    {
     "data": {
      "text/latex": [
       "$\\displaystyle {use^{setup}}_{lnd_{def},WF,cacoda,t_{0}} = {capacity^{add}}_{WF,cacoda,t_{0}} \\cdot 30$"
      ],
      "text/plain": [
       "<IPython.core.display.Math object>"
      ]
     },
     "metadata": {},
     "output_type": "display_data"
    },
    {
     "data": {
      "text/latex": [
       "$\\displaystyle {emit^{setup}}_{gwp,WF,madgaon,t_{0}} = {capacity^{add}}_{WF,madgaon,t_{0}} \\cdot 50$"
      ],
      "text/plain": [
       "<IPython.core.display.Math object>"
      ]
     },
     "metadata": {},
     "output_type": "display_data"
    },
    {
     "data": {
      "text/latex": [
       "$\\displaystyle {emit^{setup}}_{gwp,WF,ponje,t_{0}} = {capacity^{add}}_{WF,ponje,t_{0}} \\cdot 50$"
      ],
      "text/plain": [
       "<IPython.core.display.Math object>"
      ]
     },
     "metadata": {},
     "output_type": "display_data"
    },
    {
     "data": {
      "text/latex": [
       "$\\displaystyle {emit^{setup}}_{gwp,WF,cacoda,t_{0}} = {capacity^{add}}_{WF,cacoda,t_{0}} \\cdot 50$"
      ],
      "text/plain": [
       "<IPython.core.display.Math object>"
      ]
     },
     "metadata": {},
     "output_type": "display_data"
    },
    {
     "data": {
      "text/latex": [
       "$\\displaystyle {emit^{setup}}_{odp,WF,madgaon,t_{0}} = {capacity^{add}}_{WF,madgaon,t_{0}} \\cdot 2900$"
      ],
      "text/plain": [
       "<IPython.core.display.Math object>"
      ]
     },
     "metadata": {},
     "output_type": "display_data"
    },
    {
     "data": {
      "text/latex": [
       "$\\displaystyle {emit^{setup}}_{odp,WF,ponje,t_{0}} = {capacity^{add}}_{WF,ponje,t_{0}} \\cdot 2900$"
      ],
      "text/plain": [
       "<IPython.core.display.Math object>"
      ]
     },
     "metadata": {},
     "output_type": "display_data"
    },
    {
     "data": {
      "text/latex": [
       "$\\displaystyle {emit^{setup}}_{odp,WF,cacoda,t_{0}} = {capacity^{add}}_{WF,cacoda,t_{0}} \\cdot 2900$"
      ],
      "text/plain": [
       "<IPython.core.display.Math object>"
      ]
     },
     "metadata": {},
     "output_type": "display_data"
    },
    {
     "data": {
      "text/latex": [
       "$\\displaystyle {exp^{capex}}_{csh,WF,madgaon,t_{1}} = {capacity^{add}}_{WF,madgaon,t_{1}} \\cdot 1462000$"
      ],
      "text/plain": [
       "<IPython.core.display.Math object>"
      ]
     },
     "metadata": {},
     "output_type": "display_data"
    },
    {
     "data": {
      "text/latex": [
       "$\\displaystyle {exp^{capex}}_{csh,WF,madgaon,t_{1}} = {capacity^{add}}_{WF,madgaon,t_{1}} \\cdot 202233$"
      ],
      "text/plain": [
       "<IPython.core.display.Math object>"
      ]
     },
     "metadata": {},
     "output_type": "display_data"
    },
    {
     "data": {
      "text/latex": [
       "$\\displaystyle {exp^{opex}}_{csh,WF,madgaon,t_{0}} = {produce}_{WF,madgaon,t_{0}} \\cdot 70$"
      ],
      "text/plain": [
       "<IPython.core.display.Math object>"
      ]
     },
     "metadata": {},
     "output_type": "display_data"
    },
    {
     "data": {
      "text/latex": [
       "$\\displaystyle {exp^{opex}}_{csh,WF,madgaon,t_{0}} = {produce}_{WF,madgaon,t_{0}} \\cdot 4953$"
      ],
      "text/plain": [
       "<IPython.core.display.Math object>"
      ]
     },
     "metadata": {},
     "output_type": "display_data"
    },
    {
     "data": {
      "text/latex": [
       "$\\displaystyle {exp^{opex}}_{csh,WF,ponje,t_{0}} = {produce}_{WF,ponje,t_{0}} \\cdot 70$"
      ],
      "text/plain": [
       "<IPython.core.display.Math object>"
      ]
     },
     "metadata": {},
     "output_type": "display_data"
    },
    {
     "data": {
      "text/latex": [
       "$\\displaystyle {exp^{opex}}_{csh,WF,ponje,t_{0}} = {produce}_{WF,ponje,t_{0}} \\cdot 4953$"
      ],
      "text/plain": [
       "<IPython.core.display.Math object>"
      ]
     },
     "metadata": {},
     "output_type": "display_data"
    },
    {
     "data": {
      "text/latex": [
       "$\\displaystyle {exp^{opex}}_{csh,WF,cacoda,t_{0}} = {produce}_{WF,cacoda,t_{0}} \\cdot 4953$"
      ],
      "text/plain": [
       "<IPython.core.display.Math object>"
      ]
     },
     "metadata": {},
     "output_type": "display_data"
    },
    {
     "data": {
      "text/latex": [
       "$\\displaystyle {exp^{opex}}_{csh,WF,cacoda,t_{0}} = {produce}_{WF,cacoda,t_{0}} \\cdot 70$"
      ],
      "text/plain": [
       "<IPython.core.display.Math object>"
      ]
     },
     "metadata": {},
     "output_type": "display_data"
    },
    {
     "data": {
      "text/latex": [
       "$\\displaystyle {capacity^{add}}_{PV,net,t_{0}} = 5000$"
      ],
      "text/plain": [
       "<IPython.core.display.Math object>"
      ]
     },
     "metadata": {},
     "output_type": "display_data"
    },
    {
     "data": {
      "text/latex": [
       "$\\displaystyle {exp^{capex}}_{csh,PV,madgaon,t_{0}} = {capacity^{add}}_{PV,madgaon,t_{0}} \\cdot 1555$"
      ],
      "text/plain": [
       "<IPython.core.display.Math object>"
      ]
     },
     "metadata": {},
     "output_type": "display_data"
    },
    {
     "data": {
      "text/latex": [
       "$\\displaystyle {exp^{capex}}_{csh,PV,ponje,t_{0}} = {capacity^{add}}_{PV,ponje,t_{0}} \\cdot 1555$"
      ],
      "text/plain": [
       "<IPython.core.display.Math object>"
      ]
     },
     "metadata": {},
     "output_type": "display_data"
    },
    {
     "data": {
      "text/latex": [
       "$\\displaystyle {exp^{capex}}_{csh,PV,cacoda,t_{0}} = {capacity^{add}}_{PV,cacoda,t_{0}} \\cdot 1555$"
      ],
      "text/plain": [
       "<IPython.core.display.Math object>"
      ]
     },
     "metadata": {},
     "output_type": "display_data"
    },
    {
     "data": {
      "text/latex": [
       "$\\displaystyle {exp^{capex}}_{csh,PV,madgaon,t_{0}} = {produce}_{PV,madgaon,t_{0}} \\cdot 22623$"
      ],
      "text/plain": [
       "<IPython.core.display.Math object>"
      ]
     },
     "metadata": {},
     "output_type": "display_data"
    },
    {
     "data": {
      "text/latex": [
       "$\\displaystyle {exp^{capex}}_{csh,PV,ponje,t_{0}} = {produce}_{PV,ponje,t_{0}} \\cdot 22623$"
      ],
      "text/plain": [
       "<IPython.core.display.Math object>"
      ]
     },
     "metadata": {},
     "output_type": "display_data"
    },
    {
     "data": {
      "text/latex": [
       "$\\displaystyle {exp^{capex}}_{csh,PV,cacoda,t_{0}} = {produce}_{PV,cacoda,t_{0}} \\cdot 22623$"
      ],
      "text/plain": [
       "<IPython.core.display.Math object>"
      ]
     },
     "metadata": {},
     "output_type": "display_data"
    },
    {
     "data": {
      "text/latex": [
       "$\\displaystyle {capacity^{add}}_{SMRH,net,t_{0}} \\geq 0$"
      ],
      "text/plain": [
       "<IPython.core.display.Math object>"
      ]
     },
     "metadata": {},
     "output_type": "display_data"
    },
    {
     "data": {
      "text/latex": [
       "$\\displaystyle {capacity^{add}}_{SMRH,net,t_{0}} \\leq 1000$"
      ],
      "text/plain": [
       "<IPython.core.display.Math object>"
      ]
     },
     "metadata": {},
     "output_type": "display_data"
    },
    {
     "data": {
      "text/latex": [
       "$\\displaystyle {use^{setup}}_{lnd_{def},SMRH,madgaon,t_{0}} = {capacity^{add}}_{SMRH,madgaon,t_{0}} \\cdot 50$"
      ],
      "text/plain": [
       "<IPython.core.display.Math object>"
      ]
     },
     "metadata": {},
     "output_type": "display_data"
    },
    {
     "data": {
      "text/latex": [
       "$\\displaystyle {use^{setup}}_{lnd_{def},SMRH,ponje,t_{0}} = {capacity^{add}}_{SMRH,ponje,t_{0}} \\cdot 50$"
      ],
      "text/plain": [
       "<IPython.core.display.Math object>"
      ]
     },
     "metadata": {},
     "output_type": "display_data"
    },
    {
     "data": {
      "text/latex": [
       "$\\displaystyle {use^{setup}}_{lnd_{def},SMRH,cacoda,t_{0}} = {capacity^{add}}_{SMRH,cacoda,t_{0}} \\cdot 50$"
      ],
      "text/plain": [
       "<IPython.core.display.Math object>"
      ]
     },
     "metadata": {},
     "output_type": "display_data"
    },
    {
     "data": {
      "text/latex": [
       "$\\displaystyle {exp^{capex}}_{csh,SMRH,madgaon,t_{0}} = {capacity^{add}}_{SMRH,madgaon,t_{0}} \\cdot 2520000$"
      ],
      "text/plain": [
       "<IPython.core.display.Math object>"
      ]
     },
     "metadata": {},
     "output_type": "display_data"
    },
    {
     "data": {
      "text/latex": [
       "$\\displaystyle {exp^{capex}}_{csh,SMRH,ponje,t_{0}} = {capacity^{add}}_{SMRH,ponje,t_{0}} \\cdot 2520000$"
      ],
      "text/plain": [
       "<IPython.core.display.Math object>"
      ]
     },
     "metadata": {},
     "output_type": "display_data"
    },
    {
     "data": {
      "text/latex": [
       "$\\displaystyle {exp^{capex}}_{csh,SMRH,cacoda,t_{0}} = {capacity^{add}}_{SMRH,cacoda,t_{0}} \\cdot 2520000$"
      ],
      "text/plain": [
       "<IPython.core.display.Math object>"
      ]
     },
     "metadata": {},
     "output_type": "display_data"
    },
    {
     "data": {
      "text/latex": [
       "$\\displaystyle {exp^{capex}}_{csh,SMRH,madgaon,t_{0}} = {produce}_{SMRH,madgaon,t_{0}} \\cdot 945000$"
      ],
      "text/plain": [
       "<IPython.core.display.Math object>"
      ]
     },
     "metadata": {},
     "output_type": "display_data"
    },
    {
     "data": {
      "text/latex": [
       "$\\displaystyle {exp^{capex}}_{csh,SMRH,madgaon,t_{0}} = {produce}_{SMRH,madgaon,t_{0}} \\cdot 51.5$"
      ],
      "text/plain": [
       "<IPython.core.display.Math object>"
      ]
     },
     "metadata": {},
     "output_type": "display_data"
    },
    {
     "data": {
      "text/latex": [
       "$\\displaystyle {exp^{capex}}_{csh,SMRH,ponje,t_{0}} = {produce}_{SMRH,ponje,t_{0}} \\cdot 51.5$"
      ],
      "text/plain": [
       "<IPython.core.display.Math object>"
      ]
     },
     "metadata": {},
     "output_type": "display_data"
    },
    {
     "data": {
      "text/latex": [
       "$\\displaystyle {exp^{capex}}_{csh,SMRH,ponje,t_{0}} = {produce}_{SMRH,ponje,t_{0}} \\cdot 945000$"
      ],
      "text/plain": [
       "<IPython.core.display.Math object>"
      ]
     },
     "metadata": {},
     "output_type": "display_data"
    },
    {
     "data": {
      "text/latex": [
       "$\\displaystyle {exp^{capex}}_{csh,SMRH,cacoda,t_{0}} = {produce}_{SMRH,cacoda,t_{0}} \\cdot 51.5$"
      ],
      "text/plain": [
       "<IPython.core.display.Math object>"
      ]
     },
     "metadata": {},
     "output_type": "display_data"
    },
    {
     "data": {
      "text/latex": [
       "$\\displaystyle {exp^{capex}}_{csh,SMRH,cacoda,t_{0}} = {produce}_{SMRH,cacoda,t_{0}} \\cdot 945000$"
      ],
      "text/plain": [
       "<IPython.core.display.Math object>"
      ]
     },
     "metadata": {},
     "output_type": "display_data"
    },
    {
     "data": {
      "text/latex": [
       "$\\displaystyle {capacity^{add}}_{NGCC,net,t_{0}} \\geq 1$"
      ],
      "text/plain": [
       "<IPython.core.display.Math object>"
      ]
     },
     "metadata": {},
     "output_type": "display_data"
    },
    {
     "data": {
      "text/latex": [
       "$\\displaystyle {capacity^{add}}_{NGCC,net,t_{0}} \\leq 100$"
      ],
      "text/plain": [
       "<IPython.core.display.Math object>"
      ]
     },
     "metadata": {},
     "output_type": "display_data"
    },
    {
     "data": {
      "text/latex": [
       "$\\displaystyle {exp^{capex}}_{csh,NGCC,madgaon,t_{0}} = {capacity^{add}}_{NGCC,madgaon,t_{0}} \\cdot 2158928$"
      ],
      "text/plain": [
       "<IPython.core.display.Math object>"
      ]
     },
     "metadata": {},
     "output_type": "display_data"
    },
    {
     "data": {
      "text/latex": [
       "$\\displaystyle {exp^{capex}}_{csh,NGCC,ponje,t_{0}} = {capacity^{add}}_{NGCC,ponje,t_{0}} \\cdot 2158928$"
      ],
      "text/plain": [
       "<IPython.core.display.Math object>"
      ]
     },
     "metadata": {},
     "output_type": "display_data"
    },
    {
     "data": {
      "text/latex": [
       "$\\displaystyle {exp^{capex}}_{csh,NGCC,cacoda,t_{0}} = {capacity^{add}}_{NGCC,cacoda,t_{0}} \\cdot 2158928$"
      ],
      "text/plain": [
       "<IPython.core.display.Math object>"
      ]
     },
     "metadata": {},
     "output_type": "display_data"
    },
    {
     "data": {
      "text/latex": [
       "$\\displaystyle {exp^{capex}}_{csh,NGCC,madgaon,t_{0}} = {produce}_{NGCC,madgaon,t_{0}} \\cdot 53320$"
      ],
      "text/plain": [
       "<IPython.core.display.Math object>"
      ]
     },
     "metadata": {},
     "output_type": "display_data"
    },
    {
     "data": {
      "text/latex": [
       "$\\displaystyle {exp^{capex}}_{csh,NGCC,madgaon,t_{0}} = {produce}_{NGCC,madgaon,t_{0}} \\cdot 4090$"
      ],
      "text/plain": [
       "<IPython.core.display.Math object>"
      ]
     },
     "metadata": {},
     "output_type": "display_data"
    },
    {
     "data": {
      "text/latex": [
       "$\\displaystyle {exp^{capex}}_{csh,NGCC,ponje,t_{0}} = {produce}_{NGCC,ponje,t_{0}} \\cdot 53320$"
      ],
      "text/plain": [
       "<IPython.core.display.Math object>"
      ]
     },
     "metadata": {},
     "output_type": "display_data"
    },
    {
     "data": {
      "text/latex": [
       "$\\displaystyle {exp^{capex}}_{csh,NGCC,ponje,t_{0}} = {produce}_{NGCC,ponje,t_{0}} \\cdot 4090$"
      ],
      "text/plain": [
       "<IPython.core.display.Math object>"
      ]
     },
     "metadata": {},
     "output_type": "display_data"
    },
    {
     "data": {
      "text/latex": [
       "$\\displaystyle {exp^{capex}}_{csh,NGCC,cacoda,t_{0}} = {produce}_{NGCC,cacoda,t_{0}} \\cdot 4090$"
      ],
      "text/plain": [
       "<IPython.core.display.Math object>"
      ]
     },
     "metadata": {},
     "output_type": "display_data"
    },
    {
     "data": {
      "text/latex": [
       "$\\displaystyle {exp^{capex}}_{csh,NGCC,cacoda,t_{0}} = {produce}_{NGCC,cacoda,t_{0}} \\cdot 53320$"
      ],
      "text/plain": [
       "<IPython.core.display.Math object>"
      ]
     },
     "metadata": {},
     "output_type": "display_data"
    },
    {
     "data": {
      "text/latex": [
       "$\\displaystyle {capacity^{add}}_{SMR,net,t_{0}} = 1000$"
      ],
      "text/plain": [
       "<IPython.core.display.Math object>"
      ]
     },
     "metadata": {},
     "output_type": "display_data"
    },
    {
     "data": {
      "text/latex": [
       "$\\displaystyle {exp^{capex}}_{csh,SMR,madgaon,t_{0}} = {capacity^{add}}_{SMR,madgaon,t_{0}} \\cdot 2400$"
      ],
      "text/plain": [
       "<IPython.core.display.Math object>"
      ]
     },
     "metadata": {},
     "output_type": "display_data"
    },
    {
     "data": {
      "text/latex": [
       "$\\displaystyle {exp^{capex}}_{csh,SMR,ponje,t_{0}} = {capacity^{add}}_{SMR,ponje,t_{0}} \\cdot 2400$"
      ],
      "text/plain": [
       "<IPython.core.display.Math object>"
      ]
     },
     "metadata": {},
     "output_type": "display_data"
    },
    {
     "data": {
      "text/latex": [
       "$\\displaystyle {exp^{capex}}_{csh,SMR,cacoda,t_{0}} = {capacity^{add}}_{SMR,cacoda,t_{0}} \\cdot 2400$"
      ],
      "text/plain": [
       "<IPython.core.display.Math object>"
      ]
     },
     "metadata": {},
     "output_type": "display_data"
    },
    {
     "data": {
      "text/latex": [
       "$\\displaystyle {exp^{capex}}_{csh,SMR,madgaon,t_{0}} = {produce}_{SMR,madgaon,t_{0}} \\cdot 0.03$"
      ],
      "text/plain": [
       "<IPython.core.display.Math object>"
      ]
     },
     "metadata": {},
     "output_type": "display_data"
    },
    {
     "data": {
      "text/latex": [
       "$\\displaystyle {exp^{capex}}_{csh,SMR,madgaon,t_{0}} = {produce}_{SMR,madgaon,t_{0}} \\cdot 800$"
      ],
      "text/plain": [
       "<IPython.core.display.Math object>"
      ]
     },
     "metadata": {},
     "output_type": "display_data"
    },
    {
     "data": {
      "text/latex": [
       "$\\displaystyle {exp^{capex}}_{csh,SMR,ponje,t_{0}} = {produce}_{SMR,ponje,t_{0}} \\cdot 800$"
      ],
      "text/plain": [
       "<IPython.core.display.Math object>"
      ]
     },
     "metadata": {},
     "output_type": "display_data"
    },
    {
     "data": {
      "text/latex": [
       "$\\displaystyle {exp^{capex}}_{csh,SMR,ponje,t_{0}} = {produce}_{SMR,ponje,t_{0}} \\cdot 0.03$"
      ],
      "text/plain": [
       "<IPython.core.display.Math object>"
      ]
     },
     "metadata": {},
     "output_type": "display_data"
    },
    {
     "data": {
      "text/latex": [
       "$\\displaystyle {exp^{capex}}_{csh,SMR,cacoda,t_{0}} = {produce}_{SMR,cacoda,t_{0}} \\cdot 0.03$"
      ],
      "text/plain": [
       "<IPython.core.display.Math object>"
      ]
     },
     "metadata": {},
     "output_type": "display_data"
    },
    {
     "data": {
      "text/latex": [
       "$\\displaystyle {exp^{capex}}_{csh,SMR,cacoda,t_{0}} = {produce}_{SMR,cacoda,t_{0}} \\cdot 800$"
      ],
      "text/plain": [
       "<IPython.core.display.Math object>"
      ]
     },
     "metadata": {},
     "output_type": "display_data"
    },
    {
     "data": {
      "text/latex": [
       "$\\displaystyle {capacity^{add}}_{H2FC,net,t_{0}} \\geq 1000$"
      ],
      "text/plain": [
       "<IPython.core.display.Math object>"
      ]
     },
     "metadata": {},
     "output_type": "display_data"
    },
    {
     "data": {
      "text/latex": [
       "$\\displaystyle {capacity^{add}}_{H2FC,net,t_{0}} \\leq 2000$"
      ],
      "text/plain": [
       "<IPython.core.display.Math object>"
      ]
     },
     "metadata": {},
     "output_type": "display_data"
    },
    {
     "data": {
      "text/latex": [
       "$\\displaystyle {exp^{capex}}_{csh,H2FC,madgaon,t_{0}} = {capacity^{add}}_{H2FC,madgaon,t_{0}} \\cdot 1600000.0$"
      ],
      "text/plain": [
       "<IPython.core.display.Math object>"
      ]
     },
     "metadata": {},
     "output_type": "display_data"
    },
    {
     "data": {
      "text/latex": [
       "$\\displaystyle {exp^{capex}}_{csh,H2FC,ponje,t_{0}} = {capacity^{add}}_{H2FC,ponje,t_{0}} \\cdot 1600000.0$"
      ],
      "text/plain": [
       "<IPython.core.display.Math object>"
      ]
     },
     "metadata": {},
     "output_type": "display_data"
    },
    {
     "data": {
      "text/latex": [
       "$\\displaystyle {exp^{capex}}_{csh,H2FC,cacoda,t_{0}} = {capacity^{add}}_{H2FC,cacoda,t_{0}} \\cdot 1600000.0$"
      ],
      "text/plain": [
       "<IPython.core.display.Math object>"
      ]
     },
     "metadata": {},
     "output_type": "display_data"
    },
    {
     "data": {
      "text/latex": [
       "$\\displaystyle {exp^{capex}}_{csh,H2FC,madgaon,t_{0}} = {produce}_{H2FC,madgaon,t_{0}} \\cdot 3.5$"
      ],
      "text/plain": [
       "<IPython.core.display.Math object>"
      ]
     },
     "metadata": {},
     "output_type": "display_data"
    },
    {
     "data": {
      "text/latex": [
       "$\\displaystyle {exp^{capex}}_{csh,H2FC,ponje,t_{0}} = {produce}_{H2FC,ponje,t_{0}} \\cdot 3.5$"
      ],
      "text/plain": [
       "<IPython.core.display.Math object>"
      ]
     },
     "metadata": {},
     "output_type": "display_data"
    },
    {
     "data": {
      "text/latex": [
       "$\\displaystyle {exp^{capex}}_{csh,H2FC,cacoda,t_{0}} = {produce}_{H2FC,cacoda,t_{0}} \\cdot 3.5$"
      ],
      "text/plain": [
       "<IPython.core.display.Math object>"
      ]
     },
     "metadata": {},
     "output_type": "display_data"
    },
    {
     "data": {
      "text/latex": [
       "$\\displaystyle {capacity^{add}}_{DAC,net,t_{0}} = 1000$"
      ],
      "text/plain": [
       "<IPython.core.display.Math object>"
      ]
     },
     "metadata": {},
     "output_type": "display_data"
    },
    {
     "data": {
      "text/latex": [
       "$\\displaystyle {exp^{capex}}_{csh,DAC,madgaon,t_{0}} = {capacity^{add}}_{DAC,madgaon,t_{0}} \\cdot 0.02536$"
      ],
      "text/plain": [
       "<IPython.core.display.Math object>"
      ]
     },
     "metadata": {},
     "output_type": "display_data"
    },
    {
     "data": {
      "text/latex": [
       "$\\displaystyle {exp^{capex}}_{csh,DAC,ponje,t_{0}} = {capacity^{add}}_{DAC,ponje,t_{0}} \\cdot 0.02536$"
      ],
      "text/plain": [
       "<IPython.core.display.Math object>"
      ]
     },
     "metadata": {},
     "output_type": "display_data"
    },
    {
     "data": {
      "text/latex": [
       "$\\displaystyle {exp^{capex}}_{csh,DAC,cacoda,t_{0}} = {capacity^{add}}_{DAC,cacoda,t_{0}} \\cdot 0.02536$"
      ],
      "text/plain": [
       "<IPython.core.display.Math object>"
      ]
     },
     "metadata": {},
     "output_type": "display_data"
    },
    {
     "data": {
      "text/latex": [
       "$\\displaystyle {exp^{capex}}_{csh,DAC,madgaon,t_{0}} = {produce}_{DAC,madgaon,t_{0}} \\cdot 0.634$"
      ],
      "text/plain": [
       "<IPython.core.display.Math object>"
      ]
     },
     "metadata": {},
     "output_type": "display_data"
    },
    {
     "data": {
      "text/latex": [
       "$\\displaystyle {exp^{capex}}_{csh,DAC,ponje,t_{0}} = {produce}_{DAC,ponje,t_{0}} \\cdot 0.634$"
      ],
      "text/plain": [
       "<IPython.core.display.Math object>"
      ]
     },
     "metadata": {},
     "output_type": "display_data"
    },
    {
     "data": {
      "text/latex": [
       "$\\displaystyle {exp^{capex}}_{csh,DAC,cacoda,t_{0}} = {produce}_{DAC,cacoda,t_{0}} \\cdot 0.634$"
      ],
      "text/plain": [
       "<IPython.core.display.Math object>"
      ]
     },
     "metadata": {},
     "output_type": "display_data"
    },
    {
     "data": {
      "text/latex": [
       "$\\displaystyle {capacity^{add}}_{ASMR,net,t_{0}} = 1000$"
      ],
      "text/plain": [
       "<IPython.core.display.Math object>"
      ]
     },
     "metadata": {},
     "output_type": "display_data"
    },
    {
     "data": {
      "text/latex": [
       "$\\displaystyle {exp^{capex}}_{csh,ASMR,madgaon,t_{0}} = {capacity^{add}}_{ASMR,madgaon,t_{0}} \\cdot 7988951$"
      ],
      "text/plain": [
       "<IPython.core.display.Math object>"
      ]
     },
     "metadata": {},
     "output_type": "display_data"
    },
    {
     "data": {
      "text/latex": [
       "$\\displaystyle {exp^{capex}}_{csh,ASMR,ponje,t_{0}} = {capacity^{add}}_{ASMR,ponje,t_{0}} \\cdot 7988951$"
      ],
      "text/plain": [
       "<IPython.core.display.Math object>"
      ]
     },
     "metadata": {},
     "output_type": "display_data"
    },
    {
     "data": {
      "text/latex": [
       "$\\displaystyle {exp^{capex}}_{csh,ASMR,cacoda,t_{0}} = {capacity^{add}}_{ASMR,cacoda,t_{0}} \\cdot 7988951$"
      ],
      "text/plain": [
       "<IPython.core.display.Math object>"
      ]
     },
     "metadata": {},
     "output_type": "display_data"
    },
    {
     "data": {
      "text/latex": [
       "$\\displaystyle {exp^{capex}}_{csh,ASMR,madgaon,t_{0}} = {produce}_{ASMR,madgaon,t_{0}} \\cdot 0.0292$"
      ],
      "text/plain": [
       "<IPython.core.display.Math object>"
      ]
     },
     "metadata": {},
     "output_type": "display_data"
    },
    {
     "data": {
      "text/latex": [
       "$\\displaystyle {exp^{capex}}_{csh,ASMR,ponje,t_{0}} = {produce}_{ASMR,ponje,t_{0}} \\cdot 0.0292$"
      ],
      "text/plain": [
       "<IPython.core.display.Math object>"
      ]
     },
     "metadata": {},
     "output_type": "display_data"
    },
    {
     "data": {
      "text/latex": [
       "$\\displaystyle {exp^{capex}}_{csh,ASMR,cacoda,t_{0}} = {produce}_{ASMR,cacoda,t_{0}} \\cdot 0.0292$"
      ],
      "text/plain": [
       "<IPython.core.display.Math object>"
      ]
     },
     "metadata": {},
     "output_type": "display_data"
    },
    {
     "data": {
      "text/latex": [
       "$\\displaystyle {capacity^{add}}_{AWE,net,t_{0}} \\geq 0$"
      ],
      "text/plain": [
       "<IPython.core.display.Math object>"
      ]
     },
     "metadata": {},
     "output_type": "display_data"
    },
    {
     "data": {
      "text/latex": [
       "$\\displaystyle {capacity^{add}}_{AWE,net,t_{0}} \\leq M$"
      ],
      "text/plain": [
       "<IPython.core.display.Math object>"
      ]
     },
     "metadata": {},
     "output_type": "display_data"
    },
    {
     "data": {
      "text/latex": [
       "$\\displaystyle {use^{setup}}_{lnd_{def},AWE,madgaon,t_{0}} = {capacity^{add}}_{AWE,madgaon,t_{0}} \\cdot {θ}_{lnd_{def},AWE,madgaon,t_{0}}$"
      ],
      "text/plain": [
       "<IPython.core.display.Math object>"
      ]
     },
     "metadata": {},
     "output_type": "display_data"
    },
    {
     "data": {
      "text/latex": [
       "$\\displaystyle {use^{setup}}_{lnd_{def},AWE,ponje,t_{0}} = {capacity^{add}}_{AWE,ponje,t_{0}} \\cdot {θ}_{lnd_{def},AWE,ponje,t_{0}}$"
      ],
      "text/plain": [
       "<IPython.core.display.Math object>"
      ]
     },
     "metadata": {},
     "output_type": "display_data"
    },
    {
     "data": {
      "text/latex": [
       "$\\displaystyle {use^{setup}}_{lnd_{def},AWE,cacoda,t_{0}} = {capacity^{add}}_{AWE,cacoda,t_{0}} \\cdot {θ}_{lnd_{def},AWE,cacoda,t_{0}}$"
      ],
      "text/plain": [
       "<IPython.core.display.Math object>"
      ]
     },
     "metadata": {},
     "output_type": "display_data"
    },
    {
     "data": {
      "text/latex": [
       "$\\displaystyle {exp^{capex}}_{csh,AWE,madgaon,t_{0}} = {capacity^{add}}_{AWE,madgaon,t_{0}} \\cdot 1100000.0$"
      ],
      "text/plain": [
       "<IPython.core.display.Math object>"
      ]
     },
     "metadata": {},
     "output_type": "display_data"
    },
    {
     "data": {
      "text/latex": [
       "$\\displaystyle {exp^{capex}}_{csh,AWE,madgaon,t_{0}} = {capacity^{add}}_{AWE,madgaon,t_{0}} \\cdot 20$"
      ],
      "text/plain": [
       "<IPython.core.display.Math object>"
      ]
     },
     "metadata": {},
     "output_type": "display_data"
    },
    {
     "data": {
      "text/latex": [
       "$\\displaystyle {exp^{capex}}_{csh,AWE,ponje,t_{0}} = {capacity^{add}}_{AWE,ponje,t_{0}} \\cdot 1100000.0$"
      ],
      "text/plain": [
       "<IPython.core.display.Math object>"
      ]
     },
     "metadata": {},
     "output_type": "display_data"
    },
    {
     "data": {
      "text/latex": [
       "$\\displaystyle {exp^{capex}}_{csh,AWE,ponje,t_{0}} = {capacity^{add}}_{AWE,ponje,t_{0}} \\cdot 20$"
      ],
      "text/plain": [
       "<IPython.core.display.Math object>"
      ]
     },
     "metadata": {},
     "output_type": "display_data"
    },
    {
     "data": {
      "text/latex": [
       "$\\displaystyle {exp^{capex}}_{csh,AWE,cacoda,t_{0}} = {capacity^{add}}_{AWE,cacoda,t_{0}} \\cdot 20$"
      ],
      "text/plain": [
       "<IPython.core.display.Math object>"
      ]
     },
     "metadata": {},
     "output_type": "display_data"
    },
    {
     "data": {
      "text/latex": [
       "$\\displaystyle {exp^{capex}}_{csh,AWE,cacoda,t_{0}} = {capacity^{add}}_{AWE,cacoda,t_{0}} \\cdot 1100000.0$"
      ],
      "text/plain": [
       "<IPython.core.display.Math object>"
      ]
     },
     "metadata": {},
     "output_type": "display_data"
    },
    {
     "data": {
      "text/latex": [
       "$\\displaystyle {exp^{capex}}_{csh,AWE,madgaon,t_{0}} = {produce}_{AWE,madgaon,t_{0}} \\cdot 16918$"
      ],
      "text/plain": [
       "<IPython.core.display.Math object>"
      ]
     },
     "metadata": {},
     "output_type": "display_data"
    },
    {
     "data": {
      "text/latex": [
       "$\\displaystyle {exp^{capex}}_{csh,AWE,ponje,t_{0}} = {produce}_{AWE,ponje,t_{0}} \\cdot 16918$"
      ],
      "text/plain": [
       "<IPython.core.display.Math object>"
      ]
     },
     "metadata": {},
     "output_type": "display_data"
    },
    {
     "data": {
      "text/latex": [
       "$\\displaystyle {exp^{capex}}_{csh,AWE,cacoda,t_{0}} = {produce}_{AWE,cacoda,t_{0}} \\cdot 16918$"
      ],
      "text/plain": [
       "<IPython.core.display.Math object>"
      ]
     },
     "metadata": {},
     "output_type": "display_data"
    },
    {
     "data": {
      "text/latex": [
       "$\\displaystyle {capacity^{add}}_{LiI,net,t_{0}} \\geq 0$"
      ],
      "text/plain": [
       "<IPython.core.display.Math object>"
      ]
     },
     "metadata": {},
     "output_type": "display_data"
    },
    {
     "data": {
      "text/latex": [
       "$\\displaystyle {capacity^{add}}_{LiI,net,t_{0}} \\leq 2000$"
      ],
      "text/plain": [
       "<IPython.core.display.Math object>"
      ]
     },
     "metadata": {},
     "output_type": "display_data"
    },
    {
     "data": {
      "text/latex": [
       "$\\displaystyle {capacity^{add}}_{LiI_{in},net,t_{0}} \\geq 0$"
      ],
      "text/plain": [
       "<IPython.core.display.Math object>"
      ]
     },
     "metadata": {},
     "output_type": "display_data"
    },
    {
     "data": {
      "text/latex": [
       "$\\displaystyle {capacity^{add}}_{LiI_{in},net,t_{0}} \\leq 40$"
      ],
      "text/plain": [
       "<IPython.core.display.Math object>"
      ]
     },
     "metadata": {},
     "output_type": "display_data"
    },
    {
     "data": {
      "text/latex": [
       "$\\displaystyle {capacity^{add}}_{LiI_{out},net,t_{0}} \\geq 0$"
      ],
      "text/plain": [
       "<IPython.core.display.Math object>"
      ]
     },
     "metadata": {},
     "output_type": "display_data"
    },
    {
     "data": {
      "text/latex": [
       "$\\displaystyle {capacity^{add}}_{LiI_{out},net,t_{0}} \\leq 20$"
      ],
      "text/plain": [
       "<IPython.core.display.Math object>"
      ]
     },
     "metadata": {},
     "output_type": "display_data"
    },
    {
     "data": {
      "text/latex": [
       "$\\displaystyle {capacity^{add}}_{LiI_{2},net,t_{0}} \\geq 0$"
      ],
      "text/plain": [
       "<IPython.core.display.Math object>"
      ]
     },
     "metadata": {},
     "output_type": "display_data"
    },
    {
     "data": {
      "text/latex": [
       "$\\displaystyle {capacity^{add}}_{LiI_{2},net,t_{0}} \\leq 2000$"
      ],
      "text/plain": [
       "<IPython.core.display.Math object>"
      ]
     },
     "metadata": {},
     "output_type": "display_data"
    },
    {
     "data": {
      "text/latex": [
       "$\\displaystyle {capacity^{add}}_{H2Stg,net,t_{0}} \\geq 0$"
      ],
      "text/plain": [
       "<IPython.core.display.Math object>"
      ]
     },
     "metadata": {},
     "output_type": "display_data"
    },
    {
     "data": {
      "text/latex": [
       "$\\displaystyle {capacity^{add}}_{H2Stg,net,t_{0}} \\leq 2000$"
      ],
      "text/plain": [
       "<IPython.core.display.Math object>"
      ]
     },
     "metadata": {},
     "output_type": "display_data"
    }
   ],
   "source": [
    "s.pprint()"
   ]
  },
  {
   "cell_type": "code",
   "execution_count": 17,
   "metadata": {},
   "outputs": [
    {
     "name": "stdout",
     "output_type": "stream",
     "text": [
      "170\n",
      "170\n",
      "170\n",
      "\n",
      "150\n",
      "134\n",
      "134\n",
      "\n",
      "150\n",
      "110\n",
      "110\n",
      "\n",
      "109\n",
      "50\n",
      "50\n"
     ]
    }
   ],
   "source": [
    "print(len(s.variables))\n",
    "print(len(set(s.variables)))\n",
    "print(len(set([v.name for v in s.variables])))\n",
    "print()\n",
    "print(len(s.parameters))\n",
    "print(len(set(s.parameters)))\n",
    "print(len(set([v.name for v in s.parameters])))\n",
    "print()\n",
    "print(len(s.constraints))\n",
    "print(len(set(s.constraints)))\n",
    "print(len(set([v.name for v in s.constraints])))\n",
    "print()\n",
    "print(len(s.indices))\n",
    "print(len(set(s.indices)))\n",
    "print(len(set([v.name for v in s.indices])))"
   ]
  },
  {
   "cell_type": "code",
   "execution_count": 18,
   "metadata": {},
   "outputs": [],
   "source": [
    "s.train = Transit(\n",
    "    freight=s.H2,\n",
    "    setup=[5, 400],\n",
    "    setup_use={s.land: 20},\n",
    "    setup_emit={s.odp: 0.1},\n",
    "    capex={s.alink: 200, s.blink: 300, s.clink: 400},\n",
    "    opex=100,\n",
    "    label='Train',\n",
    "    basis='passengers',\n",
    "    linkages=[s.alink],\n",
    ")"
   ]
  },
  {
   "cell_type": "code",
   "execution_count": 19,
   "metadata": {},
   "outputs": [
    {
     "data": {
      "text/latex": [
       "$\\displaystyle {capacity^{add}}_{train,net,t_{0}} \\geq 5$"
      ],
      "text/plain": [
       "<IPython.core.display.Math object>"
      ]
     },
     "metadata": {},
     "output_type": "display_data"
    },
    {
     "data": {
      "text/latex": [
       "$\\displaystyle {capacity^{add}}_{train,net,t_{0}} \\leq 400$"
      ],
      "text/plain": [
       "<IPython.core.display.Math object>"
      ]
     },
     "metadata": {},
     "output_type": "display_data"
    },
    {
     "data": {
      "text/latex": [
       "$\\displaystyle {use^{setup}}_{lnd_{def},train,madgaon,t_{0}} = {capacity^{add}}_{train,madgaon,t_{0}} \\cdot 20$"
      ],
      "text/plain": [
       "<IPython.core.display.Math object>"
      ]
     },
     "metadata": {},
     "output_type": "display_data"
    },
    {
     "data": {
      "text/latex": [
       "$\\displaystyle {use^{setup}}_{lnd_{def},train,ponje,t_{0}} = {capacity^{add}}_{train,ponje,t_{0}} \\cdot 20$"
      ],
      "text/plain": [
       "<IPython.core.display.Math object>"
      ]
     },
     "metadata": {},
     "output_type": "display_data"
    },
    {
     "data": {
      "text/latex": [
       "$\\displaystyle {use^{setup}}_{lnd_{def},train,cacoda,t_{0}} = {capacity^{add}}_{train,cacoda,t_{0}} \\cdot 20$"
      ],
      "text/plain": [
       "<IPython.core.display.Math object>"
      ]
     },
     "metadata": {},
     "output_type": "display_data"
    },
    {
     "data": {
      "text/latex": [
       "$\\displaystyle {emit^{setup}}_{odp,train,madgaon,t_{0}} = {capacity^{add}}_{train,madgaon,t_{0}} \\cdot 0.1$"
      ],
      "text/plain": [
       "<IPython.core.display.Math object>"
      ]
     },
     "metadata": {},
     "output_type": "display_data"
    },
    {
     "data": {
      "text/latex": [
       "$\\displaystyle {emit^{setup}}_{odp,train,ponje,t_{0}} = {capacity^{add}}_{train,ponje,t_{0}} \\cdot 0.1$"
      ],
      "text/plain": [
       "<IPython.core.display.Math object>"
      ]
     },
     "metadata": {},
     "output_type": "display_data"
    },
    {
     "data": {
      "text/latex": [
       "$\\displaystyle {emit^{setup}}_{odp,train,cacoda,t_{0}} = {capacity^{add}}_{train,cacoda,t_{0}} \\cdot 0.1$"
      ],
      "text/plain": [
       "<IPython.core.display.Math object>"
      ]
     },
     "metadata": {},
     "output_type": "display_data"
    },
    {
     "data": {
      "text/latex": [
       "$\\displaystyle {exp^{capex}}_{csh,train,alink,t_{0}} = {capacity^{add}}_{train,alink,t_{0}} \\cdot 200$"
      ],
      "text/plain": [
       "<IPython.core.display.Math object>"
      ]
     },
     "metadata": {},
     "output_type": "display_data"
    },
    {
     "data": {
      "text/latex": [
       "$\\displaystyle {exp^{capex}}_{csh,train,blink,t_{0}} = {capacity^{add}}_{train,blink,t_{0}} \\cdot 300$"
      ],
      "text/plain": [
       "<IPython.core.display.Math object>"
      ]
     },
     "metadata": {},
     "output_type": "display_data"
    },
    {
     "data": {
      "text/latex": [
       "$\\displaystyle {exp^{capex}}_{csh,train,clink,t_{0}} = {capacity^{add}}_{train,clink,t_{0}} \\cdot 400$"
      ],
      "text/plain": [
       "<IPython.core.display.Math object>"
      ]
     },
     "metadata": {},
     "output_type": "display_data"
    },
    {
     "data": {
      "text/latex": [
       "$\\displaystyle {exp^{opex}}_{csh,train,madgaon,t_{0}} = {produce}_{train,madgaon,t_{0}} \\cdot 100$"
      ],
      "text/plain": [
       "<IPython.core.display.Math object>"
      ]
     },
     "metadata": {},
     "output_type": "display_data"
    },
    {
     "data": {
      "text/latex": [
       "$\\displaystyle {exp^{opex}}_{csh,train,ponje,t_{0}} = {produce}_{train,ponje,t_{0}} \\cdot 100$"
      ],
      "text/plain": [
       "<IPython.core.display.Math object>"
      ]
     },
     "metadata": {},
     "output_type": "display_data"
    },
    {
     "data": {
      "text/latex": [
       "$\\displaystyle {exp^{opex}}_{csh,train,cacoda,t_{0}} = {produce}_{train,cacoda,t_{0}} \\cdot 100$"
      ],
      "text/plain": [
       "<IPython.core.display.Math object>"
      ]
     },
     "metadata": {},
     "output_type": "display_data"
    }
   ],
   "source": [
    "s.train.pprint()"
   ]
  },
  {
   "cell_type": "code",
   "execution_count": null,
   "metadata": {},
   "outputs": [],
   "source": [
    "s.pprint()"
   ]
  },
  {
   "cell_type": "code",
   "execution_count": null,
   "metadata": {},
   "outputs": [],
   "source": []
  }
 ],
 "metadata": {
  "kernelspec": {
   "display_name": ".venv",
   "language": "python",
   "name": "python3"
  },
  "language_info": {
   "codemirror_mode": {
    "name": "ipython",
    "version": 3
   },
   "file_extension": ".py",
   "mimetype": "text/x-python",
   "name": "python",
   "nbconvert_exporter": "python",
   "pygments_lexer": "ipython3",
   "version": "3.12.5"
  },
  "orig_nbformat": 4
 },
 "nbformat": 4,
 "nbformat_minor": 2
}
