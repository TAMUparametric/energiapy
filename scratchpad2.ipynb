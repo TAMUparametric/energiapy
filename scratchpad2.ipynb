{
 "cells": [
  {
   "cell_type": "code",
   "execution_count": 1,
   "metadata": {},
   "outputs": [],
   "source": [
    "# def load_data(loc:str, index:list):\n",
    "#     df = pandas.read_csv(f'data/{loc}_solar19.csv')\n",
    "#     df['idx'] = index\n",
    "#     df = df.set_index('idx')\n",
    "#     return df\n",
    "# idx = [(i,j,k) for i,j,k in product(range(1), range(365), range(24))]\n",
    "# weather_ny = load_data('ny', idx)[['DNI', 'Wind Speed']]\n",
    "# weather_ny = weather_ny.rename(columns= {'DNI': 'dni', 'Wind Speed': 'wind_speed'})\n",
    "# weather_sd = load_data('sd', idx)[['dni', 'wind_speed']]\n",
    "# weather_ho = load_data('ho', idx)[['dni', 'wind_speed']]\"\"\n",
    "# demand_sd = pandas.read_excel('data/HistoricalEMSHourlyLoad-2019.xlsx', index_col= 0)[['SDGE']]\n",
    "# demand_ho = pandas.read_excel('data/Native_Load_2019.xlsx')[['COAST']]\n",
    "# demand_ny = DataFrame(pandas.read_csv('data/NYC_load.csv')['Load']) #from Will and Doga\n",
    "# ng_price = make_henry_price_df(\n",
    "#     file_name='data/Henry_Hub_Natural_Gas_Spot_Price_Daily.csv', year=2020)\n",
    "# ng_price = ng_price.drop(columns= 'scales')\n",
    "# ng_price = remove_outliers(ng_price, sd_cuttoff = 3)\n",
    "# ng_price = pandas.concat([ng_price])"
   ]
  },
  {
   "cell_type": "code",
   "execution_count": 2,
   "metadata": {},
   "outputs": [],
   "source": [
    "import sys\n",
    "\n",
    "sys.path.append('src')"
   ]
  },
  {
   "cell_type": "code",
   "execution_count": 3,
   "metadata": {},
   "outputs": [],
   "source": [
    "from pandas import DataFrame\n",
    "from energiapy.components import *\n",
    "from energiapy.blocks.scenario import Scenario\n",
    "from energiapy.parameters.designators.mode import X\n",
    "from energiapy.parameters.designators.incidental import I"
   ]
  },
  {
   "cell_type": "code",
   "execution_count": 4,
   "metadata": {},
   "outputs": [],
   "source": [
    "from energiapy.components._base._scope import _Scope\n",
    "from energiapy.components._base._defined import _Defined\n",
    "from energiapy.components.temporal.scale import Scale\n",
    "from energiapy.components.spatial.location import Location\n",
    "from sympy import pprint, pretty, latex\n",
    "\n",
    "# for i in [\n",
    "#     Player,\n",
    "#     Cash,\n",
    "#     Land,\n",
    "#     Material,\n",
    "#     Resource,\n",
    "#     Emission,\n",
    "#     Process,\n",
    "#     Storage,\n",
    "#     Transit,\n",
    "#     Horizon,\n",
    "#     Network,\n",
    "#     Linkage,\n",
    "#     Location,\n",
    "#     Scale,\n",
    "# ]:\n",
    "#     # print(i.__name__, issubclass(i, _Scope))\n",
    "#     print(i.__name__, issubclass(i, _Defined))"
   ]
  },
  {
   "cell_type": "code",
   "execution_count": 5,
   "metadata": {},
   "outputs": [],
   "source": [
    "from dataclasses import dataclass, fields"
   ]
  },
  {
   "cell_type": "code",
   "execution_count": 6,
   "metadata": {},
   "outputs": [],
   "source": [
    "from energiapy._core._aliases._is_input import IsInput"
   ]
  },
  {
   "cell_type": "code",
   "execution_count": 7,
   "metadata": {},
   "outputs": [],
   "source": [
    "s = Scenario(def_emissions=True)"
   ]
  },
  {
   "cell_type": "code",
   "execution_count": 8,
   "metadata": {},
   "outputs": [],
   "source": [
    "# s.h2 = Horizon({'days': 2, 'hours': 12})\n",
    "s.hor = Horizon(discretizations=[2, 12])\n",
    "s.scales\n",
    "s.net = Network(['madgaon', 'ponje', 'cacoda'])  # , link_all=True)\n",
    "s.nodes\n",
    "s.alink = Linkage(source=s.madgaon, sink=s.ponje, bi=True, distance=50)\n",
    "s.blink = Linkage(source=s.ponje, sink=s.cacoda, bi=False, distance=80)\n",
    "s.clink = Linkage(source=s.cacoda, sink=s.madgaon, bi=True, distance=100)\n",
    "s.dlink = Linkage(source=s.madgaon, sink=s.ponje, bi=False, distance=200)"
   ]
  },
  {
   "cell_type": "code",
   "execution_count": 9,
   "metadata": {},
   "outputs": [
    {
     "data": {
      "text/plain": [
       "alink_"
      ]
     },
     "execution_count": 9,
     "metadata": {},
     "output_type": "execute_result"
    }
   ],
   "source": [
    "s.alink.sib"
   ]
  },
  {
   "cell_type": "code",
   "execution_count": 10,
   "metadata": {},
   "outputs": [
    {
     "data": {
      "text/plain": [
       "alink"
      ]
     },
     "execution_count": 10,
     "metadata": {},
     "output_type": "execute_result"
    }
   ],
   "source": [
    "s.alink_.sib"
   ]
  },
  {
   "cell_type": "code",
   "execution_count": 11,
   "metadata": {},
   "outputs": [
    {
     "data": {
      "text/plain": [
       "<generator object Scenario.eqns at 0x11e7f50e0>"
      ]
     },
     "execution_count": 11,
     "metadata": {},
     "output_type": "execute_result"
    }
   ],
   "source": [
    "s.eqns()"
   ]
  },
  {
   "cell_type": "code",
   "execution_count": 12,
   "metadata": {},
   "outputs": [
    {
     "name": "stdout",
     "output_type": "stream",
     "text": [
      "madgaon ponje alink_ 50\n",
      "ponje madgaon alink 50\n",
      "ponje cacoda None 80\n",
      "cacoda madgaon clink_ 100\n",
      "madgaon cacoda clink 100\n",
      "madgaon ponje None 200\n"
     ]
    }
   ],
   "source": [
    "for l in s.linkages:\n",
    "    print(l.source, l.sink, l.sib, l.distance)"
   ]
  },
  {
   "cell_type": "code",
   "execution_count": 13,
   "metadata": {},
   "outputs": [
    {
     "data": {
      "text/plain": [
       "[]"
      ]
     },
     "execution_count": 13,
     "metadata": {},
     "output_type": "execute_result"
    }
   ],
   "source": [
    "s.datasets"
   ]
  },
  {
   "cell_type": "code",
   "execution_count": 14,
   "metadata": {},
   "outputs": [],
   "source": [
    "a = DataFrame({'a': list(range(2))})\n",
    "b = DataFrame({'b': list(range(24))})"
   ]
  },
  {
   "cell_type": "code",
   "execution_count": 15,
   "metadata": {},
   "outputs": [
    {
     "name": "stdout",
     "output_type": "stream",
     "text": [
      "dp [5, 60]\n",
      "2\n",
      "v [M[csh, madgaon, t0], 300, θ[csh, ponje, t1], [5, 60]]\n"
     ]
    }
   ],
   "source": [
    "s.csh = Cash(\n",
    "    spend={\n",
    "        s.madgaon: True,\n",
    "        s.ponje: {s.t1: (2, a)},\n",
    "        s.cacoda: 300,\n",
    "        s.network: {s.t2: [5, 60]},\n",
    "    },\n",
    "    label='cash',\n",
    "    basis='USD',\n",
    ")"
   ]
  },
  {
   "cell_type": "code",
   "execution_count": 16,
   "metadata": {},
   "outputs": [
    {
     "data": {
      "text/latex": [
       "$\\displaystyle {spend}_{csh,cacoda,t_{0}} = 300$"
      ],
      "text/plain": [
       "<IPython.core.display.Math object>"
      ]
     },
     "metadata": {},
     "output_type": "display_data"
    },
    {
     "data": {
      "text/latex": [
       "$\\displaystyle {spend}_{csh,madgaon,t_{0}} = {M}_{csh,madgaon,t_{0}}$"
      ],
      "text/plain": [
       "<IPython.core.display.Math object>"
      ]
     },
     "metadata": {},
     "output_type": "display_data"
    },
    {
     "data": {
      "text/latex": [
       "$\\displaystyle {spend}_{csh,net,t_{2}} \\leq 60$"
      ],
      "text/plain": [
       "<IPython.core.display.Math object>"
      ]
     },
     "metadata": {},
     "output_type": "display_data"
    },
    {
     "data": {
      "text/latex": [
       "$\\displaystyle {spend}_{csh,net,t_{2}} \\geq 5$"
      ],
      "text/plain": [
       "<IPython.core.display.Math object>"
      ]
     },
     "metadata": {},
     "output_type": "display_data"
    },
    {
     "data": {
      "text/latex": [
       "$\\displaystyle {spend}_{csh,ponje,t_{1}} = {θ}_{csh,ponje,t_{1}}$"
      ],
      "text/plain": [
       "<IPython.core.display.Math object>"
      ]
     },
     "metadata": {},
     "output_type": "display_data"
    }
   ],
   "source": [
    "s.csh.pprint()"
   ]
  },
  {
   "cell_type": "code",
   "execution_count": 16,
   "metadata": {},
   "outputs": [
    {
     "data": {
      "text/plain": [
       "[Bind[csh, cacoda, t0],\n",
       " Bind[csh, madgaon, t0],\n",
       " Bind[csh, net, t2]max,\n",
       " Bind[csh, net, t2]min,\n",
       " Bind[csh, ponje, t1]]"
      ]
     },
     "execution_count": 16,
     "metadata": {},
     "output_type": "execute_result"
    }
   ],
   "source": [
    "s.csh.constraints"
   ]
  },
  {
   "cell_type": "code",
   "execution_count": 17,
   "metadata": {},
   "outputs": [
    {
     "data": {
      "text/plain": [
       "<generator object _Defined.eqns at 0x00000245FDC9E5E0>"
      ]
     },
     "execution_count": 17,
     "metadata": {},
     "output_type": "execute_result"
    }
   ],
   "source": [
    "s.csh.eqns()"
   ]
  },
  {
   "cell_type": "code",
   "execution_count": 18,
   "metadata": {},
   "outputs": [
    {
     "data": {
      "text/plain": [
       "[Spend[csh, cacoda, t0],\n",
       " Spend[csh, madgaon, t0],\n",
       " Spend[csh, net, t2],\n",
       " Spend[csh, ponje, t1]]"
      ]
     },
     "execution_count": 18,
     "metadata": {},
     "output_type": "execute_result"
    }
   ],
   "source": [
    "s.csh.parameters"
   ]
  },
  {
   "cell_type": "code",
   "execution_count": 19,
   "metadata": {},
   "outputs": [
    {
     "data": {
      "text/plain": [
       "{'name': 'Data|:s:|',\n",
       " '_initial_state': {'name': ':s:'},\n",
       " 'gwp': Data|gwp|,\n",
       " 'ap': Data|ap|,\n",
       " 'epm': Data|epm|,\n",
       " 'epf': Data|epf|,\n",
       " 'ept': Data|ept|,\n",
       " 'pocp': Data|pocp|,\n",
       " 'odp': Data|odp|,\n",
       " 'adpmn': Data|adpmn|,\n",
       " 'adpmt': Data|adpmt|,\n",
       " 'adpf': Data|adpf|,\n",
       " 'wdp': Data|wdp|,\n",
       " 'csh': Data|csh|}"
      ]
     },
     "execution_count": 19,
     "metadata": {},
     "output_type": "execute_result"
    }
   ],
   "source": [
    "s.data.__dict__"
   ]
  },
  {
   "cell_type": "code",
   "execution_count": 20,
   "metadata": {},
   "outputs": [
    {
     "data": {
      "text/plain": [
       "{'component': csh,\n",
       " 'name': 'Data|csh|',\n",
       " 'spend': [M[csh, madgaon, t0], 300, θ[csh, ponje, t1], [5, 60]]}"
      ]
     },
     "execution_count": 20,
     "metadata": {},
     "output_type": "execute_result"
    }
   ],
   "source": [
    "s.csh.data.__dict__"
   ]
  },
  {
   "cell_type": "code",
   "execution_count": 21,
   "metadata": {},
   "outputs": [
    {
     "data": {
      "text/plain": [
       "[Spend[csh, cacoda, t0],\n",
       " Spend[csh, madgaon, t0],\n",
       " Spend[csh, net, t2],\n",
       " Spend[csh, ponje, t1]]"
      ]
     },
     "execution_count": 21,
     "metadata": {},
     "output_type": "execute_result"
    }
   ],
   "source": [
    "s.parameters"
   ]
  },
  {
   "cell_type": "code",
   "execution_count": 22,
   "metadata": {},
   "outputs": [
    {
     "data": {
      "text/plain": [
       "[Spend[csh, cacoda, t0],\n",
       " Spend[csh, madgaon, t0],\n",
       " Spend[csh, net, t2],\n",
       " Spend[csh, ponje, t1]]"
      ]
     },
     "execution_count": 22,
     "metadata": {},
     "output_type": "execute_result"
    }
   ],
   "source": [
    "s.csh.parameters"
   ]
  },
  {
   "cell_type": "code",
   "execution_count": 23,
   "metadata": {},
   "outputs": [
    {
     "name": "stdout",
     "output_type": "stream",
     "text": [
      "dp DtSt[lnd, cacoda, t1]\n",
      "2\n",
      "v [DtSt[lnd, cacoda, t1], 100, DtSt[lnd, ponje, t2]]\n",
      "dp 20\n",
      "1\n",
      "v [20]\n"
     ]
    },
    {
     "name": "stderr",
     "output_type": "stream",
     "text": [
      "c:\\Users\\cacodcar\\energiapy\\src\\energiapy\\components\\_base\\_consistent.py:164: UserWarning: lnd.use:Inconsistent temporal scale for ponje at t0. Updating to t2\n",
      "  warn(\n"
     ]
    }
   ],
   "source": [
    "s.lnd = Land(use={s.t2: 100, s.ponje: {s.t0: b}, s.cacoda: a}, cost=20)"
   ]
  },
  {
   "cell_type": "code",
   "execution_count": 24,
   "metadata": {},
   "outputs": [],
   "source": [
    "# s.lnd.parameters\n",
    "# s.lnd.constraints\n",
    "# s.lnd.variables"
   ]
  },
  {
   "cell_type": "code",
   "execution_count": 25,
   "metadata": {},
   "outputs": [
    {
     "name": "stdout",
     "output_type": "stream",
     "text": [
      "dp DtSt[gwp, Ra, net, t2]\n",
      "24\n",
      "v [DtSt[gwp, Ra, net, t2]]\n"
     ]
    }
   ],
   "source": [
    "s.Ra = Resource(buy_emission={s.gwp: {s.t2: b}})"
   ]
  },
  {
   "cell_type": "code",
   "execution_count": 26,
   "metadata": {},
   "outputs": [
    {
     "data": {
      "text/plain": [
       "<generator object _Defined.eqns at 0x00000245FDD39230>"
      ]
     },
     "execution_count": 26,
     "metadata": {},
     "output_type": "execute_result"
    }
   ],
   "source": [
    "s.Ra.eqns()"
   ]
  },
  {
   "cell_type": "code",
   "execution_count": 17,
   "metadata": {},
   "outputs": [
    {
     "name": "stdout",
     "output_type": "stream",
     "text": [
      "dp θ[H2, net, t2]\n",
      "24\n",
      "v [[0, 4], [DtSt[H2, net, t1], 34], θ[H2, net, t2]]\n",
      "dp [5, 60]\n",
      "2\n",
      "v [M[csh, H2, madgaon, t0], 300, [5, 60], θ[csh, H2, ponje, t2]]\n",
      "dp M[Solar, net, t0]\n",
      "1\n",
      "v [M[Solar, net, t0]]\n",
      "dp DtSt[Wind, net, t1]\n",
      "2\n",
      "v [DtSt[Wind, net, t1]]\n",
      "dp DtSt[Uranium, net, t2]\n",
      "24\n",
      "v [DtSt[Uranium, net, t2]]\n",
      "dp 0.3416\n",
      "1\n",
      "v [0.3416]\n",
      "dp θ[H2_L, net, t0]\n",
      "1\n",
      "v [θ[H2_L, net, t0]]\n",
      "dp θ[H2O, net, t0]\n",
      "1\n",
      "v [θ[H2O, net, t0]]\n",
      "dp DtSt[csh, H2O, net, t2]\n",
      "24\n",
      "v [DtSt[csh, H2O, net, t2]]\n",
      "dp [20, 40]\n",
      "2\n",
      "v [[20, 40]]\n",
      "dp 20\n",
      "1\n",
      "v [20]\n",
      "dp θ[csh, CO2_Vent, net, t0]\n",
      "1\n",
      "v [θ[csh, CO2_Vent, net, t0]]\n",
      "dp [20, M[O2, net, t0]]\n",
      "2\n",
      "v [[20, M[O2, net, t0]]]\n",
      "dp [0, DtSt[Power, net, t1]]\n",
      "2\n",
      "v [[0, DtSt[Power, net, t1]]]\n"
     ]
    },
    {
     "name": "stderr",
     "output_type": "stream",
     "text": [
      "/Users/cacodcar/Desktop/repos/energiapy/src/energiapy/components/_base/_consistent.py:202: UserWarning: H2.sell_price:Inconsistent temporal scale for ponje at t1. Updating to t2\n",
      "  warn(\n",
      "/Users/cacodcar/Desktop/repos/energiapy/src/energiapy/blocks/_base/_ok.py:49: UserWarning: Power already exists, overwriting\n",
      "set Scenario.ok_overwrite=False, to enforce strictly\n",
      "  warn(\n",
      "/Users/cacodcar/Desktop/repos/energiapy/src/energiapy/components/_base/_consistent.py:202: UserWarning: Power.buy:Inconsistent temporal scale for net at t0. Updating to t1\n",
      "  warn(\n"
     ]
    }
   ],
   "source": [
    "s.H2 = Resource(\n",
    "    sell={s.t0: [0, 4], s.t1: [a, 34], s.t2: (a, b)},\n",
    "    sell_price={\n",
    "        s.madgaon: True,\n",
    "        s.ponje: {s.t1: (2, b)},\n",
    "        s.cacoda: 300,\n",
    "        s.net: {s.t0: [5, 60]},\n",
    "    },\n",
    ")\n",
    "\n",
    "\n",
    "s.Solar = Resource(buy=True, basis='MW', label='Solar Power')\n",
    "\n",
    "\n",
    "s.Wind = Resource(buy=a, basis='MW', label='Wind Power')\n",
    "\n",
    "\n",
    "s.Power = Resource(basis='MW', label='Power generated')\n",
    "\n",
    "\n",
    "s.Uranium = Resource(\n",
    "    buy=DataFrame({'a': [i for i in range(24)]}),\n",
    "    buy_price=42.70 / (250 / 2),\n",
    "    basis='kg',\n",
    "    label='Uranium',\n",
    ")\n",
    "\n",
    "\n",
    "s.H2_L = Resource(sell=(0, 23), basis='tons', label='Hydrogen')\n",
    "\n",
    "\n",
    "s.CO2_AQoff = Resource(basis='tons', label='Carbon dioxide - sequestered')\n",
    "\n",
    "\n",
    "s.H2O = Resource(buy=(20, 50), buy_price=b, basis='tons', label='Water')\n",
    "\n",
    "\n",
    "s.CH4 = Resource(buy=[20, 40], buy_price=20, basis='tons', label='Natural gas')\n",
    "\n",
    "\n",
    "s.CO2 = Resource(basis='tons', label='Carbon dioxide', block='Resource')\n",
    "\n",
    "\n",
    "s.CO2_Vent = Resource(basis='tons', label='Carbon dioxide - Vented', sell_price=(2, 20))\n",
    "\n",
    "\n",
    "s.O2 = Resource(sell=[20, True], basis='tons', label='Oxygen')\n",
    "\n",
    "\n",
    "s.CO2_DAC = Resource(basis='tons', label='Carbon dioxide - captured')\n",
    "s.Power = Resource(buy=[0, a], basis='MW', label='Power generated')"
   ]
  },
  {
   "cell_type": "code",
   "execution_count": 28,
   "metadata": {},
   "outputs": [
    {
     "data": {
      "text/plain": [
       "[[20, M[O2, net, t0]]]"
      ]
     },
     "execution_count": 28,
     "metadata": {},
     "output_type": "execute_result"
    }
   ],
   "source": [
    "s.O2.sell"
   ]
  },
  {
   "cell_type": "code",
   "execution_count": 29,
   "metadata": {},
   "outputs": [
    {
     "data": {
      "text/plain": [
       "'{sell}_{H_{2},net,t_{1}} \\\\leq 34'"
      ]
     },
     "execution_count": 29,
     "metadata": {},
     "output_type": "execute_result"
    }
   ],
   "source": [
    "from sympy import latex\n",
    "\n",
    "latex(s.H2.constraints[2].equation)"
   ]
  },
  {
   "cell_type": "code",
   "execution_count": 20,
   "metadata": {},
   "outputs": [
    {
     "data": {
      "text/plain": [
       "'{spend}_{csh,cacoda,t_{0}} = 300'"
      ]
     },
     "metadata": {},
     "output_type": "display_data"
    },
    {
     "data": {
      "text/plain": [
       "'{spend}_{csh,madgaon,t_{0}} = {M}_{csh,madgaon,t_{0}}'"
      ]
     },
     "metadata": {},
     "output_type": "display_data"
    },
    {
     "data": {
      "text/plain": [
       "'{spend}_{csh,net,t_{2}} \\\\leq 60'"
      ]
     },
     "metadata": {},
     "output_type": "display_data"
    },
    {
     "data": {
      "text/plain": [
       "'{spend}_{csh,net,t_{2}} \\\\geq 5'"
      ]
     },
     "metadata": {},
     "output_type": "display_data"
    },
    {
     "data": {
      "text/plain": [
       "'{spend}_{csh,ponje,t_{1}} = {θ}_{csh,ponje,t_{1}}'"
      ]
     },
     "metadata": {},
     "output_type": "display_data"
    },
    {
     "data": {
      "text/plain": [
       "'{sell}_{H_{2},net,t_{0}} \\\\leq 4'"
      ]
     },
     "metadata": {},
     "output_type": "display_data"
    },
    {
     "data": {
      "text/plain": [
       "'{sell}_{H_{2},net,t_{0}} \\\\geq 0'"
      ]
     },
     "metadata": {},
     "output_type": "display_data"
    },
    {
     "data": {
      "text/plain": [
       "'{sell}_{H_{2},net,t_{1}} \\\\leq 34'"
      ]
     },
     "metadata": {},
     "output_type": "display_data"
    },
    {
     "data": {
      "text/plain": [
       "'{sell}_{H_{2},net,t_{1}} \\\\geq {DtSt}_{H_{2},net,t_{1}}'"
      ]
     },
     "metadata": {},
     "output_type": "display_data"
    },
    {
     "data": {
      "text/plain": [
       "'{sell}_{H_{2},net,t_{2}} = {θ}_{H_{2},net,t_{2}}'"
      ]
     },
     "metadata": {},
     "output_type": "display_data"
    },
    {
     "data": {
      "text/plain": [
       "'{exp^{sell}}_{csh,H_{2},cacoda,t_{0}} = {Price^{sell}}_{csh,H_{2},cacoda,t_{0}} \\\\cdot {sell}_{H_{2},cacoda,t_{0}}'"
      ]
     },
     "metadata": {},
     "output_type": "display_data"
    },
    {
     "data": {
      "text/plain": [
       "'{exp^{sell}}_{csh,H_{2},madgaon,t_{0}} = {Price^{sell}}_{csh,H_{2},madgaon,t_{0}} \\\\cdot {sell}_{H_{2},madgaon,t_{0}}'"
      ]
     },
     "metadata": {},
     "output_type": "display_data"
    },
    {
     "data": {
      "text/plain": [
       "'{exp^{sell}}_{csh,H_{2},net,t_{0}} = {Price^{sell}}_{csh,H_{2},net,t_{0}} \\\\cdot {sell}_{H_{2},net,t_{0}}'"
      ]
     },
     "metadata": {},
     "output_type": "display_data"
    },
    {
     "data": {
      "text/plain": [
       "'{exp^{sell}}_{csh,H_{2},ponje,t_{2}} = {Price^{sell}}_{csh,H_{2},ponje,t_{2}} \\\\cdot {sell}_{H_{2},ponje,t_{2}}'"
      ]
     },
     "metadata": {},
     "output_type": "display_data"
    },
    {
     "data": {
      "text/plain": [
       "'{buy}_{Solar,net,t_{0}} = {M}_{Solar,net,t_{0}}'"
      ]
     },
     "metadata": {},
     "output_type": "display_data"
    },
    {
     "data": {
      "text/plain": [
       "'{buy}_{Wind,net,t_{1}} = {DtSt}_{Wind,net,t_{1}}'"
      ]
     },
     "metadata": {},
     "output_type": "display_data"
    },
    {
     "data": {
      "text/plain": [
       "'{buy}_{Power,net,t_{1}} \\\\leq {DtSt}_{Power,net,t_{1}}'"
      ]
     },
     "metadata": {},
     "output_type": "display_data"
    },
    {
     "data": {
      "text/plain": [
       "'{buy}_{Power,net,t_{1}} \\\\geq 0'"
      ]
     },
     "metadata": {},
     "output_type": "display_data"
    },
    {
     "data": {
      "text/plain": [
       "'{buy}_{Uranium,net,t_{2}} = {DtSt}_{Uranium,net,t_{2}}'"
      ]
     },
     "metadata": {},
     "output_type": "display_data"
    },
    {
     "data": {
      "text/plain": [
       "'{exp^{buy}}_{csh,Uranium,net,t_{0}} = {Price^{buy}}_{csh,Uranium,net,t_{0}} \\\\cdot {buy}_{Uranium,net,t_{0}}'"
      ]
     },
     "metadata": {},
     "output_type": "display_data"
    },
    {
     "data": {
      "text/plain": [
       "'{sell}_{H_{2 L},net,t_{0}} = {θ}_{H_{2 L},net,t_{0}}'"
      ]
     },
     "metadata": {},
     "output_type": "display_data"
    },
    {
     "data": {
      "text/plain": [
       "'{buy}_{H2O,net,t_{0}} = {θ}_{H2O,net,t_{0}}'"
      ]
     },
     "metadata": {},
     "output_type": "display_data"
    },
    {
     "data": {
      "text/plain": [
       "'{exp^{buy}}_{csh,H2O,net,t_{2}} = {Price^{buy}}_{csh,H2O,net,t_{2}} \\\\cdot {buy}_{H2O,net,t_{2}}'"
      ]
     },
     "metadata": {},
     "output_type": "display_data"
    },
    {
     "data": {
      "text/plain": [
       "'{buy}_{CH_{4},net,t_{0}} \\\\leq 40'"
      ]
     },
     "metadata": {},
     "output_type": "display_data"
    },
    {
     "data": {
      "text/plain": [
       "'{buy}_{CH_{4},net,t_{0}} \\\\geq 20'"
      ]
     },
     "metadata": {},
     "output_type": "display_data"
    },
    {
     "data": {
      "text/plain": [
       "'{exp^{buy}}_{csh,CH_{4},net,t_{0}} = {Price^{buy}}_{csh,CH_{4},net,t_{0}} \\\\cdot {buy}_{CH_{4},net,t_{0}}'"
      ]
     },
     "metadata": {},
     "output_type": "display_data"
    },
    {
     "data": {
      "text/plain": [
       "'{exp^{sell}}_{csh,CO_{2 Vent},net,t_{0}} = {Price^{sell}}_{csh,CO_{2 Vent},net,t_{0}} \\\\cdot {sell}_{CO_{2 Vent},net,t_{0}}'"
      ]
     },
     "metadata": {},
     "output_type": "display_data"
    },
    {
     "data": {
      "text/plain": [
       "'{sell}_{O_{2},net,t_{0}} = {M}_{O_{2},net,t_{0}}'"
      ]
     },
     "metadata": {},
     "output_type": "display_data"
    },
    {
     "data": {
      "text/plain": [
       "'{sell}_{O_{2},net,t_{0}} \\\\geq 20'"
      ]
     },
     "metadata": {},
     "output_type": "display_data"
    }
   ],
   "source": [
    "s.latex()"
   ]
  },
  {
   "cell_type": "code",
   "execution_count": 19,
   "metadata": {},
   "outputs": [
    {
     "data": {
      "text/plain": [
       "'{sell}_{H_{2},net,t_{0}} \\\\leq 4'"
      ]
     },
     "metadata": {},
     "output_type": "display_data"
    },
    {
     "data": {
      "text/plain": [
       "'{sell}_{H_{2},net,t_{0}} \\\\geq 0'"
      ]
     },
     "metadata": {},
     "output_type": "display_data"
    },
    {
     "data": {
      "text/plain": [
       "'{sell}_{H_{2},net,t_{1}} \\\\leq 34'"
      ]
     },
     "metadata": {},
     "output_type": "display_data"
    },
    {
     "data": {
      "text/plain": [
       "'{sell}_{H_{2},net,t_{1}} \\\\geq {DtSt}_{H_{2},net,t_{1}}'"
      ]
     },
     "metadata": {},
     "output_type": "display_data"
    },
    {
     "data": {
      "text/plain": [
       "'{sell}_{H_{2},net,t_{2}} = {θ}_{H_{2},net,t_{2}}'"
      ]
     },
     "metadata": {},
     "output_type": "display_data"
    },
    {
     "data": {
      "text/plain": [
       "'{exp^{sell}}_{csh,H_{2},cacoda,t_{0}} = {Price^{sell}}_{csh,H_{2},cacoda,t_{0}} \\\\cdot {sell}_{H_{2},cacoda,t_{0}}'"
      ]
     },
     "metadata": {},
     "output_type": "display_data"
    },
    {
     "data": {
      "text/plain": [
       "'{exp^{sell}}_{csh,H_{2},madgaon,t_{0}} = {Price^{sell}}_{csh,H_{2},madgaon,t_{0}} \\\\cdot {sell}_{H_{2},madgaon,t_{0}}'"
      ]
     },
     "metadata": {},
     "output_type": "display_data"
    },
    {
     "data": {
      "text/plain": [
       "'{exp^{sell}}_{csh,H_{2},net,t_{0}} = {Price^{sell}}_{csh,H_{2},net,t_{0}} \\\\cdot {sell}_{H_{2},net,t_{0}}'"
      ]
     },
     "metadata": {},
     "output_type": "display_data"
    },
    {
     "data": {
      "text/plain": [
       "'{exp^{sell}}_{csh,H_{2},ponje,t_{2}} = {Price^{sell}}_{csh,H_{2},ponje,t_{2}} \\\\cdot {sell}_{H_{2},ponje,t_{2}}'"
      ]
     },
     "metadata": {},
     "output_type": "display_data"
    }
   ],
   "source": [
    "s.H2.latex()"
   ]
  },
  {
   "cell_type": "code",
   "execution_count": 30,
   "metadata": {},
   "outputs": [
    {
     "name": "stdout",
     "output_type": "stream",
     "text": [
      "dp 1.5\n",
      "1\n",
      "v [1.5]\n",
      "dp 1.484\n",
      "1\n",
      "v [1.484]\n"
     ]
    }
   ],
   "source": [
    "s.LiR = Material(\n",
    "    emission={s.gwp: 1.484},\n",
    "    use={s.ponje: 1.5},\n",
    "    basis='kg',\n",
    "    label='Lithium Reserves',\n",
    "    citation='Nelson Bunyui Manjong (2021)',\n",
    ")\n",
    "\n",
    "\n",
    "# LiB = Material(name='LiB', gwp=0.031, toxicity=793, basis='kg', label='Brine-based Lithium',\n",
    "\n",
    "\n",
    "#                citation='Nelson Bunyui Manjong (2021)')\n",
    "\n",
    "\n",
    "# Monocrystalline = Material(name='Mc', gwp=20, resource_cons={H2O: 1.5}, toxicity=40.74, basis='kg', label='Mono',\n",
    "\n",
    "\n",
    "#                            citation='Environmental impact assessment of monocrystalline silicon solar photovoltaic cell production: a case study in China (toxicity)')\n",
    "\n",
    "\n",
    "# Polycrystalline = Material(name='Pc', gwp=26, resource_cons={\n",
    "\n",
    "\n",
    "#                            H2O: 1}, toxicity=15, basis='kg', label='Poly', citation='Environmental Economic Impact Assessments of a ... - MDPI (gwp and toxicity)')\n",
    "\n",
    "\n",
    "# CdTE = Material(name='CdTe', gwp=40, resource_cons={H2O: 0.25}, toxicity=5, basis='kg', label='C',\n",
    "\n",
    "\n",
    "#                 citation='Investigation of life cycle CO2 emissions of the polycrystalline and cadmium telluride PV panels')"
   ]
  },
  {
   "cell_type": "code",
   "execution_count": 31,
   "metadata": {},
   "outputs": [
    {
     "name": "stderr",
     "output_type": "stream",
     "text": [
      "c:\\Users\\cacodcar\\energiapy\\src\\energiapy\\components\\_base\\_consistent.py:202: UserWarning: WF.operate:Inconsistent temporal scale for net at t0. Updating to t2\n",
      "  warn(\n"
     ]
    },
    {
     "name": "stdout",
     "output_type": "stream",
     "text": [
      "dp 1000\n",
      "1\n",
      "v [1000]\n",
      "dp [M[WF, net, t2], DtSt[WF, net, t2]]\n",
      "2\n",
      "v [[M[WF, net, t2], DtSt[WF, net, t2]]]\n",
      "dp {202233, 1462000}\n",
      "2\n",
      "v [{202233, 1462000}]\n",
      "dp {4953, 70}\n",
      "2\n",
      "v [{4953, 70}]\n",
      "dp 2900\n",
      "1\n",
      "v [50, 2900]\n",
      "dp 30\n",
      "1\n",
      "v [30]\n",
      "dp 1.5\n",
      "1\n",
      "v [1.5]\n",
      "dp 5000\n",
      "1\n",
      "v [3000, 4000, 5000]\n",
      "dp [0, 1]\n",
      "2\n",
      "v [[0, 1]]\n",
      "dp 1555\n",
      "1\n",
      "v [1333, 1444, 1555]\n",
      "dp 22623\n",
      "1\n",
      "v [22623]\n",
      "dp 30\n",
      "1\n",
      "v [30]\n",
      "dp DtSt[csh, Power, PV, net, t0]\n",
      "1\n",
      "v [DtSt[csh, Power, PV, net, t0]]\n",
      "dp 1000\n",
      "1\n",
      "v [1000]\n",
      "dp [0, 1]\n",
      "2\n",
      "v [[0, 1]]\n",
      "dp {2520000}\n",
      "1\n",
      "v [{2520000}]\n",
      "dp {945000, 51.5}\n",
      "2\n",
      "v [{945000, 51.5}]\n",
      "dp 50\n",
      "1\n",
      "v [50]\n",
      "dp [1, 100]\n",
      "2\n",
      "v [[1, 100]]\n",
      "dp [0, 1]\n",
      "2\n",
      "v [[0, 1]]\n",
      "dp 2158928\n",
      "1\n",
      "v [2158928]\n",
      "dp {53320, 4090}\n",
      "2\n",
      "v [{53320, 4090}]\n",
      "dp 20\n",
      "1\n",
      "v [4, 20]\n",
      "dp 1000\n",
      "1\n",
      "v [1000]\n",
      "dp [0, 1]\n",
      "2\n",
      "v [[0, 1]]\n",
      "dp 2400\n",
      "1\n",
      "v [2400]\n",
      "dp {800, 0.03}\n",
      "2\n",
      "v [{800, 0.03}]\n",
      "dp [1000, 2000]\n",
      "2\n",
      "v [[1000, 2000]]\n",
      "dp [0, 1]\n",
      "2\n",
      "v [[0, 1]]\n",
      "dp 1600000.0\n",
      "1\n",
      "v [1600000.0]\n",
      "dp 3.5\n",
      "1\n",
      "v [3.5]\n",
      "dp 20\n",
      "1\n",
      "v [20]\n",
      "dp 2\n",
      "1\n",
      "v [2]\n",
      "dp 1000\n",
      "1\n",
      "v [1000]\n",
      "dp [0, 1]\n",
      "2\n",
      "v [[0, 1]]\n",
      "dp 0.02536\n",
      "1\n",
      "v [0.02536]\n",
      "dp 0.634\n",
      "1\n",
      "v [0.634]\n",
      "dp 1000\n",
      "1\n",
      "v [1000]\n",
      "dp [0, 1]\n",
      "2\n",
      "v [[0, 1]]\n",
      "dp 7988951\n",
      "1\n",
      "v [7988951]\n",
      "dp 0.0292\n",
      "1\n",
      "v [0.0292]\n",
      "dp 40\n",
      "1\n",
      "v [40]\n",
      "dp M[AWE, net, t0]\n",
      "1\n",
      "v [M[AWE, net, t0]]\n",
      "dp [0, 1]\n",
      "2\n",
      "v [[0, 1]]\n",
      "dp {20, 1100000.0}\n",
      "2\n",
      "v [{20, 1100000.0}]\n",
      "dp 16918\n",
      "1\n",
      "v [16918]\n",
      "dp θ[lnd, AWE, net, t0]\n",
      "1\n",
      "v [θ[lnd, AWE, net, t0]]\n"
     ]
    }
   ],
   "source": [
    "s.WF = Process(\n",
    "    conversion={s.Power: {X(0): {s.Wind: -1}, X(1): {s.Wind: -1}}},\n",
    "    produce=[True, b],\n",
    "    capex={s.madgaon: {s.t1: {1462000, I(202233)}}},\n",
    "    opex={4953, I(70)},\n",
    "    capacity=1000,\n",
    "    emission={s.gwp: 50, s.odp: 2900},\n",
    "    material={s.LiR: 1.5},\n",
    "    locations=[s.madgaon, s.ponje],\n",
    "    land=30,\n",
    "    label='Wind mill array',\n",
    "    basis='MW',\n",
    ")\n",
    "\n",
    "\n",
    "s.PV = Process(\n",
    "    sell_price={s.Power: 30},\n",
    "    credit={s.Power: DataFrame({'a': [2]})},\n",
    "    conversion={s.Power: {X(1): {s.Solar: -1.2}, X(2): {s.Solar: -1.5}}},\n",
    "    capex={X(0): 1333, X(1): 1444, X(2): 1555},\n",
    "    opex=22623,\n",
    "    capacity={X(0): 3000, X(1): 4000, X(2): 5000},\n",
    "    locations=s.cacoda,\n",
    "    label='Solar PV',\n",
    "    basis='MW',\n",
    ")\n",
    "\n",
    "\n",
    "s.SMRH = Process(\n",
    "    land=50,\n",
    "    conversion={\n",
    "        s.H2: {\n",
    "            s.Power: -1.11,\n",
    "            s.CH4: -3.76,\n",
    "            s.H2O: -23.7,\n",
    "            s.CO2_Vent: 1.03,\n",
    "            s.CO2: 9.332,\n",
    "        }\n",
    "    },\n",
    "    capex={\n",
    "        2520000,\n",
    "    },\n",
    "    opex={51.5, I(945000)},\n",
    "    capacity=1000,\n",
    "    label='Steam methane reforming + CCUS',\n",
    ")\n",
    "\n",
    "s.NGCC = Process(\n",
    "    buy_price={s.CH4: 4, s.H2O: 20},\n",
    "    conversion={\n",
    "        s.Power: {\n",
    "            s.CH4: -0.108,\n",
    "            s.H2O: -10,\n",
    "            s.CO2_Vent: 0.297 * 0.05,\n",
    "            s.CO2: 0.297 * 0.95,\n",
    "        }\n",
    "    },\n",
    "    capex=2158928,\n",
    "    opex={4090, I(53320)},\n",
    "    capacity=[1, 100],\n",
    "    label='NGCC + 95% CC',\n",
    ")\n",
    "s.SMR = Process(\n",
    "    capex=2400,\n",
    "    opex={0.03, I(800)},\n",
    "    conversion={s.H2: {s.Power: -1.11, s.CH4: -3.76, s.H2O: -23.7, s.CO2_Vent: 9.4979}},\n",
    "    capacity=1000,\n",
    "    label='Steam methane reforming',\n",
    ")\n",
    "s.H2FC = Process(\n",
    "    buy_price={s.H2: 2},\n",
    "    sell={s.Power: 20},\n",
    "    conversion={s.Power: {s.H2: -0.050}},\n",
    "    capex=1.6 * 10**6,\n",
    "    opex=3.5,\n",
    "    capacity=[1000, 2000],\n",
    "    label='hydrogen fuel cell',\n",
    ")\n",
    "s.DAC = Process(\n",
    "    capex=0.02536,\n",
    "    opex=0.634,\n",
    "    conversion={s.CO2_DAC: {s.Power: -0.193, s.H2O: -4.048}},\n",
    "    capacity=1000,\n",
    "    label='Direct air capture',\n",
    ")\n",
    "# s.PSH = Process(conversion = {s.Power: 0.6}, capex = 3924781, fopex= 17820, vopex = 512.5, store = 10000, capacity=1000, label='Pumped storage hydropower', basis = 'MW')\n",
    "s.ASMR = Process(\n",
    "    buy={s.Uranium: 40},\n",
    "    conversion={s.Power: {s.Uranium: -4.17 * 10 ** (-5), s.H2O: -3.364}},\n",
    "    capex=7988951,\n",
    "    opex=I(0.04 * 0.730),\n",
    "    capacity=1000,\n",
    "    label='Small modular reactors (SMRs)',\n",
    ")\n",
    "s.AWE = Process(\n",
    "    land=(0, 20),\n",
    "    conversion={s.H2: {s.Power: -1, s.O2: 0.7632, s.H2O: -0.1753}},\n",
    "    capex={1.1 * 10**6, I(20)},\n",
    "    opex=I(16918),\n",
    "    capacity=True,\n",
    "    label='Alkaline water electrolysis (AWE)',\n",
    "    citation='Demirhan et al. 2018 AIChE paper',\n",
    ")"
   ]
  },
  {
   "cell_type": "code",
   "execution_count": 31,
   "metadata": {},
   "outputs": [
    {
     "data": {
      "text/plain": [
       "x_0_WF"
      ]
     },
     "execution_count": 31,
     "metadata": {},
     "output_type": "execute_result"
    }
   ],
   "source": [
    "list(s.WF.conversion.balance)[0]"
   ]
  },
  {
   "cell_type": "code",
   "execution_count": 36,
   "metadata": {},
   "outputs": [
    {
     "data": {
      "text/plain": [
       "energiapy.parameters.values.constant.Constant"
      ]
     },
     "execution_count": 36,
     "metadata": {},
     "output_type": "execute_result"
    }
   ],
   "source": [
    "type(list(s.WF.capex[0])[0])"
   ]
  },
  {
   "cell_type": "code",
   "execution_count": 33,
   "metadata": {},
   "outputs": [
    {
     "data": {
      "text/latex": [
       "$\\displaystyle {capacity}_{PV,net,t_{0},x_{0 PV}} = 3000$"
      ],
      "text/plain": [
       "<IPython.core.display.Math object>"
      ]
     },
     "metadata": {},
     "output_type": "display_data"
    },
    {
     "data": {
      "text/latex": [
       "$\\displaystyle {capacity}_{PV,net,t_{0},x_{1 PV}} = 4000$"
      ],
      "text/plain": [
       "<IPython.core.display.Math object>"
      ]
     },
     "metadata": {},
     "output_type": "display_data"
    },
    {
     "data": {
      "text/latex": [
       "$\\displaystyle {capacity}_{PV,net,t_{0},x_{2 PV}} = 5000$"
      ],
      "text/plain": [
       "<IPython.core.display.Math object>"
      ]
     },
     "metadata": {},
     "output_type": "display_data"
    },
    {
     "data": {
      "text/latex": [
       "$\\displaystyle {operate}_{PV,net,t_{0}} \\leq {CapF}_{PV,net,t_{0}} \\cdot {capacity}_{PV,net,t_{0}}$"
      ],
      "text/plain": [
       "<IPython.core.display.Math object>"
      ]
     },
     "metadata": {},
     "output_type": "display_data"
    },
    {
     "data": {
      "text/latex": [
       "$\\displaystyle {operate}_{PV,net,t_{0}} \\geq {CapF}_{PV,net,t_{0}} \\cdot {capacity}_{PV,net,t_{0}}$"
      ],
      "text/plain": [
       "<IPython.core.display.Math object>"
      ]
     },
     "metadata": {},
     "output_type": "display_data"
    },
    {
     "data": {
      "text/latex": [
       "$\\displaystyle {capex}_{csh,PV,net,t_{0},x_{0 PV}} = {Capex}_{csh,PV,net,t_{0},x_{0 PV}} \\cdot {capacity}_{PV,net,t_{0},x_{0 PV}}$"
      ],
      "text/plain": [
       "<IPython.core.display.Math object>"
      ]
     },
     "metadata": {},
     "output_type": "display_data"
    },
    {
     "data": {
      "text/latex": [
       "$\\displaystyle {capex}_{csh,PV,net,t_{0},x_{1 PV}} = {Capex}_{csh,PV,net,t_{0},x_{1 PV}} \\cdot {capacity}_{PV,net,t_{0},x_{1 PV}}$"
      ],
      "text/plain": [
       "<IPython.core.display.Math object>"
      ]
     },
     "metadata": {},
     "output_type": "display_data"
    },
    {
     "data": {
      "text/latex": [
       "$\\displaystyle {capex}_{csh,PV,net,t_{0},x_{2 PV}} = {Capex}_{csh,PV,net,t_{0},x_{2 PV}} \\cdot {capacity}_{PV,net,t_{0},x_{2 PV}}$"
      ],
      "text/plain": [
       "<IPython.core.display.Math object>"
      ]
     },
     "metadata": {},
     "output_type": "display_data"
    },
    {
     "data": {
      "text/latex": [
       "$\\displaystyle {opex}_{csh,PV,net,t_{0}} = {Opex}_{csh,PV,net,t_{0}} \\cdot {operate}_{PV,net,t_{0}}$"
      ],
      "text/plain": [
       "<IPython.core.display.Math object>"
      ]
     },
     "metadata": {},
     "output_type": "display_data"
    },
    {
     "data": {
      "text/latex": [
       "$\\displaystyle {exp^{sell}}_{csh,Power,PV,net,t_{0}} = {Price^{sell}}_{csh,Power,PV,net,t_{0}} \\cdot {sell}_{Power,PV,net,t_{0}}$"
      ],
      "text/plain": [
       "<IPython.core.display.Math object>"
      ]
     },
     "metadata": {},
     "output_type": "display_data"
    }
   ],
   "source": [
    "s.PV.pprint()"
   ]
  },
  {
   "cell_type": "code",
   "execution_count": 33,
   "metadata": {},
   "outputs": [
    {
     "data": {
      "text/plain": [
       "[x_0_WF, x_1_WF]"
      ]
     },
     "execution_count": 33,
     "metadata": {},
     "output_type": "execute_result"
    }
   ],
   "source": [
    "from sympy import symbols\n",
    "\n",
    "list(s.WF.conversion.balance)"
   ]
  },
  {
   "cell_type": "code",
   "execution_count": 35,
   "metadata": {},
   "outputs": [
    {
     "data": {
      "text/plain": [
       "energiapy.parameters.balance.conversion.Conversion"
      ]
     },
     "execution_count": 35,
     "metadata": {},
     "output_type": "execute_result"
    }
   ],
   "source": [
    "type(s.WF.conversion)"
   ]
  },
  {
   "cell_type": "code",
   "execution_count": 33,
   "metadata": {},
   "outputs": [
    {
     "data": {
      "text/plain": [
       "CapF[WF, net, t2]"
      ]
     },
     "execution_count": 33,
     "metadata": {},
     "output_type": "execute_result"
    }
   ],
   "source": [
    "s.WF.parameters[0]"
   ]
  },
  {
   "cell_type": "code",
   "execution_count": null,
   "metadata": {},
   "outputs": [],
   "source": []
  },
  {
   "cell_type": "code",
   "execution_count": 36,
   "metadata": {},
   "outputs": [
    {
     "data": {
      "text/plain": [
       "{'ply': None,\n",
       " 'emn': None,\n",
       " 'csh': None,\n",
       " 'res': None,\n",
       " 'mat': None,\n",
       " 'lnd': None,\n",
       " 'pro': WF,\n",
       " 'stg': None,\n",
       " 'trn': None,\n",
       " 'loc': None,\n",
       " 'lnk': None,\n",
       " 'ntw': net,\n",
       " 'scl': t2,\n",
       " 'mde': None}"
      ]
     },
     "execution_count": 36,
     "metadata": {},
     "output_type": "execute_result"
    }
   ],
   "source": [
    "s.WF.parameters[0].disposition.args()"
   ]
  },
  {
   "cell_type": "code",
   "execution_count": 35,
   "metadata": {},
   "outputs": [
    {
     "data": {
      "text/plain": [
       "'(x(WF, conv, 0))'"
      ]
     },
     "execution_count": 35,
     "metadata": {},
     "output_type": "execute_result"
    }
   ],
   "source": [
    "list(s.WF.conversion.balance)[0].name"
   ]
  },
  {
   "cell_type": "code",
   "execution_count": null,
   "metadata": {},
   "outputs": [],
   "source": []
  },
  {
   "cell_type": "code",
   "execution_count": 35,
   "metadata": {},
   "outputs": [
    {
     "data": {
      "text/latex": [
       "$\\displaystyle {capacity}_{WF,net,t_{0}} = 1000$"
      ],
      "text/plain": [
       "<IPython.core.display.Math object>"
      ]
     },
     "metadata": {},
     "output_type": "display_data"
    },
    {
     "data": {
      "text/latex": [
       "$\\displaystyle {operate}_{WF,net,t_{2}} = {CapF}_{WF,net,t_{2}} \\cdot {capacity}_{WF,net,t_{2}}$"
      ],
      "text/plain": [
       "<IPython.core.display.Math object>"
      ]
     },
     "metadata": {},
     "output_type": "display_data"
    },
    {
     "data": {
      "text/latex": [
       "$\\displaystyle {operate}_{WF,net,t_{2}} \\leq {CapF}_{WF,net,t_{2}} \\cdot {capacity}_{WF,net,t_{2}}$"
      ],
      "text/plain": [
       "<IPython.core.display.Math object>"
      ]
     },
     "metadata": {},
     "output_type": "display_data"
    },
    {
     "data": {
      "text/latex": [
       "$\\displaystyle {used}_{LiR,WF,net,t_{0}} = {Land}_{LiR,WF,net,t_{0}} \\cdot {capacity}_{WF,net,t_{0}}$"
      ],
      "text/plain": [
       "<IPython.core.display.Math object>"
      ]
     },
     "metadata": {},
     "output_type": "display_data"
    },
    {
     "data": {
      "text/latex": [
       "$\\displaystyle {capex}_{csh,WF,madgaon,t_{1}} = {Capex}_{csh,WF,madgaon,t_{1}} \\cdot {capacity}_{WF,madgaon,t_{1}}$"
      ],
      "text/plain": [
       "<IPython.core.display.Math object>"
      ]
     },
     "metadata": {},
     "output_type": "display_data"
    },
    {
     "data": {
      "text/latex": [
       "$\\displaystyle {opex}_{csh,WF,net,t_{0}} = {Opex}_{csh,WF,net,t_{0}} \\cdot {operate}_{WF,net,t_{0}}$"
      ],
      "text/plain": [
       "<IPython.core.display.Math object>"
      ]
     },
     "metadata": {},
     "output_type": "display_data"
    },
    {
     "data": {
      "text/latex": [
       "$\\displaystyle {emit^{opn}}_{gwp,WF,net,t_{0}} = {Emit^{opn}}_{gwp,WF,net,t_{0}} \\cdot {capacity}_{WF,net,t_{0}}$"
      ],
      "text/plain": [
       "<IPython.core.display.Math object>"
      ]
     },
     "metadata": {},
     "output_type": "display_data"
    },
    {
     "data": {
      "text/latex": [
       "$\\displaystyle {used}_{lnd,WF,net,t_{0}} = {Land}_{lnd,WF,net,t_{0}} \\cdot {capacity}_{WF,net,t_{0}}$"
      ],
      "text/plain": [
       "<IPython.core.display.Math object>"
      ]
     },
     "metadata": {},
     "output_type": "display_data"
    },
    {
     "data": {
      "text/latex": [
       "$\\displaystyle {emit^{opn}}_{odp,WF,net,t_{0}} = {Emit^{opn}}_{odp,WF,net,t_{0}} \\cdot {capacity}_{WF,net,t_{0}}$"
      ],
      "text/plain": [
       "<IPython.core.display.Math object>"
      ]
     },
     "metadata": {},
     "output_type": "display_data"
    }
   ],
   "source": [
    "s.WF.pprint()"
   ]
  },
  {
   "cell_type": "code",
   "execution_count": null,
   "metadata": {},
   "outputs": [],
   "source": [
    "s.LiI = Storage(capacity=[2000], inventory=s.Power, capacity_c=[40], capacity_d=[20])\n",
    "s.LiI2 = Storage(capacity=[2000], inventory={s.Power: 0.6})\n",
    "s.H2Stg = Storage(\n",
    "    capacity=[2000], inventory={s.H2: {X(0): {s.Power: 0.8}, X(1): {s.Power: 0.9}}}\n",
    ")"
   ]
  },
  {
   "cell_type": "code",
   "execution_count": null,
   "metadata": {},
   "outputs": [],
   "source": []
  },
  {
   "cell_type": "code",
   "execution_count": null,
   "metadata": {},
   "outputs": [
    {
     "data": {
      "text/plain": [
       "[CH4,\n",
       " CO2,\n",
       " CO2_AQoff,\n",
       " CO2_DAC,\n",
       " CO2_Vent,\n",
       " H2,\n",
       " H2O,\n",
       " H2Stg_H2,\n",
       " H2_L,\n",
       " LiI2_Power,\n",
       " LiI_Power,\n",
       " O2,\n",
       " Power,\n",
       " Ra,\n",
       " Solar,\n",
       " Uranium,\n",
       " Wind]"
      ]
     },
     "execution_count": 33,
     "metadata": {},
     "output_type": "execute_result"
    }
   ],
   "source": [
    "s.resources"
   ]
  },
  {
   "cell_type": "code",
   "execution_count": null,
   "metadata": {},
   "outputs": [
    {
     "data": {
      "text/plain": [
       "{LiI2_Power: 1, Power: -1.6666666666666667}"
      ]
     },
     "execution_count": 34,
     "metadata": {},
     "output_type": "execute_result"
    }
   ],
   "source": [
    "s.LiI2.conversion_c.balance"
   ]
  },
  {
   "cell_type": "code",
   "execution_count": null,
   "metadata": {},
   "outputs": [
    {
     "data": {
      "text/plain": [
       "LiI"
      ]
     },
     "execution_count": 35,
     "metadata": {},
     "output_type": "execute_result"
    }
   ],
   "source": [
    "s.LiI"
   ]
  },
  {
   "cell_type": "code",
   "execution_count": null,
   "metadata": {},
   "outputs": [
    {
     "data": {
      "text/plain": [
       "LiI_d"
      ]
     },
     "execution_count": 36,
     "metadata": {},
     "output_type": "execute_result"
    }
   ],
   "source": [
    "s.LiI_d"
   ]
  },
  {
   "cell_type": "code",
   "execution_count": null,
   "metadata": {},
   "outputs": [
    {
     "data": {
      "text/plain": [
       "[CapF[AWE, net, t0],\n",
       " Capacity[AWE, net, t0],\n",
       " Capex[csh, AWE, net, t0],\n",
       " Capex^i[csh, AWE, net, t0],\n",
       " Land[lnd, AWE, net, t0],\n",
       " Mat[lnd, AWE, net, t0],\n",
       " Opex^i[csh, AWE, net, t0]]"
      ]
     },
     "execution_count": 37,
     "metadata": {},
     "output_type": "execute_result"
    }
   ],
   "source": [
    "s.AWE.parameters"
   ]
  },
  {
   "cell_type": "code",
   "execution_count": null,
   "metadata": {},
   "outputs": [
    {
     "data": {
      "text/plain": [
       "'{capacity}_{LiI_{c},net,t_{0}} \\\\leq 40'"
      ]
     },
     "metadata": {},
     "output_type": "display_data"
    },
    {
     "data": {
      "text/plain": [
       "'{capacity}_{LiI_{c},net,t_{0}} \\\\geq 0'"
      ]
     },
     "metadata": {},
     "output_type": "display_data"
    }
   ],
   "source": [
    "s.LiI_c.latex()"
   ]
  },
  {
   "cell_type": "code",
   "execution_count": null,
   "metadata": {},
   "outputs": [],
   "source": []
  },
  {
   "cell_type": "code",
   "execution_count": null,
   "metadata": {},
   "outputs": [
    {
     "data": {
      "text/latex": [
       "$\\displaystyle {spend}_{csh,cacoda,t_{0}} = 300$"
      ],
      "text/plain": [
       "<IPython.core.display.Math object>"
      ]
     },
     "metadata": {},
     "output_type": "display_data"
    },
    {
     "data": {
      "text/latex": [
       "$\\displaystyle {spend}_{csh,madgaon,t_{0}} \\leq {M}_{csh,madgaon,t_{0}}$"
      ],
      "text/plain": [
       "<IPython.core.display.Math object>"
      ]
     },
     "metadata": {},
     "output_type": "display_data"
    },
    {
     "data": {
      "text/latex": [
       "$\\displaystyle {spend}_{csh,net,t_{2}} \\leq 60$"
      ],
      "text/plain": [
       "<IPython.core.display.Math object>"
      ]
     },
     "metadata": {},
     "output_type": "display_data"
    },
    {
     "data": {
      "text/latex": [
       "$\\displaystyle {spend}_{csh,net,t_{2}} \\geq 5$"
      ],
      "text/plain": [
       "<IPython.core.display.Math object>"
      ]
     },
     "metadata": {},
     "output_type": "display_data"
    },
    {
     "data": {
      "text/latex": [
       "$\\displaystyle {spend}_{csh,ponje,t_{1}} = {θ}_{csh,ponje,t_{1}}$"
      ],
      "text/plain": [
       "<IPython.core.display.Math object>"
      ]
     },
     "metadata": {},
     "output_type": "display_data"
    },
    {
     "data": {
      "text/latex": [
       "$\\displaystyle {use}_{lnd,cacoda,t_{1}} = {DtSt}_{lnd,cacoda,t_{1}}$"
      ],
      "text/plain": [
       "<IPython.core.display.Math object>"
      ]
     },
     "metadata": {},
     "output_type": "display_data"
    },
    {
     "data": {
      "text/latex": [
       "$\\displaystyle {use}_{lnd,net,t_{2}} = 100$"
      ],
      "text/plain": [
       "<IPython.core.display.Math object>"
      ]
     },
     "metadata": {},
     "output_type": "display_data"
    },
    {
     "data": {
      "text/latex": [
       "$\\displaystyle {use}_{lnd,ponje,t_{2}} = {DtSt}_{lnd,ponje,t_{2}}$"
      ],
      "text/plain": [
       "<IPython.core.display.Math object>"
      ]
     },
     "metadata": {},
     "output_type": "display_data"
    },
    {
     "data": {
      "text/latex": [
       "$\\displaystyle {exp^{use}}_{csh,lnd,net,t_{0}} = {Cost^{use}}_{csh,lnd,net,t_{0}} \\cdot {use}_{lnd,net,t_{0}}$"
      ],
      "text/plain": [
       "<IPython.core.display.Math object>"
      ]
     },
     "metadata": {},
     "output_type": "display_data"
    },
    {
     "data": {
      "text/latex": [
       "$\\displaystyle {emit^{buy}}_{gwp,Ra,net,t_{2}} = {Emit^{buy}}_{gwp,Ra,net,t_{2}} \\cdot {buy}_{Ra,net,t_{2}}$"
      ],
      "text/plain": [
       "<IPython.core.display.Math object>"
      ]
     },
     "metadata": {},
     "output_type": "display_data"
    },
    {
     "data": {
      "text/latex": [
       "$\\displaystyle {sell}_{H_{2},net,t_{0}} \\leq 4$"
      ],
      "text/plain": [
       "<IPython.core.display.Math object>"
      ]
     },
     "metadata": {},
     "output_type": "display_data"
    },
    {
     "data": {
      "text/latex": [
       "$\\displaystyle {sell}_{H_{2},net,t_{0}} \\geq 0$"
      ],
      "text/plain": [
       "<IPython.core.display.Math object>"
      ]
     },
     "metadata": {},
     "output_type": "display_data"
    },
    {
     "data": {
      "text/latex": [
       "$\\displaystyle {sell}_{H_{2},net,t_{1}} \\leq 34$"
      ],
      "text/plain": [
       "<IPython.core.display.Math object>"
      ]
     },
     "metadata": {},
     "output_type": "display_data"
    },
    {
     "data": {
      "text/latex": [
       "$\\displaystyle {sell}_{H_{2},net,t_{1}} \\geq {DtSt}_{H_{2},net,t_{1}}$"
      ],
      "text/plain": [
       "<IPython.core.display.Math object>"
      ]
     },
     "metadata": {},
     "output_type": "display_data"
    },
    {
     "data": {
      "text/latex": [
       "$\\displaystyle {sell}_{H_{2},net,t_{2}} = {θ}_{H_{2},net,t_{2}}$"
      ],
      "text/plain": [
       "<IPython.core.display.Math object>"
      ]
     },
     "metadata": {},
     "output_type": "display_data"
    },
    {
     "data": {
      "text/latex": [
       "$\\displaystyle {exp^{sell}}_{csh,H_{2},cacoda,t_{0}} = {Price^{sell}}_{csh,H_{2},cacoda,t_{0}} \\cdot {sell}_{H_{2},cacoda,t_{0}}$"
      ],
      "text/plain": [
       "<IPython.core.display.Math object>"
      ]
     },
     "metadata": {},
     "output_type": "display_data"
    },
    {
     "data": {
      "text/latex": [
       "$\\displaystyle {exp^{sell}}_{csh,H_{2},madgaon,t_{0}} = {Price^{sell}}_{csh,H_{2},madgaon,t_{0}} \\cdot {sell}_{H_{2},madgaon,t_{0}}$"
      ],
      "text/plain": [
       "<IPython.core.display.Math object>"
      ]
     },
     "metadata": {},
     "output_type": "display_data"
    },
    {
     "data": {
      "text/latex": [
       "$\\displaystyle {exp^{sell}}_{csh,H_{2},net,t_{0}} = {Price^{sell}}_{csh,H_{2},net,t_{0}} \\cdot {sell}_{H_{2},net,t_{0}}$"
      ],
      "text/plain": [
       "<IPython.core.display.Math object>"
      ]
     },
     "metadata": {},
     "output_type": "display_data"
    },
    {
     "data": {
      "text/latex": [
       "$\\displaystyle {exp^{sell}}_{csh,H_{2},ponje,t_{2}} = {Price^{sell}}_{csh,H_{2},ponje,t_{2}} \\cdot {sell}_{H_{2},ponje,t_{2}}$"
      ],
      "text/plain": [
       "<IPython.core.display.Math object>"
      ]
     },
     "metadata": {},
     "output_type": "display_data"
    },
    {
     "data": {
      "text/latex": [
       "$\\displaystyle {buy}_{Solar,net,t_{0}} \\leq {M}_{Solar,net,t_{0}}$"
      ],
      "text/plain": [
       "<IPython.core.display.Math object>"
      ]
     },
     "metadata": {},
     "output_type": "display_data"
    },
    {
     "data": {
      "text/latex": [
       "$\\displaystyle {buy}_{Wind,net,t_{1}} = {DtSt}_{Wind,net,t_{1}}$"
      ],
      "text/plain": [
       "<IPython.core.display.Math object>"
      ]
     },
     "metadata": {},
     "output_type": "display_data"
    },
    {
     "data": {
      "text/latex": [
       "$\\displaystyle {buy}_{Power,net,t_{1}} \\leq {DtSt}_{Power,net,t_{1}}$"
      ],
      "text/plain": [
       "<IPython.core.display.Math object>"
      ]
     },
     "metadata": {},
     "output_type": "display_data"
    },
    {
     "data": {
      "text/latex": [
       "$\\displaystyle {buy}_{Power,net,t_{1}} \\geq 0$"
      ],
      "text/plain": [
       "<IPython.core.display.Math object>"
      ]
     },
     "metadata": {},
     "output_type": "display_data"
    },
    {
     "data": {
      "text/latex": [
       "$\\displaystyle {buy}_{Uranium,net,t_{2}} = {DtSt}_{Uranium,net,t_{2}}$"
      ],
      "text/plain": [
       "<IPython.core.display.Math object>"
      ]
     },
     "metadata": {},
     "output_type": "display_data"
    },
    {
     "data": {
      "text/latex": [
       "$\\displaystyle {exp^{buy}}_{csh,Uranium,net,t_{0}} = {Price^{buy}}_{csh,Uranium,net,t_{0}} \\cdot {buy}_{Uranium,net,t_{0}}$"
      ],
      "text/plain": [
       "<IPython.core.display.Math object>"
      ]
     },
     "metadata": {},
     "output_type": "display_data"
    },
    {
     "data": {
      "text/latex": [
       "$\\displaystyle {sell}_{H_{2 L},net,t_{0}} = {θ}_{H_{2 L},net,t_{0}}$"
      ],
      "text/plain": [
       "<IPython.core.display.Math object>"
      ]
     },
     "metadata": {},
     "output_type": "display_data"
    },
    {
     "data": {
      "text/latex": [
       "$\\displaystyle {buy}_{H2O,net,t_{0}} = {θ}_{H2O,net,t_{0}}$"
      ],
      "text/plain": [
       "<IPython.core.display.Math object>"
      ]
     },
     "metadata": {},
     "output_type": "display_data"
    },
    {
     "data": {
      "text/latex": [
       "$\\displaystyle {exp^{buy}}_{csh,H2O,net,t_{2}} = {Price^{buy}}_{csh,H2O,net,t_{2}} \\cdot {buy}_{H2O,net,t_{2}}$"
      ],
      "text/plain": [
       "<IPython.core.display.Math object>"
      ]
     },
     "metadata": {},
     "output_type": "display_data"
    },
    {
     "data": {
      "text/latex": [
       "$\\displaystyle {buy}_{CH_{4},net,t_{0}} \\leq 40$"
      ],
      "text/plain": [
       "<IPython.core.display.Math object>"
      ]
     },
     "metadata": {},
     "output_type": "display_data"
    },
    {
     "data": {
      "text/latex": [
       "$\\displaystyle {buy}_{CH_{4},net,t_{0}} \\geq 20$"
      ],
      "text/plain": [
       "<IPython.core.display.Math object>"
      ]
     },
     "metadata": {},
     "output_type": "display_data"
    },
    {
     "data": {
      "text/latex": [
       "$\\displaystyle {exp^{buy}}_{csh,CH_{4},net,t_{0}} = {Price^{buy}}_{csh,CH_{4},net,t_{0}} \\cdot {buy}_{CH_{4},net,t_{0}}$"
      ],
      "text/plain": [
       "<IPython.core.display.Math object>"
      ]
     },
     "metadata": {},
     "output_type": "display_data"
    },
    {
     "data": {
      "text/latex": [
       "$\\displaystyle {exp^{sell}}_{csh,CO_{2 Vent},net,t_{0}} = {Price^{sell}}_{csh,CO_{2 Vent},net,t_{0}} \\cdot {sell}_{CO_{2 Vent},net,t_{0}}$"
      ],
      "text/plain": [
       "<IPython.core.display.Math object>"
      ]
     },
     "metadata": {},
     "output_type": "display_data"
    },
    {
     "data": {
      "text/latex": [
       "$\\displaystyle {sell}_{O_{2},net,t_{0}} \\leq {M}_{O_{2},net,t_{0}}$"
      ],
      "text/plain": [
       "<IPython.core.display.Math object>"
      ]
     },
     "metadata": {},
     "output_type": "display_data"
    },
    {
     "data": {
      "text/latex": [
       "$\\displaystyle {sell}_{O_{2},net,t_{0}} \\geq 20$"
      ],
      "text/plain": [
       "<IPython.core.display.Math object>"
      ]
     },
     "metadata": {},
     "output_type": "display_data"
    },
    {
     "data": {
      "text/latex": [
       "$\\displaystyle {use}_{LiR,ponje,t_{0}} = 1.5$"
      ],
      "text/plain": [
       "<IPython.core.display.Math object>"
      ]
     },
     "metadata": {},
     "output_type": "display_data"
    },
    {
     "data": {
      "text/latex": [
       "$\\displaystyle {emit^{use}}_{gwp,LiR,net,t_{0}} = {Emit^{use}}_{gwp,LiR,net,t_{0}} \\cdot {use}_{LiR,net,t_{0}}$"
      ],
      "text/plain": [
       "<IPython.core.display.Math object>"
      ]
     },
     "metadata": {},
     "output_type": "display_data"
    },
    {
     "data": {
      "text/latex": [
       "$\\displaystyle {capacity}_{WF,net,t_{0}} = 1000$"
      ],
      "text/plain": [
       "<IPython.core.display.Math object>"
      ]
     },
     "metadata": {},
     "output_type": "display_data"
    },
    {
     "data": {
      "text/latex": [
       "$\\displaystyle {operate}_{WF,net,t_{2}} \\leq {CapF}_{WF,net,t_{2}} \\cdot {capacity}_{WF,net,t_{2}}$"
      ],
      "text/plain": [
       "<IPython.core.display.Math object>"
      ]
     },
     "metadata": {},
     "output_type": "display_data"
    },
    {
     "data": {
      "text/latex": [
       "$\\displaystyle {operate}_{WF,net,t_{2}} \\leq {CapF}_{WF,net,t_{2}} \\cdot {capacity}_{WF,net,t_{2}}$"
      ],
      "text/plain": [
       "<IPython.core.display.Math object>"
      ]
     },
     "metadata": {},
     "output_type": "display_data"
    },
    {
     "data": {
      "text/latex": [
       "$\\displaystyle {used}_{LiR,WF,net,t_{0}} = {Land}_{LiR,WF,net,t_{0}} \\cdot {capacity}_{WF,net,t_{0}}$"
      ],
      "text/plain": [
       "<IPython.core.display.Math object>"
      ]
     },
     "metadata": {},
     "output_type": "display_data"
    },
    {
     "data": {
      "text/latex": [
       "$\\displaystyle {capex^{I}}_{csh,WF,madgaon,t_{1}} = 202233$"
      ],
      "text/plain": [
       "<IPython.core.display.Math object>"
      ]
     },
     "metadata": {},
     "output_type": "display_data"
    },
    {
     "data": {
      "text/latex": [
       "$\\displaystyle {opex}_{csh,WF,net,t_{0}} = {Opex}_{csh,WF,net,t_{0}} \\cdot {operate}_{WF,net,t_{0}}$"
      ],
      "text/plain": [
       "<IPython.core.display.Math object>"
      ]
     },
     "metadata": {},
     "output_type": "display_data"
    },
    {
     "data": {
      "text/latex": [
       "$\\displaystyle {emit^{opn}}_{gwp,WF,net,t_{0}} = {Emit^{opn}}_{gwp,WF,net,t_{0}} \\cdot {capacity}_{WF,net,t_{0}}$"
      ],
      "text/plain": [
       "<IPython.core.display.Math object>"
      ]
     },
     "metadata": {},
     "output_type": "display_data"
    },
    {
     "data": {
      "text/latex": [
       "$\\displaystyle {used}_{lnd,WF,net,t_{0}} = {Land}_{lnd,WF,net,t_{0}} \\cdot {capacity}_{WF,net,t_{0}}$"
      ],
      "text/plain": [
       "<IPython.core.display.Math object>"
      ]
     },
     "metadata": {},
     "output_type": "display_data"
    },
    {
     "data": {
      "text/latex": [
       "$\\displaystyle {emit^{opn}}_{odp,WF,net,t_{0}} = {Emit^{opn}}_{odp,WF,net,t_{0}} \\cdot {capacity}_{WF,net,t_{0}}$"
      ],
      "text/plain": [
       "<IPython.core.display.Math object>"
      ]
     },
     "metadata": {},
     "output_type": "display_data"
    },
    {
     "data": {
      "text/latex": [
       "$\\displaystyle {capacity}_{PV,net,t_{0},x(PV,capacity,X[0])} = 3000$"
      ],
      "text/plain": [
       "<IPython.core.display.Math object>"
      ]
     },
     "metadata": {},
     "output_type": "display_data"
    },
    {
     "data": {
      "text/latex": [
       "$\\displaystyle {capacity}_{PV,net,t_{0},x(PV,capacity,X[1])} = 4000$"
      ],
      "text/plain": [
       "<IPython.core.display.Math object>"
      ]
     },
     "metadata": {},
     "output_type": "display_data"
    },
    {
     "data": {
      "text/latex": [
       "$\\displaystyle {capacity}_{PV,net,t_{0},x(PV,capacity,X[2])} = 5000$"
      ],
      "text/plain": [
       "<IPython.core.display.Math object>"
      ]
     },
     "metadata": {},
     "output_type": "display_data"
    },
    {
     "data": {
      "text/latex": [
       "$\\displaystyle {operate}_{PV,net,t_{0}} \\leq {CapF}_{PV,net,t_{0}} \\cdot {capacity}_{PV,net,t_{0}}$"
      ],
      "text/plain": [
       "<IPython.core.display.Math object>"
      ]
     },
     "metadata": {},
     "output_type": "display_data"
    },
    {
     "data": {
      "text/latex": [
       "$\\displaystyle {operate}_{PV,net,t_{0}} \\geq {CapF}_{PV,net,t_{0}} \\cdot {capacity}_{PV,net,t_{0}}$"
      ],
      "text/plain": [
       "<IPython.core.display.Math object>"
      ]
     },
     "metadata": {},
     "output_type": "display_data"
    },
    {
     "data": {
      "text/latex": [
       "$\\displaystyle {capex}_{csh,PV,net,t_{0},x(PV,capex,X[0])} = {Capex}_{csh,PV,net,t_{0},x(PV,capex,X[0])} \\cdot {capacity}_{PV,net,t_{0},x(PV,capex,X[0])}$"
      ],
      "text/plain": [
       "<IPython.core.display.Math object>"
      ]
     },
     "metadata": {},
     "output_type": "display_data"
    },
    {
     "data": {
      "text/latex": [
       "$\\displaystyle {capex}_{csh,PV,net,t_{0},x(PV,capex,X[1])} = {Capex}_{csh,PV,net,t_{0},x(PV,capex,X[1])} \\cdot {capacity}_{PV,net,t_{0},x(PV,capex,X[1])}$"
      ],
      "text/plain": [
       "<IPython.core.display.Math object>"
      ]
     },
     "metadata": {},
     "output_type": "display_data"
    },
    {
     "data": {
      "text/latex": [
       "$\\displaystyle {capex}_{csh,PV,net,t_{0},x(PV,capex,X[2])} = {Capex}_{csh,PV,net,t_{0},x(PV,capex,X[2])} \\cdot {capacity}_{PV,net,t_{0},x(PV,capex,X[2])}$"
      ],
      "text/plain": [
       "<IPython.core.display.Math object>"
      ]
     },
     "metadata": {},
     "output_type": "display_data"
    },
    {
     "data": {
      "text/latex": [
       "$\\displaystyle {opex}_{csh,PV,net,t_{0}} = {Opex}_{csh,PV,net,t_{0}} \\cdot {operate}_{PV,net,t_{0}}$"
      ],
      "text/plain": [
       "<IPython.core.display.Math object>"
      ]
     },
     "metadata": {},
     "output_type": "display_data"
    },
    {
     "data": {
      "text/latex": [
       "$\\displaystyle {exp^{sell}}_{csh,Power,PV,net,t_{0}} = {Price^{sell}}_{csh,Power,PV,net,t_{0}} \\cdot {sell}_{Power,PV,net,t_{0}}$"
      ],
      "text/plain": [
       "<IPython.core.display.Math object>"
      ]
     },
     "metadata": {},
     "output_type": "display_data"
    },
    {
     "data": {
      "text/latex": [
       "$\\displaystyle {capacity}_{SMRH,net,t_{0}} = 1000$"
      ],
      "text/plain": [
       "<IPython.core.display.Math object>"
      ]
     },
     "metadata": {},
     "output_type": "display_data"
    },
    {
     "data": {
      "text/latex": [
       "$\\displaystyle {operate}_{SMRH,net,t_{0}} \\leq {CapF}_{SMRH,net,t_{0}} \\cdot {capacity}_{SMRH,net,t_{0}}$"
      ],
      "text/plain": [
       "<IPython.core.display.Math object>"
      ]
     },
     "metadata": {},
     "output_type": "display_data"
    },
    {
     "data": {
      "text/latex": [
       "$\\displaystyle {operate}_{SMRH,net,t_{0}} \\geq {CapF}_{SMRH,net,t_{0}} \\cdot {capacity}_{SMRH,net,t_{0}}$"
      ],
      "text/plain": [
       "<IPython.core.display.Math object>"
      ]
     },
     "metadata": {},
     "output_type": "display_data"
    },
    {
     "data": {
      "text/latex": [
       "$\\displaystyle {capex}_{csh,SMRH,net,t_{0}} = {Capex}_{csh,SMRH,net,t_{0}} \\cdot {capacity}_{SMRH,net,t_{0}}$"
      ],
      "text/plain": [
       "<IPython.core.display.Math object>"
      ]
     },
     "metadata": {},
     "output_type": "display_data"
    },
    {
     "data": {
      "text/latex": [
       "$\\displaystyle {used}_{lnd,SMRH,net,t_{0}} = {Land}_{lnd,SMRH,net,t_{0}} \\cdot {capacity}_{SMRH,net,t_{0}}$"
      ],
      "text/plain": [
       "<IPython.core.display.Math object>"
      ]
     },
     "metadata": {},
     "output_type": "display_data"
    },
    {
     "data": {
      "text/latex": [
       "$\\displaystyle {capacity}_{NGCC,net,t_{0}} \\leq 100$"
      ],
      "text/plain": [
       "<IPython.core.display.Math object>"
      ]
     },
     "metadata": {},
     "output_type": "display_data"
    },
    {
     "data": {
      "text/latex": [
       "$\\displaystyle {capacity}_{NGCC,net,t_{0}} \\geq 1$"
      ],
      "text/plain": [
       "<IPython.core.display.Math object>"
      ]
     },
     "metadata": {},
     "output_type": "display_data"
    },
    {
     "data": {
      "text/latex": [
       "$\\displaystyle {exp^{buy}}_{csh,CH_{4},NGCC,net,t_{0}} = {Price^{buy}}_{csh,CH_{4},NGCC,net,t_{0}} \\cdot {buy}_{CH_{4},NGCC,net,t_{0}}$"
      ],
      "text/plain": [
       "<IPython.core.display.Math object>"
      ]
     },
     "metadata": {},
     "output_type": "display_data"
    },
    {
     "data": {
      "text/latex": [
       "$\\displaystyle {exp^{buy}}_{csh,H2O,NGCC,net,t_{0}} = {Price^{buy}}_{csh,H2O,NGCC,net,t_{0}} \\cdot {buy}_{H2O,NGCC,net,t_{0}}$"
      ],
      "text/plain": [
       "<IPython.core.display.Math object>"
      ]
     },
     "metadata": {},
     "output_type": "display_data"
    },
    {
     "data": {
      "text/latex": [
       "$\\displaystyle {capex}_{csh,NGCC,net,t_{0}} = {Capex}_{csh,NGCC,net,t_{0}} \\cdot {capacity}_{NGCC,net,t_{0}}$"
      ],
      "text/plain": [
       "<IPython.core.display.Math object>"
      ]
     },
     "metadata": {},
     "output_type": "display_data"
    },
    {
     "data": {
      "text/latex": [
       "$\\displaystyle {capacity}_{SMR,net,t_{0}} = 1000$"
      ],
      "text/plain": [
       "<IPython.core.display.Math object>"
      ]
     },
     "metadata": {},
     "output_type": "display_data"
    },
    {
     "data": {
      "text/latex": [
       "$\\displaystyle {operate}_{SMR,net,t_{0}} \\leq {CapF}_{SMR,net,t_{0}} \\cdot {capacity}_{SMR,net,t_{0}}$"
      ],
      "text/plain": [
       "<IPython.core.display.Math object>"
      ]
     },
     "metadata": {},
     "output_type": "display_data"
    },
    {
     "data": {
      "text/latex": [
       "$\\displaystyle {operate}_{SMR,net,t_{0}} \\geq {CapF}_{SMR,net,t_{0}} \\cdot {capacity}_{SMR,net,t_{0}}$"
      ],
      "text/plain": [
       "<IPython.core.display.Math object>"
      ]
     },
     "metadata": {},
     "output_type": "display_data"
    },
    {
     "data": {
      "text/latex": [
       "$\\displaystyle {capex}_{csh,SMR,net,t_{0}} = {Capex}_{csh,SMR,net,t_{0}} \\cdot {capacity}_{SMR,net,t_{0}}$"
      ],
      "text/plain": [
       "<IPython.core.display.Math object>"
      ]
     },
     "metadata": {},
     "output_type": "display_data"
    },
    {
     "data": {
      "text/latex": [
       "$\\displaystyle {capacity}_{H2FC,net,t_{0}} \\leq 2000$"
      ],
      "text/plain": [
       "<IPython.core.display.Math object>"
      ]
     },
     "metadata": {},
     "output_type": "display_data"
    },
    {
     "data": {
      "text/latex": [
       "$\\displaystyle {capacity}_{H2FC,net,t_{0}} \\geq 1000$"
      ],
      "text/plain": [
       "<IPython.core.display.Math object>"
      ]
     },
     "metadata": {},
     "output_type": "display_data"
    },
    {
     "data": {
      "text/latex": [
       "$\\displaystyle {sell}_{Power,H2FC,net,t_{0}} = 20$"
      ],
      "text/plain": [
       "<IPython.core.display.Math object>"
      ]
     },
     "metadata": {},
     "output_type": "display_data"
    },
    {
     "data": {
      "text/latex": [
       "$\\displaystyle {exp^{buy}}_{csh,H_{2},H2FC,net,t_{0}} = {Price^{buy}}_{csh,H_{2},H2FC,net,t_{0}} \\cdot {buy}_{H_{2},H2FC,net,t_{0}}$"
      ],
      "text/plain": [
       "<IPython.core.display.Math object>"
      ]
     },
     "metadata": {},
     "output_type": "display_data"
    },
    {
     "data": {
      "text/latex": [
       "$\\displaystyle {capex}_{csh,H2FC,net,t_{0}} = {Capex}_{csh,H2FC,net,t_{0}} \\cdot {capacity}_{H2FC,net,t_{0}}$"
      ],
      "text/plain": [
       "<IPython.core.display.Math object>"
      ]
     },
     "metadata": {},
     "output_type": "display_data"
    },
    {
     "data": {
      "text/latex": [
       "$\\displaystyle {capacity}_{DAC,net,t_{0}} = 1000$"
      ],
      "text/plain": [
       "<IPython.core.display.Math object>"
      ]
     },
     "metadata": {},
     "output_type": "display_data"
    },
    {
     "data": {
      "text/latex": [
       "$\\displaystyle {operate}_{DAC,net,t_{0}} \\leq {CapF}_{DAC,net,t_{0}} \\cdot {capacity}_{DAC,net,t_{0}}$"
      ],
      "text/plain": [
       "<IPython.core.display.Math object>"
      ]
     },
     "metadata": {},
     "output_type": "display_data"
    },
    {
     "data": {
      "text/latex": [
       "$\\displaystyle {operate}_{DAC,net,t_{0}} \\geq {CapF}_{DAC,net,t_{0}} \\cdot {capacity}_{DAC,net,t_{0}}$"
      ],
      "text/plain": [
       "<IPython.core.display.Math object>"
      ]
     },
     "metadata": {},
     "output_type": "display_data"
    },
    {
     "data": {
      "text/latex": [
       "$\\displaystyle {capex}_{csh,DAC,net,t_{0}} = {Capex}_{csh,DAC,net,t_{0}} \\cdot {capacity}_{DAC,net,t_{0}}$"
      ],
      "text/plain": [
       "<IPython.core.display.Math object>"
      ]
     },
     "metadata": {},
     "output_type": "display_data"
    },
    {
     "data": {
      "text/latex": [
       "$\\displaystyle {capacity}_{ASMR,net,t_{0}} = 1000$"
      ],
      "text/plain": [
       "<IPython.core.display.Math object>"
      ]
     },
     "metadata": {},
     "output_type": "display_data"
    },
    {
     "data": {
      "text/latex": [
       "$\\displaystyle {operate}_{ASMR,net,t_{0}} \\leq {CapF}_{ASMR,net,t_{0}} \\cdot {capacity}_{ASMR,net,t_{0}}$"
      ],
      "text/plain": [
       "<IPython.core.display.Math object>"
      ]
     },
     "metadata": {},
     "output_type": "display_data"
    },
    {
     "data": {
      "text/latex": [
       "$\\displaystyle {operate}_{ASMR,net,t_{0}} \\geq {CapF}_{ASMR,net,t_{0}} \\cdot {capacity}_{ASMR,net,t_{0}}$"
      ],
      "text/plain": [
       "<IPython.core.display.Math object>"
      ]
     },
     "metadata": {},
     "output_type": "display_data"
    },
    {
     "data": {
      "text/latex": [
       "$\\displaystyle {buy}_{Uranium,ASMR,net,t_{0}} = 40$"
      ],
      "text/plain": [
       "<IPython.core.display.Math object>"
      ]
     },
     "metadata": {},
     "output_type": "display_data"
    },
    {
     "data": {
      "text/latex": [
       "$\\displaystyle {capex}_{csh,ASMR,net,t_{0}} = {Capex}_{csh,ASMR,net,t_{0}} \\cdot {capacity}_{ASMR,net,t_{0}}$"
      ],
      "text/plain": [
       "<IPython.core.display.Math object>"
      ]
     },
     "metadata": {},
     "output_type": "display_data"
    },
    {
     "data": {
      "text/latex": [
       "$\\displaystyle {capacity}_{AWE,net,t_{0}} \\leq {M}_{AWE,net,t_{0}}$"
      ],
      "text/plain": [
       "<IPython.core.display.Math object>"
      ]
     },
     "metadata": {},
     "output_type": "display_data"
    },
    {
     "data": {
      "text/latex": [
       "$\\displaystyle {operate}_{AWE,net,t_{0}} \\leq {CapF}_{AWE,net,t_{0}} \\cdot {capacity}_{AWE,net,t_{0}}$"
      ],
      "text/plain": [
       "<IPython.core.display.Math object>"
      ]
     },
     "metadata": {},
     "output_type": "display_data"
    },
    {
     "data": {
      "text/latex": [
       "$\\displaystyle {operate}_{AWE,net,t_{0}} \\geq {CapF}_{AWE,net,t_{0}} \\cdot {capacity}_{AWE,net,t_{0}}$"
      ],
      "text/plain": [
       "<IPython.core.display.Math object>"
      ]
     },
     "metadata": {},
     "output_type": "display_data"
    },
    {
     "data": {
      "text/latex": [
       "$\\displaystyle {capex}_{csh,AWE,net,t_{0}} = {Capex}_{csh,AWE,net,t_{0}} \\cdot {capacity}_{AWE,net,t_{0}}$"
      ],
      "text/plain": [
       "<IPython.core.display.Math object>"
      ]
     },
     "metadata": {},
     "output_type": "display_data"
    },
    {
     "data": {
      "text/latex": [
       "$\\displaystyle {used}_{lnd,AWE,net,t_{0}} = {Land}_{lnd,AWE,net,t_{0}} \\cdot {capacity}_{AWE,net,t_{0}}$"
      ],
      "text/plain": [
       "<IPython.core.display.Math object>"
      ]
     },
     "metadata": {},
     "output_type": "display_data"
    },
    {
     "data": {
      "text/latex": [
       "$\\displaystyle {capacity}_{LiI,net,t_{0}} \\leq 2000$"
      ],
      "text/plain": [
       "<IPython.core.display.Math object>"
      ]
     },
     "metadata": {},
     "output_type": "display_data"
    },
    {
     "data": {
      "text/latex": [
       "$\\displaystyle {capacity}_{LiI,net,t_{0}} \\geq 0$"
      ],
      "text/plain": [
       "<IPython.core.display.Math object>"
      ]
     },
     "metadata": {},
     "output_type": "display_data"
    },
    {
     "data": {
      "text/latex": [
       "$\\displaystyle {capacity}_{LiI_{c},net,t_{0}} \\leq 40$"
      ],
      "text/plain": [
       "<IPython.core.display.Math object>"
      ]
     },
     "metadata": {},
     "output_type": "display_data"
    },
    {
     "data": {
      "text/latex": [
       "$\\displaystyle {capacity}_{LiI_{c},net,t_{0}} \\geq 0$"
      ],
      "text/plain": [
       "<IPython.core.display.Math object>"
      ]
     },
     "metadata": {},
     "output_type": "display_data"
    },
    {
     "data": {
      "text/latex": [
       "$\\displaystyle {capacity}_{LiI_{d},net,t_{0}} \\leq 20$"
      ],
      "text/plain": [
       "<IPython.core.display.Math object>"
      ]
     },
     "metadata": {},
     "output_type": "display_data"
    },
    {
     "data": {
      "text/latex": [
       "$\\displaystyle {capacity}_{LiI_{d},net,t_{0}} \\geq 0$"
      ],
      "text/plain": [
       "<IPython.core.display.Math object>"
      ]
     },
     "metadata": {},
     "output_type": "display_data"
    },
    {
     "data": {
      "text/latex": [
       "$\\displaystyle {capacity}_{LiI_{2},net,t_{0}} \\leq 2000$"
      ],
      "text/plain": [
       "<IPython.core.display.Math object>"
      ]
     },
     "metadata": {},
     "output_type": "display_data"
    },
    {
     "data": {
      "text/latex": [
       "$\\displaystyle {capacity}_{LiI_{2},net,t_{0}} \\geq 0$"
      ],
      "text/plain": [
       "<IPython.core.display.Math object>"
      ]
     },
     "metadata": {},
     "output_type": "display_data"
    },
    {
     "data": {
      "text/latex": [
       "$\\displaystyle {operate}_{LiI_{2 c},net,t_{0}} \\leq {CapF}_{LiI_{2 c},net,t_{0}} \\cdot {capacity}_{LiI_{2 c},net,t_{0}}$"
      ],
      "text/plain": [
       "<IPython.core.display.Math object>"
      ]
     },
     "metadata": {},
     "output_type": "display_data"
    },
    {
     "data": {
      "text/latex": [
       "$\\displaystyle {operate}_{LiI_{2 c},net,t_{0}} \\geq {CapF}_{LiI_{2 c},net,t_{0}} \\cdot {capacity}_{LiI_{2 c},net,t_{0}}$"
      ],
      "text/plain": [
       "<IPython.core.display.Math object>"
      ]
     },
     "metadata": {},
     "output_type": "display_data"
    },
    {
     "data": {
      "text/latex": [
       "$\\displaystyle {operate}_{LiI_{2 d},net,t_{0}} \\leq {CapF}_{LiI_{2 d},net,t_{0}} \\cdot {capacity}_{LiI_{2 d},net,t_{0}}$"
      ],
      "text/plain": [
       "<IPython.core.display.Math object>"
      ]
     },
     "metadata": {},
     "output_type": "display_data"
    },
    {
     "data": {
      "text/latex": [
       "$\\displaystyle {operate}_{LiI_{2 d},net,t_{0}} \\geq {CapF}_{LiI_{2 d},net,t_{0}} \\cdot {capacity}_{LiI_{2 d},net,t_{0}}$"
      ],
      "text/plain": [
       "<IPython.core.display.Math object>"
      ]
     },
     "metadata": {},
     "output_type": "display_data"
    },
    {
     "data": {
      "text/latex": [
       "$\\displaystyle {capacity}_{H2Stg,net,t_{0}} \\leq 2000$"
      ],
      "text/plain": [
       "<IPython.core.display.Math object>"
      ]
     },
     "metadata": {},
     "output_type": "display_data"
    },
    {
     "data": {
      "text/latex": [
       "$\\displaystyle {capacity}_{H2Stg,net,t_{0}} \\geq 0$"
      ],
      "text/plain": [
       "<IPython.core.display.Math object>"
      ]
     },
     "metadata": {},
     "output_type": "display_data"
    },
    {
     "data": {
      "text/latex": [
       "$\\displaystyle {operate}_{H2Stg_{c},net,t_{0}} \\leq {CapF}_{H2Stg_{c},net,t_{0}} \\cdot {capacity}_{H2Stg_{c},net,t_{0}}$"
      ],
      "text/plain": [
       "<IPython.core.display.Math object>"
      ]
     },
     "metadata": {},
     "output_type": "display_data"
    },
    {
     "data": {
      "text/latex": [
       "$\\displaystyle {operate}_{H2Stg_{c},net,t_{0}} \\geq {CapF}_{H2Stg_{c},net,t_{0}} \\cdot {capacity}_{H2Stg_{c},net,t_{0}}$"
      ],
      "text/plain": [
       "<IPython.core.display.Math object>"
      ]
     },
     "metadata": {},
     "output_type": "display_data"
    },
    {
     "data": {
      "text/latex": [
       "$\\displaystyle {operate}_{H2Stg_{d},net,t_{0}} \\leq {CapF}_{H2Stg_{d},net,t_{0}} \\cdot {capacity}_{H2Stg_{d},net,t_{0}}$"
      ],
      "text/plain": [
       "<IPython.core.display.Math object>"
      ]
     },
     "metadata": {},
     "output_type": "display_data"
    },
    {
     "data": {
      "text/latex": [
       "$\\displaystyle {operate}_{H2Stg_{d},net,t_{0}} \\geq {CapF}_{H2Stg_{d},net,t_{0}} \\cdot {capacity}_{H2Stg_{d},net,t_{0}}$"
      ],
      "text/plain": [
       "<IPython.core.display.Math object>"
      ]
     },
     "metadata": {},
     "output_type": "display_data"
    }
   ],
   "source": [
    "s.pprint()"
   ]
  },
  {
   "cell_type": "code",
   "execution_count": null,
   "metadata": {},
   "outputs": [],
   "source": []
  },
  {
   "cell_type": "code",
   "execution_count": 40,
   "metadata": {},
   "outputs": [
    {
     "data": {
      "text/plain": [
       "[Spend[csh, cacoda, t0],\n",
       " Spend[csh, madgaon, t0],\n",
       " Spend[csh, net, t2],\n",
       " Spend[csh, ponje, t1],\n",
       " Cost^use[csh, lnd, net, t0],\n",
       " Use[lnd, cacoda, t1],\n",
       " Use[lnd, net, t2],\n",
       " Use[lnd, ponje, t2],\n",
       " Emit^buy[gwp, Ra, net, t2],\n",
       " Price^sell[csh, H2, cacoda, t0],\n",
       " Price^sell[csh, H2, madgaon, t0],\n",
       " Price^sell[csh, H2, net, t0],\n",
       " Price^sell[csh, H2, ponje, t2],\n",
       " Sell[H2, net, t0],\n",
       " Sell[H2, net, t1],\n",
       " Sell[H2, net, t2],\n",
       " Buy[Solar, net, t0],\n",
       " Buy[Wind, net, t1],\n",
       " Buy[Power, net, t1],\n",
       " Buy[Uranium, net, t2],\n",
       " Price^buy[csh, Uranium, net, t0],\n",
       " Sell[H2_L, net, t0],\n",
       " Buy[H2O, net, t0],\n",
       " Price^buy[csh, H2O, net, t2],\n",
       " Buy[CH4, net, t0],\n",
       " Price^buy[csh, CH4, net, t0],\n",
       " Price^sell[csh, CO2_Vent, net, t0],\n",
       " Sell[O2, net, t0],\n",
       " Emit^use[gwp, LiR, net, t0],\n",
       " Use[LiR, ponje, t0],\n",
       " CapF[WF, net, t2],\n",
       " Capacity[WF, net, t0],\n",
       " Capex[csh, WF, madgaon, t1],\n",
       " Capex^i[csh, WF, madgaon, t1],\n",
       " Emit^opn[gwp, WF, net, t0],\n",
       " Emit^opn[odp, WF, net, t0],\n",
       " Land[LiR, WF, net, t0],\n",
       " Land[lnd, WF, net, t0],\n",
       " Mat[LiR, WF, net, t0],\n",
       " Mat[lnd, WF, net, t0],\n",
       " Opex[csh, WF, net, t0],\n",
       " Opex^i[csh, WF, net, t0],\n",
       " CapF[PV, net, t0],\n",
       " Capacity[PV, net, t0, x(PV, capacity, (0))],\n",
       " Capacity[PV, net, t0, x(PV, capacity, (1))],\n",
       " Capacity[PV, net, t0, x(PV, capacity, (2))],\n",
       " Capex[csh, PV, net, t0, x(PV, capex, (0))],\n",
       " Capex[csh, PV, net, t0, x(PV, capex, (1))],\n",
       " Capex[csh, PV, net, t0, x(PV, capex, (2))],\n",
       " Credit[csh, Power, PV, net, t0],\n",
       " Opex[csh, PV, net, t0],\n",
       " Price^sell[csh, Power, PV, net, t0],\n",
       " CapF[SMRH, net, t0],\n",
       " Capacity[SMRH, net, t0],\n",
       " Capex[csh, SMRH, net, t0],\n",
       " Land[lnd, SMRH, net, t0],\n",
       " Mat[lnd, SMRH, net, t0],\n",
       " Opex[csh, SMRH, net, t0],\n",
       " Opex^i[csh, SMRH, net, t0],\n",
       " CapF[NGCC, net, t0],\n",
       " Capacity[NGCC, net, t0],\n",
       " Capex[csh, NGCC, net, t0],\n",
       " Opex[csh, NGCC, net, t0],\n",
       " Opex^i[csh, NGCC, net, t0],\n",
       " Price^buy[csh, CH4, NGCC, net, t0],\n",
       " Price^buy[csh, H2O, NGCC, net, t0],\n",
       " CapF[SMR, net, t0],\n",
       " Capacity[SMR, net, t0],\n",
       " Capex[csh, SMR, net, t0],\n",
       " Opex[csh, SMR, net, t0],\n",
       " Opex^i[csh, SMR, net, t0],\n",
       " CapF[H2FC, net, t0],\n",
       " Capacity[H2FC, net, t0],\n",
       " Capex[csh, H2FC, net, t0],\n",
       " Opex[csh, H2FC, net, t0],\n",
       " Price^buy[csh, H2, H2FC, net, t0],\n",
       " Sell[Power, H2FC, net, t0],\n",
       " CapF[DAC, net, t0],\n",
       " Capacity[DAC, net, t0],\n",
       " Capex[csh, DAC, net, t0],\n",
       " Opex[csh, DAC, net, t0],\n",
       " Buy[Uranium, ASMR, net, t0],\n",
       " CapF[ASMR, net, t0],\n",
       " Capacity[ASMR, net, t0],\n",
       " Capex[csh, ASMR, net, t0],\n",
       " Opex^i[csh, ASMR, net, t0],\n",
       " CapF[AWE, net, t0],\n",
       " Capacity[AWE, net, t0],\n",
       " Capex[csh, AWE, net, t0],\n",
       " Capex^i[csh, AWE, net, t0],\n",
       " Land[lnd, AWE, net, t0],\n",
       " Mat[lnd, AWE, net, t0],\n",
       " Opex^i[csh, AWE, net, t0],\n",
       " CapF[LiI, net, t0],\n",
       " Capacity[LiI, net, t0],\n",
       " CapF[LiI_c, net, t0],\n",
       " Capacity[LiI_c, net, t0],\n",
       " CapF[LiI_d, net, t0],\n",
       " Capacity[LiI_d, net, t0],\n",
       " CapF[LiI2, net, t0],\n",
       " Capacity[LiI2, net, t0],\n",
       " CapF[LiI2_c, net, t0],\n",
       " CapF[LiI2_d, net, t0],\n",
       " CapF[H2Stg, net, t0],\n",
       " Capacity[H2Stg, net, t0],\n",
       " CapF[H2Stg_c, net, t0],\n",
       " CapF[H2Stg_d, net, t0]]"
      ]
     },
     "execution_count": 40,
     "metadata": {},
     "output_type": "execute_result"
    }
   ],
   "source": [
    "s.parameters"
   ]
  },
  {
   "cell_type": "code",
   "execution_count": null,
   "metadata": {},
   "outputs": [],
   "source": [
    "s.AWE.eqns()"
   ]
  },
  {
   "cell_type": "code",
   "execution_count": null,
   "metadata": {},
   "outputs": [],
   "source": []
  },
  {
   "cell_type": "code",
   "execution_count": null,
   "metadata": {},
   "outputs": [],
   "source": [
    "s.datasets"
   ]
  },
  {
   "cell_type": "code",
   "execution_count": null,
   "metadata": {},
   "outputs": [],
   "source": [
    "s.train = Transit(\n",
    "    carries=s.H2,\n",
    "    ship=[300],\n",
    "    capacity=[400],\n",
    "    land=20,\n",
    "    emission={s.odp: 0.1},\n",
    "    capex={s.alink: 200, s.blink: 300, s.clink: 400},\n",
    "    opex=100,\n",
    "    label='Train',\n",
    "    basis='passengers',\n",
    "    linkages=[s.alink],\n",
    ")"
   ]
  },
  {
   "cell_type": "code",
   "execution_count": null,
   "metadata": {},
   "outputs": [],
   "source": [
    "s.transits"
   ]
  },
  {
   "cell_type": "code",
   "execution_count": null,
   "metadata": {},
   "outputs": [],
   "source": [
    "s.train.linkages"
   ]
  },
  {
   "cell_type": "code",
   "execution_count": null,
   "metadata": {},
   "outputs": [],
   "source": [
    "s.train.eqns()"
   ]
  },
  {
   "cell_type": "code",
   "execution_count": null,
   "metadata": {},
   "outputs": [],
   "source": [
    "s.Wind.locations"
   ]
  },
  {
   "cell_type": "code",
   "execution_count": null,
   "metadata": {},
   "outputs": [],
   "source": [
    "s.LiI_c.__dict__"
   ]
  },
  {
   "cell_type": "code",
   "execution_count": null,
   "metadata": {},
   "outputs": [],
   "source": [
    "s.LiI_c.eqns()"
   ]
  },
  {
   "cell_type": "code",
   "execution_count": null,
   "metadata": {},
   "outputs": [],
   "source": [
    "s.processes"
   ]
  },
  {
   "cell_type": "code",
   "execution_count": null,
   "metadata": {},
   "outputs": [],
   "source": [
    "for i in s.resources:\n",
    "    print(i, i.is_located)"
   ]
  },
  {
   "cell_type": "code",
   "execution_count": null,
   "metadata": {},
   "outputs": [],
   "source": [
    "s.WF.locations"
   ]
  },
  {
   "cell_type": "code",
   "execution_count": null,
   "metadata": {},
   "outputs": [],
   "source": [
    "s.AWE.locations"
   ]
  },
  {
   "cell_type": "code",
   "execution_count": null,
   "metadata": {},
   "outputs": [],
   "source": [
    "s.PV.conversion"
   ]
  },
  {
   "cell_type": "code",
   "execution_count": null,
   "metadata": {},
   "outputs": [],
   "source": [
    "s.eqns()"
   ]
  },
  {
   "cell_type": "code",
   "execution_count": null,
   "metadata": {},
   "outputs": [],
   "source": [
    "from collections import OrderedDict"
   ]
  },
  {
   "cell_type": "code",
   "execution_count": null,
   "metadata": {},
   "outputs": [],
   "source": [
    "a = OrderedDict((i, 't') for i in [(1, 2), (3, 4), (5, 6)])"
   ]
  },
  {
   "cell_type": "code",
   "execution_count": null,
   "metadata": {},
   "outputs": [],
   "source": [
    "s.dispositions"
   ]
  },
  {
   "cell_type": "code",
   "execution_count": null,
   "metadata": {},
   "outputs": [],
   "source": [
    "a[(1, 2)]"
   ]
  },
  {
   "cell_type": "code",
   "execution_count": null,
   "metadata": {},
   "outputs": [],
   "source": [
    "s.WF.locations"
   ]
  },
  {
   "cell_type": "code",
   "execution_count": null,
   "metadata": {},
   "outputs": [],
   "source": [
    "s.madgaon.processes"
   ]
  },
  {
   "cell_type": "code",
   "execution_count": null,
   "metadata": {},
   "outputs": [],
   "source": [
    "s.cacoda.processes"
   ]
  },
  {
   "cell_type": "code",
   "execution_count": null,
   "metadata": {},
   "outputs": [],
   "source": [
    "s.WF.eqns()"
   ]
  },
  {
   "cell_type": "code",
   "execution_count": null,
   "metadata": {},
   "outputs": [],
   "source": [
    "s.PV._spatials()"
   ]
  },
  {
   "cell_type": "code",
   "execution_count": null,
   "metadata": {},
   "outputs": [],
   "source": [
    "s.PV.conversion.involved"
   ]
  },
  {
   "cell_type": "code",
   "execution_count": null,
   "metadata": {},
   "outputs": [],
   "source": [
    "s.cacoda.resources"
   ]
  },
  {
   "cell_type": "code",
   "execution_count": null,
   "metadata": {},
   "outputs": [],
   "source": [
    "s.network.processes"
   ]
  },
  {
   "cell_type": "code",
   "execution_count": null,
   "metadata": {},
   "outputs": [],
   "source": [
    "s.cacoda.materials"
   ]
  },
  {
   "cell_type": "code",
   "execution_count": null,
   "metadata": {},
   "outputs": [],
   "source": [
    "s.ponje.materials"
   ]
  },
  {
   "cell_type": "code",
   "execution_count": null,
   "metadata": {},
   "outputs": [],
   "source": [
    "s.ponje.emissions"
   ]
  },
  {
   "cell_type": "code",
   "execution_count": null,
   "metadata": {},
   "outputs": [],
   "source": [
    "s.WF.emission[0].disposition.emn"
   ]
  },
  {
   "cell_type": "code",
   "execution_count": null,
   "metadata": {},
   "outputs": [],
   "source": [
    "s.ponje.commodities"
   ]
  },
  {
   "cell_type": "code",
   "execution_count": null,
   "metadata": {},
   "outputs": [],
   "source": [
    "s.H2"
   ]
  },
  {
   "cell_type": "code",
   "execution_count": null,
   "metadata": {},
   "outputs": [],
   "source": [
    "[loc for loc in s.H2.system.locations if s.H2 in loc.commodities]"
   ]
  },
  {
   "cell_type": "code",
   "execution_count": null,
   "metadata": {},
   "outputs": [],
   "source": []
  },
  {
   "cell_type": "code",
   "execution_count": null,
   "metadata": {},
   "outputs": [],
   "source": [
    "s.H2.locations"
   ]
  },
  {
   "cell_type": "code",
   "execution_count": null,
   "metadata": {},
   "outputs": [],
   "source": [
    "s.H2.linkages"
   ]
  },
  {
   "cell_type": "code",
   "execution_count": null,
   "metadata": {},
   "outputs": [],
   "source": [
    "s.alink.commodities"
   ]
  },
  {
   "cell_type": "code",
   "execution_count": null,
   "metadata": {},
   "outputs": [],
   "source": [
    "s.ponje.commodities"
   ]
  },
  {
   "cell_type": "code",
   "execution_count": null,
   "metadata": {},
   "outputs": [],
   "source": [
    "s.Wind.locations"
   ]
  },
  {
   "cell_type": "code",
   "execution_count": null,
   "metadata": {},
   "outputs": [],
   "source": [
    "s.cacoda.resources"
   ]
  },
  {
   "cell_type": "code",
   "execution_count": null,
   "metadata": {},
   "outputs": [],
   "source": [
    "s.LiR.locations"
   ]
  },
  {
   "cell_type": "code",
   "execution_count": null,
   "metadata": {},
   "outputs": [],
   "source": [
    "s.ponje.resources"
   ]
  },
  {
   "cell_type": "code",
   "execution_count": null,
   "metadata": {},
   "outputs": [],
   "source": [
    "Process.inputs()"
   ]
  },
  {
   "cell_type": "code",
   "execution_count": null,
   "metadata": {},
   "outputs": [],
   "source": [
    "Storage.inputs()"
   ]
  },
  {
   "cell_type": "code",
   "execution_count": null,
   "metadata": {},
   "outputs": [],
   "source": []
  },
  {
   "cell_type": "code",
   "execution_count": null,
   "metadata": {},
   "outputs": [],
   "source": [
    "s.LiI_c"
   ]
  },
  {
   "cell_type": "code",
   "execution_count": null,
   "metadata": {},
   "outputs": [],
   "source": []
  },
  {
   "cell_type": "code",
   "execution_count": null,
   "metadata": {},
   "outputs": [],
   "source": []
  },
  {
   "cell_type": "code",
   "execution_count": null,
   "metadata": {},
   "outputs": [],
   "source": [
    "s.H2Stg.eqns()"
   ]
  },
  {
   "cell_type": "code",
   "execution_count": null,
   "metadata": {},
   "outputs": [],
   "source": [
    "s.H2Stg.balance_c"
   ]
  },
  {
   "cell_type": "code",
   "execution_count": null,
   "metadata": {},
   "outputs": [],
   "source": [
    "s.LiI.balance_d"
   ]
  },
  {
   "cell_type": "code",
   "execution_count": null,
   "metadata": {},
   "outputs": [],
   "source": [
    "# s.H2Stg.cin.balance\n",
    "s.H2Stg_c.conversion.balance"
   ]
  },
  {
   "cell_type": "code",
   "execution_count": null,
   "metadata": {},
   "outputs": [],
   "source": []
  },
  {
   "cell_type": "code",
   "execution_count": null,
   "metadata": {},
   "outputs": [],
   "source": [
    "s.LiI.eqns()"
   ]
  },
  {
   "cell_type": "code",
   "execution_count": null,
   "metadata": {},
   "outputs": [],
   "source": []
  },
  {
   "cell_type": "code",
   "execution_count": null,
   "metadata": {},
   "outputs": [],
   "source": [
    "s.LiI_c.eqns()"
   ]
  },
  {
   "cell_type": "code",
   "execution_count": null,
   "metadata": {},
   "outputs": [],
   "source": [
    "s.LiI2_d.conversion.balance\n",
    "s.H2Stg_d.conversion.balance"
   ]
  },
  {
   "cell_type": "code",
   "execution_count": null,
   "metadata": {},
   "outputs": [],
   "source": [
    "s.resources"
   ]
  },
  {
   "cell_type": "code",
   "execution_count": null,
   "metadata": {},
   "outputs": [],
   "source": [
    "isinstance(s.LiI_Power, Resource)"
   ]
  },
  {
   "cell_type": "code",
   "execution_count": null,
   "metadata": {},
   "outputs": [],
   "source": [
    "help(Resource"
   ]
  },
  {
   "cell_type": "code",
   "execution_count": null,
   "metadata": {},
   "outputs": [],
   "source": [
    "from energiapy.components._base._component import _Component\n",
    "from energiapy.components._base._defined import _Defined"
   ]
  },
  {
   "cell_type": "code",
   "execution_count": null,
   "metadata": {},
   "outputs": [],
   "source": [
    "isinstance(s.H2, _Defined)"
   ]
  },
  {
   "cell_type": "code",
   "execution_count": null,
   "metadata": {},
   "outputs": [],
   "source": [
    "s.storages"
   ]
  },
  {
   "cell_type": "code",
   "execution_count": null,
   "metadata": {},
   "outputs": [],
   "source": [
    "s.processes"
   ]
  },
  {
   "cell_type": "code",
   "execution_count": null,
   "metadata": {},
   "outputs": [],
   "source": [
    "s.LiI_c.conversion.__dict__"
   ]
  },
  {
   "cell_type": "code",
   "execution_count": null,
   "metadata": {},
   "outputs": [],
   "source": [
    "s.WF.operate"
   ]
  },
  {
   "cell_type": "code",
   "execution_count": null,
   "metadata": {},
   "outputs": [],
   "source": [
    "s.data.__dict__"
   ]
  },
  {
   "cell_type": "code",
   "execution_count": null,
   "metadata": {},
   "outputs": [],
   "source": [
    "s.SMR.constants"
   ]
  },
  {
   "cell_type": "code",
   "execution_count": null,
   "metadata": {},
   "outputs": [],
   "source": [
    "s.SMR.eqns()"
   ]
  },
  {
   "cell_type": "code",
   "execution_count": null,
   "metadata": {},
   "outputs": [],
   "source": [
    "s.eqns()"
   ]
  },
  {
   "cell_type": "code",
   "execution_count": null,
   "metadata": {},
   "outputs": [],
   "source": [
    "s.WF.dispositions"
   ]
  },
  {
   "cell_type": "code",
   "execution_count": null,
   "metadata": {},
   "outputs": [],
   "source": [
    "a = [1].insert(0, 0)"
   ]
  },
  {
   "cell_type": "code",
   "execution_count": null,
   "metadata": {},
   "outputs": [],
   "source": [
    "a"
   ]
  },
  {
   "cell_type": "code",
   "execution_count": null,
   "metadata": {},
   "outputs": [],
   "source": [
    "s.components"
   ]
  },
  {
   "cell_type": "code",
   "execution_count": null,
   "metadata": {},
   "outputs": [],
   "source": [
    "s.WF.data"
   ]
  },
  {
   "cell_type": "code",
   "execution_count": null,
   "metadata": {},
   "outputs": [],
   "source": [
    "s.WF.constraints[0].__dict__"
   ]
  },
  {
   "cell_type": "code",
   "execution_count": null,
   "metadata": {},
   "outputs": [],
   "source": []
  },
  {
   "cell_type": "code",
   "execution_count": null,
   "metadata": {},
   "outputs": [],
   "source": [
    "s.constants"
   ]
  },
  {
   "cell_type": "code",
   "execution_count": null,
   "metadata": {},
   "outputs": [],
   "source": [
    "from energiapy._core._aliases._is_component import IsComponent"
   ]
  },
  {
   "cell_type": "code",
   "execution_count": null,
   "metadata": {},
   "outputs": [],
   "source": [
    "from enum import Enum, auto"
   ]
  },
  {
   "cell_type": "code",
   "execution_count": null,
   "metadata": {},
   "outputs": [],
   "source": [
    "class A(Enum):\n",
    "    a = auto()\n",
    "    b = auto()"
   ]
  },
  {
   "cell_type": "code",
   "execution_count": null,
   "metadata": {},
   "outputs": [],
   "source": [
    "@dataclass\n",
    "class B:\n",
    "    a: A"
   ]
  },
  {
   "cell_type": "code",
   "execution_count": null,
   "metadata": {},
   "outputs": [],
   "source": [
    "q = B(A.a)\n",
    "r = B(A.b)\n",
    "z = B(A.a)\n",
    "w = B(A.b)\n",
    "l = [q, r, z, w]"
   ]
  },
  {
   "cell_type": "code",
   "execution_count": null,
   "metadata": {},
   "outputs": [],
   "source": [
    "l_a = [i for i in l if i.a == A.a]"
   ]
  },
  {
   "cell_type": "code",
   "execution_count": null,
   "metadata": {},
   "outputs": [],
   "source": [
    "l_a"
   ]
  },
  {
   "cell_type": "code",
   "execution_count": null,
   "metadata": {},
   "outputs": [],
   "source": [
    "s.PV.parameters"
   ]
  },
  {
   "cell_type": "code",
   "execution_count": null,
   "metadata": {},
   "outputs": [],
   "source": [
    "s.PV.constraints"
   ]
  },
  {
   "cell_type": "code",
   "execution_count": null,
   "metadata": {},
   "outputs": [],
   "source": [
    "s.PV.variables[4].disposition.__dict__"
   ]
  },
  {
   "cell_type": "code",
   "execution_count": null,
   "metadata": {},
   "outputs": [],
   "source": [
    "from dataclasses import dataclass"
   ]
  },
  {
   "cell_type": "code",
   "execution_count": null,
   "metadata": {},
   "outputs": [],
   "source": [
    "@dataclass\n",
    "class Ra:\n",
    "    a: int = 0\n",
    "\n",
    "    @classmethod\n",
    "    def b(self, b):\n",
    "        return self.a + b"
   ]
  },
  {
   "cell_type": "code",
   "execution_count": null,
   "metadata": {},
   "outputs": [],
   "source": [
    "Ra.b(2)"
   ]
  },
  {
   "cell_type": "code",
   "execution_count": null,
   "metadata": {},
   "outputs": [],
   "source": [
    "s.PV.capex[0].disposition.__dict__"
   ]
  },
  {
   "cell_type": "code",
   "execution_count": null,
   "metadata": {},
   "outputs": [],
   "source": [
    "s.WF.variables"
   ]
  },
  {
   "cell_type": "code",
   "execution_count": null,
   "metadata": {},
   "outputs": [],
   "source": [
    "s.WF.parameters"
   ]
  },
  {
   "cell_type": "code",
   "execution_count": null,
   "metadata": {},
   "outputs": [],
   "source": [
    "s.WF._consistent"
   ]
  },
  {
   "cell_type": "code",
   "execution_count": null,
   "metadata": {},
   "outputs": [],
   "source": [
    "s.WF.__dict__"
   ]
  },
  {
   "cell_type": "code",
   "execution_count": null,
   "metadata": {},
   "outputs": [],
   "source": [
    "s.PV.variables"
   ]
  },
  {
   "cell_type": "code",
   "execution_count": null,
   "metadata": {},
   "outputs": [],
   "source": [
    "s.variables"
   ]
  },
  {
   "attachments": {},
   "cell_type": "markdown",
   "metadata": {},
   "source": [
    "## Declare processes"
   ]
  },
  {
   "cell_type": "code",
   "execution_count": null,
   "metadata": {},
   "outputs": [],
   "source": [
    "# s.LiI = Process(store= 2000, conversion = {s.Power: 0.9}, store_loss = 0.2, store_cost= 0.4, capex = 3516428, fopex= 87910, vopex = 0, capacity= [1000,BigM], label='Lithium-ion battery', basis = 'MW')"
   ]
  },
  {
   "attachments": {},
   "cell_type": "markdown",
   "metadata": {},
   "source": [
    "## Declare locations"
   ]
  },
  {
   "cell_type": "code",
   "execution_count": null,
   "metadata": {},
   "outputs": [],
   "source": [
    "PV.cap_max"
   ]
  },
  {
   "cell_type": "code",
   "execution_count": null,
   "metadata": {},
   "outputs": [],
   "source": [
    "PV.factors"
   ]
  },
  {
   "cell_type": "code",
   "execution_count": null,
   "metadata": {},
   "outputs": [],
   "source": [
    "houston.aspect"
   ]
  },
  {
   "cell_type": "code",
   "execution_count": null,
   "metadata": {},
   "outputs": [],
   "source": [
    "houston.land_cost_factor"
   ]
  },
  {
   "cell_type": "code",
   "execution_count": null,
   "metadata": {},
   "outputs": [],
   "source": [
    "# for i in houston.processes | sandiego.processes | newyork.processes:\n",
    "# # for i in houston.resources | sandiego.resources | newyork.resources:\n",
    "#     print(i, i.localizations)\n",
    "#     print(i, i.factors)"
   ]
  },
  {
   "cell_type": "code",
   "execution_count": null,
   "metadata": {},
   "outputs": [],
   "source": [
    "Power.ctype"
   ]
  },
  {
   "attachments": {},
   "cell_type": "markdown",
   "metadata": {},
   "source": [
    "## Declare transports"
   ]
  },
  {
   "cell_type": "code",
   "execution_count": null,
   "metadata": {},
   "outputs": [],
   "source": [
    "# Train_H2 = Transport(name='Train_H2', resources={\n",
    "#                      H2}, trans_max=bigM, trans_loss=0.03, trans_cost=1.667*10**(-3), label='Railway for hydrogen transportation')\n",
    "# Grid = Transport(name='Grid', resources={\n",
    "#                  Power}, trans_max=bigM, trans_loss=0.001, trans_cost=0.5*10**(-3), label='Railroad transport')\n",
    "\n",
    "\n",
    "Train_H2 = Transport(\n",
    "    name='Train_H2',\n",
    "    resources={H2},\n",
    "    cap_max=BigM,\n",
    "    trans_loss=0.03,\n",
    "    capex=1000,\n",
    "    vopex=1.667,\n",
    "    fopex=(0, 1),\n",
    "    acid=34,\n",
    "    eutf=55,\n",
    "    label='Railway for hydrogen transportation',\n",
    ")\n",
    "Grid = Transport(\n",
    "    name='Grid',\n",
    "    resources={H2, Power},\n",
    "    cap_max=BigM,\n",
    "    trans_loss=0.001,\n",
    "    capex=500,\n",
    "    vopex=0.444,\n",
    "    label='Railroad transport',\n",
    ")"
   ]
  },
  {
   "cell_type": "code",
   "execution_count": null,
   "metadata": {},
   "outputs": [],
   "source": [
    "Train_H2.cap_max"
   ]
  },
  {
   "attachments": {},
   "cell_type": "markdown",
   "metadata": {},
   "source": [
    "## Declare Network"
   ]
  },
  {
   "cell_type": "code",
   "execution_count": null,
   "metadata": {},
   "outputs": [],
   "source": [
    "distance_matrix = [[2366], [2620]]\n",
    "\n",
    "transport_matrix = [\n",
    "    [[Train_H2]],\n",
    "    [[Grid]],\n",
    "]\n",
    "capacity_factor = {\n",
    "    (houston, newyork): {Train_H2: weather_sd[['wind_speed']]},\n",
    "    (sandiego, newyork): {Train_H2: weather_sd[['wind_speed']]},\n",
    "}\n",
    "\n",
    "network = Network(\n",
    "    name='network',\n",
    "    scales=scales,\n",
    "    land_max=(0, 5),\n",
    "    land_max_factor=DataFrame({'a': [5]}),\n",
    "    capacity_factor=capacity_factor,\n",
    "    vopex_factor={(houston, sandiego): {Train_H2: weather_sd[['wind_speed']]}},\n",
    "    sources=[houston, sandiego],\n",
    "    sinks=[newyork],\n",
    "    distance_matrix=distance_matrix,\n",
    "    transport_matrix=transport_matrix,\n",
    ")"
   ]
  },
  {
   "cell_type": "code",
   "execution_count": null,
   "metadata": {},
   "outputs": [],
   "source": [
    "scenario = Scenario(\n",
    "    name='scenario_full', network=network, scales=scales, label='full_case'\n",
    ")"
   ]
  },
  {
   "cell_type": "code",
   "execution_count": null,
   "metadata": {},
   "outputs": [],
   "source": [
    "scenario"
   ]
  },
  {
   "cell_type": "code",
   "execution_count": null,
   "metadata": {},
   "outputs": [],
   "source": [
    "for i in houston.resources:\n",
    "    print(i.ctype)"
   ]
  },
  {
   "cell_type": "code",
   "execution_count": null,
   "metadata": {},
   "outputs": [],
   "source": [
    "houston.resources_produce"
   ]
  },
  {
   "cell_type": "code",
   "execution_count": null,
   "metadata": {},
   "outputs": [],
   "source": []
  },
  {
   "cell_type": "code",
   "execution_count": null,
   "metadata": {},
   "outputs": [],
   "source": [
    "ResourceType.all()"
   ]
  },
  {
   "cell_type": "code",
   "execution_count": null,
   "metadata": {},
   "outputs": [],
   "source": [
    "ResourceType.resource_level()"
   ]
  },
  {
   "cell_type": "code",
   "execution_count": null,
   "metadata": {},
   "outputs": [],
   "source": [
    "ResourceType.location_level()"
   ]
  },
  {
   "cell_type": "code",
   "execution_count": null,
   "metadata": {},
   "outputs": [],
   "source": [
    "ResourceType.transport_level()"
   ]
  },
  {
   "cell_type": "code",
   "execution_count": null,
   "metadata": {},
   "outputs": [],
   "source": [
    "ProcessType.all()"
   ]
  },
  {
   "cell_type": "code",
   "execution_count": null,
   "metadata": {},
   "outputs": [],
   "source": [
    "ProcessType.process_level()"
   ]
  },
  {
   "cell_type": "code",
   "execution_count": null,
   "metadata": {},
   "outputs": [],
   "source": [
    "ProcessType.location_level()"
   ]
  },
  {
   "cell_type": "code",
   "execution_count": null,
   "metadata": {},
   "outputs": [],
   "source": [
    "LocationType.location_level()"
   ]
  },
  {
   "cell_type": "code",
   "execution_count": null,
   "metadata": {},
   "outputs": [],
   "source": [
    "Power.transport"
   ]
  },
  {
   "cell_type": "code",
   "execution_count": null,
   "metadata": {},
   "outputs": [],
   "source": [
    "Solar.availability"
   ]
  },
  {
   "cell_type": "code",
   "execution_count": null,
   "metadata": {},
   "outputs": [],
   "source": [
    "Power.demand"
   ]
  },
  {
   "cell_type": "code",
   "execution_count": null,
   "metadata": {},
   "outputs": [],
   "source": [
    "[((houston, sandiego), CO2), ((houston, sandiego), H2), ((houston, newyork), CO2)]"
   ]
  },
  {
   "cell_type": "code",
   "execution_count": null,
   "metadata": {},
   "outputs": [],
   "source": [
    "comp_loc_dict = scenario.resources_locations_discharge"
   ]
  },
  {
   "cell_type": "code",
   "execution_count": null,
   "metadata": {},
   "outputs": [],
   "source": [
    "scenario.locations_land"
   ]
  },
  {
   "cell_type": "code",
   "execution_count": null,
   "metadata": {},
   "outputs": [],
   "source": [
    "scenario.locations_locations_land"
   ]
  },
  {
   "cell_type": "code",
   "execution_count": null,
   "metadata": {},
   "outputs": [],
   "source": [
    "comp_loc_ordered_set = [(i, j) for i in comp_loc_dict for j in comp_loc_dict[i]]"
   ]
  },
  {
   "cell_type": "code",
   "execution_count": null,
   "metadata": {},
   "outputs": [],
   "source": [
    "scenario.resources_locations_store"
   ]
  },
  {
   "cell_type": "code",
   "execution_count": null,
   "metadata": {},
   "outputs": [],
   "source": [
    "comp_loc_ordered_set"
   ]
  },
  {
   "cell_type": "code",
   "execution_count": null,
   "metadata": {},
   "outputs": [],
   "source": [
    "comp_loc_ordered_set"
   ]
  },
  {
   "cell_type": "code",
   "execution_count": null,
   "metadata": {},
   "outputs": [],
   "source": [
    "scenario.resources_locations_discharge"
   ]
  },
  {
   "cell_type": "code",
   "execution_count": null,
   "metadata": {},
   "outputs": [],
   "source": [
    "scenario.resources_discharge"
   ]
  },
  {
   "cell_type": "code",
   "execution_count": null,
   "metadata": {},
   "outputs": [],
   "source": [
    "scenario.processes_locations_expenditure"
   ]
  },
  {
   "cell_type": "code",
   "execution_count": null,
   "metadata": {},
   "outputs": [],
   "source": [
    "resources_consume_locations = {\n",
    "    resource: set() for resource in scenario.resources_consume\n",
    "}\n",
    "for resource in scenario.resources_consume:\n",
    "    for location in scenario.locations:\n",
    "        if hasattr(location, 'resources_consume'):\n",
    "            if resource in location.resources_consume:\n",
    "                resources_consume_locations[resource].add(location)"
   ]
  },
  {
   "cell_type": "code",
   "execution_count": null,
   "metadata": {},
   "outputs": [],
   "source": [
    "resources_consume_locations = {\n",
    "    resource: {\n",
    "        location\n",
    "        for location in scenario.locations\n",
    "        if hasattr(location, 'resources_consume')\n",
    "        and resource in location.resources_consume\n",
    "    }\n",
    "    for resource in scenario.resources_consume\n",
    "}"
   ]
  },
  {
   "cell_type": "code",
   "execution_count": null,
   "metadata": {},
   "outputs": [],
   "source": [
    "scenario.resources_consume"
   ]
  },
  {
   "cell_type": "code",
   "execution_count": null,
   "metadata": {},
   "outputs": [],
   "source": [
    "resources_consume_locations = {\n",
    "    resource: {\n",
    "        location\n",
    "        for location in self.locations\n",
    "        if hasattr(location, 'resources_consume')\n",
    "        and resource in location.resources_consume\n",
    "    }\n",
    "    for resource in self.resources_consume\n",
    "}"
   ]
  },
  {
   "cell_type": "code",
   "execution_count": null,
   "metadata": {},
   "outputs": [],
   "source": [
    "resources_consume_locations"
   ]
  },
  {
   "cell_type": "code",
   "execution_count": null,
   "metadata": {},
   "outputs": [],
   "source": [
    "resources_demand_locations = {\n",
    "    resource: {\n",
    "        location\n",
    "        for location in scenario.locations\n",
    "        if hasattr(location, 'resources_demand')\n",
    "        and resource in location.resources_demand\n",
    "    }\n",
    "    for resource in scenario.resources_demand\n",
    "}"
   ]
  },
  {
   "cell_type": "code",
   "execution_count": null,
   "metadata": {},
   "outputs": [],
   "source": [
    "scenario.resource_classifications()"
   ]
  },
  {
   "cell_type": "code",
   "execution_count": null,
   "metadata": {},
   "outputs": [],
   "source": [
    "{\n",
    "    component: {\n",
    "        location\n",
    "        for location in getattr(self, 'locations')\n",
    "        if hasattr(location, f'{component_set}_{parameter.lower()}')\n",
    "        and resource in getattr(location, f'{component_set}_{parameter.lower()}')\n",
    "    }\n",
    "    for resource in getattr(self, f'{component_set}_{parameter.lower()}')\n",
    "}"
   ]
  },
  {
   "cell_type": "code",
   "execution_count": null,
   "metadata": {},
   "outputs": [],
   "source": [
    "scenario.process_classifications()"
   ]
  },
  {
   "cell_type": "code",
   "execution_count": null,
   "metadata": {},
   "outputs": [],
   "source": [
    "[\n",
    "    ((houston.name, sandiego.name), CO2.name),\n",
    "    ((houston.name, sandiego.name), H2.name),\n",
    "    ((houston.name, newyork.name), CO2.name),\n",
    "]"
   ]
  },
  {
   "cell_type": "code",
   "execution_count": null,
   "metadata": {},
   "outputs": [],
   "source": [
    "help(ResourceParamType)"
   ]
  },
  {
   "cell_type": "code",
   "execution_count": null,
   "metadata": {},
   "outputs": [],
   "source": []
  },
  {
   "cell_type": "code",
   "execution_count": null,
   "metadata": {},
   "outputs": [],
   "source": [
    "from pyomo.environ import *\n",
    "\n",
    "# from energiapy.utils.scale_utils import scale_pyomo_set"
   ]
  },
  {
   "cell_type": "code",
   "execution_count": null,
   "metadata": {},
   "outputs": [],
   "source": [
    "scales1 = TemporalScale(discretization_list=[1, 4], design_scale=0, scheduling_scale=1)"
   ]
  },
  {
   "cell_type": "code",
   "execution_count": null,
   "metadata": {},
   "outputs": [],
   "source": [
    "type(scales1)"
   ]
  },
  {
   "cell_type": "code",
   "execution_count": null,
   "metadata": {},
   "outputs": [],
   "source": [
    "scales2 = TemporalScale(\n",
    "    discretization_list=[2, 2, 2], design_scale=0, scheduling_scale=2\n",
    ")"
   ]
  },
  {
   "cell_type": "code",
   "execution_count": null,
   "metadata": {},
   "outputs": [],
   "source": [
    "scales1.index_list"
   ]
  },
  {
   "cell_type": "code",
   "execution_count": null,
   "metadata": {},
   "outputs": [],
   "source": [
    "scales2.index_list"
   ]
  },
  {
   "cell_type": "code",
   "execution_count": null,
   "metadata": {},
   "outputs": [],
   "source": [
    "m = ConcreteModel()\n",
    "m.scales = Set(scales1.list, initialize=scales1.scale)\n",
    "m.scales_scheduling = scale_pyomo_set(instance=m, scale_level=scales1.scheduling_scale)\n",
    "m.scales_design = scale_pyomo_set(instance=m, scale_level=scales1.design_scale)"
   ]
  },
  {
   "cell_type": "code",
   "execution_count": null,
   "metadata": {},
   "outputs": [],
   "source": [
    "scales.scheduling_scale"
   ]
  },
  {
   "cell_type": "code",
   "execution_count": null,
   "metadata": {},
   "outputs": [],
   "source": [
    "# m.a = Set(initialize = [(i, j) for i in resources_consume_locations for j in resources_consume_locations[i]])\n",
    "# m.b = Set(initialize = [(i.name, j.name) for i in scenario.resources_locations_consume for j in scenario.resources_locations_consume[i]])\n",
    "# m.c = Set(initialize = [((houston.name, sandiego.name), CO2.name), ((houston.name, sandiego.name), H2.name), ((houston.name, newyork.name), CO2.name)])\n",
    "# m.A = Var(m.a, m.scales_scheduling, within = NonNegativeReals)\n",
    "# m.B = Var(m.b, m.scales_design, within = NonNegativeReals)\n",
    "# m.C = Var(m.c, m.scales_scheduling, within = NonNegativeReals)"
   ]
  },
  {
   "cell_type": "code",
   "execution_count": null,
   "metadata": {},
   "outputs": [],
   "source": [
    "from pyomo.environ import *\n",
    "\n",
    "m = ConcreteModel()"
   ]
  },
  {
   "cell_type": "code",
   "execution_count": null,
   "metadata": {},
   "outputs": [],
   "source": [
    "m.d = Set(\n",
    "    initialize=[\n",
    "        (Train_H2.name, (houston.name, sandiego.name)),\n",
    "        (Grid.name, (houston.name, sandiego.name)),\n",
    "        (Grid.name, (houston.name, newyork.name)),\n",
    "    ]\n",
    ")\n",
    "m.D = Var(m.d, m.scales_design, within=NonNegativeReals)"
   ]
  },
  {
   "cell_type": "code",
   "execution_count": null,
   "metadata": {},
   "outputs": [],
   "source": [
    "m.f = Set(initialize=[Train_H2.name, Grid.name])\n",
    "m.F = Var(m.f, m.scales_design, within=NonNegativeReals)"
   ]
  },
  {
   "cell_type": "code",
   "execution_count": null,
   "metadata": {},
   "outputs": [],
   "source": [
    "m.g = Set(\n",
    "    initialize=[\n",
    "        (CO2.name, (houston.name, sandiego.name)),\n",
    "        (Power.name, (houston.name, sandiego.name)),\n",
    "        (H2.name, (houston.name, newyork.name)),\n",
    "    ]\n",
    ")"
   ]
  },
  {
   "cell_type": "code",
   "execution_count": null,
   "metadata": {},
   "outputs": [],
   "source": [
    "m.G = Var(m.g, m.scales_scheduling, within=NonNegativeReals)"
   ]
  },
  {
   "cell_type": "code",
   "execution_count": null,
   "metadata": {},
   "outputs": [],
   "source": [
    "m.G.pprint()"
   ]
  },
  {
   "cell_type": "code",
   "execution_count": null,
   "metadata": {},
   "outputs": [],
   "source": [
    "m = ConcreteModel()"
   ]
  },
  {
   "cell_type": "code",
   "execution_count": null,
   "metadata": {},
   "outputs": [],
   "source": [
    "import gurobipy\n",
    "\n",
    "m = gurobipy.read('example.lp')"
   ]
  },
  {
   "cell_type": "code",
   "execution_count": null,
   "metadata": {},
   "outputs": [],
   "source": [
    "import pandas"
   ]
  },
  {
   "cell_type": "code",
   "execution_count": null,
   "metadata": {},
   "outputs": [],
   "source": [
    "a = DataFrame(data={'a': [1, 2, 3]})"
   ]
  },
  {
   "cell_type": "code",
   "execution_count": null,
   "metadata": {},
   "outputs": [],
   "source": [
    "b = "
   ]
  },
  {
   "cell_type": "code",
   "execution_count": null,
   "metadata": {},
   "outputs": [],
   "source": []
  },
  {
   "cell_type": "code",
   "execution_count": null,
   "metadata": {},
   "outputs": [],
   "source": [
    "class LPFileCreator:\n",
    "    def __init__(self, objective, constraints, bounds, file_name=\"problem.lp\"):\n",
    "        self.objective = objective\n",
    "        self.constraints = constraints\n",
    "        self.bounds = bounds\n",
    "        self.file_name = file_name\n",
    "\n",
    "    def create_lp_file(self):\n",
    "        content = self._generate_lp_content()\n",
    "        with open(self.file_name, \"w\") as file:\n",
    "            file.write(content)\n",
    "\n",
    "    def _generate_lp_content(self):\n",
    "        lp_content = []\n",
    "\n",
    "        # Add Objective Function\n",
    "        lp_content.append(\"\\\\* Problem Statement *\\\\\")\n",
    "        lp_content.append(\"\\nMaximize\")\n",
    "        lp_content.append(f\" obj: {self.objective}\\n\")\n",
    "\n",
    "        # Add Constraints\n",
    "        lp_content.append(\"Subject To\")\n",
    "        for i, constraint in enumerate(self.constraints, start=1):\n",
    "            lp_content.append(f\" c{i}: {constraint}\")\n",
    "        lp_content.append(\"\")\n",
    "\n",
    "        # Add Bounds\n",
    "        lp_content.append(\"Bounds\")\n",
    "        for bound in self.bounds:\n",
    "            lp_content.append(f\" {bound}\")\n",
    "        lp_content.append(\"\")\n",
    "\n",
    "        # Add End\n",
    "        lp_content.append(\"End\")\n",
    "\n",
    "        return \"\\n\".join(lp_content)"
   ]
  },
  {
   "cell_type": "code",
   "execution_count": null,
   "metadata": {},
   "outputs": [],
   "source": [
    "a = [7, 2, 3].sort()"
   ]
  },
  {
   "cell_type": "code",
   "execution_count": null,
   "metadata": {},
   "outputs": [],
   "source": [
    "a"
   ]
  },
  {
   "cell_type": "code",
   "execution_count": null,
   "metadata": {},
   "outputs": [],
   "source": [
    "sorted(a)"
   ]
  },
  {
   "cell_type": "code",
   "execution_count": null,
   "metadata": {},
   "outputs": [],
   "source": [
    "houston.resources_consume"
   ]
  },
  {
   "cell_type": "code",
   "execution_count": null,
   "metadata": {},
   "outputs": [],
   "source": [
    "[f'cons_{i.name}_' for i in houston.resources_consume]"
   ]
  },
  {
   "cell_type": "code",
   "execution_count": null,
   "metadata": {},
   "outputs": [],
   "source": []
  },
  {
   "cell_type": "code",
   "execution_count": null,
   "metadata": {},
   "outputs": [],
   "source": [
    "def tuples_to_strings(tuple_list):\n",
    "    return ['_'.join(map(str, t)) for t in tuple_list]"
   ]
  },
  {
   "cell_type": "code",
   "execution_count": null,
   "metadata": {},
   "outputs": [],
   "source": [
    "scales = TemporalScale([1, 4], design_scale=0, scheduling_scale=1)"
   ]
  },
  {
   "cell_type": "code",
   "execution_count": null,
   "metadata": {},
   "outputs": [],
   "source": [
    "var = ['cons']  # , 'sell']"
   ]
  },
  {
   "cell_type": "code",
   "execution_count": null,
   "metadata": {},
   "outputs": [],
   "source": [
    "res_list = ['res1', 'res2', 'res3']"
   ]
  },
  {
   "cell_type": "code",
   "execution_count": null,
   "metadata": {},
   "outputs": [],
   "source": [
    "time_index = tuples_to_strings(scales.index_list[1])"
   ]
  },
  {
   "cell_type": "code",
   "execution_count": null,
   "metadata": {},
   "outputs": [],
   "source": [
    "value = {'res1': 5, 'res2': 7, 'res3': 8}"
   ]
  },
  {
   "cell_type": "code",
   "execution_count": null,
   "metadata": {},
   "outputs": [],
   "source": [
    "cons = list()"
   ]
  },
  {
   "cell_type": "code",
   "execution_count": null,
   "metadata": {},
   "outputs": [],
   "source": [
    "for i, j, k in product(var, res_list, time_index):\n",
    "    cons.append(f'{i}_{j}_{k} <= {value[j]}')"
   ]
  },
  {
   "cell_type": "code",
   "execution_count": null,
   "metadata": {},
   "outputs": [],
   "source": [
    "ooo = {'res1': 7, 'res2': 5, 'res3': 9}"
   ]
  },
  {
   "cell_type": "code",
   "execution_count": null,
   "metadata": {},
   "outputs": [],
   "source": [
    "k = [f'{ooo[i]} {i}' for i in res_list]"
   ]
  },
  {
   "cell_type": "code",
   "execution_count": null,
   "metadata": {},
   "outputs": [],
   "source": [
    "obj = ' + '.join(k)\n",
    "obj"
   ]
  },
  {
   "cell_type": "code",
   "execution_count": null,
   "metadata": {},
   "outputs": [],
   "source": [
    "for i,j,k in product(var, res_list, time_index):\n"
   ]
  },
  {
   "cell_type": "code",
   "execution_count": null,
   "metadata": {},
   "outputs": [],
   "source": [
    "bou = [f'0 <= {i}' for i in var]"
   ]
  },
  {
   "cell_type": "code",
   "execution_count": null,
   "metadata": {},
   "outputs": [],
   "source": [
    "# Define the problem components\n",
    "objective = \"x + 2 y\"\n",
    "constraints = [\"x + y >= 1\", \"x <= 2\", \"y <= 2\"]\n",
    "bounds = [\"0 <= x\", \"0 <= y\"]\n",
    "\n",
    "# Create the LP file\n",
    "# creator = LPFileCreator(objective, constraints, bounds, file_name=\"example.lp\")\n",
    "\n",
    "creator = LPFileCreator(obj, cons, bou, file_name=\"example.lp\")\n",
    "creator.create_lp_file()\n",
    "print(\"LP file 'example.lp' created successfully.\")"
   ]
  },
  {
   "cell_type": "code",
   "execution_count": null,
   "metadata": {},
   "outputs": [],
   "source": [
    "import gurobipy as gb\n",
    "\n",
    "a = gb.read('example.lp')"
   ]
  },
  {
   "cell_type": "code",
   "execution_count": null,
   "metadata": {},
   "outputs": [],
   "source": []
  },
  {
   "cell_type": "code",
   "execution_count": null,
   "metadata": {},
   "outputs": [],
   "source": [
    "a.optimize()"
   ]
  },
  {
   "cell_type": "code",
   "execution_count": null,
   "metadata": {},
   "outputs": [],
   "source": [
    "Maximize\n",
    "  x + y + z\n",
    "Subject To\n",
    "  c0: x + y = 1\n",
    "  c1: x + 5 y + 2 z <= 10\n",
    "  qc0: x + y + [ x ^ 2 - 2 x * y + 3 y ^ 2 ] <= 5\n",
    "Bounds\n",
    "  0 <= x <= 5\n",
    "  z >= 2\n",
    "Generals\n",
    "  x y z\n",
    "End\n"
   ]
  },
  {
   "cell_type": "code",
   "execution_count": null,
   "metadata": {},
   "outputs": [],
   "source": [
    "H2O.purchase_cost"
   ]
  },
  {
   "cell_type": "code",
   "execution_count": null,
   "metadata": {},
   "outputs": [],
   "source": [
    "H2O.cons_max"
   ]
  },
  {
   "cell_type": "code",
   "execution_count": null,
   "metadata": {},
   "outputs": [],
   "source": [
    "m.optimize()"
   ]
  },
  {
   "cell_type": "code",
   "execution_count": null,
   "metadata": {},
   "outputs": [],
   "source": [
    "m.getVars()"
   ]
  },
  {
   "cell_type": "code",
   "execution_count": null,
   "metadata": {},
   "outputs": [],
   "source": [
    "plot_scenario.capacity_factor(\n",
    "    scenario=scenario, location=houston, process=PV, fig_size=(9, 5), color='orange'\n",
    ")"
   ]
  },
  {
   "attachments": {},
   "cell_type": "markdown",
   "metadata": {},
   "source": [
    "![cap fac pv](plots / cf_ho.png)"
   ]
  },
  {
   "cell_type": "code",
   "execution_count": null,
   "metadata": {},
   "outputs": [],
   "source": [
    "plot_scenario.capacity_factor(\n",
    "    scenario=scenario, location=sandiego, process=WF, fig_size=(9, 5), color='blue'\n",
    ")"
   ]
  },
  {
   "attachments": {},
   "cell_type": "markdown",
   "metadata": {},
   "source": [
    "![cap fac wf](plots / wf_sd.png)"
   ]
  },
  {
   "cell_type": "code",
   "execution_count": null,
   "metadata": {},
   "outputs": [],
   "source": [
    "plot_scenario.demand_factor(\n",
    "    scenario=scenario, location=newyork, resource=Power, fig_size=(9, 5), color='red'\n",
    ")"
   ]
  },
  {
   "attachments": {},
   "cell_type": "markdown",
   "metadata": {},
   "source": [
    "![df ny](plots / df_ny.png)"
   ]
  },
  {
   "attachments": {},
   "cell_type": "markdown",
   "metadata": {},
   "source": [
    "## Optimize for minimum cost"
   ]
  },
  {
   "cell_type": "code",
   "execution_count": null,
   "metadata": {},
   "outputs": [],
   "source": [
    "milp_cost = formulate(\n",
    "    scenario=scenario,\n",
    "    constraints={\n",
    "        Constraints.COST,\n",
    "        Constraints.INVENTORY,\n",
    "        Constraints.PRODUCTION,\n",
    "        Constraints.RESOURCE_BALANCE,\n",
    "        Constraints.TRANSPORT,\n",
    "        Constraints.MODE,\n",
    "        Constraints.NETWORK,\n",
    "    },\n",
    "    objective=Objective.COST,\n",
    ")"
   ]
  },
  {
   "attachments": {},
   "cell_type": "markdown",
   "metadata": {},
   "source": [
    "**Ensure no discharge of power in Houston and San Diego**\n",
    "\n",
    "While the demand for power is zero in these locations, Power is still a dischargeable resource. Hence, the discharge bounds need to be set to zero.\n",
    "If not set to zero, the system chooses to dispense power instead of establishing storage networks."
   ]
  },
  {
   "cell_type": "code",
   "execution_count": null,
   "metadata": {},
   "outputs": [],
   "source": [
    "milp_cost.constraint_specific_location_discharge_ho = (\n",
    "    constraint_specific_location_discharge(\n",
    "        instance=milp_cost, network_scale_level=0, bounds={Power: 0}, location=houston\n",
    "    )\n",
    ")\n",
    "milp_cost.constraint_specific_location_discharge_sd = (\n",
    "    constraint_specific_location_discharge(\n",
    "        instance=milp_cost, network_scale_level=0, bounds={Power: 0}, location=sandiego\n",
    "    )\n",
    ")"
   ]
  },
  {
   "cell_type": "code",
   "execution_count": null,
   "metadata": {},
   "outputs": [],
   "source": [
    "results_cost = solve(\n",
    "    scenario=scenario,\n",
    "    instance=milp_cost,\n",
    "    solver='gurobi',\n",
    "    name=\"results_cost\",\n",
    "    print_solversteps=True,\n",
    ")"
   ]
  },
  {
   "attachments": {},
   "cell_type": "markdown",
   "metadata": {},
   "source": [
    "**Schedule for transport of hydrogen**"
   ]
  },
  {
   "cell_type": "code",
   "execution_count": null,
   "metadata": {},
   "outputs": [],
   "source": [
    "plot_results.transport(\n",
    "    results=results_cost, source='SD', sink='NY', resource='H2', transport='Train_H2'\n",
    ")"
   ]
  },
  {
   "attachments": {},
   "cell_type": "markdown",
   "metadata": {},
   "source": [
    "![sch t sdny](plots / sch_sdny.png)"
   ]
  },
  {
   "cell_type": "code",
   "execution_count": null,
   "metadata": {},
   "outputs": [],
   "source": [
    "plot_results.transport(\n",
    "    results=results_cost, source='HO', sink='NY', resource='H2', transport='Train_H2'\n",
    ")"
   ]
  },
  {
   "attachments": {},
   "cell_type": "markdown",
   "metadata": {},
   "source": [
    "![sch hony](plots / sch_hony.png)"
   ]
  },
  {
   "attachments": {},
   "cell_type": "markdown",
   "metadata": {},
   "source": [
    "**Cost contribution by technology**"
   ]
  },
  {
   "cell_type": "code",
   "execution_count": null,
   "metadata": {},
   "outputs": [],
   "source": [
    "plot_results.cost(\n",
    "    results=results_cost,\n",
    "    x=CostX.PROCESS_WISE,\n",
    "    y=CostY.CAPEX,\n",
    "    location='HO',\n",
    "    fig_size=(8, 6),\n",
    ")\n",
    "plot_results.cost(\n",
    "    results=results_cost,\n",
    "    x=CostX.PROCESS_WISE,\n",
    "    y=CostY.VOPEX,\n",
    "    location='HO',\n",
    "    fig_size=(8, 6),\n",
    ")\n",
    "plot_results.cost(\n",
    "    results=results_cost,\n",
    "    x=CostX.PROCESS_WISE,\n",
    "    y=CostY.FOPEX,\n",
    "    location='HO',\n",
    "    fig_size=(8, 6),\n",
    ")\n",
    "plot_results.cost(\n",
    "    results=results_cost,\n",
    "    x=CostX.PROCESS_WISE,\n",
    "    y=CostY.TOTAL,\n",
    "    location='HO',\n",
    "    fig_size=(8, 6),\n",
    ")"
   ]
  },
  {
   "attachments": {},
   "cell_type": "markdown",
   "metadata": {},
   "source": [
    "![total cost ho](plots / total_ho.png)"
   ]
  },
  {
   "attachments": {},
   "cell_type": "markdown",
   "metadata": {},
   "source": [
    "**Location-wise cost contribution by technology**"
   ]
  },
  {
   "cell_type": "code",
   "execution_count": null,
   "metadata": {},
   "outputs": [],
   "source": [
    "plot_results.cost(\n",
    "    results=results_cost, x=CostX.LOCATION_WISE, y=CostY.CAPEX, fig_size=(8, 6)\n",
    ")\n",
    "plot_results.cost(\n",
    "    results=results_cost, x=CostX.LOCATION_WISE, y=CostY.VOPEX, fig_size=(8, 6)\n",
    ")\n",
    "plot_results.cost(\n",
    "    results=results_cost, x=CostX.LOCATION_WISE, y=CostY.FOPEX, fig_size=(8, 6)\n",
    ")\n",
    "plot_results.cost(\n",
    "    results=results_cost, x=CostX.LOCATION_WISE, y=CostY.TOTAL, fig_size=(8, 6)\n",
    ")"
   ]
  },
  {
   "attachments": {},
   "cell_type": "markdown",
   "metadata": {},
   "source": [
    "![total lw](plots / total_lw.png)"
   ]
  },
  {
   "attachments": {},
   "cell_type": "markdown",
   "metadata": {},
   "source": [
    "**Inventory and production schedules**"
   ]
  },
  {
   "cell_type": "code",
   "execution_count": null,
   "metadata": {},
   "outputs": [],
   "source": [
    "plot_results.schedule(\n",
    "    results=results_cost,\n",
    "    y_axis='Inv',\n",
    "    component='LiI_Power_stored',\n",
    "    location='SD',\n",
    "    fig_size=(9, 5),\n",
    "    color='steelblue',\n",
    ")"
   ]
  },
  {
   "attachments": {},
   "cell_type": "markdown",
   "metadata": {},
   "source": [
    "![inv lii](plots / lii_inv.png)"
   ]
  },
  {
   "cell_type": "code",
   "execution_count": null,
   "metadata": {},
   "outputs": [],
   "source": [
    "plot_results.schedule(\n",
    "    results=results_cost,\n",
    "    y_axis='P',\n",
    "    component='PV',\n",
    "    location='SD',\n",
    "    fig_size=(9, 5),\n",
    "    color='steelblue',\n",
    ")"
   ]
  },
  {
   "attachments": {},
   "cell_type": "markdown",
   "metadata": {},
   "source": [
    "![pv p](plots / pv_p.png)"
   ]
  },
  {
   "attachments": {},
   "cell_type": "markdown",
   "metadata": {},
   "source": [
    "## Optimize to maximize resource discharge "
   ]
  },
  {
   "cell_type": "code",
   "execution_count": null,
   "metadata": {},
   "outputs": [],
   "source": [
    "milp_demand = formulate(\n",
    "    scenario=scenario,\n",
    "    constraints={\n",
    "        Constraints.COST,\n",
    "        Constraints.INVENTORY,\n",
    "        Constraints.PRODUCTION,\n",
    "        Constraints.RESOURCE_BALANCE,\n",
    "        Constraints.TRANSPORT,\n",
    "        Constraints.MODE,\n",
    "        Constraints.NETWORK,\n",
    "    },\n",
    "    objective=Objective.MAX_DISCHARGE,\n",
    "    objective_resource=Power,\n",
    ")"
   ]
  },
  {
   "cell_type": "code",
   "execution_count": null,
   "metadata": {},
   "outputs": [],
   "source": [
    "milp_demand.constraint_specific_location_discharge_ho = (\n",
    "    constraint_specific_location_discharge(\n",
    "        instance=milp_demand, network_scale_level=0, bounds={Power: 0}, location=houston\n",
    "    )\n",
    ")\n",
    "milp_demand.constraint_specific_location_discharge_sd = (\n",
    "    constraint_specific_location_discharge(\n",
    "        instance=milp_demand,\n",
    "        network_scale_level=0,\n",
    "        bounds={Power: 0},\n",
    "        location=sandiego,\n",
    "    )\n",
    ")"
   ]
  },
  {
   "cell_type": "code",
   "execution_count": null,
   "metadata": {},
   "outputs": [],
   "source": [
    "results_demand = solve(\n",
    "    scenario=scenario,\n",
    "    instance=milp_demand,\n",
    "    solver='gurobi',\n",
    "    name=\"results_demand\",\n",
    "    print_solversteps=True,\n",
    ")"
   ]
  },
  {
   "attachments": {},
   "cell_type": "markdown",
   "metadata": {},
   "source": [
    "**Schedule for transport of hydrogen**"
   ]
  },
  {
   "cell_type": "code",
   "execution_count": null,
   "metadata": {},
   "outputs": [],
   "source": [
    "plot_results.transport(\n",
    "    results=results_demand, source='SD', sink='NY', resource='H2', transport='Train_H2'\n",
    ")"
   ]
  },
  {
   "attachments": {},
   "cell_type": "markdown",
   "metadata": {},
   "source": [
    "![sch t sdny2](plots / sch_sdny2.png)"
   ]
  },
  {
   "cell_type": "code",
   "execution_count": null,
   "metadata": {},
   "outputs": [],
   "source": [
    "plot_results.transport(\n",
    "    results=results_demand, source='HO', sink='NY', resource='H2', transport='Train_H2'\n",
    ")"
   ]
  },
  {
   "attachments": {},
   "cell_type": "markdown",
   "metadata": {},
   "source": [
    "![sch t hony](plots / sch_hony2.png)"
   ]
  }
 ],
 "metadata": {
  "kernelspec": {
   "display_name": ".venv",
   "language": "python",
   "name": "python3"
  },
  "language_info": {
   "codemirror_mode": {
    "name": "ipython",
    "version": 3
   },
   "file_extension": ".py",
   "mimetype": "text/x-python",
   "name": "python",
   "nbconvert_exporter": "python",
   "pygments_lexer": "ipython3",
   "version": "3.10.11"
  },
  "orig_nbformat": 4
 },
 "nbformat": 4,
 "nbformat_minor": 2
}
