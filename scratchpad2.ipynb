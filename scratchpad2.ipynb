{
 "cells": [
  {
   "cell_type": "code",
   "execution_count": 1,
   "metadata": {},
   "outputs": [],
   "source": [
    "# def load_data(loc:str, index:list):\n",
    "#     df = pandas.read_csv(f'data/{loc}_solar19.csv')\n",
    "#     df['idx'] = index\n",
    "#     df = df.set_index('idx')\n",
    "#     return df\n",
    "# idx = [(i,j,k) for i,j,k in product(range(1), range(365), range(24))]\n",
    "# weather_ny = load_data('ny', idx)[['DNI', 'Wind Speed']]\n",
    "# weather_ny = weather_ny.rename(columns= {'DNI': 'dni', 'Wind Speed': 'wind_speed'})\n",
    "# weather_sd = load_data('sd', idx)[['dni', 'wind_speed']]\n",
    "# weather_ho = load_data('ho', idx)[['dni', 'wind_speed']]\"\"\n",
    "# demand_sd = pandas.read_excel('data/HistoricalEMSHourlyLoad-2019.xlsx', index_col= 0)[['SDGE']]\n",
    "# demand_ho = pandas.read_excel('data/Native_Load_2019.xlsx')[['COAST']]\n",
    "# demand_ny = DataFrame(pandas.read_csv('data/NYC_load.csv')['Load']) #from Will and Doga\n",
    "# ng_price = make_henry_price_df(\n",
    "#     file_name='data/Henry_Hub_Natural_Gas_Spot_Price_Daily.csv', year=2020)\n",
    "# ng_price = ng_price.drop(columns= 'scales')\n",
    "# ng_price = remove_outliers(ng_price, sd_cuttoff = 3)\n",
    "# ng_price = pandas.concat([ng_price])"
   ]
  },
  {
   "cell_type": "code",
   "execution_count": 2,
   "metadata": {},
   "outputs": [],
   "source": [
    "import sys\n",
    "\n",
    "sys.path.append('src')"
   ]
  },
  {
   "cell_type": "code",
   "execution_count": 3,
   "metadata": {},
   "outputs": [],
   "source": [
    "from energiapy.blocks.model import Model\n",
    "from energiapy.blocks.taskmaster import TaskMaster\n",
    "from dataclasses import dataclass, field, fields, asdict"
   ]
  },
  {
   "cell_type": "code",
   "execution_count": 4,
   "metadata": {},
   "outputs": [],
   "source": [
    "from pandas import DataFrame\n",
    "from energiapy.components import *\n",
    "from energiapy.model.scenario import Scenario\n",
    "from energiapy.parameters.designators.mode import X\n",
    "from energiapy.parameters.designators.incidental import I"
   ]
  },
  {
   "cell_type": "code",
   "execution_count": 5,
   "metadata": {},
   "outputs": [],
   "source": [
    "from energiapy.components._base._scope import _Scope\n",
    "from energiapy.components._base._defined import _Defined\n",
    "from energiapy.components.temporal.scale import Scale\n",
    "from energiapy.components.spatial.location import Location\n",
    "from energiapy.components.spatial._spatial import _Spatial\n",
    "from energiapy.core._handy._enums import _Dummy\n",
    "from energiapy.indices.disposition import Disposition"
   ]
  },
  {
   "cell_type": "code",
   "execution_count": 6,
   "metadata": {},
   "outputs": [],
   "source": [
    "s = Scenario(default=True)"
   ]
  },
  {
   "cell_type": "code",
   "execution_count": 7,
   "metadata": {},
   "outputs": [],
   "source": [
    "# s.h2 = Horizon({'days': 2, 'hours': 12})\n",
    "s.hor = Horizon(discretizations=[2, 12])\n",
    "s.scales\n",
    "s.net = Network(['madgaon', 'ponje', 'cacoda'])  # , link_all=True)\n",
    "s.nodes\n",
    "s.alink = Linkage(source=s.madgaon, sink=s.ponje, bi=True, distance=50)\n",
    "s.blink = Linkage(source=s.ponje, sink=s.cacoda, bi=False, distance=80)\n",
    "s.clink = Linkage(source=s.cacoda, sink=s.madgaon, bi=True, distance=100)\n",
    "s.dlink = Linkage(source=s.madgaon, sink=s.ponje, bi=False, distance=200)"
   ]
  },
  {
   "cell_type": "code",
   "execution_count": 8,
   "metadata": {},
   "outputs": [],
   "source": [
    "a = DataFrame({'a': list(range(2))})\n",
    "b = DataFrame({'b': list(range(24))})"
   ]
  },
  {
   "cell_type": "code",
   "execution_count": 9,
   "metadata": {},
   "outputs": [
    {
     "name": "stderr",
     "output_type": "stream",
     "text": [
      "c:\\Users\\cacodcar\\energiapy\\src\\energiapy\\components\\_base\\_consistent.py:249: InconsistencyWarning: \n",
      "csh.spend:Inconsistent temporal scale for ponje at t2.\n",
      "Updating to t1\n",
      "Set Scneario.ok_inconsistent=False, to enforce strictly\n",
      "  warn(\n"
     ]
    }
   ],
   "source": [
    "s.csh = Cash(\n",
    "    spend={\n",
    "        s.madgaon: True,\n",
    "        s.ponje: {s.t2: (2, a)},\n",
    "        s.cacoda: a,\n",
    "        s.network: {s.t2: [5, 7]},\n",
    "    },\n",
    "    # label='cash',\n",
    "    basis='USD',\n",
    ")"
   ]
  },
  {
   "cell_type": "code",
   "execution_count": 10,
   "metadata": {},
   "outputs": [
    {
     "data": {
      "text/latex": [
       "$\\displaystyle {spend}_{csh,madgaon,t_{0}} \\geq 0$"
      ],
      "text/plain": [
       "<IPython.core.display.Math object>"
      ]
     },
     "metadata": {},
     "output_type": "display_data"
    },
    {
     "data": {
      "text/latex": [
       "$\\displaystyle {spend}_{csh,madgaon,t_{0}} \\leq M$"
      ],
      "text/plain": [
       "<IPython.core.display.Math object>"
      ]
     },
     "metadata": {},
     "output_type": "display_data"
    },
    {
     "data": {
      "text/latex": [
       "$\\displaystyle {spend}_{csh,ponje,t_{1}} = {θ}_{csh,ponje,t_{1}}$"
      ],
      "text/plain": [
       "<IPython.core.display.Math object>"
      ]
     },
     "metadata": {},
     "output_type": "display_data"
    },
    {
     "data": {
      "text/latex": [
       "$\\displaystyle {spend}_{csh,cacoda,t_{1}} = {DtSt}_{csh,cacoda,t_{1}}$"
      ],
      "text/plain": [
       "<IPython.core.display.Math object>"
      ]
     },
     "metadata": {},
     "output_type": "display_data"
    },
    {
     "data": {
      "text/latex": [
       "$\\displaystyle {spend}_{csh,net,t_{2}} \\geq 5$"
      ],
      "text/plain": [
       "<IPython.core.display.Math object>"
      ]
     },
     "metadata": {},
     "output_type": "display_data"
    },
    {
     "data": {
      "text/latex": [
       "$\\displaystyle {spend}_{csh,net,t_{2}} \\leq 7$"
      ],
      "text/plain": [
       "<IPython.core.display.Math object>"
      ]
     },
     "metadata": {},
     "output_type": "display_data"
    }
   ],
   "source": [
    "s.cash.pprint()"
   ]
  },
  {
   "cell_type": "code",
   "execution_count": 11,
   "metadata": {},
   "outputs": [
    {
     "name": "stderr",
     "output_type": "stream",
     "text": [
      "c:\\Users\\cacodcar\\energiapy\\src\\energiapy\\components\\_base\\_consistent.py:249: InconsistencyWarning: \n",
      "H2.price_sell:Inconsistent temporal scale for ponje at t1.\n",
      "Updating to t2\n",
      "Set Scneario.ok_inconsistent=False, to enforce strictly\n",
      "  warn(\n"
     ]
    }
   ],
   "source": [
    "s.H2 = Resource(\n",
    "    # sell={s.t0: [0, 4], s.t1: [a, 34], s.t2: (a, b)},\n",
    "    price_sell={\n",
    "        s.madgaon: True,\n",
    "        s.ponje: {s.t1: (2, b)},\n",
    "        s.cacoda: 300,\n",
    "    },\n",
    ")"
   ]
  },
  {
   "cell_type": "code",
   "execution_count": 12,
   "metadata": {},
   "outputs": [
    {
     "data": {
      "text/latex": [
       "$\\displaystyle {exp^{sell}}_{csh,H_{2},cacoda,t_{0}} = {sell}_{H_{2},cacoda,t_{0}} \\cdot 300$"
      ],
      "text/plain": [
       "<IPython.core.display.Math object>"
      ]
     },
     "metadata": {},
     "output_type": "display_data"
    },
    {
     "data": {
      "text/latex": [
       "$\\displaystyle {exp^{sell}}_{csh,H_{2},madgaon,t_{0}} = {sell}_{H_{2},madgaon,t_{0}} \\cdot 0$"
      ],
      "text/plain": [
       "<IPython.core.display.Math object>"
      ]
     },
     "metadata": {},
     "output_type": "display_data"
    },
    {
     "data": {
      "text/latex": [
       "$\\displaystyle {exp^{sell}}_{csh,H_{2},madgaon,t_{0}} = {sell}_{H_{2},madgaon,t_{0}} \\cdot M$"
      ],
      "text/plain": [
       "<IPython.core.display.Math object>"
      ]
     },
     "metadata": {},
     "output_type": "display_data"
    },
    {
     "data": {
      "text/latex": [
       "$\\displaystyle {exp^{sell}}_{csh,H_{2},ponje,t_{2}} = {sell}_{H_{2},ponje,t_{2}} \\cdot {θ}_{csh,H_{2},ponje,t_{2}}$"
      ],
      "text/plain": [
       "<IPython.core.display.Math object>"
      ]
     },
     "metadata": {},
     "output_type": "display_data"
    }
   ],
   "source": [
    "s.H2.pprint()"
   ]
  },
  {
   "cell_type": "code",
   "execution_count": 13,
   "metadata": {},
   "outputs": [
    {
     "name": "stderr",
     "output_type": "stream",
     "text": [
      "c:\\Users\\cacodcar\\energiapy\\src\\energiapy\\model\\_ok.py:54: OverWriteWarning: \n",
      "A Power was already defined.\n",
      "Overwriting. Set Scenario.ok_overwrite=False, to enforce strictly\n",
      "This should not cause any modeling issues.\n",
      "Check Scenario defaults if unintended.\n",
      "Only one instance of Horizon, Network, Cash, and Land are allowed\n",
      "  warn(OverWriteWarning(cmp))\n"
     ]
    }
   ],
   "source": [
    "s.Solar = Resource(buy=True, basis='MW', label='Solar Power')\n",
    "\n",
    "\n",
    "s.Wind = Resource(buy=a, basis='MW', label='Wind Power')\n",
    "\n",
    "\n",
    "s.Power = Resource(basis='MW', label='Power generated')\n",
    "\n",
    "\n",
    "s.Uranium = Resource(\n",
    "    buy=DataFrame({'a': [i for i in range(24)]}),\n",
    "    price_buy=42.70 / (250 / 2),\n",
    "    basis='kg',\n",
    "    label='Uranium',\n",
    ")\n",
    "\n",
    "\n",
    "# s.H2_L = Resource(sell=(0, 23), basis='tons', label='Hydrogen')\n",
    "\n",
    "\n",
    "# s.CO2_AQoff = Resource(basis='tons', label='Carbon dioxide - sequestered')\n",
    "\n",
    "\n",
    "s.H2O = Resource(buy=(20, 50), price_buy=b, basis='tons', label='Water')\n",
    "\n",
    "\n",
    "s.CH4 = Resource(buy=[20, 40], price_buy=20, basis='tons', label='Natural gas')\n",
    "\n",
    "\n",
    "s.CO2 = Resource(basis='tons', label='Carbon dioxide', block='Resource')\n",
    "\n",
    "\n",
    "s.CO2_Vent = Resource(\n",
    "    basis='tons',\n",
    "    label='Carbon dioxide - Vented',\n",
    "    price_sell=(2, 20),\n",
    "    emission_sell={s.gwp: b},\n",
    ")\n",
    "\n",
    "\n",
    "s.O2 = Resource(sell=[20, True], basis='tons', label='Oxygen')\n",
    "\n",
    "\n",
    "s.CO2_DAC = Resource(basis='tons', label='Carbon dioxide - captured')\n",
    "s.Power = Resource(buy=[0, a], basis='MW', label='Power generated')"
   ]
  },
  {
   "cell_type": "code",
   "execution_count": 14,
   "metadata": {},
   "outputs": [
    {
     "data": {
      "text/latex": [
       "$\\displaystyle {spend}_{csh,madgaon,t_{0}} \\geq 0$"
      ],
      "text/plain": [
       "<IPython.core.display.Math object>"
      ]
     },
     "metadata": {},
     "output_type": "display_data"
    },
    {
     "data": {
      "text/latex": [
       "$\\displaystyle {spend}_{csh,madgaon,t_{0}} \\leq M$"
      ],
      "text/plain": [
       "<IPython.core.display.Math object>"
      ]
     },
     "metadata": {},
     "output_type": "display_data"
    },
    {
     "data": {
      "text/latex": [
       "$\\displaystyle {spend}_{csh,ponje,t_{1}} = {θ}_{csh,ponje,t_{1}}$"
      ],
      "text/plain": [
       "<IPython.core.display.Math object>"
      ]
     },
     "metadata": {},
     "output_type": "display_data"
    },
    {
     "data": {
      "text/latex": [
       "$\\displaystyle {spend}_{csh,cacoda,t_{1}} = {DtSt}_{csh,cacoda,t_{1}}$"
      ],
      "text/plain": [
       "<IPython.core.display.Math object>"
      ]
     },
     "metadata": {},
     "output_type": "display_data"
    },
    {
     "data": {
      "text/latex": [
       "$\\displaystyle {spend}_{csh,net,t_{2}} \\geq 5$"
      ],
      "text/plain": [
       "<IPython.core.display.Math object>"
      ]
     },
     "metadata": {},
     "output_type": "display_data"
    },
    {
     "data": {
      "text/latex": [
       "$\\displaystyle {spend}_{csh,net,t_{2}} \\leq 7$"
      ],
      "text/plain": [
       "<IPython.core.display.Math object>"
      ]
     },
     "metadata": {},
     "output_type": "display_data"
    },
    {
     "data": {
      "text/latex": [
       "$\\displaystyle {exp^{sell}}_{csh,H_{2},cacoda,t_{0}} = {sell}_{H_{2},cacoda,t_{0}} \\cdot 300$"
      ],
      "text/plain": [
       "<IPython.core.display.Math object>"
      ]
     },
     "metadata": {},
     "output_type": "display_data"
    },
    {
     "data": {
      "text/latex": [
       "$\\displaystyle {exp^{sell}}_{csh,H_{2},madgaon,t_{0}} = {sell}_{H_{2},madgaon,t_{0}} \\cdot 0$"
      ],
      "text/plain": [
       "<IPython.core.display.Math object>"
      ]
     },
     "metadata": {},
     "output_type": "display_data"
    },
    {
     "data": {
      "text/latex": [
       "$\\displaystyle {exp^{sell}}_{csh,H_{2},madgaon,t_{0}} = {sell}_{H_{2},madgaon,t_{0}} \\cdot M$"
      ],
      "text/plain": [
       "<IPython.core.display.Math object>"
      ]
     },
     "metadata": {},
     "output_type": "display_data"
    },
    {
     "data": {
      "text/latex": [
       "$\\displaystyle {exp^{sell}}_{csh,H_{2},ponje,t_{2}} = {sell}_{H_{2},ponje,t_{2}} \\cdot {θ}_{csh,H_{2},ponje,t_{2}}$"
      ],
      "text/plain": [
       "<IPython.core.display.Math object>"
      ]
     },
     "metadata": {},
     "output_type": "display_data"
    },
    {
     "data": {
      "text/latex": [
       "$\\displaystyle {buy}_{Solar,net,t_{0}} \\geq 0$"
      ],
      "text/plain": [
       "<IPython.core.display.Math object>"
      ]
     },
     "metadata": {},
     "output_type": "display_data"
    },
    {
     "data": {
      "text/latex": [
       "$\\displaystyle {buy}_{Solar,net,t_{0}} \\leq M$"
      ],
      "text/plain": [
       "<IPython.core.display.Math object>"
      ]
     },
     "metadata": {},
     "output_type": "display_data"
    },
    {
     "data": {
      "text/latex": [
       "$\\displaystyle {buy}_{Wind,net,t_{1}} = {DtSt}_{Wind,net,t_{1}}$"
      ],
      "text/plain": [
       "<IPython.core.display.Math object>"
      ]
     },
     "metadata": {},
     "output_type": "display_data"
    },
    {
     "data": {
      "text/latex": [
       "$\\displaystyle {buy}_{Power,net,t_{1}} \\geq 0$"
      ],
      "text/plain": [
       "<IPython.core.display.Math object>"
      ]
     },
     "metadata": {},
     "output_type": "display_data"
    },
    {
     "data": {
      "text/latex": [
       "$\\displaystyle {buy}_{Power,net,t_{1}} \\leq {DtSt^{max}}_{Power,net,t_{1}}$"
      ],
      "text/plain": [
       "<IPython.core.display.Math object>"
      ]
     },
     "metadata": {},
     "output_type": "display_data"
    },
    {
     "data": {
      "text/latex": [
       "$\\displaystyle {buy}_{Uranium,net,t_{2}} = {DtSt}_{Uranium,net,t_{2}}$"
      ],
      "text/plain": [
       "<IPython.core.display.Math object>"
      ]
     },
     "metadata": {},
     "output_type": "display_data"
    },
    {
     "data": {
      "text/latex": [
       "$\\displaystyle {exp^{buy}}_{csh,Uranium,cacoda,t_{0}} = {buy}_{Uranium,cacoda,t_{0}} \\cdot 0.3416$"
      ],
      "text/plain": [
       "<IPython.core.display.Math object>"
      ]
     },
     "metadata": {},
     "output_type": "display_data"
    },
    {
     "data": {
      "text/latex": [
       "$\\displaystyle {exp^{buy}}_{csh,Uranium,madgaon,t_{0}} = {buy}_{Uranium,madgaon,t_{0}} \\cdot 0.3416$"
      ],
      "text/plain": [
       "<IPython.core.display.Math object>"
      ]
     },
     "metadata": {},
     "output_type": "display_data"
    },
    {
     "data": {
      "text/latex": [
       "$\\displaystyle {exp^{buy}}_{csh,Uranium,ponje,t_{0}} = {buy}_{Uranium,ponje,t_{0}} \\cdot 0.3416$"
      ],
      "text/plain": [
       "<IPython.core.display.Math object>"
      ]
     },
     "metadata": {},
     "output_type": "display_data"
    },
    {
     "data": {
      "text/latex": [
       "$\\displaystyle {buy}_{H2O,net,t_{0}} = {θ}_{H2O,net,t_{0}}$"
      ],
      "text/plain": [
       "<IPython.core.display.Math object>"
      ]
     },
     "metadata": {},
     "output_type": "display_data"
    },
    {
     "data": {
      "text/latex": [
       "$\\displaystyle {exp^{buy}}_{csh,H2O,cacoda,t_{2}} = {DtSt}_{csh,H2O,cacoda,t_{2}} \\cdot {buy}_{H2O,cacoda,t_{2}}$"
      ],
      "text/plain": [
       "<IPython.core.display.Math object>"
      ]
     },
     "metadata": {},
     "output_type": "display_data"
    },
    {
     "data": {
      "text/latex": [
       "$\\displaystyle {exp^{buy}}_{csh,H2O,madgaon,t_{2}} = {DtSt}_{csh,H2O,madgaon,t_{2}} \\cdot {buy}_{H2O,madgaon,t_{2}}$"
      ],
      "text/plain": [
       "<IPython.core.display.Math object>"
      ]
     },
     "metadata": {},
     "output_type": "display_data"
    },
    {
     "data": {
      "text/latex": [
       "$\\displaystyle {exp^{buy}}_{csh,H2O,ponje,t_{2}} = {DtSt}_{csh,H2O,ponje,t_{2}} \\cdot {buy}_{H2O,ponje,t_{2}}$"
      ],
      "text/plain": [
       "<IPython.core.display.Math object>"
      ]
     },
     "metadata": {},
     "output_type": "display_data"
    },
    {
     "data": {
      "text/latex": [
       "$\\displaystyle {buy}_{CH_{4},net,t_{0}} \\geq 20$"
      ],
      "text/plain": [
       "<IPython.core.display.Math object>"
      ]
     },
     "metadata": {},
     "output_type": "display_data"
    },
    {
     "data": {
      "text/latex": [
       "$\\displaystyle {buy}_{CH_{4},net,t_{0}} \\leq 40$"
      ],
      "text/plain": [
       "<IPython.core.display.Math object>"
      ]
     },
     "metadata": {},
     "output_type": "display_data"
    },
    {
     "data": {
      "text/latex": [
       "$\\displaystyle {exp^{buy}}_{csh,CH_{4},cacoda,t_{0}} = {buy}_{CH_{4},cacoda,t_{0}} \\cdot 20$"
      ],
      "text/plain": [
       "<IPython.core.display.Math object>"
      ]
     },
     "metadata": {},
     "output_type": "display_data"
    },
    {
     "data": {
      "text/latex": [
       "$\\displaystyle {exp^{buy}}_{csh,CH_{4},madgaon,t_{0}} = {buy}_{CH_{4},madgaon,t_{0}} \\cdot 20$"
      ],
      "text/plain": [
       "<IPython.core.display.Math object>"
      ]
     },
     "metadata": {},
     "output_type": "display_data"
    },
    {
     "data": {
      "text/latex": [
       "$\\displaystyle {exp^{buy}}_{csh,CH_{4},ponje,t_{0}} = {buy}_{CH_{4},ponje,t_{0}} \\cdot 20$"
      ],
      "text/plain": [
       "<IPython.core.display.Math object>"
      ]
     },
     "metadata": {},
     "output_type": "display_data"
    },
    {
     "data": {
      "text/latex": [
       "$\\displaystyle {exp^{sell}}_{csh,CO_{2 Vent},cacoda,t_{0}} = {sell}_{CO_{2 Vent},cacoda,t_{0}} \\cdot {θ}_{csh,CO_{2 Vent},cacoda,t_{0}}$"
      ],
      "text/plain": [
       "<IPython.core.display.Math object>"
      ]
     },
     "metadata": {},
     "output_type": "display_data"
    },
    {
     "data": {
      "text/latex": [
       "$\\displaystyle {exp^{sell}}_{csh,CO_{2 Vent},madgaon,t_{0}} = {sell}_{CO_{2 Vent},madgaon,t_{0}} \\cdot {θ}_{csh,CO_{2 Vent},madgaon,t_{0}}$"
      ],
      "text/plain": [
       "<IPython.core.display.Math object>"
      ]
     },
     "metadata": {},
     "output_type": "display_data"
    },
    {
     "data": {
      "text/latex": [
       "$\\displaystyle {exp^{sell}}_{csh,CO_{2 Vent},ponje,t_{0}} = {sell}_{CO_{2 Vent},ponje,t_{0}} \\cdot {θ}_{csh,CO_{2 Vent},ponje,t_{0}}$"
      ],
      "text/plain": [
       "<IPython.core.display.Math object>"
      ]
     },
     "metadata": {},
     "output_type": "display_data"
    },
    {
     "data": {
      "text/latex": [
       "$\\displaystyle {emit^{sell}}_{gwp,CO_{2 Vent},cacoda,t_{2}} = {DtSt}_{gwp,CO_{2 Vent},cacoda,t_{2}} \\cdot {sell}_{CO_{2 Vent},cacoda,t_{2}}$"
      ],
      "text/plain": [
       "<IPython.core.display.Math object>"
      ]
     },
     "metadata": {},
     "output_type": "display_data"
    },
    {
     "data": {
      "text/latex": [
       "$\\displaystyle {emit^{sell}}_{gwp,CO_{2 Vent},madgaon,t_{2}} = {DtSt}_{gwp,CO_{2 Vent},madgaon,t_{2}} \\cdot {sell}_{CO_{2 Vent},madgaon,t_{2}}$"
      ],
      "text/plain": [
       "<IPython.core.display.Math object>"
      ]
     },
     "metadata": {},
     "output_type": "display_data"
    },
    {
     "data": {
      "text/latex": [
       "$\\displaystyle {emit^{sell}}_{gwp,CO_{2 Vent},ponje,t_{2}} = {DtSt}_{gwp,CO_{2 Vent},ponje,t_{2}} \\cdot {sell}_{CO_{2 Vent},ponje,t_{2}}$"
      ],
      "text/plain": [
       "<IPython.core.display.Math object>"
      ]
     },
     "metadata": {},
     "output_type": "display_data"
    },
    {
     "data": {
      "text/latex": [
       "$\\displaystyle {sell}_{O_{2},net,t_{0}} \\geq 20$"
      ],
      "text/plain": [
       "<IPython.core.display.Math object>"
      ]
     },
     "metadata": {},
     "output_type": "display_data"
    },
    {
     "data": {
      "text/latex": [
       "$\\displaystyle {sell}_{O_{2},net,t_{0}} \\leq M$"
      ],
      "text/plain": [
       "<IPython.core.display.Math object>"
      ]
     },
     "metadata": {},
     "output_type": "display_data"
    }
   ],
   "source": [
    "s.pprint()"
   ]
  },
  {
   "cell_type": "code",
   "execution_count": 15,
   "metadata": {},
   "outputs": [],
   "source": [
    "s.LiR = Material(\n",
    "    emission_use={s.gwp: {s.t2: 1.484}},\n",
    "    use={s.ponje: 1.5},\n",
    "    basis='kg',\n",
    "    label='Lithium Reserves',\n",
    "    citation='Nelson Bunyui Manjong (2021)',\n",
    ")"
   ]
  },
  {
   "cell_type": "code",
   "execution_count": 16,
   "metadata": {},
   "outputs": [
    {
     "data": {
      "text/latex": [
       "$\\displaystyle {use}_{LiR,ponje,t_{0}} = 1.5$"
      ],
      "text/plain": [
       "<IPython.core.display.Math object>"
      ]
     },
     "metadata": {},
     "output_type": "display_data"
    },
    {
     "data": {
      "text/latex": [
       "$\\displaystyle {emit^{use}}_{gwp,LiR,cacoda,t_{0}} = {use}_{LiR,cacoda,t_{0}} \\cdot 1.484$"
      ],
      "text/plain": [
       "<IPython.core.display.Math object>"
      ]
     },
     "metadata": {},
     "output_type": "display_data"
    },
    {
     "data": {
      "text/latex": [
       "$\\displaystyle {emit^{use}}_{gwp,LiR,madgaon,t_{0}} = {use}_{LiR,madgaon,t_{0}} \\cdot 1.484$"
      ],
      "text/plain": [
       "<IPython.core.display.Math object>"
      ]
     },
     "metadata": {},
     "output_type": "display_data"
    },
    {
     "data": {
      "text/latex": [
       "$\\displaystyle {emit^{use}}_{gwp,LiR,ponje,t_{0}} = {use}_{LiR,ponje,t_{0}} \\cdot 1.484$"
      ],
      "text/plain": [
       "<IPython.core.display.Math object>"
      ]
     },
     "metadata": {},
     "output_type": "display_data"
    }
   ],
   "source": [
    "s.LiR.pprint()"
   ]
  },
  {
   "cell_type": "code",
   "execution_count": 17,
   "metadata": {},
   "outputs": [],
   "source": [
    "s.WF = Process(\n",
    "    conversion={s.Power: {X(0): {s.Wind: -1}, X(1): {s.Wind: -1}}},\n",
    "    produce=[(0, 3), (3, 5)],\n",
    "    capex={s.madgaon: {s.t1: {1462000, I(202233)}}},\n",
    "    opex={4953, I(70)},\n",
    "    capacity=1000,\n",
    "    emission_setup={s.gwp: 50, s.odp: 2900},\n",
    "    use_material={s.LiR: 1.5},\n",
    "    locations=[s.madgaon, s.ponje],\n",
    "    use_land=30,\n",
    "    label='Wind mill array',\n",
    "    basis='MW',\n",
    ")\n",
    "\n",
    "\n",
    "s.PV = Process(\n",
    "    price_sell={s.Power: 30},\n",
    "    credit={s.Power: DataFrame({'a': [2]})},\n",
    "    conversion={s.Power: {X(1): {s.Solar: -1.2}, X(2): {s.Solar: -1.5}}},\n",
    "    capex={X(0): 1333, X(1): 1444, X(2): 1555},\n",
    "    opex=22623,\n",
    "    capacity={X(0): 3000, X(1): 4000, X(2): 5000},\n",
    "    locations=s.cacoda,\n",
    "    label='Solar PV',\n",
    "    basis='MW',\n",
    ")\n",
    "\n",
    "\n",
    "s.SMRH = Process(\n",
    "    use_land=50,\n",
    "    conversion={\n",
    "        s.H2: {\n",
    "            s.Power: -1.11,\n",
    "            s.CH4: -3.76,\n",
    "            s.H2O: -23.7,\n",
    "            s.CO2_Vent: 1.03,\n",
    "            s.CO2: 9.332,\n",
    "        }\n",
    "    },\n",
    "    capex={\n",
    "        2520000,\n",
    "    },\n",
    "    opex={51.5, I(945000)},\n",
    "    capacity=[1000],\n",
    "    label='Steam methane reforming + CCUS',\n",
    ")\n",
    "\n",
    "s.NGCC = Process(\n",
    "    price_buy={s.CH4: 4, s.H2O: 20},\n",
    "    conversion={\n",
    "        s.Power: {\n",
    "            s.CH4: -0.108,\n",
    "            s.H2O: -10,\n",
    "            s.CO2_Vent: 0.297 * 0.05,\n",
    "            s.CO2: 0.297 * 0.95,\n",
    "        }\n",
    "    },\n",
    "    capex=2158928,\n",
    "    opex={4090, I(53320)},\n",
    "    capacity=[1, 100],\n",
    "    label='NGCC + 95% CC',\n",
    ")\n",
    "s.SMR = Process(\n",
    "    capex=2400,\n",
    "    opex={0.03, I(800)},\n",
    "    conversion={s.H2: {s.Power: -1.11, s.CH4: -3.76, s.H2O: -23.7, s.CO2_Vent: 9.4979}},\n",
    "    capacity=1000,\n",
    "    label='Steam methane reforming',\n",
    ")\n",
    "s.H2FC = Process(\n",
    "    price_buy={s.H2: 2},\n",
    "    sell={s.Power: 20},\n",
    "    conversion={s.Power: {s.H2: -0.050}},\n",
    "    capex=1.6 * 10**6,\n",
    "    opex=3.5,\n",
    "    capacity=[1000, 2000],\n",
    "    label='hydrogen fuel cell',\n",
    ")\n",
    "s.DAC = Process(\n",
    "    capex=0.02536,\n",
    "    opex=0.634,\n",
    "    conversion={s.CO2_DAC: {s.Power: -0.193, s.H2O: -4.048}},\n",
    "    capacity=1000,\n",
    "    label='Direct air capture',\n",
    ")\n",
    "# s.PSH = Process(conversion = {s.Power: 0.6}, capex = 3924781, fopex= 17820, vopex = 512.5, store = 10000, capacity=1000, label='Pumped storage hydropower', basis = 'MW')\n",
    "s.ASMR = Process(\n",
    "    buy={s.Uranium: 40},\n",
    "    conversion={s.Power: {s.Uranium: -4.17 * 10 ** (-5), s.H2O: -3.364}},\n",
    "    capex=7988951,\n",
    "    opex=I(0.04 * 0.730),\n",
    "    capacity=1000,\n",
    "    label='Small modular reactors (SMRs)',\n",
    "    locations=s.madgaon,\n",
    ")\n",
    "s.AWE = Process(\n",
    "    use_land=(0, 20),\n",
    "    conversion={s.H2: {s.Power: -1, s.O2: 0.7632, s.H2O: -0.1753}},\n",
    "    capex={1.1 * 10**6, I(20)},\n",
    "    opex=I(16918),\n",
    "    capacity=True,\n",
    "    label='Alkaline water electrolysis (AWE)',\n",
    "    citation='Demirhan et al. 2018 AIChE paper',\n",
    ")"
   ]
  },
  {
   "cell_type": "code",
   "execution_count": 18,
   "metadata": {},
   "outputs": [],
   "source": [
    "s.LiI = Storage(capacity=[2000], inventory=s.Power, capacity_in=[40], capacity_out=[20])\n",
    "s.LiI2 = Storage(capacity=[2000], inventory={s.Power: 0.6})\n",
    "s.H2Stg = Storage(\n",
    "    capacity=[2000], inventory={s.H2: {X(0): {s.Power: 0.8}, X(1): {s.Power: 0.9}}}\n",
    ")"
   ]
  },
  {
   "cell_type": "code",
   "execution_count": 19,
   "metadata": {},
   "outputs": [
    {
     "data": {
      "text/plain": [
       "(CH4, NGCC, cacoda, t0)"
      ]
     },
     "execution_count": 19,
     "metadata": {},
     "output_type": "execute_result"
    }
   ],
   "source": [
    "s.program.variables[0].disposition"
   ]
  },
  {
   "cell_type": "code",
   "execution_count": 30,
   "metadata": {},
   "outputs": [],
   "source": [
    "from energiapy.variables.trade import Buy\n",
    "from energiapy.variables.expense import ExpBuy"
   ]
  },
  {
   "cell_type": "code",
   "execution_count": 21,
   "metadata": {},
   "outputs": [
    {
     "data": {
      "text/plain": [
       "[buy[CH4, NGCC, cacoda, t0],\n",
       " buy[CH4, NGCC, madgaon, t0],\n",
       " buy[CH4, NGCC, ponje, t0],\n",
       " buy[CH4, cacoda, t0],\n",
       " buy[CH4, madgaon, t0],\n",
       " buy[CH4, net, t0],\n",
       " buy[CH4, net, t0],\n",
       " buy[CH4, ponje, t0],\n",
       " buy[H2, H2FC, cacoda, t0],\n",
       " buy[H2, H2FC, madgaon, t0],\n",
       " buy[H2, H2FC, ponje, t0],\n",
       " buy[H2O, NGCC, cacoda, t0],\n",
       " buy[H2O, NGCC, madgaon, t0],\n",
       " buy[H2O, NGCC, ponje, t0],\n",
       " buy[H2O, cacoda, t2],\n",
       " buy[H2O, madgaon, t2],\n",
       " buy[H2O, net, t0],\n",
       " buy[H2O, ponje, t2],\n",
       " buy[Power, net, t1],\n",
       " buy[Power, net, t1],\n",
       " buy[Solar, net, t0],\n",
       " buy[Solar, net, t0],\n",
       " buy[Uranium, ASMR, net, t0],\n",
       " buy[Uranium, cacoda, t0],\n",
       " buy[Uranium, madgaon, t0],\n",
       " buy[Uranium, net, t2],\n",
       " buy[Uranium, ponje, t0],\n",
       " buy[Wind, net, t1],\n",
       " capacity[ASMR, cacoda, t0],\n",
       " capacity[ASMR, madgaon, t0],\n",
       " capacity[ASMR, net, t0],\n",
       " capacity[ASMR, ponje, t0],\n",
       " capacity[AWE, cacoda, t0],\n",
       " capacity[AWE, madgaon, t0],\n",
       " capacity[AWE, net, t0],\n",
       " capacity[AWE, net, t0],\n",
       " capacity[AWE, ponje, t0],\n",
       " capacity[DAC, cacoda, t0],\n",
       " capacity[DAC, madgaon, t0],\n",
       " capacity[DAC, net, t0],\n",
       " capacity[DAC, ponje, t0],\n",
       " capacity[H2FC, cacoda, t0],\n",
       " capacity[H2FC, madgaon, t0],\n",
       " capacity[H2FC, net, t0],\n",
       " capacity[H2FC, net, t0],\n",
       " capacity[H2FC, ponje, t0],\n",
       " capacity[H2Stg, net, t0],\n",
       " capacity[H2Stg, net, t0],\n",
       " capacity[LiI, net, t0],\n",
       " capacity[LiI, net, t0],\n",
       " capacity[LiI2, net, t0],\n",
       " capacity[LiI2, net, t0],\n",
       " capacity[LiI_in, net, t0],\n",
       " capacity[LiI_in, net, t0],\n",
       " capacity[LiI_out, net, t0],\n",
       " capacity[LiI_out, net, t0],\n",
       " capacity[NGCC, cacoda, t0],\n",
       " capacity[NGCC, madgaon, t0],\n",
       " capacity[NGCC, net, t0],\n",
       " capacity[NGCC, net, t0],\n",
       " capacity[NGCC, ponje, t0],\n",
       " capacity[PV, cacoda, t0],\n",
       " capacity[PV, madgaon, t0],\n",
       " capacity[PV, net, t0],\n",
       " capacity[PV, ponje, t0],\n",
       " capacity[SMR, cacoda, t0],\n",
       " capacity[SMR, madgaon, t0],\n",
       " capacity[SMR, net, t0],\n",
       " capacity[SMR, ponje, t0],\n",
       " capacity[SMRH, cacoda, t0],\n",
       " capacity[SMRH, madgaon, t0],\n",
       " capacity[SMRH, net, t0],\n",
       " capacity[SMRH, net, t0],\n",
       " capacity[SMRH, ponje, t0],\n",
       " capacity[WF, cacoda, t0],\n",
       " capacity[WF, madgaon, t0],\n",
       " capacity[WF, madgaon, t1],\n",
       " capacity[WF, net, t0],\n",
       " capacity[WF, ponje, t0],\n",
       " capex[csh, ASMR, cacoda, t0],\n",
       " capex[csh, ASMR, madgaon, t0],\n",
       " capex[csh, ASMR, ponje, t0],\n",
       " capex[csh, AWE, cacoda, t0],\n",
       " capex[csh, AWE, madgaon, t0],\n",
       " capex[csh, AWE, ponje, t0],\n",
       " capex[csh, DAC, cacoda, t0],\n",
       " capex[csh, DAC, madgaon, t0],\n",
       " capex[csh, DAC, ponje, t0],\n",
       " capex[csh, H2FC, cacoda, t0],\n",
       " capex[csh, H2FC, madgaon, t0],\n",
       " capex[csh, H2FC, ponje, t0],\n",
       " capex[csh, NGCC, cacoda, t0],\n",
       " capex[csh, NGCC, madgaon, t0],\n",
       " capex[csh, NGCC, ponje, t0],\n",
       " capex[csh, PV, cacoda, t0],\n",
       " capex[csh, PV, madgaon, t0],\n",
       " capex[csh, PV, ponje, t0],\n",
       " capex[csh, SMR, cacoda, t0],\n",
       " capex[csh, SMR, madgaon, t0],\n",
       " capex[csh, SMR, ponje, t0],\n",
       " capex[csh, SMRH, cacoda, t0],\n",
       " capex[csh, SMRH, madgaon, t0],\n",
       " capex[csh, SMRH, ponje, t0],\n",
       " capex[csh, WF, madgaon, t1],\n",
       " capex^I[csh, AWE, cacoda, t0],\n",
       " capex^I[csh, AWE, madgaon, t0],\n",
       " capex^I[csh, AWE, ponje, t0],\n",
       " capex^I[csh, WF, madgaon, t1],\n",
       " credit[csh, Power, PV, cacoda, t0],\n",
       " credit[csh, Power, PV, madgaon, t0],\n",
       " credit[csh, Power, PV, ponje, t0],\n",
       " emit^sell[gwp, CO2_Vent, cacoda, t2],\n",
       " emit^sell[gwp, CO2_Vent, madgaon, t2],\n",
       " emit^sell[gwp, CO2_Vent, ponje, t2],\n",
       " emit^setup[gwp, WF, cacoda, t0],\n",
       " emit^setup[gwp, WF, madgaon, t0],\n",
       " emit^setup[gwp, WF, ponje, t0],\n",
       " emit^setup[odp, WF, cacoda, t0],\n",
       " emit^setup[odp, WF, madgaon, t0],\n",
       " emit^setup[odp, WF, ponje, t0],\n",
       " emit^use[gwp, LiR, cacoda, t0],\n",
       " emit^use[gwp, LiR, madgaon, t0],\n",
       " emit^use[gwp, LiR, ponje, t0],\n",
       " exp^buy[csh, CH4, NGCC, cacoda, t0],\n",
       " exp^buy[csh, CH4, NGCC, madgaon, t0],\n",
       " exp^buy[csh, CH4, NGCC, ponje, t0],\n",
       " exp^buy[csh, CH4, cacoda, t0],\n",
       " exp^buy[csh, CH4, madgaon, t0],\n",
       " exp^buy[csh, CH4, ponje, t0],\n",
       " exp^buy[csh, H2, H2FC, cacoda, t0],\n",
       " exp^buy[csh, H2, H2FC, madgaon, t0],\n",
       " exp^buy[csh, H2, H2FC, ponje, t0],\n",
       " exp^buy[csh, H2O, NGCC, cacoda, t0],\n",
       " exp^buy[csh, H2O, NGCC, madgaon, t0],\n",
       " exp^buy[csh, H2O, NGCC, ponje, t0],\n",
       " exp^buy[csh, H2O, cacoda, t2],\n",
       " exp^buy[csh, H2O, madgaon, t2],\n",
       " exp^buy[csh, H2O, ponje, t2],\n",
       " exp^buy[csh, Uranium, cacoda, t0],\n",
       " exp^buy[csh, Uranium, madgaon, t0],\n",
       " exp^buy[csh, Uranium, ponje, t0],\n",
       " exp^sell[csh, CO2_Vent, cacoda, t0],\n",
       " exp^sell[csh, CO2_Vent, madgaon, t0],\n",
       " exp^sell[csh, CO2_Vent, ponje, t0],\n",
       " exp^sell[csh, H2, cacoda, t0],\n",
       " exp^sell[csh, H2, madgaon, t0],\n",
       " exp^sell[csh, H2, madgaon, t0],\n",
       " exp^sell[csh, H2, ponje, t2],\n",
       " exp^sell[csh, Power, PV, cacoda, t0],\n",
       " exp^sell[csh, Power, PV, madgaon, t0],\n",
       " exp^sell[csh, Power, PV, ponje, t0],\n",
       " operate[DAC, cacoda, t0],\n",
       " operate[DAC, madgaon, t0],\n",
       " operate[DAC, ponje, t0],\n",
       " operate[H2FC, cacoda, t0],\n",
       " operate[H2FC, madgaon, t0],\n",
       " operate[H2FC, ponje, t0],\n",
       " operate[NGCC, cacoda, t0],\n",
       " operate[NGCC, madgaon, t0],\n",
       " operate[NGCC, ponje, t0],\n",
       " operate[PV, cacoda, t0],\n",
       " operate[PV, madgaon, t0],\n",
       " operate[PV, ponje, t0],\n",
       " operate[SMR, cacoda, t0],\n",
       " operate[SMR, madgaon, t0],\n",
       " operate[SMR, ponje, t0],\n",
       " operate[SMRH, cacoda, t0],\n",
       " operate[SMRH, madgaon, t0],\n",
       " operate[SMRH, ponje, t0],\n",
       " operate[WF, cacoda, t0],\n",
       " operate[WF, madgaon, t0],\n",
       " operate[WF, net, t0],\n",
       " operate[WF, net, t0],\n",
       " operate[WF, ponje, t0],\n",
       " opex[csh, DAC, cacoda, t0],\n",
       " opex[csh, DAC, madgaon, t0],\n",
       " opex[csh, DAC, ponje, t0],\n",
       " opex[csh, H2FC, cacoda, t0],\n",
       " opex[csh, H2FC, madgaon, t0],\n",
       " opex[csh, H2FC, ponje, t0],\n",
       " opex[csh, NGCC, cacoda, t0],\n",
       " opex[csh, NGCC, madgaon, t0],\n",
       " opex[csh, NGCC, ponje, t0],\n",
       " opex[csh, PV, cacoda, t0],\n",
       " opex[csh, PV, madgaon, t0],\n",
       " opex[csh, PV, ponje, t0],\n",
       " opex[csh, SMR, cacoda, t0],\n",
       " opex[csh, SMR, madgaon, t0],\n",
       " opex[csh, SMR, ponje, t0],\n",
       " opex[csh, SMRH, cacoda, t0],\n",
       " opex[csh, SMRH, madgaon, t0],\n",
       " opex[csh, SMRH, ponje, t0],\n",
       " opex[csh, WF, cacoda, t0],\n",
       " opex[csh, WF, madgaon, t0],\n",
       " opex[csh, WF, ponje, t0],\n",
       " opex^I[csh, ASMR, cacoda, t0],\n",
       " opex^I[csh, ASMR, madgaon, t0],\n",
       " opex^I[csh, ASMR, ponje, t0],\n",
       " opex^I[csh, AWE, cacoda, t0],\n",
       " opex^I[csh, AWE, madgaon, t0],\n",
       " opex^I[csh, AWE, ponje, t0],\n",
       " opex^I[csh, NGCC, cacoda, t0],\n",
       " opex^I[csh, NGCC, madgaon, t0],\n",
       " opex^I[csh, NGCC, ponje, t0],\n",
       " opex^I[csh, SMR, cacoda, t0],\n",
       " opex^I[csh, SMR, madgaon, t0],\n",
       " opex^I[csh, SMR, ponje, t0],\n",
       " opex^I[csh, SMRH, cacoda, t0],\n",
       " opex^I[csh, SMRH, madgaon, t0],\n",
       " opex^I[csh, SMRH, ponje, t0],\n",
       " opex^I[csh, WF, cacoda, t0],\n",
       " opex^I[csh, WF, madgaon, t0],\n",
       " opex^I[csh, WF, ponje, t0],\n",
       " sell[CO2_Vent, cacoda, t0],\n",
       " sell[CO2_Vent, cacoda, t2],\n",
       " sell[CO2_Vent, madgaon, t0],\n",
       " sell[CO2_Vent, madgaon, t2],\n",
       " sell[CO2_Vent, ponje, t0],\n",
       " sell[CO2_Vent, ponje, t2],\n",
       " sell[H2, cacoda, t0],\n",
       " sell[H2, madgaon, t0],\n",
       " sell[H2, ponje, t2],\n",
       " sell[O2, net, t0],\n",
       " sell[O2, net, t0],\n",
       " sell[Power, H2FC, net, t0],\n",
       " sell[Power, PV, cacoda, t0],\n",
       " sell[Power, PV, madgaon, t0],\n",
       " sell[Power, PV, ponje, t0],\n",
       " spend[csh, cacoda, t1],\n",
       " spend[csh, madgaon, t0],\n",
       " spend[csh, madgaon, t0],\n",
       " spend[csh, net, t2],\n",
       " spend[csh, net, t2],\n",
       " spend[csh, ponje, t1],\n",
       " use[LiR, cacoda, t0],\n",
       " use[LiR, madgaon, t0],\n",
       " use[LiR, ponje, t0],\n",
       " use^setup[LiR, WF, cacoda, t0],\n",
       " use^setup[LiR, WF, madgaon, t0],\n",
       " use^setup[LiR, WF, ponje, t0],\n",
       " use^setup[lnd_def, AWE, cacoda, t0],\n",
       " use^setup[lnd_def, AWE, madgaon, t0],\n",
       " use^setup[lnd_def, AWE, ponje, t0],\n",
       " use^setup[lnd_def, SMRH, cacoda, t0],\n",
       " use^setup[lnd_def, SMRH, madgaon, t0],\n",
       " use^setup[lnd_def, SMRH, ponje, t0],\n",
       " use^setup[lnd_def, WF, cacoda, t0],\n",
       " use^setup[lnd_def, WF, madgaon, t0],\n",
       " use^setup[lnd_def, WF, ponje, t0]]"
      ]
     },
     "execution_count": 21,
     "metadata": {},
     "output_type": "execute_result"
    }
   ],
   "source": [
    "s.program.variables"
   ]
  },
  {
   "cell_type": "code",
   "execution_count": 29,
   "metadata": {},
   "outputs": [
    {
     "ename": "TypeError",
     "evalue": "isinstance() arg 2 must be a type, a tuple of types, or a union",
     "output_type": "error",
     "traceback": [
      "\u001b[1;31m---------------------------------------------------------------------------\u001b[0m",
      "\u001b[1;31mTypeError\u001b[0m                                 Traceback (most recent call last)",
      "Cell \u001b[1;32mIn[29], line 1\u001b[0m\n\u001b[1;32m----> 1\u001b[0m \u001b[43ms\u001b[49m\u001b[38;5;241;43m.\u001b[39;49m\u001b[43mprogram\u001b[49m\u001b[38;5;241;43m.\u001b[39;49m\u001b[43mvariables\u001b[49m\u001b[43m[\u001b[49m\u001b[38;5;241;43m0\u001b[39;49m\u001b[43m]\u001b[49m\u001b[38;5;241;43m.\u001b[39;49m\u001b[43mdisposition\u001b[49m\u001b[38;5;241;43m.\u001b[39;49m\u001b[43mchildless\u001b[49m\u001b[43m(\u001b[49m\u001b[43mBuy\u001b[49m\u001b[38;5;241;43m.\u001b[39;49m\u001b[43mchild\u001b[49m\u001b[43m(\u001b[49m\u001b[43m)\u001b[49m\u001b[43m)\u001b[49m\n",
      "File \u001b[1;32mc:\\Users\\cacodcar\\energiapy\\src\\energiapy\\indices\\disposition.py:88\u001b[0m, in \u001b[0;36mDisposition.childless\u001b[1;34m(self, child)\u001b[0m\n\u001b[0;32m     86\u001b[0m \u001b[38;5;28;01mdef\u001b[39;00m \u001b[38;5;21mchildless\u001b[39m(\u001b[38;5;28mself\u001b[39m, child: IsComponent):\n\u001b[0;32m     87\u001b[0m \u001b[38;5;250m    \u001b[39m\u001b[38;5;124;03m\"\"\"Gives the disposition with the component removed\"\"\"\u001b[39;00m\n\u001b[1;32m---> 88\u001b[0m     \u001b[38;5;28;01mreturn\u001b[39;00m {\n\u001b[0;32m     89\u001b[0m         i\u001b[38;5;241m.\u001b[39mname: \u001b[38;5;28mgetattr\u001b[39m(\u001b[38;5;28mself\u001b[39m, i\u001b[38;5;241m.\u001b[39mname)\n\u001b[0;32m     90\u001b[0m         \u001b[38;5;28;01mfor\u001b[39;00m i \u001b[38;5;129;01min\u001b[39;00m fields(\u001b[38;5;28mself\u001b[39m)\n\u001b[0;32m     91\u001b[0m         \u001b[38;5;28;01mif\u001b[39;00m \u001b[38;5;129;01mnot\u001b[39;00m \u001b[38;5;28misinstance\u001b[39m(\u001b[38;5;28mgetattr\u001b[39m(\u001b[38;5;28mself\u001b[39m, i\u001b[38;5;241m.\u001b[39mname), child)\n\u001b[0;32m     92\u001b[0m     }\n",
      "File \u001b[1;32mc:\\Users\\cacodcar\\energiapy\\src\\energiapy\\indices\\disposition.py:91\u001b[0m, in \u001b[0;36m<dictcomp>\u001b[1;34m(.0)\u001b[0m\n\u001b[0;32m     86\u001b[0m \u001b[38;5;28;01mdef\u001b[39;00m \u001b[38;5;21mchildless\u001b[39m(\u001b[38;5;28mself\u001b[39m, child: IsComponent):\n\u001b[0;32m     87\u001b[0m \u001b[38;5;250m    \u001b[39m\u001b[38;5;124;03m\"\"\"Gives the disposition with the component removed\"\"\"\u001b[39;00m\n\u001b[0;32m     88\u001b[0m     \u001b[38;5;28;01mreturn\u001b[39;00m {\n\u001b[0;32m     89\u001b[0m         i\u001b[38;5;241m.\u001b[39mname: \u001b[38;5;28mgetattr\u001b[39m(\u001b[38;5;28mself\u001b[39m, i\u001b[38;5;241m.\u001b[39mname)\n\u001b[0;32m     90\u001b[0m         \u001b[38;5;28;01mfor\u001b[39;00m i \u001b[38;5;129;01min\u001b[39;00m fields(\u001b[38;5;28mself\u001b[39m)\n\u001b[1;32m---> 91\u001b[0m         \u001b[38;5;28;01mif\u001b[39;00m \u001b[38;5;129;01mnot\u001b[39;00m \u001b[38;5;28;43misinstance\u001b[39;49m\u001b[43m(\u001b[49m\u001b[38;5;28;43mgetattr\u001b[39;49m\u001b[43m(\u001b[49m\u001b[38;5;28;43mself\u001b[39;49m\u001b[43m,\u001b[49m\u001b[43m \u001b[49m\u001b[43mi\u001b[49m\u001b[38;5;241;43m.\u001b[39;49m\u001b[43mname\u001b[49m\u001b[43m)\u001b[49m\u001b[43m,\u001b[49m\u001b[43m \u001b[49m\u001b[43mchild\u001b[49m\u001b[43m)\u001b[49m\n\u001b[0;32m     92\u001b[0m     }\n",
      "\u001b[1;31mTypeError\u001b[0m: isinstance() arg 2 must be a type, a tuple of types, or a union"
     ]
    }
   ],
   "source": [
    "s.program.variables[0].disposition.childless(Buy.child())"
   ]
  },
  {
   "cell_type": "code",
   "execution_count": null,
   "metadata": {},
   "outputs": [],
   "source": []
  },
  {
   "cell_type": "code",
   "execution_count": 40,
   "metadata": {},
   "outputs": [
    {
     "name": "stdout",
     "output_type": "stream",
     "text": [
      "fish_var:new var\n",
      "[]\n"
     ]
    }
   ],
   "source": [
    "vv = s.program.fish_var(ExpBuy, Disposition(csh= s.cash, res= s.Wind, ntw=s.network, scl= s.t2))"
   ]
  },
  {
   "cell_type": "code",
   "execution_count": null,
   "metadata": {},
   "outputs": [],
   "source": [
    "s.program.variables[0].disposition"
   ]
  },
  {
   "cell_type": "code",
   "execution_count": 36,
   "metadata": {},
   "outputs": [
    {
     "ename": "TypeError",
     "evalue": "isinstance() arg 2 must be a type, a tuple of types, or a union",
     "output_type": "error",
     "traceback": [
      "\u001b[1;31m---------------------------------------------------------------------------\u001b[0m",
      "\u001b[1;31mTypeError\u001b[0m                                 Traceback (most recent call last)",
      "Cell \u001b[1;32mIn[36], line 1\u001b[0m\n\u001b[1;32m----> 1\u001b[0m \u001b[43mvv\u001b[49m\u001b[38;5;241;43m.\u001b[39;49m\u001b[43mdisposition\u001b[49m\u001b[38;5;241;43m.\u001b[39;49m\u001b[43mchildless\u001b[49m\u001b[43m(\u001b[49m\u001b[43mBuy\u001b[49m\u001b[38;5;241;43m.\u001b[39;49m\u001b[43mchild\u001b[49m\u001b[43m(\u001b[49m\u001b[43m)\u001b[49m\u001b[43m)\u001b[49m\n",
      "File \u001b[1;32mc:\\Users\\cacodcar\\energiapy\\src\\energiapy\\indices\\disposition.py:88\u001b[0m, in \u001b[0;36mDisposition.childless\u001b[1;34m(self, child)\u001b[0m\n\u001b[0;32m     86\u001b[0m \u001b[38;5;28;01mdef\u001b[39;00m \u001b[38;5;21mchildless\u001b[39m(\u001b[38;5;28mself\u001b[39m, child: IsComponent):\n\u001b[0;32m     87\u001b[0m \u001b[38;5;250m    \u001b[39m\u001b[38;5;124;03m\"\"\"Gives the disposition with the component removed\"\"\"\u001b[39;00m\n\u001b[1;32m---> 88\u001b[0m     \u001b[38;5;28;01mreturn\u001b[39;00m {\n\u001b[0;32m     89\u001b[0m         i\u001b[38;5;241m.\u001b[39mname: \u001b[38;5;28mgetattr\u001b[39m(\u001b[38;5;28mself\u001b[39m, i\u001b[38;5;241m.\u001b[39mname)\n\u001b[0;32m     90\u001b[0m         \u001b[38;5;28;01mfor\u001b[39;00m i \u001b[38;5;129;01min\u001b[39;00m fields(\u001b[38;5;28mself\u001b[39m)\n\u001b[0;32m     91\u001b[0m         \u001b[38;5;28;01mif\u001b[39;00m \u001b[38;5;129;01mnot\u001b[39;00m \u001b[38;5;28misinstance\u001b[39m(\u001b[38;5;28mgetattr\u001b[39m(\u001b[38;5;28mself\u001b[39m, i\u001b[38;5;241m.\u001b[39mname), child)\n\u001b[0;32m     92\u001b[0m     }\n",
      "File \u001b[1;32mc:\\Users\\cacodcar\\energiapy\\src\\energiapy\\indices\\disposition.py:91\u001b[0m, in \u001b[0;36m<dictcomp>\u001b[1;34m(.0)\u001b[0m\n\u001b[0;32m     86\u001b[0m \u001b[38;5;28;01mdef\u001b[39;00m \u001b[38;5;21mchildless\u001b[39m(\u001b[38;5;28mself\u001b[39m, child: IsComponent):\n\u001b[0;32m     87\u001b[0m \u001b[38;5;250m    \u001b[39m\u001b[38;5;124;03m\"\"\"Gives the disposition with the component removed\"\"\"\u001b[39;00m\n\u001b[0;32m     88\u001b[0m     \u001b[38;5;28;01mreturn\u001b[39;00m {\n\u001b[0;32m     89\u001b[0m         i\u001b[38;5;241m.\u001b[39mname: \u001b[38;5;28mgetattr\u001b[39m(\u001b[38;5;28mself\u001b[39m, i\u001b[38;5;241m.\u001b[39mname)\n\u001b[0;32m     90\u001b[0m         \u001b[38;5;28;01mfor\u001b[39;00m i \u001b[38;5;129;01min\u001b[39;00m fields(\u001b[38;5;28mself\u001b[39m)\n\u001b[1;32m---> 91\u001b[0m         \u001b[38;5;28;01mif\u001b[39;00m \u001b[38;5;129;01mnot\u001b[39;00m \u001b[38;5;28;43misinstance\u001b[39;49m\u001b[43m(\u001b[49m\u001b[38;5;28;43mgetattr\u001b[39;49m\u001b[43m(\u001b[49m\u001b[38;5;28;43mself\u001b[39;49m\u001b[43m,\u001b[49m\u001b[43m \u001b[49m\u001b[43mi\u001b[49m\u001b[38;5;241;43m.\u001b[39;49m\u001b[43mname\u001b[49m\u001b[43m)\u001b[49m\u001b[43m,\u001b[49m\u001b[43m \u001b[49m\u001b[43mchild\u001b[49m\u001b[43m)\u001b[49m\n\u001b[0;32m     92\u001b[0m     }\n",
      "\u001b[1;31mTypeError\u001b[0m: isinstance() arg 2 must be a type, a tuple of types, or a union"
     ]
    }
   ],
   "source": [
    "vv.disposition.childless(Buy.child())"
   ]
  },
  {
   "cell_type": "code",
   "execution_count": 37,
   "metadata": {},
   "outputs": [],
   "source": [
    "Buy.child()"
   ]
  },
  {
   "cell_type": "code",
   "execution_count": 41,
   "metadata": {},
   "outputs": [
    {
     "name": "stdout",
     "output_type": "stream",
     "text": [
      "fish_var:new var\n",
      "[]\n"
     ]
    },
    {
     "data": {
      "text/plain": [
       "buy[Wind, net, t2]"
      ]
     },
     "execution_count": 41,
     "metadata": {},
     "output_type": "execute_result"
    }
   ],
   "source": [
    "s.program.fish_var(Buy, Disposition(**vv.disposition.childless(ExpBuy.child())))"
   ]
  },
  {
   "cell_type": "code",
   "execution_count": 42,
   "metadata": {},
   "outputs": [
    {
     "name": "stdout",
     "output_type": "stream",
     "text": [
      "fish_disp:new disp\n",
      "[]\n"
     ]
    },
    {
     "data": {
      "text/plain": [
       "(Wind, net, t2)"
      ]
     },
     "execution_count": 42,
     "metadata": {},
     "output_type": "execute_result"
    }
   ],
   "source": [
    "s.program.fish_disp(vv.disposition.childless(ExpBuy.child()))"
   ]
  },
  {
   "cell_type": "code",
   "execution_count": 27,
   "metadata": {},
   "outputs": [
    {
     "name": "stdout",
     "output_type": "stream",
     "text": [
      "fish_disp:new disp\n",
      "[]\n"
     ]
    },
    {
     "ename": "TypeError",
     "evalue": "energiapy.indices.disposition.Disposition() argument after ** must be a mapping, not tuple",
     "output_type": "error",
     "traceback": [
      "\u001b[1;31m---------------------------------------------------------------------------\u001b[0m",
      "\u001b[1;31mTypeError\u001b[0m                                 Traceback (most recent call last)",
      "Cell \u001b[1;32mIn[27], line 1\u001b[0m\n\u001b[1;32m----> 1\u001b[0m \u001b[43ms\u001b[49m\u001b[38;5;241;43m.\u001b[39;49m\u001b[43mprogram\u001b[49m\u001b[38;5;241;43m.\u001b[39;49m\u001b[43mfish_disp\u001b[49m\u001b[43m(\u001b[49m\u001b[43m(\u001b[49m\u001b[43ms\u001b[49m\u001b[38;5;241;43m.\u001b[39;49m\u001b[43mWind\u001b[49m\u001b[43m,\u001b[49m\u001b[43m \u001b[49m\u001b[43ms\u001b[49m\u001b[38;5;241;43m.\u001b[39;49m\u001b[43mnetwork\u001b[49m\u001b[43m,\u001b[49m\u001b[43ms\u001b[49m\u001b[38;5;241;43m.\u001b[39;49m\u001b[43mt2\u001b[49m\u001b[43m)\u001b[49m\u001b[43m)\u001b[49m\n",
      "File \u001b[1;32mc:\\Users\\cacodcar\\energiapy\\src\\energiapy\\blocks\\program.py:413\u001b[0m, in \u001b[0;36mProgram.fish_disp\u001b[1;34m(self, index)\u001b[0m\n\u001b[0;32m    411\u001b[0m \u001b[38;5;28;01mif\u001b[39;00m n_catch \u001b[38;5;241m==\u001b[39m \u001b[38;5;241m0\u001b[39m:\n\u001b[0;32m    412\u001b[0m     pr(catch, \u001b[38;5;124m'\u001b[39m\u001b[38;5;124mnew disp\u001b[39m\u001b[38;5;124m'\u001b[39m, \u001b[38;5;124m'\u001b[39m\u001b[38;5;124mfish_disp\u001b[39m\u001b[38;5;124m'\u001b[39m)\n\u001b[1;32m--> 413\u001b[0m     \u001b[38;5;28;01mreturn\u001b[39;00m Disposition(\u001b[38;5;241m*\u001b[39m\u001b[38;5;241m*\u001b[39mindex)\n",
      "\u001b[1;31mTypeError\u001b[0m: energiapy.indices.disposition.Disposition() argument after ** must be a mapping, not tuple"
     ]
    }
   ],
   "source": [
    "s.program.fish_disp((s.Wind, s.network,s.t2))"
   ]
  },
  {
   "cell_type": "code",
   "execution_count": 24,
   "metadata": {},
   "outputs": [
    {
     "data": {
      "text/plain": [
       "[(csh, madgaon, t0),\n",
       " (csh, madgaon, t0),\n",
       " (csh, H2, cacoda, t0),\n",
       " (H2, cacoda, t0),\n",
       " (csh, H2, madgaon, t0),\n",
       " (H2, madgaon, t0),\n",
       " (csh, H2, madgaon, t0),\n",
       " (Solar, net, t0),\n",
       " (Solar, net, t0),\n",
       " (csh, Uranium, cacoda, t0),\n",
       " (Uranium, cacoda, t0),\n",
       " (csh, Uranium, madgaon, t0),\n",
       " (Uranium, madgaon, t0),\n",
       " (csh, Uranium, ponje, t0),\n",
       " (Uranium, ponje, t0),\n",
       " (H2O, net, t0),\n",
       " (CH4, net, t0),\n",
       " (CH4, net, t0),\n",
       " (csh, CH4, cacoda, t0),\n",
       " (CH4, cacoda, t0),\n",
       " (csh, CH4, madgaon, t0),\n",
       " (CH4, madgaon, t0),\n",
       " (csh, CH4, ponje, t0),\n",
       " (CH4, ponje, t0),\n",
       " (csh, CO2_Vent, cacoda, t0),\n",
       " (CO2_Vent, cacoda, t0),\n",
       " (csh, CO2_Vent, madgaon, t0),\n",
       " (CO2_Vent, madgaon, t0),\n",
       " (csh, CO2_Vent, ponje, t0),\n",
       " (CO2_Vent, ponje, t0),\n",
       " (O2, net, t0),\n",
       " (O2, net, t0),\n",
       " (LiR, ponje, t0),\n",
       " (gwp, LiR, cacoda, t0),\n",
       " (LiR, cacoda, t0),\n",
       " (gwp, LiR, madgaon, t0),\n",
       " (LiR, madgaon, t0),\n",
       " (gwp, LiR, ponje, t0),\n",
       " (WF, net, t0),\n",
       " (WF, net, t0),\n",
       " (WF, net, t0),\n",
       " (lnd_def, WF, cacoda, t0),\n",
       " (WF, cacoda, t0),\n",
       " (lnd_def, WF, madgaon, t0),\n",
       " (WF, madgaon, t0),\n",
       " (lnd_def, WF, ponje, t0),\n",
       " (WF, ponje, t0),\n",
       " (LiR, WF, cacoda, t0),\n",
       " (LiR, WF, madgaon, t0),\n",
       " (LiR, WF, ponje, t0),\n",
       " (gwp, WF, cacoda, t0),\n",
       " (gwp, WF, madgaon, t0),\n",
       " (gwp, WF, ponje, t0),\n",
       " (odp, WF, cacoda, t0),\n",
       " (odp, WF, madgaon, t0),\n",
       " (odp, WF, ponje, t0),\n",
       " (csh, WF, cacoda, t0),\n",
       " (csh, WF, cacoda, t0),\n",
       " (csh, WF, madgaon, t0),\n",
       " (csh, WF, madgaon, t0),\n",
       " (csh, WF, ponje, t0),\n",
       " (csh, WF, ponje, t0),\n",
       " (PV, net, t0),\n",
       " (csh, PV, cacoda, t0),\n",
       " (PV, cacoda, t0),\n",
       " (csh, PV, madgaon, t0),\n",
       " (PV, madgaon, t0),\n",
       " (csh, PV, ponje, t0),\n",
       " (PV, ponje, t0),\n",
       " (csh, PV, cacoda, t0),\n",
       " (csh, PV, madgaon, t0),\n",
       " (csh, PV, ponje, t0),\n",
       " (csh, Power, PV, cacoda, t0),\n",
       " (Power, PV, cacoda, t0),\n",
       " (csh, Power, PV, madgaon, t0),\n",
       " (Power, PV, madgaon, t0),\n",
       " (csh, Power, PV, ponje, t0),\n",
       " (Power, PV, ponje, t0),\n",
       " (csh, Power, PV, cacoda, t0),\n",
       " (csh, Power, PV, madgaon, t0),\n",
       " (csh, Power, PV, ponje, t0),\n",
       " (SMRH, net, t0),\n",
       " (SMRH, net, t0),\n",
       " (lnd_def, SMRH, cacoda, t0),\n",
       " (SMRH, cacoda, t0),\n",
       " (lnd_def, SMRH, madgaon, t0),\n",
       " (SMRH, madgaon, t0),\n",
       " (lnd_def, SMRH, ponje, t0),\n",
       " (SMRH, ponje, t0),\n",
       " (csh, SMRH, cacoda, t0),\n",
       " (csh, SMRH, madgaon, t0),\n",
       " (csh, SMRH, ponje, t0),\n",
       " (csh, SMRH, cacoda, t0),\n",
       " (csh, SMRH, cacoda, t0),\n",
       " (csh, SMRH, madgaon, t0),\n",
       " (csh, SMRH, madgaon, t0),\n",
       " (csh, SMRH, ponje, t0),\n",
       " (csh, SMRH, ponje, t0),\n",
       " (NGCC, net, t0),\n",
       " (NGCC, net, t0),\n",
       " (csh, NGCC, cacoda, t0),\n",
       " (NGCC, cacoda, t0),\n",
       " (csh, NGCC, madgaon, t0),\n",
       " (NGCC, madgaon, t0),\n",
       " (csh, NGCC, ponje, t0),\n",
       " (NGCC, ponje, t0),\n",
       " (csh, NGCC, cacoda, t0),\n",
       " (csh, NGCC, cacoda, t0),\n",
       " (csh, NGCC, madgaon, t0),\n",
       " (csh, NGCC, madgaon, t0),\n",
       " (csh, NGCC, ponje, t0),\n",
       " (csh, NGCC, ponje, t0),\n",
       " (csh, CH4, NGCC, cacoda, t0),\n",
       " (CH4, NGCC, cacoda, t0),\n",
       " (csh, CH4, NGCC, madgaon, t0),\n",
       " (CH4, NGCC, madgaon, t0),\n",
       " (csh, CH4, NGCC, ponje, t0),\n",
       " (CH4, NGCC, ponje, t0),\n",
       " (csh, H2O, NGCC, cacoda, t0),\n",
       " (H2O, NGCC, cacoda, t0),\n",
       " (csh, H2O, NGCC, madgaon, t0),\n",
       " (H2O, NGCC, madgaon, t0),\n",
       " (csh, H2O, NGCC, ponje, t0),\n",
       " (H2O, NGCC, ponje, t0),\n",
       " (SMR, net, t0),\n",
       " (csh, SMR, cacoda, t0),\n",
       " (SMR, cacoda, t0),\n",
       " (csh, SMR, madgaon, t0),\n",
       " (SMR, madgaon, t0),\n",
       " (csh, SMR, ponje, t0),\n",
       " (SMR, ponje, t0),\n",
       " (csh, SMR, cacoda, t0),\n",
       " (csh, SMR, cacoda, t0),\n",
       " (csh, SMR, madgaon, t0),\n",
       " (csh, SMR, madgaon, t0),\n",
       " (csh, SMR, ponje, t0),\n",
       " (csh, SMR, ponje, t0),\n",
       " (H2FC, net, t0),\n",
       " (H2FC, net, t0),\n",
       " (csh, H2FC, cacoda, t0),\n",
       " (H2FC, cacoda, t0),\n",
       " (csh, H2FC, madgaon, t0),\n",
       " (H2FC, madgaon, t0),\n",
       " (csh, H2FC, ponje, t0),\n",
       " (H2FC, ponje, t0),\n",
       " (csh, H2FC, cacoda, t0),\n",
       " (csh, H2FC, madgaon, t0),\n",
       " (csh, H2FC, ponje, t0),\n",
       " (csh, H2, H2FC, cacoda, t0),\n",
       " (H2, H2FC, cacoda, t0),\n",
       " (csh, H2, H2FC, madgaon, t0),\n",
       " (H2, H2FC, madgaon, t0),\n",
       " (csh, H2, H2FC, ponje, t0),\n",
       " (H2, H2FC, ponje, t0),\n",
       " (Power, H2FC, net, t0),\n",
       " (DAC, net, t0),\n",
       " (csh, DAC, cacoda, t0),\n",
       " (DAC, cacoda, t0),\n",
       " (csh, DAC, madgaon, t0),\n",
       " (DAC, madgaon, t0),\n",
       " (csh, DAC, ponje, t0),\n",
       " (DAC, ponje, t0),\n",
       " (csh, DAC, cacoda, t0),\n",
       " (csh, DAC, madgaon, t0),\n",
       " (csh, DAC, ponje, t0),\n",
       " (ASMR, net, t0),\n",
       " (csh, ASMR, cacoda, t0),\n",
       " (ASMR, cacoda, t0),\n",
       " (csh, ASMR, madgaon, t0),\n",
       " (ASMR, madgaon, t0),\n",
       " (csh, ASMR, ponje, t0),\n",
       " (ASMR, ponje, t0),\n",
       " (csh, ASMR, cacoda, t0),\n",
       " (csh, ASMR, madgaon, t0),\n",
       " (csh, ASMR, ponje, t0),\n",
       " (Uranium, ASMR, net, t0),\n",
       " (AWE, net, t0),\n",
       " (AWE, net, t0),\n",
       " (lnd_def, AWE, cacoda, t0),\n",
       " (AWE, cacoda, t0),\n",
       " (lnd_def, AWE, madgaon, t0),\n",
       " (AWE, madgaon, t0),\n",
       " (lnd_def, AWE, ponje, t0),\n",
       " (AWE, ponje, t0),\n",
       " (csh, AWE, cacoda, t0),\n",
       " (csh, AWE, cacoda, t0),\n",
       " (csh, AWE, madgaon, t0),\n",
       " (csh, AWE, madgaon, t0),\n",
       " (csh, AWE, ponje, t0),\n",
       " (csh, AWE, ponje, t0),\n",
       " (csh, AWE, cacoda, t0),\n",
       " (csh, AWE, madgaon, t0),\n",
       " (csh, AWE, ponje, t0),\n",
       " (LiI, net, t0),\n",
       " (LiI, net, t0),\n",
       " (LiI_in, net, t0),\n",
       " (LiI_in, net, t0),\n",
       " (LiI_out, net, t0),\n",
       " (LiI_out, net, t0),\n",
       " (LiI2, net, t0),\n",
       " (LiI2, net, t0),\n",
       " (H2Stg, net, t0),\n",
       " (H2Stg, net, t0),\n",
       " (csh, ponje, t1),\n",
       " (csh, cacoda, t1),\n",
       " (Wind, net, t1),\n",
       " (Power, net, t1),\n",
       " (Power, net, t1),\n",
       " (csh, WF, madgaon, t1),\n",
       " (WF, madgaon, t1),\n",
       " (csh, WF, madgaon, t1),\n",
       " (csh, net, t2),\n",
       " (csh, net, t2),\n",
       " (csh, H2, ponje, t2),\n",
       " (H2, ponje, t2),\n",
       " (Uranium, net, t2),\n",
       " (csh, H2O, cacoda, t2),\n",
       " (H2O, cacoda, t2),\n",
       " (csh, H2O, madgaon, t2),\n",
       " (H2O, madgaon, t2),\n",
       " (csh, H2O, ponje, t2),\n",
       " (H2O, ponje, t2),\n",
       " (gwp, CO2_Vent, cacoda, t2),\n",
       " (CO2_Vent, cacoda, t2),\n",
       " (gwp, CO2_Vent, madgaon, t2),\n",
       " (CO2_Vent, madgaon, t2),\n",
       " (gwp, CO2_Vent, ponje, t2),\n",
       " (CO2_Vent, ponje, t2)]"
      ]
     },
     "execution_count": 24,
     "metadata": {},
     "output_type": "execute_result"
    }
   ],
   "source": [
    "s.program.dispositions"
   ]
  },
  {
   "cell_type": "code",
   "execution_count": 25,
   "metadata": {},
   "outputs": [
    {
     "data": {
      "text/plain": [
       "[buy[CH4, NGCC, cacoda, t0],\n",
       " buy[CH4, NGCC, madgaon, t0],\n",
       " buy[CH4, NGCC, ponje, t0],\n",
       " buy[CH4, cacoda, t0],\n",
       " buy[CH4, madgaon, t0],\n",
       " buy[CH4, net, t0],\n",
       " buy[CH4, net, t0],\n",
       " buy[CH4, ponje, t0],\n",
       " buy[H2, H2FC, cacoda, t0],\n",
       " buy[H2, H2FC, madgaon, t0],\n",
       " buy[H2, H2FC, ponje, t0],\n",
       " buy[H2O, NGCC, cacoda, t0],\n",
       " buy[H2O, NGCC, madgaon, t0],\n",
       " buy[H2O, NGCC, ponje, t0],\n",
       " buy[H2O, cacoda, t2],\n",
       " buy[H2O, madgaon, t2],\n",
       " buy[H2O, net, t0],\n",
       " buy[H2O, ponje, t2],\n",
       " buy[Power, net, t1],\n",
       " buy[Power, net, t1],\n",
       " buy[Solar, net, t0],\n",
       " buy[Solar, net, t0],\n",
       " buy[Uranium, ASMR, net, t0],\n",
       " buy[Uranium, cacoda, t0],\n",
       " buy[Uranium, madgaon, t0],\n",
       " buy[Uranium, net, t2],\n",
       " buy[Uranium, ponje, t0],\n",
       " buy[Wind, net, t1],\n",
       " capacity[ASMR, cacoda, t0],\n",
       " capacity[ASMR, madgaon, t0],\n",
       " capacity[ASMR, net, t0],\n",
       " capacity[ASMR, ponje, t0],\n",
       " capacity[AWE, cacoda, t0],\n",
       " capacity[AWE, madgaon, t0],\n",
       " capacity[AWE, net, t0],\n",
       " capacity[AWE, net, t0],\n",
       " capacity[AWE, ponje, t0],\n",
       " capacity[DAC, cacoda, t0],\n",
       " capacity[DAC, madgaon, t0],\n",
       " capacity[DAC, net, t0],\n",
       " capacity[DAC, ponje, t0],\n",
       " capacity[H2FC, cacoda, t0],\n",
       " capacity[H2FC, madgaon, t0],\n",
       " capacity[H2FC, net, t0],\n",
       " capacity[H2FC, net, t0],\n",
       " capacity[H2FC, ponje, t0],\n",
       " capacity[H2Stg, net, t0],\n",
       " capacity[H2Stg, net, t0],\n",
       " capacity[LiI, net, t0],\n",
       " capacity[LiI, net, t0],\n",
       " capacity[LiI2, net, t0],\n",
       " capacity[LiI2, net, t0],\n",
       " capacity[LiI_in, net, t0],\n",
       " capacity[LiI_in, net, t0],\n",
       " capacity[LiI_out, net, t0],\n",
       " capacity[LiI_out, net, t0],\n",
       " capacity[NGCC, cacoda, t0],\n",
       " capacity[NGCC, madgaon, t0],\n",
       " capacity[NGCC, net, t0],\n",
       " capacity[NGCC, net, t0],\n",
       " capacity[NGCC, ponje, t0],\n",
       " capacity[PV, cacoda, t0],\n",
       " capacity[PV, madgaon, t0],\n",
       " capacity[PV, net, t0],\n",
       " capacity[PV, ponje, t0],\n",
       " capacity[SMR, cacoda, t0],\n",
       " capacity[SMR, madgaon, t0],\n",
       " capacity[SMR, net, t0],\n",
       " capacity[SMR, ponje, t0],\n",
       " capacity[SMRH, cacoda, t0],\n",
       " capacity[SMRH, madgaon, t0],\n",
       " capacity[SMRH, net, t0],\n",
       " capacity[SMRH, net, t0],\n",
       " capacity[SMRH, ponje, t0],\n",
       " capacity[WF, cacoda, t0],\n",
       " capacity[WF, madgaon, t0],\n",
       " capacity[WF, madgaon, t1],\n",
       " capacity[WF, net, t0],\n",
       " capacity[WF, ponje, t0],\n",
       " capex[csh, ASMR, cacoda, t0],\n",
       " capex[csh, ASMR, madgaon, t0],\n",
       " capex[csh, ASMR, ponje, t0],\n",
       " capex[csh, AWE, cacoda, t0],\n",
       " capex[csh, AWE, madgaon, t0],\n",
       " capex[csh, AWE, ponje, t0],\n",
       " capex[csh, DAC, cacoda, t0],\n",
       " capex[csh, DAC, madgaon, t0],\n",
       " capex[csh, DAC, ponje, t0],\n",
       " capex[csh, H2FC, cacoda, t0],\n",
       " capex[csh, H2FC, madgaon, t0],\n",
       " capex[csh, H2FC, ponje, t0],\n",
       " capex[csh, NGCC, cacoda, t0],\n",
       " capex[csh, NGCC, madgaon, t0],\n",
       " capex[csh, NGCC, ponje, t0],\n",
       " capex[csh, PV, cacoda, t0],\n",
       " capex[csh, PV, madgaon, t0],\n",
       " capex[csh, PV, ponje, t0],\n",
       " capex[csh, SMR, cacoda, t0],\n",
       " capex[csh, SMR, madgaon, t0],\n",
       " capex[csh, SMR, ponje, t0],\n",
       " capex[csh, SMRH, cacoda, t0],\n",
       " capex[csh, SMRH, madgaon, t0],\n",
       " capex[csh, SMRH, ponje, t0],\n",
       " capex[csh, WF, madgaon, t1],\n",
       " capex^I[csh, AWE, cacoda, t0],\n",
       " capex^I[csh, AWE, madgaon, t0],\n",
       " capex^I[csh, AWE, ponje, t0],\n",
       " capex^I[csh, WF, madgaon, t1],\n",
       " credit[csh, Power, PV, cacoda, t0],\n",
       " credit[csh, Power, PV, madgaon, t0],\n",
       " credit[csh, Power, PV, ponje, t0],\n",
       " emit^sell[gwp, CO2_Vent, cacoda, t2],\n",
       " emit^sell[gwp, CO2_Vent, madgaon, t2],\n",
       " emit^sell[gwp, CO2_Vent, ponje, t2],\n",
       " emit^setup[gwp, WF, cacoda, t0],\n",
       " emit^setup[gwp, WF, madgaon, t0],\n",
       " emit^setup[gwp, WF, ponje, t0],\n",
       " emit^setup[odp, WF, cacoda, t0],\n",
       " emit^setup[odp, WF, madgaon, t0],\n",
       " emit^setup[odp, WF, ponje, t0],\n",
       " emit^use[gwp, LiR, cacoda, t0],\n",
       " emit^use[gwp, LiR, madgaon, t0],\n",
       " emit^use[gwp, LiR, ponje, t0],\n",
       " exp^buy[csh, CH4, NGCC, cacoda, t0],\n",
       " exp^buy[csh, CH4, NGCC, madgaon, t0],\n",
       " exp^buy[csh, CH4, NGCC, ponje, t0],\n",
       " exp^buy[csh, CH4, cacoda, t0],\n",
       " exp^buy[csh, CH4, madgaon, t0],\n",
       " exp^buy[csh, CH4, ponje, t0],\n",
       " exp^buy[csh, H2, H2FC, cacoda, t0],\n",
       " exp^buy[csh, H2, H2FC, madgaon, t0],\n",
       " exp^buy[csh, H2, H2FC, ponje, t0],\n",
       " exp^buy[csh, H2O, NGCC, cacoda, t0],\n",
       " exp^buy[csh, H2O, NGCC, madgaon, t0],\n",
       " exp^buy[csh, H2O, NGCC, ponje, t0],\n",
       " exp^buy[csh, H2O, cacoda, t2],\n",
       " exp^buy[csh, H2O, madgaon, t2],\n",
       " exp^buy[csh, H2O, ponje, t2],\n",
       " exp^buy[csh, Uranium, cacoda, t0],\n",
       " exp^buy[csh, Uranium, madgaon, t0],\n",
       " exp^buy[csh, Uranium, ponje, t0],\n",
       " exp^sell[csh, CO2_Vent, cacoda, t0],\n",
       " exp^sell[csh, CO2_Vent, madgaon, t0],\n",
       " exp^sell[csh, CO2_Vent, ponje, t0],\n",
       " exp^sell[csh, H2, cacoda, t0],\n",
       " exp^sell[csh, H2, madgaon, t0],\n",
       " exp^sell[csh, H2, madgaon, t0],\n",
       " exp^sell[csh, H2, ponje, t2],\n",
       " exp^sell[csh, Power, PV, cacoda, t0],\n",
       " exp^sell[csh, Power, PV, madgaon, t0],\n",
       " exp^sell[csh, Power, PV, ponje, t0],\n",
       " operate[DAC, cacoda, t0],\n",
       " operate[DAC, madgaon, t0],\n",
       " operate[DAC, ponje, t0],\n",
       " operate[H2FC, cacoda, t0],\n",
       " operate[H2FC, madgaon, t0],\n",
       " operate[H2FC, ponje, t0],\n",
       " operate[NGCC, cacoda, t0],\n",
       " operate[NGCC, madgaon, t0],\n",
       " operate[NGCC, ponje, t0],\n",
       " operate[PV, cacoda, t0],\n",
       " operate[PV, madgaon, t0],\n",
       " operate[PV, ponje, t0],\n",
       " operate[SMR, cacoda, t0],\n",
       " operate[SMR, madgaon, t0],\n",
       " operate[SMR, ponje, t0],\n",
       " operate[SMRH, cacoda, t0],\n",
       " operate[SMRH, madgaon, t0],\n",
       " operate[SMRH, ponje, t0],\n",
       " operate[WF, cacoda, t0],\n",
       " operate[WF, madgaon, t0],\n",
       " operate[WF, net, t0],\n",
       " operate[WF, net, t0],\n",
       " operate[WF, ponje, t0],\n",
       " opex[csh, DAC, cacoda, t0],\n",
       " opex[csh, DAC, madgaon, t0],\n",
       " opex[csh, DAC, ponje, t0],\n",
       " opex[csh, H2FC, cacoda, t0],\n",
       " opex[csh, H2FC, madgaon, t0],\n",
       " opex[csh, H2FC, ponje, t0],\n",
       " opex[csh, NGCC, cacoda, t0],\n",
       " opex[csh, NGCC, madgaon, t0],\n",
       " opex[csh, NGCC, ponje, t0],\n",
       " opex[csh, PV, cacoda, t0],\n",
       " opex[csh, PV, madgaon, t0],\n",
       " opex[csh, PV, ponje, t0],\n",
       " opex[csh, SMR, cacoda, t0],\n",
       " opex[csh, SMR, madgaon, t0],\n",
       " opex[csh, SMR, ponje, t0],\n",
       " opex[csh, SMRH, cacoda, t0],\n",
       " opex[csh, SMRH, madgaon, t0],\n",
       " opex[csh, SMRH, ponje, t0],\n",
       " opex[csh, WF, cacoda, t0],\n",
       " opex[csh, WF, madgaon, t0],\n",
       " opex[csh, WF, ponje, t0],\n",
       " opex^I[csh, ASMR, cacoda, t0],\n",
       " opex^I[csh, ASMR, madgaon, t0],\n",
       " opex^I[csh, ASMR, ponje, t0],\n",
       " opex^I[csh, AWE, cacoda, t0],\n",
       " opex^I[csh, AWE, madgaon, t0],\n",
       " opex^I[csh, AWE, ponje, t0],\n",
       " opex^I[csh, NGCC, cacoda, t0],\n",
       " opex^I[csh, NGCC, madgaon, t0],\n",
       " opex^I[csh, NGCC, ponje, t0],\n",
       " opex^I[csh, SMR, cacoda, t0],\n",
       " opex^I[csh, SMR, madgaon, t0],\n",
       " opex^I[csh, SMR, ponje, t0],\n",
       " opex^I[csh, SMRH, cacoda, t0],\n",
       " opex^I[csh, SMRH, madgaon, t0],\n",
       " opex^I[csh, SMRH, ponje, t0],\n",
       " opex^I[csh, WF, cacoda, t0],\n",
       " opex^I[csh, WF, madgaon, t0],\n",
       " opex^I[csh, WF, ponje, t0],\n",
       " sell[CO2_Vent, cacoda, t0],\n",
       " sell[CO2_Vent, cacoda, t2],\n",
       " sell[CO2_Vent, madgaon, t0],\n",
       " sell[CO2_Vent, madgaon, t2],\n",
       " sell[CO2_Vent, ponje, t0],\n",
       " sell[CO2_Vent, ponje, t2],\n",
       " sell[H2, cacoda, t0],\n",
       " sell[H2, madgaon, t0],\n",
       " sell[H2, ponje, t2],\n",
       " sell[O2, net, t0],\n",
       " sell[O2, net, t0],\n",
       " sell[Power, H2FC, net, t0],\n",
       " sell[Power, PV, cacoda, t0],\n",
       " sell[Power, PV, madgaon, t0],\n",
       " sell[Power, PV, ponje, t0],\n",
       " spend[csh, cacoda, t1],\n",
       " spend[csh, madgaon, t0],\n",
       " spend[csh, madgaon, t0],\n",
       " spend[csh, net, t2],\n",
       " spend[csh, net, t2],\n",
       " spend[csh, ponje, t1],\n",
       " use[LiR, cacoda, t0],\n",
       " use[LiR, madgaon, t0],\n",
       " use[LiR, ponje, t0],\n",
       " use^setup[LiR, WF, cacoda, t0],\n",
       " use^setup[LiR, WF, madgaon, t0],\n",
       " use^setup[LiR, WF, ponje, t0],\n",
       " use^setup[lnd_def, AWE, cacoda, t0],\n",
       " use^setup[lnd_def, AWE, madgaon, t0],\n",
       " use^setup[lnd_def, AWE, ponje, t0],\n",
       " use^setup[lnd_def, SMRH, cacoda, t0],\n",
       " use^setup[lnd_def, SMRH, madgaon, t0],\n",
       " use^setup[lnd_def, SMRH, ponje, t0],\n",
       " use^setup[lnd_def, WF, cacoda, t0],\n",
       " use^setup[lnd_def, WF, madgaon, t0],\n",
       " use^setup[lnd_def, WF, ponje, t0]]"
      ]
     },
     "execution_count": 25,
     "metadata": {},
     "output_type": "execute_result"
    }
   ],
   "source": [
    "s.program.variables"
   ]
  },
  {
   "cell_type": "code",
   "execution_count": 26,
   "metadata": {},
   "outputs": [
    {
     "data": {
      "text/plain": [
       "{'name': 'ChitraGupta|:s:|',\n",
       " 'rulebook': RuleBook(name='RuleBook'),\n",
       " 'Buy': [(Solar, net, t0),\n",
       "  (Solar, net, t0),\n",
       "  (Wind, net, t1),\n",
       "  (Uranium, net, t2),\n",
       "  (Uranium, cacoda, t0),\n",
       "  (Uranium, madgaon, t0),\n",
       "  (Uranium, ponje, t0),\n",
       "  (H2O, net, t0),\n",
       "  (H2O, cacoda, t2),\n",
       "  (H2O, madgaon, t2),\n",
       "  (H2O, ponje, t2),\n",
       "  (CH4, net, t0),\n",
       "  (CH4, net, t0),\n",
       "  (CH4, cacoda, t0),\n",
       "  (CH4, madgaon, t0),\n",
       "  (CH4, ponje, t0),\n",
       "  (Power, net, t1),\n",
       "  (Power, net, t1),\n",
       "  (CH4, NGCC, cacoda, t0),\n",
       "  (CH4, NGCC, madgaon, t0),\n",
       "  (CH4, NGCC, ponje, t0),\n",
       "  (H2O, NGCC, cacoda, t0),\n",
       "  (H2O, NGCC, madgaon, t0),\n",
       "  (H2O, NGCC, ponje, t0),\n",
       "  (H2, H2FC, cacoda, t0),\n",
       "  (H2, H2FC, madgaon, t0),\n",
       "  (H2, H2FC, ponje, t0),\n",
       "  (Uranium, ASMR, net, t0)],\n",
       " 'Capacity': [(WF, net, t0),\n",
       "  (WF, cacoda, t0),\n",
       "  (WF, madgaon, t0),\n",
       "  (WF, ponje, t0),\n",
       "  (WF, madgaon, t1),\n",
       "  (PV, net, t0),\n",
       "  (PV, cacoda, t0),\n",
       "  (PV, madgaon, t0),\n",
       "  (PV, ponje, t0),\n",
       "  (SMRH, net, t0),\n",
       "  (SMRH, net, t0),\n",
       "  (SMRH, cacoda, t0),\n",
       "  (SMRH, madgaon, t0),\n",
       "  (SMRH, ponje, t0),\n",
       "  (NGCC, net, t0),\n",
       "  (NGCC, net, t0),\n",
       "  (NGCC, cacoda, t0),\n",
       "  (NGCC, madgaon, t0),\n",
       "  (NGCC, ponje, t0),\n",
       "  (SMR, net, t0),\n",
       "  (SMR, cacoda, t0),\n",
       "  (SMR, madgaon, t0),\n",
       "  (SMR, ponje, t0),\n",
       "  (H2FC, net, t0),\n",
       "  (H2FC, net, t0),\n",
       "  (H2FC, cacoda, t0),\n",
       "  (H2FC, madgaon, t0),\n",
       "  (H2FC, ponje, t0),\n",
       "  (DAC, net, t0),\n",
       "  (DAC, cacoda, t0),\n",
       "  (DAC, madgaon, t0),\n",
       "  (DAC, ponje, t0),\n",
       "  (ASMR, net, t0),\n",
       "  (ASMR, cacoda, t0),\n",
       "  (ASMR, madgaon, t0),\n",
       "  (ASMR, ponje, t0),\n",
       "  (AWE, net, t0),\n",
       "  (AWE, net, t0),\n",
       "  (AWE, cacoda, t0),\n",
       "  (AWE, madgaon, t0),\n",
       "  (AWE, ponje, t0),\n",
       "  (LiI, net, t0),\n",
       "  (LiI, net, t0),\n",
       "  (LiI_in, net, t0),\n",
       "  (LiI_in, net, t0),\n",
       "  (LiI_out, net, t0),\n",
       "  (LiI_out, net, t0),\n",
       "  (LiI2, net, t0),\n",
       "  (LiI2, net, t0),\n",
       "  (H2Stg, net, t0),\n",
       "  (H2Stg, net, t0)],\n",
       " 'Credit': [(csh, Power, PV, cacoda, t0),\n",
       "  (csh, Power, PV, madgaon, t0),\n",
       "  (csh, Power, PV, ponje, t0)],\n",
       " 'Earn': [],\n",
       " 'Emit': [],\n",
       " 'EmitBuy': [],\n",
       " 'EmitLoss': [],\n",
       " 'EmitSell': [(gwp, CO2_Vent, cacoda, t2),\n",
       "  (CO2_Vent, cacoda, t2),\n",
       "  (gwp, CO2_Vent, madgaon, t2),\n",
       "  (CO2_Vent, madgaon, t2),\n",
       "  (gwp, CO2_Vent, ponje, t2),\n",
       "  (CO2_Vent, ponje, t2)],\n",
       " 'EmitSetUp': [(gwp, WF, cacoda, t0),\n",
       "  (gwp, WF, madgaon, t0),\n",
       "  (gwp, WF, ponje, t0),\n",
       "  (odp, WF, cacoda, t0),\n",
       "  (odp, WF, madgaon, t0),\n",
       "  (odp, WF, ponje, t0)],\n",
       " 'EmitUse': [(gwp, LiR, cacoda, t0),\n",
       "  (LiR, cacoda, t0),\n",
       "  (gwp, LiR, madgaon, t0),\n",
       "  (LiR, madgaon, t0),\n",
       "  (gwp, LiR, ponje, t0)],\n",
       " 'ExpBuy': [(csh, Uranium, cacoda, t0),\n",
       "  (Uranium, cacoda, t0),\n",
       "  (csh, Uranium, madgaon, t0),\n",
       "  (Uranium, madgaon, t0),\n",
       "  (csh, Uranium, ponje, t0),\n",
       "  (Uranium, ponje, t0),\n",
       "  (csh, H2O, cacoda, t2),\n",
       "  (H2O, cacoda, t2),\n",
       "  (csh, H2O, madgaon, t2),\n",
       "  (H2O, madgaon, t2),\n",
       "  (csh, H2O, ponje, t2),\n",
       "  (H2O, ponje, t2),\n",
       "  (csh, CH4, cacoda, t0),\n",
       "  (CH4, cacoda, t0),\n",
       "  (csh, CH4, madgaon, t0),\n",
       "  (CH4, madgaon, t0),\n",
       "  (csh, CH4, ponje, t0),\n",
       "  (CH4, ponje, t0),\n",
       "  (csh, CH4, NGCC, cacoda, t0),\n",
       "  (CH4, NGCC, cacoda, t0),\n",
       "  (csh, CH4, NGCC, madgaon, t0),\n",
       "  (CH4, NGCC, madgaon, t0),\n",
       "  (csh, CH4, NGCC, ponje, t0),\n",
       "  (CH4, NGCC, ponje, t0),\n",
       "  (csh, H2O, NGCC, cacoda, t0),\n",
       "  (H2O, NGCC, cacoda, t0),\n",
       "  (csh, H2O, NGCC, madgaon, t0),\n",
       "  (H2O, NGCC, madgaon, t0),\n",
       "  (csh, H2O, NGCC, ponje, t0),\n",
       "  (H2O, NGCC, ponje, t0),\n",
       "  (csh, H2, H2FC, cacoda, t0),\n",
       "  (H2, H2FC, cacoda, t0),\n",
       "  (csh, H2, H2FC, madgaon, t0),\n",
       "  (H2, H2FC, madgaon, t0),\n",
       "  (csh, H2, H2FC, ponje, t0),\n",
       "  (H2, H2FC, ponje, t0)],\n",
       " 'ExpOpr': [(csh, WF, cacoda, t0),\n",
       "  (csh, WF, madgaon, t0),\n",
       "  (csh, WF, ponje, t0),\n",
       "  (csh, PV, cacoda, t0),\n",
       "  (csh, PV, madgaon, t0),\n",
       "  (csh, PV, ponje, t0),\n",
       "  (csh, SMRH, cacoda, t0),\n",
       "  (csh, SMRH, madgaon, t0),\n",
       "  (csh, SMRH, ponje, t0),\n",
       "  (csh, NGCC, cacoda, t0),\n",
       "  (csh, NGCC, madgaon, t0),\n",
       "  (csh, NGCC, ponje, t0),\n",
       "  (csh, SMR, cacoda, t0),\n",
       "  (csh, SMR, madgaon, t0),\n",
       "  (csh, SMR, ponje, t0),\n",
       "  (csh, H2FC, cacoda, t0),\n",
       "  (csh, H2FC, madgaon, t0),\n",
       "  (csh, H2FC, ponje, t0),\n",
       "  (csh, DAC, cacoda, t0),\n",
       "  (csh, DAC, madgaon, t0),\n",
       "  (csh, DAC, ponje, t0)],\n",
       " 'ExpOprI': [(csh, WF, cacoda, t0),\n",
       "  (csh, WF, madgaon, t0),\n",
       "  (csh, WF, ponje, t0),\n",
       "  (csh, SMRH, cacoda, t0),\n",
       "  (csh, SMRH, madgaon, t0),\n",
       "  (csh, SMRH, ponje, t0),\n",
       "  (csh, NGCC, cacoda, t0),\n",
       "  (csh, NGCC, madgaon, t0),\n",
       "  (csh, NGCC, ponje, t0),\n",
       "  (csh, SMR, cacoda, t0),\n",
       "  (csh, SMR, madgaon, t0),\n",
       "  (csh, SMR, ponje, t0),\n",
       "  (csh, ASMR, cacoda, t0),\n",
       "  (csh, ASMR, madgaon, t0),\n",
       "  (csh, ASMR, ponje, t0),\n",
       "  (csh, AWE, cacoda, t0),\n",
       "  (csh, AWE, madgaon, t0),\n",
       "  (csh, AWE, ponje, t0)],\n",
       " 'ExpSell': [(csh, H2, cacoda, t0),\n",
       "  (H2, cacoda, t0),\n",
       "  (csh, H2, madgaon, t0),\n",
       "  (H2, madgaon, t0),\n",
       "  (csh, H2, madgaon, t0),\n",
       "  (csh, H2, ponje, t2),\n",
       "  (H2, ponje, t2),\n",
       "  (csh, CO2_Vent, cacoda, t0),\n",
       "  (CO2_Vent, cacoda, t0),\n",
       "  (csh, CO2_Vent, madgaon, t0),\n",
       "  (CO2_Vent, madgaon, t0),\n",
       "  (csh, CO2_Vent, ponje, t0),\n",
       "  (CO2_Vent, ponje, t0),\n",
       "  (csh, Power, PV, cacoda, t0),\n",
       "  (Power, PV, cacoda, t0),\n",
       "  (csh, Power, PV, madgaon, t0),\n",
       "  (Power, PV, madgaon, t0),\n",
       "  (csh, Power, PV, ponje, t0),\n",
       "  (Power, PV, ponje, t0)],\n",
       " 'ExpSetUp': [(csh, WF, madgaon, t1),\n",
       "  (WF, madgaon, t1),\n",
       "  (csh, PV, cacoda, t0),\n",
       "  (PV, cacoda, t0),\n",
       "  (csh, PV, madgaon, t0),\n",
       "  (PV, madgaon, t0),\n",
       "  (csh, PV, ponje, t0),\n",
       "  (PV, ponje, t0),\n",
       "  (csh, SMRH, cacoda, t0),\n",
       "  (csh, SMRH, madgaon, t0),\n",
       "  (csh, SMRH, ponje, t0),\n",
       "  (csh, NGCC, cacoda, t0),\n",
       "  (NGCC, cacoda, t0),\n",
       "  (csh, NGCC, madgaon, t0),\n",
       "  (NGCC, madgaon, t0),\n",
       "  (csh, NGCC, ponje, t0),\n",
       "  (NGCC, ponje, t0),\n",
       "  (csh, SMR, cacoda, t0),\n",
       "  (SMR, cacoda, t0),\n",
       "  (csh, SMR, madgaon, t0),\n",
       "  (SMR, madgaon, t0),\n",
       "  (csh, SMR, ponje, t0),\n",
       "  (SMR, ponje, t0),\n",
       "  (csh, H2FC, cacoda, t0),\n",
       "  (H2FC, cacoda, t0),\n",
       "  (csh, H2FC, madgaon, t0),\n",
       "  (H2FC, madgaon, t0),\n",
       "  (csh, H2FC, ponje, t0),\n",
       "  (H2FC, ponje, t0),\n",
       "  (csh, DAC, cacoda, t0),\n",
       "  (DAC, cacoda, t0),\n",
       "  (csh, DAC, madgaon, t0),\n",
       "  (DAC, madgaon, t0),\n",
       "  (csh, DAC, ponje, t0),\n",
       "  (DAC, ponje, t0),\n",
       "  (csh, ASMR, cacoda, t0),\n",
       "  (ASMR, cacoda, t0),\n",
       "  (csh, ASMR, madgaon, t0),\n",
       "  (ASMR, madgaon, t0),\n",
       "  (csh, ASMR, ponje, t0),\n",
       "  (ASMR, ponje, t0),\n",
       "  (csh, AWE, cacoda, t0),\n",
       "  (csh, AWE, madgaon, t0),\n",
       "  (csh, AWE, ponje, t0)],\n",
       " 'ExpSetUpI': [(csh, WF, madgaon, t1),\n",
       "  (csh, AWE, cacoda, t0),\n",
       "  (csh, AWE, madgaon, t0),\n",
       "  (csh, AWE, ponje, t0)],\n",
       " 'ExpUseSetUp': [],\n",
       " 'Give': [],\n",
       " 'Loss': [],\n",
       " 'Operate': [(WF, net, t0),\n",
       "  (WF, net, t0),\n",
       "  (WF, cacoda, t0),\n",
       "  (WF, madgaon, t0),\n",
       "  (WF, ponje, t0),\n",
       "  (PV, cacoda, t0),\n",
       "  (PV, madgaon, t0),\n",
       "  (PV, ponje, t0),\n",
       "  (SMRH, cacoda, t0),\n",
       "  (SMRH, madgaon, t0),\n",
       "  (SMRH, ponje, t0),\n",
       "  (NGCC, cacoda, t0),\n",
       "  (NGCC, madgaon, t0),\n",
       "  (NGCC, ponje, t0),\n",
       "  (SMR, cacoda, t0),\n",
       "  (SMR, madgaon, t0),\n",
       "  (SMR, ponje, t0),\n",
       "  (H2FC, cacoda, t0),\n",
       "  (H2FC, madgaon, t0),\n",
       "  (H2FC, ponje, t0),\n",
       "  (DAC, cacoda, t0),\n",
       "  (DAC, madgaon, t0),\n",
       "  (DAC, ponje, t0)],\n",
       " 'Penalty': [],\n",
       " 'Sell': [(H2, cacoda, t0),\n",
       "  (H2, madgaon, t0),\n",
       "  (H2, ponje, t2),\n",
       "  (CO2_Vent, cacoda, t0),\n",
       "  (CO2_Vent, madgaon, t0),\n",
       "  (CO2_Vent, ponje, t0),\n",
       "  (CO2_Vent, cacoda, t2),\n",
       "  (CO2_Vent, madgaon, t2),\n",
       "  (CO2_Vent, ponje, t2),\n",
       "  (O2, net, t0),\n",
       "  (O2, net, t0),\n",
       "  (Power, PV, cacoda, t0),\n",
       "  (Power, PV, madgaon, t0),\n",
       "  (Power, PV, ponje, t0),\n",
       "  (Power, H2FC, net, t0)],\n",
       " 'Ship': [],\n",
       " 'Spend': [(csh, madgaon, t0),\n",
       "  (csh, madgaon, t0),\n",
       "  (csh, ponje, t1),\n",
       "  (csh, cacoda, t1),\n",
       "  (csh, net, t2),\n",
       "  (csh, net, t2)],\n",
       " 'Take': [],\n",
       " 'Use': [(LiR, ponje, t0), (LiR, cacoda, t0), (LiR, madgaon, t0)],\n",
       " 'UseSetUp': [(lnd_def, WF, cacoda, t0),\n",
       "  (WF, cacoda, t0),\n",
       "  (lnd_def, WF, madgaon, t0),\n",
       "  (WF, madgaon, t0),\n",
       "  (lnd_def, WF, ponje, t0),\n",
       "  (WF, ponje, t0),\n",
       "  (LiR, WF, cacoda, t0),\n",
       "  (LiR, WF, madgaon, t0),\n",
       "  (LiR, WF, ponje, t0),\n",
       "  (lnd_def, SMRH, cacoda, t0),\n",
       "  (SMRH, cacoda, t0),\n",
       "  (lnd_def, SMRH, madgaon, t0),\n",
       "  (SMRH, madgaon, t0),\n",
       "  (lnd_def, SMRH, ponje, t0),\n",
       "  (SMRH, ponje, t0),\n",
       "  (lnd_def, AWE, cacoda, t0),\n",
       "  (AWE, cacoda, t0),\n",
       "  (lnd_def, AWE, madgaon, t0),\n",
       "  (AWE, madgaon, t0),\n",
       "  (lnd_def, AWE, ponje, t0),\n",
       "  (AWE, ponje, t0)],\n",
       " 'BuyBnd': [],\n",
       " 'BuyEmit': [],\n",
       " 'BuyPrice': [],\n",
       " 'CapBnd': [],\n",
       " 'CapExp': [],\n",
       " 'CapExpI': [],\n",
       " 'EarnBnd': [],\n",
       " 'EmitBnd': [],\n",
       " 'Has': [],\n",
       " 'LossEmit': [],\n",
       " 'Needs': [],\n",
       " 'OpExp': [],\n",
       " 'OpExpI': [],\n",
       " 'OprBnd': [],\n",
       " 'ResCredit': [],\n",
       " 'ResLoss': [],\n",
       " 'ResPenalty': [],\n",
       " 'SellBnd': [],\n",
       " 'SellEmit': [],\n",
       " 'SellPrice': [],\n",
       " 'SetUpEmit': [],\n",
       " 'ShipBnd': [],\n",
       " 'SpendBnd': [],\n",
       " 'Usage': [],\n",
       " 'UseBnd': [],\n",
       " 'UseEmit': [],\n",
       " 'UseExp': []}"
      ]
     },
     "execution_count": 26,
     "metadata": {},
     "output_type": "execute_result"
    }
   ],
   "source": [
    "s.registrar.__dict__"
   ]
  },
  {
   "cell_type": "code",
   "execution_count": 27,
   "metadata": {},
   "outputs": [
    {
     "data": {
      "text/plain": [
       "[buy[CH4, NGCC, cacoda, t0],\n",
       " buy[CH4, NGCC, madgaon, t0],\n",
       " buy[CH4, NGCC, ponje, t0],\n",
       " buy[CH4, cacoda, t0],\n",
       " buy[CH4, madgaon, t0],\n",
       " buy[CH4, net, t0],\n",
       " buy[CH4, net, t0],\n",
       " buy[CH4, ponje, t0],\n",
       " buy[H2, H2FC, cacoda, t0],\n",
       " buy[H2, H2FC, madgaon, t0],\n",
       " buy[H2, H2FC, ponje, t0],\n",
       " buy[H2O, NGCC, cacoda, t0],\n",
       " buy[H2O, NGCC, madgaon, t0],\n",
       " buy[H2O, NGCC, ponje, t0],\n",
       " buy[H2O, cacoda, t2],\n",
       " buy[H2O, madgaon, t2],\n",
       " buy[H2O, net, t0],\n",
       " buy[H2O, ponje, t2],\n",
       " buy[Power, net, t1],\n",
       " buy[Power, net, t1],\n",
       " buy[Solar, net, t0],\n",
       " buy[Solar, net, t0],\n",
       " buy[Uranium, ASMR, net, t0],\n",
       " buy[Uranium, cacoda, t0],\n",
       " buy[Uranium, madgaon, t0],\n",
       " buy[Uranium, net, t2],\n",
       " buy[Uranium, ponje, t0],\n",
       " buy[Wind, net, t1],\n",
       " capacity[ASMR, cacoda, t0],\n",
       " capacity[ASMR, madgaon, t0],\n",
       " capacity[ASMR, net, t0],\n",
       " capacity[ASMR, ponje, t0],\n",
       " capacity[AWE, cacoda, t0],\n",
       " capacity[AWE, madgaon, t0],\n",
       " capacity[AWE, net, t0],\n",
       " capacity[AWE, net, t0],\n",
       " capacity[AWE, ponje, t0],\n",
       " capacity[DAC, cacoda, t0],\n",
       " capacity[DAC, madgaon, t0],\n",
       " capacity[DAC, net, t0],\n",
       " capacity[DAC, ponje, t0],\n",
       " capacity[H2FC, cacoda, t0],\n",
       " capacity[H2FC, madgaon, t0],\n",
       " capacity[H2FC, net, t0],\n",
       " capacity[H2FC, net, t0],\n",
       " capacity[H2FC, ponje, t0],\n",
       " capacity[H2Stg, net, t0],\n",
       " capacity[H2Stg, net, t0],\n",
       " capacity[LiI, net, t0],\n",
       " capacity[LiI, net, t0],\n",
       " capacity[LiI2, net, t0],\n",
       " capacity[LiI2, net, t0],\n",
       " capacity[LiI_in, net, t0],\n",
       " capacity[LiI_in, net, t0],\n",
       " capacity[LiI_out, net, t0],\n",
       " capacity[LiI_out, net, t0],\n",
       " capacity[NGCC, cacoda, t0],\n",
       " capacity[NGCC, madgaon, t0],\n",
       " capacity[NGCC, net, t0],\n",
       " capacity[NGCC, net, t0],\n",
       " capacity[NGCC, ponje, t0],\n",
       " capacity[PV, cacoda, t0],\n",
       " capacity[PV, madgaon, t0],\n",
       " capacity[PV, net, t0],\n",
       " capacity[PV, ponje, t0],\n",
       " capacity[SMR, cacoda, t0],\n",
       " capacity[SMR, madgaon, t0],\n",
       " capacity[SMR, net, t0],\n",
       " capacity[SMR, ponje, t0],\n",
       " capacity[SMRH, cacoda, t0],\n",
       " capacity[SMRH, madgaon, t0],\n",
       " capacity[SMRH, net, t0],\n",
       " capacity[SMRH, net, t0],\n",
       " capacity[SMRH, ponje, t0],\n",
       " capacity[WF, cacoda, t0],\n",
       " capacity[WF, madgaon, t0],\n",
       " capacity[WF, madgaon, t1],\n",
       " capacity[WF, net, t0],\n",
       " capacity[WF, ponje, t0],\n",
       " capex[csh, ASMR, cacoda, t0],\n",
       " capex[csh, ASMR, madgaon, t0],\n",
       " capex[csh, ASMR, ponje, t0],\n",
       " capex[csh, AWE, cacoda, t0],\n",
       " capex[csh, AWE, madgaon, t0],\n",
       " capex[csh, AWE, ponje, t0],\n",
       " capex[csh, DAC, cacoda, t0],\n",
       " capex[csh, DAC, madgaon, t0],\n",
       " capex[csh, DAC, ponje, t0],\n",
       " capex[csh, H2FC, cacoda, t0],\n",
       " capex[csh, H2FC, madgaon, t0],\n",
       " capex[csh, H2FC, ponje, t0],\n",
       " capex[csh, NGCC, cacoda, t0],\n",
       " capex[csh, NGCC, madgaon, t0],\n",
       " capex[csh, NGCC, ponje, t0],\n",
       " capex[csh, PV, cacoda, t0],\n",
       " capex[csh, PV, madgaon, t0],\n",
       " capex[csh, PV, ponje, t0],\n",
       " capex[csh, SMR, cacoda, t0],\n",
       " capex[csh, SMR, madgaon, t0],\n",
       " capex[csh, SMR, ponje, t0],\n",
       " capex[csh, SMRH, cacoda, t0],\n",
       " capex[csh, SMRH, madgaon, t0],\n",
       " capex[csh, SMRH, ponje, t0],\n",
       " capex[csh, WF, madgaon, t1],\n",
       " capex^I[csh, AWE, cacoda, t0],\n",
       " capex^I[csh, AWE, madgaon, t0],\n",
       " capex^I[csh, AWE, ponje, t0],\n",
       " capex^I[csh, WF, madgaon, t1],\n",
       " credit[csh, Power, PV, cacoda, t0],\n",
       " credit[csh, Power, PV, madgaon, t0],\n",
       " credit[csh, Power, PV, ponje, t0],\n",
       " emit^sell[gwp, CO2_Vent, cacoda, t2],\n",
       " emit^sell[gwp, CO2_Vent, madgaon, t2],\n",
       " emit^sell[gwp, CO2_Vent, ponje, t2],\n",
       " emit^setup[gwp, WF, cacoda, t0],\n",
       " emit^setup[gwp, WF, madgaon, t0],\n",
       " emit^setup[gwp, WF, ponje, t0],\n",
       " emit^setup[odp, WF, cacoda, t0],\n",
       " emit^setup[odp, WF, madgaon, t0],\n",
       " emit^setup[odp, WF, ponje, t0],\n",
       " emit^use[gwp, LiR, cacoda, t0],\n",
       " emit^use[gwp, LiR, madgaon, t0],\n",
       " emit^use[gwp, LiR, ponje, t0],\n",
       " exp^buy[csh, CH4, NGCC, cacoda, t0],\n",
       " exp^buy[csh, CH4, NGCC, madgaon, t0],\n",
       " exp^buy[csh, CH4, NGCC, ponje, t0],\n",
       " exp^buy[csh, CH4, cacoda, t0],\n",
       " exp^buy[csh, CH4, madgaon, t0],\n",
       " exp^buy[csh, CH4, ponje, t0],\n",
       " exp^buy[csh, H2, H2FC, cacoda, t0],\n",
       " exp^buy[csh, H2, H2FC, madgaon, t0],\n",
       " exp^buy[csh, H2, H2FC, ponje, t0],\n",
       " exp^buy[csh, H2O, NGCC, cacoda, t0],\n",
       " exp^buy[csh, H2O, NGCC, madgaon, t0],\n",
       " exp^buy[csh, H2O, NGCC, ponje, t0],\n",
       " exp^buy[csh, H2O, cacoda, t2],\n",
       " exp^buy[csh, H2O, madgaon, t2],\n",
       " exp^buy[csh, H2O, ponje, t2],\n",
       " exp^buy[csh, Uranium, cacoda, t0],\n",
       " exp^buy[csh, Uranium, madgaon, t0],\n",
       " exp^buy[csh, Uranium, ponje, t0],\n",
       " exp^sell[csh, CO2_Vent, cacoda, t0],\n",
       " exp^sell[csh, CO2_Vent, madgaon, t0],\n",
       " exp^sell[csh, CO2_Vent, ponje, t0],\n",
       " exp^sell[csh, H2, cacoda, t0],\n",
       " exp^sell[csh, H2, madgaon, t0],\n",
       " exp^sell[csh, H2, madgaon, t0],\n",
       " exp^sell[csh, H2, ponje, t2],\n",
       " exp^sell[csh, Power, PV, cacoda, t0],\n",
       " exp^sell[csh, Power, PV, madgaon, t0],\n",
       " exp^sell[csh, Power, PV, ponje, t0],\n",
       " operate[DAC, cacoda, t0],\n",
       " operate[DAC, madgaon, t0],\n",
       " operate[DAC, ponje, t0],\n",
       " operate[H2FC, cacoda, t0],\n",
       " operate[H2FC, madgaon, t0],\n",
       " operate[H2FC, ponje, t0],\n",
       " operate[NGCC, cacoda, t0],\n",
       " operate[NGCC, madgaon, t0],\n",
       " operate[NGCC, ponje, t0],\n",
       " operate[PV, cacoda, t0],\n",
       " operate[PV, madgaon, t0],\n",
       " operate[PV, ponje, t0],\n",
       " operate[SMR, cacoda, t0],\n",
       " operate[SMR, madgaon, t0],\n",
       " operate[SMR, ponje, t0],\n",
       " operate[SMRH, cacoda, t0],\n",
       " operate[SMRH, madgaon, t0],\n",
       " operate[SMRH, ponje, t0],\n",
       " operate[WF, cacoda, t0],\n",
       " operate[WF, madgaon, t0],\n",
       " operate[WF, net, t0],\n",
       " operate[WF, net, t0],\n",
       " operate[WF, ponje, t0],\n",
       " opex[csh, DAC, cacoda, t0],\n",
       " opex[csh, DAC, madgaon, t0],\n",
       " opex[csh, DAC, ponje, t0],\n",
       " opex[csh, H2FC, cacoda, t0],\n",
       " opex[csh, H2FC, madgaon, t0],\n",
       " opex[csh, H2FC, ponje, t0],\n",
       " opex[csh, NGCC, cacoda, t0],\n",
       " opex[csh, NGCC, madgaon, t0],\n",
       " opex[csh, NGCC, ponje, t0],\n",
       " opex[csh, PV, cacoda, t0],\n",
       " opex[csh, PV, madgaon, t0],\n",
       " opex[csh, PV, ponje, t0],\n",
       " opex[csh, SMR, cacoda, t0],\n",
       " opex[csh, SMR, madgaon, t0],\n",
       " opex[csh, SMR, ponje, t0],\n",
       " opex[csh, SMRH, cacoda, t0],\n",
       " opex[csh, SMRH, madgaon, t0],\n",
       " opex[csh, SMRH, ponje, t0],\n",
       " opex[csh, WF, cacoda, t0],\n",
       " opex[csh, WF, madgaon, t0],\n",
       " opex[csh, WF, ponje, t0],\n",
       " opex^I[csh, ASMR, cacoda, t0],\n",
       " opex^I[csh, ASMR, madgaon, t0],\n",
       " opex^I[csh, ASMR, ponje, t0],\n",
       " opex^I[csh, AWE, cacoda, t0],\n",
       " opex^I[csh, AWE, madgaon, t0],\n",
       " opex^I[csh, AWE, ponje, t0],\n",
       " opex^I[csh, NGCC, cacoda, t0],\n",
       " opex^I[csh, NGCC, madgaon, t0],\n",
       " opex^I[csh, NGCC, ponje, t0],\n",
       " opex^I[csh, SMR, cacoda, t0],\n",
       " opex^I[csh, SMR, madgaon, t0],\n",
       " opex^I[csh, SMR, ponje, t0],\n",
       " opex^I[csh, SMRH, cacoda, t0],\n",
       " opex^I[csh, SMRH, madgaon, t0],\n",
       " opex^I[csh, SMRH, ponje, t0],\n",
       " opex^I[csh, WF, cacoda, t0],\n",
       " opex^I[csh, WF, madgaon, t0],\n",
       " opex^I[csh, WF, ponje, t0],\n",
       " sell[CO2_Vent, cacoda, t0],\n",
       " sell[CO2_Vent, cacoda, t2],\n",
       " sell[CO2_Vent, madgaon, t0],\n",
       " sell[CO2_Vent, madgaon, t2],\n",
       " sell[CO2_Vent, ponje, t0],\n",
       " sell[CO2_Vent, ponje, t2],\n",
       " sell[H2, cacoda, t0],\n",
       " sell[H2, madgaon, t0],\n",
       " sell[H2, ponje, t2],\n",
       " sell[O2, net, t0],\n",
       " sell[O2, net, t0],\n",
       " sell[Power, H2FC, net, t0],\n",
       " sell[Power, PV, cacoda, t0],\n",
       " sell[Power, PV, madgaon, t0],\n",
       " sell[Power, PV, ponje, t0],\n",
       " spend[csh, cacoda, t1],\n",
       " spend[csh, madgaon, t0],\n",
       " spend[csh, madgaon, t0],\n",
       " spend[csh, net, t2],\n",
       " spend[csh, net, t2],\n",
       " spend[csh, ponje, t1],\n",
       " use[LiR, cacoda, t0],\n",
       " use[LiR, madgaon, t0],\n",
       " use[LiR, ponje, t0],\n",
       " use^setup[LiR, WF, cacoda, t0],\n",
       " use^setup[LiR, WF, madgaon, t0],\n",
       " use^setup[LiR, WF, ponje, t0],\n",
       " use^setup[lnd_def, AWE, cacoda, t0],\n",
       " use^setup[lnd_def, AWE, madgaon, t0],\n",
       " use^setup[lnd_def, AWE, ponje, t0],\n",
       " use^setup[lnd_def, SMRH, cacoda, t0],\n",
       " use^setup[lnd_def, SMRH, madgaon, t0],\n",
       " use^setup[lnd_def, SMRH, ponje, t0],\n",
       " use^setup[lnd_def, WF, cacoda, t0],\n",
       " use^setup[lnd_def, WF, madgaon, t0],\n",
       " use^setup[lnd_def, WF, ponje, t0]]"
      ]
     },
     "execution_count": 27,
     "metadata": {},
     "output_type": "execute_result"
    }
   ],
   "source": [
    "s.program.variables"
   ]
  },
  {
   "cell_type": "code",
   "execution_count": null,
   "metadata": {},
   "outputs": [],
   "source": [
    "s.train = Transit(\n",
    "    freight=s.H2,\n",
    "    ship={s.H2: [300]},\n",
    "    capacity=[5, 400],\n",
    "    use_land=20,\n",
    "    emission_setup={s.odp: 0.1},\n",
    "    capex={s.alink: 200, s.blink: 300, s.clink: 400},\n",
    "    opex=100,\n",
    "    label='Train',\n",
    "    basis='passengers',\n",
    "    linkages=[s.alink],\n",
    ")"
   ]
  },
  {
   "cell_type": "code",
   "execution_count": null,
   "metadata": {},
   "outputs": [],
   "source": []
  }
 ],
 "metadata": {
  "kernelspec": {
   "display_name": ".venv",
   "language": "python",
   "name": "python3"
  },
  "language_info": {
   "codemirror_mode": {
    "name": "ipython",
    "version": 3
   },
   "file_extension": ".py",
   "mimetype": "text/x-python",
   "name": "python",
   "nbconvert_exporter": "python",
   "pygments_lexer": "ipython3",
   "version": "3.10.11"
  },
  "orig_nbformat": 4
 },
 "nbformat": 4,
 "nbformat_minor": 2
}
