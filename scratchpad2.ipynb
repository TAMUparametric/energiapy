{
 "cells": [
  {
   "cell_type": "code",
   "execution_count": 1,
   "metadata": {},
   "outputs": [],
   "source": [
    "# def load_data(loc:str, index:list):\n",
    "#     df = pandas.read_csv(f'data/{loc}_solar19.csv')\n",
    "#     df['idx'] = index\n",
    "#     df = df.set_index('idx')\n",
    "#     return df\n",
    "# idx = [(i,j,k) for i,j,k in product(range(1), range(365), range(24))]\n",
    "# weather_ny = load_data('ny', idx)[['DNI', 'Wind Speed']]\n",
    "# weather_ny = weather_ny.rename(columns= {'DNI': 'dni', 'Wind Speed': 'wind_speed'})\n",
    "# weather_sd = load_data('sd', idx)[['dni', 'wind_speed']]\n",
    "# weather_ho = load_data('ho', idx)[['dni', 'wind_speed']]\"\"\n",
    "# demand_sd = pandas.read_excel('data/HistoricalEMSHourlyLoad-2019.xlsx', index_col= 0)[['SDGE']]\n",
    "# demand_ho = pandas.read_excel('data/Native_Load_2019.xlsx')[['COAST']]\n",
    "# demand_ny = DataFrame(pandas.read_csv('data/NYC_load.csv')['Load']) #from Will and Doga\n",
    "# ng_price = make_henry_price_df(\n",
    "#     file_name='data/Henry_Hub_Natural_Gas_Spot_Price_Daily.csv', year=2020)\n",
    "# ng_price = ng_price.drop(columns= 'scales')\n",
    "# ng_price = remove_outliers(ng_price, sd_cuttoff = 3)\n",
    "# ng_price = pandas.concat([ng_price])"
   ]
  },
  {
   "cell_type": "code",
   "execution_count": 2,
   "metadata": {},
   "outputs": [],
   "source": [
    "import sys\n",
    "\n",
    "sys.path.append('src')"
   ]
  },
  {
   "cell_type": "code",
   "execution_count": 3,
   "metadata": {},
   "outputs": [],
   "source": [
    "from energiapy.components import *\n",
    "from energiapy.environ import *\n",
    "from pandas import DataFrame\n",
    "from dataclasses import fields, field, dataclass"
   ]
  },
  {
   "cell_type": "code",
   "execution_count": 4,
   "metadata": {},
   "outputs": [],
   "source": [
    "s = Scenario(default=True)"
   ]
  },
  {
   "cell_type": "code",
   "execution_count": 5,
   "metadata": {},
   "outputs": [
    {
     "ename": "TypeError",
     "evalue": "'str' object cannot be interpreted as an integer",
     "output_type": "error",
     "traceback": [
      "\u001b[1;31m---------------------------------------------------------------------------\u001b[0m",
      "\u001b[1;31mTypeError\u001b[0m                                 Traceback (most recent call last)",
      "Cell \u001b[1;32mIn[5], line 4\u001b[0m\n\u001b[0;32m      2\u001b[0m s\u001b[38;5;241m.\u001b[39mhor \u001b[38;5;241m=\u001b[39m Horizon(discretizations\u001b[38;5;241m=\u001b[39m[\u001b[38;5;241m2\u001b[39m, \u001b[38;5;241m12\u001b[39m], nested\u001b[38;5;241m=\u001b[39m\u001b[38;5;28;01mTrue\u001b[39;00m)\n\u001b[0;32m      3\u001b[0m s\u001b[38;5;241m.\u001b[39mscales\n\u001b[1;32m----> 4\u001b[0m \u001b[43ms\u001b[49m\u001b[38;5;241;43m.\u001b[39;49m\u001b[43mnet\u001b[49m \u001b[38;5;241m=\u001b[39m Network(locs \u001b[38;5;241m=\u001b[39m [\u001b[38;5;124m'\u001b[39m\u001b[38;5;124mmadgaon\u001b[39m\u001b[38;5;124m'\u001b[39m, \u001b[38;5;124m'\u001b[39m\u001b[38;5;124mponje\u001b[39m\u001b[38;5;124m'\u001b[39m, \u001b[38;5;124m'\u001b[39m\u001b[38;5;124mcacoda\u001b[39m\u001b[38;5;124m'\u001b[39m])  \u001b[38;5;66;03m# , link_all=True)\u001b[39;00m\n\u001b[0;32m      5\u001b[0m s\u001b[38;5;241m.\u001b[39mnodes\n",
      "File \u001b[1;32mc:\\Users\\cacodcar\\energiapy\\src\\energiapy\\environ\\scenario.py:173\u001b[0m, in \u001b[0;36mScenario.__setattr__\u001b[1;34m(self, name, value)\u001b[0m\n\u001b[0;32m    171\u001b[0m \u001b[38;5;28;01mif\u001b[39;00m \u001b[38;5;28misinstance\u001b[39m(value, Network):\n\u001b[0;32m    172\u001b[0m     \u001b[38;5;28mself\u001b[39m\u001b[38;5;241m.\u001b[39mhandle_unique_cmp(\u001b[38;5;124m'\u001b[39m\u001b[38;5;124mnetwork\u001b[39m\u001b[38;5;124m'\u001b[39m, value)\n\u001b[1;32m--> 173\u001b[0m     \u001b[38;5;28;43mself\u001b[39;49m\u001b[38;5;241;43m.\u001b[39;49m\u001b[43mbirth_partitions\u001b[49m\u001b[43m(\u001b[49m\u001b[43mscope\u001b[49m\u001b[38;5;241;43m=\u001b[39;49m\u001b[43mvalue\u001b[49m\u001b[43m)\u001b[49m\n\u001b[0;32m    174\u001b[0m     \u001b[38;5;28;01mif\u001b[39;00m value\u001b[38;5;241m.\u001b[39mlink_all:\n\u001b[0;32m    175\u001b[0m         \u001b[38;5;28mself\u001b[39m\u001b[38;5;241m.\u001b[39mbirth_all_linkages(network\u001b[38;5;241m=\u001b[39mvalue)\n",
      "File \u001b[1;32mc:\\Users\\cacodcar\\energiapy\\src\\energiapy\\environ\\_scenario\\_birth.py:56\u001b[0m, in \u001b[0;36m_Birth.birth_partitions\u001b[1;34m(self, scope)\u001b[0m\n\u001b[0;32m     49\u001b[0m \u001b[38;5;28;01mif\u001b[39;00m \u001b[38;5;28misinstance\u001b[39m(scope, Network):\n\u001b[0;32m     50\u001b[0m     birth_ \u001b[38;5;241m=\u001b[39m Location\n\u001b[0;32m     52\u001b[0m \u001b[38;5;28msetattr\u001b[39m(\n\u001b[0;32m     53\u001b[0m     \u001b[38;5;28mself\u001b[39m,\n\u001b[0;32m     54\u001b[0m     scope\u001b[38;5;241m.\u001b[39mname_partitions[i],\n\u001b[0;32m     55\u001b[0m     birth_(\n\u001b[1;32m---> 56\u001b[0m         index\u001b[38;5;241m=\u001b[39m\u001b[43mscope\u001b[49m\u001b[38;5;241;43m.\u001b[39;49m\u001b[43mmake_index\u001b[49m\u001b[43m(\u001b[49m\u001b[43mposition\u001b[49m\u001b[38;5;241;43m=\u001b[39;49m\u001b[43mi\u001b[49m\u001b[43m,\u001b[49m\u001b[43m \u001b[49m\u001b[43mnested\u001b[49m\u001b[38;5;241;43m=\u001b[39;49m\u001b[43mscope\u001b[49m\u001b[38;5;241;43m.\u001b[39;49m\u001b[43mnested\u001b[49m\u001b[43m)\u001b[49m,\n\u001b[0;32m     57\u001b[0m         label\u001b[38;5;241m=\u001b[39mlabel_partition,\n\u001b[0;32m     58\u001b[0m     ),\n\u001b[0;32m     59\u001b[0m )\n",
      "File \u001b[1;32mc:\\Users\\cacodcar\\energiapy\\src\\energiapy\\components\\_base\\_scope.py:118\u001b[0m, in \u001b[0;36m_Scope.make_index\u001b[1;34m(self, position, nested)\u001b[0m\n\u001b[0;32m    116\u001b[0m     \u001b[38;5;28;01mreturn\u001b[39;00m \u001b[38;5;28mself\u001b[39m\u001b[38;5;241m.\u001b[39mpartitions[position]\n\u001b[0;32m    117\u001b[0m \u001b[38;5;28;01melse\u001b[39;00m:\n\u001b[1;32m--> 118\u001b[0m     lists \u001b[38;5;241m=\u001b[39m [\u001b[38;5;28mlist\u001b[39m(\u001b[38;5;28;43mrange\u001b[39;49m\u001b[43m(\u001b[49m\u001b[43mi\u001b[49m\u001b[43m)\u001b[49m) \u001b[38;5;28;01mfor\u001b[39;00m i \u001b[38;5;129;01min\u001b[39;00m \u001b[38;5;28mself\u001b[39m\u001b[38;5;241m.\u001b[39m_partition_list]\n\u001b[0;32m    119\u001b[0m     \u001b[38;5;28;01mif\u001b[39;00m nested:\n\u001b[0;32m    120\u001b[0m         \u001b[38;5;28;01mreturn\u001b[39;00m \u001b[38;5;28mlist\u001b[39m(product(\u001b[38;5;241m*\u001b[39mlists[: position \u001b[38;5;241m+\u001b[39m \u001b[38;5;241m1\u001b[39m]))\n",
      "\u001b[1;31mTypeError\u001b[0m: 'str' object cannot be interpreted as an integer"
     ]
    }
   ],
   "source": [
    "# s.h2 = Horizon({'days': 2, 'hours': 12})\n",
    "s.hor = Horizon(discretizations=[2, 12], nested=True)\n",
    "s.scales\n",
    "s.net = Network(locs = ['madgaon', 'ponje', 'cacoda'])  # , link_all=True)\n",
    "s.nodes"
   ]
  },
  {
   "cell_type": "code",
   "execution_count": 8,
   "metadata": {},
   "outputs": [
    {
     "data": {
      "text/plain": [
       "{'nested': ['madgaon', 'ponje', 'cacoda'],\n",
       " 'label': None,\n",
       " 'locs': [1],\n",
       " 'label_locs': None,\n",
       " 'link_all': False,\n",
       " 'name': 'net',\n",
       " '_named': True,\n",
       " '_model': Model|:s:|,\n",
       " '_tuplered': False,\n",
       " '_partition_list': [1],\n",
       " 'name_partitions': ['node1']}"
      ]
     },
     "execution_count": 8,
     "metadata": {},
     "output_type": "execute_result"
    }
   ],
   "source": [
    "s.net.__dict__"
   ]
  },
  {
   "cell_type": "code",
   "execution_count": 7,
   "metadata": {},
   "outputs": [
    {
     "data": {
      "text/plain": [
       "{'nested': True,\n",
       " 'label': None,\n",
       " 'discretizations': [1, 2, 12],\n",
       " 'label_scales': None,\n",
       " 'name': 'hor',\n",
       " '_named': True,\n",
       " '_model': Model|:s:|,\n",
       " '_tuplered': False,\n",
       " '_partition_list': [1, 2, 12],\n",
       " 'name_partitions': ['t1', 't2', 't12']}"
      ]
     },
     "execution_count": 7,
     "metadata": {},
     "output_type": "execute_result"
    }
   ],
   "source": [
    "s.hor.__dict__ "
   ]
  },
  {
   "cell_type": "code",
   "execution_count": null,
   "metadata": {},
   "outputs": [],
   "source": [
    "\n",
    "s.alink = Linkage(source=s.madgaon, sink=s.ponje, bi=True, distance=50)\n",
    "s.blink = Linkage(source=s.ponje, sink=s.cacoda, bi=False, distance=80)\n",
    "s.clink = Linkage(source=s.cacoda, sink=s.madgaon, bi=True, distance=100)\n",
    "s.dlink = Linkage(source=s.madgaon, sink=s.ponje, bi=False, distance=200)"
   ]
  },
  {
   "cell_type": "code",
   "execution_count": 7,
   "metadata": {},
   "outputs": [],
   "source": [
    "a = DataFrame({'a': list(range(2))})\n",
    "b = DataFrame({'b': list(range(24))})"
   ]
  },
  {
   "cell_type": "code",
   "execution_count": 8,
   "metadata": {},
   "outputs": [
    {
     "name": "stdout",
     "output_type": "stream",
     "text": [
      "True\n",
      "(2,    a\n",
      "0  0\n",
      "1  1)\n",
      "   a\n",
      "0  0\n",
      "1  1\n",
      "[5, 7]\n"
     ]
    },
    {
     "name": "stderr",
     "output_type": "stream",
     "text": [
      "c:\\Users\\cacodcar\\energiapy\\src\\energiapy\\components\\_base\\_consistent.py:230: InconsistencyWarning: \n",
      "csh.spend:Inconsistent temporal scale for ponje at t2.\n",
      "Updating to t1\n",
      "Set Scneario.ok_inconsistent=False, to enforce strictly\n",
      "  warn(\n"
     ]
    }
   ],
   "source": [
    "s.csh = Cash(\n",
    "    spend={\n",
    "        s.madgaon: True,\n",
    "        s.ponje: {s.t2: (2, a)},\n",
    "        s.cacoda: a,\n",
    "        s.network: {s.t2: [5, 7]},\n",
    "    },\n",
    "    # label='cash',\n",
    "    basis='USD',\n",
    ")"
   ]
  },
  {
   "cell_type": "code",
   "execution_count": 10,
   "metadata": {},
   "outputs": [
    {
     "data": {
      "text/latex": [
       "$\\displaystyle {spend}_{csh,madgaon,t_{0}} \\geq 0$"
      ],
      "text/plain": [
       "<IPython.core.display.Math object>"
      ]
     },
     "metadata": {},
     "output_type": "display_data"
    },
    {
     "data": {
      "text/latex": [
       "$\\displaystyle {spend}_{csh,madgaon,t_{0}} \\leq M$"
      ],
      "text/plain": [
       "<IPython.core.display.Math object>"
      ]
     },
     "metadata": {},
     "output_type": "display_data"
    },
    {
     "data": {
      "text/latex": [
       "$\\displaystyle {spend}_{csh,ponje,t_{1}} = {θ}_{csh,ponje,t_{1}}$"
      ],
      "text/plain": [
       "<IPython.core.display.Math object>"
      ]
     },
     "metadata": {},
     "output_type": "display_data"
    },
    {
     "data": {
      "text/latex": [
       "$\\displaystyle {spend}_{csh,cacoda,t_{1}} = {DtSt}_{csh,cacoda,t_{1}}$"
      ],
      "text/plain": [
       "<IPython.core.display.Math object>"
      ]
     },
     "metadata": {},
     "output_type": "display_data"
    },
    {
     "data": {
      "text/latex": [
       "$\\displaystyle {spend}_{csh,net,t_{2}} \\geq 5$"
      ],
      "text/plain": [
       "<IPython.core.display.Math object>"
      ]
     },
     "metadata": {},
     "output_type": "display_data"
    },
    {
     "data": {
      "text/latex": [
       "$\\displaystyle {spend}_{csh,net,t_{2}} \\leq 7$"
      ],
      "text/plain": [
       "<IPython.core.display.Math object>"
      ]
     },
     "metadata": {},
     "output_type": "display_data"
    }
   ],
   "source": [
    "s.cash.pprint()"
   ]
  },
  {
   "cell_type": "code",
   "execution_count": 11,
   "metadata": {},
   "outputs": [
    {
     "name": "stdout",
     "output_type": "stream",
     "text": [
      "(2,    a\n",
      "0  0\n",
      "1  1)\n",
      "(2,      b\n",
      "0    0\n",
      "1    1\n",
      "2    2\n",
      "3    3\n",
      "4    4\n",
      "5    5\n",
      "6    6\n",
      "7    7\n",
      "8    8\n",
      "9    9\n",
      "10  10\n",
      "11  11\n",
      "12  12\n",
      "13  13\n",
      "14  14\n",
      "15  15\n",
      "16  16\n",
      "17  17\n",
      "18  18\n",
      "19  19\n",
      "20  20\n",
      "21  21\n",
      "22  22\n",
      "23  23)\n",
      "300\n"
     ]
    },
    {
     "name": "stderr",
     "output_type": "stream",
     "text": [
      "c:\\Users\\cacodcar\\energiapy\\src\\energiapy\\components\\_base\\_consistent.py:230: InconsistencyWarning: \n",
      "H2.sell_price:Inconsistent temporal scale for ponje at t1.\n",
      "Updating to t2\n",
      "Set Scneario.ok_inconsistent=False, to enforce strictly\n",
      "  warn(\n"
     ]
    }
   ],
   "source": [
    "s.H2 = Resource(\n",
    "    # sell={s.t0: [0, 4], s.t1: [a, 34], s.t2: (a, b)},\n",
    "    sell_price={\n",
    "        s.madgaon: {s.t1: (2, a)},\n",
    "        s.ponje: {s.t1: (2, b)},\n",
    "        s.cacoda: 300,\n",
    "    },\n",
    ")"
   ]
  },
  {
   "cell_type": "code",
   "execution_count": 12,
   "metadata": {},
   "outputs": [
    {
     "data": {
      "text/plain": [
       "[Price^sell[csh, H2, cacoda, t0],\n",
       " Price^sell[csh, H2, madgaon, t1],\n",
       " Price^sell[csh, H2, ponje, t2]]"
      ]
     },
     "execution_count": 12,
     "metadata": {},
     "output_type": "execute_result"
    }
   ],
   "source": [
    "s.H2.parameters"
   ]
  },
  {
   "cell_type": "code",
   "execution_count": 13,
   "metadata": {},
   "outputs": [
    {
     "data": {
      "text/latex": [
       "$\\displaystyle {exp^{sell}}_{csh,H_{2},cacoda,t_{0}} = {sell}_{H_{2},cacoda,t_{0}} \\cdot 300$"
      ],
      "text/plain": [
       "<IPython.core.display.Math object>"
      ]
     },
     "metadata": {},
     "output_type": "display_data"
    },
    {
     "data": {
      "text/latex": [
       "$\\displaystyle {exp^{sell}}_{csh,H_{2},madgaon,t_{1}} = {sell}_{H_{2},madgaon,t_{1}} \\cdot {θ}_{csh,H_{2},madgaon,t_{1}}$"
      ],
      "text/plain": [
       "<IPython.core.display.Math object>"
      ]
     },
     "metadata": {},
     "output_type": "display_data"
    },
    {
     "data": {
      "text/latex": [
       "$\\displaystyle {exp^{sell}}_{csh,H_{2},ponje,t_{2}} = {sell}_{H_{2},ponje,t_{2}} \\cdot {θ}_{csh,H_{2},ponje,t_{2}}$"
      ],
      "text/plain": [
       "<IPython.core.display.Math object>"
      ]
     },
     "metadata": {},
     "output_type": "display_data"
    }
   ],
   "source": [
    "s.H2.pprint()"
   ]
  },
  {
   "cell_type": "code",
   "execution_count": 14,
   "metadata": {},
   "outputs": [
    {
     "name": "stdout",
     "output_type": "stream",
     "text": [
      "True\n",
      "   a\n",
      "0  0\n",
      "1  1\n",
      "     a\n",
      "0    0\n",
      "1    1\n",
      "2    2\n",
      "3    3\n",
      "4    4\n",
      "5    5\n",
      "6    6\n",
      "7    7\n",
      "8    8\n",
      "9    9\n",
      "10  10\n",
      "11  11\n",
      "12  12\n",
      "13  13\n",
      "14  14\n",
      "15  15\n",
      "16  16\n",
      "17  17\n",
      "18  18\n",
      "19  19\n",
      "20  20\n",
      "21  21\n",
      "22  22\n",
      "23  23\n",
      "0.3416\n",
      "0.3416\n",
      "0.3416\n",
      "(20, 50)\n",
      "     b\n",
      "0    0\n",
      "1    1\n",
      "2    2\n",
      "3    3\n",
      "4    4\n",
      "5    5\n",
      "6    6\n",
      "7    7\n",
      "8    8\n",
      "9    9\n",
      "10  10\n",
      "11  11\n",
      "12  12\n",
      "13  13\n",
      "14  14\n",
      "15  15\n",
      "16  16\n",
      "17  17\n",
      "18  18\n",
      "19  19\n",
      "20  20\n",
      "21  21\n",
      "22  22\n",
      "23  23\n",
      "     b\n",
      "0    0\n",
      "1    1\n",
      "2    2\n",
      "3    3\n",
      "4    4\n",
      "5    5\n",
      "6    6\n",
      "7    7\n",
      "8    8\n",
      "9    9\n",
      "10  10\n",
      "11  11\n",
      "12  12\n",
      "13  13\n",
      "14  14\n",
      "15  15\n",
      "16  16\n",
      "17  17\n",
      "18  18\n",
      "19  19\n",
      "20  20\n",
      "21  21\n",
      "22  22\n",
      "23  23\n",
      "     b\n",
      "0    0\n",
      "1    1\n",
      "2    2\n",
      "3    3\n",
      "4    4\n",
      "5    5\n",
      "6    6\n",
      "7    7\n",
      "8    8\n",
      "9    9\n",
      "10  10\n",
      "11  11\n",
      "12  12\n",
      "13  13\n",
      "14  14\n",
      "15  15\n",
      "16  16\n",
      "17  17\n",
      "18  18\n",
      "19  19\n",
      "20  20\n",
      "21  21\n",
      "22  22\n",
      "23  23\n",
      "[20, 40]\n",
      "20\n",
      "20\n",
      "20\n",
      "(2, 20)\n",
      "(2, 20)\n",
      "(2, 20)\n",
      "     b\n",
      "0    0\n",
      "1    1\n",
      "2    2\n",
      "3    3\n",
      "4    4\n",
      "5    5\n",
      "6    6\n",
      "7    7\n",
      "8    8\n",
      "9    9\n",
      "10  10\n",
      "11  11\n",
      "12  12\n",
      "13  13\n",
      "14  14\n",
      "15  15\n",
      "16  16\n",
      "17  17\n",
      "18  18\n",
      "19  19\n",
      "20  20\n",
      "21  21\n",
      "22  22\n",
      "23  23\n",
      "     b\n",
      "0    0\n",
      "1    1\n",
      "2    2\n",
      "3    3\n",
      "4    4\n",
      "5    5\n",
      "6    6\n",
      "7    7\n",
      "8    8\n",
      "9    9\n",
      "10  10\n",
      "11  11\n",
      "12  12\n",
      "13  13\n",
      "14  14\n",
      "15  15\n",
      "16  16\n",
      "17  17\n",
      "18  18\n",
      "19  19\n",
      "20  20\n",
      "21  21\n",
      "22  22\n",
      "23  23\n",
      "     b\n",
      "0    0\n",
      "1    1\n",
      "2    2\n",
      "3    3\n",
      "4    4\n",
      "5    5\n",
      "6    6\n",
      "7    7\n",
      "8    8\n",
      "9    9\n",
      "10  10\n",
      "11  11\n",
      "12  12\n",
      "13  13\n",
      "14  14\n",
      "15  15\n",
      "16  16\n",
      "17  17\n",
      "18  18\n",
      "19  19\n",
      "20  20\n",
      "21  21\n",
      "22  22\n",
      "23  23\n",
      "[20, True]\n",
      "[0,    a\n",
      "0  0\n",
      "1  1]\n"
     ]
    },
    {
     "name": "stderr",
     "output_type": "stream",
     "text": [
      "c:\\Users\\cacodcar\\energiapy\\src\\energiapy\\environ\\_scenario\\_ok.py:54: OverWriteWarning: \n",
      "A Power was already defined.\n",
      "Overwriting. Set Scenario.ok_overwrite=False, to enforce strictly\n",
      "This should not cause any modeling issues.\n",
      "Check Scenario defaults if unintended.\n",
      "Only one instance of Horizon, Network, Cash, and Land are allowed\n",
      "  warn(OverWriteWarning(cmp))\n"
     ]
    }
   ],
   "source": [
    "s.Solar = Resource(buy=True, basis='MW', label='Solar Power')\n",
    "\n",
    "\n",
    "s.Wind = Resource(buy=a, basis='MW', label='Wind Power')\n",
    "\n",
    "\n",
    "s.Power = Resource(basis='MW', label='Power generated')\n",
    "\n",
    "\n",
    "s.Uranium = Resource(\n",
    "    buy=DataFrame({'a': [i for i in range(24)]}),\n",
    "    buy_price=42.70 / (250 / 2),\n",
    "    basis='kg',\n",
    "    label='Uranium',\n",
    ")\n",
    "\n",
    "\n",
    "# s.H2_L = Resource(sell=(0, 23), basis='tons', label='Hydrogen')\n",
    "\n",
    "\n",
    "# s.CO2_AQoff = Resource(basis='tons', label='Carbon dioxide - sequestered')\n",
    "\n",
    "\n",
    "s.H2O = Resource(buy=(20, 50), buy_price=b, basis='tons', label='Water')\n",
    "\n",
    "\n",
    "s.CH4 = Resource(buy=[20, 40], buy_price=20, basis='tons', label='Natural gas')\n",
    "\n",
    "\n",
    "s.CO2 = Resource(basis='tons', label='Carbon dioxide', block='Resource')\n",
    "\n",
    "\n",
    "s.CO2_Vent = Resource(\n",
    "    basis='tons',\n",
    "    label='Carbon dioxide - Vented',\n",
    "    sell_price=(2, 20),\n",
    "    sell_emission={s.gwp: b},\n",
    ")\n",
    "\n",
    "\n",
    "s.O2 = Resource(sell=[20, True], basis='tons', label='Oxygen')\n",
    "\n",
    "\n",
    "s.CO2_DAC = Resource(basis='tons', label='Carbon dioxide - captured')\n",
    "s.Power = Resource(buy=[0, a], basis='MW', label='Power generated')"
   ]
  },
  {
   "cell_type": "code",
   "execution_count": 15,
   "metadata": {},
   "outputs": [
    {
     "name": "stdout",
     "output_type": "stream",
     "text": [
      "1.5\n",
      "1.484\n",
      "1.484\n",
      "1.484\n"
     ]
    }
   ],
   "source": [
    "s.LiR = Material(\n",
    "    use_emission={s.gwp: {s.t2: 1.484}},\n",
    "    use={s.ponje: 1.5},\n",
    "    basis='kg',\n",
    "    label='Lithium Reserves',\n",
    "    citation='Nelson Bunyui Manjong (2021)',\n",
    ")"
   ]
  },
  {
   "cell_type": "code",
   "execution_count": 16,
   "metadata": {},
   "outputs": [
    {
     "data": {
      "text/latex": [
       "$\\displaystyle {use}_{LiR,ponje,t_{0}} = 1.5$"
      ],
      "text/plain": [
       "<IPython.core.display.Math object>"
      ]
     },
     "metadata": {},
     "output_type": "display_data"
    },
    {
     "data": {
      "text/latex": [
       "$\\displaystyle {emit^{use}}_{gwp,LiR,cacoda,t_{0}} = {use}_{LiR,cacoda,t_{0}} \\cdot 1.484$"
      ],
      "text/plain": [
       "<IPython.core.display.Math object>"
      ]
     },
     "metadata": {},
     "output_type": "display_data"
    },
    {
     "data": {
      "text/latex": [
       "$\\displaystyle {emit^{use}}_{gwp,LiR,madgaon,t_{0}} = {use}_{LiR,madgaon,t_{0}} \\cdot 1.484$"
      ],
      "text/plain": [
       "<IPython.core.display.Math object>"
      ]
     },
     "metadata": {},
     "output_type": "display_data"
    },
    {
     "data": {
      "text/latex": [
       "$\\displaystyle {emit^{use}}_{gwp,LiR,ponje,t_{0}} = {use}_{LiR,ponje,t_{0}} \\cdot 1.484$"
      ],
      "text/plain": [
       "<IPython.core.display.Math object>"
      ]
     },
     "metadata": {},
     "output_type": "display_data"
    }
   ],
   "source": [
    "s.LiR.pprint()"
   ]
  },
  {
   "cell_type": "code",
   "execution_count": 17,
   "metadata": {},
   "outputs": [
    {
     "data": {
      "text/plain": [
       "Power"
      ]
     },
     "execution_count": 17,
     "metadata": {},
     "output_type": "execute_result"
    }
   ],
   "source": [
    "s.Power"
   ]
  },
  {
   "cell_type": "code",
   "execution_count": 19,
   "metadata": {},
   "outputs": [
    {
     "data": {
      "text/plain": [
       "(Field(name='basis',type=<class 'str'>,default=None,default_factory=<dataclasses._MISSING_TYPE object at 0x00000185FED9E4E0>,init=True,repr=True,hash=None,compare=True,metadata=mappingproxy({}),kw_only=False,_field_type=_FIELD),\n",
       " Field(name='citation',type=<class 'dict'>,default=None,default_factory=<dataclasses._MISSING_TYPE object at 0x00000185FED9E4E0>,init=True,repr=True,hash=None,compare=True,metadata=mappingproxy({}),kw_only=False,_field_type=_FIELD),\n",
       " Field(name='block',type=<class 'str'>,default=None,default_factory=<dataclasses._MISSING_TYPE object at 0x00000185FED9E4E0>,init=True,repr=True,hash=None,compare=True,metadata=mappingproxy({}),kw_only=False,_field_type=_FIELD),\n",
       " Field(name='introduce',type=<class 'str'>,default=None,default_factory=<dataclasses._MISSING_TYPE object at 0x00000185FED9E4E0>,init=True,repr=True,hash=None,compare=True,metadata=mappingproxy({}),kw_only=False,_field_type=_FIELD),\n",
       " Field(name='retire',type=<class 'str'>,default=None,default_factory=<dataclasses._MISSING_TYPE object at 0x00000185FED9E4E0>,init=True,repr=True,hash=None,compare=True,metadata=mappingproxy({}),kw_only=False,_field_type=_FIELD),\n",
       " Field(name='label',type=<class 'str'>,default=None,default_factory=<dataclasses._MISSING_TYPE object at 0x00000185FED9E4E0>,init=True,repr=True,hash=None,compare=True,metadata=mappingproxy({}),kw_only=False,_field_type=_FIELD),\n",
       " Field(name='setup_time',type=float | int | pandas.core.frame.DataFrame | tuple[float | int | pandas.core.frame.DataFrame, float | int | pandas.core.frame.DataFrame] | dict[energiapy.components.spatial.location.Location | energiapy.components.spatial.linkage.Linkage, float | int | pandas.core.frame.DataFrame | tuple[float | int | pandas.core.frame.DataFrame, float | int | pandas.core.frame.DataFrame]] | dict[energiapy.components.temporal.scale.Scale, float | int | pandas.core.frame.DataFrame | tuple[float | int | pandas.core.frame.DataFrame, float | int | pandas.core.frame.DataFrame]] | dict[energiapy.components.temporal.mode.X, float | int | pandas.core.frame.DataFrame | tuple[float | int | pandas.core.frame.DataFrame, float | int | pandas.core.frame.DataFrame]] | dict[energiapy.components.spatial.location.Location | energiapy.components.spatial.linkage.Linkage, dict[energiapy.components.temporal.scale.Scale, float | int | pandas.core.frame.DataFrame | tuple[float | int | pandas.core.frame.DataFrame, float | int | pandas.core.frame.DataFrame]]] | dict[energiapy.components.spatial.location.Location | energiapy.components.spatial.linkage.Linkage, dict[energiapy.components.temporal.mode.X, float | int | pandas.core.frame.DataFrame | tuple[float | int | pandas.core.frame.DataFrame, float | int | pandas.core.frame.DataFrame]]] | dict[energiapy.components.temporal.scale.Scale, dict[energiapy.components.temporal.mode.X, float | int | pandas.core.frame.DataFrame | tuple[float | int | pandas.core.frame.DataFrame, float | int | pandas.core.frame.DataFrame]]] | dict[energiapy.components.spatial.location.Location | energiapy.components.spatial.linkage.Linkage, dict[energiapy.components.temporal.scale.Scale, dict[energiapy.components.temporal.mode.X, float | int | pandas.core.frame.DataFrame | tuple[float | int | pandas.core.frame.DataFrame, float | int | pandas.core.frame.DataFrame]]]],default=None,default_factory=<dataclasses._MISSING_TYPE object at 0x00000185FED9E4E0>,init=True,repr=True,hash=None,compare=True,metadata=mappingproxy({}),kw_only=False,_field_type=_FIELD),\n",
       " Field(name='setup_use',type=float | int | pandas.core.frame.DataFrame | tuple[float | int | pandas.core.frame.DataFrame, float | int | pandas.core.frame.DataFrame] | dict[energiapy.components.spatial.location.Location | energiapy.components.spatial.linkage.Linkage, float | int | pandas.core.frame.DataFrame | tuple[float | int | pandas.core.frame.DataFrame, float | int | pandas.core.frame.DataFrame]] | dict[energiapy.components.temporal.scale.Scale, float | int | pandas.core.frame.DataFrame | tuple[float | int | pandas.core.frame.DataFrame, float | int | pandas.core.frame.DataFrame]] | dict[energiapy.components.temporal.mode.X, float | int | pandas.core.frame.DataFrame | tuple[float | int | pandas.core.frame.DataFrame, float | int | pandas.core.frame.DataFrame]] | dict[energiapy.components.spatial.location.Location | energiapy.components.spatial.linkage.Linkage, dict[energiapy.components.temporal.scale.Scale, float | int | pandas.core.frame.DataFrame | tuple[float | int | pandas.core.frame.DataFrame, float | int | pandas.core.frame.DataFrame]]] | dict[energiapy.components.spatial.location.Location | energiapy.components.spatial.linkage.Linkage, dict[energiapy.components.temporal.mode.X, float | int | pandas.core.frame.DataFrame | tuple[float | int | pandas.core.frame.DataFrame, float | int | pandas.core.frame.DataFrame]]] | dict[energiapy.components.temporal.scale.Scale, dict[energiapy.components.temporal.mode.X, float | int | pandas.core.frame.DataFrame | tuple[float | int | pandas.core.frame.DataFrame, float | int | pandas.core.frame.DataFrame]]] | dict[energiapy.components.spatial.location.Location | energiapy.components.spatial.linkage.Linkage, dict[energiapy.components.temporal.scale.Scale, dict[energiapy.components.temporal.mode.X, float | int | pandas.core.frame.DataFrame | tuple[float | int | pandas.core.frame.DataFrame, float | int | pandas.core.frame.DataFrame]]]],default=None,default_factory=<dataclasses._MISSING_TYPE object at 0x00000185FED9E4E0>,init=True,repr=True,hash=None,compare=True,metadata=mappingproxy({}),kw_only=False,_field_type=_FIELD),\n",
       " Field(name='emit',type=typing.Union[float, int, pandas.core.frame.DataFrame, tuple[float | int | pandas.core.frame.DataFrame, float | int | pandas.core.frame.DataFrame], typing.Literal[True], list[typing.Union[float, int, pandas.core.frame.DataFrame, tuple[float | int | pandas.core.frame.DataFrame, float | int | pandas.core.frame.DataFrame], typing.Literal[True]]], dict[energiapy.components.spatial.location.Location | energiapy.components.spatial.linkage.Linkage | energiapy.components.spatial.network.Network, typing.Union[float, int, pandas.core.frame.DataFrame, tuple[float | int | pandas.core.frame.DataFrame, float | int | pandas.core.frame.DataFrame], typing.Literal[True], list[typing.Union[float, int, pandas.core.frame.DataFrame, tuple[float | int | pandas.core.frame.DataFrame, float | int | pandas.core.frame.DataFrame], typing.Literal[True]]]]], dict[energiapy.components.temporal.scale.Scale, typing.Union[float, int, pandas.core.frame.DataFrame, tuple[float | int | pandas.core.frame.DataFrame, float | int | pandas.core.frame.DataFrame], typing.Literal[True], list[typing.Union[float, int, pandas.core.frame.DataFrame, tuple[float | int | pandas.core.frame.DataFrame, float | int | pandas.core.frame.DataFrame], typing.Literal[True]]]]], dict[energiapy.components.spatial.location.Location | energiapy.components.spatial.linkage.Linkage | energiapy.components.spatial.network.Network, dict[energiapy.components.temporal.scale.Scale, typing.Union[float, int, pandas.core.frame.DataFrame, tuple[float | int | pandas.core.frame.DataFrame, float | int | pandas.core.frame.DataFrame], typing.Literal[True], list[typing.Union[float, int, pandas.core.frame.DataFrame, tuple[float | int | pandas.core.frame.DataFrame, float | int | pandas.core.frame.DataFrame], typing.Literal[True]]]]]]],default=None,default_factory=<dataclasses._MISSING_TYPE object at 0x00000185FED9E4E0>,init=True,repr=True,hash=None,compare=True,metadata=mappingproxy({}),kw_only=False,_field_type=_FIELD),\n",
       " Field(name='setup_emission',type=float | int | pandas.core.frame.DataFrame | tuple[float | int | pandas.core.frame.DataFrame, float | int | pandas.core.frame.DataFrame] | dict[energiapy.components.spatial.location.Location | energiapy.components.spatial.linkage.Linkage, float | int | pandas.core.frame.DataFrame | tuple[float | int | pandas.core.frame.DataFrame, float | int | pandas.core.frame.DataFrame]] | dict[energiapy.components.temporal.scale.Scale, float | int | pandas.core.frame.DataFrame | tuple[float | int | pandas.core.frame.DataFrame, float | int | pandas.core.frame.DataFrame]] | dict[energiapy.components.temporal.mode.X, float | int | pandas.core.frame.DataFrame | tuple[float | int | pandas.core.frame.DataFrame, float | int | pandas.core.frame.DataFrame]] | dict[energiapy.components.spatial.location.Location | energiapy.components.spatial.linkage.Linkage, dict[energiapy.components.temporal.scale.Scale, float | int | pandas.core.frame.DataFrame | tuple[float | int | pandas.core.frame.DataFrame, float | int | pandas.core.frame.DataFrame]]] | dict[energiapy.components.spatial.location.Location | energiapy.components.spatial.linkage.Linkage, dict[energiapy.components.temporal.mode.X, float | int | pandas.core.frame.DataFrame | tuple[float | int | pandas.core.frame.DataFrame, float | int | pandas.core.frame.DataFrame]]] | dict[energiapy.components.temporal.scale.Scale, dict[energiapy.components.temporal.mode.X, float | int | pandas.core.frame.DataFrame | tuple[float | int | pandas.core.frame.DataFrame, float | int | pandas.core.frame.DataFrame]]] | dict[energiapy.components.spatial.location.Location | energiapy.components.spatial.linkage.Linkage, dict[energiapy.components.temporal.scale.Scale, dict[energiapy.components.temporal.mode.X, float | int | pandas.core.frame.DataFrame | tuple[float | int | pandas.core.frame.DataFrame, float | int | pandas.core.frame.DataFrame]]]],default=None,default_factory=<dataclasses._MISSING_TYPE object at 0x00000185FED9E4E0>,init=True,repr=True,hash=None,compare=True,metadata=mappingproxy({}),kw_only=False,_field_type=_FIELD),\n",
       " Field(name='capex',type=set[float | int | pandas.core.frame.DataFrame | tuple[float | int | pandas.core.frame.DataFrame, float | int | pandas.core.frame.DataFrame] | energiapy.components.temporal.incidental.I] | dict[energiapy.components.spatial.location.Location | energiapy.components.spatial.linkage.Linkage, set[float | int | pandas.core.frame.DataFrame | tuple[float | int | pandas.core.frame.DataFrame, float | int | pandas.core.frame.DataFrame] | energiapy.components.temporal.incidental.I]] | dict[energiapy.components.temporal.scale.Scale, set[float | int | pandas.core.frame.DataFrame | tuple[float | int | pandas.core.frame.DataFrame, float | int | pandas.core.frame.DataFrame] | energiapy.components.temporal.incidental.I]] | dict[energiapy.components.temporal.mode.X, set[float | int | pandas.core.frame.DataFrame | tuple[float | int | pandas.core.frame.DataFrame, float | int | pandas.core.frame.DataFrame] | energiapy.components.temporal.incidental.I]] | dict[energiapy.components.spatial.location.Location | energiapy.components.spatial.linkage.Linkage, dict[energiapy.components.temporal.scale.Scale, set[float | int | pandas.core.frame.DataFrame | tuple[float | int | pandas.core.frame.DataFrame, float | int | pandas.core.frame.DataFrame] | energiapy.components.temporal.incidental.I]]] | dict[energiapy.components.spatial.location.Location | energiapy.components.spatial.linkage.Linkage, dict[energiapy.components.temporal.mode.X, set[float | int | pandas.core.frame.DataFrame | tuple[float | int | pandas.core.frame.DataFrame, float | int | pandas.core.frame.DataFrame] | energiapy.components.temporal.incidental.I]]] | dict[energiapy.components.temporal.scale.Scale, dict[energiapy.components.temporal.mode.X, set[float | int | pandas.core.frame.DataFrame | tuple[float | int | pandas.core.frame.DataFrame, float | int | pandas.core.frame.DataFrame] | energiapy.components.temporal.incidental.I]]] | dict[energiapy.components.spatial.location.Location | energiapy.components.spatial.linkage.Linkage, dict[energiapy.components.temporal.scale.Scale, dict[energiapy.components.temporal.mode.X, set[float | int | pandas.core.frame.DataFrame | tuple[float | int | pandas.core.frame.DataFrame, float | int | pandas.core.frame.DataFrame] | energiapy.components.temporal.incidental.I]]]],default=None,default_factory=<dataclasses._MISSING_TYPE object at 0x00000185FED9E4E0>,init=True,repr=True,hash=None,compare=True,metadata=mappingproxy({}),kw_only=False,_field_type=_FIELD),\n",
       " Field(name='opex',type=set[float | int | pandas.core.frame.DataFrame | tuple[float | int | pandas.core.frame.DataFrame, float | int | pandas.core.frame.DataFrame] | energiapy.components.temporal.incidental.I] | dict[energiapy.components.spatial.location.Location | energiapy.components.spatial.linkage.Linkage, set[float | int | pandas.core.frame.DataFrame | tuple[float | int | pandas.core.frame.DataFrame, float | int | pandas.core.frame.DataFrame] | energiapy.components.temporal.incidental.I]] | dict[energiapy.components.temporal.scale.Scale, set[float | int | pandas.core.frame.DataFrame | tuple[float | int | pandas.core.frame.DataFrame, float | int | pandas.core.frame.DataFrame] | energiapy.components.temporal.incidental.I]] | dict[energiapy.components.temporal.mode.X, set[float | int | pandas.core.frame.DataFrame | tuple[float | int | pandas.core.frame.DataFrame, float | int | pandas.core.frame.DataFrame] | energiapy.components.temporal.incidental.I]] | dict[energiapy.components.spatial.location.Location | energiapy.components.spatial.linkage.Linkage, dict[energiapy.components.temporal.scale.Scale, set[float | int | pandas.core.frame.DataFrame | tuple[float | int | pandas.core.frame.DataFrame, float | int | pandas.core.frame.DataFrame] | energiapy.components.temporal.incidental.I]]] | dict[energiapy.components.spatial.location.Location | energiapy.components.spatial.linkage.Linkage, dict[energiapy.components.temporal.mode.X, set[float | int | pandas.core.frame.DataFrame | tuple[float | int | pandas.core.frame.DataFrame, float | int | pandas.core.frame.DataFrame] | energiapy.components.temporal.incidental.I]]] | dict[energiapy.components.temporal.scale.Scale, dict[energiapy.components.temporal.mode.X, set[float | int | pandas.core.frame.DataFrame | tuple[float | int | pandas.core.frame.DataFrame, float | int | pandas.core.frame.DataFrame] | energiapy.components.temporal.incidental.I]]] | dict[energiapy.components.spatial.location.Location | energiapy.components.spatial.linkage.Linkage, dict[energiapy.components.temporal.scale.Scale, dict[energiapy.components.temporal.mode.X, set[float | int | pandas.core.frame.DataFrame | tuple[float | int | pandas.core.frame.DataFrame, float | int | pandas.core.frame.DataFrame] | energiapy.components.temporal.incidental.I]]]],default=None,default_factory=<dataclasses._MISSING_TYPE object at 0x00000185FED9E4E0>,init=True,repr=True,hash=None,compare=True,metadata=mappingproxy({}),kw_only=False,_field_type=_FIELD),\n",
       " Field(name='produce',type=typing.Union[float, int, pandas.core.frame.DataFrame, tuple[float | int | pandas.core.frame.DataFrame, float | int | pandas.core.frame.DataFrame], typing.Literal[True], list[typing.Union[float, int, pandas.core.frame.DataFrame, tuple[float | int | pandas.core.frame.DataFrame, float | int | pandas.core.frame.DataFrame], typing.Literal[True]]], dict[energiapy.components.spatial.location.Location | energiapy.components.spatial.linkage.Linkage | energiapy.components.spatial.network.Network, typing.Union[float, int, pandas.core.frame.DataFrame, tuple[float | int | pandas.core.frame.DataFrame, float | int | pandas.core.frame.DataFrame], typing.Literal[True], list[typing.Union[float, int, pandas.core.frame.DataFrame, tuple[float | int | pandas.core.frame.DataFrame, float | int | pandas.core.frame.DataFrame], typing.Literal[True]]]]], dict[energiapy.components.temporal.scale.Scale, typing.Union[float, int, pandas.core.frame.DataFrame, tuple[float | int | pandas.core.frame.DataFrame, float | int | pandas.core.frame.DataFrame], typing.Literal[True], list[typing.Union[float, int, pandas.core.frame.DataFrame, tuple[float | int | pandas.core.frame.DataFrame, float | int | pandas.core.frame.DataFrame], typing.Literal[True]]]]], dict[energiapy.components.spatial.location.Location | energiapy.components.spatial.linkage.Linkage | energiapy.components.spatial.network.Network, dict[energiapy.components.temporal.scale.Scale, typing.Union[float, int, pandas.core.frame.DataFrame, tuple[float | int | pandas.core.frame.DataFrame, float | int | pandas.core.frame.DataFrame], typing.Literal[True], list[typing.Union[float, int, pandas.core.frame.DataFrame, tuple[float | int | pandas.core.frame.DataFrame, float | int | pandas.core.frame.DataFrame], typing.Literal[True]]]]]]],default=None,default_factory=<dataclasses._MISSING_TYPE object at 0x00000185FED9E4E0>,init=True,repr=True,hash=None,compare=True,metadata=mappingproxy({}),kw_only=False,_field_type=_FIELD),\n",
       " Field(name='capacity',type=typing.Union[float, int, pandas.core.frame.DataFrame, tuple[float | int | pandas.core.frame.DataFrame, float | int | pandas.core.frame.DataFrame], typing.Literal[True], list[typing.Union[float, int, pandas.core.frame.DataFrame, tuple[float | int | pandas.core.frame.DataFrame, float | int | pandas.core.frame.DataFrame], typing.Literal[True]]], dict[energiapy.components.spatial.location.Location | energiapy.components.spatial.linkage.Linkage | energiapy.components.spatial.network.Network, typing.Union[float, int, pandas.core.frame.DataFrame, tuple[float | int | pandas.core.frame.DataFrame, float | int | pandas.core.frame.DataFrame], typing.Literal[True], list[typing.Union[float, int, pandas.core.frame.DataFrame, tuple[float | int | pandas.core.frame.DataFrame, float | int | pandas.core.frame.DataFrame], typing.Literal[True]]]]], dict[energiapy.components.temporal.scale.Scale, typing.Union[float, int, pandas.core.frame.DataFrame, tuple[float | int | pandas.core.frame.DataFrame, float | int | pandas.core.frame.DataFrame], typing.Literal[True], list[typing.Union[float, int, pandas.core.frame.DataFrame, tuple[float | int | pandas.core.frame.DataFrame, float | int | pandas.core.frame.DataFrame], typing.Literal[True]]]]], dict[energiapy.components.spatial.location.Location | energiapy.components.spatial.linkage.Linkage | energiapy.components.spatial.network.Network, dict[energiapy.components.temporal.scale.Scale, typing.Union[float, int, pandas.core.frame.DataFrame, tuple[float | int | pandas.core.frame.DataFrame, float | int | pandas.core.frame.DataFrame], typing.Literal[True], list[typing.Union[float, int, pandas.core.frame.DataFrame, tuple[float | int | pandas.core.frame.DataFrame, float | int | pandas.core.frame.DataFrame], typing.Literal[True]]]]]]],default=None,default_factory=<dataclasses._MISSING_TYPE object at 0x00000185FED9E4E0>,init=True,repr=True,hash=None,compare=True,metadata=mappingproxy({}),kw_only=False,_field_type=_FIELD),\n",
       " Field(name='locations',type=list[energiapy.components.spatial.location.Location],default=<dataclasses._MISSING_TYPE object at 0x00000185FED9E4E0>,default_factory=<class 'list'>,init=True,repr=True,hash=None,compare=True,metadata=mappingproxy({}),kw_only=False,_field_type=_FIELD),\n",
       " Field(name='use_emission',type=float | int | pandas.core.frame.DataFrame | tuple[float | int | pandas.core.frame.DataFrame, float | int | pandas.core.frame.DataFrame] | dict[energiapy.components.spatial.location.Location | energiapy.components.spatial.linkage.Linkage, float | int | pandas.core.frame.DataFrame | tuple[float | int | pandas.core.frame.DataFrame, float | int | pandas.core.frame.DataFrame]] | dict[energiapy.components.temporal.scale.Scale, float | int | pandas.core.frame.DataFrame | tuple[float | int | pandas.core.frame.DataFrame, float | int | pandas.core.frame.DataFrame]] | dict[energiapy.components.temporal.mode.X, float | int | pandas.core.frame.DataFrame | tuple[float | int | pandas.core.frame.DataFrame, float | int | pandas.core.frame.DataFrame]] | dict[energiapy.components.spatial.location.Location | energiapy.components.spatial.linkage.Linkage, dict[energiapy.components.temporal.scale.Scale, float | int | pandas.core.frame.DataFrame | tuple[float | int | pandas.core.frame.DataFrame, float | int | pandas.core.frame.DataFrame]]] | dict[energiapy.components.spatial.location.Location | energiapy.components.spatial.linkage.Linkage, dict[energiapy.components.temporal.mode.X, float | int | pandas.core.frame.DataFrame | tuple[float | int | pandas.core.frame.DataFrame, float | int | pandas.core.frame.DataFrame]]] | dict[energiapy.components.temporal.scale.Scale, dict[energiapy.components.temporal.mode.X, float | int | pandas.core.frame.DataFrame | tuple[float | int | pandas.core.frame.DataFrame, float | int | pandas.core.frame.DataFrame]]] | dict[energiapy.components.spatial.location.Location | energiapy.components.spatial.linkage.Linkage, dict[energiapy.components.temporal.scale.Scale, dict[energiapy.components.temporal.mode.X, float | int | pandas.core.frame.DataFrame | tuple[float | int | pandas.core.frame.DataFrame, float | int | pandas.core.frame.DataFrame]]]],default=None,default_factory=<dataclasses._MISSING_TYPE object at 0x00000185FED9E4E0>,init=True,repr=True,hash=None,compare=True,metadata=mappingproxy({}),kw_only=False,_field_type=_FIELD),\n",
       " Field(name='buy_emission',type=float | int | pandas.core.frame.DataFrame | tuple[float | int | pandas.core.frame.DataFrame, float | int | pandas.core.frame.DataFrame] | dict[energiapy.components.spatial.location.Location | energiapy.components.spatial.linkage.Linkage, float | int | pandas.core.frame.DataFrame | tuple[float | int | pandas.core.frame.DataFrame, float | int | pandas.core.frame.DataFrame]] | dict[energiapy.components.temporal.scale.Scale, float | int | pandas.core.frame.DataFrame | tuple[float | int | pandas.core.frame.DataFrame, float | int | pandas.core.frame.DataFrame]] | dict[energiapy.components.temporal.mode.X, float | int | pandas.core.frame.DataFrame | tuple[float | int | pandas.core.frame.DataFrame, float | int | pandas.core.frame.DataFrame]] | dict[energiapy.components.spatial.location.Location | energiapy.components.spatial.linkage.Linkage, dict[energiapy.components.temporal.scale.Scale, float | int | pandas.core.frame.DataFrame | tuple[float | int | pandas.core.frame.DataFrame, float | int | pandas.core.frame.DataFrame]]] | dict[energiapy.components.spatial.location.Location | energiapy.components.spatial.linkage.Linkage, dict[energiapy.components.temporal.mode.X, float | int | pandas.core.frame.DataFrame | tuple[float | int | pandas.core.frame.DataFrame, float | int | pandas.core.frame.DataFrame]]] | dict[energiapy.components.temporal.scale.Scale, dict[energiapy.components.temporal.mode.X, float | int | pandas.core.frame.DataFrame | tuple[float | int | pandas.core.frame.DataFrame, float | int | pandas.core.frame.DataFrame]]] | dict[energiapy.components.spatial.location.Location | energiapy.components.spatial.linkage.Linkage, dict[energiapy.components.temporal.scale.Scale, dict[energiapy.components.temporal.mode.X, float | int | pandas.core.frame.DataFrame | tuple[float | int | pandas.core.frame.DataFrame, float | int | pandas.core.frame.DataFrame]]]],default=None,default_factory=<dataclasses._MISSING_TYPE object at 0x00000185FED9E4E0>,init=True,repr=True,hash=None,compare=True,metadata=mappingproxy({}),kw_only=False,_field_type=_FIELD),\n",
       " Field(name='sell_emission',type=float | int | pandas.core.frame.DataFrame | tuple[float | int | pandas.core.frame.DataFrame, float | int | pandas.core.frame.DataFrame] | dict[energiapy.components.spatial.location.Location | energiapy.components.spatial.linkage.Linkage, float | int | pandas.core.frame.DataFrame | tuple[float | int | pandas.core.frame.DataFrame, float | int | pandas.core.frame.DataFrame]] | dict[energiapy.components.temporal.scale.Scale, float | int | pandas.core.frame.DataFrame | tuple[float | int | pandas.core.frame.DataFrame, float | int | pandas.core.frame.DataFrame]] | dict[energiapy.components.temporal.mode.X, float | int | pandas.core.frame.DataFrame | tuple[float | int | pandas.core.frame.DataFrame, float | int | pandas.core.frame.DataFrame]] | dict[energiapy.components.spatial.location.Location | energiapy.components.spatial.linkage.Linkage, dict[energiapy.components.temporal.scale.Scale, float | int | pandas.core.frame.DataFrame | tuple[float | int | pandas.core.frame.DataFrame, float | int | pandas.core.frame.DataFrame]]] | dict[energiapy.components.spatial.location.Location | energiapy.components.spatial.linkage.Linkage, dict[energiapy.components.temporal.mode.X, float | int | pandas.core.frame.DataFrame | tuple[float | int | pandas.core.frame.DataFrame, float | int | pandas.core.frame.DataFrame]]] | dict[energiapy.components.temporal.scale.Scale, dict[energiapy.components.temporal.mode.X, float | int | pandas.core.frame.DataFrame | tuple[float | int | pandas.core.frame.DataFrame, float | int | pandas.core.frame.DataFrame]]] | dict[energiapy.components.spatial.location.Location | energiapy.components.spatial.linkage.Linkage, dict[energiapy.components.temporal.scale.Scale, dict[energiapy.components.temporal.mode.X, float | int | pandas.core.frame.DataFrame | tuple[float | int | pandas.core.frame.DataFrame, float | int | pandas.core.frame.DataFrame]]]],default=None,default_factory=<dataclasses._MISSING_TYPE object at 0x00000185FED9E4E0>,init=True,repr=True,hash=None,compare=True,metadata=mappingproxy({}),kw_only=False,_field_type=_FIELD),\n",
       " Field(name='loss_emission',type=float | int | pandas.core.frame.DataFrame | tuple[float | int | pandas.core.frame.DataFrame, float | int | pandas.core.frame.DataFrame] | dict[energiapy.components.spatial.location.Location | energiapy.components.spatial.linkage.Linkage, float | int | pandas.core.frame.DataFrame | tuple[float | int | pandas.core.frame.DataFrame, float | int | pandas.core.frame.DataFrame]] | dict[energiapy.components.temporal.scale.Scale, float | int | pandas.core.frame.DataFrame | tuple[float | int | pandas.core.frame.DataFrame, float | int | pandas.core.frame.DataFrame]] | dict[energiapy.components.temporal.mode.X, float | int | pandas.core.frame.DataFrame | tuple[float | int | pandas.core.frame.DataFrame, float | int | pandas.core.frame.DataFrame]] | dict[energiapy.components.spatial.location.Location | energiapy.components.spatial.linkage.Linkage, dict[energiapy.components.temporal.scale.Scale, float | int | pandas.core.frame.DataFrame | tuple[float | int | pandas.core.frame.DataFrame, float | int | pandas.core.frame.DataFrame]]] | dict[energiapy.components.spatial.location.Location | energiapy.components.spatial.linkage.Linkage, dict[energiapy.components.temporal.mode.X, float | int | pandas.core.frame.DataFrame | tuple[float | int | pandas.core.frame.DataFrame, float | int | pandas.core.frame.DataFrame]]] | dict[energiapy.components.temporal.scale.Scale, dict[energiapy.components.temporal.mode.X, float | int | pandas.core.frame.DataFrame | tuple[float | int | pandas.core.frame.DataFrame, float | int | pandas.core.frame.DataFrame]]] | dict[energiapy.components.spatial.location.Location | energiapy.components.spatial.linkage.Linkage, dict[energiapy.components.temporal.scale.Scale, dict[energiapy.components.temporal.mode.X, float | int | pandas.core.frame.DataFrame | tuple[float | int | pandas.core.frame.DataFrame, float | int | pandas.core.frame.DataFrame]]]],default=None,default_factory=<dataclasses._MISSING_TYPE object at 0x00000185FED9E4E0>,init=True,repr=True,hash=None,compare=True,metadata=mappingproxy({}),kw_only=False,_field_type=_FIELD),\n",
       " Field(name='use',type=typing.Union[float, int, pandas.core.frame.DataFrame, tuple[float | int | pandas.core.frame.DataFrame, float | int | pandas.core.frame.DataFrame], typing.Literal[True], list[typing.Union[float, int, pandas.core.frame.DataFrame, tuple[float | int | pandas.core.frame.DataFrame, float | int | pandas.core.frame.DataFrame], typing.Literal[True]]], dict[energiapy.components.spatial.location.Location | energiapy.components.spatial.linkage.Linkage | energiapy.components.spatial.network.Network, typing.Union[float, int, pandas.core.frame.DataFrame, tuple[float | int | pandas.core.frame.DataFrame, float | int | pandas.core.frame.DataFrame], typing.Literal[True], list[typing.Union[float, int, pandas.core.frame.DataFrame, tuple[float | int | pandas.core.frame.DataFrame, float | int | pandas.core.frame.DataFrame], typing.Literal[True]]]]], dict[energiapy.components.temporal.scale.Scale, typing.Union[float, int, pandas.core.frame.DataFrame, tuple[float | int | pandas.core.frame.DataFrame, float | int | pandas.core.frame.DataFrame], typing.Literal[True], list[typing.Union[float, int, pandas.core.frame.DataFrame, tuple[float | int | pandas.core.frame.DataFrame, float | int | pandas.core.frame.DataFrame], typing.Literal[True]]]]], dict[energiapy.components.spatial.location.Location | energiapy.components.spatial.linkage.Linkage | energiapy.components.spatial.network.Network, dict[energiapy.components.temporal.scale.Scale, typing.Union[float, int, pandas.core.frame.DataFrame, tuple[float | int | pandas.core.frame.DataFrame, float | int | pandas.core.frame.DataFrame], typing.Literal[True], list[typing.Union[float, int, pandas.core.frame.DataFrame, tuple[float | int | pandas.core.frame.DataFrame, float | int | pandas.core.frame.DataFrame], typing.Literal[True]]]]]]],default=None,default_factory=<dataclasses._MISSING_TYPE object at 0x00000185FED9E4E0>,init=True,repr=True,hash=None,compare=True,metadata=mappingproxy({}),kw_only=False,_field_type=_FIELD),\n",
       " Field(name='use_cost',type=set[float | int | pandas.core.frame.DataFrame | tuple[float | int | pandas.core.frame.DataFrame, float | int | pandas.core.frame.DataFrame] | energiapy.components.temporal.incidental.I] | dict[energiapy.components.spatial.location.Location | energiapy.components.spatial.linkage.Linkage, set[float | int | pandas.core.frame.DataFrame | tuple[float | int | pandas.core.frame.DataFrame, float | int | pandas.core.frame.DataFrame] | energiapy.components.temporal.incidental.I]] | dict[energiapy.components.temporal.scale.Scale, set[float | int | pandas.core.frame.DataFrame | tuple[float | int | pandas.core.frame.DataFrame, float | int | pandas.core.frame.DataFrame] | energiapy.components.temporal.incidental.I]] | dict[energiapy.components.temporal.mode.X, set[float | int | pandas.core.frame.DataFrame | tuple[float | int | pandas.core.frame.DataFrame, float | int | pandas.core.frame.DataFrame] | energiapy.components.temporal.incidental.I]] | dict[energiapy.components.spatial.location.Location | energiapy.components.spatial.linkage.Linkage, dict[energiapy.components.temporal.scale.Scale, set[float | int | pandas.core.frame.DataFrame | tuple[float | int | pandas.core.frame.DataFrame, float | int | pandas.core.frame.DataFrame] | energiapy.components.temporal.incidental.I]]] | dict[energiapy.components.spatial.location.Location | energiapy.components.spatial.linkage.Linkage, dict[energiapy.components.temporal.mode.X, set[float | int | pandas.core.frame.DataFrame | tuple[float | int | pandas.core.frame.DataFrame, float | int | pandas.core.frame.DataFrame] | energiapy.components.temporal.incidental.I]]] | dict[energiapy.components.temporal.scale.Scale, dict[energiapy.components.temporal.mode.X, set[float | int | pandas.core.frame.DataFrame | tuple[float | int | pandas.core.frame.DataFrame, float | int | pandas.core.frame.DataFrame] | energiapy.components.temporal.incidental.I]]] | dict[energiapy.components.spatial.location.Location | energiapy.components.spatial.linkage.Linkage, dict[energiapy.components.temporal.scale.Scale, dict[energiapy.components.temporal.mode.X, set[float | int | pandas.core.frame.DataFrame | tuple[float | int | pandas.core.frame.DataFrame, float | int | pandas.core.frame.DataFrame] | energiapy.components.temporal.incidental.I]]]],default=None,default_factory=<dataclasses._MISSING_TYPE object at 0x00000185FED9E4E0>,init=True,repr=True,hash=None,compare=True,metadata=mappingproxy({}),kw_only=False,_field_type=_FIELD),\n",
       " Field(name='buy',type=typing.Union[float, int, pandas.core.frame.DataFrame, tuple[float | int | pandas.core.frame.DataFrame, float | int | pandas.core.frame.DataFrame], typing.Literal[True], list[typing.Union[float, int, pandas.core.frame.DataFrame, tuple[float | int | pandas.core.frame.DataFrame, float | int | pandas.core.frame.DataFrame], typing.Literal[True]]], dict[energiapy.components.spatial.location.Location | energiapy.components.spatial.linkage.Linkage | energiapy.components.spatial.network.Network, typing.Union[float, int, pandas.core.frame.DataFrame, tuple[float | int | pandas.core.frame.DataFrame, float | int | pandas.core.frame.DataFrame], typing.Literal[True], list[typing.Union[float, int, pandas.core.frame.DataFrame, tuple[float | int | pandas.core.frame.DataFrame, float | int | pandas.core.frame.DataFrame], typing.Literal[True]]]]], dict[energiapy.components.temporal.scale.Scale, typing.Union[float, int, pandas.core.frame.DataFrame, tuple[float | int | pandas.core.frame.DataFrame, float | int | pandas.core.frame.DataFrame], typing.Literal[True], list[typing.Union[float, int, pandas.core.frame.DataFrame, tuple[float | int | pandas.core.frame.DataFrame, float | int | pandas.core.frame.DataFrame], typing.Literal[True]]]]], dict[energiapy.components.spatial.location.Location | energiapy.components.spatial.linkage.Linkage | energiapy.components.spatial.network.Network, dict[energiapy.components.temporal.scale.Scale, typing.Union[float, int, pandas.core.frame.DataFrame, tuple[float | int | pandas.core.frame.DataFrame, float | int | pandas.core.frame.DataFrame], typing.Literal[True], list[typing.Union[float, int, pandas.core.frame.DataFrame, tuple[float | int | pandas.core.frame.DataFrame, float | int | pandas.core.frame.DataFrame], typing.Literal[True]]]]]]],default=None,default_factory=<dataclasses._MISSING_TYPE object at 0x00000185FED9E4E0>,init=True,repr=True,hash=None,compare=True,metadata=mappingproxy({}),kw_only=False,_field_type=_FIELD),\n",
       " Field(name='sell',type=typing.Union[float, int, pandas.core.frame.DataFrame, tuple[float | int | pandas.core.frame.DataFrame, float | int | pandas.core.frame.DataFrame], typing.Literal[True], list[typing.Union[float, int, pandas.core.frame.DataFrame, tuple[float | int | pandas.core.frame.DataFrame, float | int | pandas.core.frame.DataFrame], typing.Literal[True]]], dict[energiapy.components.spatial.location.Location | energiapy.components.spatial.linkage.Linkage | energiapy.components.spatial.network.Network, typing.Union[float, int, pandas.core.frame.DataFrame, tuple[float | int | pandas.core.frame.DataFrame, float | int | pandas.core.frame.DataFrame], typing.Literal[True], list[typing.Union[float, int, pandas.core.frame.DataFrame, tuple[float | int | pandas.core.frame.DataFrame, float | int | pandas.core.frame.DataFrame], typing.Literal[True]]]]], dict[energiapy.components.temporal.scale.Scale, typing.Union[float, int, pandas.core.frame.DataFrame, tuple[float | int | pandas.core.frame.DataFrame, float | int | pandas.core.frame.DataFrame], typing.Literal[True], list[typing.Union[float, int, pandas.core.frame.DataFrame, tuple[float | int | pandas.core.frame.DataFrame, float | int | pandas.core.frame.DataFrame], typing.Literal[True]]]]], dict[energiapy.components.spatial.location.Location | energiapy.components.spatial.linkage.Linkage | energiapy.components.spatial.network.Network, dict[energiapy.components.temporal.scale.Scale, typing.Union[float, int, pandas.core.frame.DataFrame, tuple[float | int | pandas.core.frame.DataFrame, float | int | pandas.core.frame.DataFrame], typing.Literal[True], list[typing.Union[float, int, pandas.core.frame.DataFrame, tuple[float | int | pandas.core.frame.DataFrame, float | int | pandas.core.frame.DataFrame], typing.Literal[True]]]]]]],default=None,default_factory=<dataclasses._MISSING_TYPE object at 0x00000185FED9E4E0>,init=True,repr=True,hash=None,compare=True,metadata=mappingproxy({}),kw_only=False,_field_type=_FIELD),\n",
       " Field(name='buy_price',type=set[float | int | pandas.core.frame.DataFrame | tuple[float | int | pandas.core.frame.DataFrame, float | int | pandas.core.frame.DataFrame] | energiapy.components.temporal.incidental.I] | dict[energiapy.components.spatial.location.Location | energiapy.components.spatial.linkage.Linkage, set[float | int | pandas.core.frame.DataFrame | tuple[float | int | pandas.core.frame.DataFrame, float | int | pandas.core.frame.DataFrame] | energiapy.components.temporal.incidental.I]] | dict[energiapy.components.temporal.scale.Scale, set[float | int | pandas.core.frame.DataFrame | tuple[float | int | pandas.core.frame.DataFrame, float | int | pandas.core.frame.DataFrame] | energiapy.components.temporal.incidental.I]] | dict[energiapy.components.temporal.mode.X, set[float | int | pandas.core.frame.DataFrame | tuple[float | int | pandas.core.frame.DataFrame, float | int | pandas.core.frame.DataFrame] | energiapy.components.temporal.incidental.I]] | dict[energiapy.components.spatial.location.Location | energiapy.components.spatial.linkage.Linkage, dict[energiapy.components.temporal.scale.Scale, set[float | int | pandas.core.frame.DataFrame | tuple[float | int | pandas.core.frame.DataFrame, float | int | pandas.core.frame.DataFrame] | energiapy.components.temporal.incidental.I]]] | dict[energiapy.components.spatial.location.Location | energiapy.components.spatial.linkage.Linkage, dict[energiapy.components.temporal.mode.X, set[float | int | pandas.core.frame.DataFrame | tuple[float | int | pandas.core.frame.DataFrame, float | int | pandas.core.frame.DataFrame] | energiapy.components.temporal.incidental.I]]] | dict[energiapy.components.temporal.scale.Scale, dict[energiapy.components.temporal.mode.X, set[float | int | pandas.core.frame.DataFrame | tuple[float | int | pandas.core.frame.DataFrame, float | int | pandas.core.frame.DataFrame] | energiapy.components.temporal.incidental.I]]] | dict[energiapy.components.spatial.location.Location | energiapy.components.spatial.linkage.Linkage, dict[energiapy.components.temporal.scale.Scale, dict[energiapy.components.temporal.mode.X, set[float | int | pandas.core.frame.DataFrame | tuple[float | int | pandas.core.frame.DataFrame, float | int | pandas.core.frame.DataFrame] | energiapy.components.temporal.incidental.I]]]],default=None,default_factory=<dataclasses._MISSING_TYPE object at 0x00000185FED9E4E0>,init=True,repr=True,hash=None,compare=True,metadata=mappingproxy({}),kw_only=False,_field_type=_FIELD),\n",
       " Field(name='sell_price',type=set[float | int | pandas.core.frame.DataFrame | tuple[float | int | pandas.core.frame.DataFrame, float | int | pandas.core.frame.DataFrame] | energiapy.components.temporal.incidental.I] | dict[energiapy.components.spatial.location.Location | energiapy.components.spatial.linkage.Linkage, set[float | int | pandas.core.frame.DataFrame | tuple[float | int | pandas.core.frame.DataFrame, float | int | pandas.core.frame.DataFrame] | energiapy.components.temporal.incidental.I]] | dict[energiapy.components.temporal.scale.Scale, set[float | int | pandas.core.frame.DataFrame | tuple[float | int | pandas.core.frame.DataFrame, float | int | pandas.core.frame.DataFrame] | energiapy.components.temporal.incidental.I]] | dict[energiapy.components.temporal.mode.X, set[float | int | pandas.core.frame.DataFrame | tuple[float | int | pandas.core.frame.DataFrame, float | int | pandas.core.frame.DataFrame] | energiapy.components.temporal.incidental.I]] | dict[energiapy.components.spatial.location.Location | energiapy.components.spatial.linkage.Linkage, dict[energiapy.components.temporal.scale.Scale, set[float | int | pandas.core.frame.DataFrame | tuple[float | int | pandas.core.frame.DataFrame, float | int | pandas.core.frame.DataFrame] | energiapy.components.temporal.incidental.I]]] | dict[energiapy.components.spatial.location.Location | energiapy.components.spatial.linkage.Linkage, dict[energiapy.components.temporal.mode.X, set[float | int | pandas.core.frame.DataFrame | tuple[float | int | pandas.core.frame.DataFrame, float | int | pandas.core.frame.DataFrame] | energiapy.components.temporal.incidental.I]]] | dict[energiapy.components.temporal.scale.Scale, dict[energiapy.components.temporal.mode.X, set[float | int | pandas.core.frame.DataFrame | tuple[float | int | pandas.core.frame.DataFrame, float | int | pandas.core.frame.DataFrame] | energiapy.components.temporal.incidental.I]]] | dict[energiapy.components.spatial.location.Location | energiapy.components.spatial.linkage.Linkage, dict[energiapy.components.temporal.scale.Scale, dict[energiapy.components.temporal.mode.X, set[float | int | pandas.core.frame.DataFrame | tuple[float | int | pandas.core.frame.DataFrame, float | int | pandas.core.frame.DataFrame] | energiapy.components.temporal.incidental.I]]]],default=None,default_factory=<dataclasses._MISSING_TYPE object at 0x00000185FED9E4E0>,init=True,repr=True,hash=None,compare=True,metadata=mappingproxy({}),kw_only=False,_field_type=_FIELD),\n",
       " Field(name='credit',type=float | int | pandas.core.frame.DataFrame | tuple[float | int | pandas.core.frame.DataFrame, float | int | pandas.core.frame.DataFrame] | dict[energiapy.components.spatial.location.Location | energiapy.components.spatial.linkage.Linkage, float | int | pandas.core.frame.DataFrame | tuple[float | int | pandas.core.frame.DataFrame, float | int | pandas.core.frame.DataFrame]] | dict[energiapy.components.temporal.scale.Scale, float | int | pandas.core.frame.DataFrame | tuple[float | int | pandas.core.frame.DataFrame, float | int | pandas.core.frame.DataFrame]] | dict[energiapy.components.temporal.mode.X, float | int | pandas.core.frame.DataFrame | tuple[float | int | pandas.core.frame.DataFrame, float | int | pandas.core.frame.DataFrame]] | dict[energiapy.components.spatial.location.Location | energiapy.components.spatial.linkage.Linkage, dict[energiapy.components.temporal.scale.Scale, float | int | pandas.core.frame.DataFrame | tuple[float | int | pandas.core.frame.DataFrame, float | int | pandas.core.frame.DataFrame]]] | dict[energiapy.components.spatial.location.Location | energiapy.components.spatial.linkage.Linkage, dict[energiapy.components.temporal.mode.X, float | int | pandas.core.frame.DataFrame | tuple[float | int | pandas.core.frame.DataFrame, float | int | pandas.core.frame.DataFrame]]] | dict[energiapy.components.temporal.scale.Scale, dict[energiapy.components.temporal.mode.X, float | int | pandas.core.frame.DataFrame | tuple[float | int | pandas.core.frame.DataFrame, float | int | pandas.core.frame.DataFrame]]] | dict[energiapy.components.spatial.location.Location | energiapy.components.spatial.linkage.Linkage, dict[energiapy.components.temporal.scale.Scale, dict[energiapy.components.temporal.mode.X, float | int | pandas.core.frame.DataFrame | tuple[float | int | pandas.core.frame.DataFrame, float | int | pandas.core.frame.DataFrame]]]],default=None,default_factory=<dataclasses._MISSING_TYPE object at 0x00000185FED9E4E0>,init=True,repr=True,hash=None,compare=True,metadata=mappingproxy({}),kw_only=False,_field_type=_FIELD),\n",
       " Field(name='penalty',type=float | int | pandas.core.frame.DataFrame | tuple[float | int | pandas.core.frame.DataFrame, float | int | pandas.core.frame.DataFrame] | dict[energiapy.components.spatial.location.Location | energiapy.components.spatial.linkage.Linkage, float | int | pandas.core.frame.DataFrame | tuple[float | int | pandas.core.frame.DataFrame, float | int | pandas.core.frame.DataFrame]] | dict[energiapy.components.temporal.scale.Scale, float | int | pandas.core.frame.DataFrame | tuple[float | int | pandas.core.frame.DataFrame, float | int | pandas.core.frame.DataFrame]] | dict[energiapy.components.temporal.mode.X, float | int | pandas.core.frame.DataFrame | tuple[float | int | pandas.core.frame.DataFrame, float | int | pandas.core.frame.DataFrame]] | dict[energiapy.components.spatial.location.Location | energiapy.components.spatial.linkage.Linkage, dict[energiapy.components.temporal.scale.Scale, float | int | pandas.core.frame.DataFrame | tuple[float | int | pandas.core.frame.DataFrame, float | int | pandas.core.frame.DataFrame]]] | dict[energiapy.components.spatial.location.Location | energiapy.components.spatial.linkage.Linkage, dict[energiapy.components.temporal.mode.X, float | int | pandas.core.frame.DataFrame | tuple[float | int | pandas.core.frame.DataFrame, float | int | pandas.core.frame.DataFrame]]] | dict[energiapy.components.temporal.scale.Scale, dict[energiapy.components.temporal.mode.X, float | int | pandas.core.frame.DataFrame | tuple[float | int | pandas.core.frame.DataFrame, float | int | pandas.core.frame.DataFrame]]] | dict[energiapy.components.spatial.location.Location | energiapy.components.spatial.linkage.Linkage, dict[energiapy.components.temporal.scale.Scale, dict[energiapy.components.temporal.mode.X, float | int | pandas.core.frame.DataFrame | tuple[float | int | pandas.core.frame.DataFrame, float | int | pandas.core.frame.DataFrame]]]],default=None,default_factory=<dataclasses._MISSING_TYPE object at 0x00000185FED9E4E0>,init=True,repr=True,hash=None,compare=True,metadata=mappingproxy({}),kw_only=False,_field_type=_FIELD),\n",
       " Field(name='conversion',type=dict[energiapy.components.commodity.resource.Resource, int | float] | dict[energiapy.components.temporal.mode.X, dict[energiapy.components.commodity.resource.Resource, int | float]],default=None,default_factory=<dataclasses._MISSING_TYPE object at 0x00000185FED9E4E0>,init=True,repr=True,hash=None,compare=True,metadata=mappingproxy({}),kw_only=False,_field_type=_FIELD))"
      ]
     },
     "execution_count": 19,
     "metadata": {},
     "output_type": "execute_result"
    }
   ],
   "source": [
    "fields(Process)"
   ]
  },
  {
   "cell_type": "code",
   "execution_count": 20,
   "metadata": {},
   "outputs": [
    {
     "data": {
      "text/plain": [
       "['setup_time',\n",
       " 'setup_use',\n",
       " 'setup_emission',\n",
       " 'capex',\n",
       " 'opex',\n",
       " 'produce',\n",
       " 'capacity',\n",
       " 'emit',\n",
       " 'setup_emission',\n",
       " 'use_emission',\n",
       " 'buy_emission',\n",
       " 'sell_emission',\n",
       " 'loss_emission',\n",
       " 'use',\n",
       " 'use_cost',\n",
       " 'buy',\n",
       " 'sell',\n",
       " 'buy_price',\n",
       " 'sell_price',\n",
       " 'credit',\n",
       " 'penalty']"
      ]
     },
     "execution_count": 20,
     "metadata": {},
     "output_type": "execute_result"
    }
   ],
   "source": [
    "Process.inputs()"
   ]
  },
  {
   "cell_type": "code",
   "execution_count": 18,
   "metadata": {},
   "outputs": [
    {
     "name": "stdout",
     "output_type": "stream",
     "text": [
      "1.5\n",
      "1.5\n",
      "1.5\n",
      "30\n",
      "30\n",
      "30\n",
      "50\n",
      "50\n",
      "50\n",
      "2900\n",
      "2900\n",
      "2900\n",
      "{1462000, i}\n",
      "{4953, i}\n",
      "{4953, i}\n",
      "{4953, i}\n",
      "[(0, 3), (3, 5)]\n",
      "1000\n"
     ]
    },
    {
     "ename": "InputTypeError",
     "evalue": "setup_emission{(gwp, WF, cacoda, t0): 50[gwp, WF, cacoda, t0], (gwp, WF, madgaon, t0): 50[gwp, WF, madgaon, t0], (gwp, WF, ponje, t0): 50[gwp, WF, ponje, t0], (odp, WF, cacoda, t0): 2900[odp, WF, cacoda, t0], (odp, WF, madgaon, t0): 2900[odp, WF, madgaon, t0], (odp, WF, ponje, t0): 2900[odp, WF, ponje, t0]} [<class 'energiapy.environ.datum.Datum'>] is not a valid input for WF.setup_emission.\nExact attrs can only take certain types.\nCheck Scenario.attr.bounds() for Bound attrs.\nCheck Scenario.attr.exacts() for Exact attrs.\nCheckout energiapy.core.aliases.is_input for valid input types.",
     "output_type": "error",
     "traceback": [
      "\u001b[1;31m---------------------------------------------------------------------------\u001b[0m",
      "\u001b[1;31mInputTypeError\u001b[0m                            Traceback (most recent call last)",
      "Cell \u001b[1;32mIn[18], line 1\u001b[0m\n\u001b[1;32m----> 1\u001b[0m \u001b[43ms\u001b[49m\u001b[38;5;241;43m.\u001b[39;49m\u001b[43mWF\u001b[49m \u001b[38;5;241m=\u001b[39m Process(\n\u001b[0;32m      2\u001b[0m     conversion\u001b[38;5;241m=\u001b[39m{s\u001b[38;5;241m.\u001b[39mPower: {X(\u001b[38;5;241m0\u001b[39m): {s\u001b[38;5;241m.\u001b[39mWind: \u001b[38;5;241m-\u001b[39m\u001b[38;5;241m1\u001b[39m}, X(\u001b[38;5;241m1\u001b[39m): {s\u001b[38;5;241m.\u001b[39mWind: \u001b[38;5;241m-\u001b[39m\u001b[38;5;241m1\u001b[39m}}},\n\u001b[0;32m      3\u001b[0m     produce\u001b[38;5;241m=\u001b[39m[(\u001b[38;5;241m0\u001b[39m, \u001b[38;5;241m3\u001b[39m), (\u001b[38;5;241m3\u001b[39m, \u001b[38;5;241m5\u001b[39m)],\n\u001b[0;32m      4\u001b[0m     capex\u001b[38;5;241m=\u001b[39m{s\u001b[38;5;241m.\u001b[39mmadgaon: {s\u001b[38;5;241m.\u001b[39mt1: {\u001b[38;5;241m1462000\u001b[39m, I(\u001b[38;5;241m202233\u001b[39m)}}},\n\u001b[0;32m      5\u001b[0m     opex\u001b[38;5;241m=\u001b[39m{\u001b[38;5;241m4953\u001b[39m, I(\u001b[38;5;241m70\u001b[39m)},\n\u001b[0;32m      6\u001b[0m     capacity\u001b[38;5;241m=\u001b[39m\u001b[38;5;241m1000\u001b[39m,\n\u001b[0;32m      7\u001b[0m     setup_emission\u001b[38;5;241m=\u001b[39m{s\u001b[38;5;241m.\u001b[39mgwp: \u001b[38;5;241m50\u001b[39m, s\u001b[38;5;241m.\u001b[39modp: \u001b[38;5;241m2900\u001b[39m},\n\u001b[0;32m      8\u001b[0m     setup_use\u001b[38;5;241m=\u001b[39m{s\u001b[38;5;241m.\u001b[39mLiR: \u001b[38;5;241m1.5\u001b[39m, s\u001b[38;5;241m.\u001b[39mland: \u001b[38;5;241m30\u001b[39m},\n\u001b[0;32m      9\u001b[0m     locations\u001b[38;5;241m=\u001b[39m[s\u001b[38;5;241m.\u001b[39mmadgaon, s\u001b[38;5;241m.\u001b[39mponje],\n\u001b[0;32m     10\u001b[0m     label\u001b[38;5;241m=\u001b[39m\u001b[38;5;124m'\u001b[39m\u001b[38;5;124mWind mill array\u001b[39m\u001b[38;5;124m'\u001b[39m,\n\u001b[0;32m     11\u001b[0m     basis\u001b[38;5;241m=\u001b[39m\u001b[38;5;124m'\u001b[39m\u001b[38;5;124mMW\u001b[39m\u001b[38;5;124m'\u001b[39m,\n\u001b[0;32m     12\u001b[0m )\n\u001b[0;32m     15\u001b[0m s\u001b[38;5;241m.\u001b[39mPV \u001b[38;5;241m=\u001b[39m Process(\n\u001b[0;32m     16\u001b[0m     sell_price\u001b[38;5;241m=\u001b[39m{s\u001b[38;5;241m.\u001b[39mPower: \u001b[38;5;241m30\u001b[39m},\n\u001b[0;32m     17\u001b[0m     credit\u001b[38;5;241m=\u001b[39m{s\u001b[38;5;241m.\u001b[39mPower: DataFrame({\u001b[38;5;124m'\u001b[39m\u001b[38;5;124ma\u001b[39m\u001b[38;5;124m'\u001b[39m: [\u001b[38;5;241m2\u001b[39m]})},\n\u001b[1;32m   (...)\u001b[0m\n\u001b[0;32m     24\u001b[0m     basis\u001b[38;5;241m=\u001b[39m\u001b[38;5;124m'\u001b[39m\u001b[38;5;124mMW\u001b[39m\u001b[38;5;124m'\u001b[39m,\n\u001b[0;32m     25\u001b[0m )\n\u001b[0;32m     28\u001b[0m s\u001b[38;5;241m.\u001b[39mSMRH \u001b[38;5;241m=\u001b[39m Process(\n\u001b[0;32m     29\u001b[0m     setup_use\u001b[38;5;241m=\u001b[39m{s\u001b[38;5;241m.\u001b[39mland: \u001b[38;5;241m50\u001b[39m},\n\u001b[0;32m     30\u001b[0m     conversion\u001b[38;5;241m=\u001b[39m{\n\u001b[1;32m   (...)\u001b[0m\n\u001b[0;32m     44\u001b[0m     label\u001b[38;5;241m=\u001b[39m\u001b[38;5;124m'\u001b[39m\u001b[38;5;124mSteam methane reforming + CCUS\u001b[39m\u001b[38;5;124m'\u001b[39m,\n\u001b[0;32m     45\u001b[0m )\n",
      "File \u001b[1;32mc:\\Users\\cacodcar\\energiapy\\src\\energiapy\\environ\\scenario.py:159\u001b[0m, in \u001b[0;36mScenario.__setattr__\u001b[1;34m(self, name, value)\u001b[0m\n\u001b[0;32m    154\u001b[0m         \u001b[38;5;28mself\u001b[39m\u001b[38;5;241m.\u001b[39mhandle_unique_cmp(cmp\u001b[38;5;241m=\u001b[39m\u001b[38;5;124m'\u001b[39m\u001b[38;5;124mland\u001b[39m\u001b[38;5;124m'\u001b[39m, component\u001b[38;5;241m=\u001b[39mvalue)\n\u001b[0;32m    156\u001b[0m     \u001b[38;5;66;03m# All defined components have constraints\u001b[39;00m\n\u001b[0;32m    157\u001b[0m     \u001b[38;5;66;03m# The data is handled first and made into internal formats and added to the Data Model\u001b[39;00m\n\u001b[0;32m    158\u001b[0m     \u001b[38;5;66;03m# The Program Model is then generated using information from the Data Model\u001b[39;00m\n\u001b[1;32m--> 159\u001b[0m     \u001b[38;5;28;43mself\u001b[39;49m\u001b[38;5;241;43m.\u001b[39;49m\u001b[43mupdate_model\u001b[49m\u001b[43m(\u001b[49m\u001b[43mname\u001b[49m\u001b[38;5;241;43m=\u001b[39;49m\u001b[43mname\u001b[49m\u001b[43m,\u001b[49m\u001b[43m \u001b[49m\u001b[43mcomponent\u001b[49m\u001b[38;5;241;43m=\u001b[39;49m\u001b[43mvalue\u001b[49m\u001b[43m)\u001b[49m\n\u001b[0;32m    161\u001b[0m \u001b[38;5;66;03m# Horizon, Network, Linkages and Storage give birth to new components\u001b[39;00m\n\u001b[0;32m    162\u001b[0m \u001b[38;5;28;01mif\u001b[39;00m \u001b[38;5;28misinstance\u001b[39m(value, Horizon):\n",
      "File \u001b[1;32mc:\\Users\\cacodcar\\energiapy\\src\\energiapy\\environ\\_scenario\\_update.py:130\u001b[0m, in \u001b[0;36m_Update.update_model\u001b[1;34m(self, name, component)\u001b[0m\n\u001b[0;32m    126\u001b[0m \u001b[38;5;28;01mfor\u001b[39;00m attr \u001b[38;5;129;01min\u001b[39;00m component\u001b[38;5;241m.\u001b[39minputs():\n\u001b[0;32m    127\u001b[0m     \u001b[38;5;28;01mif\u001b[39;00m \u001b[38;5;28mgetattr\u001b[39m(component, attr, \u001b[38;5;28;01mFalse\u001b[39;00m):\n\u001b[0;32m    128\u001b[0m         \u001b[38;5;66;03m# set the input as attribute in the DataBlock\u001b[39;00m\n\u001b[0;32m    129\u001b[0m         \u001b[38;5;66;03m# This will make them into energiapy internal formats - Constant, DataSet, Theta, M\u001b[39;00m\n\u001b[1;32m--> 130\u001b[0m         \u001b[38;5;28;43msetattr\u001b[39;49m\u001b[43m(\u001b[49m\u001b[43mdatablock\u001b[49m\u001b[43m,\u001b[49m\u001b[43m \u001b[49m\u001b[43mattr\u001b[49m\u001b[43m,\u001b[49m\u001b[43m \u001b[49m\u001b[43m{\u001b[49m\u001b[43mcomponent\u001b[49m\u001b[43m:\u001b[49m\u001b[43m \u001b[49m\u001b[38;5;28;43mgetattr\u001b[39;49m\u001b[43m(\u001b[49m\u001b[43mcomponent\u001b[49m\u001b[43m,\u001b[49m\u001b[43m \u001b[49m\u001b[43mattr\u001b[49m\u001b[43m)\u001b[49m\u001b[43m}\u001b[49m\u001b[43m)\u001b[49m\n\u001b[0;32m    132\u001b[0m         \u001b[38;5;66;03m# The updated Values are then set back into the component\u001b[39;00m\n\u001b[0;32m    133\u001b[0m         \u001b[38;5;28msetattr\u001b[39m(component, attr, datablock\u001b[38;5;241m.\u001b[39mdata[attr])\n",
      "File \u001b[1;32mc:\\Users\\cacodcar\\energiapy\\src\\energiapy\\environ\\blocks\\data.py:59\u001b[0m, in \u001b[0;36mDataBlock.__setattr__\u001b[1;34m(self, name, value)\u001b[0m\n\u001b[0;32m     53\u001b[0m varbnds \u001b[38;5;241m=\u001b[39m [VarBnd\u001b[38;5;241m.\u001b[39mLB, VarBnd\u001b[38;5;241m.\u001b[39mUB]\n\u001b[0;32m     55\u001b[0m \u001b[38;5;28;01mif\u001b[39;00m \u001b[38;5;28misinstance\u001b[39m(value, \u001b[38;5;28mdict\u001b[39m) \u001b[38;5;129;01mand\u001b[39;00m \u001b[38;5;129;01mnot\u001b[39;00m name \u001b[38;5;241m==\u001b[39m \u001b[38;5;124m'\u001b[39m\u001b[38;5;124mdata\u001b[39m\u001b[38;5;124m'\u001b[39m:\n\u001b[0;32m     56\u001b[0m     \u001b[38;5;66;03m# _Spt holds the data in a particular format\u001b[39;00m\n\u001b[0;32m     57\u001b[0m     \u001b[38;5;66;03m# {Index: value}. The disposition is made there\u001b[39;00m\n\u001b[0;32m     58\u001b[0m     \u001b[38;5;66;03m# This is only temporary and the user eventually sees a list of parameters\u001b[39;00m\n\u001b[1;32m---> 59\u001b[0m     datum \u001b[38;5;241m=\u001b[39m \u001b[43mDatum\u001b[49m\u001b[43m(\u001b[49m\u001b[43mattr\u001b[49m\u001b[38;5;241;43m=\u001b[39;49m\u001b[43mname\u001b[49m\u001b[43m,\u001b[49m\u001b[43m \u001b[49m\u001b[43mdata\u001b[49m\u001b[38;5;241;43m=\u001b[39;49m\u001b[43mvalue\u001b[49m\u001b[43m,\u001b[49m\u001b[43m \u001b[49m\u001b[43mcomponent\u001b[49m\u001b[38;5;241;43m=\u001b[39;49m\u001b[38;5;28;43mself\u001b[39;49m\u001b[38;5;241;43m.\u001b[39;49m\u001b[43mcomponent\u001b[49m\u001b[43m)\u001b[49m\n\u001b[0;32m     60\u001b[0m     \u001b[38;5;28;01mfor\u001b[39;00m index, datapoint \u001b[38;5;129;01min\u001b[39;00m datum\u001b[38;5;241m.\u001b[39mdata\u001b[38;5;241m.\u001b[39mitems():\n\u001b[0;32m     62\u001b[0m         \u001b[38;5;28;01mif\u001b[39;00m datapoint \u001b[38;5;129;01mis\u001b[39;00m \u001b[38;5;28;01mTrue\u001b[39;00m:\n\u001b[0;32m     63\u001b[0m             \u001b[38;5;66;03m# if datapoint is True, put it in a list\u001b[39;00m\n\u001b[0;32m     64\u001b[0m             \u001b[38;5;66;03m# it will become an upper bound in the next step\u001b[39;00m\n",
      "File \u001b[1;32m<string>:6\u001b[0m, in \u001b[0;36m__init__\u001b[1;34m(self, attr, data, component)\u001b[0m\n",
      "File \u001b[1;32mc:\\Users\\cacodcar\\energiapy\\src\\energiapy\\environ\\datum.py:65\u001b[0m, in \u001b[0;36mDatum.__post_init__\u001b[1;34m(self)\u001b[0m\n\u001b[0;32m     60\u001b[0m \u001b[38;5;28;01mdef\u001b[39;00m \u001b[38;5;21m__post_init__\u001b[39m(\u001b[38;5;28mself\u001b[39m):\n\u001b[0;32m     61\u001b[0m     \u001b[38;5;66;03m# The original dictionary input\u001b[39;00m\n\u001b[0;32m     62\u001b[0m     \u001b[38;5;66;03m# keep it because some operations birth processes\u001b[39;00m\n\u001b[0;32m     63\u001b[0m     \u001b[38;5;66;03m# processes need the og input\u001b[39;00m\n\u001b[0;32m     64\u001b[0m     \u001b[38;5;28mself\u001b[39m\u001b[38;5;241m.\u001b[39mog_input \u001b[38;5;241m=\u001b[39m \u001b[38;5;28mself\u001b[39m\u001b[38;5;241m.\u001b[39mdata\n\u001b[1;32m---> 65\u001b[0m     \u001b[38;5;28;43mself\u001b[39;49m\u001b[38;5;241;43m.\u001b[39;49m\u001b[43mupdate_data\u001b[49m\u001b[43m(\u001b[49m\u001b[43m)\u001b[49m\n",
      "File \u001b[1;32mc:\\Users\\cacodcar\\energiapy\\src\\energiapy\\environ\\datum.py:152\u001b[0m, in \u001b[0;36mDatum.update_data\u001b[1;34m(self)\u001b[0m\n\u001b[0;32m    133\u001b[0m disp \u001b[38;5;241m=\u001b[39m Index(\n\u001b[0;32m    134\u001b[0m     ply\u001b[38;5;241m=\u001b[39mply,\n\u001b[0;32m    135\u001b[0m     emn\u001b[38;5;241m=\u001b[39memn,\n\u001b[1;32m   (...)\u001b[0m\n\u001b[0;32m    147\u001b[0m     mde\u001b[38;5;241m=\u001b[39mmde,\n\u001b[0;32m    148\u001b[0m )\n\u001b[0;32m    150\u001b[0m \u001b[38;5;66;03m# Check whether the input value type is appropriate\u001b[39;00m\n\u001b[0;32m    151\u001b[0m \u001b[38;5;66;03m# if not raises an InputTypeError\u001b[39;00m\n\u001b[1;32m--> 152\u001b[0m \u001b[38;5;28;43mself\u001b[39;49m\u001b[38;5;241;43m.\u001b[39;49m\u001b[43mcheck_type\u001b[49m\u001b[43m(\u001b[49m\u001b[43mval\u001b[49m\u001b[43m)\u001b[49m\n\u001b[0;32m    153\u001b[0m \u001b[38;5;28mprint\u001b[39m(val)\n\u001b[0;32m    154\u001b[0m dict_upd[disp] \u001b[38;5;241m=\u001b[39m val\n",
      "File \u001b[1;32mc:\\Users\\cacodcar\\energiapy\\src\\energiapy\\environ\\datum.py:277\u001b[0m, in \u001b[0;36mDatum.check_type\u001b[1;34m(self, value)\u001b[0m\n\u001b[0;32m    268\u001b[0m \u001b[38;5;28;01mif\u001b[39;00m \u001b[38;5;28mself\u001b[39m\u001b[38;5;241m.\u001b[39mattr \u001b[38;5;129;01min\u001b[39;00m \u001b[38;5;28mself\u001b[39m\u001b[38;5;241m.\u001b[39mcomponent\u001b[38;5;241m.\u001b[39mexacts():\n\u001b[0;32m    269\u001b[0m     \u001b[38;5;66;03m# Exact inputs cannot be:\u001b[39;00m\n\u001b[0;32m    270\u001b[0m     \u001b[38;5;66;03m# lists - used for upper and lower bounds\u001b[39;00m\n\u001b[0;32m    271\u001b[0m     \u001b[38;5;66;03m# bool (True) - used for BigM\u001b[39;00m\n\u001b[0;32m    273\u001b[0m     \u001b[38;5;28;01mif\u001b[39;00m (\n\u001b[0;32m    274\u001b[0m         \u001b[38;5;129;01mnot\u001b[39;00m \u001b[38;5;28misinstance\u001b[39m(value, (\u001b[38;5;28mint\u001b[39m, \u001b[38;5;28mfloat\u001b[39m, DataFrame, \u001b[38;5;28mtuple\u001b[39m, \u001b[38;5;28mset\u001b[39m, I))\n\u001b[0;32m    275\u001b[0m         \u001b[38;5;129;01mor\u001b[39;00m value \u001b[38;5;129;01mis\u001b[39;00m \u001b[38;5;28;01mTrue\u001b[39;00m\n\u001b[0;32m    276\u001b[0m     ):\n\u001b[1;32m--> 277\u001b[0m         \u001b[38;5;28;01mraise\u001b[39;00m InputTypeError(\n\u001b[0;32m    278\u001b[0m             \u001b[38;5;124m'\u001b[39m\u001b[38;5;124mExact attrs can only take certain types\u001b[39m\u001b[38;5;124m'\u001b[39m,\n\u001b[0;32m    279\u001b[0m             \u001b[38;5;28mself\u001b[39m\u001b[38;5;241m.\u001b[39mcomponent,\n\u001b[0;32m    280\u001b[0m             \u001b[38;5;28mself\u001b[39m\u001b[38;5;241m.\u001b[39mattr,\n\u001b[0;32m    281\u001b[0m             value,\n\u001b[0;32m    282\u001b[0m         )\n",
      "\u001b[1;31mInputTypeError\u001b[0m: setup_emission{(gwp, WF, cacoda, t0): 50[gwp, WF, cacoda, t0], (gwp, WF, madgaon, t0): 50[gwp, WF, madgaon, t0], (gwp, WF, ponje, t0): 50[gwp, WF, ponje, t0], (odp, WF, cacoda, t0): 2900[odp, WF, cacoda, t0], (odp, WF, madgaon, t0): 2900[odp, WF, madgaon, t0], (odp, WF, ponje, t0): 2900[odp, WF, ponje, t0]} [<class 'energiapy.environ.datum.Datum'>] is not a valid input for WF.setup_emission.\nExact attrs can only take certain types.\nCheck Scenario.attr.bounds() for Bound attrs.\nCheck Scenario.attr.exacts() for Exact attrs.\nCheckout energiapy.core.aliases.is_input for valid input types."
     ]
    }
   ],
   "source": [
    "s.WF = Process(\n",
    "    conversion={s.Power: {X(0): {s.Wind: -1}, X(1): {s.Wind: -1}}},\n",
    "    produce=[(0, 3), (3, 5)],\n",
    "    capex={s.madgaon: {s.t1: {1462000, I(202233)}}},\n",
    "    opex={4953, I(70)},\n",
    "    capacity=1000,\n",
    "    setup_emission={s.gwp: 50, s.odp: 2900},\n",
    "    setup_use={s.LiR: 1.5, s.land: 30},\n",
    "    locations=[s.madgaon, s.ponje],\n",
    "    label='Wind mill array',\n",
    "    basis='MW',\n",
    ")\n",
    "\n",
    "\n",
    "s.PV = Process(\n",
    "    sell_price={s.Power: 30},\n",
    "    credit={s.Power: DataFrame({'a': [2]})},\n",
    "    conversion={s.Power: {X(1): {s.Solar: -1.2}, X(2): {s.Solar: -1.5}}},\n",
    "    capex={X(0): 1333, X(1): 1444, X(2): 1555},\n",
    "    opex=22623,\n",
    "    capacity={X(0): 3000, X(1): 4000, X(2): 5000},\n",
    "    locations=s.cacoda,\n",
    "    label='Solar PV',\n",
    "    basis='MW',\n",
    ")\n",
    "\n",
    "\n",
    "s.SMRH = Process(\n",
    "    setup_use={s.land: 50},\n",
    "    conversion={\n",
    "        s.H2: {\n",
    "            s.Power: -1.11,\n",
    "            s.CH4: -3.76,\n",
    "            s.H2O: -23.7,\n",
    "            s.CO2_Vent: 1.03,\n",
    "            s.CO2: 9.332,\n",
    "        }\n",
    "    },\n",
    "    capex={\n",
    "        2520000,\n",
    "    },\n",
    "    opex={51.5, I(945000)},\n",
    "    capacity=[1000],\n",
    "    label='Steam methane reforming + CCUS',\n",
    ")\n",
    "\n",
    "s.NGCC = Process(\n",
    "    buy_price={s.CH4: 4, s.H2O: 20},\n",
    "    conversion={\n",
    "        s.Power: {\n",
    "            s.CH4: -0.108,\n",
    "            s.H2O: -10,\n",
    "            s.CO2_Vent: 0.297 * 0.05,\n",
    "            s.CO2: 0.297 * 0.95,\n",
    "        }\n",
    "    },\n",
    "    capex=2158928,\n",
    "    opex={4090, I(53320)},\n",
    "    capacity=[1, 100],\n",
    "    label='NGCC + 95% CC',\n",
    ")\n",
    "s.SMR = Process(\n",
    "    capex=2400,\n",
    "    opex={0.03, I(800)},\n",
    "    conversion={s.H2: {s.Power: -1.11, s.CH4: -3.76, s.H2O: -23.7, s.CO2_Vent: 9.4979}},\n",
    "    capacity=1000,\n",
    "    label='Steam methane reforming',\n",
    ")\n",
    "s.H2FC = Process(\n",
    "    buy_price={s.H2: 2},\n",
    "    sell={s.Power: 20},\n",
    "    conversion={s.Power: {s.H2: -0.050}},\n",
    "    capex=1.6 * 10**6,\n",
    "    opex=3.5,\n",
    "    capacity=[1000, 2000],\n",
    "    label='hydrogen fuel cell',\n",
    ")\n",
    "s.DAC = Process(\n",
    "    capex=0.02536,\n",
    "    opex=0.634,\n",
    "    conversion={s.CO2_DAC: {s.Power: -0.193, s.H2O: -4.048}},\n",
    "    capacity=1000,\n",
    "    label='Direct air capture',\n",
    ")\n",
    "# s.PSH = Process(conversion = {s.Power: 0.6}, capex = 3924781, fopex= 17820, vopex = 512.5, store = 10000, capacity=1000, label='Pumped storage hydropower', basis = 'MW')\n",
    "s.ASMR = Process(\n",
    "    buy={s.Uranium: 40},\n",
    "    conversion={s.Power: {s.Uranium: -4.17 * 10 ** (-5), s.H2O: -3.364}},\n",
    "    capex=7988951,\n",
    "    opex=I(0.04 * 0.730),\n",
    "    capacity=1000,\n",
    "    label='Small modular reactors (SMRs)',\n",
    "    locations=s.madgaon,\n",
    ")\n",
    "s.AWE = Process(\n",
    "    setup_use={s.land: (0, 20)},\n",
    "    conversion={s.H2: {s.Power: -1, s.O2: 0.7632, s.H2O: -0.1753}},\n",
    "    capex={1.1 * 10**6, I(20)},\n",
    "    opex=I(16918),\n",
    "    capacity=True,\n",
    "    label='Alkaline water electrolysis (AWE)',\n",
    "    citation='Demirhan et al. 2018 AIChE paper',\n",
    ")"
   ]
  },
  {
   "cell_type": "code",
   "execution_count": 34,
   "metadata": {},
   "outputs": [
    {
     "ename": "AttributeError",
     "evalue": "'Scenario' object has no attribute 'AWE'",
     "output_type": "error",
     "traceback": [
      "\u001b[1;31m---------------------------------------------------------------------------\u001b[0m",
      "\u001b[1;31mAttributeError\u001b[0m                            Traceback (most recent call last)",
      "Cell \u001b[1;32mIn[34], line 1\u001b[0m\n\u001b[1;32m----> 1\u001b[0m \u001b[38;5;28mgetattr\u001b[39m(\u001b[43ms\u001b[49m\u001b[38;5;241;43m.\u001b[39;49m\u001b[43mAWE\u001b[49m\u001b[38;5;241m.\u001b[39mtaskmaster, \u001b[38;5;124m'\u001b[39m\u001b[38;5;124mcapex\u001b[39m\u001b[38;5;124m'\u001b[39m)\u001b[38;5;241m.\u001b[39m\u001b[38;5;18m__dict__\u001b[39m\n",
      "\u001b[1;31mAttributeError\u001b[0m: 'Scenario' object has no attribute 'AWE'"
     ]
    }
   ],
   "source": [
    "getattr(s.AWE.taskmaster, 'capex').__dict__"
   ]
  },
  {
   "cell_type": "code",
   "execution_count": 29,
   "metadata": {},
   "outputs": [
    {
     "data": {
      "text/latex": [
       "$\\displaystyle {spend}_{csh,madgaon,t_{0}} \\geq 0$"
      ],
      "text/plain": [
       "<IPython.core.display.Math object>"
      ]
     },
     "metadata": {},
     "output_type": "display_data"
    },
    {
     "data": {
      "text/latex": [
       "$\\displaystyle {spend}_{csh,madgaon,t_{0}} \\leq M$"
      ],
      "text/plain": [
       "<IPython.core.display.Math object>"
      ]
     },
     "metadata": {},
     "output_type": "display_data"
    },
    {
     "data": {
      "text/latex": [
       "$\\displaystyle {spend}_{csh,ponje,t_{1}} = {θ}_{csh,ponje,t_{1}}$"
      ],
      "text/plain": [
       "<IPython.core.display.Math object>"
      ]
     },
     "metadata": {},
     "output_type": "display_data"
    },
    {
     "data": {
      "text/latex": [
       "$\\displaystyle {spend}_{csh,cacoda,t_{1}} = {DtSt}_{csh,cacoda,t_{1}}$"
      ],
      "text/plain": [
       "<IPython.core.display.Math object>"
      ]
     },
     "metadata": {},
     "output_type": "display_data"
    },
    {
     "data": {
      "text/latex": [
       "$\\displaystyle {spend}_{csh,net,t_{2}} \\geq 5$"
      ],
      "text/plain": [
       "<IPython.core.display.Math object>"
      ]
     },
     "metadata": {},
     "output_type": "display_data"
    },
    {
     "data": {
      "text/latex": [
       "$\\displaystyle {spend}_{csh,net,t_{2}} \\leq 7$"
      ],
      "text/plain": [
       "<IPython.core.display.Math object>"
      ]
     },
     "metadata": {},
     "output_type": "display_data"
    },
    {
     "data": {
      "text/latex": [
       "$\\displaystyle {exp^{sell}}_{csh,H_{2},cacoda,t_{0}} = {sell}_{H_{2},cacoda,t_{0}} \\cdot 300$"
      ],
      "text/plain": [
       "<IPython.core.display.Math object>"
      ]
     },
     "metadata": {},
     "output_type": "display_data"
    },
    {
     "data": {
      "text/latex": [
       "$\\displaystyle {exp^{sell}}_{csh,H_{2},madgaon,t_{1}} = {sell}_{H_{2},madgaon,t_{1}} \\cdot {θ}_{csh,H_{2},madgaon,t_{1}}$"
      ],
      "text/plain": [
       "<IPython.core.display.Math object>"
      ]
     },
     "metadata": {},
     "output_type": "display_data"
    },
    {
     "data": {
      "text/latex": [
       "$\\displaystyle {exp^{sell}}_{csh,H_{2},ponje,t_{2}} = {sell}_{H_{2},ponje,t_{2}} \\cdot {θ}_{csh,H_{2},ponje,t_{2}}$"
      ],
      "text/plain": [
       "<IPython.core.display.Math object>"
      ]
     },
     "metadata": {},
     "output_type": "display_data"
    },
    {
     "data": {
      "text/latex": [
       "$\\displaystyle {buy}_{Solar,net,t_{0}} \\geq 0$"
      ],
      "text/plain": [
       "<IPython.core.display.Math object>"
      ]
     },
     "metadata": {},
     "output_type": "display_data"
    },
    {
     "data": {
      "text/latex": [
       "$\\displaystyle {buy}_{Solar,net,t_{0}} \\leq M$"
      ],
      "text/plain": [
       "<IPython.core.display.Math object>"
      ]
     },
     "metadata": {},
     "output_type": "display_data"
    },
    {
     "data": {
      "text/latex": [
       "$\\displaystyle {buy}_{Wind,net,t_{1}} = {DtSt}_{Wind,net,t_{1}}$"
      ],
      "text/plain": [
       "<IPython.core.display.Math object>"
      ]
     },
     "metadata": {},
     "output_type": "display_data"
    },
    {
     "data": {
      "text/latex": [
       "$\\displaystyle {buy}_{Power,net,t_{1}} \\geq 0$"
      ],
      "text/plain": [
       "<IPython.core.display.Math object>"
      ]
     },
     "metadata": {},
     "output_type": "display_data"
    },
    {
     "data": {
      "text/latex": [
       "$\\displaystyle {buy}_{Power,net,t_{1}} \\leq {DtSt^{max}}_{Power,net,t_{1}}$"
      ],
      "text/plain": [
       "<IPython.core.display.Math object>"
      ]
     },
     "metadata": {},
     "output_type": "display_data"
    },
    {
     "data": {
      "text/latex": [
       "$\\displaystyle {buy}_{Uranium,net,t_{2}} = {DtSt}_{Uranium,net,t_{2}}$"
      ],
      "text/plain": [
       "<IPython.core.display.Math object>"
      ]
     },
     "metadata": {},
     "output_type": "display_data"
    },
    {
     "data": {
      "text/latex": [
       "$\\displaystyle {exp^{buy}}_{csh,Uranium,cacoda,t_{0}} = {buy}_{Uranium,cacoda,t_{0}} \\cdot 0.3416$"
      ],
      "text/plain": [
       "<IPython.core.display.Math object>"
      ]
     },
     "metadata": {},
     "output_type": "display_data"
    },
    {
     "data": {
      "text/latex": [
       "$\\displaystyle {exp^{buy}}_{csh,Uranium,madgaon,t_{0}} = {buy}_{Uranium,madgaon,t_{0}} \\cdot 0.3416$"
      ],
      "text/plain": [
       "<IPython.core.display.Math object>"
      ]
     },
     "metadata": {},
     "output_type": "display_data"
    },
    {
     "data": {
      "text/latex": [
       "$\\displaystyle {exp^{buy}}_{csh,Uranium,ponje,t_{0}} = {buy}_{Uranium,ponje,t_{0}} \\cdot 0.3416$"
      ],
      "text/plain": [
       "<IPython.core.display.Math object>"
      ]
     },
     "metadata": {},
     "output_type": "display_data"
    },
    {
     "data": {
      "text/latex": [
       "$\\displaystyle {buy}_{H2O,net,t_{0}} = {θ}_{H2O,net,t_{0}}$"
      ],
      "text/plain": [
       "<IPython.core.display.Math object>"
      ]
     },
     "metadata": {},
     "output_type": "display_data"
    },
    {
     "data": {
      "text/latex": [
       "$\\displaystyle {exp^{buy}}_{csh,H2O,cacoda,t_{2}} = {DtSt}_{csh,H2O,cacoda,t_{2}} \\cdot {buy}_{H2O,cacoda,t_{2}}$"
      ],
      "text/plain": [
       "<IPython.core.display.Math object>"
      ]
     },
     "metadata": {},
     "output_type": "display_data"
    },
    {
     "data": {
      "text/latex": [
       "$\\displaystyle {exp^{buy}}_{csh,H2O,madgaon,t_{2}} = {DtSt}_{csh,H2O,madgaon,t_{2}} \\cdot {buy}_{H2O,madgaon,t_{2}}$"
      ],
      "text/plain": [
       "<IPython.core.display.Math object>"
      ]
     },
     "metadata": {},
     "output_type": "display_data"
    },
    {
     "data": {
      "text/latex": [
       "$\\displaystyle {exp^{buy}}_{csh,H2O,ponje,t_{2}} = {DtSt}_{csh,H2O,ponje,t_{2}} \\cdot {buy}_{H2O,ponje,t_{2}}$"
      ],
      "text/plain": [
       "<IPython.core.display.Math object>"
      ]
     },
     "metadata": {},
     "output_type": "display_data"
    },
    {
     "data": {
      "text/latex": [
       "$\\displaystyle {buy}_{CH_{4},net,t_{0}} \\geq 20$"
      ],
      "text/plain": [
       "<IPython.core.display.Math object>"
      ]
     },
     "metadata": {},
     "output_type": "display_data"
    },
    {
     "data": {
      "text/latex": [
       "$\\displaystyle {buy}_{CH_{4},net,t_{0}} \\leq 40$"
      ],
      "text/plain": [
       "<IPython.core.display.Math object>"
      ]
     },
     "metadata": {},
     "output_type": "display_data"
    },
    {
     "data": {
      "text/latex": [
       "$\\displaystyle {exp^{buy}}_{csh,CH_{4},cacoda,t_{0}} = {buy}_{CH_{4},cacoda,t_{0}} \\cdot 20$"
      ],
      "text/plain": [
       "<IPython.core.display.Math object>"
      ]
     },
     "metadata": {},
     "output_type": "display_data"
    },
    {
     "data": {
      "text/latex": [
       "$\\displaystyle {exp^{buy}}_{csh,CH_{4},madgaon,t_{0}} = {buy}_{CH_{4},madgaon,t_{0}} \\cdot 20$"
      ],
      "text/plain": [
       "<IPython.core.display.Math object>"
      ]
     },
     "metadata": {},
     "output_type": "display_data"
    },
    {
     "data": {
      "text/latex": [
       "$\\displaystyle {exp^{buy}}_{csh,CH_{4},ponje,t_{0}} = {buy}_{CH_{4},ponje,t_{0}} \\cdot 20$"
      ],
      "text/plain": [
       "<IPython.core.display.Math object>"
      ]
     },
     "metadata": {},
     "output_type": "display_data"
    },
    {
     "data": {
      "text/latex": [
       "$\\displaystyle {exp^{sell}}_{csh,CO_{2 Vent},cacoda,t_{0}} = {sell}_{CO_{2 Vent},cacoda,t_{0}} \\cdot {θ}_{csh,CO_{2 Vent},cacoda,t_{0}}$"
      ],
      "text/plain": [
       "<IPython.core.display.Math object>"
      ]
     },
     "metadata": {},
     "output_type": "display_data"
    },
    {
     "data": {
      "text/latex": [
       "$\\displaystyle {exp^{sell}}_{csh,CO_{2 Vent},madgaon,t_{0}} = {sell}_{CO_{2 Vent},madgaon,t_{0}} \\cdot {θ}_{csh,CO_{2 Vent},madgaon,t_{0}}$"
      ],
      "text/plain": [
       "<IPython.core.display.Math object>"
      ]
     },
     "metadata": {},
     "output_type": "display_data"
    },
    {
     "data": {
      "text/latex": [
       "$\\displaystyle {exp^{sell}}_{csh,CO_{2 Vent},ponje,t_{0}} = {sell}_{CO_{2 Vent},ponje,t_{0}} \\cdot {θ}_{csh,CO_{2 Vent},ponje,t_{0}}$"
      ],
      "text/plain": [
       "<IPython.core.display.Math object>"
      ]
     },
     "metadata": {},
     "output_type": "display_data"
    },
    {
     "data": {
      "text/latex": [
       "$\\displaystyle {emit^{sell}}_{gwp,CO_{2 Vent},cacoda,t_{2}} = {DtSt}_{gwp,CO_{2 Vent},cacoda,t_{2}} \\cdot {sell}_{CO_{2 Vent},cacoda,t_{2}}$"
      ],
      "text/plain": [
       "<IPython.core.display.Math object>"
      ]
     },
     "metadata": {},
     "output_type": "display_data"
    },
    {
     "data": {
      "text/latex": [
       "$\\displaystyle {emit^{sell}}_{gwp,CO_{2 Vent},madgaon,t_{2}} = {DtSt}_{gwp,CO_{2 Vent},madgaon,t_{2}} \\cdot {sell}_{CO_{2 Vent},madgaon,t_{2}}$"
      ],
      "text/plain": [
       "<IPython.core.display.Math object>"
      ]
     },
     "metadata": {},
     "output_type": "display_data"
    },
    {
     "data": {
      "text/latex": [
       "$\\displaystyle {emit^{sell}}_{gwp,CO_{2 Vent},ponje,t_{2}} = {DtSt}_{gwp,CO_{2 Vent},ponje,t_{2}} \\cdot {sell}_{CO_{2 Vent},ponje,t_{2}}$"
      ],
      "text/plain": [
       "<IPython.core.display.Math object>"
      ]
     },
     "metadata": {},
     "output_type": "display_data"
    },
    {
     "data": {
      "text/latex": [
       "$\\displaystyle {sell}_{O_{2},net,t_{0}} \\geq 20$"
      ],
      "text/plain": [
       "<IPython.core.display.Math object>"
      ]
     },
     "metadata": {},
     "output_type": "display_data"
    },
    {
     "data": {
      "text/latex": [
       "$\\displaystyle {sell}_{O_{2},net,t_{0}} \\leq M$"
      ],
      "text/plain": [
       "<IPython.core.display.Math object>"
      ]
     },
     "metadata": {},
     "output_type": "display_data"
    },
    {
     "data": {
      "text/latex": [
       "$\\displaystyle {use}_{LiR,ponje,t_{0}} = 1.5$"
      ],
      "text/plain": [
       "<IPython.core.display.Math object>"
      ]
     },
     "metadata": {},
     "output_type": "display_data"
    },
    {
     "data": {
      "text/latex": [
       "$\\displaystyle {emit^{use}}_{gwp,LiR,cacoda,t_{0}} = {use}_{LiR,cacoda,t_{0}} \\cdot 1.484$"
      ],
      "text/plain": [
       "<IPython.core.display.Math object>"
      ]
     },
     "metadata": {},
     "output_type": "display_data"
    },
    {
     "data": {
      "text/latex": [
       "$\\displaystyle {emit^{use}}_{gwp,LiR,madgaon,t_{0}} = {use}_{LiR,madgaon,t_{0}} \\cdot 1.484$"
      ],
      "text/plain": [
       "<IPython.core.display.Math object>"
      ]
     },
     "metadata": {},
     "output_type": "display_data"
    },
    {
     "data": {
      "text/latex": [
       "$\\displaystyle {emit^{use}}_{gwp,LiR,ponje,t_{0}} = {use}_{LiR,ponje,t_{0}} \\cdot 1.484$"
      ],
      "text/plain": [
       "<IPython.core.display.Math object>"
      ]
     },
     "metadata": {},
     "output_type": "display_data"
    },
    {
     "data": {
      "text/latex": [
       "$\\displaystyle {use^{setup}}_{LiR,WF,cacoda,t_{0}} = {capacity}_{WF,cacoda,t_{0}} \\cdot 1.5$"
      ],
      "text/plain": [
       "<IPython.core.display.Math object>"
      ]
     },
     "metadata": {},
     "output_type": "display_data"
    },
    {
     "data": {
      "text/latex": [
       "$\\displaystyle {use^{setup}}_{LiR,WF,madgaon,t_{0}} = {capacity}_{WF,madgaon,t_{0}} \\cdot 1.5$"
      ],
      "text/plain": [
       "<IPython.core.display.Math object>"
      ]
     },
     "metadata": {},
     "output_type": "display_data"
    },
    {
     "data": {
      "text/latex": [
       "$\\displaystyle {use^{setup}}_{LiR,WF,ponje,t_{0}} = {capacity}_{WF,ponje,t_{0}} \\cdot 1.5$"
      ],
      "text/plain": [
       "<IPython.core.display.Math object>"
      ]
     },
     "metadata": {},
     "output_type": "display_data"
    },
    {
     "data": {
      "text/latex": [
       "$\\displaystyle {use^{setup}}_{lnd_{def},WF,cacoda,t_{0}} = {capacity}_{WF,cacoda,t_{0}} \\cdot 30$"
      ],
      "text/plain": [
       "<IPython.core.display.Math object>"
      ]
     },
     "metadata": {},
     "output_type": "display_data"
    },
    {
     "data": {
      "text/latex": [
       "$\\displaystyle {use^{setup}}_{lnd_{def},WF,madgaon,t_{0}} = {capacity}_{WF,madgaon,t_{0}} \\cdot 30$"
      ],
      "text/plain": [
       "<IPython.core.display.Math object>"
      ]
     },
     "metadata": {},
     "output_type": "display_data"
    },
    {
     "data": {
      "text/latex": [
       "$\\displaystyle {use^{setup}}_{lnd_{def},WF,ponje,t_{0}} = {capacity}_{WF,ponje,t_{0}} \\cdot 30$"
      ],
      "text/plain": [
       "<IPython.core.display.Math object>"
      ]
     },
     "metadata": {},
     "output_type": "display_data"
    },
    {
     "data": {
      "text/latex": [
       "$\\displaystyle {emit^{setup}}_{gwp,WF,cacoda,t_{0}} = {capacity}_{WF,cacoda,t_{0}} \\cdot 50$"
      ],
      "text/plain": [
       "<IPython.core.display.Math object>"
      ]
     },
     "metadata": {},
     "output_type": "display_data"
    },
    {
     "data": {
      "text/latex": [
       "$\\displaystyle {emit^{setup}}_{gwp,WF,madgaon,t_{0}} = {capacity}_{WF,madgaon,t_{0}} \\cdot 50$"
      ],
      "text/plain": [
       "<IPython.core.display.Math object>"
      ]
     },
     "metadata": {},
     "output_type": "display_data"
    },
    {
     "data": {
      "text/latex": [
       "$\\displaystyle {emit^{setup}}_{gwp,WF,ponje,t_{0}} = {capacity}_{WF,ponje,t_{0}} \\cdot 50$"
      ],
      "text/plain": [
       "<IPython.core.display.Math object>"
      ]
     },
     "metadata": {},
     "output_type": "display_data"
    },
    {
     "data": {
      "text/latex": [
       "$\\displaystyle {emit^{setup}}_{odp,WF,cacoda,t_{0}} = {capacity}_{WF,cacoda,t_{0}} \\cdot 2900$"
      ],
      "text/plain": [
       "<IPython.core.display.Math object>"
      ]
     },
     "metadata": {},
     "output_type": "display_data"
    },
    {
     "data": {
      "text/latex": [
       "$\\displaystyle {emit^{setup}}_{odp,WF,madgaon,t_{0}} = {capacity}_{WF,madgaon,t_{0}} \\cdot 2900$"
      ],
      "text/plain": [
       "<IPython.core.display.Math object>"
      ]
     },
     "metadata": {},
     "output_type": "display_data"
    },
    {
     "data": {
      "text/latex": [
       "$\\displaystyle {emit^{setup}}_{odp,WF,ponje,t_{0}} = {capacity}_{WF,ponje,t_{0}} \\cdot 2900$"
      ],
      "text/plain": [
       "<IPython.core.display.Math object>"
      ]
     },
     "metadata": {},
     "output_type": "display_data"
    },
    {
     "data": {
      "text/latex": [
       "$\\displaystyle {capex}_{csh,WF,madgaon,t_{1}} = {capacity}_{WF,madgaon,t_{1}} \\cdot 1462000$"
      ],
      "text/plain": [
       "<IPython.core.display.Math object>"
      ]
     },
     "metadata": {},
     "output_type": "display_data"
    },
    {
     "data": {
      "text/latex": [
       "$\\displaystyle {capex^{I}}_{csh,WF,madgaon,t_{1}} = 202233$"
      ],
      "text/plain": [
       "<IPython.core.display.Math object>"
      ]
     },
     "metadata": {},
     "output_type": "display_data"
    },
    {
     "data": {
      "text/latex": [
       "$\\displaystyle {opex}_{csh,WF,cacoda,t_{0}} = {operate}_{WF,cacoda,t_{0}} \\cdot 4953$"
      ],
      "text/plain": [
       "<IPython.core.display.Math object>"
      ]
     },
     "metadata": {},
     "output_type": "display_data"
    },
    {
     "data": {
      "text/latex": [
       "$\\displaystyle {opex^{I}}_{csh,WF,cacoda,t_{0}} = 70$"
      ],
      "text/plain": [
       "<IPython.core.display.Math object>"
      ]
     },
     "metadata": {},
     "output_type": "display_data"
    },
    {
     "data": {
      "text/latex": [
       "$\\displaystyle {opex}_{csh,WF,madgaon,t_{0}} = {operate}_{WF,madgaon,t_{0}} \\cdot 4953$"
      ],
      "text/plain": [
       "<IPython.core.display.Math object>"
      ]
     },
     "metadata": {},
     "output_type": "display_data"
    },
    {
     "data": {
      "text/latex": [
       "$\\displaystyle {opex^{I}}_{csh,WF,madgaon,t_{0}} = 70$"
      ],
      "text/plain": [
       "<IPython.core.display.Math object>"
      ]
     },
     "metadata": {},
     "output_type": "display_data"
    },
    {
     "data": {
      "text/latex": [
       "$\\displaystyle {opex^{I}}_{csh,WF,ponje,t_{0}} = 70$"
      ],
      "text/plain": [
       "<IPython.core.display.Math object>"
      ]
     },
     "metadata": {},
     "output_type": "display_data"
    },
    {
     "data": {
      "text/latex": [
       "$\\displaystyle {opex}_{csh,WF,ponje,t_{0}} = {operate}_{WF,ponje,t_{0}} \\cdot 4953$"
      ],
      "text/plain": [
       "<IPython.core.display.Math object>"
      ]
     },
     "metadata": {},
     "output_type": "display_data"
    },
    {
     "data": {
      "text/latex": [
       "$\\displaystyle {operate}_{WF,net,t_{0}} \\geq {capacity}_{WF,net,t_{0}} \\cdot {θ^{min}}_{WF,net,t_{0}}$"
      ],
      "text/plain": [
       "<IPython.core.display.Math object>"
      ]
     },
     "metadata": {},
     "output_type": "display_data"
    },
    {
     "data": {
      "text/latex": [
       "$\\displaystyle {operate}_{WF,net,t_{0}} \\leq {capacity}_{WF,net,t_{0}} \\cdot {θ^{max}}_{WF,net,t_{0}}$"
      ],
      "text/plain": [
       "<IPython.core.display.Math object>"
      ]
     },
     "metadata": {},
     "output_type": "display_data"
    },
    {
     "data": {
      "text/latex": [
       "$\\displaystyle {capacity}_{WF,net,t_{0}} = 1000$"
      ],
      "text/plain": [
       "<IPython.core.display.Math object>"
      ]
     },
     "metadata": {},
     "output_type": "display_data"
    },
    {
     "data": {
      "text/latex": [
       "$\\displaystyle {capex}_{csh,PV,cacoda,t_{0}} = {capacity}_{PV,cacoda,t_{0}} \\cdot 1555$"
      ],
      "text/plain": [
       "<IPython.core.display.Math object>"
      ]
     },
     "metadata": {},
     "output_type": "display_data"
    },
    {
     "data": {
      "text/latex": [
       "$\\displaystyle {capex}_{csh,PV,madgaon,t_{0}} = {capacity}_{PV,madgaon,t_{0}} \\cdot 1555$"
      ],
      "text/plain": [
       "<IPython.core.display.Math object>"
      ]
     },
     "metadata": {},
     "output_type": "display_data"
    },
    {
     "data": {
      "text/latex": [
       "$\\displaystyle {capex}_{csh,PV,ponje,t_{0}} = {capacity}_{PV,ponje,t_{0}} \\cdot 1555$"
      ],
      "text/plain": [
       "<IPython.core.display.Math object>"
      ]
     },
     "metadata": {},
     "output_type": "display_data"
    },
    {
     "data": {
      "text/latex": [
       "$\\displaystyle {opex}_{csh,PV,cacoda,t_{0}} = {operate}_{PV,cacoda,t_{0}} \\cdot 22623$"
      ],
      "text/plain": [
       "<IPython.core.display.Math object>"
      ]
     },
     "metadata": {},
     "output_type": "display_data"
    },
    {
     "data": {
      "text/latex": [
       "$\\displaystyle {opex}_{csh,PV,madgaon,t_{0}} = {operate}_{PV,madgaon,t_{0}} \\cdot 22623$"
      ],
      "text/plain": [
       "<IPython.core.display.Math object>"
      ]
     },
     "metadata": {},
     "output_type": "display_data"
    },
    {
     "data": {
      "text/latex": [
       "$\\displaystyle {opex}_{csh,PV,ponje,t_{0}} = {operate}_{PV,ponje,t_{0}} \\cdot 22623$"
      ],
      "text/plain": [
       "<IPython.core.display.Math object>"
      ]
     },
     "metadata": {},
     "output_type": "display_data"
    },
    {
     "data": {
      "text/latex": [
       "$\\displaystyle {capacity}_{PV,net,t_{0}} = 5000$"
      ],
      "text/plain": [
       "<IPython.core.display.Math object>"
      ]
     },
     "metadata": {},
     "output_type": "display_data"
    },
    {
     "data": {
      "text/latex": [
       "$\\displaystyle {exp^{sell}}_{csh,Power,PV,cacoda,t_{0}} = {sell}_{Power,PV,cacoda,t_{0}} \\cdot 30$"
      ],
      "text/plain": [
       "<IPython.core.display.Math object>"
      ]
     },
     "metadata": {},
     "output_type": "display_data"
    },
    {
     "data": {
      "text/latex": [
       "$\\displaystyle {exp^{sell}}_{csh,Power,PV,madgaon,t_{0}} = {sell}_{Power,PV,madgaon,t_{0}} \\cdot 30$"
      ],
      "text/plain": [
       "<IPython.core.display.Math object>"
      ]
     },
     "metadata": {},
     "output_type": "display_data"
    },
    {
     "data": {
      "text/latex": [
       "$\\displaystyle {exp^{sell}}_{csh,Power,PV,ponje,t_{0}} = {sell}_{Power,PV,ponje,t_{0}} \\cdot 30$"
      ],
      "text/plain": [
       "<IPython.core.display.Math object>"
      ]
     },
     "metadata": {},
     "output_type": "display_data"
    },
    {
     "data": {
      "text/latex": [
       "$\\displaystyle {credit}_{csh,Power,PV,cacoda,t_{0}} = {DtSt}_{csh,Power,PV,cacoda,t_{0}} \\cdot {sell}_{Power,PV,cacoda,t_{0}}$"
      ],
      "text/plain": [
       "<IPython.core.display.Math object>"
      ]
     },
     "metadata": {},
     "output_type": "display_data"
    },
    {
     "data": {
      "text/latex": [
       "$\\displaystyle {credit}_{csh,Power,PV,madgaon,t_{0}} = {DtSt}_{csh,Power,PV,madgaon,t_{0}} \\cdot {sell}_{Power,PV,madgaon,t_{0}}$"
      ],
      "text/plain": [
       "<IPython.core.display.Math object>"
      ]
     },
     "metadata": {},
     "output_type": "display_data"
    },
    {
     "data": {
      "text/latex": [
       "$\\displaystyle {credit}_{csh,Power,PV,ponje,t_{0}} = {DtSt}_{csh,Power,PV,ponje,t_{0}} \\cdot {sell}_{Power,PV,ponje,t_{0}}$"
      ],
      "text/plain": [
       "<IPython.core.display.Math object>"
      ]
     },
     "metadata": {},
     "output_type": "display_data"
    },
    {
     "data": {
      "text/latex": [
       "$\\displaystyle {use^{setup}}_{lnd_{def},SMRH,cacoda,t_{0}} = {capacity}_{SMRH,cacoda,t_{0}} \\cdot 50$"
      ],
      "text/plain": [
       "<IPython.core.display.Math object>"
      ]
     },
     "metadata": {},
     "output_type": "display_data"
    },
    {
     "data": {
      "text/latex": [
       "$\\displaystyle {use^{setup}}_{lnd_{def},SMRH,madgaon,t_{0}} = {capacity}_{SMRH,madgaon,t_{0}} \\cdot 50$"
      ],
      "text/plain": [
       "<IPython.core.display.Math object>"
      ]
     },
     "metadata": {},
     "output_type": "display_data"
    },
    {
     "data": {
      "text/latex": [
       "$\\displaystyle {use^{setup}}_{lnd_{def},SMRH,ponje,t_{0}} = {capacity}_{SMRH,ponje,t_{0}} \\cdot 50$"
      ],
      "text/plain": [
       "<IPython.core.display.Math object>"
      ]
     },
     "metadata": {},
     "output_type": "display_data"
    },
    {
     "data": {
      "text/latex": [
       "$\\displaystyle {capex}_{csh,SMRH,cacoda,t_{0}} = {capacity}_{SMRH,cacoda,t_{0}} \\cdot 2520000$"
      ],
      "text/plain": [
       "<IPython.core.display.Math object>"
      ]
     },
     "metadata": {},
     "output_type": "display_data"
    },
    {
     "data": {
      "text/latex": [
       "$\\displaystyle {capex}_{csh,SMRH,madgaon,t_{0}} = {capacity}_{SMRH,madgaon,t_{0}} \\cdot 2520000$"
      ],
      "text/plain": [
       "<IPython.core.display.Math object>"
      ]
     },
     "metadata": {},
     "output_type": "display_data"
    },
    {
     "data": {
      "text/latex": [
       "$\\displaystyle {capex}_{csh,SMRH,ponje,t_{0}} = {capacity}_{SMRH,ponje,t_{0}} \\cdot 2520000$"
      ],
      "text/plain": [
       "<IPython.core.display.Math object>"
      ]
     },
     "metadata": {},
     "output_type": "display_data"
    },
    {
     "data": {
      "text/latex": [
       "$\\displaystyle {opex}_{csh,SMRH,cacoda,t_{0}} = {operate}_{SMRH,cacoda,t_{0}} \\cdot 51.5$"
      ],
      "text/plain": [
       "<IPython.core.display.Math object>"
      ]
     },
     "metadata": {},
     "output_type": "display_data"
    },
    {
     "data": {
      "text/latex": [
       "$\\displaystyle {opex^{I}}_{csh,SMRH,cacoda,t_{0}} = 945000$"
      ],
      "text/plain": [
       "<IPython.core.display.Math object>"
      ]
     },
     "metadata": {},
     "output_type": "display_data"
    },
    {
     "data": {
      "text/latex": [
       "$\\displaystyle {opex^{I}}_{csh,SMRH,madgaon,t_{0}} = 945000$"
      ],
      "text/plain": [
       "<IPython.core.display.Math object>"
      ]
     },
     "metadata": {},
     "output_type": "display_data"
    },
    {
     "data": {
      "text/latex": [
       "$\\displaystyle {opex}_{csh,SMRH,madgaon,t_{0}} = {operate}_{SMRH,madgaon,t_{0}} \\cdot 51.5$"
      ],
      "text/plain": [
       "<IPython.core.display.Math object>"
      ]
     },
     "metadata": {},
     "output_type": "display_data"
    },
    {
     "data": {
      "text/latex": [
       "$\\displaystyle {opex^{I}}_{csh,SMRH,ponje,t_{0}} = 945000$"
      ],
      "text/plain": [
       "<IPython.core.display.Math object>"
      ]
     },
     "metadata": {},
     "output_type": "display_data"
    },
    {
     "data": {
      "text/latex": [
       "$\\displaystyle {opex}_{csh,SMRH,ponje,t_{0}} = {operate}_{SMRH,ponje,t_{0}} \\cdot 51.5$"
      ],
      "text/plain": [
       "<IPython.core.display.Math object>"
      ]
     },
     "metadata": {},
     "output_type": "display_data"
    },
    {
     "data": {
      "text/latex": [
       "$\\displaystyle {capacity}_{SMRH,net,t_{0}} \\geq 0$"
      ],
      "text/plain": [
       "<IPython.core.display.Math object>"
      ]
     },
     "metadata": {},
     "output_type": "display_data"
    },
    {
     "data": {
      "text/latex": [
       "$\\displaystyle {capacity}_{SMRH,net,t_{0}} \\leq 1000$"
      ],
      "text/plain": [
       "<IPython.core.display.Math object>"
      ]
     },
     "metadata": {},
     "output_type": "display_data"
    },
    {
     "data": {
      "text/latex": [
       "$\\displaystyle {capex}_{csh,NGCC,cacoda,t_{0}} = {capacity}_{NGCC,cacoda,t_{0}} \\cdot 2158928$"
      ],
      "text/plain": [
       "<IPython.core.display.Math object>"
      ]
     },
     "metadata": {},
     "output_type": "display_data"
    },
    {
     "data": {
      "text/latex": [
       "$\\displaystyle {capex}_{csh,NGCC,madgaon,t_{0}} = {capacity}_{NGCC,madgaon,t_{0}} \\cdot 2158928$"
      ],
      "text/plain": [
       "<IPython.core.display.Math object>"
      ]
     },
     "metadata": {},
     "output_type": "display_data"
    },
    {
     "data": {
      "text/latex": [
       "$\\displaystyle {capex}_{csh,NGCC,ponje,t_{0}} = {capacity}_{NGCC,ponje,t_{0}} \\cdot 2158928$"
      ],
      "text/plain": [
       "<IPython.core.display.Math object>"
      ]
     },
     "metadata": {},
     "output_type": "display_data"
    },
    {
     "data": {
      "text/latex": [
       "$\\displaystyle {opex}_{csh,NGCC,cacoda,t_{0}} = {operate}_{NGCC,cacoda,t_{0}} \\cdot 4090$"
      ],
      "text/plain": [
       "<IPython.core.display.Math object>"
      ]
     },
     "metadata": {},
     "output_type": "display_data"
    },
    {
     "data": {
      "text/latex": [
       "$\\displaystyle {opex^{I}}_{csh,NGCC,cacoda,t_{0}} = 53320$"
      ],
      "text/plain": [
       "<IPython.core.display.Math object>"
      ]
     },
     "metadata": {},
     "output_type": "display_data"
    },
    {
     "data": {
      "text/latex": [
       "$\\displaystyle {opex}_{csh,NGCC,madgaon,t_{0}} = {operate}_{NGCC,madgaon,t_{0}} \\cdot 4090$"
      ],
      "text/plain": [
       "<IPython.core.display.Math object>"
      ]
     },
     "metadata": {},
     "output_type": "display_data"
    },
    {
     "data": {
      "text/latex": [
       "$\\displaystyle {opex^{I}}_{csh,NGCC,madgaon,t_{0}} = 53320$"
      ],
      "text/plain": [
       "<IPython.core.display.Math object>"
      ]
     },
     "metadata": {},
     "output_type": "display_data"
    },
    {
     "data": {
      "text/latex": [
       "$\\displaystyle {opex}_{csh,NGCC,ponje,t_{0}} = {operate}_{NGCC,ponje,t_{0}} \\cdot 4090$"
      ],
      "text/plain": [
       "<IPython.core.display.Math object>"
      ]
     },
     "metadata": {},
     "output_type": "display_data"
    },
    {
     "data": {
      "text/latex": [
       "$\\displaystyle {opex^{I}}_{csh,NGCC,ponje,t_{0}} = 53320$"
      ],
      "text/plain": [
       "<IPython.core.display.Math object>"
      ]
     },
     "metadata": {},
     "output_type": "display_data"
    },
    {
     "data": {
      "text/latex": [
       "$\\displaystyle {capacity}_{NGCC,net,t_{0}} \\geq 1$"
      ],
      "text/plain": [
       "<IPython.core.display.Math object>"
      ]
     },
     "metadata": {},
     "output_type": "display_data"
    },
    {
     "data": {
      "text/latex": [
       "$\\displaystyle {capacity}_{NGCC,net,t_{0}} \\leq 100$"
      ],
      "text/plain": [
       "<IPython.core.display.Math object>"
      ]
     },
     "metadata": {},
     "output_type": "display_data"
    },
    {
     "data": {
      "text/latex": [
       "$\\displaystyle {exp^{buy}}_{csh,CH_{4},NGCC,cacoda,t_{0}} = {buy}_{CH_{4},NGCC,cacoda,t_{0}} \\cdot 4$"
      ],
      "text/plain": [
       "<IPython.core.display.Math object>"
      ]
     },
     "metadata": {},
     "output_type": "display_data"
    },
    {
     "data": {
      "text/latex": [
       "$\\displaystyle {exp^{buy}}_{csh,CH_{4},NGCC,madgaon,t_{0}} = {buy}_{CH_{4},NGCC,madgaon,t_{0}} \\cdot 4$"
      ],
      "text/plain": [
       "<IPython.core.display.Math object>"
      ]
     },
     "metadata": {},
     "output_type": "display_data"
    },
    {
     "data": {
      "text/latex": [
       "$\\displaystyle {exp^{buy}}_{csh,CH_{4},NGCC,ponje,t_{0}} = {buy}_{CH_{4},NGCC,ponje,t_{0}} \\cdot 4$"
      ],
      "text/plain": [
       "<IPython.core.display.Math object>"
      ]
     },
     "metadata": {},
     "output_type": "display_data"
    },
    {
     "data": {
      "text/latex": [
       "$\\displaystyle {exp^{buy}}_{csh,H2O,NGCC,cacoda,t_{0}} = {buy}_{H2O,NGCC,cacoda,t_{0}} \\cdot 20$"
      ],
      "text/plain": [
       "<IPython.core.display.Math object>"
      ]
     },
     "metadata": {},
     "output_type": "display_data"
    },
    {
     "data": {
      "text/latex": [
       "$\\displaystyle {exp^{buy}}_{csh,H2O,NGCC,madgaon,t_{0}} = {buy}_{H2O,NGCC,madgaon,t_{0}} \\cdot 20$"
      ],
      "text/plain": [
       "<IPython.core.display.Math object>"
      ]
     },
     "metadata": {},
     "output_type": "display_data"
    },
    {
     "data": {
      "text/latex": [
       "$\\displaystyle {exp^{buy}}_{csh,H2O,NGCC,ponje,t_{0}} = {buy}_{H2O,NGCC,ponje,t_{0}} \\cdot 20$"
      ],
      "text/plain": [
       "<IPython.core.display.Math object>"
      ]
     },
     "metadata": {},
     "output_type": "display_data"
    },
    {
     "data": {
      "text/latex": [
       "$\\displaystyle {capex}_{csh,SMR,cacoda,t_{0}} = {capacity}_{SMR,cacoda,t_{0}} \\cdot 2400$"
      ],
      "text/plain": [
       "<IPython.core.display.Math object>"
      ]
     },
     "metadata": {},
     "output_type": "display_data"
    },
    {
     "data": {
      "text/latex": [
       "$\\displaystyle {capex}_{csh,SMR,madgaon,t_{0}} = {capacity}_{SMR,madgaon,t_{0}} \\cdot 2400$"
      ],
      "text/plain": [
       "<IPython.core.display.Math object>"
      ]
     },
     "metadata": {},
     "output_type": "display_data"
    },
    {
     "data": {
      "text/latex": [
       "$\\displaystyle {capex}_{csh,SMR,ponje,t_{0}} = {capacity}_{SMR,ponje,t_{0}} \\cdot 2400$"
      ],
      "text/plain": [
       "<IPython.core.display.Math object>"
      ]
     },
     "metadata": {},
     "output_type": "display_data"
    },
    {
     "data": {
      "text/latex": [
       "$\\displaystyle {opex^{I}}_{csh,SMR,cacoda,t_{0}} = 800$"
      ],
      "text/plain": [
       "<IPython.core.display.Math object>"
      ]
     },
     "metadata": {},
     "output_type": "display_data"
    },
    {
     "data": {
      "text/latex": [
       "$\\displaystyle {opex}_{csh,SMR,cacoda,t_{0}} = {operate}_{SMR,cacoda,t_{0}} \\cdot 0.03$"
      ],
      "text/plain": [
       "<IPython.core.display.Math object>"
      ]
     },
     "metadata": {},
     "output_type": "display_data"
    },
    {
     "data": {
      "text/latex": [
       "$\\displaystyle {opex}_{csh,SMR,madgaon,t_{0}} = {operate}_{SMR,madgaon,t_{0}} \\cdot 0.03$"
      ],
      "text/plain": [
       "<IPython.core.display.Math object>"
      ]
     },
     "metadata": {},
     "output_type": "display_data"
    },
    {
     "data": {
      "text/latex": [
       "$\\displaystyle {opex^{I}}_{csh,SMR,madgaon,t_{0}} = 800$"
      ],
      "text/plain": [
       "<IPython.core.display.Math object>"
      ]
     },
     "metadata": {},
     "output_type": "display_data"
    },
    {
     "data": {
      "text/latex": [
       "$\\displaystyle {opex^{I}}_{csh,SMR,ponje,t_{0}} = 800$"
      ],
      "text/plain": [
       "<IPython.core.display.Math object>"
      ]
     },
     "metadata": {},
     "output_type": "display_data"
    },
    {
     "data": {
      "text/latex": [
       "$\\displaystyle {opex}_{csh,SMR,ponje,t_{0}} = {operate}_{SMR,ponje,t_{0}} \\cdot 0.03$"
      ],
      "text/plain": [
       "<IPython.core.display.Math object>"
      ]
     },
     "metadata": {},
     "output_type": "display_data"
    },
    {
     "data": {
      "text/latex": [
       "$\\displaystyle {capacity}_{SMR,net,t_{0}} = 1000$"
      ],
      "text/plain": [
       "<IPython.core.display.Math object>"
      ]
     },
     "metadata": {},
     "output_type": "display_data"
    },
    {
     "data": {
      "text/latex": [
       "$\\displaystyle {capex}_{csh,H2FC,cacoda,t_{0}} = {capacity}_{H2FC,cacoda,t_{0}} \\cdot 1600000.0$"
      ],
      "text/plain": [
       "<IPython.core.display.Math object>"
      ]
     },
     "metadata": {},
     "output_type": "display_data"
    },
    {
     "data": {
      "text/latex": [
       "$\\displaystyle {capex}_{csh,H2FC,madgaon,t_{0}} = {capacity}_{H2FC,madgaon,t_{0}} \\cdot 1600000.0$"
      ],
      "text/plain": [
       "<IPython.core.display.Math object>"
      ]
     },
     "metadata": {},
     "output_type": "display_data"
    },
    {
     "data": {
      "text/latex": [
       "$\\displaystyle {capex}_{csh,H2FC,ponje,t_{0}} = {capacity}_{H2FC,ponje,t_{0}} \\cdot 1600000.0$"
      ],
      "text/plain": [
       "<IPython.core.display.Math object>"
      ]
     },
     "metadata": {},
     "output_type": "display_data"
    },
    {
     "data": {
      "text/latex": [
       "$\\displaystyle {opex}_{csh,H2FC,cacoda,t_{0}} = {operate}_{H2FC,cacoda,t_{0}} \\cdot 3.5$"
      ],
      "text/plain": [
       "<IPython.core.display.Math object>"
      ]
     },
     "metadata": {},
     "output_type": "display_data"
    },
    {
     "data": {
      "text/latex": [
       "$\\displaystyle {opex}_{csh,H2FC,madgaon,t_{0}} = {operate}_{H2FC,madgaon,t_{0}} \\cdot 3.5$"
      ],
      "text/plain": [
       "<IPython.core.display.Math object>"
      ]
     },
     "metadata": {},
     "output_type": "display_data"
    },
    {
     "data": {
      "text/latex": [
       "$\\displaystyle {opex}_{csh,H2FC,ponje,t_{0}} = {operate}_{H2FC,ponje,t_{0}} \\cdot 3.5$"
      ],
      "text/plain": [
       "<IPython.core.display.Math object>"
      ]
     },
     "metadata": {},
     "output_type": "display_data"
    },
    {
     "data": {
      "text/latex": [
       "$\\displaystyle {capacity}_{H2FC,net,t_{0}} \\geq 1000$"
      ],
      "text/plain": [
       "<IPython.core.display.Math object>"
      ]
     },
     "metadata": {},
     "output_type": "display_data"
    },
    {
     "data": {
      "text/latex": [
       "$\\displaystyle {capacity}_{H2FC,net,t_{0}} \\leq 2000$"
      ],
      "text/plain": [
       "<IPython.core.display.Math object>"
      ]
     },
     "metadata": {},
     "output_type": "display_data"
    },
    {
     "data": {
      "text/latex": [
       "$\\displaystyle {sell}_{Power,H2FC,net,t_{0}} = 20$"
      ],
      "text/plain": [
       "<IPython.core.display.Math object>"
      ]
     },
     "metadata": {},
     "output_type": "display_data"
    },
    {
     "data": {
      "text/latex": [
       "$\\displaystyle {exp^{buy}}_{csh,H_{2},H2FC,cacoda,t_{0}} = {buy}_{H_{2},H2FC,cacoda,t_{0}} \\cdot 2$"
      ],
      "text/plain": [
       "<IPython.core.display.Math object>"
      ]
     },
     "metadata": {},
     "output_type": "display_data"
    },
    {
     "data": {
      "text/latex": [
       "$\\displaystyle {exp^{buy}}_{csh,H_{2},H2FC,madgaon,t_{0}} = {buy}_{H_{2},H2FC,madgaon,t_{0}} \\cdot 2$"
      ],
      "text/plain": [
       "<IPython.core.display.Math object>"
      ]
     },
     "metadata": {},
     "output_type": "display_data"
    },
    {
     "data": {
      "text/latex": [
       "$\\displaystyle {exp^{buy}}_{csh,H_{2},H2FC,ponje,t_{0}} = {buy}_{H_{2},H2FC,ponje,t_{0}} \\cdot 2$"
      ],
      "text/plain": [
       "<IPython.core.display.Math object>"
      ]
     },
     "metadata": {},
     "output_type": "display_data"
    },
    {
     "data": {
      "text/latex": [
       "$\\displaystyle {capex}_{csh,DAC,cacoda,t_{0}} = {capacity}_{DAC,cacoda,t_{0}} \\cdot 0.02536$"
      ],
      "text/plain": [
       "<IPython.core.display.Math object>"
      ]
     },
     "metadata": {},
     "output_type": "display_data"
    },
    {
     "data": {
      "text/latex": [
       "$\\displaystyle {capex}_{csh,DAC,madgaon,t_{0}} = {capacity}_{DAC,madgaon,t_{0}} \\cdot 0.02536$"
      ],
      "text/plain": [
       "<IPython.core.display.Math object>"
      ]
     },
     "metadata": {},
     "output_type": "display_data"
    },
    {
     "data": {
      "text/latex": [
       "$\\displaystyle {capex}_{csh,DAC,ponje,t_{0}} = {capacity}_{DAC,ponje,t_{0}} \\cdot 0.02536$"
      ],
      "text/plain": [
       "<IPython.core.display.Math object>"
      ]
     },
     "metadata": {},
     "output_type": "display_data"
    },
    {
     "data": {
      "text/latex": [
       "$\\displaystyle {opex}_{csh,DAC,cacoda,t_{0}} = {operate}_{DAC,cacoda,t_{0}} \\cdot 0.634$"
      ],
      "text/plain": [
       "<IPython.core.display.Math object>"
      ]
     },
     "metadata": {},
     "output_type": "display_data"
    },
    {
     "data": {
      "text/latex": [
       "$\\displaystyle {opex}_{csh,DAC,madgaon,t_{0}} = {operate}_{DAC,madgaon,t_{0}} \\cdot 0.634$"
      ],
      "text/plain": [
       "<IPython.core.display.Math object>"
      ]
     },
     "metadata": {},
     "output_type": "display_data"
    },
    {
     "data": {
      "text/latex": [
       "$\\displaystyle {opex}_{csh,DAC,ponje,t_{0}} = {operate}_{DAC,ponje,t_{0}} \\cdot 0.634$"
      ],
      "text/plain": [
       "<IPython.core.display.Math object>"
      ]
     },
     "metadata": {},
     "output_type": "display_data"
    },
    {
     "data": {
      "text/latex": [
       "$\\displaystyle {capacity}_{DAC,net,t_{0}} = 1000$"
      ],
      "text/plain": [
       "<IPython.core.display.Math object>"
      ]
     },
     "metadata": {},
     "output_type": "display_data"
    },
    {
     "data": {
      "text/latex": [
       "$\\displaystyle {capex}_{csh,ASMR,cacoda,t_{0}} = {capacity}_{ASMR,cacoda,t_{0}} \\cdot 7988951$"
      ],
      "text/plain": [
       "<IPython.core.display.Math object>"
      ]
     },
     "metadata": {},
     "output_type": "display_data"
    },
    {
     "data": {
      "text/latex": [
       "$\\displaystyle {capex}_{csh,ASMR,madgaon,t_{0}} = {capacity}_{ASMR,madgaon,t_{0}} \\cdot 7988951$"
      ],
      "text/plain": [
       "<IPython.core.display.Math object>"
      ]
     },
     "metadata": {},
     "output_type": "display_data"
    },
    {
     "data": {
      "text/latex": [
       "$\\displaystyle {capex}_{csh,ASMR,ponje,t_{0}} = {capacity}_{ASMR,ponje,t_{0}} \\cdot 7988951$"
      ],
      "text/plain": [
       "<IPython.core.display.Math object>"
      ]
     },
     "metadata": {},
     "output_type": "display_data"
    },
    {
     "data": {
      "text/latex": [
       "$\\displaystyle {opex^{I}}_{csh,ASMR,cacoda,t_{0}} = 0.0292$"
      ],
      "text/plain": [
       "<IPython.core.display.Math object>"
      ]
     },
     "metadata": {},
     "output_type": "display_data"
    },
    {
     "data": {
      "text/latex": [
       "$\\displaystyle {opex^{I}}_{csh,ASMR,madgaon,t_{0}} = 0.0292$"
      ],
      "text/plain": [
       "<IPython.core.display.Math object>"
      ]
     },
     "metadata": {},
     "output_type": "display_data"
    },
    {
     "data": {
      "text/latex": [
       "$\\displaystyle {opex^{I}}_{csh,ASMR,ponje,t_{0}} = 0.0292$"
      ],
      "text/plain": [
       "<IPython.core.display.Math object>"
      ]
     },
     "metadata": {},
     "output_type": "display_data"
    },
    {
     "data": {
      "text/latex": [
       "$\\displaystyle {capacity}_{ASMR,net,t_{0}} = 1000$"
      ],
      "text/plain": [
       "<IPython.core.display.Math object>"
      ]
     },
     "metadata": {},
     "output_type": "display_data"
    },
    {
     "data": {
      "text/latex": [
       "$\\displaystyle {buy}_{Uranium,ASMR,net,t_{0}} = 40$"
      ],
      "text/plain": [
       "<IPython.core.display.Math object>"
      ]
     },
     "metadata": {},
     "output_type": "display_data"
    },
    {
     "data": {
      "text/latex": [
       "$\\displaystyle {use^{setup}}_{lnd_{def},AWE,cacoda,t_{0}} = {capacity}_{AWE,cacoda,t_{0}} \\cdot {θ}_{lnd_{def},AWE,cacoda,t_{0}}$"
      ],
      "text/plain": [
       "<IPython.core.display.Math object>"
      ]
     },
     "metadata": {},
     "output_type": "display_data"
    },
    {
     "data": {
      "text/latex": [
       "$\\displaystyle {use^{setup}}_{lnd_{def},AWE,madgaon,t_{0}} = {capacity}_{AWE,madgaon,t_{0}} \\cdot {θ}_{lnd_{def},AWE,madgaon,t_{0}}$"
      ],
      "text/plain": [
       "<IPython.core.display.Math object>"
      ]
     },
     "metadata": {},
     "output_type": "display_data"
    },
    {
     "data": {
      "text/latex": [
       "$\\displaystyle {use^{setup}}_{lnd_{def},AWE,ponje,t_{0}} = {capacity}_{AWE,ponje,t_{0}} \\cdot {θ}_{lnd_{def},AWE,ponje,t_{0}}$"
      ],
      "text/plain": [
       "<IPython.core.display.Math object>"
      ]
     },
     "metadata": {},
     "output_type": "display_data"
    },
    {
     "data": {
      "text/latex": [
       "$\\displaystyle {capex}_{csh,AWE,cacoda,t_{0}} = {capacity}_{AWE,cacoda,t_{0}} \\cdot 1100000.0$"
      ],
      "text/plain": [
       "<IPython.core.display.Math object>"
      ]
     },
     "metadata": {},
     "output_type": "display_data"
    },
    {
     "data": {
      "text/latex": [
       "$\\displaystyle {capex^{I}}_{csh,AWE,cacoda,t_{0}} = 20$"
      ],
      "text/plain": [
       "<IPython.core.display.Math object>"
      ]
     },
     "metadata": {},
     "output_type": "display_data"
    },
    {
     "data": {
      "text/latex": [
       "$\\displaystyle {capex}_{csh,AWE,madgaon,t_{0}} = {capacity}_{AWE,madgaon,t_{0}} \\cdot 1100000.0$"
      ],
      "text/plain": [
       "<IPython.core.display.Math object>"
      ]
     },
     "metadata": {},
     "output_type": "display_data"
    },
    {
     "data": {
      "text/latex": [
       "$\\displaystyle {capex^{I}}_{csh,AWE,madgaon,t_{0}} = 20$"
      ],
      "text/plain": [
       "<IPython.core.display.Math object>"
      ]
     },
     "metadata": {},
     "output_type": "display_data"
    },
    {
     "data": {
      "text/latex": [
       "$\\displaystyle {capex^{I}}_{csh,AWE,ponje,t_{0}} = 20$"
      ],
      "text/plain": [
       "<IPython.core.display.Math object>"
      ]
     },
     "metadata": {},
     "output_type": "display_data"
    },
    {
     "data": {
      "text/latex": [
       "$\\displaystyle {capex}_{csh,AWE,ponje,t_{0}} = {capacity}_{AWE,ponje,t_{0}} \\cdot 1100000.0$"
      ],
      "text/plain": [
       "<IPython.core.display.Math object>"
      ]
     },
     "metadata": {},
     "output_type": "display_data"
    },
    {
     "data": {
      "text/latex": [
       "$\\displaystyle {opex^{I}}_{csh,AWE,cacoda,t_{0}} = 16918$"
      ],
      "text/plain": [
       "<IPython.core.display.Math object>"
      ]
     },
     "metadata": {},
     "output_type": "display_data"
    },
    {
     "data": {
      "text/latex": [
       "$\\displaystyle {opex^{I}}_{csh,AWE,madgaon,t_{0}} = 16918$"
      ],
      "text/plain": [
       "<IPython.core.display.Math object>"
      ]
     },
     "metadata": {},
     "output_type": "display_data"
    },
    {
     "data": {
      "text/latex": [
       "$\\displaystyle {opex^{I}}_{csh,AWE,ponje,t_{0}} = 16918$"
      ],
      "text/plain": [
       "<IPython.core.display.Math object>"
      ]
     },
     "metadata": {},
     "output_type": "display_data"
    },
    {
     "data": {
      "text/latex": [
       "$\\displaystyle {capacity}_{AWE,net,t_{0}} \\geq 0$"
      ],
      "text/plain": [
       "<IPython.core.display.Math object>"
      ]
     },
     "metadata": {},
     "output_type": "display_data"
    },
    {
     "data": {
      "text/latex": [
       "$\\displaystyle {capacity}_{AWE,net,t_{0}} \\leq M$"
      ],
      "text/plain": [
       "<IPython.core.display.Math object>"
      ]
     },
     "metadata": {},
     "output_type": "display_data"
    }
   ],
   "source": [
    "s.pprint()"
   ]
  },
  {
   "cell_type": "code",
   "execution_count": null,
   "metadata": {},
   "outputs": [],
   "source": [
    "s.taskmaster.exacts()"
   ]
  },
  {
   "cell_type": "code",
   "execution_count": null,
   "metadata": {},
   "outputs": [],
   "source": [
    "Process().inputs()"
   ]
  },
  {
   "cell_type": "code",
   "execution_count": null,
   "metadata": {},
   "outputs": [],
   "source": [
    "s.LiI = Storage(capacity=[2000], inventory=s.Power, capacity_in=[40], capacity_out=[20])\n",
    "s.LiI2 = Storage(capacity=[2000], inventory={s.Power: 0.6})\n",
    "s.H2Stg = Storage(\n",
    "    capacity=[2000], inventory={s.H2: {X(0): {s.Power: 0.8}, X(1): {s.Power: 0.9}}}\n",
    ")"
   ]
  },
  {
   "cell_type": "code",
   "execution_count": null,
   "metadata": {},
   "outputs": [],
   "source": [
    "help(Process)"
   ]
  },
  {
   "cell_type": "code",
   "execution_count": null,
   "metadata": {},
   "outputs": [],
   "source": [
    "s.pprint()"
   ]
  },
  {
   "cell_type": "code",
   "execution_count": null,
   "metadata": {},
   "outputs": [],
   "source": [
    "print(len(s.variables))\n",
    "print(len(set(s.variables)))\n",
    "print(len(set([v.name for v in s.variables])))\n",
    "print()\n",
    "print(len(s.parameters))\n",
    "print(len(set(s.parameters)))\n",
    "print(len(set([v.name for v in s.parameters])))\n",
    "print()\n",
    "print(len(s.constraints))\n",
    "print(len(set(s.constraints)))\n",
    "print(len(set([v.name for v in s.constraints])))\n",
    "print()\n",
    "print(len(s.indices))\n",
    "print(len(set(s.indices)))\n",
    "print(len(set([v.name for v in s.indices])))"
   ]
  },
  {
   "cell_type": "code",
   "execution_count": null,
   "metadata": {},
   "outputs": [],
   "source": []
  },
  {
   "cell_type": "code",
   "execution_count": null,
   "metadata": {},
   "outputs": [],
   "source": []
  },
  {
   "cell_type": "code",
   "execution_count": null,
   "metadata": {},
   "outputs": [],
   "source": []
  },
  {
   "cell_type": "code",
   "execution_count": null,
   "metadata": {},
   "outputs": [],
   "source": [
    "Transit()._spatials()"
   ]
  },
  {
   "cell_type": "code",
   "execution_count": null,
   "metadata": {},
   "outputs": [],
   "source": [
    "for block in s.program.blocks:\n",
    "    print(block.attr_dispositions)"
   ]
  },
  {
   "cell_type": "code",
   "execution_count": null,
   "metadata": {},
   "outputs": [],
   "source": [
    "is_(s.program.variables[5], s.program.variables[6])"
   ]
  },
  {
   "cell_type": "code",
   "execution_count": null,
   "metadata": {},
   "outputs": [],
   "source": [
    "len(set(s.program.variables))"
   ]
  },
  {
   "cell_type": "code",
   "execution_count": null,
   "metadata": {},
   "outputs": [],
   "source": [
    "s.program.variables[6]"
   ]
  },
  {
   "cell_type": "code",
   "execution_count": null,
   "metadata": {},
   "outputs": [],
   "source": [
    "s.LiI.capacity"
   ]
  },
  {
   "cell_type": "code",
   "execution_count": null,
   "metadata": {},
   "outputs": [],
   "source": [
    "getattr(s.LiI, 'capacity')"
   ]
  },
  {
   "cell_type": "code",
   "execution_count": null,
   "metadata": {},
   "outputs": [],
   "source": [
    "s.attr.bounds()"
   ]
  },
  {
   "cell_type": "code",
   "execution_count": null,
   "metadata": {},
   "outputs": [],
   "source": [
    "s.components"
   ]
  },
  {
   "cell_type": "code",
   "execution_count": null,
   "metadata": {},
   "outputs": [],
   "source": [
    "s.train = Transit(\n",
    "    freight=s.H2,\n",
    "    ship={s.H2: [300]},\n",
    "    capacity=[5, 400],\n",
    "    setup_use={s.land: 20},\n",
    "    setup_emission={s.odp: 0.1},\n",
    "    capex={s.alink: 200, s.blink: 300, s.clink: 400},\n",
    "    opex=100,\n",
    "    label='Train',\n",
    "    basis='passengers',\n",
    "    linkages=[s.alink],\n",
    ")"
   ]
  },
  {
   "cell_type": "code",
   "execution_count": null,
   "metadata": {},
   "outputs": [],
   "source": []
  },
  {
   "cell_type": "code",
   "execution_count": null,
   "metadata": {},
   "outputs": [],
   "source": [
    "s.pprint()"
   ]
  },
  {
   "cell_type": "code",
   "execution_count": null,
   "metadata": {},
   "outputs": [],
   "source": []
  }
 ],
 "metadata": {
  "kernelspec": {
   "display_name": ".venv",
   "language": "python",
   "name": "python3"
  },
  "language_info": {
   "codemirror_mode": {
    "name": "ipython",
    "version": 3
   },
   "file_extension": ".py",
   "mimetype": "text/x-python",
   "name": "python",
   "nbconvert_exporter": "python",
   "pygments_lexer": "ipython3",
   "version": "3.12.5"
  },
  "orig_nbformat": 4
 },
 "nbformat": 4,
 "nbformat_minor": 2
}
