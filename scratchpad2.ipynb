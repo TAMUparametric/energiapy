{
 "cells": [
  {
   "attachments": {},
   "cell_type": "markdown",
   "metadata": {},
   "source": [
    "## Import modules"
   ]
  },
  {
   "cell_type": "code",
   "execution_count": 1,
   "metadata": {},
   "outputs": [],
   "source": [
    "import sys\n",
    "sys.path.append('src')"
   ]
  },
  {
   "cell_type": "code",
   "execution_count": 2,
   "metadata": {},
   "outputs": [],
   "source": [
    "import pandas\n",
    "from itertools import product\n",
    "from energiapy.components.resource import Resource\n",
    "from energiapy.components.scenario import Scenario \n",
    "from energiapy.components.horizon import Horizon\n",
    "from energiapy.components.process import Process\n",
    "from energiapy.model.specialparams.dataset import DataSet\n",
    "from energiapy.model.specialparams.unbound import BigM\n",
    "from energiapy.utils.data_utils import make_henry_price_df, remove_outliers"
   ]
  },
  {
   "cell_type": "code",
   "execution_count": 3,
   "metadata": {},
   "outputs": [],
   "source": [
    "def load_data(loc:str, index:list):\n",
    "    df = pandas.read_csv(f'data/{loc}_solar19.csv')\n",
    "    df['idx'] = index\n",
    "    df = df.set_index('idx')\n",
    "    return df\n",
    "idx = [(i,j,k) for i,j,k in product(range(1), range(365), range(24))]\n",
    "weather_ny = load_data('ny', idx)[['DNI', 'Wind Speed']]\n",
    "weather_ny = weather_ny.rename(columns= {'DNI': 'dni', 'Wind Speed': 'wind_speed'})\n",
    "weather_sd = load_data('sd', idx)[['dni', 'wind_speed']]\n",
    "weather_ho = load_data('ho', idx)[['dni', 'wind_speed']]\n",
    "demand_sd = pandas.read_excel('data/HistoricalEMSHourlyLoad-2019.xlsx', index_col= 0)[['SDGE']]\n",
    "demand_ho = pandas.read_excel('data/Native_Load_2019.xlsx')[['COAST']]\n",
    "demand_ny = pandas.DataFrame(pandas.read_csv('data/NYC_load.csv')['Load']) #from Will and Doga\n",
    "ng_price = make_henry_price_df(\n",
    "    file_name='data/Henry_Hub_Natural_Gas_Spot_Price_Daily.csv', year=2020)\n",
    "ng_price = ng_price.drop(columns= 'scales')\n",
    "ng_price = remove_outliers(ng_price, sd_cuttoff = 3)\n",
    "ng_price = pandas.concat([ng_price])"
   ]
  },
  {
   "cell_type": "code",
   "execution_count": 4,
   "metadata": {},
   "outputs": [],
   "source": [
    "s = Scenario()"
   ]
  },
  {
   "cell_type": "code",
   "execution_count": 5,
   "metadata": {},
   "outputs": [],
   "source": [
    "s.h = Horizon(discretizations=[365, 24])"
   ]
  },
  {
   "cell_type": "code",
   "execution_count": 6,
   "metadata": {},
   "outputs": [],
   "source": [
    "a = pandas.DataFrame({'a': list(range(8760))})\n",
    "b = pandas.DataFrame({'b': list(range(8760))})\n",
    "cc = DataSet(data = a, horizon= s.h, scaling_max= True)"
   ]
  },
  {
   "cell_type": "code",
   "execution_count": 7,
   "metadata": {},
   "outputs": [],
   "source": [
    "s.H2 = Resource(discharge = {s.t0: [0,4], s.t1: [22, 34], s.t2: (a, b)}, sell_cost = (0, 10))\n"
   ]
  },
  {
   "cell_type": "code",
   "execution_count": 8,
   "metadata": {},
   "outputs": [],
   "source": [
    "# Resource.__hash__ "
   ]
  },
  {
   "cell_type": "code",
   "execution_count": 9,
   "metadata": {},
   "outputs": [],
   "source": [
    "# s.H2.discharge.cons()"
   ]
  },
  {
   "cell_type": "code",
   "execution_count": 10,
   "metadata": {},
   "outputs": [],
   "source": [
    "s.Solar = Resource(gwp =50, eutt = 60, consume=BigM, basis='MW', label='Solar Power')\n",
    "s.Wind = Resource(consume=cc, basis='MW', label='Wind Power')\n",
    "s.Power = Resource(basis='MW', label='Power generated')\n",
    "s.Uranium = Resource(consume=pandas.DataFrame({'a': [i for i in range(365)]}), purchase_cost= 42.70/(250/2), basis='kg', label='Uranium')\n",
    "# s.H2 = Resource(basis='tons', label='Hydrogen')\n",
    "s.H2_L = Resource(discharge = (0,23), basis='tons', label='Hydrogen')\n",
    "s.CO2_AQoff = Resource(basis='tons', label='Carbon dioxide - sequestered')\n",
    "s.H2O = Resource(consume=(20,50), purchase_cost= cc, basis='tons', label='Water')\n",
    "s.CH4 = Resource(consume=[20, 40], purchase_cost=20, basis='tons', label='Natural gas')\n",
    "s.CO2 = Resource(basis='tons', label='Carbon dioxide', block='Resource')\n",
    "s.CO2_Vent = Resource(basis='tons', label='Carbon dioxide - Vented', sell_cost= (2, 20))\n",
    "s.O2 = Resource(discharge= [20, BigM], basis='tons', label='Oxygen')\n",
    "s.CO2_DAC = Resource(basis='tons', label='Carbon dioxide - captured')\n"
   ]
  },
  {
   "cell_type": "code",
   "execution_count": 11,
   "metadata": {},
   "outputs": [
    {
     "data": {
      "text/plain": [
       "[CO2,\n",
       " CH4,\n",
       " H2,\n",
       " CO2_DAC,\n",
       " Wind,\n",
       " Solar,\n",
       " Uranium,\n",
       " H2_L,\n",
       " CO2_AQoff,\n",
       " O2,\n",
       " CO2_Vent,\n",
       " H2O,\n",
       " Power]"
      ]
     },
     "execution_count": 11,
     "metadata": {},
     "output_type": "execute_result"
    }
   ],
   "source": [
    "s.resources "
   ]
  },
  {
   "attachments": {},
   "cell_type": "markdown",
   "metadata": {},
   "source": [
    "## Declare processes"
   ]
  },
  {
   "cell_type": "code",
   "execution_count": null,
   "metadata": {},
   "outputs": [
    {
     "ename": "AttributeError",
     "evalue": "'Scenario' object has no attribute 'H2'",
     "output_type": "error",
     "traceback": [
      "\u001b[1;31m---------------------------------------------------------------------------\u001b[0m",
      "\u001b[1;31mAttributeError\u001b[0m                            Traceback (most recent call last)",
      "Cell \u001b[1;32mIn[12], line 4\u001b[0m\n\u001b[0;32m      2\u001b[0m s\u001b[38;5;241m.\u001b[39mWF \u001b[38;5;241m=\u001b[39m Process(gwp \u001b[38;5;241m=\u001b[39m \u001b[38;5;241m50\u001b[39m, odp \u001b[38;5;241m=\u001b[39m \u001b[38;5;241m2900\u001b[39m,  produce\u001b[38;5;241m=\u001b[39m weather_ho[[\u001b[38;5;124m'\u001b[39m\u001b[38;5;124mwind_speed\u001b[39m\u001b[38;5;124m'\u001b[39m]],  conversion\u001b[38;5;241m=\u001b[39m{s\u001b[38;5;241m.\u001b[39mPower: {s\u001b[38;5;241m.\u001b[39mWind: \u001b[38;5;241m-\u001b[39m\u001b[38;5;241m1\u001b[39m}},capex\u001b[38;5;241m=\u001b[39m\u001b[38;5;241m1462000\u001b[39m, fopex\u001b[38;5;241m=\u001b[39m\u001b[38;5;241m43000\u001b[39m, vopex\u001b[38;5;241m=\u001b[39m\u001b[38;5;241m4953\u001b[39m, capacity\u001b[38;5;241m=\u001b[39m\u001b[38;5;241m1000\u001b[39m, land_use \u001b[38;5;241m=\u001b[39m \u001b[38;5;241m30\u001b[39m, label\u001b[38;5;241m=\u001b[39m\u001b[38;5;124m'\u001b[39m\u001b[38;5;124mWind mill array\u001b[39m\u001b[38;5;124m'\u001b[39m, basis \u001b[38;5;241m=\u001b[39m \u001b[38;5;124m'\u001b[39m\u001b[38;5;124mMW\u001b[39m\u001b[38;5;124m'\u001b[39m)\n\u001b[0;32m      3\u001b[0m s\u001b[38;5;241m.\u001b[39mPV \u001b[38;5;241m=\u001b[39m Process(sell_cost\u001b[38;5;241m=\u001b[39m {s\u001b[38;5;241m.\u001b[39mPower:\u001b[38;5;241m30\u001b[39m}, credit \u001b[38;5;241m=\u001b[39m {s\u001b[38;5;241m.\u001b[39mPower: pandas\u001b[38;5;241m.\u001b[39mDataFrame({\u001b[38;5;124m'\u001b[39m\u001b[38;5;124ma\u001b[39m\u001b[38;5;124m'\u001b[39m: [\u001b[38;5;241m2\u001b[39m]})}, conversion\u001b[38;5;241m=\u001b[39m{s\u001b[38;5;241m.\u001b[39mPower: {\u001b[38;5;241m1\u001b[39m:{s\u001b[38;5;241m.\u001b[39mSolar: \u001b[38;5;241m-\u001b[39m\u001b[38;5;241m1.2\u001b[39m}, \u001b[38;5;241m2\u001b[39m: {s\u001b[38;5;241m.\u001b[39mSolar: \u001b[38;5;241m-\u001b[39m\u001b[38;5;241m1.5\u001b[39m}}}, capex \u001b[38;5;241m=\u001b[39m \u001b[38;5;241m1333262\u001b[39m, fopex\u001b[38;5;241m=\u001b[39m \u001b[38;5;241m22623\u001b[39m, capacity\u001b[38;5;241m=\u001b[39m\u001b[38;5;28;01mTrue\u001b[39;00m, label \u001b[38;5;241m=\u001b[39m \u001b[38;5;124m'\u001b[39m\u001b[38;5;124mSolar PV\u001b[39m\u001b[38;5;124m'\u001b[39m, basis \u001b[38;5;241m=\u001b[39m \u001b[38;5;124m'\u001b[39m\u001b[38;5;124mMW\u001b[39m\u001b[38;5;124m'\u001b[39m)\n\u001b[1;32m----> 4\u001b[0m s\u001b[38;5;241m.\u001b[39mSMRH \u001b[38;5;241m=\u001b[39m Process(land_use\u001b[38;5;241m=\u001b[39m\u001b[38;5;241m50\u001b[39m, conversion\u001b[38;5;241m=\u001b[39m{\u001b[43ms\u001b[49m\u001b[38;5;241;43m.\u001b[39;49m\u001b[43mH2\u001b[49m: {s\u001b[38;5;241m.\u001b[39mPower: \u001b[38;5;241m-\u001b[39m\u001b[38;5;241m1.11\u001b[39m, s\u001b[38;5;241m.\u001b[39mCH4: \u001b[38;5;241m-\u001b[39m\u001b[38;5;241m3.76\u001b[39m, s\u001b[38;5;241m.\u001b[39mH2O: \u001b[38;5;241m-\u001b[39m\u001b[38;5;241m23.7\u001b[39m, s\u001b[38;5;241m.\u001b[39mCO2_Vent: \u001b[38;5;241m1.03\u001b[39m, s\u001b[38;5;241m.\u001b[39mCO2: \u001b[38;5;241m9.332\u001b[39m}}, capex \u001b[38;5;241m=\u001b[39m\u001b[38;5;241m2520000\u001b[39m, fopex \u001b[38;5;241m=\u001b[39m \u001b[38;5;241m945000\u001b[39m, vopex \u001b[38;5;241m=\u001b[39m \u001b[38;5;241m51.5\u001b[39m, capacity\u001b[38;5;241m=\u001b[39m \u001b[38;5;241m1000\u001b[39m, label\u001b[38;5;241m=\u001b[39m\u001b[38;5;124m'\u001b[39m\u001b[38;5;124mSteam methane reforming + CCUS\u001b[39m\u001b[38;5;124m'\u001b[39m)\n\u001b[0;32m      5\u001b[0m s\u001b[38;5;241m.\u001b[39mNGCC \u001b[38;5;241m=\u001b[39m Process(purchase_cost\u001b[38;5;241m=\u001b[39m {s\u001b[38;5;241m.\u001b[39mCH4: \u001b[38;5;241m4\u001b[39m, s\u001b[38;5;241m.\u001b[39mH2O: \u001b[38;5;241m20\u001b[39m}, conversion \u001b[38;5;241m=\u001b[39m {s\u001b[38;5;241m.\u001b[39mPower: {s\u001b[38;5;241m.\u001b[39mCH4: \u001b[38;5;241m-\u001b[39m\u001b[38;5;241m0.108\u001b[39m, s\u001b[38;5;241m.\u001b[39mH2O: \u001b[38;5;241m-\u001b[39m\u001b[38;5;241m10\u001b[39m, s\u001b[38;5;241m.\u001b[39mCO2_Vent: \u001b[38;5;241m0.297\u001b[39m\u001b[38;5;241m*\u001b[39m\u001b[38;5;241m0.05\u001b[39m, s\u001b[38;5;241m.\u001b[39mCO2:\u001b[38;5;241m0.297\u001b[39m\u001b[38;5;241m*\u001b[39m\u001b[38;5;241m0.95\u001b[39m}}, capex \u001b[38;5;241m=\u001b[39m \u001b[38;5;241m2158928\u001b[39m, fopex\u001b[38;5;241m=\u001b[39m \u001b[38;5;241m53320\u001b[39m, vopex \u001b[38;5;241m=\u001b[39m \u001b[38;5;241m4090\u001b[39m, capacity\u001b[38;5;241m=\u001b[39m [\u001b[38;5;241m1\u001b[39m,\u001b[38;5;241m100\u001b[39m], label \u001b[38;5;241m=\u001b[39m \u001b[38;5;124m'\u001b[39m\u001b[38;5;124mNGCC + 95\u001b[39m\u001b[38;5;124m%\u001b[39m\u001b[38;5;124m CC\u001b[39m\u001b[38;5;124m'\u001b[39m)\n\u001b[0;32m      6\u001b[0m s\u001b[38;5;241m.\u001b[39mSMR \u001b[38;5;241m=\u001b[39m Process(capex \u001b[38;5;241m=\u001b[39m \u001b[38;5;241m2400\u001b[39m, fopex \u001b[38;5;241m=\u001b[39m \u001b[38;5;241m800\u001b[39m, vopex \u001b[38;5;241m=\u001b[39m \u001b[38;5;241m0.03\u001b[39m,  conversion\u001b[38;5;241m=\u001b[39m{s\u001b[38;5;241m.\u001b[39mH2: {s\u001b[38;5;241m.\u001b[39mPower: \u001b[38;5;241m-\u001b[39m\u001b[38;5;241m1.11\u001b[39m, s\u001b[38;5;241m.\u001b[39mCH4: \u001b[38;5;241m-\u001b[39m\u001b[38;5;241m3.76\u001b[39m, s\u001b[38;5;241m.\u001b[39mH2O: \u001b[38;5;241m-\u001b[39m\u001b[38;5;241m23.7\u001b[39m, s\u001b[38;5;241m.\u001b[39mCO2_Vent: \u001b[38;5;241m9.4979\u001b[39m}}, capacity\u001b[38;5;241m=\u001b[39m\u001b[38;5;241m1000\u001b[39m, label\u001b[38;5;241m=\u001b[39m\u001b[38;5;124m'\u001b[39m\u001b[38;5;124mSteam methane reforming\u001b[39m\u001b[38;5;124m'\u001b[39m)\n",
      "\u001b[1;31mAttributeError\u001b[0m: 'Scenario' object has no attribute 'H2'"
     ]
    }
   ],
   "source": [
    "# s.LiI = Process(store= 2000, conversion = {s.Power: 0.9}, store_loss = 0.2, store_cost= 0.4, capex = 3516428, fopex= 87910, vopex = 0, capacity= [1000,BigM], label='Lithium-ion battery', basis = 'MW')\n",
    "s.WF = Process(gwp = 50, odp = 2900,  produce= weather_ho[['wind_speed']],  conversion={s.Power: {s.Wind: -1}},capex=1462000, fopex=43000, vopex=4953, capacity=1000, land_use = 30, label='Wind mill array', basis = 'MW')\n",
    "s.PV = Process(sell_cost= {s.Power:30}, credit = {s.Power: pandas.DataFrame({'a': [2]})}, conversion={s.Power: {1:{s.Solar: -1.2}, 2: {s.Solar: -1.5}}}, capex = 1333262, fopex= 22623, capacity=True, label = 'Solar PV', basis = 'MW')\n",
    "s.SMRH = Process(land_use=50, conversion={s.H2: {s.Power: -1.11, s.CH4: -3.76, s.H2O: -23.7, s.CO2_Vent: 1.03, s.CO2: 9.332}}, capex =2520000, fopex = 945000, vopex = 51.5, capacity= 1000, label='Steam methane reforming + CCUS')\n",
    "s.NGCC = Process(purchase_cost= {s.CH4: 4, s.H2O: 20}, conversion = {s.Power: {s.CH4: -0.108, s.H2O: -10, s.CO2_Vent: 0.297*0.05, s.CO2:0.297*0.95}}, capex = 2158928, fopex= 53320, vopex = 4090, capacity= [1,100], label = 'NGCC + 95% CC')\n",
    "s.SMR = Process(capex = 2400, fopex = 800, vopex = 0.03,  conversion={s.H2: {s.Power: -1.11, s.CH4: -3.76, s.H2O: -23.7, s.CO2_Vent: 9.4979}}, capacity=1000, label='Steam methane reforming')\n",
    "s.H2FC = Process(purchase_cost= {s.H2: 2}, discharge= {s.Power: 20}, conversion = {s.Power: {s.H2:-0.050}}, capex =  1.6*10**6, vopex = 3.5, capacity = 1000, label = 'hydrogen fuel cell')\n",
    "s.DAC = Process(capex = 0.02536, fopex = 0.634, conversion= {s.CO2_DAC: {s.Power: -0.193, s.H2O: -4.048}}, capacity=1000, label='Direct air capture')\n",
    "# s.PSH = Process(conversion = {s.Power: 0.6}, capex = 3924781, fopex= 17820, vopex = 512.5, store = 10000, capacity=1000, label='Pumped storage hydropower', basis = 'MW')\n",
    "s.ASMR = Process(consume = {s.Uranium: 40}, conversion={s.Power:{s.Uranium: -4.17*10**(-5), s.H2O: -3.364}}, capex = 7988951, fopex= 0.04*0.730, capacity = 1000, label='Small modular reactors (SMRs)')\n",
    "s.AWE = Process(incidental= 20, land_use = (0,20), conversion= {s.H2: {s.Power: -1, s.O2: 0.7632, s.H2O: -0.1753}}, capex = 1.1*10**6, fopex = 16918, capacity = BigM, label='Alkaline water electrolysis (AWE)', citation='Demirhan et al. 2018 AIChE paper') \n"
   ]
  },
  {
   "cell_type": "code",
   "execution_count": null,
   "metadata": {},
   "outputs": [
    {
     "name": "stdout",
     "output_type": "stream",
     "text": [
      "consume('Wind', 'WF', 't0')<=M\n"
     ]
    }
   ],
   "source": [
    "s.WF.consume.cons()"
   ]
  },
  {
   "cell_type": "code",
   "execution_count": null,
   "metadata": {},
   "outputs": [
    {
     "name": "stdout",
     "output_type": "stream",
     "text": [
      "produce('Power', 'WF', 't2')<=capacity('Power', 'WF', 't2')\n"
     ]
    }
   ],
   "source": [
    "s.WF.produce.cons()"
   ]
  },
  {
   "cell_type": "code",
   "execution_count": null,
   "metadata": {},
   "outputs": [
    {
     "name": "stdout",
     "output_type": "stream",
     "text": [
      "produce('Power', 'ASMR', 't0')<=capacity('Power', 'ASMR', 't0')\n",
      "produce('Power', 'H2FC', 't0')<=capacity('Power', 'H2FC', 't0')\n",
      "produce('Power', 'NGCC', 't0')<=capacity('Power', 'NGCC', 't0')\n",
      "produce('Power', 'PV', 't0')<=capacity('Power', 'PV', 't0')\n",
      "produce('Power', 'WF', 't2')<=capacity('Power', 'WF', 't2')\n"
     ]
    }
   ],
   "source": [
    "s.Power.produce.cons()"
   ]
  },
  {
   "cell_type": "code",
   "execution_count": null,
   "metadata": {},
   "outputs": [
    {
     "name": "stdout",
     "output_type": "stream",
     "text": [
      "consume('Power', 'AWE', 't0')<=M\n",
      "consume('Power', 'DAC', 't0')<=M\n",
      "consume('Power', 'SMR', 't0')<=M\n",
      "consume('Power', 'SMRH', 't0')<=M\n",
      "credit('Power', 'PV', 't0')=DSet|Credit('Power', 'PV', 't0')|*discharge('Power', 'PV', 't0')\n",
      "discharge('Power', 'ASMR', 't0')<=M\n",
      "discharge('Power', 'H2FC', 't0')=20\n",
      "discharge('Power', 'NGCC', 't0')<=M\n",
      "discharge('Power', 'PV', 't0')<=M\n",
      "discharge('Power', 'WF', 't0')<=M\n",
      "produce('Power', 'ASMR', 't0')<=capacity('Power', 'ASMR', 't0')\n",
      "produce('Power', 'H2FC', 't0')<=capacity('Power', 'H2FC', 't0')\n",
      "produce('Power', 'NGCC', 't0')<=capacity('Power', 'NGCC', 't0')\n",
      "produce('Power', 'PV', 't0')<=capacity('Power', 'PV', 't0')\n",
      "produce('Power', 'WF', 't2')<=capacity('Power', 'WF', 't2')\n",
      "sell_cost('Power', 'PV', 't0')=30*discharge('Power', 'PV', 't0')\n"
     ]
    }
   ],
   "source": [
    "s.Power.cons()"
   ]
  },
  {
   "cell_type": "code",
   "execution_count": null,
   "metadata": {},
   "outputs": [
    {
     "name": "stdout",
     "output_type": "stream",
     "text": [
      "capacity('ASMR', 't0')=1000\n",
      "capacity('AWE', 't0')<=M\n",
      "capacity('DAC', 't0')=1000\n",
      "capacity('H2FC', 't0')=1000\n",
      "capacity('NGCC', 't0')<=100\n",
      "capacity('NGCC', 't0')>=1\n",
      "capacity('PV', 't0')<=M\n",
      "capacity('SMR', 't0')=1000\n",
      "capacity('SMRH', 't0')=1000\n",
      "capacity('WF', 't0')=1000\n",
      "capex('ASMR', 't0')=7988951*capacity('ASMR', 't0')\n",
      "capex('AWE', 't0')=1100000.0*capacity('AWE', 't0')\n",
      "capex('DAC', 't0')=0.02536*capacity('DAC', 't0')\n",
      "capex('H2FC', 't0')=1600000.0*capacity('H2FC', 't0')\n",
      "capex('NGCC', 't0')=2158928*capacity('NGCC', 't0')\n",
      "capex('PV', 't0')=1333262*capacity('PV', 't0')\n",
      "capex('SMR', 't0')=2400*capacity('SMR', 't0')\n",
      "capex('SMRH', 't0')=2520000*capacity('SMRH', 't0')\n",
      "capex('WF', 't0')=1462000*capacity('WF', 't0')\n",
      "consume('CH4', 'NGCC', 't0')<=M\n",
      "consume('CH4', 'SMR', 't0')<=M\n",
      "consume('CH4', 'SMRH', 't0')<=M\n",
      "consume('CH4', 't0')<=40\n",
      "consume('CH4', 't0')>=20\n",
      "consume('H2', 'H2FC', 't0')<=M\n",
      "consume('H2O', 'ASMR', 't0')<=M\n",
      "consume('H2O', 'AWE', 't0')<=M\n",
      "consume('H2O', 'DAC', 't0')<=M\n",
      "consume('H2O', 'NGCC', 't0')<=M\n",
      "consume('H2O', 'SMR', 't0')<=M\n",
      "consume('H2O', 'SMRH', 't0')<=M\n",
      "consume('H2O', 't0')=Th|Consume('H2O', 't0')|, Th in [20, 50]\n",
      "consume('Power', 'AWE', 't0')<=M\n",
      "consume('Power', 'DAC', 't0')<=M\n",
      "consume('Power', 'SMR', 't0')<=M\n",
      "consume('Power', 'SMRH', 't0')<=M\n",
      "consume('Solar', 'PV', 't0')<=M\n",
      "consume('Solar', 't0')<=M\n",
      "consume('Uranium', 'ASMR', 't0')=40\n",
      "consume('Uranium', 't1')=DSet|Consume('Uranium', 't1')|\n",
      "consume('Wind', 'WF', 't0')<=M\n",
      "consume('Wind', 't2')=DSet|Consume('Wind', 't2')|\n",
      "credit('Power', 'PV', 't0')=DSet|Credit('Power', 'PV', 't0')|*discharge('Power', 'PV', 't0')\n",
      "discharge('CO2', 'NGCC', 't0')<=M\n",
      "discharge('CO2', 'SMRH', 't0')<=M\n",
      "discharge('CO2_DAC', 'DAC', 't0')<=M\n",
      "discharge('CO2_Vent', 'NGCC', 't0')<=M\n",
      "discharge('CO2_Vent', 'SMR', 't0')<=M\n",
      "discharge('CO2_Vent', 'SMRH', 't0')<=M\n",
      "discharge('CO2_Vent', 't0')<=M\n",
      "discharge('H2', 'AWE', 't0')<=M\n",
      "discharge('H2', 'SMR', 't0')<=M\n",
      "discharge('H2', 'SMRH', 't0')<=M\n",
      "discharge('H2', 't0')<=4\n",
      "discharge('H2', 't0')>=0\n",
      "discharge('H2', 't1')<=34\n",
      "discharge('H2', 't1')>=22\n",
      "discharge('H2', 't2')=Th|Discharge('H2', 't2')|, Th in [DSet|Discharge_lb('H2', 't2')|, DSet|Discharge_ub('H2', 't2')|]\n",
      "discharge('H2_L', 't0')=Th|Discharge('H2_L', 't0')|, Th in [0, 23]\n",
      "discharge('O2', 'AWE', 't0')<=M\n",
      "discharge('O2', 't0')<=M\n",
      "discharge('O2', 't0')>=20\n",
      "discharge('Power', 'ASMR', 't0')<=M\n",
      "discharge('Power', 'H2FC', 't0')=20\n",
      "discharge('Power', 'NGCC', 't0')<=M\n",
      "discharge('Power', 'PV', 't0')<=M\n",
      "discharge('Power', 'WF', 't0')<=M\n",
      "eutt('Solar', 't0')=60*capacity('Solar', 't0')\n",
      "eutt('Solar', 't0')=60*consume('Solar', 't0')\n",
      "eutt('Solar', 't0')=60*discharge('Solar', 't0')\n",
      "fopex('ASMR', 't0')=0.0292*capacity('ASMR', 't0')\n",
      "fopex('AWE', 't0')=16918*capacity('AWE', 't0')\n",
      "fopex('DAC', 't0')=0.634*capacity('DAC', 't0')\n",
      "fopex('NGCC', 't0')=53320*capacity('NGCC', 't0')\n",
      "fopex('PV', 't0')=22623*capacity('PV', 't0')\n",
      "fopex('SMR', 't0')=800*capacity('SMR', 't0')\n",
      "fopex('SMRH', 't0')=945000*capacity('SMRH', 't0')\n",
      "fopex('WF', 't0')=43000*capacity('WF', 't0')\n",
      "gwp('Solar', 't0')=50*capacity('Solar', 't0')\n",
      "gwp('Solar', 't0')=50*consume('Solar', 't0')\n",
      "gwp('Solar', 't0')=50*discharge('Solar', 't0')\n",
      "gwp('WF', 't0')=50*capacity('WF', 't0')\n",
      "gwp('WF', 't0')=50*consume('WF', 't0')\n",
      "gwp('WF', 't0')=50*discharge('WF', 't0')\n",
      "incidental('AWE', 't0')=20\n",
      "land_use('AWE', 't0')=Th|Land_use('AWE', 't0')|*capacity('AWE', 't0'), Th in [0, 20]\n",
      "land_use('SMRH', 't0')=50*capacity('SMRH', 't0')\n",
      "land_use('WF', 't0')=30*capacity('WF', 't0')\n",
      "odp('WF', 't0')=2900*capacity('WF', 't0')\n",
      "odp('WF', 't0')=2900*consume('WF', 't0')\n",
      "odp('WF', 't0')=2900*discharge('WF', 't0')\n",
      "produce('CO2_DAC', 'DAC', 't0')<=capacity('CO2_DAC', 'DAC', 't0')\n",
      "produce('H2', 'AWE', 't0')<=capacity('H2', 'AWE', 't0')\n",
      "produce('H2', 'SMR', 't0')<=capacity('H2', 'SMR', 't0')\n",
      "produce('H2', 'SMRH', 't0')<=capacity('H2', 'SMRH', 't0')\n",
      "produce('Power', 'ASMR', 't0')<=capacity('Power', 'ASMR', 't0')\n",
      "produce('Power', 'H2FC', 't0')<=capacity('Power', 'H2FC', 't0')\n",
      "produce('Power', 'NGCC', 't0')<=capacity('Power', 'NGCC', 't0')\n",
      "produce('Power', 'PV', 't0')<=capacity('Power', 'PV', 't0')\n",
      "produce('Power', 'WF', 't2')<=capacity('Power', 'WF', 't2')\n",
      "purchase_cost('CH4', 'NGCC', 't0')=4*consume('CH4', 'NGCC', 't0')\n",
      "purchase_cost('CH4', 't0')=20*consume('CH4', 't0')\n",
      "purchase_cost('H2', 'H2FC', 't0')=2*consume('H2', 'H2FC', 't0')\n",
      "purchase_cost('H2O', 'NGCC', 't0')=20*consume('H2O', 'NGCC', 't0')\n",
      "purchase_cost('H2O', 't2')=DSet|Purchase_cost('H2O', 't2')|*consume('H2O', 't2')\n",
      "purchase_cost('Uranium', 't0')=0.3416*consume('Uranium', 't0')\n",
      "sell_cost('CO2_Vent', 't0')=Th|Sell_cost('CO2_Vent', 't0')|*discharge('CO2_Vent', 't0'), Th in [2, 20]\n",
      "sell_cost('H2', 't0')=Th|Sell_cost('H2', 't0')|*discharge('H2', 't0'), Th in [0, 10]\n",
      "sell_cost('Power', 'PV', 't0')=30*discharge('Power', 'PV', 't0')\n",
      "vopex('H2FC', 't0')=3.5*produce('H2FC', 't0')\n",
      "vopex('NGCC', 't0')=4090*produce('NGCC', 't0')\n",
      "vopex('SMR', 't0')=0.03*produce('SMR', 't0')\n",
      "vopex('SMRH', 't0')=51.5*produce('SMRH', 't0')\n",
      "vopex('WF', 't0')=4953*produce('WF', 't0')\n"
     ]
    }
   ],
   "source": [
    "s.cons()"
   ]
  },
  {
   "cell_type": "code",
   "execution_count": null,
   "metadata": {},
   "outputs": [
    {
     "name": "stdout",
     "output_type": "stream",
     "text": [
      "produce('Power', 'WF', 't2')<=capacity('Power', 'WF', 't2')\n"
     ]
    }
   ],
   "source": [
    "s.WF.produce.cons()"
   ]
  },
  {
   "cell_type": "code",
   "execution_count": null,
   "metadata": {},
   "outputs": [
    {
     "name": "stdout",
     "output_type": "stream",
     "text": [
      "produce('Power', 'ASMR', 't0')<=capacity('Power', 'ASMR', 't0')\n"
     ]
    }
   ],
   "source": [
    "s.ASMR.produce.cons()"
   ]
  },
  {
   "cell_type": "code",
   "execution_count": null,
   "metadata": {},
   "outputs": [
    {
     "name": "stdout",
     "output_type": "stream",
     "text": [
      "capacity('ASMR', 't0')=1000\n",
      "capex('ASMR', 't0')=7988951*capacity('ASMR', 't0')\n",
      "consume('H2O', 'ASMR', 't0')<=M\n",
      "consume('Uranium', 'ASMR', 't0')=40\n",
      "discharge('Power', 'ASMR', 't0')<=M\n",
      "fopex('ASMR', 't0')=0.0292*capacity('ASMR', 't0')\n",
      "produce('Power', 'ASMR', 't0')<=capacity('Power', 'ASMR', 't0')\n"
     ]
    }
   ],
   "source": [
    "s.ASMR.cons()"
   ]
  },
  {
   "cell_type": "code",
   "execution_count": null,
   "metadata": {},
   "outputs": [
    {
     "name": "stdout",
     "output_type": "stream",
     "text": [
      "produce('H2', 'SMR', 't0')<=capacity('H2', 'SMR', 't0')\n",
      "produce('Power', 'ASMR', 't0')<=capacity('Power', 'ASMR', 't0')\n",
      "produce('Power', 'NGCC', 't0')<=capacity('Power', 'NGCC', 't0')\n",
      "produce('Power', 'H2FC', 't0')<=capacity('Power', 'H2FC', 't0')\n",
      "produce('Power', 'PV', 't0')<=capacity('Power', 'PV', 't0')\n",
      "produce('H2', 'AWE', 't0')<=capacity('H2', 'AWE', 't0')\n",
      "produce('H2', 'SMRH', 't0')<=capacity('H2', 'SMRH', 't0')\n",
      "produce('Power', 'WF', 't2')<=capacity('Power', 'WF', 't2')\n",
      "produce('CO2_DAC', 'DAC', 't0')<=capacity('CO2_DAC', 'DAC', 't0')\n"
     ]
    }
   ],
   "source": [
    "for  i in s.processes:\n",
    "    i.produce.cons()"
   ]
  },
  {
   "cell_type": "code",
   "execution_count": null,
   "metadata": {},
   "outputs": [
    {
     "name": "stdout",
     "output_type": "stream",
     "text": [
      "consume('Power', 'AWE', 't0')<=M\n",
      "consume('Power', 'DAC', 't0')<=M\n",
      "consume('Power', 'SMR', 't0')<=M\n",
      "consume('Power', 'SMRH', 't0')<=M\n",
      "credit('Power', 'PV', 't0')=DSet|Credit('Power', 'PV', 't0')|*discharge('Power', 'PV', 't0')\n",
      "discharge('Power', 'ASMR', 't0')<=M\n",
      "discharge('Power', 'H2FC', 't0')=20\n",
      "discharge('Power', 'NGCC', 't0')<=M\n",
      "discharge('Power', 'PV', 't0')<=M\n",
      "discharge('Power', 'WF', 't0')<=M\n",
      "produce('Power', 'ASMR', 't0')<=capacity('Power', 'ASMR', 't0')\n",
      "produce('Power', 'H2FC', 't0')<=capacity('Power', 'H2FC', 't0')\n",
      "produce('Power', 'NGCC', 't0')<=capacity('Power', 'NGCC', 't0')\n",
      "produce('Power', 'PV', 't0')<=capacity('Power', 'PV', 't0')\n",
      "produce('Power', 'WF', 't2')<=capacity('Power', 'WF', 't2')\n",
      "sell_cost('Power', 'PV', 't0')=30*discharge('Power', 'PV', 't0')\n"
     ]
    }
   ],
   "source": [
    "s.Power.cons()"
   ]
  },
  {
   "cell_type": "code",
   "execution_count": null,
   "metadata": {},
   "outputs": [
    {
     "name": "stdout",
     "output_type": "stream",
     "text": [
      "produce('Power', 'WF', 't2')<=capacity('Power', 'WF', 't2')\n"
     ]
    }
   ],
   "source": [
    "s.WF.produce.cons()"
   ]
  },
  {
   "cell_type": "code",
   "execution_count": null,
   "metadata": {},
   "outputs": [
    {
     "name": "stdout",
     "output_type": "stream",
     "text": [
      "produce('Power', 'ASMR', 't0')<=capacity('Power', 'ASMR', 't0')\n"
     ]
    }
   ],
   "source": [
    "s.ASMR.produce.cons()"
   ]
  },
  {
   "cell_type": "code",
   "execution_count": null,
   "metadata": {},
   "outputs": [],
   "source": [
    "s.cons"
   ]
  },
  {
   "cell_type": "code",
   "execution_count": 24,
   "metadata": {},
   "outputs": [
    {
     "name": "stdout",
     "output_type": "stream",
     "text": [
      "produce('Power', 'WF', 't2')<=capacity('Power', 'WF', 't2')\n"
     ]
    }
   ],
   "source": [
    "s.WF.produce.cons()"
   ]
  },
  {
   "cell_type": "code",
   "execution_count": 25,
   "metadata": {},
   "outputs": [
    {
     "name": "stdout",
     "output_type": "stream",
     "text": [
      "consume('Uranium', 'ASMR', 't0')=40\n",
      "consume('Uranium', 't1')=DSet|Consume('Uranium', 't1')|\n",
      "consume('Wind', 'WF', 't0')<=M\n",
      "consume('Wind', 't2')=DSet|Consume('Wind', 't2')|\n",
      "consume('Power', 'AWE', 't0')<=M\n",
      "consume('Power', 'DAC', 't0')<=M\n",
      "consume('Power', 'SMR', 't0')<=M\n",
      "consume('Power', 'SMRH', 't0')<=M\n",
      "consume('CH4', 'NGCC', 't0')<=M\n",
      "consume('CH4', 'SMR', 't0')<=M\n",
      "consume('CH4', 'SMRH', 't0')<=M\n",
      "consume('CH4', 't0')<=40\n",
      "consume('CH4', 't0')>=20\n",
      "consume('H2O', 'ASMR', 't0')<=M\n",
      "consume('H2O', 'AWE', 't0')<=M\n",
      "consume('H2O', 'DAC', 't0')<=M\n",
      "consume('H2O', 'NGCC', 't0')<=M\n",
      "consume('H2O', 'SMR', 't0')<=M\n",
      "consume('H2O', 'SMRH', 't0')<=M\n",
      "consume('H2O', 't0')=Th|Consume('H2O', 't0')|, Th in [20, 50]\n",
      "consume('Solar', 'PV', 't0')<=M\n",
      "consume('Solar', 't0')<=M\n",
      "consume('H2', 'H2FC', 't0')<=M\n"
     ]
    }
   ],
   "source": [
    "for i in s.resources:\n",
    "    if hasattr(i, 'consume') and getattr(i, 'consume') is not None:\n",
    "        i.consume.cons()"
   ]
  },
  {
   "cell_type": "code",
   "execution_count": null,
   "metadata": {},
   "outputs": [],
   "source": []
  },
  {
   "cell_type": "code",
   "execution_count": 26,
   "metadata": {},
   "outputs": [
    {
     "data": {
      "text/plain": [
       "[NGCC, SMRH, SMR, WF, ASMR, PV, H2FC, DAC, AWE]"
      ]
     },
     "execution_count": 26,
     "metadata": {},
     "output_type": "execute_result"
    }
   ],
   "source": [
    "s.processes"
   ]
  },
  {
   "cell_type": "code",
   "execution_count": 27,
   "metadata": {},
   "outputs": [
    {
     "name": "stdout",
     "output_type": "stream",
     "text": [
      "produce('Power', 'ASMR', 't0')<=capacity('Power', 'ASMR', 't0')\n",
      "produce('Power', 'H2FC', 't0')<=capacity('Power', 'H2FC', 't0')\n",
      "produce('Power', 'NGCC', 't0')<=capacity('Power', 'NGCC', 't0')\n",
      "produce('Power', 'PV', 't0')<=capacity('Power', 'PV', 't0')\n",
      "produce('Power', 'WF', 't2')<=capacity('Power', 'WF', 't2')\n"
     ]
    }
   ],
   "source": [
    "s.Power.produce.cons()"
   ]
  },
  {
   "cell_type": "code",
   "execution_count": 28,
   "metadata": {},
   "outputs": [
    {
     "name": "stdout",
     "output_type": "stream",
     "text": [
      "produce('Power', 'ASMR', 't0')<=capacity('Power', 'ASMR', 't0')\n"
     ]
    }
   ],
   "source": [
    "s.ASMR.produce.cons()"
   ]
  },
  {
   "cell_type": "code",
   "execution_count": 29,
   "metadata": {},
   "outputs": [
    {
     "name": "stdout",
     "output_type": "stream",
     "text": [
      "NGCC\n",
      "produce('Power', 'NGCC', 't0')<=capacity('Power', 'NGCC', 't0')\n",
      "___________\n",
      "SMRH\n",
      "produce('H2', 'SMRH', 't0')<=capacity('H2', 'SMRH', 't0')\n",
      "___________\n",
      "SMR\n",
      "produce('H2', 'SMR', 't0')<=capacity('H2', 'SMR', 't0')\n",
      "___________\n",
      "WF\n",
      "produce('Power', 'WF', 't2')<=capacity('Power', 'WF', 't2')\n",
      "___________\n",
      "ASMR\n",
      "produce('Power', 'ASMR', 't0')<=capacity('Power', 'ASMR', 't0')\n",
      "___________\n",
      "PV\n",
      "produce('Power', 'PV', 't0')<=capacity('Power', 'PV', 't0')\n",
      "___________\n",
      "H2FC\n",
      "produce('Power', 'H2FC', 't0')<=capacity('Power', 'H2FC', 't0')\n",
      "___________\n",
      "DAC\n",
      "produce('CO2_DAC', 'DAC', 't0')<=capacity('CO2_DAC', 'DAC', 't0')\n",
      "___________\n",
      "AWE\n",
      "produce('H2', 'AWE', 't0')<=capacity('H2', 'AWE', 't0')\n",
      "___________\n"
     ]
    }
   ],
   "source": [
    "for i in s.processes:\n",
    "    print(i)\n",
    "    i.produce.cons()\n",
    "    print('___________')"
   ]
  },
  {
   "cell_type": "code",
   "execution_count": null,
   "metadata": {},
   "outputs": [
    {
     "name": "stdout",
     "output_type": "stream",
     "text": [
      "produce('Power', 'WF', 't2')<=capacity('Power', 'WF', 't2')\n"
     ]
    }
   ],
   "source": [
    "s.WF.produce.cons()"
   ]
  },
  {
   "cell_type": "code",
   "execution_count": null,
   "metadata": {},
   "outputs": [],
   "source": []
  },
  {
   "cell_type": "code",
   "execution_count": 18,
   "metadata": {},
   "outputs": [
    {
     "name": "stdout",
     "output_type": "stream",
     "text": [
      "produce('Power', 'WF', 't2')<=capacity('Power', 'WF', 't2')\n",
      "produce('Power', 'WF', 't2')<=capacity('Power', 'WF', 't2')\n",
      "discharge('Power', 'WF', 't0')<=M\n",
      "consume('Wind', 't2')=DSet|Consume('Wind', 't2')|\n",
      "consume('Wind', 'WF', 't0')<=M\n",
      "capacity('WF', 't0')=1000\n",
      "land_use('WF', 't0')=30*capacity('WF', 't0')\n",
      "capex('WF', 't0')=1462000*capacity('WF', 't0')\n",
      "fopex('WF', 't0')=43000*capacity('WF', 't0')\n",
      "vopex('WF', 't0')=4953*produce('WF', 't0')\n",
      "gwp('WF', 't0')=50*capacity('WF', 't0')\n",
      "gwp('WF', 't0')=50*consume('WF', 't0')\n",
      "gwp('WF', 't0')=50*discharge('WF', 't0')\n",
      "odp('WF', 't0')=2900*capacity('WF', 't0')\n",
      "odp('WF', 't0')=2900*consume('WF', 't0')\n",
      "odp('WF', 't0')=2900*discharge('WF', 't0')\n"
     ]
    }
   ],
   "source": [
    "s.WF.cons()"
   ]
  },
  {
   "cell_type": "code",
   "execution_count": 17,
   "metadata": {},
   "outputs": [
    {
     "data": {
      "text/plain": [
       "energiapy.model.aspect.AspectDict"
      ]
     },
     "execution_count": 17,
     "metadata": {},
     "output_type": "execute_result"
    }
   ],
   "source": [
    "type(s.WF.produce)"
   ]
  },
  {
   "cell_type": "code",
   "execution_count": 15,
   "metadata": {},
   "outputs": [
    {
     "data": {
      "text/plain": [
       "WF"
      ]
     },
     "execution_count": 15,
     "metadata": {},
     "output_type": "execute_result"
    }
   ],
   "source": [
    "s.WF.produce.component"
   ]
  },
  {
   "cell_type": "code",
   "execution_count": 17,
   "metadata": {},
   "outputs": [
    {
     "name": "stdout",
     "output_type": "stream",
     "text": [
      "produce('Power', 'WF', 't2')<=capacity('Power', 'WF', 't2')\n",
      "discharge('Power', 'WF', 't0')<=M\n",
      "produce('Power', 'PV', 't0')<=capacity('Power', 'PV', 't0')\n",
      "discharge('Power', 'PV', 't0')<=M\n",
      "sell_cost('Power', 'PV', 't0')=30*discharge('Power', 'PV', 't0')\n",
      "credit('Power', 'PV', 't0')=DSet|Credit('Power', 'PV', 't0')|*discharge('Power', 'PV', 't0')\n",
      "consume('Power', 'SMRH', 't0')<=M\n",
      "produce('Power', 'NGCC', 't0')<=capacity('Power', 'NGCC', 't0')\n",
      "discharge('Power', 'NGCC', 't0')<=M\n",
      "consume('Power', 'SMR', 't0')<=M\n",
      "produce('Power', 'H2FC', 't0')<=capacity('Power', 'H2FC', 't0')\n",
      "discharge('Power', 'H2FC', 't0')=20\n",
      "consume('Power', 'DAC', 't0')<=M\n",
      "produce('Power', 'ASMR', 't0')<=capacity('Power', 'ASMR', 't0')\n",
      "discharge('Power', 'ASMR', 't0')<=M\n",
      "consume('Power', 'AWE', 't0')<=M\n"
     ]
    }
   ],
   "source": [
    "s.Power.cons()"
   ]
  },
  {
   "cell_type": "code",
   "execution_count": 16,
   "metadata": {},
   "outputs": [
    {
     "name": "stdout",
     "output_type": "stream",
     "text": [
      "capacity('ASMR', 't0')=1000\n",
      "capacity('AWE', 't0')<=M\n",
      "capacity('DAC', 't0')=1000\n",
      "capacity('H2FC', 't0')=1000\n",
      "capacity('NGCC', 't0')<=100\n",
      "capacity('NGCC', 't0')>=1\n",
      "capacity('PV', 't0')<=M\n",
      "capacity('SMR', 't0')=1000\n",
      "capacity('SMRH', 't0')=1000\n",
      "capacity('WF', 't0')=1000\n",
      "capex('ASMR', 't0')=7988951*capacity('ASMR', 't0')\n",
      "capex('AWE', 't0')=1100000.0*capacity('AWE', 't0')\n",
      "capex('DAC', 't0')=0.02536*capacity('DAC', 't0')\n",
      "capex('H2FC', 't0')=1600000.0*capacity('H2FC', 't0')\n",
      "capex('NGCC', 't0')=2158928*capacity('NGCC', 't0')\n",
      "capex('PV', 't0')=1333262*capacity('PV', 't0')\n",
      "capex('SMR', 't0')=2400*capacity('SMR', 't0')\n",
      "capex('SMRH', 't0')=2520000*capacity('SMRH', 't0')\n",
      "capex('WF', 't0')=1462000*capacity('WF', 't0')\n",
      "consume('CH4', 't0')<=40\n",
      "consume('CH4', 't0')>=20\n",
      "consume('H2O', 't0')=Th|Consume('H2O', 't0')|, Th in [20, 50]\n",
      "consume('Solar', 't0')<=M\n",
      "consume('Uranium', 't1')=DSet|Consume('Uranium', 't1')|\n",
      "consume('Wind', 't2')=DSet|Consume('Wind', 't2')|\n",
      "discharge('CO2_Vent', 't0')<=M\n",
      "discharge('H2', 't0')<=4\n",
      "discharge('H2', 't0')>=0\n",
      "discharge('H2', 't1')<=34\n",
      "discharge('H2', 't1')>=22\n",
      "discharge('H2', 't2')=Th|Discharge('H2', 't2')|, Th in [DSet|Discharge_lb('H2', 't2')|, DSet|Discharge_ub('H2', 't2')|]\n",
      "discharge('H2_L', 't0')=Th|Discharge('H2_L', 't0')|, Th in [0, 23]\n",
      "discharge('O2', 't0')<=M\n",
      "discharge('O2', 't0')>=20\n",
      "eutt('Solar', 't0')=60*capacity('Solar', 't0')\n",
      "eutt('Solar', 't0')=60*consume('Solar', 't0')\n",
      "eutt('Solar', 't0')=60*discharge('Solar', 't0')\n",
      "fopex('ASMR', 't0')=0.0292*capacity('ASMR', 't0')\n",
      "fopex('AWE', 't0')=16918*capacity('AWE', 't0')\n",
      "fopex('DAC', 't0')=0.634*capacity('DAC', 't0')\n",
      "fopex('NGCC', 't0')=53320*capacity('NGCC', 't0')\n",
      "fopex('PV', 't0')=22623*capacity('PV', 't0')\n",
      "fopex('SMR', 't0')=800*capacity('SMR', 't0')\n",
      "fopex('SMRH', 't0')=945000*capacity('SMRH', 't0')\n",
      "fopex('WF', 't0')=43000*capacity('WF', 't0')\n",
      "gwp('Solar', 't0')=50*capacity('Solar', 't0')\n",
      "gwp('Solar', 't0')=50*consume('Solar', 't0')\n",
      "gwp('Solar', 't0')=50*discharge('Solar', 't0')\n",
      "gwp('WF', 't0')=50*capacity('WF', 't0')\n",
      "gwp('WF', 't0')=50*consume('WF', 't0')\n",
      "gwp('WF', 't0')=50*discharge('WF', 't0')\n",
      "incidental('AWE', 't0')=20\n",
      "land_use('AWE', 't0')=Th|Land_use('AWE', 't0')|*capacity('AWE', 't0'), Th in [0, 20]\n",
      "land_use('SMRH', 't0')=50*capacity('SMRH', 't0')\n",
      "land_use('WF', 't0')=30*capacity('WF', 't0')\n",
      "odp('WF', 't0')=2900*capacity('WF', 't0')\n",
      "odp('WF', 't0')=2900*consume('WF', 't0')\n",
      "odp('WF', 't0')=2900*discharge('WF', 't0')\n",
      "purchase_cost('CH4', 't0')=20*consume('CH4', 't0')\n",
      "purchase_cost('H2O', 't2')=DSet|Purchase_cost('H2O', 't2')|*consume('H2O', 't2')\n",
      "purchase_cost('Uranium', 't0')=0.3416*consume('Uranium', 't0')\n",
      "sell_cost('CO2_Vent', 't0')=Th|Sell_cost('CO2_Vent', 't0')|*discharge('CO2_Vent', 't0'), Th in [2, 20]\n",
      "sell_cost('H2', 't0')=Th|Sell_cost('H2', 't0')|*discharge('H2', 't0'), Th in [0, 10]\n",
      "vopex('H2FC', 't0')=3.5*produce('H2FC', 't0')\n",
      "vopex('NGCC', 't0')=4090*produce('NGCC', 't0')\n",
      "vopex('SMR', 't0')=0.03*produce('SMR', 't0')\n",
      "vopex('SMRH', 't0')=51.5*produce('SMRH', 't0')\n",
      "vopex('WF', 't0')=4953*produce('WF', 't0')\n"
     ]
    }
   ],
   "source": [
    "s.cons()"
   ]
  },
  {
   "cell_type": "code",
   "execution_count": null,
   "metadata": {},
   "outputs": [
    {
     "name": "stdout",
     "output_type": "stream",
     "text": [
      "discharge('H2', 'AWE', 't0')<=M\n"
     ]
    }
   ],
   "source": [
    "s.H2.discharge.cons()"
   ]
  },
  {
   "cell_type": "code",
   "execution_count": null,
   "metadata": {},
   "outputs": [
    {
     "data": {
      "text/plain": [
       "{H2: True, CO2_Vent: True}"
      ]
     },
     "execution_count": 14,
     "metadata": {},
     "output_type": "execute_result"
    }
   ],
   "source": [
    "s.SMR.discharge"
   ]
  },
  {
   "cell_type": "code",
   "execution_count": null,
   "metadata": {},
   "outputs": [
    {
     "name": "stdout",
     "output_type": "stream",
     "text": [
      "capacity('ASMR', 't0')=1000\n",
      "capacity('AWE', 't0')<=M\n",
      "capacity('DAC', 't0')=1000\n",
      "capacity('H2FC', 't0')=1000\n",
      "capacity('NGCC', 't0')<=100\n",
      "capacity('NGCC', 't0')>=1\n",
      "capacity('PV', 't0')<=M\n",
      "capacity('SMR', 't0')=1000\n",
      "capacity('SMRH', 't0')=1000\n",
      "capacity('WF', 't0')=1000\n",
      "capex('ASMR', 't0')=7988951*capacity('ASMR', 't0')\n",
      "capex('AWE', 't0')=1100000.0*capacity('AWE', 't0')\n",
      "capex('DAC', 't0')=0.02536*capacity('DAC', 't0')\n",
      "capex('H2FC', 't0')=1600000.0*capacity('H2FC', 't0')\n",
      "capex('NGCC', 't0')=2158928*capacity('NGCC', 't0')\n",
      "capex('PV', 't0')=1333262*capacity('PV', 't0')\n",
      "capex('SMR', 't0')=2400*capacity('SMR', 't0')\n",
      "capex('SMRH', 't0')=2520000*capacity('SMRH', 't0')\n",
      "capex('WF', 't0')=1462000*capacity('WF', 't0')\n",
      "consume('CH4', 't0')<=40\n",
      "consume('CH4', 't0')>=20\n",
      "consume('H2O', 't0')=Th|Consume('H2O', 't0')|, Th in [20, 50]\n",
      "consume('Solar', 't0')<=M\n",
      "consume('Uranium', 't1')=DSet|Consume('Uranium', 't1')|\n",
      "consume('Wind', 't2')=DSet|Consume('Wind', 't2')|\n",
      "discharge('CO2_Vent', 't0')<=M\n",
      "discharge('H2', 't0')<=4\n",
      "discharge('H2', 't0')>=0\n",
      "discharge('H2', 't1')<=34\n",
      "discharge('H2', 't1')>=22\n",
      "discharge('H2', 't2')=Th|Discharge('H2', 't2')|, Th in [DSet|Discharge_lb('H2', 't2')|, DSet|Discharge_ub('H2', 't2')|]\n",
      "discharge('H2_L', 't0')=Th|Discharge('H2_L', 't0')|, Th in [0, 23]\n",
      "discharge('O2', 't0')<=M\n",
      "discharge('O2', 't0')>=20\n",
      "eutt('Solar', 't0')=60*capacity('Solar', 't0')\n",
      "eutt('Solar', 't0')=60*consume('Solar', 't0')\n",
      "eutt('Solar', 't0')=60*discharge('Solar', 't0')\n",
      "fopex('ASMR', 't0')=0.0292*capacity('ASMR', 't0')\n",
      "fopex('AWE', 't0')=16918*capacity('AWE', 't0')\n",
      "fopex('DAC', 't0')=0.634*capacity('DAC', 't0')\n",
      "fopex('NGCC', 't0')=53320*capacity('NGCC', 't0')\n",
      "fopex('PV', 't0')=22623*capacity('PV', 't0')\n",
      "fopex('SMR', 't0')=800*capacity('SMR', 't0')\n",
      "fopex('SMRH', 't0')=945000*capacity('SMRH', 't0')\n",
      "fopex('WF', 't0')=43000*capacity('WF', 't0')\n",
      "gwp('Solar', 't0')=50*capacity('Solar', 't0')\n",
      "gwp('Solar', 't0')=50*consume('Solar', 't0')\n",
      "gwp('Solar', 't0')=50*discharge('Solar', 't0')\n",
      "gwp('WF', 't0')=50*capacity('WF', 't0')\n",
      "gwp('WF', 't0')=50*consume('WF', 't0')\n",
      "gwp('WF', 't0')=50*discharge('WF', 't0')\n",
      "incidental('AWE', 't0')=20\n",
      "land_use('AWE', 't0')=Th|Land_use('AWE', 't0')|*capacity('AWE', 't0'), Th in [0, 20]\n",
      "land_use('SMRH', 't0')=50*capacity('SMRH', 't0')\n",
      "land_use('WF', 't0')=30*capacity('WF', 't0')\n",
      "odp('WF', 't0')=2900*capacity('WF', 't0')\n",
      "odp('WF', 't0')=2900*consume('WF', 't0')\n",
      "odp('WF', 't0')=2900*discharge('WF', 't0')\n",
      "purchase_cost('CH4', 't0')=20*consume('CH4', 't0')\n",
      "purchase_cost('H2O', 't2')=DSet|Purchase_cost('H2O', 't2')|*consume('H2O', 't2')\n",
      "purchase_cost('Uranium', 't0')=0.3416*consume('Uranium', 't0')\n",
      "sell_cost('CO2_Vent', 't0')=Th|Sell_cost('CO2_Vent', 't0')|*discharge('CO2_Vent', 't0'), Th in [2, 20]\n",
      "sell_cost('H2', 't0')=Th|Sell_cost('H2', 't0')|*discharge('H2', 't0'), Th in [0, 10]\n",
      "vopex('H2FC', 't0')=3.5*produce('H2FC', 't0')\n",
      "vopex('NGCC', 't0')=4090*produce('NGCC', 't0')\n",
      "vopex('SMR', 't0')=0.03*produce('SMR', 't0')\n",
      "vopex('SMRH', 't0')=51.5*produce('SMRH', 't0')\n",
      "vopex('WF', 't0')=4953*produce('WF', 't0')\n"
     ]
    }
   ],
   "source": [
    "s.cons()"
   ]
  },
  {
   "cell_type": "code",
   "execution_count": 1,
   "metadata": {},
   "outputs": [
    {
     "ename": "NameError",
     "evalue": "name 's' is not defined",
     "output_type": "error",
     "traceback": [
      "\u001b[1;31m---------------------------------------------------------------------------\u001b[0m",
      "\u001b[1;31mNameError\u001b[0m                                 Traceback (most recent call last)",
      "Cell \u001b[1;32mIn[1], line 1\u001b[0m\n\u001b[1;32m----> 1\u001b[0m \u001b[43ms\u001b[49m\u001b[38;5;241m.\u001b[39mAWE\u001b[38;5;241m.\u001b[39mproduce \n",
      "\u001b[1;31mNameError\u001b[0m: name 's' is not defined"
     ]
    }
   ],
   "source": [
    "s.AWE.produce "
   ]
  },
  {
   "cell_type": "code",
   "execution_count": null,
   "metadata": {},
   "outputs": [
    {
     "data": {
      "text/plain": [
       "[Discharge_lb('H2', 't0'),\n",
       " Discharge_lb('H2', 't1'),\n",
       " Discharge_ub('H2', 't0'),\n",
       " Discharge_ub('H2', 't1'),\n",
       " Th|Discharge('H2', 't2')|,\n",
       " Th|Sell_cost('H2', 't0')|,\n",
       " Produce('H2', 'SMRH', 't0'),\n",
       " Discharge('H2', 'SMRH', 't0'),\n",
       " Produce('H2', 'SMRH', 't0'),\n",
       " Discharge('H2', 'SMRH', 't0'),\n",
       " Produce('H2', 'SMR', 't0'),\n",
       " Discharge('H2', 'SMR', 't0'),\n",
       " Produce('H2', 'SMR', 't0'),\n",
       " Discharge('H2', 'SMR', 't0'),\n",
       " Consume('H2', 'H2FC', 't0'),\n",
       " Consume('H2', 'H2FC', 't0'),\n",
       " Purchase_cost('H2', 'H2FC', 't0'),\n",
       " Produce('H2', 'AWE', 't0'),\n",
       " Discharge('H2', 'AWE', 't0'),\n",
       " Produce('H2', 'AWE', 't0'),\n",
       " Discharge('H2', 'AWE', 't0')]"
      ]
     },
     "execution_count": 15,
     "metadata": {},
     "output_type": "execute_result"
    }
   ],
   "source": [
    "s.H2.parameters"
   ]
  },
  {
   "cell_type": "code",
   "execution_count": null,
   "metadata": {},
   "outputs": [
    {
     "name": "stdout",
     "output_type": "stream",
     "text": [
      "discharge('H2', 't0')<=4\n",
      "discharge('H2', 't0')>=0\n",
      "discharge('H2', 't1')<=34\n",
      "discharge('H2', 't1')>=22\n",
      "discharge('H2', 't2')=Th|Discharge('H2', 't2')|, Th in [DSet|Discharge_lb('H2', 't2')|, DSet|Discharge_ub('H2', 't2')|]\n",
      "sell_cost('H2', 't0')=Th|Sell_cost('H2', 't0')|*discharge('H2', 't0'), Th in [0, 10]\n",
      "produce('H2', 'SMRH', 't0')<=capacity('H2', 'SMRH', 't0')\n",
      "discharge('H2', 'SMRH', 't0')<=M\n",
      "produce('H2', 'SMRH', 't0')<=capacity('H2', 'SMRH', 't0')\n",
      "discharge('H2', 'SMRH', 't0')<=M\n",
      "produce('H2', 'SMR', 't0')<=capacity('H2', 'SMR', 't0')\n",
      "discharge('H2', 'SMR', 't0')<=M\n",
      "produce('H2', 'SMR', 't0')<=capacity('H2', 'SMR', 't0')\n",
      "discharge('H2', 'SMR', 't0')<=M\n",
      "consume('H2', 'H2FC', 't0')<=M\n",
      "consume('H2', 'H2FC', 't0')<=M\n",
      "purchase_cost('H2', 'H2FC', 't0')=2*consume('H2', 'H2FC', 't0')\n",
      "produce('H2', 'AWE', 't0')<=capacity('H2', 'AWE', 't0')\n",
      "discharge('H2', 'AWE', 't0')<=M\n",
      "produce('H2', 'AWE', 't0')<=capacity('H2', 'AWE', 't0')\n",
      "discharge('H2', 'AWE', 't0')<=M\n"
     ]
    }
   ],
   "source": [
    "s.H2.cons()"
   ]
  },
  {
   "cell_type": "code",
   "execution_count": null,
   "metadata": {},
   "outputs": [
    {
     "name": "stdout",
     "output_type": "stream",
     "text": [
      "capacity('AWE', 't0')<=M\n",
      "land_use('AWE', 't0')=Th|Land_use('AWE', 't0')|*capacity('AWE', 't0'), Th in [0, 20]\n",
      "capex('AWE', 't0')=1100000.0*capacity('AWE', 't0')\n",
      "fopex('AWE', 't0')=16918*capacity('AWE', 't0')\n",
      "incidental('AWE', 't0')=20\n"
     ]
    }
   ],
   "source": [
    "s.AWE.cons()"
   ]
  },
  {
   "cell_type": "code",
   "execution_count": null,
   "metadata": {},
   "outputs": [
    {
     "data": {
      "text/plain": [
       "{Power: True, H2O: True}"
      ]
     },
     "execution_count": 18,
     "metadata": {},
     "output_type": "execute_result"
    }
   ],
   "source": [
    "s.AWE.consume"
   ]
  },
  {
   "cell_type": "code",
   "execution_count": null,
   "metadata": {},
   "outputs": [
    {
     "name": "stdout",
     "output_type": "stream",
     "text": [
      "produce('H2', 'AWE', 't0')<=capacity('H2', 'AWE', 't0')\n"
     ]
    }
   ],
   "source": [
    "s.H2.produce.cons()"
   ]
  },
  {
   "cell_type": "code",
   "execution_count": null,
   "metadata": {},
   "outputs": [
    {
     "data": {
      "text/plain": [
       "{H2: 1}"
      ]
     },
     "execution_count": 20,
     "metadata": {},
     "output_type": "execute_result"
    }
   ],
   "source": [
    "s.AWE.produce "
   ]
  },
  {
   "cell_type": "code",
   "execution_count": null,
   "metadata": {},
   "outputs": [
    {
     "name": "stdout",
     "output_type": "stream",
     "text": [
      "capacity('AWE', 't0')<=M\n",
      "land_use('AWE', 't0')=Th|Land_use('AWE', 't0')|*capacity('AWE', 't0'), Th in [0, 20]\n",
      "capex('AWE', 't0')=1100000.0*capacity('AWE', 't0')\n",
      "fopex('AWE', 't0')=16918*capacity('AWE', 't0')\n",
      "incidental('AWE', 't0')=20\n"
     ]
    }
   ],
   "source": [
    "s.AWE.cons()"
   ]
  },
  {
   "cell_type": "code",
   "execution_count": null,
   "metadata": {},
   "outputs": [
    {
     "name": "stdout",
     "output_type": "stream",
     "text": [
      "produce('H2', 'AWE', 't0')<=capacity('H2', 'AWE', 't0')\n"
     ]
    }
   ],
   "source": [
    "s.H2.produce.cons()"
   ]
  },
  {
   "cell_type": "code",
   "execution_count": 23,
   "metadata": {},
   "outputs": [
    {
     "name": "stdout",
     "output_type": "stream",
     "text": [
      "capacity('ASMR', 't0')=1000\n",
      "capacity('AWE', 't0')<=M\n",
      "capacity('DAC', 't0')=1000\n",
      "capacity('H2FC', 't0')=1000\n",
      "capacity('NGCC', 't0')<=100\n",
      "capacity('NGCC', 't0')>=1\n",
      "capacity('PV', 't0')<=M\n",
      "capacity('SMR', 't0')=1000\n",
      "capacity('SMRH', 't0')=1000\n",
      "capacity('WF', 't0')=1000\n",
      "capex('ASMR', 't0')=7988951*capacity('ASMR', 't0')\n",
      "capex('AWE', 't0')=1100000.0*capacity('AWE', 't0')\n",
      "capex('DAC', 't0')=0.02536*capacity('DAC', 't0')\n",
      "capex('H2FC', 't0')=1600000.0*capacity('H2FC', 't0')\n",
      "capex('NGCC', 't0')=2158928*capacity('NGCC', 't0')\n",
      "capex('PV', 't0')=1333262*capacity('PV', 't0')\n",
      "capex('SMR', 't0')=2400*capacity('SMR', 't0')\n",
      "capex('SMRH', 't0')=2520000*capacity('SMRH', 't0')\n",
      "capex('WF', 't0')=1462000*capacity('WF', 't0')\n",
      "consume('CH4', 't0')<=40\n",
      "consume('CH4', 't0')>=20\n",
      "consume('H2O', 't0')=Th|Consume('H2O', 't0')|, Th in [20, 50]\n",
      "consume('Solar', 't0')<=M\n",
      "consume('Uranium', 't1')=DSet|Consume('Uranium', 't1')|\n",
      "consume('Wind', 't2')=DSet|Consume('Wind', 't2')|\n",
      "discharge('CO2_Vent', 't0')<=M\n",
      "discharge('H2', 't0')<=4\n",
      "discharge('H2', 't0')>=0\n",
      "discharge('H2', 't1')<=34\n",
      "discharge('H2', 't1')>=22\n",
      "discharge('H2', 't2')=Th|Discharge('H2', 't2')|, Th in [DSet|Discharge_lb('H2', 't2')|, DSet|Discharge_ub('H2', 't2')|]\n",
      "discharge('H2_L', 't0')=Th|Discharge('H2_L', 't0')|, Th in [0, 23]\n",
      "discharge('O2', 't0')<=M\n",
      "discharge('O2', 't0')>=20\n",
      "eutt('Solar', 't0')=60*capacity('Solar', 't0')\n",
      "eutt('Solar', 't0')=60*consume('Solar', 't0')\n",
      "eutt('Solar', 't0')=60*discharge('Solar', 't0')\n",
      "fopex('ASMR', 't0')=0.0292*capacity('ASMR', 't0')\n",
      "fopex('AWE', 't0')=16918*capacity('AWE', 't0')\n",
      "fopex('DAC', 't0')=0.634*capacity('DAC', 't0')\n",
      "fopex('NGCC', 't0')=53320*capacity('NGCC', 't0')\n",
      "fopex('PV', 't0')=22623*capacity('PV', 't0')\n",
      "fopex('SMR', 't0')=800*capacity('SMR', 't0')\n",
      "fopex('SMRH', 't0')=945000*capacity('SMRH', 't0')\n",
      "fopex('WF', 't0')=43000*capacity('WF', 't0')\n",
      "gwp('Solar', 't0')=50*capacity('Solar', 't0')\n",
      "gwp('Solar', 't0')=50*consume('Solar', 't0')\n",
      "gwp('Solar', 't0')=50*discharge('Solar', 't0')\n",
      "gwp('WF', 't0')=50*capacity('WF', 't0')\n",
      "gwp('WF', 't0')=50*consume('WF', 't0')\n",
      "gwp('WF', 't0')=50*discharge('WF', 't0')\n",
      "incidental('AWE', 't0')=20\n",
      "land_use('AWE', 't0')=Th|Land_use('AWE', 't0')|*capacity('AWE', 't0'), Th in [0, 20]\n",
      "land_use('SMRH', 't0')=50*capacity('SMRH', 't0')\n",
      "land_use('WF', 't0')=30*capacity('WF', 't0')\n",
      "odp('WF', 't0')=2900*capacity('WF', 't0')\n",
      "odp('WF', 't0')=2900*consume('WF', 't0')\n",
      "odp('WF', 't0')=2900*discharge('WF', 't0')\n",
      "purchase_cost('CH4', 't0')=20*consume('CH4', 't0')\n",
      "purchase_cost('H2O', 't2')=DSet|Purchase_cost('H2O', 't2')|*consume('H2O', 't2')\n",
      "purchase_cost('Uranium', 't0')=0.3416*consume('Uranium', 't0')\n",
      "sell_cost('CO2_Vent', 't0')=Th|Sell_cost('CO2_Vent', 't0')|*discharge('CO2_Vent', 't0'), Th in [2, 20]\n",
      "sell_cost('H2', 't0')=Th|Sell_cost('H2', 't0')|*discharge('H2', 't0'), Th in [0, 10]\n",
      "vopex('H2FC', 't0')=3.5*produce('H2FC', 't0')\n",
      "vopex('NGCC', 't0')=4090*produce('NGCC', 't0')\n",
      "vopex('SMR', 't0')=0.03*produce('SMR', 't0')\n",
      "vopex('SMRH', 't0')=51.5*produce('SMRH', 't0')\n",
      "vopex('WF', 't0')=4953*produce('WF', 't0')\n"
     ]
    }
   ],
   "source": [
    "s.cons()"
   ]
  },
  {
   "cell_type": "code",
   "execution_count": null,
   "metadata": {},
   "outputs": [],
   "source": []
  },
  {
   "cell_type": "code",
   "execution_count": null,
   "metadata": {},
   "outputs": [],
   "source": []
  },
  {
   "cell_type": "code",
   "execution_count": 17,
   "metadata": {},
   "outputs": [
    {
     "data": {
      "text/plain": [
       "[<Limit.CAPACITY: 3>,\n",
       " <Land.LAND_USE: 1>,\n",
       " <CashFlow.CAPEX: 6>,\n",
       " <CashFlow.FOPEX: 7>,\n",
       " <CashFlow.VOPEX: 8>,\n",
       " <CashFlow.INCIDENTAL: 9>,\n",
       " <CapBound.PRODUCE: 1>,\n",
       " <CapBound.STORE: 2>,\n",
       " <Emission.GWP: 1>,\n",
       " <Emission.ODP: 2>,\n",
       " <Emission.ACID: 3>,\n",
       " <Emission.EUTT: 4>,\n",
       " <Emission.EUTF: 5>,\n",
       " <Emission.EUTM: 6>,\n",
       " <Life.INTRODUCE: 1>,\n",
       " <Life.RETIRE: 2>,\n",
       " <Life.LIFETIME: 3>,\n",
       " <Life.PFAIL: 4>,\n",
       " <Life.TRL: 5>,\n",
       " <Limit.DISCHARGE: 1>,\n",
       " <Limit.CONSUME: 2>,\n",
       " <CashFlow.SELL_COST: 1>,\n",
       " <CashFlow.PURCHASE_COST: 2>,\n",
       " <CashFlow.STORE_COST: 3>,\n",
       " <CashFlow.CREDIT: 4>,\n",
       " <CashFlow.PENALTY: 5>]"
      ]
     },
     "execution_count": 17,
     "metadata": {},
     "output_type": "execute_result"
    }
   ],
   "source": [
    "Process.aspects()"
   ]
  },
  {
   "cell_type": "code",
   "execution_count": null,
   "metadata": {},
   "outputs": [],
   "source": []
  },
  {
   "cell_type": "code",
   "execution_count": 18,
   "metadata": {},
   "outputs": [
    {
     "name": "stdout",
     "output_type": "stream",
     "text": [
      "consume('Power', 'AWE', 't0')<=M\n"
     ]
    }
   ],
   "source": [
    "s.Power.consume.cons()"
   ]
  },
  {
   "cell_type": "code",
   "execution_count": null,
   "metadata": {},
   "outputs": [
    {
     "name": "stdout",
     "output_type": "stream",
     "text": [
      "discharge('Power', 'ASMR', 't0')<=M\n"
     ]
    }
   ],
   "source": [
    "s.Power.discharge.cons()  "
   ]
  },
  {
   "cell_type": "code",
   "execution_count": 13,
   "metadata": {},
   "outputs": [
    {
     "data": {
      "text/plain": [
       "{'aspect': <Limit.DISCHARGE: 1>,\n",
       " 'component': Power,\n",
       " 'name': 'discharge(Power)',\n",
       " 'parameters': [Discharge('Power', 'ASMR', 't0')],\n",
       " 'variables': [discharge('Power', 'ASMR', 't0')],\n",
       " 'constraints': [discharge('Power', 'ASMR', 't0')<=M]}"
      ]
     },
     "execution_count": 13,
     "metadata": {},
     "output_type": "execute_result"
    }
   ],
   "source": [
    "s.Power.discharge.__dict__ "
   ]
  },
  {
   "cell_type": "code",
   "execution_count": 24,
   "metadata": {},
   "outputs": [
    {
     "data": {
      "text/plain": [
       "{H2: True, CO2_Vent: True}"
      ]
     },
     "execution_count": 24,
     "metadata": {},
     "output_type": "execute_result"
    }
   ],
   "source": [
    "s.SMR.discharge "
   ]
  },
  {
   "cell_type": "code",
   "execution_count": 20,
   "metadata": {},
   "outputs": [
    {
     "data": {
      "text/plain": [
       "{'aspect': <CapBound.PRODUCE: 1>,\n",
       " 'component': WF,\n",
       " 'name': 'produce(WF)',\n",
       " 'parameters': [DSet|Produce('WF', 't2')|],\n",
       " 'variables': [produce('WF', 't2')],\n",
       " 'constraints': [produce('WF', 't2')<=capacity('WF', 't2')]}"
      ]
     },
     "execution_count": 20,
     "metadata": {},
     "output_type": "execute_result"
    }
   ],
   "source": [
    "s.WF.produce.__dict__ "
   ]
  },
  {
   "cell_type": "code",
   "execution_count": 12,
   "metadata": {},
   "outputs": [
    {
     "data": {
      "text/plain": [
       "[<Limit.CAPACITY: 3>,\n",
       " <Land.LAND_USE: 1>,\n",
       " <CashFlow.CAPEX: 6>,\n",
       " <CashFlow.FOPEX: 7>,\n",
       " <CashFlow.VOPEX: 8>,\n",
       " <CashFlow.INCIDENTAL: 9>,\n",
       " <CapBound.PRODUCE: 1>,\n",
       " <CapBound.STORE: 2>,\n",
       " <Emission.GWP: 1>,\n",
       " <Emission.ODP: 2>,\n",
       " <Emission.ACID: 3>,\n",
       " <Emission.EUTT: 4>,\n",
       " <Emission.EUTF: 5>,\n",
       " <Emission.EUTM: 6>,\n",
       " <Life.INTRODUCE: 1>,\n",
       " <Life.RETIRE: 2>,\n",
       " <Life.LIFETIME: 3>,\n",
       " <Life.PFAIL: 4>,\n",
       " <Life.TRL: 5>]"
      ]
     },
     "execution_count": 12,
     "metadata": {},
     "output_type": "execute_result"
    }
   ],
   "source": [
    "Process.aspects()"
   ]
  },
  {
   "cell_type": "code",
   "execution_count": 15,
   "metadata": {},
   "outputs": [
    {
     "data": {
      "text/plain": [
       "[<Limit.DISCHARGE: 1>,\n",
       " <Limit.CONSUME: 2>,\n",
       " <CashFlow.SELL_COST: 1>,\n",
       " <CashFlow.PURCHASE_COST: 2>,\n",
       " <CashFlow.STORE_COST: 3>,\n",
       " <CashFlow.CREDIT: 4>,\n",
       " <CashFlow.PENALTY: 5>]"
      ]
     },
     "execution_count": 15,
     "metadata": {},
     "output_type": "execute_result"
    }
   ],
   "source": [
    "Process.resource_aspects()"
   ]
  },
  {
   "cell_type": "code",
   "execution_count": 12,
   "metadata": {},
   "outputs": [
    {
     "data": {
      "text/plain": [
       "{Power: True}"
      ]
     },
     "execution_count": 12,
     "metadata": {},
     "output_type": "execute_result"
    }
   ],
   "source": [
    "s.WF.discharge"
   ]
  },
  {
   "cell_type": "code",
   "execution_count": 13,
   "metadata": {},
   "outputs": [
    {
     "data": {
      "text/plain": [
       "produce(WF)"
      ]
     },
     "execution_count": 13,
     "metadata": {},
     "output_type": "execute_result"
    }
   ],
   "source": [
    "s.WF.produce"
   ]
  },
  {
   "cell_type": "code",
   "execution_count": 29,
   "metadata": {},
   "outputs": [
    {
     "data": {
      "text/plain": [
       "{Wind: True}"
      ]
     },
     "execution_count": 29,
     "metadata": {},
     "output_type": "execute_result"
    }
   ],
   "source": []
  },
  {
   "cell_type": "code",
   "execution_count": 28,
   "metadata": {},
   "outputs": [
    {
     "data": {
      "text/plain": [
       "{Wind: True}"
      ]
     },
     "execution_count": 28,
     "metadata": {},
     "output_type": "execute_result"
    }
   ],
   "source": [
    "s.WF.consume "
   ]
  },
  {
   "cell_type": "code",
   "execution_count": 20,
   "metadata": {},
   "outputs": [
    {
     "data": {
      "text/plain": [
       "{'aspect': <Limit.CONSUME: 2>,\n",
       " 'component': Wind,\n",
       " 'name': 'consume(Wind)',\n",
       " 'parameters': [Consume('Wind', 'WF', 't0')],\n",
       " 'variables': [consume('Wind', 'WF', 't0')],\n",
       " 'constraints': [consume('Wind', 'WF', 't0')<=M]}"
      ]
     },
     "execution_count": 20,
     "metadata": {},
     "output_type": "execute_result"
    }
   ],
   "source": [
    "s.Wind.consume.__dict__ "
   ]
  },
  {
   "cell_type": "code",
   "execution_count": 21,
   "metadata": {},
   "outputs": [
    {
     "data": {
      "text/plain": [
       "{Wind: True}"
      ]
     },
     "execution_count": 21,
     "metadata": {},
     "output_type": "execute_result"
    }
   ],
   "source": [
    "s.WF.consume "
   ]
  },
  {
   "cell_type": "code",
   "execution_count": 15,
   "metadata": {},
   "outputs": [
    {
     "data": {
      "text/plain": [
       "{'aspect': <CapBound.PRODUCE: 1>,\n",
       " 'component': WF,\n",
       " 'name': 'produce(WF)',\n",
       " 'parameters': [DSet|Produce('WF', 't2')|],\n",
       " 'variables': [produce('WF', 't2')],\n",
       " 'constraints': [produce('WF', 't2')<=capacity('WF', 't2')]}"
      ]
     },
     "execution_count": 15,
     "metadata": {},
     "output_type": "execute_result"
    }
   ],
   "source": [
    "s.WF.produce.__dict__ "
   ]
  },
  {
   "cell_type": "code",
   "execution_count": 12,
   "metadata": {},
   "outputs": [
    {
     "data": {
      "text/plain": [
       "{'conversion': Field(name='conversion',type='IsConv',default=<dataclasses._MISSING_TYPE object at 0x000002625AACA010>,default_factory=<dataclasses._MISSING_TYPE object at 0x000002625AACA010>,init=True,repr=True,hash=None,compare=True,metadata=mappingproxy({}),kw_only=False,_field_type=_FIELD),\n",
       " 'capacity': Field(name='capacity',type='IsLimit',default=<dataclasses._MISSING_TYPE object at 0x000002625AACA010>,default_factory=<dataclasses._MISSING_TYPE object at 0x000002625AACA010>,init=True,repr=True,hash=None,compare=True,metadata=mappingproxy({}),kw_only=False,_field_type=_FIELD),\n",
       " 'land_use': Field(name='land_use',type='IsLand',default=None,default_factory=<dataclasses._MISSING_TYPE object at 0x000002625AACA010>,init=True,repr=True,hash=None,compare=True,metadata=mappingproxy({}),kw_only=False,_field_type=_FIELD),\n",
       " 'material_cons': Field(name='material_cons',type='IsMatCons',default=None,default_factory=<dataclasses._MISSING_TYPE object at 0x000002625AACA010>,init=True,repr=True,hash=None,compare=True,metadata=mappingproxy({}),kw_only=False,_field_type=_FIELD),\n",
       " 'produce': Field(name='produce',type='IsCapBound',default=None,default_factory=<dataclasses._MISSING_TYPE object at 0x000002625AACA010>,init=True,repr=True,hash=None,compare=True,metadata=mappingproxy({}),kw_only=False,_field_type=_FIELD),\n",
       " 'capex': Field(name='capex',type='IsCashFlow',default=None,default_factory=<dataclasses._MISSING_TYPE object at 0x000002625AACA010>,init=True,repr=True,hash=None,compare=True,metadata=mappingproxy({}),kw_only=False,_field_type=_FIELD),\n",
       " 'fopex': Field(name='fopex',type='IsCashFlow',default=None,default_factory=<dataclasses._MISSING_TYPE object at 0x000002625AACA010>,init=True,repr=True,hash=None,compare=True,metadata=mappingproxy({}),kw_only=False,_field_type=_FIELD),\n",
       " 'vopex': Field(name='vopex',type='IsCashFlow',default=None,default_factory=<dataclasses._MISSING_TYPE object at 0x000002625AACA010>,init=True,repr=True,hash=None,compare=True,metadata=mappingproxy({}),kw_only=False,_field_type=_FIELD),\n",
       " 'incidental': Field(name='incidental',type='IsCashFlow',default=None,default_factory=<dataclasses._MISSING_TYPE object at 0x000002625AACA010>,init=True,repr=True,hash=None,compare=True,metadata=mappingproxy({}),kw_only=False,_field_type=_FIELD),\n",
       " 'capex_pwl': Field(name='capex_pwl',type='IsPWL',default=None,default_factory=<dataclasses._MISSING_TYPE object at 0x000002625AACA010>,init=True,repr=True,hash=None,compare=True,metadata=mappingproxy({}),kw_only=False,_field_type=_FIELD),\n",
       " 'gwp': Field(name='gwp',type='IsEmission',default=None,default_factory=<dataclasses._MISSING_TYPE object at 0x000002625AACA010>,init=True,repr=True,hash=None,compare=True,metadata=mappingproxy({}),kw_only=False,_field_type=_FIELD),\n",
       " 'odp': Field(name='odp',type='IsEmission',default=None,default_factory=<dataclasses._MISSING_TYPE object at 0x000002625AACA010>,init=True,repr=True,hash=None,compare=True,metadata=mappingproxy({}),kw_only=False,_field_type=_FIELD),\n",
       " 'acid': Field(name='acid',type='IsEmission',default=None,default_factory=<dataclasses._MISSING_TYPE object at 0x000002625AACA010>,init=True,repr=True,hash=None,compare=True,metadata=mappingproxy({}),kw_only=False,_field_type=_FIELD),\n",
       " 'eutt': Field(name='eutt',type='IsEmission',default=None,default_factory=<dataclasses._MISSING_TYPE object at 0x000002625AACA010>,init=True,repr=True,hash=None,compare=True,metadata=mappingproxy({}),kw_only=False,_field_type=_FIELD),\n",
       " 'eutf': Field(name='eutf',type='IsEmission',default=None,default_factory=<dataclasses._MISSING_TYPE object at 0x000002625AACA010>,init=True,repr=True,hash=None,compare=True,metadata=mappingproxy({}),kw_only=False,_field_type=_FIELD),\n",
       " 'eutm': Field(name='eutm',type='IsEmission',default=None,default_factory=<dataclasses._MISSING_TYPE object at 0x000002625AACA010>,init=True,repr=True,hash=None,compare=True,metadata=mappingproxy({}),kw_only=False,_field_type=_FIELD),\n",
       " 'introduce': Field(name='introduce',type='IsLife',default=None,default_factory=<dataclasses._MISSING_TYPE object at 0x000002625AACA010>,init=True,repr=True,hash=None,compare=True,metadata=mappingproxy({}),kw_only=False,_field_type=_FIELD),\n",
       " 'retire': Field(name='retire',type='IsLife',default=None,default_factory=<dataclasses._MISSING_TYPE object at 0x000002625AACA010>,init=True,repr=True,hash=None,compare=True,metadata=mappingproxy({}),kw_only=False,_field_type=_FIELD),\n",
       " 'lifetime': Field(name='lifetime',type='IsLife',default=None,default_factory=<dataclasses._MISSING_TYPE object at 0x000002625AACA010>,init=True,repr=True,hash=None,compare=True,metadata=mappingproxy({}),kw_only=False,_field_type=_FIELD),\n",
       " 'pfail': Field(name='pfail',type='IsLife',default=None,default_factory=<dataclasses._MISSING_TYPE object at 0x000002625AACA010>,init=True,repr=True,hash=None,compare=True,metadata=mappingproxy({}),kw_only=False,_field_type=_FIELD),\n",
       " 'trl': Field(name='trl',type='IsLife',default=None,default_factory=<dataclasses._MISSING_TYPE object at 0x000002625AACA010>,init=True,repr=True,hash=None,compare=True,metadata=mappingproxy({}),kw_only=False,_field_type=_FIELD),\n",
       " 'discharge': Field(name='discharge',type='IsLimit',default=None,default_factory=<dataclasses._MISSING_TYPE object at 0x000002625AACA010>,init=True,repr=True,hash=None,compare=True,metadata=mappingproxy({}),kw_only=False,_field_type=_FIELD),\n",
       " 'consume': Field(name='consume',type='IsLimit',default=None,default_factory=<dataclasses._MISSING_TYPE object at 0x000002625AACA010>,init=True,repr=True,hash=None,compare=True,metadata=mappingproxy({}),kw_only=False,_field_type=_FIELD),\n",
       " 'store_loss': Field(name='store_loss',type='IsLoss',default=None,default_factory=<dataclasses._MISSING_TYPE object at 0x000002625AACA010>,init=True,repr=True,hash=None,compare=True,metadata=mappingproxy({}),kw_only=False,_field_type=_FIELD),\n",
       " 'sell_cost': Field(name='sell_cost',type='IsCashFlow',default=None,default_factory=<dataclasses._MISSING_TYPE object at 0x000002625AACA010>,init=True,repr=True,hash=None,compare=True,metadata=mappingproxy({}),kw_only=False,_field_type=_FIELD),\n",
       " 'purchase_cost': Field(name='purchase_cost',type='IsCashFlow',default=None,default_factory=<dataclasses._MISSING_TYPE object at 0x000002625AACA010>,init=True,repr=True,hash=None,compare=True,metadata=mappingproxy({}),kw_only=False,_field_type=_FIELD),\n",
       " 'store_cost': Field(name='store_cost',type='IsCashFlow',default=None,default_factory=<dataclasses._MISSING_TYPE object at 0x000002625AACA010>,init=True,repr=True,hash=None,compare=True,metadata=mappingproxy({}),kw_only=False,_field_type=_FIELD),\n",
       " 'credit': Field(name='credit',type='IsCashFlow',default=None,default_factory=<dataclasses._MISSING_TYPE object at 0x000002625AACA010>,init=True,repr=True,hash=None,compare=True,metadata=mappingproxy({}),kw_only=False,_field_type=_FIELD),\n",
       " 'penalty': Field(name='penalty',type='IsCashFlow',default=None,default_factory=<dataclasses._MISSING_TYPE object at 0x000002625AACA010>,init=True,repr=True,hash=None,compare=True,metadata=mappingproxy({}),kw_only=False,_field_type=_FIELD),\n",
       " 'basis': Field(name='basis',type='IsDetail',default=None,default_factory=<dataclasses._MISSING_TYPE object at 0x000002625AACA010>,init=True,repr=True,hash=None,compare=True,metadata=mappingproxy({}),kw_only=False,_field_type=_FIELD),\n",
       " 'block': Field(name='block',type='IsDetail',default=None,default_factory=<dataclasses._MISSING_TYPE object at 0x000002625AACA010>,init=True,repr=True,hash=None,compare=True,metadata=mappingproxy({}),kw_only=False,_field_type=_FIELD),\n",
       " 'citation': Field(name='citation',type='IsDetail',default=None,default_factory=<dataclasses._MISSING_TYPE object at 0x000002625AACA010>,init=True,repr=True,hash=None,compare=True,metadata=mappingproxy({}),kw_only=False,_field_type=_FIELD),\n",
       " 'label': Field(name='label',type='IsDetail',default=None,default_factory=<dataclasses._MISSING_TYPE object at 0x000002625AACA010>,init=True,repr=True,hash=None,compare=True,metadata=mappingproxy({}),kw_only=False,_field_type=_FIELD),\n",
       " 'varying': Field(name='varying',type='IsDepreciated',default=None,default_factory=<dataclasses._MISSING_TYPE object at 0x000002625AACA010>,init=True,repr=True,hash=None,compare=True,metadata=mappingproxy({}),kw_only=False,_field_type=_FIELD),\n",
       " 'prod_max': Field(name='prod_max',type='IsDepreciated',default=None,default_factory=<dataclasses._MISSING_TYPE object at 0x000002625AACA010>,init=True,repr=True,hash=None,compare=True,metadata=mappingproxy({}),kw_only=False,_field_type=_FIELD),\n",
       " 'prod_min': Field(name='prod_min',type='IsDepreciated',default=None,default_factory=<dataclasses._MISSING_TYPE object at 0x000002625AACA010>,init=True,repr=True,hash=None,compare=True,metadata=mappingproxy({}),kw_only=False,_field_type=_FIELD)}"
      ]
     },
     "execution_count": 12,
     "metadata": {},
     "output_type": "execute_result"
    }
   ],
   "source": [
    "Process.__dataclass_fields__"
   ]
  },
  {
   "cell_type": "code",
   "execution_count": 35,
   "metadata": {},
   "outputs": [
    {
     "data": {
      "text/plain": [
       "{'conversion': Conv(Power,None),\n",
       " 'capacity': capacity(ASMR),\n",
       " 'land_use': None,\n",
       " 'material_cons': None,\n",
       " 'store': None,\n",
       " 'produce': {Power: 1},\n",
       " 'capex': capex(ASMR),\n",
       " 'fopex': fopex(ASMR),\n",
       " 'vopex': None,\n",
       " 'incidental': None,\n",
       " 'capex_pwl': None,\n",
       " 'gwp': None,\n",
       " 'odp': None,\n",
       " 'acid': None,\n",
       " 'eutt': None,\n",
       " 'eutf': None,\n",
       " 'eutm': None,\n",
       " 'introduce': None,\n",
       " 'retire': None,\n",
       " 'lifetime': None,\n",
       " 'pfail': None,\n",
       " 'trl': None,\n",
       " 'discharge': {Power: True},\n",
       " 'consume': {Uranium: 40, H2O: True},\n",
       " 'store_loss': None,\n",
       " 'sell_cost': None,\n",
       " 'purchase_cost': None,\n",
       " 'store_cost': None,\n",
       " 'credit': None,\n",
       " 'penalty': None,\n",
       " 'basis': None,\n",
       " 'block': None,\n",
       " 'citation': None,\n",
       " 'label': 'Small modular reactors (SMRs)',\n",
       " 'varying': None,\n",
       " 'prod_max': None,\n",
       " 'prod_min': None,\n",
       " 'named': True,\n",
       " 'name': 'ASMR',\n",
       " 'horizon': h,\n",
       " 'parameters': [Capacity('ASMR', 't0'),\n",
       "  Capex('ASMR', 't0'),\n",
       "  Fopex('ASMR', 't0')],\n",
       " 'variables': [capacity('ASMR', 't0'),\n",
       "  capex('ASMR', 't0'),\n",
       "  fopex('ASMR', 't0')],\n",
       " 'constraints': [capacity('ASMR', 't0')=1000,\n",
       "  capex('ASMR', 't0')=7988951*capacity('ASMR', 't0'),\n",
       "  fopex('ASMR', 't0')=0.0292*capacity('ASMR', 't0')],\n",
       " 'declared_at': ASMR,\n",
       " 'transport': None,\n",
       " 'transport_loss': None,\n",
       " 'transport_cost': None,\n",
       " 'ctype': [<ProcessType.SINGLE_PRODMODE: 1>,\n",
       "  <ProcessType.NO_MATMODE: 3>,\n",
       "  <ProcessType.LINEAR_CAPEX: 9>,\n",
       "  <ProcessType.EXPENDITURE: 14>],\n",
       " 'involve': [Power, Uranium, H2O],\n",
       " 'modes': None,\n",
       " 'n_modes': 1,\n",
       " 'materials': set()}"
      ]
     },
     "execution_count": 35,
     "metadata": {},
     "output_type": "execute_result"
    }
   ],
   "source": [
    "s.ASMR.__dict__"
   ]
  },
  {
   "cell_type": "code",
   "execution_count": 36,
   "metadata": {},
   "outputs": [
    {
     "data": {
      "text/plain": [
       "{'conversion': {Power: {Wind: -1}},\n",
       " 'process': WF,\n",
       " 'produce': Power,\n",
       " 'modes': None,\n",
       " 'n_modes': 1,\n",
       " 'discharge': [Power],\n",
       " 'consume': [Wind],\n",
       " 'balance': {Power: 1, Wind: -1},\n",
       " 'involve': [Power, Wind],\n",
       " 'name': 'Conv(Power,None)'}"
      ]
     },
     "execution_count": 36,
     "metadata": {},
     "output_type": "execute_result"
    }
   ],
   "source": [
    "s.WF.conversion.__dict__ "
   ]
  },
  {
   "cell_type": "code",
   "execution_count": 14,
   "metadata": {},
   "outputs": [
    {
     "data": {
      "text/plain": [
       "{'conversion': {Power: {1: {Solar: -1.2}, 2: {Solar: -1.5}}},\n",
       " 'process': PV,\n",
       " 'name': 'Conv(Power,None)',\n",
       " 'produce': Power,\n",
       " 'n_modes': 2,\n",
       " 'modes': [1, 2],\n",
       " 'discharge': [Power],\n",
       " 'consume': [Solar],\n",
       " 'involve': [Power, Solar],\n",
       " 'balance': {1: {Power: 1, Solar: -1.2}, 2: {Power: 1, Solar: -1.5}}}"
      ]
     },
     "execution_count": 14,
     "metadata": {},
     "output_type": "execute_result"
    }
   ],
   "source": [
    "s.PV.conversion.__dict__ "
   ]
  },
  {
   "cell_type": "code",
   "execution_count": 69,
   "metadata": {},
   "outputs": [
    {
     "data": {
      "text/plain": [
       "{Power: 0.4}"
      ]
     },
     "execution_count": 69,
     "metadata": {},
     "output_type": "execute_result"
    }
   ],
   "source": [
    "s.LiI.store_cost"
   ]
  },
  {
   "cell_type": "code",
   "execution_count": 15,
   "metadata": {},
   "outputs": [
    {
     "name": "stdout",
     "output_type": "stream",
     "text": [
      "discharge('H2', 't0')<=4\n",
      "discharge('H2', 't0')>=0\n",
      "discharge('H2', 't1')<=34\n",
      "discharge('H2', 't1')>=22\n",
      "discharge('H2', 't2')=Th|Discharge('H2', 't2')|, Th in [DSet|Discharge_lb('H2', 't2')|, DSet|Discharge_ub('H2', 't2')|]\n",
      "sell_cost('H2', 't0')=Th|Sell_cost('H2', 't0')|*discharge('H2', 't0'), Th in [0, 10]\n",
      "consume('Solar', 't0')<=M\n",
      "gwp('Solar', 't0')=50*capacity('Solar', 't0')\n",
      "gwp('Solar', 't0')=50*consume('Solar', 't0')\n",
      "gwp('Solar', 't0')=50*discharge('Solar', 't0')\n",
      "eutt('Solar', 't0')=60*capacity('Solar', 't0')\n",
      "eutt('Solar', 't0')=60*consume('Solar', 't0')\n",
      "eutt('Solar', 't0')=60*discharge('Solar', 't0')\n",
      "consume('Wind', 't2')=DSet|Consume('Wind', 't2')|\n",
      "consume('Uranium', 't1')=DSet|Consume('Uranium', 't1')|\n",
      "purchase_cost('Uranium', 't0')=0.3416*consume('Uranium', 't0')\n",
      "discharge('H2_L', 't0')=Th|Discharge('H2_L', 't0')|, Th in [0, 23]\n",
      "consume('H2O', 't0')=Th|Consume('H2O', 't0')|, Th in [20, 50]\n",
      "purchase_cost('H2O', 't2')=DSet|Purchase_cost('H2O', 't2')|*consume('H2O', 't2')\n",
      "consume('CH4', 't0')<=40\n",
      "consume('CH4', 't0')>=20\n",
      "purchase_cost('CH4', 't0')=20*consume('CH4', 't0')\n",
      "discharge('CO2_Vent', 't0')<=M\n",
      "sell_cost('CO2_Vent', 't0')=Th|Sell_cost('CO2_Vent', 't0')|*discharge('CO2_Vent', 't0'), Th in [2, 20]\n",
      "discharge('O2', 't0')<=M\n",
      "discharge('O2', 't0')>=20\n",
      "discharge('Power_in_LiI', 'LiI', 't0')<=M\n",
      "produce('Power_in_LiI', 'LiI', 't0')<=capacity('', 'LiI', 't0')\n",
      "capacity('', 'LiI_d', 't0')<=M\n",
      "capacity('', 'LiI', 't0')<=M\n",
      "capacity('', 'LiI', 't0')>=1000\n",
      "capex('LiI', 't0')=3516428*capacity('', 'LiI', 't0')\n",
      "fopex('LiI', 't0')=87910*capacity('', 'LiI', 't0')\n",
      "vopex('LiI', 't0')=0*produce('LiI', 't0')\n",
      "capacity('', 'WF', 't0')=1000\n",
      "capex('WF', 't0')=1462000*capacity('', 'WF', 't0')\n",
      "fopex('WF', 't0')=43000*capacity('', 'WF', 't0')\n",
      "vopex('WF', 't0')=4953*produce('WF', 't0')\n",
      "land_use('WF', 't0')=30*capacity('', 'WF', 't0')\n",
      "gwp('WF', 't0')=50*capacity('', 'WF', 't0')\n",
      "gwp('WF', 't0')=50*consume('WF', 't0')\n",
      "gwp('WF', 't0')=50*discharge('WF', 't0')\n",
      "odp('WF', 't0')=2900*capacity('', 'WF', 't0')\n",
      "odp('WF', 't0')=2900*consume('WF', 't0')\n",
      "odp('WF', 't0')=2900*discharge('WF', 't0')\n",
      "capacity('', 'PV', 't0')<=M\n",
      "capex('PV', 't0')=1333262*capacity('', 'PV', 't0')\n",
      "fopex('PV', 't0')=22623*capacity('', 'PV', 't0')\n",
      "capacity('', 'SMRH', 't0')=1000\n",
      "capex('SMRH', 't0')=2520000*capacity('', 'SMRH', 't0')\n",
      "fopex('SMRH', 't0')=945000*capacity('', 'SMRH', 't0')\n",
      "vopex('SMRH', 't0')=51.5*produce('SMRH', 't0')\n",
      "land_use('SMRH', 't0')=50*capacity('', 'SMRH', 't0')\n",
      "capacity('', 'NGCC', 't0')<=100\n",
      "capacity('', 'NGCC', 't0')>=1\n",
      "capex('NGCC', 't0')=2158928*capacity('', 'NGCC', 't0')\n",
      "fopex('NGCC', 't0')=53320*capacity('', 'NGCC', 't0')\n",
      "vopex('NGCC', 't0')=4090*produce('NGCC', 't0')\n",
      "capacity('', 'SMR', 't0')=1000\n",
      "capex('SMR', 't0')=2400*capacity('', 'SMR', 't0')\n",
      "fopex('SMR', 't0')=800*capacity('', 'SMR', 't0')\n",
      "vopex('SMR', 't0')=0.03*produce('SMR', 't0')\n",
      "capacity('', 'H2FC', 't0')=1000\n",
      "capex('H2FC', 't0')=1600000.0*capacity('', 'H2FC', 't0')\n",
      "vopex('H2FC', 't0')=3.5*produce('H2FC', 't0')\n",
      "capacity('', 'DAC', 't0')=1000\n",
      "capex('DAC', 't0')=0.02536*capacity('', 'DAC', 't0')\n",
      "fopex('DAC', 't0')=0.634*capacity('', 'DAC', 't0')\n",
      "discharge('Power_in_PSH', 'PSH', 't0')<=M\n",
      "produce('Power_in_PSH', 'PSH', 't0')<=capacity('', 'PSH', 't0')\n",
      "capacity('', 'PSH_d', 't0')<=M\n",
      "capacity('', 'PSH', 't0')=1000\n",
      "capex('PSH', 't0')=3924781*capacity('', 'PSH', 't0')\n",
      "fopex('PSH', 't0')=17820*capacity('', 'PSH', 't0')\n",
      "vopex('PSH', 't0')=512.5*produce('PSH', 't0')\n",
      "capacity('', 'ASMR', 't0')=1000\n",
      "capex('ASMR', 't0')=7988951*capacity('', 'ASMR', 't0')\n",
      "fopex('ASMR', 't0')=0.0292*capacity('', 'ASMR', 't0')\n",
      "capacity('', 'AWE', 't0')<=M\n",
      "capex('AWE', 't0')=1100000.0*capacity('', 'AWE', 't0')\n",
      "fopex('AWE', 't0')=16918*capacity('', 'AWE', 't0')\n",
      "incidental('AWE', 't0')=20\n",
      "land_use('AWE', 't0')=Th|Land_use('AWE', 't0')|*capacity('', 'AWE', 't0'), Th in [0, 20]\n"
     ]
    }
   ],
   "source": [
    "s.cons()\n"
   ]
  },
  {
   "cell_type": "code",
   "execution_count": null,
   "metadata": {},
   "outputs": [],
   "source": []
  },
  {
   "cell_type": "code",
   "execution_count": 19,
   "metadata": {},
   "outputs": [
    {
     "data": {
      "text/plain": [
       "{Power_in_LiI: {Power: 0.2}}"
      ]
     },
     "execution_count": 19,
     "metadata": {},
     "output_type": "execute_result"
    }
   ],
   "source": [
    "s.LiI_d.store_loss "
   ]
  },
  {
   "cell_type": "code",
   "execution_count": 18,
   "metadata": {},
   "outputs": [
    {
     "data": {
      "text/plain": [
       "{Power_in_LiI: {Power: 0.4}}"
      ]
     },
     "execution_count": 18,
     "metadata": {},
     "output_type": "execute_result"
    }
   ],
   "source": [
    "s.LiI_d.store_cost"
   ]
  },
  {
   "cell_type": "code",
   "execution_count": 14,
   "metadata": {},
   "outputs": [
    {
     "data": {
      "text/plain": [
       "{Power_in_LiI: {Power: 0.9}}"
      ]
     },
     "execution_count": 14,
     "metadata": {},
     "output_type": "execute_result"
    }
   ],
   "source": [
    "s.LiI.conversion.conversion"
   ]
  },
  {
   "cell_type": "code",
   "execution_count": 15,
   "metadata": {},
   "outputs": [
    {
     "data": {
      "text/plain": [
       "{Power: {Power_in_LiI: -1}}"
      ]
     },
     "execution_count": 15,
     "metadata": {},
     "output_type": "execute_result"
    }
   ],
   "source": [
    "s.LiI_d.conversion.conversion"
   ]
  },
  {
   "cell_type": "code",
   "execution_count": 16,
   "metadata": {},
   "outputs": [
    {
     "data": {
      "text/plain": [
       "[LiI_d, LiI, WF, PV, SMRH, NGCC, SMR, H2FC, DAC, PSH_d, PSH, ASMR, AWE]"
      ]
     },
     "execution_count": 16,
     "metadata": {},
     "output_type": "execute_result"
    }
   ],
   "source": [
    "s.processes"
   ]
  },
  {
   "cell_type": "code",
   "execution_count": 14,
   "metadata": {},
   "outputs": [
    {
     "name": "stdout",
     "output_type": "stream",
     "text": [
      "discharge('Power_in_LiI', 'LiI', 't0')<=M\n",
      "produce('Power_in_LiI', 'LiI', 't0')<=capacity('', 'LiI', 't0')\n",
      "consume('Power_in_LiI', 'LiI_d', 't0')<=M\n"
     ]
    }
   ],
   "source": [
    "s.Power_in_LiI.cons()"
   ]
  },
  {
   "cell_type": "code",
   "execution_count": 20,
   "metadata": {},
   "outputs": [
    {
     "name": "stdout",
     "output_type": "stream",
     "text": [
      "consume('Power', 'LiI', 't0')<=M\n",
      "store_cost('Power', 'LiI', 't0')=0.4*store('Power', 'LiI', 't0')\n",
      "store_loss('Power', 'LiI', 't0')=0.2*store('Power', 'LiI', 't0')\n",
      "discharge('Power', 'LiI_d', 't0')<=M\n",
      "produce('Power', 'LiI_d', 't0')<=capacity('', 'LiI_d', 't0')\n",
      "discharge('Power', 'WF', 't0')<=M\n",
      "produce('Power', 'WF', 't0')<=capacity('', 'WF', 't0')\n",
      "sell_cost('Power', 'PV', 't0')=30*discharge('Power', 'PV', 't0')\n",
      "credit('Power', 'PV', 't0')=DSet|Credit('Power', 'PV', 't0')|*discharge('Power', 'PV', 't0')\n",
      "produce('Power', 'PV', 't0')<=capacity('', 'PV', 't0')\n",
      "consume('Power', 'SMRH', 't0')<=M\n",
      "discharge('Power', 'NGCC', 't0')<=M\n",
      "produce('Power', 'NGCC', 't0')<=capacity('', 'NGCC', 't0')\n",
      "consume('Power', 'SMR', 't0')<=M\n",
      "discharge('Power', 'H2FC', 't0')=20\n",
      "produce('Power', 'H2FC', 't0')<=capacity('', 'H2FC', 't0')\n",
      "consume('Power', 'DAC', 't0')<=M\n",
      "consume('Power', 'PSH', 't0')<=M\n",
      "discharge('Power', 'PSH_d', 't0')<=M\n",
      "produce('Power', 'PSH_d', 't0')<=capacity('', 'PSH_d', 't0')\n",
      "discharge('Power', 'ASMR', 't0')<=M\n",
      "produce('Power', 'ASMR', 't0')<=capacity('', 'ASMR', 't0')\n",
      "consume('Power', 'AWE', 't0')<=M\n"
     ]
    }
   ],
   "source": [
    "s.Power.cons()"
   ]
  },
  {
   "cell_type": "code",
   "execution_count": 16,
   "metadata": {},
   "outputs": [
    {
     "data": {
      "text/plain": [
       "{'conversion': Conv(Power,None),\n",
       " 'capacity': Capacity(LiI_d),\n",
       " 'produce': {Power: 1},\n",
       " 'land_use': None,\n",
       " 'material_cons': None,\n",
       " 'capex': None,\n",
       " 'pwl': None,\n",
       " 'fopex': None,\n",
       " 'vopex': None,\n",
       " 'incidental': None,\n",
       " 'gwp': None,\n",
       " 'odp': None,\n",
       " 'acid': None,\n",
       " 'eutt': None,\n",
       " 'eutf': None,\n",
       " 'eutm': None,\n",
       " 'introduce': None,\n",
       " 'retire': None,\n",
       " 'lifetime': None,\n",
       " 'pfail': None,\n",
       " 'discharge': {Power: True},\n",
       " 'consume': {Power_in_LiI: True},\n",
       " 'store': {Power_in_LiI: None},\n",
       " 'store_loss': {Power_in_LiI: None},\n",
       " 'sell_cost': None,\n",
       " 'purchase_cost': None,\n",
       " 'store_cost': {Power_in_LiI: None},\n",
       " 'credit': None,\n",
       " 'penalty': None,\n",
       " 'basis': None,\n",
       " 'block': None,\n",
       " 'citation': None,\n",
       " 'label': None,\n",
       " 'trl': None,\n",
       " 'varying': None,\n",
       " 'prod_max': None,\n",
       " 'prod_min': None,\n",
       " 'named': True,\n",
       " 'name': 'LiI_d',\n",
       " 'horizon': h,\n",
       " 'parameters': [Capacity('LiI_d', 't0')],\n",
       " 'variables': [capacity('', 'LiI_d', 't0')],\n",
       " 'constraints': [capacity('', 'LiI_d', 't0')<=M],\n",
       " 'declared_at': LiI_d,\n",
       " 'transport': None,\n",
       " 'transport_loss': None,\n",
       " 'transport_cost': None,\n",
       " 'ctype': [<ProcessType.SINGLE_PRODMODE: 1>,\n",
       "  <ProcessType.NO_MATMODE: 3>,\n",
       "  <ProcessType.LINEAR_CAPEX: 9>],\n",
       " 'involve': [Power_in_LiI],\n",
       " 'modes': None,\n",
       " 'n_modes': 1,\n",
       " 'materials': set()}"
      ]
     },
     "execution_count": 16,
     "metadata": {},
     "output_type": "execute_result"
    }
   ],
   "source": [
    "s.LiI_d.__dict__ "
   ]
  },
  {
   "cell_type": "code",
   "execution_count": 15,
   "metadata": {},
   "outputs": [
    {
     "name": "stdout",
     "output_type": "stream",
     "text": [
      "capacity('', 'LiI_d', 't0')<=M\n"
     ]
    }
   ],
   "source": [
    "s.LiI_d.cons()"
   ]
  },
  {
   "cell_type": "code",
   "execution_count": 20,
   "metadata": {},
   "outputs": [
    {
     "name": "stdout",
     "output_type": "stream",
     "text": [
      "capacity('', 'LiI', 't0')<=M\n",
      "capacity('', 'LiI', 't0')>=1000\n",
      "capex('LiI', 't0')=3516428*capacity('', 'LiI', 't0')\n",
      "fopex('LiI', 't0')=87910*capacity('', 'LiI', 't0')\n",
      "vopex('LiI', 't0')=0*produce('LiI', 't0')\n"
     ]
    }
   ],
   "source": [
    "s.LiI.cons()"
   ]
  },
  {
   "cell_type": "code",
   "execution_count": 23,
   "metadata": {},
   "outputs": [
    {
     "data": {
      "text/plain": [
       "{'discharge': Discharge(Power_in_LiI),\n",
       " 'consume': Consume(Power_in_LiI),\n",
       " 'sell_cost': None,\n",
       " 'purchase_cost': None,\n",
       " 'credit': None,\n",
       " 'penalty': None,\n",
       " 'gwp': None,\n",
       " 'odp': None,\n",
       " 'acid': None,\n",
       " 'eutt': None,\n",
       " 'eutf': None,\n",
       " 'eutm': None,\n",
       " 'basis': None,\n",
       " 'block': None,\n",
       " 'label': 'Power generated stored in Lithium-ion battery',\n",
       " 'citation': None,\n",
       " 'sell': None,\n",
       " 'varying': None,\n",
       " 'price': None,\n",
       " 'revenue': None,\n",
       " 'cons_max': None,\n",
       " 'store_max': None,\n",
       " 'store_min': None,\n",
       " 'named': True,\n",
       " 'name': 'Power_in_LiI',\n",
       " 'horizon': h,\n",
       " 'parameters': [Discharge('Power_in_LiI', 'LiI', 't0'),\n",
       "  Produce('Power_in_LiI', 'LiI', 't0'),\n",
       "  Consume('Power_in_LiI', 'LiI_d', 't0')],\n",
       " 'variables': [discharge('Power_in_LiI', 'LiI', 't0'),\n",
       "  produce('Power_in_LiI', 'LiI', 't0'),\n",
       "  consume('Power_in_LiI', 'LiI_d', 't0')],\n",
       " 'constraints': [discharge('Power_in_LiI', 'LiI', 't0')<=M,\n",
       "  produce('Power_in_LiI', 'LiI', 't0')<=capacity('', 'LiI', 't0'),\n",
       "  consume('Power_in_LiI', 'LiI_d', 't0')<=M],\n",
       " 'declared_at': LiI_d,\n",
       " 'ctype': [],\n",
       " 'produce': Produce(Power_in_LiI),\n",
       " 'store': None,\n",
       " 'store_loss': None,\n",
       " 'store_cost': None}"
      ]
     },
     "execution_count": 23,
     "metadata": {},
     "output_type": "execute_result"
    }
   ],
   "source": [
    "s.Power_in_LiI.__dict__ "
   ]
  },
  {
   "cell_type": "code",
   "execution_count": 22,
   "metadata": {},
   "outputs": [
    {
     "data": {
      "text/plain": [
       "[LiI_d, LiI, WF, LiI_d, LiI, WF, LiI_d, LiI, WF, LiI_d, LiI, WF]"
      ]
     },
     "execution_count": 22,
     "metadata": {},
     "output_type": "execute_result"
    }
   ],
   "source": [
    "s.processes"
   ]
  },
  {
   "cell_type": "code",
   "execution_count": 13,
   "metadata": {},
   "outputs": [
    {
     "data": {
      "text/plain": [
       "[H2,\n",
       " Solar,\n",
       " Wind,\n",
       " Power,\n",
       " Uranium,\n",
       " H2,\n",
       " H2_L,\n",
       " CO2_AQoff,\n",
       " H2O,\n",
       " CH4,\n",
       " CO2,\n",
       " CO2_Vent,\n",
       " O2,\n",
       " CO2_DAC]"
      ]
     },
     "execution_count": 13,
     "metadata": {},
     "output_type": "execute_result"
    }
   ],
   "source": [
    "s.resources "
   ]
  },
  {
   "cell_type": "code",
   "execution_count": 14,
   "metadata": {},
   "outputs": [
    {
     "data": {
      "text/plain": [
       "[LiI, WF]"
      ]
     },
     "execution_count": 14,
     "metadata": {},
     "output_type": "execute_result"
    }
   ],
   "source": [
    "s.processes"
   ]
  },
  {
   "cell_type": "code",
   "execution_count": 13,
   "metadata": {},
   "outputs": [
    {
     "name": "stdout",
     "output_type": "stream",
     "text": [
      "discharge('Power', 'LiI', 't0')<=M\n",
      "discharge('Power', 'LiI', 't0')<=capacity('', 'LiI', 't0')\n",
      "store('Power', 'LiI', 't0')=2000\n",
      "store_cost('Power', 'LiI', 't0')=0.4*store('Power', 'LiI', 't0')\n",
      "store_loss('Power', 'LiI', 't0')=0.2*store('Power', 'LiI', 't0')\n",
      "discharge('Power', 'WF', 't0')<=M\n",
      "discharge('Power', 'WF', 't0')<=capacity('', 'WF', 't0')\n",
      "discharge('Power', 'PV', 't0')<=M\n",
      "discharge('Power', 'PV', 't0')<=capacity('', 'PV', 't0')\n",
      "discharge('Power', 'NGCC', 't0')<=M\n",
      "discharge('Power', 'NGCC', 't0')<=capacity('', 'NGCC', 't0')\n",
      "discharge('Power', 'H2FC', 't0')<=capacity('', 'H2FC', 't0')\n",
      "discharge('Power', 'H2FC', 't0')=20\n",
      "discharge('Power', 'PSH', 't0')<=M\n",
      "discharge('Power', 'PSH', 't0')<=capacity('', 'PSH', 't0')\n",
      "store('Power', 'PSH', 't0')=10000\n",
      "discharge('Power', 'ASMR', 't0')<=M\n",
      "discharge('Power', 'ASMR', 't0')<=capacity('', 'ASMR', 't0')\n"
     ]
    }
   ],
   "source": [
    "s.Power.cons()"
   ]
  },
  {
   "cell_type": "code",
   "execution_count": 13,
   "metadata": {},
   "outputs": [
    {
     "name": "stdout",
     "output_type": "stream",
     "text": [
      "store('Power', 'LiI', 't0')=2000\n",
      "store_cost('Power', 'LiI', 't0')=0.4*store('Power', 'LiI', 't0')\n",
      "store_loss('Power', 'LiI', 't0')=0.2*store('Power', 'LiI', 't0')\n",
      "store('Power', 'PSH', 't0')=10000\n"
     ]
    }
   ],
   "source": [
    "s.Power.cons()"
   ]
  },
  {
   "cell_type": "code",
   "execution_count": 27,
   "metadata": {},
   "outputs": [
    {
     "name": "stdout",
     "output_type": "stream",
     "text": [
      "capacity('', 'LiI', 't0')=1000\n",
      "capex('LiI', 't0')=3516428*capacity('', 'LiI', 't0')\n",
      "fopex('LiI', 't0')=87910*capacity('', 'LiI', 't0')\n",
      "vopex('LiI', 't0')=0*discharge('LiI', 't0')\n"
     ]
    }
   ],
   "source": [
    "s.LiI.cons()"
   ]
  },
  {
   "cell_type": "code",
   "execution_count": null,
   "metadata": {},
   "outputs": [],
   "source": []
  },
  {
   "cell_type": "code",
   "execution_count": 15,
   "metadata": {},
   "outputs": [
    {
     "name": "stdout",
     "output_type": "stream",
     "text": [
      "capacity('', 'PV', 't0')<=M\n",
      "capex('PV', 't0')=1333262*capacity('', 'PV', 't0')\n",
      "fopex('PV', 't0')=22623*capacity('', 'PV', 't0')\n"
     ]
    }
   ],
   "source": [
    "s.PV.cons()"
   ]
  },
  {
   "cell_type": "code",
   "execution_count": 13,
   "metadata": {},
   "outputs": [
    {
     "name": "stdout",
     "output_type": "stream",
     "text": [
      "discharge('H2', 't0')<=4\n",
      "discharge('H2', 't0')>=0\n",
      "discharge('H2', 't1')<=34\n",
      "discharge('H2', 't1')>=22\n",
      "discharge('H2', 't2')=Th|Discharge('H2', 't2')|, Th in [DSet|Discharge_lb('H2', 't2')|, DSet|Discharge_ub('H2', 't2')|]\n",
      "sell_cost('H2', 't0')=Th|Sell_cost('H2', 't0')|*discharge('H2', 't0'), Th in [0, 10]\n",
      "consume('Solar', 't0')<=M\n",
      "gwp('Solar', 't0')=50*capacity('Solar', 't0')\n",
      "gwp('Solar', 't0')=50*consume('Solar', 't0')\n",
      "gwp('Solar', 't0')=50*discharge('Solar', 't0')\n",
      "gwp('Solar', 't0')=50*transport('Solar', 't0')\n",
      "eutt('Solar', 't0')=60*capacity('Solar', 't0')\n",
      "eutt('Solar', 't0')=60*consume('Solar', 't0')\n",
      "eutt('Solar', 't0')=60*discharge('Solar', 't0')\n",
      "eutt('Solar', 't0')=60*transport('Solar', 't0')\n",
      "consume('Wind', 't2')=DSet|Consume('Wind', 't2')|\n",
      "consume('Uranium', 't1')=DSet|Consume('Uranium', 't1')|\n",
      "purchase_cost('Uranium', 't0')=0.3416*consume('Uranium', 't0')\n",
      "discharge('H2_L', 't0')=Th|Discharge('H2_L', 't0')|, Th in [0, 23]\n",
      "store('H2_L', 't0')<=M\n",
      "store('CO2_AQoff', 't0')<=M\n",
      "consume('H2O', 't0')=Th|Consume('H2O', 't0')|, Th in [20, 50]\n",
      "purchase_cost('H2O', 't0')=0.001*consume('H2O', 't0')\n",
      "consume('CH4', 't0')<=40\n",
      "consume('CH4', 't0')>=20\n",
      "purchase_cost('CH4', 't0')=20*consume('CH4', 't0')\n",
      "discharge('CO2_Vent', 't0')<=M\n",
      "sell_cost('CO2_Vent', 't0')=Th|Sell_cost('CO2_Vent', 't0')|*discharge('CO2_Vent', 't0'), Th in [2, 20]\n",
      "discharge('O2', 't0')<=M\n",
      "discharge('O2', 't0')>=20\n",
      "store('CO2_DAC', 't0')=Th|Store('CO2_DAC', 't0')|, Th in [0, 1]\n",
      "store_loss('CO2_DAC', 't2')=0.01*store('CO2_DAC', 't2')\n"
     ]
    }
   ],
   "source": [
    "s.cons()"
   ]
  },
  {
   "cell_type": "code",
   "execution_count": 17,
   "metadata": {},
   "outputs": [
    {
     "data": {
      "text/plain": [
       "89"
      ]
     },
     "execution_count": 17,
     "metadata": {},
     "output_type": "execute_result"
    }
   ],
   "source": [
    "len(set(s.constraints))"
   ]
  },
  {
   "cell_type": "code",
   "execution_count": 13,
   "metadata": {},
   "outputs": [],
   "source": [
    "a = {s.Power: {1:{s.Solar: -1.2}, 2: {s.Solar: -1.5}}}"
   ]
  },
  {
   "cell_type": "code",
   "execution_count": 21,
   "metadata": {},
   "outputs": [],
   "source": [
    "b = {1:{s.Solar: -1.2}, 2: {s.Solar: -1.5}}"
   ]
  },
  {
   "cell_type": "code",
   "execution_count": 23,
   "metadata": {},
   "outputs": [
    {
     "ename": "NameError",
     "evalue": "name 'j' is not defined",
     "output_type": "error",
     "traceback": [
      "\u001b[1;31m---------------------------------------------------------------------------\u001b[0m",
      "\u001b[1;31mNameError\u001b[0m                                 Traceback (most recent call last)",
      "Cell \u001b[1;32mIn[23], line 1\u001b[0m\n\u001b[1;32m----> 1\u001b[0m [k \u001b[38;5;28;01mfor\u001b[39;00m k,l \u001b[38;5;129;01min\u001b[39;00m \u001b[43mj\u001b[49m\u001b[38;5;241m.\u001b[39mitems() \u001b[38;5;28;01mfor\u001b[39;00m i,j \u001b[38;5;129;01min\u001b[39;00m b\u001b[38;5;241m.\u001b[39mitems()]\n",
      "\u001b[1;31mNameError\u001b[0m: name 'j' is not defined"
     ]
    }
   ],
   "source": [
    "[k for k,l in j.items() for i,j in b.items()]"
   ]
  },
  {
   "cell_type": "code",
   "execution_count": null,
   "metadata": {},
   "outputs": [
    {
     "data": {
      "text/plain": [
       "0"
      ]
     },
     "execution_count": 29,
     "metadata": {},
     "output_type": "execute_result"
    }
   ],
   "source": [
    "WF.capacity.params[0].ub\n",
    "WF.capacity.params[0].lb"
   ]
  },
  {
   "cell_type": "code",
   "execution_count": null,
   "metadata": {},
   "outputs": [],
   "source": []
  },
  {
   "cell_type": "code",
   "execution_count": null,
   "metadata": {},
   "outputs": [
    {
     "name": "stdout",
     "output_type": "stream",
     "text": [
      "store_cost('Power', 'LiI', 't0')=0.4*store('Power', 'LiI', 't0')\n",
      "store('Power', 'LiI', 't0')=2000\n",
      "store_loss('Power', 'LiI', 't0')=0.2*store('Power', 'LiI', 't0')\n",
      "store_cost('Power', 'LiI', 't0')=0.4*store('Power', 'LiI', 't0')\n",
      "store('Power', 'LiI', 't0')=2000\n",
      "store_loss('Power', 'LiI', 't0')=0.2*store('Power', 'LiI', 't0')\n",
      "store_cost('Power', 'LiI', 't0')=0.4*store('Power', 'LiI', 't0')\n",
      "store('Power', 'LiI', 't0')=2000\n",
      "store_loss('Power', 'LiI', 't0')=0.2*store('Power', 'LiI', 't0')\n",
      "store_cost('Power', 'LiI', 't0')=0.4*store('Power', 'LiI', 't0')\n",
      "store('Power', 'LiI', 't0')=2000\n",
      "store_loss('Power', 'LiI', 't0')=0.2*store('Power', 'LiI', 't0')\n",
      "store_cost('Power', 'LiI', 't0')=0.4*store('Power', 'LiI', 't0')\n",
      "store('Power', 'LiI', 't0')=2000\n",
      "store_loss('Power', 'LiI', 't0')=0.2*store('Power', 'LiI', 't0')\n",
      "capacity('', 'WF', 't0')=1000\n",
      "land_use('WF', 't0')=30*capacity('', 'WF', 't0')\n",
      "odp('WF', 't0')=2900*capacity('', 'WF', 't0')\n",
      "odp('WF', 't0')=2900*consume('WF', 't0')\n",
      "odp('WF', 't0')=2900*discharge('WF', 't0')\n",
      "odp('WF', 't0')=2900*transport('WF', 't0')\n",
      "gwp('WF', 't0')=50*capacity('', 'WF', 't0')\n",
      "gwp('WF', 't0')=50*consume('WF', 't0')\n",
      "gwp('WF', 't0')=50*discharge('WF', 't0')\n",
      "gwp('WF', 't0')=50*transport('WF', 't0')\n",
      "vopex('WF', 't0')=4953*discharge('WF', 't0')\n",
      "fopex('WF', 't0')=43000*capacity('', 'WF', 't0')\n",
      "capex('WF', 't0')=1462000*capacity('', 'WF', 't0')\n"
     ]
    }
   ],
   "source": [
    "s.WF.cons()"
   ]
  },
  {
   "cell_type": "code",
   "execution_count": 13,
   "metadata": {},
   "outputs": [
    {
     "name": "stdout",
     "output_type": "stream",
     "text": [
      "Store_cost('Power', 'LiI', 't0')\n",
      "Store('Power', 'LiI', 't0')\n",
      "Store_loss('Power', 'LiI', 't0')\n",
      "Store_cost('Power', 'LiI', 't0')\n",
      "Store('Power', 'LiI', 't0')\n",
      "Store_loss('Power', 'LiI', 't0')\n",
      "Store_cost('Power', 'LiI', 't0')\n",
      "Store('Power', 'LiI', 't0')\n",
      "Store_loss('Power', 'LiI', 't0')\n",
      "Store_cost('Power', 'LiI', 't0')\n",
      "Store('Power', 'LiI', 't0')\n",
      "Store_loss('Power', 'LiI', 't0')\n",
      "Store_cost('Power', 'LiI', 't0')\n",
      "Store('Power', 'LiI', 't0')\n",
      "Store_loss('Power', 'LiI', 't0')\n",
      "Capacity('WF', 't0')\n",
      "Land_use('WF', 't0')\n",
      "Odp('WF', 't0')\n",
      "Gwp('WF', 't0')\n",
      "Vopex('WF', 't0')\n",
      "Fopex('WF', 't0')\n",
      "Capex('WF', 't0')\n"
     ]
    }
   ],
   "source": [
    "s.WF.params()"
   ]
  },
  {
   "cell_type": "code",
   "execution_count": null,
   "metadata": {},
   "outputs": [],
   "source": [
    "Power.consume_scale"
   ]
  },
  {
   "cell_type": "code",
   "execution_count": null,
   "metadata": {},
   "outputs": [],
   "source": [
    "i = tuple(dict.fromkeys(['a', 'b', 'c', 'b']).keys())"
   ]
  },
  {
   "cell_type": "code",
   "execution_count": null,
   "metadata": {},
   "outputs": [
    {
     "data": {
      "text/plain": [
       "\"('a', 'b', 'c')\""
      ]
     },
     "execution_count": 38,
     "metadata": {},
     "output_type": "execute_result"
    }
   ],
   "source": [
    "f'{i}' "
   ]
  },
  {
   "cell_type": "code",
   "execution_count": null,
   "metadata": {},
   "outputs": [
    {
     "name": "stdout",
     "output_type": "stream",
     "text": [
      "capex(WF,t0)=1462000*capacity(WF,t0)\n",
      "fopex(WF,t0)=43000*capacity(WF,t0)\n",
      "vopex(WF,t0)=4953*discharge(WF,t0)\n",
      "gwp(WF,t0)=50\n",
      "odp(WF,t0)=2900\n",
      "land_use(WF,t0)=30*capacity(WF,t0)\n",
      "0<=capacity(WF,t0)<=1000\n",
      "0<=produce(Power,WF,t2)<=capacity(WF,t0)*Produce(Power,WF,t2)\n"
     ]
    }
   ],
   "source": [
    "WF.eqns()"
   ]
  },
  {
   "cell_type": "code",
   "execution_count": null,
   "metadata": {},
   "outputs": [
    {
     "data": {
      "text/plain": [
       "[('WF', 't0')]"
      ]
     },
     "execution_count": 31,
     "metadata": {},
     "output_type": "execute_result"
    }
   ],
   "source": [
    "WF.capacity.indices"
   ]
  },
  {
   "cell_type": "code",
   "execution_count": null,
   "metadata": {},
   "outputs": [
    {
     "name": "stdout",
     "output_type": "stream",
     "text": [
      "capex(PV,t0)=1333262*capacity(PV,t0)\n",
      "fopex(PV,t0)=22623*capacity(PV,t0)\n",
      "0<=capacity(PV,t0)<=BigM\n",
      "0<=produce(Power,PV,t0)<=capacity(PV,t0)*1\n",
      "sell_exp(Power,PV,t0)=30*discharge(Power,PV,t0)\n",
      "credit(Power,PV,t0)=Credit(Power,PV,t0)*discharge(Power,PV,t0)\n"
     ]
    }
   ],
   "source": [
    "PV.eqns()"
   ]
  },
  {
   "cell_type": "code",
   "execution_count": null,
   "metadata": {},
   "outputs": [
    {
     "name": "stdout",
     "output_type": "stream",
     "text": [
      "0<=produce(H2,t2)<=2000\n",
      "purchase_exp(H2,H2FC,t0)=2*consume(H2,H2FC,t0)\n"
     ]
    }
   ],
   "source": [
    "H2.eqns()"
   ]
  },
  {
   "cell_type": "code",
   "execution_count": null,
   "metadata": {},
   "outputs": [
    {
     "name": "stdout",
     "output_type": "stream",
     "text": [
      "purchase_exp(CH4,NGCC,t0)=4*consume(CH4,NGCC,t0)\n",
      "purchase_exp(H2O,NGCC,t0)=20*consume(H2O,NGCC,t0)\n"
     ]
    }
   ],
   "source": [
    "NGCC.purchase_cost.eqns()"
   ]
  },
  {
   "cell_type": "code",
   "execution_count": null,
   "metadata": {},
   "outputs": [
    {
     "name": "stdout",
     "output_type": "stream",
     "text": [
      "capex(NGCC,t0)=2158928*capacity(NGCC,t0)\n",
      "fopex(NGCC,t0)=53320*capacity(NGCC,t0)\n",
      "vopex(NGCC,t0)=4090*discharge(NGCC,t0)\n",
      "1<=capacity(NGCC,t0)<=100\n",
      "0<=produce(Power,NGCC,t0)<=capacity(NGCC,t0)*1\n",
      "purchase_exp(CH4,NGCC,t0)=4*consume(CH4,NGCC,t0)\n"
     ]
    }
   ],
   "source": [
    "NGCC.eqns()"
   ]
  },
  {
   "cell_type": "code",
   "execution_count": null,
   "metadata": {},
   "outputs": [
    {
     "name": "stdout",
     "output_type": "stream",
     "text": [
      "capex(PV,t0)=1333262*capacity(PV,t0)\n",
      "fopex(PV,t0)=22623*capacity(PV,t0)\n",
      "0<=capacity(PV,t0)<=BigM\n",
      "0<=produce(Power,PV,t0)<=capacity(PV,t0)*1\n",
      "sell_exp(Power,PV,t0)=30*discharge(Power,PV,t0)\n",
      "credit(Power,PV,t0)=Credit(Power,PV,t0)*discharge(Power,PV,t0)\n"
     ]
    }
   ],
   "source": [
    "PV.eqns()"
   ]
  },
  {
   "cell_type": "code",
   "execution_count": null,
   "metadata": {},
   "outputs": [
    {
     "name": "stdout",
     "output_type": "stream",
     "text": [
      "0<=store(Power,LiI,t0)<=capacity(LiI,t0)*2000\n",
      "0<=produce(Power,LiI,t0)<=capacity(LiI,t0)*1\n",
      "store_exp(Power,LiI,t0)=0.4*store(Power,LiI,t0)\n",
      "store_loss(Power,LiI,t2)=0.2\n",
      "sell_exp(Power,PV,t0)=30*discharge(Power,PV,t0)\n",
      "credit(Power,PV,t0)=Credit(Power,PV,t0)*discharge(Power,PV,t0)\n"
     ]
    }
   ],
   "source": [
    "Power.eqns()"
   ]
  },
  {
   "cell_type": "code",
   "execution_count": null,
   "metadata": {},
   "outputs": [
    {
     "data": {
      "text/plain": [
       "[('Power', 'PV', 't0')]"
      ]
     },
     "execution_count": 38,
     "metadata": {},
     "output_type": "execute_result"
    }
   ],
   "source": [
    "Power.sell_cost.indices"
   ]
  },
  {
   "cell_type": "code",
   "execution_count": null,
   "metadata": {},
   "outputs": [
    {
     "name": "stdout",
     "output_type": "stream",
     "text": [
      "capex(H2FC,t0)=1600000.0*capacity(H2FC,t0)\n",
      "vopex(H2FC,t0)=3.5*discharge(H2FC,t0)\n",
      "0<=capacity(H2FC,t0)<=1000\n",
      "0<=produce(Power,H2FC,t0)<=capacity(H2FC,t0)*1\n",
      "purchase_exp(H2,H2FC,t0)=2*consume(H2,H2FC,t0)\n"
     ]
    }
   ],
   "source": [
    "H2FC.eqns()"
   ]
  },
  {
   "cell_type": "code",
   "execution_count": null,
   "metadata": {},
   "outputs": [
    {
     "name": "stdout",
     "output_type": "stream",
     "text": [
      "purchase_exp(H2,H2FC,t0)=2*consume(H2,H2FC,t0)\n"
     ]
    }
   ],
   "source": [
    "H2FC.purchase_cost.eqns()"
   ]
  },
  {
   "cell_type": "code",
   "execution_count": null,
   "metadata": {},
   "outputs": [
    {
     "name": "stdout",
     "output_type": "stream",
     "text": [
      "capex(WF,t0)=1462000*capacity(WF,t0)\n",
      "fopex(WF,t0)=43000*capacity(WF,t0)\n",
      "vopex(WF,t0)=4953*discharge(WF,t0)\n",
      "gwp(WF,t0)=50\n",
      "odp(WF,t0)=2900\n",
      "land_use(WF,t0)=30*capacity(WF,t0)\n",
      "0<=capacity(WF,t0)<=1000\n",
      "0<=produce(Power,WF,t2)<=capacity(WF,t0)*Produce(Power,WF,t2)\n"
     ]
    }
   ],
   "source": [
    "WF.eqns()"
   ]
  },
  {
   "cell_type": "code",
   "execution_count": null,
   "metadata": {},
   "outputs": [
    {
     "data": {
      "text/plain": [
       "Produce(Power,WF,t2)"
      ]
     },
     "execution_count": 42,
     "metadata": {},
     "output_type": "execute_result"
    }
   ],
   "source": [
    "WF.produce.params[0]"
   ]
  },
  {
   "cell_type": "code",
   "execution_count": null,
   "metadata": {},
   "outputs": [],
   "source": [
    "WF.store"
   ]
  },
  {
   "cell_type": "code",
   "execution_count": null,
   "metadata": {},
   "outputs": [
    {
     "name": "stdout",
     "output_type": "stream",
     "text": [
      "0<=store(Power,LiI,t0)<=capacity(LiI,t0)*2000\n",
      "0<=produce(Power,LiI,t0)<=capacity(LiI,t0)*1\n",
      "store_exp(Power,LiI,t0)=0.4*store(Power,LiI,t0)\n",
      "store_loss(Power,LiI,t2)=0.2\n",
      "sell_exp(Power,PV,t0)=30*discharge(Power,PV,t0)\n",
      "credit(Power,PV,t0)=Credit(Power,PV,t0)*discharge(Power,PV,t0)\n"
     ]
    }
   ],
   "source": [
    "Power.eqns()"
   ]
  },
  {
   "cell_type": "code",
   "execution_count": null,
   "metadata": {},
   "outputs": [
    {
     "name": "stdout",
     "output_type": "stream",
     "text": [
      "capex(WF,t0)=1462000*capacity(WF,t0)\n",
      "fopex(WF,t0)=43000*capacity(WF,t0)\n",
      "vopex(WF,t0)=4953*discharge(WF,t0)\n",
      "gwp(WF,t0)=50\n",
      "odp(WF,t0)=2900\n",
      "land_use(WF,t0)=30*capacity(WF,t0)\n",
      "0<=capacity(WF,t0)<=1000\n",
      "0<=produce(Power,WF,t2)<=capacity(WF,t0)*Produce(Power,WF,t2)\n"
     ]
    }
   ],
   "source": [
    "WF.eqns()"
   ]
  },
  {
   "cell_type": "code",
   "execution_count": null,
   "metadata": {},
   "outputs": [
    {
     "name": "stdout",
     "output_type": "stream",
     "text": [
      "capex(PV,t0)=1333262*capacity(PV,t0)\n",
      "fopex(PV,t0)=22623*capacity(PV,t0)\n",
      "0<=capacity(PV,t0)<=BigM\n",
      "0<=produce(Power,PV,t0)<=capacity(PV,t0)*1\n",
      "sell_exp(Power,PV,t0)=30*discharge(Power,PV,t0)\n",
      "credit(Power,PV,t0)=Credit(Power,PV,t0)*discharge(Power,PV,t0)\n"
     ]
    }
   ],
   "source": [
    "PV.eqns()"
   ]
  },
  {
   "cell_type": "code",
   "execution_count": null,
   "metadata": {},
   "outputs": [
    {
     "name": "stdout",
     "output_type": "stream",
     "text": [
      "capex(SMRH,t0)=2520000*capacity(SMRH,t0)\n",
      "fopex(SMRH,t0)=945000*capacity(SMRH,t0)\n",
      "vopex(SMRH,t0)=51.5*discharge(SMRH,t0)\n",
      "land_use(SMRH,t0)=50*capacity(SMRH,t0)\n",
      "0<=capacity(SMRH,t0)<=1000\n",
      "0<=produce(H2,SMRH,t0)<=capacity(SMRH,t0)*1\n"
     ]
    }
   ],
   "source": [
    "SMRH.eqns()"
   ]
  },
  {
   "cell_type": "code",
   "execution_count": null,
   "metadata": {},
   "outputs": [
    {
     "name": "stdout",
     "output_type": "stream",
     "text": [
      "0<=consume(Solar,t0)<=BigM\n",
      "gwp(Solar,t0)=50\n",
      "eutt(Solar,t0)=60\n"
     ]
    }
   ],
   "source": [
    "Solar.eqns()"
   ]
  },
  {
   "cell_type": "code",
   "execution_count": 49,
   "metadata": {},
   "outputs": [
    {
     "name": "stdout",
     "output_type": "stream",
     "text": [
      "0<=store(Power,LiI,t0)<=capacity(LiI,t0)*2000\n",
      "0<=produce(Power,LiI,t0)<=capacity(LiI,t0)*1\n",
      "store_exp(Power,LiI,t0)=0.4*store(Power,LiI,t0)\n",
      "store_loss(Power,LiI,t2)=0.2\n",
      "sell_exp(Power,PV,t0)=30*discharge(Power,PV,t0)\n",
      "credit(Power,PV,t0)=Credit(Power,PV,t0)*discharge(Power,PV,t0)\n"
     ]
    }
   ],
   "source": [
    "Power.eqns()"
   ]
  },
  {
   "cell_type": "code",
   "execution_count": 50,
   "metadata": {},
   "outputs": [
    {
     "name": "stdout",
     "output_type": "stream",
     "text": [
      "capex(AWE,t0)=1100000.0*capacity(AWE,t0)\n",
      "fopex(AWE,t0)=16918*capacity(AWE,t0)\n",
      "incidental(AWE,t0)=20\n",
      "land_use(AWE,t0)=Th*capacity(AWE,t0), Th in (0,20)\n",
      "0<=capacity(AWE,t0)<=BigM\n",
      "0<=produce(H2,AWE,t0)<=capacity(AWE,t0)*1\n"
     ]
    }
   ],
   "source": [
    "AWE.eqns()"
   ]
  },
  {
   "cell_type": "code",
   "execution_count": 51,
   "metadata": {},
   "outputs": [
    {
     "name": "stdout",
     "output_type": "stream",
     "text": [
      "0<=store(Power,LiI,t0)<=capacity(LiI,t0)*2000\n",
      "0<=produce(Power,LiI,t0)<=capacity(LiI,t0)*1\n",
      "store_exp(Power,LiI,t0)=0.4*store(Power,LiI,t0)\n",
      "store_loss(Power,LiI,t2)=0.2\n",
      "sell_exp(Power,PV,t0)=30*discharge(Power,PV,t0)\n",
      "credit(Power,PV,t0)=Credit(Power,PV,t0)*discharge(Power,PV,t0)\n"
     ]
    }
   ],
   "source": [
    "Power.eqns()"
   ]
  },
  {
   "cell_type": "code",
   "execution_count": 52,
   "metadata": {},
   "outputs": [
    {
     "name": "stdout",
     "output_type": "stream",
     "text": [
      "0<=produce(H2,t2)<=2000\n",
      "purchase_exp(H2,H2FC,t0)=2*consume(H2,H2FC,t0)\n"
     ]
    }
   ],
   "source": [
    "H2.eqns()"
   ]
  },
  {
   "cell_type": "code",
   "execution_count": 53,
   "metadata": {},
   "outputs": [
    {
     "name": "stdout",
     "output_type": "stream",
     "text": [
      "0<=consume(Ur,t1)<=Consume(Ur,Ur,t1)\n",
      "0<=consume(Ur,ASMR,t0)<=capacity(ASMR,t0)*40\n"
     ]
    }
   ],
   "source": [
    "Uranium.consume.eqns()"
   ]
  },
  {
   "cell_type": "code",
   "execution_count": 54,
   "metadata": {},
   "outputs": [
    {
     "name": "stdout",
     "output_type": "stream",
     "text": [
      "0<=consume(Ur,t1)<=Consume(Ur,Ur,t1)\n",
      "purchase_exp(Ur,t0)=0.3416*consume(Ur,t0)\n"
     ]
    }
   ],
   "source": [
    "Uranium.eqns()"
   ]
  },
  {
   "cell_type": "code",
   "execution_count": 55,
   "metadata": {},
   "outputs": [
    {
     "name": "stdout",
     "output_type": "stream",
     "text": [
      "capex(NGCC,t0)=2158928*capacity(NGCC,t0)\n",
      "fopex(NGCC,t0)=53320*capacity(NGCC,t0)\n",
      "vopex(NGCC,t0)=4090*discharge(NGCC,t0)\n",
      "1<=capacity(NGCC,t0)<=100\n",
      "0<=produce(Power,NGCC,t0)<=capacity(NGCC,t0)*1\n",
      "purchase_exp(CH4,NGCC,t0)=4*consume(CH4,NGCC,t0)\n"
     ]
    }
   ],
   "source": [
    "NGCC.eqns()"
   ]
  },
  {
   "cell_type": "code",
   "execution_count": null,
   "metadata": {},
   "outputs": [],
   "source": [
    "process_list = {LiI, WF, PV, SMRH, SMR, DAC, AWE, H2_L_c, H2_L_d, AQoff_SMR, ASMR, PSH, NGCC}"
   ]
  },
  {
   "attachments": {},
   "cell_type": "markdown",
   "metadata": {},
   "source": [
    "## Declare locations"
   ]
  },
  {
   "cell_type": "code",
   "execution_count": null,
   "metadata": {},
   "outputs": [],
   "source": [
    "cc = Factor(data = pandas.DataFrame({'a': [2]}), scales= scales, apply_max_scaler= False)\n",
    "\n",
    "houston = Location(name='HO', processes={LiI, PV, WF, SMRH, AWE, AQoff_SMR}, credit = {PV: 2}, cap_max_localize = {WF: 0.4, AWE: 23}, \n",
    "                   credit_factor ={PV: pandas.DataFrame({'a': [2]})}, consume_localize = {Solar: 2}, demand= {Power: (0, 1)}, \n",
    "                   land_cost = 10, land_cost_factor= cc, capacity_factor={PV: weather_ho[['dni']], WF: weather_ho[['wind_speed']]}, demand_factor={\n",
    "                   Power: demand_ho}, discharge_factor={Power: demand_ho}, purchase_cost_factor={CH4: ng_price}, land_max= True, scales=scales, label='Houston')\n",
    "\n",
    "sandiego = Location(name='SD', processes={LiI, PV, WF, SMRH, AWE, AQoff_SMR}, purchase_cost_localize = {CH4: 222}, \n",
    "                    consume_localize = {Solar: 3}, land_cost = 30, land_cost_factor = pandas.DataFrame({'a': [2]}) , \n",
    "                    credit = {SMRH: 30, AQoff_SMR: Theta((0, 23))}, credit_factor= {SMRH: pandas.DataFrame({'a': [1 - 0.001*i for i in range(365)]})}, \n",
    "                    capacity_factor={PV: weather_sd[['dni']], WF: weather_sd[['wind_speed']]}, demand_factor={\n",
    "                    Power: demand_sd}, purchase_cost_factor={CH4: ng_price}, discharge_localize= {O2: 0.2}, scales=scales, label='SanDiego')\n",
    "\n",
    "newyork = Location(name='NY', processes={LiI, H2FC}, land_max = (0, 50000), land_max_factor = pandas.DataFrame({'a': [2]}), cap_max_localize = {PV: 0.2, AWE: 34}, \n",
    "                   capacity_factor={PV: weather_ny[['dni']], WF: weather_ny[['wind_speed']]}, demand= {Power: 40}, demand_factor={\n",
    "                   Power: demand_ny}, credit = {PV: 7}, purchase_cost_localize = {CH4: 2}, scales=scales, label='NewYork')\n"
   ]
  },
  {
   "cell_type": "code",
   "execution_count": null,
   "metadata": {},
   "outputs": [],
   "source": [
    "PV.cap_max"
   ]
  },
  {
   "cell_type": "code",
   "execution_count": null,
   "metadata": {},
   "outputs": [],
   "source": [
    "PV.factors"
   ]
  },
  {
   "cell_type": "code",
   "execution_count": null,
   "metadata": {},
   "outputs": [],
   "source": [
    "houston.aspect"
   ]
  },
  {
   "cell_type": "code",
   "execution_count": null,
   "metadata": {},
   "outputs": [],
   "source": [
    "houston.land_cost_factor"
   ]
  },
  {
   "cell_type": "code",
   "execution_count": null,
   "metadata": {},
   "outputs": [],
   "source": [
    "# for i in houston.processes | sandiego.processes | newyork.processes:\n",
    "# # for i in houston.resources | sandiego.resources | newyork.resources:\n",
    "#     print(i, i.localizations)\n",
    "#     print(i, i.factors)\n",
    "    "
   ]
  },
  {
   "cell_type": "code",
   "execution_count": null,
   "metadata": {},
   "outputs": [],
   "source": [
    "Power.ctype"
   ]
  },
  {
   "attachments": {},
   "cell_type": "markdown",
   "metadata": {},
   "source": [
    "## Declare transports"
   ]
  },
  {
   "cell_type": "code",
   "execution_count": null,
   "metadata": {},
   "outputs": [],
   "source": [
    "\n",
    "# Train_H2 = Transport(name='Train_H2', resources={\n",
    "#                      H2}, trans_max=bigM, trans_loss=0.03, trans_cost=1.667*10**(-3), label='Railway for hydrogen transportation')\n",
    "# Grid = Transport(name='Grid', resources={\n",
    "#                  Power}, trans_max=bigM, trans_loss=0.001, trans_cost=0.5*10**(-3), label='Railroad transport')\n",
    "\n",
    "\n",
    "Train_H2 = Transport(name='Train_H2', resources={\n",
    "                     H2}, cap_max=BigM, trans_loss=0.03, capex = 1000, vopex=1.667, fopex = (0,1), acid = 34, eutf =55, label='Railway for hydrogen transportation')\n",
    "Grid = Transport(name='Grid', resources={\n",
    "                 H2, Power}, cap_max=BigM, trans_loss=0.001, capex = 500, vopex = 0.444, label='Railroad transport')\n",
    "\n"
   ]
  },
  {
   "cell_type": "code",
   "execution_count": null,
   "metadata": {},
   "outputs": [],
   "source": [
    "Train_H2.cap_max"
   ]
  },
  {
   "attachments": {},
   "cell_type": "markdown",
   "metadata": {},
   "source": [
    "## Declare Network"
   ]
  },
  {
   "cell_type": "code",
   "execution_count": null,
   "metadata": {},
   "outputs": [],
   "source": [
    "distance_matrix = [\n",
    "    [2366], \n",
    "    [2620]\n",
    "]\n",
    "\n",
    "transport_matrix = [\n",
    "    [[Train_H2]], \n",
    "    [[Grid]],\n",
    "]\n",
    "capacity_factor  = {(houston, newyork): {Train_H2: weather_sd[['wind_speed']]}, (sandiego, newyork): {Train_H2: weather_sd[['wind_speed']]}}\n",
    "\n",
    "network = Network(name='network', scales = scales, land_max= (0,5), land_max_factor= pandas.DataFrame({'a': [5]}),  \n",
    "                  capacity_factor= capacity_factor, vopex_factor = {(houston, sandiego): {Train_H2: weather_sd[['wind_speed']]}}, sources=[houston, sandiego],\n",
    "                  sinks=[newyork], distance_matrix=distance_matrix, transport_matrix=transport_matrix)\n"
   ]
  },
  {
   "cell_type": "code",
   "execution_count": null,
   "metadata": {},
   "outputs": [],
   "source": [
    "\n",
    "scenario = Scenario(name='scenario_full', network=network, scales=scales, label='full_case')\n"
   ]
  },
  {
   "cell_type": "code",
   "execution_count": null,
   "metadata": {},
   "outputs": [],
   "source": [
    "scenario"
   ]
  },
  {
   "cell_type": "code",
   "execution_count": null,
   "metadata": {},
   "outputs": [],
   "source": [
    "for i in houston.resources:\n",
    "    print(i.ctype)"
   ]
  },
  {
   "cell_type": "code",
   "execution_count": null,
   "metadata": {},
   "outputs": [],
   "source": [
    "houston.resources_produce"
   ]
  },
  {
   "cell_type": "code",
   "execution_count": null,
   "metadata": {},
   "outputs": [],
   "source": []
  },
  {
   "cell_type": "code",
   "execution_count": null,
   "metadata": {},
   "outputs": [],
   "source": [
    "ResourceType.all()"
   ]
  },
  {
   "cell_type": "code",
   "execution_count": null,
   "metadata": {},
   "outputs": [],
   "source": [
    "ResourceType.resource_level()"
   ]
  },
  {
   "cell_type": "code",
   "execution_count": null,
   "metadata": {},
   "outputs": [],
   "source": [
    "ResourceType.location_level()"
   ]
  },
  {
   "cell_type": "code",
   "execution_count": null,
   "metadata": {},
   "outputs": [],
   "source": [
    "ResourceType.transport_level()"
   ]
  },
  {
   "cell_type": "code",
   "execution_count": null,
   "metadata": {},
   "outputs": [],
   "source": [
    "ProcessType.all()"
   ]
  },
  {
   "cell_type": "code",
   "execution_count": null,
   "metadata": {},
   "outputs": [],
   "source": [
    "ProcessType.process_level()"
   ]
  },
  {
   "cell_type": "code",
   "execution_count": null,
   "metadata": {},
   "outputs": [],
   "source": [
    "ProcessType.location_level()"
   ]
  },
  {
   "cell_type": "code",
   "execution_count": null,
   "metadata": {},
   "outputs": [],
   "source": [
    "LocationType.location_level()"
   ]
  },
  {
   "cell_type": "code",
   "execution_count": null,
   "metadata": {},
   "outputs": [],
   "source": [
    "Power.transport"
   ]
  },
  {
   "cell_type": "code",
   "execution_count": null,
   "metadata": {},
   "outputs": [],
   "source": [
    "Solar.availability"
   ]
  },
  {
   "cell_type": "code",
   "execution_count": null,
   "metadata": {},
   "outputs": [],
   "source": [
    "Power.demand"
   ]
  },
  {
   "cell_type": "code",
   "execution_count": null,
   "metadata": {},
   "outputs": [],
   "source": [
    "[((houston, sandiego), CO2), ((houston, sandiego), H2), ((houston, newyork), CO2)]"
   ]
  },
  {
   "cell_type": "code",
   "execution_count": null,
   "metadata": {},
   "outputs": [],
   "source": [
    "comp_loc_dict = scenario.resources_locations_discharge"
   ]
  },
  {
   "cell_type": "code",
   "execution_count": null,
   "metadata": {},
   "outputs": [],
   "source": [
    "scenario.locations_land"
   ]
  },
  {
   "cell_type": "code",
   "execution_count": null,
   "metadata": {},
   "outputs": [],
   "source": [
    "scenario.locations_locations_land"
   ]
  },
  {
   "cell_type": "code",
   "execution_count": null,
   "metadata": {},
   "outputs": [],
   "source": [
    "comp_loc_ordered_set = [(i, j) for i in comp_loc_dict for j in comp_loc_dict[i]]"
   ]
  },
  {
   "cell_type": "code",
   "execution_count": null,
   "metadata": {},
   "outputs": [],
   "source": [
    "scenario.resources_locations_store"
   ]
  },
  {
   "cell_type": "code",
   "execution_count": null,
   "metadata": {},
   "outputs": [],
   "source": [
    "comp_loc_ordered_set"
   ]
  },
  {
   "cell_type": "code",
   "execution_count": null,
   "metadata": {},
   "outputs": [],
   "source": [
    "comp_loc_ordered_set"
   ]
  },
  {
   "cell_type": "code",
   "execution_count": null,
   "metadata": {},
   "outputs": [],
   "source": [
    "scenario.resources_locations_discharge"
   ]
  },
  {
   "cell_type": "code",
   "execution_count": null,
   "metadata": {},
   "outputs": [],
   "source": [
    "scenario.resources_discharge"
   ]
  },
  {
   "cell_type": "code",
   "execution_count": null,
   "metadata": {},
   "outputs": [],
   "source": [
    "scenario.processes_locations_expenditure"
   ]
  },
  {
   "cell_type": "code",
   "execution_count": null,
   "metadata": {},
   "outputs": [],
   "source": [
    "resources_consume_locations = {resource: set() for resource in scenario.resources_consume}\n",
    "for resource in scenario.resources_consume:\n",
    "    for location in scenario.locations:\n",
    "        if hasattr(location, 'resources_consume'):\n",
    "            if resource in location.resources_consume:\n",
    "                resources_consume_locations[resource].add(location)"
   ]
  },
  {
   "cell_type": "code",
   "execution_count": null,
   "metadata": {},
   "outputs": [],
   "source": [
    "resources_consume_locations = {resource: {location for location in scenario.locations if hasattr(location, 'resources_consume') and resource in location.resources_consume} for resource in scenario.resources_consume}"
   ]
  },
  {
   "cell_type": "code",
   "execution_count": null,
   "metadata": {},
   "outputs": [],
   "source": [
    "scenario.resources_consume"
   ]
  },
  {
   "cell_type": "code",
   "execution_count": null,
   "metadata": {},
   "outputs": [],
   "source": [
    "resources_consume_locations = {resource: {location for location in self.locations if hasattr(location, 'resources_consume') and resource in location.resources_consume} for resource in self.resources_consume}"
   ]
  },
  {
   "cell_type": "code",
   "execution_count": null,
   "metadata": {},
   "outputs": [],
   "source": [
    "resources_consume_locations "
   ]
  },
  {
   "cell_type": "code",
   "execution_count": null,
   "metadata": {},
   "outputs": [],
   "source": [
    "resources_demand_locations = {resource: {location for location in scenario.locations if hasattr(location, 'resources_demand') and resource in location.resources_demand} for resource in scenario.resources_demand}"
   ]
  },
  {
   "cell_type": "code",
   "execution_count": null,
   "metadata": {},
   "outputs": [],
   "source": [
    "scenario.resource_classifications()"
   ]
  },
  {
   "cell_type": "code",
   "execution_count": null,
   "metadata": {},
   "outputs": [],
   "source": [
    "{component: {location for location in getattr(self, 'locations') if hasattr(location, f'{component_set}_{parameter.lower()}') and resource in getattr(location, f'{component_set}_{parameter.lower()}')} for resource in getattr(self, f'{component_set}_{parameter.lower()}')}"
   ]
  },
  {
   "cell_type": "code",
   "execution_count": null,
   "metadata": {},
   "outputs": [],
   "source": [
    "scenario.process_classifications()\n"
   ]
  },
  {
   "cell_type": "code",
   "execution_count": null,
   "metadata": {},
   "outputs": [],
   "source": [
    "[((houston.name, sandiego.name), CO2.name), ((houston.name, sandiego.name), H2.name), ((houston.name, newyork.name), CO2.name)]"
   ]
  },
  {
   "cell_type": "code",
   "execution_count": null,
   "metadata": {},
   "outputs": [],
   "source": [
    "help(ResourceParamType)"
   ]
  },
  {
   "cell_type": "code",
   "execution_count": null,
   "metadata": {},
   "outputs": [],
   "source": []
  },
  {
   "cell_type": "code",
   "execution_count": null,
   "metadata": {},
   "outputs": [],
   "source": [
    "from pyomo.environ import *\n",
    "# from energiapy.utils.scale_utils import scale_pyomo_set\n"
   ]
  },
  {
   "cell_type": "code",
   "execution_count": null,
   "metadata": {},
   "outputs": [],
   "source": [
    "scales1 = TemporalScale(discretization_list=[1, 4], design_scale= 0, scheduling_scale=1)"
   ]
  },
  {
   "cell_type": "code",
   "execution_count": null,
   "metadata": {},
   "outputs": [],
   "source": [
    "type(scales1)"
   ]
  },
  {
   "cell_type": "code",
   "execution_count": null,
   "metadata": {},
   "outputs": [],
   "source": [
    "scales2 = TemporalScale(discretization_list=[2, 2, 2], design_scale= 0, scheduling_scale=2)\n"
   ]
  },
  {
   "cell_type": "code",
   "execution_count": null,
   "metadata": {},
   "outputs": [],
   "source": [
    "scales1.index_list"
   ]
  },
  {
   "cell_type": "code",
   "execution_count": null,
   "metadata": {},
   "outputs": [],
   "source": [
    "scales2.index_list"
   ]
  },
  {
   "cell_type": "code",
   "execution_count": null,
   "metadata": {},
   "outputs": [],
   "source": [
    "m = ConcreteModel()\n",
    "m.scales = Set(scales1.list,\n",
    "                    initialize=scales1.scale)\n",
    "m.scales_scheduling = scale_pyomo_set(\n",
    "        instance=m, scale_level=scales1.scheduling_scale)\n",
    "m.scales_design = scale_pyomo_set(\n",
    "        instance=m, scale_level=scales1.design_scale)\n",
    "\n"
   ]
  },
  {
   "cell_type": "code",
   "execution_count": null,
   "metadata": {},
   "outputs": [],
   "source": [
    "scales.scheduling_scale"
   ]
  },
  {
   "cell_type": "code",
   "execution_count": null,
   "metadata": {},
   "outputs": [],
   "source": [
    "# m.a = Set(initialize = [(i, j) for i in resources_consume_locations for j in resources_consume_locations[i]])\n",
    "# m.b = Set(initialize = [(i.name, j.name) for i in scenario.resources_locations_consume for j in scenario.resources_locations_consume[i]])\n",
    "# m.c = Set(initialize = [((houston.name, sandiego.name), CO2.name), ((houston.name, sandiego.name), H2.name), ((houston.name, newyork.name), CO2.name)])\n",
    "# m.A = Var(m.a, m.scales_scheduling, within = NonNegativeReals)\n",
    "# m.B = Var(m.b, m.scales_design, within = NonNegativeReals)\n",
    "# m.C = Var(m.c, m.scales_scheduling, within = NonNegativeReals)"
   ]
  },
  {
   "cell_type": "code",
   "execution_count": null,
   "metadata": {},
   "outputs": [],
   "source": [
    "from pyomo.environ import * \n",
    "m = ConcreteModel()"
   ]
  },
  {
   "cell_type": "code",
   "execution_count": null,
   "metadata": {},
   "outputs": [],
   "source": [
    "m.d = Set(initialize = [(Train_H2.name, (houston.name, sandiego.name)), (Grid.name, (houston.name, sandiego.name)), (Grid.name, (houston.name, newyork.name))])\n",
    "m.D = Var(m.d, m.scales_design, within = NonNegativeReals)\n"
   ]
  },
  {
   "cell_type": "code",
   "execution_count": null,
   "metadata": {},
   "outputs": [],
   "source": [
    "m.f = Set(initialize = [Train_H2.name, Grid.name])\n",
    "m.F = Var(m.f, m.scales_design, within = NonNegativeReals)\n"
   ]
  },
  {
   "cell_type": "code",
   "execution_count": null,
   "metadata": {},
   "outputs": [],
   "source": [
    "m.g = Set(initialize = [(CO2.name, (houston.name, sandiego.name)), (Power.name, (houston.name, sandiego.name)), (H2.name, (houston.name, newyork.name))])"
   ]
  },
  {
   "cell_type": "code",
   "execution_count": null,
   "metadata": {},
   "outputs": [],
   "source": [
    "m.G = Var(m.g, m.scales_scheduling, within = NonNegativeReals)"
   ]
  },
  {
   "cell_type": "code",
   "execution_count": null,
   "metadata": {},
   "outputs": [],
   "source": [
    "m.G.pprint()"
   ]
  },
  {
   "cell_type": "code",
   "execution_count": null,
   "metadata": {},
   "outputs": [],
   "source": [
    "m = ConcreteModel()\n"
   ]
  },
  {
   "cell_type": "code",
   "execution_count": null,
   "metadata": {},
   "outputs": [],
   "source": [
    "import gurobipy\n",
    "m = gurobipy.read('example.lp')"
   ]
  },
  {
   "cell_type": "code",
   "execution_count": null,
   "metadata": {},
   "outputs": [],
   "source": [
    "import pandas "
   ]
  },
  {
   "cell_type": "code",
   "execution_count": null,
   "metadata": {},
   "outputs": [],
   "source": [
    "a = pandas.DataFrame(data= {'a': [1, 2, 3]})"
   ]
  },
  {
   "cell_type": "code",
   "execution_count": null,
   "metadata": {},
   "outputs": [],
   "source": [
    "b = "
   ]
  },
  {
   "cell_type": "code",
   "execution_count": null,
   "metadata": {},
   "outputs": [],
   "source": []
  },
  {
   "cell_type": "code",
   "execution_count": null,
   "metadata": {},
   "outputs": [],
   "source": [
    "class LPFileCreator:\n",
    "    def __init__(self, objective, constraints, bounds, file_name=\"problem.lp\"):\n",
    "        self.objective = objective\n",
    "        self.constraints = constraints\n",
    "        self.bounds = bounds\n",
    "        self.file_name = file_name\n",
    "    \n",
    "    def create_lp_file(self):\n",
    "        content = self._generate_lp_content()\n",
    "        with open(self.file_name, \"w\") as file:\n",
    "            file.write(content)\n",
    "    \n",
    "    def _generate_lp_content(self):\n",
    "        lp_content = []\n",
    "        \n",
    "        # Add Objective Function\n",
    "        lp_content.append(\"\\\\* Problem Statement *\\\\\")\n",
    "        lp_content.append(\"\\nMaximize\")\n",
    "        lp_content.append(f\" obj: {self.objective}\\n\")\n",
    "        \n",
    "        # Add Constraints\n",
    "        lp_content.append(\"Subject To\")\n",
    "        for i, constraint in enumerate(self.constraints, start=1):\n",
    "            lp_content.append(f\" c{i}: {constraint}\")\n",
    "        lp_content.append(\"\")\n",
    "        \n",
    "        # Add Bounds\n",
    "        lp_content.append(\"Bounds\")\n",
    "        for bound in self.bounds:\n",
    "            lp_content.append(f\" {bound}\")\n",
    "        lp_content.append(\"\")\n",
    "        \n",
    "        # Add End\n",
    "        lp_content.append(\"End\")\n",
    "        \n",
    "        return \"\\n\".join(lp_content)\n"
   ]
  },
  {
   "cell_type": "code",
   "execution_count": null,
   "metadata": {},
   "outputs": [],
   "source": [
    "a = [7, 2, 3].sort()\n"
   ]
  },
  {
   "cell_type": "code",
   "execution_count": null,
   "metadata": {},
   "outputs": [],
   "source": [
    "a"
   ]
  },
  {
   "cell_type": "code",
   "execution_count": null,
   "metadata": {},
   "outputs": [],
   "source": [
    "sorted(a)"
   ]
  },
  {
   "cell_type": "code",
   "execution_count": null,
   "metadata": {},
   "outputs": [],
   "source": [
    "houston.resources_consume"
   ]
  },
  {
   "cell_type": "code",
   "execution_count": null,
   "metadata": {},
   "outputs": [],
   "source": [
    "[f'cons_{i.name}_' for i in houston.resources_consume]"
   ]
  },
  {
   "cell_type": "code",
   "execution_count": null,
   "metadata": {},
   "outputs": [],
   "source": []
  },
  {
   "cell_type": "code",
   "execution_count": null,
   "metadata": {},
   "outputs": [],
   "source": [
    "def tuples_to_strings(tuple_list):\n",
    "    return ['_'.join(map(str, t)) for t in tuple_list]"
   ]
  },
  {
   "cell_type": "code",
   "execution_count": null,
   "metadata": {},
   "outputs": [],
   "source": [
    "scales = TemporalScale([1,4], design_scale= 0, scheduling_scale=1)"
   ]
  },
  {
   "cell_type": "code",
   "execution_count": null,
   "metadata": {},
   "outputs": [],
   "source": [
    "var = ['cons'] #, 'sell']"
   ]
  },
  {
   "cell_type": "code",
   "execution_count": null,
   "metadata": {},
   "outputs": [],
   "source": [
    "res_list = ['res1', 'res2', 'res3']"
   ]
  },
  {
   "cell_type": "code",
   "execution_count": null,
   "metadata": {},
   "outputs": [],
   "source": [
    "time_index = tuples_to_strings(scales.index_list[1])"
   ]
  },
  {
   "cell_type": "code",
   "execution_count": null,
   "metadata": {},
   "outputs": [],
   "source": [
    "value = {'res1': 5, 'res2': 7, 'res3': 8}"
   ]
  },
  {
   "cell_type": "code",
   "execution_count": null,
   "metadata": {},
   "outputs": [],
   "source": [
    "cons = list()"
   ]
  },
  {
   "cell_type": "code",
   "execution_count": null,
   "metadata": {},
   "outputs": [],
   "source": [
    "for i,j,k in product(var, res_list, time_index):\n",
    "    cons.append(f'{i}_{j}_{k} <= {value[j]}')"
   ]
  },
  {
   "cell_type": "code",
   "execution_count": null,
   "metadata": {},
   "outputs": [],
   "source": [
    "ooo = {'res1': 7, 'res2': 5, 'res3': 9}"
   ]
  },
  {
   "cell_type": "code",
   "execution_count": null,
   "metadata": {},
   "outputs": [],
   "source": [
    "k = [f'{ooo[i]} {i}' for i in res_list]"
   ]
  },
  {
   "cell_type": "code",
   "execution_count": null,
   "metadata": {},
   "outputs": [],
   "source": [
    "obj = ' + '.join(k)\n",
    "obj"
   ]
  },
  {
   "cell_type": "code",
   "execution_count": null,
   "metadata": {},
   "outputs": [],
   "source": [
    "for i,j,k in product(var, res_list, time_index):\n"
   ]
  },
  {
   "cell_type": "code",
   "execution_count": null,
   "metadata": {},
   "outputs": [],
   "source": [
    "bou = [f'0 <= {i}' for i in var]"
   ]
  },
  {
   "cell_type": "code",
   "execution_count": null,
   "metadata": {},
   "outputs": [],
   "source": [
    "\n",
    "# Define the problem components\n",
    "objective = \"x + 2 y\"\n",
    "constraints = [\n",
    "    \"x + y >= 1\",\n",
    "    \"x <= 2\",\n",
    "    \"y <= 2\"\n",
    "]\n",
    "bounds = [\n",
    "    \"0 <= x\",\n",
    "    \"0 <= y\"\n",
    "]\n",
    "\n",
    "# Create the LP file\n",
    "# creator = LPFileCreator(objective, constraints, bounds, file_name=\"example.lp\")\n",
    "\n",
    "creator = LPFileCreator(obj, cons, bou, file_name=\"example.lp\")\n",
    "creator.create_lp_file()\n",
    "print(\"LP file 'example.lp' created successfully.\")"
   ]
  },
  {
   "cell_type": "code",
   "execution_count": null,
   "metadata": {},
   "outputs": [],
   "source": [
    "import gurobipy as gb \n",
    "\n",
    "a = gb.read('example.lp')"
   ]
  },
  {
   "cell_type": "code",
   "execution_count": null,
   "metadata": {},
   "outputs": [],
   "source": []
  },
  {
   "cell_type": "code",
   "execution_count": null,
   "metadata": {},
   "outputs": [],
   "source": [
    "a.optimize()"
   ]
  },
  {
   "cell_type": "code",
   "execution_count": null,
   "metadata": {},
   "outputs": [],
   "source": [
    "Maximize\n",
    "  x + y + z\n",
    "Subject To\n",
    "  c0: x + y = 1\n",
    "  c1: x + 5 y + 2 z <= 10\n",
    "  qc0: x + y + [ x ^ 2 - 2 x * y + 3 y ^ 2 ] <= 5\n",
    "Bounds\n",
    "  0 <= x <= 5\n",
    "  z >= 2\n",
    "Generals\n",
    "  x y z\n",
    "End\n"
   ]
  },
  {
   "cell_type": "code",
   "execution_count": null,
   "metadata": {},
   "outputs": [],
   "source": [
    "H2O.purchase_cost"
   ]
  },
  {
   "cell_type": "code",
   "execution_count": null,
   "metadata": {},
   "outputs": [],
   "source": [
    "H2O.cons_max"
   ]
  },
  {
   "cell_type": "code",
   "execution_count": null,
   "metadata": {},
   "outputs": [],
   "source": [
    "m.optimize()"
   ]
  },
  {
   "cell_type": "code",
   "execution_count": null,
   "metadata": {},
   "outputs": [],
   "source": [
    "m.getVars()"
   ]
  },
  {
   "cell_type": "code",
   "execution_count": null,
   "metadata": {},
   "outputs": [],
   "source": [
    "plot_scenario.capacity_factor(scenario = scenario, location= houston, process= PV, fig_size= (9,5), color= 'orange')\n"
   ]
  },
  {
   "attachments": {},
   "cell_type": "markdown",
   "metadata": {},
   "source": [
    "![cap fac pv](plots/cf_ho.png)"
   ]
  },
  {
   "cell_type": "code",
   "execution_count": null,
   "metadata": {},
   "outputs": [],
   "source": [
    "plot_scenario.capacity_factor(scenario = scenario, location= sandiego, process= WF, fig_size= (9,5), color= 'blue')\n"
   ]
  },
  {
   "attachments": {},
   "cell_type": "markdown",
   "metadata": {},
   "source": [
    "![cap fac wf](plots/wf_sd.png)"
   ]
  },
  {
   "cell_type": "code",
   "execution_count": null,
   "metadata": {},
   "outputs": [],
   "source": [
    "plot_scenario.demand_factor(scenario = scenario, location= newyork, resource= Power, fig_size= (9,5), color= 'red')\n"
   ]
  },
  {
   "attachments": {},
   "cell_type": "markdown",
   "metadata": {},
   "source": [
    "![df ny](plots/df_ny.png)"
   ]
  },
  {
   "attachments": {},
   "cell_type": "markdown",
   "metadata": {},
   "source": [
    "## Optimize for minimum cost"
   ]
  },
  {
   "cell_type": "code",
   "execution_count": null,
   "metadata": {},
   "outputs": [],
   "source": [
    "milp_cost = formulate(scenario= scenario, constraints={Constraints.COST, Constraints.INVENTORY, Constraints.PRODUCTION, Constraints.RESOURCE_BALANCE, Constraints.TRANSPORT, Constraints.MODE, Constraints.NETWORK},  objective=Objective.COST)"
   ]
  },
  {
   "attachments": {},
   "cell_type": "markdown",
   "metadata": {},
   "source": [
    "**Ensure no discharge of power in Houston and San Diego**\n",
    "\n",
    "While the demand for power is zero in these locations, Power is still a dischargeable resource. Hence, the discharge bounds need to be set to zero.\n",
    "If not set to zero, the system chooses to dispense power instead of establishing storage networks."
   ]
  },
  {
   "cell_type": "code",
   "execution_count": null,
   "metadata": {},
   "outputs": [],
   "source": [
    "\n",
    "milp_cost.constraint_specific_location_discharge_ho = constraint_specific_location_discharge(\n",
    "        instance=milp_cost, network_scale_level=0, bounds={Power: 0}, location = houston)\n",
    "milp_cost.constraint_specific_location_discharge_sd = constraint_specific_location_discharge(\n",
    "        instance=milp_cost, network_scale_level=0, bounds={Power: 0}, location = sandiego)\n"
   ]
  },
  {
   "cell_type": "code",
   "execution_count": null,
   "metadata": {},
   "outputs": [],
   "source": [
    "\n",
    "results_cost = solve(scenario = scenario, instance= milp_cost, solver= 'gurobi', name=\"results_cost\", print_solversteps = True)\n"
   ]
  },
  {
   "attachments": {},
   "cell_type": "markdown",
   "metadata": {},
   "source": [
    "**Schedule for transport of hydrogen**"
   ]
  },
  {
   "cell_type": "code",
   "execution_count": null,
   "metadata": {},
   "outputs": [],
   "source": [
    "plot_results.transport(results=results_cost, source='SD', sink='NY', resource='H2', transport='Train_H2')\n"
   ]
  },
  {
   "attachments": {},
   "cell_type": "markdown",
   "metadata": {},
   "source": [
    "![sch t sdny](plots/sch_sdny.png)"
   ]
  },
  {
   "cell_type": "code",
   "execution_count": null,
   "metadata": {},
   "outputs": [],
   "source": [
    "plot_results.transport(results=results_cost, source='HO', sink='NY', resource='H2', transport='Train_H2')"
   ]
  },
  {
   "attachments": {},
   "cell_type": "markdown",
   "metadata": {},
   "source": [
    "![sch hony](plots/sch_hony.png)"
   ]
  },
  {
   "attachments": {},
   "cell_type": "markdown",
   "metadata": {},
   "source": [
    "**Cost contribution by technology**"
   ]
  },
  {
   "cell_type": "code",
   "execution_count": null,
   "metadata": {},
   "outputs": [],
   "source": [
    "plot_results.cost(results= results_cost, x = CostX.PROCESS_WISE, y = CostY.CAPEX, location= 'HO', fig_size= (8,6))\n",
    "plot_results.cost(results= results_cost, x = CostX.PROCESS_WISE, y = CostY.VOPEX, location= 'HO', fig_size= (8,6))\n",
    "plot_results.cost(results= results_cost, x = CostX.PROCESS_WISE, y = CostY.FOPEX, location= 'HO', fig_size= (8,6))\n",
    "plot_results.cost(results= results_cost, x = CostX.PROCESS_WISE, y = CostY.TOTAL, location= 'HO', fig_size= (8,6))"
   ]
  },
  {
   "attachments": {},
   "cell_type": "markdown",
   "metadata": {},
   "source": [
    "![total cost ho](plots/total_ho.png)"
   ]
  },
  {
   "attachments": {},
   "cell_type": "markdown",
   "metadata": {},
   "source": [
    "**Location-wise cost contribution by technology**"
   ]
  },
  {
   "cell_type": "code",
   "execution_count": null,
   "metadata": {},
   "outputs": [],
   "source": [
    "\n",
    "plot_results.cost(results= results_cost, x = CostX.LOCATION_WISE, y = CostY.CAPEX, fig_size= (8,6))\n",
    "plot_results.cost(results= results_cost, x = CostX.LOCATION_WISE, y = CostY.VOPEX, fig_size= (8,6))\n",
    "plot_results.cost(results= results_cost, x = CostX.LOCATION_WISE, y = CostY.FOPEX, fig_size= (8,6))\n",
    "plot_results.cost(results= results_cost, x = CostX.LOCATION_WISE, y = CostY.TOTAL, fig_size= (8,6))"
   ]
  },
  {
   "attachments": {},
   "cell_type": "markdown",
   "metadata": {},
   "source": [
    "![total lw](plots/total_lw.png)"
   ]
  },
  {
   "attachments": {},
   "cell_type": "markdown",
   "metadata": {},
   "source": [
    "**Inventory and production schedules**"
   ]
  },
  {
   "cell_type": "code",
   "execution_count": null,
   "metadata": {},
   "outputs": [],
   "source": [
    "plot_results.schedule(results= results_cost, y_axis= 'Inv', component= 'LiI_Power_stored', location = 'SD', fig_size= (9,5), color = 'steelblue')"
   ]
  },
  {
   "attachments": {},
   "cell_type": "markdown",
   "metadata": {},
   "source": [
    "![inv lii](plots/lii_inv.png)"
   ]
  },
  {
   "cell_type": "code",
   "execution_count": null,
   "metadata": {},
   "outputs": [],
   "source": [
    "plot_results.schedule(results= results_cost, y_axis= 'P', component= 'PV', location = 'SD', fig_size= (9,5), color = 'steelblue')"
   ]
  },
  {
   "attachments": {},
   "cell_type": "markdown",
   "metadata": {},
   "source": [
    "![pv p](plots/pv_p.png)"
   ]
  },
  {
   "attachments": {},
   "cell_type": "markdown",
   "metadata": {},
   "source": [
    "## Optimize to maximize resource discharge "
   ]
  },
  {
   "cell_type": "code",
   "execution_count": null,
   "metadata": {},
   "outputs": [],
   "source": [
    "\n",
    "milp_demand = formulate(scenario=scenario, constraints={Constraints.COST, Constraints.INVENTORY, Constraints.PRODUCTION,\n",
    "                        Constraints.RESOURCE_BALANCE, Constraints.TRANSPORT, Constraints.MODE, Constraints.NETWORK},  objective=Objective.MAX_DISCHARGE, objective_resource=Power)\n"
   ]
  },
  {
   "cell_type": "code",
   "execution_count": null,
   "metadata": {},
   "outputs": [],
   "source": [
    "\n",
    "milp_demand.constraint_specific_location_discharge_ho = constraint_specific_location_discharge(\n",
    "        instance=milp_demand, network_scale_level=0, bounds={Power: 0}, location = houston)\n",
    "milp_demand.constraint_specific_location_discharge_sd = constraint_specific_location_discharge(\n",
    "        instance=milp_demand, network_scale_level=0, bounds={Power: 0}, location = sandiego)\n"
   ]
  },
  {
   "cell_type": "code",
   "execution_count": null,
   "metadata": {},
   "outputs": [],
   "source": [
    "\n",
    "results_demand = solve(scenario=scenario, instance=milp_demand, solver='gurobi',\n",
    "                       name=\"results_demand\", print_solversteps=True)\n"
   ]
  },
  {
   "attachments": {},
   "cell_type": "markdown",
   "metadata": {},
   "source": [
    "**Schedule for transport of hydrogen**"
   ]
  },
  {
   "cell_type": "code",
   "execution_count": null,
   "metadata": {},
   "outputs": [],
   "source": [
    "plot_results.transport(results=results_demand, source='SD', sink='NY', resource='H2', transport='Train_H2')\n"
   ]
  },
  {
   "attachments": {},
   "cell_type": "markdown",
   "metadata": {},
   "source": [
    "![sch t sdny2](plots/sch_sdny2.png)"
   ]
  },
  {
   "cell_type": "code",
   "execution_count": null,
   "metadata": {},
   "outputs": [],
   "source": [
    "plot_results.transport(results=results_demand, source='HO', sink='NY', resource='H2', transport='Train_H2')"
   ]
  },
  {
   "attachments": {},
   "cell_type": "markdown",
   "metadata": {},
   "source": [
    "![sch t hony](plots/sch_hony2.png)"
   ]
  }
 ],
 "metadata": {
  "kernelspec": {
   "display_name": "Python 3.10.5 ('ki': venv)",
   "language": "python",
   "name": "python3"
  },
  "language_info": {
   "codemirror_mode": {
    "name": "ipython",
    "version": 3
   },
   "file_extension": ".py",
   "mimetype": "text/x-python",
   "name": "python",
   "nbconvert_exporter": "python",
   "pygments_lexer": "ipython3",
   "version": "3.11.9"
  },
  "orig_nbformat": 4,
  "vscode": {
   "interpreter": {
    "hash": "a4a97498e3c1bfef05f70a75d4fcafcb7b5c9c4ed86429a4e7bee46eaa890f24"
   }
  }
 },
 "nbformat": 4,
 "nbformat_minor": 2
}
