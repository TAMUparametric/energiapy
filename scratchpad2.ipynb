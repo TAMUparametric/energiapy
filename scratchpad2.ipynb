{
 "cells": [
  {
   "cell_type": "code",
   "execution_count": 1,
   "metadata": {},
   "outputs": [],
   "source": [
    "# def load_data(loc:str, index:list):\n",
    "#     df = pandas.read_csv(f'data/{loc}_solar19.csv')\n",
    "#     df['idx'] = index\n",
    "#     df = df.set_index('idx')\n",
    "#     return df\n",
    "# idx = [(i,j,k) for i,j,k in product(range(1), range(365), range(24))]\n",
    "# weather_ny = load_data('ny', idx)[['DNI', 'Wind Speed']]\n",
    "# weather_ny = weather_ny.rename(columns= {'DNI': 'dni', 'Wind Speed': 'wind_speed'})\n",
    "# weather_sd = load_data('sd', idx)[['dni', 'wind_speed']]\n",
    "# weather_ho = load_data('ho', idx)[['dni', 'wind_speed']]\"\"\n",
    "# demand_sd = pandas.read_excel('data/HistoricalEMSHourlyLoad-2019.xlsx', index_col= 0)[['SDGE']]\n",
    "# demand_ho = pandas.read_excel('data/Native_Load_2019.xlsx')[['COAST']]\n",
    "# demand_ny = DataFrame(pandas.read_csv('data/NYC_load.csv')['Load']) #from Will and Doga\n",
    "# ng_price = make_henry_price_df(\n",
    "#     file_name='data/Henry_Hub_Natural_Gas_Spot_Price_Daily.csv', year=2020)\n",
    "# ng_price = ng_price.drop(columns= 'scales')\n",
    "# ng_price = remove_outliers(ng_price, sd_cuttoff = 3)\n",
    "# ng_price = pandas.concat([ng_price])"
   ]
  },
  {
   "cell_type": "code",
   "execution_count": 2,
   "metadata": {},
   "outputs": [],
   "source": [
    "import sys\n",
    "\n",
    "sys.path.append('src')"
   ]
  },
  {
   "cell_type": "code",
   "execution_count": 3,
   "metadata": {},
   "outputs": [],
   "source": [
    "from energiapy.blocks.model import Model\n",
    "from energiapy.blocks.taskmaster import TaskMaster\n",
    "from dataclasses import dataclass, field, fields, asdict\n",
    "from operator import is_"
   ]
  },
  {
   "cell_type": "code",
   "execution_count": 4,
   "metadata": {},
   "outputs": [],
   "source": [
    "from pandas import DataFrame\n",
    "from energiapy.components import *\n",
    "from energiapy.model.scenario import Scenario\n",
    "from energiapy.parameters.designators.mode import X\n",
    "from energiapy.parameters.designators.incidental import I"
   ]
  },
  {
   "cell_type": "code",
   "execution_count": 5,
   "metadata": {},
   "outputs": [],
   "source": [
    "from energiapy.components._base._scope import _Scope\n",
    "from energiapy.components._base._defined import _Defined\n",
    "from energiapy.components.temporal.scale import Scale\n",
    "from energiapy.components.spatial.location import Location\n",
    "from energiapy.components.spatial._spatial import _Spatial\n",
    "from energiapy.core._handy._enums import _Dummy\n",
    "from energiapy.indices.disposition import Disposition"
   ]
  },
  {
   "cell_type": "code",
   "execution_count": 6,
   "metadata": {},
   "outputs": [],
   "source": [
    "s = Scenario(default=True)"
   ]
  },
  {
   "cell_type": "code",
   "execution_count": 7,
   "metadata": {},
   "outputs": [],
   "source": [
    "# s.h2 = Horizon({'days': 2, 'hours': 12})\n",
    "s.hor = Horizon(discretizations=[2, 12])\n",
    "s.scales\n",
    "s.net = Network(['madgaon', 'ponje', 'cacoda'])  # , link_all=True)\n",
    "s.nodes\n",
    "s.alink = Linkage(source=s.madgaon, sink=s.ponje, bi=True, distance=50)\n",
    "s.blink = Linkage(source=s.ponje, sink=s.cacoda, bi=False, distance=80)\n",
    "s.clink = Linkage(source=s.cacoda, sink=s.madgaon, bi=True, distance=100)\n",
    "s.dlink = Linkage(source=s.madgaon, sink=s.ponje, bi=False, distance=200)"
   ]
  },
  {
   "cell_type": "code",
   "execution_count": 8,
   "metadata": {},
   "outputs": [],
   "source": [
    "a = DataFrame({'a': list(range(2))})\n",
    "b = DataFrame({'b': list(range(24))})"
   ]
  },
  {
   "cell_type": "code",
   "execution_count": 9,
   "metadata": {},
   "outputs": [
    {
     "name": "stdout",
     "output_type": "stream",
     "text": [
      "making new at spend[csh, madgaon, t0] (csh, madgaon, t0) csh\n",
      "making new at spend[csh, madgaon, t0] (csh, madgaon, t0) csh\n",
      "making new at spend[csh, ponje, t1] (csh, ponje, t1) csh\n",
      "making new at spend[csh, cacoda, t1] (csh, cacoda, t1) csh\n",
      "making new at spend[csh, net, t2] (csh, net, t2) csh\n",
      "making new at spend[csh, net, t2] (csh, net, t2) csh\n"
     ]
    },
    {
     "name": "stderr",
     "output_type": "stream",
     "text": [
      "c:\\Users\\cacodcar\\energiapy\\src\\energiapy\\components\\_base\\_consistent.py:227: InconsistencyWarning: \n",
      "csh.spend:Inconsistent temporal scale for ponje at t2.\n",
      "Updating to t1\n",
      "Set Scneario.ok_inconsistent=False, to enforce strictly\n",
      "  warn(\n"
     ]
    }
   ],
   "source": [
    "s.csh = Cash(\n",
    "    spend={\n",
    "        s.madgaon: True,\n",
    "        s.ponje: {s.t2: (2, a)},\n",
    "        s.cacoda: a,\n",
    "        s.network: {s.t2: [5, 7]},\n",
    "    },\n",
    "    # label='cash',\n",
    "    basis='USD',\n",
    ")"
   ]
  },
  {
   "cell_type": "code",
   "execution_count": 10,
   "metadata": {},
   "outputs": [
    {
     "data": {
      "text/latex": [
       "$\\displaystyle {spend}_{csh,madgaon,t_{0}} \\geq 0$"
      ],
      "text/plain": [
       "<IPython.core.display.Math object>"
      ]
     },
     "metadata": {},
     "output_type": "display_data"
    },
    {
     "data": {
      "text/latex": [
       "$\\displaystyle {spend}_{csh,madgaon,t_{0}} \\leq M$"
      ],
      "text/plain": [
       "<IPython.core.display.Math object>"
      ]
     },
     "metadata": {},
     "output_type": "display_data"
    },
    {
     "data": {
      "text/latex": [
       "$\\displaystyle {spend}_{csh,ponje,t_{1}} = {θ}_{csh,ponje,t_{1}}$"
      ],
      "text/plain": [
       "<IPython.core.display.Math object>"
      ]
     },
     "metadata": {},
     "output_type": "display_data"
    },
    {
     "data": {
      "text/latex": [
       "$\\displaystyle {spend}_{csh,cacoda,t_{1}} = {DtSt}_{csh,cacoda,t_{1}}$"
      ],
      "text/plain": [
       "<IPython.core.display.Math object>"
      ]
     },
     "metadata": {},
     "output_type": "display_data"
    },
    {
     "data": {
      "text/latex": [
       "$\\displaystyle {spend}_{csh,net,t_{2}} \\geq 5$"
      ],
      "text/plain": [
       "<IPython.core.display.Math object>"
      ]
     },
     "metadata": {},
     "output_type": "display_data"
    },
    {
     "data": {
      "text/latex": [
       "$\\displaystyle {spend}_{csh,net,t_{2}} \\leq 7$"
      ],
      "text/plain": [
       "<IPython.core.display.Math object>"
      ]
     },
     "metadata": {},
     "output_type": "display_data"
    }
   ],
   "source": [
    "s.cash.pprint()"
   ]
  },
  {
   "cell_type": "code",
   "execution_count": 11,
   "metadata": {},
   "outputs": [
    {
     "name": "stdout",
     "output_type": "stream",
     "text": [
      "making new at exp^sell[csh, H2, cacoda, t0] (csh, H2, cacoda, t0) H2\n",
      "making new at sell[H2, cacoda, t0] (H2, cacoda, t0) H2\n",
      "making new at exp^sell[csh, H2, madgaon, t0] (csh, H2, madgaon, t0) H2\n",
      "making new at sell[H2, madgaon, t0] (H2, madgaon, t0) H2\n",
      "making new at exp^sell[csh, H2, madgaon, t0] (csh, H2, madgaon, t0) H2\n",
      "making new at sell[H2, madgaon, t0] (H2, madgaon, t0) H2\n",
      "making new at exp^sell[csh, H2, ponje, t2] (csh, H2, ponje, t2) H2\n",
      "making new at sell[H2, ponje, t2] (H2, ponje, t2) H2\n"
     ]
    },
    {
     "name": "stderr",
     "output_type": "stream",
     "text": [
      "c:\\Users\\cacodcar\\energiapy\\src\\energiapy\\components\\_base\\_consistent.py:227: InconsistencyWarning: \n",
      "H2.price_sell:Inconsistent temporal scale for ponje at t1.\n",
      "Updating to t2\n",
      "Set Scneario.ok_inconsistent=False, to enforce strictly\n",
      "  warn(\n"
     ]
    }
   ],
   "source": [
    "s.H2 = Resource(\n",
    "    # sell={s.t0: [0, 4], s.t1: [a, 34], s.t2: (a, b)},\n",
    "    price_sell={\n",
    "        s.madgaon: True,\n",
    "        s.ponje: {s.t1: (2, b)},\n",
    "        s.cacoda: 300,\n",
    "    },\n",
    ")"
   ]
  },
  {
   "cell_type": "code",
   "execution_count": 22,
   "metadata": {},
   "outputs": [
    {
     "data": {
      "text/plain": [
       "[Price^sell[csh, H2, cacoda, t0],\n",
       " Price^sell[csh, H2, madgaon, t0],\n",
       " Price^sell[csh, H2, madgaon, t0],\n",
       " Price^sell[csh, H2, ponje, t2]]"
      ]
     },
     "execution_count": 22,
     "metadata": {},
     "output_type": "execute_result"
    }
   ],
   "source": [
    "s.H2.parameters"
   ]
  },
  {
   "cell_type": "code",
   "execution_count": 12,
   "metadata": {},
   "outputs": [
    {
     "data": {
      "text/latex": [
       "$\\displaystyle {exp^{sell}}_{csh,H_{2},cacoda,t_{0}} = {sell}_{H_{2},cacoda,t_{0}} \\cdot 300$"
      ],
      "text/plain": [
       "<IPython.core.display.Math object>"
      ]
     },
     "metadata": {},
     "output_type": "display_data"
    },
    {
     "data": {
      "text/latex": [
       "$\\displaystyle {exp^{sell}}_{csh,H_{2},madgaon,t_{0}} = {sell}_{H_{2},madgaon,t_{0}} \\cdot 0$"
      ],
      "text/plain": [
       "<IPython.core.display.Math object>"
      ]
     },
     "metadata": {},
     "output_type": "display_data"
    },
    {
     "data": {
      "text/latex": [
       "$\\displaystyle {exp^{sell}}_{csh,H_{2},madgaon,t_{0}} = {sell}_{H_{2},madgaon,t_{0}} \\cdot M$"
      ],
      "text/plain": [
       "<IPython.core.display.Math object>"
      ]
     },
     "metadata": {},
     "output_type": "display_data"
    },
    {
     "data": {
      "text/latex": [
       "$\\displaystyle {exp^{sell}}_{csh,H_{2},ponje,t_{2}} = {sell}_{H_{2},ponje,t_{2}} \\cdot {θ}_{csh,H_{2},ponje,t_{2}}$"
      ],
      "text/plain": [
       "<IPython.core.display.Math object>"
      ]
     },
     "metadata": {},
     "output_type": "display_data"
    }
   ],
   "source": [
    "s.H2.pprint()"
   ]
  },
  {
   "cell_type": "code",
   "execution_count": 13,
   "metadata": {},
   "outputs": [
    {
     "name": "stdout",
     "output_type": "stream",
     "text": [
      "making new at buy[Solar, net, t0] (Solar, net, t0) Solar\n",
      "making new at buy[Solar, net, t0] (Solar, net, t0) Solar\n",
      "making new at buy[Wind, net, t1] (Wind, net, t1) Wind\n",
      "making new at buy[Uranium, net, t2] (Uranium, net, t2) Uranium\n",
      "making new at exp^buy[csh, Uranium, cacoda, t0] (csh, Uranium, cacoda, t0) Uranium\n",
      "making new at buy[Uranium, cacoda, t0] (Uranium, cacoda, t0) Uranium\n",
      "making new at exp^buy[csh, Uranium, madgaon, t0] (csh, Uranium, madgaon, t0) Uranium\n",
      "making new at buy[Uranium, madgaon, t0] (Uranium, madgaon, t0) Uranium\n",
      "making new at exp^buy[csh, Uranium, ponje, t0] (csh, Uranium, ponje, t0) Uranium\n",
      "making new at buy[Uranium, ponje, t0] (Uranium, ponje, t0) Uranium\n",
      "making new at buy[H2O, net, t0] (H2O, net, t0) H2O\n",
      "making new at exp^buy[csh, H2O, cacoda, t2] (csh, H2O, cacoda, t2) H2O\n",
      "making new at buy[H2O, cacoda, t2] (H2O, cacoda, t2) H2O\n",
      "making new at exp^buy[csh, H2O, madgaon, t2] (csh, H2O, madgaon, t2) H2O\n",
      "making new at buy[H2O, madgaon, t2] (H2O, madgaon, t2) H2O\n",
      "making new at exp^buy[csh, H2O, ponje, t2] (csh, H2O, ponje, t2) H2O\n",
      "making new at buy[H2O, ponje, t2] (H2O, ponje, t2) H2O\n",
      "making new at buy[CH4, net, t0] (CH4, net, t0) CH4\n",
      "making new at buy[CH4, net, t0] (CH4, net, t0) CH4\n",
      "making new at exp^buy[csh, CH4, cacoda, t0] (csh, CH4, cacoda, t0) CH4\n",
      "making new at buy[CH4, cacoda, t0] (CH4, cacoda, t0) CH4\n",
      "making new at exp^buy[csh, CH4, madgaon, t0] (csh, CH4, madgaon, t0) CH4\n",
      "making new at buy[CH4, madgaon, t0] (CH4, madgaon, t0) CH4\n",
      "making new at exp^buy[csh, CH4, ponje, t0] (csh, CH4, ponje, t0) CH4\n",
      "making new at buy[CH4, ponje, t0] (CH4, ponje, t0) CH4\n",
      "making new at exp^sell[csh, CO2_Vent, cacoda, t0] (csh, CO2_Vent, cacoda, t0) CO2_Vent\n",
      "making new at sell[CO2_Vent, cacoda, t0] (CO2_Vent, cacoda, t0) CO2_Vent\n",
      "making new at exp^sell[csh, CO2_Vent, madgaon, t0] (csh, CO2_Vent, madgaon, t0) CO2_Vent\n",
      "making new at sell[CO2_Vent, madgaon, t0] (CO2_Vent, madgaon, t0) CO2_Vent\n",
      "making new at exp^sell[csh, CO2_Vent, ponje, t0] (csh, CO2_Vent, ponje, t0) CO2_Vent\n",
      "making new at sell[CO2_Vent, ponje, t0] (CO2_Vent, ponje, t0) CO2_Vent\n",
      "making new at emit^sell[gwp, CO2_Vent, cacoda, t2] (gwp, CO2_Vent, cacoda, t2) CO2_Vent\n",
      "making new at sell[CO2_Vent, cacoda, t2] (CO2_Vent, cacoda, t2) CO2_Vent\n",
      "making new at emit^sell[gwp, CO2_Vent, madgaon, t2] (gwp, CO2_Vent, madgaon, t2) CO2_Vent\n",
      "making new at sell[CO2_Vent, madgaon, t2] (CO2_Vent, madgaon, t2) CO2_Vent\n",
      "making new at emit^sell[gwp, CO2_Vent, ponje, t2] (gwp, CO2_Vent, ponje, t2) CO2_Vent\n",
      "making new at sell[CO2_Vent, ponje, t2] (CO2_Vent, ponje, t2) CO2_Vent\n",
      "making new at sell[O2, net, t0] (O2, net, t0) O2\n",
      "making new at sell[O2, net, t0] (O2, net, t0) O2\n",
      "making new at buy[Power, net, t1] (Power, net, t1) Power\n",
      "making new at buy[Power, net, t1] (Power, net, t1) Power\n"
     ]
    },
    {
     "name": "stderr",
     "output_type": "stream",
     "text": [
      "c:\\Users\\cacodcar\\energiapy\\src\\energiapy\\model\\_ok.py:54: OverWriteWarning: \n",
      "A Power was already defined.\n",
      "Overwriting. Set Scenario.ok_overwrite=False, to enforce strictly\n",
      "This should not cause any modeling issues.\n",
      "Check Scenario defaults if unintended.\n",
      "Only one instance of Horizon, Network, Cash, and Land are allowed\n",
      "  warn(OverWriteWarning(cmp))\n"
     ]
    }
   ],
   "source": [
    "s.Solar = Resource(buy=True, basis='MW', label='Solar Power')\n",
    "\n",
    "\n",
    "s.Wind = Resource(buy=a, basis='MW', label='Wind Power')\n",
    "\n",
    "\n",
    "s.Power = Resource(basis='MW', label='Power generated')\n",
    "\n",
    "\n",
    "s.Uranium = Resource(\n",
    "    buy=DataFrame({'a': [i for i in range(24)]}),\n",
    "    price_buy=42.70 / (250 / 2),\n",
    "    basis='kg',\n",
    "    label='Uranium',\n",
    ")\n",
    "\n",
    "\n",
    "# s.H2_L = Resource(sell=(0, 23), basis='tons', label='Hydrogen')\n",
    "\n",
    "\n",
    "# s.CO2_AQoff = Resource(basis='tons', label='Carbon dioxide - sequestered')\n",
    "\n",
    "\n",
    "s.H2O = Resource(buy=(20, 50), price_buy=b, basis='tons', label='Water')\n",
    "\n",
    "\n",
    "s.CH4 = Resource(buy=[20, 40], price_buy=20, basis='tons', label='Natural gas')\n",
    "\n",
    "\n",
    "s.CO2 = Resource(basis='tons', label='Carbon dioxide', block='Resource')\n",
    "\n",
    "\n",
    "s.CO2_Vent = Resource(\n",
    "    basis='tons',\n",
    "    label='Carbon dioxide - Vented',\n",
    "    price_sell=(2, 20),\n",
    "    emission_sell={s.gwp: b},\n",
    ")\n",
    "\n",
    "\n",
    "s.O2 = Resource(sell=[20, True], basis='tons', label='Oxygen')\n",
    "\n",
    "\n",
    "s.CO2_DAC = Resource(basis='tons', label='Carbon dioxide - captured')\n",
    "s.Power = Resource(buy=[0, a], basis='MW', label='Power generated')"
   ]
  },
  {
   "cell_type": "code",
   "execution_count": 14,
   "metadata": {},
   "outputs": [
    {
     "data": {
      "text/latex": [
       "$\\displaystyle {spend}_{csh,madgaon,t_{0}} \\geq 0$"
      ],
      "text/plain": [
       "<IPython.core.display.Math object>"
      ]
     },
     "metadata": {},
     "output_type": "display_data"
    },
    {
     "data": {
      "text/latex": [
       "$\\displaystyle {spend}_{csh,madgaon,t_{0}} \\leq M$"
      ],
      "text/plain": [
       "<IPython.core.display.Math object>"
      ]
     },
     "metadata": {},
     "output_type": "display_data"
    },
    {
     "data": {
      "text/latex": [
       "$\\displaystyle {spend}_{csh,ponje,t_{1}} = {θ}_{csh,ponje,t_{1}}$"
      ],
      "text/plain": [
       "<IPython.core.display.Math object>"
      ]
     },
     "metadata": {},
     "output_type": "display_data"
    },
    {
     "data": {
      "text/latex": [
       "$\\displaystyle {spend}_{csh,cacoda,t_{1}} = {DtSt}_{csh,cacoda,t_{1}}$"
      ],
      "text/plain": [
       "<IPython.core.display.Math object>"
      ]
     },
     "metadata": {},
     "output_type": "display_data"
    },
    {
     "data": {
      "text/latex": [
       "$\\displaystyle {spend}_{csh,net,t_{2}} \\geq 5$"
      ],
      "text/plain": [
       "<IPython.core.display.Math object>"
      ]
     },
     "metadata": {},
     "output_type": "display_data"
    },
    {
     "data": {
      "text/latex": [
       "$\\displaystyle {spend}_{csh,net,t_{2}} \\leq 7$"
      ],
      "text/plain": [
       "<IPython.core.display.Math object>"
      ]
     },
     "metadata": {},
     "output_type": "display_data"
    },
    {
     "data": {
      "text/latex": [
       "$\\displaystyle {exp^{sell}}_{csh,H_{2},cacoda,t_{0}} = {sell}_{H_{2},cacoda,t_{0}} \\cdot 300$"
      ],
      "text/plain": [
       "<IPython.core.display.Math object>"
      ]
     },
     "metadata": {},
     "output_type": "display_data"
    },
    {
     "data": {
      "text/latex": [
       "$\\displaystyle {exp^{sell}}_{csh,H_{2},madgaon,t_{0}} = {sell}_{H_{2},madgaon,t_{0}} \\cdot 0$"
      ],
      "text/plain": [
       "<IPython.core.display.Math object>"
      ]
     },
     "metadata": {},
     "output_type": "display_data"
    },
    {
     "data": {
      "text/latex": [
       "$\\displaystyle {exp^{sell}}_{csh,H_{2},madgaon,t_{0}} = {sell}_{H_{2},madgaon,t_{0}} \\cdot M$"
      ],
      "text/plain": [
       "<IPython.core.display.Math object>"
      ]
     },
     "metadata": {},
     "output_type": "display_data"
    },
    {
     "data": {
      "text/latex": [
       "$\\displaystyle {exp^{sell}}_{csh,H_{2},ponje,t_{2}} = {sell}_{H_{2},ponje,t_{2}} \\cdot {θ}_{csh,H_{2},ponje,t_{2}}$"
      ],
      "text/plain": [
       "<IPython.core.display.Math object>"
      ]
     },
     "metadata": {},
     "output_type": "display_data"
    },
    {
     "data": {
      "text/latex": [
       "$\\displaystyle {buy}_{Solar,net,t_{0}} \\geq 0$"
      ],
      "text/plain": [
       "<IPython.core.display.Math object>"
      ]
     },
     "metadata": {},
     "output_type": "display_data"
    },
    {
     "data": {
      "text/latex": [
       "$\\displaystyle {buy}_{Solar,net,t_{0}} \\leq M$"
      ],
      "text/plain": [
       "<IPython.core.display.Math object>"
      ]
     },
     "metadata": {},
     "output_type": "display_data"
    },
    {
     "data": {
      "text/latex": [
       "$\\displaystyle {buy}_{Wind,net,t_{1}} = {DtSt}_{Wind,net,t_{1}}$"
      ],
      "text/plain": [
       "<IPython.core.display.Math object>"
      ]
     },
     "metadata": {},
     "output_type": "display_data"
    },
    {
     "data": {
      "text/latex": [
       "$\\displaystyle {buy}_{Power,net,t_{1}} \\geq 0$"
      ],
      "text/plain": [
       "<IPython.core.display.Math object>"
      ]
     },
     "metadata": {},
     "output_type": "display_data"
    },
    {
     "data": {
      "text/latex": [
       "$\\displaystyle {buy}_{Power,net,t_{1}} \\leq {DtSt^{max}}_{Power,net,t_{1}}$"
      ],
      "text/plain": [
       "<IPython.core.display.Math object>"
      ]
     },
     "metadata": {},
     "output_type": "display_data"
    },
    {
     "data": {
      "text/latex": [
       "$\\displaystyle {buy}_{Uranium,net,t_{2}} = {DtSt}_{Uranium,net,t_{2}}$"
      ],
      "text/plain": [
       "<IPython.core.display.Math object>"
      ]
     },
     "metadata": {},
     "output_type": "display_data"
    },
    {
     "data": {
      "text/latex": [
       "$\\displaystyle {exp^{buy}}_{csh,Uranium,cacoda,t_{0}} = {buy}_{Uranium,cacoda,t_{0}} \\cdot 0.3416$"
      ],
      "text/plain": [
       "<IPython.core.display.Math object>"
      ]
     },
     "metadata": {},
     "output_type": "display_data"
    },
    {
     "data": {
      "text/latex": [
       "$\\displaystyle {exp^{buy}}_{csh,Uranium,madgaon,t_{0}} = {buy}_{Uranium,madgaon,t_{0}} \\cdot 0.3416$"
      ],
      "text/plain": [
       "<IPython.core.display.Math object>"
      ]
     },
     "metadata": {},
     "output_type": "display_data"
    },
    {
     "data": {
      "text/latex": [
       "$\\displaystyle {exp^{buy}}_{csh,Uranium,ponje,t_{0}} = {buy}_{Uranium,ponje,t_{0}} \\cdot 0.3416$"
      ],
      "text/plain": [
       "<IPython.core.display.Math object>"
      ]
     },
     "metadata": {},
     "output_type": "display_data"
    },
    {
     "data": {
      "text/latex": [
       "$\\displaystyle {buy}_{H2O,net,t_{0}} = {θ}_{H2O,net,t_{0}}$"
      ],
      "text/plain": [
       "<IPython.core.display.Math object>"
      ]
     },
     "metadata": {},
     "output_type": "display_data"
    },
    {
     "data": {
      "text/latex": [
       "$\\displaystyle {exp^{buy}}_{csh,H2O,cacoda,t_{2}} = {DtSt}_{csh,H2O,cacoda,t_{2}} \\cdot {buy}_{H2O,cacoda,t_{2}}$"
      ],
      "text/plain": [
       "<IPython.core.display.Math object>"
      ]
     },
     "metadata": {},
     "output_type": "display_data"
    },
    {
     "data": {
      "text/latex": [
       "$\\displaystyle {exp^{buy}}_{csh,H2O,madgaon,t_{2}} = {DtSt}_{csh,H2O,madgaon,t_{2}} \\cdot {buy}_{H2O,madgaon,t_{2}}$"
      ],
      "text/plain": [
       "<IPython.core.display.Math object>"
      ]
     },
     "metadata": {},
     "output_type": "display_data"
    },
    {
     "data": {
      "text/latex": [
       "$\\displaystyle {exp^{buy}}_{csh,H2O,ponje,t_{2}} = {DtSt}_{csh,H2O,ponje,t_{2}} \\cdot {buy}_{H2O,ponje,t_{2}}$"
      ],
      "text/plain": [
       "<IPython.core.display.Math object>"
      ]
     },
     "metadata": {},
     "output_type": "display_data"
    },
    {
     "data": {
      "text/latex": [
       "$\\displaystyle {buy}_{CH_{4},net,t_{0}} \\geq 20$"
      ],
      "text/plain": [
       "<IPython.core.display.Math object>"
      ]
     },
     "metadata": {},
     "output_type": "display_data"
    },
    {
     "data": {
      "text/latex": [
       "$\\displaystyle {buy}_{CH_{4},net,t_{0}} \\leq 40$"
      ],
      "text/plain": [
       "<IPython.core.display.Math object>"
      ]
     },
     "metadata": {},
     "output_type": "display_data"
    },
    {
     "data": {
      "text/latex": [
       "$\\displaystyle {exp^{buy}}_{csh,CH_{4},cacoda,t_{0}} = {buy}_{CH_{4},cacoda,t_{0}} \\cdot 20$"
      ],
      "text/plain": [
       "<IPython.core.display.Math object>"
      ]
     },
     "metadata": {},
     "output_type": "display_data"
    },
    {
     "data": {
      "text/latex": [
       "$\\displaystyle {exp^{buy}}_{csh,CH_{4},madgaon,t_{0}} = {buy}_{CH_{4},madgaon,t_{0}} \\cdot 20$"
      ],
      "text/plain": [
       "<IPython.core.display.Math object>"
      ]
     },
     "metadata": {},
     "output_type": "display_data"
    },
    {
     "data": {
      "text/latex": [
       "$\\displaystyle {exp^{buy}}_{csh,CH_{4},ponje,t_{0}} = {buy}_{CH_{4},ponje,t_{0}} \\cdot 20$"
      ],
      "text/plain": [
       "<IPython.core.display.Math object>"
      ]
     },
     "metadata": {},
     "output_type": "display_data"
    },
    {
     "data": {
      "text/latex": [
       "$\\displaystyle {exp^{sell}}_{csh,CO_{2 Vent},cacoda,t_{0}} = {sell}_{CO_{2 Vent},cacoda,t_{0}} \\cdot {θ}_{csh,CO_{2 Vent},cacoda,t_{0}}$"
      ],
      "text/plain": [
       "<IPython.core.display.Math object>"
      ]
     },
     "metadata": {},
     "output_type": "display_data"
    },
    {
     "data": {
      "text/latex": [
       "$\\displaystyle {exp^{sell}}_{csh,CO_{2 Vent},madgaon,t_{0}} = {sell}_{CO_{2 Vent},madgaon,t_{0}} \\cdot {θ}_{csh,CO_{2 Vent},madgaon,t_{0}}$"
      ],
      "text/plain": [
       "<IPython.core.display.Math object>"
      ]
     },
     "metadata": {},
     "output_type": "display_data"
    },
    {
     "data": {
      "text/latex": [
       "$\\displaystyle {exp^{sell}}_{csh,CO_{2 Vent},ponje,t_{0}} = {sell}_{CO_{2 Vent},ponje,t_{0}} \\cdot {θ}_{csh,CO_{2 Vent},ponje,t_{0}}$"
      ],
      "text/plain": [
       "<IPython.core.display.Math object>"
      ]
     },
     "metadata": {},
     "output_type": "display_data"
    },
    {
     "data": {
      "text/latex": [
       "$\\displaystyle {emit^{sell}}_{gwp,CO_{2 Vent},cacoda,t_{2}} = {DtSt}_{gwp,CO_{2 Vent},cacoda,t_{2}} \\cdot {sell}_{CO_{2 Vent},cacoda,t_{2}}$"
      ],
      "text/plain": [
       "<IPython.core.display.Math object>"
      ]
     },
     "metadata": {},
     "output_type": "display_data"
    },
    {
     "data": {
      "text/latex": [
       "$\\displaystyle {emit^{sell}}_{gwp,CO_{2 Vent},madgaon,t_{2}} = {DtSt}_{gwp,CO_{2 Vent},madgaon,t_{2}} \\cdot {sell}_{CO_{2 Vent},madgaon,t_{2}}$"
      ],
      "text/plain": [
       "<IPython.core.display.Math object>"
      ]
     },
     "metadata": {},
     "output_type": "display_data"
    },
    {
     "data": {
      "text/latex": [
       "$\\displaystyle {emit^{sell}}_{gwp,CO_{2 Vent},ponje,t_{2}} = {DtSt}_{gwp,CO_{2 Vent},ponje,t_{2}} \\cdot {sell}_{CO_{2 Vent},ponje,t_{2}}$"
      ],
      "text/plain": [
       "<IPython.core.display.Math object>"
      ]
     },
     "metadata": {},
     "output_type": "display_data"
    },
    {
     "data": {
      "text/latex": [
       "$\\displaystyle {sell}_{O_{2},net,t_{0}} \\geq 20$"
      ],
      "text/plain": [
       "<IPython.core.display.Math object>"
      ]
     },
     "metadata": {},
     "output_type": "display_data"
    },
    {
     "data": {
      "text/latex": [
       "$\\displaystyle {sell}_{O_{2},net,t_{0}} \\leq M$"
      ],
      "text/plain": [
       "<IPython.core.display.Math object>"
      ]
     },
     "metadata": {},
     "output_type": "display_data"
    }
   ],
   "source": [
    "s.pprint()"
   ]
  },
  {
   "cell_type": "code",
   "execution_count": 15,
   "metadata": {},
   "outputs": [
    {
     "name": "stdout",
     "output_type": "stream",
     "text": [
      "making new at use[LiR, ponje, t0] (LiR, ponje, t0) LiR\n",
      "making new at emit^use[gwp, LiR, cacoda, t0] (gwp, LiR, cacoda, t0) LiR\n",
      "making new at use[LiR, cacoda, t0] (LiR, cacoda, t0) LiR\n",
      "making new at emit^use[gwp, LiR, madgaon, t0] (gwp, LiR, madgaon, t0) LiR\n",
      "making new at use[LiR, madgaon, t0] (LiR, madgaon, t0) LiR\n",
      "making new at emit^use[gwp, LiR, ponje, t0] (gwp, LiR, ponje, t0) LiR\n",
      "making new at use[LiR, ponje, t0] (LiR, ponje, t0) LiR\n"
     ]
    }
   ],
   "source": [
    "s.LiR = Material(\n",
    "    emission_use={s.gwp: {s.t2: 1.484}},\n",
    "    use={s.ponje: 1.5},\n",
    "    basis='kg',\n",
    "    label='Lithium Reserves',\n",
    "    citation='Nelson Bunyui Manjong (2021)',\n",
    ")"
   ]
  },
  {
   "cell_type": "code",
   "execution_count": 16,
   "metadata": {},
   "outputs": [
    {
     "data": {
      "text/latex": [
       "$\\displaystyle {use}_{LiR,ponje,t_{0}} = 1.5$"
      ],
      "text/plain": [
       "<IPython.core.display.Math object>"
      ]
     },
     "metadata": {},
     "output_type": "display_data"
    },
    {
     "data": {
      "text/latex": [
       "$\\displaystyle {emit^{use}}_{gwp,LiR,cacoda,t_{0}} = {use}_{LiR,cacoda,t_{0}} \\cdot 1.484$"
      ],
      "text/plain": [
       "<IPython.core.display.Math object>"
      ]
     },
     "metadata": {},
     "output_type": "display_data"
    },
    {
     "data": {
      "text/latex": [
       "$\\displaystyle {emit^{use}}_{gwp,LiR,madgaon,t_{0}} = {use}_{LiR,madgaon,t_{0}} \\cdot 1.484$"
      ],
      "text/plain": [
       "<IPython.core.display.Math object>"
      ]
     },
     "metadata": {},
     "output_type": "display_data"
    },
    {
     "data": {
      "text/latex": [
       "$\\displaystyle {emit^{use}}_{gwp,LiR,ponje,t_{0}} = {use}_{LiR,ponje,t_{0}} \\cdot 1.484$"
      ],
      "text/plain": [
       "<IPython.core.display.Math object>"
      ]
     },
     "metadata": {},
     "output_type": "display_data"
    }
   ],
   "source": [
    "s.LiR.pprint()"
   ]
  },
  {
   "cell_type": "code",
   "execution_count": 17,
   "metadata": {},
   "outputs": [
    {
     "name": "stdout",
     "output_type": "stream",
     "text": [
      "making new at capacity[WF, net, t0] (WF, net, t0) WF\n",
      "making new at operate[WF, net, t0] (WF, net, t0) WF\n",
      "making new at capacity[WF, net, t0] (WF, net, t0) WF\n",
      "making new at operate[WF, net, t0] (WF, net, t0) WF\n",
      "making new at capacity[WF, net, t0] (WF, net, t0) WF\n",
      "making new at use^setup[lnd_def, WF, cacoda, t0] (lnd_def, WF, cacoda, t0) WF\n",
      "making new at capacity[WF, cacoda, t0] (WF, cacoda, t0) WF\n",
      "making new at use^setup[lnd_def, WF, madgaon, t0] (lnd_def, WF, madgaon, t0) WF\n",
      "making new at capacity[WF, madgaon, t0] (WF, madgaon, t0) WF\n",
      "making new at use^setup[lnd_def, WF, ponje, t0] (lnd_def, WF, ponje, t0) WF\n",
      "making new at capacity[WF, ponje, t0] (WF, ponje, t0) WF\n",
      "making new at use^setup[LiR, WF, cacoda, t0] (LiR, WF, cacoda, t0) WF\n",
      "making new at capacity[WF, cacoda, t0] (WF, cacoda, t0) WF\n",
      "making new at use^setup[LiR, WF, madgaon, t0] (LiR, WF, madgaon, t0) WF\n",
      "making new at capacity[WF, madgaon, t0] (WF, madgaon, t0) WF\n",
      "making new at use^setup[LiR, WF, ponje, t0] (LiR, WF, ponje, t0) WF\n",
      "making new at capacity[WF, ponje, t0] (WF, ponje, t0) WF\n",
      "making new at emit^setup[gwp, WF, cacoda, t0] (gwp, WF, cacoda, t0) WF\n",
      "making new at capacity[WF, cacoda, t0] (WF, cacoda, t0) WF\n",
      "making new at emit^setup[gwp, WF, madgaon, t0] (gwp, WF, madgaon, t0) WF\n",
      "making new at capacity[WF, madgaon, t0] (WF, madgaon, t0) WF\n",
      "making new at emit^setup[gwp, WF, ponje, t0] (gwp, WF, ponje, t0) WF\n",
      "making new at capacity[WF, ponje, t0] (WF, ponje, t0) WF\n",
      "making new at emit^setup[odp, WF, cacoda, t0] (odp, WF, cacoda, t0) WF\n",
      "making new at capacity[WF, cacoda, t0] (WF, cacoda, t0) WF\n",
      "making new at emit^setup[odp, WF, madgaon, t0] (odp, WF, madgaon, t0) WF\n",
      "making new at capacity[WF, madgaon, t0] (WF, madgaon, t0) WF\n",
      "making new at emit^setup[odp, WF, ponje, t0] (odp, WF, ponje, t0) WF\n",
      "making new at capacity[WF, ponje, t0] (WF, ponje, t0) WF\n",
      "making new at capex[csh, WF, madgaon, t1] (csh, WF, madgaon, t1) WF\n",
      "making new at capacity[WF, madgaon, t1] (WF, madgaon, t1) WF\n",
      "making new at capex^I[csh, WF, madgaon, t1] (csh, WF, madgaon, t1) WF\n",
      "making new at opex[csh, WF, cacoda, t0] (csh, WF, cacoda, t0) WF\n",
      "making new at operate[WF, cacoda, t0] (WF, cacoda, t0) WF\n",
      "making new at opex^I[csh, WF, cacoda, t0] (csh, WF, cacoda, t0) WF\n",
      "making new at opex^I[csh, WF, madgaon, t0] (csh, WF, madgaon, t0) WF\n",
      "making new at opex[csh, WF, madgaon, t0] (csh, WF, madgaon, t0) WF\n",
      "making new at operate[WF, madgaon, t0] (WF, madgaon, t0) WF\n",
      "making new at opex^I[csh, WF, ponje, t0] (csh, WF, ponje, t0) WF\n",
      "making new at opex[csh, WF, ponje, t0] (csh, WF, ponje, t0) WF\n",
      "making new at operate[WF, ponje, t0] (WF, ponje, t0) WF\n",
      "making new at capacity[PV, net, t0] (PV, net, t0) PV\n",
      "making new at capex[csh, PV, cacoda, t0] (csh, PV, cacoda, t0) PV\n",
      "making new at capacity[PV, cacoda, t0] (PV, cacoda, t0) PV\n",
      "making new at capex[csh, PV, madgaon, t0] (csh, PV, madgaon, t0) PV\n",
      "making new at capacity[PV, madgaon, t0] (PV, madgaon, t0) PV\n",
      "making new at capex[csh, PV, ponje, t0] (csh, PV, ponje, t0) PV\n",
      "making new at capacity[PV, ponje, t0] (PV, ponje, t0) PV\n",
      "making new at opex[csh, PV, cacoda, t0] (csh, PV, cacoda, t0) PV\n",
      "making new at operate[PV, cacoda, t0] (PV, cacoda, t0) PV\n",
      "making new at opex[csh, PV, madgaon, t0] (csh, PV, madgaon, t0) PV\n",
      "making new at operate[PV, madgaon, t0] (PV, madgaon, t0) PV\n",
      "making new at opex[csh, PV, ponje, t0] (csh, PV, ponje, t0) PV\n",
      "making new at operate[PV, ponje, t0] (PV, ponje, t0) PV\n",
      "making new at exp^sell[csh, Power, PV, cacoda, t0] (csh, Power, PV, cacoda, t0) PV\n",
      "making new at sell[Power, PV, cacoda, t0] (Power, PV, cacoda, t0) PV\n",
      "making new at exp^sell[csh, Power, PV, madgaon, t0] (csh, Power, PV, madgaon, t0) PV\n",
      "making new at sell[Power, PV, madgaon, t0] (Power, PV, madgaon, t0) PV\n",
      "making new at exp^sell[csh, Power, PV, ponje, t0] (csh, Power, PV, ponje, t0) PV\n",
      "making new at sell[Power, PV, ponje, t0] (Power, PV, ponje, t0) PV\n",
      "making new at credit[csh, Power, PV, cacoda, t0] (csh, Power, PV, cacoda, t0) PV\n",
      "making new at sell[Power, PV, cacoda, t0] (Power, PV, cacoda, t0) PV\n",
      "making new at credit[csh, Power, PV, madgaon, t0] (csh, Power, PV, madgaon, t0) PV\n",
      "making new at sell[Power, PV, madgaon, t0] (Power, PV, madgaon, t0) PV\n",
      "making new at credit[csh, Power, PV, ponje, t0] (csh, Power, PV, ponje, t0) PV\n",
      "making new at sell[Power, PV, ponje, t0] (Power, PV, ponje, t0) PV\n",
      "making new at capacity[SMRH, net, t0] (SMRH, net, t0) SMRH\n",
      "making new at capacity[SMRH, net, t0] (SMRH, net, t0) SMRH\n",
      "making new at use^setup[lnd_def, SMRH, cacoda, t0] (lnd_def, SMRH, cacoda, t0) SMRH\n",
      "making new at capacity[SMRH, cacoda, t0] (SMRH, cacoda, t0) SMRH\n",
      "making new at use^setup[lnd_def, SMRH, madgaon, t0] (lnd_def, SMRH, madgaon, t0) SMRH\n",
      "making new at capacity[SMRH, madgaon, t0] (SMRH, madgaon, t0) SMRH\n",
      "making new at use^setup[lnd_def, SMRH, ponje, t0] (lnd_def, SMRH, ponje, t0) SMRH\n",
      "making new at capacity[SMRH, ponje, t0] (SMRH, ponje, t0) SMRH\n",
      "making new at capex[csh, SMRH, cacoda, t0] (csh, SMRH, cacoda, t0) SMRH\n",
      "making new at capacity[SMRH, cacoda, t0] (SMRH, cacoda, t0) SMRH\n",
      "making new at capex[csh, SMRH, madgaon, t0] (csh, SMRH, madgaon, t0) SMRH\n",
      "making new at capacity[SMRH, madgaon, t0] (SMRH, madgaon, t0) SMRH\n",
      "making new at capex[csh, SMRH, ponje, t0] (csh, SMRH, ponje, t0) SMRH\n",
      "making new at capacity[SMRH, ponje, t0] (SMRH, ponje, t0) SMRH\n",
      "making new at opex^I[csh, SMRH, cacoda, t0] (csh, SMRH, cacoda, t0) SMRH\n",
      "making new at opex[csh, SMRH, cacoda, t0] (csh, SMRH, cacoda, t0) SMRH\n",
      "making new at operate[SMRH, cacoda, t0] (SMRH, cacoda, t0) SMRH\n",
      "making new at opex[csh, SMRH, madgaon, t0] (csh, SMRH, madgaon, t0) SMRH\n",
      "making new at operate[SMRH, madgaon, t0] (SMRH, madgaon, t0) SMRH\n",
      "making new at opex^I[csh, SMRH, madgaon, t0] (csh, SMRH, madgaon, t0) SMRH\n",
      "making new at opex^I[csh, SMRH, ponje, t0] (csh, SMRH, ponje, t0) SMRH\n",
      "making new at opex[csh, SMRH, ponje, t0] (csh, SMRH, ponje, t0) SMRH\n",
      "making new at operate[SMRH, ponje, t0] (SMRH, ponje, t0) SMRH\n",
      "making new at capacity[NGCC, net, t0] (NGCC, net, t0) NGCC\n",
      "making new at capacity[NGCC, net, t0] (NGCC, net, t0) NGCC\n",
      "making new at capex[csh, NGCC, cacoda, t0] (csh, NGCC, cacoda, t0) NGCC\n",
      "making new at capacity[NGCC, cacoda, t0] (NGCC, cacoda, t0) NGCC\n",
      "making new at capex[csh, NGCC, madgaon, t0] (csh, NGCC, madgaon, t0) NGCC\n",
      "making new at capacity[NGCC, madgaon, t0] (NGCC, madgaon, t0) NGCC\n",
      "making new at capex[csh, NGCC, ponje, t0] (csh, NGCC, ponje, t0) NGCC\n",
      "making new at capacity[NGCC, ponje, t0] (NGCC, ponje, t0) NGCC\n",
      "making new at opex^I[csh, NGCC, cacoda, t0] (csh, NGCC, cacoda, t0) NGCC\n",
      "making new at opex[csh, NGCC, cacoda, t0] (csh, NGCC, cacoda, t0) NGCC\n",
      "making new at operate[NGCC, cacoda, t0] (NGCC, cacoda, t0) NGCC\n",
      "making new at opex^I[csh, NGCC, madgaon, t0] (csh, NGCC, madgaon, t0) NGCC\n",
      "making new at opex[csh, NGCC, madgaon, t0] (csh, NGCC, madgaon, t0) NGCC\n",
      "making new at operate[NGCC, madgaon, t0] (NGCC, madgaon, t0) NGCC\n",
      "making new at opex^I[csh, NGCC, ponje, t0] (csh, NGCC, ponje, t0) NGCC\n",
      "making new at opex[csh, NGCC, ponje, t0] (csh, NGCC, ponje, t0) NGCC\n",
      "making new at operate[NGCC, ponje, t0] (NGCC, ponje, t0) NGCC\n",
      "making new at exp^buy[csh, CH4, NGCC, cacoda, t0] (csh, CH4, NGCC, cacoda, t0) NGCC\n",
      "making new at buy[CH4, NGCC, cacoda, t0] (CH4, NGCC, cacoda, t0) NGCC\n",
      "making new at exp^buy[csh, CH4, NGCC, madgaon, t0] (csh, CH4, NGCC, madgaon, t0) NGCC\n",
      "making new at buy[CH4, NGCC, madgaon, t0] (CH4, NGCC, madgaon, t0) NGCC\n",
      "making new at exp^buy[csh, CH4, NGCC, ponje, t0] (csh, CH4, NGCC, ponje, t0) NGCC\n",
      "making new at buy[CH4, NGCC, ponje, t0] (CH4, NGCC, ponje, t0) NGCC\n",
      "making new at exp^buy[csh, H2O, NGCC, cacoda, t0] (csh, H2O, NGCC, cacoda, t0) NGCC\n",
      "making new at buy[H2O, NGCC, cacoda, t0] (H2O, NGCC, cacoda, t0) NGCC\n",
      "making new at exp^buy[csh, H2O, NGCC, madgaon, t0] (csh, H2O, NGCC, madgaon, t0) NGCC\n",
      "making new at buy[H2O, NGCC, madgaon, t0] (H2O, NGCC, madgaon, t0) NGCC\n",
      "making new at exp^buy[csh, H2O, NGCC, ponje, t0] (csh, H2O, NGCC, ponje, t0) NGCC\n",
      "making new at buy[H2O, NGCC, ponje, t0] (H2O, NGCC, ponje, t0) NGCC\n",
      "making new at capacity[SMR, net, t0] (SMR, net, t0) SMR\n",
      "making new at capex[csh, SMR, cacoda, t0] (csh, SMR, cacoda, t0) SMR\n",
      "making new at capacity[SMR, cacoda, t0] (SMR, cacoda, t0) SMR\n",
      "making new at capex[csh, SMR, madgaon, t0] (csh, SMR, madgaon, t0) SMR\n",
      "making new at capacity[SMR, madgaon, t0] (SMR, madgaon, t0) SMR\n",
      "making new at capex[csh, SMR, ponje, t0] (csh, SMR, ponje, t0) SMR\n",
      "making new at capacity[SMR, ponje, t0] (SMR, ponje, t0) SMR\n",
      "making new at opex[csh, SMR, cacoda, t0] (csh, SMR, cacoda, t0) SMR\n",
      "making new at operate[SMR, cacoda, t0] (SMR, cacoda, t0) SMR\n",
      "making new at opex^I[csh, SMR, cacoda, t0] (csh, SMR, cacoda, t0) SMR\n",
      "making new at opex^I[csh, SMR, madgaon, t0] (csh, SMR, madgaon, t0) SMR\n",
      "making new at opex[csh, SMR, madgaon, t0] (csh, SMR, madgaon, t0) SMR\n",
      "making new at operate[SMR, madgaon, t0] (SMR, madgaon, t0) SMR\n",
      "making new at opex[csh, SMR, ponje, t0] (csh, SMR, ponje, t0) SMR\n",
      "making new at operate[SMR, ponje, t0] (SMR, ponje, t0) SMR\n",
      "making new at opex^I[csh, SMR, ponje, t0] (csh, SMR, ponje, t0) SMR\n",
      "making new at capacity[H2FC, net, t0] (H2FC, net, t0) H2FC\n",
      "making new at capacity[H2FC, net, t0] (H2FC, net, t0) H2FC\n",
      "making new at capex[csh, H2FC, cacoda, t0] (csh, H2FC, cacoda, t0) H2FC\n",
      "making new at capacity[H2FC, cacoda, t0] (H2FC, cacoda, t0) H2FC\n",
      "making new at capex[csh, H2FC, madgaon, t0] (csh, H2FC, madgaon, t0) H2FC\n",
      "making new at capacity[H2FC, madgaon, t0] (H2FC, madgaon, t0) H2FC\n",
      "making new at capex[csh, H2FC, ponje, t0] (csh, H2FC, ponje, t0) H2FC\n",
      "making new at capacity[H2FC, ponje, t0] (H2FC, ponje, t0) H2FC\n",
      "making new at opex[csh, H2FC, cacoda, t0] (csh, H2FC, cacoda, t0) H2FC\n",
      "making new at operate[H2FC, cacoda, t0] (H2FC, cacoda, t0) H2FC\n",
      "making new at opex[csh, H2FC, madgaon, t0] (csh, H2FC, madgaon, t0) H2FC\n",
      "making new at operate[H2FC, madgaon, t0] (H2FC, madgaon, t0) H2FC\n",
      "making new at opex[csh, H2FC, ponje, t0] (csh, H2FC, ponje, t0) H2FC\n",
      "making new at operate[H2FC, ponje, t0] (H2FC, ponje, t0) H2FC\n",
      "making new at exp^buy[csh, H2, H2FC, cacoda, t0] (csh, H2, H2FC, cacoda, t0) H2FC\n",
      "making new at buy[H2, H2FC, cacoda, t0] (H2, H2FC, cacoda, t0) H2FC\n",
      "making new at exp^buy[csh, H2, H2FC, madgaon, t0] (csh, H2, H2FC, madgaon, t0) H2FC\n",
      "making new at buy[H2, H2FC, madgaon, t0] (H2, H2FC, madgaon, t0) H2FC\n",
      "making new at exp^buy[csh, H2, H2FC, ponje, t0] (csh, H2, H2FC, ponje, t0) H2FC\n",
      "making new at buy[H2, H2FC, ponje, t0] (H2, H2FC, ponje, t0) H2FC\n",
      "making new at sell[Power, H2FC, net, t0] (Power, H2FC, net, t0) H2FC\n",
      "making new at capacity[DAC, net, t0] (DAC, net, t0) DAC\n",
      "making new at capex[csh, DAC, cacoda, t0] (csh, DAC, cacoda, t0) DAC\n",
      "making new at capacity[DAC, cacoda, t0] (DAC, cacoda, t0) DAC\n",
      "making new at capex[csh, DAC, madgaon, t0] (csh, DAC, madgaon, t0) DAC\n",
      "making new at capacity[DAC, madgaon, t0] (DAC, madgaon, t0) DAC\n",
      "making new at capex[csh, DAC, ponje, t0] (csh, DAC, ponje, t0) DAC\n",
      "making new at capacity[DAC, ponje, t0] (DAC, ponje, t0) DAC\n",
      "making new at opex[csh, DAC, cacoda, t0] (csh, DAC, cacoda, t0) DAC\n",
      "making new at operate[DAC, cacoda, t0] (DAC, cacoda, t0) DAC\n",
      "making new at opex[csh, DAC, madgaon, t0] (csh, DAC, madgaon, t0) DAC\n",
      "making new at operate[DAC, madgaon, t0] (DAC, madgaon, t0) DAC\n",
      "making new at opex[csh, DAC, ponje, t0] (csh, DAC, ponje, t0) DAC\n",
      "making new at operate[DAC, ponje, t0] (DAC, ponje, t0) DAC\n",
      "making new at capacity[ASMR, net, t0] (ASMR, net, t0) ASMR\n",
      "making new at capex[csh, ASMR, cacoda, t0] (csh, ASMR, cacoda, t0) ASMR\n",
      "making new at capacity[ASMR, cacoda, t0] (ASMR, cacoda, t0) ASMR\n",
      "making new at capex[csh, ASMR, madgaon, t0] (csh, ASMR, madgaon, t0) ASMR\n",
      "making new at capacity[ASMR, madgaon, t0] (ASMR, madgaon, t0) ASMR\n",
      "making new at capex[csh, ASMR, ponje, t0] (csh, ASMR, ponje, t0) ASMR\n",
      "making new at capacity[ASMR, ponje, t0] (ASMR, ponje, t0) ASMR\n",
      "making new at opex^I[csh, ASMR, cacoda, t0] (csh, ASMR, cacoda, t0) ASMR\n",
      "making new at opex^I[csh, ASMR, madgaon, t0] (csh, ASMR, madgaon, t0) ASMR\n",
      "making new at opex^I[csh, ASMR, ponje, t0] (csh, ASMR, ponje, t0) ASMR\n",
      "making new at buy[Uranium, ASMR, net, t0] (Uranium, ASMR, net, t0) ASMR\n",
      "making new at capacity[AWE, net, t0] (AWE, net, t0) AWE\n",
      "making new at capacity[AWE, net, t0] (AWE, net, t0) AWE\n",
      "making new at use^setup[lnd_def, AWE, cacoda, t0] (lnd_def, AWE, cacoda, t0) AWE\n",
      "making new at capacity[AWE, cacoda, t0] (AWE, cacoda, t0) AWE\n",
      "making new at use^setup[lnd_def, AWE, madgaon, t0] (lnd_def, AWE, madgaon, t0) AWE\n",
      "making new at capacity[AWE, madgaon, t0] (AWE, madgaon, t0) AWE\n",
      "making new at use^setup[lnd_def, AWE, ponje, t0] (lnd_def, AWE, ponje, t0) AWE\n",
      "making new at capacity[AWE, ponje, t0] (AWE, ponje, t0) AWE\n",
      "making new at capex^I[csh, AWE, cacoda, t0] (csh, AWE, cacoda, t0) AWE\n",
      "making new at capex[csh, AWE, cacoda, t0] (csh, AWE, cacoda, t0) AWE\n",
      "making new at capacity[AWE, cacoda, t0] (AWE, cacoda, t0) AWE\n",
      "making new at capex^I[csh, AWE, madgaon, t0] (csh, AWE, madgaon, t0) AWE\n",
      "making new at capex[csh, AWE, madgaon, t0] (csh, AWE, madgaon, t0) AWE\n",
      "making new at capacity[AWE, madgaon, t0] (AWE, madgaon, t0) AWE\n",
      "making new at capex[csh, AWE, ponje, t0] (csh, AWE, ponje, t0) AWE\n",
      "making new at capacity[AWE, ponje, t0] (AWE, ponje, t0) AWE\n",
      "making new at capex^I[csh, AWE, ponje, t0] (csh, AWE, ponje, t0) AWE\n",
      "making new at opex^I[csh, AWE, cacoda, t0] (csh, AWE, cacoda, t0) AWE\n",
      "making new at opex^I[csh, AWE, madgaon, t0] (csh, AWE, madgaon, t0) AWE\n",
      "making new at opex^I[csh, AWE, ponje, t0] (csh, AWE, ponje, t0) AWE\n"
     ]
    }
   ],
   "source": [
    "s.WF = Process(\n",
    "    conversion={s.Power: {X(0): {s.Wind: -1}, X(1): {s.Wind: -1}}},\n",
    "    produce=[(0, 3), (3, 5)],\n",
    "    capex={s.madgaon: {s.t1: {1462000, I(202233)}}},\n",
    "    opex={4953, I(70)},\n",
    "    capacity=1000,\n",
    "    emission_setup={s.gwp: 50, s.odp: 2900},\n",
    "    use_material={s.LiR: 1.5},\n",
    "    locations=[s.madgaon, s.ponje],\n",
    "    use_land=30,\n",
    "    label='Wind mill array',\n",
    "    basis='MW',\n",
    ")\n",
    "\n",
    "\n",
    "s.PV = Process(\n",
    "    price_sell={s.Power: 30},\n",
    "    credit={s.Power: DataFrame({'a': [2]})},\n",
    "    conversion={s.Power: {X(1): {s.Solar: -1.2}, X(2): {s.Solar: -1.5}}},\n",
    "    capex={X(0): 1333, X(1): 1444, X(2): 1555},\n",
    "    opex=22623,\n",
    "    capacity={X(0): 3000, X(1): 4000, X(2): 5000},\n",
    "    locations=s.cacoda,\n",
    "    label='Solar PV',\n",
    "    basis='MW',\n",
    ")\n",
    "\n",
    "\n",
    "s.SMRH = Process(\n",
    "    use_land=50,\n",
    "    conversion={\n",
    "        s.H2: {\n",
    "            s.Power: -1.11,\n",
    "            s.CH4: -3.76,\n",
    "            s.H2O: -23.7,\n",
    "            s.CO2_Vent: 1.03,\n",
    "            s.CO2: 9.332,\n",
    "        }\n",
    "    },\n",
    "    capex={\n",
    "        2520000,\n",
    "    },\n",
    "    opex={51.5, I(945000)},\n",
    "    capacity=[1000],\n",
    "    label='Steam methane reforming + CCUS',\n",
    ")\n",
    "\n",
    "s.NGCC = Process(\n",
    "    price_buy={s.CH4: 4, s.H2O: 20},\n",
    "    conversion={\n",
    "        s.Power: {\n",
    "            s.CH4: -0.108,\n",
    "            s.H2O: -10,\n",
    "            s.CO2_Vent: 0.297 * 0.05,\n",
    "            s.CO2: 0.297 * 0.95,\n",
    "        }\n",
    "    },\n",
    "    capex=2158928,\n",
    "    opex={4090, I(53320)},\n",
    "    capacity=[1, 100],\n",
    "    label='NGCC + 95% CC',\n",
    ")\n",
    "s.SMR = Process(\n",
    "    capex=2400,\n",
    "    opex={0.03, I(800)},\n",
    "    conversion={s.H2: {s.Power: -1.11, s.CH4: -3.76, s.H2O: -23.7, s.CO2_Vent: 9.4979}},\n",
    "    capacity=1000,\n",
    "    label='Steam methane reforming',\n",
    ")\n",
    "s.H2FC = Process(\n",
    "    price_buy={s.H2: 2},\n",
    "    sell={s.Power: 20},\n",
    "    conversion={s.Power: {s.H2: -0.050}},\n",
    "    capex=1.6 * 10**6,\n",
    "    opex=3.5,\n",
    "    capacity=[1000, 2000],\n",
    "    label='hydrogen fuel cell',\n",
    ")\n",
    "s.DAC = Process(\n",
    "    capex=0.02536,\n",
    "    opex=0.634,\n",
    "    conversion={s.CO2_DAC: {s.Power: -0.193, s.H2O: -4.048}},\n",
    "    capacity=1000,\n",
    "    label='Direct air capture',\n",
    ")\n",
    "# s.PSH = Process(conversion = {s.Power: 0.6}, capex = 3924781, fopex= 17820, vopex = 512.5, store = 10000, capacity=1000, label='Pumped storage hydropower', basis = 'MW')\n",
    "s.ASMR = Process(\n",
    "    buy={s.Uranium: 40},\n",
    "    conversion={s.Power: {s.Uranium: -4.17 * 10 ** (-5), s.H2O: -3.364}},\n",
    "    capex=7988951,\n",
    "    opex=I(0.04 * 0.730),\n",
    "    capacity=1000,\n",
    "    label='Small modular reactors (SMRs)',\n",
    "    locations=s.madgaon,\n",
    ")\n",
    "s.AWE = Process(\n",
    "    use_land=(0, 20),\n",
    "    conversion={s.H2: {s.Power: -1, s.O2: 0.7632, s.H2O: -0.1753}},\n",
    "    capex={1.1 * 10**6, I(20)},\n",
    "    opex=I(16918),\n",
    "    capacity=True,\n",
    "    label='Alkaline water electrolysis (AWE)',\n",
    "    citation='Demirhan et al. 2018 AIChE paper',\n",
    ")"
   ]
  },
  {
   "cell_type": "code",
   "execution_count": 18,
   "metadata": {},
   "outputs": [
    {
     "name": "stdout",
     "output_type": "stream",
     "text": [
      "making new at capacity[LiI, net, t0] (LiI, net, t0) LiI\n",
      "making new at capacity[LiI, net, t0] (LiI, net, t0) LiI\n",
      "making new at capacity[LiI_in, net, t0] (LiI_in, net, t0) LiI_in\n",
      "making new at capacity[LiI_in, net, t0] (LiI_in, net, t0) LiI_in\n",
      "making new at capacity[LiI_out, net, t0] (LiI_out, net, t0) LiI_out\n",
      "making new at capacity[LiI_out, net, t0] (LiI_out, net, t0) LiI_out\n",
      "making new at capacity[LiI2, net, t0] (LiI2, net, t0) LiI2\n",
      "making new at capacity[LiI2, net, t0] (LiI2, net, t0) LiI2\n",
      "making new at capacity[H2Stg, net, t0] (H2Stg, net, t0) H2Stg\n",
      "making new at capacity[H2Stg, net, t0] (H2Stg, net, t0) H2Stg\n"
     ]
    }
   ],
   "source": [
    "s.LiI = Storage(capacity=[2000], inventory=s.Power, capacity_in=[40], capacity_out=[20])\n",
    "s.LiI2 = Storage(capacity=[2000], inventory={s.Power: 0.6})\n",
    "s.H2Stg = Storage(\n",
    "    capacity=[2000], inventory={s.H2: {X(0): {s.Power: 0.8}, X(1): {s.Power: 0.9}}}\n",
    ")"
   ]
  },
  {
   "cell_type": "code",
   "execution_count": 19,
   "metadata": {},
   "outputs": [
    {
     "data": {
      "text/plain": [
       "False"
      ]
     },
     "execution_count": 19,
     "metadata": {},
     "output_type": "execute_result"
    }
   ],
   "source": [
    "is_(s.program.variables[5], s.program.variables[6])"
   ]
  },
  {
   "cell_type": "code",
   "execution_count": 21,
   "metadata": {},
   "outputs": [
    {
     "data": {
      "text/plain": [
       "buy[CH4, net, t0]"
      ]
     },
     "execution_count": 21,
     "metadata": {},
     "output_type": "execute_result"
    }
   ],
   "source": [
    "s.program.variables[5]"
   ]
  },
  {
   "cell_type": "code",
   "execution_count": 32,
   "metadata": {},
   "outputs": [
    {
     "data": {
      "text/plain": [
       "buy[CH4, net, t0]"
      ]
     },
     "execution_count": 32,
     "metadata": {},
     "output_type": "execute_result"
    }
   ],
   "source": [
    "s.program.variables[6]"
   ]
  },
  {
   "cell_type": "code",
   "execution_count": null,
   "metadata": {},
   "outputs": [],
   "source": [
    "s.train = Transit(\n",
    "    freight=s.H2,\n",
    "    ship={s.H2: [300]},\n",
    "    capacity=[5, 400],\n",
    "    use_land=20,\n",
    "    emission_setup={s.odp: 0.1},\n",
    "    capex={s.alink: 200, s.blink: 300, s.clink: 400},\n",
    "    opex=100,\n",
    "    label='Train',\n",
    "    basis='passengers',\n",
    "    linkages=[s.alink],\n",
    ")"
   ]
  },
  {
   "cell_type": "code",
   "execution_count": null,
   "metadata": {},
   "outputs": [],
   "source": []
  },
  {
   "cell_type": "code",
   "execution_count": 19,
   "metadata": {},
   "outputs": [
    {
     "data": {
      "text/latex": [
       "$\\displaystyle {spend}_{csh,madgaon,t_{0}} \\geq 0$"
      ],
      "text/plain": [
       "<IPython.core.display.Math object>"
      ]
     },
     "metadata": {},
     "output_type": "display_data"
    },
    {
     "data": {
      "text/latex": [
       "$\\displaystyle {spend}_{csh,madgaon,t_{0}} \\leq M$"
      ],
      "text/plain": [
       "<IPython.core.display.Math object>"
      ]
     },
     "metadata": {},
     "output_type": "display_data"
    },
    {
     "data": {
      "text/latex": [
       "$\\displaystyle {spend}_{csh,ponje,t_{1}} = {θ}_{csh,ponje,t_{1}}$"
      ],
      "text/plain": [
       "<IPython.core.display.Math object>"
      ]
     },
     "metadata": {},
     "output_type": "display_data"
    },
    {
     "data": {
      "text/latex": [
       "$\\displaystyle {spend}_{csh,cacoda,t_{1}} = {DtSt}_{csh,cacoda,t_{1}}$"
      ],
      "text/plain": [
       "<IPython.core.display.Math object>"
      ]
     },
     "metadata": {},
     "output_type": "display_data"
    },
    {
     "data": {
      "text/latex": [
       "$\\displaystyle {spend}_{csh,net,t_{2}} \\geq 5$"
      ],
      "text/plain": [
       "<IPython.core.display.Math object>"
      ]
     },
     "metadata": {},
     "output_type": "display_data"
    },
    {
     "data": {
      "text/latex": [
       "$\\displaystyle {spend}_{csh,net,t_{2}} \\leq 7$"
      ],
      "text/plain": [
       "<IPython.core.display.Math object>"
      ]
     },
     "metadata": {},
     "output_type": "display_data"
    },
    {
     "data": {
      "text/latex": [
       "$\\displaystyle {exp^{sell}}_{csh,H_{2},cacoda,t_{0}} = {sell}_{H_{2},cacoda,t_{0}} \\cdot 300$"
      ],
      "text/plain": [
       "<IPython.core.display.Math object>"
      ]
     },
     "metadata": {},
     "output_type": "display_data"
    },
    {
     "data": {
      "text/latex": [
       "$\\displaystyle {exp^{sell}}_{csh,H_{2},madgaon,t_{0}} = {sell}_{H_{2},madgaon,t_{0}} \\cdot 0$"
      ],
      "text/plain": [
       "<IPython.core.display.Math object>"
      ]
     },
     "metadata": {},
     "output_type": "display_data"
    },
    {
     "data": {
      "text/latex": [
       "$\\displaystyle {exp^{sell}}_{csh,H_{2},madgaon,t_{0}} = {sell}_{H_{2},madgaon,t_{0}} \\cdot M$"
      ],
      "text/plain": [
       "<IPython.core.display.Math object>"
      ]
     },
     "metadata": {},
     "output_type": "display_data"
    },
    {
     "data": {
      "text/latex": [
       "$\\displaystyle {exp^{sell}}_{csh,H_{2},ponje,t_{2}} = {sell}_{H_{2},ponje,t_{2}} \\cdot {θ}_{csh,H_{2},ponje,t_{2}}$"
      ],
      "text/plain": [
       "<IPython.core.display.Math object>"
      ]
     },
     "metadata": {},
     "output_type": "display_data"
    },
    {
     "data": {
      "text/latex": [
       "$\\displaystyle {buy}_{Solar,net,t_{0}} \\geq 0$"
      ],
      "text/plain": [
       "<IPython.core.display.Math object>"
      ]
     },
     "metadata": {},
     "output_type": "display_data"
    },
    {
     "data": {
      "text/latex": [
       "$\\displaystyle {buy}_{Solar,net,t_{0}} \\leq M$"
      ],
      "text/plain": [
       "<IPython.core.display.Math object>"
      ]
     },
     "metadata": {},
     "output_type": "display_data"
    },
    {
     "data": {
      "text/latex": [
       "$\\displaystyle {buy}_{Wind,net,t_{1}} = {DtSt}_{Wind,net,t_{1}}$"
      ],
      "text/plain": [
       "<IPython.core.display.Math object>"
      ]
     },
     "metadata": {},
     "output_type": "display_data"
    },
    {
     "data": {
      "text/latex": [
       "$\\displaystyle {buy}_{Power,net,t_{1}} \\geq 0$"
      ],
      "text/plain": [
       "<IPython.core.display.Math object>"
      ]
     },
     "metadata": {},
     "output_type": "display_data"
    },
    {
     "data": {
      "text/latex": [
       "$\\displaystyle {buy}_{Power,net,t_{1}} \\leq {DtSt^{max}}_{Power,net,t_{1}}$"
      ],
      "text/plain": [
       "<IPython.core.display.Math object>"
      ]
     },
     "metadata": {},
     "output_type": "display_data"
    },
    {
     "data": {
      "text/latex": [
       "$\\displaystyle {buy}_{Uranium,net,t_{2}} = {DtSt}_{Uranium,net,t_{2}}$"
      ],
      "text/plain": [
       "<IPython.core.display.Math object>"
      ]
     },
     "metadata": {},
     "output_type": "display_data"
    },
    {
     "data": {
      "text/latex": [
       "$\\displaystyle {exp^{buy}}_{csh,Uranium,cacoda,t_{0}} = {buy}_{Uranium,cacoda,t_{0}} \\cdot 0.3416$"
      ],
      "text/plain": [
       "<IPython.core.display.Math object>"
      ]
     },
     "metadata": {},
     "output_type": "display_data"
    },
    {
     "data": {
      "text/latex": [
       "$\\displaystyle {exp^{buy}}_{csh,Uranium,madgaon,t_{0}} = {buy}_{Uranium,madgaon,t_{0}} \\cdot 0.3416$"
      ],
      "text/plain": [
       "<IPython.core.display.Math object>"
      ]
     },
     "metadata": {},
     "output_type": "display_data"
    },
    {
     "data": {
      "text/latex": [
       "$\\displaystyle {exp^{buy}}_{csh,Uranium,ponje,t_{0}} = {buy}_{Uranium,ponje,t_{0}} \\cdot 0.3416$"
      ],
      "text/plain": [
       "<IPython.core.display.Math object>"
      ]
     },
     "metadata": {},
     "output_type": "display_data"
    },
    {
     "data": {
      "text/latex": [
       "$\\displaystyle {buy}_{H2O,net,t_{0}} = {θ}_{H2O,net,t_{0}}$"
      ],
      "text/plain": [
       "<IPython.core.display.Math object>"
      ]
     },
     "metadata": {},
     "output_type": "display_data"
    },
    {
     "data": {
      "text/latex": [
       "$\\displaystyle {exp^{buy}}_{csh,H2O,cacoda,t_{2}} = {DtSt}_{csh,H2O,cacoda,t_{2}} \\cdot {buy}_{H2O,cacoda,t_{2}}$"
      ],
      "text/plain": [
       "<IPython.core.display.Math object>"
      ]
     },
     "metadata": {},
     "output_type": "display_data"
    },
    {
     "data": {
      "text/latex": [
       "$\\displaystyle {exp^{buy}}_{csh,H2O,madgaon,t_{2}} = {DtSt}_{csh,H2O,madgaon,t_{2}} \\cdot {buy}_{H2O,madgaon,t_{2}}$"
      ],
      "text/plain": [
       "<IPython.core.display.Math object>"
      ]
     },
     "metadata": {},
     "output_type": "display_data"
    },
    {
     "data": {
      "text/latex": [
       "$\\displaystyle {exp^{buy}}_{csh,H2O,ponje,t_{2}} = {DtSt}_{csh,H2O,ponje,t_{2}} \\cdot {buy}_{H2O,ponje,t_{2}}$"
      ],
      "text/plain": [
       "<IPython.core.display.Math object>"
      ]
     },
     "metadata": {},
     "output_type": "display_data"
    },
    {
     "data": {
      "text/latex": [
       "$\\displaystyle {buy}_{CH_{4},net,t_{0}} \\geq 20$"
      ],
      "text/plain": [
       "<IPython.core.display.Math object>"
      ]
     },
     "metadata": {},
     "output_type": "display_data"
    },
    {
     "data": {
      "text/latex": [
       "$\\displaystyle {buy}_{CH_{4},net,t_{0}} \\leq 40$"
      ],
      "text/plain": [
       "<IPython.core.display.Math object>"
      ]
     },
     "metadata": {},
     "output_type": "display_data"
    },
    {
     "data": {
      "text/latex": [
       "$\\displaystyle {exp^{buy}}_{csh,CH_{4},cacoda,t_{0}} = {buy}_{CH_{4},cacoda,t_{0}} \\cdot 20$"
      ],
      "text/plain": [
       "<IPython.core.display.Math object>"
      ]
     },
     "metadata": {},
     "output_type": "display_data"
    },
    {
     "data": {
      "text/latex": [
       "$\\displaystyle {exp^{buy}}_{csh,CH_{4},madgaon,t_{0}} = {buy}_{CH_{4},madgaon,t_{0}} \\cdot 20$"
      ],
      "text/plain": [
       "<IPython.core.display.Math object>"
      ]
     },
     "metadata": {},
     "output_type": "display_data"
    },
    {
     "data": {
      "text/latex": [
       "$\\displaystyle {exp^{buy}}_{csh,CH_{4},ponje,t_{0}} = {buy}_{CH_{4},ponje,t_{0}} \\cdot 20$"
      ],
      "text/plain": [
       "<IPython.core.display.Math object>"
      ]
     },
     "metadata": {},
     "output_type": "display_data"
    },
    {
     "data": {
      "text/latex": [
       "$\\displaystyle {exp^{sell}}_{csh,CO_{2 Vent},cacoda,t_{0}} = {sell}_{CO_{2 Vent},cacoda,t_{0}} \\cdot {θ}_{csh,CO_{2 Vent},cacoda,t_{0}}$"
      ],
      "text/plain": [
       "<IPython.core.display.Math object>"
      ]
     },
     "metadata": {},
     "output_type": "display_data"
    },
    {
     "data": {
      "text/latex": [
       "$\\displaystyle {exp^{sell}}_{csh,CO_{2 Vent},madgaon,t_{0}} = {sell}_{CO_{2 Vent},madgaon,t_{0}} \\cdot {θ}_{csh,CO_{2 Vent},madgaon,t_{0}}$"
      ],
      "text/plain": [
       "<IPython.core.display.Math object>"
      ]
     },
     "metadata": {},
     "output_type": "display_data"
    },
    {
     "data": {
      "text/latex": [
       "$\\displaystyle {exp^{sell}}_{csh,CO_{2 Vent},ponje,t_{0}} = {sell}_{CO_{2 Vent},ponje,t_{0}} \\cdot {θ}_{csh,CO_{2 Vent},ponje,t_{0}}$"
      ],
      "text/plain": [
       "<IPython.core.display.Math object>"
      ]
     },
     "metadata": {},
     "output_type": "display_data"
    },
    {
     "data": {
      "text/latex": [
       "$\\displaystyle {emit^{sell}}_{gwp,CO_{2 Vent},cacoda,t_{2}} = {DtSt}_{gwp,CO_{2 Vent},cacoda,t_{2}} \\cdot {sell}_{CO_{2 Vent},cacoda,t_{2}}$"
      ],
      "text/plain": [
       "<IPython.core.display.Math object>"
      ]
     },
     "metadata": {},
     "output_type": "display_data"
    },
    {
     "data": {
      "text/latex": [
       "$\\displaystyle {emit^{sell}}_{gwp,CO_{2 Vent},madgaon,t_{2}} = {DtSt}_{gwp,CO_{2 Vent},madgaon,t_{2}} \\cdot {sell}_{CO_{2 Vent},madgaon,t_{2}}$"
      ],
      "text/plain": [
       "<IPython.core.display.Math object>"
      ]
     },
     "metadata": {},
     "output_type": "display_data"
    },
    {
     "data": {
      "text/latex": [
       "$\\displaystyle {emit^{sell}}_{gwp,CO_{2 Vent},ponje,t_{2}} = {DtSt}_{gwp,CO_{2 Vent},ponje,t_{2}} \\cdot {sell}_{CO_{2 Vent},ponje,t_{2}}$"
      ],
      "text/plain": [
       "<IPython.core.display.Math object>"
      ]
     },
     "metadata": {},
     "output_type": "display_data"
    },
    {
     "data": {
      "text/latex": [
       "$\\displaystyle {sell}_{O_{2},net,t_{0}} \\geq 20$"
      ],
      "text/plain": [
       "<IPython.core.display.Math object>"
      ]
     },
     "metadata": {},
     "output_type": "display_data"
    },
    {
     "data": {
      "text/latex": [
       "$\\displaystyle {sell}_{O_{2},net,t_{0}} \\leq M$"
      ],
      "text/plain": [
       "<IPython.core.display.Math object>"
      ]
     },
     "metadata": {},
     "output_type": "display_data"
    },
    {
     "data": {
      "text/latex": [
       "$\\displaystyle {use}_{LiR,ponje,t_{0}} = 1.5$"
      ],
      "text/plain": [
       "<IPython.core.display.Math object>"
      ]
     },
     "metadata": {},
     "output_type": "display_data"
    },
    {
     "data": {
      "text/latex": [
       "$\\displaystyle {emit^{use}}_{gwp,LiR,cacoda,t_{0}} = {use}_{LiR,cacoda,t_{0}} \\cdot 1.484$"
      ],
      "text/plain": [
       "<IPython.core.display.Math object>"
      ]
     },
     "metadata": {},
     "output_type": "display_data"
    },
    {
     "data": {
      "text/latex": [
       "$\\displaystyle {emit^{use}}_{gwp,LiR,madgaon,t_{0}} = {use}_{LiR,madgaon,t_{0}} \\cdot 1.484$"
      ],
      "text/plain": [
       "<IPython.core.display.Math object>"
      ]
     },
     "metadata": {},
     "output_type": "display_data"
    },
    {
     "data": {
      "text/latex": [
       "$\\displaystyle {emit^{use}}_{gwp,LiR,ponje,t_{0}} = {use}_{LiR,ponje,t_{0}} \\cdot 1.484$"
      ],
      "text/plain": [
       "<IPython.core.display.Math object>"
      ]
     },
     "metadata": {},
     "output_type": "display_data"
    },
    {
     "data": {
      "text/latex": [
       "$\\displaystyle {capacity}_{WF,net,t_{0}} = 1000$"
      ],
      "text/plain": [
       "<IPython.core.display.Math object>"
      ]
     },
     "metadata": {},
     "output_type": "display_data"
    },
    {
     "data": {
      "text/latex": [
       "$\\displaystyle {operate}_{WF,net,t_{0}} \\geq {capacity}_{WF,net,t_{0}} \\cdot {θ^{min}}_{WF,net,t_{0}}$"
      ],
      "text/plain": [
       "<IPython.core.display.Math object>"
      ]
     },
     "metadata": {},
     "output_type": "display_data"
    },
    {
     "data": {
      "text/latex": [
       "$\\displaystyle {operate}_{WF,net,t_{0}} \\leq {capacity}_{WF,net,t_{0}} \\cdot {θ^{max}}_{WF,net,t_{0}}$"
      ],
      "text/plain": [
       "<IPython.core.display.Math object>"
      ]
     },
     "metadata": {},
     "output_type": "display_data"
    },
    {
     "data": {
      "text/latex": [
       "$\\displaystyle {use^{setup}}_{lnd_{def},WF,cacoda,t_{0}} = {capacity}_{WF,cacoda,t_{0}} \\cdot 30$"
      ],
      "text/plain": [
       "<IPython.core.display.Math object>"
      ]
     },
     "metadata": {},
     "output_type": "display_data"
    },
    {
     "data": {
      "text/latex": [
       "$\\displaystyle {use^{setup}}_{lnd_{def},WF,madgaon,t_{0}} = {capacity}_{WF,madgaon,t_{0}} \\cdot 30$"
      ],
      "text/plain": [
       "<IPython.core.display.Math object>"
      ]
     },
     "metadata": {},
     "output_type": "display_data"
    },
    {
     "data": {
      "text/latex": [
       "$\\displaystyle {use^{setup}}_{lnd_{def},WF,ponje,t_{0}} = {capacity}_{WF,ponje,t_{0}} \\cdot 30$"
      ],
      "text/plain": [
       "<IPython.core.display.Math object>"
      ]
     },
     "metadata": {},
     "output_type": "display_data"
    },
    {
     "data": {
      "text/latex": [
       "$\\displaystyle {use^{setup}}_{LiR,WF,cacoda,t_{0}} = {capacity}_{WF,cacoda,t_{0}} \\cdot 1.5$"
      ],
      "text/plain": [
       "<IPython.core.display.Math object>"
      ]
     },
     "metadata": {},
     "output_type": "display_data"
    },
    {
     "data": {
      "text/latex": [
       "$\\displaystyle {use^{setup}}_{LiR,WF,madgaon,t_{0}} = {capacity}_{WF,madgaon,t_{0}} \\cdot 1.5$"
      ],
      "text/plain": [
       "<IPython.core.display.Math object>"
      ]
     },
     "metadata": {},
     "output_type": "display_data"
    },
    {
     "data": {
      "text/latex": [
       "$\\displaystyle {use^{setup}}_{LiR,WF,ponje,t_{0}} = {capacity}_{WF,ponje,t_{0}} \\cdot 1.5$"
      ],
      "text/plain": [
       "<IPython.core.display.Math object>"
      ]
     },
     "metadata": {},
     "output_type": "display_data"
    },
    {
     "data": {
      "text/latex": [
       "$\\displaystyle {emit^{setup}}_{gwp,WF,cacoda,t_{0}} = {capacity}_{WF,cacoda,t_{0}} \\cdot 50$"
      ],
      "text/plain": [
       "<IPython.core.display.Math object>"
      ]
     },
     "metadata": {},
     "output_type": "display_data"
    },
    {
     "data": {
      "text/latex": [
       "$\\displaystyle {emit^{setup}}_{gwp,WF,madgaon,t_{0}} = {capacity}_{WF,madgaon,t_{0}} \\cdot 50$"
      ],
      "text/plain": [
       "<IPython.core.display.Math object>"
      ]
     },
     "metadata": {},
     "output_type": "display_data"
    },
    {
     "data": {
      "text/latex": [
       "$\\displaystyle {emit^{setup}}_{gwp,WF,ponje,t_{0}} = {capacity}_{WF,ponje,t_{0}} \\cdot 50$"
      ],
      "text/plain": [
       "<IPython.core.display.Math object>"
      ]
     },
     "metadata": {},
     "output_type": "display_data"
    },
    {
     "data": {
      "text/latex": [
       "$\\displaystyle {emit^{setup}}_{odp,WF,cacoda,t_{0}} = {capacity}_{WF,cacoda,t_{0}} \\cdot 2900$"
      ],
      "text/plain": [
       "<IPython.core.display.Math object>"
      ]
     },
     "metadata": {},
     "output_type": "display_data"
    },
    {
     "data": {
      "text/latex": [
       "$\\displaystyle {emit^{setup}}_{odp,WF,madgaon,t_{0}} = {capacity}_{WF,madgaon,t_{0}} \\cdot 2900$"
      ],
      "text/plain": [
       "<IPython.core.display.Math object>"
      ]
     },
     "metadata": {},
     "output_type": "display_data"
    },
    {
     "data": {
      "text/latex": [
       "$\\displaystyle {emit^{setup}}_{odp,WF,ponje,t_{0}} = {capacity}_{WF,ponje,t_{0}} \\cdot 2900$"
      ],
      "text/plain": [
       "<IPython.core.display.Math object>"
      ]
     },
     "metadata": {},
     "output_type": "display_data"
    },
    {
     "data": {
      "text/latex": [
       "$\\displaystyle {capex^{I}}_{csh,WF,madgaon,t_{1}} = 202233$"
      ],
      "text/plain": [
       "<IPython.core.display.Math object>"
      ]
     },
     "metadata": {},
     "output_type": "display_data"
    },
    {
     "data": {
      "text/latex": [
       "$\\displaystyle {capex}_{csh,WF,madgaon,t_{1}} = {capacity}_{WF,madgaon,t_{1}} \\cdot 1462000$"
      ],
      "text/plain": [
       "<IPython.core.display.Math object>"
      ]
     },
     "metadata": {},
     "output_type": "display_data"
    },
    {
     "data": {
      "text/latex": [
       "$\\displaystyle {opex^{I}}_{csh,WF,cacoda,t_{0}} = 70$"
      ],
      "text/plain": [
       "<IPython.core.display.Math object>"
      ]
     },
     "metadata": {},
     "output_type": "display_data"
    },
    {
     "data": {
      "text/latex": [
       "$\\displaystyle {opex}_{csh,WF,cacoda,t_{0}} = {operate}_{WF,cacoda,t_{0}} \\cdot 4953$"
      ],
      "text/plain": [
       "<IPython.core.display.Math object>"
      ]
     },
     "metadata": {},
     "output_type": "display_data"
    },
    {
     "data": {
      "text/latex": [
       "$\\displaystyle {opex}_{csh,WF,madgaon,t_{0}} = {operate}_{WF,madgaon,t_{0}} \\cdot 4953$"
      ],
      "text/plain": [
       "<IPython.core.display.Math object>"
      ]
     },
     "metadata": {},
     "output_type": "display_data"
    },
    {
     "data": {
      "text/latex": [
       "$\\displaystyle {opex^{I}}_{csh,WF,madgaon,t_{0}} = 70$"
      ],
      "text/plain": [
       "<IPython.core.display.Math object>"
      ]
     },
     "metadata": {},
     "output_type": "display_data"
    },
    {
     "data": {
      "text/latex": [
       "$\\displaystyle {opex^{I}}_{csh,WF,ponje,t_{0}} = 70$"
      ],
      "text/plain": [
       "<IPython.core.display.Math object>"
      ]
     },
     "metadata": {},
     "output_type": "display_data"
    },
    {
     "data": {
      "text/latex": [
       "$\\displaystyle {opex}_{csh,WF,ponje,t_{0}} = {operate}_{WF,ponje,t_{0}} \\cdot 4953$"
      ],
      "text/plain": [
       "<IPython.core.display.Math object>"
      ]
     },
     "metadata": {},
     "output_type": "display_data"
    },
    {
     "data": {
      "text/latex": [
       "$\\displaystyle {capacity}_{PV,net,t_{0}} = 5000$"
      ],
      "text/plain": [
       "<IPython.core.display.Math object>"
      ]
     },
     "metadata": {},
     "output_type": "display_data"
    },
    {
     "data": {
      "text/latex": [
       "$\\displaystyle {capex}_{csh,PV,cacoda,t_{0}} = {capacity}_{PV,cacoda,t_{0}} \\cdot 1555$"
      ],
      "text/plain": [
       "<IPython.core.display.Math object>"
      ]
     },
     "metadata": {},
     "output_type": "display_data"
    },
    {
     "data": {
      "text/latex": [
       "$\\displaystyle {capex}_{csh,PV,madgaon,t_{0}} = {capacity}_{PV,madgaon,t_{0}} \\cdot 1555$"
      ],
      "text/plain": [
       "<IPython.core.display.Math object>"
      ]
     },
     "metadata": {},
     "output_type": "display_data"
    },
    {
     "data": {
      "text/latex": [
       "$\\displaystyle {capex}_{csh,PV,ponje,t_{0}} = {capacity}_{PV,ponje,t_{0}} \\cdot 1555$"
      ],
      "text/plain": [
       "<IPython.core.display.Math object>"
      ]
     },
     "metadata": {},
     "output_type": "display_data"
    },
    {
     "data": {
      "text/latex": [
       "$\\displaystyle {opex}_{csh,PV,cacoda,t_{0}} = {operate}_{PV,cacoda,t_{0}} \\cdot 22623$"
      ],
      "text/plain": [
       "<IPython.core.display.Math object>"
      ]
     },
     "metadata": {},
     "output_type": "display_data"
    },
    {
     "data": {
      "text/latex": [
       "$\\displaystyle {opex}_{csh,PV,madgaon,t_{0}} = {operate}_{PV,madgaon,t_{0}} \\cdot 22623$"
      ],
      "text/plain": [
       "<IPython.core.display.Math object>"
      ]
     },
     "metadata": {},
     "output_type": "display_data"
    },
    {
     "data": {
      "text/latex": [
       "$\\displaystyle {opex}_{csh,PV,ponje,t_{0}} = {operate}_{PV,ponje,t_{0}} \\cdot 22623$"
      ],
      "text/plain": [
       "<IPython.core.display.Math object>"
      ]
     },
     "metadata": {},
     "output_type": "display_data"
    },
    {
     "data": {
      "text/latex": [
       "$\\displaystyle {exp^{sell}}_{csh,Power,PV,cacoda,t_{0}} = {sell}_{Power,PV,cacoda,t_{0}} \\cdot 30$"
      ],
      "text/plain": [
       "<IPython.core.display.Math object>"
      ]
     },
     "metadata": {},
     "output_type": "display_data"
    },
    {
     "data": {
      "text/latex": [
       "$\\displaystyle {exp^{sell}}_{csh,Power,PV,madgaon,t_{0}} = {sell}_{Power,PV,madgaon,t_{0}} \\cdot 30$"
      ],
      "text/plain": [
       "<IPython.core.display.Math object>"
      ]
     },
     "metadata": {},
     "output_type": "display_data"
    },
    {
     "data": {
      "text/latex": [
       "$\\displaystyle {exp^{sell}}_{csh,Power,PV,ponje,t_{0}} = {sell}_{Power,PV,ponje,t_{0}} \\cdot 30$"
      ],
      "text/plain": [
       "<IPython.core.display.Math object>"
      ]
     },
     "metadata": {},
     "output_type": "display_data"
    },
    {
     "data": {
      "text/latex": [
       "$\\displaystyle {credit}_{csh,Power,PV,cacoda,t_{0}} = {DtSt}_{csh,Power,PV,cacoda,t_{0}} \\cdot {sell}_{Power,PV,cacoda,t_{0}}$"
      ],
      "text/plain": [
       "<IPython.core.display.Math object>"
      ]
     },
     "metadata": {},
     "output_type": "display_data"
    },
    {
     "data": {
      "text/latex": [
       "$\\displaystyle {credit}_{csh,Power,PV,madgaon,t_{0}} = {DtSt}_{csh,Power,PV,madgaon,t_{0}} \\cdot {sell}_{Power,PV,madgaon,t_{0}}$"
      ],
      "text/plain": [
       "<IPython.core.display.Math object>"
      ]
     },
     "metadata": {},
     "output_type": "display_data"
    },
    {
     "data": {
      "text/latex": [
       "$\\displaystyle {credit}_{csh,Power,PV,ponje,t_{0}} = {DtSt}_{csh,Power,PV,ponje,t_{0}} \\cdot {sell}_{Power,PV,ponje,t_{0}}$"
      ],
      "text/plain": [
       "<IPython.core.display.Math object>"
      ]
     },
     "metadata": {},
     "output_type": "display_data"
    },
    {
     "data": {
      "text/latex": [
       "$\\displaystyle {capacity}_{SMRH,net,t_{0}} \\geq 0$"
      ],
      "text/plain": [
       "<IPython.core.display.Math object>"
      ]
     },
     "metadata": {},
     "output_type": "display_data"
    },
    {
     "data": {
      "text/latex": [
       "$\\displaystyle {capacity}_{SMRH,net,t_{0}} \\leq 1000$"
      ],
      "text/plain": [
       "<IPython.core.display.Math object>"
      ]
     },
     "metadata": {},
     "output_type": "display_data"
    },
    {
     "data": {
      "text/latex": [
       "$\\displaystyle {use^{setup}}_{lnd_{def},SMRH,cacoda,t_{0}} = {capacity}_{SMRH,cacoda,t_{0}} \\cdot 50$"
      ],
      "text/plain": [
       "<IPython.core.display.Math object>"
      ]
     },
     "metadata": {},
     "output_type": "display_data"
    },
    {
     "data": {
      "text/latex": [
       "$\\displaystyle {use^{setup}}_{lnd_{def},SMRH,madgaon,t_{0}} = {capacity}_{SMRH,madgaon,t_{0}} \\cdot 50$"
      ],
      "text/plain": [
       "<IPython.core.display.Math object>"
      ]
     },
     "metadata": {},
     "output_type": "display_data"
    },
    {
     "data": {
      "text/latex": [
       "$\\displaystyle {use^{setup}}_{lnd_{def},SMRH,ponje,t_{0}} = {capacity}_{SMRH,ponje,t_{0}} \\cdot 50$"
      ],
      "text/plain": [
       "<IPython.core.display.Math object>"
      ]
     },
     "metadata": {},
     "output_type": "display_data"
    },
    {
     "data": {
      "text/latex": [
       "$\\displaystyle {capex}_{csh,SMRH,cacoda,t_{0}} = {capacity}_{SMRH,cacoda,t_{0}} \\cdot 2520000$"
      ],
      "text/plain": [
       "<IPython.core.display.Math object>"
      ]
     },
     "metadata": {},
     "output_type": "display_data"
    },
    {
     "data": {
      "text/latex": [
       "$\\displaystyle {capex}_{csh,SMRH,madgaon,t_{0}} = {capacity}_{SMRH,madgaon,t_{0}} \\cdot 2520000$"
      ],
      "text/plain": [
       "<IPython.core.display.Math object>"
      ]
     },
     "metadata": {},
     "output_type": "display_data"
    },
    {
     "data": {
      "text/latex": [
       "$\\displaystyle {capex}_{csh,SMRH,ponje,t_{0}} = {capacity}_{SMRH,ponje,t_{0}} \\cdot 2520000$"
      ],
      "text/plain": [
       "<IPython.core.display.Math object>"
      ]
     },
     "metadata": {},
     "output_type": "display_data"
    },
    {
     "data": {
      "text/latex": [
       "$\\displaystyle {opex}_{csh,SMRH,cacoda,t_{0}} = {operate}_{SMRH,cacoda,t_{0}} \\cdot 51.5$"
      ],
      "text/plain": [
       "<IPython.core.display.Math object>"
      ]
     },
     "metadata": {},
     "output_type": "display_data"
    },
    {
     "data": {
      "text/latex": [
       "$\\displaystyle {opex^{I}}_{csh,SMRH,cacoda,t_{0}} = 945000$"
      ],
      "text/plain": [
       "<IPython.core.display.Math object>"
      ]
     },
     "metadata": {},
     "output_type": "display_data"
    },
    {
     "data": {
      "text/latex": [
       "$\\displaystyle {opex}_{csh,SMRH,madgaon,t_{0}} = {operate}_{SMRH,madgaon,t_{0}} \\cdot 51.5$"
      ],
      "text/plain": [
       "<IPython.core.display.Math object>"
      ]
     },
     "metadata": {},
     "output_type": "display_data"
    },
    {
     "data": {
      "text/latex": [
       "$\\displaystyle {opex^{I}}_{csh,SMRH,madgaon,t_{0}} = 945000$"
      ],
      "text/plain": [
       "<IPython.core.display.Math object>"
      ]
     },
     "metadata": {},
     "output_type": "display_data"
    },
    {
     "data": {
      "text/latex": [
       "$\\displaystyle {opex}_{csh,SMRH,ponje,t_{0}} = {operate}_{SMRH,ponje,t_{0}} \\cdot 51.5$"
      ],
      "text/plain": [
       "<IPython.core.display.Math object>"
      ]
     },
     "metadata": {},
     "output_type": "display_data"
    },
    {
     "data": {
      "text/latex": [
       "$\\displaystyle {opex^{I}}_{csh,SMRH,ponje,t_{0}} = 945000$"
      ],
      "text/plain": [
       "<IPython.core.display.Math object>"
      ]
     },
     "metadata": {},
     "output_type": "display_data"
    },
    {
     "data": {
      "text/latex": [
       "$\\displaystyle {capacity}_{NGCC,net,t_{0}} \\geq 1$"
      ],
      "text/plain": [
       "<IPython.core.display.Math object>"
      ]
     },
     "metadata": {},
     "output_type": "display_data"
    },
    {
     "data": {
      "text/latex": [
       "$\\displaystyle {capacity}_{NGCC,net,t_{0}} \\leq 100$"
      ],
      "text/plain": [
       "<IPython.core.display.Math object>"
      ]
     },
     "metadata": {},
     "output_type": "display_data"
    },
    {
     "data": {
      "text/latex": [
       "$\\displaystyle {capex}_{csh,NGCC,cacoda,t_{0}} = {capacity}_{NGCC,cacoda,t_{0}} \\cdot 2158928$"
      ],
      "text/plain": [
       "<IPython.core.display.Math object>"
      ]
     },
     "metadata": {},
     "output_type": "display_data"
    },
    {
     "data": {
      "text/latex": [
       "$\\displaystyle {capex}_{csh,NGCC,madgaon,t_{0}} = {capacity}_{NGCC,madgaon,t_{0}} \\cdot 2158928$"
      ],
      "text/plain": [
       "<IPython.core.display.Math object>"
      ]
     },
     "metadata": {},
     "output_type": "display_data"
    },
    {
     "data": {
      "text/latex": [
       "$\\displaystyle {capex}_{csh,NGCC,ponje,t_{0}} = {capacity}_{NGCC,ponje,t_{0}} \\cdot 2158928$"
      ],
      "text/plain": [
       "<IPython.core.display.Math object>"
      ]
     },
     "metadata": {},
     "output_type": "display_data"
    },
    {
     "data": {
      "text/latex": [
       "$\\displaystyle {opex}_{csh,NGCC,cacoda,t_{0}} = {operate}_{NGCC,cacoda,t_{0}} \\cdot 4090$"
      ],
      "text/plain": [
       "<IPython.core.display.Math object>"
      ]
     },
     "metadata": {},
     "output_type": "display_data"
    },
    {
     "data": {
      "text/latex": [
       "$\\displaystyle {opex^{I}}_{csh,NGCC,cacoda,t_{0}} = 53320$"
      ],
      "text/plain": [
       "<IPython.core.display.Math object>"
      ]
     },
     "metadata": {},
     "output_type": "display_data"
    },
    {
     "data": {
      "text/latex": [
       "$\\displaystyle {opex}_{csh,NGCC,madgaon,t_{0}} = {operate}_{NGCC,madgaon,t_{0}} \\cdot 4090$"
      ],
      "text/plain": [
       "<IPython.core.display.Math object>"
      ]
     },
     "metadata": {},
     "output_type": "display_data"
    },
    {
     "data": {
      "text/latex": [
       "$\\displaystyle {opex^{I}}_{csh,NGCC,madgaon,t_{0}} = 53320$"
      ],
      "text/plain": [
       "<IPython.core.display.Math object>"
      ]
     },
     "metadata": {},
     "output_type": "display_data"
    },
    {
     "data": {
      "text/latex": [
       "$\\displaystyle {opex^{I}}_{csh,NGCC,ponje,t_{0}} = 53320$"
      ],
      "text/plain": [
       "<IPython.core.display.Math object>"
      ]
     },
     "metadata": {},
     "output_type": "display_data"
    },
    {
     "data": {
      "text/latex": [
       "$\\displaystyle {opex}_{csh,NGCC,ponje,t_{0}} = {operate}_{NGCC,ponje,t_{0}} \\cdot 4090$"
      ],
      "text/plain": [
       "<IPython.core.display.Math object>"
      ]
     },
     "metadata": {},
     "output_type": "display_data"
    },
    {
     "data": {
      "text/latex": [
       "$\\displaystyle {exp^{buy}}_{csh,CH_{4},NGCC,cacoda,t_{0}} = {buy}_{CH_{4},NGCC,cacoda,t_{0}} \\cdot 4$"
      ],
      "text/plain": [
       "<IPython.core.display.Math object>"
      ]
     },
     "metadata": {},
     "output_type": "display_data"
    },
    {
     "data": {
      "text/latex": [
       "$\\displaystyle {exp^{buy}}_{csh,CH_{4},NGCC,madgaon,t_{0}} = {buy}_{CH_{4},NGCC,madgaon,t_{0}} \\cdot 4$"
      ],
      "text/plain": [
       "<IPython.core.display.Math object>"
      ]
     },
     "metadata": {},
     "output_type": "display_data"
    },
    {
     "data": {
      "text/latex": [
       "$\\displaystyle {exp^{buy}}_{csh,CH_{4},NGCC,ponje,t_{0}} = {buy}_{CH_{4},NGCC,ponje,t_{0}} \\cdot 4$"
      ],
      "text/plain": [
       "<IPython.core.display.Math object>"
      ]
     },
     "metadata": {},
     "output_type": "display_data"
    },
    {
     "data": {
      "text/latex": [
       "$\\displaystyle {exp^{buy}}_{csh,H2O,NGCC,cacoda,t_{0}} = {buy}_{H2O,NGCC,cacoda,t_{0}} \\cdot 20$"
      ],
      "text/plain": [
       "<IPython.core.display.Math object>"
      ]
     },
     "metadata": {},
     "output_type": "display_data"
    },
    {
     "data": {
      "text/latex": [
       "$\\displaystyle {exp^{buy}}_{csh,H2O,NGCC,madgaon,t_{0}} = {buy}_{H2O,NGCC,madgaon,t_{0}} \\cdot 20$"
      ],
      "text/plain": [
       "<IPython.core.display.Math object>"
      ]
     },
     "metadata": {},
     "output_type": "display_data"
    },
    {
     "data": {
      "text/latex": [
       "$\\displaystyle {exp^{buy}}_{csh,H2O,NGCC,ponje,t_{0}} = {buy}_{H2O,NGCC,ponje,t_{0}} \\cdot 20$"
      ],
      "text/plain": [
       "<IPython.core.display.Math object>"
      ]
     },
     "metadata": {},
     "output_type": "display_data"
    },
    {
     "data": {
      "text/latex": [
       "$\\displaystyle {capacity}_{SMR,net,t_{0}} = 1000$"
      ],
      "text/plain": [
       "<IPython.core.display.Math object>"
      ]
     },
     "metadata": {},
     "output_type": "display_data"
    },
    {
     "data": {
      "text/latex": [
       "$\\displaystyle {capex}_{csh,SMR,cacoda,t_{0}} = {capacity}_{SMR,cacoda,t_{0}} \\cdot 2400$"
      ],
      "text/plain": [
       "<IPython.core.display.Math object>"
      ]
     },
     "metadata": {},
     "output_type": "display_data"
    },
    {
     "data": {
      "text/latex": [
       "$\\displaystyle {capex}_{csh,SMR,madgaon,t_{0}} = {capacity}_{SMR,madgaon,t_{0}} \\cdot 2400$"
      ],
      "text/plain": [
       "<IPython.core.display.Math object>"
      ]
     },
     "metadata": {},
     "output_type": "display_data"
    },
    {
     "data": {
      "text/latex": [
       "$\\displaystyle {capex}_{csh,SMR,ponje,t_{0}} = {capacity}_{SMR,ponje,t_{0}} \\cdot 2400$"
      ],
      "text/plain": [
       "<IPython.core.display.Math object>"
      ]
     },
     "metadata": {},
     "output_type": "display_data"
    },
    {
     "data": {
      "text/latex": [
       "$\\displaystyle {opex^{I}}_{csh,SMR,cacoda,t_{0}} = 800$"
      ],
      "text/plain": [
       "<IPython.core.display.Math object>"
      ]
     },
     "metadata": {},
     "output_type": "display_data"
    },
    {
     "data": {
      "text/latex": [
       "$\\displaystyle {opex}_{csh,SMR,cacoda,t_{0}} = {operate}_{SMR,cacoda,t_{0}} \\cdot 0.03$"
      ],
      "text/plain": [
       "<IPython.core.display.Math object>"
      ]
     },
     "metadata": {},
     "output_type": "display_data"
    },
    {
     "data": {
      "text/latex": [
       "$\\displaystyle {opex^{I}}_{csh,SMR,madgaon,t_{0}} = 800$"
      ],
      "text/plain": [
       "<IPython.core.display.Math object>"
      ]
     },
     "metadata": {},
     "output_type": "display_data"
    },
    {
     "data": {
      "text/latex": [
       "$\\displaystyle {opex}_{csh,SMR,madgaon,t_{0}} = {operate}_{SMR,madgaon,t_{0}} \\cdot 0.03$"
      ],
      "text/plain": [
       "<IPython.core.display.Math object>"
      ]
     },
     "metadata": {},
     "output_type": "display_data"
    },
    {
     "data": {
      "text/latex": [
       "$\\displaystyle {opex^{I}}_{csh,SMR,ponje,t_{0}} = 800$"
      ],
      "text/plain": [
       "<IPython.core.display.Math object>"
      ]
     },
     "metadata": {},
     "output_type": "display_data"
    },
    {
     "data": {
      "text/latex": [
       "$\\displaystyle {opex}_{csh,SMR,ponje,t_{0}} = {operate}_{SMR,ponje,t_{0}} \\cdot 0.03$"
      ],
      "text/plain": [
       "<IPython.core.display.Math object>"
      ]
     },
     "metadata": {},
     "output_type": "display_data"
    },
    {
     "data": {
      "text/latex": [
       "$\\displaystyle {capacity}_{H2FC,net,t_{0}} \\geq 1000$"
      ],
      "text/plain": [
       "<IPython.core.display.Math object>"
      ]
     },
     "metadata": {},
     "output_type": "display_data"
    },
    {
     "data": {
      "text/latex": [
       "$\\displaystyle {capacity}_{H2FC,net,t_{0}} \\leq 2000$"
      ],
      "text/plain": [
       "<IPython.core.display.Math object>"
      ]
     },
     "metadata": {},
     "output_type": "display_data"
    },
    {
     "data": {
      "text/latex": [
       "$\\displaystyle {capex}_{csh,H2FC,cacoda,t_{0}} = {capacity}_{H2FC,cacoda,t_{0}} \\cdot 1600000.0$"
      ],
      "text/plain": [
       "<IPython.core.display.Math object>"
      ]
     },
     "metadata": {},
     "output_type": "display_data"
    },
    {
     "data": {
      "text/latex": [
       "$\\displaystyle {capex}_{csh,H2FC,madgaon,t_{0}} = {capacity}_{H2FC,madgaon,t_{0}} \\cdot 1600000.0$"
      ],
      "text/plain": [
       "<IPython.core.display.Math object>"
      ]
     },
     "metadata": {},
     "output_type": "display_data"
    },
    {
     "data": {
      "text/latex": [
       "$\\displaystyle {capex}_{csh,H2FC,ponje,t_{0}} = {capacity}_{H2FC,ponje,t_{0}} \\cdot 1600000.0$"
      ],
      "text/plain": [
       "<IPython.core.display.Math object>"
      ]
     },
     "metadata": {},
     "output_type": "display_data"
    },
    {
     "data": {
      "text/latex": [
       "$\\displaystyle {opex}_{csh,H2FC,cacoda,t_{0}} = {operate}_{H2FC,cacoda,t_{0}} \\cdot 3.5$"
      ],
      "text/plain": [
       "<IPython.core.display.Math object>"
      ]
     },
     "metadata": {},
     "output_type": "display_data"
    },
    {
     "data": {
      "text/latex": [
       "$\\displaystyle {opex}_{csh,H2FC,madgaon,t_{0}} = {operate}_{H2FC,madgaon,t_{0}} \\cdot 3.5$"
      ],
      "text/plain": [
       "<IPython.core.display.Math object>"
      ]
     },
     "metadata": {},
     "output_type": "display_data"
    },
    {
     "data": {
      "text/latex": [
       "$\\displaystyle {opex}_{csh,H2FC,ponje,t_{0}} = {operate}_{H2FC,ponje,t_{0}} \\cdot 3.5$"
      ],
      "text/plain": [
       "<IPython.core.display.Math object>"
      ]
     },
     "metadata": {},
     "output_type": "display_data"
    },
    {
     "data": {
      "text/latex": [
       "$\\displaystyle {exp^{buy}}_{csh,H_{2},H2FC,cacoda,t_{0}} = {buy}_{H_{2},H2FC,cacoda,t_{0}} \\cdot 2$"
      ],
      "text/plain": [
       "<IPython.core.display.Math object>"
      ]
     },
     "metadata": {},
     "output_type": "display_data"
    },
    {
     "data": {
      "text/latex": [
       "$\\displaystyle {exp^{buy}}_{csh,H_{2},H2FC,madgaon,t_{0}} = {buy}_{H_{2},H2FC,madgaon,t_{0}} \\cdot 2$"
      ],
      "text/plain": [
       "<IPython.core.display.Math object>"
      ]
     },
     "metadata": {},
     "output_type": "display_data"
    },
    {
     "data": {
      "text/latex": [
       "$\\displaystyle {exp^{buy}}_{csh,H_{2},H2FC,ponje,t_{0}} = {buy}_{H_{2},H2FC,ponje,t_{0}} \\cdot 2$"
      ],
      "text/plain": [
       "<IPython.core.display.Math object>"
      ]
     },
     "metadata": {},
     "output_type": "display_data"
    },
    {
     "data": {
      "text/latex": [
       "$\\displaystyle {sell}_{Power,H2FC,net,t_{0}} = 20$"
      ],
      "text/plain": [
       "<IPython.core.display.Math object>"
      ]
     },
     "metadata": {},
     "output_type": "display_data"
    },
    {
     "data": {
      "text/latex": [
       "$\\displaystyle {capacity}_{DAC,net,t_{0}} = 1000$"
      ],
      "text/plain": [
       "<IPython.core.display.Math object>"
      ]
     },
     "metadata": {},
     "output_type": "display_data"
    },
    {
     "data": {
      "text/latex": [
       "$\\displaystyle {capex}_{csh,DAC,cacoda,t_{0}} = {capacity}_{DAC,cacoda,t_{0}} \\cdot 0.02536$"
      ],
      "text/plain": [
       "<IPython.core.display.Math object>"
      ]
     },
     "metadata": {},
     "output_type": "display_data"
    },
    {
     "data": {
      "text/latex": [
       "$\\displaystyle {capex}_{csh,DAC,madgaon,t_{0}} = {capacity}_{DAC,madgaon,t_{0}} \\cdot 0.02536$"
      ],
      "text/plain": [
       "<IPython.core.display.Math object>"
      ]
     },
     "metadata": {},
     "output_type": "display_data"
    },
    {
     "data": {
      "text/latex": [
       "$\\displaystyle {capex}_{csh,DAC,ponje,t_{0}} = {capacity}_{DAC,ponje,t_{0}} \\cdot 0.02536$"
      ],
      "text/plain": [
       "<IPython.core.display.Math object>"
      ]
     },
     "metadata": {},
     "output_type": "display_data"
    },
    {
     "data": {
      "text/latex": [
       "$\\displaystyle {opex}_{csh,DAC,cacoda,t_{0}} = {operate}_{DAC,cacoda,t_{0}} \\cdot 0.634$"
      ],
      "text/plain": [
       "<IPython.core.display.Math object>"
      ]
     },
     "metadata": {},
     "output_type": "display_data"
    },
    {
     "data": {
      "text/latex": [
       "$\\displaystyle {opex}_{csh,DAC,madgaon,t_{0}} = {operate}_{DAC,madgaon,t_{0}} \\cdot 0.634$"
      ],
      "text/plain": [
       "<IPython.core.display.Math object>"
      ]
     },
     "metadata": {},
     "output_type": "display_data"
    },
    {
     "data": {
      "text/latex": [
       "$\\displaystyle {opex}_{csh,DAC,ponje,t_{0}} = {operate}_{DAC,ponje,t_{0}} \\cdot 0.634$"
      ],
      "text/plain": [
       "<IPython.core.display.Math object>"
      ]
     },
     "metadata": {},
     "output_type": "display_data"
    },
    {
     "data": {
      "text/latex": [
       "$\\displaystyle {capacity}_{ASMR,net,t_{0}} = 1000$"
      ],
      "text/plain": [
       "<IPython.core.display.Math object>"
      ]
     },
     "metadata": {},
     "output_type": "display_data"
    },
    {
     "data": {
      "text/latex": [
       "$\\displaystyle {capex}_{csh,ASMR,cacoda,t_{0}} = {capacity}_{ASMR,cacoda,t_{0}} \\cdot 7988951$"
      ],
      "text/plain": [
       "<IPython.core.display.Math object>"
      ]
     },
     "metadata": {},
     "output_type": "display_data"
    },
    {
     "data": {
      "text/latex": [
       "$\\displaystyle {capex}_{csh,ASMR,madgaon,t_{0}} = {capacity}_{ASMR,madgaon,t_{0}} \\cdot 7988951$"
      ],
      "text/plain": [
       "<IPython.core.display.Math object>"
      ]
     },
     "metadata": {},
     "output_type": "display_data"
    },
    {
     "data": {
      "text/latex": [
       "$\\displaystyle {capex}_{csh,ASMR,ponje,t_{0}} = {capacity}_{ASMR,ponje,t_{0}} \\cdot 7988951$"
      ],
      "text/plain": [
       "<IPython.core.display.Math object>"
      ]
     },
     "metadata": {},
     "output_type": "display_data"
    },
    {
     "data": {
      "text/latex": [
       "$\\displaystyle {opex^{I}}_{csh,ASMR,cacoda,t_{0}} = 0.0292$"
      ],
      "text/plain": [
       "<IPython.core.display.Math object>"
      ]
     },
     "metadata": {},
     "output_type": "display_data"
    },
    {
     "data": {
      "text/latex": [
       "$\\displaystyle {opex^{I}}_{csh,ASMR,madgaon,t_{0}} = 0.0292$"
      ],
      "text/plain": [
       "<IPython.core.display.Math object>"
      ]
     },
     "metadata": {},
     "output_type": "display_data"
    },
    {
     "data": {
      "text/latex": [
       "$\\displaystyle {opex^{I}}_{csh,ASMR,ponje,t_{0}} = 0.0292$"
      ],
      "text/plain": [
       "<IPython.core.display.Math object>"
      ]
     },
     "metadata": {},
     "output_type": "display_data"
    },
    {
     "data": {
      "text/latex": [
       "$\\displaystyle {buy}_{Uranium,ASMR,net,t_{0}} = 40$"
      ],
      "text/plain": [
       "<IPython.core.display.Math object>"
      ]
     },
     "metadata": {},
     "output_type": "display_data"
    },
    {
     "data": {
      "text/latex": [
       "$\\displaystyle {capacity}_{AWE,net,t_{0}} \\geq 0$"
      ],
      "text/plain": [
       "<IPython.core.display.Math object>"
      ]
     },
     "metadata": {},
     "output_type": "display_data"
    },
    {
     "data": {
      "text/latex": [
       "$\\displaystyle {capacity}_{AWE,net,t_{0}} \\leq M$"
      ],
      "text/plain": [
       "<IPython.core.display.Math object>"
      ]
     },
     "metadata": {},
     "output_type": "display_data"
    },
    {
     "data": {
      "text/latex": [
       "$\\displaystyle {use^{setup}}_{lnd_{def},AWE,cacoda,t_{0}} = {capacity}_{AWE,cacoda,t_{0}} \\cdot {θ}_{lnd_{def},AWE,cacoda,t_{0}}$"
      ],
      "text/plain": [
       "<IPython.core.display.Math object>"
      ]
     },
     "metadata": {},
     "output_type": "display_data"
    },
    {
     "data": {
      "text/latex": [
       "$\\displaystyle {use^{setup}}_{lnd_{def},AWE,madgaon,t_{0}} = {capacity}_{AWE,madgaon,t_{0}} \\cdot {θ}_{lnd_{def},AWE,madgaon,t_{0}}$"
      ],
      "text/plain": [
       "<IPython.core.display.Math object>"
      ]
     },
     "metadata": {},
     "output_type": "display_data"
    },
    {
     "data": {
      "text/latex": [
       "$\\displaystyle {use^{setup}}_{lnd_{def},AWE,ponje,t_{0}} = {capacity}_{AWE,ponje,t_{0}} \\cdot {θ}_{lnd_{def},AWE,ponje,t_{0}}$"
      ],
      "text/plain": [
       "<IPython.core.display.Math object>"
      ]
     },
     "metadata": {},
     "output_type": "display_data"
    },
    {
     "data": {
      "text/latex": [
       "$\\displaystyle {capex}_{csh,AWE,cacoda,t_{0}} = {capacity}_{AWE,cacoda,t_{0}} \\cdot 1100000.0$"
      ],
      "text/plain": [
       "<IPython.core.display.Math object>"
      ]
     },
     "metadata": {},
     "output_type": "display_data"
    },
    {
     "data": {
      "text/latex": [
       "$\\displaystyle {capex^{I}}_{csh,AWE,cacoda,t_{0}} = 20$"
      ],
      "text/plain": [
       "<IPython.core.display.Math object>"
      ]
     },
     "metadata": {},
     "output_type": "display_data"
    },
    {
     "data": {
      "text/latex": [
       "$\\displaystyle {capex^{I}}_{csh,AWE,madgaon,t_{0}} = 20$"
      ],
      "text/plain": [
       "<IPython.core.display.Math object>"
      ]
     },
     "metadata": {},
     "output_type": "display_data"
    },
    {
     "data": {
      "text/latex": [
       "$\\displaystyle {capex}_{csh,AWE,madgaon,t_{0}} = {capacity}_{AWE,madgaon,t_{0}} \\cdot 1100000.0$"
      ],
      "text/plain": [
       "<IPython.core.display.Math object>"
      ]
     },
     "metadata": {},
     "output_type": "display_data"
    },
    {
     "data": {
      "text/latex": [
       "$\\displaystyle {capex}_{csh,AWE,ponje,t_{0}} = {capacity}_{AWE,ponje,t_{0}} \\cdot 1100000.0$"
      ],
      "text/plain": [
       "<IPython.core.display.Math object>"
      ]
     },
     "metadata": {},
     "output_type": "display_data"
    },
    {
     "data": {
      "text/latex": [
       "$\\displaystyle {capex^{I}}_{csh,AWE,ponje,t_{0}} = 20$"
      ],
      "text/plain": [
       "<IPython.core.display.Math object>"
      ]
     },
     "metadata": {},
     "output_type": "display_data"
    },
    {
     "data": {
      "text/latex": [
       "$\\displaystyle {opex^{I}}_{csh,AWE,cacoda,t_{0}} = 16918$"
      ],
      "text/plain": [
       "<IPython.core.display.Math object>"
      ]
     },
     "metadata": {},
     "output_type": "display_data"
    },
    {
     "data": {
      "text/latex": [
       "$\\displaystyle {opex^{I}}_{csh,AWE,madgaon,t_{0}} = 16918$"
      ],
      "text/plain": [
       "<IPython.core.display.Math object>"
      ]
     },
     "metadata": {},
     "output_type": "display_data"
    },
    {
     "data": {
      "text/latex": [
       "$\\displaystyle {opex^{I}}_{csh,AWE,ponje,t_{0}} = 16918$"
      ],
      "text/plain": [
       "<IPython.core.display.Math object>"
      ]
     },
     "metadata": {},
     "output_type": "display_data"
    },
    {
     "data": {
      "text/latex": [
       "$\\displaystyle {capacity}_{LiI,net,t_{0}} \\geq 0$"
      ],
      "text/plain": [
       "<IPython.core.display.Math object>"
      ]
     },
     "metadata": {},
     "output_type": "display_data"
    },
    {
     "data": {
      "text/latex": [
       "$\\displaystyle {capacity}_{LiI,net,t_{0}} \\leq 2000$"
      ],
      "text/plain": [
       "<IPython.core.display.Math object>"
      ]
     },
     "metadata": {},
     "output_type": "display_data"
    },
    {
     "data": {
      "text/latex": [
       "$\\displaystyle {capacity}_{LiI_{in},net,t_{0}} \\geq 0$"
      ],
      "text/plain": [
       "<IPython.core.display.Math object>"
      ]
     },
     "metadata": {},
     "output_type": "display_data"
    },
    {
     "data": {
      "text/latex": [
       "$\\displaystyle {capacity}_{LiI_{in},net,t_{0}} \\leq 40$"
      ],
      "text/plain": [
       "<IPython.core.display.Math object>"
      ]
     },
     "metadata": {},
     "output_type": "display_data"
    },
    {
     "data": {
      "text/latex": [
       "$\\displaystyle {capacity}_{LiI_{out},net,t_{0}} \\geq 0$"
      ],
      "text/plain": [
       "<IPython.core.display.Math object>"
      ]
     },
     "metadata": {},
     "output_type": "display_data"
    },
    {
     "data": {
      "text/latex": [
       "$\\displaystyle {capacity}_{LiI_{out},net,t_{0}} \\leq 20$"
      ],
      "text/plain": [
       "<IPython.core.display.Math object>"
      ]
     },
     "metadata": {},
     "output_type": "display_data"
    },
    {
     "data": {
      "text/latex": [
       "$\\displaystyle {capacity}_{LiI_{2},net,t_{0}} \\geq 0$"
      ],
      "text/plain": [
       "<IPython.core.display.Math object>"
      ]
     },
     "metadata": {},
     "output_type": "display_data"
    },
    {
     "data": {
      "text/latex": [
       "$\\displaystyle {capacity}_{LiI_{2},net,t_{0}} \\leq 2000$"
      ],
      "text/plain": [
       "<IPython.core.display.Math object>"
      ]
     },
     "metadata": {},
     "output_type": "display_data"
    },
    {
     "data": {
      "text/latex": [
       "$\\displaystyle {capacity}_{H2Stg,net,t_{0}} \\geq 0$"
      ],
      "text/plain": [
       "<IPython.core.display.Math object>"
      ]
     },
     "metadata": {},
     "output_type": "display_data"
    },
    {
     "data": {
      "text/latex": [
       "$\\displaystyle {capacity}_{H2Stg,net,t_{0}} \\leq 2000$"
      ],
      "text/plain": [
       "<IPython.core.display.Math object>"
      ]
     },
     "metadata": {},
     "output_type": "display_data"
    }
   ],
   "source": [
    "s.pprint()"
   ]
  },
  {
   "cell_type": "code",
   "execution_count": null,
   "metadata": {},
   "outputs": [],
   "source": []
  }
 ],
 "metadata": {
  "kernelspec": {
   "display_name": ".venv",
   "language": "python",
   "name": "python3"
  },
  "language_info": {
   "codemirror_mode": {
    "name": "ipython",
    "version": 3
   },
   "file_extension": ".py",
   "mimetype": "text/x-python",
   "name": "python",
   "nbconvert_exporter": "python",
   "pygments_lexer": "ipython3",
   "version": "3.10.11"
  },
  "orig_nbformat": 4
 },
 "nbformat": 4,
 "nbformat_minor": 2
}
