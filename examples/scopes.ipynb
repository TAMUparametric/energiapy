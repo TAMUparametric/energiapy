{
 "cells": [
  {
   "cell_type": "code",
   "execution_count": 1,
   "metadata": {},
   "outputs": [],
   "source": [
    "import sys\n",
    "\n",
    "sys.path.append('../src')"
   ]
  },
  {
   "cell_type": "code",
   "execution_count": 2,
   "metadata": {},
   "outputs": [],
   "source": [
    "from energiapy.components.temporal.horizon import Horizon\n",
    "from energiapy.components.spatial.network import Network\n",
    "from energiapy.components.temporal.scale import Scale\n",
    "from energiapy.environ.scenario import Scenario"
   ]
  },
  {
   "cell_type": "code",
   "execution_count": 3,
   "metadata": {},
   "outputs": [],
   "source": [
    "s = Scenario()"
   ]
  },
  {
   "cell_type": "code",
   "execution_count": 4,
   "metadata": {},
   "outputs": [],
   "source": [
    "scls_nest = {'day': 365, 'hour': 24}\n",
    "scls_flat = {'month': 12, 'day': 365, 'hour': 8760}\n",
    "locs_nest = {'state': 50, 'city': 3}\n",
    "locs_flat = {'state': 50, 'city': 150}"
   ]
  },
  {
   "cell_type": "code",
   "execution_count": 5,
   "metadata": {},
   "outputs": [
    {
     "ename": "RecursionError",
     "evalue": "maximum recursion depth exceeded",
     "output_type": "error",
     "traceback": [
      "\u001b[1;31m---------------------------------------------------------------------------\u001b[0m",
      "\u001b[1;31mRecursionError\u001b[0m                            Traceback (most recent call last)",
      "Cell \u001b[1;32mIn[5], line 2\u001b[0m\n\u001b[0;32m      1\u001b[0m s_hrz_nest \u001b[38;5;241m=\u001b[39m Scenario()\n\u001b[1;32m----> 2\u001b[0m \u001b[43ms_hrz_nest\u001b[49m\u001b[38;5;241;43m.\u001b[39;49m\u001b[43mhrz\u001b[49m \u001b[38;5;241m=\u001b[39m Horizon(birth\u001b[38;5;241m=\u001b[39mscls_nest, nested\u001b[38;5;241m=\u001b[39m\u001b[38;5;28;01mTrue\u001b[39;00m)\n\u001b[0;32m      3\u001b[0m s_hrz_flat \u001b[38;5;241m=\u001b[39m Scenario()\n\u001b[0;32m      4\u001b[0m s_hrz_flat\u001b[38;5;241m.\u001b[39mhrz \u001b[38;5;241m=\u001b[39m Horizon(birth\u001b[38;5;241m=\u001b[39mscls_flat)\n",
      "File \u001b[1;32mc:\\Users\\cacodcar\\energiapy\\examples\\../src\\energiapy\\environ\\scenario.py:166\u001b[0m, in \u001b[0;36mScenario.__setattr__\u001b[1;34m(self, name, value)\u001b[0m\n\u001b[0;32m    164\u001b[0m \u001b[38;5;28;01mif\u001b[39;00m \u001b[38;5;28misinstance\u001b[39m(value, Horizon):\n\u001b[0;32m    165\u001b[0m     \u001b[38;5;28mself\u001b[39m\u001b[38;5;241m.\u001b[39mhandle_unique_cmp(\u001b[38;5;124m'\u001b[39m\u001b[38;5;124mhorizon\u001b[39m\u001b[38;5;124m'\u001b[39m, value)\n\u001b[1;32m--> 166\u001b[0m     \u001b[38;5;28;43mself\u001b[39;49m\u001b[38;5;241;43m.\u001b[39;49m\u001b[43mbirth_partitions\u001b[49m\u001b[43m(\u001b[49m\u001b[43mscope\u001b[49m\u001b[38;5;241;43m=\u001b[39;49m\u001b[43mvalue\u001b[49m\u001b[43m,\u001b[49m\u001b[43m \u001b[49m\u001b[43mbirth\u001b[49m\u001b[38;5;241;43m=\u001b[39;49m\u001b[43mScale\u001b[49m\u001b[43m)\u001b[49m\n\u001b[0;32m    167\u001b[0m     \u001b[38;5;66;03m# value.periodize()\u001b[39;00m\n\u001b[0;32m    168\u001b[0m     \u001b[38;5;66;03m# once scales are birthed, they are periodized\u001b[39;00m\n\u001b[0;32m    169\u001b[0m     \u001b[38;5;66;03m# which creates time periods for each scale\u001b[39;00m\n\u001b[0;32m    170\u001b[0m     \u001b[38;5;28;01mfor\u001b[39;00m s \u001b[38;5;129;01min\u001b[39;00m \u001b[38;5;28mself\u001b[39m\u001b[38;5;241m.\u001b[39mscales:\n",
      "File \u001b[1;32mc:\\Users\\cacodcar\\energiapy\\examples\\../src\\energiapy\\environ\\_scenario\\_birth.py:50\u001b[0m, in \u001b[0;36m_Birth.birth_partitions\u001b[1;34m(self, scope, birth)\u001b[0m\n\u001b[0;32m     44\u001b[0m \u001b[38;5;28;01melif\u001b[39;00m scope\u001b[38;5;241m.\u001b[39mnested \u001b[38;5;129;01mand\u001b[39;00m i \u001b[38;5;241m>\u001b[39m \u001b[38;5;241m0\u001b[39m:\n\u001b[0;32m     45\u001b[0m     parent \u001b[38;5;241m=\u001b[39m \u001b[38;5;28mgetattr\u001b[39m(\u001b[38;5;28mself\u001b[39m, scope\u001b[38;5;241m.\u001b[39mbirth_names[i \u001b[38;5;241m-\u001b[39m \u001b[38;5;241m1\u001b[39m])\n\u001b[0;32m     47\u001b[0m \u001b[38;5;28msetattr\u001b[39m(\n\u001b[0;32m     48\u001b[0m     \u001b[38;5;28mself\u001b[39m,\n\u001b[0;32m     49\u001b[0m     scope\u001b[38;5;241m.\u001b[39mbirth_names[i],\n\u001b[1;32m---> 50\u001b[0m     \u001b[43mbirth\u001b[49m\u001b[43m(\u001b[49m\n\u001b[0;32m     51\u001b[0m \u001b[43m        \u001b[49m\u001b[43mlabel\u001b[49m\u001b[38;5;241;43m=\u001b[39;49m\u001b[43mscope\u001b[49m\u001b[38;5;241;43m.\u001b[39;49m\u001b[43mbirth_labels\u001b[49m\u001b[43m[\u001b[49m\u001b[43mi\u001b[49m\u001b[43m]\u001b[49m\u001b[43m,\u001b[49m\n\u001b[0;32m     52\u001b[0m \u001b[43m        \u001b[49m\u001b[43mparent\u001b[49m\u001b[38;5;241;43m=\u001b[39;49m\u001b[43mparent\u001b[49m\u001b[43m,\u001b[49m\n\u001b[0;32m     53\u001b[0m \u001b[43m        \u001b[49m\u001b[43mdiscrs\u001b[49m\u001b[38;5;241;43m=\u001b[39;49m\u001b[43mscope\u001b[49m\u001b[38;5;241;43m.\u001b[39;49m\u001b[43mbirth_list\u001b[49m\u001b[43m[\u001b[49m\u001b[43mi\u001b[49m\u001b[43m]\u001b[49m\u001b[43m,\u001b[49m\n\u001b[0;32m     54\u001b[0m \u001b[43m    \u001b[49m\u001b[43m)\u001b[49m,\n\u001b[0;32m     55\u001b[0m )\n",
      "File \u001b[1;32m<string>:6\u001b[0m, in \u001b[0;36m__init__\u001b[1;34m(self, label, parent, discrs)\u001b[0m\n",
      "File \u001b[1;32mc:\\Users\\cacodcar\\energiapy\\examples\\../src\\energiapy\\components\\temporal\\scale.py:23\u001b[0m, in \u001b[0;36mScale.__post_init__\u001b[1;34m(self)\u001b[0m\n\u001b[0;32m     22\u001b[0m \u001b[38;5;28;01mdef\u001b[39;00m \u001b[38;5;21m__post_init__\u001b[39m(\u001b[38;5;28mself\u001b[39m):\n\u001b[1;32m---> 23\u001b[0m     \u001b[43m_Discr\u001b[49m\u001b[38;5;241;43m.\u001b[39;49m\u001b[43m__post_init__\u001b[49m\u001b[43m(\u001b[49m\u001b[38;5;28;43mself\u001b[39;49m\u001b[43m)\u001b[49m\n\u001b[0;32m     24\u001b[0m     \u001b[38;5;28mself\u001b[39m\u001b[38;5;241m.\u001b[39mperiods \u001b[38;5;241m=\u001b[39m \u001b[38;5;28;01mNone\u001b[39;00m\n",
      "File \u001b[1;32mc:\\Users\\cacodcar\\energiapy\\examples\\../src\\energiapy\\components\\_base\\_discr.py:37\u001b[0m, in \u001b[0;36m_Discr.__post_init__\u001b[1;34m(self)\u001b[0m\n\u001b[0;32m     33\u001b[0m     \u001b[38;5;28mself\u001b[39m\u001b[38;5;241m.\u001b[39mdiscrs \u001b[38;5;241m=\u001b[39m \u001b[38;5;28mlist\u001b[39m(\u001b[38;5;28mself\u001b[39m\u001b[38;5;241m.\u001b[39mdiscrs\u001b[38;5;241m.\u001b[39mvalues())[\u001b[38;5;241m0\u001b[39m]\n\u001b[0;32m     35\u001b[0m \u001b[38;5;28mself\u001b[39m\u001b[38;5;241m.\u001b[39m_children \u001b[38;5;241m=\u001b[39m []\n\u001b[1;32m---> 37\u001b[0m \u001b[38;5;28;43mself\u001b[39;49m\u001b[38;5;241;43m.\u001b[39;49m\u001b[43mparent\u001b[49m\u001b[38;5;241;43m.\u001b[39;49m\u001b[43mchildren\u001b[49m\u001b[38;5;241m.\u001b[39mappend(\u001b[38;5;28mself\u001b[39m)\n",
      "File \u001b[1;32mc:\\Users\\cacodcar\\energiapy\\examples\\../src\\energiapy\\components\\_base\\_scope.py:63\u001b[0m, in \u001b[0;36m_Scope.children\u001b[1;34m(self)\u001b[0m\n\u001b[0;32m     60\u001b[0m \u001b[38;5;129m@property\u001b[39m\n\u001b[0;32m     61\u001b[0m \u001b[38;5;28;01mdef\u001b[39;00m \u001b[38;5;21mchildren\u001b[39m(\u001b[38;5;28mself\u001b[39m):\n\u001b[0;32m     62\u001b[0m \u001b[38;5;250m    \u001b[39m\u001b[38;5;124;03m\"\"\"Children of the Discretization\"\"\"\u001b[39;00m\n\u001b[1;32m---> 63\u001b[0m     \u001b[38;5;28;01mreturn\u001b[39;00m \u001b[38;5;28mself\u001b[39m\u001b[38;5;241m.\u001b[39m_children \u001b[38;5;241m+\u001b[39m [c\u001b[38;5;241m.\u001b[39m_children \u001b[38;5;28;01mfor\u001b[39;00m c \u001b[38;5;129;01min\u001b[39;00m \u001b[38;5;28;43mself\u001b[39;49m\u001b[38;5;241;43m.\u001b[39;49m\u001b[43mchildren\u001b[49m]\n",
      "File \u001b[1;32mc:\\Users\\cacodcar\\energiapy\\examples\\../src\\energiapy\\components\\_base\\_scope.py:63\u001b[0m, in \u001b[0;36m_Scope.children\u001b[1;34m(self)\u001b[0m\n\u001b[0;32m     60\u001b[0m \u001b[38;5;129m@property\u001b[39m\n\u001b[0;32m     61\u001b[0m \u001b[38;5;28;01mdef\u001b[39;00m \u001b[38;5;21mchildren\u001b[39m(\u001b[38;5;28mself\u001b[39m):\n\u001b[0;32m     62\u001b[0m \u001b[38;5;250m    \u001b[39m\u001b[38;5;124;03m\"\"\"Children of the Discretization\"\"\"\u001b[39;00m\n\u001b[1;32m---> 63\u001b[0m     \u001b[38;5;28;01mreturn\u001b[39;00m \u001b[38;5;28mself\u001b[39m\u001b[38;5;241m.\u001b[39m_children \u001b[38;5;241m+\u001b[39m [c\u001b[38;5;241m.\u001b[39m_children \u001b[38;5;28;01mfor\u001b[39;00m c \u001b[38;5;129;01min\u001b[39;00m \u001b[38;5;28;43mself\u001b[39;49m\u001b[38;5;241;43m.\u001b[39;49m\u001b[43mchildren\u001b[49m]\n",
      "    \u001b[1;31m[... skipping similar frames: _Scope.children at line 63 (2969 times)]\u001b[0m\n",
      "File \u001b[1;32mc:\\Users\\cacodcar\\energiapy\\examples\\../src\\energiapy\\components\\_base\\_scope.py:63\u001b[0m, in \u001b[0;36m_Scope.children\u001b[1;34m(self)\u001b[0m\n\u001b[0;32m     60\u001b[0m \u001b[38;5;129m@property\u001b[39m\n\u001b[0;32m     61\u001b[0m \u001b[38;5;28;01mdef\u001b[39;00m \u001b[38;5;21mchildren\u001b[39m(\u001b[38;5;28mself\u001b[39m):\n\u001b[0;32m     62\u001b[0m \u001b[38;5;250m    \u001b[39m\u001b[38;5;124;03m\"\"\"Children of the Discretization\"\"\"\u001b[39;00m\n\u001b[1;32m---> 63\u001b[0m     \u001b[38;5;28;01mreturn\u001b[39;00m \u001b[38;5;28mself\u001b[39m\u001b[38;5;241m.\u001b[39m_children \u001b[38;5;241m+\u001b[39m [c\u001b[38;5;241m.\u001b[39m_children \u001b[38;5;28;01mfor\u001b[39;00m c \u001b[38;5;129;01min\u001b[39;00m \u001b[38;5;28;43mself\u001b[39;49m\u001b[38;5;241;43m.\u001b[39;49m\u001b[43mchildren\u001b[49m]\n",
      "\u001b[1;31mRecursionError\u001b[0m: maximum recursion depth exceeded"
     ]
    }
   ],
   "source": [
    "s_hrz_nest = Scenario()\n",
    "s_hrz_nest.hrz = Horizon(birth=scls_nest, nested=True)\n",
    "s_hrz_flat = Scenario()\n",
    "s_hrz_flat.hrz = Horizon(birth=scls_flat)\n",
    "s_ntw_nest = Scenario()\n",
    "s_ntw_nest.ntw = Network(birth=locs_nest, nested=True)\n",
    "s_ntw_flat = Scenario()\n",
    "s_ntw_flat.ntw = Network(birth=locs_flat)"
   ]
  },
  {
   "cell_type": "code",
   "execution_count": 6,
   "metadata": {},
   "outputs": [
    {
     "name": "stdout",
     "output_type": "stream",
     "text": [
      "(hrz,) (hrz, day) (hrz, day, hour)\n",
      "1 365 8760\n",
      "[day] [hour] []\n"
     ]
    }
   ],
   "source": [
    "print(s_hrz_nest.hrz.index, s_hrz_nest.day.index, s_hrz_nest.hour.index)\n",
    "print(s_hrz_nest.hrz.discrs, s_hrz_nest.day.discrs, s_hrz_nest.hour.discrs)\n",
    "print(s_hrz_nest.hrz.children, s_hrz_nest.day.children, s_hrz_nest.hour.children)"
   ]
  },
  {
   "cell_type": "code",
   "execution_count": 7,
   "metadata": {},
   "outputs": [
    {
     "name": "stdout",
     "output_type": "stream",
     "text": [
      "(hrz,) (hrz, month) (hrz, day) (hrz, hour)\n",
      "1 12 365 8760\n",
      "[month, day, hour] [] [] []\n"
     ]
    }
   ],
   "source": [
    "\n",
    "print(\n",
    "    s_hrz_flat.hrz.index,\n",
    "    s_hrz_flat.month.index,\n",
    "    s_hrz_flat.day.index,\n",
    "    s_hrz_flat.hour.index,\n",
    ")\n",
    "print(\n",
    "    s_hrz_flat.hrz.discrs,\n",
    "    s_hrz_flat.month.discrs,\n",
    "    s_hrz_flat.day.discrs,\n",
    "    s_hrz_flat.hour.discrs,\n",
    ")\n",
    "\n",
    "print(\n",
    "    s_hrz_flat.hrz.children,\n",
    "    s_hrz_flat.month.children,\n",
    "    s_hrz_flat.day.children,\n",
    "    s_hrz_flat.hour.children,\n",
    ")"
   ]
  },
  {
   "cell_type": "code",
   "execution_count": 8,
   "metadata": {},
   "outputs": [
    {
     "name": "stdout",
     "output_type": "stream",
     "text": [
      "(ntw,) (ntw, state) (ntw, state, city)\n",
      "1 50 150\n",
      "[state] [city] []\n"
     ]
    }
   ],
   "source": [
    "\n",
    "print(s_ntw_nest.ntw.index, s_ntw_nest.state.index, s_ntw_nest.city.index)\n",
    "print(s_ntw_nest.ntw.discrs, s_ntw_nest.state.discrs, s_ntw_nest.city.discrs)\n",
    "print(s_ntw_nest.ntw.children, s_ntw_nest.state.children, s_ntw_nest.city.children)"
   ]
  },
  {
   "cell_type": "code",
   "execution_count": 9,
   "metadata": {},
   "outputs": [
    {
     "name": "stdout",
     "output_type": "stream",
     "text": [
      "(ntw,) (ntw, state) (ntw, city)\n",
      "1 50 150\n",
      "[state, city] [] []\n"
     ]
    }
   ],
   "source": [
    "\n",
    "print(s_ntw_flat.ntw.index, s_ntw_flat.state.index, s_ntw_flat.city.index)\n",
    "print(s_ntw_flat.ntw.discrs, s_ntw_flat.state.discrs, s_ntw_flat.city.discrs)\n",
    "print(s_ntw_flat.ntw.children, s_ntw_flat.state.children, s_ntw_flat.city.children)"
   ]
  },
  {
   "cell_type": "code",
   "execution_count": 16,
   "metadata": {},
   "outputs": [
    {
     "ename": "AttributeError",
     "evalue": "'Scenario' object has no attribute 't1'",
     "output_type": "error",
     "traceback": [
      "\u001b[1;31m---------------------------------------------------------------------------\u001b[0m",
      "\u001b[1;31mAttributeError\u001b[0m                            Traceback (most recent call last)",
      "Cell \u001b[1;32mIn[16], line 1\u001b[0m\n\u001b[1;32m----> 1\u001b[0m \u001b[43ms\u001b[49m\u001b[38;5;241;43m.\u001b[39;49m\u001b[43mt1\u001b[49m\u001b[38;5;241m.\u001b[39msystem \n",
      "\u001b[1;31mAttributeError\u001b[0m: 'Scenario' object has no attribute 't1'"
     ]
    }
   ],
   "source": [
    "s.t1.system"
   ]
  },
  {
   "cell_type": "code",
   "execution_count": 13,
   "metadata": {},
   "outputs": [],
   "source": [
    "s.week = Scale(parent=s.hrz, discrs=5)"
   ]
  },
  {
   "cell_type": "code",
   "execution_count": 15,
   "metadata": {},
   "outputs": [
    {
     "data": {
      "text/plain": [
       "day"
      ]
     },
     "execution_count": 15,
     "metadata": {},
     "output_type": "execute_result"
    }
   ],
   "source": [
    "s.month.child"
   ]
  },
  {
   "cell_type": "code",
   "execution_count": null,
   "metadata": {},
   "outputs": [],
   "source": []
  },
  {
   "cell_type": "code",
   "execution_count": 14,
   "metadata": {},
   "outputs": [],
   "source": [
    "s.week.child"
   ]
  },
  {
   "cell_type": "code",
   "execution_count": 5,
   "metadata": {},
   "outputs": [
    {
     "data": {
      "text/plain": [
       "{month: (hrz, month), day: (hrz, month, day), hour: (hrz, month, day, hour)}"
      ]
     },
     "execution_count": 5,
     "metadata": {},
     "output_type": "execute_result"
    }
   ],
   "source": [
    "s.hrz.indices"
   ]
  },
  {
   "cell_type": "markdown",
   "metadata": {},
   "source": [
    "Scopes (Network, Horizon) can be partitioned. These discretizations help represent the state of the system. "
   ]
  },
  {
   "cell_type": "code",
   "execution_count": 19,
   "metadata": {},
   "outputs": [],
   "source": [
    "locations_list = [50]  # one country, 50 states\n",
    "locs_in_locs_list = [5, 3]  # 5 states, 3 cities in each state\n",
    "locs_dict = {'state': 50, 'county': 3143, 'Texas': 1}\n",
    "locs_in_locs_dict = {\n",
    "    'planet': 8,\n",
    "    'sites': 3,\n",
    "}  # three possible landing sites on each of the 8 planets\n",
    "\n",
    "\n",
    "# locs_in_locs_dict = {\n",
    "#     'middleearth': {\n",
    "#         'hobbiton': {'shire': {'hobbiton': 'bagend'}, 'gamwich': {}},\n",
    "#         'mordor': {'mountdoom'},\n",
    "#     },\n",
    "#     'india': {\n",
    "#         'goa': {'magdaon', 'ponje'},\n",
    "#     },\n",
    "#     'greece': {'thessaloniki'},\n",
    "# }"
   ]
  },
  {
   "cell_type": "code",
   "execution_count": 20,
   "metadata": {},
   "outputs": [],
   "source": [
    "scales = [{'day': 365}, {'day': {'hour': 24}}, {'week': {'day': 7}}]\n",
    "locs = [\n",
    "    {'india': ['madgaon', 'cacoda']},\n",
    "    {'greece': {'macedonia': {'thessaloniki': 4}}},\n",
    "]"
   ]
  },
  {
   "cell_type": "code",
   "execution_count": 21,
   "metadata": {},
   "outputs": [
    {
     "ename": "NameError",
     "evalue": "name 'scales_' is not defined",
     "output_type": "error",
     "traceback": [
      "\u001b[0;31m---------------------------------------------------------------------------\u001b[0m",
      "\u001b[0;31mNameError\u001b[0m                                 Traceback (most recent call last)",
      "Cell \u001b[0;32mIn[21], line 6\u001b[0m\n\u001b[1;32m      3\u001b[0m scales_dict \u001b[38;5;241m=\u001b[39m {\u001b[38;5;124m'\u001b[39m\u001b[38;5;124mmonth\u001b[39m\u001b[38;5;124m'\u001b[39m: \u001b[38;5;241m12\u001b[39m, \u001b[38;5;124m'\u001b[39m\u001b[38;5;124mhour\u001b[39m\u001b[38;5;124m'\u001b[39m: \u001b[38;5;241m8760\u001b[39m}\n\u001b[1;32m      4\u001b[0m scales_in_scales_dict \u001b[38;5;241m=\u001b[39m {\u001b[38;5;124m'\u001b[39m\u001b[38;5;124mweek\u001b[39m\u001b[38;5;124m'\u001b[39m: \u001b[38;5;241m4\u001b[39m, \u001b[38;5;124m'\u001b[39m\u001b[38;5;124mday\u001b[39m\u001b[38;5;124m'\u001b[39m: \u001b[38;5;241m7\u001b[39m}\n\u001b[0;32m----> 6\u001b[0m \u001b[43mscales_\u001b[49m\n\u001b[1;32m      7\u001b[0m sample_scales \u001b[38;5;241m=\u001b[39m {\n\u001b[1;32m      8\u001b[0m     \u001b[38;5;124m'\u001b[39m\u001b[38;5;124myear\u001b[39m\u001b[38;5;124m'\u001b[39m: \u001b[38;5;241m1\u001b[39m,\n\u001b[1;32m      9\u001b[0m     \u001b[38;5;124m'\u001b[39m\u001b[38;5;124mmonth\u001b[39m\u001b[38;5;124m'\u001b[39m: \u001b[38;5;241m12\u001b[39m,\n\u001b[1;32m     10\u001b[0m }\n\u001b[1;32m     11\u001b[0m sample_scales_nested \u001b[38;5;241m=\u001b[39m {\u001b[38;5;124m'\u001b[39m\u001b[38;5;124myear\u001b[39m\u001b[38;5;124m'\u001b[39m: \u001b[38;5;241m5\u001b[39m, \u001b[38;5;124m'\u001b[39m\u001b[38;5;124mmonth\u001b[39m\u001b[38;5;124m'\u001b[39m: \u001b[38;5;241m12\u001b[39m}\n",
      "\u001b[0;31mNameError\u001b[0m: name 'scales_' is not defined"
     ]
    }
   ],
   "source": [
    "scales_list = [364, 8760]  # days of the year, hours of the year\n",
    "scls_in_scls_list = [364, 24]  # days of the year, hours in each day\n",
    "scales_dict = {'month': 12, 'hour': 8760}\n",
    "scales_in_scales_dict = {'week': 4, 'day': 7}\n",
    "\n",
    "scales_\n",
    "sample_scales = {\n",
    "    'year': 1,\n",
    "    'month': 12,\n",
    "}\n",
    "sample_scales_nested = {'year': 5, 'month': 12}\n",
    "sample_locations_nested = {'country': 2, 'states': 10, 'cities': 2}\n",
    "\n",
    "d = {\n",
    "    'india': {\n",
    "        'goa': {'magdaon': {'aquem'}, 'ponje': {}, 'cacoda': {}},\n",
    "        'karnataka': {'belgaum'},\n",
    "    },\n",
    "    'greece': {'macedonia': {'thessaloniki', 'kavala'}},\n",
    "}\n",
    "\n",
    "\n",
    "d2 = {'year': {'day': 365}, 'day': {'hour': 24}, 'hour': {'minute': 60}}\n",
    "d3 = {'country': {'states': 2}, 'states': {'cities': 3}, 'cities': {'suburbs': 3}}"
   ]
  },
  {
   "cell_type": "code",
   "execution_count": 29,
   "metadata": {},
   "outputs": [],
   "source": []
  },
  {
   "cell_type": "code",
   "execution_count": 30,
   "metadata": {},
   "outputs": [],
   "source": [
    "s.weeks = Scale(parent=s.day)"
   ]
  },
  {
   "cell_type": "code",
   "execution_count": 37,
   "metadata": {},
   "outputs": [
    {
     "data": {
      "text/plain": [
       "{month: (hrz, month),\n",
       " day: (hrz, month, day),\n",
       " hour: (hrz, month, day, hour),\n",
       " weeks: (hrz, month, day, weeks)}"
      ]
     },
     "execution_count": 37,
     "metadata": {},
     "output_type": "execute_result"
    }
   ],
   "source": [
    "s.hrz.indices"
   ]
  },
  {
   "cell_type": "code",
   "execution_count": 38,
   "metadata": {},
   "outputs": [
    {
     "ename": "AttributeError",
     "evalue": "'Scale' object has no attribute 'indices'",
     "output_type": "error",
     "traceback": [
      "\u001b[0;31m---------------------------------------------------------------------------\u001b[0m",
      "\u001b[0;31mAttributeError\u001b[0m                            Traceback (most recent call last)",
      "Cell \u001b[0;32mIn[38], line 1\u001b[0m\n\u001b[0;32m----> 1\u001b[0m \u001b[43ms\u001b[49m\u001b[38;5;241;43m.\u001b[39;49m\u001b[43mmonth\u001b[49m\u001b[38;5;241;43m.\u001b[39;49m\u001b[43mindices\u001b[49m \n",
      "\u001b[0;31mAttributeError\u001b[0m: 'Scale' object has no attribute 'indices'"
     ]
    }
   ],
   "source": []
  },
  {
   "cell_type": "code",
   "execution_count": 31,
   "metadata": {},
   "outputs": [
    {
     "data": {
      "text/plain": [
       "weeks"
      ]
     },
     "execution_count": 31,
     "metadata": {},
     "output_type": "execute_result"
    }
   ],
   "source": [
    "s.weeks"
   ]
  },
  {
   "cell_type": "code",
   "execution_count": 27,
   "metadata": {},
   "outputs": [
    {
     "data": {
      "text/plain": [
       "(h2, t0)"
      ]
     },
     "execution_count": 27,
     "metadata": {},
     "output_type": "execute_result"
    }
   ],
   "source": [
    "s.t0.index"
   ]
  },
  {
   "cell_type": "code",
   "execution_count": 28,
   "metadata": {},
   "outputs": [
    {
     "data": {
      "text/plain": [
       "(h2, t0, t1)"
      ]
     },
     "execution_count": 28,
     "metadata": {},
     "output_type": "execute_result"
    }
   ],
   "source": [
    "s.t1.index"
   ]
  },
  {
   "cell_type": "code",
   "execution_count": 23,
   "metadata": {},
   "outputs": [
    {
     "data": {
      "text/plain": [
       "['month', 'week', 'day', 'hour']"
      ]
     },
     "execution_count": 23,
     "metadata": {},
     "output_type": "execute_result"
    }
   ],
   "source": [
    "s.hrz.birth_names"
   ]
  },
  {
   "cell_type": "code",
   "execution_count": 11,
   "metadata": {},
   "outputs": [
    {
     "data": {
      "text/plain": [
       "(h1,)"
      ]
     },
     "execution_count": 11,
     "metadata": {},
     "output_type": "execute_result"
    }
   ],
   "source": [
    "s.h1.index"
   ]
  },
  {
   "cell_type": "code",
   "execution_count": 24,
   "metadata": {},
   "outputs": [
    {
     "data": {
      "text/plain": [
       "(hrz, month)"
      ]
     },
     "execution_count": 24,
     "metadata": {},
     "output_type": "execute_result"
    }
   ],
   "source": [
    "s.month.index"
   ]
  },
  {
   "cell_type": "code",
   "execution_count": 25,
   "metadata": {},
   "outputs": [
    {
     "data": {
      "text/plain": [
       "(hrz, month, week)"
      ]
     },
     "execution_count": 25,
     "metadata": {},
     "output_type": "execute_result"
    }
   ],
   "source": [
    "s.week.index"
   ]
  },
  {
   "cell_type": "code",
   "execution_count": 13,
   "metadata": {},
   "outputs": [
    {
     "data": {
      "text/plain": [
       "{'label': False,\n",
       " 'parent': h1,\n",
       " 'name': 't0',\n",
       " '_named': True,\n",
       " '_model': Model|:s:|,\n",
       " 'child': None,\n",
       " 'periods': [t0h1, t0t0]}"
      ]
     },
     "execution_count": 13,
     "metadata": {},
     "output_type": "execute_result"
    }
   ],
   "source": [
    "s.scales[0].__dict__"
   ]
  },
  {
   "cell_type": "code",
   "execution_count": null,
   "metadata": {},
   "outputs": [],
   "source": [
    "s.n = Network(\n",
    "    {\n",
    "        'india': {'goa': {'magdaon', 'ponje', 'cacoda'}, 'karnataka': {'belgaum'}},\n",
    "        'greece': {'macedonia': {'thessaloniki', 'kavala'}},\n",
    "    }\n",
    ")"
   ]
  },
  {
   "cell_type": "code",
   "execution_count": 45,
   "metadata": {},
   "outputs": [],
   "source": [
    "from energiapy.utils.dictionary import flatten, get_depth"
   ]
  },
  {
   "cell_type": "code",
   "execution_count": null,
   "metadata": {},
   "outputs": [],
   "source": []
  },
  {
   "cell_type": "code",
   "execution_count": 62,
   "metadata": {},
   "outputs": [],
   "source": []
  },
  {
   "cell_type": "code",
   "execution_count": 2,
   "metadata": {},
   "outputs": [],
   "source": []
  },
  {
   "cell_type": "code",
   "execution_count": 3,
   "metadata": {},
   "outputs": [],
   "source": [
    "from energiapy.utils.dictionary import flatten, get_depth, tupler"
   ]
  },
  {
   "cell_type": "code",
   "execution_count": 5,
   "metadata": {},
   "outputs": [],
   "source": [
    "a = tupler(d)"
   ]
  },
  {
   "cell_type": "code",
   "execution_count": null,
   "metadata": {},
   "outputs": [],
   "source": []
  },
  {
   "cell_type": "code",
   "execution_count": 8,
   "metadata": {},
   "outputs": [
    {
     "data": {
      "text/plain": [
       "{'india': ('india',),\n",
       " 'goa': ('india', 'goa'),\n",
       " 'magdaon': ('india', 'goa', 'magdaon'),\n",
       " 'aquem': ('india', 'goa', 'magdaon', 'aquem'),\n",
       " 'ponje': ('india', 'goa', 'ponje'),\n",
       " 'cacoda': ('india', 'goa', 'cacoda'),\n",
       " 'karnataka': ('india', 'karnataka'),\n",
       " 'belgaum': ('india', 'karnataka', 'belgaum'),\n",
       " 'greece': ('greece',),\n",
       " 'macedonia': ('greece', 'macedonia'),\n",
       " 'thessaloniki': ('greece', 'macedonia', 'thessaloniki'),\n",
       " 'kavala': ('greece', 'macedonia', 'kavala')}"
      ]
     },
     "execution_count": 8,
     "metadata": {},
     "output_type": "execute_result"
    }
   ],
   "source": [
    "{k[-1]: k for k in a}"
   ]
  },
  {
   "cell_type": "code",
   "execution_count": 4,
   "metadata": {},
   "outputs": [
    {
     "data": {
      "text/plain": [
       "[('india',),\n",
       " ('india', 'goa'),\n",
       " ('india', 'goa', 'magdaon'),\n",
       " ('india', 'goa', 'magdaon', 'aquem'),\n",
       " ('india', 'goa', 'ponje'),\n",
       " ('india', 'goa', 'cacoda'),\n",
       " ('india', 'karnataka'),\n",
       " ('india', 'karnataka', 'belgaum'),\n",
       " ('greece',),\n",
       " ('greece', 'macedonia'),\n",
       " ('greece', 'macedonia', 'thessaloniki'),\n",
       " ('greece', 'macedonia', 'kavala')]"
      ]
     },
     "execution_count": 4,
     "metadata": {},
     "output_type": "execute_result"
    }
   ],
   "source": [
    "tupler(d)"
   ]
  },
  {
   "cell_type": "code",
   "execution_count": 14,
   "metadata": {},
   "outputs": [
    {
     "data": {
      "text/plain": [
       "['india',\n",
       " 'karnataka',\n",
       " 'goa',\n",
       " 'belgaum',\n",
       " 'thessaloniki',\n",
       " 'cacoda',\n",
       " 'ponje',\n",
       " 'kavala',\n",
       " 'macedonia',\n",
       " 'magdaon',\n",
       " 'aquem',\n",
       " 'greece']"
      ]
     },
     "execution_count": 14,
     "metadata": {},
     "output_type": "execute_result"
    }
   ],
   "source": [
    "list(set(sum(tupler(d), ())))"
   ]
  },
  {
   "cell_type": "code",
   "execution_count": 8,
   "metadata": {},
   "outputs": [],
   "source": [
    "d = {'month': 12, 'week': 52, 'day': 365, 'hour': 365 * 24}"
   ]
  },
  {
   "cell_type": "code",
   "execution_count": 9,
   "metadata": {},
   "outputs": [
    {
     "data": {
      "text/plain": [
       "1"
      ]
     },
     "execution_count": 9,
     "metadata": {},
     "output_type": "execute_result"
    }
   ],
   "source": [
    "get_depth(d)"
   ]
  },
  {
   "cell_type": "code",
   "execution_count": null,
   "metadata": {},
   "outputs": [],
   "source": [
    "{'month': 12, 'week': 52, 'day': 365, 'hour': 365 * 24}"
   ]
  }
 ],
 "metadata": {
  "kernelspec": {
   "display_name": ".venv",
   "language": "python",
   "name": "python3"
  },
  "language_info": {
   "codemirror_mode": {
    "name": "ipython",
    "version": 3
   },
   "file_extension": ".py",
   "mimetype": "text/x-python",
   "name": "python",
   "nbconvert_exporter": "python",
   "pygments_lexer": "ipython3",
   "version": "3.12.5"
  }
 },
 "nbformat": 4,
 "nbformat_minor": 2
}
