{
 "cells": [
  {
   "cell_type": "code",
   "execution_count": 16,
   "metadata": {},
   "outputs": [],
   "source": [
    "import sys\n",
    "sys.path.append('../src')"
   ]
  },
  {
   "cell_type": "code",
   "execution_count": 17,
   "metadata": {},
   "outputs": [],
   "source": [
    "from energiapy.components.temporal.horizon import Horizon\n",
    "from energiapy.components.spatial.network import Network\n",
    "from energiapy.components.temporal.scale import Scale\n",
    "\n",
    "\n",
    "from energiapy.environ.scenario import Scenario"
   ]
  },
  {
   "cell_type": "code",
   "execution_count": 18,
   "metadata": {},
   "outputs": [],
   "source": [
    "s = Scenario()"
   ]
  },
  {
   "cell_type": "markdown",
   "metadata": {},
   "source": [
    "Scopes (Network, Horizon) can be partitioned. These discretizations help represent the state of the system. "
   ]
  },
  {
   "cell_type": "code",
   "execution_count": 19,
   "metadata": {},
   "outputs": [],
   "source": [
    "locations_list = [50]  # one country, 50 states\n",
    "locs_in_locs_list = [5, 3]  # 5 states, 3 cities in each state\n",
    "locs_dict = {'state': 50, 'county': 3143, 'Texas': 1}\n",
    "locs_in_locs_dict = {\n",
    "    'planet': 8,\n",
    "    'sites': 3,\n",
    "}  # three possible landing sites on each of the 8 planets\n",
    "\n",
    "\n",
    "locs_in_locs_dict = {\n",
    "    'middleearth': {\n",
    "        'hobbiton': {'shire': {'hobbiton': 'bagend'}, 'gamwich': {}},\n",
    "        'mordor': {'mountdoom'},\n",
    "    },\n",
    "    'india': {\n",
    "        'goa': {'magdaon', 'ponje'},\n",
    "    },\n",
    "    'greece': {'thessaloniki'},\n",
    "}"
   ]
  },
  {
   "cell_type": "code",
   "execution_count": 20,
   "metadata": {},
   "outputs": [],
   "source": [
    "scales = [{'day': 365}, {'day': {'hour': 24}}, {'week': {'day': 7}}]\n",
    "locs = [\n",
    "    {'india': ['madgaon', 'cacoda']},\n",
    "    {'greece': {'macedonia': {'thessaloniki': 4}}},\n",
    "]"
   ]
  },
  {
   "cell_type": "code",
   "execution_count": 21,
   "metadata": {},
   "outputs": [
    {
     "ename": "NameError",
     "evalue": "name 'scales_' is not defined",
     "output_type": "error",
     "traceback": [
      "\u001b[0;31m---------------------------------------------------------------------------\u001b[0m",
      "\u001b[0;31mNameError\u001b[0m                                 Traceback (most recent call last)",
      "Cell \u001b[0;32mIn[21], line 6\u001b[0m\n\u001b[1;32m      3\u001b[0m scales_dict \u001b[38;5;241m=\u001b[39m {\u001b[38;5;124m'\u001b[39m\u001b[38;5;124mmonth\u001b[39m\u001b[38;5;124m'\u001b[39m: \u001b[38;5;241m12\u001b[39m, \u001b[38;5;124m'\u001b[39m\u001b[38;5;124mhour\u001b[39m\u001b[38;5;124m'\u001b[39m: \u001b[38;5;241m8760\u001b[39m}\n\u001b[1;32m      4\u001b[0m scales_in_scales_dict \u001b[38;5;241m=\u001b[39m {\u001b[38;5;124m'\u001b[39m\u001b[38;5;124mweek\u001b[39m\u001b[38;5;124m'\u001b[39m: \u001b[38;5;241m4\u001b[39m, \u001b[38;5;124m'\u001b[39m\u001b[38;5;124mday\u001b[39m\u001b[38;5;124m'\u001b[39m: \u001b[38;5;241m7\u001b[39m}\n\u001b[0;32m----> 6\u001b[0m \u001b[43mscales_\u001b[49m\n\u001b[1;32m      7\u001b[0m sample_scales \u001b[38;5;241m=\u001b[39m {\n\u001b[1;32m      8\u001b[0m     \u001b[38;5;124m'\u001b[39m\u001b[38;5;124myear\u001b[39m\u001b[38;5;124m'\u001b[39m: \u001b[38;5;241m1\u001b[39m,\n\u001b[1;32m      9\u001b[0m     \u001b[38;5;124m'\u001b[39m\u001b[38;5;124mmonth\u001b[39m\u001b[38;5;124m'\u001b[39m: \u001b[38;5;241m12\u001b[39m,\n\u001b[1;32m     10\u001b[0m }\n\u001b[1;32m     11\u001b[0m sample_scales_nested \u001b[38;5;241m=\u001b[39m {\u001b[38;5;124m'\u001b[39m\u001b[38;5;124myear\u001b[39m\u001b[38;5;124m'\u001b[39m: \u001b[38;5;241m5\u001b[39m, \u001b[38;5;124m'\u001b[39m\u001b[38;5;124mmonth\u001b[39m\u001b[38;5;124m'\u001b[39m: \u001b[38;5;241m12\u001b[39m}\n",
      "\u001b[0;31mNameError\u001b[0m: name 'scales_' is not defined"
     ]
    }
   ],
   "source": [
    "scales_list = [364, 8760]  # days of the year, hours of the year\n",
    "scls_in_scls_list = [364, 24]  # days of the year, hours in each day\n",
    "scales_dict = {'month': 12, 'hour': 8760}\n",
    "scales_in_scales_dict = {'week': 4, 'day': 7}\n",
    "\n",
    "scales_\n",
    "sample_scales = {\n",
    "    'year': 1,\n",
    "    'month': 12,\n",
    "}\n",
    "sample_scales_nested = {'year': 5, 'month': 12}\n",
    "sample_locations_nested = {'country': 2, 'states': 10, 'cities': 2}\n",
    "\n",
    "d = {\n",
    "    'india': {\n",
    "        'goa': {'magdaon': {'aquem'}, 'ponje': {}, 'cacoda': {}},\n",
    "        'karnataka': {'belgaum'},\n",
    "    },\n",
    "    'greece': {'macedonia': {'thessaloniki', 'kavala'}},\n",
    "}\n",
    "\n",
    "\n",
    "d2 = {'year': {'day': 365}, 'day': {'hour': 24}, 'hour': {'minute': 60}}\n",
    "d3 = {'country': {'states': 2}, 'states': {'cities': 3}, 'cities': {'suburbs': 3}}"
   ]
  },
  {
   "cell_type": "code",
   "execution_count": 29,
   "metadata": {},
   "outputs": [],
   "source": [
    "s.hrz = Horizon(birth ={'month': 12, 'day': 365, 'hour': 365 * 24})\n",
    "# s.h2 = Horizon(birth=[365, 24], nested=True)\n",
    "# s.h3 = Horizon({'year': {'day': 365}, 'day': {'hour': 24}, 'hour': {'minute': 60}})"
   ]
  },
  {
   "cell_type": "code",
   "execution_count": 30,
   "metadata": {},
   "outputs": [],
   "source": [
    "s.weeks = Scale(parent=s.day)"
   ]
  },
  {
   "cell_type": "code",
   "execution_count": 37,
   "metadata": {},
   "outputs": [
    {
     "data": {
      "text/plain": [
       "{month: (hrz, month),\n",
       " day: (hrz, month, day),\n",
       " hour: (hrz, month, day, hour),\n",
       " weeks: (hrz, month, day, weeks)}"
      ]
     },
     "execution_count": 37,
     "metadata": {},
     "output_type": "execute_result"
    }
   ],
   "source": [
    "s.hrz.indices "
   ]
  },
  {
   "cell_type": "code",
   "execution_count": 38,
   "metadata": {},
   "outputs": [
    {
     "ename": "AttributeError",
     "evalue": "'Scale' object has no attribute 'indices'",
     "output_type": "error",
     "traceback": [
      "\u001b[0;31m---------------------------------------------------------------------------\u001b[0m",
      "\u001b[0;31mAttributeError\u001b[0m                            Traceback (most recent call last)",
      "Cell \u001b[0;32mIn[38], line 1\u001b[0m\n\u001b[0;32m----> 1\u001b[0m \u001b[43ms\u001b[49m\u001b[38;5;241;43m.\u001b[39;49m\u001b[43mmonth\u001b[49m\u001b[38;5;241;43m.\u001b[39;49m\u001b[43mindices\u001b[49m \n",
      "\u001b[0;31mAttributeError\u001b[0m: 'Scale' object has no attribute 'indices'"
     ]
    }
   ],
   "source": []
  },
  {
   "cell_type": "code",
   "execution_count": 31,
   "metadata": {},
   "outputs": [
    {
     "data": {
      "text/plain": [
       "weeks"
      ]
     },
     "execution_count": 31,
     "metadata": {},
     "output_type": "execute_result"
    }
   ],
   "source": [
    "s.weeks "
   ]
  },
  {
   "cell_type": "code",
   "execution_count": 27,
   "metadata": {},
   "outputs": [
    {
     "data": {
      "text/plain": [
       "(h2, t0)"
      ]
     },
     "execution_count": 27,
     "metadata": {},
     "output_type": "execute_result"
    }
   ],
   "source": [
    "s.t0.index "
   ]
  },
  {
   "cell_type": "code",
   "execution_count": 28,
   "metadata": {},
   "outputs": [
    {
     "data": {
      "text/plain": [
       "(h2, t0, t1)"
      ]
     },
     "execution_count": 28,
     "metadata": {},
     "output_type": "execute_result"
    }
   ],
   "source": [
    "s.t1.index "
   ]
  },
  {
   "cell_type": "code",
   "execution_count": 23,
   "metadata": {},
   "outputs": [
    {
     "data": {
      "text/plain": [
       "['month', 'week', 'day', 'hour']"
      ]
     },
     "execution_count": 23,
     "metadata": {},
     "output_type": "execute_result"
    }
   ],
   "source": [
    "s.hrz.birth_names "
   ]
  },
  {
   "cell_type": "code",
   "execution_count": 11,
   "metadata": {},
   "outputs": [
    {
     "data": {
      "text/plain": [
       "(h1,)"
      ]
     },
     "execution_count": 11,
     "metadata": {},
     "output_type": "execute_result"
    }
   ],
   "source": [
    "s.h1.index "
   ]
  },
  {
   "cell_type": "code",
   "execution_count": 24,
   "metadata": {},
   "outputs": [
    {
     "data": {
      "text/plain": [
       "(hrz, month)"
      ]
     },
     "execution_count": 24,
     "metadata": {},
     "output_type": "execute_result"
    }
   ],
   "source": [
    "s.month.index "
   ]
  },
  {
   "cell_type": "code",
   "execution_count": 25,
   "metadata": {},
   "outputs": [
    {
     "data": {
      "text/plain": [
       "(hrz, month, week)"
      ]
     },
     "execution_count": 25,
     "metadata": {},
     "output_type": "execute_result"
    }
   ],
   "source": [
    "s.week.index"
   ]
  },
  {
   "cell_type": "code",
   "execution_count": 13,
   "metadata": {},
   "outputs": [
    {
     "data": {
      "text/plain": [
       "{'label': False,\n",
       " 'parent': h1,\n",
       " 'name': 't0',\n",
       " '_named': True,\n",
       " '_model': Model|:s:|,\n",
       " 'child': None,\n",
       " 'periods': [t0h1, t0t0]}"
      ]
     },
     "execution_count": 13,
     "metadata": {},
     "output_type": "execute_result"
    }
   ],
   "source": [
    "s.scales[0].__dict__ "
   ]
  },
  {
   "cell_type": "code",
   "execution_count": null,
   "metadata": {},
   "outputs": [],
   "source": [
    "s.n = Network(\n",
    "    {\n",
    "        'india': {'goa': {'magdaon', 'ponje', 'cacoda'}, 'karnataka': {'belgaum'}},\n",
    "        'greece': {'macedonia': {'thessaloniki', 'kavala'}},\n",
    "    }\n",
    ")"
   ]
  },
  {
   "cell_type": "code",
   "execution_count": 45,
   "metadata": {},
   "outputs": [],
   "source": [
    "from energiapy.utils.dictionary import flatten, get_depth"
   ]
  },
  {
   "cell_type": "code",
   "execution_count": null,
   "metadata": {},
   "outputs": [],
   "source": []
  },
  {
   "cell_type": "code",
   "execution_count": 62,
   "metadata": {},
   "outputs": [],
   "source": []
  },
  {
   "cell_type": "code",
   "execution_count": 2,
   "metadata": {},
   "outputs": [],
   "source": []
  },
  {
   "cell_type": "code",
   "execution_count": 3,
   "metadata": {},
   "outputs": [],
   "source": [
    "from energiapy.utils.dictionary import flatten, get_depth, tupler"
   ]
  },
  {
   "cell_type": "code",
   "execution_count": 5,
   "metadata": {},
   "outputs": [],
   "source": [
    "a = tupler(d)"
   ]
  },
  {
   "cell_type": "code",
   "execution_count": null,
   "metadata": {},
   "outputs": [],
   "source": []
  },
  {
   "cell_type": "code",
   "execution_count": 8,
   "metadata": {},
   "outputs": [
    {
     "data": {
      "text/plain": [
       "{'india': ('india',),\n",
       " 'goa': ('india', 'goa'),\n",
       " 'magdaon': ('india', 'goa', 'magdaon'),\n",
       " 'aquem': ('india', 'goa', 'magdaon', 'aquem'),\n",
       " 'ponje': ('india', 'goa', 'ponje'),\n",
       " 'cacoda': ('india', 'goa', 'cacoda'),\n",
       " 'karnataka': ('india', 'karnataka'),\n",
       " 'belgaum': ('india', 'karnataka', 'belgaum'),\n",
       " 'greece': ('greece',),\n",
       " 'macedonia': ('greece', 'macedonia'),\n",
       " 'thessaloniki': ('greece', 'macedonia', 'thessaloniki'),\n",
       " 'kavala': ('greece', 'macedonia', 'kavala')}"
      ]
     },
     "execution_count": 8,
     "metadata": {},
     "output_type": "execute_result"
    }
   ],
   "source": [
    "{k[-1]: k for k in a}"
   ]
  },
  {
   "cell_type": "code",
   "execution_count": 4,
   "metadata": {},
   "outputs": [
    {
     "data": {
      "text/plain": [
       "[('india',),\n",
       " ('india', 'goa'),\n",
       " ('india', 'goa', 'magdaon'),\n",
       " ('india', 'goa', 'magdaon', 'aquem'),\n",
       " ('india', 'goa', 'ponje'),\n",
       " ('india', 'goa', 'cacoda'),\n",
       " ('india', 'karnataka'),\n",
       " ('india', 'karnataka', 'belgaum'),\n",
       " ('greece',),\n",
       " ('greece', 'macedonia'),\n",
       " ('greece', 'macedonia', 'thessaloniki'),\n",
       " ('greece', 'macedonia', 'kavala')]"
      ]
     },
     "execution_count": 4,
     "metadata": {},
     "output_type": "execute_result"
    }
   ],
   "source": [
    "tupler(d)"
   ]
  },
  {
   "cell_type": "code",
   "execution_count": 14,
   "metadata": {},
   "outputs": [
    {
     "data": {
      "text/plain": [
       "['india',\n",
       " 'karnataka',\n",
       " 'goa',\n",
       " 'belgaum',\n",
       " 'thessaloniki',\n",
       " 'cacoda',\n",
       " 'ponje',\n",
       " 'kavala',\n",
       " 'macedonia',\n",
       " 'magdaon',\n",
       " 'aquem',\n",
       " 'greece']"
      ]
     },
     "execution_count": 14,
     "metadata": {},
     "output_type": "execute_result"
    }
   ],
   "source": [
    "list(set(sum(tupler(d), ())))"
   ]
  },
  {
   "cell_type": "code",
   "execution_count": 8,
   "metadata": {},
   "outputs": [],
   "source": [
    "d = {'month': 12, 'week': 52, 'day': 365, 'hour': 365 * 24}"
   ]
  },
  {
   "cell_type": "code",
   "execution_count": 9,
   "metadata": {},
   "outputs": [
    {
     "data": {
      "text/plain": [
       "1"
      ]
     },
     "execution_count": 9,
     "metadata": {},
     "output_type": "execute_result"
    }
   ],
   "source": [
    "get_depth(d)"
   ]
  },
  {
   "cell_type": "code",
   "execution_count": null,
   "metadata": {},
   "outputs": [],
   "source": [
    "{'month': 12, 'week': 52, 'day': 365, 'hour': 365 * 24}"
   ]
  }
 ],
 "metadata": {
  "kernelspec": {
   "display_name": ".venv",
   "language": "python",
   "name": "python3"
  },
  "language_info": {
   "codemirror_mode": {
    "name": "ipython",
    "version": 3
   },
   "file_extension": ".py",
   "mimetype": "text/x-python",
   "name": "python",
   "nbconvert_exporter": "python",
   "pygments_lexer": "ipython3",
   "version": "3.12.5"
  }
 },
 "nbformat": 4,
 "nbformat_minor": 2
}
