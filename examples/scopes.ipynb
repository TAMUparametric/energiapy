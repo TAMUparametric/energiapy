{
 "cells": [
  {
   "cell_type": "code",
   "execution_count": 1,
   "metadata": {},
   "outputs": [],
   "source": [
    "import sys\n",
    "\n",
    "\n",
    "sys.path.append('../src')"
   ]
  },
  {
   "cell_type": "code",
   "execution_count": 2,
   "metadata": {},
   "outputs": [],
   "source": [
    "from energiapy.components.temporal.horizon import Horizon\n",
    "from energiapy.components.spatial.network import Network\n",
    "\n",
    "\n",
    "from energiapy.environ.scenario import Scenario"
   ]
  },
  {
   "cell_type": "code",
   "execution_count": 3,
   "metadata": {},
   "outputs": [],
   "source": [
    "s = Scenario()"
   ]
  },
  {
   "cell_type": "code",
   "execution_count": 4,
   "metadata": {},
   "outputs": [],
   "source": [
    "s.h1 = Horizon({'month': 12, 'week': 52, 'day': 365, 'hour': 365 * 24})\n",
    "s.h2 = Horizon(discretizations=[365, 24], nested=True)\n",
    "s.h3 = Horizon({'year': {'day': 365}, 'day': {'hour': 24}, 'hour': {'minute': 60}})"
   ]
  },
  {
   "cell_type": "code",
   "execution_count": null,
   "metadata": {},
   "outputs": [],
   "source": [
    "s.n = Network(\n",
    "    {\n",
    "        'india': {'goa': {'magdaon', 'ponje', 'cacoda'}, 'karnataka': {'belgaum'}},\n",
    "        'greece': {'macedonia': {'thessaloniki', 'kavala'}},\n",
    "    }\n",
    ")"
   ]
  },
  {
   "cell_type": "code",
   "execution_count": 45,
   "metadata": {},
   "outputs": [],
   "source": [
    "from energiapy.utils.dictionary import flatten, get_depth"
   ]
  },
  {
   "cell_type": "code",
   "execution_count": null,
   "metadata": {},
   "outputs": [],
   "source": []
  },
  {
   "cell_type": "code",
   "execution_count": 62,
   "metadata": {},
   "outputs": [],
   "source": [
    "d1 = {\n",
    "    'india': ['goa', 'karnataka'],\n",
    "    'greece': ['macedonia'],\n",
    "    'goa': ['magdaon', 'ponje', 'cacoda'],\n",
    "    'karnataka': ['belgaum'],\n",
    "    'macedonia': ['thessaloniki'],\n",
    "}\n",
    "d2 = {'year': {'day': 365}, 'day': {'hour': 24}, 'hour': {'minute': 60}}\n",
    "d3 = {'country': {'states': 2}, 'states': {'cities': 3}, 'cities': {'suburbs': 3}}"
   ]
  },
  {
   "cell_type": "code",
   "execution_count": 2,
   "metadata": {},
   "outputs": [],
   "source": [
    "d = {\n",
    "    'india': {\n",
    "        'goa': {'magdaon': {'aquem'}, 'ponje': {}, 'cacoda': {}},\n",
    "        'karnataka': {'belgaum'},\n",
    "    },\n",
    "    'greece': {'macedonia': {'thessaloniki', 'kavala'}},\n",
    "}"
   ]
  },
  {
   "cell_type": "code",
   "execution_count": 3,
   "metadata": {},
   "outputs": [],
   "source": [
    "from energiapy.utils.dictionary import flatten, get_depth, tupler"
   ]
  },
  {
   "cell_type": "code",
   "execution_count": 5,
   "metadata": {},
   "outputs": [],
   "source": [
    "a = tupler(d)"
   ]
  },
  {
   "cell_type": "code",
   "execution_count": null,
   "metadata": {},
   "outputs": [],
   "source": []
  },
  {
   "cell_type": "code",
   "execution_count": 8,
   "metadata": {},
   "outputs": [
    {
     "data": {
      "text/plain": [
       "{'india': ('india',),\n",
       " 'goa': ('india', 'goa'),\n",
       " 'magdaon': ('india', 'goa', 'magdaon'),\n",
       " 'aquem': ('india', 'goa', 'magdaon', 'aquem'),\n",
       " 'ponje': ('india', 'goa', 'ponje'),\n",
       " 'cacoda': ('india', 'goa', 'cacoda'),\n",
       " 'karnataka': ('india', 'karnataka'),\n",
       " 'belgaum': ('india', 'karnataka', 'belgaum'),\n",
       " 'greece': ('greece',),\n",
       " 'macedonia': ('greece', 'macedonia'),\n",
       " 'thessaloniki': ('greece', 'macedonia', 'thessaloniki'),\n",
       " 'kavala': ('greece', 'macedonia', 'kavala')}"
      ]
     },
     "execution_count": 8,
     "metadata": {},
     "output_type": "execute_result"
    }
   ],
   "source": [
    "{k[-1]: k for k in a}"
   ]
  },
  {
   "cell_type": "code",
   "execution_count": 4,
   "metadata": {},
   "outputs": [
    {
     "data": {
      "text/plain": [
       "[('india',),\n",
       " ('india', 'goa'),\n",
       " ('india', 'goa', 'magdaon'),\n",
       " ('india', 'goa', 'magdaon', 'aquem'),\n",
       " ('india', 'goa', 'ponje'),\n",
       " ('india', 'goa', 'cacoda'),\n",
       " ('india', 'karnataka'),\n",
       " ('india', 'karnataka', 'belgaum'),\n",
       " ('greece',),\n",
       " ('greece', 'macedonia'),\n",
       " ('greece', 'macedonia', 'thessaloniki'),\n",
       " ('greece', 'macedonia', 'kavala')]"
      ]
     },
     "execution_count": 4,
     "metadata": {},
     "output_type": "execute_result"
    }
   ],
   "source": [
    "tupler(d)"
   ]
  },
  {
   "cell_type": "code",
   "execution_count": 14,
   "metadata": {},
   "outputs": [
    {
     "data": {
      "text/plain": [
       "['india',\n",
       " 'karnataka',\n",
       " 'goa',\n",
       " 'belgaum',\n",
       " 'thessaloniki',\n",
       " 'cacoda',\n",
       " 'ponje',\n",
       " 'kavala',\n",
       " 'macedonia',\n",
       " 'magdaon',\n",
       " 'aquem',\n",
       " 'greece']"
      ]
     },
     "execution_count": 14,
     "metadata": {},
     "output_type": "execute_result"
    }
   ],
   "source": [
    "list(set(sum(tupler(d), ())))"
   ]
  },
  {
   "cell_type": "code",
   "execution_count": 8,
   "metadata": {},
   "outputs": [],
   "source": [
    "d = {'month': 12, 'week': 52, 'day': 365, 'hour': 365 * 24}"
   ]
  },
  {
   "cell_type": "code",
   "execution_count": 9,
   "metadata": {},
   "outputs": [
    {
     "data": {
      "text/plain": [
       "1"
      ]
     },
     "execution_count": 9,
     "metadata": {},
     "output_type": "execute_result"
    }
   ],
   "source": [
    "get_depth(d)"
   ]
  },
  {
   "cell_type": "code",
   "execution_count": null,
   "metadata": {},
   "outputs": [],
   "source": [
    "{'month': 12, 'week': 52, 'day': 365, 'hour': 365 * 24}"
   ]
  }
 ],
 "metadata": {
  "kernelspec": {
   "display_name": ".venv",
   "language": "python",
   "name": "python3"
  },
  "language_info": {
   "codemirror_mode": {
    "name": "ipython",
    "version": 3
   },
   "file_extension": ".py",
   "mimetype": "text/x-python",
   "name": "python",
   "nbconvert_exporter": "python",
   "pygments_lexer": "ipython3",
   "version": "3.12.5"
  }
 },
 "nbformat": 4,
 "nbformat_minor": 2
}
