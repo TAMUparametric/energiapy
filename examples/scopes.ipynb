{
 "cells": [
  {
   "cell_type": "code",
   "execution_count": 19,
   "metadata": {},
   "outputs": [],
   "source": [
    "import sys\n",
    "\n",
    "sys.path.append('../src')"
   ]
  },
  {
   "cell_type": "code",
   "execution_count": 20,
   "metadata": {},
   "outputs": [],
   "source": [
    "from energiapy.components.temporal.horizon import Horizon\n",
    "from energiapy.components.spatial.network import Network\n",
    "from energiapy.components.temporal.scale import Scale\n",
    "from energiapy.components.spatial.location import Location\n",
    "from energiapy.environ.scenario import Scenario"
   ]
  },
  {
   "cell_type": "code",
   "execution_count": 21,
   "metadata": {},
   "outputs": [],
   "source": [
    "s_hrz_nest = Scenario()\n",
    "s_hrz_nest.hrz = Horizon(birth={'day': 365, 'hour': 24}, nested=True)\n",
    "s_hrz_flat = Scenario()\n",
    "s_hrz_flat.hrz = Horizon(birth={'month': 12, 'day': 365, 'hour': 8760})\n",
    "s_ntw_nest = Scenario()\n",
    "s_ntw_nest.ntw = Network(birth={'state': 50, 'city': 3}, nested=True)\n",
    "s_ntw_flat = Scenario()\n",
    "s_ntw_flat.ntw = Network(birth={'state': 50, 'city': 150})"
   ]
  },
  {
   "cell_type": "code",
   "execution_count": 22,
   "metadata": {},
   "outputs": [
    {
     "name": "stdout",
     "output_type": "stream",
     "text": [
      "(hrz,) (hrz, day) (hrz, day, hour)\n",
      "1 365 8760\n",
      "[day] [hour] []\n"
     ]
    }
   ],
   "source": [
    "print(s_hrz_nest.hrz.index, s_hrz_nest.day.index, s_hrz_nest.hour.index)\n",
    "print(s_hrz_nest.hrz.discrs, s_hrz_nest.day.discrs, s_hrz_nest.hour.discrs)\n",
    "print(s_hrz_nest.hrz.children, s_hrz_nest.day.children, s_hrz_nest.hour.children)"
   ]
  },
  {
   "cell_type": "code",
   "execution_count": 23,
   "metadata": {},
   "outputs": [
    {
     "name": "stdout",
     "output_type": "stream",
     "text": [
      "(hrz,) (hrz, month) (hrz, day) (hrz, hour)\n",
      "1 12 365 8760\n",
      "[month, day, hour] [] [] []\n"
     ]
    }
   ],
   "source": [
    "print(\n",
    "    s_hrz_flat.hrz.index,\n",
    "    s_hrz_flat.month.index,\n",
    "    s_hrz_flat.day.index,\n",
    "    s_hrz_flat.hour.index,\n",
    ")\n",
    "print(\n",
    "    s_hrz_flat.hrz.discrs,\n",
    "    s_hrz_flat.month.discrs,\n",
    "    s_hrz_flat.day.discrs,\n",
    "    s_hrz_flat.hour.discrs,\n",
    ")\n",
    "\n",
    "print(\n",
    "    s_hrz_flat.hrz.children,\n",
    "    s_hrz_flat.month.children,\n",
    "    s_hrz_flat.day.children,\n",
    "    s_hrz_flat.hour.children,\n",
    ")"
   ]
  },
  {
   "cell_type": "code",
   "execution_count": 24,
   "metadata": {},
   "outputs": [
    {
     "name": "stdout",
     "output_type": "stream",
     "text": [
      "(ntw,) (ntw, state) (ntw, state, city)\n",
      "1 50 150\n",
      "[state] [city] []\n"
     ]
    }
   ],
   "source": [
    "print(s_ntw_nest.ntw.index, s_ntw_nest.state.index, s_ntw_nest.city.index)\n",
    "print(s_ntw_nest.ntw.discrs, s_ntw_nest.state.discrs, s_ntw_nest.city.discrs)\n",
    "print(s_ntw_nest.ntw.children, s_ntw_nest.state.children, s_ntw_nest.city.children)"
   ]
  },
  {
   "cell_type": "code",
   "execution_count": 25,
   "metadata": {},
   "outputs": [
    {
     "name": "stdout",
     "output_type": "stream",
     "text": [
      "(ntw,) (ntw, state) (ntw, city)\n",
      "1 50 150\n",
      "[state, city] [] []\n"
     ]
    }
   ],
   "source": [
    "print(s_ntw_flat.ntw.index, s_ntw_flat.state.index, s_ntw_flat.city.index)\n",
    "print(s_ntw_flat.ntw.discrs, s_ntw_flat.state.discrs, s_ntw_flat.city.discrs)\n",
    "print(s_ntw_flat.ntw.children, s_ntw_flat.state.children, s_ntw_flat.city.children)"
   ]
  },
  {
   "cell_type": "code",
   "execution_count": 26,
   "metadata": {},
   "outputs": [],
   "source": [
    "s_hrz_flat.week = Scale(parent=s_hrz_flat.hrz, discrs=365 / 7)"
   ]
  },
  {
   "cell_type": "code",
   "execution_count": 27,
   "metadata": {},
   "outputs": [
    {
     "data": {
      "text/plain": [
       "(hrz, week)"
      ]
     },
     "execution_count": 27,
     "metadata": {},
     "output_type": "execute_result"
    }
   ],
   "source": [
    "s_hrz_flat.week.index"
   ]
  },
  {
   "cell_type": "code",
   "execution_count": 28,
   "metadata": {},
   "outputs": [],
   "source": [
    "s = Scenario()"
   ]
  },
  {
   "cell_type": "code",
   "execution_count": 29,
   "metadata": {},
   "outputs": [],
   "source": [
    "s.n = Network()\n",
    "s.h = Horizon()"
   ]
  },
  {
   "cell_type": "code",
   "execution_count": 30,
   "metadata": {},
   "outputs": [],
   "source": [
    "s.day = Scale(parent=s.h, discrs=365)"
   ]
  },
  {
   "cell_type": "code",
   "execution_count": 31,
   "metadata": {},
   "outputs": [
    {
     "data": {
      "text/plain": [
       "[day]"
      ]
     },
     "execution_count": 31,
     "metadata": {},
     "output_type": "execute_result"
    }
   ],
   "source": [
    "s.h.children"
   ]
  },
  {
   "cell_type": "code",
   "execution_count": 32,
   "metadata": {},
   "outputs": [],
   "source": [
    "s.india = Location(parent=s.n, discrs=1)\n",
    "s.goa = Location(parent=s.india, discrs=1)"
   ]
  },
  {
   "cell_type": "code",
   "execution_count": 33,
   "metadata": {},
   "outputs": [
    {
     "data": {
      "text/plain": [
       "[india]"
      ]
     },
     "execution_count": 33,
     "metadata": {},
     "output_type": "execute_result"
    }
   ],
   "source": [
    "s.n.children"
   ]
  },
  {
   "cell_type": "code",
   "execution_count": 34,
   "metadata": {},
   "outputs": [
    {
     "data": {
      "text/plain": [
       "[goa]"
      ]
     },
     "execution_count": 34,
     "metadata": {},
     "output_type": "execute_result"
    }
   ],
   "source": [
    "s.india.children"
   ]
  },
  {
   "cell_type": "code",
   "execution_count": 36,
   "metadata": {},
   "outputs": [
    {
     "data": {
      "text/plain": [
       "(n, india)"
      ]
     },
     "execution_count": 36,
     "metadata": {},
     "output_type": "execute_result"
    }
   ],
   "source": [
    "s.india.index"
   ]
  },
  {
   "cell_type": "code",
   "execution_count": 35,
   "metadata": {},
   "outputs": [
    {
     "data": {
      "text/plain": [
       "(n, india, goa)"
      ]
     },
     "execution_count": 35,
     "metadata": {},
     "output_type": "execute_result"
    }
   ],
   "source": [
    "s.goa.index"
   ]
  },
  {
   "cell_type": "code",
   "execution_count": 19,
   "metadata": {},
   "outputs": [],
   "source": [
    "# locations_list = [50]  # one country, 50 states\n",
    "# locs_in_locs_list = [5, 3]  # 5 states, 3 cities in each state\n",
    "# locs_dict = {'state': 50, 'county': 3143, 'Texas': 1}\n",
    "# locs_in_locs_dict = {\n",
    "#     'planet': 8,\n",
    "#     'sites': 3,\n",
    "# }  # three possible landing sites on each of the 8 planets\n",
    "\n",
    "\n",
    "# locs_in_locs_dict = {\n",
    "#     'middleearth': {\n",
    "#         'hobbiton': {'shire': {'hobbiton': 'bagend'}, 'gamwich': {}},\n",
    "#         'mordor': {'mountdoom'},\n",
    "#     },\n",
    "#     'india': {\n",
    "#         'goa': {'magdaon', 'ponje'},\n",
    "#     },\n",
    "#     'greece': {'thessaloniki'},\n",
    "# }\n",
    "\n",
    "# scales = [{'day': 365}, {'day': {'hour': 24}}, {'week': {'day': 7}}]\n",
    "# locs = [\n",
    "#     {'india': ['madgaon', 'cacoda']},\n",
    "#     {'greece': {'macedonia': {'thessaloniki': 4}}},\n",
    "# ]"
   ]
  }
 ],
 "metadata": {
  "kernelspec": {
   "display_name": ".venv",
   "language": "python",
   "name": "python3"
  },
  "language_info": {
   "codemirror_mode": {
    "name": "ipython",
    "version": 3
   },
   "file_extension": ".py",
   "mimetype": "text/x-python",
   "name": "python",
   "nbconvert_exporter": "python",
   "pygments_lexer": "ipython3",
   "version": "3.12.5"
  }
 },
 "nbformat": 4,
 "nbformat_minor": 2
}
