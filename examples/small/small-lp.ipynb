{
 "cells": [
  {
   "cell_type": "markdown",
   "metadata": {},
   "source": [
    "# Small energy systems MILP example"
   ]
  },
  {
   "attachments": {},
   "cell_type": "markdown",
   "metadata": {},
   "source": [
    "__author__ = \"Rahul Kakodkar\"\n",
    "__copyright__ = \"Copyright 2023, Multi-parametric Optimization & Control Lab\"\n",
    "__credits__ = [\"Rahul Kakodkar\", \"Efstratios N. Pistikopoulos\"]\n",
    "__license__ = \"MIT\"\n",
    "__version__ = \"1.0.5\"\n",
    "__maintainer__ = \"Rahul Kakodkar\"\n",
    "__email__ = \"cacodcar@tamu.edu\"\n",
    "__status__ = \"Complete\"\n"
   ]
  },
  {
   "attachments": {},
   "cell_type": "markdown",
   "metadata": {},
   "source": [
    "**Nomenclature**"
   ]
  },
  {
   "attachments": {},
   "cell_type": "markdown",
   "metadata": {},
   "source": [
    "The sets and variables used are stated here\n",
    "\n",
    "*Sets*\n",
    "\n",
    "\n",
    "- $\\mathcal{R}$ - set of all resources r\n",
    "- $\\mathcal{P}$ - set of all processes p\n",
    "- $\\mathcal{T}$ - set of temporal periods p\n"
   ]
  },
  {
   "attachments": {},
   "cell_type": "markdown",
   "metadata": {},
   "source": [
    "\n",
    "*Subsets*\n",
    "\n",
    "- $\\mathcal{R}^{storage}$ - set of resources that can be stored\n",
    "- $\\mathcal{R}^{sell}$ - set of resources that can be discharged\n",
    "- $\\mathcal{R}^{demand}$ - set of resources that meet  demand\n",
    "- $\\mathcal{R}^{cons}$ - set of resources that can be consumed\n",
    "- $\\mathcal{P}^{uncertain}$ - set of processes with uncertain capacity\n",
    "- $\\mathcal{T}$ - set of temporal periods \n",
    "- $\\mathcal{T}^{net}$ - set of temporal periods t for network level decision making\n",
    "- $\\mathcal{T}^{sch}$ - set of temporal periods t for schedule level decision making\n",
    "\n"
   ]
  },
  {
   "attachments": {},
   "cell_type": "markdown",
   "metadata": {},
   "source": [
    "\n",
    "*Continuous Variables*\n",
    "\n",
    "- $P_{p,t}$ - production level of p $\\in$  $\\mathcal{P}$ in time period t $\\in$ $\\mathcal{T}^{sch}$  \n",
    "    \n",
    "- $C_{r,t}$ - consumption of r $\\in$ $\\mathcal{R}^{cons}$ time period t $\\in$ $\\mathcal{T}^{sch}$ \n",
    "    \n",
    "- $S_{r,t}$ - discharge of r $\\in$ R\\ $\\mathcal{R}^{demand}$ time period t $\\in$ $\\mathcal{T}^{sch}$ \n",
    "    \n",
    "- $Inv_{r,t}$ - inventory level of r $\\in$ $\\mathcal{R}^{storage}$  in time period t $\\in$ $\\mathcal{T}^{sch}$\n",
    "    \n",
    "- $Cap^{S}_{r,t}$ - installed inventory capacity for resource r $\\in$  $\\mathcal{R}^{storage}$ in time period t $\\in$ $\\mathcal{T}^{net}$\n",
    "    \n",
    "- $Cap^{P}_{p,t}$ - installed production capacity for process p $\\in$ $\\mathcal{P}$ in time period t $\\in$ $\\mathcal{T}^{net}$\n",
    "    "
   ]
  },
  {
   "attachments": {},
   "cell_type": "markdown",
   "metadata": {},
   "source": [
    "*Binary Variables*\n",
    "\n",
    "- $X^P_{p,t}$ - network binary for production process p $\\in$ $\\mathcal{P}$ in time period t $\\in$ $\\mathcal{T}^{net}$\n",
    "- $X^S_{r,t}$ - network binary for inventory of resource r $\\in$ $\\mathcal{R}^{storage}$ in time period t $\\in$ $\\mathcal{T}^{net}$\n"
   ]
  },
  {
   "attachments": {},
   "cell_type": "markdown",
   "metadata": {},
   "source": [
    "- $Cap^{P-max}_{p,t}$- maximum production capacity of process p $\\in$ $\\mathcal{P}$ in time period t $\\in$ $\\mathcal{T}^{net}$\n",
    "- $Cap^{S-max}_{r,t}$- maximum inventory capacity for process r $\\in$ $\\mathcal{R}^{storage}$ in time period t $\\in$ $\\mathcal{T}^{net}$\n",
    "- $Capex_{p,t}$ - capital expenditure for process p $\\in$ $\\mathcal{P}$ in time t $\\in$ $\\mathcal{T}^{net}$\n",
    "- $Price_{r,t}$ - purchase price for resource r $\\in$ $\\mathcal{R}^{cons}$ in time t $\\in$ $\\mathcal{T}^{sch}$\n",
    "- $C^{max}_{r,t}$ - maximum consumption availability for resource r $\\in$ $\\mathcal{R}^{cons}$ in time t $\\in$ $\\mathcal{T}^{sch}$\n",
    "- $D_{r,t}$ - demand for resource r in $R^{sell}$ in time t $\\in$ $\\mathcal{T}^{sch}$"
   ]
  },
  {
   "attachments": {},
   "cell_type": "markdown",
   "metadata": {},
   "source": [
    "**MILP Formulation**"
   ]
  },
  {
   "attachments": {},
   "cell_type": "markdown",
   "metadata": {},
   "source": [
    "\n",
    "Given is a general MILP modeling and optimization framework for simultaneous network design and scheduling for a single location problem.\n",
    "\n",
    "\\begin{equation}\n",
    "    min \\sum_{t \\in \\mathcal{T}^{net}} \\sum_{p \\in \\mathcal{P}} Capex_{p,t} \\times Cap^P_{p,t} + \\sum_{t \\in \\mathcal{T}^{sch}} \\sum_{r \\in \\mathcal{R}^{cons}}  Price_{r,t}  \\times C_{r,t} + \\sum_{t \\in \\mathcal{T}^{sch}} \\sum_{p \\in \\mathcal{P}}  Vopex_{r,t} \\times P_{r,t} \n",
    "\\end{equation}\n",
    "\n",
    "\n",
    "\\begin{equation}\n",
    "    Cap^S_{r,t} \\leq Cap^{S-max}_{r,t} \\times X^S_{r,t} \\hspace{1cm} \\forall r \\in \\mathcal{R}^{storage}, t \\in \\mathcal{T}^{net}\n",
    "\\end{equation}\n",
    "\n",
    "\\begin{equation}\n",
    "    Cap^P_{p,t} \\leq Cap^{P-max}_{p,t} \\times X^P_p  \\hspace{1cm} \\forall p \\in \\mathcal{P}, t \\in \\mathcal{T}^{net}\n",
    "\\end{equation} \n",
    "\n",
    "\\begin{equation}\n",
    "    P_{p,t} \\leq Cap^{P}_{p,t}  \\hspace{1cm} \\forall p \\in \\mathcal{P}, t \\in \\mathcal{T}^{sch}\n",
    "\\end{equation} \n",
    "\n",
    "\\begin{equation}\n",
    "    Inv_{r,t} \\leq Cap^{S}_{r,t}  \\hspace{1cm} \\forall r \\in \\mathcal{R}^{storage}, t \\in \\mathcal{T}^{sch}\n",
    "\\end{equation} \n",
    "\n",
    "\n",
    "\\begin{equation}\n",
    "    - S_{r,t} \\leq - D_{r,t}  \\hspace{1cm} \\forall r \\in \\mathcal{R}, t \\in \\mathcal{T}^{sch}\n",
    "\\end{equation}\n",
    "\n",
    "\\begin{equation}\n",
    "    C_{r,t} \\leq C^{max}_{r,t} \\hspace{1cm} \\forall r \\in \\mathcal{R}, t \\in \\mathcal{T}^{sch}\n",
    "\\end{equation}\n",
    "\n",
    "\\begin{equation}\n",
    "    - S_{r,t} + \\sum_{p \\in \\mathcal{P}} P_{p,t} \\times \\eta(p,r) = 0 \\hspace{1cm} \\forall r \\in \\mathcal{R}^{sell}, t \\in \\mathcal{T}^{sch}\n",
    "\\end{equation}\n",
    "\n",
    "\\begin{equation}\n",
    "    -Inv_{r,t} + \\sum_{p \\in \\mathcal{P}} P_{p,t} \\times \\eta(p,r) = 0 \\hspace{1cm} \\forall r \\in \\mathcal{R}^{stored}, t \\in \\mathcal{T}^{sch}\n",
    "\\end{equation}\n",
    "\n",
    "\\begin{equation}\n",
    "    \\sum_{p \\in \\mathcal{P}} P_{p,t} \\times \\eta(p,r) + C_{r,t} = 0 \\hspace{1cm} \\forall r \\in \\mathcal{R}^{cons}, t \\in \\mathcal{T}^{sch}\n",
    "\\end{equation}\n",
    "\n",
    "\\begin{equation}\n",
    "    S_{r,t}, C_{r,t}, Inv_{r,t}, P_{p,t}, Cap^P_p, Cap^S_r \\in R_{\\geq 0}\n",
    "\\end{equation}\n"
   ]
  },
  {
   "cell_type": "markdown",
   "metadata": {},
   "source": [
    "**Import modules**"
   ]
  },
  {
   "cell_type": "code",
   "execution_count": 11,
   "metadata": {},
   "outputs": [],
   "source": [
    "import sys\n",
    "sys.path.append('../../src')"
   ]
  },
  {
   "cell_type": "code",
   "execution_count": 12,
   "metadata": {},
   "outputs": [],
   "source": [
    "import pandas\n",
    "from energiapy.components.temporal_scale import TemporalScale\n",
    "from energiapy.components.resource import Resource, VaryingResource\n",
    "from energiapy.components.process import Process, ProcessMode, VaryingProcess\n",
    "from energiapy.components.location import Location\n",
    "from energiapy.components.scenario import Scenario\n",
    "from energiapy.components.result import Result\n",
    "from energiapy.model.formulate import formulate, Constraints, Objective\n",
    "from energiapy.plot import plot_results, plot_scenario\n",
    "from energiapy.plot.plot_results import CostY, CostX\n",
    "from energiapy.model.solve import solve\n"
   ]
  },
  {
   "cell_type": "code",
   "execution_count": 13,
   "metadata": {},
   "outputs": [],
   "source": [
    "def lp():\n",
    "    \"\"\"small MILP test\n",
    "\n",
    "    Returns:\n",
    "        pyomo.ConcereteModel: pyomo model\n",
    "    \"\"\"\n",
    "    price_factor = pandas.DataFrame(data={'resource1': [0.5, 0.5, 0.5]})\n",
    "    demand_factor = pandas.DataFrame(data={'resource2': [0.5, 0.5, 1]})\n",
    "    capacity_factor = pandas.DataFrame(data={'process2': [1, 0.5, 1]})\n",
    "    scales = TemporalScale(discretization_list=[1, 3])\n",
    "    resource1 = Resource(name='resource1', cons_max=100, price = 10)\n",
    "    resource2 = Resource(name='resource2', demand=True, varying=VaryingResource.DETERMINISTIC_DEMAND)\n",
    "    process1 = Process(name='process1', storage=resource2, capex=1000,\n",
    "                       fopex=100, vopex=100,  prod_max=100, store_max=100)\n",
    "    process2 = Process(name='process2', conversion={resource1: -0.5, resource2: 1}, capex=1000,\n",
    "                       fopex=100, vopex=100, prod_max=100, varying=VaryingProcess.DETERMINISTIC_CAPACITY)\n",
    "    place = Location(name='place', processes={process1, process2},\n",
    "                     demand_factor={resource2: demand_factor}, capacity_factor={process2: capacity_factor}, price_factor={resource1: price_factor},\n",
    "                     expenditure_scale_level=0, price_scale_level=1, capacity_scale_level=1, demand_scale_level=1,\n",
    "                     scales=scales, label='some place')\n",
    "    case = Scenario(name='case', network=place,\n",
    "                    expenditure_scale_level=0, purchase_scale_level=1, network_scale_level=0, demand_scale_level=1, scheduling_scale_level=1,\n",
    "                    scales=scales,  demand={place: {resource2:100}})\n",
    "    constraints = {Constraints.COST, Constraints.INVENTORY,\n",
    "                   Constraints.PRODUCTION, Constraints.RESOURCE_BALANCE}\n",
    "    objective = Objective.COST\n",
    "    return case, formulate(scenario=case, constraints=constraints, objective=objective, objective_resource=resource2)"
   ]
  },
  {
   "cell_type": "code",
   "execution_count": 14,
   "metadata": {},
   "outputs": [
    {
     "name": "stdout",
     "output_type": "stream",
     "text": [
      "constraint process capex\n",
      "constraint process fopex\n",
      "constraint process vopex\n",
      "constraint process incidental\n",
      "constraint location capex\n",
      "constraint location fopex\n",
      "constraint location vopex\n",
      "constraint location incidental\n",
      "constraint network capex\n",
      "constraint network fopex\n",
      "constraint network vopex\n",
      "constraint network incidental\n",
      "constraint nameplate inventory\n",
      "constraint storage max\n",
      "constraint storage min\n",
      "constraint production mode\n",
      "constraint nameplate production\n",
      "constraint production max\n",
      "constraint production min\n",
      "constraint inventory balance\n",
      "constraint resource consumption\n",
      "constraint resource purchase\n",
      "constraint location production\n",
      "constraint location discharge\n",
      "constraint location consumption\n",
      "constraint location purchase\n",
      "constraint network production\n",
      "constraint network discharge\n",
      "constraint network consumption\n",
      "constraint network purchase\n",
      "constraint demand\n",
      "objective cost\n"
     ]
    }
   ],
   "source": [
    "scenario, LP = lp()"
   ]
  },
  {
   "cell_type": "code",
   "execution_count": 15,
   "metadata": {},
   "outputs": [
    {
     "name": "stdout",
     "output_type": "stream",
     "text": [
      "Set parameter QCPDual to value 1\n",
      "Gurobi Optimizer version 10.0.1 build v10.0.1rc0 (win64)\n",
      "\n",
      "CPU model: Intel(R) Core(TM) i7-6700 CPU @ 3.40GHz, instruction set [SSE2|AVX|AVX2]\n",
      "Thread count: 4 physical cores, 8 logical processors, using up to 8 threads\n",
      "\n",
      "Optimize a model with 79 rows, 67 columns and 169 nonzeros\n",
      "Model fingerprint: 0xda23639e\n",
      "Coefficient statistics:\n",
      "  Matrix range     [5e-01, 1e+03]\n",
      "  Objective range  [1e+00, 1e+00]\n",
      "  Bounds range     [0e+00, 0e+00]\n",
      "  RHS range        [5e+01, 1e+02]\n",
      "Presolve removed 69 rows and 56 columns\n",
      "Presolve time: 0.01s\n",
      "Presolved: 10 rows, 11 columns, 26 nonzeros\n",
      "\n",
      "Iteration    Objective       Primal Inf.    Dual Inf.      Time\n",
      "       0    6.0188440e+04   1.875650e+01   0.000000e+00      0s\n",
      "       6    1.3100000e+05   0.000000e+00   0.000000e+00      0s\n",
      "\n",
      "Solved in 6 iterations and 0.01 seconds (0.00 work units)\n",
      "Optimal objective  1.310000000e+05\n"
     ]
    }
   ],
   "source": [
    "results = solve(scenario=scenario, instance=LP, solver='gurobi', name='LP')\n"
   ]
  },
  {
   "cell_type": "code",
   "execution_count": 16,
   "metadata": {},
   "outputs": [
    {
     "data": {
      "text/plain": [
       "{('place', 'process2', 0): 200.0,\n",
       " ('place', 'process1', 0): 0.0,\n",
       " ('place', 'process1_discharge', 0): 0.0}"
      ]
     },
     "execution_count": 16,
     "metadata": {},
     "output_type": "execute_result"
    }
   ],
   "source": [
    "results.output['P_location']"
   ]
  },
  {
   "cell_type": "code",
   "execution_count": null,
   "metadata": {},
   "outputs": [],
   "source": []
  }
 ],
 "metadata": {
  "kernelspec": {
   "display_name": "Python 3.10.5 ('ki': venv)",
   "language": "python",
   "name": "python3"
  },
  "language_info": {
   "codemirror_mode": {
    "name": "ipython",
    "version": 3
   },
   "file_extension": ".py",
   "mimetype": "text/x-python",
   "name": "python",
   "nbconvert_exporter": "python",
   "pygments_lexer": "ipython3",
   "version": "3.10.5"
  },
  "orig_nbformat": 4,
  "vscode": {
   "interpreter": {
    "hash": "a4a97498e3c1bfef05f70a75d4fcafcb7b5c9c4ed86429a4e7bee46eaa890f24"
   }
  }
 },
 "nbformat": 4,
 "nbformat_minor": 2
}
