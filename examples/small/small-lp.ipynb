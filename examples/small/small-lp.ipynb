{
 "cells": [
  {
   "cell_type": "markdown",
   "metadata": {},
   "source": [
    "# Small energy systems MILP example"
   ]
  },
  {
   "attachments": {},
   "cell_type": "markdown",
   "metadata": {},
   "source": [
    "__author__ = \"Rahul Kakodkar\"\n",
    "__copyright__ = \"Copyright 2023, Multi-parametric Optimization & Control Lab\"\n",
    "__credits__ = [\"Rahul Kakodkar\", \"Efstratios N. Pistikopoulos\"]\n",
    "__license__ = \"MIT\"\n",
    "__version__ = \"1.0.5\"\n",
    "__maintainer__ = \"Rahul Kakodkar\"\n",
    "__email__ = \"cacodcar@tamu.edu\"\n",
    "__status__ = \"Complete\"\n"
   ]
  },
  {
   "attachments": {},
   "cell_type": "markdown",
   "metadata": {},
   "source": [
    "**Nomenclature**"
   ]
  },
  {
   "attachments": {},
   "cell_type": "markdown",
   "metadata": {},
   "source": [
    "The sets and variables used are stated here\n",
    "\n",
    "*Sets*\n",
    "\n",
    "\n",
    "- $\\mathcal{R}$ - set of all resources r\n",
    "- $\\mathcal{P}$ - set of all processes p\n",
    "- $\\mathcal{T}$ - set of temporal periods p\n"
   ]
  },
  {
   "attachments": {},
   "cell_type": "markdown",
   "metadata": {},
   "source": [
    "\n",
    "*Subsets*\n",
    "\n",
    "- $\\mathcal{R}^{storage}$ - set of resources that can be stored\n",
    "- $\\mathcal{R}^{sell}$ - set of resources that can be discharged\n",
    "- $\\mathcal{R}^{demand}$ - set of resources that meet  demand\n",
    "- $\\mathcal{R}^{cons}$ - set of resources that can be consumed\n",
    "- $\\mathcal{P}^{uncertain}$ - set of processes with uncertain capacity\n",
    "- $\\mathcal{T}$ - set of temporal periods \n",
    "- $\\mathcal{T}^{net}$ - set of temporal periods t for network level decision making\n",
    "- $\\mathcal{T}^{sch}$ - set of temporal periods t for schedule level decision making\n",
    "\n"
   ]
  },
  {
   "attachments": {},
   "cell_type": "markdown",
   "metadata": {},
   "source": [
    "\n",
    "*Continuous Variables*\n",
    "\n",
    "- $P_{p,t}$ - production level of p $\\in$  $\\mathcal{P}$ in time period t $\\in$ $\\mathcal{T}^{sch}$  \n",
    "    \n",
    "- $C_{r,t}$ - consumption of r $\\in$ $\\mathcal{R}^{cons}$ time period t $\\in$ $\\mathcal{T}^{sch}$ \n",
    "    \n",
    "- $S_{r,t}$ - discharge of r $\\in$ R\\ $\\mathcal{R}^{demand}$ time period t $\\in$ $\\mathcal{T}^{sch}$ \n",
    "    \n",
    "- $Inv_{r,t}$ - inventory level of r $\\in$ $\\mathcal{R}^{storage}$  in time period t $\\in$ $\\mathcal{T}^{sch}$\n",
    "    \n",
    "- $Cap^{S}_{r,t}$ - installed inventory capacity for resource r $\\in$  $\\mathcal{R}^{storage}$ in time period t $\\in$ $\\mathcal{T}^{net}$\n",
    "    \n",
    "- $Cap^{P}_{p,t}$ - installed production capacity for process p $\\in$ $\\mathcal{P}$ in time period t $\\in$ $\\mathcal{T}^{net}$\n",
    "    "
   ]
  },
  {
   "attachments": {},
   "cell_type": "markdown",
   "metadata": {},
   "source": [
    "*Binary Variables*\n",
    "\n",
    "- $X^P_{p,t}$ - network binary for production process p $\\in$ $\\mathcal{P}$ in time period t $\\in$ $\\mathcal{T}^{net}$\n",
    "- $X^S_{r,t}$ - network binary for inventory of resource r $\\in$ $\\mathcal{R}^{storage}$ in time period t $\\in$ $\\mathcal{T}^{net}$\n"
   ]
  },
  {
   "attachments": {},
   "cell_type": "markdown",
   "metadata": {},
   "source": [
    "- $Cap^{P-max}_{p,t}$- maximum production capacity of process p $\\in$ $\\mathcal{P}$ in time period t $\\in$ $\\mathcal{T}^{net}$\n",
    "- $Cap^{S-max}_{r,t}$- maximum inventory capacity for process r $\\in$ $\\mathcal{R}^{storage}$ in time period t $\\in$ $\\mathcal{T}^{net}$\n",
    "- $Capex_{p,t}$ - capital expenditure for process p $\\in$ $\\mathcal{P}$ in time t $\\in$ $\\mathcal{T}^{net}$\n",
    "- $Price_{r,t}$ - purchase price for resource r $\\in$ $\\mathcal{R}^{cons}$ in time t $\\in$ $\\mathcal{T}^{sch}$\n",
    "- $C^{max}_{r,t}$ - maximum consumption availability for resource r $\\in$ $\\mathcal{R}^{cons}$ in time t $\\in$ $\\mathcal{T}^{sch}$\n",
    "- $D_{r,t}$ - demand for resource r in $R^{sell}$ in time t $\\in$ $\\mathcal{T}^{sch}$"
   ]
  },
  {
   "attachments": {},
   "cell_type": "markdown",
   "metadata": {},
   "source": [
    "**MILP Formulation**"
   ]
  },
  {
   "attachments": {},
   "cell_type": "markdown",
   "metadata": {},
   "source": [
    "\n",
    "Given is a general MILP modeling and optimization framework for simultaneous network design and scheduling for a single location problem.\n",
    "\n",
    "\\begin{equation}\n",
    "    min \\sum_{t \\in \\mathcal{T}^{net}} \\sum_{p \\in \\mathcal{P}} Capex_{p,t} \\times Cap^P_{p,t} + \\sum_{t \\in \\mathcal{T}^{sch}} \\sum_{r \\in \\mathcal{R}^{cons}}  Price_{r,t}  \\times C_{r,t} + \\sum_{t \\in \\mathcal{T}^{sch}} \\sum_{p \\in \\mathcal{P}}  Vopex_{r,t} \\times P_{r,t} \n",
    "\\end{equation}\n",
    "\n",
    "\n",
    "\\begin{equation}\n",
    "    Cap^S_{r,t} \\leq Cap^{S-max}_{r,t} \\times X^S_{r,t} \\hspace{1cm} \\forall r \\in \\mathcal{R}^{storage}, t \\in \\mathcal{T}^{net}\n",
    "\\end{equation}\n",
    "\n",
    "\\begin{equation}\n",
    "    Cap^P_{p,t} \\leq Cap^{P-max}_{p,t} \\times X^P_p  \\hspace{1cm} \\forall p \\in \\mathcal{P}, t \\in \\mathcal{T}^{net}\n",
    "\\end{equation} \n",
    "\n",
    "\\begin{equation}\n",
    "    P_{p,t} \\leq Cap^{P}_{p,t}  \\hspace{1cm} \\forall p \\in \\mathcal{P}, t \\in \\mathcal{T}^{sch}\n",
    "\\end{equation} \n",
    "\n",
    "\\begin{equation}\n",
    "    Inv_{r,t} \\leq Cap^{S}_{r,t}  \\hspace{1cm} \\forall r \\in \\mathcal{R}^{storage}, t \\in \\mathcal{T}^{sch}\n",
    "\\end{equation} \n",
    "\n",
    "\n",
    "\\begin{equation}\n",
    "    - S_{r,t} \\leq - D_{r,t}  \\hspace{1cm} \\forall r \\in \\mathcal{R}, t \\in \\mathcal{T}^{sch}\n",
    "\\end{equation}\n",
    "\n",
    "\\begin{equation}\n",
    "    C_{r,t} \\leq C^{max}_{r,t} \\hspace{1cm} \\forall r \\in \\mathcal{R}, t \\in \\mathcal{T}^{sch}\n",
    "\\end{equation}\n",
    "\n",
    "\\begin{equation}\n",
    "    - S_{r,t} + \\sum_{p \\in \\mathcal{P}} P_{p,t} \\times \\eta(p,r) = 0 \\hspace{1cm} \\forall r \\in \\mathcal{R}^{sell}, t \\in \\mathcal{T}^{sch}\n",
    "\\end{equation}\n",
    "\n",
    "\\begin{equation}\n",
    "    -Inv_{r,t} + \\sum_{p \\in \\mathcal{P}} P_{p,t} \\times \\eta(p,r) = 0 \\hspace{1cm} \\forall r \\in \\mathcal{R}^{stored}, t \\in \\mathcal{T}^{sch}\n",
    "\\end{equation}\n",
    "\n",
    "\\begin{equation}\n",
    "    \\sum_{p \\in \\mathcal{P}} P_{p,t} \\times \\eta(p,r) + C_{r,t} = 0 \\hspace{1cm} \\forall r \\in \\mathcal{R}^{cons}, t \\in \\mathcal{T}^{sch}\n",
    "\\end{equation}\n",
    "\n",
    "\\begin{equation}\n",
    "    S_{r,t}, C_{r,t}, Inv_{r,t}, P_{p,t}, Cap^P_p, Cap^S_r \\in R_{\\geq 0}\n",
    "\\end{equation}\n"
   ]
  },
  {
   "cell_type": "markdown",
   "metadata": {},
   "source": [
    "**Import modules**"
   ]
  },
  {
   "cell_type": "code",
   "execution_count": 1,
   "metadata": {},
   "outputs": [],
   "source": [
    "import sys\n",
    "sys.path.append('../../src')"
   ]
  },
  {
   "cell_type": "code",
   "execution_count": 2,
   "metadata": {},
   "outputs": [],
   "source": [
    "import pandas\n",
    "from energiapy.components.temporal_scale import TemporalScale\n",
    "from energiapy.components.resource import Resource, VaryingResource\n",
    "from energiapy.components.process import Process, ProcessMode, VaryingProcess\n",
    "from energiapy.components.location import Location\n",
    "from energiapy.components.scenario import Scenario\n",
    "from energiapy.components.result import Result\n",
    "from energiapy.model.formulate import formulate, Constraints, Objective\n",
    "from energiapy.plot import plot_results, plot_scenario\n",
    "from energiapy.plot.plot_results import CostY, CostX\n",
    "from energiapy.model.solve import solve\n"
   ]
  },
  {
   "cell_type": "code",
   "execution_count": 3,
   "metadata": {},
   "outputs": [],
   "source": [
    "def lp():\n",
    "    \"\"\"small MILP test\n",
    "\n",
    "    Returns:\n",
    "        pyomo.ConcereteModel: pyomo model\n",
    "    \"\"\"\n",
    "    price_factor = pandas.DataFrame(data={'resource1': [0.5, 0.5, 0.5]})\n",
    "    demand_factor = pandas.DataFrame(data={'resource2': [0.5, 0.5, 1]})\n",
    "    capacity_factor = pandas.DataFrame(data={'process2': [1, 0.5, 1]})\n",
    "    scales = TemporalScale(discretization_list=[1, 3])\n",
    "    resource1 = Resource(name='resource1', cons_max=100, price = 10)\n",
    "    resource2 = Resource(name='resource2', demand=True, varying=VaryingResource.DETERMINISTIC_DEMAND)\n",
    "    process1 = Process(name='process1', storage=resource2, capex=1000,\n",
    "                       fopex=100, vopex=100,  prod_max=100, store_max=100)\n",
    "    process2 = Process(name='process2', conversion={resource1: -0.5, resource2: 1}, capex=1000,\n",
    "                       fopex=100, vopex=100, prod_max=100, varying=VaryingProcess.DETERMINISTIC_CAPACITY)\n",
    "    place = Location(name='place', processes={process1, process2},\n",
    "                     demand_factor={resource2: demand_factor}, capacity_factor={process2: capacity_factor}, price_factor={resource1: price_factor},\n",
    "                     expenditure_scale_level=0, price_scale_level=1, capacity_scale_level=1, demand_scale_level=1,\n",
    "                     scales=scales, label='some place')\n",
    "    case = Scenario(name='case', network=place,\n",
    "                    expenditure_scale_level=0, purchase_scale_level=1, network_scale_level=0, demand_scale_level=1, scheduling_scale_level=1,\n",
    "                    scales=scales,  demand={place: {resource2:100}})\n",
    "    constraints = {Constraints.COST, Constraints.INVENTORY,\n",
    "                   Constraints.PRODUCTION, Constraints.RESOURCE_BALANCE}\n",
    "    objective = Objective.COST\n",
    "    return case, formulate(scenario=case, constraints=constraints, objective=objective, objective_resource=resource2)"
   ]
  },
  {
   "cell_type": "code",
   "execution_count": 4,
   "metadata": {},
   "outputs": [
    {
     "name": "stderr",
     "output_type": "stream",
     "text": [
      "c:\\Users\\cacodcar\\energiapy\\examples\\small\\../../src\\energiapy\\components\\resource.py:157: UserWarning: Provide a list of VaryingResource enums\n",
      "  warn('Provide a list of VaryingResource enums')\n",
      "c:\\Users\\cacodcar\\energiapy\\examples\\small\\../../src\\energiapy\\components\\process.py:210: UserWarning: Provide a list of VaryingProcess enums\n",
      "  warn('Provide a list of VaryingProcess enums')\n"
     ]
    },
    {
     "ename": "TypeError",
     "evalue": "argument of type 'VaryingResource' is not iterable",
     "output_type": "error",
     "traceback": [
      "\u001b[1;31m---------------------------------------------------------------------------\u001b[0m",
      "\u001b[1;31mTypeError\u001b[0m                                 Traceback (most recent call last)",
      "Cell \u001b[1;32mIn[4], line 1\u001b[0m\n\u001b[1;32m----> 1\u001b[0m scenario, LP \u001b[39m=\u001b[39m lp()\n",
      "Cell \u001b[1;32mIn[3], line 21\u001b[0m, in \u001b[0;36mlp\u001b[1;34m()\u001b[0m\n\u001b[0;32m     15\u001b[0m process2 \u001b[39m=\u001b[39m Process(name\u001b[39m=\u001b[39m\u001b[39m'\u001b[39m\u001b[39mprocess2\u001b[39m\u001b[39m'\u001b[39m, conversion\u001b[39m=\u001b[39m{resource1: \u001b[39m-\u001b[39m\u001b[39m0.5\u001b[39m, resource2: \u001b[39m1\u001b[39m}, capex\u001b[39m=\u001b[39m\u001b[39m1000\u001b[39m,\n\u001b[0;32m     16\u001b[0m                    fopex\u001b[39m=\u001b[39m\u001b[39m100\u001b[39m, vopex\u001b[39m=\u001b[39m\u001b[39m100\u001b[39m, prod_max\u001b[39m=\u001b[39m\u001b[39m100\u001b[39m, varying\u001b[39m=\u001b[39mVaryingProcess\u001b[39m.\u001b[39mDETERMINISTIC_CAPACITY)\n\u001b[0;32m     17\u001b[0m place \u001b[39m=\u001b[39m Location(name\u001b[39m=\u001b[39m\u001b[39m'\u001b[39m\u001b[39mplace\u001b[39m\u001b[39m'\u001b[39m, processes\u001b[39m=\u001b[39m{process1, process2},\n\u001b[0;32m     18\u001b[0m                  demand_factor\u001b[39m=\u001b[39m{resource2: demand_factor}, capacity_factor\u001b[39m=\u001b[39m{process2: capacity_factor}, price_factor\u001b[39m=\u001b[39m{resource1: price_factor},\n\u001b[0;32m     19\u001b[0m                  expenditure_scale_level\u001b[39m=\u001b[39m\u001b[39m0\u001b[39m, price_scale_level\u001b[39m=\u001b[39m\u001b[39m1\u001b[39m, capacity_scale_level\u001b[39m=\u001b[39m\u001b[39m1\u001b[39m, demand_scale_level\u001b[39m=\u001b[39m\u001b[39m1\u001b[39m,\n\u001b[0;32m     20\u001b[0m                  scales\u001b[39m=\u001b[39mscales, label\u001b[39m=\u001b[39m\u001b[39m'\u001b[39m\u001b[39msome place\u001b[39m\u001b[39m'\u001b[39m)\n\u001b[1;32m---> 21\u001b[0m case \u001b[39m=\u001b[39m Scenario(name\u001b[39m=\u001b[39;49m\u001b[39m'\u001b[39;49m\u001b[39mcase\u001b[39;49m\u001b[39m'\u001b[39;49m, network\u001b[39m=\u001b[39;49mplace,\n\u001b[0;32m     22\u001b[0m                 expenditure_scale_level\u001b[39m=\u001b[39;49m\u001b[39m0\u001b[39;49m, purchase_scale_level\u001b[39m=\u001b[39;49m\u001b[39m1\u001b[39;49m, network_scale_level\u001b[39m=\u001b[39;49m\u001b[39m0\u001b[39;49m, demand_scale_level\u001b[39m=\u001b[39;49m\u001b[39m1\u001b[39;49m, scheduling_scale_level\u001b[39m=\u001b[39;49m\u001b[39m1\u001b[39;49m,\n\u001b[0;32m     23\u001b[0m                 scales\u001b[39m=\u001b[39;49mscales,  demand\u001b[39m=\u001b[39;49m{place: {resource2:\u001b[39m100\u001b[39;49m}})\n\u001b[0;32m     24\u001b[0m constraints \u001b[39m=\u001b[39m {Constraints\u001b[39m.\u001b[39mCOST, Constraints\u001b[39m.\u001b[39mINVENTORY,\n\u001b[0;32m     25\u001b[0m                Constraints\u001b[39m.\u001b[39mPRODUCTION, Constraints\u001b[39m.\u001b[39mRESOURCE_BALANCE}\n\u001b[0;32m     26\u001b[0m objective \u001b[39m=\u001b[39m Objective\u001b[39m.\u001b[39mCOST\n",
      "File \u001b[1;32m<string>:21\u001b[0m, in \u001b[0;36m__init__\u001b[1;34m(self, name, scales, network, purchase_scale_level, expenditure_scale_level, scheduling_scale_level, availability_scale_level, network_scale_level, demand_scale_level, capacity_scale_level, cluster_wt, demand, label, capacity_bounds, annualization_factor, demand_penalty, error, rep_dict)\u001b[0m\n",
      "File \u001b[1;32mc:\\Users\\cacodcar\\energiapy\\examples\\small\\../../src\\energiapy\\components\\scenario.py:327\u001b[0m, in \u001b[0;36mScenario.__post_init__\u001b[1;34m(self)\u001b[0m\n\u001b[0;32m    313\u001b[0m             \u001b[39mself\u001b[39m\u001b[39m.\u001b[39mprocess_material_modes \u001b[39m=\u001b[39m process_material_modes\n\u001b[0;32m    315\u001b[0m             \u001b[39mself\u001b[39m\u001b[39m.\u001b[39mprocess_material_modes_dict \u001b[39m=\u001b[39m {i\u001b[39m.\u001b[39mname: i\u001b[39m.\u001b[39mmaterial_modes \u001b[39mfor\u001b[39;00m i \u001b[39min\u001b[39;00m \u001b[39mself\u001b[39m\u001b[39m.\u001b[39mprocess_set}\n\u001b[0;32m    317\u001b[0m set_dict \u001b[39m=\u001b[39m {\n\u001b[0;32m    318\u001b[0m     \u001b[39m'\u001b[39m\u001b[39mresources\u001b[39m\u001b[39m'\u001b[39m: [i\u001b[39m.\u001b[39mname \u001b[39mfor\u001b[39;00m i \u001b[39min\u001b[39;00m \u001b[39mself\u001b[39m\u001b[39m.\u001b[39mresource_set],\n\u001b[0;32m    319\u001b[0m \n\u001b[0;32m    320\u001b[0m     \u001b[39m'\u001b[39m\u001b[39mresources_nosell\u001b[39m\u001b[39m'\u001b[39m: [i\u001b[39m.\u001b[39mname \u001b[39mfor\u001b[39;00m i \u001b[39min\u001b[39;00m \u001b[39mself\u001b[39m\u001b[39m.\u001b[39mresource_set \u001b[39mif\u001b[39;00m i\u001b[39m.\u001b[39msell \u001b[39mis\u001b[39;00m \u001b[39mFalse\u001b[39;00m],\n\u001b[0;32m    321\u001b[0m     \u001b[39m'\u001b[39m\u001b[39mresources_sell\u001b[39m\u001b[39m'\u001b[39m: [i\u001b[39m.\u001b[39mname \u001b[39mfor\u001b[39;00m i \u001b[39min\u001b[39;00m \u001b[39mself\u001b[39m\u001b[39m.\u001b[39mresource_set \u001b[39mif\u001b[39;00m i\u001b[39m.\u001b[39msell \u001b[39mis\u001b[39;00m \u001b[39mTrue\u001b[39;00m],\n\u001b[0;32m    322\u001b[0m \n\u001b[0;32m    323\u001b[0m     \u001b[39m'\u001b[39m\u001b[39mresources_store\u001b[39m\u001b[39m'\u001b[39m: [i\u001b[39m.\u001b[39mname \u001b[39mfor\u001b[39;00m i \u001b[39min\u001b[39;00m \u001b[39mself\u001b[39m\u001b[39m.\u001b[39mresource_set \u001b[39mif\u001b[39;00m i\u001b[39m.\u001b[39mstore_max \u001b[39m>\u001b[39m \u001b[39m0\u001b[39m],\n\u001b[0;32m    324\u001b[0m \n\u001b[0;32m    325\u001b[0m     \u001b[39m'\u001b[39m\u001b[39mresources_purch\u001b[39m\u001b[39m'\u001b[39m: [i\u001b[39m.\u001b[39mname \u001b[39mfor\u001b[39;00m i \u001b[39min\u001b[39;00m \u001b[39mself\u001b[39m\u001b[39m.\u001b[39mresource_set \u001b[39mif\u001b[39;00m i\u001b[39m.\u001b[39mcons_max \u001b[39m>\u001b[39m \u001b[39m0\u001b[39m],\n\u001b[0;32m    326\u001b[0m \n\u001b[1;32m--> 327\u001b[0m     \u001b[39m'\u001b[39m\u001b[39mresources_varying_demand\u001b[39m\u001b[39m'\u001b[39m: [i\u001b[39m.\u001b[39mname \u001b[39mfor\u001b[39;00m i \u001b[39min\u001b[39;00m \u001b[39mself\u001b[39m\u001b[39m.\u001b[39mresource_set \u001b[39mif\u001b[39;00m\n\u001b[0;32m    328\u001b[0m                                  VaryingResource\u001b[39m.\u001b[39mDETERMINISTIC_DEMAND \u001b[39min\u001b[39;00m i\u001b[39m.\u001b[39mvarying],\n\u001b[0;32m    329\u001b[0m     \u001b[39m'\u001b[39m\u001b[39mresources_certain_demand\u001b[39m\u001b[39m'\u001b[39m: [i\u001b[39m.\u001b[39mname \u001b[39mfor\u001b[39;00m i \u001b[39min\u001b[39;00m \u001b[39mself\u001b[39m\u001b[39m.\u001b[39mresource_set \u001b[39mif\u001b[39;00m\n\u001b[0;32m    330\u001b[0m                                  VaryingResource\u001b[39m.\u001b[39mCERTAIN_DEMAND \u001b[39min\u001b[39;00m i\u001b[39m.\u001b[39mvarying],\n\u001b[0;32m    331\u001b[0m     \u001b[39m'\u001b[39m\u001b[39mresources_uncertain_demand\u001b[39m\u001b[39m'\u001b[39m: [i\u001b[39m.\u001b[39mname \u001b[39mfor\u001b[39;00m i \u001b[39min\u001b[39;00m \u001b[39mself\u001b[39m\u001b[39m.\u001b[39mresource_set \u001b[39mif\u001b[39;00m\n\u001b[0;32m    332\u001b[0m                                    VaryingResource\u001b[39m.\u001b[39mUNCERTAIN_DEMAND \u001b[39min\u001b[39;00m i\u001b[39m.\u001b[39mvarying],\n\u001b[0;32m    333\u001b[0m \n\u001b[0;32m    334\u001b[0m     \u001b[39m'\u001b[39m\u001b[39mresources_varying_price\u001b[39m\u001b[39m'\u001b[39m: [i\u001b[39m.\u001b[39mname \u001b[39mfor\u001b[39;00m i \u001b[39min\u001b[39;00m \u001b[39mself\u001b[39m\u001b[39m.\u001b[39mresource_set \u001b[39mif\u001b[39;00m\n\u001b[0;32m    335\u001b[0m                                 VaryingResource\u001b[39m.\u001b[39mDETERMINISTIC_PRICE \u001b[39min\u001b[39;00m i\u001b[39m.\u001b[39mvarying],\n\u001b[0;32m    336\u001b[0m     \u001b[39m'\u001b[39m\u001b[39mresources_certain_price\u001b[39m\u001b[39m'\u001b[39m: [i\u001b[39m.\u001b[39mname \u001b[39mfor\u001b[39;00m i \u001b[39min\u001b[39;00m \u001b[39mself\u001b[39m\u001b[39m.\u001b[39mresource_set \u001b[39mif\u001b[39;00m\n\u001b[0;32m    337\u001b[0m                                 VaryingResource\u001b[39m.\u001b[39mCERTAIN_PRICE \u001b[39min\u001b[39;00m i\u001b[39m.\u001b[39mvarying],\n\u001b[0;32m    338\u001b[0m     \u001b[39m'\u001b[39m\u001b[39mresources_uncertain_price\u001b[39m\u001b[39m'\u001b[39m: [i\u001b[39m.\u001b[39mname \u001b[39mfor\u001b[39;00m i \u001b[39min\u001b[39;00m \u001b[39mself\u001b[39m\u001b[39m.\u001b[39mresource_set \u001b[39mif\u001b[39;00m\n\u001b[0;32m    339\u001b[0m                                   VaryingResource\u001b[39m.\u001b[39mUNCERTAIN_PRICE \u001b[39min\u001b[39;00m i\u001b[39m.\u001b[39mvarying],\n\u001b[0;32m    340\u001b[0m \n\u001b[0;32m    341\u001b[0m     \u001b[39m'\u001b[39m\u001b[39mresources_varying_revenue\u001b[39m\u001b[39m'\u001b[39m: [i\u001b[39m.\u001b[39mname \u001b[39mfor\u001b[39;00m i \u001b[39min\u001b[39;00m \u001b[39mself\u001b[39m\u001b[39m.\u001b[39mresource_set \u001b[39mif\u001b[39;00m\n\u001b[0;32m    342\u001b[0m                                   VaryingResource\u001b[39m.\u001b[39mDETERMINISTIC_REVENUE \u001b[39min\u001b[39;00m i\u001b[39m.\u001b[39mvarying],\n\u001b[0;32m    343\u001b[0m     \u001b[39m'\u001b[39m\u001b[39mresources_certain_revenue\u001b[39m\u001b[39m'\u001b[39m: [i\u001b[39m.\u001b[39mname \u001b[39mfor\u001b[39;00m i \u001b[39min\u001b[39;00m \u001b[39mself\u001b[39m\u001b[39m.\u001b[39mresource_set \u001b[39mif\u001b[39;00m\n\u001b[0;32m    344\u001b[0m                                   VaryingResource\u001b[39m.\u001b[39mCERTAIN_REVENUE \u001b[39min\u001b[39;00m i\u001b[39m.\u001b[39mvarying],\n\u001b[0;32m    345\u001b[0m     \u001b[39m'\u001b[39m\u001b[39mresources_uncertain_revenue\u001b[39m\u001b[39m'\u001b[39m: [i\u001b[39m.\u001b[39mname \u001b[39mfor\u001b[39;00m i \u001b[39min\u001b[39;00m \u001b[39mself\u001b[39m\u001b[39m.\u001b[39mresource_set \u001b[39mif\u001b[39;00m\n\u001b[0;32m    346\u001b[0m                                     VaryingResource\u001b[39m.\u001b[39mUNCERTAIN_REVENUE \u001b[39min\u001b[39;00m i\u001b[39m.\u001b[39mvarying],\n\u001b[0;32m    347\u001b[0m \n\u001b[0;32m    348\u001b[0m     \u001b[39m'\u001b[39m\u001b[39mresources_varying_availability\u001b[39m\u001b[39m'\u001b[39m: [i\u001b[39m.\u001b[39mname \u001b[39mfor\u001b[39;00m i \u001b[39min\u001b[39;00m \u001b[39mself\u001b[39m\u001b[39m.\u001b[39mresource_set \u001b[39mif\u001b[39;00m\n\u001b[0;32m    349\u001b[0m                                        VaryingResource\u001b[39m.\u001b[39mDETERMINISTIC_AVAILABILITY \u001b[39min\u001b[39;00m i\u001b[39m.\u001b[39mvarying],\n\u001b[0;32m    350\u001b[0m     \u001b[39m'\u001b[39m\u001b[39mresources_certain_availability\u001b[39m\u001b[39m'\u001b[39m: [i\u001b[39m.\u001b[39mname \u001b[39mfor\u001b[39;00m i \u001b[39min\u001b[39;00m \u001b[39mself\u001b[39m\u001b[39m.\u001b[39mresource_set \u001b[39mif\u001b[39;00m\n\u001b[0;32m    351\u001b[0m                                        VaryingResource\u001b[39m.\u001b[39mCERTAIN_AVAILABILITY \u001b[39min\u001b[39;00m i\u001b[39m.\u001b[39mvarying],\n\u001b[0;32m    352\u001b[0m     \u001b[39m'\u001b[39m\u001b[39mresources_uncertain_availability\u001b[39m\u001b[39m'\u001b[39m: [i\u001b[39m.\u001b[39mname \u001b[39mfor\u001b[39;00m i \u001b[39min\u001b[39;00m \u001b[39mself\u001b[39m\u001b[39m.\u001b[39mresource_set \u001b[39mif\u001b[39;00m\n\u001b[0;32m    353\u001b[0m                                          VaryingResource\u001b[39m.\u001b[39mUNCERTAIN_AVAILABILITY \u001b[39min\u001b[39;00m i\u001b[39m.\u001b[39mvarying],\n\u001b[0;32m    354\u001b[0m \n\u001b[0;32m    355\u001b[0m     \u001b[39m'\u001b[39m\u001b[39mresources_demand\u001b[39m\u001b[39m'\u001b[39m: [i\u001b[39m.\u001b[39mname \u001b[39mfor\u001b[39;00m i \u001b[39min\u001b[39;00m \u001b[39mself\u001b[39m\u001b[39m.\u001b[39mresource_set \u001b[39mif\u001b[39;00m i\u001b[39m.\u001b[39mdemand \u001b[39mis\u001b[39;00m \u001b[39mTrue\u001b[39;00m],\n\u001b[0;32m    356\u001b[0m \n\u001b[0;32m    357\u001b[0m     \u001b[39m'\u001b[39m\u001b[39mresources_implicit\u001b[39m\u001b[39m'\u001b[39m: [i\u001b[39m.\u001b[39mname \u001b[39mfor\u001b[39;00m i \u001b[39min\u001b[39;00m \u001b[39mself\u001b[39m\u001b[39m.\u001b[39mresource_set \u001b[39mif\u001b[39;00m VaryingResource\u001b[39m.\u001b[39mIMPLICIT \u001b[39min\u001b[39;00m i\u001b[39m.\u001b[39mvarying],\n\u001b[0;32m    358\u001b[0m \n\u001b[0;32m    359\u001b[0m     \u001b[39m'\u001b[39m\u001b[39mprocesses\u001b[39m\u001b[39m'\u001b[39m: [i\u001b[39m.\u001b[39mname \u001b[39mfor\u001b[39;00m i \u001b[39min\u001b[39;00m \u001b[39mself\u001b[39m\u001b[39m.\u001b[39mprocess_set],\n\u001b[0;32m    360\u001b[0m \n\u001b[0;32m    361\u001b[0m     \u001b[39m'\u001b[39m\u001b[39mprocesses_full\u001b[39m\u001b[39m'\u001b[39m: \u001b[39mlist\u001b[39m(\u001b[39mself\u001b[39m\u001b[39m.\u001b[39mconversion\u001b[39m.\u001b[39mkeys()),\n\u001b[0;32m    362\u001b[0m \n\u001b[0;32m    363\u001b[0m     \u001b[39m'\u001b[39m\u001b[39mprocesses_failure\u001b[39m\u001b[39m'\u001b[39m: [i\u001b[39m.\u001b[39mname \u001b[39mfor\u001b[39;00m i \u001b[39min\u001b[39;00m \u001b[39mself\u001b[39m\u001b[39m.\u001b[39mprocess_set \u001b[39mif\u001b[39;00m i\u001b[39m.\u001b[39mp_fail \u001b[39mis\u001b[39;00m \u001b[39mnot\u001b[39;00m \u001b[39mNone\u001b[39;00m],\n\u001b[0;32m    364\u001b[0m \n\u001b[0;32m    365\u001b[0m     \u001b[39m'\u001b[39m\u001b[39mprocesses_materials\u001b[39m\u001b[39m'\u001b[39m: [i\u001b[39m.\u001b[39mname \u001b[39mfor\u001b[39;00m i \u001b[39min\u001b[39;00m \u001b[39mself\u001b[39m\u001b[39m.\u001b[39mprocess_set \u001b[39mif\u001b[39;00m i\u001b[39m.\u001b[39mmaterial_cons \u001b[39mis\u001b[39;00m \u001b[39mnot\u001b[39;00m \u001b[39mNone\u001b[39;00m],\n\u001b[0;32m    366\u001b[0m \n\u001b[0;32m    367\u001b[0m     \u001b[39m'\u001b[39m\u001b[39mprocesses_storage\u001b[39m\u001b[39m'\u001b[39m: [i\u001b[39m.\u001b[39mname \u001b[39mfor\u001b[39;00m i \u001b[39min\u001b[39;00m \u001b[39mself\u001b[39m\u001b[39m.\u001b[39mprocess_set \u001b[39mif\u001b[39;00m i\u001b[39m.\u001b[39mconversion_discharge \u001b[39mis\u001b[39;00m \u001b[39mnot\u001b[39;00m \u001b[39mNone\u001b[39;00m],\n\u001b[0;32m    368\u001b[0m \n\u001b[0;32m    369\u001b[0m     \u001b[39m'\u001b[39m\u001b[39mprocesses_multim\u001b[39m\u001b[39m'\u001b[39m: [i\u001b[39m.\u001b[39mname \u001b[39mfor\u001b[39;00m i \u001b[39min\u001b[39;00m \u001b[39mself\u001b[39m\u001b[39m.\u001b[39mprocess_set \u001b[39mif\u001b[39;00m i\u001b[39m.\u001b[39mprocessmode \u001b[39m==\u001b[39m ProcessMode\u001b[39m.\u001b[39mMULTI],\n\u001b[0;32m    370\u001b[0m     \u001b[39m'\u001b[39m\u001b[39mprocesses_singlem\u001b[39m\u001b[39m'\u001b[39m: [i\u001b[39m.\u001b[39mname \u001b[39mfor\u001b[39;00m i \u001b[39min\u001b[39;00m \u001b[39mself\u001b[39m\u001b[39m.\u001b[39mprocess_set \u001b[39mif\u001b[39;00m\n\u001b[0;32m    371\u001b[0m                           (i\u001b[39m.\u001b[39mprocessmode \u001b[39m==\u001b[39m ProcessMode\u001b[39m.\u001b[39mSINGLE) \u001b[39mor\u001b[39;00m (i\u001b[39m.\u001b[39mprocessmode \u001b[39m==\u001b[39m ProcessMode\u001b[39m.\u001b[39mSTORAGE)],\n\u001b[0;32m    372\u001b[0m \n\u001b[0;32m    373\u001b[0m     \u001b[39m'\u001b[39m\u001b[39mprocesses_certain_capacity\u001b[39m\u001b[39m'\u001b[39m: [i\u001b[39m.\u001b[39mname \u001b[39mfor\u001b[39;00m i \u001b[39min\u001b[39;00m \u001b[39mself\u001b[39m\u001b[39m.\u001b[39mprocess_set \u001b[39mif\u001b[39;00m\n\u001b[0;32m    374\u001b[0m                                    VaryingProcess\u001b[39m.\u001b[39mCERTAIN_CAPACITY \u001b[39min\u001b[39;00m i\u001b[39m.\u001b[39mvarying],\n\u001b[0;32m    375\u001b[0m     \u001b[39m'\u001b[39m\u001b[39mprocesses_varying_capacity\u001b[39m\u001b[39m'\u001b[39m: [i\u001b[39m.\u001b[39mname \u001b[39mfor\u001b[39;00m i \u001b[39min\u001b[39;00m \u001b[39mself\u001b[39m\u001b[39m.\u001b[39mprocess_set \u001b[39mif\u001b[39;00m\n\u001b[0;32m    376\u001b[0m                                    VaryingProcess\u001b[39m.\u001b[39mDETERMINISTIC_CAPACITY \u001b[39min\u001b[39;00m i\u001b[39m.\u001b[39mvarying],\n\u001b[0;32m    377\u001b[0m     \u001b[39m'\u001b[39m\u001b[39mprocesses_uncertain_capacity\u001b[39m\u001b[39m'\u001b[39m: [i\u001b[39m.\u001b[39mname \u001b[39mfor\u001b[39;00m i \u001b[39min\u001b[39;00m \u001b[39mself\u001b[39m\u001b[39m.\u001b[39mprocess_set \u001b[39mif\u001b[39;00m\n\u001b[0;32m    378\u001b[0m                                      VaryingProcess\u001b[39m.\u001b[39mUNCERTAIN_CAPACITY \u001b[39min\u001b[39;00m i\u001b[39m.\u001b[39mvarying],\n\u001b[0;32m    379\u001b[0m \n\u001b[0;32m    380\u001b[0m     \u001b[39m'\u001b[39m\u001b[39mprocesses_certain_expenditure\u001b[39m\u001b[39m'\u001b[39m: [i\u001b[39m.\u001b[39mname \u001b[39mfor\u001b[39;00m i \u001b[39min\u001b[39;00m \u001b[39mself\u001b[39m\u001b[39m.\u001b[39mprocess_set \u001b[39mif\u001b[39;00m\n\u001b[0;32m    381\u001b[0m                                       VaryingProcess\u001b[39m.\u001b[39mCERTAIN_EXPENDITURE \u001b[39min\u001b[39;00m i\u001b[39m.\u001b[39mvarying],\n\u001b[0;32m    382\u001b[0m     \u001b[39m'\u001b[39m\u001b[39mprocesses_varying_expenditure\u001b[39m\u001b[39m'\u001b[39m: [i\u001b[39m.\u001b[39mname \u001b[39mfor\u001b[39;00m i \u001b[39min\u001b[39;00m \u001b[39mself\u001b[39m\u001b[39m.\u001b[39mprocess_set \u001b[39mif\u001b[39;00m\n\u001b[0;32m    383\u001b[0m                                       VaryingProcess\u001b[39m.\u001b[39mDETERMINISTIC_EXPENDITURE \u001b[39min\u001b[39;00m i\u001b[39m.\u001b[39mvarying],\n\u001b[0;32m    384\u001b[0m     \u001b[39m'\u001b[39m\u001b[39mprocesses_uncertain_expenditure\u001b[39m\u001b[39m'\u001b[39m: [i\u001b[39m.\u001b[39mname \u001b[39mfor\u001b[39;00m i \u001b[39min\u001b[39;00m \u001b[39mself\u001b[39m\u001b[39m.\u001b[39mprocess_set \u001b[39mif\u001b[39;00m\n\u001b[0;32m    385\u001b[0m                                         VaryingProcess\u001b[39m.\u001b[39mUNCERTAIN_EXPENDITURE \u001b[39min\u001b[39;00m i\u001b[39m.\u001b[39mvarying],\n\u001b[0;32m    386\u001b[0m \n\u001b[0;32m    387\u001b[0m     \u001b[39m'\u001b[39m\u001b[39mprocesses_segments\u001b[39m\u001b[39m'\u001b[39m: [i\u001b[39m.\u001b[39mname \u001b[39mfor\u001b[39;00m i \u001b[39min\u001b[39;00m \u001b[39mself\u001b[39m\u001b[39m.\u001b[39mprocess_set \u001b[39mif\u001b[39;00m i\u001b[39m.\u001b[39mcost_dynamics \u001b[39m==\u001b[39m CostDynamics\u001b[39m.\u001b[39mPWL],\n\u001b[0;32m    388\u001b[0m \n\u001b[0;32m    389\u001b[0m     \u001b[39m'\u001b[39m\u001b[39mlocations\u001b[39m\u001b[39m'\u001b[39m: [i\u001b[39m.\u001b[39mname \u001b[39mfor\u001b[39;00m i \u001b[39min\u001b[39;00m \u001b[39mself\u001b[39m\u001b[39m.\u001b[39mlocation_set],\n\u001b[0;32m    390\u001b[0m     \u001b[39m'\u001b[39m\u001b[39mmaterials\u001b[39m\u001b[39m'\u001b[39m: [i\u001b[39m.\u001b[39mname \u001b[39mfor\u001b[39;00m i \u001b[39min\u001b[39;00m \u001b[39mself\u001b[39m\u001b[39m.\u001b[39mmaterial_set],\n\u001b[0;32m    391\u001b[0m     \n\u001b[0;32m    392\u001b[0m     \u001b[39m'\u001b[39m\u001b[39mprocess_material_modes\u001b[39m\u001b[39m'\u001b[39m: process_material_modes,\n\u001b[0;32m    393\u001b[0m     \n\u001b[0;32m    394\u001b[0m     \u001b[39m'\u001b[39m\u001b[39mmaterial_modes\u001b[39m\u001b[39m'\u001b[39m: [element \u001b[39mfor\u001b[39;00m dictionary \u001b[39min\u001b[39;00m \u001b[39mlist\u001b[39m(i\u001b[39m.\u001b[39mmaterial_modes \u001b[39mfor\u001b[39;00m i \u001b[39min\u001b[39;00m \u001b[39mself\u001b[39m\u001b[39m.\u001b[39mprocess_set) \u001b[39mfor\u001b[39;00m element \u001b[39min\u001b[39;00m dictionary]\n\u001b[0;32m    395\u001b[0m }\n\u001b[0;32m    397\u001b[0m \u001b[39mself\u001b[39m\u001b[39m.\u001b[39mvarying_bounds_dict \u001b[39m=\u001b[39m {\n\u001b[0;32m    398\u001b[0m     \u001b[39m'\u001b[39m\u001b[39mdemand\u001b[39m\u001b[39m'\u001b[39m: {i\u001b[39m.\u001b[39mname: i\u001b[39m.\u001b[39mvarying_bounds \u001b[39mfor\u001b[39;00m i \u001b[39min\u001b[39;00m \u001b[39mself\u001b[39m\u001b[39m.\u001b[39mresource_set \u001b[39mif\u001b[39;00m VaryingResource\u001b[39m.\u001b[39mUNCERTAIN_DEMAND \u001b[39min\u001b[39;00m i\u001b[39m.\u001b[39mvarying},\n\u001b[0;32m    399\u001b[0m     \u001b[39m'\u001b[39m\u001b[39mavailability\u001b[39m\u001b[39m'\u001b[39m: {i\u001b[39m.\u001b[39mname: i\u001b[39m.\u001b[39mvarying_bounds \u001b[39mfor\u001b[39;00m i \u001b[39min\u001b[39;00m \u001b[39mself\u001b[39m\u001b[39m.\u001b[39mresource_set \u001b[39mif\u001b[39;00m VaryingResource\u001b[39m.\u001b[39mUNCERTAIN_AVAILABILITY \u001b[39min\u001b[39;00m i\u001b[39m.\u001b[39mvarying},\n\u001b[0;32m    400\u001b[0m     \u001b[39m'\u001b[39m\u001b[39mcapacity\u001b[39m\u001b[39m'\u001b[39m: {i\u001b[39m.\u001b[39mname: i\u001b[39m.\u001b[39mvarying_bounds \u001b[39mfor\u001b[39;00m i \u001b[39min\u001b[39;00m \u001b[39mself\u001b[39m\u001b[39m.\u001b[39mprocess_set \u001b[39mif\u001b[39;00m VaryingProcess\u001b[39m.\u001b[39mUNCERTAIN_CAPACITY \u001b[39min\u001b[39;00m i\u001b[39m.\u001b[39mvarying}\n\u001b[0;32m    401\u001b[0m }\n\u001b[0;32m    403\u001b[0m \u001b[39mif\u001b[39;00m \u001b[39mself\u001b[39m\u001b[39m.\u001b[39msource_locations \u001b[39mis\u001b[39;00m \u001b[39mnot\u001b[39;00m \u001b[39mNone\u001b[39;00m:\n",
      "File \u001b[1;32mc:\\Users\\cacodcar\\energiapy\\examples\\small\\../../src\\energiapy\\components\\scenario.py:328\u001b[0m, in \u001b[0;36m<listcomp>\u001b[1;34m(.0)\u001b[0m\n\u001b[0;32m    313\u001b[0m             \u001b[39mself\u001b[39m\u001b[39m.\u001b[39mprocess_material_modes \u001b[39m=\u001b[39m process_material_modes\n\u001b[0;32m    315\u001b[0m             \u001b[39mself\u001b[39m\u001b[39m.\u001b[39mprocess_material_modes_dict \u001b[39m=\u001b[39m {i\u001b[39m.\u001b[39mname: i\u001b[39m.\u001b[39mmaterial_modes \u001b[39mfor\u001b[39;00m i \u001b[39min\u001b[39;00m \u001b[39mself\u001b[39m\u001b[39m.\u001b[39mprocess_set}\n\u001b[0;32m    317\u001b[0m set_dict \u001b[39m=\u001b[39m {\n\u001b[0;32m    318\u001b[0m     \u001b[39m'\u001b[39m\u001b[39mresources\u001b[39m\u001b[39m'\u001b[39m: [i\u001b[39m.\u001b[39mname \u001b[39mfor\u001b[39;00m i \u001b[39min\u001b[39;00m \u001b[39mself\u001b[39m\u001b[39m.\u001b[39mresource_set],\n\u001b[0;32m    319\u001b[0m \n\u001b[0;32m    320\u001b[0m     \u001b[39m'\u001b[39m\u001b[39mresources_nosell\u001b[39m\u001b[39m'\u001b[39m: [i\u001b[39m.\u001b[39mname \u001b[39mfor\u001b[39;00m i \u001b[39min\u001b[39;00m \u001b[39mself\u001b[39m\u001b[39m.\u001b[39mresource_set \u001b[39mif\u001b[39;00m i\u001b[39m.\u001b[39msell \u001b[39mis\u001b[39;00m \u001b[39mFalse\u001b[39;00m],\n\u001b[0;32m    321\u001b[0m     \u001b[39m'\u001b[39m\u001b[39mresources_sell\u001b[39m\u001b[39m'\u001b[39m: [i\u001b[39m.\u001b[39mname \u001b[39mfor\u001b[39;00m i \u001b[39min\u001b[39;00m \u001b[39mself\u001b[39m\u001b[39m.\u001b[39mresource_set \u001b[39mif\u001b[39;00m i\u001b[39m.\u001b[39msell \u001b[39mis\u001b[39;00m \u001b[39mTrue\u001b[39;00m],\n\u001b[0;32m    322\u001b[0m \n\u001b[0;32m    323\u001b[0m     \u001b[39m'\u001b[39m\u001b[39mresources_store\u001b[39m\u001b[39m'\u001b[39m: [i\u001b[39m.\u001b[39mname \u001b[39mfor\u001b[39;00m i \u001b[39min\u001b[39;00m \u001b[39mself\u001b[39m\u001b[39m.\u001b[39mresource_set \u001b[39mif\u001b[39;00m i\u001b[39m.\u001b[39mstore_max \u001b[39m>\u001b[39m \u001b[39m0\u001b[39m],\n\u001b[0;32m    324\u001b[0m \n\u001b[0;32m    325\u001b[0m     \u001b[39m'\u001b[39m\u001b[39mresources_purch\u001b[39m\u001b[39m'\u001b[39m: [i\u001b[39m.\u001b[39mname \u001b[39mfor\u001b[39;00m i \u001b[39min\u001b[39;00m \u001b[39mself\u001b[39m\u001b[39m.\u001b[39mresource_set \u001b[39mif\u001b[39;00m i\u001b[39m.\u001b[39mcons_max \u001b[39m>\u001b[39m \u001b[39m0\u001b[39m],\n\u001b[0;32m    326\u001b[0m \n\u001b[0;32m    327\u001b[0m     \u001b[39m'\u001b[39m\u001b[39mresources_varying_demand\u001b[39m\u001b[39m'\u001b[39m: [i\u001b[39m.\u001b[39mname \u001b[39mfor\u001b[39;00m i \u001b[39min\u001b[39;00m \u001b[39mself\u001b[39m\u001b[39m.\u001b[39mresource_set \u001b[39mif\u001b[39;00m\n\u001b[1;32m--> 328\u001b[0m                                  VaryingResource\u001b[39m.\u001b[39;49mDETERMINISTIC_DEMAND \u001b[39min\u001b[39;49;00m i\u001b[39m.\u001b[39;49mvarying],\n\u001b[0;32m    329\u001b[0m     \u001b[39m'\u001b[39m\u001b[39mresources_certain_demand\u001b[39m\u001b[39m'\u001b[39m: [i\u001b[39m.\u001b[39mname \u001b[39mfor\u001b[39;00m i \u001b[39min\u001b[39;00m \u001b[39mself\u001b[39m\u001b[39m.\u001b[39mresource_set \u001b[39mif\u001b[39;00m\n\u001b[0;32m    330\u001b[0m                                  VaryingResource\u001b[39m.\u001b[39mCERTAIN_DEMAND \u001b[39min\u001b[39;00m i\u001b[39m.\u001b[39mvarying],\n\u001b[0;32m    331\u001b[0m     \u001b[39m'\u001b[39m\u001b[39mresources_uncertain_demand\u001b[39m\u001b[39m'\u001b[39m: [i\u001b[39m.\u001b[39mname \u001b[39mfor\u001b[39;00m i \u001b[39min\u001b[39;00m \u001b[39mself\u001b[39m\u001b[39m.\u001b[39mresource_set \u001b[39mif\u001b[39;00m\n\u001b[0;32m    332\u001b[0m                                    VaryingResource\u001b[39m.\u001b[39mUNCERTAIN_DEMAND \u001b[39min\u001b[39;00m i\u001b[39m.\u001b[39mvarying],\n\u001b[0;32m    333\u001b[0m \n\u001b[0;32m    334\u001b[0m     \u001b[39m'\u001b[39m\u001b[39mresources_varying_price\u001b[39m\u001b[39m'\u001b[39m: [i\u001b[39m.\u001b[39mname \u001b[39mfor\u001b[39;00m i \u001b[39min\u001b[39;00m \u001b[39mself\u001b[39m\u001b[39m.\u001b[39mresource_set \u001b[39mif\u001b[39;00m\n\u001b[0;32m    335\u001b[0m                                 VaryingResource\u001b[39m.\u001b[39mDETERMINISTIC_PRICE \u001b[39min\u001b[39;00m i\u001b[39m.\u001b[39mvarying],\n\u001b[0;32m    336\u001b[0m     \u001b[39m'\u001b[39m\u001b[39mresources_certain_price\u001b[39m\u001b[39m'\u001b[39m: [i\u001b[39m.\u001b[39mname \u001b[39mfor\u001b[39;00m i \u001b[39min\u001b[39;00m \u001b[39mself\u001b[39m\u001b[39m.\u001b[39mresource_set \u001b[39mif\u001b[39;00m\n\u001b[0;32m    337\u001b[0m                                 VaryingResource\u001b[39m.\u001b[39mCERTAIN_PRICE \u001b[39min\u001b[39;00m i\u001b[39m.\u001b[39mvarying],\n\u001b[0;32m    338\u001b[0m     \u001b[39m'\u001b[39m\u001b[39mresources_uncertain_price\u001b[39m\u001b[39m'\u001b[39m: [i\u001b[39m.\u001b[39mname \u001b[39mfor\u001b[39;00m i \u001b[39min\u001b[39;00m \u001b[39mself\u001b[39m\u001b[39m.\u001b[39mresource_set \u001b[39mif\u001b[39;00m\n\u001b[0;32m    339\u001b[0m                                   VaryingResource\u001b[39m.\u001b[39mUNCERTAIN_PRICE \u001b[39min\u001b[39;00m i\u001b[39m.\u001b[39mvarying],\n\u001b[0;32m    340\u001b[0m \n\u001b[0;32m    341\u001b[0m     \u001b[39m'\u001b[39m\u001b[39mresources_varying_revenue\u001b[39m\u001b[39m'\u001b[39m: [i\u001b[39m.\u001b[39mname \u001b[39mfor\u001b[39;00m i \u001b[39min\u001b[39;00m \u001b[39mself\u001b[39m\u001b[39m.\u001b[39mresource_set \u001b[39mif\u001b[39;00m\n\u001b[0;32m    342\u001b[0m                                   VaryingResource\u001b[39m.\u001b[39mDETERMINISTIC_REVENUE \u001b[39min\u001b[39;00m i\u001b[39m.\u001b[39mvarying],\n\u001b[0;32m    343\u001b[0m     \u001b[39m'\u001b[39m\u001b[39mresources_certain_revenue\u001b[39m\u001b[39m'\u001b[39m: [i\u001b[39m.\u001b[39mname \u001b[39mfor\u001b[39;00m i \u001b[39min\u001b[39;00m \u001b[39mself\u001b[39m\u001b[39m.\u001b[39mresource_set \u001b[39mif\u001b[39;00m\n\u001b[0;32m    344\u001b[0m                                   VaryingResource\u001b[39m.\u001b[39mCERTAIN_REVENUE \u001b[39min\u001b[39;00m i\u001b[39m.\u001b[39mvarying],\n\u001b[0;32m    345\u001b[0m     \u001b[39m'\u001b[39m\u001b[39mresources_uncertain_revenue\u001b[39m\u001b[39m'\u001b[39m: [i\u001b[39m.\u001b[39mname \u001b[39mfor\u001b[39;00m i \u001b[39min\u001b[39;00m \u001b[39mself\u001b[39m\u001b[39m.\u001b[39mresource_set \u001b[39mif\u001b[39;00m\n\u001b[0;32m    346\u001b[0m                                     VaryingResource\u001b[39m.\u001b[39mUNCERTAIN_REVENUE \u001b[39min\u001b[39;00m i\u001b[39m.\u001b[39mvarying],\n\u001b[0;32m    347\u001b[0m \n\u001b[0;32m    348\u001b[0m     \u001b[39m'\u001b[39m\u001b[39mresources_varying_availability\u001b[39m\u001b[39m'\u001b[39m: [i\u001b[39m.\u001b[39mname \u001b[39mfor\u001b[39;00m i \u001b[39min\u001b[39;00m \u001b[39mself\u001b[39m\u001b[39m.\u001b[39mresource_set \u001b[39mif\u001b[39;00m\n\u001b[0;32m    349\u001b[0m                                        VaryingResource\u001b[39m.\u001b[39mDETERMINISTIC_AVAILABILITY \u001b[39min\u001b[39;00m i\u001b[39m.\u001b[39mvarying],\n\u001b[0;32m    350\u001b[0m     \u001b[39m'\u001b[39m\u001b[39mresources_certain_availability\u001b[39m\u001b[39m'\u001b[39m: [i\u001b[39m.\u001b[39mname \u001b[39mfor\u001b[39;00m i \u001b[39min\u001b[39;00m \u001b[39mself\u001b[39m\u001b[39m.\u001b[39mresource_set \u001b[39mif\u001b[39;00m\n\u001b[0;32m    351\u001b[0m                                        VaryingResource\u001b[39m.\u001b[39mCERTAIN_AVAILABILITY \u001b[39min\u001b[39;00m i\u001b[39m.\u001b[39mvarying],\n\u001b[0;32m    352\u001b[0m     \u001b[39m'\u001b[39m\u001b[39mresources_uncertain_availability\u001b[39m\u001b[39m'\u001b[39m: [i\u001b[39m.\u001b[39mname \u001b[39mfor\u001b[39;00m i \u001b[39min\u001b[39;00m \u001b[39mself\u001b[39m\u001b[39m.\u001b[39mresource_set \u001b[39mif\u001b[39;00m\n\u001b[0;32m    353\u001b[0m                                          VaryingResource\u001b[39m.\u001b[39mUNCERTAIN_AVAILABILITY \u001b[39min\u001b[39;00m i\u001b[39m.\u001b[39mvarying],\n\u001b[0;32m    354\u001b[0m \n\u001b[0;32m    355\u001b[0m     \u001b[39m'\u001b[39m\u001b[39mresources_demand\u001b[39m\u001b[39m'\u001b[39m: [i\u001b[39m.\u001b[39mname \u001b[39mfor\u001b[39;00m i \u001b[39min\u001b[39;00m \u001b[39mself\u001b[39m\u001b[39m.\u001b[39mresource_set \u001b[39mif\u001b[39;00m i\u001b[39m.\u001b[39mdemand \u001b[39mis\u001b[39;00m \u001b[39mTrue\u001b[39;00m],\n\u001b[0;32m    356\u001b[0m \n\u001b[0;32m    357\u001b[0m     \u001b[39m'\u001b[39m\u001b[39mresources_implicit\u001b[39m\u001b[39m'\u001b[39m: [i\u001b[39m.\u001b[39mname \u001b[39mfor\u001b[39;00m i \u001b[39min\u001b[39;00m \u001b[39mself\u001b[39m\u001b[39m.\u001b[39mresource_set \u001b[39mif\u001b[39;00m VaryingResource\u001b[39m.\u001b[39mIMPLICIT \u001b[39min\u001b[39;00m i\u001b[39m.\u001b[39mvarying],\n\u001b[0;32m    358\u001b[0m \n\u001b[0;32m    359\u001b[0m     \u001b[39m'\u001b[39m\u001b[39mprocesses\u001b[39m\u001b[39m'\u001b[39m: [i\u001b[39m.\u001b[39mname \u001b[39mfor\u001b[39;00m i \u001b[39min\u001b[39;00m \u001b[39mself\u001b[39m\u001b[39m.\u001b[39mprocess_set],\n\u001b[0;32m    360\u001b[0m \n\u001b[0;32m    361\u001b[0m     \u001b[39m'\u001b[39m\u001b[39mprocesses_full\u001b[39m\u001b[39m'\u001b[39m: \u001b[39mlist\u001b[39m(\u001b[39mself\u001b[39m\u001b[39m.\u001b[39mconversion\u001b[39m.\u001b[39mkeys()),\n\u001b[0;32m    362\u001b[0m \n\u001b[0;32m    363\u001b[0m     \u001b[39m'\u001b[39m\u001b[39mprocesses_failure\u001b[39m\u001b[39m'\u001b[39m: [i\u001b[39m.\u001b[39mname \u001b[39mfor\u001b[39;00m i \u001b[39min\u001b[39;00m \u001b[39mself\u001b[39m\u001b[39m.\u001b[39mprocess_set \u001b[39mif\u001b[39;00m i\u001b[39m.\u001b[39mp_fail \u001b[39mis\u001b[39;00m \u001b[39mnot\u001b[39;00m \u001b[39mNone\u001b[39;00m],\n\u001b[0;32m    364\u001b[0m \n\u001b[0;32m    365\u001b[0m     \u001b[39m'\u001b[39m\u001b[39mprocesses_materials\u001b[39m\u001b[39m'\u001b[39m: [i\u001b[39m.\u001b[39mname \u001b[39mfor\u001b[39;00m i \u001b[39min\u001b[39;00m \u001b[39mself\u001b[39m\u001b[39m.\u001b[39mprocess_set \u001b[39mif\u001b[39;00m i\u001b[39m.\u001b[39mmaterial_cons \u001b[39mis\u001b[39;00m \u001b[39mnot\u001b[39;00m \u001b[39mNone\u001b[39;00m],\n\u001b[0;32m    366\u001b[0m \n\u001b[0;32m    367\u001b[0m     \u001b[39m'\u001b[39m\u001b[39mprocesses_storage\u001b[39m\u001b[39m'\u001b[39m: [i\u001b[39m.\u001b[39mname \u001b[39mfor\u001b[39;00m i \u001b[39min\u001b[39;00m \u001b[39mself\u001b[39m\u001b[39m.\u001b[39mprocess_set \u001b[39mif\u001b[39;00m i\u001b[39m.\u001b[39mconversion_discharge \u001b[39mis\u001b[39;00m \u001b[39mnot\u001b[39;00m \u001b[39mNone\u001b[39;00m],\n\u001b[0;32m    368\u001b[0m \n\u001b[0;32m    369\u001b[0m     \u001b[39m'\u001b[39m\u001b[39mprocesses_multim\u001b[39m\u001b[39m'\u001b[39m: [i\u001b[39m.\u001b[39mname \u001b[39mfor\u001b[39;00m i \u001b[39min\u001b[39;00m \u001b[39mself\u001b[39m\u001b[39m.\u001b[39mprocess_set \u001b[39mif\u001b[39;00m i\u001b[39m.\u001b[39mprocessmode \u001b[39m==\u001b[39m ProcessMode\u001b[39m.\u001b[39mMULTI],\n\u001b[0;32m    370\u001b[0m     \u001b[39m'\u001b[39m\u001b[39mprocesses_singlem\u001b[39m\u001b[39m'\u001b[39m: [i\u001b[39m.\u001b[39mname \u001b[39mfor\u001b[39;00m i \u001b[39min\u001b[39;00m \u001b[39mself\u001b[39m\u001b[39m.\u001b[39mprocess_set \u001b[39mif\u001b[39;00m\n\u001b[0;32m    371\u001b[0m                           (i\u001b[39m.\u001b[39mprocessmode \u001b[39m==\u001b[39m ProcessMode\u001b[39m.\u001b[39mSINGLE) \u001b[39mor\u001b[39;00m (i\u001b[39m.\u001b[39mprocessmode \u001b[39m==\u001b[39m ProcessMode\u001b[39m.\u001b[39mSTORAGE)],\n\u001b[0;32m    372\u001b[0m \n\u001b[0;32m    373\u001b[0m     \u001b[39m'\u001b[39m\u001b[39mprocesses_certain_capacity\u001b[39m\u001b[39m'\u001b[39m: [i\u001b[39m.\u001b[39mname \u001b[39mfor\u001b[39;00m i \u001b[39min\u001b[39;00m \u001b[39mself\u001b[39m\u001b[39m.\u001b[39mprocess_set \u001b[39mif\u001b[39;00m\n\u001b[0;32m    374\u001b[0m                                    VaryingProcess\u001b[39m.\u001b[39mCERTAIN_CAPACITY \u001b[39min\u001b[39;00m i\u001b[39m.\u001b[39mvarying],\n\u001b[0;32m    375\u001b[0m     \u001b[39m'\u001b[39m\u001b[39mprocesses_varying_capacity\u001b[39m\u001b[39m'\u001b[39m: [i\u001b[39m.\u001b[39mname \u001b[39mfor\u001b[39;00m i \u001b[39min\u001b[39;00m \u001b[39mself\u001b[39m\u001b[39m.\u001b[39mprocess_set \u001b[39mif\u001b[39;00m\n\u001b[0;32m    376\u001b[0m                                    VaryingProcess\u001b[39m.\u001b[39mDETERMINISTIC_CAPACITY \u001b[39min\u001b[39;00m i\u001b[39m.\u001b[39mvarying],\n\u001b[0;32m    377\u001b[0m     \u001b[39m'\u001b[39m\u001b[39mprocesses_uncertain_capacity\u001b[39m\u001b[39m'\u001b[39m: [i\u001b[39m.\u001b[39mname \u001b[39mfor\u001b[39;00m i \u001b[39min\u001b[39;00m \u001b[39mself\u001b[39m\u001b[39m.\u001b[39mprocess_set \u001b[39mif\u001b[39;00m\n\u001b[0;32m    378\u001b[0m                                      VaryingProcess\u001b[39m.\u001b[39mUNCERTAIN_CAPACITY \u001b[39min\u001b[39;00m i\u001b[39m.\u001b[39mvarying],\n\u001b[0;32m    379\u001b[0m \n\u001b[0;32m    380\u001b[0m     \u001b[39m'\u001b[39m\u001b[39mprocesses_certain_expenditure\u001b[39m\u001b[39m'\u001b[39m: [i\u001b[39m.\u001b[39mname \u001b[39mfor\u001b[39;00m i \u001b[39min\u001b[39;00m \u001b[39mself\u001b[39m\u001b[39m.\u001b[39mprocess_set \u001b[39mif\u001b[39;00m\n\u001b[0;32m    381\u001b[0m                                       VaryingProcess\u001b[39m.\u001b[39mCERTAIN_EXPENDITURE \u001b[39min\u001b[39;00m i\u001b[39m.\u001b[39mvarying],\n\u001b[0;32m    382\u001b[0m     \u001b[39m'\u001b[39m\u001b[39mprocesses_varying_expenditure\u001b[39m\u001b[39m'\u001b[39m: [i\u001b[39m.\u001b[39mname \u001b[39mfor\u001b[39;00m i \u001b[39min\u001b[39;00m \u001b[39mself\u001b[39m\u001b[39m.\u001b[39mprocess_set \u001b[39mif\u001b[39;00m\n\u001b[0;32m    383\u001b[0m                                       VaryingProcess\u001b[39m.\u001b[39mDETERMINISTIC_EXPENDITURE \u001b[39min\u001b[39;00m i\u001b[39m.\u001b[39mvarying],\n\u001b[0;32m    384\u001b[0m     \u001b[39m'\u001b[39m\u001b[39mprocesses_uncertain_expenditure\u001b[39m\u001b[39m'\u001b[39m: [i\u001b[39m.\u001b[39mname \u001b[39mfor\u001b[39;00m i \u001b[39min\u001b[39;00m \u001b[39mself\u001b[39m\u001b[39m.\u001b[39mprocess_set \u001b[39mif\u001b[39;00m\n\u001b[0;32m    385\u001b[0m                                         VaryingProcess\u001b[39m.\u001b[39mUNCERTAIN_EXPENDITURE \u001b[39min\u001b[39;00m i\u001b[39m.\u001b[39mvarying],\n\u001b[0;32m    386\u001b[0m \n\u001b[0;32m    387\u001b[0m     \u001b[39m'\u001b[39m\u001b[39mprocesses_segments\u001b[39m\u001b[39m'\u001b[39m: [i\u001b[39m.\u001b[39mname \u001b[39mfor\u001b[39;00m i \u001b[39min\u001b[39;00m \u001b[39mself\u001b[39m\u001b[39m.\u001b[39mprocess_set \u001b[39mif\u001b[39;00m i\u001b[39m.\u001b[39mcost_dynamics \u001b[39m==\u001b[39m CostDynamics\u001b[39m.\u001b[39mPWL],\n\u001b[0;32m    388\u001b[0m \n\u001b[0;32m    389\u001b[0m     \u001b[39m'\u001b[39m\u001b[39mlocations\u001b[39m\u001b[39m'\u001b[39m: [i\u001b[39m.\u001b[39mname \u001b[39mfor\u001b[39;00m i \u001b[39min\u001b[39;00m \u001b[39mself\u001b[39m\u001b[39m.\u001b[39mlocation_set],\n\u001b[0;32m    390\u001b[0m     \u001b[39m'\u001b[39m\u001b[39mmaterials\u001b[39m\u001b[39m'\u001b[39m: [i\u001b[39m.\u001b[39mname \u001b[39mfor\u001b[39;00m i \u001b[39min\u001b[39;00m \u001b[39mself\u001b[39m\u001b[39m.\u001b[39mmaterial_set],\n\u001b[0;32m    391\u001b[0m     \n\u001b[0;32m    392\u001b[0m     \u001b[39m'\u001b[39m\u001b[39mprocess_material_modes\u001b[39m\u001b[39m'\u001b[39m: process_material_modes,\n\u001b[0;32m    393\u001b[0m     \n\u001b[0;32m    394\u001b[0m     \u001b[39m'\u001b[39m\u001b[39mmaterial_modes\u001b[39m\u001b[39m'\u001b[39m: [element \u001b[39mfor\u001b[39;00m dictionary \u001b[39min\u001b[39;00m \u001b[39mlist\u001b[39m(i\u001b[39m.\u001b[39mmaterial_modes \u001b[39mfor\u001b[39;00m i \u001b[39min\u001b[39;00m \u001b[39mself\u001b[39m\u001b[39m.\u001b[39mprocess_set) \u001b[39mfor\u001b[39;00m element \u001b[39min\u001b[39;00m dictionary]\n\u001b[0;32m    395\u001b[0m }\n\u001b[0;32m    397\u001b[0m \u001b[39mself\u001b[39m\u001b[39m.\u001b[39mvarying_bounds_dict \u001b[39m=\u001b[39m {\n\u001b[0;32m    398\u001b[0m     \u001b[39m'\u001b[39m\u001b[39mdemand\u001b[39m\u001b[39m'\u001b[39m: {i\u001b[39m.\u001b[39mname: i\u001b[39m.\u001b[39mvarying_bounds \u001b[39mfor\u001b[39;00m i \u001b[39min\u001b[39;00m \u001b[39mself\u001b[39m\u001b[39m.\u001b[39mresource_set \u001b[39mif\u001b[39;00m VaryingResource\u001b[39m.\u001b[39mUNCERTAIN_DEMAND \u001b[39min\u001b[39;00m i\u001b[39m.\u001b[39mvarying},\n\u001b[0;32m    399\u001b[0m     \u001b[39m'\u001b[39m\u001b[39mavailability\u001b[39m\u001b[39m'\u001b[39m: {i\u001b[39m.\u001b[39mname: i\u001b[39m.\u001b[39mvarying_bounds \u001b[39mfor\u001b[39;00m i \u001b[39min\u001b[39;00m \u001b[39mself\u001b[39m\u001b[39m.\u001b[39mresource_set \u001b[39mif\u001b[39;00m VaryingResource\u001b[39m.\u001b[39mUNCERTAIN_AVAILABILITY \u001b[39min\u001b[39;00m i\u001b[39m.\u001b[39mvarying},\n\u001b[0;32m    400\u001b[0m     \u001b[39m'\u001b[39m\u001b[39mcapacity\u001b[39m\u001b[39m'\u001b[39m: {i\u001b[39m.\u001b[39mname: i\u001b[39m.\u001b[39mvarying_bounds \u001b[39mfor\u001b[39;00m i \u001b[39min\u001b[39;00m \u001b[39mself\u001b[39m\u001b[39m.\u001b[39mprocess_set \u001b[39mif\u001b[39;00m VaryingProcess\u001b[39m.\u001b[39mUNCERTAIN_CAPACITY \u001b[39min\u001b[39;00m i\u001b[39m.\u001b[39mvarying}\n\u001b[0;32m    401\u001b[0m }\n\u001b[0;32m    403\u001b[0m \u001b[39mif\u001b[39;00m \u001b[39mself\u001b[39m\u001b[39m.\u001b[39msource_locations \u001b[39mis\u001b[39;00m \u001b[39mnot\u001b[39;00m \u001b[39mNone\u001b[39;00m:\n",
      "\u001b[1;31mTypeError\u001b[0m: argument of type 'VaryingResource' is not iterable"
     ]
    }
   ],
   "source": [
    "scenario, LP = lp()"
   ]
  },
  {
   "cell_type": "code",
   "execution_count": null,
   "metadata": {},
   "outputs": [
    {
     "name": "stdout",
     "output_type": "stream",
     "text": [
      "Set parameter QCPDual to value 1\n",
      "Gurobi Optimizer version 10.0.1 build v10.0.1rc0 (win64)\n",
      "\n",
      "CPU model: Intel(R) Core(TM) i7-6700 CPU @ 3.40GHz, instruction set [SSE2|AVX|AVX2]\n",
      "Thread count: 4 physical cores, 8 logical processors, using up to 8 threads\n",
      "\n",
      "Optimize a model with 79 rows, 67 columns and 169 nonzeros\n",
      "Model fingerprint: 0xda23639e\n",
      "Coefficient statistics:\n",
      "  Matrix range     [5e-01, 1e+03]\n",
      "  Objective range  [1e+00, 1e+00]\n",
      "  Bounds range     [0e+00, 0e+00]\n",
      "  RHS range        [5e+01, 1e+02]\n",
      "Presolve removed 69 rows and 56 columns\n",
      "Presolve time: 0.01s\n",
      "Presolved: 10 rows, 11 columns, 26 nonzeros\n",
      "\n",
      "Iteration    Objective       Primal Inf.    Dual Inf.      Time\n",
      "       0    6.0188440e+04   1.875650e+01   0.000000e+00      0s\n",
      "       6    1.3100000e+05   0.000000e+00   0.000000e+00      0s\n",
      "\n",
      "Solved in 6 iterations and 0.01 seconds (0.00 work units)\n",
      "Optimal objective  1.310000000e+05\n"
     ]
    }
   ],
   "source": [
    "results = solve(scenario=scenario, instance=LP, solver='gurobi', name='LP')\n"
   ]
  },
  {
   "cell_type": "code",
   "execution_count": null,
   "metadata": {},
   "outputs": [
    {
     "data": {
      "text/plain": [
       "{('place', 'process2', 0): 200.0,\n",
       " ('place', 'process1', 0): 0.0,\n",
       " ('place', 'process1_discharge', 0): 0.0}"
      ]
     },
     "execution_count": 16,
     "metadata": {},
     "output_type": "execute_result"
    }
   ],
   "source": [
    "results.output['P_location']"
   ]
  },
  {
   "cell_type": "code",
   "execution_count": null,
   "metadata": {},
   "outputs": [],
   "source": []
  }
 ],
 "metadata": {
  "kernelspec": {
   "display_name": "Python 3.10.5 ('ki': venv)",
   "language": "python",
   "name": "python3"
  },
  "language_info": {
   "codemirror_mode": {
    "name": "ipython",
    "version": 3
   },
   "file_extension": ".py",
   "mimetype": "text/x-python",
   "name": "python",
   "nbconvert_exporter": "python",
   "pygments_lexer": "ipython3",
   "version": "3.10.5"
  },
  "orig_nbformat": 4,
  "vscode": {
   "interpreter": {
    "hash": "a4a97498e3c1bfef05f70a75d4fcafcb7b5c9c4ed86429a4e7bee46eaa890f24"
   }
  }
 },
 "nbformat": 4,
 "nbformat_minor": 2
}
