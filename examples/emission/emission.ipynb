{
 "cells": [
  {
   "attachments": {},
   "cell_type": "markdown",
   "metadata": {},
   "source": [
    "# Master Energy Systems MILP Case Study"
   ]
  },
  {
   "cell_type": "markdown",
   "metadata": {},
   "source": [
    "__author__ = \"Rahul Kakodkar\"\n",
    "__copyright__ = \"Copyright 2023, Multi-parametric Optimization & Control Lab\"\n",
    "__credits__ = [\"Rahul Kakodkar\", \"Efstratios N. Pistikopoulos\"]\n",
    "__license__ = \"MIT\"\n",
    "__version__ = \"1.0.5\"\n",
    "__maintainer__ = \"Rahul Kakodkar\"\n",
    "__email__ = \"cacodcar@tamu.edu\"\n",
    "__status__ = \"Production\"\n"
   ]
  },
  {
   "attachments": {},
   "cell_type": "markdown",
   "metadata": {},
   "source": [
    "The following case study considers three locations along with their fluctuating local demand, weather profiles (capacity factors), and resource (natural gas) prices.\n",
    "\n",
    "The following processes are considered - \n",
    "\n",
    "- Modular nuclear reactors (ASMR)\n",
    "- Proton Exchange Membrane Electrolyzers (PEM)\n",
    "- Hydrogen Storage (H2_L_c/H2_L_d)\n",
    "- Natural Gas Combined Cycle with 95% carbon capture (NGCC)\n",
    "- Pumped Storage Hydropower (PSH/PSH_discharge)\n",
    "- Lithium-ion batteries (LiI/LiI_discharge)\n",
    "- Solar Photovoltaics (PV) \n",
    "- Wind Farms (WF)\n",
    "- Steam Methane Reforming (SMR)\n",
    "- SMR + Carbon Capture Utilization and Storage (SMRH)\n",
    "- Hydrogen Fuel Cells (H2FC)\n",
    "- Direct Air Capture (DAC)\n",
    "- Offshore Aquifers (AQoff)\n",
    "\n",
    "The stated processes utilize the following resources:\n",
    "\n",
    "- Methane (CH4)\n",
    "- Carbon Dioxide (CO2)\n",
    "- CO2 in aquifer (CO2_AQoff)\n",
    "- CO2 Captured from air (CO2_DAC)\n",
    "- Vented CO2 (CO2_Vent)\n",
    "- Hydrogen (H2)\n",
    "- Water (H2O)\n",
    "- Stored hydrogen (H2_L)\n",
    "- Power stored in LiI (LiI_Power)\n",
    "- Oxygen (O2)\n",
    "- Power stored in PSH (PSH_Power)\n",
    "- Power\n",
    "- Solar\n",
    "- Uranium\n",
    "- Wind\n"
   ]
  },
  {
   "cell_type": "markdown",
   "metadata": {},
   "source": [
    "## Nomenclature"
   ]
  },
  {
   "attachments": {},
   "cell_type": "markdown",
   "metadata": {},
   "source": [
    "\n",
    "\n",
    "*Sets*\n",
    "\n",
    "\n",
    "$\\mathcal{R}$ - set of all resources r\n",
    "\n",
    "$\\mathcal{P}$ - set of all processes p\n",
    "\n",
    "$\\mathcal{T}$ - set of temporal periods p\n",
    "\n",
    "$\\mathcal{B}$ - set of transport modes b\n",
    "\n",
    "*Subsets*\n",
    "\n",
    "\n",
    "$\\mathcal{R}^{storage}$ - set of resources that can be stored\n",
    "\n",
    "$\\mathcal{R}^{sell}$ - set of resources that can be discharged\n",
    "\n",
    "$\\mathcal{R}^{demand}$ - set of resources that meet  demand\n",
    "\n",
    "$\\mathcal{R}^{cons}$ - set of resources that can be consumed\n",
    "\n",
    "$\\mathcal{R}^{trans}$ - set of resources that can be transported\n",
    "\n",
    "$\\mathcal{P}^{uncertain}$ - set of processes with uncertain capacity\n",
    "\n",
    "$\\mathcal{T}$ - set of temporal periods p\n",
    "\n",
    "*Continuous Variables*\n",
    "\n",
    "\n",
    "$P_{l,p,t}$ - production level of p $\\in$  $\\mathcal{P}$ in time period t $\\in$ $\\mathcal{T}^{sch}$  \n",
    "\n",
    "$C_{l,r,t}$ - consumption of r $\\in$ in $\\mathcal{R}^{cons}$ time period t $\\in$ $\\mathcal{T}^{sch}$ \n",
    "\n",
    "$S_{l,r,t}$ - discharge of r $\\in$ in $\\mathcal{R}^{demand}$ time period t $\\in$ $\\mathcal{T}^{sch}$ \n",
    "\n",
    "$Inv_{l,r,t}$ - inventory level of r $\\in$ $\\mathcal{R}^{storage}$  in time period t $\\in$ $\\mathcal{T}^{sch}$\n",
    "\n",
    "$Cap^S_{l,r,t}$ - installed inventory capacity for resource r $\\in$  $\\mathcal{R}^{storage}$ in time period t $\\in$ $\\mathcal{T}^{net}$\n",
    "\n",
    "$Cap^P_{l,p,t}$ - installed production capacity for process p $\\in$ $\\mathcal{P}$ in time period t $\\in$ $\\mathcal{T}^{net}$\n",
    "\n",
    "*Binary Variables*\n",
    "\n",
    "$X^P_{l,p,t}$ - network binary for production process p $\\in$ $\\mathcal{P}$\n",
    "\n",
    "$X^S_{l,r,t}$ - network binary for inventory of resource r $\\in$  $\\mathcal{R}^{storage}$ \n",
    "\n",
    "*Parameters*\n",
    "\n",
    "$Cap^{P-max}_{l,p,t}$ - maximum production capacity of process p $\\in$ $\\mathcal{P}$ in time t $\\in$ $\\mathcal{T}^{net}$\n",
    "\n",
    "$Cap^{S-max}_{l,r,t}$ - maximum inventory capacity for process r $\\in$ $\\mathcal{R}^{storage}$ in time t $\\in$ $\\mathcal{T}^{net}$\n",
    "\n",
    "$Capex_{l,p,t}$ - capital expenditure for process p $\\in$ $\\mathcal{P}$ in time t $\\in$ $\\mathcal{T}^{net}$\n",
    "\n",
    "$Vopex_{l,p,t}$ - variable operational expenditure for process p $\\in$ $\\mathcal{P}$ in time t $\\in$ $\\mathcal{T}^{sch}$\n",
    "\n",
    "$Price_{l,r,t}$ - purchase price for resource r $\\in$ $\\mathcal{R}^{cons}$ in time t $\\in$ $\\mathcal{T}^{sch}$\n",
    "\n",
    "$C^{max}_{l,r,t}$ - maximum consumption availability for resource r $\\in$ $\\mathcal{R}^{cons}$ in time t $\\in$ $\\mathcal{T}^{sch}$\n",
    "\n",
    "$D_{l,r,t}$ - demand for resource r $in$ $\\mathcal{R}^{sell}$ in time t $\\in$ $\\mathcal{T}^{sch}$\n",
    "\n",
    "$\\alpha$ - annualization factor"
   ]
  },
  {
   "cell_type": "markdown",
   "metadata": {},
   "source": [
    "## MILP Formulation"
   ]
  },
  {
   "attachments": {},
   "cell_type": "markdown",
   "metadata": {},
   "source": [
    "\n",
    "\n",
    "\\begin{equation}\n",
    "    min \\sum_{l \\in \\mathcal{L}} \\Big(\\sum_{t \\in \\mathcal{T}^{net}} \\sum_{p \\in \\mathcal{P}} \\alpha \\times Capex_{l,p,t} \\times Cap^P_{l,p,t} +  \\sum_{t \\in \\mathcal{T}^{sch}} \\sum_{r \\in \\mathcal{R}}  Vopex_{l,r,t} \\times P_{l,r,t} \n",
    "\\end{equation}\n",
    "\n",
    "\\begin{equation*}\n",
    "    \\sum_{b \\in \\mathcal{B}} \\Big(\\sum_{t \\in \\mathcal{T}^{sch}} \\sum_{l \\in \\mathcal{L}} Trans^{cost}_{b,r,t} Trans^{in}_{b,l,l',r,t} + \\sum_{t \\in \\mathcal{T}^{sch}} \\sum_{l \\in \\mathcal{L}} Trans^{cost}_{b,r,t}Trans^{out}_{b,l,l',r,t} \\Big)\n",
    "\\end{equation*}\n",
    "\n",
    "\\begin{equation*}\n",
    "    + \\sum_{t \\in \\mathcal{T}^{sch}} \\sum_{r \\in \\mathcal{R}^{cons}} C_{l,r,t} \\times Price_{l,r,t} \\Big)\n",
    "\\end{equation*}\n",
    "\n",
    "\\begin{equation}\n",
    "    Cap^S_{l,r,t} \\leq Cap^{S-max}_{l,r,t} \\times X^S_{l,r,t} \\hspace{1cm} \\forall r \\in \\mathcal{R}^{storage}, t \\in \\mathcal{T}^{net}\n",
    "\\end{equation}\n",
    "\n",
    "\\begin{equation}\n",
    "    Cap^P_{l,p,t} \\leq Cap^{P-max}_{l,p,t} \\times X^P_{l,p,t}  \\hspace{1cm} \\forall p \\in \\mathcal{P}, t \\in \\mathcal{T}^{net}, l \\in \\mathcal{L}\n",
    "\\end{equation} \n",
    "\n",
    "\\begin{equation}\n",
    "    P_{l,p,t} \\leq Cap^{P}_{l,p,t}  \\hspace{1cm} \\forall p \\in \\mathcal{P}, t \\in \\mathcal{T}^{sch}\n",
    "\\end{equation} \n",
    "\n",
    "\\begin{equation}\n",
    "    Inv_{l,r,t} \\leq Cap^{S}_{l,r,t}  \\hspace{1cm} \\forall r \\in \\mathcal{R}^{storage}, t \\in \\mathcal{T}^{sch}\n",
    "\\end{equation} \n",
    "\n",
    "\n",
    "\\begin{equation}\n",
    "    - S_{l,r,t} \\leq - D_{l,r,t}  \\hspace{1cm} \\forall r \\in \\mathcal{R}, t \\in \\mathcal{T}^{sch}\n",
    "\\end{equation}\n",
    "\n",
    "\\begin{equation}\n",
    "    C_{l,r,t} \\leq C^{max}_{l,r,t} \\hspace{1cm} \\forall r \\in \\mathcal{R}, t \\in \\mathcal{T}^{sch}\n",
    "\\end{equation}\n",
    "\n",
    "\n",
    "\\begin{equation}\n",
    "    Trans^{in/out}_{b, l, l', r,t} \\leq Trans^{max-in/out}_{b, l,l', r,t} \\times X^B_{b,l,l',r,t} \\hspace{1cm} \\forall r \\in \\mathcal{R}, t \\in \\mathcal{T}^{sch} , (l,l') \\in \\mathcal{L}^2, b \\in \\mathcal{B} \n",
    "\\end{equation}\n",
    "\n",
    "\n",
    "\\begin{equation}\n",
    "    \\sum_{p \\in \\mathcal{P}} P_{l,p,t} \\times \\eta(p,r) + C_{l,r,t} + \\sum_{l' \\in \\mathcal{L} \\cap {l}}Trans^{in}_{l,l',r,t} = \\sum_{l' \\in \\mathcal{L} \\cap {l}} Trans^{out}_{l,l',r,t} + Inv_{l,r,t} + S_{l,r,t}  \n",
    "\\end{equation}\n",
    "\n",
    "\\begin{equation*}\n",
    "    \\forall r \\in \\mathcal{R}^{cons}, t \\in \\mathcal{T}^{sch}, l \\in \\mathcal{L}\n",
    "\\end{equation*}\n",
    "\n",
    "\\begin{equation}\n",
    "    S_{l,r,t}, C_{l,r,t}, Inv_{l,r,t}, P_{l,p,t}, Cap^P_{l,p,t}, Cap^S_{l,r,t}, Trans^{in/out}_{b,l,l',r,t} \\in R_{\\geq 0}\n",
    "\\end{equation}\n",
    "\n"
   ]
  },
  {
   "attachments": {},
   "cell_type": "markdown",
   "metadata": {},
   "source": [
    "## Import Modules"
   ]
  },
  {
   "cell_type": "code",
   "execution_count": 1,
   "metadata": {},
   "outputs": [],
   "source": [
    "import sys\n",
    "sys.path.append('../../src')"
   ]
  },
  {
   "cell_type": "code",
   "execution_count": 2,
   "metadata": {},
   "outputs": [],
   "source": [
    "\n",
    "from energiapy.components.result import Result\n",
    "import pandas\n",
    "from itertools import product\n",
    "from matplotlib import rc\n",
    "import matplotlib.pyplot as plt\n",
    "from energiapy.model.solve import solve\n",
    "from energiapy.plot.plot_results import CostY, CostX\n",
    "from energiapy.plot import plot_results, plot_scenario, plot_location\n",
    "from energiapy.utils.nsrdb_utils import fetch_nsrdb_data\n",
    "from energiapy.model.formulate import formulate, Constraints, Objective\n",
    "from energiapy.model.bounds import CapacityBounds\n",
    "from energiapy.utils.data_utils import get_data, make_henry_price_df, remove_outliers, load_results, calculate_hourly\n",
    "from energiapy.components.transport import Transport\n",
    "from energiapy.components.scenario import Scenario\n",
    "from energiapy.components.network import Network\n",
    "from energiapy.components.location import Location\n",
    "from energiapy.components.material import Material\n",
    "from energiapy.components.case_study import CaseStudy\n",
    "from energiapy.components.process import Process, VaryingProcess\n",
    "from energiapy.components.resource import Resource, VaryingResource\n",
    "from energiapy.components.temporal_scale import TemporalScale\n",
    "from energiapy.components.emission import Emission\n",
    "import numpy\n",
    "from energiapy.conversion.photovoltaic import solar_power_output\n",
    "from energiapy.conversion.windmill import wind_power_output\n",
    "from energiapy.aggregation.reduce_scenario import reduce_scenario, Clustermethod\n",
    "from energiapy.aggregation.ahc import agg_hierarchial_elbow, IncludeAHC, Fit\n"
   ]
  },
  {
   "cell_type": "markdown",
   "metadata": {},
   "source": [
    "## Data Import"
   ]
  },
  {
   "attachments": {},
   "cell_type": "markdown",
   "metadata": {},
   "source": [
    "The following data is needed for the model\n",
    "\n",
    "- solar and wind profiles : energiapy.fetch_nsrdb_data imports data from the NREL NSRDB database\n",
    "- power demand : ERCOT for Houston\n",
    "- Natural Gas prices: Henry Hub \n"
   ]
  },
  {
   "cell_type": "code",
   "execution_count": 3,
   "metadata": {},
   "outputs": [],
   "source": [
    "horizon = 1"
   ]
  },
  {
   "attachments": {},
   "cell_type": "markdown",
   "metadata": {},
   "source": [
    "### Weather data"
   ]
  },
  {
   "attachments": {},
   "cell_type": "markdown",
   "metadata": {},
   "source": [
    "The fetch_nsrdb function accesses the [National Solar Radiation Database (NSRDB)](https://nsrdb.nrel.gov/) hosted by NREL on a Amazon Web Services (AWS) cloud through the h5py module To access large datasets, an API key can be requested from NREL.\n",
    "\n",
    "download data at any latitude longitude (globally) or state-county (because of repetition of county names) pairs within the US.\n",
    "\n",
    "Skim and fetch data which match different specifications, e.g. wind data for collection point at the highest elevation in the county.\n",
    "\n",
    "While HSDS allows you to splice datasets, the script allows you to also find means within ranges.\n",
    "\n",
    "Arrange data in a dataframe for multiscale analysis, with the temporal indices as tuples. [Can be saved as .csv/.txt/.json/.pkl]\n",
    "\n",
    "Here, we import solar data as dni and wind data as wind speed for most populated data point in Harris county (TX) and San Diego county (SD) at an hourly resolution"
   ]
  },
  {
   "attachments": {},
   "cell_type": "markdown",
   "metadata": {},
   "source": [
    "#### San Diego"
   ]
  },
  {
   "cell_type": "code",
   "execution_count": 4,
   "metadata": {},
   "outputs": [],
   "source": [
    "# fetch_nsrdb_data(attrs=['dni', 'dhi', 'wind_speed', 'ghi', 'air_temperature', 'dew_point', 'relative_humidity', 'surface_pressure'], year=2016 , state='California',\n",
    "#                                     county='San Diego', resolution='hourly', get='min-elevation')"
   ]
  },
  {
   "cell_type": "code",
   "execution_count": 5,
   "metadata": {},
   "outputs": [],
   "source": [
    "# weather_sandiego = pandas.concat([fetch_nsrdb_data(attrs=['dni', 'dhi', 'wind_speed', 'ghi', 'air_temperature', 'dew_point', 'relative_humidity', 'surface_pressure'], year=2016+i , state='California',\n",
    "#                                     county='San Diego', resolution='hourly', get='min-elevation')[1] for i in range(5)])\n",
    "# index = weather_sandiego.index\n",
    "# weather_sandiego.index = pandas.to_datetime(weather_sandiego.index, utc = True)\n",
    "# weather_sandiego.index = weather_sandiego.index.strftime('%m/%d/%Y, %r')\n",
    "# weather_sandiego = weather_sandiego[~weather_sandiego.index.str.contains('02/29')]\n"
   ]
  },
  {
   "attachments": {},
   "cell_type": "markdown",
   "metadata": {},
   "source": [
    "#### Houston"
   ]
  },
  {
   "cell_type": "code",
   "execution_count": 6,
   "metadata": {},
   "outputs": [],
   "source": [
    "\n",
    "# weather_houston = pandas.concat([fetch_nsrdb_data(attrs=['dni', 'dhi', 'wind_speed', 'ghi', 'air_temperature', 'dew_point', 'relative_humidity', 'surface_pressure'], year=2016+i, state='Texas',\n",
    "#                                    county='Harris', resolution='hourly', get='min-elevation')[1] for i in range(5)])\n",
    "# weather_houston.index = pandas.to_datetime(weather_houston.index, utc = True)\n",
    "# weather_houston.index = weather_houston.index.strftime('%m/%d/%Y, %r')\n",
    "# weather_houston = weather_houston[~weather_houston.index.str.contains('02/29')]\n"
   ]
  },
  {
   "cell_type": "code",
   "execution_count": 7,
   "metadata": {},
   "outputs": [],
   "source": [
    "\n",
    "# weather_houston.to_csv('weather_houston.csv')\n",
    "# weather_sandiego.to_csv('weather_sandiego.csv')\n"
   ]
  },
  {
   "attachments": {},
   "cell_type": "markdown",
   "metadata": {},
   "source": [
    "**OR**\n",
    "\n",
    "Import from existing datasets. The data in this case has been downloaded from the NSRDB Viewer"
   ]
  },
  {
   "cell_type": "code",
   "execution_count": 8,
   "metadata": {},
   "outputs": [],
   "source": [
    "# coord_houston = (29.56999969482422, -95.05999755859375)\n",
    "# weather_houston = pandas.read_csv('../../data/weather_houston.csv', index_col=0)\n",
    "# weather_houston.index = pandas.to_datetime(weather_houston.index, utc = True)\n"
   ]
  },
  {
   "cell_type": "code",
   "execution_count": 9,
   "metadata": {},
   "outputs": [],
   "source": [
    "# solar_houston = solar_power_output(data= weather_houston, coord=coord_houston, sam = 'cecmod', module_params= 'Canadian_Solar_Inc__CS5P_220M', \n",
    "#                                    inverter = 'cecinverter', inverter_params= 'ABB__MICRO_0_25_I_OUTD_US_208__208V_', \n",
    "#                                    temperature_params= 'open_rack_glass_glass', aoi_model= 'no_loss', ac_model= 'sandia', spectral_model= 'no_loss')"
   ]
  },
  {
   "cell_type": "code",
   "execution_count": 10,
   "metadata": {},
   "outputs": [],
   "source": [
    "import random\n",
    "solar_houston = pandas.DataFrame(data={'PV': [random.random() for i in range(2)]})\n",
    "wind_houston = pandas.DataFrame(data={'PV': [random.random() for i in range(2)]})\n",
    "ercot = pandas.DataFrame(data={'Power': [random.random() for i in range(2)]})\n",
    "ng_price_df = pandas.DataFrame(data={'CH4': [random.random() for i in range(2)]})"
   ]
  },
  {
   "cell_type": "code",
   "execution_count": null,
   "metadata": {},
   "outputs": [],
   "source": []
  },
  {
   "cell_type": "code",
   "execution_count": 11,
   "metadata": {},
   "outputs": [],
   "source": [
    "# wind_houston = wind_power_output(data= weather_houston, roughness_length= 0.1, turbine_type= 'V100/1800', hub_height= 92, \n",
    "#                                  wind_speed_model= 'logarithmic', density_model = 'ideal_gas', temperature_model = 'linear_gradient', \n",
    "#                                  power_output_model = 'power_coefficient_curve', density_correction = True, obstacle_height = 0, \n",
    "#                                  observation_height = 10)"
   ]
  },
  {
   "attachments": {},
   "cell_type": "markdown",
   "metadata": {},
   "source": [
    "### Natural gas prices\n",
    "\n",
    "Natural gas prices are from the Henry price index at a daily temporal resolution.\n",
    "\n",
    "The energia.make_henry_price_df function implicitly fills in gaps in data such as weekends and public holidays by repeating the last recorded prices For e.g. if the 4th of July will use the price for the 3rd of July a typical saturday and sunday will take the values for the last friday.\n",
    "\n",
    "The stretch functionality stretches the values over the hourly temporal scale (8760) from a daily temporal scale (365), again through repetition.\n",
    "\n",
    "Moreover, we can remove outliers usig the remove_outliers features in data_utils"
   ]
  },
  {
   "cell_type": "code",
   "execution_count": 12,
   "metadata": {},
   "outputs": [],
   "source": [
    "# ng_price_df = pandas.concat(\n",
    "#     [make_henry_price_df(file_name='../../data/Henry_Hub_Natural_Gas_Spot_Price_Daily.csv', year=2016 +i, stretch = True) for i in range(5)])"
   ]
  },
  {
   "attachments": {},
   "cell_type": "markdown",
   "metadata": {},
   "source": [
    "### Demand data\n",
    "\n",
    "Get [hourly power demand data](https://www.ercot.com/gridinfo/load/load_hist)  for Houston from ERCOT Coastal region"
   ]
  },
  {
   "cell_type": "code",
   "execution_count": 13,
   "metadata": {},
   "outputs": [],
   "source": [
    "# ercot = pandas.read_csv('../../data/ercot.csv', index_col=0)\n",
    "# ercot.index = pandas.to_datetime(ercot.index, utc = True)\n",
    "# ercot.loc['2016-11-06 23:00:00'] = ercot.loc['2016-11-06 22:00:00'] #random missing value"
   ]
  },
  {
   "cell_type": "markdown",
   "metadata": {},
   "source": [
    "## Define temporal scale\n"
   ]
  },
  {
   "attachments": {},
   "cell_type": "markdown",
   "metadata": {},
   "source": [
    "The variabilities of energy systems are best captured over a discretized spatio-temporal scale. In energiapy, the first declaration is the temporal scale. \n",
    "\n",
    "For e.g.: Here we declare three temporal scales at different levels from right to left. The interpretation of these scales is merely symentic. Scales can be declared as the problem demands.\n",
    "- 0, annual, with 1 discretization\n",
    "- 1, daily with 365 discretization\n",
    "- 2, hourly with 24 discretization\n",
    "\n",
    "In essence, we are creating a temporal scale of 8760 points."
   ]
  },
  {
   "cell_type": "code",
   "execution_count": 14,
   "metadata": {},
   "outputs": [],
   "source": [
    "scales = TemporalScale(discretization_list=[horizon, 1, 2])\n"
   ]
  },
  {
   "attachments": {},
   "cell_type": "markdown",
   "metadata": {},
   "source": [
    "**Big and small M**"
   ]
  },
  {
   "cell_type": "code",
   "execution_count": 15,
   "metadata": {},
   "outputs": [],
   "source": [
    "bigM = 10**3\n",
    "smallM = 0"
   ]
  },
  {
   "attachments": {},
   "cell_type": "markdown",
   "metadata": {},
   "source": [
    "## Declare Emissions"
   ]
  },
  {
   "cell_type": "code",
   "execution_count": 16,
   "metadata": {},
   "outputs": [],
   "source": [
    "\n",
    "# Create instances of the data class\n",
    "'''All global warming and global temperature potentials have been updated with the latest IPCC Annual Report 6'''\n",
    "CO2 = Emission(name = 'CO2', gwp20 = 1, gwp100 = 1, gwp500 = 1, gtp20 = 1, gtp100 = 1, gtp500 = 1, ap = 0, ep = 0, pocp = 0, odp = 0, adpmm = 0, adpff = 0)\n",
    "CH4 = Emission(name = 'CH4', gwp20 = 81.2, gwp100 = 27.9, gwp500 = 7.95)\n",
    "N20 = Emission(name = 'N2O', gwp20 = 273, gwp100 = 273, gwp500 = 130)\n"
   ]
  },
  {
   "cell_type": "markdown",
   "metadata": {},
   "source": [
    "## Declare resources"
   ]
  },
  {
   "attachments": {},
   "cell_type": "markdown",
   "metadata": {},
   "source": [
    "Resources can be consumed, produced, stored, discharged (or sold). Resources measured as mass (sparing Uranium) are quantified on a per metric ton basis, energy feedstock and resources us a Mega Watt (MW) basis.\n",
    "\n",
    "- Power and Hydrogen (H2) have varying demands which are captured using deterministic data inputs\n",
    "- Methane (CH4) has varying purchase price"
   ]
  },
  {
   "cell_type": "code",
   "execution_count": 17,
   "metadata": {},
   "outputs": [],
   "source": [
    "\n",
    "Solar = Resource(name='Solar', cons_max=100, basis='MW', label='Solar Power')\n",
    "\n",
    "Wind = Resource(name='Wind', cons_max=100, basis='MW', label='Wind Power')\n",
    "\n",
    "# Power = Resource(name='Power', basis='MW', label='Power generated', demand = True, varying= [VaryingResource.DETERMINISTIC_DEMAND])\n",
    "\n",
    "Power = Resource(name='Power', basis='MW', label='Power generated')\n",
    "Uranium = Resource(name='Uranium', cons_max=100,\n",
    "                   price=42.70/(250/2), basis='kg', label='Uranium')\n",
    "\n",
    "H2 = Resource(name='H2', basis='tons', label='Hydrogen')\n",
    "\n",
    "H2_C = Resource(name='H2(C)', basis='tons', label='Hydrogen(C)', demand = True, revenue = 0.07)\n",
    "\n",
    "CO2_AQoff = Resource(name='CO2_AQoff', basis='tons',\n",
    "                     label='Carbon dioxide - sequestered', sell = True)\n",
    "\n",
    "H2O = Resource(name='H2O', cons_max=1000,\n",
    "               price=3.00, basis='tons', label='Water', block='Resource')\n",
    "\n",
    "CH4 = Resource(name='CH4', cons_max=1000, price=max(ng_price_df['CH4'])*1000, basis='tons',\n",
    "               label='Natural gas', varying=[VaryingResource.DETERMINISTIC_PRICE], emissions= {CO2: 20})\n",
    "\n",
    "CO2 = Resource(name='CO2', basis='tons',\n",
    "               label='Carbon dioxide', block='Resource')\n",
    "\n",
    "CO2_Vent = Resource(name='CO2_Vent', sell=True, basis='tons',\n",
    "                    label='Carbon dioxide - Vented')\n",
    "\n",
    "O2 = Resource(name='O2', sell=True, basis='tons', label='Oxygen')\n",
    "\n",
    "CO2_DAC = Resource(name='CO2_DAC', basis='tons',\n",
    "                   label='Carbon dioxide - captured')\n",
    "\n",
    "LiI_Power = Resource(name='LiI_Power', basis='MW',\n",
    "                     label='Power in LiI', store_max=10000, store_min=smallM)\n",
    "\n",
    "PSH_Power = Resource(name='PSH_Power', basis='MW',\n",
    "                     label='Power in PSH', store_max=10000, store_min=smallM)\n",
    "\n"
   ]
  },
  {
   "cell_type": "code",
   "execution_count": 18,
   "metadata": {},
   "outputs": [
    {
     "data": {
      "text/plain": [
       "1"
      ]
     },
     "execution_count": 18,
     "metadata": {},
     "output_type": "execute_result"
    }
   ],
   "source": [
    "list(CH4.emissions)[0].gwp100"
   ]
  },
  {
   "attachments": {},
   "cell_type": "markdown",
   "metadata": {},
   "source": [
    "## Declare processes"
   ]
  },
  {
   "attachments": {},
   "cell_type": "markdown",
   "metadata": {},
   "source": [
    "Technology costs are derived from the NREL ATB and conversion factors are derived from literature.\n",
    "\n",
    "- Solar photovoltaics (PVs) and wind farms (WFs) are subject to intermittent capacity rates"
   ]
  },
  {
   "cell_type": "code",
   "execution_count": 19,
   "metadata": {},
   "outputs": [],
   "source": [
    "\n",
    "PEM = Process(name='PEM', conversion={Power: -1, H2: 0.3537, O2: 2.8302, H2O: -3.1839}, capex=1.55*10**6, fopex=0,\n",
    "              vopex=0, prod_max=100, prod_min = 0, basis = 'tons', label = 'PEM' )\n",
    "\n",
    "LiI = Process(name='LiI', storage=Power, capex=1302182, fopex=41432, vopex=2000,\n",
    "              prod_max=100, prod_min=0, store_max=10000, label='Lithium-ion battery', basis='MW')\n",
    "\n",
    "\n",
    "# LiI = Process(name='LiI', conversion={Power: -1, LiI_Power: 1}, capex=1302182, fopex=41432, vopex=2000,\n",
    "#               store_max=10000, store_min=smallM, prod_max=bigM, prod_min=smallM, label='Lithium-ion battery', basis='MW', block='energy_storage')\n",
    "\n",
    "# LiI_discharge = Process(name='LiI_discharge', conversion={Power: 1, LiI_Power: -1}, capex=0.1,\n",
    "#                         fopex=0.01, vopex=0, prod_max=bigM, prod_min=smallM,  label='Lithium-ion battery (d)', basis='MW')\n",
    "\n",
    "WF = Process(name='WF', conversion={Wind: -1, Power: 1}, capex=1462000, fopex=43000, vopex=4953, land = 10800/1800,\n",
    "             prod_max=1000, prod_min=0, label='Wind mill array', varying=[VaryingProcess.DETERMINISTIC_CAPACITY], basis='MW')\n",
    "\n",
    "PV = Process(name='PV', conversion={Solar: -1, Power: 1}, capex=1333262, fopex=22623, vopex=4953,  land = 10000/1800,\n",
    "             prod_max=1000, prod_min=0,  varying= [VaryingProcess.DETERMINISTIC_CAPACITY], label='Solar PV', basis='MW')\n",
    "\n",
    "H2_Comp = Process(name='H2_Comp', conversion={Power: -0.417, H2_C: 1, H2: -1}, capex=1.6 *\n",
    "                 10**6, vopex=3.5, fopex=0, prod_max=10000, prod_min=0,  label='Hydrogen Compression')\n",
    "\n",
    "SMRH = Process(name='SMRH', conversion={Power: -1.11, CH4: -3.76, H2O: -23.7, H2: 1, CO2_Vent: 1.03, CO2: 9.332}, capex=2520000, fopex=945000, vopex=51.5,\n",
    "               prod_max=bigM, prod_min=smallM,  label='Steam methane reforming + CCUS', block='h2_prod')\n",
    "\n",
    "NGCC = Process(name='NGCC', conversion={Power: 1, CH4: -0.108, CO2_Vent: 0.297*0.05, CO2: 0.297 *\n",
    "               0.95}, capex=2158928, fopex=53320, vopex=4090, prod_max=bigM, prod_min=smallM,  label='NGCC + 95% CC', block='power_gen')\n",
    "\n",
    "SMR = Process(name='SMR', capex=2400, fopex=800, vopex=0.03,  conversion={\n",
    "              Power: -1.11, CH4: -3.76, H2O: -23.7, H2: 1, CO2_Vent: 9.4979}, prod_max=bigM, prod_min=0.01,  label='Steam methane reforming', block='h2_prod')\n",
    "\n",
    "DAC = Process(name='DAC', capex=0.02536, fopex=0.634, vopex=0, conversion={\n",
    "              Power: -0.193, H2O: -4.048, CO2_DAC: 1}, prod_max=bigM, prod_min=smallM,  label='Direct air capture', block='ccus')\n",
    "\n",
    "PSH = Process(name='PSH', conversion={Power: -1, PSH_Power: 1},  capex=3924781,\n",
    "              fopex=17820, vopex=512.5, prod_max=bigM, prod_min=smallM, store_min=smallM, store_max=1000, label='Pumped storage hydropower', basis='MW', block='energy_storage')\n",
    "\n",
    "PSH_discharge = Process(name='PSH_discharge', conversion={Power: 1, PSH_Power: -1},  capex=0.1,\n",
    "                        fopex=0.01, vopex=0, prod_max=bigM, prod_min=smallM,  label='Pumped storage hydropower (d)', basis='MW')\n",
    "\n",
    "ASMR = Process(name='ASMR', conversion={Uranium: -4.17*10**(-5), H2O: -3.364, Power: 1},\n",
    "               capex=7988951, fopex=0.04*0.730, vopex=0, prod_max=bigM, prod_min=smallM, label='Small modular reactors (SMRs)', block='power_gen')\n",
    "\n",
    "AqOff = Process(name='AqOff', conversion={Power: -1.50, CO2_AQoff: 0.95, CO2: -1}, capex=552000,\n",
    "                vopex=4140, fopex=0, prod_max=bigM, prod_min=smallM,   label='Offshore aquifer CO2 sequestration (SMR)', block='ccus')\n",
    "\n"
   ]
  },
  {
   "attachments": {},
   "cell_type": "markdown",
   "metadata": {},
   "source": [
    "**Declare location (houston)**\n",
    "\n",
    "The following deterministic data inputs are provide:\n",
    "\n",
    "1. demand factors for Power and Hydrogen (H2) at an hourly resolution (demand_scale_level = 2)\n",
    "2. price factors for Methane (CH4) at a daily resolution (price_scale_level = 1)\n",
    "3. capacity factors for solar photovoltaics (PV) and wind farms (WF) at an hourly resolution (capacity_scale_level = 2)\n",
    "4. capex, fopex, and vopex factors at an annual resolution for all processes (expenditure_scale_level = 0)\n"
   ]
  },
  {
   "cell_type": "code",
   "execution_count": 20,
   "metadata": {},
   "outputs": [],
   "source": [
    "location_generation = Location(name='generation', processes= {PV, WF, LiI}, \n",
    "                               capacity_factor={PV: solar_houston, WF: wind_houston}, \n",
    "                               scales=scales, label='site for generation', expenditure_scale_level=0, \n",
    "                               demand_scale_level=2, capacity_scale_level=2, price_scale_level=2)\n",
    "\n",
    "location_production = Location(name='production', processes= {PEM, SMRH}, price_factor={\n",
    "                   CH4: ng_price_df}, scales=scales, label='site for production', \n",
    "                               expenditure_scale_level=0, demand_scale_level=2, capacity_scale_level=2, price_scale_level=2)\n",
    "\n",
    "location_consumption = Location(name='consumption', processes= {H2_Comp}, scales=scales, label='site for production', \n",
    "                                expenditure_scale_level=0, demand_scale_level=2, capacity_scale_level=2, price_scale_level=2)\n",
    "\n",
    "location_sequestration = Location(name='sequestration', processes= {AqOff}, scales=scales, label= 'site for sequestration', \n",
    "                                  expenditure_scale_level=0, demand_scale_level=2, capacity_scale_level=2, price_scale_level=2)"
   ]
  },
  {
   "cell_type": "code",
   "execution_count": 21,
   "metadata": {},
   "outputs": [
    {
     "data": {
      "text/plain": [
       "{PEM: {Power: None, H2: None, O2: None, H2O: None},\n",
       " SMRH: {Power: None,\n",
       "  CH4: {CO2: 20},\n",
       "  H2O: None,\n",
       "  H2: None,\n",
       "  CO2_Vent: None,\n",
       "  CO2: None}}"
      ]
     },
     "execution_count": 21,
     "metadata": {},
     "output_type": "execute_result"
    }
   ],
   "source": [
    "location_production.emission_dict"
   ]
  },
  {
   "cell_type": "code",
   "execution_count": 22,
   "metadata": {},
   "outputs": [],
   "source": [
    "# location_generation = Location(name='generation', processes= {PV, WF, ASMR, LiI, LiI_discharge}, \n",
    "#                                capacity_factor={PV: solar_houston, WF: wind_houston}, \n",
    "#                                scales=scales, label='site for generation', expenditure_scale_level=0, \n",
    "#                                demand_scale_level=2, capacity_scale_level=2, price_scale_level=2)\n",
    "\n",
    "# location_production = Location(name='production', processes= {PEM, SMRH}, price_factor={\n",
    "#                    CH4: ng_price_df}, scales=scales, label='site for production', \n",
    "#                                expenditure_scale_level=0, demand_scale_level=2, capacity_scale_level=2, price_scale_level=2)\n",
    "\n",
    "# location_consumption = Location(name='consumption', processes= {H2_Comp}, scales=scales, label='site for production', \n",
    "#                                 expenditure_scale_level=0, demand_scale_level=2, capacity_scale_level=2, price_scale_level=2)\n",
    "\n",
    "# location_sequestration = Location(name='sequestration', processes= {AqOff}, scales=scales, label= 'site for sequestration', \n",
    "#                                   expenditure_scale_level=0, demand_scale_level=2, capacity_scale_level=2, price_scale_level=2)"
   ]
  },
  {
   "cell_type": "code",
   "execution_count": 23,
   "metadata": {},
   "outputs": [],
   "source": [
    "# location_generation = Location(name='generation', processes= {PV, WF, ASMR, PV, WF, ASMR, LiI, LiI_discharge, PEM, SMRH, H2_Comp, AqOff}, \n",
    "#                                capacity_factor={PV: solar_houston, WF: wind_houston}, \n",
    "#                                scales=scales, label='site for generation', expenditure_scale_level=0, \n",
    "#                                demand_scale_level=2, capacity_scale_level=2, price_scale_level=2)\n",
    "\n",
    "# location_production = Location(name='production', processes= {PV, WF, ASMR, LiI, LiI_discharge, PEM, SMRH, H2_Comp, AqOff}, price_factor={\n",
    "#                    CH4: ng_price_df}, scales=scales, label='site for production', \n",
    "#                                expenditure_scale_level=0, demand_scale_level=2, capacity_scale_level=2, price_scale_level=2)\n",
    "\n",
    "# location_consumption = Location(name='consumption', processes= {PV, WF, ASMR,LiI, LiI_discharge, PEM, SMRH, H2_Comp, AqOff}, scales=scales, label='site for production', \n",
    "#                                 expenditure_scale_level=0, demand_scale_level=2, capacity_scale_level=2, price_scale_level=2)\n",
    "\n",
    "# location_sequestration = Location(name='sequestration', processes= {PV, WF, ASMR,LiI, LiI_discharge, PEM, SMRH, H2_Comp, AqOff}, scales=scales, label= 'site for sequestration', \n",
    "#                                   expenditure_scale_level=0, demand_scale_level=2, capacity_scale_level=2, price_scale_level=2)"
   ]
  },
  {
   "cell_type": "code",
   "execution_count": 24,
   "metadata": {},
   "outputs": [],
   "source": [
    "\n",
    "H2_pipeline = Transport(name= 'hydrogen', resources= {H2}, trans_max= bigM, trans_loss= 0.01, trans_cost= 2*10**(-3)\\\n",
    "    , label= 'Pipeline for hydrogen transportation')\n",
    "\n",
    "CO2_pipeline = Transport(name= 'carbon', resources= {CO2}, trans_max= bigM, trans_loss= 0.01, trans_cost= 1.667*10**(-3)\\\n",
    "    , label= 'Pipeline for carbon dioxide transportation')\n",
    "\n",
    "Grid = Transport(name= 'Grid', resources= {Power}, trans_max= bigM, trans_loss= 0.01, trans_cost= 0.5*10**(-3), label= 'Power Transmission')\n",
    "\n"
   ]
  },
  {
   "cell_type": "code",
   "execution_count": 25,
   "metadata": {},
   "outputs": [],
   "source": [
    "\n",
    "distance_matrix = [\n",
    "    [20, 45, 100],\n",
    "    [0, 60, 50]\n",
    "            ]\n",
    "\n",
    "transport_matrix = [\n",
    "    [[Grid], [Grid], [Grid]],\n",
    "    [[],[CO2_pipeline], [H2_pipeline]], \n",
    "                   ]\n",
    "\n",
    "network = Network(name= 'Network', source_locations= [location_generation, location_production], \n",
    "                  sink_locations= [location_production, location_sequestration, location_consumption], \n",
    "                  distance_matrix= distance_matrix, transport_matrix= transport_matrix) \n"
   ]
  },
  {
   "cell_type": "code",
   "execution_count": 26,
   "metadata": {},
   "outputs": [
    {
     "data": {
      "text/plain": [
       "{('generation', 'production'): {'Grid'},\n",
       " ('generation', 'sequestration'): {'Grid'},\n",
       " ('generation', 'consumption'): {'Grid'},\n",
       " ('production', 'production'): set(),\n",
       " ('production', 'sequestration'): {'carbon'},\n",
       " ('production', 'consumption'): {'hydrogen'}}"
      ]
     },
     "execution_count": 26,
     "metadata": {},
     "output_type": "execute_result"
    }
   ],
   "source": [
    "network.transport_avail_dict"
   ]
  },
  {
   "attachments": {},
   "cell_type": "markdown",
   "metadata": {},
   "source": [
    "Location level plots"
   ]
  },
  {
   "cell_type": "code",
   "execution_count": 27,
   "metadata": {},
   "outputs": [],
   "source": [
    "# plot_location.capacity_factor(process=PV, location=location_generation)\n",
    "# plot_location.capacity_factor(process=WF, location=location_generation)\n",
    "# plot_location.price_factor(resource=CH4, location=location_production)\n",
    "# plot_location.demand_factor(resource=Power, location=houston)\n",
    "\n"
   ]
  },
  {
   "attachments": {},
   "cell_type": "markdown",
   "metadata": {},
   "source": [
    "**Declare scenario**\n",
    "\n",
    "The demand needs to be stated here for each resource at location.\n",
    "energiapy handles demand not stated at a per location level by meeting the demand across all locations\n",
    "Similarly, if resources are not stated the demand is met using all resources with demand (Process.demand = True). This does not make sense for resources with different basis but might be useful if the model needs to meet the demand for similar resources from different sources.\n",
    "\n",
    "The scales need to be stated here to help generate the scenario:\n",
    "\n",
    "1. expenditure scale level - technology expenditure decisions \n",
    "2. scheduling scale level - scheduling decisions such as production levels for process; purchase, discharge (sale), consumption, and inventory levels for resources  \n",
    "3. network scale level - design of network i.e. the location and capacity sizing of production and storage facilities on a per unit basis\n",
    "4. demand scale level - to meet the demand of a resource. Note that if this is higher than the scale for demand factor at location, energiapy will sum the demand across the lower scale\n",
    "5. purchase scale level - purchase of resources that can be consumed. Needs to match the price scale level at location level"
   ]
  },
  {
   "cell_type": "code",
   "execution_count": 28,
   "metadata": {},
   "outputs": [],
   "source": [
    "\n",
    "locset = [location_production, location_generation, location_sequestration, location_consumption]\n",
    "demand_dict = {i: {H2_C: 0.274} if i == location_consumption else {H2_C: 0} for i in locset}\n",
    "# demand_dict = {i: {Power: 2.74} if i == location_generation else {Power: 0} for i in locset}\n"
   ]
  },
  {
   "cell_type": "code",
   "execution_count": 29,
   "metadata": {},
   "outputs": [],
   "source": [
    "\n",
    "scenario = Scenario(name='scenario_full', network=network, scales=scales,  expenditure_scale_level=0, scheduling_scale_level=2,\n",
    "                    network_scale_level=0, demand_scale_level=2, purchase_scale_level=2, capacity_scale_level = 2, label='full_case', demand=demand_dict, annualization_factor = 0.15)\n"
   ]
  },
  {
   "cell_type": "code",
   "execution_count": 30,
   "metadata": {},
   "outputs": [
    {
     "data": {
      "text/plain": [
       "{'sequestration': {'AqOff': {'Power': None, 'CO2_AQoff': None, 'CO2': None}},\n",
       " 'generation': {'WF': {'Wind': None, 'Power': None},\n",
       "  'LiI': {'Power': None, 'LiI_Power_stored': None},\n",
       "  'LiI_discharge': {'LiI_Power_stored': None, 'Power': None},\n",
       "  'PV': {'Solar': None, 'Power': None}},\n",
       " 'consumption': {'H2_Comp': {'Power': None, 'H2(C)': None, 'H2': None}},\n",
       " 'production': {'PEM': {'Power': None, 'H2': None, 'O2': None, 'H2O': None},\n",
       "  'SMRH': {'Power': None,\n",
       "   'CH4': {'CO2': 20},\n",
       "   'H2O': None,\n",
       "   'H2': None,\n",
       "   'CO2_Vent': None,\n",
       "   'CO2': None}}}"
      ]
     },
     "execution_count": 30,
     "metadata": {},
     "output_type": "execute_result"
    }
   ],
   "source": [
    "scenario.emission_dict"
   ]
  },
  {
   "cell_type": "code",
   "execution_count": 31,
   "metadata": {},
   "outputs": [],
   "source": [
    "\n",
    "# scenario = Scenario(name='scenario_full', network=location_consumption, scales=scales,  expenditure_scale_level=0, scheduling_scale_level=2,\n",
    "#                     network_scale_level=0, demand_scale_level=2, purchase_scale_level=2, capacity_scale_level = 2, label='full_case', demand={location_consumption: {H2_C: 0.274}}, annualization_factor = 0.15)\n"
   ]
  },
  {
   "cell_type": "code",
   "execution_count": null,
   "metadata": {},
   "outputs": [],
   "source": [
    "inventory_zero = {i: {(LiI, Power): 23} if i == location_generation else {(LiI, Power): 0} for i in locset}"
   ]
  },
  {
   "cell_type": "code",
   "execution_count": null,
   "metadata": {},
   "outputs": [
    {
     "name": "stdout",
     "output_type": "stream",
     "text": [
      "constraint process capex\n",
      "constraint process fopex\n",
      "constraint process vopex\n",
      "constraint process incidental\n",
      "constraint production mode\n",
      "constraint inventory balance\n",
      "constraint transport export\n",
      "constraint transport import\n",
      "constraint transport exp UB\n",
      "constraint transport imp UB\n",
      "constraint transport balance\n",
      "constraint transport imp cost\n",
      "constraint transport cost\n",
      "constraint transport cost network\n",
      "constraint storage facility\n",
      "constraint production facility\n",
      "constraint min production facility\n",
      "constraint min storage facility\n",
      "constraint demand\n",
      "objective cost\n"
     ]
    }
   ],
   "source": [
    "milp_cost = formulate(scenario=scenario, constraints={Constraints.COST, Constraints.INVENTORY, Constraints.PRODUCTION,\n",
    "                     Constraints.RESOURCE_BALANCE, Constraints.NETWORK, Constraints.DEMAND, Constraints.TRANSPORT}, objective=Objective.COST, inventory_zero = inventory_zero)"
   ]
  },
  {
   "cell_type": "code",
   "execution_count": null,
   "metadata": {},
   "outputs": [
    {
     "name": "stdout",
     "output_type": "stream",
     "text": [
      "constraint_network_capex : sums up capex from process over all locations in network\n",
      "    Size=1, Index=constraint_network_capex_index, Active=True\n",
      "    Key : Lower : Body                                                                                                                                               : Upper : Active\n",
      "      0 :   0.0 : Capex_network[0] - (Capex_location[consumption,0] + Capex_location[generation,0] + Capex_location[production,0] + Capex_location[sequestration,0]) :   0.0 :   True\n"
     ]
    }
   ],
   "source": [
    "milp_cost.constraint_network_capex.pprint()"
   ]
  },
  {
   "cell_type": "code",
   "execution_count": null,
   "metadata": {},
   "outputs": [
    {
     "name": "stdout",
     "output_type": "stream",
     "text": [
      "constraint_inventory_balance : mass balance across scheduling scale\n",
      "    Size=96, Index=constraint_inventory_balance_index, Active=True\n",
      "    Key                                            : Lower : Body                                                                                                                                                                                                                                                                                                                                                                                                            : Upper : Active\n",
      "                   ('consumption', 'CH4', 0, 0, 0) :   0.0 :                                                                                              0*P_m[consumption,AqOff,0,0,0,0] + 0*P_m[consumption,H2_Comp,0,0,0,0] + 0*P_m[consumption,LiI,0,0,0,0] + 0*P_m[consumption,LiI_discharge,0,0,0,0] + 0*P_m[consumption,PEM,0,0,0,0] + 0*P_m[consumption,PV,0,0,0,0] - 3.76*P_m[consumption,SMRH,0,0,0,0] + 0*P_m[consumption,WF,0,0,0,0] + C[consumption,CH4,0,0,0] :   0.0 :   True\n",
      "                   ('consumption', 'CH4', 0, 0, 1) :   0.0 :                                                                                              0*P_m[consumption,AqOff,0,0,0,1] + 0*P_m[consumption,H2_Comp,0,0,0,1] + 0*P_m[consumption,LiI,0,0,0,1] + 0*P_m[consumption,LiI_discharge,0,0,0,1] + 0*P_m[consumption,PEM,0,0,0,1] + 0*P_m[consumption,PV,0,0,0,1] - 3.76*P_m[consumption,SMRH,0,0,0,1] + 0*P_m[consumption,WF,0,0,0,1] + C[consumption,CH4,0,0,1] :   0.0 :   True\n",
      "                   ('consumption', 'CO2', 0, 0, 0) :   0.0 :                                        - P_m[consumption,AqOff,0,0,0,0] + 0*P_m[consumption,H2_Comp,0,0,0,0] + 0*P_m[consumption,LiI,0,0,0,0] + 0*P_m[consumption,LiI_discharge,0,0,0,0] + 0*P_m[consumption,PEM,0,0,0,0] + 0*P_m[consumption,PV,0,0,0,0] + 9.332*P_m[consumption,SMRH,0,0,0,0] + 0*P_m[consumption,WF,0,0,0,0] + Imp[consumption,generation,CO2,0,0,0] + Imp[consumption,production,CO2,0,0,0] :   0.0 :   True\n",
      "                   ('consumption', 'CO2', 0, 0, 1) :   0.0 :                                        - P_m[consumption,AqOff,0,0,0,1] + 0*P_m[consumption,H2_Comp,0,0,0,1] + 0*P_m[consumption,LiI,0,0,0,1] + 0*P_m[consumption,LiI_discharge,0,0,0,1] + 0*P_m[consumption,PEM,0,0,0,1] + 0*P_m[consumption,PV,0,0,0,1] + 9.332*P_m[consumption,SMRH,0,0,0,1] + 0*P_m[consumption,WF,0,0,0,1] + Imp[consumption,generation,CO2,0,0,1] + Imp[consumption,production,CO2,0,0,1] :   0.0 :   True\n",
      "             ('consumption', 'CO2_AQoff', 0, 0, 0) :   0.0 :                                                                                        0.95*P_m[consumption,AqOff,0,0,0,0] + 0*P_m[consumption,H2_Comp,0,0,0,0] + 0*P_m[consumption,LiI,0,0,0,0] + 0*P_m[consumption,LiI_discharge,0,0,0,0] + 0*P_m[consumption,PEM,0,0,0,0] + 0*P_m[consumption,PV,0,0,0,0] + 0*P_m[consumption,SMRH,0,0,0,0] + 0*P_m[consumption,WF,0,0,0,0] - S[consumption,CO2_AQoff,0,0,0] :   0.0 :   True\n",
      "             ('consumption', 'CO2_AQoff', 0, 0, 1) :   0.0 :                                                                                        0.95*P_m[consumption,AqOff,0,0,0,1] + 0*P_m[consumption,H2_Comp,0,0,0,1] + 0*P_m[consumption,LiI,0,0,0,1] + 0*P_m[consumption,LiI_discharge,0,0,0,1] + 0*P_m[consumption,PEM,0,0,0,1] + 0*P_m[consumption,PV,0,0,0,1] + 0*P_m[consumption,SMRH,0,0,0,1] + 0*P_m[consumption,WF,0,0,0,1] - S[consumption,CO2_AQoff,0,0,1] :   0.0 :   True\n",
      "              ('consumption', 'CO2_Vent', 0, 0, 0) :   0.0 :                                                                                         0*P_m[consumption,AqOff,0,0,0,0] + 0*P_m[consumption,H2_Comp,0,0,0,0] + 0*P_m[consumption,LiI,0,0,0,0] + 0*P_m[consumption,LiI_discharge,0,0,0,0] + 0*P_m[consumption,PEM,0,0,0,0] + 0*P_m[consumption,PV,0,0,0,0] + 1.03*P_m[consumption,SMRH,0,0,0,0] + 0*P_m[consumption,WF,0,0,0,0] - S[consumption,CO2_Vent,0,0,0] :   0.0 :   True\n",
      "              ('consumption', 'CO2_Vent', 0, 0, 1) :   0.0 :                                                                                         0*P_m[consumption,AqOff,0,0,0,1] + 0*P_m[consumption,H2_Comp,0,0,0,1] + 0*P_m[consumption,LiI,0,0,0,1] + 0*P_m[consumption,LiI_discharge,0,0,0,1] + 0*P_m[consumption,PEM,0,0,0,1] + 0*P_m[consumption,PV,0,0,0,1] + 1.03*P_m[consumption,SMRH,0,0,0,1] + 0*P_m[consumption,WF,0,0,0,1] - S[consumption,CO2_Vent,0,0,1] :   0.0 :   True\n",
      "                    ('consumption', 'H2', 0, 0, 0) :   0.0 :                                             0*P_m[consumption,AqOff,0,0,0,0] - P_m[consumption,H2_Comp,0,0,0,0] + 0*P_m[consumption,LiI,0,0,0,0] + 0*P_m[consumption,LiI_discharge,0,0,0,0] + 0.3537*P_m[consumption,PEM,0,0,0,0] + 0*P_m[consumption,PV,0,0,0,0] + P_m[consumption,SMRH,0,0,0,0] + 0*P_m[consumption,WF,0,0,0,0] + Imp[consumption,generation,H2,0,0,0] + Imp[consumption,production,H2,0,0,0] :   0.0 :   True\n",
      "                    ('consumption', 'H2', 0, 0, 1) :   0.0 :                                             0*P_m[consumption,AqOff,0,0,0,1] - P_m[consumption,H2_Comp,0,0,0,1] + 0*P_m[consumption,LiI,0,0,0,1] + 0*P_m[consumption,LiI_discharge,0,0,0,1] + 0.3537*P_m[consumption,PEM,0,0,0,1] + 0*P_m[consumption,PV,0,0,0,1] + P_m[consumption,SMRH,0,0,0,1] + 0*P_m[consumption,WF,0,0,0,1] + Imp[consumption,generation,H2,0,0,1] + Imp[consumption,production,H2,0,0,1] :   0.0 :   True\n",
      "                 ('consumption', 'H2(C)', 0, 0, 0) :   0.0 :                                                                                               0*P_m[consumption,AqOff,0,0,0,0] + P_m[consumption,H2_Comp,0,0,0,0] + 0*P_m[consumption,LiI,0,0,0,0] + 0*P_m[consumption,LiI_discharge,0,0,0,0] + 0*P_m[consumption,PEM,0,0,0,0] + 0*P_m[consumption,PV,0,0,0,0] + 0*P_m[consumption,SMRH,0,0,0,0] + 0*P_m[consumption,WF,0,0,0,0] - S[consumption,'H2(C)',0,0,0] :   0.0 :   True\n",
      "                 ('consumption', 'H2(C)', 0, 0, 1) :   0.0 :                                                                                               0*P_m[consumption,AqOff,0,0,0,1] + P_m[consumption,H2_Comp,0,0,0,1] + 0*P_m[consumption,LiI,0,0,0,1] + 0*P_m[consumption,LiI_discharge,0,0,0,1] + 0*P_m[consumption,PEM,0,0,0,1] + 0*P_m[consumption,PV,0,0,0,1] + 0*P_m[consumption,SMRH,0,0,0,1] + 0*P_m[consumption,WF,0,0,0,1] - S[consumption,'H2(C)',0,0,1] :   0.0 :   True\n",
      "                   ('consumption', 'H2O', 0, 0, 0) :   0.0 :                                                                                         0*P_m[consumption,AqOff,0,0,0,0] + 0*P_m[consumption,H2_Comp,0,0,0,0] + 0*P_m[consumption,LiI,0,0,0,0] + 0*P_m[consumption,LiI_discharge,0,0,0,0] - 3.1839*P_m[consumption,PEM,0,0,0,0] + 0*P_m[consumption,PV,0,0,0,0] - 23.7*P_m[consumption,SMRH,0,0,0,0] + 0*P_m[consumption,WF,0,0,0,0] + C[consumption,H2O,0,0,0] :   0.0 :   True\n",
      "                   ('consumption', 'H2O', 0, 0, 1) :   0.0 :                                                                                         0*P_m[consumption,AqOff,0,0,0,1] + 0*P_m[consumption,H2_Comp,0,0,0,1] + 0*P_m[consumption,LiI,0,0,0,1] + 0*P_m[consumption,LiI_discharge,0,0,0,1] - 3.1839*P_m[consumption,PEM,0,0,0,1] + 0*P_m[consumption,PV,0,0,0,1] - 23.7*P_m[consumption,SMRH,0,0,0,1] + 0*P_m[consumption,WF,0,0,0,1] + C[consumption,H2O,0,0,1] :   0.0 :   True\n",
      "      ('consumption', 'LiI_Power_stored', 0, 0, 0) :   0.0 :                                                                                      0*P_m[consumption,AqOff,0,0,0,0] + 0*P_m[consumption,H2_Comp,0,0,0,0] + P_m[consumption,LiI,0,0,0,0] - P_m[consumption,LiI_discharge,0,0,0,0] + 0*P_m[consumption,PEM,0,0,0,0] + 0*P_m[consumption,PV,0,0,0,0] + 0*P_m[consumption,SMRH,0,0,0,0] + 0*P_m[consumption,WF,0,0,0,0] - Inv[consumption,LiI_Power_stored,0,0,0] :   0.0 :   True\n",
      "      ('consumption', 'LiI_Power_stored', 0, 0, 1) :   0.0 :                                          0*P_m[consumption,AqOff,0,0,0,1] + 0*P_m[consumption,H2_Comp,0,0,0,1] + P_m[consumption,LiI,0,0,0,1] - P_m[consumption,LiI_discharge,0,0,0,1] + 0*P_m[consumption,PEM,0,0,0,1] + 0*P_m[consumption,PV,0,0,0,1] + 0*P_m[consumption,SMRH,0,0,0,1] + 0*P_m[consumption,WF,0,0,0,1] - (Inv[consumption,LiI_Power_stored,0,0,1] - Inv[consumption,LiI_Power_stored,0,0,0]) :   0.0 :   True\n",
      "                    ('consumption', 'O2', 0, 0, 0) :   0.0 :                                                                                             0*P_m[consumption,AqOff,0,0,0,0] + 0*P_m[consumption,H2_Comp,0,0,0,0] + 0*P_m[consumption,LiI,0,0,0,0] + 0*P_m[consumption,LiI_discharge,0,0,0,0] + 2.8302*P_m[consumption,PEM,0,0,0,0] + 0*P_m[consumption,PV,0,0,0,0] + 0*P_m[consumption,SMRH,0,0,0,0] + 0*P_m[consumption,WF,0,0,0,0] - S[consumption,O2,0,0,0] :   0.0 :   True\n",
      "                    ('consumption', 'O2', 0, 0, 1) :   0.0 :                                                                                             0*P_m[consumption,AqOff,0,0,0,1] + 0*P_m[consumption,H2_Comp,0,0,0,1] + 0*P_m[consumption,LiI,0,0,0,1] + 0*P_m[consumption,LiI_discharge,0,0,0,1] + 2.8302*P_m[consumption,PEM,0,0,0,1] + 0*P_m[consumption,PV,0,0,0,1] + 0*P_m[consumption,SMRH,0,0,0,1] + 0*P_m[consumption,WF,0,0,0,1] - S[consumption,O2,0,0,1] :   0.0 :   True\n",
      "                 ('consumption', 'Power', 0, 0, 0) :   0.0 :                                        -1.5*P_m[consumption,AqOff,0,0,0,0] - 0.417*P_m[consumption,H2_Comp,0,0,0,0] - P_m[consumption,LiI,0,0,0,0] + P_m[consumption,LiI_discharge,0,0,0,0] - P_m[consumption,PEM,0,0,0,0] + P_m[consumption,PV,0,0,0,0] - 1.11*P_m[consumption,SMRH,0,0,0,0] + P_m[consumption,WF,0,0,0,0] + Imp[consumption,generation,Power,0,0,0] + Imp[consumption,production,Power,0,0,0] :   0.0 :   True\n",
      "                 ('consumption', 'Power', 0, 0, 1) :   0.0 :                                        -1.5*P_m[consumption,AqOff,0,0,0,1] - 0.417*P_m[consumption,H2_Comp,0,0,0,1] - P_m[consumption,LiI,0,0,0,1] + P_m[consumption,LiI_discharge,0,0,0,1] - P_m[consumption,PEM,0,0,0,1] + P_m[consumption,PV,0,0,0,1] - 1.11*P_m[consumption,SMRH,0,0,0,1] + P_m[consumption,WF,0,0,0,1] + Imp[consumption,generation,Power,0,0,1] + Imp[consumption,production,Power,0,0,1] :   0.0 :   True\n",
      "                 ('consumption', 'Solar', 0, 0, 0) :   0.0 :                                                                                                 0*P_m[consumption,AqOff,0,0,0,0] + 0*P_m[consumption,H2_Comp,0,0,0,0] + 0*P_m[consumption,LiI,0,0,0,0] + 0*P_m[consumption,LiI_discharge,0,0,0,0] + 0*P_m[consumption,PEM,0,0,0,0] - P_m[consumption,PV,0,0,0,0] + 0*P_m[consumption,SMRH,0,0,0,0] + 0*P_m[consumption,WF,0,0,0,0] + C[consumption,Solar,0,0,0] :   0.0 :   True\n",
      "                 ('consumption', 'Solar', 0, 0, 1) :   0.0 :                                                                                                 0*P_m[consumption,AqOff,0,0,0,1] + 0*P_m[consumption,H2_Comp,0,0,0,1] + 0*P_m[consumption,LiI,0,0,0,1] + 0*P_m[consumption,LiI_discharge,0,0,0,1] + 0*P_m[consumption,PEM,0,0,0,1] - P_m[consumption,PV,0,0,0,1] + 0*P_m[consumption,SMRH,0,0,0,1] + 0*P_m[consumption,WF,0,0,0,1] + C[consumption,Solar,0,0,1] :   0.0 :   True\n",
      "                  ('consumption', 'Wind', 0, 0, 0) :   0.0 :                                                                                                  0*P_m[consumption,AqOff,0,0,0,0] + 0*P_m[consumption,H2_Comp,0,0,0,0] + 0*P_m[consumption,LiI,0,0,0,0] + 0*P_m[consumption,LiI_discharge,0,0,0,0] + 0*P_m[consumption,PEM,0,0,0,0] + 0*P_m[consumption,PV,0,0,0,0] + 0*P_m[consumption,SMRH,0,0,0,0] - P_m[consumption,WF,0,0,0,0] + C[consumption,Wind,0,0,0] :   0.0 :   True\n",
      "                  ('consumption', 'Wind', 0, 0, 1) :   0.0 :                                                                                                  0*P_m[consumption,AqOff,0,0,0,1] + 0*P_m[consumption,H2_Comp,0,0,0,1] + 0*P_m[consumption,LiI,0,0,0,1] + 0*P_m[consumption,LiI_discharge,0,0,0,1] + 0*P_m[consumption,PEM,0,0,0,1] + 0*P_m[consumption,PV,0,0,0,1] + 0*P_m[consumption,SMRH,0,0,0,1] - P_m[consumption,WF,0,0,0,1] + C[consumption,Wind,0,0,1] :   0.0 :   True\n",
      "                    ('generation', 'CH4', 0, 0, 0) :   0.0 :                                                                                                       0*P_m[generation,AqOff,0,0,0,0] + 0*P_m[generation,H2_Comp,0,0,0,0] + 0*P_m[generation,LiI,0,0,0,0] + 0*P_m[generation,LiI_discharge,0,0,0,0] + 0*P_m[generation,PEM,0,0,0,0] + 0*P_m[generation,PV,0,0,0,0] - 3.76*P_m[generation,SMRH,0,0,0,0] + 0*P_m[generation,WF,0,0,0,0] + C[generation,CH4,0,0,0] :   0.0 :   True\n",
      "                    ('generation', 'CH4', 0, 0, 1) :   0.0 :                                                                                                       0*P_m[generation,AqOff,0,0,0,1] + 0*P_m[generation,H2_Comp,0,0,0,1] + 0*P_m[generation,LiI,0,0,0,1] + 0*P_m[generation,LiI_discharge,0,0,0,1] + 0*P_m[generation,PEM,0,0,0,1] + 0*P_m[generation,PV,0,0,0,1] - 3.76*P_m[generation,SMRH,0,0,0,1] + 0*P_m[generation,WF,0,0,0,1] + C[generation,CH4,0,0,1] :   0.0 :   True\n",
      "                    ('generation', 'CO2', 0, 0, 0) :   0.0 :     - P_m[generation,AqOff,0,0,0,0] + 0*P_m[generation,H2_Comp,0,0,0,0] + 0*P_m[generation,LiI,0,0,0,0] + 0*P_m[generation,LiI_discharge,0,0,0,0] + 0*P_m[generation,PEM,0,0,0,0] + 0*P_m[generation,PV,0,0,0,0] + 9.332*P_m[generation,SMRH,0,0,0,0] + 0*P_m[generation,WF,0,0,0,0] - (Exp[generation,consumption,CO2,0,0,0] + Exp[generation,production,CO2,0,0,0] + Exp[generation,sequestration,CO2,0,0,0]) :   0.0 :   True\n",
      "                    ('generation', 'CO2', 0, 0, 1) :   0.0 :     - P_m[generation,AqOff,0,0,0,1] + 0*P_m[generation,H2_Comp,0,0,0,1] + 0*P_m[generation,LiI,0,0,0,1] + 0*P_m[generation,LiI_discharge,0,0,0,1] + 0*P_m[generation,PEM,0,0,0,1] + 0*P_m[generation,PV,0,0,0,1] + 9.332*P_m[generation,SMRH,0,0,0,1] + 0*P_m[generation,WF,0,0,0,1] - (Exp[generation,consumption,CO2,0,0,1] + Exp[generation,production,CO2,0,0,1] + Exp[generation,sequestration,CO2,0,0,1]) :   0.0 :   True\n",
      "              ('generation', 'CO2_AQoff', 0, 0, 0) :   0.0 :                                                                                                 0.95*P_m[generation,AqOff,0,0,0,0] + 0*P_m[generation,H2_Comp,0,0,0,0] + 0*P_m[generation,LiI,0,0,0,0] + 0*P_m[generation,LiI_discharge,0,0,0,0] + 0*P_m[generation,PEM,0,0,0,0] + 0*P_m[generation,PV,0,0,0,0] + 0*P_m[generation,SMRH,0,0,0,0] + 0*P_m[generation,WF,0,0,0,0] - S[generation,CO2_AQoff,0,0,0] :   0.0 :   True\n",
      "              ('generation', 'CO2_AQoff', 0, 0, 1) :   0.0 :                                                                                                 0.95*P_m[generation,AqOff,0,0,0,1] + 0*P_m[generation,H2_Comp,0,0,0,1] + 0*P_m[generation,LiI,0,0,0,1] + 0*P_m[generation,LiI_discharge,0,0,0,1] + 0*P_m[generation,PEM,0,0,0,1] + 0*P_m[generation,PV,0,0,0,1] + 0*P_m[generation,SMRH,0,0,0,1] + 0*P_m[generation,WF,0,0,0,1] - S[generation,CO2_AQoff,0,0,1] :   0.0 :   True\n",
      "               ('generation', 'CO2_Vent', 0, 0, 0) :   0.0 :                                                                                                  0*P_m[generation,AqOff,0,0,0,0] + 0*P_m[generation,H2_Comp,0,0,0,0] + 0*P_m[generation,LiI,0,0,0,0] + 0*P_m[generation,LiI_discharge,0,0,0,0] + 0*P_m[generation,PEM,0,0,0,0] + 0*P_m[generation,PV,0,0,0,0] + 1.03*P_m[generation,SMRH,0,0,0,0] + 0*P_m[generation,WF,0,0,0,0] - S[generation,CO2_Vent,0,0,0] :   0.0 :   True\n",
      "               ('generation', 'CO2_Vent', 0, 0, 1) :   0.0 :                                                                                                  0*P_m[generation,AqOff,0,0,0,1] + 0*P_m[generation,H2_Comp,0,0,0,1] + 0*P_m[generation,LiI,0,0,0,1] + 0*P_m[generation,LiI_discharge,0,0,0,1] + 0*P_m[generation,PEM,0,0,0,1] + 0*P_m[generation,PV,0,0,0,1] + 1.03*P_m[generation,SMRH,0,0,0,1] + 0*P_m[generation,WF,0,0,0,1] - S[generation,CO2_Vent,0,0,1] :   0.0 :   True\n",
      "                     ('generation', 'H2', 0, 0, 0) :   0.0 :           0*P_m[generation,AqOff,0,0,0,0] - P_m[generation,H2_Comp,0,0,0,0] + 0*P_m[generation,LiI,0,0,0,0] + 0*P_m[generation,LiI_discharge,0,0,0,0] + 0.3537*P_m[generation,PEM,0,0,0,0] + 0*P_m[generation,PV,0,0,0,0] + P_m[generation,SMRH,0,0,0,0] + 0*P_m[generation,WF,0,0,0,0] - (Exp[generation,consumption,H2,0,0,0] + Exp[generation,production,H2,0,0,0] + Exp[generation,sequestration,H2,0,0,0]) :   0.0 :   True\n",
      "                     ('generation', 'H2', 0, 0, 1) :   0.0 :           0*P_m[generation,AqOff,0,0,0,1] - P_m[generation,H2_Comp,0,0,0,1] + 0*P_m[generation,LiI,0,0,0,1] + 0*P_m[generation,LiI_discharge,0,0,0,1] + 0.3537*P_m[generation,PEM,0,0,0,1] + 0*P_m[generation,PV,0,0,0,1] + P_m[generation,SMRH,0,0,0,1] + 0*P_m[generation,WF,0,0,0,1] - (Exp[generation,consumption,H2,0,0,1] + Exp[generation,production,H2,0,0,1] + Exp[generation,sequestration,H2,0,0,1]) :   0.0 :   True\n",
      "                  ('generation', 'H2(C)', 0, 0, 0) :   0.0 :                                                                                                        0*P_m[generation,AqOff,0,0,0,0] + P_m[generation,H2_Comp,0,0,0,0] + 0*P_m[generation,LiI,0,0,0,0] + 0*P_m[generation,LiI_discharge,0,0,0,0] + 0*P_m[generation,PEM,0,0,0,0] + 0*P_m[generation,PV,0,0,0,0] + 0*P_m[generation,SMRH,0,0,0,0] + 0*P_m[generation,WF,0,0,0,0] - S[generation,'H2(C)',0,0,0] :   0.0 :   True\n",
      "                  ('generation', 'H2(C)', 0, 0, 1) :   0.0 :                                                                                                        0*P_m[generation,AqOff,0,0,0,1] + P_m[generation,H2_Comp,0,0,0,1] + 0*P_m[generation,LiI,0,0,0,1] + 0*P_m[generation,LiI_discharge,0,0,0,1] + 0*P_m[generation,PEM,0,0,0,1] + 0*P_m[generation,PV,0,0,0,1] + 0*P_m[generation,SMRH,0,0,0,1] + 0*P_m[generation,WF,0,0,0,1] - S[generation,'H2(C)',0,0,1] :   0.0 :   True\n",
      "                    ('generation', 'H2O', 0, 0, 0) :   0.0 :                                                                                                  0*P_m[generation,AqOff,0,0,0,0] + 0*P_m[generation,H2_Comp,0,0,0,0] + 0*P_m[generation,LiI,0,0,0,0] + 0*P_m[generation,LiI_discharge,0,0,0,0] - 3.1839*P_m[generation,PEM,0,0,0,0] + 0*P_m[generation,PV,0,0,0,0] - 23.7*P_m[generation,SMRH,0,0,0,0] + 0*P_m[generation,WF,0,0,0,0] + C[generation,H2O,0,0,0] :   0.0 :   True\n",
      "                    ('generation', 'H2O', 0, 0, 1) :   0.0 :                                                                                                  0*P_m[generation,AqOff,0,0,0,1] + 0*P_m[generation,H2_Comp,0,0,0,1] + 0*P_m[generation,LiI,0,0,0,1] + 0*P_m[generation,LiI_discharge,0,0,0,1] - 3.1839*P_m[generation,PEM,0,0,0,1] + 0*P_m[generation,PV,0,0,0,1] - 23.7*P_m[generation,SMRH,0,0,0,1] + 0*P_m[generation,WF,0,0,0,1] + C[generation,H2O,0,0,1] :   0.0 :   True\n",
      "       ('generation', 'LiI_Power_stored', 0, 0, 0) :   0.0 :                                                                                        0*P_m[generation,AqOff,0,0,0,0] + 0*P_m[generation,H2_Comp,0,0,0,0] + P_m[generation,LiI,0,0,0,0] - P_m[generation,LiI_discharge,0,0,0,0] + 0*P_m[generation,PEM,0,0,0,0] + 0*P_m[generation,PV,0,0,0,0] + 0*P_m[generation,SMRH,0,0,0,0] + 0*P_m[generation,WF,0,0,0,0] - (Inv[generation,LiI_Power_stored,0,0,0] - 23) :   0.0 :   True\n",
      "       ('generation', 'LiI_Power_stored', 0, 0, 1) :   0.0 :                                                    0*P_m[generation,AqOff,0,0,0,1] + 0*P_m[generation,H2_Comp,0,0,0,1] + P_m[generation,LiI,0,0,0,1] - P_m[generation,LiI_discharge,0,0,0,1] + 0*P_m[generation,PEM,0,0,0,1] + 0*P_m[generation,PV,0,0,0,1] + 0*P_m[generation,SMRH,0,0,0,1] + 0*P_m[generation,WF,0,0,0,1] - (Inv[generation,LiI_Power_stored,0,0,1] - Inv[generation,LiI_Power_stored,0,0,0]) :   0.0 :   True\n",
      "                     ('generation', 'O2', 0, 0, 0) :   0.0 :                                                                                                      0*P_m[generation,AqOff,0,0,0,0] + 0*P_m[generation,H2_Comp,0,0,0,0] + 0*P_m[generation,LiI,0,0,0,0] + 0*P_m[generation,LiI_discharge,0,0,0,0] + 2.8302*P_m[generation,PEM,0,0,0,0] + 0*P_m[generation,PV,0,0,0,0] + 0*P_m[generation,SMRH,0,0,0,0] + 0*P_m[generation,WF,0,0,0,0] - S[generation,O2,0,0,0] :   0.0 :   True\n",
      "                     ('generation', 'O2', 0, 0, 1) :   0.0 :                                                                                                      0*P_m[generation,AqOff,0,0,0,1] + 0*P_m[generation,H2_Comp,0,0,0,1] + 0*P_m[generation,LiI,0,0,0,1] + 0*P_m[generation,LiI_discharge,0,0,0,1] + 2.8302*P_m[generation,PEM,0,0,0,1] + 0*P_m[generation,PV,0,0,0,1] + 0*P_m[generation,SMRH,0,0,0,1] + 0*P_m[generation,WF,0,0,0,1] - S[generation,O2,0,0,1] :   0.0 :   True\n",
      "                  ('generation', 'Power', 0, 0, 0) :   0.0 :   -1.5*P_m[generation,AqOff,0,0,0,0] - 0.417*P_m[generation,H2_Comp,0,0,0,0] - P_m[generation,LiI,0,0,0,0] + P_m[generation,LiI_discharge,0,0,0,0] - P_m[generation,PEM,0,0,0,0] + P_m[generation,PV,0,0,0,0] - 1.11*P_m[generation,SMRH,0,0,0,0] + P_m[generation,WF,0,0,0,0] - (Exp[generation,consumption,Power,0,0,0] + Exp[generation,production,Power,0,0,0] + Exp[generation,sequestration,Power,0,0,0]) :   0.0 :   True\n",
      "                  ('generation', 'Power', 0, 0, 1) :   0.0 :   -1.5*P_m[generation,AqOff,0,0,0,1] - 0.417*P_m[generation,H2_Comp,0,0,0,1] - P_m[generation,LiI,0,0,0,1] + P_m[generation,LiI_discharge,0,0,0,1] - P_m[generation,PEM,0,0,0,1] + P_m[generation,PV,0,0,0,1] - 1.11*P_m[generation,SMRH,0,0,0,1] + P_m[generation,WF,0,0,0,1] - (Exp[generation,consumption,Power,0,0,1] + Exp[generation,production,Power,0,0,1] + Exp[generation,sequestration,Power,0,0,1]) :   0.0 :   True\n",
      "                  ('generation', 'Solar', 0, 0, 0) :   0.0 :                                                                                                          0*P_m[generation,AqOff,0,0,0,0] + 0*P_m[generation,H2_Comp,0,0,0,0] + 0*P_m[generation,LiI,0,0,0,0] + 0*P_m[generation,LiI_discharge,0,0,0,0] + 0*P_m[generation,PEM,0,0,0,0] - P_m[generation,PV,0,0,0,0] + 0*P_m[generation,SMRH,0,0,0,0] + 0*P_m[generation,WF,0,0,0,0] + C[generation,Solar,0,0,0] :   0.0 :   True\n",
      "                  ('generation', 'Solar', 0, 0, 1) :   0.0 :                                                                                                          0*P_m[generation,AqOff,0,0,0,1] + 0*P_m[generation,H2_Comp,0,0,0,1] + 0*P_m[generation,LiI,0,0,0,1] + 0*P_m[generation,LiI_discharge,0,0,0,1] + 0*P_m[generation,PEM,0,0,0,1] - P_m[generation,PV,0,0,0,1] + 0*P_m[generation,SMRH,0,0,0,1] + 0*P_m[generation,WF,0,0,0,1] + C[generation,Solar,0,0,1] :   0.0 :   True\n",
      "                   ('generation', 'Wind', 0, 0, 0) :   0.0 :                                                                                                           0*P_m[generation,AqOff,0,0,0,0] + 0*P_m[generation,H2_Comp,0,0,0,0] + 0*P_m[generation,LiI,0,0,0,0] + 0*P_m[generation,LiI_discharge,0,0,0,0] + 0*P_m[generation,PEM,0,0,0,0] + 0*P_m[generation,PV,0,0,0,0] + 0*P_m[generation,SMRH,0,0,0,0] - P_m[generation,WF,0,0,0,0] + C[generation,Wind,0,0,0] :   0.0 :   True\n",
      "                   ('generation', 'Wind', 0, 0, 1) :   0.0 :                                                                                                           0*P_m[generation,AqOff,0,0,0,1] + 0*P_m[generation,H2_Comp,0,0,0,1] + 0*P_m[generation,LiI,0,0,0,1] + 0*P_m[generation,LiI_discharge,0,0,0,1] + 0*P_m[generation,PEM,0,0,0,1] + 0*P_m[generation,PV,0,0,0,1] + 0*P_m[generation,SMRH,0,0,0,1] - P_m[generation,WF,0,0,0,1] + C[generation,Wind,0,0,1] :   0.0 :   True\n",
      "                    ('production', 'CH4', 0, 0, 0) :   0.0 :                                                                                                       0*P_m[production,AqOff,0,0,0,0] + 0*P_m[production,H2_Comp,0,0,0,0] + 0*P_m[production,LiI,0,0,0,0] + 0*P_m[production,LiI_discharge,0,0,0,0] + 0*P_m[production,PEM,0,0,0,0] + 0*P_m[production,PV,0,0,0,0] - 3.76*P_m[production,SMRH,0,0,0,0] + 0*P_m[production,WF,0,0,0,0] + C[production,CH4,0,0,0] :   0.0 :   True\n",
      "                    ('production', 'CH4', 0, 0, 1) :   0.0 :                                                                                                       0*P_m[production,AqOff,0,0,0,1] + 0*P_m[production,H2_Comp,0,0,0,1] + 0*P_m[production,LiI,0,0,0,1] + 0*P_m[production,LiI_discharge,0,0,0,1] + 0*P_m[production,PEM,0,0,0,1] + 0*P_m[production,PV,0,0,0,1] - 3.76*P_m[production,SMRH,0,0,0,1] + 0*P_m[production,WF,0,0,0,1] + C[production,CH4,0,0,1] :   0.0 :   True\n",
      "                    ('production', 'CO2', 0, 0, 0) :   0.0 :   Imp[production,generation,CO2,0,0,0] - (Exp[production,consumption,CO2,0,0,0] + Exp[production,sequestration,CO2,0,0,0]) + (- P_m[production,AqOff,0,0,0,0] + 0*P_m[production,H2_Comp,0,0,0,0] + 0*P_m[production,LiI,0,0,0,0] + 0*P_m[production,LiI_discharge,0,0,0,0] + 0*P_m[production,PEM,0,0,0,0] + 0*P_m[production,PV,0,0,0,0] + 9.332*P_m[production,SMRH,0,0,0,0] + 0*P_m[production,WF,0,0,0,0]) :   0.0 :   True\n",
      "                    ('production', 'CO2', 0, 0, 1) :   0.0 :   Imp[production,generation,CO2,0,0,1] - (Exp[production,consumption,CO2,0,0,1] + Exp[production,sequestration,CO2,0,0,1]) + (- P_m[production,AqOff,0,0,0,1] + 0*P_m[production,H2_Comp,0,0,0,1] + 0*P_m[production,LiI,0,0,0,1] + 0*P_m[production,LiI_discharge,0,0,0,1] + 0*P_m[production,PEM,0,0,0,1] + 0*P_m[production,PV,0,0,0,1] + 9.332*P_m[production,SMRH,0,0,0,1] + 0*P_m[production,WF,0,0,0,1]) :   0.0 :   True\n",
      "              ('production', 'CO2_AQoff', 0, 0, 0) :   0.0 :                                                                                                 0.95*P_m[production,AqOff,0,0,0,0] + 0*P_m[production,H2_Comp,0,0,0,0] + 0*P_m[production,LiI,0,0,0,0] + 0*P_m[production,LiI_discharge,0,0,0,0] + 0*P_m[production,PEM,0,0,0,0] + 0*P_m[production,PV,0,0,0,0] + 0*P_m[production,SMRH,0,0,0,0] + 0*P_m[production,WF,0,0,0,0] - S[production,CO2_AQoff,0,0,0] :   0.0 :   True\n",
      "              ('production', 'CO2_AQoff', 0, 0, 1) :   0.0 :                                                                                                 0.95*P_m[production,AqOff,0,0,0,1] + 0*P_m[production,H2_Comp,0,0,0,1] + 0*P_m[production,LiI,0,0,0,1] + 0*P_m[production,LiI_discharge,0,0,0,1] + 0*P_m[production,PEM,0,0,0,1] + 0*P_m[production,PV,0,0,0,1] + 0*P_m[production,SMRH,0,0,0,1] + 0*P_m[production,WF,0,0,0,1] - S[production,CO2_AQoff,0,0,1] :   0.0 :   True\n",
      "               ('production', 'CO2_Vent', 0, 0, 0) :   0.0 :                                                                                                  0*P_m[production,AqOff,0,0,0,0] + 0*P_m[production,H2_Comp,0,0,0,0] + 0*P_m[production,LiI,0,0,0,0] + 0*P_m[production,LiI_discharge,0,0,0,0] + 0*P_m[production,PEM,0,0,0,0] + 0*P_m[production,PV,0,0,0,0] + 1.03*P_m[production,SMRH,0,0,0,0] + 0*P_m[production,WF,0,0,0,0] - S[production,CO2_Vent,0,0,0] :   0.0 :   True\n",
      "               ('production', 'CO2_Vent', 0, 0, 1) :   0.0 :                                                                                                  0*P_m[production,AqOff,0,0,0,1] + 0*P_m[production,H2_Comp,0,0,0,1] + 0*P_m[production,LiI,0,0,0,1] + 0*P_m[production,LiI_discharge,0,0,0,1] + 0*P_m[production,PEM,0,0,0,1] + 0*P_m[production,PV,0,0,0,1] + 1.03*P_m[production,SMRH,0,0,0,1] + 0*P_m[production,WF,0,0,0,1] - S[production,CO2_Vent,0,0,1] :   0.0 :   True\n",
      "                     ('production', 'H2', 0, 0, 0) :   0.0 :         Imp[production,generation,H2,0,0,0] - (Exp[production,consumption,H2,0,0,0] + Exp[production,sequestration,H2,0,0,0]) + (0*P_m[production,AqOff,0,0,0,0] - P_m[production,H2_Comp,0,0,0,0] + 0*P_m[production,LiI,0,0,0,0] + 0*P_m[production,LiI_discharge,0,0,0,0] + 0.3537*P_m[production,PEM,0,0,0,0] + 0*P_m[production,PV,0,0,0,0] + P_m[production,SMRH,0,0,0,0] + 0*P_m[production,WF,0,0,0,0]) :   0.0 :   True\n",
      "                     ('production', 'H2', 0, 0, 1) :   0.0 :         Imp[production,generation,H2,0,0,1] - (Exp[production,consumption,H2,0,0,1] + Exp[production,sequestration,H2,0,0,1]) + (0*P_m[production,AqOff,0,0,0,1] - P_m[production,H2_Comp,0,0,0,1] + 0*P_m[production,LiI,0,0,0,1] + 0*P_m[production,LiI_discharge,0,0,0,1] + 0.3537*P_m[production,PEM,0,0,0,1] + 0*P_m[production,PV,0,0,0,1] + P_m[production,SMRH,0,0,0,1] + 0*P_m[production,WF,0,0,0,1]) :   0.0 :   True\n",
      "                  ('production', 'H2(C)', 0, 0, 0) :   0.0 :                                                                                                        0*P_m[production,AqOff,0,0,0,0] + P_m[production,H2_Comp,0,0,0,0] + 0*P_m[production,LiI,0,0,0,0] + 0*P_m[production,LiI_discharge,0,0,0,0] + 0*P_m[production,PEM,0,0,0,0] + 0*P_m[production,PV,0,0,0,0] + 0*P_m[production,SMRH,0,0,0,0] + 0*P_m[production,WF,0,0,0,0] - S[production,'H2(C)',0,0,0] :   0.0 :   True\n",
      "                  ('production', 'H2(C)', 0, 0, 1) :   0.0 :                                                                                                        0*P_m[production,AqOff,0,0,0,1] + P_m[production,H2_Comp,0,0,0,1] + 0*P_m[production,LiI,0,0,0,1] + 0*P_m[production,LiI_discharge,0,0,0,1] + 0*P_m[production,PEM,0,0,0,1] + 0*P_m[production,PV,0,0,0,1] + 0*P_m[production,SMRH,0,0,0,1] + 0*P_m[production,WF,0,0,0,1] - S[production,'H2(C)',0,0,1] :   0.0 :   True\n",
      "                    ('production', 'H2O', 0, 0, 0) :   0.0 :                                                                                                  0*P_m[production,AqOff,0,0,0,0] + 0*P_m[production,H2_Comp,0,0,0,0] + 0*P_m[production,LiI,0,0,0,0] + 0*P_m[production,LiI_discharge,0,0,0,0] - 3.1839*P_m[production,PEM,0,0,0,0] + 0*P_m[production,PV,0,0,0,0] - 23.7*P_m[production,SMRH,0,0,0,0] + 0*P_m[production,WF,0,0,0,0] + C[production,H2O,0,0,0] :   0.0 :   True\n",
      "                    ('production', 'H2O', 0, 0, 1) :   0.0 :                                                                                                  0*P_m[production,AqOff,0,0,0,1] + 0*P_m[production,H2_Comp,0,0,0,1] + 0*P_m[production,LiI,0,0,0,1] + 0*P_m[production,LiI_discharge,0,0,0,1] - 3.1839*P_m[production,PEM,0,0,0,1] + 0*P_m[production,PV,0,0,0,1] - 23.7*P_m[production,SMRH,0,0,0,1] + 0*P_m[production,WF,0,0,0,1] + C[production,H2O,0,0,1] :   0.0 :   True\n",
      "       ('production', 'LiI_Power_stored', 0, 0, 0) :   0.0 :                                                                                               0*P_m[production,AqOff,0,0,0,0] + 0*P_m[production,H2_Comp,0,0,0,0] + P_m[production,LiI,0,0,0,0] - P_m[production,LiI_discharge,0,0,0,0] + 0*P_m[production,PEM,0,0,0,0] + 0*P_m[production,PV,0,0,0,0] + 0*P_m[production,SMRH,0,0,0,0] + 0*P_m[production,WF,0,0,0,0] - Inv[production,LiI_Power_stored,0,0,0] :   0.0 :   True\n",
      "       ('production', 'LiI_Power_stored', 0, 0, 1) :   0.0 :                                                    0*P_m[production,AqOff,0,0,0,1] + 0*P_m[production,H2_Comp,0,0,0,1] + P_m[production,LiI,0,0,0,1] - P_m[production,LiI_discharge,0,0,0,1] + 0*P_m[production,PEM,0,0,0,1] + 0*P_m[production,PV,0,0,0,1] + 0*P_m[production,SMRH,0,0,0,1] + 0*P_m[production,WF,0,0,0,1] - (Inv[production,LiI_Power_stored,0,0,1] - Inv[production,LiI_Power_stored,0,0,0]) :   0.0 :   True\n",
      "                     ('production', 'O2', 0, 0, 0) :   0.0 :                                                                                                      0*P_m[production,AqOff,0,0,0,0] + 0*P_m[production,H2_Comp,0,0,0,0] + 0*P_m[production,LiI,0,0,0,0] + 0*P_m[production,LiI_discharge,0,0,0,0] + 2.8302*P_m[production,PEM,0,0,0,0] + 0*P_m[production,PV,0,0,0,0] + 0*P_m[production,SMRH,0,0,0,0] + 0*P_m[production,WF,0,0,0,0] - S[production,O2,0,0,0] :   0.0 :   True\n",
      "                     ('production', 'O2', 0, 0, 1) :   0.0 :                                                                                                      0*P_m[production,AqOff,0,0,0,1] + 0*P_m[production,H2_Comp,0,0,0,1] + 0*P_m[production,LiI,0,0,0,1] + 0*P_m[production,LiI_discharge,0,0,0,1] + 2.8302*P_m[production,PEM,0,0,0,1] + 0*P_m[production,PV,0,0,0,1] + 0*P_m[production,SMRH,0,0,0,1] + 0*P_m[production,WF,0,0,0,1] - S[production,O2,0,0,1] :   0.0 :   True\n",
      "                  ('production', 'Power', 0, 0, 0) :   0.0 : Imp[production,generation,Power,0,0,0] - (Exp[production,consumption,Power,0,0,0] + Exp[production,sequestration,Power,0,0,0]) + (-1.5*P_m[production,AqOff,0,0,0,0] - 0.417*P_m[production,H2_Comp,0,0,0,0] - P_m[production,LiI,0,0,0,0] + P_m[production,LiI_discharge,0,0,0,0] - P_m[production,PEM,0,0,0,0] + P_m[production,PV,0,0,0,0] - 1.11*P_m[production,SMRH,0,0,0,0] + P_m[production,WF,0,0,0,0]) :   0.0 :   True\n",
      "                  ('production', 'Power', 0, 0, 1) :   0.0 : Imp[production,generation,Power,0,0,1] - (Exp[production,consumption,Power,0,0,1] + Exp[production,sequestration,Power,0,0,1]) + (-1.5*P_m[production,AqOff,0,0,0,1] - 0.417*P_m[production,H2_Comp,0,0,0,1] - P_m[production,LiI,0,0,0,1] + P_m[production,LiI_discharge,0,0,0,1] - P_m[production,PEM,0,0,0,1] + P_m[production,PV,0,0,0,1] - 1.11*P_m[production,SMRH,0,0,0,1] + P_m[production,WF,0,0,0,1]) :   0.0 :   True\n",
      "                  ('production', 'Solar', 0, 0, 0) :   0.0 :                                                                                                          0*P_m[production,AqOff,0,0,0,0] + 0*P_m[production,H2_Comp,0,0,0,0] + 0*P_m[production,LiI,0,0,0,0] + 0*P_m[production,LiI_discharge,0,0,0,0] + 0*P_m[production,PEM,0,0,0,0] - P_m[production,PV,0,0,0,0] + 0*P_m[production,SMRH,0,0,0,0] + 0*P_m[production,WF,0,0,0,0] + C[production,Solar,0,0,0] :   0.0 :   True\n",
      "                  ('production', 'Solar', 0, 0, 1) :   0.0 :                                                                                                          0*P_m[production,AqOff,0,0,0,1] + 0*P_m[production,H2_Comp,0,0,0,1] + 0*P_m[production,LiI,0,0,0,1] + 0*P_m[production,LiI_discharge,0,0,0,1] + 0*P_m[production,PEM,0,0,0,1] - P_m[production,PV,0,0,0,1] + 0*P_m[production,SMRH,0,0,0,1] + 0*P_m[production,WF,0,0,0,1] + C[production,Solar,0,0,1] :   0.0 :   True\n",
      "                   ('production', 'Wind', 0, 0, 0) :   0.0 :                                                                                                           0*P_m[production,AqOff,0,0,0,0] + 0*P_m[production,H2_Comp,0,0,0,0] + 0*P_m[production,LiI,0,0,0,0] + 0*P_m[production,LiI_discharge,0,0,0,0] + 0*P_m[production,PEM,0,0,0,0] + 0*P_m[production,PV,0,0,0,0] + 0*P_m[production,SMRH,0,0,0,0] - P_m[production,WF,0,0,0,0] + C[production,Wind,0,0,0] :   0.0 :   True\n",
      "                   ('production', 'Wind', 0, 0, 1) :   0.0 :                                                                                                           0*P_m[production,AqOff,0,0,0,1] + 0*P_m[production,H2_Comp,0,0,0,1] + 0*P_m[production,LiI,0,0,0,1] + 0*P_m[production,LiI_discharge,0,0,0,1] + 0*P_m[production,PEM,0,0,0,1] + 0*P_m[production,PV,0,0,0,1] + 0*P_m[production,SMRH,0,0,0,1] - P_m[production,WF,0,0,0,1] + C[production,Wind,0,0,1] :   0.0 :   True\n",
      "                 ('sequestration', 'CH4', 0, 0, 0) :   0.0 :                                                                            0*P_m[sequestration,AqOff,0,0,0,0] + 0*P_m[sequestration,H2_Comp,0,0,0,0] + 0*P_m[sequestration,LiI,0,0,0,0] + 0*P_m[sequestration,LiI_discharge,0,0,0,0] + 0*P_m[sequestration,PEM,0,0,0,0] + 0*P_m[sequestration,PV,0,0,0,0] - 3.76*P_m[sequestration,SMRH,0,0,0,0] + 0*P_m[sequestration,WF,0,0,0,0] + C[sequestration,CH4,0,0,0] :   0.0 :   True\n",
      "                 ('sequestration', 'CH4', 0, 0, 1) :   0.0 :                                                                            0*P_m[sequestration,AqOff,0,0,0,1] + 0*P_m[sequestration,H2_Comp,0,0,0,1] + 0*P_m[sequestration,LiI,0,0,0,1] + 0*P_m[sequestration,LiI_discharge,0,0,0,1] + 0*P_m[sequestration,PEM,0,0,0,1] + 0*P_m[sequestration,PV,0,0,0,1] - 3.76*P_m[sequestration,SMRH,0,0,0,1] + 0*P_m[sequestration,WF,0,0,0,1] + C[sequestration,CH4,0,0,1] :   0.0 :   True\n",
      "                 ('sequestration', 'CO2', 0, 0, 0) :   0.0 :                    - P_m[sequestration,AqOff,0,0,0,0] + 0*P_m[sequestration,H2_Comp,0,0,0,0] + 0*P_m[sequestration,LiI,0,0,0,0] + 0*P_m[sequestration,LiI_discharge,0,0,0,0] + 0*P_m[sequestration,PEM,0,0,0,0] + 0*P_m[sequestration,PV,0,0,0,0] + 9.332*P_m[sequestration,SMRH,0,0,0,0] + 0*P_m[sequestration,WF,0,0,0,0] + Imp[sequestration,generation,CO2,0,0,0] + Imp[sequestration,production,CO2,0,0,0] :   0.0 :   True\n",
      "                 ('sequestration', 'CO2', 0, 0, 1) :   0.0 :                    - P_m[sequestration,AqOff,0,0,0,1] + 0*P_m[sequestration,H2_Comp,0,0,0,1] + 0*P_m[sequestration,LiI,0,0,0,1] + 0*P_m[sequestration,LiI_discharge,0,0,0,1] + 0*P_m[sequestration,PEM,0,0,0,1] + 0*P_m[sequestration,PV,0,0,0,1] + 9.332*P_m[sequestration,SMRH,0,0,0,1] + 0*P_m[sequestration,WF,0,0,0,1] + Imp[sequestration,generation,CO2,0,0,1] + Imp[sequestration,production,CO2,0,0,1] :   0.0 :   True\n",
      "           ('sequestration', 'CO2_AQoff', 0, 0, 0) :   0.0 :                                                                      0.95*P_m[sequestration,AqOff,0,0,0,0] + 0*P_m[sequestration,H2_Comp,0,0,0,0] + 0*P_m[sequestration,LiI,0,0,0,0] + 0*P_m[sequestration,LiI_discharge,0,0,0,0] + 0*P_m[sequestration,PEM,0,0,0,0] + 0*P_m[sequestration,PV,0,0,0,0] + 0*P_m[sequestration,SMRH,0,0,0,0] + 0*P_m[sequestration,WF,0,0,0,0] - S[sequestration,CO2_AQoff,0,0,0] :   0.0 :   True\n",
      "           ('sequestration', 'CO2_AQoff', 0, 0, 1) :   0.0 :                                                                      0.95*P_m[sequestration,AqOff,0,0,0,1] + 0*P_m[sequestration,H2_Comp,0,0,0,1] + 0*P_m[sequestration,LiI,0,0,0,1] + 0*P_m[sequestration,LiI_discharge,0,0,0,1] + 0*P_m[sequestration,PEM,0,0,0,1] + 0*P_m[sequestration,PV,0,0,0,1] + 0*P_m[sequestration,SMRH,0,0,0,1] + 0*P_m[sequestration,WF,0,0,0,1] - S[sequestration,CO2_AQoff,0,0,1] :   0.0 :   True\n",
      "            ('sequestration', 'CO2_Vent', 0, 0, 0) :   0.0 :                                                                       0*P_m[sequestration,AqOff,0,0,0,0] + 0*P_m[sequestration,H2_Comp,0,0,0,0] + 0*P_m[sequestration,LiI,0,0,0,0] + 0*P_m[sequestration,LiI_discharge,0,0,0,0] + 0*P_m[sequestration,PEM,0,0,0,0] + 0*P_m[sequestration,PV,0,0,0,0] + 1.03*P_m[sequestration,SMRH,0,0,0,0] + 0*P_m[sequestration,WF,0,0,0,0] - S[sequestration,CO2_Vent,0,0,0] :   0.0 :   True\n",
      "            ('sequestration', 'CO2_Vent', 0, 0, 1) :   0.0 :                                                                       0*P_m[sequestration,AqOff,0,0,0,1] + 0*P_m[sequestration,H2_Comp,0,0,0,1] + 0*P_m[sequestration,LiI,0,0,0,1] + 0*P_m[sequestration,LiI_discharge,0,0,0,1] + 0*P_m[sequestration,PEM,0,0,0,1] + 0*P_m[sequestration,PV,0,0,0,1] + 1.03*P_m[sequestration,SMRH,0,0,0,1] + 0*P_m[sequestration,WF,0,0,0,1] - S[sequestration,CO2_Vent,0,0,1] :   0.0 :   True\n",
      "                  ('sequestration', 'H2', 0, 0, 0) :   0.0 :                         0*P_m[sequestration,AqOff,0,0,0,0] - P_m[sequestration,H2_Comp,0,0,0,0] + 0*P_m[sequestration,LiI,0,0,0,0] + 0*P_m[sequestration,LiI_discharge,0,0,0,0] + 0.3537*P_m[sequestration,PEM,0,0,0,0] + 0*P_m[sequestration,PV,0,0,0,0] + P_m[sequestration,SMRH,0,0,0,0] + 0*P_m[sequestration,WF,0,0,0,0] + Imp[sequestration,generation,H2,0,0,0] + Imp[sequestration,production,H2,0,0,0] :   0.0 :   True\n",
      "                  ('sequestration', 'H2', 0, 0, 1) :   0.0 :                         0*P_m[sequestration,AqOff,0,0,0,1] - P_m[sequestration,H2_Comp,0,0,0,1] + 0*P_m[sequestration,LiI,0,0,0,1] + 0*P_m[sequestration,LiI_discharge,0,0,0,1] + 0.3537*P_m[sequestration,PEM,0,0,0,1] + 0*P_m[sequestration,PV,0,0,0,1] + P_m[sequestration,SMRH,0,0,0,1] + 0*P_m[sequestration,WF,0,0,0,1] + Imp[sequestration,generation,H2,0,0,1] + Imp[sequestration,production,H2,0,0,1] :   0.0 :   True\n",
      "               ('sequestration', 'H2(C)', 0, 0, 0) :   0.0 :                                                                             0*P_m[sequestration,AqOff,0,0,0,0] + P_m[sequestration,H2_Comp,0,0,0,0] + 0*P_m[sequestration,LiI,0,0,0,0] + 0*P_m[sequestration,LiI_discharge,0,0,0,0] + 0*P_m[sequestration,PEM,0,0,0,0] + 0*P_m[sequestration,PV,0,0,0,0] + 0*P_m[sequestration,SMRH,0,0,0,0] + 0*P_m[sequestration,WF,0,0,0,0] - S[sequestration,'H2(C)',0,0,0] :   0.0 :   True\n",
      "               ('sequestration', 'H2(C)', 0, 0, 1) :   0.0 :                                                                             0*P_m[sequestration,AqOff,0,0,0,1] + P_m[sequestration,H2_Comp,0,0,0,1] + 0*P_m[sequestration,LiI,0,0,0,1] + 0*P_m[sequestration,LiI_discharge,0,0,0,1] + 0*P_m[sequestration,PEM,0,0,0,1] + 0*P_m[sequestration,PV,0,0,0,1] + 0*P_m[sequestration,SMRH,0,0,0,1] + 0*P_m[sequestration,WF,0,0,0,1] - S[sequestration,'H2(C)',0,0,1] :   0.0 :   True\n",
      "                 ('sequestration', 'H2O', 0, 0, 0) :   0.0 :                                                                       0*P_m[sequestration,AqOff,0,0,0,0] + 0*P_m[sequestration,H2_Comp,0,0,0,0] + 0*P_m[sequestration,LiI,0,0,0,0] + 0*P_m[sequestration,LiI_discharge,0,0,0,0] - 3.1839*P_m[sequestration,PEM,0,0,0,0] + 0*P_m[sequestration,PV,0,0,0,0] - 23.7*P_m[sequestration,SMRH,0,0,0,0] + 0*P_m[sequestration,WF,0,0,0,0] + C[sequestration,H2O,0,0,0] :   0.0 :   True\n",
      "                 ('sequestration', 'H2O', 0, 0, 1) :   0.0 :                                                                       0*P_m[sequestration,AqOff,0,0,0,1] + 0*P_m[sequestration,H2_Comp,0,0,0,1] + 0*P_m[sequestration,LiI,0,0,0,1] + 0*P_m[sequestration,LiI_discharge,0,0,0,1] - 3.1839*P_m[sequestration,PEM,0,0,0,1] + 0*P_m[sequestration,PV,0,0,0,1] - 23.7*P_m[sequestration,SMRH,0,0,0,1] + 0*P_m[sequestration,WF,0,0,0,1] + C[sequestration,H2O,0,0,1] :   0.0 :   True\n",
      "    ('sequestration', 'LiI_Power_stored', 0, 0, 0) :   0.0 :                                                                    0*P_m[sequestration,AqOff,0,0,0,0] + 0*P_m[sequestration,H2_Comp,0,0,0,0] + P_m[sequestration,LiI,0,0,0,0] - P_m[sequestration,LiI_discharge,0,0,0,0] + 0*P_m[sequestration,PEM,0,0,0,0] + 0*P_m[sequestration,PV,0,0,0,0] + 0*P_m[sequestration,SMRH,0,0,0,0] + 0*P_m[sequestration,WF,0,0,0,0] - Inv[sequestration,LiI_Power_stored,0,0,0] :   0.0 :   True\n",
      "    ('sequestration', 'LiI_Power_stored', 0, 0, 1) :   0.0 :                      0*P_m[sequestration,AqOff,0,0,0,1] + 0*P_m[sequestration,H2_Comp,0,0,0,1] + P_m[sequestration,LiI,0,0,0,1] - P_m[sequestration,LiI_discharge,0,0,0,1] + 0*P_m[sequestration,PEM,0,0,0,1] + 0*P_m[sequestration,PV,0,0,0,1] + 0*P_m[sequestration,SMRH,0,0,0,1] + 0*P_m[sequestration,WF,0,0,0,1] - (Inv[sequestration,LiI_Power_stored,0,0,1] - Inv[sequestration,LiI_Power_stored,0,0,0]) :   0.0 :   True\n",
      "                  ('sequestration', 'O2', 0, 0, 0) :   0.0 :                                                                           0*P_m[sequestration,AqOff,0,0,0,0] + 0*P_m[sequestration,H2_Comp,0,0,0,0] + 0*P_m[sequestration,LiI,0,0,0,0] + 0*P_m[sequestration,LiI_discharge,0,0,0,0] + 2.8302*P_m[sequestration,PEM,0,0,0,0] + 0*P_m[sequestration,PV,0,0,0,0] + 0*P_m[sequestration,SMRH,0,0,0,0] + 0*P_m[sequestration,WF,0,0,0,0] - S[sequestration,O2,0,0,0] :   0.0 :   True\n",
      "                  ('sequestration', 'O2', 0, 0, 1) :   0.0 :                                                                           0*P_m[sequestration,AqOff,0,0,0,1] + 0*P_m[sequestration,H2_Comp,0,0,0,1] + 0*P_m[sequestration,LiI,0,0,0,1] + 0*P_m[sequestration,LiI_discharge,0,0,0,1] + 2.8302*P_m[sequestration,PEM,0,0,0,1] + 0*P_m[sequestration,PV,0,0,0,1] + 0*P_m[sequestration,SMRH,0,0,0,1] + 0*P_m[sequestration,WF,0,0,0,1] - S[sequestration,O2,0,0,1] :   0.0 :   True\n",
      "               ('sequestration', 'Power', 0, 0, 0) :   0.0 :                    -1.5*P_m[sequestration,AqOff,0,0,0,0] - 0.417*P_m[sequestration,H2_Comp,0,0,0,0] - P_m[sequestration,LiI,0,0,0,0] + P_m[sequestration,LiI_discharge,0,0,0,0] - P_m[sequestration,PEM,0,0,0,0] + P_m[sequestration,PV,0,0,0,0] - 1.11*P_m[sequestration,SMRH,0,0,0,0] + P_m[sequestration,WF,0,0,0,0] + Imp[sequestration,generation,Power,0,0,0] + Imp[sequestration,production,Power,0,0,0] :   0.0 :   True\n",
      "               ('sequestration', 'Power', 0, 0, 1) :   0.0 :                    -1.5*P_m[sequestration,AqOff,0,0,0,1] - 0.417*P_m[sequestration,H2_Comp,0,0,0,1] - P_m[sequestration,LiI,0,0,0,1] + P_m[sequestration,LiI_discharge,0,0,0,1] - P_m[sequestration,PEM,0,0,0,1] + P_m[sequestration,PV,0,0,0,1] - 1.11*P_m[sequestration,SMRH,0,0,0,1] + P_m[sequestration,WF,0,0,0,1] + Imp[sequestration,generation,Power,0,0,1] + Imp[sequestration,production,Power,0,0,1] :   0.0 :   True\n",
      "               ('sequestration', 'Solar', 0, 0, 0) :   0.0 :                                                                               0*P_m[sequestration,AqOff,0,0,0,0] + 0*P_m[sequestration,H2_Comp,0,0,0,0] + 0*P_m[sequestration,LiI,0,0,0,0] + 0*P_m[sequestration,LiI_discharge,0,0,0,0] + 0*P_m[sequestration,PEM,0,0,0,0] - P_m[sequestration,PV,0,0,0,0] + 0*P_m[sequestration,SMRH,0,0,0,0] + 0*P_m[sequestration,WF,0,0,0,0] + C[sequestration,Solar,0,0,0] :   0.0 :   True\n",
      "               ('sequestration', 'Solar', 0, 0, 1) :   0.0 :                                                                               0*P_m[sequestration,AqOff,0,0,0,1] + 0*P_m[sequestration,H2_Comp,0,0,0,1] + 0*P_m[sequestration,LiI,0,0,0,1] + 0*P_m[sequestration,LiI_discharge,0,0,0,1] + 0*P_m[sequestration,PEM,0,0,0,1] - P_m[sequestration,PV,0,0,0,1] + 0*P_m[sequestration,SMRH,0,0,0,1] + 0*P_m[sequestration,WF,0,0,0,1] + C[sequestration,Solar,0,0,1] :   0.0 :   True\n",
      "                ('sequestration', 'Wind', 0, 0, 0) :   0.0 :                                                                                0*P_m[sequestration,AqOff,0,0,0,0] + 0*P_m[sequestration,H2_Comp,0,0,0,0] + 0*P_m[sequestration,LiI,0,0,0,0] + 0*P_m[sequestration,LiI_discharge,0,0,0,0] + 0*P_m[sequestration,PEM,0,0,0,0] + 0*P_m[sequestration,PV,0,0,0,0] + 0*P_m[sequestration,SMRH,0,0,0,0] - P_m[sequestration,WF,0,0,0,0] + C[sequestration,Wind,0,0,0] :   0.0 :   True\n",
      "                ('sequestration', 'Wind', 0, 0, 1) :   0.0 :                                                                                0*P_m[sequestration,AqOff,0,0,0,1] + 0*P_m[sequestration,H2_Comp,0,0,0,1] + 0*P_m[sequestration,LiI,0,0,0,1] + 0*P_m[sequestration,LiI_discharge,0,0,0,1] + 0*P_m[sequestration,PEM,0,0,0,1] + 0*P_m[sequestration,PV,0,0,0,1] + 0*P_m[sequestration,SMRH,0,0,0,1] - P_m[sequestration,WF,0,0,0,1] + C[sequestration,Wind,0,0,1] :   0.0 :   True\n"
     ]
    }
   ],
   "source": [
    "milp_cost.constraint_inventory_balance.pprint()"
   ]
  },
  {
   "cell_type": "code",
   "execution_count": null,
   "metadata": {},
   "outputs": [
    {
     "name": "stdout",
     "output_type": "stream",
     "text": [
      "constraint_network_consumption : sums up consumption of resource over all locations in network\n",
      "    Size=4, Index=constraint_network_consumption_index, Active=True\n",
      "    Key          : Lower : Body                                                                                                                                                         : Upper : Active\n",
      "      ('CH4', 0) :   0.0 :           C_network[CH4,0] - (C_location[consumption,CH4,0] + C_location[generation,CH4,0] + C_location[production,CH4,0] + C_location[sequestration,CH4,0]) :   0.0 :   True\n",
      "      ('H2O', 0) :   0.0 :           C_network[H2O,0] - (C_location[consumption,H2O,0] + C_location[generation,H2O,0] + C_location[production,H2O,0] + C_location[sequestration,H2O,0]) :   0.0 :   True\n",
      "    ('Solar', 0) :   0.0 : C_network[Solar,0] - (C_location[consumption,Solar,0] + C_location[generation,Solar,0] + C_location[production,Solar,0] + C_location[sequestration,Solar,0]) :   0.0 :   True\n",
      "     ('Wind', 0) :   0.0 :      C_network[Wind,0] - (C_location[consumption,Wind,0] + C_location[generation,Wind,0] + C_location[production,Wind,0] + C_location[sequestration,Wind,0]) :   0.0 :   True\n"
     ]
    }
   ],
   "source": [
    "milp_cost.constraint_network_consumption.pprint()\n"
   ]
  },
  {
   "cell_type": "code",
   "execution_count": null,
   "metadata": {},
   "outputs": [
    {
     "name": "stdout",
     "output_type": "stream",
     "text": [
      "constraint_transport_exp_UB : import of resource from sink to source\n",
      "    Size=108, Index=constraint_transport_exp_UB_index, Active=True\n",
      "    Key                                                           : Lower : Body                                                                                                 : Upper : Active\n",
      "            ('generation', 'consumption', 'CO2', 'Grid', 0, 0, 0) :  -Inf :           Trans_exp[generation,consumption,CO2,Grid,0,0,0] - 1000*X_T[generation,consumption,Grid,0] :   0.0 :   True\n",
      "            ('generation', 'consumption', 'CO2', 'Grid', 0, 0, 1) :  -Inf :           Trans_exp[generation,consumption,CO2,Grid,0,0,1] - 1000*X_T[generation,consumption,Grid,0] :   0.0 :   True\n",
      "          ('generation', 'consumption', 'CO2', 'carbon', 0, 0, 0) :  -Inf :                                                   Trans_exp[generation,consumption,CO2,carbon,0,0,0] :   0.0 :   True\n",
      "          ('generation', 'consumption', 'CO2', 'carbon', 0, 0, 1) :  -Inf :                                                   Trans_exp[generation,consumption,CO2,carbon,0,0,1] :   0.0 :   True\n",
      "        ('generation', 'consumption', 'CO2', 'hydrogen', 0, 0, 0) :  -Inf :                                                 Trans_exp[generation,consumption,CO2,hydrogen,0,0,0] :   0.0 :   True\n",
      "        ('generation', 'consumption', 'CO2', 'hydrogen', 0, 0, 1) :  -Inf :                                                 Trans_exp[generation,consumption,CO2,hydrogen,0,0,1] :   0.0 :   True\n",
      "             ('generation', 'consumption', 'H2', 'Grid', 0, 0, 0) :  -Inf :            Trans_exp[generation,consumption,H2,Grid,0,0,0] - 1000*X_T[generation,consumption,Grid,0] :   0.0 :   True\n",
      "             ('generation', 'consumption', 'H2', 'Grid', 0, 0, 1) :  -Inf :            Trans_exp[generation,consumption,H2,Grid,0,0,1] - 1000*X_T[generation,consumption,Grid,0] :   0.0 :   True\n",
      "           ('generation', 'consumption', 'H2', 'carbon', 0, 0, 0) :  -Inf :                                                    Trans_exp[generation,consumption,H2,carbon,0,0,0] :   0.0 :   True\n",
      "           ('generation', 'consumption', 'H2', 'carbon', 0, 0, 1) :  -Inf :                                                    Trans_exp[generation,consumption,H2,carbon,0,0,1] :   0.0 :   True\n",
      "         ('generation', 'consumption', 'H2', 'hydrogen', 0, 0, 0) :  -Inf :                                                  Trans_exp[generation,consumption,H2,hydrogen,0,0,0] :   0.0 :   True\n",
      "         ('generation', 'consumption', 'H2', 'hydrogen', 0, 0, 1) :  -Inf :                                                  Trans_exp[generation,consumption,H2,hydrogen,0,0,1] :   0.0 :   True\n",
      "          ('generation', 'consumption', 'Power', 'Grid', 0, 0, 0) :  -Inf :         Trans_exp[generation,consumption,Power,Grid,0,0,0] - 1000*X_T[generation,consumption,Grid,0] :   0.0 :   True\n",
      "          ('generation', 'consumption', 'Power', 'Grid', 0, 0, 1) :  -Inf :         Trans_exp[generation,consumption,Power,Grid,0,0,1] - 1000*X_T[generation,consumption,Grid,0] :   0.0 :   True\n",
      "        ('generation', 'consumption', 'Power', 'carbon', 0, 0, 0) :  -Inf :                                                 Trans_exp[generation,consumption,Power,carbon,0,0,0] :   0.0 :   True\n",
      "        ('generation', 'consumption', 'Power', 'carbon', 0, 0, 1) :  -Inf :                                                 Trans_exp[generation,consumption,Power,carbon,0,0,1] :   0.0 :   True\n",
      "      ('generation', 'consumption', 'Power', 'hydrogen', 0, 0, 0) :  -Inf :                                               Trans_exp[generation,consumption,Power,hydrogen,0,0,0] :   0.0 :   True\n",
      "      ('generation', 'consumption', 'Power', 'hydrogen', 0, 0, 1) :  -Inf :                                               Trans_exp[generation,consumption,Power,hydrogen,0,0,1] :   0.0 :   True\n",
      "             ('generation', 'production', 'CO2', 'Grid', 0, 0, 0) :  -Inf :             Trans_exp[generation,production,CO2,Grid,0,0,0] - 1000*X_T[generation,production,Grid,0] :   0.0 :   True\n",
      "             ('generation', 'production', 'CO2', 'Grid', 0, 0, 1) :  -Inf :             Trans_exp[generation,production,CO2,Grid,0,0,1] - 1000*X_T[generation,production,Grid,0] :   0.0 :   True\n",
      "           ('generation', 'production', 'CO2', 'carbon', 0, 0, 0) :  -Inf :                                                    Trans_exp[generation,production,CO2,carbon,0,0,0] :   0.0 :   True\n",
      "           ('generation', 'production', 'CO2', 'carbon', 0, 0, 1) :  -Inf :                                                    Trans_exp[generation,production,CO2,carbon,0,0,1] :   0.0 :   True\n",
      "         ('generation', 'production', 'CO2', 'hydrogen', 0, 0, 0) :  -Inf :                                                  Trans_exp[generation,production,CO2,hydrogen,0,0,0] :   0.0 :   True\n",
      "         ('generation', 'production', 'CO2', 'hydrogen', 0, 0, 1) :  -Inf :                                                  Trans_exp[generation,production,CO2,hydrogen,0,0,1] :   0.0 :   True\n",
      "              ('generation', 'production', 'H2', 'Grid', 0, 0, 0) :  -Inf :              Trans_exp[generation,production,H2,Grid,0,0,0] - 1000*X_T[generation,production,Grid,0] :   0.0 :   True\n",
      "              ('generation', 'production', 'H2', 'Grid', 0, 0, 1) :  -Inf :              Trans_exp[generation,production,H2,Grid,0,0,1] - 1000*X_T[generation,production,Grid,0] :   0.0 :   True\n",
      "            ('generation', 'production', 'H2', 'carbon', 0, 0, 0) :  -Inf :                                                     Trans_exp[generation,production,H2,carbon,0,0,0] :   0.0 :   True\n",
      "            ('generation', 'production', 'H2', 'carbon', 0, 0, 1) :  -Inf :                                                     Trans_exp[generation,production,H2,carbon,0,0,1] :   0.0 :   True\n",
      "          ('generation', 'production', 'H2', 'hydrogen', 0, 0, 0) :  -Inf :                                                   Trans_exp[generation,production,H2,hydrogen,0,0,0] :   0.0 :   True\n",
      "          ('generation', 'production', 'H2', 'hydrogen', 0, 0, 1) :  -Inf :                                                   Trans_exp[generation,production,H2,hydrogen,0,0,1] :   0.0 :   True\n",
      "           ('generation', 'production', 'Power', 'Grid', 0, 0, 0) :  -Inf :           Trans_exp[generation,production,Power,Grid,0,0,0] - 1000*X_T[generation,production,Grid,0] :   0.0 :   True\n",
      "           ('generation', 'production', 'Power', 'Grid', 0, 0, 1) :  -Inf :           Trans_exp[generation,production,Power,Grid,0,0,1] - 1000*X_T[generation,production,Grid,0] :   0.0 :   True\n",
      "         ('generation', 'production', 'Power', 'carbon', 0, 0, 0) :  -Inf :                                                  Trans_exp[generation,production,Power,carbon,0,0,0] :   0.0 :   True\n",
      "         ('generation', 'production', 'Power', 'carbon', 0, 0, 1) :  -Inf :                                                  Trans_exp[generation,production,Power,carbon,0,0,1] :   0.0 :   True\n",
      "       ('generation', 'production', 'Power', 'hydrogen', 0, 0, 0) :  -Inf :                                                Trans_exp[generation,production,Power,hydrogen,0,0,0] :   0.0 :   True\n",
      "       ('generation', 'production', 'Power', 'hydrogen', 0, 0, 1) :  -Inf :                                                Trans_exp[generation,production,Power,hydrogen,0,0,1] :   0.0 :   True\n",
      "          ('generation', 'sequestration', 'CO2', 'Grid', 0, 0, 0) :  -Inf :       Trans_exp[generation,sequestration,CO2,Grid,0,0,0] - 1000*X_T[generation,sequestration,Grid,0] :   0.0 :   True\n",
      "          ('generation', 'sequestration', 'CO2', 'Grid', 0, 0, 1) :  -Inf :       Trans_exp[generation,sequestration,CO2,Grid,0,0,1] - 1000*X_T[generation,sequestration,Grid,0] :   0.0 :   True\n",
      "        ('generation', 'sequestration', 'CO2', 'carbon', 0, 0, 0) :  -Inf :                                                 Trans_exp[generation,sequestration,CO2,carbon,0,0,0] :   0.0 :   True\n",
      "        ('generation', 'sequestration', 'CO2', 'carbon', 0, 0, 1) :  -Inf :                                                 Trans_exp[generation,sequestration,CO2,carbon,0,0,1] :   0.0 :   True\n",
      "      ('generation', 'sequestration', 'CO2', 'hydrogen', 0, 0, 0) :  -Inf :                                               Trans_exp[generation,sequestration,CO2,hydrogen,0,0,0] :   0.0 :   True\n",
      "      ('generation', 'sequestration', 'CO2', 'hydrogen', 0, 0, 1) :  -Inf :                                               Trans_exp[generation,sequestration,CO2,hydrogen,0,0,1] :   0.0 :   True\n",
      "           ('generation', 'sequestration', 'H2', 'Grid', 0, 0, 0) :  -Inf :        Trans_exp[generation,sequestration,H2,Grid,0,0,0] - 1000*X_T[generation,sequestration,Grid,0] :   0.0 :   True\n",
      "           ('generation', 'sequestration', 'H2', 'Grid', 0, 0, 1) :  -Inf :        Trans_exp[generation,sequestration,H2,Grid,0,0,1] - 1000*X_T[generation,sequestration,Grid,0] :   0.0 :   True\n",
      "         ('generation', 'sequestration', 'H2', 'carbon', 0, 0, 0) :  -Inf :                                                  Trans_exp[generation,sequestration,H2,carbon,0,0,0] :   0.0 :   True\n",
      "         ('generation', 'sequestration', 'H2', 'carbon', 0, 0, 1) :  -Inf :                                                  Trans_exp[generation,sequestration,H2,carbon,0,0,1] :   0.0 :   True\n",
      "       ('generation', 'sequestration', 'H2', 'hydrogen', 0, 0, 0) :  -Inf :                                                Trans_exp[generation,sequestration,H2,hydrogen,0,0,0] :   0.0 :   True\n",
      "       ('generation', 'sequestration', 'H2', 'hydrogen', 0, 0, 1) :  -Inf :                                                Trans_exp[generation,sequestration,H2,hydrogen,0,0,1] :   0.0 :   True\n",
      "        ('generation', 'sequestration', 'Power', 'Grid', 0, 0, 0) :  -Inf :     Trans_exp[generation,sequestration,Power,Grid,0,0,0] - 1000*X_T[generation,sequestration,Grid,0] :   0.0 :   True\n",
      "        ('generation', 'sequestration', 'Power', 'Grid', 0, 0, 1) :  -Inf :     Trans_exp[generation,sequestration,Power,Grid,0,0,1] - 1000*X_T[generation,sequestration,Grid,0] :   0.0 :   True\n",
      "      ('generation', 'sequestration', 'Power', 'carbon', 0, 0, 0) :  -Inf :                                               Trans_exp[generation,sequestration,Power,carbon,0,0,0] :   0.0 :   True\n",
      "      ('generation', 'sequestration', 'Power', 'carbon', 0, 0, 1) :  -Inf :                                               Trans_exp[generation,sequestration,Power,carbon,0,0,1] :   0.0 :   True\n",
      "    ('generation', 'sequestration', 'Power', 'hydrogen', 0, 0, 0) :  -Inf :                                             Trans_exp[generation,sequestration,Power,hydrogen,0,0,0] :   0.0 :   True\n",
      "    ('generation', 'sequestration', 'Power', 'hydrogen', 0, 0, 1) :  -Inf :                                             Trans_exp[generation,sequestration,Power,hydrogen,0,0,1] :   0.0 :   True\n",
      "            ('production', 'consumption', 'CO2', 'Grid', 0, 0, 0) :  -Inf :                                                     Trans_exp[production,consumption,CO2,Grid,0,0,0] :   0.0 :   True\n",
      "            ('production', 'consumption', 'CO2', 'Grid', 0, 0, 1) :  -Inf :                                                     Trans_exp[production,consumption,CO2,Grid,0,0,1] :   0.0 :   True\n",
      "          ('production', 'consumption', 'CO2', 'carbon', 0, 0, 0) :  -Inf :                                                   Trans_exp[production,consumption,CO2,carbon,0,0,0] :   0.0 :   True\n",
      "          ('production', 'consumption', 'CO2', 'carbon', 0, 0, 1) :  -Inf :                                                   Trans_exp[production,consumption,CO2,carbon,0,0,1] :   0.0 :   True\n",
      "        ('production', 'consumption', 'CO2', 'hydrogen', 0, 0, 0) :  -Inf :   Trans_exp[production,consumption,CO2,hydrogen,0,0,0] - 1000*X_T[production,consumption,hydrogen,0] :   0.0 :   True\n",
      "        ('production', 'consumption', 'CO2', 'hydrogen', 0, 0, 1) :  -Inf :   Trans_exp[production,consumption,CO2,hydrogen,0,0,1] - 1000*X_T[production,consumption,hydrogen,0] :   0.0 :   True\n",
      "             ('production', 'consumption', 'H2', 'Grid', 0, 0, 0) :  -Inf :                                                      Trans_exp[production,consumption,H2,Grid,0,0,0] :   0.0 :   True\n",
      "             ('production', 'consumption', 'H2', 'Grid', 0, 0, 1) :  -Inf :                                                      Trans_exp[production,consumption,H2,Grid,0,0,1] :   0.0 :   True\n",
      "           ('production', 'consumption', 'H2', 'carbon', 0, 0, 0) :  -Inf :                                                    Trans_exp[production,consumption,H2,carbon,0,0,0] :   0.0 :   True\n",
      "           ('production', 'consumption', 'H2', 'carbon', 0, 0, 1) :  -Inf :                                                    Trans_exp[production,consumption,H2,carbon,0,0,1] :   0.0 :   True\n",
      "         ('production', 'consumption', 'H2', 'hydrogen', 0, 0, 0) :  -Inf :    Trans_exp[production,consumption,H2,hydrogen,0,0,0] - 1000*X_T[production,consumption,hydrogen,0] :   0.0 :   True\n",
      "         ('production', 'consumption', 'H2', 'hydrogen', 0, 0, 1) :  -Inf :    Trans_exp[production,consumption,H2,hydrogen,0,0,1] - 1000*X_T[production,consumption,hydrogen,0] :   0.0 :   True\n",
      "          ('production', 'consumption', 'Power', 'Grid', 0, 0, 0) :  -Inf :                                                   Trans_exp[production,consumption,Power,Grid,0,0,0] :   0.0 :   True\n",
      "          ('production', 'consumption', 'Power', 'Grid', 0, 0, 1) :  -Inf :                                                   Trans_exp[production,consumption,Power,Grid,0,0,1] :   0.0 :   True\n",
      "        ('production', 'consumption', 'Power', 'carbon', 0, 0, 0) :  -Inf :                                                 Trans_exp[production,consumption,Power,carbon,0,0,0] :   0.0 :   True\n",
      "        ('production', 'consumption', 'Power', 'carbon', 0, 0, 1) :  -Inf :                                                 Trans_exp[production,consumption,Power,carbon,0,0,1] :   0.0 :   True\n",
      "      ('production', 'consumption', 'Power', 'hydrogen', 0, 0, 0) :  -Inf : Trans_exp[production,consumption,Power,hydrogen,0,0,0] - 1000*X_T[production,consumption,hydrogen,0] :   0.0 :   True\n",
      "      ('production', 'consumption', 'Power', 'hydrogen', 0, 0, 1) :  -Inf : Trans_exp[production,consumption,Power,hydrogen,0,0,1] - 1000*X_T[production,consumption,hydrogen,0] :   0.0 :   True\n",
      "             ('production', 'production', 'CO2', 'Grid', 0, 0, 0) :  -Inf :                                                      Trans_exp[production,production,CO2,Grid,0,0,0] :   0.0 :   True\n",
      "             ('production', 'production', 'CO2', 'Grid', 0, 0, 1) :  -Inf :                                                      Trans_exp[production,production,CO2,Grid,0,0,1] :   0.0 :   True\n",
      "           ('production', 'production', 'CO2', 'carbon', 0, 0, 0) :  -Inf :                                                    Trans_exp[production,production,CO2,carbon,0,0,0] :   0.0 :   True\n",
      "           ('production', 'production', 'CO2', 'carbon', 0, 0, 1) :  -Inf :                                                    Trans_exp[production,production,CO2,carbon,0,0,1] :   0.0 :   True\n",
      "         ('production', 'production', 'CO2', 'hydrogen', 0, 0, 0) :  -Inf :                                                  Trans_exp[production,production,CO2,hydrogen,0,0,0] :   0.0 :   True\n",
      "         ('production', 'production', 'CO2', 'hydrogen', 0, 0, 1) :  -Inf :                                                  Trans_exp[production,production,CO2,hydrogen,0,0,1] :   0.0 :   True\n",
      "              ('production', 'production', 'H2', 'Grid', 0, 0, 0) :  -Inf :                                                       Trans_exp[production,production,H2,Grid,0,0,0] :   0.0 :   True\n",
      "              ('production', 'production', 'H2', 'Grid', 0, 0, 1) :  -Inf :                                                       Trans_exp[production,production,H2,Grid,0,0,1] :   0.0 :   True\n",
      "            ('production', 'production', 'H2', 'carbon', 0, 0, 0) :  -Inf :                                                     Trans_exp[production,production,H2,carbon,0,0,0] :   0.0 :   True\n",
      "            ('production', 'production', 'H2', 'carbon', 0, 0, 1) :  -Inf :                                                     Trans_exp[production,production,H2,carbon,0,0,1] :   0.0 :   True\n",
      "          ('production', 'production', 'H2', 'hydrogen', 0, 0, 0) :  -Inf :                                                   Trans_exp[production,production,H2,hydrogen,0,0,0] :   0.0 :   True\n",
      "          ('production', 'production', 'H2', 'hydrogen', 0, 0, 1) :  -Inf :                                                   Trans_exp[production,production,H2,hydrogen,0,0,1] :   0.0 :   True\n",
      "           ('production', 'production', 'Power', 'Grid', 0, 0, 0) :  -Inf :                                                    Trans_exp[production,production,Power,Grid,0,0,0] :   0.0 :   True\n",
      "           ('production', 'production', 'Power', 'Grid', 0, 0, 1) :  -Inf :                                                    Trans_exp[production,production,Power,Grid,0,0,1] :   0.0 :   True\n",
      "         ('production', 'production', 'Power', 'carbon', 0, 0, 0) :  -Inf :                                                  Trans_exp[production,production,Power,carbon,0,0,0] :   0.0 :   True\n",
      "         ('production', 'production', 'Power', 'carbon', 0, 0, 1) :  -Inf :                                                  Trans_exp[production,production,Power,carbon,0,0,1] :   0.0 :   True\n",
      "       ('production', 'production', 'Power', 'hydrogen', 0, 0, 0) :  -Inf :                                                Trans_exp[production,production,Power,hydrogen,0,0,0] :   0.0 :   True\n",
      "       ('production', 'production', 'Power', 'hydrogen', 0, 0, 1) :  -Inf :                                                Trans_exp[production,production,Power,hydrogen,0,0,1] :   0.0 :   True\n",
      "          ('production', 'sequestration', 'CO2', 'Grid', 0, 0, 0) :  -Inf :                                                   Trans_exp[production,sequestration,CO2,Grid,0,0,0] :   0.0 :   True\n",
      "          ('production', 'sequestration', 'CO2', 'Grid', 0, 0, 1) :  -Inf :                                                   Trans_exp[production,sequestration,CO2,Grid,0,0,1] :   0.0 :   True\n",
      "        ('production', 'sequestration', 'CO2', 'carbon', 0, 0, 0) :  -Inf :   Trans_exp[production,sequestration,CO2,carbon,0,0,0] - 1000*X_T[production,sequestration,carbon,0] :   0.0 :   True\n",
      "        ('production', 'sequestration', 'CO2', 'carbon', 0, 0, 1) :  -Inf :   Trans_exp[production,sequestration,CO2,carbon,0,0,1] - 1000*X_T[production,sequestration,carbon,0] :   0.0 :   True\n",
      "      ('production', 'sequestration', 'CO2', 'hydrogen', 0, 0, 0) :  -Inf :                                               Trans_exp[production,sequestration,CO2,hydrogen,0,0,0] :   0.0 :   True\n",
      "      ('production', 'sequestration', 'CO2', 'hydrogen', 0, 0, 1) :  -Inf :                                               Trans_exp[production,sequestration,CO2,hydrogen,0,0,1] :   0.0 :   True\n",
      "           ('production', 'sequestration', 'H2', 'Grid', 0, 0, 0) :  -Inf :                                                    Trans_exp[production,sequestration,H2,Grid,0,0,0] :   0.0 :   True\n",
      "           ('production', 'sequestration', 'H2', 'Grid', 0, 0, 1) :  -Inf :                                                    Trans_exp[production,sequestration,H2,Grid,0,0,1] :   0.0 :   True\n",
      "         ('production', 'sequestration', 'H2', 'carbon', 0, 0, 0) :  -Inf :    Trans_exp[production,sequestration,H2,carbon,0,0,0] - 1000*X_T[production,sequestration,carbon,0] :   0.0 :   True\n",
      "         ('production', 'sequestration', 'H2', 'carbon', 0, 0, 1) :  -Inf :    Trans_exp[production,sequestration,H2,carbon,0,0,1] - 1000*X_T[production,sequestration,carbon,0] :   0.0 :   True\n",
      "       ('production', 'sequestration', 'H2', 'hydrogen', 0, 0, 0) :  -Inf :                                                Trans_exp[production,sequestration,H2,hydrogen,0,0,0] :   0.0 :   True\n",
      "       ('production', 'sequestration', 'H2', 'hydrogen', 0, 0, 1) :  -Inf :                                                Trans_exp[production,sequestration,H2,hydrogen,0,0,1] :   0.0 :   True\n",
      "        ('production', 'sequestration', 'Power', 'Grid', 0, 0, 0) :  -Inf :                                                 Trans_exp[production,sequestration,Power,Grid,0,0,0] :   0.0 :   True\n",
      "        ('production', 'sequestration', 'Power', 'Grid', 0, 0, 1) :  -Inf :                                                 Trans_exp[production,sequestration,Power,Grid,0,0,1] :   0.0 :   True\n",
      "      ('production', 'sequestration', 'Power', 'carbon', 0, 0, 0) :  -Inf : Trans_exp[production,sequestration,Power,carbon,0,0,0] - 1000*X_T[production,sequestration,carbon,0] :   0.0 :   True\n",
      "      ('production', 'sequestration', 'Power', 'carbon', 0, 0, 1) :  -Inf : Trans_exp[production,sequestration,Power,carbon,0,0,1] - 1000*X_T[production,sequestration,carbon,0] :   0.0 :   True\n",
      "    ('production', 'sequestration', 'Power', 'hydrogen', 0, 0, 0) :  -Inf :                                             Trans_exp[production,sequestration,Power,hydrogen,0,0,0] :   0.0 :   True\n",
      "    ('production', 'sequestration', 'Power', 'hydrogen', 0, 0, 1) :  -Inf :                                             Trans_exp[production,sequestration,Power,hydrogen,0,0,1] :   0.0 :   True\n"
     ]
    }
   ],
   "source": [
    "milp_cost.constraint_transport_exp_UB.pprint()"
   ]
  },
  {
   "cell_type": "code",
   "execution_count": null,
   "metadata": {},
   "outputs": [
    {
     "name": "stdout",
     "output_type": "stream",
     "text": [
      "Set parameter QCPDual to value 1\n",
      "Gurobi Optimizer version 10.0.2 build v10.0.2rc0 (win64)\n",
      "\n",
      "CPU model: Intel(R) Core(TM) i7-6700 CPU @ 3.40GHz, instruction set [SSE2|AVX|AVX2]\n",
      "Thread count: 4 physical cores, 8 logical processors, using up to 8 threads\n",
      "\n",
      "Optimize a model with 1088 rows, 1136 columns and 2107 nonzeros\n",
      "Model fingerprint: 0x706b98ec\n",
      "Variable types: 1082 continuous, 54 integer (54 binary)\n",
      "Coefficient statistics:\n",
      "  Matrix range     [1e-02, 9e+05]\n",
      "  Objective range  [1e+00, 1e+00]\n",
      "  Bounds range     [1e+00, 1e+00]\n",
      "  RHS range        [3e-01, 1e+04]\n",
      "Presolve removed 1068 rows and 1114 columns\n",
      "Presolve time: 0.00s\n",
      "Presolved: 20 rows, 22 columns, 52 nonzeros\n",
      "Variable types: 22 continuous, 0 integer (0 binary)\n",
      "\n",
      "Root relaxation: objective 2.458871e+05, 5 iterations, 0.00 seconds (0.00 work units)\n",
      "\n",
      "    Nodes    |    Current Node    |     Objective Bounds      |     Work\n",
      " Expl Unexpl |  Obj  Depth IntInf | Incumbent    BestBd   Gap | It/Node Time\n",
      "\n",
      "*    0     0               0    245887.06144 245887.061  0.00%     -    0s\n",
      "\n",
      "Explored 1 nodes (5 simplex iterations) in 0.03 seconds (0.00 work units)\n",
      "Thread count was 8 (of 8 available processors)\n",
      "\n",
      "Solution count 1: 245887 \n",
      "\n",
      "Optimal solution found (tolerance 1.00e-04)\n",
      "Best objective 2.458870614421e+05, best bound 2.458870614421e+05, gap 0.0000%\n"
     ]
    },
    {
     "name": "stderr",
     "output_type": "stream",
     "text": [
      "WARNING:pyomo.solvers:Cannot get duals for MIP.\n"
     ]
    }
   ],
   "source": [
    "results_cost = solve(scenario=scenario, instance=milp_cost, solver='gurobi',\n",
    "                    name=f\"results_master\", print_solversteps=True)#, saveformat = '.pkl')"
   ]
  },
  {
   "cell_type": "code",
   "execution_count": null,
   "metadata": {},
   "outputs": [
    {
     "data": {
      "text/plain": [
       "{('consumption', 0): 65759.99999942724,\n",
       " ('generation', 0): 0.0,\n",
       " ('production', 0): 180110.26293469043,\n",
       " ('sequestration', 0): 0.0}"
      ]
     },
     "execution_count": 35,
     "metadata": {},
     "output_type": "execute_result"
    }
   ],
   "source": [
    "results_cost.output['Capex_location']"
   ]
  },
  {
   "cell_type": "code",
   "execution_count": null,
   "metadata": {},
   "outputs": [
    {
     "data": {
      "text/plain": [
       "{('AqOff', 0): 0.0,\n",
       " ('H2_Comp', 0): 0.548,\n",
       " ('LiI', 0): 0.0,\n",
       " ('LiI_discharge', 0): 1.7778515951371219,\n",
       " ('PEM', 0): 1.549335595137122,\n",
       " ('PV', 0): 0.0,\n",
       " ('SMRH', 0): 0.0,\n",
       " ('WF', 0): 0.0}"
      ]
     },
     "execution_count": 36,
     "metadata": {},
     "output_type": "execute_result"
    }
   ],
   "source": [
    "results_cost.output['P_network']"
   ]
  },
  {
   "cell_type": "code",
   "execution_count": null,
   "metadata": {},
   "outputs": [
    {
     "data": {
      "text/plain": [
       "{('CO2_AQoff', 0): 0.0,\n",
       " ('CO2_Vent', 0): 0.0,\n",
       " ('H2(C)', 0): 0.548,\n",
       " ('O2', 0): 4.384929601357083}"
      ]
     },
     "execution_count": 37,
     "metadata": {},
     "output_type": "execute_result"
    }
   ],
   "source": [
    "results_cost.output['S_network']"
   ]
  },
  {
   "cell_type": "code",
   "execution_count": null,
   "metadata": {},
   "outputs": [
    {
     "name": "stdout",
     "output_type": "stream",
     "text": [
      "P : Production\n",
      "    Size=64, Index=P_index\n",
      "    Key                                         : Lower : Value              : Upper : Fixed : Stale : Domain\n",
      "              ('consumption', 'AqOff', 0, 0, 0) :     0 :                0.0 :  None : False : False : NonNegativeReals\n",
      "              ('consumption', 'AqOff', 0, 0, 1) :     0 :                0.0 :  None : False : False : NonNegativeReals\n",
      "            ('consumption', 'H2_Comp', 0, 0, 0) :     0 :              0.274 :  None : False : False : NonNegativeReals\n",
      "            ('consumption', 'H2_Comp', 0, 0, 1) :     0 :              0.274 :  None : False : False : NonNegativeReals\n",
      "                ('consumption', 'LiI', 0, 0, 0) :     0 :                0.0 :  None : False : False : NonNegativeReals\n",
      "                ('consumption', 'LiI', 0, 0, 1) :     0 :                0.0 :  None : False : False : NonNegativeReals\n",
      "      ('consumption', 'LiI_discharge', 0, 0, 0) :     0 :                0.0 :  None : False : False : NonNegativeReals\n",
      "      ('consumption', 'LiI_discharge', 0, 0, 1) :     0 :                0.0 :  None : False : False : NonNegativeReals\n",
      "                ('consumption', 'PEM', 0, 0, 0) :     0 :                0.0 :  None : False : False : NonNegativeReals\n",
      "                ('consumption', 'PEM', 0, 0, 1) :     0 :                0.0 :  None : False : False : NonNegativeReals\n",
      "                 ('consumption', 'PV', 0, 0, 0) :     0 :                0.0 :  None : False : False : NonNegativeReals\n",
      "                 ('consumption', 'PV', 0, 0, 1) :     0 :                0.0 :  None : False : False : NonNegativeReals\n",
      "               ('consumption', 'SMRH', 0, 0, 0) :     0 :                0.0 :  None : False : False : NonNegativeReals\n",
      "               ('consumption', 'SMRH', 0, 0, 1) :     0 :                0.0 :  None : False : False : NonNegativeReals\n",
      "                 ('consumption', 'WF', 0, 0, 0) :     0 :                0.0 :  None : False : False : NonNegativeReals\n",
      "                 ('consumption', 'WF', 0, 0, 1) :     0 :                0.0 :  None : False : False : NonNegativeReals\n",
      "               ('generation', 'AqOff', 0, 0, 0) :     0 :                0.0 :  None : False : False : NonNegativeReals\n",
      "               ('generation', 'AqOff', 0, 0, 1) :     0 :                0.0 :  None : False : False : NonNegativeReals\n",
      "             ('generation', 'H2_Comp', 0, 0, 0) :     0 :                0.0 :  None : False : False : NonNegativeReals\n",
      "             ('generation', 'H2_Comp', 0, 0, 1) :     0 :                0.0 :  None : False : False : NonNegativeReals\n",
      "                 ('generation', 'LiI', 0, 0, 0) :     0 :                0.0 :  None : False : False : NonNegativeReals\n",
      "                 ('generation', 'LiI', 0, 0, 1) :     0 :                0.0 :  None : False : False : NonNegativeReals\n",
      "       ('generation', 'LiI_discharge', 0, 0, 0) :     0 : 0.8889257975685609 :  None : False : False : NonNegativeReals\n",
      "       ('generation', 'LiI_discharge', 0, 0, 1) :     0 :  0.888925797568561 :  None : False : False : NonNegativeReals\n",
      "                 ('generation', 'PEM', 0, 0, 0) :     0 :                0.0 :  None : False : False : NonNegativeReals\n",
      "                 ('generation', 'PEM', 0, 0, 1) :     0 :                0.0 :  None : False : False : NonNegativeReals\n",
      "                  ('generation', 'PV', 0, 0, 0) :     0 :                0.0 :  None : False : False : NonNegativeReals\n",
      "                  ('generation', 'PV', 0, 0, 1) :     0 :                0.0 :  None : False : False : NonNegativeReals\n",
      "                ('generation', 'SMRH', 0, 0, 0) :     0 :                0.0 :  None : False : False : NonNegativeReals\n",
      "                ('generation', 'SMRH', 0, 0, 1) :     0 :                0.0 :  None : False : False : NonNegativeReals\n",
      "                  ('generation', 'WF', 0, 0, 0) :     0 :                0.0 :  None : False : False : NonNegativeReals\n",
      "                  ('generation', 'WF', 0, 0, 1) :     0 :                0.0 :  None : False : False : NonNegativeReals\n",
      "               ('production', 'AqOff', 0, 0, 0) :     0 :                0.0 :  None : False : False : NonNegativeReals\n",
      "               ('production', 'AqOff', 0, 0, 1) :     0 :                0.0 :  None : False : False : NonNegativeReals\n",
      "             ('production', 'H2_Comp', 0, 0, 0) :     0 :                0.0 :  None : False : False : NonNegativeReals\n",
      "             ('production', 'H2_Comp', 0, 0, 1) :     0 :                0.0 :  None : False : False : NonNegativeReals\n",
      "                 ('production', 'LiI', 0, 0, 0) :     0 :                0.0 :  None : False : False : NonNegativeReals\n",
      "                 ('production', 'LiI', 0, 0, 1) :     0 :                0.0 :  None : False : False : NonNegativeReals\n",
      "       ('production', 'LiI_discharge', 0, 0, 0) :     0 :                0.0 :  None : False : False : NonNegativeReals\n",
      "       ('production', 'LiI_discharge', 0, 0, 1) :     0 :                0.0 :  None : False : False : NonNegativeReals\n",
      "                 ('production', 'PEM', 0, 0, 0) :     0 :  0.774667797568561 :  None : False : False : NonNegativeReals\n",
      "                 ('production', 'PEM', 0, 0, 1) :     0 :  0.774667797568561 :  None : False : False : NonNegativeReals\n",
      "                  ('production', 'PV', 0, 0, 0) :     0 :                0.0 :  None : False : False : NonNegativeReals\n",
      "                  ('production', 'PV', 0, 0, 1) :     0 :                0.0 :  None : False : False : NonNegativeReals\n",
      "                ('production', 'SMRH', 0, 0, 0) :     0 :                0.0 :  None : False : False : NonNegativeReals\n",
      "                ('production', 'SMRH', 0, 0, 1) :     0 :                0.0 :  None : False : False : NonNegativeReals\n",
      "                  ('production', 'WF', 0, 0, 0) :     0 :                0.0 :  None : False : False : NonNegativeReals\n",
      "                  ('production', 'WF', 0, 0, 1) :     0 :                0.0 :  None : False : False : NonNegativeReals\n",
      "            ('sequestration', 'AqOff', 0, 0, 0) :     0 :                0.0 :  None : False : False : NonNegativeReals\n",
      "            ('sequestration', 'AqOff', 0, 0, 1) :     0 :                0.0 :  None : False : False : NonNegativeReals\n",
      "          ('sequestration', 'H2_Comp', 0, 0, 0) :     0 :                0.0 :  None : False : False : NonNegativeReals\n",
      "          ('sequestration', 'H2_Comp', 0, 0, 1) :     0 :                0.0 :  None : False : False : NonNegativeReals\n",
      "              ('sequestration', 'LiI', 0, 0, 0) :     0 :                0.0 :  None : False : False : NonNegativeReals\n",
      "              ('sequestration', 'LiI', 0, 0, 1) :     0 :                0.0 :  None : False : False : NonNegativeReals\n",
      "    ('sequestration', 'LiI_discharge', 0, 0, 0) :     0 :                0.0 :  None : False : False : NonNegativeReals\n",
      "    ('sequestration', 'LiI_discharge', 0, 0, 1) :     0 :                0.0 :  None : False : False : NonNegativeReals\n",
      "              ('sequestration', 'PEM', 0, 0, 0) :     0 :                0.0 :  None : False : False : NonNegativeReals\n",
      "              ('sequestration', 'PEM', 0, 0, 1) :     0 :                0.0 :  None : False : False : NonNegativeReals\n",
      "               ('sequestration', 'PV', 0, 0, 0) :     0 :                0.0 :  None : False : False : NonNegativeReals\n",
      "               ('sequestration', 'PV', 0, 0, 1) :     0 :                0.0 :  None : False : False : NonNegativeReals\n",
      "             ('sequestration', 'SMRH', 0, 0, 0) :     0 :                0.0 :  None : False : False : NonNegativeReals\n",
      "             ('sequestration', 'SMRH', 0, 0, 1) :     0 :                0.0 :  None : False : False : NonNegativeReals\n",
      "               ('sequestration', 'WF', 0, 0, 0) :     0 :                0.0 :  None : False : False : NonNegativeReals\n",
      "               ('sequestration', 'WF', 0, 0, 1) :     0 :                0.0 :  None : False : False : NonNegativeReals\n"
     ]
    }
   ],
   "source": [
    "milp_cost.P.pprint()"
   ]
  },
  {
   "cell_type": "code",
   "execution_count": null,
   "metadata": {},
   "outputs": [
    {
     "name": "stdout",
     "output_type": "stream",
     "text": [
      "constraint_location_capex : sums up capex from process over a location\n",
      "    Size=4, Index=constraint_location_capex_index, Active=True\n",
      "    Key                  : Lower : Body                                                                                                                                                                                                                                                                                                                                                     : Upper : Active\n",
      "      ('consumption', 0) :   0.0 :                   Capex_location[consumption,0] - (Capex_process[consumption,AqOff,0] + Capex_process[consumption,H2_Comp,0] + Capex_process[consumption,LiI,0] + Capex_process[consumption,LiI_discharge,0] + Capex_process[consumption,PEM,0] + Capex_process[consumption,PV,0] + Capex_process[consumption,SMRH,0] + Capex_process[consumption,WF,0]) :   0.0 :   True\n",
      "       ('generation', 0) :   0.0 :                            Capex_location[generation,0] - (Capex_process[generation,AqOff,0] + Capex_process[generation,H2_Comp,0] + Capex_process[generation,LiI,0] + Capex_process[generation,LiI_discharge,0] + Capex_process[generation,PEM,0] + Capex_process[generation,PV,0] + Capex_process[generation,SMRH,0] + Capex_process[generation,WF,0]) :   0.0 :   True\n",
      "       ('production', 0) :   0.0 :                            Capex_location[production,0] - (Capex_process[production,AqOff,0] + Capex_process[production,H2_Comp,0] + Capex_process[production,LiI,0] + Capex_process[production,LiI_discharge,0] + Capex_process[production,PEM,0] + Capex_process[production,PV,0] + Capex_process[production,SMRH,0] + Capex_process[production,WF,0]) :   0.0 :   True\n",
      "    ('sequestration', 0) :   0.0 : Capex_location[sequestration,0] - (Capex_process[sequestration,AqOff,0] + Capex_process[sequestration,H2_Comp,0] + Capex_process[sequestration,LiI,0] + Capex_process[sequestration,LiI_discharge,0] + Capex_process[sequestration,PEM,0] + Capex_process[sequestration,PV,0] + Capex_process[sequestration,SMRH,0] + Capex_process[sequestration,WF,0]) :   0.0 :   True\n"
     ]
    }
   ],
   "source": [
    "milp_cost.constraint_location_capex.pprint()"
   ]
  },
  {
   "cell_type": "code",
   "execution_count": null,
   "metadata": {},
   "outputs": [
    {
     "name": "stdout",
     "output_type": "stream",
     "text": [
      "constraint_transport_imp_UB : import of resource from sink to source\n",
      "    Size=108, Index=constraint_transport_imp_UB_index, Active=True\n",
      "    Key                                                           : Lower : Body                                                                                                 : Upper : Active\n",
      "            ('consumption', 'generation', 'CO2', 'Grid', 0, 0, 0) :  -Inf :           Trans_imp[consumption,generation,CO2,Grid,0,0,0] - 1000*X_T[generation,consumption,Grid,0] :   0.0 :   True\n",
      "            ('consumption', 'generation', 'CO2', 'Grid', 0, 0, 1) :  -Inf :           Trans_imp[consumption,generation,CO2,Grid,0,0,1] - 1000*X_T[generation,consumption,Grid,0] :   0.0 :   True\n",
      "          ('consumption', 'generation', 'CO2', 'carbon', 0, 0, 0) :  -Inf :                                                   Trans_imp[consumption,generation,CO2,carbon,0,0,0] :   0.0 :   True\n",
      "          ('consumption', 'generation', 'CO2', 'carbon', 0, 0, 1) :  -Inf :                                                   Trans_imp[consumption,generation,CO2,carbon,0,0,1] :   0.0 :   True\n",
      "        ('consumption', 'generation', 'CO2', 'hydrogen', 0, 0, 0) :  -Inf :                                                 Trans_imp[consumption,generation,CO2,hydrogen,0,0,0] :   0.0 :   True\n",
      "        ('consumption', 'generation', 'CO2', 'hydrogen', 0, 0, 1) :  -Inf :                                                 Trans_imp[consumption,generation,CO2,hydrogen,0,0,1] :   0.0 :   True\n",
      "             ('consumption', 'generation', 'H2', 'Grid', 0, 0, 0) :  -Inf :            Trans_imp[consumption,generation,H2,Grid,0,0,0] - 1000*X_T[generation,consumption,Grid,0] :   0.0 :   True\n",
      "             ('consumption', 'generation', 'H2', 'Grid', 0, 0, 1) :  -Inf :            Trans_imp[consumption,generation,H2,Grid,0,0,1] - 1000*X_T[generation,consumption,Grid,0] :   0.0 :   True\n",
      "           ('consumption', 'generation', 'H2', 'carbon', 0, 0, 0) :  -Inf :                                                    Trans_imp[consumption,generation,H2,carbon,0,0,0] :   0.0 :   True\n",
      "           ('consumption', 'generation', 'H2', 'carbon', 0, 0, 1) :  -Inf :                                                    Trans_imp[consumption,generation,H2,carbon,0,0,1] :   0.0 :   True\n",
      "         ('consumption', 'generation', 'H2', 'hydrogen', 0, 0, 0) :  -Inf :                                                  Trans_imp[consumption,generation,H2,hydrogen,0,0,0] :   0.0 :   True\n",
      "         ('consumption', 'generation', 'H2', 'hydrogen', 0, 0, 1) :  -Inf :                                                  Trans_imp[consumption,generation,H2,hydrogen,0,0,1] :   0.0 :   True\n",
      "          ('consumption', 'generation', 'Power', 'Grid', 0, 0, 0) :  -Inf :         Trans_imp[consumption,generation,Power,Grid,0,0,0] - 1000*X_T[generation,consumption,Grid,0] :   0.0 :   True\n",
      "          ('consumption', 'generation', 'Power', 'Grid', 0, 0, 1) :  -Inf :         Trans_imp[consumption,generation,Power,Grid,0,0,1] - 1000*X_T[generation,consumption,Grid,0] :   0.0 :   True\n",
      "        ('consumption', 'generation', 'Power', 'carbon', 0, 0, 0) :  -Inf :                                                 Trans_imp[consumption,generation,Power,carbon,0,0,0] :   0.0 :   True\n",
      "        ('consumption', 'generation', 'Power', 'carbon', 0, 0, 1) :  -Inf :                                                 Trans_imp[consumption,generation,Power,carbon,0,0,1] :   0.0 :   True\n",
      "      ('consumption', 'generation', 'Power', 'hydrogen', 0, 0, 0) :  -Inf :                                               Trans_imp[consumption,generation,Power,hydrogen,0,0,0] :   0.0 :   True\n",
      "      ('consumption', 'generation', 'Power', 'hydrogen', 0, 0, 1) :  -Inf :                                               Trans_imp[consumption,generation,Power,hydrogen,0,0,1] :   0.0 :   True\n",
      "            ('consumption', 'production', 'CO2', 'Grid', 0, 0, 0) :  -Inf :                                                     Trans_imp[consumption,production,CO2,Grid,0,0,0] :   0.0 :   True\n",
      "            ('consumption', 'production', 'CO2', 'Grid', 0, 0, 1) :  -Inf :                                                     Trans_imp[consumption,production,CO2,Grid,0,0,1] :   0.0 :   True\n",
      "          ('consumption', 'production', 'CO2', 'carbon', 0, 0, 0) :  -Inf :                                                   Trans_imp[consumption,production,CO2,carbon,0,0,0] :   0.0 :   True\n",
      "          ('consumption', 'production', 'CO2', 'carbon', 0, 0, 1) :  -Inf :                                                   Trans_imp[consumption,production,CO2,carbon,0,0,1] :   0.0 :   True\n",
      "        ('consumption', 'production', 'CO2', 'hydrogen', 0, 0, 0) :  -Inf :   Trans_imp[consumption,production,CO2,hydrogen,0,0,0] - 1000*X_T[production,consumption,hydrogen,0] :   0.0 :   True\n",
      "        ('consumption', 'production', 'CO2', 'hydrogen', 0, 0, 1) :  -Inf :   Trans_imp[consumption,production,CO2,hydrogen,0,0,1] - 1000*X_T[production,consumption,hydrogen,0] :   0.0 :   True\n",
      "             ('consumption', 'production', 'H2', 'Grid', 0, 0, 0) :  -Inf :                                                      Trans_imp[consumption,production,H2,Grid,0,0,0] :   0.0 :   True\n",
      "             ('consumption', 'production', 'H2', 'Grid', 0, 0, 1) :  -Inf :                                                      Trans_imp[consumption,production,H2,Grid,0,0,1] :   0.0 :   True\n",
      "           ('consumption', 'production', 'H2', 'carbon', 0, 0, 0) :  -Inf :                                                    Trans_imp[consumption,production,H2,carbon,0,0,0] :   0.0 :   True\n",
      "           ('consumption', 'production', 'H2', 'carbon', 0, 0, 1) :  -Inf :                                                    Trans_imp[consumption,production,H2,carbon,0,0,1] :   0.0 :   True\n",
      "         ('consumption', 'production', 'H2', 'hydrogen', 0, 0, 0) :  -Inf :    Trans_imp[consumption,production,H2,hydrogen,0,0,0] - 1000*X_T[production,consumption,hydrogen,0] :   0.0 :   True\n",
      "         ('consumption', 'production', 'H2', 'hydrogen', 0, 0, 1) :  -Inf :    Trans_imp[consumption,production,H2,hydrogen,0,0,1] - 1000*X_T[production,consumption,hydrogen,0] :   0.0 :   True\n",
      "          ('consumption', 'production', 'Power', 'Grid', 0, 0, 0) :  -Inf :                                                   Trans_imp[consumption,production,Power,Grid,0,0,0] :   0.0 :   True\n",
      "          ('consumption', 'production', 'Power', 'Grid', 0, 0, 1) :  -Inf :                                                   Trans_imp[consumption,production,Power,Grid,0,0,1] :   0.0 :   True\n",
      "        ('consumption', 'production', 'Power', 'carbon', 0, 0, 0) :  -Inf :                                                 Trans_imp[consumption,production,Power,carbon,0,0,0] :   0.0 :   True\n",
      "        ('consumption', 'production', 'Power', 'carbon', 0, 0, 1) :  -Inf :                                                 Trans_imp[consumption,production,Power,carbon,0,0,1] :   0.0 :   True\n",
      "      ('consumption', 'production', 'Power', 'hydrogen', 0, 0, 0) :  -Inf : Trans_imp[consumption,production,Power,hydrogen,0,0,0] - 1000*X_T[production,consumption,hydrogen,0] :   0.0 :   True\n",
      "      ('consumption', 'production', 'Power', 'hydrogen', 0, 0, 1) :  -Inf : Trans_imp[consumption,production,Power,hydrogen,0,0,1] - 1000*X_T[production,consumption,hydrogen,0] :   0.0 :   True\n",
      "             ('production', 'generation', 'CO2', 'Grid', 0, 0, 0) :  -Inf :             Trans_imp[production,generation,CO2,Grid,0,0,0] - 1000*X_T[generation,production,Grid,0] :   0.0 :   True\n",
      "             ('production', 'generation', 'CO2', 'Grid', 0, 0, 1) :  -Inf :             Trans_imp[production,generation,CO2,Grid,0,0,1] - 1000*X_T[generation,production,Grid,0] :   0.0 :   True\n",
      "           ('production', 'generation', 'CO2', 'carbon', 0, 0, 0) :  -Inf :                                                    Trans_imp[production,generation,CO2,carbon,0,0,0] :   0.0 :   True\n",
      "           ('production', 'generation', 'CO2', 'carbon', 0, 0, 1) :  -Inf :                                                    Trans_imp[production,generation,CO2,carbon,0,0,1] :   0.0 :   True\n",
      "         ('production', 'generation', 'CO2', 'hydrogen', 0, 0, 0) :  -Inf :                                                  Trans_imp[production,generation,CO2,hydrogen,0,0,0] :   0.0 :   True\n",
      "         ('production', 'generation', 'CO2', 'hydrogen', 0, 0, 1) :  -Inf :                                                  Trans_imp[production,generation,CO2,hydrogen,0,0,1] :   0.0 :   True\n",
      "              ('production', 'generation', 'H2', 'Grid', 0, 0, 0) :  -Inf :              Trans_imp[production,generation,H2,Grid,0,0,0] - 1000*X_T[generation,production,Grid,0] :   0.0 :   True\n",
      "              ('production', 'generation', 'H2', 'Grid', 0, 0, 1) :  -Inf :              Trans_imp[production,generation,H2,Grid,0,0,1] - 1000*X_T[generation,production,Grid,0] :   0.0 :   True\n",
      "            ('production', 'generation', 'H2', 'carbon', 0, 0, 0) :  -Inf :                                                     Trans_imp[production,generation,H2,carbon,0,0,0] :   0.0 :   True\n",
      "            ('production', 'generation', 'H2', 'carbon', 0, 0, 1) :  -Inf :                                                     Trans_imp[production,generation,H2,carbon,0,0,1] :   0.0 :   True\n",
      "          ('production', 'generation', 'H2', 'hydrogen', 0, 0, 0) :  -Inf :                                                   Trans_imp[production,generation,H2,hydrogen,0,0,0] :   0.0 :   True\n",
      "          ('production', 'generation', 'H2', 'hydrogen', 0, 0, 1) :  -Inf :                                                   Trans_imp[production,generation,H2,hydrogen,0,0,1] :   0.0 :   True\n",
      "           ('production', 'generation', 'Power', 'Grid', 0, 0, 0) :  -Inf :           Trans_imp[production,generation,Power,Grid,0,0,0] - 1000*X_T[generation,production,Grid,0] :   0.0 :   True\n",
      "           ('production', 'generation', 'Power', 'Grid', 0, 0, 1) :  -Inf :           Trans_imp[production,generation,Power,Grid,0,0,1] - 1000*X_T[generation,production,Grid,0] :   0.0 :   True\n",
      "         ('production', 'generation', 'Power', 'carbon', 0, 0, 0) :  -Inf :                                                  Trans_imp[production,generation,Power,carbon,0,0,0] :   0.0 :   True\n",
      "         ('production', 'generation', 'Power', 'carbon', 0, 0, 1) :  -Inf :                                                  Trans_imp[production,generation,Power,carbon,0,0,1] :   0.0 :   True\n",
      "       ('production', 'generation', 'Power', 'hydrogen', 0, 0, 0) :  -Inf :                                                Trans_imp[production,generation,Power,hydrogen,0,0,0] :   0.0 :   True\n",
      "       ('production', 'generation', 'Power', 'hydrogen', 0, 0, 1) :  -Inf :                                                Trans_imp[production,generation,Power,hydrogen,0,0,1] :   0.0 :   True\n",
      "             ('production', 'production', 'CO2', 'Grid', 0, 0, 0) :  -Inf :                                                      Trans_imp[production,production,CO2,Grid,0,0,0] :   0.0 :   True\n",
      "             ('production', 'production', 'CO2', 'Grid', 0, 0, 1) :  -Inf :                                                      Trans_imp[production,production,CO2,Grid,0,0,1] :   0.0 :   True\n",
      "           ('production', 'production', 'CO2', 'carbon', 0, 0, 0) :  -Inf :                                                    Trans_imp[production,production,CO2,carbon,0,0,0] :   0.0 :   True\n",
      "           ('production', 'production', 'CO2', 'carbon', 0, 0, 1) :  -Inf :                                                    Trans_imp[production,production,CO2,carbon,0,0,1] :   0.0 :   True\n",
      "         ('production', 'production', 'CO2', 'hydrogen', 0, 0, 0) :  -Inf :                                                  Trans_imp[production,production,CO2,hydrogen,0,0,0] :   0.0 :   True\n",
      "         ('production', 'production', 'CO2', 'hydrogen', 0, 0, 1) :  -Inf :                                                  Trans_imp[production,production,CO2,hydrogen,0,0,1] :   0.0 :   True\n",
      "              ('production', 'production', 'H2', 'Grid', 0, 0, 0) :  -Inf :                                                       Trans_imp[production,production,H2,Grid,0,0,0] :   0.0 :   True\n",
      "              ('production', 'production', 'H2', 'Grid', 0, 0, 1) :  -Inf :                                                       Trans_imp[production,production,H2,Grid,0,0,1] :   0.0 :   True\n",
      "            ('production', 'production', 'H2', 'carbon', 0, 0, 0) :  -Inf :                                                     Trans_imp[production,production,H2,carbon,0,0,0] :   0.0 :   True\n",
      "            ('production', 'production', 'H2', 'carbon', 0, 0, 1) :  -Inf :                                                     Trans_imp[production,production,H2,carbon,0,0,1] :   0.0 :   True\n",
      "          ('production', 'production', 'H2', 'hydrogen', 0, 0, 0) :  -Inf :                                                   Trans_imp[production,production,H2,hydrogen,0,0,0] :   0.0 :   True\n",
      "          ('production', 'production', 'H2', 'hydrogen', 0, 0, 1) :  -Inf :                                                   Trans_imp[production,production,H2,hydrogen,0,0,1] :   0.0 :   True\n",
      "           ('production', 'production', 'Power', 'Grid', 0, 0, 0) :  -Inf :                                                    Trans_imp[production,production,Power,Grid,0,0,0] :   0.0 :   True\n",
      "           ('production', 'production', 'Power', 'Grid', 0, 0, 1) :  -Inf :                                                    Trans_imp[production,production,Power,Grid,0,0,1] :   0.0 :   True\n",
      "         ('production', 'production', 'Power', 'carbon', 0, 0, 0) :  -Inf :                                                  Trans_imp[production,production,Power,carbon,0,0,0] :   0.0 :   True\n",
      "         ('production', 'production', 'Power', 'carbon', 0, 0, 1) :  -Inf :                                                  Trans_imp[production,production,Power,carbon,0,0,1] :   0.0 :   True\n",
      "       ('production', 'production', 'Power', 'hydrogen', 0, 0, 0) :  -Inf :                                                Trans_imp[production,production,Power,hydrogen,0,0,0] :   0.0 :   True\n",
      "       ('production', 'production', 'Power', 'hydrogen', 0, 0, 1) :  -Inf :                                                Trans_imp[production,production,Power,hydrogen,0,0,1] :   0.0 :   True\n",
      "          ('sequestration', 'generation', 'CO2', 'Grid', 0, 0, 0) :  -Inf :       Trans_imp[sequestration,generation,CO2,Grid,0,0,0] - 1000*X_T[generation,sequestration,Grid,0] :   0.0 :   True\n",
      "          ('sequestration', 'generation', 'CO2', 'Grid', 0, 0, 1) :  -Inf :       Trans_imp[sequestration,generation,CO2,Grid,0,0,1] - 1000*X_T[generation,sequestration,Grid,0] :   0.0 :   True\n",
      "        ('sequestration', 'generation', 'CO2', 'carbon', 0, 0, 0) :  -Inf :                                                 Trans_imp[sequestration,generation,CO2,carbon,0,0,0] :   0.0 :   True\n",
      "        ('sequestration', 'generation', 'CO2', 'carbon', 0, 0, 1) :  -Inf :                                                 Trans_imp[sequestration,generation,CO2,carbon,0,0,1] :   0.0 :   True\n",
      "      ('sequestration', 'generation', 'CO2', 'hydrogen', 0, 0, 0) :  -Inf :                                               Trans_imp[sequestration,generation,CO2,hydrogen,0,0,0] :   0.0 :   True\n",
      "      ('sequestration', 'generation', 'CO2', 'hydrogen', 0, 0, 1) :  -Inf :                                               Trans_imp[sequestration,generation,CO2,hydrogen,0,0,1] :   0.0 :   True\n",
      "           ('sequestration', 'generation', 'H2', 'Grid', 0, 0, 0) :  -Inf :        Trans_imp[sequestration,generation,H2,Grid,0,0,0] - 1000*X_T[generation,sequestration,Grid,0] :   0.0 :   True\n",
      "           ('sequestration', 'generation', 'H2', 'Grid', 0, 0, 1) :  -Inf :        Trans_imp[sequestration,generation,H2,Grid,0,0,1] - 1000*X_T[generation,sequestration,Grid,0] :   0.0 :   True\n",
      "         ('sequestration', 'generation', 'H2', 'carbon', 0, 0, 0) :  -Inf :                                                  Trans_imp[sequestration,generation,H2,carbon,0,0,0] :   0.0 :   True\n",
      "         ('sequestration', 'generation', 'H2', 'carbon', 0, 0, 1) :  -Inf :                                                  Trans_imp[sequestration,generation,H2,carbon,0,0,1] :   0.0 :   True\n",
      "       ('sequestration', 'generation', 'H2', 'hydrogen', 0, 0, 0) :  -Inf :                                                Trans_imp[sequestration,generation,H2,hydrogen,0,0,0] :   0.0 :   True\n",
      "       ('sequestration', 'generation', 'H2', 'hydrogen', 0, 0, 1) :  -Inf :                                                Trans_imp[sequestration,generation,H2,hydrogen,0,0,1] :   0.0 :   True\n",
      "        ('sequestration', 'generation', 'Power', 'Grid', 0, 0, 0) :  -Inf :     Trans_imp[sequestration,generation,Power,Grid,0,0,0] - 1000*X_T[generation,sequestration,Grid,0] :   0.0 :   True\n",
      "        ('sequestration', 'generation', 'Power', 'Grid', 0, 0, 1) :  -Inf :     Trans_imp[sequestration,generation,Power,Grid,0,0,1] - 1000*X_T[generation,sequestration,Grid,0] :   0.0 :   True\n",
      "      ('sequestration', 'generation', 'Power', 'carbon', 0, 0, 0) :  -Inf :                                               Trans_imp[sequestration,generation,Power,carbon,0,0,0] :   0.0 :   True\n",
      "      ('sequestration', 'generation', 'Power', 'carbon', 0, 0, 1) :  -Inf :                                               Trans_imp[sequestration,generation,Power,carbon,0,0,1] :   0.0 :   True\n",
      "    ('sequestration', 'generation', 'Power', 'hydrogen', 0, 0, 0) :  -Inf :                                             Trans_imp[sequestration,generation,Power,hydrogen,0,0,0] :   0.0 :   True\n",
      "    ('sequestration', 'generation', 'Power', 'hydrogen', 0, 0, 1) :  -Inf :                                             Trans_imp[sequestration,generation,Power,hydrogen,0,0,1] :   0.0 :   True\n",
      "          ('sequestration', 'production', 'CO2', 'Grid', 0, 0, 0) :  -Inf :                                                   Trans_imp[sequestration,production,CO2,Grid,0,0,0] :   0.0 :   True\n",
      "          ('sequestration', 'production', 'CO2', 'Grid', 0, 0, 1) :  -Inf :                                                   Trans_imp[sequestration,production,CO2,Grid,0,0,1] :   0.0 :   True\n",
      "        ('sequestration', 'production', 'CO2', 'carbon', 0, 0, 0) :  -Inf :   Trans_imp[sequestration,production,CO2,carbon,0,0,0] - 1000*X_T[production,sequestration,carbon,0] :   0.0 :   True\n",
      "        ('sequestration', 'production', 'CO2', 'carbon', 0, 0, 1) :  -Inf :   Trans_imp[sequestration,production,CO2,carbon,0,0,1] - 1000*X_T[production,sequestration,carbon,0] :   0.0 :   True\n",
      "      ('sequestration', 'production', 'CO2', 'hydrogen', 0, 0, 0) :  -Inf :                                               Trans_imp[sequestration,production,CO2,hydrogen,0,0,0] :   0.0 :   True\n",
      "      ('sequestration', 'production', 'CO2', 'hydrogen', 0, 0, 1) :  -Inf :                                               Trans_imp[sequestration,production,CO2,hydrogen,0,0,1] :   0.0 :   True\n",
      "           ('sequestration', 'production', 'H2', 'Grid', 0, 0, 0) :  -Inf :                                                    Trans_imp[sequestration,production,H2,Grid,0,0,0] :   0.0 :   True\n",
      "           ('sequestration', 'production', 'H2', 'Grid', 0, 0, 1) :  -Inf :                                                    Trans_imp[sequestration,production,H2,Grid,0,0,1] :   0.0 :   True\n",
      "         ('sequestration', 'production', 'H2', 'carbon', 0, 0, 0) :  -Inf :    Trans_imp[sequestration,production,H2,carbon,0,0,0] - 1000*X_T[production,sequestration,carbon,0] :   0.0 :   True\n",
      "         ('sequestration', 'production', 'H2', 'carbon', 0, 0, 1) :  -Inf :    Trans_imp[sequestration,production,H2,carbon,0,0,1] - 1000*X_T[production,sequestration,carbon,0] :   0.0 :   True\n",
      "       ('sequestration', 'production', 'H2', 'hydrogen', 0, 0, 0) :  -Inf :                                                Trans_imp[sequestration,production,H2,hydrogen,0,0,0] :   0.0 :   True\n",
      "       ('sequestration', 'production', 'H2', 'hydrogen', 0, 0, 1) :  -Inf :                                                Trans_imp[sequestration,production,H2,hydrogen,0,0,1] :   0.0 :   True\n",
      "        ('sequestration', 'production', 'Power', 'Grid', 0, 0, 0) :  -Inf :                                                 Trans_imp[sequestration,production,Power,Grid,0,0,0] :   0.0 :   True\n",
      "        ('sequestration', 'production', 'Power', 'Grid', 0, 0, 1) :  -Inf :                                                 Trans_imp[sequestration,production,Power,Grid,0,0,1] :   0.0 :   True\n",
      "      ('sequestration', 'production', 'Power', 'carbon', 0, 0, 0) :  -Inf : Trans_imp[sequestration,production,Power,carbon,0,0,0] - 1000*X_T[production,sequestration,carbon,0] :   0.0 :   True\n",
      "      ('sequestration', 'production', 'Power', 'carbon', 0, 0, 1) :  -Inf : Trans_imp[sequestration,production,Power,carbon,0,0,1] - 1000*X_T[production,sequestration,carbon,0] :   0.0 :   True\n",
      "    ('sequestration', 'production', 'Power', 'hydrogen', 0, 0, 0) :  -Inf :                                             Trans_imp[sequestration,production,Power,hydrogen,0,0,0] :   0.0 :   True\n",
      "    ('sequestration', 'production', 'Power', 'hydrogen', 0, 0, 1) :  -Inf :                                             Trans_imp[sequestration,production,Power,hydrogen,0,0,1] :   0.0 :   True\n"
     ]
    }
   ],
   "source": [
    "milp_cost.constraint_transport_imp_UB.pprint()"
   ]
  },
  {
   "cell_type": "code",
   "execution_count": null,
   "metadata": {},
   "outputs": [
    {
     "name": "stdout",
     "output_type": "stream",
     "text": [
      "X_T : binaries for transports being set up\n",
      "    Size=18, Index=X_T_index\n",
      "    Key                                            : Lower : Value : Upper : Fixed : Stale : Domain\n",
      "          ('generation', 'consumption', 'Grid', 0) :     0 :   1.0 :     1 : False : False : Binary\n",
      "        ('generation', 'consumption', 'carbon', 0) :     0 :  None :     1 : False :  True : Binary\n",
      "      ('generation', 'consumption', 'hydrogen', 0) :     0 :  None :     1 : False :  True : Binary\n",
      "           ('generation', 'production', 'Grid', 0) :     0 :   1.0 :     1 : False : False : Binary\n",
      "         ('generation', 'production', 'carbon', 0) :     0 :  None :     1 : False :  True : Binary\n",
      "       ('generation', 'production', 'hydrogen', 0) :     0 :  None :     1 : False :  True : Binary\n",
      "        ('generation', 'sequestration', 'Grid', 0) :     0 :   1.0 :     1 : False : False : Binary\n",
      "      ('generation', 'sequestration', 'carbon', 0) :     0 :  None :     1 : False :  True : Binary\n",
      "    ('generation', 'sequestration', 'hydrogen', 0) :     0 :  None :     1 : False :  True : Binary\n",
      "          ('production', 'consumption', 'Grid', 0) :     0 :  None :     1 : False :  True : Binary\n",
      "        ('production', 'consumption', 'carbon', 0) :     0 :  None :     1 : False :  True : Binary\n",
      "      ('production', 'consumption', 'hydrogen', 0) :     0 :   1.0 :     1 : False : False : Binary\n",
      "           ('production', 'production', 'Grid', 0) :     0 :  None :     1 : False :  True : Binary\n",
      "         ('production', 'production', 'carbon', 0) :     0 :  None :     1 : False :  True : Binary\n",
      "       ('production', 'production', 'hydrogen', 0) :     0 :  None :     1 : False :  True : Binary\n",
      "        ('production', 'sequestration', 'Grid', 0) :     0 :  None :     1 : False :  True : Binary\n",
      "      ('production', 'sequestration', 'carbon', 0) :     0 :   1.0 :     1 : False : False : Binary\n",
      "    ('production', 'sequestration', 'hydrogen', 0) :     0 :  None :     1 : False :  True : Binary\n"
     ]
    }
   ],
   "source": [
    "milp_cost.X_T.pprint()"
   ]
  },
  {
   "cell_type": "code",
   "execution_count": null,
   "metadata": {},
   "outputs": [
    {
     "name": "stdout",
     "output_type": "stream",
     "text": [
      "X_P : Process Binary\n",
      "    Size=32, Index=X_P_index\n",
      "    Key                                   : Lower : Value : Upper : Fixed : Stale : Domain\n",
      "              ('consumption', 'AqOff', 0) :     0 :  None :     1 : False :  True : Binary\n",
      "            ('consumption', 'H2_Comp', 0) :     0 :   1.0 :     1 : False : False : Binary\n",
      "                ('consumption', 'LiI', 0) :     0 :  None :     1 : False :  True : Binary\n",
      "      ('consumption', 'LiI_discharge', 0) :     0 :  None :     1 : False :  True : Binary\n",
      "                ('consumption', 'PEM', 0) :     0 :  None :     1 : False :  True : Binary\n",
      "                 ('consumption', 'PV', 0) :     0 :  None :     1 : False :  True : Binary\n",
      "               ('consumption', 'SMRH', 0) :     0 :  None :     1 : False :  True : Binary\n",
      "                 ('consumption', 'WF', 0) :     0 :  None :     1 : False :  True : Binary\n",
      "               ('generation', 'AqOff', 0) :     0 :  None :     1 : False :  True : Binary\n",
      "             ('generation', 'H2_Comp', 0) :     0 :  None :     1 : False :  True : Binary\n",
      "                 ('generation', 'LiI', 0) :     0 :   1.0 :     1 : False : False : Binary\n",
      "       ('generation', 'LiI_discharge', 0) :     0 :   1.0 :     1 : False : False : Binary\n",
      "                 ('generation', 'PEM', 0) :     0 :  None :     1 : False :  True : Binary\n",
      "                  ('generation', 'PV', 0) :     0 :   1.0 :     1 : False : False : Binary\n",
      "                ('generation', 'SMRH', 0) :     0 :  None :     1 : False :  True : Binary\n",
      "                  ('generation', 'WF', 0) :     0 :   1.0 :     1 : False : False : Binary\n",
      "               ('production', 'AqOff', 0) :     0 :  None :     1 : False :  True : Binary\n",
      "             ('production', 'H2_Comp', 0) :     0 :  None :     1 : False :  True : Binary\n",
      "                 ('production', 'LiI', 0) :     0 :  None :     1 : False :  True : Binary\n",
      "       ('production', 'LiI_discharge', 0) :     0 :  None :     1 : False :  True : Binary\n",
      "                 ('production', 'PEM', 0) :     0 :   1.0 :     1 : False : False : Binary\n",
      "                  ('production', 'PV', 0) :     0 :  None :     1 : False :  True : Binary\n",
      "                ('production', 'SMRH', 0) :     0 :   1.0 :     1 : False : False : Binary\n",
      "                  ('production', 'WF', 0) :     0 :  None :     1 : False :  True : Binary\n",
      "            ('sequestration', 'AqOff', 0) :     0 :   1.0 :     1 : False : False : Binary\n",
      "          ('sequestration', 'H2_Comp', 0) :     0 :  None :     1 : False :  True : Binary\n",
      "              ('sequestration', 'LiI', 0) :     0 :  None :     1 : False :  True : Binary\n",
      "    ('sequestration', 'LiI_discharge', 0) :     0 :  None :     1 : False :  True : Binary\n",
      "              ('sequestration', 'PEM', 0) :     0 :  None :     1 : False :  True : Binary\n",
      "               ('sequestration', 'PV', 0) :     0 :  None :     1 : False :  True : Binary\n",
      "             ('sequestration', 'SMRH', 0) :     0 :  None :     1 : False :  True : Binary\n",
      "               ('sequestration', 'WF', 0) :     0 :  None :     1 : False :  True : Binary\n"
     ]
    }
   ],
   "source": [
    "milp_cost.X_P.pprint()"
   ]
  },
  {
   "cell_type": "code",
   "execution_count": null,
   "metadata": {},
   "outputs": [
    {
     "name": "stdout",
     "output_type": "stream",
     "text": [
      "Fopex_process : Fixed Opex for process\n",
      "    Size=32, Index=Fopex_process_index\n",
      "    Key                                   : Lower : Value : Upper : Fixed : Stale : Domain\n",
      "              ('consumption', 'AqOff', 0) :     0 :   0.0 :  None : False : False : NonNegativeReals\n",
      "            ('consumption', 'H2_Comp', 0) :     0 :   0.0 :  None : False : False : NonNegativeReals\n",
      "                ('consumption', 'LiI', 0) :     0 :   0.0 :  None : False : False : NonNegativeReals\n",
      "      ('consumption', 'LiI_discharge', 0) :     0 :   0.0 :  None : False : False : NonNegativeReals\n",
      "                ('consumption', 'PEM', 0) :     0 :   0.0 :  None : False : False : NonNegativeReals\n",
      "                 ('consumption', 'PV', 0) :     0 :   0.0 :  None : False : False : NonNegativeReals\n",
      "               ('consumption', 'SMRH', 0) :     0 :   0.0 :  None : False : False : NonNegativeReals\n",
      "                 ('consumption', 'WF', 0) :     0 :   0.0 :  None : False : False : NonNegativeReals\n",
      "               ('generation', 'AqOff', 0) :     0 :   0.0 :  None : False : False : NonNegativeReals\n",
      "             ('generation', 'H2_Comp', 0) :     0 :   0.0 :  None : False : False : NonNegativeReals\n",
      "                 ('generation', 'LiI', 0) :     0 :   0.0 :  None : False : False : NonNegativeReals\n",
      "       ('generation', 'LiI_discharge', 0) :     0 :   0.0 :  None : False : False : NonNegativeReals\n",
      "                 ('generation', 'PEM', 0) :     0 :   0.0 :  None : False : False : NonNegativeReals\n",
      "                  ('generation', 'PV', 0) :     0 :   0.0 :  None : False : False : NonNegativeReals\n",
      "                ('generation', 'SMRH', 0) :     0 :   0.0 :  None : False : False : NonNegativeReals\n",
      "                  ('generation', 'WF', 0) :     0 :   0.0 :  None : False : False : NonNegativeReals\n",
      "               ('production', 'AqOff', 0) :     0 :   0.0 :  None : False : False : NonNegativeReals\n",
      "             ('production', 'H2_Comp', 0) :     0 :   0.0 :  None : False : False : NonNegativeReals\n",
      "                 ('production', 'LiI', 0) :     0 :   0.0 :  None : False : False : NonNegativeReals\n",
      "       ('production', 'LiI_discharge', 0) :     0 :   0.0 :  None : False : False : NonNegativeReals\n",
      "                 ('production', 'PEM', 0) :     0 :   0.0 :  None : False : False : NonNegativeReals\n",
      "                  ('production', 'PV', 0) :     0 :   0.0 :  None : False : False : NonNegativeReals\n",
      "                ('production', 'SMRH', 0) :     0 :   0.0 :  None : False : False : NonNegativeReals\n",
      "                  ('production', 'WF', 0) :     0 :   0.0 :  None : False : False : NonNegativeReals\n",
      "            ('sequestration', 'AqOff', 0) :     0 :   0.0 :  None : False : False : NonNegativeReals\n",
      "          ('sequestration', 'H2_Comp', 0) :     0 :   0.0 :  None : False : False : NonNegativeReals\n",
      "              ('sequestration', 'LiI', 0) :     0 :   0.0 :  None : False : False : NonNegativeReals\n",
      "    ('sequestration', 'LiI_discharge', 0) :     0 :   0.0 :  None : False : False : NonNegativeReals\n",
      "              ('sequestration', 'PEM', 0) :     0 :   0.0 :  None : False : False : NonNegativeReals\n",
      "               ('sequestration', 'PV', 0) :     0 :   0.0 :  None : False : False : NonNegativeReals\n",
      "             ('sequestration', 'SMRH', 0) :     0 :   0.0 :  None : False : False : NonNegativeReals\n",
      "               ('sequestration', 'WF', 0) :     0 :   0.0 :  None : False : False : NonNegativeReals\n"
     ]
    }
   ],
   "source": [
    "milp_cost.Fopex_process.pprint()"
   ]
  },
  {
   "cell_type": "code",
   "execution_count": null,
   "metadata": {},
   "outputs": [
    {
     "name": "stdout",
     "output_type": "stream",
     "text": [
      "Trans_imp : Resource imported through transport mode\n",
      "    Size=108, Index=Trans_imp_index\n",
      "    Key                                                           : Lower : Value             : Upper : Fixed : Stale : Domain\n",
      "            ('consumption', 'generation', 'CO2', 'Grid', 0, 0, 0) :     0 :              -0.0 :  None : False : False : NonNegativeReals\n",
      "            ('consumption', 'generation', 'CO2', 'Grid', 0, 0, 1) :     0 :              -0.0 :  None : False : False : NonNegativeReals\n",
      "          ('consumption', 'generation', 'CO2', 'carbon', 0, 0, 0) :     0 :               0.0 :  None : False : False : NonNegativeReals\n",
      "          ('consumption', 'generation', 'CO2', 'carbon', 0, 0, 1) :     0 :               0.0 :  None : False : False : NonNegativeReals\n",
      "        ('consumption', 'generation', 'CO2', 'hydrogen', 0, 0, 0) :     0 :               0.0 :  None : False : False : NonNegativeReals\n",
      "        ('consumption', 'generation', 'CO2', 'hydrogen', 0, 0, 1) :     0 :               0.0 :  None : False : False : NonNegativeReals\n",
      "             ('consumption', 'generation', 'H2', 'Grid', 0, 0, 0) :     0 :               0.0 :  None : False : False : NonNegativeReals\n",
      "             ('consumption', 'generation', 'H2', 'Grid', 0, 0, 1) :     0 :               0.0 :  None : False : False : NonNegativeReals\n",
      "           ('consumption', 'generation', 'H2', 'carbon', 0, 0, 0) :     0 :               0.0 :  None : False : False : NonNegativeReals\n",
      "           ('consumption', 'generation', 'H2', 'carbon', 0, 0, 1) :     0 :               0.0 :  None : False : False : NonNegativeReals\n",
      "         ('consumption', 'generation', 'H2', 'hydrogen', 0, 0, 0) :     0 :               0.0 :  None : False : False : NonNegativeReals\n",
      "         ('consumption', 'generation', 'H2', 'hydrogen', 0, 0, 1) :     0 :               0.0 :  None : False : False : NonNegativeReals\n",
      "          ('consumption', 'generation', 'Power', 'Grid', 0, 0, 0) :     0 :          0.114258 :  None : False : False : NonNegativeReals\n",
      "          ('consumption', 'generation', 'Power', 'Grid', 0, 0, 1) :     0 :          0.114258 :  None : False : False : NonNegativeReals\n",
      "        ('consumption', 'generation', 'Power', 'carbon', 0, 0, 0) :     0 :               0.0 :  None : False : False : NonNegativeReals\n",
      "        ('consumption', 'generation', 'Power', 'carbon', 0, 0, 1) :     0 :               0.0 :  None : False : False : NonNegativeReals\n",
      "      ('consumption', 'generation', 'Power', 'hydrogen', 0, 0, 0) :     0 :               0.0 :  None : False : False : NonNegativeReals\n",
      "      ('consumption', 'generation', 'Power', 'hydrogen', 0, 0, 1) :     0 :               0.0 :  None : False : False : NonNegativeReals\n",
      "            ('consumption', 'production', 'CO2', 'Grid', 0, 0, 0) :     0 :               0.0 :  None : False : False : NonNegativeReals\n",
      "            ('consumption', 'production', 'CO2', 'Grid', 0, 0, 1) :     0 :               0.0 :  None : False : False : NonNegativeReals\n",
      "          ('consumption', 'production', 'CO2', 'carbon', 0, 0, 0) :     0 :               0.0 :  None : False : False : NonNegativeReals\n",
      "          ('consumption', 'production', 'CO2', 'carbon', 0, 0, 1) :     0 :               0.0 :  None : False : False : NonNegativeReals\n",
      "        ('consumption', 'production', 'CO2', 'hydrogen', 0, 0, 0) :     0 :              -0.0 :  None : False : False : NonNegativeReals\n",
      "        ('consumption', 'production', 'CO2', 'hydrogen', 0, 0, 1) :     0 :              -0.0 :  None : False : False : NonNegativeReals\n",
      "             ('consumption', 'production', 'H2', 'Grid', 0, 0, 0) :     0 :               0.0 :  None : False : False : NonNegativeReals\n",
      "             ('consumption', 'production', 'H2', 'Grid', 0, 0, 1) :     0 :               0.0 :  None : False : False : NonNegativeReals\n",
      "           ('consumption', 'production', 'H2', 'carbon', 0, 0, 0) :     0 :               0.0 :  None : False : False : NonNegativeReals\n",
      "           ('consumption', 'production', 'H2', 'carbon', 0, 0, 1) :     0 :               0.0 :  None : False : False : NonNegativeReals\n",
      "         ('consumption', 'production', 'H2', 'hydrogen', 0, 0, 0) :     0 :             0.274 :  None : False : False : NonNegativeReals\n",
      "         ('consumption', 'production', 'H2', 'hydrogen', 0, 0, 1) :     0 :             0.274 :  None : False : False : NonNegativeReals\n",
      "          ('consumption', 'production', 'Power', 'Grid', 0, 0, 0) :     0 :               0.0 :  None : False : False : NonNegativeReals\n",
      "          ('consumption', 'production', 'Power', 'Grid', 0, 0, 1) :     0 :               0.0 :  None : False : False : NonNegativeReals\n",
      "        ('consumption', 'production', 'Power', 'carbon', 0, 0, 0) :     0 :               0.0 :  None : False : False : NonNegativeReals\n",
      "        ('consumption', 'production', 'Power', 'carbon', 0, 0, 1) :     0 :               0.0 :  None : False : False : NonNegativeReals\n",
      "      ('consumption', 'production', 'Power', 'hydrogen', 0, 0, 0) :     0 :               0.0 :  None : False : False : NonNegativeReals\n",
      "      ('consumption', 'production', 'Power', 'hydrogen', 0, 0, 1) :     0 :               0.0 :  None : False : False : NonNegativeReals\n",
      "             ('production', 'generation', 'CO2', 'Grid', 0, 0, 0) :     0 :               0.0 :  None : False : False : NonNegativeReals\n",
      "             ('production', 'generation', 'CO2', 'Grid', 0, 0, 1) :     0 :               0.0 :  None : False : False : NonNegativeReals\n",
      "           ('production', 'generation', 'CO2', 'carbon', 0, 0, 0) :     0 :               0.0 :  None : False : False : NonNegativeReals\n",
      "           ('production', 'generation', 'CO2', 'carbon', 0, 0, 1) :     0 :               0.0 :  None : False : False : NonNegativeReals\n",
      "         ('production', 'generation', 'CO2', 'hydrogen', 0, 0, 0) :     0 :               0.0 :  None : False : False : NonNegativeReals\n",
      "         ('production', 'generation', 'CO2', 'hydrogen', 0, 0, 1) :     0 :               0.0 :  None : False : False : NonNegativeReals\n",
      "              ('production', 'generation', 'H2', 'Grid', 0, 0, 0) :     0 :               0.0 :  None : False : False : NonNegativeReals\n",
      "              ('production', 'generation', 'H2', 'Grid', 0, 0, 1) :     0 :               0.0 :  None : False : False : NonNegativeReals\n",
      "            ('production', 'generation', 'H2', 'carbon', 0, 0, 0) :     0 :               0.0 :  None : False : False : NonNegativeReals\n",
      "            ('production', 'generation', 'H2', 'carbon', 0, 0, 1) :     0 :               0.0 :  None : False : False : NonNegativeReals\n",
      "          ('production', 'generation', 'H2', 'hydrogen', 0, 0, 0) :     0 :               0.0 :  None : False : False : NonNegativeReals\n",
      "          ('production', 'generation', 'H2', 'hydrogen', 0, 0, 1) :     0 :               0.0 :  None : False : False : NonNegativeReals\n",
      "           ('production', 'generation', 'Power', 'Grid', 0, 0, 0) :     0 : 0.774667797568561 :  None : False : False : NonNegativeReals\n",
      "           ('production', 'generation', 'Power', 'Grid', 0, 0, 1) :     0 : 0.774667797568561 :  None : False : False : NonNegativeReals\n",
      "         ('production', 'generation', 'Power', 'carbon', 0, 0, 0) :     0 :               0.0 :  None : False : False : NonNegativeReals\n",
      "         ('production', 'generation', 'Power', 'carbon', 0, 0, 1) :     0 :               0.0 :  None : False : False : NonNegativeReals\n",
      "       ('production', 'generation', 'Power', 'hydrogen', 0, 0, 0) :     0 :               0.0 :  None : False : False : NonNegativeReals\n",
      "       ('production', 'generation', 'Power', 'hydrogen', 0, 0, 1) :     0 :               0.0 :  None : False : False : NonNegativeReals\n",
      "             ('production', 'production', 'CO2', 'Grid', 0, 0, 0) :     0 :               0.0 :  None : False : False : NonNegativeReals\n",
      "             ('production', 'production', 'CO2', 'Grid', 0, 0, 1) :     0 :               0.0 :  None : False : False : NonNegativeReals\n",
      "           ('production', 'production', 'CO2', 'carbon', 0, 0, 0) :     0 :               0.0 :  None : False : False : NonNegativeReals\n",
      "           ('production', 'production', 'CO2', 'carbon', 0, 0, 1) :     0 :               0.0 :  None : False : False : NonNegativeReals\n",
      "         ('production', 'production', 'CO2', 'hydrogen', 0, 0, 0) :     0 :               0.0 :  None : False : False : NonNegativeReals\n",
      "         ('production', 'production', 'CO2', 'hydrogen', 0, 0, 1) :     0 :               0.0 :  None : False : False : NonNegativeReals\n",
      "              ('production', 'production', 'H2', 'Grid', 0, 0, 0) :     0 :               0.0 :  None : False : False : NonNegativeReals\n",
      "              ('production', 'production', 'H2', 'Grid', 0, 0, 1) :     0 :               0.0 :  None : False : False : NonNegativeReals\n",
      "            ('production', 'production', 'H2', 'carbon', 0, 0, 0) :     0 :               0.0 :  None : False : False : NonNegativeReals\n",
      "            ('production', 'production', 'H2', 'carbon', 0, 0, 1) :     0 :               0.0 :  None : False : False : NonNegativeReals\n",
      "          ('production', 'production', 'H2', 'hydrogen', 0, 0, 0) :     0 :               0.0 :  None : False : False : NonNegativeReals\n",
      "          ('production', 'production', 'H2', 'hydrogen', 0, 0, 1) :     0 :               0.0 :  None : False : False : NonNegativeReals\n",
      "           ('production', 'production', 'Power', 'Grid', 0, 0, 0) :     0 :               0.0 :  None : False : False : NonNegativeReals\n",
      "           ('production', 'production', 'Power', 'Grid', 0, 0, 1) :     0 :               0.0 :  None : False : False : NonNegativeReals\n",
      "         ('production', 'production', 'Power', 'carbon', 0, 0, 0) :     0 :               0.0 :  None : False : False : NonNegativeReals\n",
      "         ('production', 'production', 'Power', 'carbon', 0, 0, 1) :     0 :               0.0 :  None : False : False : NonNegativeReals\n",
      "       ('production', 'production', 'Power', 'hydrogen', 0, 0, 0) :     0 :               0.0 :  None : False : False : NonNegativeReals\n",
      "       ('production', 'production', 'Power', 'hydrogen', 0, 0, 1) :     0 :               0.0 :  None : False : False : NonNegativeReals\n",
      "          ('sequestration', 'generation', 'CO2', 'Grid', 0, 0, 0) :     0 :               0.0 :  None : False : False : NonNegativeReals\n",
      "          ('sequestration', 'generation', 'CO2', 'Grid', 0, 0, 1) :     0 :               0.0 :  None : False : False : NonNegativeReals\n",
      "        ('sequestration', 'generation', 'CO2', 'carbon', 0, 0, 0) :     0 :               0.0 :  None : False : False : NonNegativeReals\n",
      "        ('sequestration', 'generation', 'CO2', 'carbon', 0, 0, 1) :     0 :               0.0 :  None : False : False : NonNegativeReals\n",
      "      ('sequestration', 'generation', 'CO2', 'hydrogen', 0, 0, 0) :     0 :               0.0 :  None : False : False : NonNegativeReals\n",
      "      ('sequestration', 'generation', 'CO2', 'hydrogen', 0, 0, 1) :     0 :               0.0 :  None : False : False : NonNegativeReals\n",
      "           ('sequestration', 'generation', 'H2', 'Grid', 0, 0, 0) :     0 :              -0.0 :  None : False : False : NonNegativeReals\n",
      "           ('sequestration', 'generation', 'H2', 'Grid', 0, 0, 1) :     0 :              -0.0 :  None : False : False : NonNegativeReals\n",
      "         ('sequestration', 'generation', 'H2', 'carbon', 0, 0, 0) :     0 :               0.0 :  None : False : False : NonNegativeReals\n",
      "         ('sequestration', 'generation', 'H2', 'carbon', 0, 0, 1) :     0 :               0.0 :  None : False : False : NonNegativeReals\n",
      "       ('sequestration', 'generation', 'H2', 'hydrogen', 0, 0, 0) :     0 :               0.0 :  None : False : False : NonNegativeReals\n",
      "       ('sequestration', 'generation', 'H2', 'hydrogen', 0, 0, 1) :     0 :               0.0 :  None : False : False : NonNegativeReals\n",
      "        ('sequestration', 'generation', 'Power', 'Grid', 0, 0, 0) :     0 :               0.0 :  None : False : False : NonNegativeReals\n",
      "        ('sequestration', 'generation', 'Power', 'Grid', 0, 0, 1) :     0 :               0.0 :  None : False : False : NonNegativeReals\n",
      "      ('sequestration', 'generation', 'Power', 'carbon', 0, 0, 0) :     0 :               0.0 :  None : False : False : NonNegativeReals\n",
      "      ('sequestration', 'generation', 'Power', 'carbon', 0, 0, 1) :     0 :               0.0 :  None : False : False : NonNegativeReals\n",
      "    ('sequestration', 'generation', 'Power', 'hydrogen', 0, 0, 0) :     0 :               0.0 :  None : False : False : NonNegativeReals\n",
      "    ('sequestration', 'generation', 'Power', 'hydrogen', 0, 0, 1) :     0 :               0.0 :  None : False : False : NonNegativeReals\n",
      "          ('sequestration', 'production', 'CO2', 'Grid', 0, 0, 0) :     0 :               0.0 :  None : False : False : NonNegativeReals\n",
      "          ('sequestration', 'production', 'CO2', 'Grid', 0, 0, 1) :     0 :               0.0 :  None : False : False : NonNegativeReals\n",
      "        ('sequestration', 'production', 'CO2', 'carbon', 0, 0, 0) :     0 :               0.0 :  None : False : False : NonNegativeReals\n",
      "        ('sequestration', 'production', 'CO2', 'carbon', 0, 0, 1) :     0 :               0.0 :  None : False : False : NonNegativeReals\n",
      "      ('sequestration', 'production', 'CO2', 'hydrogen', 0, 0, 0) :     0 :               0.0 :  None : False : False : NonNegativeReals\n",
      "      ('sequestration', 'production', 'CO2', 'hydrogen', 0, 0, 1) :     0 :               0.0 :  None : False : False : NonNegativeReals\n",
      "           ('sequestration', 'production', 'H2', 'Grid', 0, 0, 0) :     0 :               0.0 :  None : False : False : NonNegativeReals\n",
      "           ('sequestration', 'production', 'H2', 'Grid', 0, 0, 1) :     0 :               0.0 :  None : False : False : NonNegativeReals\n",
      "         ('sequestration', 'production', 'H2', 'carbon', 0, 0, 0) :     0 :              -0.0 :  None : False : False : NonNegativeReals\n",
      "         ('sequestration', 'production', 'H2', 'carbon', 0, 0, 1) :     0 :              -0.0 :  None : False : False : NonNegativeReals\n",
      "       ('sequestration', 'production', 'H2', 'hydrogen', 0, 0, 0) :     0 :               0.0 :  None : False : False : NonNegativeReals\n",
      "       ('sequestration', 'production', 'H2', 'hydrogen', 0, 0, 1) :     0 :               0.0 :  None : False : False : NonNegativeReals\n",
      "        ('sequestration', 'production', 'Power', 'Grid', 0, 0, 0) :     0 :               0.0 :  None : False : False : NonNegativeReals\n",
      "        ('sequestration', 'production', 'Power', 'Grid', 0, 0, 1) :     0 :               0.0 :  None : False : False : NonNegativeReals\n",
      "      ('sequestration', 'production', 'Power', 'carbon', 0, 0, 0) :     0 :               0.0 :  None : False : False : NonNegativeReals\n",
      "      ('sequestration', 'production', 'Power', 'carbon', 0, 0, 1) :     0 :               0.0 :  None : False : False : NonNegativeReals\n",
      "    ('sequestration', 'production', 'Power', 'hydrogen', 0, 0, 0) :     0 :               0.0 :  None : False : False : NonNegativeReals\n",
      "    ('sequestration', 'production', 'Power', 'hydrogen', 0, 0, 1) :     0 :               0.0 :  None : False : False : NonNegativeReals\n"
     ]
    }
   ],
   "source": [
    "milp_cost.Trans_imp.pprint()"
   ]
  },
  {
   "cell_type": "code",
   "execution_count": null,
   "metadata": {},
   "outputs": [],
   "source": [
    "# scenario.transport_resource_avail_dict"
   ]
  },
  {
   "cell_type": "code",
   "execution_count": null,
   "metadata": {},
   "outputs": [],
   "source": [
    "# scenario.transport_resource_avail_dict[('generation', 'production')].keys()"
   ]
  },
  {
   "cell_type": "code",
   "execution_count": null,
   "metadata": {},
   "outputs": [
    {
     "name": "stdout",
     "output_type": "stream",
     "text": [
      "constraint_transport_export : export of resource from source to sink\n",
      "    Size=36, Index=constraint_transport_export_index, Active=True\n",
      "    Key                                               : Lower : Body                                                                                               : Upper : Active\n",
      "        ('generation', 'consumption', 'CO2', 0, 0, 0) :   0.0 :           Exp[generation,consumption,CO2,0,0,0] - Trans_exp[generation,consumption,CO2,Grid,0,0,0] :   0.0 :   True\n",
      "        ('generation', 'consumption', 'CO2', 0, 0, 1) :   0.0 :           Exp[generation,consumption,CO2,0,0,1] - Trans_exp[generation,consumption,CO2,Grid,0,0,1] :   0.0 :   True\n",
      "         ('generation', 'consumption', 'H2', 0, 0, 0) :   0.0 :             Exp[generation,consumption,H2,0,0,0] - Trans_exp[generation,consumption,H2,Grid,0,0,0] :   0.0 :   True\n",
      "         ('generation', 'consumption', 'H2', 0, 0, 1) :   0.0 :             Exp[generation,consumption,H2,0,0,1] - Trans_exp[generation,consumption,H2,Grid,0,0,1] :   0.0 :   True\n",
      "      ('generation', 'consumption', 'Power', 0, 0, 0) :   0.0 :       Exp[generation,consumption,Power,0,0,0] - Trans_exp[generation,consumption,Power,Grid,0,0,0] :   0.0 :   True\n",
      "      ('generation', 'consumption', 'Power', 0, 0, 1) :   0.0 :       Exp[generation,consumption,Power,0,0,1] - Trans_exp[generation,consumption,Power,Grid,0,0,1] :   0.0 :   True\n",
      "         ('generation', 'production', 'CO2', 0, 0, 0) :   0.0 :             Exp[generation,production,CO2,0,0,0] - Trans_exp[generation,production,CO2,Grid,0,0,0] :   0.0 :   True\n",
      "         ('generation', 'production', 'CO2', 0, 0, 1) :   0.0 :             Exp[generation,production,CO2,0,0,1] - Trans_exp[generation,production,CO2,Grid,0,0,1] :   0.0 :   True\n",
      "          ('generation', 'production', 'H2', 0, 0, 0) :   0.0 :               Exp[generation,production,H2,0,0,0] - Trans_exp[generation,production,H2,Grid,0,0,0] :   0.0 :   True\n",
      "          ('generation', 'production', 'H2', 0, 0, 1) :   0.0 :               Exp[generation,production,H2,0,0,1] - Trans_exp[generation,production,H2,Grid,0,0,1] :   0.0 :   True\n",
      "       ('generation', 'production', 'Power', 0, 0, 0) :   0.0 :         Exp[generation,production,Power,0,0,0] - Trans_exp[generation,production,Power,Grid,0,0,0] :   0.0 :   True\n",
      "       ('generation', 'production', 'Power', 0, 0, 1) :   0.0 :         Exp[generation,production,Power,0,0,1] - Trans_exp[generation,production,Power,Grid,0,0,1] :   0.0 :   True\n",
      "      ('generation', 'sequestration', 'CO2', 0, 0, 0) :   0.0 :       Exp[generation,sequestration,CO2,0,0,0] - Trans_exp[generation,sequestration,CO2,Grid,0,0,0] :   0.0 :   True\n",
      "      ('generation', 'sequestration', 'CO2', 0, 0, 1) :   0.0 :       Exp[generation,sequestration,CO2,0,0,1] - Trans_exp[generation,sequestration,CO2,Grid,0,0,1] :   0.0 :   True\n",
      "       ('generation', 'sequestration', 'H2', 0, 0, 0) :   0.0 :         Exp[generation,sequestration,H2,0,0,0] - Trans_exp[generation,sequestration,H2,Grid,0,0,0] :   0.0 :   True\n",
      "       ('generation', 'sequestration', 'H2', 0, 0, 1) :   0.0 :         Exp[generation,sequestration,H2,0,0,1] - Trans_exp[generation,sequestration,H2,Grid,0,0,1] :   0.0 :   True\n",
      "    ('generation', 'sequestration', 'Power', 0, 0, 0) :   0.0 :   Exp[generation,sequestration,Power,0,0,0] - Trans_exp[generation,sequestration,Power,Grid,0,0,0] :   0.0 :   True\n",
      "    ('generation', 'sequestration', 'Power', 0, 0, 1) :   0.0 :   Exp[generation,sequestration,Power,0,0,1] - Trans_exp[generation,sequestration,Power,Grid,0,0,1] :   0.0 :   True\n",
      "        ('production', 'consumption', 'CO2', 0, 0, 0) :   0.0 :       Exp[production,consumption,CO2,0,0,0] - Trans_exp[production,consumption,CO2,hydrogen,0,0,0] :   0.0 :   True\n",
      "        ('production', 'consumption', 'CO2', 0, 0, 1) :   0.0 :       Exp[production,consumption,CO2,0,0,1] - Trans_exp[production,consumption,CO2,hydrogen,0,0,1] :   0.0 :   True\n",
      "         ('production', 'consumption', 'H2', 0, 0, 0) :   0.0 :         Exp[production,consumption,H2,0,0,0] - Trans_exp[production,consumption,H2,hydrogen,0,0,0] :   0.0 :   True\n",
      "         ('production', 'consumption', 'H2', 0, 0, 1) :   0.0 :         Exp[production,consumption,H2,0,0,1] - Trans_exp[production,consumption,H2,hydrogen,0,0,1] :   0.0 :   True\n",
      "      ('production', 'consumption', 'Power', 0, 0, 0) :   0.0 :   Exp[production,consumption,Power,0,0,0] - Trans_exp[production,consumption,Power,hydrogen,0,0,0] :   0.0 :   True\n",
      "      ('production', 'consumption', 'Power', 0, 0, 1) :   0.0 :   Exp[production,consumption,Power,0,0,1] - Trans_exp[production,consumption,Power,hydrogen,0,0,1] :   0.0 :   True\n",
      "         ('production', 'production', 'CO2', 0, 0, 0) :   0.0 :                                                               Exp[production,production,CO2,0,0,0] :   0.0 :   True\n",
      "         ('production', 'production', 'CO2', 0, 0, 1) :   0.0 :                                                               Exp[production,production,CO2,0,0,1] :   0.0 :   True\n",
      "          ('production', 'production', 'H2', 0, 0, 0) :   0.0 :                                                                Exp[production,production,H2,0,0,0] :   0.0 :   True\n",
      "          ('production', 'production', 'H2', 0, 0, 1) :   0.0 :                                                                Exp[production,production,H2,0,0,1] :   0.0 :   True\n",
      "       ('production', 'production', 'Power', 0, 0, 0) :   0.0 :                                                             Exp[production,production,Power,0,0,0] :   0.0 :   True\n",
      "       ('production', 'production', 'Power', 0, 0, 1) :   0.0 :                                                             Exp[production,production,Power,0,0,1] :   0.0 :   True\n",
      "      ('production', 'sequestration', 'CO2', 0, 0, 0) :   0.0 :     Exp[production,sequestration,CO2,0,0,0] - Trans_exp[production,sequestration,CO2,carbon,0,0,0] :   0.0 :   True\n",
      "      ('production', 'sequestration', 'CO2', 0, 0, 1) :   0.0 :     Exp[production,sequestration,CO2,0,0,1] - Trans_exp[production,sequestration,CO2,carbon,0,0,1] :   0.0 :   True\n",
      "       ('production', 'sequestration', 'H2', 0, 0, 0) :   0.0 :       Exp[production,sequestration,H2,0,0,0] - Trans_exp[production,sequestration,H2,carbon,0,0,0] :   0.0 :   True\n",
      "       ('production', 'sequestration', 'H2', 0, 0, 1) :   0.0 :       Exp[production,sequestration,H2,0,0,1] - Trans_exp[production,sequestration,H2,carbon,0,0,1] :   0.0 :   True\n",
      "    ('production', 'sequestration', 'Power', 0, 0, 0) :   0.0 : Exp[production,sequestration,Power,0,0,0] - Trans_exp[production,sequestration,Power,carbon,0,0,0] :   0.0 :   True\n",
      "    ('production', 'sequestration', 'Power', 0, 0, 1) :   0.0 : Exp[production,sequestration,Power,0,0,1] - Trans_exp[production,sequestration,Power,carbon,0,0,1] :   0.0 :   True\n"
     ]
    }
   ],
   "source": [
    "milp_cost.constraint_transport_export.pprint()"
   ]
  },
  {
   "cell_type": "code",
   "execution_count": null,
   "metadata": {},
   "outputs": [
    {
     "name": "stdout",
     "output_type": "stream",
     "text": [
      "constraint_transport_import : import of resource from sink to source\n",
      "    Size=36, Index=constraint_transport_import_index, Active=True\n",
      "    Key                                               : Lower : Body                                                                                               : Upper : Active\n",
      "        ('consumption', 'generation', 'CO2', 0, 0, 0) :   0.0 :           Imp[consumption,generation,CO2,0,0,0] - Trans_imp[consumption,generation,CO2,Grid,0,0,0] :   0.0 :   True\n",
      "        ('consumption', 'generation', 'CO2', 0, 0, 1) :   0.0 :           Imp[consumption,generation,CO2,0,0,1] - Trans_imp[consumption,generation,CO2,Grid,0,0,1] :   0.0 :   True\n",
      "         ('consumption', 'generation', 'H2', 0, 0, 0) :   0.0 :             Imp[consumption,generation,H2,0,0,0] - Trans_imp[consumption,generation,H2,Grid,0,0,0] :   0.0 :   True\n",
      "         ('consumption', 'generation', 'H2', 0, 0, 1) :   0.0 :             Imp[consumption,generation,H2,0,0,1] - Trans_imp[consumption,generation,H2,Grid,0,0,1] :   0.0 :   True\n",
      "      ('consumption', 'generation', 'Power', 0, 0, 0) :   0.0 :       Imp[consumption,generation,Power,0,0,0] - Trans_imp[consumption,generation,Power,Grid,0,0,0] :   0.0 :   True\n",
      "      ('consumption', 'generation', 'Power', 0, 0, 1) :   0.0 :       Imp[consumption,generation,Power,0,0,1] - Trans_imp[consumption,generation,Power,Grid,0,0,1] :   0.0 :   True\n",
      "        ('consumption', 'production', 'CO2', 0, 0, 0) :   0.0 :       Imp[consumption,production,CO2,0,0,0] - Trans_imp[consumption,production,CO2,hydrogen,0,0,0] :   0.0 :   True\n",
      "        ('consumption', 'production', 'CO2', 0, 0, 1) :   0.0 :       Imp[consumption,production,CO2,0,0,1] - Trans_imp[consumption,production,CO2,hydrogen,0,0,1] :   0.0 :   True\n",
      "         ('consumption', 'production', 'H2', 0, 0, 0) :   0.0 :         Imp[consumption,production,H2,0,0,0] - Trans_imp[consumption,production,H2,hydrogen,0,0,0] :   0.0 :   True\n",
      "         ('consumption', 'production', 'H2', 0, 0, 1) :   0.0 :         Imp[consumption,production,H2,0,0,1] - Trans_imp[consumption,production,H2,hydrogen,0,0,1] :   0.0 :   True\n",
      "      ('consumption', 'production', 'Power', 0, 0, 0) :   0.0 :   Imp[consumption,production,Power,0,0,0] - Trans_imp[consumption,production,Power,hydrogen,0,0,0] :   0.0 :   True\n",
      "      ('consumption', 'production', 'Power', 0, 0, 1) :   0.0 :   Imp[consumption,production,Power,0,0,1] - Trans_imp[consumption,production,Power,hydrogen,0,0,1] :   0.0 :   True\n",
      "         ('production', 'generation', 'CO2', 0, 0, 0) :   0.0 :             Imp[production,generation,CO2,0,0,0] - Trans_imp[production,generation,CO2,Grid,0,0,0] :   0.0 :   True\n",
      "         ('production', 'generation', 'CO2', 0, 0, 1) :   0.0 :             Imp[production,generation,CO2,0,0,1] - Trans_imp[production,generation,CO2,Grid,0,0,1] :   0.0 :   True\n",
      "          ('production', 'generation', 'H2', 0, 0, 0) :   0.0 :               Imp[production,generation,H2,0,0,0] - Trans_imp[production,generation,H2,Grid,0,0,0] :   0.0 :   True\n",
      "          ('production', 'generation', 'H2', 0, 0, 1) :   0.0 :               Imp[production,generation,H2,0,0,1] - Trans_imp[production,generation,H2,Grid,0,0,1] :   0.0 :   True\n",
      "       ('production', 'generation', 'Power', 0, 0, 0) :   0.0 :         Imp[production,generation,Power,0,0,0] - Trans_imp[production,generation,Power,Grid,0,0,0] :   0.0 :   True\n",
      "       ('production', 'generation', 'Power', 0, 0, 1) :   0.0 :         Imp[production,generation,Power,0,0,1] - Trans_imp[production,generation,Power,Grid,0,0,1] :   0.0 :   True\n",
      "         ('production', 'production', 'CO2', 0, 0, 0) :   0.0 :                                                               Imp[production,production,CO2,0,0,0] :   0.0 :   True\n",
      "         ('production', 'production', 'CO2', 0, 0, 1) :   0.0 :                                                               Imp[production,production,CO2,0,0,1] :   0.0 :   True\n",
      "          ('production', 'production', 'H2', 0, 0, 0) :   0.0 :                                                                Imp[production,production,H2,0,0,0] :   0.0 :   True\n",
      "          ('production', 'production', 'H2', 0, 0, 1) :   0.0 :                                                                Imp[production,production,H2,0,0,1] :   0.0 :   True\n",
      "       ('production', 'production', 'Power', 0, 0, 0) :   0.0 :                                                             Imp[production,production,Power,0,0,0] :   0.0 :   True\n",
      "       ('production', 'production', 'Power', 0, 0, 1) :   0.0 :                                                             Imp[production,production,Power,0,0,1] :   0.0 :   True\n",
      "      ('sequestration', 'generation', 'CO2', 0, 0, 0) :   0.0 :       Imp[sequestration,generation,CO2,0,0,0] - Trans_imp[sequestration,generation,CO2,Grid,0,0,0] :   0.0 :   True\n",
      "      ('sequestration', 'generation', 'CO2', 0, 0, 1) :   0.0 :       Imp[sequestration,generation,CO2,0,0,1] - Trans_imp[sequestration,generation,CO2,Grid,0,0,1] :   0.0 :   True\n",
      "       ('sequestration', 'generation', 'H2', 0, 0, 0) :   0.0 :         Imp[sequestration,generation,H2,0,0,0] - Trans_imp[sequestration,generation,H2,Grid,0,0,0] :   0.0 :   True\n",
      "       ('sequestration', 'generation', 'H2', 0, 0, 1) :   0.0 :         Imp[sequestration,generation,H2,0,0,1] - Trans_imp[sequestration,generation,H2,Grid,0,0,1] :   0.0 :   True\n",
      "    ('sequestration', 'generation', 'Power', 0, 0, 0) :   0.0 :   Imp[sequestration,generation,Power,0,0,0] - Trans_imp[sequestration,generation,Power,Grid,0,0,0] :   0.0 :   True\n",
      "    ('sequestration', 'generation', 'Power', 0, 0, 1) :   0.0 :   Imp[sequestration,generation,Power,0,0,1] - Trans_imp[sequestration,generation,Power,Grid,0,0,1] :   0.0 :   True\n",
      "      ('sequestration', 'production', 'CO2', 0, 0, 0) :   0.0 :     Imp[sequestration,production,CO2,0,0,0] - Trans_imp[sequestration,production,CO2,carbon,0,0,0] :   0.0 :   True\n",
      "      ('sequestration', 'production', 'CO2', 0, 0, 1) :   0.0 :     Imp[sequestration,production,CO2,0,0,1] - Trans_imp[sequestration,production,CO2,carbon,0,0,1] :   0.0 :   True\n",
      "       ('sequestration', 'production', 'H2', 0, 0, 0) :   0.0 :       Imp[sequestration,production,H2,0,0,0] - Trans_imp[sequestration,production,H2,carbon,0,0,0] :   0.0 :   True\n",
      "       ('sequestration', 'production', 'H2', 0, 0, 1) :   0.0 :       Imp[sequestration,production,H2,0,0,1] - Trans_imp[sequestration,production,H2,carbon,0,0,1] :   0.0 :   True\n",
      "    ('sequestration', 'production', 'Power', 0, 0, 0) :   0.0 : Imp[sequestration,production,Power,0,0,0] - Trans_imp[sequestration,production,Power,carbon,0,0,0] :   0.0 :   True\n",
      "    ('sequestration', 'production', 'Power', 0, 0, 1) :   0.0 : Imp[sequestration,production,Power,0,0,1] - Trans_imp[sequestration,production,Power,carbon,0,0,1] :   0.0 :   True\n"
     ]
    }
   ],
   "source": [
    "milp_cost.constraint_transport_import.pprint()"
   ]
  },
  {
   "cell_type": "code",
   "execution_count": null,
   "metadata": {},
   "outputs": [
    {
     "name": "stdout",
     "output_type": "stream",
     "text": [
      "constraint_inventory_balance : mass balance across scheduling scale\n",
      "    Size=96, Index=constraint_inventory_balance_index, Active=True\n",
      "    Key                                            : Lower : Body                                                                                                                                                                                                                                                                                                                                                                                                            : Upper : Active\n",
      "                   ('consumption', 'CH4', 0, 0, 0) :   0.0 :                                                                                              0*P_m[consumption,AqOff,0,0,0,0] + 0*P_m[consumption,H2_Comp,0,0,0,0] + 0*P_m[consumption,LiI,0,0,0,0] + 0*P_m[consumption,LiI_discharge,0,0,0,0] + 0*P_m[consumption,PEM,0,0,0,0] + 0*P_m[consumption,PV,0,0,0,0] - 3.76*P_m[consumption,SMRH,0,0,0,0] + 0*P_m[consumption,WF,0,0,0,0] + C[consumption,CH4,0,0,0] :   0.0 :   True\n",
      "                   ('consumption', 'CH4', 0, 0, 1) :   0.0 :                                                                                              0*P_m[consumption,AqOff,0,0,0,1] + 0*P_m[consumption,H2_Comp,0,0,0,1] + 0*P_m[consumption,LiI,0,0,0,1] + 0*P_m[consumption,LiI_discharge,0,0,0,1] + 0*P_m[consumption,PEM,0,0,0,1] + 0*P_m[consumption,PV,0,0,0,1] - 3.76*P_m[consumption,SMRH,0,0,0,1] + 0*P_m[consumption,WF,0,0,0,1] + C[consumption,CH4,0,0,1] :   0.0 :   True\n",
      "                   ('consumption', 'CO2', 0, 0, 0) :   0.0 :                                        - P_m[consumption,AqOff,0,0,0,0] + 0*P_m[consumption,H2_Comp,0,0,0,0] + 0*P_m[consumption,LiI,0,0,0,0] + 0*P_m[consumption,LiI_discharge,0,0,0,0] + 0*P_m[consumption,PEM,0,0,0,0] + 0*P_m[consumption,PV,0,0,0,0] + 9.332*P_m[consumption,SMRH,0,0,0,0] + 0*P_m[consumption,WF,0,0,0,0] + Imp[consumption,generation,CO2,0,0,0] + Imp[consumption,production,CO2,0,0,0] :   0.0 :   True\n",
      "                   ('consumption', 'CO2', 0, 0, 1) :   0.0 :                                        - P_m[consumption,AqOff,0,0,0,1] + 0*P_m[consumption,H2_Comp,0,0,0,1] + 0*P_m[consumption,LiI,0,0,0,1] + 0*P_m[consumption,LiI_discharge,0,0,0,1] + 0*P_m[consumption,PEM,0,0,0,1] + 0*P_m[consumption,PV,0,0,0,1] + 9.332*P_m[consumption,SMRH,0,0,0,1] + 0*P_m[consumption,WF,0,0,0,1] + Imp[consumption,generation,CO2,0,0,1] + Imp[consumption,production,CO2,0,0,1] :   0.0 :   True\n",
      "             ('consumption', 'CO2_AQoff', 0, 0, 0) :   0.0 :                                                                                        0.95*P_m[consumption,AqOff,0,0,0,0] + 0*P_m[consumption,H2_Comp,0,0,0,0] + 0*P_m[consumption,LiI,0,0,0,0] + 0*P_m[consumption,LiI_discharge,0,0,0,0] + 0*P_m[consumption,PEM,0,0,0,0] + 0*P_m[consumption,PV,0,0,0,0] + 0*P_m[consumption,SMRH,0,0,0,0] + 0*P_m[consumption,WF,0,0,0,0] - S[consumption,CO2_AQoff,0,0,0] :   0.0 :   True\n",
      "             ('consumption', 'CO2_AQoff', 0, 0, 1) :   0.0 :                                                                                        0.95*P_m[consumption,AqOff,0,0,0,1] + 0*P_m[consumption,H2_Comp,0,0,0,1] + 0*P_m[consumption,LiI,0,0,0,1] + 0*P_m[consumption,LiI_discharge,0,0,0,1] + 0*P_m[consumption,PEM,0,0,0,1] + 0*P_m[consumption,PV,0,0,0,1] + 0*P_m[consumption,SMRH,0,0,0,1] + 0*P_m[consumption,WF,0,0,0,1] - S[consumption,CO2_AQoff,0,0,1] :   0.0 :   True\n",
      "              ('consumption', 'CO2_Vent', 0, 0, 0) :   0.0 :                                                                                         0*P_m[consumption,AqOff,0,0,0,0] + 0*P_m[consumption,H2_Comp,0,0,0,0] + 0*P_m[consumption,LiI,0,0,0,0] + 0*P_m[consumption,LiI_discharge,0,0,0,0] + 0*P_m[consumption,PEM,0,0,0,0] + 0*P_m[consumption,PV,0,0,0,0] + 1.03*P_m[consumption,SMRH,0,0,0,0] + 0*P_m[consumption,WF,0,0,0,0] - S[consumption,CO2_Vent,0,0,0] :   0.0 :   True\n",
      "              ('consumption', 'CO2_Vent', 0, 0, 1) :   0.0 :                                                                                         0*P_m[consumption,AqOff,0,0,0,1] + 0*P_m[consumption,H2_Comp,0,0,0,1] + 0*P_m[consumption,LiI,0,0,0,1] + 0*P_m[consumption,LiI_discharge,0,0,0,1] + 0*P_m[consumption,PEM,0,0,0,1] + 0*P_m[consumption,PV,0,0,0,1] + 1.03*P_m[consumption,SMRH,0,0,0,1] + 0*P_m[consumption,WF,0,0,0,1] - S[consumption,CO2_Vent,0,0,1] :   0.0 :   True\n",
      "                    ('consumption', 'H2', 0, 0, 0) :   0.0 :                                             0*P_m[consumption,AqOff,0,0,0,0] - P_m[consumption,H2_Comp,0,0,0,0] + 0*P_m[consumption,LiI,0,0,0,0] + 0*P_m[consumption,LiI_discharge,0,0,0,0] + 0.3537*P_m[consumption,PEM,0,0,0,0] + 0*P_m[consumption,PV,0,0,0,0] + P_m[consumption,SMRH,0,0,0,0] + 0*P_m[consumption,WF,0,0,0,0] + Imp[consumption,generation,H2,0,0,0] + Imp[consumption,production,H2,0,0,0] :   0.0 :   True\n",
      "                    ('consumption', 'H2', 0, 0, 1) :   0.0 :                                             0*P_m[consumption,AqOff,0,0,0,1] - P_m[consumption,H2_Comp,0,0,0,1] + 0*P_m[consumption,LiI,0,0,0,1] + 0*P_m[consumption,LiI_discharge,0,0,0,1] + 0.3537*P_m[consumption,PEM,0,0,0,1] + 0*P_m[consumption,PV,0,0,0,1] + P_m[consumption,SMRH,0,0,0,1] + 0*P_m[consumption,WF,0,0,0,1] + Imp[consumption,generation,H2,0,0,1] + Imp[consumption,production,H2,0,0,1] :   0.0 :   True\n",
      "                 ('consumption', 'H2(C)', 0, 0, 0) :   0.0 :                                                                                               0*P_m[consumption,AqOff,0,0,0,0] + P_m[consumption,H2_Comp,0,0,0,0] + 0*P_m[consumption,LiI,0,0,0,0] + 0*P_m[consumption,LiI_discharge,0,0,0,0] + 0*P_m[consumption,PEM,0,0,0,0] + 0*P_m[consumption,PV,0,0,0,0] + 0*P_m[consumption,SMRH,0,0,0,0] + 0*P_m[consumption,WF,0,0,0,0] - S[consumption,'H2(C)',0,0,0] :   0.0 :   True\n",
      "                 ('consumption', 'H2(C)', 0, 0, 1) :   0.0 :                                                                                               0*P_m[consumption,AqOff,0,0,0,1] + P_m[consumption,H2_Comp,0,0,0,1] + 0*P_m[consumption,LiI,0,0,0,1] + 0*P_m[consumption,LiI_discharge,0,0,0,1] + 0*P_m[consumption,PEM,0,0,0,1] + 0*P_m[consumption,PV,0,0,0,1] + 0*P_m[consumption,SMRH,0,0,0,1] + 0*P_m[consumption,WF,0,0,0,1] - S[consumption,'H2(C)',0,0,1] :   0.0 :   True\n",
      "                   ('consumption', 'H2O', 0, 0, 0) :   0.0 :                                                                                         0*P_m[consumption,AqOff,0,0,0,0] + 0*P_m[consumption,H2_Comp,0,0,0,0] + 0*P_m[consumption,LiI,0,0,0,0] + 0*P_m[consumption,LiI_discharge,0,0,0,0] - 3.1839*P_m[consumption,PEM,0,0,0,0] + 0*P_m[consumption,PV,0,0,0,0] - 23.7*P_m[consumption,SMRH,0,0,0,0] + 0*P_m[consumption,WF,0,0,0,0] + C[consumption,H2O,0,0,0] :   0.0 :   True\n",
      "                   ('consumption', 'H2O', 0, 0, 1) :   0.0 :                                                                                         0*P_m[consumption,AqOff,0,0,0,1] + 0*P_m[consumption,H2_Comp,0,0,0,1] + 0*P_m[consumption,LiI,0,0,0,1] + 0*P_m[consumption,LiI_discharge,0,0,0,1] - 3.1839*P_m[consumption,PEM,0,0,0,1] + 0*P_m[consumption,PV,0,0,0,1] - 23.7*P_m[consumption,SMRH,0,0,0,1] + 0*P_m[consumption,WF,0,0,0,1] + C[consumption,H2O,0,0,1] :   0.0 :   True\n",
      "      ('consumption', 'LiI_Power_stored', 0, 0, 0) :   0.0 :                                                                                      0*P_m[consumption,AqOff,0,0,0,0] + 0*P_m[consumption,H2_Comp,0,0,0,0] + P_m[consumption,LiI,0,0,0,0] - P_m[consumption,LiI_discharge,0,0,0,0] + 0*P_m[consumption,PEM,0,0,0,0] + 0*P_m[consumption,PV,0,0,0,0] + 0*P_m[consumption,SMRH,0,0,0,0] + 0*P_m[consumption,WF,0,0,0,0] - Inv[consumption,LiI_Power_stored,0,0,0] :   0.0 :   True\n",
      "      ('consumption', 'LiI_Power_stored', 0, 0, 1) :   0.0 :                                          0*P_m[consumption,AqOff,0,0,0,1] + 0*P_m[consumption,H2_Comp,0,0,0,1] + P_m[consumption,LiI,0,0,0,1] - P_m[consumption,LiI_discharge,0,0,0,1] + 0*P_m[consumption,PEM,0,0,0,1] + 0*P_m[consumption,PV,0,0,0,1] + 0*P_m[consumption,SMRH,0,0,0,1] + 0*P_m[consumption,WF,0,0,0,1] - (Inv[consumption,LiI_Power_stored,0,0,1] - Inv[consumption,LiI_Power_stored,0,0,0]) :   0.0 :   True\n",
      "                    ('consumption', 'O2', 0, 0, 0) :   0.0 :                                                                                             0*P_m[consumption,AqOff,0,0,0,0] + 0*P_m[consumption,H2_Comp,0,0,0,0] + 0*P_m[consumption,LiI,0,0,0,0] + 0*P_m[consumption,LiI_discharge,0,0,0,0] + 2.8302*P_m[consumption,PEM,0,0,0,0] + 0*P_m[consumption,PV,0,0,0,0] + 0*P_m[consumption,SMRH,0,0,0,0] + 0*P_m[consumption,WF,0,0,0,0] - S[consumption,O2,0,0,0] :   0.0 :   True\n",
      "                    ('consumption', 'O2', 0, 0, 1) :   0.0 :                                                                                             0*P_m[consumption,AqOff,0,0,0,1] + 0*P_m[consumption,H2_Comp,0,0,0,1] + 0*P_m[consumption,LiI,0,0,0,1] + 0*P_m[consumption,LiI_discharge,0,0,0,1] + 2.8302*P_m[consumption,PEM,0,0,0,1] + 0*P_m[consumption,PV,0,0,0,1] + 0*P_m[consumption,SMRH,0,0,0,1] + 0*P_m[consumption,WF,0,0,0,1] - S[consumption,O2,0,0,1] :   0.0 :   True\n",
      "                 ('consumption', 'Power', 0, 0, 0) :   0.0 :                                        -1.5*P_m[consumption,AqOff,0,0,0,0] - 0.417*P_m[consumption,H2_Comp,0,0,0,0] - P_m[consumption,LiI,0,0,0,0] + P_m[consumption,LiI_discharge,0,0,0,0] - P_m[consumption,PEM,0,0,0,0] + P_m[consumption,PV,0,0,0,0] - 1.11*P_m[consumption,SMRH,0,0,0,0] + P_m[consumption,WF,0,0,0,0] + Imp[consumption,generation,Power,0,0,0] + Imp[consumption,production,Power,0,0,0] :   0.0 :   True\n",
      "                 ('consumption', 'Power', 0, 0, 1) :   0.0 :                                        -1.5*P_m[consumption,AqOff,0,0,0,1] - 0.417*P_m[consumption,H2_Comp,0,0,0,1] - P_m[consumption,LiI,0,0,0,1] + P_m[consumption,LiI_discharge,0,0,0,1] - P_m[consumption,PEM,0,0,0,1] + P_m[consumption,PV,0,0,0,1] - 1.11*P_m[consumption,SMRH,0,0,0,1] + P_m[consumption,WF,0,0,0,1] + Imp[consumption,generation,Power,0,0,1] + Imp[consumption,production,Power,0,0,1] :   0.0 :   True\n",
      "                 ('consumption', 'Solar', 0, 0, 0) :   0.0 :                                                                                                 0*P_m[consumption,AqOff,0,0,0,0] + 0*P_m[consumption,H2_Comp,0,0,0,0] + 0*P_m[consumption,LiI,0,0,0,0] + 0*P_m[consumption,LiI_discharge,0,0,0,0] + 0*P_m[consumption,PEM,0,0,0,0] - P_m[consumption,PV,0,0,0,0] + 0*P_m[consumption,SMRH,0,0,0,0] + 0*P_m[consumption,WF,0,0,0,0] + C[consumption,Solar,0,0,0] :   0.0 :   True\n",
      "                 ('consumption', 'Solar', 0, 0, 1) :   0.0 :                                                                                                 0*P_m[consumption,AqOff,0,0,0,1] + 0*P_m[consumption,H2_Comp,0,0,0,1] + 0*P_m[consumption,LiI,0,0,0,1] + 0*P_m[consumption,LiI_discharge,0,0,0,1] + 0*P_m[consumption,PEM,0,0,0,1] - P_m[consumption,PV,0,0,0,1] + 0*P_m[consumption,SMRH,0,0,0,1] + 0*P_m[consumption,WF,0,0,0,1] + C[consumption,Solar,0,0,1] :   0.0 :   True\n",
      "                  ('consumption', 'Wind', 0, 0, 0) :   0.0 :                                                                                                  0*P_m[consumption,AqOff,0,0,0,0] + 0*P_m[consumption,H2_Comp,0,0,0,0] + 0*P_m[consumption,LiI,0,0,0,0] + 0*P_m[consumption,LiI_discharge,0,0,0,0] + 0*P_m[consumption,PEM,0,0,0,0] + 0*P_m[consumption,PV,0,0,0,0] + 0*P_m[consumption,SMRH,0,0,0,0] - P_m[consumption,WF,0,0,0,0] + C[consumption,Wind,0,0,0] :   0.0 :   True\n",
      "                  ('consumption', 'Wind', 0, 0, 1) :   0.0 :                                                                                                  0*P_m[consumption,AqOff,0,0,0,1] + 0*P_m[consumption,H2_Comp,0,0,0,1] + 0*P_m[consumption,LiI,0,0,0,1] + 0*P_m[consumption,LiI_discharge,0,0,0,1] + 0*P_m[consumption,PEM,0,0,0,1] + 0*P_m[consumption,PV,0,0,0,1] + 0*P_m[consumption,SMRH,0,0,0,1] - P_m[consumption,WF,0,0,0,1] + C[consumption,Wind,0,0,1] :   0.0 :   True\n",
      "                    ('generation', 'CH4', 0, 0, 0) :   0.0 :                                                                                                       0*P_m[generation,AqOff,0,0,0,0] + 0*P_m[generation,H2_Comp,0,0,0,0] + 0*P_m[generation,LiI,0,0,0,0] + 0*P_m[generation,LiI_discharge,0,0,0,0] + 0*P_m[generation,PEM,0,0,0,0] + 0*P_m[generation,PV,0,0,0,0] - 3.76*P_m[generation,SMRH,0,0,0,0] + 0*P_m[generation,WF,0,0,0,0] + C[generation,CH4,0,0,0] :   0.0 :   True\n",
      "                    ('generation', 'CH4', 0, 0, 1) :   0.0 :                                                                                                       0*P_m[generation,AqOff,0,0,0,1] + 0*P_m[generation,H2_Comp,0,0,0,1] + 0*P_m[generation,LiI,0,0,0,1] + 0*P_m[generation,LiI_discharge,0,0,0,1] + 0*P_m[generation,PEM,0,0,0,1] + 0*P_m[generation,PV,0,0,0,1] - 3.76*P_m[generation,SMRH,0,0,0,1] + 0*P_m[generation,WF,0,0,0,1] + C[generation,CH4,0,0,1] :   0.0 :   True\n",
      "                    ('generation', 'CO2', 0, 0, 0) :   0.0 :     - P_m[generation,AqOff,0,0,0,0] + 0*P_m[generation,H2_Comp,0,0,0,0] + 0*P_m[generation,LiI,0,0,0,0] + 0*P_m[generation,LiI_discharge,0,0,0,0] + 0*P_m[generation,PEM,0,0,0,0] + 0*P_m[generation,PV,0,0,0,0] + 9.332*P_m[generation,SMRH,0,0,0,0] + 0*P_m[generation,WF,0,0,0,0] - (Exp[generation,consumption,CO2,0,0,0] + Exp[generation,production,CO2,0,0,0] + Exp[generation,sequestration,CO2,0,0,0]) :   0.0 :   True\n",
      "                    ('generation', 'CO2', 0, 0, 1) :   0.0 :     - P_m[generation,AqOff,0,0,0,1] + 0*P_m[generation,H2_Comp,0,0,0,1] + 0*P_m[generation,LiI,0,0,0,1] + 0*P_m[generation,LiI_discharge,0,0,0,1] + 0*P_m[generation,PEM,0,0,0,1] + 0*P_m[generation,PV,0,0,0,1] + 9.332*P_m[generation,SMRH,0,0,0,1] + 0*P_m[generation,WF,0,0,0,1] - (Exp[generation,consumption,CO2,0,0,1] + Exp[generation,production,CO2,0,0,1] + Exp[generation,sequestration,CO2,0,0,1]) :   0.0 :   True\n",
      "              ('generation', 'CO2_AQoff', 0, 0, 0) :   0.0 :                                                                                                 0.95*P_m[generation,AqOff,0,0,0,0] + 0*P_m[generation,H2_Comp,0,0,0,0] + 0*P_m[generation,LiI,0,0,0,0] + 0*P_m[generation,LiI_discharge,0,0,0,0] + 0*P_m[generation,PEM,0,0,0,0] + 0*P_m[generation,PV,0,0,0,0] + 0*P_m[generation,SMRH,0,0,0,0] + 0*P_m[generation,WF,0,0,0,0] - S[generation,CO2_AQoff,0,0,0] :   0.0 :   True\n",
      "              ('generation', 'CO2_AQoff', 0, 0, 1) :   0.0 :                                                                                                 0.95*P_m[generation,AqOff,0,0,0,1] + 0*P_m[generation,H2_Comp,0,0,0,1] + 0*P_m[generation,LiI,0,0,0,1] + 0*P_m[generation,LiI_discharge,0,0,0,1] + 0*P_m[generation,PEM,0,0,0,1] + 0*P_m[generation,PV,0,0,0,1] + 0*P_m[generation,SMRH,0,0,0,1] + 0*P_m[generation,WF,0,0,0,1] - S[generation,CO2_AQoff,0,0,1] :   0.0 :   True\n",
      "               ('generation', 'CO2_Vent', 0, 0, 0) :   0.0 :                                                                                                  0*P_m[generation,AqOff,0,0,0,0] + 0*P_m[generation,H2_Comp,0,0,0,0] + 0*P_m[generation,LiI,0,0,0,0] + 0*P_m[generation,LiI_discharge,0,0,0,0] + 0*P_m[generation,PEM,0,0,0,0] + 0*P_m[generation,PV,0,0,0,0] + 1.03*P_m[generation,SMRH,0,0,0,0] + 0*P_m[generation,WF,0,0,0,0] - S[generation,CO2_Vent,0,0,0] :   0.0 :   True\n",
      "               ('generation', 'CO2_Vent', 0, 0, 1) :   0.0 :                                                                                                  0*P_m[generation,AqOff,0,0,0,1] + 0*P_m[generation,H2_Comp,0,0,0,1] + 0*P_m[generation,LiI,0,0,0,1] + 0*P_m[generation,LiI_discharge,0,0,0,1] + 0*P_m[generation,PEM,0,0,0,1] + 0*P_m[generation,PV,0,0,0,1] + 1.03*P_m[generation,SMRH,0,0,0,1] + 0*P_m[generation,WF,0,0,0,1] - S[generation,CO2_Vent,0,0,1] :   0.0 :   True\n",
      "                     ('generation', 'H2', 0, 0, 0) :   0.0 :           0*P_m[generation,AqOff,0,0,0,0] - P_m[generation,H2_Comp,0,0,0,0] + 0*P_m[generation,LiI,0,0,0,0] + 0*P_m[generation,LiI_discharge,0,0,0,0] + 0.3537*P_m[generation,PEM,0,0,0,0] + 0*P_m[generation,PV,0,0,0,0] + P_m[generation,SMRH,0,0,0,0] + 0*P_m[generation,WF,0,0,0,0] - (Exp[generation,consumption,H2,0,0,0] + Exp[generation,production,H2,0,0,0] + Exp[generation,sequestration,H2,0,0,0]) :   0.0 :   True\n",
      "                     ('generation', 'H2', 0, 0, 1) :   0.0 :           0*P_m[generation,AqOff,0,0,0,1] - P_m[generation,H2_Comp,0,0,0,1] + 0*P_m[generation,LiI,0,0,0,1] + 0*P_m[generation,LiI_discharge,0,0,0,1] + 0.3537*P_m[generation,PEM,0,0,0,1] + 0*P_m[generation,PV,0,0,0,1] + P_m[generation,SMRH,0,0,0,1] + 0*P_m[generation,WF,0,0,0,1] - (Exp[generation,consumption,H2,0,0,1] + Exp[generation,production,H2,0,0,1] + Exp[generation,sequestration,H2,0,0,1]) :   0.0 :   True\n",
      "                  ('generation', 'H2(C)', 0, 0, 0) :   0.0 :                                                                                                        0*P_m[generation,AqOff,0,0,0,0] + P_m[generation,H2_Comp,0,0,0,0] + 0*P_m[generation,LiI,0,0,0,0] + 0*P_m[generation,LiI_discharge,0,0,0,0] + 0*P_m[generation,PEM,0,0,0,0] + 0*P_m[generation,PV,0,0,0,0] + 0*P_m[generation,SMRH,0,0,0,0] + 0*P_m[generation,WF,0,0,0,0] - S[generation,'H2(C)',0,0,0] :   0.0 :   True\n",
      "                  ('generation', 'H2(C)', 0, 0, 1) :   0.0 :                                                                                                        0*P_m[generation,AqOff,0,0,0,1] + P_m[generation,H2_Comp,0,0,0,1] + 0*P_m[generation,LiI,0,0,0,1] + 0*P_m[generation,LiI_discharge,0,0,0,1] + 0*P_m[generation,PEM,0,0,0,1] + 0*P_m[generation,PV,0,0,0,1] + 0*P_m[generation,SMRH,0,0,0,1] + 0*P_m[generation,WF,0,0,0,1] - S[generation,'H2(C)',0,0,1] :   0.0 :   True\n",
      "                    ('generation', 'H2O', 0, 0, 0) :   0.0 :                                                                                                  0*P_m[generation,AqOff,0,0,0,0] + 0*P_m[generation,H2_Comp,0,0,0,0] + 0*P_m[generation,LiI,0,0,0,0] + 0*P_m[generation,LiI_discharge,0,0,0,0] - 3.1839*P_m[generation,PEM,0,0,0,0] + 0*P_m[generation,PV,0,0,0,0] - 23.7*P_m[generation,SMRH,0,0,0,0] + 0*P_m[generation,WF,0,0,0,0] + C[generation,H2O,0,0,0] :   0.0 :   True\n",
      "                    ('generation', 'H2O', 0, 0, 1) :   0.0 :                                                                                                  0*P_m[generation,AqOff,0,0,0,1] + 0*P_m[generation,H2_Comp,0,0,0,1] + 0*P_m[generation,LiI,0,0,0,1] + 0*P_m[generation,LiI_discharge,0,0,0,1] - 3.1839*P_m[generation,PEM,0,0,0,1] + 0*P_m[generation,PV,0,0,0,1] - 23.7*P_m[generation,SMRH,0,0,0,1] + 0*P_m[generation,WF,0,0,0,1] + C[generation,H2O,0,0,1] :   0.0 :   True\n",
      "       ('generation', 'LiI_Power_stored', 0, 0, 0) :   0.0 :                                                                                        0*P_m[generation,AqOff,0,0,0,0] + 0*P_m[generation,H2_Comp,0,0,0,0] + P_m[generation,LiI,0,0,0,0] - P_m[generation,LiI_discharge,0,0,0,0] + 0*P_m[generation,PEM,0,0,0,0] + 0*P_m[generation,PV,0,0,0,0] + 0*P_m[generation,SMRH,0,0,0,0] + 0*P_m[generation,WF,0,0,0,0] - (Inv[generation,LiI_Power_stored,0,0,0] - 23) :   0.0 :   True\n",
      "       ('generation', 'LiI_Power_stored', 0, 0, 1) :   0.0 :                                                    0*P_m[generation,AqOff,0,0,0,1] + 0*P_m[generation,H2_Comp,0,0,0,1] + P_m[generation,LiI,0,0,0,1] - P_m[generation,LiI_discharge,0,0,0,1] + 0*P_m[generation,PEM,0,0,0,1] + 0*P_m[generation,PV,0,0,0,1] + 0*P_m[generation,SMRH,0,0,0,1] + 0*P_m[generation,WF,0,0,0,1] - (Inv[generation,LiI_Power_stored,0,0,1] - Inv[generation,LiI_Power_stored,0,0,0]) :   0.0 :   True\n",
      "                     ('generation', 'O2', 0, 0, 0) :   0.0 :                                                                                                      0*P_m[generation,AqOff,0,0,0,0] + 0*P_m[generation,H2_Comp,0,0,0,0] + 0*P_m[generation,LiI,0,0,0,0] + 0*P_m[generation,LiI_discharge,0,0,0,0] + 2.8302*P_m[generation,PEM,0,0,0,0] + 0*P_m[generation,PV,0,0,0,0] + 0*P_m[generation,SMRH,0,0,0,0] + 0*P_m[generation,WF,0,0,0,0] - S[generation,O2,0,0,0] :   0.0 :   True\n",
      "                     ('generation', 'O2', 0, 0, 1) :   0.0 :                                                                                                      0*P_m[generation,AqOff,0,0,0,1] + 0*P_m[generation,H2_Comp,0,0,0,1] + 0*P_m[generation,LiI,0,0,0,1] + 0*P_m[generation,LiI_discharge,0,0,0,1] + 2.8302*P_m[generation,PEM,0,0,0,1] + 0*P_m[generation,PV,0,0,0,1] + 0*P_m[generation,SMRH,0,0,0,1] + 0*P_m[generation,WF,0,0,0,1] - S[generation,O2,0,0,1] :   0.0 :   True\n",
      "                  ('generation', 'Power', 0, 0, 0) :   0.0 :   -1.5*P_m[generation,AqOff,0,0,0,0] - 0.417*P_m[generation,H2_Comp,0,0,0,0] - P_m[generation,LiI,0,0,0,0] + P_m[generation,LiI_discharge,0,0,0,0] - P_m[generation,PEM,0,0,0,0] + P_m[generation,PV,0,0,0,0] - 1.11*P_m[generation,SMRH,0,0,0,0] + P_m[generation,WF,0,0,0,0] - (Exp[generation,consumption,Power,0,0,0] + Exp[generation,production,Power,0,0,0] + Exp[generation,sequestration,Power,0,0,0]) :   0.0 :   True\n",
      "                  ('generation', 'Power', 0, 0, 1) :   0.0 :   -1.5*P_m[generation,AqOff,0,0,0,1] - 0.417*P_m[generation,H2_Comp,0,0,0,1] - P_m[generation,LiI,0,0,0,1] + P_m[generation,LiI_discharge,0,0,0,1] - P_m[generation,PEM,0,0,0,1] + P_m[generation,PV,0,0,0,1] - 1.11*P_m[generation,SMRH,0,0,0,1] + P_m[generation,WF,0,0,0,1] - (Exp[generation,consumption,Power,0,0,1] + Exp[generation,production,Power,0,0,1] + Exp[generation,sequestration,Power,0,0,1]) :   0.0 :   True\n",
      "                  ('generation', 'Solar', 0, 0, 0) :   0.0 :                                                                                                          0*P_m[generation,AqOff,0,0,0,0] + 0*P_m[generation,H2_Comp,0,0,0,0] + 0*P_m[generation,LiI,0,0,0,0] + 0*P_m[generation,LiI_discharge,0,0,0,0] + 0*P_m[generation,PEM,0,0,0,0] - P_m[generation,PV,0,0,0,0] + 0*P_m[generation,SMRH,0,0,0,0] + 0*P_m[generation,WF,0,0,0,0] + C[generation,Solar,0,0,0] :   0.0 :   True\n",
      "                  ('generation', 'Solar', 0, 0, 1) :   0.0 :                                                                                                          0*P_m[generation,AqOff,0,0,0,1] + 0*P_m[generation,H2_Comp,0,0,0,1] + 0*P_m[generation,LiI,0,0,0,1] + 0*P_m[generation,LiI_discharge,0,0,0,1] + 0*P_m[generation,PEM,0,0,0,1] - P_m[generation,PV,0,0,0,1] + 0*P_m[generation,SMRH,0,0,0,1] + 0*P_m[generation,WF,0,0,0,1] + C[generation,Solar,0,0,1] :   0.0 :   True\n",
      "                   ('generation', 'Wind', 0, 0, 0) :   0.0 :                                                                                                           0*P_m[generation,AqOff,0,0,0,0] + 0*P_m[generation,H2_Comp,0,0,0,0] + 0*P_m[generation,LiI,0,0,0,0] + 0*P_m[generation,LiI_discharge,0,0,0,0] + 0*P_m[generation,PEM,0,0,0,0] + 0*P_m[generation,PV,0,0,0,0] + 0*P_m[generation,SMRH,0,0,0,0] - P_m[generation,WF,0,0,0,0] + C[generation,Wind,0,0,0] :   0.0 :   True\n",
      "                   ('generation', 'Wind', 0, 0, 1) :   0.0 :                                                                                                           0*P_m[generation,AqOff,0,0,0,1] + 0*P_m[generation,H2_Comp,0,0,0,1] + 0*P_m[generation,LiI,0,0,0,1] + 0*P_m[generation,LiI_discharge,0,0,0,1] + 0*P_m[generation,PEM,0,0,0,1] + 0*P_m[generation,PV,0,0,0,1] + 0*P_m[generation,SMRH,0,0,0,1] - P_m[generation,WF,0,0,0,1] + C[generation,Wind,0,0,1] :   0.0 :   True\n",
      "                    ('production', 'CH4', 0, 0, 0) :   0.0 :                                                                                                       0*P_m[production,AqOff,0,0,0,0] + 0*P_m[production,H2_Comp,0,0,0,0] + 0*P_m[production,LiI,0,0,0,0] + 0*P_m[production,LiI_discharge,0,0,0,0] + 0*P_m[production,PEM,0,0,0,0] + 0*P_m[production,PV,0,0,0,0] - 3.76*P_m[production,SMRH,0,0,0,0] + 0*P_m[production,WF,0,0,0,0] + C[production,CH4,0,0,0] :   0.0 :   True\n",
      "                    ('production', 'CH4', 0, 0, 1) :   0.0 :                                                                                                       0*P_m[production,AqOff,0,0,0,1] + 0*P_m[production,H2_Comp,0,0,0,1] + 0*P_m[production,LiI,0,0,0,1] + 0*P_m[production,LiI_discharge,0,0,0,1] + 0*P_m[production,PEM,0,0,0,1] + 0*P_m[production,PV,0,0,0,1] - 3.76*P_m[production,SMRH,0,0,0,1] + 0*P_m[production,WF,0,0,0,1] + C[production,CH4,0,0,1] :   0.0 :   True\n",
      "                    ('production', 'CO2', 0, 0, 0) :   0.0 :   Imp[production,generation,CO2,0,0,0] - (Exp[production,consumption,CO2,0,0,0] + Exp[production,sequestration,CO2,0,0,0]) + (- P_m[production,AqOff,0,0,0,0] + 0*P_m[production,H2_Comp,0,0,0,0] + 0*P_m[production,LiI,0,0,0,0] + 0*P_m[production,LiI_discharge,0,0,0,0] + 0*P_m[production,PEM,0,0,0,0] + 0*P_m[production,PV,0,0,0,0] + 9.332*P_m[production,SMRH,0,0,0,0] + 0*P_m[production,WF,0,0,0,0]) :   0.0 :   True\n",
      "                    ('production', 'CO2', 0, 0, 1) :   0.0 :   Imp[production,generation,CO2,0,0,1] - (Exp[production,consumption,CO2,0,0,1] + Exp[production,sequestration,CO2,0,0,1]) + (- P_m[production,AqOff,0,0,0,1] + 0*P_m[production,H2_Comp,0,0,0,1] + 0*P_m[production,LiI,0,0,0,1] + 0*P_m[production,LiI_discharge,0,0,0,1] + 0*P_m[production,PEM,0,0,0,1] + 0*P_m[production,PV,0,0,0,1] + 9.332*P_m[production,SMRH,0,0,0,1] + 0*P_m[production,WF,0,0,0,1]) :   0.0 :   True\n",
      "              ('production', 'CO2_AQoff', 0, 0, 0) :   0.0 :                                                                                                 0.95*P_m[production,AqOff,0,0,0,0] + 0*P_m[production,H2_Comp,0,0,0,0] + 0*P_m[production,LiI,0,0,0,0] + 0*P_m[production,LiI_discharge,0,0,0,0] + 0*P_m[production,PEM,0,0,0,0] + 0*P_m[production,PV,0,0,0,0] + 0*P_m[production,SMRH,0,0,0,0] + 0*P_m[production,WF,0,0,0,0] - S[production,CO2_AQoff,0,0,0] :   0.0 :   True\n",
      "              ('production', 'CO2_AQoff', 0, 0, 1) :   0.0 :                                                                                                 0.95*P_m[production,AqOff,0,0,0,1] + 0*P_m[production,H2_Comp,0,0,0,1] + 0*P_m[production,LiI,0,0,0,1] + 0*P_m[production,LiI_discharge,0,0,0,1] + 0*P_m[production,PEM,0,0,0,1] + 0*P_m[production,PV,0,0,0,1] + 0*P_m[production,SMRH,0,0,0,1] + 0*P_m[production,WF,0,0,0,1] - S[production,CO2_AQoff,0,0,1] :   0.0 :   True\n",
      "               ('production', 'CO2_Vent', 0, 0, 0) :   0.0 :                                                                                                  0*P_m[production,AqOff,0,0,0,0] + 0*P_m[production,H2_Comp,0,0,0,0] + 0*P_m[production,LiI,0,0,0,0] + 0*P_m[production,LiI_discharge,0,0,0,0] + 0*P_m[production,PEM,0,0,0,0] + 0*P_m[production,PV,0,0,0,0] + 1.03*P_m[production,SMRH,0,0,0,0] + 0*P_m[production,WF,0,0,0,0] - S[production,CO2_Vent,0,0,0] :   0.0 :   True\n",
      "               ('production', 'CO2_Vent', 0, 0, 1) :   0.0 :                                                                                                  0*P_m[production,AqOff,0,0,0,1] + 0*P_m[production,H2_Comp,0,0,0,1] + 0*P_m[production,LiI,0,0,0,1] + 0*P_m[production,LiI_discharge,0,0,0,1] + 0*P_m[production,PEM,0,0,0,1] + 0*P_m[production,PV,0,0,0,1] + 1.03*P_m[production,SMRH,0,0,0,1] + 0*P_m[production,WF,0,0,0,1] - S[production,CO2_Vent,0,0,1] :   0.0 :   True\n",
      "                     ('production', 'H2', 0, 0, 0) :   0.0 :         Imp[production,generation,H2,0,0,0] - (Exp[production,consumption,H2,0,0,0] + Exp[production,sequestration,H2,0,0,0]) + (0*P_m[production,AqOff,0,0,0,0] - P_m[production,H2_Comp,0,0,0,0] + 0*P_m[production,LiI,0,0,0,0] + 0*P_m[production,LiI_discharge,0,0,0,0] + 0.3537*P_m[production,PEM,0,0,0,0] + 0*P_m[production,PV,0,0,0,0] + P_m[production,SMRH,0,0,0,0] + 0*P_m[production,WF,0,0,0,0]) :   0.0 :   True\n",
      "                     ('production', 'H2', 0, 0, 1) :   0.0 :         Imp[production,generation,H2,0,0,1] - (Exp[production,consumption,H2,0,0,1] + Exp[production,sequestration,H2,0,0,1]) + (0*P_m[production,AqOff,0,0,0,1] - P_m[production,H2_Comp,0,0,0,1] + 0*P_m[production,LiI,0,0,0,1] + 0*P_m[production,LiI_discharge,0,0,0,1] + 0.3537*P_m[production,PEM,0,0,0,1] + 0*P_m[production,PV,0,0,0,1] + P_m[production,SMRH,0,0,0,1] + 0*P_m[production,WF,0,0,0,1]) :   0.0 :   True\n",
      "                  ('production', 'H2(C)', 0, 0, 0) :   0.0 :                                                                                                        0*P_m[production,AqOff,0,0,0,0] + P_m[production,H2_Comp,0,0,0,0] + 0*P_m[production,LiI,0,0,0,0] + 0*P_m[production,LiI_discharge,0,0,0,0] + 0*P_m[production,PEM,0,0,0,0] + 0*P_m[production,PV,0,0,0,0] + 0*P_m[production,SMRH,0,0,0,0] + 0*P_m[production,WF,0,0,0,0] - S[production,'H2(C)',0,0,0] :   0.0 :   True\n",
      "                  ('production', 'H2(C)', 0, 0, 1) :   0.0 :                                                                                                        0*P_m[production,AqOff,0,0,0,1] + P_m[production,H2_Comp,0,0,0,1] + 0*P_m[production,LiI,0,0,0,1] + 0*P_m[production,LiI_discharge,0,0,0,1] + 0*P_m[production,PEM,0,0,0,1] + 0*P_m[production,PV,0,0,0,1] + 0*P_m[production,SMRH,0,0,0,1] + 0*P_m[production,WF,0,0,0,1] - S[production,'H2(C)',0,0,1] :   0.0 :   True\n",
      "                    ('production', 'H2O', 0, 0, 0) :   0.0 :                                                                                                  0*P_m[production,AqOff,0,0,0,0] + 0*P_m[production,H2_Comp,0,0,0,0] + 0*P_m[production,LiI,0,0,0,0] + 0*P_m[production,LiI_discharge,0,0,0,0] - 3.1839*P_m[production,PEM,0,0,0,0] + 0*P_m[production,PV,0,0,0,0] - 23.7*P_m[production,SMRH,0,0,0,0] + 0*P_m[production,WF,0,0,0,0] + C[production,H2O,0,0,0] :   0.0 :   True\n",
      "                    ('production', 'H2O', 0, 0, 1) :   0.0 :                                                                                                  0*P_m[production,AqOff,0,0,0,1] + 0*P_m[production,H2_Comp,0,0,0,1] + 0*P_m[production,LiI,0,0,0,1] + 0*P_m[production,LiI_discharge,0,0,0,1] - 3.1839*P_m[production,PEM,0,0,0,1] + 0*P_m[production,PV,0,0,0,1] - 23.7*P_m[production,SMRH,0,0,0,1] + 0*P_m[production,WF,0,0,0,1] + C[production,H2O,0,0,1] :   0.0 :   True\n",
      "       ('production', 'LiI_Power_stored', 0, 0, 0) :   0.0 :                                                                                               0*P_m[production,AqOff,0,0,0,0] + 0*P_m[production,H2_Comp,0,0,0,0] + P_m[production,LiI,0,0,0,0] - P_m[production,LiI_discharge,0,0,0,0] + 0*P_m[production,PEM,0,0,0,0] + 0*P_m[production,PV,0,0,0,0] + 0*P_m[production,SMRH,0,0,0,0] + 0*P_m[production,WF,0,0,0,0] - Inv[production,LiI_Power_stored,0,0,0] :   0.0 :   True\n",
      "       ('production', 'LiI_Power_stored', 0, 0, 1) :   0.0 :                                                    0*P_m[production,AqOff,0,0,0,1] + 0*P_m[production,H2_Comp,0,0,0,1] + P_m[production,LiI,0,0,0,1] - P_m[production,LiI_discharge,0,0,0,1] + 0*P_m[production,PEM,0,0,0,1] + 0*P_m[production,PV,0,0,0,1] + 0*P_m[production,SMRH,0,0,0,1] + 0*P_m[production,WF,0,0,0,1] - (Inv[production,LiI_Power_stored,0,0,1] - Inv[production,LiI_Power_stored,0,0,0]) :   0.0 :   True\n",
      "                     ('production', 'O2', 0, 0, 0) :   0.0 :                                                                                                      0*P_m[production,AqOff,0,0,0,0] + 0*P_m[production,H2_Comp,0,0,0,0] + 0*P_m[production,LiI,0,0,0,0] + 0*P_m[production,LiI_discharge,0,0,0,0] + 2.8302*P_m[production,PEM,0,0,0,0] + 0*P_m[production,PV,0,0,0,0] + 0*P_m[production,SMRH,0,0,0,0] + 0*P_m[production,WF,0,0,0,0] - S[production,O2,0,0,0] :   0.0 :   True\n",
      "                     ('production', 'O2', 0, 0, 1) :   0.0 :                                                                                                      0*P_m[production,AqOff,0,0,0,1] + 0*P_m[production,H2_Comp,0,0,0,1] + 0*P_m[production,LiI,0,0,0,1] + 0*P_m[production,LiI_discharge,0,0,0,1] + 2.8302*P_m[production,PEM,0,0,0,1] + 0*P_m[production,PV,0,0,0,1] + 0*P_m[production,SMRH,0,0,0,1] + 0*P_m[production,WF,0,0,0,1] - S[production,O2,0,0,1] :   0.0 :   True\n",
      "                  ('production', 'Power', 0, 0, 0) :   0.0 : Imp[production,generation,Power,0,0,0] - (Exp[production,consumption,Power,0,0,0] + Exp[production,sequestration,Power,0,0,0]) + (-1.5*P_m[production,AqOff,0,0,0,0] - 0.417*P_m[production,H2_Comp,0,0,0,0] - P_m[production,LiI,0,0,0,0] + P_m[production,LiI_discharge,0,0,0,0] - P_m[production,PEM,0,0,0,0] + P_m[production,PV,0,0,0,0] - 1.11*P_m[production,SMRH,0,0,0,0] + P_m[production,WF,0,0,0,0]) :   0.0 :   True\n",
      "                  ('production', 'Power', 0, 0, 1) :   0.0 : Imp[production,generation,Power,0,0,1] - (Exp[production,consumption,Power,0,0,1] + Exp[production,sequestration,Power,0,0,1]) + (-1.5*P_m[production,AqOff,0,0,0,1] - 0.417*P_m[production,H2_Comp,0,0,0,1] - P_m[production,LiI,0,0,0,1] + P_m[production,LiI_discharge,0,0,0,1] - P_m[production,PEM,0,0,0,1] + P_m[production,PV,0,0,0,1] - 1.11*P_m[production,SMRH,0,0,0,1] + P_m[production,WF,0,0,0,1]) :   0.0 :   True\n",
      "                  ('production', 'Solar', 0, 0, 0) :   0.0 :                                                                                                          0*P_m[production,AqOff,0,0,0,0] + 0*P_m[production,H2_Comp,0,0,0,0] + 0*P_m[production,LiI,0,0,0,0] + 0*P_m[production,LiI_discharge,0,0,0,0] + 0*P_m[production,PEM,0,0,0,0] - P_m[production,PV,0,0,0,0] + 0*P_m[production,SMRH,0,0,0,0] + 0*P_m[production,WF,0,0,0,0] + C[production,Solar,0,0,0] :   0.0 :   True\n",
      "                  ('production', 'Solar', 0, 0, 1) :   0.0 :                                                                                                          0*P_m[production,AqOff,0,0,0,1] + 0*P_m[production,H2_Comp,0,0,0,1] + 0*P_m[production,LiI,0,0,0,1] + 0*P_m[production,LiI_discharge,0,0,0,1] + 0*P_m[production,PEM,0,0,0,1] - P_m[production,PV,0,0,0,1] + 0*P_m[production,SMRH,0,0,0,1] + 0*P_m[production,WF,0,0,0,1] + C[production,Solar,0,0,1] :   0.0 :   True\n",
      "                   ('production', 'Wind', 0, 0, 0) :   0.0 :                                                                                                           0*P_m[production,AqOff,0,0,0,0] + 0*P_m[production,H2_Comp,0,0,0,0] + 0*P_m[production,LiI,0,0,0,0] + 0*P_m[production,LiI_discharge,0,0,0,0] + 0*P_m[production,PEM,0,0,0,0] + 0*P_m[production,PV,0,0,0,0] + 0*P_m[production,SMRH,0,0,0,0] - P_m[production,WF,0,0,0,0] + C[production,Wind,0,0,0] :   0.0 :   True\n",
      "                   ('production', 'Wind', 0, 0, 1) :   0.0 :                                                                                                           0*P_m[production,AqOff,0,0,0,1] + 0*P_m[production,H2_Comp,0,0,0,1] + 0*P_m[production,LiI,0,0,0,1] + 0*P_m[production,LiI_discharge,0,0,0,1] + 0*P_m[production,PEM,0,0,0,1] + 0*P_m[production,PV,0,0,0,1] + 0*P_m[production,SMRH,0,0,0,1] - P_m[production,WF,0,0,0,1] + C[production,Wind,0,0,1] :   0.0 :   True\n",
      "                 ('sequestration', 'CH4', 0, 0, 0) :   0.0 :                                                                            0*P_m[sequestration,AqOff,0,0,0,0] + 0*P_m[sequestration,H2_Comp,0,0,0,0] + 0*P_m[sequestration,LiI,0,0,0,0] + 0*P_m[sequestration,LiI_discharge,0,0,0,0] + 0*P_m[sequestration,PEM,0,0,0,0] + 0*P_m[sequestration,PV,0,0,0,0] - 3.76*P_m[sequestration,SMRH,0,0,0,0] + 0*P_m[sequestration,WF,0,0,0,0] + C[sequestration,CH4,0,0,0] :   0.0 :   True\n",
      "                 ('sequestration', 'CH4', 0, 0, 1) :   0.0 :                                                                            0*P_m[sequestration,AqOff,0,0,0,1] + 0*P_m[sequestration,H2_Comp,0,0,0,1] + 0*P_m[sequestration,LiI,0,0,0,1] + 0*P_m[sequestration,LiI_discharge,0,0,0,1] + 0*P_m[sequestration,PEM,0,0,0,1] + 0*P_m[sequestration,PV,0,0,0,1] - 3.76*P_m[sequestration,SMRH,0,0,0,1] + 0*P_m[sequestration,WF,0,0,0,1] + C[sequestration,CH4,0,0,1] :   0.0 :   True\n",
      "                 ('sequestration', 'CO2', 0, 0, 0) :   0.0 :                    - P_m[sequestration,AqOff,0,0,0,0] + 0*P_m[sequestration,H2_Comp,0,0,0,0] + 0*P_m[sequestration,LiI,0,0,0,0] + 0*P_m[sequestration,LiI_discharge,0,0,0,0] + 0*P_m[sequestration,PEM,0,0,0,0] + 0*P_m[sequestration,PV,0,0,0,0] + 9.332*P_m[sequestration,SMRH,0,0,0,0] + 0*P_m[sequestration,WF,0,0,0,0] + Imp[sequestration,generation,CO2,0,0,0] + Imp[sequestration,production,CO2,0,0,0] :   0.0 :   True\n",
      "                 ('sequestration', 'CO2', 0, 0, 1) :   0.0 :                    - P_m[sequestration,AqOff,0,0,0,1] + 0*P_m[sequestration,H2_Comp,0,0,0,1] + 0*P_m[sequestration,LiI,0,0,0,1] + 0*P_m[sequestration,LiI_discharge,0,0,0,1] + 0*P_m[sequestration,PEM,0,0,0,1] + 0*P_m[sequestration,PV,0,0,0,1] + 9.332*P_m[sequestration,SMRH,0,0,0,1] + 0*P_m[sequestration,WF,0,0,0,1] + Imp[sequestration,generation,CO2,0,0,1] + Imp[sequestration,production,CO2,0,0,1] :   0.0 :   True\n",
      "           ('sequestration', 'CO2_AQoff', 0, 0, 0) :   0.0 :                                                                      0.95*P_m[sequestration,AqOff,0,0,0,0] + 0*P_m[sequestration,H2_Comp,0,0,0,0] + 0*P_m[sequestration,LiI,0,0,0,0] + 0*P_m[sequestration,LiI_discharge,0,0,0,0] + 0*P_m[sequestration,PEM,0,0,0,0] + 0*P_m[sequestration,PV,0,0,0,0] + 0*P_m[sequestration,SMRH,0,0,0,0] + 0*P_m[sequestration,WF,0,0,0,0] - S[sequestration,CO2_AQoff,0,0,0] :   0.0 :   True\n",
      "           ('sequestration', 'CO2_AQoff', 0, 0, 1) :   0.0 :                                                                      0.95*P_m[sequestration,AqOff,0,0,0,1] + 0*P_m[sequestration,H2_Comp,0,0,0,1] + 0*P_m[sequestration,LiI,0,0,0,1] + 0*P_m[sequestration,LiI_discharge,0,0,0,1] + 0*P_m[sequestration,PEM,0,0,0,1] + 0*P_m[sequestration,PV,0,0,0,1] + 0*P_m[sequestration,SMRH,0,0,0,1] + 0*P_m[sequestration,WF,0,0,0,1] - S[sequestration,CO2_AQoff,0,0,1] :   0.0 :   True\n",
      "            ('sequestration', 'CO2_Vent', 0, 0, 0) :   0.0 :                                                                       0*P_m[sequestration,AqOff,0,0,0,0] + 0*P_m[sequestration,H2_Comp,0,0,0,0] + 0*P_m[sequestration,LiI,0,0,0,0] + 0*P_m[sequestration,LiI_discharge,0,0,0,0] + 0*P_m[sequestration,PEM,0,0,0,0] + 0*P_m[sequestration,PV,0,0,0,0] + 1.03*P_m[sequestration,SMRH,0,0,0,0] + 0*P_m[sequestration,WF,0,0,0,0] - S[sequestration,CO2_Vent,0,0,0] :   0.0 :   True\n",
      "            ('sequestration', 'CO2_Vent', 0, 0, 1) :   0.0 :                                                                       0*P_m[sequestration,AqOff,0,0,0,1] + 0*P_m[sequestration,H2_Comp,0,0,0,1] + 0*P_m[sequestration,LiI,0,0,0,1] + 0*P_m[sequestration,LiI_discharge,0,0,0,1] + 0*P_m[sequestration,PEM,0,0,0,1] + 0*P_m[sequestration,PV,0,0,0,1] + 1.03*P_m[sequestration,SMRH,0,0,0,1] + 0*P_m[sequestration,WF,0,0,0,1] - S[sequestration,CO2_Vent,0,0,1] :   0.0 :   True\n",
      "                  ('sequestration', 'H2', 0, 0, 0) :   0.0 :                         0*P_m[sequestration,AqOff,0,0,0,0] - P_m[sequestration,H2_Comp,0,0,0,0] + 0*P_m[sequestration,LiI,0,0,0,0] + 0*P_m[sequestration,LiI_discharge,0,0,0,0] + 0.3537*P_m[sequestration,PEM,0,0,0,0] + 0*P_m[sequestration,PV,0,0,0,0] + P_m[sequestration,SMRH,0,0,0,0] + 0*P_m[sequestration,WF,0,0,0,0] + Imp[sequestration,generation,H2,0,0,0] + Imp[sequestration,production,H2,0,0,0] :   0.0 :   True\n",
      "                  ('sequestration', 'H2', 0, 0, 1) :   0.0 :                         0*P_m[sequestration,AqOff,0,0,0,1] - P_m[sequestration,H2_Comp,0,0,0,1] + 0*P_m[sequestration,LiI,0,0,0,1] + 0*P_m[sequestration,LiI_discharge,0,0,0,1] + 0.3537*P_m[sequestration,PEM,0,0,0,1] + 0*P_m[sequestration,PV,0,0,0,1] + P_m[sequestration,SMRH,0,0,0,1] + 0*P_m[sequestration,WF,0,0,0,1] + Imp[sequestration,generation,H2,0,0,1] + Imp[sequestration,production,H2,0,0,1] :   0.0 :   True\n",
      "               ('sequestration', 'H2(C)', 0, 0, 0) :   0.0 :                                                                             0*P_m[sequestration,AqOff,0,0,0,0] + P_m[sequestration,H2_Comp,0,0,0,0] + 0*P_m[sequestration,LiI,0,0,0,0] + 0*P_m[sequestration,LiI_discharge,0,0,0,0] + 0*P_m[sequestration,PEM,0,0,0,0] + 0*P_m[sequestration,PV,0,0,0,0] + 0*P_m[sequestration,SMRH,0,0,0,0] + 0*P_m[sequestration,WF,0,0,0,0] - S[sequestration,'H2(C)',0,0,0] :   0.0 :   True\n",
      "               ('sequestration', 'H2(C)', 0, 0, 1) :   0.0 :                                                                             0*P_m[sequestration,AqOff,0,0,0,1] + P_m[sequestration,H2_Comp,0,0,0,1] + 0*P_m[sequestration,LiI,0,0,0,1] + 0*P_m[sequestration,LiI_discharge,0,0,0,1] + 0*P_m[sequestration,PEM,0,0,0,1] + 0*P_m[sequestration,PV,0,0,0,1] + 0*P_m[sequestration,SMRH,0,0,0,1] + 0*P_m[sequestration,WF,0,0,0,1] - S[sequestration,'H2(C)',0,0,1] :   0.0 :   True\n",
      "                 ('sequestration', 'H2O', 0, 0, 0) :   0.0 :                                                                       0*P_m[sequestration,AqOff,0,0,0,0] + 0*P_m[sequestration,H2_Comp,0,0,0,0] + 0*P_m[sequestration,LiI,0,0,0,0] + 0*P_m[sequestration,LiI_discharge,0,0,0,0] - 3.1839*P_m[sequestration,PEM,0,0,0,0] + 0*P_m[sequestration,PV,0,0,0,0] - 23.7*P_m[sequestration,SMRH,0,0,0,0] + 0*P_m[sequestration,WF,0,0,0,0] + C[sequestration,H2O,0,0,0] :   0.0 :   True\n",
      "                 ('sequestration', 'H2O', 0, 0, 1) :   0.0 :                                                                       0*P_m[sequestration,AqOff,0,0,0,1] + 0*P_m[sequestration,H2_Comp,0,0,0,1] + 0*P_m[sequestration,LiI,0,0,0,1] + 0*P_m[sequestration,LiI_discharge,0,0,0,1] - 3.1839*P_m[sequestration,PEM,0,0,0,1] + 0*P_m[sequestration,PV,0,0,0,1] - 23.7*P_m[sequestration,SMRH,0,0,0,1] + 0*P_m[sequestration,WF,0,0,0,1] + C[sequestration,H2O,0,0,1] :   0.0 :   True\n",
      "    ('sequestration', 'LiI_Power_stored', 0, 0, 0) :   0.0 :                                                                    0*P_m[sequestration,AqOff,0,0,0,0] + 0*P_m[sequestration,H2_Comp,0,0,0,0] + P_m[sequestration,LiI,0,0,0,0] - P_m[sequestration,LiI_discharge,0,0,0,0] + 0*P_m[sequestration,PEM,0,0,0,0] + 0*P_m[sequestration,PV,0,0,0,0] + 0*P_m[sequestration,SMRH,0,0,0,0] + 0*P_m[sequestration,WF,0,0,0,0] - Inv[sequestration,LiI_Power_stored,0,0,0] :   0.0 :   True\n",
      "    ('sequestration', 'LiI_Power_stored', 0, 0, 1) :   0.0 :                      0*P_m[sequestration,AqOff,0,0,0,1] + 0*P_m[sequestration,H2_Comp,0,0,0,1] + P_m[sequestration,LiI,0,0,0,1] - P_m[sequestration,LiI_discharge,0,0,0,1] + 0*P_m[sequestration,PEM,0,0,0,1] + 0*P_m[sequestration,PV,0,0,0,1] + 0*P_m[sequestration,SMRH,0,0,0,1] + 0*P_m[sequestration,WF,0,0,0,1] - (Inv[sequestration,LiI_Power_stored,0,0,1] - Inv[sequestration,LiI_Power_stored,0,0,0]) :   0.0 :   True\n",
      "                  ('sequestration', 'O2', 0, 0, 0) :   0.0 :                                                                           0*P_m[sequestration,AqOff,0,0,0,0] + 0*P_m[sequestration,H2_Comp,0,0,0,0] + 0*P_m[sequestration,LiI,0,0,0,0] + 0*P_m[sequestration,LiI_discharge,0,0,0,0] + 2.8302*P_m[sequestration,PEM,0,0,0,0] + 0*P_m[sequestration,PV,0,0,0,0] + 0*P_m[sequestration,SMRH,0,0,0,0] + 0*P_m[sequestration,WF,0,0,0,0] - S[sequestration,O2,0,0,0] :   0.0 :   True\n",
      "                  ('sequestration', 'O2', 0, 0, 1) :   0.0 :                                                                           0*P_m[sequestration,AqOff,0,0,0,1] + 0*P_m[sequestration,H2_Comp,0,0,0,1] + 0*P_m[sequestration,LiI,0,0,0,1] + 0*P_m[sequestration,LiI_discharge,0,0,0,1] + 2.8302*P_m[sequestration,PEM,0,0,0,1] + 0*P_m[sequestration,PV,0,0,0,1] + 0*P_m[sequestration,SMRH,0,0,0,1] + 0*P_m[sequestration,WF,0,0,0,1] - S[sequestration,O2,0,0,1] :   0.0 :   True\n",
      "               ('sequestration', 'Power', 0, 0, 0) :   0.0 :                    -1.5*P_m[sequestration,AqOff,0,0,0,0] - 0.417*P_m[sequestration,H2_Comp,0,0,0,0] - P_m[sequestration,LiI,0,0,0,0] + P_m[sequestration,LiI_discharge,0,0,0,0] - P_m[sequestration,PEM,0,0,0,0] + P_m[sequestration,PV,0,0,0,0] - 1.11*P_m[sequestration,SMRH,0,0,0,0] + P_m[sequestration,WF,0,0,0,0] + Imp[sequestration,generation,Power,0,0,0] + Imp[sequestration,production,Power,0,0,0] :   0.0 :   True\n",
      "               ('sequestration', 'Power', 0, 0, 1) :   0.0 :                    -1.5*P_m[sequestration,AqOff,0,0,0,1] - 0.417*P_m[sequestration,H2_Comp,0,0,0,1] - P_m[sequestration,LiI,0,0,0,1] + P_m[sequestration,LiI_discharge,0,0,0,1] - P_m[sequestration,PEM,0,0,0,1] + P_m[sequestration,PV,0,0,0,1] - 1.11*P_m[sequestration,SMRH,0,0,0,1] + P_m[sequestration,WF,0,0,0,1] + Imp[sequestration,generation,Power,0,0,1] + Imp[sequestration,production,Power,0,0,1] :   0.0 :   True\n",
      "               ('sequestration', 'Solar', 0, 0, 0) :   0.0 :                                                                               0*P_m[sequestration,AqOff,0,0,0,0] + 0*P_m[sequestration,H2_Comp,0,0,0,0] + 0*P_m[sequestration,LiI,0,0,0,0] + 0*P_m[sequestration,LiI_discharge,0,0,0,0] + 0*P_m[sequestration,PEM,0,0,0,0] - P_m[sequestration,PV,0,0,0,0] + 0*P_m[sequestration,SMRH,0,0,0,0] + 0*P_m[sequestration,WF,0,0,0,0] + C[sequestration,Solar,0,0,0] :   0.0 :   True\n",
      "               ('sequestration', 'Solar', 0, 0, 1) :   0.0 :                                                                               0*P_m[sequestration,AqOff,0,0,0,1] + 0*P_m[sequestration,H2_Comp,0,0,0,1] + 0*P_m[sequestration,LiI,0,0,0,1] + 0*P_m[sequestration,LiI_discharge,0,0,0,1] + 0*P_m[sequestration,PEM,0,0,0,1] - P_m[sequestration,PV,0,0,0,1] + 0*P_m[sequestration,SMRH,0,0,0,1] + 0*P_m[sequestration,WF,0,0,0,1] + C[sequestration,Solar,0,0,1] :   0.0 :   True\n",
      "                ('sequestration', 'Wind', 0, 0, 0) :   0.0 :                                                                                0*P_m[sequestration,AqOff,0,0,0,0] + 0*P_m[sequestration,H2_Comp,0,0,0,0] + 0*P_m[sequestration,LiI,0,0,0,0] + 0*P_m[sequestration,LiI_discharge,0,0,0,0] + 0*P_m[sequestration,PEM,0,0,0,0] + 0*P_m[sequestration,PV,0,0,0,0] + 0*P_m[sequestration,SMRH,0,0,0,0] - P_m[sequestration,WF,0,0,0,0] + C[sequestration,Wind,0,0,0] :   0.0 :   True\n",
      "                ('sequestration', 'Wind', 0, 0, 1) :   0.0 :                                                                                0*P_m[sequestration,AqOff,0,0,0,1] + 0*P_m[sequestration,H2_Comp,0,0,0,1] + 0*P_m[sequestration,LiI,0,0,0,1] + 0*P_m[sequestration,LiI_discharge,0,0,0,1] + 0*P_m[sequestration,PEM,0,0,0,1] + 0*P_m[sequestration,PV,0,0,0,1] + 0*P_m[sequestration,SMRH,0,0,0,1] - P_m[sequestration,WF,0,0,0,1] + C[sequestration,Wind,0,0,1] :   0.0 :   True\n"
     ]
    }
   ],
   "source": [
    "milp_cost.constraint_inventory_balance.pprint()"
   ]
  },
  {
   "cell_type": "code",
   "execution_count": null,
   "metadata": {},
   "outputs": [],
   "source": [
    "#   ('generation', 'consumption', 'Grid', 0)\n",
    "# plot_results.transport(results= results_cost, source = 'generation', sink = 'consumption', resource = 'Power', transport= 'Grid' )"
   ]
  },
  {
   "cell_type": "code",
   "execution_count": null,
   "metadata": {},
   "outputs": [
    {
     "name": "stdout",
     "output_type": "stream",
     "text": [
      "Cap_P : Process Capacity\n",
      "    Size=32, Index=Cap_P_index\n",
      "    Key                                   : Lower : Value              : Upper : Fixed : Stale : Domain\n",
      "              ('consumption', 'AqOff', 0) :     0 :                0.0 :  None : False : False : NonNegativeReals\n",
      "            ('consumption', 'H2_Comp', 0) :     0 : 0.2739999999976135 :  None : False : False : NonNegativeReals\n",
      "                ('consumption', 'LiI', 0) :     0 :                0.0 :  None : False : False : NonNegativeReals\n",
      "      ('consumption', 'LiI_discharge', 0) :     0 :                0.0 :  None : False : False : NonNegativeReals\n",
      "                ('consumption', 'PEM', 0) :     0 :                0.0 :  None : False : False : NonNegativeReals\n",
      "                 ('consumption', 'PV', 0) :     0 :                0.0 :  None : False : False : NonNegativeReals\n",
      "               ('consumption', 'SMRH', 0) :     0 :                0.0 :  None : False : False : NonNegativeReals\n",
      "                 ('consumption', 'WF', 0) :     0 :                0.0 :  None : False : False : NonNegativeReals\n",
      "               ('generation', 'AqOff', 0) :     0 :                0.0 :  None : False : False : NonNegativeReals\n",
      "             ('generation', 'H2_Comp', 0) :     0 :                0.0 :  None : False : False : NonNegativeReals\n",
      "                 ('generation', 'LiI', 0) :     0 :                0.0 :  None : False : False : NonNegativeReals\n",
      "       ('generation', 'LiI_discharge', 0) :     0 :              100.0 :  None : False : False : NonNegativeReals\n",
      "                 ('generation', 'PEM', 0) :     0 :                0.0 :  None : False : False : NonNegativeReals\n",
      "                  ('generation', 'PV', 0) :     0 :                0.0 :  None : False : False : NonNegativeReals\n",
      "                ('generation', 'SMRH', 0) :     0 :                0.0 :  None : False : False : NonNegativeReals\n",
      "                  ('generation', 'WF', 0) :     0 :                0.0 :  None : False : False : NonNegativeReals\n",
      "               ('production', 'AqOff', 0) :     0 :                0.0 :  None : False : False : NonNegativeReals\n",
      "             ('production', 'H2_Comp', 0) :     0 :                0.0 :  None : False : False : NonNegativeReals\n",
      "                 ('production', 'LiI', 0) :     0 :                0.0 :  None : False : False : NonNegativeReals\n",
      "       ('production', 'LiI_discharge', 0) :     0 :                0.0 :  None : False : False : NonNegativeReals\n",
      "                 ('production', 'PEM', 0) :     0 :  0.774667797568561 :  None : False : False : NonNegativeReals\n",
      "                  ('production', 'PV', 0) :     0 :                0.0 :  None : False : False : NonNegativeReals\n",
      "                ('production', 'SMRH', 0) :     0 :                0.0 :  None : False : False : NonNegativeReals\n",
      "                  ('production', 'WF', 0) :     0 :                0.0 :  None : False : False : NonNegativeReals\n",
      "            ('sequestration', 'AqOff', 0) :     0 :                0.0 :  None : False : False : NonNegativeReals\n",
      "          ('sequestration', 'H2_Comp', 0) :     0 :                0.0 :  None : False : False : NonNegativeReals\n",
      "              ('sequestration', 'LiI', 0) :     0 :                0.0 :  None : False : False : NonNegativeReals\n",
      "    ('sequestration', 'LiI_discharge', 0) :     0 :                0.0 :  None : False : False : NonNegativeReals\n",
      "              ('sequestration', 'PEM', 0) :     0 :                0.0 :  None : False : False : NonNegativeReals\n",
      "               ('sequestration', 'PV', 0) :     0 :                0.0 :  None : False : False : NonNegativeReals\n",
      "             ('sequestration', 'SMRH', 0) :     0 :                0.0 :  None : False : False : NonNegativeReals\n",
      "               ('sequestration', 'WF', 0) :     0 :                0.0 :  None : False : False : NonNegativeReals\n"
     ]
    }
   ],
   "source": [
    "milp_cost.Cap_P.pprint()"
   ]
  },
  {
   "cell_type": "code",
   "execution_count": null,
   "metadata": {},
   "outputs": [
    {
     "name": "stdout",
     "output_type": "stream",
     "text": [
      "Trans_exp : Resource exported through transport mode\n",
      "    Size=108, Index=Trans_exp_index\n",
      "    Key                                                           : Lower : Value             : Upper : Fixed : Stale : Domain\n",
      "            ('generation', 'consumption', 'CO2', 'Grid', 0, 0, 0) :     0 :               0.0 :  None : False : False : NonNegativeReals\n",
      "            ('generation', 'consumption', 'CO2', 'Grid', 0, 0, 1) :     0 :               0.0 :  None : False : False : NonNegativeReals\n",
      "          ('generation', 'consumption', 'CO2', 'carbon', 0, 0, 0) :     0 :               0.0 :  None : False : False : NonNegativeReals\n",
      "          ('generation', 'consumption', 'CO2', 'carbon', 0, 0, 1) :     0 :               0.0 :  None : False : False : NonNegativeReals\n",
      "        ('generation', 'consumption', 'CO2', 'hydrogen', 0, 0, 0) :     0 :               0.0 :  None : False : False : NonNegativeReals\n",
      "        ('generation', 'consumption', 'CO2', 'hydrogen', 0, 0, 1) :     0 :               0.0 :  None : False : False : NonNegativeReals\n",
      "             ('generation', 'consumption', 'H2', 'Grid', 0, 0, 0) :     0 :               0.0 :  None : False : False : NonNegativeReals\n",
      "             ('generation', 'consumption', 'H2', 'Grid', 0, 0, 1) :     0 :               0.0 :  None : False : False : NonNegativeReals\n",
      "           ('generation', 'consumption', 'H2', 'carbon', 0, 0, 0) :     0 :               0.0 :  None : False : False : NonNegativeReals\n",
      "           ('generation', 'consumption', 'H2', 'carbon', 0, 0, 1) :     0 :               0.0 :  None : False : False : NonNegativeReals\n",
      "         ('generation', 'consumption', 'H2', 'hydrogen', 0, 0, 0) :     0 :               0.0 :  None : False : False : NonNegativeReals\n",
      "         ('generation', 'consumption', 'H2', 'hydrogen', 0, 0, 1) :     0 :               0.0 :  None : False : False : NonNegativeReals\n",
      "          ('generation', 'consumption', 'Power', 'Grid', 0, 0, 0) :     0 :          0.114258 :  None : False : False : NonNegativeReals\n",
      "          ('generation', 'consumption', 'Power', 'Grid', 0, 0, 1) :     0 :          0.114258 :  None : False : False : NonNegativeReals\n",
      "        ('generation', 'consumption', 'Power', 'carbon', 0, 0, 0) :     0 :               0.0 :  None : False : False : NonNegativeReals\n",
      "        ('generation', 'consumption', 'Power', 'carbon', 0, 0, 1) :     0 :               0.0 :  None : False : False : NonNegativeReals\n",
      "      ('generation', 'consumption', 'Power', 'hydrogen', 0, 0, 0) :     0 :               0.0 :  None : False : False : NonNegativeReals\n",
      "      ('generation', 'consumption', 'Power', 'hydrogen', 0, 0, 1) :     0 :               0.0 :  None : False : False : NonNegativeReals\n",
      "             ('generation', 'production', 'CO2', 'Grid', 0, 0, 0) :     0 :               0.0 :  None : False : False : NonNegativeReals\n",
      "             ('generation', 'production', 'CO2', 'Grid', 0, 0, 1) :     0 :               0.0 :  None : False : False : NonNegativeReals\n",
      "           ('generation', 'production', 'CO2', 'carbon', 0, 0, 0) :     0 :               0.0 :  None : False : False : NonNegativeReals\n",
      "           ('generation', 'production', 'CO2', 'carbon', 0, 0, 1) :     0 :               0.0 :  None : False : False : NonNegativeReals\n",
      "         ('generation', 'production', 'CO2', 'hydrogen', 0, 0, 0) :     0 :               0.0 :  None : False : False : NonNegativeReals\n",
      "         ('generation', 'production', 'CO2', 'hydrogen', 0, 0, 1) :     0 :               0.0 :  None : False : False : NonNegativeReals\n",
      "              ('generation', 'production', 'H2', 'Grid', 0, 0, 0) :     0 :               0.0 :  None : False : False : NonNegativeReals\n",
      "              ('generation', 'production', 'H2', 'Grid', 0, 0, 1) :     0 :               0.0 :  None : False : False : NonNegativeReals\n",
      "            ('generation', 'production', 'H2', 'carbon', 0, 0, 0) :     0 :               0.0 :  None : False : False : NonNegativeReals\n",
      "            ('generation', 'production', 'H2', 'carbon', 0, 0, 1) :     0 :               0.0 :  None : False : False : NonNegativeReals\n",
      "          ('generation', 'production', 'H2', 'hydrogen', 0, 0, 0) :     0 :               0.0 :  None : False : False : NonNegativeReals\n",
      "          ('generation', 'production', 'H2', 'hydrogen', 0, 0, 1) :     0 :               0.0 :  None : False : False : NonNegativeReals\n",
      "           ('generation', 'production', 'Power', 'Grid', 0, 0, 0) :     0 : 0.774667797568561 :  None : False : False : NonNegativeReals\n",
      "           ('generation', 'production', 'Power', 'Grid', 0, 0, 1) :     0 : 0.774667797568561 :  None : False : False : NonNegativeReals\n",
      "         ('generation', 'production', 'Power', 'carbon', 0, 0, 0) :     0 :               0.0 :  None : False : False : NonNegativeReals\n",
      "         ('generation', 'production', 'Power', 'carbon', 0, 0, 1) :     0 :               0.0 :  None : False : False : NonNegativeReals\n",
      "       ('generation', 'production', 'Power', 'hydrogen', 0, 0, 0) :     0 :               0.0 :  None : False : False : NonNegativeReals\n",
      "       ('generation', 'production', 'Power', 'hydrogen', 0, 0, 1) :     0 :               0.0 :  None : False : False : NonNegativeReals\n",
      "          ('generation', 'sequestration', 'CO2', 'Grid', 0, 0, 0) :     0 :               0.0 :  None : False : False : NonNegativeReals\n",
      "          ('generation', 'sequestration', 'CO2', 'Grid', 0, 0, 1) :     0 :               0.0 :  None : False : False : NonNegativeReals\n",
      "        ('generation', 'sequestration', 'CO2', 'carbon', 0, 0, 0) :     0 :               0.0 :  None : False : False : NonNegativeReals\n",
      "        ('generation', 'sequestration', 'CO2', 'carbon', 0, 0, 1) :     0 :               0.0 :  None : False : False : NonNegativeReals\n",
      "      ('generation', 'sequestration', 'CO2', 'hydrogen', 0, 0, 0) :     0 :               0.0 :  None : False : False : NonNegativeReals\n",
      "      ('generation', 'sequestration', 'CO2', 'hydrogen', 0, 0, 1) :     0 :               0.0 :  None : False : False : NonNegativeReals\n",
      "           ('generation', 'sequestration', 'H2', 'Grid', 0, 0, 0) :     0 :               0.0 :  None : False : False : NonNegativeReals\n",
      "           ('generation', 'sequestration', 'H2', 'Grid', 0, 0, 1) :     0 :               0.0 :  None : False : False : NonNegativeReals\n",
      "         ('generation', 'sequestration', 'H2', 'carbon', 0, 0, 0) :     0 :               0.0 :  None : False : False : NonNegativeReals\n",
      "         ('generation', 'sequestration', 'H2', 'carbon', 0, 0, 1) :     0 :               0.0 :  None : False : False : NonNegativeReals\n",
      "       ('generation', 'sequestration', 'H2', 'hydrogen', 0, 0, 0) :     0 :               0.0 :  None : False : False : NonNegativeReals\n",
      "       ('generation', 'sequestration', 'H2', 'hydrogen', 0, 0, 1) :     0 :               0.0 :  None : False : False : NonNegativeReals\n",
      "        ('generation', 'sequestration', 'Power', 'Grid', 0, 0, 0) :     0 :               0.0 :  None : False : False : NonNegativeReals\n",
      "        ('generation', 'sequestration', 'Power', 'Grid', 0, 0, 1) :     0 :               0.0 :  None : False : False : NonNegativeReals\n",
      "      ('generation', 'sequestration', 'Power', 'carbon', 0, 0, 0) :     0 :               0.0 :  None : False : False : NonNegativeReals\n",
      "      ('generation', 'sequestration', 'Power', 'carbon', 0, 0, 1) :     0 :               0.0 :  None : False : False : NonNegativeReals\n",
      "    ('generation', 'sequestration', 'Power', 'hydrogen', 0, 0, 0) :     0 :               0.0 :  None : False : False : NonNegativeReals\n",
      "    ('generation', 'sequestration', 'Power', 'hydrogen', 0, 0, 1) :     0 :               0.0 :  None : False : False : NonNegativeReals\n",
      "            ('production', 'consumption', 'CO2', 'Grid', 0, 0, 0) :     0 :               0.0 :  None : False : False : NonNegativeReals\n",
      "            ('production', 'consumption', 'CO2', 'Grid', 0, 0, 1) :     0 :               0.0 :  None : False : False : NonNegativeReals\n",
      "          ('production', 'consumption', 'CO2', 'carbon', 0, 0, 0) :     0 :               0.0 :  None : False : False : NonNegativeReals\n",
      "          ('production', 'consumption', 'CO2', 'carbon', 0, 0, 1) :     0 :               0.0 :  None : False : False : NonNegativeReals\n",
      "        ('production', 'consumption', 'CO2', 'hydrogen', 0, 0, 0) :     0 :               0.0 :  None : False : False : NonNegativeReals\n",
      "        ('production', 'consumption', 'CO2', 'hydrogen', 0, 0, 1) :     0 :               0.0 :  None : False : False : NonNegativeReals\n",
      "             ('production', 'consumption', 'H2', 'Grid', 0, 0, 0) :     0 :               0.0 :  None : False : False : NonNegativeReals\n",
      "             ('production', 'consumption', 'H2', 'Grid', 0, 0, 1) :     0 :               0.0 :  None : False : False : NonNegativeReals\n",
      "           ('production', 'consumption', 'H2', 'carbon', 0, 0, 0) :     0 :               0.0 :  None : False : False : NonNegativeReals\n",
      "           ('production', 'consumption', 'H2', 'carbon', 0, 0, 1) :     0 :               0.0 :  None : False : False : NonNegativeReals\n",
      "         ('production', 'consumption', 'H2', 'hydrogen', 0, 0, 0) :     0 :             0.274 :  None : False : False : NonNegativeReals\n",
      "         ('production', 'consumption', 'H2', 'hydrogen', 0, 0, 1) :     0 :             0.274 :  None : False : False : NonNegativeReals\n",
      "          ('production', 'consumption', 'Power', 'Grid', 0, 0, 0) :     0 :               0.0 :  None : False : False : NonNegativeReals\n",
      "          ('production', 'consumption', 'Power', 'Grid', 0, 0, 1) :     0 :               0.0 :  None : False : False : NonNegativeReals\n",
      "        ('production', 'consumption', 'Power', 'carbon', 0, 0, 0) :     0 :               0.0 :  None : False : False : NonNegativeReals\n",
      "        ('production', 'consumption', 'Power', 'carbon', 0, 0, 1) :     0 :               0.0 :  None : False : False : NonNegativeReals\n",
      "      ('production', 'consumption', 'Power', 'hydrogen', 0, 0, 0) :     0 :               0.0 :  None : False : False : NonNegativeReals\n",
      "      ('production', 'consumption', 'Power', 'hydrogen', 0, 0, 1) :     0 :               0.0 :  None : False : False : NonNegativeReals\n",
      "             ('production', 'production', 'CO2', 'Grid', 0, 0, 0) :     0 :               0.0 :  None : False : False : NonNegativeReals\n",
      "             ('production', 'production', 'CO2', 'Grid', 0, 0, 1) :     0 :               0.0 :  None : False : False : NonNegativeReals\n",
      "           ('production', 'production', 'CO2', 'carbon', 0, 0, 0) :     0 :               0.0 :  None : False : False : NonNegativeReals\n",
      "           ('production', 'production', 'CO2', 'carbon', 0, 0, 1) :     0 :               0.0 :  None : False : False : NonNegativeReals\n",
      "         ('production', 'production', 'CO2', 'hydrogen', 0, 0, 0) :     0 :               0.0 :  None : False : False : NonNegativeReals\n",
      "         ('production', 'production', 'CO2', 'hydrogen', 0, 0, 1) :     0 :               0.0 :  None : False : False : NonNegativeReals\n",
      "              ('production', 'production', 'H2', 'Grid', 0, 0, 0) :     0 :               0.0 :  None : False : False : NonNegativeReals\n",
      "              ('production', 'production', 'H2', 'Grid', 0, 0, 1) :     0 :               0.0 :  None : False : False : NonNegativeReals\n",
      "            ('production', 'production', 'H2', 'carbon', 0, 0, 0) :     0 :               0.0 :  None : False : False : NonNegativeReals\n",
      "            ('production', 'production', 'H2', 'carbon', 0, 0, 1) :     0 :               0.0 :  None : False : False : NonNegativeReals\n",
      "          ('production', 'production', 'H2', 'hydrogen', 0, 0, 0) :     0 :               0.0 :  None : False : False : NonNegativeReals\n",
      "          ('production', 'production', 'H2', 'hydrogen', 0, 0, 1) :     0 :               0.0 :  None : False : False : NonNegativeReals\n",
      "           ('production', 'production', 'Power', 'Grid', 0, 0, 0) :     0 :               0.0 :  None : False : False : NonNegativeReals\n",
      "           ('production', 'production', 'Power', 'Grid', 0, 0, 1) :     0 :               0.0 :  None : False : False : NonNegativeReals\n",
      "         ('production', 'production', 'Power', 'carbon', 0, 0, 0) :     0 :               0.0 :  None : False : False : NonNegativeReals\n",
      "         ('production', 'production', 'Power', 'carbon', 0, 0, 1) :     0 :               0.0 :  None : False : False : NonNegativeReals\n",
      "       ('production', 'production', 'Power', 'hydrogen', 0, 0, 0) :     0 :               0.0 :  None : False : False : NonNegativeReals\n",
      "       ('production', 'production', 'Power', 'hydrogen', 0, 0, 1) :     0 :               0.0 :  None : False : False : NonNegativeReals\n",
      "          ('production', 'sequestration', 'CO2', 'Grid', 0, 0, 0) :     0 :               0.0 :  None : False : False : NonNegativeReals\n",
      "          ('production', 'sequestration', 'CO2', 'Grid', 0, 0, 1) :     0 :               0.0 :  None : False : False : NonNegativeReals\n",
      "        ('production', 'sequestration', 'CO2', 'carbon', 0, 0, 0) :     0 :               0.0 :  None : False : False : NonNegativeReals\n",
      "        ('production', 'sequestration', 'CO2', 'carbon', 0, 0, 1) :     0 :               0.0 :  None : False : False : NonNegativeReals\n",
      "      ('production', 'sequestration', 'CO2', 'hydrogen', 0, 0, 0) :     0 :               0.0 :  None : False : False : NonNegativeReals\n",
      "      ('production', 'sequestration', 'CO2', 'hydrogen', 0, 0, 1) :     0 :               0.0 :  None : False : False : NonNegativeReals\n",
      "           ('production', 'sequestration', 'H2', 'Grid', 0, 0, 0) :     0 :               0.0 :  None : False : False : NonNegativeReals\n",
      "           ('production', 'sequestration', 'H2', 'Grid', 0, 0, 1) :     0 :               0.0 :  None : False : False : NonNegativeReals\n",
      "         ('production', 'sequestration', 'H2', 'carbon', 0, 0, 0) :     0 :               0.0 :  None : False : False : NonNegativeReals\n",
      "         ('production', 'sequestration', 'H2', 'carbon', 0, 0, 1) :     0 :               0.0 :  None : False : False : NonNegativeReals\n",
      "       ('production', 'sequestration', 'H2', 'hydrogen', 0, 0, 0) :     0 :               0.0 :  None : False : False : NonNegativeReals\n",
      "       ('production', 'sequestration', 'H2', 'hydrogen', 0, 0, 1) :     0 :               0.0 :  None : False : False : NonNegativeReals\n",
      "        ('production', 'sequestration', 'Power', 'Grid', 0, 0, 0) :     0 :               0.0 :  None : False : False : NonNegativeReals\n",
      "        ('production', 'sequestration', 'Power', 'Grid', 0, 0, 1) :     0 :               0.0 :  None : False : False : NonNegativeReals\n",
      "      ('production', 'sequestration', 'Power', 'carbon', 0, 0, 0) :     0 :               0.0 :  None : False : False : NonNegativeReals\n",
      "      ('production', 'sequestration', 'Power', 'carbon', 0, 0, 1) :     0 :               0.0 :  None : False : False : NonNegativeReals\n",
      "    ('production', 'sequestration', 'Power', 'hydrogen', 0, 0, 0) :     0 :               0.0 :  None : False : False : NonNegativeReals\n",
      "    ('production', 'sequestration', 'Power', 'hydrogen', 0, 0, 1) :     0 :               0.0 :  None : False : False : NonNegativeReals\n"
     ]
    }
   ],
   "source": [
    "milp_cost.Trans_exp.pprint()"
   ]
  },
  {
   "cell_type": "code",
   "execution_count": null,
   "metadata": {},
   "outputs": [
    {
     "data": {
      "text/plain": [
       "{'consumption': {'H2_Comp'},\n",
       " 'generation': {'LiI', 'LiI_discharge', 'PV', 'WF'},\n",
       " 'production': {'PEM', 'SMRH'},\n",
       " 'sequestration': {'AqOff'}}"
      ]
     },
     "execution_count": 53,
     "metadata": {},
     "output_type": "execute_result"
    }
   ],
   "source": [
    "scenario.loc_pro_dict"
   ]
  },
  {
   "cell_type": "code",
   "execution_count": null,
   "metadata": {},
   "outputs": [
    {
     "data": {
      "text/plain": [
       "{'consumption': {'H2', 'H2(C)', 'Power'},\n",
       " 'generation': {'LiI_Power_stored', 'Power', 'Solar', 'Wind'},\n",
       " 'production': {'CH4', 'CO2', 'CO2_Vent', 'H2', 'H2O', 'O2', 'Power'},\n",
       " 'sequestration': {'CO2', 'CO2_AQoff', 'Power'}}"
      ]
     },
     "execution_count": 54,
     "metadata": {},
     "output_type": "execute_result"
    }
   ],
   "source": [
    "scenario.loc_res_dict"
   ]
  },
  {
   "cell_type": "code",
   "execution_count": null,
   "metadata": {},
   "outputs": [
    {
     "name": "stdout",
     "output_type": "stream",
     "text": [
      "constraint_nameplate_production_certain_capacity : restricts production to certain nameplate capacity\n",
      "    Size=48, Index=constraint_nameplate_production_certain_capacity_index, Active=True\n",
      "    Key                                         : Lower : Body                                                                  : Upper : Active\n",
      "              ('consumption', 'AqOff', 0, 0, 0) :   0.0 :                                            P[consumption,AqOff,0,0,0] :   0.0 :   True\n",
      "              ('consumption', 'AqOff', 0, 0, 1) :   0.0 :                                            P[consumption,AqOff,0,0,1] :   0.0 :   True\n",
      "            ('consumption', 'H2_Comp', 0, 0, 0) :  -Inf :           P[consumption,H2_Comp,0,0,0] - Cap_P[consumption,H2_Comp,0] :   0.0 :   True\n",
      "            ('consumption', 'H2_Comp', 0, 0, 1) :  -Inf :           P[consumption,H2_Comp,0,0,1] - Cap_P[consumption,H2_Comp,0] :   0.0 :   True\n",
      "                ('consumption', 'LiI', 0, 0, 0) :   0.0 :                                              P[consumption,LiI,0,0,0] :   0.0 :   True\n",
      "                ('consumption', 'LiI', 0, 0, 1) :   0.0 :                                              P[consumption,LiI,0,0,1] :   0.0 :   True\n",
      "      ('consumption', 'LiI_discharge', 0, 0, 0) :   0.0 :                                    P[consumption,LiI_discharge,0,0,0] :   0.0 :   True\n",
      "      ('consumption', 'LiI_discharge', 0, 0, 1) :   0.0 :                                    P[consumption,LiI_discharge,0,0,1] :   0.0 :   True\n",
      "                ('consumption', 'PEM', 0, 0, 0) :   0.0 :                                              P[consumption,PEM,0,0,0] :   0.0 :   True\n",
      "                ('consumption', 'PEM', 0, 0, 1) :   0.0 :                                              P[consumption,PEM,0,0,1] :   0.0 :   True\n",
      "               ('consumption', 'SMRH', 0, 0, 0) :   0.0 :                                             P[consumption,SMRH,0,0,0] :   0.0 :   True\n",
      "               ('consumption', 'SMRH', 0, 0, 1) :   0.0 :                                             P[consumption,SMRH,0,0,1] :   0.0 :   True\n",
      "               ('generation', 'AqOff', 0, 0, 0) :   0.0 :                                             P[generation,AqOff,0,0,0] :   0.0 :   True\n",
      "               ('generation', 'AqOff', 0, 0, 1) :   0.0 :                                             P[generation,AqOff,0,0,1] :   0.0 :   True\n",
      "             ('generation', 'H2_Comp', 0, 0, 0) :   0.0 :                                           P[generation,H2_Comp,0,0,0] :   0.0 :   True\n",
      "             ('generation', 'H2_Comp', 0, 0, 1) :   0.0 :                                           P[generation,H2_Comp,0,0,1] :   0.0 :   True\n",
      "                 ('generation', 'LiI', 0, 0, 0) :  -Inf :                     P[generation,LiI,0,0,0] - Cap_P[generation,LiI,0] :   0.0 :   True\n",
      "                 ('generation', 'LiI', 0, 0, 1) :  -Inf :                     P[generation,LiI,0,0,1] - Cap_P[generation,LiI,0] :   0.0 :   True\n",
      "       ('generation', 'LiI_discharge', 0, 0, 0) :  -Inf : P[generation,LiI_discharge,0,0,0] - Cap_P[generation,LiI_discharge,0] :   0.0 :   True\n",
      "       ('generation', 'LiI_discharge', 0, 0, 1) :  -Inf : P[generation,LiI_discharge,0,0,1] - Cap_P[generation,LiI_discharge,0] :   0.0 :   True\n",
      "                 ('generation', 'PEM', 0, 0, 0) :   0.0 :                                               P[generation,PEM,0,0,0] :   0.0 :   True\n",
      "                 ('generation', 'PEM', 0, 0, 1) :   0.0 :                                               P[generation,PEM,0,0,1] :   0.0 :   True\n",
      "                ('generation', 'SMRH', 0, 0, 0) :   0.0 :                                              P[generation,SMRH,0,0,0] :   0.0 :   True\n",
      "                ('generation', 'SMRH', 0, 0, 1) :   0.0 :                                              P[generation,SMRH,0,0,1] :   0.0 :   True\n",
      "               ('production', 'AqOff', 0, 0, 0) :   0.0 :                                             P[production,AqOff,0,0,0] :   0.0 :   True\n",
      "               ('production', 'AqOff', 0, 0, 1) :   0.0 :                                             P[production,AqOff,0,0,1] :   0.0 :   True\n",
      "             ('production', 'H2_Comp', 0, 0, 0) :   0.0 :                                           P[production,H2_Comp,0,0,0] :   0.0 :   True\n",
      "             ('production', 'H2_Comp', 0, 0, 1) :   0.0 :                                           P[production,H2_Comp,0,0,1] :   0.0 :   True\n",
      "                 ('production', 'LiI', 0, 0, 0) :   0.0 :                                               P[production,LiI,0,0,0] :   0.0 :   True\n",
      "                 ('production', 'LiI', 0, 0, 1) :   0.0 :                                               P[production,LiI,0,0,1] :   0.0 :   True\n",
      "       ('production', 'LiI_discharge', 0, 0, 0) :   0.0 :                                     P[production,LiI_discharge,0,0,0] :   0.0 :   True\n",
      "       ('production', 'LiI_discharge', 0, 0, 1) :   0.0 :                                     P[production,LiI_discharge,0,0,1] :   0.0 :   True\n",
      "                 ('production', 'PEM', 0, 0, 0) :  -Inf :                     P[production,PEM,0,0,0] - Cap_P[production,PEM,0] :   0.0 :   True\n",
      "                 ('production', 'PEM', 0, 0, 1) :  -Inf :                     P[production,PEM,0,0,1] - Cap_P[production,PEM,0] :   0.0 :   True\n",
      "                ('production', 'SMRH', 0, 0, 0) :  -Inf :                   P[production,SMRH,0,0,0] - Cap_P[production,SMRH,0] :   0.0 :   True\n",
      "                ('production', 'SMRH', 0, 0, 1) :  -Inf :                   P[production,SMRH,0,0,1] - Cap_P[production,SMRH,0] :   0.0 :   True\n",
      "            ('sequestration', 'AqOff', 0, 0, 0) :  -Inf :           P[sequestration,AqOff,0,0,0] - Cap_P[sequestration,AqOff,0] :   0.0 :   True\n",
      "            ('sequestration', 'AqOff', 0, 0, 1) :  -Inf :           P[sequestration,AqOff,0,0,1] - Cap_P[sequestration,AqOff,0] :   0.0 :   True\n",
      "          ('sequestration', 'H2_Comp', 0, 0, 0) :   0.0 :                                        P[sequestration,H2_Comp,0,0,0] :   0.0 :   True\n",
      "          ('sequestration', 'H2_Comp', 0, 0, 1) :   0.0 :                                        P[sequestration,H2_Comp,0,0,1] :   0.0 :   True\n",
      "              ('sequestration', 'LiI', 0, 0, 0) :   0.0 :                                            P[sequestration,LiI,0,0,0] :   0.0 :   True\n",
      "              ('sequestration', 'LiI', 0, 0, 1) :   0.0 :                                            P[sequestration,LiI,0,0,1] :   0.0 :   True\n",
      "    ('sequestration', 'LiI_discharge', 0, 0, 0) :   0.0 :                                  P[sequestration,LiI_discharge,0,0,0] :   0.0 :   True\n",
      "    ('sequestration', 'LiI_discharge', 0, 0, 1) :   0.0 :                                  P[sequestration,LiI_discharge,0,0,1] :   0.0 :   True\n",
      "              ('sequestration', 'PEM', 0, 0, 0) :   0.0 :                                            P[sequestration,PEM,0,0,0] :   0.0 :   True\n",
      "              ('sequestration', 'PEM', 0, 0, 1) :   0.0 :                                            P[sequestration,PEM,0,0,1] :   0.0 :   True\n",
      "             ('sequestration', 'SMRH', 0, 0, 0) :   0.0 :                                           P[sequestration,SMRH,0,0,0] :   0.0 :   True\n",
      "             ('sequestration', 'SMRH', 0, 0, 1) :   0.0 :                                           P[sequestration,SMRH,0,0,1] :   0.0 :   True\n"
     ]
    }
   ],
   "source": [
    "milp_cost.constraint_nameplate_production_certain_capacity.pprint()"
   ]
  },
  {
   "cell_type": "code",
   "execution_count": null,
   "metadata": {},
   "outputs": [
    {
     "data": {
      "image/png": "[encoded data removed]",
      "text/plain": [
       "<Figure size 1200x600 with 1 Axes>"
      ]
     },
     "metadata": {},
     "output_type": "display_data"
    }
   ],
   "source": [
    "plot_results.cost(results=results_cost, x=CostX.PROCESS_WISE,\n",
    "                  y=CostY.TOTAL, location='', fig_size=(12, 6))"
   ]
  },
  {
   "cell_type": "code",
   "execution_count": null,
   "metadata": {},
   "outputs": [
    {
     "data": {
      "text/plain": [
       "{'PEM': 1550000.0,\n",
       " 'WF': 1462000,\n",
       " 'SMRH': 2520000,\n",
       " 'AqOff': 552000,\n",
       " 'LiI': 1302182,\n",
       " 'LiI_discharge': 0,\n",
       " 'H2_Comp': 1600000.0,\n",
       " 'PV': 1333262}"
      ]
     },
     "execution_count": 57,
     "metadata": {},
     "output_type": "execute_result"
    }
   ],
   "source": [
    "scenario.capex_dict"
   ]
  },
  {
   "cell_type": "code",
   "execution_count": null,
   "metadata": {},
   "outputs": [
    {
     "data": {
      "text/plain": [
       "{'PEM': 0,\n",
       " 'WF': 4953,\n",
       " 'SMRH': 51.5,\n",
       " 'AqOff': 4140,\n",
       " 'LiI': 2000,\n",
       " 'LiI_discharge': 0,\n",
       " 'H2_Comp': 3.5,\n",
       " 'PV': 4953}"
      ]
     },
     "execution_count": 58,
     "metadata": {},
     "output_type": "execute_result"
    }
   ],
   "source": [
    "scenario.vopex_dict"
   ]
  },
  {
   "cell_type": "code",
   "execution_count": null,
   "metadata": {},
   "outputs": [
    {
     "data": {
      "text/plain": [
       "{'PEM': 0,\n",
       " 'WF': 43000,\n",
       " 'SMRH': 945000,\n",
       " 'AqOff': 0,\n",
       " 'LiI': 41432,\n",
       " 'LiI_discharge': 0,\n",
       " 'H2_Comp': 0,\n",
       " 'PV': 22623}"
      ]
     },
     "execution_count": 59,
     "metadata": {},
     "output_type": "execute_result"
    }
   ],
   "source": [
    "scenario.fopex_dict"
   ]
  },
  {
   "cell_type": "code",
   "execution_count": null,
   "metadata": {},
   "outputs": [
    {
     "data": {
      "text/html": [
       "<div>\n",
       "<style scoped>\n",
       "    .dataframe tbody tr th:only-of-type {\n",
       "        vertical-align: middle;\n",
       "    }\n",
       "\n",
       "    .dataframe tbody tr th {\n",
       "        vertical-align: top;\n",
       "    }\n",
       "\n",
       "    .dataframe thead th {\n",
       "        text-align: right;\n",
       "    }\n",
       "</style>\n",
       "<table border=\"1\" class=\"dataframe\">\n",
       "  <thead>\n",
       "    <tr style=\"text-align: right;\">\n",
       "      <th></th>\n",
       "      <th>capex</th>\n",
       "      <th>vopex</th>\n",
       "      <th>fopex</th>\n",
       "    </tr>\n",
       "  </thead>\n",
       "  <tbody>\n",
       "    <tr>\n",
       "      <th>PEM</th>\n",
       "      <td>1550000.0</td>\n",
       "      <td>0.0</td>\n",
       "      <td>0</td>\n",
       "    </tr>\n",
       "    <tr>\n",
       "      <th>WF</th>\n",
       "      <td>1462000.0</td>\n",
       "      <td>4953.0</td>\n",
       "      <td>43000</td>\n",
       "    </tr>\n",
       "    <tr>\n",
       "      <th>SMRH</th>\n",
       "      <td>2520000.0</td>\n",
       "      <td>51.5</td>\n",
       "      <td>945000</td>\n",
       "    </tr>\n",
       "    <tr>\n",
       "      <th>AqOff</th>\n",
       "      <td>552000.0</td>\n",
       "      <td>4140.0</td>\n",
       "      <td>0</td>\n",
       "    </tr>\n",
       "    <tr>\n",
       "      <th>LiI</th>\n",
       "      <td>1302182.0</td>\n",
       "      <td>2000.0</td>\n",
       "      <td>41432</td>\n",
       "    </tr>\n",
       "    <tr>\n",
       "      <th>LiI_discharge</th>\n",
       "      <td>0.0</td>\n",
       "      <td>0.0</td>\n",
       "      <td>0</td>\n",
       "    </tr>\n",
       "    <tr>\n",
       "      <th>H2_Comp</th>\n",
       "      <td>1600000.0</td>\n",
       "      <td>3.5</td>\n",
       "      <td>0</td>\n",
       "    </tr>\n",
       "    <tr>\n",
       "      <th>PV</th>\n",
       "      <td>1333262.0</td>\n",
       "      <td>4953.0</td>\n",
       "      <td>22623</td>\n",
       "    </tr>\n",
       "  </tbody>\n",
       "</table>\n",
       "</div>"
      ],
      "text/plain": [
       "                   capex   vopex   fopex\n",
       "PEM            1550000.0     0.0       0\n",
       "WF             1462000.0  4953.0   43000\n",
       "SMRH           2520000.0    51.5  945000\n",
       "AqOff           552000.0  4140.0       0\n",
       "LiI            1302182.0  2000.0   41432\n",
       "LiI_discharge        0.0     0.0       0\n",
       "H2_Comp        1600000.0     3.5       0\n",
       "PV             1333262.0  4953.0   22623"
      ]
     },
     "execution_count": 60,
     "metadata": {},
     "output_type": "execute_result"
    }
   ],
   "source": [
    "scenario.cost_df"
   ]
  }
 ],
 "metadata": {
  "kernelspec": {
   "display_name": "Python 3.10.5 ('ki': venv)",
   "language": "python",
   "name": "python3"
  },
  "language_info": {
   "codemirror_mode": {
    "name": "ipython",
    "version": 3
   },
   "file_extension": ".py",
   "mimetype": "text/x-python",
   "name": "python",
   "nbconvert_exporter": "python",
   "pygments_lexer": "ipython3",
   "version": "3.10.5"
  },
  "orig_nbformat": 4,
  "vscode": {
   "interpreter": {
    "hash": "a4a97498e3c1bfef05f70a75d4fcafcb7b5c9c4ed86429a4e7bee46eaa890f24"
   }
  }
 },
 "nbformat": 4,
 "nbformat_minor": 2
}
