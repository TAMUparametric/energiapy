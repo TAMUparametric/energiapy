{
 "cells": [
  {
   "cell_type": "markdown",
   "metadata": {},
   "source": [
    "# Chance constraints"
   ]
  },
  {
   "cell_type": "markdown",
   "metadata": {},
   "source": [
    "__author__ = \"Rahul Kakodkar\"\n",
    "__copyright__ = \"Copyright 2023, Multi-parametric Optimization & Control Lab\"\n",
    "__credits__ = [\"Rahul Kakodkar\", \"Efstratios N. Pistikopoulos\"]\n",
    "__license__ = \"MIT\"\n",
    "__version__ = \"1.0.5\"\n",
    "__maintainer__ = \"Rahul Kakodkar\"\n",
    "__email__ = \"cacodcar@tamu.edu\"\n",
    "__status__ = \"Production\"\n"
   ]
  },
  {
   "attachments": {},
   "cell_type": "markdown",
   "metadata": {},
   "source": [
    "## Import modules"
   ]
  },
  {
   "cell_type": "code",
   "execution_count": 1,
   "metadata": {},
   "outputs": [],
   "source": [
    "import sys\n",
    "sys.path.append('../../src')"
   ]
  },
  {
   "cell_type": "code",
   "execution_count": 2,
   "metadata": {},
   "outputs": [],
   "source": [
    "\n",
    "import pandas \n",
    "import numpy\n",
    "from energiapy.components.temporal_scale import TemporalScale\n",
    "from energiapy.components.resource import Resource, VaryingResource\n",
    "from energiapy.components.process import Process, VaryingProcess\n",
    "from energiapy.components.material import Material\n",
    "from energiapy.components.location import Location\n",
    "from energiapy.components.network import Network\n",
    "from energiapy.components.scenario import Scenario\n",
    "from energiapy.components.transport import Transport\n",
    "from energiapy.components.result import Result \n",
    "from energiapy.utils.data_utils import get_data, make_henry_price_df, remove_outliers, load_results\n",
    "from energiapy.model.formulate import formulate, Constraints, Objective\n",
    "from energiapy.utils.nsrdb_utils import fetch_nsrdb_data\n",
    "from energiapy.plot import plot_results, plot_scenario, plot_fit\n",
    "from energiapy.plot.plot_results import CostY, CostX\n",
    "from energiapy.model.solve import solve\n",
    "from energiapy.aggregation.reduce_scenario import reduce_scenario, Clustermethod\n",
    "from energiapy.aggregation.ahc import agg_hierarchial_elbow, IncludeAHC, Fit\n",
    "from energiapy.aggregation.dtw import dynamic_warping, dynamic_warping_matrix, dynamic_warping_path, IncludeDTW\n",
    "from energiapy.utils.math_utils import min_max, norm_constant\n",
    "from energiapy.fitting.dist import fit\n",
    "import matplotlib.pyplot as plt\n",
    "from matplotlib import rc\n",
    "from itertools import product\n",
    "import pyomo.environ as pyo\n",
    "import scipy\n",
    "from pyomo.environ import Constraint\n",
    "from energiapy.utils.scale_utils import scale_list\n",
    "from energiapy.conversion.photovoltaic import solar_power_output\n",
    "from energiapy.conversion.windmill import wind_power_output\n",
    "from energiapy.model.constraints.chance import chance_normal\n",
    "\n"
   ]
  },
  {
   "cell_type": "markdown",
   "metadata": {},
   "source": [
    "## Data Import"
   ]
  },
  {
   "cell_type": "markdown",
   "metadata": {},
   "source": [
    "The following data is needed for the model\n",
    "\n",
    "- solar and wind profiles : energiapy.fetch_nsrdb_data imports data from the NREL NSRDB database\n",
    "- power demand : ERCOT for Houston; CAISO for San Diego\n",
    "- Natural Gas prices: Henry Hub Price Index for both\n"
   ]
  },
  {
   "cell_type": "code",
   "execution_count": 3,
   "metadata": {},
   "outputs": [],
   "source": [
    "coord_houston = (29.56999969482422, -95.05999755859375)\n",
    "weather_houston = pandas.read_csv('../data/weather_houston.csv', index_col=0)\n",
    "weather_houston.index = pandas.to_datetime(weather_houston.index, utc = True)\n",
    "\n",
    "solar_houston = solar_power_output(data= weather_houston, coord=coord_houston, sam = 'cecmod', module_params= 'Canadian_Solar_Inc__CS5P_220M', \n",
    "                                   inverter = 'cecinverter', inverter_params= 'ABB__MICRO_0_25_I_OUTD_US_208__208V_', \n",
    "                                   temperature_params= 'open_rack_glass_glass', aoi_model= 'no_loss', ac_model= 'sandia', spectral_model= 'no_loss')\n",
    "\n",
    "wind_houston = wind_power_output(data= weather_houston, roughness_length= 0.1, turbine_type= 'V100/1800', hub_height= 92, \n",
    "                                 wind_speed_model= 'logarithmic', density_model = 'ideal_gas', temperature_model = 'linear_gradient', \n",
    "                                 power_output_model = 'power_coefficient_curve', density_correction = True, obstacle_height = 0, \n",
    "                                 observation_height = 10)\n"
   ]
  },
  {
   "cell_type": "code",
   "execution_count": 4,
   "metadata": {},
   "outputs": [],
   "source": [
    "ercot = pandas.read_csv('../data/ercot.csv', index_col=0)\n",
    "ercot.index = pandas.to_datetime(ercot.index, utc = True)\n",
    "ercot.loc['2016-11-06 23:00:00'] = ercot.loc['2016-11-06 22:00:00'] #random missing value"
   ]
  },
  {
   "cell_type": "markdown",
   "metadata": {},
   "source": [
    "**Get Weather data**"
   ]
  },
  {
   "cell_type": "markdown",
   "metadata": {},
   "source": [
    "**Demand data for San Diego (CAISO for SDGE region) and Houston (ERCOT for COAST region)**"
   ]
  },
  {
   "cell_type": "code",
   "execution_count": 5,
   "metadata": {},
   "outputs": [],
   "source": [
    "demand_df = pandas.read_excel('../data/Native_Load_2019.xlsx')[['COAST']]\n",
    "demand_df = remove_outliers(demand_df)\n",
    "demand_array = demand_df.to_numpy()\n",
    "\n"
   ]
  },
  {
   "cell_type": "code",
   "execution_count": 6,
   "metadata": {},
   "outputs": [],
   "source": [
    "solar_houston = solar_houston[-8760:]\n",
    "wind_houston = wind_houston[-8760:]\n",
    "ercot = ercot[-8760:]"
   ]
  },
  {
   "cell_type": "code",
   "execution_count": 7,
   "metadata": {},
   "outputs": [
    {
     "name": "stderr",
     "output_type": "stream",
     "text": [
      "[distfit] >INFO> fit\n",
      "[distfit] >INFO> transform\n",
      "[distfit] >INFO> [norm      ] [0.00 sec] [RSS: 10.2737] [loc=0.341 scale=0.214]\n",
      "[distfit] >INFO> [expon     ] [0.00 sec] [RSS: 19.3885] [loc=0.000 scale=0.341]\n",
      "[distfit] >INFO> [pareto    ] [0.00 sec] [RSS: 19.3885] [loc=-67108864.000 scale=67108864.000]\n",
      "[distfit] >INFO> [dweibull  ] [0.10 sec] [RSS: 7.52412] [loc=0.311 scale=0.179]\n",
      "[distfit] >INFO> [t         ] [0.95 sec] [RSS: 10.2736] [loc=0.341 scale=0.214]\n",
      "[distfit] >INFO> [genextreme] [0.21 sec] [RSS: 1.85686] [loc=0.235 scale=0.153]\n",
      "[distfit] >INFO> [gamma     ] [0.07 sec] [RSS: 2.23979] [loc=-0.008 scale=0.138]\n",
      "[distfit] >INFO> [lognorm   ] [0.11 sec] [RSS: 1.81404] [loc=-0.093 scale=0.385]\n",
      "[distfit] >INFO> [beta      ] [0.28 sec] [RSS: 3.13133] [loc=-0.001 scale=1.718]\n",
      "[distfit] >INFO> [uniform   ] [0.00 sec] [RSS: 22.464] [loc=0.000 scale=1.000]\n",
      "[distfit] >INFO> [loggamma  ] [0.11 sec] [RSS: 10.3374] [loc=-61.690 scale=8.498]\n",
      "[distfit] >INFO> Compute confidence intervals [parametric]\n"
     ]
    },
    {
     "name": "stdout",
     "output_type": "stream",
     "text": [
      "The best fitting distribution is {'name': 'lognorm', 'score': 1.8140374724450319, 'loc': -0.09318737657114787, 'scale': 0.3850048538041255, 'arg': (0.4957491930759643,), 'params': (0.4957491930759643, -0.09318737657114787, 0.3850048538041255), 'model': <scipy.stats._distn_infrastructure.rv_continuous_frozen object at 0x00000298400C6530>, 'bootstrap_score': 0, 'bootstrap_pass': None, 'color': '#e41a1c', 'CII_min_alpha': 0.07715682125258727, 'CII_max_alpha': 0.7769845420880174}\n"
     ]
    }
   ],
   "source": [
    "data = demand_array\n",
    "data = min_max(data)\n",
    "fit_summary = fit(data)\n"
   ]
  },
  {
   "cell_type": "code",
   "execution_count": 8,
   "metadata": {},
   "outputs": [],
   "source": [
    "mean = fit_summary.loc['norm']['loc']\n",
    "sd = fit_summary.loc['norm']['scale']"
   ]
  },
  {
   "cell_type": "code",
   "execution_count": 9,
   "metadata": {},
   "outputs": [],
   "source": [
    "\n",
    "mu = mean  # mean of the normal distribution\n",
    "sigma = sd  # standard deviation of the normal distribution\n"
   ]
  },
  {
   "cell_type": "code",
   "execution_count": 10,
   "metadata": {},
   "outputs": [
    {
     "data": {
      "image/png": "[encoded data removed]",
      "text/plain": [
       "<Figure size 800x600 with 1 Axes>"
      ]
     },
     "metadata": {},
     "output_type": "display_data"
    }
   ],
   "source": [
    "plot_fit.histogram(data = demand_df)"
   ]
  },
  {
   "cell_type": "code",
   "execution_count": 11,
   "metadata": {},
   "outputs": [
    {
     "data": {
      "image/png": "[encoded data removed]",
      "text/plain": [
       "<Figure size 800x600 with 1 Axes>"
      ]
     },
     "metadata": {},
     "output_type": "display_data"
    }
   ],
   "source": [
    "plot_fit.distribution(fit_summary= fit_summary, fit_type= 'norm')"
   ]
  },
  {
   "cell_type": "markdown",
   "metadata": {},
   "source": [
    "## Define temporal scale\n"
   ]
  },
  {
   "cell_type": "markdown",
   "metadata": {},
   "source": [
    "The variabilities of energy systems are best captured over a discretized spatio-temporal scale. In energiapy, the first declaration is the temporal scale. \n",
    "\n",
    "For e.g.: Here we declare three temporal scales at different levels from right to left. The interpretation of these scales is merely symentic. Scales can be declared as the problem demands.\n",
    "- 0, annual, with 1 discretization\n",
    "- 1, daily with 365 discretization\n",
    "- 2, hourly with 24 discretization\n",
    "\n",
    "In essence, we are creating a temporal scale of 8760 points."
   ]
  },
  {
   "cell_type": "code",
   "execution_count": 12,
   "metadata": {},
   "outputs": [],
   "source": [
    "scales = TemporalScale(discretization_list=[1, 8760])"
   ]
  },
  {
   "cell_type": "code",
   "execution_count": 13,
   "metadata": {},
   "outputs": [],
   "source": [
    "bigM = 10**6"
   ]
  },
  {
   "cell_type": "code",
   "execution_count": 14,
   "metadata": {},
   "outputs": [],
   "source": [
    "compliance_list = [0.1*(i + 1) for i in range(9)] +  [0.95, 0.99]"
   ]
  },
  {
   "cell_type": "code",
   "execution_count": 15,
   "metadata": {},
   "outputs": [
    {
     "data": {
      "text/plain": [
       "[0.1,\n",
       " 0.2,\n",
       " 0.30000000000000004,\n",
       " 0.4,\n",
       " 0.5,\n",
       " 0.6000000000000001,\n",
       " 0.7000000000000001,\n",
       " 0.8,\n",
       " 0.9,\n",
       " 0.95,\n",
       " 0.99]"
      ]
     },
     "execution_count": 15,
     "metadata": {},
     "output_type": "execute_result"
    }
   ],
   "source": [
    "compliance_list"
   ]
  },
  {
   "cell_type": "markdown",
   "metadata": {},
   "source": [
    "## Declare resources"
   ]
  },
  {
   "cell_type": "markdown",
   "metadata": {},
   "source": [
    "Resources can be consumed, produced, stored, discharged (or sold). "
   ]
  },
  {
   "cell_type": "code",
   "execution_count": 16,
   "metadata": {},
   "outputs": [],
   "source": [
    "def model(demand, alpha, compliance_list):\n",
    "    Solar = Resource(name='Solar', cons_max=bigM, basis='MW', label='Solar Power')\n",
    "\n",
    "    Wind = Resource(name='Wind', cons_max= bigM, basis='MW', label='Wind Power')\n",
    "\n",
    "    Power = Resource(name='Power', basis='MW', demand = True, label='Power generated')\n",
    "\n",
    "    LiI = Process(name='LiI', storage= Power, capex = 1302182, fopex= 41432, vopex = 2000, store_max = 10000, prod_max=bigM, label='Lithium-ion battery', basis = 'MW')\n",
    "\n",
    "    WF = Process(name='WF', conversion={Wind: -1, Power: 1},capex=990637, fopex=3354, vopex=4953, prod_max=bigM, label='Wind mill array', basis = 'MW')\n",
    "\n",
    "    PV = Process(name='PV', conversion={Solar: -1, Power: 1}, capex=567000, fopex=872046, vopex=90000, prod_max=bigM, label = 'Solar PV', basis = 'MW')\n",
    "\n",
    "    houston = Location(name='HO', processes= {WF, PV}, capacity_factor = {PV:solar_houston, WF:wind_houston}, demand_factor = {Power: ercot}, scales=scales, label='Houston', demand_scale_level=1, capacity_scale_level= 1)\n",
    "\n",
    "    scenario = Scenario(name= 'scenario_full', network= houston, scales= scales,  expenditure_scale_level= 0, scheduling_scale_level= 1, \n",
    "                        network_scale_level= 0, demand_scale_level= 1, capacity_scale_level = 1, label= 'full_case', demand = {houston: {Power: 150}})\n",
    "\n",
    "\n",
    "\n",
    "    lp = formulate(scenario= scenario, \n",
    "                        constraints={Constraints.COST, Constraints.INVENTORY, Constraints.PRODUCTION, Constraints.RESOURCE_BALANCE}, \n",
    "                        objective=Objective.COST)\n",
    "\n",
    "    # print(scenario.demand_factor)\n",
    "\n",
    "    lp.chance_demand = chance_normal(instance = lp, a = 'S', b = demand, b_factor = scenario.demand_factor['HO']['Power'], mean = mu, sd= sigma, compliance_list = compliance_list, alpha = alpha, sign = 'geq')\n",
    "\n",
    "    return lp, scenario"
   ]
  },
  {
   "cell_type": "code",
   "execution_count": 17,
   "metadata": {},
   "outputs": [
    {
     "name": "stdout",
     "output_type": "stream",
     "text": [
      "constraint process capex\n",
      "constraint process fopex\n",
      "constraint process vopex\n",
      "constraint process incidental\n",
      "constraint production mode\n",
      "constraint inventory balance\n",
      "objective cost\n",
      "constraint process capex\n",
      "constraint process fopex\n",
      "constraint process vopex\n",
      "constraint process incidental\n",
      "constraint production mode\n",
      "constraint inventory balance\n",
      "objective cost\n",
      "constraint process capex\n",
      "constraint process fopex\n",
      "constraint process vopex\n",
      "constraint process incidental\n",
      "constraint production mode\n",
      "constraint inventory balance\n",
      "objective cost\n",
      "constraint process capex\n",
      "constraint process fopex\n",
      "constraint process vopex\n",
      "constraint process incidental\n",
      "constraint production mode\n",
      "constraint inventory balance\n",
      "objective cost\n",
      "constraint process capex\n",
      "constraint process fopex\n",
      "constraint process vopex\n",
      "constraint process incidental\n",
      "constraint production mode\n",
      "constraint inventory balance\n",
      "objective cost\n",
      "constraint process capex\n",
      "constraint process fopex\n",
      "constraint process vopex\n",
      "constraint process incidental\n",
      "constraint production mode\n",
      "constraint inventory balance\n",
      "objective cost\n",
      "constraint process capex\n",
      "constraint process fopex\n",
      "constraint process vopex\n",
      "constraint process incidental\n",
      "constraint production mode\n",
      "constraint inventory balance\n",
      "objective cost\n",
      "constraint process capex\n",
      "constraint process fopex\n",
      "constraint process vopex\n",
      "constraint process incidental\n",
      "constraint production mode\n",
      "constraint inventory balance\n",
      "objective cost\n",
      "constraint process capex\n",
      "constraint process fopex\n",
      "constraint process vopex\n",
      "constraint process incidental\n",
      "constraint production mode\n",
      "constraint inventory balance\n",
      "objective cost\n",
      "constraint process capex\n",
      "constraint process fopex\n",
      "constraint process vopex\n",
      "constraint process incidental\n",
      "constraint production mode\n",
      "constraint inventory balance\n",
      "objective cost\n",
      "constraint process capex\n",
      "constraint process fopex\n",
      "constraint process vopex\n",
      "constraint process incidental\n",
      "constraint production mode\n",
      "constraint inventory balance\n",
      "objective cost\n"
     ]
    }
   ],
   "source": [
    "lps = {i: model(200, i, compliance_list) for i in compliance_list}"
   ]
  },
  {
   "cell_type": "code",
   "execution_count": 18,
   "metadata": {},
   "outputs": [],
   "source": [
    "# plot_scenario.demand_factor(scenario = lps[0.9][1], resource= Power, location= list(lps[0.9][1].location_set)[0])"
   ]
  },
  {
   "cell_type": "code",
   "execution_count": 19,
   "metadata": {},
   "outputs": [
    {
     "name": "stdout",
     "output_type": "stream",
     "text": [
      "Set parameter QCPDual to value 1\n",
      "Gurobi Optimizer version 10.0.2 build v10.0.2rc0 (win64)\n",
      "\n",
      "CPU model: Intel(R) Core(TM) i7-6700 CPU @ 3.40GHz, instruction set [SSE2|AVX|AVX2]\n",
      "Thread count: 4 physical cores, 8 logical processors, using up to 8 threads\n",
      "\n",
      "Optimize a model with 105154 rows, 87635 columns and 236579 nonzeros\n",
      "Model fingerprint: 0x8ac4d482\n",
      "Coefficient statistics:\n",
      "  Matrix range     [1e+00, 1e+06]\n",
      "  Objective range  [1e+00, 1e+00]\n",
      "  Bounds range     [0e+00, 0e+00]\n",
      "  RHS range        [1e+01, 1e+06]\n",
      "Presolve removed 78874 rows and 70113 columns\n",
      "Presolve time: 0.10s\n",
      "Presolved: 26280 rows, 17522 columns, 52560 nonzeros\n",
      "\n",
      "Concurrent LP optimizer: dual simplex and barrier\n",
      "Showing barrier log only...\n",
      "\n",
      "Ordering time: 0.00s\n",
      "\n",
      "Barrier statistics:\n",
      " Dense cols : 2\n",
      " AA' NZ     : 3.504e+04\n",
      " Factor NZ  : 1.051e+05 (roughly 20 MB of memory)\n",
      " Factor Ops : 4.380e+05 (less than 1 second per iteration)\n",
      " Threads    : 1\n",
      "\n",
      "Barrier performed 0 iterations in 0.16 seconds (0.10 work units)\n",
      "Barrier solve interrupted - model solved by another algorithm\n",
      "\n",
      "\n",
      "Solved with dual simplex\n",
      "Iteration    Objective       Primal Inf.    Dual Inf.      Time\n",
      "    8783    8.9822298e+08   0.000000e+00   0.000000e+00      0s\n",
      "\n",
      "Solved in 8783 iterations and 0.23 seconds (0.14 work units)\n",
      "Optimal objective  8.982229761e+08\n",
      "Set parameter QCPDual to value 1\n",
      "Gurobi Optimizer version 10.0.2 build v10.0.2rc0 (win64)\n",
      "\n",
      "CPU model: Intel(R) Core(TM) i7-6700 CPU @ 3.40GHz, instruction set [SSE2|AVX|AVX2]\n",
      "Thread count: 4 physical cores, 8 logical processors, using up to 8 threads\n",
      "\n",
      "Optimize a model with 105154 rows, 87635 columns and 236579 nonzeros\n",
      "Model fingerprint: 0xf7cb8d33\n",
      "Coefficient statistics:\n",
      "  Matrix range     [1e+00, 1e+06]\n",
      "  Objective range  [1e+00, 1e+00]\n",
      "  Bounds range     [0e+00, 0e+00]\n",
      "  RHS range        [2e+01, 1e+06]\n",
      "Presolve removed 78874 rows and 70113 columns\n",
      "Presolve time: 0.10s\n",
      "Presolved: 26280 rows, 17522 columns, 52560 nonzeros\n",
      "\n",
      "Concurrent LP optimizer: dual simplex and barrier\n",
      "Showing barrier log only...\n",
      "\n",
      "Ordering time: 0.00s\n",
      "\n",
      "Barrier statistics:\n",
      " Dense cols : 2\n",
      " AA' NZ     : 3.504e+04\n",
      " Factor NZ  : 1.051e+05 (roughly 20 MB of memory)\n",
      " Factor Ops : 4.380e+05 (less than 1 second per iteration)\n",
      " Threads    : 1\n",
      "\n",
      "                  Objective                Residual\n",
      "Iter       Primal          Dual         Primal    Dual     Compl     Time\n",
      "   0   3.47962936e+14 -5.54799551e+15  0.00e+00 0.00e+00  1.64e+11     0s\n",
      "\n",
      "Barrier performed 0 iterations in 0.16 seconds (0.10 work units)\n",
      "Barrier solve interrupted - model solved by another algorithm\n",
      "\n",
      "\n",
      "Solved with dual simplex\n",
      "Iteration    Objective       Primal Inf.    Dual Inf.      Time\n",
      "    8783    1.1041882e+09   0.000000e+00   0.000000e+00      0s\n",
      "\n",
      "Solved in 8783 iterations and 0.22 seconds (0.14 work units)\n",
      "Optimal objective  1.104188171e+09\n",
      "Set parameter QCPDual to value 1\n",
      "Gurobi Optimizer version 10.0.2 build v10.0.2rc0 (win64)\n",
      "\n",
      "CPU model: Intel(R) Core(TM) i7-6700 CPU @ 3.40GHz, instruction set [SSE2|AVX|AVX2]\n",
      "Thread count: 4 physical cores, 8 logical processors, using up to 8 threads\n",
      "\n",
      "Optimize a model with 105154 rows, 87635 columns and 236579 nonzeros\n",
      "Model fingerprint: 0x4992d63d\n",
      "Coefficient statistics:\n",
      "  Matrix range     [1e+00, 1e+06]\n",
      "  Objective range  [1e+00, 1e+00]\n",
      "  Bounds range     [0e+00, 0e+00]\n",
      "  RHS range        [2e+01, 1e+06]\n",
      "Presolve removed 78874 rows and 70113 columns\n",
      "Presolve time: 0.10s\n",
      "Presolved: 26280 rows, 17522 columns, 52560 nonzeros\n",
      "\n",
      "Concurrent LP optimizer: dual simplex and barrier\n",
      "Showing barrier log only...\n",
      "\n",
      "Ordering time: 0.00s\n",
      "\n",
      "Barrier statistics:\n",
      " Dense cols : 2\n",
      " AA' NZ     : 3.504e+04\n",
      " Factor NZ  : 1.051e+05 (roughly 20 MB of memory)\n",
      " Factor Ops : 4.380e+05 (less than 1 second per iteration)\n",
      " Threads    : 1\n",
      "\n",
      "                  Objective                Residual\n",
      "Iter       Primal          Dual         Primal    Dual     Compl     Time\n",
      "   0   3.47963702e+14 -5.54799463e+15  0.00e+00 0.00e+00  1.64e+11     0s\n",
      "   1   2.02886083e+14 -2.52953669e+14  0.00e+00 8.15e-07  7.43e+09     0s\n",
      "\n",
      "Barrier performed 1 iterations in 0.17 seconds (0.11 work units)\n",
      "Barrier solve interrupted - model solved by another algorithm\n",
      "\n",
      "\n",
      "Solved with dual simplex\n",
      "Iteration    Objective       Primal Inf.    Dual Inf.      Time\n",
      "    8783    1.2952238e+09   0.000000e+00   0.000000e+00      0s\n",
      "\n",
      "Solved in 8783 iterations and 0.24 seconds (0.14 work units)\n",
      "Optimal objective  1.295223842e+09\n",
      "Set parameter QCPDual to value 1\n",
      "Gurobi Optimizer version 10.0.2 build v10.0.2rc0 (win64)\n",
      "\n",
      "CPU model: Intel(R) Core(TM) i7-6700 CPU @ 3.40GHz, instruction set [SSE2|AVX|AVX2]\n",
      "Thread count: 4 physical cores, 8 logical processors, using up to 8 threads\n",
      "\n",
      "Optimize a model with 105154 rows, 87635 columns and 236579 nonzeros\n",
      "Model fingerprint: 0x48df6189\n",
      "Coefficient statistics:\n",
      "  Matrix range     [1e+00, 1e+06]\n",
      "  Objective range  [1e+00, 1e+00]\n",
      "  Bounds range     [0e+00, 0e+00]\n",
      "  RHS range        [2e+01, 1e+06]\n",
      "Presolve removed 78874 rows and 70113 columns\n",
      "Presolve time: 0.10s\n",
      "Presolved: 26280 rows, 17522 columns, 52560 nonzeros\n",
      "\n",
      "Concurrent LP optimizer: dual simplex and barrier\n",
      "Showing barrier log only...\n",
      "\n",
      "Ordering time: 0.01s\n",
      "\n",
      "Barrier statistics:\n",
      " Dense cols : 2\n",
      " AA' NZ     : 3.504e+04\n",
      " Factor NZ  : 1.051e+05 (roughly 20 MB of memory)\n",
      " Factor Ops : 4.380e+05 (less than 1 second per iteration)\n",
      " Threads    : 1\n",
      "\n",
      "                  Objective                Residual\n",
      "Iter       Primal          Dual         Primal    Dual     Compl     Time\n",
      "   0   3.47964387e+14 -5.54799384e+15  0.00e+00 0.00e+00  1.64e+11     0s\n",
      "   1   2.02886688e+14 -2.52952920e+14  0.00e+00 2.67e-06  7.43e+09     0s\n",
      "\n",
      "Barrier performed 1 iterations in 0.18 seconds (0.11 work units)\n",
      "Barrier solve interrupted - model solved by another algorithm\n",
      "\n",
      "\n",
      "Solved with dual simplex\n",
      "Iteration    Objective       Primal Inf.    Dual Inf.      Time\n",
      "    8783    1.4661356e+09   0.000000e+00   0.000000e+00      0s\n",
      "\n",
      "Solved in 8783 iterations and 0.25 seconds (0.14 work units)\n",
      "Optimal objective  1.466135580e+09\n",
      "Set parameter QCPDual to value 1\n",
      "Gurobi Optimizer version 10.0.2 build v10.0.2rc0 (win64)\n",
      "\n",
      "CPU model: Intel(R) Core(TM) i7-6700 CPU @ 3.40GHz, instruction set [SSE2|AVX|AVX2]\n",
      "Thread count: 4 physical cores, 8 logical processors, using up to 8 threads\n",
      "\n",
      "Optimize a model with 105154 rows, 87635 columns and 236579 nonzeros\n",
      "Model fingerprint: 0x50854830\n",
      "Coefficient statistics:\n",
      "  Matrix range     [1e+00, 1e+06]\n",
      "  Objective range  [1e+00, 1e+00]\n",
      "  Bounds range     [0e+00, 0e+00]\n",
      "  RHS range        [2e+01, 1e+06]\n",
      "Presolve removed 78874 rows and 70113 columns\n",
      "Presolve time: 0.11s\n",
      "Presolved: 26280 rows, 17522 columns, 52560 nonzeros\n",
      "\n",
      "Concurrent LP optimizer: dual simplex and barrier\n",
      "Showing barrier log only...\n",
      "\n",
      "Ordering time: 0.00s\n",
      "\n",
      "Barrier statistics:\n",
      " Dense cols : 2\n",
      " AA' NZ     : 3.504e+04\n",
      " Factor NZ  : 1.051e+05 (roughly 20 MB of memory)\n",
      " Factor Ops : 4.380e+05 (less than 1 second per iteration)\n",
      " Threads    : 1\n",
      "\n",
      "                  Objective                Residual\n",
      "Iter       Primal          Dual         Primal    Dual     Compl     Time\n",
      "   0   3.47964980e+14 -5.54799315e+15  0.00e+00 0.00e+00  1.64e+11     0s\n",
      "   1   2.02887211e+14 -2.52952273e+14  0.00e+00 2.28e-06  7.43e+09     0s\n",
      "\n",
      "Barrier performed 1 iterations in 0.17 seconds (0.11 work units)\n",
      "Barrier solve interrupted - model solved by another algorithm\n",
      "\n",
      "\n",
      "Solved with dual simplex\n",
      "Iteration    Objective       Primal Inf.    Dual Inf.      Time\n",
      "    8783    1.6139247e+09   0.000000e+00   0.000000e+00      0s\n",
      "\n",
      "Solved in 8783 iterations and 0.24 seconds (0.14 work units)\n",
      "Optimal objective  1.613924695e+09\n",
      "Set parameter QCPDual to value 1\n",
      "Gurobi Optimizer version 10.0.2 build v10.0.2rc0 (win64)\n",
      "\n",
      "CPU model: Intel(R) Core(TM) i7-6700 CPU @ 3.40GHz, instruction set [SSE2|AVX|AVX2]\n",
      "Thread count: 4 physical cores, 8 logical processors, using up to 8 threads\n",
      "\n",
      "Optimize a model with 105154 rows, 87635 columns and 236579 nonzeros\n",
      "Model fingerprint: 0x422733ea\n",
      "Coefficient statistics:\n",
      "  Matrix range     [1e+00, 1e+06]\n",
      "  Objective range  [1e+00, 1e+00]\n",
      "  Bounds range     [0e+00, 0e+00]\n",
      "  RHS range        [2e+01, 1e+06]\n",
      "Presolve removed 78874 rows and 70113 columns\n",
      "Presolve time: 0.10s\n",
      "Presolved: 26280 rows, 17522 columns, 52560 nonzeros\n",
      "\n",
      "Concurrent LP optimizer: dual simplex and barrier\n",
      "Showing barrier log only...\n",
      "\n",
      "Ordering time: 0.00s\n",
      "\n",
      "Barrier statistics:\n",
      " Dense cols : 2\n",
      " AA' NZ     : 3.504e+04\n",
      " Factor NZ  : 1.051e+05 (roughly 20 MB of memory)\n",
      " Factor Ops : 4.380e+05 (less than 1 second per iteration)\n",
      " Threads    : 1\n",
      "\n",
      "                  Objective                Residual\n",
      "Iter       Primal          Dual         Primal    Dual     Compl     Time\n",
      "   0   3.47965477e+14 -5.54799258e+15  0.00e+00 0.00e+00  1.64e+11     0s\n",
      "   1   2.02887649e+14 -2.52951731e+14  0.00e+00 8.74e-07  7.43e+09     0s\n",
      "\n",
      "Barrier performed 1 iterations in 0.16 seconds (0.11 work units)\n",
      "Barrier solve interrupted - model solved by another algorithm\n",
      "\n",
      "\n",
      "Solved with dual simplex\n",
      "Iteration    Objective       Primal Inf.    Dual Inf.      Time\n",
      "    8783    1.7378154e+09   0.000000e+00   0.000000e+00      0s\n",
      "\n",
      "Solved in 8783 iterations and 0.24 seconds (0.14 work units)\n",
      "Optimal objective  1.737815408e+09\n",
      "Set parameter QCPDual to value 1\n",
      "Gurobi Optimizer version 10.0.2 build v10.0.2rc0 (win64)\n",
      "\n",
      "CPU model: Intel(R) Core(TM) i7-6700 CPU @ 3.40GHz, instruction set [SSE2|AVX|AVX2]\n",
      "Thread count: 4 physical cores, 8 logical processors, using up to 8 threads\n",
      "\n",
      "Optimize a model with 105154 rows, 87635 columns and 236579 nonzeros\n",
      "Model fingerprint: 0x62d9c2c9\n",
      "Coefficient statistics:\n",
      "  Matrix range     [1e+00, 1e+06]\n",
      "  Objective range  [1e+00, 1e+00]\n",
      "  Bounds range     [0e+00, 0e+00]\n",
      "  RHS range        [3e+01, 1e+06]\n",
      "Presolve removed 78874 rows and 70113 columns\n",
      "Presolve time: 0.09s\n",
      "Presolved: 26280 rows, 17522 columns, 52560 nonzeros\n",
      "\n",
      "Concurrent LP optimizer: dual simplex and barrier\n",
      "Showing barrier log only...\n",
      "\n",
      "Ordering time: 0.00s\n",
      "\n",
      "Barrier statistics:\n",
      " Dense cols : 2\n",
      " AA' NZ     : 3.504e+04\n",
      " Factor NZ  : 1.051e+05 (roughly 20 MB of memory)\n",
      " Factor Ops : 4.380e+05 (less than 1 second per iteration)\n",
      " Threads    : 1\n",
      "\n",
      "                  Objective                Residual\n",
      "Iter       Primal          Dual         Primal    Dual     Compl     Time\n",
      "   0   3.47965883e+14 -5.54799211e+15  0.00e+00 0.00e+00  1.64e+11     0s\n",
      "   1   2.02888007e+14 -2.52951288e+14  0.00e+00 1.49e-07  7.43e+09     0s\n",
      "\n",
      "Barrier performed 1 iterations in 0.15 seconds (0.11 work units)\n",
      "Barrier solve interrupted - model solved by another algorithm\n",
      "\n",
      "\n",
      "Solved with dual simplex\n",
      "Iteration    Objective       Primal Inf.    Dual Inf.      Time\n",
      "    8783    1.8389522e+09   0.000000e+00   0.000000e+00      0s\n",
      "\n",
      "Solved in 8783 iterations and 0.21 seconds (0.14 work units)\n",
      "Optimal objective  1.838952189e+09\n",
      "Set parameter QCPDual to value 1\n",
      "Gurobi Optimizer version 10.0.2 build v10.0.2rc0 (win64)\n",
      "\n",
      "CPU model: Intel(R) Core(TM) i7-6700 CPU @ 3.40GHz, instruction set [SSE2|AVX|AVX2]\n",
      "Thread count: 4 physical cores, 8 logical processors, using up to 8 threads\n",
      "\n",
      "Optimize a model with 105154 rows, 87635 columns and 236579 nonzeros\n",
      "Model fingerprint: 0xee7a4526\n",
      "Coefficient statistics:\n",
      "  Matrix range     [1e+00, 1e+06]\n",
      "  Objective range  [1e+00, 1e+00]\n",
      "  Bounds range     [0e+00, 0e+00]\n",
      "  RHS range        [3e+01, 1e+06]\n",
      "Presolve removed 78874 rows and 70113 columns\n",
      "Presolve time: 0.10s\n",
      "Presolved: 26280 rows, 17522 columns, 52560 nonzeros\n",
      "\n",
      "Concurrent LP optimizer: dual simplex and barrier\n",
      "Showing barrier log only...\n",
      "\n",
      "Ordering time: 0.00s\n",
      "\n",
      "Barrier statistics:\n",
      " Dense cols : 2\n",
      " AA' NZ     : 3.504e+04\n",
      " Factor NZ  : 1.051e+05 (roughly 20 MB of memory)\n",
      " Factor Ops : 4.380e+05 (less than 1 second per iteration)\n",
      " Threads    : 1\n",
      "\n",
      "                  Objective                Residual\n",
      "Iter       Primal          Dual         Primal    Dual     Compl     Time\n",
      "   0   3.47966207e+14 -5.54799174e+15  0.00e+00 0.00e+00  1.64e+11     0s\n",
      "   1   2.02888293e+14 -2.52950933e+14  0.00e+00 2.04e-10  7.43e+09     0s\n",
      "\n",
      "Barrier performed 1 iterations in 0.16 seconds (0.11 work units)\n",
      "Barrier solve interrupted - model solved by another algorithm\n",
      "\n",
      "\n",
      "Solved with dual simplex\n",
      "Iteration    Objective       Primal Inf.    Dual Inf.      Time\n",
      "    8783    1.9198949e+09   0.000000e+00   0.000000e+00      0s\n",
      "\n",
      "Solved in 8783 iterations and 0.22 seconds (0.14 work units)\n",
      "Optimal objective  1.919894895e+09\n",
      "Set parameter QCPDual to value 1\n",
      "Gurobi Optimizer version 10.0.2 build v10.0.2rc0 (win64)\n",
      "\n",
      "CPU model: Intel(R) Core(TM) i7-6700 CPU @ 3.40GHz, instruction set [SSE2|AVX|AVX2]\n",
      "Thread count: 4 physical cores, 8 logical processors, using up to 8 threads\n",
      "\n",
      "Optimize a model with 105154 rows, 87635 columns and 236579 nonzeros\n",
      "Model fingerprint: 0x8c98afd7\n",
      "Coefficient statistics:\n",
      "  Matrix range     [1e+00, 1e+06]\n",
      "  Objective range  [1e+00, 1e+00]\n",
      "  Bounds range     [0e+00, 0e+00]\n",
      "  RHS range        [3e+01, 1e+06]\n",
      "Presolve removed 78874 rows and 70113 columns\n",
      "Presolve time: 0.10s\n",
      "Presolved: 26280 rows, 17522 columns, 52560 nonzeros\n",
      "\n",
      "Concurrent LP optimizer: dual simplex and barrier\n",
      "Showing barrier log only...\n",
      "\n",
      "Ordering time: 0.00s\n",
      "\n",
      "Barrier statistics:\n",
      " Dense cols : 2\n",
      " AA' NZ     : 3.504e+04\n",
      " Factor NZ  : 1.051e+05 (roughly 20 MB of memory)\n",
      " Factor Ops : 4.380e+05 (less than 1 second per iteration)\n",
      " Threads    : 1\n",
      "\n",
      "                  Objective                Residual\n",
      "Iter       Primal          Dual         Primal    Dual     Compl     Time\n",
      "   0   3.47966464e+14 -5.54799144e+15  0.00e+00 0.00e+00  1.64e+11     0s\n",
      "\n",
      "Barrier performed 0 iterations in 0.16 seconds (0.10 work units)\n",
      "Barrier solve interrupted - model solved by another algorithm\n",
      "\n",
      "\n",
      "Solved with dual simplex\n",
      "Iteration    Objective       Primal Inf.    Dual Inf.      Time\n",
      "    8783    1.9840513e+09   0.000000e+00   0.000000e+00      0s\n",
      "\n",
      "Solved in 8783 iterations and 0.22 seconds (0.14 work units)\n",
      "Optimal objective  1.984051332e+09\n",
      "Set parameter QCPDual to value 1\n",
      "Gurobi Optimizer version 10.0.2 build v10.0.2rc0 (win64)\n",
      "\n",
      "CPU model: Intel(R) Core(TM) i7-6700 CPU @ 3.40GHz, instruction set [SSE2|AVX|AVX2]\n",
      "Thread count: 4 physical cores, 8 logical processors, using up to 8 threads\n",
      "\n",
      "Optimize a model with 105154 rows, 87635 columns and 236579 nonzeros\n",
      "Model fingerprint: 0xb41b2baf\n",
      "Coefficient statistics:\n",
      "  Matrix range     [1e+00, 1e+06]\n",
      "  Objective range  [1e+00, 1e+00]\n",
      "  Bounds range     [0e+00, 0e+00]\n",
      "  RHS range        [3e+01, 1e+06]\n",
      "Presolve removed 78874 rows and 70113 columns\n",
      "Presolve time: 0.10s\n",
      "Presolved: 26280 rows, 17522 columns, 52560 nonzeros\n",
      "\n",
      "Concurrent LP optimizer: dual simplex and barrier\n",
      "Showing barrier log only...\n",
      "\n",
      "Ordering time: 0.00s\n",
      "\n",
      "Barrier statistics:\n",
      " Dense cols : 2\n",
      " AA' NZ     : 3.504e+04\n",
      " Factor NZ  : 1.051e+05 (roughly 20 MB of memory)\n",
      " Factor Ops : 4.380e+05 (less than 1 second per iteration)\n",
      " Threads    : 1\n",
      "\n",
      "                  Objective                Residual\n",
      "Iter       Primal          Dual         Primal    Dual     Compl     Time\n",
      "   0   3.47966573e+14 -5.54799132e+15  0.00e+00 0.00e+00  1.64e+11     0s\n",
      "\n",
      "Barrier performed 0 iterations in 0.16 seconds (0.10 work units)\n",
      "Barrier solve interrupted - model solved by another algorithm\n",
      "\n",
      "\n",
      "Solved with dual simplex\n",
      "Iteration    Objective       Primal Inf.    Dual Inf.      Time\n",
      "    8783    2.0110017e+09   0.000000e+00   0.000000e+00      0s\n",
      "\n",
      "Solved in 8783 iterations and 0.24 seconds (0.14 work units)\n",
      "Optimal objective  2.011001747e+09\n",
      "Set parameter QCPDual to value 1\n",
      "Gurobi Optimizer version 10.0.2 build v10.0.2rc0 (win64)\n",
      "\n",
      "CPU model: Intel(R) Core(TM) i7-6700 CPU @ 3.40GHz, instruction set [SSE2|AVX|AVX2]\n",
      "Thread count: 4 physical cores, 8 logical processors, using up to 8 threads\n",
      "\n",
      "Optimize a model with 105154 rows, 87635 columns and 236579 nonzeros\n",
      "Model fingerprint: 0xba632995\n",
      "Coefficient statistics:\n",
      "  Matrix range     [1e+00, 1e+06]\n",
      "  Objective range  [1e+00, 1e+00]\n",
      "  Bounds range     [0e+00, 0e+00]\n",
      "  RHS range        [3e+01, 1e+06]\n",
      "Presolve removed 78874 rows and 70113 columns\n",
      "Presolve time: 0.11s\n",
      "Presolved: 26280 rows, 17522 columns, 52560 nonzeros\n",
      "\n",
      "Concurrent LP optimizer: dual simplex and barrier\n",
      "Showing barrier log only...\n",
      "\n",
      "Ordering time: 0.00s\n",
      "\n",
      "Barrier statistics:\n",
      " Dense cols : 2\n",
      " AA' NZ     : 3.504e+04\n",
      " Factor NZ  : 1.051e+05 (roughly 20 MB of memory)\n",
      " Factor Ops : 4.380e+05 (less than 1 second per iteration)\n",
      " Threads    : 1\n",
      "\n",
      "                  Objective                Residual\n",
      "Iter       Primal          Dual         Primal    Dual     Compl     Time\n",
      "   0   3.47966651e+14 -5.54799123e+15  0.00e+00 0.00e+00  1.64e+11     0s\n",
      "   1   2.02888685e+14 -2.52950449e+14  0.00e+00 2.17e-06  7.43e+09     0s\n",
      "\n",
      "Barrier performed 1 iterations in 0.17 seconds (0.11 work units)\n",
      "Barrier solve interrupted - model solved by another algorithm\n",
      "\n",
      "\n",
      "Solved with dual simplex\n",
      "Iteration    Objective       Primal Inf.    Dual Inf.      Time\n",
      "    8783    2.0305290e+09   0.000000e+00   0.000000e+00      0s\n",
      "\n",
      "Solved in 8783 iterations and 0.24 seconds (0.14 work units)\n",
      "Optimal objective  2.030528979e+09\n"
     ]
    }
   ],
   "source": [
    "results = {i: solve(scenario = lps[i][1], instance= lps[i][0], solver= 'gurobi', name= 'results', print_solversteps = True) for i in compliance_list}"
   ]
  },
  {
   "cell_type": "code",
   "execution_count": 20,
   "metadata": {},
   "outputs": [],
   "source": [
    "obj = [i.output['objective'] for i in results.values()]"
   ]
  },
  {
   "cell_type": "code",
   "execution_count": 21,
   "metadata": {},
   "outputs": [
    {
     "data": {
      "image/png": "[encoded data removed]",
      "text/plain": [
       "<Figure size 1000x800 with 1 Axes>"
      ]
     },
     "metadata": {},
     "output_type": "display_data"
    }
   ],
   "source": [
    "rc('font', **{'family': 'serif',\n",
    "    'serif': ['Computer Modern'], 'size': 16})\n",
    "fig, ax = plt.subplots(figsize=(10,8))\n",
    "# ax.plot(x_, y_, linewidth=0.5, color=color)\n",
    "ax.plot(results.keys(), obj, linestyle = '--')\n",
    "ax.scatter(results.keys(), obj)\n",
    "\n",
    "# ax = axis_formatter(axes=ax, xcord=x_, axis_labels='M')\n",
    "plt.title(f'Chance constrained objective')\n",
    "ax.xaxis.set_ticks(list(results.keys()))\n",
    "# ax.xaxis.set_ticklabels(['1', '1/2', '1/3', '1/4', '1/5', '0'])\n",
    "plt.ylabel(\"Objective Cost\")\n",
    "plt.xlabel(\"Normal Constant\")\n",
    "plt.xticks(rotation = 45)\n",
    "plt.grid(alpha=0.3)\n",
    "plt.rcdefaults()"
   ]
  },
  {
   "cell_type": "code",
   "execution_count": 22,
   "metadata": {},
   "outputs": [
    {
     "data": {
      "text/plain": [
       "('chance.lp', 2852146817072)"
      ]
     },
     "execution_count": 22,
     "metadata": {},
     "output_type": "execute_result"
    }
   ],
   "source": [
    "lps[0.9][0].write('chance.lp')"
   ]
  },
  {
   "cell_type": "code",
   "execution_count": 23,
   "metadata": {},
   "outputs": [],
   "source": [
    "cap_wf = [results[i].output['Cap_P'][('HO', 'WF', 0)] for i in compliance_list]"
   ]
  },
  {
   "cell_type": "code",
   "execution_count": 24,
   "metadata": {},
   "outputs": [
    {
     "data": {
      "text/plain": [
       "[33.289216508064214,\n",
       " 40.92253268446323,\n",
       " 48.00254286866759,\n",
       " 54.33673604653772,\n",
       " 59.813977185532806,\n",
       " 64.40551500511297,\n",
       " 68.153764914636,\n",
       " 71.15359829514522,\n",
       " 73.53131251023959,\n",
       " 74.53012706561104,\n",
       " 75.25382963975338]"
      ]
     },
     "execution_count": 24,
     "metadata": {},
     "output_type": "execute_result"
    }
   ],
   "source": [
    "cap_wf"
   ]
  },
  {
   "cell_type": "code",
   "execution_count": 25,
   "metadata": {},
   "outputs": [
    {
     "data": {
      "image/png": "[encoded data removed]",
      "text/plain": [
       "<Figure size 800x600 with 1 Axes>"
      ]
     },
     "metadata": {},
     "output_type": "display_data"
    }
   ],
   "source": [
    "rc('font', **{'family': 'serif',\n",
    "    'serif': ['Computer Modern'], 'size': 16})\n",
    "fig, ax = plt.subplots(figsize=(8,6))\n",
    "# ax.plot(x_, y_, linewidth=0.5, color=color)\n",
    "ax.plot(results.keys(), cap_wf, linestyle = '--')\n",
    "ax.scatter(results.keys(), cap_wf)\n",
    "\n",
    "# ax = axis_formatter(axes=ax, xcord=x_, axis_labels='M')\n",
    "plt.title(f'Capacity (WF) against compliance')\n",
    "ax.xaxis.set_ticks(list(results.keys()))\n",
    "# ax.xaxis.set_ticklabels(['1', '1/2', '1/3', '1/4', '1/5', '0'])\n",
    "plt.ylabel(\"MW\")\n",
    "plt.xticks(rotation = 45)\n",
    "plt.xlabel(\"Probability of Guarantee\")\n",
    "plt.grid(alpha=0.3)\n",
    "plt.rcdefaults()"
   ]
  },
  {
   "cell_type": "code",
   "execution_count": 26,
   "metadata": {},
   "outputs": [],
   "source": [
    "Solar = Resource(name='Solar', cons_max=bigM, basis='MW', label='Solar Power')\n",
    "\n",
    "Wind = Resource(name='Wind', cons_max= bigM, basis='MW', label='Wind Power')\n",
    "\n",
    "Power = Resource(name='Power', basis='MW', demand = True, label='Power generated')"
   ]
  },
  {
   "cell_type": "markdown",
   "metadata": {},
   "source": [
    "$\\textbf{Declare processes}$"
   ]
  },
  {
   "cell_type": "code",
   "execution_count": 27,
   "metadata": {},
   "outputs": [],
   "source": [
    "LiI = Process(name='LiI', storage= Power, capex = 1302182, fopex= 41432, vopex = 2000, store_max = 10000, prod_max=bigM, label='Lithium-ion battery', basis = 'MW')\n",
    "\n",
    "WF = Process(name='WF', conversion={Wind: -1, Power: 1},capex=990637, fopex=3354, vopex=4953, prod_max=bigM, label='Wind mill array', basis = 'MW')\n",
    "\n",
    "PV = Process(name='PV', conversion={Solar: -1, Power: 1}, capex=567000, fopex=872046, vopex=90000, prod_max=bigM, label = 'Solar PV', basis = 'MW')\n"
   ]
  },
  {
   "cell_type": "markdown",
   "metadata": {},
   "source": [
    "Processes convert a resource into another through the utilization of resources. \n",
    "Essentially, the model is developed as an RTN"
   ]
  },
  {
   "cell_type": "code",
   "execution_count": 28,
   "metadata": {},
   "outputs": [],
   "source": [
    "houston = Location(name='HO', processes= {WF, PV}, scales=scales, label='Houston', demand_scale_level=1, capacity_scale_level= 0)\n",
    "\n",
    "scenario = Scenario(name= 'scenario_full', network= houston, scales= scales,  expenditure_scale_level= 0, scheduling_scale_level= 1, \n",
    "                    network_scale_level= 0, demand_scale_level= 1, label= 'full_case', demand = {houston: {Power: 150}})\n"
   ]
  },
  {
   "cell_type": "code",
   "execution_count": 29,
   "metadata": {},
   "outputs": [],
   "source": [
    "from energiapy.plot import plot_location"
   ]
  },
  {
   "cell_type": "code",
   "execution_count": 30,
   "metadata": {},
   "outputs": [],
   "source": [
    "# plot_location.demand_factor(resource=Power, location=houston)"
   ]
  },
  {
   "cell_type": "markdown",
   "metadata": {},
   "source": [
    "**Minimize cost**"
   ]
  },
  {
   "cell_type": "code",
   "execution_count": 31,
   "metadata": {},
   "outputs": [
    {
     "name": "stdout",
     "output_type": "stream",
     "text": [
      "constraint process capex\n",
      "constraint process fopex\n",
      "constraint process vopex\n",
      "constraint process incidental\n",
      "constraint production mode\n",
      "constraint inventory balance\n",
      "objective cost\n"
     ]
    }
   ],
   "source": [
    "\n",
    "lp = formulate(scenario= scenario, \n",
    "                      constraints={Constraints.COST, Constraints.INVENTORY, Constraints.PRODUCTION, Constraints.RESOURCE_BALANCE}, \n",
    "                      objective=Objective.COST)\n"
   ]
  },
  {
   "cell_type": "code",
   "execution_count": 32,
   "metadata": {},
   "outputs": [],
   "source": [
    "c_dict = {p: norm_constant(p, mu, sigma) for p in [0.80, 0.90, 0.95, 0.99]}"
   ]
  },
  {
   "cell_type": "code",
   "execution_count": 33,
   "metadata": {},
   "outputs": [],
   "source": [
    "demand_df = min_max(demand_df)\n",
    "demand_dict = demand_df.to_dict()['COAST']\n",
    "demand_dict = {(0,i): demand_dict[i] for i in demand_dict.keys()}\n",
    "\n"
   ]
  },
  {
   "cell_type": "code",
   "execution_count": 34,
   "metadata": {},
   "outputs": [],
   "source": [
    "def chance_demand(instance, demand_factor, mu, sigma, c_dict, demand, alpha):\n",
    "    scales = scale_list(instance=instance,\n",
    "                        scale_levels=2 )\n",
    "    def chance_rule(instance, location, resource, *scales):\n",
    "        return instance.S[location, resource, scales] >= demand*demand_factor[scales]*(mu - (1- alpha*c_dict[alpha])*sigma) \n",
    "    return Constraint(instance.locations, instance.resources_demand, *scales, rule = chance_rule)\n",
    "lp.chance_demand = chance_demand(lp, demand_dict, mu, sigma, c_dict, demand =200, alpha = 0.95)"
   ]
  },
  {
   "cell_type": "code",
   "execution_count": 35,
   "metadata": {},
   "outputs": [
    {
     "data": {
      "text/plain": [
       "{0.8: 1.3370301368543218,\n",
       " 0.9: 1.250180656708498,\n",
       " 0.95: 1.2089398223529617,\n",
       " 0.99: 1.1771687122298473}"
      ]
     },
     "execution_count": 35,
     "metadata": {},
     "output_type": "execute_result"
    }
   ],
   "source": [
    "c_dict"
   ]
  },
  {
   "cell_type": "code",
   "execution_count": 36,
   "metadata": {},
   "outputs": [],
   "source": [
    "alpha = 0.95"
   ]
  },
  {
   "cell_type": "code",
   "execution_count": 37,
   "metadata": {},
   "outputs": [
    {
     "data": {
      "text/plain": [
       "0.3726506353280552"
      ]
     },
     "execution_count": 37,
     "metadata": {},
     "output_type": "execute_result"
    }
   ],
   "source": [
    "mu - (1- alpha*c_dict[alpha])*sigma"
   ]
  },
  {
   "cell_type": "code",
   "execution_count": 38,
   "metadata": {},
   "outputs": [
    {
     "data": {
      "text/plain": [
       "{0.8: 1.3370301368543218,\n",
       " 0.9: 1.250180656708498,\n",
       " 0.95: 1.2089398223529617,\n",
       " 0.99: 1.1771687122298473}"
      ]
     },
     "execution_count": 38,
     "metadata": {},
     "output_type": "execute_result"
    }
   ],
   "source": [
    "c_dict"
   ]
  },
  {
   "cell_type": "code",
   "execution_count": null,
   "metadata": {},
   "outputs": [],
   "source": []
  }
 ],
 "metadata": {
  "kernelspec": {
   "display_name": "Python 3.10.5 ('ki': venv)",
   "language": "python",
   "name": "python3"
  },
  "language_info": {
   "codemirror_mode": {
    "name": "ipython",
    "version": 3
   },
   "file_extension": ".py",
   "mimetype": "text/x-python",
   "name": "python",
   "nbconvert_exporter": "python",
   "pygments_lexer": "ipython3",
   "version": "3.10.5"
  },
  "orig_nbformat": 4,
  "vscode": {
   "interpreter": {
    "hash": "a4a97498e3c1bfef05f70a75d4fcafcb7b5c9c4ed86429a4e7bee46eaa890f24"
   }
  }
 },
 "nbformat": 4,
 "nbformat_minor": 2
}
