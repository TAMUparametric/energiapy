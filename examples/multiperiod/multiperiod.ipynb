{
 "cells": [
  {
   "attachments": {},
   "cell_type": "markdown",
   "metadata": {},
   "source": [
    "# Energy Systems MILP"
   ]
  },
  {
   "cell_type": "markdown",
   "metadata": {},
   "source": [
    "__author__ = \"Rahul Kakodkar\"\n",
    "__copyright__ = \"Copyright 2023, Multi-parametric Optimization & Control Lab\"\n",
    "__credits__ = [\"Rahul Kakodkar\", \"Efstratios N. Pistikopoulos\"]\n",
    "__license__ = \"MIT\"\n",
    "__version__ = \"1.0.5\"\n",
    "__maintainer__ = \"Rahul Kakodkar\"\n",
    "__email__ = \"cacodcar@tamu.edu\"\n",
    "__status__ = \"Production\"\n"
   ]
  },
  {
   "attachments": {},
   "cell_type": "markdown",
   "metadata": {},
   "source": [
    "The following case study considers three locations along with their fluctuating local demand, weather profiles (capacity factors), and resource (natural gas) prices.\n",
    "\n",
    "The following processes are considered - \n",
    "\n",
    "- Modular nuclear reactors (ASMR)\n",
    "- Proton Exchange Membrane Electrolyzers (PEM)\n",
    "- Hydrogen Storage (H2_L_c/H2_L_d)\n",
    "- Natural Gas Combined Cycle with 95% carbon capture (NGCC)\n",
    "- Pumped Storage Hydropower (PSH/PSH_discharge)\n",
    "- Lithium-ion batteries (LiI/LiI_discharge)\n",
    "- Solar Photovoltaics (PV) \n",
    "- Wind Farms (WF)\n",
    "- Steam Methane Reforming (SMR)\n",
    "- SMR + Carbon Capture Utilization and Storage (SMRH)\n",
    "- Hydrogen Fuel Cells (H2FC)\n",
    "- Direct Air Capture (DAC)\n",
    "- Offshore Aquifers (AQoff)\n",
    "\n",
    "The stated processes utilize the following resources:\n",
    "\n",
    "- Methane (CH4)\n",
    "- Carbon Dioxide (CO2)\n",
    "- CO2 in aquifer (CO2_AQoff)\n",
    "- CO2 Captured from air (CO2_DAC)\n",
    "- Vented CO2 (CO2_Vent)\n",
    "- Hydrogen (H2)\n",
    "- Water (H2O)\n",
    "- Stored hydrogen (H2_L)\n",
    "- Power stored in LiI (LiI_Power)\n",
    "- Oxygen (O2)\n",
    "- Power stored in PSH (PSH_Power)\n",
    "- Power\n",
    "- Solar\n",
    "- Uranium\n",
    "- Wind\n"
   ]
  },
  {
   "cell_type": "markdown",
   "metadata": {},
   "source": [
    "## Nomenclature"
   ]
  },
  {
   "attachments": {},
   "cell_type": "markdown",
   "metadata": {},
   "source": [
    "\n",
    "\n",
    "*Sets*\n",
    "\n",
    "\n",
    "$\\mathcal{R}$ - set of all resources r\n",
    "\n",
    "$\\mathcal{P}$ - set of all processes p\n",
    "\n",
    "$\\mathcal{T}$ - set of temporal periods p\n",
    "\n",
    "$\\mathcal{B}$ - set of transport modes b\n",
    "\n",
    "*Subsets*\n",
    "\n",
    "\n",
    "$\\mathcal{R}^{storage}$ - set of resources that can be stored\n",
    "\n",
    "$\\mathcal{R}^{sell}$ - set of resources that can be discharged\n",
    "\n",
    "$\\mathcal{R}^{demand}$ - set of resources that meet  demand\n",
    "\n",
    "$\\mathcal{R}^{cons}$ - set of resources that can be consumed\n",
    "\n",
    "$\\mathcal{R}^{trans}$ - set of resources that can be transported\n",
    "\n",
    "$\\mathcal{P}^{uncertain}$ - set of processes with uncertain capacity\n",
    "\n",
    "$\\mathcal{T}$ - set of temporal periods p\n",
    "\n",
    "*Continuous Variables*\n",
    "\n",
    "\n",
    "$P_{l,p,t}$ - production level of p $\\in$  $\\mathcal{P}$ in time period t $\\in$ $\\mathcal{T}^{sch}$  \n",
    "\n",
    "$C_{l,r,t}$ - consumption of r $\\in$ in $\\mathcal{R}^{cons}$ time period t $\\in$ $\\mathcal{T}^{sch}$ \n",
    "\n",
    "$S_{l,r,t}$ - discharge of r $\\in$ in $\\mathcal{R}^{demand}$ time period t $\\in$ $\\mathcal{T}^{sch}$ \n",
    "\n",
    "$Inv_{l,r,t}$ - inventory level of r $\\in$ $\\mathcal{R}^{storage}$  in time period t $\\in$ $\\mathcal{T}^{sch}$\n",
    "\n",
    "$Cap^S_{l,r,t}$ - installed inventory capacity for resource r $\\in$  $\\mathcal{R}^{storage}$ in time period t $\\in$ $\\mathcal{T}^{net}$\n",
    "\n",
    "$Cap^P_{l,p,t}$ - installed production capacity for process p $\\in$ $\\mathcal{P}$ in time period t $\\in$ $\\mathcal{T}^{net}$\n",
    "\n",
    "*Binary Variables*\n",
    "\n",
    "$X^P_{l,p,t}$ - network binary for production process p $\\in$ $\\mathcal{P}$\n",
    "\n",
    "$X^S_{l,r,t}$ - network binary for inventory of resource r $\\in$  $\\mathcal{R}^{storage}$ \n",
    "\n",
    "*Parameters*\n",
    "\n",
    "$Cap^{P-max}_{l,p,t}$ - maximum production capacity of process p $\\in$ $\\mathcal{P}$ in time t $\\in$ $\\mathcal{T}^{net}$\n",
    "\n",
    "$Cap^{S-max}_{l,r,t}$ - maximum inventory capacity for process r $\\in$ $\\mathcal{R}^{storage}$ in time t $\\in$ $\\mathcal{T}^{net}$\n",
    "\n",
    "$Capex_{l,p,t}$ - capital expenditure for process p $\\in$ $\\mathcal{P}$ in time t $\\in$ $\\mathcal{T}^{net}$\n",
    "\n",
    "$Vopex_{l,p,t}$ - variable operational expenditure for process p $\\in$ $\\mathcal{P}$ in time t $\\in$ $\\mathcal{T}^{sch}$\n",
    "\n",
    "$Price_{l,r,t}$ - purchase price for resource r $\\in$ $\\mathcal{R}^{cons}$ in time t $\\in$ $\\mathcal{T}^{sch}$\n",
    "\n",
    "$C^{max}_{l,r,t}$ - maximum consumption availability for resource r $\\in$ $\\mathcal{R}^{cons}$ in time t $\\in$ $\\mathcal{T}^{sch}$\n",
    "\n",
    "$D_{l,r,t}$ - demand for resource r $in$ $\\mathcal{R}^{sell}$ in time t $\\in$ $\\mathcal{T}^{sch}$\n",
    "\n",
    "$\\alpha$ - annualization factor"
   ]
  },
  {
   "cell_type": "markdown",
   "metadata": {},
   "source": [
    "## MILP Formulation"
   ]
  },
  {
   "attachments": {},
   "cell_type": "markdown",
   "metadata": {},
   "source": [
    "\n",
    "\n",
    "\\begin{equation}\n",
    "    min \\sum_{l \\in \\mathcal{L}} \\Big(\\sum_{t \\in \\mathcal{T}^{net}} \\sum_{p \\in \\mathcal{P}} \\alpha \\times Capex_{l,p,t} \\times Cap^P_{l,p,t} +  \\sum_{t \\in \\mathcal{T}^{sch}} \\sum_{r \\in \\mathcal{R}}  Vopex_{l,r,t} \\times P_{l,r,t} \n",
    "\\end{equation}\n",
    "\n",
    "\\begin{equation*}\n",
    "    \\sum_{b \\in \\mathcal{B}} \\Big(\\sum_{t \\in \\mathcal{T}^{sch}} \\sum_{l \\in \\mathcal{L}} Trans^{cost}_{b,r,t} Trans^{in}_{b,l,l',r,t} + \\sum_{t \\in \\mathcal{T}^{sch}} \\sum_{l \\in \\mathcal{L}} Trans^{cost}_{b,r,t}Trans^{out}_{b,l,l',r,t} \\Big)\n",
    "\\end{equation*}\n",
    "\n",
    "\\begin{equation*}\n",
    "    + \\sum_{t \\in \\mathcal{T}^{sch}} \\sum_{r \\in \\mathcal{R}^{cons}} C_{l,r,t} \\times Price_{l,r,t} \\Big)\n",
    "\\end{equation*}\n",
    "\n",
    "\\begin{equation}\n",
    "    Cap^S_{l,r,t} \\leq Cap^{S-max}_{l,r,t} \\times X^S_{l,r,t} \\hspace{1cm} \\forall r \\in \\mathcal{R}^{storage}, t \\in \\mathcal{T}^{net}\n",
    "\\end{equation}\n",
    "\n",
    "\\begin{equation}\n",
    "    Cap^P_{l,p,t} \\leq Cap^{P-max}_{l,p,t} \\times X^P_{l,p,t}  \\hspace{1cm} \\forall p \\in \\mathcal{P}, t \\in \\mathcal{T}^{net}, l \\in \\mathcal{L}\n",
    "\\end{equation} \n",
    "\n",
    "\\begin{equation}\n",
    "    P_{l,p,t} \\leq Cap^{P}_{l,p,t}  \\hspace{1cm} \\forall p \\in \\mathcal{P}, t \\in \\mathcal{T}^{sch}\n",
    "\\end{equation} \n",
    "\n",
    "\\begin{equation}\n",
    "    Inv_{l,r,t} \\leq Cap^{S}_{l,r,t}  \\hspace{1cm} \\forall r \\in \\mathcal{R}^{storage}, t \\in \\mathcal{T}^{sch}\n",
    "\\end{equation} \n",
    "\n",
    "\n",
    "\\begin{equation}\n",
    "    - S_{l,r,t} \\leq - D_{l,r,t}  \\hspace{1cm} \\forall r \\in \\mathcal{R}, t \\in \\mathcal{T}^{sch}\n",
    "\\end{equation}\n",
    "\n",
    "\\begin{equation}\n",
    "    C_{l,r,t} \\leq C^{max}_{l,r,t} \\hspace{1cm} \\forall r \\in \\mathcal{R}, t \\in \\mathcal{T}^{sch}\n",
    "\\end{equation}\n",
    "\n",
    "\n",
    "\\begin{equation}\n",
    "    Trans^{in/out}_{b, l, l', r,t} \\leq Trans^{max-in/out}_{b, l,l', r,t} \\times X^B_{b,l,l',r,t} \\hspace{1cm} \\forall r \\in \\mathcal{R}, t \\in \\mathcal{T}^{sch} , (l,l') \\in \\mathcal{L}^2, b \\in \\mathcal{B} \n",
    "\\end{equation}\n",
    "\n",
    "\n",
    "\\begin{equation}\n",
    "    \\sum_{p \\in \\mathcal{P}} P_{l,p,t} \\times \\eta(p,r) + C_{l,r,t} + \\sum_{l' \\in \\mathcal{L} \\cap {l}}Trans^{in}_{l,l',r,t} = \\sum_{l' \\in \\mathcal{L} \\cap {l}} Trans^{out}_{l,l',r,t} + Inv_{l,r,t} + S_{l,r,t}  \n",
    "\\end{equation}\n",
    "\n",
    "\\begin{equation*}\n",
    "    \\forall r \\in \\mathcal{R}^{cons}, t \\in \\mathcal{T}^{sch}, l \\in \\mathcal{L}\n",
    "\\end{equation*}\n",
    "\n",
    "\\begin{equation}\n",
    "    S_{l,r,t}, C_{l,r,t}, Inv_{l,r,t}, P_{l,p,t}, Cap^P_{l,p,t}, Cap^S_{l,r,t}, Trans^{in/out}_{b,l,l',r,t} \\in R_{\\geq 0}\n",
    "\\end{equation}\n",
    "\n"
   ]
  },
  {
   "cell_type": "markdown",
   "metadata": {},
   "source": [
    "$\\textbf{Import modules}$"
   ]
  },
  {
   "cell_type": "code",
   "execution_count": 2,
   "metadata": {},
   "outputs": [],
   "source": [
    "import sys\n",
    "sys.path.append('../../src')"
   ]
  },
  {
   "cell_type": "code",
   "execution_count": 3,
   "metadata": {},
   "outputs": [],
   "source": [
    "\n",
    "from energiapy.components.result import Result\n",
    "import pandas\n",
    "from itertools import product\n",
    "from matplotlib import rc\n",
    "import matplotlib.pyplot as plt\n",
    "from energiapy.model.solve import solve\n",
    "from energiapy.plot.plot_results import CostY, CostX\n",
    "from energiapy.plot import plot_results, plot_scenario\n",
    "from energiapy.utils.nsrdb_utils import fetch_nsrdb_data\n",
    "from energiapy.model.formulate import formulate, Constraints, Objective\n",
    "from energiapy.model.bounds import CapacityBounds\n",
    "from energiapy.utils.data_utils import get_data, make_henry_price_df, remove_outliers, load_results\n",
    "from energiapy.components.transport import Transport\n",
    "from energiapy.components.scenario import Scenario\n",
    "from energiapy.components.network import Network\n",
    "from energiapy.components.location import Location\n",
    "from energiapy.components.material import Material\n",
    "from energiapy.components.process import Process, VaryingProcess\n",
    "from energiapy.components.resource import Resource, VaryingResource\n",
    "from energiapy.components.temporal_scale import TemporalScale\n",
    "import numpy\n",
    "from energiapy.conversion.photovoltaic import solar_power_output\n",
    "from energiapy.conversion.windmill import wind_power_output\n"
   ]
  },
  {
   "cell_type": "markdown",
   "metadata": {},
   "source": [
    "## Data Import"
   ]
  },
  {
   "attachments": {},
   "cell_type": "markdown",
   "metadata": {},
   "source": [
    "The following data is needed for the model\n",
    "\n",
    "- solar and wind profiles : energiapy.fetch_nsrdb_data imports data from the NREL NSRDB database\n",
    "- power demand : ERCOT for Houston\n",
    "- Natural Gas prices: Henry Hub \n"
   ]
  },
  {
   "cell_type": "markdown",
   "metadata": {},
   "source": [
    "**Get Weather data**"
   ]
  },
  {
   "attachments": {},
   "cell_type": "markdown",
   "metadata": {},
   "source": [
    "The fetch_nsrdb function accesses the [National Solar Radiation Database (NSRDB)](https://nsrdb.nrel.gov/) hosted by NREL on a Amazon Web Services (AWS) cloud through the h5py module To access large datasets, an API key can be requested from NREL.\n",
    "\n",
    "download data at any latitude longitude (globally) or state-county (because of repetition of county names) pairs within the US.\n",
    "\n",
    "Skim and fetch data which match different specifications, e.g. wind data for collection point at the highest elevation in the county.\n",
    "\n",
    "While HSDS allows you to splice datasets, the script allows you to also find means within ranges.\n",
    "\n",
    "Arrange data in a dataframe for multiscale analysis, with the temporal indices as tuples. [Can be saved as .csv/.txt/.json/.pkl]\n",
    "\n",
    "Here, we import solar data as dni and wind data as wind speed for most populated data point in Harris county (TX) and San Diego county (SD) at an hourly resolution"
   ]
  },
  {
   "cell_type": "code",
   "execution_count": 4,
   "metadata": {},
   "outputs": [],
   "source": [
    "# weather_sandiego = pandas.concat([fetch_nsrdb_data(attrs=['dni', 'dhi', 'wind_speed', 'ghi', 'air_temperature', 'dew_point', 'relative_humidity', 'surface_pressure'], year=2016+i , state='California',\n",
    "#                                     county='San Diego', resolution='hourly', get='min-elevation')[1] for i in range(5)])\n",
    "# index = weather_sandiego.index\n",
    "# weather_sandiego.index = pandas.to_datetime(weather_sandiego.index, utc = True)\n",
    "# weather_sandiego.index = weather_sandiego.index.strftime('%m/%d/%Y, %r')\n",
    "# weather_sandiego = weather_sandiego[~weather_sandiego.index.str.contains('02/29')]\n",
    "\n",
    "# weather_houston = pandas.concat([fetch_nsrdb_data(attrs=['dni', 'dhi', 'wind_speed', 'ghi', 'air_temperature', 'dew_point', 'relative_humidity', 'surface_pressure'], year=2016+i, state='Texas',\n",
    "#                                    county='Harris', resolution='hourly', get='min-elevation')[1] for i in range(5)])\n",
    "# weather_houston.index = pandas.to_datetime(weather_houston.index, utc = True)\n",
    "# weather_houston.index = weather_houston.index.strftime('%m/%d/%Y, %r')\n",
    "# weather_houston = weather_houston[~weather_houston.index.str.contains('02/29')]\n",
    "\n",
    "# weather_houston.to_csv('weather_houston.csv')\n",
    "# weather_sandiego.to_csv('weather_sandiego.csv')\n"
   ]
  },
  {
   "attachments": {},
   "cell_type": "markdown",
   "metadata": {},
   "source": [
    "**OR**\n",
    "\n",
    "Import from existing datasets. The data in this case has been downloaded from the NSRDB Viewer"
   ]
  },
  {
   "cell_type": "code",
   "execution_count": 5,
   "metadata": {},
   "outputs": [
    {
     "name": "stderr",
     "output_type": "stream",
     "text": [
      "C:\\Users\\cacodcar\\AppData\\Local\\Temp\\ipykernel_7580\\2873207647.py:3: UserWarning: Could not infer format, so each element will be parsed individually, falling back to `dateutil`. To ensure parsing is consistent and as-expected, please specify a format.\n",
      "  weather_houston.index = pandas.to_datetime(weather_houston.index, utc = True)\n"
     ]
    }
   ],
   "source": [
    "coord_houston = (29.56999969482422, -95.05999755859375)\n",
    "weather_houston = pandas.read_csv('../data/weather_houston.csv', index_col=0)\n",
    "weather_houston.index = pandas.to_datetime(weather_houston.index, utc = True)\n"
   ]
  },
  {
   "cell_type": "code",
   "execution_count": 6,
   "metadata": {},
   "outputs": [],
   "source": [
    "solar_houston = solar_power_output(data= weather_houston, coord=coord_houston)"
   ]
  },
  {
   "cell_type": "code",
   "execution_count": 7,
   "metadata": {},
   "outputs": [],
   "source": [
    "wind_houston = wind_power_output(data= weather_houston)"
   ]
  },
  {
   "attachments": {},
   "cell_type": "markdown",
   "metadata": {},
   "source": [
    "**import natural gas prices**\n",
    "\n",
    "Natural gas prices are from the Henry price index at a daily temporal resolution.\n",
    "\n",
    "The energia.make_henry_price_df function implicitly fills in gaps in data such as weekends and public holidays by repeating the last recorded prices For e.g. if the 4th of July will use the price for the 3rd of July a typical saturday and sunday will take the values for the last friday.\n",
    "\n",
    "The stretch functionality stretches the values over the hourly temporal scale (8760) from a daily temporal scale (365), again through repetition.\n",
    "\n",
    "Moreover, we can remove outliers usig the remove_outliers features in data_utils"
   ]
  },
  {
   "cell_type": "code",
   "execution_count": 8,
   "metadata": {},
   "outputs": [],
   "source": [
    "ng_price_df = pandas.concat(\n",
    "    [make_henry_price_df(file_name='../data/Henry_Hub_Natural_Gas_Spot_Price_Daily.csv', year=2016 +i, stretch = True) for i in range(5)])"
   ]
  },
  {
   "attachments": {},
   "cell_type": "markdown",
   "metadata": {},
   "source": [
    "**Import demand data**\n",
    "\n",
    "Get [hourly power demand data](https://www.ercot.com/gridinfo/load/load_hist)  for Houston from ERCOT Coastal region"
   ]
  },
  {
   "cell_type": "code",
   "execution_count": 9,
   "metadata": {},
   "outputs": [
    {
     "name": "stderr",
     "output_type": "stream",
     "text": [
      "C:\\Users\\cacodcar\\AppData\\Local\\Temp\\ipykernel_7580\\3085676995.py:2: UserWarning: Could not infer format, so each element will be parsed individually, falling back to `dateutil`. To ensure parsing is consistent and as-expected, please specify a format.\n",
      "  ercot.index = pandas.to_datetime(ercot.index, utc = True)\n"
     ]
    }
   ],
   "source": [
    "ercot = pandas.read_csv('../data/ercot.csv', index_col=0)\n",
    "ercot.index = pandas.to_datetime(ercot.index, utc = True)\n",
    "ercot.loc['2016-11-06 23:00:00'] = ercot.loc['2016-11-06 22:00:00'] #random missing value"
   ]
  },
  {
   "cell_type": "markdown",
   "metadata": {},
   "source": [
    "**Technology cost data from NREL ATB**"
   ]
  },
  {
   "attachments": {},
   "cell_type": "markdown",
   "metadata": {},
   "source": [
    "NREL [Annual Technology Baseline (ATB)](https://atb.nrel.gov/) is a good source for technology cost and their expected trajectories. The annualy updated list categorizes trajectories based on the appetite for research and policy push and proposes three distinct scenarios:\n",
    "\n",
    "- Advanced\n",
    "- Moderate\n",
    "- Conservative\n",
    "\n",
    "The data for technologies not covered by ATB are drawn from literature. The trajectories for these technologies (mostly conventional) are set with only modest reduction rates as these have already stagnated in terms of cost, having witness generations of utility scale application; e.g. steam methane reforming (SMR). "
   ]
  },
  {
   "cell_type": "code",
   "execution_count": 10,
   "metadata": {},
   "outputs": [],
   "source": [
    "url = 'https://oedi-data-lake.s3.amazonaws.com/ATB/electricity/parquet/2022/ATBe.parquet'\n",
    "raw_data = pandas.read_parquet(url)\n",
    "raw_data = raw_data.astype(\n",
    "    dtype={\n",
    "        'core_metric_key': 'string',\n",
    "        'core_metric_parameter': 'string',\n",
    "        'core_metric_case': 'string',\n",
    "        'crpyears': 'string',\n",
    "        'technology': 'string',\n",
    "        'technology_alias': 'string',\n",
    "        'techdetail': 'string',\n",
    "        'display_name': 'string',\n",
    "        'scenario': 'string',\n",
    "        'units': 'string'\n",
    "    })\n"
   ]
  },
  {
   "cell_type": "code",
   "execution_count": 11,
   "metadata": {},
   "outputs": [],
   "source": [
    "def atb_gttr(core_metric_parameters, core_metric_case, crpyear, technology, techdetail, scenario):\n",
    "    df_out = pandas.DataFrame()\n",
    "    for i in core_metric_parameters:\n",
    "        df = pandas.DataFrame(raw_data[\n",
    "            (raw_data.core_metric_parameter == i) &\n",
    "            (raw_data.core_metric_case == core_metric_case) &\n",
    "            (raw_data.crpyears == str(crpyear)) &\n",
    "            (raw_data.technology == technology) &\n",
    "            (raw_data.techdetail == techdetail) &\n",
    "            (raw_data.scenario == scenario)\n",
    "        ][['value']])\n",
    "        df = df.rename({'value': i}, axis='columns')\n",
    "        df = df.reset_index()\n",
    "        df_out = pandas.concat([df_out, df], axis='columns')\n",
    "        df_out = df_out.loc[:, ~df_out.columns.duplicated()].copy()\n",
    "        df_out = df_out.fillna(0)\n",
    "        df_out = df_out.drop(columns=['index'])\n",
    "    return df_out\n"
   ]
  },
  {
   "cell_type": "code",
   "execution_count": 12,
   "metadata": {},
   "outputs": [],
   "source": [
    "\n",
    "hig_trl_adv = [(1 - i/(31*15)) for i in range(31)]\n",
    "hig_trl_mod = [(1 - i/(31*10)) for i in range(31)]\n",
    "hig_trl_con = [(1 - i/(31*5)) for i in range(31)]\n",
    "\n",
    "med_trl_adv = [(1 - i/(31*40)) for i in range(31)]\n",
    "med_trl_mod = [(1 - i/(31*30)) for i in range(31)]\n",
    "med_trl_con = [(1 - i/(31*20)) for i in range(31)]\n",
    "\n",
    "low_trl_adv = [(1 - i/(31*70)) for i in range(31)]\n",
    "low_trl_mod = [(1 - i/(31*50)) for i in range(31)]\n",
    "low_trl_con = [(1 - i/(31*30)) for i in range(31)]\n",
    "\n",
    "hig_trl_adv_df = pandas.DataFrame(\n",
    "    data={'CAPEX': hig_trl_adv, 'Fixed O&M': hig_trl_adv, 'Variable O&M': hig_trl_adv})\n",
    "hig_trl_mod_df = pandas.DataFrame(\n",
    "    data={'CAPEX': hig_trl_mod, 'Fixed O&M': hig_trl_mod, 'Variable O&M': hig_trl_mod})\n",
    "hig_trl_con_df = pandas.DataFrame(\n",
    "    data={'CAPEX': hig_trl_con, 'Fixed O&M': hig_trl_con, 'Variable O&M': hig_trl_con})\n",
    "med_trl_adv_df = pandas.DataFrame(\n",
    "    data={'CAPEX': med_trl_adv, 'Fixed O&M': med_trl_adv, 'Variable O&M': med_trl_adv})\n",
    "med_trl_mod_df = pandas.DataFrame(\n",
    "    data={'CAPEX': med_trl_mod, 'Fixed O&M': med_trl_mod, 'Variable O&M': med_trl_mod})\n",
    "med_trl_con_df = pandas.DataFrame(\n",
    "    data={'CAPEX': med_trl_con, 'Fixed O&M': med_trl_con, 'Variable O&M': med_trl_con})\n",
    "low_trl_adv_df = pandas.DataFrame(\n",
    "    data={'CAPEX': low_trl_adv, 'Fixed O&M': low_trl_adv, 'Variable O&M': low_trl_adv})\n",
    "low_trl_mod_df = pandas.DataFrame(\n",
    "    data={'CAPEX': low_trl_mod, 'Fixed O&M': low_trl_mod, 'Variable O&M': low_trl_mod})\n",
    "low_trl_con_df = pandas.DataFrame(\n",
    "    data={'CAPEX': low_trl_con, 'Fixed O&M': low_trl_con, 'Variable O&M': low_trl_con})\n",
    "constant_df = pandas.DataFrame(\n",
    "    data={'CAPEX': [1]*31, 'Fixed O&M': [1]*31, 'Variable O&M': [1]*31})\n",
    "\n",
    "\n",
    "param_list = ['CAPEX', 'Fixed O&M', 'Variable O&M']\n",
    "advanced_dict = {\n",
    "    'PV': atb_gttr(core_metric_parameters=param_list, core_metric_case='Market', crpyear=30, technology='UtilityPV', techdetail='Class1', scenario='Advanced'),\n",
    "    'WF': atb_gttr(core_metric_parameters=param_list, core_metric_case='Market', crpyear=30, technology='LandbasedWind', techdetail='Class1', scenario='Advanced'),\n",
    "    'LiI': atb_gttr(core_metric_parameters=param_list, core_metric_case='R&D', crpyear=30, technology='Commercial Battery Storage', techdetail='8Hr Battery Storage', scenario='Advanced'),\n",
    "    'LII_discharge': constant_df,\n",
    "    'PSH': atb_gttr(core_metric_parameters=param_list, core_metric_case='Market', crpyear=30, technology='Pumped Storage Hydropower', techdetail='NatlClass10', scenario='Advanced'),\n",
    "    'PSH_discharge': constant_df,\n",
    "    'ASMR': atb_gttr(core_metric_parameters=param_list, core_metric_case='Market', crpyear=30, technology='Nuclear', techdetail='NuclearSMR', scenario='Moderate'),\n",
    "    'NPP': atb_gttr(core_metric_parameters=param_list, core_metric_case='Market', crpyear=30, technology='Nuclear', techdetail='Nuclear', scenario='Advanced'),\n",
    "    'NGCC': atb_gttr(core_metric_parameters=param_list, core_metric_case='Market', crpyear=30, technology='NaturalGas_FE', techdetail='CCCCSHFrame95%', scenario='Conservative'),\n",
    "    'SMR': hig_trl_adv_df,\n",
    "    'SMRH': hig_trl_adv_df,\n",
    "    'AqOff': hig_trl_adv_df,\n",
    "    'DAC': low_trl_adv_df,\n",
    "    'PEM': low_trl_adv_df,\n",
    "    'H2_L_c': med_trl_adv_df,\n",
    "    'H2_L_d': constant_df\n",
    "}\n",
    "\n",
    "\n",
    "moderate_dict = {\n",
    "    'PV': atb_gttr(core_metric_parameters=param_list, core_metric_case='Market', crpyear=30, technology='UtilityPV', techdetail='Class1', scenario='Moderate'),\n",
    "    'WF': atb_gttr(core_metric_parameters=param_list, core_metric_case='Market', crpyear=30, technology='LandbasedWind', techdetail='Class1', scenario='Moderate'),\n",
    "    'LiI': atb_gttr(core_metric_parameters=param_list, core_metric_case='R&D', crpyear=30, technology='Commercial Battery Storage', techdetail='8Hr Battery Storage', scenario='Moderate'),\n",
    "    'LII_discharge': constant_df,\n",
    "    'PSH': atb_gttr(core_metric_parameters=param_list, core_metric_case='Market', crpyear=30, technology='Pumped Storage Hydropower', techdetail='NatlClass10', scenario='Moderate'),\n",
    "    'PSH_discharge': constant_df,\n",
    "    'ASMR': atb_gttr(core_metric_parameters=param_list, core_metric_case='Market', crpyear=30, technology='Nuclear', techdetail='NuclearSMR', scenario='Moderate'),\n",
    "    'NPP': atb_gttr(core_metric_parameters=param_list, core_metric_case='Market', crpyear=30, technology='Nuclear', techdetail='Nuclear', scenario='Moderate'),\n",
    "    'NGCC': atb_gttr(core_metric_parameters=param_list, core_metric_case='Market', crpyear=30, technology='NaturalGas_FE', techdetail='CCCCSHFrame95%', scenario='Conservative'),\n",
    "    'SMR': hig_trl_mod_df,\n",
    "    'SMRH': hig_trl_mod_df,\n",
    "    'AqOff': hig_trl_mod_df,\n",
    "    'DAC': low_trl_mod_df,\n",
    "    'PEM': low_trl_mod_df,\n",
    "    'H2_L_c': med_trl_mod_df,\n",
    "    'H2_L_d': constant_df\n",
    "}\n",
    "\n",
    "\n",
    "conservative_dict = {\n",
    "    'PV': atb_gttr(core_metric_parameters=param_list, core_metric_case='Market', crpyear=30, technology='UtilityPV', techdetail='Class1', scenario='Conservative'),\n",
    "    'WF': atb_gttr(core_metric_parameters=param_list, core_metric_case='Market', crpyear=30, technology='LandbasedWind', techdetail='Class1', scenario='Conservative'),\n",
    "    'LiI': atb_gttr(core_metric_parameters=param_list, core_metric_case='R&D', crpyear=30, technology='Commercial Battery Storage', techdetail='8Hr Battery Storage', scenario='Conservative'),\n",
    "    'LII_discharge': constant_df,\n",
    "    'PSH': atb_gttr(core_metric_parameters=param_list, core_metric_case='Market', crpyear=30, technology='Pumped Storage Hydropower', techdetail='NatlClass10', scenario='Conservative'),\n",
    "    'PSH_discharge': constant_df,\n",
    "    # no cons, adv\n",
    "    'ASMR': atb_gttr(core_metric_parameters=param_list, core_metric_case='Market', crpyear=30, technology='Nuclear', techdetail='NuclearSMR', scenario='Moderate'),\n",
    "    'NPP': atb_gttr(core_metric_parameters=param_list, core_metric_case='Market', crpyear=30, technology='Nuclear', techdetail='Nuclear', scenario='Conservative'),\n",
    "    'NGCC': atb_gttr(core_metric_parameters=param_list, core_metric_case='Market', crpyear=30, technology='NaturalGas_FE', techdetail='CCCCSHFrame95%', scenario='Conservative'),\n",
    "    'SMR': hig_trl_con_df,\n",
    "    'SMRH': hig_trl_con_df,\n",
    "    'AqOff': hig_trl_con_df,\n",
    "    'DAC': low_trl_con_df,\n",
    "    'PEM': low_trl_con_df,\n",
    "    'H2_L_c': med_trl_con_df,\n",
    "    'H2_L_d': constant_df\n",
    "}\n"
   ]
  },
  {
   "cell_type": "markdown",
   "metadata": {},
   "source": [
    "## Define temporal scale\n"
   ]
  },
  {
   "cell_type": "markdown",
   "metadata": {},
   "source": [
    "The variabilities of energy systems are best captured over a discretized spatio-temporal scale. In energiapy, the first declaration is the temporal scale. \n",
    "\n",
    "For e.g.: Here we declare three temporal scales at different levels from right to left. The interpretation of these scales is merely symentic. Scales can be declared as the problem demands.\n",
    "- 0, annual, with 1 discretization\n",
    "- 1, daily with 365 discretization\n",
    "- 2, hourly with 24 discretization\n",
    "\n",
    "In essence, we are creating a temporal scale of 8760 points."
   ]
  },
  {
   "cell_type": "code",
   "execution_count": 13,
   "metadata": {},
   "outputs": [],
   "source": [
    "scales = TemporalScale(discretization_list=[1, 365, 24])\n"
   ]
  },
  {
   "attachments": {},
   "cell_type": "markdown",
   "metadata": {},
   "source": [
    "**Big and small M**"
   ]
  },
  {
   "cell_type": "code",
   "execution_count": 14,
   "metadata": {},
   "outputs": [],
   "source": [
    "bigM = 10**5\n",
    "smallM = 10\n"
   ]
  },
  {
   "cell_type": "markdown",
   "metadata": {},
   "source": [
    "## Declare resources"
   ]
  },
  {
   "attachments": {},
   "cell_type": "markdown",
   "metadata": {},
   "source": [
    "Resources can be consumed, produced, stored, discharged (or sold). Resources measured as mass (sparing Uranium) are quantified on a per metric ton basis, energy feedstock and resources us a Mega Watt (MW) basis.\n",
    "\n",
    "- Power and Hydrogen (H2) have varying demands which are captured using deterministic data inputs\n",
    "- Methane (CH4) has varying purchase price"
   ]
  },
  {
   "cell_type": "code",
   "execution_count": 15,
   "metadata": {},
   "outputs": [],
   "source": [
    "\n",
    "Solar = Resource(name='Solar', cons_max=100, basis='MW', label='Solar Power')\n",
    "\n",
    "Wind = Resource(name='Wind', cons_max=100, basis='MW', label='Wind Power')\n",
    "\n",
    "Power = Resource(name='Power', basis='MW', label='Power generated')\n",
    "\n",
    "Uranium = Resource(name='Uranium', cons_max=100,\n",
    "                   price=42.70/(250/2), basis='kg', label='Uranium')\n",
    "\n",
    "H2 = Resource(name='H2', basis='tons', label='Hydrogen')\n",
    "\n",
    "H2_C = Resource(name='H2(C)', basis='tons', label='Hydrogen(C)', demand=True)\n",
    "\n",
    "CO2_AQoff = Resource(name='CO2_AQoff', basis='tons',\n",
    "                     label='Carbon dioxide - sequestered', sell=True)\n",
    "\n",
    "H2O = Resource(name='H2O', cons_max=1000,\n",
    "               price=0.001, basis='tons', label='Water', block='Resource')\n",
    "\n",
    "CH4 = Resource(name='CH4', cons_max=1000, price=118.48, basis='tons',\n",
    "               label='Natural gas', varying=[VaryingResource.DETERMINISTIC_PRICE])\n",
    "\n",
    "CO2 = Resource(name='CO2', basis='tons',\n",
    "               label='Carbon dioxide', block='Resource')\n",
    "\n",
    "CO2_Vent = Resource(name='CO2_Vent', sell=True, basis='tons',\n",
    "                    label='Carbon dioxide - Vented')\n",
    "\n",
    "O2 = Resource(name='O2', sell=True, basis='tons', label='Oxygen')\n",
    "\n",
    "CO2_DAC = Resource(name='CO2_DAC', basis='tons',\n",
    "                   label='Carbon dioxide - captured')\n"
   ]
  },
  {
   "cell_type": "markdown",
   "metadata": {},
   "source": [
    "$\\textbf{Declare processes}$"
   ]
  },
  {
   "attachments": {},
   "cell_type": "markdown",
   "metadata": {},
   "source": [
    "Technology costs are derived from the NREL ATB and conversion factors are derived from literature.\n",
    "\n",
    "- Solar photovoltaics (PVs) and wind farms (WFs) are subject to intermittent capacity rates"
   ]
  },
  {
   "cell_type": "code",
   "execution_count": 16,
   "metadata": {},
   "outputs": [],
   "source": [
    "\n",
    "PEM = Process(name='PEM', conversion={Power: -1, H2: 0.3537, O2: 2.8302, H2O: -3.1839}, capex=1.55*10**6, fopex=0,\n",
    "              vopex=0, prod_max=100, prod_min = 0, basis = 'tons', label = 'PEM' )\n",
    "\n",
    "LiI = Process(name='LiI', storage=Power, capex=1302182, fopex=41432, vopex=2000,\n",
    "              prod_max=100, prod_min=0, store_max=10000, label='Lithium-ion battery', basis='MW')\n",
    "\n",
    "WF = Process(name='WF', conversion={Wind: -1, Power: 1}, capex=1462000, fopex=43000, vopex=4953, land = 10800/1800,\n",
    "             prod_max=100, prod_min=0, label='Wind mill array', varying=[VaryingProcess.DETERMINISTIC_CAPACITY], basis='MW')\n",
    "\n",
    "PV = Process(name='PV', conversion={Solar: -1, Power: 1}, capex=1333262, fopex=22623, vopex=4953,  land = 10000/1800,\n",
    "             prod_max=100, prod_min=0,  varying= [VaryingProcess.DETERMINISTIC_CAPACITY], label='Solar PV', basis='MW')\n",
    "\n",
    "H2_Comp = Process(name='H2_Comp', conversion={Power: -0.417, H2_C: 1, H2: -1}, capex=1.6 *\n",
    "                 10**6, vopex=3.5, fopex=0, prod_max=100, prod_min=0,  label='Hydrogen Compression')\n",
    "\n",
    "SMRH = Process(name='SMRH', conversion={Power: -1.11, CH4: -3.76, H2O: -23.7, H2: 1, CO2_Vent: 1.03, CO2: 9.332}, capex=2520000, fopex=945000, vopex=51.5,\n",
    "               prod_max=bigM, prod_min=smallM,  label='Steam methane reforming + CCUS', block='h2_prod')\n",
    "\n",
    "NGCC = Process(name='NGCC', conversion={Power: 1, CH4: -0.108, CO2_Vent: 0.297*0.05, CO2: 0.297 *\n",
    "               0.95}, capex=2158928, fopex=53320, vopex=4090, prod_max=bigM, prod_min=smallM,  label='NGCC + 95% CC', block='power_gen')\n",
    "\n",
    "SMR = Process(name='SMR', capex=2400, fopex=800, vopex=0.03,  conversion={\n",
    "              Power: -1.11, CH4: -3.76, H2O: -23.7, H2: 1, CO2_Vent: 9.4979}, prod_max=bigM, prod_min=0.01,  label='Steam methane reforming', block='h2_prod')\n",
    "\n",
    "DAC = Process(name='DAC', capex=0.02536, fopex=0.634, vopex=0, conversion={\n",
    "              Power: -0.193, H2O: -4.048, CO2_DAC: 1}, prod_max=bigM, prod_min=smallM,  label='Direct air capture', block='ccus')\n",
    "\n",
    "PSH = Process(name='PSH', storage= Power,  capex=3924781,\n",
    "              fopex=17820, vopex=512.5, prod_max=bigM, prod_min=smallM, store_min=smallM, store_max=1000, label='Pumped storage hydropower', basis='MW', block='energy_storage')\n",
    "\n",
    "ASMR = Process(name='ASMR', conversion={Uranium: -4.17*10**(-5), H2O: -3.364, Power: 1},\n",
    "               capex=7988951, fopex=0.04*0.730, vopex=0, prod_max=bigM, prod_min=smallM, label='Small modular reactors (SMRs)', block='power_gen')\n",
    "\n",
    "AqOff = Process(name='AqOff', conversion={Power: -1.28, CO2_AQoff: 1, CO2: -1}, capex=5.52,\n",
    "                vopex=4.14, fopex=0, prod_max=bigM, prod_min=smallM,   label='Offshore aquifer CO2 sequestration (SMR)', block='ccus')\n",
    "\n"
   ]
  },
  {
   "attachments": {},
   "cell_type": "markdown",
   "metadata": {},
   "source": [
    "**Declare the set of processes to consider**"
   ]
  },
  {
   "cell_type": "code",
   "execution_count": 17,
   "metadata": {},
   "outputs": [],
   "source": [
    "process_set = {LiI, WF, ASMR, PEM, H2_Comp, NGCC, AqOff, PSH, SMR, SMRH, PV}\n"
   ]
  },
  {
   "attachments": {},
   "cell_type": "markdown",
   "metadata": {},
   "source": [
    "**Import cost factors**\n",
    "\n",
    "In the following case, we consider the *Advanced* scenario."
   ]
  },
  {
   "attachments": {},
   "cell_type": "markdown",
   "metadata": {},
   "source": [
    "**Declare location (houston)**\n",
    "\n",
    "The following deterministic data inputs are provide:\n",
    "\n",
    "1. demand factors for Power and Hydrogen (H2) at an hourly resolution (demand_scale_level = 2)\n",
    "2. price factors for Methane (CH4) at a daily resolution (price_scale_level = 1)\n",
    "3. capacity factors for solar photovoltaics (PV) and wind farms (WF) at an hourly resolution (capacity_scale_level = 2)\n",
    "4. capex, fopex, and vopex factors at an annual resolution for all processes (expenditure_scale_level = 0)\n"
   ]
  },
  {
   "cell_type": "code",
   "execution_count": 19,
   "metadata": {},
   "outputs": [],
   "source": [
    "houston = Location(name='HO', processes=process_set, capacity_factor={PV: solar_houston[-8760:], WF: wind_houston[-8760:]}, price_factor={\n",
    "                   CH4: ng_price_df[-8760:]}, scales=scales, label='Houston', expenditure_scale_level=0, demand_scale_level=1, capacity_scale_level=2, price_scale_level=2)\n"
   ]
  },
  {
   "attachments": {},
   "cell_type": "markdown",
   "metadata": {},
   "source": [
    "**Declare scenario**\n",
    "\n",
    "The demand needs to be stated here for each resource at location.\n",
    "energiapy handles demand not stated at a per location level by meeting the demand across all locations\n",
    "Similarly, if resources are not stated the demand is met using all resources with demand (Process.demand = True). This does not make sense for resources with different basis but might be useful if the model needs to meet the demand for similar resources from different sources.\n",
    "\n",
    "The scales need to be stated here to help generate the scenario:\n",
    "\n",
    "1. expenditure scale level - technology expenditure decisions \n",
    "2. scheduling scale level - scheduling decisions such as production levels for process; purchase, discharge (sale), consumption, and inventory levels for resources  \n",
    "3. network scale level - design of network i.e. the location and capacity sizing of production and storage facilities on a per unit basis\n",
    "4. demand scale level - to meet the demand of a resource. Note that if this is higher than the scale for demand factor at location, energiapy will sum the demand across the lower scale\n",
    "5. purchase scale level - purchase of resources that can be consumed. Needs to match the price scale level at location level"
   ]
  },
  {
   "cell_type": "code",
   "execution_count": 20,
   "metadata": {},
   "outputs": [],
   "source": [
    "\n",
    "scenario = Scenario(name='scenario_full', network=houston, scales=scales,  expenditure_scale_level=0, scheduling_scale_level=2,\n",
    "                    network_scale_level=0, demand_scale_level=1, purchase_scale_level=1, capacity_scale_level= 2, label='full_case', demand={houston: {H2_C: 0.2740}})\n"
   ]
  },
  {
   "attachments": {},
   "cell_type": "markdown",
   "metadata": {},
   "source": [
    "**Optimize for minimum cost**"
   ]
  },
  {
   "cell_type": "code",
   "execution_count": 21,
   "metadata": {},
   "outputs": [
    {
     "name": "stdout",
     "output_type": "stream",
     "text": [
      "constraint process capex\n",
      "constraint process fopex\n",
      "constraint process vopex\n",
      "constraint process incidental\n",
      "constraint location capex\n",
      "constraint location fopex\n",
      "constraint location vopex\n",
      "constraint location incidental\n",
      "constraint network capex\n",
      "constraint network fopex\n",
      "constraint network vopex\n",
      "constraint network incidental\n",
      "constraint production mode\n",
      "constraint inventory balance\n",
      "constraint network production\n",
      "constraint network discharge\n",
      "constraint network consumption\n",
      "constraint network purchase\n"
     ]
    },
    {
     "name": "stderr",
     "output_type": "stream",
     "text": [
      "ERROR:pyomo.core:Rule failed when generating expression for Constraint constraint_resource_purchase_varying with index ('HO', 'CH4', 0, 0, 0):\n",
      "KeyError: (0, 0)\n",
      "ERROR:pyomo.core:Constructing component 'constraint_resource_purchase_varying' from data=None failed:\n",
      "KeyError: (0, 0)\n"
     ]
    },
    {
     "ename": "KeyError",
     "evalue": "(0, 0)",
     "output_type": "error",
     "traceback": [
      "\u001b[1;31m---------------------------------------------------------------------------\u001b[0m",
      "\u001b[1;31mKeyError\u001b[0m                                  Traceback (most recent call last)",
      "Cell \u001b[1;32mIn[21], line 1\u001b[0m\n\u001b[1;32m----> 1\u001b[0m milp_cost \u001b[39m=\u001b[39m formulate(scenario\u001b[39m=\u001b[39;49mscenario, constraints\u001b[39m=\u001b[39;49m{Constraints\u001b[39m.\u001b[39;49mCOST, Constraints\u001b[39m.\u001b[39;49mINVENTORY, Constraints\u001b[39m.\u001b[39;49mPRODUCTION,\n\u001b[0;32m      2\u001b[0m                       Constraints\u001b[39m.\u001b[39;49mRESOURCE_BALANCE, Constraints\u001b[39m.\u001b[39;49mNETWORK, Constraints\u001b[39m.\u001b[39;49mDEMAND}, objective\u001b[39m=\u001b[39;49mObjective\u001b[39m.\u001b[39;49mCOST)\u001b[39m#, inventory_zero = {houston: {(LiI, Power): 1}})\u001b[39;00m\n",
      "File \u001b[1;32mc:\\Users\\cacodcar\\energiapy\\examples\\multiperiod\\../../src\\energiapy\\model\\formulate.py:443\u001b[0m, in \u001b[0;36mformulate\u001b[1;34m(scenario, constraints, objective, write_lpfile, gwp, land_restriction, gwp_reduction_pct, model_class, objective_resource, inventory_zero, demand_sign)\u001b[0m\n\u001b[0;32m    437\u001b[0m \u001b[39m# # *----------------resource purchase---------------------------------------------\u001b[39;00m\n\u001b[0;32m    439\u001b[0m instance\u001b[39m.\u001b[39mconstraint_resource_purchase_certain \u001b[39m=\u001b[39m make_constraint(\n\u001b[0;32m    440\u001b[0m     instance\u001b[39m=\u001b[39minstance, type_cons\u001b[39m=\u001b[39mCons\u001b[39m.\u001b[39mX_EQ_BY, variable_x\u001b[39m=\u001b[39m\u001b[39m'\u001b[39m\u001b[39mB\u001b[39m\u001b[39m'\u001b[39m, variable_y\u001b[39m=\u001b[39m\u001b[39m'\u001b[39m\u001b[39mC\u001b[39m\u001b[39m'\u001b[39m, location_set\u001b[39m=\u001b[39minstance\u001b[39m.\u001b[39mlocations, component_set\u001b[39m=\u001b[39minstance\u001b[39m.\u001b[39mresources_certain_price, b_max\u001b[39m=\u001b[39mscenario\u001b[39m.\u001b[39mprice_dict,\n\u001b[0;32m    441\u001b[0m     loc_comp_dict\u001b[39m=\u001b[39mscenario\u001b[39m.\u001b[39mloc_res_dict,  x_scale_level\u001b[39m=\u001b[39mscenario\u001b[39m.\u001b[39mscheduling_scale_level, y_scale_level\u001b[39m=\u001b[39mscenario\u001b[39m.\u001b[39mscheduling_scale_level, label\u001b[39m=\u001b[39m\u001b[39m'\u001b[39m\u001b[39mcalculates certain amount spent on resource consumption\u001b[39m\u001b[39m'\u001b[39m)\n\u001b[1;32m--> 443\u001b[0m instance\u001b[39m.\u001b[39;49mconstraint_resource_purchase_varying \u001b[39m=\u001b[39m make_constraint(\n\u001b[0;32m    444\u001b[0m     instance\u001b[39m=\u001b[39minstance, type_cons\u001b[39m=\u001b[39mCons\u001b[39m.\u001b[39mX_EQ_BY, variable_x\u001b[39m=\u001b[39m\u001b[39m'\u001b[39m\u001b[39mB\u001b[39m\u001b[39m'\u001b[39m, variable_y\u001b[39m=\u001b[39m\u001b[39m'\u001b[39m\u001b[39mC\u001b[39m\u001b[39m'\u001b[39m, location_set\u001b[39m=\u001b[39minstance\u001b[39m.\u001b[39mlocations, component_set\u001b[39m=\u001b[39minstance\u001b[39m.\u001b[39mresources_varying_price, b_max\u001b[39m=\u001b[39mscenario\u001b[39m.\u001b[39mprice_dict,\n\u001b[0;32m    445\u001b[0m     loc_comp_dict\u001b[39m=\u001b[39mscenario\u001b[39m.\u001b[39mloc_res_dict, b_factor\u001b[39m=\u001b[39mscenario\u001b[39m.\u001b[39mprice_factor, x_scale_level\u001b[39m=\u001b[39mscenario\u001b[39m.\u001b[39mscheduling_scale_level, y_scale_level\u001b[39m=\u001b[39mscenario\u001b[39m.\u001b[39mscheduling_scale_level, b_scale_level\u001b[39m=\u001b[39mscenario\u001b[39m.\u001b[39mpurchase_scale_level, label\u001b[39m=\u001b[39m\u001b[39m'\u001b[39m\u001b[39mcalculates varying amount spent on resource consumption\u001b[39m\u001b[39m'\u001b[39m)\n\u001b[0;32m    447\u001b[0m \u001b[39m# # *----------------sum P,S,C,B over location---------------------------------------------\u001b[39;00m\n\u001b[0;32m    449\u001b[0m instance\u001b[39m.\u001b[39mconstraint_location_production \u001b[39m=\u001b[39m make_constraint(\n\u001b[0;32m    450\u001b[0m     instance\u001b[39m=\u001b[39minstance, type_cons\u001b[39m=\u001b[39mCons\u001b[39m.\u001b[39mX_EQ_SUMSCALE_Y, variable_x\u001b[39m=\u001b[39m\u001b[39m'\u001b[39m\u001b[39mP_location\u001b[39m\u001b[39m'\u001b[39m, variable_y\u001b[39m=\u001b[39m\u001b[39m'\u001b[39m\u001b[39mP\u001b[39m\u001b[39m'\u001b[39m, location_set\u001b[39m=\u001b[39minstance\u001b[39m.\u001b[39mlocations, component_set\u001b[39m=\u001b[39minstance\u001b[39m.\u001b[39mprocesses,\n\u001b[0;32m    451\u001b[0m     loc_comp_dict\u001b[39m=\u001b[39mscenario\u001b[39m.\u001b[39mloc_pro_dict, x_scale_level\u001b[39m=\u001b[39mscenario\u001b[39m.\u001b[39mnetwork_scale_level, y_scale_level\u001b[39m=\u001b[39mscenario\u001b[39m.\u001b[39mscheduling_scale_level, cluster_wt\u001b[39m=\u001b[39mscenario\u001b[39m.\u001b[39mcluster_wt,\n\u001b[0;32m    452\u001b[0m     label\u001b[39m=\u001b[39m\u001b[39m'\u001b[39m\u001b[39msums up production from process over the temporal scale at location\u001b[39m\u001b[39m'\u001b[39m)\n",
      "File \u001b[1;32mc:\\Users\\cacodcar\\energiapy\\.venv\\lib\\site-packages\\pyomo\\core\\base\\block.py:580\u001b[0m, in \u001b[0;36m_BlockData.__setattr__\u001b[1;34m(self, name, val)\u001b[0m\n\u001b[0;32m    575\u001b[0m \u001b[39mif\u001b[39;00m name \u001b[39mnot\u001b[39;00m \u001b[39min\u001b[39;00m \u001b[39mself\u001b[39m\u001b[39m.\u001b[39m\u001b[39m__dict__\u001b[39m:\n\u001b[0;32m    576\u001b[0m     \u001b[39mif\u001b[39;00m \u001b[39misinstance\u001b[39m(val, Component):\n\u001b[0;32m    577\u001b[0m         \u001b[39m#\u001b[39;00m\n\u001b[0;32m    578\u001b[0m         \u001b[39m# Pyomo components are added with the add_component method.\u001b[39;00m\n\u001b[0;32m    579\u001b[0m         \u001b[39m#\u001b[39;00m\n\u001b[1;32m--> 580\u001b[0m         \u001b[39mself\u001b[39;49m\u001b[39m.\u001b[39;49madd_component(name, val)\n\u001b[0;32m    581\u001b[0m     \u001b[39melse\u001b[39;00m:\n\u001b[0;32m    582\u001b[0m         \u001b[39m#\u001b[39;00m\n\u001b[0;32m    583\u001b[0m         \u001b[39m# Other Python objects are added with the standard __setattr__\u001b[39;00m\n\u001b[0;32m    584\u001b[0m         \u001b[39m# method.\u001b[39;00m\n\u001b[0;32m    585\u001b[0m         \u001b[39m#\u001b[39;00m\n\u001b[0;32m    586\u001b[0m         \u001b[39msuper\u001b[39m(_BlockData, \u001b[39mself\u001b[39m)\u001b[39m.\u001b[39m\u001b[39m__setattr__\u001b[39m(name, val)\n",
      "File \u001b[1;32mc:\\Users\\cacodcar\\energiapy\\.venv\\lib\\site-packages\\pyomo\\core\\base\\block.py:1185\u001b[0m, in \u001b[0;36m_BlockData.add_component\u001b[1;34m(self, name, val)\u001b[0m\n\u001b[0;32m   1177\u001b[0m     logger\u001b[39m.\u001b[39mdebug(\n\u001b[0;32m   1178\u001b[0m         \u001b[39m\"\u001b[39m\u001b[39mConstructing \u001b[39m\u001b[39m%s\u001b[39;00m\u001b[39m \u001b[39m\u001b[39m'\u001b[39m\u001b[39m%s\u001b[39;00m\u001b[39m'\u001b[39m\u001b[39m on \u001b[39m\u001b[39m%s\u001b[39;00m\u001b[39m from data=\u001b[39m\u001b[39m%s\u001b[39;00m\u001b[39m\"\u001b[39m,\n\u001b[0;32m   1179\u001b[0m         val\u001b[39m.\u001b[39m\u001b[39m__class__\u001b[39m\u001b[39m.\u001b[39m\u001b[39m__name__\u001b[39m,\n\u001b[1;32m   (...)\u001b[0m\n\u001b[0;32m   1182\u001b[0m         \u001b[39mstr\u001b[39m(data),\n\u001b[0;32m   1183\u001b[0m     )\n\u001b[0;32m   1184\u001b[0m \u001b[39mtry\u001b[39;00m:\n\u001b[1;32m-> 1185\u001b[0m     val\u001b[39m.\u001b[39;49mconstruct(data)\n\u001b[0;32m   1186\u001b[0m \u001b[39mexcept\u001b[39;00m:\n\u001b[0;32m   1187\u001b[0m     err \u001b[39m=\u001b[39m sys\u001b[39m.\u001b[39mexc_info()[\u001b[39m1\u001b[39m]\n",
      "File \u001b[1;32mc:\\Users\\cacodcar\\energiapy\\.venv\\lib\\site-packages\\pyomo\\core\\base\\constraint.py:806\u001b[0m, in \u001b[0;36mConstraint.construct\u001b[1;34m(self, data)\u001b[0m\n\u001b[0;32m    803\u001b[0m     \u001b[39melse\u001b[39;00m:\n\u001b[0;32m    804\u001b[0m         \u001b[39m# Bypass the index validation and create the member directly\u001b[39;00m\n\u001b[0;32m    805\u001b[0m         \u001b[39mfor\u001b[39;00m index \u001b[39min\u001b[39;00m \u001b[39mself\u001b[39m\u001b[39m.\u001b[39mindex_set():\n\u001b[1;32m--> 806\u001b[0m             \u001b[39mself\u001b[39m\u001b[39m.\u001b[39m_setitem_when_not_present(index, rule(block, index))\n\u001b[0;32m    807\u001b[0m \u001b[39mexcept\u001b[39;00m \u001b[39mException\u001b[39;00m:\n\u001b[0;32m    808\u001b[0m     err \u001b[39m=\u001b[39m sys\u001b[39m.\u001b[39mexc_info()[\u001b[39m1\u001b[39m]\n",
      "File \u001b[1;32mc:\\Users\\cacodcar\\energiapy\\.venv\\lib\\site-packages\\pyomo\\core\\base\\initializer.py:314\u001b[0m, in \u001b[0;36mIndexedCallInitializer.__call__\u001b[1;34m(self, parent, idx)\u001b[0m\n\u001b[0;32m    308\u001b[0m \u001b[39mdef\u001b[39;00m \u001b[39m__call__\u001b[39m(\u001b[39mself\u001b[39m, parent, idx):\n\u001b[0;32m    309\u001b[0m     \u001b[39m# Note: this is called by a component using data from a Set (so\u001b[39;00m\n\u001b[0;32m    310\u001b[0m     \u001b[39m# any tuple-like type should have already been checked and\u001b[39;00m\n\u001b[0;32m    311\u001b[0m     \u001b[39m# converted to a tuple; or flattening is turned off and it is\u001b[39;00m\n\u001b[0;32m    312\u001b[0m     \u001b[39m# the user's responsibility to sort things out.\u001b[39;00m\n\u001b[0;32m    313\u001b[0m     \u001b[39mif\u001b[39;00m idx\u001b[39m.\u001b[39m\u001b[39m__class__\u001b[39m \u001b[39mis\u001b[39;00m \u001b[39mtuple\u001b[39m:\n\u001b[1;32m--> 314\u001b[0m         \u001b[39mreturn\u001b[39;00m \u001b[39mself\u001b[39;49m\u001b[39m.\u001b[39;49m_fcn(parent, \u001b[39m*\u001b[39;49midx)\n\u001b[0;32m    315\u001b[0m     \u001b[39melse\u001b[39;00m:\n\u001b[0;32m    316\u001b[0m         \u001b[39mreturn\u001b[39;00m \u001b[39mself\u001b[39m\u001b[39m.\u001b[39m_fcn(parent, idx)\n",
      "File \u001b[1;32mc:\\Users\\cacodcar\\energiapy\\examples\\multiperiod\\../../src\\energiapy\\model\\constraints\\constraints.py:198\u001b[0m, in \u001b[0;36mmake_constraint.<locals>.cons_rule\u001b[1;34m(instance, location, component, *scale)\u001b[0m\n\u001b[0;32m    196\u001b[0m \u001b[39mif\u001b[39;00m b_factor \u001b[39mis\u001b[39;00m \u001b[39mnot\u001b[39;00m \u001b[39mNone\u001b[39;00m:\n\u001b[0;32m    197\u001b[0m     \u001b[39mif\u001b[39;00m b_factor[location] \u001b[39mis\u001b[39;00m \u001b[39mnot\u001b[39;00m \u001b[39mNone\u001b[39;00m:\n\u001b[1;32m--> 198\u001b[0m         bfactor \u001b[39m=\u001b[39m b_factor[location][component][scale[:b_scale_level \u001b[39m+\u001b[39;49m \u001b[39m1\u001b[39;49m]\n\u001b[0;32m    199\u001b[0m                                                 ]\n\u001b[0;32m    200\u001b[0m     \u001b[39melse\u001b[39;00m:\n\u001b[0;32m    201\u001b[0m         bfactor \u001b[39m=\u001b[39m \u001b[39m1\u001b[39m\n",
      "\u001b[1;31mKeyError\u001b[0m: (0, 0)"
     ]
    }
   ],
   "source": [
    "milp_cost = formulate(scenario=scenario, constraints={Constraints.COST, Constraints.INVENTORY, Constraints.PRODUCTION,\n",
    "                      Constraints.RESOURCE_BALANCE, Constraints.NETWORK, Constraints.DEMAND}, objective=Objective.COST)#, inventory_zero = {houston: {(LiI, Power): 1}})\n"
   ]
  },
  {
   "cell_type": "code",
   "execution_count": 25,
   "metadata": {},
   "outputs": [
    {
     "name": "stdout",
     "output_type": "stream",
     "text": [
      "Set parameter QCPDual to value 1\n",
      "Gurobi Optimizer version 10.0.2 build v10.0.2rc0 (win64)\n",
      "\n",
      "CPU model: Intel(R) Core(TM) i7-6700 CPU @ 3.40GHz, instruction set [SSE2|AVX|AVX2]\n",
      "Thread count: 4 physical cores, 8 logical processors, using up to 8 threads\n",
      "\n",
      "Optimize a model with 447284 rows, 403113 columns and 1299636 nonzeros\n",
      "Model fingerprint: 0x3baee92b\n",
      "Variable types: 403098 continuous, 15 integer (15 binary)\n",
      "Coefficient statistics:\n",
      "  Matrix range     [4e-05, 8e+06]\n",
      "  Objective range  [1e+00, 1e+00]\n",
      "  Bounds range     [1e+00, 1e+00]\n",
      "  RHS range        [3e-01, 1e+05]\n",
      "Presolve removed 321332 rows and 295043 columns\n",
      "Presolve time: 1.30s\n",
      "Presolved: 125952 rows, 108070 columns, 429305 nonzeros\n",
      "Variable types: 108064 continuous, 6 integer (6 binary)\n",
      "Deterministic concurrent LP optimizer: primal and dual simplex\n",
      "Showing first log only...\n",
      "\n",
      "\n",
      "Root simplex log...\n",
      "\n",
      "Iteration    Objective       Primal Inf.    Dual Inf.      Time\n",
      "   27313    4.3994307e+06   0.000000e+00   2.861461e+09      5s\n",
      "   32923    1.0432475e+06   0.000000e+00   2.179204e+09     10s\n",
      "   37923    5.1138067e+05   0.000000e+00   1.080281e+09     15s\n",
      "Concurrent spin time: 0.00s\n",
      "\n",
      "Solved with dual simplex\n",
      "\n",
      "Root simplex log...\n",
      "\n",
      "Iteration    Objective       Primal Inf.    Dual Inf.      Time\n",
      "   87543    1.8643301e+05   0.000000e+00   0.000000e+00     16s\n",
      "\n",
      "Root relaxation: objective 1.864330e+05, 87543 iterations, 14.56 seconds (24.39 work units)\n",
      "\n",
      "    Nodes    |    Current Node    |     Objective Bounds      |     Work\n",
      " Expl Unexpl |  Obj  Depth IntInf | Incumbent    BestBd   Gap | It/Node Time\n",
      "\n",
      "     0     0 186433.008    0    1          - 186433.008      -     -   16s\n",
      "     0     0 186433.008    0    1          - 186433.008      -     -   16s\n",
      "     0     2 186433.008    0    1          - 186433.008      -     -   16s\n",
      "*    1     0               1    1036371.9510 1036371.95  0.00% 173486   68s\n",
      "\n",
      "Explored 3 nodes (290932 simplex iterations) in 85.36 seconds (293.29 work units)\n",
      "Thread count was 8 (of 8 available processors)\n",
      "\n",
      "Solution count 1: 1.03637e+06 \n",
      "\n",
      "Optimal solution found (tolerance 1.00e-04)\n",
      "Warning: max bound violation (7.8185e-05) exceeds tolerance\n",
      "Best objective 1.036371950980e+06, best bound 1.036371950980e+06, gap 0.0000%\n"
     ]
    },
    {
     "name": "stderr",
     "output_type": "stream",
     "text": [
      "WARNING:pyomo.solvers:Cannot get duals for MIP.\n"
     ]
    }
   ],
   "source": [
    "results_cost = solve(scenario=scenario, instance=milp_cost, solver='gurobi',\n",
    "                     name=f\"results_slsp_cost\", print_solversteps=True)"
   ]
  },
  {
   "cell_type": "code",
   "execution_count": 27,
   "metadata": {},
   "outputs": [
    {
     "data": {
      "text/plain": [
       "10362.683241474866"
      ]
     },
     "execution_count": 27,
     "metadata": {},
     "output_type": "execute_result"
    }
   ],
   "source": [
    "results_cost.divide_objective_by('S_network',('H2(C)', 0))"
   ]
  },
  {
   "cell_type": "code",
   "execution_count": 30,
   "metadata": {},
   "outputs": [
    {
     "data": {
      "text/plain": [
       "{('HO', 'ASMR', 0): 0.0,\n",
       " ('HO', 'AqOff', 0): 0.03562694774832534,\n",
       " ('HO', 'H2_Comp', 0): 37111.11536364089,\n",
       " ('HO', 'LiI', 0): 0.0,\n",
       " ('HO', 'LiI_discharge', 0): 0.0,\n",
       " ('HO', 'NGCC', 0): 49385.29398253868,\n",
       " ('HO', 'PEM', 0): 0.0,\n",
       " ('HO', 'PSH', 0): 1.0900140503209184,\n",
       " ('HO', 'PSH_discharge', 0): 0.0,\n",
       " ('HO', 'PV', 0): 57847.98392789246,\n",
       " ('HO', 'SMR', 0): 55.666673045461344,\n",
       " ('HO', 'SMRH', 0): 0.0,\n",
       " ('HO', 'WF', 0): 41198.15885131905}"
      ]
     },
     "execution_count": 30,
     "metadata": {},
     "output_type": "execute_result"
    }
   ],
   "source": [
    "results_cost.output['Capex_process']"
   ]
  },
  {
   "cell_type": "code",
   "execution_count": null,
   "metadata": {},
   "outputs": [],
   "source": []
  }
 ],
 "metadata": {
  "kernelspec": {
   "display_name": "Python 3.10.5 ('ki': venv)",
   "language": "python",
   "name": "python3"
  },
  "language_info": {
   "codemirror_mode": {
    "name": "ipython",
    "version": 3
   },
   "file_extension": ".py",
   "mimetype": "text/x-python",
   "name": "python",
   "nbconvert_exporter": "python",
   "pygments_lexer": "ipython3",
   "version": "3.10.5"
  },
  "orig_nbformat": 4,
  "vscode": {
   "interpreter": {
    "hash": "a4a97498e3c1bfef05f70a75d4fcafcb7b5c9c4ed86429a4e7bee46eaa890f24"
   }
  }
 },
 "nbformat": 4,
 "nbformat_minor": 2
}
