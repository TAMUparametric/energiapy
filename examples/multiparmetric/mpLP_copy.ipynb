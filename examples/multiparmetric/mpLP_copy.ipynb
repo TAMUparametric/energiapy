{
 "cells": [
  {
   "cell_type": "markdown",
   "metadata": {},
   "source": [
    "# mpLP reformulation of an energy systems MILP"
   ]
  },
  {
   "cell_type": "markdown",
   "metadata": {},
   "source": [
    "__author__ = \"Rahul Kakodkar\"\n",
    "__copyright__ = \"Copyright 2023, Multi-parametric Optimization & Control Lab\"\n",
    "__credits__ = [\"Rahul Kakodkar\", \"Dustin Kenefake\", \"Efstratios N. Pistikopoulos\"]\n",
    "__license__ = \"Open\"\n",
    "__version__ = \"1.0.0\"\n",
    "__maintainer__ = \"Rahul Kakodkar\"\n",
    "__email__ = \"cacodcar@tamu.edu\"\n",
    "__status__ = \"Production\"\n"
   ]
  },
  {
   "attachments": {},
   "cell_type": "markdown",
   "metadata": {},
   "source": [
    "## Problem Statement"
   ]
  },
  {
   "attachments": {},
   "cell_type": "markdown",
   "metadata": {},
   "source": [
    "In the following example a multi-scale energy systems mixed integer linear program (MILP) is reformulated as a mulitparametric linear program (mpLP)"
   ]
  },
  {
   "cell_type": "markdown",
   "metadata": {},
   "source": [
    "## Nomenclature"
   ]
  },
  {
   "cell_type": "markdown",
   "metadata": {},
   "source": [
    "*Sets*\n",
    "\n",
    "\n",
    "$\\mathcal{R}$ - set of all resources r\n",
    "\n",
    "$\\mathcal{P}$ - set of all processes p\n",
    "\n",
    "$\\mathcal{T}$ - set of temporal periods t\n",
    "\n",
    "\n",
    "*Subsets*\n",
    "\n",
    "\n",
    "$\\mathcal{R}^{storage}$ - set of resources that can be stored\n",
    "\n",
    "$\\mathcal{R}^{sell}$ - set of resources that can be discharged\n",
    "\n",
    "$\\mathcal{R}^{demand}$ - set of resources that meet  demand\n",
    "\n",
    "$\\mathcal{R}^{cons}$ - set of resources that can be consumed\n",
    "\n",
    "$\\mathcal{P}^{uncertain-cap}$ - set of processes with uncertain capacity\n",
    "\n",
    "$\\mathcal{P}^{uncertain-capex}$ - set of processes with uncertain capital expenditure\n",
    "\n",
    "$\\mathcal{T}^{net}$ - set of temporal periods t for network level decision making\n",
    "\n",
    "$\\mathcal{T}^{sch}$ - set of temporal periods t for schedule level decision making\n",
    "\n",
    "\n",
    "*Continuous Variables*\n",
    "\n",
    "\n",
    "$P_{p,t}$ - production level of p $\\in$  $\\mathcal{P}$ in time period t $\\in$ $\\mathcal{T}^{sch}$  \n",
    "\n",
    "$C_{r,t}$ - consumption of r $\\in$ in $\\mathcal{R}^{cons}$ time period t $\\in$ $\\mathcal{T}^{sch}$ \n",
    "\n",
    "$S_{r,t}$ - discharge of r $\\in$ in $\\mathcal{R}^{demand}$ time period t $\\in$ $\\mathcal{T}^{sch}$ \n",
    "\n",
    "$Inv_{r,t}$ - inventory level of r $\\in$ $\\mathcal{R}^{storage}$  in time period t $\\in$ $\\mathcal{T}^{sch}$\n",
    "\n",
    "$Cap^S_{r,t}$ - installed inventory capacity for resource r $\\in$  $\\mathcal{R}^{storage}$ in time period t $\\in$ $\\mathcal{T}^{net}$\n",
    "\n",
    "$Cap^P_{p,t}$ - installed production capacity for process p $\\in$ $\\mathcal{P}$ in time period t $\\in$ $\\mathcal{T}^{net}$\n",
    "\n",
    "\n",
    "\n",
    "\n",
    "*Binary Variables*\n",
    "\n",
    "\n",
    "$X^P_{p,t}$ - network binary for production process p $\\in$ $\\mathcal{P}$ in time period t $\\in$ $\\mathcal{T}^{net}$\n",
    "\n",
    "$X^S_{r,t}$ - network binary for inventory of resource r  $\\mathcal{R}^{storage}$ in time period t $\\in$ $\\mathcal{T}^{net}$\n",
    "\n",
    "\n",
    "\n",
    "*Parametric Variables*\n",
    "\n",
    "\n",
    "$\\alpha_{p}$ - uncertainty in production capacity of process p $\\in$ $\\mathcal{P}^{uncertain-cap}$\n",
    "\n",
    "$\\beta_{r}$ - uncertainty in demand for resource r $\\in$ $\\mathcal{R}^{demand}$\n",
    "\n",
    "$\\gamma_{r}$ - uncertainty in purchase price for resource r $\\in$ $\\mathcal{R}^{cons}$\n",
    "\n",
    "$\\delta_{r}$ - uncertainty in consumption availability for resource r $\\in$ $\\mathcal{R}^{cons}$\n",
    "\n",
    "$\\epsilon_{p}$ - uncertainty in cost of technology for process p $\\in$ $\\mathcal{P}^{uncertain-capex}$\n",
    "\n",
    "\n",
    "\n",
    "*Parameters*\n",
    "\n",
    "\n",
    "$Cap^{P-max}_{p,t}$ - maximum production capacity of process p $\\in$ $\\mathcal{P}$ in time period t $\\in$ $\\mathcal{T}^{net}$\n",
    "\n",
    "$Cap^{S-max}_{r,t}$ - maximum inventory capacity for process r $\\in$ $\\mathcal{R}^{storage}$ in time period t $\\in$ $\\mathcal{T}^{net}$\n",
    "\n",
    "$Capex_{p,t}$ - capital expenditure for process p $\\in$ $\\mathcal{P}$ in time t $\\in$ $\\mathcal{T}^{net}$\n",
    "\n",
    "$Vopex_{p,t}$ - variable operational expenditure for process p $\\in$ $\\mathcal{P}$ in time t $\\in$ $\\mathcal{T}^{sch}$\n",
    "\n",
    "$Price_{r,t}$ - purchase price for resource r $\\in$ $\\mathcal{R}^{cons}$ in time t $\\in$ $\\mathcal{T}^{sch}$\n",
    "\n",
    "$C^{max}_{r,t}$ - maximum consumption availability for resource r $\\in$ $\\mathcal{R}^{cons}$ in time t $\\in$ $\\mathcal{T}^{sch}$\n",
    "\n",
    "$D_{r,t}$ - demand for resource r $in$ $\\mathcal{R}^{sell}$ in time t $\\in$ $\\mathcal{T}^{sch}$\n",
    "\n",
    "\n"
   ]
  },
  {
   "cell_type": "markdown",
   "metadata": {},
   "source": [
    "# MILP Formulation"
   ]
  },
  {
   "cell_type": "markdown",
   "metadata": {},
   "source": [
    "Given is a general MILP modeling and optimization framework for simultaneous network design and scheduling.\n",
    "\n"
   ]
  },
  {
   "cell_type": "markdown",
   "metadata": {},
   "source": [
    "\n",
    "\\begin{equation}\n",
    "    min \\sum_{t \\in \\mathcal{T}^{net}} \\sum_{p \\in \\mathcal{P}} Capex_{p,t} \\times Cap^P_{p,t} + \\sum_{t \\in \\mathcal{T}^{sch}} \\sum_{r \\in \\mathcal{R}^{cons}}  Price_{r,t}  \\times C_{r,t} + \\sum_{t \\in \\mathcal{T}^{sch}} \\sum_{p \\in \\mathcal{P}}  Vopex_{r,t} \\times P_{r,t} \n",
    "\\end{equation}\n",
    "\n",
    "\n",
    "\\begin{equation}\n",
    "    Cap^S_{r,t} \\leq Cap^{S-max}_{r,t} \\times X^S_{r,t} \\hspace{1cm} \\forall r \\in \\mathcal{R}^{storage}, t \\in \\mathcal{T}^{net}\n",
    "\\end{equation}\n",
    "\n",
    "\\begin{equation}\n",
    "    Cap^P_{p,t} \\leq Cap^{P-max}_{p,t} \\times X^P_p  \\hspace{1cm} \\forall p \\in \\mathcal{P}, t \\in \\mathcal{T}^{net}\n",
    "\\end{equation} \n",
    "\n",
    "\\begin{equation}\n",
    "    P_{p,t} \\leq Cap^{P}_{p,t}  \\hspace{1cm} \\forall p \\in \\mathcal{P}, t \\in \\mathcal{T}^{sch}\n",
    "\\end{equation} \n",
    "\n",
    "\\begin{equation}\n",
    "    Inv_{r,t} \\leq Cap^{S}_{r,t}  \\hspace{1cm} \\forall r \\in \\mathcal{R}^{storage}, t \\in \\mathcal{T}^{sch}\n",
    "\\end{equation} \n",
    "\n",
    "\n",
    "\\begin{equation}\n",
    "    - S_{r,t} \\leq - D_{r,t}  \\hspace{1cm} \\forall r \\in \\mathcal{R}, t \\in \\mathcal{T}^{sch}\n",
    "\\end{equation}\n",
    "\n",
    "\\begin{equation}\n",
    "    C_{r,t} \\leq C^{max}_{r,t} \\hspace{1cm} \\forall r \\in \\mathcal{R}, t \\in \\mathcal{T}^{sch}\n",
    "\\end{equation}\n",
    "\n",
    "\n",
    "\\begin{equation}\n",
    "    - S_{r,t} + \\sum_{p \\in \\mathcal{P}} P_{p,t} \\times \\eta(p,r) = 0 \\hspace{1cm} \\forall r \\in \\mathcal{R}^{sell}, t \\in \\mathcal{T}^{sch}\n",
    "\\end{equation}\n",
    "\n",
    "\\begin{equation}\n",
    "    -Inv_{r,t} + \\sum_{p \\in \\mathcal{P}} P_{p,t} \\times \\eta(p,r) = 0 \\hspace{1cm} \\forall r \\in \\mathcal{R}^{stored}, t \\in \\mathcal{T}^{sch}\n",
    "\\end{equation}\n",
    "\n",
    "\\begin{equation}\n",
    "    \\sum_{p \\in \\mathcal{P}} P_{p,t} \\times \\eta(p,r) + C_{r,t} = 0 \\hspace{1cm} \\forall r \\in \\mathcal{R}^{cons}, t \\in \\mathcal{T}^{sch}\n",
    "\\end{equation}\n",
    "\n",
    "\\begin{equation}\n",
    "    S_{r,t}, C_{r,t}, Inv_{r,t}, P_{p,t}, Cap^P_p, Cap^S_r \\in R_{\\geq 0}\n",
    "\\end{equation}\n",
    "\n",
    "\n"
   ]
  },
  {
   "cell_type": "markdown",
   "metadata": {},
   "source": [
    "## mpLP reformulation"
   ]
  },
  {
   "cell_type": "markdown",
   "metadata": {},
   "source": [
    "Reformulated as an mpLP"
   ]
  },
  {
   "cell_type": "markdown",
   "metadata": {},
   "source": [
    "\n",
    "\\begin{equation}\n",
    "    min \\hspace{1cm} \\sum_{p \\in \\mathcal{P}} Capex_p \\times \\epsilon_p \\times P_p + \\sum_{r \\in \\mathcal{R}^{cons}} C_r \\times \\gamma_r \n",
    "\\end{equation}\n",
    "\n",
    "\n",
    "\\begin{equation}\n",
    "    Inv_r \\leq Cap^{S-max}_r \\hspace{1cm} \\forall r \\in \\mathcal{R}^{stored}\n",
    "\\end{equation}\n",
    "\n",
    "\\begin{equation}\n",
    "    - S_r \\leq - D_r \\times \\beta_r \\hspace{1cm} \\forall r \\in \\mathcal{R}^{demand}\n",
    "\\end{equation}\n",
    "\n",
    "\\begin{equation}\n",
    "    C_r \\leq C^{max}_r \\times \\delta_r \\hspace{1cm} \\forall r \\in \\mathcal{R}^{cons} \n",
    "\\end{equation}\n",
    "\n",
    "\\begin{equation}\n",
    "    P_p \\leq Cap^{P-max}_p \\times \\alpha_p \\hspace{1cm} \\forall p \\in \\mathcal{P}\n",
    "\\end{equation} \n",
    "\n",
    "\\begin{equation}\n",
    "    - S_{r} + \\sum_{p \\in \\mathcal{P}} P_{p} \\times \\eta(p,r) = 0 \\hspace{1cm} \\forall r \\in \\mathcal{R}^{sell}\n",
    "\\end{equation}\n",
    "\n",
    "\\begin{equation}\n",
    "    - Inv_{r} + \\sum_{p \\in \\mathcal{P}} P_{p} \\times \\eta(p,r) = 0 \\hspace{1cm} \\forall r \\in \\mathcal{R}^{stored}\n",
    "\\end{equation}\n",
    "\n",
    "\\begin{equation}\n",
    "    \\sum_{p \\in \\mathcal{P}} P_{p} \\times \\eta(p,r) + C_{r} = 0 \\hspace{1cm} \\forall r \\in \\mathcal{R}^{cons}\n",
    "\\end{equation}\n",
    "\n",
    "\\begin{equation}\n",
    "    \\alpha_p \\in A_p \\hspace{1cm} \\forall p \\in \\mathcal{P}\n",
    "\\end{equation}\n",
    "\n",
    "\\begin{equation}\n",
    "    \\beta_r \\in B_r \\hspace{1cm} \\forall r \\in \\mathcal{R}^{demand}\n",
    "\\end{equation}\n",
    "\n",
    "\\begin{equation}\n",
    "    \\gamma_r \\in \\Gamma_r \\hspace{1cm} \\forall r \\in \\mathcal{R}^{cons}\n",
    "\\end{equation}\n",
    "\n",
    "\\begin{equation}\n",
    "    \\delta_r \\in \\Delta_r \\hspace{1cm} \\forall r \\in \\mathcal{R}^{cons}\n",
    "\\end{equation}\n",
    "\n",
    "\\begin{equation}\n",
    "    \\epsilon_p \\in E_p \\hspace{1cm} \\forall p \\in \\mathcal{P}\n",
    "\\end{equation}\n",
    "\n",
    "\n",
    "\\begin{equation}\n",
    "    S_r, C_r, Inv_r, P_p \\in R_{\\geq 0}\n",
    "\\end{equation}\n"
   ]
  },
  {
   "cell_type": "markdown",
   "metadata": {},
   "source": [
    "## Example Problem"
   ]
  },
  {
   "attachments": {},
   "cell_type": "markdown",
   "metadata": {},
   "source": [
    "\n",
    "\\begin{equation}\n",
    "    p \\in \\{LI_c, LI_d, WF, PV\\} \n",
    "\\end{equation}\n",
    "\n",
    "\n",
    "\\begin{equation}\n",
    "    r \\in \\{charge, power, wind, solar\\} \n",
    "\\end{equation}\n"
   ]
  },
  {
   "attachments": {},
   "cell_type": "markdown",
   "metadata": {},
   "source": [
    "\n",
    "\\begin{equation}\n",
    "    min \\hspace{1cm} \\left[\\begin{matrix}1302\\\\0\\\\990\\\\567\\end{matrix}\\right]^T \\left[\\begin{matrix}P_{LI_c}\\\\P_{LI_d}\\\\P_{WF}\\\\P_{PV}\\end{matrix}\\right]\n",
    "\\end{equation}\n"
   ]
  },
  {
   "attachments": {},
   "cell_type": "markdown",
   "metadata": {},
   "source": [
    "\n",
    "\\begin{equation}\n",
    "    I_3\\left[\\begin{matrix}Inv_{charge}\\\\C_{wind}\\\\C_{solar}\\\\P_{LI_c}\\\\P_{LI_d}\\end{matrix}\\right] \\leq \\left[\\begin{matrix} 100\\\\100\\\\100\\\\100\\\\100\\end{matrix}\\right]\n",
    "\\end{equation}\n"
   ]
  },
  {
   "attachments": {},
   "cell_type": "markdown",
   "metadata": {},
   "source": [
    "\n",
    "\\begin{equation}\n",
    "    I_3\\left[\\begin{matrix}-S_{power}\\\\P_{WF}\\\\P_{PV}\\end{matrix}\\right] \\leq \\left[\\begin{matrix}-300 & 0 & 0\\\\0 & 100 & 0\\\\0 & 0 & 100\\end{matrix}\\right] \\left[\\begin{matrix}\\beta_{power}\\\\ \\alpha_{WF}\\\\\\alpha_{PV}\\end{matrix}\\right]\n",
    "\\end{equation}\n"
   ]
  },
  {
   "attachments": {},
   "cell_type": "markdown",
   "metadata": {},
   "source": [
    "\n",
    "\\begin{equation}\n",
    "    I_4\\left[\\begin{matrix} - Inv_{charge} \\\\ -S_{power} \\\\ C_{wind} \\\\ C_{solar} \\end{matrix}\\right] + \\left[\\begin{matrix}0.89 & -1 & 0 & 0\\\\-1 & 1 & 0.85 & 0.75\\\\0 & 0 & -1 & 0\\\\0 & 0 & 0 & -1\\end{matrix}\\right] \\left[\\begin{matrix}P_{LI_c}\\\\P_{LI_d}\\\\P_{WF}\\\\P_{PV}\\end{matrix}\\right] = 0\n",
    "\\end{equation}\n"
   ]
  },
  {
   "cell_type": "markdown",
   "metadata": {},
   "source": [
    "\n",
    "\\begin{equation}\n",
    "    \\alpha_p \\in \\mathcal{A}_p \\hspace{1cm} \\forall p \\in \\{WF, PV\\} \n",
    "\\end{equation}\n",
    "\n",
    "\\begin{equation}\n",
    "    \\beta_r \\in \\mathcal{B}_r \\hspace{1cm} \\forall r \\in \\{Power\\} \n",
    "\\end{equation}"
   ]
  },
  {
   "cell_type": "markdown",
   "metadata": {},
   "source": [
    "$\\textbf{Import modules}$"
   ]
  },
  {
   "cell_type": "code",
   "execution_count": 1,
   "metadata": {},
   "outputs": [],
   "source": [
    "import sys\n",
    "sys.path.append('../../src')"
   ]
  },
  {
   "cell_type": "code",
   "execution_count": 2,
   "metadata": {},
   "outputs": [
    {
     "name": "stderr",
     "output_type": "stream",
     "text": [
      "`polytope` failed to import `cvxopt.glpk`.\n",
      "will use `scipy.optimize.linprog`\n"
     ]
    }
   ],
   "source": [
    "from energiapy.components.result import Result\n",
    "import polytope as pt\n",
    "from ppopt.plot import parametric_plot\n",
    "from ppopt.mp_solvers.solve_mpqp import solve_mpqp, mpqp_algorithm\n",
    "from ppopt.mplp_program import MPLP_Program\n",
    "from ppopt.mpqp_program import MPQP_Program\n",
    "import numpy\n",
    "import pandas\n",
    "from energiapy.model.solve import solve\n",
    "from energiapy.plot.plot_results import CostY, CostX\n",
    "from energiapy.plot import plot_results, plot_scenario\n",
    "from energiapy.model.formulate import formulate, Constraints, Objective, ModelClass\n",
    "from energiapy.components.scenario import Scenario\n",
    "from energiapy.components.location import Location\n",
    "from energiapy.components.process import Process, VaryingProcess\n",
    "from energiapy.components.resource import Resource, VaryingResource\n",
    "from energiapy.components.material import Material\n",
    "from energiapy.components.temporal_scale import TemporalScale\n"
   ]
  },
  {
   "cell_type": "markdown",
   "metadata": {},
   "source": [
    "$\\textbf{Define temporal scale}$\n"
   ]
  },
  {
   "cell_type": "code",
   "execution_count": 3,
   "metadata": {},
   "outputs": [],
   "source": [
    "scales = TemporalScale(discretization_list=[1])\n"
   ]
  },
  {
   "cell_type": "markdown",
   "metadata": {},
   "source": [
    "$\\textbf{Declare resources}$"
   ]
  },
  {
   "cell_type": "code",
   "execution_count": 4,
   "metadata": {},
   "outputs": [],
   "source": [
    "Solar = Resource(name='Solar', cons_max=100, basis='MW', label='Solar Power')\n",
    "\n",
    "Wind = Resource(name='Wind', cons_max=100, basis='MW', label='Wind Power')\n",
    "\n",
    "Power = Resource(name='Power', basis='MW', label='Power generated', varying = [VaryingResource.UNCERTAIN_DEMAND])\n"
   ]
  },
  {
   "cell_type": "markdown",
   "metadata": {},
   "source": [
    "$\\textbf{Declare processes}$"
   ]
  },
  {
   "cell_type": "code",
   "execution_count": 5,
   "metadata": {},
   "outputs": [],
   "source": [
    "LiI = Process(name='LiI', storage=Power, capex=1302, fopex=0, vopex=0,  prod_max=50,\n",
    "              storage_loss=0.11,  label='Lithium-ion battery', basis='MW', store_max=100)\n",
    "\n",
    "WF = Process(name='WF', conversion={Wind: -1, Power: 0.85}, capex=990, fopex=0, vopex=0,\n",
    "             prod_max=100, label='Wind mill array', basis='MW', varying=[VaryingProcess.UNCERTAIN_CAPACITY])\n",
    "\n",
    "PV = Process(name='PV', conversion={Solar: -1, Power: 0.75}, capex=567, fopex=0, vopex=0,\n",
    "             prod_max=100, label='Solar PV', basis='MW', varying=[VaryingProcess.UNCERTAIN_CAPACITY])\n",
    "\n"
   ]
  },
  {
   "cell_type": "markdown",
   "metadata": {},
   "source": [
    "$\\textbf{Declare location(s)}$\n"
   ]
  },
  {
   "cell_type": "code",
   "execution_count": 6,
   "metadata": {},
   "outputs": [],
   "source": [
    "region = Location(name='region', processes={\n",
    "                  LiI, PV, WF}, scales=scales, label='some region')\n"
   ]
  },
  {
   "cell_type": "code",
   "execution_count": 7,
   "metadata": {},
   "outputs": [
    {
     "name": "stdout",
     "output_type": "stream",
     "text": [
      "Power [<VaryingResource.UNCERTAIN_DEMAND: 5>]\n",
      "LiI_Power_stored [<VaryingResource.STORED: 14>]\n",
      "Wind [<VaryingResource.CERTAIN_AVAILABILITY: 11>, <VaryingResource.CERTAIN_PRICE: 10>]\n",
      "Solar [<VaryingResource.CERTAIN_AVAILABILITY: 11>, <VaryingResource.CERTAIN_PRICE: 10>]\n"
     ]
    }
   ],
   "source": [
    "for i in region.resources_full:\n",
    "    print(i, i.varying)"
   ]
  },
  {
   "cell_type": "markdown",
   "metadata": {},
   "source": [
    "The combination of parameter data, locations, and transportation options generates a scenario. \n",
    "\n",
    "Scenarios are data sets that can be fed to models for analysis. \n",
    "\n",
    "In this case we are generating a scenario for the location houston. The scales need to be consistent."
   ]
  },
  {
   "cell_type": "code",
   "execution_count": 8,
   "metadata": {},
   "outputs": [],
   "source": [
    "example = Scenario(name='example', demand={region: {Power:150}}, network=region, scales=scales, label='example scenario')\n",
    "# example = Scenario(name='example', demand={region: {Power: 50}}, network=region, scales=scales, label='example scenario')\n"
   ]
  },
  {
   "cell_type": "code",
   "execution_count": 9,
   "metadata": {},
   "outputs": [
    {
     "name": "stdout",
     "output_type": "stream",
     "text": [
      "constraint process capex\n",
      "constraint process fopex\n",
      "constraint process vopex\n",
      "constraint process incidental\n",
      "constraint location capex\n",
      "constraint location fopex\n",
      "constraint location vopex\n",
      "constraint location incidental\n",
      "constraint network capex\n",
      "constraint network fopex\n",
      "constraint network vopex\n",
      "constraint network incidental\n",
      "constraint nameplate inventory\n",
      "constraint storage max\n",
      "constraint storage min\n",
      "constraint production mode\n",
      "constraint nameplate production\n",
      "constraint production max\n",
      "constraint production min\n",
      "constraint inventory balance\n",
      "constraint resource consumption\n",
      "constraint resource purchase\n",
      "constraint location production\n",
      "constraint location discharge\n",
      "constraint location consumption\n",
      "constraint location purchase\n",
      "constraint network production\n",
      "constraint network discharge\n",
      "constraint network consumption\n",
      "constraint network purchase\n",
      "constraint demand\n",
      "objective cost\n"
     ]
    }
   ],
   "source": [
    "lp = formulate(scenario=example, constraints={Constraints.COST, Constraints.INVENTORY,\n",
    "                 Constraints.PRODUCTION, Constraints.RESOURCE_BALANCE}, objective=Objective.COST)"
   ]
  },
  {
   "cell_type": "code",
   "execution_count": 10,
   "metadata": {},
   "outputs": [
    {
     "name": "stdout",
     "output_type": "stream",
     "text": [
      "The problem has the following variables:\n",
      "Resource inventory level (Inv) x 1\n",
      "Exact resource discharge (Sf) x 0\n",
      "Uncertain resource discharge (S) x 1\n",
      "Exact resource availability (Af) x 2\n",
      "Uncertain resource availability (A) x 0\n",
      "Exact process production (Pf) x 2\n",
      "Uncertain process production (P) x 2\n",
      " For a total of 8 (5 fixed, and 3 uncertain)\n"
     ]
    }
   ],
   "source": [
    "matrix = formulate(scenario=example, model_class=ModelClass.MPLP)\n"
   ]
  },
  {
   "cell_type": "code",
   "execution_count": 11,
   "metadata": {},
   "outputs": [
    {
     "data": {
      "text/plain": [
       "(20, 3)"
      ]
     },
     "execution_count": 11,
     "metadata": {},
     "output_type": "execute_result"
    }
   ],
   "source": [
    "matrix['F'].shape"
   ]
  },
  {
   "cell_type": "code",
   "execution_count": 12,
   "metadata": {},
   "outputs": [
    {
     "data": {
      "text/plain": [
       "(20, 1)"
      ]
     },
     "execution_count": 12,
     "metadata": {},
     "output_type": "execute_result"
    }
   ],
   "source": [
    "matrix['b'].shape"
   ]
  },
  {
   "cell_type": "code",
   "execution_count": 13,
   "metadata": {},
   "outputs": [
    {
     "data": {
      "text/plain": [
       "{LiI_Power_stored, Power, Solar, Wind}"
      ]
     },
     "execution_count": 13,
     "metadata": {},
     "output_type": "execute_result"
    }
   ],
   "source": [
    "example.resource_set"
   ]
  },
  {
   "cell_type": "code",
   "execution_count": 14,
   "metadata": {},
   "outputs": [
    {
     "data": {
      "text/plain": [
       "[]"
      ]
     },
     "execution_count": 14,
     "metadata": {},
     "output_type": "execute_result"
    }
   ],
   "source": [
    "example.set_dict['resources_implicit']"
   ]
  },
  {
   "cell_type": "code",
   "execution_count": 15,
   "metadata": {},
   "outputs": [
    {
     "data": {
      "text/html": [
       "<div>\n",
       "<style scoped>\n",
       "    .dataframe tbody tr th:only-of-type {\n",
       "        vertical-align: middle;\n",
       "    }\n",
       "\n",
       "    .dataframe tbody tr th {\n",
       "        vertical-align: top;\n",
       "    }\n",
       "\n",
       "    .dataframe thead th {\n",
       "        text-align: right;\n",
       "    }\n",
       "</style>\n",
       "<table border=\"1\" class=\"dataframe\">\n",
       "  <thead>\n",
       "    <tr style=\"text-align: right;\">\n",
       "      <th></th>\n",
       "      <th>Inv_LiI_Power_stored</th>\n",
       "      <th>S_Power</th>\n",
       "      <th>Af_Solar</th>\n",
       "      <th>Af_Wind</th>\n",
       "      <th>Pf_LiI</th>\n",
       "      <th>Pf_LiI_discharge</th>\n",
       "      <th>P_PV</th>\n",
       "      <th>P_WF</th>\n",
       "    </tr>\n",
       "  </thead>\n",
       "  <tbody>\n",
       "    <tr>\n",
       "      <th>0</th>\n",
       "      <td>-1.0</td>\n",
       "      <td>0.0</td>\n",
       "      <td>0.0</td>\n",
       "      <td>0.0</td>\n",
       "      <td>1.0</td>\n",
       "      <td>-1.00</td>\n",
       "      <td>0.00</td>\n",
       "      <td>0.00</td>\n",
       "    </tr>\n",
       "    <tr>\n",
       "      <th>1</th>\n",
       "      <td>0.0</td>\n",
       "      <td>-1.0</td>\n",
       "      <td>0.0</td>\n",
       "      <td>0.0</td>\n",
       "      <td>-1.0</td>\n",
       "      <td>0.89</td>\n",
       "      <td>0.75</td>\n",
       "      <td>0.85</td>\n",
       "    </tr>\n",
       "    <tr>\n",
       "      <th>2</th>\n",
       "      <td>0.0</td>\n",
       "      <td>0.0</td>\n",
       "      <td>1.0</td>\n",
       "      <td>0.0</td>\n",
       "      <td>0.0</td>\n",
       "      <td>0.00</td>\n",
       "      <td>-1.00</td>\n",
       "      <td>0.00</td>\n",
       "    </tr>\n",
       "    <tr>\n",
       "      <th>3</th>\n",
       "      <td>0.0</td>\n",
       "      <td>0.0</td>\n",
       "      <td>0.0</td>\n",
       "      <td>1.0</td>\n",
       "      <td>0.0</td>\n",
       "      <td>0.00</td>\n",
       "      <td>0.00</td>\n",
       "      <td>-1.00</td>\n",
       "    </tr>\n",
       "    <tr>\n",
       "      <th>4</th>\n",
       "      <td>-1.0</td>\n",
       "      <td>0.0</td>\n",
       "      <td>0.0</td>\n",
       "      <td>0.0</td>\n",
       "      <td>0.0</td>\n",
       "      <td>0.00</td>\n",
       "      <td>0.00</td>\n",
       "      <td>0.00</td>\n",
       "    </tr>\n",
       "    <tr>\n",
       "      <th>5</th>\n",
       "      <td>0.0</td>\n",
       "      <td>-1.0</td>\n",
       "      <td>0.0</td>\n",
       "      <td>0.0</td>\n",
       "      <td>0.0</td>\n",
       "      <td>0.00</td>\n",
       "      <td>0.00</td>\n",
       "      <td>0.00</td>\n",
       "    </tr>\n",
       "    <tr>\n",
       "      <th>6</th>\n",
       "      <td>0.0</td>\n",
       "      <td>0.0</td>\n",
       "      <td>1.0</td>\n",
       "      <td>0.0</td>\n",
       "      <td>0.0</td>\n",
       "      <td>0.00</td>\n",
       "      <td>0.00</td>\n",
       "      <td>0.00</td>\n",
       "    </tr>\n",
       "    <tr>\n",
       "      <th>7</th>\n",
       "      <td>0.0</td>\n",
       "      <td>0.0</td>\n",
       "      <td>0.0</td>\n",
       "      <td>1.0</td>\n",
       "      <td>0.0</td>\n",
       "      <td>0.00</td>\n",
       "      <td>0.00</td>\n",
       "      <td>0.00</td>\n",
       "    </tr>\n",
       "    <tr>\n",
       "      <th>8</th>\n",
       "      <td>0.0</td>\n",
       "      <td>0.0</td>\n",
       "      <td>0.0</td>\n",
       "      <td>0.0</td>\n",
       "      <td>1.0</td>\n",
       "      <td>0.00</td>\n",
       "      <td>0.00</td>\n",
       "      <td>0.00</td>\n",
       "    </tr>\n",
       "    <tr>\n",
       "      <th>9</th>\n",
       "      <td>0.0</td>\n",
       "      <td>0.0</td>\n",
       "      <td>0.0</td>\n",
       "      <td>0.0</td>\n",
       "      <td>0.0</td>\n",
       "      <td>1.00</td>\n",
       "      <td>0.00</td>\n",
       "      <td>0.00</td>\n",
       "    </tr>\n",
       "    <tr>\n",
       "      <th>10</th>\n",
       "      <td>0.0</td>\n",
       "      <td>0.0</td>\n",
       "      <td>0.0</td>\n",
       "      <td>0.0</td>\n",
       "      <td>0.0</td>\n",
       "      <td>0.00</td>\n",
       "      <td>1.00</td>\n",
       "      <td>0.00</td>\n",
       "    </tr>\n",
       "    <tr>\n",
       "      <th>11</th>\n",
       "      <td>0.0</td>\n",
       "      <td>0.0</td>\n",
       "      <td>0.0</td>\n",
       "      <td>0.0</td>\n",
       "      <td>0.0</td>\n",
       "      <td>0.00</td>\n",
       "      <td>0.00</td>\n",
       "      <td>1.00</td>\n",
       "    </tr>\n",
       "    <tr>\n",
       "      <th>12</th>\n",
       "      <td>-1.0</td>\n",
       "      <td>-0.0</td>\n",
       "      <td>-0.0</td>\n",
       "      <td>-0.0</td>\n",
       "      <td>-0.0</td>\n",
       "      <td>-0.00</td>\n",
       "      <td>-0.00</td>\n",
       "      <td>-0.00</td>\n",
       "    </tr>\n",
       "    <tr>\n",
       "      <th>13</th>\n",
       "      <td>-0.0</td>\n",
       "      <td>-1.0</td>\n",
       "      <td>-0.0</td>\n",
       "      <td>-0.0</td>\n",
       "      <td>-0.0</td>\n",
       "      <td>-0.00</td>\n",
       "      <td>-0.00</td>\n",
       "      <td>-0.00</td>\n",
       "    </tr>\n",
       "    <tr>\n",
       "      <th>14</th>\n",
       "      <td>-0.0</td>\n",
       "      <td>-0.0</td>\n",
       "      <td>-1.0</td>\n",
       "      <td>-0.0</td>\n",
       "      <td>-0.0</td>\n",
       "      <td>-0.00</td>\n",
       "      <td>-0.00</td>\n",
       "      <td>-0.00</td>\n",
       "    </tr>\n",
       "    <tr>\n",
       "      <th>15</th>\n",
       "      <td>-0.0</td>\n",
       "      <td>-0.0</td>\n",
       "      <td>-0.0</td>\n",
       "      <td>-1.0</td>\n",
       "      <td>-0.0</td>\n",
       "      <td>-0.00</td>\n",
       "      <td>-0.00</td>\n",
       "      <td>-0.00</td>\n",
       "    </tr>\n",
       "    <tr>\n",
       "      <th>16</th>\n",
       "      <td>-0.0</td>\n",
       "      <td>-0.0</td>\n",
       "      <td>-0.0</td>\n",
       "      <td>-0.0</td>\n",
       "      <td>-1.0</td>\n",
       "      <td>-0.00</td>\n",
       "      <td>-0.00</td>\n",
       "      <td>-0.00</td>\n",
       "    </tr>\n",
       "    <tr>\n",
       "      <th>17</th>\n",
       "      <td>-0.0</td>\n",
       "      <td>-0.0</td>\n",
       "      <td>-0.0</td>\n",
       "      <td>-0.0</td>\n",
       "      <td>-0.0</td>\n",
       "      <td>-1.00</td>\n",
       "      <td>-0.00</td>\n",
       "      <td>-0.00</td>\n",
       "    </tr>\n",
       "    <tr>\n",
       "      <th>18</th>\n",
       "      <td>-0.0</td>\n",
       "      <td>-0.0</td>\n",
       "      <td>-0.0</td>\n",
       "      <td>-0.0</td>\n",
       "      <td>-0.0</td>\n",
       "      <td>-0.00</td>\n",
       "      <td>-1.00</td>\n",
       "      <td>-0.00</td>\n",
       "    </tr>\n",
       "    <tr>\n",
       "      <th>19</th>\n",
       "      <td>-0.0</td>\n",
       "      <td>-0.0</td>\n",
       "      <td>-0.0</td>\n",
       "      <td>-0.0</td>\n",
       "      <td>-0.0</td>\n",
       "      <td>-0.00</td>\n",
       "      <td>-0.00</td>\n",
       "      <td>-1.00</td>\n",
       "    </tr>\n",
       "  </tbody>\n",
       "</table>\n",
       "</div>"
      ],
      "text/plain": [
       "    Inv_LiI_Power_stored  S_Power  Af_Solar  Af_Wind  Pf_LiI  \\\n",
       "0                   -1.0      0.0       0.0      0.0     1.0   \n",
       "1                    0.0     -1.0       0.0      0.0    -1.0   \n",
       "2                    0.0      0.0       1.0      0.0     0.0   \n",
       "3                    0.0      0.0       0.0      1.0     0.0   \n",
       "4                   -1.0      0.0       0.0      0.0     0.0   \n",
       "5                    0.0     -1.0       0.0      0.0     0.0   \n",
       "6                    0.0      0.0       1.0      0.0     0.0   \n",
       "7                    0.0      0.0       0.0      1.0     0.0   \n",
       "8                    0.0      0.0       0.0      0.0     1.0   \n",
       "9                    0.0      0.0       0.0      0.0     0.0   \n",
       "10                   0.0      0.0       0.0      0.0     0.0   \n",
       "11                   0.0      0.0       0.0      0.0     0.0   \n",
       "12                  -1.0     -0.0      -0.0     -0.0    -0.0   \n",
       "13                  -0.0     -1.0      -0.0     -0.0    -0.0   \n",
       "14                  -0.0     -0.0      -1.0     -0.0    -0.0   \n",
       "15                  -0.0     -0.0      -0.0     -1.0    -0.0   \n",
       "16                  -0.0     -0.0      -0.0     -0.0    -1.0   \n",
       "17                  -0.0     -0.0      -0.0     -0.0    -0.0   \n",
       "18                  -0.0     -0.0      -0.0     -0.0    -0.0   \n",
       "19                  -0.0     -0.0      -0.0     -0.0    -0.0   \n",
       "\n",
       "    Pf_LiI_discharge  P_PV  P_WF  \n",
       "0              -1.00  0.00  0.00  \n",
       "1               0.89  0.75  0.85  \n",
       "2               0.00 -1.00  0.00  \n",
       "3               0.00  0.00 -1.00  \n",
       "4               0.00  0.00  0.00  \n",
       "5               0.00  0.00  0.00  \n",
       "6               0.00  0.00  0.00  \n",
       "7               0.00  0.00  0.00  \n",
       "8               0.00  0.00  0.00  \n",
       "9               1.00  0.00  0.00  \n",
       "10              0.00  1.00  0.00  \n",
       "11              0.00  0.00  1.00  \n",
       "12             -0.00 -0.00 -0.00  \n",
       "13             -0.00 -0.00 -0.00  \n",
       "14             -0.00 -0.00 -0.00  \n",
       "15             -0.00 -0.00 -0.00  \n",
       "16             -0.00 -0.00 -0.00  \n",
       "17             -1.00 -0.00 -0.00  \n",
       "18             -0.00 -1.00 -0.00  \n",
       "19             -0.00 -0.00 -1.00  "
      ]
     },
     "execution_count": 15,
     "metadata": {},
     "output_type": "execute_result"
    }
   ],
   "source": [
    "example.A_df"
   ]
  },
  {
   "cell_type": "code",
   "execution_count": 16,
   "metadata": {},
   "outputs": [
    {
     "data": {
      "text/html": [
       "<div>\n",
       "<style scoped>\n",
       "    .dataframe tbody tr th:only-of-type {\n",
       "        vertical-align: middle;\n",
       "    }\n",
       "\n",
       "    .dataframe tbody tr th {\n",
       "        vertical-align: top;\n",
       "    }\n",
       "\n",
       "    .dataframe thead th {\n",
       "        text-align: right;\n",
       "    }\n",
       "</style>\n",
       "<table border=\"1\" class=\"dataframe\">\n",
       "  <thead>\n",
       "    <tr style=\"text-align: right;\">\n",
       "      <th></th>\n",
       "      <th>Th_Power</th>\n",
       "      <th>Th_PV</th>\n",
       "      <th>Th_WF</th>\n",
       "    </tr>\n",
       "  </thead>\n",
       "  <tbody>\n",
       "    <tr>\n",
       "      <th>0</th>\n",
       "      <td>0.0</td>\n",
       "      <td>0.0</td>\n",
       "      <td>0.0</td>\n",
       "    </tr>\n",
       "    <tr>\n",
       "      <th>1</th>\n",
       "      <td>0.0</td>\n",
       "      <td>0.0</td>\n",
       "      <td>0.0</td>\n",
       "    </tr>\n",
       "    <tr>\n",
       "      <th>2</th>\n",
       "      <td>0.0</td>\n",
       "      <td>0.0</td>\n",
       "      <td>0.0</td>\n",
       "    </tr>\n",
       "    <tr>\n",
       "      <th>3</th>\n",
       "      <td>0.0</td>\n",
       "      <td>0.0</td>\n",
       "      <td>0.0</td>\n",
       "    </tr>\n",
       "    <tr>\n",
       "      <th>4</th>\n",
       "      <td>0.0</td>\n",
       "      <td>0.0</td>\n",
       "      <td>0.0</td>\n",
       "    </tr>\n",
       "    <tr>\n",
       "      <th>5</th>\n",
       "      <td>150.0</td>\n",
       "      <td>0.0</td>\n",
       "      <td>0.0</td>\n",
       "    </tr>\n",
       "    <tr>\n",
       "      <th>6</th>\n",
       "      <td>0.0</td>\n",
       "      <td>0.0</td>\n",
       "      <td>0.0</td>\n",
       "    </tr>\n",
       "    <tr>\n",
       "      <th>7</th>\n",
       "      <td>0.0</td>\n",
       "      <td>0.0</td>\n",
       "      <td>0.0</td>\n",
       "    </tr>\n",
       "    <tr>\n",
       "      <th>8</th>\n",
       "      <td>0.0</td>\n",
       "      <td>0.0</td>\n",
       "      <td>0.0</td>\n",
       "    </tr>\n",
       "    <tr>\n",
       "      <th>9</th>\n",
       "      <td>0.0</td>\n",
       "      <td>0.0</td>\n",
       "      <td>0.0</td>\n",
       "    </tr>\n",
       "    <tr>\n",
       "      <th>10</th>\n",
       "      <td>0.0</td>\n",
       "      <td>100.0</td>\n",
       "      <td>0.0</td>\n",
       "    </tr>\n",
       "    <tr>\n",
       "      <th>11</th>\n",
       "      <td>0.0</td>\n",
       "      <td>0.0</td>\n",
       "      <td>100.0</td>\n",
       "    </tr>\n",
       "    <tr>\n",
       "      <th>12</th>\n",
       "      <td>0.0</td>\n",
       "      <td>0.0</td>\n",
       "      <td>0.0</td>\n",
       "    </tr>\n",
       "    <tr>\n",
       "      <th>13</th>\n",
       "      <td>0.0</td>\n",
       "      <td>0.0</td>\n",
       "      <td>0.0</td>\n",
       "    </tr>\n",
       "    <tr>\n",
       "      <th>14</th>\n",
       "      <td>0.0</td>\n",
       "      <td>0.0</td>\n",
       "      <td>0.0</td>\n",
       "    </tr>\n",
       "    <tr>\n",
       "      <th>15</th>\n",
       "      <td>0.0</td>\n",
       "      <td>0.0</td>\n",
       "      <td>0.0</td>\n",
       "    </tr>\n",
       "    <tr>\n",
       "      <th>16</th>\n",
       "      <td>0.0</td>\n",
       "      <td>0.0</td>\n",
       "      <td>0.0</td>\n",
       "    </tr>\n",
       "    <tr>\n",
       "      <th>17</th>\n",
       "      <td>0.0</td>\n",
       "      <td>0.0</td>\n",
       "      <td>0.0</td>\n",
       "    </tr>\n",
       "    <tr>\n",
       "      <th>18</th>\n",
       "      <td>0.0</td>\n",
       "      <td>0.0</td>\n",
       "      <td>0.0</td>\n",
       "    </tr>\n",
       "    <tr>\n",
       "      <th>19</th>\n",
       "      <td>0.0</td>\n",
       "      <td>0.0</td>\n",
       "      <td>0.0</td>\n",
       "    </tr>\n",
       "  </tbody>\n",
       "</table>\n",
       "</div>"
      ],
      "text/plain": [
       "    Th_Power  Th_PV  Th_WF\n",
       "0        0.0    0.0    0.0\n",
       "1        0.0    0.0    0.0\n",
       "2        0.0    0.0    0.0\n",
       "3        0.0    0.0    0.0\n",
       "4        0.0    0.0    0.0\n",
       "5      150.0    0.0    0.0\n",
       "6        0.0    0.0    0.0\n",
       "7        0.0    0.0    0.0\n",
       "8        0.0    0.0    0.0\n",
       "9        0.0    0.0    0.0\n",
       "10       0.0  100.0    0.0\n",
       "11       0.0    0.0  100.0\n",
       "12       0.0    0.0    0.0\n",
       "13       0.0    0.0    0.0\n",
       "14       0.0    0.0    0.0\n",
       "15       0.0    0.0    0.0\n",
       "16       0.0    0.0    0.0\n",
       "17       0.0    0.0    0.0\n",
       "18       0.0    0.0    0.0\n",
       "19       0.0    0.0    0.0"
      ]
     },
     "execution_count": 16,
     "metadata": {},
     "output_type": "execute_result"
    }
   ],
   "source": [
    "example.F_df"
   ]
  },
  {
   "cell_type": "code",
   "execution_count": 17,
   "metadata": {},
   "outputs": [
    {
     "name": "stdout",
     "output_type": "stream",
     "text": [
      "Set parameter Username\n",
      "Academic license - for non-commercial use only - expires 2024-02-14\n"
     ]
    }
   ],
   "source": [
    "\n",
    "prog = MPLP_Program(matrix['A'], matrix['b'], matrix['c'], matrix['H'],\n",
    "                    matrix['CRa'], matrix['CRb'], matrix['F'], equality_indices=[0, 1, 2, 3, 4, 5, 6])\n",
    "prog.solver.solvers['lp'] = 'gurobi'\n",
    "# prog.warnings()\n",
    "# prog.display_warnings()\n",
    "# prog.process_constraints()\n",
    "solution1 = solve_mpqp(prog, mpqp_algorithm.combinatorial)\n"
   ]
  },
  {
   "cell_type": "code",
   "execution_count": 18,
   "metadata": {},
   "outputs": [
    {
     "data": {
      "text/plain": [
       "[]"
      ]
     },
     "execution_count": 18,
     "metadata": {},
     "output_type": "execute_result"
    }
   ],
   "source": [
    "solution1.critical_regions"
   ]
  },
  {
   "cell_type": "code",
   "execution_count": 19,
   "metadata": {},
   "outputs": [
    {
     "name": "stdout",
     "output_type": "stream",
     "text": [
      "[]\n",
      "[Critical region with active set [0, 1, 2, 3, 4, 5, 11, 15]\n",
      "The Omega Constraint indices are [1, 2, 4, 5]\n",
      "The Lagrange multipliers Constraint indices are []\n",
      "The Regular Constraint indices are [[3, 7, 8, 10], [9, 14, 16, 18]]\n",
      "  x(θ) = Aθ + b \n",
      " λ(θ) = Cθ + d \n",
      "  Eθ <= f\n",
      " A = [[  -0.         0.         0.     ]\n",
      " [-150.         0.         0.     ]\n",
      " [   0.         0.         0.     ]\n",
      " [-176.47059    0.         0.     ]\n",
      " [   0.         0.         0.     ]\n",
      " [   0.         0.         0.     ]\n",
      " [   0.         0.         0.     ]\n",
      " [-176.47059    0.         0.     ]] \n",
      " b = [[ -0.     ]\n",
      " [150.     ]\n",
      " [100.     ]\n",
      " [ 88.23529]\n",
      " [ -0.     ]\n",
      " [ -0.     ]\n",
      " [100.     ]\n",
      " [ 88.23529]] \n",
      " C = [[0. 0. 0.]\n",
      " [0. 0. 0.]\n",
      " [0. 0. 0.]\n",
      " [0. 0. 0.]\n",
      " [0. 0. 0.]\n",
      " [0. 0. 0.]\n",
      " [0. 0. 0.]\n",
      " [0. 0. 0.]] \n",
      " d = [[ -1795.42349]\n",
      " [ -2351.75432]\n",
      " [  -433.49805]\n",
      " [    -0.     ]\n",
      " [174709.76466]\n",
      " [   306.52941]\n",
      " [  1036.58824]\n",
      " [  1430.11765]] \n",
      " E = [[ 0. -1.  0.]\n",
      " [ 1.  0.  0.]\n",
      " [-1.  0.  0.]\n",
      " [ 1.  0.  0.]\n",
      " [ 0.  1.  0.]\n",
      " [ 0.  0.  1.]\n",
      " [-0. -1. -0.]\n",
      " [-0. -0. -1.]] \n",
      " f = [[ 0.     ]\n",
      " [ 0.5    ]\n",
      " [-0.41248]\n",
      " [ 0.5    ]\n",
      " [ 1.     ]\n",
      " [ 1.     ]\n",
      " [ 0.     ]\n",
      " [ 0.     ]], Critical region with active set [0, 1, 2, 3, 4, 5, 11, 16]\n",
      "The Omega Constraint indices are [1, 2, 3, 4, 5]\n",
      "The Lagrange multipliers Constraint indices are []\n",
      "The Regular Constraint indices are [[3, 7, 10], [9, 14, 18]]\n",
      "  x(θ) = Aθ + b \n",
      " λ(θ) = Cθ + d \n",
      "  Eθ <= f\n",
      " A = [[  -0.         0.         0.     ]\n",
      " [-150.         0.         0.     ]\n",
      " [   0.         0.         0.     ]\n",
      " [-176.47059    0.         0.     ]\n",
      " [  -0.         0.         0.     ]\n",
      " [   0.         0.         0.     ]\n",
      " [   0.         0.         0.     ]\n",
      " [-176.47059    0.         0.     ]] \n",
      " b = [[ -0.     ]\n",
      " [150.     ]\n",
      " [100.     ]\n",
      " [ 88.23529]\n",
      " [  0.     ]\n",
      " [  0.     ]\n",
      " [100.     ]\n",
      " [ 88.23529]] \n",
      " C = [[0. 0. 0.]\n",
      " [0. 0. 0.]\n",
      " [0. 0. 0.]\n",
      " [0. 0. 0.]\n",
      " [0. 0. 0.]\n",
      " [0. 0. 0.]\n",
      " [0. 0. 0.]\n",
      " [0. 0. 0.]] \n",
      " d = [[ -4272.45992]\n",
      " [ -2351.75432]\n",
      " [  -433.49805]\n",
      " [     0.     ]\n",
      " [174709.76466]\n",
      " [   306.52941]\n",
      " [  2466.70588]\n",
      " [  1430.11765]] \n",
      " E = [[ 0. -1.  0.]\n",
      " [ 1.  0.  0.]\n",
      " [ 1.  0.  0.]\n",
      " [ 0.  1.  0.]\n",
      " [ 0.  0.  1.]\n",
      " [-1. -0. -0.]\n",
      " [-0. -1. -0.]\n",
      " [-0. -0. -1.]] \n",
      " f = [[0. ]\n",
      " [0.5]\n",
      " [0.5]\n",
      " [1. ]\n",
      " [1. ]\n",
      " [0. ]\n",
      " [0. ]\n",
      " [0. ]]]\n"
     ]
    }
   ],
   "source": [
    "prog = MPLP_Program(matrix['A'], matrix['b'], matrix['c'], matrix['H'],\n",
    "                    matrix['CRa'], matrix['CRb'], matrix['F'], equality_indices=[0, 1, 2, 3])\n",
    "prog.solver.solvers['lp'] = 'gurobi'\n",
    "prog.warnings()\n",
    "prog.display_warnings()\n",
    "prog.process_constraints()\n",
    "solution1 = solve_mpqp(prog, mpqp_algorithm.combinatorial)\n",
    "# prog.solve_theta(numpy.array([[0.76816588], [0.6937343 ], [0.52326189]]))\n",
    "print(solution1.critical_regions)\n"
   ]
  },
  {
   "cell_type": "code",
   "execution_count": 20,
   "metadata": {},
   "outputs": [
    {
     "data": {
      "text/plain": [
       "dict_keys(['A', 'b', 'C', 'd', 'E', 'f', 'active_set', 'omega_set', 'lambda_set', 'regular_set', 'y_fixation', 'y_indices', 'x_indices'])"
      ]
     },
     "execution_count": 20,
     "metadata": {},
     "output_type": "execute_result"
    }
   ],
   "source": [
    "solution1.critical_regions[0].__dict__.keys()"
   ]
  },
  {
   "cell_type": "code",
   "execution_count": 21,
   "metadata": {},
   "outputs": [
    {
     "data": {
      "text/plain": [
       "Critical region with active set [0, 1, 2, 3, 4, 5, 11, 15]\n",
       "The Omega Constraint indices are [1, 2, 4, 5]\n",
       "The Lagrange multipliers Constraint indices are []\n",
       "The Regular Constraint indices are [[3, 7, 8, 10], [9, 14, 16, 18]]\n",
       "  x(θ) = Aθ + b \n",
       " λ(θ) = Cθ + d \n",
       "  Eθ <= f\n",
       " A = [[  -0.         0.         0.     ]\n",
       " [-150.         0.         0.     ]\n",
       " [   0.         0.         0.     ]\n",
       " [-176.47059    0.         0.     ]\n",
       " [   0.         0.         0.     ]\n",
       " [   0.         0.         0.     ]\n",
       " [   0.         0.         0.     ]\n",
       " [-176.47059    0.         0.     ]] \n",
       " b = [[ -0.     ]\n",
       " [150.     ]\n",
       " [100.     ]\n",
       " [ 88.23529]\n",
       " [ -0.     ]\n",
       " [ -0.     ]\n",
       " [100.     ]\n",
       " [ 88.23529]] \n",
       " C = [[0. 0. 0.]\n",
       " [0. 0. 0.]\n",
       " [0. 0. 0.]\n",
       " [0. 0. 0.]\n",
       " [0. 0. 0.]\n",
       " [0. 0. 0.]\n",
       " [0. 0. 0.]\n",
       " [0. 0. 0.]] \n",
       " d = [[ -1795.42349]\n",
       " [ -2351.75432]\n",
       " [  -433.49805]\n",
       " [    -0.     ]\n",
       " [174709.76466]\n",
       " [   306.52941]\n",
       " [  1036.58824]\n",
       " [  1430.11765]] \n",
       " E = [[ 0. -1.  0.]\n",
       " [ 1.  0.  0.]\n",
       " [-1.  0.  0.]\n",
       " [ 1.  0.  0.]\n",
       " [ 0.  1.  0.]\n",
       " [ 0.  0.  1.]\n",
       " [-0. -1. -0.]\n",
       " [-0. -0. -1.]] \n",
       " f = [[ 0.     ]\n",
       " [ 0.5    ]\n",
       " [-0.41248]\n",
       " [ 0.5    ]\n",
       " [ 1.     ]\n",
       " [ 1.     ]\n",
       " [ 0.     ]\n",
       " [ 0.     ]]"
      ]
     },
     "execution_count": 21,
     "metadata": {},
     "output_type": "execute_result"
    }
   ],
   "source": [
    "solution1.critical_regions[0]"
   ]
  },
  {
   "cell_type": "code",
   "execution_count": 22,
   "metadata": {},
   "outputs": [
    {
     "name": "stdout",
     "output_type": "stream",
     "text": [
      "[]\n",
      "[Critical region with active set [0, 1, 2, 3, 4, 5, 11, 15]\n",
      "The Omega Constraint indices are [1, 2, 4, 5]\n",
      "The Lagrange multipliers Constraint indices are []\n",
      "The Regular Constraint indices are [[3, 7, 8, 10], [9, 14, 16, 18]]\n",
      "  x(θ) = Aθ + b \n",
      " λ(θ) = Cθ + d \n",
      "  Eθ <= f\n",
      " A = [[  -0.         0.         0.     ]\n",
      " [-150.         0.         0.     ]\n",
      " [   0.         0.         0.     ]\n",
      " [-176.47059    0.         0.     ]\n",
      " [   0.         0.         0.     ]\n",
      " [   0.         0.         0.     ]\n",
      " [   0.         0.         0.     ]\n",
      " [-176.47059    0.         0.     ]] \n",
      " b = [[ -0.     ]\n",
      " [150.     ]\n",
      " [100.     ]\n",
      " [ 88.23529]\n",
      " [ -0.     ]\n",
      " [ -0.     ]\n",
      " [100.     ]\n",
      " [ 88.23529]] \n",
      " C = [[0. 0. 0.]\n",
      " [0. 0. 0.]\n",
      " [0. 0. 0.]\n",
      " [0. 0. 0.]\n",
      " [0. 0. 0.]\n",
      " [0. 0. 0.]\n",
      " [0. 0. 0.]\n",
      " [0. 0. 0.]] \n",
      " d = [[ -1795.42349]\n",
      " [ -2351.75432]\n",
      " [  -433.49805]\n",
      " [    -0.     ]\n",
      " [174709.76466]\n",
      " [   306.52941]\n",
      " [  1036.58824]\n",
      " [  1430.11765]] \n",
      " E = [[ 0. -1.  0.]\n",
      " [ 1.  0.  0.]\n",
      " [-1.  0.  0.]\n",
      " [ 1.  0.  0.]\n",
      " [ 0.  1.  0.]\n",
      " [ 0.  0.  1.]\n",
      " [-0. -1. -0.]\n",
      " [-0. -0. -1.]] \n",
      " f = [[ 0.     ]\n",
      " [ 0.5    ]\n",
      " [-0.41248]\n",
      " [ 0.5    ]\n",
      " [ 1.     ]\n",
      " [ 1.     ]\n",
      " [ 0.     ]\n",
      " [ 0.     ]], Critical region with active set [0, 1, 2, 3, 4, 5, 11, 16]\n",
      "The Omega Constraint indices are [1, 2, 3, 4, 5]\n",
      "The Lagrange multipliers Constraint indices are []\n",
      "The Regular Constraint indices are [[3, 7, 10], [9, 14, 18]]\n",
      "  x(θ) = Aθ + b \n",
      " λ(θ) = Cθ + d \n",
      "  Eθ <= f\n",
      " A = [[  -0.         0.         0.     ]\n",
      " [-150.         0.         0.     ]\n",
      " [   0.         0.         0.     ]\n",
      " [-176.47059    0.         0.     ]\n",
      " [  -0.         0.         0.     ]\n",
      " [   0.         0.         0.     ]\n",
      " [   0.         0.         0.     ]\n",
      " [-176.47059    0.         0.     ]] \n",
      " b = [[ -0.     ]\n",
      " [150.     ]\n",
      " [100.     ]\n",
      " [ 88.23529]\n",
      " [  0.     ]\n",
      " [  0.     ]\n",
      " [100.     ]\n",
      " [ 88.23529]] \n",
      " C = [[0. 0. 0.]\n",
      " [0. 0. 0.]\n",
      " [0. 0. 0.]\n",
      " [0. 0. 0.]\n",
      " [0. 0. 0.]\n",
      " [0. 0. 0.]\n",
      " [0. 0. 0.]\n",
      " [0. 0. 0.]] \n",
      " d = [[ -4272.45992]\n",
      " [ -2351.75432]\n",
      " [  -433.49805]\n",
      " [     0.     ]\n",
      " [174709.76466]\n",
      " [   306.52941]\n",
      " [  2466.70588]\n",
      " [  1430.11765]] \n",
      " E = [[ 0. -1.  0.]\n",
      " [ 1.  0.  0.]\n",
      " [ 1.  0.  0.]\n",
      " [ 0.  1.  0.]\n",
      " [ 0.  0.  1.]\n",
      " [-1. -0. -0.]\n",
      " [-0. -1. -0.]\n",
      " [-0. -0. -1.]] \n",
      " f = [[0. ]\n",
      " [0.5]\n",
      " [0.5]\n",
      " [1. ]\n",
      " [1. ]\n",
      " [0. ]\n",
      " [0. ]\n",
      " [0. ]]]\n"
     ]
    }
   ],
   "source": [
    "prog1 = MPLP_Program(matrix['A'], matrix['b'], matrix['c'], matrix['H'],\n",
    "                     matrix['CRa'], matrix['CRb'], matrix['F'], equality_indices=[0, 1, 2, 3])\n",
    "prog1.solver.solvers['lp'] = 'gurobi'\n",
    "prog1.warnings()\n",
    "prog1.display_warnings()\n",
    "prog1.process_constraints()\n",
    "solution2 = solve_mpqp(prog1, mpqp_algorithm.combinatorial)\n",
    "print(solution2.critical_regions)\n"
   ]
  },
  {
   "cell_type": "code",
   "execution_count": 23,
   "metadata": {},
   "outputs": [
    {
     "data": {
      "text/plain": [
       "Solution(program=MPLP_Program(A=array([[-0.57735,  0.     ,  0.     ,  0.     ,  0.57735, -0.57735,\n",
       "         0.     ,  0.     ],\n",
       "       [ 0.     , -0.49525,  0.     ,  0.     , -0.49525,  0.44077,\n",
       "         0.37144,  0.42096],\n",
       "       [ 0.     ,  0.     ,  0.70711,  0.     ,  0.     ,  0.     ,\n",
       "        -0.70711,  0.     ],\n",
       "       [ 0.     ,  0.     ,  0.     ,  0.70711,  0.     ,  0.     ,\n",
       "         0.     , -0.70711],\n",
       "       [ 0.     , -0.00667,  0.     ,  0.     ,  0.     ,  0.     ,\n",
       "         0.     ,  0.     ],\n",
       "       [ 0.     ,  0.     ,  1.     ,  0.     ,  0.     ,  0.     ,\n",
       "         0.     ,  0.     ],\n",
       "       [ 0.     ,  0.     ,  0.     ,  1.     ,  0.     ,  0.     ,\n",
       "         0.     ,  0.     ],\n",
       "       [ 0.     ,  0.     ,  0.     ,  0.     ,  1.     ,  0.     ,\n",
       "         0.     ,  0.     ],\n",
       "       [ 0.     ,  0.     ,  0.     ,  0.     ,  0.     ,  1.     ,\n",
       "         0.     ,  0.     ],\n",
       "       [ 0.     ,  0.     ,  0.     ,  0.     ,  0.     ,  0.     ,\n",
       "         0.01   ,  0.     ],\n",
       "       [ 0.     ,  0.     ,  0.     ,  0.     ,  0.     ,  0.     ,\n",
       "         0.     ,  0.01   ],\n",
       "       [-1.     , -0.     , -0.     , -0.     , -0.     , -0.     ,\n",
       "        -0.     , -0.     ],\n",
       "       [-0.     , -1.     , -0.     , -0.     , -0.     , -0.     ,\n",
       "        -0.     , -0.     ],\n",
       "       [-0.     , -0.     , -1.     , -0.     , -0.     , -0.     ,\n",
       "        -0.     , -0.     ],\n",
       "       [-0.     , -0.     , -0.     , -1.     , -0.     , -0.     ,\n",
       "        -0.     , -0.     ],\n",
       "       [-0.     , -0.     , -0.     , -0.     , -1.     , -0.     ,\n",
       "        -0.     , -0.     ],\n",
       "       [-0.     , -0.     , -0.     , -0.     , -0.     , -1.     ,\n",
       "        -0.     , -0.     ],\n",
       "       [-0.     , -0.     , -0.     , -0.     , -0.     , -0.     ,\n",
       "        -1.     , -0.     ],\n",
       "       [-0.     , -0.     , -0.     , -0.     , -0.     , -0.     ,\n",
       "        -0.     , -1.     ]]), b=array([[  0.     ],\n",
       "       [  0.     ],\n",
       "       [  0.     ],\n",
       "       [  0.     ],\n",
       "       [ -0.99998],\n",
       "       [100.     ],\n",
       "       [100.     ],\n",
       "       [ 50.     ],\n",
       "       [ 50.     ],\n",
       "       [  0.99995],\n",
       "       [  0.99995],\n",
       "       [  0.     ],\n",
       "       [  0.     ],\n",
       "       [  0.     ],\n",
       "       [  0.     ],\n",
       "       [  0.     ],\n",
       "       [  0.     ],\n",
       "       [  0.     ],\n",
       "       [  0.     ]]), c=array([[   0.],\n",
       "       [   0.],\n",
       "       [   0.],\n",
       "       [   0.],\n",
       "       [1302.],\n",
       "       [   0.],\n",
       "       [ 567.],\n",
       "       [ 990.]]), H=array([[0., 0., 0.],\n",
       "       [0., 0., 0.],\n",
       "       [0., 0., 0.],\n",
       "       [0., 0., 0.],\n",
       "       [0., 0., 0.],\n",
       "       [0., 0., 0.],\n",
       "       [0., 0., 0.],\n",
       "       [0., 0., 0.]]), A_t=array([[ 1.,  0.,  0.],\n",
       "       [ 0.,  1.,  0.],\n",
       "       [ 0.,  0.,  1.],\n",
       "       [-1., -0., -0.],\n",
       "       [-0., -1., -0.],\n",
       "       [-0., -0., -1.]]), b_t=array([[1.],\n",
       "       [1.],\n",
       "       [1.],\n",
       "       [0.],\n",
       "       [0.],\n",
       "       [0.]]), F=array([[0.     , 0.     , 0.     ],\n",
       "       [0.     , 0.     , 0.     ],\n",
       "       [0.     , 0.     , 0.     ],\n",
       "       [0.     , 0.     , 0.     ],\n",
       "       [0.99998, 0.     , 0.     ],\n",
       "       [0.     , 0.     , 0.     ],\n",
       "       [0.     , 0.     , 0.     ],\n",
       "       [0.     , 0.     , 0.     ],\n",
       "       [0.     , 0.     , 0.     ],\n",
       "       [0.     , 0.99995, 0.     ],\n",
       "       [0.     , 0.     , 0.99995],\n",
       "       [0.     , 0.     , 0.     ],\n",
       "       [0.     , 0.     , 0.     ],\n",
       "       [0.     , 0.     , 0.     ],\n",
       "       [0.     , 0.     , 0.     ],\n",
       "       [0.     , 0.     , 0.     ],\n",
       "       [0.     , 0.     , 0.     ],\n",
       "       [0.     , 0.     , 0.     ],\n",
       "       [0.     , 0.     , 0.     ]]), c_c=array([[0.]]), c_t=array([[0.],\n",
       "       [0.],\n",
       "       [0.]]), Q_t=array([[0., 0., 0.],\n",
       "       [0., 0., 0.],\n",
       "       [0., 0., 0.]]), equality_indices=[0, 1, 2, 3], solver=Solver(solvers={'lp': 'gurobi', 'qp': 'gurobi', 'milp': 'gurobi', 'miqp': 'gurobi'})), critical_regions=[Critical region with active set [0, 1, 2, 3, 4, 5, 11, 15]\n",
       "The Omega Constraint indices are [1, 2, 4, 5]\n",
       "The Lagrange multipliers Constraint indices are []\n",
       "The Regular Constraint indices are [[3, 7, 8, 10], [9, 14, 16, 18]]\n",
       "  x(θ) = Aθ + b \n",
       " λ(θ) = Cθ + d \n",
       "  Eθ <= f\n",
       " A = [[  -0.         0.         0.     ]\n",
       " [-150.         0.         0.     ]\n",
       " [   0.         0.         0.     ]\n",
       " [-176.47059    0.         0.     ]\n",
       " [   0.         0.         0.     ]\n",
       " [   0.         0.         0.     ]\n",
       " [   0.         0.         0.     ]\n",
       " [-176.47059    0.         0.     ]] \n",
       " b = [[ -0.     ]\n",
       " [150.     ]\n",
       " [100.     ]\n",
       " [ 88.23529]\n",
       " [ -0.     ]\n",
       " [ -0.     ]\n",
       " [100.     ]\n",
       " [ 88.23529]] \n",
       " C = [[0. 0. 0.]\n",
       " [0. 0. 0.]\n",
       " [0. 0. 0.]\n",
       " [0. 0. 0.]\n",
       " [0. 0. 0.]\n",
       " [0. 0. 0.]\n",
       " [0. 0. 0.]\n",
       " [0. 0. 0.]] \n",
       " d = [[ -1795.42349]\n",
       " [ -2351.75432]\n",
       " [  -433.49805]\n",
       " [    -0.     ]\n",
       " [174709.76466]\n",
       " [   306.52941]\n",
       " [  1036.58824]\n",
       " [  1430.11765]] \n",
       " E = [[ 0. -1.  0.]\n",
       " [ 1.  0.  0.]\n",
       " [-1.  0.  0.]\n",
       " [ 1.  0.  0.]\n",
       " [ 0.  1.  0.]\n",
       " [ 0.  0.  1.]\n",
       " [-0. -1. -0.]\n",
       " [-0. -0. -1.]] \n",
       " f = [[ 0.     ]\n",
       " [ 0.5    ]\n",
       " [-0.41248]\n",
       " [ 0.5    ]\n",
       " [ 1.     ]\n",
       " [ 1.     ]\n",
       " [ 0.     ]\n",
       " [ 0.     ]], Critical region with active set [0, 1, 2, 3, 4, 5, 11, 16]\n",
       "The Omega Constraint indices are [1, 2, 3, 4, 5]\n",
       "The Lagrange multipliers Constraint indices are []\n",
       "The Regular Constraint indices are [[3, 7, 10], [9, 14, 18]]\n",
       "  x(θ) = Aθ + b \n",
       " λ(θ) = Cθ + d \n",
       "  Eθ <= f\n",
       " A = [[  -0.         0.         0.     ]\n",
       " [-150.         0.         0.     ]\n",
       " [   0.         0.         0.     ]\n",
       " [-176.47059    0.         0.     ]\n",
       " [  -0.         0.         0.     ]\n",
       " [   0.         0.         0.     ]\n",
       " [   0.         0.         0.     ]\n",
       " [-176.47059    0.         0.     ]] \n",
       " b = [[ -0.     ]\n",
       " [150.     ]\n",
       " [100.     ]\n",
       " [ 88.23529]\n",
       " [  0.     ]\n",
       " [  0.     ]\n",
       " [100.     ]\n",
       " [ 88.23529]] \n",
       " C = [[0. 0. 0.]\n",
       " [0. 0. 0.]\n",
       " [0. 0. 0.]\n",
       " [0. 0. 0.]\n",
       " [0. 0. 0.]\n",
       " [0. 0. 0.]\n",
       " [0. 0. 0.]\n",
       " [0. 0. 0.]] \n",
       " d = [[ -4272.45992]\n",
       " [ -2351.75432]\n",
       " [  -433.49805]\n",
       " [     0.     ]\n",
       " [174709.76466]\n",
       " [   306.52941]\n",
       " [  2466.70588]\n",
       " [  1430.11765]] \n",
       " E = [[ 0. -1.  0.]\n",
       " [ 1.  0.  0.]\n",
       " [ 1.  0.  0.]\n",
       " [ 0.  1.  0.]\n",
       " [ 0.  0.  1.]\n",
       " [-1. -0. -0.]\n",
       " [-0. -1. -0.]\n",
       " [-0. -0. -1.]] \n",
       " f = [[0. ]\n",
       " [0.5]\n",
       " [0.5]\n",
       " [1. ]\n",
       " [1. ]\n",
       " [0. ]\n",
       " [0. ]\n",
       " [0. ]]])"
      ]
     },
     "execution_count": 23,
     "metadata": {},
     "output_type": "execute_result"
    }
   ],
   "source": [
    "solution1\n"
   ]
  },
  {
   "cell_type": "code",
   "execution_count": 24,
   "metadata": {},
   "outputs": [],
   "source": [
    "from ppopt.utils.constraint_utilities import find_redundant_constraints\n",
    "\n",
    "pre_kept = find_redundant_constraints(numpy.block([[matrix['A'], -matrix['F']], [numpy.zeros(\n",
    "    (matrix['CRa'].shape[0], 8)), matrix['CRa']]]), numpy.block([[matrix['b']], [matrix['CRb']]]), [0, 1, 2, 3])\n",
    "pre_kept = list(filter(lambda x: x < 20, pre_kept))\n"
   ]
  },
  {
   "cell_type": "code",
   "execution_count": 25,
   "metadata": {},
   "outputs": [
    {
     "name": "stdout",
     "output_type": "stream",
     "text": [
      "[]\n",
      "2\n"
     ]
    }
   ],
   "source": [
    "prog2 = MPLP_Program(matrix['A'][pre_kept], matrix['b'][pre_kept], matrix['c'], matrix['H'],\n",
    "                     matrix['CRa'], matrix['CRb'], matrix['F'][pre_kept], equality_indices=[0, 1, 2, 3])\n",
    "prog2.solver.solvers['lp'] = 'gurobi'\n",
    "prog2.warnings()\n",
    "prog2.display_warnings()\n",
    "# prog1.process_constraints()\n",
    "solution3 = solve_mpqp(prog1, mpqp_algorithm.combinatorial)\n",
    "print(len(solution3.critical_regions))\n"
   ]
  },
  {
   "cell_type": "code",
   "execution_count": 26,
   "metadata": {},
   "outputs": [
    {
     "data": {
      "text/plain": [
       "(2, 2, 2)"
      ]
     },
     "execution_count": 26,
     "metadata": {},
     "output_type": "execute_result"
    }
   ],
   "source": [
    "len(solution1.critical_regions), len(\n",
    "    solution2.critical_regions), len(solution3.critical_regions)\n"
   ]
  },
  {
   "cell_type": "code",
   "execution_count": 27,
   "metadata": {},
   "outputs": [
    {
     "data": {
      "text/plain": [
       "2"
      ]
     },
     "execution_count": 27,
     "metadata": {},
     "output_type": "execute_result"
    }
   ],
   "source": [
    "len(solution2.critical_regions)\n"
   ]
  },
  {
   "cell_type": "code",
   "execution_count": 28,
   "metadata": {},
   "outputs": [],
   "source": [
    "# print(prog.A)\n",
    "# prog.process_constraints()\n",
    "# print(prog.num_constraints())\n",
    "\n",
    "# print(prog.num_constraints())\n",
    "# # print(prog.solve_theta(numpy.array([[0.76816588], [0.6937343 ], [0.52326189]])))\n",
    "# print(prog.equality_indices)\n",
    "# print(prog.A)\n",
    "# print(prog.num_constraints())\n",
    "# print([(A[i], prog.A[i]) for i in range(prog.num_constraints())])\n"
   ]
  },
  {
   "cell_type": "code",
   "execution_count": 29,
   "metadata": {},
   "outputs": [],
   "source": [
    "# solution = solve_mpqp(prog, mpqp_algorithm.geometric)\n",
    "# len(solution.critical_regions)\n",
    "# A_prime = prog.A\n",
    "# F_prime = prog.F\n",
    "# A_tprime = prog.A_t\n"
   ]
  },
  {
   "cell_type": "code",
   "execution_count": 30,
   "metadata": {},
   "outputs": [],
   "source": [
    "# solution1.critical_regions[0]\n"
   ]
  },
  {
   "cell_type": "code",
   "execution_count": 31,
   "metadata": {},
   "outputs": [
    {
     "name": "stdout",
     "output_type": "stream",
     "text": [
      "[[56700.]]\n"
     ]
    },
    {
     "data": {
      "text/plain": [
       "array([[ -0.],\n",
       "       [ 75.],\n",
       "       [100.],\n",
       "       [ -0.],\n",
       "       [ -0.],\n",
       "       [  0.],\n",
       "       [100.],\n",
       "       [ -0.]])"
      ]
     },
     "execution_count": 31,
     "metadata": {},
     "output_type": "execute_result"
    }
   ],
   "source": [
    "# solution.critical_regions[0].E@theta_point <= solution.critical_regions[0].f\n",
    "# print(solution.critical_regions[0].E[3], solution.critical_regions[0].f[3])\n",
    "cr = solution3.critical_regions[0]\n",
    "new_theta = prog.solver.solve_lp(\n",
    "    c=(prog.c.T@cr.A).reshape(-1, 1), A=cr.E, b=cr.f).sol\n",
    "print(prog.solver.solve_lp(c=(prog.c.T@cr.A).reshape(-1, 1),\n",
    "      A=cr.E, b=cr.f).obj + prog.c.T@cr.b)\n",
    "cr.evaluate(new_theta.reshape(-1, 1))\n"
   ]
  },
  {
   "cell_type": "code",
   "execution_count": 36,
   "metadata": {},
   "outputs": [
    {
     "data": {
      "text/plain": [
       "array([0.5, 0. , 0. ])"
      ]
     },
     "execution_count": 36,
     "metadata": {},
     "output_type": "execute_result"
    }
   ],
   "source": [
    "new_theta"
   ]
  },
  {
   "cell_type": "code",
   "execution_count": 32,
   "metadata": {},
   "outputs": [
    {
     "name": "stdout",
     "output_type": "stream",
     "text": [
      "[[56700.]]\n"
     ]
    },
    {
     "data": {
      "text/plain": [
       "array([[ -0.],\n",
       "       [ 75.],\n",
       "       [100.],\n",
       "       [ -0.],\n",
       "       [ -0.],\n",
       "       [  0.],\n",
       "       [100.],\n",
       "       [ -0.]])"
      ]
     },
     "execution_count": 32,
     "metadata": {},
     "output_type": "execute_result"
    }
   ],
   "source": [
    "cr = solution2.critical_regions[0]\n",
    "new_theta = prog1.solver.solve_lp(\n",
    "    c=(prog1.c.T@cr.A).reshape(-1, 1), A=cr.E, b=cr.f).sol\n",
    "print(prog1.solver.solve_lp(c=(prog1.c.T@cr.A).reshape(-1, 1),\n",
    "      A=cr.E, b=cr.f).obj + prog1.c.T@cr.b)\n",
    "cr.evaluate(new_theta.reshape(-1, 1))\n"
   ]
  },
  {
   "cell_type": "code",
   "execution_count": 37,
   "metadata": {},
   "outputs": [
    {
     "data": {
      "text/plain": [
       "array([[ -0.],\n",
       "       [ 75.],\n",
       "       [100.],\n",
       "       [ -0.],\n",
       "       [ -0.],\n",
       "       [  0.],\n",
       "       [100.],\n",
       "       [ -0.]])"
      ]
     },
     "execution_count": 37,
     "metadata": {},
     "output_type": "execute_result"
    }
   ],
   "source": [
    "cr.evaluate(new_theta.reshape(-1, 1))"
   ]
  },
  {
   "cell_type": "code",
   "execution_count": 33,
   "metadata": {},
   "outputs": [
    {
     "name": "stdout",
     "output_type": "stream",
     "text": [
      "SolverOutput(obj=array([[20765.3574]]), sol=array([ 0.     , 27.4674 , 36.62321,  0.     ,  0.     ,  0.     ,\n",
      "       36.62321,  0.     ]), slack=array([  0.     ,   0.     ,   0.     ,   0.     ,   0.     ,  63.37679,\n",
      "       100.     ,  50.     ,  50.     ,   1.22159,   1.44627,   0.     ,\n",
      "        27.4674 ,  36.62321,   0.     ,   0.     ,   0.     ,  36.62321,\n",
      "         0.     ]), active_set=array([ 0,  1,  2,  3,  4, 11, 14, 15, 16, 18], dtype=int64), dual=array([   3564.56056,    1526.50235,       0.     ,       0.     ,\n",
      "       -113402.51997,       0.     ,       0.     ,       0.     ,\n",
      "             0.     ,       0.     ,       0.     ,   -2058.     ,\n",
      "             0.     ,       0.     ,       0.     ,       0.     ,\n",
      "         -1385.16   ,       0.     ,    -347.4    ]))\n",
      "[[0.81688]\n",
      " [0.58789]\n",
      " [0.44635]]\n"
     ]
    }
   ],
   "source": [
    "# [x.b for x in solution.critical_regions]\n",
    "for i in range(1000):\n",
    "    theta_samp = numpy.random.rand(3).reshape(-1, 1)\n",
    "\n",
    "    prop = prog.solve_theta(theta_samp)\n",
    "\n",
    "    if prop is not None:\n",
    "        print(prop)\n",
    "        print(theta_samp)\n",
    "        break\n"
   ]
  },
  {
   "cell_type": "code",
   "execution_count": 34,
   "metadata": {},
   "outputs": [
    {
     "name": "stdout",
     "output_type": "stream",
     "text": [
      "SolverOutput(obj=array([[67962.87115]]), sol=array([  0.     ,  84.67014, 100.     ,  11.37664,   0.     ,   0.     ,\n",
      "       100.     ,  11.37664]), slack=array([  0.     ,   0.     ,   0.     ,   0.     ,   0.     ,   0.     ,\n",
      "        88.62336,  50.     ,  50.     ,  19.96087, 156.33325,   0.     ,\n",
      "        84.67014, 100.     ,  11.37664,   0.     ,   0.     , 100.     ,\n",
      "        11.37664]), active_set=array([ 0,  1,  2,  3,  4,  5, 11, 15, 16], dtype=int64), dual=array([ 2466.70588,  1164.70588,   306.52941,     0.     , -1164.70588,\n",
      "        -306.52941,     0.     ,     0.     ,     0.     ,     0.     ,\n",
      "           0.     , -2466.70588,     0.     ,     0.     ,     0.     ,\n",
      "           0.     , -1430.11765,     0.     ,     0.     ]))\n",
      "[[0.43553]\n",
      " [0.19961]\n",
      " [0.6771 ]]\n"
     ]
    }
   ],
   "source": [
    "# [x.b for x in solution.critical_regions]\n",
    "for i in range(1000):\n",
    "    theta_samp = numpy.random.rand(3).reshape(-1, 1)\n",
    "\n",
    "    prop = prog2.solve_theta(theta_samp)\n",
    "\n",
    "    if prop is not None:\n",
    "        print(prop)\n",
    "        print(theta_samp)\n",
    "        break\n"
   ]
  },
  {
   "cell_type": "code",
   "execution_count": 35,
   "metadata": {},
   "outputs": [
    {
     "ename": "NameError",
     "evalue": "name 'A' is not defined",
     "output_type": "error",
     "traceback": [
      "\u001b[1;31m---------------------------------------------------------------------------\u001b[0m",
      "\u001b[1;31mNameError\u001b[0m                                 Traceback (most recent call last)",
      "Cell \u001b[1;32mIn[35], line 1\u001b[0m\n\u001b[1;32m----> 1\u001b[0m A_poly \u001b[39m=\u001b[39m numpy\u001b[39m.\u001b[39mblock([[A, \u001b[39m-\u001b[39mF], [numpy\u001b[39m.\u001b[39mzeros((\u001b[39m6\u001b[39m, \u001b[39m16\u001b[39m)), CRa]])\n\u001b[0;32m      2\u001b[0m b_poly \u001b[39m=\u001b[39m numpy\u001b[39m.\u001b[39mblock([[b], [CRb]])\n",
      "\u001b[1;31mNameError\u001b[0m: name 'A' is not defined"
     ]
    }
   ],
   "source": [
    "\n",
    "A_poly = numpy.block([[A, -F], [numpy.zeros((6, 16)), CRa]])\n",
    "b_poly = numpy.block([[b], [CRb]])\n"
   ]
  },
  {
   "cell_type": "code",
   "execution_count": null,
   "metadata": {},
   "outputs": [],
   "source": [
    "from itertools import product\n",
    "from pyomo.environ import Set, Constraint, NonNegativeReals, ConcreteModel, Var\n",
    "from energiapy.utils.latex_utils import constraint_latex_render\n",
    "import sys\n",
    "sys.path.append('../src')\n",
    "instance = ConcreteModel()\n",
    "instance.transport = Set(initialize=list(range(4)))\n",
    "instance.location = Set(initialize=list(range(4)))\n",
    "instance.network = Set(initialize=list(range(4)))\n",
    "instance.price = Var(instance.transport, within=NonNegativeReals)\n",
    "instance.cons_max = Var(instance.transport, instance.location,\n",
    "                        instance.network, within=NonNegativeReals)\n",
    "\n",
    "\n",
    "def rule(instance, transport):\n",
    "    return instance.price[transport] == sum(instance.cons_max[transport, location, network] for location, network in product(instance.location, instance.network))\n",
    "\n",
    "\n",
    "instance.networkons = Constraint(instance.transport, rule=rule)\n"
   ]
  },
  {
   "cell_type": "code",
   "execution_count": null,
   "metadata": {},
   "outputs": [],
   "source": [
    "constraint_latex_render(rule)\n"
   ]
  },
  {
   "cell_type": "code",
   "execution_count": null,
   "metadata": {},
   "outputs": [],
   "source": []
  },
  {
   "cell_type": "code",
   "execution_count": null,
   "metadata": {},
   "outputs": [],
   "source": [
    "def rule()\n"
   ]
  }
 ],
 "metadata": {
  "kernelspec": {
   "display_name": "Python 3.10.5 ('ki': venv)",
   "language": "python",
   "name": "python3"
  },
  "language_info": {
   "codemirror_mode": {
    "name": "ipython",
    "version": 3
   },
   "file_extension": ".py",
   "mimetype": "text/x-python",
   "name": "python",
   "nbconvert_exporter": "python",
   "pygments_lexer": "ipython3",
   "version": "3.10.5"
  },
  "orig_nbformat": 4,
  "vscode": {
   "interpreter": {
    "hash": "a4a97498e3c1bfef05f70a75d4fcafcb7b5c9c4ed86429a4e7bee46eaa890f24"
   }
  }
 },
 "nbformat": 4,
 "nbformat_minor": 2
}
