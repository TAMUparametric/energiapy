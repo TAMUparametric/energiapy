{
 "cells": [
  {
   "cell_type": "markdown",
   "metadata": {},
   "source": [
    "# Dynamic Time Warping (DTW)"
   ]
  },
  {
   "cell_type": "markdown",
   "metadata": {},
   "source": [
    "__author__ = \"Rahul Kakodkar\"\n",
    "__copyright__ = \"Copyright 2023, Multi-parametric Optimization & Control Lab\"\n",
    "__credits__ = [\"Rahul Kakodkar\", \"Efstratios N. Pistikopoulos\"]\n",
    "__license__ = \"Open\"\n",
    "__version__ = \"1.0.0\"\n",
    "__maintainer__ = \"Rahul Kakodkar\"\n",
    "__email__ = \"cacodcar@tamu.edu\"\n",
    "__status__ = \"Production\"\n"
   ]
  },
  {
   "cell_type": "markdown",
   "metadata": {},
   "source": [
    "\n",
    "\n",
    "In the following example, we use deterministic data sets with different temporal resolutions as parameters for a mixed integer linear programming formulation (MILP) for integrated network design and scheduling of an energy system.\n",
    "\n",
    "Agglomerative hierarchial clustering is used to cluster the time series data at different resolutions (hourly, daily) separately. The optimal set of representative days are different as expected. \n",
    "\n",
    "Cluster 1, has hourly data such as mileage target (demand factors), intermittent renewable resource availabilty (capacity factors)\n",
    "\n",
    "Dynamic time warping (DTW) is then used to reconcile the data and create a surrogate temporal horizon which is a combination of both optimal set of clusters. The model is then solved over the surrogate temporal horizon and results are compared to the full scale formulation. \n",
    "\n",
    "The entire example is implemented on the energiapy python package, which uses the resource task network (RTN)approach. The figure below describes the problem in consideration.\n",
    "\n",
    "energiapy's capabilities, as demonstrated in this example, include:\n",
    "\n",
    "- Component based declaration of resources, materials, processes, locations, networks, transportation modes, and scenarios with all the requisite information conviniently embedded. \n",
    "- Multiscale models can be formulated to capture dynamics at disparate temporal resolutions. \n",
    "- Tools for data analysis and collection (through NSRDB API)\n",
    "- Modules to reduce the scenarios using different clustering methodologies\n",
    "- Plotting of data and results\n",
    "- Post analysis of results, model summaries, computational time studies\n",
    "- The ability to test out a large set of scenarios seamlessly \n",
    "- Problems are formulated bespoke and can be passed on to solver of choice \n",
    "- Variety of functions for mathematical analysis. (scaling, distance calculation, matrix generation)\n",
    "\n",
    "capabilities not demonstrated in this example include:\n",
    "- piecewise linear estimation of data\n",
    "- graph reformulation\n",
    "- post-reformulation of problem to assuage the impact of uncertainty by accessing the integer results\n",
    "\n",
    "modules currently in development include:\n",
    "- life cycle analysis \n",
    "- resiliency analysis\n",
    "- carbon accounting\n",
    "\n"
   ]
  },
  {
   "cell_type": "markdown",
   "metadata": {},
   "source": [
    "$\\textbf{Import modules}$"
   ]
  },
  {
   "cell_type": "code",
   "execution_count": 1,
   "metadata": {},
   "outputs": [],
   "source": [
    "import sys\n",
    "sys.path.append('../../src')"
   ]
  },
  {
   "cell_type": "code",
   "execution_count": 2,
   "metadata": {},
   "outputs": [],
   "source": [
    "\n",
    "import pandas \n",
    "import numpy\n",
    "from energiapy.components.temporal_scale import TemporalScale\n",
    "from energiapy.components.resource import Resource, VaryingResource\n",
    "from energiapy.components.process import Process, VaryingProcess\n",
    "from energiapy.components.material import Material\n",
    "from energiapy.components.location import Location\n",
    "from energiapy.components.network import Network\n",
    "from energiapy.components.scenario import Scenario\n",
    "from energiapy.components.transport import Transport\n",
    "from energiapy.components.result import Result \n",
    "from energiapy.utils.data_utils import get_data, make_henry_price_df, remove_outliers, load_results\n",
    "from energiapy.model.formulate import formulate, Constraints, Objective\n",
    "from energiapy.utils.nsrdb_utils import fetch_nsrdb_data\n",
    "from energiapy.model.solve import solve\n",
    "from energiapy.aggregation.reduce_scenario import reduce_scenario, Clustermethod\n",
    "from energiapy.aggregation.ahc import agg_hierarchial_elbow, IncludeAHC, Fit\n",
    "from energiapy.aggregation.dtw import dynamic_warping, dynamic_warping_matrix, dynamic_warping_path, IncludeDTW\n",
    "from energiapy.utils.data_utils import load_results\n",
    "from energiapy.plot import plot_results, plot_scenario\n",
    "from energiapy.plot.plot_results import CostY, CostX\n",
    "import matplotlib.pyplot as plt\n",
    "from matplotlib import rc\n",
    "from itertools import product\n",
    "from pyearth import Earth\n",
    "import pyomo.environ as pyo\n",
    "import seaborn as sns\n"
   ]
  },
  {
   "cell_type": "code",
   "execution_count": 3,
   "metadata": {},
   "outputs": [],
   "source": [
    "idx = [(i,j,k) for i,j,k in product(range(1), range(365), range(24))]"
   ]
  },
  {
   "cell_type": "code",
   "execution_count": 4,
   "metadata": {},
   "outputs": [],
   "source": [
    "def mars_elbow(wcss:list, range_list:list):\n",
    "    X = [numpy.array([i]) for i in range(len(wcss))]\n",
    "    mars = Earth()\n",
    "    mars.fit(X, wcss)\n",
    "    y_hat = mars.predict(X)\n",
    "    y_line = y_hat ## for plotting\n",
    "    #determine the elbow point\n",
    "    m = numpy.diff(y_line)/numpy.diff(range(len(wcss)))\n",
    "    m = [numpy.round(i, 2) for i in m]\n",
    "    m_un = list(set(m))\n",
    "    elbow = max([m.index(i) + range_list[0] for i in sorted(m_un)])\n",
    "    \n",
    "    fig, ax = plt.subplots(figsize=(8, 6))\n",
    "    x = range_list\n",
    "\n",
    "    ax.plot(x, y_line, label = 'MARS fit', color = 'steelblue', alpha = 0.6)\n",
    "\n",
    "    ax.scatter(x, wcss, color = 'indianred')\n",
    "    plt.axvline(x = elbow, alpha = 0.6, linestyle = 'dotted', label = f\"elbow at {elbow}\", color = 'slategrey', zorder = 3)    \n",
    "\n",
    "    plt.title(f'Clustering using AHC for Houston for cost and demand')\n",
    "    plt.xlabel('Cluster Size')\n",
    "    plt.ylabel('WCSS')\n",
    "    plt.grid(alpha=0.3)\n",
    "    plt.legend()\n",
    "    \n",
    "    return elbow \n"
   ]
  },
  {
   "cell_type": "markdown",
   "metadata": {},
   "source": [
    "## Data Import"
   ]
  },
  {
   "cell_type": "markdown",
   "metadata": {},
   "source": [
    "The following data is needed for the model\n",
    "\n",
    "- solar and wind profiles : energiapy.fetch_nsrdb_data imports data from the NREL NSRDB database\n",
    "- power demand : ERCOT for Houston; CAISO for San Diego\n",
    "- Natural Gas prices: Henry Hub Price Index for both\n"
   ]
  },
  {
   "cell_type": "markdown",
   "metadata": {},
   "source": [
    "**Get Weather data**"
   ]
  },
  {
   "cell_type": "code",
   "execution_count": 5,
   "metadata": {},
   "outputs": [],
   "source": [
    "def load_data(loc:str, index:list):\n",
    "    df = pandas.read_csv(f'../data/{loc}_solar19.csv')\n",
    "    # df = df[['DNI', 'Wind Speed']]\n",
    "    # df = df.rename(columns= {'DNI': 'dni', 'Wind Speed': 'wind_speed'})\n",
    "    df['idx'] = index\n",
    "    df = df.set_index('idx')\n",
    "    return df"
   ]
  },
  {
   "cell_type": "code",
   "execution_count": 6,
   "metadata": {},
   "outputs": [],
   "source": [
    "weather_ny = load_data('ny', idx)[['DNI', 'Wind Speed']]\n",
    "weather_ny = weather_ny.rename(columns= {'DNI': 'dni', 'Wind Speed': 'wind_speed'})\n",
    "weather_sd = load_data('sd', idx)[['dni', 'wind_speed']]\n",
    "weather_ho = load_data('ho', idx)[['dni', 'wind_speed']]\n"
   ]
  },
  {
   "cell_type": "markdown",
   "metadata": {},
   "source": [
    "**Demand data for San Diego (CAISO for SDGE region) and Houston (ERCOT for COAST region)**"
   ]
  },
  {
   "cell_type": "code",
   "execution_count": 8,
   "metadata": {},
   "outputs": [],
   "source": [
    "demand_sd = pandas.read_excel('../data/HistoricalEMSHourlyLoad-2019.xlsx', index_col= 0)[['SDGE']]\n",
    "demand_ho = pandas.read_excel('../data/Native_Load_2019.xlsx')[['COAST']]\n",
    "demand_ny = pandas.DataFrame(pandas.read_csv('../data/NYC_load.csv')['Load']) #from Will and Doga\n",
    "# Fix Index\n",
    "demand_sd = demand_sd.set_index(weather_ho.index)\n",
    "demand_ho = demand_ho.set_index(weather_ho.index)\n",
    "demand_ny = demand_ny.set_index(weather_ho.index)\n",
    "\n"
   ]
  },
  {
   "cell_type": "markdown",
   "metadata": {},
   "source": [
    "**Natural gas prices from Henry Hub Price Index**  \n",
    "\n",
    "We use the special function energiapy.make_henry_price_df because of special requirements such as filling in empty data points (weekends, public holidays). Such function will be generalized in the next update of energipy"
   ]
  },
  {
   "cell_type": "code",
   "execution_count": 9,
   "metadata": {},
   "outputs": [],
   "source": [
    "ng_price = make_henry_price_df(\n",
    "    file_name='../data/Henry_Hub_Natural_Gas_Spot_Price_Daily.csv', year=2019, stretch=True)\n",
    "# ng_price = ng_price.set_index(weather_sd.index[::24])\n",
    "ng_price = ng_price.drop(columns= 'scales')\n",
    "ng_price = remove_outliers(ng_price, sd_cuttoff = 3)\n",
    "ng_price = ng_price.set_index(weather_ho.index)"
   ]
  },
  {
   "cell_type": "markdown",
   "metadata": {},
   "source": [
    "## Define temporal scale\n"
   ]
  },
  {
   "cell_type": "markdown",
   "metadata": {},
   "source": [
    "The variabilities of energy systems are best captured over a discretized spatio-temporal scale. In energiapy, the first declaration is the temporal scale. \n",
    "\n",
    "For e.g.: Here we declare three temporal scales at different levels from right to left. The interpretation of these scales is merely symentic. Scales can be declared as the problem demands.\n",
    "- 0, annual, with 1 discretization\n",
    "- 1, daily with 365 discretization\n",
    "- 2, hourly with 24 discretization\n",
    "\n",
    "In essence, we are creating a temporal scale of 8760 points."
   ]
  },
  {
   "cell_type": "code",
   "execution_count": 11,
   "metadata": {},
   "outputs": [],
   "source": [
    "scales = TemporalScale(discretization_list=[1, 365, 24])"
   ]
  },
  {
   "cell_type": "markdown",
   "metadata": {},
   "source": [
    "## Declare resources"
   ]
  },
  {
   "cell_type": "markdown",
   "metadata": {},
   "source": [
    "Resources can be consumed, produced, stored, discharged (or sold). "
   ]
  },
  {
   "cell_type": "code",
   "execution_count": 12,
   "metadata": {},
   "outputs": [],
   "source": [
    "Solar = Resource(name='Solar', cons_max=100, basis='MW', label='Solar Power')\n",
    "\n",
    "Wind = Resource(name='Wind', cons_max= 100, basis='MW', label='Wind Power')\n",
    "\n",
    "Power = Resource(name='Power', basis='MW', demand = True, label='Power generated', varying = [VaryingResource.DETERMINISTIC_DEMAND])\n",
    "\n",
    "H2 = Resource(name='H2', basis='kg', label='Hydrogen', block='Resource')\n",
    "\n",
    "H2_L = Resource(name='H2', basis='kg', label='Hydrogen', block='Resource', store_max = 10000)\n",
    "\n",
    "CO2_AQoff = Resource(name='CO2_AQoff', basis='kg', label='Carbon dioxide - sequestered', store_max = 10000)\n",
    "\n",
    "H2O = Resource(name='H2O', cons_max=10**10,\n",
    "               price= 0.001, basis='kg', label='Water', block='Resource')\n",
    "\n",
    "CH4 = Resource(name='CH4', cons_max=10**10, price=1, basis='kg', label='Natural gas', varying=  [VaryingResource.DETERMINISTIC_PRICE])\n",
    "\n",
    "CO2 = Resource(name='CO2', basis='kg', label='Carbon dioxide', block='Resource')\n",
    "\n",
    "CO2_Vent = Resource(name='CO2_Vent', sell=True, basis='kg', label='Carbon dioxide - Vented')\n",
    "\n",
    "O2 = Resource(name='O2', sell=True, basis='kg', label='Oxygen')\n",
    "\n",
    "CO2_DAC = Resource(name='CO2_DAC', basis='kg', label='Carbon dioxide - captured')\n"
   ]
  },
  {
   "cell_type": "markdown",
   "metadata": {},
   "source": [
    "$\\textbf{Declare processes}$"
   ]
  },
  {
   "cell_type": "code",
   "execution_count": 13,
   "metadata": {},
   "outputs": [],
   "source": [
    "LiI = Process(name='LiI', storage= Power, capex = 1302182, fopex= 41432, vopex = 2000,  prod_max=100, label='Lithium-ion battery', basis = 'MW')\n",
    "\n",
    "WF = Process(name='WF', conversion={Wind: -1, Power: 1},capex=990637, fopex=3354, vopex=4953, prod_max=100, label='Wind mill array', varying= [VaryingProcess.DETERMINISTIC_CAPACITY], basis = 'MW')\n",
    "\n",
    "PV = Process(name='PV', conversion={Solar: -1, Power: 1}, capex=567000, fopex=872046, vopex=90000, prod_max=100, varying = [VaryingProcess.DETERMINISTIC_CAPACITY], label = 'Solar PV', basis = 'MW')\n",
    "\n",
    "SMRH = Process(name='SMRH', conversion={Power: -1.11*10**(-3), CH4: -3.76, H2O: -23.7, H2: 1, CO2_Vent: 1.03, CO2: 9.332}, capex =2520, fopex = 945, vopex = 0.0515,\\\n",
    "    prod_max= 10000, label='Steam methane reforming + CCUS')\n",
    "\n",
    "SMR = Process(name='SMR', capex = 2400, fopex = 800, vopex = 0.03,  conversion={Power: -1.11*10**(-3), CH4: -3.76, H2O: -23.7, H2: 1, CO2_Vent: 9.4979}, prod_max=10000, label='Steam methane reforming')\n",
    "\n",
    "H2FC = Process(name='H2FC', conversion = {H2:-50, Power: 1}, capex =  1.6*10**6, vopex = 3.5, fopex = 0, prod_max = 100, label = 'hydrogen fuel cell')\n",
    "\n",
    "DAC = Process(name='DAC', capex = 0.02536, fopex = 0.634, vopex = 0, conversion={Power: -1.93*10**(-4), H2O: -4.048, CO2_DAC: 1}, prod_max=10000, label='Direct air capture')\n",
    "\n",
    "\n",
    "H2_L_c = Process(name='H2_L_c', conversion={Power: -4.17*10**(-4), H2_L: 1, H2: -1}, capex =  1.6*10**6, vopex = 3.5, fopex = 0, prod_max= 10000, label='Hydrogen geological storage')\n",
    "\n",
    "H2_L_d = Process(name='H2_L_d', conversion={H2_L: -1, H2: 1}, capex =  0.01, vopex = 0.001, fopex = 0, prod_max= 10000, label='Hydrogen geological storage discharge')\n",
    "\n",
    "AQoff_SMR = Process(name='AQoff_SMR', conversion={Power: -0.00128, CO2_AQoff: 1, CO2: -1}, capex =  0.00552, vopex = 0.00414, fopex = 0, prod_max= 10000,  label='Offshore aquifer CO2 sequestration (SMR)')"
   ]
  },
  {
   "cell_type": "markdown",
   "metadata": {},
   "source": [
    "Processes convert a resource into another through the utilization of resources. \n",
    "Essentially, the model is developed as an RTN"
   ]
  },
  {
   "cell_type": "code",
   "execution_count": 16,
   "metadata": {},
   "outputs": [],
   "source": [
    "houston = Location(name='HO', processes= {LiI, PV, WF, SMRH, H2FC, DAC, AQoff_SMR}, capacity_factor = {PV: weather_ho[['dni']], WF: weather_ho[['wind_speed']]},\\\n",
    "    demand_factor= {Power: demand_ho}, price_factor = {CH4: ng_price}, scales=scales, label='Houston', demand_scale_level=2, capacity_scale_level= 2, price_scale_level= 2)\n",
    "\n",
    "sandiego = Location(name='SD', processes= {LiI, PV, WF, SMRH, H2FC, DAC, AQoff_SMR}, capacity_factor = {PV: weather_sd[['dni']], WF: weather_sd[['wind_speed']]},\\\n",
    "    demand_factor= {Power: demand_sd}, price_factor = {CH4: ng_price}, scales=scales, label='SanDiego', demand_scale_level=2, capacity_scale_level= 2, price_scale_level= 2)\n",
    "\n",
    "newyork = Location(name='NY', processes= {LiI, PV, WF, SMRH,  H2FC, DAC, AQoff_SMR}, capacity_factor = {PV: weather_ny[['dni']], WF: weather_ny[['wind_speed']]},\\\n",
    "    demand_factor= {Power: demand_ny}, price_factor = {CH4: ng_price}, scales=scales, label='NewYork', demand_scale_level=2, capacity_scale_level= 2, price_scale_level= 2)\n",
    "\n",
    "Train_H2 = Transport(name= 'Train_H2', resources= {H2}, trans_max= 10000, trans_loss= 0.03, trans_cost= 1.667*10**(-3)\\\n",
    "    , label= 'Railway for hydrogen transportation')\n",
    "Grid = Transport(name= 'Grid', resources= {Power}, trans_max= 300, trans_loss= 0.001, trans_cost= 0.5*10**(-3), label= 'Railroad transport')\n",
    "\n",
    "distance_matrix = [\n",
    "    [0, 2366, 2620],\n",
    "    [2366, 0, 4440],\n",
    "    [2620, 4440, 0]\n",
    "                   ]\n",
    "\n",
    "transport_matrix = [\n",
    "    [[], [Grid, Train_H2], [Grid, Train_H2]],\n",
    "    [[Grid, Train_H2], [], [Grid, Train_H2]],\n",
    "    [[Grid, Train_H2], [Grid, Train_H2], []] \n",
    "                   ]\n",
    "\n",
    "network = Network(name= 'Network', source_locations= [houston, sandiego, newyork], sink_locations= [houston, sandiego, newyork], distance_matrix= distance_matrix, transport_matrix= transport_matrix) \n",
    "\n",
    "\n",
    "scenario = Scenario(name= 'scenario_full', network= network, scales= scales,  expenditure_scale_level= 2, scheduling_scale_level= 2, \\\n",
    "    network_scale_level= 0, demand_scale_level= 2, label= 'full_case')\n"
   ]
  },
  {
   "cell_type": "markdown",
   "metadata": {},
   "source": [
    "**Generate Indivual Scenarios and Determine WCSS**"
   ]
  },
  {
   "cell_type": "code",
   "execution_count": 17,
   "metadata": {},
   "outputs": [],
   "source": [
    "range_list = list(range(30,150))"
   ]
  },
  {
   "cell_type": "code",
   "execution_count": 19,
   "metadata": {},
   "outputs": [],
   "source": [
    "scenario_ho = Scenario(name= 'scenario_ho', network= houston, scales= scales,  expenditure_scale_level= 2, scheduling_scale_level= 2, \\\n",
    "    network_scale_level= 0, demand_scale_level= 2, label= 'max_demand_ho')\n",
    "\n",
    "# wcss_ho = agg_hierarchial_elbow(scenario= scenario_ho, scale_level=1, include= [IncludeAHC.capacity, IncludeAHC.cost, IncludeAHC.demand], range_list = range_list)\n",
    "\n",
    "# elbow_ho = mars_elbow(wcss_ho, range_list)\n",
    "# elbow_ho = 117\n",
    "elbow_ho = 30\n",
    "\n",
    "scenario_ho_red, repdays_ho, info_ho =  reduce_scenario(scenario=scenario_ho, periods=elbow_ho, scale_level=1, method=Clustermethod.AHC, include = [IncludeAHC.CAPACITY, IncludeAHC.PRICE, IncludeAHC.DEMAND])\n"
   ]
  },
  {
   "cell_type": "code",
   "execution_count": 20,
   "metadata": {},
   "outputs": [],
   "source": [
    "\n",
    "scenario_sd = Scenario(name= 'scenario_sd', network= sandiego, scales= scales,  expenditure_scale_level= 2, scheduling_scale_level= 2, \\\n",
    "    network_scale_level= 0, demand_scale_level= 2, label= 'max_demand_sd')\n",
    "\n",
    "# wcss_sd = agg_hierarchial_elbow(scenario= scenario_sd, scale_level=1, include= [IncludeAHC.capacity, IncludeAHC.cost, IncludeAHC.demand], range_list = range_list)\n",
    "#\n",
    "# elbow_sd = mars_elbow(wcss_sd, range_list)\n",
    "# elbow_sd = 117\n",
    "elbow_sd = 40\n",
    "\n",
    "scenario_sd_red, repdays_sd, info_sd =  reduce_scenario(scenario=scenario_sd, periods=elbow_sd, scale_level=1, method=Clustermethod.AHC, include = [IncludeAHC.CAPACITY, IncludeAHC.PRICE, IncludeAHC.DEMAND])\n",
    "\n"
   ]
  },
  {
   "cell_type": "code",
   "execution_count": 21,
   "metadata": {},
   "outputs": [],
   "source": [
    "\n",
    "scenario_ny = Scenario(name= 'scenario_ny', network= newyork, scales= scales,  expenditure_scale_level= 2, scheduling_scale_level= 2, \\\n",
    "    network_scale_level= 0, demand_scale_level= 2, label= 'max_demand_ny')\n",
    "\n",
    "# wcss_ny = agg_hierarchial_elbow(scenario= scenario_ny, scale_level=1, include= [IncludeAHC.capacity, IncludeAHC.cost, IncludeAHC.demand], range_list = range_list)\n",
    "\n",
    "# elbow_ny = mars_elbow(wcss_ny, range_list)\n",
    "# elbow_ny = 102\n",
    "elbow_ny = 50\n",
    "\n",
    "\n",
    "scenario_ny_red, repdays_ny, info_ny =  reduce_scenario(scenario=scenario_ny, periods=elbow_ny, scale_level=1, method=Clustermethod.AHC, include = [IncludeAHC.CAPACITY, IncludeAHC.PRICE, IncludeAHC.DEMAND])\n",
    "\n"
   ]
  },
  {
   "cell_type": "markdown",
   "metadata": {},
   "source": [
    "**Time series for location-wise demand, capacity, and cost factors**"
   ]
  },
  {
   "cell_type": "code",
   "execution_count": 23,
   "metadata": {},
   "outputs": [],
   "source": [
    "ho_pv = list(scenario_ho_red.capacity_factor['HO']['PV'].values())\n",
    "ho_wf = list(scenario_ho_red.capacity_factor['HO']['WF'].values())\n",
    "ho_dem = list(scenario_ho_red.demand_factor['HO']['Power'].values())\n",
    "ho_ng = list(scenario_ho_red.price_factor['HO']['CH4'].values())\n",
    "\n",
    "sd_pv = list(scenario_sd_red.capacity_factor['SD']['PV'].values())\n",
    "sd_wf = list(scenario_sd_red.capacity_factor['SD']['WF'].values())\n",
    "sd_dem = list(scenario_sd_red.demand_factor['SD']['Power'].values())\n",
    "sd_ng = list(scenario_sd_red.price_factor['SD']['CH4'].values())\n",
    "\n",
    "ny_pv = list(scenario_ny_red.capacity_factor['NY']['PV'].values())\n",
    "ny_wf = list(scenario_ny_red.capacity_factor['NY']['WF'].values())\n",
    "ny_dem = list(scenario_ny_red.demand_factor['NY']['Power'].values())\n",
    "ny_ng = list(scenario_ny_red.price_factor['NY']['CH4'].values())\n"
   ]
  },
  {
   "cell_type": "code",
   "execution_count": 24,
   "metadata": {},
   "outputs": [],
   "source": [
    "matrix = dynamic_warping_matrix(ny_ng, ho_ng)"
   ]
  },
  {
   "cell_type": "code",
   "execution_count": 25,
   "metadata": {},
   "outputs": [],
   "source": [
    "path = dynamic_warping_path(matrix)"
   ]
  },
  {
   "cell_type": "code",
   "execution_count": 32,
   "metadata": {},
   "outputs": [
    {
     "name": "stderr",
     "output_type": "stream",
     "text": [
      "C:\\Users\\cacodcar\\AppData\\Local\\Temp\\ipykernel_668\\3283229576.py:14: UserWarning: Matplotlib is currently using module://matplotlib_inline.backend_inline, which is a non-GUI backend, so cannot show the figure.\n",
      "  fig.show()\n"
     ]
    },
    {
     "data": {
      "image/png": "[encoded data removed]",
      "text/plain": [
       "<Figure size 600x600 with 1 Axes>"
      ]
     },
     "metadata": {},
     "output_type": "display_data"
    }
   ],
   "source": [
    "def dtwmap(matrix: numpy.ndarray, path: list, font_size: int = 16, usetex: bool = False):\n",
    "    \n",
    "    #get x and y co-ordinates\n",
    "    x = [i[0] for i in path] \n",
    "    y = [i[1] for i in path]\n",
    "    rc('font', **{'family': 'serif', 'serif': ['Computer Modern'], 'size': font_size})\n",
    "    rc('text', usetex=usetex)\n",
    "    fig, ax = plt.subplots(figsize=(6, 6))\n",
    "\n",
    "    \n",
    "    ax.plot(y,x, color = 'red')\n",
    "    plt.imshow(matrix, cmap='viridis', origin = 'lower', interpolation = 'nearest')    \n",
    "    # plt.colorbar()\n",
    "    fig.show()\n",
    "    plt.rcdefaults()\n",
    "\n",
    "dtwmap(matrix, path)"
   ]
  },
  {
   "cell_type": "code",
   "execution_count": null,
   "metadata": {},
   "outputs": [],
   "source": []
  }
 ],
 "metadata": {
  "kernelspec": {
   "display_name": "Python 3.10.5 ('ki': venv)",
   "language": "python",
   "name": "python3"
  },
  "language_info": {
   "codemirror_mode": {
    "name": "ipython",
    "version": 3
   },
   "file_extension": ".py",
   "mimetype": "text/x-python",
   "name": "python",
   "nbconvert_exporter": "python",
   "pygments_lexer": "ipython3",
   "version": "3.10.5"
  },
  "orig_nbformat": 4,
  "vscode": {
   "interpreter": {
    "hash": "a4a97498e3c1bfef05f70a75d4fcafcb7b5c9c4ed86429a4e7bee46eaa890f24"
   }
  }
 },
 "nbformat": 4,
 "nbformat_minor": 2
}
