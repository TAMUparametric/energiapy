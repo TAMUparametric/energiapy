{
 "cells": [
  {
   "cell_type": "code",
   "execution_count": 1,
   "metadata": {},
   "outputs": [],
   "source": [
    "import sys\n",
    "sys.path.append('../../src')"
   ]
  },
  {
   "cell_type": "code",
   "execution_count": 2,
   "metadata": {},
   "outputs": [],
   "source": [
    "\n",
    "from energiapy.components.result import Result\n",
    "import pandas\n",
    "import pyomo.environ as pyo\n",
    "from pyearth import Earth\n",
    "from itertools import product\n",
    "from matplotlib import rc\n",
    "import matplotlib.pyplot as plt\n",
    "from energiapy.utils.data_utils import load_results\n",
    "from energiapy.aggregation.dtw import dynamic_warping, dynamic_warping_matrix, dynamic_warping_path, IncludeDTW\n",
    "from energiapy.aggregation.ahc import agg_hierarchial_elbow, IncludeAHC, Fit\n",
    "from energiapy.aggregation.reduce_scenario import reduce_scenario, Clustermethod\n",
    "from energiapy.model.solve import solve\n",
    "from energiapy.plot.plot_results import CostY, CostX\n",
    "from energiapy.plot import plot_results, plot_scenario\n",
    "from energiapy.utils.nsrdb_utils import fetch_nsrdb_data\n",
    "from energiapy.model.formulate import formulate, Constraints, Objective\n",
    "from energiapy.model.bounds import CapacityBounds\n",
    "from energiapy.utils.data_utils import get_data, make_henry_price_df, remove_outliers, load_results\n",
    "from energiapy.components.transport import Transport\n",
    "from energiapy.components.scenario import Scenario\n",
    "from energiapy.components.network import Network\n",
    "from energiapy.components.location import Location\n",
    "from energiapy.components.material import Material\n",
    "from energiapy.components.process import Process, VaryingProcess\n",
    "from energiapy.components.resource import Resource, VaryingResource\n",
    "from energiapy.components.temporal_scale import TemporalScale\n",
    "from energiapy.model.constraints.resource_balance import constraint_specific_network_discharge\n",
    "from energiapy.model.constraints.integer_cuts import constraint_block_integer_cut_min, constraint_block_integer_cut_max\n",
    "import numpy\n",
    "from energiapy.conversion.photovoltaic import solar_power_output\n",
    "from energiapy.conversion.windmill import wind_power_output"
   ]
  },
  {
   "cell_type": "code",
   "execution_count": 8,
   "metadata": {},
   "outputs": [],
   "source": [
    "results_dict = {i: load_results(filename=f\"results_slsp_cost0{i}.pkl\") for i in range(8)}"
   ]
  },
  {
   "cell_type": "code",
   "execution_count": 11,
   "metadata": {},
   "outputs": [
    {
     "data": {
      "text/plain": [
       "({('HO', 'AWE', 0): 0.0,\n",
       "  ('HO', 'AqOff', 0): 78815.2934741717,\n",
       "  ('HO', 'DAC', 0): 0.0,\n",
       "  ('HO', 'H2_L_c', 0): 848029640.0781388,\n",
       "  ('HO', 'H2_L_d', 0): 8.513251055816495,\n",
       "  ('HO', 'LiI', 0): 0.0,\n",
       "  ('HO', 'NGCC', 0): 0.0,\n",
       "  ('HO', 'PSH', 0): 0.0,\n",
       "  ('HO', 'PV', 0): 10345781329.696571,\n",
       "  ('HO', 'SMR', 0): 1507002.5037398376,\n",
       "  ('HO', 'SMRH', 0): 3855646683.1230683,\n",
       "  ('HO', 'WF', 0): 55971586424.34154},\n",
       " {('HO', 'AWE', 0): 0.0,\n",
       "  ('HO', 'AqOff', 0): 585.6687546017968,\n",
       "  ('HO', 'DAC', 0): 0.0,\n",
       "  ('HO', 'H2_L_c', 0): 659539502.9974966,\n",
       "  ('HO', 'H2_L_d', 0): 8.818909552816411,\n",
       "  ('HO', 'LiI', 0): 0.0,\n",
       "  ('HO', 'NGCC', 0): 811841189.0548944,\n",
       "  ('HO', 'PSH', 0): 0.0,\n",
       "  ('HO', 'PV', 0): 1041654707.2294822,\n",
       "  ('HO', 'SMR', 0): 3389309.254496245,\n",
       "  ('HO', 'SMRH', 0): 0.0,\n",
       "  ('HO', 'WF', 0): 8561247491.0931835})"
      ]
     },
     "execution_count": 11,
     "metadata": {},
     "output_type": "execute_result"
    }
   ],
   "source": [
    "results_dict[7].output['Capex_process'], results_dict[0].output['Capex_process']"
   ]
  },
  {
   "cell_type": "code",
   "execution_count": null,
   "metadata": {},
   "outputs": [],
   "source": []
  }
 ],
 "metadata": {
  "kernelspec": {
   "display_name": "ki",
   "language": "python",
   "name": "python3"
  },
  "language_info": {
   "codemirror_mode": {
    "name": "ipython",
    "version": 3
   },
   "file_extension": ".py",
   "mimetype": "text/x-python",
   "name": "python",
   "nbconvert_exporter": "python",
   "pygments_lexer": "ipython3",
   "version": "3.10.5"
  },
  "orig_nbformat": 4
 },
 "nbformat": 4,
 "nbformat_minor": 2
}
