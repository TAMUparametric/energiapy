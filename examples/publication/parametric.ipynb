{
 "cells": [
  {
   "cell_type": "markdown",
   "metadata": {},
   "source": [
    "# mpLP reformulation of an energy systems MILP"
   ]
  },
  {
   "cell_type": "markdown",
   "metadata": {},
   "source": [
    "__author__ = \"Rahul Kakodkar\"\n",
    "__copyright__ = \"Copyright 2023, Multi-parametric Optimization & Control Lab\"\n",
    "__credits__ = [\"Rahul Kakodkar\", \"Dustin Kenefake\", \"Efstratios N. Pistikopoulos\"]\n",
    "__license__ = \"Open\"\n",
    "__version__ = \"1.0.0\"\n",
    "__maintainer__ = \"Rahul Kakodkar\"\n",
    "__email__ = \"cacodcar@tamu.edu\"\n",
    "__status__ = \"Production\"\n"
   ]
  },
  {
   "attachments": {},
   "cell_type": "markdown",
   "metadata": {},
   "source": [
    "## Problem Statement"
   ]
  },
  {
   "attachments": {},
   "cell_type": "markdown",
   "metadata": {},
   "source": [
    "In the following example a multi-scale energy systems mixed integer linear program (MILP) is reformulated as a mulitparametric linear program (mpLP)"
   ]
  },
  {
   "cell_type": "markdown",
   "metadata": {},
   "source": [
    "## Nomenclature"
   ]
  },
  {
   "cell_type": "markdown",
   "metadata": {},
   "source": [
    "*Sets*\n",
    "\n",
    "\n",
    "$\\mathcal{R}$ - set of all resources r\n",
    "\n",
    "$\\mathcal{P}$ - set of all processes p\n",
    "\n",
    "$\\mathcal{T}$ - set of temporal periods t\n",
    "\n",
    "\n",
    "*Subsets*\n",
    "\n",
    "\n",
    "$\\mathcal{R}^{storage}$ - set of resources that can be stored\n",
    "\n",
    "$\\mathcal{R}^{sell}$ - set of resources that can be discharged\n",
    "\n",
    "$\\mathcal{R}^{demand}$ - set of resources that meet  demand\n",
    "\n",
    "$\\mathcal{R}^{cons}$ - set of resources that can be consumed\n",
    "\n",
    "$\\mathcal{P}^{uncertain-cap}$ - set of processes with uncertain capacity\n",
    "\n",
    "$\\mathcal{P}^{uncertain-capex}$ - set of processes with uncertain capital expenditure\n",
    "\n",
    "$\\mathcal{T}^{net}$ - set of temporal periods t for network level decision making\n",
    "\n",
    "$\\mathcal{T}^{sch}$ - set of temporal periods t for schedule level decision making\n",
    "\n",
    "\n",
    "*Continuous Variables*\n",
    "\n",
    "\n",
    "$P_{p,t}$ - production level of p $\\in$  $\\mathcal{P}$ in time period t $\\in$ $\\mathcal{T}^{sch}$  \n",
    "\n",
    "$C_{r,t}$ - consumption of r $\\in$ in $\\mathcal{R}^{cons}$ time period t $\\in$ $\\mathcal{T}^{sch}$ \n",
    "\n",
    "$S_{r,t}$ - discharge of r $\\in$ in $\\mathcal{R}^{demand}$ time period t $\\in$ $\\mathcal{T}^{sch}$ \n",
    "\n",
    "$Inv_{r,t}$ - inventory level of r $\\in$ $\\mathcal{R}^{storage}$  in time period t $\\in$ $\\mathcal{T}^{sch}$\n",
    "\n",
    "$Cap^S_{r,t}$ - installed inventory capacity for resource r $\\in$  $\\mathcal{R}^{storage}$ in time period t $\\in$ $\\mathcal{T}^{net}$\n",
    "\n",
    "$Cap^P_{p,t}$ - installed production capacity for process p $\\in$ $\\mathcal{P}$ in time period t $\\in$ $\\mathcal{T}^{net}$\n",
    "\n",
    "\n",
    "\n",
    "\n",
    "*Binary Variables*\n",
    "\n",
    "\n",
    "$X^P_{p,t}$ - network binary for production process p $\\in$ $\\mathcal{P}$ in time period t $\\in$ $\\mathcal{T}^{net}$\n",
    "\n",
    "$X^S_{r,t}$ - network binary for inventory of resource r  $\\mathcal{R}^{storage}$ in time period t $\\in$ $\\mathcal{T}^{net}$\n",
    "\n",
    "\n",
    "\n",
    "*Parametric Variables*\n",
    "\n",
    "\n",
    "$\\alpha_{p}$ - uncertainty in production capacity of process p $\\in$ $\\mathcal{P}^{uncertain-cap}$\n",
    "\n",
    "$\\beta_{r}$ - uncertainty in demand for resource r $\\in$ $\\mathcal{R}^{demand}$\n",
    "\n",
    "$\\gamma_{r}$ - uncertainty in purchase price for resource r $\\in$ $\\mathcal{R}^{cons}$\n",
    "\n",
    "$\\delta_{r}$ - uncertainty in consumption availability for resource r $\\in$ $\\mathcal{R}^{cons}$\n",
    "\n",
    "$\\epsilon_{p}$ - uncertainty in cost of technology for process p $\\in$ $\\mathcal{P}^{uncertain-capex}$\n",
    "\n",
    "\n",
    "\n",
    "*Parameters*\n",
    "\n",
    "\n",
    "$Cap^{P-max}_{p,t}$ - maximum production capacity of process p $\\in$ $\\mathcal{P}$ in time period t $\\in$ $\\mathcal{T}^{net}$\n",
    "\n",
    "$Cap^{S-max}_{r,t}$ - maximum inventory capacity for process r $\\in$ $\\mathcal{R}^{storage}$ in time period t $\\in$ $\\mathcal{T}^{net}$\n",
    "\n",
    "$Capex_{p,t}$ - capital expenditure for process p $\\in$ $\\mathcal{P}$ in time t $\\in$ $\\mathcal{T}^{net}$\n",
    "\n",
    "$Vopex_{p,t}$ - variable operational expenditure for process p $\\in$ $\\mathcal{P}$ in time t $\\in$ $\\mathcal{T}^{sch}$\n",
    "\n",
    "$Price_{r,t}$ - purchase price for resource r $\\in$ $\\mathcal{R}^{cons}$ in time t $\\in$ $\\mathcal{T}^{sch}$\n",
    "\n",
    "$C^{max}_{r,t}$ - maximum consumption availability for resource r $\\in$ $\\mathcal{R}^{cons}$ in time t $\\in$ $\\mathcal{T}^{sch}$\n",
    "\n",
    "$D_{r,t}$ - demand for resource r $in$ $\\mathcal{R}^{sell}$ in time t $\\in$ $\\mathcal{T}^{sch}$\n",
    "\n",
    "\n"
   ]
  },
  {
   "cell_type": "markdown",
   "metadata": {},
   "source": [
    "# MILP Formulation"
   ]
  },
  {
   "cell_type": "markdown",
   "metadata": {},
   "source": [
    "Given is a general MILP modeling and optimization framework for simultaneous network design and scheduling.\n",
    "\n"
   ]
  },
  {
   "cell_type": "markdown",
   "metadata": {},
   "source": [
    "\n",
    "\\begin{equation}\n",
    "    min \\sum_{t \\in \\mathcal{T}^{net}} \\sum_{p \\in \\mathcal{P}} Capex_{p,t} \\times Cap^P_{p,t} + \\sum_{t \\in \\mathcal{T}^{sch}} \\sum_{r \\in \\mathcal{R}^{cons}}  Price_{r,t}  \\times C_{r,t} + \\sum_{t \\in \\mathcal{T}^{sch}} \\sum_{p \\in \\mathcal{P}}  Vopex_{r,t} \\times P_{r,t} \n",
    "\\end{equation}\n",
    "\n",
    "\n",
    "\\begin{equation}\n",
    "    Cap^S_{r,t} \\leq Cap^{S-max}_{r,t} \\times X^S_{r,t} \\hspace{1cm} \\forall r \\in \\mathcal{R}^{storage}, t \\in \\mathcal{T}^{net}\n",
    "\\end{equation}\n",
    "\n",
    "\\begin{equation}\n",
    "    Cap^P_{p,t} \\leq Cap^{P-max}_{p,t} \\times X^P_p  \\hspace{1cm} \\forall p \\in \\mathcal{P}, t \\in \\mathcal{T}^{net}\n",
    "\\end{equation} \n",
    "\n",
    "\\begin{equation}\n",
    "    P_{p,t} \\leq Cap^{P}_{p,t}  \\hspace{1cm} \\forall p \\in \\mathcal{P}, t \\in \\mathcal{T}^{sch}\n",
    "\\end{equation} \n",
    "\n",
    "\\begin{equation}\n",
    "    Inv_{r,t} \\leq Cap^{S}_{r,t}  \\hspace{1cm} \\forall r \\in \\mathcal{R}^{storage}, t \\in \\mathcal{T}^{sch}\n",
    "\\end{equation} \n",
    "\n",
    "\n",
    "\\begin{equation}\n",
    "    - S_{r,t} \\leq - D_{r,t}  \\hspace{1cm} \\forall r \\in \\mathcal{R}, t \\in \\mathcal{T}^{sch}\n",
    "\\end{equation}\n",
    "\n",
    "\\begin{equation}\n",
    "    C_{r,t} \\leq C^{max}_{r,t} \\hspace{1cm} \\forall r \\in \\mathcal{R}, t \\in \\mathcal{T}^{sch}\n",
    "\\end{equation}\n",
    "\n",
    "\n",
    "\\begin{equation}\n",
    "    - S_{r,t} + \\sum_{p \\in \\mathcal{P}} P_{p,t} \\times \\eta(p,r) = 0 \\hspace{1cm} \\forall r \\in \\mathcal{R}^{sell}, t \\in \\mathcal{T}^{sch}\n",
    "\\end{equation}\n",
    "\n",
    "\\begin{equation}\n",
    "    -Inv_{r,t} + \\sum_{p \\in \\mathcal{P}} P_{p,t} \\times \\eta(p,r) = 0 \\hspace{1cm} \\forall r \\in \\mathcal{R}^{stored}, t \\in \\mathcal{T}^{sch}\n",
    "\\end{equation}\n",
    "\n",
    "\\begin{equation}\n",
    "    \\sum_{p \\in \\mathcal{P}} P_{p,t} \\times \\eta(p,r) + C_{r,t} = 0 \\hspace{1cm} \\forall r \\in \\mathcal{R}^{cons}, t \\in \\mathcal{T}^{sch}\n",
    "\\end{equation}\n",
    "\n",
    "\\begin{equation}\n",
    "    S_{r,t}, C_{r,t}, Inv_{r,t}, P_{p,t}, Cap^P_p, Cap^S_r \\in R_{\\geq 0}\n",
    "\\end{equation}\n",
    "\n",
    "\n"
   ]
  },
  {
   "cell_type": "markdown",
   "metadata": {},
   "source": [
    "## mpLP reformulation"
   ]
  },
  {
   "cell_type": "markdown",
   "metadata": {},
   "source": [
    "Reformulated as an mpLP"
   ]
  },
  {
   "cell_type": "markdown",
   "metadata": {},
   "source": [
    "\n",
    "\\begin{equation}\n",
    "    min \\hspace{1cm} \\sum_{p \\in \\mathcal{P}} Capex_p \\times \\epsilon_p \\times P_p + \\sum_{r \\in \\mathcal{R}^{cons}} C_r \\times \\gamma_r \n",
    "\\end{equation}\n",
    "\n",
    "\n",
    "\\begin{equation}\n",
    "    Inv_r \\leq Cap^{S-max}_r \\hspace{1cm} \\forall r \\in \\mathcal{R}^{stored}\n",
    "\\end{equation}\n",
    "\n",
    "\\begin{equation}\n",
    "    - S_r \\leq - D_r \\times \\beta_r \\hspace{1cm} \\forall r \\in \\mathcal{R}^{demand}\n",
    "\\end{equation}\n",
    "\n",
    "\\begin{equation}\n",
    "    C_r \\leq C^{max}_r \\times \\delta_r \\hspace{1cm} \\forall r \\in \\mathcal{R}^{cons} \n",
    "\\end{equation}\n",
    "\n",
    "\\begin{equation}\n",
    "    P_p \\leq Cap^{P-max}_p \\times \\alpha_p \\hspace{1cm} \\forall p \\in \\mathcal{P}\n",
    "\\end{equation} \n",
    "\n",
    "\\begin{equation}\n",
    "    - S_{r} + \\sum_{p \\in \\mathcal{P}} P_{p} \\times \\eta(p,r) = 0 \\hspace{1cm} \\forall r \\in \\mathcal{R}^{sell}\n",
    "\\end{equation}\n",
    "\n",
    "\\begin{equation}\n",
    "    - Inv_{r} + \\sum_{p \\in \\mathcal{P}} P_{p} \\times \\eta(p,r) = 0 \\hspace{1cm} \\forall r \\in \\mathcal{R}^{stored}\n",
    "\\end{equation}\n",
    "\n",
    "\\begin{equation}\n",
    "    \\sum_{p \\in \\mathcal{P}} P_{p} \\times \\eta(p,r) + C_{r} = 0 \\hspace{1cm} \\forall r \\in \\mathcal{R}^{cons}\n",
    "\\end{equation}\n",
    "\n",
    "\\begin{equation}\n",
    "    \\alpha_p \\in A_p \\hspace{1cm} \\forall p \\in \\mathcal{P}\n",
    "\\end{equation}\n",
    "\n",
    "\\begin{equation}\n",
    "    \\beta_r \\in B_r \\hspace{1cm} \\forall r \\in \\mathcal{R}^{demand}\n",
    "\\end{equation}\n",
    "\n",
    "\\begin{equation}\n",
    "    \\gamma_r \\in \\Gamma_r \\hspace{1cm} \\forall r \\in \\mathcal{R}^{cons}\n",
    "\\end{equation}\n",
    "\n",
    "\\begin{equation}\n",
    "    \\delta_r \\in \\Delta_r \\hspace{1cm} \\forall r \\in \\mathcal{R}^{cons}\n",
    "\\end{equation}\n",
    "\n",
    "\\begin{equation}\n",
    "    \\epsilon_p \\in E_p \\hspace{1cm} \\forall p \\in \\mathcal{P}\n",
    "\\end{equation}\n",
    "\n",
    "\n",
    "\\begin{equation}\n",
    "    S_r, C_r, Inv_r, P_p \\in R_{\\geq 0}\n",
    "\\end{equation}\n"
   ]
  },
  {
   "cell_type": "markdown",
   "metadata": {},
   "source": [
    "## Example Problem"
   ]
  },
  {
   "attachments": {},
   "cell_type": "markdown",
   "metadata": {},
   "source": [
    "\n",
    "\\begin{equation}\n",
    "    p \\in \\{LI_c, LI_d, WF, PV\\} \n",
    "\\end{equation}\n",
    "\n",
    "\n",
    "\\begin{equation}\n",
    "    r \\in \\{charge, power, wind, solar\\} \n",
    "\\end{equation}\n"
   ]
  },
  {
   "attachments": {},
   "cell_type": "markdown",
   "metadata": {},
   "source": [
    "\n",
    "\\begin{equation}\n",
    "    min \\hspace{1cm} \\left[\\begin{matrix}1302\\\\0\\\\990\\\\567\\end{matrix}\\right]^T \\left[\\begin{matrix}P_{LI_c}\\\\P_{LI_d}\\\\P_{WF}\\\\P_{PV}\\end{matrix}\\right]\n",
    "\\end{equation}\n"
   ]
  },
  {
   "attachments": {},
   "cell_type": "markdown",
   "metadata": {},
   "source": [
    "\n",
    "\\begin{equation}\n",
    "    I_3\\left[\\begin{matrix}Inv_{charge}\\\\C_{wind}\\\\C_{solar}\\\\P_{LI_c}\\\\P_{LI_d}\\end{matrix}\\right] \\leq \\left[\\begin{matrix} 100\\\\100\\\\100\\\\100\\\\100\\end{matrix}\\right]\n",
    "\\end{equation}\n"
   ]
  },
  {
   "attachments": {},
   "cell_type": "markdown",
   "metadata": {},
   "source": [
    "\n",
    "\\begin{equation}\n",
    "    I_3\\left[\\begin{matrix}-S_{power}\\\\P_{WF}\\\\P_{PV}\\end{matrix}\\right] \\leq \\left[\\begin{matrix}-300 & 0 & 0\\\\0 & 100 & 0\\\\0 & 0 & 100\\end{matrix}\\right] \\left[\\begin{matrix}\\beta_{power}\\\\ \\alpha_{WF}\\\\\\alpha_{PV}\\end{matrix}\\right]\n",
    "\\end{equation}\n"
   ]
  },
  {
   "attachments": {},
   "cell_type": "markdown",
   "metadata": {},
   "source": [
    "\n",
    "\\begin{equation}\n",
    "    I_4\\left[\\begin{matrix} - Inv_{charge} \\\\ -S_{power} \\\\ C_{wind} \\\\ C_{solar} \\end{matrix}\\right] + \\left[\\begin{matrix}0.89 & -1 & 0 & 0\\\\-1 & 1 & 0.85 & 0.75\\\\0 & 0 & -1 & 0\\\\0 & 0 & 0 & -1\\end{matrix}\\right] \\left[\\begin{matrix}P_{LI_c}\\\\P_{LI_d}\\\\P_{WF}\\\\P_{PV}\\end{matrix}\\right] = 0\n",
    "\\end{equation}\n"
   ]
  },
  {
   "cell_type": "markdown",
   "metadata": {},
   "source": [
    "\n",
    "\\begin{equation}\n",
    "    \\alpha_p \\in \\mathcal{A}_p \\hspace{1cm} \\forall p \\in \\{WF, PV\\} \n",
    "\\end{equation}\n",
    "\n",
    "\\begin{equation}\n",
    "    \\beta_r \\in \\mathcal{B}_r \\hspace{1cm} \\forall r \\in \\{Power\\} \n",
    "\\end{equation}"
   ]
  },
  {
   "cell_type": "markdown",
   "metadata": {},
   "source": [
    "$\\textbf{Import modules}$"
   ]
  },
  {
   "cell_type": "code",
   "execution_count": 1,
   "metadata": {},
   "outputs": [],
   "source": [
    "import sys\n",
    "sys.path.append('../../src')"
   ]
  },
  {
   "cell_type": "code",
   "execution_count": 2,
   "metadata": {},
   "outputs": [],
   "source": [
    "from energiapy.components.result import Result\n",
    "# import polytope as pt\n",
    "from ppopt.plot import parametric_plot\n",
    "from ppopt.mp_solvers.solve_mpqp import solve_mpqp, mpqp_algorithm\n",
    "from ppopt.mplp_program import MPLP_Program\n",
    "from ppopt.mpqp_program import MPQP_Program\n",
    "import numpy\n",
    "import pandas\n",
    "import sympy\n",
    "from energiapy.model.solve import solve\n",
    "from energiapy.plot.plot_results import CostY, CostX\n",
    "from energiapy.plot import plot_results, plot_scenario\n",
    "from energiapy.model.formulate import formulate, Constraints, Objective, ModelClass\n",
    "from energiapy.components.scenario import Scenario\n",
    "from energiapy.components.location import Location\n",
    "from energiapy.components.process import Process, VaryingProcess\n",
    "from energiapy.components.resource import Resource, VaryingResource\n",
    "from energiapy.components.material import Material\n",
    "from energiapy.components.temporal_scale import TemporalScale\n",
    "from energiapy.conversion.photovoltaic import solar_power_output\n",
    "from energiapy.conversion.windmill import wind_power_output\n",
    "from energiapy.utils.math_utils import min_max, normalize\n",
    "from itertools import product\n",
    "from matplotlib import rc\n",
    "import matplotlib.pyplot as plt \n",
    "\n"
   ]
  },
  {
   "cell_type": "code",
   "execution_count": 3,
   "metadata": {},
   "outputs": [
    {
     "name": "stderr",
     "output_type": "stream",
     "text": [
      "C:\\Users\\cacodcar\\AppData\\Local\\Temp\\ipykernel_22792\\422780675.py:3: UserWarning: Could not infer format, so each element will be parsed individually, falling back to `dateutil`. To ensure parsing is consistent and as-expected, please specify a format.\n",
      "  weather_houston.index = pandas.to_datetime(weather_houston.index, utc = True)\n",
      "C:\\Users\\cacodcar\\AppData\\Local\\Temp\\ipykernel_22792\\422780675.py:27: UserWarning: Could not infer format, so each element will be parsed individually, falling back to `dateutil`. To ensure parsing is consistent and as-expected, please specify a format.\n",
      "  ercot.index = pandas.to_datetime(ercot.index, utc = True)\n"
     ]
    }
   ],
   "source": [
    "coord_houston = (29.56999969482422, -95.05999755859375)\n",
    "weather_houston = pandas.read_csv('../data/weather_houston.csv', index_col=0)\n",
    "weather_houston.index = pandas.to_datetime(weather_houston.index, utc = True)\n",
    "\n",
    "solar_houston = solar_power_output(data= weather_houston, coord=coord_houston, sam = 'cecmod', module_params= 'Canadian_Solar_Inc__CS5P_220M', \n",
    "                                   inverter = 'cecinverter', inverter_params= 'ABB__MICRO_0_25_I_OUTD_US_208__208V_', \n",
    "                                   temperature_params= 'open_rack_glass_glass', aoi_model= 'no_loss', ac_model= 'sandia', spectral_model= 'no_loss')\n",
    "\n",
    "wind_houston_ve = wind_power_output(data= weather_houston, roughness_length= 0.1, turbine_type= 'V100/1800', hub_height= 92, \n",
    "                                 wind_speed_model= 'logarithmic', density_model = 'ideal_gas', temperature_model = 'linear_gradient', \n",
    "                                 power_output_model = 'power_coefficient_curve', density_correction = True, obstacle_height = 0, \n",
    "                                 observation_height = 10)\n",
    "\n",
    "wind_houston_en = wind_power_output(data= weather_houston, roughness_length= 0.1, turbine_type= 'E-126/4200', hub_height= 92, \n",
    "                                 wind_speed_model= 'logarithmic', density_model = 'ideal_gas', temperature_model = 'linear_gradient', \n",
    "                                 power_output_model = 'power_coefficient_curve', density_correction = False, obstacle_height = 0, \n",
    "                                 observation_height = 10)\n",
    "\n",
    "wind_houston_ge = wind_power_output(data= weather_houston, roughness_length= 0.1, turbine_type= 'GE120/2750', hub_height= 92, \n",
    "                                 wind_speed_model= 'logarithmic', density_model = 'ideal_gas', temperature_model = 'linear_gradient', \n",
    "                                 power_output_model = 'power_coefficient_curve', density_correction = False, obstacle_height = 0, \n",
    "                                 observation_height = 10)\n",
    "### Demand data\n",
    "\n",
    "# Get [hourly power demand data](https://www.ercot.com/gridinfo/load/load_hist)  for Houston from ERCOT Coastal region\n",
    "ercot = pandas.read_csv('../data/ercot.csv', index_col=0)\n",
    "ercot.index = pandas.to_datetime(ercot.index, utc = True)\n",
    "ercot.loc['2016-11-06 23:00:00'] = ercot.loc['2016-11-06 22:00:00'] #random missing value\n",
    "\n"
   ]
  },
  {
   "cell_type": "code",
   "execution_count": 4,
   "metadata": {},
   "outputs": [
    {
     "name": "stdout",
     "output_type": "stream",
     "text": [
      "Help on function wind_power_output in module energiapy.conversion.windmill:\n",
      "\n",
      "wind_power_output(data: pandas.core.frame.DataFrame, roughness_length: float = 0.1, turbine_type: str = 'V100/1800', hub_height: float = 92, wind_speed_model: str = 'logarithmic', density_model: str = 'ideal_gas', temperature_model: str = 'linear_gradient', power_output_model: str = 'power_coefficient_curve', density_correction: bool = True, obstacle_height: float = 0, observation_height: float = 10)\n",
      "    Calculates wind power output using weather data\n",
      "    Relevant factors include wind speeds (m/s), temperature (K), and pressure(Pa)\n",
      "    \n",
      "    Args:\n",
      "        data (pandas.DataFrame): weather data input with wind_speed, air_temperature, surface_pressure\n",
      "        roughness_length (float, optional): Defaults to 0.1.\n",
      "        turbine_type (str, optional): Defaults to 'V100/1800'.\n",
      "        hub_height (float, optional): Defaults to 92.\n",
      "        wind_speed_model (str, optional): Defaults to 'logarithmic'.\n",
      "        density_model (str, optional): Defaults to 'ideal_gas'.\n",
      "        temperature_model (str, optional): Defaults to 'linear_gradient'.\n",
      "        power_output_model (str, optional): Defaults to power_coefficient_curve.\n",
      "        density_correction (bool, optional): Defaults to True.\n",
      "        obstacle_height (float, optional): Defaults to 0.\n",
      "        observation_height (float, optional): Defaults to 10.\n",
      "    \n",
      "    Returns:\n",
      "        output (DataFrame): a dataframe with hourly wind power outputs\n",
      "\n"
     ]
    }
   ],
   "source": [
    "help(wind_power_output)"
   ]
  },
  {
   "cell_type": "code",
   "execution_count": 5,
   "metadata": {},
   "outputs": [
    {
     "data": {
      "image/png": "[encoded data removed]",
      "text/plain": [
       "<Figure size 800x500 with 1 Axes>"
      ]
     },
     "metadata": {},
     "output_type": "display_data"
    }
   ],
   "source": [
    "rc('font', **{'family': 'serif',\n",
    "    'serif': ['Computer Modern'], 'size': 16})\n",
    "fig, ax = plt.subplots(figsize=(8,5))\n",
    "# ax.plot(x_, y_, linewidth=0.5, color=color)\n",
    "ax.plot(list(range(24)), min_max(weather_houston['wind_speed'][:24]), label = 'wind speed')\n",
    "ax.plot(list(range(24)), min_max(wind_houston_ve[:24]), label = 'Vestas (V100/1800)')\n",
    "ax.plot(list(range(24)), min_max(wind_houston_en[:24]), label = 'Enercon (E-126/4200)')\n",
    "ax.plot(list(range(24)), min_max(wind_houston_ge[:24]), label = 'GE (GE120/2750)')\n",
    "\n",
    "\n",
    "\n",
    "# ax = axis_formatter(axes=ax, xcord=x_, axis_labels='M')\n",
    "plt.title(f'Wind Mill Profile (1st Jan 2016)')\n",
    "# ax.xaxis.set_ticks(list(results.keys()))\n",
    "# ax.xaxis.set_ticklabels(['1', '1/2', '1/3', '1/4', '1/5', '0'])\n",
    "plt.ylabel(\"Normalized value\")\n",
    "plt.xlabel(\"Hour (UTC)\")\n",
    "plt.legend()\n",
    "plt.grid(alpha=0.3)\n",
    "plt.rcdefaults()"
   ]
  },
  {
   "cell_type": "code",
   "execution_count": null,
   "metadata": {},
   "outputs": [],
   "source": [
    "\n"
   ]
  },
  {
   "cell_type": "code",
   "execution_count": 6,
   "metadata": {},
   "outputs": [],
   "source": [
    "solar = normalize(solar_houston)\n",
    "wind = normalize(wind_houston_ve)\n",
    "demand = normalize(ercot)\n"
   ]
  },
  {
   "cell_type": "markdown",
   "metadata": {},
   "source": [
    "$\\textbf{Define temporal scale}$\n"
   ]
  },
  {
   "cell_type": "code",
   "execution_count": 7,
   "metadata": {},
   "outputs": [],
   "source": [
    "scales = TemporalScale(discretization_list=[1])\n",
    "horizon = 1\n"
   ]
  },
  {
   "cell_type": "markdown",
   "metadata": {},
   "source": [
    "$\\textbf{Declare resources}$"
   ]
  },
  {
   "cell_type": "code",
   "execution_count": 8,
   "metadata": {},
   "outputs": [],
   "source": [
    "Solar = Resource(name='Solar', cons_max=100, basis='MW', label='Solar Power')\n",
    "\n",
    "Wind = Resource(name='Wind', cons_max=100, basis='MW', label='Wind Power')\n",
    "\n",
    "Power = Resource(name='Power', basis='MW', label='Power generated', varying = [VaryingResource.UNCERTAIN_DEMAND], varying_bounds  = (min(demand['COAST']), 1))\n",
    "\n",
    "# H2O = Resource(name='H2O', cons_max=100, basis='tons', label='Water', varying= [VaryingResource.UNCERTAIN_AVAILABILITY], varying_bounds= (0.3, 0.95))\n",
    "H2O = Resource(name='H2O', cons_max=500, basis='tons', label='Water', price = 0.01)\n",
    "\n",
    "O2 = Resource(name='O2', sell=True, basis='tons', label='Oxygen')\n",
    "\n",
    "H2 = Resource(name='H2', basis='tons', label='Hydrogen',demand= True) #, varying = [VaryingResource.UNCERTAIN_DEMAND], varying_bounds  = (0.6, 0.8))\n",
    "\n",
    "CH4 = Resource(name='CH4', cons_max=1000, price=0.345, basis='tons',\n",
    "               label='Natural gas', varying=[VaryingResource.UNCERTAIN_PRICE])\n",
    "\n",
    "\n"
   ]
  },
  {
   "cell_type": "markdown",
   "metadata": {},
   "source": [
    "$\\textbf{Declare processes}$"
   ]
  },
  {
   "cell_type": "code",
   "execution_count": 9,
   "metadata": {},
   "outputs": [],
   "source": [
    "LiI = Process(name='LiI', storage=Power, capex=1302, fopex=0, vopex=12,  prod_max=50,\n",
    "              storage_loss=0.11,  label='Lithium-ion battery', basis='MW', store_max=100)\n",
    "\n",
    "PEM = Process(name='PEM', conversion={Power: -1, H2: 0.3537, H2O: -3.1839}, capex=1550, fopex=0,\n",
    "              vopex=11, prod_max=100, prod_min = 0, basis = 'tons', label = 'PEM' )\n",
    "\n",
    "WF = Process(name='WF', conversion={Wind: -1, Power: 0.85}, capex=990, fopex=0, vopex=13,\n",
    "             prod_max=100, label='Wind mill array', basis='MW', varying=[VaryingProcess.UNCERTAIN_CAPACITY], varying_bounds = (0, 1))\n",
    "\n",
    "PV = Process(name='PV', conversion={Solar: -1, Power: 0.75}, capex=567, fopex=0, vopex=9,\n",
    "             prod_max=100, label='Solar PV', basis='MW', varying=[VaryingProcess.UNCERTAIN_CAPACITY], varying_bounds= (0, 1))\n",
    "\n",
    "NGCC = Process(name='NGCC', conversion={Power: 1, CH4: -0.108}, capex=2158928, fopex=53320, vopex=4090, prod_max=100, label='NGCC + 95% CC', varying_bounds= (0.6, 1))\n"
   ]
  },
  {
   "cell_type": "markdown",
   "metadata": {},
   "source": [
    "$\\textbf{Declare location(s)}$\n"
   ]
  },
  {
   "cell_type": "code",
   "execution_count": 10,
   "metadata": {},
   "outputs": [],
   "source": [
    "region = Location(name='region', processes={\n",
    "                  LiI, WF, PV, PEM}, scales=scales, label='some region')\n",
    "#  WF"
   ]
  },
  {
   "cell_type": "markdown",
   "metadata": {},
   "source": [
    "The combination of parameter data, locations, and transportation options generates a scenario. \n",
    "\n",
    "Scenarios are data sets that can be fed to models for analysis. \n",
    "\n",
    "In this case we are generating a scenario for the location houston. The scales need to be consistent."
   ]
  },
  {
   "cell_type": "code",
   "execution_count": 11,
   "metadata": {},
   "outputs": [],
   "source": [
    "example = Scenario(name='example', demand={region: {Power:100, H2: 20}}, network=region, scales=scales, label='example scenario')\n",
    "# example = Scenario(name='example', demand={region: {Power: 200}}, network=region, scales=scales, label='example scenario')\n"
   ]
  },
  {
   "cell_type": "code",
   "execution_count": 12,
   "metadata": {},
   "outputs": [
    {
     "name": "stdout",
     "output_type": "stream",
     "text": [
      "The problem has the following variables:\n",
      "Resource inventory level (Inv) x 1\n",
      "Exact resource discharge (Sf) x 1\n",
      "Uncertain resource discharge (S) x 1\n",
      "Exact resource availability (Af) x 3\n",
      "Uncertain resource availability (A) x 0\n",
      "Exact resource price (Cf) x 3\n",
      "Uncertain resource price (C) x 0\n",
      "Exact process production (Pf) x 3\n",
      "Uncertain process production (P) x 2\n",
      " For a total of 11 (8 fixed, and 3 uncertain)\n"
     ]
    }
   ],
   "source": [
    "matrix = formulate(scenario=example, model_class=ModelClass.MPLP)\n"
   ]
  },
  {
   "cell_type": "code",
   "execution_count": 13,
   "metadata": {},
   "outputs": [
    {
     "data": {
      "text/html": [
       "<div>\n",
       "<style scoped>\n",
       "    .dataframe tbody tr th:only-of-type {\n",
       "        vertical-align: middle;\n",
       "    }\n",
       "\n",
       "    .dataframe tbody tr th {\n",
       "        vertical-align: top;\n",
       "    }\n",
       "\n",
       "    .dataframe thead th {\n",
       "        text-align: right;\n",
       "    }\n",
       "</style>\n",
       "<table border=\"1\" class=\"dataframe\">\n",
       "  <thead>\n",
       "    <tr style=\"text-align: right;\">\n",
       "      <th></th>\n",
       "      <th>rhs</th>\n",
       "    </tr>\n",
       "  </thead>\n",
       "  <tbody>\n",
       "    <tr>\n",
       "      <th>MB_H2(=)</th>\n",
       "      <td>0.0</td>\n",
       "    </tr>\n",
       "    <tr>\n",
       "      <th>MB_H2O(=)</th>\n",
       "      <td>0.0</td>\n",
       "    </tr>\n",
       "    <tr>\n",
       "      <th>MB_LiI_Power_stored(=)</th>\n",
       "      <td>0.0</td>\n",
       "    </tr>\n",
       "    <tr>\n",
       "      <th>MB_Power(=)</th>\n",
       "      <td>0.0</td>\n",
       "    </tr>\n",
       "    <tr>\n",
       "      <th>MB_Solar(=)</th>\n",
       "      <td>0.0</td>\n",
       "    </tr>\n",
       "    <tr>\n",
       "      <th>MB_Wind(=)</th>\n",
       "      <td>0.0</td>\n",
       "    </tr>\n",
       "    <tr>\n",
       "      <th>Inv_LiI_Power_stored(&lt;)</th>\n",
       "      <td>100.0</td>\n",
       "    </tr>\n",
       "    <tr>\n",
       "      <th>Sf_H2(&gt;)</th>\n",
       "      <td>-20.0</td>\n",
       "    </tr>\n",
       "    <tr>\n",
       "      <th>S_Power(&gt;)</th>\n",
       "      <td>0.0</td>\n",
       "    </tr>\n",
       "    <tr>\n",
       "      <th>Af_H2O(&lt;)</th>\n",
       "      <td>500.0</td>\n",
       "    </tr>\n",
       "    <tr>\n",
       "      <th>Af_Solar(&lt;)</th>\n",
       "      <td>100.0</td>\n",
       "    </tr>\n",
       "    <tr>\n",
       "      <th>Af_Wind(&lt;)</th>\n",
       "      <td>100.0</td>\n",
       "    </tr>\n",
       "    <tr>\n",
       "      <th>Pf_LiI(&lt;)</th>\n",
       "      <td>50.0</td>\n",
       "    </tr>\n",
       "    <tr>\n",
       "      <th>Pf_LiI_discharge(&lt;)</th>\n",
       "      <td>50.0</td>\n",
       "    </tr>\n",
       "    <tr>\n",
       "      <th>Pf_PEM(&lt;)</th>\n",
       "      <td>100.0</td>\n",
       "    </tr>\n",
       "    <tr>\n",
       "      <th>P_PV(&lt;)</th>\n",
       "      <td>0.0</td>\n",
       "    </tr>\n",
       "    <tr>\n",
       "      <th>P_WF(&lt;)</th>\n",
       "      <td>0.0</td>\n",
       "    </tr>\n",
       "    <tr>\n",
       "      <th>NN_Inv_LiI_Power_stored(&gt;)</th>\n",
       "      <td>0.0</td>\n",
       "    </tr>\n",
       "    <tr>\n",
       "      <th>NN_Sf_H2(&gt;)</th>\n",
       "      <td>0.0</td>\n",
       "    </tr>\n",
       "    <tr>\n",
       "      <th>NN_S_Power(&gt;)</th>\n",
       "      <td>0.0</td>\n",
       "    </tr>\n",
       "    <tr>\n",
       "      <th>NN_Af_H2O(&gt;)</th>\n",
       "      <td>0.0</td>\n",
       "    </tr>\n",
       "    <tr>\n",
       "      <th>NN_Af_Solar(&gt;)</th>\n",
       "      <td>0.0</td>\n",
       "    </tr>\n",
       "    <tr>\n",
       "      <th>NN_Af_Wind(&gt;)</th>\n",
       "      <td>0.0</td>\n",
       "    </tr>\n",
       "    <tr>\n",
       "      <th>NN_Pf_LiI(&gt;)</th>\n",
       "      <td>0.0</td>\n",
       "    </tr>\n",
       "    <tr>\n",
       "      <th>NN_Pf_LiI_discharge(&gt;)</th>\n",
       "      <td>0.0</td>\n",
       "    </tr>\n",
       "    <tr>\n",
       "      <th>NN_Pf_PEM(&gt;)</th>\n",
       "      <td>0.0</td>\n",
       "    </tr>\n",
       "    <tr>\n",
       "      <th>NN_P_PV(&gt;)</th>\n",
       "      <td>0.0</td>\n",
       "    </tr>\n",
       "    <tr>\n",
       "      <th>NN_P_WF(&gt;)</th>\n",
       "      <td>0.0</td>\n",
       "    </tr>\n",
       "  </tbody>\n",
       "</table>\n",
       "</div>"
      ],
      "text/plain": [
       "                              rhs\n",
       "MB_H2(=)                      0.0\n",
       "MB_H2O(=)                     0.0\n",
       "MB_LiI_Power_stored(=)        0.0\n",
       "MB_Power(=)                   0.0\n",
       "MB_Solar(=)                   0.0\n",
       "MB_Wind(=)                    0.0\n",
       "Inv_LiI_Power_stored(<)     100.0\n",
       "Sf_H2(>)                    -20.0\n",
       "S_Power(>)                    0.0\n",
       "Af_H2O(<)                   500.0\n",
       "Af_Solar(<)                 100.0\n",
       "Af_Wind(<)                  100.0\n",
       "Pf_LiI(<)                    50.0\n",
       "Pf_LiI_discharge(<)          50.0\n",
       "Pf_PEM(<)                   100.0\n",
       "P_PV(<)                       0.0\n",
       "P_WF(<)                       0.0\n",
       "NN_Inv_LiI_Power_stored(>)    0.0\n",
       "NN_Sf_H2(>)                   0.0\n",
       "NN_S_Power(>)                 0.0\n",
       "NN_Af_H2O(>)                  0.0\n",
       "NN_Af_Solar(>)                0.0\n",
       "NN_Af_Wind(>)                 0.0\n",
       "NN_Pf_LiI(>)                  0.0\n",
       "NN_Pf_LiI_discharge(>)        0.0\n",
       "NN_Pf_PEM(>)                  0.0\n",
       "NN_P_PV(>)                    0.0\n",
       "NN_P_WF(>)                    0.0"
      ]
     },
     "execution_count": 13,
     "metadata": {},
     "output_type": "execute_result"
    }
   ],
   "source": [
    "example.b_df"
   ]
  },
  {
   "cell_type": "code",
   "execution_count": 14,
   "metadata": {},
   "outputs": [],
   "source": [
    "# example.b_df"
   ]
  },
  {
   "cell_type": "code",
   "execution_count": 15,
   "metadata": {},
   "outputs": [
    {
     "data": {
      "text/html": [
       "<div>\n",
       "<style scoped>\n",
       "    .dataframe tbody tr th:only-of-type {\n",
       "        vertical-align: middle;\n",
       "    }\n",
       "\n",
       "    .dataframe tbody tr th {\n",
       "        vertical-align: top;\n",
       "    }\n",
       "\n",
       "    .dataframe thead th {\n",
       "        text-align: right;\n",
       "    }\n",
       "</style>\n",
       "<table border=\"1\" class=\"dataframe\">\n",
       "  <thead>\n",
       "    <tr style=\"text-align: right;\">\n",
       "      <th></th>\n",
       "      <th>Th_Power</th>\n",
       "      <th>Th_PV</th>\n",
       "      <th>Th_WF</th>\n",
       "    </tr>\n",
       "  </thead>\n",
       "  <tbody>\n",
       "    <tr>\n",
       "      <th>MB_H2(=)</th>\n",
       "      <td>0.0</td>\n",
       "      <td>0.0</td>\n",
       "      <td>0.0</td>\n",
       "    </tr>\n",
       "    <tr>\n",
       "      <th>MB_H2O(=)</th>\n",
       "      <td>0.0</td>\n",
       "      <td>0.0</td>\n",
       "      <td>0.0</td>\n",
       "    </tr>\n",
       "    <tr>\n",
       "      <th>MB_LiI_Power_stored(=)</th>\n",
       "      <td>0.0</td>\n",
       "      <td>0.0</td>\n",
       "      <td>0.0</td>\n",
       "    </tr>\n",
       "    <tr>\n",
       "      <th>MB_Power(=)</th>\n",
       "      <td>0.0</td>\n",
       "      <td>0.0</td>\n",
       "      <td>0.0</td>\n",
       "    </tr>\n",
       "    <tr>\n",
       "      <th>MB_Solar(=)</th>\n",
       "      <td>0.0</td>\n",
       "      <td>0.0</td>\n",
       "      <td>0.0</td>\n",
       "    </tr>\n",
       "    <tr>\n",
       "      <th>MB_Wind(=)</th>\n",
       "      <td>0.0</td>\n",
       "      <td>0.0</td>\n",
       "      <td>0.0</td>\n",
       "    </tr>\n",
       "    <tr>\n",
       "      <th>Inv_LiI_Power_stored(&lt;)</th>\n",
       "      <td>0.0</td>\n",
       "      <td>0.0</td>\n",
       "      <td>0.0</td>\n",
       "    </tr>\n",
       "    <tr>\n",
       "      <th>Sf_H2(&gt;)</th>\n",
       "      <td>0.0</td>\n",
       "      <td>0.0</td>\n",
       "      <td>0.0</td>\n",
       "    </tr>\n",
       "    <tr>\n",
       "      <th>S_Power(&gt;)</th>\n",
       "      <td>-100.0</td>\n",
       "      <td>0.0</td>\n",
       "      <td>0.0</td>\n",
       "    </tr>\n",
       "    <tr>\n",
       "      <th>Af_H2O(&lt;)</th>\n",
       "      <td>0.0</td>\n",
       "      <td>0.0</td>\n",
       "      <td>0.0</td>\n",
       "    </tr>\n",
       "    <tr>\n",
       "      <th>Af_Solar(&lt;)</th>\n",
       "      <td>0.0</td>\n",
       "      <td>0.0</td>\n",
       "      <td>0.0</td>\n",
       "    </tr>\n",
       "    <tr>\n",
       "      <th>Af_Wind(&lt;)</th>\n",
       "      <td>0.0</td>\n",
       "      <td>0.0</td>\n",
       "      <td>0.0</td>\n",
       "    </tr>\n",
       "    <tr>\n",
       "      <th>Pf_LiI(&lt;)</th>\n",
       "      <td>0.0</td>\n",
       "      <td>0.0</td>\n",
       "      <td>0.0</td>\n",
       "    </tr>\n",
       "    <tr>\n",
       "      <th>Pf_LiI_discharge(&lt;)</th>\n",
       "      <td>0.0</td>\n",
       "      <td>0.0</td>\n",
       "      <td>0.0</td>\n",
       "    </tr>\n",
       "    <tr>\n",
       "      <th>Pf_PEM(&lt;)</th>\n",
       "      <td>0.0</td>\n",
       "      <td>0.0</td>\n",
       "      <td>0.0</td>\n",
       "    </tr>\n",
       "    <tr>\n",
       "      <th>P_PV(&lt;)</th>\n",
       "      <td>0.0</td>\n",
       "      <td>100.0</td>\n",
       "      <td>0.0</td>\n",
       "    </tr>\n",
       "    <tr>\n",
       "      <th>P_WF(&lt;)</th>\n",
       "      <td>0.0</td>\n",
       "      <td>0.0</td>\n",
       "      <td>100.0</td>\n",
       "    </tr>\n",
       "    <tr>\n",
       "      <th>NN_Inv_LiI_Power_stored(&gt;)</th>\n",
       "      <td>0.0</td>\n",
       "      <td>0.0</td>\n",
       "      <td>0.0</td>\n",
       "    </tr>\n",
       "    <tr>\n",
       "      <th>NN_Sf_H2(&gt;)</th>\n",
       "      <td>0.0</td>\n",
       "      <td>0.0</td>\n",
       "      <td>0.0</td>\n",
       "    </tr>\n",
       "    <tr>\n",
       "      <th>NN_S_Power(&gt;)</th>\n",
       "      <td>0.0</td>\n",
       "      <td>0.0</td>\n",
       "      <td>0.0</td>\n",
       "    </tr>\n",
       "    <tr>\n",
       "      <th>NN_Af_H2O(&gt;)</th>\n",
       "      <td>0.0</td>\n",
       "      <td>0.0</td>\n",
       "      <td>0.0</td>\n",
       "    </tr>\n",
       "    <tr>\n",
       "      <th>NN_Af_Solar(&gt;)</th>\n",
       "      <td>0.0</td>\n",
       "      <td>0.0</td>\n",
       "      <td>0.0</td>\n",
       "    </tr>\n",
       "    <tr>\n",
       "      <th>NN_Af_Wind(&gt;)</th>\n",
       "      <td>0.0</td>\n",
       "      <td>0.0</td>\n",
       "      <td>0.0</td>\n",
       "    </tr>\n",
       "    <tr>\n",
       "      <th>NN_Pf_LiI(&gt;)</th>\n",
       "      <td>0.0</td>\n",
       "      <td>0.0</td>\n",
       "      <td>0.0</td>\n",
       "    </tr>\n",
       "    <tr>\n",
       "      <th>NN_Pf_LiI_discharge(&gt;)</th>\n",
       "      <td>0.0</td>\n",
       "      <td>0.0</td>\n",
       "      <td>0.0</td>\n",
       "    </tr>\n",
       "    <tr>\n",
       "      <th>NN_Pf_PEM(&gt;)</th>\n",
       "      <td>0.0</td>\n",
       "      <td>0.0</td>\n",
       "      <td>0.0</td>\n",
       "    </tr>\n",
       "    <tr>\n",
       "      <th>NN_P_PV(&gt;)</th>\n",
       "      <td>0.0</td>\n",
       "      <td>0.0</td>\n",
       "      <td>0.0</td>\n",
       "    </tr>\n",
       "    <tr>\n",
       "      <th>NN_P_WF(&gt;)</th>\n",
       "      <td>0.0</td>\n",
       "      <td>0.0</td>\n",
       "      <td>0.0</td>\n",
       "    </tr>\n",
       "  </tbody>\n",
       "</table>\n",
       "</div>"
      ],
      "text/plain": [
       "                            Th_Power  Th_PV  Th_WF\n",
       "MB_H2(=)                         0.0    0.0    0.0\n",
       "MB_H2O(=)                        0.0    0.0    0.0\n",
       "MB_LiI_Power_stored(=)           0.0    0.0    0.0\n",
       "MB_Power(=)                      0.0    0.0    0.0\n",
       "MB_Solar(=)                      0.0    0.0    0.0\n",
       "MB_Wind(=)                       0.0    0.0    0.0\n",
       "Inv_LiI_Power_stored(<)          0.0    0.0    0.0\n",
       "Sf_H2(>)                         0.0    0.0    0.0\n",
       "S_Power(>)                    -100.0    0.0    0.0\n",
       "Af_H2O(<)                        0.0    0.0    0.0\n",
       "Af_Solar(<)                      0.0    0.0    0.0\n",
       "Af_Wind(<)                       0.0    0.0    0.0\n",
       "Pf_LiI(<)                        0.0    0.0    0.0\n",
       "Pf_LiI_discharge(<)              0.0    0.0    0.0\n",
       "Pf_PEM(<)                        0.0    0.0    0.0\n",
       "P_PV(<)                          0.0  100.0    0.0\n",
       "P_WF(<)                          0.0    0.0  100.0\n",
       "NN_Inv_LiI_Power_stored(>)       0.0    0.0    0.0\n",
       "NN_Sf_H2(>)                      0.0    0.0    0.0\n",
       "NN_S_Power(>)                    0.0    0.0    0.0\n",
       "NN_Af_H2O(>)                     0.0    0.0    0.0\n",
       "NN_Af_Solar(>)                   0.0    0.0    0.0\n",
       "NN_Af_Wind(>)                    0.0    0.0    0.0\n",
       "NN_Pf_LiI(>)                     0.0    0.0    0.0\n",
       "NN_Pf_LiI_discharge(>)           0.0    0.0    0.0\n",
       "NN_Pf_PEM(>)                     0.0    0.0    0.0\n",
       "NN_P_PV(>)                       0.0    0.0    0.0\n",
       "NN_P_WF(>)                       0.0    0.0    0.0"
      ]
     },
     "execution_count": 15,
     "metadata": {},
     "output_type": "execute_result"
    }
   ],
   "source": [
    "example.F_df"
   ]
  },
  {
   "cell_type": "code",
   "execution_count": 16,
   "metadata": {},
   "outputs": [],
   "source": [
    "# example.c_df"
   ]
  },
  {
   "cell_type": "code",
   "execution_count": 17,
   "metadata": {},
   "outputs": [],
   "source": [
    "# example.H_df"
   ]
  },
  {
   "cell_type": "code",
   "execution_count": 18,
   "metadata": {},
   "outputs": [],
   "source": [
    "# example.CRa_df"
   ]
  },
  {
   "cell_type": "code",
   "execution_count": 19,
   "metadata": {},
   "outputs": [],
   "source": [
    "# example.CRb_df"
   ]
  },
  {
   "attachments": {},
   "cell_type": "markdown",
   "metadata": {},
   "source": [
    "All the matrices can be accessed in matrix"
   ]
  },
  {
   "cell_type": "code",
   "execution_count": 20,
   "metadata": {},
   "outputs": [],
   "source": [
    "# matrix"
   ]
  },
  {
   "attachments": {},
   "cell_type": "markdown",
   "metadata": {},
   "source": [
    "Pasting the backend here"
   ]
  },
  {
   "cell_type": "code",
   "execution_count": 21,
   "metadata": {},
   "outputs": [],
   "source": [
    "# prog = MPLP_Program(matrix['A'], matrix['b'], matrix['c'], matrix['H'],\n",
    "#                     matrix['CRa'], matrix['CRb'], matrix['F'], equality_indices=list(range(matrix['no_eq_cons'])))\n",
    "# prog.solver.solvers['lp'] = 'gurobi'\n",
    "# # prog.warnings()\n",
    "# # prog.display_warnings()\n",
    "# # prog.process_constraints()\n",
    "# solution = solve_mpqp(prog, mpqp_algorithm.combinatorial)"
   ]
  },
  {
   "cell_type": "code",
   "execution_count": 22,
   "metadata": {},
   "outputs": [
    {
     "name": "stdout",
     "output_type": "stream",
     "text": [
      "Set parameter Username\n",
      "Academic license - for non-commercial use only - expires 2024-02-14\n",
      "[]\n"
     ]
    }
   ],
   "source": [
    "solution = solve(matrix = matrix, interface = 'native', name = 'results_mplp', solver = 'ppopt') \n"
   ]
  },
  {
   "cell_type": "code",
   "execution_count": 23,
   "metadata": {},
   "outputs": [
    {
     "name": "stdout",
     "output_type": "stream",
     "text": [
      "constraint process capex\n",
      "constraint process fopex\n",
      "constraint process vopex\n",
      "constraint process incidental\n",
      "constraint storage cost\n",
      "constraint storage cost location\n",
      "constraint storage cost network\n",
      "constraint production mode\n",
      "constraint inventory balance\n",
      "constraint inventory network\n",
      "constraint demand\n",
      "objective cost\n"
     ]
    }
   ],
   "source": [
    "lp = formulate(scenario=example, constraints={Constraints.COST, Constraints.INVENTORY,\n",
    "                 Constraints.PRODUCTION, Constraints.RESOURCE_BALANCE, Constraints.DEMAND}, objective = Objective.COST)#, objective=Objective.MAX_DISCHARGE, objective_resource = Power)"
   ]
  },
  {
   "cell_type": "code",
   "execution_count": 24,
   "metadata": {},
   "outputs": [],
   "source": [
    "# lp.pprint()"
   ]
  },
  {
   "cell_type": "code",
   "execution_count": 25,
   "metadata": {},
   "outputs": [
    {
     "name": "stdout",
     "output_type": "stream",
     "text": [
      "constraint_demand : specific demand for resources\n",
      "    Size=1, Index=constraint_demand_index, Active=True\n",
      "    Key                 : Lower : Body           : Upper : Active\n",
      "    ('region', 'H2', 0) :  20.0 : S[region,H2,0] :  +Inf :   True\n"
     ]
    }
   ],
   "source": [
    "lp.constraint_demand.pprint()"
   ]
  },
  {
   "cell_type": "code",
   "execution_count": 26,
   "metadata": {},
   "outputs": [
    {
     "data": {
      "text/plain": [
       "2"
      ]
     },
     "execution_count": 26,
     "metadata": {},
     "output_type": "execute_result"
    }
   ],
   "source": [
    "len(solution.critical_regions)"
   ]
  },
  {
   "cell_type": "code",
   "execution_count": 27,
   "metadata": {},
   "outputs": [
    {
     "data": {
      "text/plain": [
       "Critical region with active set [0, 1, 2, 3, 4, 5, 6, 7, 11, 13, 18]\n",
       "The Omega Constraint indices are [0, 1, 2, 3, 4, 5]\n",
       "The Lagrange multipliers Constraint indices are []\n",
       "The Regular Constraint indices are [[0, 1, 4, 6, 7, 9, 10], [8, 9, 14, 16, 17, 20, 21]]\n",
       "  x(θ) = Aθ + b \n",
       " λ(θ) = Cθ + d \n",
       "  Eθ <= f\n",
       " A = [[ 1.77581843e-14 -1.38408849e-14  0.00000000e+00]\n",
       " [ 6.18055066e-15  8.05717283e-15  0.00000000e+00]\n",
       " [ 1.00000000e+02 -2.72801562e-13  0.00000000e+00]\n",
       " [ 1.77729132e-13 -1.22743898e-14  0.00000000e+00]\n",
       " [ 5.52154867e-13  1.00000000e+02  0.00000000e+00]\n",
       " [ 1.17647059e+02 -8.82352941e+01  0.00000000e+00]\n",
       " [ 1.04445561e-14 -5.07004959e-15  0.00000000e+00]\n",
       " [-1.22096752e-14 -4.89163226e-15  0.00000000e+00]\n",
       " [ 3.11338047e-14  1.74188569e-14  0.00000000e+00]\n",
       " [ 4.83945289e-13  1.00000000e+02  0.00000000e+00]\n",
       " [ 1.17647059e+02 -8.82352941e+01  0.00000000e+00]] \n",
       " b = [[ 5.00000000e+01]\n",
       " [ 2.00000000e+01]\n",
       " [-2.27647147e-12]\n",
       " [ 1.80033927e+02]\n",
       " [ 1.03602842e-11]\n",
       " [ 1.41706997e+01]\n",
       " [ 3.02868457e-14]\n",
       " [ 5.00000000e+01]\n",
       " [ 5.65450947e+01]\n",
       " [ 1.03320159e-11]\n",
       " [ 1.41706997e+01]] \n",
       " C = [[0. 0. 0.]\n",
       " [0. 0. 0.]\n",
       " [0. 0. 0.]\n",
       " [0. 0. 0.]\n",
       " [0. 0. 0.]\n",
       " [0. 0. 0.]\n",
       " [0. 0. 0.]\n",
       " [0. 0. 0.]\n",
       " [0. 0. 0.]\n",
       " [0. 0. 0.]\n",
       " [0. 0. 0.]] \n",
       " d = [[ 2.80376558e-14]\n",
       " [-7.89487715e+01]\n",
       " [-3.44613499e+01]\n",
       " [-3.33724725e-02]\n",
       " [-1.64734088e-13]\n",
       " [-4.10892758e-13]\n",
       " [ 7.44301856e+01]\n",
       " [ 1.52948823e+03]\n",
       " [ 1.36117647e+01]\n",
       " [ 2.47071176e+02]\n",
       " [ 2.72941176e+01]] \n",
       " E = [[ 5.52154867e-15  1.00000000e+00  0.00000000e+00]\n",
       " [ 8.00000000e-01 -6.00000000e-01  0.00000000e+00]\n",
       " [ 6.61541202e-01 -4.96155901e-01 -5.62310021e-01]\n",
       " [-5.52154867e-15 -1.00000000e+00  0.00000000e+00]\n",
       " [-8.00000000e-01  6.00000000e-01  0.00000000e+00]\n",
       " [-4.83945289e-15 -1.00000000e+00  0.00000000e+00]\n",
       " [-8.00000000e-01  6.00000000e-01  0.00000000e+00]\n",
       " [ 1.00000000e+00  0.00000000e+00  0.00000000e+00]\n",
       " [ 0.00000000e+00  1.00000000e+00  0.00000000e+00]\n",
       " [ 0.00000000e+00  0.00000000e+00  1.00000000e+00]\n",
       " [-1.00000000e+00 -0.00000000e+00 -0.00000000e+00]\n",
       " [-0.00000000e+00 -1.00000000e+00 -0.00000000e+00]\n",
       " [-0.00000000e+00 -0.00000000e+00 -1.00000000e+00]] \n",
       " f = [[ 1.00000000e+00]\n",
       " [ 5.83639242e-01]\n",
       " [-7.96832643e-02]\n",
       " [ 1.03602842e-13]\n",
       " [ 9.63607577e-02]\n",
       " [ 1.03320159e-13]\n",
       " [ 9.63607577e-02]\n",
       " [ 1.00000000e+00]\n",
       " [ 1.00000000e+00]\n",
       " [ 1.00000000e+00]\n",
       " [-3.49198053e-01]\n",
       " [ 0.00000000e+00]\n",
       " [ 0.00000000e+00]]"
      ]
     },
     "execution_count": 27,
     "metadata": {},
     "output_type": "execute_result"
    }
   ],
   "source": [
    "solution.critical_regions[0]"
   ]
  },
  {
   "cell_type": "code",
   "execution_count": null,
   "metadata": {},
   "outputs": [],
   "source": []
  },
  {
   "cell_type": "code",
   "execution_count": 28,
   "metadata": {},
   "outputs": [
    {
     "name": "stdout",
     "output_type": "stream",
     "text": [
      "Solution is not 2D, the dimensionality of the solution is 3\n"
     ]
    }
   ],
   "source": [
    "from ppopt.plot import parametric_plot\n",
    "parametric_plot(solution)"
   ]
  },
  {
   "cell_type": "code",
   "execution_count": 29,
   "metadata": {},
   "outputs": [],
   "source": [
    "# solution.evaluate_objective(numpy.array([[0.4], [0.6], [0.6]]))\n",
    "from ppopt.mplp_program import MPLP_Program\n",
    "theta = numpy.array([0.5,0.8,0.5]).reshape(-1,1)\n",
    "sol = solution.program.solve_theta(theta)\n",
    "# sol, solution.evaluate_objective(theta)\n",
    "# [0,1,2,3,4,5,7,12,14,21]"
   ]
  },
  {
   "cell_type": "code",
   "execution_count": 30,
   "metadata": {},
   "outputs": [
    {
     "data": {
      "text/plain": [
       "array([ 50.        ,  20.        ,  50.        , 180.03392706,\n",
       "        80.        ,   2.40599378,   0.        ,  50.        ,\n",
       "        56.54509471,  80.        ,   2.40599378])"
      ]
     },
     "execution_count": 30,
     "metadata": {},
     "output_type": "execute_result"
    }
   ],
   "source": [
    "sol.sol"
   ]
  },
  {
   "cell_type": "code",
   "execution_count": 31,
   "metadata": {},
   "outputs": [
    {
     "data": {
      "text/plain": [
       "array([[1375.07430025]])"
      ]
     },
     "execution_count": 31,
     "metadata": {},
     "output_type": "execute_result"
    }
   ],
   "source": [
    "sol.obj"
   ]
  },
  {
   "cell_type": "code",
   "execution_count": 32,
   "metadata": {},
   "outputs": [
    {
     "data": {
      "text/plain": [
       "array([[1375.07430025]])"
      ]
     },
     "execution_count": 32,
     "metadata": {},
     "output_type": "execute_result"
    }
   ],
   "source": [
    "solution.evaluate_objective(numpy.array([0.5,0.8,0.5]).reshape(-1,1))"
   ]
  },
  {
   "cell_type": "code",
   "execution_count": 33,
   "metadata": {},
   "outputs": [
    {
     "name": "stdout",
     "output_type": "stream",
     "text": [
      "Dictionary saved to solution.pickle\n"
     ]
    }
   ],
   "source": [
    "import pickle\n",
    "\n",
    "# Create a sample dictionary\n",
    "my_dict = solution\n",
    "\n",
    "# Specify the file name for the pickle file\n",
    "file_name = \"solution.pickle\"\n",
    "\n",
    "# Open the file in binary write mode\n",
    "with open(file_name, 'wb') as file:\n",
    "    # Dump the dictionary into the pickle file\n",
    "    pickle.dump(my_dict, file)\n",
    "\n",
    "print(f\"Dictionary saved to {file_name}\")"
   ]
  },
  {
   "cell_type": "code",
   "execution_count": 34,
   "metadata": {},
   "outputs": [
    {
     "name": "stdout",
     "output_type": "stream",
     "text": [
      "11\n"
     ]
    }
   ],
   "source": [
    "sol\n",
    "# ds = 20\n",
    "# coordinates = []\n",
    "# from itertools import product\n",
    "# for i,j,k,l in product(numpy.linspace(0, 1, ds), numpy.linspace(0, 1, ds), numpy.linspace(0, 1, ds), numpy.linspace(0, 1, ds)):\n",
    "#     m = solution.evaluate_objective(numpy.array([[i], [j], [k], [l]]))\n",
    "#     if m is not None:\n",
    "#         coordinates.append((i, j, k, l, m[0][0]))# \n",
    "print(solution.program.num_x())"
   ]
  },
  {
   "cell_type": "code",
   "execution_count": 35,
   "metadata": {},
   "outputs": [],
   "source": [
    "# import matplotlib.pyplot as plt\n",
    "# from mpl_toolkits.mplot3d import Axes3D\n",
    "# import numpy as np\n",
    "\n",
    "# # Sample data in 5D: (x, y, z, size, color)\n",
    "# x = [coordinates[i][0] for i in range(len(coordinates))]\n",
    "# y = [coordinates[i][1] for i in range(len(coordinates))]\n",
    "# z = [coordinates[i][2] for i in range(len(coordinates))]\n",
    "# size = [coordinates[i][4] for i in range(len(coordinates))]\n",
    "# size = min_max(size)\n",
    "# color = [coordinates[i][3] for i in range(len(coordinates))]\n",
    "\n",
    "\n",
    "# fig = plt.figure()\n",
    "# ax = fig.add_subplot(111, projection='3d')\n",
    "\n",
    "# # Scatter plot with color mapping\n",
    "# sc = ax.scatter(x, y, z, c=color, s=[i*50 for i in size], cmap='viridis', alpha=0.8)\n",
    "# fig.colorbar(sc, ax=ax, label='Fifth Dimension')\n",
    "\n",
    "# ax.set_xlabel('X')\n",
    "# ax.set_ylabel('Y')\n",
    "# ax.set_zlabel('Z')\n",
    "\n",
    "# plt.show()"
   ]
  },
  {
   "cell_type": "code",
   "execution_count": 36,
   "metadata": {},
   "outputs": [],
   "source": [
    "ds = 20\n",
    "coordinates = []\n",
    "from itertools import product\n",
    "for i,j,k in product(numpy.linspace(0, 1, ds), numpy.linspace(0, 1, ds), numpy.linspace(0, 1, ds)):\n",
    "    l = solution.evaluate_objective(numpy.array([[i], [j], [k]]))\n",
    "    if l is not None:\n",
    "        coordinates.append((i, j, k, l[0][0]))\n",
    "    # else:\n",
    "        # coordinates.append((i, j, k, None))"
   ]
  },
  {
   "attachments": {},
   "cell_type": "markdown",
   "metadata": {},
   "source": [
    "Unique solutions"
   ]
  },
  {
   "cell_type": "code",
   "execution_count": 37,
   "metadata": {},
   "outputs": [
    {
     "data": {
      "image/png": "[encoded data removed]",
      "text/plain": [
       "<Figure size 800x600 with 2 Axes>"
      ]
     },
     "metadata": {},
     "output_type": "display_data"
    }
   ],
   "source": [
    "import matplotlib.pyplot as plt\n",
    "from mpl_toolkits.mplot3d import Axes3D\n",
    "from matplotlib import cm\n",
    "\n",
    "# Sample data: (x, y, z, color_value)\n",
    "data = coordinates\n",
    "fig = plt.figure(figsize= (8,6))\n",
    "ax = fig.add_subplot(111, projection='3d')\n",
    "\n",
    "x_vals, y_vals, z_vals, color_vals = zip(*data)\n",
    "\n",
    "# Use color map to convert the color_value to a color\n",
    "# norm = plt.Normalize(min(color_vals), max(color_vals))\n",
    "# colors = cm.viridis(norm(color_vals))\n",
    "colors = cm.viridis(color_vals)\n",
    "\n",
    "\n",
    "scatter = ax.scatter(x_vals, y_vals, z_vals, c=color_vals, cmap='plasma', s=15)\n",
    "\n",
    "# Add a color bar to show the mapping of color values\n",
    "cbar = fig.colorbar(scatter, ax=ax, pad=0.1)\n",
    "cbar.set_label('Objective Value')\n",
    "\n",
    "# ax.set_ylim(ax.get_xlim()[::-1])\n",
    "# ax.set_ylim(ax.get_ylim()[::-1])\n",
    "# ax.set_ylim(ax.get_zlim()[::-1])\n",
    "\n",
    "# ax.zorder = \n",
    "ax.set_xlim(0, 1)\n",
    "ax.set_ylim(0, 1)\n",
    "ax.set_zlim(0, 1)\n",
    "\n",
    "ax.set_xlabel('Power Demand')\n",
    "ax.set_ylabel('Solar PV capacity')\n",
    "ax.set_zlabel('Wind Farm capacity')\n",
    "ax.view_init(elev=30, azim=110)\n",
    "ax.zaxis.labelpad=-1\n",
    "plt.tight_layout()\n",
    "plt.show()\n"
   ]
  },
  {
   "cell_type": "code",
   "execution_count": 38,
   "metadata": {},
   "outputs": [],
   "source": [
    "# coordinates_meet = []\n",
    "# coordinates_dontmeet = []\n",
    "# for i,j,k in zip(demand['COAST'], solar['PV_Power'], wind['feedin_power_plant']):\n",
    "#     l = solution.evaluate_objective(numpy.array([[i], [j], [k]]))\n",
    "#     if l is not None:\n",
    "#         coordinates_meet.append((i, j, k, l[0][0]))\n",
    "#     else:\n",
    "#         coordinates_meet.append((i, j, k, 0))\n",
    "# objective = [i[3] for i in coordinates_meet]\n",
    "# objective_null = [i[3] for i in coordinates_dontmeet]\n",
    "# plt.plot(objective)\n",
    "# # plt.plot(objective_null)\n",
    "# plt.show()\n",
    "# # plt.plot(demand)"
   ]
  },
  {
   "cell_type": "code",
   "execution_count": 39,
   "metadata": {},
   "outputs": [
    {
     "name": "stdout",
     "output_type": "stream",
     "text": [
      "$$\\min_{x}\\left[\\begin{matrix}0\\\\0\\\\0\\\\0.01\\\\0\\\\0\\\\12.0\\\\0\\\\11.0\\\\9.0\\\\13.0\\end{matrix}\\right]^T\\left[\\begin{matrix}x_{0}\\\\x_{1}\\\\x_{2}\\\\x_{3}\\\\x_{4}\\\\x_{5}\\\\x_{6}\\\\x_{7}\\\\x_{8}\\\\x_{9}\\\\x_{10}\\end{matrix}\\right]$$\n",
      "$$\\left[\\begin{matrix}0 & -1.0 & 0 & 0 & 0 & 0 & 0 & 0 & 0 & 0 & 0\\\\0 & 0 & -0.01 & 0 & 0 & 0 & 0 & 0 & 0 & 0 & 0\\\\0 & 0 & 0 & 0 & 1.0 & 0 & 0 & 0 & 0 & 0 & 0\\\\0 & 0 & 0 & 0 & 0 & 1.0 & 0 & 0 & 0 & 0 & 0\\\\0 & 0 & 0 & 0 & 0 & 0 & 1.0 & 0 & 0 & 0 & 0\\\\0 & 0 & 0 & 0 & 0 & 0 & 0 & 1.0 & 0 & 0 & 0\\\\0 & 0 & 0 & 0 & 0 & 0 & 0 & 0 & 1.0 & 0 & 0\\\\0 & 0 & 0 & 0 & 0 & 0 & 0 & 0 & 0 & 0.01 & 0\\\\0 & 0 & 0 & 0 & 0 & 0 & 0 & 0 & 0 & 0 & 0.01\\\\-1.0 & 0 & 0 & 0 & 0 & 0 & 0 & 0 & 0 & 0 & 0\\\\0 & 0 & 0 & 0 & -1.0 & 0 & 0 & 0 & 0 & 0 & 0\\\\0 & 0 & 0 & 0 & 0 & -1.0 & 0 & 0 & 0 & 0 & 0\\\\0 & 0 & 0 & 0 & 0 & 0 & -1.0 & 0 & 0 & 0 & 0\\\\0 & 0 & 0 & 0 & 0 & 0 & 0 & -1.0 & 0 & 0 & 0\\\\0 & 0 & 0 & 0 & 0 & 0 & 0 & 0 & 0 & -1.0 & 0\\\\0 & 0 & 0 & 0 & 0 & 0 & 0 & 0 & 0 & 0 & -1.0\\end{matrix}\\right]\\left[\\begin{matrix}x_{0}\\\\x_{1}\\\\x_{2}\\\\x_{3}\\\\x_{4}\\\\x_{5}\\\\x_{6}\\\\x_{7}\\\\x_{8}\\\\x_{9}\\\\x_{10}\\end{matrix}\\right]\\leq\\left[\\begin{matrix}-20.0\\\\0\\\\100.0\\\\100.0\\\\50.0\\\\50.0\\\\100.0\\\\0\\\\0\\\\0\\\\0\\\\0\\\\0\\\\0\\\\0\\\\0\\end{matrix}\\right]+\\left[\\begin{matrix}0 & 0 & 0\\\\-1.0 & 0 & 0\\\\0 & 0 & 0\\\\0 & 0 & 0\\\\0 & 0 & 0\\\\0 & 0 & 0\\\\0 & 0 & 0\\\\0 & 1.0 & 0\\\\0 & 0 & 1.0\\\\0 & 0 & 0\\\\0 & 0 & 0\\\\0 & 0 & 0\\\\0 & 0 & 0\\\\0 & 0 & 0\\\\0 & 0 & 0\\\\0 & 0 & 0\\end{matrix}\\right]\\left[\\begin{matrix}\\theta_{0}\\\\\\theta_{1}\\\\\\theta_{2}\\end{matrix}\\right]$$\n",
      "$$\\left[\\begin{matrix}0.5774 & 0 & 0 & 0 & 0 & 0 & 0.5774 & -0.5774 & 0 & 0 & 0\\\\0 & -0.9428 & 0 & 0 & 0 & 0 & 0 & 0 & 0.3335 & 0 & 0\\\\0 & 0 & -0.4438 & 0 & 0 & 0 & -0.4438 & 0.395 & -0.4438 & 0.3329 & 0.3772\\\\0 & 0 & 0 & 0.2996 & 0 & 0 & 0 & 0 & -0.954 & 0 & 0\\\\0 & 0 & 0 & 0 & 0.7071 & 0 & 0 & 0 & 0 & -0.7071 & 0\\\\0 & 0 & 0 & 0 & 0 & 0.7071 & 0 & 0 & 0 & 0 & -0.7071\\end{matrix}\\right]\\left[\\begin{matrix}x_{0}\\\\x_{1}\\\\x_{2}\\\\x_{3}\\\\x_{4}\\\\x_{5}\\\\x_{6}\\\\x_{7}\\\\x_{8}\\\\x_{9}\\\\x_{10}\\end{matrix}\\right]=\\left[\\begin{matrix}0\\\\0\\\\0\\\\0\\\\0\\\\0\\end{matrix}\\right]+\\left[\\begin{matrix}0 & 0 & 0\\\\0 & 0 & 0\\\\0 & 0 & 0\\\\0 & 0 & 0\\\\0 & 0 & 0\\\\0 & 0 & 0\\end{matrix}\\right]\\left[\\begin{matrix}\\theta_{0}\\\\\\theta_{1}\\\\\\theta_{2}\\end{matrix}\\right]$$\n",
      "$$\\left[\\begin{matrix}1.0 & 0 & 0\\\\0 & 1.0 & 0\\\\0 & 0 & 1.0\\\\-1.0 & 0 & 0\\\\0 & -1.0 & 0\\\\0 & 0 & -1.0\\end{matrix}\\right]\\left[\\begin{matrix}\\theta_{0}\\\\\\theta_{1}\\\\\\theta_{2}\\end{matrix}\\right]\\leq\\left[\\begin{matrix}1.0\\\\1.0\\\\1.0\\\\-0.3492\\\\0\\\\0\\end{matrix}\\right]$$\n"
     ]
    }
   ],
   "source": [
    "solution.program.display_latex()"
   ]
  },
  {
   "attachments": {},
   "cell_type": "markdown",
   "metadata": {},
   "source": [
    "$$\\min_{x}\\left[\\begin{matrix}0\\\\0\\\\0\\\\0.01\\\\0\\\\0\\\\12.0\\\\0\\\\11.0\\\\9.0\\\\13.0\\end{matrix}\\right]^T\\left[\\begin{matrix}x_{0}\\\\x_{1}\\\\x_{2}\\\\x_{3}\\\\x_{4}\\\\x_{5}\\\\x_{6}\\\\x_{7}\\\\x_{8}\\\\x_{9}\\\\x_{10}\\end{matrix}\\right]$$\n",
    "$$\\left[\\begin{matrix}0 & -1.0 & 0 & 0 & 0 & 0 & 0 & 0 & 0 & 0 & 0\\\\0 & 0 & -0.01 & 0 & 0 & 0 & 0 & 0 & 0 & 0 & 0\\\\0 & 0 & 0 & 0 & 1.0 & 0 & 0 & 0 & 0 & 0 & 0\\\\0 & 0 & 0 & 0 & 0 & 1.0 & 0 & 0 & 0 & 0 & 0\\\\0 & 0 & 0 & 0 & 0 & 0 & 1.0 & 0 & 0 & 0 & 0\\\\0 & 0 & 0 & 0 & 0 & 0 & 0 & 1.0 & 0 & 0 & 0\\\\0 & 0 & 0 & 0 & 0 & 0 & 0 & 0 & 1.0 & 0 & 0\\\\0 & 0 & 0 & 0 & 0 & 0 & 0 & 0 & 0 & 0.01 & 0\\\\0 & 0 & 0 & 0 & 0 & 0 & 0 & 0 & 0 & 0 & 0.01\\\\-1.0 & 0 & 0 & 0 & 0 & 0 & 0 & 0 & 0 & 0 & 0\\\\0 & 0 & 0 & 0 & -1.0 & 0 & 0 & 0 & 0 & 0 & 0\\\\0 & 0 & 0 & 0 & 0 & -1.0 & 0 & 0 & 0 & 0 & 0\\\\0 & 0 & 0 & 0 & 0 & 0 & -1.0 & 0 & 0 & 0 & 0\\\\0 & 0 & 0 & 0 & 0 & 0 & 0 & -1.0 & 0 & 0 & 0\\\\0 & 0 & 0 & 0 & 0 & 0 & 0 & 0 & 0 & -1.0 & 0\\\\0 & 0 & 0 & 0 & 0 & 0 & 0 & 0 & 0 & 0 & -1.0\\end{matrix}\\right]\\left[\\begin{matrix}x_{0}\\\\x_{1}\\\\x_{2}\\\\x_{3}\\\\x_{4}\\\\x_{5}\\\\x_{6}\\\\x_{7}\\\\x_{8}\\\\x_{9}\\\\x_{10}\\end{matrix}\\right]\\leq\\left[\\begin{matrix}-20.0\\\\0\\\\100.0\\\\100.0\\\\50.0\\\\50.0\\\\100.0\\\\0\\\\0\\\\0\\\\0\\\\0\\\\0\\\\0\\\\0\\\\0\\end{matrix}\\right]+\\left[\\begin{matrix}0 & 0 & 0\\\\-1.0 & 0 & 0\\\\0 & 0 & 0\\\\0 & 0 & 0\\\\0 & 0 & 0\\\\0 & 0 & 0\\\\0 & 0 & 0\\\\0 & 1.0 & 0\\\\0 & 0 & 1.0\\\\0 & 0 & 0\\\\0 & 0 & 0\\\\0 & 0 & 0\\\\0 & 0 & 0\\\\0 & 0 & 0\\\\0 & 0 & 0\\\\0 & 0 & 0\\end{matrix}\\right]\\left[\\begin{matrix}\\theta_{0}\\\\\\theta_{1}\\\\\\theta_{2}\\end{matrix}\\right]$$\n",
    "$$\\left[\\begin{matrix}0.5774 & 0 & 0 & 0 & 0 & 0 & 0.5774 & -0.5774 & 0 & 0 & 0\\\\0 & -0.9428 & 0 & 0 & 0 & 0 & 0 & 0 & 0.3335 & 0 & 0\\\\0 & 0 & -0.4438 & 0 & 0 & 0 & -0.4438 & 0.395 & -0.4438 & 0.3329 & 0.3772\\\\0 & 0 & 0 & 0.2996 & 0 & 0 & 0 & 0 & -0.954 & 0 & 0\\\\0 & 0 & 0 & 0 & 0.7071 & 0 & 0 & 0 & 0 & -0.7071 & 0\\\\0 & 0 & 0 & 0 & 0 & 0.7071 & 0 & 0 & 0 & 0 & -0.7071\\end{matrix}\\right]\\left[\\begin{matrix}x_{0}\\\\x_{1}\\\\x_{2}\\\\x_{3}\\\\x_{4}\\\\x_{5}\\\\x_{6}\\\\x_{7}\\\\x_{8}\\\\x_{9}\\\\x_{10}\\end{matrix}\\right]=\\left[\\begin{matrix}0\\\\0\\\\0\\\\0\\\\0\\\\0\\end{matrix}\\right]+\\left[\\begin{matrix}0 & 0 & 0\\\\0 & 0 & 0\\\\0 & 0 & 0\\\\0 & 0 & 0\\\\0 & 0 & 0\\\\0 & 0 & 0\\end{matrix}\\right]\\left[\\begin{matrix}\\theta_{0}\\\\\\theta_{1}\\\\\\theta_{2}\\end{matrix}\\right]$$\n",
    "$$\\left[\\begin{matrix}1.0 & 0 & 0\\\\0 & 1.0 & 0\\\\0 & 0 & 1.0\\\\-1.0 & 0 & 0\\\\0 & -1.0 & 0\\\\0 & 0 & -1.0\\end{matrix}\\right]\\left[\\begin{matrix}\\theta_{0}\\\\\\theta_{1}\\\\\\theta_{2}\\end{matrix}\\right]\\leq\\left[\\begin{matrix}1.0\\\\1.0\\\\1.0\\\\-0.3492\\\\0\\\\0\\end{matrix}\\right]$$"
   ]
  },
  {
   "attachments": {},
   "cell_type": "markdown",
   "metadata": {},
   "source": [
    "solution.program"
   ]
  },
  {
   "cell_type": "code",
   "execution_count": 40,
   "metadata": {},
   "outputs": [],
   "source": [
    "solution.critical_regions[0].A[numpy.abs(solution.critical_regions[0].A) < 10**(-3)] = 0\n",
    "solution.critical_regions[0].b[numpy.abs(solution.critical_regions[0].b) < 10**(-3)] = 0\n",
    "solution.critical_regions[0].C[numpy.abs(solution.critical_regions[0].C) < 10**(-3)] = 0\n",
    "solution.critical_regions[0].d[numpy.abs(solution.critical_regions[0].d) < 10**(-3)] = 0\n",
    "solution.critical_regions[0].E[numpy.abs(solution.critical_regions[0].E) < 10**(-3)] = 0\n",
    "solution.critical_regions[0].f[numpy.abs(solution.critical_regions[0].f) < 10**(-3)] = 0\n",
    "\n",
    "\n",
    "solution.critical_regions[1].A[numpy.abs(solution.critical_regions[1].A) < 10**(-3)] = 0\n",
    "solution.critical_regions[1].b[numpy.abs(solution.critical_regions[1].b) < 10**(-3)] = 0\n",
    "solution.critical_regions[1].C[numpy.abs(solution.critical_regions[1].C) < 10**(-3)] = 0\n",
    "solution.critical_regions[1].d[numpy.abs(solution.critical_regions[1].d) < 10**(-3)] = 0\n",
    "solution.critical_regions[1].E[numpy.abs(solution.critical_regions[1].E) < 10**(-3)] = 0\n",
    "solution.critical_regions[1].f[numpy.abs(solution.critical_regions[1].f) < 10**(-3)] = 0\n",
    "\n",
    "# solution.critical_regions[2].A[numpy.abs(solution.critical_regions[2].A) < 10**(-3)] = 0\n",
    "# solution.critical_regions[2].b[numpy.abs(solution.critical_regions[2].b) < 10**(-3)] = 0\n",
    "# solution.critical_regions[2].C[numpy.abs(solution.critical_regions[2].C) < 10**(-3)] = 0\n",
    "# solution.critical_regions[2].d[numpy.abs(solution.critical_regions[2].d) < 10**(-3)] = 0\n",
    "# solution.critical_regions[2].E[numpy.abs(solution.critical_regions[2].E) < 10**(-3)] = 0\n",
    "# solution.critical_regions[2].f[numpy.abs(solution.critical_regions[2].f) < 10**(-3)] = 0"
   ]
  },
  {
   "cell_type": "code",
   "execution_count": 41,
   "metadata": {},
   "outputs": [],
   "source": [
    "# solution.critical_regions[0]"
   ]
  },
  {
   "cell_type": "code",
   "execution_count": 42,
   "metadata": {},
   "outputs": [],
   "source": [
    "cr = 0\n",
    "# Create a NumPy array matrix\n",
    "A = solution.critical_regions[cr].A\n",
    "b = solution.critical_regions[cr].b\n",
    "C = solution.critical_regions[cr].C\n",
    "d = solution.critical_regions[cr].d\n",
    "E = solution.critical_regions[cr].E\n",
    "f = solution.critical_regions[cr].f\n",
    "\n",
    "\n",
    "# Create symbolic variables\n",
    "t1, t2, t3 = sympy.symbols('θ1 θ2 θ3')\n",
    "\n",
    "# Convert the NumPy array to a SymPy Matrix\n",
    "# sympy_matrix = \n",
    "\n",
    "# Multiply the symbolic variables with the SymPy Matrix\n",
    "x = sympy.Matrix(A) * sympy.Matrix([[t1], [t2], [t3]]) + sympy.Matrix(b)\n",
    "l = sympy.Matrix(C) * sympy.Matrix([[t1], [t2], [t3]]) + sympy.Matrix(d)\n",
    "Cr = sympy.Matrix(E) * sympy.Matrix([[t1], [t2], [t3]]) - sympy.Matrix(f)\n",
    "\n",
    "Cr_eq = sympy.Eq(sympy.Matrix(E) * sympy.Matrix([[t1], [t2], [t3]]), sympy.Matrix(f))\n",
    "\n",
    "# print(x)\n",
    "# print(l)\n",
    "# # print(Cr)\n",
    "# print(Cr_eq)"
   ]
  },
  {
   "cell_type": "code",
   "execution_count": 43,
   "metadata": {},
   "outputs": [
    {
     "data": {
      "text/latex": [
       "$\\displaystyle \\left[\\begin{matrix}0 & 0 & 0\\\\0 & 0 & 0\\\\100.000000000002 & 0 & 0\\\\0 & 0 & 0\\\\0 & 99.9999999999995 & 0\\\\117.647058823531 & -88.235294117647 & 0\\\\0 & 0 & 0\\\\0 & 0 & 0\\\\0 & 0 & 0\\\\0 & 99.9999999999996 & 0\\\\117.647058823531 & -88.235294117647 & 0\\end{matrix}\\right]$"
      ],
      "text/plain": [
       "Matrix([\n",
       "[               0,                0, 0],\n",
       "[               0,                0, 0],\n",
       "[100.000000000002,                0, 0],\n",
       "[               0,                0, 0],\n",
       "[               0, 99.9999999999995, 0],\n",
       "[117.647058823531, -88.235294117647, 0],\n",
       "[               0,                0, 0],\n",
       "[               0,                0, 0],\n",
       "[               0,                0, 0],\n",
       "[               0, 99.9999999999996, 0],\n",
       "[117.647058823531, -88.235294117647, 0]])"
      ]
     },
     "execution_count": 43,
     "metadata": {},
     "output_type": "execute_result"
    }
   ],
   "source": [
    "sympy.Matrix(A)"
   ]
  },
  {
   "cell_type": "code",
   "execution_count": 44,
   "metadata": {},
   "outputs": [
    {
     "data": {
      "text/latex": [
       "$\\displaystyle \\left[\\begin{matrix}1529.4117647059 θ_{1} - 247.058823529415 θ_{2} + 808.015476724886\\end{matrix}\\right]$"
      ],
      "text/plain": [
       "Matrix([[1529.4117647059*θ1 - 247.058823529415*θ2 + 808.015476724886]])"
      ]
     },
     "execution_count": 44,
     "metadata": {},
     "output_type": "execute_result"
    }
   ],
   "source": [
    "sympy.Matrix(solution.program.c).T*(sympy.Matrix(A)*sympy.Matrix([[t1], [t2], [t3]])) + sympy.Matrix(solution.program.c).T*sympy.Matrix(b)"
   ]
  },
  {
   "cell_type": "code",
   "execution_count": 45,
   "metadata": {},
   "outputs": [
    {
     "data": {
      "text/latex": [
       "$\\displaystyle \\left[\\begin{matrix}1529.4117647059 θ_{1} - 247.058823529415 θ_{2} + 808.015476724886\\end{matrix}\\right]$"
      ],
      "text/plain": [
       "Matrix([[1529.4117647059*θ1 - 247.058823529415*θ2 + 808.015476724886]])"
      ]
     },
     "execution_count": 45,
     "metadata": {},
     "output_type": "execute_result"
    }
   ],
   "source": [
    "sympy.Matrix(solution.program.c).T*(sympy.Matrix(A)*sympy.Matrix([[t1], [t2], [t3]])) + sympy.Matrix(solution.program.c).T*sympy.Matrix(b)"
   ]
  },
  {
   "cell_type": "code",
   "execution_count": 46,
   "metadata": {},
   "outputs": [
    {
     "data": {
      "text/plain": [
       "(array([[ 0.        ,  1.        ,  0.        ],\n",
       "        [ 0.8       , -0.6       ,  0.        ],\n",
       "        [ 0.6615412 , -0.4961559 , -0.56231002],\n",
       "        [ 0.        , -1.        ,  0.        ],\n",
       "        [-0.8       ,  0.6       ,  0.        ],\n",
       "        [ 0.        , -1.        ,  0.        ],\n",
       "        [-0.8       ,  0.6       ,  0.        ],\n",
       "        [ 1.        ,  0.        ,  0.        ],\n",
       "        [ 0.        ,  1.        ,  0.        ],\n",
       "        [ 0.        ,  0.        ,  1.        ],\n",
       "        [-1.        ,  0.        ,  0.        ],\n",
       "        [ 0.        , -1.        ,  0.        ],\n",
       "        [ 0.        ,  0.        , -1.        ]]),\n",
       " array([[ 1.        ],\n",
       "        [ 0.58363924],\n",
       "        [-0.07968326],\n",
       "        [ 0.        ],\n",
       "        [ 0.09636076],\n",
       "        [ 0.        ],\n",
       "        [ 0.09636076],\n",
       "        [ 1.        ],\n",
       "        [ 1.        ],\n",
       "        [ 1.        ],\n",
       "        [-0.34919805],\n",
       "        [ 0.        ],\n",
       "        [ 0.        ]]))"
      ]
     },
     "execution_count": 46,
     "metadata": {},
     "output_type": "execute_result"
    }
   ],
   "source": [
    "solution.critical_regions[0].E, solution.critical_regions[0].f"
   ]
  },
  {
   "cell_type": "code",
   "execution_count": 47,
   "metadata": {},
   "outputs": [
    {
     "data": {
      "text/plain": [
       "(array([[ 0.        ,  1.        ,  0.        ],\n",
       "        [ 0.8       , -0.6       ,  0.        ],\n",
       "        [ 0.6615412 , -0.4961559 , -0.56231002],\n",
       "        [ 0.        , -1.        ,  0.        ],\n",
       "        [-0.8       ,  0.6       ,  0.        ],\n",
       "        [ 0.        , -1.        ,  0.        ],\n",
       "        [-0.8       ,  0.6       ,  0.        ],\n",
       "        [ 1.        ,  0.        ,  0.        ],\n",
       "        [ 0.        ,  1.        ,  0.        ],\n",
       "        [ 0.        ,  0.        ,  1.        ],\n",
       "        [-1.        ,  0.        ,  0.        ],\n",
       "        [ 0.        , -1.        ,  0.        ],\n",
       "        [ 0.        ,  0.        , -1.        ]]),\n",
       " array([[ 1.        ],\n",
       "        [ 0.58363924],\n",
       "        [-0.07968326],\n",
       "        [ 0.        ],\n",
       "        [ 0.09636076],\n",
       "        [ 0.        ],\n",
       "        [ 0.09636076],\n",
       "        [ 1.        ],\n",
       "        [ 1.        ],\n",
       "        [ 1.        ],\n",
       "        [-0.34919805],\n",
       "        [ 0.        ],\n",
       "        [ 0.        ]]))"
      ]
     },
     "execution_count": 47,
     "metadata": {},
     "output_type": "execute_result"
    }
   ],
   "source": [
    "solution.critical_regions[0].E, solution.critical_regions[0].f "
   ]
  },
  {
   "cell_type": "code",
   "execution_count": 48,
   "metadata": {},
   "outputs": [
    {
     "data": {
      "text/plain": [
       "(array([[ 1. ,  0. ,  0. ],\n",
       "        [ 0.8, -0.6,  0. ],\n",
       "        [ 0. ,  0. , -1. ],\n",
       "        [ 0. ,  1. ,  0. ],\n",
       "        [ 0. ,  0. ,  1. ],\n",
       "        [-1. ,  0. ,  0. ],\n",
       "        [ 0. ,  0. , -1. ]]),\n",
       " array([[ 0.62954905],\n",
       "        [-0.09636076],\n",
       "        [ 0.        ],\n",
       "        [ 1.        ],\n",
       "        [ 1.        ],\n",
       "        [-0.34919805],\n",
       "        [ 0.        ]]))"
      ]
     },
     "execution_count": 48,
     "metadata": {},
     "output_type": "execute_result"
    }
   ],
   "source": [
    "solution.critical_regions[1].E, solution.critical_regions[1].f "
   ]
  },
  {
   "cell_type": "code",
   "execution_count": 49,
   "metadata": {},
   "outputs": [],
   "source": [
    "# from pyomo.environ import *"
   ]
  },
  {
   "cell_type": "code",
   "execution_count": 50,
   "metadata": {},
   "outputs": [],
   "source": [
    "# bi = ConcreteModel"
   ]
  },
  {
   "cell_type": "code",
   "execution_count": 51,
   "metadata": {},
   "outputs": [],
   "source": [
    "# bi.theta1 = "
   ]
  },
  {
   "cell_type": "code",
   "execution_count": 52,
   "metadata": {},
   "outputs": [],
   "source": [
    "p = solution.program\n",
    "\n",
    "A_eq = p.A[0:p.num_equality_constraints()]"
   ]
  },
  {
   "cell_type": "code",
   "execution_count": 53,
   "metadata": {},
   "outputs": [
    {
     "data": {
      "text/plain": [
       "False"
      ]
     },
     "execution_count": 53,
     "metadata": {},
     "output_type": "execute_result"
    }
   ],
   "source": [
    "# from ppopt.utils.general_utils import is_full_rank\n",
    "\n",
    "p.check_active_set_rank([0,1,2,3,4,5,7,12,14,21])"
   ]
  },
  {
   "cell_type": "code",
   "execution_count": 54,
   "metadata": {},
   "outputs": [
    {
     "data": {
      "text/plain": [
       "array([[ 1.07060922e+02],\n",
       "       [ 3.53700000e+01],\n",
       "       [ 5.00000000e+01],\n",
       "       [ 3.18390000e+02],\n",
       "       [ 6.37267394e+01],\n",
       "       [ 4.99900020e-03],\n",
       "       [-6.28770496e+01],\n",
       "       [ 4.41838727e+01],\n",
       "       [ 1.00000000e+02],\n",
       "       [ 6.37267394e+01],\n",
       "       [ 4.99900020e-03]])"
      ]
     },
     "execution_count": 54,
     "metadata": {},
     "output_type": "execute_result"
    }
   ],
   "source": [
    "from ppopt.utils.mpqp_utils import gen_cr_from_active_set\n",
    "\n",
    "cr = gen_cr_from_active_set(p, [0,1,2,3,4,5,7,12,14,21], False)\n",
    "cr.evaluate(theta=theta)"
   ]
  },
  {
   "cell_type": "code",
   "execution_count": 55,
   "metadata": {},
   "outputs": [
    {
     "data": {
      "text/plain": [
       "Index(['Inv_LiI_Power_stored', 'Sf_H2', 'S_Power', 'Af_H2O', 'Af_Solar',\n",
       "       'Af_Wind', 'Pf_LiI', 'Pf_LiI_discharge', 'Pf_PEM', 'P_PV', 'P_WF'],\n",
       "      dtype='object')"
      ]
     },
     "execution_count": 55,
     "metadata": {},
     "output_type": "execute_result"
    }
   ],
   "source": [
    "example.c_df.index"
   ]
  },
  {
   "cell_type": "code",
   "execution_count": 56,
   "metadata": {},
   "outputs": [],
   "source": [
    "sol = pandas.DataFrame(p.solve_theta(theta).sol)\n",
    "sol.index = example.c_df.index"
   ]
  },
  {
   "cell_type": "code",
   "execution_count": 57,
   "metadata": {},
   "outputs": [
    {
     "data": {
      "text/plain": [
       "array([[1375.07430025]])"
      ]
     },
     "execution_count": 57,
     "metadata": {},
     "output_type": "execute_result"
    }
   ],
   "source": [
    "p.solve_theta(theta).obj"
   ]
  },
  {
   "cell_type": "code",
   "execution_count": 58,
   "metadata": {},
   "outputs": [
    {
     "data": {
      "text/html": [
       "<div>\n",
       "<style scoped>\n",
       "    .dataframe tbody tr th:only-of-type {\n",
       "        vertical-align: middle;\n",
       "    }\n",
       "\n",
       "    .dataframe tbody tr th {\n",
       "        vertical-align: top;\n",
       "    }\n",
       "\n",
       "    .dataframe thead th {\n",
       "        text-align: right;\n",
       "    }\n",
       "</style>\n",
       "<table border=\"1\" class=\"dataframe\">\n",
       "  <thead>\n",
       "    <tr style=\"text-align: right;\">\n",
       "      <th></th>\n",
       "      <th>0</th>\n",
       "    </tr>\n",
       "  </thead>\n",
       "  <tbody>\n",
       "    <tr>\n",
       "      <th>Inv_LiI_Power_stored</th>\n",
       "      <td>50.000000</td>\n",
       "    </tr>\n",
       "    <tr>\n",
       "      <th>Sf_H2</th>\n",
       "      <td>20.000000</td>\n",
       "    </tr>\n",
       "    <tr>\n",
       "      <th>S_Power</th>\n",
       "      <td>50.000000</td>\n",
       "    </tr>\n",
       "    <tr>\n",
       "      <th>Af_H2O</th>\n",
       "      <td>180.033927</td>\n",
       "    </tr>\n",
       "    <tr>\n",
       "      <th>Af_Solar</th>\n",
       "      <td>80.000000</td>\n",
       "    </tr>\n",
       "    <tr>\n",
       "      <th>Af_Wind</th>\n",
       "      <td>2.405994</td>\n",
       "    </tr>\n",
       "    <tr>\n",
       "      <th>Pf_LiI</th>\n",
       "      <td>0.000000</td>\n",
       "    </tr>\n",
       "    <tr>\n",
       "      <th>Pf_LiI_discharge</th>\n",
       "      <td>50.000000</td>\n",
       "    </tr>\n",
       "    <tr>\n",
       "      <th>Pf_PEM</th>\n",
       "      <td>56.545095</td>\n",
       "    </tr>\n",
       "    <tr>\n",
       "      <th>P_PV</th>\n",
       "      <td>80.000000</td>\n",
       "    </tr>\n",
       "    <tr>\n",
       "      <th>P_WF</th>\n",
       "      <td>2.405994</td>\n",
       "    </tr>\n",
       "  </tbody>\n",
       "</table>\n",
       "</div>"
      ],
      "text/plain": [
       "                               0\n",
       "Inv_LiI_Power_stored   50.000000\n",
       "Sf_H2                  20.000000\n",
       "S_Power                50.000000\n",
       "Af_H2O                180.033927\n",
       "Af_Solar               80.000000\n",
       "Af_Wind                 2.405994\n",
       "Pf_LiI                  0.000000\n",
       "Pf_LiI_discharge       50.000000\n",
       "Pf_PEM                 56.545095\n",
       "P_PV                   80.000000\n",
       "P_WF                    2.405994"
      ]
     },
     "execution_count": 58,
     "metadata": {},
     "output_type": "execute_result"
    }
   ],
   "source": [
    "sol"
   ]
  },
  {
   "cell_type": "code",
   "execution_count": 59,
   "metadata": {},
   "outputs": [
    {
     "data": {
      "text/plain": [
       "Critical region with active set [0, 1, 2, 3, 4, 5, 7, 12, 14, 21]\n",
       "The Omega Constraint indices are []\n",
       "The Lagrange multipliers Constraint indices are []\n",
       "The Regular Constraint indices are [[], []]\n",
       "  x(θ) = Aθ + b \n",
       " λ(θ) = Cθ + d \n",
       "  Eθ <= f\n",
       " A = [[ 7.13759701e+01  0.00000000e+00 -6.06574431e-03]\n",
       " [-2.44281504e-14  0.00000000e+00 -2.42482092e-18]\n",
       " [ 1.00000000e+02  0.00000000e+00 -2.57504904e-14]\n",
       " [ 5.26326341e-14  0.00000000e+00 -6.70911101e-17]\n",
       " [ 4.24856965e+01  0.00000000e+00 -3.61056209e-03]\n",
       " [ 1.33693148e-14  0.00000000e+00  9.99800040e-03]\n",
       " [-4.19192205e+01  0.00000000e+00  3.56242126e-03]\n",
       " [ 2.94567496e+01  0.00000000e+00 -2.50332305e-03]\n",
       " [-1.29192920e-15  0.00000000e+00 -9.83316793e-18]\n",
       " [ 4.24856965e+01  0.00000000e+00 -3.61056209e-03]\n",
       " [-2.16135739e-14  0.00000000e+00  9.99800040e-03]] \n",
       " b = [[ 7.13759701e+01]\n",
       " [ 3.53700000e+01]\n",
       " [ 2.19915529e-12]\n",
       " [ 3.18390000e+02]\n",
       " [ 4.24856965e+01]\n",
       " [-3.11160858e-14]\n",
       " [-4.19192205e+01]\n",
       " [ 2.94567496e+01]\n",
       " [ 1.00000000e+02]\n",
       " [ 4.24856965e+01]\n",
       " [ 0.00000000e+00]] \n",
       " C = [[0. 0. 0.]\n",
       " [0. 0. 0.]\n",
       " [0. 0. 0.]\n",
       " [0. 0. 0.]\n",
       " [0. 0. 0.]\n",
       " [0. 0. 0.]\n",
       " [0. 0. 0.]\n",
       " [0. 0. 0.]\n",
       " [0. 0. 0.]\n",
       " [0. 0. 0.]] \n",
       " d = [[-5.61157774e+00]\n",
       " [-2.04942074e-14]\n",
       " [ 2.71874791e+00]\n",
       " [-3.33724725e-02]\n",
       " [ 7.00385401e+00]\n",
       " [-1.01099857e-14]\n",
       " [-1.20665411e+02]\n",
       " [-9.82524522e+00]\n",
       " [-1.40235013e-01]\n",
       " [ 1.40242024e+01]] \n",
       " E = [] \n",
       " f = []"
      ]
     },
     "execution_count": 59,
     "metadata": {},
     "output_type": "execute_result"
    }
   ],
   "source": [
    "gen_cr_from_active_set(p, [0,1,2,3,4,5,7,12,14,21], False)"
   ]
  },
  {
   "cell_type": "code",
   "execution_count": 60,
   "metadata": {},
   "outputs": [],
   "source": [
    "theta_coeff_matrix = solution.critical_regions[1].E\n",
    "# theta_coeff_matrix = theta_coeff_matrix[~numpy.all(theta_coeff_matrix == 0, axis=1)]\n",
    "theta_rhs_matrix = solution.critical_regions[1].f \n"
   ]
  },
  {
   "cell_type": "code",
   "execution_count": null,
   "metadata": {},
   "outputs": [],
   "source": []
  },
  {
   "cell_type": "code",
   "execution_count": 61,
   "metadata": {},
   "outputs": [
    {
     "name": "stdout",
     "output_type": "stream",
     "text": [
      "The problem has the following variables:\n",
      "Resource inventory level (Inv) x 1\n",
      "Exact resource discharge (Sf) x 1\n",
      "Uncertain resource discharge (S) x 1\n",
      "Exact resource availability (Af) x 3\n",
      "Uncertain resource availability (A) x 0\n",
      "Exact resource price (Cf) x 3\n",
      "Uncertain resource price (C) x 0\n",
      "Exact process production (Pf) x 5\n",
      "Uncertain process production (P) x 0\n",
      " For a total of 11 (10 fixed, and 1 uncertain)\n"
     ]
    }
   ],
   "source": [
    "Solar = Resource(name='Solar', cons_max=100, basis='MW', label='Solar Power')\n",
    "\n",
    "Wind = Resource(name='Wind', cons_max=100, basis='MW', label='Wind Power')\n",
    "\n",
    "Power = Resource(name='Power', basis='MW', label='Power generated', varying = [VaryingResource.UNCERTAIN_DEMAND], varying_bounds  = (min(demand['COAST']), 1))\n",
    "\n",
    "# H2O = Resource(name='H2O', cons_max=100, basis='tons', label='Water', varying= [VaryingResource.UNCERTAIN_AVAILABILITY], varying_bounds= (0.3, 0.95))\n",
    "H2O = Resource(name='H2O', cons_max=500, basis='tons', label='Water', price = 0.01)\n",
    "\n",
    "O2 = Resource(name='O2', sell=True, basis='tons', label='Oxygen')\n",
    "\n",
    "H2 = Resource(name='H2', basis='tons', label='Hydrogen',demand= True) #, varying = [VaryingResource.UNCERTAIN_DEMAND], varying_bounds  = (0.6, 0.8))\n",
    "\n",
    "CH4 = Resource(name='CH4', cons_max=1000, price=0.345, basis='tons',\n",
    "               label='Natural gas', varying=[VaryingResource.UNCERTAIN_PRICE])\n",
    "\n",
    "LiI = Process(name='LiI', storage=Power, capex=1302, fopex=0, vopex=0,  prod_max=50,\n",
    "              storage_loss=0.11,  label='Lithium-ion battery', basis='MW', store_max=100)\n",
    "\n",
    "PEM = Process(name='PEM', conversion={Power: -1, H2: 0.3537, H2O: -3.1839}, capex=1550, fopex=0,\n",
    "              vopex=0, prod_max=100, prod_min = 0, basis = 'tons', label = 'PEM' )\n",
    "\n",
    "WF = Process(name='WF', conversion={Wind: -1, Power: 0.85}, capex=990, fopex=0, vopex=0,\n",
    "             prod_max=100, label='Wind mill array', basis='MW')#, varying=[VaryingProcess.UNCERTAIN_CAPACITY], varying_bounds = (0, 1))\n",
    "\n",
    "PV = Process(name='PV', conversion={Solar: -1, Power: 0.75}, capex=567, fopex=0, vopex=0,\n",
    "             prod_max=100, label='Solar PV', basis='MW')#, varying=[VaryingProcess.UNCERTAIN_CAPACITY], varying_bounds= (0, 1))\n",
    "\n",
    "NGCC = Process(name='NGCC', conversion={Power: 1, CH4: -0.108}, capex=2158928, fopex=53320, vopex=4090, prod_max=100, label='NGCC + 95% CC', varying_bounds= (0.6, 1))\n",
    "\n",
    "region = Location(name='region', processes={\n",
    "                  LiI, WF, PV, PEM}, scales=scales, label='some region')\n",
    "\n",
    "example = Scenario(name='example', demand={region: {Power:100, H2: 20}}, network=region, scales=scales, label='example scenario')\n",
    "# example = Scenario(name='example', demand={region: {Power: 200}}, network=region, scales=scales, label='example scenario')\n",
    "matrix = formulate(scenario=example, model_class=ModelClass.MPLP)\n",
    "\n"
   ]
  },
  {
   "cell_type": "code",
   "execution_count": 62,
   "metadata": {},
   "outputs": [],
   "source": [
    "prob_coeff_matrix = matrix['A']\n",
    "prob_rhs_matrix = matrix['b']"
   ]
  },
  {
   "cell_type": "code",
   "execution_count": 63,
   "metadata": {},
   "outputs": [
    {
     "data": {
      "text/plain": [
       "(28, 11)"
      ]
     },
     "execution_count": 63,
     "metadata": {},
     "output_type": "execute_result"
    }
   ],
   "source": [
    "prob_coeff_matrix.shape"
   ]
  },
  {
   "cell_type": "code",
   "execution_count": 64,
   "metadata": {},
   "outputs": [
    {
     "data": {
      "text/plain": [
       "(7, 3)"
      ]
     },
     "execution_count": 64,
     "metadata": {},
     "output_type": "execute_result"
    }
   ],
   "source": [
    "theta_coeff_matrix.shape"
   ]
  },
  {
   "cell_type": "code",
   "execution_count": 65,
   "metadata": {},
   "outputs": [],
   "source": [
    "import gurobipy as gp\n",
    "\n",
    "# Create a Gurobi model\n",
    "model = gp.Model()\n",
    "\n",
    "# Define your decision variables\n",
    "num_vars_x = len(theta_coeff_matrix[0])  # Number of variables\n",
    "variables_x = model.addVars(num_vars_x, name=\"x\")\n",
    "\n",
    "num_vars_y = len(prob_coeff_matrix[0])\n",
    "variables_y = model.addVars(num_vars_y, name= \"y\")\n",
    "\n",
    "# Define constraints based on the coefficient matrix and RHS constants\n",
    "num_constraints_x = theta_coeff_matrix.shape[0]  # Number of constraints\n",
    "\n",
    "for i in range(num_constraints_x):\n",
    "    lhs_expr = gp.LinExpr()\n",
    "    \n",
    "    # Iterate through the coefficients in the row\n",
    "    for j in range(num_vars_x):\n",
    "        lhs_expr.add(variables_x[j], theta_coeff_matrix[i][j])\n",
    "    \n",
    "    # Add the constraint to the model\n",
    "    model.addConstr(lhs_expr, gp.GRB.LESS_EQUAL, theta_rhs_matrix[i], name=f\"constraint_x{i}\")\n",
    "\n",
    "num_constraints_y = prob_coeff_matrix.shape[0]  # Number of constraints\n",
    "\n",
    "EQUAL = [gp.GRB.EQUAL]*matrix['no_eq_cons']\n",
    "LESS_EQUAL = [gp.GRB.LESS_EQUAL]*(prob_coeff_matrix.shape[0] - matrix['no_eq_cons'] - prob_coeff_matrix.shape[1] )\n",
    "EQUAL_NN = [gp.GRB.LESS_EQUAL]*prob_coeff_matrix.shape[1]\n",
    "SIGNS = EQUAL + LESS_EQUAL + EQUAL_NN\n",
    "\n",
    "for i in range(num_constraints_y):\n",
    "    lhs_expr = gp.LinExpr()\n",
    "    \n",
    "    # Iterate through the coefficients in the row\n",
    "    for j in range(num_vars_y):\n",
    "        lhs_expr.add(variables_y[j], prob_coeff_matrix[i][j])\n",
    "    \n",
    "    # Add the constraint to the model\n",
    "    model.addConstr(lhs_expr, SIGNS[i], prob_rhs_matrix[i], name=f\"constraint_y{i}\")\n",
    "\n",
    "\n",
    "objective_coeff_matrix = matrix['c']\n",
    "\n",
    "objective_expr = gp.LinExpr()\n",
    "\n",
    "for i in range(num_vars_y):\n",
    "    objective_expr.add(variables_y[i], objective_coeff_matrix[i])\n",
    "\n",
    "# Set the objective function\n",
    "model.setObjective(objective_expr, sense=gp.GRB.MINIMIZE)\n",
    "\n",
    "# Optionally, set an objective function\n",
    "# model.setObjective(model.x, sense=gp.GRB.MAXIMIZE)  # Set your objective function here\n",
    "\n",
    "# Solve the model\n",
    "# model.optimize()"
   ]
  },
  {
   "cell_type": "code",
   "execution_count": 66,
   "metadata": {},
   "outputs": [],
   "source": [
    "model.write(filename='multiparametric_lp.lp')"
   ]
  },
  {
   "cell_type": "code",
   "execution_count": 67,
   "metadata": {},
   "outputs": [],
   "source": [
    "# model.read(filename='multiparametric_lp.lp')"
   ]
  },
  {
   "cell_type": "code",
   "execution_count": 68,
   "metadata": {},
   "outputs": [
    {
     "data": {
      "text/plain": [
       "array([[ 1. ,  0. ,  0. ],\n",
       "       [ 0.8, -0.6,  0. ],\n",
       "       [ 0. ,  0. , -1. ],\n",
       "       [ 0. ,  1. ,  0. ],\n",
       "       [ 0. ,  0. ,  1. ],\n",
       "       [-1. ,  0. ,  0. ],\n",
       "       [ 0. ,  0. , -1. ]])"
      ]
     },
     "execution_count": 68,
     "metadata": {},
     "output_type": "execute_result"
    }
   ],
   "source": [
    "theta_coeff_matrix"
   ]
  },
  {
   "cell_type": "code",
   "execution_count": 69,
   "metadata": {},
   "outputs": [
    {
     "data": {
      "text/plain": [
       "567"
      ]
     },
     "execution_count": 69,
     "metadata": {},
     "output_type": "execute_result"
    }
   ],
   "source": [
    "PV.capex"
   ]
  },
  {
   "cell_type": "code",
   "execution_count": 70,
   "metadata": {},
   "outputs": [
    {
     "data": {
      "text/plain": [
       "1302"
      ]
     },
     "execution_count": 70,
     "metadata": {},
     "output_type": "execute_result"
    }
   ],
   "source": [
    "LiI.capex"
   ]
  },
  {
   "cell_type": "code",
   "execution_count": 71,
   "metadata": {},
   "outputs": [
    {
     "data": {
      "text/html": [
       "<div>\n",
       "<style scoped>\n",
       "    .dataframe tbody tr th:only-of-type {\n",
       "        vertical-align: middle;\n",
       "    }\n",
       "\n",
       "    .dataframe tbody tr th {\n",
       "        vertical-align: top;\n",
       "    }\n",
       "\n",
       "    .dataframe thead th {\n",
       "        text-align: right;\n",
       "    }\n",
       "</style>\n",
       "<table border=\"1\" class=\"dataframe\">\n",
       "  <thead>\n",
       "    <tr style=\"text-align: right;\">\n",
       "      <th></th>\n",
       "      <th>Inv_LiI_Power_stored</th>\n",
       "      <th>Sf_H2</th>\n",
       "      <th>S_Power</th>\n",
       "      <th>Af_H2O</th>\n",
       "      <th>Af_Solar</th>\n",
       "      <th>Af_Wind</th>\n",
       "      <th>Pf_LiI</th>\n",
       "      <th>Pf_LiI_discharge</th>\n",
       "      <th>Pf_PEM</th>\n",
       "      <th>Pf_PV</th>\n",
       "      <th>Pf_WF</th>\n",
       "    </tr>\n",
       "  </thead>\n",
       "  <tbody>\n",
       "    <tr>\n",
       "      <th>MB_H2(=)</th>\n",
       "      <td>1.0</td>\n",
       "      <td>0.0</td>\n",
       "      <td>0.0</td>\n",
       "      <td>0.0</td>\n",
       "      <td>0.0</td>\n",
       "      <td>0.0</td>\n",
       "      <td>1.0</td>\n",
       "      <td>-1.00</td>\n",
       "      <td>0.0000</td>\n",
       "      <td>0.00</td>\n",
       "      <td>0.00</td>\n",
       "    </tr>\n",
       "    <tr>\n",
       "      <th>MB_H2O(=)</th>\n",
       "      <td>0.0</td>\n",
       "      <td>-1.0</td>\n",
       "      <td>0.0</td>\n",
       "      <td>0.0</td>\n",
       "      <td>0.0</td>\n",
       "      <td>0.0</td>\n",
       "      <td>0.0</td>\n",
       "      <td>0.00</td>\n",
       "      <td>0.3537</td>\n",
       "      <td>0.00</td>\n",
       "      <td>0.00</td>\n",
       "    </tr>\n",
       "    <tr>\n",
       "      <th>MB_LiI_Power_stored(=)</th>\n",
       "      <td>0.0</td>\n",
       "      <td>0.0</td>\n",
       "      <td>-1.0</td>\n",
       "      <td>0.0</td>\n",
       "      <td>0.0</td>\n",
       "      <td>0.0</td>\n",
       "      <td>-1.0</td>\n",
       "      <td>0.89</td>\n",
       "      <td>-1.0000</td>\n",
       "      <td>0.75</td>\n",
       "      <td>0.85</td>\n",
       "    </tr>\n",
       "    <tr>\n",
       "      <th>MB_Power(=)</th>\n",
       "      <td>0.0</td>\n",
       "      <td>0.0</td>\n",
       "      <td>0.0</td>\n",
       "      <td>1.0</td>\n",
       "      <td>0.0</td>\n",
       "      <td>0.0</td>\n",
       "      <td>0.0</td>\n",
       "      <td>0.00</td>\n",
       "      <td>-3.1839</td>\n",
       "      <td>0.00</td>\n",
       "      <td>0.00</td>\n",
       "    </tr>\n",
       "    <tr>\n",
       "      <th>MB_Solar(=)</th>\n",
       "      <td>0.0</td>\n",
       "      <td>0.0</td>\n",
       "      <td>0.0</td>\n",
       "      <td>0.0</td>\n",
       "      <td>1.0</td>\n",
       "      <td>0.0</td>\n",
       "      <td>0.0</td>\n",
       "      <td>0.00</td>\n",
       "      <td>0.0000</td>\n",
       "      <td>-1.00</td>\n",
       "      <td>0.00</td>\n",
       "    </tr>\n",
       "    <tr>\n",
       "      <th>MB_Wind(=)</th>\n",
       "      <td>0.0</td>\n",
       "      <td>0.0</td>\n",
       "      <td>0.0</td>\n",
       "      <td>0.0</td>\n",
       "      <td>0.0</td>\n",
       "      <td>1.0</td>\n",
       "      <td>0.0</td>\n",
       "      <td>0.00</td>\n",
       "      <td>0.0000</td>\n",
       "      <td>0.00</td>\n",
       "      <td>-1.00</td>\n",
       "    </tr>\n",
       "    <tr>\n",
       "      <th>Inv_LiI_Power_stored(&lt;)</th>\n",
       "      <td>1.0</td>\n",
       "      <td>0.0</td>\n",
       "      <td>0.0</td>\n",
       "      <td>0.0</td>\n",
       "      <td>0.0</td>\n",
       "      <td>0.0</td>\n",
       "      <td>0.0</td>\n",
       "      <td>0.00</td>\n",
       "      <td>0.0000</td>\n",
       "      <td>0.00</td>\n",
       "      <td>0.00</td>\n",
       "    </tr>\n",
       "    <tr>\n",
       "      <th>Sf_H2(&gt;)</th>\n",
       "      <td>0.0</td>\n",
       "      <td>-1.0</td>\n",
       "      <td>0.0</td>\n",
       "      <td>0.0</td>\n",
       "      <td>0.0</td>\n",
       "      <td>0.0</td>\n",
       "      <td>0.0</td>\n",
       "      <td>0.00</td>\n",
       "      <td>0.0000</td>\n",
       "      <td>0.00</td>\n",
       "      <td>0.00</td>\n",
       "    </tr>\n",
       "    <tr>\n",
       "      <th>S_Power(&gt;)</th>\n",
       "      <td>0.0</td>\n",
       "      <td>0.0</td>\n",
       "      <td>-1.0</td>\n",
       "      <td>0.0</td>\n",
       "      <td>0.0</td>\n",
       "      <td>0.0</td>\n",
       "      <td>0.0</td>\n",
       "      <td>0.00</td>\n",
       "      <td>0.0000</td>\n",
       "      <td>0.00</td>\n",
       "      <td>0.00</td>\n",
       "    </tr>\n",
       "    <tr>\n",
       "      <th>Af_H2O(&lt;)</th>\n",
       "      <td>0.0</td>\n",
       "      <td>0.0</td>\n",
       "      <td>0.0</td>\n",
       "      <td>1.0</td>\n",
       "      <td>0.0</td>\n",
       "      <td>0.0</td>\n",
       "      <td>0.0</td>\n",
       "      <td>0.00</td>\n",
       "      <td>0.0000</td>\n",
       "      <td>0.00</td>\n",
       "      <td>0.00</td>\n",
       "    </tr>\n",
       "    <tr>\n",
       "      <th>Af_Solar(&lt;)</th>\n",
       "      <td>0.0</td>\n",
       "      <td>0.0</td>\n",
       "      <td>0.0</td>\n",
       "      <td>0.0</td>\n",
       "      <td>1.0</td>\n",
       "      <td>0.0</td>\n",
       "      <td>0.0</td>\n",
       "      <td>0.00</td>\n",
       "      <td>0.0000</td>\n",
       "      <td>0.00</td>\n",
       "      <td>0.00</td>\n",
       "    </tr>\n",
       "    <tr>\n",
       "      <th>Af_Wind(&lt;)</th>\n",
       "      <td>0.0</td>\n",
       "      <td>0.0</td>\n",
       "      <td>0.0</td>\n",
       "      <td>0.0</td>\n",
       "      <td>0.0</td>\n",
       "      <td>1.0</td>\n",
       "      <td>0.0</td>\n",
       "      <td>0.00</td>\n",
       "      <td>0.0000</td>\n",
       "      <td>0.00</td>\n",
       "      <td>0.00</td>\n",
       "    </tr>\n",
       "    <tr>\n",
       "      <th>Pf_LiI(&lt;)</th>\n",
       "      <td>0.0</td>\n",
       "      <td>0.0</td>\n",
       "      <td>0.0</td>\n",
       "      <td>0.0</td>\n",
       "      <td>0.0</td>\n",
       "      <td>0.0</td>\n",
       "      <td>1.0</td>\n",
       "      <td>0.00</td>\n",
       "      <td>0.0000</td>\n",
       "      <td>0.00</td>\n",
       "      <td>0.00</td>\n",
       "    </tr>\n",
       "    <tr>\n",
       "      <th>Pf_LiI_discharge(&lt;)</th>\n",
       "      <td>0.0</td>\n",
       "      <td>0.0</td>\n",
       "      <td>0.0</td>\n",
       "      <td>0.0</td>\n",
       "      <td>0.0</td>\n",
       "      <td>0.0</td>\n",
       "      <td>0.0</td>\n",
       "      <td>1.00</td>\n",
       "      <td>0.0000</td>\n",
       "      <td>0.00</td>\n",
       "      <td>0.00</td>\n",
       "    </tr>\n",
       "    <tr>\n",
       "      <th>Pf_PEM(&lt;)</th>\n",
       "      <td>0.0</td>\n",
       "      <td>0.0</td>\n",
       "      <td>0.0</td>\n",
       "      <td>0.0</td>\n",
       "      <td>0.0</td>\n",
       "      <td>0.0</td>\n",
       "      <td>0.0</td>\n",
       "      <td>0.00</td>\n",
       "      <td>1.0000</td>\n",
       "      <td>0.00</td>\n",
       "      <td>0.00</td>\n",
       "    </tr>\n",
       "    <tr>\n",
       "      <th>Pf_PV(&lt;)</th>\n",
       "      <td>0.0</td>\n",
       "      <td>0.0</td>\n",
       "      <td>0.0</td>\n",
       "      <td>0.0</td>\n",
       "      <td>0.0</td>\n",
       "      <td>0.0</td>\n",
       "      <td>0.0</td>\n",
       "      <td>0.00</td>\n",
       "      <td>0.0000</td>\n",
       "      <td>1.00</td>\n",
       "      <td>0.00</td>\n",
       "    </tr>\n",
       "    <tr>\n",
       "      <th>Pf_WF(&lt;)</th>\n",
       "      <td>0.0</td>\n",
       "      <td>0.0</td>\n",
       "      <td>0.0</td>\n",
       "      <td>0.0</td>\n",
       "      <td>0.0</td>\n",
       "      <td>0.0</td>\n",
       "      <td>0.0</td>\n",
       "      <td>0.00</td>\n",
       "      <td>0.0000</td>\n",
       "      <td>0.00</td>\n",
       "      <td>1.00</td>\n",
       "    </tr>\n",
       "    <tr>\n",
       "      <th>NN_Inv_LiI_Power_stored(&gt;)</th>\n",
       "      <td>-1.0</td>\n",
       "      <td>-0.0</td>\n",
       "      <td>-0.0</td>\n",
       "      <td>-0.0</td>\n",
       "      <td>-0.0</td>\n",
       "      <td>-0.0</td>\n",
       "      <td>-0.0</td>\n",
       "      <td>-0.00</td>\n",
       "      <td>-0.0000</td>\n",
       "      <td>-0.00</td>\n",
       "      <td>-0.00</td>\n",
       "    </tr>\n",
       "    <tr>\n",
       "      <th>NN_Sf_H2(&gt;)</th>\n",
       "      <td>-0.0</td>\n",
       "      <td>-1.0</td>\n",
       "      <td>-0.0</td>\n",
       "      <td>-0.0</td>\n",
       "      <td>-0.0</td>\n",
       "      <td>-0.0</td>\n",
       "      <td>-0.0</td>\n",
       "      <td>-0.00</td>\n",
       "      <td>-0.0000</td>\n",
       "      <td>-0.00</td>\n",
       "      <td>-0.00</td>\n",
       "    </tr>\n",
       "    <tr>\n",
       "      <th>NN_S_Power(&gt;)</th>\n",
       "      <td>-0.0</td>\n",
       "      <td>-0.0</td>\n",
       "      <td>-1.0</td>\n",
       "      <td>-0.0</td>\n",
       "      <td>-0.0</td>\n",
       "      <td>-0.0</td>\n",
       "      <td>-0.0</td>\n",
       "      <td>-0.00</td>\n",
       "      <td>-0.0000</td>\n",
       "      <td>-0.00</td>\n",
       "      <td>-0.00</td>\n",
       "    </tr>\n",
       "    <tr>\n",
       "      <th>NN_Af_H2O(&gt;)</th>\n",
       "      <td>-0.0</td>\n",
       "      <td>-0.0</td>\n",
       "      <td>-0.0</td>\n",
       "      <td>-1.0</td>\n",
       "      <td>-0.0</td>\n",
       "      <td>-0.0</td>\n",
       "      <td>-0.0</td>\n",
       "      <td>-0.00</td>\n",
       "      <td>-0.0000</td>\n",
       "      <td>-0.00</td>\n",
       "      <td>-0.00</td>\n",
       "    </tr>\n",
       "    <tr>\n",
       "      <th>NN_Af_Solar(&gt;)</th>\n",
       "      <td>-0.0</td>\n",
       "      <td>-0.0</td>\n",
       "      <td>-0.0</td>\n",
       "      <td>-0.0</td>\n",
       "      <td>-1.0</td>\n",
       "      <td>-0.0</td>\n",
       "      <td>-0.0</td>\n",
       "      <td>-0.00</td>\n",
       "      <td>-0.0000</td>\n",
       "      <td>-0.00</td>\n",
       "      <td>-0.00</td>\n",
       "    </tr>\n",
       "    <tr>\n",
       "      <th>NN_Af_Wind(&gt;)</th>\n",
       "      <td>-0.0</td>\n",
       "      <td>-0.0</td>\n",
       "      <td>-0.0</td>\n",
       "      <td>-0.0</td>\n",
       "      <td>-0.0</td>\n",
       "      <td>-1.0</td>\n",
       "      <td>-0.0</td>\n",
       "      <td>-0.00</td>\n",
       "      <td>-0.0000</td>\n",
       "      <td>-0.00</td>\n",
       "      <td>-0.00</td>\n",
       "    </tr>\n",
       "    <tr>\n",
       "      <th>NN_Pf_LiI(&gt;)</th>\n",
       "      <td>-0.0</td>\n",
       "      <td>-0.0</td>\n",
       "      <td>-0.0</td>\n",
       "      <td>-0.0</td>\n",
       "      <td>-0.0</td>\n",
       "      <td>-0.0</td>\n",
       "      <td>-1.0</td>\n",
       "      <td>-0.00</td>\n",
       "      <td>-0.0000</td>\n",
       "      <td>-0.00</td>\n",
       "      <td>-0.00</td>\n",
       "    </tr>\n",
       "    <tr>\n",
       "      <th>NN_Pf_LiI_discharge(&gt;)</th>\n",
       "      <td>-0.0</td>\n",
       "      <td>-0.0</td>\n",
       "      <td>-0.0</td>\n",
       "      <td>-0.0</td>\n",
       "      <td>-0.0</td>\n",
       "      <td>-0.0</td>\n",
       "      <td>-0.0</td>\n",
       "      <td>-1.00</td>\n",
       "      <td>-0.0000</td>\n",
       "      <td>-0.00</td>\n",
       "      <td>-0.00</td>\n",
       "    </tr>\n",
       "    <tr>\n",
       "      <th>NN_Pf_PEM(&gt;)</th>\n",
       "      <td>-0.0</td>\n",
       "      <td>-0.0</td>\n",
       "      <td>-0.0</td>\n",
       "      <td>-0.0</td>\n",
       "      <td>-0.0</td>\n",
       "      <td>-0.0</td>\n",
       "      <td>-0.0</td>\n",
       "      <td>-0.00</td>\n",
       "      <td>-1.0000</td>\n",
       "      <td>-0.00</td>\n",
       "      <td>-0.00</td>\n",
       "    </tr>\n",
       "    <tr>\n",
       "      <th>NN_Pf_PV(&gt;)</th>\n",
       "      <td>-0.0</td>\n",
       "      <td>-0.0</td>\n",
       "      <td>-0.0</td>\n",
       "      <td>-0.0</td>\n",
       "      <td>-0.0</td>\n",
       "      <td>-0.0</td>\n",
       "      <td>-0.0</td>\n",
       "      <td>-0.00</td>\n",
       "      <td>-0.0000</td>\n",
       "      <td>-1.00</td>\n",
       "      <td>-0.00</td>\n",
       "    </tr>\n",
       "    <tr>\n",
       "      <th>NN_Pf_WF(&gt;)</th>\n",
       "      <td>-0.0</td>\n",
       "      <td>-0.0</td>\n",
       "      <td>-0.0</td>\n",
       "      <td>-0.0</td>\n",
       "      <td>-0.0</td>\n",
       "      <td>-0.0</td>\n",
       "      <td>-0.0</td>\n",
       "      <td>-0.00</td>\n",
       "      <td>-0.0000</td>\n",
       "      <td>-0.00</td>\n",
       "      <td>-1.00</td>\n",
       "    </tr>\n",
       "  </tbody>\n",
       "</table>\n",
       "</div>"
      ],
      "text/plain": [
       "                            Inv_LiI_Power_stored  Sf_H2  S_Power  Af_H2O  \\\n",
       "MB_H2(=)                                     1.0    0.0      0.0     0.0   \n",
       "MB_H2O(=)                                    0.0   -1.0      0.0     0.0   \n",
       "MB_LiI_Power_stored(=)                       0.0    0.0     -1.0     0.0   \n",
       "MB_Power(=)                                  0.0    0.0      0.0     1.0   \n",
       "MB_Solar(=)                                  0.0    0.0      0.0     0.0   \n",
       "MB_Wind(=)                                   0.0    0.0      0.0     0.0   \n",
       "Inv_LiI_Power_stored(<)                      1.0    0.0      0.0     0.0   \n",
       "Sf_H2(>)                                     0.0   -1.0      0.0     0.0   \n",
       "S_Power(>)                                   0.0    0.0     -1.0     0.0   \n",
       "Af_H2O(<)                                    0.0    0.0      0.0     1.0   \n",
       "Af_Solar(<)                                  0.0    0.0      0.0     0.0   \n",
       "Af_Wind(<)                                   0.0    0.0      0.0     0.0   \n",
       "Pf_LiI(<)                                    0.0    0.0      0.0     0.0   \n",
       "Pf_LiI_discharge(<)                          0.0    0.0      0.0     0.0   \n",
       "Pf_PEM(<)                                    0.0    0.0      0.0     0.0   \n",
       "Pf_PV(<)                                     0.0    0.0      0.0     0.0   \n",
       "Pf_WF(<)                                     0.0    0.0      0.0     0.0   \n",
       "NN_Inv_LiI_Power_stored(>)                  -1.0   -0.0     -0.0    -0.0   \n",
       "NN_Sf_H2(>)                                 -0.0   -1.0     -0.0    -0.0   \n",
       "NN_S_Power(>)                               -0.0   -0.0     -1.0    -0.0   \n",
       "NN_Af_H2O(>)                                -0.0   -0.0     -0.0    -1.0   \n",
       "NN_Af_Solar(>)                              -0.0   -0.0     -0.0    -0.0   \n",
       "NN_Af_Wind(>)                               -0.0   -0.0     -0.0    -0.0   \n",
       "NN_Pf_LiI(>)                                -0.0   -0.0     -0.0    -0.0   \n",
       "NN_Pf_LiI_discharge(>)                      -0.0   -0.0     -0.0    -0.0   \n",
       "NN_Pf_PEM(>)                                -0.0   -0.0     -0.0    -0.0   \n",
       "NN_Pf_PV(>)                                 -0.0   -0.0     -0.0    -0.0   \n",
       "NN_Pf_WF(>)                                 -0.0   -0.0     -0.0    -0.0   \n",
       "\n",
       "                            Af_Solar  Af_Wind  Pf_LiI  Pf_LiI_discharge  \\\n",
       "MB_H2(=)                         0.0      0.0     1.0             -1.00   \n",
       "MB_H2O(=)                        0.0      0.0     0.0              0.00   \n",
       "MB_LiI_Power_stored(=)           0.0      0.0    -1.0              0.89   \n",
       "MB_Power(=)                      0.0      0.0     0.0              0.00   \n",
       "MB_Solar(=)                      1.0      0.0     0.0              0.00   \n",
       "MB_Wind(=)                       0.0      1.0     0.0              0.00   \n",
       "Inv_LiI_Power_stored(<)          0.0      0.0     0.0              0.00   \n",
       "Sf_H2(>)                         0.0      0.0     0.0              0.00   \n",
       "S_Power(>)                       0.0      0.0     0.0              0.00   \n",
       "Af_H2O(<)                        0.0      0.0     0.0              0.00   \n",
       "Af_Solar(<)                      1.0      0.0     0.0              0.00   \n",
       "Af_Wind(<)                       0.0      1.0     0.0              0.00   \n",
       "Pf_LiI(<)                        0.0      0.0     1.0              0.00   \n",
       "Pf_LiI_discharge(<)              0.0      0.0     0.0              1.00   \n",
       "Pf_PEM(<)                        0.0      0.0     0.0              0.00   \n",
       "Pf_PV(<)                         0.0      0.0     0.0              0.00   \n",
       "Pf_WF(<)                         0.0      0.0     0.0              0.00   \n",
       "NN_Inv_LiI_Power_stored(>)      -0.0     -0.0    -0.0             -0.00   \n",
       "NN_Sf_H2(>)                     -0.0     -0.0    -0.0             -0.00   \n",
       "NN_S_Power(>)                   -0.0     -0.0    -0.0             -0.00   \n",
       "NN_Af_H2O(>)                    -0.0     -0.0    -0.0             -0.00   \n",
       "NN_Af_Solar(>)                  -1.0     -0.0    -0.0             -0.00   \n",
       "NN_Af_Wind(>)                   -0.0     -1.0    -0.0             -0.00   \n",
       "NN_Pf_LiI(>)                    -0.0     -0.0    -1.0             -0.00   \n",
       "NN_Pf_LiI_discharge(>)          -0.0     -0.0    -0.0             -1.00   \n",
       "NN_Pf_PEM(>)                    -0.0     -0.0    -0.0             -0.00   \n",
       "NN_Pf_PV(>)                     -0.0     -0.0    -0.0             -0.00   \n",
       "NN_Pf_WF(>)                     -0.0     -0.0    -0.0             -0.00   \n",
       "\n",
       "                            Pf_PEM  Pf_PV  Pf_WF  \n",
       "MB_H2(=)                    0.0000   0.00   0.00  \n",
       "MB_H2O(=)                   0.3537   0.00   0.00  \n",
       "MB_LiI_Power_stored(=)     -1.0000   0.75   0.85  \n",
       "MB_Power(=)                -3.1839   0.00   0.00  \n",
       "MB_Solar(=)                 0.0000  -1.00   0.00  \n",
       "MB_Wind(=)                  0.0000   0.00  -1.00  \n",
       "Inv_LiI_Power_stored(<)     0.0000   0.00   0.00  \n",
       "Sf_H2(>)                    0.0000   0.00   0.00  \n",
       "S_Power(>)                  0.0000   0.00   0.00  \n",
       "Af_H2O(<)                   0.0000   0.00   0.00  \n",
       "Af_Solar(<)                 0.0000   0.00   0.00  \n",
       "Af_Wind(<)                  0.0000   0.00   0.00  \n",
       "Pf_LiI(<)                   0.0000   0.00   0.00  \n",
       "Pf_LiI_discharge(<)         0.0000   0.00   0.00  \n",
       "Pf_PEM(<)                   1.0000   0.00   0.00  \n",
       "Pf_PV(<)                    0.0000   1.00   0.00  \n",
       "Pf_WF(<)                    0.0000   0.00   1.00  \n",
       "NN_Inv_LiI_Power_stored(>) -0.0000  -0.00  -0.00  \n",
       "NN_Sf_H2(>)                -0.0000  -0.00  -0.00  \n",
       "NN_S_Power(>)              -0.0000  -0.00  -0.00  \n",
       "NN_Af_H2O(>)               -0.0000  -0.00  -0.00  \n",
       "NN_Af_Solar(>)             -0.0000  -0.00  -0.00  \n",
       "NN_Af_Wind(>)              -0.0000  -0.00  -0.00  \n",
       "NN_Pf_LiI(>)               -0.0000  -0.00  -0.00  \n",
       "NN_Pf_LiI_discharge(>)     -0.0000  -0.00  -0.00  \n",
       "NN_Pf_PEM(>)               -1.0000  -0.00  -0.00  \n",
       "NN_Pf_PV(>)                -0.0000  -1.00  -0.00  \n",
       "NN_Pf_WF(>)                -0.0000  -0.00  -1.00  "
      ]
     },
     "execution_count": 71,
     "metadata": {},
     "output_type": "execute_result"
    }
   ],
   "source": [
    "example.A_df"
   ]
  },
  {
   "cell_type": "code",
   "execution_count": 72,
   "metadata": {},
   "outputs": [
    {
     "data": {
      "text/plain": [
       "array([[ 0.62954905],\n",
       "       [-0.09636076],\n",
       "       [ 0.        ],\n",
       "       [ 1.        ],\n",
       "       [ 1.        ],\n",
       "       [-0.34919805],\n",
       "       [ 0.        ]])"
      ]
     },
     "execution_count": 72,
     "metadata": {},
     "output_type": "execute_result"
    }
   ],
   "source": [
    "theta_rhs_matrix"
   ]
  },
  {
   "cell_type": "code",
   "execution_count": 73,
   "metadata": {},
   "outputs": [
    {
     "data": {
      "text/plain": [
       "(array([[ 0.62954905],\n",
       "        [-0.09636076],\n",
       "        [ 0.        ],\n",
       "        [ 1.        ],\n",
       "        [ 1.        ],\n",
       "        [-0.34919805],\n",
       "        [ 0.        ]]),\n",
       " array([[ 1. ,  0. ,  0. ],\n",
       "        [ 0.8, -0.6,  0. ],\n",
       "        [ 0. ,  0. , -1. ],\n",
       "        [ 0. ,  1. ,  0. ],\n",
       "        [ 0. ,  0. ,  1. ],\n",
       "        [-1. ,  0. ,  0. ],\n",
       "        [ 0. ,  0. , -1. ]]))"
      ]
     },
     "execution_count": 73,
     "metadata": {},
     "output_type": "execute_result"
    }
   ],
   "source": [
    "theta_rhs_matrix, theta_coeff_matrix \n"
   ]
  },
  {
   "cell_type": "code",
   "execution_count": 74,
   "metadata": {},
   "outputs": [
    {
     "name": "stdout",
     "output_type": "stream",
     "text": [
      "Gurobi Optimizer version 10.0.2 build v10.0.2rc0 (win64)\n",
      "\n",
      "CPU model: Intel(R) Core(TM) i7-6700 CPU @ 3.40GHz, instruction set [SSE2|AVX|AVX2]\n",
      "Thread count: 4 physical cores, 8 logical processors, using up to 8 threads\n",
      "\n",
      "Optimize a model with 35 rows, 14 columns and 49 nonzeros\n",
      "Model fingerprint: 0xbb6f1b0d\n",
      "Coefficient statistics:\n",
      "  Matrix range     [4e-01, 1e+02]\n",
      "  Objective range  [6e+02, 2e+03]\n",
      "  Bounds range     [0e+00, 0e+00]\n",
      "  RHS range        [3e-01, 5e+02]\n",
      "Presolve removed 35 rows and 14 columns\n",
      "Presolve time: 0.01s\n",
      "Presolve: All rows and columns removed\n",
      "Iteration    Objective       Primal Inf.    Dual Inf.      Time\n",
      "       0    5.5176762e+04   0.000000e+00   0.000000e+00      0s\n",
      "\n",
      "Solved in 0 iterations and 0.01 seconds (0.00 work units)\n",
      "Optimal objective  5.517676152e+04\n",
      "x[0]: 0.62954905\n",
      "x[1]: 1.0\n",
      "x[2]: 1.0\n",
      "y[0]: 50.0\n",
      "y[1]: 12.590981000000001\n",
      "y[2]: 8.902089341249642\n",
      "y[3]: 113.34018774639526\n",
      "y[4]: 0.0\n",
      "y[5]: 0.0\n",
      "y[6]: 0.0\n",
      "y[7]: 50.0\n",
      "y[8]: 35.59791065875036\n",
      "y[9]: 0.0\n",
      "y[10]: 0.0\n",
      "Optimal Objective Value: 55176.761521063054\n"
     ]
    }
   ],
   "source": [
    "import gurobipy as gp\n",
    "\n",
    "# Create a Gurobi model object\n",
    "model = gp.Model()\n",
    "\n",
    "# Define decision variables\n",
    "x = model.addVars(3, lb=0, name=\"x\")\n",
    "y = model.addVars(11, lb=0, name=\"y\")\n",
    "\n",
    "# Set the objective function\n",
    "model.setObjective(\n",
    "    1302 * y[6] + 1550 * y[8] + 567 * y[9] + 990 * y[10],\n",
    "    sense=gp.GRB.MINIMIZE\n",
    ")\n",
    "\n",
    "# Add constraints\n",
    "# model.addConstr(x[1] <= 1, name=\"constraint_x0\")\n",
    "# model.addConstr(0.8 * x[0] <= 0.5836392422958072, name=\"constraint_x1\")\n",
    "# model.addConstr(0.661541201655627 * x[0] <= 0, name=\"constraint_x2\")\n",
    "# model.addConstr(0.6 * x[1] <= 0, name=\"constraint_x3\")\n",
    "# model.addConstr(0.6 * x[1] <= 0.0963607577041876, name=\"constraint_x4\")\n",
    "# model.addConstr(x[0] <= 0, name=\"constraint_x5\")\n",
    "# model.addConstr(x[1] <= 0.0963607577041874, name=\"constraint_x6\")\n",
    "# model.addConstr(x[2] <= 1, name=\"constraint_x7\")\n",
    "\n",
    "model.addConstr(x[0] >=0.62954905)\n",
    "# model.addConstr(0.8*x[0] <=0)\n",
    "model.addConstr(x[1] <=1)\n",
    "model.addConstr(x[2] <=1)\n",
    "\n",
    "model.addConstr(x[0] >=min(demand['COAST']))\n",
    "model.addConstr(x[0] <=0.62954905)\n",
    "\n",
    "# model.addConstr(0.8*x[0] <=0)\n",
    "model.addConstr(x[1] <=1)\n",
    "model.addConstr(x[2] <=1)\n",
    "\n",
    "\n",
    "model.addConstr(y[0] + y[6] - y[7] == 0, name=\"constraint_y0\")\n",
    "model.addConstr(-y[1] + 0.3537 * y[8] == 0, name=\"constraint_y1\")\n",
    "model.addConstr(-y[2] - y[6] + 0.89 * y[7] - y[8] + 0.75 * y[9] + 0.85 * y[10] == 0, name=\"constraint_y2\")\n",
    "model.addConstr(y[3] - 3.1839 * y[8] == 0, name=\"constraint_y3\")\n",
    "model.addConstr(y[4] - y[9] == 0, name=\"constraint_y4\")\n",
    "model.addConstr(y[5] - y[10] == 0, name=\"constraint_y5\")\n",
    "\n",
    "model.addConstr(y[0] <= 100, name=\"constraint_y6\")\n",
    "model.addConstr(-y[1] + 20*x[0] <= 0, name=\"constraint_y7\")\n",
    "model.addConstr(-y[2] <= 0, name=\"constraint_y8\")\n",
    "model.addConstr(y[3] <= 500, name=\"constraint_y9\")\n",
    "model.addConstr(y[4] <= 100, name=\"constraint_y10\")\n",
    "model.addConstr(y[5] <= 100, name=\"constraint_y11\")\n",
    "model.addConstr(y[6] <= 50, name=\"constraint_y12\")\n",
    "model.addConstr(y[7] <= 50, name=\"constraint_y13\")\n",
    "model.addConstr(y[8] <= 100, name=\"constraint_y14\")\n",
    "model.addConstr(y[9] - 100*x[1] <= 0, name=\"constraint_y15\")\n",
    "model.addConstr(y[10] - 100*x[2] <= 0, name=\"constraint_y16\")\n",
    "\n",
    "model.addConstr(-y[0] <= 0, name=\"constraint_y17\")\n",
    "model.addConstr(-y[1] <= 0, name=\"constraint_y18\")\n",
    "model.addConstr(-y[2] <= 0, name=\"constraint_y19\")\n",
    "model.addConstr(-y[3] <= 0, name=\"constraint_y20\")\n",
    "model.addConstr(-y[4] <= 0, name=\"constraint_y21\")\n",
    "model.addConstr(-y[5] <= 0, name=\"constraint_y22\")\n",
    "model.addConstr(-y[6] <= 0, name=\"constraint_y23\")\n",
    "model.addConstr(-y[7] <= 0, name=\"constraint_y24\")\n",
    "model.addConstr(-y[8] <= 0, name=\"constraint_y25\")\n",
    "model.addConstr(-y[9] <= 0, name=\"constraint_y26\")\n",
    "model.addConstr(-y[10] <= 0, name=\"constraint_y27\")\n",
    "\n",
    "# Solve the model\n",
    "model.optimize()\n",
    "\n",
    "# Access the solution variables and objective value\n",
    "if model.status == gp.GRB.OPTIMAL:\n",
    "    for variable in model.getVars():\n",
    "        print(f\"{variable.VarName}: {variable.x}\")\n",
    "    print(f\"Optimal Objective Value: {model.objVal}\")\n"
   ]
  },
  {
   "cell_type": "code",
   "execution_count": 75,
   "metadata": {},
   "outputs": [
    {
     "name": "stdout",
     "output_type": "stream",
     "text": [
      "Gurobi Optimizer version 10.0.2 build v10.0.2rc0 (win64)\n",
      "\n",
      "CPU model: Intel(R) Core(TM) i7-6700 CPU @ 3.40GHz, instruction set [SSE2|AVX|AVX2]\n",
      "Thread count: 4 physical cores, 8 logical processors, using up to 8 threads\n",
      "\n",
      "Optimize a model with 36 rows, 14 columns and 50 nonzeros\n",
      "Model fingerprint: 0x028d9ea6\n",
      "Coefficient statistics:\n",
      "  Matrix range     [4e-01, 1e+02]\n",
      "  Objective range  [6e+02, 2e+03]\n",
      "  Bounds range     [0e+00, 0e+00]\n",
      "  RHS range        [1e-01, 5e+02]\n",
      "Presolve removed 36 rows and 14 columns\n",
      "Presolve time: 0.01s\n",
      "Presolve: All rows and columns removed\n",
      "Iteration    Objective       Primal Inf.    Dual Inf.      Time\n",
      "       0    0.0000000e+00   0.000000e+00   0.000000e+00      0s\n",
      "\n",
      "Solved in 0 iterations and 0.01 seconds (0.00 work units)\n",
      "Optimal objective  0.000000000e+00\n",
      "x[0]: 0.0\n",
      "x[1]: 0.0\n",
      "x[2]: 1.0\n",
      "y[0]: 50.0\n",
      "y[1]: 0.0\n",
      "y[2]: 44.5\n",
      "y[3]: 0.0\n",
      "y[4]: 0.0\n",
      "y[5]: 0.0\n",
      "y[6]: 0.0\n",
      "y[7]: 50.0\n",
      "y[8]: 0.0\n",
      "y[9]: 0.0\n",
      "y[10]: 0.0\n",
      "Optimal Objective Value: 0.0\n"
     ]
    }
   ],
   "source": [
    "import gurobipy as gp\n",
    "\n",
    "# Create a Gurobi model object\n",
    "model = gp.Model()\n",
    "\n",
    "# Define decision variables\n",
    "x = model.addVars(3, lb=0, name=\"x\")\n",
    "y = model.addVars(11, lb=0, name=\"y\")\n",
    "\n",
    "\n",
    "# Set the objective function\n",
    "model.setObjective(\n",
    "    1302 * y[6] + 1550 * y[8] + 567 * y[9] + 990 * y[10],\n",
    "    sense=gp.GRB.MINIMIZE\n",
    ")\n",
    "\n",
    "\n",
    "# model.addConstr(x[0] <= 1, name=\"constraint_x00\")\n",
    "# model.addConstr(x[1] <= 1, name=\"constraint_x01\")\n",
    "# model.addConstr(x[2] <= 1, name=\"constraint_x02\")\n",
    "\n",
    "\n",
    "# model.addConstr(x[0] >= 0.345, name=\"constraint_x00\")\n",
    "# model.addConstr(x[1] >= 0, name=\"constraint_x01\")\n",
    "# model.addConstr(x[2] >= 0, name=\"constraint_x02\")\n",
    "\n",
    "# Add constraints\n",
    "model.addConstr(x[1] <= 1, name=\"constraint_x0\")\n",
    "model.addConstr(0.8 * x[0] <= 0.5836392422958072, name=\"constraint_x1\")\n",
    "model.addConstr(0.661541201655627 * x[0] <= 0, name=\"constraint_x2\")\n",
    "model.addConstr(0.6 * x[1] <= 0, name=\"constraint_x3\")\n",
    "model.addConstr(0.6 * x[1] <= 0.0963607577041876, name=\"constraint_x4\")\n",
    "model.addConstr(x[0] <= 0, name=\"constraint_x5\")\n",
    "model.addConstr(x[1] <= 0.0963607577041874, name=\"constraint_x6\")\n",
    "model.addConstr(x[2] <= 1, name=\"constraint_x7\")\n",
    "\n",
    "model.addConstr(y[0] + y[6] - y[7] == 0, name=\"constraint_y0\")\n",
    "model.addConstr(-y[1] + 0.3537 * y[8] == 0, name=\"constraint_y1\")\n",
    "model.addConstr(-y[2] - y[6] + 0.89 * y[7] - y[8] + 0.75 * y[9] + 0.85 * y[10] == 0, name=\"constraint_y2\")\n",
    "model.addConstr(y[3] - 3.1839 * y[8] == 0, name=\"constraint_y3\")\n",
    "model.addConstr(y[4] - y[9] == 0, name=\"constraint_y4\")\n",
    "model.addConstr(y[5] - y[10] == 0, name=\"constraint_y5\")\n",
    "\n",
    "model.addConstr(y[0] <= 100, name=\"constraint_y6\")\n",
    "model.addConstr(-y[1] + 20*x[0] <= 0, name=\"constraint_y7\")\n",
    "model.addConstr(-y[2] <= 0, name=\"constraint_y8\")\n",
    "model.addConstr(y[3] <= 500, name=\"constraint_y9\")\n",
    "model.addConstr(y[4] <= 100, name=\"constraint_y10\")\n",
    "model.addConstr(y[5] <= 100, name=\"constraint_y11\")\n",
    "model.addConstr(y[6] <= 50, name=\"constraint_y12\")\n",
    "model.addConstr(y[7] <= 50, name=\"constraint_y13\")\n",
    "model.addConstr(y[8] <= 100, name=\"constraint_y14\")\n",
    "model.addConstr(y[9] - 100*x[1] <= 0, name=\"constraint_y15\")\n",
    "model.addConstr(y[10] - 100*x[2] <= 0, name=\"constraint_y16\")\n",
    "\n",
    "model.addConstr(-y[0] <= 0, name=\"constraint_y17\")\n",
    "model.addConstr(-y[1] <= 0, name=\"constraint_y18\")\n",
    "model.addConstr(-y[2] <= 0, name=\"constraint_y19\")\n",
    "model.addConstr(-y[3] <= 0, name=\"constraint_y20\")\n",
    "model.addConstr(-y[4] <= 0, name=\"constraint_y21\")\n",
    "model.addConstr(-y[5] <= 0, name=\"constraint_y22\")\n",
    "model.addConstr(-y[6] <= 0, name=\"constraint_y23\")\n",
    "model.addConstr(-y[7] <= 0, name=\"constraint_y24\")\n",
    "model.addConstr(-y[8] <= 0, name=\"constraint_y25\")\n",
    "model.addConstr(-y[9] <= 0, name=\"constraint_y26\")\n",
    "model.addConstr(-y[10] <= 0, name=\"constraint_y27\")\n",
    "\n",
    "# Solve the model\n",
    "model.optimize()\n",
    "\n",
    "# Access the solution variables and objective value\n",
    "if model.status == gp.GRB.OPTIMAL:\n",
    "    for variable in model.getVars():\n",
    "        print(f\"{variable.VarName}: {variable.x}\")\n",
    "    print(f\"Optimal Objective Value: {model.objVal}\")\n"
   ]
  },
  {
   "cell_type": "code",
   "execution_count": null,
   "metadata": {},
   "outputs": [],
   "source": []
  }
 ],
 "metadata": {
  "kernelspec": {
   "display_name": "Python 3.10.5 ('ki': venv)",
   "language": "python",
   "name": "python3"
  },
  "language_info": {
   "codemirror_mode": {
    "name": "ipython",
    "version": 3
   },
   "file_extension": ".py",
   "mimetype": "text/x-python",
   "name": "python",
   "nbconvert_exporter": "python",
   "pygments_lexer": "ipython3",
   "version": "3.10.5"
  },
  "orig_nbformat": 4,
  "vscode": {
   "interpreter": {
    "hash": "a4a97498e3c1bfef05f70a75d4fcafcb7b5c9c4ed86429a4e7bee46eaa890f24"
   }
  }
 },
 "nbformat": 4,
 "nbformat_minor": 2
}
