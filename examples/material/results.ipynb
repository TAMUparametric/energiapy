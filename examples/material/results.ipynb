{
 "cells": [
  {
   "cell_type": "code",
   "execution_count": 1,
   "metadata": {},
   "outputs": [],
   "source": [
    "import sys\n",
    "sys.path.append('../../src')"
   ]
  },
  {
   "cell_type": "code",
   "execution_count": 2,
   "metadata": {},
   "outputs": [],
   "source": [
    "import pandas\n",
    "import numpy\n",
    "from energiapy.components.temporal_scale import TemporalScale\n",
    "from energiapy.components.resource import Resource, VaryingResource\n",
    "from energiapy.components.process import Process, VaryingProcess\n",
    "from energiapy.components.material import Material\n",
    "from energiapy.components.location import Location\n",
    "from energiapy.components.network import Network\n",
    "from energiapy.components.scenario import Scenario\n",
    "from energiapy.components.transport import Transport\n",
    "from energiapy.model.formulate import formulate, Constraints, Objective\n",
    "from energiapy.utils.nsrdb_utils import fetch_nsrdb_data\n",
    "from energiapy.plot import plot_results, plot_scenario\n",
    "from energiapy.plot.plot_results import CostY, CostX\n",
    "from energiapy.model.solve import solve\n",
    "from itertools import product\n",
    "\n",
    "\n",
    "\n",
    "from energiapy.components.result import Result\n",
    "import pandas\n",
    "from itertools import product\n",
    "from matplotlib import rc\n",
    "import matplotlib.pyplot as plt\n",
    "from energiapy.model.solve import solve\n",
    "from energiapy.plot.plot_results import CostY, CostX\n",
    "from energiapy.components.location import Location\n",
    "from energiapy.plot import plot_results, plot_scenario\n",
    "from energiapy.utils.nsrdb_utils import fetch_nsrdb_data\n",
    "from energiapy.model.formulate import formulate, Constraints, Objective\n",
    "from energiapy.model.bounds import CapacityBounds\n",
    "from energiapy.utils.data_utils import get_data, make_henry_price_df, remove_outliers, load_results\n",
    "from energiapy.components.transport import Transport\n",
    "from energiapy.components.scenario import Scenario\n",
    "from energiapy.components.network import Network\n",
    "from energiapy.components.location import Location\n",
    "from energiapy.components.material import Material\n",
    "\n",
    "from energiapy.conversion.photovoltaic import solar_power_output\n",
    "from energiapy.conversion.windmill import wind_power_output\n",
    "\n",
    "from energiapy.utils.data_utils import load_results\n",
    "\n",
    "\n"
   ]
  },
  {
   "cell_type": "code",
   "execution_count": 3,
   "metadata": {},
   "outputs": [],
   "source": [
    "results_cost = load_results(filename='results_cost.pkl')\n",
    "results_gwp_3 = load_results(filename='results_gwp_3.pkl')\n",
    "results_gwp_6 = load_results(filename='results_gwp_6.pkl')\n",
    "results_gwp_9 = load_results(filename='results_gwp_9.pkl')\n",
    "\n"
   ]
  },
  {
   "cell_type": "code",
   "execution_count": 20,
   "metadata": {},
   "outputs": [
    {
     "name": "stdout",
     "output_type": "stream",
     "text": [
      "('HO', 'Compression molding', 'HDPE CM', 0) 4.843272095587461\n",
      "('HO', 'Driving', 'D', 0) 1481940184.77849\n",
      "('HO', 'Extrusion', 'HDPE E', 0) 1.847433685945732\n",
      "('HO', 'HDPE production', 'HDPE CO2', 0) 21.822086420951635\n",
      "('HO', 'Injection molding', 'HDPE IM', 0) 13.281550282744995\n",
      "('HO', 'LiI', 'Brine', 0) 242537.13365418324\n",
      "('HO', 'LiI_d', 'A', 0) 411564.4500913462\n",
      "('HO', 'WF', 'WF_L', 0) 1108171.948491915\n"
     ]
    }
   ],
   "source": [
    "for i in results_cost.output['Cap_P_M'].keys():\n",
    "    if results_cost.output['Cap_P_M'][i] >0:\n",
    "        print(i, results_cost.output['Cap_P_M'][i])"
   ]
  },
  {
   "cell_type": "code",
   "execution_count": 21,
   "metadata": {},
   "outputs": [
    {
     "name": "stdout",
     "output_type": "stream",
     "text": [
      "('HO', 'Compression molding', 'HDPE CM', 0) 303.21764442724174\n",
      "('HO', 'Driving', 'D', 0) 92778271.20635921\n",
      "('HO', 'Extrusion', 'HDPE E', 0) 115.66033859595821\n",
      "('HO', 'HDPE production', 'HDPE CO2', 0) 1366.1924233158468\n",
      "('HO', 'Injection molding', 'HDPE IM', 0) 831.5040558520237\n",
      "('HO', 'LiI', 'Brine', 0) 1286800.9661547744\n",
      "('HO', 'LiI_d', 'A', 0) 714459.6655495714\n",
      "('HO', 'WF', 'WF_L', 0) 4938048.79602939\n"
     ]
    }
   ],
   "source": [
    "for i in results_gwp_3.output['Cap_P_M'].keys():\n",
    "    if results_gwp_3.output['Cap_P_M'][i] >0:\n",
    "        print(i, results_gwp_3.output['Cap_P_M'][i])"
   ]
  },
  {
   "cell_type": "code",
   "execution_count": 22,
   "metadata": {},
   "outputs": [
    {
     "name": "stdout",
     "output_type": "stream",
     "text": [
      "('HO', 'Adsorption', 'B', 0) 6708.776719318552\n",
      "('HO', 'CO_2-Olefin production', 'RMTO', 0) 1225.9278021671032\n",
      "('HO', 'Compression molding', 'HDPE CM', 0) 257.005518340295\n",
      "('HO', 'Driving', 'D', 0) 78638325.04585136\n",
      "('HO', 'Extrusion', 'HDPE E', 0) 98.03303276897854\n",
      "('HO', 'HDPE production', 'HDPE CO2', 0) 1157.976781232879\n",
      "('HO', 'Injection molding', 'HDPE IM', 0) 704.7780193661698\n",
      "('HO', 'LiI', 'Brine', 0) 1546352.7671799157\n",
      "('HO', 'LiI_d', 'A', 0) 714459.6655495714\n",
      "('HO', 'WF', 'WF_L', 0) 4730328.573067571\n"
     ]
    }
   ],
   "source": [
    "for i in results_gwp_6.output['Cap_P_M'].keys():\n",
    "    if results_gwp_6.output['Cap_P_M'][i] >0:\n",
    "        print(i, results_gwp_6.output['Cap_P_M'][i])"
   ]
  },
  {
   "cell_type": "code",
   "execution_count": 23,
   "metadata": {},
   "outputs": [
    {
     "data": {
      "text/plain": [
       "{('C4 fraction', 0): 0.0,\n",
       " ('C5 fraction', 0): 0.0,\n",
       " ('CO2_Vent', 0): 64380.719827062625,\n",
       " ('LPG', 0): 0.0,\n",
       " ('Miles', 0): 2513917999999.9966,\n",
       " ('Propylene', 0): 0.0}"
      ]
     },
     "execution_count": 23,
     "metadata": {},
     "output_type": "execute_result"
    }
   ],
   "source": [
    "results_cost.output['S_network']"
   ]
  },
  {
   "cell_type": "code",
   "execution_count": 24,
   "metadata": {},
   "outputs": [
    {
     "data": {
      "text/plain": [
       "{('C4 fraction', 0): 0.0,\n",
       " ('C5 fraction', 0): 0.0,\n",
       " ('CO2_Vent', 0): 4184746.87526571,\n",
       " ('LPG', 0): 0.0,\n",
       " ('Miles', 0): 163404673379.99988,\n",
       " ('Propylene', 0): 0.0}"
      ]
     },
     "execution_count": 24,
     "metadata": {},
     "output_type": "execute_result"
    }
   ],
   "source": [
    "results_gwp_3.output['S_network']"
   ]
  },
  {
   "cell_type": "code",
   "execution_count": 4,
   "metadata": {},
   "outputs": [],
   "source": [
    "cost = [results_cost.output['objective'],\n",
    "results_gwp_3.output['objective'],\n",
    "results_gwp_6.output['objective'],\n",
    "results_gwp_9.output['objective']]"
   ]
  },
  {
   "cell_type": "code",
   "execution_count": 5,
   "metadata": {},
   "outputs": [],
   "source": [
    "cost = [i/min(cost) for i in cost]"
   ]
  },
  {
   "cell_type": "code",
   "execution_count": 6,
   "metadata": {},
   "outputs": [],
   "source": [
    "gwp= [results_cost.output['global_warming_potential_network'][0],\n",
    "results_gwp_3.output['global_warming_potential_network'][0],\n",
    "results_gwp_6.output['global_warming_potential_network'][0],\n",
    "results_gwp_9.output['global_warming_potential_network'][0]]"
   ]
  },
  {
   "cell_type": "code",
   "execution_count": 7,
   "metadata": {},
   "outputs": [
    {
     "data": {
      "image/png": "[encoded data removed]",
      "text/plain": [
       "<Figure size 900x600 with 1 Axes>"
      ]
     },
     "metadata": {},
     "output_type": "display_data"
    }
   ],
   "source": [
    "rc('font', **{'family': 'serif',\n",
    "    'serif': ['Computer Modern'], 'size': 16})\n",
    "fig, ax = plt.subplots(figsize=(9,6))\n",
    "y_ = cost\n",
    "x_ = [0, 3, 6, 9]\n",
    "ax.plot(x_, y_, color='red')\n",
    "ax.scatter(x_, y_, color='red')\n",
    "plt.title(f'Trade-off between cost and emission reduction')\n",
    "plt.ylabel(\"Cost compared to base case (%)\")\n",
    "plt.xlabel(\"reduction in emission (%)\")\n",
    "ax.set_xticks(x_)\n",
    "ax.set_xticklabels(x_)\n",
    "plt.grid(alpha=0.3)\n",
    "plt.rcdefaults()"
   ]
  },
  {
   "cell_type": "code",
   "execution_count": 8,
   "metadata": {},
   "outputs": [
    {
     "data": {
      "text/plain": [
       "{('HO', 'Adsorption', 0): 0.0,\n",
       " ('HO', 'CO_2-Olefin production', 0): 0.0,\n",
       " ('HO', 'Compression molding', 0): 0.0,\n",
       " ('HO', 'Driving', 0): 0.0,\n",
       " ('HO', 'Extrusion', 0): 0.0,\n",
       " ('HO', 'HDPE production', 0): 0.0,\n",
       " ('HO', 'Injection molding', 0): 0.0,\n",
       " ('HO', 'LiI', 0): 0.0,\n",
       " ('HO', 'LiI_d', 0): 0.0,\n",
       " ('HO', 'PV', 0): 0.0,\n",
       " ('HO', 'WF', 0): 0.0}"
      ]
     },
     "execution_count": 8,
     "metadata": {},
     "output_type": "execute_result"
    }
   ],
   "source": [
    "results_cost.output['global_warming_potential_process']"
   ]
  },
  {
   "cell_type": "code",
   "execution_count": 9,
   "metadata": {},
   "outputs": [
    {
     "data": {
      "text/plain": [
       "{('HO', 'Adsorption', 0): 0.0,\n",
       " ('HO', 'CO_2-Olefin production', 0): 0.0,\n",
       " ('HO', 'Compression molding', 0): 0.0,\n",
       " ('HO', 'Driving', 0): 0.0,\n",
       " ('HO', 'Extrusion', 0): 0.0,\n",
       " ('HO', 'HDPE production', 0): 0.0,\n",
       " ('HO', 'Injection molding', 0): 0.0,\n",
       " ('HO', 'LiI', 0): 13582079484.634262,\n",
       " ('HO', 'LiI_d', 0): 0.0,\n",
       " ('HO', 'PV', 0): 0.0,\n",
       " ('HO', 'WF', 0): 328537492615.34375}"
      ]
     },
     "execution_count": 9,
     "metadata": {},
     "output_type": "execute_result"
    }
   ],
   "source": [
    "results_cost.output['global_warming_potential_material']"
   ]
  },
  {
   "cell_type": "code",
   "execution_count": 10,
   "metadata": {},
   "outputs": [
    {
     "data": {
      "text/plain": [
       "{('HO', 'CO2_air', 0): 0.0,\n",
       " ('HO', 'Cooling water', 0): 0.0,\n",
       " ('HO', 'H2O', 0): 0.0,\n",
       " ('HO', 'Hydrogen', 0): 0.0,\n",
       " ('HO', 'Natural Gas', 0): 39680759.51680911,\n",
       " ('HO', 'Oil', 0): 0.0,\n",
       " ('HO', 'Oxygen', 0): 0.0,\n",
       " ('HO', 'Solar', 0): 0.0,\n",
       " ('HO', 'Wind', 0): 0.0}"
      ]
     },
     "execution_count": 10,
     "metadata": {},
     "output_type": "execute_result"
    }
   ],
   "source": [
    "results_cost.output['global_warming_potential_resource_consumption']"
   ]
  },
  {
   "cell_type": "code",
   "execution_count": 11,
   "metadata": {},
   "outputs": [
    {
     "data": {
      "text/plain": [
       "{('HO', 'CO2_air', 0): 0.0,\n",
       " ('HO', 'Cooling water', 0): 0.0,\n",
       " ('HO', 'H2O', 0): 0.0,\n",
       " ('HO', 'Hydrogen', 0): 0.0,\n",
       " ('HO', 'Natural Gas', 0): 2176377591.4086676,\n",
       " ('HO', 'Oil', 0): 0.0,\n",
       " ('HO', 'Oxygen', 0): 0.0,\n",
       " ('HO', 'Solar', 0): 0.0,\n",
       " ('HO', 'Wind', 0): 0.0}"
      ]
     },
     "execution_count": 11,
     "metadata": {},
     "output_type": "execute_result"
    }
   ],
   "source": [
    "results_gwp_6.output['global_warming_potential_resource_consumption']"
   ]
  },
  {
   "cell_type": "code",
   "execution_count": 12,
   "metadata": {},
   "outputs": [],
   "source": [
    "em_material_gwp_6 = sum(results_gwp_6.output['global_warming_potential_material'].values())\n",
    "em_resource_cons_gwp_6 = sum(results_gwp_6.output['global_warming_potential_resource_consumption'].values())\n",
    "em_resource_disc_gwp_6 = sum(results_gwp_6.output['global_warming_potential_resource_discharge'].values())\n"
   ]
  },
  {
   "cell_type": "code",
   "execution_count": 13,
   "metadata": {},
   "outputs": [],
   "source": [
    "em_material_gwp_9 = sum(results_gwp_9.output['global_warming_potential_material'].values())\n",
    "em_resource_cons_gwp_9 = sum(results_gwp_9.output['global_warming_potential_resource_consumption'].values())\n",
    "em_resource_disc_gwp_9 = sum(results_gwp_9.output['global_warming_potential_resource_discharge'].values())\n"
   ]
  },
  {
   "cell_type": "code",
   "execution_count": 14,
   "metadata": {},
   "outputs": [],
   "source": [
    "em_material_cost = sum(results_cost.output['global_warming_potential_material'].values())\n",
    "em_resource_cons_cost = sum(results_cost.output['global_warming_potential_resource_consumption'].values())\n",
    "em_resource_disc_cost = sum(results_cost.output['global_warming_potential_resource_discharge'].values())"
   ]
  },
  {
   "cell_type": "code",
   "execution_count": 15,
   "metadata": {},
   "outputs": [
    {
     "data": {
      "text/plain": [
       "-3.884682460670363"
      ]
     },
     "execution_count": 15,
     "metadata": {},
     "output_type": "execute_result"
    }
   ],
   "source": [
    "max_reduction = (results_cost.output['objective'] - results_gwp_9.output['objective'])/results_cost.output['objective']\n",
    "max_reduction"
   ]
  },
  {
   "cell_type": "code",
   "execution_count": 16,
   "metadata": {},
   "outputs": [
    {
     "data": {
      "image/png": "[encoded data removed]",
      "text/plain": [
       "<Figure size 900x600 with 1 Axes>"
      ]
     },
     "metadata": {},
     "output_type": "display_data"
    }
   ],
   "source": [
    "rc('font', **{'family': 'serif',\n",
    "    'serif': ['Computer Modern'], 'size': 16})\n",
    "fig, ax = plt.subplots(figsize=(9,6))\n",
    "# ax.plot(x_, y_, linewidth=0.5, color='red')\n",
    "x_  = ['material', 'resource(cons)', 'resource(disc)']\n",
    "y_ = [em_material_gwp_6/20, em_resource_cons_gwp_6, em_resource_disc_gwp_6]\n",
    "y_ = [i/10**9 for i in y_]\n",
    "ax.bar(x_, y_)\n",
    "# ax.set_yscale('log')\n",
    "plt.title(f'Emission by source')\n",
    "plt.ylabel(\"MMtonne CO2-eq\")\n",
    "plt.xlabel(\"Source of emission\")\n",
    "plt.grid(alpha=0.3)\n",
    "plt.rcdefaults()"
   ]
  },
  {
   "cell_type": "code",
   "execution_count": 36,
   "metadata": {},
   "outputs": [
    {
     "data": {
      "image/png": "[encoded data removed]",
      "text/plain": [
       "<Figure size 640x480 with 1 Axes>"
      ]
     },
     "metadata": {},
     "output_type": "display_data"
    }
   ],
   "source": [
    "plt.bar(['material', 'resource(cons)', 'resource(disc)'], [em_material_gwp_9, em_resource_cons_gwp_9, em_resource_disc_gwp_9])\n",
    "plt.yscale('log')"
   ]
  },
  {
   "cell_type": "code",
   "execution_count": 31,
   "metadata": {},
   "outputs": [
    {
     "data": {
      "image/png": "[encoded data removed]",
      "text/plain": [
       "<Figure size 640x480 with 1 Axes>"
      ]
     },
     "metadata": {},
     "output_type": "display_data"
    }
   ],
   "source": [
    "plt.bar(['material', 'resource(cons)', 'resource(disc)'], [em_material_gwp_6, em_resource_cons_gwp_6, em_resource_disc_gwp_6])\n",
    "plt.yscale('log')"
   ]
  },
  {
   "cell_type": "code",
   "execution_count": 33,
   "metadata": {},
   "outputs": [
    {
     "data": {
      "image/png": "[encoded data removed]",
      "text/plain": [
       "<Figure size 640x480 with 1 Axes>"
      ]
     },
     "metadata": {},
     "output_type": "display_data"
    }
   ],
   "source": [
    "plt.bar(['material', 'resource(cons)', 'resource(disc)'], [em_material_cost, em_resource_cons_cost, em_resource_disc_cost])\n",
    "plt.yscale('log')"
   ]
  },
  {
   "cell_type": "code",
   "execution_count": 12,
   "metadata": {},
   "outputs": [
    {
     "data": {
      "text/plain": [
       "{('HO', 'C4 fraction', 0): 0.0,\n",
       " ('HO', 'C5 fraction', 0): 0.0,\n",
       " ('HO', 'CO2_Vent', 0): 4184746875.3198185,\n",
       " ('HO', 'LPG', 0): 0.0,\n",
       " ('HO', 'Miles', 0): 0.0,\n",
       " ('HO', 'Propylene', 0): 0.0}"
      ]
     },
     "execution_count": 12,
     "metadata": {},
     "output_type": "execute_result"
    }
   ],
   "source": [
    "results_cost.output['global_warming_potential_resource_discharge']"
   ]
  },
  {
   "cell_type": "code",
   "execution_count": 14,
   "metadata": {},
   "outputs": [
    {
     "data": {
      "text/plain": [
       "{('HO', 'C4 fraction', 0): 0.0,\n",
       " ('HO', 'C5 fraction', 0): 0.0,\n",
       " ('HO', 'CO2_Vent', 0): 3919704122.5654783,\n",
       " ('HO', 'LPG', 0): 0.0,\n",
       " ('HO', 'Miles', 0): 0.0,\n",
       " ('HO', 'Propylene', 0): 0.0}"
      ]
     },
     "execution_count": 14,
     "metadata": {},
     "output_type": "execute_result"
    }
   ],
   "source": [
    "results_gwp_6.output['global_warming_potential_resource_discharge']"
   ]
  },
  {
   "cell_type": "code",
   "execution_count": 15,
   "metadata": {},
   "outputs": [
    {
     "data": {
      "text/plain": [
       "{('C4 fraction', 0): 0.0,\n",
       " ('C5 fraction', 0): 0.0,\n",
       " ('CO2_Vent', 0): 4184746.8753198185,\n",
       " ('LPG', 0): 0.0,\n",
       " ('Miles', 0): 163404673379.99988,\n",
       " ('Propylene', 0): 0.0}"
      ]
     },
     "execution_count": 15,
     "metadata": {},
     "output_type": "execute_result"
    }
   ],
   "source": [
    "results_cost.output['S_network']"
   ]
  },
  {
   "cell_type": "code",
   "execution_count": 17,
   "metadata": {},
   "outputs": [
    {
     "data": {
      "text/plain": [
       "{('C4 fraction', 0): 81697.03362134685,\n",
       " ('C5 fraction', 0): 0.0,\n",
       " ('CO2_Vent', 0): 3919704.1225654786,\n",
       " ('LPG', 0): 40848.51681067343,\n",
       " ('Miles', 0): 163404673379.9999,\n",
       " ('Propylene', 0): 204242.58405336714}"
      ]
     },
     "execution_count": 17,
     "metadata": {},
     "output_type": "execute_result"
    }
   ],
   "source": [
    "results_gwp_6.output['S_network']"
   ]
  },
  {
   "cell_type": "code",
   "execution_count": 48,
   "metadata": {},
   "outputs": [
    {
     "data": {
      "text/plain": [
       "{('HO', 'Adsorption', 0): 0.0,\n",
       " ('HO', 'CO_2-Olefin production', 0): 0.0,\n",
       " ('HO', 'Compression molding', 0): 314.8126927250356,\n",
       " ('HO', 'Driving', 0): 96326114.00309223,\n",
       " ('HO', 'Extrusion', 0): 120.08319207037442,\n",
       " ('HO', 'HDPE production', 0): 1418.4356467019725,\n",
       " ('HO', 'Injection molding', 0): 863.3007862356646,\n",
       " ('HO', 'LiI', 0): 1122759.7482757,\n",
       " ('HO', 'LiI_d', 0): 714459.6655495723,\n",
       " ('HO', 'PV', 0): 0.0,\n",
       " ('HO', 'WF', 0): 5129980.878346685}"
      ]
     },
     "execution_count": 48,
     "metadata": {},
     "output_type": "execute_result"
    }
   ],
   "source": [
    "results_cost.output['Cap_P']"
   ]
  },
  {
   "cell_type": "code",
   "execution_count": 50,
   "metadata": {},
   "outputs": [
    {
     "data": {
      "text/plain": [
       "{('HO', 'Adsorption', 0): 0.0,\n",
       " ('HO', 'CO_2-Olefin production', 0): 0.0,\n",
       " ('HO', 'Compression molding', 0): 303.21764442724174,\n",
       " ('HO', 'Driving', 0): 92778271.20635921,\n",
       " ('HO', 'Extrusion', 0): 115.66033859595821,\n",
       " ('HO', 'HDPE production', 0): 1366.1924233158468,\n",
       " ('HO', 'Injection molding', 0): 831.5040558520237,\n",
       " ('HO', 'LiI', 0): 1286800.9661547744,\n",
       " ('HO', 'LiI_d', 0): 714459.6655495714,\n",
       " ('HO', 'PV', 0): 0.0,\n",
       " ('HO', 'WF', 0): 4938048.79602939}"
      ]
     },
     "execution_count": 50,
     "metadata": {},
     "output_type": "execute_result"
    }
   ],
   "source": [
    "results_gwp_3.output['Cap_P']"
   ]
  },
  {
   "cell_type": "code",
   "execution_count": 72,
   "metadata": {},
   "outputs": [
    {
     "data": {
      "text/plain": [
       "{('HO', 'Adsorption', 0): 0.0,\n",
       " ('HO', 'CO_2-Olefin production', 0): 0.0,\n",
       " ('HO', 'Compression molding', 0): 0.0,\n",
       " ('HO', 'Driving', 0): 0.0,\n",
       " ('HO', 'Extrusion', 0): 0.0,\n",
       " ('HO', 'HDPE production', 0): 0.0,\n",
       " ('HO', 'Injection molding', 0): 0.0,\n",
       " ('HO', 'LiI', 0): 86595754962.07527,\n",
       " ('HO', 'LiI_d', 0): 0.0,\n",
       " ('HO', 'PV', 0): 0.0,\n",
       " ('HO', 'WF', 0): 1402390929275.246}"
      ]
     },
     "execution_count": 72,
     "metadata": {},
     "output_type": "execute_result"
    }
   ],
   "source": [
    "results_gwp_6.output['global_warming_potential_material']"
   ]
  },
  {
   "cell_type": "code",
   "execution_count": 74,
   "metadata": {},
   "outputs": [
    {
     "data": {
      "text/plain": [
       "{('HO', 'Adsorption', 'A', 0): 0.0,\n",
       " ('HO', 'Adsorption', 'B', 0): 0.0,\n",
       " ('HO', 'Adsorption', 'Brine', 0): 0.0,\n",
       " ('HO', 'Adsorption', 'D', 0): 0.0,\n",
       " ('HO', 'Adsorption', 'HDPE BAU', 0): 0.0,\n",
       " ('HO', 'Adsorption', 'HDPE CM', 0): 0.0,\n",
       " ('HO', 'Adsorption', 'HDPE CO2', 0): 0.0,\n",
       " ('HO', 'Adsorption', 'HDPE E', 0): 0.0,\n",
       " ('HO', 'Adsorption', 'HDPE IM', 0): 0.0,\n",
       " ('HO', 'Adsorption', 'Mo', 0): 0.0,\n",
       " ('HO', 'Adsorption', 'Po', 0): 0.0,\n",
       " ('HO', 'Adsorption', 'RMTO', 0): 0.0,\n",
       " ('HO', 'Adsorption', 'RMTP', 0): 0.0,\n",
       " ('HO', 'Adsorption', 'ROCM', 0): 0.0,\n",
       " ('HO', 'Adsorption', 'Rock', 0): 0.0,\n",
       " ('HO', 'Adsorption', 'WF_L', 0): 0.0,\n",
       " ('HO', 'Adsorption', 'WF_O', 0): 0.0,\n",
       " ('HO', 'CO_2-Olefin production', 'A', 0): 0.0,\n",
       " ('HO', 'CO_2-Olefin production', 'B', 0): 0.0,\n",
       " ('HO', 'CO_2-Olefin production', 'Brine', 0): 0.0,\n",
       " ('HO', 'CO_2-Olefin production', 'D', 0): 0.0,\n",
       " ('HO', 'CO_2-Olefin production', 'HDPE BAU', 0): 0.0,\n",
       " ('HO', 'CO_2-Olefin production', 'HDPE CM', 0): 0.0,\n",
       " ('HO', 'CO_2-Olefin production', 'HDPE CO2', 0): 0.0,\n",
       " ('HO', 'CO_2-Olefin production', 'HDPE E', 0): 0.0,\n",
       " ('HO', 'CO_2-Olefin production', 'HDPE IM', 0): 0.0,\n",
       " ('HO', 'CO_2-Olefin production', 'Mo', 0): 0.0,\n",
       " ('HO', 'CO_2-Olefin production', 'Po', 0): 0.0,\n",
       " ('HO', 'CO_2-Olefin production', 'RMTO', 0): 0.0,\n",
       " ('HO', 'CO_2-Olefin production', 'RMTP', 0): 0.0,\n",
       " ('HO', 'CO_2-Olefin production', 'ROCM', 0): 0.0,\n",
       " ('HO', 'CO_2-Olefin production', 'Rock', 0): 0.0,\n",
       " ('HO', 'CO_2-Olefin production', 'WF_L', 0): 0.0,\n",
       " ('HO', 'CO_2-Olefin production', 'WF_O', 0): 0.0,\n",
       " ('HO', 'Compression molding', 'A', 0): 0.0,\n",
       " ('HO', 'Compression molding', 'B', 0): 0.0,\n",
       " ('HO', 'Compression molding', 'Brine', 0): 0.0,\n",
       " ('HO', 'Compression molding', 'D', 0): 0.0,\n",
       " ('HO', 'Compression molding', 'HDPE BAU', 0): 0.0,\n",
       " ('HO', 'Compression molding', 'HDPE CM', 0): 0.0,\n",
       " ('HO', 'Compression molding', 'HDPE CO2', 0): 0.0,\n",
       " ('HO', 'Compression molding', 'HDPE E', 0): 0.0,\n",
       " ('HO', 'Compression molding', 'HDPE IM', 0): 0.0,\n",
       " ('HO', 'Compression molding', 'Mo', 0): 0.0,\n",
       " ('HO', 'Compression molding', 'Po', 0): 0.0,\n",
       " ('HO', 'Compression molding', 'RMTO', 0): 0.0,\n",
       " ('HO', 'Compression molding', 'RMTP', 0): 0.0,\n",
       " ('HO', 'Compression molding', 'ROCM', 0): 0.0,\n",
       " ('HO', 'Compression molding', 'Rock', 0): 0.0,\n",
       " ('HO', 'Compression molding', 'WF_L', 0): 0.0,\n",
       " ('HO', 'Compression molding', 'WF_O', 0): 0.0,\n",
       " ('HO', 'Driving', 'A', 0): 0.0,\n",
       " ('HO', 'Driving', 'B', 0): 0.0,\n",
       " ('HO', 'Driving', 'Brine', 0): 0.0,\n",
       " ('HO', 'Driving', 'D', 0): 0.0,\n",
       " ('HO', 'Driving', 'HDPE BAU', 0): 0.0,\n",
       " ('HO', 'Driving', 'HDPE CM', 0): 0.0,\n",
       " ('HO', 'Driving', 'HDPE CO2', 0): 0.0,\n",
       " ('HO', 'Driving', 'HDPE E', 0): 0.0,\n",
       " ('HO', 'Driving', 'HDPE IM', 0): 0.0,\n",
       " ('HO', 'Driving', 'Mo', 0): 0.0,\n",
       " ('HO', 'Driving', 'Po', 0): 0.0,\n",
       " ('HO', 'Driving', 'RMTO', 0): 0.0,\n",
       " ('HO', 'Driving', 'RMTP', 0): 0.0,\n",
       " ('HO', 'Driving', 'ROCM', 0): 0.0,\n",
       " ('HO', 'Driving', 'Rock', 0): 0.0,\n",
       " ('HO', 'Driving', 'WF_L', 0): 0.0,\n",
       " ('HO', 'Driving', 'WF_O', 0): 0.0,\n",
       " ('HO', 'Extrusion', 'A', 0): 0.0,\n",
       " ('HO', 'Extrusion', 'B', 0): 0.0,\n",
       " ('HO', 'Extrusion', 'Brine', 0): 0.0,\n",
       " ('HO', 'Extrusion', 'D', 0): 0.0,\n",
       " ('HO', 'Extrusion', 'HDPE BAU', 0): 0.0,\n",
       " ('HO', 'Extrusion', 'HDPE CM', 0): 0.0,\n",
       " ('HO', 'Extrusion', 'HDPE CO2', 0): 0.0,\n",
       " ('HO', 'Extrusion', 'HDPE E', 0): 0.0,\n",
       " ('HO', 'Extrusion', 'HDPE IM', 0): 0.0,\n",
       " ('HO', 'Extrusion', 'Mo', 0): 0.0,\n",
       " ('HO', 'Extrusion', 'Po', 0): 0.0,\n",
       " ('HO', 'Extrusion', 'RMTO', 0): 0.0,\n",
       " ('HO', 'Extrusion', 'RMTP', 0): 0.0,\n",
       " ('HO', 'Extrusion', 'ROCM', 0): 0.0,\n",
       " ('HO', 'Extrusion', 'Rock', 0): 0.0,\n",
       " ('HO', 'Extrusion', 'WF_L', 0): 0.0,\n",
       " ('HO', 'Extrusion', 'WF_O', 0): 0.0,\n",
       " ('HO', 'HDPE production', 'A', 0): 0.0,\n",
       " ('HO', 'HDPE production', 'B', 0): 0.0,\n",
       " ('HO', 'HDPE production', 'Brine', 0): 0.0,\n",
       " ('HO', 'HDPE production', 'D', 0): 0.0,\n",
       " ('HO', 'HDPE production', 'HDPE BAU', 0): 0.0,\n",
       " ('HO', 'HDPE production', 'HDPE CM', 0): 0.0,\n",
       " ('HO', 'HDPE production', 'HDPE CO2', 0): 0.0,\n",
       " ('HO', 'HDPE production', 'HDPE E', 0): 0.0,\n",
       " ('HO', 'HDPE production', 'HDPE IM', 0): 0.0,\n",
       " ('HO', 'HDPE production', 'Mo', 0): 0.0,\n",
       " ('HO', 'HDPE production', 'Po', 0): 0.0,\n",
       " ('HO', 'HDPE production', 'RMTO', 0): 0.0,\n",
       " ('HO', 'HDPE production', 'RMTP', 0): 0.0,\n",
       " ('HO', 'HDPE production', 'ROCM', 0): 0.0,\n",
       " ('HO', 'HDPE production', 'Rock', 0): 0.0,\n",
       " ('HO', 'HDPE production', 'WF_L', 0): 0.0,\n",
       " ('HO', 'HDPE production', 'WF_O', 0): 0.0,\n",
       " ('HO', 'Injection molding', 'A', 0): 0.0,\n",
       " ('HO', 'Injection molding', 'B', 0): 0.0,\n",
       " ('HO', 'Injection molding', 'Brine', 0): 0.0,\n",
       " ('HO', 'Injection molding', 'D', 0): 0.0,\n",
       " ('HO', 'Injection molding', 'HDPE BAU', 0): 0.0,\n",
       " ('HO', 'Injection molding', 'HDPE CM', 0): 0.0,\n",
       " ('HO', 'Injection molding', 'HDPE CO2', 0): 0.0,\n",
       " ('HO', 'Injection molding', 'HDPE E', 0): 0.0,\n",
       " ('HO', 'Injection molding', 'HDPE IM', 0): 0.0,\n",
       " ('HO', 'Injection molding', 'Mo', 0): 0.0,\n",
       " ('HO', 'Injection molding', 'Po', 0): 0.0,\n",
       " ('HO', 'Injection molding', 'RMTO', 0): 0.0,\n",
       " ('HO', 'Injection molding', 'RMTP', 0): 0.0,\n",
       " ('HO', 'Injection molding', 'ROCM', 0): 0.0,\n",
       " ('HO', 'Injection molding', 'Rock', 0): 0.0,\n",
       " ('HO', 'Injection molding', 'WF_L', 0): 0.0,\n",
       " ('HO', 'Injection molding', 'WF_O', 0): 0.0,\n",
       " ('HO', 'LiI', 'A', 0): 0.0,\n",
       " ('HO', 'LiI', 'B', 0): 0.0,\n",
       " ('HO', 'LiI', 'Brine', 0): 86595754962.07527,\n",
       " ('HO', 'LiI', 'D', 0): 0.0,\n",
       " ('HO', 'LiI', 'HDPE BAU', 0): 0.0,\n",
       " ('HO', 'LiI', 'HDPE CM', 0): 0.0,\n",
       " ('HO', 'LiI', 'HDPE CO2', 0): 0.0,\n",
       " ('HO', 'LiI', 'HDPE E', 0): 0.0,\n",
       " ('HO', 'LiI', 'HDPE IM', 0): 0.0,\n",
       " ('HO', 'LiI', 'Mo', 0): 0.0,\n",
       " ('HO', 'LiI', 'Po', 0): 0.0,\n",
       " ('HO', 'LiI', 'RMTO', 0): 0.0,\n",
       " ('HO', 'LiI', 'RMTP', 0): 0.0,\n",
       " ('HO', 'LiI', 'ROCM', 0): 0.0,\n",
       " ('HO', 'LiI', 'Rock', 0): 0.0,\n",
       " ('HO', 'LiI', 'WF_L', 0): 0.0,\n",
       " ('HO', 'LiI', 'WF_O', 0): 0.0,\n",
       " ('HO', 'LiI_d', 'A', 0): 0.0,\n",
       " ('HO', 'LiI_d', 'B', 0): 0.0,\n",
       " ('HO', 'LiI_d', 'Brine', 0): 0.0,\n",
       " ('HO', 'LiI_d', 'D', 0): 0.0,\n",
       " ('HO', 'LiI_d', 'HDPE BAU', 0): 0.0,\n",
       " ('HO', 'LiI_d', 'HDPE CM', 0): 0.0,\n",
       " ('HO', 'LiI_d', 'HDPE CO2', 0): 0.0,\n",
       " ('HO', 'LiI_d', 'HDPE E', 0): 0.0,\n",
       " ('HO', 'LiI_d', 'HDPE IM', 0): 0.0,\n",
       " ('HO', 'LiI_d', 'Mo', 0): 0.0,\n",
       " ('HO', 'LiI_d', 'Po', 0): 0.0,\n",
       " ('HO', 'LiI_d', 'RMTO', 0): 0.0,\n",
       " ('HO', 'LiI_d', 'RMTP', 0): 0.0,\n",
       " ('HO', 'LiI_d', 'ROCM', 0): 0.0,\n",
       " ('HO', 'LiI_d', 'Rock', 0): 0.0,\n",
       " ('HO', 'LiI_d', 'WF_L', 0): 0.0,\n",
       " ('HO', 'LiI_d', 'WF_O', 0): 0.0,\n",
       " ('HO', 'PV', 'A', 0): 0.0,\n",
       " ('HO', 'PV', 'B', 0): 0.0,\n",
       " ('HO', 'PV', 'Brine', 0): 0.0,\n",
       " ('HO', 'PV', 'D', 0): 0.0,\n",
       " ('HO', 'PV', 'HDPE BAU', 0): 0.0,\n",
       " ('HO', 'PV', 'HDPE CM', 0): 0.0,\n",
       " ('HO', 'PV', 'HDPE CO2', 0): 0.0,\n",
       " ('HO', 'PV', 'HDPE E', 0): 0.0,\n",
       " ('HO', 'PV', 'HDPE IM', 0): 0.0,\n",
       " ('HO', 'PV', 'Mo', 0): 0.0,\n",
       " ('HO', 'PV', 'Po', 0): 0.0,\n",
       " ('HO', 'PV', 'RMTO', 0): 0.0,\n",
       " ('HO', 'PV', 'RMTP', 0): 0.0,\n",
       " ('HO', 'PV', 'ROCM', 0): 0.0,\n",
       " ('HO', 'PV', 'Rock', 0): 0.0,\n",
       " ('HO', 'PV', 'WF_L', 0): 0.0,\n",
       " ('HO', 'PV', 'WF_O', 0): 0.0,\n",
       " ('HO', 'WF', 'A', 0): 0.0,\n",
       " ('HO', 'WF', 'B', 0): 0.0,\n",
       " ('HO', 'WF', 'Brine', 0): 0.0,\n",
       " ('HO', 'WF', 'D', 0): 0.0,\n",
       " ('HO', 'WF', 'HDPE BAU', 0): 0.0,\n",
       " ('HO', 'WF', 'HDPE CM', 0): 0.0,\n",
       " ('HO', 'WF', 'HDPE CO2', 0): 0.0,\n",
       " ('HO', 'WF', 'HDPE E', 0): 0.0,\n",
       " ('HO', 'WF', 'HDPE IM', 0): 0.0,\n",
       " ('HO', 'WF', 'Mo', 0): 0.0,\n",
       " ('HO', 'WF', 'Po', 0): 0.0,\n",
       " ('HO', 'WF', 'RMTO', 0): 0.0,\n",
       " ('HO', 'WF', 'RMTP', 0): 0.0,\n",
       " ('HO', 'WF', 'ROCM', 0): 0.0,\n",
       " ('HO', 'WF', 'Rock', 0): 0.0,\n",
       " ('HO', 'WF', 'WF_L', 0): 1402390929275.246,\n",
       " ('HO', 'WF', 'WF_O', 0): 0.0}"
      ]
     },
     "execution_count": 74,
     "metadata": {},
     "output_type": "execute_result"
    }
   ],
   "source": [
    "results_gwp_6.output['global_warming_potential_material_mode']"
   ]
  },
  {
   "cell_type": "code",
   "execution_count": 73,
   "metadata": {},
   "outputs": [
    {
     "data": {
      "text/plain": [
       "{('HO', 'C4 fraction', 0): 0.0,\n",
       " ('HO', 'C5 fraction', 0): 0.0,\n",
       " ('HO', 'CO2', 0): 0.0,\n",
       " ('HO', 'CO2_Vent', 0): 3919704122.5654783,\n",
       " ('HO', 'CO2_air', 0): 0.0,\n",
       " ('HO', 'Cooling water', 0): 0.0,\n",
       " ('HO', 'Ethylene', 0): 0.0,\n",
       " ('HO', 'H2O', 0): 0.0,\n",
       " ('HO', 'HDPE_CM', 0): 0.0,\n",
       " ('HO', 'HDPE_E', 0): 0.0,\n",
       " ('HO', 'HDPE_IM', 0): 0.0,\n",
       " ('HO', 'High density polyethylene', 0): 0.0,\n",
       " ('HO', 'Hydrogen', 0): 0.0,\n",
       " ('HO', 'LPG', 0): 0.0,\n",
       " ('HO', 'LiIPower', 0): 0.0,\n",
       " ('HO', 'Miles', 0): 0.0,\n",
       " ('HO', 'Natural Gas', 0): 2176377591.4086676,\n",
       " ('HO', 'Oil', 0): 0.0,\n",
       " ('HO', 'Oxygen', 0): 0.0,\n",
       " ('HO', 'Power', 0): 0.0,\n",
       " ('HO', 'Propylene', 0): 0.0,\n",
       " ('HO', 'Solar', 0): 0.0,\n",
       " ('HO', 'Wind', 0): 0.0}"
      ]
     },
     "execution_count": 73,
     "metadata": {},
     "output_type": "execute_result"
    }
   ],
   "source": [
    "results_gwp_6.output['global_warming_potential_resource']"
   ]
  },
  {
   "cell_type": "code",
   "execution_count": null,
   "metadata": {},
   "outputs": [],
   "source": [
    "gwp_lith = results_gwp_6.output['global_warming_potential_material'][('HO', 'LiI', 0)]\n"
   ]
  },
  {
   "cell_type": "code",
   "execution_count": 62,
   "metadata": {},
   "outputs": [
    {
     "data": {
      "text/plain": [
       "{('HO', 'Adsorption', 'A', 0): 0.0,\n",
       " ('HO', 'Adsorption', 'B', 0): 0.0,\n",
       " ('HO', 'Adsorption', 'Brine', 0): 0.0,\n",
       " ('HO', 'Adsorption', 'D', 0): 0.0,\n",
       " ('HO', 'Adsorption', 'HDPE BAU', 0): 0.0,\n",
       " ('HO', 'Adsorption', 'HDPE CM', 0): 0.0,\n",
       " ('HO', 'Adsorption', 'HDPE CO2', 0): 0.0,\n",
       " ('HO', 'Adsorption', 'HDPE E', 0): 0.0,\n",
       " ('HO', 'Adsorption', 'HDPE IM', 0): 0.0,\n",
       " ('HO', 'Adsorption', 'Mo', 0): 0.0,\n",
       " ('HO', 'Adsorption', 'Po', 0): 0.0,\n",
       " ('HO', 'Adsorption', 'RMTO', 0): 0.0,\n",
       " ('HO', 'Adsorption', 'RMTP', 0): 0.0,\n",
       " ('HO', 'Adsorption', 'ROCM', 0): 0.0,\n",
       " ('HO', 'Adsorption', 'Rock', 0): 0.0,\n",
       " ('HO', 'Adsorption', 'WF_L', 0): 0.0,\n",
       " ('HO', 'Adsorption', 'WF_O', 0): 0.0,\n",
       " ('HO', 'CO_2-Olefin production', 'A', 0): 0.0,\n",
       " ('HO', 'CO_2-Olefin production', 'B', 0): 0.0,\n",
       " ('HO', 'CO_2-Olefin production', 'Brine', 0): 0.0,\n",
       " ('HO', 'CO_2-Olefin production', 'D', 0): 0.0,\n",
       " ('HO', 'CO_2-Olefin production', 'HDPE BAU', 0): 0.0,\n",
       " ('HO', 'CO_2-Olefin production', 'HDPE CM', 0): 0.0,\n",
       " ('HO', 'CO_2-Olefin production', 'HDPE CO2', 0): 0.0,\n",
       " ('HO', 'CO_2-Olefin production', 'HDPE E', 0): 0.0,\n",
       " ('HO', 'CO_2-Olefin production', 'HDPE IM', 0): 0.0,\n",
       " ('HO', 'CO_2-Olefin production', 'Mo', 0): 0.0,\n",
       " ('HO', 'CO_2-Olefin production', 'Po', 0): 0.0,\n",
       " ('HO', 'CO_2-Olefin production', 'RMTO', 0): 0.0,\n",
       " ('HO', 'CO_2-Olefin production', 'RMTP', 0): 0.0,\n",
       " ('HO', 'CO_2-Olefin production', 'ROCM', 0): 0.0,\n",
       " ('HO', 'CO_2-Olefin production', 'Rock', 0): 0.0,\n",
       " ('HO', 'CO_2-Olefin production', 'WF_L', 0): 0.0,\n",
       " ('HO', 'CO_2-Olefin production', 'WF_O', 0): 0.0,\n",
       " ('HO', 'Compression molding', 'A', 0): 0.0,\n",
       " ('HO', 'Compression molding', 'B', 0): 0.0,\n",
       " ('HO', 'Compression molding', 'Brine', 0): 0.0,\n",
       " ('HO', 'Compression molding', 'D', 0): 0.0,\n",
       " ('HO', 'Compression molding', 'HDPE BAU', 0): 0.0,\n",
       " ('HO', 'Compression molding', 'HDPE CM', 0): 314.8126927250356,\n",
       " ('HO', 'Compression molding', 'HDPE CO2', 0): 0.0,\n",
       " ('HO', 'Compression molding', 'HDPE E', 0): 0.0,\n",
       " ('HO', 'Compression molding', 'HDPE IM', 0): 0.0,\n",
       " ('HO', 'Compression molding', 'Mo', 0): 0.0,\n",
       " ('HO', 'Compression molding', 'Po', 0): 0.0,\n",
       " ('HO', 'Compression molding', 'RMTO', 0): 0.0,\n",
       " ('HO', 'Compression molding', 'RMTP', 0): 0.0,\n",
       " ('HO', 'Compression molding', 'ROCM', 0): 0.0,\n",
       " ('HO', 'Compression molding', 'Rock', 0): 0.0,\n",
       " ('HO', 'Compression molding', 'WF_L', 0): 0.0,\n",
       " ('HO', 'Compression molding', 'WF_O', 0): 0.0,\n",
       " ('HO', 'Driving', 'A', 0): 0.0,\n",
       " ('HO', 'Driving', 'B', 0): 0.0,\n",
       " ('HO', 'Driving', 'Brine', 0): 0.0,\n",
       " ('HO', 'Driving', 'D', 0): 96326114.00309223,\n",
       " ('HO', 'Driving', 'HDPE BAU', 0): 0.0,\n",
       " ('HO', 'Driving', 'HDPE CM', 0): 0.0,\n",
       " ('HO', 'Driving', 'HDPE CO2', 0): 0.0,\n",
       " ('HO', 'Driving', 'HDPE E', 0): 0.0,\n",
       " ('HO', 'Driving', 'HDPE IM', 0): 0.0,\n",
       " ('HO', 'Driving', 'Mo', 0): 0.0,\n",
       " ('HO', 'Driving', 'Po', 0): 0.0,\n",
       " ('HO', 'Driving', 'RMTO', 0): 0.0,\n",
       " ('HO', 'Driving', 'RMTP', 0): 0.0,\n",
       " ('HO', 'Driving', 'ROCM', 0): 0.0,\n",
       " ('HO', 'Driving', 'Rock', 0): 0.0,\n",
       " ('HO', 'Driving', 'WF_L', 0): 0.0,\n",
       " ('HO', 'Driving', 'WF_O', 0): 0.0,\n",
       " ('HO', 'Extrusion', 'A', 0): 0.0,\n",
       " ('HO', 'Extrusion', 'B', 0): 0.0,\n",
       " ('HO', 'Extrusion', 'Brine', 0): 0.0,\n",
       " ('HO', 'Extrusion', 'D', 0): 0.0,\n",
       " ('HO', 'Extrusion', 'HDPE BAU', 0): 0.0,\n",
       " ('HO', 'Extrusion', 'HDPE CM', 0): 0.0,\n",
       " ('HO', 'Extrusion', 'HDPE CO2', 0): 0.0,\n",
       " ('HO', 'Extrusion', 'HDPE E', 0): 120.08319207037442,\n",
       " ('HO', 'Extrusion', 'HDPE IM', 0): 0.0,\n",
       " ('HO', 'Extrusion', 'Mo', 0): 0.0,\n",
       " ('HO', 'Extrusion', 'Po', 0): 0.0,\n",
       " ('HO', 'Extrusion', 'RMTO', 0): 0.0,\n",
       " ('HO', 'Extrusion', 'RMTP', 0): 0.0,\n",
       " ('HO', 'Extrusion', 'ROCM', 0): 0.0,\n",
       " ('HO', 'Extrusion', 'Rock', 0): 0.0,\n",
       " ('HO', 'Extrusion', 'WF_L', 0): 0.0,\n",
       " ('HO', 'Extrusion', 'WF_O', 0): 0.0,\n",
       " ('HO', 'HDPE production', 'A', 0): 0.0,\n",
       " ('HO', 'HDPE production', 'B', 0): 0.0,\n",
       " ('HO', 'HDPE production', 'Brine', 0): 0.0,\n",
       " ('HO', 'HDPE production', 'D', 0): 0.0,\n",
       " ('HO', 'HDPE production', 'HDPE BAU', 0): 0.0,\n",
       " ('HO', 'HDPE production', 'HDPE CM', 0): 0.0,\n",
       " ('HO', 'HDPE production', 'HDPE CO2', 0): 1418.4356467019725,\n",
       " ('HO', 'HDPE production', 'HDPE E', 0): 0.0,\n",
       " ('HO', 'HDPE production', 'HDPE IM', 0): 0.0,\n",
       " ('HO', 'HDPE production', 'Mo', 0): 0.0,\n",
       " ('HO', 'HDPE production', 'Po', 0): 0.0,\n",
       " ('HO', 'HDPE production', 'RMTO', 0): 0.0,\n",
       " ('HO', 'HDPE production', 'RMTP', 0): 0.0,\n",
       " ('HO', 'HDPE production', 'ROCM', 0): 0.0,\n",
       " ('HO', 'HDPE production', 'Rock', 0): 0.0,\n",
       " ('HO', 'HDPE production', 'WF_L', 0): 0.0,\n",
       " ('HO', 'HDPE production', 'WF_O', 0): 0.0,\n",
       " ('HO', 'Injection molding', 'A', 0): 0.0,\n",
       " ('HO', 'Injection molding', 'B', 0): 0.0,\n",
       " ('HO', 'Injection molding', 'Brine', 0): 0.0,\n",
       " ('HO', 'Injection molding', 'D', 0): 0.0,\n",
       " ('HO', 'Injection molding', 'HDPE BAU', 0): 0.0,\n",
       " ('HO', 'Injection molding', 'HDPE CM', 0): 0.0,\n",
       " ('HO', 'Injection molding', 'HDPE CO2', 0): 0.0,\n",
       " ('HO', 'Injection molding', 'HDPE E', 0): 0.0,\n",
       " ('HO', 'Injection molding', 'HDPE IM', 0): 863.3007862356646,\n",
       " ('HO', 'Injection molding', 'Mo', 0): 0.0,\n",
       " ('HO', 'Injection molding', 'Po', 0): 0.0,\n",
       " ('HO', 'Injection molding', 'RMTO', 0): 0.0,\n",
       " ('HO', 'Injection molding', 'RMTP', 0): 0.0,\n",
       " ('HO', 'Injection molding', 'ROCM', 0): 0.0,\n",
       " ('HO', 'Injection molding', 'Rock', 0): 0.0,\n",
       " ('HO', 'Injection molding', 'WF_L', 0): 0.0,\n",
       " ('HO', 'Injection molding', 'WF_O', 0): 0.0,\n",
       " ('HO', 'LiI', 'A', 0): 0.0,\n",
       " ('HO', 'LiI', 'B', 0): 0.0,\n",
       " ('HO', 'LiI', 'Brine', 0): 1122759.7482757,\n",
       " ('HO', 'LiI', 'D', 0): 0.0,\n",
       " ('HO', 'LiI', 'HDPE BAU', 0): 0.0,\n",
       " ('HO', 'LiI', 'HDPE CM', 0): 0.0,\n",
       " ('HO', 'LiI', 'HDPE CO2', 0): 0.0,\n",
       " ('HO', 'LiI', 'HDPE E', 0): 0.0,\n",
       " ('HO', 'LiI', 'HDPE IM', 0): 0.0,\n",
       " ('HO', 'LiI', 'Mo', 0): 0.0,\n",
       " ('HO', 'LiI', 'Po', 0): 0.0,\n",
       " ('HO', 'LiI', 'RMTO', 0): 0.0,\n",
       " ('HO', 'LiI', 'RMTP', 0): 0.0,\n",
       " ('HO', 'LiI', 'ROCM', 0): 0.0,\n",
       " ('HO', 'LiI', 'Rock', 0): 0.0,\n",
       " ('HO', 'LiI', 'WF_L', 0): 0.0,\n",
       " ('HO', 'LiI', 'WF_O', 0): 0.0,\n",
       " ('HO', 'LiI_d', 'A', 0): 714459.6655495723,\n",
       " ('HO', 'LiI_d', 'B', 0): 0.0,\n",
       " ('HO', 'LiI_d', 'Brine', 0): 0.0,\n",
       " ('HO', 'LiI_d', 'D', 0): 0.0,\n",
       " ('HO', 'LiI_d', 'HDPE BAU', 0): 0.0,\n",
       " ('HO', 'LiI_d', 'HDPE CM', 0): 0.0,\n",
       " ('HO', 'LiI_d', 'HDPE CO2', 0): 0.0,\n",
       " ('HO', 'LiI_d', 'HDPE E', 0): 0.0,\n",
       " ('HO', 'LiI_d', 'HDPE IM', 0): 0.0,\n",
       " ('HO', 'LiI_d', 'Mo', 0): 0.0,\n",
       " ('HO', 'LiI_d', 'Po', 0): 0.0,\n",
       " ('HO', 'LiI_d', 'RMTO', 0): 0.0,\n",
       " ('HO', 'LiI_d', 'RMTP', 0): 0.0,\n",
       " ('HO', 'LiI_d', 'ROCM', 0): 0.0,\n",
       " ('HO', 'LiI_d', 'Rock', 0): 0.0,\n",
       " ('HO', 'LiI_d', 'WF_L', 0): 0.0,\n",
       " ('HO', 'LiI_d', 'WF_O', 0): 0.0,\n",
       " ('HO', 'PV', 'A', 0): 0.0,\n",
       " ('HO', 'PV', 'B', 0): 0.0,\n",
       " ('HO', 'PV', 'Brine', 0): 0.0,\n",
       " ('HO', 'PV', 'D', 0): 0.0,\n",
       " ('HO', 'PV', 'HDPE BAU', 0): 0.0,\n",
       " ('HO', 'PV', 'HDPE CM', 0): 0.0,\n",
       " ('HO', 'PV', 'HDPE CO2', 0): 0.0,\n",
       " ('HO', 'PV', 'HDPE E', 0): 0.0,\n",
       " ('HO', 'PV', 'HDPE IM', 0): 0.0,\n",
       " ('HO', 'PV', 'Mo', 0): 0.0,\n",
       " ('HO', 'PV', 'Po', 0): 0.0,\n",
       " ('HO', 'PV', 'RMTO', 0): 0.0,\n",
       " ('HO', 'PV', 'RMTP', 0): 0.0,\n",
       " ('HO', 'PV', 'ROCM', 0): 0.0,\n",
       " ('HO', 'PV', 'Rock', 0): 0.0,\n",
       " ('HO', 'PV', 'WF_L', 0): 0.0,\n",
       " ('HO', 'PV', 'WF_O', 0): 0.0,\n",
       " ('HO', 'WF', 'A', 0): 0.0,\n",
       " ('HO', 'WF', 'B', 0): 0.0,\n",
       " ('HO', 'WF', 'Brine', 0): 0.0,\n",
       " ('HO', 'WF', 'D', 0): 0.0,\n",
       " ('HO', 'WF', 'HDPE BAU', 0): 0.0,\n",
       " ('HO', 'WF', 'HDPE CM', 0): 0.0,\n",
       " ('HO', 'WF', 'HDPE CO2', 0): 0.0,\n",
       " ('HO', 'WF', 'HDPE E', 0): 0.0,\n",
       " ('HO', 'WF', 'HDPE IM', 0): 0.0,\n",
       " ('HO', 'WF', 'Mo', 0): 0.0,\n",
       " ('HO', 'WF', 'Po', 0): 0.0,\n",
       " ('HO', 'WF', 'RMTO', 0): 0.0,\n",
       " ('HO', 'WF', 'RMTP', 0): 0.0,\n",
       " ('HO', 'WF', 'ROCM', 0): 0.0,\n",
       " ('HO', 'WF', 'Rock', 0): 0.0,\n",
       " ('HO', 'WF', 'WF_L', 0): 5129980.878346685,\n",
       " ('HO', 'WF', 'WF_O', 0): 0.0}"
      ]
     },
     "execution_count": 62,
     "metadata": {},
     "output_type": "execute_result"
    }
   ],
   "source": [
    "results_cost.output['Cap_P_M']"
   ]
  },
  {
   "cell_type": "code",
   "execution_count": 64,
   "metadata": {},
   "outputs": [
    {
     "data": {
      "text/plain": [
       "{('HO', 'Adsorption', 'A', 0): 0.0,\n",
       " ('HO', 'Adsorption', 'B', 0): 6708.776719318552,\n",
       " ('HO', 'Adsorption', 'Brine', 0): 0.0,\n",
       " ('HO', 'Adsorption', 'D', 0): 0.0,\n",
       " ('HO', 'Adsorption', 'HDPE BAU', 0): 0.0,\n",
       " ('HO', 'Adsorption', 'HDPE CM', 0): 0.0,\n",
       " ('HO', 'Adsorption', 'HDPE CO2', 0): 0.0,\n",
       " ('HO', 'Adsorption', 'HDPE E', 0): 0.0,\n",
       " ('HO', 'Adsorption', 'HDPE IM', 0): 0.0,\n",
       " ('HO', 'Adsorption', 'Mo', 0): 0.0,\n",
       " ('HO', 'Adsorption', 'Po', 0): 0.0,\n",
       " ('HO', 'Adsorption', 'RMTO', 0): 0.0,\n",
       " ('HO', 'Adsorption', 'RMTP', 0): 0.0,\n",
       " ('HO', 'Adsorption', 'ROCM', 0): 0.0,\n",
       " ('HO', 'Adsorption', 'Rock', 0): 0.0,\n",
       " ('HO', 'Adsorption', 'WF_L', 0): 0.0,\n",
       " ('HO', 'Adsorption', 'WF_O', 0): 0.0,\n",
       " ('HO', 'CO_2-Olefin production', 'A', 0): 0.0,\n",
       " ('HO', 'CO_2-Olefin production', 'B', 0): 0.0,\n",
       " ('HO', 'CO_2-Olefin production', 'Brine', 0): 0.0,\n",
       " ('HO', 'CO_2-Olefin production', 'D', 0): 0.0,\n",
       " ('HO', 'CO_2-Olefin production', 'HDPE BAU', 0): 0.0,\n",
       " ('HO', 'CO_2-Olefin production', 'HDPE CM', 0): 0.0,\n",
       " ('HO', 'CO_2-Olefin production', 'HDPE CO2', 0): 0.0,\n",
       " ('HO', 'CO_2-Olefin production', 'HDPE E', 0): 0.0,\n",
       " ('HO', 'CO_2-Olefin production', 'HDPE IM', 0): 0.0,\n",
       " ('HO', 'CO_2-Olefin production', 'Mo', 0): 0.0,\n",
       " ('HO', 'CO_2-Olefin production', 'Po', 0): 0.0,\n",
       " ('HO', 'CO_2-Olefin production', 'RMTO', 0): 1225.9278021671032,\n",
       " ('HO', 'CO_2-Olefin production', 'RMTP', 0): 0.0,\n",
       " ('HO', 'CO_2-Olefin production', 'ROCM', 0): 0.0,\n",
       " ('HO', 'CO_2-Olefin production', 'Rock', 0): 0.0,\n",
       " ('HO', 'CO_2-Olefin production', 'WF_L', 0): 0.0,\n",
       " ('HO', 'CO_2-Olefin production', 'WF_O', 0): 0.0,\n",
       " ('HO', 'Compression molding', 'A', 0): 0.0,\n",
       " ('HO', 'Compression molding', 'B', 0): 0.0,\n",
       " ('HO', 'Compression molding', 'Brine', 0): 0.0,\n",
       " ('HO', 'Compression molding', 'D', 0): 0.0,\n",
       " ('HO', 'Compression molding', 'HDPE BAU', 0): 0.0,\n",
       " ('HO', 'Compression molding', 'HDPE CM', 0): 257.005518340295,\n",
       " ('HO', 'Compression molding', 'HDPE CO2', 0): 0.0,\n",
       " ('HO', 'Compression molding', 'HDPE E', 0): 0.0,\n",
       " ('HO', 'Compression molding', 'HDPE IM', 0): 0.0,\n",
       " ('HO', 'Compression molding', 'Mo', 0): 0.0,\n",
       " ('HO', 'Compression molding', 'Po', 0): 0.0,\n",
       " ('HO', 'Compression molding', 'RMTO', 0): 0.0,\n",
       " ('HO', 'Compression molding', 'RMTP', 0): 0.0,\n",
       " ('HO', 'Compression molding', 'ROCM', 0): 0.0,\n",
       " ('HO', 'Compression molding', 'Rock', 0): 0.0,\n",
       " ('HO', 'Compression molding', 'WF_L', 0): 0.0,\n",
       " ('HO', 'Compression molding', 'WF_O', 0): 0.0,\n",
       " ('HO', 'Driving', 'A', 0): 0.0,\n",
       " ('HO', 'Driving', 'B', 0): 0.0,\n",
       " ('HO', 'Driving', 'Brine', 0): 0.0,\n",
       " ('HO', 'Driving', 'D', 0): 78638325.04585136,\n",
       " ('HO', 'Driving', 'HDPE BAU', 0): 0.0,\n",
       " ('HO', 'Driving', 'HDPE CM', 0): 0.0,\n",
       " ('HO', 'Driving', 'HDPE CO2', 0): 0.0,\n",
       " ('HO', 'Driving', 'HDPE E', 0): 0.0,\n",
       " ('HO', 'Driving', 'HDPE IM', 0): 0.0,\n",
       " ('HO', 'Driving', 'Mo', 0): 0.0,\n",
       " ('HO', 'Driving', 'Po', 0): 0.0,\n",
       " ('HO', 'Driving', 'RMTO', 0): 0.0,\n",
       " ('HO', 'Driving', 'RMTP', 0): 0.0,\n",
       " ('HO', 'Driving', 'ROCM', 0): 0.0,\n",
       " ('HO', 'Driving', 'Rock', 0): 0.0,\n",
       " ('HO', 'Driving', 'WF_L', 0): 0.0,\n",
       " ('HO', 'Driving', 'WF_O', 0): 0.0,\n",
       " ('HO', 'Extrusion', 'A', 0): 0.0,\n",
       " ('HO', 'Extrusion', 'B', 0): 0.0,\n",
       " ('HO', 'Extrusion', 'Brine', 0): 0.0,\n",
       " ('HO', 'Extrusion', 'D', 0): 0.0,\n",
       " ('HO', 'Extrusion', 'HDPE BAU', 0): 0.0,\n",
       " ('HO', 'Extrusion', 'HDPE CM', 0): 0.0,\n",
       " ('HO', 'Extrusion', 'HDPE CO2', 0): 0.0,\n",
       " ('HO', 'Extrusion', 'HDPE E', 0): 98.03303276897854,\n",
       " ('HO', 'Extrusion', 'HDPE IM', 0): 0.0,\n",
       " ('HO', 'Extrusion', 'Mo', 0): 0.0,\n",
       " ('HO', 'Extrusion', 'Po', 0): 0.0,\n",
       " ('HO', 'Extrusion', 'RMTO', 0): 0.0,\n",
       " ('HO', 'Extrusion', 'RMTP', 0): 0.0,\n",
       " ('HO', 'Extrusion', 'ROCM', 0): 0.0,\n",
       " ('HO', 'Extrusion', 'Rock', 0): 0.0,\n",
       " ('HO', 'Extrusion', 'WF_L', 0): 0.0,\n",
       " ('HO', 'Extrusion', 'WF_O', 0): 0.0,\n",
       " ('HO', 'HDPE production', 'A', 0): 0.0,\n",
       " ('HO', 'HDPE production', 'B', 0): 0.0,\n",
       " ('HO', 'HDPE production', 'Brine', 0): 0.0,\n",
       " ('HO', 'HDPE production', 'D', 0): 0.0,\n",
       " ('HO', 'HDPE production', 'HDPE BAU', 0): 0.0,\n",
       " ('HO', 'HDPE production', 'HDPE CM', 0): 0.0,\n",
       " ('HO', 'HDPE production', 'HDPE CO2', 0): 1157.976781232879,\n",
       " ('HO', 'HDPE production', 'HDPE E', 0): 0.0,\n",
       " ('HO', 'HDPE production', 'HDPE IM', 0): 0.0,\n",
       " ('HO', 'HDPE production', 'Mo', 0): 0.0,\n",
       " ('HO', 'HDPE production', 'Po', 0): 0.0,\n",
       " ('HO', 'HDPE production', 'RMTO', 0): 0.0,\n",
       " ('HO', 'HDPE production', 'RMTP', 0): 0.0,\n",
       " ('HO', 'HDPE production', 'ROCM', 0): 0.0,\n",
       " ('HO', 'HDPE production', 'Rock', 0): 0.0,\n",
       " ('HO', 'HDPE production', 'WF_L', 0): 0.0,\n",
       " ('HO', 'HDPE production', 'WF_O', 0): 0.0,\n",
       " ('HO', 'Injection molding', 'A', 0): 0.0,\n",
       " ('HO', 'Injection molding', 'B', 0): 0.0,\n",
       " ('HO', 'Injection molding', 'Brine', 0): 0.0,\n",
       " ('HO', 'Injection molding', 'D', 0): 0.0,\n",
       " ('HO', 'Injection molding', 'HDPE BAU', 0): 0.0,\n",
       " ('HO', 'Injection molding', 'HDPE CM', 0): 0.0,\n",
       " ('HO', 'Injection molding', 'HDPE CO2', 0): 0.0,\n",
       " ('HO', 'Injection molding', 'HDPE E', 0): 0.0,\n",
       " ('HO', 'Injection molding', 'HDPE IM', 0): 704.7780193661698,\n",
       " ('HO', 'Injection molding', 'Mo', 0): 0.0,\n",
       " ('HO', 'Injection molding', 'Po', 0): 0.0,\n",
       " ('HO', 'Injection molding', 'RMTO', 0): 0.0,\n",
       " ('HO', 'Injection molding', 'RMTP', 0): 0.0,\n",
       " ('HO', 'Injection molding', 'ROCM', 0): 0.0,\n",
       " ('HO', 'Injection molding', 'Rock', 0): 0.0,\n",
       " ('HO', 'Injection molding', 'WF_L', 0): 0.0,\n",
       " ('HO', 'Injection molding', 'WF_O', 0): 0.0,\n",
       " ('HO', 'LiI', 'A', 0): 0.0,\n",
       " ('HO', 'LiI', 'B', 0): 0.0,\n",
       " ('HO', 'LiI', 'Brine', 0): 1546352.7671799157,\n",
       " ('HO', 'LiI', 'D', 0): 0.0,\n",
       " ('HO', 'LiI', 'HDPE BAU', 0): 0.0,\n",
       " ('HO', 'LiI', 'HDPE CM', 0): 0.0,\n",
       " ('HO', 'LiI', 'HDPE CO2', 0): 0.0,\n",
       " ('HO', 'LiI', 'HDPE E', 0): 0.0,\n",
       " ('HO', 'LiI', 'HDPE IM', 0): 0.0,\n",
       " ('HO', 'LiI', 'Mo', 0): 0.0,\n",
       " ('HO', 'LiI', 'Po', 0): 0.0,\n",
       " ('HO', 'LiI', 'RMTO', 0): 0.0,\n",
       " ('HO', 'LiI', 'RMTP', 0): 0.0,\n",
       " ('HO', 'LiI', 'ROCM', 0): 0.0,\n",
       " ('HO', 'LiI', 'Rock', 0): 0.0,\n",
       " ('HO', 'LiI', 'WF_L', 0): 0.0,\n",
       " ('HO', 'LiI', 'WF_O', 0): 0.0,\n",
       " ('HO', 'LiI_d', 'A', 0): 714459.6655495714,\n",
       " ('HO', 'LiI_d', 'B', 0): 0.0,\n",
       " ('HO', 'LiI_d', 'Brine', 0): 0.0,\n",
       " ('HO', 'LiI_d', 'D', 0): 0.0,\n",
       " ('HO', 'LiI_d', 'HDPE BAU', 0): 0.0,\n",
       " ('HO', 'LiI_d', 'HDPE CM', 0): 0.0,\n",
       " ('HO', 'LiI_d', 'HDPE CO2', 0): 0.0,\n",
       " ('HO', 'LiI_d', 'HDPE E', 0): 0.0,\n",
       " ('HO', 'LiI_d', 'HDPE IM', 0): 0.0,\n",
       " ('HO', 'LiI_d', 'Mo', 0): 0.0,\n",
       " ('HO', 'LiI_d', 'Po', 0): 0.0,\n",
       " ('HO', 'LiI_d', 'RMTO', 0): 0.0,\n",
       " ('HO', 'LiI_d', 'RMTP', 0): 0.0,\n",
       " ('HO', 'LiI_d', 'ROCM', 0): 0.0,\n",
       " ('HO', 'LiI_d', 'Rock', 0): 0.0,\n",
       " ('HO', 'LiI_d', 'WF_L', 0): 0.0,\n",
       " ('HO', 'LiI_d', 'WF_O', 0): 0.0,\n",
       " ('HO', 'PV', 'A', 0): 0.0,\n",
       " ('HO', 'PV', 'B', 0): 0.0,\n",
       " ('HO', 'PV', 'Brine', 0): 0.0,\n",
       " ('HO', 'PV', 'D', 0): 0.0,\n",
       " ('HO', 'PV', 'HDPE BAU', 0): 0.0,\n",
       " ('HO', 'PV', 'HDPE CM', 0): 0.0,\n",
       " ('HO', 'PV', 'HDPE CO2', 0): 0.0,\n",
       " ('HO', 'PV', 'HDPE E', 0): 0.0,\n",
       " ('HO', 'PV', 'HDPE IM', 0): 0.0,\n",
       " ('HO', 'PV', 'Mo', 0): 0.0,\n",
       " ('HO', 'PV', 'Po', 0): 0.0,\n",
       " ('HO', 'PV', 'RMTO', 0): 0.0,\n",
       " ('HO', 'PV', 'RMTP', 0): 0.0,\n",
       " ('HO', 'PV', 'ROCM', 0): 0.0,\n",
       " ('HO', 'PV', 'Rock', 0): 0.0,\n",
       " ('HO', 'PV', 'WF_L', 0): 0.0,\n",
       " ('HO', 'PV', 'WF_O', 0): 0.0,\n",
       " ('HO', 'WF', 'A', 0): 0.0,\n",
       " ('HO', 'WF', 'B', 0): 0.0,\n",
       " ('HO', 'WF', 'Brine', 0): 0.0,\n",
       " ('HO', 'WF', 'D', 0): 0.0,\n",
       " ('HO', 'WF', 'HDPE BAU', 0): 0.0,\n",
       " ('HO', 'WF', 'HDPE CM', 0): 0.0,\n",
       " ('HO', 'WF', 'HDPE CO2', 0): 0.0,\n",
       " ('HO', 'WF', 'HDPE E', 0): 0.0,\n",
       " ('HO', 'WF', 'HDPE IM', 0): 0.0,\n",
       " ('HO', 'WF', 'Mo', 0): 0.0,\n",
       " ('HO', 'WF', 'Po', 0): 0.0,\n",
       " ('HO', 'WF', 'RMTO', 0): 0.0,\n",
       " ('HO', 'WF', 'RMTP', 0): 0.0,\n",
       " ('HO', 'WF', 'ROCM', 0): 0.0,\n",
       " ('HO', 'WF', 'Rock', 0): 0.0,\n",
       " ('HO', 'WF', 'WF_L', 0): 4730328.573067571,\n",
       " ('HO', 'WF', 'WF_O', 0): 0.0}"
      ]
     },
     "execution_count": 64,
     "metadata": {},
     "output_type": "execute_result"
    }
   ],
   "source": [
    "results_gwp_6.output['Cap_P_M']"
   ]
  },
  {
   "cell_type": "code",
   "execution_count": 63,
   "metadata": {},
   "outputs": [
    {
     "data": {
      "text/plain": [
       "{('HO', 'Adsorption', 'A', 0): 0.0,\n",
       " ('HO', 'Adsorption', 'B', 0): 6274.728916766887,\n",
       " ('HO', 'Adsorption', 'Brine', 0): 0.0,\n",
       " ('HO', 'Adsorption', 'D', 0): 0.0,\n",
       " ('HO', 'Adsorption', 'HDPE BAU', 0): 0.0,\n",
       " ('HO', 'Adsorption', 'HDPE CM', 0): 0.0,\n",
       " ('HO', 'Adsorption', 'HDPE CO2', 0): 0.0,\n",
       " ('HO', 'Adsorption', 'HDPE E', 0): 0.0,\n",
       " ('HO', 'Adsorption', 'HDPE IM', 0): 0.0,\n",
       " ('HO', 'Adsorption', 'Mo', 0): 0.0,\n",
       " ('HO', 'Adsorption', 'Po', 0): 0.0,\n",
       " ('HO', 'Adsorption', 'RMTO', 0): 0.0,\n",
       " ('HO', 'Adsorption', 'RMTP', 0): 0.0,\n",
       " ('HO', 'Adsorption', 'ROCM', 0): 0.0,\n",
       " ('HO', 'Adsorption', 'Rock', 0): 0.0,\n",
       " ('HO', 'Adsorption', 'WF_L', 0): 0.0,\n",
       " ('HO', 'Adsorption', 'WF_O', 0): 0.0,\n",
       " ('HO', 'CO_2-Olefin production', 'A', 0): 0.0,\n",
       " ('HO', 'CO_2-Olefin production', 'B', 0): 0.0,\n",
       " ('HO', 'CO_2-Olefin production', 'Brine', 0): 0.0,\n",
       " ('HO', 'CO_2-Olefin production', 'D', 0): 0.0,\n",
       " ('HO', 'CO_2-Olefin production', 'HDPE BAU', 0): 0.0,\n",
       " ('HO', 'CO_2-Olefin production', 'HDPE CM', 0): 0.0,\n",
       " ('HO', 'CO_2-Olefin production', 'HDPE CO2', 0): 0.0,\n",
       " ('HO', 'CO_2-Olefin production', 'HDPE E', 0): 0.0,\n",
       " ('HO', 'CO_2-Olefin production', 'HDPE IM', 0): 0.0,\n",
       " ('HO', 'CO_2-Olefin production', 'Mo', 0): 0.0,\n",
       " ('HO', 'CO_2-Olefin production', 'Po', 0): 0.0,\n",
       " ('HO', 'CO_2-Olefin production', 'RMTO', 0): 1148.0429944010525,\n",
       " ('HO', 'CO_2-Olefin production', 'RMTP', 0): 0.0,\n",
       " ('HO', 'CO_2-Olefin production', 'ROCM', 0): 0.0,\n",
       " ('HO', 'CO_2-Olefin production', 'Rock', 0): 0.0,\n",
       " ('HO', 'CO_2-Olefin production', 'WF_L', 0): 0.0,\n",
       " ('HO', 'CO_2-Olefin production', 'WF_O', 0): 0.0,\n",
       " ('HO', 'Compression molding', 'A', 0): 0.0,\n",
       " ('HO', 'Compression molding', 'B', 0): 0.0,\n",
       " ('HO', 'Compression molding', 'Brine', 0): 0.0,\n",
       " ('HO', 'Compression molding', 'D', 0): 0.0,\n",
       " ('HO', 'Compression molding', 'HDPE BAU', 0): 0.0,\n",
       " ('HO', 'Compression molding', 'HDPE CM', 0): 249.12197441432994,\n",
       " ('HO', 'Compression molding', 'HDPE CO2', 0): 0.0,\n",
       " ('HO', 'Compression molding', 'HDPE E', 0): 0.0,\n",
       " ('HO', 'Compression molding', 'HDPE IM', 0): 0.0,\n",
       " ('HO', 'Compression molding', 'Mo', 0): 0.0,\n",
       " ('HO', 'Compression molding', 'Po', 0): 0.0,\n",
       " ('HO', 'Compression molding', 'RMTO', 0): 0.0,\n",
       " ('HO', 'Compression molding', 'RMTP', 0): 0.0,\n",
       " ('HO', 'Compression molding', 'ROCM', 0): 0.0,\n",
       " ('HO', 'Compression molding', 'Rock', 0): 0.0,\n",
       " ('HO', 'Compression molding', 'WF_L', 0): 0.0,\n",
       " ('HO', 'Compression molding', 'WF_O', 0): 0.0,\n",
       " ('HO', 'Driving', 'A', 0): 0.0,\n",
       " ('HO', 'Driving', 'B', 0): 0.0,\n",
       " ('HO', 'Driving', 'Brine', 0): 0.0,\n",
       " ('HO', 'Driving', 'D', 0): 76226125.12980741,\n",
       " ('HO', 'Driving', 'HDPE BAU', 0): 0.0,\n",
       " ('HO', 'Driving', 'HDPE CM', 0): 0.0,\n",
       " ('HO', 'Driving', 'HDPE CO2', 0): 0.0,\n",
       " ('HO', 'Driving', 'HDPE E', 0): 0.0,\n",
       " ('HO', 'Driving', 'HDPE IM', 0): 0.0,\n",
       " ('HO', 'Driving', 'Mo', 0): 0.0,\n",
       " ('HO', 'Driving', 'Po', 0): 0.0,\n",
       " ('HO', 'Driving', 'RMTO', 0): 0.0,\n",
       " ('HO', 'Driving', 'RMTP', 0): 0.0,\n",
       " ('HO', 'Driving', 'ROCM', 0): 0.0,\n",
       " ('HO', 'Driving', 'Rock', 0): 0.0,\n",
       " ('HO', 'Driving', 'WF_L', 0): 0.0,\n",
       " ('HO', 'Driving', 'WF_O', 0): 0.0,\n",
       " ('HO', 'Extrusion', 'A', 0): 0.0,\n",
       " ('HO', 'Extrusion', 'B', 0): 0.0,\n",
       " ('HO', 'Extrusion', 'Brine', 0): 0.0,\n",
       " ('HO', 'Extrusion', 'D', 0): 0.0,\n",
       " ('HO', 'Extrusion', 'HDPE BAU', 0): 0.0,\n",
       " ('HO', 'Extrusion', 'HDPE CM', 0): 0.0,\n",
       " ('HO', 'Extrusion', 'HDPE CO2', 0): 0.0,\n",
       " ('HO', 'Extrusion', 'HDPE E', 0): 95.0259077662908,\n",
       " ('HO', 'Extrusion', 'HDPE IM', 0): 0.0,\n",
       " ('HO', 'Extrusion', 'Mo', 0): 0.0,\n",
       " ('HO', 'Extrusion', 'Po', 0): 0.0,\n",
       " ('HO', 'Extrusion', 'RMTO', 0): 0.0,\n",
       " ('HO', 'Extrusion', 'RMTP', 0): 0.0,\n",
       " ('HO', 'Extrusion', 'ROCM', 0): 0.0,\n",
       " ('HO', 'Extrusion', 'Rock', 0): 0.0,\n",
       " ('HO', 'Extrusion', 'WF_L', 0): 0.0,\n",
       " ('HO', 'Extrusion', 'WF_O', 0): 0.0,\n",
       " ('HO', 'HDPE production', 'A', 0): 0.0,\n",
       " ('HO', 'HDPE production', 'B', 0): 0.0,\n",
       " ('HO', 'HDPE production', 'Brine', 0): 0.0,\n",
       " ('HO', 'HDPE production', 'D', 0): 0.0,\n",
       " ('HO', 'HDPE production', 'HDPE BAU', 0): 0.0,\n",
       " ('HO', 'HDPE production', 'HDPE CM', 0): 0.0,\n",
       " ('HO', 'HDPE production', 'HDPE CO2', 0): 1122.4562956065367,\n",
       " ('HO', 'HDPE production', 'HDPE E', 0): 0.0,\n",
       " ('HO', 'HDPE production', 'HDPE IM', 0): 0.0,\n",
       " ('HO', 'HDPE production', 'Mo', 0): 0.0,\n",
       " ('HO', 'HDPE production', 'Po', 0): 0.0,\n",
       " ('HO', 'HDPE production', 'RMTO', 0): 0.0,\n",
       " ('HO', 'HDPE production', 'RMTP', 0): 0.0,\n",
       " ('HO', 'HDPE production', 'ROCM', 0): 0.0,\n",
       " ('HO', 'HDPE production', 'Rock', 0): 0.0,\n",
       " ('HO', 'HDPE production', 'WF_L', 0): 0.0,\n",
       " ('HO', 'HDPE production', 'WF_O', 0): 0.0,\n",
       " ('HO', 'Injection molding', 'A', 0): 0.0,\n",
       " ('HO', 'Injection molding', 'B', 0): 0.0,\n",
       " ('HO', 'Injection molding', 'Brine', 0): 0.0,\n",
       " ('HO', 'Injection molding', 'D', 0): 0.0,\n",
       " ('HO', 'Injection molding', 'HDPE BAU', 0): 0.0,\n",
       " ('HO', 'Injection molding', 'HDPE CM', 0): 0.0,\n",
       " ('HO', 'Injection molding', 'HDPE CO2', 0): 0.0,\n",
       " ('HO', 'Injection molding', 'HDPE E', 0): 0.0,\n",
       " ('HO', 'Injection molding', 'HDPE IM', 0): 683.1592288063068,\n",
       " ('HO', 'Injection molding', 'Mo', 0): 0.0,\n",
       " ('HO', 'Injection molding', 'Po', 0): 0.0,\n",
       " ('HO', 'Injection molding', 'RMTO', 0): 0.0,\n",
       " ('HO', 'Injection molding', 'RMTP', 0): 0.0,\n",
       " ('HO', 'Injection molding', 'ROCM', 0): 0.0,\n",
       " ('HO', 'Injection molding', 'Rock', 0): 0.0,\n",
       " ('HO', 'Injection molding', 'WF_L', 0): 0.0,\n",
       " ('HO', 'Injection molding', 'WF_O', 0): 0.0,\n",
       " ('HO', 'LiI', 'A', 0): 0.0,\n",
       " ('HO', 'LiI', 'B', 0): 0.0,\n",
       " ('HO', 'LiI', 'Brine', 0): 2157254.053948873,\n",
       " ('HO', 'LiI', 'D', 0): 0.0,\n",
       " ('HO', 'LiI', 'HDPE BAU', 0): 0.0,\n",
       " ('HO', 'LiI', 'HDPE CM', 0): 0.0,\n",
       " ('HO', 'LiI', 'HDPE CO2', 0): 0.0,\n",
       " ('HO', 'LiI', 'HDPE E', 0): 0.0,\n",
       " ('HO', 'LiI', 'HDPE IM', 0): 0.0,\n",
       " ('HO', 'LiI', 'Mo', 0): 0.0,\n",
       " ('HO', 'LiI', 'Po', 0): 0.0,\n",
       " ('HO', 'LiI', 'RMTO', 0): 0.0,\n",
       " ('HO', 'LiI', 'RMTP', 0): 0.0,\n",
       " ('HO', 'LiI', 'ROCM', 0): 0.0,\n",
       " ('HO', 'LiI', 'Rock', 0): 0.0,\n",
       " ('HO', 'LiI', 'WF_L', 0): 0.0,\n",
       " ('HO', 'LiI', 'WF_O', 0): 0.0,\n",
       " ('HO', 'LiI_d', 'A', 0): 714459.6655495714,\n",
       " ('HO', 'LiI_d', 'B', 0): 0.0,\n",
       " ('HO', 'LiI_d', 'Brine', 0): 0.0,\n",
       " ('HO', 'LiI_d', 'D', 0): 0.0,\n",
       " ('HO', 'LiI_d', 'HDPE BAU', 0): 0.0,\n",
       " ('HO', 'LiI_d', 'HDPE CM', 0): 0.0,\n",
       " ('HO', 'LiI_d', 'HDPE CO2', 0): 0.0,\n",
       " ('HO', 'LiI_d', 'HDPE E', 0): 0.0,\n",
       " ('HO', 'LiI_d', 'HDPE IM', 0): 0.0,\n",
       " ('HO', 'LiI_d', 'Mo', 0): 0.0,\n",
       " ('HO', 'LiI_d', 'Po', 0): 0.0,\n",
       " ('HO', 'LiI_d', 'RMTO', 0): 0.0,\n",
       " ('HO', 'LiI_d', 'RMTP', 0): 0.0,\n",
       " ('HO', 'LiI_d', 'ROCM', 0): 0.0,\n",
       " ('HO', 'LiI_d', 'Rock', 0): 0.0,\n",
       " ('HO', 'LiI_d', 'WF_L', 0): 0.0,\n",
       " ('HO', 'LiI_d', 'WF_O', 0): 0.0,\n",
       " ('HO', 'PV', 'A', 0): 0.0,\n",
       " ('HO', 'PV', 'B', 0): 0.0,\n",
       " ('HO', 'PV', 'Brine', 0): 0.0,\n",
       " ('HO', 'PV', 'D', 0): 0.0,\n",
       " ('HO', 'PV', 'HDPE BAU', 0): 0.0,\n",
       " ('HO', 'PV', 'HDPE CM', 0): 0.0,\n",
       " ('HO', 'PV', 'HDPE CO2', 0): 0.0,\n",
       " ('HO', 'PV', 'HDPE E', 0): 0.0,\n",
       " ('HO', 'PV', 'HDPE IM', 0): 0.0,\n",
       " ('HO', 'PV', 'Mo', 0): 0.0,\n",
       " ('HO', 'PV', 'Po', 0): 0.0,\n",
       " ('HO', 'PV', 'RMTO', 0): 0.0,\n",
       " ('HO', 'PV', 'RMTP', 0): 0.0,\n",
       " ('HO', 'PV', 'ROCM', 0): 0.0,\n",
       " ('HO', 'PV', 'Rock', 0): 0.0,\n",
       " ('HO', 'PV', 'WF_L', 0): 0.0,\n",
       " ('HO', 'PV', 'WF_O', 0): 0.0,\n",
       " ('HO', 'WF', 'A', 0): 0.0,\n",
       " ('HO', 'WF', 'B', 0): 0.0,\n",
       " ('HO', 'WF', 'Brine', 0): 0.0,\n",
       " ('HO', 'WF', 'D', 0): 0.0,\n",
       " ('HO', 'WF', 'HDPE BAU', 0): 0.0,\n",
       " ('HO', 'WF', 'HDPE CM', 0): 0.0,\n",
       " ('HO', 'WF', 'HDPE CO2', 0): 0.0,\n",
       " ('HO', 'WF', 'HDPE E', 0): 0.0,\n",
       " ('HO', 'WF', 'HDPE IM', 0): 0.0,\n",
       " ('HO', 'WF', 'Mo', 0): 0.0,\n",
       " ('HO', 'WF', 'Po', 0): 0.0,\n",
       " ('HO', 'WF', 'RMTO', 0): 0.0,\n",
       " ('HO', 'WF', 'RMTP', 0): 0.0,\n",
       " ('HO', 'WF', 'ROCM', 0): 0.0,\n",
       " ('HO', 'WF', 'Rock', 0): 0.0,\n",
       " ('HO', 'WF', 'WF_L', 0): 4453400.826795594,\n",
       " ('HO', 'WF', 'WF_O', 0): 0.0}"
      ]
     },
     "execution_count": 63,
     "metadata": {},
     "output_type": "execute_result"
    }
   ],
   "source": [
    "results_gwp_9.output['Cap_P_M']"
   ]
  },
  {
   "cell_type": "code",
   "execution_count": 53,
   "metadata": {},
   "outputs": [
    {
     "data": {
      "text/plain": [
       "0.14610536059117177"
      ]
     },
     "execution_count": 53,
     "metadata": {},
     "output_type": "execute_result"
    }
   ],
   "source": [
    "(results_gwp_3.output['Cap_P'][('HO', 'LiI', 0)] - results_cost.output['Cap_P'][('HO', 'LiI', 0)])/results_cost.output['Cap_P'][('HO', 'LiI', 0)]"
   ]
  },
  {
   "cell_type": "code",
   "execution_count": 54,
   "metadata": {},
   "outputs": [
    {
     "data": {
      "text/plain": [
       "-0.03741380072729477"
      ]
     },
     "execution_count": 54,
     "metadata": {},
     "output_type": "execute_result"
    }
   ],
   "source": [
    "(results_gwp_3.output['Cap_P'][('HO', 'WF', 0)] - results_cost.output['Cap_P'][('HO', 'WF', 0)])/results_cost.output['Cap_P'][('HO', 'WF', 0)]"
   ]
  },
  {
   "cell_type": "code",
   "execution_count": 61,
   "metadata": {},
   "outputs": [
    {
     "data": {
      "text/plain": [
       "{('HO', 'Adsorption', 0): 6708.776719318552,\n",
       " ('HO', 'CO_2-Olefin production', 0): 1225.9278021671032,\n",
       " ('HO', 'Compression molding', 0): 257.005518340295,\n",
       " ('HO', 'Driving', 0): 78638325.04585136,\n",
       " ('HO', 'Extrusion', 0): 98.03303276897854,\n",
       " ('HO', 'HDPE production', 0): 1157.976781232879,\n",
       " ('HO', 'Injection molding', 0): 704.7780193661698,\n",
       " ('HO', 'LiI', 0): 1546352.7671799157,\n",
       " ('HO', 'LiI_d', 0): 714459.6655495714,\n",
       " ('HO', 'PV', 0): 0.0,\n",
       " ('HO', 'WF', 0): 4730328.573067571}"
      ]
     },
     "execution_count": 61,
     "metadata": {},
     "output_type": "execute_result"
    }
   ],
   "source": [
    "results_gwp_6.output['Cap_P']"
   ]
  },
  {
   "cell_type": "code",
   "execution_count": 60,
   "metadata": {},
   "outputs": [
    {
     "data": {
      "text/plain": [
       "{('HO', 'Adsorption', 0): 6274.728916766887,\n",
       " ('HO', 'CO_2-Olefin production', 0): 1148.0429944010525,\n",
       " ('HO', 'Compression molding', 0): 249.12197441432994,\n",
       " ('HO', 'Driving', 0): 76226125.12980741,\n",
       " ('HO', 'Extrusion', 0): 95.0259077662908,\n",
       " ('HO', 'HDPE production', 0): 1122.4562956065367,\n",
       " ('HO', 'Injection molding', 0): 683.1592288063068,\n",
       " ('HO', 'LiI', 0): 2157254.053948873,\n",
       " ('HO', 'LiI_d', 0): 714459.6655495714,\n",
       " ('HO', 'PV', 0): 0.0,\n",
       " ('HO', 'WF', 0): 4453400.826795594}"
      ]
     },
     "execution_count": 60,
     "metadata": {},
     "output_type": "execute_result"
    }
   ],
   "source": [
    "results_gwp_9.output['Cap_P']"
   ]
  },
  {
   "cell_type": "code",
   "execution_count": null,
   "metadata": {},
   "outputs": [],
   "source": []
  }
 ],
 "metadata": {
  "kernelspec": {
   "display_name": ".venv",
   "language": "python",
   "name": "python3"
  },
  "language_info": {
   "codemirror_mode": {
    "name": "ipython",
    "version": 3
   },
   "file_extension": ".py",
   "mimetype": "text/x-python",
   "name": "python",
   "nbconvert_exporter": "python",
   "pygments_lexer": "ipython3",
   "version": "3.10.5"
  },
  "orig_nbformat": 4
 },
 "nbformat": 4,
 "nbformat_minor": 2
}
