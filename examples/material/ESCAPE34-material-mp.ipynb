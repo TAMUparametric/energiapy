{
 "cells": [
  {
   "cell_type": "code",
   "execution_count": 59,
   "metadata": {},
   "outputs": [],
   "source": [
    "import sys\n",
    "sys.path.append('../../src')"
   ]
  },
  {
   "cell_type": "code",
   "execution_count": 60,
   "metadata": {},
   "outputs": [],
   "source": [
    "import pandas\n",
    "import numpy\n",
    "from energiapy.components.temporal_scale import TemporalScale\n",
    "from energiapy.components.resource import Resource, VaryingResource\n",
    "from energiapy.components.process import Process, VaryingProcess\n",
    "from energiapy.components.material import Material\n",
    "from energiapy.components.location import Location\n",
    "from energiapy.components.network import Network\n",
    "from energiapy.components.scenario import Scenario\n",
    "from energiapy.components.transport import Transport\n",
    "from energiapy.model.formulate import formulate, Constraints, Objective, ModelClass\n",
    "from energiapy.utils.nsrdb_utils import fetch_nsrdb_data\n",
    "from energiapy.plot import plot_results, plot_scenario\n",
    "from energiapy.plot.plot_results import CostY, CostX\n",
    "from energiapy.model.solve import solve\n",
    "from itertools import product\n",
    "\n",
    "from energiapy.components.result import Result\n",
    "import pandas\n",
    "from itertools import product\n",
    "from matplotlib import rc\n",
    "import matplotlib.pyplot as plt\n",
    "from energiapy.model.solve import solve\n",
    "from energiapy.plot.plot_results import CostY, CostX\n",
    "from energiapy.components.location import Location\n",
    "from energiapy.plot import plot_results, plot_scenario\n",
    "from energiapy.utils.nsrdb_utils import fetch_nsrdb_data\n",
    "from energiapy.model.formulate import formulate, Constraints, Objective\n",
    "from energiapy.model.bounds import CapacityBounds\n",
    "from energiapy.utils.data_utils import get_data, make_henry_price_df, remove_outliers, load_results\n",
    "from energiapy.components.transport import Transport\n",
    "from energiapy.components.scenario import Scenario\n",
    "from energiapy.components.network import Network\n",
    "from energiapy.components.location import Location\n",
    "from energiapy.components.material import Material\n",
    "\n",
    "from energiapy.components.process import Process, VaryingProcess\n",
    "from energiapy.components.resource import Resource, VaryingResource\n",
    "from energiapy.components.temporal_scale import TemporalScale\n",
    "import numpy\n",
    "from energiapy.conversion.photovoltaic import solar_power_output\n",
    "from energiapy.conversion.windmill import wind_power_output\n",
    "from energiapy.aggregation.reduce_scenario import reduce_scenario, Clustermethod\n",
    "from energiapy.aggregation.ahc import agg_hierarchial_elbow, IncludeAHC, Fit\n",
    "import matplotlib.pyplot as plt\n",
    "\n",
    "from energiapy.model.weights import EmissionWeights"
   ]
  },
  {
   "attachments": {},
   "cell_type": "markdown",
   "metadata": {},
   "source": [
    "\n",
    "\\begin{align}\n",
    "\\min_x \\quad \\theta^TH^Tx& + c^Tx\\\\\n",
    "\\text{s.t.} \\quad Ax &\\leq b + F\\theta\\\\\n",
    "A_{eq}x &= b_{eq}\\\\\n",
    "A_\\theta \\theta &\\leq b_\\theta\\\\\n",
    "x &\\in R^n\\\\\n",
    "\\end{align}\n"
   ]
  },
  {
   "cell_type": "code",
   "execution_count": 61,
   "metadata": {},
   "outputs": [],
   "source": [
    "scales = TemporalScale(discretization_list=[1])"
   ]
  },
  {
   "cell_type": "code",
   "execution_count": 62,
   "metadata": {},
   "outputs": [],
   "source": [
    "bigM = 10**15\n",
    "smallM = 0.0000000001"
   ]
  },
  {
   "cell_type": "markdown",
   "metadata": {},
   "source": [
    "Declare Resources"
   ]
  },
  {
   "cell_type": "code",
   "execution_count": 63,
   "metadata": {},
   "outputs": [],
   "source": [
    "Solar = Resource(name='Solar', cons_max=bigM, basis='MW', label='Solar Power', price= 0.01)\n",
    "\n",
    "Wind = Resource(name='Wind', cons_max=bigM, basis='MW', label='Wind Power', price = 0.01)\n",
    "\n",
    "Power = Resource(name='Power', basis='MW', demand=True,\n",
    "                 label='Power generated')#, varying=[VaryingResource.DETERMINISTIC_DEMAND])\n",
    "\n",
    "LiIPower = Resource(name='LiIPower', basis='MW',\n",
    "                     store_max=bigM, label='Power stored')\n",
    "\n",
    "GridPower = Resource(name='GridPower', basis='MW',\n",
    "                     cons_max=bigM, label='Power bought')\n",
    "\n",
    "H2O = Resource(name='H2O', cons_max=10**10,\n",
    "               price=0.001, basis='kg', label='Water', block='Resource')"
   ]
  },
  {
   "cell_type": "markdown",
   "metadata": {},
   "source": [
    "Declare Materials"
   ]
  },
  {
   "cell_type": "code",
   "execution_count": 64,
   "metadata": {},
   "outputs": [],
   "source": [
    "\n",
    "LithiumCarbonateR = Material(name='LithiumCarbonateR', gwp=10602.89995, odp=0.0005311, acid=83.2005862, eutt=185.9710578, eutf=6.0273706, eutm=42.7091789, basis='kg CO2 eq./ton, kg CFC-11 eq./ton, kg SO2 eq./ton, mol N eq./ton, kg P eq./ton, kg N eq./ton', label='Rock-based Lithium',\n",
    "                citation='https://www.iea.org/data-and-statistics/charts/ghg-emissions-intensity-for-lithium-by-resource-type-and-processing-route')  \n",
    "LithiumCarbonateB = Material(name='LithiumCarbonateB', gwp=2147.78164, odp=0.0000323, acid=14.7111022, eutt=55.7722302, eutf=1.9709617, eutm=8.3834083, basis='kg CO2 eq./ton, kg CFC-11 eq./ton, kg SO2 eq./ton, mol N eq./ton, kg P eq./ton, kg N eq./ton', label='Brine-based Lithium',\n",
    "               citation='https://www.iea.org/data-and-statistics/charts/ghg-emissions-intensity-for-lithium-by-resource-type-and-processing-route')  \n",
    "\n",
    "Steel = Material(name ='steel', gwp= 2121.152427, odp=0.0000524, acid=7.071973, eutt=20.1478856, eutf=0.9654292, eutm=2.0671433, basis='kg CO2 eq./ton, kg CFC-11 eq./ton, kg SO2 eq./ton, mol N eq./ton, kg P eq./ton, kg N eq./ton', label = 'Steel', \n",
    "                 citation= 'Annika Eberle et al., (2023), Materials used in U.S. Wind Energy Technologies: Quanitities and Availability for Two Future Scenarios')\n",
    "\n",
    "Cast_iron = Material(name ='cast iron', gwp= 1759.710573, odp=0.0000443, acid=6.0061499, eutt=18.2339132, eutf=0.66155, eutm=1.7330535, basis='kg CO2 eq./ton, kg CFC-11 eq./ton, kg SO2 eq./ton, mol N eq./ton, kg P eq./ton, kg N eq./ton', label = 'Cast iron', \n",
    "                 citation= 'Annika Eberle et al., (2023), Materials used in U.S. Wind Energy Technologies: Quanitities and Availability for Two Future Scenarios')\n",
    "\n",
    "Concrete = Material(name ='concrete', gwp= 90.91, odp=0.00000040125, acid=0.246868, eutt=1.546130613, eutf=0.015425534, eutm=0.140321324, basis='kg CO2 eq./ton, kg CFC-11 eq./ton, kg SO2 eq./ton, mol N eq./ton, kg P eq./ton, kg N eq./ton', label = 'Concrete', \n",
    "                 citation= 'Annika Eberle et al., (2023), Materials used in U.S. Wind Energy Technologies: Quanitities and Availability for Two Future Scenarios')\n",
    "\n",
    "Glass = Material(name = 'glass', gwp = 1118.5, odp=0.0000141, acid=8.8362743, eutt=22.0973602, eutf=0.1263297, eutm=1.8534905, basis='kg CO2 eq./ton, kg CFC-11 eq./ton, kg SO2 eq./ton, mol N eq./ton, kg P eq./ton, kg N eq./ton', label = 'glass',\n",
    "                 citation = 'Statista.com/statistics/1118670/materials-used-manufacture-solar-pv-plant-globally. & https://solaredition.com/raw-materials-breakdown-for-building-a-1-megawatt-solar-photovoltaic-plant-2017')\n",
    "\n",
    "Aluminium = Material(name = 'aluminium', gwp = 5632.53, odp=0.0000578, acid=31.2744756, eutt=65.5836037, eutf=1.8348121, eutm=6.2774955, basis='kg CO2 eq./ton, kg CFC-11 eq./ton, kg SO2 eq./ton, mol N eq./ton, kg P eq./ton, kg N eq./ton', label = 'aluminium',\n",
    "                 citation = 'https://www.researchgate.net/figure/Overall-environmental-impact-per-kg-Pts-kg-and-GWP-kg-of-CO2-eq-kg-aluminium-of_fig2_295243557. & Statista.com/statistics/1118670/materials-used-manufacture-solar-pv-plant-globally. & https://solaredition.com/raw-materials-breakdown-for-building-a-1-megawatt-solar-photovoltaic-plant-2017')\n",
    "\n",
    "Silicon = Material(name = 'silicon', gwp = 50137.8, odp=0.0012152, acid=188.0829961, eutt=469.8237153, eutf=18.9483911, eutm=46.3346166, basis='kg CO2 eq./ton, kg CFC-11 eq./ton, kg SO2 eq./ton, mol N eq./ton, kg P eq./ton, kg N eq./ton', label = 'silicon',\n",
    "                 citation = 'Statista.com/statistics/1118670/materials-used-manufacture-solar-pv-plant-globally. & https://solaredition.com/raw-materials-breakdown-for-building-a-1-megawatt-solar-photovoltaic-plant-2017')\n",
    "\n",
    "Copper = Material(name = 'copper', gwp = 8660.4, odp=0.0003416, acid=516.3936129, eutt=409.7976693, eutf=46.0940178, eutm=29.6096174, basis='kg CO2 eq./ton, kg CFC-11 eq./ton, kg SO2 eq./ton, mol N eq./ton, kg P eq./ton, kg N eq./ton', label = 'copper',\n",
    "                 citation = 'Statista.com/statistics/1118670/materials-used-manufacture-solar-pv-plant-globally. & https://solaredition.com/raw-materials-breakdown-for-building-a-1-megawatt-solar-photovoltaic-plant-2017')\n"
   ]
  },
  {
   "cell_type": "markdown",
   "metadata": {},
   "source": [
    "Declare Processes"
   ]
  },
  {
   "cell_type": "code",
   "execution_count": 65,
   "metadata": {},
   "outputs": [
    {
     "name": "stdout",
     "output_type": "stream",
     "text": [
      "The problem has the following variables:\n",
      "Resource inventory level (Inv) x 1\n",
      "Exact resource discharge (Sf) x 0\n",
      "Uncertain resource discharge (S) x 1\n",
      "Exact resource availability (Af) x 2\n",
      "Uncertain resource availability (A) x 0\n",
      "Exact resource price (Cf) x 2\n",
      "Uncertain resource price (C) x 0\n",
      "Exact process production (Pf) x 2\n",
      "Uncertain process production (P) x 2\n",
      " For a total of 8 (5 fixed, and 3 uncertain)\n"
     ]
    }
   ],
   "source": [
    "\n",
    "scales = TemporalScale(discretization_list=[1])\n",
    "\n",
    "Solar = Resource(name='Solar', cons_max=100, basis='MW', label='Solar Power')\n",
    "\n",
    "Wind = Resource(name='Wind', cons_max=100, basis='MW', label='Wind Power')\n",
    "\n",
    "Power = Resource(name='Power', basis='MW', label='Power generated', demand = True, varying = [VaryingResource.UNCERTAIN_DEMAND], varying_bounds  = (0,1))#(min(demand['COAST']), 1))\n",
    "\n",
    "\n",
    "LiI = Process(name='LiI', storage=Power, vopex=1302, capex=0, fopex=0,  prod_max=100,\n",
    "            storage_loss=0.11,  label='Lithium-ion battery', basis='MW', store_max=100)\n",
    "\n",
    "WF = Process(name='WF', conversion={Wind: -1, Power: 0.85}, vopex=990, capex=0, fopex=0,\n",
    "            prod_max=100, label='Wind mill array', basis='MW', varying = [VaryingProcess.UNCERTAIN_CAPACITY]\n",
    "            , varying_bounds = (0,1))\n",
    "\n",
    "PV = Process(name='PV', conversion={Solar: -1, Power: 0.75}, vopex=567, capex=0, fopex=0,\n",
    "            prod_max=100, label='Solar PV', basis='MW', varying = [VaryingProcess.UNCERTAIN_CAPACITY]\n",
    "            , varying_bounds = (0,1))\n",
    "\n",
    "region = Location(name='region', processes={\n",
    "                LiI, WF, PV}, scales=scales, label='some region wo dispatchable')\n",
    "scenario = Scenario(name='example', demand={region: {Power:50}}, network=region, scales=scales, label='example scenario')\n",
    "matrix = formulate(scenario=scenario, model_class=ModelClass.MPLP)\n",
    "    # print(matrix)\n",
    "    # return matrix\n",
    "\n"
   ]
  },
  {
   "cell_type": "code",
   "execution_count": 66,
   "metadata": {},
   "outputs": [
    {
     "name": "stdout",
     "output_type": "stream",
     "text": [
      "[]\n"
     ]
    }
   ],
   "source": [
    "solution= solve(matrix = matrix, interface = 'native', name = 'results', solver = 'ppopt') "
   ]
  },
  {
   "attachments": {},
   "cell_type": "markdown",
   "metadata": {},
   "source": [
    "## Changes to OG problem to add MOO (emission objectives)"
   ]
  },
  {
   "cell_type": "code",
   "execution_count": 67,
   "metadata": {},
   "outputs": [],
   "source": [
    "matrix['F'] = numpy.array([numpy.concatenate((i, numpy.array([0]*6)), axis = 0) for i in matrix['F']])"
   ]
  },
  {
   "cell_type": "code",
   "execution_count": 68,
   "metadata": {},
   "outputs": [],
   "source": [
    "matrix['CRa'] = numpy.concatenate((numpy.eye(9),-numpy.eye(9)))"
   ]
  },
  {
   "cell_type": "code",
   "execution_count": 69,
   "metadata": {},
   "outputs": [],
   "source": [
    "matrix['CRb'] = numpy.concatenate((numpy.array([[1] for i in range(9)]), numpy.array([[0] for i in range(9)])))"
   ]
  },
  {
   "cell_type": "code",
   "execution_count": 70,
   "metadata": {},
   "outputs": [],
   "source": [
    "matrix['c'] = numpy.array([[0] for i in range(8)])"
   ]
  },
  {
   "cell_type": "code",
   "execution_count": 71,
   "metadata": {},
   "outputs": [],
   "source": [
    "material_cons_LiI = {LithiumCarbonateR: 20}\n",
    "material_cons_WF = {Steel: 109.9, Cast_iron: 8.805, Concrete: 398.7}\n",
    "material_cons_PV = {Glass: 70, Steel: 56, Concrete: 48, Aluminium: 19, Silicon: 7, Copper: 7}\n",
    "material_cons_dict = {'PV': material_cons_PV, 'WF': material_cons_WF, 'LiI': material_cons_LiI}\n",
    "material_cons_dict2 = {i: {m.name: n for m,n in j.items()} for i,j in material_cons_dict.items()}\n",
    "objective_dict = {i: {m.name: {a: b*material_cons_dict2[i][m.name] for a,b in m.emission_potentials_dict.items()} for m,n in j.items()} for i, j in material_cons_dict.items()}\n",
    "def calculate_total_potentials(data):\n",
    "    totals = {}\n",
    "    for process, materials in data.items():\n",
    "        totals[process] = {}\n",
    "        for material, impacts in materials.items():\n",
    "            for impact, value in impacts.items():\n",
    "                if impact not in totals[process]:\n",
    "                    totals[process][impact] = 0\n",
    "                totals[process][impact] += value\n",
    "    return totals\n",
    "\n",
    "# Calculate and print total potentials\n",
    "objective_dict = calculate_total_potentials(objective_dict)\n",
    "H1 = numpy.zeros((3,8))\n",
    "LiI_obj = numpy.array([[objective_dict['LiI'][i]] for i in ['gwp', 'odp', 'acid', 'eutt', 'eutf', 'eutm'] ])\n",
    "LiI_d_obj = numpy.array([[0] for i in ['gwp', 'odp', 'acid', 'eutt', 'eutf', 'eutm'] ])\n",
    "PV_obj = numpy.array([[objective_dict['PV'][i]] for i in ['gwp', 'odp', 'acid', 'eutt', 'eutf', 'eutm'] ])\n",
    "WF_obj = numpy.array([[objective_dict['WF'][i]] for i in ['gwp', 'odp', 'acid', 'eutt', 'eutf', 'eutm'] ])\n",
    "H2 = numpy.concatenate((numpy.zeros((6,4)), numpy.concatenate((LiI_obj, LiI_d_obj, PV_obj, WF_obj), axis = 1)), axis = 1)\n",
    "matrix['H'] = numpy.concatenate((H1, H2)).transpose()"
   ]
  },
  {
   "cell_type": "code",
   "execution_count": 72,
   "metadata": {},
   "outputs": [
    {
     "name": "stdout",
     "output_type": "stream",
     "text": [
      "[]\n"
     ]
    }
   ],
   "source": [
    "solution_moo = solve(matrix = matrix, interface = 'native', name = 'results', solver = 'ppopt') "
   ]
  },
  {
   "cell_type": "code",
   "execution_count": 74,
   "metadata": {},
   "outputs": [
    {
     "data": {
      "text/plain": [
       "8"
      ]
     },
     "execution_count": 74,
     "metadata": {},
     "output_type": "execute_result"
    }
   ],
   "source": [
    "len(solution.critical_regions)"
   ]
  },
  {
   "cell_type": "code",
   "execution_count": 75,
   "metadata": {},
   "outputs": [
    {
     "data": {
      "text/plain": [
       "4"
      ]
     },
     "execution_count": 75,
     "metadata": {},
     "output_type": "execute_result"
    }
   ],
   "source": [
    "len(solution_moo.critical_regions)"
   ]
  },
  {
   "attachments": {},
   "cell_type": "markdown",
   "metadata": {},
   "source": [
    "\\begin{align}\n",
    "x(\\theta) &= A\\theta + b\\\\\n",
    "\\lambda(\\theta) &= C\\theta + d\\\\\n",
    "\\Theta &:= \\{\\forall \\theta \\in \\mathbf{R}^m: E\\theta \\leq f\\}\n",
    "\\end{align}"
   ]
  }
 ],
 "metadata": {
  "kernelspec": {
   "display_name": "Gabu",
   "language": "python",
   "name": "python3"
  },
  "language_info": {
   "codemirror_mode": {
    "name": "ipython",
    "version": 3
   },
   "file_extension": ".py",
   "mimetype": "text/x-python",
   "name": "python",
   "nbconvert_exporter": "python",
   "pygments_lexer": "ipython3",
   "version": "3.10.5"
  },
  "orig_nbformat": 4
 },
 "nbformat": 4,
 "nbformat_minor": 2
}
