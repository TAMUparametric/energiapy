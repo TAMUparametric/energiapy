{
 "cells": [
  {
   "cell_type": "markdown",
   "metadata": {},
   "source": [
    "# A multiscale modeling and optimization framework for the design of energy systems with embedded life cycle considerations\n"
   ]
  },
  {
   "cell_type": "markdown",
   "metadata": {},
   "source": [
    "__author__ = \"Yilun Lin\"\n",
    "__copyright__ = \"Copyright 2023, Multi-parametric Optimization & Control Lab\"\n",
    "__credits__ = [\"Yilun Lin\", \"Rahul Kakodkar\", \"Efstratios N. Pistikopoulos\"]\n",
    "__license__ = \"Open\"\n",
    "__version__ = \"1.0.0\"\n",
    "__maintainer__ = \"Rahul Kakodkar\"\n",
    "__email__ = \"cacodcar@tamu.edu\"\n",
    "__status__ = \"Production\"\n"
   ]
  },
  {
   "cell_type": "markdown",
   "metadata": {},
   "source": [
    "## In the model, there are a multitude of options for:\n",
    "\n",
    "**power generation**\n",
    "\n",
    "**energy storage**"
   ]
  },
  {
   "cell_type": "markdown",
   "metadata": {},
   "source": [
    "$\\textbf{Import modules}$"
   ]
  },
  {
   "cell_type": "code",
   "execution_count": 21,
   "metadata": {},
   "outputs": [],
   "source": [
    "import sys\n",
    "sys.path.append('../../src')"
   ]
  },
  {
   "cell_type": "code",
   "execution_count": 22,
   "metadata": {},
   "outputs": [],
   "source": [
    "\n",
    "import pandas \n",
    "import numpy\n",
    "from energiapy.components.temporal_scale import TemporalScale\n",
    "from energiapy.components.resource import Resource, VaryingResource\n",
    "from energiapy.components.process import Process, VaryingProcess\n",
    "from energiapy.components.material import Material\n",
    "from energiapy.components.location import Location\n",
    "from energiapy.components.network import Network\n",
    "from energiapy.components.scenario import Scenario\n",
    "from energiapy.components.transport import Transport\n",
    "from energiapy.components.result import Result \n",
    "from energiapy.utils.data_utils import get_data, make_henry_price_df, remove_outliers, load_results\n",
    "from energiapy.model.formulate import formulate, Constraints, Objective\n",
    "from energiapy.utils.nsrdb_utils import fetch_nsrdb_data\n",
    "from energiapy.plot import plot_results, plot_scenario\n",
    "from energiapy.plot.plot_results import CostY, CostX\n",
    "from energiapy.model.solve import solve\n",
    "from energiapy.aggregation.reduce_scenario import reduce_scenario, Clustermethod\n",
    "from energiapy.aggregation.ahc import agg_hierarchial_elbow, IncludeAHC, Fit\n",
    "from energiapy.aggregation.dtw import dynamic_warping, dynamic_warping_matrix, dynamic_warping_path, IncludeDTW\n",
    "from energiapy.utils.data_utils import load_results\n",
    "import matplotlib.pyplot as plt\n",
    "from matplotlib import rc\n"
   ]
  },
  {
   "cell_type": "markdown",
   "metadata": {},
   "source": [
    "**Import solar dni and wind speeds for Harris county**"
   ]
  },
  {
   "cell_type": "code",
   "execution_count": 23,
   "metadata": {},
   "outputs": [],
   "source": [
    "weather20_df = pandas.read_csv('../data/ho_solar20.csv', index_col=0)\n",
    "weather20_df.index = [i.split('+')[0] for i in weather20_df.index]\n",
    "weather = weather20_df[~weather20_df.index.str.contains('02-29')] #remove leap years"
   ]
  },
  {
   "cell_type": "markdown",
   "metadata": {},
   "source": [
    "**Demand data from ERCOT**"
   ]
  },
  {
   "cell_type": "code",
   "execution_count": 24,
   "metadata": {},
   "outputs": [
    {
     "name": "stderr",
     "output_type": "stream",
     "text": [
      "C:\\Users\\cacodcar\\AppData\\Local\\Temp\\ipykernel_15564\\1843758898.py:3: SettingWithCopyWarning: \n",
      "A value is trying to be set on a copy of a slice from a DataFrame.\n",
      "Try using .loc[row_indexer,col_indexer] = value instead\n",
      "\n",
      "See the caveats in the documentation: https://pandas.pydata.org/pandas-docs/stable/user_guide/indexing.html#returning-a-view-versus-a-copy\n",
      "  ercot['index'] = weather20_df.index\n"
     ]
    }
   ],
   "source": [
    "ercot20 = pandas.read_excel('../data/Native_Load_2020.xlsx')\n",
    "ercot = ercot20[['COAST']]\n",
    "ercot['index'] = weather20_df.index\n",
    "ercot = ercot.set_index('index')\n",
    "ercot = ercot[~ercot.index.str.contains('02-29')]"
   ]
  },
  {
   "cell_type": "markdown",
   "metadata": {},
   "source": [
    "**Import natural gas prices from Henry Hub Price Index**  "
   ]
  },
  {
   "cell_type": "code",
   "execution_count": 25,
   "metadata": {},
   "outputs": [],
   "source": [
    "#Actual temporal scale (daily)\n",
    "ng_price20 = make_henry_price_df(\n",
    "    file_name='../data/Henry_Hub_Natural_Gas_Spot_Price_Daily.csv', year=2020, stretch=False)\n",
    "ng_price_df = ng_price20\n",
    "ng_price_df['index'] = [i for i in weather.index][::24]\n",
    "ng_price_df = ng_price_df.drop(columns= 'scales')\n",
    "ng_price = ng_price_df.set_index('index')"
   ]
  },
  {
   "cell_type": "markdown",
   "metadata": {},
   "source": [
    "$\\textbf{Define temporal scale}$\n"
   ]
  },
  {
   "cell_type": "code",
   "execution_count": 26,
   "metadata": {},
   "outputs": [],
   "source": [
    "scales = TemporalScale(discretization_list=[1, 365, 24], start_zero= 2020)"
   ]
  },
  {
   "cell_type": "markdown",
   "metadata": {},
   "source": [
    "$\\textbf{Declare constants for ease}$\n"
   ]
  },
  {
   "cell_type": "code",
   "execution_count": 27,
   "metadata": {},
   "outputs": [],
   "source": [
    "bigM = 10**4  # very large number\n",
    "smallM = 0.1\n",
    "water_price = 31.70  # $/5000gallons\n",
    "power_price = 8  # cents/kWh\n",
    "ur_price = 42.70  # 250 Pfund U308 (Uranium)\n",
    "A_f = 0.05  # annualization factor\n",
    "# CO2_res = 0.2\n",
    "pv_start = 0\n",
    "ake_start = 0\n",
    "smrh_start = 0\n",
    "smr_start = 0\n",
    "asmr_start = 0"
   ]
  },
  {
   "cell_type": "markdown",
   "metadata": {},
   "source": [
    "$\\textbf{Declare resources}$"
   ]
  },
  {
   "cell_type": "code",
   "execution_count": 28,
   "metadata": {},
   "outputs": [],
   "source": [
    "Charge = Resource(name='Charge', sell=False,\n",
    "                  store_max=100, basis='MW', label='Battery energy', block='energystorage')\n",
    "\n",
    "Solar = Resource(\n",
    "    name='Solar', cons_max=bigM, basis='MW', label='Solar Power', block='energyfeedstock')\n",
    "\n",
    "Wind = Resource(name='Wind', cons_max= bigM, basis='MW', label='Wind Power', block='energyfeedstock')\n",
    "\n",
    "H2O = Resource(name='H2O', cons_max=10**10, price=water_price/(5000*3.7854), basis='kg', label='Water', block='Resource')\n",
    "\n",
    "CO2 = Resource(name='CO2', basis='kg', label='Carbon dioxide', block='Resource')\n",
    "\n",
    "Power = Resource(name='Power', basis='MW', sell= True, demand = True, label='Renewable power generated', block='Resource')\n",
    "\n",
    "Mile = Resource(name = 'Mile', basis = 'miles', sell = True, demand  = True, label = 'miles driven')\n",
    "\n",
    "H2_L = Resource(name='H2_L', store_max=10**10, revenue=2,\n",
    "                 basis='kg', label='Hydrogen - Geological', block='resourcestorage')\n",
    "\n",
    "H2_C = Resource(name='H2_C', store_max= 10**10, loss=0.025/24, revenue=2,\n",
    "    basis='kg', label='Hydrogen - Local Cryo', block='resourcestorage')\n",
    "# Geothermal_energy= Resource(name='Geothermal', store_max=10**10, sell=True, basis='MW',  label='Geothermal Storage', block='resourcestorage')\n",
    "# Biogas = Resource(name = 'Biogass', basis = 'kg', cons_max = 10**5, label = 'Biogas consumed from outside the system' )\n",
    "# Biomass = Resource(name = 'Biomass', basis = 'kg', cons_max = 10**5, label = 'Biomass consumed from outside the system' )\n"
   ]
  },
  {
   "cell_type": "markdown",
   "metadata": {},
   "source": [
    "$\\textbf{Declare Materials}$\n"
   ]
  },
  {
   "cell_type": "code",
   "execution_count": 29,
   "metadata": {},
   "outputs": [],
   "source": [
    "LiR = Material(name='LiR', gwp=1.484, resource_cons = {H2O: 2273}, toxicity=793, basis= 'kg', label='Rock-based Lithium', \\\n",
    "    citation= 'Nelson Bunyui Manjong (2021), httoxicitys://www.tcc.fl.edu/media/divisions/academic-affairs/academic-enrichment/urc/poster-abstracts/Xanders_Madison_Poster_URS.pdf') #gwp=(0.216,0.314)\n",
    "LiB = Material(name='LiB', gwp=0.031, toxicity=793, basis= 'kg', label='Brine-based Lithium', citation= 'Nelson Bunyui Manjong (2021)') #gwp=(0.289,0.499)\n",
    "Ni = Material(name='Ni', gwp=7.64, resource_cons = {H2O: 80}, toxicity=67, basis= 'kg', label='Nickel', citation= 'Mark Mistry (2016), Sustainable water use in minerals and metal production')\n",
    "Co = Material(name='Co', gwp=11.73, toxicity=325, basis= 'kg', label='Cobalt', citation= 'Farjana et al. 2019a, b')\n",
    "# Steel = Material(name='Steel', gwp=(0.8,1.4), resource_cons = {H2O: 3.94}, toxicity=40, basis= 'kg', label='Steel', citation= 'Kim R.Bawden (2016), Anlong Li (2020)') #toxicity of iron instead\n",
    "Steel = Material(name='Steel', gwp=0.8, resource_cons = {H2O: 3.94}, toxicity=40, basis= 'kg', label='Steel', citation= 'Kim R.Bawden (2016), Anlong Li (2020)') #toxicity of iron instead\n",
    "Na = Material(name='Na', gwp=0.5, resource_cons = {H2O: 3}, toxicity=20, basis= 'kg', label='Sodium')\n",
    "\n",
    "# Fe = Material(name='Steel', gwp=(0.8,1.4), resource_cons = {H2O: 3.94}, toxicity=40, basis= 'kg', label='Iron', citation= 'Kim R.Bawden (2016), Anlong Li (2020)')\n",
    "Fe = Material(name='Steel', gwp=0.8, resource_cons = {H2O: 3.94}, toxicity=40, basis= 'kg', label='Iron', citation= 'Kim R.Bawden (2016), Anlong Li (2020)')\n",
    "CuP = Material(name='Cu', gwp=2.5, resource_cons = {H2O: 30}, toxicity=2500, basis= 'kg', label='Copper Pyro', citation= 'T.E. Norgate (2007), Sustainable water use in minerals and metal production')\n",
    "CuH = Material(name='Cu', gwp=6, resource_cons = {H2O: 40}, toxicity=2500, basis= 'kg', label='Copper Hyro', citation= 'T.E. Norgate (2007), Sustainable water use in minerals and metal production')\n",
    "PbB = Material(name='PbB', gwp=1.5, resource_cons = {H2O: 15}, toxicity=450, basis= 'kg', label='Lead BF', citation= 'T.E. Norgate (2007), Sustainable water use in minerals and metal production')\n",
    "PbI = Material(name='PbI', gwp=2.5, resource_cons = {H2O: 25}, toxicity=450, basis= 'kg', label='Lead ISF', citation= 'T.E. Norgate (2007), Sustainable water use in minerals and metal production')\n",
    "ZnE = Material(name='ZnE', gwp=5, resource_cons = {H2O: 30}, toxicity=57, basis= 'kg', label='Zn Elec', citation= 'T.E. Norgate (2007), Sustainable water use in minerals and metal production')\n",
    "ZnI = Material(name='ZnI', gwp=3.5, resource_cons = {H2O: 25}, toxicity=57, basis= 'kg', label='Zn ISF', citation= 'T.E. Norgate (2007), Sustainable water use in minerals and metal production')\n",
    "Pd = Material(name='Pd', gwp=3880, resource_cons = {H2O: 210713}, toxicity=3, basis= 'kg', label='Palladium', citation= 'Philip Nuss (2014), Simon Meißner (2021)')\n",
    "Rd = Material(name='Rd', gwp=35100, toxicity=15, basis= 'kg', label='Rhodium', citation= 'Philip Nuss (2014)')\n",
    "Pt = Material(name='Pd', gwp=12500, resource_cons = {H2O: 31349}, toxicity=5000, basis= 'kg', label='Platinum', citation= 'Philip Nuss (2014), Simon Meißner (2021)')\n",
    "Y = Material(name='Y', gwp=15.1, toxicity=400, basis= 'kg', label='Yttrium', citation= 'Philip Nuss (2014)')\n",
    "Al = Material(name='Al', gwp=8.2, resource_cons = {H2O: 147}, toxicity=3632, basis= 'kg', label='Aluminium', citation= 'Philip Nuss (2014), Water requirements of the aluminum industry Water Supply Paper 1330-C')\n",
    "Mg = Material(name='Mg', gwp=9.6, toxicity=200, basis= 'kg', label='Magnesium', citation= 'Philip Nuss (2014)')\n",
    "PP = Material(name='PP', gwp=1.586, basis= 'kg', label='Polypropylene', citation= 'Greenhouse gas emissions and natural capital implications of plastics (including biobased plastics)')\n",
    "HDPE = Material(name='HDPE', gwp=1.98,toxicity=5000, basis= 'kg', label='HD polyethylene', citation= 'Greenhouse gas emissions and natural capital implications of plastics (including biobased plastics)')\n",
    "LDPE = Material(name='LDPE', gwp=1.93, toxicity=2000, basis= 'kg', label='LD polyethylene', citation= 'Greenhouse gas emissions and natural capital implications of plastics (including biobased plastics)')\n",
    "PVC = Material(name='PVC', gwp=2.51, basis= 'kg', label='Polyvinylchloride', citation= 'Greenhouse gas emissions and natural capital implications of plastics (including biobased plastics)')\n",
    "Rubber = Material(name='Rubber', gwp=6.4, toxicity=330, basis= 'kg', label='Rubber', citation= 'GREENING OF INDUSTRY NETWORK (GIN) 2010: CLIMATE CHANGE AND GREEN GROWTH: INNOVATING FOR SUSTAINABILITY ')\n",
    "PTFE = Material(name='PTFE', gwp=9.6, toxicity=11280, basis= 'kg', label='Poly tetra fluoroethylene', citation='httoxicitys://shamrocktechnologies.com/co2-emissions/')\n",
    "# Epoxy = Material(name='Epoxy', gwp=(4.7, 8.1), toxicity=2000 , basis= 'kg', label='Epoxy resin', citation= 'Bricout et al. (2017)' )\n",
    "Epoxy = Material(name='Epoxy', gwp=4.7, toxicity=2000 , basis= 'kg', label='Epoxy resin', citation= 'Bricout et al. (2017)' )\n",
    "\n",
    "Polyester = Material(name='Polyester', gwp=4.32, toxicity=2500, basis= 'kg', label='Polyester resin', citation= ' Rietveld and Hegger (2014)' )\n",
    "Vinyl_easter = Material(name='vinyl ester', gwp=5.87, toxicity=1000, basis= 'kg', label='vinyl ester resin', citation= ' Rietveld and Hegger (2014) ' ) #Assume toxicity\n",
    "Glass_fibre = Material(name='glass fibre', gwp=2.5, toxicity=1000, basis= 'kg', label='Glass fibre resin', citation= ' Bachmann et al. (2017)' ) #Assume toxicity\n",
    "Mn = Material(name='Mn', gwp=4.51, toxicity=1484, basis= 'kg', label='Manganese', citation= 'Nelson Bunyui Manjong (2021)') #inventory data #9.6, 2.6,7.9\n",
    "Monocrystalline = Material(name='Mc', gwp=20, resource_cons = {H2O: 1.5}, toxicity=40.74, basis= 'kg', label='Mono', \n",
    "citation= 'Environmental impact assessment of monocrystalline silicon solar photovoltaic cell production: a case study in China (toxicity)')\n",
    "Polycrystalline = Material(name='Pc', gwp=26 , resource_cons = {H2O: 1}, toxicity=15, basis= 'kg', label='Poly', citation= 'Environmental Economic Impact Assessments of a ... - MDPI (gwp and toxicity)')\n",
    "#1,4-DB-eq\n",
    "CdTE = Material(name='CdTe', gwp=40, resource_cons = {H2O: 0.25}, toxicity=5, basis= 'kg', label='C', citation= 'Investigation of life cycle CO2 emissions of the polycrystalline and cadmium telluride PV panels')\n",
    "\n",
    "\n"
   ]
  },
  {
   "cell_type": "markdown",
   "metadata": {},
   "source": [
    "$\\textbf{Declare processes}$"
   ]
  },
  {
   "cell_type": "code",
   "execution_count": 30,
   "metadata": {},
   "outputs": [],
   "source": [
    "\n",
    "#THREE WIND FARMS - COMPLETELY DIFFERENT \n",
    "WF1 = Process(name='WF1', conversion={Wind: -5, Power: 1, H2O: -1},\n",
    "             capex=1377, fopex=2117, vopex=300,\n",
    "             prod_max=100, gwp=42700, land=1800000, trl='nrel', block='power_generation', material_cons = {Steel: 292, Fe:44, CuP: 4, Al: 4, Epoxy: 16, Polyester: 16, \\\n",
    "             Vinyl_easter: 12, Glass_fibre: 12},\n",
    "             label='Wind mill array', citation='Use windtoolkit conversion') \n",
    "\n",
    "WF2 = Process(name='WF2', conversion={Wind: -3.33, Power: 1, H2O: -1}, \n",
    "               capex=5737, fopex=8824, vopex=900,\n",
    "               prod_max=100, gwp=52700, land=1400000, trl='nrel', block='power_generation', material_cons = {Steel: 316, Fe:20, CuP: 4, Al: 4, Epoxy: 16, Polyester: 16, \\\n",
    "                Vinyl_easter: 12, Glass_fibre: 12},\n",
    "               label='Wind mill array', citation='Use windtoolkit conversion, Techno-Economic Analysis and Modelling of the Feasibility of Wind Energy in Kuwait for land')\n",
    "\n",
    "WF3 = Process(name='WF3', conversion={Wind: -2.5, Power: 1, H2O: -1},\n",
    "               capex=567000, fopex=872046, vopex=90000,\n",
    "               prod_max=100, gwp=62700, land=1000000, trl='nrel', block='power_generation', material_cons = {Steel: 330, Fe:85, CuP: 5, Al: 10, Epoxy: 20, Polyester: 20, \\\n",
    "                Vinyl_easter: 15, Glass_fibre: 15},\n",
    "               label='Wind mill array', citation='Use windtoolkit conversion')\n",
    "\n",
    "PV1 = Process(name='PV1', introduce=pv_start, conversion={Solar: -5, Power: 1, H2O: -0.0757}, material_cons = {Monocrystalline: 0.4}, \n",
    "              capex=990637, fopex=3354, vopex=4953,\n",
    "             prod_max=100, gwp=46, land=13320/1800, trl='nrel', block='power_generation', \\\n",
    "                 label='Solar photovoltaics (PV) array', citation='Use pvlib conversion, \\\n",
    "                 Environmental Impacts of Photovoltaics: The Effects of Technological Improvements and Transfer of Manufacturing from Europe to China for gwp, \\\n",
    "                    Technoeconomic analysis of high-value, crystalline silicon photovoltaic module recycling processes for material,\\\n",
    "                    A Techno-Economic Feasibility Analysis of Mono-Si and Poly-Si Photovoltaic Systems in the Rooftop Area of Commercial Building under the Feed-In Tariff Scheme for money') \n",
    "\n",
    "PV2 = Process(name='PV2', introduce=pv_start, conversion={Solar: -6.67, Power: 1, H2O: -0.0857}, material_cons = {Polycrystalline: 0.36}, \n",
    "             prod_max=100, gwp=53, land=13320/1800, trl='nrel', block='power_generation', \\\n",
    "                 label='Solar photovoltaics (PV) array', citation='Use pvlib conversion, for gwp, for money, 10*0.036')\n",
    "\n",
    "PV3 = Process(name='PV3', introduce=pv_start, conversion={Solar: -3.33, Power: 1, H2O: -0.0957}, material_cons = {CdTE: 0.02},\n",
    "             prod_max=100, gwp=18, land=13320/1800, trl='nrel', block='power_generation', \\\n",
    "                 label='Solar photovoltaics (PV) array', citation='Use pvlib conversion, for gwp')\n",
    "\n",
    "#Lead_a_d = Process(name='PbB_d',  conversion={Charge: -1.176, Power: 1}, capex=0.001, fopex=0.001, vopex=0, label='Lead-acid', citation= 'Florin, N. and Dominish, E. (2017), Zakeri 2015')\n",
    "#Lead_a_c = Process(name='PbB_c',  conversion={Charge: 1, Power: -1}, trl='utility', capex=260000, fopex=5900, vopex=0, material_cons = {PbB: 20}, gwp=0.075, lifetime=(5,15), label='Lead-acid', citation= 'Florin, N. and Dominish, E. (2017), Zakeri 2015')\n",
    "\n",
    "Na_S_c = Process(name='Na-S_c', conversion={Charge: 1, Power: -1},  trl='utility', lifetime=(10,15), material_cons = {Na: 40}, capex=1002181.8181818181, fopex=31432.7272727272, vopex=0, label='Sodium-Sulfur', citation= 'Florin, N. and Dominish, E. (2017), Zakeri 2015')\n",
    "\n",
    "Na_S_d = Process(name='Na-S_d', conversion={Charge: -1.25, Power: 1}, label='Sodium-Sulfur', citation= 'Florin, N. and Dominish, E. (2017), Zakeri 2015')\n",
    "\n",
    "#Lead_b_c = Process(name='PbI_c',  conversion={Charge: 1, Power: -1}, capex=300000, fopex=7900, vopex=0,trl='utility', material_cons = {PbI: 20}, gwp=0.075, lifetime=(5,15), label='Lead-acid', citation= 'Florin, N. and Dominish, E. (2017), Zakeri 2015')\n",
    "#Lead_b_d = Process(name='PbI_d',  conversion={Charge: -1.196, Power: 1}, capex=0.001, fopex=0.001, vopex=0, label='Lead-acid', citation= 'Florin, N. and Dominish, E. (2017), Zakeri 2015')\n",
    "\n",
    "\n",
    "Ni_Cd_c = Process(name='Ni-Cd_c', conversion={Charge: 1, Power: -1},trl='utility', material_cons = {Ni: 20}, capex=2002181.8181818181, fopex=71432.7272727272, vopex=0, gwp=0.08, lifetime=(10,20), label='Ni-Cd', citation= 'Florin, N. and Dominish, E. (2017), Zakeri 2015')\n",
    "Ni_Cd_d = Process(name='Ni-Cd_D',  conversion={Charge: -1.54, Power: 1},label='Ni-Cd', citation= 'Florin, N. and Dominish, E. (2017), Zakeri 2015')\n",
    "\n",
    "#DIFFERENT KINDS OF LITHIUM ION\n",
    "LiI_a_c = Process(name='LiR_c', conversion={Charge: 1, Power: -1}, material_cons = {LiR: 20}, capex=1502181.8181818181, fopex=51432.7272727272, vopex=0, #cost = cost_dict['HO']['moderate']['LiI_c']['0'],\\\n",
    "    prod_max=100, trl='nrel', block='power_storage', label='Lithium-ion battery R', citation='Zakeri 2015')\n",
    "\n",
    "LiI_a_d = Process(name='LiR_d', conversion={Charge: -1.1765, Power: 1}, capex=0.001, fopex=0.001, vopex=0, \\\n",
    "    \n",
    "    prod_max=100, trl='discharge', block='power_storage', label='Lithium-ion battery discharge R', citation='Zakeri 2015')\n",
    "\n",
    "LiI_b_c = Process(name='LiB_c', conversion={Charge: 1, Power: -1}, material_cons = {Na: 30}, capex=1302181.8181818181, fopex=41432.7272727272, vopex=0, #cost = cost_dict['HO']['moderate']['LiI_c']['0'],\\\n",
    "    prod_max=100, trl='nrel', block='power_storage', label='Lithium-ion battery B', citation='Zakeri 2015')\n",
    "\n",
    "LiI_b_d = Process(name='LiB_d', conversion={Charge: -1.05, Power: 1}, capex=0.001, fopex=0.001, vopex=0, #cost = cost_dict['HO']['moderate']['LiI_c']['0'],\\\n",
    "    prod_max=100, trl='nrel', block='power_storage', label='Lithium-ion battery B', citation='Zakeri 2015')\n",
    "\n",
    "\n",
    "\n",
    "#Vrb_c = Process(name='VRB_c', conversion={Charge: 1, Power: -1}, material_cons = {PbB: 20}, trl='utility', gwp=0.02, lifetime=(5,10), label='VRB', citation= 'Florin, N. and Dominish, E. (2017), Zakeri 2015')\n",
    "#Vrb_d = Process(name='VRB_d',  conversion={Charge: -1.33, Power: 1}, label='VRB', citation= 'Florin, N. and Dominish, E. (2017), Zakeri 2015')\n",
    "\n",
    "\n"
   ]
  },
  {
   "cell_type": "markdown",
   "metadata": {},
   "source": [
    "$\\textbf{Declare location(s)}$\n"
   ]
  },
  {
   "cell_type": "markdown",
   "metadata": {},
   "source": [
    "Scenario with all processes considered"
   ]
  },
  {
   "cell_type": "code",
   "execution_count": 31,
   "metadata": {},
   "outputs": [
    {
     "name": "stdout",
     "output_type": "stream",
     "text": [
      "constraint process capex\n",
      "constraint process fopex\n",
      "constraint process vopex\n",
      "constraint process incidental\n",
      "constraint location capex\n",
      "constraint location fopex\n",
      "constraint location vopex\n",
      "constraint location incidental\n",
      "constraint network capex\n",
      "constraint network fopex\n",
      "constraint network vopex\n",
      "constraint network incidental\n",
      "constraint global warming potential process\n",
      "constraint global warming potential resource\n",
      "constraint global warming potential material\n",
      "constraint global warming potential location\n",
      "constraint global warming potential network\n",
      "constraint nameplate inventory\n",
      "constraint storage max\n",
      "constraint storage min\n",
      "constraint production mode\n",
      "constraint nameplate production\n",
      "constraint production max\n",
      "constraint production min\n",
      "constraint land process\n",
      "constraint land location\n",
      "constraint land network\n",
      "constraint land process cost\n",
      "constraint land location cost\n",
      "constraint land network cost\n",
      "constraint inventory balance\n",
      "constraint resource consumption\n",
      "constraint resource purchase\n",
      "constraint location production\n",
      "constraint location discharge\n",
      "constraint location consumption\n",
      "constraint location purchase\n",
      "constraint network production\n",
      "constraint network discharge\n",
      "constraint network consumption\n",
      "constraint network purchase\n",
      "constraint demand\n",
      "objective cost\n"
     ]
    }
   ],
   "source": [
    "process_set = {PV1, PV2, PV3, WF1, WF2, WF3, Na_S_c, Na_S_d,\n",
    "               Ni_Cd_c, Ni_Cd_d, LiI_a_c, LiI_a_d, LiI_b_c, LiI_b_d}\n",
    "\n",
    "HO = Location(name='HO', processes=process_set, demand_factor={Power: ercot},  capacity_factor={PV1: pandas.DataFrame(weather['dni']), WF1: pandas.DataFrame(weather['wind_speed'])}, scales=scales,\n",
    "              label='Houston', demand_scale_level=2, capacity_scale_level=2, price_scale_level=1)\n",
    "\n",
    "scenario0 = Scenario(name='shell', network=HO, scales=scales,  expenditure_scale_level=0, scheduling_scale_level=2,\n",
    "                     network_scale_level=0, demand_scale_level=2, label='shell milp case study (HO)', demand= {HO: {Power: 100}})\n",
    "\n",
    "\n",
    "milp0 = formulate(scenario=scenario0, constraints={\n",
    "                  Constraints.COST, Constraints.INVENTORY, Constraints.PRODUCTION, Constraints.LAND, Constraints.RESOURCE_BALANCE, Constraints.EMISSION}, objective=Objective.COST)\n",
    "\n",
    "\n"
   ]
  },
  {
   "cell_type": "code",
   "execution_count": 32,
   "metadata": {},
   "outputs": [
    {
     "name": "stdout",
     "output_type": "stream",
     "text": [
      "Set parameter QCPDual to value 1\n",
      "Gurobi Optimizer version 10.0.1 build v10.0.1rc0 (win64)\n",
      "\n",
      "CPU model: Intel(R) Core(TM) i7-6700 CPU @ 3.40GHz, instruction set [SSE2|AVX|AVX2]\n",
      "Thread count: 4 physical cores, 8 logical processors, using up to 8 threads\n",
      "\n",
      "Optimize a model with 359357 rows, 315545 columns and 1112902 nonzeros\n",
      "Model fingerprint: 0xc6a55ef6\n",
      "Coefficient statistics:\n",
      "  Matrix range     [1e-03, 2e+06]\n",
      "  Objective range  [1e+00, 1e+00]\n",
      "  Bounds range     [0e+00, 0e+00]\n",
      "  RHS range        [4e+01, 1e+10]\n",
      "Warning: Model contains large rhs\n",
      "         Consider reformulating model or setting NumericFocus parameter\n",
      "         to avoid numerical issues.\n",
      "Presolve removed 262997 rows and 210417 columns\n",
      "Presolve time: 0.46s\n",
      "Presolved: 96360 rows, 105128 columns, 341639 nonzeros\n",
      "\n",
      "Concurrent LP optimizer: dual simplex and barrier\n",
      "Showing barrier log only...\n",
      "\n",
      "Ordering time: 0.03s\n",
      "\n",
      "Barrier statistics:\n",
      " Dense cols : 8\n",
      " AA' NZ     : 2.365e+05\n",
      " Factor NZ  : 9.681e+05 (roughly 90 MB of memory)\n",
      " Factor Ops : 1.043e+07 (less than 1 second per iteration)\n",
      " Threads    : 3\n",
      "\n",
      "                  Objective                Residual\n",
      "Iter       Primal          Dual         Primal    Dual     Compl     Time\n",
      "   0   3.65484871e+18 -4.04232676e+19  8.93e+08 2.10e+05  1.18e+15     1s\n",
      "   1   2.94575229e+18 -1.38846818e+19  6.57e+08 3.23e+05  3.89e+14     1s\n",
      "   2   3.10259015e+18 -2.68232002e+16  5.43e+08 8.43e+04  3.01e+14     1s\n",
      "   3   6.90143663e+17 -1.39661414e+17  1.14e+08 1.48e-02  6.89e+13     1s\n",
      "   4   2.61418434e+13 -1.48961637e+14  1.24e+04 2.37e-04  7.77e+09     1s\n",
      "   5   7.13687753e+10 -2.17668937e+12  4.32e+01 6.68e-05  3.28e+07     1s\n",
      "   6   5.65800834e+09 -1.74522335e+12  2.78e+00 8.96e-05  7.38e+06     1s\n",
      "   7   3.39341936e+09 -1.90103123e+11  2.59e-03 6.44e-05  6.69e+05     1s\n",
      "   8   8.34406106e+08 -3.92197291e+09  7.51e-07 1.41e-05  1.65e+04     1s\n",
      "   9   3.94249517e+08 -2.85553536e+09  1.87e-08 1.04e-05  1.12e+04     2s\n",
      "  10   1.95039934e+08 -1.56753678e+09  2.90e-09 3.86e-06  6.10e+03     2s\n",
      "  11   1.47404226e+08 -8.65650328e+08  6.93e-14 2.22e-06  3.50e+03     2s\n",
      "  12   4.05894787e+07 -1.61815147e+08  3.00e-14 3.53e-07  7.00e+02     2s\n",
      "  13   1.04854643e+07 -3.54824849e+07  9.80e-15 8.37e-08  1.59e+02     2s\n",
      "  14   2.22513717e+06 -5.92442255e+06  3.54e-14 1.42e-08  2.82e+01     2s\n",
      "  15   3.76946918e+05 -7.86923431e+05  1.10e-13 3.08e-08  4.03e+00     2s\n",
      "  16   6.56956983e+04 -1.20017743e+05  8.21e-13 1.51e-08  6.42e-01     2s\n",
      "  17   5.60486419e+03 -2.67771620e+04  3.62e-14 8.61e-10  1.12e-01     2s\n",
      "  18   1.48837869e+02 -2.45375891e+02  6.00e-15 2.85e-08  1.36e-03     2s\n",
      "  19   9.10098579e+01  5.33238695e+01  1.10e-15 3.02e-08  1.30e-04     3s\n",
      "  20   7.72329425e+01  7.01352452e+01  4.97e-16 1.84e-08  2.46e-05     3s\n",
      "  21   7.54761592e+01  7.47091692e+01  2.51e-16 1.91e-09  2.65e-06     3s\n",
      "  22   7.53205137e+01  7.53017723e+01  3.88e-16 1.24e-07  6.48e-08     3s\n",
      "  23   7.53129533e+01  7.53129530e+01  1.94e-15 3.69e-08  8.61e-13     3s\n",
      "\n",
      "Barrier solved model in 23 iterations and 3.11 seconds (1.52 work units)\n",
      "Optimal objective 7.53129533e+01\n",
      "\n",
      "Crossover log...\n",
      "\n",
      "   61320 DPushes remaining with DInf 0.0000000e+00                 3s\n",
      "       0 DPushes remaining with DInf 0.0000000e+00                 3s\n",
      "\n",
      "       1 PPushes remaining with PInf 0.0000000e+00                 3s\n",
      "       0 PPushes remaining with PInf 0.0000000e+00                 3s\n",
      "\n",
      "  Push phase complete: Pinf 0.0000000e+00, Dinf 0.0000000e+00      3s\n",
      "\n",
      "\n",
      "Solved with barrier\n",
      "Iteration    Objective       Primal Inf.    Dual Inf.      Time\n",
      "   26284    7.5312953e+01   0.000000e+00   0.000000e+00      3s\n",
      "\n",
      "Solved in 26284 iterations and 3.49 seconds (1.73 work units)\n",
      "Optimal objective  7.531295314e+01\n"
     ]
    }
   ],
   "source": [
    "results0 = solve(scenario=scenario0, instance=milp0,\n",
    "                 solver='gurobi', name=f\"Material_case_study0\")\n"
   ]
  },
  {
   "cell_type": "code",
   "execution_count": 33,
   "metadata": {},
   "outputs": [
    {
     "ename": "TypeError",
     "evalue": "Location.__init__() got an unexpected keyword argument 'cost_scale_level'",
     "output_type": "error",
     "traceback": [
      "\u001b[1;31m---------------------------------------------------------------------------\u001b[0m",
      "\u001b[1;31mTypeError\u001b[0m                                 Traceback (most recent call last)",
      "Cell \u001b[1;32mIn[33], line 4\u001b[0m\n\u001b[0;32m      1\u001b[0m process_set1 \u001b[39m=\u001b[39m {PV1, PV2, PV3, Na_S_c, Na_S_d, Ni_Cd_c, Ni_Cd_d, LiI_a_c, LiI_a_d, LiI_b_c, LiI_b_d}\n\u001b[1;32m----> 4\u001b[0m HO1 \u001b[39m=\u001b[39m Location(name\u001b[39m=\u001b[39;49m\u001b[39m'\u001b[39;49m\u001b[39mHO1\u001b[39;49m\u001b[39m'\u001b[39;49m, processes\u001b[39m=\u001b[39;49m process_set1, demand_factor\u001b[39m=\u001b[39;49m {Power: ercot},  capacity_factor \u001b[39m=\u001b[39;49m {PV1: pandas\u001b[39m.\u001b[39;49mDataFrame(weather[\u001b[39m'\u001b[39;49m\u001b[39mdni\u001b[39;49m\u001b[39m'\u001b[39;49m]), WF1: pandas\u001b[39m.\u001b[39;49mDataFrame(weather[\u001b[39m'\u001b[39;49m\u001b[39mwind_speed\u001b[39;49m\u001b[39m'\u001b[39;49m])}, scales\u001b[39m=\u001b[39;49mscales, \\\n\u001b[0;32m      5\u001b[0m         label\u001b[39m=\u001b[39;49m\u001b[39m'\u001b[39;49m\u001b[39mHouston\u001b[39;49m\u001b[39m'\u001b[39;49m, demand_scale_level\u001b[39m=\u001b[39;49m\u001b[39m2\u001b[39;49m, capacity_scale_level\u001b[39m=\u001b[39;49m \u001b[39m2\u001b[39;49m, cost_scale_level\u001b[39m=\u001b[39;49m \u001b[39m1\u001b[39;49m)\n\u001b[0;32m      7\u001b[0m scenario1 \u001b[39m=\u001b[39m Scenario(name\u001b[39m=\u001b[39m \u001b[39m'\u001b[39m\u001b[39mshell1\u001b[39m\u001b[39m'\u001b[39m, network\u001b[39m=\u001b[39m HO1, scales\u001b[39m=\u001b[39m scales,  expenditure_scale_level\u001b[39m=\u001b[39m \u001b[39m0\u001b[39m, scheduling_scale_level\u001b[39m=\u001b[39m \u001b[39m2\u001b[39m, \\\n\u001b[0;32m      8\u001b[0m     network_scale_level\u001b[39m=\u001b[39m \u001b[39m0\u001b[39m, demand_scale_level\u001b[39m=\u001b[39m \u001b[39m2\u001b[39m, label\u001b[39m=\u001b[39m \u001b[39m'\u001b[39m\u001b[39mshell milp case study (HO)\u001b[39m\u001b[39m'\u001b[39m)\n\u001b[0;32m     10\u001b[0m milp1 \u001b[39m=\u001b[39m formulate(scenario\u001b[39m=\u001b[39m scenario1, demand \u001b[39m=\u001b[39m \u001b[39m10\u001b[39m, \\\n\u001b[0;32m     11\u001b[0m     constraints\u001b[39m=\u001b[39m{Constraints\u001b[39m.\u001b[39mcost, Constraints\u001b[39m.\u001b[39minventory, Constraints\u001b[39m.\u001b[39mproduction, Constraints\u001b[39m.\u001b[39mland, Constraints\u001b[39m.\u001b[39mresource_balance, Constraints\u001b[39m.\u001b[39memission}, \\\n\u001b[0;32m     12\u001b[0m         objective\u001b[39m=\u001b[39m Objective\u001b[39m.\u001b[39mcost)\n",
      "\u001b[1;31mTypeError\u001b[0m: Location.__init__() got an unexpected keyword argument 'cost_scale_level'"
     ]
    }
   ],
   "source": [
    "process_set1 = {PV1, PV2, PV3, Na_S_c, Na_S_d, Ni_Cd_c, Ni_Cd_d, LiI_a_c, LiI_a_d, LiI_b_c, LiI_b_d}\n",
    "\n",
    "\n",
    "HO1 = Location(name='HO1', processes= process_set1, demand_factor= {Power: ercot},  capacity_factor = {PV1: pandas.DataFrame(weather['dni']), WF1: pandas.DataFrame(weather['wind_speed'])}, scales=scales, \\\n",
    "        label='Houston', demand_scale_level=2, capacity_scale_level= 2, cost_scale_level= 1)\n",
    "\n",
    "scenario1 = Scenario(name= 'shell1', network= HO1, scales= scales,  expenditure_scale_level= 0, scheduling_scale_level= 2, \\\n",
    "    network_scale_level= 0, demand_scale_level= 2, label= 'shell milp case study (HO)')\n",
    "\n",
    "milp1 = formulate(scenario= scenario1, demand = 10, \\\n",
    "    constraints={Constraints.cost, Constraints.inventory, Constraints.production, Constraints.land, Constraints.resource_balance, Constraints.emission}, \\\n",
    "        objective= Objective.cost)\n",
    "\n",
    "# results1 = solve(scenario = scenario1, instance= milp1, solver= 'gurobi', \\\n",
    "#         name=f\"Material_case_study1\")\n",
    "\n",
    "\n"
   ]
  },
  {
   "cell_type": "code",
   "execution_count": null,
   "metadata": {},
   "outputs": [],
   "source": [
    "process_set2 = {WF1, WF2, WF3, Na_S_c, Na_S_d, Ni_Cd_c, Ni_Cd_d, LiI_a_c, LiI_a_d, LiI_b_c, LiI_b_d}\n",
    "\n",
    "HO2 = Location(name='HO2', processes= process_set2, demand_factor= {Power: ercot}, \\\n",
    "     capacity_factor = {PV2: pandas.DataFrame(weather['dni']), WF2: pandas.DataFrame(weather['wind_speed'])}, scales=scales, \\\n",
    "        label='Houston', demand_scale_level=2, capacity_scale_level= 2, cost_scale_level= 1)\n",
    "\n",
    "scenario2 = Scenario(name= 'shell2', network= HO2, scales= scales,  expenditure_scale_level= 2, scheduling_scale_level= 2, \\\n",
    "     network_scale_level= 0, demand_scale_level= 2, label= 'shell milp case study (HO)')\n",
    "\n",
    "milp2 = formulate(scenario= scenario2, demand = 10, \\\n",
    "    constraints={Constraints.cost, Constraints.inventory, Constraints.production, Constraints.land, Constraints.resource_balance, Constraints.emission}, \\\n",
    "        objective= Objective.cost)\n",
    "\n",
    "# results2 = solve(scenario = scenario2, instance= milp2, solver= 'gurobi', \\\n",
    "#         name=f\"Material_case_study2\")\n",
    "\n"
   ]
  },
  {
   "cell_type": "code",
   "execution_count": null,
   "metadata": {},
   "outputs": [],
   "source": [
    "\n",
    "process_set3 = {WF1, WF2, WF3, PV1, PV2, PV3, Na_S_c, Na_S_d, Ni_Cd_c, Ni_Cd_d}\n",
    "\n",
    "HO3 = Location(name='HO3', processes= process_set3, demand_factor= {Power: ercot}, \\\n",
    "     capacity_factor = {PV3: pandas.DataFrame(weather['dni']), WF3: pandas.DataFrame(weather['wind_speed'])}, scales=scales, \\\n",
    "        label='Houston', demand_scale_level=2, capacity_scale_level= 2, cost_scale_level= 1)\n",
    "\n",
    "scenario3 = Scenario(name= 'shell3', network= HO3, scales= scales,  expenditure_scale_level= 2, scheduling_scale_level= 2, \\\n",
    "    network_scale_level= 0, demand_scale_level= 2, label= 'shell milp case study (HO)')\n",
    "\n",
    "milp3 = formulate(scenario= scenario3, demand = 10, \\\n",
    "    constraints={Constraints.cost, Constraints.inventory, Constraints.production, Constraints.land, Constraints.resource_balance, Constraints.emission}, \\\n",
    "       objective= Objective.cost)\n",
    "\n",
    "# results3 = solve(scenario = scenario3, instance= milp3, solver= 'gurobi', \\\n",
    "#         name=f\"Material_case_study\")"
   ]
  },
  {
   "cell_type": "code",
   "execution_count": null,
   "metadata": {},
   "outputs": [],
   "source": [
    "\n",
    "\n"
   ]
  },
  {
   "cell_type": "code",
   "execution_count": null,
   "metadata": {},
   "outputs": [],
   "source": [
    "scenario_dict = {\n",
    "    0: {'scenario': scenario0, 'milp': milp0 },\n",
    "    1: {'scenario': scenario1, 'milp': milp1 },\n",
    "    2: {'scenario': scenario2, 'milp': milp2 },\n",
    "    3: {'scenario': scenario3, 'milp': milp3 }}\n"
   ]
  },
  {
   "cell_type": "code",
   "execution_count": null,
   "metadata": {},
   "outputs": [],
   "source": [
    "results_dict = {i: solve(scenario = scenario_dict[i]['scenario'], instance= scenario_dict[i]['milp'], solver= 'gurobi', \\\n",
    "        name=f\"Material_case_study{i}\") for i in range(4)}\n"
   ]
  },
  {
   "cell_type": "code",
   "execution_count": null,
   "metadata": {},
   "outputs": [],
   "source": [
    "plot.schedule(location= 'HO', component = 'Charge', y_axis='Inv', results= results_dict[0])\n",
    "plot.schedule(location= 'HO1', component = 'Charge', y_axis='Inv', results= results_dict[1])\n",
    "plot.schedule(location= 'HO2', component = 'Charge', y_axis='Inv', results= results_dict[2])\n",
    "plot.schedule(location= 'HO3', component = 'Charge', y_axis='Inv', results= results_dict[3])\n",
    "#plot.schedule(location= 'HO3', component = 'PV3', y_axis='P', results= results_dict[3])\n",
    "#plot.contribution(location= 'HO', y_axis = 'S_location', results= results_dict[0])\n",
    "#plot.contribution(location= 'HO1', y_axis = 'S_location', results= results_dict[1])\n",
    "#plot.contribution(location= 'HO2', y_axis = 'S_location', results= results_dict[2])\n",
    "#plot.contribution(location= 'HO3', y_axis = 'S_location', results= results_dict[3])\n",
    "plot.contribution(location= 'HO', y_axis = 'Cap_P', results= results_dict[0])\n",
    "plot.contribution(location= 'HO1', y_axis = 'Cap_P', results= results_dict[1])\n",
    "plot.contribution(location= 'HO2', y_axis = 'Cap_P', results= results_dict[2])\n",
    "plot.contribution(location= 'HO3', y_axis = 'Cap_P', results= results_dict[3])\n",
    "plot.capacity_utilization(location= 'HO', process = 'WF1', results= results_dict[0])\n",
    "plot.capacity_utilization(location= 'HO1', process = 'PV3', results= results_dict[1])\n",
    "plot.capacity_utilization(location= 'HO2', process = 'WF1', results= results_dict[2])\n",
    "plot.capacity_utilization(location= 'HO3', process = 'PV3', results= results_dict[3])\n",
    "plot.capacity_factor(process=WF1, location= HO) #same for 3 WF\n",
    "plot.capacity_factor(process=PV1, location= HO, color='orange')\n",
    "#plot.schedule(location= 'HO1', component = 'HV', y_axis='Inv', results= results1)\n",
    "#plot.schedule(location= 'HO', component = 'H2_L', y_axis='Inv', results= results0) #same\n",
    "#plot.schedule(location= 'HO1', component = 'H2_L', y_axis='Inv', results= results1)\n",
    "#plot.schedule(location= 'HO2', component = 'H2_L', y_axis='Inv', results= results2)\n",
    "#plot.schedule(location= 'HO3', component = 'H2_L', y_axis='Inv', results= results3)\n",
    "#plot.demand_factor(location=HO1, resource= Mile) #same for 3 loc\n"
   ]
  },
  {
   "cell_type": "code",
   "execution_count": null,
   "metadata": {},
   "outputs": [],
   "source": [
    "help(Constraints)"
   ]
  },
  {
   "cell_type": "code",
   "execution_count": null,
   "metadata": {},
   "outputs": [],
   "source": [
    "from energiapy.model.constraints.emission import global_warming_potential_network_reduction_constraint"
   ]
  },
  {
   "cell_type": "code",
   "execution_count": null,
   "metadata": {},
   "outputs": [],
   "source": [
    "results_dict[0].output['global_warming_potential_network'], results_dict[1].output['global_warming_potential_network'], results_dict[2].output['global_warming_potential_network'], results_dict[3].output['global_warming_potential_network']"
   ]
  },
  {
   "cell_type": "code",
   "execution_count": null,
   "metadata": {},
   "outputs": [],
   "source": [
    "reduction_list = [(i+1)*15 for i in range(5)]"
   ]
  },
  {
   "cell_type": "code",
   "execution_count": null,
   "metadata": {},
   "outputs": [],
   "source": [
    "def generate_milp(scenario):\n",
    "    return formulate(scenario= scenario0, demand = 10, \\\n",
    "        constraints={Constraints.cost, Constraints.inventory, Constraints.production, Constraints.land, Constraints.resource_balance, Constraints.emission}, \\\n",
    "            objective= Objective.cost)\n"
   ]
  },
  {
   "cell_type": "code",
   "execution_count": null,
   "metadata": {},
   "outputs": [],
   "source": [
    "\n",
    "def gwp_reduced_milp(scenario, gwp_reduction_pct, gwp, milp):\n",
    "    return global_warming_potential_network_reduction_constraint(instance = generate_milp(scenario= scenario),\\\n",
    "     network_scale_level =0, gwp_reduction_pct = gwp_reduction_pct, gwp = gwp)\n",
    "    \n"
   ]
  },
  {
   "cell_type": "code",
   "execution_count": null,
   "metadata": {},
   "outputs": [],
   "source": []
  },
  {
   "cell_type": "code",
   "execution_count": null,
   "metadata": {},
   "outputs": [],
   "source": [
    "instance_dict = {i: gwp_reduced_milp(scenario0, reduction_list[i], 420022, generate_milp(scenario= scenario0))  for i in range(5)}"
   ]
  },
  {
   "cell_type": "code",
   "execution_count": null,
   "metadata": {},
   "outputs": [],
   "source": [
    "results_dict2 = {i:solve(scenario = scenario0, instance= instance_dict[i], solver= 'gurobi', \\\n",
    "        name=f\"Material_case_study_red{i}\") for i in range(5)}\n"
   ]
  },
  {
   "cell_type": "code",
   "execution_count": null,
   "metadata": {},
   "outputs": [],
   "source": [
    "def gwp_reduce_solve(gwp_reduction_pct, gwp):\n",
    "    milp = formulate(scenario= scenario0, gwp_reduction_pct= gwp_reduction_pct, gwp= gwp, constraints = {Constraints.cost, Constraints.inventory, Constraints.production, Constraints.land, Constraints.resource_balance, Constraints.emission}, objective = Objective.cost )\n",
    "    results = solve(scenario = scenario0, instance= milp, solver= 'gurobi', \\\n",
    "        name=f\"Material_case_study\")\n",
    "    return results\n",
    "\n",
    "results_dict = {i: gwp_reduce_solve(gwp_reduction_pct=2*i, gwp = 420022) for i in range(5)}"
   ]
  },
  {
   "cell_type": "code",
   "execution_count": null,
   "metadata": {},
   "outputs": [],
   "source": [
    "results_dict"
   ]
  },
  {
   "cell_type": "code",
   "execution_count": null,
   "metadata": {},
   "outputs": [],
   "source": [
    "\n",
    "# results_dict = {i: gwp_reduce_solve(gwp_reduction_pct=0, gwp = 718419.21, scenario = scenario_dict[i]['scenario'], milp = scenario_dict[i]['milp']) for i in range(3)}\n",
    "# "
   ]
  },
  {
   "cell_type": "code",
   "execution_count": null,
   "metadata": {},
   "outputs": [],
   "source": [
    "plot.contribution(location= 'HO1', y_axis = 'S_location', results= results_dict[0])"
   ]
  },
  {
   "cell_type": "code",
   "execution_count": null,
   "metadata": {},
   "outputs": [],
   "source": [
    "# plot.capacity_factor(location= HO, process= PV, color= 'orange')\n",
    "# plot.capacity_factor(location= HO, process= WF1, color= 'blue')\n",
    "# plot.cost_factor (location= HO, resource= CH4, color= 'red')\n",
    "# plot.demand_factor (location= HO, resource= Mile)"
   ]
  },
  {
   "cell_type": "code",
   "execution_count": null,
   "metadata": {},
   "outputs": [],
   "source": [
    "\n",
    "\n",
    "#scenario = Scenario(name= 'shell', network= HO, scales= scales,  expenditure_scale_level= 2, scheduling_scale_level= 2, \\\n",
    "    #network_scale_level= 0, demand_scale_level= 2, label= 'shell milp case study (HO)')"
   ]
  },
  {
   "cell_type": "markdown",
   "metadata": {},
   "source": [
    "$\\textbf{Plot varying data input}$"
   ]
  },
  {
   "cell_type": "code",
   "execution_count": null,
   "metadata": {},
   "outputs": [],
   "source": [
    "# plot.capacity_factor(location= HO_reduced, process= PV, color= 'orange')\n",
    "# plot.capacity_factor(location= HO_reduced, process= WF, color= 'blue')\n",
    "# plot.cost_factor (location= HO_reduced, resource= CH4, color= 'red')\n",
    "# plot.demand_factor (location= HO_reduced, resource= Mile)"
   ]
  },
  {
   "cell_type": "markdown",
   "metadata": {},
   "source": [
    "$\\textbf{Formulate model}$\n",
    "\n",
    "A pyomo instance is formulated from the scenario\n",
    "\n",
    "Concises sets and corresponding variables are declared.\n",
    "\n",
    "Corresponding constraints are generated based on the nature of model chosen\n",
    "\n",
    "In the presented example, a MILP is formulated\n",
    "\n"
   ]
  },
  {
   "cell_type": "code",
   "execution_count": null,
   "metadata": {},
   "outputs": [],
   "source": [
    "results_dict[0].output['Capex_location'], results_dict[1].output['Capex_location'], results_dict[2].output['Capex_location']"
   ]
  },
  {
   "cell_type": "code",
   "execution_count": null,
   "metadata": {},
   "outputs": [],
   "source": [
    "results_dict[0].output['Vopex_location'], results_dict[1].output['Vopex_location'], results_dict[2].output['Vopex_location']\n"
   ]
  },
  {
   "cell_type": "code",
   "execution_count": null,
   "metadata": {},
   "outputs": [],
   "source": [
    "results_dict[0].output['Fopex_location'], results_dict[1].output['Fopex_location'], results_dict[2].output['Fopex_location']\n"
   ]
  },
  {
   "cell_type": "code",
   "execution_count": null,
   "metadata": {},
   "outputs": [],
   "source": [
    "results_dict[0].output['Cap_P'], results_dict[1].output['Cap_P'], results_dict[2].output['Cap_P']\n"
   ]
  },
  {
   "cell_type": "code",
   "execution_count": null,
   "metadata": {},
   "outputs": [],
   "source": [
    "results_dict[0].output['X_P'], results_dict[1].output['X_P'], results_dict[2].output['X_P'], results_dict[3].output['X_P']"
   ]
  },
  {
   "cell_type": "code",
   "execution_count": null,
   "metadata": {},
   "outputs": [],
   "source": [
    "results_dict[0].output['global_warming_potential_resource'], results_dict[1].output['global_warming_potential_resource'], results_dict[2].output['global_warming_potential_resource']\n"
   ]
  },
  {
   "cell_type": "code",
   "execution_count": null,
   "metadata": {},
   "outputs": [],
   "source": [
    "results_dict[0].output['global_warming_potential_network'], results_dict[1].output['global_warming_potential_network'], results_dict[2].output['global_warming_potential_network'], results_dict[3].output['global_warming_potential_network']\n",
    "\n"
   ]
  },
  {
   "cell_type": "markdown",
   "metadata": {},
   "source": [
    "## Results"
   ]
  },
  {
   "cell_type": "code",
   "execution_count": null,
   "metadata": {},
   "outputs": [],
   "source": [
    "import numpy as np\n",
    "bars2 = [420022, 164165, 420022, 188000]\n",
    "barWidth = 0.3\n",
    " \n",
    "# Choose the height of the blue bars\n",
    "\n",
    " \n",
    "# Choose the height of the cyan bars\n",
    "\n",
    " \n",
    " \n",
    "# The x position of bars\n",
    "r1 = np.arange(len(bars2))\n",
    "r2 = [x + barWidth for x in r1]\n",
    " \n",
    "# Create blue bars\n",
    "\n",
    "fig, ax = plt.subplots(figsize = (9,6))\n",
    "# Create cyan bars\n",
    "ax.bar(r2, bars2, width = barWidth, color = 'green', edgecolor = 'black', capsize=7, label='GWP')\n",
    "\n",
    "# general layout\n",
    "ax.set_xticks([r + barWidth for r in range(len(bars2))], ['WFs and PVs', 'PVs', 'WFs', 'PVs excluding Li-ion battery'], fontsize = 14)\n",
    "plt.yticks(fontsize = 14)\n",
    "ax.set_ylabel('GWP/kg CO2eq/MW', fontsize = 16)\n",
    "ax.set_xlabel('Technology pathways', fontsize =16)\n",
    "plt.legend()\n",
    "plt.grid(alpha = 0.4)\n",
    "plt.title('GWP comparison of different technology pathways', fontsize= 18)\n",
    "# Show graphic\n",
    "plt.show()"
   ]
  },
  {
   "cell_type": "code",
   "execution_count": null,
   "metadata": {},
   "outputs": [],
   "source": [
    "import numpy as np\n",
    "bars2 = [1.577e+07, 1.298e+08, 1.577e+07, 1.303e+08]\n",
    "barWidth = 0.3\n",
    " \n",
    "# Choose the height of the blue bars\n",
    "\n",
    " \n",
    "# Choose the height of the cyan bars\n",
    "\n",
    " \n",
    " \n",
    "# The x position of bars\n",
    "r1 = np.arange(len(bars2))\n",
    "r2 = [x + barWidth for x in r1]\n",
    " \n",
    "# Create blue bars\n",
    "\n",
    "fig, ax = plt.subplots(figsize = (9,6))\n",
    "# Create cyan bars\n",
    "ax.bar(r2, bars2, width = barWidth, color = 'cyan', edgecolor = 'black', capsize=7, label='cost')\n",
    "\n",
    "# general layout\n",
    "ax.set_xticks([r + barWidth for r in range(len(bars2))], ['WFs and PVs', 'PVs', 'WFs', 'PVs excluding Li-ion battery'], fontsize = 14)\n",
    "plt.yticks(fontsize = 14)\n",
    "ax.set_ylabel('Cost/$', fontsize = 16)\n",
    "ax.set_xlabel('Technology pathways', fontsize =16)\n",
    "plt.legend()\n",
    "plt.grid(alpha = 0.4)\n",
    "plt.title('Cost comparison of different technology pathways', fontsize= 18)\n",
    "# Show graphic\n",
    "plt.show()"
   ]
  },
  {
   "cell_type": "code",
   "execution_count": null,
   "metadata": {},
   "outputs": [],
   "source": [
    "for i in range(4):\n",
    "    print(f\"============{i}=============\")\n",
    "    \n",
    "    print(results_dict[i].output['global_warming_potential_process'])\n",
    "    print(results_dict[i].output['global_warming_potential_material'])\n",
    "    print(results_dict[i].output['global_warming_potential_resource'])\n",
    "\n"
   ]
  },
  {
   "cell_type": "code",
   "execution_count": null,
   "metadata": {},
   "outputs": [],
   "source": [
    "156., 92\n",
    "\n",
    "# libraries\n",
    "import numpy as np\n",
    "import matplotlib.pyplot as plt\n",
    " \n",
    "# width of the bars\n",
    "barWidth = 0.3\n",
    " \n",
    "# Choose the height of the blue bars\n",
    "bars1 = [420022, 507153, 164000]\n",
    " \n",
    "# Choose the height of the cyan bars\n",
    "\n",
    " \n",
    " \n",
    "# The x position of bars\n",
    "r1 = np.arange(len(bars1))\n",
    "r2 = [x + barWidth for x in r1]\n",
    " \n",
    "# Create blue bars\n",
    "plt.bar(r1, bars1, width = barWidth, color = 'blue', edgecolor = 'black', capsize=7, label='GWP')\n",
    " \n",
    "# Create cyan bars\n",
    "\n",
    " \n",
    "# general layout\n",
    "plt.xticks([r + barWidth for r in range(len(bars1))], ['WF A and PV A', 'WF B and PV B', 'WF C and PV C'])\n",
    "plt.ylabel('GWP')\n",
    "plt.legend()\n",
    " \n",
    "# Show graphic\n",
    "plt.show()\n",
    "\n",
    "\n",
    "\n",
    "\n",
    "\n",
    "# process_set = {LiI_c, LiI_d, CAES_c, CAES_d, PSH_c, PSH_d, WF, PV, AKE, SMRH, SMR, ASMR, H2_C_d, \\\n",
    "#     H2_C_d, H2_L_c, H2_L_d, DAC, EOR, AQoff_SMR, EV, HV, MV, Na_S_c, Lead_a_c, Lead_b_c, Vrb_c,  \\\n",
    "#         Ni_Cd_c, Na_S_d, Lead_a_d, Lead_b_d, Vrb_d, Ni_Cd_d, CO2_based_methanol, Biogas_plant, Biomass}\n",
    "#  HV, MV,\n",
    "\n",
    "\n",
    "# process_set1 = {LiI_c, LiI_d, DAC, WF1, PV, AKE, H2_L_c, H2_L_d, EV, Na_S_c, Lead_a_c, Lead_b_c, Vrb_c,  \\\n",
    "#         Ni_Cd_c, Na_S_d, Lead_a_d, Lead_b_d, Vrb_d, Ni_Cd_d, CO2_based_methanol, Biogas_plant, Biomass} \n",
    "\n",
    "\n",
    "# process_set1 = {LiI_c, LiI_d, DAC, WF1, PV, AKE, H2_L_c, H2_L_d, HV, Na_S_c, Lead_a_c, Lead_b_c, Vrb_c,  \\\n",
    "#         Ni_Cd_c, Na_S_d, Lead_a_d, Lead_b_d, Vrb_d, Ni_Cd_d, CO2_based_methanol, Biogas_plant, Biomass} \n",
    "\n",
    "# CO2_based_methanol = Process(name='methanol', conversion = {CO2: -1, CH3OH: 1}, trl='pilot', gwp=-1.7, label='CO2 CH3OH', citation= 'muller (2020)')\n",
    "# Biogas_plant = Process(name='Biogas', trl='pilot', conversion = {Biogas:-1, Power: 1}, gwp=-0.42, lifetime=20, label='Biogas', citation= 'Economic and Global Warming Potential Assessment of Flexible Power Generation with Biogas Plants, Life Cycle Environmental Impacts of Electricity from Biogas Produced by Anaerobic Digestion')\n",
    "# Biomass = Process(name='Biomass', trl='pilot', conversion = {Biomass: -1, Power: 1}, gwp=0.13, label='Biomass', citation= 'Analysis of the Global Warming Potential of Biogenic CO2 Emission in Life Cycle Assessments') #gwp=0.049 nrel\n",
    "\n",
    "# CO2_based_methanol = Process(name='methanol', conversion = {CO2: -1, CH3OH: 1}, trl='pilot', gwp=(-1.7,9.7), label='CO2 CH3OH', citation= 'muller (2020)')\n",
    "# Biogas_plant = Process(name='Biogas', trl='pilot', conversion = {Biogas:-1, Power: 1}, gwp=(-0.42, 0.06), lifetime=20, label='Biogas', citation= 'Economic and Global Warming Potential Assessment of Flexible Power Generation with Biogas Plants, Life Cycle Environmental Impacts of Electricity from Biogas Produced by Anaerobic Digestion')\n",
    "# Biomass = Process(name='Biomass', trl='pilot', conversion = {Biomass: -1, Power: 1}, gwp=(0.13,0.32), label='Biomass', citation= 'Analysis of the Global Warming Potential of Biogenic CO2 Emission in Life Cycle Assessments') #gwp=0.049 nrel\n"
   ]
  },
  {
   "cell_type": "code",
   "execution_count": null,
   "metadata": {},
   "outputs": [],
   "source": []
  }
 ],
 "metadata": {
  "kernelspec": {
   "display_name": "ki",
   "language": "python",
   "name": "python3"
  },
  "language_info": {
   "codemirror_mode": {
    "name": "ipython",
    "version": 3
   },
   "file_extension": ".py",
   "mimetype": "text/x-python",
   "name": "python",
   "nbconvert_exporter": "python",
   "pygments_lexer": "ipython3",
   "version": "3.10.5"
  },
  "orig_nbformat": 4
 },
 "nbformat": 4,
 "nbformat_minor": 2
}
