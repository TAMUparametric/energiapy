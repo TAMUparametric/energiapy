{
 "cells": [
  {
   "attachments": {},
   "cell_type": "markdown",
   "metadata": {},
   "source": [
    "# Multiscale Energy Systems MILP with Material and Emission Consideration"
   ]
  },
  {
   "attachments": {},
   "cell_type": "markdown",
   "metadata": {},
   "source": [
    "__author__ = \"Rahul Kakodkar, Yilun Lin\"\n",
    "__copyright__ = \"Copyright 2023, Multi-parametric Optimization & Control Lab\"\n",
    "__credits__ = [\"Rahul Kakodkar\", \"Yilun Lin\", Efstratios N. Pistikopoulos\"]\n",
    "__license__ = \"MIT\"\n",
    "__version__ = \"1.1.0\"\n",
    "__maintainer__ = \"Rahul Kakodkar\"\n",
    "__email__ = \"cacodcar@tamu.edu\"\n",
    "__status__ = \"Production\"\n"
   ]
  },
  {
   "attachments": {},
   "cell_type": "markdown",
   "metadata": {},
   "source": [
    "## Problem Statement"
   ]
  },
  {
   "attachments": {},
   "cell_type": "markdown",
   "metadata": {},
   "source": [
    "The following case study considers three different type of solar photovoltaics, namely Monocrystalline (PV_Mo), Polycrystalline (PV_Po), and Cadmium Telluride (PV_Cd) and  Lithium-ion batteries made of either rock-based lithium (LiI_Ro) or brine-based lithium (LiI_Br).\n",
    "\n",
    "The goal is to meet a varying demand for power through renewable power generation using the PVs and Lithium-ion batteries for energy storage.\n",
    "\n",
    "Notably, the different PVs also have different conversion efficiences, as also operational expenditure. Emissions need to be tracked from all components, i.e. resource consumption, materials for establishing processs, emissions from setting up the process. \n",
    "\n",
    "Total emissions will atleast include the sum of the emissions from different components (at the network level) and as direct emissions from process (at the scheduling level)\n",
    "\n",
    "Users are advised caution in terms of assigning the emissions at the appropriate levels and avoiding double account. For example, if providing the global warming potentials (GWP) for each individual material to make up a process, the GWP for processes should only consider the values for construction. Moreover, the direct emissions are considered through the resource balance constraint."
   ]
  },
  {
   "cell_type": "markdown",
   "metadata": {},
   "source": [
    "## Nomenclature"
   ]
  },
  {
   "attachments": {},
   "cell_type": "markdown",
   "metadata": {},
   "source": [
    "\n",
    "\n",
    "*Sets*\n",
    "\n",
    "\n",
    "$\\mathcal{R}$ - set of all resources r\n",
    "\n",
    "$\\mathcal{P}$ - set of all processes p\n",
    "\n",
    "$\\mathcal{T}$ - set of temporal periods t\n",
    "\n",
    "$\\mathcal{B}$ - set of transport modes b\n",
    "\n",
    "$\\mathcal{L}$ - set of locations l\n",
    "\n",
    "$\\mathcal{M}$ - set of materials m\n",
    "\n",
    "*Subsets*\n",
    "\n",
    "\n",
    "$\\mathcal{R}^{storage}$ - set of resources that can be stored\n",
    "\n",
    "$\\mathcal{R}^{sell}$ - set of resources that can be discharged\n",
    "\n",
    "$\\mathcal{R}^{demand}$ - set of resources that meet  demand\n",
    "\n",
    "$\\mathcal{R}^{cons}$ - set of resources that can be consumed\n",
    "\n",
    "$\\mathcal{R}^{trans}$ - set of resources that can be transported\n",
    "\n",
    "$\\mathcal{P}^{uncertain}$ - set of processes with uncertain capacity\n",
    "\n",
    "$\\mathcal{T}^{net}$ - set of temporal periods t for network level decision making\n",
    "\n",
    "$\\mathcal{T}^{sch}$ - set of temporal periods t for schedule level decision making\n",
    "\n",
    "*Continuous Variables*\n",
    "\n",
    "\n",
    "$P_{l,p,t}$ - production level of p $\\in$  $\\mathcal{P}$ in time period t $\\in$ $\\mathcal{T}^{sch}$  \n",
    "\n",
    "$C_{l,r,t}$ - consumption of r $\\in$ in $\\mathcal{R}^{cons}$ time period t $\\in$ $\\mathcal{T}^{sch}$ \n",
    "\n",
    "$S_{l,r,t}$ - discharge of r $\\in$ in $\\mathcal{R}^{demand}$ time period t $\\in$ $\\mathcal{T}^{sch}$ \n",
    "\n",
    "$Inv_{l,r,t}$ - inventory level of r $\\in$ $\\mathcal{R}^{storage}$  in time period t $\\in$ $\\mathcal{T}^{sch}$\n",
    "\n",
    "$Cap^S_{l,r,t}$ - installed inventory capacity for resource r $\\in$  $\\mathcal{R}^{storage}$ in time period t $\\in$ $\\mathcal{T}^{net}$\n",
    "\n",
    "$Cap^P_{l,p,t}$ - installed production capacity for process p $\\in$ $\\mathcal{P}$ in time period t $\\in$ $\\mathcal{T}^{net}$\n",
    "\n",
    "$Mat^P_{l,p,m,t}$ - material m $\\in$ $\\mathcal{M}$ used by process p $\\in$ $\\mathcal{P}$ in time period t $\\in$ $\\mathcal{T}^{net}$\n",
    "\n",
    "$Em^{p/r/m}_{l,p/r/m,t}$ - emission from process/resource/material in time t $\\in$ $\\mathcal{T}^{net}$\n",
    "\n",
    "\n",
    "*Binary Variables*\n",
    "\n",
    "$X^P_{l,p,t}$ - network binary for production process p $\\in$ $\\mathcal{P}$\n",
    "\n",
    "$X^S_{l,r,t}$ - network binary for inventory of resource r $\\in$  $\\mathcal{R}^{storage}$ \n",
    "\n",
    "*Parameters*\n",
    "\n",
    "$Cap^{P-max}_{l,p,t}$ - maximum production capacity of process p $\\in$ $\\mathcal{P}$ in time t $\\in$ $\\mathcal{T}^{net}$\n",
    "\n",
    "$Cap^{S-max}_{l,r,t}$ - maximum inventory capacity for process r $\\in$ $\\mathcal{R}^{storage}$ in time t $\\in$ $\\mathcal{T}^{net}$\n",
    "\n",
    "$Capex_{l,p,t}$ - capital expenditure for process p $\\in$ $\\mathcal{P}$ in time t $\\in$ $\\mathcal{T}^{net}$\n",
    "\n",
    "$Vopex_{l,p,t}$ - variable operational expenditure for process p $\\in$ $\\mathcal{P}$ in time t $\\in$ $\\mathcal{T}^{sch}$\n",
    "\n",
    "$Price_{l,r,t}$ - purchase price for resource r $\\in$ $\\mathcal{R}^{cons}$ in time t $\\in$ $\\mathcal{T}^{sch}$\n",
    "\n",
    "$C^{max}_{l,r,t}$ - maximum consumption availability for resource r $\\in$ $\\mathcal{R}^{cons}$ in time t $\\in$ $\\mathcal{T}^{sch}$\n",
    "\n",
    "$D_{l,r,t}$ - demand for resource r $in$ $\\mathcal{R}^{sell}$ in time t $\\in$ $\\mathcal{T}^{sch}$\n",
    "\n",
    "$\\alpha$ - annualization factor\n",
    "\n",
    "$Mat^{cons}_{p,m}$ - material m $\\in$ $\\mathcal{M}$ consumed by process p $\\in$ $\\mathcal{P}$\n",
    "\n",
    "$GWP^{p/r/m}_{l,p/r/m,t}$ - global warming indicators for process/resource/material in time t $\\in$ $\\mathcal{T}^{net}$\n"
   ]
  },
  {
   "cell_type": "markdown",
   "metadata": {},
   "source": [
    "## MILP Formulation"
   ]
  },
  {
   "attachments": {},
   "cell_type": "markdown",
   "metadata": {},
   "source": [
    "Given is a mulit-scale modeling and optimization MILP framework for the simultaneous design and schedule planning of a single location energy system \n",
    "\n",
    "\\begin{equation}\n",
    "    min \\sum_{l \\in \\mathcal{L}} \\Big(\\sum_{t \\in \\mathcal{T}^{net}} \\sum_{p \\in \\mathcal{P}} (\\alpha \\times Capex_{l,p,t} + Fopex_{l,p,t}) \\times Cap^P_{l,p,t} +  \\sum_{t \\in \\mathcal{T}^{sch}} \\sum_{r \\in \\mathcal{R}}  Vopex_{l,r,t} \\times P_{l,r,t} \n",
    "\\end{equation}\n",
    "\n",
    "\\begin{equation*}\n",
    "    + \\sum_{t \\in \\mathcal{T}^{sch}} \\sum_{r \\in \\mathcal{R}^{cons}} C_{l,r,t} \\times Price_{l,r,t} \\Big)\n",
    "\\end{equation*}\n",
    "\n",
    "\\begin{equation}\n",
    "    Cap^S_{l,r,t} \\leq Cap^{S-max}_{l,r,t} \\times X^S_{l,r,t} \\hspace{1cm} \\forall r \\in \\mathcal{R}^{storage}, t \\in \\mathcal{T}^{net}\n",
    "\\end{equation}\n",
    "\n",
    "\\begin{equation}\n",
    "    Cap^P_{l,p,t} \\leq Cap^{P-max}_{l,p,t} \\times X^P_{l,p,t}  \\hspace{1cm} \\forall p \\in \\mathcal{P}, t \\in \\mathcal{T}^{net}, l \\in \\mathcal{L}\n",
    "\\end{equation} \n",
    "\n",
    "\\begin{equation}\n",
    "    P_{l,p,t} \\leq Cap^{P}_{l,p,t}  \\hspace{1cm} \\forall p \\in \\mathcal{P}, t \\in \\mathcal{T}^{sch}\n",
    "\\end{equation} \n",
    "\n",
    "\\begin{equation}\n",
    "    Inv_{l,r,t} \\leq Cap^{S}_{l,r,t}  \\hspace{1cm} \\forall r \\in \\mathcal{R}^{storage}, t \\in \\mathcal{T}^{sch}\n",
    "\\end{equation} \n",
    "\n",
    "\n",
    "\\begin{equation}\n",
    "    - S_{l,r,t} \\leq - D_{l,r,t}  \\hspace{1cm} \\forall r \\in \\mathcal{R}, t \\in \\mathcal{T}^{sch}\n",
    "\\end{equation}\n",
    "\n",
    "\\begin{equation}\n",
    "    C_{l,r,t} \\leq C^{max}_{l,r,t} \\hspace{1cm} \\forall r \\in \\mathcal{R}, t \\in \\mathcal{T}^{sch}\n",
    "\\end{equation}\n",
    "\n",
    "\\begin{equation}\n",
    "    \\sum_{p \\in \\mathcal{P}} P_{l,p,t} \\times \\eta(p,r) + C_{l,r,t} +  Inv_{l,r,t-1}=  Inv_{l,r,t} + S_{l,r,t}  \n",
    "\\end{equation}\n",
    "\n",
    "\\begin{equation*}\n",
    "    \\forall r \\in \\mathcal{R}^{cons}, t \\in \\mathcal{T}^{sch}, l \\in \\mathcal{L}\n",
    "\\end{equation*}\n",
    "\n",
    "\\begin{equation}\n",
    "    Mat_{l,p,m,t} = Mat^{cons}_{p,m} \\times Cap^P_{l,p,t} \\hspace{1cm} \\forall m \\in \\mathcal{M}, p \\in \\mathcal{P}, t \\in \\mathcal{T}^{net}\n",
    "\\end{equation}\n",
    "\n",
    "\\begin{equation}\n",
    "    Em^{r}_{l,r,t} = GWP^{r}_{l,r,t} \\times C_{l,r,t} \\hspace{1cm} \\forall r \\in \\mathcal{R}, t \\in \\mathcal{T}^{sch}\n",
    "\\end{equation}\n",
    "\n",
    "\\begin{equation}\n",
    "    Em^{m}_{l,m,t} = GWP^{m}_{l,m,t} \\times \\sum_{p \\in \\mathcal{P}} Mat_{l,p,m,t} \\hspace{1cm} \\forall p \\in \\mathcal{P}, t \\in \\mathcal{T}^{net}\n",
    "\\end{equation}\n",
    "\n",
    "\\begin{equation}\n",
    "    Em^{p}_{l,p,t} = GWP^{p}_{l,p,t} \\times Cap_{l,p,t} \\hspace{1cm} \\forall p \\in \\mathcal{P}, t \\in \\mathcal{T}^{net}\n",
    "\\end{equation}\n",
    "\n",
    "\\begin{equation}\n",
    "    S_{l,r,t}, C_{l,r,t}, Inv_{l,r,t}, P_{l,p,t}, Cap^P_{l,p,t}, Cap^S_{l,r,t}, Mat_{l,p,m,t}, Em^{p/r/m}_{l,p/r/m,t} \\in R_{\\geq 0}\n",
    "\\end{equation}\n",
    "\n"
   ]
  },
  {
   "attachments": {},
   "cell_type": "markdown",
   "metadata": {},
   "source": [
    "## Import Modules"
   ]
  },
  {
   "cell_type": "code",
   "execution_count": 1,
   "metadata": {},
   "outputs": [],
   "source": [
    "import sys\n",
    "sys.path.append('../../src')\n"
   ]
  },
  {
   "cell_type": "code",
   "execution_count": 2,
   "metadata": {},
   "outputs": [],
   "source": [
    "\n",
    "import pandas\n",
    "import numpy\n",
    "from energiapy.components.temporal_scale import TemporalScale\n",
    "from energiapy.components.resource import Resource, VaryingResource\n",
    "from energiapy.components.process import Process, VaryingProcess\n",
    "from energiapy.components.material import Material\n",
    "from energiapy.components.location import Location\n",
    "from energiapy.components.network import Network\n",
    "from energiapy.components.scenario import Scenario\n",
    "from energiapy.components.transport import Transport\n",
    "from energiapy.model.formulate import formulate, Constraints, Objective\n",
    "from energiapy.utils.nsrdb_utils import fetch_nsrdb_data\n",
    "from energiapy.plot import plot_results, plot_scenario\n",
    "from energiapy.plot.plot_results import CostY, CostX\n",
    "from energiapy.model.solve import solve\n",
    "from itertools import product\n"
   ]
  },
  {
   "cell_type": "markdown",
   "metadata": {},
   "source": [
    "## Data Import"
   ]
  },
  {
   "attachments": {},
   "cell_type": "markdown",
   "metadata": {},
   "source": [
    "The following data is needed for the model\n",
    "\n",
    "- solar and wind profiles : energiapy.fetch_nsrdb_data imports data from the NREL NSRDB database\n",
    "- power demand : ERCOT for Houston\n"
   ]
  },
  {
   "cell_type": "markdown",
   "metadata": {},
   "source": [
    "**Get Weather data**"
   ]
  },
  {
   "cell_type": "code",
   "execution_count": 3,
   "metadata": {},
   "outputs": [],
   "source": [
    "# def load_data(loc: str, index: list):\n",
    "#     df = pandas.read_csv(f'../data/{loc}_solar19.csv')\n",
    "#     df['idx'] = index\n",
    "#     df = df.set_index('idx')\n",
    "#     return df\n",
    "# idx = [(i, j, k) for i, j, k in product(range(1), range(365), range(24))]\n"
   ]
  },
  {
   "cell_type": "code",
   "execution_count": 4,
   "metadata": {},
   "outputs": [],
   "source": [
    "# weather_ho = load_data('ho', idx)[['dni']]"
   ]
  },
  {
   "attachments": {},
   "cell_type": "markdown",
   "metadata": {},
   "source": [
    "**No solar for first 13 hours with non-zero demand fix**"
   ]
  },
  {
   "cell_type": "code",
   "execution_count": 5,
   "metadata": {},
   "outputs": [],
   "source": [
    "# for i in range(13):\n",
    "#     weather_ho['dni'][0, 0, i] = 0.5"
   ]
  },
  {
   "attachments": {},
   "cell_type": "markdown",
   "metadata": {},
   "source": [
    "**Demand data for Houston (ERCOT for COAST region)**"
   ]
  },
  {
   "cell_type": "code",
   "execution_count": 6,
   "metadata": {},
   "outputs": [],
   "source": [
    "# demand_ho = pandas.read_excel('../data/Native_Load_2019.xlsx')[['COAST']]\n",
    "# demand_ho = demand_ho.set_index(weather_ho.index)"
   ]
  },
  {
   "cell_type": "code",
   "execution_count": 7,
   "metadata": {},
   "outputs": [],
   "source": [
    "demand_factor = pandas.DataFrame(data={'Power': [0.6, 0.7, 0.8, 0.3]})\n",
    "revenue_factor = pandas.DataFrame(data={'Power': [0.8, 0.9, 0.94, 0.96]})\n",
    "capacity_factor_pv = pandas.DataFrame(data={'PV': [0.6, 0.2, 0.9, 0.7]})\n",
    "capacity_factor_wf = pandas.DataFrame(data={'WF': [0.9, 0.8, 0.5, 0.7]})"
   ]
  },
  {
   "cell_type": "markdown",
   "metadata": {},
   "source": [
    "## Define temporal scale\n"
   ]
  },
  {
   "cell_type": "markdown",
   "metadata": {},
   "source": [
    "The variabilities of energy systems are best captured over a discretized spatio-temporal scale. In energiapy, the first declaration is the temporal scale. \n",
    "\n",
    "For e.g.: Here we declare three temporal scales at different levels from right to left. The interpretation of these scales is merely symentic. Scales can be declared as the problem demands.\n",
    "- 0, annual, with 1 discretization\n",
    "- 1, daily with 365 discretization\n",
    "- 2, hourly with 24 discretization\n",
    "\n",
    "In essence, we are creating a temporal scale of 8760 points."
   ]
  },
  {
   "cell_type": "code",
   "execution_count": 8,
   "metadata": {},
   "outputs": [],
   "source": [
    "scales = TemporalScale(discretization_list=[1, 4])"
   ]
  },
  {
   "cell_type": "markdown",
   "metadata": {},
   "source": [
    "## Declare resources"
   ]
  },
  {
   "attachments": {},
   "cell_type": "markdown",
   "metadata": {},
   "source": [
    "Resources can be consumed, produced, stored, discharged (or sold).\n",
    "\n",
    "Power demand follows a varying deterministic demand"
   ]
  },
  {
   "cell_type": "code",
   "execution_count": 9,
   "metadata": {},
   "outputs": [],
   "source": [
    "bigM = 10**5\n",
    "smallM = 10"
   ]
  },
  {
   "cell_type": "code",
   "execution_count": 10,
   "metadata": {},
   "outputs": [],
   "source": [
    "Solar = Resource(name='Solar', cons_max=bigM, basis='MW', label='Solar Power', price= 0.01)\n",
    "\n",
    "Wind = Resource(name='Wind', cons_max=bigM, basis='MW', label='Wind Power')\n",
    "\n",
    "Power = Resource(name='Power', basis='MW', demand=True,\n",
    "                 label='Power generated', varying=[VaryingResource.DETERMINISTIC_DEMAND])\n",
    "\n",
    "LiIPower = Resource(name='LiIPower', basis='MW',\n",
    "                     store_max=bigM, label='Power stored')\n",
    "\n",
    "H2O = Resource(name='H2O', cons_max=10**10,\n",
    "               price=0.001, basis='kg', label='Water', block='Resource')\n"
   ]
  },
  {
   "attachments": {},
   "cell_type": "markdown",
   "metadata": {},
   "source": [
    "## Declare Materials"
   ]
  },
  {
   "attachments": {},
   "cell_type": "markdown",
   "metadata": {},
   "source": [
    "Materials are utilized for the establishment of processes. Materials inturn require resources to be set up. "
   ]
  },
  {
   "cell_type": "code",
   "execution_count": 11,
   "metadata": {},
   "outputs": [],
   "source": [
    "LiR = Material(name='LiR', gwp=1.484, resource_cons={H2O: 2273}, toxicity=793, basis='kg', label='Rock-based Lithium',\n",
    "               citation='Nelson Bunyui Manjong (2021), httoxicitys://www.tcc.fl.edu/media/divisions/academic-affairs/academic-enrichment/urc/poster-abstracts/Xanders_Madison_Poster_URS.pdf')  # gwp=(0.216,0.314)\n",
    "LiB = Material(name='LiB', gwp=0.031, toxicity=793, basis='kg', label='Brine-based Lithium',\n",
    "               citation='Nelson Bunyui Manjong (2021)')  \n",
    "\n",
    "Monocrystalline = Material(name='Mc', gwp=20, resource_cons={H2O: 1.5}, toxicity=40.74, basis='kg', label='Mono',\n",
    "                           citation='Environmental impact assessment of monocrystalline silicon solar photovoltaic cell production: a case study in China (toxicity)')\n",
    "Polycrystalline = Material(name='Pc', gwp=26, resource_cons={\n",
    "                           H2O: 1}, toxicity=15, basis='kg', label='Poly', citation='Environmental Economic Impact Assessments of a ... - MDPI (gwp and toxicity)')\n",
    "CdTE = Material(name='CdTe', gwp=40, resource_cons={H2O: 0.25}, toxicity=5, basis='kg', label='C',\n",
    "                citation='Investigation of life cycle CO2 emissions of the polycrystalline and cadmium telluride PV panels')\n"
   ]
  },
  {
   "attachments": {},
   "cell_type": "markdown",
   "metadata": {},
   "source": [
    "## Declare Processes"
   ]
  },
  {
   "cell_type": "code",
   "execution_count": 12,
   "metadata": {},
   "outputs": [],
   "source": [
    "LiI = Process(name='LiI', conversion= {'Brine': {Power: -1, LiIPower: 1}, 'Rock': {Power: -1, LiIPower: 1}}, material_cons={'Brine': {LiB: 20}, 'Rock': {LiR: 20}}, capex={'Brine': 1302182, 'Rock': 1302182}, \n",
    "              fopex={'Brine': 41432, 'Rock':41432}, vopex={'Brine': 2000, 'Rock': 2000}, prod_min=smallM, prod_max=bigM, label='Lithium-ion battery', basis='MW')\n",
    "\n",
    "LiI_discharge = Process(name='LiI_d', conversion={'Dummy': {Power: 0.8, LiIPower: -1}}, capex={'Dummy': 0.1}, material_cons={'Dummy': {LiB: 0}},\n",
    "                        fopex={'Dummy': 0.1}, vopex={'Dummy': 0}, prod_max=bigM, prod_min=smallM,  label='Lithium-ion battery (d)', basis='MW')\n",
    "\n",
    "PV = Process(name='PV', conversion={'Mo':{Solar: -5, Power: 1}, 'Po': {Solar: -6.67, Power: 1}, 'Cd': {Solar: -5, Power: 1}}, \n",
    "             capex= {'Mo': 990637, 'Po': 990637, 'Cd': 567000}, fopex= {'Mo': 3354, 'Po': 3354, 'Cd': 8720}, vopex= {'Mo': 4953, 'Po': 4953, 'Cd': 900}\n",
    "             , material_cons={'Mo': {Monocrystalline: 0.4}, 'Po': {Polycrystalline: 0.36}, 'Cd': {CdTE: 0.02}},\n",
    "                prod_min=smallM, prod_max=bigM, varying=[VaryingProcess.DETERMINISTIC_CAPACITY], label='Solar PV', basis='MW')\n"
   ]
  },
  {
   "cell_type": "code",
   "execution_count": 13,
   "metadata": {},
   "outputs": [],
   "source": [
    "# LiI_Br = Process(name='LiI_Br', storage=Power, material_cons={\n",
    "#                  LiB: 20}, capex=1302182, fopex=41432, vopex=2000, prod_min=smallM, prod_max=bigM, store_max=10000, label='Lithium-ion battery', basis='MW')\n",
    "\n",
    "# LiI_Ro = Process(name='LiI_Ro', storage=Power, material_cons={\n",
    "#                  LiR: 20}, capex=1302182, fopex=41432, vopex=2000, prod_min=smallM, prod_max=bigM,  store_max=10000, label='Lithium-ion battery', basis='MW')\n",
    "\n",
    "# PV_Mo = Process(name='PV_Mo', conversion={Solar: -5, Power: 1}, capex=990637, fopex=3354, vopex=4953, material_cons={Monocrystalline: 0.4},\n",
    "#                 prod_min=smallM, prod_max=bigM, varying=[VaryingProcess.DETERMINISTIC_CAPACITY], label='Solar PV', basis='MW')\n",
    "\n",
    "# PV_Po = Process(name='PV_Po', conversion={Solar: -6.67, Power: 1}, capex=990637, fopex=3354, vopex=4953, material_cons={Polycrystalline: 0.36},\n",
    "#                 prod_min=smallM, prod_max=bigM, varying=[VaryingProcess.DETERMINISTIC_CAPACITY], label='Solar PV', basis='MW')\n",
    "\n",
    "# PV_Cd = Process(name='PV_Cd', conversion={Solar: -3.33, Power: 1}, capex=567000, fopex=8720, vopex=9000, material_cons={CdTE: 0.02},\n",
    "#                 prod_min=smallM, prod_max=bigM, varying=[VaryingProcess.DETERMINISTIC_CAPACITY], label='Solar PV', basis='MW')\n",
    "\n",
    "# Grid = Process(name='Grid', conversion={GridPower: -1, Power: 1}, capex=0,\n",
    "#                fopex=0, vopex=10000000, prod_min=smallM, prod_max=bigM, label='Grid', basis='MW')\n"
   ]
  },
  {
   "attachments": {},
   "cell_type": "markdown",
   "metadata": {},
   "source": [
    "## Declare Location"
   ]
  },
  {
   "cell_type": "code",
   "execution_count": 14,
   "metadata": {},
   "outputs": [],
   "source": [
    "houston = Location(name='HO', processes={LiI, PV, LiI_discharge}, capacity_factor={PV: capacity_factor_pv},\n",
    "                   demand_factor={Power: demand_factor}, scales=scales, label='Houston', demand_scale_level=1, capacity_scale_level=1, price_scale_level=1)\n"
   ]
  },
  {
   "attachments": {},
   "cell_type": "markdown",
   "metadata": {},
   "source": [
    "## Declare Scenario"
   ]
  },
  {
   "cell_type": "code",
   "execution_count": 15,
   "metadata": {},
   "outputs": [],
   "source": [
    "\n",
    "scenario = Scenario(name='scenario_full', network=houston, scales=scales,  expenditure_scale_level=0, scheduling_scale_level=1,\n",
    "                    network_scale_level=0, demand_scale_level=1, capacity_scale_level = 1, label='full_case', demand={houston: {Power: 180}})\n"
   ]
  },
  {
   "cell_type": "code",
   "execution_count": 16,
   "metadata": {},
   "outputs": [
    {
     "data": {
      "text/plain": [
       "{'LiI': {'Brine': {'LiB': 20}, 'Rock': {'LiR': 20}},\n",
       " 'LiI_d': {'Dummy': {'LiB': 0}},\n",
       " 'PV': {'Mo': {'Mc': 0.4}, 'Po': {'Pc': 0.36}, 'Cd': {'CdTe': 0.02}}}"
      ]
     },
     "execution_count": 16,
     "metadata": {},
     "output_type": "execute_result"
    }
   ],
   "source": [
    "scenario.process_material_mode_material_dict"
   ]
  },
  {
   "cell_type": "code",
   "execution_count": 17,
   "metadata": {},
   "outputs": [
    {
     "data": {
      "text/plain": [
       "{'LiI': {'Brine': {'LiB': 20}, 'Rock': {'LiR': 20}},\n",
       " 'LiI_d': {'Dummy': {'LiB': 0}},\n",
       " 'PV': {'Mo': {'Mc': 0.4}, 'Po': {'Pc': 0.36}, 'Cd': {'CdTe': 0.02}}}"
      ]
     },
     "execution_count": 17,
     "metadata": {},
     "output_type": "execute_result"
    }
   ],
   "source": [
    "scenario.process_material_mode_material_dict"
   ]
  },
  {
   "cell_type": "code",
   "execution_count": 18,
   "metadata": {},
   "outputs": [],
   "source": [
    "# plot_scenario.capacity_factor(\n",
    "#     scenario=scenario, location=houston, process=PV, fig_size=(9, 5), color='orange')\n",
    "# plot_scenario.demand_factor(\n",
    "#     scenario=scenario, location=houston, resource=Power, fig_size=(9, 5), color='red')\n"
   ]
  },
  {
   "attachments": {},
   "cell_type": "markdown",
   "metadata": {},
   "source": [
    "## Formulate MILP"
   ]
  },
  {
   "attachments": {},
   "cell_type": "markdown",
   "metadata": {},
   "source": [
    "Here we formulate two milps which differ only in their objectives.\n",
    "\n",
    "For maximizing the discharge of a particular resource, use the objective MAX_DISCHARGE, the objective resource also needs to be specified.\n",
    "\n",
    "Similarly the discharge can also be minimized using MIN_DISCHARGE. This can be used with a demand for another resource being set. For example, minimizing the discharge of carbon dioxide while meeting a hydrogen demand.\n",
    "\n",
    "The second MILP, minimized the cost while meeting a varying demand for power"
   ]
  },
  {
   "attachments": {},
   "cell_type": "markdown",
   "metadata": {},
   "source": [
    "## Optimize to maximize resource discharge"
   ]
  },
  {
   "cell_type": "code",
   "execution_count": 19,
   "metadata": {},
   "outputs": [
    {
     "name": "stdout",
     "output_type": "stream",
     "text": [
      "constraint process capex\n",
      "constraint process fopex\n",
      "constraint process vopex\n",
      "constraint process incidental\n",
      "constraint storage cost\n",
      "constraint storage cost location\n",
      "constraint storage cost network\n",
      "constraint global warming potential process\n",
      "constraint global warming potential resource\n",
      "constraint global warming potential location\n",
      "constraint global warming potential network\n",
      "constraint global warming potential material\n",
      "constraint global warming potential material mode\n",
      "constraint production mode\n",
      "constraint inventory balance\n",
      "constraint inventory network\n",
      "constraint storage facility\n",
      "constraint production facility\n",
      "constraint min production facility\n",
      "constraint min storage facility\n",
      "constraint material process\n",
      "constraint material location\n",
      "constraint material network\n",
      "constraint production facility material mode\n",
      "constraint production facility material mode binary\n",
      "constraint production facility material\n",
      "constraint min production facility material\n",
      "constraint material mode process\n",
      "constraint network cost\n",
      "objective discharge max\n"
     ]
    }
   ],
   "source": [
    "\n",
    "milp_demand = formulate(scenario=scenario, constraints={Constraints.COST, Constraints.INVENTORY, Constraints.PRODUCTION, Constraints.RESOURCE_BALANCE,\n",
    "                        Constraints.NETWORK, Constraints.EMISSION, Constraints.MATERIAL}, objective=Objective.MAX_DISCHARGE, write_lpfile=True, objective_resource=Power)\n"
   ]
  },
  {
   "cell_type": "code",
   "execution_count": 20,
   "metadata": {},
   "outputs": [
    {
     "data": {
      "text/plain": [
       "{'LiI': {'Brine': {'LiB': 20}, 'Rock': {'LiR': 20}},\n",
       " 'LiI_d': {'Dummy': {'LiB': 0}},\n",
       " 'PV': {'Mo': {'Mc': 0.4}, 'Po': {'Pc': 0.36}, 'Cd': {'CdTe': 0.02}}}"
      ]
     },
     "execution_count": 20,
     "metadata": {},
     "output_type": "execute_result"
    }
   ],
   "source": [
    "scenario.process_material_mode_material_dict"
   ]
  },
  {
   "cell_type": "code",
   "execution_count": 21,
   "metadata": {},
   "outputs": [
    {
     "data": {
      "text/plain": [
       "{'LiI': {'Brine': {'LiB': 20}, 'Rock': {'LiR': 20}},\n",
       " 'LiI_d': {'Dummy': {'LiB': 0}},\n",
       " 'PV': {'Mo': {'Mc': 0.4}, 'Po': {'Pc': 0.36}, 'Cd': {'CdTe': 0.02}}}"
      ]
     },
     "execution_count": 21,
     "metadata": {},
     "output_type": "execute_result"
    }
   ],
   "source": [
    "scenario.process_material_mode_material_dict"
   ]
  },
  {
   "cell_type": "code",
   "execution_count": 22,
   "metadata": {},
   "outputs": [],
   "source": [
    "# results_demand = solve(scenario=scenario, instance=milp_demand,\n",
    "#                        solver='XPRESS', interface= 'gams', name=\"results_demand\", print_solversteps=True)\n"
   ]
  },
  {
   "cell_type": "code",
   "execution_count": 23,
   "metadata": {},
   "outputs": [
    {
     "name": "stdout",
     "output_type": "stream",
     "text": [
      "constraint process capex\n",
      "constraint process fopex\n",
      "constraint process vopex\n",
      "constraint process incidental\n",
      "constraint storage cost\n",
      "constraint storage cost location\n",
      "constraint storage cost network\n",
      "constraint global warming potential process\n",
      "constraint global warming potential resource\n",
      "constraint global warming potential location\n",
      "constraint global warming potential network\n",
      "constraint global warming potential material\n",
      "constraint global warming potential material mode\n",
      "constraint production mode\n",
      "constraint inventory balance\n",
      "constraint inventory network\n",
      "constraint storage facility\n",
      "constraint production facility\n",
      "constraint min production facility\n",
      "constraint min storage facility\n",
      "constraint material process\n",
      "constraint material location\n",
      "constraint material network\n",
      "constraint production facility material mode\n",
      "constraint production facility material mode binary\n",
      "constraint production facility material\n",
      "constraint min production facility material\n",
      "constraint material mode process\n",
      "constraint demand\n",
      "objective cost\n"
     ]
    }
   ],
   "source": [
    "\n",
    "milp_cost = formulate(scenario=scenario, constraints={Constraints.COST, Constraints.INVENTORY, Constraints.PRODUCTION, Constraints.RESOURCE_BALANCE,\n",
    "                                                      Constraints.TRANSPORT, Constraints.NETWORK, Constraints.EMISSION, Constraints.MATERIAL, Constraints.DEMAND}, objective=Objective.COST)\n"
   ]
  },
  {
   "attachments": {},
   "cell_type": "markdown",
   "metadata": {},
   "source": [
    "## Optimize to minimize cost"
   ]
  },
  {
   "cell_type": "code",
   "execution_count": 24,
   "metadata": {},
   "outputs": [
    {
     "name": "stdout",
     "output_type": "stream",
     "text": [
      "Set parameter QCPDual to value 1\n",
      "Gurobi Optimizer version 10.0.2 build v10.0.2rc0 (win64)\n",
      "\n",
      "CPU model: Intel(R) Core(TM) i7-6700 CPU @ 3.40GHz, instruction set [SSE2|AVX|AVX2]\n",
      "Thread count: 4 physical cores, 8 logical processors, using up to 8 threads\n",
      "\n",
      "Optimize a model with 248 rows, 259 columns and 580 nonzeros\n",
      "Model fingerprint: 0x0c62d0f1\n",
      "Variable types: 249 continuous, 10 integer (10 binary)\n",
      "Coefficient statistics:\n",
      "  Matrix range     [1e-02, 3e+06]\n",
      "  Objective range  [1e+00, 1e+00]\n",
      "  Bounds range     [1e+00, 1e+00]\n",
      "  RHS range        [7e+01, 1e+05]\n",
      "Presolve removed 217 rows and 235 columns\n",
      "Presolve time: 0.00s\n",
      "Presolved: 31 rows, 24 columns, 82 nonzeros\n",
      "Variable types: 19 continuous, 5 integer (5 binary)\n",
      "Found heuristic solution: objective 1.849731e+09\n",
      "\n",
      "Root relaxation: objective 1.174071e+09, 15 iterations, 0.00 seconds (0.00 work units)\n",
      "\n",
      "    Nodes    |    Current Node    |     Objective Bounds      |     Work\n",
      " Expl Unexpl |  Obj  Depth IntInf | Incumbent    BestBd   Gap | It/Node Time\n",
      "\n",
      "     0     0 1.1741e+09    0    2 1.8497e+09 1.1741e+09  36.5%     -    0s\n",
      "H    0     0                    1.174071e+09 1.1741e+09  0.00%     -    0s\n",
      "     0     0 1.1741e+09    0    2 1.1741e+09 1.1741e+09  0.00%     -    0s\n",
      "\n",
      "Explored 1 nodes (15 simplex iterations) in 0.02 seconds (0.00 work units)\n",
      "Thread count was 8 (of 8 available processors)\n",
      "\n",
      "Solution count 2: 1.17407e+09 1.84973e+09 \n",
      "\n",
      "Optimal solution found (tolerance 1.00e-04)\n",
      "Best objective 1.174071117110e+09, best bound 1.174071117110e+09, gap 0.0000%\n"
     ]
    },
    {
     "name": "stderr",
     "output_type": "stream",
     "text": [
      "WARNING:pyomo.solvers:Cannot get duals for MIP.\n"
     ]
    }
   ],
   "source": [
    "results_cost = solve(scenario=scenario, instance=milp_cost,\n",
    "                     solver='gurobi', name=f\"results_cost\", print_solversteps=True)\n"
   ]
  },
  {
   "cell_type": "code",
   "execution_count": 25,
   "metadata": {},
   "outputs": [
    {
     "data": {
      "text/plain": [
       "{('HO', 'LiI', 'CdTe', 0): 0.0,\n",
       " ('HO', 'LiI', 'LiB', 0): 1985.294117647059,\n",
       " ('HO', 'LiI', 'LiR', 0): 0.0,\n",
       " ('HO', 'LiI', 'Mc', 0): 0.0,\n",
       " ('HO', 'LiI', 'Pc', 0): 0.0,\n",
       " ('HO', 'LiI_d', 'CdTe', 0): 0.0,\n",
       " ('HO', 'LiI_d', 'LiB', 0): 0.0,\n",
       " ('HO', 'LiI_d', 'LiR', 0): 0.0,\n",
       " ('HO', 'LiI_d', 'Mc', 0): 0.0,\n",
       " ('HO', 'LiI_d', 'Pc', 0): 0.0,\n",
       " ('HO', 'PV', 'CdTe', 0): 7.0279411764705895,\n",
       " ('HO', 'PV', 'LiB', 0): 0.0,\n",
       " ('HO', 'PV', 'LiR', 0): 0.0,\n",
       " ('HO', 'PV', 'Mc', 0): 0.0,\n",
       " ('HO', 'PV', 'Pc', 0): 0.0}"
      ]
     },
     "execution_count": 25,
     "metadata": {},
     "output_type": "execute_result"
    }
   ],
   "source": [
    "results_cost.output['material_process']"
   ]
  },
  {
   "cell_type": "code",
   "execution_count": 26,
   "metadata": {},
   "outputs": [
    {
     "name": "stdout",
     "output_type": "stream",
     "text": [
      "('HO', 'LiI', 'Brine', 'LiB', 0) 1985.294117647059\n",
      "('HO', 'PV', 'Cd', 'CdTe', 0) 7.0279411764705895\n"
     ]
    }
   ],
   "source": [
    "for i in results_cost.output['material_mode_process'].keys():\n",
    "    if results_cost.output['material_mode_process'][i] >0:\n",
    "        print(i, results_cost.output['material_mode_process'][i])"
   ]
  },
  {
   "cell_type": "code",
   "execution_count": 27,
   "metadata": {},
   "outputs": [
    {
     "data": {
      "text/plain": [
       "{('HO', 'LiI', 'Brine', 0): 99.26470588235296,\n",
       " ('HO', 'LiI', 'Rock', 0): 0.0,\n",
       " ('HO', 'LiI_d', 'Dummy', 0): 99.26470588235296,\n",
       " ('HO', 'PV', 'Cd', 0): 351.39705882352945,\n",
       " ('HO', 'PV', 'Mo', 0): 0.0,\n",
       " ('HO', 'PV', 'Po', 0): 0.0}"
      ]
     },
     "execution_count": 27,
     "metadata": {},
     "output_type": "execute_result"
    }
   ],
   "source": [
    "results_cost.output['Cap_P_M']"
   ]
  },
  {
   "cell_type": "code",
   "execution_count": 28,
   "metadata": {},
   "outputs": [
    {
     "data": {
      "text/plain": [
       "{('HO', 'LiI', 'Brine', 0): 1.0,\n",
       " ('HO', 'LiI', 'Rock', 0): 0.0,\n",
       " ('HO', 'LiI_d', 'Dummy', 0): 1.0,\n",
       " ('HO', 'PV', 'Cd', 0): 1.0,\n",
       " ('HO', 'PV', 'Mo', 0): 0.0,\n",
       " ('HO', 'PV', 'Po', 0): 0.0}"
      ]
     },
     "execution_count": 28,
     "metadata": {},
     "output_type": "execute_result"
    }
   ],
   "source": [
    "results_cost.output['X_M']"
   ]
  },
  {
   "cell_type": "code",
   "execution_count": 29,
   "metadata": {},
   "outputs": [
    {
     "name": "stdout",
     "output_type": "stream",
     "text": [
      "material_mode_process : materials utilized in material mode for each process\n",
      "    Size=90, Index=material_mode_process_index\n",
      "    Key                                 : Lower : Value              : Upper : Fixed : Stale : Domain\n",
      "      ('HO', 'LiI', 'Brine', 'CdTe', 0) :     0 :                0.0 :  None : False : False : NonNegativeReals\n",
      "       ('HO', 'LiI', 'Brine', 'LiB', 0) :     0 :  1985.294117647059 :  None : False : False : NonNegativeReals\n",
      "       ('HO', 'LiI', 'Brine', 'LiR', 0) :     0 :                0.0 :  None : False : False : NonNegativeReals\n",
      "        ('HO', 'LiI', 'Brine', 'Mc', 0) :     0 :                0.0 :  None : False : False : NonNegativeReals\n",
      "        ('HO', 'LiI', 'Brine', 'Pc', 0) :     0 :                0.0 :  None : False : False : NonNegativeReals\n",
      "         ('HO', 'LiI', 'Cd', 'CdTe', 0) :     0 :                0.0 :  None : False : False : NonNegativeReals\n",
      "          ('HO', 'LiI', 'Cd', 'LiB', 0) :     0 :                0.0 :  None : False : False : NonNegativeReals\n",
      "          ('HO', 'LiI', 'Cd', 'LiR', 0) :     0 :                0.0 :  None : False : False : NonNegativeReals\n",
      "           ('HO', 'LiI', 'Cd', 'Mc', 0) :     0 :                0.0 :  None : False : False : NonNegativeReals\n",
      "           ('HO', 'LiI', 'Cd', 'Pc', 0) :     0 :                0.0 :  None : False : False : NonNegativeReals\n",
      "      ('HO', 'LiI', 'Dummy', 'CdTe', 0) :     0 :                0.0 :  None : False : False : NonNegativeReals\n",
      "       ('HO', 'LiI', 'Dummy', 'LiB', 0) :     0 :                0.0 :  None : False : False : NonNegativeReals\n",
      "       ('HO', 'LiI', 'Dummy', 'LiR', 0) :     0 :                0.0 :  None : False : False : NonNegativeReals\n",
      "        ('HO', 'LiI', 'Dummy', 'Mc', 0) :     0 :                0.0 :  None : False : False : NonNegativeReals\n",
      "        ('HO', 'LiI', 'Dummy', 'Pc', 0) :     0 :                0.0 :  None : False : False : NonNegativeReals\n",
      "         ('HO', 'LiI', 'Mo', 'CdTe', 0) :     0 :                0.0 :  None : False : False : NonNegativeReals\n",
      "          ('HO', 'LiI', 'Mo', 'LiB', 0) :     0 :                0.0 :  None : False : False : NonNegativeReals\n",
      "          ('HO', 'LiI', 'Mo', 'LiR', 0) :     0 :                0.0 :  None : False : False : NonNegativeReals\n",
      "           ('HO', 'LiI', 'Mo', 'Mc', 0) :     0 :                0.0 :  None : False : False : NonNegativeReals\n",
      "           ('HO', 'LiI', 'Mo', 'Pc', 0) :     0 :                0.0 :  None : False : False : NonNegativeReals\n",
      "         ('HO', 'LiI', 'Po', 'CdTe', 0) :     0 :                0.0 :  None : False : False : NonNegativeReals\n",
      "          ('HO', 'LiI', 'Po', 'LiB', 0) :     0 :                0.0 :  None : False : False : NonNegativeReals\n",
      "          ('HO', 'LiI', 'Po', 'LiR', 0) :     0 :                0.0 :  None : False : False : NonNegativeReals\n",
      "           ('HO', 'LiI', 'Po', 'Mc', 0) :     0 :                0.0 :  None : False : False : NonNegativeReals\n",
      "           ('HO', 'LiI', 'Po', 'Pc', 0) :     0 :                0.0 :  None : False : False : NonNegativeReals\n",
      "       ('HO', 'LiI', 'Rock', 'CdTe', 0) :     0 :                0.0 :  None : False : False : NonNegativeReals\n",
      "        ('HO', 'LiI', 'Rock', 'LiB', 0) :     0 :                0.0 :  None : False : False : NonNegativeReals\n",
      "        ('HO', 'LiI', 'Rock', 'LiR', 0) :     0 :                0.0 :  None : False : False : NonNegativeReals\n",
      "         ('HO', 'LiI', 'Rock', 'Mc', 0) :     0 :                0.0 :  None : False : False : NonNegativeReals\n",
      "         ('HO', 'LiI', 'Rock', 'Pc', 0) :     0 :                0.0 :  None : False : False : NonNegativeReals\n",
      "    ('HO', 'LiI_d', 'Brine', 'CdTe', 0) :     0 :                0.0 :  None : False : False : NonNegativeReals\n",
      "     ('HO', 'LiI_d', 'Brine', 'LiB', 0) :     0 :                0.0 :  None : False : False : NonNegativeReals\n",
      "     ('HO', 'LiI_d', 'Brine', 'LiR', 0) :     0 :                0.0 :  None : False : False : NonNegativeReals\n",
      "      ('HO', 'LiI_d', 'Brine', 'Mc', 0) :     0 :                0.0 :  None : False : False : NonNegativeReals\n",
      "      ('HO', 'LiI_d', 'Brine', 'Pc', 0) :     0 :                0.0 :  None : False : False : NonNegativeReals\n",
      "       ('HO', 'LiI_d', 'Cd', 'CdTe', 0) :     0 :                0.0 :  None : False : False : NonNegativeReals\n",
      "        ('HO', 'LiI_d', 'Cd', 'LiB', 0) :     0 :                0.0 :  None : False : False : NonNegativeReals\n",
      "        ('HO', 'LiI_d', 'Cd', 'LiR', 0) :     0 :                0.0 :  None : False : False : NonNegativeReals\n",
      "         ('HO', 'LiI_d', 'Cd', 'Mc', 0) :     0 :                0.0 :  None : False : False : NonNegativeReals\n",
      "         ('HO', 'LiI_d', 'Cd', 'Pc', 0) :     0 :                0.0 :  None : False : False : NonNegativeReals\n",
      "    ('HO', 'LiI_d', 'Dummy', 'CdTe', 0) :     0 :                0.0 :  None : False : False : NonNegativeReals\n",
      "     ('HO', 'LiI_d', 'Dummy', 'LiB', 0) :     0 :                0.0 :  None : False : False : NonNegativeReals\n",
      "     ('HO', 'LiI_d', 'Dummy', 'LiR', 0) :     0 :                0.0 :  None : False : False : NonNegativeReals\n",
      "      ('HO', 'LiI_d', 'Dummy', 'Mc', 0) :     0 :                0.0 :  None : False : False : NonNegativeReals\n",
      "      ('HO', 'LiI_d', 'Dummy', 'Pc', 0) :     0 :                0.0 :  None : False : False : NonNegativeReals\n",
      "       ('HO', 'LiI_d', 'Mo', 'CdTe', 0) :     0 :                0.0 :  None : False : False : NonNegativeReals\n",
      "        ('HO', 'LiI_d', 'Mo', 'LiB', 0) :     0 :                0.0 :  None : False : False : NonNegativeReals\n",
      "        ('HO', 'LiI_d', 'Mo', 'LiR', 0) :     0 :                0.0 :  None : False : False : NonNegativeReals\n",
      "         ('HO', 'LiI_d', 'Mo', 'Mc', 0) :     0 :                0.0 :  None : False : False : NonNegativeReals\n",
      "         ('HO', 'LiI_d', 'Mo', 'Pc', 0) :     0 :                0.0 :  None : False : False : NonNegativeReals\n",
      "       ('HO', 'LiI_d', 'Po', 'CdTe', 0) :     0 :                0.0 :  None : False : False : NonNegativeReals\n",
      "        ('HO', 'LiI_d', 'Po', 'LiB', 0) :     0 :                0.0 :  None : False : False : NonNegativeReals\n",
      "        ('HO', 'LiI_d', 'Po', 'LiR', 0) :     0 :                0.0 :  None : False : False : NonNegativeReals\n",
      "         ('HO', 'LiI_d', 'Po', 'Mc', 0) :     0 :                0.0 :  None : False : False : NonNegativeReals\n",
      "         ('HO', 'LiI_d', 'Po', 'Pc', 0) :     0 :                0.0 :  None : False : False : NonNegativeReals\n",
      "     ('HO', 'LiI_d', 'Rock', 'CdTe', 0) :     0 :                0.0 :  None : False : False : NonNegativeReals\n",
      "      ('HO', 'LiI_d', 'Rock', 'LiB', 0) :     0 :                0.0 :  None : False : False : NonNegativeReals\n",
      "      ('HO', 'LiI_d', 'Rock', 'LiR', 0) :     0 :                0.0 :  None : False : False : NonNegativeReals\n",
      "       ('HO', 'LiI_d', 'Rock', 'Mc', 0) :     0 :                0.0 :  None : False : False : NonNegativeReals\n",
      "       ('HO', 'LiI_d', 'Rock', 'Pc', 0) :     0 :                0.0 :  None : False : False : NonNegativeReals\n",
      "       ('HO', 'PV', 'Brine', 'CdTe', 0) :     0 :                0.0 :  None : False : False : NonNegativeReals\n",
      "        ('HO', 'PV', 'Brine', 'LiB', 0) :     0 :                0.0 :  None : False : False : NonNegativeReals\n",
      "        ('HO', 'PV', 'Brine', 'LiR', 0) :     0 :                0.0 :  None : False : False : NonNegativeReals\n",
      "         ('HO', 'PV', 'Brine', 'Mc', 0) :     0 :                0.0 :  None : False : False : NonNegativeReals\n",
      "         ('HO', 'PV', 'Brine', 'Pc', 0) :     0 :                0.0 :  None : False : False : NonNegativeReals\n",
      "          ('HO', 'PV', 'Cd', 'CdTe', 0) :     0 : 7.0279411764705895 :  None : False : False : NonNegativeReals\n",
      "           ('HO', 'PV', 'Cd', 'LiB', 0) :     0 :                0.0 :  None : False : False : NonNegativeReals\n",
      "           ('HO', 'PV', 'Cd', 'LiR', 0) :     0 :                0.0 :  None : False : False : NonNegativeReals\n",
      "            ('HO', 'PV', 'Cd', 'Mc', 0) :     0 :                0.0 :  None : False : False : NonNegativeReals\n",
      "            ('HO', 'PV', 'Cd', 'Pc', 0) :     0 :                0.0 :  None : False : False : NonNegativeReals\n",
      "       ('HO', 'PV', 'Dummy', 'CdTe', 0) :     0 :                0.0 :  None : False : False : NonNegativeReals\n",
      "        ('HO', 'PV', 'Dummy', 'LiB', 0) :     0 :                0.0 :  None : False : False : NonNegativeReals\n",
      "        ('HO', 'PV', 'Dummy', 'LiR', 0) :     0 :                0.0 :  None : False : False : NonNegativeReals\n",
      "         ('HO', 'PV', 'Dummy', 'Mc', 0) :     0 :                0.0 :  None : False : False : NonNegativeReals\n",
      "         ('HO', 'PV', 'Dummy', 'Pc', 0) :     0 :                0.0 :  None : False : False : NonNegativeReals\n",
      "          ('HO', 'PV', 'Mo', 'CdTe', 0) :     0 :                0.0 :  None : False : False : NonNegativeReals\n",
      "           ('HO', 'PV', 'Mo', 'LiB', 0) :     0 :                0.0 :  None : False : False : NonNegativeReals\n",
      "           ('HO', 'PV', 'Mo', 'LiR', 0) :     0 :                0.0 :  None : False : False : NonNegativeReals\n",
      "            ('HO', 'PV', 'Mo', 'Mc', 0) :     0 :                0.0 :  None : False : False : NonNegativeReals\n",
      "            ('HO', 'PV', 'Mo', 'Pc', 0) :     0 :                0.0 :  None : False : False : NonNegativeReals\n",
      "          ('HO', 'PV', 'Po', 'CdTe', 0) :     0 :                0.0 :  None : False : False : NonNegativeReals\n",
      "           ('HO', 'PV', 'Po', 'LiB', 0) :     0 :                0.0 :  None : False : False : NonNegativeReals\n",
      "           ('HO', 'PV', 'Po', 'LiR', 0) :     0 :                0.0 :  None : False : False : NonNegativeReals\n",
      "            ('HO', 'PV', 'Po', 'Mc', 0) :     0 :                0.0 :  None : False : False : NonNegativeReals\n",
      "            ('HO', 'PV', 'Po', 'Pc', 0) :     0 :                0.0 :  None : False : False : NonNegativeReals\n",
      "        ('HO', 'PV', 'Rock', 'CdTe', 0) :     0 :                0.0 :  None : False : False : NonNegativeReals\n",
      "         ('HO', 'PV', 'Rock', 'LiB', 0) :     0 :                0.0 :  None : False : False : NonNegativeReals\n",
      "         ('HO', 'PV', 'Rock', 'LiR', 0) :     0 :                0.0 :  None : False : False : NonNegativeReals\n",
      "          ('HO', 'PV', 'Rock', 'Mc', 0) :     0 :                0.0 :  None : False : False : NonNegativeReals\n",
      "          ('HO', 'PV', 'Rock', 'Pc', 0) :     0 :                0.0 :  None : False : False : NonNegativeReals\n"
     ]
    }
   ],
   "source": [
    "milp_cost.material_mode_process.pprint()"
   ]
  },
  {
   "cell_type": "code",
   "execution_count": 30,
   "metadata": {},
   "outputs": [
    {
     "data": {
      "text/plain": [
       "{'LiI': {'Brine': {'LiB': 20}, 'Rock': {'LiR': 20}},\n",
       " 'LiI_d': {'Dummy': {'LiB': 0}},\n",
       " 'PV': {'Mo': {'Mc': 0.4}, 'Po': {'Pc': 0.36}, 'Cd': {'CdTe': 0.02}}}"
      ]
     },
     "execution_count": 30,
     "metadata": {},
     "output_type": "execute_result"
    }
   ],
   "source": [
    "{i.name: {j:{l.name: m for l,m in k.items() } for j,k in i.material_cons.items()} for i in scenario.process_set}"
   ]
  },
  {
   "cell_type": "code",
   "execution_count": 31,
   "metadata": {},
   "outputs": [
    {
     "data": {
      "text/plain": [
       "{'LiI': {'CdTe': 0, 'LiB': 0, 'Pc': 0, 'LiR': 0, 'Mc': 0},\n",
       " 'LiI_d': {'CdTe': 0, 'LiB': 0, 'Pc': 0, 'LiR': 0, 'Mc': 0},\n",
       " 'PV': {'CdTe': 0, 'LiB': 0, 'Pc': 0, 'LiR': 0, 'Mc': 0}}"
      ]
     },
     "execution_count": 31,
     "metadata": {},
     "output_type": "execute_result"
    }
   ],
   "source": [
    "scenario.process_material_dict"
   ]
  },
  {
   "cell_type": "code",
   "execution_count": 32,
   "metadata": {},
   "outputs": [
    {
     "data": {
      "text/plain": [
       "{('HO', 'LiI', 0): 397058.8235294118,\n",
       " ('HO', 'LiI_d', 0): 0.0,\n",
       " ('HO', 'PV', 0): 6049770.88235294}"
      ]
     },
     "execution_count": 32,
     "metadata": {},
     "output_type": "execute_result"
    }
   ],
   "source": [
    "results_cost.output['Vopex_process']"
   ]
  },
  {
   "cell_type": "code",
   "execution_count": 33,
   "metadata": {},
   "outputs": [
    {
     "name": "stdout",
     "output_type": "stream",
     "text": [
      "constraint_production_facility_material_mode_binary : capacity of process under different material modes\n",
      "    Size=3, Index=constraint_production_facility_material_mode_binary_index, Active=True\n",
      "    Key                : Lower : Body                                                               : Upper : Active\n",
      "      ('HO', 'LiI', 0) :   0.0 :           X_M[HO,LiI,Brine,0] + X_M[HO,LiI,Rock,0] - X_P[HO,LiI,0] :   0.0 :   True\n",
      "    ('HO', 'LiI_d', 0) :   0.0 :                            X_M[HO,LiI_d,Dummy,0] - X_P[HO,LiI_d,0] :   0.0 :   True\n",
      "       ('HO', 'PV', 0) :   0.0 : X_M[HO,PV,Cd,0] + X_M[HO,PV,Mo,0] + X_M[HO,PV,Po,0] - X_P[HO,PV,0] :   0.0 :   True\n"
     ]
    }
   ],
   "source": [
    "milp_cost.constraint_production_facility_material_mode_binary.pprint()"
   ]
  },
  {
   "cell_type": "code",
   "execution_count": 34,
   "metadata": {},
   "outputs": [
    {
     "name": "stdout",
     "output_type": "stream",
     "text": [
      "constraint_process_capex : capex for process\n",
      "    Size=3, Index=constraint_process_capex_index, Active=True\n",
      "    Key                : Lower : Body                                                                                             : Upper : Active\n",
      "      ('HO', 'LiI', 0) :   0.0 :                    Capex_process[HO,LiI,0] - (1302182*Cap_P[HO,LiI,0] + 1302182*Cap_P[HO,LiI,0]) :   0.0 :   True\n",
      "    ('HO', 'LiI_d', 0) :   0.0 :                                                Capex_process[HO,LiI_d,0] - 0.1*Cap_P[HO,LiI_d,0] :   0.0 :   True\n",
      "       ('HO', 'PV', 0) :   0.0 : Capex_process[HO,PV,0] - (567000*Cap_P[HO,PV,0] + 990637*Cap_P[HO,PV,0] + 990637*Cap_P[HO,PV,0]) :   0.0 :   True\n"
     ]
    }
   ],
   "source": [
    "milp_cost.constraint_process_capex.pprint()"
   ]
  },
  {
   "cell_type": "code",
   "execution_count": 35,
   "metadata": {},
   "outputs": [
    {
     "data": {
      "image/png": "[encoded data removed]",
      "text/plain": [
       "<Figure size 1200x600 with 1 Axes>"
      ]
     },
     "metadata": {},
     "output_type": "display_data"
    }
   ],
   "source": [
    "plot_results.schedule(results=results_cost, y_axis='Inv',\n",
    "                      component='LiIPower', location='HO')\n"
   ]
  },
  {
   "cell_type": "code",
   "execution_count": 36,
   "metadata": {},
   "outputs": [
    {
     "data": {
      "image/png": "[encoded data removed]",
      "text/plain": [
       "<Figure size 1100x600 with 1 Axes>"
      ]
     },
     "metadata": {},
     "output_type": "display_data"
    }
   ],
   "source": [
    "plot_results.cost(results=results_cost, x=CostX.PROCESS_WISE,\n",
    "                  y=CostY.TOTAL, location='HO', fig_size=(11, 6))\n"
   ]
  },
  {
   "cell_type": "code",
   "execution_count": 37,
   "metadata": {},
   "outputs": [
    {
     "data": {
      "text/plain": [
       "{('HO', 'LiI', 0): 99.26470588235296,\n",
       " ('HO', 'LiI_d', 0): 99.26470588235296,\n",
       " ('HO', 'PV', 0): 351.39705882352945}"
      ]
     },
     "execution_count": 37,
     "metadata": {},
     "output_type": "execute_result"
    }
   ],
   "source": [
    "results_cost.output['Cap_P']"
   ]
  },
  {
   "cell_type": "code",
   "execution_count": 38,
   "metadata": {},
   "outputs": [
    {
     "data": {
      "text/plain": [
       "{('HO', 'LiI', 0): 61.54411764705883,\n",
       " ('HO', 'LiI_d', 0): 0.0,\n",
       " ('HO', 'PV', 0): 281.1176470588236}"
      ]
     },
     "execution_count": 38,
     "metadata": {},
     "output_type": "execute_result"
    }
   ],
   "source": [
    "results_cost.output['global_warming_potential_material']"
   ]
  },
  {
   "cell_type": "code",
   "execution_count": 39,
   "metadata": {},
   "outputs": [
    {
     "data": {
      "text/plain": [
       "{('HO', 'LiI', 0): 0.0, ('HO', 'LiI_d', 0): 0.0, ('HO', 'PV', 0): 0.0}"
      ]
     },
     "execution_count": 39,
     "metadata": {},
     "output_type": "execute_result"
    }
   ],
   "source": [
    "results_cost.output['global_warming_potential_process']"
   ]
  },
  {
   "cell_type": "code",
   "execution_count": 40,
   "metadata": {},
   "outputs": [
    {
     "data": {
      "text/plain": [
       "{('HO', 'LiI', 0): 1.0, ('HO', 'LiI_d', 0): 1.0, ('HO', 'PV', 0): 1.0}"
      ]
     },
     "execution_count": 40,
     "metadata": {},
     "output_type": "execute_result"
    }
   ],
   "source": [
    "results_cost.output['X_P']"
   ]
  },
  {
   "cell_type": "code",
   "execution_count": 41,
   "metadata": {},
   "outputs": [
    {
     "data": {
      "text/plain": [
       "{'HO': {'LiI': 0, 'LiI_d': 0, 'PV': 0}}"
      ]
     },
     "execution_count": 41,
     "metadata": {},
     "output_type": "execute_result"
    }
   ],
   "source": [
    "scenario.process_gwp_dict"
   ]
  },
  {
   "cell_type": "code",
   "execution_count": 42,
   "metadata": {},
   "outputs": [
    {
     "data": {
      "text/plain": [
       "{'HO': {'CdTe': 40, 'LiB': 0.031, 'Pc': 26, 'LiR': 1.484, 'Mc': 20}}"
      ]
     },
     "execution_count": 42,
     "metadata": {},
     "output_type": "execute_result"
    }
   ],
   "source": [
    "scenario.material_gwp_dict"
   ]
  },
  {
   "cell_type": "code",
   "execution_count": 43,
   "metadata": {},
   "outputs": [
    {
     "data": {
      "text/plain": [
       "{'LiI': {'CdTe': 0, 'LiB': 0, 'Pc': 0, 'LiR': 0, 'Mc': 0},\n",
       " 'LiI_d': {'CdTe': 0, 'LiB': 0, 'Pc': 0, 'LiR': 0, 'Mc': 0},\n",
       " 'PV': {'CdTe': 0, 'LiB': 0, 'Pc': 0, 'LiR': 0, 'Mc': 0}}"
      ]
     },
     "execution_count": 43,
     "metadata": {},
     "output_type": "execute_result"
    }
   ],
   "source": [
    "scenario.process_material_dict"
   ]
  },
  {
   "cell_type": "code",
   "execution_count": 45,
   "metadata": {},
   "outputs": [
    {
     "data": {
      "text/plain": [
       "{('HO', 'LiI', 'CdTe', 0): 0.0,\n",
       " ('HO', 'LiI', 'LiB', 0): 1985.294117647059,\n",
       " ('HO', 'LiI', 'LiR', 0): 0.0,\n",
       " ('HO', 'LiI', 'Mc', 0): 0.0,\n",
       " ('HO', 'LiI', 'Pc', 0): 0.0,\n",
       " ('HO', 'LiI_d', 'CdTe', 0): 0.0,\n",
       " ('HO', 'LiI_d', 'LiB', 0): 0.0,\n",
       " ('HO', 'LiI_d', 'LiR', 0): 0.0,\n",
       " ('HO', 'LiI_d', 'Mc', 0): 0.0,\n",
       " ('HO', 'LiI_d', 'Pc', 0): 0.0,\n",
       " ('HO', 'PV', 'CdTe', 0): 7.0279411764705895,\n",
       " ('HO', 'PV', 'LiB', 0): 0.0,\n",
       " ('HO', 'PV', 'LiR', 0): 0.0,\n",
       " ('HO', 'PV', 'Mc', 0): 0.0,\n",
       " ('HO', 'PV', 'Pc', 0): 0.0}"
      ]
     },
     "execution_count": 45,
     "metadata": {},
     "output_type": "execute_result"
    }
   ],
   "source": [
    "results_cost.output['material_process']"
   ]
  },
  {
   "cell_type": "code",
   "execution_count": null,
   "metadata": {},
   "outputs": [],
   "source": []
  }
 ],
 "metadata": {
  "kernelspec": {
   "display_name": "Python 3.10.5 ('ki': venv)",
   "language": "python",
   "name": "python3"
  },
  "language_info": {
   "codemirror_mode": {
    "name": "ipython",
    "version": 3
   },
   "file_extension": ".py",
   "mimetype": "text/x-python",
   "name": "python",
   "nbconvert_exporter": "python",
   "pygments_lexer": "ipython3",
   "version": "3.10.5"
  },
  "orig_nbformat": 4,
  "vscode": {
   "interpreter": {
    "hash": "a4a97498e3c1bfef05f70a75d4fcafcb7b5c9c4ed86429a4e7bee46eaa890f24"
   }
  }
 },
 "nbformat": 4,
 "nbformat_minor": 2
}
