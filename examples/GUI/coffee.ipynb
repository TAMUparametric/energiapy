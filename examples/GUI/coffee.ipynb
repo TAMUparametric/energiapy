{
 "cells": [
  {
   "cell_type": "markdown",
   "metadata": {},
   "source": [
    "# Coffee Supply Chain (using excel)"
   ]
  },
  {
   "cell_type": "markdown",
   "metadata": {},
   "source": [
    "__author__ = \"Rahul Kakodkar\"\n",
    "__copyright__ = \"Copyright 2023, Multi-parametric Optimization & Control Lab\"\n",
    "__credits__ = [\"Rahul Kakodkar\", \"Efstratios N. Pistikopoulos\"]\n",
    "__license__ = \"MIT\"\n",
    "__version__ = \"1.0.0\"\n",
    "__maintainer__ = \"Rahul Kakodkar\"\n",
    "__email__ = \"cacodcar@tamu.edu\"\n",
    "__status__ = \"Complete\"\n"
   ]
  },
  {
   "cell_type": "markdown",
   "metadata": {},
   "source": [
    "**Import modules**"
   ]
  },
  {
   "cell_type": "code",
   "execution_count": 1,
   "metadata": {},
   "outputs": [],
   "source": [
    "import sys\n",
    "sys.path.append('../../src')"
   ]
  },
  {
   "cell_type": "code",
   "execution_count": null,
   "metadata": {},
   "outputs": [],
   "source": [
    "import pandas \n",
    "from energiapy.components.temporal_scale import TemporalScale\n",
    "from energiapy.components.resource import Resource, VaryingResource\n",
    "from energiapy.components.process import Process, ProcessMode, VaryingProcess\n",
    "from energiapy.components.location import Location\n",
    "from energiapy.components.scenario import Scenario\n",
    "from energiapy.components.result import Result \n",
    "from energiapy.model.formulate import formulate, Constraints, Objective\n",
    "from energiapy.model.solve import solve\n",
    "from energiapy.plot import plot_results, plot_scenario\n",
    "from energiapy.plot.plot_results import CostY, CostX"
   ]
  },
  {
   "cell_type": "markdown",
   "metadata": {},
   "source": [
    "**Input Data**"
   ]
  },
  {
   "cell_type": "code",
   "execution_count": 273,
   "metadata": {},
   "outputs": [],
   "source": [
    "input_ = 'coffee.xlsx'"
   ]
  },
  {
   "cell_type": "code",
   "execution_count": 274,
   "metadata": {},
   "outputs": [],
   "source": [
    "\n",
    "resource_input = pandas.read_excel(input_, sheet_name= 'Resources', index_col= 'name')\n",
    "process_input = pandas.read_excel(input_, sheet_name= 'Processes')\n",
    "conversion = pandas.read_excel(input_, sheet_name= 'Conversion', index_col= 'process')\n",
    "demand_factor = pandas.read_excel(input_, sheet_name= 'DemandFactors')\n"
   ]
  },
  {
   "cell_type": "code",
   "execution_count": 275,
   "metadata": {},
   "outputs": [
    {
     "data": {
      "text/html": [
       "<div>\n",
       "<style scoped>\n",
       "    .dataframe tbody tr th:only-of-type {\n",
       "        vertical-align: middle;\n",
       "    }\n",
       "\n",
       "    .dataframe tbody tr th {\n",
       "        vertical-align: top;\n",
       "    }\n",
       "\n",
       "    .dataframe thead th {\n",
       "        text-align: right;\n",
       "    }\n",
       "</style>\n",
       "<table border=\"1\" class=\"dataframe\">\n",
       "  <thead>\n",
       "    <tr style=\"text-align: right;\">\n",
       "      <th></th>\n",
       "      <th>coffee_brewed</th>\n",
       "    </tr>\n",
       "  </thead>\n",
       "  <tbody>\n",
       "    <tr>\n",
       "      <th>0</th>\n",
       "      <td>1.0</td>\n",
       "    </tr>\n",
       "    <tr>\n",
       "      <th>1</th>\n",
       "      <td>0.9</td>\n",
       "    </tr>\n",
       "    <tr>\n",
       "      <th>2</th>\n",
       "      <td>0.9</td>\n",
       "    </tr>\n",
       "    <tr>\n",
       "      <th>3</th>\n",
       "      <td>1.0</td>\n",
       "    </tr>\n",
       "    <tr>\n",
       "      <th>4</th>\n",
       "      <td>0.6</td>\n",
       "    </tr>\n",
       "    <tr>\n",
       "      <th>5</th>\n",
       "      <td>0.4</td>\n",
       "    </tr>\n",
       "    <tr>\n",
       "      <th>6</th>\n",
       "      <td>0.4</td>\n",
       "    </tr>\n",
       "  </tbody>\n",
       "</table>\n",
       "</div>"
      ],
      "text/plain": [
       "   coffee_brewed\n",
       "0            1.0\n",
       "1            0.9\n",
       "2            0.9\n",
       "3            1.0\n",
       "4            0.6\n",
       "5            0.4\n",
       "6            0.4"
      ]
     },
     "execution_count": 275,
     "metadata": {},
     "output_type": "execute_result"
    }
   ],
   "source": [
    "demand_factor"
   ]
  },
  {
   "cell_type": "markdown",
   "metadata": {},
   "source": [
    "**Declare temporal scale**\n"
   ]
  },
  {
   "cell_type": "markdown",
   "metadata": {},
   "source": [
    "Consider four seasons in a year.\n",
    "\n",
    "Network decisions are taken annually (scale level 0)\n",
    "\n",
    "Scheduling decisions are taken seasonally (scale level 1)\n"
   ]
  },
  {
   "cell_type": "code",
   "execution_count": 276,
   "metadata": {},
   "outputs": [],
   "source": [
    "scales = TemporalScale(discretization_list= [len(demand_factor)])"
   ]
  },
  {
   "cell_type": "markdown",
   "metadata": {},
   "source": [
    "**Declare resources**"
   ]
  },
  {
   "cell_type": "markdown",
   "metadata": {},
   "source": [
    "Resources can be declared with attributes such as maximum consumption (cons_max), resource price (price), maximum allowed inventory (store_max)\n",
    "\n",
    "As also whether they can be discharged (sell), have to meet demand (demand)"
   ]
  },
  {
   "cell_type": "code",
   "execution_count": 277,
   "metadata": {},
   "outputs": [],
   "source": [
    "resource_list = []\n",
    "for i in range(len(resource_input.index)):\n",
    "    resource_list.append(Resource(name= resource_input.index[i], cons_max= resource_input['cons_max'][i], loss = resource_input['loss'][i], \\\n",
    "        revenue = resource_input['revenue'][i], price = resource_input['price'][i], store_max = resource_input['store_max'][i], \\\n",
    "            store_min = resource_input['store_min'][i], sell = bool(resource_input['sell'][i]), demand = bool(resource_input['demand'][i]), \\\n",
    "                basis = resource_input['basis'][i], block = resource_input['block'][i], varying = resource_input['varying'][i], \\\n",
    "                    label = resource_input['label'][i], gwp = resource_input['gwp'][i]))"
   ]
  },
  {
   "cell_type": "code",
   "execution_count": 278,
   "metadata": {},
   "outputs": [],
   "source": [
    "conversion_dict = {process: {resource: conversion[resource].loc[process] for resource in conversion.columns if abs(conversion[resource].loc[process]) != 0} for process in conversion.index}"
   ]
  },
  {
   "cell_type": "code",
   "execution_count": 279,
   "metadata": {},
   "outputs": [],
   "source": [
    "def resource_gttr(conversion_dict):\n",
    "    dict_ = {i: None for i in conversion_dict.keys()}\n",
    "    for i in conversion_dict.keys():\n",
    "        dict_[i] = {[k for k in resource_list if k.name == j][0]: conversion_dict[i][j] for j in conversion_dict[i].keys()}\n",
    "    return dict_\n",
    "conversion_dict = resource_gttr(conversion_dict= conversion_dict)"
   ]
  },
  {
   "cell_type": "code",
   "execution_count": 280,
   "metadata": {},
   "outputs": [],
   "source": [
    "process_list = []\n",
    "for i in range(len(process_input['name'])):\n",
    "    process_list.append(Process(name= process_input['name'][i], conversion= conversion_dict[process_input['name'][i]], capex= process_input['capex'][i], fopex= process_input['fopex'][i], vopex= process_input['vopex'][i]\\\n",
    "        ,prod_max= process_input['prod_max'][i], gwp = process_input['gwp'][i]))"
   ]
  },
  {
   "cell_type": "markdown",
   "metadata": {},
   "source": [
    "**Declare location**\n"
   ]
  },
  {
   "cell_type": "markdown",
   "metadata": {},
   "source": [
    "Locations are essentially a set of processes, the required resources are collected implicitly.\n",
    "\n",
    "Location-wise capacity, demand, and cost factors can be provided. \n",
    "\n",
    "The scales of the capacity and demand data need to be provided as well."
   ]
  },
  {
   "cell_type": "code",
   "execution_count": 281,
   "metadata": {},
   "outputs": [
    {
     "data": {
      "text/plain": [
       "[coffee_cherries,\n",
       " dried_cherries,\n",
       " husk,\n",
       " green beans,\n",
       " whole_beans,\n",
       " coffee_silverskin,\n",
       " coffee_roasted,\n",
       " coffee_ground,\n",
       " coffee_ground_spent,\n",
       " coffee_brewed,\n",
       " water,\n",
       " power]"
      ]
     },
     "execution_count": 281,
     "metadata": {},
     "output_type": "execute_result"
    }
   ],
   "source": [
    "resource_list"
   ]
  },
  {
   "cell_type": "code",
   "execution_count": 282,
   "metadata": {},
   "outputs": [],
   "source": [
    "def factor_gttr(factor, list_):\n",
    "    dict_ = {i: pandas.DataFrame(factor[i.name]) for i in list_ if i.demand == True}\n",
    "    return dict_"
   ]
  },
  {
   "cell_type": "code",
   "execution_count": 283,
   "metadata": {},
   "outputs": [
    {
     "data": {
      "text/html": [
       "<div>\n",
       "<style scoped>\n",
       "    .dataframe tbody tr th:only-of-type {\n",
       "        vertical-align: middle;\n",
       "    }\n",
       "\n",
       "    .dataframe tbody tr th {\n",
       "        vertical-align: top;\n",
       "    }\n",
       "\n",
       "    .dataframe thead th {\n",
       "        text-align: right;\n",
       "    }\n",
       "</style>\n",
       "<table border=\"1\" class=\"dataframe\">\n",
       "  <thead>\n",
       "    <tr style=\"text-align: right;\">\n",
       "      <th></th>\n",
       "      <th>coffee_brewed</th>\n",
       "    </tr>\n",
       "  </thead>\n",
       "  <tbody>\n",
       "    <tr>\n",
       "      <th>0</th>\n",
       "      <td>1.0</td>\n",
       "    </tr>\n",
       "    <tr>\n",
       "      <th>1</th>\n",
       "      <td>0.9</td>\n",
       "    </tr>\n",
       "    <tr>\n",
       "      <th>2</th>\n",
       "      <td>0.9</td>\n",
       "    </tr>\n",
       "    <tr>\n",
       "      <th>3</th>\n",
       "      <td>1.0</td>\n",
       "    </tr>\n",
       "    <tr>\n",
       "      <th>4</th>\n",
       "      <td>0.6</td>\n",
       "    </tr>\n",
       "    <tr>\n",
       "      <th>5</th>\n",
       "      <td>0.4</td>\n",
       "    </tr>\n",
       "    <tr>\n",
       "      <th>6</th>\n",
       "      <td>0.4</td>\n",
       "    </tr>\n",
       "  </tbody>\n",
       "</table>\n",
       "</div>"
      ],
      "text/plain": [
       "   coffee_brewed\n",
       "0            1.0\n",
       "1            0.9\n",
       "2            0.9\n",
       "3            1.0\n",
       "4            0.6\n",
       "5            0.4\n",
       "6            0.4"
      ]
     },
     "execution_count": 283,
     "metadata": {},
     "output_type": "execute_result"
    }
   ],
   "source": [
    "demand_factor"
   ]
  },
  {
   "cell_type": "code",
   "execution_count": 284,
   "metadata": {},
   "outputs": [],
   "source": [
    "demand_factor = factor_gttr(demand_factor, resource_list)"
   ]
  },
  {
   "cell_type": "code",
   "execution_count": 285,
   "metadata": {},
   "outputs": [],
   "source": [
    "place = Location(name='place', processes= set(process_list), demand_factor = demand_factor, capacity_scale_level= 0, demand_scale_level = 0, scales=scales, label='some place')"
   ]
  },
  {
   "cell_type": "markdown",
   "metadata": {},
   "source": [
    "**Declare scenario**"
   ]
  },
  {
   "cell_type": "markdown",
   "metadata": {},
   "source": [
    "The combination of parameter data, locations, and transportation options generates a scenario. \n",
    "\n",
    "Scenarios are data sets that can be fed to models for analysis. \n",
    "\n",
    "In this case we are generating a scenario for the location houston. The scales need to be consistent.\n",
    "\n",
    "The demand, network, scheduling, and expenditure scales need to be provided. They all default to 0."
   ]
  },
  {
   "cell_type": "code",
   "execution_count": 286,
   "metadata": {},
   "outputs": [],
   "source": [
    "case = Scenario(name= 'case', network= place, demand = {place: {i: resource_input['demand_level'][i.name] for i in resource_list if i.demand == True}}, scales= scales,\\\n",
    "    network_scale_level = 0, demand_scale_level = 0, expenditure_scale_level = 0, label= 'small scenario')"
   ]
  },
  {
   "cell_type": "markdown",
   "metadata": {},
   "source": [
    "**Formulate MILP**"
   ]
  },
  {
   "cell_type": "markdown",
   "metadata": {},
   "source": [
    "Models can be formulated using different constraints and objectives.\n",
    "\n",
    "milp is a pyomo instance, additional constraints can be provided in a bespoke manner"
   ]
  },
  {
   "cell_type": "code",
   "execution_count": 287,
   "metadata": {},
   "outputs": [
    {
     "name": "stdout",
     "output_type": "stream",
     "text": [
      "constraint production mode\n",
      "constraint production mode facility\n",
      "constraint production mode binary\n",
      "constraint process capex\n",
      "constraint process fopex\n",
      "constraint process vopex\n",
      "constraint process incidental\n",
      "constraint location capex\n",
      "constraint location fopex\n",
      "constraint location vopex\n",
      "constraint location incidental\n",
      "constraint network capex\n",
      "constraint network fopex\n",
      "constraint network vopex\n",
      "constraint network incidental\n",
      "constraint global warming potential process\n",
      "constraint global warming potential resource\n",
      "constraint global warming potential material\n",
      "constraint global warming potential location\n",
      "constraint global warming potential network\n",
      "constraint nameplate inventory\n",
      "constraint storage facility\n",
      "constraint min storage facility\n",
      "constraint nameplate production\n",
      "constraint production facility\n",
      "constraint min production facility\n",
      "constraint inventory balance\n",
      "constraint resource consumption\n",
      "constraint resource purchase\n",
      "constraint location production\n",
      "constraint location discharge\n",
      "constraint location consumption\n",
      "constraint location purchase\n",
      "constraint network production\n",
      "constraint network discharge\n",
      "constraint network consumption\n",
      "constraint network purchase\n",
      "constraint demand\n",
      "cost objective\n"
     ]
    }
   ],
   "source": [
    "milp = formulate(scenario= case, constraints={Constraints.COST, Constraints.INVENTORY, Constraints.PRODUCTION, Constraints.RESOURCE_BALANCE, Constraints.MODE, Constraints.EMISSION}, \\\n",
    "        objective= Objective.COST)"
   ]
  },
  {
   "cell_type": "markdown",
   "metadata": {},
   "source": [
    "**Solve**"
   ]
  },
  {
   "cell_type": "markdown",
   "metadata": {},
   "source": [
    "To solve the model, the solve requires a scenario and a modeling instance to be provided. \n",
    "\n",
    "Also a solver needs to be chosen."
   ]
  },
  {
   "cell_type": "code",
   "execution_count": 288,
   "metadata": {},
   "outputs": [
    {
     "name": "stdout",
     "output_type": "stream",
     "text": [
      "Gurobi Optimizer version 10.0.1 build v10.0.1rc0 (win64)\n",
      "\n",
      "CPU model: Intel(R) Core(TM) i7-6700 CPU @ 3.40GHz, instruction set [SSE2|AVX|AVX2]\n",
      "Thread count: 4 physical cores, 8 logical processors, using up to 8 threads\n",
      "\n",
      "Optimize a model with 833 rows, 894 columns and 2429 nonzeros\n",
      "Model fingerprint: 0x0b0eef8a\n",
      "Variable types: 784 continuous, 110 integer (110 binary)\n",
      "Coefficient statistics:\n",
      "  Matrix range     [1e-02, 3e+05]\n",
      "  Objective range  [1e+00, 1e+00]\n",
      "  Bounds range     [1e+00, 1e+00]\n",
      "  RHS range        [3e+03, 1e+06]\n",
      "Presolve removed 833 rows and 894 columns\n",
      "Presolve time: 0.00s\n",
      "Presolve: All rows and columns removed\n",
      "\n",
      "Explored 0 nodes (0 simplex iterations) in 0.01 seconds (0.00 work units)\n",
      "Thread count was 1 (of 8 available processors)\n",
      "\n",
      "Solution count 1: 1.81528e+07 \n",
      "\n",
      "Optimal solution found (tolerance 1.00e-04)\n",
      "Best objective 1.815280133333e+07, best bound 1.815280133333e+07, gap 0.0000%\n"
     ]
    }
   ],
   "source": [
    "results = solve(scenario = case, instance= milp, solver= 'gurobi', name=f\"MILP\")"
   ]
  },
  {
   "cell_type": "markdown",
   "metadata": {},
   "source": [
    "**Results**"
   ]
  },
  {
   "cell_type": "code",
   "execution_count": 289,
   "metadata": {},
   "outputs": [
    {
     "data": {
      "text/plain": [
       "{('place', 'husk', 0): 1944.444444444444,\n",
       " ('place', 'husk', 1): 1749.9999999999995,\n",
       " ('place', 'husk', 2): 1749.9999999999995,\n",
       " ('place', 'husk', 3): 1944.444444444444,\n",
       " ('place', 'husk', 4): 1166.6666666666665,\n",
       " ('place', 'husk', 5): 777.7777777777776,\n",
       " ('place', 'husk', 6): 777.7777777777776,\n",
       " ('place', 'coffee_silverskin', 0): 583.3333333333334,\n",
       " ('place', 'coffee_silverskin', 1): 525.0,\n",
       " ('place', 'coffee_silverskin', 2): 525.0,\n",
       " ('place', 'coffee_silverskin', 3): 583.3333333333334,\n",
       " ('place', 'coffee_silverskin', 4): 350.0,\n",
       " ('place', 'coffee_silverskin', 5): 233.33333333333334,\n",
       " ('place', 'coffee_silverskin', 6): 233.33333333333334,\n",
       " ('place', 'coffee_brewed', 0): 6999.999999999999,\n",
       " ('place', 'coffee_brewed', 1): 6299.999999999999,\n",
       " ('place', 'coffee_brewed', 2): 6299.999999999999,\n",
       " ('place', 'coffee_brewed', 3): 6999.999999999999,\n",
       " ('place', 'coffee_brewed', 4): 4199.999999999999,\n",
       " ('place', 'coffee_brewed', 5): 2799.9999999999995,\n",
       " ('place', 'coffee_brewed', 6): 2799.9999999999995,\n",
       " ('place', 'whole_beans', 0): 3849.999999999999,\n",
       " ('place', 'whole_beans', 1): 3464.999999999999,\n",
       " ('place', 'whole_beans', 2): 3464.999999999999,\n",
       " ('place', 'whole_beans', 3): 3849.999999999999,\n",
       " ('place', 'whole_beans', 4): 2309.9999999999995,\n",
       " ('place', 'whole_beans', 5): 1539.9999999999995,\n",
       " ('place', 'whole_beans', 6): 1539.9999999999995,\n",
       " ('place', 'coffee_ground_spent', 0): 1399.9999999999995,\n",
       " ('place', 'coffee_ground_spent', 1): 1259.9999999999995,\n",
       " ('place', 'coffee_ground_spent', 2): 1259.9999999999995,\n",
       " ('place', 'coffee_ground_spent', 3): 1399.9999999999995,\n",
       " ('place', 'coffee_ground_spent', 4): 839.9999999999997,\n",
       " ('place', 'coffee_ground_spent', 5): 559.9999999999998,\n",
       " ('place', 'coffee_ground_spent', 6): 559.9999999999998}"
      ]
     },
     "execution_count": 289,
     "metadata": {},
     "output_type": "execute_result"
    }
   ],
   "source": [
    "results.output['S']"
   ]
  },
  {
   "cell_type": "markdown",
   "metadata": {},
   "source": [
    "Models can be summarized as shown below:"
   ]
  },
  {
   "cell_type": "code",
   "execution_count": 290,
   "metadata": {},
   "outputs": [
    {
     "name": "stdout",
     "output_type": "stream",
     "text": [
      "SUMMARY:\n",
      "            number of constraints: 833\n",
      "            number of variables: 894\n",
      "            number of binary variables: 110\n",
      "            number of integer variables: 110\n",
      "            number of continuous variables: 674\n"
     ]
    }
   ],
   "source": [
    "results.model_summary()"
   ]
  },
  {
   "cell_type": "markdown",
   "metadata": {},
   "source": [
    "*Plot results*"
   ]
  },
  {
   "cell_type": "markdown",
   "metadata": {},
   "source": [
    "Some handy plotting functions such as schedule can plot the production, consumption, sales, inventory schedules"
   ]
  },
  {
   "cell_type": "markdown",
   "metadata": {},
   "source": [
    "All inputs are stored in results.component\n",
    "\n",
    "All outputs are stored in results.output\n",
    "\n",
    "Values can be accessed as shown below"
   ]
  },
  {
   "cell_type": "code",
   "execution_count": 291,
   "metadata": {},
   "outputs": [
    {
     "data": {
      "text/plain": [
       "{('place', 'Hulling', 0): 7777.7777777777665,\n",
       " ('place', 'Hulling', 1): 7000.0,\n",
       " ('place', 'Hulling', 2): 7000.0,\n",
       " ('place', 'Hulling', 3): 7777.7777777777665,\n",
       " ('place', 'Hulling', 4): 4666.666666666657,\n",
       " ('place', 'Hulling', 5): 3111.111111111095,\n",
       " ('place', 'Hulling', 6): 3111.111111111095,\n",
       " ('place', 'Drying', 0): 9722.222222222204,\n",
       " ('place', 'Drying', 1): 8749.999999999985,\n",
       " ('place', 'Drying', 2): 8749.999999999985,\n",
       " ('place', 'Drying', 3): 9722.222222222204,\n",
       " ('place', 'Drying', 4): 5833.333333333314,\n",
       " ('place', 'Drying', 5): 3888.888888888876,\n",
       " ('place', 'Drying', 6): 3888.888888888876,\n",
       " ('place', 'Grinding', 0): 1400.0,\n",
       " ('place', 'Grinding', 1): 1260.0,\n",
       " ('place', 'Grinding', 2): 1260.0,\n",
       " ('place', 'Grinding', 3): 1400.0,\n",
       " ('place', 'Grinding', 4): 840.0,\n",
       " ('place', 'Grinding', 5): 560.0,\n",
       " ('place', 'Grinding', 6): 560.0,\n",
       " ('place', 'Brewing', 0): 1400.0,\n",
       " ('place', 'Brewing', 1): 1260.0,\n",
       " ('place', 'Brewing', 2): 1260.0,\n",
       " ('place', 'Brewing', 3): 1400.0,\n",
       " ('place', 'Brewing', 4): 840.0,\n",
       " ('place', 'Brewing', 5): 560.0,\n",
       " ('place', 'Brewing', 6): 560.0,\n",
       " ('place', 'Roasting', 0): 5833.333333333314,\n",
       " ('place', 'Roasting', 1): 5250.0,\n",
       " ('place', 'Roasting', 2): 5250.0,\n",
       " ('place', 'Roasting', 3): 5833.333333333314,\n",
       " ('place', 'Roasting', 4): 3500.0,\n",
       " ('place', 'Roasting', 5): 2333.333333333314,\n",
       " ('place', 'Roasting', 6): 2333.333333333314}"
      ]
     },
     "execution_count": 291,
     "metadata": {},
     "output_type": "execute_result"
    }
   ],
   "source": [
    "results.output['Cap_P']"
   ]
  },
  {
   "cell_type": "code",
   "execution_count": 292,
   "metadata": {},
   "outputs": [],
   "source": [
    "import matplotlib.pyplot as plt \n",
    "from matplotlib import rc"
   ]
  },
  {
   "cell_type": "code",
   "execution_count": 293,
   "metadata": {},
   "outputs": [
    {
     "data": {
      "image/png": "[encoded data removed]",
      "text/plain": [
       "<Figure size 600x400 with 1 Axes>"
      ]
     },
     "metadata": {},
     "output_type": "display_data"
    }
   ],
   "source": [
    "rc('font', **{'family': 'serif',\n",
    "           'serif': ['Computer Modern'], 'size': 16})\n",
    "fig, ax = plt.subplots(figsize = (6,4))\n",
    "ax.plot(['M', 'Tu', 'W', 'Th', 'F', 'Sa', 'Su'], [5000*1, 5000*0.9, 5000*0.9, 5000*1, 5000*0.6, 5000*0.4, 5000*0.4], linestyle = '--')\n",
    "plt.ylim((0, 5500))\n",
    "plt.title('Coffee demand through a week')\n",
    "plt.grid(alpha = 0.4)\n",
    "plt.rcdefaults()"
   ]
  },
  {
   "cell_type": "code",
   "execution_count": 294,
   "metadata": {},
   "outputs": [
    {
     "data": {
      "image/png": "[encoded data removed]",
      "text/plain": [
       "<Figure size 800x600 with 1 Axes>"
      ]
     },
     "metadata": {},
     "output_type": "display_data"
    }
   ],
   "source": [
    "plot_results.cost(results= results, x = CostX.PROCESS_WISE, y = CostY.CAPEX, location= 'place', fig_size= (8,6))\n"
   ]
  },
  {
   "cell_type": "code",
   "execution_count": 295,
   "metadata": {},
   "outputs": [
    {
     "data": {
      "text/plain": [
       "{('place', 'coffee_cherries', 0): 2527777.7777777775,\n",
       " ('place', 'coffee_cherries', 1): 2527777.7777777775,\n",
       " ('place', 'coffee_cherries', 2): 2527777.7777777775,\n",
       " ('place', 'coffee_cherries', 3): 2527777.7777777775,\n",
       " ('place', 'coffee_cherries', 4): 2527777.7777777775,\n",
       " ('place', 'coffee_cherries', 5): 2527777.7777777775,\n",
       " ('place', 'coffee_cherries', 6): 2527777.7777777775,\n",
       " ('place', 'water', 0): 1455999.9999999998,\n",
       " ('place', 'water', 1): 1455999.9999999998,\n",
       " ('place', 'water', 2): 1455999.9999999998,\n",
       " ('place', 'water', 3): 1455999.9999999998,\n",
       " ('place', 'water', 4): 1455999.9999999998,\n",
       " ('place', 'water', 5): 1455999.9999999998,\n",
       " ('place', 'water', 6): 1455999.9999999998,\n",
       " ('place', 'power', 0): 10839111.111111104,\n",
       " ('place', 'power', 1): 10839111.111111104,\n",
       " ('place', 'power', 2): 10839111.111111104,\n",
       " ('place', 'power', 3): 10839111.111111104,\n",
       " ('place', 'power', 4): 10839111.111111104,\n",
       " ('place', 'power', 5): 10839111.111111104,\n",
       " ('place', 'power', 6): 10839111.111111104}"
      ]
     },
     "execution_count": 295,
     "metadata": {},
     "output_type": "execute_result"
    }
   ],
   "source": [
    "results.output['global_warming_potential_resource']"
   ]
  },
  {
   "cell_type": "code",
   "execution_count": 296,
   "metadata": {},
   "outputs": [
    {
     "data": {
      "image/png": "[encoded data removed]",
      "text/plain": [
       "<Figure size 600x400 with 1 Axes>"
      ]
     },
     "metadata": {},
     "output_type": "display_data"
    }
   ],
   "source": [
    "rc('font', **{'family': 'serif',\n",
    "           'serif': ['Computer Modern'], 'size': 16})\n",
    "fig, ax = plt.subplots(figsize = (6,4))\n",
    "ax.bar(['water', 'power', 'coffee cultivation'], [1040000, 7742222, 1805555], color = 'indianred')\n",
    "# plt.ylim((0, 5500))\n",
    "plt.title('sources of resource emissions')\n",
    "plt.grid(alpha = 0.4)\n",
    "plt.rcdefaults()"
   ]
  },
  {
   "cell_type": "code",
   "execution_count": 297,
   "metadata": {},
   "outputs": [
    {
     "data": {
      "text/plain": [
       "{('place', 'Hulling', 0): 233333333.333333,\n",
       " ('place', 'Hulling', 1): 210000000.0,\n",
       " ('place', 'Hulling', 2): 210000000.0,\n",
       " ('place', 'Hulling', 3): 233333333.333333,\n",
       " ('place', 'Hulling', 4): 139999999.9999997,\n",
       " ('place', 'Hulling', 5): 93333333.33333285,\n",
       " ('place', 'Hulling', 6): 93333333.33333285,\n",
       " ('place', 'Drying', 0): 194444444.4444441,\n",
       " ('place', 'Drying', 1): 174999999.9999997,\n",
       " ('place', 'Drying', 2): 174999999.9999997,\n",
       " ('place', 'Drying', 3): 194444444.4444441,\n",
       " ('place', 'Drying', 4): 116666666.66666628,\n",
       " ('place', 'Drying', 5): 77777777.77777752,\n",
       " ('place', 'Drying', 6): 77777777.77777752,\n",
       " ('place', 'Grinding', 0): 420000000.0,\n",
       " ('place', 'Grinding', 1): 378000000.0,\n",
       " ('place', 'Grinding', 2): 378000000.0,\n",
       " ('place', 'Grinding', 3): 420000000.0,\n",
       " ('place', 'Grinding', 4): 252000000.0,\n",
       " ('place', 'Grinding', 5): 168000000.0,\n",
       " ('place', 'Grinding', 6): 168000000.0,\n",
       " ('place', 'Brewing', 0): 84000000.0,\n",
       " ('place', 'Brewing', 1): 75600000.0,\n",
       " ('place', 'Brewing', 2): 75600000.0,\n",
       " ('place', 'Brewing', 3): 84000000.0,\n",
       " ('place', 'Brewing', 4): 50400000.0,\n",
       " ('place', 'Brewing', 5): 33600000.0,\n",
       " ('place', 'Brewing', 6): 33600000.0,\n",
       " ('place', 'Roasting', 0): 233333333.33333257,\n",
       " ('place', 'Roasting', 1): 210000000.0,\n",
       " ('place', 'Roasting', 2): 210000000.0,\n",
       " ('place', 'Roasting', 3): 233333333.33333257,\n",
       " ('place', 'Roasting', 4): 140000000.0,\n",
       " ('place', 'Roasting', 5): 93333333.33333255,\n",
       " ('place', 'Roasting', 6): 93333333.33333255}"
      ]
     },
     "execution_count": 297,
     "metadata": {},
     "output_type": "execute_result"
    }
   ],
   "source": [
    "results.output['global_warming_potential_process']"
   ]
  },
  {
   "cell_type": "code",
   "execution_count": 298,
   "metadata": {},
   "outputs": [
    {
     "data": {
      "image/png": "[encoded data removed]",
      "text/plain": [
       "<Figure size 800x400 with 1 Axes>"
      ]
     },
     "metadata": {},
     "output_type": "display_data"
    }
   ],
   "source": [
    "rc('font', **{'family': 'serif',\n",
    "           'serif': ['Computer Modern'], 'size': 16})\n",
    "fig, ax = plt.subplots(figsize = (8,4))\n",
    "ax.bar(['Drying', 'Hulling', 'Brewing', 'Roasting',  'Grinding'], [138888888, 124999999, 60000000, 166666666, 10000000], color = 'orange')\n",
    "# plt.ylim((0, 5500))\n",
    "plt.title('sources of process emissions')\n",
    "plt.grid(alpha = 0.4)\n",
    "plt.rcdefaults()"
   ]
  },
  {
   "cell_type": "code",
   "execution_count": null,
   "metadata": {},
   "outputs": [],
   "source": []
  }
 ],
 "metadata": {
  "kernelspec": {
   "display_name": "Python 3.10.5 ('ki': venv)",
   "language": "python",
   "name": "python3"
  },
  "language_info": {
   "codemirror_mode": {
    "name": "ipython",
    "version": 3
   },
   "file_extension": ".py",
   "mimetype": "text/x-python",
   "name": "python",
   "nbconvert_exporter": "python",
   "pygments_lexer": "ipython3",
   "version": "3.10.5"
  },
  "orig_nbformat": 4,
  "vscode": {
   "interpreter": {
    "hash": "a4a97498e3c1bfef05f70a75d4fcafcb7b5c9c4ed86429a4e7bee46eaa890f24"
   }
  }
 },
 "nbformat": 4,
 "nbformat_minor": 2
}
