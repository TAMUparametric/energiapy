{
 "cells": [
  {
   "attachments": {},
   "cell_type": "markdown",
   "metadata": {},
   "source": [
    "# A Tale of Two Cities "
   ]
  },
  {
   "cell_type": "markdown",
   "metadata": {},
   "source": [
    "__author__ = \"Rahul Kakodkar\"\n",
    "__copyright__ = \"Copyright 2023, Multi-parametric Optimization & Control Lab\"\n",
    "__credits__ = [\"Rahul Kakodkar\", \"Efstratios N. Pistikopoulos\"]\n",
    "__license__ = \"MIT\"\n",
    "__version__ = \"1.0.5\"\n",
    "__maintainer__ = \"Rahul Kakodkar\"\n",
    "__email__ = \"cacodcar@tamu.edu\"\n",
    "__status__ = \"Production\"\n"
   ]
  },
  {
   "attachments": {},
   "cell_type": "markdown",
   "metadata": {},
   "source": [
    "The following case study considers two locations Houston and Athens. \n",
    "\n",
    "The basic premise is to meet a demand for hydrogen in Athens through production in Houston. \n",
    "\n",
    "\n",
    "The following processes are considered in Houston - \n",
    "\n",
    "- Modular nuclear reactors (ASMR)\n",
    "- Proton Exchange Membrane Electrolyzers (PEM)\n",
    "- Natural Gas Combined Cycle with 95% carbon capture (NGCC)\n",
    "- Lithium-ion batteries (LiI/LiI_discharge)\n",
    "- Solar Photovoltaics (PV) \n",
    "- Wind Farms (WF)\n",
    "- SMR + Carbon Capture Utilization and Storage (SMRH)\n",
    "- Offshore Aquifers (AQoff)\n",
    "- Hydrogen Compression and Decompression \n",
    "\n",
    "For shipment, we conside a Ship to transport the hydrogen from Houston to Athens. "
   ]
  },
  {
   "attachments": {},
   "cell_type": "markdown",
   "metadata": {},
   "source": [
    "## Import Modules"
   ]
  },
  {
   "cell_type": "code",
   "execution_count": 1,
   "metadata": {},
   "outputs": [],
   "source": [
    "import sys\n",
    "sys.path.append('src')"
   ]
  },
  {
   "cell_type": "code",
   "execution_count": 2,
   "metadata": {},
   "outputs": [],
   "source": [
    "\n",
    "from energiapy.solution.result import Result\n",
    "from energiapy.solution.solve import solve\n",
    "import pandas\n",
    "from itertools import product\n",
    "from matplotlib import rc\n",
    "import matplotlib.pyplot as plt\n",
    "from energiapy.plot.plot_results import CostY, CostX\n",
    "from energiapy.plot import plot_results, plot_scenario, plot_location\n",
    "from energiapy.utils.nsrdb_utils import fetch_nsrdb_data\n",
    "from energiapy.model.formulate import formulate, Constraints, Objective\n",
    "from energiapy.model.bounds import CapacityBounds\n",
    "from energiapy.utils.data_utils import get_data, make_henry_price_df, remove_outliers, load_results, calculate_hourly\n",
    "from energiapy.components import *\n",
    "import numpy\n",
    "from energiapy.conversion.photovoltaic import solar_power_output\n",
    "from energiapy.conversion.windmill import wind_power_output\n",
    "from energiapy.aggregation.reduce_scenario import reduce_scenario, Clustermethod\n",
    "from energiapy.aggregation.ahc import agg_hierarchial_elbow, IncludeAHC, Fit\n"
   ]
  },
  {
   "cell_type": "markdown",
   "metadata": {},
   "source": [
    "## Data Import"
   ]
  },
  {
   "attachments": {},
   "cell_type": "markdown",
   "metadata": {},
   "source": [
    "The following data is needed for the model\n",
    "\n",
    "- solar and wind profiles : energiapy.fetch_nsrdb_data imports data from the NREL NSRDB database\n",
    "- power demand : ERCOT for Houston\n",
    "- Natural Gas prices: Henry Hub \n"
   ]
  },
  {
   "cell_type": "code",
   "execution_count": 3,
   "metadata": {},
   "outputs": [],
   "source": [
    "horizon = 1"
   ]
  },
  {
   "attachments": {},
   "cell_type": "markdown",
   "metadata": {},
   "source": [
    "### Weather data"
   ]
  },
  {
   "attachments": {},
   "cell_type": "markdown",
   "metadata": {},
   "source": [
    "Solar and wind data is obtained from the NSRDB hosted by NREL"
   ]
  },
  {
   "cell_type": "code",
   "execution_count": 4,
   "metadata": {},
   "outputs": [
    {
     "name": "stderr",
     "output_type": "stream",
     "text": [
      "C:\\Users\\cacodcar\\AppData\\Local\\Temp\\ipykernel_19636\\20141400.py:3: UserWarning: Could not infer format, so each element will be parsed individually, falling back to `dateutil`. To ensure parsing is consistent and as-expected, please specify a format.\n",
      "  weather_houston.index = pandas.to_datetime(weather_houston.index, utc = True)\n"
     ]
    }
   ],
   "source": [
    "coord_houston = (29.56999969482422, -95.05999755859375)\n",
    "weather_houston = pandas.read_csv('data/weather_houston.csv', index_col=0)\n",
    "weather_houston.index = pandas.to_datetime(weather_houston.index, utc = True)\n"
   ]
  },
  {
   "attachments": {},
   "cell_type": "markdown",
   "metadata": {},
   "source": [
    "Solar irradiance (GNI, DNI, GHI) and weather conditions (cloud cover, etc.) are used to determine solar power generation potential"
   ]
  },
  {
   "cell_type": "code",
   "execution_count": 5,
   "metadata": {},
   "outputs": [],
   "source": [
    "solar_houston_mean = weather_houston[['dni']][:8760]"
   ]
  },
  {
   "cell_type": "code",
   "execution_count": 6,
   "metadata": {},
   "outputs": [],
   "source": [
    "wind_houston_mean = weather_houston[['wind_speed']][:8760]"
   ]
  },
  {
   "cell_type": "code",
   "execution_count": 7,
   "metadata": {},
   "outputs": [],
   "source": [
    "solar_houston = solar_power_output(data= weather_houston, coord=coord_houston, sam = 'cecmod', module_params= 'Canadian_Solar_Inc__CS5P_220M', \n",
    "                                   inverter = 'cecinverter', inverter_params= 'ABB__MICRO_0_25_I_OUTD_US_208__208V_', \n",
    "                                   temperature_params= 'open_rack_glass_glass', aoi_model= 'no_loss', ac_model= 'sandia', spectral_model= 'no_loss')"
   ]
  },
  {
   "attachments": {},
   "cell_type": "markdown",
   "metadata": {},
   "source": [
    "Wind speeds are used to determine the wind power generation potential"
   ]
  },
  {
   "cell_type": "code",
   "execution_count": 8,
   "metadata": {},
   "outputs": [],
   "source": [
    "wind_houston = wind_power_output(data= weather_houston, roughness_length= 0.1, turbine_type= 'V100/1800', hub_height= 92, \n",
    "                                 wind_speed_model= 'logarithmic', density_model = 'ideal_gas', temperature_model = 'linear_gradient', \n",
    "                                 power_output_model = 'power_coefficient_curve', density_correction = True, obstacle_height = 0, \n",
    "                                 observation_height = 10)"
   ]
  },
  {
   "attachments": {},
   "cell_type": "markdown",
   "metadata": {},
   "source": [
    "Hourly data is averaged over the years 2016 to 2020"
   ]
  },
  {
   "cell_type": "code",
   "execution_count": 9,
   "metadata": {},
   "outputs": [],
   "source": [
    "# solar_houston_mean = calculate_hourly(data = solar_houston, what = 'mean', column_name= 'Value')\n",
    "# wind_houston_mean = calculate_hourly(data = wind_houston, what = 'mean', column_name= 'Value')\n",
    "\n",
    "solar_houston_mean = solar_houston\n",
    "wind_houston_mean = wind_houston"
   ]
  },
  {
   "attachments": {},
   "cell_type": "markdown",
   "metadata": {},
   "source": [
    "### Natural gas prices\n",
    "\n",
    "Natural gas prices are from the Henry price index at a daily temporal resolution.\n",
    "\n",
    "The energia.make_henry_price_df function implicitly fills in gaps in data such as weekends and public holidays by repeating the last recorded prices For e.g. if the 4th of July will use the price for the 3rd of July a typical saturday and sunday will take the values for the last friday.\n",
    "\n",
    "The stretch functionality stretches the values over the hourly temporal scale (8760) from a daily temporal scale (365), again through repetition.\n",
    "\n",
    "Moreover, we can remove outliers usig the remove_outliers features in data_utils"
   ]
  },
  {
   "cell_type": "code",
   "execution_count": 10,
   "metadata": {},
   "outputs": [],
   "source": [
    "ng_price_df = pandas.concat(\n",
    "    [make_henry_price_df(file_name='data/Henry_Hub_Natural_Gas_Spot_Price_Daily.csv', year=2016 +i) for i in range(5)]) #, stretch = True"
   ]
  },
  {
   "cell_type": "code",
   "execution_count": 11,
   "metadata": {},
   "outputs": [
    {
     "name": "stderr",
     "output_type": "stream",
     "text": [
      "C:\\Users\\cacodcar\\AppData\\Local\\Temp\\ipykernel_19636\\2618497395.py:2: UserWarning: Could not infer format, so each element will be parsed individually, falling back to `dateutil`. To ensure parsing is consistent and as-expected, please specify a format.\n",
      "  ercot.index = pandas.to_datetime(ercot.index, utc = True)\n"
     ]
    }
   ],
   "source": [
    "ercot = pandas.read_csv('ercot.csv', index_col=0)\n",
    "ercot.index = pandas.to_datetime(ercot.index, utc = True)\n",
    "ercot.loc['2016-11-06 23:00:00'] = ercot.loc['2016-11-06 22:00:00'] #random missing value"
   ]
  },
  {
   "attachments": {},
   "cell_type": "markdown",
   "metadata": {},
   "source": [
    "## Declare Problem "
   ]
  },
  {
   "cell_type": "code",
   "execution_count": 12,
   "metadata": {},
   "outputs": [],
   "source": [
    "scales = TemporalScale([horizon, 365, 24], design_scale = 0, scheduling_scale = 2)"
   ]
  },
  {
   "cell_type": "markdown",
   "metadata": {},
   "source": [
    "## Define temporal scale\n"
   ]
  },
  {
   "attachments": {},
   "cell_type": "markdown",
   "metadata": {},
   "source": [
    "The variabilities of energy systems are best captured over a discretized spatio-temporal scale. In energiapy, the first declaration is the temporal scale. \n",
    "\n",
    "For e.g.: Here we declare three temporal scales at different levels from right to left. The interpretation of these scales is merely symentic. Scales can be declared as the problem demands.\n",
    "- 0, annual, with 1 discretization\n",
    "- 1, daily with 365 discretization\n",
    "- 2, hourly with 24 discretization\n",
    "\n",
    "In essence, we are creating a temporal scale of 8760 points."
   ]
  },
  {
   "attachments": {},
   "cell_type": "markdown",
   "metadata": {},
   "source": [
    "**Big and small M**"
   ]
  },
  {
   "cell_type": "code",
   "execution_count": 13,
   "metadata": {},
   "outputs": [],
   "source": [
    "bigM = 10**6\n",
    "smallM = 0 # if adding minimum capacity for infrastructure add Constrainsts.NETWORK in constraints list"
   ]
  },
  {
   "cell_type": "markdown",
   "metadata": {},
   "source": [
    "## Declare resources"
   ]
  },
  {
   "attachments": {},
   "cell_type": "markdown",
   "metadata": {},
   "source": [
    "Resources can be consumed, produced, stored, discharged (or sold). Resources measured as mass (sparing Uranium) are quantified on a per metric ton basis, energy feedstock and resources us a Mega Watt (MW) basis.\n",
    "\n",
    "- Power and Hydrogen (H2) have varying demands which are captured using deterministic data inputs\n",
    "- Methane (CH4) has varying purchase price"
   ]
  },
  {
   "cell_type": "code",
   "execution_count": 14,
   "metadata": {},
   "outputs": [
    {
     "name": "stderr",
     "output_type": "stream",
     "text": [
      "c:\\Users\\cacodcar\\energiapy\\src\\energiapy\\components\\resource.py:127: UserWarning: H2(S): discharge set to True, since sell_price is given\n",
      "  warn(f'{self.name}: discharge set to True, since sell_price is given')\n"
     ]
    }
   ],
   "source": [
    "\n",
    "Solar = Resource(name = 'Solar', cons_max=1000, basis='MW', label='Solar Power')\n",
    "Wind = Resource(name = 'Wind', cons_max=1000, basis='MW', label='Wind Power')\n",
    "Power = Resource(name = 'Power',basis='MW', label='Power generated')\n",
    "Uranium = Resource(name = 'Ur', cons_max=1000,\n",
    "                   purchase_price=42.70/(250/2), basis='kg', label='Uranium')\n",
    "H2 = Resource(name = 'H2',basis='tons', label='Hydrogen', discharge= True)\n",
    "H2_C = Resource(name = 'H2(C)',basis='tons', label='Hydrogen(C)')\n",
    "H2_sell = Resource(name = 'H2(S)',basis='tons', label='Hydrogen(Sell)', sell_price = 0.07)\n",
    "CO2_AQoff = Resource(name = 'CO2(Aq)',basis='tons',\n",
    "                     label='Carbon dioxide - sequestered')\n",
    "H2O = Resource(name = 'H2O',cons_max=1000, purchase_price=0.001, basis='tons', label='Water', block='Resource')\n",
    "CH4 = Resource(name = 'CH4', cons_max=1000, purchase_price = 0.03*1000, basis='tons',\n",
    "               label='Natural gas') #price=max(ng_price_df['CH4'])\n",
    "CO2 = Resource(name = 'CO2', basis='tons',\n",
    "               label='Carbon dioxide', block='Resource')\n",
    "CO2_Vent = Resource(name = 'CO2(V)',discharge=True, basis='tons',\n",
    "                    label='Carbon dioxide - Vented')\n",
    "O2 = Resource(name = 'O2', discharge=True, basis='tons', label='Oxygen')"
   ]
  },
  {
   "cell_type": "code",
   "execution_count": 15,
   "metadata": {},
   "outputs": [],
   "source": [
    "Water = Resource(name='H2O', cons_max= Th((0, 45)), purchase_price= Th((0, 3))) "
   ]
  },
  {
   "attachments": {},
   "cell_type": "markdown",
   "metadata": {},
   "source": [
    "## Declare processes"
   ]
  },
  {
   "attachments": {},
   "cell_type": "markdown",
   "metadata": {},
   "source": [
    "Technology costs are derived from the NREL ATB and conversion factors are derived from literature.\n",
    "\n",
    "- Solar photovoltaics (PVs) and wind farms (WFs) are subject to intermittent capacity rates"
   ]
  },
  {
   "cell_type": "code",
   "execution_count": 16,
   "metadata": {},
   "outputs": [],
   "source": [
    "\n",
    "PEM = Process(name='PEM', conversion={Power: -1, H2: 0.3537, O2: 2.8302, H2O: -3.1839}, capex=1.55*10**6, fopex=0,\n",
    "              vopex=0, cap_max=100, cap_min = 0, basis = 'tons', label = 'PEM' )\n",
    "\n",
    "# PEM = Process(name='PEM', conversion={'on': {Power: -1, H2: 0.3537, O2: 2.8302, H2O: -3.1839}, 'off': {Power: -0.8, H2: 0.3537, O2: 2.8302, H2O: -3.1839}}, capex=1.55*10**6, fopex=0,\n",
    "#               vopex=0, cap_max=100, cap_min = 0, basis = 'tons', label = 'PEM' )\n",
    "\n",
    "LiI = Process(name='LiI', storage=Power, capex=1302182, fopex=41432, vopex=2000,\n",
    "              cap_max=100, cap_min=0, store_max=10000, label='Lithium-ion battery', basis='MW')\n",
    "\n",
    "WF = Process(name='WF', conversion={Wind: -1, Power: 1}, capex=1462000, fopex=43000, vopex=4953, land = 10800/1800,\n",
    "             cap_max=1000, cap_min=0, label='Wind mill array', basis='MW')\n",
    "\n",
    "PV = Process(name='PV', conversion={Solar: -1, Power: 1}, capex=1333262, fopex=22623, vopex=4953,  land = 10000/1800,\n",
    "             cap_max=1000, cap_min=0, label='Solar PV', basis='MW')\n",
    "\n",
    "SMRH = Process(name='SMRH', conversion={Power: -1.11, CH4: -3.76, H2O: -23.7, H2: 1, CO2_Vent: 1.03, CO2: 9.332}, capex=2520000, fopex=945000, vopex=51.5,\n",
    "               cap_max=bigM, cap_min=smallM,  label='Steam methane reforming + CCUS', block='h2_prod')\n",
    "\n",
    "NGCC = Process(name='NGCC', conversion={Power: 1, CH4: -0.108, CO2_Vent: 0.297*0.05, CO2: 0.297 *\n",
    "               0.95}, capex=2158928, fopex=53320, vopex=400, cap_max=bigM, cap_min=smallM,  label='NGCC + 95% CC', block='power_gen')\n",
    "\n",
    "AqOff = Process(name='AqOff', conversion={Power: -1.50, CO2_AQoff: 0.95, CO2: -1}, capex=552000,\n",
    "                vopex=414, fopex=0, cap_max=bigM, cap_min=smallM,   label='Offshore aquifer CO2 sequestration (SMR)', block='ccus')"
   ]
  },
  {
   "attachments": {},
   "cell_type": "markdown",
   "metadata": {},
   "source": [
    "## Declare locations"
   ]
  },
  {
   "attachments": {},
   "cell_type": "markdown",
   "metadata": {},
   "source": [
    "The two locations (Houston and Athens) are declared here. Power generation, hydrogen production, and carbon capture and sequestration (CCUS) processes are available in Houston. \n",
    "\n",
    "Variability in power generation potential is considered for renewables and the fluctuating price of natural gas is also considered."
   ]
  },
  {
   "cell_type": "code",
   "execution_count": 17,
   "metadata": {},
   "outputs": [
    {
     "ename": "NameError",
     "evalue": "name 'H2_DComp' is not defined",
     "output_type": "error",
     "traceback": [
      "\u001b[1;31m---------------------------------------------------------------------------\u001b[0m",
      "\u001b[1;31mNameError\u001b[0m                                 Traceback (most recent call last)",
      "Cell \u001b[1;32mIn[17], line 7\u001b[0m\n\u001b[0;32m      1\u001b[0m ho \u001b[39m=\u001b[39m Location(name\u001b[39m=\u001b[39m\u001b[39m'\u001b[39m\u001b[39mHO\u001b[39m\u001b[39m'\u001b[39m, processes\u001b[39m=\u001b[39m {PV, WF, LiI, NGCC, PEM, SMRH, AqOff}, demand \u001b[39m=\u001b[39m {H2: \u001b[39m3000\u001b[39m},\n\u001b[0;32m      2\u001b[0m                                capacity_factor\u001b[39m=\u001b[39m{PV: solar_houston_mean[:\u001b[39m8760\u001b[39m\u001b[39m*\u001b[39mhorizon], WF: wind_houston_mean[:\u001b[39m8760\u001b[39m\u001b[39m*\u001b[39mhorizon]}, \n\u001b[0;32m      3\u001b[0m                                demand_factor \u001b[39m=\u001b[39m {H2: ercot[:\u001b[39m8760\u001b[39m\u001b[39m*\u001b[39mhorizon]}, purchase_price_factor\u001b[39m=\u001b[39m{CH4: ng_price_df[:\u001b[39m365\u001b[39m\u001b[39m*\u001b[39mhorizon]},\n\u001b[0;32m      4\u001b[0m                                scales\u001b[39m=\u001b[39mscales, label\u001b[39m=\u001b[39m\u001b[39m'\u001b[39m\u001b[39mHouston\u001b[39m\u001b[39m'\u001b[39m)\n\u001b[1;32m----> 7\u001b[0m at \u001b[39m=\u001b[39m Location(name\u001b[39m=\u001b[39m\u001b[39m'\u001b[39m\u001b[39mconsumption\u001b[39m\u001b[39m'\u001b[39m, processes\u001b[39m=\u001b[39m {H2_DComp}, scales\u001b[39m=\u001b[39mscales, label\u001b[39m=\u001b[39m\u001b[39m'\u001b[39m\u001b[39mAthens\u001b[39m\u001b[39m'\u001b[39m)\n",
      "\u001b[1;31mNameError\u001b[0m: name 'H2_DComp' is not defined"
     ]
    }
   ],
   "source": [
    "\n",
    "ho = Location(name='HO', processes= {PV, WF, LiI, NGCC, PEM, SMRH, AqOff}, demand = {H2: 3000},\n",
    "                               capacity_factor={PV: solar_houston_mean[:8760*horizon], WF: wind_houston_mean[:8760*horizon]}, \n",
    "                               demand_factor = {H2: ercot[:8760*horizon]}, purchase_price_factor={CH4: ng_price_df[:365*horizon]},\n",
    "                               scales=scales, label='Houston')\n",
    "\n",
    "\n",
    "at = Location(name='consumption', processes= {H2_DComp}, scales=scales, label='Athens')"
   ]
  },
  {
   "cell_type": "code",
   "execution_count": null,
   "metadata": {},
   "outputs": [],
   "source": [
    "scenario = Scenario(name='scenario', network=ho, scales=scales, label='full case', annualization_factor = 0.05)\n"
   ]
  },
  {
   "cell_type": "code",
   "execution_count": 23,
   "metadata": {},
   "outputs": [],
   "source": [
    "component_sets = {\n",
    "'resources': [i.name for i in scenario.resource_set],\n",
    "'processes': [i.name for i in scenario.process_set],\n",
    "'materials': [i.name for i in scenario.material_set],\n",
    "'locations': [i.name for i in scenario.location_set],\n",
    "}"
   ]
  },
  {
   "cell_type": "code",
   "execution_count": 36,
   "metadata": {},
   "outputs": [
    {
     "data": {
      "text/plain": [
       "{HO: {CO2(V), H2, O2}}"
      ]
     },
     "execution_count": 36,
     "metadata": {},
     "output_type": "execute_result"
    }
   ],
   "source": [
    "scenario.location_resources_discharge"
   ]
  },
  {
   "cell_type": "code",
   "execution_count": 32,
   "metadata": {},
   "outputs": [
    {
     "data": {
      "text/plain": [
       "{CH4, CO2, CO2(Aq), CO2(V), H2, H2O, LiI_Power_stored, O2, Power, Solar, Wind}"
      ]
     },
     "execution_count": 32,
     "metadata": {},
     "output_type": "execute_result"
    }
   ],
   "source": [
    "scenario.resource_set"
   ]
  },
  {
   "cell_type": "code",
   "execution_count": null,
   "metadata": {},
   "outputs": [],
   "source": [
    "{i.name for i in scenario.resource_set if ResourceType.CAPACITY in i.ptype.keys() if i.ptype[ProcessType.CAPACITY] == ParameterType.DETERMINISTIC_DATA}"
   ]
  },
  {
   "cell_type": "code",
   "execution_count": 25,
   "metadata": {},
   "outputs": [
    {
     "data": {
      "text/plain": [
       "['H2', 'CO2(Aq)', 'CO2(V)', 'O2']"
      ]
     },
     "execution_count": 25,
     "metadata": {},
     "output_type": "execute_result"
    }
   ],
   "source": [
    "[i.name for i in scenario.resource_set if ResourceType.DISCHARGE in i.ctype]"
   ]
  },
  {
   "cell_type": "code",
   "execution_count": null,
   "metadata": {},
   "outputs": [],
   "source": [
    "\n",
    "\n",
    "resource_subsets = {\n",
    "    \n",
    "    'resources_store': [i.name for i in scenario.resource_store],\n",
    "    \n",
    "    'resources_produce': [i.name for i in scenario.resource_produced],\n",
    "    \n",
    "    'resources_implicit': [i.name for i in scenario.resource_set if  ResourceType.IMPLICIT in i.ctype],\n",
    "    \n",
    "    'resources_discharge': [i.name for i in scenario.resource_set if ResourceType.DISCHARGE in i.ctype],\n",
    "    \n",
    "    'resources_sell': [i.name for i in scenario.resource_set if ResourceType.SELL in i.ctype],\n",
    "\n",
    "    'resources_consume': [i.name for i in scenario.resource_set if ResourceType.CONSUME in i.ctype], \n",
    "\n",
    "    'resources_purchase': [i.name for i in scenario.resource_set if ResourceType.PURCHASE in i.ctype],\n",
    "    \n",
    "    'resources_demand': [i.name for i in scenario.resource_set if ResourceType.PURCHASE in i.ctype],\n",
    "    \n",
    "    'resources_varying_availability': [i.name for i in scenario.resource_set if\n",
    "                                        VaryingResource.DETERMINISTIC_AVAILABILITY in i.varying],\n",
    "    'resources_certain_availability': [i.name for i in scenario.resource_set if\n",
    "                                        VaryingResource.CERTAIN_AVAILABILITY in i.varying],\n",
    "    'resources_uncertain_availability': [i.name for i in scenario.resource_set if\n",
    "                                            VaryingResource.UNCERTAIN_AVAILABILITY in i.varying],\n",
    "\n",
    "    \n",
    "\n",
    "    'resources_varying_demand': [i.name for i in scenario.resource_set if\n",
    "                                    VaryingResource.DETERMINISTIC_DEMAND in i.varying],\n",
    "    'resources_certain_demand': [i.name for i in scenario.resource_set if\n",
    "                                    VaryingResource.CERTAIN_DEMAND in i.varying],\n",
    "    'resources_uncertain_demand': [i.name for i in scenario.resource_set if\n",
    "                                    VaryingResource.UNCERTAIN_DEMAND in i.varying],\n",
    "\n",
    "    'resources_varying_price': [i.name for i in scenario.resource_set if\n",
    "                                VaryingResource.DETERMINISTIC_PRICE in i.varying],\n",
    "    'resources_certain_price': [i.name for i in scenario.resource_set if\n",
    "                                VaryingResource.CERTAIN_PRICE in i.varying],\n",
    "    'resources_uncertain_price': [i.name for i in scenario.resource_set if\n",
    "                                    VaryingResource.UNCERTAIN_PRICE in i.varying],\n",
    "\n",
    "    'resources_varying_revenue': [i.name for i in scenario.resource_set if\n",
    "                                    VaryingResource.DETERMINISTIC_REVENUE in i.varying],\n",
    "    'resources_certain_revenue': [i.name for i in scenario.resource_set if\n",
    "                                    VaryingResource.CERTAIN_REVENUE in i.varying],\n",
    "    'resources_uncertain_revenue': [i.name for i in scenario.resource_set if\n",
    "                                    VaryingResource.UNCERTAIN_REVENUE in i.varying],\n",
    "\n",
    "\n",
    "\n",
    "\n",
    "\n",
    "}"
   ]
  },
  {
   "cell_type": "code",
   "execution_count": 26,
   "metadata": {},
   "outputs": [
    {
     "data": {
      "text/plain": [
       "{'generation': {'CH4', 'H2O', 'Solar', 'Wind'}}"
      ]
     },
     "execution_count": 26,
     "metadata": {},
     "output_type": "execute_result"
    }
   ],
   "source": [
    "scenario.location_resource_purch_dict"
   ]
  },
  {
   "cell_type": "code",
   "execution_count": 21,
   "metadata": {},
   "outputs": [
    {
     "data": {
      "text/plain": [
       "{CH4, CO2, CO2(Aq), CO2(V), H2, H2O, LiI_Power_stored, O2, Power, Solar, Wind}"
      ]
     },
     "execution_count": 21,
     "metadata": {},
     "output_type": "execute_result"
    }
   ],
   "source": [
    "set_dict = {\n",
    "\n",
    "\n",
    "    'processes_failure': [i.name for i in scenario.process_set if i.p_fail is not None],\n",
    "\n",
    "    'processes_materials': [i.name for i in scenario.process_set if i.material_cons is not None],\n",
    "\n",
    "    'processes_storage': [i.name for i in scenario.process_set if i.conversion_discharge is not None],\n",
    "\n",
    "    'processes_multim': [i.name for i in scenario.process_set if i.processmode == ProcessMode.MULTI],\n",
    "    'processes_singlem': [i.name for i in scenario.process_set if\n",
    "                            (i.processmode == ProcessMode.SINGLE) or (i.processmode == ProcessMode.STORAGE)],\n",
    "\n",
    "    'processes_certain_capacity': [i.name for i in scenario.process_set if\n",
    "                                    VaryingProcess.CERTAIN_CAPACITY in i.varying],\n",
    "    'processes_varying_capacity': [i.name for i in scenario.process_set if\n",
    "                                    VaryingProcess.DETERMINISTIC_CAPACITY in i.varying],\n",
    "    'processes_uncertain_capacity': [i.name for i in scenario.process_set if\n",
    "                                        VaryingProcess.UNCERTAIN_CAPACITY in i.varying],\n",
    "\n",
    "    'processes_certain_expenditure': [i.name for i in scenario.process_set if\n",
    "                                        VaryingProcess.CERTAIN_EXPENDITURE in i.varying],\n",
    "    'processes_varying_expenditure': [i.name for i in scenario.process_set if\n",
    "                                        VaryingProcess.DETERMINISTIC_EXPENDITURE in i.varying],\n",
    "    'processes_uncertain_expenditure': [i.name for i in scenario.process_set if\n",
    "                                        VaryingProcess.UNCERTAIN_EXPENDITURE in i.varying],\n",
    "\n",
    "    'processes_segments': [i.name for i in scenario.process_set if i.cost_dynamics == CostDynamics.PWL],\n",
    "\n",
    "\n",
    "\n",
    "    'process_material_modes': process_material_modes,\n",
    "\n",
    "    'material_modes': [element for dictionary in list(i.material_modes for i in scenario.process_set) for element in dictionary],\n",
    "\n",
    "    'process_modes': [(j[0], i) for j in [(i.name, i.modes) for i in scenario.process_set if i.processmode is ProcessMode.MULTI] for i in j[1]]\n",
    "}\n"
   ]
  },
  {
   "cell_type": "code",
   "execution_count": null,
   "metadata": {},
   "outputs": [
    {
     "data": {
      "text/plain": [
       "{generation: {H2: 3000}}"
      ]
     },
     "execution_count": 29,
     "metadata": {},
     "output_type": "execute_result"
    }
   ],
   "source": [
    "scenario_bc.demand "
   ]
  },
  {
   "cell_type": "code",
   "execution_count": 20,
   "metadata": {},
   "outputs": [
    {
     "name": "stdout",
     "output_type": "stream",
     "text": [
      "LiI_Power_stored [<ResourceType.PRODUCE: 2>, <ResourceType.IMPLICIT: 3>, <ResourceType.STORE: 1>]\n",
      "Power [<ResourceType.PRODUCE: 2>, <ResourceType.IMPLICIT: 3>]\n",
      "Wind [<ResourceType.CONSUME: 6>]\n",
      "CO2(Aq) [<ResourceType.DISCHARGE: 4>, <ResourceType.PRODUCE: 2>]\n",
      "CO2 [<ResourceType.PRODUCE: 2>, <ResourceType.IMPLICIT: 3>]\n",
      "CH4 [<ResourceType.CONSUME: 6>, <ResourceType.PURCHASE: 7>]\n",
      "O2 [<ResourceType.DISCHARGE: 4>, <ResourceType.PRODUCE: 2>]\n",
      "Solar [<ResourceType.CONSUME: 6>]\n",
      "H2O [<ResourceType.CONSUME: 6>, <ResourceType.PURCHASE: 7>]\n",
      "CO2(V) [<ResourceType.DISCHARGE: 4>, <ResourceType.PRODUCE: 2>]\n",
      "H2 [<ResourceType.DISCHARGE: 4>, <ResourceType.PRODUCE: 2>, <ResourceType.DEMAND: 8>]\n"
     ]
    }
   ],
   "source": [
    "for i in ho.resources:\n",
    "    print(i, i.ctype)"
   ]
  },
  {
   "cell_type": "code",
   "execution_count": 21,
   "metadata": {},
   "outputs": [
    {
     "name": "stdout",
     "output_type": "stream",
     "text": [
      "LiI_Power_stored {<ResourceType.PRODUCE: 2>: <ParameterType.CERTAIN: 1>, <ResourceType.IMPLICIT: 3>: <ParameterType.CERTAIN: 1>, <ResourceType.STORE: 1>: <ParameterType.CERTAIN: 1>}\n",
      "Power {<ResourceType.PRODUCE: 2>: <ParameterType.CERTAIN: 1>, <ResourceType.IMPLICIT: 3>: <ParameterType.CERTAIN: 1>}\n",
      "Wind {<ResourceType.CONSUME: 6>: <ParameterType.CERTAIN: 1>}\n",
      "CO2(Aq) {<ResourceType.DISCHARGE: 4>: <ParameterType.CERTAIN: 1>, <ResourceType.PRODUCE: 2>: <ParameterType.CERTAIN: 1>}\n",
      "CO2 {<ResourceType.PRODUCE: 2>: <ParameterType.CERTAIN: 1>, <ResourceType.IMPLICIT: 3>: <ParameterType.CERTAIN: 1>}\n",
      "CH4 {<ResourceType.CONSUME: 6>: <ParameterType.CERTAIN: 1>, <ResourceType.PURCHASE: 7>: <ParameterType.DETERMINISTIC_DATA: 2>}\n",
      "O2 {<ResourceType.DISCHARGE: 4>: <ParameterType.CERTAIN: 1>, <ResourceType.PRODUCE: 2>: <ParameterType.CERTAIN: 1>}\n",
      "Solar {<ResourceType.CONSUME: 6>: <ParameterType.CERTAIN: 1>}\n",
      "H2O {<ResourceType.CONSUME: 6>: <ParameterType.CERTAIN: 1>, <ResourceType.PURCHASE: 7>: <ParameterType.CERTAIN: 1>}\n",
      "CO2(V) {<ResourceType.DISCHARGE: 4>: <ParameterType.CERTAIN: 1>, <ResourceType.PRODUCE: 2>: <ParameterType.CERTAIN: 1>}\n",
      "H2 {<ResourceType.DISCHARGE: 4>: <ParameterType.CERTAIN: 1>, <ResourceType.PRODUCE: 2>: <ParameterType.CERTAIN: 1>, <ResourceType.DEMAND: 8>: <ParameterType.DETERMINISTIC_DATA: 2>}\n"
     ]
    }
   ],
   "source": [
    "for i in ho.resources:\n",
    "    print(i, i.ptype)"
   ]
  },
  {
   "cell_type": "code",
   "execution_count": 22,
   "metadata": {},
   "outputs": [
    {
     "name": "stdout",
     "output_type": "stream",
     "text": [
      "[<ProcessType.CAPACITY: 9>, <ProcessType.CAPEX: 10>, <ProcessType.LINEAR_CAPEX: 7>, <ProcessType.FOPEX: 11>, <ProcessType.VOPEX: 12>, <ProcessType.SINGLE_PRODMODE: 1>, <ProcessType.NO_MATMODE: 3>]\n",
      "[<ProcessType.CAPACITY: 9>, <ProcessType.CAPEX: 10>, <ProcessType.LINEAR_CAPEX: 7>, <ProcessType.FOPEX: 11>, <ProcessType.VOPEX: 12>, <ProcessType.SINGLE_PRODMODE: 1>, <ProcessType.NO_MATMODE: 3>]\n",
      "[<ProcessType.CAPACITY: 9>, <ProcessType.CAPEX: 10>, <ProcessType.LINEAR_CAPEX: 7>, <ProcessType.FOPEX: 11>, <ProcessType.VOPEX: 12>, <ProcessType.SINGLE_PRODMODE: 1>, <ProcessType.NO_MATMODE: 3>]\n",
      "[<ProcessType.CAPACITY: 9>, <ProcessType.CAPEX: 10>, <ProcessType.LINEAR_CAPEX: 7>, <ProcessType.FOPEX: 11>, <ProcessType.VOPEX: 12>, <ProcessType.SINGLE_PRODMODE: 1>, <ProcessType.NO_MATMODE: 3>]\n",
      "[<ProcessType.CAPACITY: 9>, <ProcessType.CAPEX: 10>, <ProcessType.LINEAR_CAPEX: 7>, <ProcessType.FOPEX: 11>, <ProcessType.VOPEX: 12>, <ProcessType.SINGLE_PRODMODE: 1>, <ProcessType.NO_MATMODE: 3>]\n",
      "[<ProcessType.CAPACITY: 9>, <ProcessType.CAPEX: 10>, <ProcessType.LINEAR_CAPEX: 7>, <ProcessType.FOPEX: 11>, <ProcessType.VOPEX: 12>, <ProcessType.SINGLE_PRODMODE: 1>, <ProcessType.NO_MATMODE: 3>]\n",
      "[<ProcessType.CAPACITY: 9>, <ProcessType.CAPEX: 10>, <ProcessType.LINEAR_CAPEX: 7>, <ProcessType.FOPEX: 11>, <ProcessType.VOPEX: 12>, <ProcessType.SINGLE_PRODMODE: 1>, <ProcessType.NO_MATMODE: 3>]\n",
      "[<ProcessType.CAPACITY: 9>, <ProcessType.CAPEX: 10>, <ProcessType.LINEAR_CAPEX: 7>, <ProcessType.FOPEX: 11>, <ProcessType.VOPEX: 12>, <ProcessType.NO_MATMODE: 3>, <ProcessType.STORAGE: 5>]\n"
     ]
    }
   ],
   "source": [
    "for i in ho.processes:\n",
    "    print(i.ctype)"
   ]
  },
  {
   "cell_type": "code",
   "execution_count": 23,
   "metadata": {},
   "outputs": [
    {
     "name": "stdout",
     "output_type": "stream",
     "text": [
      "PEM {<ProcessType.CAPACITY: 9>: <ParameterType.CERTAIN: 1>, <ProcessType.CAPEX: 10>: <ParameterType.CERTAIN: 1>, <ProcessType.LINEAR_CAPEX: 7>: <ParameterType.CERTAIN: 1>, <ProcessType.FOPEX: 11>: <ParameterType.CERTAIN: 1>, <ProcessType.VOPEX: 12>: <ParameterType.CERTAIN: 1>}\n",
      "LiI_discharge {<ProcessType.CAPACITY: 9>: <ParameterType.CERTAIN: 1>, <ProcessType.CAPEX: 10>: <ParameterType.CERTAIN: 1>, <ProcessType.LINEAR_CAPEX: 7>: <ParameterType.CERTAIN: 1>, <ProcessType.FOPEX: 11>: <ParameterType.CERTAIN: 1>, <ProcessType.VOPEX: 12>: <ParameterType.CERTAIN: 1>}\n",
      "WF {<ProcessType.CAPACITY: 9>: <ParameterType.DETERMINISTIC_DATA: 2>, <ProcessType.CAPEX: 10>: <ParameterType.CERTAIN: 1>, <ProcessType.LINEAR_CAPEX: 7>: <ParameterType.CERTAIN: 1>, <ProcessType.FOPEX: 11>: <ParameterType.CERTAIN: 1>, <ProcessType.VOPEX: 12>: <ParameterType.CERTAIN: 1>}\n",
      "AqOff {<ProcessType.CAPACITY: 9>: <ParameterType.CERTAIN: 1>, <ProcessType.CAPEX: 10>: <ParameterType.CERTAIN: 1>, <ProcessType.LINEAR_CAPEX: 7>: <ParameterType.CERTAIN: 1>, <ProcessType.FOPEX: 11>: <ParameterType.CERTAIN: 1>, <ProcessType.VOPEX: 12>: <ParameterType.CERTAIN: 1>}\n",
      "NGCC {<ProcessType.CAPACITY: 9>: <ParameterType.CERTAIN: 1>, <ProcessType.CAPEX: 10>: <ParameterType.CERTAIN: 1>, <ProcessType.LINEAR_CAPEX: 7>: <ParameterType.CERTAIN: 1>, <ProcessType.FOPEX: 11>: <ParameterType.CERTAIN: 1>, <ProcessType.VOPEX: 12>: <ParameterType.CERTAIN: 1>}\n",
      "SMRH {<ProcessType.CAPACITY: 9>: <ParameterType.CERTAIN: 1>, <ProcessType.CAPEX: 10>: <ParameterType.CERTAIN: 1>, <ProcessType.LINEAR_CAPEX: 7>: <ParameterType.CERTAIN: 1>, <ProcessType.FOPEX: 11>: <ParameterType.CERTAIN: 1>, <ProcessType.VOPEX: 12>: <ParameterType.CERTAIN: 1>}\n",
      "PV {<ProcessType.CAPACITY: 9>: <ParameterType.DETERMINISTIC_DATA: 2>, <ProcessType.CAPEX: 10>: <ParameterType.CERTAIN: 1>, <ProcessType.LINEAR_CAPEX: 7>: <ParameterType.CERTAIN: 1>, <ProcessType.FOPEX: 11>: <ParameterType.CERTAIN: 1>, <ProcessType.VOPEX: 12>: <ParameterType.CERTAIN: 1>}\n",
      "LiI {<ProcessType.CAPACITY: 9>: <ParameterType.CERTAIN: 1>, <ProcessType.CAPEX: 10>: <ParameterType.CERTAIN: 1>, <ProcessType.LINEAR_CAPEX: 7>: <ParameterType.CERTAIN: 1>, <ProcessType.FOPEX: 11>: <ParameterType.CERTAIN: 1>, <ProcessType.VOPEX: 12>: <ParameterType.CERTAIN: 1>}\n"
     ]
    }
   ],
   "source": [
    "for i in ho.processes:\n",
    "    print(i, i.ptype)"
   ]
  },
  {
   "cell_type": "code",
   "execution_count": null,
   "metadata": {},
   "outputs": [],
   "source": [
    "{i.name for i in ho.resources if ResourceType.CAPACITY in i.ptype.keys() if i.ptype[ProcessType.CAPACITY] == ParameterType.DETERMINISTIC_DATA}"
   ]
  },
  {
   "cell_type": "code",
   "execution_count": 27,
   "metadata": {},
   "outputs": [
    {
     "data": {
      "text/plain": [
       "{'PV', 'WF'}"
      ]
     },
     "execution_count": 27,
     "metadata": {},
     "output_type": "execute_result"
    }
   ],
   "source": [
    "{i.name for i in ho.processes if ProcessType.CAPACITY in i.ptype.keys() if i.ptype[ProcessType.CAPACITY] == ParameterType.DETERMINISTIC_DATA}"
   ]
  },
  {
   "cell_type": "code",
   "execution_count": 22,
   "metadata": {},
   "outputs": [
    {
     "data": {
      "text/plain": [
       "energiapy.components.location.Location"
      ]
     },
     "execution_count": 22,
     "metadata": {},
     "output_type": "execute_result"
    }
   ],
   "source": []
  },
  {
   "cell_type": "code",
   "execution_count": 21,
   "metadata": {},
   "outputs": [
    {
     "data": {
      "text/plain": [
       "{<ProcessType.CAPACITY: 9>: <ParameterType.DETERMINISTIC: 2>}"
      ]
     },
     "execution_count": 21,
     "metadata": {},
     "output_type": "execute_result"
    }
   ],
   "source": [
    "PV.ptype"
   ]
  },
  {
   "cell_type": "code",
   "execution_count": 18,
   "metadata": {},
   "outputs": [
    {
     "data": {
      "text/plain": [
       "[<ProcessType.CAPACITY: 9>,\n",
       " <ProcessType.CAPEX: 10>,\n",
       " <ProcessType.LINEAR_CAPEX: 7>,\n",
       " <ProcessType.FOPEX: 11>,\n",
       " <ProcessType.VOPEX: 12>,\n",
       " <ProcessType.MULTI_PRODMODE: 2>,\n",
       " <ProcessType.NO_MATMODE: 3>]"
      ]
     },
     "execution_count": 18,
     "metadata": {},
     "output_type": "execute_result"
    }
   ],
   "source": [
    "PEM.ctype"
   ]
  },
  {
   "attachments": {},
   "cell_type": "markdown",
   "metadata": {},
   "source": [
    "## Declare transport"
   ]
  },
  {
   "attachments": {},
   "cell_type": "markdown",
   "metadata": {},
   "source": [
    "A ship is defined which can transport compressed hydrogen. There is very little information avaible on ships specialized for the transport of hydrogen. \n",
    "\n",
    "Thus the values are assumed"
   ]
  },
  {
   "cell_type": "code",
   "execution_count": 37,
   "metadata": {},
   "outputs": [],
   "source": [
    "ship = Transport(name= 'Ship', resources= {H2_C}, trans_max= bigM, trans_loss= 0.001, capex= 2*10**3, vopex = 0.01\n",
    "    , label= 'Ship for transporting hydrogen')\n"
   ]
  },
  {
   "attachments": {},
   "cell_type": "markdown",
   "metadata": {},
   "source": [
    "## Declare network"
   ]
  },
  {
   "attachments": {},
   "cell_type": "markdown",
   "metadata": {},
   "source": [
    "The distance and transport matrices are defined and used to generate a network between Houston and Athens"
   ]
  },
  {
   "cell_type": "code",
   "execution_count": 38,
   "metadata": {},
   "outputs": [
    {
     "ename": "NameError",
     "evalue": "name 'at' is not defined",
     "output_type": "error",
     "traceback": [
      "\u001b[1;31m---------------------------------------------------------------------------\u001b[0m",
      "\u001b[1;31mNameError\u001b[0m                                 Traceback (most recent call last)",
      "Cell \u001b[1;32mIn[38], line 8\u001b[0m\n\u001b[0;32m      1\u001b[0m distance_matrix \u001b[39m=\u001b[39m [\n\u001b[0;32m      2\u001b[0m     [\u001b[39m6322\u001b[39m] ]\n\u001b[0;32m      4\u001b[0m transport_matrix \u001b[39m=\u001b[39m [\n\u001b[0;32m      5\u001b[0m     [[ship]] ]\n\u001b[0;32m      7\u001b[0m network \u001b[39m=\u001b[39m Network(name\u001b[39m=\u001b[39m \u001b[39m'\u001b[39m\u001b[39mNetwork\u001b[39m\u001b[39m'\u001b[39m, source_locations\u001b[39m=\u001b[39m [ho], \n\u001b[1;32m----> 8\u001b[0m                   sink_locations\u001b[39m=\u001b[39m [at], \n\u001b[0;32m      9\u001b[0m                   distance_matrix\u001b[39m=\u001b[39m distance_matrix, transport_matrix\u001b[39m=\u001b[39m transport_matrix, scales \u001b[39m=\u001b[39m scales) \n",
      "\u001b[1;31mNameError\u001b[0m: name 'at' is not defined"
     ]
    }
   ],
   "source": [
    "distance_matrix = [\n",
    "    [6322] ]\n",
    "\n",
    "transport_matrix = [\n",
    "    [[ship]] ]\n",
    "\n",
    "network = Network(name= 'Network', source_locations= [ho], \n",
    "                  sink_locations= [at], \n",
    "                  distance_matrix= distance_matrix, transport_matrix= transport_matrix, scales = scales) "
   ]
  },
  {
   "attachments": {},
   "cell_type": "markdown",
   "metadata": {},
   "source": [
    "## Variability factors"
   ]
  },
  {
   "cell_type": "code",
   "execution_count": null,
   "metadata": {},
   "outputs": [
    {
     "data": {
      "image/png": "[encoded data removed]",
      "text/plain": [
       "<Figure size 1200x600 with 1 Axes>"
      ]
     },
     "metadata": {},
     "output_type": "display_data"
    }
   ],
   "source": [
    "# plot_location.capacity_factor(process=PV, location=ho)\n",
    "# plot_location.capacity_factor(process=WF, location=ho)\n",
    "plot_location.price_factor(resource=CH4, location=ho)"
   ]
  },
  {
   "attachments": {},
   "cell_type": "markdown",
   "metadata": {},
   "source": [
    "## Declare scenario \n",
    "\n",
    "In the base case all processes are considered and the demand is met annually."
   ]
  },
  {
   "cell_type": "code",
   "execution_count": 19,
   "metadata": {},
   "outputs": [
    {
     "ename": "NameError",
     "evalue": "name 'at' is not defined",
     "output_type": "error",
     "traceback": [
      "\u001b[1;31m---------------------------------------------------------------------------\u001b[0m",
      "\u001b[1;31mNameError\u001b[0m                                 Traceback (most recent call last)",
      "Cell \u001b[1;32mIn[19], line 2\u001b[0m\n\u001b[0;32m      1\u001b[0m scenario_bc \u001b[39m=\u001b[39m Scenario(name\u001b[39m=\u001b[39m\u001b[39m'\u001b[39m\u001b[39mscenario_bc\u001b[39m\u001b[39m'\u001b[39m, network\u001b[39m=\u001b[39mnetwork, scales\u001b[39m=\u001b[39mscales, scheduling_scale_level\u001b[39m=\u001b[39m\u001b[39m2\u001b[39m,\n\u001b[1;32m----> 2\u001b[0m                     network_scale_level\u001b[39m=\u001b[39m\u001b[39m0\u001b[39m, demand_scale_level\u001b[39m=\u001b[39m\u001b[39m0\u001b[39m, label\u001b[39m=\u001b[39m\u001b[39m'\u001b[39m\u001b[39mfull case\u001b[39m\u001b[39m'\u001b[39m, demand\u001b[39m=\u001b[39m {at: {H2_sell: \u001b[39m3000\u001b[39m}}, annualization_factor \u001b[39m=\u001b[39m \u001b[39m0.05\u001b[39m)\n",
      "\u001b[1;31mNameError\u001b[0m: name 'at' is not defined"
     ]
    }
   ],
   "source": [
    "scenario_bc = Scenario(name='scenario_bc', network=network, scales=scales, scheduling_scale_level=2,\n",
    "                    network_scale_level=0, demand_scale_level=0, label='full case', demand= {at: {H2_sell: 3000}}, annualization_factor = 0.05)\n"
   ]
  },
  {
   "attachments": {},
   "cell_type": "markdown",
   "metadata": {},
   "source": [
    "## Formulate MILP model"
   ]
  },
  {
   "cell_type": "code",
   "execution_count": null,
   "metadata": {},
   "outputs": [
    {
     "name": "stdout",
     "output_type": "stream",
     "text": [
      "min cost\n",
      "\n",
      "s.t.\n",
      "\n",
      "constraint process capex\n",
      "constraint location capex\n",
      "constraint network capex\n",
      "constraint total capex\n",
      "constraint process fopex\n",
      "constraint location fopex\n",
      "constraint network fopex\n",
      "constraint total fopex\n",
      "constraint process vopex\n",
      "constraint location vopex\n",
      "constraint network vopex\n",
      "constraint total vopex\n",
      "constraint resource purchase certain\n",
      "constraint resource purchase varying\n",
      "constraint location resource purchase\n",
      "constraint network resource purchase\n",
      "constraint total purchase\n",
      "constraint transport capex\n",
      "constraint transport network capex\n",
      "constraint transport export network\n",
      "constraint transport vopex\n",
      "constraint transport network vopex\n",
      "constraint transport fopex\n",
      "constraint transport network fopex\n",
      "constraint transport total capex\n",
      "constraint transport total vopex\n",
      "constraint transport total fopex\n",
      "constraint total cost\n",
      "constraint nameplate inventory\n",
      "constraint storage max\n",
      "constraint storage min\n",
      "constraint production mode\n",
      "constraint nameplate production certain capacity\n",
      "constraint nameplate production varying capacity\n",
      "constraint production max\n",
      "constraint production min\n",
      "constraint inventory balance\n",
      "constraint resource consumption certain\n",
      "constraint resource consumption varying\n",
      "constraint location production\n",
      "constraint location resource discharge\n",
      "constraint location resource consumption\n",
      "constraint network production\n",
      "constraint network resource discharge\n",
      "constraint network resource consumption\n",
      "constraint inventory network\n",
      "constraint resource export\n",
      "constraint transport export\n",
      "constraint export\n",
      "constraint transport capacity UB no bin\n",
      "constraint transport capacity LB no bin\n",
      "constraint resource demand\n",
      "\n",
      "model formulated in 23.352967739105225 seconds\n"
     ]
    }
   ],
   "source": [
    "milp_bc = formulate(scenario = scenario_bc, constraints={Constraints.COST, Constraints.INVENTORY, Constraints.PRODUCTION,\n",
    "                      Constraints.RESOURCE_BALANCE, Constraints.DEMAND, Constraints.TRANSPORT}, objective= Objective.COST) "
   ]
  },
  {
   "cell_type": "code",
   "execution_count": 21,
   "metadata": {},
   "outputs": [
    {
     "name": "stdout",
     "output_type": "stream",
     "text": [
      "Set parameter QCPDual to value 1\n",
      "Gurobi Optimizer version 10.0.2 build v10.0.2rc0 (win64)\n",
      "\n",
      "CPU model: Intel(R) Core(TM) i7-6700 CPU @ 3.40GHz, instruction set [SSE2|AVX|AVX2]\n",
      "Thread count: 4 physical cores, 8 logical processors, using up to 8 threads\n",
      "\n",
      "Optimize a model with 446929 rows, 359353 columns and 1222108 nonzeros\n",
      "Model fingerprint: 0x5d844093\n",
      "Coefficient statistics:\n",
      "  Matrix range     [4e-05, 9e+05]\n",
      "  Objective range  [1e+00, 1e+00]\n",
      "  Bounds range     [0e+00, 0e+00]\n",
      "  RHS range        [1e+02, 1e+06]\n",
      "Presolve removed 320181 rows and 267636 columns\n",
      "Presolve time: 1.27s\n",
      "Presolved: 126748 rows, 91717 columns, 415279 nonzeros\n",
      "\n",
      "Concurrent LP optimizer: dual simplex and barrier\n",
      "Showing barrier log only...\n",
      "\n",
      "Ordering time: 0.06s\n",
      "\n",
      "Barrier statistics:\n",
      " Dense cols : 11\n",
      " AA' NZ     : 6.214e+05\n",
      " Factor NZ  : 2.043e+06 (roughly 100 MB of memory)\n",
      " Factor Ops : 3.542e+07 (less than 1 second per iteration)\n",
      " Threads    : 3\n",
      "\n",
      "                  Objective                Residual\n",
      "Iter       Primal          Dual         Primal    Dual     Compl     Time\n",
      "   0   1.55725629e+12 -1.60564807e+13  4.15e+03 6.25e+03  8.46e+08     2s\n",
      "   1   1.28787466e+12 -1.39344978e+13  5.59e+03 1.32e+05  6.58e+08     2s\n",
      "   2   1.24876069e+12 -1.06579911e+13  5.28e+03 7.02e+04  4.46e+08     2s\n",
      "   3   2.76373069e+11 -6.32259287e+12  1.03e+03 1.38e+03  8.95e+07     2s\n",
      "   4   1.26032262e+11 -1.86491978e+12  4.08e+02 2.69e+01  2.77e+07     2s\n",
      "   5   3.64764034e+10 -1.00880144e+12  3.40e+01 3.78e+00  5.42e+06     2s\n",
      "   6   1.58898940e+10 -2.51102669e+11  5.63e+00 2.32e-01  1.08e+06     2s\n",
      "   7   6.83419569e+09 -1.47665919e+10  2.69e-11 1.73e-03  7.87e+04     3s\n",
      "   8   2.00242425e+09 -2.45693093e+09  1.24e-11 2.18e-06  1.62e+04     3s\n",
      "   9   8.00630288e+08 -9.27313921e+08  1.99e-11 8.19e-07  6.29e+03     3s\n",
      "  10   4.22894910e+08 -7.21031206e+08  2.98e-11 6.66e-07  4.17e+03     3s\n",
      "  11   2.13322000e+08 -2.64532692e+08  4.81e-11 2.48e-07  1.74e+03     3s\n",
      "  12   6.00510008e+07 -8.29549098e+07  2.43e-10 9.91e-08  5.21e+02     3s\n",
      "  13   1.78825493e+07 -3.69835788e+07  3.32e-10 4.83e-08  2.00e+02     3s\n",
      "  14   4.43519608e+06 -3.87960952e+05  7.22e-11 2.17e-08  1.75e+01     3s\n",
      "  15   1.72123870e+06  1.55666819e+05  1.47e-11 1.06e-08  5.69e+00     4s\n",
      "  16   1.19798212e+06  6.12880171e+05  3.82e-12 1.08e-08  2.13e+00     4s\n",
      "  17   9.82675215e+05  9.57476186e+05  4.53e-13 6.82e-09  9.16e-02     4s\n",
      "  18   9.62990338e+05  9.62964226e+05  6.73e-16 5.15e-09  9.49e-05     4s\n",
      "  19   9.62970320e+05  9.62967967e+05  3.39e-10 8.30e-09  7.10e-06     5s\n",
      "  20   9.62970236e+05  9.62970124e+05  8.23e-11 1.05e-08  3.82e-07     5s\n",
      "  21   9.62970125e+05  9.62970125e+05  2.55e-09 6.60e-09  1.45e-11     5s\n",
      "\n",
      "Barrier solved model in 21 iterations and 5.41 seconds (1.97 work units)\n",
      "Optimal objective 9.62970125e+05\n",
      "\n",
      "Crossover log...\n",
      "\n",
      "   91708 DPushes remaining with DInf 1.2500000e-05                 6s\n",
      "    6882 DPushes remaining with DInf 1.2500000e-05                10s\n",
      "       0 DPushes remaining with DInf 1.2500000e-05                14s\n",
      "\n",
      "       0 PPushes remaining with PInf 0.0000000e+00                14s\n",
      "\n",
      "  Push phase complete: Pinf 0.0000000e+00, Dinf 1.2579065e-05     14s\n",
      "\n",
      "Iteration    Objective       Primal Inf.    Dual Inf.      Time\n",
      "   43807    9.6297063e+05   0.000000e+00   1.250000e-05     14s\n",
      "\n",
      "Solved with barrier\n",
      "   43809    9.6297013e+05   0.000000e+00   0.000000e+00     15s\n",
      "\n",
      "Solved in 43809 iterations and 14.61 seconds (55.57 work units)\n",
      "Optimal objective  9.629701253e+05\n",
      "\n",
      "The model took 14.638999938964844 seconds to solve\n",
      "\n",
      "\n",
      "It took 0.18014049530029297 seconds to save the results as a .pkl file\n",
      "\n",
      "\n",
      "Total time needed to generate result was 51.63577723503113 seconds\n",
      "\n"
     ]
    }
   ],
   "source": [
    "results_bc = solve(scenario = scenario_bc, instance = milp_bc, solver= 'gurobi', name= 'results_bc', print_solversteps= True, saveformat='.pkl')"
   ]
  },
  {
   "cell_type": "code",
   "execution_count": 22,
   "metadata": {},
   "outputs": [
    {
     "data": {
      "text/plain": [
       "{('consumption', 'ASMR', 0): 0.0,\n",
       " ('consumption', 'AqOff', 0): 0.0,\n",
       " ('consumption', 'H2_Comp', 0): 0.0,\n",
       " ('consumption', 'H2_DComp', 0): 3000.0000000001432,\n",
       " ('consumption', 'LiI', 0): 0.0,\n",
       " ('consumption', 'LiI_discharge', 0): 0.0,\n",
       " ('consumption', 'NGCC', 0): 0.0,\n",
       " ('consumption', 'PEM', 0): 0.0,\n",
       " ('consumption', 'PV', 0): 0.0,\n",
       " ('consumption', 'SMRH', 0): 0.0,\n",
       " ('consumption', 'WF', 0): 0.0,\n",
       " ('generation', 'ASMR', 0): 9732.764206956585,\n",
       " ('generation', 'AqOff', 0): 0.0,\n",
       " ('generation', 'H2_Comp', 0): 3000.0000000001432,\n",
       " ('generation', 'H2_DComp', 0): 0.0,\n",
       " ('generation', 'LiI', 0): 0.0,\n",
       " ('generation', 'LiI_discharge', 0): 0.0,\n",
       " ('generation', 'NGCC', 0): 0.0,\n",
       " ('generation', 'PEM', 0): 8481.76420695427,\n",
       " ('generation', 'PV', 0): 0.0,\n",
       " ('generation', 'SMRH', 0): 0.0,\n",
       " ('generation', 'WF', 0): 0.0}"
      ]
     },
     "execution_count": 22,
     "metadata": {},
     "output_type": "execute_result"
    }
   ],
   "source": [
    "results_bc.output['P_location']"
   ]
  },
  {
   "attachments": {},
   "cell_type": "markdown",
   "metadata": {},
   "source": [
    "## Scenario analysis\n",
    "\n",
    "We consider three distinct scenarios:\n",
    "\n",
    "1. **green**: Meet an annual demand for green hydrogen [PV, WF, PEM, etc.]\n",
    "2. **blue**: Meet an annual demand for blue hydrogen [PV, NGCC, AQoff, SMRH, etc.] \n",
    "4. **active**: Have an active supply chain with ships reaching Athens daily. Meet an equal demand for green hydrogen everyday [PV, WF, PEM, etc.]"
   ]
  },
  {
   "cell_type": "code",
   "execution_count": 23,
   "metadata": {},
   "outputs": [],
   "source": [
    "def scenario_generator(scenario_name:str, process_set: set, demand: float, demand_scale: int) -> Scenario: \n",
    "    ho = Location(name='generation', processes= process_set, \n",
    "                                capacity_factor={PV: solar_houston_mean[:8760*horizon], WF: wind_houston_mean[:8760*horizon]}, price_factor={CH4: ng_price_df[:365*horizon]},\n",
    "                                scales=scales, label='Houston', capacity_factor_scale_level=2, price_factor_scale_level=1)\n",
    "\n",
    "\n",
    "    at = Location(name='consumption', processes= {H2_DComp}, scales=scales, label='Athens')\n",
    "\n",
    "    ship = Transport(name= 'Ship', resources= {H2_C}, trans_max= bigM, trans_loss= 0.001, capex= 2*10**6, vopex = 0.01\n",
    "        , label= 'Ship for transporting hydrogen')\n",
    "\n",
    "    distance_matrix = [\n",
    "        [6322] ]\n",
    "\n",
    "    transport_matrix = [\n",
    "        [[ship]] ]\n",
    "\n",
    "    network = Network(name= 'Network', source_locations= [ho], \n",
    "                    sink_locations= [at], \n",
    "                    distance_matrix= distance_matrix, transport_matrix= transport_matrix, scales = scales) \n",
    "\n",
    "    scenario = Scenario(name= scenario_name, network=network, scales=scales, scheduling_scale_level=2,\n",
    "                        network_scale_level=0, demand_scale_level=demand_scale, label='full case', demand= {at: {H2_sell: demand}}, annualization_factor = 0.05) \n",
    "    \n",
    "    return scenario\n"
   ]
  },
  {
   "cell_type": "code",
   "execution_count": 24,
   "metadata": {},
   "outputs": [],
   "source": [
    "scenario_green = scenario_generator(scenario_name = 'scenario_g', process_set = {PV, WF, LiI, PEM, H2_Comp}, demand = 3000,  demand_scale = 0)\n",
    "scenario_blue = scenario_generator(scenario_name = 'scenario_b', process_set = {LiI, NGCC, SMRH, AqOff, H2_Comp}, demand = 3000, demand_scale = 0)\n",
    "scenario_active = scenario_generator(scenario_name = 'scenario_a', process_set = {PV, WF, LiI, PEM, H2_Comp}, demand = 3000/365, demand_scale = 1)\n"
   ]
  },
  {
   "cell_type": "code",
   "execution_count": 25,
   "metadata": {},
   "outputs": [],
   "source": [
    "casestudy = CaseStudy(name = 'casestudy', scenarios= [scenario_green, scenario_blue, scenario_active])"
   ]
  },
  {
   "cell_type": "code",
   "execution_count": 26,
   "metadata": {},
   "outputs": [
    {
     "name": "stdout",
     "output_type": "stream",
     "text": [
      "min cost\n",
      "\n",
      "s.t.\n",
      "\n",
      "constraint process capex\n",
      "constraint location capex\n",
      "constraint network capex\n",
      "constraint total capex\n",
      "constraint process fopex\n",
      "constraint location fopex\n",
      "constraint network fopex\n",
      "constraint total fopex\n",
      "constraint process vopex\n",
      "constraint location vopex\n",
      "constraint network vopex\n",
      "constraint total vopex\n",
      "constraint resource purchase certain\n",
      "constraint resource purchase varying\n",
      "constraint location resource purchase\n",
      "constraint network resource purchase\n",
      "constraint total purchase\n",
      "constraint transport capex\n",
      "constraint transport network capex\n",
      "constraint transport export network\n",
      "constraint transport vopex\n",
      "constraint transport network vopex\n",
      "constraint transport fopex\n",
      "constraint transport network fopex\n",
      "constraint transport total capex\n",
      "constraint transport total vopex\n",
      "constraint transport total fopex\n",
      "constraint total cost\n",
      "constraint nameplate inventory\n",
      "constraint storage max\n",
      "constraint storage min\n",
      "constraint production mode\n",
      "constraint nameplate production certain capacity\n",
      "constraint nameplate production varying capacity\n",
      "constraint production max\n",
      "constraint production min\n",
      "constraint inventory balance\n",
      "constraint resource consumption certain\n",
      "constraint resource consumption varying\n",
      "constraint location production\n",
      "constraint location resource discharge\n",
      "constraint location resource consumption\n",
      "constraint network production\n",
      "constraint network resource discharge\n",
      "constraint network resource consumption\n",
      "constraint inventory network\n",
      "constraint resource export\n",
      "constraint transport export\n",
      "constraint export\n",
      "constraint transport capacity UB no bin\n",
      "constraint transport capacity LB no bin\n",
      "constraint resource demand\n",
      "\n",
      "model formulated in 15.071020603179932 seconds\n",
      "min cost\n",
      "\n",
      "s.t.\n",
      "\n",
      "constraint process capex\n",
      "constraint location capex\n",
      "constraint network capex\n",
      "constraint total capex\n",
      "constraint process fopex\n",
      "constraint location fopex\n",
      "constraint network fopex\n",
      "constraint total fopex\n",
      "constraint process vopex\n",
      "constraint location vopex\n",
      "constraint network vopex\n",
      "constraint total vopex\n",
      "constraint resource purchase certain\n",
      "constraint resource purchase varying\n",
      "constraint location resource purchase\n",
      "constraint network resource purchase\n",
      "constraint total purchase\n",
      "constraint transport capex\n",
      "constraint transport network capex\n",
      "constraint transport export network\n",
      "constraint transport vopex\n",
      "constraint transport network vopex\n",
      "constraint transport fopex\n",
      "constraint transport network fopex\n",
      "constraint transport total capex\n",
      "constraint transport total vopex\n",
      "constraint transport total fopex\n",
      "constraint total cost\n",
      "constraint nameplate inventory\n",
      "constraint storage max\n",
      "constraint storage min\n",
      "constraint production mode\n",
      "constraint nameplate production certain capacity\n",
      "constraint nameplate production varying capacity\n",
      "constraint production max\n",
      "constraint production min\n",
      "constraint inventory balance\n",
      "constraint resource consumption certain\n",
      "constraint resource consumption varying\n",
      "constraint location production\n",
      "constraint location resource discharge\n",
      "constraint location resource consumption\n",
      "constraint network production\n",
      "constraint network resource discharge\n",
      "constraint network resource consumption\n",
      "constraint inventory network\n",
      "constraint resource export\n",
      "constraint transport export\n",
      "constraint export\n",
      "constraint transport capacity UB no bin\n",
      "constraint transport capacity LB no bin\n",
      "constraint resource demand\n",
      "\n",
      "model formulated in 17.105791568756104 seconds\n",
      "min cost\n",
      "\n",
      "s.t.\n",
      "\n",
      "constraint process capex\n",
      "constraint location capex\n",
      "constraint network capex\n",
      "constraint total capex\n",
      "constraint process fopex\n",
      "constraint location fopex\n",
      "constraint network fopex\n",
      "constraint total fopex\n",
      "constraint process vopex\n",
      "constraint location vopex\n",
      "constraint network vopex\n",
      "constraint total vopex\n",
      "constraint resource purchase certain\n",
      "constraint resource purchase varying\n",
      "constraint location resource purchase\n",
      "constraint network resource purchase\n",
      "constraint total purchase\n",
      "constraint transport capex\n",
      "constraint transport network capex\n",
      "constraint transport export network\n",
      "constraint transport vopex\n",
      "constraint transport network vopex\n",
      "constraint transport fopex\n",
      "constraint transport network fopex\n",
      "constraint transport total capex\n",
      "constraint transport total vopex\n",
      "constraint transport total fopex\n",
      "constraint total cost\n",
      "constraint nameplate inventory\n",
      "constraint storage max\n",
      "constraint storage min\n",
      "constraint production mode\n",
      "constraint nameplate production certain capacity\n",
      "constraint nameplate production varying capacity\n",
      "constraint production max\n",
      "constraint production min\n",
      "constraint inventory balance\n",
      "constraint resource consumption certain\n",
      "constraint resource consumption varying\n",
      "constraint location production\n",
      "constraint location resource discharge\n",
      "constraint location resource consumption\n",
      "constraint network production\n",
      "constraint network resource discharge\n",
      "constraint network resource consumption\n",
      "constraint inventory network\n",
      "constraint resource export\n",
      "constraint transport export\n",
      "constraint export\n",
      "constraint transport capacity UB no bin\n",
      "constraint transport capacity LB no bin\n",
      "constraint resource demand\n",
      "\n",
      "model formulated in 17.001524686813354 seconds\n"
     ]
    },
    {
     "data": {
      "text/plain": [
       "{'scenario_g': <pyomo.core.base.PyomoModel.ConcreteModel at 0x18aaf34bfb0>,\n",
       " 'scenario_b': <pyomo.core.base.PyomoModel.ConcreteModel at 0x18add4bfec0>,\n",
       " 'scenario_a': <pyomo.core.base.PyomoModel.ConcreteModel at 0x18aefc7a200>}"
      ]
     },
     "execution_count": 26,
     "metadata": {},
     "output_type": "execute_result"
    }
   ],
   "source": [
    "casestudy.formulate(constraints={Constraints.COST, Constraints.INVENTORY, Constraints.PRODUCTION,\n",
    "                      Constraints.RESOURCE_BALANCE, Constraints.DEMAND, Constraints.TRANSPORT}, objective=Objective.COST) "
   ]
  },
  {
   "cell_type": "code",
   "execution_count": 27,
   "metadata": {},
   "outputs": [
    {
     "name": "stdout",
     "output_type": "stream",
     "text": [
      "Set parameter QCPDual to value 1\n",
      "Gurobi Optimizer version 10.0.2 build v10.0.2rc0 (win64)\n",
      "\n",
      "CPU model: Intel(R) Core(TM) i7-6700 CPU @ 3.40GHz, instruction set [SSE2|AVX|AVX2]\n",
      "Thread count: 4 physical cores, 8 logical processors, using up to 8 threads\n",
      "\n",
      "Optimize a model with 297957 rows, 236651 columns and 766470 nonzeros\n",
      "Model fingerprint: 0xc65f1918\n",
      "Coefficient statistics:\n",
      "  Matrix range     [5e-05, 6e+08]\n",
      "  Objective range  [1e+00, 1e+00]\n",
      "  Bounds range     [0e+00, 0e+00]\n",
      "  RHS range        [1e+02, 1e+06]\n",
      "Warning: Model contains large matrix coefficient range\n",
      "         Consider reformulating model or setting NumericFocus parameter\n",
      "         to avoid numerical issues.\n",
      "Presolve removed 223770 rows and 188739 columns\n",
      "Presolve time: 0.33s\n",
      "Presolved: 74187 rows, 47912 columns, 196277 nonzeros\n",
      "\n",
      "Concurrent LP optimizer: dual simplex and barrier\n",
      "Showing barrier log only...\n",
      "\n",
      "Ordering time: 0.02s\n",
      "\n",
      "Barrier statistics:\n",
      " Dense cols : 7\n",
      " AA' NZ     : 2.360e+05\n",
      " Factor NZ  : 9.607e+05 (roughly 60 MB of memory)\n",
      " Factor Ops : 1.411e+07 (less than 1 second per iteration)\n",
      " Threads    : 3\n",
      "\n",
      "                  Objective                Residual\n",
      "Iter       Primal          Dual         Primal    Dual     Compl     Time\n",
      "   0   1.33266640e+12 -4.72922978e+14  8.07e+03 3.72e+02  1.93e+10     1s\n",
      "   1   1.40010296e+12 -4.23450779e+14  1.31e+04 1.60e+06  1.58e+10     1s\n",
      "   2   1.45290828e+12 -2.49310280e+14  1.25e+04 6.71e+05  9.30e+09     1s\n",
      "   3   1.66468632e+12 -6.18206153e+13  2.33e+03 3.16e+04  1.62e+09     1s\n",
      "   4   7.62751341e+11 -1.50567466e+13  2.12e+02 1.00e+03  2.03e+08     1s\n",
      "   5   4.54216363e+10 -5.25872838e+12  1.96e-01 3.32e+01  3.52e+07     1s\n",
      "   6   2.21051200e+10 -3.55163897e+11  3.37e-02 2.24e+00  2.50e+06     1s\n",
      "   7   1.42403263e+10 -1.87859123e+11  2.47e-04 8.74e-01  1.34e+06     1s\n",
      "   8   6.52673277e+09 -2.62831223e+10  4.19e-05 1.19e-01  2.18e+05     1s\n",
      "   9   1.55024851e+09 -5.24921054e+09  3.93e-06 2.48e-02  4.50e+04     1s\n",
      "  10   1.22219156e+09 -6.66812000e+08  2.31e-06 2.33e-03  1.25e+04     1s\n",
      "  11   8.76176655e+08 -2.85011200e+08  1.32e-06 4.18e-04  7.67e+03     1s\n",
      "  12   4.26101145e+08  8.46726687e+07  2.37e-07 1.09e-08  2.26e+03     1s\n",
      "  13   3.23167633e+08  2.21012061e+08  6.92e-08 1.79e-09  6.74e+02     1s\n",
      "  14   2.94714389e+08  2.39364199e+08  2.78e-08 1.11e-09  3.66e+02     1s\n",
      "  15   2.77152320e+08  2.54317070e+08  9.48e-09 5.72e-10  1.51e+02     1s\n",
      "  16   2.72773526e+08  2.59051045e+08  5.53e-09 3.26e-09  9.07e+01     1s\n",
      "  17   2.70358577e+08  2.61820184e+08  3.50e-09 3.06e-07  5.64e+01     1s\n",
      "  18   2.69442328e+08  2.62728735e+08  2.74e-09 3.39e-07  4.44e+01     1s\n",
      "  19   2.68633605e+08  2.63194673e+08  2.06e-09 1.03e-09  3.60e+01     2s\n",
      "  20   2.68025304e+08  2.64821452e+08  1.58e-09 1.90e-10  2.11e+01     2s\n",
      "  21   2.67471749e+08  2.65144083e+08  1.13e-09 3.16e-07  1.54e+01     2s\n",
      "  22   2.67205462e+08  2.65374595e+08  9.08e-10 6.83e-08  1.21e+01     2s\n",
      "  23   2.67090516e+08  2.65461609e+08  8.09e-10 3.16e-10  1.07e+01     2s\n",
      "  24   2.66955076e+08  2.65582138e+08  6.84e-10 2.87e-07  9.06e+00     2s\n",
      "  25   2.66811862e+08  2.65635209e+08  5.51e-10 3.60e-07  7.77e+00     2s\n",
      "  26   2.66720594e+08  2.65699959e+08  4.62e-10 4.43e-08  6.74e+00     2s\n",
      "  27   2.66660231e+08  2.65786209e+08  4.01e-10 1.49e-10  5.77e+00     2s\n",
      "  28   2.66636623e+08  2.65886384e+08  3.76e-10 2.08e-07  4.95e+00     2s\n",
      "  29   2.66539114e+08  2.65977951e+08  2.70e-10 1.15e-09  3.70e+00     2s\n",
      "  30   2.66518332e+08  2.66002052e+08  2.44e-10 1.45e-11  3.41e+00     2s\n",
      "  31   2.66507920e+08  2.66030457e+08  2.31e-10 3.20e-11  3.15e+00     2s\n",
      "  32   2.66484737e+08  2.66118160e+08  1.99e-10 6.79e-10  2.42e+00     2s\n",
      "  33   2.66465951e+08  2.66134248e+08  1.75e-10 4.21e-08  2.19e+00     2s\n",
      "  34   2.66449693e+08  2.66178844e+08  1.52e-10 3.69e-08  1.79e+00     2s\n",
      "  35   2.66443287e+08  2.66189910e+08  1.44e-10 4.35e-07  1.67e+00     2s\n",
      "  36   2.66425148e+08  2.66224615e+08  1.53e-10 2.40e-07  1.32e+00     3s\n",
      "  37   2.66394181e+08  2.66238564e+08  1.22e-10 3.80e-09  1.03e+00     3s\n",
      "  38   2.66391133e+08  2.66248809e+08  1.16e-10 4.08e-10  9.39e-01     3s\n",
      "  39   2.66380381e+08  2.66271281e+08  1.12e-10 1.47e-07  7.20e-01     3s\n",
      "  40   2.66373973e+08  2.66275974e+08  1.02e-10 1.22e-07  6.47e-01     3s\n",
      "  41   2.66367331e+08  2.66288687e+08  1.36e-10 1.33e-12  5.19e-01     3s\n",
      "  42   2.66358420e+08  2.66311173e+08  1.13e-10 1.32e-10  3.12e-01     3s\n",
      "  43   2.66356492e+08  2.66315994e+08  1.17e-10 2.21e-07  2.67e-01     3s\n",
      "  44   2.66349053e+08  2.66332898e+08  1.10e-10 3.52e-10  1.06e-01     3s\n",
      "  45   2.66348703e+08  2.66335727e+08  9.58e-11 5.32e-08  8.53e-02     3s\n",
      "  46   2.66343810e+08  2.66337799e+08  6.55e-11 1.18e-07  3.95e-02     3s\n",
      "  47   2.66343733e+08  2.66338651e+08  6.23e-11 1.70e-07  3.34e-02     3s\n",
      "  48   2.66342652e+08  2.66340469e+08  5.63e-11 3.21e-10  1.43e-02     3s\n",
      "  49   2.66341406e+08  2.66341081e+08  3.50e-10 5.14e-07  2.13e-03     3s\n",
      "  50   2.66341169e+08  2.66341122e+08  1.15e-05 1.24e-07  3.10e-04     3s\n",
      "  51   2.66341164e+08  2.66341154e+08  9.97e-07 5.57e-10  6.73e-05     3s\n",
      "  52   2.66341164e+08  2.66341163e+08  6.26e-08 6.03e-11  5.20e-06     4s\n",
      "  53   2.66341164e+08  2.66341163e+08  2.90e-09 3.42e-07  1.05e-08     4s\n",
      "  54   2.66341164e+08  2.66341163e+08  1.46e-10 2.38e-07  4.84e-11     4s\n",
      "\n",
      "Barrier solved model in 54 iterations and 3.77 seconds (1.95 work units)\n",
      "Optimal objective 2.66341164e+08\n",
      "\n",
      "Crossover log...\n",
      "\n",
      "   17568 DPushes remaining with DInf 6.2500000e-06                 4s\n",
      "   16451 DPushes remaining with DInf 6.2500000e-06                 5s\n",
      "   11182 DPushes remaining with DInf 6.2500000e-06                10s\n",
      "    3653 DPushes remaining with DInf 6.2500000e-06                15s\n",
      "       0 DPushes remaining with DInf 6.2500000e-06                18s\n",
      "\n",
      "   11801 PPushes remaining with PInf 0.0000000e+00                18s\n",
      "       0 PPushes remaining with PInf 0.0000000e+00                20s\n",
      "\n",
      "  Push phase complete: Pinf 0.0000000e+00, Dinf 1.1554695e-05     20s\n",
      "\n",
      "Iteration    Objective       Primal Inf.    Dual Inf.      Time\n",
      "   27943    2.6634116e+08   0.000000e+00   6.250000e-06     20s\n",
      "\n",
      "Solved with barrier\n",
      "   27944    2.6634116e+08   0.000000e+00   0.000000e+00     20s\n",
      "\n",
      "Solved in 27944 iterations and 20.35 seconds (110.97 work units)\n",
      "Optimal objective  2.663411634e+08\n",
      "\n",
      "The model took 20.366999864578247 seconds to solve\n",
      "\n",
      "\n",
      "It took 0.10769200325012207 seconds to save the results as a .pkl file\n",
      "\n",
      "\n",
      "Total time needed to generate result was 47.75461292266846 seconds\n",
      "\n",
      "Set parameter QCPDual to value 1\n",
      "Gurobi Optimizer version 10.0.2 build v10.0.2rc0 (win64)\n",
      "\n",
      "CPU model: Intel(R) Core(TM) i7-6700 CPU @ 3.40GHz, instruction set [SSE2|AVX|AVX2]\n",
      "Thread count: 4 physical cores, 8 logical processors, using up to 8 threads\n",
      "\n",
      "Optimize a model with 289195 rows, 227888 columns and 797399 nonzeros\n",
      "Model fingerprint: 0x5a044775\n",
      "Coefficient statistics:\n",
      "  Matrix range     [5e-05, 6e+08]\n",
      "  Objective range  [1e+00, 1e+00]\n",
      "  Bounds range     [0e+00, 0e+00]\n",
      "  RHS range        [1e+02, 1e+06]\n",
      "Warning: Model contains large matrix coefficient range\n",
      "         Consider reformulating model or setting NumericFocus parameter\n",
      "         to avoid numerical issues.\n",
      "Presolve removed 201596 rows and 175324 columns\n",
      "Presolve time: 0.39s\n",
      "Presolved: 87599 rows, 52564 columns, 236513 nonzeros\n",
      "\n",
      "Concurrent LP optimizer: dual simplex and barrier\n",
      "Showing barrier log only...\n",
      "\n",
      "Ordering time: 0.02s\n",
      "\n",
      "Barrier statistics:\n",
      " Dense cols : 7\n",
      " AA' NZ     : 3.679e+05\n",
      " Factor NZ  : 1.196e+06 (roughly 70 MB of memory)\n",
      " Factor Ops : 1.744e+07 (less than 1 second per iteration)\n",
      " Threads    : 3\n",
      "\n",
      "                  Objective                Residual\n",
      "Iter       Primal          Dual         Primal    Dual     Compl     Time\n",
      "   0   8.92745429e+11 -2.50210874e+14  9.02e+03 1.03e+02  1.21e+10     1s\n",
      "   1   9.52625184e+11 -2.33480212e+14  1.20e+04 2.71e+05  9.51e+09     1s\n",
      "   2   1.04431712e+12 -1.58631801e+14  1.50e+03 8.19e+04  2.56e+09     1s\n",
      "   3   9.91033007e+11 -2.95750084e+13  4.38e+02 4.26e+03  3.50e+08     1s\n",
      "   4   6.14393688e+11 -8.98349939e+12  1.18e+02 6.52e+02  8.77e+07     1s\n",
      "   5   2.13546463e+11 -4.18812061e+12  1.49e+01 2.69e+02  3.30e+07     1s\n",
      "   6   4.64926737e+10 -7.09189955e+11  2.41e-02 3.85e+01  5.16e+06     1s\n",
      "   7   3.22653803e+10 -3.70789394e+10  2.96e-04 2.26e+00  4.60e+05     1s\n",
      "   8   9.50048571e+09 -5.21685526e+09  1.53e-06 3.45e-03  9.18e+04     1s\n",
      "   9   1.63787595e+09 -2.28543305e+09  9.45e-08 1.53e-03  2.46e+04     1s\n",
      "  10   7.46548346e+08 -8.91797024e+08  4.05e-08 4.57e-04  1.01e+04     1s\n",
      "  11   7.47518056e+08 -7.93993103e+08  3.61e-08 4.11e-04  9.53e+03     1s\n",
      "  12   6.79959191e+08 -7.02701756e+08  3.19e-08 3.66e-04  8.54e+03     1s\n",
      "  13   5.40541608e+08 -2.17806225e+08  1.72e-08 1.58e-04  4.66e+03     1s\n",
      "  14   3.94114202e+08  2.41112209e+08  5.64e-09 4.39e-06  9.23e+02     2s\n",
      "  15   3.66557401e+08  2.67313264e+08  4.30e-09 1.13e-06  5.98e+02     2s\n",
      "  16   2.82418023e+08  2.73453563e+08  8.17e-10 1.30e-07  5.42e+01     2s\n",
      "  17   2.76813424e+08  2.74103541e+08  1.12e-10 8.27e-08  1.65e+01     2s\n",
      "  18   2.75920690e+08  2.75841956e+08  4.00e-12 2.49e-07  4.79e-01     2s\n",
      "  19   2.75897231e+08  2.75897210e+08  2.44e-14 2.58e-09  1.25e-04     2s\n",
      "  20   2.75897218e+08  2.75897218e+08  1.18e-11 8.31e-08  1.76e-07     2s\n",
      "  21   2.75897218e+08  2.75897218e+08  8.66e-10 1.34e-07  6.18e-10     2s\n",
      "\n",
      "Barrier solved model in 21 iterations and 2.11 seconds (1.19 work units)\n",
      "Optimal objective 2.75897218e+08\n",
      "\n",
      "Crossover log...\n",
      "\n",
      "   52560 DPushes remaining with DInf 3.1250000e-06                 2s\n",
      "   20672 DPushes remaining with DInf 3.1250000e-06                 5s\n",
      "    9962 DPushes remaining with DInf 3.1250000e-06                10s\n",
      "       0 DPushes remaining with DInf 3.1250000e-06                13s\n",
      "\n",
      "       0 PPushes remaining with PInf 0.0000000e+00                13s\n",
      "\n",
      "  Push phase complete: Pinf 0.0000000e+00, Dinf 3.8041834e-06     13s\n",
      "\n",
      "Iteration    Objective       Primal Inf.    Dual Inf.      Time\n",
      "   43804    2.7589722e+08   0.000000e+00   3.125000e-06     13s\n",
      "\n",
      "Solved with barrier\n",
      "   43805    2.7589722e+08   0.000000e+00   0.000000e+00     13s\n",
      "\n",
      "Solved in 43805 iterations and 13.29 seconds (56.31 work units)\n",
      "Optimal objective  2.758972178e+08\n",
      "\n",
      "The model took 13.305000066757202 seconds to solve\n",
      "\n",
      "\n",
      "It took 0.12265491485595703 seconds to save the results as a .pkl file\n",
      "\n",
      "\n",
      "Total time needed to generate result was 36.448150873184204 seconds\n",
      "\n",
      "Set parameter QCPDual to value 1\n",
      "Gurobi Optimizer version 10.0.2 build v10.0.2rc0 (win64)\n",
      "\n",
      "CPU model: Intel(R) Core(TM) i7-6700 CPU @ 3.40GHz, instruction set [SSE2|AVX|AVX2]\n",
      "Thread count: 4 physical cores, 8 logical processors, using up to 8 threads\n",
      "\n",
      "Optimize a model with 298321 rows, 236651 columns and 766470 nonzeros\n",
      "Model fingerprint: 0x91976984\n",
      "Coefficient statistics:\n",
      "  Matrix range     [5e-05, 6e+08]\n",
      "  Objective range  [1e+00, 1e+00]\n",
      "  Bounds range     [0e+00, 0e+00]\n",
      "  RHS range        [8e+00, 1e+06]\n",
      "Warning: Model contains large matrix coefficient range\n",
      "         Consider reformulating model or setting NumericFocus parameter\n",
      "         to avoid numerical issues.\n",
      "Presolve removed 223770 rows and 188739 columns\n",
      "Presolve time: 0.82s\n",
      "Presolved: 74551 rows, 47912 columns, 196277 nonzeros\n",
      "\n",
      "Concurrent LP optimizer: dual simplex and barrier\n",
      "Showing barrier log only...\n",
      "\n",
      "Ordering time: 0.01s\n",
      "\n",
      "Barrier statistics:\n",
      " Dense cols : 7\n",
      " AA' NZ     : 2.360e+05\n",
      " Factor NZ  : 9.645e+05 (roughly 60 MB of memory)\n",
      " Factor Ops : 1.416e+07 (less than 1 second per iteration)\n",
      " Threads    : 3\n",
      "\n",
      "                  Objective                Residual\n",
      "Iter       Primal          Dual         Primal    Dual     Compl     Time\n",
      "   0   1.02370246e+12 -4.82370359e+14  5.52e+03 7.57e+02  1.49e+10     1s\n",
      "   1   1.14050349e+12 -2.80638084e+14  9.04e+03 1.29e+06  8.52e+09     1s\n",
      "   2   1.08837038e+12 -2.05363812e+14  6.84e+03 7.81e+05  9.08e+09     1s\n",
      "   3   1.26703644e+12 -5.43387076e+13  5.89e+02 1.10e+04  1.11e+09     1s\n",
      "   4   5.52449201e+11 -2.37951507e+13  8.92e+01 2.15e+03  2.62e+08     1s\n",
      "   5   4.74109205e+10 -1.19433696e+13  2.49e-02 6.77e+02  7.99e+07     1s\n",
      "   6   1.41216451e+10 -9.98307761e+10  1.85e-03 6.28e+00  7.59e+05     1s\n",
      "   7   5.96147444e+09 -1.48245686e+10  4.46e-04 2.24e-01  1.38e+05     1s\n",
      "   8   1.33806503e+09 -1.19156099e+09  4.12e-05 1.32e-02  1.67e+04     1s\n",
      "   9   8.79725175e+08 -1.80017187e+07  2.31e-05 4.48e-03  5.89e+03     2s\n",
      "  10   4.17272533e+08  1.49773949e+08  5.17e-06 4.10e-04  1.76e+03     2s\n",
      "  11   3.40195535e+08  2.38962704e+08  2.43e-06 3.90e-07  6.64e+02     2s\n",
      "  12   2.99947802e+08  2.54113567e+08  1.11e-06 4.03e-07  3.01e+02     2s\n",
      "  13   2.79177632e+08  2.61872828e+08  3.75e-07 3.06e-10  1.13e+02     2s\n",
      "  14   2.71865994e+08  2.64742816e+08  1.59e-07 6.38e-10  4.67e+01     2s\n",
      "  15   2.69511596e+08  2.65453532e+08  9.38e-08 6.75e-10  2.66e+01     2s\n",
      "  16   2.68965818e+08  2.65545116e+08  7.84e-08 3.11e-07  2.24e+01     2s\n",
      "  17   2.68262219e+08  2.65687701e+08  5.86e-08 4.11e-07  1.69e+01     2s\n",
      "  18   2.67769193e+08  2.65826361e+08  4.55e-08 3.78e-10  1.27e+01     2s\n",
      "  19   2.67618053e+08  2.65865344e+08  4.12e-08 3.12e-10  1.15e+01     2s\n",
      "  20   2.67480090e+08  2.65901007e+08  3.74e-08 1.17e-10  1.03e+01     2s\n",
      "  21   2.67249025e+08  2.65945139e+08  3.09e-08 9.21e-10  8.54e+00     2s\n",
      "  22   2.67145605e+08  2.65994184e+08  2.79e-08 5.28e-08  7.54e+00     2s\n",
      "  23   2.67083572e+08  2.66032753e+08  2.60e-08 5.79e-07  6.88e+00     2s\n",
      "  24   2.67019903e+08  2.66052296e+08  2.40e-08 1.47e-10  6.33e+00     2s\n",
      "  25   2.66946040e+08  2.66072298e+08  2.16e-08 2.61e-10  5.72e+00     2s\n",
      "  26   2.66863030e+08  2.66094769e+08  1.89e-08 3.44e-10  5.03e+00     2s\n",
      "  27   2.66757665e+08  2.66123367e+08  1.56e-08 1.30e-12  4.15e+00     3s\n",
      "  28   2.66714339e+08  2.66159553e+08  1.42e-08 7.31e-10  3.63e+00     3s\n",
      "  29   2.66689050e+08  2.66174016e+08  1.33e-08 1.45e-10  3.37e+00     3s\n",
      "  30   2.66646368e+08  2.66185263e+08  1.19e-08 1.49e-12  3.02e+00     3s\n",
      "  31   2.66614576e+08  2.66197493e+08  1.08e-08 9.31e-11  2.73e+00     3s\n",
      "  32   2.66606359e+08  2.66204632e+08  1.05e-08 8.69e-11  2.63e+00     3s\n",
      "  33   2.66590421e+08  2.66237188e+08  9.89e-09 1.80e-08  2.31e+00     3s\n",
      "  34   2.66539064e+08  2.66262167e+08  8.04e-09 3.02e-07  1.81e+00     3s\n",
      "  35   2.66513335e+08  2.66277597e+08  7.07e-09 2.55e-07  1.54e+00     3s\n",
      "  36   2.66491209e+08  2.66294689e+08  6.16e-09 1.30e-06  1.29e+00     3s\n",
      "  37   2.66481056e+08  2.66307386e+08  5.76e-09 9.43e-07  1.14e+00     3s\n",
      "  38   2.66470303e+08  2.66309591e+08  5.31e-09 1.06e-06  1.05e+00     3s\n",
      "  39   2.66467970e+08  2.66311571e+08  5.23e-09 4.28e-07  1.02e+00     3s\n",
      "  40   2.66422202e+08  2.66321444e+08  3.37e-09 6.66e-07  6.59e-01     3s\n",
      "  41   2.66416796e+08  2.66324308e+08  3.16e-09 3.50e-07  6.05e-01     3s\n",
      "  42   2.66391535e+08  2.66330887e+08  2.15e-09 3.82e-07  3.97e-01     4s\n",
      "  43   2.66385693e+08  2.66332076e+08  1.92e-09 6.70e-07  3.51e-01     4s\n",
      "  44   2.66367326e+08  2.66333187e+08  1.16e-09 2.93e-07  2.23e-01     4s\n",
      "  45   2.66365041e+08  2.66337207e+08  1.08e-09 9.18e-10  1.82e-01     4s\n",
      "  46   2.66356541e+08  2.66338700e+08  7.10e-10 1.10e-07  1.17e-01     4s\n",
      "  47   2.66346049e+08  2.66339961e+08  2.29e-10 1.52e-07  3.98e-02     4s\n",
      "  48   2.66343756e+08  2.66340816e+08  4.00e-10 4.42e-08  1.92e-02     4s\n",
      "  49   2.66341397e+08  2.66341139e+08  1.04e-09 1.34e-10  1.69e-03     5s\n",
      "  50   2.66341166e+08  2.66341153e+08  6.89e-05 1.74e-07  8.73e-05     5s\n",
      "  51   2.66341164e+08  2.66341156e+08  4.81e-07 8.00e-08  4.98e-05     5s\n",
      "  52   2.66341164e+08  2.66341163e+08  1.25e-07 3.26e-07  4.75e-06     5s\n",
      "  53   2.66341164e+08  2.66341163e+08  9.63e-10 3.58e-07  7.59e-09     5s\n",
      "\n",
      "Barrier solved model in 53 iterations and 4.94 seconds (2.62 work units)\n",
      "Optimal objective 2.66341164e+08\n",
      "\n",
      "Crossover log...\n",
      "\n",
      "   17932 DPushes remaining with DInf 6.2500000e-06                 5s\n",
      "   17771 DPushes remaining with DInf 6.2500000e-06                 5s\n",
      "       0 DPushes remaining with DInf 6.2500000e-06                 7s\n",
      "\n",
      "   11801 PPushes remaining with PInf 0.0000000e+00                 7s\n",
      "       0 PPushes remaining with PInf 0.0000000e+00                 7s\n",
      "\n",
      "  Push phase complete: Pinf 0.0000000e+00, Dinf 7.8555927e-06      7s\n",
      "\n",
      "Iteration    Objective       Primal Inf.    Dual Inf.      Time\n",
      "   29731    2.6634116e+08   0.000000e+00   6.250000e-06      7s\n",
      "\n",
      "Solved with barrier\n",
      "   29733    2.6634116e+08   0.000000e+00   0.000000e+00     18s\n",
      "\n",
      "Solved in 29733 iterations and 18.25 seconds (11.12 work units)\n",
      "Optimal objective  2.663411634e+08\n",
      "\n",
      "The model took 18.278000116348267 seconds to solve\n",
      "\n",
      "\n",
      "It took 0.12865734100341797 seconds to save the results as a .pkl file\n",
      "\n",
      "\n",
      "Total time needed to generate result was 43.46635627746582 seconds\n",
      "\n"
     ]
    }
   ],
   "source": [
    "results = casestudy.solve(solver='gurobi', print_solversteps=True, saveformat = '.pkl')"
   ]
  },
  {
   "cell_type": "code",
   "execution_count": 28,
   "metadata": {},
   "outputs": [
    {
     "data": {
      "text/plain": [
       "['H2(C)']"
      ]
     },
     "execution_count": 28,
     "metadata": {},
     "output_type": "execute_result"
    }
   ],
   "source": [
    "scenario_bc.set_dict['resources_trans']"
   ]
  },
  {
   "cell_type": "code",
   "execution_count": 29,
   "metadata": {},
   "outputs": [],
   "source": [
    "results_g = results.results['scenario_g']\n",
    "results_b = results.results['scenario_b']\n",
    "results_a = results.results['scenario_a']"
   ]
  },
  {
   "cell_type": "code",
   "execution_count": 30,
   "metadata": {},
   "outputs": [
    {
     "data": {
      "image/png": "[encoded data removed]",
      "text/plain": [
       "<Figure size 800x600 with 1 Axes>"
      ]
     },
     "metadata": {},
     "output_type": "display_data"
    }
   ],
   "source": [
    "plot_results.cost(results= results_g, x = CostX.PROCESS_WISE, y = CostY.TOTAL, location= 'generation', fig_size= (8,6))\n"
   ]
  },
  {
   "cell_type": "code",
   "execution_count": null,
   "metadata": {},
   "outputs": [],
   "source": [
    "results_g."
   ]
  },
  {
   "cell_type": "code",
   "execution_count": 31,
   "metadata": {},
   "outputs": [],
   "source": [
    "\n",
    "def make_cost_dicts(result_):\n",
    "    cost_summary_dict = {'capex': result_.output['Capex_total'][None],\n",
    "                            'fopex': result_.output['Fopex_total'][None],\n",
    "                            'vopex': result_.output['Vopex_total'][None],\n",
    "                            'cost_purch': result_.output['B_total'][None],\n",
    "                            'transport_capex':  result_.output['Capex_transport_network'][0],\n",
    "                            'transport_fopex':  result_.output['Fopex_transport_network'][0],\n",
    "                            'transport_vopex': result_.output['Vopex_transport_network'][0],\n",
    "                            'cost_total': result_.output['Cost_total'][None]}\n",
    "                            # 'incidental': result_.output['Incidental_total'],\n",
    "                            # 'storage_cost':,\n",
    "                            # 'land_cost':,\n",
    "                            # 'credit':,\n",
    "    cost_contri_dict = {i: 100*j/cost_summary_dict['cost_total'] for i,j in cost_summary_dict.items()}\n",
    "    return cost_summary_dict, cost_contri_dict\n",
    "\n",
    "cs_bc, cc_bc = make_cost_dicts(results_bc)\n",
    "cs_g, cc_g = make_cost_dicts(results.results['scenario_g'])\n",
    "cs_b, cc_b = make_cost_dicts(results.results['scenario_b'])\n",
    "cs_a, cc_a = make_cost_dicts(results.results['scenario_a'])"
   ]
  },
  {
   "cell_type": "code",
   "execution_count": 32,
   "metadata": {},
   "outputs": [
    {
     "data": {
      "text/plain": [
       "0.9653637162125616"
      ]
     },
     "execution_count": 32,
     "metadata": {},
     "output_type": "execute_result"
    }
   ],
   "source": [
    "sum(cs_g.values())/sum(cs_b.values())"
   ]
  },
  {
   "cell_type": "code",
   "execution_count": 33,
   "metadata": {},
   "outputs": [
    {
     "data": {
      "text/plain": [
       "0.03587899897805141"
      ]
     },
     "execution_count": 33,
     "metadata": {},
     "output_type": "execute_result"
    }
   ],
   "source": [
    "(sum(cs_b.values()) - sum(cs_g.values()))/sum(cs_g.values())"
   ]
  },
  {
   "cell_type": "code",
   "execution_count": 34,
   "metadata": {},
   "outputs": [
    {
     "data": {
      "text/plain": [
       "0.013308682413918204"
      ]
     },
     "execution_count": 34,
     "metadata": {},
     "output_type": "execute_result"
    }
   ],
   "source": [
    "cs_b['cost_purch']/cs_b['cost_total']"
   ]
  },
  {
   "cell_type": "code",
   "execution_count": 71,
   "metadata": {},
   "outputs": [
    {
     "data": {
      "text/plain": [
       "0.8136051088961428"
      ]
     },
     "execution_count": 71,
     "metadata": {},
     "output_type": "execute_result"
    }
   ],
   "source": [
    "(cs_g['transport_capex'] + cs_g['transport_fopex'] + cs_g['transport_vopex'])/((cs_g['capex'] + cs_g['fopex'] + cs_g['vopex']) + (cs_g['transport_capex'] + cs_g['transport_fopex'] + cs_g['transport_vopex']))"
   ]
  },
  {
   "cell_type": "code",
   "execution_count": 36,
   "metadata": {},
   "outputs": [
    {
     "data": {
      "text/plain": [
       "216696509.31506848"
      ]
     },
     "execution_count": 36,
     "metadata": {},
     "output_type": "execute_result"
    }
   ],
   "source": [
    "(cs_b['transport_capex'] + cs_b['transport_fopex'] + cs_b['transport_vopex'])"
   ]
  },
  {
   "cell_type": "code",
   "execution_count": 37,
   "metadata": {},
   "outputs": [
    {
     "data": {
      "text/plain": [
       "1.0000000000000016"
      ]
     },
     "execution_count": 37,
     "metadata": {},
     "output_type": "execute_result"
    }
   ],
   "source": [
    "cs_a['cost_total']/cs_g['cost_total']"
   ]
  },
  {
   "cell_type": "code",
   "execution_count": 38,
   "metadata": {},
   "outputs": [
    {
     "data": {
      "text/plain": [
       "{('consumption', 'AqOff', 0): 0.0,\n",
       " ('consumption', 'H2_Comp', 0): 0.0,\n",
       " ('consumption', 'H2_DComp', 0): 3.0000000000001465,\n",
       " ('consumption', 'LiI', 0): 0.0,\n",
       " ('consumption', 'LiI_discharge', 0): 0.0,\n",
       " ('consumption', 'NGCC', 0): 0.0,\n",
       " ('consumption', 'SMRH', 0): 0.0,\n",
       " ('generation', 'AqOff', 0): 21022844.38143145,\n",
       " ('generation', 'H2_Comp', 0): 10500.000000000513,\n",
       " ('generation', 'H2_DComp', 0): 0.0,\n",
       " ('generation', 'LiI', 0): 0.0,\n",
       " ('generation', 'LiI_discharge', 0): 0.0,\n",
       " ('generation', 'NGCC', 0): 32300290.407872766,\n",
       " ('generation', 'SMRH', 0): 154500.00000000806}"
      ]
     },
     "execution_count": 38,
     "metadata": {},
     "output_type": "execute_result"
    }
   ],
   "source": [
    "results_b.output['Vopex_process']"
   ]
  },
  {
   "cell_type": "code",
   "execution_count": 39,
   "metadata": {},
   "outputs": [
    {
     "data": {
      "text/plain": [
       "{'capex': 0.44422410830456954,\n",
       " 'fopex': 0.2954507009645812,\n",
       " 'vopex': 19.38697976763465,\n",
       " 'cost_purch': 1.3308682413918205,\n",
       " 'transport_capex': 78.47373419055344,\n",
       " 'transport_fopex': 0.0,\n",
       " 'transport_vopex': 0.06874299115092818,\n",
       " 'cost_total': 100.0}"
      ]
     },
     "execution_count": 39,
     "metadata": {},
     "output_type": "execute_result"
    }
   ],
   "source": [
    "cc_b"
   ]
  },
  {
   "cell_type": "code",
   "execution_count": 40,
   "metadata": {},
   "outputs": [
    {
     "data": {
      "text/plain": [
       "{('consumption', 'H2_Comp', 0): 0.0,\n",
       " ('consumption', 'H2_DComp', 0): 0.3424657534246575,\n",
       " ('consumption', 'LiI', 0): 0.0,\n",
       " ('consumption', 'LiI_discharge', 0): None,\n",
       " ('consumption', 'PEM', 0): 0.0,\n",
       " ('consumption', 'PV', 0): 0.0,\n",
       " ('consumption', 'WF', 0): 0.0,\n",
       " ('generation', 'H2_Comp', 0): 0.3424657534246575,\n",
       " ('generation', 'H2_DComp', 0): 0.0,\n",
       " ('generation', 'LiI', 0): 0.028956601492166553,\n",
       " ('generation', 'LiI_discharge', 0): 100.0,\n",
       " ('generation', 'PEM', 0): 0.9682379231683842,\n",
       " ('generation', 'PV', 0): 0.7418954139051034,\n",
       " ('generation', 'WF', 0): 7.697962557686231}"
      ]
     },
     "execution_count": 40,
     "metadata": {},
     "output_type": "execute_result"
    }
   ],
   "source": [
    "results_g.output['Cap_P']"
   ]
  },
  {
   "cell_type": "code",
   "execution_count": 41,
   "metadata": {},
   "outputs": [
    {
     "data": {
      "text/plain": [
       "{('consumption', 'AqOff', 0): 0.0,\n",
       " ('consumption', 'H2_Comp', 0): 0.0,\n",
       " ('consumption', 'H2_DComp', 0): 0.3424657534246575,\n",
       " ('consumption', 'LiI', 0): 0.0,\n",
       " ('consumption', 'LiI_discharge', 0): None,\n",
       " ('consumption', 'NGCC', 0): 0.0,\n",
       " ('consumption', 'SMRH', 0): 0.0,\n",
       " ('generation', 'AqOff', 0): 5.796782802107342,\n",
       " ('generation', 'H2_Comp', 0): 0.3424657534246575,\n",
       " ('generation', 'H2_DComp', 0): 0.0,\n",
       " ('generation', 'LiI', 0): 0.0,\n",
       " ('generation', 'LiI_discharge', 0): 100.0,\n",
       " ('generation', 'NGCC', 0): 9.21811940863908,\n",
       " ('generation', 'SMRH', 0): 0.3424657534246575}"
      ]
     },
     "execution_count": 41,
     "metadata": {},
     "output_type": "execute_result"
    }
   ],
   "source": [
    "results_b.output['Cap_P']"
   ]
  },
  {
   "cell_type": "code",
   "execution_count": 42,
   "metadata": {},
   "outputs": [
    {
     "data": {
      "text/plain": [
       "{('consumption', 'H2_Comp', 0): 0.0,\n",
       " ('consumption', 'H2_DComp', 0): 0.34246575342465757,\n",
       " ('consumption', 'LiI', 0): 0.0,\n",
       " ('consumption', 'LiI_discharge', 0): None,\n",
       " ('consumption', 'PEM', 0): 0.0,\n",
       " ('consumption', 'PV', 0): 0.0,\n",
       " ('consumption', 'WF', 0): 0.0,\n",
       " ('generation', 'H2_Comp', 0): 0.34246575342465757,\n",
       " ('generation', 'H2_DComp', 0): 0.0,\n",
       " ('generation', 'LiI', 0): 0.028956601492166556,\n",
       " ('generation', 'LiI_discharge', 0): 100.0,\n",
       " ('generation', 'PEM', 0): 0.9682379231683844,\n",
       " ('generation', 'PV', 0): 0.7418954139051036,\n",
       " ('generation', 'WF', 0): 7.697962557686232}"
      ]
     },
     "execution_count": 42,
     "metadata": {},
     "output_type": "execute_result"
    }
   ],
   "source": [
    "results_a.output['Cap_P']"
   ]
  },
  {
   "cell_type": "code",
   "execution_count": 43,
   "metadata": {},
   "outputs": [
    {
     "data": {
      "image/png": "[encoded data removed]",
      "text/plain": [
       "<Figure size 1200x600 with 1 Axes>"
      ]
     },
     "metadata": {},
     "output_type": "display_data"
    }
   ],
   "source": [
    "# plot_results.transport(results=results_bc, source='generation', sink='consumption', resource='H2(C)', transport='Ship')\n",
    "plot_results.transport(results=results_a, source='generation', sink='consumption', resource='H2(C)', transport='Ship')\n"
   ]
  },
  {
   "cell_type": "code",
   "execution_count": null,
   "metadata": {},
   "outputs": [],
   "source": []
  },
  {
   "cell_type": "code",
   "execution_count": null,
   "metadata": {},
   "outputs": [],
   "source": []
  },
  {
   "cell_type": "code",
   "execution_count": null,
   "metadata": {},
   "outputs": [],
   "source": []
  },
  {
   "cell_type": "code",
   "execution_count": 44,
   "metadata": {},
   "outputs": [],
   "source": [
    "netcost_g = sum(cs_g[i] for i in ['capex', 'fopex', 'vopex', 'transport_capex', 'transport_fopex', 'transport_vopex'])"
   ]
  },
  {
   "cell_type": "code",
   "execution_count": 45,
   "metadata": {},
   "outputs": [],
   "source": [
    "netcost_b = sum(cs_b[i] for i in ['capex', 'fopex', 'vopex', 'transport_capex', 'transport_fopex', 'transport_vopex'])"
   ]
  },
  {
   "cell_type": "code",
   "execution_count": 46,
   "metadata": {},
   "outputs": [
    {
     "data": {
      "text/plain": [
       "0.9783846286327174"
      ]
     },
     "execution_count": 46,
     "metadata": {},
     "output_type": "execute_result"
    }
   ],
   "source": [
    "netcost_g/netcost_b"
   ]
  },
  {
   "cell_type": "code",
   "execution_count": 47,
   "metadata": {},
   "outputs": [
    {
     "data": {
      "text/plain": [
       "{('consumption', 'ASMR', 0): 0.0,\n",
       " ('consumption', 'AqOff', 0): 0.0,\n",
       " ('consumption', 'H2_Comp', 0): 0.0,\n",
       " ('consumption', 'H2_DComp', 0): 1.7123287671232703e-05,\n",
       " ('consumption', 'LiI', 0): 0.0,\n",
       " ('consumption', 'LiI_discharge', 0): 0.0,\n",
       " ('consumption', 'NGCC', 0): 0.0,\n",
       " ('consumption', 'PEM', 0): 0.0,\n",
       " ('consumption', 'PV', 0): 0.0,\n",
       " ('consumption', 'SMRH', 0): 0.0,\n",
       " ('consumption', 'WF', 0): 0.0,\n",
       " ('generation', 'ASMR', 0): 443804.65949724277,\n",
       " ('generation', 'AqOff', 0): 0.0,\n",
       " ('generation', 'H2_Comp', 0): 27397.260273972322,\n",
       " ('generation', 'H2_DComp', 0): 0.0,\n",
       " ('generation', 'LiI', 0): 0.0,\n",
       " ('generation', 'LiI_discharge', 0): 0.0,\n",
       " ('generation', 'NGCC', 0): 0.0,\n",
       " ('generation', 'PEM', 0): 75038.439045549,\n",
       " ('generation', 'PV', 0): 0.0,\n",
       " ('generation', 'SMRH', 0): 0.0,\n",
       " ('generation', 'WF', 0): 0.0}"
      ]
     },
     "execution_count": 47,
     "metadata": {},
     "output_type": "execute_result"
    }
   ],
   "source": [
    "results_bc.output['Capex_process']"
   ]
  },
  {
   "cell_type": "code",
   "execution_count": 48,
   "metadata": {},
   "outputs": [
    {
     "data": {
      "text/plain": [
       "{('consumption', 'H2_Comp', 0): 0.0,\n",
       " ('consumption', 'H2_DComp', 0): 1.7123287671232875e-05,\n",
       " ('consumption', 'LiI', 0): 0.0,\n",
       " ('consumption', 'LiI_discharge', 0): 0.0,\n",
       " ('consumption', 'PEM', 0): 0.0,\n",
       " ('consumption', 'PV', 0): 0.0,\n",
       " ('consumption', 'WF', 0): 0.0,\n",
       " ('generation', 'H2_Comp', 0): 27397.260273972603,\n",
       " ('generation', 'H2_DComp', 0): 0.0,\n",
       " ('generation', 'LiI', 0): 1885.3382622136214,\n",
       " ('generation', 'LiI_discharge', 0): 0.0,\n",
       " ('generation', 'PEM', 0): 75038.43904554978,\n",
       " ('generation', 'PV', 0): 49457.0481666973,\n",
       " ('generation', 'WF', 0): 562721.0629668635}"
      ]
     },
     "execution_count": 48,
     "metadata": {},
     "output_type": "execute_result"
    }
   ],
   "source": [
    "results.results['scenario_g'].output['Capex_process']"
   ]
  },
  {
   "cell_type": "code",
   "execution_count": 49,
   "metadata": {},
   "outputs": [
    {
     "data": {
      "text/plain": [
       "{'capex': 716499.14873242,\n",
       " 'fopex': 348996.01984230656,\n",
       " 'vopex': 48579131.95424259,\n",
       " 'cost_purch': 27.005089058525062,\n",
       " 'transport_capex': 216506849.31506848,\n",
       " 'transport_fopex': 0.0,\n",
       " 'transport_vopex': 189660.00000000926,\n",
       " 'cost_total': 266341163.44297484}"
      ]
     },
     "execution_count": 49,
     "metadata": {},
     "output_type": "execute_result"
    }
   ],
   "source": [
    "cs_g"
   ]
  },
  {
   "cell_type": "code",
   "execution_count": 50,
   "metadata": {},
   "outputs": [
    {
     "data": {
      "text/plain": [
       "{'capex': 0.2690155511338474,\n",
       " 'fopex': 0.13103345173192824,\n",
       " 'vopex': 18.23943821760907,\n",
       " 'cost_purch': 1.0139284784008615e-05,\n",
       " 'transport_capex': 81.2892932193802,\n",
       " 'transport_fopex': 0.0,\n",
       " 'transport_vopex': 0.07120942086018053,\n",
       " 'cost_total': 100.0}"
      ]
     },
     "execution_count": 50,
     "metadata": {},
     "output_type": "execute_result"
    }
   ],
   "source": [
    "cc_g"
   ]
  },
  {
   "cell_type": "code",
   "execution_count": 51,
   "metadata": {},
   "outputs": [
    {
     "data": {
      "text/plain": [
       "{('consumption', 'ASMR', 0): 0.0,\n",
       " ('consumption', 'AqOff', 0): 0.0,\n",
       " ('consumption', 'H2_Comp', 0): 0.0,\n",
       " ('consumption', 'H2_DComp', 0): 0.342465753424654,\n",
       " ('consumption', 'LiI', 0): 0.0,\n",
       " ('consumption', 'LiI_discharge', 0): None,\n",
       " ('consumption', 'NGCC', 0): 0.0,\n",
       " ('consumption', 'PEM', 0): 0.0,\n",
       " ('consumption', 'PV', 0): 0.0,\n",
       " ('consumption', 'SMRH', 0): 0.0,\n",
       " ('consumption', 'WF', 0): 0.0,\n",
       " ('generation', 'ASMR', 0): 1.111046142346455,\n",
       " ('generation', 'AqOff', 0): 0.0,\n",
       " ('generation', 'H2_Comp', 0): 0.342465753424654,\n",
       " ('generation', 'H2_DComp', 0): 0.0,\n",
       " ('generation', 'LiI', 0): 0.0,\n",
       " ('generation', 'LiI_discharge', 0): 100.0,\n",
       " ('generation', 'NGCC', 0): 0.0,\n",
       " ('generation', 'PEM', 0): 0.9682379231683743,\n",
       " ('generation', 'PV', 0): 0.0,\n",
       " ('generation', 'SMRH', 0): 0.0,\n",
       " ('generation', 'WF', 0): 0.0}"
      ]
     },
     "execution_count": 51,
     "metadata": {},
     "output_type": "execute_result"
    }
   ],
   "source": [
    "results_bc.output['Cap_P']"
   ]
  },
  {
   "cell_type": "code",
   "execution_count": 52,
   "metadata": {},
   "outputs": [
    {
     "data": {
      "text/plain": [
       "{('consumption', 'H2_Comp', 0): 0.0,\n",
       " ('consumption', 'H2_DComp', 0): 0.3424657534246575,\n",
       " ('consumption', 'LiI', 0): 0.0,\n",
       " ('consumption', 'LiI_discharge', 0): None,\n",
       " ('consumption', 'PEM', 0): 0.0,\n",
       " ('consumption', 'PV', 0): 0.0,\n",
       " ('consumption', 'WF', 0): 0.0,\n",
       " ('generation', 'H2_Comp', 0): 0.3424657534246575,\n",
       " ('generation', 'H2_DComp', 0): 0.0,\n",
       " ('generation', 'LiI', 0): 0.028956601492166553,\n",
       " ('generation', 'LiI_discharge', 0): 100.0,\n",
       " ('generation', 'PEM', 0): 0.9682379231683842,\n",
       " ('generation', 'PV', 0): 0.7418954139051034,\n",
       " ('generation', 'WF', 0): 7.697962557686231}"
      ]
     },
     "execution_count": 52,
     "metadata": {},
     "output_type": "execute_result"
    }
   ],
   "source": [
    "results.results['scenario_g'].output['Cap_P']"
   ]
  },
  {
   "cell_type": "code",
   "execution_count": 53,
   "metadata": {},
   "outputs": [
    {
     "data": {
      "text/plain": [
       "{('consumption', 'AqOff', 0): 0.0,\n",
       " ('consumption', 'H2_Comp', 0): 0.0,\n",
       " ('consumption', 'H2_DComp', 0): 0.3424657534246575,\n",
       " ('consumption', 'LiI', 0): 0.0,\n",
       " ('consumption', 'LiI_discharge', 0): None,\n",
       " ('consumption', 'NGCC', 0): 0.0,\n",
       " ('consumption', 'SMRH', 0): 0.0,\n",
       " ('generation', 'AqOff', 0): 5.796782802107342,\n",
       " ('generation', 'H2_Comp', 0): 0.3424657534246575,\n",
       " ('generation', 'H2_DComp', 0): 0.0,\n",
       " ('generation', 'LiI', 0): 0.0,\n",
       " ('generation', 'LiI_discharge', 0): 100.0,\n",
       " ('generation', 'NGCC', 0): 9.21811940863908,\n",
       " ('generation', 'SMRH', 0): 0.3424657534246575}"
      ]
     },
     "execution_count": 53,
     "metadata": {},
     "output_type": "execute_result"
    }
   ],
   "source": [
    "results.results['scenario_b'].output['Cap_P']"
   ]
  },
  {
   "cell_type": "code",
   "execution_count": 54,
   "metadata": {},
   "outputs": [
    {
     "data": {
      "text/plain": [
       "{('consumption', 'H2_Comp', 0): 0.0,\n",
       " ('consumption', 'H2_DComp', 0): 0.34246575342465757,\n",
       " ('consumption', 'LiI', 0): 0.0,\n",
       " ('consumption', 'LiI_discharge', 0): None,\n",
       " ('consumption', 'PEM', 0): 0.0,\n",
       " ('consumption', 'PV', 0): 0.0,\n",
       " ('consumption', 'WF', 0): 0.0,\n",
       " ('generation', 'H2_Comp', 0): 0.34246575342465757,\n",
       " ('generation', 'H2_DComp', 0): 0.0,\n",
       " ('generation', 'LiI', 0): 0.028956601492166556,\n",
       " ('generation', 'LiI_discharge', 0): 100.0,\n",
       " ('generation', 'PEM', 0): 0.9682379231683844,\n",
       " ('generation', 'PV', 0): 0.7418954139051036,\n",
       " ('generation', 'WF', 0): 7.697962557686232}"
      ]
     },
     "execution_count": 54,
     "metadata": {},
     "output_type": "execute_result"
    }
   ],
   "source": [
    "results.results['scenario_a'].output['Cap_P']"
   ]
  },
  {
   "cell_type": "code",
   "execution_count": 55,
   "metadata": {},
   "outputs": [],
   "source": [
    "from pyomo.environ import Objective\n",
    "model_obj = [i for i in milp_bc.component_objects()\n",
    "                if i.ctype == Objective]"
   ]
  },
  {
   "cell_type": "code",
   "execution_count": 56,
   "metadata": {},
   "outputs": [
    {
     "data": {
      "text/plain": [
       "{('CO2_AQoff', 0): 0.0,\n",
       " ('CO2_Vent', 0): 0.0,\n",
       " ('H2(Sell)', 0): 3000.0000000001432,\n",
       " ('O2', 0): 24005.089058520178}"
      ]
     },
     "execution_count": 56,
     "metadata": {},
     "output_type": "execute_result"
    }
   ],
   "source": [
    "results_bc.output['S_network']"
   ]
  },
  {
   "cell_type": "code",
   "execution_count": 57,
   "metadata": {},
   "outputs": [
    {
     "data": {
      "text/plain": [
       "{('H2(Sell)', 0): 3000.0000000001464, ('O2', 0): 24005.089058520207}"
      ]
     },
     "execution_count": 57,
     "metadata": {},
     "output_type": "execute_result"
    }
   ],
   "source": [
    "results.results['scenario_g'].output['S_network']"
   ]
  },
  {
   "cell_type": "code",
   "execution_count": 58,
   "metadata": {},
   "outputs": [
    {
     "data": {
      "text/plain": [
       "{('CO2_AQoff', 0): 48240.82647913276,\n",
       " ('CO2_Vent', 0): 4289.148281392056,\n",
       " ('H2(Sell)', 0): 3000.0000000001464}"
      ]
     },
     "execution_count": 58,
     "metadata": {},
     "output_type": "execute_result"
    }
   ],
   "source": [
    "results.results['scenario_b'].output['S_network']"
   ]
  },
  {
   "cell_type": "code",
   "execution_count": 59,
   "metadata": {},
   "outputs": [
    {
     "data": {
      "text/plain": [
       "{0: 546240.3588338874}"
      ]
     },
     "execution_count": 59,
     "metadata": {},
     "output_type": "execute_result"
    }
   ],
   "source": [
    "results_bc.output['Capex_network']"
   ]
  },
  {
   "cell_type": "code",
   "execution_count": 60,
   "metadata": {},
   "outputs": [
    {
     "data": {
      "text/plain": [
       "{0: 716499.14873242}"
      ]
     },
     "execution_count": 60,
     "metadata": {},
     "output_type": "execute_result"
    }
   ],
   "source": [
    "results.results['scenario_g'].output['Capex_network']"
   ]
  },
  {
   "cell_type": "code",
   "execution_count": 61,
   "metadata": {},
   "outputs": [
    {
     "data": {
      "text/plain": [
       "962970.1253398622"
      ]
     },
     "execution_count": 61,
     "metadata": {},
     "output_type": "execute_result"
    }
   ],
   "source": [
    "results_bc.output['objective']"
   ]
  },
  {
   "cell_type": "code",
   "execution_count": 62,
   "metadata": {},
   "outputs": [
    {
     "data": {
      "text/plain": [
       "266341163.44297484"
      ]
     },
     "execution_count": 62,
     "metadata": {},
     "output_type": "execute_result"
    }
   ],
   "source": [
    "results.results['scenario_g'].output['objective']"
   ]
  },
  {
   "cell_type": "code",
   "execution_count": 63,
   "metadata": {},
   "outputs": [
    {
     "data": {
      "text/plain": [
       "266341163.44297522"
      ]
     },
     "execution_count": 63,
     "metadata": {},
     "output_type": "execute_result"
    }
   ],
   "source": [
    "results.results['scenario_a'].output['objective']"
   ]
  },
  {
   "cell_type": "code",
   "execution_count": 64,
   "metadata": {},
   "outputs": [
    {
     "data": {
      "text/plain": [
       "{('H2(Sell)', 0): 3000.0000000001464, ('O2', 0): 24005.089058520207}"
      ]
     },
     "execution_count": 64,
     "metadata": {},
     "output_type": "execute_result"
    }
   ],
   "source": [
    "results.results['scenario_a'].output['S_network']"
   ]
  },
  {
   "cell_type": "code",
   "execution_count": 70,
   "metadata": {},
   "outputs": [
    {
     "data": {
      "image/png": "[encoded data removed]",
      "text/plain": [
       "<Figure size 900x500 with 1 Axes>"
      ]
     },
     "metadata": {},
     "output_type": "display_data"
    }
   ],
   "source": [
    "plot_results.schedule(results=results.results['scenario_g'], y_axis='P', component='PV',\n",
    "                      location='generation', fig_size=(9, 5), color='steelblue')"
   ]
  },
  {
   "cell_type": "code",
   "execution_count": 66,
   "metadata": {},
   "outputs": [
    {
     "ename": "KeyError",
     "evalue": "'scenario'",
     "output_type": "error",
     "traceback": [
      "\u001b[1;31m---------------------------------------------------------------------------\u001b[0m",
      "\u001b[1;31mKeyError\u001b[0m                                  Traceback (most recent call last)",
      "Cell \u001b[1;32mIn[66], line 1\u001b[0m\n\u001b[1;32m----> 1\u001b[0m plot_results\u001b[39m.\u001b[39mschedule(results\u001b[39m=\u001b[39mresults\u001b[39m.\u001b[39;49mresults[\u001b[39m'\u001b[39;49m\u001b[39mscenario\u001b[39;49m\u001b[39m'\u001b[39;49m], y_axis\u001b[39m=\u001b[39m\u001b[39m'\u001b[39m\u001b[39mInv\u001b[39m\u001b[39m'\u001b[39m, component\u001b[39m=\u001b[39m\u001b[39m'\u001b[39m\u001b[39mLiI_Power_stored\u001b[39m\u001b[39m'\u001b[39m,\n\u001b[0;32m      2\u001b[0m                       location\u001b[39m=\u001b[39m\u001b[39m'\u001b[39m\u001b[39mgeneration\u001b[39m\u001b[39m'\u001b[39m, fig_size\u001b[39m=\u001b[39m(\u001b[39m9\u001b[39m, \u001b[39m5\u001b[39m), color\u001b[39m=\u001b[39m\u001b[39m'\u001b[39m\u001b[39msteelblue\u001b[39m\u001b[39m'\u001b[39m)\n",
      "\u001b[1;31mKeyError\u001b[0m: 'scenario'"
     ]
    }
   ],
   "source": [
    "plot_results.schedule(results=results.results['scenario'], y_axis='Inv', component='LiI_Power_stored',\n",
    "                      location='generation', fig_size=(9, 5), color='steelblue')"
   ]
  },
  {
   "cell_type": "code",
   "execution_count": null,
   "metadata": {},
   "outputs": [],
   "source": [
    "plot_results.schedule(results=results.results['scenario_g'], y_axis='S', component='H2(Sell)',\n",
    "                      location='consumption', fig_size=(9, 5), color='steelblue')"
   ]
  },
  {
   "cell_type": "code",
   "execution_count": null,
   "metadata": {},
   "outputs": [],
   "source": [
    "plot_results.schedule(results=results.results['scenario_a'], y_axis='S', component='H2(Sell)',\n",
    "                      location='consumption', fig_size=(9, 5), color='steelblue')"
   ]
  },
  {
   "cell_type": "code",
   "execution_count": null,
   "metadata": {},
   "outputs": [],
   "source": [
    "plot_results.schedule(results=results.results['scenario'], y_axis='P', component='PEM',\n",
    "                      location='generation', fig_size=(9, 5), color='steelblue')"
   ]
  },
  {
   "cell_type": "code",
   "execution_count": null,
   "metadata": {},
   "outputs": [],
   "source": [
    "results.results['scenario'].output['objective']"
   ]
  },
  {
   "cell_type": "code",
   "execution_count": null,
   "metadata": {},
   "outputs": [],
   "source": [
    "results.results['scenario'].divide_objective_by('S_network',('H2(Sell)', 0))"
   ]
  },
  {
   "cell_type": "code",
   "execution_count": null,
   "metadata": {},
   "outputs": [],
   "source": [
    "plot_results.cost(results=results.results['scenario_mean'], x=CostX.PROCESS_WISE,\n",
    "                  y=CostY.TOTAL, location='generation', fig_size=(12, 6))"
   ]
  },
  {
   "cell_type": "code",
   "execution_count": null,
   "metadata": {},
   "outputs": [],
   "source": [
    "plot_results.cost(results=results.results['scenario_mean'], x=CostX.PROCESS_WISE,\n",
    "                  y=CostY.TOTAL, location='sequestration', fig_size=(12, 6))"
   ]
  },
  {
   "cell_type": "code",
   "execution_count": null,
   "metadata": {},
   "outputs": [],
   "source": [
    "plot_results.cost(results=results.results['scenario_mean'], x=CostX.PROCESS_WISE,\n",
    "                  y=CostY.TOTAL, location='production', fig_size=(12, 6))"
   ]
  },
  {
   "cell_type": "code",
   "execution_count": null,
   "metadata": {},
   "outputs": [],
   "source": [
    "plot_results.schedule(results=results.results['scenario_mean'], y_axis='P', component='PEM',\n",
    "                      location='production', fig_size=(9, 5), color='steelblue')"
   ]
  },
  {
   "cell_type": "code",
   "execution_count": null,
   "metadata": {},
   "outputs": [],
   "source": [
    "plot_results.schedule(results=results.results['scenario_mean'], y_axis='S', component='H2(C)',\n",
    "                      location='consumption', fig_size=(9, 5), color='steelblue')"
   ]
  },
  {
   "cell_type": "code",
   "execution_count": null,
   "metadata": {},
   "outputs": [],
   "source": [
    "plot_results.schedule(results=results.results['scenario_mean'], y_axis='Inv', component='LiI_Power_stored',\n",
    "                      location='generation', fig_size=(9, 5), color='steelblue')"
   ]
  },
  {
   "cell_type": "code",
   "execution_count": null,
   "metadata": {},
   "outputs": [],
   "source": [
    "# x = results_dict.results['scenario_max'].output['Inv'].values()\n",
    "# x2 = results_dict.results['scenario_mean'].output['Inv'].values()\n"
   ]
  },
  {
   "cell_type": "code",
   "execution_count": null,
   "metadata": {},
   "outputs": [],
   "source": [
    "plot_results.schedule(results=results.results['scenario_mean'], y_axis='P', component='PV',\n",
    "                      location='generation', fig_size=(9, 5), color='steelblue')"
   ]
  },
  {
   "cell_type": "code",
   "execution_count": null,
   "metadata": {},
   "outputs": [],
   "source": [
    "plot_results.schedule(results=results.results['scenario_mean'], y_axis='P', component='WF',\n",
    "                      location='generation', fig_size=(9, 5), color='steelblue')"
   ]
  },
  {
   "cell_type": "code",
   "execution_count": null,
   "metadata": {},
   "outputs": [],
   "source": [
    "PV_plot = [results.results['scenario_mean'].output['P'][('generation', 'PV', *i)] for i in product(range(horizon), range(365), range(24))][:24*7]\n",
    "WF_plot = [results.results['scenario_mean'].output['P'][('generation', 'WF', *i)] for i in product(range(horizon), range(365), range(24))][:24*7]\n",
    "LiI_plot = [results.results['scenario_mean'].output['Inv'][('generation', 'LiI_Power_stored', *i)] for i in product(range(horizon), range(365), range(24))][:24*7]\n",
    "# LiI_plot = [results.results['scenario_mean'].output['P'][('generation', 'LiI', *i)] for i in product(range(horizon), range(365), range(24))][:24*7]\n"
   ]
  },
  {
   "cell_type": "code",
   "execution_count": null,
   "metadata": {},
   "outputs": [],
   "source": [
    "\n",
    "rc('font', **{'family': 'serif',\n",
    "    'serif': ['Computer Modern'], 'size': 16})\n",
    "fig, ax = plt.subplots(figsize=(9,6))\n",
    "ax2 = ax.twinx()\n",
    "x_ = list(range(len(PV_plot)))\n",
    "ax.plot(x_, PV_plot, label = 'PV', color = 'orange')\n",
    "ax.plot(x_, WF_plot, label = 'WF', color = 'blue')\n",
    "ax2.plot(x_, LiI_plot, label = 'LiI', color = 'green', linestyle = '--')\n",
    "\n",
    "# ax = axis_formatter(axes=ax, xcord=x_, axis_labels='M')\n",
    "plt.title('Power production and energy storage levels')\n",
    "ax.set_ylabel(\"Production rate (MW)\")\n",
    "ax2.set_ylabel(\"Inventory Level (MJ)\")\n",
    "ax2.yaxis.label.set_color('green')\n",
    "ax2.set_xlabel(\"Scheduling Horizon (1st week)\")\n",
    "\n",
    "lines, labels = ax.get_legend_handles_labels()\n",
    "lines2, labels2 = ax2.get_legend_handles_labels()\n",
    "ax2.legend(lines + lines2, labels + labels2, loc=\"upper left\")\n",
    "\n",
    "# ax2.set_legend()\n",
    "plt.grid(alpha=0.3)\n",
    "plt.rcdefaults()"
   ]
  },
  {
   "cell_type": "code",
   "execution_count": null,
   "metadata": {},
   "outputs": [],
   "source": [
    "values = [(i,j) for i,j in results.results['scenario_mean'].output['Capex_process'].items() if j>0]\n",
    "x = [i[0][1] for i in values]\n",
    "y = [i[1] for i in values]"
   ]
  },
  {
   "cell_type": "code",
   "execution_count": null,
   "metadata": {},
   "outputs": [],
   "source": [
    "y"
   ]
  },
  {
   "cell_type": "code",
   "execution_count": null,
   "metadata": {},
   "outputs": [],
   "source": [
    "x"
   ]
  },
  {
   "cell_type": "code",
   "execution_count": null,
   "metadata": {},
   "outputs": [],
   "source": [
    "plt.bar(x,y)"
   ]
  },
  {
   "cell_type": "code",
   "execution_count": null,
   "metadata": {},
   "outputs": [],
   "source": [
    "plot_results.transport(results=results.results['scenario_mean'], source='generation', sink='production', resource='Power', transport='Grid')\n",
    "plot_results.transport(results=results.results['scenario_mean'], source='generation', sink='sequestration', resource='CO2', transport='carbon')\n"
   ]
  },
  {
   "cell_type": "code",
   "execution_count": null,
   "metadata": {},
   "outputs": [],
   "source": [
    "plot_results.schedule(results=results.results['scenario_mean'], y_axis='P', component='AqOff',\n",
    "                      location='sequestration', fig_size=(9, 5), color='steelblue')"
   ]
  }
 ],
 "metadata": {
  "kernelspec": {
   "display_name": "Python 3.10.5 ('ki': venv)",
   "language": "python",
   "name": "python3"
  },
  "language_info": {
   "codemirror_mode": {
    "name": "ipython",
    "version": 3
   },
   "file_extension": ".py",
   "mimetype": "text/x-python",
   "name": "python",
   "nbconvert_exporter": "python",
   "pygments_lexer": "ipython3",
   "version": "3.10.5"
  },
  "orig_nbformat": 4,
  "vscode": {
   "interpreter": {
    "hash": "a4a97498e3c1bfef05f70a75d4fcafcb7b5c9c4ed86429a4e7bee46eaa890f24"
   }
  }
 },
 "nbformat": 4,
 "nbformat_minor": 2
}
