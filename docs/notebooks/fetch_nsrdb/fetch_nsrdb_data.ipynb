{
 "cells": [
  {
   "attachments": {},
   "cell_type": "markdown",
   "metadata": {},
   "source": [
    "# Fetching Weather Data From NSRDB"
   ]
  },
  {
   "attachments": {},
   "cell_type": "markdown",
   "metadata": {},
   "source": [
    "__author__ = \"Rahul Kakodkar\"\n",
    "__copyright__ = \"Copyright 2023, Multi-parametric Optimization & Control Lab\"\n",
    "__credits__ = [\"Rahul Kakodkar\", \"Efstratios N. Pistikopoulos\"]\n",
    "__license__ = \"MIT\"\n",
    "__version__ = \"1.0.7\"\n",
    "__maintainer__ = \"Rahul Kakodkar\"\n",
    "__email__ = \"cacodcar@tamu.edu\"\n",
    "__status__ = \"Production\""
   ]
  },
  {
   "attachments": {},
   "cell_type": "markdown",
   "metadata": {},
   "source": [
    "The fetch_nsrdb function accesses the [National Solar Radiation Database (NSRDB)](https://nsrdb.nrel.gov/) hosted by NREL on a Amazon Web Services (AWS) cloud through the h5py module To access large datasets, an API key can be requested from NREL. Instructions on how to set up the API key can be found here : https://github.com/NREL/hsds-examples/blob/master/notebooks/03_NSRDB_introduction.ipynb. Download data at any latitude longitude (globally) or state-county (because of repetition of county names) pairs within the US. While HSDS allows you to splice datasets, the script allows you to also find means within ranges. Arrange data in a dataframe for multiscale analysis, with the temporal indices as tuples. [Can be saved as .csv/.txt/.json/.pkl]. "
   ]
  },
  {
   "cell_type": "code",
   "execution_count": 21,
   "metadata": {},
   "outputs": [],
   "source": [
    "import pandas\n",
    "from energiapy.utils.nsrdb_utils import fetch_nsrdb_data"
   ]
  },
  {
   "attachments": {},
   "cell_type": "markdown",
   "metadata": {},
   "source": [
    "## Using coordinates"
   ]
  },
  {
   "attachments": {},
   "cell_type": "markdown",
   "metadata": {},
   "source": [
    "Coordinates can be used to download required data as shown below. An attrs list can be provided to download specific data such as: air_temperature, clearsky_dhi, clearsky_dni, clearsky_ghi, cloud_type, coordinates, dew_point, dhi, dni, fill_flag, ghi, meta, relative_humidity, solar_zenith_angle, surface_albedo, surface_pressure, time_index, total_precipitable_water, wind_direction, wind_speed"
   ]
  },
  {
   "cell_type": "code",
   "execution_count": 24,
   "metadata": {},
   "outputs": [],
   "source": [
    "coordinates, weather_data = fetch_nsrdb_data(attrs=['ghi', 'wind_speed'], year=2020 , resolution= 'hourly', lat_lon= (29.56999969482422, -95.05999755859375))"
   ]
  },
  {
   "cell_type": "code",
   "execution_count": 25,
   "metadata": {},
   "outputs": [
    {
     "data": {
      "text/html": [
       "<div>\n",
       "<style scoped>\n",
       "    .dataframe tbody tr th:only-of-type {\n",
       "        vertical-align: middle;\n",
       "    }\n",
       "\n",
       "    .dataframe tbody tr th {\n",
       "        vertical-align: top;\n",
       "    }\n",
       "\n",
       "    .dataframe thead th {\n",
       "        text-align: right;\n",
       "    }\n",
       "</style>\n",
       "<table border=\"1\" class=\"dataframe\">\n",
       "  <thead>\n",
       "    <tr style=\"text-align: right;\">\n",
       "      <th></th>\n",
       "      <th>ghi</th>\n",
       "      <th>wind_speed</th>\n",
       "    </tr>\n",
       "  </thead>\n",
       "  <tbody>\n",
       "    <tr>\n",
       "      <th>2020-01-01 00:00:00+00:00</th>\n",
       "      <td>0.0</td>\n",
       "      <td>0.55</td>\n",
       "    </tr>\n",
       "    <tr>\n",
       "      <th>2020-01-01 01:00:00+00:00</th>\n",
       "      <td>0.0</td>\n",
       "      <td>0.25</td>\n",
       "    </tr>\n",
       "    <tr>\n",
       "      <th>2020-01-01 02:00:00+00:00</th>\n",
       "      <td>0.0</td>\n",
       "      <td>0.20</td>\n",
       "    </tr>\n",
       "    <tr>\n",
       "      <th>2020-01-01 03:00:00+00:00</th>\n",
       "      <td>0.0</td>\n",
       "      <td>0.40</td>\n",
       "    </tr>\n",
       "    <tr>\n",
       "      <th>2020-01-01 04:00:00+00:00</th>\n",
       "      <td>0.0</td>\n",
       "      <td>0.50</td>\n",
       "    </tr>\n",
       "    <tr>\n",
       "      <th>...</th>\n",
       "      <td>...</td>\n",
       "      <td>...</td>\n",
       "    </tr>\n",
       "    <tr>\n",
       "      <th>2020-12-31 19:00:00+00:00</th>\n",
       "      <td>74.5</td>\n",
       "      <td>7.35</td>\n",
       "    </tr>\n",
       "    <tr>\n",
       "      <th>2020-12-31 20:00:00+00:00</th>\n",
       "      <td>62.0</td>\n",
       "      <td>7.35</td>\n",
       "    </tr>\n",
       "    <tr>\n",
       "      <th>2020-12-31 21:00:00+00:00</th>\n",
       "      <td>45.0</td>\n",
       "      <td>7.55</td>\n",
       "    </tr>\n",
       "    <tr>\n",
       "      <th>2020-12-31 22:00:00+00:00</th>\n",
       "      <td>95.5</td>\n",
       "      <td>7.05</td>\n",
       "    </tr>\n",
       "    <tr>\n",
       "      <th>2020-12-31 23:00:00+00:00</th>\n",
       "      <td>33.5</td>\n",
       "      <td>6.80</td>\n",
       "    </tr>\n",
       "  </tbody>\n",
       "</table>\n",
       "<p>8784 rows × 2 columns</p>\n",
       "</div>"
      ],
      "text/plain": [
       "                            ghi  wind_speed\n",
       "2020-01-01 00:00:00+00:00   0.0        0.55\n",
       "2020-01-01 01:00:00+00:00   0.0        0.25\n",
       "2020-01-01 02:00:00+00:00   0.0        0.20\n",
       "2020-01-01 03:00:00+00:00   0.0        0.40\n",
       "2020-01-01 04:00:00+00:00   0.0        0.50\n",
       "...                         ...         ...\n",
       "2020-12-31 19:00:00+00:00  74.5        7.35\n",
       "2020-12-31 20:00:00+00:00  62.0        7.35\n",
       "2020-12-31 21:00:00+00:00  45.0        7.55\n",
       "2020-12-31 22:00:00+00:00  95.5        7.05\n",
       "2020-12-31 23:00:00+00:00  33.5        6.80\n",
       "\n",
       "[8784 rows x 2 columns]"
      ]
     },
     "execution_count": 25,
     "metadata": {},
     "output_type": "execute_result"
    }
   ],
   "source": [
    "weather_data"
   ]
  },
  {
   "attachments": {},
   "cell_type": "markdown",
   "metadata": {},
   "source": [
    "In this example we will download weather data for every county at an hourly resolution in Texas using the fetch_nsrd_utils function. The centroids of each county can be downloaded from the following link: https://data.texas.gov/dataset/Texas-Counties-Centroid-Map/ups3-9e8m/data_preview. "
   ]
  },
  {
   "cell_type": "code",
   "execution_count": 22,
   "metadata": {},
   "outputs": [],
   "source": [
    "county_df = pandas.read_csv('Texas_Counties_Centroid_Map.csv')\n",
    "county_list = county_df['CNTY_NM']"
   ]
  },
  {
   "cell_type": "code",
   "execution_count": null,
   "metadata": {},
   "outputs": [],
   "source": [
    "for county in county_list:\n",
    "    fetch_nsrdb_data(attrs=['ghi', 'wind_speed'], year=2020 , resolution= 'hourly', lat_lon= (county_df[county_df['CNTY_NM'] == county]['X (Lat)'].values[0], county_df[county_df['CNTY_NM'] == county]['Y (Long)'].values[0]))[1].to_csv(f'{county}.csv')"
   ]
  },
  {
   "attachments": {},
   "cell_type": "markdown",
   "metadata": {},
   "source": [
    "## Using Attributes"
   ]
  },
  {
   "attachments": {},
   "cell_type": "markdown",
   "metadata": {},
   "source": [
    "fetch_nsrdb_data also allows you to skim and fetch data which match different specifications, e.g. wind data for collection point at the highest elevation in the county. The total list of specifications inclue 'max-population', 'max-elevation', 'max-landcover' 'min-population', 'min-elevation', 'min-landcover'. The state and county needs to be specified. Here we are downloading data for the year 2019 for Harris county in Texas at the collection point with minimum elevation."
   ]
  },
  {
   "cell_type": "code",
   "execution_count": 17,
   "metadata": {},
   "outputs": [],
   "source": [
    "coordinates, weather_data = fetch_nsrdb_data(attrs=['dni', 'dhi', 'wind_speed', 'ghi', 'air_temperature', 'dew_point', 'relative_humidity', 'surface_pressure'], year=2019, state='Texas',\n",
    "                                   county='Harris', resolution='hourly', get='min-elevation')"
   ]
  },
  {
   "cell_type": "code",
   "execution_count": 18,
   "metadata": {},
   "outputs": [
    {
     "data": {
      "text/html": [
       "<div>\n",
       "<style scoped>\n",
       "    .dataframe tbody tr th:only-of-type {\n",
       "        vertical-align: middle;\n",
       "    }\n",
       "\n",
       "    .dataframe tbody tr th {\n",
       "        vertical-align: top;\n",
       "    }\n",
       "\n",
       "    .dataframe thead th {\n",
       "        text-align: right;\n",
       "    }\n",
       "</style>\n",
       "<table border=\"1\" class=\"dataframe\">\n",
       "  <thead>\n",
       "    <tr style=\"text-align: right;\">\n",
       "      <th></th>\n",
       "      <th>dni</th>\n",
       "      <th>dhi</th>\n",
       "      <th>wind_speed</th>\n",
       "      <th>ghi</th>\n",
       "      <th>air_temperature</th>\n",
       "      <th>dew_point</th>\n",
       "      <th>relative_humidity</th>\n",
       "      <th>surface_pressure</th>\n",
       "    </tr>\n",
       "  </thead>\n",
       "  <tbody>\n",
       "    <tr>\n",
       "      <th>2019-01-01 00:00:00</th>\n",
       "      <td>0.0</td>\n",
       "      <td>0.0</td>\n",
       "      <td>0.85</td>\n",
       "      <td>0.0</td>\n",
       "      <td>12.40</td>\n",
       "      <td>9.55</td>\n",
       "      <td>82.775</td>\n",
       "      <td>1015.5</td>\n",
       "    </tr>\n",
       "    <tr>\n",
       "      <th>2019-01-01 01:00:00</th>\n",
       "      <td>0.0</td>\n",
       "      <td>0.0</td>\n",
       "      <td>0.85</td>\n",
       "      <td>0.0</td>\n",
       "      <td>12.10</td>\n",
       "      <td>9.60</td>\n",
       "      <td>84.935</td>\n",
       "      <td>1016.0</td>\n",
       "    </tr>\n",
       "    <tr>\n",
       "      <th>2019-01-01 02:00:00</th>\n",
       "      <td>0.0</td>\n",
       "      <td>0.0</td>\n",
       "      <td>1.00</td>\n",
       "      <td>0.0</td>\n",
       "      <td>11.65</td>\n",
       "      <td>9.80</td>\n",
       "      <td>88.555</td>\n",
       "      <td>1016.0</td>\n",
       "    </tr>\n",
       "    <tr>\n",
       "      <th>2019-01-01 03:00:00</th>\n",
       "      <td>0.0</td>\n",
       "      <td>0.0</td>\n",
       "      <td>1.25</td>\n",
       "      <td>0.0</td>\n",
       "      <td>11.00</td>\n",
       "      <td>9.90</td>\n",
       "      <td>92.810</td>\n",
       "      <td>1016.5</td>\n",
       "    </tr>\n",
       "    <tr>\n",
       "      <th>2019-01-01 04:00:00</th>\n",
       "      <td>0.0</td>\n",
       "      <td>0.0</td>\n",
       "      <td>1.30</td>\n",
       "      <td>0.0</td>\n",
       "      <td>10.35</td>\n",
       "      <td>9.70</td>\n",
       "      <td>95.890</td>\n",
       "      <td>1017.0</td>\n",
       "    </tr>\n",
       "    <tr>\n",
       "      <th>...</th>\n",
       "      <td>...</td>\n",
       "      <td>...</td>\n",
       "      <td>...</td>\n",
       "      <td>...</td>\n",
       "      <td>...</td>\n",
       "      <td>...</td>\n",
       "      <td>...</td>\n",
       "      <td>...</td>\n",
       "    </tr>\n",
       "    <tr>\n",
       "      <th>2019-12-31 19:00:00</th>\n",
       "      <td>456.0</td>\n",
       "      <td>179.5</td>\n",
       "      <td>1.95</td>\n",
       "      <td>450.5</td>\n",
       "      <td>15.45</td>\n",
       "      <td>-0.60</td>\n",
       "      <td>33.290</td>\n",
       "      <td>1021.5</td>\n",
       "    </tr>\n",
       "    <tr>\n",
       "      <th>2019-12-31 20:00:00</th>\n",
       "      <td>16.0</td>\n",
       "      <td>174.5</td>\n",
       "      <td>1.75</td>\n",
       "      <td>183.0</td>\n",
       "      <td>15.55</td>\n",
       "      <td>-0.60</td>\n",
       "      <td>33.085</td>\n",
       "      <td>1021.0</td>\n",
       "    </tr>\n",
       "    <tr>\n",
       "      <th>2019-12-31 21:00:00</th>\n",
       "      <td>17.0</td>\n",
       "      <td>122.0</td>\n",
       "      <td>1.45</td>\n",
       "      <td>128.5</td>\n",
       "      <td>15.10</td>\n",
       "      <td>-0.60</td>\n",
       "      <td>34.155</td>\n",
       "      <td>1020.0</td>\n",
       "    </tr>\n",
       "    <tr>\n",
       "      <th>2019-12-31 22:00:00</th>\n",
       "      <td>2.0</td>\n",
       "      <td>47.5</td>\n",
       "      <td>1.00</td>\n",
       "      <td>48.0</td>\n",
       "      <td>14.25</td>\n",
       "      <td>1.80</td>\n",
       "      <td>42.885</td>\n",
       "      <td>1020.0</td>\n",
       "    </tr>\n",
       "    <tr>\n",
       "      <th>2019-12-31 23:00:00</th>\n",
       "      <td>3.0</td>\n",
       "      <td>9.5</td>\n",
       "      <td>0.80</td>\n",
       "      <td>9.5</td>\n",
       "      <td>13.20</td>\n",
       "      <td>1.70</td>\n",
       "      <td>45.440</td>\n",
       "      <td>1020.0</td>\n",
       "    </tr>\n",
       "  </tbody>\n",
       "</table>\n",
       "<p>8760 rows × 8 columns</p>\n",
       "</div>"
      ],
      "text/plain": [
       "                       dni    dhi  wind_speed    ghi  air_temperature  \\\n",
       "2019-01-01 00:00:00    0.0    0.0        0.85    0.0            12.40   \n",
       "2019-01-01 01:00:00    0.0    0.0        0.85    0.0            12.10   \n",
       "2019-01-01 02:00:00    0.0    0.0        1.00    0.0            11.65   \n",
       "2019-01-01 03:00:00    0.0    0.0        1.25    0.0            11.00   \n",
       "2019-01-01 04:00:00    0.0    0.0        1.30    0.0            10.35   \n",
       "...                    ...    ...         ...    ...              ...   \n",
       "2019-12-31 19:00:00  456.0  179.5        1.95  450.5            15.45   \n",
       "2019-12-31 20:00:00   16.0  174.5        1.75  183.0            15.55   \n",
       "2019-12-31 21:00:00   17.0  122.0        1.45  128.5            15.10   \n",
       "2019-12-31 22:00:00    2.0   47.5        1.00   48.0            14.25   \n",
       "2019-12-31 23:00:00    3.0    9.5        0.80    9.5            13.20   \n",
       "\n",
       "                     dew_point  relative_humidity  surface_pressure  \n",
       "2019-01-01 00:00:00       9.55             82.775            1015.5  \n",
       "2019-01-01 01:00:00       9.60             84.935            1016.0  \n",
       "2019-01-01 02:00:00       9.80             88.555            1016.0  \n",
       "2019-01-01 03:00:00       9.90             92.810            1016.5  \n",
       "2019-01-01 04:00:00       9.70             95.890            1017.0  \n",
       "...                        ...                ...               ...  \n",
       "2019-12-31 19:00:00      -0.60             33.290            1021.5  \n",
       "2019-12-31 20:00:00      -0.60             33.085            1021.0  \n",
       "2019-12-31 21:00:00      -0.60             34.155            1020.0  \n",
       "2019-12-31 22:00:00       1.80             42.885            1020.0  \n",
       "2019-12-31 23:00:00       1.70             45.440            1020.0  \n",
       "\n",
       "[8760 rows x 8 columns]"
      ]
     },
     "execution_count": 18,
     "metadata": {},
     "output_type": "execute_result"
    }
   ],
   "source": [
    "weather_data"
   ]
  },
  {
   "cell_type": "code",
   "execution_count": 19,
   "metadata": {},
   "outputs": [
    {
     "data": {
      "text/plain": [
       "(29.56999969482422, -95.05999755859375)"
      ]
     },
     "execution_count": 19,
     "metadata": {},
     "output_type": "execute_result"
    }
   ],
   "source": [
    "coordinates"
   ]
  },
  {
   "attachments": {},
   "cell_type": "markdown",
   "metadata": {},
   "source": [
    "Data can be concatenated for longer temporal periods"
   ]
  },
  {
   "cell_type": "code",
   "execution_count": null,
   "metadata": {},
   "outputs": [],
   "source": [
    "weather_houston = pandas.concat([fetch_nsrdb_data(attrs=['dni', 'dhi', 'wind_speed', 'ghi', 'air_temperature', 'dew_point', 'relative_humidity', 'surface_pressure'], year=2016+i, state='Texas',\n",
    "                                   county='Harris', resolution='hourly', get='min-elevation')[1] for i in range(5)])\n",
    "weather_houston = p\n",
    "weather_houston.index = pandas.to_datetime(weather_houston.index, utc = True)\n",
    "weather_houston.index = weather_houston.index.strftime('%m/%d/%Y, %r')\n",
    "weather_houston = weather_houston[~weather_houston.index.str.contains('02/29')]"
   ]
  },
  {
   "attachments": {},
   "cell_type": "markdown",
   "metadata": {},
   "source": [
    "## Resolutions"
   ]
  },
  {
   "attachments": {},
   "cell_type": "markdown",
   "metadata": {},
   "source": [
    "The base resolution is 'half-hourly'. 'hourly' and 'daily' resolutions average out the data over their respective time periods."
   ]
  }
 ],
 "metadata": {
  "kernelspec": {
   "display_name": ".venv",
   "language": "python",
   "name": "python3"
  },
  "language_info": {
   "codemirror_mode": {
    "name": "ipython",
    "version": 3
   },
   "file_extension": ".py",
   "mimetype": "text/x-python",
   "name": "python",
   "nbconvert_exporter": "python",
   "pygments_lexer": "ipython3",
   "version": "3.10.5"
  },
  "orig_nbformat": 4
 },
 "nbformat": 4,
 "nbformat_minor": 2
}
