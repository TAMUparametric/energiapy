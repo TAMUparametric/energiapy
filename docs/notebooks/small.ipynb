{
 "cells": [
  {
   "cell_type": "markdown",
   "metadata": {},
   "source": [
    "# Small energy systems MILP example"
   ]
  },
  {
   "attachments": {},
   "cell_type": "markdown",
   "metadata": {},
   "source": [
    "__author__ = \"Rahul Kakodkar\"\n",
    "__copyright__ = \"Copyright 2023, Multi-parametric Optimization & Control Lab\"\n",
    "__credits__ = [\"Rahul Kakodkar\", \"Efstratios N. Pistikopoulos\"]\n",
    "__license__ = \"MIT\"\n",
    "__version__ = \"1.0.5\"\n",
    "__maintainer__ = \"Rahul Kakodkar\"\n",
    "__email__ = \"cacodcar@tamu.edu\"\n",
    "__status__ = \"Complete\"\n"
   ]
  },
  {
   "cell_type": "markdown",
   "metadata": {},
   "source": [
    "A simple problem with three processes\n",
    "\n",
    "- Solar PV with varying capacity factor\n",
    "- Wind Farm with varying capacity factor\n",
    "- Lithium-ion battery storage\n",
    "\n",
    "and varying demand.\n",
    "\n",
    "The problem is modeled over two scales\n",
    "\n",
    "- 0, network scale with 1 time period\n",
    "- 1, scheduling and demand scales with 4 time periods\n",
    "\n"
   ]
  },
  {
   "attachments": {},
   "cell_type": "markdown",
   "metadata": {},
   "source": [
    "**Nomenclature**"
   ]
  },
  {
   "attachments": {},
   "cell_type": "markdown",
   "metadata": {},
   "source": [
    "The sets and variables used are stated here\n",
    "\n",
    "*Sets*\n",
    "\n",
    "\n",
    "- $\\mathcal{R}$ - set of all resources r\n",
    "- $\\mathcal{P}$ - set of all processes p\n",
    "- $\\mathcal{T}$ - set of temporal periods p\n"
   ]
  },
  {
   "attachments": {},
   "cell_type": "markdown",
   "metadata": {},
   "source": [
    "\n",
    "*Subsets*\n",
    "\n",
    "- $\\mathcal{R}^{storage}$ - set of resources that can be stored\n",
    "- $\\mathcal{R}^{sell}$ - set of resources that can be discharged\n",
    "- $\\mathcal{R}^{demand}$ - set of resources that meet  demand\n",
    "- $\\mathcal{R}^{cons}$ - set of resources that can be consumed\n",
    "- $\\mathcal{P}^{uncertain}$ - set of processes with uncertain capacity\n",
    "- $\\mathcal{T}$ - set of temporal periods \n",
    "- $\\mathcal{T}^{net}$ - set of temporal periods t for network level decision making\n",
    "- $\\mathcal{T}^{sch}$ - set of temporal periods t for schedule level decision making\n",
    "\n"
   ]
  },
  {
   "attachments": {},
   "cell_type": "markdown",
   "metadata": {},
   "source": [
    "\n",
    "*Continuous Variables*\n",
    "\n",
    "- $P_{p,t}$ - production level of p $\\in$  $\\mathcal{P}$ in time period t $\\in$ $\\mathcal{T}^{sch}$  \n",
    "    \n",
    "- $C_{r,t}$ - consumption of r $\\in$ $\\mathcal{R}^{cons}$ time period t $\\in$ $\\mathcal{T}^{sch}$ \n",
    "    \n",
    "- $S_{r,t}$ - discharge of r $\\in$ R\\ $\\mathcal{R}^{demand}$ time period t $\\in$ $\\mathcal{T}^{sch}$ \n",
    "    \n",
    "- $Inv_{r,t}$ - inventory level of r $\\in$ $\\mathcal{R}^{storage}$  in time period t $\\in$ $\\mathcal{T}^{sch}$\n",
    "    \n",
    "- $Cap^{S}_{r,t}$ - installed inventory capacity for resource r $\\in$  $\\mathcal{R}^{storage}$ in time period t $\\in$ $\\mathcal{T}^{net}$\n",
    "    \n",
    "- $Cap^{P}_{p,t}$ - installed production capacity for process p $\\in$ $\\mathcal{P}$ in time period t $\\in$ $\\mathcal{T}^{net}$\n",
    "    "
   ]
  },
  {
   "attachments": {},
   "cell_type": "markdown",
   "metadata": {},
   "source": [
    "*Binary Variables*\n",
    "\n",
    "- $X^P_{p,t}$ - network binary for production process p $\\in$ $\\mathcal{P}$ in time period t $\\in$ $\\mathcal{T}^{net}$\n",
    "- $X^S_{r,t}$ - network binary for inventory of resource r $\\in$ $\\mathcal{R}^{storage}$ in time period t $\\in$ $\\mathcal{T}^{net}$\n"
   ]
  },
  {
   "attachments": {},
   "cell_type": "markdown",
   "metadata": {},
   "source": [
    "- $Cap^{P-max}_{p,t}$- maximum production capacity of process p $\\in$ $\\mathcal{P}$ in time period t $\\in$ $\\mathcal{T}^{net}$\n",
    "- $Cap^{S-max}_{r,t}$- maximum inventory capacity for process r $\\in$ $\\mathcal{R}^{storage}$ in time period t $\\in$ $\\mathcal{T}^{net}$\n",
    "- $Capex_{p,t}$ - capital expenditure for process p $\\in$ $\\mathcal{P}$ in time t $\\in$ $\\mathcal{T}^{net}$\n",
    "- $Price_{r,t}$ - purchase price for resource r $\\in$ $\\mathcal{R}^{cons}$ in time t $\\in$ $\\mathcal{T}^{sch}$\n",
    "- $C^{max}_{r,t}$ - maximum consumption availability for resource r $\\in$ $\\mathcal{R}^{cons}$ in time t $\\in$ $\\mathcal{T}^{sch}$\n",
    "- $D_{r,t}$ - demand for resource r in $R^{sell}$ in time t $\\in$ $\\mathcal{T}^{sch}$"
   ]
  },
  {
   "attachments": {},
   "cell_type": "markdown",
   "metadata": {},
   "source": [
    "**MILP Formulation**"
   ]
  },
  {
   "attachments": {},
   "cell_type": "markdown",
   "metadata": {},
   "source": [
    "\n",
    "Given is a general MILP modeling and optimization framework for simultaneous network design and scheduling for a single location problem.\n",
    "\n",
    "\\begin{equation}\n",
    "    min \\sum_{t \\in \\mathcal{T}^{net}} \\sum_{p \\in \\mathcal{P}} Capex_{p,t} \\times Cap^P_{p,t} + \\sum_{t \\in \\mathcal{T}^{sch}} \\sum_{r \\in \\mathcal{R}^{cons}}  Price_{r,t}  \\times C_{r,t} + \\sum_{t \\in \\mathcal{T}^{sch}} \\sum_{p \\in \\mathcal{P}}  Vopex_{r,t} \\times P_{r,t} \n",
    "\\end{equation}\n",
    "\n",
    "\n",
    "\\begin{equation}\n",
    "    Cap^S_{r,t} \\leq Cap^{S-max}_{r,t} \\times X^S_{r,t} \\hspace{1cm} \\forall r \\in \\mathcal{R}^{storage}, t \\in \\mathcal{T}^{net}\n",
    "\\end{equation}\n",
    "\n",
    "\\begin{equation}\n",
    "    Cap^P_{p,t} \\leq Cap^{P-max}_{p,t} \\times X^P_p  \\hspace{1cm} \\forall p \\in \\mathcal{P}, t \\in \\mathcal{T}^{net}\n",
    "\\end{equation} \n",
    "\n",
    "\\begin{equation}\n",
    "    P_{p,t} \\leq Cap^{P}_{p,t}  \\hspace{1cm} \\forall p \\in \\mathcal{P}, t \\in \\mathcal{T}^{sch}\n",
    "\\end{equation} \n",
    "\n",
    "\\begin{equation}\n",
    "    Inv_{r,t} \\leq Cap^{S}_{r,t}  \\hspace{1cm} \\forall r \\in \\mathcal{R}^{storage}, t \\in \\mathcal{T}^{sch}\n",
    "\\end{equation} \n",
    "\n",
    "\n",
    "\\begin{equation}\n",
    "    - S_{r,t} \\leq - D_{r,t}  \\hspace{1cm} \\forall r \\in \\mathcal{R}, t \\in \\mathcal{T}^{sch}\n",
    "\\end{equation}\n",
    "\n",
    "\\begin{equation}\n",
    "    C_{r,t} \\leq C^{max}_{r,t} \\hspace{1cm} \\forall r \\in \\mathcal{R}, t \\in \\mathcal{T}^{sch}\n",
    "\\end{equation}\n",
    "\n",
    "\\begin{equation}\n",
    "    - S_{r,t} + \\sum_{p \\in \\mathcal{P}} P_{p,t} \\times \\eta(p,r) = 0 \\hspace{1cm} \\forall r \\in \\mathcal{R}^{sell}, t \\in \\mathcal{T}^{sch}\n",
    "\\end{equation}\n",
    "\n",
    "\\begin{equation}\n",
    "    -Inv_{r,t} + \\sum_{p \\in \\mathcal{P}} P_{p,t} \\times \\eta(p,r) = 0 \\hspace{1cm} \\forall r \\in \\mathcal{R}^{stored}, t \\in \\mathcal{T}^{sch}\n",
    "\\end{equation}\n",
    "\n",
    "\\begin{equation}\n",
    "    \\sum_{p \\in \\mathcal{P}} P_{p,t} \\times \\eta(p,r) + C_{r,t} = 0 \\hspace{1cm} \\forall r \\in \\mathcal{R}^{cons}, t \\in \\mathcal{T}^{sch}\n",
    "\\end{equation}\n",
    "\n",
    "\\begin{equation}\n",
    "    S_{r,t}, C_{r,t}, Inv_{r,t}, P_{p,t}, Cap^P_p, Cap^S_r \\in R_{\\geq 0}\n",
    "\\end{equation}\n"
   ]
  },
  {
   "cell_type": "markdown",
   "metadata": {},
   "source": [
    "**Import modules**"
   ]
  },
  {
   "cell_type": "code",
   "execution_count": null,
   "metadata": {},
   "outputs": [],
   "source": [
    "import pandas\n",
    "from energiapy.components.temporal_scale import TemporalScale\n",
    "from energiapy.components.resource import Resource, VaryingResource\n",
    "from energiapy.components.process import Process, ProcessMode, VaryingProcess\n",
    "from energiapy.components.location import Location\n",
    "from energiapy.components.scenario import Scenario\n",
    "from energiapy.components.result import Result\n",
    "from energiapy.model.formulate import formulate, Constraints, Objective\n",
    "from energiapy.plot import plot_results, plot_scenario\n",
    "from energiapy.plot.plot_results import CostY, CostX\n",
    "from energiapy.model.solve import solve\n"
   ]
  },
  {
   "cell_type": "markdown",
   "metadata": {},
   "source": [
    "**Input Data**"
   ]
  },
  {
   "cell_type": "markdown",
   "metadata": {},
   "source": [
    "Factors are normalized, and can be used to account for:\n",
    "\n",
    "- variable resource demand (demand_factor)\n",
    "- intermittent resource availability (capacity factor)\n",
    "- varying resource purchase cost (cost factor)"
   ]
  },
  {
   "cell_type": "code",
   "execution_count": null,
   "metadata": {},
   "outputs": [],
   "source": [
    "demand_factor = pandas.DataFrame(data={'Power': [0.6, 0.7, 0.8, 0.3]})\n",
    "capacity_factor_pv = pandas.DataFrame(data={'PV': [0.6, 0.8, 0.9, 0.7]})\n",
    "capacity_factor_wf = pandas.DataFrame(data={'WF': [0.9, 0.8, 0.5, 0.7]})\n"
   ]
  },
  {
   "cell_type": "markdown",
   "metadata": {},
   "source": [
    "**Declare temporal scale**\n"
   ]
  },
  {
   "cell_type": "markdown",
   "metadata": {},
   "source": [
    "Consider four seasons in a year.\n",
    "\n",
    "Network decisions are taken annually (scale level 0)\n",
    "\n",
    "Scheduling decisions are taken seasonally (scale level 1)\n"
   ]
  },
  {
   "cell_type": "code",
   "execution_count": null,
   "metadata": {},
   "outputs": [],
   "source": [
    "scales = TemporalScale(discretization_list=[1, 4])\n"
   ]
  },
  {
   "cell_type": "markdown",
   "metadata": {},
   "source": [
    "**Declare resources**"
   ]
  },
  {
   "cell_type": "markdown",
   "metadata": {},
   "source": [
    "Resources can be declared with attributes such as maximum consumption (cons_max), resource price (price), maximum allowed inventory (store_max)\n",
    "\n",
    "As also whether they can be discharged (sell), have to meet demand (demand)"
   ]
  },
  {
   "cell_type": "code",
   "execution_count": null,
   "metadata": {},
   "outputs": [],
   "source": [
    "Solar = Resource(name='Solar', cons_max=100, basis='MW', label='Solar Power')\n",
    "\n",
    "Wind = Resource(name='Wind', cons_max=100, basis='MW', label='Wind Power')\n",
    "\n",
    "Power = Resource(name='Power', basis='MW', demand=True,\n",
    "                 label='Power generated', varying=VaryingResource.DETERMINISTIC_PRICE)\n"
   ]
  },
  {
   "cell_type": "markdown",
   "metadata": {},
   "source": [
    "**Declare processes**"
   ]
  },
  {
   "cell_type": "markdown",
   "metadata": {},
   "source": [
    "Processes consume resources and can be of three type:\n",
    "\n",
    "- storage, if storage = some_resource \n",
    "- single mode, as with the processes defined here wherein a conversions are provided\n",
    "- multi mode, if a multiconversion dict is provided"
   ]
  },
  {
   "cell_type": "code",
   "execution_count": null,
   "metadata": {},
   "outputs": [],
   "source": [
    "LiI = Process(name='LiI', storage=Power, capex=1302182, fopex=41432, vopex=2000,\n",
    "              prod_max=100, store_max=100, label='Lithium-ion battery', basis='MW')\n",
    "\n",
    "WF = Process(name='WF', conversion={Wind: -1, Power: 1}, capex=990637, fopex=3354, vopex=4953,\n",
    "             prod_max=100, label='Wind mill array', varying=VaryingProcess.DETERMINISTIC_CAPACITY, basis='MW')\n",
    "\n",
    "PV = Process(name='PV', conversion={Solar: -1, Power: 1}, capex=567000, fopex=872046, vopex=90000,\n",
    "             prod_max=100, varying=VaryingProcess.DETERMINISTIC_CAPACITY, label='Solar PV', basis='MW')\n"
   ]
  },
  {
   "cell_type": "markdown",
   "metadata": {},
   "source": [
    "**Declare location**\n"
   ]
  },
  {
   "cell_type": "markdown",
   "metadata": {},
   "source": [
    "Locations are essentially a set of processes, the required resources are collected implicitly.\n",
    "\n",
    "Location-wise capacity, demand, and cost factors can be provided. \n",
    "\n",
    "The scales of the capacity and demand data need to be provided as well."
   ]
  },
  {
   "cell_type": "code",
   "execution_count": null,
   "metadata": {},
   "outputs": [],
   "source": [
    "place = Location(name='place', processes={LiI, PV, WF}, demand_factor={Power: demand_factor}, capacity_factor={PV: capacity_factor_pv, WF: capacity_factor_wf},\n",
    "                 capacity_scale_level=1, demand_scale_level=1, scales=scales, label='some place')\n"
   ]
  },
  {
   "cell_type": "markdown",
   "metadata": {},
   "source": [
    "**Declare scenario**"
   ]
  },
  {
   "cell_type": "markdown",
   "metadata": {},
   "source": [
    "The combination of parameter data, locations, and transportation options generates a scenario. \n",
    "\n",
    "Scenarios are data sets that can be fed to models for analysis. \n",
    "\n",
    "In this case we are generating a scenario for the location houston. The scales need to be consistent.\n",
    "\n",
    "The demand, network, scheduling, and expenditure scales need to be provided. They all default to 0."
   ]
  },
  {
   "cell_type": "code",
   "execution_count": null,
   "metadata": {},
   "outputs": [],
   "source": [
    "case = Scenario(name='case', network=place, network_scale_level=0, demand_scale_level=1,\n",
    "                scheduling_scale_level=1, scales=scales,  demand={place: {Power: 180}}, label='small scenario')\n"
   ]
  },
  {
   "attachments": {},
   "cell_type": "markdown",
   "metadata": {},
   "source": [
    "**Plot conversion factors**"
   ]
  },
  {
   "cell_type": "code",
   "execution_count": null,
   "metadata": {},
   "outputs": [],
   "source": [
    "plot_scenario.capacity_factor(\n",
    "    scenario=case, location=place, process=PV, fig_size=(9, 5), color='orange')\n",
    "plot_scenario.capacity_factor(\n",
    "    scenario=case, location=place, process=WF, fig_size=(9, 5), color='blue')\n",
    "plot_scenario.demand_factor(\n",
    "    scenario=case, location=place, resource=Power, fig_size=(9, 5), color='red')\n"
   ]
  },
  {
   "cell_type": "markdown",
   "metadata": {},
   "source": [
    "**Formulate MILP**"
   ]
  },
  {
   "cell_type": "markdown",
   "metadata": {},
   "source": [
    "Models can be formulated using different constraints and objectives.\n",
    "\n",
    "milp is a pyomo instance, additional constraints can be provided in a bespoke manner"
   ]
  },
  {
   "cell_type": "code",
   "execution_count": null,
   "metadata": {},
   "outputs": [],
   "source": [
    "milp = formulate(scenario=case, constraints={Constraints.COST, Constraints.INVENTORY,\n",
    "                 Constraints.PRODUCTION, Constraints.RESOURCE_BALANCE, Constraints.MODE}, objective=Objective.COST)\n"
   ]
  },
  {
   "cell_type": "markdown",
   "metadata": {},
   "source": [
    "**Solve**"
   ]
  },
  {
   "cell_type": "markdown",
   "metadata": {},
   "source": [
    "To solve the model, the solve requires a scenario and a modeling instance to be provided. \n",
    "\n",
    "Also a solver needs to be chosen."
   ]
  },
  {
   "cell_type": "code",
   "execution_count": null,
   "metadata": {},
   "outputs": [],
   "source": [
    "results = solve(scenario=case, instance=milp, solver='gurobi', name='MILP')\n"
   ]
  },
  {
   "cell_type": "markdown",
   "metadata": {},
   "source": [
    "Models can be summarized as shown below:"
   ]
  },
  {
   "cell_type": "code",
   "execution_count": null,
   "metadata": {},
   "outputs": [],
   "source": [
    "results.model_summary()"
   ]
  },
  {
   "attachments": {},
   "cell_type": "markdown",
   "metadata": {},
   "source": [
    "**Results**"
   ]
  },
  {
   "cell_type": "markdown",
   "metadata": {},
   "source": [
    "Some handy plotting functions such as schedule can plot the production, consumption, sales, inventory schedules"
   ]
  },
  {
   "cell_type": "code",
   "execution_count": null,
   "metadata": {},
   "outputs": [],
   "source": [
    "plot_results.schedule(results=results, y_axis='P', component='PV',\n",
    "                      location='place', fig_size=(9, 5), color='orange')\n",
    "plot_results.schedule(results=results, y_axis='P', component='WF',\n",
    "                      location='place', fig_size=(9, 5), color='blue')\n",
    "plot_results.schedule(results=results, y_axis='P', component='LiI',\n",
    "                      location='place', fig_size=(9, 5), color='green')\n",
    "plot_results.schedule(results=results, y_axis='P', component='LiI_discharge',\n",
    "                      location='place', fig_size=(9, 5), color='green')\n",
    "plot_results.schedule(results=results, y_axis='Inv', component='LiI_Power_stored',\n",
    "                      location='place', fig_size=(9, 5), color='green')\n"
   ]
  },
  {
   "attachments": {},
   "cell_type": "markdown",
   "metadata": {},
   "source": [
    "**Accessing results and inputs**"
   ]
  },
  {
   "cell_type": "markdown",
   "metadata": {},
   "source": [
    "All inputs are stored in results.component\n",
    "\n",
    "All outputs are stored in results.output\n",
    "\n",
    "Values can be accessed as shown below"
   ]
  },
  {
   "cell_type": "code",
   "execution_count": null,
   "metadata": {},
   "outputs": [],
   "source": [
    "results.output['X_P']"
   ]
  },
  {
   "cell_type": "code",
   "execution_count": null,
   "metadata": {},
   "outputs": [],
   "source": [
    "results.output['Cap_P']"
   ]
  }
 ],
 "metadata": {
  "kernelspec": {
   "display_name": "Python 3.10.5 ('ki': venv)",
   "language": "python",
   "name": "python3"
  },
  "language_info": {
   "codemirror_mode": {
    "name": "ipython",
    "version": 3
   },
   "file_extension": ".py",
   "mimetype": "text/x-python",
   "name": "python",
   "nbconvert_exporter": "python",
   "pygments_lexer": "ipython3",
   "version": "3.10.5"
  },
  "orig_nbformat": 4,
  "vscode": {
   "interpreter": {
    "hash": "a4a97498e3c1bfef05f70a75d4fcafcb7b5c9c4ed86429a4e7bee46eaa890f24"
   }
  }
 },
 "nbformat": 4,
 "nbformat_minor": 2
}
