{
 "cells": [
  {
   "attachments": {},
   "cell_type": "markdown",
   "metadata": {},
   "source": [
    "# Multiscale Energy Systems MILP"
   ]
  },
  {
   "attachments": {},
   "cell_type": "markdown",
   "metadata": {},
   "source": [
    "__author__ = \"Rahul Kakodkar\"\n",
    "__copyright__ = \"Copyright 2023, Multi-parametric Optimization & Control Lab\"\n",
    "__credits__ = [\"Rahul Kakodkar\", \"Efstratios N. Pistikopoulos\"]\n",
    "__license__ = \"MIT\"\n",
    "__version__ = \"1.1.0\"\n",
    "__maintainer__ = \"Rahul Kakodkar\"\n",
    "__email__ = \"cacodcar@tamu.edu\"\n",
    "__status__ = \"Production\"\n"
   ]
  },
  {
   "attachments": {},
   "cell_type": "markdown",
   "metadata": {},
   "source": [
    "## Problem Statement"
   ]
  },
  {
   "attachments": {},
   "cell_type": "markdown",
   "metadata": {},
   "source": [
    "\n",
    "The following case study considers three locations along with their fluctuating local demand, weather profiles (capacity factors), and resource (natural gas) prices. The goal is to simultaneously meet the demand for power and hydrogen in Houston through all available technology options.\n",
    "\n",
    "The following processes are considered - \n",
    "\n",
    "- Modular nuclear reactors (ASMR)\n",
    "- Alkaline Water Electrolyzers (AWE)\n",
    "- Hydrogen Storage (H2_L_c/H2_L_d)\n",
    "- Natural Gas Combined Cycle with 95% carbon capture (NGCC)\n",
    "- Pumped Storage Hydropower (PSH/PSH_discharge)\n",
    "- Lithium-ion batteries (LiI/LiI_discharge)\n",
    "- Solar Photovoltaics (PV) \n",
    "- Wind Farms (WF)\n",
    "- Steam Methane Reforming (SMR)\n",
    "- SMR + Carbon Capture Utilization and Storage (SMRH)\n",
    "- Hydrogen Fuel Cells (H2FC)\n",
    "- Direct Air Capture (DAC)\n",
    "- Offshore Aquifers (AQoff)\n",
    "\n",
    "The stated processes utilize the following resources:\n",
    "\n",
    "- Methane (CH4)\n",
    "- Carbon Dioxide (CO2)\n",
    "- CO2 in aquifer (CO2_AQoff)\n",
    "- CO2 Captured from air (CO2_DAC)\n",
    "- Vented CO2 (CO2_Vent)\n",
    "- Hydrogen (H2)\n",
    "- Water (H2O)\n",
    "- Stored hydrogen (H2_L)\n",
    "- Power stored in LiI (LiI_Power)\n",
    "- Oxygen (O2)\n",
    "- Power stored in PSH (PSH_Power)\n",
    "- Power\n",
    "- Solar\n",
    "- Uranium\n",
    "- Wind\n"
   ]
  },
  {
   "cell_type": "markdown",
   "metadata": {},
   "source": [
    "## Nomenclature"
   ]
  },
  {
   "attachments": {},
   "cell_type": "markdown",
   "metadata": {},
   "source": [
    "\n",
    "\n",
    "*Sets*\n",
    "\n",
    "\n",
    "$\\mathcal{R}$ - set of all resources r\n",
    "\n",
    "$\\mathcal{P}$ - set of all processes p\n",
    "\n",
    "$\\mathcal{T}$ - set of temporal periods t\n",
    "\n",
    "$\\mathcal{B}$ - set of transport modes b\n",
    "\n",
    "*Subsets*\n",
    "\n",
    "\n",
    "$\\mathcal{R}^{storage}$ - set of resources that can be stored\n",
    "\n",
    "$\\mathcal{R}^{sell}$ - set of resources that can be discharged\n",
    "\n",
    "$\\mathcal{R}^{demand}$ - set of resources that meet  demand\n",
    "\n",
    "$\\mathcal{R}^{cons}$ - set of resources that can be consumed\n",
    "\n",
    "$\\mathcal{R}^{trans}$ - set of resources that can be transported\n",
    "\n",
    "$\\mathcal{P}^{uncertain}$ - set of processes with uncertain capacity\n",
    "\n",
    "$\\mathcal{T}^{net}$ - set of temporal periods t for network level decision making\n",
    "\n",
    "$\\mathcal{T}^{sch}$ - set of temporal periods t for schedule level decision making\n",
    "\n",
    "\n",
    "*Continuous Variables*\n",
    "\n",
    "\n",
    "$P_{l,p,t}$ - production level of p $\\in$  $\\mathcal{P}$ in time period t $\\in$ $\\mathcal{T}^{sch}$  \n",
    "\n",
    "$C_{l,r,t}$ - consumption of r $\\in$ in $\\mathcal{R}^{cons}$ time period t $\\in$ $\\mathcal{T}^{sch}$ \n",
    "\n",
    "$S_{l,r,t}$ - discharge of r $\\in$ in $\\mathcal{R}^{demand}$ time period t $\\in$ $\\mathcal{T}^{sch}$ \n",
    "\n",
    "$Inv_{l,r,t}$ - inventory level of r $\\in$ $\\mathcal{R}^{storage}$  in time period t $\\in$ $\\mathcal{T}^{sch}$\n",
    "\n",
    "$Cap^S_{l,r,t}$ - installed inventory capacity for resource r $\\in$  $\\mathcal{R}^{storage}$ in time period t $\\in$ $\\mathcal{T}^{net}$\n",
    "\n",
    "$Cap^P_{l,p,t}$ - installed production capacity for process p $\\in$ $\\mathcal{P}$ in time period t $\\in$ $\\mathcal{T}^{net}$\n",
    "\n",
    "*Binary Variables*\n",
    "\n",
    "$X^P_{l,p,t}$ - network binary for production process p $\\in$ $\\mathcal{P}$\n",
    "\n",
    "$X^S_{l,r,t}$ - network binary for inventory of resource r $\\in$  $\\mathcal{R}^{storage}$ \n",
    "\n",
    "*Parameters*\n",
    "\n",
    "$Cap^{P-max}_{l,p,t}$ - maximum production capacity of process p $\\in$ $\\mathcal{P}$ in time t $\\in$ $\\mathcal{T}^{net}$\n",
    "\n",
    "$Cap^{S-max}_{l,r,t}$ - maximum inventory capacity for process r $\\in$ $\\mathcal{R}^{storage}$ in time t $\\in$ $\\mathcal{T}^{net}$\n",
    "\n",
    "$Capex_{l,p,t}$ - capital expenditure for process p $\\in$ $\\mathcal{P}$ in time t $\\in$ $\\mathcal{T}^{net}$\n",
    "\n",
    "$Vopex_{l,p,t}$ - variable operational expenditure for process p $\\in$ $\\mathcal{P}$ in time t $\\in$ $\\mathcal{T}^{sch}$\n",
    "\n",
    "$Price_{l,r,t}$ - purchase price for resource r $\\in$ $\\mathcal{R}^{cons}$ in time t $\\in$ $\\mathcal{T}^{sch}$\n",
    "\n",
    "$C^{max}_{l,r,t}$ - maximum consumption availability for resource r $\\in$ $\\mathcal{R}^{cons}$ in time t $\\in$ $\\mathcal{T}^{sch}$\n",
    "\n",
    "$D_{l,r,t}$ - demand for resource r $in$ $\\mathcal{R}^{sell}$ in time t $\\in$ $\\mathcal{T}^{sch}$\n",
    "\n",
    "$\\alpha$ - annualization factor"
   ]
  },
  {
   "cell_type": "markdown",
   "metadata": {},
   "source": [
    "## MILP Formulation"
   ]
  },
  {
   "attachments": {},
   "cell_type": "markdown",
   "metadata": {},
   "source": [
    "Given is a mulit-scale modeling and optimization MILP framework for the simultaneous design and schedule planning of a single location energy system \n",
    "\n",
    "\\begin{equation}\n",
    "min \\sum_{l \\in \\mathcal{L}} \\Big(\\sum_{t \\in \\mathcal{T}^{net}} \\sum_{p \\in \\mathcal{P}} (\\alpha \\times Capex_{l,p,t} + Fopex_{l,p,t}) \\times Cap^P_{l,p,t} +  \\sum_{t \\in \\mathcal{T}^{sch}} \\sum_{r \\in \\mathcal{R}}  Vopex_{l,r,t} \\times P_{l,r,t} \n",
    "\\end{equation}\n",
    "\n",
    "\\begin{equation*}\n",
    "+ \\sum_{t \\in \\mathcal{T}^{sch}} \\sum_{r \\in \\mathcal{R}^{cons}} C_{l,r,t} \\times Price_{l,r,t} \\Big)\n",
    "\\end{equation*}\n",
    "\n",
    "\\begin{equation}\n",
    "Cap^S_{l,r,t} \\leq Cap^{S-max}_{l,r,t} \\times X^S_{l,r,t} \\hspace{1cm} \\forall r \\in \\mathcal{R}^{storage}, t \\in \\mathcal{T}^{net}\n",
    "\\end{equation}\n",
    "\n",
    "\\begin{equation}\n",
    "Cap^P_{l,p,t} \\leq Cap^{P-max}_{l,p,t} \\times X^P_{l,p,t}  \\hspace{1cm} \\forall p \\in \\mathcal{P}, t \\in \\mathcal{T}^{net}, l \\in \\mathcal{L}\n",
    "\\end{equation} \n",
    "\n",
    "\\begin{equation}\n",
    "P_{l,p,t} \\leq Cap^{P}_{l,p,t}  \\hspace{1cm} \\forall p \\in \\mathcal{P}, t \\in \\mathcal{T}^{sch}\n",
    "\\end{equation} \n",
    "\n",
    "\\begin{equation}\n",
    "Inv_{l,r,t} \\leq Cap^{S}_{l,r,t}  \\hspace{1cm} \\forall r \\in \\mathcal{R}^{storage}, t \\in \\mathcal{T}^{sch}\n",
    "\\end{equation} \n",
    "\n",
    "\n",
    "\\begin{equation}\n",
    "- S_{l,r,t} \\leq - D_{l,r,t}  \\hspace{1cm} \\forall r \\in \\mathcal{R}, t \\in \\mathcal{T}^{sch}\n",
    "\\end{equation}\n",
    "\n",
    "\\begin{equation}\n",
    "C_{l,r,t} \\leq C^{max}_{l,r,t} \\hspace{1cm} \\forall r \\in \\mathcal{R}, t \\in \\mathcal{T}^{sch}\n",
    "\\end{equation}\n",
    "\n",
    "\\begin{equation}\n",
    "\\sum_{p \\in \\mathcal{P}} P_{l,p,t} \\times \\eta(p,r) + C_{l,r,t} +  Inv_{l,r,t-1}=  Inv_{l,r,t} + S_{l,r,t}  \n",
    "\\end{equation}\n",
    "\n",
    "\\begin{equation*}\n",
    "\\forall r \\in \\mathcal{R}^{cons}, t \\in \\mathcal{T}^{sch}, l \\in \\mathcal{L}\n",
    "\\end{equation*}\n",
    "\n",
    "\\begin{equation}\n",
    "S_{l,r,t}, C_{l,r,t}, Inv_{l,r,t}, P_{l,p,t}, Cap^P_{l,p,t}, Cap^S_{l,r,t} \\in R_{\\geq 0}\n",
    "\\end{equation}\n",
    "\n"
   ]
  },
  {
   "attachments": {},
   "cell_type": "markdown",
   "metadata": {},
   "source": [
    "## Import modules"
   ]
  },
  {
   "cell_type": "code",
   "execution_count": null,
   "metadata": {},
   "outputs": [],
   "source": [
    "\n",
    "from energiapy.components.result import Result\n",
    "import pandas\n",
    "import numpy\n",
    "from itertools import product\n",
    "from energiapy.model.solve import solve\n",
    "from energiapy.plot.plot_results import CostY, CostX\n",
    "from energiapy.plot import plot_results, plot_scenario\n",
    "from energiapy.utils.nsrdb_utils import fetch_nsrdb_data\n",
    "from energiapy.model.formulate import formulate, Constraints, Objective\n",
    "from energiapy.utils.data_utils import get_data, make_henry_price_df, remove_outliers, load_results\n",
    "from energiapy.components.transport import Transport\n",
    "from energiapy.components.scenario import Scenario\n",
    "from energiapy.components.network import Network\n",
    "from energiapy.components.location import Location\n",
    "from energiapy.components.process import Process, VaryingProcess\n",
    "from energiapy.components.resource import Resource, VaryingResource\n",
    "from energiapy.components.temporal_scale import TemporalScale\n"
   ]
  },
  {
   "cell_type": "markdown",
   "metadata": {},
   "source": [
    "## Data Import"
   ]
  },
  {
   "attachments": {},
   "cell_type": "markdown",
   "metadata": {},
   "source": [
    "The following data is needed for the model\n",
    "\n",
    "- solar and wind profiles : energiapy.fetch_nsrdb_data imports data from the NREL NSRDB database\n",
    "- power demand : ERCOT for Houston\n",
    "- Natural Gas prices: Henry Hub \n"
   ]
  },
  {
   "attachments": {},
   "cell_type": "markdown",
   "metadata": {},
   "source": [
    "**Declare the horizon here for convenience**"
   ]
  },
  {
   "cell_type": "code",
   "execution_count": null,
   "metadata": {},
   "outputs": [],
   "source": [
    "horizon = 3"
   ]
  },
  {
   "cell_type": "markdown",
   "metadata": {},
   "source": [
    "**Get Weather data**"
   ]
  },
  {
   "attachments": {},
   "cell_type": "markdown",
   "metadata": {},
   "source": [
    "The fetch_nsrdb function accesses the [National Solar Radiation Database (NSRDB)](https://nsrdb.nrel.gov/) hosted by NREL on a Amazon Web Services (AWS) cloud through the h5py module To access large datasets, an API key can be requested from NREL.\n",
    "\n",
    "download data at any latitude longitude (globally) or state-county (because of repetition of county names) pairs within the US.\n",
    "\n",
    "Skim and fetch data which match different specifications, e.g. wind data for collection point at the highest elevation in the county.\n",
    "\n",
    "While HSDS allows you to splice datasets, the script allows you to also find means within ranges.\n",
    "\n",
    "Arrange data in a dataframe for multiscale analysis, with the temporal indices as tuples. [Can be saved as .csv/.txt/.json/.pkl]\n",
    "\n",
    "Here, we import solar data as dni and wind data as wind speed for most populated data point in Harris county (TX) and San Diego county (SD) at an hourly resolution"
   ]
  },
  {
   "cell_type": "code",
   "execution_count": null,
   "metadata": {},
   "outputs": [],
   "source": [
    "\n",
    "weather_sandiego = fetch_nsrdb_data(attrs=['wind_speed', 'dni'], year=2019, state='California',\n",
    "                                    county='San Diego', resolution='hourly', get='min-elevation', save='../data/sd_solar19')[1]\n",
    "\n",
    "weather_houston = fetch_nsrdb_data(attrs=['wind_speed', 'dni'], year=2019, state='Texas',\n",
    "                                   county='Harris', resolution='hourly', get='min-elevation', save='../data/ho_solar19')[1]\n"
   ]
  },
  {
   "attachments": {},
   "cell_type": "markdown",
   "metadata": {},
   "source": [
    "**OR**\n",
    "\n",
    "Import from existing datasets. The data in this case has been downloaded from the NSRDB Viewer"
   ]
  },
  {
   "cell_type": "code",
   "execution_count": null,
   "metadata": {},
   "outputs": [],
   "source": [
    "weather20_df = pandas.read_csv('../data/ho_solar20.csv', index_col=0)\n",
    "weather20_df.index = [i.split('+')[0] for i in weather20_df.index]\n",
    "weather19_df = pandas.read_csv('../data/ho_solar19.csv', index_col=0)\n",
    "weather18_df = pandas.read_csv(\n",
    "    '../data/ho_solar18.csv', names=['wind_speed', 'dni'])\n",
    "weather17_df = pandas.read_csv('../data/ho_solar17.csv', index_col=0)\n",
    "weather16_df = pandas.read_csv('../data/ho_solar16.csv', index_col=0)\n",
    "weather15_df = pandas.read_csv('../data/ho_solar15.csv', index_col=0)\n",
    "weather_df_wl = pandas.concat(\n",
    "    [weather16_df, weather17_df, weather18_df, weather19_df, weather20_df])\n",
    "weather = weather_df_wl[~weather_df_wl.index.str.contains(\n",
    "    '02-29')]  # remove leap years\n",
    "weather = weather[:8760*horizon]\n"
   ]
  },
  {
   "attachments": {},
   "cell_type": "markdown",
   "metadata": {},
   "source": [
    "**import natural gas prices**\n",
    "\n",
    "Natural gas prices are from the Henry price index at a daily temporal resolution.\n",
    "\n",
    "The energia.make_henry_price_df function implicitly fills in gaps in data such as weekends and public holidays by repeating the last recorded prices For e.g. if the 4th of July will use the price for the 3rd of July a typical saturday and sunday will take the values for the last friday.\n",
    "\n",
    "The stretch functionality stretches the values over the hourly temporal scale (8760) from a daily temporal scale (365), again through repetition.\n",
    "\n",
    "Moreover, we can remove outliers usig the remove_outliers features in data_utils"
   ]
  },
  {
   "cell_type": "code",
   "execution_count": null,
   "metadata": {},
   "outputs": [],
   "source": [
    "ng_price20 = make_henry_price_df(\n",
    "    file_name='../data/Henry_Hub_Natural_Gas_Spot_Price_Daily.csv', year=2020)\n",
    "ng_price19 = make_henry_price_df(\n",
    "    file_name='../data/Henry_Hub_Natural_Gas_Spot_Price_Daily.csv', year=2019)\n",
    "ng_price18 = make_henry_price_df(\n",
    "    file_name='../data/Henry_Hub_Natural_Gas_Spot_Price_Daily.csv', year=2018)\n",
    "ng_price17 = make_henry_price_df(\n",
    "    file_name='../data/Henry_Hub_Natural_Gas_Spot_Price_Daily.csv', year=2017)\n",
    "ng_price16 = make_henry_price_df(\n",
    "    file_name='../data/Henry_Hub_Natural_Gas_Spot_Price_Daily.csv', year=2016)\n",
    "ng_price_df = pandas.concat(\n",
    "    [ng_price16, ng_price17, ng_price18, ng_price19, ng_price20])\n",
    "# ng_price_df['index'] = [i for i in demand.index][::24]\n",
    "ng_price_df = ng_price_df.drop(columns='scales')\n",
    "# ng_price = ng_price_df.set_index('index')\n",
    "ng_price = ng_price_df[:365*horizon]\n"
   ]
  },
  {
   "attachments": {},
   "cell_type": "markdown",
   "metadata": {},
   "source": [
    "**Import demand data**\n",
    "\n",
    "Get [hourly power demand data](https://www.ercot.com/gridinfo/load/load_hist)  for Houston from ERCOT Coastal region"
   ]
  },
  {
   "cell_type": "code",
   "execution_count": null,
   "metadata": {},
   "outputs": [],
   "source": [
    "\n",
    "ercot20 = pandas.read_excel('../data/Native_Load_2020.xlsx')\n",
    "ercot19 = pandas.read_excel('../data/Native_Load_2019.xlsx')\n",
    "ercot18 = pandas.read_excel('../data/Native_Load_2018.xlsx')\n",
    "ercot17 = pandas.read_excel('../data/Native_Load_2017.xlsx')\n",
    "ercot16 = pandas.read_excel('../data/Native_Load_2016.xlsx')\n",
    "ercot = pandas.DataFrame(pandas.concat(\n",
    "    [ercot16['COAST'], ercot17['COAST'], ercot18['COAST'], ercot19['COAST'], ercot20['COAST']]))\n",
    "ercot['index'] = weather_df_wl.index\n",
    "# ercot = ercot.drop(columns= 'HourEnding')\n",
    "ercot = ercot.set_index('index')\n",
    "# ercot = ercot[['COAST']]\n",
    "ercot = ercot[~ercot.index.str.contains('02-29')]\n",
    "# random missing data\n",
    "ercot.loc['2016-11-06 23:00:00'] = ercot.loc['2016-11-06 22:00:00']\n",
    "demand = ercot[:8760*horizon]\n"
   ]
  },
  {
   "attachments": {},
   "cell_type": "markdown",
   "metadata": {},
   "source": [
    "Demand for hydrogen (H2) is set at an increasing trajectory"
   ]
  },
  {
   "cell_type": "code",
   "execution_count": null,
   "metadata": {},
   "outputs": [],
   "source": [
    "x = numpy.linspace(0, 8760*horizon, 8760*horizon)\n",
    "demand_H2_df = pandas.DataFrame(\n",
    "    data=(400/(8760*horizon)**(0.5))*x**(0.5) + 100)\n"
   ]
  },
  {
   "cell_type": "markdown",
   "metadata": {},
   "source": [
    "**Technology cost data from NREL ATB**"
   ]
  },
  {
   "attachments": {},
   "cell_type": "markdown",
   "metadata": {},
   "source": [
    "NREL [Annual Technology Baseline (ATB)](https://atb.nrel.gov/) is a good source for technology cost and their expected trajectories. The annualy updated list categorizes trajectories based on the appetite for research and policy push and proposes three distinct scenarios:\n",
    "\n",
    "- Advanced\n",
    "- Moderate\n",
    "- Conservative\n",
    "\n",
    "The data for technologies not covered by ATB are drawn from literature. The trajectories for these technologies (mostly conventional) are set with only modest reduction rates as these have already stagnated in terms of cost, having witness generations of utility scale application; e.g. steam methane reforming (SMR). "
   ]
  },
  {
   "cell_type": "code",
   "execution_count": null,
   "metadata": {},
   "outputs": [],
   "source": [
    "url = 'https://oedi-data-lake.s3.amazonaws.com/ATB/electricity/parquet/2022/ATBe.parquet'\n",
    "raw_data = pandas.read_parquet(url)\n",
    "raw_data = raw_data.astype(\n",
    "    dtype={\n",
    "        'core_metric_key': 'string',\n",
    "        'core_metric_parameter': 'string',\n",
    "        'core_metric_case': 'string',\n",
    "        'crpyears': 'string',\n",
    "        'technology': 'string',\n",
    "        'technology_alias': 'string',\n",
    "        'techdetail': 'string',\n",
    "        'display_name': 'string',\n",
    "        'scenario': 'string',\n",
    "        'units': 'string'\n",
    "    })\n"
   ]
  },
  {
   "cell_type": "code",
   "execution_count": null,
   "metadata": {},
   "outputs": [],
   "source": [
    "def atb_gttr(core_metric_parameters, core_metric_case, crpyear, technology, techdetail, scenario):\n",
    "    df_out = pandas.DataFrame()\n",
    "    for i in core_metric_parameters:\n",
    "        df = pandas.DataFrame(raw_data[\n",
    "            (raw_data.core_metric_parameter == i) &\n",
    "            (raw_data.core_metric_case == core_metric_case) &\n",
    "            (raw_data.crpyears == str(crpyear)) &\n",
    "            (raw_data.technology == technology) &\n",
    "            (raw_data.techdetail == techdetail) &\n",
    "            (raw_data.scenario == scenario)\n",
    "        ][['value']])\n",
    "        df = df.rename({'value': i}, axis='columns')\n",
    "        df = df.reset_index()\n",
    "        df_out = pandas.concat([df_out, df], axis='columns')\n",
    "        df_out = df_out.loc[:, ~df_out.columns.duplicated()].copy()\n",
    "        df_out = df_out.fillna(0)\n",
    "        df_out = df_out.drop(columns=['index'])\n",
    "    return df_out\n"
   ]
  },
  {
   "cell_type": "code",
   "execution_count": null,
   "metadata": {},
   "outputs": [],
   "source": [
    "\n",
    "hig_trl_adv = [(1 - i/(31*15)) for i in range(31)]\n",
    "hig_trl_mod = [(1 - i/(31*10)) for i in range(31)]\n",
    "hig_trl_con = [(1 - i/(31*5)) for i in range(31)]\n",
    "\n",
    "med_trl_adv = [(1 - i/(31*40)) for i in range(31)]\n",
    "med_trl_mod = [(1 - i/(31*30)) for i in range(31)]\n",
    "med_trl_con = [(1 - i/(31*20)) for i in range(31)]\n",
    "\n",
    "low_trl_adv = [(1 - i/(31*70)) for i in range(31)]\n",
    "low_trl_mod = [(1 - i/(31*50)) for i in range(31)]\n",
    "low_trl_con = [(1 - i/(31*30)) for i in range(31)]\n",
    "\n",
    "hig_trl_adv_df = pandas.DataFrame(\n",
    "    data={'CAPEX': hig_trl_adv, 'Fixed O&M': hig_trl_adv, 'Variable O&M': hig_trl_adv})\n",
    "hig_trl_mod_df = pandas.DataFrame(\n",
    "    data={'CAPEX': hig_trl_mod, 'Fixed O&M': hig_trl_mod, 'Variable O&M': hig_trl_mod})\n",
    "hig_trl_con_df = pandas.DataFrame(\n",
    "    data={'CAPEX': hig_trl_con, 'Fixed O&M': hig_trl_con, 'Variable O&M': hig_trl_con})\n",
    "med_trl_adv_df = pandas.DataFrame(\n",
    "    data={'CAPEX': med_trl_adv, 'Fixed O&M': med_trl_adv, 'Variable O&M': med_trl_adv})\n",
    "med_trl_mod_df = pandas.DataFrame(\n",
    "    data={'CAPEX': med_trl_mod, 'Fixed O&M': med_trl_mod, 'Variable O&M': med_trl_mod})\n",
    "med_trl_con_df = pandas.DataFrame(\n",
    "    data={'CAPEX': med_trl_con, 'Fixed O&M': med_trl_con, 'Variable O&M': med_trl_con})\n",
    "low_trl_adv_df = pandas.DataFrame(\n",
    "    data={'CAPEX': low_trl_adv, 'Fixed O&M': low_trl_adv, 'Variable O&M': low_trl_adv})\n",
    "low_trl_mod_df = pandas.DataFrame(\n",
    "    data={'CAPEX': low_trl_mod, 'Fixed O&M': low_trl_mod, 'Variable O&M': low_trl_mod})\n",
    "low_trl_con_df = pandas.DataFrame(\n",
    "    data={'CAPEX': low_trl_con, 'Fixed O&M': low_trl_con, 'Variable O&M': low_trl_con})\n",
    "constant_df = pandas.DataFrame(\n",
    "    data={'CAPEX': [1]*31, 'Fixed O&M': [1]*31, 'Variable O&M': [1]*31})\n",
    "\n",
    "\n",
    "param_list = ['CAPEX', 'Fixed O&M', 'Variable O&M']\n",
    "advanced_dict = {\n",
    "    'PV': atb_gttr(core_metric_parameters=param_list, core_metric_case='Market', crpyear=30, technology='UtilityPV', techdetail='Class1', scenario='Advanced'),\n",
    "    'WF': atb_gttr(core_metric_parameters=param_list, core_metric_case='Market', crpyear=30, technology='LandbasedWind', techdetail='Class1', scenario='Advanced'),\n",
    "    'LiI': atb_gttr(core_metric_parameters=param_list, core_metric_case='R&D', crpyear=30, technology='Commercial Battery Storage', techdetail='8Hr Battery Storage', scenario='Advanced'),\n",
    "    'LII_discharge': constant_df,\n",
    "    'PSH': atb_gttr(core_metric_parameters=param_list, core_metric_case='Market', crpyear=30, technology='Pumped Storage Hydropower', techdetail='NatlClass10', scenario='Advanced'),\n",
    "    'PSH_discharge': constant_df,\n",
    "    'ASMR': atb_gttr(core_metric_parameters=param_list, core_metric_case='Market', crpyear=30, technology='Nuclear', techdetail='NuclearSMR', scenario='Moderate'),\n",
    "    'NPP': atb_gttr(core_metric_parameters=param_list, core_metric_case='Market', crpyear=30, technology='Nuclear', techdetail='Nuclear', scenario='Advanced'),\n",
    "    'NGCC': atb_gttr(core_metric_parameters=param_list, core_metric_case='Market', crpyear=30, technology='NaturalGas_FE', techdetail='CCCCSHFrame95%', scenario='Conservative'),\n",
    "    'SMR': hig_trl_adv_df,\n",
    "    'SMRH': hig_trl_adv_df,\n",
    "    'AqOff': hig_trl_adv_df,\n",
    "    'DAC': low_trl_adv_df,\n",
    "    'AWE': low_trl_adv_df,\n",
    "    'H2_L_c': med_trl_adv_df,\n",
    "    'H2_L_d': constant_df\n",
    "}\n",
    "\n",
    "\n",
    "moderate_dict = {\n",
    "    'PV': atb_gttr(core_metric_parameters=param_list, core_metric_case='Market', crpyear=30, technology='UtilityPV', techdetail='Class1', scenario='Moderate'),\n",
    "    'WF': atb_gttr(core_metric_parameters=param_list, core_metric_case='Market', crpyear=30, technology='LandbasedWind', techdetail='Class1', scenario='Moderate'),\n",
    "    'LiI': atb_gttr(core_metric_parameters=param_list, core_metric_case='R&D', crpyear=30, technology='Commercial Battery Storage', techdetail='8Hr Battery Storage', scenario='Moderate'),\n",
    "    'LII_discharge': constant_df,\n",
    "    'PSH': atb_gttr(core_metric_parameters=param_list, core_metric_case='Market', crpyear=30, technology='Pumped Storage Hydropower', techdetail='NatlClass10', scenario='Moderate'),\n",
    "    'PSH_discharge': constant_df,\n",
    "    'ASMR': atb_gttr(core_metric_parameters=param_list, core_metric_case='Market', crpyear=30, technology='Nuclear', techdetail='NuclearSMR', scenario='Moderate'),\n",
    "    'NPP': atb_gttr(core_metric_parameters=param_list, core_metric_case='Market', crpyear=30, technology='Nuclear', techdetail='Nuclear', scenario='Moderate'),\n",
    "    'NGCC': atb_gttr(core_metric_parameters=param_list, core_metric_case='Market', crpyear=30, technology='NaturalGas_FE', techdetail='CCCCSHFrame95%', scenario='Conservative'),\n",
    "    'SMR': hig_trl_mod_df,\n",
    "    'SMRH': hig_trl_mod_df,\n",
    "    'AqOff': hig_trl_mod_df,\n",
    "    'DAC': low_trl_mod_df,\n",
    "    'AWE': low_trl_mod_df,\n",
    "    'H2_L_c': med_trl_mod_df,\n",
    "    'H2_L_d': constant_df\n",
    "}\n",
    "\n",
    "\n",
    "conservative_dict = {\n",
    "    'PV': atb_gttr(core_metric_parameters=param_list, core_metric_case='Market', crpyear=30, technology='UtilityPV', techdetail='Class1', scenario='Conservative'),\n",
    "    'WF': atb_gttr(core_metric_parameters=param_list, core_metric_case='Market', crpyear=30, technology='LandbasedWind', techdetail='Class1', scenario='Conservative'),\n",
    "    'LiI': atb_gttr(core_metric_parameters=param_list, core_metric_case='R&D', crpyear=30, technology='Commercial Battery Storage', techdetail='8Hr Battery Storage', scenario='Conservative'),\n",
    "    'LII_discharge': constant_df,\n",
    "    'PSH': atb_gttr(core_metric_parameters=param_list, core_metric_case='Market', crpyear=30, technology='Pumped Storage Hydropower', techdetail='NatlClass10', scenario='Conservative'),\n",
    "    'PSH_discharge': constant_df,\n",
    "    # no cons, adv\n",
    "    'ASMR': atb_gttr(core_metric_parameters=param_list, core_metric_case='Market', crpyear=30, technology='Nuclear', techdetail='NuclearSMR', scenario='Moderate'),\n",
    "    'NPP': atb_gttr(core_metric_parameters=param_list, core_metric_case='Market', crpyear=30, technology='Nuclear', techdetail='Nuclear', scenario='Conservative'),\n",
    "    'NGCC': atb_gttr(core_metric_parameters=param_list, core_metric_case='Market', crpyear=30, technology='NaturalGas_FE', techdetail='CCCCSHFrame95%', scenario='Conservative'),\n",
    "    'SMR': hig_trl_con_df,\n",
    "    'SMRH': hig_trl_con_df,\n",
    "    'AqOff': hig_trl_con_df,\n",
    "    'DAC': low_trl_con_df,\n",
    "    'AWE': low_trl_con_df,\n",
    "    'H2_L_c': med_trl_con_df,\n",
    "    'H2_L_d': constant_df\n",
    "}\n"
   ]
  },
  {
   "cell_type": "markdown",
   "metadata": {},
   "source": [
    "## Define temporal scale\n"
   ]
  },
  {
   "cell_type": "markdown",
   "metadata": {},
   "source": [
    "The variabilities of energy systems are best captured over a discretized spatio-temporal scale. In energiapy, the first declaration is the temporal scale. \n",
    "\n",
    "For e.g.: Here we declare three temporal scales at different levels from right to left. The interpretation of these scales is merely symentic. Scales can be declared as the problem demands.\n",
    "- 0, annual, with 1 discretization\n",
    "- 1, daily with 365 discretization\n",
    "- 2, hourly with 24 discretization\n",
    "\n",
    "In essence, we are creating a temporal scale of 8760 points."
   ]
  },
  {
   "cell_type": "code",
   "execution_count": null,
   "metadata": {},
   "outputs": [],
   "source": [
    "scales = TemporalScale(discretization_list=[horizon, 365, 24])\n"
   ]
  },
  {
   "cell_type": "markdown",
   "metadata": {},
   "source": [
    "## Declare resources"
   ]
  },
  {
   "attachments": {},
   "cell_type": "markdown",
   "metadata": {},
   "source": [
    "Resources can be consumed, produced, stored, discharged (or sold). Resources measured as mass (sparing Uranium) are quantified on a per metric ton basis, energy feedstock and resources us a Mega Watt (MW) basis.\n",
    "\n",
    "- Power and Hydrogen (H2) have varying demands which are captured using deterministic data inputs\n",
    "- Methane (CH4) has varying purchase price"
   ]
  },
  {
   "attachments": {},
   "cell_type": "markdown",
   "metadata": {},
   "source": [
    "**Big and small M**"
   ]
  },
  {
   "cell_type": "code",
   "execution_count": null,
   "metadata": {},
   "outputs": [],
   "source": [
    "bigM = 10**6\n",
    "smallM = 10\n"
   ]
  },
  {
   "cell_type": "code",
   "execution_count": null,
   "metadata": {},
   "outputs": [],
   "source": [
    "\n",
    "Solar = Resource(name='Solar', cons_max=bigM, basis='MW', label='Solar Power')\n",
    "\n",
    "Wind = Resource(name='Wind', cons_max=bigM, basis='MW', label='Wind Power')\n",
    "\n",
    "Power = Resource(name='Power', basis='MW', label='Power generated',\n",
    "                 varying=VaryingResource.DETERMINISTIC_DEMAND)\n",
    "\n",
    "LiI_Power = Resource(name='LiI_Power', basis='MW',\n",
    "                     label='Power in LiI', store_max=10000, store_min=smallM)\n",
    "\n",
    "PSH_Power = Resource(name='PSH_Power', basis='MW',\n",
    "                     label='Power in PSH', store_max=10000, store_min=smallM)\n",
    "\n",
    "\n",
    "Uranium = Resource(name='Uranium', cons_max=bigM,\n",
    "                   price=42.70/(250/2), basis='kg', label='Uranium')\n",
    "\n",
    "H2 = Resource(name='H2', basis='tons', label='Hydrogen', demand=True, varying=[VaryingResource.DETERMINISTIC_DEMAND])\n",
    "\n",
    "H2_L = Resource(name='H2_L', basis='tons', label='Hydrogen',\n",
    "                block='Resource', store_max=10000, store_min=smallM)\n",
    "\n",
    "CO2_AQoff = Resource(name='CO2_AQoff', basis='tons',\n",
    "                     label='Carbon dioxide - sequestered', sell=True)\n",
    "\n",
    "H2O = Resource(name='H2O', cons_max=bigM,\n",
    "               price=0.001, basis='tons', label='Water', block='Resource')\n",
    "\n",
    "CH4 = Resource(name='CH4', cons_max=bigM, price=1, basis='tons',\n",
    "               label='Natural gas', varying=[VaryingResource.DETERMINISTIC_PRICE])\n",
    "\n",
    "CO2 = Resource(name='CO2', basis='tons',\n",
    "               label='Carbon dioxide', block='Resource')\n",
    "\n",
    "CO2_Vent = Resource(name='CO2_Vent', sell=True, basis='tons',\n",
    "                    label='Carbon dioxide - Vented')\n",
    "\n",
    "O2 = Resource(name='O2', sell=True, basis='tons', label='Oxygen')\n",
    "\n",
    "CO2_DAC = Resource(name='CO2_DAC', basis='tons',\n",
    "                   label='Carbon dioxide - captured')\n"
   ]
  },
  {
   "attachments": {},
   "cell_type": "markdown",
   "metadata": {},
   "source": [
    "## Declare processes"
   ]
  },
  {
   "attachments": {},
   "cell_type": "markdown",
   "metadata": {},
   "source": [
    "Technology costs are derived from the NREL ATB and conversion factors are derived from literature.\n",
    "\n",
    "- Solar photovoltaics (PVs) and wind farms (WFs) are subject to intermittent capacity rates"
   ]
  },
  {
   "cell_type": "code",
   "execution_count": null,
   "metadata": {},
   "outputs": [],
   "source": [
    "\n",
    "LiI = Process(name='LiI', conversion={Power: -1, LiI_Power: 1}, capex=3516428, fopex=87910,\n",
    "              vopex=0, store_max=10000, store_min=smallM, prod_max=bigM, prod_min=smallM, label='Lithium-ion battery', basis='MW')\n",
    "\n",
    "LiI_discharge = Process(name='LiI', conversion={Power: 1, LiI_Power: -1}, capex=0.1,\n",
    "                        fopex=0.01, vopex=0, prod_max=bigM, prod_min=smallM,  label='Lithium-ion battery (d)', basis='MW')\n",
    "\n",
    "WF = Process(name='WF', conversion={Wind: -1, Power: 1}, capex=1462000, fopex=43000, vopex=4953,\n",
    "             prod_max=bigM, prod_min=smallM,  label='Wind mill array', varying=[VaryingProcess.DETERMINISTIC_CAPACITY], basis='MW')\n",
    "\n",
    "PV = Process(name='PV', conversion={Solar: -1, Power: 1}, capex=1333262, fopex=22623, vopex=0,\n",
    "             prod_max=bigM, prod_min=smallM,  varying=[VaryingProcess.DETERMINISTIC_CAPACITY], label='Solar PV', basis='MW')\n",
    "\n",
    "SMRH = Process(name='SMRH', conversion={Power: -1.11, CH4: -3.76, H2O: -23.7, H2: 1, CO2_Vent: 1.03, CO2: 9.332}, capex=2520000, fopex=945000, vopex=51.5,\n",
    "               prod_max=bigM, prod_min=smallM,  label='Steam methane reforming + CCUS')\n",
    "\n",
    "NGCC = Process(name='NGCC', conversion={Power: 1, CH4: -0.108, CO2_Vent: 0.297*0.05, CO2: 0.297 *\n",
    "               0.95}, capex=2158928, fopex=53320, vopex=4090, prod_max=bigM, prod_min=smallM,  label='NGCC + 95% CC')\n",
    "\n",
    "SMR = Process(name='SMR', capex=2400, fopex=800, vopex=0.03,  conversion={\n",
    "              Power: -1.11, CH4: -3.76, H2O: -23.7, H2: 1, CO2_Vent: 9.4979}, prod_max=bigM, prod_min=smallM,  label='Steam methane reforming')\n",
    "\n",
    "H2FC = Process(name='H2FC', conversion={H2: -0.050, Power: 1}, capex=1.6 *\n",
    "               10**6, vopex=3.5, fopex=0, prod_max=bigM, prod_min=smallM,  label='hydrogen fuel cell')\n",
    "\n",
    "DAC = Process(name='DAC', capex=0.02536, fopex=0.634, vopex=0, conversion={\n",
    "              Power: -0.193, H2O: -4.048, CO2_DAC: 1}, prod_max=bigM, prod_min=smallM,  label='Direct air capture')\n",
    "\n",
    "PSH = Process(name='PSH', conversion={Power: -1, PSH_Power: 1},  capex=3924781,\n",
    "              fopex=17820, vopex=512.5, prod_max=bigM, prod_min=smallM, store_min=smallM, store_max=1000, label='Pumped storage hydropower', basis='MW')\n",
    "\n",
    "PSH_discharge = Process(name='LiI', conversion={Power: 1, PSH_Power: -1},  capex=0.1,\n",
    "                        fopex=0.01, vopex=0, prod_max=bigM, prod_min=smallM,  label='Pumped storage hydropower (d)', basis='MW')\n",
    "\n",
    "H2_L_c = Process(name='H2_L_c', conversion={Power: -0.417, H2_L: 1, H2: -1}, capex=1.6 *\n",
    "                 10**6, vopex=3.5, fopex=0, prod_max=bigM, prod_min=smallM,  label='Hydrogen geological storage')\n",
    "\n",
    "H2_L_d = Process(name='H2_L_d', conversion={H2_L: -1, H2: 1}, capex=0.01, vopex=0.001,\n",
    "                 fopex=0, prod_max=bigM, prod_min=smallM,  label='Hydrogen geological storage discharge')\n",
    "\n",
    "DAC = Process(name='DAC', conversion={Power: -0.193, H2O: -4.048, CO2_DAC: 1},\n",
    "              capex=730, fopex=114, vopex=3.6, prod_max=bigM, prod_min=smallM,  label='Direct air capture')\n",
    "\n",
    "ASMR = Process(name='ASMR', conversion={Uranium: -4.17*10**(-5), H2O: -3.364, Power: 1},\n",
    "               capex=7988951, fopex=0.04*0.730, vopex=0, prod_max=bigM, prod_min=smallM, label='Small modular reactors (SMRs)')\n",
    "\n",
    "AWE = Process(name='AWE', conversion={Power: -1, H2: 0.019, O2: 0.7632, H2O: -0.1753}, capex=1.1*10**6, fopex=16918,\n",
    "              vopex=0, prod_max=bigM, prod_min=smallM, label='Alkaline water electrolysis (AWE)', citation='Demirhan et al. 2018 AIChE paper')\n",
    "\n",
    "AqOff = Process(name='AqOff', conversion={Power: -1.28, CO2_AQoff: 1, CO2: -1}, capex=5.52,\n",
    "                vopex=4.14, fopex=0, prod_max=bigM, prod_min=smallM,   label='Offshore aquifer CO2 sequestration (SMR)')\n"
   ]
  },
  {
   "attachments": {},
   "cell_type": "markdown",
   "metadata": {},
   "source": [
    "**Declare the set of processes to consider**"
   ]
  },
  {
   "cell_type": "code",
   "execution_count": null,
   "metadata": {},
   "outputs": [],
   "source": [
    "process_set = {LiI, WF, PV, SMRH, SMR, DAC,\n",
    "               AWE, H2_L_c, H2_L_d, AqOff, ASMR, PSH, NGCC}\n"
   ]
  },
  {
   "attachments": {},
   "cell_type": "markdown",
   "metadata": {},
   "source": [
    "**Import cost factors**\n",
    "\n",
    "In the following case, we consider the *Advanced* scenario."
   ]
  },
  {
   "cell_type": "code",
   "execution_count": null,
   "metadata": {},
   "outputs": [],
   "source": [
    "capex_factor = {i: pandas.DataFrame(\n",
    "    advanced_dict[i.name][['CAPEX']][:horizon]) for i in process_set}\n",
    "fopex_factor = {i: pandas.DataFrame(\n",
    "    advanced_dict[i.name][['Fixed O&M']][:horizon]) for i in process_set}\n",
    "vopex_factor = {i: pandas.DataFrame(\n",
    "    advanced_dict[i.name][['Variable O&M']][:horizon]) for i in process_set}\n"
   ]
  },
  {
   "attachments": {},
   "cell_type": "markdown",
   "metadata": {},
   "source": [
    "## Declare location"
   ]
  },
  {
   "cell_type": "markdown",
   "metadata": {},
   "source": [
    "\n",
    "\n",
    "The following deterministic data inputs are provide:\n",
    "\n",
    "1. demand factors for Power and Hydrogen (H2) at an hourly resolution (demand_scale_level = 2)\n",
    "2. price factors for Methane (CH4) at a daily resolution (price_scale_level = 1)\n",
    "3. capacity factors for solar photovoltaics (PV) and wind farms (WF) at an hourly resolution (capacity_scale_level = 2)\n",
    "4. capex, fopex, and vopex factors at an annual resolution for all processes (expenditure_scale_level = 0)\n"
   ]
  },
  {
   "cell_type": "code",
   "execution_count": null,
   "metadata": {},
   "outputs": [],
   "source": [
    "houston = Location(name='HO', processes=process_set, capacity_factor={PV: weather[['dni']], WF: weather[['wind_speed']]}, demand_factor={Power: demand, H2: demand_H2_df}, price_factor={\n",
    "                   CH4: ng_price}, scales=scales, label='Houston', capex_factor=capex_factor, vopex_factor=vopex_factor, fopex_factor=fopex_factor, expenditure_scale_level=0, demand_scale_level=2, capacity_scale_level=2, price_scale_level=1)\n"
   ]
  },
  {
   "attachments": {},
   "cell_type": "markdown",
   "metadata": {},
   "source": [
    "## Declare scenario"
   ]
  },
  {
   "cell_type": "markdown",
   "metadata": {},
   "source": [
    "\n",
    "The demand needs to be stated here for each resource at location.\n",
    "energiapy handles demand not stated at a per location level by meeting the demand across all locations\n",
    "Similarly, if resources are not stated the demand is met using all resources with demand (Process.demand = True). This does not make sense for resources with different basis but might be useful if the model needs to meet the demand for similar resources from different sources.\n",
    "\n",
    "The scales need to be stated here to help generate the scenario:\n",
    "\n",
    "1. expenditure scale level - technology expenditure decisions \n",
    "2. scheduling scale level - scheduling decisions such as production levels for process; purchase, discharge (sale), consumption, and inventory levels for resources  \n",
    "3. network scale level - design of network i.e. the location and capacity sizing of production and storage facilities on a per unit basis\n",
    "4. demand scale level - to meet the demand of a resource. Note that if this is higher than the scale for demand factor at location, energiapy will sum the demand across the lower scale\n",
    "5. purchase scale level - purchase of resources that can be consumed. Needs to match the price scale level at location level"
   ]
  },
  {
   "cell_type": "code",
   "execution_count": null,
   "metadata": {},
   "outputs": [],
   "source": [
    "\n",
    "scenario = Scenario(name='scenario_full', network=houston, scales=scales,  expenditure_scale_level=0, scheduling_scale_level=2,\n",
    "                    network_scale_level=0, demand_scale_level=2, purchase_scale_level=1, label='full_case', demand={houston: {H2: 1000, Power: 1000}})\n"
   ]
  },
  {
   "attachments": {},
   "cell_type": "markdown",
   "metadata": {},
   "source": [
    "**Visualization of scenario data**"
   ]
  },
  {
   "cell_type": "code",
   "execution_count": null,
   "metadata": {},
   "outputs": [],
   "source": [
    "\n",
    "plot_scenario.capacity_factor(\n",
    "    scenario=scenario, location=houston, process=PV, fig_size=(9, 5), color='orange')\n"
   ]
  },
  {
   "attachments": {},
   "cell_type": "markdown",
   "metadata": {},
   "source": [
    "![PV capacity factor](plots/cf_pv.png)"
   ]
  },
  {
   "cell_type": "code",
   "execution_count": null,
   "metadata": {},
   "outputs": [],
   "source": [
    "\n",
    "plot_scenario.capacity_factor(\n",
    "    scenario=scenario, location=houston, process=WF, fig_size=(9, 5), color='blue')\n"
   ]
  },
  {
   "attachments": {},
   "cell_type": "markdown",
   "metadata": {},
   "source": [
    "![WF capacity factor](plots/cf_wf.png)"
   ]
  },
  {
   "cell_type": "code",
   "execution_count": null,
   "metadata": {},
   "outputs": [],
   "source": [
    "\n",
    "plot_scenario.demand_factor(\n",
    "    scenario=scenario, location=houston, resource=H2, fig_size=(9, 5), color='red')\n"
   ]
  },
  {
   "attachments": {},
   "cell_type": "markdown",
   "metadata": {},
   "source": [
    "![H2 demand factor](plots/df_h2.png)"
   ]
  },
  {
   "cell_type": "code",
   "execution_count": null,
   "metadata": {},
   "outputs": [],
   "source": [
    "\n",
    "plot_scenario.demand_factor(\n",
    "    scenario=scenario, location=houston, resource=Power, fig_size=(9, 5), color='red')\n"
   ]
  },
  {
   "attachments": {},
   "cell_type": "markdown",
   "metadata": {},
   "source": [
    "![Power demand factor](plots/df_pw.png)"
   ]
  },
  {
   "cell_type": "code",
   "execution_count": null,
   "metadata": {},
   "outputs": [],
   "source": [
    "\n",
    "plot_scenario.capex_factor(\n",
    "    scenario=scenario, location=houston, process=AWE, fig_size=(9, 5), color='green')\n"
   ]
  },
  {
   "attachments": {},
   "cell_type": "markdown",
   "metadata": {},
   "source": [
    "![expenditure factor awe factor](plots/ef_awe.png)"
   ]
  },
  {
   "cell_type": "code",
   "execution_count": null,
   "metadata": {},
   "outputs": [],
   "source": [
    "\n",
    "plot_scenario.price_factor(\n",
    "    scenario=scenario, location=houston, resource=CH4, fig_size=(9, 5), color='black')\n"
   ]
  },
  {
   "attachments": {},
   "cell_type": "markdown",
   "metadata": {},
   "source": [
    "![Natural gas price factor](plots/pf_ng.png)"
   ]
  },
  {
   "attachments": {},
   "cell_type": "markdown",
   "metadata": {},
   "source": [
    "## Formulate MILP"
   ]
  },
  {
   "cell_type": "code",
   "execution_count": null,
   "metadata": {},
   "outputs": [],
   "source": [
    "milp_cost = formulate(scenario=scenario, constraints={Constraints.COST, Constraints.INVENTORY, Constraints.PRODUCTION,\n",
    "                      Constraints.RESOURCE_BALANCE, Constraints.NETWORK}, objective=Objective.COST)\n"
   ]
  },
  {
   "attachments": {},
   "cell_type": "markdown",
   "metadata": {},
   "source": [
    "## Optimize for minimum cost"
   ]
  },
  {
   "cell_type": "code",
   "execution_count": null,
   "metadata": {},
   "outputs": [],
   "source": [
    "\n",
    "results_cost = solve(scenario=scenario, instance=milp_cost, solver='gurobi',\n",
    "                     name=f\"results_slsp_cost\", print_solversteps=True, saveformat='.pkl')\n"
   ]
  },
  {
   "cell_type": "code",
   "execution_count": null,
   "metadata": {},
   "outputs": [],
   "source": [
    "plot_results.cost(results=results_cost, x=CostX.PROCESS_WISE,\n",
    "                  y=CostY.TOTAL, location='HO', fig_size=(8, 6))"
   ]
  },
  {
   "attachments": {},
   "cell_type": "markdown",
   "metadata": {},
   "source": [
    "![Total Costs](plots/total.png)"
   ]
  },
  {
   "cell_type": "code",
   "execution_count": null,
   "metadata": {},
   "outputs": [],
   "source": [
    "\n",
    "plot_results.schedule(results=results_cost, y_axis='P', component='ASMR',\n",
    "                      location='HO', fig_size=(9, 5), color='steelblue')\n"
   ]
  },
  {
   "attachments": {},
   "cell_type": "markdown",
   "metadata": {},
   "source": [
    "![Schdule for ASMR](plots/sch_asmr.png)"
   ]
  },
  {
   "cell_type": "code",
   "execution_count": null,
   "metadata": {},
   "outputs": [],
   "source": [
    "\n",
    "plot_results.schedule(results=results_cost, y_axis='P', component='WF',\n",
    "                      location='HO', fig_size=(9, 5), color='steelblue')\n"
   ]
  },
  {
   "attachments": {},
   "cell_type": "markdown",
   "metadata": {},
   "source": [
    "![Schdule for WF](plots/sch_wf.png)"
   ]
  },
  {
   "cell_type": "code",
   "execution_count": null,
   "metadata": {},
   "outputs": [],
   "source": [
    "\n",
    "plot_results.schedule(results=results_cost, y_axis='Inv', component='H2_L',\n",
    "                      location='HO', fig_size=(9, 5), color='steelblue')"
   ]
  },
  {
   "attachments": {},
   "cell_type": "markdown",
   "metadata": {},
   "source": [
    "![Schedule for H2L](plots/sch_h2l.png)"
   ]
  }
 ],
 "metadata": {
  "kernelspec": {
   "display_name": "Python 3.10.5 ('ki': venv)",
   "language": "python",
   "name": "python3"
  },
  "language_info": {
   "codemirror_mode": {
    "name": "ipython",
    "version": 3
   },
   "file_extension": ".py",
   "mimetype": "text/x-python",
   "name": "python",
   "nbconvert_exporter": "python",
   "pygments_lexer": "ipython3",
   "version": "3.10.5"
  },
  "orig_nbformat": 4,
  "vscode": {
   "interpreter": {
    "hash": "a4a97498e3c1bfef05f70a75d4fcafcb7b5c9c4ed86429a4e7bee46eaa890f24"
   }
  }
 },
 "nbformat": 4,
 "nbformat_minor": 2
}
