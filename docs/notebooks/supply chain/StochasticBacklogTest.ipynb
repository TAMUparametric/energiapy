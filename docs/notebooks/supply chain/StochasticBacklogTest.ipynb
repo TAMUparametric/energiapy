{
 "cells": [
  {
   "cell_type": "code",
   "execution_count": 24,
   "id": "initial_id",
   "metadata": {
    "collapsed": true,
    "ExecuteTime": {
     "end_time": "2025-08-22T18:49:34.573945Z",
     "start_time": "2025-08-22T18:49:34.555595Z"
    }
   },
   "outputs": [],
   "source": [
    "import sys\n",
    "sys.path.append('../../../src')\n",
    "\n",
    "import pandas\n",
    "from energiapy.components.temporal_scale import TemporalScale\n",
    "from energiapy.components.resource import Resource, VaryingResource\n",
    "from energiapy.components.process import Process, VaryingProcess\n",
    "from energiapy.components.location import Location\n",
    "from energiapy.components.transport import Transport, VaryingTransport\n",
    "from energiapy.components.network import Network\n",
    "from energiapy.components.scenario import Scenario\n",
    "from energiapy.model.constraints.demand import constraint_demand_lb\n",
    "from energiapy.model.formulate import formulate, Constraints, Objective\n",
    "from energiapy.utils.scale_utils import scale_tuple\n",
    "\n",
    "from pyomo.environ import value as pyoval\n",
    "from pyomo.environ import Var, Constraint, NonNegativeReals\n",
    "# from pyomo.contrib.iis import write_iis\n",
    "\n",
    "import time\n",
    "import pickle\n",
    "from itertools import product\n",
    "\n",
    "import mpisppy.utils.sputils as sputils\n",
    "from mpisppy.opt.ef import ExtensiveForm"
   ]
  },
  {
   "cell_type": "code",
   "outputs": [],
   "source": [
    "design_planning_horizons = 1\n",
    "design_execution_scenarios = 52\n",
    "design_time_intervals = 7\n",
    "\n",
    "capacity_scale_factor = 10\n",
    "\n",
    "M = 1e4\n",
    "\n",
    "design_annualization_factor = 1/design_planning_horizons"
   ],
   "metadata": {
    "collapsed": false,
    "ExecuteTime": {
     "end_time": "2025-08-22T18:49:34.589564Z",
     "start_time": "2025-08-22T18:49:34.575032Z"
    }
   },
   "id": "8702fa40cf6858d5",
   "execution_count": 25
  },
  {
   "cell_type": "code",
   "outputs": [],
   "source": [
    "# fill_rate = float(sys.argv[1])\n",
    "# \n",
    "# print(f\"fill_rate: {fill_rate}\")\n",
    "# print(f\"Type: {type(fill_rate)}\")"
   ],
   "metadata": {
    "collapsed": false,
    "ExecuteTime": {
     "end_time": "2025-08-22T18:49:34.605074Z",
     "start_time": "2025-08-22T18:49:34.590608Z"
    }
   },
   "id": "cd1f31618373d378",
   "execution_count": 26
  },
  {
   "cell_type": "code",
   "outputs": [],
   "source": [
    "def create_list(n_total: int, n: int):\n",
    "    return [1] * n + [0] * (n_total - n)"
   ],
   "metadata": {
    "collapsed": false,
    "ExecuteTime": {
     "end_time": "2025-08-22T18:49:34.620165Z",
     "start_time": "2025-08-22T18:49:34.606216Z"
    }
   },
   "id": "aaa3cf9f2ca0740b",
   "execution_count": 27
  },
  {
   "cell_type": "code",
   "outputs": [],
   "source": [
    "def create_event_dict(n_total: int):\n",
    "    default_list = [1] * n_total\n",
    "\n",
    "    # If event names are same before '_'; they are considered mutually exclusive\n",
    "    event_dict = {\n",
    "        'cap2_1': {'prob': 0.06, 'factor': pandas.DataFrame(data={('loc2', 'com1_process'): create_list(n_total, 13)})},\n",
    "        'cap2_2': {'prob': 0.12, 'factor': pandas.DataFrame(data={('loc2', 'com1_process'): create_list(n_total, 26)})},\n",
    "        'cap2_3': {'prob': 0.17, 'factor': pandas.DataFrame(data={('loc2', 'com1_process'): create_list(n_total, 39)})},\n",
    "        'cap2_nd': {'prob': 0.65, 'factor': pandas.DataFrame(data={('loc2', 'com1_process'): default_list})},\n",
    "\n",
    "        # 'cap4_1': {'prob': 0.05, 'factor': pandas.DataFrame(data={('loc4', 'com1_process'): create_list(n_total, 1)})},\n",
    "        # 'cap4_2': {'prob': 0.15, 'factor': pandas.DataFrame(data={('loc4', 'com1_process'): create_list(n_total, 2)})},\n",
    "        # 'cap4_3': {'prob': 0.18, 'factor': pandas.DataFrame(data={('loc4', 'com1_process'): create_list(n_total, 3)})},\n",
    "        # 'cap4_nd': {'prob': 0.62, 'factor': pandas.DataFrame(data={('loc4', 'com1_process'): default_list})},\n",
    "\n",
    "        # 'cap7_1': {'prob': 0.04, 'factor': pandas.DataFrame(data={('loc7', 'com1_process'): create_list(n_total, 1)})},\n",
    "        # 'cap7_2': {'prob': 0.15, 'factor': pandas.DataFrame(data={('loc7', 'com1_process'): create_list(n_total, 2)})},\n",
    "        # 'cap7_3': {'prob': 0.2, 'factor': pandas.DataFrame(data={('loc7', 'com1_process'): create_list(n_total, 3)})},\n",
    "        # 'cap7_nd': {'prob': 0.61, 'factor': pandas.DataFrame(data={('loc7', 'com1_process'): default_list})},\n",
    "\n",
    "        # 'res1_1': {'prob': 0.06, 'factor': pandas.DataFrame(data={('loc1', 'com1_pur'): create_list(n_total, 1)})},\n",
    "        # 'res1_2': {'prob': 0.12, 'factor': pandas.DataFrame(data={('loc1', 'com1_pur'): create_list(n_total, 2)})},\n",
    "        # 'res1_3': {'prob': 0.19, 'factor': pandas.DataFrame(data={('loc1', 'com1_pur'): create_list(n_total, 3)})},\n",
    "        # 'res1_nd': {'prob': 0.63, 'factor': pandas.DataFrame(data={('loc1', 'com1_pur'): default_list})},\n",
    "\n",
    "        'res6_1': {'prob': 0.03, 'factor': pandas.DataFrame(data={('loc6', 'com1_pur'): create_list(n_total, 13)})},\n",
    "        'res6_2': {'prob': 0.16, 'factor': pandas.DataFrame(data={('loc6', 'com1_pur'): create_list(n_total, 26)})},\n",
    "        'res6_3': {'prob': 0.17, 'factor': pandas.DataFrame(data={('loc6', 'com1_pur'): create_list(n_total, 39)})},\n",
    "        'res6_nd': {'prob': 0.64, 'factor': pandas.DataFrame(data={('loc6', 'com1_pur'): default_list})},\n",
    "\n",
    "        # 'truck12_2': {'prob': 0.2, 'factor': pandas.DataFrame(data={('truck12', 'com1_loc1_out'): create_list(n_total, 2)})},\n",
    "        # 'truck12_nd': {'prob': 0.8, 'factor': pandas.DataFrame(data={('truck12', 'com1_loc1_out'): default_list})},\n",
    "\n",
    "        'truck25_2': {'prob': 0.3, 'factor': pandas.DataFrame(data={('truck25', 'com1_loc2_out'): create_list(n_total, 26)})},\n",
    "        'truck25_nd': {'prob': 0.7, 'factor': pandas.DataFrame(data={('truck25', 'com1_loc2_out'): default_list})},\n",
    "\n",
    "        'truck47_1': {'prob': 0.2, 'factor': pandas.DataFrame(data={('truck47', 'com1_loc4_out'): create_list(n_total, 13)})},\n",
    "        'truck47_nd': {'prob': 0.8, 'factor': pandas.DataFrame(data={('truck47', 'com1_loc4_out'): default_list})},\n",
    "    }\n",
    "\n",
    "    return event_dict\n"
   ],
   "metadata": {
    "collapsed": false,
    "ExecuteTime": {
     "end_time": "2025-08-22T18:49:34.635541Z",
     "start_time": "2025-08-22T18:49:34.622414Z"
    }
   },
   "id": "afdf25dfc9f6e27c",
   "execution_count": 28
  },
  {
   "cell_type": "code",
   "outputs": [],
   "source": [
    "# Function to generate the scenario dictionary for n sets of events\n",
    "def create_scenario_dict(event_dict):\n",
    "    # Extract unique event prefixes (e.g., 'cap2', 'cap4', ...)\n",
    "    event_prefixes = set(key.split('_')[0] for key in event_dict)\n",
    "\n",
    "    # Group events by their prefixes\n",
    "    grouped_events = {prefix: [key for key in event_dict if key.startswith(prefix)] for prefix in event_prefixes}\n",
    "\n",
    "    # Create all possible combinations of events across the different groups\n",
    "    event_combinations = list(product(*grouped_events.values()))\n",
    "\n",
    "    scenario_dict = {}\n",
    "\n",
    "    # Iterate over all event combinations\n",
    "    for combination in event_combinations:\n",
    "        # Construct the scenario key\n",
    "        scenario_key = ' '.join(combination)\n",
    "\n",
    "        # Calculate the probability of this scenario\n",
    "        prob = 1\n",
    "        combined_factor = None\n",
    "\n",
    "        for event_key in combination:\n",
    "            # Multiply probabilities\n",
    "            prob *= event_dict[event_key]['prob']\n",
    "\n",
    "            # Combine factors (assumes they are pandas DataFrames)\n",
    "            if combined_factor is None:\n",
    "                combined_factor = event_dict[event_key]['factor'].copy()\n",
    "            else:\n",
    "                combined_factor = combined_factor.add(event_dict[event_key]['factor'], fill_value=0)\n",
    "\n",
    "        # Add to the scenario dictionary\n",
    "        scenario_dict[scenario_key] = {'prob': prob, 'factor': combined_factor}\n",
    "\n",
    "    return scenario_dict"
   ],
   "metadata": {
    "collapsed": false,
    "ExecuteTime": {
     "end_time": "2025-08-22T18:49:34.651131Z",
     "start_time": "2025-08-22T18:49:34.636584Z"
    }
   },
   "id": "68e268cf2337f217",
   "execution_count": 29
  },
  {
   "cell_type": "code",
   "outputs": [],
   "source": [
    "def build_design_model(eps: float, scen_df=pandas.DataFrame()):\n",
    "    default_df = pandas.DataFrame(data=[1] * design_execution_scenarios)\n",
    "\n",
    "    # Define temporal scales\n",
    "    scales = TemporalScale(discretization_list=[design_planning_horizons, design_execution_scenarios, design_time_intervals])\n",
    "\n",
    "    # ======================================================================================================================\n",
    "    # Declare resources/commodities\n",
    "    # ======================================================================================================================\n",
    "    com1_pur = Resource(name='com1_pur', cons_max=500 * capacity_scale_factor,\n",
    "                        block={'imp': 1, 'urg': 1}, price=0.00, label='Commodity 1 consumed from outside the system',\n",
    "                        varying=[VaryingResource.DETERMINISTIC_AVAILABILITY])\n",
    "\n",
    "    com1_in = Resource(name='com1_in', label='Commodity 1 received')\n",
    "    com1_out = Resource(name='com1_out', label='Commodity 1 to be sent out')\n",
    "\n",
    "    com1_loc1_out = Resource(name='com1_loc1_out', label='Commodity 1 sent out from location 1')\n",
    "    com1_loc2_out = Resource(name='com1_loc2_out', label='Commodity 1 sent out from location 2')\n",
    "    com1_loc3_out = Resource(name='com1_loc3_out', label='Commodity 1 sent out from location 3')\n",
    "    com1_loc4_out = Resource(name='com1_loc4_out', label='Commodity 1 sent out from location 4')\n",
    "    com1_loc5_out = Resource(name='com1_loc5_out', label='Commodity 1 sent out from location 5')\n",
    "    com1_loc6_out = Resource(name='com1_loc6_out', label='Commodity 1 sent out from location 6')\n",
    "    com1_loc7_out = Resource(name='com1_loc7_out', label='Commodity 1 sent out from location 7')\n",
    "\n",
    "    com1_sold = Resource(name='com1_sold', revenue=0.00, demand=True, sell=True,\n",
    "                         label='Commodity 1 sold to outside the system')\n",
    "\n",
    "    # ======================================================================================================================\n",
    "    # Declare processes/storage capacities\n",
    "    # ======================================================================================================================\n",
    "    com1_process_capacity = 500 * capacity_scale_factor\n",
    "    min_process_capacity = 0.01\n",
    "\n",
    "    com1_procure = Process(name='procure com1', prod_max=com1_process_capacity, conversion={com1_pur: -1, com1_in: 1},\n",
    "                           capex=25, vopex=0.01, prod_min=min_process_capacity, label='Procure com1')\n",
    "    com1_sell = Process(name='sell com1', prod_max=com1_process_capacity, conversion={com1_out: -1, com1_sold: 1},\n",
    "                        capex=1, vopex=0.01, prod_min=min_process_capacity, label='Sell com1')\n",
    "\n",
    "    com1_receive_loc1 = Process(name='com1_receive_loc1', prod_max=com1_process_capacity,\n",
    "                                conversion={com1_loc1_out: -1, com1_in: 1}, capex=1,\n",
    "                                vopex=0.01, prod_min=min_process_capacity, label='Commodity 1 received from location 1')\n",
    "    com1_receive_loc2 = Process(name='com1_receive_loc2', prod_max=com1_process_capacity,\n",
    "                                conversion={com1_loc2_out: -1, com1_in: 1}, capex=1,\n",
    "                                vopex=0.01, prod_min=min_process_capacity, label='Commodity 1 received from location 2')\n",
    "    com1_receive_loc3 = Process(name='com1_receive_loc3', prod_max=com1_process_capacity,\n",
    "                                conversion={com1_loc3_out: -1, com1_in: 1}, capex=1,\n",
    "                                vopex=0.01, prod_min=min_process_capacity, label='Commodity 1 received from location 3')\n",
    "    com1_receive_loc4 = Process(name='com1_receive_loc4', prod_max=com1_process_capacity,\n",
    "                                conversion={com1_loc4_out: -1, com1_in: 1}, capex=1,\n",
    "                                vopex=0.01, prod_min=min_process_capacity, label='Commodity 1 received from location 4')\n",
    "    # com1_receive_loc5 = Process(name='com1_receive_loc5', prod_max=com1_process_capacity,\n",
    "    #                             conversion={com1_loc5_out: -1, com1_in: 1}, capex=1,\n",
    "    #                             vopex=0.01, prod_min=min_process_capacity, label='Commodity 1 received from location 5')\n",
    "    com1_receive_loc6 = Process(name='com1_receive_loc6', prod_max=com1_process_capacity,\n",
    "                                conversion={com1_loc6_out: -1, com1_in: 1}, capex=1,\n",
    "                                vopex=0.01, prod_min=min_process_capacity, label='Commodity 1 received from location 6')\n",
    "    com1_receive_loc7 = Process(name='com1_receive_loc7', prod_max=com1_process_capacity,\n",
    "                                conversion={com1_loc7_out: -1, com1_in: 1}, capex=1,\n",
    "                                vopex=0.01, prod_min=min_process_capacity, label='Commodity 1 received from location 7')\n",
    "\n",
    "    com1_process = Process(name='com1_process', prod_max=com1_process_capacity, conversion={com1_in: -1, com1_out: 1},\n",
    "                           capex=50, vopex=0.1, prod_min=min_process_capacity,\n",
    "                           varying=[VaryingProcess.DETERMINISTIC_CAPACITY],\n",
    "                           label='Process the commodity through the location')\n",
    "\n",
    "    com1_store = Process(name='com1_store', prod_max=com1_process_capacity, capex=20, vopex=5,\n",
    "                         store_min=0.01, store_max=500 * capacity_scale_factor,\n",
    "                         prod_min=min_process_capacity, label=\"Storage capacity of upto 100 units\", storage=com1_in,\n",
    "                         storage_cost=0.02, storage_capex=75)\n",
    "\n",
    "    com1_loc1_send = Process(name='com1_loc1_send', prod_max=com1_process_capacity,\n",
    "                             conversion={com1_out: -1, com1_loc1_out: 1}, capex=1, vopex=0.01,\n",
    "                             prod_min=min_process_capacity, label='Send commodity one from location 1')\n",
    "    com1_loc2_send = Process(name='com1_loc2_send', prod_max=com1_process_capacity,\n",
    "                             conversion={com1_out: -1, com1_loc2_out: 1}, capex=1, vopex=0.01,\n",
    "                             prod_min=min_process_capacity, label='Send commodity one from location 2')\n",
    "    com1_loc3_send = Process(name='com1_loc3_send', prod_max=com1_process_capacity,\n",
    "                             conversion={com1_out: -1, com1_loc3_out: 1}, capex=1, vopex=0.01,\n",
    "                             prod_min=min_process_capacity, label='Send commodity one from location 3')\n",
    "    com1_loc4_send = Process(name='com1_loc4_send', prod_max=com1_process_capacity,\n",
    "                             conversion={com1_out: -1, com1_loc4_out: 1}, capex=1, vopex=0.01,\n",
    "                             prod_min=min_process_capacity, label='Send commodity one from location 4')\n",
    "    com1_loc5_send = Process(name='com1_loc5_send', prod_max=com1_process_capacity,\n",
    "                             conversion={com1_out: -1, com1_loc5_out: 1}, capex=1, vopex=0.01,\n",
    "                             prod_min=min_process_capacity, label='Send commodity one from location 5')\n",
    "    com1_loc6_send = Process(name='com1_loc6_send', prod_max=com1_process_capacity,\n",
    "                             conversion={com1_out: -1, com1_loc6_out: 1}, capex=1, vopex=0.01,\n",
    "                             prod_min=min_process_capacity, label='Send commodity one from location 6')\n",
    "    com1_loc7_send = Process(name='com1_loc7_send', prod_max=com1_process_capacity,\n",
    "                             conversion={com1_out: -1, com1_loc7_out: 1}, capex=1, vopex=0.01,\n",
    "                             prod_min=min_process_capacity, label='Send commodity one from location 7')\n",
    "\n",
    "    # ======================================================================================================================\n",
    "    # Declare locations/warehouses\n",
    "    # ======================================================================================================================\n",
    "    loc1 = Location(name='loc1',\n",
    "                    processes={com1_procure, com1_process, com1_store, com1_loc1_send}, label=\"Location 1\",\n",
    "                    scales=scales, demand_scale_level=2, capacity_scale_level=1, availability_scale_level=1,\n",
    "                    availability_factor={com1_pur: scen_df[[('loc1', 'com1_pur')]] if ('loc1', 'com1_pur') in scen_df else default_df},\n",
    "                    capacity_factor={com1_process: scen_df[[('loc1', 'com1_proces')]] if ('loc1', 'com1_proces') in scen_df else default_df})\n",
    "\n",
    "    loc2 = Location(name='loc2', processes={com1_receive_loc1, com1_process, com1_store, com1_loc2_send}, label=\"Location 2\",\n",
    "                    scales=scales, demand_scale_level=2, capacity_scale_level=1, availability_scale_level=1,\n",
    "                    capacity_factor={com1_process: scen_df[[('loc2', 'com1_process')]] if ('loc2', 'com1_process') in scen_df else default_df})\n",
    "\n",
    "    loc3 = Location(name='loc3', processes={com1_receive_loc1, com1_process, com1_store, com1_loc3_send}, label=\"Location 3\",\n",
    "                    scales=scales, demand_scale_level=2, capacity_scale_level=1, availability_scale_level=1,\n",
    "                    capacity_factor={com1_process: scen_df[[('loc3', 'com1_process')]] if ('loc3', 'com1_process') in scen_df else default_df})\n",
    "\n",
    "    loc4 = Location(name='loc4', processes={com1_receive_loc2, com1_receive_loc3, com1_receive_loc6, com1_process, com1_store, com1_loc4_send}, label=\"Location 4\",\n",
    "                    scales=scales, demand_scale_level=2, capacity_scale_level=1, availability_scale_level=1,\n",
    "                    capacity_factor={com1_process: scen_df[[('loc4', 'com1_process')]] if ('loc4', 'com1_process') in scen_df else default_df})\n",
    "\n",
    "    loc5 = Location(name='loc5', processes={com1_receive_loc1, com1_receive_loc2, com1_receive_loc4, com1_receive_loc7, com1_process, com1_store, com1_loc5_send,\n",
    "                                            com1_sell}, label=\"Location 5\", scales=scales, demand_scale_level=2, capacity_scale_level=1, availability_scale_level=1,\n",
    "                    capacity_factor={com1_process: scen_df[[('loc5', 'com1_process')]] if ('loc5', 'com1_process') in scen_df else default_df})\n",
    "\n",
    "    loc6 = Location(name='loc6', processes={com1_procure, com1_process, com1_store, com1_loc6_send}, label=\"Location 6\",\n",
    "                    scales=scales, demand_scale_level=2, capacity_scale_level=1, availability_scale_level=1,\n",
    "                    availability_factor={com1_pur: scen_df[[('loc6', 'com1_pur')]] if ('loc6', 'com1_pur') in scen_df else default_df},\n",
    "                    capacity_factor = {com1_process: scen_df[[('loc6', 'com1_process')]] if ('loc6', 'com1_process') in scen_df else default_df})\n",
    "\n",
    "    loc7 = Location(name='loc7', processes={com1_receive_loc4, com1_process, com1_store, com1_loc7_send}, label=\"Location 7\",\n",
    "                    scales=scales, demand_scale_level=2, capacity_scale_level=1, availability_scale_level=1,\n",
    "                    capacity_factor={com1_process: scen_df[[('loc7', 'com1_process')]] if ('loc7', 'com1_process') in scen_df else default_df})\n",
    "\n",
    "    # ======================================================================================================================\n",
    "    # Declare transport/trucks\n",
    "    # ======================================================================================================================\n",
    "\n",
    "    truck_cap12 = 140 * capacity_scale_factor\n",
    "    truck_cap13 = 60\n",
    "    truck_cap24 = 100 * capacity_scale_factor\n",
    "    truck_cap25 = 60 * capacity_scale_factor\n",
    "    truck_cap34 = 60 \n",
    "    truck_cap45 = 200 * capacity_scale_factor\n",
    "    truck_cap47 = 80 * capacity_scale_factor\n",
    "    truck_cap64 = 100 * capacity_scale_factor\n",
    "    truck_cap75 = 80 * capacity_scale_factor\n",
    "    plane_cap15 = 30\n",
    "\n",
    "\n",
    "    truck_capmin = 0.01\n",
    "    plane_capmin = 0.01\n",
    "\n",
    "    truck12 = Transport(name='truck12', resources={com1_loc1_out}, trans_max=truck_cap12, label='Truck from location 1 to 2',\n",
    "                        capex=0.5, vopex=0.05, trans_min=truck_capmin,\n",
    "                        varying=[VaryingTransport.DETERMINISTIC_CAPACITY])\n",
    "    # truck21 = Transport(name='truck21', resources={com1_loc2_out}, trans_max=truck_cap12, label='Truck from location 2 to 1', capex=0.0001, vopex=0.05, trans_min=truck_capmin, speed=50, varying=[VaryingTransport.DETERMINISTIC_CAPACITY])\n",
    "\n",
    "    truck13 = Transport(name='truck13', resources={com1_loc1_out}, trans_max=truck_cap13, label='Truck from location 1 to 3',\n",
    "                        capex=0.3, vopex=0.03, trans_min=truck_capmin,\n",
    "                        varying=[VaryingTransport.DETERMINISTIC_CAPACITY])\n",
    "    # truck31 = Transport(name='truck31', resources={com1_loc3_out}, trans_max=truck_cap13, label='Truck from location 3 to 1', capex=0.0001, vopex=0.03, trans_min=truck_capmin, speed=50, varying=[VaryingTransport.DETERMINISTIC_CAPACITY])\n",
    "\n",
    "    truck24 = Transport(name='truck24', resources={com1_loc2_out}, trans_max=truck_cap24, label='Truck from location 2 to 4',\n",
    "                        capex=0.5, vopex=0.05, trans_min=truck_capmin,\n",
    "                        varying=[VaryingTransport.DETERMINISTIC_CAPACITY])\n",
    "    # truck42 = Transport(name='truck42', resources={com1_loc4_out}, trans_max=truck_cap24, label='Truck from location 4 to 2', capex=0.0001, vopex=0.05, trans_min=truck_capmin, speed=50, varying=[VaryingTransport.DETERMINISTIC_CAPACITY])\n",
    "\n",
    "    truck25 = Transport(name='truck25', resources={com1_loc2_out}, trans_max=truck_cap25, label='Truck from location 2 to 5',\n",
    "                        capex=0.3, vopex=0.03, trans_min=truck_capmin,\n",
    "                        varying=[VaryingTransport.DETERMINISTIC_CAPACITY])\n",
    "    # truck52 = Transport(name='truck52', resources={com1_loc5_out}, trans_max=truck_cap25, label='Truck from location 5 to 2', capex=0.0001, vopex=0.03, trans_min=truck_capmin, speed=50, varying=[VaryingTransport.DETERMINISTIC_CAPACITY])\n",
    "\n",
    "    truck34 = Transport(name='truck34', resources={com1_loc3_out}, trans_max=truck_cap34, label='Truck from location 3 to 4',\n",
    "                        capex=0.2, vopex=0.02, trans_min=truck_capmin,\n",
    "                        varying=[VaryingTransport.DETERMINISTIC_CAPACITY])\n",
    "    # truck43 = Transport(name='truck43', resources={com1_loc4_out}, trans_max=truck_cap34, label='Truck from location 4 to 3', capex=0.0001, vopex=0.02, trans_min=truck_capmin, speed=50, varying=[VaryingTransport.DETERMINISTIC_CAPACITY])\n",
    "\n",
    "    truck45 = Transport(name='truck45', resources={com1_loc4_out}, trans_max=truck_cap45, label='Truck from location 4 to 5',\n",
    "                        capex=1, vopex=0.1, trans_min=truck_capmin,\n",
    "                        varying=[VaryingTransport.DETERMINISTIC_CAPACITY])\n",
    "    # truck54 = Transport(name='truck54', resources={com1_loc5_out}, trans_max=truck_cap45, label='Truck from location 5 to 4', capex=0.0001, vopex=0.1, trans_min=truck_capmin, speed=50, varying=[VaryingTransport.DETERMINISTIC_CAPACITY])\n",
    "\n",
    "    truck47 = Transport(name='truck47', resources={com1_loc4_out}, trans_max=truck_cap47, label='Truck from location 4 to 7',\n",
    "                        capex=0.4, vopex=0.04, trans_min=truck_capmin,\n",
    "                        varying=[VaryingTransport.DETERMINISTIC_CAPACITY])\n",
    "    # truck74 = Transport(name='truck74', resources={com1_loc7_out}, trans_max=truck_cap47, label='Truck from location 7 to 4', capex=0.0001, vopex=0.04, trans_min=truck_capmin, speed=50, varying=[VaryingTransport.DETERMINISTIC_CAPACITY])\n",
    "\n",
    "    truck64 = Transport(name='truck64', resources={com1_loc6_out}, trans_max=truck_cap64, label='Truck from location 6 to 4',\n",
    "                        capex=0.5, vopex=0.05, trans_min=truck_capmin,\n",
    "                        varying=[VaryingTransport.DETERMINISTIC_CAPACITY])\n",
    "    # truck46 = Transport(name='truck46', resources={com1_loc4_out}, trans_max=truck_cap64, label='Truck from location 4 to 6', capex=0.0001, vopex=0.05, trans_min=truck_capmin, speed=50, varying=[VaryingTransport.DETERMINISTIC_CAPACITY])\n",
    "\n",
    "    truck75 = Transport(name='truck75', resources={com1_loc7_out}, trans_max=truck_cap75, label='Truck from location 7 to 5',\n",
    "                        capex=0.4, vopex=0.04, trans_min=truck_capmin,\n",
    "                        varying=[VaryingTransport.DETERMINISTIC_CAPACITY])\n",
    "    # truck57 = Transport(name='truck57', resources={com1_loc5_out}, trans_max=truck_cap75, label='Truck from location 5 to 7', capex=0.0001, vopex=0.04, trans_min=truck_capmin, speed=50, varying=[VaryingTransport.DETERMINISTIC_CAPACITY])\n",
    "\n",
    "    plane15 = Transport(name='plane15', resources={com1_loc1_out}, trans_max=plane_cap15, label='Plane from location 1 to 5',\n",
    "                        capex=3, vopex=0.5, trans_min=plane_capmin,\n",
    "                        varying=[VaryingTransport.DETERMINISTIC_CAPACITY])\n",
    "\n",
    "    # ======================================================================================================================\n",
    "    # Declare network\n",
    "    # ======================================================================================================================\n",
    "\n",
    "    transport_matrix = [\n",
    "        [[], [truck12], [truck13], [], [plane15], [], []],  # source: location 1\n",
    "        [[], [], [], [truck24], [truck25], [], []],  # source: location 2\n",
    "        [[], [], [], [truck34], [], [], []],  # source: location 3\n",
    "        [[], [], [], [], [truck45], [], [truck47]],  # source: location 4\n",
    "        [[], [], [], [], [], [], []],  # source: location 5\n",
    "        [[], [], [], [truck64], [], [], []],  # source: location 6\n",
    "        [[], [], [], [], [truck75], [], []]  # source: location 7\n",
    "    ]\n",
    "\n",
    "    # transport_matrix = [\n",
    "    #     [[], [truck12], [truck13], [], [], [], []],  # source: location 1\n",
    "    #     [[truck21], [], [], [truck24], [truck25], [], []],  # source: location 2\n",
    "    #     [[truck31], [], [], [truck34], [], [], []],  # source: location 3\n",
    "    #     [[], [truck42], [truck43], [], [truck45], [truck46], [truck47]],  # source: location 4\n",
    "    #     [[], [truck52], [], [truck54], [], [], [truck57]],  # source: location 5\n",
    "    #     [[], [], [], [truck64], [], [], []],  # source: location 6\n",
    "    #     [[], [], [], [truck74], [truck75], [], []]  # source: location 7\n",
    "    # ]\n",
    "\n",
    "    distance_matrix = [\n",
    "        [0, 55, 196, M, 130, M, M],\n",
    "        [55, 0, M, 163, 112, M, 134],\n",
    "        [196, M, 0, 63, M, M, M],\n",
    "        [M, 163, 63, 0, 95, 117, 88],\n",
    "        [130, 112, M, 95, 0, 150, 134],\n",
    "        [M, M, M, 117, M, 0, M],\n",
    "        [M, 134, M, 88, 134, M, 0]\n",
    "    ]\n",
    "\n",
    "    locset = [loc1, loc2, loc3, loc4, loc5, loc6, loc7]\n",
    "\n",
    "    sources = locset\n",
    "    sinks = locset\n",
    "\n",
    "    network = Network(name='Network', scales=scales, source_locations=sources, sink_locations=sinks, transport_matrix=transport_matrix, distance_matrix=distance_matrix,\n",
    "                      transport_capacity_scale_level=1,\n",
    "                      transport_capacity_factor={\n",
    "                          (loc1, loc2): {truck12: scen_df[[('truck12', 'com1_loc1_out')]] if ('truck12','com1_loc1_out') in scen_df else default_df},\n",
    "                          (loc1, loc3): {truck13: scen_df[[('truck13', 'com1_loc1_out')]] if ('truck13','com1_loc1_out') in scen_df else default_df},\n",
    "                          (loc1, loc5): {plane15: scen_df[[('plane15', 'com1_loc1_out')]] if ('plane15','com1_loc1_out') in scen_df else default_df},\n",
    "                          (loc2, loc4): {truck24: scen_df[[('truck24', 'com1_loc2_out')]] if ('truck24','com1_loc2_out') in scen_df else default_df},\n",
    "                          (loc2, loc5): {truck25: scen_df[[('truck25', 'com1_loc2_out')]] if ('truck25','com1_loc2_out') in scen_df else default_df},\n",
    "                          (loc3, loc4): {truck34: scen_df[[('truck34', 'com1_loc3_out')]] if ('truck34','com1_loc3_out') in scen_df else default_df},\n",
    "                          (loc4, loc5): {truck45: scen_df[[('truck45', 'com1_loc4_out')]] if ('truck45','com1_loc4_out') in scen_df else default_df},\n",
    "                          (loc4, loc7): {truck47: scen_df[[('truck47', 'com1_loc4_out')]] if ('truck47','com1_loc4_out') in scen_df else default_df},\n",
    "                          (loc6, loc4): {truck64: scen_df[[('truck64', 'com1_loc6_out')]] if ('truck64','com1_loc6_out') in scen_df else default_df},\n",
    "                          (loc7, loc5): {truck75: scen_df[[('truck75', 'com1_loc7_out')]] if ('truck75','com1_loc7_out') in scen_df else default_df},\n",
    "                                                 })\n",
    "\n",
    "    # ======================================================================================================================\n",
    "    # Declare scenario\n",
    "    # ======================================================================================================================\n",
    "\n",
    "    daily_demand = 100\n",
    "    demand_penalty = 75\n",
    "    backlog_penalty = 50\n",
    "\n",
    "    demand_dict = {i: {com1_sold: daily_demand} if i == loc5 else {com1_sold: 0} for i in locset}\n",
    "    demand_penalty_dict = {i: {com1_sold: demand_penalty} if i == loc5 else {com1_sold: 0} for i in locset}\n",
    "    backlog_penalty_dict = {i:{com1_sold: backlog_penalty} if i == loc5 else {com1_sold: 0} for i in locset}\n",
    "    \n",
    "    backlog_zero = {loc5: {com1_sold:34}}\n",
    "\n",
    "    scenario = Scenario(name=f'design scenario', label='Design Scenario', annualization_factor=design_annualization_factor, scales=scales,\n",
    "                scheduling_scale_level=2, network_scale_level=0,  purchase_scale_level=2, availability_scale_level=1, demand_scale_level=2, capacity_scale_level=1,\n",
    "                network=network, demand=demand_dict, demand_penalty=demand_penalty_dict, backlog_penalty=backlog_penalty_dict)\n",
    "\n",
    "    if scen_df.empty:\n",
    "        # ======================================================================================================================\n",
    "        # Declare problem\n",
    "        # ======================================================================================================================\n",
    "\n",
    "        problem_mincost = formulate(scenario=scenario, demand_sign='eq', objective=Objective.COST_W_DEMAND_PENALTY, backlog_zero=backlog_zero,\n",
    "                                    constraints={Constraints.COST, Constraints.TRANSPORT, Constraints.RESOURCE_BALANCE, Constraints.INVENTORY, Constraints.PRODUCTION, Constraints.BACKLOG, Constraints.NETWORK})\n",
    "\n",
    "        scale_iter = scale_tuple(instance=problem_mincost, scale_levels=scenario.network_scale_level + 1)\n",
    "        problem_mincost.first_stage_cost = Var(within=NonNegativeReals, doc='First Stage Cost')\n",
    "\n",
    "        def first_stage_cost_rule(instance):\n",
    "            return (instance.first_stage_cost == sum(instance.Capex_network[scale_] for scale_ in scale_iter) +\n",
    "                    sum(instance.Capex_transport_network[scale_] for scale_ in scale_iter))\n",
    "\n",
    "        problem_mincost.constraint_first_stage_cost = Constraint(rule=first_stage_cost_rule)\n",
    "\n",
    "        return scenario, problem_mincost\n",
    "    else:\n",
    "        return scenario"
   ],
   "metadata": {
    "collapsed": false,
    "ExecuteTime": {
     "end_time": "2025-08-22T18:49:34.697984Z",
     "start_time": "2025-08-22T18:49:34.652214Z"
    }
   },
   "id": "3bc121a28f8149d7",
   "execution_count": 30
  },
  {
   "cell_type": "code",
   "outputs": [],
   "source": [
    "def build_design_smodel(scen_df=pandas.DataFrame(), eps: float = 1.0):\n",
    "    scenario = build_design_model(scen_df=scen_df, eps=eps)\n",
    "    # ======================================================================================================================\n",
    "    # Declare problem\n",
    "    # ======================================================================================================================\n",
    "\n",
    "    problem_mincost = formulate(scenario=scenario,\n",
    "                                constraints={Constraints.COST, Constraints.TRANSPORT, Constraints.RESOURCE_BALANCE,\n",
    "                                             Constraints.INVENTORY, Constraints.PRODUCTION, Constraints.DEMAND,\n",
    "                                             Constraints.NETWORK},\n",
    "                                demand_sign='eq', objective=Objective.COST_W_DEMAND_PENALTY)\n",
    "\n",
    "    # demand = scenario.demand\n",
    "    # if isinstance(demand, dict):\n",
    "    #     if isinstance(list(demand.keys())[0], Location):\n",
    "    #         try:\n",
    "    #             demand = {i.name: {\n",
    "    #                 j.name: demand[i][j] for j in demand[i].keys()} for i in demand.keys()}\n",
    "    #         except:\n",
    "    #             pass\n",
    "    # \n",
    "    # constraint_demand_lb(instance=problem_mincost, demand=demand, demand_factor=scenario.demand_factor,\n",
    "    #                      demand_scale_level=scenario.demand_scale_level,\n",
    "    #                      scheduling_scale_level=scenario.scheduling_scale_level,\n",
    "    #                      location_resource_dict=scenario.location_resource_dict, epsilon=eps)\n",
    "\n",
    "    scale_iter = scale_tuple(instance=problem_mincost, scale_levels=scenario.network_scale_level + 1)\n",
    "    problem_mincost.first_stage_cost = Var(within=NonNegativeReals, doc='First Stage Cost')\n",
    "\n",
    "    def first_stage_cost_rule(instance):\n",
    "        return (instance.first_stage_cost == sum(instance.Capex_network[scale_] for scale_ in scale_iter) +\n",
    "                sum(instance.Capex_transport_network[scale_] for scale_ in scale_iter))\n",
    "\n",
    "    problem_mincost.constraint_first_stage_cost = Constraint(rule=first_stage_cost_rule)\n",
    "\n",
    "    return scenario, problem_mincost"
   ],
   "metadata": {
    "collapsed": false,
    "ExecuteTime": {
     "end_time": "2025-08-22T18:49:34.713559Z",
     "start_time": "2025-08-22T18:49:34.699045Z"
    }
   },
   "id": "ea7985ef9dfc2d83",
   "execution_count": 31
  },
  {
   "cell_type": "code",
   "outputs": [],
   "source": [
    "def design_scenario_creator(scen_name, **kwargs):\n",
    "    scen_dict = kwargs.get('scenario_dict')\n",
    "    # eps = kwargs.get('epsilon')\n",
    "    fsv = kwargs.get('fsv')\n",
    "    scen, model = build_design_smodel(scen_df=scen_dict[scen_name]['factor'])\n",
    "    sputils.attach_root_node(model, model.first_stage_cost, list(getattr(model, v) for v in fsv))\n",
    "    model._mpisppy_probability = scen_dict[scen_name]['prob']\n",
    "    return model"
   ],
   "metadata": {
    "collapsed": false,
    "ExecuteTime": {
     "end_time": "2025-08-22T18:49:34.729618Z",
     "start_time": "2025-08-22T18:49:34.714624Z"
    }
   },
   "id": "e9e9ba33bedf3290",
   "execution_count": 32
  },
  {
   "cell_type": "code",
   "outputs": [
    {
     "name": "stdout",
     "output_type": "stream",
     "text": [
      "Sum of probabilities of all scenarios: 1.000000\n",
      "Number of considered scenarios: 64\n"
     ]
    }
   ],
   "source": [
    "# event_dict = create_event_dict(n_total=design_execution_scenarios)\n",
    "# scenario_dict = create_scenario_dict(event_dict=event_dict)\n",
    "# scenario_names = list(scenario_dict.keys())\n",
    "# \n",
    "# with open('scenario_dict_Backlog_EF.pkl', 'wb') as f:\n",
    "#     pickle.dump(scenario_dict, f)\n",
    "# \n",
    "# print(f\"Sum of probabilities of all scenarios: {sum(scenario_dict[scen]['prob'] for scen in scenario_dict):.6f}\")\n",
    "# print(f'Number of considered scenarios: {len(scenario_names)}')"
   ],
   "metadata": {
    "collapsed": false,
    "ExecuteTime": {
     "end_time": "2025-08-22T18:49:34.933044Z",
     "start_time": "2025-08-22T18:49:34.730682Z"
    }
   },
   "id": "60b7536163907f97",
   "execution_count": 33
  },
  {
   "cell_type": "code",
   "outputs": [],
   "source": [
    "with open('scenario_dict_Backlog_EF.pkl', 'rb') as file:\n",
    "    load_scenario_dict = pickle.load(file)"
   ],
   "metadata": {
    "collapsed": false,
    "ExecuteTime": {
     "end_time": "2025-08-22T18:49:34.948652Z",
     "start_time": "2025-08-22T18:49:34.934127Z"
    }
   },
   "id": "e2164a5c019bc74d",
   "execution_count": 34
  },
  {
   "cell_type": "code",
   "outputs": [
    {
     "name": "stdout",
     "output_type": "stream",
     "text": [
      "Sum of probabilities of all scenarios: 1.000000\n",
      "Number of considered scenarios: 64\n"
     ]
    }
   ],
   "source": [
    "load_scenario_names = list(load_scenario_dict.keys())\n",
    "print(f\"Sum of probabilities of all scenarios: {sum(load_scenario_dict[scen]['prob'] for scen in load_scenario_dict):.6f}\")\n",
    "print(f'Number of considered scenarios: {len(load_scenario_names)}')"
   ],
   "metadata": {
    "collapsed": false,
    "ExecuteTime": {
     "end_time": "2025-08-22T18:49:34.963883Z",
     "start_time": "2025-08-22T18:49:34.949743Z"
    }
   },
   "id": "78d06588c2300c2c",
   "execution_count": 35
  },
  {
   "cell_type": "code",
   "outputs": [],
   "source": [
    "first_stage_variables = ('X_P', 'X_S', 'X_F', 'Cap_P', 'Cap_S', 'Cap_F')"
   ],
   "metadata": {
    "collapsed": false,
    "ExecuteTime": {
     "end_time": "2025-08-22T15:47:37.188378Z",
     "start_time": "2025-08-22T15:47:37.173728Z"
    }
   },
   "id": "81c4e44800602f14",
   "execution_count": 13
  },
  {
   "cell_type": "code",
   "outputs": [],
   "source": [
    "options = {\"solver\": \"gurobi\"}\n",
    "solver_options = {\n",
    "        'MIPGap': 0.0005,\n",
    "        'Heuristics': 0.20\n",
    "    }\n",
    "scenario_creator_kwargs = {'scenario_dict': load_scenario_dict,\n",
    "                           'fsv': first_stage_variables}"
   ],
   "metadata": {
    "collapsed": false,
    "ExecuteTime": {
     "end_time": "2025-08-22T15:47:37.204045Z",
     "start_time": "2025-08-22T15:47:37.189492Z"
    }
   },
   "id": "981d3bd183ed90e",
   "execution_count": 14
  },
  {
   "cell_type": "code",
   "outputs": [
    {
     "name": "stdout",
     "output_type": "stream",
     "text": [
      "[    0.27] Initializing SPBase\n",
      "constraint process capex\n",
      "constraint process fopex\n",
      "constraint process vopex\n",
      "constraint process incidental\n",
      "constraint location capex\n",
      "constraint location fopex\n",
      "constraint storage cost\n",
      "constraint storage capex\n",
      "constraint storage cost location\n",
      "constraint storage cost network\n",
      "constraint production mode\n",
      "constraint inventory balance\n",
      "constraint inventory network\n",
      "constraint resource export\n",
      "constraint transport export\n",
      "constraint export\n",
      "constraint transport capex\n",
      "constraint transport network capex\n",
      "constraint transport export network\n",
      "constraint transport vopex\n",
      "constraint transport network vopex\n",
      "constraint transport fopex\n",
      "constraint transport network fopex\n",
      "constraint transport capacity UB no bin\n",
      "constraint transport capacity LB no bin\n",
      "constraint storage facility\n",
      "constraint production facility\n",
      "constraint min production facility\n",
      "constraint min storage facility\n",
      "constraint transport capacity UB\n",
      "constraint transport capacity LB\n",
      "constraint demand penalty\n",
      "constraint demand penalty location\n",
      "constraint demand penalty network\n",
      "constraint demand penalty cost\n",
      "constraint demand penalty cost location\n",
      "constraint demand penalty cost network\n",
      "objective cost w demand penalty\n",
      "constraint process capex\n",
      "constraint process fopex\n",
      "constraint process vopex\n",
      "constraint process incidental\n",
      "constraint location capex\n",
      "constraint location fopex\n",
      "constraint storage cost\n",
      "constraint storage capex\n",
      "constraint storage cost location\n",
      "constraint storage cost network\n",
      "constraint production mode\n",
      "constraint inventory balance\n",
      "constraint inventory network\n",
      "constraint resource export\n",
      "constraint transport export\n",
      "constraint export\n",
      "constraint transport capex\n",
      "constraint transport network capex\n",
      "constraint transport export network\n",
      "constraint transport vopex\n",
      "constraint transport network vopex\n",
      "constraint transport fopex\n",
      "constraint transport network fopex\n",
      "constraint transport capacity UB no bin\n",
      "constraint transport capacity LB no bin\n",
      "constraint storage facility\n",
      "constraint production facility\n",
      "constraint min production facility\n",
      "constraint min storage facility\n",
      "constraint transport capacity UB\n",
      "constraint transport capacity LB\n",
      "constraint demand penalty\n",
      "constraint demand penalty location\n",
      "constraint demand penalty network\n",
      "constraint demand penalty cost\n",
      "constraint demand penalty cost location\n",
      "constraint demand penalty cost network\n",
      "objective cost w demand penalty\n",
      "constraint process capex\n",
      "constraint process fopex\n",
      "constraint process vopex\n",
      "constraint process incidental\n",
      "constraint location capex\n",
      "constraint location fopex\n",
      "constraint storage cost\n",
      "constraint storage capex\n",
      "constraint storage cost location\n",
      "constraint storage cost network\n",
      "constraint production mode\n",
      "constraint inventory balance\n",
      "constraint inventory network\n",
      "constraint resource export\n",
      "constraint transport export\n",
      "constraint export\n",
      "constraint transport capex\n",
      "constraint transport network capex\n",
      "constraint transport export network\n",
      "constraint transport vopex\n",
      "constraint transport network vopex\n",
      "constraint transport fopex\n",
      "constraint transport network fopex\n",
      "constraint transport capacity UB no bin\n",
      "constraint transport capacity LB no bin\n",
      "constraint storage facility\n",
      "constraint production facility\n",
      "constraint min production facility\n",
      "constraint min storage facility\n",
      "constraint transport capacity UB\n",
      "constraint transport capacity LB\n",
      "constraint demand penalty\n",
      "constraint demand penalty location\n",
      "constraint demand penalty network\n",
      "constraint demand penalty cost\n",
      "constraint demand penalty cost location\n",
      "constraint demand penalty cost network\n",
      "objective cost w demand penalty\n",
      "constraint process capex\n",
      "constraint process fopex\n",
      "constraint process vopex\n",
      "constraint process incidental\n",
      "constraint location capex\n",
      "constraint location fopex\n",
      "constraint storage cost\n",
      "constraint storage capex\n",
      "constraint storage cost location\n",
      "constraint storage cost network\n",
      "constraint production mode\n",
      "constraint inventory balance\n",
      "constraint inventory network\n",
      "constraint resource export\n",
      "constraint transport export\n",
      "constraint export\n",
      "constraint transport capex\n",
      "constraint transport network capex\n",
      "constraint transport export network\n",
      "constraint transport vopex\n",
      "constraint transport network vopex\n",
      "constraint transport fopex\n",
      "constraint transport network fopex\n",
      "constraint transport capacity UB no bin\n",
      "constraint transport capacity LB no bin\n",
      "constraint storage facility\n",
      "constraint production facility\n",
      "constraint min production facility\n",
      "constraint min storage facility\n",
      "constraint transport capacity UB\n",
      "constraint transport capacity LB\n",
      "constraint demand penalty\n",
      "constraint demand penalty location\n",
      "constraint demand penalty network\n",
      "constraint demand penalty cost\n",
      "constraint demand penalty cost location\n",
      "constraint demand penalty cost network\n",
      "objective cost w demand penalty\n"
     ]
    }
   ],
   "source": [
    "start_time = time.time()\n",
    "ef_UI = ExtensiveForm(options, load_scenario_names, design_scenario_creator,\n",
    "                      scenario_creator_kwargs=scenario_creator_kwargs)\n",
    "results = ef_UI.solve_extensive_form(solver_options=solver_options)\n",
    "end_time = time.time()"
   ],
   "metadata": {
    "collapsed": false,
    "ExecuteTime": {
     "end_time": "2025-08-22T15:49:30.748214Z",
     "start_time": "2025-08-22T15:47:37.206129Z"
    }
   },
   "id": "926311ae3166c49b",
   "execution_count": 15
  },
  {
   "cell_type": "code",
   "outputs": [],
   "source": [
    "exCost_UI = ef_UI.get_objective_value()\n",
    "ssoln_UI = ef_UI.get_root_solution()"
   ],
   "metadata": {
    "collapsed": false,
    "ExecuteTime": {
     "end_time": "2025-08-22T15:49:30.763128Z",
     "start_time": "2025-08-22T15:49:30.749372Z"
    }
   },
   "id": "a0a1e37f39fb3885",
   "execution_count": 16
  },
  {
   "cell_type": "code",
   "outputs": [],
   "source": [
    "with open(f\"ssoln_Backlog_EF.pkl\", \"wb\") as file:\n",
    "    pickle.dump(ssoln_UI, file)"
   ],
   "metadata": {
    "collapsed": false,
    "ExecuteTime": {
     "end_time": "2025-08-22T15:49:30.779014Z",
     "start_time": "2025-08-22T15:49:30.764205Z"
    }
   },
   "id": "638a0f46a68b9002",
   "execution_count": 17
  },
  {
   "cell_type": "code",
   "outputs": [],
   "source": [
    "exPen = 0\n",
    "for scen in load_scenario_names:\n",
    "    model = getattr(ef_UI.ef, scen)\n",
    "    exPen += pyoval(model.Demand_penalty_network[('com1_sold', 0)]) * load_scenario_dict[scen]['prob']"
   ],
   "metadata": {
    "collapsed": false,
    "ExecuteTime": {
     "end_time": "2025-08-22T15:49:30.794832Z",
     "start_time": "2025-08-22T15:49:30.780109Z"
    }
   },
   "id": "fd24a76caf8d2fc5",
   "execution_count": 18
  },
  {
   "cell_type": "code",
   "outputs": [],
   "source": [
    "m = getattr(ef_UI.ef, load_scenario_names[0])\n",
    "fsc = pyoval(m.first_stage_cost)"
   ],
   "metadata": {
    "collapsed": false,
    "ExecuteTime": {
     "end_time": "2025-08-22T15:49:30.810042Z",
     "start_time": "2025-08-22T15:49:30.795913Z"
    }
   },
   "id": "2005c220dbdbd522",
   "execution_count": 19
  },
  {
   "cell_type": "code",
   "outputs": [
    {
     "name": "stdout",
     "output_type": "stream",
     "text": [
      "Total Expected Cost considering disruptions: 337477.5600\n",
      "First Stage Cost: 52360.0000\n",
      "Execution time: -113.5327 seconds\n"
     ]
    }
   ],
   "source": [
    "print(f'Total Expected Cost considering disruptions: {exCost_UI:.4f}')\n",
    "print(f'First Stage Cost: {fsc:.4f}')\n",
    "print(f'Execution time: {start_time - end_time:.4f} seconds')"
   ],
   "metadata": {
    "collapsed": false,
    "ExecuteTime": {
     "end_time": "2025-08-22T15:49:30.825859Z",
     "start_time": "2025-08-22T15:49:30.811122Z"
    }
   },
   "id": "8ae6c8f0e0f6d878",
   "execution_count": 20
  },
  {
   "cell_type": "code",
   "outputs": [],
   "source": [
    "final_results_dict = {'Expected Cost UI': exCost_UI,\n",
    "                      'First Stage Cost': fsc,\n",
    "                      'Total Expected Penalty Cost': exPen,\n",
    "                      'Execution Time': start_time - end_time}\n",
    "\n",
    "with open(f\"final_results_Backlog_EF.pkl\", 'wb') as file:\n",
    "    pickle.dump(final_results_dict, file)"
   ],
   "metadata": {
    "collapsed": false,
    "ExecuteTime": {
     "end_time": "2025-08-22T15:49:30.841624Z",
     "start_time": "2025-08-22T15:49:30.826952Z"
    }
   },
   "id": "2b0339ea3efddac9",
   "execution_count": 21
  },
  {
   "cell_type": "code",
   "outputs": [],
   "source": [
    "with open(f\"final_results_Backlog_EF.pkl\", 'rb') as file:\n",
    "    load_final_results_dict = pickle.load(file)"
   ],
   "metadata": {
    "collapsed": false,
    "ExecuteTime": {
     "end_time": "2025-08-22T15:51:07.146012Z",
     "start_time": "2025-08-22T15:51:07.129714Z"
    }
   },
   "id": "c2e2f92ab0e1ae17",
   "execution_count": 22
  },
  {
   "cell_type": "code",
   "outputs": [
    {
     "data": {
      "text/plain": "{4: {'Expected Cost UI': 337477.56,\n  'First Stage Cost': 52360.0,\n  'Execution Time': -113.5326635837555}}"
     },
     "execution_count": 23,
     "metadata": {},
     "output_type": "execute_result"
    }
   ],
   "source": [
    "load_final_results_dict"
   ],
   "metadata": {
    "collapsed": false,
    "ExecuteTime": {
     "end_time": "2025-08-22T15:51:10.204762Z",
     "start_time": "2025-08-22T15:51:10.193218Z"
    }
   },
   "id": "250cb26734f79689",
   "execution_count": 23
  },
  {
   "cell_type": "code",
   "outputs": [],
   "source": [
    " "
   ],
   "metadata": {
    "collapsed": false
   },
   "id": "afa2fc4a81b247c8"
  }
 ],
 "metadata": {
  "kernelspec": {
   "display_name": "Python 3",
   "language": "python",
   "name": "python3"
  },
  "language_info": {
   "codemirror_mode": {
    "name": "ipython",
    "version": 2
   },
   "file_extension": ".py",
   "mimetype": "text/x-python",
   "name": "python",
   "nbconvert_exporter": "python",
   "pygments_lexer": "ipython2",
   "version": "2.7.6"
  }
 },
 "nbformat": 4,
 "nbformat_minor": 5
}
