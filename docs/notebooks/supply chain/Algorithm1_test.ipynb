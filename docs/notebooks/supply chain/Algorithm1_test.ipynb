{
 "cells": [
  {
   "cell_type": "code",
   "execution_count": 27,
   "id": "initial_id",
   "metadata": {
    "collapsed": true,
    "ExecuteTime": {
     "end_time": "2025-05-16T20:16:39.254023Z",
     "start_time": "2025-05-16T20:16:39.249725Z"
    }
   },
   "outputs": [],
   "source": [
    "import itertools\n",
    "\n",
    "import numpy as np\n",
    "from pyomo.environ import *\n",
    "from pyomo.environ import value as pyoval\n",
    "from pyomo.environ import Binary, NonNegativeReals\n",
    "from typing import Tuple, Union\n",
    "from collections import defaultdict"
   ]
  },
  {
   "cell_type": "code",
   "outputs": [],
   "source": [
    "def find_all_active_sets(df_dz: np.ndarray, m=None, integer_cuts=None, active_sets=defaultdict(dict), iter_count=0) -> [ConcreteModel, list]:\n",
    "    \"\"\"\n",
    "    Recursive function to find all active sets\n",
    "    Args:\n",
    "        df_dz: nparray with rows containing coefficients of control variables in all constraints. Each row is characterised by an individual control variable\n",
    "        m: ConcreteModel passed from a previous iteration\n",
    "        integer_cuts: Integer cuts added to exclude considered active sets so far \n",
    "        active_sets: Dictionary to keep record of active sets per iteration\n",
    "        iter_count: Record of iteration count\n",
    "\n",
    "    Returns:\n",
    "        model: Final model with integer cuts added for all active sets. This model has to be infeasible\n",
    "        active_sets: Final dictionary of all active sets\n",
    "    \"\"\"\n",
    "    if not isinstance(m, ConcreteModel):\n",
    "        a = np.where(df_dz > 0, 1, np.where(df_dz < 0, -1, 0))\n",
    "        n_c = a.shape[0]\n",
    "        m = ConcreteModel()\n",
    "        \n",
    "        m.ai = RangeSet(n_c)\n",
    "        m.aj = RangeSet(a.shape[1])\n",
    "        m.J_blocks = Set(initialize=list(range(1, n_c+1)))\n",
    "        J_pos = {i:[j+1 for j in np.where(a[i-1] > 0)[0]] for i in m.J_blocks}\n",
    "        m.J_pos = Set(m.J_blocks, initialize=J_pos)\n",
    "        J_neg = {i:[j+1 for j in np.where(a[i-1] < 0)[0]] for i in m.J_blocks}\n",
    "        m.J_neg = Set(m.J_blocks, initialize=J_neg)\n",
    "        \n",
    "        m.y = Var(m.aj, domain=Binary)\n",
    "        \n",
    "        def J_pos_rule(instance, i):\n",
    "            return sum(a[i-1][j-1]*instance.y[j] for j in instance.J_pos[i]) >= 1\n",
    "        m.J_pos_constraint = Constraint(m.ai, rule=J_pos_rule)\n",
    "        \n",
    "        def J_neg_rule(instance, i):\n",
    "            return sum(-a[i-1][j-1]*instance.y[j] for j in instance.J_neg[i]) >= 1\n",
    "        m.J_neg_constraint = Constraint(m.ai, rule=J_neg_rule)\n",
    "        \n",
    "        def binary_sum_rule(instance):\n",
    "            return sum(instance.y[j] for j in instance.aj) == n_c + 1\n",
    "        m.binary_sum_constraint = Constraint(rule=binary_sum_rule)\n",
    "    \n",
    "        m.objective = Objective(expr=0, sense=minimize)\n",
    "    else:\n",
    "        n_c = len(m.ai)\n",
    "    \n",
    "    if integer_cuts:\n",
    "        if not hasattr(m, 'cuts'):\n",
    "            m.cuts = ConstraintList()\n",
    "        m.cuts.add(integer_cuts[-1])\n",
    "            \n",
    "    solver = SolverFactory('gurobi')\n",
    "    results = solver.solve(m)\n",
    "    iter_count+=1\n",
    "\n",
    "    if results.solver.termination_condition == TerminationCondition.infeasible:\n",
    "        print(f'Total number of active sets: {len(m.cuts)}')\n",
    "        return m, active_sets\n",
    "    \n",
    "    new_cut = (sum(m.y[j] for j in m.aj if pyoval(m.y[j]) == 1) - sum(m.y[j] for j in m.aj if pyoval(m.y[j]) == 0) <= n_c)\n",
    "    active_sets[iter_count] = [j for j in m.aj if pyoval(m.y[j]) == 1]\n",
    "    \n",
    "    print(f'Cut added for iteration {iter_count}: {new_cut}')\n",
    "\n",
    "    new_cuts = list(integer_cuts) if integer_cuts else list()\n",
    "    new_cuts.append(new_cut)\n",
    "\n",
    "    return find_all_active_sets(df_dz=df_dz, m=m, integer_cuts=new_cuts, active_sets=active_sets, iter_count=iter_count)"
   ],
   "metadata": {
    "collapsed": false,
    "ExecuteTime": {
     "end_time": "2025-05-16T20:16:39.269808Z",
     "start_time": "2025-05-16T20:16:39.255121Z"
    }
   },
   "id": "518562a74e7d2595",
   "execution_count": 28
  },
  {
   "cell_type": "markdown",
   "source": [
    "EXAMPLE 1 Pistikopoulos and Grossmann (1988): https://www.sciencedirect.com/science/article/pii/0098135488800103"
   ],
   "metadata": {
    "collapsed": false
   },
   "id": "b0198407460cce04"
  },
  {
   "cell_type": "code",
   "outputs": [],
   "source": [
    "# theta_nominal = [2]\n",
    "# theta_deviations = [(2,2)]\n",
    "# \n",
    "# A = np.array([\n",
    "#     [1, -3, 1, -1],\n",
    "#     [0, 1, -1, -1/3],\n",
    "#     [-1, 0, 1 ,1]\n",
    "# ])\n",
    "# \n",
    "# b = np.array([0, -1/3, 1])\n",
    "# \n",
    "# d = np.array([3, 1])"
   ],
   "metadata": {
    "collapsed": false,
    "ExecuteTime": {
     "end_time": "2025-05-16T20:16:39.285650Z",
     "start_time": "2025-05-16T20:16:39.274155Z"
    }
   },
   "id": "ada5ddb743856e47",
   "execution_count": 29
  },
  {
   "cell_type": "code",
   "outputs": [],
   "source": [
    "# n_d, n_t = 2, 1\n",
    "# n_c = A.shape[1] - (n_d+n_t)"
   ],
   "metadata": {
    "collapsed": false,
    "ExecuteTime": {
     "end_time": "2025-05-16T20:16:39.301284Z",
     "start_time": "2025-05-16T20:16:39.296078Z"
    }
   },
   "id": "82b769dfa7dbac2d",
   "execution_count": 30
  },
  {
   "cell_type": "code",
   "outputs": [],
   "source": [
    "# df_dz = A[:, n_d:n_d+n_c].T"
   ],
   "metadata": {
    "collapsed": false,
    "ExecuteTime": {
     "end_time": "2025-05-16T20:16:39.333236Z",
     "start_time": "2025-05-16T20:16:39.302337Z"
    }
   },
   "id": "51884ff8d9b00792",
   "execution_count": 31
  },
  {
   "cell_type": "code",
   "outputs": [],
   "source": [
    "# model, active_sets = find_all_active_sets(df_dz=df_dz)"
   ],
   "metadata": {
    "collapsed": false,
    "ExecuteTime": {
     "end_time": "2025-05-16T20:16:39.348844Z",
     "start_time": "2025-05-16T20:16:39.334294Z"
    }
   },
   "id": "ce89dc3dcd54b9b7",
   "execution_count": 32
  },
  {
   "cell_type": "code",
   "outputs": [],
   "source": [
    "# active_set_dict"
   ],
   "metadata": {
    "collapsed": false,
    "ExecuteTime": {
     "end_time": "2025-05-16T20:16:39.364462Z",
     "start_time": "2025-05-16T20:16:39.349893Z"
    }
   },
   "id": "95e2bfcbcba7a9ff",
   "execution_count": 33
  },
  {
   "cell_type": "markdown",
   "source": [
    "EXAMPLE 1 Floudas and Grossmann (1987): https://www.sciencedirect.com/science/article/pii/0098135487870114"
   ],
   "metadata": {
    "collapsed": false
   },
   "id": "6445b64ba7cc7d64"
  },
  {
   "cell_type": "code",
   "outputs": [],
   "source": [
    "theta_nominal = [620, 388, 583, 313]\n",
    "theta_deviations = [(10, 10), (10, 10), (10, 10), (10, 10)]\n",
    "A = np.array([\n",
    "    [-2/3, 0, 1, 0, 0],\n",
    "    [-0.5, -0.75, -1, -1, 0],\n",
    "    [1, -1.5, -2, -1, -2],\n",
    "    [1, -1.5, -2, -1, 0],\n",
    "    [-1, 1.5, 2, 1, 3]\n",
    "])\n",
    "b = np.array([350, -1388.5, -2830, -2044, 3153])"
   ],
   "metadata": {
    "collapsed": false,
    "ExecuteTime": {
     "end_time": "2025-05-16T20:16:39.379809Z",
     "start_time": "2025-05-16T20:16:39.365502Z"
    }
   },
   "id": "30dd9514c5fc29bd",
   "execution_count": 34
  },
  {
   "cell_type": "code",
   "outputs": [],
   "source": [
    "n_d, n_c, n_t = 0, 1, 4"
   ],
   "metadata": {
    "collapsed": false,
    "ExecuteTime": {
     "end_time": "2025-05-16T20:16:39.394828Z",
     "start_time": "2025-05-16T20:16:39.380880Z"
    }
   },
   "id": "f562c44313d8c72e",
   "execution_count": 35
  },
  {
   "cell_type": "code",
   "outputs": [],
   "source": [
    "df_dz = A[:, n_d:n_d+n_c].T"
   ],
   "metadata": {
    "collapsed": false,
    "ExecuteTime": {
     "end_time": "2025-05-16T20:16:39.410472Z",
     "start_time": "2025-05-16T20:16:39.395906Z"
    }
   },
   "id": "7e23123dbff78711",
   "execution_count": 36
  },
  {
   "cell_type": "code",
   "outputs": [
    {
     "name": "stdout",
     "output_type": "stream",
     "text": [
      "Cut added for iteration 1: y[3] + y[5] - (y[1] + y[2] + y[4])  <=  1\n",
      "Cut added for iteration 2: y[1] + y[4] - (y[2] + y[3] + y[5])  <=  1\n",
      "Cut added for iteration 3: y[2] + y[3] - (y[1] + y[4] + y[5])  <=  1\n",
      "Cut added for iteration 4: y[2] + y[4] - (y[1] + y[3] + y[5])  <=  1\n",
      "Cut added for iteration 5: y[1] + y[3] - (y[2] + y[4] + y[5])  <=  1\n",
      "Cut added for iteration 6: y[4] + y[5] - (y[1] + y[2] + y[3])  <=  1\n",
      "WARNING: Loading a SolverResults object with a warning status into\n",
      "model.name=\"unknown\";\n",
      "    - termination condition: infeasible\n",
      "    - message from solver: Model was proven to be infeasible.\n",
      "Total number of active sets: 6\n"
     ]
    }
   ],
   "source": [
    "model, active_sets = find_all_active_sets(df_dz=df_dz)"
   ],
   "metadata": {
    "collapsed": false,
    "ExecuteTime": {
     "end_time": "2025-05-16T20:16:40.783684Z",
     "start_time": "2025-05-16T20:16:39.411522Z"
    }
   },
   "id": "6bc9313c58b1df24",
   "execution_count": 37
  },
  {
   "cell_type": "code",
   "outputs": [
    {
     "data": {
      "text/plain": "6"
     },
     "execution_count": 38,
     "metadata": {},
     "output_type": "execute_result"
    }
   ],
   "source": [
    "len(model.cuts)"
   ],
   "metadata": {
    "collapsed": false,
    "ExecuteTime": {
     "end_time": "2025-05-16T20:16:40.799022Z",
     "start_time": "2025-05-16T20:16:40.784764Z"
    }
   },
   "id": "7e7ca3cbaa9e0ba0",
   "execution_count": 38
  },
  {
   "cell_type": "code",
   "outputs": [],
   "source": [],
   "metadata": {
    "collapsed": false,
    "ExecuteTime": {
     "end_time": "2025-05-16T20:16:40.814719Z",
     "start_time": "2025-05-16T20:16:40.800139Z"
    }
   },
   "id": "b47771daca965e9b",
   "execution_count": 38
  }
 ],
 "metadata": {
  "kernelspec": {
   "display_name": "Python 3",
   "language": "python",
   "name": "python3"
  },
  "language_info": {
   "codemirror_mode": {
    "name": "ipython",
    "version": 2
   },
   "file_extension": ".py",
   "mimetype": "text/x-python",
   "name": "python",
   "nbconvert_exporter": "python",
   "pygments_lexer": "ipython2",
   "version": "2.7.6"
  }
 },
 "nbformat": 4,
 "nbformat_minor": 5
}
