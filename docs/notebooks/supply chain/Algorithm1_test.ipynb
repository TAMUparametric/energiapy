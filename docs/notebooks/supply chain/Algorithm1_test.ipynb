{
 "cells": [
  {
   "cell_type": "code",
   "execution_count": 1,
   "id": "initial_id",
   "metadata": {
    "collapsed": true,
    "ExecuteTime": {
     "end_time": "2025-05-14T19:16:43.387115Z",
     "start_time": "2025-05-14T19:16:43.018885Z"
    }
   },
   "outputs": [],
   "source": [
    "import itertools\n",
    "\n",
    "import numpy as np\n",
    "from pyomo.environ import *\n",
    "from pyomo.environ import value as pyoval\n",
    "from pyomo.environ import Binary, NonNegativeReals\n",
    "from typing import Tuple, Union\n",
    "from collections import defaultdict"
   ]
  },
  {
   "cell_type": "code",
   "outputs": [],
   "source": [
    "def find_all_active_sets(df_dz: np.ndarray, m=None, integer_cuts=None, active_sets=defaultdict(dict), iter_count=0) -> list:\n",
    "    if not isinstance(m, ConcreteModel):\n",
    "        a = np.where(df_dz > 0, 1, np.where(df_dz < 0, -1, 0))\n",
    "        n_c = a.shape[0]\n",
    "        m = ConcreteModel()\n",
    "        \n",
    "        m.ai = RangeSet(n_c)\n",
    "        m.aj = RangeSet(a.shape[1])\n",
    "        m.J_blocks = Set(initialize=list(range(1, n_c+1)))\n",
    "        J_pos = {i:[j+1 for j in np.where(a[i-1] > 0)[0]] for i in m.J_blocks}\n",
    "        m.J_pos = Set(m.J_blocks, initialize=J_pos)\n",
    "        J_neg = {i:[j+1 for j in np.where(a[i-1] < 0)[0]] for i in m.J_blocks}\n",
    "        m.J_neg = Set(m.J_blocks, initialize=J_neg)\n",
    "        \n",
    "        m.y = Var(m.aj, domain=Binary)\n",
    "        \n",
    "        def J_pos_rule(instance, i):\n",
    "            return sum(a[i-1][j-1]*instance.y[j] for j in instance.J_pos[i]) >= 1\n",
    "        m.J_pos_constraint = Constraint(m.ai, rule=J_pos_rule)\n",
    "        \n",
    "        def J_neg_rule(instance, i):\n",
    "            return sum(-a[i-1][j-1]*instance.y[j] for j in instance.J_neg[i]) >= 1\n",
    "        m.J_neg_constraint = Constraint(m.ai, rule=J_neg_rule)\n",
    "        \n",
    "        def binary_sum_rule(instance):\n",
    "            return sum(instance.y[j] for j in instance.aj) == n_c + 1\n",
    "        m.binary_sum_constraint = Constraint(rule=binary_sum_rule)\n",
    "    \n",
    "        m.objective = Objective(expr=0, sense=minimize)\n",
    "    else:\n",
    "        n_c = len(m.ai)\n",
    "        \n",
    "    if integer_cuts:\n",
    "        if hasattr(m, 'cuts'):\n",
    "            m.del_component(m.cuts)\n",
    "        m.cuts = ConstraintList()\n",
    "        for cut_expr in integer_cuts:\n",
    "            m.cuts.add(cut_expr)\n",
    "    \n",
    "    solver = SolverFactory('gurobi')\n",
    "    results = solver.solve(m)\n",
    "    iter_count+=1\n",
    "\n",
    "    if results.solver.termination_condition == TerminationCondition.infeasible:\n",
    "        return active_sets\n",
    "    \n",
    "    new_cut = (sum(m.y[j] for j in m.aj if pyoval(m.y[j]) == 1) - sum(m.y[j] for j in m.aj if pyoval(m.y[j]) == 0) <= n_c)\n",
    "    active_sets[iter_count] = [j for j in m.aj if pyoval(m.y[j]) == 1]\n",
    "    \n",
    "    print(f'Cut added for iteration {iter_count}: {new_cut}')\n",
    "\n",
    "    new_cuts = list(integer_cuts) if integer_cuts else list()\n",
    "    new_cuts.append(new_cut)\n",
    "\n",
    "    return find_all_active_sets(df_dz=df_dz, m=m, integer_cuts=new_cuts, active_sets=active_sets, iter_count=iter_count)"
   ],
   "metadata": {
    "collapsed": false,
    "ExecuteTime": {
     "end_time": "2025-05-14T19:16:51.589846Z",
     "start_time": "2025-05-14T19:16:51.573090Z"
    }
   },
   "id": "518562a74e7d2595",
   "execution_count": 2
  },
  {
   "cell_type": "code",
   "outputs": [],
   "source": [
    "# EXAMPLE 1 Pistikopoulos and Grossmann (1988): https://www.sciencedirect.com/science/article/pii/0098135488800103\n",
    "theta_nominal = [2]\n",
    "theta_deviations = [(2,2)]\n",
    "\n",
    "A = np.array([\n",
    "    [1, -3, 1, -1],\n",
    "    [0, 1, -1, -1/3],\n",
    "    [-1, 0, 1 ,1]\n",
    "])\n",
    "\n",
    "b = np.array([0, -1/3, 1])\n",
    "\n",
    "d = np.array([3, 1])"
   ],
   "metadata": {
    "collapsed": false,
    "ExecuteTime": {
     "end_time": "2025-05-14T19:20:21.421695Z",
     "start_time": "2025-05-14T19:20:21.414296Z"
    }
   },
   "id": "ada5ddb743856e47",
   "execution_count": 3
  },
  {
   "cell_type": "code",
   "outputs": [],
   "source": [
    "n_d, n_t = 2, 1\n",
    "n_c = A.shape[1] - (n_d+n_t)"
   ],
   "metadata": {
    "collapsed": false,
    "ExecuteTime": {
     "end_time": "2025-05-14T19:20:30.254825Z",
     "start_time": "2025-05-14T19:20:30.247486Z"
    }
   },
   "id": "82b769dfa7dbac2d",
   "execution_count": 4
  },
  {
   "cell_type": "code",
   "outputs": [],
   "source": [
    "df_dz = A[:, n_d:n_d+n_c].T"
   ],
   "metadata": {
    "collapsed": false,
    "ExecuteTime": {
     "end_time": "2025-05-14T19:20:36.596279Z",
     "start_time": "2025-05-14T19:20:36.593127Z"
    }
   },
   "id": "51884ff8d9b00792",
   "execution_count": 5
  },
  {
   "cell_type": "code",
   "outputs": [
    {
     "name": "stdout",
     "output_type": "stream",
     "text": [
      "Cut added for iteration 1: y[2] + y[3] - y[1]  <=  1\n",
      "Cut added for iteration 2: y[1] + y[2] - y[3]  <=  1\n",
      "WARNING: Loading a SolverResults object with a warning status into\n",
      "model.name=\"unknown\";\n",
      "    - termination condition: infeasible\n",
      "    - message from solver: Model was proven to be infeasible.\n"
     ]
    }
   ],
   "source": [
    "active_set_dict = find_all_active_sets(df_dz=df_dz)"
   ],
   "metadata": {
    "collapsed": false,
    "ExecuteTime": {
     "end_time": "2025-05-14T19:20:44.264579Z",
     "start_time": "2025-05-14T19:20:43.671041Z"
    }
   },
   "id": "ce89dc3dcd54b9b7",
   "execution_count": 6
  },
  {
   "cell_type": "code",
   "outputs": [
    {
     "data": {
      "text/plain": "defaultdict(dict, {1: [2, 3], 2: [1, 2]})"
     },
     "execution_count": 7,
     "metadata": {},
     "output_type": "execute_result"
    }
   ],
   "source": [
    "active_set_dict"
   ],
   "metadata": {
    "collapsed": false,
    "ExecuteTime": {
     "end_time": "2025-05-14T19:20:52.556601Z",
     "start_time": "2025-05-14T19:20:52.552328Z"
    }
   },
   "id": "95e2bfcbcba7a9ff",
   "execution_count": 7
  },
  {
   "cell_type": "code",
   "outputs": [],
   "source": [],
   "metadata": {
    "collapsed": false
   },
   "id": "30dd9514c5fc29bd"
  }
 ],
 "metadata": {
  "kernelspec": {
   "display_name": "Python 3",
   "language": "python",
   "name": "python3"
  },
  "language_info": {
   "codemirror_mode": {
    "name": "ipython",
    "version": 2
   },
   "file_extension": ".py",
   "mimetype": "text/x-python",
   "name": "python",
   "nbconvert_exporter": "python",
   "pygments_lexer": "ipython2",
   "version": "2.7.6"
  }
 },
 "nbformat": 4,
 "nbformat_minor": 5
}
