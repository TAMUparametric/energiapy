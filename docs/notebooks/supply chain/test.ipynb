{
 "cells": [
  {
   "cell_type": "code",
   "outputs": [],
   "source": [
    "import random\n",
    "import numpy as np"
   ],
   "metadata": {
    "collapsed": false,
    "ExecuteTime": {
     "end_time": "2025-04-17T03:48:28.482564Z",
     "start_time": "2025-04-17T03:48:27.652606Z"
    }
   },
   "id": "be18a5cc004a5498",
   "execution_count": 5
  },
  {
   "cell_type": "code",
   "outputs": [],
   "source": [
    "demand_dict = dict()"
   ],
   "metadata": {
    "collapsed": false,
    "ExecuteTime": {
     "end_time": "2025-04-17T03:44:35.728799Z",
     "start_time": "2025-04-17T03:44:35.715157Z"
    }
   },
   "id": "9c0b45bcdbb02487",
   "execution_count": 2
  },
  {
   "cell_type": "code",
   "execution_count": 3,
   "id": "initial_id",
   "metadata": {
    "collapsed": true,
    "ExecuteTime": {
     "end_time": "2025-04-17T03:44:35.744492Z",
     "start_time": "2025-04-17T03:44:35.729885Z"
    }
   },
   "outputs": [],
   "source": [
    "for i in range(0,11):\n",
    "    if i == 0:\n",
    "        demand_dict[i] = [100]*11\n",
    "    else:\n",
    "        demand_dict[i] =demand_dict[i-1][:i]+[random.randint(50, 100)]*(11-len(demand_dict[i-1][:i]))"
   ]
  },
  {
   "cell_type": "code",
   "outputs": [
    {
     "data": {
      "text/plain": "{0: [100, 100, 100, 100, 100, 100, 100, 100, 100, 100, 100],\n 1: [100, 65, 65, 65, 65, 65, 65, 65, 65, 65, 65],\n 2: [100, 65, 94, 94, 94, 94, 94, 94, 94, 94, 94],\n 3: [100, 65, 94, 60, 60, 60, 60, 60, 60, 60, 60],\n 4: [100, 65, 94, 60, 64, 64, 64, 64, 64, 64, 64],\n 5: [100, 65, 94, 60, 64, 62, 62, 62, 62, 62, 62],\n 6: [100, 65, 94, 60, 64, 62, 84, 84, 84, 84, 84],\n 7: [100, 65, 94, 60, 64, 62, 84, 83, 83, 83, 83],\n 8: [100, 65, 94, 60, 64, 62, 84, 83, 66, 66, 66],\n 9: [100, 65, 94, 60, 64, 62, 84, 83, 66, 58, 58],\n 10: [100, 65, 94, 60, 64, 62, 84, 83, 66, 58, 83]}"
     },
     "execution_count": 4,
     "metadata": {},
     "output_type": "execute_result"
    }
   ],
   "source": [
    "demand_dict"
   ],
   "metadata": {
    "collapsed": false,
    "ExecuteTime": {
     "end_time": "2025-04-17T03:44:35.760144Z",
     "start_time": "2025-04-17T03:44:35.745554Z"
    }
   },
   "id": "4f6ba59049d80af0",
   "execution_count": 4
  },
  {
   "cell_type": "code",
   "outputs": [],
   "source": [
    "random_numbers = [round(random.gauss(100, 15), 2) for _ in range(10)]"
   ],
   "metadata": {
    "collapsed": false,
    "ExecuteTime": {
     "end_time": "2025-04-17T03:56:26.323800Z",
     "start_time": "2025-04-17T03:56:26.308971Z"
    }
   },
   "id": "caae7cc9b27a7e93",
   "execution_count": 15
  },
  {
   "cell_type": "code",
   "outputs": [
    {
     "data": {
      "text/plain": "[88.14, 98.36, 116.79, 100.39, 93.35, 111.83, 116.84, 92.74, 76.21, 86.16]"
     },
     "execution_count": 16,
     "metadata": {},
     "output_type": "execute_result"
    }
   ],
   "source": [
    "random_numbers"
   ],
   "metadata": {
    "collapsed": false,
    "ExecuteTime": {
     "end_time": "2025-04-17T03:56:26.837404Z",
     "start_time": "2025-04-17T03:56:26.818402Z"
    }
   },
   "id": "e847f55ca2bb2471",
   "execution_count": 16
  },
  {
   "cell_type": "code",
   "outputs": [],
   "source": [
    "numpy_dict = dict()"
   ],
   "metadata": {
    "collapsed": false,
    "ExecuteTime": {
     "end_time": "2025-04-17T03:52:14.890271Z",
     "start_time": "2025-04-17T03:52:14.886624Z"
    }
   },
   "id": "4220aecaaf9a107c",
   "execution_count": 6
  },
  {
   "cell_type": "code",
   "outputs": [],
   "source": [
    "for i in range(0,10):\n",
    "    if i==0:\n",
    "        numpy_dict[i] = [100]*10\n",
    "    else:\n",
    "        numpy_dict[i] = numpy_dict[i-1][:i] + [round(random.gauss(100, 15), 2) for _ in range(10-len(numpy_dict[i-1][:i]))]"
   ],
   "metadata": {
    "collapsed": false,
    "ExecuteTime": {
     "end_time": "2025-04-17T03:57:19.539138Z",
     "start_time": "2025-04-17T03:57:19.521818Z"
    }
   },
   "id": "63feae5ace94cdc8",
   "execution_count": 17
  },
  {
   "cell_type": "code",
   "outputs": [
    {
     "data": {
      "text/plain": "{0: [100, 100, 100, 100, 100, 100, 100, 100, 100, 100],\n 1: [100, 133.01, 80.55, 109.72, 116.37, 118.92, 94.66, 109.98, 106.61, 90.42],\n 2: [100, 133.01, 95.71, 83.33, 109.41, 93.8, 90.62, 115.24, 102.39, 70.97],\n 3: [100, 133.01, 95.71, 93.5, 79.21, 124.55, 77.25, 90.84, 117.5, 111.46],\n 4: [100, 133.01, 95.71, 93.5, 80.4, 103.13, 95.5, 110.61, 83.31, 79.47],\n 5: [100, 133.01, 95.71, 93.5, 80.4, 116.26, 117.72, 113.75, 119.91, 89.61],\n 6: [100, 133.01, 95.71, 93.5, 80.4, 116.26, 107.14, 117.82, 89.01, 108.47],\n 7: [100, 133.01, 95.71, 93.5, 80.4, 116.26, 107.14, 104.03, 103.15, 96.28],\n 8: [100, 133.01, 95.71, 93.5, 80.4, 116.26, 107.14, 104.03, 85.49, 113.58],\n 9: [100, 133.01, 95.71, 93.5, 80.4, 116.26, 107.14, 104.03, 85.49, 87.62]}"
     },
     "execution_count": 18,
     "metadata": {},
     "output_type": "execute_result"
    }
   ],
   "source": [
    "numpy_dict"
   ],
   "metadata": {
    "collapsed": false,
    "ExecuteTime": {
     "end_time": "2025-04-17T03:57:21.752994Z",
     "start_time": "2025-04-17T03:57:21.737593Z"
    }
   },
   "id": "1f8110477db6d561",
   "execution_count": 18
  },
  {
   "cell_type": "code",
   "outputs": [],
   "source": [],
   "metadata": {
    "collapsed": false
   },
   "id": "c91a40ac25807310"
  }
 ],
 "metadata": {
  "kernelspec": {
   "display_name": "Python 3",
   "language": "python",
   "name": "python3"
  },
  "language_info": {
   "codemirror_mode": {
    "name": "ipython",
    "version": 2
   },
   "file_extension": ".py",
   "mimetype": "text/x-python",
   "name": "python",
   "nbconvert_exporter": "python",
   "pygments_lexer": "ipython2",
   "version": "2.7.6"
  }
 },
 "nbformat": 4,
 "nbformat_minor": 5
}
