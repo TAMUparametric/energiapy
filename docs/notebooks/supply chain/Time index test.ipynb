{
 "cells": [
  {
   "cell_type": "code",
   "outputs": [],
   "source": [
    "from itertools import product    "
   ],
   "metadata": {
    "collapsed": false,
    "ExecuteTime": {
     "end_time": "2025-01-09T00:28:19.851860Z",
     "start_time": "2025-01-09T00:28:19.848853Z"
    }
   },
   "id": "93a4da1726c76be5",
   "execution_count": 3
  },
  {
   "cell_type": "code",
   "outputs": [],
   "source": [
    "years = [i for i in range(0,3)]\n",
    "months = [i for i in range(0,12)]\n",
    "weeks = [i for i in range(0,4)]\n",
    "days = [i for i in range(0,7)]"
   ],
   "metadata": {
    "collapsed": false,
    "ExecuteTime": {
     "end_time": "2025-01-09T00:28:19.856282Z",
     "start_time": "2025-01-09T00:28:19.851860Z"
    }
   },
   "id": "7fca6aa97441be81",
   "execution_count": 4
  },
  {
   "cell_type": "code",
   "outputs": [
    {
     "name": "stdout",
     "output_type": "stream",
     "text": [
      "Length of time index list is: 1008\n"
     ]
    }
   ],
   "source": [
    "time_index = [i for i in product(years, months, weeks, days)]\n",
    "print(f'Length of time index list is: {len(time_index)}')"
   ],
   "metadata": {
    "collapsed": false,
    "ExecuteTime": {
     "end_time": "2025-01-09T00:28:19.866657Z",
     "start_time": "2025-01-09T00:28:19.863510Z"
    }
   },
   "id": "c4e6547ad5f1a82d",
   "execution_count": 5
  },
  {
   "cell_type": "code",
   "outputs": [],
   "source": [
    "units = [len(years), len(months), len(weeks), len(days)]"
   ],
   "metadata": {
    "collapsed": false,
    "ExecuteTime": {
     "end_time": "2025-01-09T00:28:19.869943Z",
     "start_time": "2025-01-09T00:28:19.866657Z"
    }
   },
   "id": "6c92bd18a7afd04a",
   "execution_count": 6
  },
  {
   "cell_type": "code",
   "outputs": [],
   "source": [
    "time_index_dict = dict()"
   ],
   "metadata": {
    "collapsed": false,
    "ExecuteTime": {
     "end_time": "2025-01-09T00:28:19.874113Z",
     "start_time": "2025-01-09T00:28:19.869943Z"
    }
   },
   "id": "9ae580f01b244137",
   "execution_count": 7
  },
  {
   "cell_type": "code",
   "outputs": [],
   "source": [
    "for n in range(len(time_index)):\n",
    "    indices = []\n",
    "    i = n\n",
    "    for j in reversed(units):\n",
    "        indices.insert(0, i%j)\n",
    "        i //= j\n",
    "    time_index_dict[n] = indices"
   ],
   "metadata": {
    "collapsed": false,
    "ExecuteTime": {
     "end_time": "2025-01-09T00:28:19.878273Z",
     "start_time": "2025-01-09T00:28:19.875148Z"
    }
   },
   "id": "c60f563a7c0a0b3f",
   "execution_count": 8
  },
  {
   "cell_type": "code",
   "outputs": [
    {
     "data": {
      "text/plain": "[0, 4, 1, 4]"
     },
     "execution_count": 9,
     "metadata": {},
     "output_type": "execute_result"
    }
   ],
   "source": [
    "time_index_dict[123]"
   ],
   "metadata": {
    "collapsed": false,
    "ExecuteTime": {
     "end_time": "2025-01-09T00:28:19.883514Z",
     "start_time": "2025-01-09T00:28:19.878273Z"
    }
   },
   "id": "7659fb636e06202b",
   "execution_count": 9
  },
  {
   "cell_type": "code",
   "outputs": [
    {
     "name": "stdout",
     "output_type": "stream",
     "text": [
      "ERROR: Rule failed when initializing variable for Var Exp with index None:\n",
      "TypeError: <lambda>() takes 2 positional arguments but 3 were given\n",
      "ERROR: Constructing component 'Exp' from data=None failed:\n",
      "        TypeError: <lambda>() takes 2 positional arguments but 3 were given\n"
     ]
    },
    {
     "ename": "TypeError",
     "evalue": "<lambda>() takes 2 positional arguments but 3 were given",
     "output_type": "error",
     "traceback": [
      "\u001B[1;31m---------------------------------------------------------------------------\u001B[0m",
      "\u001B[1;31mTypeError\u001B[0m                                 Traceback (most recent call last)",
      "Cell \u001B[1;32mIn[1], line 22\u001B[0m\n\u001B[0;32m     19\u001B[0m     \u001B[38;5;28;01mreturn\u001B[39;00m existing_values[idx] \u001B[38;5;28;01mif\u001B[39;00m idx \u001B[38;5;129;01min\u001B[39;00m existing_values \u001B[38;5;28;01melse\u001B[39;00m \u001B[38;5;241m0\u001B[39m\n\u001B[0;32m     21\u001B[0m \u001B[38;5;66;03m# Step 5: Create the variable with the expanded index set\u001B[39;00m\n\u001B[1;32m---> 22\u001B[0m \u001B[43mnew_model\u001B[49m\u001B[38;5;241;43m.\u001B[39;49m\u001B[43mExp\u001B[49m \u001B[38;5;241m=\u001B[39m Var(new_model\u001B[38;5;241m.\u001B[39mtime, initialize\u001B[38;5;241m=\u001B[39m\u001B[38;5;28;01mlambda\u001B[39;00m model, idx: init_exp(model, idx))\n\u001B[0;32m     24\u001B[0m \u001B[38;5;66;03m# Check values\u001B[39;00m\n\u001B[0;32m     25\u001B[0m \u001B[38;5;28;01mfor\u001B[39;00m idx \u001B[38;5;129;01min\u001B[39;00m new_model\u001B[38;5;241m.\u001B[39mtime:\n",
      "File \u001B[1;32m~\\PycharmProjects\\energiapy\\.venv\\Lib\\site-packages\\pyomo\\core\\base\\block.py:571\u001B[0m, in \u001B[0;36mBlockData.__setattr__\u001B[1;34m(self, name, val)\u001B[0m\n\u001B[0;32m    566\u001B[0m \u001B[38;5;28;01mif\u001B[39;00m name \u001B[38;5;129;01mnot\u001B[39;00m \u001B[38;5;129;01min\u001B[39;00m \u001B[38;5;28mself\u001B[39m\u001B[38;5;241m.\u001B[39m\u001B[38;5;18m__dict__\u001B[39m:\n\u001B[0;32m    567\u001B[0m     \u001B[38;5;28;01mif\u001B[39;00m \u001B[38;5;28misinstance\u001B[39m(val, Component):\n\u001B[0;32m    568\u001B[0m         \u001B[38;5;66;03m#\u001B[39;00m\n\u001B[0;32m    569\u001B[0m         \u001B[38;5;66;03m# Pyomo components are added with the add_component method.\u001B[39;00m\n\u001B[0;32m    570\u001B[0m         \u001B[38;5;66;03m#\u001B[39;00m\n\u001B[1;32m--> 571\u001B[0m         \u001B[38;5;28;43mself\u001B[39;49m\u001B[38;5;241;43m.\u001B[39;49m\u001B[43madd_component\u001B[49m\u001B[43m(\u001B[49m\u001B[43mname\u001B[49m\u001B[43m,\u001B[49m\u001B[43m \u001B[49m\u001B[43mval\u001B[49m\u001B[43m)\u001B[49m\n\u001B[0;32m    572\u001B[0m     \u001B[38;5;28;01melse\u001B[39;00m:\n\u001B[0;32m    573\u001B[0m         \u001B[38;5;66;03m#\u001B[39;00m\n\u001B[0;32m    574\u001B[0m         \u001B[38;5;66;03m# Other Python objects are added with the standard __setattr__\u001B[39;00m\n\u001B[0;32m    575\u001B[0m         \u001B[38;5;66;03m# method.\u001B[39;00m\n\u001B[0;32m    576\u001B[0m         \u001B[38;5;66;03m#\u001B[39;00m\n\u001B[0;32m    577\u001B[0m         \u001B[38;5;28msuper\u001B[39m(BlockData, \u001B[38;5;28mself\u001B[39m)\u001B[38;5;241m.\u001B[39m\u001B[38;5;21m__setattr__\u001B[39m(name, val)\n",
      "File \u001B[1;32m~\\PycharmProjects\\energiapy\\.venv\\Lib\\site-packages\\pyomo\\core\\base\\block.py:1105\u001B[0m, in \u001B[0;36mBlockData.add_component\u001B[1;34m(self, name, val)\u001B[0m\n\u001B[0;32m   1097\u001B[0m     logger\u001B[38;5;241m.\u001B[39mdebug(\n\u001B[0;32m   1098\u001B[0m         \u001B[38;5;124m\"\u001B[39m\u001B[38;5;124mConstructing \u001B[39m\u001B[38;5;132;01m%s\u001B[39;00m\u001B[38;5;124m \u001B[39m\u001B[38;5;124m'\u001B[39m\u001B[38;5;132;01m%s\u001B[39;00m\u001B[38;5;124m'\u001B[39m\u001B[38;5;124m on \u001B[39m\u001B[38;5;132;01m%s\u001B[39;00m\u001B[38;5;124m from data=\u001B[39m\u001B[38;5;132;01m%s\u001B[39;00m\u001B[38;5;124m\"\u001B[39m,\n\u001B[0;32m   1099\u001B[0m         val\u001B[38;5;241m.\u001B[39m\u001B[38;5;18m__class__\u001B[39m\u001B[38;5;241m.\u001B[39m\u001B[38;5;18m__name__\u001B[39m,\n\u001B[1;32m   (...)\u001B[0m\n\u001B[0;32m   1102\u001B[0m         \u001B[38;5;28mstr\u001B[39m(data),\n\u001B[0;32m   1103\u001B[0m     )\n\u001B[0;32m   1104\u001B[0m \u001B[38;5;28;01mtry\u001B[39;00m:\n\u001B[1;32m-> 1105\u001B[0m     \u001B[43mval\u001B[49m\u001B[38;5;241;43m.\u001B[39;49m\u001B[43mconstruct\u001B[49m\u001B[43m(\u001B[49m\u001B[43mdata\u001B[49m\u001B[43m)\u001B[49m\n\u001B[0;32m   1106\u001B[0m \u001B[38;5;28;01mexcept\u001B[39;00m:\n\u001B[0;32m   1107\u001B[0m     err \u001B[38;5;241m=\u001B[39m sys\u001B[38;5;241m.\u001B[39mexc_info()[\u001B[38;5;241m1\u001B[39m]\n",
      "File \u001B[1;32m~\\PycharmProjects\\energiapy\\.venv\\Lib\\site-packages\\pyomo\\core\\base\\var.py:778\u001B[0m, in \u001B[0;36mVar.construct\u001B[1;34m(self, data)\u001B[0m\n\u001B[0;32m    769\u001B[0m \u001B[38;5;28;01melif\u001B[39;00m \u001B[38;5;28mself\u001B[39m\u001B[38;5;241m.\u001B[39m_dense:\n\u001B[0;32m    770\u001B[0m     \u001B[38;5;66;03m# Special case: initialize every VarData.  For the\u001B[39;00m\n\u001B[0;32m    771\u001B[0m     \u001B[38;5;66;03m# initializers that are constant, we can avoid\u001B[39;00m\n\u001B[1;32m   (...)\u001B[0m\n\u001B[0;32m    775\u001B[0m     \u001B[38;5;66;03m# (constant portions of) every VarData so as to not\u001B[39;00m\n\u001B[0;32m    776\u001B[0m     \u001B[38;5;66;03m# repeat all the domain/bounds validation.\u001B[39;00m\n\u001B[0;32m    777\u001B[0m     \u001B[38;5;28;01mtry\u001B[39;00m:\n\u001B[1;32m--> 778\u001B[0m         ref \u001B[38;5;241m=\u001B[39m \u001B[38;5;28;43mself\u001B[39;49m\u001B[38;5;241;43m.\u001B[39;49m\u001B[43m_getitem_when_not_present\u001B[49m\u001B[43m(\u001B[49m\u001B[38;5;28;43mnext\u001B[39;49m\u001B[43m(\u001B[49m\u001B[38;5;28;43miter\u001B[39;49m\u001B[43m(\u001B[49m\u001B[38;5;28;43mself\u001B[39;49m\u001B[38;5;241;43m.\u001B[39;49m\u001B[43mindex_set\u001B[49m\u001B[43m(\u001B[49m\u001B[43m)\u001B[49m\u001B[43m)\u001B[49m\u001B[43m)\u001B[49m\u001B[43m)\u001B[49m\n\u001B[0;32m    779\u001B[0m     \u001B[38;5;28;01mexcept\u001B[39;00m \u001B[38;5;167;01mStopIteration\u001B[39;00m:\n\u001B[0;32m    780\u001B[0m         \u001B[38;5;66;03m# Empty index!\u001B[39;00m\n\u001B[0;32m    781\u001B[0m         \u001B[38;5;28;01mreturn\u001B[39;00m\n",
      "File \u001B[1;32m~\\PycharmProjects\\energiapy\\.venv\\Lib\\site-packages\\pyomo\\core\\base\\var.py:850\u001B[0m, in \u001B[0;36mVar._getitem_when_not_present\u001B[1;34m(self, index)\u001B[0m\n\u001B[0;32m    848\u001B[0m     obj\u001B[38;5;241m.\u001B[39mlower, obj\u001B[38;5;241m.\u001B[39mupper \u001B[38;5;241m=\u001B[39m \u001B[38;5;28mself\u001B[39m\u001B[38;5;241m.\u001B[39m_rule_bounds(parent, index)\n\u001B[0;32m    849\u001B[0m \u001B[38;5;28;01mif\u001B[39;00m \u001B[38;5;28mself\u001B[39m\u001B[38;5;241m.\u001B[39m_rule_init \u001B[38;5;129;01mis\u001B[39;00m \u001B[38;5;129;01mnot\u001B[39;00m \u001B[38;5;28;01mNone\u001B[39;00m:\n\u001B[1;32m--> 850\u001B[0m     obj\u001B[38;5;241m.\u001B[39mset_value(\u001B[38;5;28;43mself\u001B[39;49m\u001B[38;5;241;43m.\u001B[39;49m\u001B[43m_rule_init\u001B[49m\u001B[43m(\u001B[49m\u001B[43mparent\u001B[49m\u001B[43m,\u001B[49m\u001B[43m \u001B[49m\u001B[43mindex\u001B[49m\u001B[43m)\u001B[49m)\n\u001B[0;32m    851\u001B[0m \u001B[38;5;28;01mreturn\u001B[39;00m obj\n",
      "File \u001B[1;32m~\\PycharmProjects\\energiapy\\.venv\\Lib\\site-packages\\pyomo\\core\\base\\initializer.py:347\u001B[0m, in \u001B[0;36mIndexedCallInitializer.__call__\u001B[1;34m(self, parent, idx)\u001B[0m\n\u001B[0;32m    341\u001B[0m \u001B[38;5;28;01mdef\u001B[39;00m\u001B[38;5;250m \u001B[39m\u001B[38;5;21m__call__\u001B[39m(\u001B[38;5;28mself\u001B[39m, parent, idx):\n\u001B[0;32m    342\u001B[0m     \u001B[38;5;66;03m# Note: this is called by a component using data from a Set (so\u001B[39;00m\n\u001B[0;32m    343\u001B[0m     \u001B[38;5;66;03m# any tuple-like type should have already been checked and\u001B[39;00m\n\u001B[0;32m    344\u001B[0m     \u001B[38;5;66;03m# converted to a tuple; or flattening is turned off and it is\u001B[39;00m\n\u001B[0;32m    345\u001B[0m     \u001B[38;5;66;03m# the user's responsibility to sort things out.\u001B[39;00m\n\u001B[0;32m    346\u001B[0m     \u001B[38;5;28;01mif\u001B[39;00m idx\u001B[38;5;241m.\u001B[39m\u001B[38;5;18m__class__\u001B[39m \u001B[38;5;129;01mis\u001B[39;00m \u001B[38;5;28mtuple\u001B[39m:\n\u001B[1;32m--> 347\u001B[0m         \u001B[38;5;28;01mreturn\u001B[39;00m \u001B[38;5;28;43mself\u001B[39;49m\u001B[38;5;241;43m.\u001B[39;49m\u001B[43m_fcn\u001B[49m\u001B[43m(\u001B[49m\u001B[43mparent\u001B[49m\u001B[43m,\u001B[49m\u001B[43m \u001B[49m\u001B[38;5;241;43m*\u001B[39;49m\u001B[43midx\u001B[49m\u001B[43m)\u001B[49m\n\u001B[0;32m    348\u001B[0m     \u001B[38;5;28;01melse\u001B[39;00m:\n\u001B[0;32m    349\u001B[0m         \u001B[38;5;28;01mreturn\u001B[39;00m \u001B[38;5;28mself\u001B[39m\u001B[38;5;241m.\u001B[39m_fcn(parent, idx)\n",
      "\u001B[1;31mTypeError\u001B[0m: <lambda>() takes 2 positional arguments but 3 were given"
     ]
    }
   ],
   "source": [
    "from pyomo.environ import *\n",
    "\n",
    "# Step 1: Define the original model and variable\n",
    "model = ConcreteModel()\n",
    "model.time = Set(initialize=[(0, 1), (0, 2), (0, 3)])\n",
    "model.Exp = Var(model.time, initialize={(0, 1): 10, (0, 2): 20, (0, 3): 30})\n",
    "\n",
    "# Step 2: Extract existing values\n",
    "existing_values = {idx: value(model.Exp[idx]) for idx in model.time}\n",
    "\n",
    "# Step 3: Define a new model or variable with expanded indexes\n",
    "new_time = [(0, 1), (0, 2), (0, 3), (0, 4), (0, 5)]\n",
    "\n",
    "new_model = ConcreteModel()\n",
    "new_model.time = Set(initialize=new_time)\n",
    "\n",
    "# Step 4: Define initialization function\n",
    "def init_exp(model, idx):\n",
    "    return existing_values[idx] if idx in existing_values else 0\n",
    "\n",
    "# Step 5: Create the variable with the expanded index set\n",
    "new_model.Exp = Var(new_model.time, initialize=lambda model, idx: init_exp(model, idx))\n",
    "\n",
    "# Check values\n",
    "for idx in new_model.time:\n",
    "    print(f\"Exp{idx} = {value(new_model.Exp[idx])}\")\n"
   ],
   "metadata": {
    "collapsed": false,
    "ExecuteTime": {
     "end_time": "2025-01-09T00:28:23.777309Z",
     "start_time": "2025-01-09T00:28:23.245058Z"
    }
   },
   "id": "4a301ca718182171",
   "execution_count": 1
  },
  {
   "cell_type": "code",
   "outputs": [],
   "source": [],
   "metadata": {
    "collapsed": false
   },
   "id": "ba7f2992acd73b46"
  }
 ],
 "metadata": {
  "kernelspec": {
   "display_name": "Python 3",
   "language": "python",
   "name": "python3"
  },
  "language_info": {
   "codemirror_mode": {
    "name": "ipython",
    "version": 2
   },
   "file_extension": ".py",
   "mimetype": "text/x-python",
   "name": "python",
   "nbconvert_exporter": "python",
   "pygments_lexer": "ipython2",
   "version": "2.7.6"
  }
 },
 "nbformat": 4,
 "nbformat_minor": 5
}
