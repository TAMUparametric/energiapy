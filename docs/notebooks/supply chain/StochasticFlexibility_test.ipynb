{
 "cells": [
  {
   "cell_type": "code",
   "source": [
    "import random\n",
    "import numpy as np\n",
    "from scipy.stats import norm, multivariate_normal"
   ],
   "metadata": {
    "collapsed": false,
    "jupyter": {
     "is_executing": true
    },
    "ExecuteTime": {
     "end_time": "2025-05-28T16:14:46.000248Z",
     "start_time": "2025-05-28T16:14:45.990688Z"
    }
   },
   "id": "be18a5cc004a5498",
   "outputs": [],
   "execution_count": 14
  },
  {
   "cell_type": "code",
   "outputs": [],
   "source": [
    "# def calculate_expected_stochastic_flexibility(lagrange_multipliers, b_theta, b_zero, mean_theta, var_covar_theta):\n",
    "#     mean_psi = list()\n",
    "#     temp = list()\n",
    "#     sfindex_list = list()\n",
    "# \n",
    "#     for i in lagrange_multipliers:\n",
    "#         mu_psi = i @ (b_theta @ mean_theta + b_zero)\n",
    "#         var_psi = (i @ b_theta) @ var_covar_theta @ (i @ b_theta).T\n",
    "#         stdev_psi = np.sqrt(var_psi)\n",
    "#         z = -mu_psi/stdev_psi\n",
    "#         delta = norm.cdf(z)\n",
    "#         mean_psi.append(mu_psi)\n",
    "#         temp.append((i @ b_theta).tolist())\n",
    "#         sfindex_list.append(round(delta,4))\n",
    "# \n",
    "#     var_covar_psi = np.array(temp) @ var_covar_theta @ np.transpose(np.array(temp))    \n",
    "#     indices = [i for i, val in enumerate(sfindex_list) if val == 1]\n",
    "# \n",
    "#     mean_psi_np = np.delete(np.array(mean_psi), indices, axis=0)\n",
    "#     var_covar_psi = np.delete(var_covar_psi, indices, axis=0)\n",
    "#     var_covar_psi = np.delete(var_covar_psi, indices, axis=1)\n",
    "# \n",
    "# \n",
    "#     multivariate_dist = multivariate_normal(mean_psi_np, var_covar_psi, allow_singular=True)\n",
    "# \n",
    "#     esf_index = multivariate_dist.cdf([0]*len(mean_psi_np))\n",
    "# \n",
    "#     # return np.array(mean_psi), var_covar_psi, sfindex_list\n",
    "# \n",
    "#     return esf_index"
   ],
   "metadata": {
    "collapsed": false,
    "ExecuteTime": {
     "end_time": "2025-05-28T16:14:46.015968Z",
     "start_time": "2025-05-28T16:14:46.003401Z"
    }
   },
   "id": "5275fcae331b1f7d",
   "execution_count": 15
  },
  {
   "cell_type": "code",
   "outputs": [],
   "source": [
    "def calculate_stochastic_flexibility(mean_theta, var_covar_theta,\n",
    "                                              lagrange_multipliers=None, b_theta=None, b_zero=None,\n",
    "                                              psi_b_theta=None, psi_b_zero=None):\n",
    "    # Check feasibility function inputs\n",
    "    if psi_b_theta is None:\n",
    "        if lagrange_multipliers is None or b_theta is None:\n",
    "            raise ValueError(\"Provide either 'psi_b_theta' directly or both 'lagrange_multipliers' and 'b_theta'.\")\n",
    "        psi_b_theta = lagrange_multipliers @ b_theta\n",
    "\n",
    "    if psi_b_zero is None:\n",
    "        if lagrange_multipliers is None or b_zero is None:\n",
    "            raise ValueError(\"Provide either 'psi_b_zero' directly or both 'lagrange_multipliers' and 'b_zero'.\")\n",
    "        psi_b_zero = lagrange_multipliers @ b_zero\n",
    "\n",
    "    # Compute mean and std dev of feasibility functions\n",
    "    mean_psi = psi_b_theta @ mean_theta + psi_b_zero\n",
    "    stdev_psi = np.sqrt(np.einsum('ij,jk,ik->i', psi_b_theta, var_covar_theta, psi_b_theta))\n",
    "\n",
    "    # SF index values\n",
    "    z = -mean_psi / stdev_psi\n",
    "    sfindex_array = np.round(norm.cdf(z), 4)\n",
    "    # print(f'Stochastic Flexibility per active set: {sfindex_array}')\n",
    "    # Remove rows/cols where SF index == 1\n",
    "    keep = sfindex_array != 1\n",
    "    mean_psi_filtered = mean_psi[keep]\n",
    "    psi_b_theta_filtered = psi_b_theta[keep]\n",
    "\n",
    "    var_covar_psi = psi_b_theta_filtered @ var_covar_theta @ psi_b_theta_filtered.T\n",
    "\n",
    "    # Multivariate CDF\n",
    "    sf_index = multivariate_normal(mean_psi_filtered, var_covar_psi, allow_singular=True).cdf(np.zeros_like(mean_psi_filtered))\n",
    "\n",
    "    return sf_index"
   ],
   "metadata": {
    "collapsed": false,
    "ExecuteTime": {
     "end_time": "2025-05-28T16:14:46.031585Z",
     "start_time": "2025-05-28T16:14:46.017071Z"
    }
   },
   "id": "9d38b2aae5cc43a",
   "execution_count": 16
  },
  {
   "cell_type": "code",
   "outputs": [
    {
     "name": "stdout",
     "output_type": "stream",
     "text": [
      "Stochastic Flexibility Index: 0.6632756210092001\n"
     ]
    }
   ],
   "source": [
    "# Data for Example 1 in Pistikopoulos and Mazzuchi 1990\n",
    "# \n",
    "# lagm = np.array([\n",
    "#     [0.5, 0.5, 0, 0, 0],\n",
    "#     [0.5, 0, 0.5, 0, 0],\n",
    "#     [0.5, 0, 0, 0.5, 0],\n",
    "#     [0, 0.5, 0, 0, 0.5],\n",
    "#     [0, 0, 0.5, 0, 0.5],\n",
    "#     [0, 0, 0, 0.5, 0.5]\n",
    "# ])\n",
    "# \n",
    "# b_j_theta = np.array([\n",
    "#     [0, 1.5, 0 ,0],\n",
    "#     [-1.5, -2, -2, 0],\n",
    "#     [-1.5, -2, -1, 0],\n",
    "#     [-1.5, -2, -1, -2],\n",
    "#     [1.5, 2, 1, 3]\n",
    "# ])\n",
    "# \n",
    "# b_j_zero = np.array([-525, 2777, 2044, 2830, -3153])\n",
    "mean_theta = np.array([620, 388, 583, 313])\n",
    "var_covar_theta = np.diag([69.39, 69.39, 69.39, 69.39])\n",
    "\n",
    "psi_theta = np.array([\n",
    "    [-0.75, -0.25, -1, 0],\n",
    "    [-0.75, -0.25, -0.5, 0],\n",
    "    [-0.75, -0.25, -0.5, -1],\n",
    "    [0, 0, -0.5, 1.5],\n",
    "    [0, 0, 0, 1.5],\n",
    "    [0, 0, 0, 0.5]\n",
    "])\n",
    "\n",
    "psi_zero = np.array([1126, 759.5, 1152.5, -188, -554.5, -161.5])\n",
    "sf = calculate_stochastic_flexibility(mean_theta=mean_theta, var_covar_theta=var_covar_theta, psi_b_theta=psi_theta, psi_b_zero=psi_zero)\n",
    "print(f'Stochastic Flexibility Index: {sf}')"
   ],
   "metadata": {
    "collapsed": false,
    "ExecuteTime": {
     "end_time": "2025-05-28T16:14:46.062665Z",
     "start_time": "2025-05-28T16:14:46.032585Z"
    }
   },
   "id": "b24e73352d9020ec",
   "execution_count": 17
  },
  {
   "cell_type": "code",
   "outputs": [],
   "source": [
    "# # Data for Example 2 in Pistikopoulos and Mazzuchi 1990\n",
    "# \n",
    "# psi_b_theta_2 = np.array([\n",
    "#     [0, 0, 0.8, 0, 0, 1, 0.8],\n",
    "#     [0, 0, 1, 0, 0, 0, 1],\n",
    "#     [5/18, 2.5/18, 1/3, 0, 12.5/36, 1, 1/3],\n",
    "#     [4, 2, 2, -3.5, 5, 6, 2],\n",
    "#     [0, 0, -2, -2.5, 0, 0, -2],\n",
    "#     [0, 0, 0, 0, 0, 1, 0]\n",
    "# ])\n",
    "# \n",
    "# psi_b_zero_2 = np.array([-858, -700, -4907.5/6, -6045, 2145, -325])\n",
    "# \n",
    "# mean_theta_2 = np.array([400, 450, 400, 430, 310, 290, 295])\n",
    "# var_covar_theta_2 = np.diag([69.39, 69.39, 69.39, 69.39, 69.39, 69.39, 69.39])\n",
    "# \n",
    "# sf = calculate_stochastic_flexibility(mean_theta=mean_theta_2, var_covar_theta=var_covar_theta_2, psi_b_theta=psi_b_theta_2, psi_b_zero=psi_b_zero_2)"
   ],
   "metadata": {
    "collapsed": false,
    "ExecuteTime": {
     "end_time": "2025-05-28T16:14:46.078315Z",
     "start_time": "2025-05-28T16:14:46.063791Z"
    }
   },
   "id": "c8fe01ef50d9d446",
   "execution_count": 18
  },
  {
   "cell_type": "code",
   "outputs": [],
   "source": [
    "# sf"
   ],
   "metadata": {
    "collapsed": false,
    "ExecuteTime": {
     "end_time": "2025-05-28T16:14:46.094432Z",
     "start_time": "2025-05-28T16:14:46.079356Z"
    }
   },
   "id": "711fe8b92e848371",
   "execution_count": 19
  },
  {
   "cell_type": "code",
   "outputs": [],
   "source": [],
   "metadata": {
    "collapsed": false,
    "ExecuteTime": {
     "end_time": "2025-05-28T16:14:46.110210Z",
     "start_time": "2025-05-28T16:14:46.095489Z"
    }
   },
   "id": "5df36b268beffcfa",
   "execution_count": 19
  }
 ],
 "metadata": {
  "kernelspec": {
   "display_name": "Python 3",
   "language": "python",
   "name": "python3"
  },
  "language_info": {
   "codemirror_mode": {
    "name": "ipython",
    "version": 2
   },
   "file_extension": ".py",
   "mimetype": "text/x-python",
   "name": "python",
   "nbconvert_exporter": "python",
   "pygments_lexer": "ipython2",
   "version": "2.7.6"
  }
 },
 "nbformat": 4,
 "nbformat_minor": 5
}
