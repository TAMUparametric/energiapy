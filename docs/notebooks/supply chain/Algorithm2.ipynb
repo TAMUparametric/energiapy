{
 "cells": [
  {
   "cell_type": "code",
   "id": "initial_id",
   "metadata": {
    "collapsed": true,
    "ExecuteTime": {
     "end_time": "2025-05-15T21:14:07.194789Z",
     "start_time": "2025-05-15T21:14:07.187420Z"
    }
   },
   "source": [
    "import itertools\n",
    "import numpy as np\n",
    "from pyomo.environ import *\n",
    "from pyomo.environ import value as pyoval\n",
    "from pyomo.environ import Binary, NonNegativeReals, UnitInterval\n",
    "from typing import Tuple, Union\n",
    "from collections import defaultdict"
   ],
   "outputs": [],
   "execution_count": 38
  },
  {
   "cell_type": "code",
   "source": [
    "def active_set_method(A:np.ndarray, b:np.ndarray, theta_nominal:list, theta_deviations:list, design_vectors:np.ndarray | list[np.ndarray]=None, z_bounds:list[Tuple]=None, bigM:float=1e3, model_only:bool=False):\n",
    "    \"\"\"\n",
    "    From:\n",
    "    A(d, z, theta) <= b\n",
    "    z_lb <= z <= z_ub\n",
    "    theta_nominal - delta * theta_deviations_lb <= theta <= theta_nominal + delta * theta_deviations_ub\n",
    "    \n",
    "    Convert to:\n",
    "    h(d, z, theta, slack, dual, binary) == b_h\n",
    "    g(z, theta, slack, dual, binary, delta) <= b_g\n",
    "\n",
    "    Args:\n",
    "        A: Coefficient matrix of system equations\n",
    "        b: Vector of constant values\n",
    "        theta_nominal: Nominal values of uncertain parameters\n",
    "        theta_deviations: Allowable changes from the nominal value (lower bound, upper bound)\n",
    "        design_vectors: Values of design variables\n",
    "        z_bounds: Bounds on control variables\n",
    "        bigM: Big M value \n",
    "        model_only: Boolean value. If True, returns an unsolved active set model\n",
    "\n",
    "    Returns:\n",
    "        m: Pyomo model\n",
    "        delta: Flexibility index value\n",
    "    \"\"\"\n",
    "    if not (isinstance(theta_nominal, list) and isinstance(theta_deviations, list) and all(isinstance(t, tuple) and len(t)==2 and all(isinstance(x, (int, float)) for x in t) for t in theta_deviations)):\n",
    "        raise ValueError('Please provide a list (of length n_t) of tuples (of size 2) and containing only float or integer values!')\n",
    "    elif len(theta_nominal) != len(theta_deviations):\n",
    "        raise ValueError('Inconsistent input for nominal theta values and theta bounds')\n",
    "    \n",
    "    n_t = len(theta_nominal)\n",
    "    n_d = design_vectors[0].shape[0] if isinstance(design_vectors, list) else design_vectors.shape[0] if isinstance(design_vectors, np.ndarray) else 0\n",
    "    n_c = A.shape[1] - n_t - n_d\n",
    "    if n_c < 0:\n",
    "        raise ValueError('Inconsistent coefficients input')\n",
    "    if isinstance(z_bounds, list):        \n",
    "        if not (len(z_bounds) == n_c and all(isinstance(t, tuple) and len(t)==2 and all(isinstance(x, (int, float)) for x in t) for t in z_bounds)):\n",
    "            raise ValueError('Please provide a list (of length n_c) of tuples (of size 2) and containing only float or integer values!')\n",
    "    \n",
    "    # Reformulate A(d, z, theta) <= b to h(d, z, theta, slack, dual, binary) == b_h\n",
    "    # h1(d, z, theta, slack) == b               for all system constraints\n",
    "    # h2(dual) == 0 (from dA/dz = 0)            for all control variables\n",
    "    # h3(dual, binary) == [1, n_c+1]'           2 constraints\n",
    "    # d == dE                                   for all design variables - if provided\n",
    "    # b_h = [b, 0*n_c, 1, n_c+1, dE (if provided)]'\n",
    "    h1 = np.concatenate([A, np.diag([1]*A.shape[0]), np.zeros((A.shape[0], 2*A.shape[0]))], axis=1)\n",
    "    h2 = np.concatenate([np.zeros((n_c, A.shape[1]+A.shape[0])), A[:, n_d:n_d+n_c].T, np.zeros((n_c, A.shape[0]))], axis=1)\n",
    "    h3 = np.concatenate([np.zeros((2, A.shape[1]+A.shape[0])), np.stack([np.ones(A.shape[0]).T, np.zeros(A.shape[0]).T], axis=0), np.stack([np.zeros(A.shape[0]).T, np.ones(A.shape[0]).T], axis=0)], axis=1)\n",
    "    h = np.concatenate([h1, h2, h3], axis=0)\n",
    "    b_h = np.concatenate([b, np.zeros(n_c), np.array([1]), np.array([n_c+1])], axis=0)\n",
    "    \n",
    "    # Add inequalities for the active set reformulation g(z, theta, slack, dual, binary, delta) <= b_g\n",
    "    # z <= z_UB                                             Upper bounds for all control variables\n",
    "    # -z <= -z_LB                                           Lower bounds for all control variables\n",
    "    # theta - theta_bound*delta <= theta_nominal            Upper bounds for all uncertain parameters\n",
    "    # -theta - theta_bound*delta <= -theta_nominal          Lower bounds for all uncertain parameters\n",
    "    # slack + bigM*binary <= bigM                           # bigM reformulation of complementary conditions\n",
    "    # dual - binary <= 0                                    bigM reformulation of complementary conditions\n",
    "    g1 = np.concatenate([np.concatenate([np.diag([1]*n_t), np.diag([-1]*n_t)], axis=0), np.zeros((2*n_t, 3*A.shape[0])), np.stack([-np.array([i[1] for i in theta_deviations]), -np.array([i[1] for i in theta_deviations])], axis=0).reshape(-1,1)], axis=1)\n",
    "    g2 = np.concatenate([np.zeros((A.shape[0], n_t)), np.diag([1]*A.shape[0]), np.diag([0]*A.shape[0]), np.diag([bigM]*A.shape[0]), np.zeros(A.shape[0]).reshape(-1,1)], axis=1)\n",
    "    g3 = np.concatenate([np.zeros((A.shape[0], n_t)), np.diag([0]*A.shape[0]), np.diag([1]*A.shape[0]), np.diag([-1]*A.shape[0]), np.zeros(A.shape[0]).reshape(-1,1)], axis=1)\n",
    "    g = np.concatenate([g1, g2, g3], axis=0)\n",
    "    b_g = np.concatenate([np.array(theta_nominal), -np.array(theta_nominal), np.array([bigM]*A.shape[0]), np.array([0]*A.shape[0])], axis=0)\n",
    "    g_shift=n_d+n_c\n",
    "    \n",
    "    def evaluate_delta_fixed_design(h, b_h, g, b_g, g_shift, z_b:np.ndarray=None, design_vector:np.ndarray=None):\n",
    "        if isinstance(design_vector, np.ndarray):\n",
    "            h4 = np.concatenate([np.diag([1]*n_d), np.zeros((n_d, n_c+n_t+3*A.shape[0]))], axis=1)\n",
    "            h_new, b_h_new = np.concatenate([h, h4], axis=0), np.concatenate([b_h, design_vector], axis=0)\n",
    "        else:\n",
    "            h_new, b_h_new= h, b_h\n",
    "            \n",
    "        if isinstance(z_b, list):\n",
    "            g0 = np.concatenate([np.concatenate([np.diag([1]*n_c), np.diag([-1]*n_c)], axis=0), np.zeros((2*n_c, n_t+3*A.shape[0]+1))], axis=1)\n",
    "            gz = np.zeros((2*(n_t+A.shape[0]), n_c))\n",
    "            b0 = np.array([i[1] for i in z_bounds]+[-i[0] for i in z_bounds])\n",
    "            g_new, b_g_new = np.concatenate([g0, np.concatenate([gz, g], axis=1)], axis=0), np.concatenate([b0, b_g], axis=0)\n",
    "            g_shift=n_d\n",
    "        else:\n",
    "            g_new, b_g_new = g, b_g\n",
    "                \n",
    "        binary_indexes = {i for i in range(A.shape[1]+2*A.shape[0]+1, A.shape[1]+3*A.shape[0]+1)}\n",
    "        def var_domain_rule(instance, i):\n",
    "            return Binary if i in binary_indexes else NonNegativeReals\n",
    "        \n",
    "        m = ConcreteModel()\n",
    "        m.v = RangeSet(n_d+n_c+n_t+3*A.shape[0]+1)\n",
    "        m.var = Var(m.v, domain=var_domain_rule)        # order of variables (design, control, theta, slack, dual, binary, delta)\n",
    "        m.hi = RangeSet(h_new.shape[0])\n",
    "        m.hj = RangeSet(h_new.shape[1])\n",
    "        m.gi = RangeSet(g_new.shape[0])\n",
    "        m.gj = RangeSet(g_new.shape[1])\n",
    "\n",
    "        def h_eq_bh_rule(instance, i):\n",
    "            return sum(h_new[i-1, j-1]*instance.var[j] for j in instance.hj) == b_h_new[i-1]\n",
    "        m.h_eq_bh = Constraint(m.hi, rule=h_eq_bh_rule)\n",
    "        \n",
    "        def g_leq_bg_rule(instance, i):\n",
    "            return sum(g_new[i-1, j-1]*instance.var[j+g_shift] for j in instance.gj) <= b_g_new[i-1]\n",
    "        m.g_leq_bg = Constraint(m.gi, rule=g_leq_bg_rule)\n",
    "        \n",
    "        # Objective\n",
    "        m.objective = Objective(expr=m.var[len(m.v)], sense=minimize)\n",
    "        # m.cuts = ConstraintList()\n",
    "        # m.cuts.add(m.var[11] + m.var[12] - m.var[13] <= 1)\n",
    "        solver = SolverFactory('gurobi')\n",
    "        solver.solve(m)\n",
    "        actives = [j-(A.shape[1]+2*A.shape[0]) for j in binary_indexes if pyoval(m.var[j]) == 1] # Adjust for constraint number\n",
    "        return m, pyoval(m.var[len(m.v)]), actives\n",
    "    \n",
    "    if isinstance(design_vectors, list):\n",
    "        m, delta, active_set = [defaultdict(dict) for _ in range(3)]\n",
    "        for i in range(len(design_vectors)):\n",
    "            m[i], delta[i], active_set[i] = evaluate_delta_fixed_design(h=h, b_h=b_h, g=g, b_g=b_g, g_shift=g_shift, z_b=z_bounds, design_vector=design_vectors[i])\n",
    "    elif isinstance(design_vectors, np.ndarray):\n",
    "        m, delta, active_set = evaluate_delta_fixed_design(h=h, b_h=b_h, g=g, b_g=b_g, g_shift=g_shift, z_b=z_bounds, design_vector=design_vectors)\n",
    "    else:\n",
    "        m, delta, active_set = evaluate_delta_fixed_design(h=h, b_h=b_h, g=g, b_g=b_g, g_shift=g_shift)\n",
    "    \n",
    "    return m, delta, active_set"
   ],
   "metadata": {
    "collapsed": false,
    "ExecuteTime": {
     "end_time": "2025-05-15T21:14:07.226556Z",
     "start_time": "2025-05-15T21:14:07.206640Z"
    }
   },
   "id": "fbe6347bc7e54ff",
   "outputs": [],
   "execution_count": 39
  },
  {
   "cell_type": "code",
   "outputs": [],
   "source": [
    "def model_relaxation(m:ConcreteModel, aset:list, n_cons:int):\n",
    "    relax_m = m\n",
    "    for var in relax_m.component_data_objects(Var, descend_into=True):\n",
    "        if var.domain is Binary:\n",
    "            var.domain = UnitInterval\n",
    "            var.fix(pyoval(var))\n",
    "    relax_m.dual = Suffix(direction=Suffix.IMPORT)\n",
    "    SolverFactory('gurobi').solve(relax_m)\n",
    "    duals = np.array([relax_m.dual[relax_m.h_eq_bh[i]] if i in aset else 0 for i in range(1, n_cons+1)])\n",
    "    return relax_m, duals"
   ],
   "metadata": {
    "collapsed": false,
    "ExecuteTime": {
     "end_time": "2025-05-15T21:14:07.242106Z",
     "start_time": "2025-05-15T21:14:07.227602Z"
    }
   },
   "id": "5a102c2c4dcc9da1",
   "execution_count": 40
  },
  {
   "cell_type": "code",
   "outputs": [],
   "source": [
    "def cost_optimization(fix_cost:list, var_cost:list, flex_target:float, sigma_array:np.ndarray, ddesign_bounds:list):\n",
    "    mcost = ConcreteModel()\n",
    "    mcost.asets = RangeSet"
   ],
   "metadata": {
    "collapsed": false,
    "ExecuteTime": {
     "end_time": "2025-05-15T21:14:07.258257Z",
     "start_time": "2025-05-15T21:14:07.243168Z"
    }
   },
   "id": "5ce035814b380d87",
   "execution_count": 41
  },
  {
   "cell_type": "code",
   "outputs": [],
   "source": [
    "def algorithm2(A:np.ndarray, b:np.ndarray, theta_nominal:list, theta_deviations:list, fix_cost:list, var_cost:list, ddesign_bounds:list, design_vectors:np.ndarray | list[np.ndarray]=None, z_bounds:list[Tuple]=None, bigM:float=1e3, flex_target:float=1.0):\n",
    "    \n",
    "    delta_dict, actset_dict, dual_dict, k = dict(), dict(), dict(), 0\n",
    "    n_t = len(theta_nominal)\n",
    "    n_d = design_vectors[0].shape[0] if isinstance(design_vectors, list) else design_vectors.shape[0] if isinstance(design_vectors, np.ndarray) else 0\n",
    "    n_c = A.shape[1] - n_t - n_d\n",
    "    if n_c < 0:\n",
    "        raise ValueError('Inconsistent coefficients input')\n",
    "    \n",
    "    # Step 1: Solving active set problem to initialize algorithm\n",
    "    m_as, delta_dict[k], actset_dict[k] =active_set_method(A=A, b=b, theta_nominal=theta_nominal, theta_deviations=theta_deviations, design_vectors=design_vectors, z_bounds=z_bounds, bigM=bigM)\n",
    "    mrelax_as, dual_dict[k] = model_relaxation(m=m_as, aset=actset_dict[k], n_cons=A.shape[0])\n",
    "    print(f'Active set {k}: {actset_dict[k]}')\n",
    "    print(f'Flexibility index for active set {k}: {delta_dict[k]}')\n",
    "    print(f'Dual variables for relaxed active set {k}: {dual_dict[k]}')\n",
    "    \n",
    "    # while delta_dict[k] < flex_target:\n",
    "    #     k+=1\n",
    "    #     \n",
    "    #     if not hasattr(m_as,'cuts'):\n",
    "    #         m_as.cuts = ConstraintList()\n",
    "    #     m_as.cuts.add(sum(m_as.y[j] for j in m_as.v ))\n",
    "    #     if k > 10:\n",
    "    #         break\n",
    "        \n",
    "    "
   ],
   "metadata": {
    "collapsed": false,
    "ExecuteTime": {
     "end_time": "2025-05-15T21:14:07.273415Z",
     "start_time": "2025-05-15T21:14:07.259318Z"
    }
   },
   "id": "fa3c268c81dc3a46",
   "execution_count": 42
  },
  {
   "cell_type": "code",
   "source": [
    "# EXAMPLE 1 Pistikopoulos and Grossmann (1988): https://www.sciencedirect.com/science/article/pii/0098135488800103\n",
    "theta_nominal = [2]\n",
    "theta_deviations = [(2,2)]\n",
    "A = np.array([\n",
    "    [1, -3, 1, -1],\n",
    "    [0, 1, -1, -1/3],\n",
    "    [-1, 0, 1 ,1]\n",
    "])\n",
    "b = np.array([0, -1/3, 1])\n",
    "d = np.array([3, 1])\n",
    "c = np.zeros(d.shape[0])\n",
    "beta = np.array([10]*d.shape[0])\n",
    "delta_design_bounds=[1000, 1000]"
   ],
   "metadata": {
    "collapsed": false,
    "ExecuteTime": {
     "end_time": "2025-05-15T21:14:07.288953Z",
     "start_time": "2025-05-15T21:14:07.275494Z"
    }
   },
   "id": "df96d930707473fa",
   "outputs": [],
   "execution_count": 43
  },
  {
   "cell_type": "code",
   "outputs": [
    {
     "name": "stdout",
     "output_type": "stream",
     "text": [
      "Active set 0: [1, 2]\n",
      "Flexibility index for active set 0: 0.5\n",
      "Dual variables for relaxed active set 0: [0.375 0.375 0.   ], type: <class 'numpy.ndarray'>\n"
     ]
    }
   ],
   "source": [
    "algorithm2(A=A, b=b, theta_nominal=theta_nominal, theta_deviations=theta_deviations, design_vectors=d, fix_cost=c, var_cost=beta, ddesign_bounds=delta_design_bounds)"
   ],
   "metadata": {
    "collapsed": false,
    "ExecuteTime": {
     "end_time": "2025-05-15T21:14:07.677224Z",
     "start_time": "2025-05-15T21:14:07.290004Z"
    }
   },
   "id": "ee4bbe5f3f77b826",
   "execution_count": 44
  },
  {
   "cell_type": "code",
   "outputs": [],
   "source": [
    "# model, flex_index, act_set = active_set_method(A=A, b=b, theta_nominal=theta_nominal, theta_deviations=theta_deviations, design_vectors=d)"
   ],
   "metadata": {
    "collapsed": false,
    "ExecuteTime": {
     "end_time": "2025-05-15T21:14:07.692868Z",
     "start_time": "2025-05-15T21:14:07.678346Z"
    }
   },
   "id": "975a55b7a433af03",
   "execution_count": 45
  },
  {
   "cell_type": "code",
   "outputs": [],
   "source": [
    "# mrelax, dual_arr = model_relaxation(m=model, aset=act_set, n_cons=3)"
   ],
   "metadata": {
    "collapsed": false,
    "ExecuteTime": {
     "end_time": "2025-05-15T21:14:07.708583Z",
     "start_time": "2025-05-15T21:14:07.693918Z"
    }
   },
   "id": "b413db2ebdc6909b",
   "execution_count": 46
  },
  {
   "cell_type": "code",
   "outputs": [],
   "source": [
    "# dual_arr"
   ],
   "metadata": {
    "collapsed": false,
    "ExecuteTime": {
     "end_time": "2025-05-15T21:14:07.723310Z",
     "start_time": "2025-05-15T21:14:07.709689Z"
    }
   },
   "id": "afa8e13659fbc320",
   "execution_count": 47
  },
  {
   "cell_type": "code",
   "outputs": [],
   "source": [
    "# n_d = 3\n",
    "# dual_arrs = np.empty((n_d,0))"
   ],
   "metadata": {
    "collapsed": false,
    "ExecuteTime": {
     "end_time": "2025-05-15T21:14:07.738850Z",
     "start_time": "2025-05-15T21:14:07.724344Z"
    }
   },
   "id": "d3e191f002f315c2",
   "execution_count": 48
  },
  {
   "cell_type": "code",
   "outputs": [],
   "source": [
    "# dual_arrs = np.hstack((dual_arrs, dual_arr.reshape(-1,1)))"
   ],
   "metadata": {
    "collapsed": false,
    "ExecuteTime": {
     "end_time": "2025-05-15T21:14:07.754135Z",
     "start_time": "2025-05-15T21:14:07.739968Z"
    }
   },
   "id": "c7c01fdf004cd382",
   "execution_count": 49
  },
  {
   "cell_type": "code",
   "outputs": [],
   "source": [
    "# dual_arr1 = np.array([0, 0.75, 0.75])"
   ],
   "metadata": {
    "collapsed": false,
    "ExecuteTime": {
     "end_time": "2025-05-15T21:14:07.769680Z",
     "start_time": "2025-05-15T21:14:07.755184Z"
    }
   },
   "id": "d80ad4729d3daf70",
   "execution_count": 50
  },
  {
   "cell_type": "code",
   "outputs": [],
   "source": [
    "# dual_arrs = np.hstack((dual_arrs, dual_arr1.reshape(-1,1)))"
   ],
   "metadata": {
    "collapsed": false,
    "ExecuteTime": {
     "end_time": "2025-05-15T21:14:07.785558Z",
     "start_time": "2025-05-15T21:14:07.770719Z"
    }
   },
   "id": "fb201dd285ba1632",
   "execution_count": 51
  },
  {
   "cell_type": "code",
   "outputs": [],
   "source": [
    "# sigma = -dual_arrs.T@A[:, 0:2]"
   ],
   "metadata": {
    "collapsed": false,
    "ExecuteTime": {
     "end_time": "2025-05-15T21:14:07.800230Z",
     "start_time": "2025-05-15T21:14:07.787748Z"
    }
   },
   "id": "b495e55a716e686e",
   "execution_count": 52
  },
  {
   "cell_type": "code",
   "outputs": [],
   "source": [
    "# sigma"
   ],
   "metadata": {
    "collapsed": false,
    "ExecuteTime": {
     "end_time": "2025-05-15T21:14:07.815869Z",
     "start_time": "2025-05-15T21:14:07.801265Z"
    }
   },
   "id": "46fdf03f58f43e6a",
   "execution_count": 53
  },
  {
   "cell_type": "code",
   "outputs": [],
   "source": [],
   "metadata": {
    "collapsed": false,
    "ExecuteTime": {
     "end_time": "2025-05-15T21:14:07.831678Z",
     "start_time": "2025-05-15T21:14:07.816927Z"
    }
   },
   "id": "aadff654cc895783",
   "execution_count": 53
  }
 ],
 "metadata": {
  "kernelspec": {
   "display_name": "Python 3",
   "language": "python",
   "name": "python3"
  },
  "language_info": {
   "codemirror_mode": {
    "name": "ipython",
    "version": 2
   },
   "file_extension": ".py",
   "mimetype": "text/x-python",
   "name": "python",
   "nbconvert_exporter": "python",
   "pygments_lexer": "ipython2",
   "version": "2.7.6"
  }
 },
 "nbformat": 4,
 "nbformat_minor": 5
}
