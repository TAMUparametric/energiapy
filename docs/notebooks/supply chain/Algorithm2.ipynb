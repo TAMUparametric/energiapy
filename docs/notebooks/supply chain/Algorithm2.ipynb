{
 "cells": [
  {
   "cell_type": "code",
   "id": "initial_id",
   "metadata": {
    "collapsed": true,
    "ExecuteTime": {
     "end_time": "2025-05-15T01:43:19.623378Z",
     "start_time": "2025-05-15T01:43:19.450787Z"
    }
   },
   "source": [
    "import itertools\n",
    "import numpy as np\n",
    "from pyomo.environ import *\n",
    "from pyomo.environ import value as pyoval\n",
    "from pyomo.environ import Binary, NonNegativeReals, UnitInterval\n",
    "from typing import Tuple, Union\n",
    "from collections import defaultdict"
   ],
   "outputs": [],
   "execution_count": 1
  },
  {
   "cell_type": "code",
   "source": [
    "def active_set_method(A:np.ndarray, b:np.ndarray, theta_nominal:list, theta_deviations:list, design_vectors:np.ndarray | list[np.ndarray]=None, z_bounds:list[Tuple]=None, bigM:float=1e3, integer_cuts:list=None):\n",
    "    \"\"\"\n",
    "    From:\n",
    "    A(d, z, theta) <= b\n",
    "    z_lb <= z <= z_ub\n",
    "    theta_nominal - delta * theta_deviations_lb <= theta <= theta_nominal + delta * theta_deviations_ub\n",
    "    \n",
    "    Convert to:\n",
    "    h(d, z, theta, slack, dual, binary) == b_h\n",
    "    g(z, theta, slack, dual, binary, delta) <= b_g\n",
    "\n",
    "    Args:\n",
    "        A: Coefficient matrix of system equations\n",
    "        b: Vector of constant values\n",
    "        theta_nominal: Nominal values of uncertain parameters\n",
    "        theta_deviations: Allowable changes from the nominal value (lower bound, upper bound)\n",
    "        design_vectors: Values of design variables\n",
    "        z_bounds: Bounds on control variables\n",
    "        bigM: \n",
    "\n",
    "    Returns:\n",
    "        m: Pyomo model\n",
    "        delta: Flexibility index value\n",
    "    \"\"\"\n",
    "    if not (isinstance(theta_nominal, list) and isinstance(theta_deviations, list) and all(isinstance(t, tuple) and len(t)==2 and all(isinstance(x, (int, float)) for x in t) for t in theta_deviations)):\n",
    "        raise ValueError('Please provide a list (of length n_t) of tuples (of size 2) and containing only float or integer values!')\n",
    "    elif len(theta_nominal) != len(theta_deviations):\n",
    "        raise ValueError('Inconsistent input for nominal theta values and theta bounds')\n",
    "    \n",
    "    n_t = len(theta_nominal)\n",
    "    n_d = design_vectors[0].shape[0] if isinstance(design_vectors, list) else design_vectors.shape[0] if isinstance(design_vectors, np.ndarray) else 0\n",
    "    n_c = A.shape[1] - n_t - n_d\n",
    "    if n_c < 0:\n",
    "        raise ValueError('Inconsistent coefficients input')\n",
    "    # print(f'num_theta={n_t}, num_design={n_d}, num_control={n_c}')\n",
    "    # print(f'num_constraints={A.shape[0]}')\n",
    "    if isinstance(z_bounds, list):        \n",
    "        if not (len(z_bounds) == n_c and all(isinstance(t, tuple) and len(t)==2 and all(isinstance(x, (int, float)) for x in t) for t in z_bounds)):\n",
    "            raise ValueError('Please provide a list (of length n_c) of tuples (of size 2) and containing only float or integer values!')\n",
    "    \n",
    "    # Reformulate A(d, z, theta) <= b to h(d, z, theta, slack, dual, binary) == b_h\n",
    "    # h1(d, z, theta, slack) == b               for all system constraints\n",
    "    # h2(dual) == 0 (from dA/dz = 0)            for all control variables\n",
    "    # h3(dual, binary) == [1, n_c+1]'           2 constraints\n",
    "    # d == dE                                   for all design variables - if provided\n",
    "    # b_h = [b, 0*n_c, 1, n_c+1, dE (if provided)]'\n",
    "    h1 = np.concatenate([A, np.diag([1]*A.shape[0]), np.zeros((A.shape[0], 2*A.shape[0]))], axis=1)\n",
    "    h2 = np.concatenate([np.zeros((n_c, A.shape[1]+A.shape[0])), A[:, n_d:n_d+n_c].T, np.zeros((n_c, A.shape[0]))], axis=1)\n",
    "    h3 = np.concatenate([np.zeros((2, A.shape[1]+A.shape[0])), np.stack([np.ones(A.shape[0]).T, np.zeros(A.shape[0]).T], axis=0), np.stack([np.zeros(A.shape[0]).T, np.ones(A.shape[0]).T], axis=0)], axis=1)\n",
    "    h = np.concatenate([h1, h2, h3], axis=0)\n",
    "    b_h = np.concatenate([b, np.zeros(n_c), np.array([1]), np.array([n_c+1])], axis=0)\n",
    "    \n",
    "    # Add inequalities for the active set reformulation g(z, theta, slack, dual, binary, delta) <= b_g\n",
    "    # z <= z_UB                                             Upper bounds for all control variables\n",
    "    # -z <= -z_LB                                           Lower bounds for all control variables\n",
    "    # theta - theta_bound*delta <= theta_nominal            Upper bounds for all uncertain parameters\n",
    "    # -theta - theta_bound*delta <= -theta_nominal          Lower bounds for all uncertain parameters\n",
    "    # slack + bigM*binary <= bigM                           # bigM reformulation of complementary conditions\n",
    "    # dual - binary <= 0                                    bigM reformulation of complementary conditions\n",
    "    g1 = np.concatenate([np.concatenate([np.diag([1]*n_t), np.diag([-1]*n_t)], axis=0), np.zeros((2*n_t, 3*A.shape[0])), np.stack([-np.array([i[1] for i in theta_deviations]), -np.array([i[1] for i in theta_deviations])], axis=0).reshape(-1,1)], axis=1)\n",
    "    g2 = np.concatenate([np.zeros((A.shape[0], n_t)), np.diag([1]*A.shape[0]), np.diag([0]*A.shape[0]), np.diag([bigM]*A.shape[0]), np.zeros(A.shape[0]).reshape(-1,1)], axis=1)\n",
    "    g3 = np.concatenate([np.zeros((A.shape[0], n_t)), np.diag([0]*A.shape[0]), np.diag([1]*A.shape[0]), np.diag([-1]*A.shape[0]), np.zeros(A.shape[0]).reshape(-1,1)], axis=1)\n",
    "    g = np.concatenate([g1, g2, g3], axis=0)\n",
    "    b_g = np.concatenate([np.array(theta_nominal), -np.array(theta_nominal), np.array([bigM]*A.shape[0]), np.array([0]*A.shape[0])], axis=0)\n",
    "    g_shift=n_d+n_c\n",
    "    \n",
    "    def evaluate_delta_fixed_design(h, b_h, g, b_g, g_shift, z_b:np.ndarray=None, design_vector:np.ndarray=None):\n",
    "        if isinstance(design_vector, np.ndarray):\n",
    "            h4 = np.concatenate([np.diag([1]*n_d), np.zeros((n_d, n_c+n_t+3*A.shape[0]))], axis=1)\n",
    "            h_new, b_h_new = np.concatenate([h, h4], axis=0),np.concatenate([b_h, design_vector], axis=0)\n",
    "            # b_h_new = np.concatenate([b_h, design_vector], axis=0)\n",
    "        else:\n",
    "            h_new, b_h_new= h, b_h\n",
    "            # b_h_new = b_h\n",
    "        if isinstance(z_b, list):\n",
    "            g0 = np.concatenate([np.concatenate([np.diag([1]*n_c), np.diag([-1]*n_c)], axis=0), np.zeros((2*n_c, n_t+3*A.shape[0]+1))], axis=1)\n",
    "            gz = np.zeros((2*(n_t+A.shape[0]), n_c))\n",
    "            b0 = np.array([i[1] for i in z_bounds]+[-i[0] for i in z_bounds])\n",
    "            g_new, b_g_new = np.concatenate([g0, np.concatenate([gz, g], axis=1)], axis=0), np.concatenate([b0, b_g], axis=0)\n",
    "            g_shift=n_d\n",
    "        else:\n",
    "            g_new, b_g_new = g, b_g\n",
    "        # print(f'Shape of h matrix {h.shape}')\n",
    "        # print(f'Shape of b_h matrix {b_h.shape}')\n",
    "        # print(f'Shape of g matrix {g.shape}')\n",
    "        # print(f'Shape of b_g matrix {b_g.shape}')\n",
    "                \n",
    "        binary_indexes = {i for i in range(A.shape[1]+2*A.shape[0]+1, A.shape[1]+3*A.shape[0]+1)}\n",
    "        def var_domain_rule(instance, i):\n",
    "            return Binary if i in binary_indexes else NonNegativeReals\n",
    "        \n",
    "        m = ConcreteModel()\n",
    "        m.v = RangeSet(n_d+n_c+n_t+3*A.shape[0]+1)\n",
    "        m.var = Var(m.v, domain=var_domain_rule)        # order of variables (design, control, theta, slack, dual, binary, delta)\n",
    "        \n",
    "        m.hi = RangeSet(h_new.shape[0])\n",
    "        m.hj = RangeSet(h_new.shape[1])\n",
    "        m.gi = RangeSet(g_new.shape[0])\n",
    "        m.gj = RangeSet(g_new.shape[1])\n",
    "\n",
    "        def h_eq_bh_rule(instance, i):\n",
    "            return sum(h_new[i-1, j-1]*instance.var[j] for j in instance.hj) == b_h_new[i-1]\n",
    "        m.h_eq_bh = Constraint(m.hi, rule=h_eq_bh_rule)\n",
    "        \n",
    "        def g_leq_bg_rule(instance, i):\n",
    "            return sum(g_new[i-1, j-1]*instance.var[j+g_shift] for j in instance.gj) <= b_g_new[i-1]\n",
    "        m.g_leq_bg = Constraint(m.gi, rule=g_leq_bg_rule)\n",
    "        \n",
    "        # Objective\n",
    "        m.objective = Objective(expr=m.var[len(m.v)], sense=minimize)\n",
    "        solver = SolverFactory('gurobi')\n",
    "        solver.solve(m)\n",
    "        \n",
    "        actives = [j-(A.shape[1]+2*A.shape[0]) for j in binary_indexes if pyoval(m.var[j]) == 1] # Adjust for constraint number\n",
    "        return m, pyoval(m.var[len(m.v)]), actives\n",
    "    \n",
    "    if isinstance(design_vectors, list):\n",
    "        m, delta, active_set = [defaultdict(dict) for _ in range(3)]\n",
    "        for i in range(len(design_vectors)):\n",
    "            m[i], delta[i], active_set[i] = evaluate_delta_fixed_design(h=h, b_h=b_h, g=g, b_g=b_g, g_shift=g_shift, z_b=z_bounds, design_vector=design_vectors[i])\n",
    "    elif isinstance(design_vectors, np.ndarray):\n",
    "        m, delta, active_set = evaluate_delta_fixed_design(h=h, b_h=b_h, g=g, b_g=b_g, g_shift=g_shift, z_b=z_bounds, design_vector=design_vectors)\n",
    "    else:\n",
    "        m, delta, active_set = evaluate_delta_fixed_design(h=h, b_h=b_h, g=g, b_g=b_g, g_shift=g_shift)\n",
    "    \n",
    "    return m, delta, active_set"
   ],
   "metadata": {
    "collapsed": false,
    "ExecuteTime": {
     "end_time": "2025-05-15T01:43:19.638268Z",
     "start_time": "2025-05-15T01:43:19.624443Z"
    }
   },
   "id": "fbe6347bc7e54ff",
   "outputs": [],
   "execution_count": 2
  },
  {
   "cell_type": "code",
   "source": [
    "# EXAMPLE 1 Pistikopoulos and Grossmann (1988): https://www.sciencedirect.com/science/article/pii/0098135488800103\n",
    "theta_nominal = [2]\n",
    "theta_deviations = [(2,2)]\n",
    "\n",
    "A = np.array([\n",
    "    [1, -3, 1, -1],\n",
    "    [0, 1, -1, -1/3],\n",
    "    [-1, 0, 1 ,1]\n",
    "])\n",
    "\n",
    "b = np.array([0, -1/3, 1])\n",
    "\n",
    "d = np.array([3, 1])"
   ],
   "metadata": {
    "collapsed": false,
    "ExecuteTime": {
     "end_time": "2025-05-15T01:43:19.641294Z",
     "start_time": "2025-05-15T01:43:19.639030Z"
    }
   },
   "id": "df96d930707473fa",
   "outputs": [],
   "execution_count": 3
  },
  {
   "cell_type": "code",
   "source": "model, flex_index, act_set = active_set_method(A=A, b=b, theta_nominal=theta_nominal, theta_deviations=theta_deviations, design_vectors=d)",
   "metadata": {
    "collapsed": false,
    "ExecuteTime": {
     "end_time": "2025-05-15T01:43:19.670453Z",
     "start_time": "2025-05-15T01:43:19.641929Z"
    }
   },
   "id": "975a55b7a433af03",
   "outputs": [],
   "execution_count": 4
  },
  {
   "metadata": {
    "ExecuteTime": {
     "end_time": "2025-05-15T01:43:19.675343Z",
     "start_time": "2025-05-15T01:43:19.671799Z"
    }
   },
   "cell_type": "code",
   "source": "act_set",
   "id": "cfd4a7308d890a7e",
   "outputs": [
    {
     "data": {
      "text/plain": [
       "[1, 2]"
      ]
     },
     "execution_count": 5,
     "metadata": {},
     "output_type": "execute_result"
    }
   ],
   "execution_count": 5
  },
  {
   "metadata": {
    "ExecuteTime": {
     "end_time": "2025-05-15T01:43:19.678320Z",
     "start_time": "2025-05-15T01:43:19.676038Z"
    }
   },
   "cell_type": "code",
   "source": [
    "def model_relaxation(m:ConcreteModel):\n",
    "    relax_m = m\n",
    "    \n",
    "    for v in relax_m.component_objects(Var):\n",
    "        for idx in v:         \n",
    "            var = v[idx]\n",
    "            if var.domain is Binary:\n",
    "                var.domain = UnitInterval\n",
    "                var.fix(pyoval(var))\n",
    "    \n",
    "    relax_m.dual = Suffix(direction=Suffix.IMPORT)\n",
    "    \n",
    "    relax_solver = SolverFactory('gurobi')\n",
    "    relax_results = relax_solver.solve(relax_m)\n",
    "    \n",
    "    return relax_m"
   ],
   "id": "b982fa0c01e7adf6",
   "outputs": [],
   "execution_count": 6
  },
  {
   "metadata": {
    "ExecuteTime": {
     "end_time": "2025-05-15T01:43:19.684885Z",
     "start_time": "2025-05-15T01:43:19.679078Z"
    }
   },
   "cell_type": "code",
   "source": "mrelax = model_relaxation(model)",
   "id": "b413db2ebdc6909b",
   "outputs": [],
   "execution_count": 7
  },
  {
   "metadata": {
    "ExecuteTime": {
     "end_time": "2025-05-15T01:43:19.687748Z",
     "start_time": "2025-05-15T01:43:19.685667Z"
    }
   },
   "cell_type": "code",
   "source": "mrelax.dual.pprint()",
   "id": "951bf9b7a5a254f5",
   "outputs": [
    {
     "name": "stdout",
     "output_type": "stream",
     "text": [
      "dual : Direction=IMPORT, Datatype=FLOAT\n",
      "    Key         : Value\n",
      "    g_leq_bg[1] :    0.0\n",
      "    g_leq_bg[2] :   -0.5\n",
      "    g_leq_bg[3] : -0.375\n",
      "    g_leq_bg[4] : -0.375\n",
      "    g_leq_bg[5] :    0.0\n",
      "    g_leq_bg[6] :    0.0\n",
      "    g_leq_bg[7] :    0.0\n",
      "    g_leq_bg[8] :    0.0\n",
      "     h_eq_bh[1] :  0.375\n",
      "     h_eq_bh[2] :  0.375\n",
      "     h_eq_bh[3] :    0.0\n",
      "     h_eq_bh[4] :    0.0\n",
      "     h_eq_bh[5] :    0.0\n",
      "     h_eq_bh[6] :    0.0\n",
      "     h_eq_bh[7] : -0.375\n",
      "     h_eq_bh[8] :   0.75\n"
     ]
    }
   ],
   "execution_count": 8
  },
  {
   "metadata": {
    "ExecuteTime": {
     "end_time": "2025-05-15T02:13:48.516060Z",
     "start_time": "2025-05-15T02:13:48.511321Z"
    }
   },
   "cell_type": "code",
   "source": "eq_cons = getattr(mrelax, 'h_eq_bh')",
   "id": "8b75a8a5914e2301",
   "outputs": [],
   "execution_count": 10
  },
  {
   "metadata": {
    "ExecuteTime": {
     "end_time": "2025-05-15T02:13:59.991724Z",
     "start_time": "2025-05-15T02:13:59.987639Z"
    }
   },
   "cell_type": "code",
   "source": "eq_cons.pprint()",
   "id": "f40dfb765a14e5c7",
   "outputs": [
    {
     "name": "stdout",
     "output_type": "stream",
     "text": [
      "h_eq_bh : Size=8, Index=hi, Active=True\n",
      "    Key : Lower               : Body                                                                                                                                                                          : Upper               : Active\n",
      "      1 :                 0.0 :                    var[1] - 3.0*var[2] + var[3] - var[4] + var[5] + 0.0*var[6] + 0.0*var[7] + 0.0*var[8] + 0.0*var[9] + 0.0*var[10] + 0.0*var[11] + 0.0*var[12] + 0.0*var[13] :                 0.0 :   True\n",
      "      2 : -0.3333333333333333 : 0.0*var[1] + var[2] - var[3] - 0.3333333333333333*var[4] + 0.0*var[5] + var[6] + 0.0*var[7] + 0.0*var[8] + 0.0*var[9] + 0.0*var[10] + 0.0*var[11] + 0.0*var[12] + 0.0*var[13] : -0.3333333333333333 :   True\n",
      "      3 :                 1.0 :                  - var[1] + 0.0*var[2] + var[3] + var[4] + 0.0*var[5] + 0.0*var[6] + var[7] + 0.0*var[8] + 0.0*var[9] + 0.0*var[10] + 0.0*var[11] + 0.0*var[12] + 0.0*var[13] :                 1.0 :   True\n",
      "      4 :                 0.0 :                0.0*var[1] + 0.0*var[2] + 0.0*var[3] + 0.0*var[4] + 0.0*var[5] + 0.0*var[6] + 0.0*var[7] + var[8] - var[9] + var[10] + 0.0*var[11] + 0.0*var[12] + 0.0*var[13] :                 0.0 :   True\n",
      "      5 :                 1.0 :                0.0*var[1] + 0.0*var[2] + 0.0*var[3] + 0.0*var[4] + 0.0*var[5] + 0.0*var[6] + 0.0*var[7] + var[8] + var[9] + var[10] + 0.0*var[11] + 0.0*var[12] + 0.0*var[13] :                 1.0 :   True\n",
      "      6 :                 2.0 :                0.0*var[1] + 0.0*var[2] + 0.0*var[3] + 0.0*var[4] + 0.0*var[5] + 0.0*var[6] + 0.0*var[7] + 0.0*var[8] + 0.0*var[9] + 0.0*var[10] + var[11] + var[12] + var[13] :                 2.0 :   True\n",
      "      7 :                 3.0 :        var[1] + 0.0*var[2] + 0.0*var[3] + 0.0*var[4] + 0.0*var[5] + 0.0*var[6] + 0.0*var[7] + 0.0*var[8] + 0.0*var[9] + 0.0*var[10] + 0.0*var[11] + 0.0*var[12] + 0.0*var[13] :                 3.0 :   True\n",
      "      8 :                 1.0 :        0.0*var[1] + var[2] + 0.0*var[3] + 0.0*var[4] + 0.0*var[5] + 0.0*var[6] + 0.0*var[7] + 0.0*var[8] + 0.0*var[9] + 0.0*var[10] + 0.0*var[11] + 0.0*var[12] + 0.0*var[13] :                 1.0 :   True\n"
     ]
    }
   ],
   "execution_count": 12
  },
  {
   "metadata": {},
   "cell_type": "code",
   "outputs": [],
   "execution_count": null,
   "source": "",
   "id": "afa8e13659fbc320"
  }
 ],
 "metadata": {
  "kernelspec": {
   "display_name": "Python 3",
   "language": "python",
   "name": "python3"
  },
  "language_info": {
   "codemirror_mode": {
    "name": "ipython",
    "version": 2
   },
   "file_extension": ".py",
   "mimetype": "text/x-python",
   "name": "python",
   "nbconvert_exporter": "python",
   "pygments_lexer": "ipython2",
   "version": "2.7.6"
  }
 },
 "nbformat": 4,
 "nbformat_minor": 5
}
