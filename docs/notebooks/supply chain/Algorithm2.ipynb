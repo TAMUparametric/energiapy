{
 "cells": [
  {
   "cell_type": "code",
   "execution_count": 6,
   "id": "initial_id",
   "metadata": {
    "collapsed": true,
    "ExecuteTime": {
     "end_time": "2025-05-14T20:24:50.382859Z",
     "start_time": "2025-05-14T20:24:50.375472Z"
    }
   },
   "outputs": [],
   "source": [
    "import itertools\n",
    "import numpy as np\n",
    "from pyomo.environ import *\n",
    "from pyomo.environ import value as pyoval\n",
    "from pyomo.environ import Binary, NonNegativeReals\n",
    "from typing import Tuple, Union\n",
    "from collections import defaultdict"
   ]
  },
  {
   "cell_type": "code",
   "outputs": [],
   "source": [
    "def active_set_method(A:np.ndarray, b:np.ndarray, theta_nominal:list, theta_deviations:list, design_vectors:np.ndarray | list[np.ndarray]=None, z_bounds:list[Tuple]=None, bigM:float=1e3):\n",
    "    \"\"\"\n",
    "    From:\n",
    "    A(d, z, theta) <= b\n",
    "    z_lb <= z <= z_ub\n",
    "    theta_nominal - delta * theta_deviations_lb <= theta <= theta_nominal + delta * theta_deviations_ub\n",
    "    \n",
    "    Convert to:\n",
    "    h(d, z, theta, slack, dual, binary) == b_h\n",
    "    g(z, theta, slack, dual, binary, delta) <= b_g\n",
    "\n",
    "    Args:\n",
    "        A: Coefficient matrix of system equations\n",
    "        b: Vector of constant values\n",
    "        theta_nominal: Nominal values of uncertain parameters\n",
    "        theta_deviations: Allowable changes from the nominal value (lower bound, upper bound)\n",
    "        design_vectors: Values of design variables\n",
    "        z_bounds: Bounds on control variables\n",
    "        bigM: \n",
    "\n",
    "    Returns:\n",
    "        m: Pyomo model\n",
    "        delta: Flexibility index value\n",
    "    \"\"\"\n",
    "    if not (isinstance(theta_nominal, list) and isinstance(theta_deviations, list) and all(isinstance(t, tuple) and len(t)==2 and all(isinstance(x, (int, float)) for x in t) for t in theta_deviations)):\n",
    "        raise ValueError('Please provide a list (of length n_t) of tuples (of size 2) and containing only float or integer values!')\n",
    "    elif len(theta_nominal) != len(theta_deviations):\n",
    "        raise ValueError('Inconsistent input for nominal theta values and theta bounds')\n",
    "    \n",
    "    n_t = len(theta_nominal)\n",
    "    n_d = design_vectors[0].shape[0] if isinstance(design_vectors, list) else design_vectors.shape[0] if isinstance(design_vectors, np.ndarray) else 0\n",
    "    n_c = A.shape[1] - n_t - n_d\n",
    "    if n_c < 0:\n",
    "        raise ValueError('Inconsistent coefficients input')\n",
    "    # print(f'num_theta={n_t}, num_design={n_d}, num_control={n_c}')\n",
    "    # print(f'num_constraints={A.shape[0]}')\n",
    "    if isinstance(z_bounds, list):        \n",
    "        if not (len(z_bounds) == n_c and all(isinstance(t, tuple) and len(t)==2 and all(isinstance(x, (int, float)) for x in t) for t in z_bounds)):\n",
    "            raise ValueError('Please provide a list (of length n_c) of tuples (of size 2) and containing only float or integer values!')\n",
    "    \n",
    "    # Reformulate A(d, z, theta) <= b to h(d, z, theta, slack, dual, binary) == b_h\n",
    "    # h1(d, z, theta, slack) == b               for all system constraints\n",
    "    # h2(dual) == 0 (from dA/dz = 0)            for all control variables\n",
    "    # h3(dual, binary) == [1, n_c+1]'           2 constraints\n",
    "    # d == dE                                   for all design variables - if provided\n",
    "    # b_h = [b, 0*n_c, 1, n_c+1, dE (if provided)]'\n",
    "    h1 = np.concatenate([A, np.diag([1]*A.shape[0]), np.zeros((A.shape[0], 2*A.shape[0]))], axis=1)\n",
    "    h2 = np.concatenate([np.zeros((n_c, A.shape[1]+A.shape[0])), A[:, n_d:n_d+n_c].T, np.zeros((n_c, A.shape[0]))], axis=1)\n",
    "    h3 = np.concatenate([np.zeros((2, A.shape[1]+A.shape[0])), np.stack([np.ones(A.shape[0]).T, np.zeros(A.shape[0]).T], axis=0), np.stack([np.zeros(A.shape[0]).T, np.ones(A.shape[0]).T], axis=0)], axis=1)\n",
    "    h = np.concatenate([h1, h2, h3], axis=0)\n",
    "    b_h = np.concatenate([b, np.zeros(n_c), np.array([1]), np.array([n_c+1])], axis=0)\n",
    "    \n",
    "    # Add inequalities for the active set reformulation g(z, theta, slack, dual, binary, delta) <= b_g\n",
    "    # z <= z_UB                                             Upper bounds for all control variables\n",
    "    # -z <= -z_LB                                           Lower bounds for all control variables\n",
    "    # theta - theta_bound*delta <= theta_nominal            Upper bounds for all uncertain parameters\n",
    "    # -theta - theta_bound*delta <= -theta_nominal          Lower bounds for all uncertain parameters\n",
    "    # slack + bigM*binary <= bigM                           # bigM reformulation of complementary conditions\n",
    "    # dual - binary <= 0                                    bigM reformulation of complementary conditions\n",
    "    g1 = np.concatenate([np.concatenate([np.diag([1]*n_t), np.diag([-1]*n_t)], axis=0), np.zeros((2*n_t, 3*A.shape[0])), np.stack([-np.array([i[1] for i in theta_deviations]), -np.array([i[1] for i in theta_deviations])], axis=0).reshape(-1,1)], axis=1)\n",
    "    g2 = np.concatenate([np.zeros((A.shape[0], n_t)), np.diag([1]*A.shape[0]), np.diag([0]*A.shape[0]), np.diag([bigM]*A.shape[0]), np.zeros(A.shape[0]).reshape(-1,1)], axis=1)\n",
    "    g3 = np.concatenate([np.zeros((A.shape[0], n_t)), np.diag([0]*A.shape[0]), np.diag([1]*A.shape[0]), np.diag([-1]*A.shape[0]), np.zeros(A.shape[0]).reshape(-1,1)], axis=1)\n",
    "    g = np.concatenate([g1, g2, g3], axis=0)\n",
    "    b_g = np.concatenate([np.array(theta_nominal), -np.array(theta_nominal), np.array([bigM]*A.shape[0]), np.array([0]*A.shape[0])], axis=0)\n",
    "    g_shift=n_d+n_c\n",
    "    \n",
    "    def evaluate_delta_fixed_design(h, b_h, g, b_g, g_shift, z_b:np.ndarray=None, design_vector:np.ndarray=None):\n",
    "        if isinstance(design_vector, np.ndarray):\n",
    "            h4 = np.concatenate([np.diag([1]*n_d), np.zeros((n_d, n_c+n_t+3*A.shape[0]))], axis=1)\n",
    "            h_new, b_h_new = np.concatenate([h, h4], axis=0),np.concatenate([b_h, design_vector], axis=0)\n",
    "            # b_h_new = np.concatenate([b_h, design_vector], axis=0)\n",
    "        else:\n",
    "            h_new, b_h_new= h, b_h\n",
    "            # b_h_new = b_h\n",
    "        if isinstance(z_b, list):\n",
    "            g0 = np.concatenate([np.concatenate([np.diag([1]*n_c), np.diag([-1]*n_c)], axis=0), np.zeros((2*n_c, n_t+3*A.shape[0]+1))], axis=1)\n",
    "            gz = np.zeros((2*(n_t+A.shape[0]), n_c))\n",
    "            b0 = np.array([i[1] for i in z_bounds]+[-i[0] for i in z_bounds])\n",
    "            g_new, b_g_new = np.concatenate([g0, np.concatenate([gz, g], axis=1)], axis=0), np.concatenate([b0, b_g], axis=0)\n",
    "            g_shift=n_d\n",
    "        else:\n",
    "            g_new, b_g_new = g, b_g\n",
    "        # print(f'Shape of h matrix {h.shape}')\n",
    "        # print(f'Shape of b_h matrix {b_h.shape}')\n",
    "        # print(f'Shape of g matrix {g.shape}')\n",
    "        # print(f'Shape of b_g matrix {b_g.shape}')\n",
    "                \n",
    "        binary_indexes = {i for i in range(A.shape[1]+2*A.shape[0]+1, A.shape[1]+3*A.shape[0]+1)}\n",
    "        def var_domain_rule(instance, i):\n",
    "            return Binary if i in binary_indexes else NonNegativeReals\n",
    "        \n",
    "        m = ConcreteModel()\n",
    "        m.v = RangeSet(n_d+n_c+n_t+3*A.shape[0]+1)\n",
    "        m.var = Var(m.v, domain=var_domain_rule)        # order of variables (design, control, theta, slack, dual, binary, delta)\n",
    "        \n",
    "        m.hi = RangeSet(h_new.shape[0])\n",
    "        m.hj = RangeSet(h_new.shape[1])\n",
    "        m.gi = RangeSet(g_new.shape[0])\n",
    "        m.gj = RangeSet(g_new.shape[1])\n",
    "\n",
    "        def h_eq_bh_rule(instance, i):\n",
    "            return sum(h_new[i-1, j-1]*instance.var[j] for j in instance.hj) == b_h_new[i-1]\n",
    "        m.h_eq_bh = Constraint(m.hi, rule=h_eq_bh_rule)\n",
    "        \n",
    "        def g_leq_bg_rule(instance, i):\n",
    "            return sum(g_new[i-1, j-1]*instance.var[j+g_shift] for j in instance.gj) <= b_g_new[i-1]\n",
    "        m.g_leq_bg = Constraint(m.gi, rule=g_leq_bg_rule)\n",
    "        \n",
    "        # Objective\n",
    "        m.objective = Objective(expr=m.var[len(m.v)], sense=minimize)\n",
    "        solver = SolverFactory('gurobi')\n",
    "        solver.solve(m)\n",
    "        \n",
    "        return m, pyoval(m.var[len(m.v)])\n",
    "    \n",
    "    if isinstance(design_vectors, list):\n",
    "        m, delta = [defaultdict(dict) for _ in range(2)]\n",
    "        for i in range(len(design_vectors)):\n",
    "            m[i], delta[i] = evaluate_delta_fixed_design(h=h, b_h=b_h, g=g, b_g=b_g, g_shift=g_shift, z_b=z_bounds, design_vector=design_vectors[i])\n",
    "    elif isinstance(design_vectors, np.ndarray):\n",
    "        m, delta = evaluate_delta_fixed_design(h=h, b_h=b_h, g=g, b_g=b_g, g_shift=g_shift, z_b=z_bounds, design_vector=design_vectors)\n",
    "    else:\n",
    "        m, delta = evaluate_delta_fixed_design(h=h, b_h=b_h, g=g, b_g=b_g, g_shift=g_shift)\n",
    "    \n",
    "    return m, delta"
   ],
   "metadata": {
    "collapsed": false,
    "ExecuteTime": {
     "end_time": "2025-05-14T20:24:50.570279Z",
     "start_time": "2025-05-14T20:24:50.544737Z"
    }
   },
   "id": "fbe6347bc7e54ff",
   "execution_count": 7
  },
  {
   "cell_type": "code",
   "outputs": [],
   "source": [
    "# EXAMPLE 1 Pistikopoulos and Grossmann (1988): https://www.sciencedirect.com/science/article/pii/0098135488800103\n",
    "theta_nominal = [2]\n",
    "theta_deviations = [(2,2)]\n",
    "\n",
    "A = np.array([\n",
    "    [1, -3, 1, -1],\n",
    "    [0, 1, -1, -1/3],\n",
    "    [-1, 0, 1 ,1]\n",
    "])\n",
    "\n",
    "b = np.array([0, -1/3, 1])\n",
    "\n",
    "d = np.array([3, 1])"
   ],
   "metadata": {
    "collapsed": false,
    "ExecuteTime": {
     "end_time": "2025-05-14T20:24:50.743315Z",
     "start_time": "2025-05-14T20:24:50.734952Z"
    }
   },
   "id": "df96d930707473fa",
   "execution_count": 8
  },
  {
   "cell_type": "code",
   "outputs": [],
   "source": [
    "model, delta = active_set_method(A=A, b=b, theta_nominal=theta_nominal, theta_deviations=theta_deviations, design_vectors=d)"
   ],
   "metadata": {
    "collapsed": false,
    "ExecuteTime": {
     "end_time": "2025-05-14T20:25:28.471868Z",
     "start_time": "2025-05-14T20:25:28.250705Z"
    }
   },
   "id": "975a55b7a433af03",
   "execution_count": 10
  },
  {
   "cell_type": "code",
   "outputs": [
    {
     "data": {
      "text/plain": "0.5"
     },
     "execution_count": 11,
     "metadata": {},
     "output_type": "execute_result"
    }
   ],
   "source": [
    "delta"
   ],
   "metadata": {
    "collapsed": false,
    "ExecuteTime": {
     "end_time": "2025-05-14T20:25:29.963583Z",
     "start_time": "2025-05-14T20:25:29.944415Z"
    }
   },
   "id": "eab4d22628b38f2b",
   "execution_count": 11
  },
  {
   "cell_type": "code",
   "outputs": [],
   "source": [],
   "metadata": {
    "collapsed": false,
    "ExecuteTime": {
     "start_time": "2025-05-14T20:24:15.722507Z"
    }
   },
   "id": "3281d2bb41d4fdf5"
  }
 ],
 "metadata": {
  "kernelspec": {
   "display_name": "Python 3",
   "language": "python",
   "name": "python3"
  },
  "language_info": {
   "codemirror_mode": {
    "name": "ipython",
    "version": 2
   },
   "file_extension": ".py",
   "mimetype": "text/x-python",
   "name": "python",
   "nbconvert_exporter": "python",
   "pygments_lexer": "ipython2",
   "version": "2.7.6"
  }
 },
 "nbformat": 4,
 "nbformat_minor": 5
}
