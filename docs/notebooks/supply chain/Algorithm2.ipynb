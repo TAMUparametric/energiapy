{
 "cells": [
  {
   "cell_type": "code",
   "id": "initial_id",
   "metadata": {
    "collapsed": true,
    "ExecuteTime": {
     "end_time": "2025-05-20T15:35:27.495546Z",
     "start_time": "2025-05-20T15:35:27.129607Z"
    }
   },
   "source": [
    "import itertools\n",
    "import numpy as np\n",
    "from pyomo.environ import *\n",
    "from pyomo.environ import value as pyoval\n",
    "from pyomo.environ import Binary, NonNegativeReals, UnitInterval, Reals\n",
    "from typing import Tuple, Union\n",
    "from collections import defaultdict\n",
    "import copy"
   ],
   "outputs": [],
   "execution_count": 1
  },
  {
   "cell_type": "code",
   "source": [
    "def active_set_method(A:np.ndarray, b:np.ndarray, theta_nominal:list, theta_deviations:list, design_vectors:np.ndarray | list[np.ndarray]=None, z_bounds:list[Tuple]=None, bigM:float=1e3, model_only:bool=False):\n",
    "    \"\"\"\n",
    "    From:\n",
    "    A(d, z, theta) <= b\n",
    "    z_lb <= z <= z_ub\n",
    "    theta_nominal - delta * theta_deviations_lb <= theta <= theta_nominal + delta * theta_deviations_ub\n",
    "    \n",
    "    Convert to:\n",
    "    h(d, z, theta, slack, dual, binary) == b_h\n",
    "    g(z, theta, slack, dual, binary, delta) <= b_g\n",
    "\n",
    "    Args:\n",
    "        A: Coefficient matrix of system equations\n",
    "        b: Vector of constant values\n",
    "        theta_nominal: Nominal values of uncertain parameters\n",
    "        theta_deviations: Allowable changes from the nominal value (lower bound, upper bound)\n",
    "        design_vectors: Values of design variables\n",
    "        z_bounds: Bounds on control variables\n",
    "        bigM: Big M value \n",
    "        model_only: Boolean value. If True, returns an unsolved active set model\n",
    "\n",
    "    Returns:\n",
    "        m: Pyomo model\n",
    "        delta: Flexibility index value\n",
    "    \"\"\"\n",
    "    if not (isinstance(theta_nominal, list) and isinstance(theta_deviations, list) and all(isinstance(t, tuple) and len(t)==2 and all(isinstance(x, (int, float)) for x in t) for t in theta_deviations)):\n",
    "        raise ValueError('Please provide a list (of length n_t) of tuples (of size 2) and containing only float or integer values!')\n",
    "    elif len(theta_nominal) != len(theta_deviations):\n",
    "        raise ValueError('Inconsistent input for nominal theta values and theta bounds')\n",
    "    \n",
    "    n_t = len(theta_nominal)\n",
    "    n_d = design_vectors[0].shape[0] if isinstance(design_vectors, list) else design_vectors.shape[0] if isinstance(design_vectors, np.ndarray) else 0\n",
    "    n_c = A.shape[1] - n_t - n_d\n",
    "    if n_c < 0:\n",
    "        raise ValueError('Inconsistent coefficients input')\n",
    "    if isinstance(z_bounds, list):        \n",
    "        if not (len(z_bounds) == n_c and all(isinstance(t, tuple) and len(t)==2 and all(isinstance(x, (int, float)) for x in t) for t in z_bounds)):\n",
    "            raise ValueError('Please provide a list (of length n_c) of tuples (of size 2) and containing only float or integer values!')\n",
    "    \n",
    "    # Reformulate A(d, z, theta) <= b to h(d, z, theta, slack, dual, binary) == b_h\n",
    "    # h1(d, z, theta, slack) == b               for all system constraints\n",
    "    # h2(dual) == 0 (from dA/dz = 0)            for all control variables\n",
    "    # h3(dual, binary) == [1, n_c+1]'           2 constraints\n",
    "    # d == dE                                   for all design variables - if provided\n",
    "    # b_h = [b, 0*n_c, 1, n_c+1, dE (if provided)]'\n",
    "    h1 = np.concatenate([A, np.diag([1]*A.shape[0]), np.zeros((A.shape[0], 2*A.shape[0]))], axis=1)\n",
    "    h2 = np.concatenate([np.zeros((n_c, A.shape[1]+A.shape[0])), A[:, n_d:n_d+n_c].T, np.zeros((n_c, A.shape[0]))], axis=1)\n",
    "    h3 = np.concatenate([np.zeros((2, A.shape[1]+A.shape[0])), np.stack([np.ones(A.shape[0]).T, np.zeros(A.shape[0]).T], axis=0), np.stack([np.zeros(A.shape[0]).T, np.ones(A.shape[0]).T], axis=0)], axis=1)\n",
    "    h = np.concatenate([h1, h2, h3], axis=0)\n",
    "    b_h = np.concatenate([b, np.zeros(n_c), np.array([1]), np.array([n_c+1])], axis=0)\n",
    "    \n",
    "    # Add inequalities for the active set reformulation g(z, theta, slack, dual, binary, delta) <= b_g\n",
    "    # z <= z_UB                                             Upper bounds for all control variables\n",
    "    # -z <= -z_LB                                           Lower bounds for all control variables\n",
    "    # theta - theta_bound*delta <= theta_nominal            Upper bounds for all uncertain parameters\n",
    "    # -theta - theta_bound*delta <= -theta_nominal          Lower bounds for all uncertain parameters\n",
    "    # slack + bigM*binary <= bigM                           # bigM reformulation of complementary conditions\n",
    "    # dual - binary <= 0                                    bigM reformulation of complementary conditions\n",
    "    g1 = np.concatenate([np.concatenate([np.diag([1]*n_t), np.diag([-1]*n_t)], axis=0), np.zeros((2*n_t, 3*A.shape[0])), np.stack([-np.array([i[1] for i in theta_deviations]), -np.array([i[1] for i in theta_deviations])], axis=0).reshape(-1,1)], axis=1)\n",
    "    g2 = np.concatenate([np.zeros((A.shape[0], n_t)), np.diag([1]*A.shape[0]), np.diag([0]*A.shape[0]), np.diag([bigM]*A.shape[0]), np.zeros(A.shape[0]).reshape(-1,1)], axis=1)\n",
    "    g3 = np.concatenate([np.zeros((A.shape[0], n_t)), np.diag([0]*A.shape[0]), np.diag([1]*A.shape[0]), np.diag([-1]*A.shape[0]), np.zeros(A.shape[0]).reshape(-1,1)], axis=1)\n",
    "    g = np.concatenate([g1, g2, g3], axis=0)\n",
    "    b_g = np.concatenate([np.array(theta_nominal), -np.array(theta_nominal), np.array([bigM]*A.shape[0]), np.array([0]*A.shape[0])], axis=0)\n",
    "    g_shift=n_d+n_c\n",
    "    \n",
    "    def evaluate_delta_fixed_design(h, b_h, g, b_g, g_shift, z_b:np.ndarray=None, design_vector:np.ndarray=None):\n",
    "        if isinstance(design_vector, np.ndarray):\n",
    "            h4 = np.concatenate([np.diag([1]*n_d), np.zeros((n_d, n_c+n_t+3*A.shape[0]))], axis=1)\n",
    "            h_new, b_h_new = np.concatenate([h, h4], axis=0), np.concatenate([b_h, design_vector], axis=0)\n",
    "        else:\n",
    "            h_new, b_h_new= h, b_h\n",
    "            \n",
    "        if isinstance(z_b, list):\n",
    "            g0 = np.concatenate([np.concatenate([np.diag([1]*n_c), np.diag([-1]*n_c)], axis=0), np.zeros((2*n_c, n_t+3*A.shape[0]+1))], axis=1)\n",
    "            gz = np.zeros((2*(n_t+A.shape[0]), n_c))\n",
    "            b0 = np.array([i[1] for i in z_bounds]+[-i[0] for i in z_bounds])\n",
    "            g_new, b_g_new = np.concatenate([g0, np.concatenate([gz, g], axis=1)], axis=0), np.concatenate([b0, b_g], axis=0)\n",
    "            g_shift=n_d\n",
    "        else:\n",
    "            g_new, b_g_new = g, b_g\n",
    "                \n",
    "        binary_indexes = [i for i in range(A.shape[1]+2*A.shape[0]+1, A.shape[1]+3*A.shape[0]+1)]\n",
    "        def var_domain_rule(instance, i):\n",
    "            return Binary if i in binary_indexes else NonNegativeReals\n",
    "        \n",
    "        m = ConcreteModel()\n",
    "        m.v = RangeSet(n_d+n_c+n_t+3*A.shape[0]+1)\n",
    "        m.var = Var(m.v, domain=var_domain_rule)        # order of variables (design, control, theta, slack, dual, binary, delta)\n",
    "        m.hi = RangeSet(h_new.shape[0])\n",
    "        m.hj = RangeSet(h_new.shape[1])\n",
    "        m.gi = RangeSet(g_new.shape[0])\n",
    "        m.gj = RangeSet(g_new.shape[1])\n",
    "\n",
    "        def h_eq_bh_rule(instance, i):\n",
    "            return sum(h_new[i-1, j-1]*instance.var[j] for j in instance.hj) == b_h_new[i-1]\n",
    "        m.h_eq_bh = Constraint(m.hi, rule=h_eq_bh_rule)\n",
    "        \n",
    "        def g_leq_bg_rule(instance, i):\n",
    "            return sum(g_new[i-1, j-1]*instance.var[j+g_shift] for j in instance.gj) <= b_g_new[i-1]\n",
    "        m.g_leq_bg = Constraint(m.gi, rule=g_leq_bg_rule)\n",
    "        \n",
    "        # Objective\n",
    "        m.objective = Objective(expr=m.var[len(m.v)], sense=minimize)\n",
    "        # m.cuts = ConstraintList()\n",
    "        # m.cuts.add(m.var[11] + m.var[12] - m.var[13] <= 1)\n",
    "        solver = SolverFactory('gurobi')\n",
    "        solver.solve(m)\n",
    "        actives = [j-(A.shape[1]+2*A.shape[0]) for j in binary_indexes if pyoval(m.var[j]) == 1] # Adjust for constraint number\n",
    "        return m, pyoval(m.var[len(m.v)]), actives\n",
    "    \n",
    "    if isinstance(design_vectors, list):\n",
    "        m, delta, active_set = [defaultdict(dict) for _ in range(3)]\n",
    "        for i in range(len(design_vectors)):\n",
    "            m[i], delta[i], active_set[i] = evaluate_delta_fixed_design(h=h, b_h=b_h, g=g, b_g=b_g, g_shift=g_shift, z_b=z_bounds, design_vector=design_vectors[i])\n",
    "    elif isinstance(design_vectors, np.ndarray):\n",
    "        m, delta, active_set = evaluate_delta_fixed_design(h=h, b_h=b_h, g=g, b_g=b_g, g_shift=g_shift, z_b=z_bounds, design_vector=design_vectors)\n",
    "    else:\n",
    "        m, delta, active_set = evaluate_delta_fixed_design(h=h, b_h=b_h, g=g, b_g=b_g, g_shift=g_shift)\n",
    "    \n",
    "    return m, delta, active_set"
   ],
   "metadata": {
    "collapsed": false,
    "ExecuteTime": {
     "end_time": "2025-05-20T15:35:27.525760Z",
     "start_time": "2025-05-20T15:35:27.496599Z"
    }
   },
   "id": "fbe6347bc7e54ff",
   "outputs": [],
   "execution_count": 2
  },
  {
   "cell_type": "code",
   "outputs": [],
   "source": [
    "def model_relaxation(m:ConcreteModel, aset:list, n_vars:int, n_cons:int, n_t:int, n_d:int, z_b:list=None):\n",
    "    relax_m = copy.deepcopy(m)\n",
    "    for var in relax_m.component_data_objects(Var, descend_into=True):\n",
    "        if var.domain is Binary:\n",
    "            var.domain = UnitInterval\n",
    "            var.fix(pyoval(var))\n",
    "    for v in relax_m.var:\n",
    "        if v in list(range(n_vars+1, 2*n_vars+1)):\n",
    "            relax_m.var[v].fix(0)\n",
    "        elif v in list(range(2*n_vars+1, 3*n_vars+1)):\n",
    "            relax_m.var[v].fix(pyoval(m.var[v]))\n",
    "        elif v in list(range(1, n_d+1)):\n",
    "            relax_m.var[v].fix(pyoval(m.var[v]))\n",
    "    for idx in relax_m.h_eq_bh:\n",
    "        if idx not in aset:\n",
    "            relax_m.h_eq_bh[idx].deactivate()\n",
    "    start = len(z_b) if isinstance(z_b, list) else 0\n",
    "    end = start + 2*n_t\n",
    "    g_as = list(range(start+1, end+1))\n",
    "    for idx in relax_m.g_leq_bg:\n",
    "        if idx not in g_as:\n",
    "            relax_m.g_leq_bg[idx].deactivate()\n",
    "    if hasattr(m, 'cuts'):\n",
    "        for idx in relax_m.cuts:\n",
    "            relax_m.cuts[idx].deactivate()\n",
    "    relax_m.dual = Suffix(direction=Suffix.IMPORT)\n",
    "    SolverFactory('gurobi').solve(relax_m)\n",
    "    duals = np.array([relax_m.dual[relax_m.h_eq_bh[i]] if i in aset else 0 for i in range(1, n_cons+1)])\n",
    "    return relax_m, duals"
   ],
   "metadata": {
    "collapsed": false,
    "ExecuteTime": {
     "end_time": "2025-05-20T15:35:27.541435Z",
     "start_time": "2025-05-20T15:35:27.526808Z"
    }
   },
   "id": "5a102c2c4dcc9da1",
   "execution_count": 3
  },
  {
   "cell_type": "code",
   "outputs": [],
   "source": [
    "def flex_optimization(fix_cost:list, var_cost:list, delta0:dict, sigma_array:np.ndarray, ddesign_bounds:list[Tuple]):\n",
    "    mflex = ConcreteModel()\n",
    "    mflex.actsets = RangeSet(sigma_array.shape[1])\n",
    "    mflex.dsets = RangeSet(sigma_array.shape[0])\n",
    "    \n",
    "    mflex.delta_k = Var(mflex.actsets, within=NonNegativeReals)\n",
    "    mflex.delta_d = Var(mflex.dsets, within=NonNegativeReals) #Reals\n",
    "    mflex.w = Var(mflex.dsets, within=Binary)\n",
    "    mflex.cost = Var(within=NonNegativeReals)\n",
    "    mflex.F = Var(within=NonNegativeReals)\n",
    "    \n",
    "    def flex_index_rule(instance, as_k):\n",
    "        return instance.F <= instance.delta_k[as_k]\n",
    "    mflex.flex_index_cons = Constraint(mflex.actsets, rule=flex_index_rule)\n",
    "    \n",
    "    def delta_k_rule(instance, as_k):\n",
    "        return instance.delta_k[as_k] == delta0[as_k] + sum(sigma_array[i-1, as_k-1]*instance.delta_d[i] for i in instance.dsets)\n",
    "    mflex.delta_k_cons = Constraint(mflex.actsets, rule=delta_k_rule)\n",
    "    \n",
    "    def delta_d_LB_rule(instance, d_r):\n",
    "        return -ddesign_bounds[d_r-1][0]*instance.w[d_r] <= instance.delta_d[d_r]\n",
    "    mflex.delta_d_LB_cons = Constraint(mflex.dsets, rule=delta_d_LB_rule)\n",
    "    \n",
    "    def delta_d_UB_rule(instance, d_r):\n",
    "        return instance.delta_d[d_r] <= ddesign_bounds[d_r-1][1]*instance.w[d_r]\n",
    "    mflex.delta_d_UB_cons = Constraint(mflex.dsets, rule=delta_d_UB_rule)\n",
    "    \n",
    "    def cost_rule(instance):\n",
    "        return instance.cost == sum(fix_cost[i-1]*mflex.w[i] + var_cost[i-1]*mflex.delta_d[i] for i in mflex.dsets)\n",
    "    mflex.cost_con = Constraint(rule=cost_rule)\n",
    "    \n",
    "    mflex.objective = Objective(expr=mflex.F, sense=maximize)\n",
    "    SolverFactory('gurobi').solve(mflex)\n",
    "    \n",
    "    return mflex, pyoval(mflex.cost), np.array([pyoval(mflex.delta_d[i]) for i in mflex.dsets]), pyoval(mflex.F)\n",
    "    "
   ],
   "metadata": {
    "collapsed": false,
    "ExecuteTime": {
     "end_time": "2025-05-20T15:35:27.557451Z",
     "start_time": "2025-05-20T15:35:27.542493Z"
    }
   },
   "id": "25b80fed43ee6967",
   "execution_count": 4
  },
  {
   "cell_type": "code",
   "outputs": [],
   "source": [
    "def cost_optimization(fix_cost:list, var_cost:list, flex_target:float, sigma_array:np.ndarray, ddesign_bounds:list[Tuple], delta0:dict):\n",
    "    mcost = ConcreteModel()\n",
    "    mcost.actsets = RangeSet(sigma_array.shape[1])\n",
    "    mcost.dsets = RangeSet(sigma_array.shape[0])\n",
    "    \n",
    "    mcost.delta_k = Var(mcost.actsets, within=NonNegativeReals)\n",
    "    mcost.delta_d = Var(mcost.dsets, within=NonNegativeReals) # Reals\n",
    "    mcost.w = Var(mcost.dsets, within=Binary)\n",
    "    print(delta0)\n",
    "    \n",
    "    def flex_target_rule(instance, aset_k):\n",
    "        return instance.delta_k[aset_k] >= flex_target\n",
    "    mcost.flex_target_cons = Constraint(mcost.actsets, rule=flex_target_rule)\n",
    "    \n",
    "    def delta_k_rule(instance, as_k):\n",
    "        return instance.delta_k[as_k] == delta0[as_k] + sum(sigma_array[i-1, as_k-1]*instance.delta_d[i] for i in instance.dsets)\n",
    "    mcost.delta_k_cons = Constraint(mcost.actsets, rule=delta_k_rule)\n",
    "    \n",
    "    def delta_d_LB_rule(instance, d_r):\n",
    "        return -ddesign_bounds[d_r-1][0]*instance.w[d_r] <= instance.delta_d[d_r]\n",
    "    mcost.delta_d_LB_cons = Constraint(mcost.dsets, rule=delta_d_LB_rule)\n",
    "    \n",
    "    def delta_d_UB_rule(instance, d_r):\n",
    "        return instance.delta_d[d_r] <= ddesign_bounds[d_r-1][1]*instance.w[d_r]\n",
    "    mcost.delta_d_UB_cons = Constraint(mcost.dsets, rule=delta_d_UB_rule)\n",
    "    \n",
    "    mcost.objective = Objective(expr = sum(fix_cost[i-1]*mcost.w[i] + var_cost[i-1]*mcost.delta_d[i] for i in mcost.dsets), sense=minimize)\n",
    "    result_mcost = SolverFactory('gurobi').solve(mcost)\n",
    "    if result_mcost.solver.termination_condition == TerminationCondition.infeasibleOrUnbounded:\n",
    "        return result_mcost, mcost, None\n",
    "\n",
    "    return result_mcost, mcost, np.array([pyoval(mcost.delta_d[i]) for i in mcost.dsets])\n",
    "        "
   ],
   "metadata": {
    "collapsed": false,
    "ExecuteTime": {
     "end_time": "2025-05-20T15:35:27.573139Z",
     "start_time": "2025-05-20T15:35:27.558522Z"
    }
   },
   "id": "5ce035814b380d87",
   "execution_count": 5
  },
  {
   "cell_type": "code",
   "outputs": [],
   "source": [
    "def algorithm2(A:np.ndarray, b:np.ndarray, theta_nominal:list, theta_deviations:list, fix_cost:list, var_cost:list, ddesign_bounds:list[Tuple], design_vectors:np.ndarray | list[np.ndarray]=None, z_bounds:list[Tuple]=None, bigM:float=1e3, flex_target:float=1.0, solve_mp:bool=False):\n",
    "    \n",
    "    n_t = len(theta_nominal)\n",
    "    n_d = design_vectors[0].shape[0] if isinstance(design_vectors, list) else design_vectors.shape[0] if isinstance(design_vectors, np.ndarray) else 0\n",
    "    n_c = A.shape[1] - n_t - n_d\n",
    "    binary_shift = A.shape[1]+2*A.shape[0]\n",
    "    binary_indexes = [i for i in range(binary_shift+1, binary_shift+A.shape[0]+1)]\n",
    "    if n_c < 0:\n",
    "        raise ValueError('Inconsistent coefficients input')\n",
    "    final_cost = 0\n",
    "    final_design_array = design_vectors\n",
    "    print(f'Starting analysis for flexibility target of {flex_target}')\n",
    "    \n",
    "    while True:\n",
    "        delta_dict, actset_dict, dual_dict, k = dict(), dict(), dict(), 1\n",
    "        # Step 1: Solving active set problem to initialize algorithm\n",
    "        m_as, delta_dict[k], actset_dict[k] =active_set_method(A=A, b=b, theta_nominal=theta_nominal, theta_deviations=theta_deviations, design_vectors=final_design_array, z_bounds=z_bounds, bigM=bigM)\n",
    "        print(f'Active set {k}: {actset_dict[k]}')\n",
    "        print(f'Flexibility index for active set {k}: {delta_dict[k]}')\n",
    "        mrelax_as, dual_dict[k] = model_relaxation(m=m_as, aset=actset_dict[k], n_vars=A.shape[1], n_t=n_t, z_b=z_bounds, n_cons=A.shape[0], n_d=n_d)\n",
    "        print(f'Dual variables for relaxed active set {k}: {dual_dict[k]}')\n",
    "        if delta_dict[k] >= flex_target:\n",
    "            print(f'Flexibility Target {flex_target} Achieved')\n",
    "            return m_as, final_cost, final_design_array, delta_dict[k]\n",
    "        \n",
    "        while round(delta_dict[k],2) < flex_target:\n",
    "            k+=1\n",
    "            if not hasattr(m_as,'cuts'):\n",
    "                m_as.cuts = ConstraintList()\n",
    "            m_as.cuts.add(sum(m_as.var[j] for j in binary_indexes if pyoval(m_as.var[j]==1)) - sum(m_as.var[j] for j in binary_indexes if pyoval(m_as.var[j]==0)) <= n_c)\n",
    "            SolverFactory('gurobi').solve(m_as)\n",
    "            delta_dict[k] = pyoval(m_as.var[len(m_as.v)])\n",
    "            actset_dict[k] = [j-binary_shift for j in binary_indexes if pyoval(m_as.var[j]) == 1]\n",
    "            print(f'Active set {k}: {actset_dict[k]}')\n",
    "            print(f'Flexibility index for active set {k}: {delta_dict[k]}')\n",
    "            mrelax_as, dual_dict[k] = model_relaxation(m=m_as, aset=actset_dict[k], n_vars=A.shape[1], n_t=n_t, z_b=z_bounds, n_cons=A.shape[0], n_d=n_d)\n",
    "            print(f'Dual variables for relaxed active set {k}: {dual_dict[k]}')\n",
    "        \n",
    "        # Step 3: Calculating sensitivity coefficients (sigma)\n",
    "        dual_arrays = np.empty((A.shape[0], 0))\n",
    "        for key, arr in dual_dict.items():\n",
    "            dual_arrays = np.hstack((dual_arrays, arr.reshape(-1,1)))\n",
    "        sigma = -dual_arrays.T@A[:, :n_d]\n",
    "        # print(f'Sigma: {sigma}')\n",
    "        \n",
    "        # Step 4: Solve cost optimization problem\n",
    "        result_cost, m_cost, delta_d = cost_optimization(fix_cost=fix_cost, var_cost=var_cost, flex_target=flex_target, sigma_array=sigma, ddesign_bounds=ddesign_bounds, delta0=delta_dict)\n",
    "        if result_cost.solver.termination_condition == TerminationCondition.infeasibleOrUnbounded:\n",
    "            print('Here')\n",
    "            m_flex, final_cost, delta_d, flex_index = flex_optimization(fix_cost=fix_cost, var_cost=var_cost, delta0=delta_dict, sigma_array=sigma, ddesign_bounds=ddesign_bounds)\n",
    "            final_design_array = design_vectors+delta_d\n",
    "            print('Flexibility Target unachievable for current design retrofit bounds!!')\n",
    "            print(f'Maximum possible flexibility: {flex_index}, achieved at cost: {final_cost}, with design vector: {final_design_array}')\n",
    "            return m_flex, final_cost, final_design_array, flex_index\n",
    "        \n",
    "        print(f'Required changes in design: {delta_d}')\n",
    "        final_cost = pyoval(m_cost.objective)\n",
    "        final_design_array = design_vectors + delta_d"
   ],
   "metadata": {
    "collapsed": false,
    "ExecuteTime": {
     "end_time": "2025-05-20T15:35:27.588741Z",
     "start_time": "2025-05-20T15:35:27.575261Z"
    }
   },
   "id": "fa3c268c81dc3a46",
   "execution_count": 6
  },
  {
   "cell_type": "code",
   "outputs": [],
   "source": [
    "def iter_algorithm2(flex_target_range:list, discretizations:int):\n",
    "    target_list = list(np.linspace(flex_target_range[0], flex_target_range[1], discretizations))\n",
    "    cost_list = list()\n",
    "    for target in target_list:\n",
    "        model, cost_final, design_final, flex_index = algorithm2(A=A, b=b, theta_nominal=theta_nominal, theta_deviations=theta_deviations, design_vectors=d, fix_cost=c, var_cost=beta, ddesign_bounds=delta_design_bounds, flex_target=target)\n",
    "        cost_list.append(cost_final)\n",
    "    return target_list, cost_list"
   ],
   "metadata": {
    "collapsed": false,
    "ExecuteTime": {
     "end_time": "2025-05-20T15:35:27.604818Z",
     "start_time": "2025-05-20T15:35:27.589811Z"
    }
   },
   "id": "a63fd2dd8b63d2a7",
   "execution_count": 7
  },
  {
   "cell_type": "code",
   "source": [
    "# EXAMPLE 1 Pistikopoulos and Grossmann (1988): https://www.sciencedirect.com/science/article/pii/0098135488800103\n",
    "theta_nominal = [2]\n",
    "theta_deviations = [(2,2)]\n",
    "A = np.array([\n",
    "    [1, -3, 1, -1],\n",
    "    [0, 1, -1, -1/3],\n",
    "    [-1, 0, 1 ,1]\n",
    "])\n",
    "b = np.array([0, -1/3, 1])\n",
    "d = np.array([3, 1])\n",
    "c = np.zeros(d.shape[0])\n",
    "beta = np.array([10]*d.shape[0])\n",
    "delta_design_bounds=[(1000, 1000), (1000, 1000)]\n",
    "flex_target = 0.79"
   ],
   "metadata": {
    "collapsed": false,
    "ExecuteTime": {
     "end_time": "2025-05-20T15:35:27.620505Z",
     "start_time": "2025-05-20T15:35:27.606409Z"
    }
   },
   "id": "df96d930707473fa",
   "outputs": [],
   "execution_count": 8
  },
  {
   "cell_type": "code",
   "outputs": [
    {
     "name": "stdout",
     "output_type": "stream",
     "text": [
      "Starting analysis for flexibility target of 0.79\n",
      "Active set 1: [1, 2]\n",
      "Flexibility index for active set 1: 0.5\n",
      "Dual variables for relaxed active set 1: [0.375 0.375 0.   ]\n",
      "Active set 2: [2, 3]\n",
      "Flexibility index for active set 2: 1.0\n",
      "Dual variables for relaxed active set 2: [0.   0.75 0.75]\n",
      "{1: 0.5, 2: 1.0}\n",
      "Required changes in design: [0.21333333 0.49333333]\n",
      "Active set 1: [1, 2]\n",
      "Flexibility index for active set 1: 0.789999999999995\n",
      "Dual variables for relaxed active set 1: [0.375 0.375 0.   ]\n",
      "{1: 0.789999999999995}\n",
      "ERROR: Rule failed when generating expression for Constraint delta_k_cons with\n",
      "index 2: KeyError: 2\n",
      "ERROR: Constructing component 'delta_k_cons' from data=None failed:\n",
      "        KeyError: 2\n"
     ]
    },
    {
     "ename": "KeyError",
     "evalue": "2",
     "output_type": "error",
     "traceback": [
      "\u001B[1;31m---------------------------------------------------------------------------\u001B[0m",
      "\u001B[1;31mKeyError\u001B[0m                                  Traceback (most recent call last)",
      "Cell \u001B[1;32mIn[9], line 1\u001B[0m\n\u001B[1;32m----> 1\u001B[0m model, cost_final, design_final, flex_index \u001B[38;5;241m=\u001B[39m \u001B[43malgorithm2\u001B[49m\u001B[43m(\u001B[49m\u001B[43mA\u001B[49m\u001B[38;5;241;43m=\u001B[39;49m\u001B[43mA\u001B[49m\u001B[43m,\u001B[49m\u001B[43m \u001B[49m\u001B[43mb\u001B[49m\u001B[38;5;241;43m=\u001B[39;49m\u001B[43mb\u001B[49m\u001B[43m,\u001B[49m\u001B[43m \u001B[49m\u001B[43mtheta_nominal\u001B[49m\u001B[38;5;241;43m=\u001B[39;49m\u001B[43mtheta_nominal\u001B[49m\u001B[43m,\u001B[49m\u001B[43m \u001B[49m\u001B[43mtheta_deviations\u001B[49m\u001B[38;5;241;43m=\u001B[39;49m\u001B[43mtheta_deviations\u001B[49m\u001B[43m,\u001B[49m\u001B[43m \u001B[49m\u001B[43mdesign_vectors\u001B[49m\u001B[38;5;241;43m=\u001B[39;49m\u001B[43md\u001B[49m\u001B[43m,\u001B[49m\u001B[43m \u001B[49m\u001B[43mfix_cost\u001B[49m\u001B[38;5;241;43m=\u001B[39;49m\u001B[43mc\u001B[49m\u001B[43m,\u001B[49m\u001B[43m \u001B[49m\u001B[43mvar_cost\u001B[49m\u001B[38;5;241;43m=\u001B[39;49m\u001B[43mbeta\u001B[49m\u001B[43m,\u001B[49m\u001B[43m \u001B[49m\u001B[43mddesign_bounds\u001B[49m\u001B[38;5;241;43m=\u001B[39;49m\u001B[43mdelta_design_bounds\u001B[49m\u001B[43m,\u001B[49m\u001B[43m \u001B[49m\u001B[43mflex_target\u001B[49m\u001B[38;5;241;43m=\u001B[39;49m\u001B[43mflex_target\u001B[49m\u001B[43m)\u001B[49m\n",
      "Cell \u001B[1;32mIn[6], line 47\u001B[0m, in \u001B[0;36malgorithm2\u001B[1;34m(A, b, theta_nominal, theta_deviations, fix_cost, var_cost, ddesign_bounds, design_vectors, z_bounds, bigM, flex_target, solve_mp)\u001B[0m\n\u001B[0;32m     43\u001B[0m sigma \u001B[38;5;241m=\u001B[39m \u001B[38;5;241m-\u001B[39mdual_arrays\u001B[38;5;241m.\u001B[39mT\u001B[38;5;129m@A\u001B[39m[:, :n_d]\n\u001B[0;32m     44\u001B[0m \u001B[38;5;66;03m# print(f'Sigma: {sigma}')\u001B[39;00m\n\u001B[0;32m     45\u001B[0m \n\u001B[0;32m     46\u001B[0m \u001B[38;5;66;03m# Step 4: Solve cost optimization problem\u001B[39;00m\n\u001B[1;32m---> 47\u001B[0m result_cost, m_cost, delta_d \u001B[38;5;241m=\u001B[39m \u001B[43mcost_optimization\u001B[49m\u001B[43m(\u001B[49m\u001B[43mfix_cost\u001B[49m\u001B[38;5;241;43m=\u001B[39;49m\u001B[43mfix_cost\u001B[49m\u001B[43m,\u001B[49m\u001B[43m \u001B[49m\u001B[43mvar_cost\u001B[49m\u001B[38;5;241;43m=\u001B[39;49m\u001B[43mvar_cost\u001B[49m\u001B[43m,\u001B[49m\u001B[43m \u001B[49m\u001B[43mflex_target\u001B[49m\u001B[38;5;241;43m=\u001B[39;49m\u001B[43mflex_target\u001B[49m\u001B[43m,\u001B[49m\u001B[43m \u001B[49m\u001B[43msigma_array\u001B[49m\u001B[38;5;241;43m=\u001B[39;49m\u001B[43msigma\u001B[49m\u001B[43m,\u001B[49m\u001B[43m \u001B[49m\u001B[43mddesign_bounds\u001B[49m\u001B[38;5;241;43m=\u001B[39;49m\u001B[43mddesign_bounds\u001B[49m\u001B[43m,\u001B[49m\u001B[43m \u001B[49m\u001B[43mdelta0\u001B[49m\u001B[38;5;241;43m=\u001B[39;49m\u001B[43mdelta_dict\u001B[49m\u001B[43m)\u001B[49m\n\u001B[0;32m     48\u001B[0m \u001B[38;5;28;01mif\u001B[39;00m result_cost\u001B[38;5;241m.\u001B[39msolver\u001B[38;5;241m.\u001B[39mtermination_condition \u001B[38;5;241m==\u001B[39m TerminationCondition\u001B[38;5;241m.\u001B[39minfeasibleOrUnbounded:\n\u001B[0;32m     49\u001B[0m     \u001B[38;5;28mprint\u001B[39m(\u001B[38;5;124m'\u001B[39m\u001B[38;5;124mHere\u001B[39m\u001B[38;5;124m'\u001B[39m)\n",
      "Cell \u001B[1;32mIn[5], line 17\u001B[0m, in \u001B[0;36mcost_optimization\u001B[1;34m(fix_cost, var_cost, flex_target, sigma_array, ddesign_bounds, delta0)\u001B[0m\n\u001B[0;32m     15\u001B[0m \u001B[38;5;28;01mdef\u001B[39;00m \u001B[38;5;21mdelta_k_rule\u001B[39m(instance, as_k):\n\u001B[0;32m     16\u001B[0m     \u001B[38;5;28;01mreturn\u001B[39;00m instance\u001B[38;5;241m.\u001B[39mdelta_k[as_k] \u001B[38;5;241m==\u001B[39m delta0[as_k] \u001B[38;5;241m+\u001B[39m \u001B[38;5;28msum\u001B[39m(sigma_array[i\u001B[38;5;241m-\u001B[39m\u001B[38;5;241m1\u001B[39m, as_k\u001B[38;5;241m-\u001B[39m\u001B[38;5;241m1\u001B[39m]\u001B[38;5;241m*\u001B[39minstance\u001B[38;5;241m.\u001B[39mdelta_d[i] \u001B[38;5;28;01mfor\u001B[39;00m i \u001B[38;5;129;01min\u001B[39;00m instance\u001B[38;5;241m.\u001B[39mdsets)\n\u001B[1;32m---> 17\u001B[0m mcost\u001B[38;5;241m.\u001B[39mdelta_k_cons \u001B[38;5;241m=\u001B[39m Constraint(mcost\u001B[38;5;241m.\u001B[39mactsets, rule\u001B[38;5;241m=\u001B[39mdelta_k_rule)\n\u001B[0;32m     19\u001B[0m \u001B[38;5;28;01mdef\u001B[39;00m \u001B[38;5;21mdelta_d_LB_rule\u001B[39m(instance, d_r):\n\u001B[0;32m     20\u001B[0m     \u001B[38;5;28;01mreturn\u001B[39;00m \u001B[38;5;241m-\u001B[39mddesign_bounds[d_r\u001B[38;5;241m-\u001B[39m\u001B[38;5;241m1\u001B[39m][\u001B[38;5;241m0\u001B[39m]\u001B[38;5;241m*\u001B[39minstance\u001B[38;5;241m.\u001B[39mw[d_r] \u001B[38;5;241m<\u001B[39m\u001B[38;5;241m=\u001B[39m instance\u001B[38;5;241m.\u001B[39mdelta_d[d_r]\n",
      "File \u001B[1;32m~\\.conda\\envs\\venv_energiapy\\lib\\site-packages\\pyomo\\core\\base\\block.py:568\u001B[0m, in \u001B[0;36m_BlockData.__setattr__\u001B[1;34m(self, name, val)\u001B[0m\n\u001B[0;32m    563\u001B[0m \u001B[38;5;28;01mif\u001B[39;00m name \u001B[38;5;129;01mnot\u001B[39;00m \u001B[38;5;129;01min\u001B[39;00m \u001B[38;5;28mself\u001B[39m\u001B[38;5;241m.\u001B[39m\u001B[38;5;18m__dict__\u001B[39m:\n\u001B[0;32m    564\u001B[0m     \u001B[38;5;28;01mif\u001B[39;00m \u001B[38;5;28misinstance\u001B[39m(val, Component):\n\u001B[0;32m    565\u001B[0m         \u001B[38;5;66;03m#\u001B[39;00m\n\u001B[0;32m    566\u001B[0m         \u001B[38;5;66;03m# Pyomo components are added with the add_component method.\u001B[39;00m\n\u001B[0;32m    567\u001B[0m         \u001B[38;5;66;03m#\u001B[39;00m\n\u001B[1;32m--> 568\u001B[0m         \u001B[38;5;28;43mself\u001B[39;49m\u001B[38;5;241;43m.\u001B[39;49m\u001B[43madd_component\u001B[49m\u001B[43m(\u001B[49m\u001B[43mname\u001B[49m\u001B[43m,\u001B[49m\u001B[43m \u001B[49m\u001B[43mval\u001B[49m\u001B[43m)\u001B[49m\n\u001B[0;32m    569\u001B[0m     \u001B[38;5;28;01melse\u001B[39;00m:\n\u001B[0;32m    570\u001B[0m         \u001B[38;5;66;03m#\u001B[39;00m\n\u001B[0;32m    571\u001B[0m         \u001B[38;5;66;03m# Other Python objects are added with the standard __setattr__\u001B[39;00m\n\u001B[0;32m    572\u001B[0m         \u001B[38;5;66;03m# method.\u001B[39;00m\n\u001B[0;32m    573\u001B[0m         \u001B[38;5;66;03m#\u001B[39;00m\n\u001B[0;32m    574\u001B[0m         \u001B[38;5;28msuper\u001B[39m(_BlockData, \u001B[38;5;28mself\u001B[39m)\u001B[38;5;241m.\u001B[39m\u001B[38;5;21m__setattr__\u001B[39m(name, val)\n",
      "File \u001B[1;32m~\\.conda\\envs\\venv_energiapy\\lib\\site-packages\\pyomo\\core\\base\\block.py:1126\u001B[0m, in \u001B[0;36m_BlockData.add_component\u001B[1;34m(self, name, val)\u001B[0m\n\u001B[0;32m   1118\u001B[0m     logger\u001B[38;5;241m.\u001B[39mdebug(\n\u001B[0;32m   1119\u001B[0m         \u001B[38;5;124m\"\u001B[39m\u001B[38;5;124mConstructing \u001B[39m\u001B[38;5;132;01m%s\u001B[39;00m\u001B[38;5;124m \u001B[39m\u001B[38;5;124m'\u001B[39m\u001B[38;5;132;01m%s\u001B[39;00m\u001B[38;5;124m'\u001B[39m\u001B[38;5;124m on \u001B[39m\u001B[38;5;132;01m%s\u001B[39;00m\u001B[38;5;124m from data=\u001B[39m\u001B[38;5;132;01m%s\u001B[39;00m\u001B[38;5;124m\"\u001B[39m,\n\u001B[0;32m   1120\u001B[0m         val\u001B[38;5;241m.\u001B[39m\u001B[38;5;18m__class__\u001B[39m\u001B[38;5;241m.\u001B[39m\u001B[38;5;18m__name__\u001B[39m,\n\u001B[1;32m   (...)\u001B[0m\n\u001B[0;32m   1123\u001B[0m         \u001B[38;5;28mstr\u001B[39m(data),\n\u001B[0;32m   1124\u001B[0m     )\n\u001B[0;32m   1125\u001B[0m \u001B[38;5;28;01mtry\u001B[39;00m:\n\u001B[1;32m-> 1126\u001B[0m     \u001B[43mval\u001B[49m\u001B[38;5;241;43m.\u001B[39;49m\u001B[43mconstruct\u001B[49m\u001B[43m(\u001B[49m\u001B[43mdata\u001B[49m\u001B[43m)\u001B[49m\n\u001B[0;32m   1127\u001B[0m \u001B[38;5;28;01mexcept\u001B[39;00m:\n\u001B[0;32m   1128\u001B[0m     err \u001B[38;5;241m=\u001B[39m sys\u001B[38;5;241m.\u001B[39mexc_info()[\u001B[38;5;241m1\u001B[39m]\n",
      "File \u001B[1;32m~\\.conda\\envs\\venv_energiapy\\lib\\site-packages\\pyomo\\core\\base\\constraint.py:800\u001B[0m, in \u001B[0;36mConstraint.construct\u001B[1;34m(self, data)\u001B[0m\n\u001B[0;32m    797\u001B[0m     \u001B[38;5;28;01melse\u001B[39;00m:\n\u001B[0;32m    798\u001B[0m         \u001B[38;5;66;03m# Bypass the index validation and create the member directly\u001B[39;00m\n\u001B[0;32m    799\u001B[0m         \u001B[38;5;28;01mfor\u001B[39;00m index \u001B[38;5;129;01min\u001B[39;00m \u001B[38;5;28mself\u001B[39m\u001B[38;5;241m.\u001B[39mindex_set():\n\u001B[1;32m--> 800\u001B[0m             \u001B[38;5;28mself\u001B[39m\u001B[38;5;241m.\u001B[39m_setitem_when_not_present(index, \u001B[43mrule\u001B[49m\u001B[43m(\u001B[49m\u001B[43mblock\u001B[49m\u001B[43m,\u001B[49m\u001B[43m \u001B[49m\u001B[43mindex\u001B[49m\u001B[43m)\u001B[49m)\n\u001B[0;32m    801\u001B[0m \u001B[38;5;28;01mexcept\u001B[39;00m \u001B[38;5;167;01mException\u001B[39;00m:\n\u001B[0;32m    802\u001B[0m     err \u001B[38;5;241m=\u001B[39m sys\u001B[38;5;241m.\u001B[39mexc_info()[\u001B[38;5;241m1\u001B[39m]\n",
      "File \u001B[1;32m~\\.conda\\envs\\venv_energiapy\\lib\\site-packages\\pyomo\\core\\base\\initializer.py:316\u001B[0m, in \u001B[0;36mIndexedCallInitializer.__call__\u001B[1;34m(self, parent, idx)\u001B[0m\n\u001B[0;32m    314\u001B[0m     \u001B[38;5;28;01mreturn\u001B[39;00m \u001B[38;5;28mself\u001B[39m\u001B[38;5;241m.\u001B[39m_fcn(parent, \u001B[38;5;241m*\u001B[39midx)\n\u001B[0;32m    315\u001B[0m \u001B[38;5;28;01melse\u001B[39;00m:\n\u001B[1;32m--> 316\u001B[0m     \u001B[38;5;28;01mreturn\u001B[39;00m \u001B[38;5;28;43mself\u001B[39;49m\u001B[38;5;241;43m.\u001B[39;49m\u001B[43m_fcn\u001B[49m\u001B[43m(\u001B[49m\u001B[43mparent\u001B[49m\u001B[43m,\u001B[49m\u001B[43m \u001B[49m\u001B[43midx\u001B[49m\u001B[43m)\u001B[49m\n",
      "Cell \u001B[1;32mIn[5], line 16\u001B[0m, in \u001B[0;36mcost_optimization.<locals>.delta_k_rule\u001B[1;34m(instance, as_k)\u001B[0m\n\u001B[0;32m     15\u001B[0m \u001B[38;5;28;01mdef\u001B[39;00m \u001B[38;5;21mdelta_k_rule\u001B[39m(instance, as_k):\n\u001B[1;32m---> 16\u001B[0m     \u001B[38;5;28;01mreturn\u001B[39;00m instance\u001B[38;5;241m.\u001B[39mdelta_k[as_k] \u001B[38;5;241m==\u001B[39m \u001B[43mdelta0\u001B[49m\u001B[43m[\u001B[49m\u001B[43mas_k\u001B[49m\u001B[43m]\u001B[49m \u001B[38;5;241m+\u001B[39m \u001B[38;5;28msum\u001B[39m(sigma_array[i\u001B[38;5;241m-\u001B[39m\u001B[38;5;241m1\u001B[39m, as_k\u001B[38;5;241m-\u001B[39m\u001B[38;5;241m1\u001B[39m]\u001B[38;5;241m*\u001B[39minstance\u001B[38;5;241m.\u001B[39mdelta_d[i] \u001B[38;5;28;01mfor\u001B[39;00m i \u001B[38;5;129;01min\u001B[39;00m instance\u001B[38;5;241m.\u001B[39mdsets)\n",
      "\u001B[1;31mKeyError\u001B[0m: 2"
     ]
    }
   ],
   "source": [
    "model, cost_final, design_final, flex_index = algorithm2(A=A, b=b, theta_nominal=theta_nominal, theta_deviations=theta_deviations, design_vectors=d, fix_cost=c, var_cost=beta, ddesign_bounds=delta_design_bounds, flex_target=flex_target)"
   ],
   "metadata": {
    "collapsed": false,
    "ExecuteTime": {
     "end_time": "2025-05-20T15:35:29.872634Z",
     "start_time": "2025-05-20T15:35:27.621551Z"
    }
   },
   "id": "ee4bbe5f3f77b826",
   "execution_count": 9
  },
  {
   "cell_type": "code",
   "outputs": [],
   "source": [
    "# design_final"
   ],
   "metadata": {
    "collapsed": false,
    "ExecuteTime": {
     "end_time": "2025-05-20T15:35:29.874817Z",
     "start_time": "2025-05-20T15:35:29.874817Z"
    }
   },
   "id": "5be08ec71132a037",
   "execution_count": null
  },
  {
   "cell_type": "code",
   "outputs": [],
   "source": [
    "# cost_final"
   ],
   "metadata": {
    "collapsed": false,
    "ExecuteTime": {
     "start_time": "2025-05-20T15:35:29.875850Z"
    }
   },
   "id": "83e588b0324d6334",
   "execution_count": null
  },
  {
   "cell_type": "code",
   "outputs": [],
   "source": [
    "# m, delta, actset =active_set_method(A=A, b=b, theta_nominal=theta_nominal, theta_deviations=theta_deviations, design_vectors=design_final)"
   ],
   "metadata": {
    "collapsed": false,
    "ExecuteTime": {
     "end_time": "2025-05-20T15:35:29.877049Z",
     "start_time": "2025-05-20T15:35:29.877049Z"
    }
   },
   "id": "67b8ae13046a3e71",
   "execution_count": null
  },
  {
   "cell_type": "code",
   "outputs": [],
   "source": [
    "# delta"
   ],
   "metadata": {
    "collapsed": false,
    "ExecuteTime": {
     "start_time": "2025-05-20T15:35:29.878116Z"
    }
   },
   "id": "2f597e4def6a7e07",
   "execution_count": null
  },
  {
   "cell_type": "code",
   "outputs": [],
   "source": [
    "# x, y = iter_algorithm2(flex_target_range=[0.5, 1.0], discretizations=20)"
   ],
   "metadata": {
    "collapsed": false,
    "ExecuteTime": {
     "start_time": "2025-05-20T15:35:29.878116Z"
    }
   },
   "id": "33640a894416c311",
   "execution_count": null
  },
  {
   "cell_type": "code",
   "outputs": [],
   "source": [],
   "metadata": {
    "collapsed": false,
    "ExecuteTime": {
     "start_time": "2025-05-20T15:35:29.879173Z"
    }
   },
   "id": "89802e11f28be58f"
  }
 ],
 "metadata": {
  "kernelspec": {
   "display_name": "Python 3",
   "language": "python",
   "name": "python3"
  },
  "language_info": {
   "codemirror_mode": {
    "name": "ipython",
    "version": 2
   },
   "file_extension": ".py",
   "mimetype": "text/x-python",
   "name": "python",
   "nbconvert_exporter": "python",
   "pygments_lexer": "ipython2",
   "version": "2.7.6"
  }
 },
 "nbformat": 4,
 "nbformat_minor": 5
}
