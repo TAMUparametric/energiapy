{
 "cells": [
  {
   "cell_type": "code",
   "id": "initial_id",
   "metadata": {
    "collapsed": true,
    "ExecuteTime": {
     "end_time": "2025-05-19T20:50:02.033940Z",
     "start_time": "2025-05-19T20:50:01.653496Z"
    }
   },
   "source": [
    "import itertools\n",
    "import numpy as np\n",
    "from pyomo.environ import *\n",
    "from pyomo.environ import value as pyoval\n",
    "from pyomo.environ import Binary, NonNegativeReals, UnitInterval, Reals\n",
    "from typing import Tuple, Union\n",
    "from collections import defaultdict\n",
    "import copy"
   ],
   "outputs": [],
   "execution_count": 1
  },
  {
   "cell_type": "code",
   "source": [
    "def active_set_method(A:np.ndarray, b:np.ndarray, theta_nominal:list, theta_deviations:list, design_vectors:np.ndarray | list[np.ndarray]=None, z_bounds:list[Tuple]=None, bigM:float=1e3, model_only:bool=False):\n",
    "    \"\"\"\n",
    "    From:\n",
    "    A(d, z, theta) <= b\n",
    "    z_lb <= z <= z_ub\n",
    "    theta_nominal - delta * theta_deviations_lb <= theta <= theta_nominal + delta * theta_deviations_ub\n",
    "    \n",
    "    Convert to:\n",
    "    h(d, z, theta, slack, dual, binary) == b_h\n",
    "    g(z, theta, slack, dual, binary, delta) <= b_g\n",
    "\n",
    "    Args:\n",
    "        A: Coefficient matrix of system equations\n",
    "        b: Vector of constant values\n",
    "        theta_nominal: Nominal values of uncertain parameters\n",
    "        theta_deviations: Allowable changes from the nominal value (lower bound, upper bound)\n",
    "        design_vectors: Values of design variables\n",
    "        z_bounds: Bounds on control variables\n",
    "        bigM: Big M value \n",
    "        model_only: Boolean value. If True, returns an unsolved active set model\n",
    "\n",
    "    Returns:\n",
    "        m: Pyomo model\n",
    "        delta: Flexibility index value\n",
    "    \"\"\"\n",
    "    if not (isinstance(theta_nominal, list) and isinstance(theta_deviations, list) and all(isinstance(t, tuple) and len(t)==2 and all(isinstance(x, (int, float)) for x in t) for t in theta_deviations)):\n",
    "        raise ValueError('Please provide a list (of length n_t) of tuples (of size 2) and containing only float or integer values!')\n",
    "    elif len(theta_nominal) != len(theta_deviations):\n",
    "        raise ValueError('Inconsistent input for nominal theta values and theta bounds')\n",
    "    \n",
    "    n_t = len(theta_nominal)\n",
    "    n_d = design_vectors[0].shape[0] if isinstance(design_vectors, list) else design_vectors.shape[0] if isinstance(design_vectors, np.ndarray) else 0\n",
    "    n_c = A.shape[1] - n_t - n_d\n",
    "    if n_c < 0:\n",
    "        raise ValueError('Inconsistent coefficients input')\n",
    "    if isinstance(z_bounds, list):        \n",
    "        if not (len(z_bounds) == n_c and all(isinstance(t, tuple) and len(t)==2 and all(isinstance(x, (int, float)) for x in t) for t in z_bounds)):\n",
    "            raise ValueError('Please provide a list (of length n_c) of tuples (of size 2) and containing only float or integer values!')\n",
    "    \n",
    "    # Reformulate A(d, z, theta) <= b to h(d, z, theta, slack, dual, binary) == b_h\n",
    "    # h1(d, z, theta, slack) == b               for all system constraints\n",
    "    # h2(dual) == 0 (from dA/dz = 0)            for all control variables\n",
    "    # h3(dual, binary) == [1, n_c+1]'           2 constraints\n",
    "    # d == dE                                   for all design variables - if provided\n",
    "    # b_h = [b, 0*n_c, 1, n_c+1, dE (if provided)]'\n",
    "    h1 = np.concatenate([A, np.diag([1]*A.shape[0]), np.zeros((A.shape[0], 2*A.shape[0]))], axis=1)\n",
    "    h2 = np.concatenate([np.zeros((n_c, A.shape[1]+A.shape[0])), A[:, n_d:n_d+n_c].T, np.zeros((n_c, A.shape[0]))], axis=1)\n",
    "    h3 = np.concatenate([np.zeros((2, A.shape[1]+A.shape[0])), np.stack([np.ones(A.shape[0]).T, np.zeros(A.shape[0]).T], axis=0), np.stack([np.zeros(A.shape[0]).T, np.ones(A.shape[0]).T], axis=0)], axis=1)\n",
    "    h = np.concatenate([h1, h2, h3], axis=0)\n",
    "    b_h = np.concatenate([b, np.zeros(n_c), np.array([1]), np.array([n_c+1])], axis=0)\n",
    "    \n",
    "    # Add inequalities for the active set reformulation g(z, theta, slack, dual, binary, delta) <= b_g\n",
    "    # z <= z_UB                                             Upper bounds for all control variables\n",
    "    # -z <= -z_LB                                           Lower bounds for all control variables\n",
    "    # theta - theta_bound*delta <= theta_nominal            Upper bounds for all uncertain parameters\n",
    "    # -theta - theta_bound*delta <= -theta_nominal          Lower bounds for all uncertain parameters\n",
    "    # slack + bigM*binary <= bigM                           # bigM reformulation of complementary conditions\n",
    "    # dual - binary <= 0                                    bigM reformulation of complementary conditions\n",
    "    g1 = np.concatenate([np.concatenate([np.diag([1]*n_t), np.diag([-1]*n_t)], axis=0), np.zeros((2*n_t, 3*A.shape[0])), np.stack([-np.array([i[1] for i in theta_deviations]), -np.array([i[1] for i in theta_deviations])], axis=0).reshape(-1,1)], axis=1)\n",
    "    g2 = np.concatenate([np.zeros((A.shape[0], n_t)), np.diag([1]*A.shape[0]), np.diag([0]*A.shape[0]), np.diag([bigM]*A.shape[0]), np.zeros(A.shape[0]).reshape(-1,1)], axis=1)\n",
    "    g3 = np.concatenate([np.zeros((A.shape[0], n_t)), np.diag([0]*A.shape[0]), np.diag([1]*A.shape[0]), np.diag([-1]*A.shape[0]), np.zeros(A.shape[0]).reshape(-1,1)], axis=1)\n",
    "    g = np.concatenate([g1, g2, g3], axis=0)\n",
    "    b_g = np.concatenate([np.array(theta_nominal), -np.array(theta_nominal), np.array([bigM]*A.shape[0]), np.array([0]*A.shape[0])], axis=0)\n",
    "    g_shift=n_d+n_c\n",
    "    \n",
    "    def evaluate_delta_fixed_design(h, b_h, g, b_g, g_shift, z_b:np.ndarray=None, design_vector:np.ndarray=None):\n",
    "        if isinstance(design_vector, np.ndarray):\n",
    "            h4 = np.concatenate([np.diag([1]*n_d), np.zeros((n_d, n_c+n_t+3*A.shape[0]))], axis=1)\n",
    "            h_new, b_h_new = np.concatenate([h, h4], axis=0), np.concatenate([b_h, design_vector], axis=0)\n",
    "        else:\n",
    "            h_new, b_h_new= h, b_h\n",
    "            \n",
    "        if isinstance(z_b, list):\n",
    "            g0 = np.concatenate([np.concatenate([np.diag([1]*n_c), np.diag([-1]*n_c)], axis=0), np.zeros((2*n_c, n_t+3*A.shape[0]+1))], axis=1)\n",
    "            gz = np.zeros((2*(n_t+A.shape[0]), n_c))\n",
    "            b0 = np.array([i[1] for i in z_bounds]+[-i[0] for i in z_bounds])\n",
    "            g_new, b_g_new = np.concatenate([g0, np.concatenate([gz, g], axis=1)], axis=0), np.concatenate([b0, b_g], axis=0)\n",
    "            g_shift=n_d\n",
    "        else:\n",
    "            g_new, b_g_new = g, b_g\n",
    "                \n",
    "        binary_indexes = [i for i in range(A.shape[1]+2*A.shape[0]+1, A.shape[1]+3*A.shape[0]+1)]\n",
    "        def var_domain_rule(instance, i):\n",
    "            return Binary if i in binary_indexes else NonNegativeReals\n",
    "        \n",
    "        m = ConcreteModel()\n",
    "        m.v = RangeSet(n_d+n_c+n_t+3*A.shape[0]+1)\n",
    "        m.var = Var(m.v, domain=var_domain_rule)        # order of variables (design, control, theta, slack, dual, binary, delta)\n",
    "        m.hi = RangeSet(h_new.shape[0])\n",
    "        m.hj = RangeSet(h_new.shape[1])\n",
    "        m.gi = RangeSet(g_new.shape[0])\n",
    "        m.gj = RangeSet(g_new.shape[1])\n",
    "\n",
    "        def h_eq_bh_rule(instance, i):\n",
    "            return sum(h_new[i-1, j-1]*instance.var[j] for j in instance.hj) == b_h_new[i-1]\n",
    "        m.h_eq_bh = Constraint(m.hi, rule=h_eq_bh_rule)\n",
    "        \n",
    "        def g_leq_bg_rule(instance, i):\n",
    "            return sum(g_new[i-1, j-1]*instance.var[j+g_shift] for j in instance.gj) <= b_g_new[i-1]\n",
    "        m.g_leq_bg = Constraint(m.gi, rule=g_leq_bg_rule)\n",
    "        \n",
    "        # Objective\n",
    "        m.objective = Objective(expr=m.var[len(m.v)], sense=minimize)\n",
    "        # m.cuts = ConstraintList()\n",
    "        # m.cuts.add(m.var[11] + m.var[12] - m.var[13] <= 1)\n",
    "        solver = SolverFactory('gurobi')\n",
    "        solver.solve(m)\n",
    "        actives = [j-(A.shape[1]+2*A.shape[0]) for j in binary_indexes if pyoval(m.var[j]) == 1] # Adjust for constraint number\n",
    "        return m, pyoval(m.var[len(m.v)]), actives\n",
    "    \n",
    "    if isinstance(design_vectors, list):\n",
    "        m, delta, active_set = [defaultdict(dict) for _ in range(3)]\n",
    "        for i in range(len(design_vectors)):\n",
    "            m[i], delta[i], active_set[i] = evaluate_delta_fixed_design(h=h, b_h=b_h, g=g, b_g=b_g, g_shift=g_shift, z_b=z_bounds, design_vector=design_vectors[i])\n",
    "    elif isinstance(design_vectors, np.ndarray):\n",
    "        m, delta, active_set = evaluate_delta_fixed_design(h=h, b_h=b_h, g=g, b_g=b_g, g_shift=g_shift, z_b=z_bounds, design_vector=design_vectors)\n",
    "    else:\n",
    "        m, delta, active_set = evaluate_delta_fixed_design(h=h, b_h=b_h, g=g, b_g=b_g, g_shift=g_shift)\n",
    "    \n",
    "    return m, delta, active_set"
   ],
   "metadata": {
    "collapsed": false,
    "ExecuteTime": {
     "end_time": "2025-05-19T20:50:02.065522Z",
     "start_time": "2025-05-19T20:50:02.036061Z"
    }
   },
   "id": "fbe6347bc7e54ff",
   "outputs": [],
   "execution_count": 2
  },
  {
   "cell_type": "code",
   "outputs": [],
   "source": [
    "def model_relaxation(m:ConcreteModel, aset:list, n_vars:int, n_cons:int, n_t:int, n_d:int, z_b:list=None):\n",
    "    relax_m = copy.deepcopy(m)\n",
    "    for var in relax_m.component_data_objects(Var, descend_into=True):\n",
    "        if var.domain is Binary:\n",
    "            var.domain = UnitInterval\n",
    "            var.fix(pyoval(var))\n",
    "    for v in relax_m.var:\n",
    "        if v in list(range(n_vars+1, 2*n_vars+1)):\n",
    "            relax_m.var[v].fix(0)\n",
    "        elif v in list(range(2*n_vars+1, 3*n_vars+1)):\n",
    "            relax_m.var[v].fix(pyoval(m.var[v]))\n",
    "        elif v in list(range(1, n_d+1)):\n",
    "            relax_m.var[v].fix(pyoval(m.var[v]))\n",
    "    for idx in relax_m.h_eq_bh:\n",
    "        if idx not in aset:\n",
    "            relax_m.h_eq_bh[idx].deactivate()\n",
    "    start = len(z_b) if isinstance(z_b, list) else 0\n",
    "    end = start + 2*n_t\n",
    "    g_as = list(range(start+1, end+1))\n",
    "    for idx in relax_m.g_leq_bg:\n",
    "        if idx not in g_as:\n",
    "            relax_m.g_leq_bg[idx].deactivate()\n",
    "    if hasattr(m, 'cuts'):\n",
    "        for idx in relax_m.cuts:\n",
    "            relax_m.cuts[idx].deactivate()\n",
    "    relax_m.dual = Suffix(direction=Suffix.IMPORT)\n",
    "    SolverFactory('gurobi').solve(relax_m)\n",
    "    duals = np.array([relax_m.dual[relax_m.h_eq_bh[i]] if i in aset else 0 for i in range(1, n_cons+1)])\n",
    "    return relax_m, duals"
   ],
   "metadata": {
    "collapsed": false,
    "ExecuteTime": {
     "end_time": "2025-05-19T20:50:02.081208Z",
     "start_time": "2025-05-19T20:50:02.066596Z"
    }
   },
   "id": "5a102c2c4dcc9da1",
   "execution_count": 3
  },
  {
   "cell_type": "code",
   "outputs": [],
   "source": [
    "def flex_optimization(fix_cost:list, var_cost:list, delta0:dict, sigma_array:np.ndarray, ddesign_bounds:list[Tuple]):\n",
    "    mflex = ConcreteModel()\n",
    "    mflex.actsets = RangeSet(sigma_array.shape[1])\n",
    "    mflex.dsets = RangeSet(sigma_array.shape[0])\n",
    "    \n",
    "    mflex.delta_k = Var(mflex.actsets, within=NonNegativeReals)\n",
    "    mflex.delta_d = Var(mflex.dsets, within=Reals)\n",
    "    mflex.w = Var(mflex.dsets, within=Binary)\n",
    "    mflex.cost = Var(within=NonNegativeReals)\n",
    "    mflex.F = Var(within=NonNegativeReals)\n",
    "    \n",
    "    def flex_index_rule(instance, as_k):\n",
    "        return instance.F <= instance.delta_k[as_k]\n",
    "    mflex.flex_index_cons = Constraint(mflex.actsets, rule=flex_index_rule)\n",
    "    \n",
    "    def delta_k_rule(instance, as_k):\n",
    "        return instance.delta_k[as_k] == delta0[as_k] + sum(sigma_array[i-1, as_k-1]*instance.delta_d[i] for i in instance.dsets)\n",
    "    mflex.delta_k_cons = Constraint(mflex.actsets, rule=delta_k_rule)\n",
    "    \n",
    "    def delta_d_LB_rule(instance, d_r):\n",
    "        return -ddesign_bounds[d_r-1][0]*instance.w[d_r] <= instance.delta_d[d_r]\n",
    "    mflex.delta_d_LB_cons = Constraint(mflex.dsets, rule=delta_d_LB_rule)\n",
    "    \n",
    "    def delta_d_UB_rule(instance, d_r):\n",
    "        return instance.delta_d[d_r] <= ddesign_bounds[d_r-1][1]*instance.w[d_r]\n",
    "    mflex.delta_d_UB_cons = Constraint(mflex.dsets, rule=delta_d_UB_rule)\n",
    "    \n",
    "    def cost_rule(instance):\n",
    "        return instance.cost == sum(fix_cost[i-1]*mflex.w[i] + var_cost[i-1]*mflex.delta_d[i] for i in mflex.dsets)\n",
    "    mflex.cost_con = Constraint(rule=cost_rule)\n",
    "    \n",
    "    mflex.objective = Objective(expr=mflex.F, sense=maximize)\n",
    "    SolverFactory('gurobi').solve(mflex)\n",
    "    \n",
    "    return mflex, pyoval(mflex.cost), np.array([pyoval(mflex.delta_d[i]) for i in mflex.dsets]), pyoval(mflex.F)\n",
    "    "
   ],
   "metadata": {
    "collapsed": false,
    "ExecuteTime": {
     "end_time": "2025-05-19T20:50:02.096903Z",
     "start_time": "2025-05-19T20:50:02.082248Z"
    }
   },
   "id": "25b80fed43ee6967",
   "execution_count": 4
  },
  {
   "cell_type": "code",
   "outputs": [],
   "source": [
    "def cost_optimization(fix_cost:list, var_cost:list, flex_target:float, sigma_array:np.ndarray, ddesign_bounds:list[Tuple], delta0:dict):\n",
    "    mcost = ConcreteModel()\n",
    "    mcost.actsets = RangeSet(sigma_array.shape[1])\n",
    "    mcost.dsets = RangeSet(sigma_array.shape[0])\n",
    "    \n",
    "    mcost.delta_k = Var(mcost.actsets, within=NonNegativeReals)\n",
    "    mcost.delta_d = Var(mcost.dsets, within=Reals)\n",
    "    mcost.w = Var(mcost.dsets, within=Binary)\n",
    "    print(delta0)\n",
    "    \n",
    "    def flex_target_rule(instance, aset_k):\n",
    "        return instance.delta_k[aset_k] >= flex_target\n",
    "    mcost.flex_target_cons = Constraint(mcost.actsets, rule=flex_target_rule)\n",
    "    \n",
    "    def delta_k_rule(instance, as_k):\n",
    "        return instance.delta_k[as_k] == delta0[as_k] + sum(sigma_array[i-1, as_k-1]*instance.delta_d[i] for i in instance.dsets)\n",
    "    mcost.delta_k_cons = Constraint(mcost.actsets, rule=delta_k_rule)\n",
    "    \n",
    "    def delta_d_LB_rule(instance, d_r):\n",
    "        return -ddesign_bounds[d_r-1][0]*instance.w[d_r] <= instance.delta_d[d_r]\n",
    "    mcost.delta_d_LB_cons = Constraint(mcost.dsets, rule=delta_d_LB_rule)\n",
    "    \n",
    "    def delta_d_UB_rule(instance, d_r):\n",
    "        return instance.delta_d[d_r] <= ddesign_bounds[d_r-1][1]*instance.w[d_r]\n",
    "    mcost.delta_d_UB_cons = Constraint(mcost.dsets, rule=delta_d_UB_rule)\n",
    "    \n",
    "    mcost.objective = Objective(expr = sum(fix_cost[i-1]*mcost.w[i] + var_cost[i-1]*mcost.delta_d[i] for i in mcost.dsets), sense=minimize)\n",
    "    result_mcost = SolverFactory('gurobi').solve(mcost)\n",
    "    if result_mcost.solver.termination_condition == TerminationCondition.infeasibleOrUnbounded:\n",
    "        return result_mcost, mcost, None\n",
    "\n",
    "    return result_mcost, mcost, np.array([pyoval(mcost.delta_d[i]) for i in mcost.dsets])\n",
    "        "
   ],
   "metadata": {
    "collapsed": false,
    "ExecuteTime": {
     "end_time": "2025-05-19T20:50:02.111995Z",
     "start_time": "2025-05-19T20:50:02.097949Z"
    }
   },
   "id": "5ce035814b380d87",
   "execution_count": 5
  },
  {
   "cell_type": "code",
   "outputs": [],
   "source": [
    "def algorithm2(A:np.ndarray, b:np.ndarray, theta_nominal:list, theta_deviations:list, fix_cost:list, var_cost:list, ddesign_bounds:list[Tuple], design_vectors:np.ndarray | list[np.ndarray]=None, z_bounds:list[Tuple]=None, bigM:float=1e3, flex_target:float=1.0, solve_mp:bool=False):\n",
    "    \n",
    "    n_t = len(theta_nominal)\n",
    "    n_d = design_vectors[0].shape[0] if isinstance(design_vectors, list) else design_vectors.shape[0] if isinstance(design_vectors, np.ndarray) else 0\n",
    "    n_c = A.shape[1] - n_t - n_d\n",
    "    binary_shift = A.shape[1]+2*A.shape[0]\n",
    "    binary_indexes = [i for i in range(binary_shift+1, binary_shift+A.shape[0]+1)]\n",
    "    if n_c < 0:\n",
    "        raise ValueError('Inconsistent coefficients input')\n",
    "    final_cost = 0\n",
    "    final_design_array = design_vectors\n",
    "    print(f'Starting analysis for flexibility target of {flex_target}')\n",
    "    \n",
    "    while True:\n",
    "        delta_dict, actset_dict, dual_dict, k = dict(), dict(), dict(), 1\n",
    "        # Step 1: Solving active set problem to initialize algorithm\n",
    "        m_as, delta_dict[k], actset_dict[k] =active_set_method(A=A, b=b, theta_nominal=theta_nominal, theta_deviations=theta_deviations, design_vectors=final_design_array, z_bounds=z_bounds, bigM=bigM)\n",
    "        print(f'Active set {k}: {actset_dict[k]}')\n",
    "        print(f'Flexibility index for active set {k}: {delta_dict[k]}')\n",
    "        mrelax_as, dual_dict[k] = model_relaxation(m=m_as, aset=actset_dict[k], n_vars=A.shape[1], n_t=n_t, z_b=z_bounds, n_cons=A.shape[0], n_d=n_d)\n",
    "        print(f'Dual variables for relaxed active set {k}: {dual_dict[k]}')\n",
    "        if delta_dict[k] >= flex_target:\n",
    "            print(f'Flexibility Target {flex_target} Achieved')\n",
    "            return m_as, final_cost, final_design_array, delta_dict[k]\n",
    "        \n",
    "        while delta_dict[k] < flex_target:\n",
    "            k+=1\n",
    "            if not hasattr(m_as,'cuts'):\n",
    "                m_as.cuts = ConstraintList()\n",
    "            m_as.cuts.add(sum(m_as.var[j] for j in binary_indexes if pyoval(m_as.var[j]==1)) - sum(m_as.var[j] for j in binary_indexes if pyoval(m_as.var[j]==0)) <= n_c)\n",
    "            SolverFactory('gurobi').solve(m_as)\n",
    "            delta_dict[k] = pyoval(m_as.var[len(m_as.v)])\n",
    "            actset_dict[k] = [j-binary_shift for j in binary_indexes if pyoval(m_as.var[j]) == 1]\n",
    "            print(f'Active set {k}: {actset_dict[k]}')\n",
    "            print(f'Flexibility index for active set {k}: {delta_dict[k]}')\n",
    "            mrelax_as, dual_dict[k] = model_relaxation(m=m_as, aset=actset_dict[k], n_vars=A.shape[1], n_t=n_t, z_b=z_bounds, n_cons=A.shape[0], n_d=n_d)\n",
    "            print(f'Dual variables for relaxed active set {k}: {dual_dict[k]}')\n",
    "        \n",
    "        # Step 3: Calculating sensitivity coefficients (sigma)\n",
    "        dual_arrays = np.empty((A.shape[0], 0))\n",
    "        for key, arr in dual_dict.items():\n",
    "            dual_arrays = np.hstack((dual_arrays, arr.reshape(-1,1)))\n",
    "        sigma = -dual_arrays.T@A[:, :n_d]\n",
    "        # print(f'Sigma: {sigma}')\n",
    "        \n",
    "        # Step 4: Solve cost optimization problem\n",
    "        result_cost, m_cost, delta_d = cost_optimization(fix_cost=fix_cost, var_cost=var_cost, flex_target=flex_target, sigma_array=sigma, ddesign_bounds=ddesign_bounds, delta0=delta_dict)\n",
    "        if result_cost.solver.termination_condition == TerminationCondition.infeasibleOrUnbounded:\n",
    "            print('Here')\n",
    "            m_flex, final_cost, delta_d, flex_index = flex_optimization(fix_cost=fix_cost, var_cost=var_cost, delta0=delta_dict, sigma_array=sigma, ddesign_bounds=ddesign_bounds)\n",
    "            final_design_array = design_vectors+delta_d\n",
    "            print('Flexibility Target unachievable for current design retrofit bounds!!')\n",
    "            print(f'Maximum possible flexibility: {flex_index}, achieved at cost: {final_cost}, with design vector: {final_design_array}')\n",
    "            return m_flex, final_cost, final_design_array, flex_index\n",
    "        \n",
    "        print(f'Required changes in design: {delta_d}')\n",
    "        final_cost = pyoval(m_cost.objective)\n",
    "        final_design_array = design_vectors + delta_d"
   ],
   "metadata": {
    "collapsed": false,
    "ExecuteTime": {
     "end_time": "2025-05-19T20:57:13.927149Z",
     "start_time": "2025-05-19T20:57:13.910128Z"
    }
   },
   "id": "fa3c268c81dc3a46",
   "execution_count": 28
  },
  {
   "cell_type": "code",
   "outputs": [],
   "source": [
    "def iter_algorithm2(flex_target_range:list, discretizations:int):\n",
    "    target_list = list(np.linspace(flex_target_range[0], flex_target_range[1], discretizations))\n",
    "    cost_list = list()\n",
    "    for target in target_list:\n",
    "        model, cost_final, design_final, flex_index = algorithm2(A=A, b=b, theta_nominal=theta_nominal, theta_deviations=theta_deviations, design_vectors=d, fix_cost=c, var_cost=beta, ddesign_bounds=delta_design_bounds, flex_target=target)\n",
    "        cost_list.append(cost_final)\n",
    "    return target_list, cost_list"
   ],
   "metadata": {
    "collapsed": false,
    "ExecuteTime": {
     "end_time": "2025-05-19T20:57:14.488707Z",
     "start_time": "2025-05-19T20:57:14.483531Z"
    }
   },
   "id": "a63fd2dd8b63d2a7",
   "execution_count": 29
  },
  {
   "cell_type": "code",
   "source": [
    "# EXAMPLE 1 Pistikopoulos and Grossmann (1988): https://www.sciencedirect.com/science/article/pii/0098135488800103\n",
    "theta_nominal = [2]\n",
    "theta_deviations = [(2,2)]\n",
    "A = np.array([\n",
    "    [1, -3, 1, -1],\n",
    "    [0, 1, -1, -1/3],\n",
    "    [-1, 0, 1 ,1]\n",
    "])\n",
    "b = np.array([0, -1/3, 1])\n",
    "d = np.array([3, 1])\n",
    "c = np.zeros(d.shape[0])\n",
    "beta = np.array([10]*d.shape[0])\n",
    "delta_design_bounds=[(1000, 1000), (1000, 1000)]\n",
    "flex_target = 0.6"
   ],
   "metadata": {
    "collapsed": false,
    "ExecuteTime": {
     "end_time": "2025-05-19T20:57:14.914806Z",
     "start_time": "2025-05-19T20:57:14.909568Z"
    }
   },
   "id": "df96d930707473fa",
   "outputs": [],
   "execution_count": 30
  },
  {
   "cell_type": "code",
   "outputs": [
    {
     "name": "stdout",
     "output_type": "stream",
     "text": [
      "Starting analysis for flexibility target of 0.6\n",
      "Active set 1: [1, 2]\n",
      "Flexibility index for active set 1: 0.5\n",
      "Dual variables for relaxed active set 1: [0.375 0.375 0.   ]\n",
      "Active set 2: [2, 3]\n",
      "Flexibility index for active set 2: 1.0\n",
      "Dual variables for relaxed active set 2: [0.   0.75 0.75]\n",
      "{1: 0.5, 2: 1.0}\n",
      "Required changes in design: [-0.8        -0.26666667]\n",
      "Active set 1: [1, 2]\n",
      "Flexibility index for active set 1: 0.6\n",
      "Dual variables for relaxed active set 1: [0.375 0.375 0.   ]\n",
      "Flexibility Target 0.6 Achieved\n"
     ]
    }
   ],
   "source": [
    "model, cost_final, design_final, flex_index = algorithm2(A=A, b=b, theta_nominal=theta_nominal, theta_deviations=theta_deviations, design_vectors=d, fix_cost=c, var_cost=beta, ddesign_bounds=delta_design_bounds, flex_target=flex_target)"
   ],
   "metadata": {
    "collapsed": false,
    "ExecuteTime": {
     "end_time": "2025-05-19T20:57:16.920102Z",
     "start_time": "2025-05-19T20:57:15.461424Z"
    }
   },
   "id": "ee4bbe5f3f77b826",
   "execution_count": 31
  },
  {
   "cell_type": "code",
   "outputs": [
    {
     "data": {
      "text/plain": "array([2.2       , 0.73333333])"
     },
     "execution_count": 32,
     "metadata": {},
     "output_type": "execute_result"
    }
   ],
   "source": [
    "design_final"
   ],
   "metadata": {
    "collapsed": false,
    "ExecuteTime": {
     "end_time": "2025-05-19T20:58:21.566912Z",
     "start_time": "2025-05-19T20:58:21.553142Z"
    }
   },
   "id": "5be08ec71132a037",
   "execution_count": 32
  },
  {
   "cell_type": "code",
   "outputs": [],
   "source": [
    "m, delta, actset =active_set_method(A=A, b=b, theta_nominal=theta_nominal, theta_deviations=theta_deviations, design_vectors=design_final)"
   ],
   "metadata": {
    "collapsed": false,
    "ExecuteTime": {
     "end_time": "2025-05-19T20:59:13.706522Z",
     "start_time": "2025-05-19T20:59:13.487385Z"
    }
   },
   "id": "67b8ae13046a3e71",
   "execution_count": 33
  },
  {
   "cell_type": "code",
   "outputs": [
    {
     "data": {
      "text/plain": "0.6"
     },
     "execution_count": 34,
     "metadata": {},
     "output_type": "execute_result"
    }
   ],
   "source": [
    "delta"
   ],
   "metadata": {
    "collapsed": false,
    "ExecuteTime": {
     "end_time": "2025-05-19T20:59:18.379493Z",
     "start_time": "2025-05-19T20:59:18.370149Z"
    }
   },
   "id": "2f597e4def6a7e07",
   "execution_count": 34
  },
  {
   "cell_type": "code",
   "outputs": [],
   "source": [
    "# x, y = iter_algorithm2(flex_target_range=[0.5, 1.0], discretizations=20)"
   ],
   "metadata": {
    "collapsed": false,
    "ExecuteTime": {
     "end_time": "2025-05-19T20:50:03.699189Z",
     "start_time": "2025-05-19T20:50:03.684606Z"
    }
   },
   "id": "33640a894416c311",
   "execution_count": 10
  },
  {
   "cell_type": "code",
   "outputs": [],
   "source": [
    "# n_t = len(theta_nominal)\n",
    "# n_d = d[0].shape[0] if isinstance(d, list) else d.shape[0] if isinstance(d, np.ndarray) else 0\n",
    "# n_c = A.shape[1] - n_t - n_d\n",
    "# binary_shift = A.shape[1]+2*A.shape[0]\n",
    "# binary_indexes = [i for i in range(binary_shift+1, binary_shift+A.shape[0]+1)]\n",
    "# if n_c < 0:\n",
    "#     raise ValueError('Inconsistent coefficients input')\n",
    "# final_cost = 0\n",
    "# final_design_array = d\n",
    "# print(f'Starting analysis for flexibility target of {flex_target}')"
   ],
   "metadata": {
    "collapsed": false,
    "ExecuteTime": {
     "end_time": "2025-05-19T20:50:03.714412Z",
     "start_time": "2025-05-19T20:50:03.701399Z"
    }
   },
   "id": "e724881ddb6d988d",
   "execution_count": 11
  },
  {
   "cell_type": "code",
   "outputs": [],
   "source": [
    "# z_bounds, bigM = None, 1000"
   ],
   "metadata": {
    "collapsed": false,
    "ExecuteTime": {
     "end_time": "2025-05-19T20:50:03.730060Z",
     "start_time": "2025-05-19T20:50:03.715484Z"
    }
   },
   "id": "44aa368793062f99",
   "execution_count": 12
  },
  {
   "cell_type": "code",
   "outputs": [],
   "source": [
    "# delta_dict, actset_dict, dual_dict, k = dict(), dict(), dict(), 1\n",
    "# # Step 1: Solving active set problem to initialize algorithm\n",
    "# m_as, delta_dict[k], actset_dict[k] =active_set_method(A=A, b=b, theta_nominal=theta_nominal, theta_deviations=theta_deviations, design_vectors=final_design_array, z_bounds=z_bounds, bigM=bigM)\n",
    "# print(f'Active set {k}: {actset_dict[k]}')\n",
    "# print(f'Flexibility index for active set {k}: {delta_dict[k]}')\n",
    "# mrelax_as, dual_dict[k] = model_relaxation(m=m_as, aset=actset_dict[k], n_vars=A.shape[1], n_t=n_t, z_b=z_bounds, n_cons=A.shape[0], n_d=n_d)\n",
    "# # print(f'Dual variables for relaxed active set {k}: {dual_dict[k]}')\n",
    "# if delta_dict[k] >= flex_target:\n",
    "#     print(f'Flexibility Target {flex_target} Achieved')"
   ],
   "metadata": {
    "collapsed": false,
    "ExecuteTime": {
     "end_time": "2025-05-19T20:50:03.745828Z",
     "start_time": "2025-05-19T20:50:03.731104Z"
    }
   },
   "id": "ac1a1bab6f256ea4",
   "execution_count": 13
  },
  {
   "cell_type": "code",
   "outputs": [],
   "source": [
    "# m_as.pprint()"
   ],
   "metadata": {
    "collapsed": false,
    "ExecuteTime": {
     "end_time": "2025-05-19T20:50:03.761658Z",
     "start_time": "2025-05-19T20:50:03.746908Z"
    }
   },
   "id": "93060f878627aaa6",
   "execution_count": 14
  },
  {
   "cell_type": "code",
   "outputs": [],
   "source": [
    "# mrelax_as.pprint()"
   ],
   "metadata": {
    "collapsed": false,
    "ExecuteTime": {
     "end_time": "2025-05-19T20:50:03.777483Z",
     "start_time": "2025-05-19T20:50:03.762826Z"
    }
   },
   "id": "b10de72ebb888c90",
   "execution_count": 15
  },
  {
   "cell_type": "code",
   "outputs": [],
   "source": [
    "# # while delta_dict[k] < flex_target:\n",
    "# k+=1\n",
    "# if not hasattr(m_as,'cuts'):\n",
    "#     m_as.cuts = ConstraintList()\n",
    "# m_as.cuts.add(sum(m_as.var[j] for j in binary_indexes if pyoval(m_as.var[j]==1)) - sum(m_as.var[j] for j in binary_indexes if pyoval(m_as.var[j]==0)) <= n_c)\n",
    "# m_as.cuts.pprint()\n",
    "# SolverFactory('gurobi').solve(m_as)\n",
    "# delta_dict[k] = pyoval(m_as.var[len(m_as.v)])\n",
    "# actset_dict[k] = [j-binary_shift for j in binary_indexes if pyoval(m_as.var[j]) == 1]\n",
    "# print(f'Active set {k}: {actset_dict[k]}')\n",
    "# print(f'Flexibility index for active set {k}: {delta_dict[k]}')\n",
    "# mrelax_as, dual_dict[k] = model_relaxation(m=m_as, aset=actset_dict[k], n_vars=A.shape[1], n_t=n_t, z_b=z_bounds, n_cons=A.shape[0], n_d=n_d)\n",
    "# print(f'Dual variables for relaxed active set {k}: {dual_dict[k]}')"
   ],
   "metadata": {
    "collapsed": false,
    "ExecuteTime": {
     "end_time": "2025-05-19T20:50:03.793343Z",
     "start_time": "2025-05-19T20:50:03.778641Z"
    }
   },
   "id": "f9367aa68c9a3edc",
   "execution_count": 16
  },
  {
   "cell_type": "code",
   "outputs": [],
   "source": [
    "# m_as.pprint()"
   ],
   "metadata": {
    "collapsed": false,
    "ExecuteTime": {
     "end_time": "2025-05-19T20:50:03.825243Z",
     "start_time": "2025-05-19T20:50:03.794391Z"
    }
   },
   "id": "912bf7f680798c2c",
   "execution_count": 17
  },
  {
   "cell_type": "code",
   "outputs": [],
   "source": [
    "# mrelax_as.pprint()"
   ],
   "metadata": {
    "collapsed": false,
    "ExecuteTime": {
     "end_time": "2025-05-19T20:50:03.841054Z",
     "start_time": "2025-05-19T20:50:03.827467Z"
    }
   },
   "id": "8100ed052eb33ded",
   "execution_count": 18
  },
  {
   "cell_type": "code",
   "outputs": [],
   "source": [
    "# # while delta_dict[k] < flex_target:\n",
    "# k+=1\n",
    "# if not hasattr(m_as,'cuts'):\n",
    "#     m_as.cuts = ConstraintList()\n",
    "# m_as.cuts.add(sum(m_as.var[j] for j in binary_indexes if pyoval(m_as.var[j]==1)) - sum(m_as.var[j] for j in binary_indexes if pyoval(m_as.var[j]==0)) <= n_c)\n",
    "# m_as.cuts.pprint()\n",
    "# SolverFactory('gurobi').solve(m_as)\n",
    "# delta_dict[k] = pyoval(m_as.var[len(m_as.v)])\n",
    "# actset_dict[k] = [j-binary_shift for j in binary_indexes if pyoval(m_as.var[j]) == 1]\n",
    "# print(f'Active set {k}: {actset_dict[k]}')\n",
    "# print(f'Flexibility index for active set {k}: {delta_dict[k]}')\n",
    "# mrelax_as, dual_dict[k] = model_relaxation(m=m_as, aset=actset_dict[k], n_cons=A.shape[0], n_t=n_t, z_b=z_bounds)\n",
    "# print(f'Dual variables for relaxed active set {k}: {dual_dict[k]}')"
   ],
   "metadata": {
    "collapsed": false,
    "ExecuteTime": {
     "end_time": "2025-05-19T20:50:03.857019Z",
     "start_time": "2025-05-19T20:50:03.842211Z"
    }
   },
   "id": "9e6675b4aa3837aa",
   "execution_count": 19
  }
 ],
 "metadata": {
  "kernelspec": {
   "display_name": "Python 3",
   "language": "python",
   "name": "python3"
  },
  "language_info": {
   "codemirror_mode": {
    "name": "ipython",
    "version": 2
   },
   "file_extension": ".py",
   "mimetype": "text/x-python",
   "name": "python",
   "nbconvert_exporter": "python",
   "pygments_lexer": "ipython2",
   "version": "2.7.6"
  }
 },
 "nbformat": 4,
 "nbformat_minor": 5
}
