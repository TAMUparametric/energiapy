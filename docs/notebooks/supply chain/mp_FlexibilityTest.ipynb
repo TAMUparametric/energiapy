{
 "cells": [
  {
   "cell_type": "code",
   "outputs": [],
   "source": [
    "from ppopt.mpmodel import MPModeler\n",
    "from ppopt.mp_solvers.solve_mpqp import solve_mpqp, mpqp_algorithm\n",
    "from ppopt.plot import parametric_plot_1D\n",
    "from ppopt.plot import parametric_plot\n",
    "from ppopt.mpqp_program import MPLP_Program\n",
    "import numpy"
   ],
   "metadata": {
    "collapsed": false,
    "ExecuteTime": {
     "end_time": "2025-05-09T20:49:38.669512Z",
     "start_time": "2025-05-09T20:49:38.663220Z"
    }
   },
   "id": "20200e0a32b35224",
   "execution_count": 7
  },
  {
   "cell_type": "code",
   "outputs": [],
   "source": [
    "A = numpy.array([[1, 1, 0, 0], [0, 0, 1, 1], [-1, 0, -1, 0], [0, -1, 0, -1], [-1, 0, 0, 0], [0, -1, 0, 0], [0, 0, -1, 0], [0, 0, 0, -1]])\n",
    "b = numpy.array([350, 600, 0, 0, 0, 0, 0, 0]).reshape(8, 1)\n",
    "c = numpy.array([178, 187, 187, 151]).reshape(-1,1)\n",
    "F = numpy.array([[0, 0], [0, 0], [-1, 0], [0, -1], [0, 0], [0, 0], [0, 0], [0, 0]])\n",
    "CRa = numpy.vstack((numpy.eye(2), -numpy.eye(2)))\n",
    "CRb = numpy.array([1000, 1000, 0, 0]).reshape(4, 1)\n",
    "H = numpy.zeros((A.shape[1],F.shape[1]))\n",
    "\n",
    "prog = MPLP_Program(A, b, c, H, CRa, CRb, F)"
   ],
   "metadata": {
    "collapsed": false,
    "ExecuteTime": {
     "end_time": "2025-05-09T20:49:38.685356Z",
     "start_time": "2025-05-09T20:49:38.670573Z"
    }
   },
   "id": "361af2b31ca08403",
   "execution_count": 8
  },
  {
   "cell_type": "code",
   "outputs": [],
   "source": [
    "# # make a mpp modeler\n",
    "# m = MPModeler()\n",
    "# \n",
    "# # add variables and parameter\n",
    "# u = m.add_var(name='u')\n",
    "# z = m.add_var(name='z')\n",
    "# t1 = m.add_param(name='t1')\n",
    "# t3 = m.add_param(name='t3')\n",
    "# t5 = m.add_param(name='t5')\n",
    "# t8 = m.add_param(name='t8')\n",
    "# \n",
    "# # add operability constraints\n",
    "# m.add_constr(-z/1.5 - u <= 350 - t3)\n",
    "# m.add_constr(-0.5*z - u <= -1388.5 + 0.75*t1 + t3 + t5)\n",
    "# m.add_constr(z - u <= -2830 +1.5*t1 + 2*t3 + t5 + 2*t8)\n",
    "# m.add_constr(z - u <= -2044 + 1.5*t1 + 2*t3 + t5)\n",
    "# m.add_constr(-z - u <= 3153 - 1.5*t1 - 2*t3 - t5 - 3*t8)\n",
    "# \n",
    "# # add constraints on the uncertainty\n",
    "# m.add_constr(t1 <= 630)\n",
    "# m.add_constr(t1 >= 610)\n",
    "# m.add_constr(t3 <= 398)\n",
    "# m.add_constr(t3 >= 378)\n",
    "# m.add_constr(t5 <= 593)\n",
    "# m.add_constr(t5 >= 573)\n",
    "# m.add_constr(t8 <= 323)\n",
    "# m.add_constr(t8 >= 303)\n",
    "# \n",
    "# # set objective\n",
    "# m.set_objective(u)\n",
    "# \n",
    "# # formulate the model\n",
    "# prob = m.formulate_problem()\n",
    "# prob.process_constraints()"
   ],
   "metadata": {
    "collapsed": true,
    "ExecuteTime": {
     "end_time": "2025-05-09T20:49:38.700610Z",
     "start_time": "2025-05-09T20:49:38.686430Z"
    }
   },
   "id": "initial_id",
   "execution_count": 9
  },
  {
   "cell_type": "code",
   "outputs": [],
   "source": [
    "solution = solve_mpqp(prog, mpqp_algorithm.combinatorial)"
   ],
   "metadata": {
    "collapsed": false,
    "ExecuteTime": {
     "end_time": "2025-05-09T20:49:38.807932Z",
     "start_time": "2025-05-09T20:49:38.701690Z"
    }
   },
   "id": "36c8a622cf876530",
   "execution_count": 10
  },
  {
   "cell_type": "code",
   "outputs": [
    {
     "data": {
      "text/plain": "Solution(program=<ppopt.mplp_program.MPLP_Program object at 0x000001F0D5846F50>, critical_regions=[Critical region with active set [0, 2, 3, 5]\nThe Omega Constraint indices are [1]\nThe Lagrange multipliers Constraint indices are []\nThe Regular Constraint indices are [[0, 2, 3], [1, 6, 7]]\n  x(θ) = Aθ + b \n λ(θ) = Cθ + d \n  Eθ <= f\n A = [[ 4.58048712e-16 -1.06619662e-16]\n [ 1.06022803e-16  1.77142197e-16]\n [ 1.00000000e+00  1.28197512e-16]\n [-1.28197512e-16  1.00000000e+00]] \n b = [[ 3.50000000e+02]\n [-6.86915451e-14]\n [-3.50000000e+02]\n [ 0.00000000e+00]] \n C = [[0. 0.]\n [0. 0.]\n [0. 0.]\n [0. 0.]] \n d = [[ 12.72792206]\n [323.89350102]\n [261.53967194]\n [ 45.        ]] \n E = [[ 7.07106781e-01  7.07106781e-01]\n [-1.00000000e+00 -1.28197512e-16]\n [ 1.28197512e-16 -1.00000000e+00]\n [-0.00000000e+00 -1.00000000e+00]] \n f = [[ 671.75144213]\n [-350.        ]\n [   0.        ]\n [   0.        ]], Critical region with active set [1, 2, 3, 6]\nThe Omega Constraint indices are [0]\nThe Lagrange multipliers Constraint indices are []\nThe Regular Constraint indices are [[0, 1, 2], [0, 4, 5]]\n  x(θ) = Aθ + b \n λ(θ) = Cθ + d \n  Eθ <= f\n A = [[ 1.00000000e+00  2.56395025e-16]\n [ 0.00000000e+00  1.00000000e+00]\n [-2.32507550e-16 -7.02365506e-19]\n [-3.34679192e-17 -1.05676167e-16]] \n b = [[-4.71027738e-14]\n [-6.00000000e+02]\n [ 2.35513869e-14]\n [ 6.00000000e+02]] \n C = [[0. 0.]\n [0. 0.]\n [0. 0.]\n [0. 0.]] \n d = [[ 50.91168825]\n [308.30504375]\n [323.89350102]\n [ 45.        ]] \n E = [[ 7.07106781e-01  7.07106781e-01]\n [-1.00000000e+00 -2.56395025e-16]\n [ 0.00000000e+00 -1.00000000e+00]\n [-1.00000000e+00 -0.00000000e+00]] \n f = [[ 6.71751442e+02]\n [-4.71027738e-14]\n [-6.00000000e+02]\n [ 0.00000000e+00]], Critical region with active set [2, 3, 5, 6]\nThe Omega Constraint indices are [0, 1]\nThe Lagrange multipliers Constraint indices are []\nThe Regular Constraint indices are [[0, 1, 2, 3], [0, 1, 4, 7]]\n  x(θ) = Aθ + b \n λ(θ) = Cθ + d \n  Eθ <= f\n A = [[1.00000000e+00 0.00000000e+00]\n [0.00000000e+00 0.00000000e+00]\n [6.40987562e-17 0.00000000e+00]\n [0.00000000e+00 1.00000000e+00]] \n b = [[0.]\n [0.]\n [0.]\n [0.]] \n C = [[0. 0.]\n [0. 0.]\n [0. 0.]\n [0. 0.]] \n d = [[308.30504375]\n [261.53967194]\n [ 36.        ]\n [  9.        ]] \n E = [[ 1.00000000e+00  0.00000000e+00]\n [ 6.40987562e-17  1.00000000e+00]\n [-1.00000000e+00  0.00000000e+00]\n [ 0.00000000e+00 -1.00000000e+00]] \n f = [[350.]\n [600.]\n [  0.]\n [  0.]]])"
     },
     "execution_count": 11,
     "metadata": {},
     "output_type": "execute_result"
    }
   ],
   "source": [
    "solution"
   ],
   "metadata": {
    "collapsed": false,
    "ExecuteTime": {
     "end_time": "2025-05-09T20:49:38.823066Z",
     "start_time": "2025-05-09T20:49:38.808960Z"
    }
   },
   "id": "7413a6a3c606235b",
   "execution_count": 11
  },
  {
   "cell_type": "code",
   "outputs": [
    {
     "data": {
      "text/plain": "<Figure size 640x480 with 1 Axes>",
      "image/png": "[encoded data removed]"
     },
     "metadata": {},
     "output_type": "display_data"
    }
   ],
   "source": [
    "parametric_plot(solution, save_path='transport', save_format='svg', show=True)"
   ],
   "metadata": {
    "collapsed": false,
    "ExecuteTime": {
     "end_time": "2025-05-09T20:49:38.917739Z",
     "start_time": "2025-05-09T20:49:38.825164Z"
    }
   },
   "id": "ba033a6b88aa7ad6",
   "execution_count": 12
  },
  {
   "cell_type": "code",
   "outputs": [],
   "source": [],
   "metadata": {
    "collapsed": false,
    "ExecuteTime": {
     "end_time": "2025-05-09T20:49:38.932948Z",
     "start_time": "2025-05-09T20:49:38.918773Z"
    }
   },
   "id": "7233c388e56bb72f",
   "execution_count": 12
  }
 ],
 "metadata": {
  "kernelspec": {
   "display_name": "Python 3",
   "language": "python",
   "name": "python3"
  },
  "language_info": {
   "codemirror_mode": {
    "name": "ipython",
    "version": 2
   },
   "file_extension": ".py",
   "mimetype": "text/x-python",
   "name": "python",
   "nbconvert_exporter": "python",
   "pygments_lexer": "ipython2",
   "version": "2.7.6"
  }
 },
 "nbformat": 4,
 "nbformat_minor": 5
}
