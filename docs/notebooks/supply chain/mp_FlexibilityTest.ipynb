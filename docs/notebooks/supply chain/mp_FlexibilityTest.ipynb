{
 "cells": [
  {
   "cell_type": "code",
   "source": [
    "from ppopt.mpmodel import MPModeler\n",
    "from ppopt.mp_solvers.solve_mpqp import solve_mpqp, mpqp_algorithm\n",
    "from ppopt.plot import parametric_plot_1D\n",
    "from ppopt.plot import parametric_plot\n",
    "from ppopt.mpqp_program import MPLP_Program\n",
    "import numpy as np"
   ],
   "metadata": {
    "collapsed": false,
    "ExecuteTime": {
     "end_time": "2025-05-21T15:06:59.502226Z",
     "start_time": "2025-05-21T15:06:59.488007Z"
    }
   },
   "id": "20200e0a32b35224",
   "outputs": [],
   "execution_count": 17
  },
  {
   "cell_type": "code",
   "source": [
    "# A = numpy.array([[1, 1, 0, 0], [0, 0, 1, 1], [-1, 0, -1, 0], [0, -1, 0, -1], [-1, 0, 0, 0], [0, -1, 0, 0], [0, 0, -1, 0], [0, 0, 0, -1]])\n",
    "# b = numpy.array([350, 600, 0, 0, 0, 0, 0, 0]).reshape(8, 1)\n",
    "# c = numpy.array([178, 187, 187, 151]).reshape(-1,1)\n",
    "# F = numpy.array([[0, 0], [0, 0], [-1, 0], [0, -1], [0, 0], [0, 0], [0, 0], [0, 0]])\n",
    "# CRa = numpy.vstack((numpy.eye(2), -numpy.eye(2)))\n",
    "# CRb = numpy.array([1000, 1000, 0, 0]).reshape(4, 1)\n",
    "# H = numpy.zeros((A.shape[1],F.shape[1]))\n",
    "# \n",
    "# prog = MPLP_Program(A, b, c, H, CRa, CRb, F)"
   ],
   "metadata": {
    "collapsed": false,
    "ExecuteTime": {
     "end_time": "2025-05-21T15:02:39.303396Z",
     "start_time": "2025-05-21T15:02:39.297934Z"
    }
   },
   "id": "361af2b31ca08403",
   "outputs": [],
   "execution_count": 2
  },
  {
   "cell_type": "code",
   "outputs": [],
   "source": [
    "m = MPModeler()\n",
    "\n",
    "x = m.add_var(name='x')\n",
    "z = m.add_var(name='z')\n",
    "u = m.add_var(name='u')\n",
    "\n",
    "t1 = m.add_param(name='t1')\n",
    "t2 = m.add_param(name='t2')\n",
    "d1 = m.add_param(name='d1')\n",
    "d2 = m.add_param(name='d2')"
   ],
   "metadata": {
    "collapsed": false,
    "ExecuteTime": {
     "end_time": "2025-05-21T15:02:39.318676Z",
     "start_time": "2025-05-21T15:02:39.305090Z"
    }
   },
   "id": "efc3a1b8151490d3",
   "execution_count": 3
  },
  {
   "cell_type": "code",
   "outputs": [],
   "source": [
    "m.add_constr(-2*x +3*z == 50 +t1 - d2)\n",
    "m.add_constr(x - z/2 -u <= -25 +t1/2 -t2/2 -d1 +7*d2/2)\n",
    "m.add_constr(-2*x +2*z -u <= -151/3 +4*t1/3 +t2 -2*d2)\n",
    "m.add_constr(-x + 5*z/2 -u <= 26 -t1/2 +t2 +d1 -d2/2)\n",
    "m.add_constr(0 <= x)\n",
    "m.add_constr(0 <= z)\n",
    "m.add_constr(0 <= t1)\n",
    "m.add_constr(0 <= t2)\n",
    "m.add_constr(0 <= d1)\n",
    "m.add_constr(0 <= d2)\n",
    "m.add_constr(t1 <= 4)\n",
    "m.add_constr(t2 <= 4)\n",
    "m.add_constr(d1 <= 5)\n",
    "m.add_constr(d2 <= 5)"
   ],
   "metadata": {
    "collapsed": false,
    "ExecuteTime": {
     "end_time": "2025-05-21T15:02:39.334304Z",
     "start_time": "2025-05-21T15:02:39.319748Z"
    }
   },
   "id": "177a94249ffe336f",
   "execution_count": 4
  },
  {
   "cell_type": "code",
   "outputs": [],
   "source": [
    "m.set_objective(u-50)"
   ],
   "metadata": {
    "collapsed": false,
    "ExecuteTime": {
     "end_time": "2025-05-21T15:02:39.350213Z",
     "start_time": "2025-05-21T15:02:39.336521Z"
    }
   },
   "id": "5c28cb9fbac25de4",
   "execution_count": 5
  },
  {
   "cell_type": "code",
   "outputs": [
    {
     "name": "stdout",
     "output_type": "stream",
     "text": [
      "Set parameter Username\n",
      "Academic license - for non-commercial use only - expires 2025-12-20\n"
     ]
    }
   ],
   "source": [
    "prob = m.formulate_problem()\n",
    "prob.process_constraints()"
   ],
   "metadata": {
    "collapsed": false,
    "ExecuteTime": {
     "end_time": "2025-05-21T15:02:40.420013Z",
     "start_time": "2025-05-21T15:02:39.351290Z"
    }
   },
   "id": "766c67c4c2107d93",
   "execution_count": 6
  },
  {
   "cell_type": "code",
   "outputs": [],
   "source": [
    "solution = solve_mpqp(prob, mpqp_algorithm.combinatorial)"
   ],
   "metadata": {
    "collapsed": false,
    "ExecuteTime": {
     "end_time": "2025-05-21T15:02:40.451671Z",
     "start_time": "2025-05-21T15:02:40.421055Z"
    }
   },
   "id": "f989d3bb4ffc0514",
   "execution_count": 7
  },
  {
   "cell_type": "code",
   "outputs": [
    {
     "data": {
      "text/plain": "Solution(program=<ppopt.mplp_program.MPLP_Program object at 0x000002427813FEB0>, critical_regions=[Critical region with active set [0, 1, 2]\nThe Omega Constraint indices are [0, 1, 2, 3, 4, 5, 6, 7]\nThe Lagrange multipliers Constraint indices are []\nThe Regular Constraint indices are [[0], [3]]\n  x(θ) = Aθ + b \n λ(θ) = Cθ + d \n  Eθ <= f\n A = [[ 3.21472965e-16 -1.12500000e+00 -7.50000000e-01  3.50000000e+00]\n [ 3.33333333e-01 -7.50000000e-01 -5.00000000e-01  2.00000000e+00]\n [-6.66666667e-01 -2.50000000e-01  5.00000000e-01 -1.00000000e+00]] \n b = [[50.25      ]\n [50.16666667]\n [50.16666667]] \n C = [[0. 0. 0. 0.]\n [0. 0. 0. 0.]\n [0. 0. 0. 0.]] \n d = [[-0.96824584]\n [ 2.        ]\n [ 1.98606255]] \n E = [[ 0.45584231 -0.34188173 -0.45584231  0.68376346]\n [-1.          0.          0.          0.        ]\n [ 0.         -1.          0.          0.        ]\n [ 0.          0.         -1.          0.        ]\n [ 0.          0.          0.         -1.        ]\n [ 1.          0.          0.          0.        ]\n [ 0.          1.          0.          0.        ]\n [ 0.          0.          1.          0.        ]\n [ 0.          0.          0.          1.        ]] \n f = [[ 0.22792115]\n [-0.        ]\n [-0.        ]\n [-0.        ]\n [-0.        ]\n [ 4.        ]\n [ 4.        ]\n [ 5.        ]\n [ 5.        ]], Critical region with active set [0, 2, 3]\nThe Omega Constraint indices are [0, 1, 2, 3, 4, 5, 6, 7]\nThe Lagrange multipliers Constraint indices are []\nThe Regular Constraint indices are [[0], [1]]\n  x(θ) = Aθ + b \n λ(θ) = Cθ + d \n  Eθ <= f\n A = [[-1.50000000e+00 -9.73105768e-17  7.50000000e-01  1.25000000e+00]\n [-6.66666667e-01 -1.03358486e-16  5.00000000e-01  5.00000000e-01]\n [ 3.33333333e-01 -1.00000000e+00 -5.00000000e-01  5.00000000e-01]] \n b = [[51.        ]\n [50.66666667]\n [49.66666667]] \n C = [[0. 0. 0. 0.]\n [0. 0. 0. 0.]\n [0. 0. 0. 0.]] \n d = [[-2.90473751]\n [ 1.98606255]\n [ 1.63935963]] \n E = [[-0.45584231  0.34188173  0.45584231 -0.68376346]\n [-1.          0.          0.          0.        ]\n [ 0.         -1.          0.          0.        ]\n [ 0.          0.         -1.          0.        ]\n [ 0.          0.          0.         -1.        ]\n [ 1.          0.          0.          0.        ]\n [ 0.          1.          0.          0.        ]\n [ 0.          0.          1.          0.        ]\n [ 0.          0.          0.          1.        ]] \n f = [[-0.22792115]\n [-0.        ]\n [-0.        ]\n [-0.        ]\n [-0.        ]\n [ 4.        ]\n [ 4.        ]\n [ 5.        ]\n [ 5.        ]]])"
     },
     "execution_count": 13,
     "metadata": {},
     "output_type": "execute_result"
    }
   ],
   "source": [
    "solution"
   ],
   "metadata": {
    "collapsed": false,
    "ExecuteTime": {
     "end_time": "2025-05-21T15:03:03.435781Z",
     "start_time": "2025-05-21T15:03:03.420805Z"
    }
   },
   "id": "8f213236ddc1eec",
   "execution_count": 13
  },
  {
   "cell_type": "code",
   "source": [
    "# # make a mpp modeler\n",
    "# m = MPModeler()\n",
    "# \n",
    "# # add variables and parameter\n",
    "# u = m.add_var(name='u')\n",
    "# z = m.add_var(name='z')\n",
    "# t1 = m.add_param(name='t1')\n",
    "# t3 = m.add_param(name='t3')\n",
    "# t5 = m.add_param(name='t5')\n",
    "# t8 = m.add_param(name='t8')\n",
    "# \n",
    "# # add operability constraints\n",
    "# m.add_constr(-z/1.5 - u <= 350 - t3)\n",
    "# m.add_constr(-0.5*z - u <= -1388.5 + 0.75*t1 + t3 + t5)\n",
    "# m.add_constr(z - u <= -2830 +1.5*t1 + 2*t3 + t5 + 2*t8)\n",
    "# m.add_constr(z - u <= -2044 + 1.5*t1 + 2*t3 + t5)\n",
    "# m.add_constr(-z - u <= 3153 - 1.5*t1 - 2*t3 - t5 - 3*t8)\n",
    "# \n",
    "# # add constraints on the uncertainty\n",
    "# m.add_constr(t1 <= 630)\n",
    "# m.add_constr(t1 >= 610)\n",
    "# m.add_constr(t3 <= 398)\n",
    "# m.add_constr(t3 >= 378)\n",
    "# m.add_constr(t5 <= 593)\n",
    "# m.add_constr(t5 >= 573)\n",
    "# m.add_constr(t8 <= 323)\n",
    "# m.add_constr(t8 >= 303)\n",
    "# \n",
    "# # set objective\n",
    "# m.set_objective(u)\n",
    "# \n",
    "# # formulate the model\n",
    "# prob = m.formulate_problem()\n",
    "# prob.process_constraints()"
   ],
   "metadata": {
    "collapsed": true,
    "ExecuteTime": {
     "end_time": "2025-05-21T15:02:40.482991Z",
     "start_time": "2025-05-21T15:02:40.468453Z"
    }
   },
   "id": "initial_id",
   "outputs": [],
   "execution_count": 9
  },
  {
   "cell_type": "code",
   "source": [
    "# solution = solve_mpqp(prog, mpqp_algorithm.combinatorial)"
   ],
   "metadata": {
    "collapsed": false,
    "ExecuteTime": {
     "end_time": "2025-05-21T15:02:40.498898Z",
     "start_time": "2025-05-21T15:02:40.484060Z"
    }
   },
   "id": "36c8a622cf876530",
   "outputs": [],
   "execution_count": 10
  },
  {
   "cell_type": "code",
   "source": [
    "# solution"
   ],
   "metadata": {
    "collapsed": false,
    "ExecuteTime": {
     "end_time": "2025-05-21T15:02:40.514929Z",
     "start_time": "2025-05-21T15:02:40.499950Z"
    }
   },
   "id": "7413a6a3c606235b",
   "outputs": [],
   "execution_count": 11
  },
  {
   "cell_type": "code",
   "source": [
    "# parametric_plot(solution, save_path='transport', save_format='svg', show=True)"
   ],
   "metadata": {
    "collapsed": false,
    "ExecuteTime": {
     "end_time": "2025-05-21T15:02:40.530086Z",
     "start_time": "2025-05-21T15:02:40.516036Z"
    }
   },
   "id": "ba033a6b88aa7ad6",
   "outputs": [],
   "execution_count": 12
  },
  {
   "metadata": {
    "ExecuteTime": {
     "end_time": "2025-05-21T15:09:46.503850Z",
     "start_time": "2025-05-21T15:09:46.488487Z"
    }
   },
   "cell_type": "code",
   "source": [
    "x = solution.evaluate_objective(np.array([0,0,0,0]))"
   ],
   "id": "88253848dd3998ef",
   "outputs": [],
   "execution_count": 22
  },
  {
   "cell_type": "code",
   "outputs": [
    {
     "data": {
      "text/plain": "0.1666666666666785"
     },
     "execution_count": 23,
     "metadata": {},
     "output_type": "execute_result"
    }
   ],
   "source": [
    "x"
   ],
   "metadata": {
    "collapsed": false,
    "ExecuteTime": {
     "end_time": "2025-05-21T15:09:46.987441Z",
     "start_time": "2025-05-21T15:09:46.978017Z"
    }
   },
   "id": "bcaef40dd0d3bd25",
   "execution_count": 23
  },
  {
   "cell_type": "code",
   "outputs": [],
   "source": [],
   "metadata": {
    "collapsed": false
   },
   "id": "c527f6e65aeb0463"
  }
 ],
 "metadata": {
  "kernelspec": {
   "display_name": "Python 3",
   "language": "python",
   "name": "python3"
  },
  "language_info": {
   "codemirror_mode": {
    "name": "ipython",
    "version": 2
   },
   "file_extension": ".py",
   "mimetype": "text/x-python",
   "name": "python",
   "nbconvert_exporter": "python",
   "pygments_lexer": "ipython2",
   "version": "2.7.6"
  }
 },
 "nbformat": 4,
 "nbformat_minor": 5
}
