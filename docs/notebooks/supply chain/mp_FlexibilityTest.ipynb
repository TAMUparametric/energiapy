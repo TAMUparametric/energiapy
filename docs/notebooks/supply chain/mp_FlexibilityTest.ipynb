{
 "cells": [
  {
   "cell_type": "code",
   "execution_count": 32,
   "id": "31070e08af68517d",
   "metadata": {
    "collapsed": false,
    "ExecuteTime": {
     "end_time": "2025-05-08T21:09:45.330685Z",
     "start_time": "2025-05-08T21:09:45.313738Z"
    }
   },
   "outputs": [],
   "source": [
    "from ppopt.mpmodel import MPModeler\n",
    "from ppopt.mp_solvers.solve_mpqp import solve_mpqp, mpqp_algorithm\n",
    "from ppopt.plot import parametric_plot_1D\n",
    "from ppopt.plot import parametric_plot"
   ]
  },
  {
   "cell_type": "code",
   "outputs": [],
   "source": [
    "# make a mpp modeler\n",
    "m = MPModeler()\n",
    "\n",
    "# add variables and parameter\n",
    "u = m.add_var(name='u')\n",
    "z = m.add_var(name='z')\n",
    "t1 = m.add_param(name='t1')\n",
    "t3 = m.add_param(name='t3')\n",
    "t5 = m.add_param(name='t5')\n",
    "t8 = m.add_param(name='t8')\n",
    "\n",
    "# add operability constraints\n",
    "m.add_constr(-z/1.5 - u <= 350 - t3)\n",
    "m.add_constr(-0.5*z - u <= -1388.5 + 0.75*t1 + t3 + t5)\n",
    "m.add_constr(z - u <= -2830 +1.5*t1 + 2*t3 + t5 + 2*t8)\n",
    "m.add_constr(z - u <= -2044 + 1.5*t1 + 2*t3 + t5)\n",
    "m.add_constr(-z - u <= 3153 - 1.5*t1 - 2*t3 - t5 - 3*t8)\n",
    "\n",
    "# add constraints on the uncertainty\n",
    "m.add_constr(t1 <= 630)\n",
    "m.add_constr(t1 >= 610)\n",
    "m.add_constr(t3 <= 398)\n",
    "m.add_constr(t3 >= 378)\n",
    "m.add_constr(t5 <= 593)\n",
    "m.add_constr(t5 >= 573)\n",
    "m.add_constr(t8 <= 323)\n",
    "m.add_constr(t8 >= 303)\n",
    "\n",
    "# set objective\n",
    "m.set_objective(u)\n",
    "\n",
    "# formulate the model\n",
    "prob = m.formulate_problem()\n",
    "prob.process_constraints()"
   ],
   "metadata": {
    "collapsed": true,
    "ExecuteTime": {
     "end_time": "2025-05-08T21:09:45.361526Z",
     "start_time": "2025-05-08T21:09:45.331756Z"
    }
   },
   "id": "initial_id",
   "execution_count": 33
  },
  {
   "cell_type": "code",
   "outputs": [],
   "source": [
    "solution = solve_mpqp(prob, mpqp_algorithm.combinatorial)"
   ],
   "metadata": {
    "collapsed": false,
    "ExecuteTime": {
     "end_time": "2025-05-08T21:09:45.392518Z",
     "start_time": "2025-05-08T21:09:45.362613Z"
    }
   },
   "id": "36c8a622cf876530",
   "execution_count": 34
  },
  {
   "cell_type": "code",
   "outputs": [
    {
     "data": {
      "text/plain": "Solution(program=<ppopt.mplp_program.MPLP_Program object at 0x000002C49A8793C0>, critical_regions=[Critical region with active set [0, 1]\nThe Omega Constraint indices are [0, 1, 2, 3, 4, 5, 7]\nThe Lagrange multipliers Constraint indices are []\nThe Regular Constraint indices are [[0], [2]]\n  x(θ) = Aθ + b \n λ(θ) = Cθ + d \n  Eθ <= f\n A = [[-0.6 -0.2 -0.4 -0.8]\n [ 0.9  1.8  0.6  1.2]] \n b = [[  922.]\n [-1908.]] \n C = [[0. 0. 0. 0.]\n [0. 0. 0. 0.]] \n d = [[0.93808315]\n [1.45602198]] \n E = [[ 0.4         0.13333333  0.26666667  0.86666667]\n [ 1.          0.          0.          0.        ]\n [-1.          0.          0.          0.        ]\n [ 0.          1.          0.          0.        ]\n [ 0.         -1.          0.          0.        ]\n [ 0.          0.          1.          0.        ]\n [ 0.          0.         -1.          0.        ]\n [ 0.          0.          0.         -1.        ]] \n f = [[ 722.33333333]\n [ 630.        ]\n [-610.        ]\n [ 398.        ]\n [-378.        ]\n [ 593.        ]\n [-573.        ]\n [-303.        ]], Critical region with active set [1, 2]\nThe Omega Constraint indices are [0, 1, 2, 3, 4, 5, 6, 7]\nThe Lagrange multipliers Constraint indices are []\nThe Regular Constraint indices are [[0], [0]]\n  x(θ) = Aθ + b \n λ(θ) = Cθ + d \n  Eθ <= f\n A = [[1.11022302e-16 2.22044605e-16 1.11022302e-16 5.00000000e-01]\n [1.50000000e+00 2.00000000e+00 1.00000000e+00 2.50000000e+00]] \n b = [[ -161.5]\n [-2991.5]] \n C = [[0. 0. 0. 0.]\n [0. 0. 0. 0.]] \n d = [[1.82002747]\n [2.13600094]] \n E = [[-0.4        -0.13333333 -0.26666667 -0.86666667]\n [ 1.          0.          0.          0.        ]\n [-1.          0.          0.          0.        ]\n [ 0.          1.          0.          0.        ]\n [ 0.         -1.          0.          0.        ]\n [ 0.          0.          1.          0.        ]\n [ 0.          0.         -1.          0.        ]\n [ 0.          0.          0.          1.        ]\n [ 0.          0.          0.         -1.        ]] \n f = [[-722.33333333]\n [ 630.        ]\n [-610.        ]\n [ 398.        ]\n [-378.        ]\n [ 593.        ]\n [-573.        ]\n [ 323.        ]\n [-303.        ]]])"
     },
     "execution_count": 35,
     "metadata": {},
     "output_type": "execute_result"
    }
   ],
   "source": [
    "solution"
   ],
   "metadata": {
    "collapsed": false,
    "ExecuteTime": {
     "end_time": "2025-05-08T21:09:45.408227Z",
     "start_time": "2025-05-08T21:09:45.393607Z"
    }
   },
   "id": "7413a6a3c606235b",
   "execution_count": 35
  },
  {
   "cell_type": "code",
   "outputs": [],
   "source": [
    "# sol = solve_mpqp(prob, mpqp_algorithm.geometric)"
   ],
   "metadata": {
    "collapsed": false,
    "ExecuteTime": {
     "end_time": "2025-05-08T21:09:45.423304Z",
     "start_time": "2025-05-08T21:09:45.409834Z"
    }
   },
   "id": "e60262d016cce50e",
   "execution_count": 36
  },
  {
   "cell_type": "code",
   "outputs": [],
   "source": [
    "# parametric_plot(sol, save_path='transport', save_format='svg', show=True)"
   ],
   "metadata": {
    "collapsed": false,
    "ExecuteTime": {
     "end_time": "2025-05-08T21:09:45.438968Z",
     "start_time": "2025-05-08T21:09:45.424380Z"
    }
   },
   "id": "ba033a6b88aa7ad6",
   "execution_count": 37
  },
  {
   "cell_type": "code",
   "outputs": [],
   "source": [
    "# sol"
   ],
   "metadata": {
    "collapsed": false,
    "ExecuteTime": {
     "end_time": "2025-05-08T21:09:45.454319Z",
     "start_time": "2025-05-08T21:09:45.440084Z"
    }
   },
   "id": "b6abb9fad813feae",
   "execution_count": 38
  },
  {
   "cell_type": "code",
   "outputs": [],
   "source": [],
   "metadata": {
    "collapsed": false,
    "ExecuteTime": {
     "end_time": "2025-05-08T21:09:45.469104Z",
     "start_time": "2025-05-08T21:09:45.455407Z"
    }
   },
   "id": "7233c388e56bb72f",
   "execution_count": 38
  }
 ],
 "metadata": {
  "kernelspec": {
   "display_name": "Python 3",
   "language": "python",
   "name": "python3"
  },
  "language_info": {
   "codemirror_mode": {
    "name": "ipython",
    "version": 2
   },
   "file_extension": ".py",
   "mimetype": "text/x-python",
   "name": "python",
   "nbconvert_exporter": "python",
   "pygments_lexer": "ipython2",
   "version": "2.7.6"
  }
 },
 "nbformat": 4,
 "nbformat_minor": 5
}
