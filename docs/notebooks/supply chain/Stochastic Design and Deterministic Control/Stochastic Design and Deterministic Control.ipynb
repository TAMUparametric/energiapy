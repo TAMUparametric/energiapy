{
 "cells": [
  {
   "cell_type": "code",
   "id": "initial_id",
   "metadata": {
    "collapsed": true,
    "is_executing": true,
    "ExecuteTime": {
     "end_time": "2025-04-18T02:05:53.454389Z",
     "start_time": "2025-04-18T02:05:53.447846Z"
    }
   },
   "source": [
    "import sys\n",
    "sys.path.append(\"../../../../src\")\n",
    "sys.path.append('../../../../../mpisppy')\n",
    "import pandas\n",
    "import random\n",
    "import math\n",
    "from energiapy.components.temporal_scale import TemporalScale\n",
    "from energiapy.components.resource import Resource, VaryingResource\n",
    "from energiapy.components.process import Process, ProcessMode, VaryingProcess\n",
    "from energiapy.components.location import Location\n",
    "from energiapy.components.transport import Transport, VaryingTransport\n",
    "from energiapy.components.network import Network\n",
    "from energiapy.components.scenario import Scenario\n",
    "from energiapy.model.constraints.demand import constraint_demand_lb\n",
    "from energiapy.components.result import Result\n",
    "from energiapy.model.formulate import formulate, Constraints, Objective\n",
    "from energiapy.plot import plot_results, plot_scenario, plot_location\n",
    "from energiapy.model.solve import solve\n",
    "from pyomo.environ import Param\n",
    "from pyomo.environ import value as pyo_val\n",
    "from energiapy.utils.scale_utils import scale_pyomo_set, scale_tuple, scale_list, scale_changer\n",
    "import matplotlib.pyplot as plt\n",
    "from matplotlib import rc\n",
    "from typing import Union, Tuple, List\n",
    "from pyomo.environ import ConcreteModel, Var, Constraint, NonNegativeReals\n",
    "from pyomo.contrib.iis import write_iis\n",
    "import time\n",
    "from mpisppy.utils import sputils \n",
    "from mpisppy.opt.ef import ExtensiveForm\n",
    "import networkx as nx"
   ],
   "outputs": [],
   "execution_count": 2
  },
  {
   "cell_type": "code",
   "source": [
    "schedule_time_intervals = 7  # Number of time intervals in a planning horizon\n",
    "_coms = 1\n",
    "design_exec_scenarios = 4  # Number of execution scenarios\n",
    "schedule_exec_scenarios = 52\n",
    "\n",
    "M = 1e3  # Big M\n",
    "# Define temporal scales\n",
    "# scales = TemporalScale(discretization_list=[_exec_scenarios, _time_intervals])\n",
    "design_annualization_factor = 1/design_exec_scenarios\n",
    "schedule_annualization_factor = 1/schedule_exec_scenarios"
   ],
   "metadata": {
    "collapsed": false,
    "is_executing": true,
    "ExecuteTime": {
     "end_time": "2025-04-18T02:05:53.497243Z",
     "start_time": "2025-04-18T02:05:53.495177Z"
    }
   },
   "id": "8064313dff327b3e",
   "outputs": [],
   "execution_count": 3
  },
  {
   "metadata": {
    "is_executing": true,
    "ExecuteTime": {
     "end_time": "2025-04-18T02:05:53.522321Z",
     "start_time": "2025-04-18T02:05:53.520299Z"
    }
   },
   "cell_type": "code",
   "source": [
    "def create_list(n_total: int, n: int):\n",
    "    return [1] * n + [0] * (n_total - n)"
   ],
   "id": "4caed47492871f2c",
   "outputs": [],
   "execution_count": 4
  },
  {
   "metadata": {
    "is_executing": true,
    "ExecuteTime": {
     "end_time": "2025-04-18T02:05:53.546719Z",
     "start_time": "2025-04-18T02:05:53.543958Z"
    }
   },
   "cell_type": "code",
   "source": [
    "def sum_probabilities(d:dict):\n",
    "    total_prob = 0\n",
    "\n",
    "    def recursive_sum(current_dict:dict):\n",
    "        nonlocal total_prob\n",
    "        for key, value in current_dict.items():\n",
    "            if isinstance(value, dict):\n",
    "                # Recursively traverse if it's still a dictionary\n",
    "                recursive_sum(value)\n",
    "            elif key == 'prob':\n",
    "                # Add the probability value\n",
    "                total_prob += value\n",
    "\n",
    "    recursive_sum(d)\n",
    "    return total_prob"
   ],
   "id": "f2ea693deb3e5953",
   "outputs": [],
   "execution_count": 5
  },
  {
   "metadata": {
    "is_executing": true,
    "ExecuteTime": {
     "end_time": "2025-04-18T02:05:53.563714Z",
     "start_time": "2025-04-18T02:05:53.558212Z"
    }
   },
   "cell_type": "code",
   "source": [
    "def create_design_scenario_dict(n_total: int):\n",
    "    scenario_dict = {\n",
    "        'cap2_1': {'prob': 0.03, 'factor': pandas.DataFrame(data={('loc2', 'com1_process'): create_list(n_total, 1)})},\n",
    "        'cap2_2': {'prob': 0.06, 'factor': pandas.DataFrame(data={('loc2', 'com1_process'): create_list(n_total, 2)})},\n",
    "        'cap2_3': {'prob': 0.085, 'factor': pandas.DataFrame(data={('loc2', 'com1_process'): create_list(n_total, 3)})},\n",
    "\n",
    "        'cap4_1': {'prob': 0.025, 'factor': pandas.DataFrame(data={('loc4', 'com1_process'): create_list(n_total, 1)})},\n",
    "        'cap4_2': {'prob': 0.075, 'factor': pandas.DataFrame(data={('loc4', 'com1_process'): create_list(n_total, 2)})},\n",
    "        'cap4_3': {'prob': 0.09, 'factor': pandas.DataFrame(data={('loc4', 'com1_process'): create_list(n_total, 3)})},\n",
    "\n",
    "        'res6_1': {'prob': 0.015, 'factor': pandas.DataFrame(data={('loc6', 'com1_pur'): create_list(n_total, 1)})},\n",
    "        'res6_2': {'prob': 0.08, 'factor': pandas.DataFrame(data={('loc6', 'com1_pur'): create_list(n_total, 2)})},\n",
    "        'res6_3': {'prob': 0.085, 'factor': pandas.DataFrame(data={('loc6', 'com1_pur'): create_list(n_total, 3)})},\n",
    "\n",
    "        'trans25_1': {'prob': 0.02, 'factor': pandas.DataFrame(data={('trans25', 'com1_loc2_out'): create_list(n_total, 1)})},\n",
    "        'trans25_2': {'prob': 0.035, 'factor': pandas.DataFrame(data={('trans25', 'com1_loc2_out'): create_list(n_total, 2)})},\n",
    "        'trans25_3': {'prob': 0.09, 'factor': pandas.DataFrame(data={('trans25', 'com1_loc2_out'): create_list(n_total, 3)})},\n",
    "        \n",
    "        'trans47_1': {'prob': 0.04, 'factor': pandas.DataFrame(data={('trans47', 'com1_loc4_out'): create_list(n_total, 1)})},\n",
    "        'trans47_2': {'prob': 0.085, 'factor': pandas.DataFrame(data={('trans47', 'com1_loc4_out'): create_list(n_total, 2)})},\n",
    "        'trans47_3': {'prob': 0.075, 'factor': pandas.DataFrame(data={('trans47', 'com1_loc4_out'): create_list(n_total, 3)})},\n",
    "        \n",
    "        'no_disruption': {'prob': 0.11, 'factor': pandas.DataFrame(data={('loc2', 'com1_process'): [1] * n_total})}\n",
    "    }\n",
    "    \n",
    "    norm_factor = sum(scenario_dict[k]['prob'] for k in scenario_dict)\n",
    "    \n",
    "    for k in scenario_dict: scenario_dict[k]['prob'] /= norm_factor\n",
    "\n",
    "    return scenario_dict"
   ],
   "id": "31dac101e7d16b23",
   "outputs": [],
   "execution_count": 6
  },
  {
   "metadata": {
    "is_executing": true,
    "ExecuteTime": {
     "end_time": "2025-04-18T02:05:53.597049Z",
     "start_time": "2025-04-18T02:05:53.573861Z"
    }
   },
   "cell_type": "code",
   "source": [
    "def build_design_model(scen_df=pandas.DataFrame()):\n",
    "    default_df = pandas.DataFrame(data=[1] * design_exec_scenarios)\n",
    "    scale_factor = 13*7\n",
    "    \n",
    "    # Define temporal scales\n",
    "    scales = TemporalScale(discretization_list=[1, design_exec_scenarios])\n",
    "    \n",
    "    # ======================================================================================================================\n",
    "    # Declare resources/commodities\n",
    "    # ======================================================================================================================\n",
    "    com1_pur = Resource(name='com1_pur', cons_max=75*scale_factor, block={'imp': 1, 'urg': 1}, price=0.00, label='Commodity 1 consumed from outside the system', varying=[VaryingResource.DETERMINISTIC_AVAILABILITY])\n",
    "    \n",
    "    com1_in = Resource(name='com1_in', label='Commodity 1 received')\n",
    "    com1_out = Resource(name='com1_out', label='Commodity 1 to be sent out')\n",
    "    \n",
    "    com1_loc1_out = Resource(name='com1_loc1_out', label='Commodity 1 sent out from location 1')\n",
    "    com1_loc2_out = Resource(name='com1_loc2_out', label='Commodity 1 sent out from location 2')\n",
    "    com1_loc3_out = Resource(name='com1_loc3_out', label='Commodity 1 sent out from location 3')\n",
    "    com1_loc4_out = Resource(name='com1_loc4_out', label='Commodity 1 sent out from location 4')\n",
    "    com1_loc5_out = Resource(name='com1_loc5_out', label='Commodity 1 sent out from location 5')\n",
    "    com1_loc6_out = Resource(name='com1_loc6_out', label='Commodity 1 sent out from location 6')\n",
    "    com1_loc7_out = Resource(name='com1_loc7_out', label='Commodity 1 sent out from location 7')\n",
    "    \n",
    "    com1_sold = Resource(name='com1_sold', revenue=0.00, demand=True, sell=True, label='Commodity 1 sold to outside the system')\n",
    "    \n",
    "    # ======================================================================================================================\n",
    "    # Declare processes/storage capacities\n",
    "    # ======================================================================================================================\n",
    "    com1_process_capacity = 150*scale_factor\n",
    "    min_process_capacity = 0.01\n",
    "    \n",
    "    com1_procure = Process(name='procure com1', prod_max=com1_process_capacity, conversion={com1_pur: -1, com1_in: 1}, capex=0.1/scale_factor, vopex=0.01, prod_min=min_process_capacity, label='Procure com1')\n",
    "    com1_sell = Process(name='sell com1', prod_max=com1_process_capacity, conversion={com1_out: -1, com1_sold: 1}, capex=0.01/scale_factor, vopex=0.01, prod_min=min_process_capacity, label='Sell com1')\n",
    "    \n",
    "    com1_receive_loc1 = Process(name='com1_receive_loc1', prod_max=com1_process_capacity, conversion={com1_loc1_out:-1, com1_in:1}, capex=0.01/scale_factor, vopex=0.01, prod_min=min_process_capacity, label='Commodity 1 received from location 1')\n",
    "    com1_receive_loc2 = Process(name='com1_receive_loc2', prod_max=com1_process_capacity, conversion={com1_loc2_out:-1, com1_in:1}, capex=0.01/scale_factor, vopex=0.01, prod_min=min_process_capacity, label='Commodity 1 received from location 2')\n",
    "    com1_receive_loc3 = Process(name='com1_receive_loc3', prod_max=com1_process_capacity, conversion={com1_loc3_out:-1, com1_in:1}, capex=0.01/scale_factor, vopex=0.01, prod_min=min_process_capacity, label='Commodity 1 received from location 3')\n",
    "    com1_receive_loc4 = Process(name='com1_receive_loc4', prod_max=com1_process_capacity, conversion={com1_loc4_out:-1, com1_in:1}, capex=0.01/scale_factor, vopex=0.01, prod_min=min_process_capacity, label='Commodity 1 received from location 4')\n",
    "    com1_receive_loc5 = Process(name='com1_receive_loc5', prod_max=com1_process_capacity, conversion={com1_loc5_out:-1, com1_in:1}, capex=0.01/scale_factor, vopex=0.01, prod_min=min_process_capacity, label='Commodity 1 received from location 5')\n",
    "    com1_receive_loc6 = Process(name='com1_receive_loc6', prod_max=com1_process_capacity, conversion={com1_loc6_out:-1, com1_in:1}, capex=0.01/scale_factor, vopex=0.01, prod_min=min_process_capacity, label='Commodity 1 received from location 6')\n",
    "    com1_receive_loc7 = Process(name='com1_receive_loc7', prod_max=com1_process_capacity, conversion={com1_loc7_out:-1, com1_in:1}, capex=0.01/scale_factor, vopex=0.01, prod_min=min_process_capacity, label='Commodity 1 received from location 7')\n",
    "    \n",
    "    com1_process = Process(name='com1_process', prod_max=com1_process_capacity, conversion={com1_in: -1, com1_out: 1},  capex=0.01/scale_factor, vopex=0.01, prod_min=min_process_capacity, varying=[VaryingProcess.DETERMINISTIC_CAPACITY], label='Process the commodity through the location')\n",
    "    \n",
    "    com1_store = Process(name='com1_store', prod_max=com1_process_capacity, capex=0.01/scale_factor, vopex=5, store_min=0.01, store_max= 100*scale_factor, prod_min=min_process_capacity, label=\"Storage capacity of upto 100 units\", storage=com1_in, storage_cost=0.02, storage_capex=50/scale_factor)\n",
    "    \n",
    "    com1_loc1_send = Process(name='com1_loc1_send', prod_max=com1_process_capacity, conversion={com1_out:-1, com1_loc1_out:1}, capex=0.01/scale_factor, vopex=0.01, prod_min=min_process_capacity, label='Send commodity one from location 1')\n",
    "    com1_loc2_send = Process(name='com1_loc2_send', prod_max=com1_process_capacity, conversion={com1_out:-1, com1_loc2_out:1}, capex=0.01/scale_factor, vopex=0.01, prod_min=min_process_capacity, label='Send commodity one from location 2')\n",
    "    com1_loc3_send = Process(name='com1_loc3_send', prod_max=com1_process_capacity, conversion={com1_out:-1, com1_loc3_out:1}, capex=0.01/scale_factor, vopex=0.01, prod_min=min_process_capacity, label='Send commodity one from location 3')\n",
    "    com1_loc4_send = Process(name='com1_loc4_send', prod_max=com1_process_capacity, conversion={com1_out:-1, com1_loc4_out:1}, capex=0.01/scale_factor, vopex=0.01, prod_min=min_process_capacity, label='Send commodity one from location 4')\n",
    "    com1_loc5_send = Process(name='com1_loc5_send', prod_max=com1_process_capacity, conversion={com1_out:-1, com1_loc5_out:1}, capex=0.01/scale_factor, vopex=0.01, prod_min=min_process_capacity, label='Send commodity one from location 5')\n",
    "    com1_loc6_send = Process(name='com1_loc6_send', prod_max=com1_process_capacity, conversion={com1_out:-1, com1_loc6_out:1}, capex=0.01/scale_factor, vopex=0.01, prod_min=min_process_capacity, label='Send commodity one from location 6')\n",
    "    com1_loc7_send = Process(name='com1_loc7_send', prod_max=com1_process_capacity, conversion={com1_out:-1, com1_loc7_out:1}, capex=0.01/scale_factor, vopex=0.01, prod_min=min_process_capacity, label='Send commodity one from location 7')\n",
    "    \n",
    "    # ======================================================================================================================\n",
    "    # Declare locations/warehouses\n",
    "    # ======================================================================================================================\n",
    "    loc1 = Location(name='loc1', processes={com1_procure, com1_receive_loc2, com1_receive_loc3, com1_process, com1_store, com1_loc1_send}, label=\"Location 1\", scales=scales, demand_scale_level=1, capacity_scale_level=1, availability_scale_level=1, availability_factor={\n",
    "                        com1_pur: scen_df[[('loc1', 'com1_pur')]] if ('loc1', 'com1_pur') in scen_df else default_df})\n",
    "    \n",
    "    loc2 = Location(name='loc2', processes={com1_receive_loc1, com1_receive_loc4, com1_receive_loc5, com1_process, com1_store, com1_loc2_send}, label=\"Location 2\", scales=scales, demand_scale_level=1, capacity_scale_level=1, availability_scale_level=1, capacity_factor={\n",
    "        com1_process: scen_df[[('loc2', 'com1_process')]] if ('loc2', 'com1_process') in scen_df else default_df})\n",
    "    \n",
    "    loc3 = Location(name='loc3', processes={com1_receive_loc1, com1_receive_loc4, com1_process, com1_store, com1_loc3_send}, label=\"Location 3\", scales=scales, demand_scale_level=1, capacity_scale_level=1, availability_scale_level=1)\n",
    "    \n",
    "    loc4 = Location(name='loc4', processes={com1_receive_loc2, com1_receive_loc3, com1_receive_loc6, com1_receive_loc5, com1_receive_loc7, com1_process, com1_store, com1_loc4_send}, label=\"Location 4\", scales=scales, demand_scale_level=1, capacity_scale_level=1, availability_scale_level=1, capacity_factor={\n",
    "        com1_process: scen_df[[('loc4', 'com1_process')]] if ('loc4', 'com1_process') in scen_df else default_df})\n",
    "    \n",
    "    loc5 = Location(name='loc5', processes={com1_receive_loc1, com1_receive_loc2, com1_receive_loc4, com1_receive_loc6, com1_receive_loc7, com1_process, com1_store, com1_loc5_send, com1_sell}, label=\"Location 5\", scales=scales, demand_scale_level=1, capacity_scale_level=1, availability_scale_level=1)\n",
    "    \n",
    "    loc6 = Location(name='loc6', processes={com1_procure, com1_receive_loc4, com1_process, com1_store, com1_loc6_send}, label=\"Location 6\", scales=scales, demand_scale_level=1, capacity_scale_level=1, availability_scale_level=1, availability_factor={\n",
    "                        com1_pur: scen_df[[('loc6', 'com1_pur')]] if ('loc6', 'com1_pur') in scen_df else default_df})\n",
    "    \n",
    "    loc7 = Location(name='loc7', processes={com1_receive_loc4, com1_receive_loc5, com1_process, com1_store, com1_loc7_send}, label=\"Location 7\", scales=scales, demand_scale_level=1, capacity_scale_level=1, availability_scale_level=1, capacity_factor={\n",
    "        com1_process: scen_df[[('loc7', 'com1_process')]] if ('loc7', 'com1_process') in scen_df else default_df})\n",
    "    \n",
    "    # ======================================================================================================================\n",
    "    # Declare transport/trucks\n",
    "    # ======================================================================================================================\n",
    "    \n",
    "    truck_cap12 = 70 * scale_factor\n",
    "    truck_cap13 = 30 * scale_factor\n",
    "    truck_cap24 = 50 * scale_factor\n",
    "    truck_cap25 = 30 * scale_factor\n",
    "    truck_cap34 = 30 * scale_factor\n",
    "    truck_cap45 = 100 * scale_factor\n",
    "    truck_cap47 = 40 * scale_factor\n",
    "    truck_cap64 = 50 * scale_factor\n",
    "    truck_cap75 = 40 * scale_factor\n",
    "    \n",
    "    plane_cap15 = 50 * scale_factor\n",
    "    plane_cap65 = 50 * scale_factor\n",
    "    \n",
    "    truck_capmin = 0.01\n",
    "    plane_capmin = 0.01\n",
    "    \n",
    "    truck12 = Transport(name='truck12', resources={com1_loc1_out}, trans_max=truck_cap12, label='Truck from location 1 to 2', capex=0.5/scale_factor, vopex=0.05, trans_min=truck_capmin, varying=[VaryingTransport.DETERMINISTIC_CAPACITY])\n",
    "    # truck21 = Transport(name='truck21', resources={com1_loc2_out}, trans_max=truck_cap12, label='Truck from location 2 to 1', capex=0.0001, vopex=0.05, trans_min=truck_capmin, speed=50, varying=[VaryingTransport.DETERMINISTIC_CAPACITY])\n",
    "    \n",
    "    truck13 = Transport(name='truck13', resources={com1_loc1_out}, trans_max=truck_cap13, label='Truck from location 1 to 3', capex=0.3/scale_factor, vopex=0.03, trans_min=truck_capmin, varying=[VaryingTransport.DETERMINISTIC_CAPACITY])\n",
    "    # truck31 = Transport(name='truck31', resources={com1_loc3_out}, trans_max=truck_cap13, label='Truck from location 3 to 1', capex=0.0001, vopex=0.03, trans_min=truck_capmin, speed=50, varying=[VaryingTransport.DETERMINISTIC_CAPACITY])\n",
    "    \n",
    "    truck24 = Transport(name='truck24', resources={com1_loc2_out}, trans_max=truck_cap24, label='Truck from location 2 to 4', capex=0.5/scale_factor, vopex=0.05, trans_min=truck_capmin, varying=[VaryingTransport.DETERMINISTIC_CAPACITY])\n",
    "    # truck42 = Transport(name='truck42', resources={com1_loc4_out}, trans_max=truck_cap24, label='Truck from location 4 to 2', capex=0.0001, vopex=0.05, trans_min=truck_capmin, speed=50, varying=[VaryingTransport.DETERMINISTIC_CAPACITY])\n",
    "    \n",
    "    truck25 = Transport(name='truck25', resources={com1_loc2_out}, trans_max=truck_cap25, label='Truck from location 2 to 5', capex=0.3/scale_factor, vopex=0.03, trans_min=truck_capmin, varying=[VaryingTransport.DETERMINISTIC_CAPACITY])\n",
    "    # truck52 = Transport(name='truck52', resources={com1_loc5_out}, trans_max=truck_cap25, label='Truck from location 5 to 2', capex=0.0001, vopex=0.03, trans_min=truck_capmin, speed=50, varying=[VaryingTransport.DETERMINISTIC_CAPACITY])\n",
    "    \n",
    "    truck34 = Transport(name='truck34', resources={com1_loc3_out}, trans_max=truck_cap34, label='Truck from location 3 to 4', capex=0.2/scale_factor, vopex=0.02, trans_min=truck_capmin, varying=[VaryingTransport.DETERMINISTIC_CAPACITY])\n",
    "    # truck43 = Transport(name='truck43', resources={com1_loc4_out}, trans_max=truck_cap34, label='Truck from location 4 to 3', capex=0.0001, vopex=0.02, trans_min=truck_capmin, speed=50, varying=[VaryingTransport.DETERMINISTIC_CAPACITY])\n",
    "    \n",
    "    truck45 = Transport(name='truck45', resources={com1_loc4_out}, trans_max=truck_cap45, label='Truck from location 4 to 5', capex=1/scale_factor, vopex=0.1, trans_min=truck_capmin, varying=[VaryingTransport.DETERMINISTIC_CAPACITY])\n",
    "    # truck54 = Transport(name='truck54', resources={com1_loc5_out}, trans_max=truck_cap45, label='Truck from location 5 to 4', capex=0.0001, vopex=0.1, trans_min=truck_capmin, speed=50, varying=[VaryingTransport.DETERMINISTIC_CAPACITY])\n",
    "    \n",
    "    truck47 = Transport(name='truck47', resources={com1_loc4_out}, trans_max=truck_cap47, label='Truck from location 4 to 7', capex=0.4/scale_factor, vopex=0.04, trans_min=truck_capmin, varying=[VaryingTransport.DETERMINISTIC_CAPACITY])\n",
    "    # truck74 = Transport(name='truck74', resources={com1_loc7_out}, trans_max=truck_cap47, label='Truck from location 7 to 4', capex=0.0001, vopex=0.04, trans_min=truck_capmin, speed=50, varying=[VaryingTransport.DETERMINISTIC_CAPACITY])\n",
    "    \n",
    "    truck64 = Transport(name='truck64', resources={com1_loc6_out}, trans_max=truck_cap64, label='Truck from location 6 to 4', capex=0.5/scale_factor, vopex=0.05, trans_min=truck_capmin, varying=[VaryingTransport.DETERMINISTIC_CAPACITY])\n",
    "    # truck46 = Transport(name='truck46', resources={com1_loc4_out}, trans_max=truck_cap64, label='Truck from location 4 to 6', capex=0.0001, vopex=0.05, trans_min=truck_capmin, speed=50, varying=[VaryingTransport.DETERMINISTIC_CAPACITY])\n",
    "    \n",
    "    truck75 = Transport(name='truck75', resources={com1_loc7_out}, trans_max=truck_cap75, label='Truck from location 7 to 5', capex=0.4/scale_factor, vopex=0.04, trans_min=truck_capmin, varying=[VaryingTransport.DETERMINISTIC_CAPACITY])\n",
    "    # truck57 = Transport(name='truck57', resources={com1_loc5_out}, trans_max=truck_cap75, label='Truck from location 5 to 7', capex=0.0001, vopex=0.04, trans_min=truck_capmin, speed=50, varying=[VaryingTransport.DETERMINISTIC_CAPACITY])\n",
    "    \n",
    "    plane15 = Transport(name='plane15', resources={com1_loc1_out}, trans_max=plane_cap15, label='Plane from location 1 to 5', capex=1/scale_factor, vopex=0.5,\n",
    "                        trans_min=plane_capmin)\n",
    "    \n",
    "    plane65 = Transport(name='plane65', resources={com1_loc6_out}, trans_max=plane_cap65, label='Plane from location 6 to 5', capex=1/scale_factor, vopex=0.5,\n",
    "                        trans_min=plane_capmin)\n",
    "    \n",
    "    # ======================================================================================================================\n",
    "    # Declare network\n",
    "    # ======================================================================================================================\n",
    "\n",
    "    transport_matrix = [\n",
    "        [[], [truck12], [truck13], [], [plane15], [], []],  # source: location 1\n",
    "        [[], [], [], [truck24], [truck25], [], []],  # source: location 2\n",
    "        [[], [], [], [truck34], [], [], []],  # source: location 3\n",
    "        [[], [], [], [], [truck45], [], [truck47]],  # source: location 4\n",
    "        [[], [], [], [], [], [], []],  # source: location 5\n",
    "        [[], [], [], [truck64], [plane65], [], []],  # source: location 6\n",
    "        [[], [], [], [], [truck75], [], []]  # source: location 7\n",
    "    ]\n",
    "\n",
    "    # transport_matrix = [\n",
    "    #     [[], [truck12], [truck13], [], [], [], []],  # source: location 1\n",
    "    #     [[truck21], [], [], [truck24], [truck25], [], []],  # source: location 2\n",
    "    #     [[truck31], [], [], [truck34], [], [], []],  # source: location 3\n",
    "    #     [[], [truck42], [truck43], [], [truck45], [truck46], [truck47]],  # source: location 4\n",
    "    #     [[], [truck52], [], [truck54], [], [], [truck57]],  # source: location 5\n",
    "    #     [[], [], [], [truck64], [], [], []],  # source: location 6\n",
    "    #     [[], [], [], [truck74], [truck75], [], []]  # source: location 7\n",
    "    # ]\n",
    "\n",
    "    distance_matrix = [\n",
    "        [0, 55, 196, M, 130, M, M],\n",
    "        [55, 0, M, 163, 112, M, 134],\n",
    "        [196, M, 0, 63, M, M, M],\n",
    "        [M, 163, 63, 0, 95, 117, 88],\n",
    "        [130, 112, M, 95, 0, 150, 134],\n",
    "        [M, M, M, 117, 150, 0, M],\n",
    "        [M, 134, M, 88, 134, M, 0]\n",
    "    ]\n",
    "\n",
    "    locset = [loc1, loc2, loc3, loc4, loc5, loc6, loc7]\n",
    "\n",
    "    sources = locset\n",
    "    sinks = locset\n",
    "\n",
    "    network = Network(name='Network', scales=scales, source_locations=sources, sink_locations=sinks,\n",
    "                      transport_matrix=transport_matrix, distance_matrix=distance_matrix, transport_capacity_scale_level=1,\n",
    "                      transport_capacity_factor={(loc1, loc2): {truck12: scen_df[[('trans12', 'com1_loc1_out')]] if ('trans12', 'com1_loc1_out') in scen_df else default_df},\n",
    "                                                 (loc1, loc3): {truck13: scen_df[[('trans13', 'com1_loc1_out')]] if ('trans13', 'com1_loc1_out') in scen_df else default_df},\n",
    "                                                 (loc2, loc4): {truck24: scen_df[[('trans24', 'com1_loc2_out')]] if ('trans24', 'com1_loc2_out') in scen_df else default_df},\n",
    "                                                 (loc2, loc5): {truck25: scen_df[[('trans25', 'com1_loc2_out')]] if ('trans25', 'com1_loc2_out') in scen_df else default_df},\n",
    "                                                 (loc3, loc4): {truck34: scen_df[[('trans34', 'com1_loc3_out')]] if ('trans34', 'com1_loc3_out') in scen_df else default_df},\n",
    "                                                 (loc4, loc5): {truck45: scen_df[[('trans45', 'com1_loc4_out')]] if ('trans45', 'com1_loc4_out') in scen_df else default_df},\n",
    "                                                 (loc4, loc7): {truck47: scen_df[[('trans47', 'com1_loc4_out')]] if ('trans47', 'com1_loc4_out') in scen_df else default_df},\n",
    "                                                 (loc6, loc4): {truck64: scen_df[[('trans64', 'com1_loc6_out')]] if ('trans64', 'com1_loc6_out') in scen_df else default_df},\n",
    "                                                 (loc7, loc5): {truck75: scen_df[[('trans75', 'com1_loc7_out')]] if ('trans75', 'com1_loc7_out') in scen_df else default_df},\n",
    "                                                 })\n",
    "    \n",
    "    # ======================================================================================================================\n",
    "    # Declare scenario\n",
    "    # ======================================================================================================================\n",
    "    \n",
    "    daily_demand = 100*scale_factor\n",
    "    demand_penalty = 500\n",
    "    \n",
    "    demand_dict = {i: {com1_sold: daily_demand} if i == loc5 else {com1_sold: 0} for i in locset}\n",
    "    demand_penalty_dict = {i: {com1_sold: demand_penalty} if i == loc5 else {com1_sold: 0} for i in locset}\n",
    "    \n",
    "    scenario = Scenario(name=f'design scenario', scales=scales, scheduling_scale_level=1, network_scale_level=0, purchase_scale_level=1, availability_scale_level=1, demand_scale_level=1, capacity_scale_level=1, network=network, demand=demand_dict, demand_penalty=demand_penalty_dict, label='Design Scenario', annualization_factor=1)\n",
    "    \n",
    "    if scen_df.empty:\n",
    "        # ======================================================================================================================\n",
    "        # Declare problem\n",
    "        # ======================================================================================================================\n",
    "\n",
    "        problem_mincost = formulate(scenario=scenario,\n",
    "                                    constraints={Constraints.COST, Constraints.TRANSPORT, Constraints.RESOURCE_BALANCE,\n",
    "                                                 Constraints.INVENTORY, Constraints.PRODUCTION, Constraints.DEMAND,\n",
    "                                                 Constraints.NETWORK},\n",
    "                                    demand_sign='eq', objective=Objective.COST_W_DEMAND_PENALTY)\n",
    "\n",
    "        scale_iter = scale_tuple(instance=problem_mincost, scale_levels=scenario.network_scale_level + 1)\n",
    "        # capex_process = sum(problem_mincost.Capex_network[scale_] for scale_ in scale_iter)\n",
    "        # cost_trans_capex = sum(problem_mincost.Capex_transport_network[scale_] for scale_ in scale_iter)\n",
    "        \n",
    "        problem_mincost.first_stage_cost = Var(within=NonNegativeReals, doc='First Stage Cost')\n",
    "        \n",
    "        def first_stage_cost_rule(instance):\n",
    "            return (instance.first_stage_cost == sum(instance.Capex_network[scale_] for scale_ in scale_iter) + \n",
    "                                                sum(instance.Capex_transport_network[scale_] for scale_ in scale_iter))\n",
    "        \n",
    "        problem_mincost.constraint_first_stage_cost = Constraint(rule=first_stage_cost_rule)\n",
    "        \n",
    "        return scenario, problem_mincost\n",
    "    else:\n",
    "        return scenario"
   ],
   "id": "fea7cb34f4bf7f9a",
   "outputs": [],
   "execution_count": 7
  },
  {
   "cell_type": "code",
   "source": [
    "def build_design_smodel(scen_df=pandas.DataFrame()):\n",
    "    scenario = build_design_model(scen_df)\n",
    "    # ======================================================================================================================\n",
    "    # Declare problem\n",
    "    # ======================================================================================================================\n",
    "\n",
    "    problem_mincost = formulate(scenario=scenario,\n",
    "                                constraints={Constraints.COST, Constraints.TRANSPORT, Constraints.RESOURCE_BALANCE,\n",
    "                                             Constraints.INVENTORY, Constraints.PRODUCTION, Constraints.DEMAND,\n",
    "                                             Constraints.NETWORK},\n",
    "                                demand_sign='eq', objective=Objective.COST_W_DEMAND_PENALTY)\n",
    "\n",
    "    scale_iter = scale_tuple(instance=problem_mincost, scale_levels=scenario.network_scale_level + 1)\n",
    "    # capex_process = sum(problem_mincost.Capex_network[scale_] for scale_ in scale_iter)\n",
    "    # cost_trans_capex = sum(problem_mincost.Capex_transport_network[scale_] for scale_ in scale_iter)\n",
    "\n",
    "    problem_mincost.first_stage_cost = Var(within=NonNegativeReals, doc='First Stage Cost')\n",
    "\n",
    "    def first_stage_cost_rule(instance):\n",
    "        return (instance.first_stage_cost == sum(instance.Capex_network[scale_] for scale_ in scale_iter) +\n",
    "                sum(instance.Capex_transport_network[scale_] for scale_ in scale_iter))\n",
    "\n",
    "    problem_mincost.constraint_first_stage_cost = Constraint(rule=first_stage_cost_rule)\n",
    "\n",
    "    return scenario, problem_mincost"
   ],
   "metadata": {
    "collapsed": false,
    "is_executing": true,
    "ExecuteTime": {
     "end_time": "2025-04-18T02:05:53.601599Z",
     "start_time": "2025-04-18T02:05:53.598256Z"
    }
   },
   "id": "91ae33e99fec64b2",
   "outputs": [],
   "execution_count": 8
  },
  {
   "cell_type": "code",
   "source": [
    "def design_scenario_creator(scen_name, **kwargs):\n",
    "    scen_dict = kwargs.get('scenario_dict')\n",
    "    scen, model = build_design_smodel(scen_df=scen_dict[scen_name]['factor'])\n",
    "    sputils.attach_root_node(model, model.first_stage_cost,\n",
    "                             [model.X_P, model.Cap_P, model.X_S, model.Cap_S, model.X_F, model.Cap_F])\n",
    "    model._mpisppy_probability = scen_dict[scen_name]['prob']\n",
    "    return model"
   ],
   "metadata": {
    "collapsed": false,
    "is_executing": true,
    "ExecuteTime": {
     "end_time": "2025-04-18T02:05:53.604492Z",
     "start_time": "2025-04-18T02:05:53.602516Z"
    }
   },
   "id": "97f3b9926c150b7a",
   "outputs": [],
   "execution_count": 9
  },
  {
   "cell_type": "code",
   "source": [
    "solver_options = {\n",
    "    'MIPGap': 0.005,\n",
    "    'Heuristics': 0.20\n",
    "}"
   ],
   "metadata": {
    "collapsed": false,
    "is_executing": true,
    "ExecuteTime": {
     "end_time": "2025-04-18T02:05:53.610729Z",
     "start_time": "2025-04-18T02:05:53.609058Z"
    }
   },
   "id": "aa002976bda12a80",
   "outputs": [],
   "execution_count": 10
  },
  {
   "metadata": {
    "is_executing": true,
    "ExecuteTime": {
     "end_time": "2025-04-18T02:05:53.631588Z",
     "start_time": "2025-04-18T02:05:53.622590Z"
    }
   },
   "cell_type": "code",
   "source": [
    "design_scenario_dict = create_design_scenario_dict(n_total=design_exec_scenarios)\n",
    "design_scenario_names = list(design_scenario_dict.keys())"
   ],
   "id": "f00e3f910af07d9c",
   "outputs": [],
   "execution_count": 11
  },
  {
   "cell_type": "code",
   "source": [
    "print(f\"Sum of probabilities of all scenarios: {sum(design_scenario_dict[scen]['prob'] for scen in design_scenario_dict):.6f}\")\n",
    "print(f'Number of considered scenarios: {len(design_scenario_names)}')"
   ],
   "metadata": {
    "collapsed": false,
    "is_executing": true,
    "ExecuteTime": {
     "end_time": "2025-04-18T02:05:53.642013Z",
     "start_time": "2025-04-18T02:05:53.640057Z"
    }
   },
   "id": "37b14b6ddff34bb3",
   "outputs": [
    {
     "name": "stdout",
     "output_type": "stream",
     "text": [
      "Sum of probabilities of all scenarios: 1.000000\n",
      "Number of considered scenarios: 16\n"
     ]
    }
   ],
   "execution_count": 12
  },
  {
   "cell_type": "code",
   "source": [
    "start = time.time()\n",
    "options = {\"solver\": \"gurobi\"}\n",
    "design_scenario_creator_kwargs = {'scenario_dict': design_scenario_dict}\n",
    "ef_UI = ExtensiveForm(options, design_scenario_names, design_scenario_creator,\n",
    "                      scenario_creator_kwargs=design_scenario_creator_kwargs)\n",
    "results = ef_UI.solve_extensive_form(solver_options=solver_options)\n",
    "end = time.time()"
   ],
   "metadata": {
    "collapsed": false,
    "is_executing": true,
    "ExecuteTime": {
     "end_time": "2025-04-18T02:05:59.646694Z",
     "start_time": "2025-04-18T02:05:53.652826Z"
    }
   },
   "id": "debf77bf92bd1615",
   "outputs": [
    {
     "name": "stdout",
     "output_type": "stream",
     "text": [
      "[   33.67] Initializing SPBase\n"
     ]
    }
   ],
   "execution_count": 13
  },
  {
   "cell_type": "code",
   "source": [
    "print(f'Execution Time: {end - start:.4f}')"
   ],
   "metadata": {
    "collapsed": false,
    "is_executing": true,
    "ExecuteTime": {
     "end_time": "2025-04-18T02:05:59.650177Z",
     "start_time": "2025-04-18T02:05:59.647990Z"
    }
   },
   "id": "ba1a80b90a5363a0",
   "outputs": [
    {
     "name": "stdout",
     "output_type": "stream",
     "text": [
      "Execution Time: 5.9918\n"
     ]
    }
   ],
   "execution_count": 14
  },
  {
   "cell_type": "code",
   "source": [
    "exCost_UI = ef_UI.get_objective_value()\n",
    "ssoln_UI = ef_UI.get_root_solution()\n",
    "first_stage_cost = getattr(ef_UI.ef, design_scenario_names[0]).first_stage_cost.value\n",
    "\n",
    "print(f\"Expected Cost under Uncertain Information: {exCost_UI:.4f}\")\n",
    "print(f\"First Stage Cost: {first_stage_cost:.4f}\")"
   ],
   "metadata": {
    "collapsed": false,
    "is_executing": true,
    "ExecuteTime": {
     "end_time": "2025-04-18T02:05:59.660066Z",
     "start_time": "2025-04-18T02:05:59.650679Z"
    }
   },
   "id": "904b5a217b12fe74",
   "outputs": [
    {
     "name": "stdout",
     "output_type": "stream",
     "text": [
      "Expected Cost under Uncertain Information: 601485.5470\n",
      "First Stage Cost: 31241.6000\n"
     ]
    }
   ],
   "execution_count": 15
  },
  {
   "cell_type": "code",
   "source": [
    "G = nx.DiGraph()\n",
    "\n",
    "# with open(fr\"ssoln_4096_UI_HP.pkl\", 'rb') as file:\n",
    "#     ssoln_dict = pickle.load(file)\n",
    "\n",
    "ssoln_dict = ssoln_UI\n",
    "nodes = {\n",
    "'Location 1': {\n",
    "    'Capacity': ssoln_dict['Cap_P[loc1,com1_process,0]'] if 'Cap_P[loc1,com1_process,0]' in ssoln_dict.keys() else 0,\n",
    "    'Inventory': ssoln_dict['Cap_S[loc1,com1_store_com1_in_stored,0]'] if 'Cap_S[loc1,com1_store_com1_in_stored,0]' in ssoln_dict.keys() else 0\n",
    "},\n",
    "'Location 2': {\n",
    "    'Capacity': ssoln_dict['Cap_P[loc2,com1_process,0]'] if 'Cap_P[loc2,com1_process,0]' in ssoln_dict.keys() else 0,\n",
    "    'Inventory': ssoln_dict['Cap_S[loc2,com1_store_com1_in_stored,0]'] if 'Cap_S[loc2,com1_store_com1_in_stored,0]' in ssoln_dict.keys() else 0\n",
    "},\n",
    "'Location 3': {\n",
    "    'Capacity': ssoln_dict['Cap_P[loc3,com1_process,0]'] if 'Cap_P[loc3,com1_process,0]' in ssoln_dict.keys() else 0,\n",
    "    'Inventory': ssoln_dict['Cap_S[loc3,com1_store_com1_in_stored,0]'] if 'Cap_S[loc3,com1_store_com1_in_stored,0]' in ssoln_dict.keys() else 0\n",
    "},\n",
    "'Location 4': {\n",
    "    'Capacity': ssoln_dict['Cap_P[loc4,com1_process,0]'] if 'Cap_P[loc4,com1_process,0]' in ssoln_dict.keys() else 0,\n",
    "    'Inventory': ssoln_dict['Cap_S[loc4,com1_store_com1_in_stored,0]'] if 'Cap_S[loc4,com1_store_com1_in_stored,0]' in ssoln_dict.keys() else 0\n",
    "},\n",
    "'Location 5': {\n",
    "    'Capacity': ssoln_dict['Cap_P[loc5,com1_process,0]'] if 'Cap_P[loc5,com1_process,0]' in ssoln_dict.keys() else 0,\n",
    "    'Inventory': ssoln_dict['Cap_S[loc5,com1_store_com1_in_stored,0]'] if 'Cap_S[loc5,com1_store_com1_in_stored,0]' in ssoln_dict.keys() else 0\n",
    "},\n",
    "'Location 6': {\n",
    "    'Capacity': ssoln_dict['Cap_P[loc6,com1_process,0]'] if 'Cap_P[loc6,com1_process,0]' in ssoln_dict.keys() else 0,\n",
    "    'Inventory': ssoln_dict['Cap_S[loc6,com1_store_com1_in_stored,0]'] if 'Cap_S[loc6,com1_store_com1_in_stored,0]' in ssoln_dict.keys() else 0\n",
    "},\n",
    "'Location 7': {\n",
    "    'Capacity': ssoln_dict['Cap_P[loc7,com1_process,0]'] if 'Cap_P[loc7,com1_process,0]' in ssoln_dict.keys() else 0,\n",
    "    'Inventory': ssoln_dict['Cap_S[loc7,com1_store_com1_in_stored,0]'] if 'Cap_S[loc7,com1_store_com1_in_stored,0]' in ssoln_dict.keys() else 0\n",
    "},\n",
    "}\n",
    "\n",
    "# Add nodes to the graph\n",
    "G.add_nodes_from(nodes.keys())\n",
    "\n",
    "# Define edges (connections between nodes)\n",
    "edges = [\n",
    "    ('Location 1', 'Location 2', {'weight': ssoln_dict['Cap_F[loc1,loc2,truck12,0]'] if 'Cap_F[loc1,loc2,truck12,0]' in ssoln_dict.keys() else 0}),\n",
    "    ('Location 1', 'Location 3', {'weight': ssoln_dict['Cap_F[loc1,loc3,truck13,0]'] if 'Cap_F[loc1,loc3,truck13,0]' in ssoln_dict.keys() else 0}),\n",
    "    ('Location 1', 'Location 5', {'weight': ssoln_dict['Cap_F[loc1,loc5,plane15,0]'] if 'Cap_F[loc1,loc5,plane15,0]' in ssoln_dict.keys() else 0}),\n",
    "    ('Location 2', 'Location 4', {'weight': ssoln_dict['Cap_F[loc2,loc4,truck24,0]'] if 'Cap_F[loc2,loc4,truck24,0]' in ssoln_dict.keys() else 0}),\n",
    "    ('Location 2', 'Location 5', {'weight': ssoln_dict['Cap_F[loc2,loc5,truck25,0]'] if 'Cap_F[loc2,loc5,truck25,0]' in ssoln_dict.keys() else 0}),\n",
    "    ('Location 3', 'Location 4', {'weight': ssoln_dict['Cap_F[loc3,loc4,truck34,0]'] if 'Cap_F[loc3,loc4,truck34,0]' in ssoln_dict.keys() else 0}),\n",
    "    ('Location 4', 'Location 5', {'weight': ssoln_dict['Cap_F[loc4,loc5,truck45,0]'] if 'Cap_F[loc4,loc5,truck45,0]' in ssoln_dict.keys() else 0}),\n",
    "    ('Location 4', 'Location 7', {'weight': ssoln_dict['Cap_F[loc4,loc7,truck47,0]'] if 'Cap_F[loc4,loc7,truck47,0]' in ssoln_dict.keys() else 0}),\n",
    "    ('Location 6', 'Location 4', {'weight': ssoln_dict['Cap_F[loc6,loc4,truck64,0]'] if 'Cap_F[loc6,loc4,truck64,0]' in ssoln_dict.keys() else 0}),\n",
    "    ('Location 6', 'Location 5', {'weight': ssoln_dict['Cap_F[loc6,loc5,plane65,0]'] if 'Cap_F[loc6,loc5,plane65,0]' in ssoln_dict.keys() else 0}),\n",
    "    ('Location 7', 'Location 5', {'weight': ssoln_dict['Cap_F[loc7,loc5,truck75,0]'] if 'Cap_F[loc7,loc5,truck75,0]' in ssoln_dict.keys() else 0}),\n",
    "]\n",
    "\n",
    "# Add edges to the graph\n",
    "G.add_edges_from(edges)\n",
    "\n",
    "# Define fixed positions for nodes\n",
    "fixed_positions = {\n",
    "    'Location 1': (-2, 2),\n",
    "    'Location 2': (0, 2),\n",
    "    'Location 3': (-2, 0),\n",
    "    'Location 4': (0, 0),\n",
    "    'Location 5': (2, 0),\n",
    "    'Location 6': (-2, -2),\n",
    "    'Location 7': (1, -2)\n",
    "}\n",
    "\n",
    "# Create custom labels combining multiple pieces of information\n",
    "node_labels = {node: f\"Capacity: {data['Capacity']:.2f}\\nInventory: {data['Inventory']:.2f}\" for node, data in nodes.items()}\n",
    "\n",
    "# Draw nodes and edges with fixed positions\n",
    "nx.draw_networkx_nodes(G, fixed_positions, node_color='skyblue', node_size=700)\n",
    "nx.draw_networkx_edges(G, fixed_positions, edgelist=edges, arrowstyle='simple', arrowsize=15)\n",
    "nx.draw_networkx_labels(G, fixed_positions, labels=node_labels, font_size=8, font_color='red', bbox=dict(facecolor=\"white\", edgecolor=\"none\", alpha=0.7, boxstyle=\"round,pad=0.3\"))\n",
    "\n",
    "# Draw edge labels (optional)\n",
    "edge_labels = {(u, v): round(d['weight'],3) for u, v, d in G.edges(data=True)}\n",
    "nx.draw_networkx_edge_labels(G, fixed_positions, edge_labels=edge_labels, label_pos=0.4, font_size=8)\n",
    "\n",
    "# Expand plot limits to prevent cutoff\n",
    "x_values, y_values = zip(*fixed_positions.values())\n",
    "plt.xlim(min(x_values) - 1, max(x_values) + 1)\n",
    "plt.ylim(min(y_values) - 1, max(y_values) + 1)\n",
    "\n",
    "# Show the plot\n",
    "plt.title(f\"Supply Chain Network considering {len(design_scenario_names)} scenarios\")\n",
    "# plt.figure(figsize=(16,12))\n",
    "plt.show()  "
   ],
   "metadata": {
    "collapsed": false,
    "is_executing": true,
    "ExecuteTime": {
     "end_time": "2025-04-18T02:05:59.784798Z",
     "start_time": "2025-04-18T02:05:59.661448Z"
    }
   },
   "id": "7a877daabe8a4ec0",
   "outputs": [
    {
     "data": {
      "text/plain": [
       "<Figure size 640x480 with 1 Axes>"
      ],
      "image/png": "[encoded data removed]"
     },
     "metadata": {},
     "output_type": "display_data"
    }
   ],
   "execution_count": 16
  },
  {
   "cell_type": "markdown",
   "source": [
    "# Design Complete"
   ],
   "metadata": {
    "collapsed": false
   },
   "id": "a34e6bbf728d36a0"
  },
  {
   "cell_type": "code",
   "source": [
    "def build_schedule_model(start_time:tuple, end_time:tuple, scen_df=pandas.DataFrame(), eps:float=1.0):\n",
    "    default_df = pandas.DataFrame(data=[1] * schedule_exec_scenarios)\n",
    "    scale_factor = 1\n",
    "    fudge_factor = 5\n",
    "    \n",
    "    # Define temporal scales\n",
    "    scales = TemporalScale(discretization_list=[1, schedule_exec_scenarios, schedule_time_intervals], start_zero=start_time, end_zero=end_time)\n",
    "    \n",
    "    # ======================================================================================================================\n",
    "    # Declare resources/commodities\n",
    "    # ======================================================================================================================\n",
    "    com1_pur = Resource(name='com1_pur', cons_max=75*scale_factor, block={'imp': 1, 'urg': 1}, price=0.00, label='Commodity 1 consumed from outside the system', varying=[VaryingResource.DETERMINISTIC_AVAILABILITY])\n",
    "    \n",
    "    com1_in = Resource(name='com1_in', label='Commodity 1 received')\n",
    "    com1_out = Resource(name='com1_out', label='Commodity 1 to be sent out')\n",
    "    \n",
    "    com1_loc1_out = Resource(name='com1_loc1_out', label='Commodity 1 sent out from location 1')\n",
    "    com1_loc2_out = Resource(name='com1_loc2_out', label='Commodity 1 sent out from location 2')\n",
    "    com1_loc3_out = Resource(name='com1_loc3_out', label='Commodity 1 sent out from location 3')\n",
    "    com1_loc4_out = Resource(name='com1_loc4_out', label='Commodity 1 sent out from location 4')\n",
    "    com1_loc5_out = Resource(name='com1_loc5_out', label='Commodity 1 sent out from location 5')\n",
    "    com1_loc6_out = Resource(name='com1_loc6_out', label='Commodity 1 sent out from location 6')\n",
    "    com1_loc7_out = Resource(name='com1_loc7_out', label='Commodity 1 sent out from location 7')\n",
    "    \n",
    "    com1_sold = Resource(name='com1_sold', revenue=0.00, demand=True, sell=True, label='Commodity 1 sold to outside the system')\n",
    "    \n",
    "    # ======================================================================================================================\n",
    "    # Declare processes/storage capacities\n",
    "    # ======================================================================================================================\n",
    "    com1_process_capacity = 150*scale_factor*fudge_factor\n",
    "    min_process_capacity = 0.01\n",
    "    \n",
    "    com1_procure = Process(name='procure com1', prod_max=com1_process_capacity, conversion={com1_pur: -1, com1_in: 1}, capex=0.1/scale_factor, vopex=0.01, prod_min=min_process_capacity, label='Procure com1')\n",
    "    com1_sell = Process(name='sell com1', prod_max=com1_process_capacity, conversion={com1_out: -1, com1_sold: 1}, capex=0.01/scale_factor, vopex=0.01, prod_min=min_process_capacity, label='Sell com1')\n",
    "    \n",
    "    com1_receive_loc1 = Process(name='com1_receive_loc1', prod_max=com1_process_capacity, conversion={com1_loc1_out:-1, com1_in:1}, capex=0.01/scale_factor, vopex=0.01, prod_min=min_process_capacity, label='Commodity 1 received from location 1')\n",
    "    com1_receive_loc2 = Process(name='com1_receive_loc2', prod_max=com1_process_capacity, conversion={com1_loc2_out:-1, com1_in:1}, capex=0.01/scale_factor, vopex=0.01, prod_min=min_process_capacity, label='Commodity 1 received from location 2')\n",
    "    com1_receive_loc3 = Process(name='com1_receive_loc3', prod_max=com1_process_capacity, conversion={com1_loc3_out:-1, com1_in:1}, capex=0.01/scale_factor, vopex=0.01, prod_min=min_process_capacity, label='Commodity 1 received from location 3')\n",
    "    com1_receive_loc4 = Process(name='com1_receive_loc4', prod_max=com1_process_capacity, conversion={com1_loc4_out:-1, com1_in:1}, capex=0.01/scale_factor, vopex=0.01, prod_min=min_process_capacity, label='Commodity 1 received from location 4')\n",
    "    com1_receive_loc5 = Process(name='com1_receive_loc5', prod_max=com1_process_capacity, conversion={com1_loc5_out:-1, com1_in:1}, capex=0.01/scale_factor, vopex=0.01, prod_min=min_process_capacity, label='Commodity 1 received from location 5')\n",
    "    com1_receive_loc6 = Process(name='com1_receive_loc6', prod_max=com1_process_capacity, conversion={com1_loc6_out:-1, com1_in:1}, capex=0.01/scale_factor, vopex=0.01, prod_min=min_process_capacity, label='Commodity 1 received from location 6')\n",
    "    com1_receive_loc7 = Process(name='com1_receive_loc7', prod_max=com1_process_capacity, conversion={com1_loc7_out:-1, com1_in:1}, capex=0.01/scale_factor, vopex=0.01, prod_min=min_process_capacity, label='Commodity 1 received from location 7')\n",
    "    \n",
    "    com1_process = Process(name='com1_process', prod_max=com1_process_capacity, conversion={com1_in: -1, com1_out: 1},  capex=0.01/scale_factor, vopex=0.01, prod_min=min_process_capacity, varying=[VaryingProcess.DETERMINISTIC_CAPACITY], label='Process the commodity through the location')\n",
    "    \n",
    "    com1_store = Process(name='com1_store', prod_max=com1_process_capacity, capex=0.01/scale_factor, vopex=5, store_min=0.01, store_max= 100*scale_factor*fudge_factor, prod_min=min_process_capacity, label=\"Storage capacity of upto 100 units\", storage=com1_in, storage_cost=0.02, storage_capex=50/scale_factor)\n",
    "    \n",
    "    com1_loc1_send = Process(name='com1_loc1_send', prod_max=com1_process_capacity, conversion={com1_out:-1, com1_loc1_out:1}, capex=0.01/scale_factor, vopex=0.01, prod_min=min_process_capacity, label='Send commodity one from location 1')\n",
    "    com1_loc2_send = Process(name='com1_loc2_send', prod_max=com1_process_capacity, conversion={com1_out:-1, com1_loc2_out:1}, capex=0.01/scale_factor, vopex=0.01, prod_min=min_process_capacity, label='Send commodity one from location 2')\n",
    "    com1_loc3_send = Process(name='com1_loc3_send', prod_max=com1_process_capacity, conversion={com1_out:-1, com1_loc3_out:1}, capex=0.01/scale_factor, vopex=0.01, prod_min=min_process_capacity, label='Send commodity one from location 3')\n",
    "    com1_loc4_send = Process(name='com1_loc4_send', prod_max=com1_process_capacity, conversion={com1_out:-1, com1_loc4_out:1}, capex=0.01/scale_factor, vopex=0.01, prod_min=min_process_capacity, label='Send commodity one from location 4')\n",
    "    com1_loc5_send = Process(name='com1_loc5_send', prod_max=com1_process_capacity, conversion={com1_out:-1, com1_loc5_out:1}, capex=0.01/scale_factor, vopex=0.01, prod_min=min_process_capacity, label='Send commodity one from location 5')\n",
    "    com1_loc6_send = Process(name='com1_loc6_send', prod_max=com1_process_capacity, conversion={com1_out:-1, com1_loc6_out:1}, capex=0.01/scale_factor, vopex=0.01, prod_min=min_process_capacity, label='Send commodity one from location 6')\n",
    "    com1_loc7_send = Process(name='com1_loc7_send', prod_max=com1_process_capacity, conversion={com1_out:-1, com1_loc7_out:1}, capex=0.01/scale_factor, vopex=0.01, prod_min=min_process_capacity, label='Send commodity one from location 7')\n",
    "    \n",
    "    # ======================================================================================================================\n",
    "    # Declare locations/warehouses\n",
    "    # ======================================================================================================================\n",
    "    loc1 = Location(name='loc1', processes={com1_procure, com1_receive_loc2, com1_receive_loc3, com1_process, com1_store, com1_loc1_send}, label=\"Location 1\", scales=scales, demand_scale_level=2, capacity_scale_level=1, availability_scale_level=1, availability_factor={\n",
    "                        com1_pur: scen_df[[('loc1', 'com1_pur')]] if ('loc1', 'com1_pur') in scen_df else default_df})\n",
    "    \n",
    "    loc2 = Location(name='loc2', processes={com1_receive_loc1, com1_receive_loc4, com1_receive_loc5, com1_process, com1_store, com1_loc2_send}, label=\"Location 2\", scales=scales, demand_scale_level=2, capacity_scale_level=1, availability_scale_level=1, capacity_factor={\n",
    "        com1_process: scen_df[[('loc2', 'com1_process')]] if ('loc2', 'com1_process') in scen_df else default_df})\n",
    "    \n",
    "    loc3 = Location(name='loc3', processes={com1_receive_loc1, com1_receive_loc4, com1_process, com1_store, com1_loc3_send}, label=\"Location 3\", scales=scales, demand_scale_level=2, capacity_scale_level=1, availability_scale_level=1)\n",
    "    \n",
    "    loc4 = Location(name='loc4', processes={com1_receive_loc2, com1_receive_loc3, com1_receive_loc6, com1_receive_loc5, com1_receive_loc7, com1_process, com1_store, com1_loc4_send}, label=\"Location 4\", scales=scales, demand_scale_level=2, capacity_scale_level=1, availability_scale_level=1, capacity_factor={\n",
    "        com1_process: scen_df[[('loc4', 'com1_process')]] if ('loc4', 'com1_process') in scen_df else default_df})\n",
    "    \n",
    "    loc5 = Location(name='loc5', processes={com1_receive_loc1, com1_receive_loc2, com1_receive_loc4, com1_receive_loc6, com1_receive_loc7, com1_process, com1_store, com1_loc5_send, com1_sell}, label=\"Location 5\", scales=scales, demand_scale_level=2, capacity_scale_level=1, availability_scale_level=1)\n",
    "    \n",
    "    loc6 = Location(name='loc6', processes={com1_procure, com1_receive_loc4, com1_process, com1_store, com1_loc6_send}, label=\"Location 6\", scales=scales, demand_scale_level=2, capacity_scale_level=1, availability_scale_level=1, availability_factor={\n",
    "                        com1_pur: scen_df[[('loc6', 'com1_pur')]] if ('loc6', 'com1_pur') in scen_df else default_df})\n",
    "    \n",
    "    loc7 = Location(name='loc7', processes={com1_receive_loc4, com1_receive_loc5, com1_process, com1_store, com1_loc7_send}, label=\"Location 7\", scales=scales, demand_scale_level=2, capacity_scale_level=1, availability_scale_level=1, capacity_factor={\n",
    "        com1_process: scen_df[[('loc7', 'com1_process')]] if ('loc7', 'com1_process') in scen_df else default_df})\n",
    "    \n",
    "    # ======================================================================================================================\n",
    "    # Declare transport/trucks\n",
    "    # ======================================================================================================================\n",
    "    \n",
    "    truck_cap12 = 70 * scale_factor * fudge_factor\n",
    "    truck_cap13 = 30 * scale_factor * fudge_factor\n",
    "    truck_cap24 = 50 * scale_factor * fudge_factor\n",
    "    truck_cap25 = 30 * scale_factor * fudge_factor\n",
    "    truck_cap34 = 30 * scale_factor * fudge_factor\n",
    "    truck_cap45 = 100 * scale_factor * fudge_factor\n",
    "    truck_cap47 = 40 * scale_factor * fudge_factor\n",
    "    truck_cap64 = 50 * scale_factor * fudge_factor\n",
    "    truck_cap75 = 40 * scale_factor * fudge_factor\n",
    "    \n",
    "    plane_cap15 = 50 * scale_factor * fudge_factor\n",
    "    plane_cap65 = 50 * scale_factor * fudge_factor\n",
    "    \n",
    "    truck_capmin = 0.01\n",
    "    plane_capmin = 0.01\n",
    "    \n",
    "    truck12 = Transport(name='truck12', resources={com1_loc1_out}, trans_max=truck_cap12, label='Truck from location 1 to 2', capex=0.5/scale_factor, vopex=0.05, trans_min=truck_capmin, varying=[VaryingTransport.DETERMINISTIC_CAPACITY], speed=50)\n",
    "    # truck21 = Transport(name='truck21', resources={com1_loc2_out}, trans_max=truck_cap12, label='Truck from location 2 to 1', capex=0.0001, vopex=0.05, trans_min=truck_capmin, speed=50, varying=[VaryingTransport.DETERMINISTIC_CAPACITY])\n",
    "    \n",
    "    truck13 = Transport(name='truck13', resources={com1_loc1_out}, trans_max=truck_cap13, label='Truck from location 1 to 3', capex=0.3/scale_factor, vopex=0.03, trans_min=truck_capmin, varying=[VaryingTransport.DETERMINISTIC_CAPACITY], speed=50)\n",
    "    # truck31 = Transport(name='truck31', resources={com1_loc3_out}, trans_max=truck_cap13, label='Truck from location 3 to 1', capex=0.0001, vopex=0.03, trans_min=truck_capmin, speed=50, varying=[VaryingTransport.DETERMINISTIC_CAPACITY])\n",
    "    \n",
    "    truck24 = Transport(name='truck24', resources={com1_loc2_out}, trans_max=truck_cap24, label='Truck from location 2 to 4', capex=0.5/scale_factor, vopex=0.05, trans_min=truck_capmin, varying=[VaryingTransport.DETERMINISTIC_CAPACITY], speed=50)\n",
    "    # truck42 = Transport(name='truck42', resources={com1_loc4_out}, trans_max=truck_cap24, label='Truck from location 4 to 2', capex=0.0001, vopex=0.05, trans_min=truck_capmin, speed=50, varying=[VaryingTransport.DETERMINISTIC_CAPACITY])\n",
    "    \n",
    "    truck25 = Transport(name='truck25', resources={com1_loc2_out}, trans_max=truck_cap25, label='Truck from location 2 to 5', capex=0.3/scale_factor, vopex=0.03, trans_min=truck_capmin, varying=[VaryingTransport.DETERMINISTIC_CAPACITY], speed=50)\n",
    "    # truck52 = Transport(name='truck52', resources={com1_loc5_out}, trans_max=truck_cap25, label='Truck from location 5 to 2', capex=0.0001, vopex=0.03, trans_min=truck_capmin, speed=50, varying=[VaryingTransport.DETERMINISTIC_CAPACITY])\n",
    "    \n",
    "    truck34 = Transport(name='truck34', resources={com1_loc3_out}, trans_max=truck_cap34, label='Truck from location 3 to 4', capex=0.2/scale_factor, vopex=0.02, trans_min=truck_capmin, varying=[VaryingTransport.DETERMINISTIC_CAPACITY], speed=50)\n",
    "    # truck43 = Transport(name='truck43', resources={com1_loc4_out}, trans_max=truck_cap34, label='Truck from location 4 to 3', capex=0.0001, vopex=0.02, trans_min=truck_capmin, speed=50, varying=[VaryingTransport.DETERMINISTIC_CAPACITY])\n",
    "    \n",
    "    truck45 = Transport(name='truck45', resources={com1_loc4_out}, trans_max=truck_cap45, label='Truck from location 4 to 5', capex=1/scale_factor, vopex=0.1, trans_min=truck_capmin, varying=[VaryingTransport.DETERMINISTIC_CAPACITY], speed=50)\n",
    "    # truck54 = Transport(name='truck54', resources={com1_loc5_out}, trans_max=truck_cap45, label='Truck from location 5 to 4', capex=0.0001, vopex=0.1, trans_min=truck_capmin, speed=50, varying=[VaryingTransport.DETERMINISTIC_CAPACITY])\n",
    "    \n",
    "    truck47 = Transport(name='truck47', resources={com1_loc4_out}, trans_max=truck_cap47, label='Truck from location 4 to 7', capex=0.4/scale_factor, vopex=0.04, trans_min=truck_capmin, varying=[VaryingTransport.DETERMINISTIC_CAPACITY], speed=50)\n",
    "    # truck74 = Transport(name='truck74', resources={com1_loc7_out}, trans_max=truck_cap47, label='Truck from location 7 to 4', capex=0.0001, vopex=0.04, trans_min=truck_capmin, speed=50, varying=[VaryingTransport.DETERMINISTIC_CAPACITY])\n",
    "    \n",
    "    truck64 = Transport(name='truck64', resources={com1_loc6_out}, trans_max=truck_cap64, label='Truck from location 6 to 4', capex=0.5/scale_factor, vopex=0.05, trans_min=truck_capmin, varying=[VaryingTransport.DETERMINISTIC_CAPACITY], speed=50)\n",
    "    # truck46 = Transport(name='truck46', resources={com1_loc4_out}, trans_max=truck_cap64, label='Truck from location 4 to 6', capex=0.0001, vopex=0.05, trans_min=truck_capmin, speed=50, varying=[VaryingTransport.DETERMINISTIC_CAPACITY])\n",
    "    \n",
    "    truck75 = Transport(name='truck75', resources={com1_loc7_out}, trans_max=truck_cap75, label='Truck from location 7 to 5', capex=0.4/scale_factor, vopex=0.04, trans_min=truck_capmin, varying=[VaryingTransport.DETERMINISTIC_CAPACITY], speed=50)\n",
    "    # truck57 = Transport(name='truck57', resources={com1_loc5_out}, trans_max=truck_cap75, label='Truck from location 5 to 7', capex=0.0001, vopex=0.04, trans_min=truck_capmin, speed=50, varying=[VaryingTransport.DETERMINISTIC_CAPACITY])\n",
    "    \n",
    "    plane15 = Transport(name='plane15', resources={com1_loc1_out}, trans_max=plane_cap15, label='Plane from location 1 to 5', capex=1/scale_factor, vopex=0.5,\n",
    "                        trans_min=plane_capmin, speed=100)\n",
    "    \n",
    "    plane65 = Transport(name='plane65', resources={com1_loc6_out}, trans_max=plane_cap65, label='Plane from location 6 to 5', capex=1/scale_factor, vopex=0.5,\n",
    "                        trans_min=plane_capmin, speed=100)\n",
    "    \n",
    "    # ======================================================================================================================\n",
    "    # Declare network\n",
    "    # ======================================================================================================================\n",
    "\n",
    "    transport_matrix = [\n",
    "        [[], [truck12], [truck13], [], [plane15], [], []],  # source: location 1\n",
    "        [[], [], [], [truck24], [truck25], [], []],  # source: location 2\n",
    "        [[], [], [], [truck34], [], [], []],  # source: location 3\n",
    "        [[], [], [], [], [truck45], [], [truck47]],  # source: location 4\n",
    "        [[], [], [], [], [], [], []],  # source: location 5\n",
    "        [[], [], [], [truck64], [], [], []],  # source: location 6\n",
    "        [[], [], [], [], [truck75], [], []]  # source: location 7\n",
    "    ]\n",
    "\n",
    "    # transport_matrix = [\n",
    "    #     [[], [truck12], [truck13], [], [], [], []],  # source: location 1\n",
    "    #     [[truck21], [], [], [truck24], [truck25], [], []],  # source: location 2\n",
    "    #     [[truck31], [], [], [truck34], [], [], []],  # source: location 3\n",
    "    #     [[], [truck42], [truck43], [], [truck45], [truck46], [truck47]],  # source: location 4\n",
    "    #     [[], [truck52], [], [truck54], [], [], [truck57]],  # source: location 5\n",
    "    #     [[], [], [], [truck64], [], [], []],  # source: location 6\n",
    "    #     [[], [], [], [truck74], [truck75], [], []]  # source: location 7\n",
    "    # ]\n",
    "\n",
    "    distance_matrix = [\n",
    "        [0, 55, 196, M, 130, M, M],\n",
    "        [55, 0, M, 163, 112, M, 134],\n",
    "        [196, M, 0, 63, M, M, M],\n",
    "        [M, 163, 63, 0, 95, 117, 88],\n",
    "        [130, 112, M, 95, 0, 150, 134],\n",
    "        [M, M, M, 117, M, 0, M],\n",
    "        [M, 134, M, 88, 134, M, 0]\n",
    "    ]\n",
    "\n",
    "    locset = [loc1, loc2, loc3, loc4, loc5, loc6, loc7]\n",
    "\n",
    "    sources = locset\n",
    "    sinks = locset\n",
    "\n",
    "    network = Network(name='Network', scales=scales, source_locations=sources, sink_locations=sinks,\n",
    "                      transport_matrix=transport_matrix, distance_matrix=distance_matrix, transport_capacity_scale_level=1,\n",
    "                      transport_capacity_factor={(loc1, loc2): {truck12: scen_df[[('trans12', 'com1_loc1_out')]] if ('trans12', 'com1_loc1_out') in scen_df else default_df},\n",
    "                                                 (loc1, loc3): {truck13: scen_df[[('trans13', 'com1_loc1_out')]] if ('trans13', 'com1_loc1_out') in scen_df else default_df},\n",
    "                                                 (loc1, loc5): {plane15: scen_df[[('plane15', 'com1_loc1_out')]] if (\n",
    "                                                                                                                    'plane15',\n",
    "                                                                                                                    'com1_loc1_out') in scen_df else default_df},\n",
    "                                                 (loc2, loc4): {truck24: scen_df[[('trans24', 'com1_loc2_out')]] if ('trans24', 'com1_loc2_out') in scen_df else default_df},\n",
    "                                                 (loc2, loc5): {truck25: scen_df[[('trans25', 'com1_loc2_out')]] if ('trans25', 'com1_loc2_out') in scen_df else default_df},\n",
    "                                                 (loc3, loc4): {truck34: scen_df[[('trans34', 'com1_loc3_out')]] if ('trans34', 'com1_loc3_out') in scen_df else default_df},\n",
    "                                                 (loc4, loc5): {truck45: scen_df[[('trans45', 'com1_loc4_out')]] if ('trans45', 'com1_loc4_out') in scen_df else default_df},\n",
    "                                                 (loc4, loc7): {truck47: scen_df[[('trans47', 'com1_loc4_out')]] if ('trans47', 'com1_loc4_out') in scen_df else default_df},\n",
    "                                                 (loc6, loc4): {truck64: scen_df[[('trans64', 'com1_loc6_out')]] if ('trans64', 'com1_loc6_out') in scen_df else default_df},\n",
    "                                                 (loc7, loc5): {truck75: scen_df[[('trans75', 'com1_loc7_out')]] if ('trans75', 'com1_loc7_out') in scen_df else default_df},\n",
    "                                                 })\n",
    "    \n",
    "    # ======================================================================================================================\n",
    "    # Declare scenario\n",
    "    # ======================================================================================================================\n",
    "    \n",
    "    daily_demand = 100*scale_factor\n",
    "    demand_penalty = 200\n",
    "    \n",
    "    demand_dict = {i: {com1_sold: daily_demand} if i == loc5 else {com1_sold: 0} for i in locset}\n",
    "    demand_penalty_dict = {i: {com1_sold: demand_penalty} if i == loc5 else {com1_sold: 0} for i in locset}\n",
    "    \n",
    "    scenario = Scenario(name=f'schedule scenario', scales=scales, scheduling_scale_level=2, network_scale_level=0, purchase_scale_level=2, availability_scale_level=1, demand_scale_level=2, capacity_scale_level=1, network=network, demand=demand_dict, demand_penalty=demand_penalty_dict, label='Schedule Scenario', annualization_factor=1)\n",
    "    \n",
    "    # ======================================================================================================================\n",
    "    # Declare model\n",
    "    # ======================================================================================================================\n",
    "    \n",
    "    problem_mincost = formulate(scenario=scenario,\n",
    "                            constraints={Constraints.COST, Constraints.TRANSPORT, Constraints.RESOURCE_BALANCE, Constraints.INVENTORY, Constraints.PRODUCTION, Constraints.DEMAND, Constraints.NETWORK}, demand_sign='eq', objective=Objective.COST_W_DEMAND_PENALTY)\n",
    "    \n",
    "    demand = scenario.demand\n",
    "    if isinstance(demand, dict):\n",
    "        if isinstance(list(demand.keys())[0], Location):\n",
    "            try:\n",
    "                demand = {i.name: {\n",
    "                    j.name: demand[i][j] for j in demand[i].keys()} for i in demand.keys()}\n",
    "            except:\n",
    "                pass\n",
    "\n",
    "    constraint_demand_lb(instance=problem_mincost, demand=demand, demand_factor=scenario.demand_factor,\n",
    "                         demand_scale_level=scenario.demand_scale_level,\n",
    "                         scheduling_scale_level=scenario.scheduling_scale_level,\n",
    "                         location_resource_dict=scenario.location_resource_dict, epsilon=eps)\n",
    "    \n",
    "    return scenario, problem_mincost\n",
    "    \n",
    "    # if scen_df.empty:\n",
    "    #     # ======================================================================================================================\n",
    "    #     # Declare problem\n",
    "    #     # ======================================================================================================================\n",
    "    # \n",
    "    #     problem_mincost = formulate(scenario=scenario,\n",
    "    #                                 constraints={Constraints.COST, Constraints.TRANSPORT, Constraints.RESOURCE_BALANCE,\n",
    "    #                                              Constraints.INVENTORY, Constraints.PRODUCTION, Constraints.DEMAND,\n",
    "    #                                              Constraints.NETWORK},\n",
    "    #                                 demand_sign='eq', objective=Objective.COST_W_DEMAND_PENALTY)\n",
    "    # \n",
    "    #     scale_iter = scale_tuple(instance=problem_mincost, scale_levels=scenario.network_scale_level + 1)\n",
    "    #     # capex_process = sum(problem_mincost.Capex_network[scale_] for scale_ in scale_iter)\n",
    "    #     # cost_trans_capex = sum(problem_mincost.Capex_transport_network[scale_] for scale_ in scale_iter)\n",
    "    #     \n",
    "    #     problem_mincost.first_stage_cost = Var(within=NonNegativeReals, doc='First Stage Cost')\n",
    "    #     \n",
    "    #     def first_stage_cost_rule(instance):\n",
    "    #         return (instance.first_stage_cost == sum(instance.Capex_network[scale_] for scale_ in scale_iter) + \n",
    "    #                                             sum(instance.Capex_transport_network[scale_] for scale_ in scale_iter))\n",
    "    #     \n",
    "    #     problem_mincost.constraint_first_stage_cost = Constraint(rule=first_stage_cost_rule)\n",
    "    #     \n",
    "    #     return scenario, problem_mincost\n",
    "    # else:\n",
    "    #     return scenario"
   ],
   "metadata": {
    "collapsed": false,
    "is_executing": true
   },
   "id": "99810ad2f14f3f2c",
   "outputs": [],
   "execution_count": null
  },
  {
   "cell_type": "code",
   "source": [
    "def fix_design_variables(model2fix: ConcreteModel, design_model: ConcreteModel):\n",
    "    if isinstance(design_model, ConcreteModel):\n",
    "        model = getattr(design_model.ef, [i[0] for i in design_model.scenarios()][0])\n",
    "\n",
    "        def fix(var1, var2):\n",
    "            for i in list(var1.keys()):\n",
    "                if var1[i].value is None:\n",
    "                    continue\n",
    "                elif ('X_P' in var1.name) or ('X_S' in var1.name) or ('X_F' in var1.name):\n",
    "                    var2[i].fix(var1[i].value)\n",
    "                elif ('Cap_P' in var1.name) or ('Cap_S' in var1.name) or ('Cap_F' in var1.name):\n",
    "                    var2[i].fix(var1[i].value/91)\n",
    "    \n",
    "        fix(model.X_P, model2fix.X_P)\n",
    "        fix(model.Cap_P, model2fix.Cap_P)\n",
    "        fix(model.X_S, model2fix.X_S)\n",
    "        fix(model.Cap_S, model2fix.Cap_S)\n",
    "        fix(model.X_F, model2fix.X_F)\n",
    "        fix(model.Cap_F, model2fix.Cap_F)\n",
    "    \n",
    "    elif isinstance(design_model, dict):\n",
    "        # design_scen = list(design_model.keys())[0]\n",
    "        \n",
    "        def fix_dict(var, dict):\n",
    "            for i in list(var.keys()):\n",
    "                if dict[var.name][i] is None:\n",
    "                    continue\n",
    "                elif ('X_P' in var.name) or ('X_S' in var.name) or ('X_F' in var.name):\n",
    "                    var[i].fix(dict[var.name][i])\n",
    "                elif ('Cap_P' in var.name) or ('Cap_S' in var.name) or ('Cap_F' in var.name):\n",
    "                    var[i].fix(dict[var.name][i])\n",
    "        \n",
    "        fix_dict(model2fix.X_P, design_model)\n",
    "        fix_dict(model2fix.Cap_P, design_model)\n",
    "        fix_dict(model2fix.X_S, design_model)\n",
    "        fix_dict(model2fix.Cap_S, design_model)\n",
    "        fix_dict(model2fix.X_F, design_model)\n",
    "        fix_dict(model2fix.Cap_F, design_model)"
   ],
   "metadata": {
    "collapsed": false,
    "is_executing": true
   },
   "id": "113417985c699e0d",
   "outputs": [],
   "execution_count": null
  },
  {
   "cell_type": "code",
   "source": [
    "def fix_variables(model2fix: ConcreteModel, current_time_idx:tuple, initial_dict: dict,time_scales:TemporalScale):\n",
    "    states = ['P', 'B', 'C', 'S', 'R', 'Inv', 'P_m', 'P_material_m', 'Cap_P', 'Cap_S', 'Capex_process', 'Capex_storage', 'Inv_cost', 'X_F', 'Cap_F', 'Exp', 'Capex_transport', 'X_P', 'X_S', 'X_P_m', 'Cap_P_m', 'X_P_mm', 'Demand_penalty', 'Demand_penalty_cost']\n",
    "    \n",
    "    model2fix_vars = {v.name: v for v in model2fix.component_objects(Var) if v.name in states}\n",
    "    \n",
    "    for name, var in model2fix_vars.items():\n",
    "        var_key_list = [k for k in var.keys()]\n",
    "        updated_key_list = list()\n",
    "        \n",
    "        if var_key_list and var_key_list!= [None]:\n",
    "            if isinstance(var_key_list[0], int):\n",
    "                # updated_key_list = [i for i in var_key_list if tuple((i,)) < current_time_idx[:network_scale_level+1]] \n",
    "                continue\n",
    "            elif isinstance(var_key_list[0], tuple) and ('location' not in name and 'network' not in name):\n",
    "                num_integers = sum(1 for elem in var_key_list[0] if isinstance(elem, int))\n",
    "                scale_length = min(len(time_scales.scale), num_integers)                \n",
    "                updated_key_list = [k for k in var.keys()\n",
    "                                    if tuple(k[-scale_length:]) < current_time_idx[:scale_length] or (tuple(k[-scale_length:]) == current_time_idx[:scale_length] and current_time_idx[1:]!=(0,)*(len(current_time_idx)-1) and tuple(k[-scale_length:]) != current_time_idx)]\n",
    "                \n",
    "            for key in updated_key_list:\n",
    "                if key in initial_dict[name] and initial_dict[name][key] is not None:\n",
    "                    if not var[key].fixed:\n",
    "                        var[key].fix(initial_dict[name][key])\n",
    "                    # var[key].fixed = True\n",
    "                    # var[key] = initial_dict[name][key]\n",
    "    print(f\"Variables fixed for time {current_time_idx}\")"
   ],
   "metadata": {
    "collapsed": false,
    "is_executing": true
   },
   "id": "9449f299c82de300",
   "outputs": [],
   "execution_count": null
  },
  {
   "cell_type": "code",
   "source": [
    "def print_fixed_variables(instance:ConcreteModel):    \n",
    "    for v in instance.component_objects(Var):\n",
    "        for index in v:\n",
    "            if v[index].fixed:\n",
    "                print(f\"{v.name}[{index}]: {v[index].value}\")\n",
    "\n",
    "def get_fixed_variables(instance:ConcreteModel):\n",
    "    return {v.name: {index: v[index].value for index in v if v[index].fixed} for v in instance.component_objects(Var)}"
   ],
   "metadata": {
    "collapsed": false,
    "is_executing": true
   },
   "id": "ccae7b225e715e87",
   "outputs": [],
   "execution_count": null
  },
  {
   "cell_type": "code",
   "source": [
    "model_record = dict()\n",
    "scenario_record = dict()\n",
    "results_record = dict()"
   ],
   "metadata": {
    "collapsed": false,
    "is_executing": true
   },
   "id": "9efa4b42384c98c7",
   "outputs": [],
   "execution_count": null
  },
  {
   "cell_type": "code",
   "source": [
    "scheduling_scales = TemporalScale(discretization_list=[1, schedule_exec_scenarios, schedule_time_intervals])\n",
    "scale_iter_list = scheduling_scales.scale_iter(scale_level=len(scheduling_scales.scale)-1)"
   ],
   "metadata": {
    "collapsed": false,
    "is_executing": true
   },
   "id": "973b22f71fca00ab",
   "outputs": [],
   "execution_count": null
  },
  {
   "cell_type": "code",
   "source": [
    "def supply_chain_controller(time_ind:List, start_at:Union[int, Tuple]=0, end_at:Union[int, Tuple]=None, initialize_dict:dict=None, p_horizon:int=1, c_horizon:int=1, lookback:int=0, design_model:ConcreteModel=None, eps:float=1):\n",
    "    \n",
    "    end_at = end_at or len(time_ind)-1\n",
    "    \n",
    "    close_loop_results = dict()\n",
    "    if c_horizon > p_horizon:\n",
    "        raise ValueError('c_horizon must be less than or equal to p_horizon')\n",
    "    \n",
    "    if isinstance(start_at, Tuple):\n",
    "        if start_at not in time_ind:\n",
    "            raise ValueError('Incorrect start time value')\n",
    "        start_idx = time_ind.index(start_at)\n",
    "    else:\n",
    "        start_idx = start_at\n",
    "        \n",
    "    if isinstance(end_at, Tuple):\n",
    "        if end_at not in time_ind:\n",
    "            raise ValueError('Incorrect end time value')\n",
    "        end_idx = time_ind.index(end_at)\n",
    "    else:\n",
    "        end_idx = end_at\n",
    "    \n",
    "    if end_idx < start_idx:\n",
    "        raise ValueError('Incorrect start and end time values')\n",
    "\n",
    "    # print(f\"Starting Index: {start_idx}; Starting Time: {start_time}\")\n",
    "    # print(f\"Ending Index: {end_idx}; Ending Time: {end_time}\")\n",
    "    \n",
    "    \n",
    "    for t in range(start_idx, end_idx+1, c_horizon):\n",
    "        start_time = max(0, t-lookback)\n",
    "        end_time = min(t+p_horizon, end_idx)\n",
    "        scenario, model = build_schedule_model(start_time=time_ind[start_time], end_time=time_ind[end_time], eps= eps)\n",
    "        scenario_record[time_ind[t]] = scenario\n",
    "        model_record[time_ind[t]] = model\n",
    "        \n",
    "        if t==start_idx and design_model:\n",
    "            print(f\"Time index: {t}\")\n",
    "            fix_design_variables(model2fix=model, design_model=design_model)\n",
    "\n",
    "        if time_ind[t-1] in close_loop_results:\n",
    "            fix_variables(model2fix=model, initial_dict=close_loop_results[time_ind[t-1]], current_time_idx=time_ind[t], time_scales=scenario.scales)\n",
    "        \n",
    "        result = solve(scenario=scenario, instance=model, solver='gurobi', name='MILP')\n",
    "        model_vars = model.component_map(ctype=Var)\n",
    "        close_loop_results[time_ind[t]] = {i: model_vars[i].extract_values() for i in model_vars.keys()}\n",
    "        results_record[time_ind[t]] = result\n",
    "\n",
    "        print(f'\\n################################## Finished solving problem for time period {time_ind[t]} out of {time_ind[-1]} ##################################\\n')\n",
    "        # final_results = compile_results(close_loop_results=close_loop_results, time_dict = time_ind, start = start_idx, end = end_idx)\n",
    "    \n",
    "    return close_loop_results"
   ],
   "metadata": {
    "collapsed": false,
    "is_executing": true
   },
   "id": "d27c34ecf5186ea0",
   "outputs": [],
   "execution_count": null
  },
  {
   "cell_type": "code",
   "source": [
    "close_loop_results = supply_chain_controller(time_ind=scale_iter_list, c_horizon=1, p_horizon=5, end_at=(0,3,6), design_model=ef_UI)"
   ],
   "metadata": {
    "collapsed": false,
    "is_executing": true
   },
   "id": "7928ef90314cbae8",
   "outputs": [],
   "execution_count": null
  },
  {
   "cell_type": "code",
   "source": [
    "t = (0,0,0)"
   ],
   "metadata": {
    "collapsed": false,
    "is_executing": true
   },
   "id": "8983336d0d4eda7c",
   "outputs": [],
   "execution_count": null
  },
  {
   "cell_type": "code",
   "source": [
    "d = get_fixed_variables(model_record[t])"
   ],
   "metadata": {
    "collapsed": false,
    "is_executing": true
   },
   "id": "559b225f67420497",
   "outputs": [],
   "execution_count": null
  },
  {
   "cell_type": "code",
   "source": [
    "d"
   ],
   "metadata": {
    "collapsed": false,
    "is_executing": true
   },
   "id": "7fd0669cb30b28b2",
   "outputs": [],
   "execution_count": null
  },
  {
   "cell_type": "code",
   "source": [
    "print(*[(v, key, value) for v in d for key, value in d[v].items() if value], sep='\\n')"
   ],
   "metadata": {
    "collapsed": false,
    "is_executing": true
   },
   "id": "69fccc95c00bd28a",
   "outputs": [],
   "execution_count": null
  },
  {
   "cell_type": "code",
   "source": [
    "print(*[(key, value) for key, value in ssoln_dict.items() if value and 'Cap_P' in key], sep='\\n')"
   ],
   "metadata": {
    "collapsed": false,
    "is_executing": true
   },
   "id": "3a7e1d8f2e7d9a2b",
   "outputs": [],
   "execution_count": null
  },
  {
   "cell_type": "code",
   "source": [],
   "metadata": {
    "collapsed": false,
    "is_executing": true
   },
   "id": "70b0dbf904018b63",
   "outputs": [],
   "execution_count": null
  },
  {
   "cell_type": "code",
   "source": [
    "for time_key in model_record:\n",
    "    print(f\"Objective for {time_key}: {pyo_val(model_record[time_key].objective_cost_w_demand_penalty):.4f}\")"
   ],
   "metadata": {
    "collapsed": false,
    "is_executing": true
   },
   "id": "afb0b86b399519b2",
   "outputs": [],
   "execution_count": null
  },
  {
   "cell_type": "code",
   "source": [
    "model_record[(0,0,0)].objective_cost_w_demand_penalty.pprint()"
   ],
   "metadata": {
    "collapsed": false,
    "is_executing": true
   },
   "id": "9d7fb203854d673f",
   "outputs": [],
   "execution_count": null
  },
  {
   "cell_type": "code",
   "source": [
    "pyo_val(model_record[(0,0,0)].objective_cost_w_demand_penalty)"
   ],
   "metadata": {
    "collapsed": false,
    "is_executing": true
   },
   "id": "f89487a21e45ffed",
   "outputs": [],
   "execution_count": null
  },
  {
   "cell_type": "code",
   "source": [
    "model_record[t].Demand_penalty_network.pprint()"
   ],
   "metadata": {
    "collapsed": false,
    "is_executing": true
   },
   "id": "3310ba36706597ec",
   "outputs": [],
   "execution_count": null
  },
  {
   "cell_type": "code",
   "source": [
    "model_record[t].constraint_demand_penalty_network.pprint()"
   ],
   "metadata": {
    "collapsed": false,
    "is_executing": true
   },
   "id": "c40fe1529595c29f",
   "outputs": [],
   "execution_count": null
  },
  {
   "cell_type": "code",
   "source": [
    "model_record[(0,3,2)].constraint_demand_penalty_location.pprint()"
   ],
   "metadata": {
    "collapsed": false,
    "is_executing": true
   },
   "id": "3eda006e0a7d6ca7",
   "outputs": [],
   "execution_count": null
  },
  {
   "cell_type": "code",
   "source": [],
   "metadata": {
    "collapsed": false,
    "is_executing": true
   },
   "id": "d59bee6c5776b2d7",
   "outputs": [],
   "execution_count": null
  }
 ],
 "metadata": {
  "kernelspec": {
   "display_name": "Python 3",
   "language": "python",
   "name": "python3"
  },
  "language_info": {
   "codemirror_mode": {
    "name": "ipython",
    "version": 2
   },
   "file_extension": ".py",
   "mimetype": "text/x-python",
   "name": "python",
   "nbconvert_exporter": "python",
   "pygments_lexer": "ipython2",
   "version": "2.7.6"
  }
 },
 "nbformat": 4,
 "nbformat_minor": 5
}
