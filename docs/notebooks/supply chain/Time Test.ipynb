{
 "cells": [
  {
   "cell_type": "code",
   "execution_count": 6,
   "id": "initial_id",
   "metadata": {
    "collapsed": true,
    "ExecuteTime": {
     "end_time": "2025-02-04T22:09:12.856171Z",
     "start_time": "2025-02-04T22:09:12.852209Z"
    }
   },
   "outputs": [],
   "source": [
    "import sys\n",
    "sys.path.append('../../../src')\n",
    "from energiapy.components.temporal_scale import TemporalScale"
   ]
  },
  {
   "cell_type": "code",
   "outputs": [],
   "source": [
    "dl = [2,7]\n",
    "\n",
    "scales = TemporalScale(discretization_list=dl)"
   ],
   "metadata": {
    "collapsed": false,
    "ExecuteTime": {
     "end_time": "2025-02-04T22:09:12.866925Z",
     "start_time": "2025-02-04T22:09:12.864636Z"
    }
   },
   "id": "bd8c90d2e0fee78",
   "execution_count": 7
  },
  {
   "cell_type": "code",
   "outputs": [
    {
     "data": {
      "text/plain": "{0: [0, 1], 1: [0, 1, 2, 3, 4, 5, 6]}"
     },
     "execution_count": 8,
     "metadata": {},
     "output_type": "execute_result"
    }
   ],
   "source": [
    "scales.scale"
   ],
   "metadata": {
    "collapsed": false,
    "ExecuteTime": {
     "end_time": "2025-02-04T22:09:12.873701Z",
     "start_time": "2025-02-04T22:09:12.867974Z"
    }
   },
   "id": "472b099f5d2a5f6",
   "execution_count": 8
  },
  {
   "cell_type": "code",
   "outputs": [
    {
     "data": {
      "text/plain": "[(0, 0),\n (0, 1),\n (0, 2),\n (0, 3),\n (0, 4),\n (0, 5),\n (0, 6),\n (1, 0),\n (1, 1),\n (1, 2),\n (1, 3),\n (1, 4),\n (1, 5),\n (1, 6)]"
     },
     "execution_count": 9,
     "metadata": {},
     "output_type": "execute_result"
    }
   ],
   "source": [
    "scales.iter_list"
   ],
   "metadata": {
    "collapsed": false,
    "ExecuteTime": {
     "end_time": "2025-02-04T22:09:12.878844Z",
     "start_time": "2025-02-04T22:09:12.873701Z"
    }
   },
   "id": "ea572638cf41c03c",
   "execution_count": 9
  },
  {
   "cell_type": "code",
   "outputs": [
    {
     "data": {
      "text/plain": "[(0, 0),\n (0, 1),\n (0, 2),\n (0, 3),\n (0, 4),\n (0, 5),\n (0, 6),\n (1, 0),\n (1, 1),\n (1, 2),\n (1, 3),\n (1, 4),\n (1, 5),\n (1, 6)]"
     },
     "execution_count": 12,
     "metadata": {},
     "output_type": "execute_result"
    }
   ],
   "source": [
    "scales.scale_iter(scale_level=1)"
   ],
   "metadata": {
    "collapsed": false,
    "ExecuteTime": {
     "end_time": "2025-02-04T22:09:23.808194Z",
     "start_time": "2025-02-04T22:09:23.804433Z"
    }
   },
   "id": "4c21b22889c6c2ba",
   "execution_count": 12
  },
  {
   "cell_type": "code",
   "outputs": [],
   "source": [],
   "metadata": {
    "collapsed": false,
    "ExecuteTime": {
     "end_time": "2025-02-04T22:09:12.886454Z",
     "start_time": "2025-02-04T22:09:12.884364Z"
    }
   },
   "id": "7aa51352003dadc",
   "execution_count": 10
  }
 ],
 "metadata": {
  "kernelspec": {
   "display_name": "Python 3",
   "language": "python",
   "name": "python3"
  },
  "language_info": {
   "codemirror_mode": {
    "name": "ipython",
    "version": 2
   },
   "file_extension": ".py",
   "mimetype": "text/x-python",
   "name": "python",
   "nbconvert_exporter": "python",
   "pygments_lexer": "ipython2",
   "version": "2.7.6"
  }
 },
 "nbformat": 4,
 "nbformat_minor": 5
}
