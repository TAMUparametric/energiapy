{
 "cells": [
  {
   "cell_type": "code",
   "id": "initial_id",
   "metadata": {
    "collapsed": true,
    "ExecuteTime": {
     "end_time": "2025-02-07T07:01:42.525980Z",
     "start_time": "2025-02-07T07:01:42.293373Z"
    }
   },
   "source": [
    "import sys\n",
    "sys.path.append('../../../src')\n",
    "from energiapy.components.temporal_scale import TemporalScale\n",
    "from energiapy.utils.scale_utils import scale_pyomo_set\n",
    "from pyomo.environ import ConcreteModel"
   ],
   "outputs": [],
   "execution_count": 2
  },
  {
   "cell_type": "code",
   "source": [
    "dl = [2,7]\n",
    "\n",
    "scales = TemporalScale(discretization_list=dl)"
   ],
   "metadata": {
    "collapsed": false,
    "ExecuteTime": {
     "end_time": "2025-02-07T07:01:42.528747Z",
     "start_time": "2025-02-07T07:01:42.526937Z"
    }
   },
   "id": "bd8c90d2e0fee78",
   "outputs": [],
   "execution_count": 3
  },
  {
   "metadata": {
    "ExecuteTime": {
     "end_time": "2025-02-07T07:01:42.531189Z",
     "start_time": "2025-02-07T07:01:42.529448Z"
    }
   },
   "cell_type": "code",
   "source": "m = ConcreteModel()",
   "id": "c6ffae68e0b25e83",
   "outputs": [],
   "execution_count": 4
  },
  {
   "cell_type": "code",
   "source": [
    "scales.scale"
   ],
   "metadata": {
    "collapsed": false,
    "ExecuteTime": {
     "end_time": "2025-02-07T07:01:42.535937Z",
     "start_time": "2025-02-07T07:01:42.532530Z"
    }
   },
   "id": "472b099f5d2a5f6",
   "outputs": [
    {
     "data": {
      "text/plain": [
       "{0: [0, 1], 1: [0, 1, 2, 3, 4, 5, 6]}"
      ]
     },
     "execution_count": 5,
     "metadata": {},
     "output_type": "execute_result"
    }
   ],
   "execution_count": 5
  },
  {
   "cell_type": "code",
   "source": "scales.scale_iter(scale_level=1)",
   "metadata": {
    "collapsed": false,
    "ExecuteTime": {
     "end_time": "2025-02-07T07:02:02.566022Z",
     "start_time": "2025-02-07T07:02:02.563133Z"
    }
   },
   "id": "ea572638cf41c03c",
   "outputs": [
    {
     "data": {
      "text/plain": [
       "[(0, 0),\n",
       " (0, 1),\n",
       " (0, 2),\n",
       " (0, 3),\n",
       " (0, 4),\n",
       " (0, 5),\n",
       " (0, 6),\n",
       " (1, 0),\n",
       " (1, 1),\n",
       " (1, 2),\n",
       " (1, 3),\n",
       " (1, 4),\n",
       " (1, 5),\n",
       " (1, 6)]"
      ]
     },
     "execution_count": 8,
     "metadata": {},
     "output_type": "execute_result"
    }
   ],
   "execution_count": 8
  },
  {
   "cell_type": "code",
   "source": "list_ = [m.scales[i].data() for i in range(0 + 1)]",
   "metadata": {
    "collapsed": false,
    "ExecuteTime": {
     "end_time": "2025-02-07T07:02:51.151237Z",
     "start_time": "2025-02-07T07:02:51.093175Z"
    }
   },
   "id": "7aa51352003dadc",
   "outputs": [
    {
     "ename": "AttributeError",
     "evalue": "'ConcreteModel' object has no attribute 'scales'",
     "output_type": "error",
     "traceback": [
      "\u001B[0;31m---------------------------------------------------------------------------\u001B[0m",
      "\u001B[0;31mAttributeError\u001B[0m                            Traceback (most recent call last)",
      "Cell \u001B[0;32mIn[10], line 1\u001B[0m\n\u001B[0;32m----> 1\u001B[0m list_ \u001B[38;5;241m=\u001B[39m [\u001B[43mm\u001B[49m\u001B[38;5;241;43m.\u001B[39;49m\u001B[43mscales\u001B[49m[i]\u001B[38;5;241m.\u001B[39mdata() \u001B[38;5;28;01mfor\u001B[39;00m i \u001B[38;5;129;01min\u001B[39;00m \u001B[38;5;28mrange\u001B[39m(\u001B[38;5;241m0\u001B[39m \u001B[38;5;241m+\u001B[39m \u001B[38;5;241m1\u001B[39m)]\n",
      "File \u001B[0;32m~/PycharmProjects/energiapy/.venv/lib/python3.12/site-packages/pyomo/core/base/block.py:550\u001B[0m, in \u001B[0;36mBlockData.__getattr__\u001B[0;34m(self, val)\u001B[0m\n\u001B[1;32m    547\u001B[0m     \u001B[38;5;28;01mreturn\u001B[39;00m _component_decorator(\u001B[38;5;28mself\u001B[39m, ModelComponentFactory\u001B[38;5;241m.\u001B[39mget_class(val))\n\u001B[1;32m    548\u001B[0m \u001B[38;5;66;03m# Since the base classes don't support getattr, we can just\u001B[39;00m\n\u001B[1;32m    549\u001B[0m \u001B[38;5;66;03m# throw the \"normal\" AttributeError\u001B[39;00m\n\u001B[0;32m--> 550\u001B[0m \u001B[38;5;28;01mraise\u001B[39;00m \u001B[38;5;167;01mAttributeError\u001B[39;00m(\n\u001B[1;32m    551\u001B[0m     \u001B[38;5;124m\"\u001B[39m\u001B[38;5;124m'\u001B[39m\u001B[38;5;132;01m%s\u001B[39;00m\u001B[38;5;124m'\u001B[39m\u001B[38;5;124m object has no attribute \u001B[39m\u001B[38;5;124m'\u001B[39m\u001B[38;5;132;01m%s\u001B[39;00m\u001B[38;5;124m'\u001B[39m\u001B[38;5;124m\"\u001B[39m \u001B[38;5;241m%\u001B[39m (\u001B[38;5;28mself\u001B[39m\u001B[38;5;241m.\u001B[39m\u001B[38;5;18m__class__\u001B[39m\u001B[38;5;241m.\u001B[39m\u001B[38;5;18m__name__\u001B[39m, val)\n\u001B[1;32m    552\u001B[0m )\n",
      "\u001B[0;31mAttributeError\u001B[0m: 'ConcreteModel' object has no attribute 'scales'"
     ]
    }
   ],
   "execution_count": 10
  },
  {
   "metadata": {},
   "cell_type": "code",
   "outputs": [],
   "execution_count": null,
   "source": "",
   "id": "23e8566da610b99d"
  }
 ],
 "metadata": {
  "kernelspec": {
   "display_name": "Python 3",
   "language": "python",
   "name": "python3"
  },
  "language_info": {
   "codemirror_mode": {
    "name": "ipython",
    "version": 2
   },
   "file_extension": ".py",
   "mimetype": "text/x-python",
   "name": "python",
   "nbconvert_exporter": "python",
   "pygments_lexer": "ipython2",
   "version": "2.7.6"
  }
 },
 "nbformat": 4,
 "nbformat_minor": 5
}
