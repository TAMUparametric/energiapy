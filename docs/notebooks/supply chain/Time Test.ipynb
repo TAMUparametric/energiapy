{
 "cells": [
  {
   "cell_type": "code",
   "execution_count": 5,
   "id": "initial_id",
   "metadata": {
    "collapsed": true,
    "ExecuteTime": {
     "end_time": "2025-02-03T22:18:59.783002Z",
     "start_time": "2025-02-03T22:18:59.779779Z"
    }
   },
   "outputs": [],
   "source": [
    "import sys\n",
    "sys.path.append('../../../src')\n",
    "from energiapy.components.temporal_scale import TemporalScale"
   ]
  },
  {
   "cell_type": "code",
   "outputs": [],
   "source": [
    "dl = [4,12,4,7]\n",
    "\n",
    "scales = TemporalScale(discretization_list=dl, end_zero=(0,0,2,3))"
   ],
   "metadata": {
    "collapsed": false,
    "ExecuteTime": {
     "end_time": "2025-02-03T22:18:59.792646Z",
     "start_time": "2025-02-03T22:18:59.789241Z"
    }
   },
   "id": "bd8c90d2e0fee78",
   "execution_count": 6
  },
  {
   "cell_type": "code",
   "outputs": [
    {
     "data": {
      "text/plain": "{0: [0], 1: [0], 2: [0, 1, 2], 3: [0, 1, 2, 3, 4, 5, 6]}"
     },
     "execution_count": 7,
     "metadata": {},
     "output_type": "execute_result"
    }
   ],
   "source": [
    "scales.scale"
   ],
   "metadata": {
    "collapsed": false,
    "ExecuteTime": {
     "end_time": "2025-02-03T22:18:59.796978Z",
     "start_time": "2025-02-03T22:18:59.793688Z"
    }
   },
   "id": "472b099f5d2a5f6",
   "execution_count": 7
  },
  {
   "cell_type": "code",
   "outputs": [
    {
     "data": {
      "text/plain": "[(0, 0, 0, 0),\n (0, 0, 0, 1),\n (0, 0, 0, 2),\n (0, 0, 0, 3),\n (0, 0, 0, 4),\n (0, 0, 0, 5),\n (0, 0, 0, 6),\n (0, 0, 1, 0),\n (0, 0, 1, 1),\n (0, 0, 1, 2),\n (0, 0, 1, 3),\n (0, 0, 1, 4),\n (0, 0, 1, 5),\n (0, 0, 1, 6),\n (0, 0, 2, 0),\n (0, 0, 2, 1),\n (0, 0, 2, 2),\n (0, 0, 2, 3)]"
     },
     "execution_count": 8,
     "metadata": {},
     "output_type": "execute_result"
    }
   ],
   "source": [
    "scales.iter_list"
   ],
   "metadata": {
    "collapsed": false,
    "ExecuteTime": {
     "end_time": "2025-02-03T22:19:19.501652Z",
     "start_time": "2025-02-03T22:19:19.498051Z"
    }
   },
   "id": "ea572638cf41c03c",
   "execution_count": 8
  },
  {
   "cell_type": "code",
   "outputs": [],
   "source": [],
   "metadata": {
    "collapsed": false
   },
   "id": "4c21b22889c6c2ba"
  }
 ],
 "metadata": {
  "kernelspec": {
   "display_name": "Python 3",
   "language": "python",
   "name": "python3"
  },
  "language_info": {
   "codemirror_mode": {
    "name": "ipython",
    "version": 2
   },
   "file_extension": ".py",
   "mimetype": "text/x-python",
   "name": "python",
   "nbconvert_exporter": "python",
   "pygments_lexer": "ipython2",
   "version": "2.7.6"
  }
 },
 "nbformat": 4,
 "nbformat_minor": 5
}
