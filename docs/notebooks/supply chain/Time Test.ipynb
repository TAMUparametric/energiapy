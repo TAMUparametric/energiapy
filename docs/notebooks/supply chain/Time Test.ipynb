{
 "cells": [
  {
   "cell_type": "code",
   "id": "initial_id",
   "metadata": {
    "collapsed": true,
    "ExecuteTime": {
     "end_time": "2025-02-09T22:03:05.333880Z",
     "start_time": "2025-02-09T22:03:05.330802Z"
    }
   },
   "source": [
    "import sys\n",
    "sys.path.append('../../../src')\n",
    "from energiapy.components.temporal_scale import TemporalScale\n",
    "from energiapy.utils.scale_utils import scale_pyomo_set\n",
    "from pyomo.environ import ConcreteModel"
   ],
   "outputs": [],
   "execution_count": 12
  },
  {
   "cell_type": "code",
   "source": [
    "dl = [4,7]\n",
    "\n",
    "scales = TemporalScale(discretization_list=dl, start_zero=(1,1), end_zero=(3,4))"
   ],
   "metadata": {
    "collapsed": false,
    "ExecuteTime": {
     "end_time": "2025-02-09T22:03:05.346072Z",
     "start_time": "2025-02-09T22:03:05.343153Z"
    }
   },
   "id": "bd8c90d2e0fee78",
   "outputs": [],
   "execution_count": 13
  },
  {
   "metadata": {
    "ExecuteTime": {
     "end_time": "2025-02-09T22:03:05.350424Z",
     "start_time": "2025-02-09T22:03:05.346072Z"
    }
   },
   "cell_type": "code",
   "source": "m = ConcreteModel()",
   "id": "c6ffae68e0b25e83",
   "outputs": [],
   "execution_count": 14
  },
  {
   "cell_type": "code",
   "source": [
    "scales.scale_list()"
   ],
   "metadata": {
    "collapsed": false,
    "ExecuteTime": {
     "end_time": "2025-02-09T22:03:05.355340Z",
     "start_time": "2025-02-09T22:03:05.350424Z"
    }
   },
   "id": "472b099f5d2a5f6",
   "outputs": [
    {
     "data": {
      "text/plain": "{0: [1, 2, 3], 1: [0, 1, 2, 3, 4, 5, 6]}"
     },
     "execution_count": 15,
     "metadata": {},
     "output_type": "execute_result"
    }
   ],
   "execution_count": 15
  },
  {
   "cell_type": "code",
   "source": [
    "scales.scale_iter(scale_level=1)"
   ],
   "metadata": {
    "collapsed": false,
    "ExecuteTime": {
     "end_time": "2025-02-09T22:36:35.452224Z",
     "start_time": "2025-02-09T22:36:35.448805Z"
    }
   },
   "id": "ea572638cf41c03c",
   "outputs": [
    {
     "data": {
      "text/plain": "[(1, 1),\n (1, 2),\n (1, 3),\n (1, 4),\n (1, 5),\n (1, 6),\n (2, 0),\n (2, 1),\n (2, 2),\n (2, 3),\n (2, 4),\n (2, 5),\n (2, 6),\n (3, 0),\n (3, 1),\n (3, 2),\n (3, 3),\n (3, 4)]"
     },
     "execution_count": 18,
     "metadata": {},
     "output_type": "execute_result"
    }
   ],
   "execution_count": 18
  },
  {
   "metadata": {
    "ExecuteTime": {
     "end_time": "2025-02-09T22:03:05.361645Z",
     "start_time": "2025-02-09T22:03:05.359386Z"
    }
   },
   "cell_type": "code",
   "outputs": [],
   "execution_count": 16,
   "source": "",
   "id": "23e8566da610b99d"
  }
 ],
 "metadata": {
  "kernelspec": {
   "display_name": "Python 3",
   "language": "python",
   "name": "python3"
  },
  "language_info": {
   "codemirror_mode": {
    "name": "ipython",
    "version": 2
   },
   "file_extension": ".py",
   "mimetype": "text/x-python",
   "name": "python",
   "nbconvert_exporter": "python",
   "pygments_lexer": "ipython2",
   "version": "2.7.6"
  }
 },
 "nbformat": 4,
 "nbformat_minor": 5
}
