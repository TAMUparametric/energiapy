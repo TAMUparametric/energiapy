{
 "cells": [
  {
   "cell_type": "code",
   "execution_count": 14,
   "id": "initial_id",
   "metadata": {
    "collapsed": true,
    "ExecuteTime": {
     "end_time": "2025-03-21T17:29:42.871894Z",
     "start_time": "2025-03-21T17:29:42.867545Z"
    }
   },
   "outputs": [],
   "source": [
    "import sys\n",
    "sys.path.append('../../../src')\n",
    "import os\n",
    "import pandas\n",
    "import random\n",
    "import math\n",
    "from itertools import product\n",
    "from functools import reduce\n",
    "from energiapy.components.temporal_scale import TemporalScale\n",
    "from energiapy.components.resource import Resource, VaryingResource\n",
    "from energiapy.components.process import Process, ProcessMode, VaryingProcess\n",
    "from energiapy.components.location import Location\n",
    "from energiapy.components.transport import Transport, VaryingTransport\n",
    "from energiapy.components.network import Network\n",
    "from energiapy.components.scenario import Scenario\n",
    "from energiapy.model.constraints.demand import constraint_demand2\n",
    "from energiapy.components.result import Result\n",
    "from energiapy.model.formulate import formulate, Constraints, Objective\n",
    "from energiapy.plot import plot_results, plot_scenario, plot_location\n",
    "from energiapy.model.solve import solve\n",
    "from pyomo.environ import Param\n",
    "from pyomo.environ import value as pyoval\n",
    "from energiapy.utils.scale_utils import scale_pyomo_set, scale_tuple, scale_list, scale_changer\n",
    "import matplotlib.pyplot as plt\n",
    "from matplotlib import rc\n",
    "from typing import Union, Tuple, List\n",
    "from pyomo.environ import ConcreteModel, Var, Constraint, NonNegativeReals\n",
    "from pyomo.contrib.iis import write_iis\n",
    "import time\n",
    "import pickle\n",
    "from energiapy.model.constraints.constraints import make_constraint, Cons\n",
    "from energiapy.model.formulate import constraint_export, constraint_demand_penalty, constraint_demand_penalty_cost\n",
    "\n",
    "import mpisppy.utils.sputils as sputils\n",
    "from mpisppy.opt.ef import ExtensiveForm\n",
    "import networkx as nx"
   ]
  },
  {
   "cell_type": "code",
   "outputs": [],
   "source": [
    "_coms = 1\n",
    "\n",
    "design_planning_horizons = 1\n",
    "design_exec_scenarios = 4\n",
    "design_scale_factor = 13*7\n",
    "\n",
    "schedule_planning_horizons = 1\n",
    "schedule_exec_scenarios = 52\n",
    "schedule_time_intervals = 7\n",
    "\n",
    "M = 1e3  # Big M\n",
    "\n",
    "design_annualization_factor = 1/design_planning_horizons\n",
    "schedule_annualization_factor = 1/schedule_planning_horizons"
   ],
   "metadata": {
    "collapsed": false,
    "ExecuteTime": {
     "end_time": "2025-03-21T16:52:01.395795Z",
     "start_time": "2025-03-21T16:52:01.392660Z"
    }
   },
   "id": "211e0e948c030207",
   "execution_count": 2
  },
  {
   "cell_type": "code",
   "outputs": [],
   "source": [
    "def create_list(n_total: int, n: int):\n",
    "    return [1] * n + [0] * (n_total - n)"
   ],
   "metadata": {
    "collapsed": false,
    "ExecuteTime": {
     "end_time": "2025-03-21T17:02:01.885415Z",
     "start_time": "2025-03-21T17:02:01.882148Z"
    }
   },
   "id": "9c9c761e14f11ae6",
   "execution_count": 5
  },
  {
   "cell_type": "code",
   "outputs": [],
   "source": [
    "def sum_probabilities(d:dict):\n",
    "    total_prob = 0\n",
    "\n",
    "    def recursive_sum(current_dict:dict):\n",
    "        nonlocal total_prob\n",
    "        for key, value in current_dict.items():\n",
    "            if isinstance(value, dict):\n",
    "                # Recursively traverse if it's still a dictionary\n",
    "                recursive_sum(value)\n",
    "            elif key == 'prob':\n",
    "                # Add the probability value\n",
    "                total_prob += value\n",
    "\n",
    "    recursive_sum(d)\n",
    "    return total_prob"
   ],
   "metadata": {
    "collapsed": false,
    "ExecuteTime": {
     "end_time": "2025-03-21T17:02:07.378920Z",
     "start_time": "2025-03-21T17:02:07.375766Z"
    }
   },
   "id": "e2a1df229f7c0bd8",
   "execution_count": 6
  },
  {
   "cell_type": "code",
   "outputs": [],
   "source": [
    "def create_event_dict(n_total: int):\n",
    "    default_list = [1] * n_total\n",
    "\n",
    "    # If event names are same before '_'; they are considered mutually exclusive else the events are treated as independent\n",
    "    event_dict = {\n",
    "        'cap2_1': {'prob': 0.06, 'factor': pandas.DataFrame(data={('loc2', 'com1_process'): create_list(n_total, 1)})},\n",
    "        'cap2_2': {'prob': 0.12, 'factor': pandas.DataFrame(data={('loc2', 'com1_process'): create_list(n_total, 2)})},\n",
    "        'cap2_3': {'prob': 0.17, 'factor': pandas.DataFrame(data={('loc2', 'com1_process'): create_list(n_total, 3)})},\n",
    "        # 'cap2_1': {'prob': 0.35, 'factor': pandas.DataFrame(data={('loc2', 'com1_process'): create_list(n_total, 1)})},\n",
    "        'cap2_nd': {'prob': 0.65, 'factor': pandas.DataFrame(data={('loc2', 'com1_process'): default_list})},\n",
    "\n",
    "        'cap4_1': {'prob': 0.05, 'factor': pandas.DataFrame(data={('loc4', 'com1_process'): create_list(n_total, 1)})},\n",
    "        'cap4_2': {'prob': 0.15, 'factor': pandas.DataFrame(data={('loc4', 'com1_process'): create_list(n_total, 2)})},\n",
    "        'cap4_3': {'prob': 0.18, 'factor': pandas.DataFrame(data={('loc4', 'com1_process'): create_list(n_total, 3)})},\n",
    "        # 'cap4_2': {'prob': 0.38, 'factor': pandas.DataFrame(data={('loc4', 'com1_process'): create_list(n_total, 2)})},\n",
    "        'cap4_nd': {'prob': 0.62, 'factor': pandas.DataFrame(data={('loc4', 'com1_process'): default_list})},\n",
    "\n",
    "        'res6_1': {'prob': 0.03, 'factor': pandas.DataFrame(data={('loc6', 'com1_pur'): create_list(n_total, 1)})},\n",
    "        'res6_2': {'prob': 0.16, 'factor': pandas.DataFrame(data={('loc6', 'com1_pur'): create_list(n_total, 2)})},\n",
    "        'res6_3': {'prob': 0.17, 'factor': pandas.DataFrame(data={('loc6', 'com1_pur'): create_list(n_total, 3)})},\n",
    "        # 'res6_3': {'prob': 0.36, 'factor': pandas.DataFrame(data={('loc6', 'com1_pur'): create_list(n_total, 3)})},\n",
    "        'res6_nd': {'prob': 0.64, 'factor': pandas.DataFrame(data={('loc6', 'com1_pur'): default_list})},\n",
    "\n",
    "        'truck25_1': {'prob': 0.03, 'factor': pandas.DataFrame(data={('truck25', 'com1_loc2_out'): create_list(n_total, 1)})},\n",
    "        'truck25_2': {'prob': 0.2, 'factor': pandas.DataFrame(data={('truck25', 'com1_loc2_out'): create_list(n_total, 2)})},\n",
    "        'truck25_3': {'prob': 0.05, 'factor': pandas.DataFrame(data={('truck25', 'com1_loc2_out'): create_list(n_total, 2)})},\n",
    "        'truck25_nd': {'prob': 0.72, 'factor': pandas.DataFrame(data={('truck25', 'com1_loc2_out'): default_list})},\n",
    "\n",
    "        'truck47_1': {'prob': 0.04, 'factor': pandas.DataFrame(data={('truck47', 'com1_loc4_out'): create_list(n_total, 1)})},\n",
    "        'truck47_2': {'prob': 0.085, 'factor': pandas.DataFrame(data={('truck47', 'com1_loc4_out'): create_list(n_total, 2)})},\n",
    "        'truck47_3': {'prob': 0.075, 'factor': pandas.DataFrame(data={('truck47', 'com1_loc4_out'): create_list(n_total, 3)})},\n",
    "        'truck47_nd': {'prob': 0.80, 'factor': pandas.DataFrame(data={('truck47', 'com1_loc4_out'): default_list})}\n",
    "    }\n",
    "\n",
    "    return event_dict"
   ],
   "metadata": {
    "collapsed": false,
    "ExecuteTime": {
     "end_time": "2025-03-21T16:56:59.667798Z",
     "start_time": "2025-03-21T16:56:59.661381Z"
    }
   },
   "id": "125e29ebc37f42a0",
   "execution_count": 3
  },
  {
   "cell_type": "code",
   "outputs": [],
   "source": [
    "# Function to generate the scenario dictionary for n sets of events\n",
    "def create_scenario_dict(event_dict):\n",
    "    # Extract unique event prefixes (e.g., 'cap2', 'cap4', ...)\n",
    "    event_prefixes = set(key.split('_')[0] for key in event_dict)\n",
    "\n",
    "    # Group events by their prefixes\n",
    "    grouped_events = {prefix: [key for key in event_dict if key.startswith(prefix)] for prefix in event_prefixes}\n",
    "\n",
    "    # Create all possible combinations of events across the different groups\n",
    "    event_combinations = list(product(*grouped_events.values()))\n",
    "\n",
    "    scenario_dict = {}\n",
    "\n",
    "    # Iterate over all event combinations\n",
    "    for combination in event_combinations:\n",
    "        # Construct the scenario key\n",
    "        scenario_key = ' '.join(combination)\n",
    "\n",
    "        # Calculate the probability of this scenario\n",
    "        prob = 1\n",
    "        combined_factor = None\n",
    "\n",
    "        for event_key in combination:\n",
    "            # Multiply probabilities\n",
    "            prob *= event_dict[event_key]['prob']\n",
    "\n",
    "            # Combine factors (assumes they are pandas DataFrames)\n",
    "            if combined_factor is None:\n",
    "                combined_factor = event_dict[event_key]['factor'].copy()\n",
    "            else:\n",
    "                combined_factor = combined_factor.add(event_dict[event_key]['factor'], fill_value=0)\n",
    "\n",
    "        # Add to the scenario dictionary\n",
    "        scenario_dict[scenario_key] = {'prob': prob, 'factor': combined_factor}\n",
    "\n",
    "    return scenario_dict"
   ],
   "metadata": {
    "collapsed": false,
    "ExecuteTime": {
     "end_time": "2025-03-21T16:57:04.594566Z",
     "start_time": "2025-03-21T16:57:04.590361Z"
    }
   },
   "id": "2e31a4dfe17ade82",
   "execution_count": 4
  },
  {
   "cell_type": "code",
   "outputs": [],
   "source": [
    "def build_design_model(scen_df=pandas.DataFrame()):\n",
    "    default_df = pandas.DataFrame(data=[1] * design_exec_scenarios)\n",
    "    \n",
    "    # Define temporal scales\n",
    "    scales = TemporalScale(discretization_list=[schedule_planning_horizons, schedule_exec_scenarios, schedule_time_intervals])\n",
    "    \n",
    "    # ======================================================================================================================\n",
    "    # Declare resources/commodities\n",
    "    # ======================================================================================================================\n",
    "    com1_pur = Resource(name='com1_pur', cons_max=75*design_scale_factor, block={'imp': 1, 'urg': 1}, price=0.00, label='Commodity 1 consumed from outside the system', varying=[VaryingResource.DETERMINISTIC_AVAILABILITY])\n",
    "    \n",
    "    com1_in = Resource(name='com1_in', label='Commodity 1 received')\n",
    "    com1_out = Resource(name='com1_out', label='Commodity 1 to be sent out')\n",
    "    \n",
    "    com1_loc1_out = Resource(name='com1_loc1_out', label='Commodity 1 sent out from location 1')\n",
    "    com1_loc2_out = Resource(name='com1_loc2_out', label='Commodity 1 sent out from location 2')\n",
    "    com1_loc3_out = Resource(name='com1_loc3_out', label='Commodity 1 sent out from location 3')\n",
    "    com1_loc4_out = Resource(name='com1_loc4_out', label='Commodity 1 sent out from location 4')\n",
    "    com1_loc5_out = Resource(name='com1_loc5_out', label='Commodity 1 sent out from location 5')\n",
    "    com1_loc6_out = Resource(name='com1_loc6_out', label='Commodity 1 sent out from location 6')\n",
    "    com1_loc7_out = Resource(name='com1_loc7_out', label='Commodity 1 sent out from location 7')\n",
    "    \n",
    "    com1_sold = Resource(name='com1_sold', revenue=0.00, demand=True, sell=True, label='Commodity 1 sold to outside the system')\n",
    "    \n",
    "    # ======================================================================================================================\n",
    "    # Declare processes/storage capacities\n",
    "    # ======================================================================================================================\n",
    "    com1_process_capacity = 150*design_scale_factor\n",
    "    min_process_capacity = 0.01\n",
    "    \n",
    "    com1_procure = Process(name='procure com1', prod_max=com1_process_capacity, conversion={com1_pur: -1, com1_in: 1}, capex=0.1/design_scale_factor, vopex=0.01, prod_min=min_process_capacity, label='Procure com1')\n",
    "    com1_sell = Process(name='sell com1', prod_max=com1_process_capacity, conversion={com1_out: -1, com1_sold: 1}, capex=0.01/design_scale_factor, vopex=0.01, prod_min=min_process_capacity, label='Sell com1')\n",
    "    \n",
    "    com1_receive_loc1 = Process(name='com1_receive_loc1', prod_max=com1_process_capacity, conversion={com1_loc1_out:-1, com1_in:1}, capex=0.01/design_scale_factor, vopex=0.01, prod_min=min_process_capacity, label='Commodity 1 received from location 1')\n",
    "    com1_receive_loc2 = Process(name='com1_receive_loc2', prod_max=com1_process_capacity, conversion={com1_loc2_out:-1, com1_in:1}, capex=0.01/design_scale_factor, vopex=0.01, prod_min=min_process_capacity, label='Commodity 1 received from location 2')\n",
    "    com1_receive_loc3 = Process(name='com1_receive_loc3', prod_max=com1_process_capacity, conversion={com1_loc3_out:-1, com1_in:1}, capex=0.01/design_scale_factor, vopex=0.01, prod_min=min_process_capacity, label='Commodity 1 received from location 3')\n",
    "    com1_receive_loc4 = Process(name='com1_receive_loc4', prod_max=com1_process_capacity, conversion={com1_loc4_out:-1, com1_in:1}, capex=0.01/design_scale_factor, vopex=0.01, prod_min=min_process_capacity, label='Commodity 1 received from location 4')\n",
    "    com1_receive_loc5 = Process(name='com1_receive_loc5', prod_max=com1_process_capacity, conversion={com1_loc5_out:-1, com1_in:1}, capex=0.01/design_scale_factor, vopex=0.01, prod_min=min_process_capacity, label='Commodity 1 received from location 5')\n",
    "    com1_receive_loc6 = Process(name='com1_receive_loc6', prod_max=com1_process_capacity, conversion={com1_loc6_out:-1, com1_in:1}, capex=0.01/design_scale_factor, vopex=0.01, prod_min=min_process_capacity, label='Commodity 1 received from location 6')\n",
    "    com1_receive_loc7 = Process(name='com1_receive_loc7', prod_max=com1_process_capacity, conversion={com1_loc7_out:-1, com1_in:1}, capex=0.01/design_scale_factor, vopex=0.01, prod_min=min_process_capacity, label='Commodity 1 received from location 7')\n",
    "    \n",
    "    com1_process = Process(name='com1_process', prod_max=com1_process_capacity, conversion={com1_in: -1, com1_out: 1},  capex=0.01/design_scale_factor, vopex=0.01, prod_min=min_process_capacity, varying=[VaryingProcess.DETERMINISTIC_CAPACITY], label='Process the commodity through the location')\n",
    "    \n",
    "    com1_store = Process(name='com1_store', prod_max=com1_process_capacity, capex=0.01/design_scale_factor, vopex=5, store_min=0.01, store_max= 100*design_scale_factor, prod_min=min_process_capacity, label=\"Storage capacity of upto 100 units\", storage=com1_in, storage_cost=0.02, storage_capex=50/design_scale_factor)\n",
    "    \n",
    "    com1_loc1_send = Process(name='com1_loc1_send', prod_max=com1_process_capacity, conversion={com1_out:-1, com1_loc1_out:1}, capex=0.01/design_scale_factor, vopex=0.01, prod_min=min_process_capacity, label='Send commodity one from location 1')\n",
    "    com1_loc2_send = Process(name='com1_loc2_send', prod_max=com1_process_capacity, conversion={com1_out:-1, com1_loc2_out:1}, capex=0.01/design_scale_factor, vopex=0.01, prod_min=min_process_capacity, label='Send commodity one from location 2')\n",
    "    com1_loc3_send = Process(name='com1_loc3_send', prod_max=com1_process_capacity, conversion={com1_out:-1, com1_loc3_out:1}, capex=0.01/design_scale_factor, vopex=0.01, prod_min=min_process_capacity, label='Send commodity one from location 3')\n",
    "    com1_loc4_send = Process(name='com1_loc4_send', prod_max=com1_process_capacity, conversion={com1_out:-1, com1_loc4_out:1}, capex=0.01/design_scale_factor, vopex=0.01, prod_min=min_process_capacity, label='Send commodity one from location 4')\n",
    "    com1_loc5_send = Process(name='com1_loc5_send', prod_max=com1_process_capacity, conversion={com1_out:-1, com1_loc5_out:1}, capex=0.01/design_scale_factor, vopex=0.01, prod_min=min_process_capacity, label='Send commodity one from location 5')\n",
    "    com1_loc6_send = Process(name='com1_loc6_send', prod_max=com1_process_capacity, conversion={com1_out:-1, com1_loc6_out:1}, capex=0.01/design_scale_factor, vopex=0.01, prod_min=min_process_capacity, label='Send commodity one from location 6')\n",
    "    com1_loc7_send = Process(name='com1_loc7_send', prod_max=com1_process_capacity, conversion={com1_out:-1, com1_loc7_out:1}, capex=0.01/design_scale_factor, vopex=0.01, prod_min=min_process_capacity, label='Send commodity one from location 7')\n",
    "    \n",
    "    # ======================================================================================================================\n",
    "    # Declare locations/warehouses\n",
    "    # ======================================================================================================================\n",
    "    loc1 = Location(name='loc1', processes={com1_procure, com1_receive_loc2, com1_receive_loc3, com1_process, com1_store, com1_loc1_send}, label=\"Location 1\", scales=scales, demand_scale_level=1, capacity_scale_level=1, availability_scale_level=1, availability_factor={\n",
    "                        com1_pur: scen_df[[('loc1', 'com1_pur')]] if ('loc1', 'com1_pur') in scen_df else default_df})\n",
    "    \n",
    "    loc2 = Location(name='loc2', processes={com1_receive_loc1, com1_receive_loc4, com1_receive_loc5, com1_process, com1_store, com1_loc2_send}, label=\"Location 2\", scales=scales, demand_scale_level=1, capacity_scale_level=1, availability_scale_level=1, capacity_factor={\n",
    "        com1_process: scen_df[[('loc2', 'com1_process')]] if ('loc2', 'com1_process') in scen_df else default_df})\n",
    "    \n",
    "    loc3 = Location(name='loc3', processes={com1_receive_loc1, com1_receive_loc4, com1_process, com1_store, com1_loc3_send}, label=\"Location 3\", scales=scales, demand_scale_level=1, capacity_scale_level=1, availability_scale_level=1)\n",
    "    \n",
    "    loc4 = Location(name='loc4', processes={com1_receive_loc2, com1_receive_loc3, com1_receive_loc6, com1_receive_loc5, com1_receive_loc7, com1_process, com1_store, com1_loc4_send}, label=\"Location 4\", scales=scales, demand_scale_level=1, capacity_scale_level=1, availability_scale_level=1, capacity_factor={\n",
    "        com1_process: scen_df[[('loc4', 'com1_process')]] if ('loc4', 'com1_process') in scen_df else default_df})\n",
    "    \n",
    "    loc5 = Location(name='loc5', processes={com1_receive_loc1, com1_receive_loc2, com1_receive_loc4, com1_receive_loc6, com1_receive_loc7, com1_process, com1_store, com1_loc5_send, com1_sell}, label=\"Location 5\", scales=scales, demand_scale_level=1, capacity_scale_level=1, availability_scale_level=1)\n",
    "    \n",
    "    loc6 = Location(name='loc6', processes={com1_procure, com1_receive_loc4, com1_process, com1_store, com1_loc6_send}, label=\"Location 6\", scales=scales, demand_scale_level=1, capacity_scale_level=1, availability_scale_level=1, availability_factor={\n",
    "                        com1_pur: scen_df[[('loc6', 'com1_pur')]] if ('loc6', 'com1_pur') in scen_df else default_df})\n",
    "    \n",
    "    loc7 = Location(name='loc7', processes={com1_receive_loc4, com1_receive_loc5, com1_process, com1_store, com1_loc7_send}, label=\"Location 7\", scales=scales, demand_scale_level=1, capacity_scale_level=1, availability_scale_level=1, capacity_factor={\n",
    "        com1_process: scen_df[[('loc7', 'com1_process')]] if ('loc7', 'com1_process') in scen_df else default_df})\n",
    "    \n",
    "    # ======================================================================================================================\n",
    "    # Declare transport/trucks\n",
    "    # ======================================================================================================================\n",
    "    \n",
    "    truck_cap12 = 70 * design_scale_factor\n",
    "    truck_cap13 = 30 * design_scale_factor\n",
    "    truck_cap24 = 50 * design_scale_factor\n",
    "    truck_cap25 = 30 * design_scale_factor\n",
    "    truck_cap34 = 30 * design_scale_factor\n",
    "    truck_cap45 = 100 * design_scale_factor\n",
    "    truck_cap47 = 40 * design_scale_factor\n",
    "    truck_cap64 = 50 * design_scale_factor\n",
    "    truck_cap75 = 40 * design_scale_factor\n",
    "    \n",
    "    plane_cap15 = 50 * design_scale_factor\n",
    "    plane_cap65 = 50 * design_scale_factor\n",
    "    \n",
    "    truck_capmin = 0.01\n",
    "    plane_capmin = 0.01\n",
    "    \n",
    "    truck12 = Transport(name='truck12', resources={com1_loc1_out}, trans_max=truck_cap12, label='Truck from location 1 to 2', capex=0.5/design_scale_factor, vopex=0.05, trans_min=truck_capmin, varying=[VaryingTransport.DETERMINISTIC_CAPACITY])\n",
    "    # truck21 = Transport(name='truck21', resources={com1_loc2_out}, trans_max=truck_cap12, label='Truck from location 2 to 1', capex=0.0001, vopex=0.05, trans_min=truck_capmin, speed=50, varying=[VaryingTransport.DETERMINISTIC_CAPACITY])\n",
    "    \n",
    "    truck13 = Transport(name='truck13', resources={com1_loc1_out}, trans_max=truck_cap13, label='Truck from location 1 to 3', capex=0.3/design_scale_factor, vopex=0.03, trans_min=truck_capmin, varying=[VaryingTransport.DETERMINISTIC_CAPACITY])\n",
    "    # truck31 = Transport(name='truck31', resources={com1_loc3_out}, trans_max=truck_cap13, label='Truck from location 3 to 1', capex=0.0001, vopex=0.03, trans_min=truck_capmin, speed=50, varying=[VaryingTransport.DETERMINISTIC_CAPACITY])\n",
    "    \n",
    "    truck24 = Transport(name='truck24', resources={com1_loc2_out}, trans_max=truck_cap24, label='Truck from location 2 to 4', capex=0.5/design_scale_factor, vopex=0.05, trans_min=truck_capmin, varying=[VaryingTransport.DETERMINISTIC_CAPACITY])\n",
    "    # truck42 = Transport(name='truck42', resources={com1_loc4_out}, trans_max=truck_cap24, label='Truck from location 4 to 2', capex=0.0001, vopex=0.05, trans_min=truck_capmin, speed=50, varying=[VaryingTransport.DETERMINISTIC_CAPACITY])\n",
    "    \n",
    "    truck25 = Transport(name='truck25', resources={com1_loc2_out}, trans_max=truck_cap25, label='Truck from location 2 to 5', capex=0.3/design_scale_factor, vopex=0.03, trans_min=truck_capmin, varying=[VaryingTransport.DETERMINISTIC_CAPACITY])\n",
    "    # truck52 = Transport(name='truck52', resources={com1_loc5_out}, trans_max=truck_cap25, label='Truck from location 5 to 2', capex=0.0001, vopex=0.03, trans_min=truck_capmin, speed=50, varying=[VaryingTransport.DETERMINISTIC_CAPACITY])\n",
    "    \n",
    "    truck34 = Transport(name='truck34', resources={com1_loc3_out}, trans_max=truck_cap34, label='Truck from location 3 to 4', capex=0.2/design_scale_factor, vopex=0.02, trans_min=truck_capmin, varying=[VaryingTransport.DETERMINISTIC_CAPACITY])\n",
    "    # truck43 = Transport(name='truck43', resources={com1_loc4_out}, trans_max=truck_cap34, label='Truck from location 4 to 3', capex=0.0001, vopex=0.02, trans_min=truck_capmin, speed=50, varying=[VaryingTransport.DETERMINISTIC_CAPACITY])\n",
    "    \n",
    "    truck45 = Transport(name='truck45', resources={com1_loc4_out}, trans_max=truck_cap45, label='Truck from location 4 to 5', capex=1/design_scale_factor, vopex=0.1, trans_min=truck_capmin, varying=[VaryingTransport.DETERMINISTIC_CAPACITY])\n",
    "    # truck54 = Transport(name='truck54', resources={com1_loc5_out}, trans_max=truck_cap45, label='Truck from location 5 to 4', capex=0.0001, vopex=0.1, trans_min=truck_capmin, speed=50, varying=[VaryingTransport.DETERMINISTIC_CAPACITY])\n",
    "    \n",
    "    truck47 = Transport(name='truck47', resources={com1_loc4_out}, trans_max=truck_cap47, label='Truck from location 4 to 7', capex=0.4/design_scale_factor, vopex=0.04, trans_min=truck_capmin, varying=[VaryingTransport.DETERMINISTIC_CAPACITY])\n",
    "    # truck74 = Transport(name='truck74', resources={com1_loc7_out}, trans_max=truck_cap47, label='Truck from location 7 to 4', capex=0.0001, vopex=0.04, trans_min=truck_capmin, speed=50, varying=[VaryingTransport.DETERMINISTIC_CAPACITY])\n",
    "    \n",
    "    truck64 = Transport(name='truck64', resources={com1_loc6_out}, trans_max=truck_cap64, label='Truck from location 6 to 4', capex=0.5/design_scale_factor, vopex=0.05, trans_min=truck_capmin, varying=[VaryingTransport.DETERMINISTIC_CAPACITY])\n",
    "    # truck46 = Transport(name='truck46', resources={com1_loc4_out}, trans_max=truck_cap64, label='Truck from location 4 to 6', capex=0.0001, vopex=0.05, trans_min=truck_capmin, speed=50, varying=[VaryingTransport.DETERMINISTIC_CAPACITY])\n",
    "    \n",
    "    truck75 = Transport(name='truck75', resources={com1_loc7_out}, trans_max=truck_cap75, label='Truck from location 7 to 5', capex=0.4/design_scale_factor, vopex=0.04, trans_min=truck_capmin, varying=[VaryingTransport.DETERMINISTIC_CAPACITY])\n",
    "    # truck57 = Transport(name='truck57', resources={com1_loc5_out}, trans_max=truck_cap75, label='Truck from location 5 to 7', capex=0.0001, vopex=0.04, trans_min=truck_capmin, speed=50, varying=[VaryingTransport.DETERMINISTIC_CAPACITY])\n",
    "    \n",
    "    plane15 = Transport(name='plane15', resources={com1_loc1_out}, trans_max=plane_cap15, label='Plane from location 1 to 5', capex=1/design_scale_factor, vopex=0.5,\n",
    "                        trans_min=plane_capmin, varying=[VaryingTransport.DETERMINISTIC_CAPACITY])\n",
    "    \n",
    "    plane65 = Transport(name='plane65', resources={com1_loc6_out}, trans_max=plane_cap65, label='Plane from location 6 to 5', capex=1/design_scale_factor, vopex=0.5,\n",
    "                        trans_min=plane_capmin, varying=[VaryingTransport.DETERMINISTIC_CAPACITY])\n",
    "    \n",
    "    # ======================================================================================================================\n",
    "    # Declare network\n",
    "    # ======================================================================================================================\n",
    "\n",
    "    transport_matrix = [\n",
    "        [[], [truck12], [truck13], [], [plane15], [], []],  # source: location 1\n",
    "        [[], [], [], [truck24], [truck25], [], []],  # source: location 2\n",
    "        [[], [], [], [truck34], [], [], []],  # source: location 3\n",
    "        [[], [], [], [], [truck45], [], [truck47]],  # source: location 4\n",
    "        [[], [], [], [], [], [], []],  # source: location 5\n",
    "        [[], [], [], [truck64], [plane65], [], []],  # source: location 6\n",
    "        [[], [], [], [], [truck75], [], []]  # source: location 7\n",
    "    ]\n",
    "\n",
    "    # transport_matrix = [\n",
    "    #     [[], [truck12], [truck13], [], [], [], []],  # source: location 1\n",
    "    #     [[truck21], [], [], [truck24], [truck25], [], []],  # source: location 2\n",
    "    #     [[truck31], [], [], [truck34], [], [], []],  # source: location 3\n",
    "    #     [[], [truck42], [truck43], [], [truck45], [truck46], [truck47]],  # source: location 4\n",
    "    #     [[], [truck52], [], [truck54], [], [], [truck57]],  # source: location 5\n",
    "    #     [[], [], [], [truck64], [], [], []],  # source: location 6\n",
    "    #     [[], [], [], [truck74], [truck75], [], []]  # source: location 7\n",
    "    # ]\n",
    "\n",
    "    distance_matrix = [\n",
    "        [0, 55, 196, M, 130, M, M],\n",
    "        [55, 0, M, 163, 112, M, 134],\n",
    "        [196, M, 0, 63, M, M, M],\n",
    "        [M, 163, 63, 0, 95, 117, 88],\n",
    "        [130, 112, M, 95, 0, 150, 134],\n",
    "        [M, M, M, 117, 150, 0, M],\n",
    "        [M, 134, M, 88, 134, M, 0]\n",
    "    ]\n",
    "\n",
    "    locset = [loc1, loc2, loc3, loc4, loc5, loc6, loc7]\n",
    "\n",
    "    sources = locset\n",
    "    sinks = locset\n",
    "\n",
    "    network = Network(name='Network', scales=scales, source_locations=sources, sink_locations=sinks,\n",
    "                      transport_matrix=transport_matrix, distance_matrix=distance_matrix, transport_capacity_scale_level=1,\n",
    "                      transport_capacity_factor={(loc1, loc2): {truck12: scen_df[[('truck12', 'com1_loc1_out')]] if ('truck12', 'com1_loc1_out') in scen_df else default_df},\n",
    "                                                 (loc1, loc3): {truck13: scen_df[[('truck13', 'com1_loc1_out')]] if ('truck13', 'com1_loc1_out') in scen_df else default_df},\n",
    "                                                 (loc1, loc5): {plane15: scen_df[[('plane15', 'com1_loc1_out')]] if ('plane15', 'com1_loc1_out') in scen_df else default_df},\n",
    "                                                 (loc2, loc4): {truck24: scen_df[[('truck24', 'com1_loc2_out')]] if ('truck24', 'com1_loc2_out') in scen_df else default_df},\n",
    "                                                 (loc2, loc5): {truck25: scen_df[[('truck25', 'com1_loc2_out')]] if ('truck25', 'com1_loc2_out') in scen_df else default_df},\n",
    "                                                 (loc3, loc4): {truck34: scen_df[[('truck34', 'com1_loc3_out')]] if ('truck34', 'com1_loc3_out') in scen_df else default_df},\n",
    "                                                 (loc4, loc5): {truck45: scen_df[[('truck45', 'com1_loc4_out')]] if ('truck45', 'com1_loc4_out') in scen_df else default_df},\n",
    "                                                 (loc4, loc7): {truck47: scen_df[[('truck47', 'com1_loc4_out')]] if ('truck47', 'com1_loc4_out') in scen_df else default_df},\n",
    "                                                 (loc6, loc4): {truck64: scen_df[[('truck64', 'com1_loc6_out')]] if ('truck64', 'com1_loc6_out') in scen_df else default_df},\n",
    "                                                 (loc6, loc5): {plane65: scen_df[[('plane65', 'com1_loc6_out')]] if ('plane65', 'com1_loc6_out') in scen_df else default_df},\n",
    "                                                 (loc7, loc5): {truck75: scen_df[[('truck75', 'com1_loc7_out')]] if ('truck75', 'com1_loc7_out') in scen_df else default_df},\n",
    "                                                 })\n",
    "    \n",
    "    # ======================================================================================================================\n",
    "    # Declare scenario\n",
    "    # ======================================================================================================================\n",
    "    \n",
    "    daily_demand = 100*design_scale_factor\n",
    "    demand_penalty = 200\n",
    "    \n",
    "    demand_dict = {i: {com1_sold: daily_demand} if i == loc5 else {com1_sold: 0} for i in locset}\n",
    "    demand_penalty_dict = {i: {com1_sold: demand_penalty} if i == loc5 else {com1_sold: 0} for i in locset}\n",
    "    \n",
    "    scenario = Scenario(name=f'design scenario', scales=scales, scheduling_scale_level=1, network_scale_level=0, purchase_scale_level=1, availability_scale_level=1, demand_scale_level=1, capacity_scale_level=1, network=network, demand=demand_dict, demand_penalty=demand_penalty_dict, label='Design Scenario', annualization_factor=design_annualization_factor)\n",
    "    \n",
    "    if scen_df.empty:\n",
    "        # ======================================================================================================================\n",
    "        # Declare problem\n",
    "        # ======================================================================================================================\n",
    "\n",
    "        problem_mincost = formulate(scenario=scenario,\n",
    "                                    constraints={Constraints.COST, Constraints.TRANSPORT, Constraints.RESOURCE_BALANCE,\n",
    "                                                 Constraints.INVENTORY, Constraints.PRODUCTION, Constraints.DEMAND,\n",
    "                                                 Constraints.NETWORK},\n",
    "                                    demand_sign='eq', objective=Objective.COST_W_DEMAND_PENALTY)\n",
    "\n",
    "        scale_iter = scale_tuple(instance=problem_mincost, scale_levels=scenario.network_scale_level + 1)\n",
    "        # capex_process = sum(problem_mincost.Capex_network[scale_] for scale_ in scale_iter)\n",
    "        # cost_trans_capex = sum(problem_mincost.Capex_transport_network[scale_] for scale_ in scale_iter)\n",
    "        \n",
    "        problem_mincost.first_stage_cost = Var(within=NonNegativeReals, doc='First Stage Cost')\n",
    "        \n",
    "        def first_stage_cost_rule(instance):\n",
    "            return (instance.first_stage_cost == sum(instance.Capex_network[scale_] for scale_ in scale_iter) + \n",
    "                                                sum(instance.Capex_transport_network[scale_] for scale_ in scale_iter))\n",
    "        \n",
    "        problem_mincost.constraint_first_stage_cost = Constraint(rule=first_stage_cost_rule)\n",
    "        \n",
    "        return scenario, problem_mincost\n",
    "    else:\n",
    "        return scenario"
   ],
   "metadata": {
    "collapsed": false,
    "ExecuteTime": {
     "end_time": "2025-03-21T17:03:59.214907Z",
     "start_time": "2025-03-21T17:03:59.199014Z"
    }
   },
   "id": "3c209b11b6c37ede",
   "execution_count": 7
  },
  {
   "cell_type": "code",
   "outputs": [],
   "source": [
    "def build_design_smodel(scen_df=pandas.DataFrame()):\n",
    "    scenario = build_design_model(scen_df)\n",
    "    # ======================================================================================================================\n",
    "    # Declare problem\n",
    "    # ======================================================================================================================\n",
    "\n",
    "    problem_mincost = formulate(scenario=scenario,\n",
    "                                constraints={Constraints.COST, Constraints.TRANSPORT, Constraints.RESOURCE_BALANCE,\n",
    "                                             Constraints.INVENTORY, Constraints.PRODUCTION, Constraints.DEMAND,\n",
    "                                             Constraints.NETWORK},\n",
    "                                demand_sign='eq', objective=Objective.COST_W_DEMAND_PENALTY)\n",
    "\n",
    "    scale_iter = scale_tuple(instance=problem_mincost, scale_levels=scenario.network_scale_level + 1)\n",
    "    # capex_process = sum(problem_mincost.Capex_network[scale_] for scale_ in scale_iter)\n",
    "    # cost_trans_capex = sum(problem_mincost.Capex_transport_network[scale_] for scale_ in scale_iter)\n",
    "\n",
    "    problem_mincost.first_stage_cost = Var(within=NonNegativeReals, doc='First Stage Cost')\n",
    "\n",
    "    def first_stage_cost_rule(instance):\n",
    "        return (instance.first_stage_cost == sum(instance.Capex_network[scale_] for scale_ in scale_iter) +\n",
    "                sum(instance.Capex_transport_network[scale_] for scale_ in scale_iter))\n",
    "\n",
    "    problem_mincost.constraint_first_stage_cost = Constraint(rule=first_stage_cost_rule)\n",
    "\n",
    "    return scenario, problem_mincost"
   ],
   "metadata": {
    "collapsed": false,
    "ExecuteTime": {
     "end_time": "2025-03-21T17:04:05.124188Z",
     "start_time": "2025-03-21T17:04:05.119901Z"
    }
   },
   "id": "60db4377373178b7",
   "execution_count": 8
  },
  {
   "cell_type": "code",
   "outputs": [],
   "source": [
    "def design_scenario_creator(scen_name, **kwargs):\n",
    "    scen_dict = kwargs.get('scenario_dict')\n",
    "    scen, model = build_design_smodel(scen_df=scen_dict[scen_name]['factor'])\n",
    "    sputils.attach_root_node(model, model.first_stage_cost,\n",
    "                             [model.X_P, model.Cap_P, model.X_S, model.Cap_S, model.X_F, model.Cap_F])\n",
    "    model._mpisppy_probability = scen_dict[scen_name]['prob']\n",
    "    return model"
   ],
   "metadata": {
    "collapsed": false,
    "ExecuteTime": {
     "end_time": "2025-03-21T17:04:14.494301Z",
     "start_time": "2025-03-21T17:04:14.491372Z"
    }
   },
   "id": "c45f1e22cd612d8a",
   "execution_count": 9
  },
  {
   "cell_type": "code",
   "outputs": [],
   "source": [
    "options = {\"solver\": \"gurobi\"}\n",
    "solver_options = {\n",
    "    'MIPGap': 0.005,\n",
    "    'Heuristics': 0.20\n",
    "}"
   ],
   "metadata": {
    "collapsed": false,
    "ExecuteTime": {
     "end_time": "2025-03-21T17:04:21.674233Z",
     "start_time": "2025-03-21T17:04:21.670965Z"
    }
   },
   "id": "2cc3cc3dd6c0e47f",
   "execution_count": 10
  },
  {
   "cell_type": "code",
   "outputs": [
    {
     "name": "stdout",
     "output_type": "stream",
     "text": [
      "Sum of probabilities of all scenarios: 1.000000\n",
      "Number of considered scenarios: 1024\n"
     ]
    }
   ],
   "source": [
    "# event_dict = create_event_dict(n_total=design_exec_scenarios)\n",
    "# scenario_dict = create_scenario_dict(event_dict=event_dict)\n",
    "# scenario_names = list(scenario_dict.keys())\n",
    "# \n",
    "# with open('scenario_dict_RR.pkl', 'wb') as file:\n",
    "#     pickle.dump(scenario_dict, file)\n",
    "# \n",
    "# # print(*scenario_names, sep='\\n')\n",
    "# print(f\"Sum of probabilities of all scenarios: {sum(scenario_dict[scen]['prob'] for scen in scenario_dict):.6f}\")\n",
    "# print(f'Number of considered scenarios: {len(scenario_names)}')"
   ],
   "metadata": {
    "collapsed": false,
    "ExecuteTime": {
     "end_time": "2025-03-21T17:25:30.166736Z",
     "start_time": "2025-03-21T17:25:26.598228Z"
    }
   },
   "id": "72390b011c63e927",
   "execution_count": 11
  },
  {
   "cell_type": "code",
   "outputs": [
    {
     "name": "stdout",
     "output_type": "stream",
     "text": [
      "Sum of probabilities of all scenarios: 1.000000\n",
      "Number of considered scenarios: 1024\n"
     ]
    }
   ],
   "source": [
    "with open('scenario_dict_RR.pkl', 'rb') as file:\n",
    "    load_scenario_dict = pickle.load(file)\n",
    "\n",
    "load_scenario_names = list(load_scenario_dict.keys())\n",
    "\n",
    "print(f\"Sum of probabilities of all scenarios: {sum(load_scenario_dict[scen]['prob'] for scen in load_scenario_dict):.6f}\")\n",
    "print(f'Number of considered scenarios: {len(load_scenario_names)}')"
   ],
   "metadata": {
    "collapsed": false,
    "ExecuteTime": {
     "end_time": "2025-03-21T17:25:30.291331Z",
     "start_time": "2025-03-21T17:25:30.166736Z"
    }
   },
   "id": "fb0d045ae0c5323a",
   "execution_count": 12
  },
  {
   "cell_type": "code",
   "outputs": [
    {
     "data": {
      "text/plain": "['cap4_1 cap2_1 res6_1 truck47_1 truck25_1',\n 'cap4_1 cap2_1 res6_1 truck47_1 truck25_2',\n 'cap4_1 cap2_1 res6_1 truck47_1 truck25_3',\n 'cap4_1 cap2_1 res6_1 truck47_1 truck25_nd',\n 'cap4_1 cap2_1 res6_1 truck47_2 truck25_1',\n 'cap4_1 cap2_1 res6_1 truck47_2 truck25_2',\n 'cap4_1 cap2_1 res6_1 truck47_2 truck25_3',\n 'cap4_1 cap2_1 res6_1 truck47_2 truck25_nd',\n 'cap4_1 cap2_1 res6_1 truck47_3 truck25_1',\n 'cap4_1 cap2_1 res6_1 truck47_3 truck25_2',\n 'cap4_1 cap2_1 res6_1 truck47_3 truck25_3',\n 'cap4_1 cap2_1 res6_1 truck47_3 truck25_nd',\n 'cap4_1 cap2_1 res6_1 truck47_nd truck25_1',\n 'cap4_1 cap2_1 res6_1 truck47_nd truck25_2',\n 'cap4_1 cap2_1 res6_1 truck47_nd truck25_3',\n 'cap4_1 cap2_1 res6_1 truck47_nd truck25_nd',\n 'cap4_1 cap2_1 res6_2 truck47_1 truck25_1',\n 'cap4_1 cap2_1 res6_2 truck47_1 truck25_2',\n 'cap4_1 cap2_1 res6_2 truck47_1 truck25_3',\n 'cap4_1 cap2_1 res6_2 truck47_1 truck25_nd',\n 'cap4_1 cap2_1 res6_2 truck47_2 truck25_1',\n 'cap4_1 cap2_1 res6_2 truck47_2 truck25_2',\n 'cap4_1 cap2_1 res6_2 truck47_2 truck25_3',\n 'cap4_1 cap2_1 res6_2 truck47_2 truck25_nd',\n 'cap4_1 cap2_1 res6_2 truck47_3 truck25_1',\n 'cap4_1 cap2_1 res6_2 truck47_3 truck25_2',\n 'cap4_1 cap2_1 res6_2 truck47_3 truck25_3',\n 'cap4_1 cap2_1 res6_2 truck47_3 truck25_nd',\n 'cap4_1 cap2_1 res6_2 truck47_nd truck25_1',\n 'cap4_1 cap2_1 res6_2 truck47_nd truck25_2',\n 'cap4_1 cap2_1 res6_2 truck47_nd truck25_3',\n 'cap4_1 cap2_1 res6_2 truck47_nd truck25_nd',\n 'cap4_1 cap2_1 res6_3 truck47_1 truck25_1',\n 'cap4_1 cap2_1 res6_3 truck47_1 truck25_2',\n 'cap4_1 cap2_1 res6_3 truck47_1 truck25_3',\n 'cap4_1 cap2_1 res6_3 truck47_1 truck25_nd',\n 'cap4_1 cap2_1 res6_3 truck47_2 truck25_1',\n 'cap4_1 cap2_1 res6_3 truck47_2 truck25_2',\n 'cap4_1 cap2_1 res6_3 truck47_2 truck25_3',\n 'cap4_1 cap2_1 res6_3 truck47_2 truck25_nd',\n 'cap4_1 cap2_1 res6_3 truck47_3 truck25_1',\n 'cap4_1 cap2_1 res6_3 truck47_3 truck25_2',\n 'cap4_1 cap2_1 res6_3 truck47_3 truck25_3',\n 'cap4_1 cap2_1 res6_3 truck47_3 truck25_nd',\n 'cap4_1 cap2_1 res6_3 truck47_nd truck25_1',\n 'cap4_1 cap2_1 res6_3 truck47_nd truck25_2',\n 'cap4_1 cap2_1 res6_3 truck47_nd truck25_3',\n 'cap4_1 cap2_1 res6_3 truck47_nd truck25_nd',\n 'cap4_1 cap2_1 res6_nd truck47_1 truck25_1',\n 'cap4_1 cap2_1 res6_nd truck47_1 truck25_2',\n 'cap4_1 cap2_1 res6_nd truck47_1 truck25_3',\n 'cap4_1 cap2_1 res6_nd truck47_1 truck25_nd',\n 'cap4_1 cap2_1 res6_nd truck47_2 truck25_1',\n 'cap4_1 cap2_1 res6_nd truck47_2 truck25_2',\n 'cap4_1 cap2_1 res6_nd truck47_2 truck25_3',\n 'cap4_1 cap2_1 res6_nd truck47_2 truck25_nd',\n 'cap4_1 cap2_1 res6_nd truck47_3 truck25_1',\n 'cap4_1 cap2_1 res6_nd truck47_3 truck25_2',\n 'cap4_1 cap2_1 res6_nd truck47_3 truck25_3',\n 'cap4_1 cap2_1 res6_nd truck47_3 truck25_nd',\n 'cap4_1 cap2_1 res6_nd truck47_nd truck25_1',\n 'cap4_1 cap2_1 res6_nd truck47_nd truck25_2',\n 'cap4_1 cap2_1 res6_nd truck47_nd truck25_3',\n 'cap4_1 cap2_1 res6_nd truck47_nd truck25_nd',\n 'cap4_1 cap2_2 res6_1 truck47_1 truck25_1',\n 'cap4_1 cap2_2 res6_1 truck47_1 truck25_2',\n 'cap4_1 cap2_2 res6_1 truck47_1 truck25_3',\n 'cap4_1 cap2_2 res6_1 truck47_1 truck25_nd',\n 'cap4_1 cap2_2 res6_1 truck47_2 truck25_1',\n 'cap4_1 cap2_2 res6_1 truck47_2 truck25_2',\n 'cap4_1 cap2_2 res6_1 truck47_2 truck25_3',\n 'cap4_1 cap2_2 res6_1 truck47_2 truck25_nd',\n 'cap4_1 cap2_2 res6_1 truck47_3 truck25_1',\n 'cap4_1 cap2_2 res6_1 truck47_3 truck25_2',\n 'cap4_1 cap2_2 res6_1 truck47_3 truck25_3',\n 'cap4_1 cap2_2 res6_1 truck47_3 truck25_nd',\n 'cap4_1 cap2_2 res6_1 truck47_nd truck25_1',\n 'cap4_1 cap2_2 res6_1 truck47_nd truck25_2',\n 'cap4_1 cap2_2 res6_1 truck47_nd truck25_3',\n 'cap4_1 cap2_2 res6_1 truck47_nd truck25_nd',\n 'cap4_1 cap2_2 res6_2 truck47_1 truck25_1',\n 'cap4_1 cap2_2 res6_2 truck47_1 truck25_2',\n 'cap4_1 cap2_2 res6_2 truck47_1 truck25_3',\n 'cap4_1 cap2_2 res6_2 truck47_1 truck25_nd',\n 'cap4_1 cap2_2 res6_2 truck47_2 truck25_1',\n 'cap4_1 cap2_2 res6_2 truck47_2 truck25_2',\n 'cap4_1 cap2_2 res6_2 truck47_2 truck25_3',\n 'cap4_1 cap2_2 res6_2 truck47_2 truck25_nd',\n 'cap4_1 cap2_2 res6_2 truck47_3 truck25_1',\n 'cap4_1 cap2_2 res6_2 truck47_3 truck25_2',\n 'cap4_1 cap2_2 res6_2 truck47_3 truck25_3',\n 'cap4_1 cap2_2 res6_2 truck47_3 truck25_nd',\n 'cap4_1 cap2_2 res6_2 truck47_nd truck25_1',\n 'cap4_1 cap2_2 res6_2 truck47_nd truck25_2',\n 'cap4_1 cap2_2 res6_2 truck47_nd truck25_3',\n 'cap4_1 cap2_2 res6_2 truck47_nd truck25_nd',\n 'cap4_1 cap2_2 res6_3 truck47_1 truck25_1',\n 'cap4_1 cap2_2 res6_3 truck47_1 truck25_2',\n 'cap4_1 cap2_2 res6_3 truck47_1 truck25_3',\n 'cap4_1 cap2_2 res6_3 truck47_1 truck25_nd',\n 'cap4_1 cap2_2 res6_3 truck47_2 truck25_1',\n 'cap4_1 cap2_2 res6_3 truck47_2 truck25_2',\n 'cap4_1 cap2_2 res6_3 truck47_2 truck25_3',\n 'cap4_1 cap2_2 res6_3 truck47_2 truck25_nd',\n 'cap4_1 cap2_2 res6_3 truck47_3 truck25_1',\n 'cap4_1 cap2_2 res6_3 truck47_3 truck25_2',\n 'cap4_1 cap2_2 res6_3 truck47_3 truck25_3',\n 'cap4_1 cap2_2 res6_3 truck47_3 truck25_nd',\n 'cap4_1 cap2_2 res6_3 truck47_nd truck25_1',\n 'cap4_1 cap2_2 res6_3 truck47_nd truck25_2',\n 'cap4_1 cap2_2 res6_3 truck47_nd truck25_3',\n 'cap4_1 cap2_2 res6_3 truck47_nd truck25_nd',\n 'cap4_1 cap2_2 res6_nd truck47_1 truck25_1',\n 'cap4_1 cap2_2 res6_nd truck47_1 truck25_2',\n 'cap4_1 cap2_2 res6_nd truck47_1 truck25_3',\n 'cap4_1 cap2_2 res6_nd truck47_1 truck25_nd',\n 'cap4_1 cap2_2 res6_nd truck47_2 truck25_1',\n 'cap4_1 cap2_2 res6_nd truck47_2 truck25_2',\n 'cap4_1 cap2_2 res6_nd truck47_2 truck25_3',\n 'cap4_1 cap2_2 res6_nd truck47_2 truck25_nd',\n 'cap4_1 cap2_2 res6_nd truck47_3 truck25_1',\n 'cap4_1 cap2_2 res6_nd truck47_3 truck25_2',\n 'cap4_1 cap2_2 res6_nd truck47_3 truck25_3',\n 'cap4_1 cap2_2 res6_nd truck47_3 truck25_nd',\n 'cap4_1 cap2_2 res6_nd truck47_nd truck25_1',\n 'cap4_1 cap2_2 res6_nd truck47_nd truck25_2',\n 'cap4_1 cap2_2 res6_nd truck47_nd truck25_3',\n 'cap4_1 cap2_2 res6_nd truck47_nd truck25_nd',\n 'cap4_1 cap2_3 res6_1 truck47_1 truck25_1',\n 'cap4_1 cap2_3 res6_1 truck47_1 truck25_2',\n 'cap4_1 cap2_3 res6_1 truck47_1 truck25_3',\n 'cap4_1 cap2_3 res6_1 truck47_1 truck25_nd',\n 'cap4_1 cap2_3 res6_1 truck47_2 truck25_1',\n 'cap4_1 cap2_3 res6_1 truck47_2 truck25_2',\n 'cap4_1 cap2_3 res6_1 truck47_2 truck25_3',\n 'cap4_1 cap2_3 res6_1 truck47_2 truck25_nd',\n 'cap4_1 cap2_3 res6_1 truck47_3 truck25_1',\n 'cap4_1 cap2_3 res6_1 truck47_3 truck25_2',\n 'cap4_1 cap2_3 res6_1 truck47_3 truck25_3',\n 'cap4_1 cap2_3 res6_1 truck47_3 truck25_nd',\n 'cap4_1 cap2_3 res6_1 truck47_nd truck25_1',\n 'cap4_1 cap2_3 res6_1 truck47_nd truck25_2',\n 'cap4_1 cap2_3 res6_1 truck47_nd truck25_3',\n 'cap4_1 cap2_3 res6_1 truck47_nd truck25_nd',\n 'cap4_1 cap2_3 res6_2 truck47_1 truck25_1',\n 'cap4_1 cap2_3 res6_2 truck47_1 truck25_2',\n 'cap4_1 cap2_3 res6_2 truck47_1 truck25_3',\n 'cap4_1 cap2_3 res6_2 truck47_1 truck25_nd',\n 'cap4_1 cap2_3 res6_2 truck47_2 truck25_1',\n 'cap4_1 cap2_3 res6_2 truck47_2 truck25_2',\n 'cap4_1 cap2_3 res6_2 truck47_2 truck25_3',\n 'cap4_1 cap2_3 res6_2 truck47_2 truck25_nd',\n 'cap4_1 cap2_3 res6_2 truck47_3 truck25_1',\n 'cap4_1 cap2_3 res6_2 truck47_3 truck25_2',\n 'cap4_1 cap2_3 res6_2 truck47_3 truck25_3',\n 'cap4_1 cap2_3 res6_2 truck47_3 truck25_nd',\n 'cap4_1 cap2_3 res6_2 truck47_nd truck25_1',\n 'cap4_1 cap2_3 res6_2 truck47_nd truck25_2',\n 'cap4_1 cap2_3 res6_2 truck47_nd truck25_3',\n 'cap4_1 cap2_3 res6_2 truck47_nd truck25_nd',\n 'cap4_1 cap2_3 res6_3 truck47_1 truck25_1',\n 'cap4_1 cap2_3 res6_3 truck47_1 truck25_2',\n 'cap4_1 cap2_3 res6_3 truck47_1 truck25_3',\n 'cap4_1 cap2_3 res6_3 truck47_1 truck25_nd',\n 'cap4_1 cap2_3 res6_3 truck47_2 truck25_1',\n 'cap4_1 cap2_3 res6_3 truck47_2 truck25_2',\n 'cap4_1 cap2_3 res6_3 truck47_2 truck25_3',\n 'cap4_1 cap2_3 res6_3 truck47_2 truck25_nd',\n 'cap4_1 cap2_3 res6_3 truck47_3 truck25_1',\n 'cap4_1 cap2_3 res6_3 truck47_3 truck25_2',\n 'cap4_1 cap2_3 res6_3 truck47_3 truck25_3',\n 'cap4_1 cap2_3 res6_3 truck47_3 truck25_nd',\n 'cap4_1 cap2_3 res6_3 truck47_nd truck25_1',\n 'cap4_1 cap2_3 res6_3 truck47_nd truck25_2',\n 'cap4_1 cap2_3 res6_3 truck47_nd truck25_3',\n 'cap4_1 cap2_3 res6_3 truck47_nd truck25_nd',\n 'cap4_1 cap2_3 res6_nd truck47_1 truck25_1',\n 'cap4_1 cap2_3 res6_nd truck47_1 truck25_2',\n 'cap4_1 cap2_3 res6_nd truck47_1 truck25_3',\n 'cap4_1 cap2_3 res6_nd truck47_1 truck25_nd',\n 'cap4_1 cap2_3 res6_nd truck47_2 truck25_1',\n 'cap4_1 cap2_3 res6_nd truck47_2 truck25_2',\n 'cap4_1 cap2_3 res6_nd truck47_2 truck25_3',\n 'cap4_1 cap2_3 res6_nd truck47_2 truck25_nd',\n 'cap4_1 cap2_3 res6_nd truck47_3 truck25_1',\n 'cap4_1 cap2_3 res6_nd truck47_3 truck25_2',\n 'cap4_1 cap2_3 res6_nd truck47_3 truck25_3',\n 'cap4_1 cap2_3 res6_nd truck47_3 truck25_nd',\n 'cap4_1 cap2_3 res6_nd truck47_nd truck25_1',\n 'cap4_1 cap2_3 res6_nd truck47_nd truck25_2',\n 'cap4_1 cap2_3 res6_nd truck47_nd truck25_3',\n 'cap4_1 cap2_3 res6_nd truck47_nd truck25_nd',\n 'cap4_1 cap2_nd res6_1 truck47_1 truck25_1',\n 'cap4_1 cap2_nd res6_1 truck47_1 truck25_2',\n 'cap4_1 cap2_nd res6_1 truck47_1 truck25_3',\n 'cap4_1 cap2_nd res6_1 truck47_1 truck25_nd',\n 'cap4_1 cap2_nd res6_1 truck47_2 truck25_1',\n 'cap4_1 cap2_nd res6_1 truck47_2 truck25_2',\n 'cap4_1 cap2_nd res6_1 truck47_2 truck25_3',\n 'cap4_1 cap2_nd res6_1 truck47_2 truck25_nd',\n 'cap4_1 cap2_nd res6_1 truck47_3 truck25_1',\n 'cap4_1 cap2_nd res6_1 truck47_3 truck25_2',\n 'cap4_1 cap2_nd res6_1 truck47_3 truck25_3',\n 'cap4_1 cap2_nd res6_1 truck47_3 truck25_nd',\n 'cap4_1 cap2_nd res6_1 truck47_nd truck25_1',\n 'cap4_1 cap2_nd res6_1 truck47_nd truck25_2',\n 'cap4_1 cap2_nd res6_1 truck47_nd truck25_3',\n 'cap4_1 cap2_nd res6_1 truck47_nd truck25_nd',\n 'cap4_1 cap2_nd res6_2 truck47_1 truck25_1',\n 'cap4_1 cap2_nd res6_2 truck47_1 truck25_2',\n 'cap4_1 cap2_nd res6_2 truck47_1 truck25_3',\n 'cap4_1 cap2_nd res6_2 truck47_1 truck25_nd',\n 'cap4_1 cap2_nd res6_2 truck47_2 truck25_1',\n 'cap4_1 cap2_nd res6_2 truck47_2 truck25_2',\n 'cap4_1 cap2_nd res6_2 truck47_2 truck25_3',\n 'cap4_1 cap2_nd res6_2 truck47_2 truck25_nd',\n 'cap4_1 cap2_nd res6_2 truck47_3 truck25_1',\n 'cap4_1 cap2_nd res6_2 truck47_3 truck25_2',\n 'cap4_1 cap2_nd res6_2 truck47_3 truck25_3',\n 'cap4_1 cap2_nd res6_2 truck47_3 truck25_nd',\n 'cap4_1 cap2_nd res6_2 truck47_nd truck25_1',\n 'cap4_1 cap2_nd res6_2 truck47_nd truck25_2',\n 'cap4_1 cap2_nd res6_2 truck47_nd truck25_3',\n 'cap4_1 cap2_nd res6_2 truck47_nd truck25_nd',\n 'cap4_1 cap2_nd res6_3 truck47_1 truck25_1',\n 'cap4_1 cap2_nd res6_3 truck47_1 truck25_2',\n 'cap4_1 cap2_nd res6_3 truck47_1 truck25_3',\n 'cap4_1 cap2_nd res6_3 truck47_1 truck25_nd',\n 'cap4_1 cap2_nd res6_3 truck47_2 truck25_1',\n 'cap4_1 cap2_nd res6_3 truck47_2 truck25_2',\n 'cap4_1 cap2_nd res6_3 truck47_2 truck25_3',\n 'cap4_1 cap2_nd res6_3 truck47_2 truck25_nd',\n 'cap4_1 cap2_nd res6_3 truck47_3 truck25_1',\n 'cap4_1 cap2_nd res6_3 truck47_3 truck25_2',\n 'cap4_1 cap2_nd res6_3 truck47_3 truck25_3',\n 'cap4_1 cap2_nd res6_3 truck47_3 truck25_nd',\n 'cap4_1 cap2_nd res6_3 truck47_nd truck25_1',\n 'cap4_1 cap2_nd res6_3 truck47_nd truck25_2',\n 'cap4_1 cap2_nd res6_3 truck47_nd truck25_3',\n 'cap4_1 cap2_nd res6_3 truck47_nd truck25_nd',\n 'cap4_1 cap2_nd res6_nd truck47_1 truck25_1',\n 'cap4_1 cap2_nd res6_nd truck47_1 truck25_2',\n 'cap4_1 cap2_nd res6_nd truck47_1 truck25_3',\n 'cap4_1 cap2_nd res6_nd truck47_1 truck25_nd',\n 'cap4_1 cap2_nd res6_nd truck47_2 truck25_1',\n 'cap4_1 cap2_nd res6_nd truck47_2 truck25_2',\n 'cap4_1 cap2_nd res6_nd truck47_2 truck25_3',\n 'cap4_1 cap2_nd res6_nd truck47_2 truck25_nd',\n 'cap4_1 cap2_nd res6_nd truck47_3 truck25_1',\n 'cap4_1 cap2_nd res6_nd truck47_3 truck25_2',\n 'cap4_1 cap2_nd res6_nd truck47_3 truck25_3',\n 'cap4_1 cap2_nd res6_nd truck47_3 truck25_nd',\n 'cap4_1 cap2_nd res6_nd truck47_nd truck25_1',\n 'cap4_1 cap2_nd res6_nd truck47_nd truck25_2',\n 'cap4_1 cap2_nd res6_nd truck47_nd truck25_3',\n 'cap4_1 cap2_nd res6_nd truck47_nd truck25_nd',\n 'cap4_2 cap2_1 res6_1 truck47_1 truck25_1',\n 'cap4_2 cap2_1 res6_1 truck47_1 truck25_2',\n 'cap4_2 cap2_1 res6_1 truck47_1 truck25_3',\n 'cap4_2 cap2_1 res6_1 truck47_1 truck25_nd',\n 'cap4_2 cap2_1 res6_1 truck47_2 truck25_1',\n 'cap4_2 cap2_1 res6_1 truck47_2 truck25_2',\n 'cap4_2 cap2_1 res6_1 truck47_2 truck25_3',\n 'cap4_2 cap2_1 res6_1 truck47_2 truck25_nd',\n 'cap4_2 cap2_1 res6_1 truck47_3 truck25_1',\n 'cap4_2 cap2_1 res6_1 truck47_3 truck25_2',\n 'cap4_2 cap2_1 res6_1 truck47_3 truck25_3',\n 'cap4_2 cap2_1 res6_1 truck47_3 truck25_nd',\n 'cap4_2 cap2_1 res6_1 truck47_nd truck25_1',\n 'cap4_2 cap2_1 res6_1 truck47_nd truck25_2',\n 'cap4_2 cap2_1 res6_1 truck47_nd truck25_3',\n 'cap4_2 cap2_1 res6_1 truck47_nd truck25_nd',\n 'cap4_2 cap2_1 res6_2 truck47_1 truck25_1',\n 'cap4_2 cap2_1 res6_2 truck47_1 truck25_2',\n 'cap4_2 cap2_1 res6_2 truck47_1 truck25_3',\n 'cap4_2 cap2_1 res6_2 truck47_1 truck25_nd',\n 'cap4_2 cap2_1 res6_2 truck47_2 truck25_1',\n 'cap4_2 cap2_1 res6_2 truck47_2 truck25_2',\n 'cap4_2 cap2_1 res6_2 truck47_2 truck25_3',\n 'cap4_2 cap2_1 res6_2 truck47_2 truck25_nd',\n 'cap4_2 cap2_1 res6_2 truck47_3 truck25_1',\n 'cap4_2 cap2_1 res6_2 truck47_3 truck25_2',\n 'cap4_2 cap2_1 res6_2 truck47_3 truck25_3',\n 'cap4_2 cap2_1 res6_2 truck47_3 truck25_nd',\n 'cap4_2 cap2_1 res6_2 truck47_nd truck25_1',\n 'cap4_2 cap2_1 res6_2 truck47_nd truck25_2',\n 'cap4_2 cap2_1 res6_2 truck47_nd truck25_3',\n 'cap4_2 cap2_1 res6_2 truck47_nd truck25_nd',\n 'cap4_2 cap2_1 res6_3 truck47_1 truck25_1',\n 'cap4_2 cap2_1 res6_3 truck47_1 truck25_2',\n 'cap4_2 cap2_1 res6_3 truck47_1 truck25_3',\n 'cap4_2 cap2_1 res6_3 truck47_1 truck25_nd',\n 'cap4_2 cap2_1 res6_3 truck47_2 truck25_1',\n 'cap4_2 cap2_1 res6_3 truck47_2 truck25_2',\n 'cap4_2 cap2_1 res6_3 truck47_2 truck25_3',\n 'cap4_2 cap2_1 res6_3 truck47_2 truck25_nd',\n 'cap4_2 cap2_1 res6_3 truck47_3 truck25_1',\n 'cap4_2 cap2_1 res6_3 truck47_3 truck25_2',\n 'cap4_2 cap2_1 res6_3 truck47_3 truck25_3',\n 'cap4_2 cap2_1 res6_3 truck47_3 truck25_nd',\n 'cap4_2 cap2_1 res6_3 truck47_nd truck25_1',\n 'cap4_2 cap2_1 res6_3 truck47_nd truck25_2',\n 'cap4_2 cap2_1 res6_3 truck47_nd truck25_3',\n 'cap4_2 cap2_1 res6_3 truck47_nd truck25_nd',\n 'cap4_2 cap2_1 res6_nd truck47_1 truck25_1',\n 'cap4_2 cap2_1 res6_nd truck47_1 truck25_2',\n 'cap4_2 cap2_1 res6_nd truck47_1 truck25_3',\n 'cap4_2 cap2_1 res6_nd truck47_1 truck25_nd',\n 'cap4_2 cap2_1 res6_nd truck47_2 truck25_1',\n 'cap4_2 cap2_1 res6_nd truck47_2 truck25_2',\n 'cap4_2 cap2_1 res6_nd truck47_2 truck25_3',\n 'cap4_2 cap2_1 res6_nd truck47_2 truck25_nd',\n 'cap4_2 cap2_1 res6_nd truck47_3 truck25_1',\n 'cap4_2 cap2_1 res6_nd truck47_3 truck25_2',\n 'cap4_2 cap2_1 res6_nd truck47_3 truck25_3',\n 'cap4_2 cap2_1 res6_nd truck47_3 truck25_nd',\n 'cap4_2 cap2_1 res6_nd truck47_nd truck25_1',\n 'cap4_2 cap2_1 res6_nd truck47_nd truck25_2',\n 'cap4_2 cap2_1 res6_nd truck47_nd truck25_3',\n 'cap4_2 cap2_1 res6_nd truck47_nd truck25_nd',\n 'cap4_2 cap2_2 res6_1 truck47_1 truck25_1',\n 'cap4_2 cap2_2 res6_1 truck47_1 truck25_2',\n 'cap4_2 cap2_2 res6_1 truck47_1 truck25_3',\n 'cap4_2 cap2_2 res6_1 truck47_1 truck25_nd',\n 'cap4_2 cap2_2 res6_1 truck47_2 truck25_1',\n 'cap4_2 cap2_2 res6_1 truck47_2 truck25_2',\n 'cap4_2 cap2_2 res6_1 truck47_2 truck25_3',\n 'cap4_2 cap2_2 res6_1 truck47_2 truck25_nd',\n 'cap4_2 cap2_2 res6_1 truck47_3 truck25_1',\n 'cap4_2 cap2_2 res6_1 truck47_3 truck25_2',\n 'cap4_2 cap2_2 res6_1 truck47_3 truck25_3',\n 'cap4_2 cap2_2 res6_1 truck47_3 truck25_nd',\n 'cap4_2 cap2_2 res6_1 truck47_nd truck25_1',\n 'cap4_2 cap2_2 res6_1 truck47_nd truck25_2',\n 'cap4_2 cap2_2 res6_1 truck47_nd truck25_3',\n 'cap4_2 cap2_2 res6_1 truck47_nd truck25_nd',\n 'cap4_2 cap2_2 res6_2 truck47_1 truck25_1',\n 'cap4_2 cap2_2 res6_2 truck47_1 truck25_2',\n 'cap4_2 cap2_2 res6_2 truck47_1 truck25_3',\n 'cap4_2 cap2_2 res6_2 truck47_1 truck25_nd',\n 'cap4_2 cap2_2 res6_2 truck47_2 truck25_1',\n 'cap4_2 cap2_2 res6_2 truck47_2 truck25_2',\n 'cap4_2 cap2_2 res6_2 truck47_2 truck25_3',\n 'cap4_2 cap2_2 res6_2 truck47_2 truck25_nd',\n 'cap4_2 cap2_2 res6_2 truck47_3 truck25_1',\n 'cap4_2 cap2_2 res6_2 truck47_3 truck25_2',\n 'cap4_2 cap2_2 res6_2 truck47_3 truck25_3',\n 'cap4_2 cap2_2 res6_2 truck47_3 truck25_nd',\n 'cap4_2 cap2_2 res6_2 truck47_nd truck25_1',\n 'cap4_2 cap2_2 res6_2 truck47_nd truck25_2',\n 'cap4_2 cap2_2 res6_2 truck47_nd truck25_3',\n 'cap4_2 cap2_2 res6_2 truck47_nd truck25_nd',\n 'cap4_2 cap2_2 res6_3 truck47_1 truck25_1',\n 'cap4_2 cap2_2 res6_3 truck47_1 truck25_2',\n 'cap4_2 cap2_2 res6_3 truck47_1 truck25_3',\n 'cap4_2 cap2_2 res6_3 truck47_1 truck25_nd',\n 'cap4_2 cap2_2 res6_3 truck47_2 truck25_1',\n 'cap4_2 cap2_2 res6_3 truck47_2 truck25_2',\n 'cap4_2 cap2_2 res6_3 truck47_2 truck25_3',\n 'cap4_2 cap2_2 res6_3 truck47_2 truck25_nd',\n 'cap4_2 cap2_2 res6_3 truck47_3 truck25_1',\n 'cap4_2 cap2_2 res6_3 truck47_3 truck25_2',\n 'cap4_2 cap2_2 res6_3 truck47_3 truck25_3',\n 'cap4_2 cap2_2 res6_3 truck47_3 truck25_nd',\n 'cap4_2 cap2_2 res6_3 truck47_nd truck25_1',\n 'cap4_2 cap2_2 res6_3 truck47_nd truck25_2',\n 'cap4_2 cap2_2 res6_3 truck47_nd truck25_3',\n 'cap4_2 cap2_2 res6_3 truck47_nd truck25_nd',\n 'cap4_2 cap2_2 res6_nd truck47_1 truck25_1',\n 'cap4_2 cap2_2 res6_nd truck47_1 truck25_2',\n 'cap4_2 cap2_2 res6_nd truck47_1 truck25_3',\n 'cap4_2 cap2_2 res6_nd truck47_1 truck25_nd',\n 'cap4_2 cap2_2 res6_nd truck47_2 truck25_1',\n 'cap4_2 cap2_2 res6_nd truck47_2 truck25_2',\n 'cap4_2 cap2_2 res6_nd truck47_2 truck25_3',\n 'cap4_2 cap2_2 res6_nd truck47_2 truck25_nd',\n 'cap4_2 cap2_2 res6_nd truck47_3 truck25_1',\n 'cap4_2 cap2_2 res6_nd truck47_3 truck25_2',\n 'cap4_2 cap2_2 res6_nd truck47_3 truck25_3',\n 'cap4_2 cap2_2 res6_nd truck47_3 truck25_nd',\n 'cap4_2 cap2_2 res6_nd truck47_nd truck25_1',\n 'cap4_2 cap2_2 res6_nd truck47_nd truck25_2',\n 'cap4_2 cap2_2 res6_nd truck47_nd truck25_3',\n 'cap4_2 cap2_2 res6_nd truck47_nd truck25_nd',\n 'cap4_2 cap2_3 res6_1 truck47_1 truck25_1',\n 'cap4_2 cap2_3 res6_1 truck47_1 truck25_2',\n 'cap4_2 cap2_3 res6_1 truck47_1 truck25_3',\n 'cap4_2 cap2_3 res6_1 truck47_1 truck25_nd',\n 'cap4_2 cap2_3 res6_1 truck47_2 truck25_1',\n 'cap4_2 cap2_3 res6_1 truck47_2 truck25_2',\n 'cap4_2 cap2_3 res6_1 truck47_2 truck25_3',\n 'cap4_2 cap2_3 res6_1 truck47_2 truck25_nd',\n 'cap4_2 cap2_3 res6_1 truck47_3 truck25_1',\n 'cap4_2 cap2_3 res6_1 truck47_3 truck25_2',\n 'cap4_2 cap2_3 res6_1 truck47_3 truck25_3',\n 'cap4_2 cap2_3 res6_1 truck47_3 truck25_nd',\n 'cap4_2 cap2_3 res6_1 truck47_nd truck25_1',\n 'cap4_2 cap2_3 res6_1 truck47_nd truck25_2',\n 'cap4_2 cap2_3 res6_1 truck47_nd truck25_3',\n 'cap4_2 cap2_3 res6_1 truck47_nd truck25_nd',\n 'cap4_2 cap2_3 res6_2 truck47_1 truck25_1',\n 'cap4_2 cap2_3 res6_2 truck47_1 truck25_2',\n 'cap4_2 cap2_3 res6_2 truck47_1 truck25_3',\n 'cap4_2 cap2_3 res6_2 truck47_1 truck25_nd',\n 'cap4_2 cap2_3 res6_2 truck47_2 truck25_1',\n 'cap4_2 cap2_3 res6_2 truck47_2 truck25_2',\n 'cap4_2 cap2_3 res6_2 truck47_2 truck25_3',\n 'cap4_2 cap2_3 res6_2 truck47_2 truck25_nd',\n 'cap4_2 cap2_3 res6_2 truck47_3 truck25_1',\n 'cap4_2 cap2_3 res6_2 truck47_3 truck25_2',\n 'cap4_2 cap2_3 res6_2 truck47_3 truck25_3',\n 'cap4_2 cap2_3 res6_2 truck47_3 truck25_nd',\n 'cap4_2 cap2_3 res6_2 truck47_nd truck25_1',\n 'cap4_2 cap2_3 res6_2 truck47_nd truck25_2',\n 'cap4_2 cap2_3 res6_2 truck47_nd truck25_3',\n 'cap4_2 cap2_3 res6_2 truck47_nd truck25_nd',\n 'cap4_2 cap2_3 res6_3 truck47_1 truck25_1',\n 'cap4_2 cap2_3 res6_3 truck47_1 truck25_2',\n 'cap4_2 cap2_3 res6_3 truck47_1 truck25_3',\n 'cap4_2 cap2_3 res6_3 truck47_1 truck25_nd',\n 'cap4_2 cap2_3 res6_3 truck47_2 truck25_1',\n 'cap4_2 cap2_3 res6_3 truck47_2 truck25_2',\n 'cap4_2 cap2_3 res6_3 truck47_2 truck25_3',\n 'cap4_2 cap2_3 res6_3 truck47_2 truck25_nd',\n 'cap4_2 cap2_3 res6_3 truck47_3 truck25_1',\n 'cap4_2 cap2_3 res6_3 truck47_3 truck25_2',\n 'cap4_2 cap2_3 res6_3 truck47_3 truck25_3',\n 'cap4_2 cap2_3 res6_3 truck47_3 truck25_nd',\n 'cap4_2 cap2_3 res6_3 truck47_nd truck25_1',\n 'cap4_2 cap2_3 res6_3 truck47_nd truck25_2',\n 'cap4_2 cap2_3 res6_3 truck47_nd truck25_3',\n 'cap4_2 cap2_3 res6_3 truck47_nd truck25_nd',\n 'cap4_2 cap2_3 res6_nd truck47_1 truck25_1',\n 'cap4_2 cap2_3 res6_nd truck47_1 truck25_2',\n 'cap4_2 cap2_3 res6_nd truck47_1 truck25_3',\n 'cap4_2 cap2_3 res6_nd truck47_1 truck25_nd',\n 'cap4_2 cap2_3 res6_nd truck47_2 truck25_1',\n 'cap4_2 cap2_3 res6_nd truck47_2 truck25_2',\n 'cap4_2 cap2_3 res6_nd truck47_2 truck25_3',\n 'cap4_2 cap2_3 res6_nd truck47_2 truck25_nd',\n 'cap4_2 cap2_3 res6_nd truck47_3 truck25_1',\n 'cap4_2 cap2_3 res6_nd truck47_3 truck25_2',\n 'cap4_2 cap2_3 res6_nd truck47_3 truck25_3',\n 'cap4_2 cap2_3 res6_nd truck47_3 truck25_nd',\n 'cap4_2 cap2_3 res6_nd truck47_nd truck25_1',\n 'cap4_2 cap2_3 res6_nd truck47_nd truck25_2',\n 'cap4_2 cap2_3 res6_nd truck47_nd truck25_3',\n 'cap4_2 cap2_3 res6_nd truck47_nd truck25_nd',\n 'cap4_2 cap2_nd res6_1 truck47_1 truck25_1',\n 'cap4_2 cap2_nd res6_1 truck47_1 truck25_2',\n 'cap4_2 cap2_nd res6_1 truck47_1 truck25_3',\n 'cap4_2 cap2_nd res6_1 truck47_1 truck25_nd',\n 'cap4_2 cap2_nd res6_1 truck47_2 truck25_1',\n 'cap4_2 cap2_nd res6_1 truck47_2 truck25_2',\n 'cap4_2 cap2_nd res6_1 truck47_2 truck25_3',\n 'cap4_2 cap2_nd res6_1 truck47_2 truck25_nd',\n 'cap4_2 cap2_nd res6_1 truck47_3 truck25_1',\n 'cap4_2 cap2_nd res6_1 truck47_3 truck25_2',\n 'cap4_2 cap2_nd res6_1 truck47_3 truck25_3',\n 'cap4_2 cap2_nd res6_1 truck47_3 truck25_nd',\n 'cap4_2 cap2_nd res6_1 truck47_nd truck25_1',\n 'cap4_2 cap2_nd res6_1 truck47_nd truck25_2',\n 'cap4_2 cap2_nd res6_1 truck47_nd truck25_3',\n 'cap4_2 cap2_nd res6_1 truck47_nd truck25_nd',\n 'cap4_2 cap2_nd res6_2 truck47_1 truck25_1',\n 'cap4_2 cap2_nd res6_2 truck47_1 truck25_2',\n 'cap4_2 cap2_nd res6_2 truck47_1 truck25_3',\n 'cap4_2 cap2_nd res6_2 truck47_1 truck25_nd',\n 'cap4_2 cap2_nd res6_2 truck47_2 truck25_1',\n 'cap4_2 cap2_nd res6_2 truck47_2 truck25_2',\n 'cap4_2 cap2_nd res6_2 truck47_2 truck25_3',\n 'cap4_2 cap2_nd res6_2 truck47_2 truck25_nd',\n 'cap4_2 cap2_nd res6_2 truck47_3 truck25_1',\n 'cap4_2 cap2_nd res6_2 truck47_3 truck25_2',\n 'cap4_2 cap2_nd res6_2 truck47_3 truck25_3',\n 'cap4_2 cap2_nd res6_2 truck47_3 truck25_nd',\n 'cap4_2 cap2_nd res6_2 truck47_nd truck25_1',\n 'cap4_2 cap2_nd res6_2 truck47_nd truck25_2',\n 'cap4_2 cap2_nd res6_2 truck47_nd truck25_3',\n 'cap4_2 cap2_nd res6_2 truck47_nd truck25_nd',\n 'cap4_2 cap2_nd res6_3 truck47_1 truck25_1',\n 'cap4_2 cap2_nd res6_3 truck47_1 truck25_2',\n 'cap4_2 cap2_nd res6_3 truck47_1 truck25_3',\n 'cap4_2 cap2_nd res6_3 truck47_1 truck25_nd',\n 'cap4_2 cap2_nd res6_3 truck47_2 truck25_1',\n 'cap4_2 cap2_nd res6_3 truck47_2 truck25_2',\n 'cap4_2 cap2_nd res6_3 truck47_2 truck25_3',\n 'cap4_2 cap2_nd res6_3 truck47_2 truck25_nd',\n 'cap4_2 cap2_nd res6_3 truck47_3 truck25_1',\n 'cap4_2 cap2_nd res6_3 truck47_3 truck25_2',\n 'cap4_2 cap2_nd res6_3 truck47_3 truck25_3',\n 'cap4_2 cap2_nd res6_3 truck47_3 truck25_nd',\n 'cap4_2 cap2_nd res6_3 truck47_nd truck25_1',\n 'cap4_2 cap2_nd res6_3 truck47_nd truck25_2',\n 'cap4_2 cap2_nd res6_3 truck47_nd truck25_3',\n 'cap4_2 cap2_nd res6_3 truck47_nd truck25_nd',\n 'cap4_2 cap2_nd res6_nd truck47_1 truck25_1',\n 'cap4_2 cap2_nd res6_nd truck47_1 truck25_2',\n 'cap4_2 cap2_nd res6_nd truck47_1 truck25_3',\n 'cap4_2 cap2_nd res6_nd truck47_1 truck25_nd',\n 'cap4_2 cap2_nd res6_nd truck47_2 truck25_1',\n 'cap4_2 cap2_nd res6_nd truck47_2 truck25_2',\n 'cap4_2 cap2_nd res6_nd truck47_2 truck25_3',\n 'cap4_2 cap2_nd res6_nd truck47_2 truck25_nd',\n 'cap4_2 cap2_nd res6_nd truck47_3 truck25_1',\n 'cap4_2 cap2_nd res6_nd truck47_3 truck25_2',\n 'cap4_2 cap2_nd res6_nd truck47_3 truck25_3',\n 'cap4_2 cap2_nd res6_nd truck47_3 truck25_nd',\n 'cap4_2 cap2_nd res6_nd truck47_nd truck25_1',\n 'cap4_2 cap2_nd res6_nd truck47_nd truck25_2',\n 'cap4_2 cap2_nd res6_nd truck47_nd truck25_3',\n 'cap4_2 cap2_nd res6_nd truck47_nd truck25_nd',\n 'cap4_3 cap2_1 res6_1 truck47_1 truck25_1',\n 'cap4_3 cap2_1 res6_1 truck47_1 truck25_2',\n 'cap4_3 cap2_1 res6_1 truck47_1 truck25_3',\n 'cap4_3 cap2_1 res6_1 truck47_1 truck25_nd',\n 'cap4_3 cap2_1 res6_1 truck47_2 truck25_1',\n 'cap4_3 cap2_1 res6_1 truck47_2 truck25_2',\n 'cap4_3 cap2_1 res6_1 truck47_2 truck25_3',\n 'cap4_3 cap2_1 res6_1 truck47_2 truck25_nd',\n 'cap4_3 cap2_1 res6_1 truck47_3 truck25_1',\n 'cap4_3 cap2_1 res6_1 truck47_3 truck25_2',\n 'cap4_3 cap2_1 res6_1 truck47_3 truck25_3',\n 'cap4_3 cap2_1 res6_1 truck47_3 truck25_nd',\n 'cap4_3 cap2_1 res6_1 truck47_nd truck25_1',\n 'cap4_3 cap2_1 res6_1 truck47_nd truck25_2',\n 'cap4_3 cap2_1 res6_1 truck47_nd truck25_3',\n 'cap4_3 cap2_1 res6_1 truck47_nd truck25_nd',\n 'cap4_3 cap2_1 res6_2 truck47_1 truck25_1',\n 'cap4_3 cap2_1 res6_2 truck47_1 truck25_2',\n 'cap4_3 cap2_1 res6_2 truck47_1 truck25_3',\n 'cap4_3 cap2_1 res6_2 truck47_1 truck25_nd',\n 'cap4_3 cap2_1 res6_2 truck47_2 truck25_1',\n 'cap4_3 cap2_1 res6_2 truck47_2 truck25_2',\n 'cap4_3 cap2_1 res6_2 truck47_2 truck25_3',\n 'cap4_3 cap2_1 res6_2 truck47_2 truck25_nd',\n 'cap4_3 cap2_1 res6_2 truck47_3 truck25_1',\n 'cap4_3 cap2_1 res6_2 truck47_3 truck25_2',\n 'cap4_3 cap2_1 res6_2 truck47_3 truck25_3',\n 'cap4_3 cap2_1 res6_2 truck47_3 truck25_nd',\n 'cap4_3 cap2_1 res6_2 truck47_nd truck25_1',\n 'cap4_3 cap2_1 res6_2 truck47_nd truck25_2',\n 'cap4_3 cap2_1 res6_2 truck47_nd truck25_3',\n 'cap4_3 cap2_1 res6_2 truck47_nd truck25_nd',\n 'cap4_3 cap2_1 res6_3 truck47_1 truck25_1',\n 'cap4_3 cap2_1 res6_3 truck47_1 truck25_2',\n 'cap4_3 cap2_1 res6_3 truck47_1 truck25_3',\n 'cap4_3 cap2_1 res6_3 truck47_1 truck25_nd',\n 'cap4_3 cap2_1 res6_3 truck47_2 truck25_1',\n 'cap4_3 cap2_1 res6_3 truck47_2 truck25_2',\n 'cap4_3 cap2_1 res6_3 truck47_2 truck25_3',\n 'cap4_3 cap2_1 res6_3 truck47_2 truck25_nd',\n 'cap4_3 cap2_1 res6_3 truck47_3 truck25_1',\n 'cap4_3 cap2_1 res6_3 truck47_3 truck25_2',\n 'cap4_3 cap2_1 res6_3 truck47_3 truck25_3',\n 'cap4_3 cap2_1 res6_3 truck47_3 truck25_nd',\n 'cap4_3 cap2_1 res6_3 truck47_nd truck25_1',\n 'cap4_3 cap2_1 res6_3 truck47_nd truck25_2',\n 'cap4_3 cap2_1 res6_3 truck47_nd truck25_3',\n 'cap4_3 cap2_1 res6_3 truck47_nd truck25_nd',\n 'cap4_3 cap2_1 res6_nd truck47_1 truck25_1',\n 'cap4_3 cap2_1 res6_nd truck47_1 truck25_2',\n 'cap4_3 cap2_1 res6_nd truck47_1 truck25_3',\n 'cap4_3 cap2_1 res6_nd truck47_1 truck25_nd',\n 'cap4_3 cap2_1 res6_nd truck47_2 truck25_1',\n 'cap4_3 cap2_1 res6_nd truck47_2 truck25_2',\n 'cap4_3 cap2_1 res6_nd truck47_2 truck25_3',\n 'cap4_3 cap2_1 res6_nd truck47_2 truck25_nd',\n 'cap4_3 cap2_1 res6_nd truck47_3 truck25_1',\n 'cap4_3 cap2_1 res6_nd truck47_3 truck25_2',\n 'cap4_3 cap2_1 res6_nd truck47_3 truck25_3',\n 'cap4_3 cap2_1 res6_nd truck47_3 truck25_nd',\n 'cap4_3 cap2_1 res6_nd truck47_nd truck25_1',\n 'cap4_3 cap2_1 res6_nd truck47_nd truck25_2',\n 'cap4_3 cap2_1 res6_nd truck47_nd truck25_3',\n 'cap4_3 cap2_1 res6_nd truck47_nd truck25_nd',\n 'cap4_3 cap2_2 res6_1 truck47_1 truck25_1',\n 'cap4_3 cap2_2 res6_1 truck47_1 truck25_2',\n 'cap4_3 cap2_2 res6_1 truck47_1 truck25_3',\n 'cap4_3 cap2_2 res6_1 truck47_1 truck25_nd',\n 'cap4_3 cap2_2 res6_1 truck47_2 truck25_1',\n 'cap4_3 cap2_2 res6_1 truck47_2 truck25_2',\n 'cap4_3 cap2_2 res6_1 truck47_2 truck25_3',\n 'cap4_3 cap2_2 res6_1 truck47_2 truck25_nd',\n 'cap4_3 cap2_2 res6_1 truck47_3 truck25_1',\n 'cap4_3 cap2_2 res6_1 truck47_3 truck25_2',\n 'cap4_3 cap2_2 res6_1 truck47_3 truck25_3',\n 'cap4_3 cap2_2 res6_1 truck47_3 truck25_nd',\n 'cap4_3 cap2_2 res6_1 truck47_nd truck25_1',\n 'cap4_3 cap2_2 res6_1 truck47_nd truck25_2',\n 'cap4_3 cap2_2 res6_1 truck47_nd truck25_3',\n 'cap4_3 cap2_2 res6_1 truck47_nd truck25_nd',\n 'cap4_3 cap2_2 res6_2 truck47_1 truck25_1',\n 'cap4_3 cap2_2 res6_2 truck47_1 truck25_2',\n 'cap4_3 cap2_2 res6_2 truck47_1 truck25_3',\n 'cap4_3 cap2_2 res6_2 truck47_1 truck25_nd',\n 'cap4_3 cap2_2 res6_2 truck47_2 truck25_1',\n 'cap4_3 cap2_2 res6_2 truck47_2 truck25_2',\n 'cap4_3 cap2_2 res6_2 truck47_2 truck25_3',\n 'cap4_3 cap2_2 res6_2 truck47_2 truck25_nd',\n 'cap4_3 cap2_2 res6_2 truck47_3 truck25_1',\n 'cap4_3 cap2_2 res6_2 truck47_3 truck25_2',\n 'cap4_3 cap2_2 res6_2 truck47_3 truck25_3',\n 'cap4_3 cap2_2 res6_2 truck47_3 truck25_nd',\n 'cap4_3 cap2_2 res6_2 truck47_nd truck25_1',\n 'cap4_3 cap2_2 res6_2 truck47_nd truck25_2',\n 'cap4_3 cap2_2 res6_2 truck47_nd truck25_3',\n 'cap4_3 cap2_2 res6_2 truck47_nd truck25_nd',\n 'cap4_3 cap2_2 res6_3 truck47_1 truck25_1',\n 'cap4_3 cap2_2 res6_3 truck47_1 truck25_2',\n 'cap4_3 cap2_2 res6_3 truck47_1 truck25_3',\n 'cap4_3 cap2_2 res6_3 truck47_1 truck25_nd',\n 'cap4_3 cap2_2 res6_3 truck47_2 truck25_1',\n 'cap4_3 cap2_2 res6_3 truck47_2 truck25_2',\n 'cap4_3 cap2_2 res6_3 truck47_2 truck25_3',\n 'cap4_3 cap2_2 res6_3 truck47_2 truck25_nd',\n 'cap4_3 cap2_2 res6_3 truck47_3 truck25_1',\n 'cap4_3 cap2_2 res6_3 truck47_3 truck25_2',\n 'cap4_3 cap2_2 res6_3 truck47_3 truck25_3',\n 'cap4_3 cap2_2 res6_3 truck47_3 truck25_nd',\n 'cap4_3 cap2_2 res6_3 truck47_nd truck25_1',\n 'cap4_3 cap2_2 res6_3 truck47_nd truck25_2',\n 'cap4_3 cap2_2 res6_3 truck47_nd truck25_3',\n 'cap4_3 cap2_2 res6_3 truck47_nd truck25_nd',\n 'cap4_3 cap2_2 res6_nd truck47_1 truck25_1',\n 'cap4_3 cap2_2 res6_nd truck47_1 truck25_2',\n 'cap4_3 cap2_2 res6_nd truck47_1 truck25_3',\n 'cap4_3 cap2_2 res6_nd truck47_1 truck25_nd',\n 'cap4_3 cap2_2 res6_nd truck47_2 truck25_1',\n 'cap4_3 cap2_2 res6_nd truck47_2 truck25_2',\n 'cap4_3 cap2_2 res6_nd truck47_2 truck25_3',\n 'cap4_3 cap2_2 res6_nd truck47_2 truck25_nd',\n 'cap4_3 cap2_2 res6_nd truck47_3 truck25_1',\n 'cap4_3 cap2_2 res6_nd truck47_3 truck25_2',\n 'cap4_3 cap2_2 res6_nd truck47_3 truck25_3',\n 'cap4_3 cap2_2 res6_nd truck47_3 truck25_nd',\n 'cap4_3 cap2_2 res6_nd truck47_nd truck25_1',\n 'cap4_3 cap2_2 res6_nd truck47_nd truck25_2',\n 'cap4_3 cap2_2 res6_nd truck47_nd truck25_3',\n 'cap4_3 cap2_2 res6_nd truck47_nd truck25_nd',\n 'cap4_3 cap2_3 res6_1 truck47_1 truck25_1',\n 'cap4_3 cap2_3 res6_1 truck47_1 truck25_2',\n 'cap4_3 cap2_3 res6_1 truck47_1 truck25_3',\n 'cap4_3 cap2_3 res6_1 truck47_1 truck25_nd',\n 'cap4_3 cap2_3 res6_1 truck47_2 truck25_1',\n 'cap4_3 cap2_3 res6_1 truck47_2 truck25_2',\n 'cap4_3 cap2_3 res6_1 truck47_2 truck25_3',\n 'cap4_3 cap2_3 res6_1 truck47_2 truck25_nd',\n 'cap4_3 cap2_3 res6_1 truck47_3 truck25_1',\n 'cap4_3 cap2_3 res6_1 truck47_3 truck25_2',\n 'cap4_3 cap2_3 res6_1 truck47_3 truck25_3',\n 'cap4_3 cap2_3 res6_1 truck47_3 truck25_nd',\n 'cap4_3 cap2_3 res6_1 truck47_nd truck25_1',\n 'cap4_3 cap2_3 res6_1 truck47_nd truck25_2',\n 'cap4_3 cap2_3 res6_1 truck47_nd truck25_3',\n 'cap4_3 cap2_3 res6_1 truck47_nd truck25_nd',\n 'cap4_3 cap2_3 res6_2 truck47_1 truck25_1',\n 'cap4_3 cap2_3 res6_2 truck47_1 truck25_2',\n 'cap4_3 cap2_3 res6_2 truck47_1 truck25_3',\n 'cap4_3 cap2_3 res6_2 truck47_1 truck25_nd',\n 'cap4_3 cap2_3 res6_2 truck47_2 truck25_1',\n 'cap4_3 cap2_3 res6_2 truck47_2 truck25_2',\n 'cap4_3 cap2_3 res6_2 truck47_2 truck25_3',\n 'cap4_3 cap2_3 res6_2 truck47_2 truck25_nd',\n 'cap4_3 cap2_3 res6_2 truck47_3 truck25_1',\n 'cap4_3 cap2_3 res6_2 truck47_3 truck25_2',\n 'cap4_3 cap2_3 res6_2 truck47_3 truck25_3',\n 'cap4_3 cap2_3 res6_2 truck47_3 truck25_nd',\n 'cap4_3 cap2_3 res6_2 truck47_nd truck25_1',\n 'cap4_3 cap2_3 res6_2 truck47_nd truck25_2',\n 'cap4_3 cap2_3 res6_2 truck47_nd truck25_3',\n 'cap4_3 cap2_3 res6_2 truck47_nd truck25_nd',\n 'cap4_3 cap2_3 res6_3 truck47_1 truck25_1',\n 'cap4_3 cap2_3 res6_3 truck47_1 truck25_2',\n 'cap4_3 cap2_3 res6_3 truck47_1 truck25_3',\n 'cap4_3 cap2_3 res6_3 truck47_1 truck25_nd',\n 'cap4_3 cap2_3 res6_3 truck47_2 truck25_1',\n 'cap4_3 cap2_3 res6_3 truck47_2 truck25_2',\n 'cap4_3 cap2_3 res6_3 truck47_2 truck25_3',\n 'cap4_3 cap2_3 res6_3 truck47_2 truck25_nd',\n 'cap4_3 cap2_3 res6_3 truck47_3 truck25_1',\n 'cap4_3 cap2_3 res6_3 truck47_3 truck25_2',\n 'cap4_3 cap2_3 res6_3 truck47_3 truck25_3',\n 'cap4_3 cap2_3 res6_3 truck47_3 truck25_nd',\n 'cap4_3 cap2_3 res6_3 truck47_nd truck25_1',\n 'cap4_3 cap2_3 res6_3 truck47_nd truck25_2',\n 'cap4_3 cap2_3 res6_3 truck47_nd truck25_3',\n 'cap4_3 cap2_3 res6_3 truck47_nd truck25_nd',\n 'cap4_3 cap2_3 res6_nd truck47_1 truck25_1',\n 'cap4_3 cap2_3 res6_nd truck47_1 truck25_2',\n 'cap4_3 cap2_3 res6_nd truck47_1 truck25_3',\n 'cap4_3 cap2_3 res6_nd truck47_1 truck25_nd',\n 'cap4_3 cap2_3 res6_nd truck47_2 truck25_1',\n 'cap4_3 cap2_3 res6_nd truck47_2 truck25_2',\n 'cap4_3 cap2_3 res6_nd truck47_2 truck25_3',\n 'cap4_3 cap2_3 res6_nd truck47_2 truck25_nd',\n 'cap4_3 cap2_3 res6_nd truck47_3 truck25_1',\n 'cap4_3 cap2_3 res6_nd truck47_3 truck25_2',\n 'cap4_3 cap2_3 res6_nd truck47_3 truck25_3',\n 'cap4_3 cap2_3 res6_nd truck47_3 truck25_nd',\n 'cap4_3 cap2_3 res6_nd truck47_nd truck25_1',\n 'cap4_3 cap2_3 res6_nd truck47_nd truck25_2',\n 'cap4_3 cap2_3 res6_nd truck47_nd truck25_3',\n 'cap4_3 cap2_3 res6_nd truck47_nd truck25_nd',\n 'cap4_3 cap2_nd res6_1 truck47_1 truck25_1',\n 'cap4_3 cap2_nd res6_1 truck47_1 truck25_2',\n 'cap4_3 cap2_nd res6_1 truck47_1 truck25_3',\n 'cap4_3 cap2_nd res6_1 truck47_1 truck25_nd',\n 'cap4_3 cap2_nd res6_1 truck47_2 truck25_1',\n 'cap4_3 cap2_nd res6_1 truck47_2 truck25_2',\n 'cap4_3 cap2_nd res6_1 truck47_2 truck25_3',\n 'cap4_3 cap2_nd res6_1 truck47_2 truck25_nd',\n 'cap4_3 cap2_nd res6_1 truck47_3 truck25_1',\n 'cap4_3 cap2_nd res6_1 truck47_3 truck25_2',\n 'cap4_3 cap2_nd res6_1 truck47_3 truck25_3',\n 'cap4_3 cap2_nd res6_1 truck47_3 truck25_nd',\n 'cap4_3 cap2_nd res6_1 truck47_nd truck25_1',\n 'cap4_3 cap2_nd res6_1 truck47_nd truck25_2',\n 'cap4_3 cap2_nd res6_1 truck47_nd truck25_3',\n 'cap4_3 cap2_nd res6_1 truck47_nd truck25_nd',\n 'cap4_3 cap2_nd res6_2 truck47_1 truck25_1',\n 'cap4_3 cap2_nd res6_2 truck47_1 truck25_2',\n 'cap4_3 cap2_nd res6_2 truck47_1 truck25_3',\n 'cap4_3 cap2_nd res6_2 truck47_1 truck25_nd',\n 'cap4_3 cap2_nd res6_2 truck47_2 truck25_1',\n 'cap4_3 cap2_nd res6_2 truck47_2 truck25_2',\n 'cap4_3 cap2_nd res6_2 truck47_2 truck25_3',\n 'cap4_3 cap2_nd res6_2 truck47_2 truck25_nd',\n 'cap4_3 cap2_nd res6_2 truck47_3 truck25_1',\n 'cap4_3 cap2_nd res6_2 truck47_3 truck25_2',\n 'cap4_3 cap2_nd res6_2 truck47_3 truck25_3',\n 'cap4_3 cap2_nd res6_2 truck47_3 truck25_nd',\n 'cap4_3 cap2_nd res6_2 truck47_nd truck25_1',\n 'cap4_3 cap2_nd res6_2 truck47_nd truck25_2',\n 'cap4_3 cap2_nd res6_2 truck47_nd truck25_3',\n 'cap4_3 cap2_nd res6_2 truck47_nd truck25_nd',\n 'cap4_3 cap2_nd res6_3 truck47_1 truck25_1',\n 'cap4_3 cap2_nd res6_3 truck47_1 truck25_2',\n 'cap4_3 cap2_nd res6_3 truck47_1 truck25_3',\n 'cap4_3 cap2_nd res6_3 truck47_1 truck25_nd',\n 'cap4_3 cap2_nd res6_3 truck47_2 truck25_1',\n 'cap4_3 cap2_nd res6_3 truck47_2 truck25_2',\n 'cap4_3 cap2_nd res6_3 truck47_2 truck25_3',\n 'cap4_3 cap2_nd res6_3 truck47_2 truck25_nd',\n 'cap4_3 cap2_nd res6_3 truck47_3 truck25_1',\n 'cap4_3 cap2_nd res6_3 truck47_3 truck25_2',\n 'cap4_3 cap2_nd res6_3 truck47_3 truck25_3',\n 'cap4_3 cap2_nd res6_3 truck47_3 truck25_nd',\n 'cap4_3 cap2_nd res6_3 truck47_nd truck25_1',\n 'cap4_3 cap2_nd res6_3 truck47_nd truck25_2',\n 'cap4_3 cap2_nd res6_3 truck47_nd truck25_3',\n 'cap4_3 cap2_nd res6_3 truck47_nd truck25_nd',\n 'cap4_3 cap2_nd res6_nd truck47_1 truck25_1',\n 'cap4_3 cap2_nd res6_nd truck47_1 truck25_2',\n 'cap4_3 cap2_nd res6_nd truck47_1 truck25_3',\n 'cap4_3 cap2_nd res6_nd truck47_1 truck25_nd',\n 'cap4_3 cap2_nd res6_nd truck47_2 truck25_1',\n 'cap4_3 cap2_nd res6_nd truck47_2 truck25_2',\n 'cap4_3 cap2_nd res6_nd truck47_2 truck25_3',\n 'cap4_3 cap2_nd res6_nd truck47_2 truck25_nd',\n 'cap4_3 cap2_nd res6_nd truck47_3 truck25_1',\n 'cap4_3 cap2_nd res6_nd truck47_3 truck25_2',\n 'cap4_3 cap2_nd res6_nd truck47_3 truck25_3',\n 'cap4_3 cap2_nd res6_nd truck47_3 truck25_nd',\n 'cap4_3 cap2_nd res6_nd truck47_nd truck25_1',\n 'cap4_3 cap2_nd res6_nd truck47_nd truck25_2',\n 'cap4_3 cap2_nd res6_nd truck47_nd truck25_3',\n 'cap4_3 cap2_nd res6_nd truck47_nd truck25_nd',\n 'cap4_nd cap2_1 res6_1 truck47_1 truck25_1',\n 'cap4_nd cap2_1 res6_1 truck47_1 truck25_2',\n 'cap4_nd cap2_1 res6_1 truck47_1 truck25_3',\n 'cap4_nd cap2_1 res6_1 truck47_1 truck25_nd',\n 'cap4_nd cap2_1 res6_1 truck47_2 truck25_1',\n 'cap4_nd cap2_1 res6_1 truck47_2 truck25_2',\n 'cap4_nd cap2_1 res6_1 truck47_2 truck25_3',\n 'cap4_nd cap2_1 res6_1 truck47_2 truck25_nd',\n 'cap4_nd cap2_1 res6_1 truck47_3 truck25_1',\n 'cap4_nd cap2_1 res6_1 truck47_3 truck25_2',\n 'cap4_nd cap2_1 res6_1 truck47_3 truck25_3',\n 'cap4_nd cap2_1 res6_1 truck47_3 truck25_nd',\n 'cap4_nd cap2_1 res6_1 truck47_nd truck25_1',\n 'cap4_nd cap2_1 res6_1 truck47_nd truck25_2',\n 'cap4_nd cap2_1 res6_1 truck47_nd truck25_3',\n 'cap4_nd cap2_1 res6_1 truck47_nd truck25_nd',\n 'cap4_nd cap2_1 res6_2 truck47_1 truck25_1',\n 'cap4_nd cap2_1 res6_2 truck47_1 truck25_2',\n 'cap4_nd cap2_1 res6_2 truck47_1 truck25_3',\n 'cap4_nd cap2_1 res6_2 truck47_1 truck25_nd',\n 'cap4_nd cap2_1 res6_2 truck47_2 truck25_1',\n 'cap4_nd cap2_1 res6_2 truck47_2 truck25_2',\n 'cap4_nd cap2_1 res6_2 truck47_2 truck25_3',\n 'cap4_nd cap2_1 res6_2 truck47_2 truck25_nd',\n 'cap4_nd cap2_1 res6_2 truck47_3 truck25_1',\n 'cap4_nd cap2_1 res6_2 truck47_3 truck25_2',\n 'cap4_nd cap2_1 res6_2 truck47_3 truck25_3',\n 'cap4_nd cap2_1 res6_2 truck47_3 truck25_nd',\n 'cap4_nd cap2_1 res6_2 truck47_nd truck25_1',\n 'cap4_nd cap2_1 res6_2 truck47_nd truck25_2',\n 'cap4_nd cap2_1 res6_2 truck47_nd truck25_3',\n 'cap4_nd cap2_1 res6_2 truck47_nd truck25_nd',\n 'cap4_nd cap2_1 res6_3 truck47_1 truck25_1',\n 'cap4_nd cap2_1 res6_3 truck47_1 truck25_2',\n 'cap4_nd cap2_1 res6_3 truck47_1 truck25_3',\n 'cap4_nd cap2_1 res6_3 truck47_1 truck25_nd',\n 'cap4_nd cap2_1 res6_3 truck47_2 truck25_1',\n 'cap4_nd cap2_1 res6_3 truck47_2 truck25_2',\n 'cap4_nd cap2_1 res6_3 truck47_2 truck25_3',\n 'cap4_nd cap2_1 res6_3 truck47_2 truck25_nd',\n 'cap4_nd cap2_1 res6_3 truck47_3 truck25_1',\n 'cap4_nd cap2_1 res6_3 truck47_3 truck25_2',\n 'cap4_nd cap2_1 res6_3 truck47_3 truck25_3',\n 'cap4_nd cap2_1 res6_3 truck47_3 truck25_nd',\n 'cap4_nd cap2_1 res6_3 truck47_nd truck25_1',\n 'cap4_nd cap2_1 res6_3 truck47_nd truck25_2',\n 'cap4_nd cap2_1 res6_3 truck47_nd truck25_3',\n 'cap4_nd cap2_1 res6_3 truck47_nd truck25_nd',\n 'cap4_nd cap2_1 res6_nd truck47_1 truck25_1',\n 'cap4_nd cap2_1 res6_nd truck47_1 truck25_2',\n 'cap4_nd cap2_1 res6_nd truck47_1 truck25_3',\n 'cap4_nd cap2_1 res6_nd truck47_1 truck25_nd',\n 'cap4_nd cap2_1 res6_nd truck47_2 truck25_1',\n 'cap4_nd cap2_1 res6_nd truck47_2 truck25_2',\n 'cap4_nd cap2_1 res6_nd truck47_2 truck25_3',\n 'cap4_nd cap2_1 res6_nd truck47_2 truck25_nd',\n 'cap4_nd cap2_1 res6_nd truck47_3 truck25_1',\n 'cap4_nd cap2_1 res6_nd truck47_3 truck25_2',\n 'cap4_nd cap2_1 res6_nd truck47_3 truck25_3',\n 'cap4_nd cap2_1 res6_nd truck47_3 truck25_nd',\n 'cap4_nd cap2_1 res6_nd truck47_nd truck25_1',\n 'cap4_nd cap2_1 res6_nd truck47_nd truck25_2',\n 'cap4_nd cap2_1 res6_nd truck47_nd truck25_3',\n 'cap4_nd cap2_1 res6_nd truck47_nd truck25_nd',\n 'cap4_nd cap2_2 res6_1 truck47_1 truck25_1',\n 'cap4_nd cap2_2 res6_1 truck47_1 truck25_2',\n 'cap4_nd cap2_2 res6_1 truck47_1 truck25_3',\n 'cap4_nd cap2_2 res6_1 truck47_1 truck25_nd',\n 'cap4_nd cap2_2 res6_1 truck47_2 truck25_1',\n 'cap4_nd cap2_2 res6_1 truck47_2 truck25_2',\n 'cap4_nd cap2_2 res6_1 truck47_2 truck25_3',\n 'cap4_nd cap2_2 res6_1 truck47_2 truck25_nd',\n 'cap4_nd cap2_2 res6_1 truck47_3 truck25_1',\n 'cap4_nd cap2_2 res6_1 truck47_3 truck25_2',\n 'cap4_nd cap2_2 res6_1 truck47_3 truck25_3',\n 'cap4_nd cap2_2 res6_1 truck47_3 truck25_nd',\n 'cap4_nd cap2_2 res6_1 truck47_nd truck25_1',\n 'cap4_nd cap2_2 res6_1 truck47_nd truck25_2',\n 'cap4_nd cap2_2 res6_1 truck47_nd truck25_3',\n 'cap4_nd cap2_2 res6_1 truck47_nd truck25_nd',\n 'cap4_nd cap2_2 res6_2 truck47_1 truck25_1',\n 'cap4_nd cap2_2 res6_2 truck47_1 truck25_2',\n 'cap4_nd cap2_2 res6_2 truck47_1 truck25_3',\n 'cap4_nd cap2_2 res6_2 truck47_1 truck25_nd',\n 'cap4_nd cap2_2 res6_2 truck47_2 truck25_1',\n 'cap4_nd cap2_2 res6_2 truck47_2 truck25_2',\n 'cap4_nd cap2_2 res6_2 truck47_2 truck25_3',\n 'cap4_nd cap2_2 res6_2 truck47_2 truck25_nd',\n 'cap4_nd cap2_2 res6_2 truck47_3 truck25_1',\n 'cap4_nd cap2_2 res6_2 truck47_3 truck25_2',\n 'cap4_nd cap2_2 res6_2 truck47_3 truck25_3',\n 'cap4_nd cap2_2 res6_2 truck47_3 truck25_nd',\n 'cap4_nd cap2_2 res6_2 truck47_nd truck25_1',\n 'cap4_nd cap2_2 res6_2 truck47_nd truck25_2',\n 'cap4_nd cap2_2 res6_2 truck47_nd truck25_3',\n 'cap4_nd cap2_2 res6_2 truck47_nd truck25_nd',\n 'cap4_nd cap2_2 res6_3 truck47_1 truck25_1',\n 'cap4_nd cap2_2 res6_3 truck47_1 truck25_2',\n 'cap4_nd cap2_2 res6_3 truck47_1 truck25_3',\n 'cap4_nd cap2_2 res6_3 truck47_1 truck25_nd',\n 'cap4_nd cap2_2 res6_3 truck47_2 truck25_1',\n 'cap4_nd cap2_2 res6_3 truck47_2 truck25_2',\n 'cap4_nd cap2_2 res6_3 truck47_2 truck25_3',\n 'cap4_nd cap2_2 res6_3 truck47_2 truck25_nd',\n 'cap4_nd cap2_2 res6_3 truck47_3 truck25_1',\n 'cap4_nd cap2_2 res6_3 truck47_3 truck25_2',\n 'cap4_nd cap2_2 res6_3 truck47_3 truck25_3',\n 'cap4_nd cap2_2 res6_3 truck47_3 truck25_nd',\n 'cap4_nd cap2_2 res6_3 truck47_nd truck25_1',\n 'cap4_nd cap2_2 res6_3 truck47_nd truck25_2',\n 'cap4_nd cap2_2 res6_3 truck47_nd truck25_3',\n 'cap4_nd cap2_2 res6_3 truck47_nd truck25_nd',\n 'cap4_nd cap2_2 res6_nd truck47_1 truck25_1',\n 'cap4_nd cap2_2 res6_nd truck47_1 truck25_2',\n 'cap4_nd cap2_2 res6_nd truck47_1 truck25_3',\n 'cap4_nd cap2_2 res6_nd truck47_1 truck25_nd',\n 'cap4_nd cap2_2 res6_nd truck47_2 truck25_1',\n 'cap4_nd cap2_2 res6_nd truck47_2 truck25_2',\n 'cap4_nd cap2_2 res6_nd truck47_2 truck25_3',\n 'cap4_nd cap2_2 res6_nd truck47_2 truck25_nd',\n 'cap4_nd cap2_2 res6_nd truck47_3 truck25_1',\n 'cap4_nd cap2_2 res6_nd truck47_3 truck25_2',\n 'cap4_nd cap2_2 res6_nd truck47_3 truck25_3',\n 'cap4_nd cap2_2 res6_nd truck47_3 truck25_nd',\n 'cap4_nd cap2_2 res6_nd truck47_nd truck25_1',\n 'cap4_nd cap2_2 res6_nd truck47_nd truck25_2',\n 'cap4_nd cap2_2 res6_nd truck47_nd truck25_3',\n 'cap4_nd cap2_2 res6_nd truck47_nd truck25_nd',\n 'cap4_nd cap2_3 res6_1 truck47_1 truck25_1',\n 'cap4_nd cap2_3 res6_1 truck47_1 truck25_2',\n 'cap4_nd cap2_3 res6_1 truck47_1 truck25_3',\n 'cap4_nd cap2_3 res6_1 truck47_1 truck25_nd',\n 'cap4_nd cap2_3 res6_1 truck47_2 truck25_1',\n 'cap4_nd cap2_3 res6_1 truck47_2 truck25_2',\n 'cap4_nd cap2_3 res6_1 truck47_2 truck25_3',\n 'cap4_nd cap2_3 res6_1 truck47_2 truck25_nd',\n 'cap4_nd cap2_3 res6_1 truck47_3 truck25_1',\n 'cap4_nd cap2_3 res6_1 truck47_3 truck25_2',\n 'cap4_nd cap2_3 res6_1 truck47_3 truck25_3',\n 'cap4_nd cap2_3 res6_1 truck47_3 truck25_nd',\n 'cap4_nd cap2_3 res6_1 truck47_nd truck25_1',\n 'cap4_nd cap2_3 res6_1 truck47_nd truck25_2',\n 'cap4_nd cap2_3 res6_1 truck47_nd truck25_3',\n 'cap4_nd cap2_3 res6_1 truck47_nd truck25_nd',\n 'cap4_nd cap2_3 res6_2 truck47_1 truck25_1',\n 'cap4_nd cap2_3 res6_2 truck47_1 truck25_2',\n 'cap4_nd cap2_3 res6_2 truck47_1 truck25_3',\n 'cap4_nd cap2_3 res6_2 truck47_1 truck25_nd',\n 'cap4_nd cap2_3 res6_2 truck47_2 truck25_1',\n 'cap4_nd cap2_3 res6_2 truck47_2 truck25_2',\n 'cap4_nd cap2_3 res6_2 truck47_2 truck25_3',\n 'cap4_nd cap2_3 res6_2 truck47_2 truck25_nd',\n 'cap4_nd cap2_3 res6_2 truck47_3 truck25_1',\n 'cap4_nd cap2_3 res6_2 truck47_3 truck25_2',\n 'cap4_nd cap2_3 res6_2 truck47_3 truck25_3',\n 'cap4_nd cap2_3 res6_2 truck47_3 truck25_nd',\n 'cap4_nd cap2_3 res6_2 truck47_nd truck25_1',\n 'cap4_nd cap2_3 res6_2 truck47_nd truck25_2',\n 'cap4_nd cap2_3 res6_2 truck47_nd truck25_3',\n 'cap4_nd cap2_3 res6_2 truck47_nd truck25_nd',\n 'cap4_nd cap2_3 res6_3 truck47_1 truck25_1',\n 'cap4_nd cap2_3 res6_3 truck47_1 truck25_2',\n 'cap4_nd cap2_3 res6_3 truck47_1 truck25_3',\n 'cap4_nd cap2_3 res6_3 truck47_1 truck25_nd',\n 'cap4_nd cap2_3 res6_3 truck47_2 truck25_1',\n 'cap4_nd cap2_3 res6_3 truck47_2 truck25_2',\n 'cap4_nd cap2_3 res6_3 truck47_2 truck25_3',\n 'cap4_nd cap2_3 res6_3 truck47_2 truck25_nd',\n 'cap4_nd cap2_3 res6_3 truck47_3 truck25_1',\n 'cap4_nd cap2_3 res6_3 truck47_3 truck25_2',\n 'cap4_nd cap2_3 res6_3 truck47_3 truck25_3',\n 'cap4_nd cap2_3 res6_3 truck47_3 truck25_nd',\n 'cap4_nd cap2_3 res6_3 truck47_nd truck25_1',\n 'cap4_nd cap2_3 res6_3 truck47_nd truck25_2',\n 'cap4_nd cap2_3 res6_3 truck47_nd truck25_3',\n 'cap4_nd cap2_3 res6_3 truck47_nd truck25_nd',\n 'cap4_nd cap2_3 res6_nd truck47_1 truck25_1',\n 'cap4_nd cap2_3 res6_nd truck47_1 truck25_2',\n 'cap4_nd cap2_3 res6_nd truck47_1 truck25_3',\n 'cap4_nd cap2_3 res6_nd truck47_1 truck25_nd',\n 'cap4_nd cap2_3 res6_nd truck47_2 truck25_1',\n 'cap4_nd cap2_3 res6_nd truck47_2 truck25_2',\n 'cap4_nd cap2_3 res6_nd truck47_2 truck25_3',\n 'cap4_nd cap2_3 res6_nd truck47_2 truck25_nd',\n 'cap4_nd cap2_3 res6_nd truck47_3 truck25_1',\n 'cap4_nd cap2_3 res6_nd truck47_3 truck25_2',\n 'cap4_nd cap2_3 res6_nd truck47_3 truck25_3',\n 'cap4_nd cap2_3 res6_nd truck47_3 truck25_nd',\n 'cap4_nd cap2_3 res6_nd truck47_nd truck25_1',\n 'cap4_nd cap2_3 res6_nd truck47_nd truck25_2',\n 'cap4_nd cap2_3 res6_nd truck47_nd truck25_3',\n 'cap4_nd cap2_3 res6_nd truck47_nd truck25_nd',\n 'cap4_nd cap2_nd res6_1 truck47_1 truck25_1',\n 'cap4_nd cap2_nd res6_1 truck47_1 truck25_2',\n 'cap4_nd cap2_nd res6_1 truck47_1 truck25_3',\n 'cap4_nd cap2_nd res6_1 truck47_1 truck25_nd',\n 'cap4_nd cap2_nd res6_1 truck47_2 truck25_1',\n 'cap4_nd cap2_nd res6_1 truck47_2 truck25_2',\n 'cap4_nd cap2_nd res6_1 truck47_2 truck25_3',\n 'cap4_nd cap2_nd res6_1 truck47_2 truck25_nd',\n 'cap4_nd cap2_nd res6_1 truck47_3 truck25_1',\n 'cap4_nd cap2_nd res6_1 truck47_3 truck25_2',\n 'cap4_nd cap2_nd res6_1 truck47_3 truck25_3',\n 'cap4_nd cap2_nd res6_1 truck47_3 truck25_nd',\n 'cap4_nd cap2_nd res6_1 truck47_nd truck25_1',\n 'cap4_nd cap2_nd res6_1 truck47_nd truck25_2',\n 'cap4_nd cap2_nd res6_1 truck47_nd truck25_3',\n 'cap4_nd cap2_nd res6_1 truck47_nd truck25_nd',\n 'cap4_nd cap2_nd res6_2 truck47_1 truck25_1',\n 'cap4_nd cap2_nd res6_2 truck47_1 truck25_2',\n 'cap4_nd cap2_nd res6_2 truck47_1 truck25_3',\n 'cap4_nd cap2_nd res6_2 truck47_1 truck25_nd',\n 'cap4_nd cap2_nd res6_2 truck47_2 truck25_1',\n 'cap4_nd cap2_nd res6_2 truck47_2 truck25_2',\n 'cap4_nd cap2_nd res6_2 truck47_2 truck25_3',\n 'cap4_nd cap2_nd res6_2 truck47_2 truck25_nd',\n 'cap4_nd cap2_nd res6_2 truck47_3 truck25_1',\n 'cap4_nd cap2_nd res6_2 truck47_3 truck25_2',\n 'cap4_nd cap2_nd res6_2 truck47_3 truck25_3',\n 'cap4_nd cap2_nd res6_2 truck47_3 truck25_nd',\n 'cap4_nd cap2_nd res6_2 truck47_nd truck25_1',\n 'cap4_nd cap2_nd res6_2 truck47_nd truck25_2',\n 'cap4_nd cap2_nd res6_2 truck47_nd truck25_3',\n 'cap4_nd cap2_nd res6_2 truck47_nd truck25_nd',\n 'cap4_nd cap2_nd res6_3 truck47_1 truck25_1',\n 'cap4_nd cap2_nd res6_3 truck47_1 truck25_2',\n 'cap4_nd cap2_nd res6_3 truck47_1 truck25_3',\n 'cap4_nd cap2_nd res6_3 truck47_1 truck25_nd',\n 'cap4_nd cap2_nd res6_3 truck47_2 truck25_1',\n 'cap4_nd cap2_nd res6_3 truck47_2 truck25_2',\n 'cap4_nd cap2_nd res6_3 truck47_2 truck25_3',\n 'cap4_nd cap2_nd res6_3 truck47_2 truck25_nd',\n ...]"
     },
     "execution_count": 13,
     "metadata": {},
     "output_type": "execute_result"
    }
   ],
   "source": [
    "load_scenario_names"
   ],
   "metadata": {
    "collapsed": false,
    "ExecuteTime": {
     "end_time": "2025-03-21T17:25:42.120652Z",
     "start_time": "2025-03-21T17:25:42.112826Z"
    }
   },
   "id": "f3a3c2cf1ffaa9a5",
   "execution_count": 13
  },
  {
   "cell_type": "code",
   "outputs": [],
   "source": [],
   "metadata": {
    "collapsed": false
   },
   "id": "4dae300c3dc7d8ae"
  }
 ],
 "metadata": {
  "kernelspec": {
   "display_name": "Python 3",
   "language": "python",
   "name": "python3"
  },
  "language_info": {
   "codemirror_mode": {
    "name": "ipython",
    "version": 2
   },
   "file_extension": ".py",
   "mimetype": "text/x-python",
   "name": "python",
   "nbconvert_exporter": "python",
   "pygments_lexer": "ipython2",
   "version": "2.7.6"
  }
 },
 "nbformat": 4,
 "nbformat_minor": 5
}
