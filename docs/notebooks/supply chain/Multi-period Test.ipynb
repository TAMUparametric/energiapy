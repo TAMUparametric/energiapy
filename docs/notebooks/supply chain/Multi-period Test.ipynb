{
 "cells": [
  {
   "metadata": {
    "ExecuteTime": {
     "end_time": "2025-01-14T22:04:11.492952Z",
     "start_time": "2025-01-14T22:04:11.490070Z"
    }
   },
   "cell_type": "code",
   "source": [
    "from pyomo.environ import *\n",
    "import sys\n",
    "\n",
    "sys.path.append('../../../src')\n",
    "from energiapy.utils.scale_utils import scale_list, scale_tuple"
   ],
   "id": "1267d36ba0c9411d",
   "outputs": [],
   "execution_count": 16
  },
  {
   "metadata": {
    "ExecuteTime": {
     "end_time": "2025-01-14T21:45:39.850823Z",
     "start_time": "2025-01-14T21:45:39.848967Z"
    }
   },
   "cell_type": "code",
   "source": [
    "T_up = 10\n",
    "T = [i for i in range(0,T_up)]\n",
    "# structure = [4, 7]\n",
    "# time_index_dict = dict()\n"
   ],
   "id": "6d3dcbb29c095521",
   "outputs": [],
   "execution_count": 9
  },
  {
   "metadata": {
    "ExecuteTime": {
     "end_time": "2025-01-14T21:45:39.855667Z",
     "start_time": "2025-01-14T21:45:39.853423Z"
    }
   },
   "cell_type": "code",
   "source": "m = ConcreteModel()",
   "id": "77b82bd874e6b0e6",
   "outputs": [],
   "execution_count": 10
  },
  {
   "metadata": {
    "ExecuteTime": {
     "end_time": "2025-01-14T21:45:39.859083Z",
     "start_time": "2025-01-14T21:45:39.856933Z"
    }
   },
   "cell_type": "code",
   "source": [
    "m.time = Set(initialize=T)\n",
    "m.sources = Set(initialize=['A', 'B'])\n",
    "m.sinks = Set(initialize=['A', 'B'])\n",
    "m.transports = Set(initialize=['truckAB', 'planeAB', 'truckBA', 'planeBA'])\n",
    "m.resources = Set(initialize=['resource1', 'resource2'])"
   ],
   "id": "180d2fc320d7109c",
   "outputs": [],
   "execution_count": 11
  },
  {
   "metadata": {
    "ExecuteTime": {
     "end_time": "2025-01-14T21:45:39.891290Z",
     "start_time": "2025-01-14T21:45:39.867579Z"
    }
   },
   "cell_type": "code",
   "source": [
    "m.Exp = Var(m.sources, m.sinks, m.transports, m.resources, m.time, domain=NonNegativeReals)\n",
    "m.Transit = Var(m.sources, m.sinks, m.transports, m.resources, m.time, domain=NonNegativeReals)"
   ],
   "id": "f0426b2df2139e28",
   "outputs": [],
   "execution_count": 12
  },
  {
   "metadata": {
    "ExecuteTime": {
     "end_time": "2025-01-14T21:45:39.893811Z",
     "start_time": "2025-01-14T21:45:39.892250Z"
    }
   },
   "cell_type": "code",
   "source": [
    "travel_time_dict = {('A', 'B'): {'truckAB': 5, 'planeAB': 2},\n",
    "                    ('B', 'A'): {'truckBA': 4, 'planeBA': 2}}"
   ],
   "id": "f7ea165a05184405",
   "outputs": [],
   "execution_count": 13
  },
  {
   "metadata": {
    "ExecuteTime": {
     "end_time": "2025-01-14T21:46:13.719230Z",
     "start_time": "2025-01-14T21:46:13.717175Z"
    }
   },
   "cell_type": "code",
   "source": "# m.Exp.pprint()",
   "id": "85fc4d4fd46cd558",
   "outputs": [],
   "execution_count": 15
  },
  {
   "metadata": {
    "ExecuteTime": {
     "end_time": "2025-01-14T21:45:39.901986Z",
     "start_time": "2025-01-14T21:45:39.900601Z"
    }
   },
   "cell_type": "code",
   "source": [
    "def constraint_transit_balance(instance: ConcreteModel):\n",
    "    scales = scale_list()"
   ],
   "id": "dff05edfc175e021",
   "outputs": [],
   "execution_count": 14
  }
 ],
 "metadata": {
  "kernelspec": {
   "display_name": "Python 3",
   "language": "python",
   "name": "python3"
  },
  "language_info": {
   "codemirror_mode": {
    "name": "ipython",
    "version": 2
   },
   "file_extension": ".py",
   "mimetype": "text/x-python",
   "name": "python",
   "nbconvert_exporter": "python",
   "pygments_lexer": "ipython2",
   "version": "2.7.6"
  }
 },
 "nbformat": 4,
 "nbformat_minor": 5
}
