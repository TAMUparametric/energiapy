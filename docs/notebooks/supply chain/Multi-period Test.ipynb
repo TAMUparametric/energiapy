{
 "cells": [
  {
   "metadata": {
    "ExecuteTime": {
     "end_time": "2025-01-21T18:26:43.154441Z",
     "start_time": "2025-01-21T18:26:43.148479Z"
    }
   },
   "cell_type": "code",
   "source": [
    "from pyomo.environ import *\n",
    "import sys\n",
    "from itertools import product\n",
    "\n",
    "sys.path.append('../../../src')\n",
    "# from energiapy.utils.scale_utils import scale_list, scale_tuple"
   ],
   "id": "1267d36ba0c9411d",
   "outputs": [],
   "execution_count": 58
  },
  {
   "metadata": {
    "ExecuteTime": {
     "end_time": "2025-01-21T18:26:43.168056Z",
     "start_time": "2025-01-21T18:26:43.165804Z"
    }
   },
   "cell_type": "code",
   "source": [
    "T_up = 10\n",
    "T = [i for i in range(0,T_up)]\n",
    "# structure = [4, 7]\n",
    "# time_index_dict = dict()\n"
   ],
   "id": "6d3dcbb29c095521",
   "outputs": [],
   "execution_count": 59
  },
  {
   "metadata": {
    "ExecuteTime": {
     "end_time": "2025-01-21T18:26:43.176555Z",
     "start_time": "2025-01-21T18:26:43.174117Z"
    }
   },
   "cell_type": "code",
   "source": [
    "m = ConcreteModel()"
   ],
   "id": "77b82bd874e6b0e6",
   "outputs": [],
   "execution_count": 60
  },
  {
   "metadata": {
    "ExecuteTime": {
     "end_time": "2025-01-21T18:26:43.179898Z",
     "start_time": "2025-01-21T18:26:43.177540Z"
    }
   },
   "cell_type": "code",
   "source": [
    "m.time = Set(initialize=T)\n",
    "m.sources = Set(initialize=['A'])\n",
    "m.sinks = Set(initialize=['B'])\n",
    "m.transports = Set(initialize=['truckAB', 'planeAB'])\n",
    "m.resources = Set(initialize=['resource1'])"
   ],
   "id": "180d2fc320d7109c",
   "outputs": [],
   "execution_count": 61
  },
  {
   "metadata": {
    "ExecuteTime": {
     "end_time": "2025-01-21T18:26:43.183464Z",
     "start_time": "2025-01-21T18:26:43.180502Z"
    }
   },
   "cell_type": "code",
   "source": [
    "m.Exp = Var(m.sources, m.sinks, m.transports, m.resources, m.time, domain=NonNegativeReals)\n",
    "m.Transit = Var(m.sources, m.sinks, m.transports, m.resources, m.time, domain=NonNegativeReals)"
   ],
   "id": "f0426b2df2139e28",
   "outputs": [],
   "execution_count": 62
  },
  {
   "metadata": {
    "ExecuteTime": {
     "end_time": "2025-01-21T18:26:43.186791Z",
     "start_time": "2025-01-21T18:26:43.184962Z"
    }
   },
   "cell_type": "code",
   "source": [
    "travel_time_dict = {('A', 'B'): {'truckAB': 5, 'planeAB': 2}}\n",
    "\n",
    "transit_initial_dict = {('A', 'B', 'truckAB', 'resource1', 1): 45,\n",
    "                        ('A', 'B', 'planeAB', 'resource1', 3): 65}"
   ],
   "id": "f7ea165a05184405",
   "outputs": [],
   "execution_count": 63
  },
  {
   "metadata": {
    "ExecuteTime": {
     "end_time": "2025-01-21T18:26:43.189677Z",
     "start_time": "2025-01-21T18:26:43.187505Z"
    }
   },
   "cell_type": "code",
   "source": "list(transit_initial_dict.keys())",
   "id": "c4c14488c53b6ea1",
   "outputs": [
    {
     "data": {
      "text/plain": [
       "[('A', 'B', 'truckAB', 'resource1', 1), ('A', 'B', 'planeAB', 'resource1', 3)]"
      ]
     },
     "execution_count": 64,
     "metadata": {},
     "output_type": "execute_result"
    }
   ],
   "execution_count": 64
  },
  {
   "metadata": {
    "ExecuteTime": {
     "end_time": "2025-01-21T18:26:43.192563Z",
     "start_time": "2025-01-21T18:26:43.190908Z"
    }
   },
   "cell_type": "code",
   "source": [
    "# m.Exp.pprint()"
   ],
   "id": "85fc4d4fd46cd558",
   "outputs": [],
   "execution_count": 65
  },
  {
   "cell_type": "code",
   "source": [
    "scales = [tuple(T)]\n",
    "scale_iter = list(product(*scales))"
   ],
   "metadata": {
    "collapsed": false,
    "ExecuteTime": {
     "end_time": "2025-01-21T18:26:43.194722Z",
     "start_time": "2025-01-21T18:26:43.193073Z"
    }
   },
   "id": "b6c45759343ff4be",
   "outputs": [],
   "execution_count": 66
  },
  {
   "metadata": {
    "ExecuteTime": {
     "end_time": "2025-01-21T18:26:43.198549Z",
     "start_time": "2025-01-21T18:26:43.195494Z"
    }
   },
   "cell_type": "code",
   "source": [
    "def constraint_transit_balance(instance: ConcreteModel) -> Constraint:\n",
    "    \n",
    "    def transit_balance_rule(instance: ConcreteModel, source, sink, transport, resource, *scale_list):\n",
    "            \n",
    "        current_index = scale_iter.index(scale_list[:0 + 1])\n",
    "        difference = scale_iter.index(scale_list[:0 + 1]) - travel_time_dict[(source, sink)][transport]\n",
    "        \n",
    "        if current_index - 1 >= 0:\n",
    "            previous = instance.Transit[source, sink, transport, resource, scale_iter[current_index - 1]]\n",
    "        else:\n",
    "            previous = 0\n",
    "            \n",
    "        incoming = instance.Exp[source, sink, transport, resource, scale_iter[current_index]]\n",
    "        \n",
    "        if difference >= 0:\n",
    "            outgoing = instance.Exp[source, sink, transport, resource, scale_iter[difference]]\n",
    "        else:\n",
    "            outgoing = 0\n",
    "            \n",
    "        if (source, sink, transport, resource, *scale_list) in list(transit_initial_dict.keys()):\n",
    "            initial = transit_initial_dict[source, sink, transport, resource, *scale_list]\n",
    "        else:\n",
    "            initial = 0\n",
    "        \n",
    "        return instance.Transit[source, sink, transport, resource, scale_iter[current_index]] == previous + incoming - outgoing + initial\n",
    "    \n",
    "    \n",
    "    instance.constraint_transit_balance = Constraint(instance.sources, instance.sinks, instance.transports, instance.resources, *scales, rule=transit_balance_rule)\n",
    "        "
   ],
   "id": "dff05edfc175e021",
   "outputs": [],
   "execution_count": 67
  },
  {
   "cell_type": "code",
   "source": [
    "constraint_transit_balance(m)"
   ],
   "metadata": {
    "collapsed": false,
    "ExecuteTime": {
     "end_time": "2025-01-21T18:26:43.201295Z",
     "start_time": "2025-01-21T18:26:43.199136Z"
    }
   },
   "id": "9c65141f45683506",
   "outputs": [],
   "execution_count": 68
  },
  {
   "cell_type": "code",
   "source": [
    "m.constraint_transit_balance.pprint()"
   ],
   "metadata": {
    "collapsed": false,
    "ExecuteTime": {
     "end_time": "2025-01-21T18:26:43.204809Z",
     "start_time": "2025-01-21T18:26:43.201971Z"
    }
   },
   "id": "f560dc6953474bdc",
   "outputs": [
    {
     "name": "stdout",
     "output_type": "stream",
     "text": [
      "constraint_transit_balance : Size=20, Index=sources*sinks*transports*resources*{0, 1, 2, 3, 4, 5, 6, 7, 8, 9}, Active=True\n",
      "    Key                                   : Lower : Body                                                                                                                                     : Upper : Active\n",
      "    ('A', 'B', 'planeAB', 'resource1', 0) :   0.0 :                                                                          Transit[A,B,planeAB,resource1,0] - Exp[A,B,planeAB,resource1,0] :   0.0 :   True\n",
      "    ('A', 'B', 'planeAB', 'resource1', 1) :   0.0 :                                     Transit[A,B,planeAB,resource1,1] - (Transit[A,B,planeAB,resource1,0] + Exp[A,B,planeAB,resource1,1]) :   0.0 :   True\n",
      "    ('A', 'B', 'planeAB', 'resource1', 2) :   0.0 :      Transit[A,B,planeAB,resource1,2] - (Transit[A,B,planeAB,resource1,1] + Exp[A,B,planeAB,resource1,2] - Exp[A,B,planeAB,resource1,0]) :   0.0 :   True\n",
      "    ('A', 'B', 'planeAB', 'resource1', 3) :   0.0 : Transit[A,B,planeAB,resource1,3] - (Transit[A,B,planeAB,resource1,2] + Exp[A,B,planeAB,resource1,3] - Exp[A,B,planeAB,resource1,1] + 65) :   0.0 :   True\n",
      "    ('A', 'B', 'planeAB', 'resource1', 4) :   0.0 :      Transit[A,B,planeAB,resource1,4] - (Transit[A,B,planeAB,resource1,3] + Exp[A,B,planeAB,resource1,4] - Exp[A,B,planeAB,resource1,2]) :   0.0 :   True\n",
      "    ('A', 'B', 'planeAB', 'resource1', 5) :   0.0 :      Transit[A,B,planeAB,resource1,5] - (Transit[A,B,planeAB,resource1,4] + Exp[A,B,planeAB,resource1,5] - Exp[A,B,planeAB,resource1,3]) :   0.0 :   True\n",
      "    ('A', 'B', 'planeAB', 'resource1', 6) :   0.0 :      Transit[A,B,planeAB,resource1,6] - (Transit[A,B,planeAB,resource1,5] + Exp[A,B,planeAB,resource1,6] - Exp[A,B,planeAB,resource1,4]) :   0.0 :   True\n",
      "    ('A', 'B', 'planeAB', 'resource1', 7) :   0.0 :      Transit[A,B,planeAB,resource1,7] - (Transit[A,B,planeAB,resource1,6] + Exp[A,B,planeAB,resource1,7] - Exp[A,B,planeAB,resource1,5]) :   0.0 :   True\n",
      "    ('A', 'B', 'planeAB', 'resource1', 8) :   0.0 :      Transit[A,B,planeAB,resource1,8] - (Transit[A,B,planeAB,resource1,7] + Exp[A,B,planeAB,resource1,8] - Exp[A,B,planeAB,resource1,6]) :   0.0 :   True\n",
      "    ('A', 'B', 'planeAB', 'resource1', 9) :   0.0 :      Transit[A,B,planeAB,resource1,9] - (Transit[A,B,planeAB,resource1,8] + Exp[A,B,planeAB,resource1,9] - Exp[A,B,planeAB,resource1,7]) :   0.0 :   True\n",
      "    ('A', 'B', 'truckAB', 'resource1', 0) :   0.0 :                                                                          Transit[A,B,truckAB,resource1,0] - Exp[A,B,truckAB,resource1,0] :   0.0 :   True\n",
      "    ('A', 'B', 'truckAB', 'resource1', 1) :   0.0 :                                Transit[A,B,truckAB,resource1,1] - (Transit[A,B,truckAB,resource1,0] + Exp[A,B,truckAB,resource1,1] + 45) :   0.0 :   True\n",
      "    ('A', 'B', 'truckAB', 'resource1', 2) :   0.0 :                                     Transit[A,B,truckAB,resource1,2] - (Transit[A,B,truckAB,resource1,1] + Exp[A,B,truckAB,resource1,2]) :   0.0 :   True\n",
      "    ('A', 'B', 'truckAB', 'resource1', 3) :   0.0 :                                     Transit[A,B,truckAB,resource1,3] - (Transit[A,B,truckAB,resource1,2] + Exp[A,B,truckAB,resource1,3]) :   0.0 :   True\n",
      "    ('A', 'B', 'truckAB', 'resource1', 4) :   0.0 :                                     Transit[A,B,truckAB,resource1,4] - (Transit[A,B,truckAB,resource1,3] + Exp[A,B,truckAB,resource1,4]) :   0.0 :   True\n",
      "    ('A', 'B', 'truckAB', 'resource1', 5) :   0.0 :      Transit[A,B,truckAB,resource1,5] - (Transit[A,B,truckAB,resource1,4] + Exp[A,B,truckAB,resource1,5] - Exp[A,B,truckAB,resource1,0]) :   0.0 :   True\n",
      "    ('A', 'B', 'truckAB', 'resource1', 6) :   0.0 :      Transit[A,B,truckAB,resource1,6] - (Transit[A,B,truckAB,resource1,5] + Exp[A,B,truckAB,resource1,6] - Exp[A,B,truckAB,resource1,1]) :   0.0 :   True\n",
      "    ('A', 'B', 'truckAB', 'resource1', 7) :   0.0 :      Transit[A,B,truckAB,resource1,7] - (Transit[A,B,truckAB,resource1,6] + Exp[A,B,truckAB,resource1,7] - Exp[A,B,truckAB,resource1,2]) :   0.0 :   True\n",
      "    ('A', 'B', 'truckAB', 'resource1', 8) :   0.0 :      Transit[A,B,truckAB,resource1,8] - (Transit[A,B,truckAB,resource1,7] + Exp[A,B,truckAB,resource1,8] - Exp[A,B,truckAB,resource1,3]) :   0.0 :   True\n",
      "    ('A', 'B', 'truckAB', 'resource1', 9) :   0.0 :      Transit[A,B,truckAB,resource1,9] - (Transit[A,B,truckAB,resource1,8] + Exp[A,B,truckAB,resource1,9] - Exp[A,B,truckAB,resource1,4]) :   0.0 :   True\n"
     ]
    }
   ],
   "execution_count": 69
  },
  {
   "cell_type": "code",
   "source": [
    "m.Transit.pprint()"
   ],
   "metadata": {
    "collapsed": false,
    "ExecuteTime": {
     "end_time": "2025-01-21T18:26:43.207832Z",
     "start_time": "2025-01-21T18:26:43.206052Z"
    }
   },
   "id": "57e0ef49f4cbb450",
   "outputs": [
    {
     "name": "stdout",
     "output_type": "stream",
     "text": [
      "Transit : Size=20, Index=sources*sinks*transports*resources*time\n",
      "    Key                                   : Lower : Value : Upper : Fixed : Stale : Domain\n",
      "    ('A', 'B', 'planeAB', 'resource1', 0) :     0 :  None :  None : False :  True : NonNegativeReals\n",
      "    ('A', 'B', 'planeAB', 'resource1', 1) :     0 :  None :  None : False :  True : NonNegativeReals\n",
      "    ('A', 'B', 'planeAB', 'resource1', 2) :     0 :  None :  None : False :  True : NonNegativeReals\n",
      "    ('A', 'B', 'planeAB', 'resource1', 3) :     0 :  None :  None : False :  True : NonNegativeReals\n",
      "    ('A', 'B', 'planeAB', 'resource1', 4) :     0 :  None :  None : False :  True : NonNegativeReals\n",
      "    ('A', 'B', 'planeAB', 'resource1', 5) :     0 :  None :  None : False :  True : NonNegativeReals\n",
      "    ('A', 'B', 'planeAB', 'resource1', 6) :     0 :  None :  None : False :  True : NonNegativeReals\n",
      "    ('A', 'B', 'planeAB', 'resource1', 7) :     0 :  None :  None : False :  True : NonNegativeReals\n",
      "    ('A', 'B', 'planeAB', 'resource1', 8) :     0 :  None :  None : False :  True : NonNegativeReals\n",
      "    ('A', 'B', 'planeAB', 'resource1', 9) :     0 :  None :  None : False :  True : NonNegativeReals\n",
      "    ('A', 'B', 'truckAB', 'resource1', 0) :     0 :  None :  None : False :  True : NonNegativeReals\n",
      "    ('A', 'B', 'truckAB', 'resource1', 1) :     0 :  None :  None : False :  True : NonNegativeReals\n",
      "    ('A', 'B', 'truckAB', 'resource1', 2) :     0 :  None :  None : False :  True : NonNegativeReals\n",
      "    ('A', 'B', 'truckAB', 'resource1', 3) :     0 :  None :  None : False :  True : NonNegativeReals\n",
      "    ('A', 'B', 'truckAB', 'resource1', 4) :     0 :  None :  None : False :  True : NonNegativeReals\n",
      "    ('A', 'B', 'truckAB', 'resource1', 5) :     0 :  None :  None : False :  True : NonNegativeReals\n",
      "    ('A', 'B', 'truckAB', 'resource1', 6) :     0 :  None :  None : False :  True : NonNegativeReals\n",
      "    ('A', 'B', 'truckAB', 'resource1', 7) :     0 :  None :  None : False :  True : NonNegativeReals\n",
      "    ('A', 'B', 'truckAB', 'resource1', 8) :     0 :  None :  None : False :  True : NonNegativeReals\n",
      "    ('A', 'B', 'truckAB', 'resource1', 9) :     0 :  None :  None : False :  True : NonNegativeReals\n"
     ]
    }
   ],
   "execution_count": 70
  },
  {
   "cell_type": "code",
   "source": "m.constraint_transit_balance['A','B', 'planeAB', 'resource1', 3].pprint()",
   "metadata": {
    "collapsed": false,
    "ExecuteTime": {
     "end_time": "2025-01-21T18:26:49.554782Z",
     "start_time": "2025-01-21T18:26:49.550616Z"
    }
   },
   "id": "93a4628120ce50d2",
   "outputs": [
    {
     "name": "stdout",
     "output_type": "stream",
     "text": [
      "{Member of constraint_transit_balance} : Size=20, Index=sources*sinks*transports*resources*{0, 1, 2, 3, 4, 5, 6, 7, 8, 9}, Active=True\n",
      "    Key                                   : Lower : Body                                                                                                                                     : Upper : Active\n",
      "    ('A', 'B', 'planeAB', 'resource1', 3) :   0.0 : Transit[A,B,planeAB,resource1,3] - (Transit[A,B,planeAB,resource1,2] + Exp[A,B,planeAB,resource1,3] - Exp[A,B,planeAB,resource1,1] + 65) :   0.0 :   True\n"
     ]
    }
   ],
   "execution_count": 72
  },
  {
   "metadata": {
    "ExecuteTime": {
     "end_time": "2025-01-21T18:26:43.218642Z",
     "start_time": "2025-01-21T18:26:43.217516Z"
    }
   },
   "cell_type": "code",
   "source": "",
   "id": "af0917b598b24cf0",
   "outputs": [],
   "execution_count": 71
  }
 ],
 "metadata": {
  "kernelspec": {
   "display_name": "Python 3",
   "language": "python",
   "name": "python3"
  },
  "language_info": {
   "codemirror_mode": {
    "name": "ipython",
    "version": 2
   },
   "file_extension": ".py",
   "mimetype": "text/x-python",
   "name": "python",
   "nbconvert_exporter": "python",
   "pygments_lexer": "ipython2",
   "version": "2.7.6"
  }
 },
 "nbformat": 4,
 "nbformat_minor": 5
}
