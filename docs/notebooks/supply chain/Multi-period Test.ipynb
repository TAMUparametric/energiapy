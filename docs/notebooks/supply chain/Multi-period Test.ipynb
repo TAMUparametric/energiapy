{
 "cells": [
  {
   "metadata": {
    "ExecuteTime": {
     "end_time": "2025-01-28T15:33:42.628761Z",
     "start_time": "2025-01-28T15:33:42.342703Z"
    }
   },
   "cell_type": "code",
   "source": [
    "from pyomo.environ import *\n",
    "import sys\n",
    "from itertools import product\n",
    "import math\n",
    "sys.path.append('../../../src')\n",
    "# from energiapy.utils.scale_utils import scale_list, scale_tuple"
   ],
   "id": "1267d36ba0c9411d",
   "outputs": [],
   "execution_count": 1
  },
  {
   "cell_type": "code",
   "outputs": [],
   "source": [
    "# Case Study Parameters\n",
    "time_scales = [12,4,7]\n",
    "time_length = math.prod(time_scales)\n",
    "network_scale_level = 0\n",
    "network_div_idx = math.prod(time_scales[network_scale_level + 1 : len(time_scales) + 1])"
   ],
   "metadata": {
    "collapsed": false
   },
   "id": "8d4ce4edb7076a18"
  },
  {
   "cell_type": "code",
   "outputs": [],
   "source": [
    "def time_transform(time_length:int, structure:list)-> dict:\n",
    "    time_index_dict=dict()\n",
    "    for n in range(time_length):\n",
    "        indices = []\n",
    "        i = n\n",
    "        for j in reversed(structure):\n",
    "            indices.insert(0, i%j)\n",
    "            i //= j\n",
    "        time_index_dict[n] = indices\n",
    "    return time_index_dict"
   ],
   "metadata": {
    "collapsed": false
   },
   "id": "6830422d25aaea89"
  },
  {
   "cell_type": "code",
   "outputs": [],
   "source": [
    "def determine_problem(t: int, flag: int = 0) -> str:\n",
    "    return 'design' if flag or t % network_div_idx == 0 else 'scheduling'"
   ],
   "metadata": {
    "collapsed": false
   },
   "id": "6bb11cd9caa48857"
  },
  {
   "cell_type": "code",
   "outputs": [],
   "source": [
    "time_index_dict = time_transform(time_length=time_length, structure=time_scales)"
   ],
   "metadata": {
    "collapsed": false
   },
   "id": "e588052a17d23ec3"
  },
  {
   "metadata": {
    "ExecuteTime": {
     "end_time": "2025-01-28T15:33:42.632127Z",
     "start_time": "2025-01-28T15:33:42.629805Z"
    }
   },
   "cell_type": "code",
   "source": [
    "T_up = 10\n",
    "T = [i for i in range(0,T_up)]\n",
    "# structure = [4, 7]\n",
    "# time_index_dict = dict()\n"
   ],
   "id": "6d3dcbb29c095521",
   "outputs": [],
   "execution_count": 2
  },
  {
   "metadata": {
    "ExecuteTime": {
     "end_time": "2025-01-28T15:33:42.637357Z",
     "start_time": "2025-01-28T15:33:42.632127Z"
    }
   },
   "cell_type": "code",
   "source": [
    "m = ConcreteModel()"
   ],
   "id": "77b82bd874e6b0e6",
   "outputs": [],
   "execution_count": 3
  },
  {
   "metadata": {
    "ExecuteTime": {
     "end_time": "2025-01-28T15:33:42.640973Z",
     "start_time": "2025-01-28T15:33:42.637357Z"
    }
   },
   "cell_type": "code",
   "source": [
    "m.time = Set(initialize=T)\n",
    "m.sources = Set(initialize=['A'])\n",
    "m.sinks = Set(initialize=['B'])\n",
    "m.transports = Set(initialize=['truckAB', 'planeAB'])\n",
    "m.resources = Set(initialize=['resource1'])"
   ],
   "id": "180d2fc320d7109c",
   "outputs": [],
   "execution_count": 4
  },
  {
   "metadata": {
    "ExecuteTime": {
     "end_time": "2025-01-28T15:33:42.644311Z",
     "start_time": "2025-01-28T15:33:42.642021Z"
    }
   },
   "cell_type": "code",
   "source": [
    "m.Exp = Var(m.sources, m.sinks, m.transports, m.resources, m.time, domain=NonNegativeReals)\n",
    "m.Transit = Var(m.sources, m.sinks, m.transports, m.resources, m.time, domain=NonNegativeReals)"
   ],
   "id": "f0426b2df2139e28",
   "outputs": [],
   "execution_count": 5
  },
  {
   "metadata": {
    "ExecuteTime": {
     "end_time": "2025-01-28T15:33:42.647812Z",
     "start_time": "2025-01-28T15:33:42.644311Z"
    }
   },
   "cell_type": "code",
   "source": [
    "travel_time_dict = {('A', 'B'): {'truckAB': 5, 'planeAB': 2}}\n",
    "\n",
    "transit_initial_dict = {('A', 'B', 'truckAB', 'resource1', 1): 45,\n",
    "                        ('A', 'B', 'planeAB', 'resource1', 3): 65}"
   ],
   "id": "f7ea165a05184405",
   "outputs": [],
   "execution_count": 6
  },
  {
   "metadata": {
    "ExecuteTime": {
     "end_time": "2025-01-28T15:33:42.652958Z",
     "start_time": "2025-01-28T15:33:42.647812Z"
    }
   },
   "cell_type": "code",
   "source": [
    "list(transit_initial_dict.keys())"
   ],
   "id": "c4c14488c53b6ea1",
   "outputs": [
    {
     "data": {
      "text/plain": "[('A', 'B', 'truckAB', 'resource1', 1), ('A', 'B', 'planeAB', 'resource1', 3)]"
     },
     "execution_count": 7,
     "metadata": {},
     "output_type": "execute_result"
    }
   ],
   "execution_count": 7
  },
  {
   "metadata": {
    "ExecuteTime": {
     "end_time": "2025-01-28T15:33:42.655890Z",
     "start_time": "2025-01-28T15:33:42.652958Z"
    }
   },
   "cell_type": "code",
   "source": [
    "# m.Exp.pprint()"
   ],
   "id": "85fc4d4fd46cd558",
   "outputs": [],
   "execution_count": 8
  },
  {
   "cell_type": "code",
   "source": [
    "scales = [tuple(T)]\n",
    "scale_iter = list(product(*scales))"
   ],
   "metadata": {
    "collapsed": false,
    "ExecuteTime": {
     "end_time": "2025-01-28T15:33:42.660049Z",
     "start_time": "2025-01-28T15:33:42.656894Z"
    }
   },
   "id": "b6c45759343ff4be",
   "outputs": [],
   "execution_count": 9
  },
  {
   "metadata": {
    "ExecuteTime": {
     "end_time": "2025-01-28T15:33:42.664528Z",
     "start_time": "2025-01-28T15:33:42.660049Z"
    }
   },
   "cell_type": "code",
   "source": [
    "def constraint_transit_balance(instance: ConcreteModel) -> Constraint:\n",
    "    \n",
    "    def transit_balance_rule(instance: ConcreteModel, source, sink, transport, resource, *scale_list):\n",
    "            \n",
    "        current_index = scale_iter.index(scale_list[:0 + 1])\n",
    "        difference = scale_iter.index(scale_list[:0 + 1]) - travel_time_dict[(source, sink)][transport]\n",
    "        \n",
    "        if current_index - 1 >= 0:\n",
    "            previous = instance.Transit[source, sink, transport, resource, scale_iter[current_index - 1]]\n",
    "        else:\n",
    "            previous = 0\n",
    "            \n",
    "        incoming = instance.Exp[source, sink, transport, resource, scale_iter[current_index]]\n",
    "        \n",
    "        if difference >= 0:\n",
    "            outgoing = instance.Exp[source, sink, transport, resource, scale_iter[difference]]\n",
    "        else:\n",
    "            outgoing = 0\n",
    "            \n",
    "        if (source, sink, transport, resource, *scale_list) in list(transit_initial_dict.keys()):\n",
    "            initial = transit_initial_dict[source, sink, transport, resource, *scale_list]\n",
    "        else:\n",
    "            initial = 0\n",
    "        \n",
    "        return instance.Transit[source, sink, transport, resource, scale_iter[current_index]] == previous + incoming - outgoing + initial\n",
    "    \n",
    "    \n",
    "    instance.constraint_transit_balance = Constraint(instance.sources, instance.sinks, instance.transports, instance.resources, *scales, rule=transit_balance_rule)\n",
    "        "
   ],
   "id": "dff05edfc175e021",
   "outputs": [],
   "execution_count": 10
  },
  {
   "cell_type": "code",
   "source": [
    "constraint_transit_balance(m)"
   ],
   "metadata": {
    "collapsed": false,
    "ExecuteTime": {
     "end_time": "2025-01-28T15:33:42.668595Z",
     "start_time": "2025-01-28T15:33:42.664528Z"
    }
   },
   "id": "9c65141f45683506",
   "outputs": [],
   "execution_count": 11
  },
  {
   "cell_type": "code",
   "source": [
    "m.constraint_transit_balance['A','B', 'planeAB', 'resource1', 3].pprint()"
   ],
   "metadata": {
    "collapsed": false,
    "ExecuteTime": {
     "end_time": "2025-01-28T15:33:42.672146Z",
     "start_time": "2025-01-28T15:33:42.668595Z"
    }
   },
   "id": "93a4628120ce50d2",
   "outputs": [
    {
     "name": "stdout",
     "output_type": "stream",
     "text": [
      "{Member of constraint_transit_balance} : Size=20, Index=sources*sinks*transports*resources*{0, 1, 2, 3, 4, 5, 6, 7, 8, 9}, Active=True\n",
      "    Key                                   : Lower : Body                                                                                                                                     : Upper : Active\n",
      "    ('A', 'B', 'planeAB', 'resource1', 3) :   0.0 : Transit[A,B,planeAB,resource1,3] - (Transit[A,B,planeAB,resource1,2] + Exp[A,B,planeAB,resource1,3] - Exp[A,B,planeAB,resource1,1] + 65) :   0.0 :   True\n"
     ]
    }
   ],
   "execution_count": 12
  },
  {
   "cell_type": "code",
   "outputs": [],
   "source": [
    "m.Transit[('A','B','planeAB', 'resource1',0)].value = 25\n",
    "m.Transit[('A','B','planeAB', 'resource1',0)].fixed = True\n",
    "\n",
    "m.Transit[('A','B','planeAB', 'resource1',1)].value = 50\n",
    "m.Transit[('A','B','planeAB', 'resource1',1)].fixed = True"
   ],
   "metadata": {
    "collapsed": false,
    "ExecuteTime": {
     "end_time": "2025-01-28T15:33:42.675090Z",
     "start_time": "2025-01-28T15:33:42.672146Z"
    }
   },
   "id": "592bdd72d9dc17fe",
   "execution_count": 13
  },
  {
   "cell_type": "code",
   "outputs": [
    {
     "name": "stdout",
     "output_type": "stream",
     "text": [
      "Transit : Size=20, Index=sources*sinks*transports*resources*time\n",
      "    Key                                   : Lower : Value : Upper : Fixed : Stale : Domain\n",
      "    ('A', 'B', 'planeAB', 'resource1', 0) :     0 :    25 :  None :  True : False : NonNegativeReals\n",
      "    ('A', 'B', 'planeAB', 'resource1', 1) :     0 :    50 :  None :  True : False : NonNegativeReals\n",
      "    ('A', 'B', 'planeAB', 'resource1', 2) :     0 :  None :  None : False :  True : NonNegativeReals\n",
      "    ('A', 'B', 'planeAB', 'resource1', 3) :     0 :  None :  None : False :  True : NonNegativeReals\n",
      "    ('A', 'B', 'planeAB', 'resource1', 4) :     0 :  None :  None : False :  True : NonNegativeReals\n",
      "    ('A', 'B', 'planeAB', 'resource1', 5) :     0 :  None :  None : False :  True : NonNegativeReals\n",
      "    ('A', 'B', 'planeAB', 'resource1', 6) :     0 :  None :  None : False :  True : NonNegativeReals\n",
      "    ('A', 'B', 'planeAB', 'resource1', 7) :     0 :  None :  None : False :  True : NonNegativeReals\n",
      "    ('A', 'B', 'planeAB', 'resource1', 8) :     0 :  None :  None : False :  True : NonNegativeReals\n",
      "    ('A', 'B', 'planeAB', 'resource1', 9) :     0 :  None :  None : False :  True : NonNegativeReals\n",
      "    ('A', 'B', 'truckAB', 'resource1', 0) :     0 :  None :  None : False :  True : NonNegativeReals\n",
      "    ('A', 'B', 'truckAB', 'resource1', 1) :     0 :  None :  None : False :  True : NonNegativeReals\n",
      "    ('A', 'B', 'truckAB', 'resource1', 2) :     0 :  None :  None : False :  True : NonNegativeReals\n",
      "    ('A', 'B', 'truckAB', 'resource1', 3) :     0 :  None :  None : False :  True : NonNegativeReals\n",
      "    ('A', 'B', 'truckAB', 'resource1', 4) :     0 :  None :  None : False :  True : NonNegativeReals\n",
      "    ('A', 'B', 'truckAB', 'resource1', 5) :     0 :  None :  None : False :  True : NonNegativeReals\n",
      "    ('A', 'B', 'truckAB', 'resource1', 6) :     0 :  None :  None : False :  True : NonNegativeReals\n",
      "    ('A', 'B', 'truckAB', 'resource1', 7) :     0 :  None :  None : False :  True : NonNegativeReals\n",
      "    ('A', 'B', 'truckAB', 'resource1', 8) :     0 :  None :  None : False :  True : NonNegativeReals\n",
      "    ('A', 'B', 'truckAB', 'resource1', 9) :     0 :  None :  None : False :  True : NonNegativeReals\n"
     ]
    }
   ],
   "source": [
    "m.Transit.pprint()"
   ],
   "metadata": {
    "collapsed": false,
    "ExecuteTime": {
     "end_time": "2025-01-28T15:33:42.679459Z",
     "start_time": "2025-01-28T15:33:42.676094Z"
    }
   },
   "id": "61ed4aa562c2929",
   "execution_count": 14
  },
  {
   "cell_type": "code",
   "outputs": [],
   "source": [
    "# m2 = ConcreteModel()"
   ],
   "metadata": {
    "collapsed": false,
    "ExecuteTime": {
     "end_time": "2025-01-28T15:33:42.682433Z",
     "start_time": "2025-01-28T15:33:42.679459Z"
    }
   },
   "id": "2e07de3ef1fa4aa8",
   "execution_count": 15
  },
  {
   "cell_type": "code",
   "outputs": [],
   "source": [
    "# m2.Exp = Var(m.sources, m.sinks, m.transports, m.resources, m.time, domain=NonNegativeReals)\n",
    "# m2.Transit = Var(m.sources, m.sinks, m.transports, m.resources, m.time, domain=NonNegativeReals)"
   ],
   "metadata": {
    "collapsed": false,
    "ExecuteTime": {
     "end_time": "2025-01-28T15:33:42.686120Z",
     "start_time": "2025-01-28T15:33:42.682433Z"
    }
   },
   "id": "6b3752ab8b323b28",
   "execution_count": 16
  },
  {
   "cell_type": "code",
   "outputs": [],
   "source": [
    "def fix_variables(model2fix: ConcreteModel, initial_dict: dict=None,  scen_name: str = None, current_time_idx: int = 0):\n",
    "    model2fix_vars = {v.name: v for v in model2fix.component_objects(Var)}\n",
    "    initial_dict = initial_dict or dict()\n",
    "    for name, var in model2fix_vars.items():\n",
    "        for key in (k for k in var.keys() if k[-1] < current_time_idx):\n",
    "            var[key].fixed = True\n",
    "            var[key] = initial_dict[name][key]\n"
   ],
   "metadata": {
    "collapsed": false,
    "ExecuteTime": {
     "end_time": "2025-01-28T15:33:42.690274Z",
     "start_time": "2025-01-28T15:33:42.686120Z"
    }
   },
   "id": "89bce2b6f9884b3e",
   "execution_count": 17
  },
  {
   "cell_type": "code",
   "outputs": [],
   "source": [
    "# fix_variables(model1=m, model2=m2, current_time_idx=1)"
   ],
   "metadata": {
    "collapsed": false,
    "ExecuteTime": {
     "end_time": "2025-01-28T15:33:42.692766Z",
     "start_time": "2025-01-28T15:33:42.690274Z"
    }
   },
   "id": "8138d3ecbf511e84",
   "execution_count": 18
  },
  {
   "cell_type": "code",
   "outputs": [],
   "source": [
    "# m2.Transit.pprint()"
   ],
   "metadata": {
    "collapsed": false,
    "ExecuteTime": {
     "end_time": "2025-01-28T15:33:42.696134Z",
     "start_time": "2025-01-28T15:33:42.692766Z"
    }
   },
   "id": "8513bf7e82fbdf91",
   "execution_count": 19
  },
  {
   "cell_type": "code",
   "outputs": [],
   "source": [
    "# m2.Exp.pprint()"
   ],
   "metadata": {
    "collapsed": false,
    "ExecuteTime": {
     "end_time": "2025-01-28T15:33:42.700128Z",
     "start_time": "2025-01-28T15:33:42.696134Z"
    }
   },
   "id": "9255b7b450b32119",
   "execution_count": 20
  },
  {
   "cell_type": "code",
   "outputs": [],
   "source": [
    "m_vars = m.component_map(ctype=Var)\n",
    "vars_dict = {i: m_vars[i].extract_values() for i in m_vars.keys()}"
   ],
   "metadata": {
    "collapsed": false,
    "ExecuteTime": {
     "end_time": "2025-01-28T15:33:42.704163Z",
     "start_time": "2025-01-28T15:33:42.700128Z"
    }
   },
   "id": "91c39cb4bbcc89b2",
   "execution_count": 21
  },
  {
   "cell_type": "code",
   "outputs": [
    {
     "data": {
      "text/plain": "{'Exp': {('A', 'B', 'truckAB', 'resource1', 0): None,\n  ('A', 'B', 'truckAB', 'resource1', 1): None,\n  ('A', 'B', 'truckAB', 'resource1', 2): None,\n  ('A', 'B', 'truckAB', 'resource1', 3): None,\n  ('A', 'B', 'truckAB', 'resource1', 4): None,\n  ('A', 'B', 'truckAB', 'resource1', 5): None,\n  ('A', 'B', 'truckAB', 'resource1', 6): None,\n  ('A', 'B', 'truckAB', 'resource1', 7): None,\n  ('A', 'B', 'truckAB', 'resource1', 8): None,\n  ('A', 'B', 'truckAB', 'resource1', 9): None,\n  ('A', 'B', 'planeAB', 'resource1', 0): None,\n  ('A', 'B', 'planeAB', 'resource1', 1): None,\n  ('A', 'B', 'planeAB', 'resource1', 2): None,\n  ('A', 'B', 'planeAB', 'resource1', 3): None,\n  ('A', 'B', 'planeAB', 'resource1', 4): None,\n  ('A', 'B', 'planeAB', 'resource1', 5): None,\n  ('A', 'B', 'planeAB', 'resource1', 6): None,\n  ('A', 'B', 'planeAB', 'resource1', 7): None,\n  ('A', 'B', 'planeAB', 'resource1', 8): None,\n  ('A', 'B', 'planeAB', 'resource1', 9): None},\n 'Transit': {('A', 'B', 'truckAB', 'resource1', 0): None,\n  ('A', 'B', 'truckAB', 'resource1', 1): None,\n  ('A', 'B', 'truckAB', 'resource1', 2): None,\n  ('A', 'B', 'truckAB', 'resource1', 3): None,\n  ('A', 'B', 'truckAB', 'resource1', 4): None,\n  ('A', 'B', 'truckAB', 'resource1', 5): None,\n  ('A', 'B', 'truckAB', 'resource1', 6): None,\n  ('A', 'B', 'truckAB', 'resource1', 7): None,\n  ('A', 'B', 'truckAB', 'resource1', 8): None,\n  ('A', 'B', 'truckAB', 'resource1', 9): None,\n  ('A', 'B', 'planeAB', 'resource1', 0): 25,\n  ('A', 'B', 'planeAB', 'resource1', 1): 50,\n  ('A', 'B', 'planeAB', 'resource1', 2): None,\n  ('A', 'B', 'planeAB', 'resource1', 3): None,\n  ('A', 'B', 'planeAB', 'resource1', 4): None,\n  ('A', 'B', 'planeAB', 'resource1', 5): None,\n  ('A', 'B', 'planeAB', 'resource1', 6): None,\n  ('A', 'B', 'planeAB', 'resource1', 7): None,\n  ('A', 'B', 'planeAB', 'resource1', 8): None,\n  ('A', 'B', 'planeAB', 'resource1', 9): None}}"
     },
     "execution_count": 22,
     "metadata": {},
     "output_type": "execute_result"
    }
   ],
   "source": [
    "vars_dict"
   ],
   "metadata": {
    "collapsed": false,
    "ExecuteTime": {
     "end_time": "2025-01-28T15:33:42.709250Z",
     "start_time": "2025-01-28T15:33:42.704163Z"
    }
   },
   "id": "b2094bed6446c28d",
   "execution_count": 22
  },
  {
   "cell_type": "code",
   "outputs": [],
   "source": [
    "m2 = ConcreteModel()\n",
    "\n",
    "m2.Transit = Var(list(m.Transit.keys()), within=NonNegativeReals)"
   ],
   "metadata": {
    "collapsed": false,
    "ExecuteTime": {
     "end_time": "2025-01-28T15:33:42.712765Z",
     "start_time": "2025-01-28T15:33:42.709250Z"
    }
   },
   "id": "368845ef55bdd826",
   "execution_count": 23
  },
  {
   "cell_type": "code",
   "outputs": [],
   "source": [
    "# fix_variables(model2fix=m2, initial_dict=vars_dict, current_time_idx=2)"
   ],
   "metadata": {
    "collapsed": false,
    "ExecuteTime": {
     "end_time": "2025-01-28T15:33:42.716758Z",
     "start_time": "2025-01-28T15:33:42.712765Z"
    }
   },
   "id": "71ebfc891c43c69b",
   "execution_count": 24
  },
  {
   "cell_type": "code",
   "outputs": [],
   "source": [
    "# m2.Transit.pprint()"
   ],
   "metadata": {
    "collapsed": false,
    "ExecuteTime": {
     "end_time": "2025-01-28T15:33:42.720305Z",
     "start_time": "2025-01-28T15:33:42.716758Z"
    }
   },
   "id": "130767eacd22016f",
   "execution_count": 25
  },
  {
   "cell_type": "code",
   "outputs": [],
   "source": [
    "m2_vars = {v.name: v for v in m2.component_objects(Var)}"
   ],
   "metadata": {
    "collapsed": false,
    "ExecuteTime": {
     "end_time": "2025-01-28T15:33:42.723820Z",
     "start_time": "2025-01-28T15:33:42.720305Z"
    }
   },
   "id": "1b9784eba9ca1268",
   "execution_count": 26
  },
  {
   "cell_type": "code",
   "outputs": [
    {
     "ename": "TypeError",
     "evalue": "'int' object is not iterable",
     "output_type": "error",
     "traceback": [
      "\u001B[1;31m---------------------------------------------------------------------------\u001B[0m",
      "\u001B[1;31mTypeError\u001B[0m                                 Traceback (most recent call last)",
      "Cell \u001B[1;32mIn[35], line 2\u001B[0m\n\u001B[0;32m      1\u001B[0m \u001B[38;5;28;01mfor\u001B[39;00m name, var \u001B[38;5;129;01min\u001B[39;00m m2_vars\u001B[38;5;241m.\u001B[39mitems():\n\u001B[1;32m----> 2\u001B[0m     var_key_list \u001B[38;5;241m=\u001B[39m [k \u001B[38;5;28;01mfor\u001B[39;00m k \u001B[38;5;129;01min\u001B[39;00m var\u001B[38;5;241m.\u001B[39mkeys() \u001B[38;5;28;01mif\u001B[39;00m \u001B[38;5;28;43mtuple\u001B[39;49m\u001B[43m(\u001B[49m\u001B[43mk\u001B[49m\u001B[43m[\u001B[49m\u001B[38;5;241;43m-\u001B[39;49m\u001B[38;5;241;43m1\u001B[39;49m\u001B[43m]\u001B[49m\u001B[43m)\u001B[49m \u001B[38;5;241m<\u001B[39m (\u001B[38;5;241m0\u001B[39m,\u001B[38;5;241m0\u001B[39m)]\n",
      "\u001B[1;31mTypeError\u001B[0m: 'int' object is not iterable"
     ]
    }
   ],
   "source": [
    "for name, var in m2_vars.items():\n",
    "    var_key_list = [k for k in var.keys() if k[-1] < (0,0)]"
   ],
   "metadata": {
    "collapsed": false,
    "ExecuteTime": {
     "end_time": "2025-01-28T15:36:42.987726Z",
     "start_time": "2025-01-28T15:36:42.979543Z"
    }
   },
   "id": "2c35ba257e434e3c",
   "execution_count": 35
  },
  {
   "cell_type": "code",
   "outputs": [
    {
     "data": {
      "text/plain": "[('A', 'B', 'truckAB', 'resource1', 0),\n ('A', 'B', 'truckAB', 'resource1', 1),\n ('A', 'B', 'truckAB', 'resource1', 2),\n ('A', 'B', 'planeAB', 'resource1', 0),\n ('A', 'B', 'planeAB', 'resource1', 1),\n ('A', 'B', 'planeAB', 'resource1', 2)]"
     },
     "execution_count": 34,
     "metadata": {},
     "output_type": "execute_result"
    }
   ],
   "source": [
    "var_key_list"
   ],
   "metadata": {
    "collapsed": false,
    "ExecuteTime": {
     "end_time": "2025-01-28T15:36:34.021309Z",
     "start_time": "2025-01-28T15:36:34.018343Z"
    }
   },
   "id": "490e41ff40abdc55",
   "execution_count": 34
  },
  {
   "cell_type": "code",
   "outputs": [],
   "source": [
    "l = [1,2,3]"
   ],
   "metadata": {
    "collapsed": false,
    "ExecuteTime": {
     "end_time": "2025-01-28T15:37:16.786296Z",
     "start_time": "2025-01-28T15:37:16.783833Z"
    }
   },
   "id": "e5aa94c2cb95ae22",
   "execution_count": 36
  },
  {
   "cell_type": "code",
   "outputs": [],
   "source": [
    "a= l[-1]"
   ],
   "metadata": {
    "collapsed": false,
    "ExecuteTime": {
     "end_time": "2025-01-28T15:37:44.326367Z",
     "start_time": "2025-01-28T15:37:44.323140Z"
    }
   },
   "id": "154b65c535f91208",
   "execution_count": 40
  },
  {
   "cell_type": "code",
   "outputs": [
    {
     "ename": "TypeError",
     "evalue": "'int' object is not iterable",
     "output_type": "error",
     "traceback": [
      "\u001B[1;31m---------------------------------------------------------------------------\u001B[0m",
      "\u001B[1;31mTypeError\u001B[0m                                 Traceback (most recent call last)",
      "Cell \u001B[1;32mIn[41], line 1\u001B[0m\n\u001B[1;32m----> 1\u001B[0m t \u001B[38;5;241m=\u001B[39m \u001B[38;5;28;43mtuple\u001B[39;49m\u001B[43m(\u001B[49m\u001B[43ma\u001B[49m\u001B[43m)\u001B[49m\n",
      "\u001B[1;31mTypeError\u001B[0m: 'int' object is not iterable"
     ]
    }
   ],
   "source": [
    "t = tuple(a)"
   ],
   "metadata": {
    "collapsed": false,
    "ExecuteTime": {
     "end_time": "2025-01-28T15:37:44.548753Z",
     "start_time": "2025-01-28T15:37:44.540272Z"
    }
   },
   "id": "c0769ff3399cae9",
   "execution_count": 41
  },
  {
   "cell_type": "code",
   "outputs": [],
   "source": [],
   "metadata": {
    "collapsed": false
   },
   "id": "b670ff5265766ab6"
  }
 ],
 "metadata": {
  "kernelspec": {
   "display_name": "Python 3",
   "language": "python",
   "name": "python3"
  },
  "language_info": {
   "codemirror_mode": {
    "name": "ipython",
    "version": 2
   },
   "file_extension": ".py",
   "mimetype": "text/x-python",
   "name": "python",
   "nbconvert_exporter": "python",
   "pygments_lexer": "ipython2",
   "version": "2.7.6"
  }
 },
 "nbformat": 4,
 "nbformat_minor": 5
}
