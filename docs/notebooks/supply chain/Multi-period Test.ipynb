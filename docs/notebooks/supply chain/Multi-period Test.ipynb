{
 "cells": [
  {
   "metadata": {
    "ExecuteTime": {
     "end_time": "2025-01-24T00:11:24.533409Z",
     "start_time": "2025-01-24T00:11:24.294888Z"
    }
   },
   "cell_type": "code",
   "source": [
    "from pyomo.environ import *\n",
    "import sys\n",
    "from itertools import product\n",
    "\n",
    "sys.path.append('../../../src')\n",
    "# from energiapy.utils.scale_utils import scale_list, scale_tuple"
   ],
   "id": "1267d36ba0c9411d",
   "outputs": [],
   "execution_count": 1
  },
  {
   "metadata": {
    "ExecuteTime": {
     "end_time": "2025-01-24T00:11:24.536537Z",
     "start_time": "2025-01-24T00:11:24.534412Z"
    }
   },
   "cell_type": "code",
   "source": [
    "T_up = 10\n",
    "T = [i for i in range(0,T_up)]\n",
    "# structure = [4, 7]\n",
    "# time_index_dict = dict()\n"
   ],
   "id": "6d3dcbb29c095521",
   "outputs": [],
   "execution_count": 2
  },
  {
   "metadata": {
    "ExecuteTime": {
     "end_time": "2025-01-24T00:11:24.541762Z",
     "start_time": "2025-01-24T00:11:24.537568Z"
    }
   },
   "cell_type": "code",
   "source": [
    "m = ConcreteModel()"
   ],
   "id": "77b82bd874e6b0e6",
   "outputs": [],
   "execution_count": 3
  },
  {
   "metadata": {
    "ExecuteTime": {
     "end_time": "2025-01-24T00:11:24.545108Z",
     "start_time": "2025-01-24T00:11:24.541762Z"
    }
   },
   "cell_type": "code",
   "source": [
    "m.time = Set(initialize=T)\n",
    "m.sources = Set(initialize=['A'])\n",
    "m.sinks = Set(initialize=['B'])\n",
    "m.transports = Set(initialize=['truckAB', 'planeAB'])\n",
    "m.resources = Set(initialize=['resource1'])"
   ],
   "id": "180d2fc320d7109c",
   "outputs": [],
   "execution_count": 4
  },
  {
   "metadata": {
    "ExecuteTime": {
     "end_time": "2025-01-24T00:11:24.548717Z",
     "start_time": "2025-01-24T00:11:24.546143Z"
    }
   },
   "cell_type": "code",
   "source": [
    "m.Exp = Var(m.sources, m.sinks, m.transports, m.resources, m.time, domain=NonNegativeReals)\n",
    "m.Transit = Var(m.sources, m.sinks, m.transports, m.resources, m.time, domain=NonNegativeReals)"
   ],
   "id": "f0426b2df2139e28",
   "outputs": [],
   "execution_count": 5
  },
  {
   "metadata": {
    "ExecuteTime": {
     "end_time": "2025-01-24T00:11:24.552090Z",
     "start_time": "2025-01-24T00:11:24.548717Z"
    }
   },
   "cell_type": "code",
   "source": [
    "travel_time_dict = {('A', 'B'): {'truckAB': 5, 'planeAB': 2}}\n",
    "\n",
    "transit_initial_dict = {('A', 'B', 'truckAB', 'resource1', 1): 45,\n",
    "                        ('A', 'B', 'planeAB', 'resource1', 3): 65}"
   ],
   "id": "f7ea165a05184405",
   "outputs": [],
   "execution_count": 6
  },
  {
   "metadata": {
    "ExecuteTime": {
     "end_time": "2025-01-24T00:11:24.557122Z",
     "start_time": "2025-01-24T00:11:24.552090Z"
    }
   },
   "cell_type": "code",
   "source": [
    "list(transit_initial_dict.keys())"
   ],
   "id": "c4c14488c53b6ea1",
   "outputs": [
    {
     "data": {
      "text/plain": "[('A', 'B', 'truckAB', 'resource1', 1), ('A', 'B', 'planeAB', 'resource1', 3)]"
     },
     "execution_count": 7,
     "metadata": {},
     "output_type": "execute_result"
    }
   ],
   "execution_count": 7
  },
  {
   "metadata": {
    "ExecuteTime": {
     "end_time": "2025-01-24T00:11:24.559623Z",
     "start_time": "2025-01-24T00:11:24.558161Z"
    }
   },
   "cell_type": "code",
   "source": [
    "# m.Exp.pprint()"
   ],
   "id": "85fc4d4fd46cd558",
   "outputs": [],
   "execution_count": 8
  },
  {
   "cell_type": "code",
   "source": [
    "scales = [tuple(T)]\n",
    "scale_iter = list(product(*scales))"
   ],
   "metadata": {
    "collapsed": false,
    "ExecuteTime": {
     "end_time": "2025-01-24T00:11:24.562993Z",
     "start_time": "2025-01-24T00:11:24.559623Z"
    }
   },
   "id": "b6c45759343ff4be",
   "outputs": [],
   "execution_count": 9
  },
  {
   "metadata": {
    "ExecuteTime": {
     "end_time": "2025-01-24T00:11:24.567297Z",
     "start_time": "2025-01-24T00:11:24.562993Z"
    }
   },
   "cell_type": "code",
   "source": [
    "def constraint_transit_balance(instance: ConcreteModel) -> Constraint:\n",
    "    \n",
    "    def transit_balance_rule(instance: ConcreteModel, source, sink, transport, resource, *scale_list):\n",
    "            \n",
    "        current_index = scale_iter.index(scale_list[:0 + 1])\n",
    "        difference = scale_iter.index(scale_list[:0 + 1]) - travel_time_dict[(source, sink)][transport]\n",
    "        \n",
    "        if current_index - 1 >= 0:\n",
    "            previous = instance.Transit[source, sink, transport, resource, scale_iter[current_index - 1]]\n",
    "        else:\n",
    "            previous = 0\n",
    "            \n",
    "        incoming = instance.Exp[source, sink, transport, resource, scale_iter[current_index]]\n",
    "        \n",
    "        if difference >= 0:\n",
    "            outgoing = instance.Exp[source, sink, transport, resource, scale_iter[difference]]\n",
    "        else:\n",
    "            outgoing = 0\n",
    "            \n",
    "        if (source, sink, transport, resource, *scale_list) in list(transit_initial_dict.keys()):\n",
    "            initial = transit_initial_dict[source, sink, transport, resource, *scale_list]\n",
    "        else:\n",
    "            initial = 0\n",
    "        \n",
    "        return instance.Transit[source, sink, transport, resource, scale_iter[current_index]] == previous + incoming - outgoing + initial\n",
    "    \n",
    "    \n",
    "    instance.constraint_transit_balance = Constraint(instance.sources, instance.sinks, instance.transports, instance.resources, *scales, rule=transit_balance_rule)\n",
    "        "
   ],
   "id": "dff05edfc175e021",
   "outputs": [],
   "execution_count": 10
  },
  {
   "cell_type": "code",
   "source": [
    "constraint_transit_balance(m)"
   ],
   "metadata": {
    "collapsed": false,
    "ExecuteTime": {
     "end_time": "2025-01-24T00:11:24.571269Z",
     "start_time": "2025-01-24T00:11:24.567297Z"
    }
   },
   "id": "9c65141f45683506",
   "outputs": [],
   "execution_count": 11
  },
  {
   "cell_type": "code",
   "source": [
    "m.constraint_transit_balance['A','B', 'planeAB', 'resource1', 3].pprint()"
   ],
   "metadata": {
    "collapsed": false,
    "ExecuteTime": {
     "end_time": "2025-01-24T00:11:24.577492Z",
     "start_time": "2025-01-24T00:11:24.571269Z"
    }
   },
   "id": "93a4628120ce50d2",
   "outputs": [
    {
     "name": "stdout",
     "output_type": "stream",
     "text": [
      "{Member of constraint_transit_balance} : Size=20, Index=sources*sinks*transports*resources*{0, 1, 2, 3, 4, 5, 6, 7, 8, 9}, Active=True\n",
      "    Key                                   : Lower : Body                                                                                                                                     : Upper : Active\n",
      "    ('A', 'B', 'planeAB', 'resource1', 3) :   0.0 : Transit[A,B,planeAB,resource1,3] - (Transit[A,B,planeAB,resource1,2] + Exp[A,B,planeAB,resource1,3] - Exp[A,B,planeAB,resource1,1] + 65) :   0.0 :   True\n"
     ]
    }
   ],
   "execution_count": 12
  },
  {
   "cell_type": "code",
   "outputs": [],
   "source": [
    "m.Transit[('A','B','planeAB', 'resource1',0)].value = 25\n",
    "m.Transit[('A','B','planeAB', 'resource1',0)].fixed = True\n",
    "\n",
    "m.Transit[('A','B','planeAB', 'resource1',1)].value = 50\n",
    "m.Transit[('A','B','planeAB', 'resource1',1)].fixed = True"
   ],
   "metadata": {
    "collapsed": false,
    "ExecuteTime": {
     "end_time": "2025-01-24T00:11:24.580845Z",
     "start_time": "2025-01-24T00:11:24.577492Z"
    }
   },
   "id": "592bdd72d9dc17fe",
   "execution_count": 13
  },
  {
   "cell_type": "code",
   "outputs": [
    {
     "name": "stdout",
     "output_type": "stream",
     "text": [
      "Transit : Size=20, Index=sources*sinks*transports*resources*time\n",
      "    Key                                   : Lower : Value : Upper : Fixed : Stale : Domain\n",
      "    ('A', 'B', 'planeAB', 'resource1', 0) :     0 :    25 :  None :  True : False : NonNegativeReals\n",
      "    ('A', 'B', 'planeAB', 'resource1', 1) :     0 :    50 :  None :  True : False : NonNegativeReals\n",
      "    ('A', 'B', 'planeAB', 'resource1', 2) :     0 :  None :  None : False :  True : NonNegativeReals\n",
      "    ('A', 'B', 'planeAB', 'resource1', 3) :     0 :  None :  None : False :  True : NonNegativeReals\n",
      "    ('A', 'B', 'planeAB', 'resource1', 4) :     0 :  None :  None : False :  True : NonNegativeReals\n",
      "    ('A', 'B', 'planeAB', 'resource1', 5) :     0 :  None :  None : False :  True : NonNegativeReals\n",
      "    ('A', 'B', 'planeAB', 'resource1', 6) :     0 :  None :  None : False :  True : NonNegativeReals\n",
      "    ('A', 'B', 'planeAB', 'resource1', 7) :     0 :  None :  None : False :  True : NonNegativeReals\n",
      "    ('A', 'B', 'planeAB', 'resource1', 8) :     0 :  None :  None : False :  True : NonNegativeReals\n",
      "    ('A', 'B', 'planeAB', 'resource1', 9) :     0 :  None :  None : False :  True : NonNegativeReals\n",
      "    ('A', 'B', 'truckAB', 'resource1', 0) :     0 :  None :  None : False :  True : NonNegativeReals\n",
      "    ('A', 'B', 'truckAB', 'resource1', 1) :     0 :  None :  None : False :  True : NonNegativeReals\n",
      "    ('A', 'B', 'truckAB', 'resource1', 2) :     0 :  None :  None : False :  True : NonNegativeReals\n",
      "    ('A', 'B', 'truckAB', 'resource1', 3) :     0 :  None :  None : False :  True : NonNegativeReals\n",
      "    ('A', 'B', 'truckAB', 'resource1', 4) :     0 :  None :  None : False :  True : NonNegativeReals\n",
      "    ('A', 'B', 'truckAB', 'resource1', 5) :     0 :  None :  None : False :  True : NonNegativeReals\n",
      "    ('A', 'B', 'truckAB', 'resource1', 6) :     0 :  None :  None : False :  True : NonNegativeReals\n",
      "    ('A', 'B', 'truckAB', 'resource1', 7) :     0 :  None :  None : False :  True : NonNegativeReals\n",
      "    ('A', 'B', 'truckAB', 'resource1', 8) :     0 :  None :  None : False :  True : NonNegativeReals\n",
      "    ('A', 'B', 'truckAB', 'resource1', 9) :     0 :  None :  None : False :  True : NonNegativeReals\n"
     ]
    }
   ],
   "source": [
    "m.Transit.pprint()"
   ],
   "metadata": {
    "collapsed": false,
    "ExecuteTime": {
     "end_time": "2025-01-24T00:11:24.586458Z",
     "start_time": "2025-01-24T00:11:24.581899Z"
    }
   },
   "id": "61ed4aa562c2929",
   "execution_count": 14
  },
  {
   "cell_type": "code",
   "outputs": [],
   "source": [
    "# m2 = ConcreteModel()"
   ],
   "metadata": {
    "collapsed": false,
    "ExecuteTime": {
     "end_time": "2025-01-24T00:11:24.589609Z",
     "start_time": "2025-01-24T00:11:24.586458Z"
    }
   },
   "id": "2e07de3ef1fa4aa8",
   "execution_count": 15
  },
  {
   "cell_type": "code",
   "outputs": [],
   "source": [
    "# m2.Exp = Var(m.sources, m.sinks, m.transports, m.resources, m.time, domain=NonNegativeReals)\n",
    "# m2.Transit = Var(m.sources, m.sinks, m.transports, m.resources, m.time, domain=NonNegativeReals)"
   ],
   "metadata": {
    "collapsed": false,
    "ExecuteTime": {
     "end_time": "2025-01-24T00:11:24.595961Z",
     "start_time": "2025-01-24T00:11:24.589609Z"
    }
   },
   "id": "6b3752ab8b323b28",
   "execution_count": 16
  },
  {
   "cell_type": "code",
   "outputs": [],
   "source": [
    "def fix_variables(model2fix: ConcreteModel, initial_dict: dict=None,  scen_name: str = None, current_time_idx: int = 0):\n",
    "    model2fix_vars = {v.name: v for v in model2fix.component_objects(Var)}\n",
    "    initial_dict = initial_dict or dict()\n",
    "    for name, var in model2fix_vars.items():\n",
    "        for key in (k for k in var.keys() if k[-1] < current_time_idx):\n",
    "            var[key].fixed = True\n",
    "            var[key] = initial_dict[name][key]\n"
   ],
   "metadata": {
    "collapsed": false,
    "ExecuteTime": {
     "end_time": "2025-01-24T00:11:24.601374Z",
     "start_time": "2025-01-24T00:11:24.595961Z"
    }
   },
   "id": "89bce2b6f9884b3e",
   "execution_count": 17
  },
  {
   "cell_type": "code",
   "outputs": [],
   "source": [
    "# fix_variables(model1=m, model2=m2, current_time_idx=1)"
   ],
   "metadata": {
    "collapsed": false,
    "ExecuteTime": {
     "end_time": "2025-01-24T00:11:24.604490Z",
     "start_time": "2025-01-24T00:11:24.601374Z"
    }
   },
   "id": "8138d3ecbf511e84",
   "execution_count": 18
  },
  {
   "cell_type": "code",
   "outputs": [],
   "source": [
    "# m2.Transit.pprint()"
   ],
   "metadata": {
    "collapsed": false,
    "ExecuteTime": {
     "end_time": "2025-01-24T00:11:24.607596Z",
     "start_time": "2025-01-24T00:11:24.604490Z"
    }
   },
   "id": "8513bf7e82fbdf91",
   "execution_count": 19
  },
  {
   "cell_type": "code",
   "outputs": [],
   "source": [
    "# m2.Exp.pprint()"
   ],
   "metadata": {
    "collapsed": false,
    "ExecuteTime": {
     "end_time": "2025-01-24T00:11:24.612871Z",
     "start_time": "2025-01-24T00:11:24.607596Z"
    }
   },
   "id": "9255b7b450b32119",
   "execution_count": 20
  },
  {
   "cell_type": "code",
   "outputs": [],
   "source": [
    "m_vars = m.component_map(ctype=Var)\n",
    "vars_dict = {i: m_vars[i].extract_values() for i in m_vars.keys()}"
   ],
   "metadata": {
    "collapsed": false,
    "ExecuteTime": {
     "end_time": "2025-01-24T00:11:24.615891Z",
     "start_time": "2025-01-24T00:11:24.612871Z"
    }
   },
   "id": "91c39cb4bbcc89b2",
   "execution_count": 21
  },
  {
   "cell_type": "code",
   "outputs": [
    {
     "data": {
      "text/plain": "{'Exp': {('A', 'B', 'truckAB', 'resource1', 0): None,\n  ('A', 'B', 'truckAB', 'resource1', 1): None,\n  ('A', 'B', 'truckAB', 'resource1', 2): None,\n  ('A', 'B', 'truckAB', 'resource1', 3): None,\n  ('A', 'B', 'truckAB', 'resource1', 4): None,\n  ('A', 'B', 'truckAB', 'resource1', 5): None,\n  ('A', 'B', 'truckAB', 'resource1', 6): None,\n  ('A', 'B', 'truckAB', 'resource1', 7): None,\n  ('A', 'B', 'truckAB', 'resource1', 8): None,\n  ('A', 'B', 'truckAB', 'resource1', 9): None,\n  ('A', 'B', 'planeAB', 'resource1', 0): None,\n  ('A', 'B', 'planeAB', 'resource1', 1): None,\n  ('A', 'B', 'planeAB', 'resource1', 2): None,\n  ('A', 'B', 'planeAB', 'resource1', 3): None,\n  ('A', 'B', 'planeAB', 'resource1', 4): None,\n  ('A', 'B', 'planeAB', 'resource1', 5): None,\n  ('A', 'B', 'planeAB', 'resource1', 6): None,\n  ('A', 'B', 'planeAB', 'resource1', 7): None,\n  ('A', 'B', 'planeAB', 'resource1', 8): None,\n  ('A', 'B', 'planeAB', 'resource1', 9): None},\n 'Transit': {('A', 'B', 'truckAB', 'resource1', 0): None,\n  ('A', 'B', 'truckAB', 'resource1', 1): None,\n  ('A', 'B', 'truckAB', 'resource1', 2): None,\n  ('A', 'B', 'truckAB', 'resource1', 3): None,\n  ('A', 'B', 'truckAB', 'resource1', 4): None,\n  ('A', 'B', 'truckAB', 'resource1', 5): None,\n  ('A', 'B', 'truckAB', 'resource1', 6): None,\n  ('A', 'B', 'truckAB', 'resource1', 7): None,\n  ('A', 'B', 'truckAB', 'resource1', 8): None,\n  ('A', 'B', 'truckAB', 'resource1', 9): None,\n  ('A', 'B', 'planeAB', 'resource1', 0): 25,\n  ('A', 'B', 'planeAB', 'resource1', 1): 50,\n  ('A', 'B', 'planeAB', 'resource1', 2): None,\n  ('A', 'B', 'planeAB', 'resource1', 3): None,\n  ('A', 'B', 'planeAB', 'resource1', 4): None,\n  ('A', 'B', 'planeAB', 'resource1', 5): None,\n  ('A', 'B', 'planeAB', 'resource1', 6): None,\n  ('A', 'B', 'planeAB', 'resource1', 7): None,\n  ('A', 'B', 'planeAB', 'resource1', 8): None,\n  ('A', 'B', 'planeAB', 'resource1', 9): None}}"
     },
     "execution_count": 22,
     "metadata": {},
     "output_type": "execute_result"
    }
   ],
   "source": [
    "vars_dict"
   ],
   "metadata": {
    "collapsed": false,
    "ExecuteTime": {
     "end_time": "2025-01-24T00:11:24.621157Z",
     "start_time": "2025-01-24T00:11:24.615891Z"
    }
   },
   "id": "b2094bed6446c28d",
   "execution_count": 22
  },
  {
   "cell_type": "code",
   "outputs": [],
   "source": [
    "m2 = ConcreteModel()\n",
    "\n",
    "m2.Transit = Var(list(m.Transit.keys()), within=NonNegativeReals)"
   ],
   "metadata": {
    "collapsed": false,
    "ExecuteTime": {
     "end_time": "2025-01-24T00:11:24.624788Z",
     "start_time": "2025-01-24T00:11:24.621157Z"
    }
   },
   "id": "368845ef55bdd826",
   "execution_count": 23
  },
  {
   "cell_type": "code",
   "outputs": [],
   "source": [
    "fix_variables(model2fix=m2, initial_dict=vars_dict, current_time_idx=2)"
   ],
   "metadata": {
    "collapsed": false,
    "ExecuteTime": {
     "end_time": "2025-01-24T00:11:24.627826Z",
     "start_time": "2025-01-24T00:11:24.624788Z"
    }
   },
   "id": "71ebfc891c43c69b",
   "execution_count": 24
  },
  {
   "cell_type": "code",
   "outputs": [
    {
     "name": "stdout",
     "output_type": "stream",
     "text": [
      "Transit : Size=20, Index={('A', 'B', 'truckAB', 'resource1', 0), ('A', 'B', 'truckAB', 'resource1', 1), ('A', 'B', 'truckAB', 'resource1', 2), ('A', 'B', 'truckAB', 'resource1', 3), ('A', 'B', 'truckAB', 'resource1', 4), ('A', 'B', 'truckAB', 'resource1', 5), ('A', 'B', 'truckAB', 'resource1', 6), ('A', 'B', 'truckAB', 'resource1', 7), ('A', 'B', 'truckAB', 'resource1', 8), ('A', 'B', 'truckAB', 'resource1', 9), ('A', 'B', 'planeAB', 'resource1', 0), ('A', 'B', 'planeAB', 'resource1', 1), ('A', 'B', 'planeAB', 'resource1', 2), ('A', 'B', 'planeAB', 'resource1', 3), ('A', 'B', 'planeAB', 'resource1', 4), ('A', 'B', 'planeAB', 'resource1', 5), ('A', 'B', 'planeAB', 'resource1', 6), ('A', 'B', 'planeAB', 'resource1', 7), ('A', 'B', 'planeAB', 'resource1', 8), ('A', 'B', 'planeAB', 'resource1', 9)}\n",
      "    Key                                   : Lower : Value : Upper : Fixed : Stale : Domain\n",
      "    ('A', 'B', 'planeAB', 'resource1', 0) :     0 :    25 :  None :  True : False : NonNegativeReals\n",
      "    ('A', 'B', 'planeAB', 'resource1', 1) :     0 :    50 :  None :  True : False : NonNegativeReals\n",
      "    ('A', 'B', 'planeAB', 'resource1', 2) :     0 :  None :  None : False :  True : NonNegativeReals\n",
      "    ('A', 'B', 'planeAB', 'resource1', 3) :     0 :  None :  None : False :  True : NonNegativeReals\n",
      "    ('A', 'B', 'planeAB', 'resource1', 4) :     0 :  None :  None : False :  True : NonNegativeReals\n",
      "    ('A', 'B', 'planeAB', 'resource1', 5) :     0 :  None :  None : False :  True : NonNegativeReals\n",
      "    ('A', 'B', 'planeAB', 'resource1', 6) :     0 :  None :  None : False :  True : NonNegativeReals\n",
      "    ('A', 'B', 'planeAB', 'resource1', 7) :     0 :  None :  None : False :  True : NonNegativeReals\n",
      "    ('A', 'B', 'planeAB', 'resource1', 8) :     0 :  None :  None : False :  True : NonNegativeReals\n",
      "    ('A', 'B', 'planeAB', 'resource1', 9) :     0 :  None :  None : False :  True : NonNegativeReals\n",
      "    ('A', 'B', 'truckAB', 'resource1', 0) :     0 :  None :  None :  True :  True : NonNegativeReals\n",
      "    ('A', 'B', 'truckAB', 'resource1', 1) :     0 :  None :  None :  True :  True : NonNegativeReals\n",
      "    ('A', 'B', 'truckAB', 'resource1', 2) :     0 :  None :  None : False :  True : NonNegativeReals\n",
      "    ('A', 'B', 'truckAB', 'resource1', 3) :     0 :  None :  None : False :  True : NonNegativeReals\n",
      "    ('A', 'B', 'truckAB', 'resource1', 4) :     0 :  None :  None : False :  True : NonNegativeReals\n",
      "    ('A', 'B', 'truckAB', 'resource1', 5) :     0 :  None :  None : False :  True : NonNegativeReals\n",
      "    ('A', 'B', 'truckAB', 'resource1', 6) :     0 :  None :  None : False :  True : NonNegativeReals\n",
      "    ('A', 'B', 'truckAB', 'resource1', 7) :     0 :  None :  None : False :  True : NonNegativeReals\n",
      "    ('A', 'B', 'truckAB', 'resource1', 8) :     0 :  None :  None : False :  True : NonNegativeReals\n",
      "    ('A', 'B', 'truckAB', 'resource1', 9) :     0 :  None :  None : False :  True : NonNegativeReals\n"
     ]
    }
   ],
   "source": [
    "m2.Transit.pprint()"
   ],
   "metadata": {
    "collapsed": false,
    "ExecuteTime": {
     "end_time": "2025-01-24T00:11:24.631333Z",
     "start_time": "2025-01-24T00:11:24.627826Z"
    }
   },
   "id": "130767eacd22016f",
   "execution_count": 25
  },
  {
   "cell_type": "code",
   "outputs": [],
   "source": [],
   "metadata": {
    "collapsed": false
   },
   "id": "6e2009364615d740",
   "execution_count": null
  }
 ],
 "metadata": {
  "kernelspec": {
   "display_name": "Python 3",
   "language": "python",
   "name": "python3"
  },
  "language_info": {
   "codemirror_mode": {
    "name": "ipython",
    "version": 2
   },
   "file_extension": ".py",
   "mimetype": "text/x-python",
   "name": "python",
   "nbconvert_exporter": "python",
   "pygments_lexer": "ipython2",
   "version": "2.7.6"
  }
 },
 "nbformat": 4,
 "nbformat_minor": 5
}
