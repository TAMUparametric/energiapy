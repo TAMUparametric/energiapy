{
 "cells": [
  {
   "metadata": {
    "ExecuteTime": {
     "end_time": "2025-01-23T18:15:43.023448Z",
     "start_time": "2025-01-23T18:15:42.771954Z"
    }
   },
   "cell_type": "code",
   "source": [
    "from pyomo.environ import *\n",
    "import sys\n",
    "from itertools import product\n",
    "\n",
    "sys.path.append('../../../src')\n",
    "# from energiapy.utils.scale_utils import scale_list, scale_tuple"
   ],
   "id": "1267d36ba0c9411d",
   "outputs": [],
   "execution_count": 1
  },
  {
   "metadata": {
    "ExecuteTime": {
     "end_time": "2025-01-23T18:15:43.026935Z",
     "start_time": "2025-01-23T18:15:43.024473Z"
    }
   },
   "cell_type": "code",
   "source": [
    "T_up = 10\n",
    "T = [i for i in range(0,T_up)]\n",
    "# structure = [4, 7]\n",
    "# time_index_dict = dict()\n"
   ],
   "id": "6d3dcbb29c095521",
   "outputs": [],
   "execution_count": 2
  },
  {
   "metadata": {
    "ExecuteTime": {
     "end_time": "2025-01-23T18:15:43.049957Z",
     "start_time": "2025-01-23T18:15:43.026935Z"
    }
   },
   "cell_type": "code",
   "source": [
    "m = ConcreteModel()"
   ],
   "id": "77b82bd874e6b0e6",
   "outputs": [],
   "execution_count": 3
  },
  {
   "metadata": {
    "ExecuteTime": {
     "end_time": "2025-01-23T18:15:43.056228Z",
     "start_time": "2025-01-23T18:15:43.049957Z"
    }
   },
   "cell_type": "code",
   "source": [
    "m.time = Set(initialize=T)\n",
    "m.sources = Set(initialize=['A'])\n",
    "m.sinks = Set(initialize=['B'])\n",
    "m.transports = Set(initialize=['truckAB', 'planeAB'])\n",
    "m.resources = Set(initialize=['resource1'])"
   ],
   "id": "180d2fc320d7109c",
   "outputs": [],
   "execution_count": 4
  },
  {
   "metadata": {
    "ExecuteTime": {
     "end_time": "2025-01-23T18:15:43.059733Z",
     "start_time": "2025-01-23T18:15:43.057267Z"
    }
   },
   "cell_type": "code",
   "source": [
    "m.Exp = Var(m.sources, m.sinks, m.transports, m.resources, m.time, domain=NonNegativeReals)\n",
    "m.Transit = Var(m.sources, m.sinks, m.transports, m.resources, m.time, domain=NonNegativeReals)"
   ],
   "id": "f0426b2df2139e28",
   "outputs": [],
   "execution_count": 5
  },
  {
   "metadata": {
    "ExecuteTime": {
     "end_time": "2025-01-23T18:15:43.063139Z",
     "start_time": "2025-01-23T18:15:43.059733Z"
    }
   },
   "cell_type": "code",
   "source": [
    "travel_time_dict = {('A', 'B'): {'truckAB': 5, 'planeAB': 2}}\n",
    "\n",
    "transit_initial_dict = {('A', 'B', 'truckAB', 'resource1', 1): 45,\n",
    "                        ('A', 'B', 'planeAB', 'resource1', 3): 65}"
   ],
   "id": "f7ea165a05184405",
   "outputs": [],
   "execution_count": 6
  },
  {
   "metadata": {
    "ExecuteTime": {
     "end_time": "2025-01-23T18:15:43.068599Z",
     "start_time": "2025-01-23T18:15:43.063139Z"
    }
   },
   "cell_type": "code",
   "source": [
    "list(transit_initial_dict.keys())"
   ],
   "id": "c4c14488c53b6ea1",
   "outputs": [
    {
     "data": {
      "text/plain": "[('A', 'B', 'truckAB', 'resource1', 1), ('A', 'B', 'planeAB', 'resource1', 3)]"
     },
     "execution_count": 7,
     "metadata": {},
     "output_type": "execute_result"
    }
   ],
   "execution_count": 7
  },
  {
   "metadata": {
    "ExecuteTime": {
     "end_time": "2025-01-23T18:15:43.071713Z",
     "start_time": "2025-01-23T18:15:43.068599Z"
    }
   },
   "cell_type": "code",
   "source": [
    "# m.Exp.pprint()"
   ],
   "id": "85fc4d4fd46cd558",
   "outputs": [],
   "execution_count": 8
  },
  {
   "cell_type": "code",
   "source": [
    "scales = [tuple(T)]\n",
    "scale_iter = list(product(*scales))"
   ],
   "metadata": {
    "collapsed": false,
    "ExecuteTime": {
     "end_time": "2025-01-23T18:15:43.075877Z",
     "start_time": "2025-01-23T18:15:43.071713Z"
    }
   },
   "id": "b6c45759343ff4be",
   "outputs": [],
   "execution_count": 9
  },
  {
   "metadata": {
    "ExecuteTime": {
     "end_time": "2025-01-23T18:15:43.080045Z",
     "start_time": "2025-01-23T18:15:43.075877Z"
    }
   },
   "cell_type": "code",
   "source": [
    "def constraint_transit_balance(instance: ConcreteModel) -> Constraint:\n",
    "    \n",
    "    def transit_balance_rule(instance: ConcreteModel, source, sink, transport, resource, *scale_list):\n",
    "            \n",
    "        current_index = scale_iter.index(scale_list[:0 + 1])\n",
    "        difference = scale_iter.index(scale_list[:0 + 1]) - travel_time_dict[(source, sink)][transport]\n",
    "        \n",
    "        if current_index - 1 >= 0:\n",
    "            previous = instance.Transit[source, sink, transport, resource, scale_iter[current_index - 1]]\n",
    "        else:\n",
    "            previous = 0\n",
    "            \n",
    "        incoming = instance.Exp[source, sink, transport, resource, scale_iter[current_index]]\n",
    "        \n",
    "        if difference >= 0:\n",
    "            outgoing = instance.Exp[source, sink, transport, resource, scale_iter[difference]]\n",
    "        else:\n",
    "            outgoing = 0\n",
    "            \n",
    "        if (source, sink, transport, resource, *scale_list) in list(transit_initial_dict.keys()):\n",
    "            initial = transit_initial_dict[source, sink, transport, resource, *scale_list]\n",
    "        else:\n",
    "            initial = 0\n",
    "        \n",
    "        return instance.Transit[source, sink, transport, resource, scale_iter[current_index]] == previous + incoming - outgoing + initial\n",
    "    \n",
    "    \n",
    "    instance.constraint_transit_balance = Constraint(instance.sources, instance.sinks, instance.transports, instance.resources, *scales, rule=transit_balance_rule)\n",
    "        "
   ],
   "id": "dff05edfc175e021",
   "outputs": [],
   "execution_count": 10
  },
  {
   "cell_type": "code",
   "source": [
    "constraint_transit_balance(m)"
   ],
   "metadata": {
    "collapsed": false,
    "ExecuteTime": {
     "end_time": "2025-01-23T18:15:43.085300Z",
     "start_time": "2025-01-23T18:15:43.080045Z"
    }
   },
   "id": "9c65141f45683506",
   "outputs": [],
   "execution_count": 11
  },
  {
   "cell_type": "code",
   "source": [
    "m.constraint_transit_balance.pprint()"
   ],
   "metadata": {
    "collapsed": false,
    "ExecuteTime": {
     "end_time": "2025-01-23T18:15:43.089465Z",
     "start_time": "2025-01-23T18:15:43.085300Z"
    }
   },
   "id": "f560dc6953474bdc",
   "outputs": [
    {
     "name": "stdout",
     "output_type": "stream",
     "text": [
      "constraint_transit_balance : Size=20, Index=sources*sinks*transports*resources*{0, 1, 2, 3, 4, 5, 6, 7, 8, 9}, Active=True\n",
      "    Key                                   : Lower : Body                                                                                                                                     : Upper : Active\n",
      "    ('A', 'B', 'planeAB', 'resource1', 0) :   0.0 :                                                                          Transit[A,B,planeAB,resource1,0] - Exp[A,B,planeAB,resource1,0] :   0.0 :   True\n",
      "    ('A', 'B', 'planeAB', 'resource1', 1) :   0.0 :                                     Transit[A,B,planeAB,resource1,1] - (Transit[A,B,planeAB,resource1,0] + Exp[A,B,planeAB,resource1,1]) :   0.0 :   True\n",
      "    ('A', 'B', 'planeAB', 'resource1', 2) :   0.0 :      Transit[A,B,planeAB,resource1,2] - (Transit[A,B,planeAB,resource1,1] + Exp[A,B,planeAB,resource1,2] - Exp[A,B,planeAB,resource1,0]) :   0.0 :   True\n",
      "    ('A', 'B', 'planeAB', 'resource1', 3) :   0.0 : Transit[A,B,planeAB,resource1,3] - (Transit[A,B,planeAB,resource1,2] + Exp[A,B,planeAB,resource1,3] - Exp[A,B,planeAB,resource1,1] + 65) :   0.0 :   True\n",
      "    ('A', 'B', 'planeAB', 'resource1', 4) :   0.0 :      Transit[A,B,planeAB,resource1,4] - (Transit[A,B,planeAB,resource1,3] + Exp[A,B,planeAB,resource1,4] - Exp[A,B,planeAB,resource1,2]) :   0.0 :   True\n",
      "    ('A', 'B', 'planeAB', 'resource1', 5) :   0.0 :      Transit[A,B,planeAB,resource1,5] - (Transit[A,B,planeAB,resource1,4] + Exp[A,B,planeAB,resource1,5] - Exp[A,B,planeAB,resource1,3]) :   0.0 :   True\n",
      "    ('A', 'B', 'planeAB', 'resource1', 6) :   0.0 :      Transit[A,B,planeAB,resource1,6] - (Transit[A,B,planeAB,resource1,5] + Exp[A,B,planeAB,resource1,6] - Exp[A,B,planeAB,resource1,4]) :   0.0 :   True\n",
      "    ('A', 'B', 'planeAB', 'resource1', 7) :   0.0 :      Transit[A,B,planeAB,resource1,7] - (Transit[A,B,planeAB,resource1,6] + Exp[A,B,planeAB,resource1,7] - Exp[A,B,planeAB,resource1,5]) :   0.0 :   True\n",
      "    ('A', 'B', 'planeAB', 'resource1', 8) :   0.0 :      Transit[A,B,planeAB,resource1,8] - (Transit[A,B,planeAB,resource1,7] + Exp[A,B,planeAB,resource1,8] - Exp[A,B,planeAB,resource1,6]) :   0.0 :   True\n",
      "    ('A', 'B', 'planeAB', 'resource1', 9) :   0.0 :      Transit[A,B,planeAB,resource1,9] - (Transit[A,B,planeAB,resource1,8] + Exp[A,B,planeAB,resource1,9] - Exp[A,B,planeAB,resource1,7]) :   0.0 :   True\n",
      "    ('A', 'B', 'truckAB', 'resource1', 0) :   0.0 :                                                                          Transit[A,B,truckAB,resource1,0] - Exp[A,B,truckAB,resource1,0] :   0.0 :   True\n",
      "    ('A', 'B', 'truckAB', 'resource1', 1) :   0.0 :                                Transit[A,B,truckAB,resource1,1] - (Transit[A,B,truckAB,resource1,0] + Exp[A,B,truckAB,resource1,1] + 45) :   0.0 :   True\n",
      "    ('A', 'B', 'truckAB', 'resource1', 2) :   0.0 :                                     Transit[A,B,truckAB,resource1,2] - (Transit[A,B,truckAB,resource1,1] + Exp[A,B,truckAB,resource1,2]) :   0.0 :   True\n",
      "    ('A', 'B', 'truckAB', 'resource1', 3) :   0.0 :                                     Transit[A,B,truckAB,resource1,3] - (Transit[A,B,truckAB,resource1,2] + Exp[A,B,truckAB,resource1,3]) :   0.0 :   True\n",
      "    ('A', 'B', 'truckAB', 'resource1', 4) :   0.0 :                                     Transit[A,B,truckAB,resource1,4] - (Transit[A,B,truckAB,resource1,3] + Exp[A,B,truckAB,resource1,4]) :   0.0 :   True\n",
      "    ('A', 'B', 'truckAB', 'resource1', 5) :   0.0 :      Transit[A,B,truckAB,resource1,5] - (Transit[A,B,truckAB,resource1,4] + Exp[A,B,truckAB,resource1,5] - Exp[A,B,truckAB,resource1,0]) :   0.0 :   True\n",
      "    ('A', 'B', 'truckAB', 'resource1', 6) :   0.0 :      Transit[A,B,truckAB,resource1,6] - (Transit[A,B,truckAB,resource1,5] + Exp[A,B,truckAB,resource1,6] - Exp[A,B,truckAB,resource1,1]) :   0.0 :   True\n",
      "    ('A', 'B', 'truckAB', 'resource1', 7) :   0.0 :      Transit[A,B,truckAB,resource1,7] - (Transit[A,B,truckAB,resource1,6] + Exp[A,B,truckAB,resource1,7] - Exp[A,B,truckAB,resource1,2]) :   0.0 :   True\n",
      "    ('A', 'B', 'truckAB', 'resource1', 8) :   0.0 :      Transit[A,B,truckAB,resource1,8] - (Transit[A,B,truckAB,resource1,7] + Exp[A,B,truckAB,resource1,8] - Exp[A,B,truckAB,resource1,3]) :   0.0 :   True\n",
      "    ('A', 'B', 'truckAB', 'resource1', 9) :   0.0 :      Transit[A,B,truckAB,resource1,9] - (Transit[A,B,truckAB,resource1,8] + Exp[A,B,truckAB,resource1,9] - Exp[A,B,truckAB,resource1,4]) :   0.0 :   True\n"
     ]
    }
   ],
   "execution_count": 12
  },
  {
   "cell_type": "code",
   "source": [
    "m.Transit.pprint()"
   ],
   "metadata": {
    "collapsed": false,
    "ExecuteTime": {
     "end_time": "2025-01-23T18:15:43.093470Z",
     "start_time": "2025-01-23T18:15:43.089465Z"
    }
   },
   "id": "57e0ef49f4cbb450",
   "outputs": [
    {
     "name": "stdout",
     "output_type": "stream",
     "text": [
      "Transit : Size=20, Index=sources*sinks*transports*resources*time\n",
      "    Key                                   : Lower : Value : Upper : Fixed : Stale : Domain\n",
      "    ('A', 'B', 'planeAB', 'resource1', 0) :     0 :  None :  None : False :  True : NonNegativeReals\n",
      "    ('A', 'B', 'planeAB', 'resource1', 1) :     0 :  None :  None : False :  True : NonNegativeReals\n",
      "    ('A', 'B', 'planeAB', 'resource1', 2) :     0 :  None :  None : False :  True : NonNegativeReals\n",
      "    ('A', 'B', 'planeAB', 'resource1', 3) :     0 :  None :  None : False :  True : NonNegativeReals\n",
      "    ('A', 'B', 'planeAB', 'resource1', 4) :     0 :  None :  None : False :  True : NonNegativeReals\n",
      "    ('A', 'B', 'planeAB', 'resource1', 5) :     0 :  None :  None : False :  True : NonNegativeReals\n",
      "    ('A', 'B', 'planeAB', 'resource1', 6) :     0 :  None :  None : False :  True : NonNegativeReals\n",
      "    ('A', 'B', 'planeAB', 'resource1', 7) :     0 :  None :  None : False :  True : NonNegativeReals\n",
      "    ('A', 'B', 'planeAB', 'resource1', 8) :     0 :  None :  None : False :  True : NonNegativeReals\n",
      "    ('A', 'B', 'planeAB', 'resource1', 9) :     0 :  None :  None : False :  True : NonNegativeReals\n",
      "    ('A', 'B', 'truckAB', 'resource1', 0) :     0 :  None :  None : False :  True : NonNegativeReals\n",
      "    ('A', 'B', 'truckAB', 'resource1', 1) :     0 :  None :  None : False :  True : NonNegativeReals\n",
      "    ('A', 'B', 'truckAB', 'resource1', 2) :     0 :  None :  None : False :  True : NonNegativeReals\n",
      "    ('A', 'B', 'truckAB', 'resource1', 3) :     0 :  None :  None : False :  True : NonNegativeReals\n",
      "    ('A', 'B', 'truckAB', 'resource1', 4) :     0 :  None :  None : False :  True : NonNegativeReals\n",
      "    ('A', 'B', 'truckAB', 'resource1', 5) :     0 :  None :  None : False :  True : NonNegativeReals\n",
      "    ('A', 'B', 'truckAB', 'resource1', 6) :     0 :  None :  None : False :  True : NonNegativeReals\n",
      "    ('A', 'B', 'truckAB', 'resource1', 7) :     0 :  None :  None : False :  True : NonNegativeReals\n",
      "    ('A', 'B', 'truckAB', 'resource1', 8) :     0 :  None :  None : False :  True : NonNegativeReals\n",
      "    ('A', 'B', 'truckAB', 'resource1', 9) :     0 :  None :  None : False :  True : NonNegativeReals\n"
     ]
    }
   ],
   "execution_count": 13
  },
  {
   "cell_type": "code",
   "source": [
    "m.constraint_transit_balance['A','B', 'planeAB', 'resource1', 3].pprint()"
   ],
   "metadata": {
    "collapsed": false,
    "ExecuteTime": {
     "end_time": "2025-01-23T18:15:43.097388Z",
     "start_time": "2025-01-23T18:15:43.094474Z"
    }
   },
   "id": "93a4628120ce50d2",
   "outputs": [
    {
     "name": "stdout",
     "output_type": "stream",
     "text": [
      "{Member of constraint_transit_balance} : Size=20, Index=sources*sinks*transports*resources*{0, 1, 2, 3, 4, 5, 6, 7, 8, 9}, Active=True\n",
      "    Key                                   : Lower : Body                                                                                                                                     : Upper : Active\n",
      "    ('A', 'B', 'planeAB', 'resource1', 3) :   0.0 : Transit[A,B,planeAB,resource1,3] - (Transit[A,B,planeAB,resource1,2] + Exp[A,B,planeAB,resource1,3] - Exp[A,B,planeAB,resource1,1] + 65) :   0.0 :   True\n"
     ]
    }
   ],
   "execution_count": 14
  },
  {
   "cell_type": "code",
   "outputs": [],
   "source": [
    "m.Transit[('A','B','planeAB', 'resource1',0)].value = 25\n",
    "m.Transit[('A','B','planeAB', 'resource1',0)].fixed = True\n",
    "\n",
    "m.Transit[('A','B','planeAB', 'resource1',1)].value = 50\n",
    "m.Transit[('A','B','planeAB', 'resource1',1)].fixed = True"
   ],
   "metadata": {
    "collapsed": false,
    "ExecuteTime": {
     "end_time": "2025-01-23T18:15:43.100577Z",
     "start_time": "2025-01-23T18:15:43.097388Z"
    }
   },
   "id": "592bdd72d9dc17fe",
   "execution_count": 15
  },
  {
   "cell_type": "code",
   "outputs": [
    {
     "name": "stdout",
     "output_type": "stream",
     "text": [
      "Transit : Size=20, Index=sources*sinks*transports*resources*time\n",
      "    Key                                   : Lower : Value : Upper : Fixed : Stale : Domain\n",
      "    ('A', 'B', 'planeAB', 'resource1', 0) :     0 :    25 :  None :  True : False : NonNegativeReals\n",
      "    ('A', 'B', 'planeAB', 'resource1', 1) :     0 :    50 :  None :  True : False : NonNegativeReals\n",
      "    ('A', 'B', 'planeAB', 'resource1', 2) :     0 :  None :  None : False :  True : NonNegativeReals\n",
      "    ('A', 'B', 'planeAB', 'resource1', 3) :     0 :  None :  None : False :  True : NonNegativeReals\n",
      "    ('A', 'B', 'planeAB', 'resource1', 4) :     0 :  None :  None : False :  True : NonNegativeReals\n",
      "    ('A', 'B', 'planeAB', 'resource1', 5) :     0 :  None :  None : False :  True : NonNegativeReals\n",
      "    ('A', 'B', 'planeAB', 'resource1', 6) :     0 :  None :  None : False :  True : NonNegativeReals\n",
      "    ('A', 'B', 'planeAB', 'resource1', 7) :     0 :  None :  None : False :  True : NonNegativeReals\n",
      "    ('A', 'B', 'planeAB', 'resource1', 8) :     0 :  None :  None : False :  True : NonNegativeReals\n",
      "    ('A', 'B', 'planeAB', 'resource1', 9) :     0 :  None :  None : False :  True : NonNegativeReals\n",
      "    ('A', 'B', 'truckAB', 'resource1', 0) :     0 :  None :  None : False :  True : NonNegativeReals\n",
      "    ('A', 'B', 'truckAB', 'resource1', 1) :     0 :  None :  None : False :  True : NonNegativeReals\n",
      "    ('A', 'B', 'truckAB', 'resource1', 2) :     0 :  None :  None : False :  True : NonNegativeReals\n",
      "    ('A', 'B', 'truckAB', 'resource1', 3) :     0 :  None :  None : False :  True : NonNegativeReals\n",
      "    ('A', 'B', 'truckAB', 'resource1', 4) :     0 :  None :  None : False :  True : NonNegativeReals\n",
      "    ('A', 'B', 'truckAB', 'resource1', 5) :     0 :  None :  None : False :  True : NonNegativeReals\n",
      "    ('A', 'B', 'truckAB', 'resource1', 6) :     0 :  None :  None : False :  True : NonNegativeReals\n",
      "    ('A', 'B', 'truckAB', 'resource1', 7) :     0 :  None :  None : False :  True : NonNegativeReals\n",
      "    ('A', 'B', 'truckAB', 'resource1', 8) :     0 :  None :  None : False :  True : NonNegativeReals\n",
      "    ('A', 'B', 'truckAB', 'resource1', 9) :     0 :  None :  None : False :  True : NonNegativeReals\n"
     ]
    }
   ],
   "source": [
    "m.Transit.pprint()"
   ],
   "metadata": {
    "collapsed": false,
    "ExecuteTime": {
     "end_time": "2025-01-23T18:15:43.104855Z",
     "start_time": "2025-01-23T18:15:43.100577Z"
    }
   },
   "id": "61ed4aa562c2929",
   "execution_count": 16
  },
  {
   "cell_type": "code",
   "outputs": [],
   "source": [
    "m2 = ConcreteModel()"
   ],
   "metadata": {
    "collapsed": false,
    "ExecuteTime": {
     "end_time": "2025-01-23T18:15:43.108972Z",
     "start_time": "2025-01-23T18:15:43.104855Z"
    }
   },
   "id": "2e07de3ef1fa4aa8",
   "execution_count": 17
  },
  {
   "cell_type": "code",
   "outputs": [],
   "source": [
    "m2.Exp = Var(m.sources, m.sinks, m.transports, m.resources, m.time, domain=NonNegativeReals)\n",
    "m2.Transit = Var(m.sources, m.sinks, m.transports, m.resources, m.time, domain=NonNegativeReals)"
   ],
   "metadata": {
    "collapsed": false,
    "ExecuteTime": {
     "end_time": "2025-01-23T18:15:43.113510Z",
     "start_time": "2025-01-23T18:15:43.108972Z"
    }
   },
   "id": "6b3752ab8b323b28",
   "execution_count": 18
  },
  {
   "cell_type": "code",
   "outputs": [],
   "source": [
    "def fix_variables(model1: ConcreteModel, model2: ConcreteModel, scen_name: str = None, current_time_idx: int = 0):\n",
    "    model2_vars = {v.name: v for v in model2.component_objects(Var)}\n",
    "    \n",
    "    for var1 in model1.component_objects(Var):\n",
    "        if var1.name in model2_vars:\n",
    "            var2 = model2_vars[var1.name]\n",
    "            for key in (k for k in var1.keys() if k[-1] < current_time_idx):\n",
    "                var2[key].fixed = True\n",
    "                var2[key] = var1[key].value\n"
   ],
   "metadata": {
    "collapsed": false,
    "ExecuteTime": {
     "end_time": "2025-01-23T18:15:43.125544Z",
     "start_time": "2025-01-23T18:15:43.121937Z"
    }
   },
   "id": "89bce2b6f9884b3e",
   "execution_count": 21
  },
  {
   "cell_type": "code",
   "outputs": [],
   "source": [
    "fix_variables(model1=m, model2=m2, current_time_idx=1)"
   ],
   "metadata": {
    "collapsed": false,
    "ExecuteTime": {
     "end_time": "2025-01-23T18:15:43.129664Z",
     "start_time": "2025-01-23T18:15:43.125544Z"
    }
   },
   "id": "8138d3ecbf511e84",
   "execution_count": 22
  },
  {
   "cell_type": "code",
   "outputs": [
    {
     "name": "stdout",
     "output_type": "stream",
     "text": [
      "Transit : Size=20, Index=sources*sinks*transports*resources*time\n",
      "    Key                                   : Lower : Value : Upper : Fixed : Stale : Domain\n",
      "    ('A', 'B', 'planeAB', 'resource1', 0) :     0 :    25 :  None :  True : False : NonNegativeReals\n",
      "    ('A', 'B', 'planeAB', 'resource1', 1) :     0 :  None :  None : False :  True : NonNegativeReals\n",
      "    ('A', 'B', 'planeAB', 'resource1', 2) :     0 :  None :  None : False :  True : NonNegativeReals\n",
      "    ('A', 'B', 'planeAB', 'resource1', 3) :     0 :  None :  None : False :  True : NonNegativeReals\n",
      "    ('A', 'B', 'planeAB', 'resource1', 4) :     0 :  None :  None : False :  True : NonNegativeReals\n",
      "    ('A', 'B', 'planeAB', 'resource1', 5) :     0 :  None :  None : False :  True : NonNegativeReals\n",
      "    ('A', 'B', 'planeAB', 'resource1', 6) :     0 :  None :  None : False :  True : NonNegativeReals\n",
      "    ('A', 'B', 'planeAB', 'resource1', 7) :     0 :  None :  None : False :  True : NonNegativeReals\n",
      "    ('A', 'B', 'planeAB', 'resource1', 8) :     0 :  None :  None : False :  True : NonNegativeReals\n",
      "    ('A', 'B', 'planeAB', 'resource1', 9) :     0 :  None :  None : False :  True : NonNegativeReals\n",
      "    ('A', 'B', 'truckAB', 'resource1', 0) :     0 :  None :  None :  True :  True : NonNegativeReals\n",
      "    ('A', 'B', 'truckAB', 'resource1', 1) :     0 :  None :  None : False :  True : NonNegativeReals\n",
      "    ('A', 'B', 'truckAB', 'resource1', 2) :     0 :  None :  None : False :  True : NonNegativeReals\n",
      "    ('A', 'B', 'truckAB', 'resource1', 3) :     0 :  None :  None : False :  True : NonNegativeReals\n",
      "    ('A', 'B', 'truckAB', 'resource1', 4) :     0 :  None :  None : False :  True : NonNegativeReals\n",
      "    ('A', 'B', 'truckAB', 'resource1', 5) :     0 :  None :  None : False :  True : NonNegativeReals\n",
      "    ('A', 'B', 'truckAB', 'resource1', 6) :     0 :  None :  None : False :  True : NonNegativeReals\n",
      "    ('A', 'B', 'truckAB', 'resource1', 7) :     0 :  None :  None : False :  True : NonNegativeReals\n",
      "    ('A', 'B', 'truckAB', 'resource1', 8) :     0 :  None :  None : False :  True : NonNegativeReals\n",
      "    ('A', 'B', 'truckAB', 'resource1', 9) :     0 :  None :  None : False :  True : NonNegativeReals\n"
     ]
    }
   ],
   "source": [
    "m2.Transit.pprint()"
   ],
   "metadata": {
    "collapsed": false,
    "ExecuteTime": {
     "end_time": "2025-01-23T18:15:43.133694Z",
     "start_time": "2025-01-23T18:15:43.129664Z"
    }
   },
   "id": "8513bf7e82fbdf91",
   "execution_count": 23
  },
  {
   "cell_type": "code",
   "outputs": [
    {
     "name": "stdout",
     "output_type": "stream",
     "text": [
      "Exp : Size=20, Index=sources*sinks*transports*resources*time\n",
      "    Key                                   : Lower : Value : Upper : Fixed : Stale : Domain\n",
      "    ('A', 'B', 'planeAB', 'resource1', 0) :     0 :  None :  None :  True :  True : NonNegativeReals\n",
      "    ('A', 'B', 'planeAB', 'resource1', 1) :     0 :  None :  None : False :  True : NonNegativeReals\n",
      "    ('A', 'B', 'planeAB', 'resource1', 2) :     0 :  None :  None : False :  True : NonNegativeReals\n",
      "    ('A', 'B', 'planeAB', 'resource1', 3) :     0 :  None :  None : False :  True : NonNegativeReals\n",
      "    ('A', 'B', 'planeAB', 'resource1', 4) :     0 :  None :  None : False :  True : NonNegativeReals\n",
      "    ('A', 'B', 'planeAB', 'resource1', 5) :     0 :  None :  None : False :  True : NonNegativeReals\n",
      "    ('A', 'B', 'planeAB', 'resource1', 6) :     0 :  None :  None : False :  True : NonNegativeReals\n",
      "    ('A', 'B', 'planeAB', 'resource1', 7) :     0 :  None :  None : False :  True : NonNegativeReals\n",
      "    ('A', 'B', 'planeAB', 'resource1', 8) :     0 :  None :  None : False :  True : NonNegativeReals\n",
      "    ('A', 'B', 'planeAB', 'resource1', 9) :     0 :  None :  None : False :  True : NonNegativeReals\n",
      "    ('A', 'B', 'truckAB', 'resource1', 0) :     0 :  None :  None :  True :  True : NonNegativeReals\n",
      "    ('A', 'B', 'truckAB', 'resource1', 1) :     0 :  None :  None : False :  True : NonNegativeReals\n",
      "    ('A', 'B', 'truckAB', 'resource1', 2) :     0 :  None :  None : False :  True : NonNegativeReals\n",
      "    ('A', 'B', 'truckAB', 'resource1', 3) :     0 :  None :  None : False :  True : NonNegativeReals\n",
      "    ('A', 'B', 'truckAB', 'resource1', 4) :     0 :  None :  None : False :  True : NonNegativeReals\n",
      "    ('A', 'B', 'truckAB', 'resource1', 5) :     0 :  None :  None : False :  True : NonNegativeReals\n",
      "    ('A', 'B', 'truckAB', 'resource1', 6) :     0 :  None :  None : False :  True : NonNegativeReals\n",
      "    ('A', 'B', 'truckAB', 'resource1', 7) :     0 :  None :  None : False :  True : NonNegativeReals\n",
      "    ('A', 'B', 'truckAB', 'resource1', 8) :     0 :  None :  None : False :  True : NonNegativeReals\n",
      "    ('A', 'B', 'truckAB', 'resource1', 9) :     0 :  None :  None : False :  True : NonNegativeReals\n"
     ]
    }
   ],
   "source": [
    "m2.Exp.pprint()"
   ],
   "metadata": {
    "collapsed": false,
    "ExecuteTime": {
     "end_time": "2025-01-23T18:15:43.137016Z",
     "start_time": "2025-01-23T18:15:43.133694Z"
    }
   },
   "id": "9255b7b450b32119",
   "execution_count": 24
  },
  {
   "cell_type": "code",
   "outputs": [],
   "source": [],
   "metadata": {
    "collapsed": false
   },
   "id": "af48c96fca6ac5e8"
  }
 ],
 "metadata": {
  "kernelspec": {
   "display_name": "Python 3",
   "language": "python",
   "name": "python3"
  },
  "language_info": {
   "codemirror_mode": {
    "name": "ipython",
    "version": 2
   },
   "file_extension": ".py",
   "mimetype": "text/x-python",
   "name": "python",
   "nbconvert_exporter": "python",
   "pygments_lexer": "ipython2",
   "version": "2.7.6"
  }
 },
 "nbformat": 4,
 "nbformat_minor": 5
}
