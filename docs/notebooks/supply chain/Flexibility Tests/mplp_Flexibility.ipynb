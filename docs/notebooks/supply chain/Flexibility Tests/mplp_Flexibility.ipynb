{
 "cells": [
  {
   "cell_type": "code",
   "source": [
    "from ppopt.mpmodel import MPModeler\n",
    "from ppopt.mp_solvers.solve_mpqp import solve_mpqp, mpqp_algorithm\n",
    "from ppopt.plot import parametric_plot_1D\n",
    "from ppopt.plot import parametric_plot\n",
    "from ppopt.mpqp_program import MPLP_Program\n",
    "import numpy as np\n",
    "import matplotlib.pyplot as plt"
   ],
   "metadata": {
    "collapsed": false,
    "ExecuteTime": {
     "end_time": "2025-06-04T18:10:11.553297Z",
     "start_time": "2025-06-04T18:10:11.541787Z"
    }
   },
   "id": "20200e0a32b35224",
   "outputs": [],
   "execution_count": 57
  },
  {
   "cell_type": "code",
   "source": [
    "# A = numpy.array([[1, 1, 0, 0], [0, 0, 1, 1], [-1, 0, -1, 0], [0, -1, 0, -1], [-1, 0, 0, 0], [0, -1, 0, 0], [0, 0, -1, 0], [0, 0, 0, -1]])\n",
    "# b = numpy.array([350, 600, 0, 0, 0, 0, 0, 0]).reshape(8, 1)\n",
    "# c = numpy.array([178, 187, 187, 151]).reshape(-1,1)\n",
    "# F = numpy.array([[0, 0], [0, 0], [-1, 0], [0, -1], [0, 0], [0, 0], [0, 0], [0, 0]])\n",
    "# CRa = numpy.vstack((numpy.eye(2), -numpy.eye(2)))\n",
    "# CRb = numpy.array([1000, 1000, 0, 0]).reshape(4, 1)\n",
    "# H = numpy.zeros((A.shape[1],F.shape[1]))\n",
    "# \n",
    "# prog = MPLP_Program(A, b, c, H, CRa, CRb, F)"
   ],
   "metadata": {
    "collapsed": false,
    "ExecuteTime": {
     "end_time": "2025-06-04T18:10:11.569090Z",
     "start_time": "2025-06-04T18:10:11.559508Z"
    }
   },
   "id": "361af2b31ca08403",
   "outputs": [],
   "execution_count": 58
  },
  {
   "cell_type": "code",
   "source": [
    "# m = MPModeler()\n",
    "# \n",
    "# u = m.add_var(name='u')\n",
    "# x = m.add_var(name='x')\n",
    "# z = m.add_var(name='z')\n",
    "# \n",
    "# t1 = m.add_param(name='t1')\n",
    "# t2 = m.add_param(name='t2')\n",
    "# d1 = m.add_param(name='d1')\n",
    "# d2 = m.add_param(name='d2')"
   ],
   "metadata": {
    "collapsed": false,
    "ExecuteTime": {
     "end_time": "2025-06-04T18:10:11.584742Z",
     "start_time": "2025-06-04T18:10:11.570243Z"
    }
   },
   "id": "efc3a1b8151490d3",
   "outputs": [],
   "execution_count": 59
  },
  {
   "cell_type": "code",
   "source": [
    "# m.add_constr(-2*x +3*z == 50 +t1 - d2)\n",
    "# m.add_constr(x - z/2 -u <= -25 +t1/2 -t2/2 -d1 +7*d2/2)\n",
    "# m.add_constr(-2*x +2*z -u <= -151/3 +4*t1/3 +t2 -2*d2)\n",
    "# m.add_constr(-x + 5*z/2 -u <= 26 -t1/2 +t2 +d1 -d2/2)\n",
    "# m.add_constr(0 <= x)\n",
    "# m.add_constr(0 <= z)\n",
    "# m.add_constr(0 <= t1)\n",
    "# m.add_constr(0 <= t2)\n",
    "# m.add_constr(0 <= d1)\n",
    "# m.add_constr(0 <= d2)\n",
    "# m.add_constr(t1 <= 4)\n",
    "# m.add_constr(t2 <= 4)\n",
    "# m.add_constr(d1 <= 5)\n",
    "# m.add_constr(d2 <= 5)"
   ],
   "metadata": {
    "collapsed": false,
    "ExecuteTime": {
     "end_time": "2025-06-04T18:10:11.600414Z",
     "start_time": "2025-06-04T18:10:11.585788Z"
    }
   },
   "id": "177a94249ffe336f",
   "outputs": [],
   "execution_count": 60
  },
  {
   "cell_type": "code",
   "source": [
    "# m.set_objective(u-50)"
   ],
   "metadata": {
    "collapsed": false,
    "ExecuteTime": {
     "end_time": "2025-06-04T18:10:11.615496Z",
     "start_time": "2025-06-04T18:10:11.601464Z"
    }
   },
   "id": "5c28cb9fbac25de4",
   "outputs": [],
   "execution_count": 61
  },
  {
   "cell_type": "code",
   "source": [
    "# prob = m.formulate_problem()\n",
    "# prob.process_constraints()"
   ],
   "metadata": {
    "collapsed": false,
    "ExecuteTime": {
     "end_time": "2025-06-04T18:10:11.630375Z",
     "start_time": "2025-06-04T18:10:11.617624Z"
    }
   },
   "id": "766c67c4c2107d93",
   "outputs": [],
   "execution_count": 62
  },
  {
   "cell_type": "code",
   "source": [
    "# solution = solve_mpqp(prob, mpqp_algorithm.combinatorial)"
   ],
   "metadata": {
    "collapsed": false,
    "ExecuteTime": {
     "end_time": "2025-06-04T18:10:11.646145Z",
     "start_time": "2025-06-04T18:10:11.631454Z"
    }
   },
   "id": "f989d3bb4ffc0514",
   "outputs": [],
   "execution_count": 63
  },
  {
   "cell_type": "code",
   "source": [
    "# solution"
   ],
   "metadata": {
    "collapsed": false,
    "ExecuteTime": {
     "end_time": "2025-06-04T18:10:11.661799Z",
     "start_time": "2025-06-04T18:10:11.647263Z"
    }
   },
   "id": "8f213236ddc1eec",
   "outputs": [],
   "execution_count": 64
  },
  {
   "metadata": {
    "ExecuteTime": {
     "end_time": "2025-06-04T18:10:11.677548Z",
     "start_time": "2025-06-04T18:10:11.662955Z"
    }
   },
   "cell_type": "code",
   "source": [
    "m_fixd = MPModeler()\n",
    "\n",
    "u = m_fixd.add_var(name='u')\n",
    "x = m_fixd.add_var(name='x')\n",
    "z = m_fixd.add_var(name='z')\n",
    "\n",
    "t1 = m_fixd.add_param(name='t1')\n",
    "t2 = m_fixd.add_param(name='t2')\n",
    "# d1 = m_fixd.add_param(name='d1')\n",
    "# d2 = m_fixd.add_param(name='d2')\n",
    "d1 = 5\n",
    "d2 = 0"
   ],
   "id": "789e550c6b8f520c",
   "outputs": [],
   "execution_count": 65
  },
  {
   "metadata": {
    "ExecuteTime": {
     "end_time": "2025-06-04T18:10:11.692983Z",
     "start_time": "2025-06-04T18:10:11.678431Z"
    }
   },
   "cell_type": "code",
   "source": [
    "m_fixd.add_constr(-2*x +3*z == 50 +t1 - d2)\n",
    "m_fixd.add_constr(x - z/2 -u <= -25 +t1/2 -t2/2 -d1 +7*d2/2)\n",
    "m_fixd.add_constr(-2*x +2*z -u <= -151/3 +4*t1/3 +t2 -2*d2)\n",
    "m_fixd.add_constr(-x + 5*z/2 -u <= 26 -t1/2 +t2 +d1 -d2/2)\n",
    "m_fixd.add_constr(0 <= x)\n",
    "m_fixd.add_constr(0 <= z)\n",
    "m_fixd.add_constr(0 <= t1)\n",
    "m_fixd.add_constr(0 <= t2)\n",
    "# m_fixd.add_constr(0 <= d1)\n",
    "# m_fixd.add_constr(0 <= d2)\n",
    "m_fixd.add_constr(t1 <= 4)\n",
    "m_fixd.add_constr(t2 <= 4)\n",
    "# m_fixd.add_constr(d1 <= 5)\n",
    "# m_fixd.add_constr(d2 <= 5)"
   ],
   "id": "a7a609aa7af79a16",
   "outputs": [],
   "execution_count": 66
  },
  {
   "metadata": {
    "ExecuteTime": {
     "end_time": "2025-06-04T18:10:11.708058Z",
     "start_time": "2025-06-04T18:10:11.694549Z"
    }
   },
   "cell_type": "code",
   "source": [
    "m_fixd.set_objective(u-50)"
   ],
   "id": "38e2b9f3908b4de7",
   "outputs": [],
   "execution_count": 67
  },
  {
   "metadata": {
    "ExecuteTime": {
     "end_time": "2025-06-04T18:10:11.723738Z",
     "start_time": "2025-06-04T18:10:11.709150Z"
    }
   },
   "cell_type": "code",
   "source": [
    "prob_fixd = m_fixd.formulate_problem()\n",
    "prob_fixd.process_constraints()"
   ],
   "id": "7ec8a81b7df4dd4d",
   "outputs": [],
   "execution_count": 68
  },
  {
   "metadata": {
    "ExecuteTime": {
     "end_time": "2025-06-04T18:10:11.739778Z",
     "start_time": "2025-06-04T18:10:11.724777Z"
    }
   },
   "cell_type": "code",
   "source": [
    "solution_fixd = solve_mpqp(prob_fixd, mpqp_algorithm.combinatorial)"
   ],
   "id": "9a54b4d59ecbad3b",
   "outputs": [],
   "execution_count": 69
  },
  {
   "metadata": {
    "ExecuteTime": {
     "end_time": "2025-06-04T18:10:11.755538Z",
     "start_time": "2025-06-04T18:10:11.740927Z"
    }
   },
   "cell_type": "code",
   "source": [
    "solution_fixd"
   ],
   "id": "924dae19adf315cc",
   "outputs": [
    {
     "data": {
      "text/plain": "Solution(program=<ppopt.mplp_program.MPLP_Program object at 0x0000024661863700>, critical_regions=[Critical region with active set [0, 1, 2]\nThe Omega Constraint indices are [0, 1, 2, 3]\nThe Lagrange multipliers Constraint indices are []\nThe Regular Constraint indices are [[], []]\n  x(θ) = Aθ + b \n λ(θ) = Cθ + d \n  Eθ <= f\n A = [[-6.66666667e-01 -2.50000000e-01]\n [ 5.17876355e-16 -1.12500000e+00]\n [ 3.33333333e-01 -7.50000000e-01]] \n b = [[52.66666667]\n [46.5       ]\n [47.66666667]] \n C = [[0. 0.]\n [0. 0.]\n [0. 0.]] \n d = [[-0.93541435]\n [ 0.8291562 ]\n [ 1.71593836]] \n E = [[-1.  0.]\n [ 0. -1.]\n [ 1.  0.]\n [ 0.  1.]] \n f = [[-0.]\n [-0.]\n [ 4.]\n [ 4.]]])"
     },
     "execution_count": 70,
     "metadata": {},
     "output_type": "execute_result"
    }
   ],
   "execution_count": 70
  },
  {
   "metadata": {
    "ExecuteTime": {
     "end_time": "2025-06-04T18:10:11.771290Z",
     "start_time": "2025-06-04T18:10:11.757649Z"
    }
   },
   "cell_type": "code",
   "source": [
    "solution_fixd.critical_regions"
   ],
   "id": "1b72658e9bab580",
   "outputs": [
    {
     "data": {
      "text/plain": "[Critical region with active set [0, 1, 2]\n The Omega Constraint indices are [0, 1, 2, 3]\n The Lagrange multipliers Constraint indices are []\n The Regular Constraint indices are [[], []]\n   x(θ) = Aθ + b \n  λ(θ) = Cθ + d \n   Eθ <= f\n  A = [[-6.66666667e-01 -2.50000000e-01]\n  [ 5.17876355e-16 -1.12500000e+00]\n  [ 3.33333333e-01 -7.50000000e-01]] \n  b = [[52.66666667]\n  [46.5       ]\n  [47.66666667]] \n  C = [[0. 0.]\n  [0. 0.]\n  [0. 0.]] \n  d = [[-0.93541435]\n  [ 0.8291562 ]\n  [ 1.71593836]] \n  E = [[-1.  0.]\n  [ 0. -1.]\n  [ 1.  0.]\n  [ 0.  1.]] \n  f = [[-0.]\n  [-0.]\n  [ 4.]\n  [ 4.]]]"
     },
     "execution_count": 71,
     "metadata": {},
     "output_type": "execute_result"
    }
   ],
   "execution_count": 71
  },
  {
   "metadata": {
    "ExecuteTime": {
     "end_time": "2025-06-04T18:10:12.035982Z",
     "start_time": "2025-06-04T18:10:11.772424Z"
    }
   },
   "cell_type": "code",
   "source": [
    "def f(x,y):\n",
    "    return solution_fixd.evaluate_objective(np.array([x,y]).reshape(-1,1))\n",
    "\n",
    "x = y = np.arange(0, 4, 0.05)\n",
    "X, Y = np.meshgrid(x, y)\n",
    "\n",
    "zs = np.array([f(x,y) for x,y in zip(np.ravel(X), np.ravel(Y))])\n",
    "Z = zs.reshape(len(x), len(y))\n",
    "\n",
    "from matplotlib.colors import ListedColormap, BoundaryNorm\n",
    "colors = ['blue', 'white', 'red']\n",
    "cmap = ListedColormap(colors)\n",
    "\n",
    "bounds = [-np.inf, 0, np.inf]\n",
    "norm = BoundaryNorm(bounds, cmap.N)\n",
    "\n",
    "contour = plt.contourf(X, Y, Z, levels=100, cmap=cmap, norm=norm)\n",
    "cbar = plt.colorbar(contour, ticks=[-1,0,1])\n",
    "cbar.set_label(r'$\\psi(\\theta_1, \\theta_2)$ values')\n",
    "\n",
    "\n",
    "plt.xlabel(r'$\\theta_1$')\n",
    "plt.ylabel(r'$\\theta_2$')\n",
    "plt.title(f'$d_1 = {d1}, d_2 = {d2}$ feasibility results')\n",
    "plt.show()"
   ],
   "id": "13c6f1214e7e61da",
   "outputs": [
    {
     "data": {
      "text/plain": "<Figure size 640x480 with 2 Axes>",
      "image/png": "[encoded data removed]"
     },
     "metadata": {},
     "output_type": "display_data"
    }
   ],
   "execution_count": 72
  },
  {
   "metadata": {
    "ExecuteTime": {
     "end_time": "2025-06-04T18:10:12.050642Z",
     "start_time": "2025-06-04T18:10:12.037037Z"
    }
   },
   "cell_type": "code",
   "source": [],
   "id": "3f23a557d94fa32d",
   "outputs": [],
   "execution_count": 72
  }
 ],
 "metadata": {
  "kernelspec": {
   "display_name": "Python 3",
   "language": "python",
   "name": "python3"
  },
  "language_info": {
   "codemirror_mode": {
    "name": "ipython",
    "version": 2
   },
   "file_extension": ".py",
   "mimetype": "text/x-python",
   "name": "python",
   "nbconvert_exporter": "python",
   "pygments_lexer": "ipython2",
   "version": "2.7.6"
  }
 },
 "nbformat": 4,
 "nbformat_minor": 5
}
