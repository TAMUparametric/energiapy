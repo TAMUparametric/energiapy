{
 "cells": [
  {
   "cell_type": "code",
   "id": "initial_id",
   "metadata": {
    "collapsed": true,
    "ExecuteTime": {
     "end_time": "2025-06-20T00:42:53.921500Z",
     "start_time": "2025-06-20T00:42:53.905077Z"
    }
   },
   "source": [
    "import numpy as np\n",
    "from ppopt.mplp_program import MPLP_Program\n",
    "from ppopt.mpmodel import MPModeler\n",
    "from ppopt.mp_solvers.solve_mpqp import solve_mpqp, mpqp_algorithm\n",
    "from ppopt.plot import parametric_plot\n",
    "from numpy.polynomial.legendre import leggauss\n",
    "from scipy.optimize import linprog\n",
    "from typing import Union\n",
    "from collections import defaultdict"
   ],
   "outputs": [],
   "execution_count": 33
  },
  {
   "cell_type": "code",
   "source": [
    "# # Bansal (2000) Illustrative Example\n",
    "# t_bounds=[(0,4),(0,4)]\n",
    "# d_bounds=[(0,5), (0,5)]\n",
    "# d_vector = np.array([3.2, 0.4])\n",
    "# nt = len(t_bounds)\n",
    "# nd = len(d_bounds)\n",
    "# \n",
    "# m = MPModeler()\n",
    "# \n",
    "# u = m.add_var(name='u')\n",
    "# x = m.add_var(name='x')\n",
    "# z = m.add_var(name='z')\n",
    "# \n",
    "# t1 = m.add_param(name='t1')\n",
    "# t2 = m.add_param(name='t2')\n",
    "# d1 = m.add_param(name='d1')\n",
    "# d2 = m.add_param(name='d2')\n",
    "# m.add_constr(2*x - 3*z + t1 - d2 == 0)\n",
    "# m.add_constr(x - z/2 -t1/2 +t2/2 +d1 -7*d2/2 <= u)\n",
    "# m.add_constr(-2*x +2*z -4*t1/3 -t2 +2*d2 +1/3<= u)\n",
    "# m.add_constr(-x + 5*z/2 +t1/2 -t2 -d1 +d2/2 -1 <= u)\n",
    "# m.add_constr(-50 <= x)\n",
    "# m.add_constr(-50 <= z)\n",
    "# m.add_constr(t_bounds[0][0] <= t1)\n",
    "# m.add_constr(t_bounds[1][0] <= t2)\n",
    "# m.add_constr(d_bounds[0][0] <= d1)\n",
    "# m.add_constr(d_bounds[1][0] <= d2)\n",
    "# m.add_constr(t1 <= t_bounds[0][1])\n",
    "# m.add_constr(t2 <= t_bounds[1][1])\n",
    "# m.add_constr(d1 <= d_bounds[0][1])\n",
    "# m.add_constr(d2 <= d_bounds[1][1])\n",
    "# m.set_objective(u)\n",
    "# prob = m.formulate_problem()\n",
    "# prob.process_constraints()\n",
    "# solution_flexibility = solve_mpqp(problem=prob, algorithm=mpqp_algorithm.geometric)\n",
    "# \n",
    "# def joint_pdf(theta:list):\n",
    "#     return (2/np.pi)*np.exp(-2*((theta[0]-2)**2 + (theta[1]-2)**2))"
   ],
   "metadata": {
    "collapsed": false,
    "ExecuteTime": {
     "end_time": "2025-06-20T00:42:53.936832Z",
     "start_time": "2025-06-20T00:42:53.923300Z"
    }
   },
   "id": "bfad65f16b4527e9",
   "outputs": [],
   "execution_count": 34
  },
  {
   "metadata": {
    "ExecuteTime": {
     "end_time": "2025-06-20T00:42:53.951489Z",
     "start_time": "2025-06-20T00:42:53.937929Z"
    }
   },
   "cell_type": "code",
   "source": [
    "# # Straub and Grossmann (1990) Example 2\n",
    "# t_bounds=[(0,80),(0,80)]\n",
    "# d_bounds=[(0,10), (0,10)]\n",
    "# d_vector = np.array([1,8])\n",
    "# nt = len(t_bounds)\n",
    "# nd = len(d_bounds)\n",
    "# m = MPModeler()\n",
    "# \n",
    "# u = m.add_var(name='u')\n",
    "# z = m.add_var(name='z')\n",
    "# \n",
    "# t1 = m.add_param(name='t1')\n",
    "# t2 = m.add_param(name='t2')\n",
    "# d1 = m.add_param(name='d1')\n",
    "# d2 = m.add_param(name='d2')\n",
    "# m.add_constr(z - 1.6*(t1-20) - 0.6*(t2-20) + d1 - 14 <= u)\n",
    "# m.add_constr(z - 0.85*(t1-20) - 0.925*(t2-20) + d1 + d2 -20 <= u)\n",
    "# m.add_constr(z - 1.1*(t1-20) - 1.4*(t2-20) + d2 - 8 <= u)\n",
    "# m.add_constr(-z + (t1-20) + (t2-20) + d1 + d2 - 7 <= u)\n",
    "# m.add_constr(t_bounds[0][0] <= t1)\n",
    "# m.add_constr(t_bounds[1][0] <= t2)\n",
    "# m.add_constr(d_bounds[0][0] <= d1)\n",
    "# m.add_constr(d_bounds[1][0] <= d2)\n",
    "# m.add_constr(t1 <= t_bounds[0][1])\n",
    "# m.add_constr(t2 <= t_bounds[1][1])\n",
    "# m.add_constr(d1 <= d_bounds[0][1])\n",
    "# m.add_constr(d2 <= d_bounds[1][1])\n",
    "# m.set_objective(u)\n",
    "# prob = m.formulate_problem()\n",
    "# prob.process_constraints()\n",
    "# solution_flexibility = solve_mpqp(problem=prob, algorithm=mpqp_algorithm.geometric)\n",
    "# \n",
    "# def joint_pdf(theta:list):\n",
    "#     return (1/628.32)*np.exp((-(theta[0]-40)**2 - (theta[1]-40)**2)/200)"
   ],
   "id": "b6eda4f201c35814",
   "outputs": [],
   "execution_count": 35
  },
  {
   "metadata": {
    "ExecuteTime": {
     "end_time": "2025-06-20T00:42:54.028977Z",
     "start_time": "2025-06-20T00:42:53.952490Z"
    }
   },
   "cell_type": "code",
   "source": [
    "# Pistikopoulos and Mazzuchi (1990) Example 1\n",
    "t_bounds = [(610, 630), (378, 398), (573, 593), (303, 323)]\n",
    "# t_bounds = [(586.68, 653.32), (354.68, 421.32), (549.68, 616.32), (279.68, 346.32)]\n",
    "nt = len(t_bounds)\n",
    "nd = 0\n",
    "d_bounds = None\n",
    "d_vector = None\n",
    "m = MPModeler()\n",
    "\n",
    "u = m.add_var(name=\"u\")\n",
    "z = m.add_var(name=\"z\")\n",
    "\n",
    "t1 = m.add_param(name=\"t1\")\n",
    "t2 = m.add_param(name=\"t2\")\n",
    "t3 = m.add_param(name=\"t3\")\n",
    "t4 = m.add_param(name=\"t4\")\n",
    "\n",
    "m.add_constr(-z + 1.5*t2 - 525 <= u)\n",
    "m.add_constr(z - 1.5*t1 - 2*t2 - 2*t3 + 2777 <= u)\n",
    "m.add_constr(z - 1.5*t1 - 2*t2 - t3 + 2044 <= u)\n",
    "m.add_constr(z - 1.5*t1 - 2*t2 - t3 - 2*t4 + 2830 <= u)\n",
    "m.add_constr(-z + 1.5*t1 + 2*t2 + t3 + 3*t4 - 3153 <= u)\n",
    "m.add_constr(t_bounds[0][0] <= t1)\n",
    "m.add_constr(t1 <= t_bounds[0][1])\n",
    "m.add_constr(t_bounds[1][0] <= t2)\n",
    "m.add_constr(t2 <= t_bounds[1][1])\n",
    "m.add_constr(t_bounds[2][0] <= t3)\n",
    "m.add_constr(t3 <= t_bounds[2][1])\n",
    "m.add_constr(t_bounds[3][0] <= t4)\n",
    "m.add_constr(t4 <= t_bounds[3][1])\n",
    "m.set_objective(u)\n",
    "prob = m.formulate_problem()\n",
    "prob.process_constraints()\n",
    "\n",
    "solution_flexibility = solve_mpqp(problem=prob, algorithm=mpqp_algorithm.geometric)\n",
    "\n",
    "def joint_pdf(theta:list):\n",
    "    return (1/(5000*np.pi))*np.exp(-0.08*((theta[0]-620)**2 + (theta[1]-388)**2))"
   ],
   "id": "aa80828de74205f5",
   "outputs": [
    {
     "name": "stdout",
     "output_type": "stream",
     "text": [
      "Using a found active set [0, 2]\n"
     ]
    }
   ],
   "execution_count": 36
  },
  {
   "cell_type": "code",
   "outputs": [],
   "source": [
    "# # Bansal (2000) Example 4\n",
    "# t_bounds = [(390, 410), (440, 460), (390, 410), (420, 440), (300, 320), (280, 300), (275, 295)]\n",
    "# nt = len(t_bounds)\n",
    "# nd = 0\n",
    "# d_bounds = None\n",
    "# d_vector = None\n",
    "# m = MPModeler()\n",
    "# \n",
    "# u = m.add_var('u')\n",
    "# z = m.add_var('z')\n",
    "# \n",
    "# t1 = m.add_param('t1')\n",
    "# t2 = m.add_param('t2')\n",
    "# t3 = m.add_param('t3')\n",
    "# t4 = m.add_param('t4')\n",
    "# t5 = m.add_param('t5')\n",
    "# t6 = m.add_param('t6')\n",
    "# t7 = m.add_param('t7')\n",
    "# \n",
    "# m.add_constr(5/12 * z + 1/3 * t3 + t6 + 1/3 * t7 + -(682 + 1/2) <= u)\n",
    "# m.add_constr(5/12 * z - 1/3 * t1 - 1/6 * t2 + 1/3 * t3 - 5/12 * t5 + t6 + 1/3 * t7 - (357 + 1/2) <= u)\n",
    "# m.add_constr(-7/12 * z + 2/3 * t1 + 1/3 * t2 + 1/3 * t3 + 5/6 * t5 + t6 + 1/3 * t7 - (1007 + 1/2) <= u)\n",
    "# m.add_constr(-5/12 * z - 1/3 * t3 - 1/3 * t7 + (357 + 1/2) <= u)\n",
    "# m.add_constr(z - t4 <= u)\n",
    "# m.add_constr(4/5 * t3 + t6 + 4/5 * t7 - 858 <= u)\n",
    "# m.add_constr(t3 + t7 - 700 <= u)\n",
    "# \n",
    "# m.add_constr(t_bounds[0][0] <= t1)\n",
    "# m.add_constr(t1 <= t_bounds[0][1])\n",
    "# m.add_constr(t_bounds[1][0] <= t2)\n",
    "# m.add_constr(t2 <= t_bounds[1][1])\n",
    "# m.add_constr(t_bounds[2][0] <= t3)\n",
    "# m.add_constr(t3 <= t_bounds[2][1])\n",
    "# m.add_constr(t_bounds[3][0] <= t4)\n",
    "# m.add_constr(t4 <= t_bounds[3][1])\n",
    "# m.add_constr(t_bounds[4][0] <= t5)\n",
    "# m.add_constr(t5 <= t_bounds[4][1])\n",
    "# m.add_constr(t_bounds[5][0] <= t6)\n",
    "# m.add_constr(t6 <= t_bounds[5][1])\n",
    "# m.add_constr(t_bounds[6][0] <= t7)\n",
    "# m.add_constr(t7 <= t_bounds[6][1])\n",
    "# m.set_objective(u)\n",
    "# prob = m.formulate_problem()\n",
    "# prob.process_constraints()\n",
    "# \n",
    "# solution_flexibility = solve_mpqp(problem=prob, algorithm=mpqp_algorithm.geometric)\n",
    "# \n",
    "# def joint_pdf(theta:list):\n",
    "#     return (5.00e-8) * (0.05*(theta[0]-390))**(0.2) * (1 - 0.05*(theta[0]-390))**(0.2) *\\\n",
    "#            (0.05*(theta[1]-440))**(0.2) * (1 - 0.05*(theta[1]-440))**(0.2) * \\\n",
    "#            (0.05*(theta[4]-300))**(0.2) * (1 - 0.05*(theta[4]-300))**(0.2)"
   ],
   "metadata": {
    "collapsed": false,
    "ExecuteTime": {
     "end_time": "2025-06-20T00:42:54.044857Z",
     "start_time": "2025-06-20T00:42:54.030123Z"
    }
   },
   "id": "7aab95f5307c38c3",
   "execution_count": 37
  },
  {
   "metadata": {
    "ExecuteTime": {
     "end_time": "2025-06-20T00:42:54.060909Z",
     "start_time": "2025-06-20T00:42:54.044857Z"
    }
   },
   "cell_type": "code",
   "source": [
    "# for i in range(len(solution_flexibility)):\n",
    "#     print(f'i:{i}\\nA:{solution_flexibility.critical_regions[i].A}\\nb:{solution_flexibility.critical_regions[i].b}')"
   ],
   "id": "c381518ae0bbe659",
   "outputs": [],
   "execution_count": 38
  },
  {
   "cell_type": "code",
   "source": [
    "def gauss_legendre_between_bounds(expr_coeffs: np.ndarray, n_gl: int, max_idx: int = 0, min_idx: int = 1):\n",
    "    \"\"\"\n",
    "    Generate n Gauss–Legendre quadrature points and weights between min and max bounds\n",
    "    defined by two linear expressions.\n",
    "\n",
    "    Parameters:\n",
    "        expr_coeffs (np.ndarray): 2xD array. Row 0 = max point coefficients, Row 1 = min.\n",
    "        n (int): Number of quadrature points.\n",
    "\n",
    "    Returns:\n",
    "        points (np.ndarray): (n, D) array of quadrature points.\n",
    "        weights (np.ndarray): (n,) array of weights.\n",
    "    \"\"\"\n",
    "    if expr_coeffs.shape[0] != 2:\n",
    "        raise ValueError(\"expr_coeffs must have two rows\")\n",
    "\n",
    "    max_coeffs = expr_coeffs[max_idx]\n",
    "    min_coeffs = expr_coeffs[min_idx]\n",
    "\n",
    "    # Get Gauss–Legendre points and weights on [-1, 1]\n",
    "    nodes, weights = leggauss(n_gl)\n",
    "    weights = weights.reshape(-1,1)\n",
    "    \n",
    "    # Affine transformation to domain [min_coeffs, max_coeffs]\n",
    "    points = 0.5 * (np.outer((nodes + 1), max_coeffs) + np.outer((1 - nodes), min_coeffs))\n",
    "\n",
    "    # Adjust weights to match new domain\n",
    "    weights = 0.5 * weights@(max_coeffs - min_coeffs).reshape(1,-1)\n",
    "\n",
    "    return points, weights"
   ],
   "metadata": {
    "collapsed": false,
    "ExecuteTime": {
     "end_time": "2025-06-20T00:42:54.076100Z",
     "start_time": "2025-06-20T00:42:54.061949Z"
    }
   },
   "id": "812c564dfe15edde",
   "outputs": [],
   "execution_count": 39
  },
  {
   "cell_type": "code",
   "source": [
    "def get_quadrature_points(solution, nq: int, t_vector: np.ndarray):\n",
    "    # Augment t_vector once\n",
    "    t_vector_aug = np.append(t_vector, 1).reshape(-1, 1)\n",
    "    \n",
    "    if isinstance(solution, list):\n",
    "        qpoints, qweights = np.polynomial.legendre.leggauss(nq)\n",
    "        min, max = solution[0], solution[1]\n",
    "        qps_mapped = 0.5*(max*(1+qpoints) + min*(1-qpoints))\n",
    "        qws_mapped = 0.5*(max-min)*qweights\n",
    "        # print(max, min, qps_mapped, qws_mapped)\n",
    "        return max, min, qps_mapped, qws_mapped\n",
    "    \n",
    "    # print(f't_vector: {t_vector}')\n",
    "    for region in solution.critical_regions:\n",
    "        if region.is_inside(t_vector):\n",
    "            coeffs = np.concatenate([region.A, region.b], axis=1)[:2, :]\n",
    "            qpoints, qweights = gauss_legendre_between_bounds(expr_coeffs=coeffs, n_gl=nq)\n",
    "            return coeffs[0] @ t_vector_aug, coeffs[1] @ t_vector_aug, qpoints @ t_vector_aug, qweights @ t_vector_aug\n",
    "    \n",
    "    # print(f'solution:{solution}')\n",
    "    raise ValueError(\"No region found that contains the given t_vector.\")\n"
   ],
   "metadata": {
    "collapsed": false,
    "ExecuteTime": {
     "end_time": "2025-06-20T00:42:54.091345Z",
     "start_time": "2025-06-20T00:42:54.076100Z"
    }
   },
   "id": "7f5099cf107d0881",
   "outputs": [],
   "execution_count": 40
  },
  {
   "metadata": {
    "ExecuteTime": {
     "end_time": "2025-06-20T00:42:54.106981Z",
     "start_time": "2025-06-20T00:42:54.092430Z"
    }
   },
   "cell_type": "code",
   "source": [
    "def mpformulate_theta_bounds(flex_sol, num_theta:int, theta_bounds:list, num_design:int=0, design_bounds:list=None, psi_idx:int=0, theta_m:int=0):\n",
    "    A0, b0, F0 = np.empty((len(flex_sol), num_theta)), np.empty((len(flex_sol), 1)), np.empty((len(flex_sol), num_design))\n",
    "    num_cr = len(flex_sol.critical_regions)\n",
    "    for i, region in enumerate(flex_sol.critical_regions):\n",
    "        A0[i] = region.A[psi_idx,:num_theta]\n",
    "        b0[i] = -region.b[psi_idx]\n",
    "        F0[i] = -region.A[psi_idx, num_theta:num_theta+num_design]\n",
    "    # print(f'num_cr:{num_cr}')\n",
    "    # print(f'num_theta:{num_theta}')\n",
    "    # print(f'num_design:{num_design}')\n",
    "    # print(f\"A0: {A0}\")\n",
    "    # print(f\"b0: {b0}\")\n",
    "    # print(f\"F0: {F0}\")\n",
    "    \n",
    "    c = np.hstack([np.array([-1, 1]).reshape(1, -1), np.zeros((1, 2 * (num_theta - 1 - theta_m)))]).reshape(-1,1)\n",
    "    # print(f'c:{c}')\n",
    "    # print(f'c.shape: {c.shape}')\n",
    "    \n",
    "    row1_block = np.hstack([block for i in range(theta_m, num_theta) for block in (A0[:, [i]], np.zeros((num_cr, 1)))])\n",
    "    row2_block = np.hstack([block for i in range(theta_m, num_theta) for block in (np.zeros((num_cr, 1)), A0[:, [i]])])\n",
    "    bound_row = np.hstack([np.array([-1, 1]).reshape(1, -1), np.zeros((1, 2 * (num_theta - 1 - theta_m)))])\n",
    "    A = np.vstack([row1_block, row2_block, bound_row, -np.eye(2*(num_theta-theta_m)), np.eye(2*(num_theta-theta_m))])\n",
    "    # print(f'A: {A}')\n",
    "    # print(f'A.shape: {A.shape}')\n",
    "    \n",
    "    x_lb = np.array([val for i in range(theta_m, len(theta_bounds)) for val in [theta_bounds[i][0]] * 2])\n",
    "    x_ub = np.array([val for i in range(theta_m, len(theta_bounds)) for val in [theta_bounds[i][1]] * 2])\n",
    "    b = np.vstack([b0, b0, np.zeros((1,1)), -x_lb.reshape(-1,1), x_ub.reshape(-1,1)])\n",
    "    # print(f'b: {b}')\n",
    "    # print(f'b.shape: {b.shape}')\n",
    "    \n",
    "    if F0.size==0 and theta_m==0:\n",
    "        # print('here')\n",
    "        return A, b, c, np.array([]), np.array([]), np.array([]), np.array([]) \n",
    "    \n",
    "    F = np.vstack([F0, F0, np.zeros((1,num_design)), np.zeros((4*(num_theta-theta_m), num_design))]) if num_design>0 else np.vstack([F0, F0])\n",
    "    # print(f'F:{F}')\n",
    "    # print(f'F.shape: {F.shape}')\n",
    "    if theta_m > 0:\n",
    "        F_lltheta = np.hstack([A0[:, [i]] for i in range(theta_m)])\n",
    "        # print(f'F_lltheta: {F_lltheta}')\n",
    "        # print(f'F_lltheta.shape: {F_lltheta.shape}')\n",
    "        F = np.hstack([np.vstack([-F_lltheta, -F_lltheta, np.zeros((1,len(range(theta_m)))), np.zeros((4*(num_theta-theta_m), theta_m))]), F]) if F.size > 0 else np.vstack([-F_lltheta, -F_lltheta, np.zeros((1,len(range(theta_m)))), np.zeros((4*(num_theta-theta_m), theta_m))])\n",
    "    # print(f'F:{F}')\n",
    "    # print(f'F.shape: {F.shape}')\n",
    "    \n",
    "    H = np.zeros((2*(num_theta-theta_m), theta_m+num_design))\n",
    "    # print(f'H:{H}')\n",
    "    # print(f'H.shape: {H.shape}')\n",
    "    \n",
    "    A_t = np.vstack([-np.eye(theta_m+num_design), np.eye(theta_m+num_design)])\n",
    "    # print(f'A_t:{A_t}')\n",
    "    # print(f'A_t.shape: {A_t.shape}')\n",
    "    \n",
    "    theta_lb = np.array([-theta_bounds[i][0] for i in range(theta_m)] + ([-j[0] for j in design_bounds] if isinstance(design_bounds, list) \n",
    "                                                                        else [])).reshape(-1, 1)\n",
    "    theta_ub = np.array([theta_bounds[i][1] for i in range(theta_m)] + ([j[1] for j in design_bounds] if isinstance(design_bounds, list) \n",
    "                                                                        else [])).reshape(-1, 1)\n",
    "    \n",
    "    b_t = np.vstack([theta_lb, theta_ub])\n",
    "    # print(f'b_t:{b_t}')\n",
    "    # print(f'b_t.shape: {b_t.shape}')\n",
    "    \n",
    "    return A, b, c, H, A_t, b_t, F"
   ],
   "id": "49667208fc1622cf",
   "outputs": [],
   "execution_count": 41
  },
  {
   "metadata": {
    "ExecuteTime": {
     "end_time": "2025-06-20T00:42:54.122548Z",
     "start_time": "2025-06-20T00:42:54.108051Z"
    }
   },
   "cell_type": "code",
   "source": [
    "def get_theta_bounds(flex_sol, numt, tbounds, numd:int=0, dbounds:list=None):\n",
    "    \n",
    "    theta_bound_dict = defaultdict(dict)\n",
    "    prob_dict = defaultdict(dict)\n",
    "    for i in range(numt):\n",
    "        A, b, c, H, A_t, b_t, F = mpformulate_theta_bounds(flex_sol=flex_sol, num_theta=numt ,num_design=numd, theta_bounds=tbounds, design_bounds=dbounds, theta_m=i)\n",
    "        if F.size != 0:\n",
    "            prob = MPLP_Program(A=A, b=b, c=c, H=H, A_t=A_t, b_t=b_t, F=F)\n",
    "            prob.process_constraints()\n",
    "            solution = solve_mpqp(problem=prob, algorithm=mpqp_algorithm.geometric)\n",
    "            prob_dict[f't{i}'] = prob\n",
    "            theta_bound_dict[f't{i}'] = solution\n",
    "        else:\n",
    "            # print(f'A: {A}')\n",
    "            # print(f'b: {b}')\n",
    "            # print(f'c: {c}')\n",
    "            linsol = linprog(c=c, A_ub=A, b_ub=b)\n",
    "            prob_dict[f't{i}'] = linsol\n",
    "            theta_bound_dict[f't{i}'] = [linsol.x[1], linsol.x[0]]\n",
    "            # if linsol.success:\n",
    "                # print(\"Optimal value:\", linsol.fun)\n",
    "                # print(\"Optimal x:\", linsol.x)\n",
    "        print(f'Finished solving for theta{i+1}')\n",
    "    probs = [p for key, p in prob_dict.items()]\n",
    "    # print([f'prob.A:{p.A}' for p in probs])\n",
    "    sols = [sol for key, sol in theta_bound_dict.items()]\n",
    "    \n",
    "    return probs, sols\n",
    "    "
   ],
   "id": "69a7a4487443671b",
   "outputs": [],
   "execution_count": 42
  },
  {
   "cell_type": "code",
   "source": [
    "def calculate_stocflexibility(flexibility_sol, nt:int, nq: Union[int, list], theta_bounds:list, nd:int=0, d_vector: np.ndarray = None, design_bounds:list = None) -> float:\n",
    "    \"\"\"\n",
    "    Calculates the stochastic flexibility index via nested Gauss–Legendre quadrature.\n",
    "\n",
    "    :param sols: list of solution objects (one per stage)\n",
    "    :param nq: int or list of ints; if int, used for all levels; if list, should match len(sols)\n",
    "    :param d_vector: base vector used to condition quadrature\n",
    "    :return: stochastic flexibility index\n",
    "    \"\"\"\n",
    "    \n",
    "    probs, sols = get_theta_bounds(flex_sol=flexibility_sol, numt=nt, numd=nd, tbounds=theta_bounds, dbounds=design_bounds)\n",
    "    # print(f'sols.type: {type(sols)}')\n",
    "    # print(f'sols: {sols}')\n",
    "    print('finished solving all mp problems')\n",
    "    # Validate nq if it's a list\n",
    "    if isinstance(nq, list):\n",
    "        if len(nq) != len(sols):\n",
    "            raise ValueError(\"If nq is a list, it must have the same length as sols\")\n",
    "\n",
    "    def recurse(level: int, theta_prev: list, weight_prev: float) -> float:\n",
    "        \"\"\"\n",
    "        Recursive inner function to compute nested quadrature.\n",
    "        \"\"\"\n",
    "        # print(f'level:{level}')\n",
    "        if level == len(sols):\n",
    "            return weight_prev * joint_pdf(theta_prev)\n",
    "\n",
    "        # Use nq[level] if nq is a list, otherwise use scalar nq\n",
    "        nql = nq[level] if isinstance(nq, list) else nq\n",
    "\n",
    "        t_vector = np.block([np.array(theta_prev), d_vector]) if isinstance(d_vector, np.ndarray) else np.array(theta_prev)\n",
    "        # print(f't_vector:{t_vector}')\n",
    "        # print(f'probs[{level}].A:{probs[level].A}')\n",
    "        _, _, t_points, t_weights = get_quadrature_points(solution=sols[level], nq=nql, t_vector=t_vector)\n",
    "\n",
    "        t_points = t_points.flatten()\n",
    "        t_weights = t_weights.flatten()\n",
    "        # print('t_points:', t_points)\n",
    "        # print(f'theta_prev: {theta_prev}')\n",
    "        return sum(recurse(level + 1, theta_prev + [v], weight_prev * w) for v, w in zip(t_points, t_weights))\n",
    "\n",
    "    return recurse(level=0, theta_prev=[], weight_prev=1.0)\n"
   ],
   "metadata": {
    "collapsed": false,
    "ExecuteTime": {
     "end_time": "2025-06-20T00:42:54.138087Z",
     "start_time": "2025-06-20T00:42:54.123614Z"
    }
   },
   "id": "add4cab6188feea6",
   "outputs": [],
   "execution_count": 43
  },
  {
   "cell_type": "code",
   "source": [
    "sf_idx = calculate_stocflexibility(flexibility_sol=solution_flexibility, nt=nt, nq=16, theta_bounds=t_bounds, nd=nd, design_bounds=d_bounds, d_vector=d_vector)"
   ],
   "metadata": {
    "collapsed": false,
    "ExecuteTime": {
     "end_time": "2025-06-20T00:42:55.563490Z",
     "start_time": "2025-06-20T00:42:54.139171Z"
    }
   },
   "id": "209205b95c91a998",
   "outputs": [
    {
     "name": "stdout",
     "output_type": "stream",
     "text": [
      "Finished solving for theta1\n",
      "Using a found active set [10, 13, 14, 15, 17, 18]\n",
      "Finished solving for theta2\n",
      "Using a found active set [10, 11, 12, 13]\n",
      "Finished solving for theta3\n",
      "Using a found active set [2, 8]\n",
      "Finished solving for theta4\n",
      "finished solving all mp problems\n"
     ]
    }
   ],
   "execution_count": 44
  },
  {
   "cell_type": "code",
   "source": [
    "print(f'Stochastic Flexibility Index: {sf_idx:.4}')"
   ],
   "metadata": {
    "collapsed": false,
    "ExecuteTime": {
     "end_time": "2025-06-20T00:42:55.579396Z",
     "start_time": "2025-06-20T00:42:55.564723Z"
    }
   },
   "id": "47b493ee39df8350",
   "outputs": [
    {
     "name": "stdout",
     "output_type": "stream",
     "text": [
      "Stochastic Flexibility Index: 0.823\n"
     ]
    }
   ],
   "execution_count": 45
  },
  {
   "cell_type": "code",
   "outputs": [
    {
     "name": "stdout",
     "output_type": "stream",
     "text": [
      "Using a found active set [8, 14, 15]\n"
     ]
    }
   ],
   "source": [
    "# Bansal (2000) Example 4\n",
    "t_bounds = [(390, 410), (440, 460), (390, 410), (420, 440), (300, 320), (280, 300), (275, 295)]\n",
    "# nt = len(t_bounds)\n",
    "# nd = 0\n",
    "# d_bounds = None\n",
    "# d_vector = None\n",
    "\n",
    "m_t7 = MPModeler()\n",
    "\n",
    "t7_max = m_t7.add_var('t7_max')\n",
    "t7_min = m_t7.add_var('t7_min')\n",
    "z = m_t7.add_var('z')\n",
    "\n",
    "t1 = m_t7.add_param('t1')\n",
    "t2 = m_t7.add_param('t2')\n",
    "t3 = m_t7.add_param('t3')\n",
    "t4 = m_t7.add_param('t4')\n",
    "t5 = m_t7.add_param('t5')\n",
    "t6 = m_t7.add_param('t6')\n",
    "# t7 = m_t7.add_param('t7')\n",
    "\n",
    "m_t7.add_constr(5/12 * z + 1/3 * t3 + t6 + 1/3 * t7_max + -(682 + 1/2) <= 0)\n",
    "m_t7.add_constr(5/12 * z - 1/3 * t1 - 1/6 * t2 + 1/3 * t3 - 5/12 * t5 + t6 + 1/3 * t7_max - (357 + 1/2) <= 0)\n",
    "m_t7.add_constr(-7/12 * z + 2/3 * t1 + 1/3 * t2 + 1/3 * t3 + 5/6 * t5 + t6 + 1/3 * t7_max - (1007 + 1/2) <= 0)\n",
    "m_t7.add_constr(-5/12 * z - 1/3 * t3 - 1/3 * t7_max + (357 + 1/2) <= 0)\n",
    "m_t7.add_constr(z - t4 <= 0)\n",
    "m_t7.add_constr(4/5 * t3 + t6 + 4/5 * t7_max - 858 <= 0)\n",
    "m_t7.add_constr(t3 + t7_max - 700 <= 0)\n",
    "\n",
    "m_t7.add_constr(5/12 * z + 1/3 * t3 + t6 + 1/3 * t7_min + -(682 + 1/2) <= 0)\n",
    "m_t7.add_constr(5/12 * z - 1/3 * t1 - 1/6 * t2 + 1/3 * t3 - 5/12 * t5 + t6 + 1/3 * t7_min - (357 + 1/2) <= 0)\n",
    "m_t7.add_constr(-7/12 * z + 2/3 * t1 + 1/3 * t2 + 1/3 * t3 + 5/6 * t5 + t6 + 1/3 * t7_min - (1007 + 1/2) <= 0)\n",
    "m_t7.add_constr(-5/12 * z - 1/3 * t3 - 1/3 * t7_min + (357 + 1/2) <= 0)\n",
    "m_t7.add_constr(z - t4 <= 0)\n",
    "m_t7.add_constr(4/5 * t3 + t6 + 4/5 * t7_min - 858 <= 0)\n",
    "m_t7.add_constr(t3 + t7_min - 700 <= 0)\n",
    "\n",
    "m_t7.add_constr(t7_min <= t7_max)\n",
    "\n",
    "m_t7.add_constr(t_bounds[6][0] <= t7_max)\n",
    "m_t7.add_constr(t_bounds[6][0] <= t7_min)\n",
    "m_t7.add_constr(t7_max <= t_bounds[6][1])\n",
    "m_t7.add_constr(t7_min <= t_bounds[6][1])\n",
    "\n",
    "m_t7.add_constr(t_bounds[0][0] <= t1)\n",
    "m_t7.add_constr(t1 <= t_bounds[0][1])\n",
    "m_t7.add_constr(t_bounds[1][0] <= t2)\n",
    "m_t7.add_constr(t2 <= t_bounds[1][1])\n",
    "m_t7.add_constr(t_bounds[2][0] <= t3)\n",
    "m_t7.add_constr(t3 <= t_bounds[2][1])\n",
    "m_t7.add_constr(t_bounds[3][0] <= t4)\n",
    "m_t7.add_constr(t4 <= t_bounds[3][1])\n",
    "m_t7.add_constr(t_bounds[4][0] <= t5)\n",
    "m_t7.add_constr(t5 <= t_bounds[4][1])\n",
    "m_t7.add_constr(t_bounds[5][0] <= t6)\n",
    "m_t7.add_constr(t6 <= t_bounds[5][1])\n",
    "m_t7.set_objective(t7_min-t7_max)\n",
    "prob_t7 = m_t7.formulate_problem()\n",
    "prob_t7.process_constraints()\n",
    "\n",
    "solution_t7 = solve_mpqp(problem=prob_t7, algorithm=mpqp_algorithm.geometric)\n",
    "\n",
    "# def joint_pdf(theta:list):\n",
    "#     return (5.00e-8) * (0.05*(theta[0]-390))**(0.2) * (1 - 0.05*(theta[0]-390))**(0.2) *\\\n",
    "#            (0.05*(theta[1]-440))**(0.2) * (1 - 0.05*(theta[1]-440))**(0.2) * \\\n",
    "#            (0.05*(theta[4]-300))**(0.2) * (1 - 0.05*(theta[4]-300))**(0.2)"
   ],
   "metadata": {
    "collapsed": false,
    "ExecuteTime": {
     "end_time": "2025-06-20T00:42:48.845999Z",
     "start_time": "2025-06-20T00:42:48.675258Z"
    }
   },
   "id": "44012c24d8be5457",
   "execution_count": 27
  },
  {
   "cell_type": "code",
   "outputs": [
    {
     "data": {
      "text/plain": "5"
     },
     "execution_count": 28,
     "metadata": {},
     "output_type": "execute_result"
    }
   ],
   "source": [
    "len(solution_t7.critical_regions)"
   ],
   "metadata": {
    "collapsed": false,
    "ExecuteTime": {
     "end_time": "2025-06-20T00:42:48.861722Z",
     "start_time": "2025-06-20T00:42:48.848168Z"
    }
   },
   "id": "a40102ad2623cbe5",
   "execution_count": 28
  },
  {
   "cell_type": "code",
   "outputs": [],
   "source": [
    "idx = 1"
   ],
   "metadata": {
    "collapsed": false,
    "ExecuteTime": {
     "end_time": "2025-06-20T00:42:48.877308Z",
     "start_time": "2025-06-20T00:42:48.862765Z"
    }
   },
   "id": "17870cc75c5ab154",
   "execution_count": 29
  },
  {
   "cell_type": "code",
   "outputs": [
    {
     "data": {
      "text/plain": "array([[ 0.00000000e+00,  0.00000000e+00,  3.08194812e-17,\n         0.00000000e+00,  0.00000000e+00,  9.24584437e-17],\n       [ 0.00000000e+00,  0.00000000e+00,  0.00000000e+00,\n         0.00000000e+00,  0.00000000e+00,  0.00000000e+00],\n       [ 0.00000000e+00,  0.00000000e+00, -8.00000000e-01,\n         0.00000000e+00,  0.00000000e+00, -2.40000000e+00]])"
     },
     "execution_count": 30,
     "metadata": {},
     "output_type": "execute_result"
    }
   ],
   "source": [
    "solution_t7.critical_regions[idx].A"
   ],
   "metadata": {
    "collapsed": false,
    "ExecuteTime": {
     "end_time": "2025-06-20T00:42:48.891994Z",
     "start_time": "2025-06-20T00:42:48.878466Z"
    }
   },
   "id": "dc015930e198737b",
   "execution_count": 30
  },
  {
   "cell_type": "code",
   "outputs": [
    {
     "data": {
      "text/plain": "array([[ 295.],\n       [ 275.],\n       [1402.]])"
     },
     "execution_count": 31,
     "metadata": {},
     "output_type": "execute_result"
    }
   ],
   "source": [
    "solution_t7.critical_regions[idx].b"
   ],
   "metadata": {
    "collapsed": false,
    "ExecuteTime": {
     "end_time": "2025-06-20T00:42:48.907745Z",
     "start_time": "2025-06-20T00:42:48.893060Z"
    }
   },
   "id": "8b024438b849c699",
   "execution_count": 31
  },
  {
   "cell_type": "code",
   "outputs": [
    {
     "ename": "ValueError",
     "evalue": "could not broadcast input array from shape (4,) into shape (7,)",
     "output_type": "error",
     "traceback": [
      "\u001B[1;31m---------------------------------------------------------------------------\u001B[0m",
      "\u001B[1;31mValueError\u001B[0m                                Traceback (most recent call last)",
      "Cell \u001B[1;32mIn[32], line 1\u001B[0m\n\u001B[1;32m----> 1\u001B[0m p, s \u001B[38;5;241m=\u001B[39m \u001B[43mget_theta_bounds\u001B[49m\u001B[43m(\u001B[49m\u001B[43mflex_sol\u001B[49m\u001B[38;5;241;43m=\u001B[39;49m\u001B[43msolution_flexibility\u001B[49m\u001B[43m,\u001B[49m\u001B[43m \u001B[49m\u001B[43mnumt\u001B[49m\u001B[38;5;241;43m=\u001B[39;49m\u001B[38;5;241;43m7\u001B[39;49m\u001B[43m,\u001B[49m\u001B[43m \u001B[49m\u001B[43mtbounds\u001B[49m\u001B[38;5;241;43m=\u001B[39;49m\u001B[43mt_bounds\u001B[49m\u001B[43m)\u001B[49m\n",
      "Cell \u001B[1;32mIn[23], line 6\u001B[0m, in \u001B[0;36mget_theta_bounds\u001B[1;34m(flex_sol, numt, tbounds, numd, dbounds)\u001B[0m\n\u001B[0;32m      4\u001B[0m prob_dict \u001B[38;5;241m=\u001B[39m defaultdict(\u001B[38;5;28mdict\u001B[39m)\n\u001B[0;32m      5\u001B[0m \u001B[38;5;28;01mfor\u001B[39;00m i \u001B[38;5;129;01min\u001B[39;00m \u001B[38;5;28mrange\u001B[39m(numt):\n\u001B[1;32m----> 6\u001B[0m     A, b, c, H, A_t, b_t, F \u001B[38;5;241m=\u001B[39m \u001B[43mmpformulate_theta_bounds\u001B[49m\u001B[43m(\u001B[49m\u001B[43mflex_sol\u001B[49m\u001B[38;5;241;43m=\u001B[39;49m\u001B[43mflex_sol\u001B[49m\u001B[43m,\u001B[49m\u001B[43m \u001B[49m\u001B[43mnum_theta\u001B[49m\u001B[38;5;241;43m=\u001B[39;49m\u001B[43mnumt\u001B[49m\u001B[43m \u001B[49m\u001B[43m,\u001B[49m\u001B[43mnum_design\u001B[49m\u001B[38;5;241;43m=\u001B[39;49m\u001B[43mnumd\u001B[49m\u001B[43m,\u001B[49m\u001B[43m \u001B[49m\u001B[43mtheta_bounds\u001B[49m\u001B[38;5;241;43m=\u001B[39;49m\u001B[43mtbounds\u001B[49m\u001B[43m,\u001B[49m\u001B[43m \u001B[49m\u001B[43mdesign_bounds\u001B[49m\u001B[38;5;241;43m=\u001B[39;49m\u001B[43mdbounds\u001B[49m\u001B[43m,\u001B[49m\u001B[43m \u001B[49m\u001B[43mtheta_m\u001B[49m\u001B[38;5;241;43m=\u001B[39;49m\u001B[43mi\u001B[49m\u001B[43m)\u001B[49m\n\u001B[0;32m      7\u001B[0m     \u001B[38;5;28;01mif\u001B[39;00m F\u001B[38;5;241m.\u001B[39msize \u001B[38;5;241m!=\u001B[39m \u001B[38;5;241m0\u001B[39m:\n\u001B[0;32m      8\u001B[0m         prob \u001B[38;5;241m=\u001B[39m MPLP_Program(A\u001B[38;5;241m=\u001B[39mA, b\u001B[38;5;241m=\u001B[39mb, c\u001B[38;5;241m=\u001B[39mc, H\u001B[38;5;241m=\u001B[39mH, A_t\u001B[38;5;241m=\u001B[39mA_t, b_t\u001B[38;5;241m=\u001B[39mb_t, F\u001B[38;5;241m=\u001B[39mF)\n",
      "Cell \u001B[1;32mIn[22], line 5\u001B[0m, in \u001B[0;36mmpformulate_theta_bounds\u001B[1;34m(flex_sol, num_theta, theta_bounds, num_design, design_bounds, psi_idx, theta_m)\u001B[0m\n\u001B[0;32m      3\u001B[0m num_cr \u001B[38;5;241m=\u001B[39m \u001B[38;5;28mlen\u001B[39m(flex_sol\u001B[38;5;241m.\u001B[39mcritical_regions)\n\u001B[0;32m      4\u001B[0m \u001B[38;5;28;01mfor\u001B[39;00m i, region \u001B[38;5;129;01min\u001B[39;00m \u001B[38;5;28menumerate\u001B[39m(flex_sol\u001B[38;5;241m.\u001B[39mcritical_regions):\n\u001B[1;32m----> 5\u001B[0m     A0[i] \u001B[38;5;241m=\u001B[39m region\u001B[38;5;241m.\u001B[39mA[psi_idx,:num_theta]\n\u001B[0;32m      6\u001B[0m     b0[i] \u001B[38;5;241m=\u001B[39m \u001B[38;5;241m-\u001B[39mregion\u001B[38;5;241m.\u001B[39mb[psi_idx]\n\u001B[0;32m      7\u001B[0m     F0[i] \u001B[38;5;241m=\u001B[39m \u001B[38;5;241m-\u001B[39mregion\u001B[38;5;241m.\u001B[39mA[psi_idx, num_theta:num_theta\u001B[38;5;241m+\u001B[39mnum_design]\n",
      "\u001B[1;31mValueError\u001B[0m: could not broadcast input array from shape (4,) into shape (7,)"
     ]
    }
   ],
   "source": [
    "p, s = get_theta_bounds(flex_sol=solution_flexibility, numt=7, tbounds=t_bounds)"
   ],
   "metadata": {
    "collapsed": false,
    "ExecuteTime": {
     "end_time": "2025-06-20T00:42:49.480866Z",
     "start_time": "2025-06-20T00:42:48.908822Z"
    }
   },
   "id": "c254fe2f64f7bc82",
   "execution_count": 32
  },
  {
   "cell_type": "code",
   "outputs": [],
   "source": [
    "len(s[6].critical_regions)"
   ],
   "metadata": {
    "collapsed": false,
    "ExecuteTime": {
     "end_time": "2025-06-20T00:42:49.481935Z",
     "start_time": "2025-06-20T00:42:49.481935Z"
    }
   },
   "id": "432c17035f023f86",
   "execution_count": null
  },
  {
   "cell_type": "code",
   "outputs": [],
   "source": [
    "s[6].critical_regions[1].A"
   ],
   "metadata": {
    "collapsed": false,
    "ExecuteTime": {
     "end_time": "2025-06-20T00:42:49.483074Z",
     "start_time": "2025-06-20T00:42:49.483074Z"
    }
   },
   "id": "5289f600a92e353e",
   "execution_count": null
  },
  {
   "cell_type": "code",
   "outputs": [],
   "source": [
    "s[6].critical_regions[1].b"
   ],
   "metadata": {
    "collapsed": false,
    "ExecuteTime": {
     "start_time": "2025-06-20T00:42:49.483074Z"
    }
   },
   "id": "86c0361f15ccc0dd",
   "execution_count": null
  },
  {
   "cell_type": "code",
   "outputs": [],
   "source": [
    "p[6].A"
   ],
   "metadata": {
    "collapsed": false,
    "ExecuteTime": {
     "start_time": "2025-06-20T00:42:49.484074Z"
    }
   },
   "id": "68ea7cc8cc8a1774",
   "execution_count": null
  },
  {
   "cell_type": "code",
   "outputs": [],
   "source": [
    "prob_t7.A"
   ],
   "metadata": {
    "collapsed": false,
    "ExecuteTime": {
     "start_time": "2025-06-20T00:42:49.485112Z"
    }
   },
   "id": "4a19b73856354e3d",
   "execution_count": null
  },
  {
   "cell_type": "code",
   "outputs": [],
   "source": [],
   "metadata": {
    "collapsed": false,
    "ExecuteTime": {
     "start_time": "2025-06-20T00:42:49.485112Z"
    }
   },
   "id": "5100042ae4949013",
   "execution_count": null
  },
  {
   "cell_type": "code",
   "outputs": [],
   "source": [],
   "metadata": {
    "collapsed": false,
    "ExecuteTime": {
     "start_time": "2025-06-20T00:42:49.486143Z"
    }
   },
   "id": "99a478dd506f2f5c",
   "execution_count": null
  }
 ],
 "metadata": {
  "kernelspec": {
   "display_name": "Python 3",
   "language": "python",
   "name": "python3"
  },
  "language_info": {
   "codemirror_mode": {
    "name": "ipython",
    "version": 2
   },
   "file_extension": ".py",
   "mimetype": "text/x-python",
   "name": "python",
   "nbconvert_exporter": "python",
   "pygments_lexer": "ipython2",
   "version": "2.7.6"
  }
 },
 "nbformat": 4,
 "nbformat_minor": 5
}
