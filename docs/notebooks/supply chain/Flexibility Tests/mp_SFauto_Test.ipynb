{
 "cells": [
  {
   "cell_type": "code",
   "id": "initial_id",
   "metadata": {
    "collapsed": true,
    "ExecuteTime": {
     "end_time": "2025-07-07T16:20:23.671756Z",
     "start_time": "2025-07-07T16:20:22.818241Z"
    }
   },
   "source": [
    "import numpy as np\n",
    "from ppopt.mplp_program import MPLP_Program\n",
    "from ppopt.mpmodel import MPModeler\n",
    "from ppopt.mp_solvers.solve_mpqp import solve_mpqp, mpqp_algorithm\n",
    "from ppopt.plot import parametric_plot\n",
    "from numpy.polynomial.legendre import leggauss\n",
    "from scipy.optimize import linprog\n",
    "from typing import Union\n",
    "from collections import defaultdict\n",
    "from itertools import product\n",
    "import time\n",
    "import sympy as sp\n",
    "from typing import Union"
   ],
   "outputs": [],
   "execution_count": 1
  },
  {
   "cell_type": "code",
   "source": [
    "# Bansal (2000) Illustrative Example\n",
    "t_bounds=[(0,4),(0,4)]\n",
    "d_bounds=[(0,5), (0,5)]\n",
    "d_vector = np.array([3.2, 0.4])\n",
    "nt = len(t_bounds)\n",
    "nd = len(d_bounds)\n",
    "\n",
    "m = MPModeler()\n",
    "\n",
    "u = m.add_var(name='u')\n",
    "x = m.add_var(name='x')\n",
    "z = m.add_var(name='z')\n",
    "\n",
    "t1 = m.add_param(name='t1')\n",
    "t2 = m.add_param(name='t2')\n",
    "d1 = m.add_param(name='d1')\n",
    "d2 = m.add_param(name='d2')\n",
    "m.add_constr(2*x - 3*z + t1 - d2 == 0)\n",
    "m.add_constr(x - z/2 -t1/2 +t2/2 +d1 -7*d2/2 <= u)\n",
    "m.add_constr(-2*x +2*z -4*t1/3 -t2 +2*d2 +1/3<= u)\n",
    "m.add_constr(-x + 5*z/2 +t1/2 -t2 -d1 +d2/2 -1 <= u)\n",
    "m.add_constr(-50 <= x)\n",
    "m.add_constr(-50 <= z)\n",
    "m.add_constr(t_bounds[0][0] <= t1)\n",
    "m.add_constr(t_bounds[1][0] <= t2)\n",
    "m.add_constr(d_bounds[0][0] <= d1)\n",
    "m.add_constr(d_bounds[1][0] <= d2)\n",
    "m.add_constr(t1 <= t_bounds[0][1])\n",
    "m.add_constr(t2 <= t_bounds[1][1])\n",
    "m.add_constr(d1 <= d_bounds[0][1])\n",
    "m.add_constr(d2 <= d_bounds[1][1])\n",
    "m.set_objective(u)\n",
    "prob = m.formulate_problem()\n",
    "prob.process_constraints()\n",
    "solution_flexibility = solve_mpqp(problem=prob, algorithm=mpqp_algorithm.geometric)\n",
    "\n",
    "def joint_pdf(theta:list):\n",
    "    return (2/np.pi)*np.exp(-2*((theta[0]-2)**2 + (theta[1]-2)**2))"
   ],
   "metadata": {
    "collapsed": false,
    "ExecuteTime": {
     "end_time": "2025-07-07T16:20:23.733491Z",
     "start_time": "2025-07-07T16:20:23.672798Z"
    }
   },
   "id": "bfad65f16b4527e9",
   "outputs": [
    {
     "name": "stdout",
     "output_type": "stream",
     "text": [
      "Set parameter Username\n",
      "Academic license - for non-commercial use only - expires 2025-12-20\n",
      "Using a found active set [0, 1, 2]\n"
     ]
    }
   ],
   "execution_count": 2
  },
  {
   "metadata": {
    "ExecuteTime": {
     "end_time": "2025-07-07T16:20:23.749243Z",
     "start_time": "2025-07-07T16:20:23.734555Z"
    }
   },
   "cell_type": "code",
   "source": [
    "# # Straub and Grossmann (1990) Example 2\n",
    "# t_bounds=[(0,80),(0,80)]\n",
    "# d_bounds=[(0,10), (0,10)]\n",
    "# d_vector = np.array([1,8])\n",
    "# nt = len(t_bounds)\n",
    "# nd = len(d_bounds)\n",
    "# m = MPModeler()\n",
    "# \n",
    "# u = m.add_var(name='u')\n",
    "# z = m.add_var(name='z')\n",
    "# \n",
    "# t1 = m.add_param(name='t1')\n",
    "# t2 = m.add_param(name='t2')\n",
    "# d1 = m.add_param(name='d1')\n",
    "# d2 = m.add_param(name='d2')\n",
    "# m.add_constr(z - 1.6*(t1-20) - 0.6*(t2-20) + d1 - 14 <= u)\n",
    "# m.add_constr(z - 0.85*(t1-20) - 0.925*(t2-20) + d1 + d2 -20 <= u)\n",
    "# m.add_constr(z - 1.1*(t1-20) - 1.4*(t2-20) + d2 - 8 <= u)\n",
    "# m.add_constr(-z + (t1-20) + (t2-20) + d1 + d2 - 7 <= u)\n",
    "# m.add_constr(t_bounds[0][0] <= t1)\n",
    "# m.add_constr(t_bounds[1][0] <= t2)\n",
    "# m.add_constr(d_bounds[0][0] <= d1)\n",
    "# m.add_constr(d_bounds[1][0] <= d2)\n",
    "# m.add_constr(t1 <= t_bounds[0][1])\n",
    "# m.add_constr(t2 <= t_bounds[1][1])\n",
    "# m.add_constr(d1 <= d_bounds[0][1])\n",
    "# m.add_constr(d2 <= d_bounds[1][1])\n",
    "# m.set_objective(u)\n",
    "# prob = m.formulate_problem()\n",
    "# prob.process_constraints()\n",
    "# solution_flexibility = solve_mpqp(problem=prob, algorithm=mpqp_algorithm.geometric)\n",
    "# \n",
    "# def joint_pdf(theta:list):\n",
    "#     return (1/628.32)*np.exp((-(theta[0]-40)**2 - (theta[1]-40)**2)/200)"
   ],
   "id": "b6eda4f201c35814",
   "outputs": [],
   "execution_count": 3
  },
  {
   "metadata": {
    "ExecuteTime": {
     "end_time": "2025-07-07T16:20:23.764915Z",
     "start_time": "2025-07-07T16:20:23.750278Z"
    }
   },
   "cell_type": "code",
   "source": [
    "# # Pistikopoulos and Mazzuchi (1990) Example 1\n",
    "# t_bounds = [(610, 630), (378, 398), (573, 593), (303, 323)]\n",
    "# # t_bounds = [(586.68, 653.32), (354.68, 421.32), (549.68, 616.32), (279.68, 346.32)]\n",
    "# nt = len(t_bounds)\n",
    "# nd = 0\n",
    "# d_bounds = None\n",
    "# d_vector = None\n",
    "# m = MPModeler()\n",
    "# \n",
    "# u = m.add_var(name=\"u\")\n",
    "# z = m.add_var(name=\"z\")\n",
    "# \n",
    "# t1 = m.add_param(name=\"t1\")\n",
    "# t2 = m.add_param(name=\"t2\")\n",
    "# t3 = m.add_param(name=\"t3\")\n",
    "# t4 = m.add_param(name=\"t4\")\n",
    "# \n",
    "# m.add_constr(-z + 1.5*t2 - 525 <= u)\n",
    "# m.add_constr(z - 1.5*t1 - 2*t2 - 2*t3 + 2777 <= u)\n",
    "# m.add_constr(z - 1.5*t1 - 2*t2 - t3 + 2044 <= u)\n",
    "# m.add_constr(z - 1.5*t1 - 2*t2 - t3 - 2*t4 + 2830 <= u)\n",
    "# m.add_constr(-z + 1.5*t1 + 2*t2 + t3 + 3*t4 - 3153 <= u)\n",
    "# m.add_constr(t_bounds[0][0] <= t1)\n",
    "# m.add_constr(t1 <= t_bounds[0][1])\n",
    "# m.add_constr(t_bounds[1][0] <= t2)\n",
    "# m.add_constr(t2 <= t_bounds[1][1])\n",
    "# m.add_constr(t_bounds[2][0] <= t3)\n",
    "# m.add_constr(t3 <= t_bounds[2][1])\n",
    "# m.add_constr(t_bounds[3][0] <= t4)\n",
    "# m.add_constr(t4 <= t_bounds[3][1])\n",
    "# m.set_objective(u)\n",
    "# prob = m.formulate_problem()\n",
    "# prob.process_constraints()\n",
    "# \n",
    "# solution_flexibility = solve_mpqp(problem=prob, algorithm=mpqp_algorithm.geometric)\n",
    "# \n",
    "# def joint_pdf(theta:list):\n",
    "#     return (1/(5000*np.pi))*np.exp(-0.08*((theta[0]-620)**2 + (theta[1]-388)**2))"
   ],
   "id": "aa80828de74205f5",
   "outputs": [],
   "execution_count": 4
  },
  {
   "cell_type": "code",
   "source": [
    "# # Bansal (2000) Example 4\n",
    "# t_bounds = [(390, 410), (440, 460), (390, 410), (420, 440), (300, 320), (280, 300), (275, 295)]\n",
    "# nt = len(t_bounds)\n",
    "# nd = 0\n",
    "# d_bounds = None\n",
    "# d_vector = None\n",
    "# m = MPModeler()\n",
    "# \n",
    "# u = m.add_var('u')\n",
    "# z = m.add_var('z')\n",
    "# \n",
    "# t1 = m.add_param('t1')\n",
    "# t2 = m.add_param('t2')\n",
    "# t3 = m.add_param('t3')\n",
    "# t4 = m.add_param('t4')\n",
    "# t5 = m.add_param('t5')\n",
    "# t6 = m.add_param('t6')\n",
    "# t7 = m.add_param('t7')\n",
    "# \n",
    "# m.add_constr(5/12 * z + 1/3 * t3 + t6 + 1/3 * t7 + -(682 + 1/2) <= u)\n",
    "# m.add_constr(5/12 * z - 1/3 * t1 - 1/6 * t2 + 1/3 * t3 - 5/12 * t5 + t6 + 1/3 * t7 - (357 + 1/2) <= u)\n",
    "# m.add_constr(-7/12 * z + 2/3 * t1 + 1/3 * t2 + 1/3 * t3 + 5/6 * t5 + t6 + 1/3 * t7 - (1007 + 1/2) <= u)\n",
    "# m.add_constr(-5/12 * z - 1/3 * t3 - 1/3 * t7 + (357 + 1/2) <= u)\n",
    "# m.add_constr(z - t4 <= u)\n",
    "# m.add_constr(4/5 * t3 + t6 + 4/5 * t7 - 858 <= u)\n",
    "# m.add_constr(t3 + t7 - 700 <= u)\n",
    "# \n",
    "# m.add_constr(t_bounds[0][0] <= t1)\n",
    "# m.add_constr(t1 <= t_bounds[0][1])\n",
    "# m.add_constr(t_bounds[1][0] <= t2)\n",
    "# m.add_constr(t2 <= t_bounds[1][1])\n",
    "# m.add_constr(t_bounds[2][0] <= t3)\n",
    "# m.add_constr(t3 <= t_bounds[2][1])\n",
    "# m.add_constr(t_bounds[3][0] <= t4)\n",
    "# m.add_constr(t4 <= t_bounds[3][1])\n",
    "# m.add_constr(t_bounds[4][0] <= t5)\n",
    "# m.add_constr(t5 <= t_bounds[4][1])\n",
    "# m.add_constr(t_bounds[5][0] <= t6)\n",
    "# m.add_constr(t6 <= t_bounds[5][1])\n",
    "# m.add_constr(t_bounds[6][0] <= t7)\n",
    "# m.add_constr(t7 <= t_bounds[6][1])\n",
    "# m.set_objective(u)\n",
    "# prob = m.formulate_problem()\n",
    "# prob.process_constraints()\n",
    "# \n",
    "# solution_flexibility = solve_mpqp(problem=prob, algorithm=mpqp_algorithm.geometric)\n",
    "# \n",
    "# def joint_pdf(theta:list):\n",
    "#     return (2.5e-9) * (0.05*(theta[0]-390))**(0.2) * (1 - (0.05*(theta[0]-390)))**(0.2) * (0.05*(theta[1]-440))**(0.2) * (1 - (0.05*(theta[1]-440)))**(0.2) * (0.05*(theta[4]-300))**(0.2) * (1 - (0.05*(theta[4]-300)))**(0.2)"
   ],
   "metadata": {
    "collapsed": false,
    "ExecuteTime": {
     "end_time": "2025-07-07T16:20:23.779550Z",
     "start_time": "2025-07-07T16:20:23.765978Z"
    }
   },
   "id": "7aab95f5307c38c3",
   "outputs": [],
   "execution_count": 5
  },
  {
   "metadata": {
    "ExecuteTime": {
     "end_time": "2025-07-07T16:20:23.783741Z",
     "start_time": "2025-07-07T16:20:23.781648Z"
    }
   },
   "cell_type": "code",
   "source": [
    "# for i in range(len(solution_flexibility)):\n",
    "#     print(f'i:{i}\\nA:{solution_flexibility.critical_regions[i].A}\\nb:{solution_flexibility.critical_regions[i].b}')"
   ],
   "id": "c381518ae0bbe659",
   "outputs": [],
   "execution_count": 6
  },
  {
   "cell_type": "code",
   "source": [
    "def gauss_legendre_between_bounds(expr_coeffs: np.ndarray, n_gl: int, max_idx: int = 0, min_idx: int = 1):\n",
    "    \"\"\"\n",
    "    Generate n Gauss–Legendre quadrature points and weights between min and max bounds\n",
    "    defined by two linear expressions.\n",
    "\n",
    "    Parameters:\n",
    "        expr_coeffs (np.ndarray): 2xD array. Row 0 = max point co`efficients, Row 1 = min.\n",
    "        n (int): Number of quadrature points.\n",
    "\n",
    "    Returns:\n",
    "        points (np.ndarray): (n, D) array of quadrature points.\n",
    "        weights (np.ndarray): (n,) array of weights.\n",
    "    \"\"\"\n",
    "    if expr_coeffs.shape[0] != 2:\n",
    "        raise ValueError(\"expr_coeffs must have two rows\")\n",
    "\n",
    "    max_coeffs = expr_coeffs[max_idx]\n",
    "    min_coeffs = expr_coeffs[min_idx]\n",
    "\n",
    "    # Get Gauss–Legendre points and weights on [-1, 1]\n",
    "    nodes, weights = leggauss(n_gl)\n",
    "    weights = weights.reshape(-1,1)\n",
    "    \n",
    "    # Affine transformation to domain [min_coeffs, max_coeffs]\n",
    "    points = 0.5 * (np.outer((nodes + 1), max_coeffs) + np.outer((1 - nodes), min_coeffs))\n",
    "\n",
    "    # Adjust weights to match new domain\n",
    "    weights = 0.5 * weights@(max_coeffs - min_coeffs).reshape(1,-1)\n",
    "\n",
    "    return points, weights"
   ],
   "metadata": {
    "collapsed": false,
    "ExecuteTime": {
     "end_time": "2025-07-07T16:20:23.795173Z",
     "start_time": "2025-07-07T16:20:23.784787Z"
    }
   },
   "id": "812c564dfe15edde",
   "outputs": [],
   "execution_count": 7
  },
  {
   "cell_type": "code",
   "source": [
    "# def get_quadrature_points(solution, nq: int, t_vector: np.ndarray):\n",
    "#     # Augment t_vector once\n",
    "#     t_vector_aug = np.append(t_vector, 1).reshape(-1, 1)\n",
    "#     \n",
    "#     if isinstance(solution, list):\n",
    "#         qpoints, qweights = np.polynomial.legendre.leggauss(nq)\n",
    "#         min, max = solution[0], solution[1]\n",
    "#         qps_mapped = 0.5*(max*(1+qpoints) + min*(1-qpoints))\n",
    "#         qws_mapped = 0.5*(max-min)*qweights\n",
    "#         # print(max, min, qps_mapped, qws_mapped)\n",
    "#         return max, min, qps_mapped, qws_mapped\n",
    "#     \n",
    "#     for region in solution.critical_regions:\n",
    "#         if region.is_inside(t_vector):\n",
    "#             coeffs = np.concatenate([region.A, region.b], axis=1)[:2, :]\n",
    "#             qpoints, qweights = gauss_legendre_between_bounds(expr_coeffs=coeffs, n_gl=nq)\n",
    "#             return coeffs[0] @ t_vector_aug, coeffs[1] @ t_vector_aug, qpoints @ t_vector_aug, qweights @ t_vector_aug\n",
    "#     \n",
    "#     # print(f't_vector: {t_vector}')\n",
    "#     # print(f'solution:{solution}')\n",
    "#     raise ValueError(\"No region found that contains the given t_vector.\")\n"
   ],
   "metadata": {
    "collapsed": false,
    "ExecuteTime": {
     "end_time": "2025-07-07T16:20:23.810822Z",
     "start_time": "2025-07-07T16:20:23.796244Z"
    }
   },
   "id": "7f5099cf107d0881",
   "outputs": [],
   "execution_count": 8
  },
  {
   "cell_type": "code",
   "outputs": [],
   "source": [
    "def get_quadrature_points(solution, nq: int, t_vector: Union[np.ndarray, list]):\n",
    "    \"\"\"\n",
    "    Returns symbolic coefficient matrices (not numerical evaluations).\n",
    "    Each row of t_points and t_weights is a list of coefficients for a linear expression in design variables.\n",
    "    Assumes t_vector is a placeholder and only used to determine dimensionality.\n",
    "    \"\"\"\n",
    "    \n",
    "    t_vector_np = np.array(t_vector)\n",
    "\n",
    "    if isinstance(solution, list):  # if bounds are given directly\n",
    "        qpoints_1d, qweights_1d = np.polynomial.legendre.leggauss(nq)\n",
    "        min_val, max_val = solution[0], solution[1]\n",
    "\n",
    "        # Map points and weights from [-1,1] to [min, max]\n",
    "        qps_mapped = 0.5 * (max_val * (1 + qpoints_1d) + min_val * (1 - qpoints_1d))\n",
    "        qws_mapped = 0.5 * (max_val - min_val) * qweights_1d\n",
    "\n",
    "        # Represent each point and weight as a constant + 0*d1 + 0*d2 + ...\n",
    "        d_len = len(t_vector) if hasattr(t_vector, '__len__') else 1\n",
    "        coeffs_shape = (nq, d_len + 1)  # +1 for constant\n",
    "        t_point_coeffs = np.zeros(coeffs_shape)\n",
    "        t_weight_coeffs = np.zeros(coeffs_shape)\n",
    "\n",
    "        t_point_coeffs[:, -1] = qps_mapped\n",
    "        t_weight_coeffs[:, -1] = qws_mapped\n",
    "\n",
    "        return max_val, min_val, t_point_coeffs, t_weight_coeffs\n",
    "\n",
    "    # Region-based evaluation\n",
    "    for region in solution.critical_regions:\n",
    "        if region.is_inside(t_vector_np):\n",
    "            # expr_coeffs: 2 rows, each row is coefficients for [d1, d2, ..., 1]\n",
    "            expr_coeffs = np.concatenate([region.A, region.b], axis=1)[:2, :]\n",
    "\n",
    "            qpoints, qweights = gauss_legendre_between_bounds(expr_coeffs=expr_coeffs, n_gl=nq)\n",
    "\n",
    "            # Return coefficient matrices directly instead of evaluating at t_vector\n",
    "            return (\n",
    "                expr_coeffs[0], expr_coeffs[1],  # max, min coeffs (can be ignored if unused)\n",
    "                qpoints, qweights                # each row: [a1, a2, ..., constant]\n",
    "            )\n",
    "\n",
    "    raise ValueError(\"No region found that contains the given t_vector.\")\n"
   ],
   "metadata": {
    "collapsed": false,
    "ExecuteTime": {
     "end_time": "2025-07-07T16:20:23.826880Z",
     "start_time": "2025-07-07T16:20:23.811880Z"
    }
   },
   "id": "1e95726effda9ad2",
   "execution_count": 9
  },
  {
   "metadata": {
    "ExecuteTime": {
     "end_time": "2025-07-07T16:20:23.842883Z",
     "start_time": "2025-07-07T16:20:23.827881Z"
    }
   },
   "cell_type": "code",
   "source": [
    "def mpformulate_theta_bounds(flex_sol, num_theta:int, theta_bounds:list, num_design:int=0, design_bounds:list=None, psi_idx:int=0, theta_m:int=0):\n",
    "    A0, b0, F0 = np.empty((len(flex_sol), num_theta)), np.empty((len(flex_sol), 1)), np.empty((len(flex_sol), num_design))\n",
    "    num_cr = len(flex_sol.critical_regions)\n",
    "    for i, region in enumerate(flex_sol.critical_regions):\n",
    "        A0[i] = region.A[psi_idx,:num_theta]\n",
    "        b0[i] = -region.b[psi_idx]\n",
    "        F0[i] = -region.A[psi_idx, num_theta:num_theta+num_design]\n",
    "    # print(f'num_cr:{num_cr}')\n",
    "    # print(f'num_theta:{num_theta}')\n",
    "    # print(f'num_design:{num_design}')\n",
    "    # print(f\"A0: {A0}\")\n",
    "    # print(f\"b0: {b0}\")\n",
    "    # print(f\"F0: {F0}\")\n",
    "    \n",
    "    c = np.hstack([np.array([-1, 1]).reshape(1, -1), np.zeros((1, 2 * (num_theta - 1 - theta_m)))]).reshape(-1,1)\n",
    "    # print(f'c:{c}')\n",
    "    # print(f'c.shape: {c.shape}')\n",
    "    \n",
    "    row1_block = np.hstack([block for i in range(theta_m, num_theta) for block in (A0[:, [i]], np.zeros((num_cr, 1)))])\n",
    "    row2_block = np.hstack([block for i in range(theta_m, num_theta) for block in (np.zeros((num_cr, 1)), A0[:, [i]])])\n",
    "    bound_row = np.hstack([np.array([-1, 1]).reshape(1, -1), np.zeros((1, 2 * (num_theta - 1 - theta_m)))])\n",
    "    A = np.vstack([row1_block, row2_block, bound_row, -np.eye(2*(num_theta-theta_m)), np.eye(2*(num_theta-theta_m))])\n",
    "    # print(f'A: {A}')\n",
    "    # print(f'A.shape: {A.shape}')\n",
    "    \n",
    "    x_lb = np.array([val for i in range(theta_m, len(theta_bounds)) for val in [theta_bounds[i][0]] * 2])\n",
    "    x_ub = np.array([val for i in range(theta_m, len(theta_bounds)) for val in [theta_bounds[i][1]] * 2])\n",
    "    b = np.vstack([b0, b0, np.zeros((1,1)), -x_lb.reshape(-1,1), x_ub.reshape(-1,1)])\n",
    "    # print(f'b: {b}')\n",
    "    # print(f'b.shape: {b.shape}')\n",
    "    \n",
    "    if F0.size==0 and theta_m==0:\n",
    "        # print('here')\n",
    "        return A, b, c, np.array([]), np.array([]), np.array([]), np.array([]) \n",
    "    \n",
    "    F = np.vstack([F0, F0, np.zeros((1,num_design)), np.zeros((4*(num_theta-theta_m), num_design))]) if num_design>0 else np.vstack([F0, F0])\n",
    "    # print(f'F:{F}')\n",
    "    # print(f'F.shape: {F.shape}')\n",
    "    if theta_m > 0:\n",
    "        F_lltheta = np.hstack([A0[:, [i]] for i in range(theta_m)])\n",
    "        # print(f'F_lltheta: {F_lltheta}')\n",
    "        # print(f'F_lltheta.shape: {F_lltheta.shape}')\n",
    "        F = np.hstack([np.vstack([-F_lltheta, -F_lltheta, np.zeros((1,len(range(theta_m)))), np.zeros((4*(num_theta-theta_m), theta_m))]), F]) if F.size > 0 else np.vstack([-F_lltheta, -F_lltheta, np.zeros((1,len(range(theta_m)))), np.zeros((4*(num_theta-theta_m), theta_m))])\n",
    "    # print(f'F:{F}')\n",
    "    # print(f'F.shape: {F.shape}')\n",
    "    \n",
    "    H = np.zeros((2*(num_theta-theta_m), theta_m+num_design))\n",
    "    # print(f'H:{H}')\n",
    "    # print(f'H.shape: {H.shape}')\n",
    "    \n",
    "    A_t = np.vstack([-np.eye(theta_m+num_design), np.eye(theta_m+num_design)])\n",
    "    # print(f'A_t:{A_t}')\n",
    "    # print(f'A_t.shape: {A_t.shape}')\n",
    "    \n",
    "    theta_lb = np.array([-theta_bounds[i][0] for i in range(theta_m)] + ([-j[0] for j in design_bounds] if isinstance(design_bounds, list) \n",
    "                                                                        else [])).reshape(-1, 1)\n",
    "    theta_ub = np.array([theta_bounds[i][1] for i in range(theta_m)] + ([j[1] for j in design_bounds] if isinstance(design_bounds, list) \n",
    "                                                                        else [])).reshape(-1, 1)\n",
    "    \n",
    "    b_t = np.vstack([theta_lb, theta_ub])\n",
    "    # print(f'b_t:{b_t}')\n",
    "    # print(f'b_t.shape: {b_t.shape}')\n",
    "    \n",
    "    return A, b, c, H, A_t, b_t, F"
   ],
   "id": "49667208fc1622cf",
   "outputs": [],
   "execution_count": 10
  },
  {
   "cell_type": "code",
   "outputs": [],
   "source": [
    "def get_theta_bounds(flex_sol, numt, tbounds, numd:int=0, dbounds:list=None):\n",
    "    \n",
    "    theta_bound_dict = defaultdict(dict)\n",
    "    prob_dict = defaultdict(dict)\n",
    "    for i in range(numt):\n",
    "        A, b, c, H, A_t, b_t, F = mpformulate_theta_bounds(flex_sol=flex_sol, num_theta=numt ,num_design=numd, theta_bounds=tbounds, design_bounds=dbounds, theta_m=i)\n",
    "        if F.size != 0:\n",
    "            prob = MPLP_Program(A=A, b=b, c=c, H=H, A_t=A_t, b_t=b_t, F=F)\n",
    "            prob.process_constraints()\n",
    "            solution = solve_mpqp(problem=prob, algorithm=mpqp_algorithm.geometric)\n",
    "            prob_dict[f't{i}'] = prob\n",
    "            theta_bound_dict[f't{i}'] = solution\n",
    "        else:\n",
    "            linsol = linprog(c=c, A_ub=A, b_ub=b)\n",
    "            prob_dict[f't{i}'] = linsol\n",
    "            theta_bound_dict[f't{i}'] = [linsol.x[1], linsol.x[0]]\n",
    "            # if linsol.success:\n",
    "                # print(\"Optimal value:\", linsol.fun)\n",
    "                # print(\"Optimal x:\", linsol.x)\n",
    "        print(f'Finished solving for theta{i+1}')\n",
    "    probs = [p for key, p in prob_dict.items()]\n",
    "    sols = [sol for key, sol in theta_bound_dict.items()]\n",
    "    \n",
    "    return probs, sols\n",
    "    "
   ],
   "metadata": {
    "ExecuteTime": {
     "end_time": "2025-07-07T16:20:23.858641Z",
     "start_time": "2025-07-07T16:20:23.844009Z"
    }
   },
   "id": "69a7a4487443671b",
   "execution_count": 11
  },
  {
   "cell_type": "code",
   "outputs": [],
   "source": [
    "def calculate_stocflexibility(flexibility_sol, nt:int, nq: Union[int, list], theta_bounds:list, nd:int=0, d_vector: np.ndarray = None, design_bounds:list = None) -> float:\n",
    "    \"\"\"\n",
    "    Calculates the stochastic flexibility index via nested Gauss–Legendre quadrature.\n",
    "\n",
    "    :param sols: list of solution objects (one per stage)\n",
    "    :param nq: int or list of ints; if int, used for all levels; if list, should match len(sols)\n",
    "    :param d_vector: base vector used to condition quadrature\n",
    "    :return: stochastic flexibility index\n",
    "    \"\"\"\n",
    "    start_time = time.time()\n",
    "    probs, sols = get_theta_bounds(flex_sol=flexibility_sol, numt=nt, numd=nd, tbounds=theta_bounds, dbounds=design_bounds)\n",
    "    end_time = time.time()\n",
    "    print(f'Elapsed time for solving mp problems: {end_time-start_time}')\n",
    "    # idx = 2\n",
    "    # print(f'probs[{idx}].A: {probs[idx].A}')\n",
    "    # print(f'probs[{idx}].b: {probs[idx].b}')\n",
    "    # print(f'probs[{idx}].c: {probs[idx].c}')\n",
    "    # print(f'probs[{idx}].H: {probs[idx].H}')\n",
    "    # print(f'probs[{idx}].Q_t: {probs[idx].Q_t}')\n",
    "    # print(f'probs[{idx}].c_t: {probs[idx].c_t}')\n",
    "    # print(f'probs[{idx}].c_c: {probs[idx].c_c}')\n",
    "    # print(f'probs[{idx}].F: {probs[idx].F}')\n",
    "    # print(f'probs[{idx}].At: {probs[idx].A_t}')\n",
    "    # print(f'probs[{idx}].bt: {probs[idx].b_t}')\n",
    "    # print(f'sols[{idx}: {sols[idx]}')\n",
    "    # print(f'sols.type: {type(sols)}')\n",
    "    # print(f'sols: {sols}')\n",
    "    # print(f\"ncr:{len(sols[idx].critical_regions)}\")\n",
    "    # print('finished solving all mp problems')\n",
    "    # parametric_plot(solution=sols[idx])\n",
    "    # Validate nq if it's a list\n",
    "    if isinstance(nq, list):\n",
    "        if len(nq) != len(sols):\n",
    "            raise ValueError(\"If nq is a list, it must have the same length as sols\")\n",
    "\n",
    "    def recurse(level: int, theta_prev: list, weight_prev: float) -> float:\n",
    "        \"\"\"\n",
    "        Recursive inner function to compute nested quadrature.\n",
    "        \"\"\"\n",
    "        # print(f'level:{level}')\n",
    "        if level == len(sols):\n",
    "            return weight_prev * joint_pdf(theta_prev)\n",
    "\n",
    "        # Use nq[level] if nq is a list, otherwise use scalar nq\n",
    "        nql = nq[level] if isinstance(nq, list) else nq\n",
    "\n",
    "        t_vector = np.block([np.array(theta_prev), d_vector]) if isinstance(d_vector, np.ndarray) else np.array(theta_prev)\n",
    "        # print(f't_vector:{t_vector}')\n",
    "        # print(f'probs[{level}].A:{probs[level].A}')\n",
    "        _, _, t_points, t_weights = get_quadrature_points(solution=sols[level], nq=nql, t_vector=t_vector)\n",
    "\n",
    "        t_points = t_points.flatten()\n",
    "        t_weights = t_weights.flatten()\n",
    "        # print('t_points:', t_points)\n",
    "        # print(f'theta_prev: {theta_prev}')\n",
    "        return sum(recurse(level + 1, theta_prev + [v], weight_prev * w) for v, w in zip(t_points, t_weights))\n",
    "    s = time.time()\n",
    "    stflex =  recurse(level=0, theta_prev=[], weight_prev=1.0)\n",
    "    e = time.time()\n",
    "    print(f'Elapsed time for calculating sf index: {e - s}')\n",
    "    return probs, sols, stflex\n"
   ],
   "metadata": {
    "collapsed": false,
    "ExecuteTime": {
     "end_time": "2025-07-07T16:20:23.874416Z",
     "start_time": "2025-07-07T16:20:23.859703Z"
    }
   },
   "id": "add4cab6188feea6",
   "execution_count": 12
  },
  {
   "cell_type": "code",
   "outputs": [],
   "source": [
    "prob_list, sol_list, sf_idx = calculate_stocflexibility(flexibility_sol=solution_flexibility, nt=nt, nq=16, theta_bounds=t_bounds, nd=nd, design_bounds=d_bounds, d_vector=d_vector)"
   ],
   "metadata": {
    "collapsed": false,
    "ExecuteTime": {
     "end_time": "2025-07-07T16:20:23.890958Z",
     "start_time": "2025-07-07T16:20:23.875454Z"
    }
   },
   "id": "209205b95c91a998",
   "execution_count": 13
  },
  {
   "cell_type": "code",
   "outputs": [],
   "source": [
    "# print(f'Stochastic Flexibility Index: {sf_idx:.4}')"
   ],
   "metadata": {
    "collapsed": false,
    "ExecuteTime": {
     "end_time": "2025-07-07T16:20:23.907025Z",
     "start_time": "2025-07-07T16:20:23.892151Z"
    }
   },
   "id": "47b493ee39df8350",
   "execution_count": 14
  },
  {
   "cell_type": "code",
   "outputs": [],
   "source": [
    "# def calculate_symbolic_stocflexibility(flexibility_sol, nt:int, nq: Union[int, list], design_vars: list, theta_bounds:list, nd:int=0, design_bounds:list = None) -> sp.Expr:\n",
    "#     \"\"\"\n",
    "#     Symbolically calculates the stochastic flexibility index using Gauss–Legendre quadrature,\n",
    "#     where quadrature points and weights are linear expressions in design variables.\n",
    "# \n",
    "#     :param sols: list of solution objects\n",
    "#     :param nq: number of quadrature points (int or list of ints)\n",
    "#     :param design_vars: list of sympy symbols representing design variables (e.g. [d1, d2, ...])\n",
    "#     :return: sympy expression representing stochastic flexibility index\n",
    "#     \"\"\"\n",
    "#     \n",
    "#     start_time = time.time()\n",
    "#     probs, sols = get_theta_bounds(flex_sol=flexibility_sol, numt=nt, numd=nd, tbounds=theta_bounds, dbounds=design_bounds)\n",
    "#     end_time = time.time()\n",
    "#     print(f'Elapsed time for solving mp problems: {end_time-start_time}')\n",
    "#     \n",
    "#     if isinstance(nq, list):\n",
    "#         if len(nq) != len(sols):\n",
    "#             raise ValueError(\"If nq is a list, it must have the same length as sols\")\n",
    "#     \n",
    "#     def recurse(level: int, theta_prev: list, weight_prev: sp.Expr) -> sp.Expr:\n",
    "#         if level == len(sols):\n",
    "#             return weight_prev * joint_pdf(theta_prev)\n",
    "# \n",
    "#         # Resolve nq for this level\n",
    "#         nql = nq[level] if isinstance(nq, list) else nq\n",
    "# \n",
    "#         # Assume get_quadrature_points returns symbolic coefficient arrays of shape (nq, len(design_vars)+1)\n",
    "#         _, _, t_point_coeffs, t_weight_coeffs = get_quadrature_points(solution=sols[level], nq=nql, t_vector=design_vars)\n",
    "# \n",
    "#         expr = 0\n",
    "#         for i in range(t_point_coeffs.shape[0]):\n",
    "#             # Construct θᵢ and wᵢ as symbolic expressions\n",
    "#             θ_i = sum(t_point_coeffs[i, j] * design_vars[j] for j in range(len(design_vars))) + t_point_coeffs[i, -1]\n",
    "#             w_i = sum(t_weight_coeffs[i, j] * design_vars[j] for j in range(len(design_vars))) + t_weight_coeffs[i, -1]\n",
    "# \n",
    "#             expr += recurse(level + 1, theta_prev + [θ_i], weight_prev * w_i)\n",
    "# \n",
    "#         return expr\n",
    "#     s = time.time()\n",
    "#     stflex_expr =  recurse(0, [], 1)\n",
    "#     e = time.time()\n",
    "#     print(f'Elapsed time for calculating sf index: {e - s}')\n",
    "#     return probs, sols, stflex_expr"
   ],
   "metadata": {
    "collapsed": false,
    "ExecuteTime": {
     "end_time": "2025-07-07T16:20:23.922649Z",
     "start_time": "2025-07-07T16:20:23.908025Z"
    }
   },
   "id": "cfa3b8e12b506ca2",
   "execution_count": 15
  },
  {
   "cell_type": "code",
   "outputs": [
    {
     "name": "stdout",
     "output_type": "stream",
     "text": [
      "Using a found active set [6, 9, 11, 12]\n",
      "Finished solving for theta1\n",
      "Using a found active set [6, 7]\n",
      "Finished solving for theta2\n",
      "Elapsed time for solving mp problems: 0.08431577682495117\n"
     ]
    },
    {
     "ename": "ValueError",
     "evalue": "matmul: Input operand 1 has a mismatch in its core dimension 0, with gufunc signature (n?,k),(k,m?)->(n?,m?) (size 3 is different from 2)",
     "output_type": "error",
     "traceback": [
      "\u001B[1;31m---------------------------------------------------------------------------\u001B[0m",
      "\u001B[1;31mValueError\u001B[0m                                Traceback (most recent call last)",
      "Cell \u001B[1;32mIn[16], line 1\u001B[0m\n\u001B[1;32m----> 1\u001B[0m prob_list, sol_list, sf_expre \u001B[38;5;241m=\u001B[39m \u001B[43mcalculate_symbolic_stocflexibility\u001B[49m\u001B[43m(\u001B[49m\u001B[43mflexibility_sol\u001B[49m\u001B[38;5;241;43m=\u001B[39;49m\u001B[43msolution_flexibility\u001B[49m\u001B[43m,\u001B[49m\u001B[43m \u001B[49m\u001B[43mnt\u001B[49m\u001B[38;5;241;43m=\u001B[39;49m\u001B[43mnt\u001B[49m\u001B[43m,\u001B[49m\u001B[43m \u001B[49m\u001B[43mnq\u001B[49m\u001B[38;5;241;43m=\u001B[39;49m\u001B[38;5;241;43m8\u001B[39;49m\u001B[43m,\u001B[49m\u001B[43m \u001B[49m\u001B[43mtheta_bounds\u001B[49m\u001B[38;5;241;43m=\u001B[39;49m\u001B[43mt_bounds\u001B[49m\u001B[43m,\u001B[49m\u001B[43m \u001B[49m\u001B[43mnd\u001B[49m\u001B[38;5;241;43m=\u001B[39;49m\u001B[43mnd\u001B[49m\u001B[43m,\u001B[49m\u001B[43m \u001B[49m\u001B[43mdesign_bounds\u001B[49m\u001B[38;5;241;43m=\u001B[39;49m\u001B[43md_bounds\u001B[49m\u001B[43m,\u001B[49m\u001B[43m \u001B[49m\u001B[43mdesign_vars\u001B[49m\u001B[38;5;241;43m=\u001B[39;49m\u001B[43msp\u001B[49m\u001B[38;5;241;43m.\u001B[39;49m\u001B[43msymbols\u001B[49m\u001B[43m(\u001B[49m\u001B[38;5;124;43m'\u001B[39;49m\u001B[38;5;124;43md1 d2 d3\u001B[39;49m\u001B[38;5;124;43m'\u001B[39;49m\u001B[43m)\u001B[49m\u001B[43m)\u001B[49m\n",
      "Cell \u001B[1;32mIn[15], line 41\u001B[0m, in \u001B[0;36mcalculate_symbolic_stocflexibility\u001B[1;34m(flexibility_sol, nt, nq, design_vars, theta_bounds, nd, design_bounds)\u001B[0m\n\u001B[0;32m     39\u001B[0m     \u001B[38;5;28;01mreturn\u001B[39;00m expr\n\u001B[0;32m     40\u001B[0m s \u001B[38;5;241m=\u001B[39m time\u001B[38;5;241m.\u001B[39mtime()\n\u001B[1;32m---> 41\u001B[0m stflex_expr \u001B[38;5;241m=\u001B[39m  \u001B[43mrecurse\u001B[49m\u001B[43m(\u001B[49m\u001B[38;5;241;43m0\u001B[39;49m\u001B[43m,\u001B[49m\u001B[43m \u001B[49m\u001B[43m[\u001B[49m\u001B[43m]\u001B[49m\u001B[43m,\u001B[49m\u001B[43m \u001B[49m\u001B[38;5;241;43m1\u001B[39;49m\u001B[43m)\u001B[49m\n\u001B[0;32m     42\u001B[0m e \u001B[38;5;241m=\u001B[39m time\u001B[38;5;241m.\u001B[39mtime()\n\u001B[0;32m     43\u001B[0m \u001B[38;5;28mprint\u001B[39m(\u001B[38;5;124mf\u001B[39m\u001B[38;5;124m'\u001B[39m\u001B[38;5;124mElapsed time for calculating sf index: \u001B[39m\u001B[38;5;132;01m{\u001B[39;00me\u001B[38;5;250m \u001B[39m\u001B[38;5;241m-\u001B[39m\u001B[38;5;250m \u001B[39ms\u001B[38;5;132;01m}\u001B[39;00m\u001B[38;5;124m'\u001B[39m)\n",
      "Cell \u001B[1;32mIn[15], line 29\u001B[0m, in \u001B[0;36mcalculate_symbolic_stocflexibility.<locals>.recurse\u001B[1;34m(level, theta_prev, weight_prev)\u001B[0m\n\u001B[0;32m     26\u001B[0m nql \u001B[38;5;241m=\u001B[39m nq[level] \u001B[38;5;28;01mif\u001B[39;00m \u001B[38;5;28misinstance\u001B[39m(nq, \u001B[38;5;28mlist\u001B[39m) \u001B[38;5;28;01melse\u001B[39;00m nq\n\u001B[0;32m     28\u001B[0m \u001B[38;5;66;03m# Assume get_quadrature_points returns symbolic coefficient arrays of shape (nq, len(design_vars)+1)\u001B[39;00m\n\u001B[1;32m---> 29\u001B[0m _, _, t_point_coeffs, t_weight_coeffs \u001B[38;5;241m=\u001B[39m \u001B[43mget_quadrature_points\u001B[49m\u001B[43m(\u001B[49m\u001B[43msolution\u001B[49m\u001B[38;5;241;43m=\u001B[39;49m\u001B[43msols\u001B[49m\u001B[43m[\u001B[49m\u001B[43mlevel\u001B[49m\u001B[43m]\u001B[49m\u001B[43m,\u001B[49m\u001B[43m \u001B[49m\u001B[43mnq\u001B[49m\u001B[38;5;241;43m=\u001B[39;49m\u001B[43mnql\u001B[49m\u001B[43m,\u001B[49m\u001B[43m \u001B[49m\u001B[43mt_vector\u001B[49m\u001B[38;5;241;43m=\u001B[39;49m\u001B[43mdesign_vars\u001B[49m\u001B[43m)\u001B[49m\n\u001B[0;32m     31\u001B[0m expr \u001B[38;5;241m=\u001B[39m \u001B[38;5;241m0\u001B[39m\n\u001B[0;32m     32\u001B[0m \u001B[38;5;28;01mfor\u001B[39;00m i \u001B[38;5;129;01min\u001B[39;00m \u001B[38;5;28mrange\u001B[39m(t_point_coeffs\u001B[38;5;241m.\u001B[39mshape[\u001B[38;5;241m0\u001B[39m]):\n\u001B[0;32m     33\u001B[0m     \u001B[38;5;66;03m# Construct θᵢ and wᵢ as symbolic expressions\u001B[39;00m\n",
      "Cell \u001B[1;32mIn[9], line 31\u001B[0m, in \u001B[0;36mget_quadrature_points\u001B[1;34m(solution, nq, t_vector)\u001B[0m\n\u001B[0;32m     29\u001B[0m \u001B[38;5;66;03m# Region-based evaluation\u001B[39;00m\n\u001B[0;32m     30\u001B[0m \u001B[38;5;28;01mfor\u001B[39;00m region \u001B[38;5;129;01min\u001B[39;00m solution\u001B[38;5;241m.\u001B[39mcritical_regions:\n\u001B[1;32m---> 31\u001B[0m     \u001B[38;5;28;01mif\u001B[39;00m \u001B[43mregion\u001B[49m\u001B[38;5;241;43m.\u001B[39;49m\u001B[43mis_inside\u001B[49m\u001B[43m(\u001B[49m\u001B[43mt_vector_np\u001B[49m\u001B[43m)\u001B[49m:\n\u001B[0;32m     32\u001B[0m         \u001B[38;5;66;03m# expr_coeffs: 2 rows, each row is coefficients for [d1, d2, ..., 1]\u001B[39;00m\n\u001B[0;32m     33\u001B[0m         expr_coeffs \u001B[38;5;241m=\u001B[39m np\u001B[38;5;241m.\u001B[39mconcatenate([region\u001B[38;5;241m.\u001B[39mA, region\u001B[38;5;241m.\u001B[39mb], axis\u001B[38;5;241m=\u001B[39m\u001B[38;5;241m1\u001B[39m)[:\u001B[38;5;241m2\u001B[39m, :]\n\u001B[0;32m     35\u001B[0m         qpoints, qweights \u001B[38;5;241m=\u001B[39m gauss_legendre_between_bounds(expr_coeffs\u001B[38;5;241m=\u001B[39mexpr_coeffs, n_gl\u001B[38;5;241m=\u001B[39mnq)\n",
      "File \u001B[1;32m~\\.conda\\envs\\venv_energiapy\\lib\\site-packages\\ppopt\\critical_region.py:86\u001B[0m, in \u001B[0;36mCriticalRegion.is_inside\u001B[1;34m(self, theta, tol)\u001B[0m\n\u001B[0;32m     84\u001B[0m \u001B[38;5;250m\u001B[39m\u001B[38;5;124;03m\"\"\"Tests if point θ is inside the critical region.\"\"\"\u001B[39;00m\n\u001B[0;32m     85\u001B[0m \u001B[38;5;66;03m# check if all constraints EΘ <= f\u001B[39;00m\n\u001B[1;32m---> 86\u001B[0m \u001B[38;5;28;01mreturn\u001B[39;00m numpy\u001B[38;5;241m.\u001B[39mall(\u001B[38;5;28;43mself\u001B[39;49m\u001B[38;5;241;43m.\u001B[39;49m\u001B[43mE\u001B[49m\u001B[43m \u001B[49m\u001B[38;5;241;43m@\u001B[39;49m\u001B[43m \u001B[49m\u001B[43mtheta\u001B[49m\u001B[38;5;241;43m.\u001B[39;49m\u001B[43mreshape\u001B[49m\u001B[43m(\u001B[49m\u001B[38;5;241;43m-\u001B[39;49m\u001B[38;5;241;43m1\u001B[39;49m\u001B[43m,\u001B[49m\u001B[38;5;241;43m1\u001B[39;49m\u001B[43m)\u001B[49m \u001B[38;5;241m-\u001B[39m \u001B[38;5;28mself\u001B[39m\u001B[38;5;241m.\u001B[39mf \u001B[38;5;241m<\u001B[39m tol)\n",
      "\u001B[1;31mValueError\u001B[0m: matmul: Input operand 1 has a mismatch in its core dimension 0, with gufunc signature (n?,k),(k,m?)->(n?,m?) (size 3 is different from 2)"
     ]
    }
   ],
   "source": [
    "# prob_list, sol_list, sf_expre = calculate_symbolic_stocflexibility(flexibility_sol=solution_flexibility, nt=nt, nq=8, theta_bounds=t_bounds, nd=nd, design_bounds=d_bounds, design_vars=sp.symbols('d1 d2 d3'))"
   ],
   "metadata": {
    "collapsed": false,
    "ExecuteTime": {
     "end_time": "2025-07-07T16:20:24.549815Z",
     "start_time": "2025-07-07T16:20:23.923744Z"
    }
   },
   "id": "d0f5f936f132af9d",
   "execution_count": 16
  }
 ],
 "metadata": {
  "kernelspec": {
   "display_name": "Python 3",
   "language": "python",
   "name": "python3"
  },
  "language_info": {
   "codemirror_mode": {
    "name": "ipython",
    "version": 2
   },
   "file_extension": ".py",
   "mimetype": "text/x-python",
   "name": "python",
   "nbconvert_exporter": "python",
   "pygments_lexer": "ipython2",
   "version": "2.7.6"
  }
 },
 "nbformat": 4,
 "nbformat_minor": 5
}
