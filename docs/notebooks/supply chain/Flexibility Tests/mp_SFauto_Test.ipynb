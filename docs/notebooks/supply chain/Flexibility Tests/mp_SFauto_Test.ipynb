{
 "cells": [
  {
   "cell_type": "code",
   "execution_count": 72,
   "id": "initial_id",
   "metadata": {
    "collapsed": true,
    "ExecuteTime": {
     "end_time": "2025-06-18T21:17:43.136842Z",
     "start_time": "2025-06-18T21:17:43.125357Z"
    }
   },
   "outputs": [],
   "source": [
    "import numpy as np\n",
    "from ppopt.mplp_program import MPLP_Program\n",
    "from ppopt.mpmodel import MPModeler\n",
    "from ppopt.mp_solvers.solve_mpqp import solve_mpqp, mpqp_algorithm\n",
    "from ppopt.plot import parametric_plot\n",
    "from numpy.polynomial.legendre import leggauss\n",
    "import copy\n",
    "from typing import Union\n",
    "from collections import defaultdict"
   ]
  },
  {
   "cell_type": "code",
   "outputs": [],
   "source": [
    "m = MPModeler()\n",
    "\n",
    "u = m.add_var(name='u')\n",
    "x = m.add_var(name='x')\n",
    "z = m.add_var(name='z')\n",
    "\n",
    "t1 = m.add_param(name='t1')\n",
    "t2 = m.add_param(name='t2')\n",
    "d1 = m.add_param(name='d1')\n",
    "d2 = m.add_param(name='d2')"
   ],
   "metadata": {
    "collapsed": false,
    "ExecuteTime": {
     "end_time": "2025-06-18T21:17:43.168503Z",
     "start_time": "2025-06-18T21:17:43.161247Z"
    }
   },
   "id": "748c85a8343b5ba3",
   "execution_count": 73
  },
  {
   "cell_type": "code",
   "outputs": [],
   "source": [
    "m.add_constr(2*x - 3*z + t1 - d2 == 0)\n",
    "m.add_constr(x - z/2 -t1/2 +t2/2 +d1 -7*d2/2 <= u)\n",
    "m.add_constr(-2*x +2*z -4*t1/3 -t2 +2*d2 +1/3<= u)\n",
    "m.add_constr(-x + 5*z/2 +t1/2 -t2 -d1 +d2/2 -1 <= u)\n",
    "m.add_constr(-50 <= x)\n",
    "m.add_constr(0-50 <= z)\n",
    "m.add_constr(0 <= t1)\n",
    "m.add_constr(0 <= t2)\n",
    "m.add_constr(0 <= d1)\n",
    "m.add_constr(0 <= d2)\n",
    "m.add_constr(t1 <= 4)\n",
    "m.add_constr(t2 <= 4)\n",
    "m.add_constr(d1 <= 5)\n",
    "m.add_constr(d2 <= 5)"
   ],
   "metadata": {
    "collapsed": false,
    "ExecuteTime": {
     "end_time": "2025-06-18T21:17:43.215146Z",
     "start_time": "2025-06-18T21:17:43.195382Z"
    }
   },
   "id": "13ef8a471c543bd0",
   "execution_count": 74
  },
  {
   "cell_type": "code",
   "outputs": [],
   "source": [
    "m.set_objective(u)"
   ],
   "metadata": {
    "collapsed": false,
    "ExecuteTime": {
     "end_time": "2025-06-18T21:17:43.230691Z",
     "start_time": "2025-06-18T21:17:43.216201Z"
    }
   },
   "id": "7a4103e8556b1d58",
   "execution_count": 75
  },
  {
   "cell_type": "code",
   "outputs": [],
   "source": [
    "prob = m.formulate_problem()\n",
    "prob.process_constraints()"
   ],
   "metadata": {
    "collapsed": false,
    "ExecuteTime": {
     "end_time": "2025-06-18T21:17:43.261955Z",
     "start_time": "2025-06-18T21:17:43.231739Z"
    }
   },
   "id": "5db295d4b87854cd",
   "execution_count": 76
  },
  {
   "cell_type": "code",
   "outputs": [],
   "source": [
    "solution_flexibility = solve_mpqp(problem=prob, algorithm=mpqp_algorithm.combinatorial)"
   ],
   "metadata": {
    "collapsed": false,
    "ExecuteTime": {
     "end_time": "2025-06-18T21:17:43.292779Z",
     "start_time": "2025-06-18T21:17:43.262948Z"
    }
   },
   "id": "bfad65f16b4527e9",
   "execution_count": 77
  },
  {
   "cell_type": "code",
   "outputs": [],
   "source": [
    "def mpformulate_theta_bounds(flex_sol, num_theta:int, num_design:int, theta_bounds:list, design_bounds:list, psi_idx:int=0, theta_m:int=0):\n",
    "    A0, b0, F0 = np.empty((len(flex_sol), num_theta)), np.empty((len(flex_sol), 1)), np.empty((len(flex_sol), num_design))\n",
    "    num_cr = len(flex_sol.critical_regions)\n",
    "    for i, region in enumerate(flex_sol.critical_regions):\n",
    "        A0[i] = region.A[psi_idx,:num_theta]\n",
    "        b0[i] = -region.b[psi_idx]\n",
    "        F0[i] = -region.A[psi_idx, num_theta:num_theta+num_design]\n",
    "    \n",
    "    row1_block = np.hstack([block for i in range(theta_m, num_theta) for block in (A0[:, [i]], np.zeros((num_cr, 1)))])\n",
    "    row2_block = np.hstack([block for i in range(theta_m, num_theta) for block in (np.zeros((num_cr, 1)), A0[:, [i]])])\n",
    "    bound_row = np.hstack([np.array([-1, 1]).reshape(1, -1), np.zeros((1, 2 * (num_theta - 1 - theta_m)))])\n",
    "    A = np.vstack([row1_block, row2_block, bound_row, -np.eye(2*(num_theta-theta_m)), np.eye(2*(num_theta-theta_m))])\n",
    "    # print(f'A: {A}')\n",
    "    # print(f'A.shape: {A.shape}')\n",
    "    \n",
    "    x_lb = np.array([val for i in range(theta_m, len(theta_bounds)) for val in [theta_bounds[i][0]] * 2])\n",
    "    x_ub = np.array([val for i in range(theta_m, len(theta_bounds)) for val in [theta_bounds[i][1]] * 2])\n",
    "    b = np.vstack([b0, b0, np.zeros((1,1)), x_lb.reshape(-1,1), x_ub.reshape(-1,1)])\n",
    "    # print(f'b: {b}')\n",
    "    # print(f'b.shape: {b.shape}')\n",
    "    \n",
    "    F = np.vstack([F0, F0, np.zeros((1,num_design)), np.zeros((4*(num_theta-theta_m), num_design))])\n",
    "    if theta_m > 0:\n",
    "        F_lltheta = np.hstack([A0[:, [i]] for i in range(theta_m)])\n",
    "        # print(f'F_lltheta: {F_lltheta}')\n",
    "        F = np.hstack([np.vstack([-F_lltheta, -F_lltheta, np.zeros((1,len(range(theta_m)))), np.zeros((4*(num_theta-theta_m), theta_m))]), F])\n",
    "    # print(f'F:{F}')\n",
    "    # print(f'F.shape: {F.shape}')\n",
    "    \n",
    "    H = np.zeros((2*(num_theta-theta_m), theta_m+num_design))\n",
    "    # print(f'H:{H}')\n",
    "    # print(f'H.shape: {H.shape}')\n",
    "    \n",
    "    A_t = np.vstack([-np.eye(theta_m+num_design), np.eye(theta_m+num_design)])\n",
    "    # print(f'A_t:{A_t}')\n",
    "    # print(f'A_t.shape: {A_t.shape}')\n",
    "    \n",
    "    theta_lb = np.array([theta_bounds[i][0] for i in range(theta_m)] + [j[0] for j in design_bounds]).reshape(-1,1)\n",
    "    theta_ub = np.array([theta_bounds[i][1] for i in range(theta_m)] + [j[1] for j in design_bounds]).reshape(-1,1)\n",
    "    b_t = np.vstack([theta_lb, theta_ub])\n",
    "    # print(f'b_t:{b_t}')\n",
    "    # print(f'b_t.shape: {b_t.shape}')\n",
    "    \n",
    "    c = np.hstack([np.array([-1, 1]).reshape(1, -1), np.zeros((1, 2 * (num_theta - 1 - theta_m)))]).reshape(-1,1)\n",
    "    # print(f'c:{c}')\n",
    "    # print(f'c.shape: {c.shape}')\n",
    "    \n",
    "    return A, b, c, H, A_t, b_t, F"
   ],
   "metadata": {
    "collapsed": false,
    "ExecuteTime": {
     "end_time": "2025-06-18T21:17:43.432095Z",
     "start_time": "2025-06-18T21:17:43.417616Z"
    }
   },
   "id": "30828b4a6c58f36",
   "execution_count": 86
  },
  {
   "cell_type": "code",
   "outputs": [],
   "source": [
    "# A, b, c, H, A_t, b_t, F = mpformulate_theta_bounds(flex_sol=solution, num_theta=2 ,num_design=2, theta_bounds=[(0,4),(0,4)], design_bounds=[(0,5), (0,5)], theta_m=0)"
   ],
   "metadata": {
    "collapsed": false,
    "ExecuteTime": {
     "end_time": "2025-06-18T21:17:43.447832Z",
     "start_time": "2025-06-18T21:17:43.434203Z"
    }
   },
   "id": "46d6121328ee2e4c",
   "execution_count": 87
  },
  {
   "cell_type": "code",
   "outputs": [],
   "source": [
    "# prob_test = MPLP_Program(A=A, b=b, c=c, H=H, A_t=A_t, b_t=b_t, F=F)\n",
    "# prob_test.process_constraints()"
   ],
   "metadata": {
    "collapsed": false,
    "ExecuteTime": {
     "end_time": "2025-06-18T21:17:43.463570Z",
     "start_time": "2025-06-18T21:17:43.448934Z"
    }
   },
   "id": "f225b9da5ff85672",
   "execution_count": 88
  },
  {
   "cell_type": "code",
   "outputs": [],
   "source": [
    "# solution_test = solve_mpqp(problem=prob_test, algorithm=mpqp_algorithm.geometric)"
   ],
   "metadata": {
    "collapsed": false,
    "ExecuteTime": {
     "end_time": "2025-06-18T21:17:43.479163Z",
     "start_time": "2025-06-18T21:17:43.464624Z"
    }
   },
   "id": "e52a5b032c7f7c78",
   "execution_count": 89
  },
  {
   "cell_type": "code",
   "outputs": [],
   "source": [
    "# solution_test"
   ],
   "metadata": {
    "collapsed": false,
    "ExecuteTime": {
     "end_time": "2025-06-18T21:17:43.494664Z",
     "start_time": "2025-06-18T21:17:43.480217Z"
    }
   },
   "id": "37bd1db74a46656f",
   "execution_count": 90
  },
  {
   "cell_type": "code",
   "outputs": [],
   "source": [
    "# parametric_plot(solution_test, show=True)"
   ],
   "metadata": {
    "collapsed": false,
    "ExecuteTime": {
     "end_time": "2025-06-18T21:17:43.510405Z",
     "start_time": "2025-06-18T21:17:43.495716Z"
    }
   },
   "id": "25bfd5cc404e36b3",
   "execution_count": 91
  },
  {
   "cell_type": "code",
   "outputs": [],
   "source": [
    "theta_bounds=[(0,4),(0,4)]\n",
    "design_bounds=[(0,5), (0,5)]\n",
    "nt = 2\n",
    "nd = 2"
   ],
   "metadata": {
    "collapsed": false,
    "ExecuteTime": {
     "end_time": "2025-06-18T21:17:43.526112Z",
     "start_time": "2025-06-18T21:17:43.511479Z"
    }
   },
   "id": "b4ff3f1ba542b714",
   "execution_count": 92
  },
  {
   "cell_type": "code",
   "outputs": [
    {
     "name": "stdout",
     "output_type": "stream",
     "text": [
      "Using a found active set [6, 9, 11, 12]\n",
      "Using a found active set [6, 7]\n"
     ]
    }
   ],
   "source": [
    "theta_bound_dict = defaultdict(dict)\n",
    "for i in range(nt):\n",
    "    A, b, c, H, A_t, b_t, F = mpformulate_theta_bounds(flex_sol=solution_flexibility, num_theta=nt ,num_design=nd, theta_bounds=theta_bounds, design_bounds=design_bounds, theta_m=i)\n",
    "    prob = MPLP_Program(A=A, b=b, c=c, H=H, A_t=A_t, b_t=b_t, F=F)\n",
    "    prob.process_constraints()\n",
    "    solution = solve_mpqp(problem=prob, algorithm=mpqp_algorithm.geometric)\n",
    "    theta_bound_dict[f't{i}'] = solution"
   ],
   "metadata": {
    "collapsed": false,
    "ExecuteTime": {
     "end_time": "2025-06-18T21:17:43.621184Z",
     "start_time": "2025-06-18T21:17:43.527223Z"
    }
   },
   "id": "7fc6cfbcd6adb11a",
   "execution_count": 93
  },
  {
   "cell_type": "code",
   "outputs": [],
   "source": [
    "solutions_list = [sol for key, sol in theta_bound_dict.items()]"
   ],
   "metadata": {
    "collapsed": false,
    "ExecuteTime": {
     "end_time": "2025-06-18T21:17:43.635918Z",
     "start_time": "2025-06-18T21:17:43.622270Z"
    }
   },
   "id": "f7ce0412a405541c",
   "execution_count": 94
  },
  {
   "cell_type": "code",
   "outputs": [],
   "source": [
    "def gauss_legendre_between_bounds(expr_coeffs: np.ndarray, n_gl: int, max_idx: int = 0, min_idx: int = 1):\n",
    "    \"\"\"\n",
    "    Generate n Gauss–Legendre quadrature points and weights between min and max bounds\n",
    "    defined by two linear expressions.\n",
    "\n",
    "    Parameters:\n",
    "        expr_coeffs (np.ndarray): 2xD array. Row 0 = max point coefficients, Row 1 = min.\n",
    "        n (int): Number of quadrature points.\n",
    "\n",
    "    Returns:\n",
    "        points (np.ndarray): (n, D) array of quadrature points.\n",
    "        weights (np.ndarray): (n,) array of weights.\n",
    "    \"\"\"\n",
    "    if expr_coeffs.shape[0] != 2:\n",
    "        raise ValueError(\"expr_coeffs must have two rows\")\n",
    "\n",
    "    max_coeffs = expr_coeffs[max_idx]\n",
    "    min_coeffs = expr_coeffs[min_idx]\n",
    "\n",
    "    # Get Gauss–Legendre points and weights on [-1, 1]\n",
    "    nodes, weights = leggauss(n_gl)\n",
    "    weights = weights.reshape(-1,1)\n",
    "    \n",
    "    # Affine transformation to domain [min_coeffs, max_coeffs]\n",
    "    points = 0.5 * (np.outer((nodes + 1), max_coeffs) + np.outer((1 - nodes), min_coeffs))\n",
    "\n",
    "    # Adjust weights to match new domain\n",
    "    weights = 0.5 * weights@(max_coeffs - min_coeffs).reshape(1,-1)\n",
    "\n",
    "    return points, weights\n",
    "\n",
    "# # Example: 2D line segment from [0,0] (min) to [1,1] (max)\n",
    "# # coeffs = np.array([\n",
    "# #     [0, 0, 4],  # max point\n",
    "# #     [0, 0, 0],  # min point\n",
    "# # ])\n",
    "# \n",
    "# coeffs = np.array([\n",
    "#     [0, 0, 4],\n",
    "#     [0.75,-1.5,-1.25]\n",
    "# ])\n",
    "# \n",
    "# # coeffs = np.array([\n",
    "# #     [0.000000,0.0,0.0,4.000000],\n",
    "# #     [-2.666667,2.0,-4.0,0.666667]\n",
    "# # ])\n",
    "# \n",
    "# points, weights = gauss_legendre_between_bounds(expr_coeffs=coeffs, n_gl=5)\n",
    "# \n",
    "# print(\"Points Mapped:\\n\", points)\n",
    "# print(\"Weights Mapped:\\n\", weights)"
   ],
   "metadata": {
    "collapsed": false,
    "ExecuteTime": {
     "end_time": "2025-06-18T21:17:43.667629Z",
     "start_time": "2025-06-18T21:17:43.652979Z"
    }
   },
   "id": "812c564dfe15edde",
   "execution_count": 96
  },
  {
   "cell_type": "code",
   "outputs": [],
   "source": [
    "def joint_pdf(theta:list):\n",
    "    return (2/np.pi)*np.exp(-2*((theta[0]-2)**2 + (theta[1]-2)**2))"
   ],
   "metadata": {
    "collapsed": false,
    "ExecuteTime": {
     "end_time": "2025-06-18T21:17:43.683277Z",
     "start_time": "2025-06-18T21:17:43.668714Z"
    }
   },
   "id": "9d37ab07fee40a25",
   "execution_count": 97
  },
  {
   "cell_type": "code",
   "outputs": [],
   "source": [
    "def get_quadrature_points(solution, nq: int, t_vector: np.ndarray):\n",
    "    # Augment t_vector once\n",
    "    t_vector_aug = np.append(t_vector, 1).reshape(-1, 1)\n",
    "\n",
    "    for region in solution.critical_regions:\n",
    "        if region.is_inside(t_vector):\n",
    "            coeffs = np.concatenate([region.A, region.b], axis=1)[:2, :]\n",
    "            qpoints, qweights = gauss_legendre_between_bounds(expr_coeffs=coeffs, n_gl=nq)\n",
    "            return coeffs[0] @ t_vector_aug, coeffs[1] @ t_vector_aug, qpoints @ t_vector_aug, qweights @ t_vector_aug\n",
    "\n",
    "    raise ValueError(\"No region found that contains the given t_vector.\")\n"
   ],
   "metadata": {
    "collapsed": false,
    "ExecuteTime": {
     "end_time": "2025-06-18T21:17:43.698926Z",
     "start_time": "2025-06-18T21:17:43.684368Z"
    }
   },
   "id": "7f5099cf107d0881",
   "execution_count": 98
  },
  {
   "cell_type": "code",
   "outputs": [],
   "source": [
    "# def calculate_stocflexibility(sols: list, nq: int, d_vector: np.ndarray) -> float:\n",
    "#     # Get first-stage quadrature points and weights\n",
    "#     t1max, t1min, t1_points, t1_weights = get_quadrature_points(solution=sols[0], nq=nq, t_vector=d_vector)\n",
    "#     t1_points = t1_points.flatten()\n",
    "#     t1_weights = t1_weights.flatten()\n",
    "# \n",
    "#     outer_sum = 0.0\n",
    "# \n",
    "#     for i in range(nq):\n",
    "#         v1 = t1_points[i]\n",
    "#         w1 = t1_weights[i]\n",
    "# \n",
    "#         # Second-stage quadrature points and weights using updated vector\n",
    "#         t2max, t2min, t2_points, t2_weights = get_quadrature_points(solution=sols[1], nq=nq,t_vector=np.block([np.array([v1]), d_vector]))\n",
    "#         t2_points = t2_points.flatten()\n",
    "#         t2_weights = t2_weights.flatten()\n",
    "#         # print(f't2points: {t2_points} for t1:{v1}')\n",
    "#         # print(f't2weights: {t2_weights} for t1:{v1}')\n",
    "# \n",
    "#         # Inner quadrature\n",
    "#         inner_sum = np.sum([w2 * joint_pdf(theta=[v1, v2]) for v2, w2 in zip(t2_points, t2_weights)])\n",
    "#         outer_sum += w1 * inner_sum\n",
    "#     \n",
    "#     # print(f't1points: {t1_points}')\n",
    "#     # print(f't1weights: {t1_weights}')\n",
    "#     return outer_sum"
   ],
   "metadata": {
    "collapsed": false,
    "ExecuteTime": {
     "end_time": "2025-06-18T21:17:43.714579Z",
     "start_time": "2025-06-18T21:17:43.699966Z"
    }
   },
   "id": "f5319319f930df97",
   "execution_count": 99
  },
  {
   "cell_type": "code",
   "outputs": [],
   "source": [
    "def calculate_stocflexibility(sols: list, nq: Union[int, list], d_vector: np.ndarray) -> float:\n",
    "    \"\"\"\n",
    "    Calculates the stochastic flexibility index via nested Gauss–Legendre quadrature.\n",
    "\n",
    "    :param sols: list of solution objects (one per stage)\n",
    "    :param nq: int or list of ints; if int, used for all levels; if list, should match len(sols)\n",
    "    :param d_vector: base vector used to condition quadrature\n",
    "    :return: stochastic flexibility index\n",
    "    \"\"\"\n",
    "\n",
    "    # Validate nq if it's a list\n",
    "    if isinstance(nq, list):\n",
    "        if len(nq) != len(sols):\n",
    "            raise ValueError(\"If nq is a list, it must have the same length as sols\")\n",
    "\n",
    "    def recurse(level: int, theta_prev: list, weight_prev: float) -> float:\n",
    "        \"\"\"\n",
    "        Recursive inner function to compute nested quadrature.\n",
    "        \"\"\"\n",
    "        if level == len(sols):\n",
    "            return weight_prev * joint_pdf(theta_prev)\n",
    "\n",
    "        # Use nq[level] if nq is a list, otherwise use scalar nq\n",
    "        nql = nq[level] if isinstance(nq, list) else nq\n",
    "\n",
    "        t_vector = np.block([np.array(theta_prev), d_vector])\n",
    "        # print(f't_vector:{t_vector}')\n",
    "        _, _, t_points, t_weights = get_quadrature_points(solution=sols[level], nq=nql, t_vector=t_vector)\n",
    "\n",
    "        t_points = t_points.flatten()\n",
    "        t_weights = t_weights.flatten()\n",
    "        \n",
    "        # print(f'theta_prev: {theta_prev}')\n",
    "        return sum(\n",
    "            recurse(level + 1, theta_prev + [v], weight_prev * w)\n",
    "            for v, w in zip(t_points, t_weights)\n",
    "        )\n",
    "\n",
    "    return recurse(level=0, theta_prev=[], weight_prev=1.0)\n"
   ],
   "metadata": {
    "collapsed": false,
    "ExecuteTime": {
     "end_time": "2025-06-18T21:20:01.631135Z",
     "start_time": "2025-06-18T21:20:01.626989Z"
    }
   },
   "id": "add4cab6188feea6",
   "execution_count": 103
  },
  {
   "cell_type": "code",
   "outputs": [
    {
     "name": "stdout",
     "output_type": "stream",
     "text": [
      "theta_prev: []\n",
      "theta_prev: [0.6184999975417473]\n",
      "theta_prev: [0.9007503264614916]\n",
      "theta_prev: [1.3684565928943302]\n",
      "theta_prev: [1.9585752416950024]\n",
      "theta_prev: [2.5914247583049943]\n",
      "theta_prev: [3.181543407105667]\n",
      "theta_prev: [3.6492496735385056]\n",
      "theta_prev: [3.93150000245825]\n"
     ]
    }
   ],
   "source": [
    "sf_idx = calculate_stocflexibility(sols=solutions_list, nq=8, d_vector=np.array([3.2, 0.4]))"
   ],
   "metadata": {
    "collapsed": false,
    "ExecuteTime": {
     "end_time": "2025-06-18T21:20:01.834250Z",
     "start_time": "2025-06-18T21:20:01.826804Z"
    }
   },
   "id": "209205b95c91a998",
   "execution_count": 104
  },
  {
   "cell_type": "code",
   "outputs": [
    {
     "name": "stdout",
     "output_type": "stream",
     "text": [
      "Stochastic Flexibility Index: 0.8981\n"
     ]
    }
   ],
   "source": [
    "print(f'Stochastic Flexibility Index: {sf_idx:.4}')"
   ],
   "metadata": {
    "collapsed": false,
    "ExecuteTime": {
     "end_time": "2025-06-18T21:17:43.794246Z",
     "start_time": "2025-06-18T21:17:43.779615Z"
    }
   },
   "id": "47b493ee39df8350",
   "execution_count": 102
  },
  {
   "cell_type": "code",
   "outputs": [],
   "source": [],
   "metadata": {
    "collapsed": false,
    "ExecuteTime": {
     "end_time": "2025-06-18T21:17:43.809819Z",
     "start_time": "2025-06-18T21:17:43.795312Z"
    }
   },
   "id": "c2532fb2dcb57b31",
   "execution_count": 102
  }
 ],
 "metadata": {
  "kernelspec": {
   "display_name": "Python 3",
   "language": "python",
   "name": "python3"
  },
  "language_info": {
   "codemirror_mode": {
    "name": "ipython",
    "version": 2
   },
   "file_extension": ".py",
   "mimetype": "text/x-python",
   "name": "python",
   "nbconvert_exporter": "python",
   "pygments_lexer": "ipython2",
   "version": "2.7.6"
  }
 },
 "nbformat": 4,
 "nbformat_minor": 5
}
