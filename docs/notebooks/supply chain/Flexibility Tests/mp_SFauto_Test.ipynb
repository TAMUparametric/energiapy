{
 "cells": [
  {
   "cell_type": "code",
   "id": "initial_id",
   "metadata": {
    "collapsed": true,
    "ExecuteTime": {
     "end_time": "2025-06-24T21:52:34.640412Z",
     "start_time": "2025-06-24T21:52:34.066388Z"
    }
   },
   "source": [
    "import numpy as np\n",
    "from ppopt.mplp_program import MPLP_Program\n",
    "from ppopt.mpmodel import MPModeler\n",
    "from ppopt.mp_solvers.solve_mpqp import solve_mpqp, mpqp_algorithm\n",
    "from ppopt.plot import parametric_plot\n",
    "from numpy.polynomial.legendre import leggauss\n",
    "from scipy.optimize import linprog\n",
    "from typing import Union\n",
    "from collections import defaultdict\n",
    "from itertools import product\n",
    "import time"
   ],
   "outputs": [],
   "execution_count": 1
  },
  {
   "cell_type": "code",
   "source": [
    "# # Bansal (2000) Illustrative Example\n",
    "# t_bounds=[(0,4),(0,4)]\n",
    "# d_bounds=[(0,5), (0,5)]\n",
    "# d_vector = np.array([5, 1.4])\n",
    "# nt = len(t_bounds)\n",
    "# nd = len(d_bounds)\n",
    "# \n",
    "# m = MPModeler()\n",
    "# \n",
    "# u = m.add_var(name='u')\n",
    "# x = m.add_var(name='x')\n",
    "# z = m.add_var(name='z')\n",
    "# \n",
    "# t1 = m.add_param(name='t1')\n",
    "# t2 = m.add_param(name='t2')\n",
    "# d1 = m.add_param(name='d1')\n",
    "# d2 = m.add_param(name='d2')\n",
    "# m.add_constr(2*x - 3*z + t1 - d2 == 0)\n",
    "# m.add_constr(x - z/2 -t1/2 +t2/2 +d1 -7*d2/2 <= u)\n",
    "# m.add_constr(-2*x +2*z -4*t1/3 -t2 +2*d2 +1/3<= u)\n",
    "# m.add_constr(-x + 5*z/2 +t1/2 -t2 -d1 +d2/2 -1 <= u)\n",
    "# m.add_constr(-50 <= x)\n",
    "# m.add_constr(-50 <= z)\n",
    "# m.add_constr(t_bounds[0][0] <= t1)\n",
    "# m.add_constr(t_bounds[1][0] <= t2)\n",
    "# m.add_constr(d_bounds[0][0] <= d1)\n",
    "# m.add_constr(d_bounds[1][0] <= d2)\n",
    "# m.add_constr(t1 <= t_bounds[0][1])\n",
    "# m.add_constr(t2 <= t_bounds[1][1])\n",
    "# m.add_constr(d1 <= d_bounds[0][1])\n",
    "# m.add_constr(d2 <= d_bounds[1][1])\n",
    "# m.set_objective(u)\n",
    "# prob = m.formulate_problem()\n",
    "# prob.process_constraints()\n",
    "# solution_flexibility = solve_mpqp(problem=prob, algorithm=mpqp_algorithm.geometric)\n",
    "# \n",
    "# def joint_pdf(theta:list):\n",
    "#     return (2/np.pi)*np.exp(-2*((theta[0]-2)**2 + (theta[1]-2)**2))"
   ],
   "metadata": {
    "collapsed": false,
    "ExecuteTime": {
     "end_time": "2025-06-24T21:52:34.656204Z",
     "start_time": "2025-06-24T21:52:34.643628Z"
    }
   },
   "id": "bfad65f16b4527e9",
   "outputs": [],
   "execution_count": 2
  },
  {
   "metadata": {
    "ExecuteTime": {
     "end_time": "2025-06-24T21:52:34.671838Z",
     "start_time": "2025-06-24T21:52:34.657285Z"
    }
   },
   "cell_type": "code",
   "source": [
    "# # Straub and Grossmann (1990) Example 2\n",
    "# t_bounds=[(0,80),(0,80)]\n",
    "# d_bounds=[(0,10), (0,10)]\n",
    "# d_vector = np.array([1,8])\n",
    "# nt = len(t_bounds)\n",
    "# nd = len(d_bounds)\n",
    "# m = MPModeler()\n",
    "# \n",
    "# u = m.add_var(name='u')\n",
    "# z = m.add_var(name='z')\n",
    "# \n",
    "# t1 = m.add_param(name='t1')\n",
    "# t2 = m.add_param(name='t2')\n",
    "# d1 = m.add_param(name='d1')\n",
    "# d2 = m.add_param(name='d2')\n",
    "# m.add_constr(z - 1.6*(t1-20) - 0.6*(t2-20) + d1 - 14 <= u)\n",
    "# m.add_constr(z - 0.85*(t1-20) - 0.925*(t2-20) + d1 + d2 -20 <= u)\n",
    "# m.add_constr(z - 1.1*(t1-20) - 1.4*(t2-20) + d2 - 8 <= u)\n",
    "# m.add_constr(-z + (t1-20) + (t2-20) + d1 + d2 - 7 <= u)\n",
    "# m.add_constr(t_bounds[0][0] <= t1)\n",
    "# m.add_constr(t_bounds[1][0] <= t2)\n",
    "# m.add_constr(d_bounds[0][0] <= d1)\n",
    "# m.add_constr(d_bounds[1][0] <= d2)\n",
    "# m.add_constr(t1 <= t_bounds[0][1])\n",
    "# m.add_constr(t2 <= t_bounds[1][1])\n",
    "# m.add_constr(d1 <= d_bounds[0][1])\n",
    "# m.add_constr(d2 <= d_bounds[1][1])\n",
    "# m.set_objective(u)\n",
    "# prob = m.formulate_problem()\n",
    "# prob.process_constraints()\n",
    "# solution_flexibility = solve_mpqp(problem=prob, algorithm=mpqp_algorithm.geometric)\n",
    "# \n",
    "# def joint_pdf(theta:list):\n",
    "#     return (1/628.32)*np.exp((-(theta[0]-40)**2 - (theta[1]-40)**2)/200)"
   ],
   "id": "b6eda4f201c35814",
   "outputs": [],
   "execution_count": 3
  },
  {
   "metadata": {
    "ExecuteTime": {
     "end_time": "2025-06-24T21:52:34.766447Z",
     "start_time": "2025-06-24T21:52:34.672893Z"
    }
   },
   "cell_type": "code",
   "source": [
    "# Pistikopoulos and Mazzuchi (1990) Example 1\n",
    "t_bounds = [(610, 630), (378, 398), (573, 593), (303, 323)]\n",
    "# t_bounds = [(586.68, 653.32), (354.68, 421.32), (549.68, 616.32), (279.68, 346.32)]\n",
    "nt = len(t_bounds)\n",
    "nd = 0\n",
    "d_bounds = None\n",
    "d_vector = None\n",
    "m = MPModeler()\n",
    "\n",
    "u = m.add_var(name=\"u\")\n",
    "z = m.add_var(name=\"z\")\n",
    "\n",
    "t1 = m.add_param(name=\"t1\")\n",
    "t2 = m.add_param(name=\"t2\")\n",
    "t3 = m.add_param(name=\"t3\")\n",
    "t4 = m.add_param(name=\"t4\")\n",
    "\n",
    "m.add_constr(-z + 1.5*t2 - 525 <= u)\n",
    "m.add_constr(z - 1.5*t1 - 2*t2 - 2*t3 + 2777 <= u)\n",
    "m.add_constr(z - 1.5*t1 - 2*t2 - t3 + 2044 <= u)\n",
    "m.add_constr(z - 1.5*t1 - 2*t2 - t3 - 2*t4 + 2830 <= u)\n",
    "m.add_constr(-z + 1.5*t1 + 2*t2 + t3 + 3*t4 - 3153 <= u)\n",
    "m.add_constr(t_bounds[0][0] <= t1)\n",
    "m.add_constr(t1 <= t_bounds[0][1])\n",
    "m.add_constr(t_bounds[1][0] <= t2)\n",
    "m.add_constr(t2 <= t_bounds[1][1])\n",
    "m.add_constr(t_bounds[2][0] <= t3)\n",
    "m.add_constr(t3 <= t_bounds[2][1])\n",
    "m.add_constr(t_bounds[3][0] <= t4)\n",
    "m.add_constr(t4 <= t_bounds[3][1])\n",
    "m.set_objective(u)\n",
    "prob = m.formulate_problem(process=True)\n",
    "prob.process_constraints()\n",
    "\n",
    "solution_flexibility = solve_mpqp(problem=prob, algorithm=mpqp_algorithm.geometric)\n",
    "\n",
    "def joint_pdf(theta:list):\n",
    "    return (1/(5000*np.pi))*np.exp(-0.08*((theta[0]-620)**2 + (theta[1]-388)**2))"
   ],
   "id": "aa80828de74205f5",
   "outputs": [
    {
     "name": "stdout",
     "output_type": "stream",
     "text": [
      "Set parameter Username\n",
      "Academic license - for non-commercial use only - expires 2025-12-20\n",
      "Using a found active set [0, 2]\n"
     ]
    }
   ],
   "execution_count": 4
  },
  {
   "cell_type": "code",
   "source": [
    "# # Bansal (2000) Example 4\n",
    "# t_bounds = [(390, 410), (440, 460), (390, 410), (420, 440), (300, 320), (280, 300), (275, 295)]\n",
    "# nt = len(t_bounds)\n",
    "# nd = 0\n",
    "# d_bounds = None\n",
    "# d_vector = None\n",
    "# m = MPModeler()\n",
    "# \n",
    "# u = m.add_var('u')\n",
    "# z = m.add_var('z')\n",
    "# \n",
    "# t1 = m.add_param('t1')\n",
    "# t2 = m.add_param('t2')\n",
    "# t3 = m.add_param('t3')\n",
    "# t4 = m.add_param('t4')\n",
    "# t5 = m.add_param('t5')\n",
    "# t6 = m.add_param('t6')\n",
    "# t7 = m.add_param('t7')\n",
    "# \n",
    "# m.add_constr(5/12*z + 1/3*t3 + t6 + 1/3*t7 + -(1365/2) <= u)\n",
    "# m.add_constr(5/12*z - 1/3*t1 - 1/6*t2 + 1/3*t3 - 5/12*t5 + t6 + 1/3*t7 - (715/2) <= u)\n",
    "# m.add_constr(-7/12*z + 2/3*t1 + 1/3*t2 + 1/3*t3 + 5/6*t5 + t6 + 1/3*t7 - (2015/2) <= u)\n",
    "# m.add_constr(-5/12*z - 1/3*t3 - 1/3*t7 + (715/2) <= u)\n",
    "# m.add_constr(z - t4 <= u)\n",
    "# m.add_constr(4/5*t3 + t6 + 4/5*t7 - 858 <= u)\n",
    "# m.add_constr(t3 + t7 - 700 <= u)\n",
    "# \n",
    "# m.add_constr(t_bounds[0][0] <= t1)\n",
    "# m.add_constr(t1 <= t_bounds[0][1])\n",
    "# m.add_constr(t_bounds[1][0] <= t2)\n",
    "# m.add_constr(t2 <= t_bounds[1][1])\n",
    "# m.add_constr(t_bounds[2][0] <= t3)\n",
    "# m.add_constr(t3 <= t_bounds[2][1])\n",
    "# m.add_constr(t_bounds[3][0] <= t4)\n",
    "# m.add_constr(t4 <= t_bounds[3][1])\n",
    "# m.add_constr(t_bounds[4][0] <= t5)\n",
    "# m.add_constr(t5 <= t_bounds[4][1])\n",
    "# m.add_constr(t_bounds[5][0] <= t6)\n",
    "# m.add_constr(t6 <= t_bounds[5][1])\n",
    "# m.add_constr(t_bounds[6][0] <= t7)\n",
    "# m.add_constr(t7 <= t_bounds[6][1])\n",
    "# m.set_objective(u)\n",
    "# prob = m.formulate_problem()\n",
    "# prob.process_constraints()\n",
    "# \n",
    "# solution_flexibility = solve_mpqp(problem=prob, algorithm=mpqp_algorithm.geometric)\n",
    "# \n",
    "# def joint_pdf(theta:list):\n",
    "#     return (5.00e-8) * (0.05*(theta[0]-390))**(0.2) * (1 - 0.05*(theta[0]-390))**(0.2) * (0.05*(theta[1]-440))**(0.2) * (1 - 0.05*(theta[1]-440))**(0.2) * (0.05*(theta[4]-300))**(0.2) * (1 - 0.05*(theta[4]-300))**(0.2)"
   ],
   "metadata": {
    "collapsed": false,
    "ExecuteTime": {
     "end_time": "2025-06-24T21:52:34.782083Z",
     "start_time": "2025-06-24T21:52:34.767495Z"
    }
   },
   "id": "7aab95f5307c38c3",
   "outputs": [],
   "execution_count": 5
  },
  {
   "metadata": {
    "ExecuteTime": {
     "end_time": "2025-06-24T21:52:34.797734Z",
     "start_time": "2025-06-24T21:52:34.784191Z"
    }
   },
   "cell_type": "code",
   "source": [
    "for i in range(len(solution_flexibility)):\n",
    "    print(f'i:{i}\\nA:{solution_flexibility.critical_regions[i].A}\\nb:{solution_flexibility.critical_regions[i].b}')"
   ],
   "id": "c381518ae0bbe659",
   "outputs": [
    {
     "name": "stdout",
     "output_type": "stream",
     "text": [
      "i:0\n",
      "A:[[-0.75 -0.25 -0.5  -1.  ]\n",
      " [ 0.75  1.75  0.5   1.  ]]\n",
      "b:[[ 1152.5]\n",
      " [-1677.5]]\n",
      "i:1\n",
      "A:[[-0.75 -0.25 -1.    0.  ]\n",
      " [ 0.75  1.75  1.    0.  ]]\n",
      "b:[[ 1126.]\n",
      " [-1651.]]\n",
      "i:2\n",
      "A:[[1.11022302e-16 2.22044605e-16 1.11022302e-16 5.00000000e-01]\n",
      " [1.50000000e+00 2.00000000e+00 1.00000000e+00 2.50000000e+00]]\n",
      "b:[[ -161.5]\n",
      " [-2991.5]]\n",
      "i:3\n",
      "A:[[-2.22044605e-16 -2.22044605e-16 -5.00000000e-01  1.50000000e+00]\n",
      " [ 1.50000000e+00  2.00000000e+00  1.50000000e+00  1.50000000e+00]]\n",
      "b:[[ -188.]\n",
      " [-2965.]]\n"
     ]
    }
   ],
   "execution_count": 6
  },
  {
   "cell_type": "code",
   "outputs": [],
   "source": [
    "# cridx = 3"
   ],
   "metadata": {
    "collapsed": false,
    "ExecuteTime": {
     "end_time": "2025-06-24T21:52:34.813346Z",
     "start_time": "2025-06-24T21:52:34.798785Z"
    }
   },
   "id": "d541ac9ba935a68",
   "execution_count": 7
  },
  {
   "cell_type": "code",
   "outputs": [],
   "source": [
    "# solution_flexibility.critical_regions[cridx].A"
   ],
   "metadata": {
    "collapsed": false,
    "ExecuteTime": {
     "end_time": "2025-06-24T21:52:34.828773Z",
     "start_time": "2025-06-24T21:52:34.814347Z"
    }
   },
   "id": "990315fc872e4970",
   "execution_count": 8
  },
  {
   "cell_type": "code",
   "outputs": [],
   "source": [
    "# solution_flexibility.critical_regions[cridx].b"
   ],
   "metadata": {
    "collapsed": false,
    "ExecuteTime": {
     "end_time": "2025-06-24T21:52:34.844440Z",
     "start_time": "2025-06-24T21:52:34.829850Z"
    }
   },
   "id": "450908427b1addfc",
   "execution_count": 9
  },
  {
   "cell_type": "code",
   "outputs": [],
   "source": [
    "# solution_flexibility.critical_regions[cridx].E"
   ],
   "metadata": {
    "collapsed": false,
    "ExecuteTime": {
     "end_time": "2025-06-24T21:52:34.860067Z",
     "start_time": "2025-06-24T21:52:34.845485Z"
    }
   },
   "id": "f77de676620e54f",
   "execution_count": 10
  },
  {
   "cell_type": "code",
   "outputs": [],
   "source": [
    "# solution_flexibility.critical_regions[cridx].f"
   ],
   "metadata": {
    "collapsed": false,
    "ExecuteTime": {
     "end_time": "2025-06-24T21:52:34.875721Z",
     "start_time": "2025-06-24T21:52:34.861136Z"
    }
   },
   "id": "9c51dc28b17f7f5f",
   "execution_count": 11
  },
  {
   "cell_type": "code",
   "source": [
    "def gauss_legendre_between_bounds(expr_coeffs: np.ndarray, n_gl: int, max_idx: int = 0, min_idx: int = 1):\n",
    "    \"\"\"\n",
    "    Generate n Gauss–Legendre quadrature points and weights between min and max bounds\n",
    "    defined by two linear expressions.\n",
    "\n",
    "    Parameters:\n",
    "        expr_coeffs (np.ndarray): 2xD array. Row 0 = max point coefficients, Row 1 = min.\n",
    "        n (int): Number of quadrature points.\n",
    "\n",
    "    Returns:\n",
    "        points (np.ndarray): (n, D) array of quadrature points.\n",
    "        weights (np.ndarray): (n,) array of weights.\n",
    "    \"\"\"\n",
    "    if expr_coeffs.shape[0] != 2:\n",
    "        raise ValueError(\"expr_coeffs must have two rows\")\n",
    "\n",
    "    max_coeffs = expr_coeffs[max_idx]\n",
    "    min_coeffs = expr_coeffs[min_idx]\n",
    "\n",
    "    # Get Gauss–Legendre points and weights on [-1, 1]\n",
    "    nodes, weights = leggauss(n_gl)\n",
    "    weights = weights.reshape(-1,1)\n",
    "    \n",
    "    # Affine transformation to domain [min_coeffs, max_coeffs]\n",
    "    points = 0.5 * (np.outer((nodes + 1), max_coeffs) + np.outer((1 - nodes), min_coeffs))\n",
    "\n",
    "    # Adjust weights to match new domain\n",
    "    weights = 0.5 * weights@(max_coeffs - min_coeffs).reshape(1,-1)\n",
    "\n",
    "    return points, weights"
   ],
   "metadata": {
    "collapsed": false,
    "ExecuteTime": {
     "end_time": "2025-06-24T21:52:34.891314Z",
     "start_time": "2025-06-24T21:52:34.876770Z"
    }
   },
   "id": "812c564dfe15edde",
   "outputs": [],
   "execution_count": 12
  },
  {
   "cell_type": "code",
   "source": [
    "def get_quadrature_points(solution, nq: int, t_vector: np.ndarray):\n",
    "    # Augment t_vector once\n",
    "    t_vector_aug = np.append(t_vector, 1).reshape(-1, 1)\n",
    "    \n",
    "    if isinstance(solution, list):\n",
    "        qpoints, qweights = np.polynomial.legendre.leggauss(nq)\n",
    "        min, max = solution[0], solution[1]\n",
    "        qps_mapped = 0.5*(max*(1+qpoints) + min*(1-qpoints))\n",
    "        qws_mapped = 0.5*(max-min)*qweights\n",
    "        # print(max, min, qps_mapped, qws_mapped)\n",
    "        return max, min, qps_mapped, qws_mapped\n",
    "    \n",
    "    for region in solution.critical_regions:\n",
    "        if region.is_inside(t_vector):\n",
    "            coeffs = np.concatenate([region.A, region.b], axis=1)[:2, :]\n",
    "            qpoints, qweights = gauss_legendre_between_bounds(expr_coeffs=coeffs, n_gl=nq)\n",
    "            return coeffs[0] @ t_vector_aug, coeffs[1] @ t_vector_aug, qpoints @ t_vector_aug, qweights @ t_vector_aug\n",
    "    \n",
    "    # print(f't_vector: {t_vector}')\n",
    "    # print(f'solution:{solution}')\n",
    "    raise ValueError(\"No region found that contains the given t_vector.\")\n"
   ],
   "metadata": {
    "collapsed": false,
    "ExecuteTime": {
     "end_time": "2025-06-24T21:52:34.907005Z",
     "start_time": "2025-06-24T21:52:34.892380Z"
    }
   },
   "id": "7f5099cf107d0881",
   "outputs": [],
   "execution_count": 13
  },
  {
   "metadata": {
    "ExecuteTime": {
     "end_time": "2025-06-24T21:52:34.922056Z",
     "start_time": "2025-06-24T21:52:34.908078Z"
    }
   },
   "cell_type": "code",
   "source": [
    "def mpformulate_theta_bounds(A0, b0, F0, num_theta:int, theta_bounds:list, num_cr:int, num_design:int=0, design_bounds:list=None, theta_m:int=0):\n",
    "    \n",
    "    c = np.hstack([np.array([-1, 1]).reshape(1, -1), np.zeros((1, 2 * (num_theta - 1 - theta_m)))]).reshape(-1,1)\n",
    "    # print(f'c:{c}')\n",
    "    # print(f'c.shape: {c.shape}')\n",
    "    \n",
    "    row1_block = np.hstack([block for i in range(theta_m, num_theta) for block in (A0[:, [i]], np.zeros((num_cr, 1)))])\n",
    "    row2_block = np.hstack([block for i in range(theta_m, num_theta) for block in (np.zeros((num_cr, 1)), A0[:, [i]])])\n",
    "    bound_row = np.hstack([np.array([-1, 1]).reshape(1, -1), np.zeros((1, 2 * (num_theta - 1 - theta_m)))])\n",
    "    A = np.vstack([row1_block, row2_block, bound_row, -np.eye(2*(num_theta-theta_m)), np.eye(2*(num_theta-theta_m))])\n",
    "    # print(f'A: {A}')\n",
    "    # print(f'A.shape: {A.shape}')\n",
    "    \n",
    "    x_lb = np.array([val for i in range(theta_m, len(theta_bounds)) for val in [theta_bounds[i][0]] * 2])\n",
    "    x_ub = np.array([val for i in range(theta_m, len(theta_bounds)) for val in [theta_bounds[i][1]] * 2])\n",
    "    b = np.vstack([b0, b0, np.zeros((1,1)), -x_lb.reshape(-1,1), x_ub.reshape(-1,1)])\n",
    "    # print(f'b: {b}')\n",
    "    # print(f'b.shape: {b.shape}')\n",
    "    \n",
    "    if F0.size==0 and theta_m==0:\n",
    "        # print('here')\n",
    "        return A, b, c, np.array([]), np.array([]), np.array([]), np.array([]) \n",
    "    \n",
    "    F = np.vstack([F0, F0, np.zeros((1,num_design)), np.zeros((4*(num_theta-theta_m), num_design))]) if num_design>0 else np.vstack([F0, F0])\n",
    "    # print(f'F:{F}')\n",
    "    # print(f'F.shape: {F.shape}')\n",
    "    if theta_m > 0:\n",
    "        F_lltheta = np.hstack([A0[:, [i]] for i in range(theta_m)])\n",
    "        # print(f'F_lltheta: {F_lltheta}')\n",
    "        # print(f'F_lltheta.shape: {F_lltheta.shape}')\n",
    "        F = np.hstack([np.vstack([-F_lltheta, -F_lltheta, np.zeros((1,len(range(theta_m)))), np.zeros((4*(num_theta-theta_m), theta_m))]), F]) if F.size > 0 else np.vstack([-F_lltheta, -F_lltheta, np.zeros((1,len(range(theta_m)))), np.zeros((4*(num_theta-theta_m), theta_m))])\n",
    "    # print(f'F:{F}')\n",
    "    # print(f'F.shape: {F.shape}')\n",
    "    \n",
    "    H = np.zeros((2*(num_theta-theta_m), theta_m+num_design))\n",
    "    # print(f'H:{H}')\n",
    "    # print(f'H.shape: {H.shape}')\n",
    "    \n",
    "    A_t = np.vstack([-np.eye(theta_m+num_design), np.eye(theta_m+num_design)])\n",
    "    # print(f'A_t:{A_t}')\n",
    "    # print(f'A_t.shape: {A_t.shape}')\n",
    "    \n",
    "    theta_lb = np.array([-theta_bounds[i][0] for i in range(theta_m)] + ([-j[0] for j in design_bounds] if isinstance(design_bounds, list) \n",
    "                                                                        else [])).reshape(-1, 1)\n",
    "    theta_ub = np.array([theta_bounds[i][1] for i in range(theta_m)] + ([j[1] for j in design_bounds] if isinstance(design_bounds, list) \n",
    "                                                                        else [])).reshape(-1, 1)\n",
    "    \n",
    "    b_t = np.vstack([theta_lb, theta_ub])\n",
    "    # print(f'b_t:{b_t}')\n",
    "    # print(f'b_t.shape: {b_t.shape}')\n",
    "    \n",
    "    return A, b, c, H, A_t, b_t, F"
   ],
   "id": "49667208fc1622cf",
   "outputs": [],
   "execution_count": 14
  },
  {
   "metadata": {
    "ExecuteTime": {
     "end_time": "2025-06-24T21:52:34.937767Z",
     "start_time": "2025-06-24T21:52:34.924224Z"
    }
   },
   "cell_type": "code",
   "source": [
    "def get_theta_bounds(flex_sol, numt, tbounds, numd:int=0, dbounds:list=None, psi_idx:int=0):\n",
    "    \n",
    "    theta_bound_dict = defaultdict(dict)\n",
    "    prob_dict = defaultdict(dict)\n",
    "    \n",
    "    A0, b0, F0 = np.empty((len(flex_sol), numt)), np.empty((len(flex_sol), 1)), np.empty((len(flex_sol), numd))\n",
    "    num_cr = len(flex_sol.critical_regions)\n",
    "    for i, region in enumerate(flex_sol.critical_regions):\n",
    "        A0[i] = region.A[psi_idx,:numt]\n",
    "        b0[i] = -region.b[psi_idx]\n",
    "        F0[i] = -region.A[psi_idx, numt:numt+numd]\n",
    "    # print(f'num_cr:{num_cr}')\n",
    "    # print(f'num_theta:{num_theta}')\n",
    "    # print(f'num_design:{num_design}')\n",
    "    # print(f\"A0: {A0}\")\n",
    "    # print(f\"b0: {b0}\")\n",
    "    # print(f\"F0: {F0}\")\n",
    "    \n",
    "    \n",
    "    for i in range(numt):\n",
    "        A, b, c, H, A_t, b_t, F = mpformulate_theta_bounds(A0=A0, b0=b0, F0=F0, num_theta=numt ,num_design=numd, theta_bounds=tbounds, num_cr=num_cr, design_bounds=dbounds, theta_m=i)\n",
    "        if F.size != 0:\n",
    "            # for k,j in product(range(A.shape[0]), range(A.shape[1])):\n",
    "            #     if A[k][j] <= 10^(-9):\n",
    "            #         A[k][j] = 0\n",
    "            # if i ==2:\n",
    "            #     print(f'A:{A}')\n",
    "            prob = MPLP_Program(A=A, b=b, c=c, H=H, A_t=A_t, b_t=b_t, F=F)\n",
    "            prob.process_constraints()\n",
    "            solution = solve_mpqp(problem=prob, algorithm=mpqp_algorithm.geometric)\n",
    "            prob_dict[f't{i}'] = prob\n",
    "            theta_bound_dict[f't{i}'] = solution\n",
    "        else:\n",
    "            # print(f'A: {A}')\n",
    "            # print(f'b: {b}')\n",
    "            # print(f'c: {c}')\n",
    "            linsol = linprog(c=c, A_ub=A, b_ub=b)\n",
    "            prob_dict[f't{i}'] = linsol\n",
    "            theta_bound_dict[f't{i}'] = [linsol.x[1], linsol.x[0]]\n",
    "            # if linsol.success:\n",
    "                # print(\"Optimal value:\", linsol.fun)\n",
    "                # print(\"Optimal x:\", linsol.x)\n",
    "        print(f'Finished solving for theta{i+1}')\n",
    "    probs = [p for key, p in prob_dict.items()]\n",
    "    # print([f'prob.A:{p.A}' for p in probs])\n",
    "    sols = [sol for key, sol in theta_bound_dict.items()]\n",
    "    \n",
    "    return probs, sols\n",
    "    "
   ],
   "id": "69a7a4487443671b",
   "outputs": [],
   "execution_count": 15
  },
  {
   "cell_type": "code",
   "source": [
    "def calculate_stocflexibility(flexibility_sol, nt:int, nq: Union[int, list], theta_bounds:list, nd:int=0, d_vector: np.ndarray = None, design_bounds:list = None) -> float:\n",
    "    \"\"\"\n",
    "    Calculates the stochastic flexibility index via nested Gauss–Legendre quadrature.\n",
    "\n",
    "    :param sols: list of solution objects (one per stage)\n",
    "    :param nq: int or list of ints; if int, used for all levels; if list, should match len(sols)\n",
    "    :param d_vector: base vector used to condition quadrature\n",
    "    :return: stochastic flexibility index\n",
    "    \"\"\"\n",
    "    \n",
    "    probs, sols = get_theta_bounds(flex_sol=flexibility_sol, numt=nt, numd=nd, tbounds=theta_bounds, dbounds=design_bounds)\n",
    "    # idx = 2\n",
    "    # print(f'probs[{idx}].A: {probs[idx].A}')\n",
    "    # print(f'probs[{idx}].b: {probs[idx].b}')\n",
    "    # print(f'probs[{idx}].c: {probs[idx].c}')\n",
    "    # print(f'probs[{idx}].H: {probs[idx].H}')\n",
    "    # print(f'probs[{idx}].Q_t: {probs[idx].Q_t}')\n",
    "    # print(f'probs[{idx}].c_t: {probs[idx].c_t}')\n",
    "    # print(f'probs[{idx}].c_c: {probs[idx].c_c}')\n",
    "    # print(f'probs[{idx}].F: {probs[idx].F}')\n",
    "    # print(f'probs[{idx}].At: {probs[idx].A_t}')\n",
    "    # print(f'probs[{idx}].bt: {probs[idx].b_t}')\n",
    "    # print(f'sols[{idx}: {sols[idx]}')\n",
    "    # print(f'sols.type: {type(sols)}')\n",
    "    # print(f'sols: {sols}')\n",
    "    # print(f\"ncr:{len(sols[idx].critical_regions)}\")\n",
    "    # parametric_plot(solution=sols[idx])\n",
    "    print('finished solving all mp problems')\n",
    "    # Validate nq if it's a list\n",
    "    if isinstance(nq, list):\n",
    "        if len(nq) != len(sols):\n",
    "            raise ValueError(\"If nq is a list, it must have the same length as sols\")\n",
    "\n",
    "    def recurse(level: int, theta_prev: list, weight_prev: float) -> float:\n",
    "        \"\"\"\n",
    "        Recursive inner function to compute nested quadrature.\n",
    "        \"\"\"\n",
    "        # print(f'level:{level}')\n",
    "        if level == len(sols):\n",
    "            return weight_prev * joint_pdf(theta_prev)\n",
    "\n",
    "        # Use nq[level] if nq is a list, otherwise use scalar nq\n",
    "        nql = nq[level] if isinstance(nq, list) else nq\n",
    "\n",
    "        t_vector = np.block([np.array(theta_prev), d_vector]) if isinstance(d_vector, np.ndarray) else np.array(theta_prev)\n",
    "        # print(f't_vector:{t_vector}')\n",
    "        # print(f'probs[{level}].A:{probs[level].A}')\n",
    "        _, _, t_points, t_weights = get_quadrature_points(solution=sols[level], nq=nql, t_vector=t_vector)\n",
    "\n",
    "        t_points = t_points.flatten()\n",
    "        t_weights = t_weights.flatten()\n",
    "        # print('t_points:', t_points)\n",
    "        # print(f'theta_prev: {theta_prev}')\n",
    "        return sum(recurse(level + 1, theta_prev + [v], weight_prev * w) for v, w in zip(t_points, t_weights))\n",
    "\n",
    "    stflex =  recurse(level=0, theta_prev=[], weight_prev=1.0)\n",
    "    \n",
    "    return probs, sols, stflex\n"
   ],
   "metadata": {
    "collapsed": false,
    "ExecuteTime": {
     "end_time": "2025-06-24T21:52:34.951780Z",
     "start_time": "2025-06-24T21:52:34.938850Z"
    }
   },
   "id": "add4cab6188feea6",
   "outputs": [],
   "execution_count": 16
  },
  {
   "cell_type": "code",
   "source": [
    "start_time = time.time()\n",
    "prob_list, sol_list, sf_idx = calculate_stocflexibility(flexibility_sol=solution_flexibility, nt=nt, nq=8, theta_bounds=t_bounds, nd=nd, design_bounds=d_bounds, d_vector=d_vector)\n",
    "end_time = time.time()"
   ],
   "metadata": {
    "collapsed": false,
    "ExecuteTime": {
     "end_time": "2025-06-24T21:52:35.728510Z",
     "start_time": "2025-06-24T21:52:34.969533Z"
    }
   },
   "id": "209205b95c91a998",
   "outputs": [
    {
     "name": "stdout",
     "output_type": "stream",
     "text": [
      "Finished solving for theta1\n",
      "Using a found active set [10, 13, 14, 15, 17, 18]\n",
      "Finished solving for theta2\n",
      "Using a found active set [10, 11, 12, 13]\n",
      "Finished solving for theta3\n",
      "Using a found active set [2, 8]\n",
      "Finished solving for theta4\n",
      "finished solving all mp problems\n"
     ]
    },
    {
     "ename": "ValueError",
     "evalue": "No region found that contains the given t_vector.",
     "output_type": "error",
     "traceback": [
      "\u001B[1;31m---------------------------------------------------------------------------\u001B[0m",
      "\u001B[1;31mValueError\u001B[0m                                Traceback (most recent call last)",
      "Cell \u001B[1;32mIn[18], line 2\u001B[0m\n\u001B[0;32m      1\u001B[0m start_time \u001B[38;5;241m=\u001B[39m time\u001B[38;5;241m.\u001B[39mtime()\n\u001B[1;32m----> 2\u001B[0m prob_list, sol_list, sf_idx \u001B[38;5;241m=\u001B[39m \u001B[43mcalculate_stocflexibility\u001B[49m\u001B[43m(\u001B[49m\u001B[43mflexibility_sol\u001B[49m\u001B[38;5;241;43m=\u001B[39;49m\u001B[43msolution_flexibility\u001B[49m\u001B[43m,\u001B[49m\u001B[43m \u001B[49m\u001B[43mnt\u001B[49m\u001B[38;5;241;43m=\u001B[39;49m\u001B[43mnt\u001B[49m\u001B[43m,\u001B[49m\u001B[43m \u001B[49m\u001B[43mnq\u001B[49m\u001B[38;5;241;43m=\u001B[39;49m\u001B[38;5;241;43m8\u001B[39;49m\u001B[43m,\u001B[49m\u001B[43m \u001B[49m\u001B[43mtheta_bounds\u001B[49m\u001B[38;5;241;43m=\u001B[39;49m\u001B[43mt_bounds\u001B[49m\u001B[43m,\u001B[49m\u001B[43m \u001B[49m\u001B[43mnd\u001B[49m\u001B[38;5;241;43m=\u001B[39;49m\u001B[43mnd\u001B[49m\u001B[43m,\u001B[49m\u001B[43m \u001B[49m\u001B[43mdesign_bounds\u001B[49m\u001B[38;5;241;43m=\u001B[39;49m\u001B[43md_bounds\u001B[49m\u001B[43m,\u001B[49m\u001B[43m \u001B[49m\u001B[43md_vector\u001B[49m\u001B[38;5;241;43m=\u001B[39;49m\u001B[43md_vector\u001B[49m\u001B[43m)\u001B[49m\n\u001B[0;32m      3\u001B[0m end_time \u001B[38;5;241m=\u001B[39m time\u001B[38;5;241m.\u001B[39mtime()\n",
      "Cell \u001B[1;32mIn[16], line 56\u001B[0m, in \u001B[0;36mcalculate_stocflexibility\u001B[1;34m(flexibility_sol, nt, nq, theta_bounds, nd, d_vector, design_bounds)\u001B[0m\n\u001B[0;32m     52\u001B[0m     \u001B[38;5;66;03m# print('t_points:', t_points)\u001B[39;00m\n\u001B[0;32m     53\u001B[0m     \u001B[38;5;66;03m# print(f'theta_prev: {theta_prev}')\u001B[39;00m\n\u001B[0;32m     54\u001B[0m     \u001B[38;5;28;01mreturn\u001B[39;00m \u001B[38;5;28msum\u001B[39m(recurse(level \u001B[38;5;241m+\u001B[39m \u001B[38;5;241m1\u001B[39m, theta_prev \u001B[38;5;241m+\u001B[39m [v], weight_prev \u001B[38;5;241m*\u001B[39m w) \u001B[38;5;28;01mfor\u001B[39;00m v, w \u001B[38;5;129;01min\u001B[39;00m \u001B[38;5;28mzip\u001B[39m(t_points, t_weights))\n\u001B[1;32m---> 56\u001B[0m stflex \u001B[38;5;241m=\u001B[39m  \u001B[43mrecurse\u001B[49m\u001B[43m(\u001B[49m\u001B[43mlevel\u001B[49m\u001B[38;5;241;43m=\u001B[39;49m\u001B[38;5;241;43m0\u001B[39;49m\u001B[43m,\u001B[49m\u001B[43m \u001B[49m\u001B[43mtheta_prev\u001B[49m\u001B[38;5;241;43m=\u001B[39;49m\u001B[43m[\u001B[49m\u001B[43m]\u001B[49m\u001B[43m,\u001B[49m\u001B[43m \u001B[49m\u001B[43mweight_prev\u001B[49m\u001B[38;5;241;43m=\u001B[39;49m\u001B[38;5;241;43m1.0\u001B[39;49m\u001B[43m)\u001B[49m\n\u001B[0;32m     58\u001B[0m \u001B[38;5;28;01mreturn\u001B[39;00m probs, sols, stflex\n",
      "Cell \u001B[1;32mIn[16], line 54\u001B[0m, in \u001B[0;36mcalculate_stocflexibility.<locals>.recurse\u001B[1;34m(level, theta_prev, weight_prev)\u001B[0m\n\u001B[0;32m     51\u001B[0m t_weights \u001B[38;5;241m=\u001B[39m t_weights\u001B[38;5;241m.\u001B[39mflatten()\n\u001B[0;32m     52\u001B[0m \u001B[38;5;66;03m# print('t_points:', t_points)\u001B[39;00m\n\u001B[0;32m     53\u001B[0m \u001B[38;5;66;03m# print(f'theta_prev: {theta_prev}')\u001B[39;00m\n\u001B[1;32m---> 54\u001B[0m \u001B[38;5;28;01mreturn\u001B[39;00m \u001B[38;5;28;43msum\u001B[39;49m\u001B[43m(\u001B[49m\u001B[43mrecurse\u001B[49m\u001B[43m(\u001B[49m\u001B[43mlevel\u001B[49m\u001B[43m \u001B[49m\u001B[38;5;241;43m+\u001B[39;49m\u001B[43m \u001B[49m\u001B[38;5;241;43m1\u001B[39;49m\u001B[43m,\u001B[49m\u001B[43m \u001B[49m\u001B[43mtheta_prev\u001B[49m\u001B[43m \u001B[49m\u001B[38;5;241;43m+\u001B[39;49m\u001B[43m \u001B[49m\u001B[43m[\u001B[49m\u001B[43mv\u001B[49m\u001B[43m]\u001B[49m\u001B[43m,\u001B[49m\u001B[43m \u001B[49m\u001B[43mweight_prev\u001B[49m\u001B[43m \u001B[49m\u001B[38;5;241;43m*\u001B[39;49m\u001B[43m \u001B[49m\u001B[43mw\u001B[49m\u001B[43m)\u001B[49m\u001B[43m \u001B[49m\u001B[38;5;28;43;01mfor\u001B[39;49;00m\u001B[43m \u001B[49m\u001B[43mv\u001B[49m\u001B[43m,\u001B[49m\u001B[43m \u001B[49m\u001B[43mw\u001B[49m\u001B[43m \u001B[49m\u001B[38;5;129;43;01min\u001B[39;49;00m\u001B[43m \u001B[49m\u001B[38;5;28;43mzip\u001B[39;49m\u001B[43m(\u001B[49m\u001B[43mt_points\u001B[49m\u001B[43m,\u001B[49m\u001B[43m \u001B[49m\u001B[43mt_weights\u001B[49m\u001B[43m)\u001B[49m\u001B[43m)\u001B[49m\n",
      "Cell \u001B[1;32mIn[16], line 54\u001B[0m, in \u001B[0;36m<genexpr>\u001B[1;34m(.0)\u001B[0m\n\u001B[0;32m     51\u001B[0m t_weights \u001B[38;5;241m=\u001B[39m t_weights\u001B[38;5;241m.\u001B[39mflatten()\n\u001B[0;32m     52\u001B[0m \u001B[38;5;66;03m# print('t_points:', t_points)\u001B[39;00m\n\u001B[0;32m     53\u001B[0m \u001B[38;5;66;03m# print(f'theta_prev: {theta_prev}')\u001B[39;00m\n\u001B[1;32m---> 54\u001B[0m \u001B[38;5;28;01mreturn\u001B[39;00m \u001B[38;5;28msum\u001B[39m(\u001B[43mrecurse\u001B[49m\u001B[43m(\u001B[49m\u001B[43mlevel\u001B[49m\u001B[43m \u001B[49m\u001B[38;5;241;43m+\u001B[39;49m\u001B[43m \u001B[49m\u001B[38;5;241;43m1\u001B[39;49m\u001B[43m,\u001B[49m\u001B[43m \u001B[49m\u001B[43mtheta_prev\u001B[49m\u001B[43m \u001B[49m\u001B[38;5;241;43m+\u001B[39;49m\u001B[43m \u001B[49m\u001B[43m[\u001B[49m\u001B[43mv\u001B[49m\u001B[43m]\u001B[49m\u001B[43m,\u001B[49m\u001B[43m \u001B[49m\u001B[43mweight_prev\u001B[49m\u001B[43m \u001B[49m\u001B[38;5;241;43m*\u001B[39;49m\u001B[43m \u001B[49m\u001B[43mw\u001B[49m\u001B[43m)\u001B[49m \u001B[38;5;28;01mfor\u001B[39;00m v, w \u001B[38;5;129;01min\u001B[39;00m \u001B[38;5;28mzip\u001B[39m(t_points, t_weights))\n",
      "Cell \u001B[1;32mIn[16], line 54\u001B[0m, in \u001B[0;36mcalculate_stocflexibility.<locals>.recurse\u001B[1;34m(level, theta_prev, weight_prev)\u001B[0m\n\u001B[0;32m     51\u001B[0m t_weights \u001B[38;5;241m=\u001B[39m t_weights\u001B[38;5;241m.\u001B[39mflatten()\n\u001B[0;32m     52\u001B[0m \u001B[38;5;66;03m# print('t_points:', t_points)\u001B[39;00m\n\u001B[0;32m     53\u001B[0m \u001B[38;5;66;03m# print(f'theta_prev: {theta_prev}')\u001B[39;00m\n\u001B[1;32m---> 54\u001B[0m \u001B[38;5;28;01mreturn\u001B[39;00m \u001B[38;5;28;43msum\u001B[39;49m\u001B[43m(\u001B[49m\u001B[43mrecurse\u001B[49m\u001B[43m(\u001B[49m\u001B[43mlevel\u001B[49m\u001B[43m \u001B[49m\u001B[38;5;241;43m+\u001B[39;49m\u001B[43m \u001B[49m\u001B[38;5;241;43m1\u001B[39;49m\u001B[43m,\u001B[49m\u001B[43m \u001B[49m\u001B[43mtheta_prev\u001B[49m\u001B[43m \u001B[49m\u001B[38;5;241;43m+\u001B[39;49m\u001B[43m \u001B[49m\u001B[43m[\u001B[49m\u001B[43mv\u001B[49m\u001B[43m]\u001B[49m\u001B[43m,\u001B[49m\u001B[43m \u001B[49m\u001B[43mweight_prev\u001B[49m\u001B[43m \u001B[49m\u001B[38;5;241;43m*\u001B[39;49m\u001B[43m \u001B[49m\u001B[43mw\u001B[49m\u001B[43m)\u001B[49m\u001B[43m \u001B[49m\u001B[38;5;28;43;01mfor\u001B[39;49;00m\u001B[43m \u001B[49m\u001B[43mv\u001B[49m\u001B[43m,\u001B[49m\u001B[43m \u001B[49m\u001B[43mw\u001B[49m\u001B[43m \u001B[49m\u001B[38;5;129;43;01min\u001B[39;49;00m\u001B[43m \u001B[49m\u001B[38;5;28;43mzip\u001B[39;49m\u001B[43m(\u001B[49m\u001B[43mt_points\u001B[49m\u001B[43m,\u001B[49m\u001B[43m \u001B[49m\u001B[43mt_weights\u001B[49m\u001B[43m)\u001B[49m\u001B[43m)\u001B[49m\n",
      "Cell \u001B[1;32mIn[16], line 54\u001B[0m, in \u001B[0;36m<genexpr>\u001B[1;34m(.0)\u001B[0m\n\u001B[0;32m     51\u001B[0m t_weights \u001B[38;5;241m=\u001B[39m t_weights\u001B[38;5;241m.\u001B[39mflatten()\n\u001B[0;32m     52\u001B[0m \u001B[38;5;66;03m# print('t_points:', t_points)\u001B[39;00m\n\u001B[0;32m     53\u001B[0m \u001B[38;5;66;03m# print(f'theta_prev: {theta_prev}')\u001B[39;00m\n\u001B[1;32m---> 54\u001B[0m \u001B[38;5;28;01mreturn\u001B[39;00m \u001B[38;5;28msum\u001B[39m(\u001B[43mrecurse\u001B[49m\u001B[43m(\u001B[49m\u001B[43mlevel\u001B[49m\u001B[43m \u001B[49m\u001B[38;5;241;43m+\u001B[39;49m\u001B[43m \u001B[49m\u001B[38;5;241;43m1\u001B[39;49m\u001B[43m,\u001B[49m\u001B[43m \u001B[49m\u001B[43mtheta_prev\u001B[49m\u001B[43m \u001B[49m\u001B[38;5;241;43m+\u001B[39;49m\u001B[43m \u001B[49m\u001B[43m[\u001B[49m\u001B[43mv\u001B[49m\u001B[43m]\u001B[49m\u001B[43m,\u001B[49m\u001B[43m \u001B[49m\u001B[43mweight_prev\u001B[49m\u001B[43m \u001B[49m\u001B[38;5;241;43m*\u001B[39;49m\u001B[43m \u001B[49m\u001B[43mw\u001B[49m\u001B[43m)\u001B[49m \u001B[38;5;28;01mfor\u001B[39;00m v, w \u001B[38;5;129;01min\u001B[39;00m \u001B[38;5;28mzip\u001B[39m(t_points, t_weights))\n",
      "Cell \u001B[1;32mIn[16], line 48\u001B[0m, in \u001B[0;36mcalculate_stocflexibility.<locals>.recurse\u001B[1;34m(level, theta_prev, weight_prev)\u001B[0m\n\u001B[0;32m     45\u001B[0m t_vector \u001B[38;5;241m=\u001B[39m np\u001B[38;5;241m.\u001B[39mblock([np\u001B[38;5;241m.\u001B[39marray(theta_prev), d_vector]) \u001B[38;5;28;01mif\u001B[39;00m \u001B[38;5;28misinstance\u001B[39m(d_vector, np\u001B[38;5;241m.\u001B[39mndarray) \u001B[38;5;28;01melse\u001B[39;00m np\u001B[38;5;241m.\u001B[39marray(theta_prev)\n\u001B[0;32m     46\u001B[0m \u001B[38;5;66;03m# print(f't_vector:{t_vector}')\u001B[39;00m\n\u001B[0;32m     47\u001B[0m \u001B[38;5;66;03m# print(f'probs[{level}].A:{probs[level].A}')\u001B[39;00m\n\u001B[1;32m---> 48\u001B[0m _, _, t_points, t_weights \u001B[38;5;241m=\u001B[39m \u001B[43mget_quadrature_points\u001B[49m\u001B[43m(\u001B[49m\u001B[43msolution\u001B[49m\u001B[38;5;241;43m=\u001B[39;49m\u001B[43msols\u001B[49m\u001B[43m[\u001B[49m\u001B[43mlevel\u001B[49m\u001B[43m]\u001B[49m\u001B[43m,\u001B[49m\u001B[43m \u001B[49m\u001B[43mnq\u001B[49m\u001B[38;5;241;43m=\u001B[39;49m\u001B[43mnql\u001B[49m\u001B[43m,\u001B[49m\u001B[43m \u001B[49m\u001B[43mt_vector\u001B[49m\u001B[38;5;241;43m=\u001B[39;49m\u001B[43mt_vector\u001B[49m\u001B[43m)\u001B[49m\n\u001B[0;32m     50\u001B[0m t_points \u001B[38;5;241m=\u001B[39m t_points\u001B[38;5;241m.\u001B[39mflatten()\n\u001B[0;32m     51\u001B[0m t_weights \u001B[38;5;241m=\u001B[39m t_weights\u001B[38;5;241m.\u001B[39mflatten()\n",
      "Cell \u001B[1;32mIn[13], line 21\u001B[0m, in \u001B[0;36mget_quadrature_points\u001B[1;34m(solution, nq, t_vector)\u001B[0m\n\u001B[0;32m     17\u001B[0m         \u001B[38;5;28;01mreturn\u001B[39;00m coeffs[\u001B[38;5;241m0\u001B[39m] \u001B[38;5;241m@\u001B[39m t_vector_aug, coeffs[\u001B[38;5;241m1\u001B[39m] \u001B[38;5;241m@\u001B[39m t_vector_aug, qpoints \u001B[38;5;241m@\u001B[39m t_vector_aug, qweights \u001B[38;5;241m@\u001B[39m t_vector_aug\n\u001B[0;32m     19\u001B[0m \u001B[38;5;66;03m# print(f't_vector: {t_vector}')\u001B[39;00m\n\u001B[0;32m     20\u001B[0m \u001B[38;5;66;03m# print(f'solution:{solution}')\u001B[39;00m\n\u001B[1;32m---> 21\u001B[0m \u001B[38;5;28;01mraise\u001B[39;00m \u001B[38;5;167;01mValueError\u001B[39;00m(\u001B[38;5;124m\"\u001B[39m\u001B[38;5;124mNo region found that contains the given t_vector.\u001B[39m\u001B[38;5;124m\"\u001B[39m)\n",
      "\u001B[1;31mValueError\u001B[0m: No region found that contains the given t_vector."
     ]
    }
   ],
   "execution_count": 18
  },
  {
   "cell_type": "code",
   "source": [
    "print(f'Stochastic Flexibility Index: {sf_idx:.4}')"
   ],
   "metadata": {
    "collapsed": false,
    "ExecuteTime": {
     "start_time": "2025-06-24T21:52:35.729595Z"
    }
   },
   "id": "47b493ee39df8350",
   "outputs": [],
   "execution_count": null
  },
  {
   "cell_type": "code",
   "outputs": [],
   "source": [
    "print(f'Execution time: {end_time-start_time}')"
   ],
   "metadata": {
    "collapsed": false
   },
   "id": "e34a68046f55f3d8",
   "execution_count": null
  },
  {
   "cell_type": "code",
   "outputs": [],
   "source": [
    "# idx = 6"
   ],
   "metadata": {
    "collapsed": false,
    "ExecuteTime": {
     "start_time": "2025-06-24T21:52:35.730631Z"
    }
   },
   "id": "fa37bb9a8f23a9a0",
   "execution_count": null
  },
  {
   "cell_type": "code",
   "outputs": [],
   "source": [
    "# len(sol_list[idx].critical_regions)"
   ],
   "metadata": {
    "collapsed": false,
    "ExecuteTime": {
     "start_time": "2025-06-24T21:52:35.731702Z"
    }
   },
   "id": "80c136dbc10facbc",
   "execution_count": null
  },
  {
   "cell_type": "code",
   "outputs": [],
   "source": [
    "# cidx=3"
   ],
   "metadata": {
    "collapsed": false,
    "ExecuteTime": {
     "start_time": "2025-06-24T21:52:35.732738Z"
    }
   },
   "id": "413d9a325d603243",
   "execution_count": null
  },
  {
   "cell_type": "code",
   "outputs": [],
   "source": [
    "# sol_list[idx].critical_regions[cidx].A"
   ],
   "metadata": {
    "collapsed": false,
    "ExecuteTime": {
     "start_time": "2025-06-24T21:52:35.732738Z"
    }
   },
   "id": "1e01f1a04ba4e2de",
   "execution_count": null
  },
  {
   "cell_type": "code",
   "outputs": [],
   "source": [
    "# sol_list[idx].critical_regions[cidx].b"
   ],
   "metadata": {
    "collapsed": false,
    "ExecuteTime": {
     "start_time": "2025-06-24T21:52:35.733771Z"
    }
   },
   "id": "a45e07472ce66f50",
   "execution_count": null
  },
  {
   "cell_type": "code",
   "outputs": [],
   "source": [
    "# sol_list[idx].critical_regions[cidx].E"
   ],
   "metadata": {
    "collapsed": false,
    "ExecuteTime": {
     "start_time": "2025-06-24T21:52:35.733771Z"
    }
   },
   "id": "2251a62da1cdf79f",
   "execution_count": null
  },
  {
   "cell_type": "code",
   "outputs": [],
   "source": [
    "# sol_list[idx].critical_regions[cidx].f"
   ],
   "metadata": {
    "collapsed": false,
    "ExecuteTime": {
     "start_time": "2025-06-24T21:52:35.734803Z"
    }
   },
   "id": "359d2315b799ddc1",
   "execution_count": null
  },
  {
   "cell_type": "code",
   "outputs": [],
   "source": [],
   "metadata": {
    "collapsed": false,
    "ExecuteTime": {
     "start_time": "2025-06-24T21:52:35.735836Z"
    }
   },
   "id": "cee277e5bb64b606",
   "execution_count": null
  }
 ],
 "metadata": {
  "kernelspec": {
   "display_name": "Python 3",
   "language": "python",
   "name": "python3"
  },
  "language_info": {
   "codemirror_mode": {
    "name": "ipython",
    "version": 2
   },
   "file_extension": ".py",
   "mimetype": "text/x-python",
   "name": "python",
   "nbconvert_exporter": "python",
   "pygments_lexer": "ipython2",
   "version": "2.7.6"
  }
 },
 "nbformat": 4,
 "nbformat_minor": 5
}
