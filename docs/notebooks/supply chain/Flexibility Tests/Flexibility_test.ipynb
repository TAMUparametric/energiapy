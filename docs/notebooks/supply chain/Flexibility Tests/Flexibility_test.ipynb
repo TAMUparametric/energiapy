{
 "cells": [
  {
   "cell_type": "code",
   "id": "initial_id",
   "metadata": {
    "collapsed": true,
    "ExecuteTime": {
     "end_time": "2025-09-04T21:08:19.124546Z",
     "start_time": "2025-09-04T21:08:18.612131Z"
    }
   },
   "source": [
    "import itertools\n",
    "import numpy as np\n",
    "from pyomo.environ import *\n",
    "from pyomo.environ import value as pyoval\n",
    "from pyomo.environ import Binary, NonNegativeReals\n",
    "from typing import Sequence, Tuple\n",
    "from collections import defaultdict"
   ],
   "outputs": [],
   "execution_count": 1
  },
  {
   "cell_type": "markdown",
   "source": [
    "## VERTEX ENUMERATION\n",
    "\n",
    "delta = min delta^k\n",
    "\n",
    "delta^k = max delta\n",
    "\n",
    "s.t.    A (d, z, theta^k) <= b\n",
    "        theta = theta_nominal +/- theta_deviations\n",
    "        z, theta >= 0"
   ],
   "metadata": {
    "collapsed": false
   },
   "id": "157438b75e525284"
  },
  {
   "cell_type": "code",
   "source": [
    "def vertex_enumeration(A:np.ndarray, b:np.ndarray, theta_nominal:list, theta_deviations:list, design_vectors:(np.ndarray, list[np.ndarray])=None, z_bounds:list[Tuple]=None):\n",
    "    \"\"\"\n",
    "    A(d, z, theta) <= b\n",
    "    Args:\n",
    "        A: 2-D numpy array of coefficients of design, control, and uncertain parameters A(d, z, theta)\n",
    "        b: 1-D numpy array of coefficients of constants\n",
    "        theta_nominal: List of nominal values of uncertain parameters\n",
    "        theta_deviations: List of bounds for uncertain parameters\n",
    "        design_vectors: List of 1-D numpy arrays of design variable values (or a single array)\n",
    "        z_bounds: List of bounds for control parameters\n",
    "\n",
    "    Returns:\n",
    "\n",
    "    \"\"\"\n",
    "    vertex_list = list(itertools.product(['+','-'], repeat=len(theta_nominal)))\n",
    "\n",
    "    if not (isinstance(theta_nominal, list) and isinstance(theta_deviations, list) and all(isinstance(t, tuple) and len(t)==2 and all(isinstance(x, (int, float)) for x in t) for t in theta_deviations)):\n",
    "        raise ValueError('Please provide a list (of length n_t) of tuples (of size 2) and containing only float or integer values!')\n",
    "    elif len(theta_nominal) != len(theta_deviations):\n",
    "        raise ValueError('Inconsistent input for nominal theta values and theta bounds')\n",
    "\n",
    "    n_t = len(theta_nominal)\n",
    "    n_d = design_vectors[0].shape[0] if isinstance(design_vectors, list) else design_vectors.shape[0] if isinstance(design_vectors, np.ndarray) else 0\n",
    "    n_c = A.shape[1] - n_t - n_d\n",
    "\n",
    "    if n_c < 0:\n",
    "        raise ValueError('Inconsistent coefficients input')       \n",
    "    if isinstance(z_bounds, list):        \n",
    "        if not (len(z_bounds) == n_c and all(isinstance(t, tuple) and len(t)==2 and all(isinstance(x, (int, float)) for x in t) for t in z_bounds)):\n",
    "            raise ValueError('Please provide a list (of length n_c) of tuples (of size 2) and containing only float or integer values!')\n",
    "\n",
    "    def evaluate_delta_fixed_design(z_b:list[Tuple]=None, design_vector:np.ndarray=None):\n",
    "        model_min = None\n",
    "        delta_min = None\n",
    "        active_set_list = None\n",
    "        vertex_min = None\n",
    "\n",
    "        for vertex in vertex_list:\n",
    "            m = ConcreteModel()\n",
    "            m.Ai = RangeSet(A.shape[0])\n",
    "            m.Aj = RangeSet(A.shape[1])\n",
    "            m.i = RangeSet(n_d + n_c + n_t)\n",
    "\n",
    "            m.var = Var(m.i, within=NonNegativeReals) # structure (d,z,theta)\n",
    "            m.delta = Var(within=NonNegativeReals)\n",
    "\n",
    "            # system constraints: A(d,z,theta) <= b\n",
    "            def Ax_leq_b_rule(instance, i):\n",
    "                return sum(A[i-1, j-1]*instance.var[j] for j in instance.Aj) <= b[i-1]\n",
    "            m.Ax_leq_b = Constraint(m.Ai, rule=Ax_leq_b_rule)\n",
    "\n",
    "            # Add constraint for fixing first vars to the design value: d = dE\n",
    "            if isinstance(design_vector, np.ndarray):\n",
    "                m.d = RangeSet(n_d)\n",
    "                def fix_design_rule(instance, d):\n",
    "                    return instance.var[d] == design_vector[d-1]\n",
    "                m.d_eq = Constraint(m.d, rule=fix_design_rule)\n",
    "\n",
    "            if isinstance(z_b, list):\n",
    "                m.z = RangeSet(n_c)\n",
    "                def z_LB_rule(instance, z):\n",
    "                    return z_bounds[z-1][0] <= instance.var[n_d+z]\n",
    "                m.z_lb = Constraint(m.z, rule=z_LB_rule)\n",
    "\n",
    "                def z_UB_rule(instance, z):\n",
    "                    return instance.var[n_d+z] <= z_bounds[z-1][1]\n",
    "                m.z_ub = Constraint(m.z, rule=z_UB_rule)\n",
    "\n",
    "            # theta constraints: theta = theta_nominal +/- theta_deviations * delta\n",
    "            m.constraints = ConstraintList()\n",
    "            theta_index = n_d + n_c + 1\n",
    "            for i in range(len(theta_nominal)):\n",
    "                if vertex[i]=='+':\n",
    "                    expr = m.var[theta_index] == theta_nominal[i] + theta_deviations[i][1]*m.delta\n",
    "                else:\n",
    "                    expr = m.var[theta_index] == theta_nominal[i] - theta_deviations[i][0]*m.delta\n",
    "                m.constraints.add(expr)\n",
    "                theta_index+=1\n",
    "\n",
    "            # Objective\n",
    "            m.objective = Objective(expr=m.delta, sense=maximize)\n",
    "            solver = SolverFactory('gurobi')\n",
    "            solver.solve(m)\n",
    "\n",
    "            if delta_min is None or pyoval(m.delta) < delta_min:\n",
    "                delta_min = pyoval(m.delta)\n",
    "                active_set_list = [f'f{c}' for c in m.Ax_leq_b if round(pyoval(m.Ax_leq_b[c].body),5) == round(pyoval(m.Ax_leq_b[c].upper),5)]\n",
    "                model_min = m\n",
    "                vertex_min = vertex\n",
    "\n",
    "        return model_min, active_set_list, vertex_min, delta_min\n",
    "\n",
    "    if isinstance(design_vectors, list):\n",
    "        model_min, active_set_min, vertex_min, delta_min = [defaultdict(dict) for _ in range(len(design_vectors))]\n",
    "        for i in range(len(design_vectors)):\n",
    "            model_min[i], active_set_min[i], vertex_min[i], delta_min[i] = evaluate_delta_fixed_design(z_b=z_bounds, design_vector=design_vectors[i])\n",
    "        return model_min, active_set_min, vertex_min, delta_min\n",
    "    elif isinstance(design_vectors, np.ndarray):\n",
    "        return evaluate_delta_fixed_design(z_b=z_bounds, design_vector=design_vectors)\n",
    "    else:\n",
    "        return evaluate_delta_fixed_design(z_b=z_bounds)"
   ],
   "metadata": {
    "collapsed": false,
    "ExecuteTime": {
     "end_time": "2025-09-04T21:08:19.134674Z",
     "start_time": "2025-09-04T21:08:19.125654Z"
    }
   },
   "id": "3264e197d51e9c41",
   "outputs": [],
   "execution_count": 2
  },
  {
   "metadata": {
    "ExecuteTime": {
     "end_time": "2025-09-04T21:08:19.541366Z",
     "start_time": "2025-09-04T21:08:19.135710Z"
    }
   },
   "cell_type": "code",
   "source": [
    "theta_nominal = [620, 388, 583, 313]\n",
    "theta_deviations = [(10, 10), (10, 10), (10, 10), (10, 10)]\n",
    "\n",
    "A = np.array([\n",
    "    [-2/3, 0, 1, 0, 0],\n",
    "    [-0.5, -0.75, -1, -1, 0],\n",
    "    [1, -1.5, -2, -1, -2],\n",
    "    [1, -1.5, -2, -1, 0],\n",
    "    [-1, 1.5, 2, 1, 3]\n",
    "])\n",
    "\n",
    "b = np.array([350, -1388.5, -2830, -2044, 3153])\n",
    "\n",
    "d0 = np.array([0.1])\n",
    "\n",
    "model_VE, active_set_list, vertex, delta = vertex_enumeration(A=A, b=b, theta_nominal=theta_nominal, theta_deviations=theta_deviations)\n",
    "\n",
    "print(f'Flexibility index calculated through vertex enumeration: {delta}')\n",
    "print(f'Active set for vertex {vertex}: {active_set_list}')"
   ],
   "id": "78d05f09b483596e",
   "outputs": [
    {
     "name": "stdout",
     "output_type": "stream",
     "text": [
      "Flexibility index calculated through vertex enumeration: 0.5600000000000023\n",
      "Active set for vertex ('-', '-', '-', '-'): ['f1', 'f3']\n"
     ]
    }
   ],
   "execution_count": 3
  },
  {
   "cell_type": "markdown",
   "source": [
    "## ACTIVE SET STRATEGY"
   ],
   "metadata": {
    "collapsed": false
   },
   "id": "221c66e8e54ecb58"
  },
  {
   "cell_type": "code",
   "source": [
    "def active_set_method(A:np.ndarray, b:np.ndarray, theta_nominal:list, theta_deviations:list, design_vectors:np.ndarray | list[np.ndarray]=None, z_bounds:list[Tuple]=None, bigM:float=1e3):\n",
    "    \"\"\"\n",
    "    From:\n",
    "    A(d, z, theta) <= b\n",
    "    z_lb <= z <= z_ub\n",
    "    theta_nominal - delta * theta_deviations_lb <= theta <= theta_nominal + delta * theta_deviations_ub\n",
    "    \n",
    "    Convert to:\n",
    "    h(d, z, theta, slack, dual, binary) == b_h\n",
    "    g(z, theta, slack, dual, binary, delta) <= b_g\n",
    "\n",
    "    Args:\n",
    "        A: Coefficient matrix of system equations\n",
    "        b: Vector of constant values\n",
    "        theta_nominal: Nominal values of uncertain parameters\n",
    "        theta_deviations: Allowable changes from the nominal value (lower bound, upper bound)\n",
    "        design_vectors: Values of design variables\n",
    "        z_bounds: Bounds on control variables\n",
    "        bigM: \n",
    "\n",
    "    Returns:\n",
    "        m: Pyomo model\n",
    "        delta: Flexibility index value\n",
    "    \"\"\"\n",
    "    if not (isinstance(theta_nominal, list) and isinstance(theta_deviations, list) and all(isinstance(t, tuple) and len(t)==2 and all(isinstance(x, (int, float)) for x in t) for t in theta_deviations)):\n",
    "        raise ValueError('Please provide a list (of length n_t) of tuples (of size 2) and containing only float or integer values!')\n",
    "    elif len(theta_nominal) != len(theta_deviations):\n",
    "        raise ValueError('Inconsistent input for nominal theta values and theta bounds')\n",
    "    \n",
    "    n_t = len(theta_nominal)\n",
    "    n_d = design_vectors[0].shape[0] if isinstance(design_vectors, list) else design_vectors.shape[0] if isinstance(design_vectors, np.ndarray) else 0\n",
    "    n_c = A.shape[1] - n_t - n_d\n",
    "    if n_c < 0:\n",
    "        raise ValueError('Inconsistent coefficients input')\n",
    "    # print(f'num_theta={n_t}, num_design={n_d}, num_control={n_c}')\n",
    "    # print(f'num_constraints={A.shape[0]}')\n",
    "    if isinstance(z_bounds, list):        \n",
    "        if not (len(z_bounds) == n_c and all(isinstance(t, tuple) and len(t)==2 and all(isinstance(x, (int, float)) for x in t) for t in z_bounds)):\n",
    "            raise ValueError('Please provide a list (of length n_c) of tuples (of size 2) and containing only float or integer values!')\n",
    "    \n",
    "    # Reformulate A(d, z, theta) <= b to h(d, z, theta, slack, dual, binary) == b_h\n",
    "    # h1(d, z, theta, slack) == b               for all system constraints\n",
    "    # h2(dual) == 0 (from dA/dz = 0)            for all control variables\n",
    "    # h3(dual, binary) == [1, n_c+1]'           2 constraints\n",
    "    # d == dE                                   for all design variables - if provided\n",
    "    # b_h = [b, 0*n_c, 1, n_c+1, dE (if provided)]'\n",
    "    h1 = np.concatenate([A, np.diag([1]*A.shape[0]), np.zeros((A.shape[0], 2*A.shape[0]))], axis=1)\n",
    "    h2 = np.concatenate([np.zeros((n_c, A.shape[1]+A.shape[0])), A[:, n_d:n_d+n_c].T, np.zeros((n_c, A.shape[0]))], axis=1)\n",
    "    h3 = np.concatenate([np.zeros((2, A.shape[1]+A.shape[0])), np.stack([np.ones(A.shape[0]).T, np.zeros(A.shape[0]).T], axis=0), np.stack([np.zeros(A.shape[0]).T, np.ones(A.shape[0]).T], axis=0)], axis=1)\n",
    "    h = np.concatenate([h1, h2, h3], axis=0)\n",
    "    b_h = np.concatenate([b, np.zeros(n_c), np.array([1]), np.array([n_c+1])], axis=0)\n",
    "    \n",
    "    # Add inequalities for the active set reformulation g(z, theta, slack, dual, binary, delta) <= b_g\n",
    "    # z <= z_UB                                             Upper bounds for all control variables\n",
    "    # -z <= -z_LB                                           Lower bounds for all control variables\n",
    "    # theta - theta_bound*delta <= theta_nominal            Upper bounds for all uncertain parameters\n",
    "    # -theta - theta_bound*delta <= -theta_nominal          Lower bounds for all uncertain parameters\n",
    "    # slack + bigM*binary <= bigM                           # bigM reformulation of complementary conditions\n",
    "    # dual - binary <= 0                                    bigM reformulation of complementary conditions\n",
    "    g1 = np.concatenate([np.concatenate([np.diag([1]*n_t), np.diag([-1]*n_t)], axis=0), np.zeros((2*n_t, 3*A.shape[0])), np.stack([-np.array([i[1] for i in theta_deviations]), -np.array([i[1] for i in theta_deviations])], axis=0).reshape(-1,1)], axis=1)\n",
    "    g2 = np.concatenate([np.zeros((A.shape[0], n_t)), np.diag([1]*A.shape[0]), np.diag([0]*A.shape[0]), np.diag([bigM]*A.shape[0]), np.zeros(A.shape[0]).reshape(-1,1)], axis=1)\n",
    "    g3 = np.concatenate([np.zeros((A.shape[0], n_t)), np.diag([0]*A.shape[0]), np.diag([1]*A.shape[0]), np.diag([-1]*A.shape[0]), np.zeros(A.shape[0]).reshape(-1,1)], axis=1)\n",
    "    g = np.concatenate([g1, g2, g3], axis=0)\n",
    "    b_g = np.concatenate([np.array(theta_nominal), -np.array(theta_nominal), np.array([bigM]*A.shape[0]), np.array([0]*A.shape[0])], axis=0)\n",
    "    g_shift=n_d+n_c\n",
    "    \n",
    "    def evaluate_delta_fixed_design(h, b_h, g, b_g, g_shift, z_b:np.ndarray=None, design_vector:np.ndarray=None):\n",
    "        if isinstance(design_vector, np.ndarray):\n",
    "            h4 = np.concatenate([np.diag([1]*n_d), np.zeros((n_d, n_c+n_t+3*A.shape[0]))], axis=1)\n",
    "            h_new, b_h_new = np.concatenate([h, h4], axis=0),np.concatenate([b_h, design_vector], axis=0)\n",
    "            # b_h_new = np.concatenate([b_h, design_vector], axis=0)\n",
    "        else:\n",
    "            h_new, b_h_new= h, b_h\n",
    "            # b_h_new = b_h\n",
    "        if isinstance(z_b, list):\n",
    "            g0 = np.concatenate([np.concatenate([np.diag([1]*n_c), np.diag([-1]*n_c)], axis=0), np.zeros((2*n_c, n_t+3*A.shape[0]+1))], axis=1)\n",
    "            gz = np.zeros((2*(n_t+A.shape[0]), n_c))\n",
    "            b0 = np.array([i[1] for i in z_bounds]+[-i[0] for i in z_bounds])\n",
    "            g_new, b_g_new = np.concatenate([g0, np.concatenate([gz, g], axis=1)], axis=0), np.concatenate([b0, b_g], axis=0)\n",
    "            g_shift=n_d\n",
    "        else:\n",
    "            g_new, b_g_new = g, b_g\n",
    "        # print(f'Shape of h matrix {h.shape}')\n",
    "        # print(f'Shape of b_h matrix {b_h.shape}')\n",
    "        # print(f'Shape of g matrix {g.shape}')\n",
    "        # print(f'Shape of b_g matrix {b_g.shape}')\n",
    "                \n",
    "        binary_indexes = list(range(A.shape[1]+2*A.shape[0]+1, A.shape[1]+3*A.shape[0]+1))\n",
    "        def var_domain_rule(instance, i):\n",
    "            return Binary if i in binary_indexes else NonNegativeReals\n",
    "        \n",
    "        m = ConcreteModel()\n",
    "        m.v = RangeSet(n_d+n_c+n_t+3*A.shape[0]+1)\n",
    "        m.var = Var(m.v, domain=var_domain_rule)        # order of variables (design, control, theta, slack, dual, binary, delta)\n",
    "        \n",
    "        m.hi = RangeSet(h_new.shape[0])\n",
    "        m.hj = RangeSet(h_new.shape[1])\n",
    "        m.gi = RangeSet(g_new.shape[0])\n",
    "        m.gj = RangeSet(g_new.shape[1])\n",
    "\n",
    "        def h_eq_bh_rule(instance, i):\n",
    "            return sum(h_new[i-1, j-1]*instance.var[j] for j in instance.hj) == b_h_new[i-1]\n",
    "        m.h_eq_bh = Constraint(m.hi, rule=h_eq_bh_rule)\n",
    "        \n",
    "        def g_leq_bg_rule(instance, i):\n",
    "            return sum(g_new[i-1, j-1]*instance.var[j+g_shift] for j in instance.gj) <= b_g_new[i-1]\n",
    "        m.g_leq_bg = Constraint(m.gi, rule=g_leq_bg_rule)\n",
    "        \n",
    "        # Objective\n",
    "        m.objective = Objective(expr=m.var[len(m.v)], sense=minimize)\n",
    "        solver = SolverFactory('gurobi')\n",
    "        solver.solve(m)\n",
    "        \n",
    "        actives = [j-(A.shape[1]+2*A.shape[0]) for j in binary_indexes if pyoval(m.var[j]) == 1] # Adjust for constraint number\n",
    "        return m, pyoval(m.var[len(m.v)]), actives\n",
    "    \n",
    "    if isinstance(design_vectors, list):\n",
    "        m, delta, active_set = [defaultdict(dict) for _ in range(3)]\n",
    "        for i in range(len(design_vectors)):\n",
    "            m[i], delta[i], active_set[i] = evaluate_delta_fixed_design(h=h, b_h=b_h, g=g, b_g=b_g, g_shift=g_shift, z_b=z_bounds, design_vector=design_vectors[i])\n",
    "    elif isinstance(design_vectors, np.ndarray):\n",
    "        m, delta, active_set = evaluate_delta_fixed_design(h=h, b_h=b_h, g=g, b_g=b_g, g_shift=g_shift, z_b=z_bounds, design_vector=design_vectors)\n",
    "    else:\n",
    "        m, delta, active_set = evaluate_delta_fixed_design(h=h, b_h=b_h, g=g, b_g=b_g, g_shift=g_shift)\n",
    "    \n",
    "    return m, delta, active_set"
   ],
   "metadata": {
    "collapsed": false,
    "ExecuteTime": {
     "end_time": "2025-09-04T21:08:19.555795Z",
     "start_time": "2025-09-04T21:08:19.542114Z"
    }
   },
   "id": "2686566477c446e7",
   "outputs": [],
   "execution_count": 4
  },
  {
   "cell_type": "code",
   "source": [
    "# EXAMPLE 1 Floudas and Grossmann (1987): https://www.sciencedirect.com/science/article/pii/0098135487870114\n",
    "theta_nominal = [620, 388, 583, 313]\n",
    "theta_deviations = [(10, 10), (10, 10), (10, 10), (10, 10)]\n",
    "\n",
    "A = np.array([\n",
    "    [-2/3, 0, 1, 0, 0],\n",
    "    [-0.5, -0.75, -1, -1, 0],\n",
    "    [1, -1.5, -2, -1, -2],\n",
    "    [1, -1.5, -2, -1, 0],\n",
    "    [-1, 1.5, 2, 1, 3]\n",
    "])\n",
    "\n",
    "b = np.array([350, -1388.5, -2830, -2044, 3153])"
   ],
   "metadata": {
    "collapsed": false,
    "ExecuteTime": {
     "end_time": "2025-09-04T21:08:19.560688Z",
     "start_time": "2025-09-04T21:08:19.558175Z"
    }
   },
   "id": "a13df829e388c11e",
   "outputs": [],
   "execution_count": 5
  },
  {
   "metadata": {
    "ExecuteTime": {
     "end_time": "2025-09-04T21:08:19.578337Z",
     "start_time": "2025-09-04T21:08:19.561391Z"
    }
   },
   "cell_type": "code",
   "source": [
    "model, flex_index, act_set = active_set_method(A=A, b=b, theta_nominal=theta_nominal, theta_deviations=theta_deviations)"
   ],
   "id": "b5197690177e1e98",
   "outputs": [],
   "execution_count": 6
  },
  {
   "cell_type": "code",
   "source": [
    "flex_index"
   ],
   "metadata": {
    "collapsed": false,
    "ExecuteTime": {
     "end_time": "2025-09-04T21:08:19.582095Z",
     "start_time": "2025-09-04T21:08:19.579027Z"
    }
   },
   "id": "22e12a87928d51ce",
   "outputs": [
    {
     "data": {
      "text/plain": [
       "0.5600000000000023"
      ]
     },
     "execution_count": 7,
     "metadata": {},
     "output_type": "execute_result"
    }
   ],
   "execution_count": 7
  },
  {
   "cell_type": "code",
   "source": [
    "act_set"
   ],
   "metadata": {
    "collapsed": false,
    "ExecuteTime": {
     "end_time": "2025-09-04T21:08:19.584978Z",
     "start_time": "2025-09-04T21:08:19.582787Z"
    }
   },
   "id": "17f9f22ebc2c832b",
   "outputs": [
    {
     "data": {
      "text/plain": [
       "[1, 3]"
      ]
     },
     "execution_count": 8,
     "metadata": {},
     "output_type": "execute_result"
    }
   ],
   "execution_count": 8
  },
  {
   "cell_type": "code",
   "source": [
    "# # # EXAMPLE 1 Pistikopoulos and Grossmann (1988): https://www.sciencedirect.com/science/article/pii/0098135488800103\n",
    "# theta_nominal = [2]\n",
    "# theta_deviations = [(2,2)]\n",
    "# \n",
    "# A = np.array([\n",
    "#     [1, -3, 1, -1],\n",
    "#     [0, 1, -1, -1/3],\n",
    "#     [-1, 0, 1 ,1]\n",
    "# ])\n",
    "# \n",
    "# b = np.array([0, -1/3, 1])\n",
    "# \n",
    "# d = np.array([2.2, 0.7333])"
   ],
   "metadata": {
    "collapsed": false,
    "ExecuteTime": {
     "end_time": "2025-09-04T21:08:19.587344Z",
     "start_time": "2025-09-04T21:08:19.585657Z"
    }
   },
   "id": "b58b3e5e97115740",
   "outputs": [],
   "execution_count": 9
  },
  {
   "cell_type": "code",
   "source": [
    "# model, flex_index, act_set = active_set_method(A=A, b=b, theta_nominal=theta_nominal, theta_deviations=theta_deviations, design_vectors=d)"
   ],
   "metadata": {
    "collapsed": false,
    "ExecuteTime": {
     "end_time": "2025-09-04T21:08:19.589526Z",
     "start_time": "2025-09-04T21:08:19.588170Z"
    }
   },
   "id": "6b49a13b48b10311",
   "outputs": [],
   "execution_count": 10
  },
  {
   "cell_type": "code",
   "source": [
    "# flex_index"
   ],
   "metadata": {
    "collapsed": false,
    "ExecuteTime": {
     "end_time": "2025-09-04T21:08:19.591724Z",
     "start_time": "2025-09-04T21:08:19.590147Z"
    }
   },
   "id": "c06fc01be1de42e7",
   "outputs": [],
   "execution_count": 11
  },
  {
   "cell_type": "markdown",
   "source": [],
   "metadata": {
    "collapsed": false
   },
   "id": "aa13d230fee2a468"
  }
 ],
 "metadata": {
  "kernelspec": {
   "display_name": "Python 3",
   "language": "python",
   "name": "python3"
  },
  "language_info": {
   "codemirror_mode": {
    "name": "ipython",
    "version": 2
   },
   "file_extension": ".py",
   "mimetype": "text/x-python",
   "name": "python",
   "nbconvert_exporter": "python",
   "pygments_lexer": "ipython2",
   "version": "2.7.6"
  }
 },
 "nbformat": 4,
 "nbformat_minor": 5
}
