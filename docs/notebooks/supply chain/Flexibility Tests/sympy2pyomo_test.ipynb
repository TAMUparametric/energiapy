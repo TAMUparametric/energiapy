{
 "cells": [
  {
   "cell_type": "code",
   "source": [
    "import pickle\n",
    "from sympy import symbols, expand, lambdify, Expr, simplify, pprint\n",
    "import math\n",
    "from pyomo.environ import *\n",
    "import pyomo.environ as pyo\n",
    "from pyomo.core.expr.numeric_expr import NumericExpression\n",
    "\n",
    "from typing import List"
   ],
   "metadata": {
    "collapsed": false,
    "ExecuteTime": {
     "end_time": "2025-07-09T15:56:36.891219Z",
     "start_time": "2025-07-09T15:56:36.867962Z"
    }
   },
   "id": "eda684cdc326fa20",
   "outputs": [],
   "execution_count": 21
  },
  {
   "cell_type": "code",
   "outputs": [],
   "source": [
    "def get_all_free_symbols(expr_list: List[Expr]):\n",
    "    \"\"\"\n",
    "    Given a list of SymPy expressions, return a list of all unique free symbols.\n",
    "    \"\"\"\n",
    "    all_symbols = set()\n",
    "    for expr in expr_list:\n",
    "        all_symbols.update(expr.free_symbols)\n",
    "    return list(all_symbols)"
   ],
   "metadata": {
    "collapsed": false,
    "ExecuteTime": {
     "end_time": "2025-07-09T15:56:36.907132Z",
     "start_time": "2025-07-09T15:56:36.892282Z"
    }
   },
   "id": "61bf6977ca0a723a",
   "execution_count": 22
  },
  {
   "cell_type": "code",
   "outputs": [],
   "source": [
    "def generate_constraints_from_expressions(\n",
    "    expr_list: List[Expr],\n",
    "    instance: ConcreteModel,\n",
    "    target: float\n",
    "):\n",
    "    \"\"\"\n",
    "    Adds a ConstraintList to the model based on a list of SymPy expressions.\n",
    "    Missing Pyomo scalar variables are automatically created on the model.\n",
    "    Assumes constraint form: expr == 0.\n",
    "    \"\"\"\n",
    "    instance.generated_constraints = ConstraintList()\n",
    "\n",
    "    for expr in expr_list:\n",
    "        free_syms = list(expr.free_symbols)\n",
    "\n",
    "        pyomo_vars = []\n",
    "        for sym in free_syms:\n",
    "            var_name = str(sym)\n",
    "            if not hasattr(instance, var_name):\n",
    "                setattr(instance, var_name, Var())\n",
    "            pyomo_vars.append(getattr(instance, var_name))\n",
    "\n",
    "        # Convert SymPy expression to a function and evaluate with Pyomo vars\n",
    "        expr_func = lambdify(free_syms, expr, modules=[{'exp':pyo.exp, 'pi':math.pi}, 'sympy'])\n",
    "        pyomo_expr = expr_func(*pyomo_vars)\n",
    "        \n",
    "        # Check if pyomo_expr is already a valid Pyomo expression\n",
    "        if isinstance(pyomo_expr, (NumericExpression, pyo.Expression)) or hasattr(pyomo_expr, 'is_expression_type'):\n",
    "            instance.generated_constraints.add(pyomo_expr >= target)\n",
    "        else:\n",
    "            # Handle float result from accidentally evaluated expression\n",
    "            raise TypeError(f\"Expression evaluated to a constant ({pyomo_expr}) instead of a symbolic Pyomo expression.\")\n",
    "\n",
    "        # # Add the constraint (assumed to be == 0)\n",
    "        # instance.generated_constraints.add(pyomo_expr >= target)"
   ],
   "metadata": {
    "collapsed": false,
    "ExecuteTime": {
     "end_time": "2025-07-09T15:56:36.922523Z",
     "start_time": "2025-07-09T15:56:36.908131Z"
    }
   },
   "id": "cfe0714dec75f62b",
   "execution_count": 23
  },
  {
   "cell_type": "code",
   "source": [
    "with open('factored_sf_exprs.pkl', 'rb') as file:\n",
    "    factored_sf_exprs = pickle.load(file)"
   ],
   "metadata": {
    "collapsed": false,
    "ExecuteTime": {
     "end_time": "2025-07-09T15:56:36.953833Z",
     "start_time": "2025-07-09T15:56:36.923598Z"
    }
   },
   "id": "3b2c056cc2be3d96",
   "outputs": [],
   "execution_count": 24
  },
  {
   "cell_type": "code",
   "outputs": [],
   "source": [
    "m = ConcreteModel()"
   ],
   "metadata": {
    "collapsed": false,
    "ExecuteTime": {
     "end_time": "2025-07-09T15:56:36.969899Z",
     "start_time": "2025-07-09T15:56:36.955901Z"
    }
   },
   "id": "1cae329c888a2e8a",
   "execution_count": 25
  },
  {
   "cell_type": "code",
   "outputs": [],
   "source": [
    "generate_constraints_from_expressions(expr_list=factored_sf_exprs, instance=m, target=0.65)"
   ],
   "metadata": {
    "collapsed": false,
    "ExecuteTime": {
     "end_time": "2025-07-09T15:56:36.985136Z",
     "start_time": "2025-07-09T15:56:36.971900Z"
    }
   },
   "id": "2f3e7b14d90a71ab",
   "execution_count": 26
  },
  {
   "cell_type": "code",
   "outputs": [
    {
     "name": "stdout",
     "output_type": "stream",
     "text": [
      "generated_constraints : Size=1, Index={1}, Active=True\n",
      "    Key : Lower : Body                                                                                                                                   : Upper : Active\n",
      "      1 :  0.65 : 2*(-8.0*d0 + 16.0*d1 + 34.6666666666667)*exp(-10.8888888888889*(0.428571428571429*d0 - 0.857142857142857*d1 - 1)**2)/3.141592653589793 :  +Inf :   True\n"
     ]
    }
   ],
   "source": [
    "m.generated_constraints.pprint()"
   ],
   "metadata": {
    "collapsed": false,
    "ExecuteTime": {
     "end_time": "2025-07-09T15:57:30.631597Z",
     "start_time": "2025-07-09T15:57:30.614700Z"
    }
   },
   "id": "57367c40bfca85e7",
   "execution_count": 32
  },
  {
   "cell_type": "code",
   "source": [
    "d0, d1 = symbols('d0 d1')\n",
    "values = list()\n",
    "for i, sf_expr in enumerate(factored_sf_exprs):\n",
    "    value = sf_expr.subs({d0:4, d1:0.5})\n",
    "    value = value.evalf()\n",
    "    print(i, value)\n",
    "    values.append(value)\n",
    "\n",
    "target = 0.6372\n",
    "matching_indices = [\n",
    "    i for i, val in enumerate(values)\n",
    "    if math.isclose(val, target, rel_tol=0, abs_tol=1e-4)\n",
    "]\n",
    "# for i in matching_indices:\n",
    "#     print(f'Value at index {i} is {values[i]}')"
   ],
   "metadata": {
    "collapsed": false,
    "ExecuteTime": {
     "end_time": "2025-07-09T15:56:37.000457Z",
     "start_time": "2025-07-09T15:56:36.986404Z"
    }
   },
   "id": "de49f6cba2483bee",
   "outputs": [
    {
     "name": "stdout",
     "output_type": "stream",
     "text": [
      "0 2.79170360320214\n"
     ]
    }
   ],
   "execution_count": 27
  },
  {
   "cell_type": "code",
   "outputs": [
    {
     "data": {
      "text/plain": "(-16.0*d0 + 32.0*d1 + 69.3333333333333)*exp(-10.8888888888889*(-0.428571428571429*d0 + 0.857142857142857*d1 + 1)**2)/pi",
      "text/latex": "$\\displaystyle \\frac{\\left(- 16.0 d_{0} + 32.0 d_{1} + 69.3333333333333\\right) e^{- 10.8888888888889 \\left(- 0.428571428571429 d_{0} + 0.857142857142857 d_{1} + 1\\right)^{2}}}{\\pi}$"
     },
     "execution_count": 28,
     "metadata": {},
     "output_type": "execute_result"
    }
   ],
   "source": [
    "simplify(factored_sf_exprs[0])"
   ],
   "metadata": {
    "collapsed": false,
    "ExecuteTime": {
     "end_time": "2025-07-09T15:56:37.141207Z",
     "start_time": "2025-07-09T15:56:37.001733Z"
    }
   },
   "id": "c864eafb61690963",
   "execution_count": 28
  },
  {
   "cell_type": "code",
   "outputs": [],
   "source": [
    "# # Define symbolic expression\n",
    "# x, y = symbols('x y')\n",
    "# expr = x**2 + 3*y\n",
    "# \n",
    "# # Get free variables\n",
    "# free_vars = list(expr.free_symbols)\n",
    "# \n",
    "# # Create Pyomo model and variables\n",
    "# model = ConcreteModel()\n",
    "# sympy_to_pyomo = {}\n",
    "# \n",
    "# for s in free_vars:\n",
    "#     name = str(s)\n",
    "#     setattr(model, name, Var())\n",
    "#     sympy_to_pyomo[s] = getattr(model, name)\n",
    "# \n",
    "# # Convert sympy expression to a function\n",
    "# f = lambdify(free_vars, expr, modules='numpy')\n",
    "# \n",
    "# # Evaluate the function using Pyomo vars\n",
    "# pyomo_expr = f(*(sympy_to_pyomo[s] for s in free_vars))\n",
    "# \n",
    "# # Add a constraint\n",
    "# model.c1 = Constraint(expr=pyomo_expr <= 20)"
   ],
   "metadata": {
    "collapsed": false,
    "ExecuteTime": {
     "end_time": "2025-07-09T15:56:37.157159Z",
     "start_time": "2025-07-09T15:56:37.142392Z"
    }
   },
   "id": "d53e5de71be8a2d1",
   "execution_count": 29
  },
  {
   "cell_type": "code",
   "outputs": [],
   "source": [
    "# model.c1.pprint()"
   ],
   "metadata": {
    "collapsed": false,
    "ExecuteTime": {
     "end_time": "2025-07-09T15:56:37.172674Z",
     "start_time": "2025-07-09T15:56:37.158236Z"
    }
   },
   "id": "f1a13effdf29c23f",
   "execution_count": 30
  },
  {
   "cell_type": "code",
   "outputs": [],
   "source": [],
   "metadata": {
    "collapsed": false,
    "ExecuteTime": {
     "end_time": "2025-07-09T15:56:37.187949Z",
     "start_time": "2025-07-09T15:56:37.174674Z"
    }
   },
   "id": "41fc36928c8cbf3d",
   "execution_count": 30
  }
 ],
 "metadata": {
  "kernelspec": {
   "display_name": "Python 3",
   "language": "python",
   "name": "python3"
  },
  "language_info": {
   "codemirror_mode": {
    "name": "ipython",
    "version": 2
   },
   "file_extension": ".py",
   "mimetype": "text/x-python",
   "name": "python",
   "nbconvert_exporter": "python",
   "pygments_lexer": "ipython2",
   "version": "2.7.6"
  }
 },
 "nbformat": 4,
 "nbformat_minor": 5
}
