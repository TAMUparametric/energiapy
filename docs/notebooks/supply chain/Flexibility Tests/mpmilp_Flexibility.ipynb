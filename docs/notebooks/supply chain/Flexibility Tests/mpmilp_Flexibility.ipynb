{
 "cells": [
  {
   "cell_type": "code",
   "id": "initial_id",
   "metadata": {
    "collapsed": true
   },
   "source": [
    "import numpy as np\n",
    "from ppopt.mpmodel import MPModeler, VariableType\n",
    "from ppopt.mp_solvers.solve_mpmiqp import solve_mpmiqp_enumeration, mpmiqp_algorithm, solve_mpmiqp\n",
    "from ppopt.plot import parametric_plot"
   ],
   "outputs": [],
   "execution_count": null
  },
  {
   "metadata": {},
   "cell_type": "code",
   "source": [
    "m = MPModeler()\n",
    "\n",
    "u = m.add_var(name='u')\n",
    "x = m.add_var(name='x')\n",
    "z = m.add_var(name='z')\n",
    "t1 = m.add_var(name='t1')\n",
    "t2 = m.add_var(name='t2')\n",
    "mu = m.add_var(name='mu')\n",
    "s1 = m.add_var(name='s1')\n",
    "s2 = m.add_var(name='s2')\n",
    "s3 = m.add_var(name='s3')\n",
    "l1 = m.add_var(name='l1')\n",
    "l2 = m.add_var(name='l2')\n",
    "l3 = m.add_var(name='l3')\n",
    "p1 = m.add_var(name='p1', vtype=VariableType.binary)\n",
    "p2 = m.add_var(name='p2', vtype=VariableType.binary)\n",
    "p3 = m.add_var(name='p3', vtype=VariableType.binary)\n",
    "\n",
    "d1 = m.add_param(name='d1')\n",
    "d2 = m.add_param(name='d2')"
   ],
   "id": "3d44e2a069e2bd97",
   "outputs": [],
   "execution_count": null
  },
  {
   "metadata": {},
   "cell_type": "code",
   "source": [
    "m.add_constr(-2*x + 3*z -t1 == 50 -d2)\n",
    "m.add_constr(-s1 -x +z/2 +t1/2 -t2/2 + u == 25 +d1 -7*d2/2)\n",
    "m.add_constr(-s2 +2*x -2*z +4*t1/3 +t2 +u == 151/3 +2*d2)\n",
    "m.add_constr(s3 -x + 5*z/2 +t1/2 -t2 -u == 26 +d1 -d2/2)\n",
    "m.add_constr(l1 + l2 + l3 == 1)\n",
    "m.add_constr(2*mu + l1 - 2*l2 - l3 == 100)\n",
    "m.add_constr(3*mu + l1/2 - 2*l2 - 5*l3/2 == 150)\n",
    "m.add_constr(l1 - p1 <= 0)\n",
    "m.add_constr(l2 - p2 <= 0)\n",
    "m.add_constr(l3 - p3 <= 0)\n",
    "m.add_constr(s1 + 1000*p1 <= 1000)\n",
    "m.add_constr(s2 + 1000*p2 <= 1000)\n",
    "m.add_constr(s3 + 1000*p3 <= 1000)\n",
    "m.add_constr(p1 + p2 + p3 <= 2)\n",
    "m.add_constr(0 <= t1)\n",
    "m.add_constr(t1 <= 4)\n",
    "m.add_constr(0 <= t2)\n",
    "m.add_constr(t2 <= 4)\n",
    "m.add_constr(0 <= d1)\n",
    "m.add_constr(d1 <= 5)\n",
    "m.add_constr(0 <= d2)\n",
    "m.add_constr(d2 <= 5)\n",
    "m.add_constr(0 <= x)\n",
    "m.add_constr(0 <= z)\n",
    "m.add_constr(0 <= u)\n",
    "m.add_constr(0 <= mu)\n",
    "m.add_constr(0 <= l1)\n",
    "m.add_constr(0 <= l2)\n",
    "m.add_constr(0 <= l3)\n",
    "m.add_constr(0 <= s1)\n",
    "m.add_constr(0 <= s2)\n",
    "m.add_constr(0 <= s3)"
   ],
   "id": "b87f94b704a49ac9",
   "outputs": [],
   "execution_count": null
  },
  {
   "metadata": {},
   "cell_type": "code",
   "source": [
    "m.set_objective(-u + 50)"
   ],
   "id": "614066c2f6b04ae1",
   "outputs": [],
   "execution_count": null
  },
  {
   "metadata": {},
   "cell_type": "code",
   "source": [
    "prob = m.formulate_problem()\n",
    "prob.process_constraints()"
   ],
   "id": "774cb85ac1a085d0",
   "outputs": [],
   "execution_count": null
  },
  {
   "metadata": {},
   "cell_type": "code",
   "source": [
    "solution_milp = solve_mpmiqp(prob, mpmiqp_algorithm.enumerate)"
   ],
   "id": "e6ac35badef79926",
   "outputs": [],
   "execution_count": null
  },
  {
   "metadata": {},
   "cell_type": "code",
   "source": [
    "regions_list = solution_milp.critical_regions"
   ],
   "id": "8e0abdc4e9fb571e",
   "outputs": [],
   "execution_count": null
  },
  {
   "metadata": {},
   "cell_type": "code",
   "source": [
    "len(regions_list)"
   ],
   "id": "26f4535f85d2a7b5",
   "outputs": [],
   "execution_count": null
  },
  {
   "metadata": {},
   "cell_type": "code",
   "source": [
    "parametric_plot(solution_milp)"
   ],
   "id": "7f37ae047129120b",
   "outputs": [],
   "execution_count": null
  },
  {
   "cell_type": "code",
   "outputs": [],
   "source": [
    "regions_list"
   ],
   "metadata": {
    "collapsed": false
   },
   "id": "10036aa715c8efd8",
   "execution_count": null
  },
  {
   "cell_type": "code",
   "outputs": [],
   "source": [
    "regions_list[0].A[0,:]"
   ],
   "metadata": {
    "collapsed": false
   },
   "id": "c87e4ae2dc8fedc6",
   "execution_count": null
  },
  {
   "cell_type": "code",
   "outputs": [],
   "source": [
    "A_plot = np.hstack([regions_list[1].A[0,:].T, regions_list[0].b[0]])"
   ],
   "metadata": {
    "collapsed": false
   },
   "id": "e554147939d5f85d",
   "execution_count": null
  },
  {
   "cell_type": "code",
   "outputs": [],
   "source": [
    "A_plot"
   ],
   "metadata": {
    "collapsed": false
   },
   "id": "2fb6726c488097f4",
   "execution_count": null
  },
  {
   "cell_type": "code",
   "outputs": [],
   "source": [
    "theta= np.array([0,0]).reshape(-1,1)\n",
    "theta"
   ],
   "metadata": {
    "collapsed": false
   },
   "id": "9912b3d837d2951a",
   "execution_count": null
  },
  {
   "cell_type": "code",
   "outputs": [],
   "source": [
    "region = solution_milp.get_region(theta)"
   ],
   "metadata": {
    "collapsed": false
   },
   "id": "ce090caeab2cd126",
   "execution_count": null
  },
  {
   "cell_type": "code",
   "outputs": [],
   "source": [
    "x = solution_milp.evaluate(theta_point=theta)"
   ],
   "metadata": {
    "collapsed": false
   },
   "id": "1205b7e530342c27",
   "execution_count": null
  },
  {
   "cell_type": "code",
   "outputs": [],
   "source": [
    "region"
   ],
   "metadata": {
    "collapsed": false
   },
   "id": "f4ffce4de8e541ff",
   "execution_count": null
  },
  {
   "cell_type": "code",
   "outputs": [],
   "source": [
    "x"
   ],
   "metadata": {
    "collapsed": false
   },
   "id": "68d4ef597873ee4a",
   "execution_count": null
  },
  {
   "cell_type": "code",
   "outputs": [],
   "source": [
    "solution_milp.get_region_overlap(theta)"
   ],
   "metadata": {
    "collapsed": false
   },
   "id": "e0d42430c690c1ac",
   "execution_count": null
  },
  {
   "cell_type": "code",
   "outputs": [],
   "source": [],
   "metadata": {
    "collapsed": false
   },
   "id": "ee0e2b0801d156b7"
  }
 ],
 "metadata": {
  "kernelspec": {
   "display_name": "Python 3",
   "language": "python",
   "name": "python3"
  },
  "language_info": {
   "codemirror_mode": {
    "name": "ipython",
    "version": 2
   },
   "file_extension": ".py",
   "mimetype": "text/x-python",
   "name": "python",
   "nbconvert_exporter": "python",
   "pygments_lexer": "ipython2",
   "version": "2.7.6"
  }
 },
 "nbformat": 4,
 "nbformat_minor": 5
}
