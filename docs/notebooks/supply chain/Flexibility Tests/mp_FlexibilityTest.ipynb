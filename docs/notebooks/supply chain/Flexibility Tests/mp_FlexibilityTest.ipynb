{
 "cells": [
  {
   "cell_type": "code",
   "source": [
    "from ppopt.mpmodel import MPModeler\n",
    "from ppopt.mp_solvers.solve_mpqp import solve_mpqp, mpqp_algorithm\n",
    "from ppopt.plot import parametric_plot_1D\n",
    "from ppopt.plot import parametric_plot\n",
    "from ppopt.mpqp_program import MPLP_Program\n",
    "import numpy as np"
   ],
   "metadata": {
    "collapsed": false,
    "ExecuteTime": {
     "end_time": "2025-05-31T12:52:11.758249Z",
     "start_time": "2025-05-31T12:52:08.270629Z"
    }
   },
   "id": "20200e0a32b35224",
   "outputs": [],
   "execution_count": 1
  },
  {
   "cell_type": "code",
   "source": [
    "# A = numpy.array([[1, 1, 0, 0], [0, 0, 1, 1], [-1, 0, -1, 0], [0, -1, 0, -1], [-1, 0, 0, 0], [0, -1, 0, 0], [0, 0, -1, 0], [0, 0, 0, -1]])\n",
    "# b = numpy.array([350, 600, 0, 0, 0, 0, 0, 0]).reshape(8, 1)\n",
    "# c = numpy.array([178, 187, 187, 151]).reshape(-1,1)\n",
    "# F = numpy.array([[0, 0], [0, 0], [-1, 0], [0, -1], [0, 0], [0, 0], [0, 0], [0, 0]])\n",
    "# CRa = numpy.vstack((numpy.eye(2), -numpy.eye(2)))\n",
    "# CRb = numpy.array([1000, 1000, 0, 0]).reshape(4, 1)\n",
    "# H = numpy.zeros((A.shape[1],F.shape[1]))\n",
    "# \n",
    "# prog = MPLP_Program(A, b, c, H, CRa, CRb, F)"
   ],
   "metadata": {
    "collapsed": false,
    "ExecuteTime": {
     "end_time": "2025-05-31T12:52:11.774058Z",
     "start_time": "2025-05-31T12:52:11.759280Z"
    }
   },
   "id": "361af2b31ca08403",
   "outputs": [],
   "execution_count": 2
  },
  {
   "cell_type": "code",
   "outputs": [],
   "source": [
    "m = MPModeler()\n",
    "\n",
    "u = m.add_var(name='u')\n",
    "x = m.add_var(name='x')\n",
    "z = m.add_var(name='z')\n",
    "\n",
    "t1 = m.add_param(name='t1')\n",
    "t2 = m.add_param(name='t2')\n",
    "d1 = m.add_param(name='d1')\n",
    "d2 = m.add_param(name='d2')"
   ],
   "metadata": {
    "collapsed": false,
    "ExecuteTime": {
     "end_time": "2025-05-31T12:52:11.789897Z",
     "start_time": "2025-05-31T12:52:11.775124Z"
    }
   },
   "id": "efc3a1b8151490d3",
   "execution_count": 3
  },
  {
   "cell_type": "code",
   "outputs": [],
   "source": [
    "m.add_constr(-2*x +3*z == 50 +t1 - d2)\n",
    "m.add_constr(x - z/2 -u <= -25 +t1/2 -t2/2 -d1 +7*d2/2)\n",
    "m.add_constr(-2*x +2*z -u <= -151/3 +4*t1/3 +t2 -2*d2)\n",
    "m.add_constr(-x + 5*z/2 -u <= 26 -t1/2 +t2 +d1 -d2/2)\n",
    "m.add_constr(0 <= x)\n",
    "m.add_constr(0 <= z)\n",
    "m.add_constr(0 <= t1)\n",
    "m.add_constr(0 <= t2)\n",
    "m.add_constr(0 <= d1)\n",
    "m.add_constr(0 <= d2)\n",
    "m.add_constr(t1 <= 4)\n",
    "m.add_constr(t2 <= 4)\n",
    "m.add_constr(d1 <= 5)\n",
    "m.add_constr(d2 <= 5)"
   ],
   "metadata": {
    "collapsed": false,
    "ExecuteTime": {
     "end_time": "2025-05-31T12:52:11.805473Z",
     "start_time": "2025-05-31T12:52:11.790929Z"
    }
   },
   "id": "177a94249ffe336f",
   "execution_count": 4
  },
  {
   "cell_type": "code",
   "outputs": [],
   "source": [
    "m.set_objective(u-50)"
   ],
   "metadata": {
    "collapsed": false,
    "ExecuteTime": {
     "end_time": "2025-05-31T12:52:11.821091Z",
     "start_time": "2025-05-31T12:52:11.806604Z"
    }
   },
   "id": "5c28cb9fbac25de4",
   "execution_count": 5
  },
  {
   "cell_type": "code",
   "outputs": [
    {
     "name": "stdout",
     "output_type": "stream",
     "text": [
      "Set parameter Username\n",
      "Academic license - for non-commercial use only - expires 2025-12-20\n"
     ]
    }
   ],
   "source": [
    "prob = m.formulate_problem()\n",
    "prob.process_constraints()"
   ],
   "metadata": {
    "collapsed": false,
    "ExecuteTime": {
     "end_time": "2025-05-31T12:52:12.520073Z",
     "start_time": "2025-05-31T12:52:11.821841Z"
    }
   },
   "id": "766c67c4c2107d93",
   "execution_count": 6
  },
  {
   "cell_type": "code",
   "outputs": [],
   "source": [
    "solution = solve_mpqp(prob, mpqp_algorithm.combinatorial)"
   ],
   "metadata": {
    "collapsed": false,
    "ExecuteTime": {
     "end_time": "2025-05-31T12:52:12.551968Z",
     "start_time": "2025-05-31T12:52:12.521119Z"
    }
   },
   "id": "f989d3bb4ffc0514",
   "execution_count": 7
  },
  {
   "cell_type": "code",
   "outputs": [
    {
     "data": {
      "text/plain": "2"
     },
     "execution_count": 10,
     "metadata": {},
     "output_type": "execute_result"
    }
   ],
   "source": [
    "len(solution)"
   ],
   "metadata": {
    "collapsed": false,
    "ExecuteTime": {
     "end_time": "2025-05-31T12:52:21.280364Z",
     "start_time": "2025-05-31T12:52:21.275082Z"
    }
   },
   "id": "4c46c7ef9c6c7b1c",
   "execution_count": 10
  },
  {
   "cell_type": "code",
   "outputs": [
    {
     "data": {
      "text/plain": "Solution(program=<ppopt.mplp_program.MPLP_Program object at 0x000001F0FE162C80>, critical_regions=[Critical region with active set [0, 1, 2]\nThe Omega Constraint indices are [0, 1, 2, 3, 4, 5, 6, 7]\nThe Lagrange multipliers Constraint indices are []\nThe Regular Constraint indices are [[0], [3]]\n  x(θ) = Aθ + b \n λ(θ) = Cθ + d \n  Eθ <= f\n A = [[-6.66666667e-01 -2.50000000e-01  5.00000000e-01 -1.00000000e+00]\n [ 5.82656547e-17 -1.12500000e+00 -7.50000000e-01  3.50000000e+00]\n [ 3.33333333e-01 -7.50000000e-01 -5.00000000e-01  2.00000000e+00]] \n b = [[50.16666667]\n [50.25      ]\n [50.16666667]] \n C = [[0. 0. 0. 0.]\n [0. 0. 0. 0.]\n [0. 0. 0. 0.]] \n d = [[-0.96824584]\n [ 2.        ]\n [ 1.98606255]] \n E = [[ 0.45584231 -0.34188173 -0.45584231  0.68376346]\n [-1.          0.          0.          0.        ]\n [ 0.         -1.          0.          0.        ]\n [ 0.          0.         -1.          0.        ]\n [ 0.          0.          0.         -1.        ]\n [ 1.          0.          0.          0.        ]\n [ 0.          1.          0.          0.        ]\n [ 0.          0.          1.          0.        ]\n [ 0.          0.          0.          1.        ]] \n f = [[ 0.22792115]\n [-0.        ]\n [-0.        ]\n [-0.        ]\n [-0.        ]\n [ 4.        ]\n [ 4.        ]\n [ 5.        ]\n [ 5.        ]], Critical region with active set [0, 2, 3]\nThe Omega Constraint indices are [0, 1, 2, 3, 4, 5, 6, 7]\nThe Lagrange multipliers Constraint indices are []\nThe Regular Constraint indices are [[0], [1]]\n  x(θ) = Aθ + b \n λ(θ) = Cθ + d \n  Eθ <= f\n A = [[ 3.33333333e-01 -1.00000000e+00 -5.00000000e-01  5.00000000e-01]\n [-1.50000000e+00  1.24734028e-16  7.50000000e-01  1.25000000e+00]\n [-6.66666667e-01  4.42992711e-17  5.00000000e-01  5.00000000e-01]] \n b = [[49.66666667]\n [51.        ]\n [50.66666667]] \n C = [[0. 0. 0. 0.]\n [0. 0. 0. 0.]\n [0. 0. 0. 0.]] \n d = [[-2.90473751]\n [ 1.98606255]\n [ 1.63935963]] \n E = [[-0.45584231  0.34188173  0.45584231 -0.68376346]\n [-1.          0.          0.          0.        ]\n [ 0.         -1.          0.          0.        ]\n [ 0.          0.         -1.          0.        ]\n [ 0.          0.          0.         -1.        ]\n [ 1.          0.          0.          0.        ]\n [ 0.          1.          0.          0.        ]\n [ 0.          0.          1.          0.        ]\n [ 0.          0.          0.          1.        ]] \n f = [[-0.22792115]\n [-0.        ]\n [-0.        ]\n [-0.        ]\n [-0.        ]\n [ 4.        ]\n [ 4.        ]\n [ 5.        ]\n [ 5.        ]]])"
     },
     "execution_count": 8,
     "metadata": {},
     "output_type": "execute_result"
    }
   ],
   "source": [
    "solution"
   ],
   "metadata": {
    "collapsed": false,
    "ExecuteTime": {
     "end_time": "2025-05-31T12:52:12.566947Z",
     "start_time": "2025-05-31T12:52:12.553092Z"
    }
   },
   "id": "8f213236ddc1eec",
   "execution_count": 8
  },
  {
   "cell_type": "code",
   "outputs": [],
   "source": [
    "# m = MPModeler()\n",
    "# \n",
    "# u = m.add_var(name='u')\n",
    "# x = m.add_var(name='x')\n",
    "# z = m.add_var(name='z')\n",
    "# # t1 = m.add_param(name='t1')\n",
    "# # t2 = m.add_param(name='t2')\n",
    "# d1 = m.add_param(name='d1')\n",
    "# d2 = m.add_param(name='d2')\n",
    "# \n",
    "# m.add_constr(-2*x +3*z == 50 +t1 - d2)\n",
    "# m.add_constr(x - z/2 -u <= -25 +t1/2 -t2/2 -d1 +7*d2/2)\n",
    "# m.add_constr(-2*x +2*z -u <= -151/3 +4*t1/3 +t2 -2*d2)\n",
    "# m.add_constr(-x + 5*z/2 -u <= 26 -t1/2 +t2 +d1 -d2/2)\n",
    "# m.add_constr(0 <= x)\n",
    "# m.add_constr(0 <= z)\n",
    "# m.add_constr(0 <= t1)\n",
    "# m.add_constr(0 <= t2)\n",
    "# m.add_constr(0 <= d1)\n",
    "# m.add_constr(0 <= d2)\n",
    "# m.add_constr(t1 <= 4)\n",
    "# m.add_constr(t2 <= 4)\n",
    "# m.add_constr(d1 <= 5)\n",
    "# m.add_constr(d2 <= 5)"
   ],
   "metadata": {
    "collapsed": false,
    "ExecuteTime": {
     "end_time": "2025-05-31T12:52:12.582772Z",
     "start_time": "2025-05-31T12:52:12.568043Z"
    }
   },
   "id": "4154c8502d0040f6",
   "execution_count": 9
  }
 ],
 "metadata": {
  "kernelspec": {
   "display_name": "Python 3",
   "language": "python",
   "name": "python3"
  },
  "language_info": {
   "codemirror_mode": {
    "name": "ipython",
    "version": 2
   },
   "file_extension": ".py",
   "mimetype": "text/x-python",
   "name": "python",
   "nbconvert_exporter": "python",
   "pygments_lexer": "ipython2",
   "version": "2.7.6"
  }
 },
 "nbformat": 4,
 "nbformat_minor": 5
}
