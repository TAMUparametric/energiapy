{
 "cells": [
  {
   "cell_type": "code",
   "outputs": [],
   "source": [
    "import numpy as np\n",
    "import matplotlib.pyplot as plt\n",
    "from scipy.optimize import linprog\n",
    "from matplotlib.patches import Patch, Polygon\n",
    "from shapely.geometry import Polygon as ShapelyPolygon\n",
    "from scipy.spatial import HalfspaceIntersection, ConvexHull, QhullError\n",
    "import itertools"
   ],
   "metadata": {
    "collapsed": false,
    "ExecuteTime": {
     "end_time": "2025-05-29T21:49:30.542377Z",
     "start_time": "2025-05-29T21:49:30.534374Z"
    }
   },
   "id": "7e050a112efcc012",
   "execution_count": 371
  },
  {
   "cell_type": "code",
   "outputs": [],
   "source": [
    "def is_feasible(A, b):\n",
    "    n = A.shape[1]\n",
    "    res = linprog(np.zeros(n), A_ub=A, b_ub=b, bounds=(None, None), method=\"highs\")\n",
    "    return res.success"
   ],
   "metadata": {
    "collapsed": false,
    "ExecuteTime": {
     "end_time": "2025-05-29T21:49:30.557887Z",
     "start_time": "2025-05-29T21:49:30.547377Z"
    }
   },
   "id": "33cc193fbe0fa5d9",
   "execution_count": 372
  },
  {
   "cell_type": "code",
   "outputs": [],
   "source": [
    "def is_bounded(A, b, tol=1e-9):\n",
    "    \"\"\"\n",
    "    Correctly determines if the region {x | A x <= b} is bounded.\n",
    "    Checks if the recession cone {d | A d <= 0} contains a nonzero vector.\n",
    "    \"\"\"\n",
    "    n = A.shape[1]\n",
    "    c = np.zeros(n)\n",
    "\n",
    "    # Try to find a non-zero d such that A d <= 0\n",
    "    res = linprog(c, A_ub=A, b_ub=np.zeros(A.shape[0]), bounds=(None, None), method=\"highs\")\n",
    "\n",
    "    if not res.success:\n",
    "        return True  # No feasible direction — bounded\n",
    "    \n",
    "    d = res.x\n",
    "    if np.linalg.norm(d) > tol:\n",
    "        return False  # Found non-zero direction — unbounded\n",
    "\n",
    "    return True  # Only solution is d = 0 — bounded"
   ],
   "metadata": {
    "collapsed": false,
    "ExecuteTime": {
     "end_time": "2025-05-29T21:49:30.573894Z",
     "start_time": "2025-05-29T21:49:30.558888Z"
    }
   },
   "id": "93d813afb104f9ec",
   "execution_count": 373
  },
  {
   "cell_type": "code",
   "outputs": [],
   "source": [
    "def remove_redundant_constraints(A, b, tol=1e-7):\n",
    "    m, n = A.shape\n",
    "    keep = []\n",
    "\n",
    "    if not is_feasible(A, b):\n",
    "        raise ValueError(\"System is infeasible — no region to simplify.\")\n",
    "    if not is_bounded(A, b):\n",
    "        print(\"Warning: System is unbounded — proceed with care.\")\n",
    "\n",
    "    for i in range(m):\n",
    "        A_rest = np.delete(A, i, axis=0)\n",
    "        b_rest = np.delete(b, i, axis=0)\n",
    "        a_i, b_i = A[i], b[i]\n",
    "\n",
    "        res = linprog(-a_i, A_ub=A_rest, b_ub=b_rest, bounds=(None, None), method=\"highs\")\n",
    "\n",
    "        if not res.success or -res.fun > b_i + tol:\n",
    "            keep.append(i)\n",
    "\n",
    "    return A[keep], b[keep]"
   ],
   "metadata": {
    "collapsed": false,
    "ExecuteTime": {
     "end_time": "2025-05-29T21:49:30.589888Z",
     "start_time": "2025-05-29T21:49:30.574887Z"
    }
   },
   "id": "2d676be3469ffd87",
   "execution_count": 374
  },
  {
   "cell_type": "code",
   "outputs": [],
   "source": [
    "def get_strictly_inside_point(A, b):\n",
    "    n = A.shape[1]\n",
    "    c = np.zeros(n)\n",
    "    res = linprog(c, A_ub=A, b_ub=b, bounds=[(None, None)] * n, method='highs')\n",
    "    if not res.success:\n",
    "        raise ValueError(\"Region is infeasible\")\n",
    "    return res.x + 1e-14 * np.ones(n)  # Slight nudge to ensure it's interior"
   ],
   "metadata": {
    "collapsed": false,
    "ExecuteTime": {
     "end_time": "2025-05-29T21:49:30.605895Z",
     "start_time": "2025-05-29T21:49:30.590889Z"
    }
   },
   "id": "32d06a36f767529a",
   "execution_count": 375
  },
  {
   "cell_type": "code",
   "outputs": [],
   "source": [
    "# def get_strictly_inside_point(A, b, slack_eps=1e-14):\n",
    "#     \"\"\"\n",
    "#     Returns a point strictly inside Ax <= b, if one exists,\n",
    "#     by maximizing the minimum slack.\n",
    "#     \"\"\"\n",
    "#     from scipy.optimize import linprog\n",
    "#     m, n = A.shape\n",
    "# \n",
    "#     # New variables: x (n), t (1)\n",
    "#     # Maximize t subject to: Ax <= b - t, t >= slack_eps\n",
    "#     c = np.zeros(n + 1)\n",
    "#     c[-1] = -1  # Maximize t → minimize -t\n",
    "# \n",
    "#     A_ub_ext = np.hstack([A, -np.ones((m, 1))])  # Ax - t <= b → Ax + (-1)*t <= b\n",
    "#     b_ub_ext = b - slack_eps\n",
    "# \n",
    "#     bounds = [(None, None)] * n + [(0, None)]  # x unbounded, t ≥ 0\n",
    "# \n",
    "#     res = linprog(c, A_ub=A_ub_ext, b_ub=b_ub_ext, bounds=bounds, method='highs')\n",
    "# \n",
    "#     if res.success:\n",
    "#         return res.x[:-1]  # Return x part only\n",
    "#     else:\n",
    "#         raise ValueError(\"No strictly feasible point found.\")\n"
   ],
   "metadata": {
    "collapsed": false,
    "ExecuteTime": {
     "end_time": "2025-05-29T21:49:30.621889Z",
     "start_time": "2025-05-29T21:49:30.609888Z"
    }
   },
   "id": "ac756b4bc0311fea",
   "execution_count": 376
  },
  {
   "cell_type": "code",
   "outputs": [],
   "source": [
    "# def plot_feasible_region(A, b, label=\"Region\", color=\"blue\", alpha=0.3, linestyle='-'):\n",
    "#     \"\"\"\n",
    "#     Visualize a 2D feasible region defined by Ax <= b using HalfspaceIntersection.\n",
    "#     \"\"\"\n",
    "# \n",
    "#     if A.shape[1] != 2:\n",
    "#         raise ValueError(\"Only 2D regions are supported for visualization.\")\n",
    "# \n",
    "#     # Convert to halfspace format [a, -b]\n",
    "#     halfspaces = np.hstack((A, -b.reshape(-1, 1)))\n",
    "# \n",
    "#     # Get interior point\n",
    "#     res = linprog(c=np.zeros(2), A_ub=A, b_ub=b, bounds=(None, None), method=\"highs\")\n",
    "#     if not res.success:\n",
    "#         print(f\"[{label}] Feasible region is empty.\")\n",
    "#         return\n",
    "#     \n",
    "#     # interior_point = res.x\n",
    "#     interior_point = get_strictly_inside_point(A,b)\n",
    "#     try:\n",
    "#         hs = HalfspaceIntersection(halfspaces, interior_point)\n",
    "#         verts = hs.intersections\n",
    "# \n",
    "#         if len(verts) < 3:\n",
    "#             print(f\"[{label}] Region is degenerate (less than 3 vertices). Skipping fill.\")\n",
    "#             return\n",
    "# \n",
    "#         hull = ConvexHull(verts)\n",
    "#         polygon = Polygon(verts[hull.vertices], closed=True,\n",
    "#                           facecolor=color, alpha=alpha,\n",
    "#                           edgecolor='black', linestyle=linestyle,\n",
    "#                           label=label)\n",
    "#         plt.gca().add_patch(polygon)\n",
    "#     except QhullError as e:\n",
    "#         print(f\"[{label}] QhullError: {e}\")\n"
   ],
   "metadata": {
    "collapsed": false,
    "ExecuteTime": {
     "end_time": "2025-05-29T21:49:30.637891Z",
     "start_time": "2025-05-29T21:49:30.622888Z"
    }
   },
   "id": "ae41a4695eb3ac39",
   "execution_count": 377
  },
  {
   "cell_type": "code",
   "outputs": [],
   "source": [
    "# def plot_feasible_region(A, b, label=\"Region\", color=\"blue\", alpha=0.3, linestyle='-'):\n",
    "#     \"\"\"\n",
    "#     Visualize a 2D feasible region defined by Ax <= b using HalfspaceIntersection.\n",
    "#     \"\"\"\n",
    "# \n",
    "#     if A.shape[1] != 2:\n",
    "#         raise ValueError(\"Only 2D regions are supported for visualization.\")\n",
    "# \n",
    "#     try:\n",
    "#         interior_point = get_strictly_inside_point(A, b)\n",
    "#     except ValueError:\n",
    "#         print(f\"[{label}] Region is empty or infeasible.\")\n",
    "#         return\n",
    "# \n",
    "#     halfspaces = np.hstack((A, -b.reshape(-1, 1)))\n",
    "# \n",
    "#     try:\n",
    "#         hs = HalfspaceIntersection(halfspaces, interior_point)\n",
    "#         verts = hs.intersections\n",
    "# \n",
    "#         if len(verts) < 3:\n",
    "#             print(f\"[{label}] Region is degenerate (less than 3 vertices). Skipping.\")\n",
    "#             return\n",
    "# \n",
    "#         # Sort points counter-clockwise around centroid\n",
    "#         center = np.mean(verts, axis=0)\n",
    "#         sorted_verts = sorted(verts, key=lambda p: np.arctan2(p[1] - center[1], p[0] - center[0]))\n",
    "#         poly = ShapelyPolygon(sorted_verts)\n",
    "# \n",
    "#         # Fix if invalid\n",
    "#         if not poly.is_valid:\n",
    "#             poly = poly.buffer(0)\n",
    "# \n",
    "#         if poly.is_empty or not poly.is_valid:\n",
    "#             print(f\"[{label}] Final polygon is invalid or empty.\")\n",
    "#             return\n",
    "# \n",
    "#         # Plot using matplotlib\n",
    "#         patch = Polygon(np.array(poly.exterior.coords), closed=True,\n",
    "#                         facecolor=color, alpha=alpha,\n",
    "#                         edgecolor='black', linestyle=linestyle,\n",
    "#                         label=label)\n",
    "#         plt.gca().add_patch(patch)\n",
    "# \n",
    "#     except QhullError as e:\n",
    "#         print(f\"[{label}] QhullError: {e}\")"
   ],
   "metadata": {
    "collapsed": false,
    "ExecuteTime": {
     "end_time": "2025-05-29T21:49:30.653143Z",
     "start_time": "2025-05-29T21:49:30.639537Z"
    }
   },
   "id": "ec44e4c9edbf394e",
   "execution_count": 378
  },
  {
   "cell_type": "code",
   "outputs": [],
   "source": [
    "def plot_feasible_region(region_constraints_list, xlim=(0, 10), ylim=(0, 10),\n",
    "                                 label=\"Common Region\", color=\"purple\", alpha=0.4):\n",
    "    \"\"\"\n",
    "    Plot the intersection of all feasible regions defined by each (A, b) pair in the list.\n",
    "    \"\"\"\n",
    "    # Combine all constraints\n",
    "    A_all = np.vstack([A for A, b in region_constraints_list])\n",
    "    b_all = np.hstack([b for A, b in region_constraints_list])\n",
    "\n",
    "    # Optionally bound it to a known box\n",
    "    A_box = np.array([\n",
    "        [-1, 0], [1, 0], [0, -1], [0, 1]\n",
    "    ])\n",
    "    b_box = np.array([\n",
    "        -xlim[0], xlim[1], -ylim[0], ylim[1]\n",
    "    ])\n",
    "    A_all = np.vstack([A_all, A_box])\n",
    "    b_all = np.hstack([b_all, b_box])\n",
    "\n",
    "    try:\n",
    "        interior_point = get_strictly_inside_point(A_all, b_all)\n",
    "    except ValueError:\n",
    "        print(\"[Common Region] No feasible intersection.\")\n",
    "        return\n",
    "\n",
    "    try:\n",
    "        halfspaces = np.hstack((A_all, -b_all.reshape(-1, 1)))\n",
    "        hs = HalfspaceIntersection(halfspaces, interior_point)\n",
    "        verts = hs.intersections\n",
    "\n",
    "        if len(verts) < 3:\n",
    "            print(\"[Common Region] Degenerate region (less than 3 vertices).\")\n",
    "            return\n",
    "\n",
    "        # Sort vertices for polygon\n",
    "        center = np.mean(verts, axis=0)\n",
    "        sorted_verts = sorted(verts, key=lambda p: np.arctan2(p[1] - center[1], p[0] - center[0]))\n",
    "        poly = ShapelyPolygon(sorted_verts)\n",
    "\n",
    "        if not poly.is_valid:\n",
    "            poly = poly.buffer(0)\n",
    "\n",
    "        if poly.is_empty:\n",
    "            print(\"[Common Region] Empty region after polygon fix.\")\n",
    "            return\n",
    "\n",
    "        patch = Polygon(np.array(poly.exterior.coords), closed=True,\n",
    "                           facecolor=color, edgecolor='black',\n",
    "                           alpha=alpha, label=label)\n",
    "        plt.gca().add_patch(patch)\n",
    "\n",
    "    except QhullError as e:\n",
    "        print(f\"[Common Region] QhullError: {e}\")"
   ],
   "metadata": {
    "collapsed": false,
    "ExecuteTime": {
     "end_time": "2025-05-29T21:49:30.669150Z",
     "start_time": "2025-05-29T21:49:30.654144Z"
    }
   },
   "id": "f812efa8cf637ba3",
   "execution_count": 379
  },
  {
   "cell_type": "code",
   "outputs": [],
   "source": [
    "def augment_with_bounds(A, b, xlim, ylim):\n",
    "    # Add constraints for bounding box: x >= xlim[0], x <= xlim[1], y >= ylim[0], y <= ylim[1]\n",
    "    A_box = np.array([\n",
    "        [-1, 0],  # -x <= -x_min → x >= x_min\n",
    "        [1, 0],   # x <= x_max\n",
    "        [0, -1],  # -y <= -y_min → y >= y_min\n",
    "        [0, 1]    # y <= y_max\n",
    "    ])\n",
    "    b_box = np.array([\n",
    "        -xlim[0],\n",
    "         xlim[1],\n",
    "        -ylim[0],\n",
    "         ylim[1]\n",
    "    ])\n",
    "    \n",
    "    A_aug = np.vstack([A, A_box])\n",
    "    b_aug = np.hstack([b, b_box])\n",
    "    return A_aug, b_aug\n"
   ],
   "metadata": {
    "collapsed": false,
    "ExecuteTime": {
     "end_time": "2025-05-29T21:49:30.684143Z",
     "start_time": "2025-05-29T21:49:30.670144Z"
    }
   },
   "id": "2b68cab0e4279dae",
   "execution_count": 380
  },
  {
   "cell_type": "code",
   "outputs": [],
   "source": [
    "def get_polygon_from_halfspaces(A, b, epsilon=1e-5):\n",
    "    b_strict = b - epsilon\n",
    "    res = linprog(c=np.zeros(A.shape[1]), A_ub=A, b_ub=b_strict)\n",
    "    if not res.success:\n",
    "        raise ValueError(\"Could not find strictly interior feasible point.\")\n",
    "\n",
    "    interior_point = res.x\n",
    "    halfspaces = np.hstack([A, -b.reshape(-1, 1)])\n",
    "    hs = HalfspaceIntersection(halfspaces, interior_point)\n",
    "\n",
    "    # Sort points in counter-clockwise order to avoid invalid polygon\n",
    "    center = np.mean(hs.intersections, axis=0)\n",
    "    sorted_points = sorted(hs.intersections, key=lambda p: np.arctan2(p[1] - center[1], p[0] - center[0]))\n",
    "\n",
    "    poly = ShapelyPolygon(sorted_points)\n",
    "\n",
    "    # Fix any topology issues\n",
    "    if not poly.is_valid:\n",
    "        poly = poly.buffer(0)\n",
    "\n",
    "    return poly"
   ],
   "metadata": {
    "collapsed": false,
    "ExecuteTime": {
     "end_time": "2025-05-29T21:49:30.699143Z",
     "start_time": "2025-05-29T21:49:30.686143Z"
    }
   },
   "id": "b7c47fab2c6927e6",
   "execution_count": 381
  },
  {
   "cell_type": "code",
   "outputs": [],
   "source": [
    "def plot_regions_with_overlap(region_constraints_list, xlim=(-10, 10), ylim=(-10, 10)):\n",
    "    # Create polygons for each region\n",
    "    region_polygons = []\n",
    "    for A, b in region_constraints_list:\n",
    "        A_aug, b_aug = augment_with_bounds(A, b, xlim, ylim)\n",
    "        poly = get_polygon_from_halfspaces(A_aug, b_aug)\n",
    "        \n",
    "        bbox = ShapelyPolygon([(xlim[0], ylim[0]), (xlim[1], ylim[0]),\n",
    "                (xlim[1], ylim[1]), (xlim[0], ylim[1])])\n",
    "        \n",
    "        # Intersect only after ensuring polygon is valid\n",
    "        if poly.is_valid:\n",
    "            poly = poly.intersection(bbox)\n",
    "        else:\n",
    "            poly = poly.buffer(0).intersection(bbox)\n",
    "        \n",
    "        region_polygons.append(poly)\n",
    "\n",
    "    # Create union of combinations of regions\n",
    "    region_union_polys = {}\n",
    "    for r in range(1, len(region_polygons)+1):\n",
    "        for combo in itertools.combinations(range(len(region_polygons)), r):\n",
    "            inter_poly = region_polygons[combo[0]]\n",
    "            for i in combo[1:]:\n",
    "                inter_poly = inter_poly.intersection(region_polygons[i])\n",
    "            if not inter_poly.is_empty:\n",
    "                region_union_polys[combo] = inter_poly\n",
    "\n",
    "    # Plotting\n",
    "    fig, ax = plt.subplots(figsize=(8, 8))\n",
    "    colors = plt.cm.viridis(np.linspace(0, 1, len(region_union_polys) + 1))\n",
    "\n",
    "    legend_handles = []\n",
    "    for i, (combo, poly) in enumerate(region_union_polys.items()):\n",
    "        ax.fill(*poly.exterior.xy, alpha=0.6, color=colors[i], label=f\"Overlap: {combo}\")\n",
    "        legend_handles.append(Patch(color=colors[i], label=f\"Overlap: {combo}\"))\n",
    "\n",
    "    # Optional: plot boundaries of each region\n",
    "    for i, poly in enumerate(region_polygons):\n",
    "        x, y = poly.exterior.xy\n",
    "        ax.plot(x, y, linestyle='--', label=f'Region {i}', linewidth=1.5)\n",
    "\n",
    "    ax.set_xlim(xlim)\n",
    "    ax.set_ylim(ylim)\n",
    "    ax.set_aspect('equal')\n",
    "    ax.legend(handles=legend_handles)\n",
    "    ax.set_title(\"Region Overlap Visualization\")\n",
    "    plt.grid(True)\n",
    "    plt.show()"
   ],
   "metadata": {
    "collapsed": false,
    "ExecuteTime": {
     "end_time": "2025-05-29T21:49:30.715143Z",
     "start_time": "2025-05-29T21:49:30.700142Z"
    }
   },
   "id": "3241f72e82bfdb91",
   "execution_count": 382
  },
  {
   "cell_type": "code",
   "outputs": [
    {
     "name": "stdout",
     "output_type": "stream",
     "text": [
      "Reduced constraints:\n",
      "A: [[ 1  0]\n",
      " [-1  0]\n",
      " [ 0  1]\n",
      " [ 0 -1]\n",
      " [ 1  1]]\n",
      "b: [1 1 1 1 1]\n"
     ]
    }
   ],
   "source": [
    "# Example system Ax <= b\n",
    "A = np.array([\n",
    "    [ 1,  0],\n",
    "    [-1,  0],\n",
    "    [ 0,  1],\n",
    "    [ 0, -1],\n",
    "    [ 1,  1]\n",
    "])\n",
    "b = np.array([1, 1, 1, 1, 1])\n",
    "\n",
    "# Reduce\n",
    "A_red, b_red = remove_redundant_constraints(A, b)\n",
    "print(\"Reduced constraints:\")\n",
    "print(f'A: {A_red}')\n",
    "print(f'b: {b_red}')"
   ],
   "metadata": {
    "collapsed": false,
    "ExecuteTime": {
     "end_time": "2025-05-29T22:04:46.473564Z",
     "start_time": "2025-05-29T22:04:46.457841Z"
    }
   },
   "id": "939c80bee09fa77d",
   "execution_count": 392
  },
  {
   "cell_type": "code",
   "outputs": [
    {
     "data": {
      "text/plain": "array([[ 1,  0],\n       [-1,  0],\n       [ 0,  1],\n       [ 0, -1],\n       [ 1,  1]])"
     },
     "execution_count": 393,
     "metadata": {},
     "output_type": "execute_result"
    }
   ],
   "source": [
    "A_red"
   ],
   "metadata": {
    "collapsed": false,
    "ExecuteTime": {
     "end_time": "2025-05-29T22:04:46.862398Z",
     "start_time": "2025-05-29T22:04:46.847663Z"
    }
   },
   "id": "bddc17218b4e3677",
   "execution_count": 393
  },
  {
   "cell_type": "code",
   "outputs": [],
   "source": [
    "# # Plot\n",
    "# plt.figure(figsize=(6, 6))\n",
    "# plot_feasible_region(A, b, label=\"Original\", color=\"blue\", alpha=0.3)\n",
    "# plot_feasible_region(A_red, b_red, label=\"Reduced\", color=\"red\", alpha=0.3, linestyle='--')\n",
    "# plt.legend()\n",
    "# plt.title(\"Original vs Reduced Feasible Region\")\n",
    "# plt.xlabel(\"x\")\n",
    "# plt.ylabel(\"y\")\n",
    "# plt.grid(True)\n",
    "# plt.axis('equal')\n",
    "# plt.show()"
   ],
   "metadata": {
    "collapsed": false,
    "ExecuteTime": {
     "end_time": "2025-05-29T21:49:30.760655Z",
     "start_time": "2025-05-29T21:49:30.746148Z"
    }
   },
   "id": "ec7e4e9f3c59e61",
   "execution_count": 385
  },
  {
   "cell_type": "code",
   "outputs": [
    {
     "data": {
      "text/plain": "<Figure size 800x800 with 1 Axes>",
      "image/png": "[encoded data removed]"
     },
     "metadata": {},
     "output_type": "display_data"
    },
    {
     "data": {
      "text/plain": "<Figure size 800x800 with 1 Axes>",
      "image/png": "[encoded data removed]"
     },
     "metadata": {},
     "output_type": "display_data"
    }
   ],
   "source": [
    "plot_regions_with_overlap(region_constraints_list=[(A, b)], xlim=(-5,5), ylim=(-5,5))\n",
    "plot_regions_with_overlap(region_constraints_list=[(A_red, b_red)], xlim=(-5,5), ylim=(-5,5))"
   ],
   "metadata": {
    "collapsed": false,
    "ExecuteTime": {
     "end_time": "2025-05-29T21:49:30.930838Z",
     "start_time": "2025-05-29T21:49:30.761656Z"
    }
   },
   "id": "cf89f178a0966eac",
   "execution_count": 386
  },
  {
   "cell_type": "code",
   "outputs": [
    {
     "name": "stdout",
     "output_type": "stream",
     "text": [
      "Reduced constraints:\n",
      "A: [[-5  7]\n",
      " [ 5  8]\n",
      " [-1 -1]\n",
      " [ 1 -1]]\n",
      "b: [ 6 64 -8  2]\n"
     ]
    }
   ],
   "source": [
    "# Example system Ax <= b\n",
    "A = np.array([\n",
    "    [-5, 7],\n",
    "    [-1, 0],\n",
    "    [5, 8],\n",
    "    [1, 0],\n",
    "    [-1, -1],\n",
    "    [1, -1],\n",
    "    [1, 0],\n",
    "    [-1, 0],\n",
    "    [0, 1],\n",
    "    [0, -1]\n",
    "])\n",
    "b = np.array([6, -3, 64, 8, -8, 2, 10, 0, 10, 0])\n",
    "\n",
    "# Reduce\n",
    "A_red, b_red = remove_redundant_constraints(A, b)\n",
    "print(\"Reduced constraints:\")\n",
    "print(f'A: {A_red}')\n",
    "print(f'b: {b_red}')"
   ],
   "metadata": {
    "collapsed": false,
    "ExecuteTime": {
     "end_time": "2025-05-29T21:49:30.946893Z",
     "start_time": "2025-05-29T21:49:30.932837Z"
    }
   },
   "id": "1b131f801893657e",
   "execution_count": 387
  },
  {
   "cell_type": "code",
   "outputs": [],
   "source": [
    "# # Plot\n",
    "# plt.figure(figsize=(6, 6))\n",
    "# plot_feasible_region(A, b, label=\"Original\", color=\"blue\", alpha=0.3)\n",
    "# plot_feasible_region(A_red, b_red, label=\"Reduced\", color=\"red\", alpha=0.3, linestyle='--')\n",
    "# plt.legend()\n",
    "# plt.title(\"Original vs Reduced Feasible Region\")\n",
    "# plt.xlabel(\"x\")\n",
    "# plt.ylabel(\"y\")\n",
    "# plt.grid(True)\n",
    "# plt.axis('equal')\n",
    "# plt.show()"
   ],
   "metadata": {
    "collapsed": false,
    "ExecuteTime": {
     "end_time": "2025-05-29T21:49:30.962404Z",
     "start_time": "2025-05-29T21:49:30.948892Z"
    }
   },
   "id": "ed1696513d831ae9",
   "execution_count": 388
  },
  {
   "cell_type": "code",
   "outputs": [
    {
     "data": {
      "text/plain": "<Figure size 800x800 with 1 Axes>",
      "image/png": "[encoded data removed]"
     },
     "metadata": {},
     "output_type": "display_data"
    },
    {
     "data": {
      "text/plain": "<Figure size 800x800 with 1 Axes>",
      "image/png": "[encoded data removed]"
     },
     "metadata": {},
     "output_type": "display_data"
    }
   ],
   "source": [
    "plot_regions_with_overlap(region_constraints_list=[(A, b)], xlim=(0,10), ylim=(0,10))\n",
    "plot_regions_with_overlap(region_constraints_list=[(A_red, b_red)], xlim=(0,10), ylim=(0,10))"
   ],
   "metadata": {
    "collapsed": false,
    "ExecuteTime": {
     "end_time": "2025-05-29T21:49:31.136439Z",
     "start_time": "2025-05-29T21:49:30.963404Z"
    }
   },
   "id": "d359e4090ff681d5",
   "execution_count": 389
  },
  {
   "cell_type": "code",
   "outputs": [],
   "source": [],
   "metadata": {
    "collapsed": false,
    "ExecuteTime": {
     "end_time": "2025-05-29T21:49:31.151945Z",
     "start_time": "2025-05-29T21:49:31.138442Z"
    }
   },
   "id": "20cedf2740601954",
   "execution_count": 389
  }
 ],
 "metadata": {
  "kernelspec": {
   "display_name": "Python 3",
   "language": "python",
   "name": "python3"
  },
  "language_info": {
   "codemirror_mode": {
    "name": "ipython",
    "version": 2
   },
   "file_extension": ".py",
   "mimetype": "text/x-python",
   "name": "python",
   "nbconvert_exporter": "python",
   "pygments_lexer": "ipython2",
   "version": "2.7.6"
  }
 },
 "nbformat": 4,
 "nbformat_minor": 5
}
