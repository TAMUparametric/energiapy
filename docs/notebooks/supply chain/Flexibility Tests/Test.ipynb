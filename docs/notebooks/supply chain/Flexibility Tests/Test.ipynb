{
 "cells": [
  {
   "metadata": {
    "ExecuteTime": {
     "end_time": "2025-06-20T04:45:18.473324Z",
     "start_time": "2025-06-20T04:45:18.471053Z"
    }
   },
   "cell_type": "code",
   "source": [
    "import numpy as np\n",
    "from ppopt.mplp_program import MPLP_Program\n",
    "from ppopt.mpmodel import MPModeler\n",
    "from ppopt.mp_solvers.solve_mpqp import solve_mpqp, mpqp_algorithm\n",
    "from ppopt.plot import parametric_plot\n",
    "from numpy.polynomial.legendre import leggauss\n",
    "from scipy.optimize import linprog\n",
    "from typing import Union\n",
    "from collections import defaultdict"
   ],
   "id": "f44c376bc9f0ede1",
   "outputs": [],
   "execution_count": 9
  },
  {
   "cell_type": "code",
   "id": "initial_id",
   "metadata": {
    "collapsed": true,
    "ExecuteTime": {
     "end_time": "2025-06-20T04:45:18.501925Z",
     "start_time": "2025-06-20T04:45:18.475141Z"
    }
   },
   "source": [
    "# Pistikopoulos and Mazzuchi (1990) Example 1\n",
    "t_bounds = [(610, 630), (378, 398), (573, 593), (303, 323)]\n",
    "# t_bounds = [(586.68, 653.32), (354.68, 421.32), (549.68, 616.32), (279.68, 346.32)]\n",
    "nt = len(t_bounds)\n",
    "nd = 0\n",
    "d_bounds = None\n",
    "d_vector = None\n",
    "m = MPModeler()\n",
    "\n",
    "t3_max = m.add_var('t3_max')\n",
    "t3_min = m.add_var('t3_min')\n",
    "t4_a = m.add_var('t4_a')\n",
    "t4_b = m.add_var('t4_b')\n",
    "\n",
    "t1 = m.add_param(name=\"t1\")\n",
    "t2 = m.add_param(name=\"t2\")\n",
    "\n",
    "m.add_constr(-1/3*t3_max + t4_a - (125 + 1/3) <= 0)\n",
    "m.add_constr(-3/7*t1 - 1/7*t2 - 4/7*t3_max + (643 + 3/7) <= 0)\n",
    "m.add_constr(1/2*t4_a - (161 + 1/2) <= 0)\n",
    "m.add_constr(-3/5*t1 - 1/5*t2 - 2/5*t3_max - 4/5*t4_a + 922 <= 0)\n",
    "\n",
    "m.add_constr(-1/3*t3_min + t4_b - (125 + 1/3) <= 0)\n",
    "m.add_constr(-3/7*t1 - 1/7*t2 - 4/7*t3_min + (643 + 3/7) <= 0)\n",
    "m.add_constr(1/2*t4_b - (161 + 1/2) <= 0)\n",
    "m.add_constr(-3/5*t1 - 1/5*t2 - 2/5*t3_min - 4/5*t4_b + 922 <= 0)\n",
    "\n",
    "m.add_constr(t3_min <= t3_max)\n",
    "\n",
    "m.add_constr(t_bounds[2][0] <= t3_max)\n",
    "m.add_constr(t_bounds[2][0] <= t3_min)\n",
    "m.add_constr(t_bounds[3][0] <= t4_a)\n",
    "m.add_constr(t_bounds[3][0] <= t4_b)\n",
    "m.add_constr(t3_max <= t_bounds[2][1])\n",
    "m.add_constr(t3_min <= t_bounds[2][1])\n",
    "m.add_constr(t4_a <= t_bounds[3][1])\n",
    "m.add_constr(t4_b <= t_bounds[3][1])\n",
    "\n",
    "m.add_constr(t_bounds[0][0] <= t1)\n",
    "m.add_constr(t_bounds[1][0] <= t2)\n",
    "m.add_constr(t1 <= t_bounds[0][1])\n",
    "m.add_constr(t2 <= t_bounds[1][1])\n",
    "m.set_objective(t3_min-t3_max)\n",
    "prob = m.formulate_problem()\n",
    "prob.process_constraints()\n",
    "\n",
    "solution_flexibility = solve_mpqp(problem=prob, algorithm=mpqp_algorithm.geometric)\n",
    "\n",
    "def joint_pdf(theta:list):\n",
    "    return (1/(5000*np.pi))*np.exp(-0.08*((theta[0]-620)**2 + (theta[1]-388)**2))"
   ],
   "outputs": [
    {
     "name": "stdout",
     "output_type": "stream",
     "text": [
      "Using a found active set [10, 11, 12, 13]\n"
     ]
    }
   ],
   "execution_count": 10
  },
  {
   "metadata": {
    "ExecuteTime": {
     "end_time": "2025-06-20T04:45:18.505801Z",
     "start_time": "2025-06-20T04:45:18.502595Z"
    }
   },
   "cell_type": "code",
   "source": "prob.A",
   "id": "c9d7710f9ab4dcb4",
   "outputs": [
    {
     "data": {
      "text/plain": [
       "array([[-0.33333333,  0.        ,  1.        ,  0.        ],\n",
       "       [-0.57142857,  0.        ,  0.        ,  0.        ],\n",
       "       [ 0.        ,  0.        ,  0.5       ,  0.        ],\n",
       "       [-0.4       ,  0.        , -0.8       ,  0.        ],\n",
       "       [ 0.        , -0.33333333,  0.        ,  1.        ],\n",
       "       [ 0.        , -0.57142857,  0.        ,  0.        ],\n",
       "       [ 0.        ,  0.        ,  0.        ,  0.5       ],\n",
       "       [ 0.        , -0.4       ,  0.        , -0.8       ],\n",
       "       [-1.        ,  1.        ,  0.        ,  0.        ],\n",
       "       [-1.        ,  0.        ,  0.        ,  0.        ],\n",
       "       [ 0.        , -1.        ,  0.        ,  0.        ],\n",
       "       [ 0.        ,  0.        , -1.        ,  0.        ],\n",
       "       [ 0.        ,  0.        ,  0.        , -1.        ],\n",
       "       [ 1.        ,  0.        ,  0.        ,  0.        ],\n",
       "       [ 0.        ,  1.        ,  0.        ,  0.        ],\n",
       "       [ 0.        ,  0.        ,  1.        ,  0.        ],\n",
       "       [ 0.        ,  0.        ,  0.        ,  1.        ]])"
      ]
     },
     "execution_count": 11,
     "metadata": {},
     "output_type": "execute_result"
    }
   ],
   "execution_count": 11
  },
  {
   "metadata": {
    "ExecuteTime": {
     "end_time": "2025-06-20T04:45:18.508913Z",
     "start_time": "2025-06-20T04:45:18.506497Z"
    }
   },
   "cell_type": "code",
   "source": "prob.b",
   "id": "5db80d5f85a2189d",
   "outputs": [
    {
     "data": {
      "text/plain": [
       "array([[ 125.33333333],\n",
       "       [-643.42857143],\n",
       "       [ 161.5       ],\n",
       "       [-922.        ],\n",
       "       [ 125.33333333],\n",
       "       [-643.42857143],\n",
       "       [ 161.5       ],\n",
       "       [-922.        ],\n",
       "       [  -0.        ],\n",
       "       [-573.        ],\n",
       "       [-573.        ],\n",
       "       [-303.        ],\n",
       "       [-303.        ],\n",
       "       [ 593.        ],\n",
       "       [ 593.        ],\n",
       "       [ 323.        ],\n",
       "       [ 323.        ]])"
      ]
     },
     "execution_count": 12,
     "metadata": {},
     "output_type": "execute_result"
    }
   ],
   "execution_count": 12
  },
  {
   "metadata": {
    "ExecuteTime": {
     "end_time": "2025-06-20T04:45:18.512806Z",
     "start_time": "2025-06-20T04:45:18.510367Z"
    }
   },
   "cell_type": "code",
   "source": "prob.F",
   "id": "834e1e6048ffd05f",
   "outputs": [
    {
     "data": {
      "text/plain": [
       "array([[0.        , 0.        ],\n",
       "       [0.42857143, 0.14285714],\n",
       "       [0.        , 0.        ],\n",
       "       [0.6       , 0.2       ],\n",
       "       [0.        , 0.        ],\n",
       "       [0.42857143, 0.14285714],\n",
       "       [0.        , 0.        ],\n",
       "       [0.6       , 0.2       ],\n",
       "       [0.        , 0.        ],\n",
       "       [0.        , 0.        ],\n",
       "       [0.        , 0.        ],\n",
       "       [0.        , 0.        ],\n",
       "       [0.        , 0.        ],\n",
       "       [0.        , 0.        ],\n",
       "       [0.        , 0.        ],\n",
       "       [0.        , 0.        ],\n",
       "       [0.        , 0.        ]])"
      ]
     },
     "execution_count": 13,
     "metadata": {},
     "output_type": "execute_result"
    }
   ],
   "execution_count": 13
  },
  {
   "metadata": {
    "ExecuteTime": {
     "end_time": "2025-06-20T04:45:18.516019Z",
     "start_time": "2025-06-20T04:45:18.513607Z"
    }
   },
   "cell_type": "code",
   "source": "prob.A_t",
   "id": "b562df9752a26f5c",
   "outputs": [
    {
     "data": {
      "text/plain": [
       "array([[-1.,  0.],\n",
       "       [ 0., -1.],\n",
       "       [ 1.,  0.],\n",
       "       [ 0.,  1.]])"
      ]
     },
     "execution_count": 14,
     "metadata": {},
     "output_type": "execute_result"
    }
   ],
   "execution_count": 14
  },
  {
   "metadata": {
    "ExecuteTime": {
     "end_time": "2025-06-20T04:45:18.518899Z",
     "start_time": "2025-06-20T04:45:18.516666Z"
    }
   },
   "cell_type": "code",
   "source": "prob.b_t",
   "id": "e2239edd8616289",
   "outputs": [
    {
     "data": {
      "text/plain": [
       "array([[-610.],\n",
       "       [-378.],\n",
       "       [ 630.],\n",
       "       [ 398.]])"
      ]
     },
     "execution_count": 15,
     "metadata": {},
     "output_type": "execute_result"
    }
   ],
   "execution_count": 15
  },
  {
   "metadata": {
    "ExecuteTime": {
     "end_time": "2025-06-20T04:45:18.522617Z",
     "start_time": "2025-06-20T04:45:18.519699Z"
    }
   },
   "cell_type": "code",
   "source": "solution_flexibility",
   "id": "2bc41c48c92c21bb",
   "outputs": [
    {
     "data": {
      "text/plain": [
       "Solution(program=<ppopt.mplp_program.MPLP_Program object at 0x10dc84520>, critical_regions=[Critical region with active set [10, 11, 12, 13]\n",
       "The Omega Constraint indices are [1, 2, 3]\n",
       "The Lagrange multipliers Constraint indices are []\n",
       "The Regular Constraint indices are [[7], [7]]\n",
       "  x(θ) = Aθ + b \n",
       " λ(θ) = Cθ + d \n",
       "  Eθ <= f\n",
       " A = [[0. 0.]\n",
       " [0. 0.]\n",
       " [0. 0.]\n",
       " [0. 0.]] \n",
       " b = [[593.]\n",
       " [573.]\n",
       " [303.]\n",
       " [303.]] \n",
       " C = [[0. 0.]\n",
       " [0. 0.]\n",
       " [0. 0.]\n",
       " [0. 0.]] \n",
       " d = [[1.]\n",
       " [0.]\n",
       " [0.]\n",
       " [1.]] \n",
       " E = [[-0.9486833  -0.31622777]\n",
       " [ 0.         -1.        ]\n",
       " [ 1.          0.        ]\n",
       " [ 0.          1.        ]] \n",
       " f = [[-712.14492907]\n",
       " [-378.        ]\n",
       " [ 630.        ]\n",
       " [ 398.        ]], Critical region with active set [4, 10, 11, 13]\n",
       "The Omega Constraint indices are [0, 1, 2, 3]\n",
       "The Lagrange multipliers Constraint indices are []\n",
       "The Regular Constraint indices are [[3, 4], [3, 5]]\n",
       "  x(θ) = Aθ + b \n",
       " λ(θ) = Cθ + d \n",
       "  Eθ <= f\n",
       " A = [[0. 0.]\n",
       " [0. 0.]\n",
       " [0. 0.]\n",
       " [0. 0.]] \n",
       " b = [[593.        ]\n",
       " [573.        ]\n",
       " [303.        ]\n",
       " [316.33333333]] \n",
       " C = [[0. 0.]\n",
       " [0. 0.]\n",
       " [0. 0.]\n",
       " [0. 0.]] \n",
       " d = [[3.84732454e-18]\n",
       " [1.00000000e+00]\n",
       " [0.00000000e+00]\n",
       " [1.00000000e+00]] \n",
       " E = [[-0.9486833  -0.31622777]\n",
       " [-0.9486833  -0.31622777]\n",
       " [-1.          0.        ]\n",
       " [ 0.         -1.        ]\n",
       " [ 1.          0.        ]\n",
       " [ 0.          1.        ]] \n",
       " f = [[-699.49581843]\n",
       " [-699.49581843]\n",
       " [-610.        ]\n",
       " [-378.        ]\n",
       " [ 630.        ]\n",
       " [ 398.        ]]])"
      ]
     },
     "execution_count": 16,
     "metadata": {},
     "output_type": "execute_result"
    }
   ],
   "execution_count": 16
  },
  {
   "metadata": {
    "ExecuteTime": {
     "end_time": "2025-06-20T04:45:18.524570Z",
     "start_time": "2025-06-20T04:45:18.523332Z"
    }
   },
   "cell_type": "code",
   "source": "",
   "id": "67b4b0dc757739a6",
   "outputs": [],
   "execution_count": 16
  }
 ],
 "metadata": {
  "kernelspec": {
   "display_name": "Python 3",
   "language": "python",
   "name": "python3"
  },
  "language_info": {
   "codemirror_mode": {
    "name": "ipython",
    "version": 2
   },
   "file_extension": ".py",
   "mimetype": "text/x-python",
   "name": "python",
   "nbconvert_exporter": "python",
   "pygments_lexer": "ipython2",
   "version": "2.7.6"
  }
 },
 "nbformat": 4,
 "nbformat_minor": 5
}
