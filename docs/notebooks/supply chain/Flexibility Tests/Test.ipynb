{
 "cells": [
  {
   "metadata": {
    "ExecuteTime": {
     "end_time": "2025-06-24T15:30:18.498210Z",
     "start_time": "2025-06-24T15:30:18.489888Z"
    }
   },
   "cell_type": "code",
   "source": [
    "import numpy as np\n",
    "from ppopt.mpmodel import MPModeler\n",
    "from ppopt.mp_solvers.solve_mpqp import solve_mpqp, mpqp_algorithm\n",
    "from ppopt.plot import parametric_plot"
   ],
   "id": "f44c376bc9f0ede1",
   "outputs": [],
   "execution_count": 52
  },
  {
   "cell_type": "code",
   "outputs": [
    {
     "name": "stdout",
     "output_type": "stream",
     "text": [
      "Using a found active set [10, 11, 12, 13]\n"
     ]
    }
   ],
   "source": [
    "# # Pistikopoulos and Mazzuchi (1990) Example 1\n",
    "# t_bounds = [(610, 630), (378, 398), (573, 593), (303, 323)]\n",
    "# # t_bounds = [(586.68, 653.32), (354.68, 421.32), (549.68, 616.32), (279.68, 346.32)]\n",
    "# nt = len(t_bounds)\n",
    "# nd = 0\n",
    "# d_bounds = None\n",
    "# d_vector = None\n",
    "# m = MPModeler()\n",
    "# \n",
    "# t3_max = m.add_var('t3_max')\n",
    "# t3_min = m.add_var('t3_min')\n",
    "# t4_a = m.add_var('t4_a')\n",
    "# t4_b = m.add_var('t4_b')\n",
    "# \n",
    "# t1 = m.add_param(name=\"t1\")\n",
    "# t2 = m.add_param(name=\"t2\")\n",
    "# \n",
    "# m.add_constr(-0.5*t3_max + 1.5*t4_a - 188 <= 0)\n",
    "# m.add_constr(-0.75*t1 - 0.25*t2 - t3_max + 1126 <= 0)\n",
    "# m.add_constr(0.5*t4_a - 162.5 <= 0)\n",
    "# m.add_constr(-0.75*t1 - 0.25*t2 - 0.5*t3_max - t4_a + 1152.5 <= 0)\n",
    "# \n",
    "# m.add_constr(-0.5*t3_min + 1.5*t4_b - 188 <= 0)\n",
    "# m.add_constr(-0.75*t1 - 0.25*t2 - t3_min + 1126 <= 0)\n",
    "# m.add_constr(0.5*t4_b - 162.5 <= 0)\n",
    "# m.add_constr(-0.75*t1 - 0.25*t2 - 0.5*t3_min - t4_b + 1152.5 <= 0)\n",
    "# \n",
    "# m.add_constr(t3_min <= t3_max)\n",
    "# \n",
    "# m.add_constr(t_bounds[2][0] <= t3_max)\n",
    "# m.add_constr(t_bounds[2][0] <= t3_min)\n",
    "# m.add_constr(t_bounds[3][0] <= t4_a)\n",
    "# m.add_constr(t_bounds[3][0] <= t4_b)\n",
    "# m.add_constr(t3_max <= t_bounds[2][1])\n",
    "# m.add_constr(t3_min <= t_bounds[2][1])\n",
    "# m.add_constr(t4_a <= t_bounds[3][1])\n",
    "# m.add_constr(t4_b <= t_bounds[3][1])\n",
    "# \n",
    "# m.add_constr(t_bounds[0][0] <= t1)\n",
    "# m.add_constr(t_bounds[1][0] <= t2)\n",
    "# m.add_constr(t1 <= t_bounds[0][1])\n",
    "# m.add_constr(t2 <= t_bounds[1][1])\n",
    "# m.set_objective(t3_min-t3_max)\n",
    "# prob = m.formulate_problem()\n",
    "# prob.process_constraints()\n",
    "# \n",
    "# solution_flexibility = solve_mpqp(problem=prob, algorithm=mpqp_algorithm.geometric)\n",
    "# \n",
    "# def joint_pdf(theta:list):\n",
    "#     return (1/(5000*np.pi))*np.exp(-0.08*((theta[0]-620)**2 + (theta[1]-388)**2))"
   ],
   "metadata": {
    "collapsed": false
   },
   "id": "initial_id",
   "execution_count": 53
  },
  {
   "metadata": {
    "ExecuteTime": {
     "end_time": "2025-06-24T16:17:05.197341Z",
     "start_time": "2025-06-24T16:17:05.191748Z"
    }
   },
   "cell_type": "code",
   "source": [
    "# prob.A"
   ],
   "id": "c9d7710f9ab4dcb4",
   "outputs": [],
   "execution_count": 69
  },
  {
   "metadata": {
    "ExecuteTime": {
     "end_time": "2025-06-24T16:17:06.344047Z",
     "start_time": "2025-06-24T16:17:06.335544Z"
    }
   },
   "cell_type": "code",
   "source": [
    "# prob.b"
   ],
   "id": "5db80d5f85a2189d",
   "outputs": [],
   "execution_count": 70
  },
  {
   "metadata": {
    "ExecuteTime": {
     "end_time": "2025-06-24T16:17:07.721839Z",
     "start_time": "2025-06-24T16:17:07.716657Z"
    }
   },
   "cell_type": "code",
   "source": [
    "# prob.F"
   ],
   "id": "834e1e6048ffd05f",
   "outputs": [],
   "execution_count": 71
  },
  {
   "metadata": {
    "ExecuteTime": {
     "end_time": "2025-06-24T16:17:08.687519Z",
     "start_time": "2025-06-24T16:17:08.677133Z"
    }
   },
   "cell_type": "code",
   "source": [
    "# prob.A_t"
   ],
   "id": "b562df9752a26f5c",
   "outputs": [],
   "execution_count": 72
  },
  {
   "metadata": {
    "ExecuteTime": {
     "end_time": "2025-06-24T16:17:09.438003Z",
     "start_time": "2025-06-24T16:17:09.423525Z"
    }
   },
   "cell_type": "code",
   "source": [
    "# prob.b_t"
   ],
   "id": "e2239edd8616289",
   "outputs": [],
   "execution_count": 73
  },
  {
   "cell_type": "code",
   "source": [
    "# prob.c"
   ],
   "metadata": {
    "collapsed": false,
    "ExecuteTime": {
     "end_time": "2025-06-24T16:17:10.595002Z",
     "start_time": "2025-06-24T16:17:10.580261Z"
    }
   },
   "id": "9a024b0188f96e04",
   "outputs": [],
   "execution_count": 74
  },
  {
   "cell_type": "code",
   "source": [
    "# prob.H"
   ],
   "metadata": {
    "collapsed": false,
    "ExecuteTime": {
     "end_time": "2025-06-24T16:17:11.737138Z",
     "start_time": "2025-06-24T16:17:11.724506Z"
    }
   },
   "id": "8cf5fcb3c54c6843",
   "outputs": [],
   "execution_count": 75
  },
  {
   "cell_type": "code",
   "source": [
    "# prob.Q_t"
   ],
   "metadata": {
    "collapsed": false,
    "ExecuteTime": {
     "end_time": "2025-06-24T16:17:12.375519Z",
     "start_time": "2025-06-24T16:17:12.373391Z"
    }
   },
   "id": "60f626a9a6a9fe31",
   "outputs": [],
   "execution_count": 76
  },
  {
   "cell_type": "code",
   "source": [
    "# prob.c_t"
   ],
   "metadata": {
    "collapsed": false,
    "ExecuteTime": {
     "end_time": "2025-06-24T16:17:13.053172Z",
     "start_time": "2025-06-24T16:17:13.044102Z"
    }
   },
   "id": "9891a67db7288645",
   "outputs": [],
   "execution_count": 77
  },
  {
   "cell_type": "code",
   "source": [
    "# prob.c_c"
   ],
   "metadata": {
    "collapsed": false,
    "ExecuteTime": {
     "end_time": "2025-06-24T16:17:13.754252Z",
     "start_time": "2025-06-24T16:17:13.744536Z"
    }
   },
   "id": "b1d3f1e2733b98d5",
   "outputs": [],
   "execution_count": 78
  },
  {
   "metadata": {
    "ExecuteTime": {
     "end_time": "2025-06-24T16:17:18.640522Z",
     "start_time": "2025-06-24T16:17:18.629096Z"
    }
   },
   "cell_type": "code",
   "source": [
    "# solution_flexibility"
   ],
   "id": "2bc41c48c92c21bb",
   "outputs": [],
   "execution_count": 79
  },
  {
   "metadata": {
    "ExecuteTime": {
     "end_time": "2025-06-24T16:17:20.001493Z",
     "start_time": "2025-06-24T16:17:19.997307Z"
    }
   },
   "cell_type": "code",
   "source": [
    "# theta = np.array([610.39710144, 378.39710144])"
   ],
   "id": "67b4b0dc757739a6",
   "outputs": [],
   "execution_count": 80
  },
  {
   "cell_type": "code",
   "source": [
    "# r = solution_flexibility.get_region(theta_point=theta)"
   ],
   "metadata": {
    "collapsed": false,
    "ExecuteTime": {
     "end_time": "2025-06-24T16:17:21.059180Z",
     "start_time": "2025-06-24T16:17:21.044471Z"
    }
   },
   "id": "ed5adf01d368fba5",
   "outputs": [],
   "execution_count": 81
  },
  {
   "cell_type": "code",
   "source": [
    "# print(r)"
   ],
   "metadata": {
    "collapsed": false,
    "ExecuteTime": {
     "end_time": "2025-06-24T16:17:21.783491Z",
     "start_time": "2025-06-24T16:17:21.773031Z"
    }
   },
   "id": "7fc555a36eea56f6",
   "outputs": [],
   "execution_count": 82
  },
  {
   "cell_type": "code",
   "source": [
    "# parametric_plot(solution_flexibility)"
   ],
   "metadata": {
    "collapsed": false,
    "ExecuteTime": {
     "end_time": "2025-06-24T16:17:22.473071Z",
     "start_time": "2025-06-24T16:17:22.469420Z"
    }
   },
   "id": "fe0cb15851c033ab",
   "outputs": [],
   "execution_count": 83
  },
  {
   "cell_type": "code",
   "source": [],
   "metadata": {
    "collapsed": false,
    "ExecuteTime": {
     "end_time": "2025-06-24T15:30:18.870293Z",
     "start_time": "2025-06-24T15:30:18.855823Z"
    }
   },
   "id": "8df0292f7948f9d8",
   "outputs": [],
   "execution_count": 68
  }
 ],
 "metadata": {
  "kernelspec": {
   "display_name": "Python 3",
   "language": "python",
   "name": "python3"
  },
  "language_info": {
   "codemirror_mode": {
    "name": "ipython",
    "version": 2
   },
   "file_extension": ".py",
   "mimetype": "text/x-python",
   "name": "python",
   "nbconvert_exporter": "python",
   "pygments_lexer": "ipython2",
   "version": "2.7.6"
  }
 },
 "nbformat": 4,
 "nbformat_minor": 5
}
