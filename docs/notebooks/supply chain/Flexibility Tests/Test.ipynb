{
 "cells": [
  {
   "metadata": {
    "ExecuteTime": {
     "end_time": "2025-07-07T21:06:21.988157Z",
     "start_time": "2025-07-07T21:06:21.968923Z"
    }
   },
   "cell_type": "code",
   "source": [
    "import numpy as np\n",
    "from ppopt.mplp_program import MPLP_Program\n",
    "from ppopt.mpmodel import MPModeler\n",
    "from ppopt.mp_solvers.solve_mpqp import solve_mpqp, mpqp_algorithm\n",
    "from ppopt.plot import parametric_plot\n",
    "from numpy.polynomial.legendre import leggauss\n",
    "from scipy.optimize import linprog\n",
    "from typing import Union\n",
    "from collections import defaultdict\n",
    "from itertools import product\n",
    "import time"
   ],
   "id": "f44c376bc9f0ede1",
   "outputs": [],
   "execution_count": 54
  },
  {
   "cell_type": "code",
   "outputs": [],
   "source": [
    "def gauss_legendre_between_bounds(expr_coeffs: np.ndarray, n_gl: int, max_idx: int = 0, min_idx: int = 1):\n",
    "    \"\"\"\n",
    "    Generate n Gauss–Legendre quadrature points and weights between min and max bounds\n",
    "    defined by two linear expressions.\n",
    "\n",
    "    Parameters:\n",
    "        expr_coeffs (np.ndarray): 2xD array. Row 0 = max point co`efficients, Row 1 = min.\n",
    "        n (int): Number of quadrature points.\n",
    "\n",
    "    Returns:\n",
    "        points (np.ndarray): (n, D) array of quadrature points.\n",
    "        weights (np.ndarray): (n,) array of weights.\n",
    "    \"\"\"\n",
    "    if expr_coeffs.shape[0] != 2:\n",
    "        raise ValueError(\"expr_coeffs must have two rows\")\n",
    "\n",
    "    max_coeffs = expr_coeffs[max_idx]\n",
    "    min_coeffs = expr_coeffs[min_idx]\n",
    "\n",
    "    # Get Gauss–Legendre points and weights on [-1, 1]\n",
    "    nodes, weights = leggauss(n_gl)\n",
    "    weights = weights.reshape(-1,1)\n",
    "    \n",
    "    # Affine transformation to domain [min_coeffs, max_coeffs]\n",
    "    points = 0.5 * (np.outer((nodes + 1), max_coeffs) + np.outer((1 - nodes), min_coeffs))\n",
    "\n",
    "    # Adjust weights to match new domain\n",
    "    weights = 0.5 * weights@(max_coeffs - min_coeffs).reshape(1,-1)\n",
    "\n",
    "    return points, weights"
   ],
   "metadata": {
    "collapsed": false,
    "ExecuteTime": {
     "end_time": "2025-07-07T21:06:22.003323Z",
     "start_time": "2025-07-07T21:06:21.991917Z"
    }
   },
   "id": "d48cd710189a1f1c",
   "execution_count": 55
  },
  {
   "cell_type": "code",
   "outputs": [],
   "source": [
    "def get_quadrature_points(solution, nq: int, t_vector: np.ndarray):\n",
    "    # Augment t_vector once\n",
    "    t_vector_aug = np.append(t_vector, 1).reshape(-1, 1)\n",
    "    \n",
    "    if isinstance(solution, list):\n",
    "        qpoints, qweights = np.polynomial.legendre.leggauss(nq)\n",
    "        min, max = solution[0], solution[1]\n",
    "        qps_mapped = 0.5*(max*(1+qpoints) + min*(1-qpoints))\n",
    "        qws_mapped = 0.5*(max-min)*qweights\n",
    "        return max, min, qps_mapped, qws_mapped\n",
    "    \n",
    "    for region in solution.critical_regions:\n",
    "        if region.is_inside(t_vector):\n",
    "            coeffs = np.concatenate([region.A, region.b], axis=1)[:2, :]\n",
    "            qpoints, qweights = gauss_legendre_between_bounds(expr_coeffs=coeffs, n_gl=nq)\n",
    "            return coeffs[0], coeffs[1], qpoints, qweights\n",
    "    \n",
    "    # print(f't_vector: {t_vector}')\n",
    "    # print(f'solution:{solution}')\n",
    "    raise ValueError(\"No region found that contains the given t_vector.\")\n"
   ],
   "metadata": {
    "collapsed": false,
    "ExecuteTime": {
     "end_time": "2025-07-07T21:06:22.065409Z",
     "start_time": "2025-07-07T21:06:22.046659Z"
    }
   },
   "id": "4d129f1ae3b9a137",
   "execution_count": 56
  },
  {
   "cell_type": "code",
   "outputs": [],
   "source": [
    "def mpformulate_theta_bounds(flex_sol, num_theta:int, theta_bounds:list, num_design:int=0, design_bounds:list=None, psi_idx:int=0, theta_m:int=0):\n",
    "    A0, b0, F0 = np.empty((len(flex_sol), num_theta)), np.empty((len(flex_sol), 1)), np.empty((len(flex_sol), num_design))\n",
    "    num_cr = len(flex_sol.critical_regions)\n",
    "    for i, region in enumerate(flex_sol.critical_regions):\n",
    "        A0[i] = region.A[psi_idx,:num_theta]\n",
    "        b0[i] = -region.b[psi_idx]\n",
    "        F0[i] = -region.A[psi_idx, num_theta:num_theta+num_design]\n",
    "    # print(f'num_cr:{num_cr}')\n",
    "    # print(f'num_theta:{num_theta}')\n",
    "    # print(f'num_design:{num_design}')\n",
    "    # print(f\"A0: {A0}\")\n",
    "    # print(f\"b0: {b0}\")\n",
    "    # print(f\"F0: {F0}\")\n",
    "    \n",
    "    c = np.hstack([np.array([-1, 1]).reshape(1, -1), np.zeros((1, 2 * (num_theta - 1 - theta_m)))]).reshape(-1,1)\n",
    "    # print(f'c:{c}')\n",
    "    # print(f'c.shape: {c.shape}')\n",
    "    \n",
    "    row1_block = np.hstack([block for i in range(theta_m, num_theta) for block in (A0[:, [i]], np.zeros((num_cr, 1)))])\n",
    "    row2_block = np.hstack([block for i in range(theta_m, num_theta) for block in (np.zeros((num_cr, 1)), A0[:, [i]])])\n",
    "    bound_row = np.hstack([np.array([-1, 1]).reshape(1, -1), np.zeros((1, 2 * (num_theta - 1 - theta_m)))])\n",
    "    A = np.vstack([row1_block, row2_block, bound_row, -np.eye(2*(num_theta-theta_m)), np.eye(2*(num_theta-theta_m))])\n",
    "    # print(f'A: {A}')\n",
    "    # print(f'A.shape: {A.shape}')\n",
    "    \n",
    "    x_lb = np.array([val for i in range(theta_m, len(theta_bounds)) for val in [theta_bounds[i][0]] * 2])\n",
    "    x_ub = np.array([val for i in range(theta_m, len(theta_bounds)) for val in [theta_bounds[i][1]] * 2])\n",
    "    b = np.vstack([b0, b0, np.zeros((1,1)), -x_lb.reshape(-1,1), x_ub.reshape(-1,1)])\n",
    "    # print(f'b: {b}')\n",
    "    # print(f'b.shape: {b.shape}')\n",
    "    \n",
    "    if F0.size==0 and theta_m==0:\n",
    "        # print('here')\n",
    "        return A, b, c, np.array([]), np.array([]), np.array([]), np.array([]) \n",
    "    \n",
    "    F = np.vstack([F0, F0, np.zeros((1,num_design)), np.zeros((4*(num_theta-theta_m), num_design))]) if num_design>0 else np.vstack([F0, F0])\n",
    "    # print(f'F:{F}')\n",
    "    # print(f'F.shape: {F.shape}')\n",
    "    if theta_m > 0:\n",
    "        F_lltheta = np.hstack([A0[:, [i]] for i in range(theta_m)])\n",
    "        # print(f'F_lltheta: {F_lltheta}')\n",
    "        # print(f'F_lltheta.shape: {F_lltheta.shape}')\n",
    "        F = np.hstack([np.vstack([-F_lltheta, -F_lltheta, np.zeros((1,len(range(theta_m)))), np.zeros((4*(num_theta-theta_m), theta_m))]), F]) if F.size > 0 else np.vstack([-F_lltheta, -F_lltheta, np.zeros((1,len(range(theta_m)))), np.zeros((4*(num_theta-theta_m), theta_m))])\n",
    "    # print(f'F:{F}')\n",
    "    # print(f'F.shape: {F.shape}')\n",
    "    \n",
    "    H = np.zeros((2*(num_theta-theta_m), theta_m+num_design))\n",
    "    # print(f'H:{H}')\n",
    "    # print(f'H.shape: {H.shape}')\n",
    "    \n",
    "    A_t = np.vstack([-np.eye(theta_m+num_design), np.eye(theta_m+num_design)])\n",
    "    # print(f'A_t:{A_t}')\n",
    "    # print(f'A_t.shape: {A_t.shape}')\n",
    "    \n",
    "    theta_lb = np.array([-theta_bounds[i][0] for i in range(theta_m)] + ([-j[0] for j in design_bounds] if isinstance(design_bounds, list) \n",
    "                                                                        else [])).reshape(-1, 1)\n",
    "    theta_ub = np.array([theta_bounds[i][1] for i in range(theta_m)] + ([j[1] for j in design_bounds] if isinstance(design_bounds, list) \n",
    "                                                                        else [])).reshape(-1, 1)\n",
    "    \n",
    "    b_t = np.vstack([theta_lb, theta_ub])\n",
    "    # print(f'b_t:{b_t}')\n",
    "    # print(f'b_t.shape: {b_t.shape}')\n",
    "    \n",
    "    return A, b, c, H, A_t, b_t, F"
   ],
   "metadata": {
    "collapsed": false,
    "ExecuteTime": {
     "end_time": "2025-07-07T21:06:22.080077Z",
     "start_time": "2025-07-07T21:06:22.066480Z"
    }
   },
   "id": "5b5f36463b5730f7",
   "execution_count": 57
  },
  {
   "cell_type": "code",
   "outputs": [],
   "source": [
    "def get_theta_bounds(flex_sol, numt, tbounds, numd:int=0, dbounds:list=None):\n",
    "\n",
    "    theta_bound_dict = defaultdict(dict)\n",
    "    prob_dict = defaultdict(dict)\n",
    "    for i in range(numt):\n",
    "        A, b, c, H, A_t, b_t, F = mpformulate_theta_bounds(flex_sol=flex_sol, num_theta=numt ,num_design=numd, theta_bounds=tbounds, design_bounds=dbounds, theta_m=i)\n",
    "        if F.size != 0:\n",
    "            prob = MPLP_Program(A=A, b=b, c=c, H=H, A_t=A_t, b_t=b_t, F=F)\n",
    "            prob.process_constraints()\n",
    "            solution = solve_mpqp(problem=prob, algorithm=mpqp_algorithm.geometric)\n",
    "            prob_dict[f't{i}'] = prob\n",
    "            theta_bound_dict[f't{i}'] = solution\n",
    "        else:\n",
    "            linsol = linprog(c=c, A_ub=A, b_ub=b)\n",
    "            prob_dict[f't{i}'] = linsol\n",
    "            theta_bound_dict[f't{i}'] = [linsol.x[1], linsol.x[0]]\n",
    "            # if linsol.success:\n",
    "                # print(\"Optimal value:\", linsol.fun)\n",
    "                # print(\"Optimal x:\", linsol.x)\n",
    "        print(f'Finished solving for theta{i+1}')\n",
    "    probs = [p for key, p in prob_dict.items()]\n",
    "    sols = [sol for key, sol in theta_bound_dict.items()]\n",
    "\n",
    "    return probs, sols"
   ],
   "metadata": {
    "collapsed": false,
    "ExecuteTime": {
     "end_time": "2025-07-07T21:06:22.095793Z",
     "start_time": "2025-07-07T21:06:22.081120Z"
    }
   },
   "id": "cdbdf62b8cc52107",
   "execution_count": 58
  },
  {
   "cell_type": "code",
   "outputs": [],
   "source": [
    "# # Straub and Grossmann (1990) Example 2\n",
    "# t_bounds=[(0,80),(0,80)]\n",
    "# d_bounds=[(0,10), (0,10)]\n",
    "# d_vector = np.array([1,8])\n",
    "# nt = len(t_bounds)\n",
    "# nd = len(d_bounds)\n",
    "# m = MPModeler()\n",
    "# \n",
    "# u = m.add_var(name='u')\n",
    "# z = m.add_var(name='z')\n",
    "# \n",
    "# t1 = m.add_param(name='t1')\n",
    "# t2 = m.add_param(name='t2')\n",
    "# d1 = m.add_param(name='d1')\n",
    "# d2 = m.add_param(name='d2')\n",
    "# m.add_constr(z - 1.6*(t1-20) - 0.6*(t2-20) + d1 - 14 <= u)\n",
    "# m.add_constr(z - 0.85*(t1-20) - 0.925*(t2-20) + d1 + d2 -20 <= u)\n",
    "# m.add_constr(z - 1.1*(t1-20) - 1.4*(t2-20) + d2 - 8 <= u)\n",
    "# m.add_constr(-z + (t1-20) + (t2-20) + d1 + d2 - 7 <= u)\n",
    "# m.add_constr(t_bounds[0][0] <= t1)\n",
    "# m.add_constr(t_bounds[1][0] <= t2)\n",
    "# m.add_constr(d_bounds[0][0] <= d1)\n",
    "# m.add_constr(d_bounds[1][0] <= d2)\n",
    "# m.add_constr(t1 <= t_bounds[0][1])\n",
    "# m.add_constr(t2 <= t_bounds[1][1])\n",
    "# m.add_constr(d1 <= d_bounds[0][1])\n",
    "# m.add_constr(d2 <= d_bounds[1][1])\n",
    "# m.set_objective(u)\n",
    "# prob = m.formulate_problem()\n",
    "# prob.process_constraints()\n",
    "# solution_flexibility = solve_mpqp(problem=prob, algorithm=mpqp_algorithm.geometric)\n",
    "# \n",
    "# def joint_pdf(theta:list):\n",
    "#     return (1/628.32)*np.exp((-(theta[0]-40)**2 - (theta[1]-40)**2)/200)"
   ],
   "metadata": {
    "collapsed": false,
    "ExecuteTime": {
     "end_time": "2025-07-07T21:06:22.111363Z",
     "start_time": "2025-07-07T21:06:22.096839Z"
    }
   },
   "id": "8fc1d8f0346d70d7",
   "execution_count": 59
  },
  {
   "cell_type": "code",
   "outputs": [
    {
     "name": "stdout",
     "output_type": "stream",
     "text": [
      "Using a found active set [0, 2, 3]\n"
     ]
    }
   ],
   "source": [
    "# Bansal (2000) Illustrative Example\n",
    "t_bounds=[(0,4),(0,4)]\n",
    "d_bounds=[(0,5), (0,5)]\n",
    "d_vector = np.array([3.2, 0.4])\n",
    "nt = len(t_bounds)\n",
    "nd = len(d_bounds)\n",
    "\n",
    "m = MPModeler()\n",
    "\n",
    "u = m.add_var(name='u')\n",
    "x = m.add_var(name='x')\n",
    "z = m.add_var(name='z')\n",
    "\n",
    "t1 = m.add_param(name='t1')\n",
    "t2 = m.add_param(name='t2')\n",
    "d1 = m.add_param(name='d1')\n",
    "d2 = m.add_param(name='d2')\n",
    "m.add_constr(2*x - 3*z + t1 - d2 == 0)\n",
    "m.add_constr(x - z/2 -t1/2 +t2/2 +d1 -7*d2/2 <= u)\n",
    "m.add_constr(-2*x +2*z -4*t1/3 -t2 +2*d2 +1/3<= u)\n",
    "m.add_constr(-x + 5*z/2 +t1/2 -t2 -d1 +d2/2 -1 <= u)\n",
    "m.add_constr(-50 <= x)\n",
    "m.add_constr(-50 <= z)\n",
    "m.add_constr(t_bounds[0][0] <= t1)\n",
    "m.add_constr(t_bounds[1][0] <= t2)\n",
    "m.add_constr(d_bounds[0][0] <= d1)\n",
    "m.add_constr(d_bounds[1][0] <= d2)\n",
    "m.add_constr(t1 <= t_bounds[0][1])\n",
    "m.add_constr(t2 <= t_bounds[1][1])\n",
    "m.add_constr(d1 <= d_bounds[0][1])\n",
    "m.add_constr(d2 <= d_bounds[1][1])\n",
    "m.set_objective(u)\n",
    "prob = m.formulate_problem()\n",
    "prob.process_constraints()\n",
    "solution_flexibility = solve_mpqp(problem=prob, algorithm=mpqp_algorithm.geometric)\n",
    "\n",
    "def joint_pdf(theta:list):\n",
    "    return (2/np.pi)*np.exp(-2*((theta[0]-2)**2 + (theta[1]-2)**2))"
   ],
   "metadata": {
    "collapsed": false,
    "ExecuteTime": {
     "end_time": "2025-07-07T21:06:22.174515Z",
     "start_time": "2025-07-07T21:06:22.113494Z"
    }
   },
   "id": "a0631fea3f1dd5a0",
   "execution_count": 60
  },
  {
   "cell_type": "code",
   "outputs": [
    {
     "name": "stdout",
     "output_type": "stream",
     "text": [
      "i:0\n",
      "A:[[ 3.33333333e-01 -1.00000000e+00 -5.00000000e-01  5.00000000e-01]\n",
      " [-1.50000000e+00  1.00310391e-16  7.50000000e-01  1.25000000e+00]\n",
      " [-6.66666667e-01 -2.02168971e-16  5.00000000e-01  5.00000000e-01]]\n",
      "b:[[-0.33333333]\n",
      " [ 1.        ]\n",
      " [ 0.66666667]]\n",
      "i:1\n",
      "A:[[-6.66666667e-01 -2.50000000e-01  5.00000000e-01 -1.00000000e+00]\n",
      " [-2.71684799e-16 -1.12500000e+00 -7.50000000e-01  3.50000000e+00]\n",
      " [ 3.33333333e-01 -7.50000000e-01 -5.00000000e-01  2.00000000e+00]]\n",
      "b:[[0.16666667]\n",
      " [0.25      ]\n",
      " [0.16666667]]\n"
     ]
    }
   ],
   "source": [
    "for i in range(len(solution_flexibility)):\n",
    "    print(f'i:{i}\\nA:{solution_flexibility.critical_regions[i].A}\\nb:{solution_flexibility.critical_regions[i].b}')"
   ],
   "metadata": {
    "collapsed": false,
    "ExecuteTime": {
     "end_time": "2025-07-07T21:06:22.190576Z",
     "start_time": "2025-07-07T21:06:22.175612Z"
    }
   },
   "id": "3c76b1de5c2030a7",
   "execution_count": 61
  },
  {
   "cell_type": "code",
   "outputs": [
    {
     "name": "stdout",
     "output_type": "stream",
     "text": [
      "Using a found active set [6, 9, 11, 12]\n",
      "Finished solving for theta1\n",
      "Using a found active set [2, 7]\n",
      "Finished solving for theta2\n"
     ]
    }
   ],
   "source": [
    "probs, sols = get_theta_bounds(flex_sol=solution_flexibility, numt=nt, numd=nd, tbounds=t_bounds, dbounds=d_bounds)"
   ],
   "metadata": {
    "collapsed": false,
    "ExecuteTime": {
     "end_time": "2025-07-07T21:06:22.299510Z",
     "start_time": "2025-07-07T21:06:22.191668Z"
    }
   },
   "id": "346c7db9eabc54e8",
   "execution_count": 62
  },
  {
   "cell_type": "code",
   "outputs": [],
   "source": [
    "nq = 5"
   ],
   "metadata": {
    "collapsed": false,
    "ExecuteTime": {
     "end_time": "2025-07-07T21:06:22.315099Z",
     "start_time": "2025-07-07T21:06:22.300563Z"
    }
   },
   "id": "20b0679c4ced2447",
   "execution_count": 63
  },
  {
   "cell_type": "code",
   "outputs": [],
   "source": [
    "t0_vector = np.block([np.array([]), d_vector]) if isinstance(d_vector, np.ndarray) else np.array([])"
   ],
   "metadata": {
    "collapsed": false,
    "ExecuteTime": {
     "end_time": "2025-07-07T21:06:22.330334Z",
     "start_time": "2025-07-07T21:06:22.316880Z"
    }
   },
   "id": "923515bf7caae5a6",
   "execution_count": 64
  },
  {
   "cell_type": "code",
   "outputs": [],
   "source": [
    "_, _, t0_points, t0_weights = get_quadrature_points(solution=sols[0], nq=nq, t_vector=t0_vector)"
   ],
   "metadata": {
    "collapsed": false,
    "ExecuteTime": {
     "end_time": "2025-07-07T21:06:22.345457Z",
     "start_time": "2025-07-07T21:06:22.331423Z"
    }
   },
   "id": "fa55a3b1fd78ea1e",
   "execution_count": 65
  },
  {
   "cell_type": "code",
   "outputs": [
    {
     "data": {
      "text/plain": "array([[ 0.71481744, -1.42963488, -1.0037221 ],\n       [ 0.57692599, -1.15385198, -0.03848194],\n       [ 0.375     , -0.75      ,  1.375     ],\n       [ 0.17307401, -0.34614802,  2.78848194],\n       [ 0.03518256, -0.07036512,  3.7537221 ]])"
     },
     "execution_count": 66,
     "metadata": {},
     "output_type": "execute_result"
    }
   ],
   "source": [
    "t0_points"
   ],
   "metadata": {
    "collapsed": false,
    "ExecuteTime": {
     "end_time": "2025-07-07T21:06:22.360703Z",
     "start_time": "2025-07-07T21:06:22.347086Z"
    }
   },
   "id": "6bd39665d3dc0dbc",
   "execution_count": 66
  },
  {
   "cell_type": "code",
   "outputs": [
    {
     "data": {
      "text/plain": "array([[-0.08884758,  0.17769516,  0.62193307],\n       [-0.17948575,  0.3589715 ,  1.25640026],\n       [-0.21333333,  0.42666667,  1.49333333],\n       [-0.17948575,  0.3589715 ,  1.25640026],\n       [-0.08884758,  0.17769516,  0.62193307]])"
     },
     "execution_count": 67,
     "metadata": {},
     "output_type": "execute_result"
    }
   ],
   "source": [
    "t0_weights"
   ],
   "metadata": {
    "collapsed": false,
    "ExecuteTime": {
     "end_time": "2025-07-07T21:06:22.376367Z",
     "start_time": "2025-07-07T21:06:22.361745Z"
    }
   },
   "id": "100a4aef10d70708",
   "execution_count": 67
  },
  {
   "cell_type": "code",
   "outputs": [
    {
     "data": {
      "text/plain": "array([[0.71183977],\n       [1.34614044],\n       [2.275     ],\n       [3.20385956],\n       [3.83816023]])"
     },
     "execution_count": 68,
     "metadata": {},
     "output_type": "execute_result"
    }
   ],
   "source": [
    "t0_points @ np.append(d_vector, 1).reshape(-1, 1)"
   ],
   "metadata": {
    "collapsed": false,
    "ExecuteTime": {
     "end_time": "2025-07-07T21:06:22.392182Z",
     "start_time": "2025-07-07T21:06:22.378567Z"
    }
   },
   "id": "89460dc9cabadfbe",
   "execution_count": 68
  },
  {
   "cell_type": "code",
   "outputs": [
    {
     "data": {
      "text/plain": "array([[0.40869888],\n       [0.82563446],\n       [0.98133333],\n       [0.82563446],\n       [0.40869888]])"
     },
     "execution_count": 69,
     "metadata": {},
     "output_type": "execute_result"
    }
   ],
   "source": [
    "t0_weights @ np.append(d_vector, 1).reshape(-1,1)"
   ],
   "metadata": {
    "collapsed": false,
    "ExecuteTime": {
     "end_time": "2025-07-07T21:06:22.407913Z",
     "start_time": "2025-07-07T21:06:22.393253Z"
    }
   },
   "id": "35ee69aae4ec35d0",
   "execution_count": 69
  },
  {
   "cell_type": "code",
   "outputs": [
    {
     "data": {
      "text/plain": "Solution(program=<ppopt.mplp_program.MPLP_Program object at 0x000001CF3637FA30>, critical_regions=[Critical region with active set [6, 9, 11, 12]\nThe Omega Constraint indices are [0, 1, 2, 3]\nThe Lagrange multipliers Constraint indices are []\nThe Regular Constraint indices are [[3], [3]]\n  x(θ) = Aθ + b \n λ(θ) = Cθ + d \n  Eθ <= f\n A = [[0. 0.]\n [0. 0.]\n [0. 0.]\n [0. 0.]] \n b = [[4.]\n [0.]\n [4.]\n [4.]] \n C = [[0. 0.]\n [0. 0.]\n [0. 0.]\n [0. 0.]] \n d = [[1.]\n [1.]\n [0.]\n [0.]] \n E = [[ 0.4472136  -0.89442719]\n [-1.         -0.        ]\n [-0.         -1.        ]\n [ 1.          0.        ]\n [ 0.          1.        ]] \n f = [[0.74535599]\n [0.        ]\n [0.        ]\n [5.        ]\n [5.        ]], Critical region with active set [3, 9, 11, 12]\nThe Omega Constraint indices are [1, 2]\nThe Lagrange multipliers Constraint indices are []\nThe Regular Constraint indices are [[5], [6]]\n  x(θ) = Aθ + b \n λ(θ) = Cθ + d \n  Eθ <= f\n A = [[ 0.00000000e+00  0.00000000e+00]\n [ 7.50000000e-01 -1.50000000e+00]\n [ 0.00000000e+00  0.00000000e+00]\n [-4.18794741e-17  8.37589482e-17]] \n b = [[ 4.  ]\n [-1.25]\n [ 4.  ]\n [ 4.  ]] \n C = [[0. 0.]\n [0. 0.]\n [0. 0.]\n [0. 0.]] \n d = [[1.98824672]\n [1.        ]\n [0.        ]\n [0.375     ]] \n E = [[-0.4472136   0.89442719]\n [-0.         -1.        ]\n [ 1.          0.        ]] \n f = [[-0.74535599]\n [ 0.        ]\n [ 5.        ]]])"
     },
     "execution_count": 70,
     "metadata": {},
     "output_type": "execute_result"
    }
   ],
   "source": [
    "sols[0]"
   ],
   "metadata": {
    "collapsed": false,
    "ExecuteTime": {
     "end_time": "2025-07-07T21:06:22.423756Z",
     "start_time": "2025-07-07T21:06:22.408965Z"
    }
   },
   "id": "edec5c4d39055587",
   "execution_count": 70
  },
  {
   "cell_type": "code",
   "outputs": [],
   "source": [
    "sols[0].get_region(np.array([1,8]))"
   ],
   "metadata": {
    "collapsed": false,
    "ExecuteTime": {
     "end_time": "2025-07-07T21:06:22.438929Z",
     "start_time": "2025-07-07T21:06:22.424830Z"
    }
   },
   "id": "3a946a79d2c7f6b8",
   "execution_count": 71
  },
  {
   "cell_type": "code",
   "outputs": [],
   "source": [
    "# def reduce_all_x_to_d(A_list, b_list, m):\n",
    "#     \"\"\"\n",
    "#     Reduces all x1 to xn to be functions of d1 to dm.\n",
    "# \n",
    "#     Args:\n",
    "#         A_list: list of 1D np.arrays, A_list[i] is for x_{i+1} and has shape (i + m,)\n",
    "#         b_list: list of floats, b_list[i] is the constant for x_{i+1}\n",
    "#         m: number of d variables\n",
    "# \n",
    "#     Returns:\n",
    "#         A_out: list of np.arrays of shape (m,) — coefficients for d in x_i\n",
    "#         b_out: list of scalars — constants in x_i\n",
    "#     \"\"\"\n",
    "#     n = len(A_list)\n",
    "#     A_out = []\n",
    "#     b_out = []\n",
    "# \n",
    "#     for i in range(n):\n",
    "#         Ai = A_list[i]\n",
    "#         bi = b_list[i]\n",
    "# \n",
    "#         if i == 0:\n",
    "#             # x1 = Ai[-m:] * d + bi\n",
    "#             coeff_d = Ai[-m:] if m > 0 else np.array([])\n",
    "#             b = bi\n",
    "#         else:\n",
    "#             coeff_prev_x = Ai[:i]            # Coefficients of x1 to x_i\n",
    "#             coeff_d_i = Ai[-m:] if m > 0 else np.array([])\n",
    "#             b = bi\n",
    "# \n",
    "#             coeff_d = np.zeros(m)\n",
    "# \n",
    "#             for j in range(i):\n",
    "#                 cj_d = A_out[j]   # coeffs of d in x_{j+1}\n",
    "#                 cj_b = b_out[j]   # constant term in x_{j+1}\n",
    "# \n",
    "#                 coeff_d += coeff_prev_x[j] * cj_d\n",
    "#                 b += coeff_prev_x[j] * cj_b\n",
    "# \n",
    "#             coeff_d += coeff_d_i\n",
    "# \n",
    "#         A_out.append(coeff_d)\n",
    "#         b_out.append(b)\n",
    "# \n",
    "#     return A_out, b_out\n",
    "\n",
    "# A1 = np.array([2.0, 3.0])                           # x1 = 2d1 + 3d2\n",
    "# A2 = np.array([-1.0, 4.0, -2.0])                    # x2 = -1*x1 + 4*d1 -2*d2\n",
    "# A3 = np.array([0.5, 2.0, -1.0, 0.0])                # x3 = 0.5*x1 + 2*x2 -1*d1 + 0*d2\n",
    "# \n",
    "# A_list = [A1, A2, A3]\n",
    "# b_list = [1.0, 0.5, 1.0]\n",
    "# m = 2  # two d variables\n",
    "# \n",
    "# A_out, b_out = reduce_all_x_to_d(A_list, b_list, m)\n",
    "# \n",
    "# for i, (Ai, bi) in enumerate(zip(A_out, b_out), 1):\n",
    "#     print(f\"x{i} = {Ai[0]} * d1 + {Ai[1]} * d2 + {bi}\")"
   ],
   "metadata": {
    "collapsed": false,
    "ExecuteTime": {
     "end_time": "2025-07-07T21:06:22.454486Z",
     "start_time": "2025-07-07T21:06:22.439970Z"
    }
   },
   "id": "8e54f90212e15a57",
   "execution_count": 72
  },
  {
   "cell_type": "code",
   "outputs": [],
   "source": [
    "theta_max_min_dict = defaultdict(dict)\n",
    "for n_s, s in enumerate(sols):\n",
    "    for n_cr, cr in enumerate(s.critical_regions):\n",
    "        theta_max_min_dict[n_s][n_cr] = np.concatenate([cr.A, cr.b], axis=1)[:2, :]"
   ],
   "metadata": {
    "collapsed": false,
    "ExecuteTime": {
     "end_time": "2025-07-07T21:06:22.470237Z",
     "start_time": "2025-07-07T21:06:22.455562Z"
    }
   },
   "id": "1b2d84c9b255dc5c",
   "execution_count": 73
  },
  {
   "cell_type": "code",
   "outputs": [
    {
     "data": {
      "text/plain": "defaultdict(dict,\n            {0: {0: array([[0., 0., 4.],\n                     [0., 0., 0.]]),\n              1: array([[ 0.  ,  0.  ,  4.  ],\n                     [ 0.75, -1.5 , -1.25]])},\n             1: {0: array([[ 0.        ,  0.        ,  0.        ,  4.        ],\n                     [ 0.33333333, -0.5       ,  0.5       , -0.33333333]]),\n              1: array([[0., 0., 0., 4.],\n                     [0., 0., 0., 0.]]),\n              2: array([[ 0.        ,  0.        ,  0.        ,  4.        ],\n                     [-2.66666667,  2.        , -4.        ,  0.66666667]])}})"
     },
     "execution_count": 74,
     "metadata": {},
     "output_type": "execute_result"
    }
   ],
   "source": [
    "theta_max_min_dict"
   ],
   "metadata": {
    "collapsed": false,
    "ExecuteTime": {
     "end_time": "2025-07-07T21:06:22.485915Z",
     "start_time": "2025-07-07T21:06:22.471303Z"
    }
   },
   "id": "55763346092d4919",
   "execution_count": 74
  },
  {
   "cell_type": "code",
   "outputs": [
    {
     "data": {
      "text/plain": "array([0., 0., 4.])"
     },
     "execution_count": 75,
     "metadata": {},
     "output_type": "execute_result"
    }
   ],
   "source": [
    "theta_max_min_dict[0][1][0]"
   ],
   "metadata": {
    "collapsed": false,
    "ExecuteTime": {
     "end_time": "2025-07-07T21:06:22.501626Z",
     "start_time": "2025-07-07T21:06:22.486964Z"
    }
   },
   "id": "3ffe59b665cf2150",
   "execution_count": 75
  },
  {
   "cell_type": "code",
   "outputs": [],
   "source": [
    "po, we = leggauss(5)"
   ],
   "metadata": {
    "collapsed": false,
    "ExecuteTime": {
     "end_time": "2025-07-07T21:06:22.517365Z",
     "start_time": "2025-07-07T21:06:22.502691Z"
    }
   },
   "id": "88649e507a5f556b",
   "execution_count": 76
  },
  {
   "cell_type": "code",
   "outputs": [],
   "source": [
    "theta_qpoints = defaultdict(dict)\n",
    "\n",
    "for s in theta_max_min_dict:\n",
    "    for cr in theta_max_min_dict[s]:\n",
    "        theta_qpoints[s][cr] = 0.5 * (np.outer((po+1), theta_max_min_dict[s][cr][0]) + np.outer((1-po),  theta_max_min_dict[s][cr][1]))"
   ],
   "metadata": {
    "collapsed": false,
    "ExecuteTime": {
     "end_time": "2025-07-07T21:06:22.533138Z",
     "start_time": "2025-07-07T21:06:22.518468Z"
    }
   },
   "id": "e1e97540843adcae",
   "execution_count": 77
  },
  {
   "cell_type": "code",
   "outputs": [
    {
     "data": {
      "text/plain": "defaultdict(dict,\n            {0: {0: array([[0.        , 0.        , 0.18764031],\n                     [0.        , 0.        , 0.92306138],\n                     [0.        , 0.        , 2.        ],\n                     [0.        , 0.        , 3.07693862],\n                     [0.        , 0.        , 3.81235969]]),\n              1: array([[ 0.71481744, -1.42963488, -1.0037221 ],\n                     [ 0.57692599, -1.15385198, -0.03848194],\n                     [ 0.375     , -0.75      ,  1.375     ],\n                     [ 0.17307401, -0.34614802,  2.78848194],\n                     [ 0.03518256, -0.07036512,  3.7537221 ]])},\n             1: {0: array([[ 0.31769664, -0.47654496,  0.47654496, -0.13005633],\n                     [ 0.25641155, -0.38461733,  0.38461733,  0.66664983],\n                     [ 0.16666667, -0.25      ,  0.25      ,  1.83333333],\n                     [ 0.07692178, -0.11538267,  0.11538267,  3.00001684],\n                     [ 0.01563669, -0.02345504,  0.02345504,  3.796723  ]]),\n              1: array([[0.        , 0.        , 0.        , 0.18764031],\n                     [0.        , 0.        , 0.        , 0.92306138],\n                     [0.        , 0.        , 0.        , 2.        ],\n                     [0.        , 0.        , 0.        , 3.07693862],\n                     [0.        , 0.        , 0.        , 3.81235969]]),\n              2: array([[-2.54157313,  1.90617985, -3.81235969,  0.82303359],\n                     [-2.05129241,  1.53846931, -3.07693862,  1.43588448],\n                     [-1.33333333,  1.        , -2.        ,  2.33333333],\n                     [-0.61537425,  0.46153069, -0.92306138,  3.23078218],\n                     [-0.12509354,  0.09382015, -0.18764031,  3.84363308]])}})"
     },
     "execution_count": 78,
     "metadata": {},
     "output_type": "execute_result"
    }
   ],
   "source": [
    "theta_qpoints"
   ],
   "metadata": {
    "collapsed": false,
    "ExecuteTime": {
     "end_time": "2025-07-07T21:06:22.548897Z",
     "start_time": "2025-07-07T21:06:22.534195Z"
    }
   },
   "id": "7b633e61b0ad9f8e",
   "execution_count": 78
  },
  {
   "cell_type": "code",
   "outputs": [
    {
     "data": {
      "text/plain": "array([0.23692689, 0.47862867, 0.56888889, 0.47862867, 0.23692689])"
     },
     "execution_count": 79,
     "metadata": {},
     "output_type": "execute_result"
    }
   ],
   "source": [
    "we"
   ],
   "metadata": {
    "collapsed": false,
    "ExecuteTime": {
     "end_time": "2025-07-07T21:06:22.564898Z",
     "start_time": "2025-07-07T21:06:22.550178Z"
    }
   },
   "id": "4b6c64cd41fa33e3",
   "execution_count": 79
  },
  {
   "cell_type": "code",
   "outputs": [
    {
     "data": {
      "text/plain": "2"
     },
     "execution_count": 80,
     "metadata": {},
     "output_type": "execute_result"
    }
   ],
   "source": [
    "len(sols[0])"
   ],
   "metadata": {
    "collapsed": false,
    "ExecuteTime": {
     "end_time": "2025-07-07T21:06:37.356845Z",
     "start_time": "2025-07-07T21:06:37.341173Z"
    }
   },
   "id": "81d479fecc844422",
   "execution_count": 80
  },
  {
   "cell_type": "code",
   "outputs": [
    {
     "data": {
      "text/plain": "3"
     },
     "execution_count": 81,
     "metadata": {},
     "output_type": "execute_result"
    }
   ],
   "source": [
    "len(sols[1])"
   ],
   "metadata": {
    "collapsed": false,
    "ExecuteTime": {
     "end_time": "2025-07-07T21:06:42.734172Z",
     "start_time": "2025-07-07T21:06:42.723372Z"
    }
   },
   "id": "1238ad49ef65a405",
   "execution_count": 81
  },
  {
   "cell_type": "code",
   "outputs": [],
   "source": [],
   "metadata": {
    "collapsed": false
   },
   "id": "14087b8ff0f0034c"
  }
 ],
 "metadata": {
  "kernelspec": {
   "display_name": "Python 3",
   "language": "python",
   "name": "python3"
  },
  "language_info": {
   "codemirror_mode": {
    "name": "ipython",
    "version": 2
   },
   "file_extension": ".py",
   "mimetype": "text/x-python",
   "name": "python",
   "nbconvert_exporter": "python",
   "pygments_lexer": "ipython2",
   "version": "2.7.6"
  }
 },
 "nbformat": 4,
 "nbformat_minor": 5
}
