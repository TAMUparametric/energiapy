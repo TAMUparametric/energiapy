{
 "cells": [
  {
   "metadata": {
    "ExecuteTime": {
     "end_time": "2025-07-03T10:17:30.354340Z",
     "start_time": "2025-07-03T10:17:27.874084Z"
    }
   },
   "cell_type": "code",
   "source": [
    "import numpy as np\n",
    "from ppopt.mpmodel import MPModeler\n",
    "from ppopt.mp_solvers.solve_mpqp import solve_mpqp, mpqp_algorithm\n",
    "from ppopt.plot import parametric_plot"
   ],
   "id": "f44c376bc9f0ede1",
   "outputs": [],
   "execution_count": 1
  },
  {
   "cell_type": "code",
   "source": [
    "# # Bansal (2000) Example 4\n",
    "# t_bounds = [(390, 410), (440, 460), (390, 410), (420, 440), (300, 320), (280, 300), (275, 295)]\n",
    "# nt = len(t_bounds)\n",
    "# nd = 0\n",
    "# d_bounds = None\n",
    "# d_vector = None\n",
    "# m = MPModeler()\n",
    "# \n",
    "# u = m.add_var('u')\n",
    "# z = m.add_var('z')\n",
    "# \n",
    "# t1 = m.add_param('t1')\n",
    "# t2 = m.add_param('t2')\n",
    "# t3 = m.add_param('t3')\n",
    "# t4 = m.add_param('t4')\n",
    "# t5 = m.add_param('t5')\n",
    "# t6 = m.add_param('t6')\n",
    "# t7 = m.add_param('t7')\n",
    "# \n",
    "# m.add_constr(5/12 * z + 1/3 * t3 + t6 + 1/3 * t7 + -(682 + 1/2) <= u)\n",
    "# m.add_constr(5/12 * z - 1/3 * t1 - 1/6 * t2 + 1/3 * t3 - 5/12 * t5 + t6 + 1/3 * t7 - (357 + 1/2) <= u)\n",
    "# m.add_constr(-7/12 * z + 2/3 * t1 + 1/3 * t2 + 1/3 * t3 + 5/6 * t5 + t6 + 1/3 * t7 - (1007 + 1/2) <= u)\n",
    "# m.add_constr(-5/12 * z - 1/3 * t3 - 1/3 * t7 + (357 + 1/2) <= u)\n",
    "# m.add_constr(z - t4 <= u)\n",
    "# m.add_constr(4/5 * t3 + t6 + 4/5 * t7 - 858 <= u)\n",
    "# m.add_constr(t3 + t7 - 700 <= u)\n",
    "# \n",
    "# m.add_constr(t_bounds[0][0] <= t1)\n",
    "# m.add_constr(t1 <= t_bounds[0][1])\n",
    "# m.add_constr(t_bounds[1][0] <= t2)\n",
    "# m.add_constr(t2 <= t_bounds[1][1])\n",
    "# m.add_constr(t_bounds[2][0] <= t3)\n",
    "# m.add_constr(t3 <= t_bounds[2][1])\n",
    "# m.add_constr(t_bounds[3][0] <= t4)\n",
    "# m.add_constr(t4 <= t_bounds[3][1])\n",
    "# m.add_constr(t_bounds[4][0] <= t5)\n",
    "# m.add_constr(t5 <= t_bounds[4][1])\n",
    "# m.add_constr(t_bounds[5][0] <= t6)\n",
    "# m.add_constr(t6 <= t_bounds[5][1])\n",
    "# m.add_constr(t_bounds[6][0] <= t7)\n",
    "# m.add_constr(t7 <= t_bounds[6][1])\n",
    "# m.set_objective(u)\n",
    "# prob = m.formulate_problem()\n",
    "# prob.process_constraints()\n",
    "# \n",
    "# solution_flexibility = solve_mpqp(problem=prob, algorithm=mpqp_algorithm.geometric)\n",
    "# \n",
    "# def joint_pdf(theta:list):\n",
    "#     return (5.00e-8) * (0.05*(theta[0]-390))**(0.2) * (1 - (0.05*(theta[0]-390)))**(0.2) *\\\n",
    "#            (0.05*(theta[1]-440))**(0.2) * (1 - (0.05*(theta[1]-440)))**(0.2) * \\\n",
    "#            (0.05*(theta[4]-300))**(0.2) * (1 - (0.05*(theta[4]-300)))**(0.2)"
   ],
   "metadata": {
    "collapsed": false,
    "ExecuteTime": {
     "end_time": "2025-07-03T10:17:30.370419Z",
     "start_time": "2025-07-03T10:17:30.355500Z"
    }
   },
   "id": "8df0292f7948f9d8",
   "outputs": [],
   "execution_count": 2
  },
  {
   "cell_type": "code",
   "outputs": [
    {
     "name": "stdout",
     "output_type": "stream",
     "text": [
      "Set parameter Username\n",
      "Academic license - for non-commercial use only - expires 2025-12-20\n"
     ]
    }
   ],
   "source": [
    "# Bansal (2000) Example 4\n",
    "t_bounds = [(390, 410), (440, 460), (390, 410), (420, 440), (300, 320), (280, 300), (275, 295)]\n",
    "\n",
    "m = MPModeler()\n",
    "\n",
    "t2_max = m.add_var('t2_max')\n",
    "t2_min = m.add_var('t2_min')\n",
    "t3_max = m.add_var('t3_max')\n",
    "t3_min = m.add_var('t3_min')\n",
    "t4_max = m.add_var('t4_max')\n",
    "t4_min = m.add_var('t4_min')\n",
    "t5_max = m.add_var('t5_max')\n",
    "t5_min = m.add_var('t5_min')\n",
    "t6_max = m.add_var('t6_max')\n",
    "t6_min = m.add_var('t6_min')\n",
    "t7_max = m.add_var('t7_max')\n",
    "t7_min = m.add_var('t7_min')\n",
    "\n",
    "t1 = m.add_param('t1')\n",
    "\n",
    "m.add_constr(5/18*t1 + 5/36*t2_max + 1/3*t3_max + 25/72*t5_max + t6_max + 1/3*t7_max - (817 + 11/12) <= 0)\n",
    "m.add_constr(4/5*t3_max + t6_max + 4/5*t7_max - 858 <= 0)\n",
    "m.add_constr(t3_max + t7_max - 700 <= 0)\n",
    "m.add_constr(1/2*t6_max - (162 + 1/2) <= 0)\n",
    "\n",
    "m.add_constr(5/18*t1 + 5/36*t2_min + 1/3*t3_min + 25/72*t5_min + t6_min + 1/3*t7_min - (817 + 11/12) <= 0)\n",
    "m.add_constr(4/5*t3_min + t6_min + 4/5*t7_min - 858 <= 0)\n",
    "m.add_constr(t3_min + t7_min - 700 <= 0)\n",
    "m.add_constr(1/2*t6_min - (162 + 1/2) <= 0)\n",
    "\n",
    "m.add_constr(t2_min <= t2_max)\n",
    "\n",
    "m.add_constr(t_bounds[0][0] <= t1)\n",
    "m.add_constr(t_bounds[1][0] <= t2_max)\n",
    "m.add_constr(t_bounds[1][0] <= t2_min)\n",
    "m.add_constr(t_bounds[2][0] <= t3_max)\n",
    "m.add_constr(t_bounds[2][0] <= t3_min)\n",
    "m.add_constr(t_bounds[3][0] <= t4_max)\n",
    "m.add_constr(t_bounds[3][0] <= t4_min)\n",
    "m.add_constr(t_bounds[4][0] <= t5_max)\n",
    "m.add_constr(t_bounds[4][0] <= t5_min)\n",
    "m.add_constr(t_bounds[5][0] <= t6_max)\n",
    "m.add_constr(t_bounds[5][0] <= t6_min)\n",
    "m.add_constr(t_bounds[6][0] <= t7_max)\n",
    "m.add_constr(t_bounds[6][0] <= t7_min)\n",
    "\n",
    "m.add_constr(t_bounds[0][1] >= t1)\n",
    "m.add_constr(t_bounds[1][1] >= t2_max)\n",
    "m.add_constr(t_bounds[1][1] >= t2_min)\n",
    "m.add_constr(t_bounds[2][1] >= t3_max)\n",
    "m.add_constr(t_bounds[2][1] >= t3_min)\n",
    "m.add_constr(t_bounds[3][1] >= t4_max)\n",
    "m.add_constr(t_bounds[3][1] >= t4_min)\n",
    "m.add_constr(t_bounds[4][1] >= t5_max)\n",
    "m.add_constr(t_bounds[4][1] >= t5_min)\n",
    "m.add_constr(t_bounds[5][1] >= t6_max)\n",
    "m.add_constr(t_bounds[5][1] >= t6_min)\n",
    "m.add_constr(t_bounds[6][1] >= t7_max)\n",
    "m.add_constr(t_bounds[6][1] >= t7_min)\n",
    "\n",
    "m.set_objective(t2_min-t2_max)\n",
    "prob = m.formulate_problem()\n",
    "prob.process_constraints()"
   ],
   "metadata": {
    "collapsed": false,
    "ExecuteTime": {
     "end_time": "2025-07-03T10:17:30.854079Z",
     "start_time": "2025-07-03T10:17:30.371481Z"
    }
   },
   "id": "247a65e80fe81779",
   "execution_count": 3
  },
  {
   "cell_type": "code",
   "outputs": [],
   "source": [
    "# solution = solve_mpqp(problem=prob, algorithm=mpqp_algorithm.geometric)"
   ],
   "metadata": {
    "collapsed": false,
    "ExecuteTime": {
     "end_time": "2025-07-03T10:17:30.869672Z",
     "start_time": "2025-07-03T10:17:30.855125Z"
    }
   },
   "id": "396920cbd782541c",
   "execution_count": 4
  },
  {
   "cell_type": "code",
   "outputs": [],
   "source": [
    "# solution"
   ],
   "metadata": {
    "collapsed": false,
    "ExecuteTime": {
     "end_time": "2025-07-03T10:17:30.885363Z",
     "start_time": "2025-07-03T10:17:30.871764Z"
    }
   },
   "id": "52d0f308b3b9b18b",
   "execution_count": 5
  },
  {
   "cell_type": "code",
   "outputs": [],
   "source": [
    "# mc = MPModeler()\n",
    "# \n",
    "# cost = mc.add_var('cost')\n",
    "# d1 = mc.add_var('d1')\n",
    "# d2 = mc.add_var('d2')\n",
    "# \n",
    "# Ft = mc.add_param('Ft')\n",
    "# \n",
    "# mc.add_constr((1/16)*(3*d1 - 3*d2 + 10) >= Ft)\n",
    "# mc.add_constr((1/11)*(-3*d1 + 6*d2 + 10) >= Ft)\n",
    "# mc.add_constr(cost >= 10*d1 + 10*d2)\n",
    "# \n",
    "# mc.add_constr(0 <= d1)\n",
    "# mc.add_constr(0 <= d2)\n",
    "# mc.add_constr(0 <= Ft)\n",
    "# mc.add_constr(d1 <= 5)\n",
    "# mc.add_constr(d2 <= 5)\n",
    "# mc.add_constr(Ft <= 1)\n",
    "# \n",
    "# mc.set_objective(cost)\n",
    "# probc = mc.formulate_problem()\n",
    "# probc.process_constraints()"
   ],
   "metadata": {
    "collapsed": false,
    "ExecuteTime": {
     "end_time": "2025-07-03T10:19:20.827760Z",
     "start_time": "2025-07-03T10:19:20.811159Z"
    }
   },
   "id": "94caff3292f75836",
   "execution_count": 11
  },
  {
   "cell_type": "code",
   "outputs": [
    {
     "name": "stdout",
     "output_type": "stream",
     "text": [
      "Using a found active set [2, 3, 4]\n"
     ]
    }
   ],
   "source": [
    "# solution_cost = solve_mpqp(problem=probc, algorithm=mpqp_algorithm.geometric)"
   ],
   "metadata": {
    "collapsed": false,
    "ExecuteTime": {
     "end_time": "2025-07-03T10:19:21.215516Z",
     "start_time": "2025-07-03T10:19:21.195631Z"
    }
   },
   "id": "85af0310031752ad",
   "execution_count": 12
  },
  {
   "cell_type": "code",
   "outputs": [
    {
     "data": {
      "text/plain": "Solution(program=<ppopt.mplp_program.MPLP_Program object at 0x00000144D0FFA620>, critical_regions=[Critical region with active set [2, 3, 4]\nThe Omega Constraint indices are [0]\nThe Lagrange multipliers Constraint indices are []\nThe Regular Constraint indices are [[0], [0]]\n  x(θ) = Aθ + b \n λ(θ) = Cθ + d \n  Eθ <= f\n A = [[0.]\n [0.]\n [0.]] \n b = [[0.]\n [0.]\n [0.]] \n C = [[0.]\n [0.]\n [0.]] \n d = [[14.17744688]\n [10.        ]\n [10.        ]] \n E = [[ 1]\n [-1]] \n f = [[ 0.625]\n [-0.   ]], Critical region with active set [0, 2, 4]\nThe Omega Constraint indices are []\nThe Lagrange multipliers Constraint indices are []\nThe Regular Constraint indices are [[0, 1], [1, 3]]\n  x(θ) = Aθ + b \n λ(θ) = Cθ + d \n  Eθ <= f\n A = [[5.33333333e+01]\n [5.33333333e+00]\n [3.57600719e-16]] \n b = [[-3.33333333e+01]\n [-3.33333333e+00]\n [-2.23500450e-16]] \n C = [[0.]\n [0.]\n [0.]] \n d = [[55.17648452]\n [14.17744688]\n [20.        ]] \n E = [[ 1]\n [-1]] \n f = [[ 0.74074074]\n [-0.625     ]], Critical region with active set [0, 1, 2]\nThe Omega Constraint indices are [1]\nThe Lagrange multipliers Constraint indices are []\nThe Regular Constraint indices are [[1], [4]]\n  x(θ) = Aθ + b \n λ(θ) = Cθ + d \n  Eθ <= f\n A = [[233.33333333]\n [ 14.33333333]\n [  9.        ]] \n b = [[-166.66666667]\n [ -10.        ]\n [  -6.66666667]] \n C = [[0.]\n [0.]\n [0.]] \n d = [[165.52945357]\n [ 85.89399151]\n [ 14.17744688]] \n E = [[ 1]\n [-1]] \n f = [[ 1.        ]\n [-0.74074074]]])"
     },
     "execution_count": 13,
     "metadata": {},
     "output_type": "execute_result"
    }
   ],
   "source": [
    "# solution_cost"
   ],
   "metadata": {
    "collapsed": false,
    "ExecuteTime": {
     "end_time": "2025-07-03T10:19:21.542075Z",
     "start_time": "2025-07-03T10:19:21.529374Z"
    }
   },
   "id": "90450b2e3ccf3541",
   "execution_count": 13
  },
  {
   "cell_type": "code",
   "outputs": [
    {
     "name": "stdout",
     "output_type": "stream",
     "text": [
      "Solution is not 2D, the dimensionality of the solution is 1\n"
     ]
    }
   ],
   "source": [
    "# parametric_plot(solution_cost)"
   ],
   "metadata": {
    "collapsed": false,
    "ExecuteTime": {
     "end_time": "2025-07-03T10:18:25.781473Z",
     "start_time": "2025-07-03T10:18:25.778381Z"
    }
   },
   "id": "b33cb862f4046080",
   "execution_count": 10
  },
  {
   "cell_type": "code",
   "outputs": [],
   "source": [],
   "metadata": {
    "collapsed": false
   },
   "id": "317ed48eaa373280"
  }
 ],
 "metadata": {
  "kernelspec": {
   "display_name": "Python 3",
   "language": "python",
   "name": "python3"
  },
  "language_info": {
   "codemirror_mode": {
    "name": "ipython",
    "version": 2
   },
   "file_extension": ".py",
   "mimetype": "text/x-python",
   "name": "python",
   "nbconvert_exporter": "python",
   "pygments_lexer": "ipython2",
   "version": "2.7.6"
  }
 },
 "nbformat": 4,
 "nbformat_minor": 5
}
