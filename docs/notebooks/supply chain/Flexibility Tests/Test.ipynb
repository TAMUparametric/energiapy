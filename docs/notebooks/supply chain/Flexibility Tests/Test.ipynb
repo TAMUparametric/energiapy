{
 "cells": [
  {
   "metadata": {
    "ExecuteTime": {
     "end_time": "2025-06-23T21:56:25.694994Z",
     "start_time": "2025-06-23T21:56:25.685605Z"
    }
   },
   "cell_type": "code",
   "source": [
    "import numpy as np\n",
    "from ppopt.mplp_program import MPLP_Program\n",
    "from ppopt.mpmodel import MPModeler\n",
    "from ppopt.mp_solvers.solve_mpqp import solve_mpqp, mpqp_algorithm\n",
    "from ppopt.plot import parametric_plot\n",
    "from numpy.polynomial.legendre import leggauss\n",
    "from scipy.optimize import linprog\n",
    "from typing import Union\n",
    "from collections import defaultdict"
   ],
   "id": "f44c376bc9f0ede1",
   "outputs": [],
   "execution_count": 18
  },
  {
   "cell_type": "code",
   "id": "initial_id",
   "metadata": {
    "collapsed": true,
    "ExecuteTime": {
     "end_time": "2025-06-23T21:56:25.773081Z",
     "start_time": "2025-06-23T21:56:25.712253Z"
    }
   },
   "source": [
    "# Pistikopoulos and Mazzuchi (1990) Example 1\n",
    "t_bounds = [(610, 630), (378, 398), (573, 593), (303, 323)]\n",
    "# t_bounds = [(586.68, 653.32), (354.68, 421.32), (549.68, 616.32), (279.68, 346.32)]\n",
    "nt = len(t_bounds)\n",
    "nd = 0\n",
    "d_bounds = None\n",
    "d_vector = None\n",
    "m = MPModeler()\n",
    "\n",
    "t3_max = m.add_var('t3_max')\n",
    "t3_min = m.add_var('t3_min')\n",
    "t4_a = m.add_var('t4_a')\n",
    "t4_b = m.add_var('t4_b')\n",
    "\n",
    "t1 = m.add_param(name=\"t1\")\n",
    "t2 = m.add_param(name=\"t2\")\n",
    "\n",
    "# m.add_constr(-1/3*t3_max + t4_a - (125 + 1/3) <= 0)\n",
    "# m.add_constr(-3/7*t1 - 1/7*t2 - 4/7*t3_max + (643 + 3/7) <= 0)\n",
    "# m.add_constr(1/2*t4_a - (161 + 1/2) <= 0)\n",
    "# m.add_constr(-3/5*t1 - 1/5*t2 - 2/5*t3_max - 4/5*t4_a + 922 <= 0)\n",
    "# \n",
    "# m.add_constr(-1/3*t3_min + t4_b - (125 + 1/3) <= 0)\n",
    "# m.add_constr(-3/7*t1 - 1/7*t2 - 4/7*t3_min + (643 + 3/7) <= 0)\n",
    "# m.add_constr(1/2*t4_b - (161 + 1/2) <= 0)\n",
    "# m.add_constr(-3/5*t1 - 1/5*t2 - 2/5*t3_min - 4/5*t4_b + 922 <= 0)\n",
    "\n",
    "m.add_constr(-0.5*t3_max + 1.5*t4_a - 188 <= 0)\n",
    "m.add_constr(-0.75*t1 - 0.25*t2 - t3_max + 1126 <= 0)\n",
    "m.add_constr(0.5*t4_a - 161.5 <= 0)\n",
    "m.add_constr(-0.75*t1 - 0.25*t2 - 0.5*t3_max - t4_a + 1152.5 <= 0)\n",
    "\n",
    "m.add_constr(-0.5*t3_min + 1.5*t4_b - 188 <= 0)\n",
    "m.add_constr(-0.75*t1 - 0.25*t2 - t3_min + 1126 <= 0)\n",
    "m.add_constr(0.5*t4_b - 161.5 <= 0)\n",
    "m.add_constr(-0.75*t1 - 0.25*t2 - 0.5*t3_min - t4_b + 1152.5 <= 0)\n",
    "\n",
    "m.add_constr(t3_min <= t3_max)\n",
    "\n",
    "m.add_constr(t_bounds[2][0] <= t3_max)\n",
    "m.add_constr(t_bounds[2][0] <= t3_min)\n",
    "m.add_constr(t_bounds[3][0] <= t4_a)\n",
    "m.add_constr(t_bounds[3][0] <= t4_b)\n",
    "m.add_constr(t3_max <= t_bounds[2][1])\n",
    "m.add_constr(t3_min <= t_bounds[2][1])\n",
    "m.add_constr(t4_a <= t_bounds[3][1])\n",
    "m.add_constr(t4_b <= t_bounds[3][1])\n",
    "\n",
    "m.add_constr(t_bounds[0][0] <= t1)\n",
    "m.add_constr(t_bounds[1][0] <= t2)\n",
    "m.add_constr(t1 <= t_bounds[0][1])\n",
    "m.add_constr(t2 <= t_bounds[1][1])\n",
    "m.set_objective(t3_min-t3_max)\n",
    "prob = m.formulate_problem()\n",
    "prob.process_constraints()\n",
    "\n",
    "solution_flexibility = solve_mpqp(problem=prob, algorithm=mpqp_algorithm.geometric)\n",
    "\n",
    "def joint_pdf(theta:list):\n",
    "    return (1/(5000*np.pi))*np.exp(-0.08*((theta[0]-620)**2 + (theta[1]-388)**2))"
   ],
   "outputs": [
    {
     "name": "stdout",
     "output_type": "stream",
     "text": [
      "Using a found active set [10, 11, 12, 13]\n"
     ]
    }
   ],
   "execution_count": 19
  },
  {
   "metadata": {
    "ExecuteTime": {
     "end_time": "2025-06-23T21:56:25.804394Z",
     "start_time": "2025-06-23T21:56:25.800078Z"
    }
   },
   "cell_type": "code",
   "source": [
    "prob.A"
   ],
   "id": "c9d7710f9ab4dcb4",
   "outputs": [
    {
     "data": {
      "text/plain": "array([[-0.31622777,  0.        ,  0.9486833 ,  0.        ],\n       [-0.78446454,  0.        ,  0.        ,  0.        ],\n       [ 0.        ,  0.        ,  1.        ,  0.        ],\n       [-0.36514837,  0.        , -0.73029674,  0.        ],\n       [ 0.        , -0.31622777,  0.        ,  0.9486833 ],\n       [ 0.        , -0.78446454,  0.        ,  0.        ],\n       [ 0.        ,  0.        ,  0.        ,  1.        ],\n       [ 0.        , -0.36514837,  0.        , -0.73029674],\n       [-0.70710678,  0.70710678,  0.        ,  0.        ],\n       [-1.        ,  0.        ,  0.        ,  0.        ],\n       [ 0.        , -1.        ,  0.        ,  0.        ],\n       [ 0.        ,  0.        , -1.        ,  0.        ],\n       [ 0.        ,  0.        ,  0.        , -1.        ],\n       [ 1.        ,  0.        ,  0.        ,  0.        ],\n       [ 0.        ,  1.        ,  0.        ,  0.        ],\n       [ 0.        ,  0.        ,  1.        ,  0.        ],\n       [ 0.        ,  0.        ,  0.        ,  1.        ]])"
     },
     "execution_count": 20,
     "metadata": {},
     "output_type": "execute_result"
    }
   ],
   "execution_count": 20
  },
  {
   "metadata": {
    "ExecuteTime": {
     "end_time": "2025-06-23T21:56:25.819639Z",
     "start_time": "2025-06-23T21:56:25.805469Z"
    }
   },
   "cell_type": "code",
   "source": [
    "prob.b"
   ],
   "id": "5db80d5f85a2189d",
   "outputs": [
    {
     "data": {
      "text/plain": "array([[ 118.90164002],\n       [-883.30707266],\n       [ 323.        ],\n       [-841.6669967 ],\n       [ 118.90164002],\n       [-883.30707266],\n       [ 323.        ],\n       [-841.6669967 ],\n       [  -0.        ],\n       [-573.        ],\n       [-573.        ],\n       [-303.        ],\n       [-303.        ],\n       [ 593.        ],\n       [ 593.        ],\n       [ 323.        ],\n       [ 323.        ]])"
     },
     "execution_count": 21,
     "metadata": {},
     "output_type": "execute_result"
    }
   ],
   "execution_count": 21
  },
  {
   "metadata": {
    "ExecuteTime": {
     "end_time": "2025-06-23T21:56:25.835699Z",
     "start_time": "2025-06-23T21:56:25.820696Z"
    }
   },
   "cell_type": "code",
   "source": [
    "prob.F"
   ],
   "id": "834e1e6048ffd05f",
   "outputs": [
    {
     "data": {
      "text/plain": "array([[0.        , 0.        ],\n       [0.58834841, 0.19611614],\n       [0.        , 0.        ],\n       [0.54772256, 0.18257419],\n       [0.        , 0.        ],\n       [0.58834841, 0.19611614],\n       [0.        , 0.        ],\n       [0.54772256, 0.18257419],\n       [0.        , 0.        ],\n       [0.        , 0.        ],\n       [0.        , 0.        ],\n       [0.        , 0.        ],\n       [0.        , 0.        ],\n       [0.        , 0.        ],\n       [0.        , 0.        ],\n       [0.        , 0.        ],\n       [0.        , 0.        ]])"
     },
     "execution_count": 22,
     "metadata": {},
     "output_type": "execute_result"
    }
   ],
   "execution_count": 22
  },
  {
   "metadata": {
    "ExecuteTime": {
     "end_time": "2025-06-23T21:56:25.851325Z",
     "start_time": "2025-06-23T21:56:25.836753Z"
    }
   },
   "cell_type": "code",
   "source": [
    "prob.A_t"
   ],
   "id": "b562df9752a26f5c",
   "outputs": [
    {
     "data": {
      "text/plain": "array([[-1.,  0.],\n       [ 0., -1.],\n       [ 1.,  0.],\n       [ 0.,  1.]])"
     },
     "execution_count": 23,
     "metadata": {},
     "output_type": "execute_result"
    }
   ],
   "execution_count": 23
  },
  {
   "metadata": {
    "ExecuteTime": {
     "end_time": "2025-06-23T21:56:25.866848Z",
     "start_time": "2025-06-23T21:56:25.856564Z"
    }
   },
   "cell_type": "code",
   "source": [
    "prob.b_t"
   ],
   "id": "e2239edd8616289",
   "outputs": [
    {
     "data": {
      "text/plain": "array([[-610.],\n       [-378.],\n       [ 630.],\n       [ 398.]])"
     },
     "execution_count": 24,
     "metadata": {},
     "output_type": "execute_result"
    }
   ],
   "execution_count": 24
  },
  {
   "cell_type": "code",
   "outputs": [
    {
     "data": {
      "text/plain": "array([[-1.],\n       [ 1.],\n       [ 0.],\n       [ 0.]])"
     },
     "execution_count": 25,
     "metadata": {},
     "output_type": "execute_result"
    }
   ],
   "source": [
    "prob.c"
   ],
   "metadata": {
    "collapsed": false,
    "ExecuteTime": {
     "end_time": "2025-06-23T21:56:25.898301Z",
     "start_time": "2025-06-23T21:56:25.883822Z"
    }
   },
   "id": "9a024b0188f96e04",
   "execution_count": 25
  },
  {
   "cell_type": "code",
   "outputs": [
    {
     "data": {
      "text/plain": "array([[0., 0.],\n       [0., 0.],\n       [0., 0.],\n       [0., 0.]])"
     },
     "execution_count": 26,
     "metadata": {},
     "output_type": "execute_result"
    }
   ],
   "source": [
    "prob.H"
   ],
   "metadata": {
    "collapsed": false,
    "ExecuteTime": {
     "end_time": "2025-06-23T21:56:25.913998Z",
     "start_time": "2025-06-23T21:56:25.910890Z"
    }
   },
   "id": "8cf5fcb3c54c6843",
   "execution_count": 26
  },
  {
   "cell_type": "code",
   "outputs": [
    {
     "data": {
      "text/plain": "array([[0., 0.],\n       [0., 0.]])"
     },
     "execution_count": 27,
     "metadata": {},
     "output_type": "execute_result"
    }
   ],
   "source": [
    "prob.Q_t"
   ],
   "metadata": {
    "collapsed": false,
    "ExecuteTime": {
     "end_time": "2025-06-23T21:56:25.929651Z",
     "start_time": "2025-06-23T21:56:25.915079Z"
    }
   },
   "id": "60f626a9a6a9fe31",
   "execution_count": 27
  },
  {
   "cell_type": "code",
   "outputs": [
    {
     "data": {
      "text/plain": "array([[0.],\n       [0.]])"
     },
     "execution_count": 28,
     "metadata": {},
     "output_type": "execute_result"
    }
   ],
   "source": [
    "prob.c_t"
   ],
   "metadata": {
    "collapsed": false,
    "ExecuteTime": {
     "end_time": "2025-06-23T21:56:25.945245Z",
     "start_time": "2025-06-23T21:56:25.930733Z"
    }
   },
   "id": "9891a67db7288645",
   "execution_count": 28
  },
  {
   "cell_type": "code",
   "outputs": [
    {
     "data": {
      "text/plain": "array(0.)"
     },
     "execution_count": 29,
     "metadata": {},
     "output_type": "execute_result"
    }
   ],
   "source": [
    "prob.c_c"
   ],
   "metadata": {
    "collapsed": false,
    "ExecuteTime": {
     "end_time": "2025-06-23T21:56:25.960764Z",
     "start_time": "2025-06-23T21:56:25.946288Z"
    }
   },
   "id": "b1d3f1e2733b98d5",
   "execution_count": 29
  },
  {
   "metadata": {
    "ExecuteTime": {
     "end_time": "2025-06-23T21:56:25.976914Z",
     "start_time": "2025-06-23T21:56:25.962879Z"
    }
   },
   "cell_type": "code",
   "source": [
    "solution_flexibility"
   ],
   "id": "2bc41c48c92c21bb",
   "outputs": [
    {
     "data": {
      "text/plain": "Solution(program=<ppopt.mplp_program.MPLP_Program object at 0x00000202ECB621A0>, critical_regions=[Critical region with active set [10, 11, 12, 13]\nThe Omega Constraint indices are [1, 2, 3]\nThe Lagrange multipliers Constraint indices are []\nThe Regular Constraint indices are [[7], [7]]\n  x(θ) = Aθ + b \n λ(θ) = Cθ + d \n  Eθ <= f\n A = [[0. 0.]\n [0. 0.]\n [0. 0.]\n [0. 0.]] \n b = [[593.]\n [573.]\n [303.]\n [303.]] \n C = [[0. 0.]\n [0. 0.]\n [0. 0.]\n [0. 0.]] \n d = [[1.]\n [0.]\n [0.]\n [1.]] \n E = [[-0.9486833  -0.31622777]\n [ 0.         -1.        ]\n [ 1.          0.        ]\n [ 0.          1.        ]] \n f = [[-712.14492907]\n [-378.        ]\n [ 630.        ]\n [ 398.        ]], Critical region with active set [4, 10, 11, 13]\nThe Omega Constraint indices are [0, 1, 2, 3]\nThe Lagrange multipliers Constraint indices are []\nThe Regular Constraint indices are [[3, 4], [3, 5]]\n  x(θ) = Aθ + b \n λ(θ) = Cθ + d \n  Eθ <= f\n A = [[0. 0.]\n [0. 0.]\n [0. 0.]\n [0. 0.]] \n b = [[593.        ]\n [573.        ]\n [303.        ]\n [316.33333333]] \n C = [[0. 0.]\n [0. 0.]\n [0. 0.]\n [0. 0.]] \n d = [[-5.55111512e-17]\n [ 1.00000000e+00]\n [ 0.00000000e+00]\n [ 1.00000000e+00]] \n E = [[-0.9486833  -0.31622777]\n [-1.          0.        ]\n [ 0.         -1.        ]\n [ 1.          0.        ]\n [ 0.          1.        ]] \n f = [[-699.49581843]\n [-610.        ]\n [-378.        ]\n [ 630.        ]\n [ 398.        ]], Critical region with active set [0, 2, 4, 5]\nThe Omega Constraint indices are [0, 1]\nThe Lagrange multipliers Constraint indices are []\nThe Regular Constraint indices are [[6], [10]]\n  x(θ) = Aθ + b \n λ(θ) = Cθ + d \n  Eθ <= f\n A = [[ 0.          0.        ]\n [-0.75       -0.25      ]\n [ 0.          0.        ]\n [-0.25       -0.08333333]] \n b = [[ 593.        ]\n [1126.        ]\n [ 323.        ]\n [ 500.66666667]] \n C = [[0. 0.]\n [0. 0.]\n [0. 0.]\n [0. 0.]] \n d = [[-3.16227766]\n [ 3.        ]\n [ 0.        ]\n [ 1.27475488]] \n E = [[ 0.9486833   0.31622777]\n [-1.          0.        ]\n [ 0.         -1.        ]] \n f = [[ 699.49581843]\n [-610.        ]\n [-378.        ]]])"
     },
     "execution_count": 30,
     "metadata": {},
     "output_type": "execute_result"
    }
   ],
   "execution_count": 30
  },
  {
   "metadata": {
    "ExecuteTime": {
     "end_time": "2025-06-23T21:56:25.992174Z",
     "start_time": "2025-06-23T21:56:25.978082Z"
    }
   },
   "cell_type": "code",
   "source": [
    "theta = np.array([610.39710144, 378.39710144])"
   ],
   "id": "67b4b0dc757739a6",
   "outputs": [],
   "execution_count": 31
  },
  {
   "cell_type": "code",
   "outputs": [],
   "source": [
    "r = solution_flexibility.get_region(theta_point=theta)"
   ],
   "metadata": {
    "collapsed": false,
    "ExecuteTime": {
     "end_time": "2025-06-23T21:56:26.007768Z",
     "start_time": "2025-06-23T21:56:25.993233Z"
    }
   },
   "id": "ed5adf01d368fba5",
   "execution_count": 32
  },
  {
   "cell_type": "code",
   "outputs": [
    {
     "name": "stdout",
     "output_type": "stream",
     "text": [
      "Critical region with active set [0, 2, 4, 5]\n",
      "The Omega Constraint indices are [0, 1]\n",
      "The Lagrange multipliers Constraint indices are []\n",
      "The Regular Constraint indices are [[6], [10]]\n",
      "  x(θ) = Aθ + b \n",
      " λ(θ) = Cθ + d \n",
      "  Eθ <= f\n",
      " A = [[ 0.          0.        ]\n",
      " [-0.75       -0.25      ]\n",
      " [ 0.          0.        ]\n",
      " [-0.25       -0.08333333]] \n",
      " b = [[ 593.        ]\n",
      " [1126.        ]\n",
      " [ 323.        ]\n",
      " [ 500.66666667]] \n",
      " C = [[0. 0.]\n",
      " [0. 0.]\n",
      " [0. 0.]\n",
      " [0. 0.]] \n",
      " d = [[-3.16227766]\n",
      " [ 3.        ]\n",
      " [ 0.        ]\n",
      " [ 1.27475488]] \n",
      " E = [[ 0.9486833   0.31622777]\n",
      " [-1.          0.        ]\n",
      " [ 0.         -1.        ]] \n",
      " f = [[ 699.49581843]\n",
      " [-610.        ]\n",
      " [-378.        ]]\n"
     ]
    }
   ],
   "source": [
    "print(r)"
   ],
   "metadata": {
    "collapsed": false,
    "ExecuteTime": {
     "end_time": "2025-06-23T21:56:26.022647Z",
     "start_time": "2025-06-23T21:56:26.008830Z"
    }
   },
   "id": "7fc555a36eea56f6",
   "execution_count": 33
  },
  {
   "cell_type": "code",
   "outputs": [
    {
     "data": {
      "text/plain": "<Figure size 640x480 with 1 Axes>",
      "image/png": "[encoded data removed]"
     },
     "metadata": {},
     "output_type": "display_data"
    }
   ],
   "source": [
    "parametric_plot(solution_flexibility)"
   ],
   "metadata": {
    "collapsed": false,
    "ExecuteTime": {
     "end_time": "2025-06-23T21:56:26.116663Z",
     "start_time": "2025-06-23T21:56:26.023711Z"
    }
   },
   "id": "fe0cb15851c033ab",
   "execution_count": 34
  },
  {
   "cell_type": "code",
   "outputs": [],
   "source": [],
   "metadata": {
    "collapsed": false,
    "ExecuteTime": {
     "end_time": "2025-06-23T21:56:26.132340Z",
     "start_time": "2025-06-23T21:56:26.117706Z"
    }
   },
   "id": "8df0292f7948f9d8",
   "execution_count": 34
  }
 ],
 "metadata": {
  "kernelspec": {
   "display_name": "Python 3",
   "language": "python",
   "name": "python3"
  },
  "language_info": {
   "codemirror_mode": {
    "name": "ipython",
    "version": 2
   },
   "file_extension": ".py",
   "mimetype": "text/x-python",
   "name": "python",
   "nbconvert_exporter": "python",
   "pygments_lexer": "ipython2",
   "version": "2.7.6"
  }
 },
 "nbformat": 4,
 "nbformat_minor": 5
}
