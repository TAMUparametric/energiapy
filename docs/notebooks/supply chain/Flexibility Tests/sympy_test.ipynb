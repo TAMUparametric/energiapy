{
 "cells": [
  {
   "cell_type": "code",
   "source": [
    "import pickle\n",
    "from sympy import symbols\n",
    "import math"
   ],
   "metadata": {
    "collapsed": false,
    "ExecuteTime": {
     "end_time": "2025-07-09T00:11:03.578842Z",
     "start_time": "2025-07-09T00:11:03.575695Z"
    }
   },
   "id": "eda684cdc326fa20",
   "outputs": [],
   "execution_count": 28
  },
  {
   "cell_type": "code",
   "source": [
    "with open('factored_sf_exprs.pkl', 'rb') as file:\n",
    "    factored_sf_exprs = pickle.load(file)"
   ],
   "metadata": {
    "collapsed": false,
    "ExecuteTime": {
     "end_time": "2025-07-09T00:11:03.584645Z",
     "start_time": "2025-07-09T00:11:03.581280Z"
    }
   },
   "id": "3b2c056cc2be3d96",
   "outputs": [],
   "execution_count": 29
  },
  {
   "metadata": {
    "ExecuteTime": {
     "end_time": "2025-07-09T00:11:03.589137Z",
     "start_time": "2025-07-09T00:11:03.585621Z"
    }
   },
   "cell_type": "code",
   "source": "factored_sf_exprs",
   "id": "87a1a59f535bbcc6",
   "outputs": [
    {
     "data": {
      "text/plain": [
       "[0.154494399802606/pi]"
      ]
     },
     "execution_count": 30,
     "metadata": {},
     "output_type": "execute_result"
    }
   ],
   "execution_count": 30
  },
  {
   "cell_type": "code",
   "source": [
    "d0, d1 = symbols('d0 d1')"
   ],
   "metadata": {
    "collapsed": false,
    "ExecuteTime": {
     "end_time": "2025-07-09T00:11:03.593310Z",
     "start_time": "2025-07-09T00:11:03.591216Z"
    }
   },
   "id": "de49f6cba2483bee",
   "outputs": [],
   "execution_count": 31
  },
  {
   "cell_type": "code",
   "source": [
    "values = list()\n",
    "for i, sf_expr in enumerate(factored_sf_exprs):\n",
    "    value = sf_expr.subs({d0:4, d1:0.5})\n",
    "    value = value.evalf()\n",
    "    print(i, value)\n",
    "    values.append(value)"
   ],
   "metadata": {
    "collapsed": false,
    "ExecuteTime": {
     "end_time": "2025-07-09T00:11:03.597404Z",
     "start_time": "2025-07-09T00:11:03.594317Z"
    }
   },
   "id": "e19485dfc928960f",
   "outputs": [
    {
     "name": "stdout",
     "output_type": "stream",
     "text": [
      "0 0.0491770948172006\n"
     ]
    }
   ],
   "execution_count": 32
  },
  {
   "cell_type": "code",
   "source": [
    "target = 0.6372"
   ],
   "metadata": {
    "collapsed": false,
    "ExecuteTime": {
     "end_time": "2025-07-09T00:11:03.600209Z",
     "start_time": "2025-07-09T00:11:03.598463Z"
    }
   },
   "id": "a72e6ae1e383fb54",
   "outputs": [],
   "execution_count": 33
  },
  {
   "cell_type": "code",
   "source": [
    "matching_indices = [\n",
    "    i for i, val in enumerate(values)\n",
    "    if math.isclose(val, target, rel_tol=0, abs_tol=1e-4)\n",
    "]"
   ],
   "metadata": {
    "collapsed": false,
    "ExecuteTime": {
     "end_time": "2025-07-09T00:11:03.603297Z",
     "start_time": "2025-07-09T00:11:03.601189Z"
    }
   },
   "id": "d75d34e5105965a",
   "outputs": [],
   "execution_count": 34
  },
  {
   "cell_type": "code",
   "source": [
    "matching_indices"
   ],
   "metadata": {
    "collapsed": false,
    "ExecuteTime": {
     "end_time": "2025-07-09T00:11:03.606414Z",
     "start_time": "2025-07-09T00:11:03.604203Z"
    }
   },
   "id": "735ddf7e456804ad",
   "outputs": [
    {
     "data": {
      "text/plain": [
       "[]"
      ]
     },
     "execution_count": 35,
     "metadata": {},
     "output_type": "execute_result"
    }
   ],
   "execution_count": 35
  },
  {
   "cell_type": "code",
   "source": [
    "for i in matching_indices:\n",
    "    print(f'Value at index {i} is {values[i]}')"
   ],
   "metadata": {
    "collapsed": false,
    "ExecuteTime": {
     "end_time": "2025-07-09T00:11:03.610777Z",
     "start_time": "2025-07-09T00:11:03.608488Z"
    }
   },
   "id": "2458c8f34351545b",
   "outputs": [],
   "execution_count": 36
  },
  {
   "cell_type": "code",
   "source": [],
   "metadata": {
    "collapsed": false,
    "ExecuteTime": {
     "end_time": "2025-07-09T00:11:03.612921Z",
     "start_time": "2025-07-09T00:11:03.611462Z"
    }
   },
   "id": "24732e8c95eb5aa3",
   "outputs": [],
   "execution_count": 36
  }
 ],
 "metadata": {
  "kernelspec": {
   "display_name": "Python 3",
   "language": "python",
   "name": "python3"
  },
  "language_info": {
   "codemirror_mode": {
    "name": "ipython",
    "version": 2
   },
   "file_extension": ".py",
   "mimetype": "text/x-python",
   "name": "python",
   "nbconvert_exporter": "python",
   "pygments_lexer": "ipython2",
   "version": "2.7.6"
  }
 },
 "nbformat": 4,
 "nbformat_minor": 5
}
