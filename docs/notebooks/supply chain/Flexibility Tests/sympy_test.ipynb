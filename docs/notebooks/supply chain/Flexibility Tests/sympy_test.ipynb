{
 "cells": [
  {
   "cell_type": "code",
   "execution_count": 1,
   "id": "6a44a370cbb9af0b",
   "metadata": {
    "collapsed": false,
    "ExecuteTime": {
     "end_time": "2025-07-09T19:51:47.958553Z",
     "start_time": "2025-07-09T19:51:47.408099Z"
    }
   },
   "outputs": [],
   "source": [
    "import sympy as sp\n",
    "import numpy as np\n",
    "import itertools\n",
    "from sympy import satisfiable, And, Eq, Le, Ge, Add, Expr\n",
    "from IPython.display import display\n",
    "from scipy.optimize import linprog\n",
    "from typing import List"
   ]
  },
  {
   "cell_type": "code",
   "outputs": [],
   "source": [
    "def get_all_free_symbols(expr_list: List[Expr], region_list: List[List[Expr]] = None):\n",
    "    \"\"\"\n",
    "    Given a list of SymPy expressions, return a list of all unique free symbols.\n",
    "    \"\"\"\n",
    "    all_symbols = set()\n",
    "    for expr in expr_list:\n",
    "        all_symbols.update(expr.free_symbols)\n",
    "        \n",
    "    if region_list:\n",
    "        for region in region_list:\n",
    "            for expr in region:\n",
    "                all_symbols.update(expr.free_symbols)\n",
    "    return list(all_symbols)"
   ],
   "metadata": {
    "collapsed": false
   },
   "id": "e8733811b5b689"
  },
  {
   "cell_type": "code",
   "outputs": [],
   "source": [
    "def affine_expr(coeffs, symbols):\n",
    "    return sum(c * s for c, s in zip(coeffs[:-1], symbols)) + coeffs[-1]"
   ],
   "metadata": {
    "collapsed": false,
    "ExecuteTime": {
     "end_time": "2025-07-09T19:51:47.974545Z",
     "start_time": "2025-07-09T19:51:47.960546Z"
    }
   },
   "id": "c5f1f64ca6f52d05",
   "execution_count": 2
  },
  {
   "cell_type": "code",
   "outputs": [],
   "source": [
    "def compute_all_sf_expressions_with_regions(\n",
    "    t1_bounds_array, t2_bounds_array,\n",
    "    theta1_critical_regions, theta2_critical_regions,\n",
    "    joint_pdf_expr, d_syms, n_gl, xi_1, wi_1, xi_2, wi_2,\n",
    "    theta_1, theta_2\n",
    "):\n",
    "    n_t1_regions = t1_bounds_array.shape[0]\n",
    "    n_t2_regions = t2_bounds_array.shape[0]\n",
    "    n_q1, n_q2 = n_gl\n",
    "\n",
    "    t2_region_choices = list(itertools.product(range(n_t2_regions), repeat=n_q1))\n",
    "\n",
    "    sf_exprs = []\n",
    "    sf_regions = []\n",
    "\n",
    "    for t1_region_idx in range(n_t1_regions):\n",
    "        t1_min_expr = affine_expr(t1_bounds_array[t1_region_idx, 0], d_syms)\n",
    "        t1_max_expr = affine_expr(t1_bounds_array[t1_region_idx, 1], d_syms)\n",
    "\n",
    "        theta1_points = []\n",
    "        for i in range(n_q1):\n",
    "            t1 = 0.5 * (t1_max_expr - t1_min_expr) * xi_1[i] + 0.5 * (t1_max_expr + t1_min_expr)\n",
    "            theta1_points.append(sp.simplify(t1))\n",
    "\n",
    "        # Get constraints for this θ₁ region\n",
    "        t1_region_constraints = theta1_critical_regions[t1_region_idx]\n",
    "        t1_ineqs = []\n",
    "        for row in t1_region_constraints:\n",
    "            ineq = sum(c * d_i for c, d_i in zip(row[:-1], d_syms)) + row[-1] <= 0\n",
    "            t1_ineqs.append(ineq)\n",
    "\n",
    "        for t2_combo in t2_region_choices:\n",
    "            sf_sum = 0\n",
    "            region_ineqs = list(t1_ineqs)\n",
    "\n",
    "            for i in range(n_q1):\n",
    "                t1 = theta1_points[i]\n",
    "                t2_region_idx = t2_combo[i]\n",
    "\n",
    "                t2_min_expr = affine_expr(t2_bounds_array[t2_region_idx, 0], [t1] + list(d_syms))\n",
    "                t2_max_expr = affine_expr(t2_bounds_array[t2_region_idx, 1], [t1] + list(d_syms))\n",
    "\n",
    "                # Get θ₂ constraints (θ₁ + d terms)\n",
    "                t2_constraints = theta2_critical_regions[t2_region_idx]\n",
    "                for row in t2_constraints:\n",
    "                    theta1_coeff = row[0]\n",
    "                    d_coeffs = row[1:-1]\n",
    "                    const = row[-1]\n",
    "                    ineq = theta1_coeff * t1 + sum(c * d_i for c, d_i in zip(d_coeffs, d_syms)) + const <= 0\n",
    "                    region_ineqs.append(sp.simplify(ineq))\n",
    "\n",
    "                for j in range(n_q2):\n",
    "                    t2 = 0.5 * (t2_max_expr - t2_min_expr) * xi_2[j] + 0.5 * (t2_max_expr + t2_min_expr)\n",
    "                    pdf_val = joint_pdf_expr.subs({theta_1: t1, theta_2: sp.simplify(t2)})\n",
    "                    weight = wi_1[i] * wi_2[j]\n",
    "                    scale = 0.25 * (t1_max_expr - t1_min_expr) * (t2_max_expr - t2_min_expr)\n",
    "                    sf_sum += weight * scale * pdf_val\n",
    "\n",
    "            sf_exprs.append(sp.simplify(sf_sum))\n",
    "            sf_regions.append(region_ineqs)\n",
    "\n",
    "    return sf_exprs, sf_regions"
   ],
   "metadata": {
    "collapsed": true,
    "ExecuteTime": {
     "end_time": "2025-07-09T19:51:47.990564Z",
     "start_time": "2025-07-09T19:51:47.975546Z"
    }
   },
   "id": "initial_id",
   "execution_count": 3
  },
  {
   "cell_type": "code",
   "outputs": [],
   "source": [
    "def extract_linprog_form(ineqs, variables):\n",
    "    A_ub = []\n",
    "    b_ub = []\n",
    "\n",
    "    for ineq in ineqs:\n",
    "        # Normalize: expr <= 0 form\n",
    "        if isinstance(ineq, Le):  # lhs <= rhs → lhs - rhs <= 0\n",
    "            expr = ineq.lhs - ineq.rhs\n",
    "        elif isinstance(ineq, Ge):  # lhs >= rhs → rhs - lhs <= 0\n",
    "            expr = ineq.rhs - ineq.lhs\n",
    "        else:\n",
    "            raise ValueError(f\"Unsupported type: {ineq}\")\n",
    "\n",
    "        coeffs = [expr.coeff(v) for v in variables]\n",
    "        const = -expr.subs({v: 0 for v in variables})\n",
    "        A_ub.append([float(c) for c in coeffs])\n",
    "        b_ub.append(float(const))\n",
    "\n",
    "    return np.array(A_ub), np.array(b_ub)"
   ],
   "metadata": {
    "collapsed": false,
    "ExecuteTime": {
     "end_time": "2025-07-09T19:51:48.006556Z",
     "start_time": "2025-07-09T19:51:47.991557Z"
    }
   },
   "id": "75fc4746e6a693e6",
   "execution_count": 4
  },
  {
   "cell_type": "code",
   "outputs": [],
   "source": [
    "# Design variables\n",
    "m = 2\n",
    "d_syms = sp.symbols(f'd0:{m}')  # d0, d1\n",
    "theta_1, theta_2 = sp.symbols('theta_1 theta_2')\n",
    "\n",
    "# Gauss–Legendre quadrature settings\n",
    "n_gl = [1, 1]\n",
    "xi_1, wi_1 = np.polynomial.legendre.leggauss(n_gl[0])\n",
    "xi_2, wi_2 = np.polynomial.legendre.leggauss(n_gl[1])\n",
    "\n",
    "# Bounds arrays\n",
    "theta1_bounds_array = np.array([\n",
    "    [[0.0, 0.0, 0.0], [0.0, 0.0, 4.0]],  # d0 ± 10\n",
    "    [[0.75, -1.5, -1.25], [0.0, 0.0, 4.0]]  # d1 ± 5\n",
    "])\n",
    "\n",
    "theta2_bounds_array = np.array([\n",
    "    [[-8/3, 2.0, -4.0, 2/3], [0.0, 0.0, 0.0, 4.0]],  # θ1 ± d2\n",
    "    [[0.0, 0.0, 0.0, 0.0], [0.0, 0.0, 0.0, 4.0]],  # θ1 ± 2d2\n",
    "    [[1/3, -0.5, 0.5, -1/3], [0.0, 0.0, 0.0, 4.0]]  # θ1 ± 3d2\n",
    "])\n",
    "\n",
    "# PDF\n",
    "joint_pdf_expr = (2 / sp.pi) * sp.exp(-2 * ((theta_1 - 2) ** 2 + (theta_2 - 2) ** 2))\n",
    "\n",
    "# Critical regions (CRs)\n",
    "# theta1_critical_regions: constraints in terms of d (shape: n_regions × n_ineqs × (m+1))\n",
    "theta1_critical_regions = np.array([\n",
    "    [[1, -2, -5/3]],\n",
    "    [[-1, 2, -5/3]]\n",
    "], dtype=object)\n",
    "\n",
    "# theta2_critical_regions: constraints in terms of [theta1, d0, d1, const]\n",
    "theta2_critical_regions = np.array([\n",
    "    [[-8/3, 2, -4, -10/3], [8/3, -2, 4, -2/3]],\n",
    "    [[8/3, -4.0, 4.0, -8/3], [-8/3, 2, -4, 2/3]],\n",
    "    [[-8/3, 4, -4, 8/3]]\n",
    "], dtype=object)\n"
   ],
   "metadata": {
    "collapsed": false,
    "ExecuteTime": {
     "end_time": "2025-07-09T19:51:48.085080Z",
     "start_time": "2025-07-09T19:51:48.007555Z"
    }
   },
   "id": "648b73a34a1dcc74",
   "execution_count": 5
  },
  {
   "cell_type": "code",
   "outputs": [],
   "source": [
    "sf_exprs, sf_regions = compute_all_sf_expressions_with_regions(\n",
    "    theta1_bounds_array, theta2_bounds_array,\n",
    "    theta1_critical_regions, theta2_critical_regions,\n",
    "    joint_pdf_expr, d_syms, n_gl,\n",
    "    xi_1, wi_1, xi_2, wi_2,\n",
    "    theta_1, theta_2\n",
    ")"
   ],
   "metadata": {
    "collapsed": false,
    "ExecuteTime": {
     "end_time": "2025-07-09T19:51:49.215829Z",
     "start_time": "2025-07-09T19:51:48.086586Z"
    }
   },
   "id": "71a81c672cebe5bf",
   "execution_count": 6
  },
  {
   "cell_type": "code",
   "outputs": [
    {
     "name": "stdout",
     "output_type": "stream",
     "text": [
      "Number of SF expressions: 6\n",
      "Number of critical regions: 6\n"
     ]
    }
   ],
   "source": [
    "print(f'Number of SF expressions: {len(sf_exprs)}')\n",
    "print(f'Number of critical regions: {len(sf_regions)}')"
   ],
   "metadata": {
    "collapsed": false,
    "ExecuteTime": {
     "end_time": "2025-07-09T19:51:49.231116Z",
     "start_time": "2025-07-09T19:51:49.217603Z"
    }
   },
   "id": "67fd50ba4b1ed939",
   "execution_count": 7
  },
  {
   "cell_type": "code",
   "outputs": [
    {
     "data": {
      "text/plain": "(-16.0*d0 + 32.0*d1 + 69.3333333333333)*exp(-10.8888888888889*(-0.428571428571429*d0 + 0.857142857142857*d1 + 1)**2)/pi",
      "text/latex": "$\\displaystyle \\frac{\\left(- 16.0 d_{0} + 32.0 d_{1} + 69.3333333333333\\right) e^{- 10.8888888888889 \\left(- 0.428571428571429 d_{0} + 0.857142857142857 d_{1} + 1\\right)^{2}}}{\\pi}$"
     },
     "metadata": {},
     "output_type": "display_data"
    },
    {
     "data": {
      "text/plain": "32.0/pi",
      "text/latex": "$\\displaystyle \\frac{32.0}{\\pi}$"
     },
     "metadata": {},
     "output_type": "display_data"
    },
    {
     "data": {
      "text/plain": "(4.0*d0 - 4.0*d1 + 29.3333333333333)*exp(-0.125*(-d0 + d1 + 0.666666666666666)**2)/pi",
      "text/latex": "$\\displaystyle \\frac{\\left(4.0 d_{0} - 4.0 d_{1} + 29.3333333333333\\right) e^{- 0.125 \\left(- d_{0} + d_{1} + 0.666666666666666\\right)^{2}}}{\\pi}$"
     },
     "metadata": {},
     "output_type": "display_data"
    },
    {
     "data": {
      "text/plain": "8.0*(-1.0*d0 + 2.0*d1 + 7.0)*(-0.1875*d0 + 0.375*d1 + 1.3125)*exp(-4.5*(0.333333333333333*d0 - 0.666666666666667*d1 - 1)**2 - 1.125*(0.5*d0 - d1 - 0.833333333333333)**2)/pi",
      "text/latex": "$\\displaystyle \\frac{8.0 \\left(- 1.0 d_{0} + 2.0 d_{1} + 7.0\\right) \\left(- 0.1875 d_{0} + 0.375 d_{1} + 1.3125\\right) e^{- 4.5 \\left(0.333333333333333 d_{0} - 0.666666666666667 d_{1} - 1\\right)^{2} - 1.125 \\left(0.5 d_{0} - d_{1} - 0.833333333333333\\right)^{2}}}{\\pi}$"
     },
     "metadata": {},
     "output_type": "display_data"
    },
    {
     "data": {
      "text/plain": "(-6.0*d0 + 12.0*d1 + 42.0)*exp(-1.125*(-0.5*d0 + d1 + 0.833333333333333)**2)/pi",
      "text/latex": "$\\displaystyle \\frac{\\left(- 6.0 d_{0} + 12.0 d_{1} + 42.0\\right) e^{- 1.125 \\left(- 0.5 d_{0} + d_{1} + 0.833333333333333\\right)^{2}}}{\\pi}$"
     },
     "metadata": {},
     "output_type": "display_data"
    },
    {
     "data": {
      "text/plain": "8.0*(-0.1875*d0 + 0.375*d1 + 1.3125)*(0.375*d0 - 0.25*d1 + 3.875)*exp(-0.0703125*(-d0 + 0.666666666666667*d1 + 0.333333333333333)**2 - 1.125*(0.5*d0 - d1 - 0.833333333333333)**2)/pi",
      "text/latex": "$\\displaystyle \\frac{8.0 \\left(- 0.1875 d_{0} + 0.375 d_{1} + 1.3125\\right) \\left(0.375 d_{0} - 0.25 d_{1} + 3.875\\right) e^{- 0.0703125 \\left(- d_{0} + 0.666666666666667 d_{1} + 0.333333333333333\\right)^{2} - 1.125 \\left(0.5 d_{0} - d_{1} - 0.833333333333333\\right)^{2}}}{\\pi}$"
     },
     "metadata": {},
     "output_type": "display_data"
    }
   ],
   "source": [
    "# for ex in sf_exprs:\n",
    "#     display(ex)"
   ],
   "metadata": {
    "collapsed": false,
    "ExecuteTime": {
     "end_time": "2025-07-09T19:51:49.263230Z",
     "start_time": "2025-07-09T19:51:49.232115Z"
    }
   },
   "id": "292444ba67ca0966",
   "execution_count": 8
  },
  {
   "cell_type": "code",
   "outputs": [
    {
     "data": {
      "text/plain": "[[d0 - 2*d1 - 1.66666666666667 <= 0,\n  d0 - 2*d1 <= 4.33333333333333,\n  d0 - 2*d1 >= 2.33333333333333],\n [d0 - 2*d1 - 1.66666666666667 <= 0,\n  4.0*d0 - 4.0*d1 >= 2.66666666666667,\n  d0 - 2*d1 <= 2.33333333333333],\n [d0 - 2*d1 - 1.66666666666667 <= 0, d0 - d1 <= 0.666666666666667],\n [-d0 + 2*d1 - 1.66666666666667 <= 0,\n  1.0*d0 - 2.0*d1 <= 7.0,\n  1.0*d0 - 2.0*d1 >= 3.0],\n [-d0 + 2*d1 - 1.66666666666667 <= 0,\n  3.0*d0 - 2.0*d1 >= 1.0,\n  1.0*d0 - 2.0*d1 <= 3.0],\n [-d0 + 2*d1 - 1.66666666666667 <= 0, 3.0*d0 - 2.0*d1 <= 1.0]]"
     },
     "execution_count": 9,
     "metadata": {},
     "output_type": "execute_result"
    }
   ],
   "source": [
    "# sf_regions"
   ],
   "metadata": {
    "collapsed": false,
    "ExecuteTime": {
     "end_time": "2025-07-09T19:51:49.278540Z",
     "start_time": "2025-07-09T19:51:49.264471Z"
    }
   },
   "id": "b871ac21c3f0aeb7",
   "execution_count": 9
  },
  {
   "cell_type": "code",
   "outputs": [],
   "source": [],
   "metadata": {
    "collapsed": false
   },
   "id": "4f61be11e1b6df0b"
  },
  {
   "cell_type": "code",
   "outputs": [],
   "source": [
    "d0, d1 = sp.symbols('d0 d1')\n",
    "vars = [d0, d1]"
   ],
   "metadata": {
    "collapsed": false,
    "ExecuteTime": {
     "end_time": "2025-07-09T19:51:49.294534Z",
     "start_time": "2025-07-09T19:51:49.279534Z"
    }
   },
   "id": "42a55f7dd8ef3735",
   "execution_count": 10
  },
  {
   "cell_type": "code",
   "outputs": [],
   "source": [
    "feasibility = list()\n",
    "for exprs in sf_regions:\n",
    "    A_ub, b_ub = extract_linprog_form(exprs, vars)\n",
    "    res = linprog(c=[0]*len(vars), A_ub=A_ub, b_ub=b_ub)\n",
    "    # print(res.success)\n",
    "    feasibility.append(res.success)"
   ],
   "metadata": {
    "collapsed": false,
    "ExecuteTime": {
     "end_time": "2025-07-09T19:52:20.976405Z",
     "start_time": "2025-07-09T19:52:20.963405Z"
    }
   },
   "id": "86dc2e7d654d58a5",
   "execution_count": 15
  },
  {
   "cell_type": "code",
   "outputs": [
    {
     "data": {
      "text/plain": "[False, True, True, True, True, True]"
     },
     "execution_count": 16,
     "metadata": {},
     "output_type": "execute_result"
    }
   ],
   "source": [
    "feasibility"
   ],
   "metadata": {
    "collapsed": false,
    "ExecuteTime": {
     "end_time": "2025-07-09T19:52:31.395316Z",
     "start_time": "2025-07-09T19:52:31.379201Z"
    }
   },
   "id": "ccc28e592af0cc3e",
   "execution_count": 16
  },
  {
   "cell_type": "code",
   "outputs": [],
   "source": [
    "# r_idx = 1"
   ],
   "metadata": {
    "collapsed": false,
    "ExecuteTime": {
     "end_time": "2025-07-09T19:51:49.325447Z",
     "start_time": "2025-07-09T19:51:49.311536Z"
    }
   },
   "id": "7ceb48a9e37ca72e",
   "execution_count": 12
  },
  {
   "cell_type": "code",
   "outputs": [],
   "source": [
    "# sf_exprs[r_idx]"
   ],
   "metadata": {
    "collapsed": false,
    "ExecuteTime": {
     "end_time": "2025-07-09T19:51:49.341149Z",
     "start_time": "2025-07-09T19:51:49.326004Z"
    }
   },
   "id": "59bf33fbdbdc3acb",
   "execution_count": 13
  },
  {
   "cell_type": "code",
   "outputs": [],
   "source": [
    "# sf_regions[1]"
   ],
   "metadata": {
    "collapsed": false,
    "ExecuteTime": {
     "end_time": "2025-07-09T19:51:49.357148Z",
     "start_time": "2025-07-09T19:51:49.342148Z"
    }
   },
   "id": "d4021ceaba0d469d",
   "execution_count": 14
  },
  {
   "cell_type": "code",
   "outputs": [],
   "source": [],
   "metadata": {
    "collapsed": false,
    "ExecuteTime": {
     "end_time": "2025-07-09T19:51:49.372148Z",
     "start_time": "2025-07-09T19:51:49.358149Z"
    }
   },
   "id": "27ca2f18185e8205",
   "execution_count": 14
  }
 ],
 "metadata": {
  "kernelspec": {
   "display_name": "Python 3",
   "language": "python",
   "name": "python3"
  },
  "language_info": {
   "codemirror_mode": {
    "name": "ipython",
    "version": 2
   },
   "file_extension": ".py",
   "mimetype": "text/x-python",
   "name": "python",
   "nbconvert_exporter": "python",
   "pygments_lexer": "ipython2",
   "version": "2.7.6"
  }
 },
 "nbformat": 4,
 "nbformat_minor": 5
}
