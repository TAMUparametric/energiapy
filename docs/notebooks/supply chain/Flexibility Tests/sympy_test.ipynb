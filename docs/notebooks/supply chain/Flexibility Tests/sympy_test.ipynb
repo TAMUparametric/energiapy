{
 "cells": [
  {
   "cell_type": "code",
   "id": "6a44a370cbb9af0b",
   "metadata": {
    "collapsed": false,
    "ExecuteTime": {
     "end_time": "2025-07-10T04:19:54.526460Z",
     "start_time": "2025-07-10T04:19:52.956967Z"
    }
   },
   "source": [
    "import sympy as sp\n",
    "import numpy as np\n",
    "import itertools\n",
    "from sympy import satisfiable, And, Eq, Le, Ge, Add, Expr\n",
    "from IPython.display import display\n",
    "from scipy.optimize import linprog\n",
    "from typing import List"
   ],
   "outputs": [],
   "execution_count": 37
  },
  {
   "cell_type": "code",
   "source": [
    "def get_all_free_symbols(expr_list: List[Expr], region_list: List[List[Expr]] = None):\n",
    "    \"\"\"\n",
    "    Given a list of SymPy expressions, return a list of all unique free symbols.\n",
    "    \"\"\"\n",
    "    all_symbols = set()\n",
    "    for expr in expr_list:\n",
    "        all_symbols.update(expr.free_symbols)\n",
    "        \n",
    "    if region_list:\n",
    "        for region in region_list:\n",
    "            for expr in region:\n",
    "                all_symbols.update(expr.free_symbols)\n",
    "    return list(all_symbols)"
   ],
   "metadata": {
    "collapsed": false,
    "ExecuteTime": {
     "end_time": "2025-07-10T04:19:54.531081Z",
     "start_time": "2025-07-10T04:19:54.527663Z"
    }
   },
   "id": "e8733811b5b689",
   "outputs": [],
   "execution_count": 38
  },
  {
   "cell_type": "code",
   "source": [
    "def affine_expr(coeffs, symbols):\n",
    "    return sum(c * s for c, s in zip(coeffs[:-1], symbols)) + coeffs[-1]"
   ],
   "metadata": {
    "collapsed": false,
    "ExecuteTime": {
     "end_time": "2025-07-10T04:19:54.534350Z",
     "start_time": "2025-07-10T04:19:54.531908Z"
    }
   },
   "id": "c5f1f64ca6f52d05",
   "outputs": [],
   "execution_count": 39
  },
  {
   "cell_type": "code",
   "source": [
    "def compute_all_sf_expressions_with_regions(\n",
    "    t1_bounds_array, t2_bounds_array,\n",
    "    theta1_critical_regions, theta2_critical_regions,\n",
    "    joint_pdf_expr, d_syms, n_gl, xi_1, wi_1, xi_2, wi_2,\n",
    "    theta_1, theta_2\n",
    "):\n",
    "    n_t1_regions = t1_bounds_array.shape[0]\n",
    "    n_t2_regions = t2_bounds_array.shape[0]\n",
    "    n_q1, n_q2 = n_gl\n",
    "\n",
    "    t2_region_choices = list(itertools.product(range(n_t2_regions), repeat=n_q1))\n",
    "\n",
    "    sf_exprs = []\n",
    "    sf_regions = []\n",
    "\n",
    "    for t1_region_idx in range(n_t1_regions):\n",
    "        t1_min_expr = affine_expr(t1_bounds_array[t1_region_idx, 0], d_syms)\n",
    "        t1_max_expr = affine_expr(t1_bounds_array[t1_region_idx, 1], d_syms)\n",
    "\n",
    "        theta1_points = []\n",
    "        for i in range(n_q1):\n",
    "            t1 = 0.5 * (t1_max_expr - t1_min_expr) * xi_1[i] + 0.5 * (t1_max_expr + t1_min_expr)\n",
    "            theta1_points.append(sp.simplify(t1))\n",
    "\n",
    "        # Get constraints for this θ₁ region\n",
    "        t1_region_constraints = theta1_critical_regions[t1_region_idx]\n",
    "        t1_ineqs = []\n",
    "        for row in t1_region_constraints:\n",
    "            ineq = sum(c * d_i for c, d_i in zip(row[:-1], d_syms)) + row[-1] <= 0\n",
    "            t1_ineqs.append(ineq)\n",
    "\n",
    "        for t2_combo in t2_region_choices:\n",
    "            sf_sum = 0\n",
    "            region_ineqs = list(t1_ineqs)\n",
    "\n",
    "            for i in range(n_q1):\n",
    "                t1 = theta1_points[i]\n",
    "                t2_region_idx = t2_combo[i]\n",
    "\n",
    "                t2_min_expr = affine_expr(t2_bounds_array[t2_region_idx, 0], [t1] + list(d_syms))\n",
    "                t2_max_expr = affine_expr(t2_bounds_array[t2_region_idx, 1], [t1] + list(d_syms))\n",
    "\n",
    "                # Get θ₂ constraints (θ₁ + d terms)\n",
    "                t2_constraints = theta2_critical_regions[t2_region_idx]\n",
    "                for row in t2_constraints:\n",
    "                    theta1_coeff = row[0]\n",
    "                    d_coeffs = row[1:-1]\n",
    "                    const = row[-1]\n",
    "                    ineq = theta1_coeff * t1 + sum(c * d_i for c, d_i in zip(d_coeffs, d_syms)) + const <= 0\n",
    "                    region_ineqs.append(sp.simplify(ineq))\n",
    "\n",
    "                for j in range(n_q2):\n",
    "                    t2 = 0.5 * (t2_max_expr - t2_min_expr) * xi_2[j] + 0.5 * (t2_max_expr + t2_min_expr)\n",
    "                    pdf_val = joint_pdf_expr.subs({theta_1: t1, theta_2: sp.simplify(t2)})\n",
    "                    weight = wi_1[i] * wi_2[j]\n",
    "                    scale = 0.25 * (t1_max_expr - t1_min_expr) * (t2_max_expr - t2_min_expr)\n",
    "                    sf_sum += weight * scale * pdf_val\n",
    "\n",
    "            sf_exprs.append(sp.simplify(sf_sum))\n",
    "            sf_regions.append(region_ineqs)\n",
    "\n",
    "    return sf_exprs, sf_regions"
   ],
   "metadata": {
    "collapsed": true,
    "ExecuteTime": {
     "end_time": "2025-07-10T04:19:54.542102Z",
     "start_time": "2025-07-10T04:19:54.535604Z"
    }
   },
   "id": "initial_id",
   "outputs": [],
   "execution_count": 40
  },
  {
   "cell_type": "code",
   "source": [
    "def extract_linprog_form(ineqs, variables):\n",
    "    A_ub = []\n",
    "    b_ub = []\n",
    "\n",
    "    for ineq in ineqs:\n",
    "        # Normalize: expr <= 0 form\n",
    "        if isinstance(ineq, Le):  # lhs <= rhs → lhs - rhs <= 0\n",
    "            expr = ineq.lhs - ineq.rhs\n",
    "        elif isinstance(ineq, Ge):  # lhs >= rhs → rhs - lhs <= 0\n",
    "            expr = ineq.rhs - ineq.lhs\n",
    "        else:\n",
    "            raise ValueError(f\"Unsupported type: {ineq}\")\n",
    "\n",
    "        coeffs = [expr.coeff(v) for v in variables]\n",
    "        const = -expr.subs({v: 0 for v in variables})\n",
    "        A_ub.append([float(c) for c in coeffs])\n",
    "        b_ub.append(float(const))\n",
    "\n",
    "    return np.array(A_ub), np.array(b_ub)"
   ],
   "metadata": {
    "collapsed": false,
    "ExecuteTime": {
     "end_time": "2025-07-10T04:19:54.546150Z",
     "start_time": "2025-07-10T04:19:54.543129Z"
    }
   },
   "id": "75fc4746e6a693e6",
   "outputs": [],
   "execution_count": 41
  },
  {
   "cell_type": "code",
   "source": [
    "# Design variables\n",
    "m = 2\n",
    "d_syms = sp.symbols(f'd0:{m}')  # d0, d1\n",
    "theta_1, theta_2 = sp.symbols('theta_1 theta_2')\n",
    "\n",
    "# Gauss–Legendre quadrature settings\n",
    "n_gl = [1, 1]\n",
    "xi_1, wi_1 = np.polynomial.legendre.leggauss(n_gl[0])\n",
    "xi_2, wi_2 = np.polynomial.legendre.leggauss(n_gl[1])\n",
    "\n",
    "# Bounds arrays\n",
    "theta1_bounds_array = np.array([\n",
    "    [[0.0, 0.0, 0.0], [0.0, 0.0, 4.0]],  # d0 ± 10\n",
    "    [[0.75, -1.5, -1.25], [0.0, 0.0, 4.0]]  # d1 ± 5\n",
    "])\n",
    "\n",
    "theta2_bounds_array = np.array([\n",
    "    [[-8/3, 2.0, -4.0, 2/3], [0.0, 0.0, 0.0, 4.0]],  # θ1 ± d2\n",
    "    [[0.0, 0.0, 0.0, 0.0], [0.0, 0.0, 0.0, 4.0]],  # θ1 ± 2d2\n",
    "    [[1/3, -0.5, 0.5, -1/3], [0.0, 0.0, 0.0, 4.0]]  # θ1 ± 3d2\n",
    "])\n",
    "\n",
    "# PDF\n",
    "joint_pdf_expr = (2 / sp.pi) * sp.exp(-2 * ((theta_1 - 2) ** 2 + (theta_2 - 2) ** 2))\n",
    "\n",
    "# Critical regions (CRs)\n",
    "# theta1_critical_regions: constraints in terms of d (shape: n_regions × n_ineqs × (m+1))\n",
    "theta1_critical_regions = np.array([\n",
    "    [[1, -2, -5/3]],\n",
    "    [[-1, 2, -5/3]]\n",
    "], dtype=object)\n",
    "\n",
    "# theta2_critical_regions: constraints in terms of [theta1, d0, d1, const]\n",
    "theta2_critical_regions = np.array([\n",
    "    [[-8/3, 2, -4, -10/3], [8/3, -2, 4, -2/3]],\n",
    "    [[8/3, -4.0, 4.0, -8/3], [-8/3, 2, -4, 2/3]],\n",
    "    [[-8/3, 4, -4, 8/3]]\n",
    "], dtype=object)\n"
   ],
   "metadata": {
    "collapsed": false,
    "ExecuteTime": {
     "end_time": "2025-07-10T04:19:54.581101Z",
     "start_time": "2025-07-10T04:19:54.547015Z"
    }
   },
   "id": "648b73a34a1dcc74",
   "outputs": [],
   "execution_count": 42
  },
  {
   "cell_type": "code",
   "source": [
    "sf_exprs, sf_regions = compute_all_sf_expressions_with_regions(\n",
    "    theta1_bounds_array, theta2_bounds_array,\n",
    "    theta1_critical_regions, theta2_critical_regions,\n",
    "    joint_pdf_expr, d_syms, n_gl,\n",
    "    xi_1, wi_1, xi_2, wi_2,\n",
    "    theta_1, theta_2\n",
    ")"
   ],
   "metadata": {
    "collapsed": false,
    "ExecuteTime": {
     "end_time": "2025-07-10T04:19:55.398322Z",
     "start_time": "2025-07-10T04:19:54.581805Z"
    }
   },
   "id": "71a81c672cebe5bf",
   "outputs": [],
   "execution_count": 43
  },
  {
   "cell_type": "code",
   "source": [
    "print(f'Number of SF expressions: {len(sf_exprs)}')\n",
    "print(f'Number of critical regions: {len(sf_regions)}')"
   ],
   "metadata": {
    "collapsed": false,
    "ExecuteTime": {
     "end_time": "2025-07-10T04:19:55.401069Z",
     "start_time": "2025-07-10T04:19:55.398923Z"
    }
   },
   "id": "67fd50ba4b1ed939",
   "outputs": [
    {
     "name": "stdout",
     "output_type": "stream",
     "text": [
      "Number of SF expressions: 6\n",
      "Number of critical regions: 6\n"
     ]
    }
   ],
   "execution_count": 44
  },
  {
   "cell_type": "code",
   "source": [
    "for i, ex in enumerate(sf_exprs):\n",
    "    print(f'SF expression {i}')\n",
    "    display(ex)\n",
    "    print('\\n')"
   ],
   "metadata": {
    "collapsed": false,
    "ExecuteTime": {
     "end_time": "2025-07-10T04:51:53.256300Z",
     "start_time": "2025-07-10T04:51:53.241003Z"
    }
   },
   "id": "292444ba67ca0966",
   "outputs": [
    {
     "name": "stdout",
     "output_type": "stream",
     "text": [
      "SF expression 0\n"
     ]
    },
    {
     "data": {
      "text/plain": [
       "(-16.0*d0 + 32.0*d1 + 69.3333333333333)*exp(-2*(-1.0*d0 + 2.0*d1 + 2.33333333333333)**2)/pi"
      ],
      "text/latex": "$\\displaystyle \\frac{\\left(- 16.0 d_{0} + 32.0 d_{1} + 69.3333333333333\\right) e^{- 2 \\left(- 1.0 d_{0} + 2.0 d_{1} + 2.33333333333333\\right)^{2}}}{\\pi}$"
     },
     "metadata": {},
     "output_type": "display_data"
    },
    {
     "name": "stdout",
     "output_type": "stream",
     "text": [
      "\n",
      "\n",
      "SF expression 1\n"
     ]
    },
    {
     "data": {
      "text/plain": [
       "32.0/pi"
      ],
      "text/latex": "$\\displaystyle \\frac{32.0}{\\pi}$"
     },
     "metadata": {},
     "output_type": "display_data"
    },
    {
     "name": "stdout",
     "output_type": "stream",
     "text": [
      "\n",
      "\n",
      "SF expression 2\n"
     ]
    },
    {
     "data": {
      "text/plain": [
       "(4.0*d0 - 4.0*d1 + 29.3333333333333)*exp(-2*(-0.25*d0 + 0.25*d1 + 0.166666666666667)**2)/pi"
      ],
      "text/latex": "$\\displaystyle \\frac{\\left(4.0 d_{0} - 4.0 d_{1} + 29.3333333333333\\right) e^{- 2 \\left(- 0.25 d_{0} + 0.25 d_{1} + 0.166666666666667\\right)^{2}}}{\\pi}$"
     },
     "metadata": {},
     "output_type": "display_data"
    },
    {
     "name": "stdout",
     "output_type": "stream",
     "text": [
      "\n",
      "\n",
      "SF expression 3\n"
     ]
    },
    {
     "data": {
      "text/plain": [
       "8.0*(-1.0*d0 + 2.0*d1 + 7.0)*(-0.1875*d0 + 0.375*d1 + 1.3125)*exp(-2*(0.375*d0 - 0.75*d1 - 0.625)**2 - 2*(0.5*d0 - 1.0*d1 - 1.5)**2)/pi"
      ],
      "text/latex": "$\\displaystyle \\frac{8.0 \\left(- 1.0 d_{0} + 2.0 d_{1} + 7.0\\right) \\left(- 0.1875 d_{0} + 0.375 d_{1} + 1.3125\\right) e^{- 2 \\left(0.375 d_{0} - 0.75 d_{1} - 0.625\\right)^{2} - 2 \\left(0.5 d_{0} - 1.0 d_{1} - 1.5\\right)^{2}}}{\\pi}$"
     },
     "metadata": {},
     "output_type": "display_data"
    },
    {
     "name": "stdout",
     "output_type": "stream",
     "text": [
      "\n",
      "\n",
      "SF expression 4\n"
     ]
    },
    {
     "data": {
      "text/plain": [
       "(-6.0*d0 + 12.0*d1 + 42.0)*exp(-2*(-0.375*d0 + 0.75*d1 + 0.625)**2)/pi"
      ],
      "text/latex": "$\\displaystyle \\frac{\\left(- 6.0 d_{0} + 12.0 d_{1} + 42.0\\right) e^{- 2 \\left(- 0.375 d_{0} + 0.75 d_{1} + 0.625\\right)^{2}}}{\\pi}$"
     },
     "metadata": {},
     "output_type": "display_data"
    },
    {
     "name": "stdout",
     "output_type": "stream",
     "text": [
      "\n",
      "\n",
      "SF expression 5\n"
     ]
    },
    {
     "data": {
      "text/plain": [
       "8.0*(-0.1875*d0 + 0.375*d1 + 1.3125)*(0.375*d0 - 0.25*d1 + 3.875)*exp(-2*(-0.1875*d0 + 0.125*d1 + 0.0625)**2 - 2*(0.375*d0 - 0.75*d1 - 0.625)**2)/pi"
      ],
      "text/latex": "$\\displaystyle \\frac{8.0 \\left(- 0.1875 d_{0} + 0.375 d_{1} + 1.3125\\right) \\left(0.375 d_{0} - 0.25 d_{1} + 3.875\\right) e^{- 2 \\left(- 0.1875 d_{0} + 0.125 d_{1} + 0.0625\\right)^{2} - 2 \\left(0.375 d_{0} - 0.75 d_{1} - 0.625\\right)^{2}}}{\\pi}$"
     },
     "metadata": {},
     "output_type": "display_data"
    },
    {
     "name": "stdout",
     "output_type": "stream",
     "text": [
      "\n",
      "\n"
     ]
    }
   ],
   "execution_count": 61
  },
  {
   "cell_type": "code",
   "source": [
    "for i, region_exprs in enumerate(sf_regions):\n",
    "    print(f'For region {i}:')\n",
    "    for expr in region_exprs:\n",
    "        display(expr)\n",
    "    print('\\n')\n",
    "# sf_regions"
   ],
   "metadata": {
    "collapsed": false,
    "ExecuteTime": {
     "end_time": "2025-07-10T04:35:43.429815Z",
     "start_time": "2025-07-10T04:35:43.409624Z"
    }
   },
   "id": "b871ac21c3f0aeb7",
   "outputs": [
    {
     "name": "stdout",
     "output_type": "stream",
     "text": [
      "For region 0:\n"
     ]
    },
    {
     "data": {
      "text/plain": [
       "d0 - 2*d1 - 1.66666666666667 <= 0"
      ],
      "text/latex": "$\\displaystyle d_{0} - 2 d_{1} - 1.66666666666667 \\leq 0$"
     },
     "metadata": {},
     "output_type": "display_data"
    },
    {
     "data": {
      "text/plain": [
       "d0 - 2*d1 <= 4.33333333333333"
      ],
      "text/latex": "$\\displaystyle d_{0} - 2 d_{1} \\leq 4.33333333333333$"
     },
     "metadata": {},
     "output_type": "display_data"
    },
    {
     "data": {
      "text/plain": [
       "d0 - 2*d1 >= 2.33333333333333"
      ],
      "text/latex": "$\\displaystyle d_{0} - 2 d_{1} \\geq 2.33333333333333$"
     },
     "metadata": {},
     "output_type": "display_data"
    },
    {
     "name": "stdout",
     "output_type": "stream",
     "text": [
      "\n",
      "\n",
      "For region 1:\n"
     ]
    },
    {
     "data": {
      "text/plain": [
       "d0 - 2*d1 - 1.66666666666667 <= 0"
      ],
      "text/latex": "$\\displaystyle d_{0} - 2 d_{1} - 1.66666666666667 \\leq 0$"
     },
     "metadata": {},
     "output_type": "display_data"
    },
    {
     "data": {
      "text/plain": [
       "4.0*d0 - 4.0*d1 >= 2.66666666666667"
      ],
      "text/latex": "$\\displaystyle 4.0 d_{0} - 4.0 d_{1} \\geq 2.66666666666667$"
     },
     "metadata": {},
     "output_type": "display_data"
    },
    {
     "data": {
      "text/plain": [
       "d0 - 2*d1 <= 2.33333333333333"
      ],
      "text/latex": "$\\displaystyle d_{0} - 2 d_{1} \\leq 2.33333333333333$"
     },
     "metadata": {},
     "output_type": "display_data"
    },
    {
     "name": "stdout",
     "output_type": "stream",
     "text": [
      "\n",
      "\n",
      "For region 2:\n"
     ]
    },
    {
     "data": {
      "text/plain": [
       "d0 - 2*d1 - 1.66666666666667 <= 0"
      ],
      "text/latex": "$\\displaystyle d_{0} - 2 d_{1} - 1.66666666666667 \\leq 0$"
     },
     "metadata": {},
     "output_type": "display_data"
    },
    {
     "data": {
      "text/plain": [
       "d0 - d1 <= 0.666666666666667"
      ],
      "text/latex": "$\\displaystyle d_{0} - d_{1} \\leq 0.666666666666667$"
     },
     "metadata": {},
     "output_type": "display_data"
    },
    {
     "name": "stdout",
     "output_type": "stream",
     "text": [
      "\n",
      "\n",
      "For region 3:\n"
     ]
    },
    {
     "data": {
      "text/plain": [
       "-d0 + 2*d1 - 1.66666666666667 <= 0"
      ],
      "text/latex": "$\\displaystyle - d_{0} + 2 d_{1} - 1.66666666666667 \\leq 0$"
     },
     "metadata": {},
     "output_type": "display_data"
    },
    {
     "data": {
      "text/plain": [
       "1.0*d0 - 2.0*d1 <= 7.0"
      ],
      "text/latex": "$\\displaystyle 1.0 d_{0} - 2.0 d_{1} \\leq 7.0$"
     },
     "metadata": {},
     "output_type": "display_data"
    },
    {
     "data": {
      "text/plain": [
       "1.0*d0 - 2.0*d1 >= 3.0"
      ],
      "text/latex": "$\\displaystyle 1.0 d_{0} - 2.0 d_{1} \\geq 3.0$"
     },
     "metadata": {},
     "output_type": "display_data"
    },
    {
     "name": "stdout",
     "output_type": "stream",
     "text": [
      "\n",
      "\n",
      "For region 4:\n"
     ]
    },
    {
     "data": {
      "text/plain": [
       "-d0 + 2*d1 - 1.66666666666667 <= 0"
      ],
      "text/latex": "$\\displaystyle - d_{0} + 2 d_{1} - 1.66666666666667 \\leq 0$"
     },
     "metadata": {},
     "output_type": "display_data"
    },
    {
     "data": {
      "text/plain": [
       "3.0*d0 - 2.0*d1 >= 1.0"
      ],
      "text/latex": "$\\displaystyle 3.0 d_{0} - 2.0 d_{1} \\geq 1.0$"
     },
     "metadata": {},
     "output_type": "display_data"
    },
    {
     "data": {
      "text/plain": [
       "1.0*d0 - 2.0*d1 <= 3.0"
      ],
      "text/latex": "$\\displaystyle 1.0 d_{0} - 2.0 d_{1} \\leq 3.0$"
     },
     "metadata": {},
     "output_type": "display_data"
    },
    {
     "name": "stdout",
     "output_type": "stream",
     "text": [
      "\n",
      "\n",
      "For region 5:\n"
     ]
    },
    {
     "data": {
      "text/plain": [
       "-d0 + 2*d1 - 1.66666666666667 <= 0"
      ],
      "text/latex": "$\\displaystyle - d_{0} + 2 d_{1} - 1.66666666666667 \\leq 0$"
     },
     "metadata": {},
     "output_type": "display_data"
    },
    {
     "data": {
      "text/plain": [
       "3.0*d0 - 2.0*d1 <= 1.0"
      ],
      "text/latex": "$\\displaystyle 3.0 d_{0} - 2.0 d_{1} \\leq 1.0$"
     },
     "metadata": {},
     "output_type": "display_data"
    },
    {
     "name": "stdout",
     "output_type": "stream",
     "text": [
      "\n",
      "\n"
     ]
    }
   ],
   "execution_count": 59
  },
  {
   "cell_type": "code",
   "source": [
    "d0, d1 = sp.symbols('d0 d1')\n",
    "vars = [d0, d1]"
   ],
   "metadata": {
    "collapsed": false,
    "ExecuteTime": {
     "end_time": "2025-07-10T04:19:55.455400Z",
     "start_time": "2025-07-10T04:19:55.452791Z"
    }
   },
   "id": "42a55f7dd8ef3735",
   "outputs": [],
   "execution_count": 47
  },
  {
   "cell_type": "code",
   "source": [
    "feasibility = list()\n",
    "for exprs in sf_regions:\n",
    "    A_ub, b_ub = extract_linprog_form(exprs, vars)\n",
    "    res = linprog(c=[0]*len(vars), A_ub=A_ub, b_ub=b_ub)\n",
    "    # print(res.success)\n",
    "    feasibility.append(res.success)"
   ],
   "metadata": {
    "collapsed": false,
    "ExecuteTime": {
     "end_time": "2025-07-10T04:19:55.469178Z",
     "start_time": "2025-07-10T04:19:55.456443Z"
    }
   },
   "id": "86dc2e7d654d58a5",
   "outputs": [],
   "execution_count": 48
  },
  {
   "cell_type": "code",
   "source": [
    "feasibility"
   ],
   "metadata": {
    "collapsed": false,
    "ExecuteTime": {
     "end_time": "2025-07-10T04:19:55.472726Z",
     "start_time": "2025-07-10T04:19:55.470063Z"
    }
   },
   "id": "ccc28e592af0cc3e",
   "outputs": [
    {
     "data": {
      "text/plain": [
       "[False, True, True, True, True, True]"
      ]
     },
     "execution_count": 49,
     "metadata": {},
     "output_type": "execute_result"
    }
   ],
   "execution_count": 49
  },
  {
   "cell_type": "code",
   "source": [],
   "metadata": {
    "collapsed": false,
    "ExecuteTime": {
     "end_time": "2025-07-10T04:19:55.481942Z",
     "start_time": "2025-07-10T04:19:55.480534Z"
    }
   },
   "id": "27ca2f18185e8205",
   "outputs": [],
   "execution_count": 52
  }
 ],
 "metadata": {
  "kernelspec": {
   "display_name": "Python 3",
   "language": "python",
   "name": "python3"
  },
  "language_info": {
   "codemirror_mode": {
    "name": "ipython",
    "version": 2
   },
   "file_extension": ".py",
   "mimetype": "text/x-python",
   "name": "python",
   "nbconvert_exporter": "python",
   "pygments_lexer": "ipython2",
   "version": "2.7.6"
  }
 },
 "nbformat": 4,
 "nbformat_minor": 5
}
