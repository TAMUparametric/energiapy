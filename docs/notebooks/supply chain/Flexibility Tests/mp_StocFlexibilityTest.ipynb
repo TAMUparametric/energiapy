{
 "cells": [
  {
   "cell_type": "code",
   "execution_count": 39,
   "id": "initial_id",
   "metadata": {
    "collapsed": true,
    "ExecuteTime": {
     "end_time": "2025-05-31T17:12:54.730627Z",
     "start_time": "2025-05-31T17:12:54.712997Z"
    }
   },
   "outputs": [],
   "source": [
    "import numpy as np\n",
    "from ppopt.mpmodel import MPModeler\n",
    "from ppopt.mp_solvers.solve_mpqp import solve_mpqp, mpqp_algorithm\n",
    "from ppopt.plot import parametric_plot\n",
    "import numpy as np"
   ]
  },
  {
   "cell_type": "code",
   "outputs": [],
   "source": [
    "# m = MPModeler()\n",
    "# \n",
    "# u = m.add_var(name='u')\n",
    "# x = m.add_var(name='x')\n",
    "# z = m.add_var(name='z')\n",
    "# \n",
    "# t1 = m.add_param(name='t1')\n",
    "# t2 = m.add_param(name='t2')\n",
    "# d1 = m.add_param(name='d1')\n",
    "# d2 = m.add_param(name='d2')"
   ],
   "metadata": {
    "collapsed": false,
    "ExecuteTime": {
     "end_time": "2025-05-31T17:12:54.746762Z",
     "start_time": "2025-05-31T17:12:54.732749Z"
    }
   },
   "id": "765b20fd3425e4be",
   "execution_count": 40
  },
  {
   "cell_type": "code",
   "outputs": [],
   "source": [
    "# m.add_constr(2*x - 3*z + t1 - d2 == 0)\n",
    "# m.add_constr(x - z/2 -t1/2 +t2/2 +d1 -7*d2/2 <= u)\n",
    "# m.add_constr(-2*x +2*z -4*t1/3 -t2 +2*d2 +1/3<= u)\n",
    "# m.add_constr(-x + 5*z/2 +t1/2 -t2 -d1 +d2/2 -1 <= u)\n",
    "# m.add_constr(-50 <= x)\n",
    "# m.add_constr(0-50 <= z)\n",
    "# m.add_constr(0 <= t1)\n",
    "# m.add_constr(0 <= t2)\n",
    "# m.add_constr(0 <= d1)\n",
    "# m.add_constr(0 <= d2)\n",
    "# m.add_constr(t1 <= 4)\n",
    "# m.add_constr(t2 <= 4)\n",
    "# m.add_constr(d1 <= 5)\n",
    "# m.add_constr(d2 <= 5)"
   ],
   "metadata": {
    "collapsed": false,
    "ExecuteTime": {
     "end_time": "2025-05-31T17:12:54.762396Z",
     "start_time": "2025-05-31T17:12:54.748820Z"
    }
   },
   "id": "1b927d79a8f8030a",
   "execution_count": 41
  },
  {
   "cell_type": "code",
   "outputs": [],
   "source": [
    "# m.set_objective(u)"
   ],
   "metadata": {
    "collapsed": false,
    "ExecuteTime": {
     "end_time": "2025-05-31T17:12:54.777622Z",
     "start_time": "2025-05-31T17:12:54.763468Z"
    }
   },
   "id": "b210c01d1f720d21",
   "execution_count": 42
  },
  {
   "cell_type": "code",
   "outputs": [],
   "source": [
    "# prob = m.formulate_problem()\n",
    "# prob.process_constraints()"
   ],
   "metadata": {
    "collapsed": false,
    "ExecuteTime": {
     "end_time": "2025-05-31T17:12:54.793250Z",
     "start_time": "2025-05-31T17:12:54.778671Z"
    }
   },
   "id": "49df3c0c4d1c6719",
   "execution_count": 43
  },
  {
   "cell_type": "code",
   "outputs": [],
   "source": [
    "# solution = solve_mpqp(problem=prob, algorithm=mpqp_algorithm.combinatorial)"
   ],
   "metadata": {
    "collapsed": false,
    "ExecuteTime": {
     "end_time": "2025-05-31T17:12:54.808846Z",
     "start_time": "2025-05-31T17:12:54.794320Z"
    }
   },
   "id": "50065a3960349be6",
   "execution_count": 44
  },
  {
   "cell_type": "code",
   "outputs": [],
   "source": [
    "# psi_matrix = np.empty((len(solution), solution.critical_regions[0].A.shape[1] + solution.critical_regions[0].b.shape[1]))\n",
    "# psi_idx = 0"
   ],
   "metadata": {
    "collapsed": false,
    "ExecuteTime": {
     "end_time": "2025-05-31T17:12:54.823754Z",
     "start_time": "2025-05-31T17:12:54.809902Z"
    }
   },
   "id": "6c99a204ddb5afb5",
   "execution_count": 45
  },
  {
   "cell_type": "code",
   "outputs": [],
   "source": [
    "# psi_matrix"
   ],
   "metadata": {
    "collapsed": false,
    "ExecuteTime": {
     "end_time": "2025-05-31T17:12:54.839533Z",
     "start_time": "2025-05-31T17:12:54.824835Z"
    }
   },
   "id": "b3b1dfcd79c3ce24",
   "execution_count": 46
  },
  {
   "cell_type": "code",
   "outputs": [],
   "source": [
    "# np.concatenate([solution.critical_regions[0].A[0,:], solution.critical_regions[0].b[0,:]], axis=0)"
   ],
   "metadata": {
    "collapsed": false,
    "ExecuteTime": {
     "end_time": "2025-05-31T17:12:54.855148Z",
     "start_time": "2025-05-31T17:12:54.840583Z"
    }
   },
   "id": "67607e5542cdbe76",
   "execution_count": 47
  },
  {
   "cell_type": "code",
   "outputs": [],
   "source": [
    "# for i in range(len(solution.critical_regions)):\n",
    "#     psi_matrix[i] = np.concatenate([solution.critical_regions[i].A[psi_idx,:], solution.critical_regions[i].b[psi_idx,:]], axis=0)"
   ],
   "metadata": {
    "collapsed": false,
    "ExecuteTime": {
     "end_time": "2025-05-31T17:12:54.870875Z",
     "start_time": "2025-05-31T17:12:54.856208Z"
    }
   },
   "id": "f44f4d68309d2a22",
   "execution_count": 48
  },
  {
   "cell_type": "code",
   "outputs": [],
   "source": [
    "# psi_matrix"
   ],
   "metadata": {
    "collapsed": false,
    "ExecuteTime": {
     "end_time": "2025-05-31T17:12:54.886533Z",
     "start_time": "2025-05-31T17:12:54.871936Z"
    }
   },
   "id": "21a18c2ef6e386fc",
   "execution_count": 49
  },
  {
   "cell_type": "code",
   "outputs": [],
   "source": [
    "m_t1 = MPModeler()\n",
    "\n",
    "x = m_t1.add_var('x')\n",
    "z = m_t1.add_var('z')\n",
    "t1 = m_t1.add_var('t1')\n",
    "t2 = m_t1.add_var('t2')\n",
    "\n",
    "d1 = m_t1.add_param('d1')\n",
    "d2 = m_t1.add_param('d2')"
   ],
   "metadata": {
    "collapsed": false,
    "ExecuteTime": {
     "end_time": "2025-05-31T17:12:54.902229Z",
     "start_time": "2025-05-31T17:12:54.887591Z"
    }
   },
   "id": "49728a939841001d",
   "execution_count": 50
  },
  {
   "cell_type": "code",
   "outputs": [],
   "source": [
    "m_t1.add_constr(2*x - 3*z + t1 - d2 == 0)\n",
    "m_t1.add_constr(x - z/2 -t1/2 +t2/2 +d1 -7*d2/2 <= 0)\n",
    "m_t1.add_constr(-2*x +2*z -4*t1/3 -t2 +2*d2 +1/3<= 0)\n",
    "m_t1.add_constr(-x + 5*z/2 +t1/2 -t2 -d1 +d2/2 -1 <= 0)\n",
    "m_t1.add_constr(-50 <= x)\n",
    "m_t1.add_constr(-50 <= z)\n",
    "m_t1.add_constr(0 <= t1)\n",
    "m_t1.add_constr(0 <= t2)\n",
    "m_t1.add_constr(0 <= d1)\n",
    "m_t1.add_constr(0 <= d2)\n",
    "m_t1.add_constr(t1 <= 4)\n",
    "m_t1.add_constr(t2 <= 4)\n",
    "m_t1.add_constr(d1 <= 5)\n",
    "m_t1.add_constr(d2 <= 5)"
   ],
   "metadata": {
    "collapsed": false,
    "ExecuteTime": {
     "end_time": "2025-05-31T17:12:54.917941Z",
     "start_time": "2025-05-31T17:12:54.903328Z"
    }
   },
   "id": "6156049d4f54b2fe",
   "execution_count": 51
  },
  {
   "cell_type": "code",
   "outputs": [],
   "source": [
    "m_t1.set_objective(t1)"
   ],
   "metadata": {
    "collapsed": false,
    "ExecuteTime": {
     "end_time": "2025-05-31T17:12:54.934113Z",
     "start_time": "2025-05-31T17:12:54.919005Z"
    }
   },
   "id": "cc9e3f386b07e85f",
   "execution_count": 52
  },
  {
   "cell_type": "code",
   "outputs": [],
   "source": [
    "prob = m_t1.formulate_problem()\n",
    "prob.process_constraints()"
   ],
   "metadata": {
    "collapsed": false,
    "ExecuteTime": {
     "end_time": "2025-05-31T17:12:54.965273Z",
     "start_time": "2025-05-31T17:12:54.935262Z"
    }
   },
   "id": "ae98ad018d261b78",
   "execution_count": 53
  },
  {
   "cell_type": "code",
   "outputs": [
    {
     "name": "stdout",
     "output_type": "stream",
     "text": [
      "First region (0, 3, 4, 7)\n"
     ]
    }
   ],
   "source": [
    "solution = solve_mpqp(problem=prob, algorithm=mpqp_algorithm.graph)"
   ],
   "metadata": {
    "collapsed": false,
    "ExecuteTime": {
     "end_time": "2025-05-31T17:12:55.105254Z",
     "start_time": "2025-05-31T17:12:54.967375Z"
    }
   },
   "id": "a60c7f4edd7fa8ed",
   "execution_count": 54
  },
  {
   "cell_type": "code",
   "outputs": [
    {
     "data": {
      "text/plain": "10"
     },
     "execution_count": 55,
     "metadata": {},
     "output_type": "execute_result"
    }
   ],
   "source": [
    "len(solution)"
   ],
   "metadata": {
    "collapsed": false,
    "ExecuteTime": {
     "end_time": "2025-05-31T17:12:55.121041Z",
     "start_time": "2025-05-31T17:12:55.106311Z"
    }
   },
   "id": "1c9d07401627dd98",
   "execution_count": 55
  },
  {
   "cell_type": "code",
   "outputs": [
    {
     "data": {
      "text/plain": "Solution(program=<ppopt.mplp_program.MPLP_Program object at 0x000001D3A5A282B0>, critical_regions=[Critical region with active set [0, 3, 4, 7]\nThe Omega Constraint indices are [0, 3]\nThe Lagrange multipliers Constraint indices are []\nThe Regular Constraint indices are [[0], [1]]\n  x(θ) = Aθ + b \n λ(θ) = Cθ + d \n  Eθ <= f\n A = [[ 1.50000000e+00  5.00000000e-01]\n [ 1.00000000e+00  1.11022302e-16]\n [-7.66667466e-17 -6.19970500e-17]\n [-1.77777963e-17 -6.85771543e-18]] \n b = [[ 7.50000000e+00]\n [ 5.00000000e+00]\n [-1.85302359e-15]\n [ 4.00000000e+00]] \n C = [[0. 0.]\n [0. 0.]\n [0. 0.]\n [0. 0.]] \n d = [[3.88578059e-16]\n [2.39391840e-16]\n [1.00000000e+00]\n [4.44089210e-16]] \n E = [[ 0.5547002  -0.83205029]\n [-1.          0.        ]\n [ 0.          1.        ]] \n f = [[-1.94145069]\n [-0.        ]\n [ 5.        ]], Critical region with active set [0, 2, 4, 5]\nThe Omega Constraint indices are [0, 2, 3]\nThe Lagrange multipliers Constraint indices are []\nThe Regular Constraint indices are [[0, 1], [1, 3]]\n  x(θ) = Aθ + b \n λ(θ) = Cθ + d \n  Eθ <= f\n A = [[0.00000000e+00 2.00000000e+00]\n [0.00000000e+00 1.00000000e+00]\n [0.00000000e+00 6.09148999e-17]\n [0.00000000e+00 8.97954635e-17]] \n b = [[5.00000000e-01]\n [3.33333333e-01]\n [0.00000000e+00]\n [4.81342727e-18]] \n C = [[0. 0.]\n [0. 0.]\n [0. 0.]\n [0. 0.]] \n d = [[-2.35922393e-16]\n [ 0.00000000e+00]\n [ 1.00000000e+00]\n [ 2.22044605e-16]] \n E = [[ 0.4472136  -0.89442719]\n [-0.70710678  0.70710678]\n [-1.          0.        ]\n [ 1.          0.        ]\n [ 0.          1.        ]] \n f = [[-0.1490712 ]\n [ 0.47140452]\n [-0.        ]\n [ 5.        ]\n [ 5.        ]], Critical region with active set [0, 1, 2, 7]\nThe Omega Constraint indices are [1, 2]\nThe Lagrange multipliers Constraint indices are []\nThe Regular Constraint indices are [[1], [4]]\n  x(θ) = Aθ + b \n λ(θ) = Cθ + d \n  Eθ <= f\n A = [[-7.50000000e-01  3.50000000e+00]\n [-2.50000000e-01  1.50000000e+00]\n [ 7.50000000e-01 -1.50000000e+00]\n [-5.48682003e-17  1.07299471e-17]] \n b = [[-4.25]\n [-3.25]\n [-1.25]\n [ 4.  ]] \n C = [[0. 0.]\n [0. 0.]\n [0. 0.]\n [0. 0.]] \n d = [[1.45236875]\n [2.90473751]\n [2.88314065]\n [0.375     ]] \n E = [[-0.4472136   0.89442719]\n [ 0.         -1.        ]\n [ 1.          0.        ]] \n f = [[-0.74535599]\n [-0.        ]\n [ 5.        ]], Critical region with active set [0, 1, 2, 4]\nThe Omega Constraint indices are [0, 1, 2]\nThe Lagrange multipliers Constraint indices are []\nThe Regular Constraint indices are [[1, 3], [5, 7]]\n  x(θ) = Aθ + b \n λ(θ) = Cθ + d \n  Eθ <= f\n A = [[-3.00000000e+00  8.00000000e+00]\n [-2.00000000e+00  5.00000000e+00]\n [ 1.32579488e-16 -2.32983699e-16]\n [ 2.00000000e+00 -4.00000000e+00]] \n b = [[-5.00000000e-01]\n [-3.33333333e-01]\n [ 3.85074181e-17]\n [ 6.66666667e-01]] \n C = [[0. 0.]\n [0. 0.]\n [0. 0.]\n [0. 0.]] \n d = [[0.00000000e+00]\n [5.13478149e-16]\n [4.44089210e-16]\n [1.00000000e+00]] \n E = [[-0.4472136   0.89442719]\n [ 0.4472136  -0.89442719]\n [-1.          0.        ]\n [ 0.         -1.        ]\n [ 1.          0.        ]] \n f = [[ 0.1490712 ]\n [ 0.74535599]\n [-0.        ]\n [-0.        ]\n [ 5.        ]], Critical region with active set [0, 2, 3, 4]\nThe Omega Constraint indices are [0, 3]\nThe Lagrange multipliers Constraint indices are []\nThe Regular Constraint indices are [[1], [5]]\n  x(θ) = Aθ + b \n λ(θ) = Cθ + d \n  Eθ <= f\n A = [[ 7.50000000e-01  1.25000000e+00]\n [ 5.00000000e-01  5.00000000e-01]\n [-1.06666778e-16 -1.71837695e-17]\n [-5.00000000e-01  5.00000000e-01]] \n b = [[ 1.00000000e+00]\n [ 6.66666667e-01]\n [-1.21107060e-16]\n [-3.33333333e-01]] \n C = [[0. 0.]\n [0. 0.]\n [0. 0.]\n [0. 0.]] \n d = [[-6.24500451e-17]\n [-1.66533454e-16]\n [ 3.33066907e-16]\n [ 1.00000000e+00]] \n E = [[ 0.70710678 -0.70710678]\n [-1.          0.        ]\n [ 0.          1.        ]] \n f = [[-0.47140452]\n [-0.        ]\n [ 5.        ]], Critical region with active set [0, 3, 4, 5]\nThe Omega Constraint indices are [0, 2, 3]\nThe Lagrange multipliers Constraint indices are []\nThe Regular Constraint indices are [[0, 1], [1, 2]]\n  x(θ) = Aθ + b \n λ(θ) = Cθ + d \n  Eθ <= f\n A = [[ 1.50000000e+00  5.00000000e-01]\n [ 1.00000000e+00  1.11022302e-16]\n [-7.66667466e-17 -6.19970500e-17]\n [-1.77777963e-17 -6.85771543e-18]] \n b = [[ 1.50000000e+00]\n [ 1.00000000e+00]\n [-7.66667466e-17]\n [-1.77777963e-17]] \n C = [[0. 0.]\n [0. 0.]\n [0. 0.]\n [0. 0.]] \n d = [[ 3.88578059e-16]\n [ 2.39391840e-16]\n [ 1.00000000e+00]\n [-4.44089210e-16]] \n E = [[ 0.5547002  -0.83205029]\n [-0.70710678  0.70710678]\n [-1.          0.        ]\n [ 1.          0.        ]\n [ 0.          1.        ]] \n f = [[-0.2773501 ]\n [ 0.47140452]\n [-0.        ]\n [ 5.        ]\n [ 5.        ]], Critical region with active set [0, 1, 4, 7]\nThe Omega Constraint indices are [0, 1, 2, 3]\nThe Lagrange multipliers Constraint indices are []\nThe Regular Constraint indices are [[0, 1], [2, 3]]\n  x(θ) = Aθ + b \n λ(θ) = Cθ + d \n  Eθ <= f\n A = [[-1.50000000e+00  5.00000000e+00]\n [-1.00000000e+00  3.00000000e+00]\n [-1.07496882e-16  2.97408041e-16]\n [ 1.25413029e-17 -6.18107072e-17]] \n b = [[-3.00000000e+00]\n [-2.00000000e+00]\n [ 1.11022302e-16]\n [ 4.00000000e+00]] \n C = [[0. 0.]\n [0. 0.]\n [0. 0.]\n [0. 0.]] \n d = [[ 3.05311332e-16]\n [-4.16333634e-16]\n [ 1.00000000e+00]\n [-2.77555756e-17]] \n E = [[ 0.4472136  -0.89442719]\n [-0.5547002   0.83205029]\n [-1.          0.        ]\n [ 0.         -1.        ]\n [ 1.          0.        ]\n [ 0.          1.        ]] \n f = [[ 0.74535599]\n [ 1.94145069]\n [-0.        ]\n [-0.        ]\n [ 5.        ]\n [ 5.        ]], Critical region with active set [0, 1, 3, 4]\nThe Omega Constraint indices are [0, 2, 3]\nThe Lagrange multipliers Constraint indices are []\nThe Regular Constraint indices are [[1, 3], [5, 7]]\n  x(θ) = Aθ + b \n λ(θ) = Cθ + d \n  Eθ <= f\n A = [[-5.00000000e-01  3.50000000e+00]\n [-3.33333333e-01  2.00000000e+00]\n [-1.70476626e-16  2.42004599e-16]\n [-1.33333333e+00  2.00000000e+00]] \n b = [[ 5.00000000e-01]\n [ 3.33333333e-01]\n [-8.00000835e-17]\n [-6.66666667e-01]] \n C = [[0. 0.]\n [0. 0.]\n [0. 0.]\n [0. 0.]] \n d = [[ 4.44089210e-16]\n [-3.50414142e-16]\n [ 2.49800181e-16]\n [ 1.00000000e+00]] \n E = [[ 0.5547002  -0.83205029]\n [-0.5547002   0.83205029]\n [-1.          0.        ]\n [ 1.          0.        ]\n [ 0.          1.        ]] \n f = [[-0.2773501 ]\n [ 1.94145069]\n [-0.        ]\n [ 5.        ]\n [ 5.        ]], Critical region with active set [0, 1, 4, 5]\nThe Omega Constraint indices are [0, 2]\nThe Lagrange multipliers Constraint indices are []\nThe Regular Constraint indices are [[0, 1], [2, 3]]\n  x(θ) = Aθ + b \n λ(θ) = Cθ + d \n  Eθ <= f\n A = [[-1.50000000e+00  5.00000000e+00]\n [-1.00000000e+00  3.00000000e+00]\n [-1.07496882e-16  2.97408041e-16]\n [ 1.25413029e-17 -6.18107072e-17]] \n b = [[0.]\n [0.]\n [0.]\n [0.]] \n C = [[0. 0.]\n [0. 0.]\n [0. 0.]\n [0. 0.]] \n d = [[ 3.05311332e-16]\n [-4.16333634e-16]\n [ 1.00000000e+00]\n [ 2.77555756e-17]] \n E = [[ 0.4472136  -0.89442719]\n [-0.5547002   0.83205029]\n [-1.          0.        ]\n [ 1.          0.        ]] \n f = [[-0.1490712]\n [ 0.2773501]\n [-0.       ]\n [ 5.       ]], Critical region with active set [0, 2, 4, 7]\nThe Omega Constraint indices are [0, 1, 2, 3]\nThe Lagrange multipliers Constraint indices are []\nThe Regular Constraint indices are [[0], [1]]\n  x(θ) = Aθ + b \n λ(θ) = Cθ + d \n  Eθ <= f\n A = [[0.00000000e+00 2.00000000e+00]\n [0.00000000e+00 1.00000000e+00]\n [0.00000000e+00 6.09148999e-17]\n [0.00000000e+00 8.97954635e-17]] \n b = [[-5.50000000e+00]\n [-3.66666667e+00]\n [ 8.88178420e-16]\n [ 4.00000000e+00]] \n C = [[0. 0.]\n [0. 0.]\n [0. 0.]\n [0. 0.]] \n d = [[-2.35922393e-16]\n [ 0.00000000e+00]\n [ 1.00000000e+00]\n [-2.22044605e-16]] \n E = [[ 0.4472136  -0.89442719]\n [-1.          0.        ]\n [ 0.         -1.        ]\n [ 1.          0.        ]\n [ 0.          1.        ]] \n f = [[ 0.74535599]\n [-0.        ]\n [-0.        ]\n [ 5.        ]\n [ 5.        ]]])"
     },
     "execution_count": 56,
     "metadata": {},
     "output_type": "execute_result"
    }
   ],
   "source": [
    "solution"
   ],
   "metadata": {
    "collapsed": false,
    "ExecuteTime": {
     "end_time": "2025-05-31T17:12:55.136694Z",
     "start_time": "2025-05-31T17:12:55.122133Z"
    }
   },
   "id": "2cb5938cbd4a6454",
   "execution_count": 56
  },
  {
   "cell_type": "code",
   "outputs": [
    {
     "data": {
      "text/plain": "<Figure size 640x480 with 1 Axes>",
      "image/png": "[encoded data removed]"
     },
     "metadata": {},
     "output_type": "display_data"
    }
   ],
   "source": [
    "parametric_plot(solution, show=True)"
   ],
   "metadata": {
    "collapsed": false,
    "ExecuteTime": {
     "end_time": "2025-05-31T17:12:55.230176Z",
     "start_time": "2025-05-31T17:12:55.137751Z"
    }
   },
   "id": "4ff8d0ba58f67e1",
   "execution_count": 57
  },
  {
   "cell_type": "code",
   "outputs": [],
   "source": [],
   "metadata": {
    "collapsed": false,
    "ExecuteTime": {
     "end_time": "2025-05-31T17:12:55.246305Z",
     "start_time": "2025-05-31T17:12:55.231226Z"
    }
   },
   "id": "deb521e711c51503",
   "execution_count": 57
  }
 ],
 "metadata": {
  "kernelspec": {
   "display_name": "Python 3",
   "language": "python",
   "name": "python3"
  },
  "language_info": {
   "codemirror_mode": {
    "name": "ipython",
    "version": 2
   },
   "file_extension": ".py",
   "mimetype": "text/x-python",
   "name": "python",
   "nbconvert_exporter": "python",
   "pygments_lexer": "ipython2",
   "version": "2.7.6"
  }
 },
 "nbformat": 4,
 "nbformat_minor": 5
}
