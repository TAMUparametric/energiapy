{
 "cells": [
  {
   "cell_type": "code",
   "execution_count": 1,
   "id": "initial_id",
   "metadata": {
    "collapsed": true,
    "ExecuteTime": {
     "end_time": "2025-06-16T20:34:48.056693Z",
     "start_time": "2025-06-16T20:34:47.568404Z"
    }
   },
   "outputs": [],
   "source": [
    "import numpy as np\n",
    "import ppopt.critical_region\n",
    "from ppopt.mpmodel import MPModeler\n",
    "from ppopt.mp_solvers.solve_mpqp import solve_mpqp, mpqp_algorithm\n",
    "from ppopt.plot import parametric_plot\n",
    "from numpy.polynomial.legendre import leggauss\n",
    "import copy\n",
    "from typing import Union\n",
    "from collections import defaultdict"
   ]
  },
  {
   "cell_type": "code",
   "outputs": [],
   "source": [
    "# m = MPModeler()\n",
    "# \n",
    "# u = m.add_var(name='u')\n",
    "# x = m.add_var(name='x')\n",
    "# z = m.add_var(name='z')\n",
    "# \n",
    "# t1 = m.add_param(name='t1')\n",
    "# t2 = m.add_param(name='t2')\n",
    "# d1 = m.add_param(name='d1')\n",
    "# d2 = m.add_param(name='d2')"
   ],
   "metadata": {
    "collapsed": false,
    "ExecuteTime": {
     "end_time": "2025-06-16T20:34:48.072474Z",
     "start_time": "2025-06-16T20:34:48.059321Z"
    }
   },
   "id": "765b20fd3425e4be",
   "execution_count": 2
  },
  {
   "cell_type": "code",
   "outputs": [],
   "source": [
    "# m.add_constr(2*x - 3*z + t1 - d2 == 0)\n",
    "# m.add_constr(x - z/2 -t1/2 +t2/2 +d1 -7*d2/2 <= u)\n",
    "# m.add_constr(-2*x +2*z -4*t1/3 -t2 +2*d2 +1/3<= u)\n",
    "# m.add_constr(-x + 5*z/2 +t1/2 -t2 -d1 +d2/2 -1 <= u)\n",
    "# m.add_constr(-50 <= x)\n",
    "# m.add_constr(0-50 <= z)\n",
    "# m.add_constr(0 <= t1)\n",
    "# m.add_constr(0 <= t2)\n",
    "# m.add_constr(0 <= d1)\n",
    "# m.add_constr(0 <= d2)\n",
    "# m.add_constr(t1 <= 4)\n",
    "# m.add_constr(t2 <= 4)\n",
    "# m.add_constr(d1 <= 5)\n",
    "# m.add_constr(d2 <= 5)"
   ],
   "metadata": {
    "collapsed": false,
    "ExecuteTime": {
     "end_time": "2025-06-16T20:34:48.088193Z",
     "start_time": "2025-06-16T20:34:48.073550Z"
    }
   },
   "id": "1b927d79a8f8030a",
   "execution_count": 3
  },
  {
   "cell_type": "code",
   "outputs": [],
   "source": [
    "# m.set_objective(u)"
   ],
   "metadata": {
    "collapsed": false,
    "ExecuteTime": {
     "end_time": "2025-06-16T20:34:48.103865Z",
     "start_time": "2025-06-16T20:34:48.089239Z"
    }
   },
   "id": "b210c01d1f720d21",
   "execution_count": 4
  },
  {
   "cell_type": "code",
   "outputs": [],
   "source": [
    "# prob = m.formulate_problem()\n",
    "# prob.process_constraints()"
   ],
   "metadata": {
    "collapsed": false,
    "ExecuteTime": {
     "end_time": "2025-06-16T20:34:48.119310Z",
     "start_time": "2025-06-16T20:34:48.105568Z"
    }
   },
   "id": "49df3c0c4d1c6719",
   "execution_count": 5
  },
  {
   "cell_type": "code",
   "outputs": [],
   "source": [
    "# solution = solve_mpqp(problem=prob, algorithm=mpqp_algorithm.combinatorial)"
   ],
   "metadata": {
    "collapsed": false,
    "ExecuteTime": {
     "end_time": "2025-06-16T20:34:48.134977Z",
     "start_time": "2025-06-16T20:34:48.120314Z"
    }
   },
   "id": "50065a3960349be6",
   "execution_count": 6
  },
  {
   "cell_type": "code",
   "outputs": [],
   "source": [
    "# psi_matrix = np.empty((len(solution), solution.critical_regions[0].A.shape[1] + solution.critical_regions[0].b.shape[1]))\n",
    "# psi_idx = 0"
   ],
   "metadata": {
    "collapsed": false,
    "ExecuteTime": {
     "end_time": "2025-06-16T20:34:48.150708Z",
     "start_time": "2025-06-16T20:34:48.136020Z"
    }
   },
   "id": "6c99a204ddb5afb5",
   "execution_count": 7
  },
  {
   "cell_type": "code",
   "outputs": [],
   "source": [
    "# psi_matrix"
   ],
   "metadata": {
    "collapsed": false,
    "ExecuteTime": {
     "end_time": "2025-06-16T20:34:48.165908Z",
     "start_time": "2025-06-16T20:34:48.151845Z"
    }
   },
   "id": "b3b1dfcd79c3ce24",
   "execution_count": 8
  },
  {
   "cell_type": "code",
   "outputs": [],
   "source": [
    "# np.concatenate([solution.critical_regions[0].A[0,:], solution.critical_regions[0].b[0,:]], axis=0)"
   ],
   "metadata": {
    "collapsed": false,
    "ExecuteTime": {
     "end_time": "2025-06-16T20:34:48.181611Z",
     "start_time": "2025-06-16T20:34:48.166967Z"
    }
   },
   "id": "67607e5542cdbe76",
   "execution_count": 9
  },
  {
   "cell_type": "code",
   "outputs": [],
   "source": [
    "# for i in range(len(solution.critical_regions)):\n",
    "#     psi_matrix[i] = np.concatenate([solution.critical_regions[i].A[psi_idx,:], solution.critical_regions[i].b[psi_idx,:]], axis=0)"
   ],
   "metadata": {
    "collapsed": false,
    "ExecuteTime": {
     "end_time": "2025-06-16T20:34:48.197300Z",
     "start_time": "2025-06-16T20:34:48.182649Z"
    }
   },
   "id": "f44f4d68309d2a22",
   "execution_count": 10
  },
  {
   "cell_type": "code",
   "outputs": [],
   "source": [
    "# psi_matrix"
   ],
   "metadata": {
    "collapsed": false,
    "ExecuteTime": {
     "end_time": "2025-06-16T20:34:48.213475Z",
     "start_time": "2025-06-16T20:34:48.198360Z"
    }
   },
   "id": "21a18c2ef6e386fc",
   "execution_count": 11
  },
  {
   "cell_type": "code",
   "outputs": [],
   "source": [
    "m_t1 = MPModeler()\n",
    "\n",
    "t1_max = m_t1.add_var('t1_max')\n",
    "t1_min = m_t1.add_var('t1_min')\n",
    "t2_a = m_t1.add_var('t2_a')\n",
    "t2_b = m_t1.add_var('t2_b')\n",
    "\n",
    "d1 = m_t1.add_param('d1')\n",
    "d2 = m_t1.add_param('d2')"
   ],
   "metadata": {
    "collapsed": false,
    "ExecuteTime": {
     "end_time": "2025-06-16T20:34:48.228116Z",
     "start_time": "2025-06-16T20:34:48.214518Z"
    }
   },
   "id": "49728a939841001d",
   "execution_count": 12
  },
  {
   "cell_type": "code",
   "outputs": [],
   "source": [
    "m_t1.add_constr(-2/3*t1_min - 1/4*t2_a +1/2*d1 - d2 +1/6 <= 0)\n",
    "m_t1.add_constr(1/3*t1_min -t2_a -1/2*d1 +1/2*d2 -1/3 <= 0)\n",
    "\n",
    "m_t1.add_constr(-2/3*t1_max - 1/4*t2_b +1/2*d1 - d2 +1/6 <= 0)\n",
    "m_t1.add_constr(1/3*t1_max -t2_b -1/2*d1 +1/2*d2 -1/3 <= 0)\n",
    "\n",
    "m_t1.add_constr(0 <= t1_max)\n",
    "m_t1.add_constr(t1_max <= 4)\n",
    "m_t1.add_constr(0 <= t1_min)\n",
    "m_t1.add_constr(t1_min <= 4)\n",
    "m_t1.add_constr(t1_min <= t1_max)\n",
    "\n",
    "m_t1.add_constr(0 <= t2_a)\n",
    "m_t1.add_constr(t2_a <= 4)\n",
    "m_t1.add_constr(0 <= t2_b)\n",
    "m_t1.add_constr(t2_b <= 4)\n",
    "\n",
    "m_t1.add_constr(0 <= d1)\n",
    "m_t1.add_constr(0 <= d2)\n",
    "m_t1.add_constr(d1 <= 5)\n",
    "m_t1.add_constr(d2 <= 5)"
   ],
   "metadata": {
    "collapsed": false,
    "ExecuteTime": {
     "end_time": "2025-06-16T20:34:48.243790Z",
     "start_time": "2025-06-16T20:34:48.229195Z"
    }
   },
   "id": "6156049d4f54b2fe",
   "execution_count": 13
  },
  {
   "cell_type": "code",
   "outputs": [],
   "source": [
    "m_t1.set_objective(t1_min-t1_max)"
   ],
   "metadata": {
    "collapsed": false,
    "ExecuteTime": {
     "end_time": "2025-06-16T20:34:48.260062Z",
     "start_time": "2025-06-16T20:34:48.246938Z"
    }
   },
   "id": "cc9e3f386b07e85f",
   "execution_count": 14
  },
  {
   "cell_type": "code",
   "outputs": [
    {
     "name": "stdout",
     "output_type": "stream",
     "text": [
      "Set parameter Username\n",
      "Academic license - for non-commercial use only - expires 2025-12-20\n"
     ]
    }
   ],
   "source": [
    "prob_t1 = m_t1.formulate_problem()\n",
    "prob_t1.process_constraints()"
   ],
   "metadata": {
    "collapsed": false,
    "ExecuteTime": {
     "end_time": "2025-06-16T20:34:48.383343Z",
     "start_time": "2025-06-16T20:34:48.261222Z"
    }
   },
   "id": "ae98ad018d261b78",
   "execution_count": 15
  },
  {
   "cell_type": "code",
   "outputs": [
    {
     "name": "stdout",
     "output_type": "stream",
     "text": [
      "Using a found active set [5, 6, 10, 12]\n"
     ]
    }
   ],
   "source": [
    "solution_t1 = solve_mpqp(problem=prob_t1, algorithm=mpqp_algorithm.geometric)"
   ],
   "metadata": {
    "collapsed": false,
    "ExecuteTime": {
     "end_time": "2025-06-16T20:34:48.414640Z",
     "start_time": "2025-06-16T20:34:48.384378Z"
    }
   },
   "id": "a60c7f4edd7fa8ed",
   "execution_count": 16
  },
  {
   "cell_type": "code",
   "outputs": [
    {
     "name": "stdout",
     "output_type": "stream",
     "text": [
      "Number of critical regions: 2\n"
     ]
    }
   ],
   "source": [
    "print(f'Number of critical regions: {len(solution_t1)}')"
   ],
   "metadata": {
    "collapsed": false,
    "ExecuteTime": {
     "end_time": "2025-06-16T20:34:48.430777Z",
     "start_time": "2025-06-16T20:34:48.415754Z"
    }
   },
   "id": "1c9d07401627dd98",
   "execution_count": 17
  },
  {
   "cell_type": "code",
   "outputs": [
    {
     "data": {
      "text/plain": "<Figure size 640x480 with 1 Axes>",
      "image/png": "[encoded data removed]"
     },
     "metadata": {},
     "output_type": "display_data"
    }
   ],
   "source": [
    "parametric_plot(solution_t1, show=True)"
   ],
   "metadata": {
    "collapsed": false,
    "ExecuteTime": {
     "end_time": "2025-06-16T20:34:48.508918Z",
     "start_time": "2025-06-16T20:34:48.431856Z"
    }
   },
   "id": "4ff8d0ba58f67e1",
   "execution_count": 18
  },
  {
   "cell_type": "code",
   "outputs": [],
   "source": [
    "m_t2 = MPModeler()\n",
    "\n",
    "t2_max = m_t2.add_var('t2_max')\n",
    "t2_min = m_t2.add_var('t2_min')\n",
    "\n",
    "t1 = m_t2.add_param('t1')\n",
    "d1 = m_t2.add_param('d1')\n",
    "d2 = m_t2.add_param('d2')"
   ],
   "metadata": {
    "collapsed": false,
    "ExecuteTime": {
     "end_time": "2025-06-16T20:34:48.524146Z",
     "start_time": "2025-06-16T20:34:48.509974Z"
    }
   },
   "id": "deb521e711c51503",
   "execution_count": 19
  },
  {
   "cell_type": "code",
   "outputs": [],
   "source": [
    "m_t2.add_constr(-2/3*t1 - 1/4*t2_max +1/2*d1 - d2 +1/6 <= 0)\n",
    "m_t2.add_constr(1/3*t1 -t2_max -1/2*d1 +1/2*d2 -1/3 <= 0)\n",
    "\n",
    "m_t2.add_constr(-2/3*t1 - 1/4*t2_min +1/2*d1 - d2 +1/6 <= 0)\n",
    "m_t2.add_constr(1/3*t1 -t2_min -1/2*d1 +1/2*d2 -1/3 <= 0)\n",
    "\n",
    "m_t2.add_constr(0 <= t2_max)\n",
    "m_t2.add_constr(t2_max <= 4)\n",
    "m_t2.add_constr(0 <= t2_min)\n",
    "m_t2.add_constr(t2_min <= 4)\n",
    "m_t2.add_constr(t2_min <= t2_max)\n",
    "\n",
    "m_t2.add_constr(0 <= t1)\n",
    "m_t2.add_constr(t1 <= 4)\n",
    "m_t2.add_constr(0 <= d1)\n",
    "m_t2.add_constr(0 <= d2)\n",
    "m_t2.add_constr(d1 <= 5)\n",
    "m_t2.add_constr(d2 <= 5)"
   ],
   "metadata": {
    "collapsed": false,
    "ExecuteTime": {
     "end_time": "2025-06-16T20:34:48.539983Z",
     "start_time": "2025-06-16T20:34:48.525185Z"
    }
   },
   "id": "44dd5e2e6af6384",
   "execution_count": 20
  },
  {
   "cell_type": "code",
   "outputs": [],
   "source": [
    "m_t2.set_objective(-(t2_max-t2_min))"
   ],
   "metadata": {
    "collapsed": false,
    "ExecuteTime": {
     "end_time": "2025-06-16T20:34:48.555642Z",
     "start_time": "2025-06-16T20:34:48.541104Z"
    }
   },
   "id": "51ada1d2acc6f4e0",
   "execution_count": 21
  },
  {
   "cell_type": "code",
   "outputs": [],
   "source": [
    "prob_t2 = m_t2.formulate_problem()\n",
    "prob_t2.process_constraints()"
   ],
   "metadata": {
    "collapsed": false,
    "ExecuteTime": {
     "end_time": "2025-06-16T20:34:48.586737Z",
     "start_time": "2025-06-16T20:34:48.556711Z"
    }
   },
   "id": "a80a6f045b6b48d",
   "execution_count": 22
  },
  {
   "cell_type": "code",
   "outputs": [
    {
     "name": "stdout",
     "output_type": "stream",
     "text": [
      "Using a found active set [3, 5]\n"
     ]
    }
   ],
   "source": [
    "solution_t2 = solve_mpqp(problem=prob_t2, algorithm=mpqp_algorithm.geometric)"
   ],
   "metadata": {
    "collapsed": false,
    "ExecuteTime": {
     "end_time": "2025-06-16T20:34:48.633326Z",
     "start_time": "2025-06-16T20:34:48.587789Z"
    }
   },
   "id": "a2582f2379ac9ba",
   "execution_count": 23
  },
  {
   "cell_type": "code",
   "outputs": [
    {
     "name": "stdout",
     "output_type": "stream",
     "text": [
      "Number of critical regions: 3\n"
     ]
    }
   ],
   "source": [
    "print(f'Number of critical regions: {len(solution_t2)}')"
   ],
   "metadata": {
    "collapsed": false,
    "ExecuteTime": {
     "end_time": "2025-06-16T20:34:48.648084Z",
     "start_time": "2025-06-16T20:34:48.634393Z"
    }
   },
   "id": "e9ded25299998a19",
   "execution_count": 24
  },
  {
   "cell_type": "code",
   "outputs": [],
   "source": [
    "# np.concatenate([crt2_list[2].A, crt2_list[2].b], axis=1)[:2, :]"
   ],
   "metadata": {
    "collapsed": false,
    "ExecuteTime": {
     "end_time": "2025-06-16T20:34:48.663253Z",
     "start_time": "2025-06-16T20:34:48.649122Z"
    }
   },
   "id": "e896afe874149ebc",
   "execution_count": 25
  },
  {
   "cell_type": "code",
   "outputs": [],
   "source": [
    "def gauss_legendre_between_bounds(expr_coeffs: np.ndarray, n_gl: int, max_idx: int = 0, min_idx: int = 1):\n",
    "    \"\"\"\n",
    "    Generate n Gauss–Legendre quadrature points and weights between min and max bounds\n",
    "    defined by two linear expressions.\n",
    "\n",
    "    Parameters:\n",
    "        expr_coeffs (np.ndarray): 2xD array. Row 0 = max point coefficients, Row 1 = min.\n",
    "        n (int): Number of quadrature points.\n",
    "\n",
    "    Returns:\n",
    "        points (np.ndarray): (n, D) array of quadrature points.\n",
    "        weights (np.ndarray): (n,) array of weights.\n",
    "    \"\"\"\n",
    "    if expr_coeffs.shape[0] != 2:\n",
    "        raise ValueError(\"expr_coeffs must have two rows\")\n",
    "\n",
    "    max_coeffs = expr_coeffs[max_idx]\n",
    "    min_coeffs = expr_coeffs[min_idx]\n",
    "\n",
    "    # Get Gauss–Legendre points and weights on [-1, 1]\n",
    "    nodes, weights = leggauss(n_gl)\n",
    "    weights = weights.reshape(-1,1)\n",
    "    \n",
    "    # Affine transformation to domain [min_coeffs, max_coeffs]\n",
    "    points = 0.5 * (np.outer((nodes + 1), max_coeffs) + np.outer((1 - nodes), min_coeffs))\n",
    "\n",
    "    # Adjust weights to match new domain\n",
    "    weights = 0.5 * weights@(max_coeffs - min_coeffs).reshape(1,-1)\n",
    "\n",
    "    return points, weights\n"
   ],
   "metadata": {
    "collapsed": false,
    "ExecuteTime": {
     "end_time": "2025-06-16T20:34:48.678100Z",
     "start_time": "2025-06-16T20:34:48.664341Z"
    }
   },
   "id": "23d735c967b8329",
   "execution_count": 26
  },
  {
   "cell_type": "code",
   "outputs": [],
   "source": [
    "# # Example: 2D line segment from [0,0] (min) to [1,1] (max)\n",
    "# # coeffs = np.array([\n",
    "# #     [0, 0, 4],  # max point\n",
    "# #     [0, 0, 0],  # min point\n",
    "# # ])\n",
    "# \n",
    "# coeffs = np.array([\n",
    "#     [0, 0, 4],\n",
    "#     [0.75,-1.5,-1.25]\n",
    "# ])\n",
    "# \n",
    "# # coeffs = np.array([\n",
    "# #     [0.000000,0.0,0.0,4.000000],\n",
    "# #     [-2.666667,2.0,-4.0,0.666667]\n",
    "# # ])\n",
    "# \n",
    "# points, weights = gauss_legendre_between_bounds(expr_coeffs=coeffs, n_gl=5)\n",
    "# \n",
    "# print(\"Points Mapped:\\n\", points)\n",
    "# print(\"Weights Mapped:\\n\", weights)"
   ],
   "metadata": {
    "collapsed": false,
    "ExecuteTime": {
     "end_time": "2025-06-16T20:34:48.693707Z",
     "start_time": "2025-06-16T20:34:48.679165Z"
    }
   },
   "id": "b2b67d20409ebeb2",
   "execution_count": 27
  },
  {
   "cell_type": "code",
   "outputs": [],
   "source": [
    "def recursive_defaultdict():\n",
    "    return defaultdict(recursive_defaultdict)"
   ],
   "metadata": {
    "collapsed": false,
    "ExecuteTime": {
     "end_time": "2025-06-16T20:34:48.709551Z",
     "start_time": "2025-06-16T20:34:48.694786Z"
    }
   },
   "id": "a9c917e26cb831ec",
   "execution_count": 28
  },
  {
   "cell_type": "code",
   "outputs": [],
   "source": [
    "def get_quadrature_solutions(solutions: list, nq: Union[list, int] = 5):\n",
    "    \"\"\"\n",
    "    Computes Gauss-Legendre quadrature points and weights for each critical region \n",
    "    in a list of parametric solutions.\n",
    "\n",
    "    Parameters:\n",
    "    -----------\n",
    "    solutions : list\n",
    "        A list where each element is a parametric solution object\n",
    "    \n",
    "    nq : int or list of int, default=5\n",
    "        Number of Gauss-Legendre points to use in the quadrature.\n",
    "        If a list is provided, it must match the length of `solutions`,\n",
    "        allowing different numbers of points for each theta\n",
    "\n",
    "    Returns:\n",
    "    --------\n",
    "    qps : defaultdict\n",
    "        Nested dictionary containing quadrature points for each theta (`t`) \n",
    "        and critical region (`cr`). Each entry includes:\n",
    "            - 'data': the actual quadrature points\n",
    "            - 'region': the associated critical region object\n",
    "\n",
    "    qws : defaultdict\n",
    "        Same structure as `qps`, but containing the corresponding quadrature weights.\n",
    "    \"\"\"\n",
    "    # Initialize nested default dicts to store quadrature points and weights\n",
    "    qps, qws = recursive_defaultdict(), recursive_defaultdict()\n",
    "\n",
    "    # Loop over each theta\n",
    "    for t in range(len(solutions)):\n",
    "        # Extract list of critical regions for this solution\n",
    "        cr_list = list(solutions[t].critical_regions)\n",
    "\n",
    "        # Determine number of quadrature points for this theta\n",
    "        nqs = nq[t] if isinstance(nq, list) else nq\n",
    "\n",
    "        # Loop over each critical region\n",
    "        for cr in range(len(cr_list)):\n",
    "            # Extract coefficients (first 2 states) for defining integration bounds\n",
    "            coeffs = np.concatenate([cr_list[cr].A, cr_list[cr].b], axis=1)[:2, :]\n",
    "\n",
    "            # Compute quadrature points and weights for the critical region\n",
    "            qps[f't{t+1}'][f'cr{cr+1}']['data'], qws[f't{t+1}'][f'cr{cr+1}']['data'] = \\\n",
    "                gauss_legendre_between_bounds(expr_coeffs=coeffs, n_gl=nqs)\n",
    "\n",
    "            # Also store the region object for reference\n",
    "            qps[f't{t+1}'][f'cr{cr+1}']['region'] = cr_list[cr]\n",
    "            qws[f't{t+1}'][f'cr{cr+1}']['region'] = cr_list[cr]\n",
    "\n",
    "    return qps, qws"
   ],
   "metadata": {
    "collapsed": false,
    "ExecuteTime": {
     "end_time": "2025-06-16T20:34:48.725427Z",
     "start_time": "2025-06-16T20:34:48.710606Z"
    }
   },
   "id": "d4f900320475525f",
   "execution_count": 29
  },
  {
   "cell_type": "code",
   "outputs": [],
   "source": [
    "qpoints, qweights = get_quadrature_solutions(solutions = [solution_t1], nq=5)"
   ],
   "metadata": {
    "collapsed": false,
    "ExecuteTime": {
     "end_time": "2025-06-16T20:34:48.741244Z",
     "start_time": "2025-06-16T20:34:48.726575Z"
    }
   },
   "id": "4111bc580b4c0820",
   "execution_count": 30
  },
  {
   "cell_type": "code",
   "outputs": [],
   "source": [
    "def get_quadrature_points(solution, nq: int, t_vector: np.ndarray):\n",
    "    for region in solution.critical_regions:\n",
    "        if region.is_inside(t_vector):\n",
    "            coeffs = np.concatenate([region.A, region.b], axis=1)[:2, :]\n",
    "            qpoints, qweights = gauss_legendre_between_bounds(expr_coeffs=coeffs, n_gl=nq)\n",
    "            t_vector = np.concatenate([t_vector, np.array([1])], axis=0).reshape(-1,1)\n",
    "            return qpoints@t_vector.reshape(-1,1), qweights@t_vector.reshape(-1,1)"
   ],
   "metadata": {
    "collapsed": false,
    "ExecuteTime": {
     "end_time": "2025-06-16T20:50:13.873110Z",
     "start_time": "2025-06-16T20:50:13.867907Z"
    }
   },
   "id": "3944885fa1f4c56f",
   "execution_count": 41
  },
  {
   "cell_type": "code",
   "outputs": [],
   "source": [
    "d_vector = np.array([4, 0.5])"
   ],
   "metadata": {
    "collapsed": false,
    "ExecuteTime": {
     "end_time": "2025-06-16T20:50:13.888855Z",
     "start_time": "2025-06-16T20:50:13.879456Z"
    }
   },
   "id": "4cb3f4b4f32375b2",
   "execution_count": 42
  },
  {
   "cell_type": "code",
   "outputs": [],
   "source": [
    "t1_points, t1_weights = get_quadrature_points(solution=solution_t1, nq=5, t_vector=d_vector)"
   ],
   "metadata": {
    "collapsed": false,
    "ExecuteTime": {
     "end_time": "2025-06-16T20:50:13.920649Z",
     "start_time": "2025-06-16T20:50:13.913345Z"
    }
   },
   "id": "b26312a1e28e6724",
   "execution_count": 43
  },
  {
   "cell_type": "code",
   "outputs": [
    {
     "data": {
      "text/plain": "array([[1.14073023],\n       [1.69229603],\n       [2.5       ],\n       [3.30770397],\n       [3.85926977]])"
     },
     "execution_count": 44,
     "metadata": {},
     "output_type": "execute_result"
    }
   ],
   "source": [
    "t1_points"
   ],
   "metadata": {
    "collapsed": false,
    "ExecuteTime": {
     "end_time": "2025-06-16T20:50:13.936556Z",
     "start_time": "2025-06-16T20:50:13.921743Z"
    }
   },
   "id": "dc74d2b1a80795af",
   "execution_count": 44
  },
  {
   "cell_type": "code",
   "outputs": [
    {
     "data": {
      "text/plain": "array([[0.35539033],\n       [0.71794301],\n       [0.85333333],\n       [0.71794301],\n       [0.35539033]])"
     },
     "execution_count": 45,
     "metadata": {},
     "output_type": "execute_result"
    }
   ],
   "source": [
    "t1_weights"
   ],
   "metadata": {
    "collapsed": false,
    "ExecuteTime": {
     "end_time": "2025-06-16T20:50:13.952310Z",
     "start_time": "2025-06-16T20:50:13.937617Z"
    }
   },
   "id": "32c9660a7f3f1a9a",
   "execution_count": 45
  },
  {
   "cell_type": "code",
   "outputs": [],
   "source": [
    "t2_points, t2_weights = defaultdict(dict), defaultdict(dict)\n",
    "for t1_idx in range(len(t1_points)):\n",
    "    t2_points[t1_idx], t2_weights[t1_idx] = get_quadrature_points(solution=solution_t2, nq=5, t_vector=np.block([t1_points[t1_idx], d_vector]))"
   ],
   "metadata": {
    "collapsed": false,
    "ExecuteTime": {
     "end_time": "2025-06-16T20:51:45.256698Z",
     "start_time": "2025-06-16T20:51:45.242786Z"
    }
   },
   "id": "f99b8c8ceb1d0d80",
   "execution_count": 49
  },
  {
   "cell_type": "code",
   "outputs": [
    {
     "data": {
      "text/plain": "defaultdict(dict,\n            {0: array([[3.64232383],\n                    [3.71132114],\n                    [3.81235969],\n                    [3.91339824],\n                    [3.98239556]]),\n             1: array([[2.240479  ],\n                    [2.5798984 ],\n                    [3.07693862],\n                    [3.57397884],\n                    [3.91339824]]),\n             2: array([[0.18764031],\n                    [0.92306138],\n                    [2.        ],\n                    [3.07693862],\n                    [3.81235969]]),\n             3: array([[0.18764031],\n                    [0.92306138],\n                    [2.        ],\n                    [3.07693862],\n                    [3.81235969]]),\n             4: array([[0.18764031],\n                    [0.92306138],\n                    [2.        ],\n                    [3.07693862],\n                    [3.81235969]])})"
     },
     "execution_count": 51,
     "metadata": {},
     "output_type": "execute_result"
    }
   ],
   "source": [
    "t2_points"
   ],
   "metadata": {
    "collapsed": false,
    "ExecuteTime": {
     "end_time": "2025-06-16T20:51:55.760525Z",
     "start_time": "2025-06-16T20:51:55.743694Z"
    }
   },
   "id": "fdb2d412bb757748",
   "execution_count": 51
  },
  {
   "cell_type": "code",
   "outputs": [
    {
     "data": {
      "text/plain": "defaultdict(dict,\n            {0: array([[0.04445703],\n                    [0.08981003],\n                    [0.10674649],\n                    [0.08981003],\n                    [0.04445703]]),\n             1: array([[0.21869806],\n                    [0.44180364],\n                    [0.52511936],\n                    [0.44180364],\n                    [0.21869806]]),\n             2: array([[0.47385377],\n                    [0.95725734],\n                    [1.13777778],\n                    [0.95725734],\n                    [0.47385377]]),\n             3: array([[0.47385377],\n                    [0.95725734],\n                    [1.13777778],\n                    [0.95725734],\n                    [0.47385377]]),\n             4: array([[0.47385377],\n                    [0.95725734],\n                    [1.13777778],\n                    [0.95725734],\n                    [0.47385377]])})"
     },
     "execution_count": 52,
     "metadata": {},
     "output_type": "execute_result"
    }
   ],
   "source": [
    "t2_weights"
   ],
   "metadata": {
    "collapsed": false,
    "ExecuteTime": {
     "end_time": "2025-06-16T20:52:36.800880Z",
     "start_time": "2025-06-16T20:52:36.796528Z"
    }
   },
   "id": "c622f438741b525e",
   "execution_count": 52
  },
  {
   "cell_type": "code",
   "outputs": [
    {
     "name": "stdout",
     "output_type": "stream",
     "text": [
      "Points Mapped: [3.64232441 3.71132162 3.81236    3.91339838 3.98239559]\n",
      "\n",
      "Weights Mapped: [0.04445696 0.08980988 0.10674631 0.08980988 0.04445696]\n"
     ]
    }
   ],
   "source": [
    "n=5\n",
    "points, weights = np.polynomial.legendre.leggauss(n)\n",
    "a, b = 3.62472, 4  # Example new interval\n",
    "\n",
    "# Change of variable to map from [-1,1] to [a,b]\n",
    "points_mapped = 0.5 * ((points + 1) * b + (1-points) * a)\n",
    "weights_mapped = 0.5 * (b-a) * weights\n",
    "\n",
    "print(f'Points Mapped: {points_mapped}\\n')\n",
    "print(f'Weights Mapped: {weights_mapped}')"
   ],
   "metadata": {
    "collapsed": false,
    "ExecuteTime": {
     "end_time": "2025-06-16T21:00:34.366633Z",
     "start_time": "2025-06-16T21:00:34.353828Z"
    }
   },
   "id": "1a228b788cceb548",
   "execution_count": 53
  },
  {
   "cell_type": "code",
   "outputs": [],
   "source": [],
   "metadata": {
    "collapsed": false
   },
   "id": "976706f3a26ff7fd"
  }
 ],
 "metadata": {
  "kernelspec": {
   "display_name": "Python 3",
   "language": "python",
   "name": "python3"
  },
  "language_info": {
   "codemirror_mode": {
    "name": "ipython",
    "version": 2
   },
   "file_extension": ".py",
   "mimetype": "text/x-python",
   "name": "python",
   "nbconvert_exporter": "python",
   "pygments_lexer": "ipython2",
   "version": "2.7.6"
  }
 },
 "nbformat": 4,
 "nbformat_minor": 5
}
