{
 "cells": [
  {
   "cell_type": "code",
   "id": "initial_id",
   "metadata": {
    "collapsed": true,
    "ExecuteTime": {
     "end_time": "2025-06-18T12:42:09.024480Z",
     "start_time": "2025-06-18T12:42:09.019535Z"
    }
   },
   "source": [
    "import numpy as np\n",
    "import ppopt.critical_region\n",
    "from ppopt.mpmodel import MPModeler\n",
    "from ppopt.mp_solvers.solve_mpqp import solve_mpqp, mpqp_algorithm\n",
    "from ppopt.plot import parametric_plot\n",
    "from numpy.polynomial.legendre import leggauss\n",
    "import copy\n",
    "from typing import Union\n",
    "from collections import defaultdict"
   ],
   "outputs": [],
   "execution_count": 39
  },
  {
   "cell_type": "code",
   "source": [
    "# m = MPModeler()\n",
    "# \n",
    "# u = m.add_var(name='u')\n",
    "# x = m.add_var(name='x')\n",
    "# z = m.add_var(name='z')\n",
    "# \n",
    "# t1 = m.add_param(name='t1')\n",
    "# t2 = m.add_param(name='t2')\n",
    "# d1 = m.add_param(name='d1')\n",
    "# d2 = m.add_param(name='d2')"
   ],
   "metadata": {
    "collapsed": false,
    "ExecuteTime": {
     "end_time": "2025-06-18T12:42:09.071908Z",
     "start_time": "2025-06-18T12:42:09.070023Z"
    }
   },
   "id": "765b20fd3425e4be",
   "outputs": [],
   "execution_count": 40
  },
  {
   "cell_type": "code",
   "source": [
    "# m.add_constr(2*x - 3*z + t1 - d2 == 0)\n",
    "# m.add_constr(x - z/2 -t1/2 +t2/2 +d1 -7*d2/2 <= u)\n",
    "# m.add_constr(-2*x +2*z -4*t1/3 -t2 +2*d2 +1/3<= u)\n",
    "# m.add_constr(-x + 5*z/2 +t1/2 -t2 -d1 +d2/2 -1 <= u)\n",
    "# m.add_constr(-50 <= x)\n",
    "# m.add_constr(0-50 <= z)\n",
    "# m.add_constr(0 <= t1)\n",
    "# m.add_constr(0 <= t2)\n",
    "# m.add_constr(0 <= d1)\n",
    "# m.add_constr(0 <= d2)\n",
    "# m.add_constr(t1 <= 4)\n",
    "# m.add_constr(t2 <= 4)\n",
    "# m.add_constr(d1 <= 5)\n",
    "# m.add_constr(d2 <= 5)"
   ],
   "metadata": {
    "collapsed": false,
    "ExecuteTime": {
     "end_time": "2025-06-18T12:42:09.094521Z",
     "start_time": "2025-06-18T12:42:09.092631Z"
    }
   },
   "id": "1b927d79a8f8030a",
   "outputs": [],
   "execution_count": 41
  },
  {
   "cell_type": "code",
   "source": [
    "# m.set_objective(u)"
   ],
   "metadata": {
    "collapsed": false,
    "ExecuteTime": {
     "end_time": "2025-06-18T12:42:09.111856Z",
     "start_time": "2025-06-18T12:42:09.109867Z"
    }
   },
   "id": "b210c01d1f720d21",
   "outputs": [],
   "execution_count": 42
  },
  {
   "cell_type": "code",
   "source": [
    "# prob = m.formulate_problem()\n",
    "# prob.process_constraints()"
   ],
   "metadata": {
    "collapsed": false,
    "ExecuteTime": {
     "end_time": "2025-06-18T12:42:09.114931Z",
     "start_time": "2025-06-18T12:42:09.113476Z"
    }
   },
   "id": "49df3c0c4d1c6719",
   "outputs": [],
   "execution_count": 43
  },
  {
   "cell_type": "code",
   "source": [
    "# solution = solve_mpqp(problem=prob, algorithm=mpqp_algorithm.combinatorial)"
   ],
   "metadata": {
    "collapsed": false,
    "ExecuteTime": {
     "end_time": "2025-06-18T12:42:09.139558Z",
     "start_time": "2025-06-18T12:42:09.137663Z"
    }
   },
   "id": "50065a3960349be6",
   "outputs": [],
   "execution_count": 44
  },
  {
   "cell_type": "code",
   "source": [
    "# psi_matrix = np.empty((len(solution), solution.critical_regions[0].A.shape[1] + solution.critical_regions[0].b.shape[1]))\n",
    "# psi_idx = 0"
   ],
   "metadata": {
    "collapsed": false,
    "ExecuteTime": {
     "end_time": "2025-06-18T12:42:09.154882Z",
     "start_time": "2025-06-18T12:42:09.153221Z"
    }
   },
   "id": "6c99a204ddb5afb5",
   "outputs": [],
   "execution_count": 45
  },
  {
   "cell_type": "code",
   "source": [
    "# psi_matrix"
   ],
   "metadata": {
    "collapsed": false,
    "ExecuteTime": {
     "end_time": "2025-06-18T12:42:09.163468Z",
     "start_time": "2025-06-18T12:42:09.161819Z"
    }
   },
   "id": "b3b1dfcd79c3ce24",
   "outputs": [],
   "execution_count": 46
  },
  {
   "cell_type": "code",
   "source": [
    "# np.concatenate([solution.critical_regions[0].A[0,:], solution.critical_regions[0].b[0,:]], axis=0)"
   ],
   "metadata": {
    "collapsed": false,
    "ExecuteTime": {
     "end_time": "2025-06-18T12:42:09.173443Z",
     "start_time": "2025-06-18T12:42:09.171901Z"
    }
   },
   "id": "67607e5542cdbe76",
   "outputs": [],
   "execution_count": 47
  },
  {
   "cell_type": "code",
   "source": [
    "# for i in range(len(solution.critical_regions)):\n",
    "#     psi_matrix[i] = np.concatenate([solution.critical_regions[i].A[psi_idx,:], solution.critical_regions[i].b[psi_idx,:]], axis=0)"
   ],
   "metadata": {
    "collapsed": false,
    "ExecuteTime": {
     "end_time": "2025-06-18T12:42:09.189059Z",
     "start_time": "2025-06-18T12:42:09.187141Z"
    }
   },
   "id": "f44f4d68309d2a22",
   "outputs": [],
   "execution_count": 48
  },
  {
   "cell_type": "code",
   "source": [
    "# psi_matrix"
   ],
   "metadata": {
    "collapsed": false,
    "ExecuteTime": {
     "end_time": "2025-06-18T12:42:09.192220Z",
     "start_time": "2025-06-18T12:42:09.190799Z"
    }
   },
   "id": "21a18c2ef6e386fc",
   "outputs": [],
   "execution_count": 49
  },
  {
   "cell_type": "code",
   "source": [
    "m_t1 = MPModeler()\n",
    "\n",
    "t1_max = m_t1.add_var('t1_max')\n",
    "t1_min = m_t1.add_var('t1_min')\n",
    "t2_a = m_t1.add_var('t2_a')\n",
    "t2_b = m_t1.add_var('t2_b')\n",
    "\n",
    "d1 = m_t1.add_param('d1')\n",
    "d2 = m_t1.add_param('d2')"
   ],
   "metadata": {
    "collapsed": false,
    "ExecuteTime": {
     "end_time": "2025-06-18T12:42:09.209645Z",
     "start_time": "2025-06-18T12:42:09.207246Z"
    }
   },
   "id": "49728a939841001d",
   "outputs": [],
   "execution_count": 50
  },
  {
   "cell_type": "code",
   "source": [
    "m_t1.add_constr(-2/3*t1_min - 1/4*t2_a +1/2*d1 - d2 +1/6 <= 0)\n",
    "m_t1.add_constr(1/3*t1_min -t2_a -1/2*d1 +1/2*d2 -1/3 <= 0)\n",
    "\n",
    "m_t1.add_constr(-2/3*t1_max - 1/4*t2_b +1/2*d1 - d2 +1/6 <= 0)\n",
    "m_t1.add_constr(1/3*t1_max -t2_b -1/2*d1 +1/2*d2 -1/3 <= 0)\n",
    "\n",
    "m_t1.add_constr(0 <= t1_max)\n",
    "m_t1.add_constr(t1_max <= 4)\n",
    "m_t1.add_constr(0 <= t1_min)\n",
    "m_t1.add_constr(t1_min <= 4)\n",
    "m_t1.add_constr(t1_min <= t1_max)\n",
    "\n",
    "m_t1.add_constr(0 <= t2_a)\n",
    "m_t1.add_constr(t2_a <= 4)\n",
    "m_t1.add_constr(0 <= t2_b)\n",
    "m_t1.add_constr(t2_b <= 4)\n",
    "\n",
    "m_t1.add_constr(0 <= d1)\n",
    "m_t1.add_constr(0 <= d2)\n",
    "m_t1.add_constr(d1 <= 5)\n",
    "m_t1.add_constr(d2 <= 5)"
   ],
   "metadata": {
    "collapsed": false,
    "ExecuteTime": {
     "end_time": "2025-06-18T12:42:09.224862Z",
     "start_time": "2025-06-18T12:42:09.221397Z"
    }
   },
   "id": "6156049d4f54b2fe",
   "outputs": [],
   "execution_count": 51
  },
  {
   "cell_type": "code",
   "source": [
    "m_t1.set_objective(t1_min-t1_max)"
   ],
   "metadata": {
    "collapsed": false,
    "ExecuteTime": {
     "end_time": "2025-06-18T12:42:09.227389Z",
     "start_time": "2025-06-18T12:42:09.225947Z"
    }
   },
   "id": "cc9e3f386b07e85f",
   "outputs": [],
   "execution_count": 52
  },
  {
   "cell_type": "code",
   "source": [
    "prob_t1 = m_t1.formulate_problem()\n",
    "prob_t1.process_constraints()"
   ],
   "metadata": {
    "collapsed": false,
    "ExecuteTime": {
     "end_time": "2025-06-18T12:42:09.249318Z",
     "start_time": "2025-06-18T12:42:09.236443Z"
    }
   },
   "id": "ae98ad018d261b78",
   "outputs": [],
   "execution_count": 53
  },
  {
   "cell_type": "code",
   "source": [
    "solution_t1 = solve_mpqp(problem=prob_t1, algorithm=mpqp_algorithm.geometric)"
   ],
   "metadata": {
    "collapsed": false,
    "ExecuteTime": {
     "end_time": "2025-06-18T12:42:09.262512Z",
     "start_time": "2025-06-18T12:42:09.250408Z"
    }
   },
   "id": "a60c7f4edd7fa8ed",
   "outputs": [
    {
     "name": "stdout",
     "output_type": "stream",
     "text": [
      "Using a found active set [5, 6, 10, 12]\n"
     ]
    }
   ],
   "execution_count": 54
  },
  {
   "cell_type": "code",
   "source": [
    "print(f'Number of critical regions: {len(solution_t1)}')"
   ],
   "metadata": {
    "collapsed": false,
    "ExecuteTime": {
     "end_time": "2025-06-18T12:42:09.265419Z",
     "start_time": "2025-06-18T12:42:09.263516Z"
    }
   },
   "id": "1c9d07401627dd98",
   "outputs": [
    {
     "name": "stdout",
     "output_type": "stream",
     "text": [
      "Number of critical regions: 2\n"
     ]
    }
   ],
   "execution_count": 55
  },
  {
   "cell_type": "code",
   "source": [
    "parametric_plot(solution_t1, show=True)"
   ],
   "metadata": {
    "collapsed": false,
    "ExecuteTime": {
     "end_time": "2025-06-18T12:42:09.317043Z",
     "start_time": "2025-06-18T12:42:09.274330Z"
    }
   },
   "id": "4ff8d0ba58f67e1",
   "outputs": [
    {
     "data": {
      "text/plain": [
       "<Figure size 640x480 with 1 Axes>"
      ],
      "image/png": "[encoded data removed]"
     },
     "metadata": {},
     "output_type": "display_data"
    }
   ],
   "execution_count": 56
  },
  {
   "cell_type": "code",
   "source": [
    "m_t2 = MPModeler()\n",
    "\n",
    "t2_max = m_t2.add_var('t2_max')\n",
    "t2_min = m_t2.add_var('t2_min')\n",
    "\n",
    "t1 = m_t2.add_param('t1')\n",
    "d1 = m_t2.add_param('d1')\n",
    "d2 = m_t2.add_param('d2')"
   ],
   "metadata": {
    "collapsed": false,
    "ExecuteTime": {
     "end_time": "2025-06-18T12:42:09.320405Z",
     "start_time": "2025-06-18T12:42:09.318288Z"
    }
   },
   "id": "deb521e711c51503",
   "outputs": [],
   "execution_count": 57
  },
  {
   "cell_type": "code",
   "source": [
    "m_t2.add_constr(-2/3*t1 - 1/4*t2_max +1/2*d1 - d2 +1/6 <= 0)\n",
    "m_t2.add_constr(1/3*t1 -t2_max -1/2*d1 +1/2*d2 -1/3 <= 0)\n",
    "\n",
    "m_t2.add_constr(-2/3*t1 - 1/4*t2_min +1/2*d1 - d2 +1/6 <= 0)\n",
    "m_t2.add_constr(1/3*t1 -t2_min -1/2*d1 +1/2*d2 -1/3 <= 0)\n",
    "\n",
    "m_t2.add_constr(0 <= t2_max)\n",
    "m_t2.add_constr(t2_max <= 4)\n",
    "m_t2.add_constr(0 <= t2_min)\n",
    "m_t2.add_constr(t2_min <= 4)\n",
    "m_t2.add_constr(t2_min <= t2_max)\n",
    "\n",
    "m_t2.add_constr(0 <= t1)\n",
    "m_t2.add_constr(t1 <= 4)\n",
    "m_t2.add_constr(0 <= d1)\n",
    "m_t2.add_constr(0 <= d2)\n",
    "m_t2.add_constr(d1 <= 5)\n",
    "m_t2.add_constr(d2 <= 5)"
   ],
   "metadata": {
    "collapsed": false,
    "ExecuteTime": {
     "end_time": "2025-06-18T12:42:09.325843Z",
     "start_time": "2025-06-18T12:42:09.322896Z"
    }
   },
   "id": "44dd5e2e6af6384",
   "outputs": [],
   "execution_count": 58
  },
  {
   "cell_type": "code",
   "source": [
    "m_t2.set_objective(-(t2_max-t2_min))"
   ],
   "metadata": {
    "collapsed": false,
    "ExecuteTime": {
     "end_time": "2025-06-18T12:42:09.364926Z",
     "start_time": "2025-06-18T12:42:09.362747Z"
    }
   },
   "id": "51ada1d2acc6f4e0",
   "outputs": [],
   "execution_count": 59
  },
  {
   "cell_type": "code",
   "source": [
    "prob_t2 = m_t2.formulate_problem()\n",
    "prob_t2.process_constraints()"
   ],
   "metadata": {
    "collapsed": false,
    "ExecuteTime": {
     "end_time": "2025-06-18T12:42:09.423419Z",
     "start_time": "2025-06-18T12:42:09.413414Z"
    }
   },
   "id": "a80a6f045b6b48d",
   "outputs": [],
   "execution_count": 60
  },
  {
   "cell_type": "code",
   "source": [
    "solution_t2 = solve_mpqp(problem=prob_t2, algorithm=mpqp_algorithm.geometric)"
   ],
   "metadata": {
    "collapsed": false,
    "ExecuteTime": {
     "end_time": "2025-06-18T12:42:09.447030Z",
     "start_time": "2025-06-18T12:42:09.426870Z"
    }
   },
   "id": "a2582f2379ac9ba",
   "outputs": [
    {
     "name": "stdout",
     "output_type": "stream",
     "text": [
      "Using a found active set [2, 5]\n"
     ]
    }
   ],
   "execution_count": 61
  },
  {
   "cell_type": "code",
   "source": [
    "print(f'Number of critical regions: {len(solution_t2)}')"
   ],
   "metadata": {
    "collapsed": false,
    "ExecuteTime": {
     "end_time": "2025-06-18T12:42:09.449965Z",
     "start_time": "2025-06-18T12:42:09.448068Z"
    }
   },
   "id": "e9ded25299998a19",
   "outputs": [
    {
     "name": "stdout",
     "output_type": "stream",
     "text": [
      "Number of critical regions: 3\n"
     ]
    }
   ],
   "execution_count": 62
  },
  {
   "cell_type": "code",
   "source": [
    "# np.concatenate([crt2_list[2].A, crt2_list[2].b], axis=1)[:2, :]"
   ],
   "metadata": {
    "collapsed": false,
    "ExecuteTime": {
     "end_time": "2025-06-18T12:42:09.453287Z",
     "start_time": "2025-06-18T12:42:09.451732Z"
    }
   },
   "id": "e896afe874149ebc",
   "outputs": [],
   "execution_count": 63
  },
  {
   "cell_type": "code",
   "source": [
    "def gauss_legendre_between_bounds(expr_coeffs: np.ndarray, n_gl: int, max_idx: int = 0, min_idx: int = 1):\n",
    "    \"\"\"\n",
    "    Generate n Gauss–Legendre quadrature points and weights between min and max bounds\n",
    "    defined by two linear expressions.\n",
    "\n",
    "    Parameters:\n",
    "        expr_coeffs (np.ndarray): 2xD array. Row 0 = max point coefficients, Row 1 = min.\n",
    "        n (int): Number of quadrature points.\n",
    "\n",
    "    Returns:\n",
    "        points (np.ndarray): (n, D) array of quadrature points.\n",
    "        weights (np.ndarray): (n,) array of weights.\n",
    "    \"\"\"\n",
    "    if expr_coeffs.shape[0] != 2:\n",
    "        raise ValueError(\"expr_coeffs must have two rows\")\n",
    "\n",
    "    max_coeffs = expr_coeffs[max_idx]\n",
    "    min_coeffs = expr_coeffs[min_idx]\n",
    "\n",
    "    # Get Gauss–Legendre points and weights on [-1, 1]\n",
    "    nodes, weights = leggauss(n_gl)\n",
    "    weights = weights.reshape(-1,1)\n",
    "    \n",
    "    # Affine transformation to domain [min_coeffs, max_coeffs]\n",
    "    points = 0.5 * (np.outer((nodes + 1), max_coeffs) + np.outer((1 - nodes), min_coeffs))\n",
    "\n",
    "    # Adjust weights to match new domain\n",
    "    weights = 0.5 * weights@(max_coeffs - min_coeffs).reshape(1,-1)\n",
    "\n",
    "    return points, weights\n"
   ],
   "metadata": {
    "collapsed": false,
    "ExecuteTime": {
     "end_time": "2025-06-18T12:42:09.510911Z",
     "start_time": "2025-06-18T12:42:09.472420Z"
    }
   },
   "id": "23d735c967b8329",
   "outputs": [],
   "execution_count": 64
  },
  {
   "cell_type": "code",
   "source": [
    "# # Example: 2D line segment from [0,0] (min) to [1,1] (max)\n",
    "# # coeffs = np.array([\n",
    "# #     [0, 0, 4],  # max point\n",
    "# #     [0, 0, 0],  # min point\n",
    "# # ])\n",
    "# \n",
    "# coeffs = np.array([\n",
    "#     [0, 0, 4],\n",
    "#     [0.75,-1.5,-1.25]\n",
    "# ])\n",
    "# \n",
    "# # coeffs = np.array([\n",
    "# #     [0.000000,0.0,0.0,4.000000],\n",
    "# #     [-2.666667,2.0,-4.0,0.666667]\n",
    "# # ])\n",
    "# \n",
    "# points, weights = gauss_legendre_between_bounds(expr_coeffs=coeffs, n_gl=5)\n",
    "# \n",
    "# print(\"Points Mapped:\\n\", points)\n",
    "# print(\"Weights Mapped:\\n\", weights)"
   ],
   "metadata": {
    "collapsed": false,
    "ExecuteTime": {
     "end_time": "2025-06-18T12:42:09.514194Z",
     "start_time": "2025-06-18T12:42:09.511965Z"
    }
   },
   "id": "b2b67d20409ebeb2",
   "outputs": [],
   "execution_count": 65
  },
  {
   "cell_type": "code",
   "source": [
    "def recursive_defaultdict():\n",
    "    return defaultdict(recursive_defaultdict)"
   ],
   "metadata": {
    "collapsed": false,
    "ExecuteTime": {
     "end_time": "2025-06-18T12:42:09.519321Z",
     "start_time": "2025-06-18T12:42:09.517361Z"
    }
   },
   "id": "a9c917e26cb831ec",
   "outputs": [],
   "execution_count": 66
  },
  {
   "cell_type": "code",
   "source": [
    "# def get_quadrature_solutions(solutions: list, nq: Union[list, int] = 5):\n",
    "#     \"\"\"\n",
    "#     Computes Gauss-Legendre quadrature points and weights for each critical region \n",
    "#     in a list of parametric solutions.\n",
    "# \n",
    "#     Parameters:\n",
    "#     -----------\n",
    "#     solutions : list\n",
    "#         A list where each element is a parametric solution object\n",
    "# \n",
    "#     nq : int or list of int, default=5\n",
    "#         Number of Gauss-Legendre points to use in the quadrature.\n",
    "#         If a list is provided, it must match the length of `solutions`,\n",
    "#         allowing different numbers of points for each theta\n",
    "# \n",
    "#     Returns:\n",
    "#     --------\n",
    "#     qps : defaultdict\n",
    "#         Nested dictionary containing quadrature points for each theta (`t`) \n",
    "#         and critical region (`cr`). Each entry includes:\n",
    "#             - 'data': the actual quadrature points\n",
    "#             - 'region': the associated critical region object\n",
    "# \n",
    "#     qws : defaultdict\n",
    "#         Same structure as `qps`, but containing the corresponding quadrature weights.\n",
    "#     \"\"\"\n",
    "#     # Initialize nested default dicts to store quadrature points and weights\n",
    "#     qps, qws = recursive_defaultdict(), recursive_defaultdict()\n",
    "# \n",
    "#     # Loop over each theta\n",
    "#     for t in range(len(solutions)):\n",
    "#         # Extract list of critical regions for this solution\n",
    "#         cr_list = list(solutions[t].critical_regions)\n",
    "# \n",
    "#         # Determine number of quadrature points for this theta\n",
    "#         nqs = nq[t] if isinstance(nq, list) else nq\n",
    "# \n",
    "#         # Loop over each critical region\n",
    "#         for cr in range(len(cr_list)):\n",
    "#             # Extract coefficients (first 2 states) for defining integration bounds\n",
    "#             coeffs = np.concatenate([cr_list[cr].A, cr_list[cr].b], axis=1)[:2, :]\n",
    "# \n",
    "#             # Compute quadrature points and weights for the critical region\n",
    "#             qps[f't{t+1}'][f'cr{cr+1}']['data'], qws[f't{t+1}'][f'cr{cr+1}']['data'] = \\\n",
    "#                 gauss_legendre_between_bounds(expr_coeffs=coeffs, n_gl=nqs)\n",
    "# \n",
    "#             # Also store the region object for reference\n",
    "#             qps[f't{t+1}'][f'cr{cr+1}']['region'] = cr_list[cr]\n",
    "#             qws[f't{t+1}'][f'cr{cr+1}']['region'] = cr_list[cr]\n",
    "# \n",
    "#     return qps, qws"
   ],
   "metadata": {
    "collapsed": false,
    "ExecuteTime": {
     "end_time": "2025-06-18T12:42:09.535804Z",
     "start_time": "2025-06-18T12:42:09.533655Z"
    }
   },
   "id": "d4f900320475525f",
   "outputs": [],
   "execution_count": 67
  },
  {
   "cell_type": "code",
   "source": "# qpoints, qweights = get_quadrature_solutions(solutions = [solution_t1], nq=5)",
   "metadata": {
    "collapsed": false,
    "ExecuteTime": {
     "end_time": "2025-06-18T12:42:09.550223Z",
     "start_time": "2025-06-18T12:42:09.548663Z"
    }
   },
   "id": "4111bc580b4c0820",
   "outputs": [],
   "execution_count": 68
  },
  {
   "metadata": {
    "ExecuteTime": {
     "end_time": "2025-06-18T12:42:09.571168Z",
     "start_time": "2025-06-18T12:42:09.569173Z"
    }
   },
   "cell_type": "code",
   "source": [
    "def joint_pdf(theta:list):\n",
    "    return (2/np.pi)*np.exp(-2*((theta[0]-2)**2 + (theta[1]-2)**2))"
   ],
   "id": "3bac8b324756f4e8",
   "outputs": [],
   "execution_count": 69
  },
  {
   "metadata": {
    "ExecuteTime": {
     "end_time": "2025-06-18T12:42:09.598655Z",
     "start_time": "2025-06-18T12:42:09.596292Z"
    }
   },
   "cell_type": "code",
   "source": [
    "def get_quadrature_points(solution, nq: int, t_vector: np.ndarray):\n",
    "    # Augment t_vector once\n",
    "    t_vector_aug = np.append(t_vector, 1).reshape(-1, 1)\n",
    "\n",
    "    for region in solution.critical_regions:\n",
    "        if region.is_inside(t_vector):\n",
    "            coeffs = np.concatenate([region.A, region.b], axis=1)[:2, :]\n",
    "            qpoints, qweights = gauss_legendre_between_bounds(expr_coeffs=coeffs, n_gl=nq)\n",
    "            return coeffs[0] @ t_vector_aug, coeffs[1] @ t_vector_aug, qpoints @ t_vector_aug, qweights @ t_vector_aug\n",
    "\n",
    "    raise ValueError(\"No region found that contains the given t_vector.\")\n"
   ],
   "id": "6e65a31e5e61577a",
   "outputs": [],
   "execution_count": 72
  },
  {
   "metadata": {
    "ExecuteTime": {
     "end_time": "2025-06-18T12:42:09.627810Z",
     "start_time": "2025-06-18T12:42:09.624737Z"
    }
   },
   "cell_type": "code",
   "source": [
    "def calculate_stocflexibility(sols: list, nq: int, d_vector: np.ndarray) -> float:\n",
    "    # Get first-stage quadrature points and weights\n",
    "    t1max, t1min, t1_points, t1_weights = get_quadrature_points(solution=sols[0], nq=nq, t_vector=d_vector)\n",
    "    t1_points = t1_points.flatten()\n",
    "    t1_weights = t1_weights.flatten()\n",
    "\n",
    "    outer_sum = 0.0\n",
    "\n",
    "    for i in range(nq):\n",
    "        v1 = t1_points[i]\n",
    "        w1 = t1_weights[i]\n",
    "\n",
    "        # Second-stage quadrature points and weights using updated vector\n",
    "        t2max, t2min, t2_points, t2_weights = get_quadrature_points(solution=sols[1], nq=nq,t_vector=np.block([np.array([v1]), d_vector]))\n",
    "        t2_points = t2_points.flatten()\n",
    "        t2_weights = t2_weights.flatten()\n",
    "\n",
    "        # Inner quadrature\n",
    "        inner_sum = np.sum([w2 * joint_pdf(theta=[v1, v2]) for v2, w2 in zip(t2_points, t2_weights)])\n",
    "        outer_sum += w1 * inner_sum\n",
    "\n",
    "    return outer_sum"
   ],
   "id": "65a3db04ec6c98b1",
   "outputs": [],
   "execution_count": 73
  },
  {
   "metadata": {
    "ExecuteTime": {
     "end_time": "2025-06-18T12:42:09.643774Z",
     "start_time": "2025-06-18T12:42:09.636816Z"
    }
   },
   "cell_type": "code",
   "source": "sf_idx = calculate_stocflexibility(sols=[solution_t1, solution_t2], nq=16, d_vector=np.array([3.2, 0.4]))",
   "id": "3f630e33ae08215a",
   "outputs": [
    {
     "name": "stdout",
     "output_type": "stream",
     "text": [
      "t1 max = [4.]\n",
      "t1 min = [0.55]\n"
     ]
    }
   ],
   "execution_count": 74
  },
  {
   "metadata": {
    "ExecuteTime": {
     "end_time": "2025-06-18T12:42:09.646896Z",
     "start_time": "2025-06-18T12:42:09.644772Z"
    }
   },
   "cell_type": "code",
   "source": "print(f'Stochastic Flexibility Index: {sf_idx:.4}')",
   "id": "836d054518662022",
   "outputs": [
    {
     "name": "stdout",
     "output_type": "stream",
     "text": [
      "Stochastic Flexibility Index: 0.905\n"
     ]
    }
   ],
   "execution_count": 75
  },
  {
   "cell_type": "code",
   "source": [
    "# n=5\n",
    "# points, weights = np.polynomial.legendre.leggauss(n)\n",
    "# a, b = 0, 4  # Example new interval\n",
    "# \n",
    "# # Change of variable to map from [-1,1] to [a,b]\n",
    "# points_mapped = 0.5 * ((points + 1) * b + (1-points) * a)\n",
    "# weights_mapped = 0.5 * (b-a) * weights\n",
    "# \n",
    "# print(f'Points Mapped: {points_mapped}\\n')\n",
    "# print(f'Weights Mapped: {weights_mapped}')"
   ],
   "metadata": {
    "collapsed": false,
    "ExecuteTime": {
     "end_time": "2025-06-18T12:42:09.652077Z",
     "start_time": "2025-06-18T12:42:09.650302Z"
    }
   },
   "id": "1a228b788cceb548",
   "outputs": [],
   "execution_count": 76
  },
  {
   "metadata": {
    "ExecuteTime": {
     "end_time": "2025-06-18T12:42:09.663579Z",
     "start_time": "2025-06-18T12:42:09.662189Z"
    }
   },
   "cell_type": "code",
   "source": "",
   "id": "a2ac472174b90525",
   "outputs": [],
   "execution_count": 76
  }
 ],
 "metadata": {
  "kernelspec": {
   "display_name": "Python 3",
   "language": "python",
   "name": "python3"
  },
  "language_info": {
   "codemirror_mode": {
    "name": "ipython",
    "version": 2
   },
   "file_extension": ".py",
   "mimetype": "text/x-python",
   "name": "python",
   "nbconvert_exporter": "python",
   "pygments_lexer": "ipython2",
   "version": "2.7.6"
  }
 },
 "nbformat": 4,
 "nbformat_minor": 5
}
