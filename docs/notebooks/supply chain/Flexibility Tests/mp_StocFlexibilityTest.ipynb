{
 "cells": [
  {
   "cell_type": "code",
   "execution_count": 272,
   "id": "initial_id",
   "metadata": {
    "collapsed": true,
    "ExecuteTime": {
     "end_time": "2025-06-04T13:07:07.607794Z",
     "start_time": "2025-06-04T13:07:07.598890Z"
    }
   },
   "outputs": [],
   "source": [
    "import numpy as np\n",
    "from ppopt.mpmodel import MPModeler\n",
    "from ppopt.mp_solvers.solve_mpqp import solve_mpqp, mpqp_algorithm\n",
    "from ppopt.plot import parametric_plot\n",
    "from numpy.polynomial.legendre import leggauss\n",
    "import copy"
   ]
  },
  {
   "cell_type": "code",
   "outputs": [],
   "source": [
    "# m = MPModeler()\n",
    "# \n",
    "# u = m.add_var(name='u')\n",
    "# x = m.add_var(name='x')\n",
    "# z = m.add_var(name='z')\n",
    "# \n",
    "# t1 = m.add_param(name='t1')\n",
    "# t2 = m.add_param(name='t2')\n",
    "# d1 = m.add_param(name='d1')\n",
    "# d2 = m.add_param(name='d2')"
   ],
   "metadata": {
    "collapsed": false,
    "ExecuteTime": {
     "end_time": "2025-06-04T13:07:07.623608Z",
     "start_time": "2025-06-04T13:07:07.617161Z"
    }
   },
   "id": "765b20fd3425e4be",
   "execution_count": 273
  },
  {
   "cell_type": "code",
   "outputs": [],
   "source": [
    "# m.add_constr(2*x - 3*z + t1 - d2 == 0)\n",
    "# m.add_constr(x - z/2 -t1/2 +t2/2 +d1 -7*d2/2 <= u)\n",
    "# m.add_constr(-2*x +2*z -4*t1/3 -t2 +2*d2 +1/3<= u)\n",
    "# m.add_constr(-x + 5*z/2 +t1/2 -t2 -d1 +d2/2 -1 <= u)\n",
    "# m.add_constr(-50 <= x)\n",
    "# m.add_constr(0-50 <= z)\n",
    "# m.add_constr(0 <= t1)\n",
    "# m.add_constr(0 <= t2)\n",
    "# m.add_constr(0 <= d1)\n",
    "# m.add_constr(0 <= d2)\n",
    "# m.add_constr(t1 <= 4)\n",
    "# m.add_constr(t2 <= 4)\n",
    "# m.add_constr(d1 <= 5)\n",
    "# m.add_constr(d2 <= 5)"
   ],
   "metadata": {
    "collapsed": false,
    "ExecuteTime": {
     "end_time": "2025-06-04T13:07:07.670628Z",
     "start_time": "2025-06-04T13:07:07.665337Z"
    }
   },
   "id": "1b927d79a8f8030a",
   "execution_count": 274
  },
  {
   "cell_type": "code",
   "outputs": [],
   "source": [
    "# m.set_objective(u)"
   ],
   "metadata": {
    "collapsed": false,
    "ExecuteTime": {
     "end_time": "2025-06-04T13:07:07.686286Z",
     "start_time": "2025-06-04T13:07:07.671691Z"
    }
   },
   "id": "b210c01d1f720d21",
   "execution_count": 275
  },
  {
   "cell_type": "code",
   "outputs": [],
   "source": [
    "# prob = m.formulate_problem()\n",
    "# prob.process_constraints()"
   ],
   "metadata": {
    "collapsed": false,
    "ExecuteTime": {
     "end_time": "2025-06-04T13:07:07.701933Z",
     "start_time": "2025-06-04T13:07:07.687341Z"
    }
   },
   "id": "49df3c0c4d1c6719",
   "execution_count": 276
  },
  {
   "cell_type": "code",
   "outputs": [],
   "source": [
    "# solution = solve_mpqp(problem=prob, algorithm=mpqp_algorithm.combinatorial)"
   ],
   "metadata": {
    "collapsed": false,
    "ExecuteTime": {
     "end_time": "2025-06-04T13:07:07.718044Z",
     "start_time": "2025-06-04T13:07:07.702990Z"
    }
   },
   "id": "50065a3960349be6",
   "execution_count": 277
  },
  {
   "cell_type": "code",
   "outputs": [],
   "source": [
    "# psi_matrix = np.empty((len(solution), solution.critical_regions[0].A.shape[1] + solution.critical_regions[0].b.shape[1]))\n",
    "# psi_idx = 0"
   ],
   "metadata": {
    "collapsed": false,
    "ExecuteTime": {
     "end_time": "2025-06-04T13:07:07.733651Z",
     "start_time": "2025-06-04T13:07:07.719144Z"
    }
   },
   "id": "6c99a204ddb5afb5",
   "execution_count": 278
  },
  {
   "cell_type": "code",
   "outputs": [],
   "source": [
    "# psi_matrix"
   ],
   "metadata": {
    "collapsed": false,
    "ExecuteTime": {
     "end_time": "2025-06-04T13:07:07.749252Z",
     "start_time": "2025-06-04T13:07:07.734760Z"
    }
   },
   "id": "b3b1dfcd79c3ce24",
   "execution_count": 279
  },
  {
   "cell_type": "code",
   "outputs": [],
   "source": [
    "# np.concatenate([solution.critical_regions[0].A[0,:], solution.critical_regions[0].b[0,:]], axis=0)"
   ],
   "metadata": {
    "collapsed": false,
    "ExecuteTime": {
     "end_time": "2025-06-04T13:07:07.764902Z",
     "start_time": "2025-06-04T13:07:07.750297Z"
    }
   },
   "id": "67607e5542cdbe76",
   "execution_count": 280
  },
  {
   "cell_type": "code",
   "outputs": [],
   "source": [
    "# for i in range(len(solution.critical_regions)):\n",
    "#     psi_matrix[i] = np.concatenate([solution.critical_regions[i].A[psi_idx,:], solution.critical_regions[i].b[psi_idx,:]], axis=0)"
   ],
   "metadata": {
    "collapsed": false,
    "ExecuteTime": {
     "end_time": "2025-06-04T13:07:07.780444Z",
     "start_time": "2025-06-04T13:07:07.765948Z"
    }
   },
   "id": "f44f4d68309d2a22",
   "execution_count": 281
  },
  {
   "cell_type": "code",
   "outputs": [],
   "source": [
    "# psi_matrix"
   ],
   "metadata": {
    "collapsed": false,
    "ExecuteTime": {
     "end_time": "2025-06-04T13:07:07.795966Z",
     "start_time": "2025-06-04T13:07:07.781512Z"
    }
   },
   "id": "21a18c2ef6e386fc",
   "execution_count": 282
  },
  {
   "cell_type": "code",
   "outputs": [],
   "source": [
    "m_t1 = MPModeler()\n",
    "\n",
    "t1_max = m_t1.add_var('t1_max')\n",
    "t1_min = m_t1.add_var('t1_min')\n",
    "t2_a = m_t1.add_var('t2_a')\n",
    "t2_b = m_t1.add_var('t2_b')\n",
    "\n",
    "d1 = m_t1.add_param('d1')\n",
    "d2 = m_t1.add_param('d2')"
   ],
   "metadata": {
    "collapsed": false,
    "ExecuteTime": {
     "end_time": "2025-06-04T13:07:07.811333Z",
     "start_time": "2025-06-04T13:07:07.798119Z"
    }
   },
   "id": "49728a939841001d",
   "execution_count": 283
  },
  {
   "cell_type": "code",
   "outputs": [],
   "source": [
    "m_t1.add_constr(-2/3*t1_min - 1/4*t2_a +1/2*d1 - d2 +1/6 <= 0)\n",
    "m_t1.add_constr(1/3*t1_min -t2_a -1/2*d1 +1/2*d2 -1/3 <= 0)\n",
    "\n",
    "m_t1.add_constr(-2/3*t1_max - 1/4*t2_b +1/2*d1 - d2 +1/6 <= 0)\n",
    "m_t1.add_constr(1/3*t1_max -t2_b -1/2*d1 +1/2*d2 -1/3 <= 0)\n",
    "\n",
    "m_t1.add_constr(0 <= t1_max)\n",
    "m_t1.add_constr(t1_max <= 4)\n",
    "m_t1.add_constr(0 <= t1_min)\n",
    "m_t1.add_constr(t1_min <= 4)\n",
    "m_t1.add_constr(t1_min <= t1_max)\n",
    "\n",
    "m_t1.add_constr(0 <= t2_a)\n",
    "m_t1.add_constr(t2_a <= 4)\n",
    "m_t1.add_constr(0 <= t2_b)\n",
    "m_t1.add_constr(t2_b <= 4)\n",
    "\n",
    "m_t1.add_constr(0 <= d1)\n",
    "m_t1.add_constr(0 <= d2)\n",
    "m_t1.add_constr(d1 <= 5)\n",
    "m_t1.add_constr(d2 <= 5)"
   ],
   "metadata": {
    "collapsed": false,
    "ExecuteTime": {
     "end_time": "2025-06-04T13:07:07.826941Z",
     "start_time": "2025-06-04T13:07:07.812442Z"
    }
   },
   "id": "6156049d4f54b2fe",
   "execution_count": 284
  },
  {
   "cell_type": "code",
   "outputs": [],
   "source": [
    "m_t1.set_objective(t1_min-t1_max)"
   ],
   "metadata": {
    "collapsed": false,
    "ExecuteTime": {
     "end_time": "2025-06-04T13:07:07.842718Z",
     "start_time": "2025-06-04T13:07:07.828023Z"
    }
   },
   "id": "cc9e3f386b07e85f",
   "execution_count": 285
  },
  {
   "cell_type": "code",
   "outputs": [],
   "source": [
    "prob_t1 = m_t1.formulate_problem()\n",
    "prob_t1.process_constraints()"
   ],
   "metadata": {
    "collapsed": false,
    "ExecuteTime": {
     "end_time": "2025-06-04T13:07:07.872701Z",
     "start_time": "2025-06-04T13:07:07.844418Z"
    }
   },
   "id": "ae98ad018d261b78",
   "execution_count": 286
  },
  {
   "cell_type": "code",
   "outputs": [
    {
     "name": "stdout",
     "output_type": "stream",
     "text": [
      "Using a found active set [5, 6, 10, 12]\n"
     ]
    }
   ],
   "source": [
    "solution_t1 = solve_mpqp(problem=prob_t1, algorithm=mpqp_algorithm.geometric)"
   ],
   "metadata": {
    "collapsed": false,
    "ExecuteTime": {
     "end_time": "2025-06-04T13:07:07.903956Z",
     "start_time": "2025-06-04T13:07:07.873742Z"
    }
   },
   "id": "a60c7f4edd7fa8ed",
   "execution_count": 287
  },
  {
   "cell_type": "code",
   "outputs": [
    {
     "name": "stdout",
     "output_type": "stream",
     "text": [
      "Number of critical regions: 2\n"
     ]
    }
   ],
   "source": [
    "print(f'Number of critical regions: {len(solution_t1)}')"
   ],
   "metadata": {
    "collapsed": false,
    "ExecuteTime": {
     "end_time": "2025-06-04T13:07:07.920072Z",
     "start_time": "2025-06-04T13:07:07.905011Z"
    }
   },
   "id": "1c9d07401627dd98",
   "execution_count": 288
  },
  {
   "cell_type": "code",
   "outputs": [
    {
     "data": {
      "text/plain": "<Figure size 640x480 with 1 Axes>",
      "image/png": "[encoded data removed]"
     },
     "metadata": {},
     "output_type": "display_data"
    }
   ],
   "source": [
    "parametric_plot(solution_t1, show=True)"
   ],
   "metadata": {
    "collapsed": false,
    "ExecuteTime": {
     "end_time": "2025-06-04T13:07:07.982644Z",
     "start_time": "2025-06-04T13:07:07.921135Z"
    }
   },
   "id": "4ff8d0ba58f67e1",
   "execution_count": 289
  },
  {
   "cell_type": "code",
   "outputs": [],
   "source": [
    "m_t2 = MPModeler()\n",
    "\n",
    "t2_max = m_t2.add_var('t2_max')\n",
    "t2_min = m_t2.add_var('t2_min')\n",
    "\n",
    "t1 = m_t2.add_param('t1')\n",
    "d1 = m_t2.add_param('d1')\n",
    "d2 = m_t2.add_param('d2')"
   ],
   "metadata": {
    "collapsed": false,
    "ExecuteTime": {
     "end_time": "2025-06-04T13:07:07.998367Z",
     "start_time": "2025-06-04T13:07:07.983688Z"
    }
   },
   "id": "deb521e711c51503",
   "execution_count": 290
  },
  {
   "cell_type": "code",
   "outputs": [],
   "source": [
    "m_t2.add_constr(-2/3*t1 - 1/4*t2_max +1/2*d1 - d2 +1/6 <= 0)\n",
    "m_t2.add_constr(1/3*t1 -t2_max -1/2*d1 +1/2*d2 -1/3 <= 0)\n",
    "\n",
    "m_t2.add_constr(-2/3*t1 - 1/4*t2_min +1/2*d1 - d2 +1/6 <= 0)\n",
    "m_t2.add_constr(1/3*t1 -t2_min -1/2*d1 +1/2*d2 -1/3 <= 0)\n",
    "\n",
    "m_t2.add_constr(0 <= t2_max)\n",
    "m_t2.add_constr(t2_max <= 4)\n",
    "m_t2.add_constr(0 <= t2_min)\n",
    "m_t2.add_constr(t2_min <= 4)\n",
    "m_t2.add_constr(t2_min <= t2_max)\n",
    "\n",
    "m_t2.add_constr(0 <= t1)\n",
    "m_t2.add_constr(t1 <= 4)\n",
    "m_t2.add_constr(0 <= d1)\n",
    "m_t2.add_constr(0 <= d2)\n",
    "m_t2.add_constr(d1 <= 5)\n",
    "m_t2.add_constr(d2 <= 5)"
   ],
   "metadata": {
    "collapsed": false,
    "ExecuteTime": {
     "end_time": "2025-06-04T13:07:08.013970Z",
     "start_time": "2025-06-04T13:07:07.999435Z"
    }
   },
   "id": "44dd5e2e6af6384",
   "execution_count": 291
  },
  {
   "cell_type": "code",
   "outputs": [],
   "source": [
    "m_t2.set_objective(-(t2_max-t2_min))"
   ],
   "metadata": {
    "collapsed": false,
    "ExecuteTime": {
     "end_time": "2025-06-04T13:07:08.029520Z",
     "start_time": "2025-06-04T13:07:08.015007Z"
    }
   },
   "id": "51ada1d2acc6f4e0",
   "execution_count": 292
  },
  {
   "cell_type": "code",
   "outputs": [],
   "source": [
    "prob_t2 = m_t2.formulate_problem()\n",
    "prob_t2.process_constraints()"
   ],
   "metadata": {
    "collapsed": false,
    "ExecuteTime": {
     "end_time": "2025-06-04T13:07:08.060649Z",
     "start_time": "2025-06-04T13:07:08.030583Z"
    }
   },
   "id": "a80a6f045b6b48d",
   "execution_count": 293
  },
  {
   "cell_type": "code",
   "outputs": [
    {
     "name": "stdout",
     "output_type": "stream",
     "text": [
      "Using a found active set [3, 5]\n"
     ]
    }
   ],
   "source": [
    "solution_t2 = solve_mpqp(problem=prob_t2, algorithm=mpqp_algorithm.geometric)"
   ],
   "metadata": {
    "collapsed": false,
    "ExecuteTime": {
     "end_time": "2025-06-04T13:07:08.108165Z",
     "start_time": "2025-06-04T13:07:08.061736Z"
    }
   },
   "id": "a2582f2379ac9ba",
   "execution_count": 294
  },
  {
   "cell_type": "code",
   "outputs": [
    {
     "name": "stdout",
     "output_type": "stream",
     "text": [
      "Number of critical regions: 3\n"
     ]
    }
   ],
   "source": [
    "print(f'Number of critical regions: {len(solution_t2)}')"
   ],
   "metadata": {
    "collapsed": false,
    "ExecuteTime": {
     "end_time": "2025-06-04T13:07:08.123839Z",
     "start_time": "2025-06-04T13:07:08.109240Z"
    }
   },
   "id": "e9ded25299998a19",
   "execution_count": 295
  },
  {
   "cell_type": "code",
   "outputs": [],
   "source": [
    "# parametric_plot(solution_t2, show=True)"
   ],
   "metadata": {
    "collapsed": false,
    "ExecuteTime": {
     "end_time": "2025-06-04T13:07:08.155132Z",
     "start_time": "2025-06-04T13:07:08.124916Z"
    }
   },
   "id": "274dadae7f0a86cb",
   "execution_count": 296
  },
  {
   "cell_type": "code",
   "outputs": [],
   "source": [
    "# n=7\n",
    "# points, weights = np.polynomial.legendre.leggauss(n)\n",
    "# a, b = 1/3, 7  # Example new interval\n",
    "# \n",
    "# # Change of variable to map from [-1,1] to [a,b]\n",
    "# points_mapped = 0.5 * (points + 1) * (b - a) + a\n",
    "# weights_mapped = 0.5 * (b-a) * weights\n"
   ],
   "metadata": {
    "collapsed": false,
    "ExecuteTime": {
     "end_time": "2025-06-04T13:07:08.170707Z",
     "start_time": "2025-06-04T13:07:08.156218Z"
    }
   },
   "id": "dab6346bea77b110",
   "execution_count": 297
  },
  {
   "cell_type": "code",
   "outputs": [],
   "source": [
    "crt1_list = list(solution_t1.critical_regions)"
   ],
   "metadata": {
    "collapsed": false,
    "ExecuteTime": {
     "end_time": "2025-06-04T13:07:08.186423Z",
     "start_time": "2025-06-04T13:07:08.171874Z"
    }
   },
   "id": "5d7bf0b725a9f1c4",
   "execution_count": 298
  },
  {
   "cell_type": "code",
   "outputs": [
    {
     "data": {
      "text/plain": "[array([[ 0.4472136 , -0.89442719],\n        [-1.        ,  0.        ],\n        [ 0.        , -1.        ],\n        [ 1.        ,  0.        ],\n        [ 0.        ,  1.        ]]),\n array([[ 0.74535599],\n        [-0.        ],\n        [-0.        ],\n        [ 5.        ],\n        [ 5.        ]])]"
     },
     "execution_count": 299,
     "metadata": {},
     "output_type": "execute_result"
    }
   ],
   "source": [
    "crt1_list[0].get_constraints()"
   ],
   "metadata": {
    "collapsed": false,
    "ExecuteTime": {
     "end_time": "2025-06-04T13:07:08.202087Z",
     "start_time": "2025-06-04T13:07:08.187525Z"
    }
   },
   "id": "69d26c15ce3ce204",
   "execution_count": 299
  },
  {
   "cell_type": "code",
   "outputs": [],
   "source": [
    "crt2_list = list(solution_t2.critical_regions)"
   ],
   "metadata": {
    "collapsed": false,
    "ExecuteTime": {
     "end_time": "2025-06-04T13:07:08.218055Z",
     "start_time": "2025-06-04T13:07:08.203141Z"
    }
   },
   "id": "60c0aa26f0f2b12e",
   "execution_count": 300
  },
  {
   "cell_type": "code",
   "outputs": [
    {
     "data": {
      "text/plain": "[array([[-0.42640143,  0.63960215, -0.63960215],\n        [-1.        ,  0.        ,  0.        ],\n        [ 1.        ,  0.        ,  0.        ],\n        [ 0.        , -1.        ,  0.        ],\n        [ 0.        ,  0.        , -1.        ],\n        [ 0.        ,  1.        ,  0.        ],\n        [ 0.        ,  0.        ,  1.        ]]),\n array([[-0.42640143],\n        [-0.        ],\n        [ 4.        ],\n        [-0.        ],\n        [-0.        ],\n        [ 5.        ],\n        [ 5.        ]])]"
     },
     "execution_count": 301,
     "metadata": {},
     "output_type": "execute_result"
    }
   ],
   "source": [
    "crt2_list[0].get_constraints()"
   ],
   "metadata": {
    "collapsed": false,
    "ExecuteTime": {
     "end_time": "2025-06-04T13:07:08.232787Z",
     "start_time": "2025-06-04T13:07:08.221247Z"
    }
   },
   "id": "6ae8a7b250f36c91",
   "execution_count": 301
  },
  {
   "cell_type": "code",
   "outputs": [
    {
     "data": {
      "text/plain": "array([[0., 0., 4.],\n       [0., 0., 0.]])"
     },
     "execution_count": 302,
     "metadata": {},
     "output_type": "execute_result"
    }
   ],
   "source": [
    "np.concatenate([crt1_list[0].A, crt1_list[0].b], axis=1)[:2, :]"
   ],
   "metadata": {
    "collapsed": false,
    "ExecuteTime": {
     "end_time": "2025-06-04T13:07:08.248445Z",
     "start_time": "2025-06-04T13:07:08.233879Z"
    }
   },
   "id": "77a2193131406fb",
   "execution_count": 302
  },
  {
   "cell_type": "code",
   "outputs": [
    {
     "data": {
      "text/plain": "array([[ 0.  ,  0.  ,  4.  ],\n       [ 0.75, -1.5 , -1.25]])"
     },
     "execution_count": 303,
     "metadata": {},
     "output_type": "execute_result"
    }
   ],
   "source": [
    "np.concatenate([crt1_list[1].A, crt1_list[1].b], axis=1)[:2, :]"
   ],
   "metadata": {
    "collapsed": false,
    "ExecuteTime": {
     "end_time": "2025-06-04T13:07:08.263116Z",
     "start_time": "2025-06-04T13:07:08.249487Z"
    }
   },
   "id": "3e9f85e82802e0d2",
   "execution_count": 303
  },
  {
   "cell_type": "code",
   "outputs": [],
   "source": [
    "def gauss_legendre_between_bounds(expr_coeffs: np.ndarray, n_gl: int, max_idx: int = 0, min_idx: int = 1):\n",
    "    \"\"\"\n",
    "    Generate n Gauss–Legendre quadrature points and weights between min and max bounds\n",
    "    defined by two linear expressions.\n",
    "\n",
    "    Parameters:\n",
    "        expr_coeffs (np.ndarray): 2xD array. Row 0 = max point coefficients, Row 1 = min.\n",
    "        n (int): Number of quadrature points.\n",
    "\n",
    "    Returns:\n",
    "        points (np.ndarray): (n, D) array of quadrature points.\n",
    "        weights (np.ndarray): (n,) array of weights.\n",
    "    \"\"\"\n",
    "    if expr_coeffs.shape[0] != 2:\n",
    "        raise ValueError(\"expr_coeffs must have two rows: [max_coeffs; min_coeffs]\")\n",
    "\n",
    "    max_coeffs = expr_coeffs[max_idx]\n",
    "    min_coeffs = expr_coeffs[min_idx]\n",
    "\n",
    "    # Get Gauss–Legendre points and weights on [-1, 1]\n",
    "    nodes, weights = leggauss(n_gl)\n",
    "\n",
    "    # Affine transformation to domain [min_coeffs, max_coeffs]\n",
    "    points = 0.5 * (np.outer((nodes + 1), max_coeffs) + np.outer((1 - nodes), min_coeffs))\n",
    "\n",
    "    # Adjust weights to match new domain\n",
    "    interval_length = np.linalg.norm(max_coeffs - min_coeffs)\n",
    "    weights = weights * 0.5 * interval_length\n",
    "\n",
    "    return points, weights\n"
   ],
   "metadata": {
    "collapsed": false,
    "ExecuteTime": {
     "end_time": "2025-06-04T13:07:08.278750Z",
     "start_time": "2025-06-04T13:07:08.264193Z"
    }
   },
   "id": "23d735c967b8329",
   "execution_count": 304
  },
  {
   "cell_type": "code",
   "outputs": [
    {
     "name": "stdout",
     "output_type": "stream",
     "text": [
      "Points:\n",
      " [[0.         0.         0.18764031]\n",
      " [0.         0.         0.92306138]\n",
      " [0.         0.         2.        ]\n",
      " [0.         0.         3.07693862]\n",
      " [0.         0.         3.81235969]]\n",
      "Weights:\n",
      " [0.47385377 0.95725734 1.13777778 0.95725734 0.47385377]\n"
     ]
    }
   ],
   "source": [
    "# Example: 2D line segment from [0,0] (min) to [1,1] (max)\n",
    "coeffs = np.array([\n",
    "    [0, 0, 4],  # max point\n",
    "    [0, 0, 0],  # min point\n",
    "])\n",
    "points, weights = gauss_legendre_between_bounds(expr_coeffs=coeffs, n_gl=5)\n",
    "\n",
    "print(\"Points:\\n\", points)\n",
    "print(\"Weights:\\n\", weights)"
   ],
   "metadata": {
    "collapsed": false,
    "ExecuteTime": {
     "end_time": "2025-06-04T13:07:13.028278Z",
     "start_time": "2025-06-04T13:07:13.010561Z"
    }
   },
   "id": "b2b67d20409ebeb2",
   "execution_count": 306
  },
  {
   "cell_type": "code",
   "outputs": [],
   "source": [],
   "metadata": {
    "collapsed": false,
    "ExecuteTime": {
     "end_time": "2025-06-04T13:07:08.310223Z",
     "start_time": "2025-06-04T13:07:08.295509Z"
    }
   },
   "id": "6ebf835852a4e86e",
   "execution_count": 305
  }
 ],
 "metadata": {
  "kernelspec": {
   "display_name": "Python 3",
   "language": "python",
   "name": "python3"
  },
  "language_info": {
   "codemirror_mode": {
    "name": "ipython",
    "version": 2
   },
   "file_extension": ".py",
   "mimetype": "text/x-python",
   "name": "python",
   "nbconvert_exporter": "python",
   "pygments_lexer": "ipython2",
   "version": "2.7.6"
  }
 },
 "nbformat": 4,
 "nbformat_minor": 5
}
