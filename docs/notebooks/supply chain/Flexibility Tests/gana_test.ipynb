{
 "cells": [
  {
   "cell_type": "code",
   "execution_count": 16,
   "id": "initial_id",
   "metadata": {
    "collapsed": true,
    "ExecuteTime": {
     "end_time": "2025-07-08T21:31:38.717342Z",
     "start_time": "2025-07-08T21:31:38.713092Z"
    }
   },
   "outputs": [],
   "source": [
    "from pyomo.environ import *"
   ]
  },
  {
   "cell_type": "code",
   "outputs": [
    {
     "name": "stdout",
     "output_type": "stream",
     "text": [
      "Set parameter TokenServer to value \"coe-vtls1.engr.tamu.edu\"\n",
      "Read LP format model from file C:\\Users\\SHIVAM~1.VED\\AppData\\Local\\Temp\\tmpy2kc449l.pyomo.lp\n",
      "Reading time = 0.00 seconds\n",
      "x1: 2 rows, 2 columns, 4 nonzeros\n",
      "Gurobi Optimizer version 11.0.0 build v11.0.0rc2 (win64 - Windows 11+.0 (26100.2))\n",
      "\n",
      "CPU model: 13th Gen Intel(R) Core(TM) i7-13700, instruction set [SSE2|AVX|AVX2]\n",
      "Thread count: 16 physical cores, 24 logical processors, using up to 24 threads\n",
      "\n",
      "Optimize a model with 2 rows, 2 columns and 4 nonzeros\n",
      "Model fingerprint: 0x475fe1ee\n",
      "Coefficient statistics:\n",
      "  Matrix range     [2e-01, 5e-01]\n",
      "  Objective range  [1e+01, 1e+01]\n",
      "  Bounds range     [5e+00, 5e+00]\n",
      "  RHS range        [9e-03, 3e-01]\n",
      "Presolve removed 2 rows and 2 columns\n",
      "Presolve time: 0.00s\n",
      "Presolve: All rows and columns removed\n",
      "Iteration    Objective       Primal Inf.    Dual Inf.      Time\n",
      "       0    4.3333333e+01   0.000000e+00   0.000000e+00      0s\n",
      "\n",
      "Solved in 0 iterations and 0.00 seconds (0.00 work units)\n",
      "Optimal objective  4.333333333e+01\n"
     ]
    },
    {
     "data": {
      "text/plain": "{'Problem': [{'Name': 'x1', 'Lower bound': 43.33333333333333, 'Upper bound': 43.33333333333333, 'Number of objectives': 1, 'Number of constraints': 2, 'Number of variables': 2, 'Number of binary variables': 0, 'Number of integer variables': 0, 'Number of continuous variables': 2, 'Number of nonzeros': 4, 'Sense': 'minimize'}], 'Solver': [{'Status': 'ok', 'Return code': '0', 'Message': 'Model was solved to optimality (subject to tolerances), and an optimal solution is available.', 'Termination condition': 'optimal', 'Termination message': 'Model was solved to optimality (subject to tolerances), and an optimal solution is available.', 'Wall time': '0.0', 'Error rc': 0, 'Time': 0.18754959106445312}], 'Solution': [OrderedDict([('number of solutions', 0), ('number of solutions displayed', 0)])]}"
     },
     "execution_count": 29,
     "metadata": {},
     "output_type": "execute_result"
    }
   ],
   "source": [
    "m = ConcreteModel()\n",
    "m.d1 = Var(within=NonNegativeReals, bounds=(0,5))\n",
    "m.d2 = Var(within=NonNegativeReals, bounds=(0,5))\n",
    "\n",
    "F_t = 0.9\n",
    "\n",
    "m.c1 = Constraint(expr=(1/16)*(3*m.d1 - 3*m.d2 + 10) >= F_t)\n",
    "m.c2 = Constraint(expr=(1/11)*(-3*m.d1 + 6*m.d2 + 10) >= F_t)\n",
    "\n",
    "m.obj = Objective(expr=10*m.d1 + 10*m.d2, sense=minimize)\n",
    "\n",
    "SolverFactory('gurobi').solve(m, tee=True)"
   ],
   "metadata": {
    "collapsed": false,
    "ExecuteTime": {
     "end_time": "2025-07-08T21:32:12.216926Z",
     "start_time": "2025-07-08T21:32:12.009295Z"
    }
   },
   "id": "c10b5c7b8b66db4e",
   "execution_count": 29
  },
  {
   "cell_type": "code",
   "outputs": [
    {
     "name": "stdout",
     "output_type": "stream",
     "text": [
      "\n",
      "Constraint: c1\n",
      "Slack (LB): 0.0\n",
      "\n",
      "Constraint: c2\n",
      "Slack (LB): -1.1102230246251565e-16\n"
     ]
    }
   ],
   "source": [
    "for c in m.component_objects(Constraint, active=True):\n",
    "    print(f\"\\nConstraint: {c.name}\")\n",
    "    for i in c:\n",
    "        con = c[i]\n",
    "        body_val = value(con.body)\n",
    "        if con.has_ub():\n",
    "            slack = value(con.upper) - body_val\n",
    "            print(f\"Slack (UB): {slack}\")\n",
    "        if con.has_lb():\n",
    "            slack = body_val - value(con.lower)\n",
    "            print(f\"Slack (LB): {slack}\")\n"
   ],
   "metadata": {
    "collapsed": false,
    "ExecuteTime": {
     "end_time": "2025-07-08T21:32:12.231983Z",
     "start_time": "2025-07-08T21:32:12.217969Z"
    }
   },
   "id": "916ea454edca46c3",
   "execution_count": 30
  },
  {
   "cell_type": "code",
   "outputs": [],
   "source": [],
   "metadata": {
    "collapsed": false,
    "ExecuteTime": {
     "end_time": "2025-07-08T21:32:12.324626Z",
     "start_time": "2025-07-08T21:32:12.320450Z"
    }
   },
   "id": "db9eb08facebd069",
   "execution_count": 30
  },
  {
   "cell_type": "code",
   "outputs": [],
   "source": [],
   "metadata": {
    "collapsed": false
   },
   "id": "db4825ef045c7cb0"
  }
 ],
 "metadata": {
  "kernelspec": {
   "display_name": "Python 3",
   "language": "python",
   "name": "python3"
  },
  "language_info": {
   "codemirror_mode": {
    "name": "ipython",
    "version": 2
   },
   "file_extension": ".py",
   "mimetype": "text/x-python",
   "name": "python",
   "nbconvert_exporter": "python",
   "pygments_lexer": "ipython2",
   "version": "2.7.6"
  }
 },
 "nbformat": 4,
 "nbformat_minor": 5
}
