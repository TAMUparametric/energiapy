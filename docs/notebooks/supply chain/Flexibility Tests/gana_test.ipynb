{
 "cells": [
  {
   "cell_type": "code",
   "id": "initial_id",
   "metadata": {
    "collapsed": true,
    "ExecuteTime": {
     "end_time": "2025-07-10T05:10:59.330117Z",
     "start_time": "2025-07-10T05:10:59.129969Z"
    }
   },
   "source": [
    "from pyomo.environ import *\n",
    "import math\n",
    "from pyomo.environ import exp"
   ],
   "outputs": [],
   "execution_count": 1
  },
  {
   "cell_type": "code",
   "source": [
    "m = ConcreteModel()\n",
    "\n",
    "# Design variables\n",
    "m.d0 = Var(bounds=(0, 5))\n",
    "m.d1 = Var(bounds=(0, 5))\n",
    "\n",
    "# Binary variables indicating region membership\n",
    "m.y0 = Var(within=Binary)\n",
    "m.y1 = Var(within=Binary)\n",
    "m.y2 = Var(within=Binary)\n",
    "m.y3 = Var(within=Binary)\n",
    "m.y4 = Var(within=Binary)\n",
    "m.y5 = Var(within=Binary)\n",
    "\n",
    "M = 1000\n",
    "target = 0.65\n",
    "\n",
    "# Region 0:\n",
    "m.r0c0 = Constraint(expr = m.d0 -2*m.d1 -5/3 <= M*(1-m.y0))\n",
    "m.r0c1 = Constraint(expr = m.d0 -2*m.d1 -13/3 <= M*(1-m.y0))\n",
    "m.r0c2 = Constraint(expr = -m.d0 +2*m.d1 +7/3 <= M*(1-m.y0))\n",
    "\n",
    "# Region 1:\n",
    "m.r1c0 = Constraint(expr = m.d0 -2*m.d1 -5/3 <= M*(1-m.y1))\n",
    "m.r1c1 = Constraint(expr = -4*m.d0 +4*m.d1 +8/3 <= M*(1-m.y1))\n",
    "m.r1c2 = Constraint(expr = m.d0 -2*m.d1 -7/3 <= M*(1-m.y1))\n",
    "\n",
    "# Region 2:\n",
    "m.r2c0 = Constraint(expr = m.d0 -2*m.d1 -5/3 <= M*(1-m.y2))\n",
    "m.r2c1 = Constraint(expr = m.d0 -m.d1 -2/3 <= M*(1-m.y2))\n",
    "\n",
    "# Region 3:\n",
    "m.r3c0 = Constraint(expr = -m.d0 +2*m.d1 -5/3 <= M*(1-m.y3))\n",
    "m.r3c1 = Constraint(expr = m.d0 -2*m.d1 -7 <= M*(1-m.y3))\n",
    "m.r3c2 = Constraint(expr = -m.d0 +2*m.d1 +3 <= M*(1-m.y3))\n",
    "\n",
    "# Region 4:\n",
    "m.r4c0 = Constraint(expr = -m.d0 +2*m.d1 -5/3 <= M*(1-m.y4))\n",
    "m.r4c1 = Constraint(expr = -3*m.d0 +2*m.d1 +1 <= M*(1-m.y4))\n",
    "m.r4c2 = Constraint(expr = m.d0 - 2*m.d1 - 3 <= M*(1-m.y4))\n",
    "\n",
    "# Region 5:\n",
    "m.r5c0 = Constraint(expr = -m.d0 +2*m.d1 -5/3 <= M*(1-m.y5))\n",
    "m.r5c1 = Constraint(expr = 3*m.d0 -2*m.d1 -1 <= M*(1-m.y5))\n",
    "\n",
    "# Only one region active\n",
    "m.only_one_region = Constraint(expr=m.y0 + m.y1 + m.y2 + m.y3 + m.y4 + m.y5 == 1)\n",
    "\n",
    "# SF expressions\n",
    "sf0 = (-16*m.d0 + 32*m.d1 + 208/3)*exp(-2*(-m.d0 + 2*m.d1 + 7/3)**2)/math.pi\n",
    "sf1 = 32/math.pi\n",
    "sf2 = (4*m.d0 -4*m.d1 + 88/3)*exp(-2*(-0.25*m.d0 +0.25*m.d1 +1/6)**2)/math.pi\n",
    "sf3 = 8*(-m.d0 + 2*m.d1 +7)*(-0.1875*m.d0 +0.375*m.d1 +1.3125)*exp(-2*(0.375*m.d0 -0.75*m.d1 -0.625)**2 -2*(0.5*m.d0 -m.d1 -1.5)**2)/math.pi\n",
    "sf4 = (-6*m.d0 +12*m.d1 +42)*exp(-2*(-0.375*m.d0 +0.75*m.d1 +0.625)**2)/math.pi\n",
    "sf5 = 8*(-0.1875*m.d0 +0.375*m.d1 +1.3125)*(0.375*m.d0 -0.25*m.d1 +3.875)*exp(-2*(-0.1875*m.d0 +0.125*m.d1 +0.0625)**2 -2*(0.375*m.d0 -0.75*m.d1 -0.625)**2)/math.pi\n",
    "\n",
    "# Conditional constraints\n",
    "m.sf0_con = Constraint(expr=sf0 >= target - M*(1 - m.y0))\n",
    "m.sf1_con = Constraint(expr=sf1 >= target - M*(1 - m.y1))\n",
    "m.sf2_con = Constraint(expr=sf2 >= target - M*(1 - m.y2))\n",
    "m.sf3_con = Constraint(expr=sf3 >= target - M*(1 - m.y3))\n",
    "m.sf4_con = Constraint(expr=sf4 >= target - M*(1 - m.y4))\n",
    "m.sf5_con = Constraint(expr=sf5 >= target - M*(1 - m.y5))\n",
    "\n",
    "m.obj = Objective(expr=10*m.d0 + 10*m.d1, sense=minimize)\n",
    "\n",
    "# SolverFactory('gurobi').solve(m)"
   ],
   "metadata": {
    "collapsed": false,
    "ExecuteTime": {
     "end_time": "2025-07-10T05:10:59.343831Z",
     "start_time": "2025-07-10T05:10:59.334530Z"
    }
   },
   "id": "30474b1020997c09",
   "outputs": [],
   "execution_count": 3
  },
  {
   "metadata": {
    "ExecuteTime": {
     "end_time": "2025-07-10T05:10:59.346908Z",
     "start_time": "2025-07-10T05:10:59.344644Z"
    }
   },
   "cell_type": "code",
   "source": "m.sf0_con.pprint()",
   "id": "4ab6c140380b6fe7",
   "outputs": [
    {
     "name": "stdout",
     "output_type": "stream",
     "text": [
      "sf0_con : Size=1, Index=None, Active=True\n",
      "    Key  : Lower : Body                                                                                                                        : Upper : Active\n",
      "    None :  -Inf : 0.65 - 1000*(1 - y0) - (-16*d0 + 32*d1 + 69.33333333333333)*exp(-2*(- d0 + 2*d1 + 2.3333333333333335)**2)/3.141592653589793 :   0.0 :   True\n"
     ]
    }
   ],
   "execution_count": 4
  },
  {
   "metadata": {
    "ExecuteTime": {
     "end_time": "2025-07-10T05:10:59.349636Z",
     "start_time": "2025-07-10T05:10:59.348274Z"
    }
   },
   "cell_type": "code",
   "source": "",
   "id": "db759332418228dd",
   "outputs": [],
   "execution_count": 4
  }
 ],
 "metadata": {
  "kernelspec": {
   "display_name": "Python 3",
   "language": "python",
   "name": "python3"
  },
  "language_info": {
   "codemirror_mode": {
    "name": "ipython",
    "version": 2
   },
   "file_extension": ".py",
   "mimetype": "text/x-python",
   "name": "python",
   "nbconvert_exporter": "python",
   "pygments_lexer": "ipython2",
   "version": "2.7.6"
  }
 },
 "nbformat": 4,
 "nbformat_minor": 5
}
