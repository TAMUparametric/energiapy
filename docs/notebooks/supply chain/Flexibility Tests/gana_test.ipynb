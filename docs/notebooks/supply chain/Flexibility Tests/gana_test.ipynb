{
 "cells": [
  {
   "cell_type": "code",
   "id": "initial_id",
   "metadata": {
    "collapsed": true,
    "ExecuteTime": {
     "end_time": "2025-07-10T16:39:07.836365Z",
     "start_time": "2025-07-10T16:39:07.487292Z"
    }
   },
   "source": [
    "from pyomo.environ import *\n",
    "import math\n",
    "from pyomo.environ import exp\n",
    "import os\n",
    "# gams_path = r'C:\\GAMS\\45'\n",
    "# os.environ[\"PATH\"] += os.pathsep + gams_path\n",
    "# import sys\n",
    "# sys.path.append(r'C:\\GAMS\\45')"
   ],
   "outputs": [],
   "execution_count": 1
  },
  {
   "cell_type": "code",
   "source": [
    "m = ConcreteModel()\n",
    "\n",
    "# Design variables\n",
    "m.d0 = Var(bounds=(0, 5))\n",
    "m.d1 = Var(bounds=(0, 5))\n",
    "\n",
    "# Binary variables indicating region membership\n",
    "m.y0 = Var(within=Binary)\n",
    "m.y1 = Var(within=Binary)\n",
    "m.y2 = Var(within=Binary)\n",
    "m.y3 = Var(within=Binary)\n",
    "m.y4 = Var(within=Binary)\n",
    "m.y5 = Var(within=Binary)\n",
    "\n",
    "m.sf = Var(within=NonNegativeReals)\n",
    "\n",
    "M = 1000\n",
    "target = 0.65\n",
    "\n",
    "# Region 0:\n",
    "m.r0c0 = Constraint(expr = m.d0 -2*m.d1 -5/3 <= M*(1-m.y0))\n",
    "m.r0c1 = Constraint(expr = m.d0 -2*m.d1 -13/3 <= M*(1-m.y0))\n",
    "m.r0c2 = Constraint(expr = -m.d0 +2*m.d1 +7/3 <= M*(1-m.y0))\n",
    "\n",
    "# Region 1:\n",
    "m.r1c0 = Constraint(expr = m.d0 -2*m.d1 -5/3 <= M*(1-m.y1))\n",
    "m.r1c1 = Constraint(expr = -4*m.d0 +4*m.d1 +8/3 <= M*(1-m.y1))\n",
    "m.r1c2 = Constraint(expr = m.d0 -2*m.d1 -7/3 <= M*(1-m.y1))\n",
    "\n",
    "# Region 2:\n",
    "m.r2c0 = Constraint(expr = m.d0 -2*m.d1 -5/3 <= M*(1-m.y2))\n",
    "m.r2c1 = Constraint(expr = m.d0 -m.d1 -2/3 <= M*(1-m.y2))\n",
    "\n",
    "# Region 3:\n",
    "m.r3c0 = Constraint(expr = -m.d0 +2*m.d1 -5/3 <= M*(1-m.y3))\n",
    "m.r3c1 = Constraint(expr = m.d0 -2*m.d1 -7 <= M*(1-m.y3))\n",
    "m.r3c2 = Constraint(expr = -m.d0 +2*m.d1 +3 <= M*(1-m.y3))\n",
    "\n",
    "# Region 4:\n",
    "m.r4c0 = Constraint(expr = -m.d0 +2*m.d1 -5/3 <= M*(1-m.y4))\n",
    "m.r4c1 = Constraint(expr = -3*m.d0 +2*m.d1 +1 <= M*(1-m.y4))\n",
    "m.r4c2 = Constraint(expr = m.d0 - 2*m.d1 - 3 <= M*(1-m.y4))\n",
    "\n",
    "# Region 5:\n",
    "m.r5c0 = Constraint(expr = -m.d0 +2*m.d1 -5/3 <= M*(1-m.y5))\n",
    "m.r5c1 = Constraint(expr = 3*m.d0 -2*m.d1 -1 <= M*(1-m.y5))\n",
    "\n",
    "# Only one region active\n",
    "m.only_one_region = Constraint(expr=m.y0 + m.y1 + m.y2 + m.y3 + m.y4 + m.y5 == 1)\n",
    "\n",
    "# SF expressions\n",
    "sf0 = (-16*m.d0 + 32*m.d1 + 208/3)*exp(-2*(-m.d0 + 2*m.d1 + 7/3)**2)/math.pi\n",
    "sf1 = 32/math.pi\n",
    "sf2 = (4*m.d0 -4*m.d1 + 88/3)*exp(-2*(-0.25*m.d0 +0.25*m.d1 +1/6)**2)/math.pi\n",
    "sf3 = 8*(-m.d0 + 2*m.d1 +7)*(-0.1875*m.d0 +0.375*m.d1 +1.3125)*exp(-2*(0.375*m.d0 -0.75*m.d1 -0.625)**2 -2*(0.5*m.d0 -m.d1 -1.5)**2)/math.pi\n",
    "sf4 = (-6*m.d0 +12*m.d1 +42)*exp(-2*(-0.375*m.d0 +0.75*m.d1 +0.625)**2)/math.pi\n",
    "sf5 = 8*(-0.1875*m.d0 +0.375*m.d1 +1.3125)*(0.375*m.d0 -0.25*m.d1 +3.875)*exp(-2*(-0.1875*m.d0 +0.125*m.d1 +0.0625)**2 -2*(0.375*m.d0 -0.75*m.d1 -0.625)**2)/math.pi\n",
    "\n",
    "\n",
    "# # Conditional constraints\n",
    "m.sf0_con = Constraint(expr=sf0 >= target - M*(1 - m.y0))\n",
    "m.sf1_con = Constraint(expr=sf1 >= target - M*(1 - m.y1))\n",
    "m.sf2_con = Constraint(expr=sf2 >= target - M*(1 - m.y2))\n",
    "m.sf3_con = Constraint(expr=sf3 >= target - M*(1 - m.y3))\n",
    "m.sf4_con = Constraint(expr=sf4 >= target - M*(1 - m.y4))\n",
    "m.sf5_con = Constraint(expr=sf5 >= target - M*(1 - m.y5))\n",
    "\n",
    "m.sf_con = Constraint(expr=m.sf == sf0*m.y0 + sf1*m.y1 + sf2*m.y2 + sf3*m.y3 + sf4*m.y4 + sf5*m.y5)\n",
    "m.obj = Objective(expr=10*m.d0 + 10*m.d1, sense=minimize)"
   ],
   "metadata": {
    "collapsed": false,
    "ExecuteTime": {
     "end_time": "2025-07-10T16:39:07.867489Z",
     "start_time": "2025-07-10T16:39:07.838362Z"
    }
   },
   "id": "30474b1020997c09",
   "outputs": [],
   "execution_count": 2
  },
  {
   "metadata": {
    "ExecuteTime": {
     "end_time": "2025-07-10T16:39:07.882550Z",
     "start_time": "2025-07-10T16:39:07.868488Z"
    }
   },
   "cell_type": "code",
   "source": [
    "m.sf0_con.pprint()"
   ],
   "id": "4ab6c140380b6fe7",
   "outputs": [
    {
     "name": "stdout",
     "output_type": "stream",
     "text": [
      "sf0_con : Size=1, Index=None, Active=True\n",
      "    Key  : Lower : Body                                                                                                                        : Upper : Active\n",
      "    None :  -Inf : 0.65 - 1000*(1 - y0) - (-16*d0 + 32*d1 + 69.33333333333333)*exp(-2*(- d0 + 2*d1 + 2.3333333333333335)**2)/3.141592653589793 :   0.0 :   True\n"
     ]
    }
   ],
   "execution_count": 3
  },
  {
   "metadata": {
    "ExecuteTime": {
     "end_time": "2025-07-10T16:39:08.161856Z",
     "start_time": "2025-07-10T16:39:07.883550Z"
    }
   },
   "cell_type": "code",
   "source": [
    "results = SolverFactory('gams', solver='baron').solve(m, tee=True)\n",
    "# results = SolverFactory('gurobi', solver_io = 'python').solve(m, tee=True)"
   ],
   "id": "db759332418228dd",
   "outputs": [
    {
     "name": "stdout",
     "output_type": "stream",
     "text": [
      "--- Job model.gms Start 07/10/25 11:39:08 45.7.0 64fbf3ce WEX-WEI x86 64bit/MS Windows\n",
      "--- Applying:\n",
      "    C:\\GAMS\\45\\gmsprmNT.txt\n",
      "--- GAMS Parameters defined\n",
      "    Input C:\\Users\\SHIVAM~1.VED\\AppData\\Local\\Temp\\tmpmjis_2bk\\model.gms\n",
      "    Output C:\\Users\\SHIVAM~1.VED\\AppData\\Local\\Temp\\tmpmjis_2bk\\output.lst\n",
      "    ScrDir C:\\Users\\SHIVAM~1.VED\\AppData\\Local\\Temp\\tmpmjis_2bk\\225a\\\n",
      "    SysDir C:\\GAMS\\45\\\n",
      "    CurDir C:\\Users\\SHIVAM~1.VED\\AppData\\Local\\Temp\\tmpmjis_2bk\\\n",
      "    LogOption 3\n",
      "Licensee: MUD - 30 User License                          G230830|0002AO-GEN\n",
      "          Texas A&M University, Chemical Engineering                DC11194\n",
      "          C:\\GAMS\\45\\gamslice.txt\n",
      "          License Admin: Jeff Polasek, j-polasek@tamu.edu                  \n",
      "          The maintenance period of the license expired on Jun 25, 2024\n",
      "          Please contact GAMS or your distributor for further information\n",
      "Processor information: 1 socket(s), 16 core(s), and 24 thread(s) available\n",
      "GAMS 45.7.0   Copyright (C) 1987-2024 GAMS Development. All rights reserved\n",
      "--- Starting compilation\n",
      "--- model.gms(172) 2 Mb\n",
      "--- Starting execution: elapsed 0:00:00.005\n",
      "--- model.gms(83) 3 Mb\n",
      "--- Generating MINLP model GAMS_MODEL\n",
      "--- model.gms(84) 5 Mb\n",
      "--- Reset Solvelink = 2\n",
      "---   25 rows  10 columns  82 non-zeroes\n",
      "---   229 nl-code  17 nl-non-zeroes\n",
      "---   6 discrete-columns\n",
      "--- Range statistics (absolute non-zero finite values)\n",
      "--- RHS       [min, max] : [ 1.000E+00, 1.010E+03] - Zero values observed as well\n",
      "--- Bound     [min, max] : [ 1.000E+00, 5.000E+00] - Zero values observed as well\n",
      "--- Matrix    [min, max] : [ 4.119E-04, 1.000E+03] - Zero values observed as well\n",
      "--- model.gms(84) 3 Mb\n",
      "--- Executing BARON (Solvelink=2): elapsed 0:00:00.014\n",
      "\n",
      "GAMS/BARON       45.7.0 64fbf3ce Jan 18, 2024          WEI x86 64bit/MS Window\n",
      "\n",
      "===========================================================================\n",
      " BARON version 23.6.22. Built: WIN-64 Thu Jun 22 20:11:26 EDT 2023\n",
      "\n",
      " BARON is a product of The Optimization Firm.\n",
      " For information on BARON, see https://minlp.com/about-baron\n",
      "\n",
      " If you use this software, please cite publications from\n",
      " https://minlp.com/baron-publications, such as: \n",
      "\n",
      " Khajavirad, A. and N. V. Sahinidis,\n",
      " A hybrid LP/NLP paradigm for global optimization relaxations,\n",
      " Mathematical Programming Computation, 10, 383-421, 2018.\n",
      "===========================================================================\n",
      " This BARON run may utilize the following subsolver(s)\n",
      " For LP/MIP/QP: CLP/CBC, ILOG CPLEX                             \n",
      " For NLP: MINOS, SNOPT, External NLP, IPOPT, FILTERSQP\n",
      "===========================================================================\n",
      " Doing local search\n",
      " Preprocessing found feasible solution with value 0.00000\n",
      " Problem solved during preprocessing\n",
      " Lower bound is  -0.100000E-08\n",
      "\n",
      " Calculating duals\n",
      "\n",
      "                         *** Normal completion ***            \n",
      "\n",
      " Wall clock time:                     0.04\n",
      " Total CPU time used:                 0.03\n",
      "\n",
      " Total no. of BaR iterations:      -1\n",
      " Best solution found at node:      -1\n",
      " Max. no. of nodes in memory:       0\n",
      " \n",
      " All done\n",
      "===========================================================================\n",
      "\n",
      "Solution      = 0  best solution found during preprocessing\n",
      "Best possible = -1E-9\n",
      "Absolute gap  = 1E-9  optca = 1E-9\n",
      "Relative gap  = 1  optcr = 0.0001\n",
      "\n",
      "--- Reading solution for model GAMS_MODEL\n",
      "--- Executing after solve: elapsed 0:00:00.103\n",
      "--- model.gms(172) 4 Mb\n",
      "--- Putfile results C:\\Users\\SHIVAM~1.VED\\AppData\\Local\\Temp\\tmpmjis_2bk\\results.dat\n",
      "--- Putfile statresults C:\\Users\\SHIVAM~1.VED\\AppData\\Local\\Temp\\tmpmjis_2bk\\resultsstat.dat\n",
      "*** Status: Normal completion\n",
      "--- Job model.gms Stop 07/10/25 11:39:08 elapsed 0:00:00.105\n"
     ]
    }
   ],
   "execution_count": 4
  },
  {
   "cell_type": "code",
   "outputs": [
    {
     "name": "stdout",
     "output_type": "stream",
     "text": [
      "y2 : Size=1, Index=None\n",
      "    Key  : Lower : Value : Upper : Fixed : Stale : Domain\n",
      "    None :     0 :   1.0 :     1 : False : False : Binary\n"
     ]
    }
   ],
   "source": [
    "m.y2.pprint()"
   ],
   "metadata": {
    "collapsed": false,
    "ExecuteTime": {
     "end_time": "2025-07-10T16:39:08.176855Z",
     "start_time": "2025-07-10T16:39:08.163856Z"
    }
   },
   "id": "971a11368c29d73a",
   "execution_count": 5
  },
  {
   "cell_type": "code",
   "outputs": [
    {
     "name": "stdout",
     "output_type": "stream",
     "text": [
      "d0 : Size=1, Index=None\n",
      "    Key  : Lower : Value : Upper : Fixed : Stale : Domain\n",
      "    None :     0 :   0.0 :     5 : False : False :  Reals\n"
     ]
    }
   ],
   "source": [
    "m.d0.pprint()"
   ],
   "metadata": {
    "collapsed": false,
    "ExecuteTime": {
     "end_time": "2025-07-10T16:39:08.191993Z",
     "start_time": "2025-07-10T16:39:08.177855Z"
    }
   },
   "id": "a6e4f9092a45405d",
   "execution_count": 6
  },
  {
   "cell_type": "code",
   "outputs": [
    {
     "name": "stdout",
     "output_type": "stream",
     "text": [
      "d1 : Size=1, Index=None\n",
      "    Key  : Lower : Value : Upper : Fixed : Stale : Domain\n",
      "    None :     0 :   0.0 :     5 : False : False :  Reals\n"
     ]
    }
   ],
   "source": [
    "m.d1.pprint()"
   ],
   "metadata": {
    "collapsed": false,
    "ExecuteTime": {
     "end_time": "2025-07-10T16:39:08.207123Z",
     "start_time": "2025-07-10T16:39:08.192993Z"
    }
   },
   "id": "5e9ffd8c9dc2c373",
   "execution_count": 7
  },
  {
   "cell_type": "code",
   "outputs": [
    {
     "name": "stdout",
     "output_type": "stream",
     "text": [
      "sf : Size=1, Index=None\n",
      "    Key  : Lower : Value             : Upper : Fixed : Stale : Domain\n",
      "    None :     0 : 8.832508692544286 :  None : False : False : NonNegativeReals\n"
     ]
    }
   ],
   "source": [
    "m.sf.pprint()"
   ],
   "metadata": {
    "collapsed": false,
    "ExecuteTime": {
     "end_time": "2025-07-10T16:39:08.223178Z",
     "start_time": "2025-07-10T16:39:08.208123Z"
    }
   },
   "id": "8dc4069e34c19ef3",
   "execution_count": 8
  },
  {
   "cell_type": "code",
   "outputs": [
    {
     "name": "stdout",
     "output_type": "stream",
     "text": [
      "9 Var Declarations\n",
      "    d0 : Size=1, Index=None\n",
      "        Key  : Lower : Value : Upper : Fixed : Stale : Domain\n",
      "        None :     0 :   0.0 :     5 : False : False :  Reals\n",
      "    d1 : Size=1, Index=None\n",
      "        Key  : Lower : Value : Upper : Fixed : Stale : Domain\n",
      "        None :     0 :   0.0 :     5 : False : False :  Reals\n",
      "    sf : Size=1, Index=None\n",
      "        Key  : Lower : Value             : Upper : Fixed : Stale : Domain\n",
      "        None :     0 : 8.832508692544286 :  None : False : False : NonNegativeReals\n",
      "    y0 : Size=1, Index=None\n",
      "        Key  : Lower : Value : Upper : Fixed : Stale : Domain\n",
      "        None :     0 :   0.0 :     1 : False : False : Binary\n",
      "    y1 : Size=1, Index=None\n",
      "        Key  : Lower : Value : Upper : Fixed : Stale : Domain\n",
      "        None :     0 :   0.0 :     1 : False : False : Binary\n",
      "    y2 : Size=1, Index=None\n",
      "        Key  : Lower : Value : Upper : Fixed : Stale : Domain\n",
      "        None :     0 :   1.0 :     1 : False : False : Binary\n",
      "    y3 : Size=1, Index=None\n",
      "        Key  : Lower : Value : Upper : Fixed : Stale : Domain\n",
      "        None :     0 :   0.0 :     1 : False : False : Binary\n",
      "    y4 : Size=1, Index=None\n",
      "        Key  : Lower : Value : Upper : Fixed : Stale : Domain\n",
      "        None :     0 :   0.0 :     1 : False : False : Binary\n",
      "    y5 : Size=1, Index=None\n",
      "        Key  : Lower : Value : Upper : Fixed : Stale : Domain\n",
      "        None :     0 :   0.0 :     1 : False : False : Binary\n",
      "\n",
      "1 Objective Declarations\n",
      "    obj : Size=1, Index=None, Active=True\n",
      "        Key  : Active : Sense    : Expression\n",
      "        None :   True : minimize : 10*d0 + 10*d1\n",
      "\n",
      "24 Constraint Declarations\n",
      "    only_one_region : Size=1, Index=None, Active=True\n",
      "        Key  : Lower : Body                        : Upper : Active\n",
      "        None :   1.0 : y0 + y1 + y2 + y3 + y4 + y5 :   1.0 :   True\n",
      "    r0c0 : Size=1, Index=None, Active=True\n",
      "        Key  : Lower : Body                                           : Upper : Active\n",
      "        None :  -Inf : d0 - 2*d1 - 1.6666666666666667 - 1000*(1 - y0) :   0.0 :   True\n",
      "    r0c1 : Size=1, Index=None, Active=True\n",
      "        Key  : Lower : Body                                          : Upper : Active\n",
      "        None :  -Inf : d0 - 2*d1 - 4.333333333333333 - 1000*(1 - y0) :   0.0 :   True\n",
      "    r0c2 : Size=1, Index=None, Active=True\n",
      "        Key  : Lower : Body                                             : Upper : Active\n",
      "        None :  -Inf : - d0 + 2*d1 + 2.3333333333333335 - 1000*(1 - y0) :   0.0 :   True\n",
      "    r1c0 : Size=1, Index=None, Active=True\n",
      "        Key  : Lower : Body                                           : Upper : Active\n",
      "        None :  -Inf : d0 - 2*d1 - 1.6666666666666667 - 1000*(1 - y1) :   0.0 :   True\n",
      "    r1c1 : Size=1, Index=None, Active=True\n",
      "        Key  : Lower : Body                                              : Upper : Active\n",
      "        None :  -Inf : -4*d0 + 4*d1 + 2.6666666666666665 - 1000*(1 - y1) :   0.0 :   True\n",
      "    r1c2 : Size=1, Index=None, Active=True\n",
      "        Key  : Lower : Body                                           : Upper : Active\n",
      "        None :  -Inf : d0 - 2*d1 - 2.3333333333333335 - 1000*(1 - y1) :   0.0 :   True\n",
      "    r2c0 : Size=1, Index=None, Active=True\n",
      "        Key  : Lower : Body                                           : Upper : Active\n",
      "        None :  -Inf : d0 - 2*d1 - 1.6666666666666667 - 1000*(1 - y2) :   0.0 :   True\n",
      "    r2c1 : Size=1, Index=None, Active=True\n",
      "        Key  : Lower : Body                                         : Upper : Active\n",
      "        None :  -Inf : d0 - d1 - 0.6666666666666666 - 1000*(1 - y2) :   0.0 :   True\n",
      "    r3c0 : Size=1, Index=None, Active=True\n",
      "        Key  : Lower : Body                                             : Upper : Active\n",
      "        None :  -Inf : - d0 + 2*d1 - 1.6666666666666667 - 1000*(1 - y3) :   0.0 :   True\n",
      "    r3c1 : Size=1, Index=None, Active=True\n",
      "        Key  : Lower : Body                          : Upper : Active\n",
      "        None :  -Inf : d0 - 2*d1 - 7 - 1000*(1 - y3) :   0.0 :   True\n",
      "    r3c2 : Size=1, Index=None, Active=True\n",
      "        Key  : Lower : Body                            : Upper : Active\n",
      "        None :  -Inf : - d0 + 2*d1 + 3 - 1000*(1 - y3) :   0.0 :   True\n",
      "    r4c0 : Size=1, Index=None, Active=True\n",
      "        Key  : Lower : Body                                             : Upper : Active\n",
      "        None :  -Inf : - d0 + 2*d1 - 1.6666666666666667 - 1000*(1 - y4) :   0.0 :   True\n",
      "    r4c1 : Size=1, Index=None, Active=True\n",
      "        Key  : Lower : Body                             : Upper : Active\n",
      "        None :  -Inf : -3*d0 + 2*d1 + 1 - 1000*(1 - y4) :   0.0 :   True\n",
      "    r4c2 : Size=1, Index=None, Active=True\n",
      "        Key  : Lower : Body                          : Upper : Active\n",
      "        None :  -Inf : d0 - 2*d1 - 3 - 1000*(1 - y4) :   0.0 :   True\n",
      "    r5c0 : Size=1, Index=None, Active=True\n",
      "        Key  : Lower : Body                                             : Upper : Active\n",
      "        None :  -Inf : - d0 + 2*d1 - 1.6666666666666667 - 1000*(1 - y5) :   0.0 :   True\n",
      "    r5c1 : Size=1, Index=None, Active=True\n",
      "        Key  : Lower : Body                            : Upper : Active\n",
      "        None :  -Inf : 3*d0 - 2*d1 - 1 - 1000*(1 - y5) :   0.0 :   True\n",
      "    sf0_con : Size=1, Index=None, Active=True\n",
      "        Key  : Lower : Body                                                                                                                        : Upper : Active\n",
      "        None :  -Inf : 0.65 - 1000*(1 - y0) - (-16*d0 + 32*d1 + 69.33333333333333)*exp(-2*(- d0 + 2*d1 + 2.3333333333333335)**2)/3.141592653589793 :   0.0 :   True\n",
      "    sf1_con : Size=1, Index=None, Active=True\n",
      "        Key  : Lower : Body                 : Upper              : Active\n",
      "        None :  -Inf : 0.65 - 1000*(1 - y1) : 10.185916357881302 :   True\n",
      "    sf2_con : Size=1, Index=None, Active=True\n",
      "        Key  : Lower : Body                                                                                                                              : Upper : Active\n",
      "        None :  -Inf : 0.65 - 1000*(1 - y2) - (4*d0 - 4*d1 + 29.333333333333332)*exp(-2*(-0.25*d0 + 0.25*d1 + 0.16666666666666666)**2)/3.141592653589793 :   0.0 :   True\n",
      "    sf3_con : Size=1, Index=None, Active=True\n",
      "        Key  : Lower : Body                                                                                                                                                             : Upper : Active\n",
      "        None :  -Inf : 0.65 - 1000*(1 - y3) - 8*(- d0 + 2*d1 + 7)*(-0.1875*d0 + 0.375*d1 + 1.3125)*exp(-2*(0.375*d0 - 0.75*d1 - 0.625)**2 - 2*(0.5*d0 - d1 - 1.5)**2)/3.141592653589793 :   0.0 :   True\n",
      "    sf4_con : Size=1, Index=None, Active=True\n",
      "        Key  : Lower : Body                                                                                                   : Upper : Active\n",
      "        None :  -Inf : 0.65 - 1000*(1 - y4) - (-6*d0 + 12*d1 + 42)*exp(-2*(-0.375*d0 + 0.75*d1 + 0.625)**2)/3.141592653589793 :   0.0 :   True\n",
      "    sf5_con : Size=1, Index=None, Active=True\n",
      "        Key  : Lower : Body                                                                                                                                                                                     : Upper : Active\n",
      "        None :  -Inf : 0.65 - 1000*(1 - y5) - 8*(-0.1875*d0 + 0.375*d1 + 1.3125)*(0.375*d0 - 0.25*d1 + 3.875)*exp(-2*(-0.1875*d0 + 0.125*d1 + 0.0625)**2 - 2*(0.375*d0 - 0.75*d1 - 0.625)**2)/3.141592653589793 :   0.0 :   True\n",
      "    sf_con : Size=1, Index=None, Active=True\n",
      "        Key  : Lower : Body                                                                                                                                                                                                                                                                                                                                                                                                                                                                                                                                                                                                                                                              : Upper : Active\n",
      "        None :   0.0 : sf - ((-16*d0 + 32*d1 + 69.33333333333333)*exp(-2*(- d0 + 2*d1 + 2.3333333333333335)**2)/3.141592653589793*y0 + 10.185916357881302*y1 + (4*d0 - 4*d1 + 29.333333333333332)*exp(-2*(-0.25*d0 + 0.25*d1 + 0.16666666666666666)**2)/3.141592653589793*y2 + 8*(- d0 + 2*d1 + 7)*(-0.1875*d0 + 0.375*d1 + 1.3125)*exp(-2*(0.375*d0 - 0.75*d1 - 0.625)**2 - 2*(0.5*d0 - d1 - 1.5)**2)/3.141592653589793*y3 + (-6*d0 + 12*d1 + 42)*exp(-2*(-0.375*d0 + 0.75*d1 + 0.625)**2)/3.141592653589793*y4 + 8*(-0.1875*d0 + 0.375*d1 + 1.3125)*(0.375*d0 - 0.25*d1 + 3.875)*exp(-2*(-0.1875*d0 + 0.125*d1 + 0.0625)**2 - 2*(0.375*d0 - 0.75*d1 - 0.625)**2)/3.141592653589793*y5) :   0.0 :   True\n",
      "\n",
      "34 Declarations: d0 d1 y0 y1 y2 y3 y4 y5 sf r0c0 r0c1 r0c2 r1c0 r1c1 r1c2 r2c0 r2c1 r3c0 r3c1 r3c2 r4c0 r4c1 r4c2 r5c0 r5c1 only_one_region sf0_con sf1_con sf2_con sf3_con sf4_con sf5_con sf_con obj\n"
     ]
    }
   ],
   "source": [
    "m.pprint()"
   ],
   "metadata": {
    "collapsed": false,
    "ExecuteTime": {
     "end_time": "2025-07-10T16:48:04.771602Z",
     "start_time": "2025-07-10T16:48:04.762189Z"
    }
   },
   "id": "ed8c999a5787677a",
   "execution_count": 9
  },
  {
   "cell_type": "code",
   "outputs": [],
   "source": [],
   "metadata": {
    "collapsed": false
   },
   "id": "bb63ee411e06b89b"
  }
 ],
 "metadata": {
  "kernelspec": {
   "display_name": "Python 3",
   "language": "python",
   "name": "python3"
  },
  "language_info": {
   "codemirror_mode": {
    "name": "ipython",
    "version": 2
   },
   "file_extension": ".py",
   "mimetype": "text/x-python",
   "name": "python",
   "nbconvert_exporter": "python",
   "pygments_lexer": "ipython2",
   "version": "2.7.6"
  }
 },
 "nbformat": 4,
 "nbformat_minor": 5
}
