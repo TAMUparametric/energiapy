{
 "cells": [
  {
   "cell_type": "code",
   "execution_count": 2,
   "id": "initial_id",
   "metadata": {
    "collapsed": true,
    "ExecuteTime": {
     "end_time": "2025-07-09T15:10:27.539859Z",
     "start_time": "2025-07-09T15:10:27.232013Z"
    }
   },
   "outputs": [],
   "source": [
    "from pyomo.environ import *"
   ]
  },
  {
   "cell_type": "code",
   "outputs": [],
   "source": [
    "# m = ConcreteModel()\n",
    "# m.d1 = Var(within=NonNegativeReals, bounds=(0,5))\n",
    "# m.d2 = Var(within=NonNegativeReals, bounds=(0,5))\n",
    "# \n",
    "# F_t = 0.9\n",
    "# \n",
    "# m.c1 = Constraint(expr=(1/16)*(3*m.d1 - 3*m.d2 + 10) >= F_t)\n",
    "# m.c2 = Constraint(expr=(1/11)*(-3*m.d1 + 6*m.d2 + 10) >= F_t)\n",
    "# \n",
    "# m.obj = Objective(expr=10*m.d1 + 10*m.d2, sense=minimize)\n",
    "# \n",
    "# SolverFactory('gurobi').solve(m, tee=True)"
   ],
   "metadata": {
    "collapsed": false,
    "ExecuteTime": {
     "end_time": "2025-07-09T15:10:27.555856Z",
     "start_time": "2025-07-09T15:10:27.542025Z"
    }
   },
   "id": "c10b5c7b8b66db4e",
   "execution_count": 3
  },
  {
   "cell_type": "code",
   "outputs": [],
   "source": [
    "# for c in m.component_objects(Constraint, active=True):\n",
    "#     print(f\"\\nConstraint: {c.name}\")\n",
    "#     for i in c:\n",
    "#         con = c[i]\n",
    "#         body_val = value(con.body)\n",
    "#         if con.has_ub():\n",
    "#             slack = value(con.upper) - body_val\n",
    "#             print(f\"Slack (UB): {slack}\")\n",
    "#         if con.has_lb():\n",
    "#             slack = body_val - value(con.lower)\n",
    "#             print(f\"Slack (LB): {slack}\")\n"
   ],
   "metadata": {
    "collapsed": false,
    "ExecuteTime": {
     "end_time": "2025-07-09T15:10:27.571786Z",
     "start_time": "2025-07-09T15:10:27.557011Z"
    }
   },
   "id": "916ea454edca46c3",
   "execution_count": 4
  },
  {
   "cell_type": "code",
   "outputs": [
    {
     "data": {
      "text/plain": "{'Problem': [{'Name': 'x1', 'Lower bound': 3.2499999999998863, 'Upper bound': 3.2499999999998863, 'Number of objectives': 1, 'Number of constraints': 11, 'Number of variables': 4, 'Number of binary variables': 2, 'Number of integer variables': 2, 'Number of continuous variables': 2, 'Number of nonzeros': 24, 'Sense': 'minimize'}], 'Solver': [{'Status': 'ok', 'Return code': '0', 'Message': 'Model was solved to optimality (subject to tolerances), and an optimal solution is available.', 'Termination condition': 'optimal', 'Termination message': 'Model was solved to optimality (subject to tolerances), and an optimal solution is available.', 'Wall time': '0.0010001659393310547', 'Error rc': 0, 'Time': 0.17607426643371582}], 'Solution': [OrderedDict([('number of solutions', 0), ('number of solutions displayed', 0)])]}"
     },
     "execution_count": 25,
     "metadata": {},
     "output_type": "execute_result"
    }
   ],
   "source": [
    "model = ConcreteModel()\n",
    "\n",
    "# Design variables\n",
    "model.x = Var(bounds=(0, 4))\n",
    "model.y = Var(bounds=(0, 3))\n",
    "\n",
    "# Binary variables indicating region membership\n",
    "model.delta1 = Var(within=Binary)\n",
    "model.delta2 = Var(within=Binary)\n",
    "\n",
    "M = 1000\n",
    "target = 0.65\n",
    "\n",
    "# Region 1: x in [0,2], y in [0,2]\n",
    "model.r1x = Constraint(expr=model.x <= 2 + M*(1 - model.delta1))\n",
    "model.r1y = Constraint(expr=model.y <= 2 + M*(1 - model.delta1))\n",
    "model.r1x_lb = Constraint(expr=model.x >= 0 - M*(1 - model.delta1))\n",
    "model.r1y_lb = Constraint(expr=model.y >= 0 - M*(1 - model.delta1))\n",
    "\n",
    "# Region 2: x in (2,4], y in [1,3]\n",
    "model.r2x = Constraint(expr=model.x >= 2 + 1e-4 - M*(1 - model.delta2))  # Open lower bound\n",
    "model.r2x_ub = Constraint(expr=model.x <= 4 + M*(1 - model.delta2))\n",
    "model.r2y = Constraint(expr=model.y >= 1 - M*(1 - model.delta2))\n",
    "model.r2y_ub = Constraint(expr=model.y <= 3 + M*(1 - model.delta2))\n",
    "\n",
    "# Only one region active\n",
    "model.only_one_region = Constraint(expr=model.delta1 + model.delta2 == 1)\n",
    "\n",
    "# SF expressions\n",
    "sf1 = 2*model.x + 3*model.y\n",
    "sf2 = 4*model.x + model.y\n",
    "\n",
    "# Conditional constraints\n",
    "model.sf1_cons = Constraint(expr=sf1 >= target - M*(1 - model.delta1))\n",
    "model.sf2_cons = Constraint(expr=sf2 >= target - M*(1 - model.delta2))\n",
    "\n",
    "model.obj = Objective(expr=10*model.x + 20*model.y, sense=minimize)\n",
    "\n",
    "SolverFactory('gurobi').solve(model)"
   ],
   "metadata": {
    "collapsed": false,
    "ExecuteTime": {
     "end_time": "2025-07-09T15:14:18.447632Z",
     "start_time": "2025-07-09T15:14:18.245802Z"
    }
   },
   "id": "db9eb08facebd069",
   "execution_count": 25
  },
  {
   "cell_type": "code",
   "outputs": [
    {
     "name": "stdout",
     "output_type": "stream",
     "text": [
      "obj : Size=1, Index=None, Active=True\n",
      "    Key  : Active : Sense    : Expression\n",
      "    None :   True : minimize : 10*x + 20*y\n"
     ]
    }
   ],
   "source": [
    "model.obj.pprint()"
   ],
   "metadata": {
    "collapsed": false,
    "ExecuteTime": {
     "end_time": "2025-07-09T15:14:18.605637Z",
     "start_time": "2025-07-09T15:14:18.591156Z"
    }
   },
   "id": "db4825ef045c7cb0",
   "execution_count": 26
  },
  {
   "cell_type": "code",
   "outputs": [
    {
     "name": "stdout",
     "output_type": "stream",
     "text": [
      "x : Size=1, Index=None\n",
      "    Key  : Lower : Value               : Upper : Fixed : Stale : Domain\n",
      "    None :     0 : 0.32499999999998863 :     4 : False : False :  Reals\n"
     ]
    }
   ],
   "source": [
    "model.x.pprint()"
   ],
   "metadata": {
    "collapsed": false,
    "ExecuteTime": {
     "end_time": "2025-07-09T15:14:18.903678Z",
     "start_time": "2025-07-09T15:14:18.892679Z"
    }
   },
   "id": "474eaff6800f3be0",
   "execution_count": 27
  },
  {
   "cell_type": "code",
   "outputs": [
    {
     "name": "stdout",
     "output_type": "stream",
     "text": [
      "y : Size=1, Index=None\n",
      "    Key  : Lower : Value : Upper : Fixed : Stale : Domain\n",
      "    None :     0 :  -0.0 :     3 : False : False :  Reals\n"
     ]
    }
   ],
   "source": [
    "model.y.pprint()"
   ],
   "metadata": {
    "collapsed": false,
    "ExecuteTime": {
     "end_time": "2025-07-09T15:14:19.215982Z",
     "start_time": "2025-07-09T15:14:19.197817Z"
    }
   },
   "id": "83cfe09eda5d23e6",
   "execution_count": 28
  },
  {
   "cell_type": "code",
   "outputs": [
    {
     "name": "stdout",
     "output_type": "stream",
     "text": [
      "delta1 : Size=1, Index=None\n",
      "    Key  : Lower : Value : Upper : Fixed : Stale : Domain\n",
      "    None :     0 :   1.0 :     1 : False : False : Binary\n"
     ]
    }
   ],
   "source": [
    "model.delta1.pprint()"
   ],
   "metadata": {
    "collapsed": false,
    "ExecuteTime": {
     "end_time": "2025-07-09T15:14:19.482333Z",
     "start_time": "2025-07-09T15:14:19.477079Z"
    }
   },
   "id": "3e2dc92b24ef83ff",
   "execution_count": 29
  },
  {
   "cell_type": "code",
   "outputs": [
    {
     "name": "stdout",
     "output_type": "stream",
     "text": [
      "delta2 : Size=1, Index=None\n",
      "    Key  : Lower : Value : Upper : Fixed : Stale : Domain\n",
      "    None :     0 :   0.0 :     1 : False : False : Binary\n"
     ]
    }
   ],
   "source": [
    "model.delta2.pprint()"
   ],
   "metadata": {
    "collapsed": false,
    "ExecuteTime": {
     "end_time": "2025-07-09T15:14:20.015726Z",
     "start_time": "2025-07-09T15:14:20.013603Z"
    }
   },
   "id": "8f6f9e4a7ce567f0",
   "execution_count": 30
  },
  {
   "cell_type": "code",
   "outputs": [],
   "source": [
    "import numpy as np"
   ],
   "metadata": {
    "collapsed": false,
    "ExecuteTime": {
     "end_time": "2025-07-09T15:22:26.701876Z",
     "start_time": "2025-07-09T15:22:26.615640Z"
    }
   },
   "id": "b39f66681234f8c6",
   "execution_count": 31
  },
  {
   "cell_type": "code",
   "outputs": [],
   "source": [
    "p,w = np.polynomial.legendre.leggauss(1)"
   ],
   "metadata": {
    "collapsed": false,
    "ExecuteTime": {
     "end_time": "2025-07-09T16:31:56.114153Z",
     "start_time": "2025-07-09T16:31:56.103156Z"
    }
   },
   "id": "67e513977c44d012",
   "execution_count": 37
  },
  {
   "cell_type": "code",
   "outputs": [
    {
     "data": {
      "text/plain": "array([0.])"
     },
     "execution_count": 38,
     "metadata": {},
     "output_type": "execute_result"
    }
   ],
   "source": [
    "p"
   ],
   "metadata": {
    "collapsed": false,
    "ExecuteTime": {
     "end_time": "2025-07-09T16:31:56.336135Z",
     "start_time": "2025-07-09T16:31:56.321128Z"
    }
   },
   "id": "ce4ccd2b7199495b",
   "execution_count": 38
  },
  {
   "cell_type": "code",
   "outputs": [
    {
     "data": {
      "text/plain": "array([2.])"
     },
     "execution_count": 39,
     "metadata": {},
     "output_type": "execute_result"
    }
   ],
   "source": [
    "w"
   ],
   "metadata": {
    "collapsed": false,
    "ExecuteTime": {
     "end_time": "2025-07-09T16:31:56.603695Z",
     "start_time": "2025-07-09T16:31:56.585599Z"
    }
   },
   "id": "c0a22d8395419734",
   "execution_count": 39
  },
  {
   "cell_type": "code",
   "outputs": [],
   "source": [],
   "metadata": {
    "collapsed": false,
    "ExecuteTime": {
     "end_time": "2025-07-09T16:31:57.012413Z",
     "start_time": "2025-07-09T16:31:57.001412Z"
    }
   },
   "id": "4d0997114346cd68",
   "execution_count": 39
  },
  {
   "cell_type": "code",
   "outputs": [],
   "source": [],
   "metadata": {
    "collapsed": false
   },
   "id": "30474b1020997c09"
  }
 ],
 "metadata": {
  "kernelspec": {
   "display_name": "Python 3",
   "language": "python",
   "name": "python3"
  },
  "language_info": {
   "codemirror_mode": {
    "name": "ipython",
    "version": 2
   },
   "file_extension": ".py",
   "mimetype": "text/x-python",
   "name": "python",
   "nbconvert_exporter": "python",
   "pygments_lexer": "ipython2",
   "version": "2.7.6"
  }
 },
 "nbformat": 4,
 "nbformat_minor": 5
}
