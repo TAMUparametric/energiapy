{
 "cells": [
  {
   "cell_type": "code",
   "execution_count": 23,
   "id": "initial_id",
   "metadata": {
    "collapsed": true,
    "ExecuteTime": {
     "end_time": "2025-07-31T13:42:57.399006Z",
     "start_time": "2025-07-31T13:42:57.382167Z"
    }
   },
   "outputs": [],
   "source": [
    "import numpy as np\n",
    "from ppopt.mplp_program import MPLP_Program\n",
    "from ppopt.mpmodel import MPModeler\n",
    "from ppopt.mp_solvers.solve_mpqp import solve_mpqp, mpqp_algorithm\n",
    "from ppopt.plot import parametric_plot\n",
    "from pyomo.environ import *\n",
    "import pyomo.environ as pyo\n",
    "# from numpy.polynomial.legendre import leggauss\n",
    "# from scipy.optimize import linprog\n",
    "# from collections import defaultdict\n",
    "# import time\n",
    "# import sympy as sp\n",
    "# from sympy.logic.boolalg import BooleanTrue, BooleanFalse\n",
    "from typing import List, Tuple\n",
    "# import pickle\n",
    "# import math\n",
    "# import itertools\n",
    "# import numpy as np\n",
    "# from IPython.display import display"
   ]
  },
  {
   "cell_type": "code",
   "outputs": [],
   "source": [
    "def get_sources(trans_list:List[Tuple], sinks:list):\n",
    "    sources = {i: None for i in sinks}\n",
    "    for sink in sinks:\n",
    "        so_list = list()\n",
    "        for pair in trans_list:\n",
    "            if pair[1]==sink:\n",
    "                so_list.append(pair[0])\n",
    "        sources[sink] = so_list\n",
    "    return sources"
   ],
   "metadata": {
    "collapsed": false,
    "ExecuteTime": {
     "end_time": "2025-07-31T13:42:57.414816Z",
     "start_time": "2025-07-31T13:42:57.402192Z"
    }
   },
   "id": "2783ef3340559416",
   "execution_count": 24
  },
  {
   "cell_type": "code",
   "outputs": [],
   "source": [
    "def get_sinks(trans_list:List[Tuple], sources:list):\n",
    "    sinks = {i: None for i in sources}\n",
    "    for source in sources:\n",
    "        si_list = list()\n",
    "        for pair in trans_list:\n",
    "            if pair[0] == source:\n",
    "                si_list.append(pair[1])\n",
    "        sinks[source] = si_list\n",
    "    return sinks"
   ],
   "metadata": {
    "collapsed": false,
    "ExecuteTime": {
     "end_time": "2025-07-31T13:42:57.430661Z",
     "start_time": "2025-07-31T13:42:57.420159Z"
    }
   },
   "id": "4be4e20668ae4eef",
   "execution_count": 25
  },
  {
   "cell_type": "code",
   "outputs": [],
   "source": [
    "loc_indexes = [i for i in range(1,6)]\n",
    "loc_capacities = [60, 70, 120, 40, 150]\n",
    "markets = [5]\n",
    "loc_for_design = [3]\n",
    "cap_capex_dict = {3:50}\n",
    "cap_opex_dict = {3:2}\n",
    "\n",
    "transports = [(1,3), (2, 3), (2, 4), (3, 5), (4, 3), (4, 5)]\n",
    "trans_costs = [0.24, 0.37, 0.41, 0.29, 0.46, 0.33]\n",
    "source_dict = get_sources(trans_list=transports, sinks=loc_indexes)\n",
    "sink_dict = get_sinks(trans_list=transports, sources=loc_indexes)\n",
    "loc_inters = [i for i in loc_indexes if (source_dict[i] and sink_dict[i])]\n",
    "\n",
    "demand_bounds = {5: (70, 130)}\n",
    "capf_bounds = {4:(0, 0.5)}\n",
    "nt = 2\n",
    "\n",
    "loc_capacities_dict = {j: loc_capacities[i] for i,j in enumerate(loc_indexes)}\n",
    "trans_costs_dict = {j: trans_costs[i] for i,j in enumerate(transports)}"
   ],
   "metadata": {
    "collapsed": false,
    "ExecuteTime": {
     "end_time": "2025-07-31T13:42:57.445899Z",
     "start_time": "2025-07-31T13:42:57.433151Z"
    }
   },
   "id": "177aaf4795922314",
   "execution_count": 26
  },
  {
   "cell_type": "markdown",
   "source": [
    "## FLEXIBILITY TEST"
   ],
   "metadata": {
    "collapsed": false
   },
   "id": "dde2bb80add8aab8"
  },
  {
   "cell_type": "code",
   "outputs": [],
   "source": [
    "model = MPModeler()\n",
    "\n",
    "u = model.add_var('u')\n",
    "f = {(i[0],i[1]): model.add_var(name=f'f[{i[0]},{i[1]}]') for i in transports}\n",
    "\n",
    "d = {m: model.add_param(name=f'd_{m}') for m in markets}\n",
    "capf = {i: model.add_param(name=f'capf_{i}') for i in capf_bounds}\n",
    "\n",
    "model.add_constrs([(sum(f[so, si] for si in sink_dict[so]) if sink_dict[so] else sum(f[sp, so] for sp in source_dict[so])) <= (\n",
    "        capf[so] * loc_capacities_dict[so] + u if so in capf_bounds else loc_capacities_dict[so] + u) for so in loc_indexes if so not in loc_for_design])\n",
    "\n",
    "if loc_for_design:\n",
    "    loc_cap = {i: model.add_param(name=f'cap_{i}') for i in loc_for_design}\n",
    "    y_cap = {i: model.add_var(name=f'y_{i}') for i in loc_for_design}\n",
    "    model.add_constrs([(sum(f[so, si] for si in sink_dict[so]) if sink_dict[so] else sum(f[sp, so] for sp in source_dict[so])) <=\n",
    "                       (loc_cap[so] + u) for so in loc_for_design])\n",
    "    model.add_constrs([loc_cap[so] <= y_cap[so]*loc_capacities_dict[so] + u for so in loc_for_design])\n",
    "\n",
    "model.add_constrs([sum(f[i, si] for si in sink_dict[i]) == sum(f[so, i] for so in source_dict[i]) for i in loc_inters])\n",
    "model.add_constrs([sum(f[so,m] for so in source_dict[m]) + u >= d[m] for m in markets])\n",
    "\n",
    "model.add_constrs([f[i]>=0 for i in transports])\n",
    "\n",
    "model.add_constrs(d[m] <= demand_bounds[m][1] for m in markets)\n",
    "model.add_constrs(d[m] >= demand_bounds[m][0] for m in markets)\n",
    "model.add_constrs(capf[l] <= capf_bounds[l][1] for l in capf_bounds)\n",
    "model.add_constrs(capf[l] >= capf_bounds[l][0] for l in capf_bounds)\n",
    "\n",
    "model.set_objective(u)\n",
    "prog = model.formulate_problem()\n",
    "prog.process_constraints()"
   ],
   "metadata": {
    "collapsed": false,
    "ExecuteTime": {
     "end_time": "2025-07-31T13:42:57.477265Z",
     "start_time": "2025-07-31T13:42:57.446970Z"
    }
   },
   "id": "1c7fb162d35858ac",
   "execution_count": 27
  },
  {
   "cell_type": "markdown",
   "source": [
    "## COST MINIMIZATION - FIXED DESIGN"
   ],
   "metadata": {
    "collapsed": false
   },
   "id": "248bc1ea4cfa5427"
  },
  {
   "cell_type": "code",
   "outputs": [],
   "source": [
    "# model = MPModeler()\n",
    "# \n",
    "# # u = model.add_var('u')\n",
    "# f = {(i[0],i[1]): model.add_var(name=f'f[{i[0]},{i[1]}]') for i in transports}\n",
    "# \n",
    "# d = {m: model.add_param(name=f'd_{m}') for m in markets}\n",
    "# capf = {i: model.add_param(name=f'capf_{i}') for i in capf_bounds}\n",
    "# \n",
    "# model.add_constrs([(sum(f[so, si] for si in sink_dict[so]) if sink_dict[so] else sum(f[sp, so] for sp in source_dict[so])) <= (\n",
    "#         capf[so] * loc_capacities_dict[so] if so in capf_bounds else loc_capacities_dict[so]) for so in loc_indexes])\n",
    "# \n",
    "# model.add_constrs([sum(f[i, si] for si in sink_dict[i]) == sum(f[so, i] for so in source_dict[i]) for i in loc_inters])\n",
    "# model.add_constrs([sum(f[so,m] for so in source_dict[m]) >= d[m] for m in markets])\n",
    "# \n",
    "# model.add_constrs([f[i]>=0 for i in transports])\n",
    "# \n",
    "# model.add_constrs(d[m] <= demand_bounds[m][1] for m in markets)\n",
    "# model.add_constrs(d[m] >= demand_bounds[m][0] for m in markets)\n",
    "# model.add_constrs(capf[l] <= capf_bounds[l][1] for l in capf_bounds)\n",
    "# model.add_constrs(capf[l] >= capf_bounds[l][0] for l in capf_bounds)\n",
    "# \n",
    "# obj_expr = sum(f[j]*trans_costs_dict[j] for j in transports)\n",
    "# \n",
    "# model.set_objective(obj_expr)\n",
    "# prog = model.formulate_problem()\n",
    "# prog.process_constraints()"
   ],
   "metadata": {
    "collapsed": false,
    "ExecuteTime": {
     "end_time": "2025-07-31T13:42:57.492578Z",
     "start_time": "2025-07-31T13:42:57.477862Z"
    }
   },
   "id": "34d20c3b3c8f06e1",
   "execution_count": 28
  },
  {
   "cell_type": "markdown",
   "source": [
    "## COST MINIMIZATION WITH DESIGN OPTIMIZATION"
   ],
   "metadata": {
    "collapsed": false
   },
   "id": "2645c34163e15428"
  },
  {
   "cell_type": "code",
   "outputs": [],
   "source": [
    "# model = MPModeler()\n",
    "# \n",
    "# # u = model.add_var('u')\n",
    "# f = {(i[0],i[1]): model.add_var(name=f'f[{i[0]},{i[1]}]') for i in transports}\n",
    "# \n",
    "# d = {m: model.add_param(name=f'd_{m}') for m in markets}\n",
    "# capf = {i: model.add_param(name=f'capf_{i}') for i in capf_bounds}\n",
    "# \n",
    "# model.add_constrs([(sum(f[so, si] for si in sink_dict[so]) if sink_dict[so] else sum(f[sp, so] for sp in source_dict[so])) <= (\n",
    "#         capf[so] * loc_capacities_dict[so] if so in capf_bounds else loc_capacities_dict[so]) for so in loc_indexes if so not in loc_for_design])\n",
    "# \n",
    "# if loc_for_design:\n",
    "#     loc_cap = {i: model.add_param(name=f'cap_{i}') for i in loc_for_design}\n",
    "#     y_cap = {i: model.add_var(name=f'y_{i}') for i in loc_for_design}\n",
    "#     model.add_constrs([(sum(f[so, si] for si in sink_dict[so]) if sink_dict[so] else sum(f[sp, so] for sp in source_dict[so])) <=\n",
    "#                        (loc_cap[so]) for so in loc_for_design])\n",
    "#     model.add_constrs([loc_cap[so] <= y_cap[so]*loc_capacities_dict[so] for so in loc_for_design])\n",
    "# \n",
    "# model.add_constrs([sum(f[i, si] for si in sink_dict[i]) == sum(f[so, i] for so in source_dict[i]) for i in loc_inters])\n",
    "# model.add_constrs([sum(f[so,m] for so in source_dict[m]) >= d[m] for m in markets])\n",
    "# \n",
    "# model.add_constrs([f[i]>=0 for i in transports])\n",
    "# \n",
    "# model.add_constrs(d[m] <= demand_bounds[m][1] for m in markets)\n",
    "# model.add_constrs(d[m] >= demand_bounds[m][0] for m in markets)\n",
    "# model.add_constrs(capf[l] <= capf_bounds[l][1] for l in capf_bounds)\n",
    "# model.add_constrs(capf[l] >= capf_bounds[l][0] for l in capf_bounds)\n",
    "# \n",
    "# obj_expr = sum(f[j]*trans_costs_dict[j] for j in transports)\n",
    "# if loc_for_design:\n",
    "#     obj_expr += sum(y_cap[i]*cap_capex_dict[i] + loc_cap[i]*cap_opex_dict[i] for i in loc_for_design)\n",
    "# \n",
    "# model.set_objective(obj_expr)\n",
    "# prog = model.formulate_problem()\n",
    "# prog.process_constraints()"
   ],
   "metadata": {
    "collapsed": false,
    "ExecuteTime": {
     "end_time": "2025-07-31T13:42:57.508292Z",
     "start_time": "2025-07-31T13:42:57.494680Z"
    }
   },
   "id": "2a0399b7944a9f3b",
   "execution_count": 29
  },
  {
   "cell_type": "code",
   "outputs": [],
   "source": [
    "solution = solve_mpqp(prog, mpqp_algorithm.combinatorial)"
   ],
   "metadata": {
    "collapsed": false,
    "ExecuteTime": {
     "end_time": "2025-07-31T13:42:58.360359Z",
     "start_time": "2025-07-31T13:42:57.509343Z"
    }
   },
   "id": "9ceec1a5d158fb69",
   "execution_count": 30
  },
  {
   "cell_type": "code",
   "outputs": [],
   "source": [
    "# solution"
   ],
   "metadata": {
    "collapsed": false,
    "ExecuteTime": {
     "end_time": "2025-07-31T13:42:58.376109Z",
     "start_time": "2025-07-31T13:42:58.361524Z"
    }
   },
   "id": "50ecd35182d6753c",
   "execution_count": 31
  },
  {
   "cell_type": "code",
   "outputs": [
    {
     "name": "stdout",
     "output_type": "stream",
     "text": [
      "Solution is not 2D, the dimensionality of the solution is 3\n"
     ]
    }
   ],
   "source": [
    "parametric_plot(solution, show=True)"
   ],
   "metadata": {
    "collapsed": false,
    "ExecuteTime": {
     "end_time": "2025-07-31T13:42:58.392312Z",
     "start_time": "2025-07-31T13:42:58.377267Z"
    }
   },
   "id": "1c9f752e3f7a49a5",
   "execution_count": 32
  },
  {
   "cell_type": "code",
   "outputs": [
    {
     "data": {
      "text/plain": "44"
     },
     "execution_count": 33,
     "metadata": {},
     "output_type": "execute_result"
    }
   ],
   "source": [
    "len(solution)"
   ],
   "metadata": {
    "collapsed": false,
    "ExecuteTime": {
     "end_time": "2025-07-31T13:42:58.408068Z",
     "start_time": "2025-07-31T13:42:58.393449Z"
    }
   },
   "id": "53b02cf6692bcd9f",
   "execution_count": 33
  },
  {
   "cell_type": "code",
   "outputs": [],
   "source": [
    "psi_list = list()\n",
    "for cr in solution.critical_regions:\n",
    "    psi_list.append(np.concatenate([cr.A, cr.b], axis=1)[0])"
   ],
   "metadata": {
    "collapsed": false,
    "ExecuteTime": {
     "end_time": "2025-07-31T13:42:58.423753Z",
     "start_time": "2025-07-31T13:42:58.409167Z"
    }
   },
   "id": "435c2e868610be3",
   "execution_count": 34
  },
  {
   "cell_type": "code",
   "outputs": [
    {
     "data": {
      "text/plain": "44"
     },
     "execution_count": 35,
     "metadata": {},
     "output_type": "execute_result"
    }
   ],
   "source": [
    "len(psi_list)"
   ],
   "metadata": {
    "collapsed": false,
    "ExecuteTime": {
     "end_time": "2025-07-31T13:42:58.439117Z",
     "start_time": "2025-07-31T13:42:58.424796Z"
    }
   },
   "id": "cd7189093fa14874",
   "execution_count": 35
  },
  {
   "cell_type": "code",
   "outputs": [
    {
     "data": {
      "text/plain": "[array([ 3.33333333e-01, -2.40101513e-15,  6.43476554e-17, -4.33333333e+01]),\n array([ 3.33333333e-01, -9.18908557e-16, -6.51846173e-19, -4.33333333e+01]),\n array([ 3.33333333e-01, -6.99480447e-16,  1.08169905e-18, -4.33333333e+01]),\n array([ 0.00000000e+00, -4.00000000e+01,  2.84364115e-17, -1.32453639e-13]),\n array([ 0.00000000e+00, -4.00000000e+01, -4.52893403e-17,  2.40343420e-13]),\n array([ 0.00000000e+00, -4.00000000e+01,  3.67070131e-19,  2.05690997e-13]),\n array([ 3.33333333e-01,  0.00000000e+00, -3.72549485e-16, -4.33333333e+01]),\n array([ 3.33333333e-01,  0.00000000e+00, -3.23246716e-17, -4.33333333e+01]),\n array([ 3.33333333e-01,  0.00000000e+00, -9.63120979e-19, -4.33333333e+01]),\n array([ 3.33333333e-01,  0.00000000e+00, -1.61000164e-20, -4.33333333e+01]),\n array([ 3.33333333e-01, -1.33333333e+01, -3.33333333e-01,  7.28464816e-14]),\n array([ 0.00000000e+00, -4.00000000e+01, -2.11350519e-16,  8.54447544e-15]),\n array([ 0.00000000e+00, -4.00000000e+01,  3.26029304e-16, -5.20815557e-14]),\n array([ 0.00000000e+00, -4.00000000e+01, -3.35705713e-15,  1.77203737e-13]),\n array([ 5.14131946e-15, -4.00000000e+01, -1.19594416e-17, -2.71348689e-14]),\n array([-6.15115439e-15, -4.00000000e+01, -3.30612936e-17, -2.37622444e-13]),\n array([ 3.43714925e-16, -4.00000000e+01,  2.52544315e-18,  1.03717875e-13]),\n array([ 3.33333333e-01, -1.33333333e+01, -3.33333333e-01,  1.51160612e-13]),\n array([ 0.00000000e+00, -4.00000000e+01, -3.22236106e-15,  1.43267977e-14]),\n array([ 0.00000000e+00, -4.00000000e+01, -6.94739177e-14,  4.71104571e-12]),\n array([ 0.00000000e+00, -4.00000000e+01, -8.50195003e-15,  3.20683672e-13]),\n array([ 1.67609993e-15, -4.00000000e+01, -1.99605630e-17, -1.27996890e-13]),\n array([ 1.64750126e-15, -4.00000000e+01, -3.03505572e-17,  1.60152690e-13]),\n array([-2.10732443e-15, -4.00000000e+01, -2.73551924e-17,  4.44972564e-13]),\n array([  0.33333333, -13.33333333,  -0.33333333,   0.        ]),\n array([  0.33333333, -13.33333333,  -0.33333333,   0.        ]),\n array([ 0.00000000e+00,  2.18683451e-15, -1.00000000e+00,  0.00000000e+00]),\n array([ 0.00000000e+00, -2.28257397e-15, -1.00000000e+00,  0.00000000e+00]),\n array([ 0.00000000e+00,  1.22938443e-16, -1.00000000e+00,  0.00000000e+00]),\n array([ 0.00000000e+00,  3.14772266e-15, -1.00000000e+00,  0.00000000e+00]),\n array([-1.88679028e-16,  0.00000000e+00, -1.00000000e+00,  0.00000000e+00]),\n array([ 5.86041128e-16,  0.00000000e+00, -1.00000000e+00,  0.00000000e+00]),\n array([-1.08998409e-16,  0.00000000e+00, -1.00000000e+00,  0.00000000e+00]),\n array([-2.10695266e-16,  0.00000000e+00, -1.00000000e+00,  0.00000000e+00]),\n array([ 0.,  0., -1.,  0.]),\n array([ 0.,  0., -1.,  0.]),\n array([ 0.,  0., -1.,  0.]),\n array([ 0.,  0., -1.,  0.]),\n array([ 0.,  0., -1.,  0.]),\n array([ 0.,  0., -1.,  0.]),\n array([ 0.,  0., -1.,  0.]),\n array([ 0.,  0., -1.,  0.]),\n array([ 0.,  0., -1.,  0.]),\n array([ 0.,  0., -1.,  0.])]"
     },
     "execution_count": 36,
     "metadata": {},
     "output_type": "execute_result"
    }
   ],
   "source": [
    "psi_list"
   ],
   "metadata": {
    "collapsed": false,
    "ExecuteTime": {
     "end_time": "2025-07-31T13:42:58.454815Z",
     "start_time": "2025-07-31T13:42:58.440168Z"
    }
   },
   "id": "17e136dce14803f9",
   "execution_count": 36
  },
  {
   "cell_type": "code",
   "outputs": [],
   "source": [],
   "metadata": {
    "collapsed": false,
    "ExecuteTime": {
     "end_time": "2025-07-31T13:42:58.470492Z",
     "start_time": "2025-07-31T13:42:58.455887Z"
    }
   },
   "id": "356212fde943be00",
   "execution_count": 36
  }
 ],
 "metadata": {
  "kernelspec": {
   "display_name": "Python 3",
   "language": "python",
   "name": "python3"
  },
  "language_info": {
   "codemirror_mode": {
    "name": "ipython",
    "version": 2
   },
   "file_extension": ".py",
   "mimetype": "text/x-python",
   "name": "python",
   "nbconvert_exporter": "python",
   "pygments_lexer": "ipython2",
   "version": "2.7.6"
  }
 },
 "nbformat": 4,
 "nbformat_minor": 5
}
