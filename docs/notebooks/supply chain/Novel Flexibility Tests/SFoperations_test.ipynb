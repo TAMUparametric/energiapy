{
 "cells": [
  {
   "cell_type": "code",
   "execution_count": 1,
   "id": "initial_id",
   "metadata": {
    "collapsed": true,
    "ExecuteTime": {
     "end_time": "2025-07-11T22:54:16.223814Z",
     "start_time": "2025-07-11T22:54:15.529624Z"
    }
   },
   "outputs": [],
   "source": [
    "from ppopt.mplp_program import MPLP_Program\n",
    "from ppopt.mpmodel import MPModeler\n",
    "from ppopt.mp_solvers.solve_mpqp import solve_mpqp, mpqp_algorithm\n",
    "from ppopt.plot import parametric_plot\n",
    "from pyomo.environ import *\n",
    "import pyomo.environ as pyo\n",
    "# from numpy.polynomial.legendre import leggauss\n",
    "# from scipy.optimize import linprog\n",
    "# from collections import defaultdict\n",
    "# import time\n",
    "# import sympy as sp\n",
    "# from sympy.logic.boolalg import BooleanTrue, BooleanFalse\n",
    "from typing import List, Tuple\n",
    "from collections import defaultdict\n",
    "# import pickle\n",
    "# import math\n",
    "# import itertools\n",
    "# import numpy as np\n",
    "# from IPython.display import display"
   ]
  },
  {
   "cell_type": "code",
   "outputs": [],
   "source": [
    "def get_sources(trans_list:List[Tuple], sinks:list):\n",
    "    sources = {i: None for i in sinks}\n",
    "    for sink in sinks:\n",
    "        so_list = list()\n",
    "        for pair in trans_list:\n",
    "            if pair[1]==sink:\n",
    "                so_list.append(pair[0])\n",
    "        sources[sink] = so_list\n",
    "    return sources"
   ],
   "metadata": {
    "collapsed": false,
    "ExecuteTime": {
     "end_time": "2025-07-11T22:54:16.238817Z",
     "start_time": "2025-07-11T22:54:16.224871Z"
    }
   },
   "id": "2783ef3340559416",
   "execution_count": 2
  },
  {
   "cell_type": "code",
   "outputs": [],
   "source": [
    "def get_sinks(trans_list:List[Tuple], sources:list):\n",
    "    sinks = {i: None for i in sources}\n",
    "    for source in sources:\n",
    "        si_list = list()\n",
    "        for pair in trans_list:\n",
    "            if pair[0] == source:\n",
    "                si_list.append(pair[1])\n",
    "        sinks[source] = si_list\n",
    "    return sinks"
   ],
   "metadata": {
    "collapsed": false,
    "ExecuteTime": {
     "end_time": "2025-07-11T22:54:16.254693Z",
     "start_time": "2025-07-11T22:54:16.239902Z"
    }
   },
   "id": "4be4e20668ae4eef",
   "execution_count": 3
  },
  {
   "cell_type": "code",
   "outputs": [],
   "source": [
    "loc_indexes = [i for i in range(1,6)]\n",
    "loc_capacities = [60, 60, 80, 40, 120]\n",
    "markets = [5]\n",
    "transports = [(1,3), (2, 3), (2, 4), (3, 5), (4, 3), (4, 5)]\n",
    "trans_costs = [0.24, 0.37, 0.41, 0.29, 0.46, 0.33]\n",
    "source_dict = get_sources(trans_list=transports, sinks=loc_indexes)\n",
    "sink_dict = get_sinks(trans_list=transports, sources=loc_indexes)\n",
    "loc_inters = [i for i in loc_indexes if (source_dict[i] and sink_dict[i])]\n",
    "\n",
    "demand_bounds = {5: (70, 130)}\n",
    "capf_bounds = {4:(0, 0.5)}\n",
    "nt = 2\n",
    "\n",
    "loc_capacities_dict = {j: loc_capacities[i] for i,j in enumerate(loc_indexes)}\n",
    "trans_costs_dict = {j: trans_costs[i] for i,j in enumerate(transports)}"
   ],
   "metadata": {
    "collapsed": false,
    "ExecuteTime": {
     "end_time": "2025-07-11T22:54:16.269558Z",
     "start_time": "2025-07-11T22:54:16.255794Z"
    }
   },
   "id": "177aaf4795922314",
   "execution_count": 4
  },
  {
   "cell_type": "code",
   "outputs": [],
   "source": [
    "# model = MPModeler()\n",
    "# \n",
    "# u = model.add_var('u')\n",
    "# f = {(i[0],i[1]): model.add_var(name=f'f[{i[0]},{i[1]}]') for i in transports}\n",
    "# \n",
    "# d = {m: model.add_param(name=f'd_{m}') for m in markets}\n",
    "# capf = {i: model.add_param(name=f'capf_{i}') for i in capf_bounds}\n",
    "# \n",
    "# model.add_constrs([(sum(f[so, si] for si in sink_dict[so]) if sink_dict[so] else sum(f[sp, so] for sp in source_dict[so])) <= (\n",
    "#         capf[so] * loc_capacities_dict[so] + u if so in capf_bounds else loc_capacities_dict[so] + u) for so in loc_indexes])\n",
    "# \n",
    "# model.add_constrs([sum(f[i, si] for si in sink_dict[i]) == sum(f[so, i] for so in source_dict[i]) for i in loc_inters])\n",
    "# model.add_constrs([sum(f[so,m] for so in source_dict[m]) + u >= d[m] for m in markets])\n",
    "# \n",
    "# model.add_constrs([f[i]>=0 for i in transports])\n",
    "# \n",
    "# model.add_constrs(d[m] <= demand_bounds[m][1] for m in markets)\n",
    "# model.add_constrs(d[m] >= demand_bounds[m][0] for m in markets)\n",
    "# model.add_constrs(capf[l] <= capf_bounds[l][1] for l in capf_bounds)\n",
    "# model.add_constrs(capf[l] >= capf_bounds[l][0] for l in capf_bounds)\n",
    "# \n",
    "# # model.set_objective(sum(f[j]*trans_costs_dict[j] for j in transports))\n",
    "# model.set_objective(u)\n",
    "# prog = model.formulate_problem()\n",
    "# prog.process_constraints()"
   ],
   "metadata": {
    "collapsed": false,
    "ExecuteTime": {
     "end_time": "2025-07-11T22:54:16.285190Z",
     "start_time": "2025-07-11T22:54:16.270593Z"
    }
   },
   "id": "1c7fb162d35858ac",
   "execution_count": 5
  },
  {
   "cell_type": "code",
   "outputs": [
    {
     "name": "stdout",
     "output_type": "stream",
     "text": [
      "Set parameter Username\n",
      "Academic license - for non-commercial use only - expires 2025-12-20\n"
     ]
    }
   ],
   "source": [
    "# model = MPModeler()\n",
    "# \n",
    "# # u = model.add_var('u')\n",
    "# f = {(i[0],i[1]): model.add_var(name=f'f[{i[0]},{i[1]}]') for i in transports}\n",
    "# \n",
    "# d = {m: model.add_param(name=f'd_{m}') for m in markets}\n",
    "# capf = {i: model.add_param(name=f'capf_{i}') for i in capf_bounds}\n",
    "# \n",
    "# model.add_constrs([(sum(f[so, si] for si in sink_dict[so]) if sink_dict[so] else sum(f[sp, so] for sp in source_dict[so])) <= (\n",
    "#         capf[so] * loc_capacities_dict[so] if so in capf_bounds else loc_capacities_dict[so]) for so in loc_indexes])\n",
    "# \n",
    "# model.add_constrs([sum(f[i, si] for si in sink_dict[i]) == sum(f[so, i] for so in source_dict[i]) for i in loc_inters])\n",
    "# model.add_constrs([sum(f[so,m] for so in source_dict[m]) >= d[m] for m in markets])\n",
    "# \n",
    "# model.add_constrs([f[i]>=0 for i in transports])\n",
    "# \n",
    "# model.add_constrs(d[m] <= demand_bounds[m][1] for m in markets)\n",
    "# model.add_constrs(d[m] >= demand_bounds[m][0] for m in markets)\n",
    "# model.add_constrs(capf[l] <= capf_bounds[l][1] for l in capf_bounds)\n",
    "# model.add_constrs(capf[l] >= capf_bounds[l][0] for l in capf_bounds)\n",
    "# \n",
    "# model.set_objective(sum(f[j]*trans_costs_dict[j] for j in transports))\n",
    "# prog = model.formulate_problem()\n",
    "# prog.process_constraints()"
   ],
   "metadata": {
    "collapsed": false,
    "ExecuteTime": {
     "end_time": "2025-07-11T22:54:16.409616Z",
     "start_time": "2025-07-11T22:54:16.287309Z"
    }
   },
   "id": "34d20c3b3c8f06e1",
   "execution_count": 6
  },
  {
   "cell_type": "code",
   "outputs": [],
   "source": [
    "model = MPModeler()\n",
    "\n",
    "# u = model.add_var('u')\n",
    "f = {(i[0],i[1]): model.add_var(name=f'f[{i[0]},{i[1]}]') for i in transports}\n",
    "cap3 = model.add_var('cap3')\n",
    "\n",
    "d = {m: model.add_param(name=f'd_{m}') for m in markets}\n",
    "capf = {i: model.add_param(name=f'capf_{i}') for i in capf_bounds}\n",
    "\n",
    "model.add_constrs([(sum(f[so, si] for si in sink_dict[so]) if sink_dict[so] else sum(f[sp, so] for sp in source_dict[so])) <= (\n",
    "        capf[so] * loc_capacities_dict[so] if so in capf_bounds else loc_capacities_dict[so]) for so in loc_indexes])\n",
    "\n",
    "model.add_constrs([sum(f[i, si] for si in sink_dict[i]) == sum(f[so, i] for so in source_dict[i]) for i in loc_inters])\n",
    "model.add_constrs([sum(f[so,m] for so in source_dict[m]) >= d[m] for m in markets])\n",
    "\n",
    "model.add_constrs([f[i]>=0 for i in transports])\n",
    "\n",
    "model.add_constrs(d[m] <= demand_bounds[m][1] for m in markets)\n",
    "model.add_constrs(d[m] >= demand_bounds[m][0] for m in markets)\n",
    "model.add_constrs(capf[l] <= capf_bounds[l][1] for l in capf_bounds)\n",
    "model.add_constrs(capf[l] >= capf_bounds[l][0] for l in capf_bounds)\n",
    "\n",
    "model.set_objective(sum(f[j]*trans_costs_dict[j] for j in transports))\n",
    "prog = model.formulate_problem()\n",
    "prog.process_constraints()"
   ],
   "metadata": {
    "collapsed": false
   },
   "id": "2a0399b7944a9f3b"
  },
  {
   "cell_type": "code",
   "outputs": [],
   "source": [
    "solution = solve_mpqp(prog, mpqp_algorithm.combinatorial)"
   ],
   "metadata": {
    "collapsed": false,
    "ExecuteTime": {
     "end_time": "2025-07-11T22:54:21.990888Z",
     "start_time": "2025-07-11T22:54:21.880528Z"
    }
   },
   "id": "9ceec1a5d158fb69",
   "execution_count": 8
  },
  {
   "cell_type": "code",
   "outputs": [
    {
     "data": {
      "text/plain": "Solution(program=<ppopt.mplp_program.MPLP_Program object at 0x000001C45F590C10>, critical_regions=[Critical region with active set [0, 1, 2, 4, 6, 9]\nThe Omega Constraint indices are [1, 2]\nThe Lagrange multipliers Constraint indices are []\nThe Regular Constraint indices are [[1, 3, 4], [5, 8, 10]]\n  x(θ) = Aθ + b \n λ(θ) = Cθ + d \n  Eθ <= f\n A = [[ 4.37733042e-17  0.00000000e+00]\n [ 1.72344268e-16  0.00000000e+00]\n [ 1.00000000e+00  0.00000000e+00]\n [ 6.56285515e-17  0.00000000e+00]\n [-6.34187892e-17  0.00000000e+00]\n [ 1.00000000e+00  0.00000000e+00]] \n b = [[ 6.00000000e+01]\n [ 2.00000000e+01]\n [-8.00000000e+01]\n [ 8.00000000e+01]\n [-1.10566857e-14]\n [-8.00000000e+01]] \n C = [[0. 0.]\n [0. 0.]\n [0. 0.]\n [0. 0.]\n [0. 0.]\n [0. 0.]] \n d = [[0.74      ]\n [0.71014083]\n [0.13      ]\n [0.08      ]\n [1.2817176 ]\n [0.5       ]] \n E = [[ 0.02499219 -0.99968765]\n [-1.          0.        ]\n [-1.          0.        ]\n [ 0.          1.        ]\n [ 0.         -1.        ]] \n f = [[  1.99937529]\n [-80.        ]\n [-80.        ]\n [  0.5       ]\n [ -0.        ]], Critical region with active set [0, 1, 2, 6, 8, 9]\nThe Omega Constraint indices are [0, 1, 2]\nThe Lagrange multipliers Constraint indices are []\nThe Regular Constraint indices are [[1, 2], [4, 5]]\n  x(θ) = Aθ + b \n λ(θ) = Cθ + d \n  Eθ <= f\n A = [[-1.91031239e-16  0.00000000e+00]\n [ 1.00000000e+00  0.00000000e+00]\n [-2.30469767e-16  0.00000000e+00]\n [ 1.00000000e+00  0.00000000e+00]\n [-1.07558201e-16  0.00000000e+00]\n [ 7.74362292e-17  0.00000000e+00]] \n b = [[ 6.00000000e+01]\n [-6.00000000e+01]\n [ 2.90569031e-14]\n [ 2.15775763e-14]\n [-4.34867331e-15]\n [-4.41936161e-14]] \n C = [[0. 0.]\n [0. 0.]\n [0. 0.]\n [0. 0.]\n [0. 0.]\n [0. 0.]] \n d = [[0.74      ]\n [0.57157677]\n [0.13      ]\n [1.14315353]\n [0.08      ]\n [0.42      ]] \n E = [[ 1.00000000e+00  0.00000000e+00]\n [-7.53049292e-19 -1.00000000e+00]\n [-1.00000000e+00  0.00000000e+00]\n [ 0.00000000e+00  1.00000000e+00]\n [ 0.00000000e+00 -1.00000000e+00]] \n f = [[ 8.00000000e+01]\n [ 1.21355724e-15]\n [-7.00000000e+01]\n [ 5.00000000e-01]\n [-0.00000000e+00]], Critical region with active set [0, 1, 2, 6, 9, 10]\nThe Omega Constraint indices are [0, 1, 2]\nThe Lagrange multipliers Constraint indices are []\nThe Regular Constraint indices are [[1, 2], [4, 5]]\n  x(θ) = Aθ + b \n λ(θ) = Cθ + d \n  Eθ <= f\n A = [[ 1.35649691e-17  0.00000000e+00]\n [ 1.00000000e+00  0.00000000e+00]\n [ 2.52687476e-16  0.00000000e+00]\n [ 1.00000000e+00  0.00000000e+00]\n [ 1.32004860e-17  0.00000000e+00]\n [-5.96335859e-17  0.00000000e+00]] \n b = [[ 6.00000000e+01]\n [-6.00000000e+01]\n [ 1.90466446e-14]\n [ 3.53964058e-15]\n [ 8.43950774e-15]\n [-5.08698293e-16]] \n C = [[0. 0.]\n [0. 0.]\n [0. 0.]\n [0. 0.]\n [0. 0.]\n [0. 0.]] \n d = [[0.74      ]\n [0.71014083]\n [0.13      ]\n [1.14315353]\n [0.5       ]\n [0.08      ]] \n E = [[ 1.0000000e+00  0.0000000e+00]\n [-1.1608275e-18 -1.0000000e+00]\n [-1.0000000e+00  0.0000000e+00]\n [ 0.0000000e+00  1.0000000e+00]\n [ 0.0000000e+00 -1.0000000e+00]] \n f = [[ 8.00000000e+01]\n [-1.98270236e-16]\n [-7.00000000e+01]\n [ 5.00000000e-01]\n [-0.00000000e+00]]])"
     },
     "execution_count": 9,
     "metadata": {},
     "output_type": "execute_result"
    }
   ],
   "source": [
    "solution"
   ],
   "metadata": {
    "collapsed": false,
    "ExecuteTime": {
     "end_time": "2025-07-11T22:54:24.756012Z",
     "start_time": "2025-07-11T22:54:24.735895Z"
    }
   },
   "id": "50ecd35182d6753c",
   "execution_count": 9
  },
  {
   "cell_type": "code",
   "outputs": [
    {
     "data": {
      "text/plain": "<Figure size 640x480 with 1 Axes>",
      "image/png": "[encoded data removed]"
     },
     "metadata": {},
     "output_type": "display_data"
    }
   ],
   "source": [
    "parametric_plot(solution, show=True)"
   ],
   "metadata": {
    "collapsed": false,
    "ExecuteTime": {
     "end_time": "2025-07-11T22:54:25.690969Z",
     "start_time": "2025-07-11T22:54:25.602435Z"
    }
   },
   "id": "1c9f752e3f7a49a5",
   "execution_count": 10
  },
  {
   "cell_type": "code",
   "outputs": [
    {
     "data": {
      "text/plain": "3"
     },
     "execution_count": 11,
     "metadata": {},
     "output_type": "execute_result"
    }
   ],
   "source": [
    "len(solution)"
   ],
   "metadata": {
    "collapsed": false,
    "ExecuteTime": {
     "end_time": "2025-07-11T22:54:26.723867Z",
     "start_time": "2025-07-11T22:54:26.705531Z"
    }
   },
   "id": "53b02cf6692bcd9f",
   "execution_count": 11
  },
  {
   "cell_type": "code",
   "outputs": [],
   "source": [],
   "metadata": {
    "collapsed": false
   },
   "id": "53282cc35f94ced9",
   "execution_count": null
  }
 ],
 "metadata": {
  "kernelspec": {
   "display_name": "Python 3",
   "language": "python",
   "name": "python3"
  },
  "language_info": {
   "codemirror_mode": {
    "name": "ipython",
    "version": 2
   },
   "file_extension": ".py",
   "mimetype": "text/x-python",
   "name": "python",
   "nbconvert_exporter": "python",
   "pygments_lexer": "ipython2",
   "version": "2.7.6"
  }
 },
 "nbformat": 4,
 "nbformat_minor": 5
}
