{
 "cells": [
  {
   "cell_type": "code",
   "source": [
    "import sys\n",
    "sys.path.append('../../../src')\n",
    "import pandas\n",
    "import random\n",
    "import math\n",
    "from energiapy.components.temporal_scale import TemporalScale\n",
    "from energiapy.components.resource import Resource, VaryingResource\n",
    "from energiapy.components.process import Process, ProcessMode, VaryingProcess\n",
    "from energiapy.components.location import Location\n",
    "from energiapy.components.transport import Transport\n",
    "from energiapy.components.network import Network\n",
    "from energiapy.components.scenario import Scenario\n",
    "# from energiapy.model.constraints.demand import constraint_demand2\n",
    "from energiapy.components.result import Result\n",
    "from energiapy.model.formulate import formulate, Constraints, Objective\n",
    "from energiapy.plot import plot_results, plot_scenario, plot_location\n",
    "from energiapy.model.solve import solve\n",
    "from pyomo.environ import Param\n",
    "from energiapy.utils.scale_utils import scale_pyomo_set\n",
    "import matplotlib.pyplot as plt\n",
    "from matplotlib import rc\n"
   ],
   "metadata": {
    "collapsed": false,
    "ExecuteTime": {
     "end_time": "2025-08-29T22:05:37.907912Z",
     "start_time": "2025-08-29T22:05:37.009397Z"
    }
   },
   "id": "20221a1dba9bb081",
   "outputs": [],
   "execution_count": 1
  },
  {
   "cell_type": "code",
   "source": [
    "_time_intervals = 30  # Number of time intervals in a planning horizon    (L_chi)\n",
    "_coms = 1\n",
    "_exec_scenarios = 12  # Number of execution scenarios                     (chi)\n",
    "\n",
    "M = 1e3  # Big M\n",
    "\n",
    "# Define temporal scales\n",
    "scales = TemporalScale(discretization_list=[2, _exec_scenarios, _time_intervals])\n",
    "\n",
    "# loc5_backlog_penalty_factor = pandas.DataFrame(data={'com1_sold':[1]*4 + [1]*20})\n",
    "# loc4_varying_factor = pandas.DataFrame(data={'com1_process': [1]*6 + [0]*18})"
   ],
   "metadata": {
    "collapsed": false,
    "ExecuteTime": {
     "end_time": "2025-08-29T22:05:37.923634Z",
     "start_time": "2025-08-29T22:05:37.909086Z"
    }
   },
   "id": "9c9ed474f0c72684",
   "outputs": [],
   "execution_count": 2
  },
  {
   "cell_type": "code",
   "source": [
    "# ======================================================================================================================\n",
    "# Declare resources/commodities\n",
    "# ======================================================================================================================\n",
    "com1_pur = Resource(name='com1_pur', cons_max=125, block={'imp': 1, 'urg': 1}, price=0.00, label='Commodity 1 consumed from outside the system')\n",
    "\n",
    "com1_in = Resource(name='com1_in', label='Commodity 1 received')\n",
    "com1_out = Resource(name='com1_out', label='Commodity 1 to be sent out')\n",
    "\n",
    "com1_loc1_out = Resource(name='com1_loc1_out', label='Commodity 1 sent out from location 1')\n",
    "com1_loc2_out = Resource(name='com1_loc2_out', label='Commodity 1 sent out from location 2')\n",
    "com1_loc3_out = Resource(name='com1_loc3_out', label='Commodity 1 sent out from location 3')\n",
    "com1_loc4_out = Resource(name='com1_loc4_out', label='Commodity 1 sent out from location 4')\n",
    "com1_loc5_out = Resource(name='com1_loc5_out', label='Commodity 1 sent out from location 5')\n",
    "com1_loc6_out = Resource(name='com1_loc6_out', label='Commodity 1 sent out from location 6')\n",
    "com1_loc7_out = Resource(name='com1_loc7_out', label='Commodity 1 sent out from location 7')\n",
    "\n",
    "com1_sold = Resource(name='com1_sold', revenue=0.00, demand=True, sell=True, label='Commodity 1 sold to outside the system')"
   ],
   "metadata": {
    "collapsed": false,
    "ExecuteTime": {
     "end_time": "2025-08-29T22:05:37.939416Z",
     "start_time": "2025-08-29T22:05:37.924792Z"
    }
   },
   "id": "9e5b767629b96f6f",
   "outputs": [],
   "execution_count": 3
  },
  {
   "cell_type": "code",
   "source": [
    "# ======================================================================================================================\n",
    "# Declare processes/storage capacities\n",
    "# ======================================================================================================================\n",
    "com1_process_capacity = 150\n",
    "\n",
    "com1_procure = Process(name='procure com1', prod_max=125, conversion={com1_pur: -1, com1_in: 1}, capex=0.01, vopex=0.01, prod_min=125, label='Procure com1')\n",
    "com1_sell = Process(name='sell com1', prod_max=com1_process_capacity, conversion={com1_out: -1, com1_sold: 1}, capex=0.01, vopex=0.01, prod_min=com1_process_capacity, label='Sell com1')\n",
    "\n",
    "com1_receive_loc1 = Process(name='com1_receive_loc1', prod_max=com1_process_capacity, conversion={com1_loc1_out:-1, com1_in:1}, capex=0.01, vopex=0.01, prod_min=com1_process_capacity, label='Commodity 1 received from location 1')\n",
    "com1_receive_loc2 = Process(name='com1_receive_loc2', prod_max=com1_process_capacity, conversion={com1_loc2_out:-1, com1_in:1}, capex=0.01, vopex=0.01, prod_min=com1_process_capacity, label='Commodity 1 received from location 2')\n",
    "com1_receive_loc3 = Process(name='com1_receive_loc3', prod_max=com1_process_capacity, conversion={com1_loc3_out:-1, com1_in:1}, capex=0.01, vopex=0.01, prod_min=com1_process_capacity, label='Commodity 1 received from location 3')\n",
    "com1_receive_loc4 = Process(name='com1_receive_loc4', prod_max=com1_process_capacity, conversion={com1_loc4_out:-1, com1_in:1}, capex=0.01, vopex=0.01, prod_min=com1_process_capacity, label='Commodity 1 received from location 4')\n",
    "com1_receive_loc5 = Process(name='com1_receive_loc5', prod_max=com1_process_capacity, conversion={com1_loc5_out:-1, com1_in:1}, capex=0.01, vopex=0.01, prod_min=com1_process_capacity, label='Commodity 1 received from location 5')\n",
    "com1_receive_loc6 = Process(name='com1_receive_loc6', prod_max=com1_process_capacity, conversion={com1_loc6_out:-1, com1_in:1}, capex=0.01, vopex=0.01, prod_min=com1_process_capacity, label='Commodity 1 received from location 6')\n",
    "com1_receive_loc7 = Process(name='com1_receive_loc7', prod_max=com1_process_capacity, conversion={com1_loc7_out:-1, com1_in:1}, capex=0.01, vopex=0.01, prod_min=com1_process_capacity, label='Commodity 1 received from location 7')\n",
    "\n",
    "com1_process = Process(name='com1_process', prod_max=com1_process_capacity, conversion={com1_in: -1, com1_out: 1},  capex=0.01, vopex=0.01, prod_min=com1_process_capacity, varying=[VaryingProcess.DETERMINISTIC_CAPACITY], label='Process the commodity through the location')\n",
    "\n",
    "com1_store10 = Process(name='com1_store10', prod_max=com1_process_capacity, capex=100, vopex=1, store_min=0.01, store_max= 20, prod_min=com1_process_capacity, label=\"Storage capacity of 10 units\", storage=com1_in, storage_cost=0.02)\n",
    "com1_store20 = Process(name='com1_store20', prod_max=com1_process_capacity, capex=200, vopex=2, store_min=0.01,store_max= 40, prod_min=com1_process_capacity, label=\"Storage capacity of 20 units\", storage=com1_in, storage_cost=0.02)\n",
    "com1_store50 = Process(name='com1_store50', prod_max=com1_process_capacity, capex=500, vopex=5, store_min=0.01, store_max= 100, prod_min=com1_process_capacity, label=\"Storage capacity of 50 units\", storage=com1_in, storage_cost=0.02)\n",
    "\n",
    "com1_loc1_send = Process(name='com1_loc1_send', prod_max=com1_process_capacity, conversion={com1_out:-1, com1_loc1_out:1}, capex=0.01, vopex=0.01, prod_min=com1_process_capacity, label='Send commodity one from location 1')\n",
    "com1_loc2_send = Process(name='com1_loc2_send', prod_max=com1_process_capacity, conversion={com1_out:-1, com1_loc2_out:1}, capex=0.01, vopex=0.01, prod_min=com1_process_capacity, label='Send commodity one from location 2')\n",
    "com1_loc3_send = Process(name='com1_loc3_send', prod_max=com1_process_capacity, conversion={com1_out:-1, com1_loc3_out:1}, capex=0.01, vopex=0.01, prod_min=com1_process_capacity, label='Send commodity one from location 3')\n",
    "com1_loc4_send = Process(name='com1_loc4_send', prod_max=com1_process_capacity, conversion={com1_out:-1, com1_loc4_out:1}, capex=0.01, vopex=0.01, prod_min=com1_process_capacity, label='Send commodity one from location 4')\n",
    "com1_loc5_send = Process(name='com1_loc5_send', prod_max=com1_process_capacity, conversion={com1_out:-1, com1_loc5_out:1}, capex=0.01, vopex=0.01, prod_min=com1_process_capacity, label='Send commodity one from location 5')\n",
    "com1_loc6_send = Process(name='com1_loc6_send', prod_max=com1_process_capacity, conversion={com1_out:-1, com1_loc6_out:1}, capex=0.01, vopex=0.01, prod_min=com1_process_capacity, label='Send commodity one from location 6')\n",
    "com1_loc7_send = Process(name='com1_loc7_send', prod_max=com1_process_capacity, conversion={com1_out:-1, com1_loc7_out:1}, capex=0.01, vopex=0.01, prod_min=com1_process_capacity, label='Send commodity one from location 7')"
   ],
   "metadata": {
    "collapsed": false,
    "ExecuteTime": {
     "end_time": "2025-08-29T22:05:37.954670Z",
     "start_time": "2025-08-29T22:05:37.940485Z"
    }
   },
   "id": "439d0cdad94213e0",
   "outputs": [],
   "execution_count": 4
  },
  {
   "cell_type": "code",
   "source": [
    "# ======================================================================================================================\n",
    "# Declare locations/warehouses\n",
    "# ======================================================================================================================\n",
    "loc1 = Location(name='loc1', processes={com1_procure, com1_receive_loc2, com1_receive_loc3, com1_process, com1_store20, com1_loc1_send}, label=\"Location 1\", scales=scales, demand_scale_level=2, capacity_scale_level=1, availability_scale_level=1)\n",
    "\n",
    "loc2 = Location(name='loc2', processes={com1_receive_loc1, com1_receive_loc4, com1_receive_loc5, com1_process, com1_store20, com1_loc2_send}, label=\"Location 2\", scales=scales, demand_scale_level=2, capacity_scale_level=1, availability_scale_level=1)\n",
    "\n",
    "loc3 = Location(name='loc3', processes={com1_receive_loc1, com1_receive_loc4, com1_process, com1_store20, com1_loc3_send}, label=\"Location 3\", scales=scales, demand_scale_level=2, capacity_scale_level=1, availability_scale_level=1)\n",
    "\n",
    "loc4 = Location(name='loc4', processes={com1_receive_loc2, com1_receive_loc3, com1_receive_loc6, com1_receive_loc5, com1_receive_loc7, com1_process, com1_store50, com1_loc4_send}, label=\"Location 4\", scales=scales, demand_scale_level=2, capacity_scale_level=1, availability_scale_level=1)\n",
    "\n",
    "loc5 = Location(name='loc5', processes={com1_receive_loc2, com1_receive_loc4, com1_receive_loc7, com1_process, com1_store50, com1_loc5_send, com1_sell}, label=\"Location 5\", scales=scales, demand_scale_level=2, capacity_scale_level=1, availability_scale_level=1)\n",
    "\n",
    "loc6 = Location(name='loc6', processes={com1_procure, com1_receive_loc4, com1_process, com1_store10, com1_loc6_send}, label=\"Location 6\", scales=scales, demand_scale_level=2, capacity_scale_level=1, availability_scale_level=1)\n",
    "\n",
    "loc7 = Location(name='loc7', processes={com1_receive_loc4, com1_receive_loc5, com1_process, com1_store20, com1_loc7_send}, label=\"Location 7\", scales=scales, demand_scale_level=2, capacity_scale_level=1, availability_scale_level=1)"
   ],
   "metadata": {
    "collapsed": false,
    "ExecuteTime": {
     "end_time": "2025-08-29T22:05:37.969781Z",
     "start_time": "2025-08-29T22:05:37.955722Z"
    }
   },
   "id": "872fcbd0b9825dfe",
   "outputs": [],
   "execution_count": 5
  },
  {
   "cell_type": "code",
   "source": [
    "# ======================================================================================================================\n",
    "# Declare transport/trucks\n",
    "# ======================================================================================================================\n",
    "\n",
    "multiplier = 1\n",
    "\n",
    "trans_min = 0.001\n",
    "\n",
    "truck_cap12 = 70 * multiplier\n",
    "truck_cap13 = 50 * multiplier\n",
    "truck_cap24 = 50 * multiplier\n",
    "truck_cap25 = 30 * multiplier\n",
    "truck_cap34 = 20 * multiplier\n",
    "truck_cap45 = 100 * multiplier\n",
    "truck_cap47 = 40 * multiplier\n",
    "truck_cap64 = 50 * multiplier\n",
    "truck_cap75 = 40 * multiplier\n",
    "\n",
    "truck12 = Transport(name='truck12', resources={com1_loc1_out}, trans_max=truck_cap12, label='Truck from location 1 to 2', capex=0.5, vopex=0.05, trans_min=trans_min, speed=20)\n",
    "truck21 = Transport(name='truck21', resources={com1_loc2_out}, trans_max=truck_cap12, label='Truck from location 2 to 1', capex=0.0001, vopex=0.05, trans_min=trans_min, speed=20)\n",
    "\n",
    "truck13 = Transport(name='truck13', resources={com1_loc1_out}, trans_max=truck_cap13, label='Truck from location 1 to 3', capex=0.3, vopex=0.03, trans_min=trans_min, speed=20)\n",
    "truck31 = Transport(name='truck31', resources={com1_loc3_out}, trans_max=truck_cap13, label='Truck from location 3 to 1', capex=0.0001, vopex=0.03, trans_min=trans_min, speed=20)\n",
    "\n",
    "truck24 = Transport(name='truck24', resources={com1_loc2_out}, trans_max=truck_cap24, label='Truck from location 2 to 4', capex=0.5, vopex=0.05, trans_min=trans_min, speed=20)\n",
    "truck42 = Transport(name='truck42', resources={com1_loc4_out}, trans_max=truck_cap24, label='Truck from location 4 to 2', capex=0.0001, vopex=0.05, trans_min=trans_min, speed=20)\n",
    "\n",
    "truck25 = Transport(name='truck25', resources={com1_loc2_out}, trans_max=truck_cap25, label='Truck from location 2 to 5', capex=0.3, vopex=0.03, trans_min=trans_min, speed=20)\n",
    "truck52 = Transport(name='truck52', resources={com1_loc5_out}, trans_max=truck_cap25, label='Truck from location 5 to 2', capex=0.0001, vopex=0.03, trans_min=trans_min, speed=20)\n",
    "\n",
    "truck34 = Transport(name='truck34', resources={com1_loc3_out}, trans_max=truck_cap34, label='Truck from location 3 to 4', capex=0.2, vopex=0.02, trans_min=trans_min, speed=20)\n",
    "truck43 = Transport(name='truck43', resources={com1_loc4_out}, trans_max=truck_cap34, label='Truck from location 4 to 3', capex=0.0001, vopex=0.02, trans_min=trans_min, speed=20)\n",
    "\n",
    "truck45 = Transport(name='truck45', resources={com1_loc4_out}, trans_max=truck_cap45, label='Truck from location 4 to 5', capex=1, vopex=0.1, trans_min=trans_min, speed=20)\n",
    "truck54 = Transport(name='truck54', resources={com1_loc5_out}, trans_max=truck_cap45, label='Truck from location 5 to 4', capex=0.0001, vopex=0.1, trans_min=trans_min, speed=20)\n",
    "\n",
    "truck47 = Transport(name='truck47', resources={com1_loc4_out}, trans_max=truck_cap47, label='Truck from location 4 to 7', capex=0.4, vopex=0.04, trans_min=trans_min, speed=20)\n",
    "truck74 = Transport(name='truck74', resources={com1_loc7_out}, trans_max=truck_cap47, label='Truck from location 7 to 4', capex=0.0001, vopex=0.04, trans_min=trans_min, speed=20)\n",
    "\n",
    "truck64 = Transport(name='truck64', resources={com1_loc6_out}, trans_max=truck_cap64, label='Truck from location 6 to 4', capex=0.5, vopex=0.05, trans_min=trans_min, speed=20)\n",
    "truck46 = Transport(name='truck46', resources={com1_loc4_out}, trans_max=truck_cap64, label='Truck from location 4 to 6', capex=0.0001, vopex=0.05, trans_min=trans_min, speed=20)\n",
    "\n",
    "truck75 = Transport(name='truck75', resources={com1_loc7_out}, trans_max=truck_cap75, label='Truck from location 7 to 5', capex=0.4, vopex=0.04, trans_min=trans_min, speed=20)\n",
    "truck57 = Transport(name='truck57', resources={com1_loc5_out}, trans_max=truck_cap75, label='Truck from location 5 to 7', capex=0.0001, vopex=0.04, trans_min=trans_min, speed=20)"
   ],
   "metadata": {
    "collapsed": false,
    "ExecuteTime": {
     "end_time": "2025-08-29T22:05:37.985295Z",
     "start_time": "2025-08-29T22:05:37.971785Z"
    }
   },
   "id": "63f06abcbae86625",
   "outputs": [],
   "execution_count": 6
  },
  {
   "cell_type": "code",
   "source": [
    "# ======================================================================================================================\n",
    "# Declare network\n",
    "# ======================================================================================================================\n",
    "\n",
    "# transport_matrix = [\n",
    "#     [[], [truck50_12], [truck30_13], [], [], [], []],  # source: location 1\n",
    "#     [[truck50_21], [], [], [truck50_24], [truck30_25], [], []],  # source: location 2\n",
    "#     [[truck30_31], [], [], [truck20_34], [], [], []],  # source: location 3\n",
    "#     [[], [truck50_42], [truck20_43], [], [truck100_45], [truck50_46], [truck40_47]],  # source: location 4\n",
    "#     [[], [truck30_52], [], [truck100_54], [], [], [truck40_57]],  # source: location 5\n",
    "#     [[], [], [], [truck50_64], [], [], []],  # source: location 6\n",
    "#     [[], [], [], [truck40_74], [truck40_75], [], []]  # source: location 7\n",
    "# ]\n",
    "\n",
    "# transport_matrix = [\n",
    "#     [[], [truck12], [truck13], [], [], [], []],  # source: location 1\n",
    "#     [[truck21], [], [], [truck24], [truck25], [], []],  # source: location 2\n",
    "#     [[truck31], [], [], [truck34], [], [], []],  # source: location 3\n",
    "#     [[], [truck42], [truck43], [], [truck45], [truck46], [truck47]],  # source: location 4\n",
    "#     [[], [truck52], [], [truck54], [], [], [truck57]],  # source: location 5\n",
    "#     [[], [], [], [truck64], [], [], []],  # source: location 6\n",
    "#     [[], [], [], [truck74], [truck75], [], []]  # source: location 7\n",
    "# ]\n",
    "\n",
    "transport_matrix = [\n",
    "    [[], [truck12], [truck13], [], [], [], []],  # source: location 1\n",
    "    [[], [], [], [truck24], [truck25], [], []],  # source: location 2\n",
    "    [[], [], [], [truck34], [], [], []],  # source: location 3\n",
    "    [[], [], [], [], [truck45], [], [truck47]],  # source: location 4\n",
    "    [[], [], [], [], [], [], []],  # source: location 5\n",
    "    [[], [], [], [truck64], [], [], []],  # source: location 6\n",
    "    [[], [], [], [], [truck75], [], []]  # source: location 7\n",
    "]\n",
    "\n",
    "distance_matrix = [\n",
    "    [0, 55, 196, M, M, M, M],\n",
    "    [55, 0, M, 163, 112, M, 134],\n",
    "    [196, M, 0, 63, M, M, M],\n",
    "    [M, 163, 63, 0, 95, 117, 88],\n",
    "    [M, 112, M, 95, 0, M, 134],\n",
    "    [M, M, M, 117, M, 0, M],\n",
    "    [M, 134, M, 88, 134, M, 0]\n",
    "]\n",
    "\n",
    "locset = [loc1, loc2, loc3, loc4, loc5, loc6, loc7]\n",
    "\n",
    "sources = locset\n",
    "sinks = locset\n",
    "\n",
    "network = Network(name='Network', scales= scales, source_locations=sources, sink_locations=sinks, transport_matrix=transport_matrix, distance_matrix=distance_matrix)\n"
   ],
   "metadata": {
    "collapsed": false,
    "ExecuteTime": {
     "end_time": "2025-08-29T22:05:38.000295Z",
     "start_time": "2025-08-29T22:05:37.986296Z"
    }
   },
   "id": "c2348c934acc627b",
   "outputs": [],
   "execution_count": 7
  },
  {
   "cell_type": "code",
   "source": [
    "daily_demand = 100\n",
    "demand_penalty = {(0,20): 75, (20,50): 100, (50,100): 125}\n",
    "backlog_penalty = {(1,10):50, (11,20):75, (20,): 100}\n",
    "\n",
    "demand_dict = {i: {com1_sold: daily_demand} if i == loc5 else {com1_sold: 0} for i in locset}\n",
    "demand_penalty_dict = {i: {com1_sold: demand_penalty} if i == loc5 else {com1_sold: 0} for i in locset}\n",
    "backlog_penalty_dict = {i:{com1_sold: backlog_penalty} if i == loc5 else {com1_sold: 0} for i in locset}\n",
    "\n",
    "backlog_zero = {loc5:{com1_sold: (2,43)}} # (Age, Qty)\n",
    "\n",
    "scenario = Scenario(name='scenario_baseline', scales=scales, scheduling_scale_level=2, network_scale_level=0, purchase_scale_level=2, availability_scale_level=1, demand_scale_level=2, capacity_scale_level=1, backlog_penalty_scale_level=1, network=network, demand=demand_dict, demand_penalty=demand_penalty_dict, backlog_penalty=backlog_penalty_dict, label='Scenario with perfect information')"
   ],
   "metadata": {
    "collapsed": false,
    "ExecuteTime": {
     "end_time": "2025-08-29T22:05:38.016298Z",
     "start_time": "2025-08-29T22:05:38.001295Z"
    }
   },
   "id": "8d6f2175410af86c",
   "outputs": [],
   "execution_count": 8
  },
  {
   "cell_type": "code",
   "outputs": [
    {
     "data": {
      "text/plain": "{'loc1': {'com1_sold': 0},\n 'loc2': {'com1_sold': 0},\n 'loc3': {'com1_sold': 0},\n 'loc4': {'com1_sold': 0},\n 'loc5': {'com1_sold': {(0, 20): 75, (20, 50): 100, (50, 100): 125}},\n 'loc6': {'com1_sold': 0},\n 'loc7': {'com1_sold': 0}}"
     },
     "execution_count": 9,
     "metadata": {},
     "output_type": "execute_result"
    }
   ],
   "source": [
    "scenario.demand_penalty"
   ],
   "metadata": {
    "collapsed": false,
    "ExecuteTime": {
     "end_time": "2025-08-29T22:05:38.031979Z",
     "start_time": "2025-08-29T22:05:38.017298Z"
    }
   },
   "id": "576d962adcaa98db",
   "execution_count": 9
  },
  {
   "cell_type": "code",
   "outputs": [
    {
     "data": {
      "text/plain": "{'loc1': {'com1_sold': 0},\n 'loc2': {'com1_sold': 0},\n 'loc3': {'com1_sold': 0},\n 'loc4': {'com1_sold': 0},\n 'loc5': {'com1_sold': {(1, 10): 50, (11, 20): 75, (20,): 100}},\n 'loc6': {'com1_sold': 0},\n 'loc7': {'com1_sold': 0}}"
     },
     "execution_count": 10,
     "metadata": {},
     "output_type": "execute_result"
    }
   ],
   "source": [
    "scenario.backlog_penalty"
   ],
   "metadata": {
    "collapsed": false,
    "ExecuteTime": {
     "end_time": "2025-08-29T22:05:38.047400Z",
     "start_time": "2025-08-29T22:05:38.033134Z"
    }
   },
   "id": "e506a9d440355c75",
   "execution_count": 10
  },
  {
   "cell_type": "code",
   "source": [
    "problem_mincost = formulate(scenario=scenario,\n",
    "                            constraints={Constraints.COST, Constraints.TRANSPORT, Constraints.RESOURCE_BALANCE, Constraints.INVENTORY, Constraints.PRODUCTION, Constraints.BACKLOG, Constraints.NETWORK, Constraints.PRESERVE_NETWORK},\n",
    "                            demand_sign='eq', objective=Objective.COST_W_DEMAND_PENALTY, backlog_zero=backlog_zero)"
   ],
   "metadata": {
    "collapsed": false,
    "ExecuteTime": {
     "end_time": "2025-08-29T22:05:40.925262Z",
     "start_time": "2025-08-29T22:05:38.048476Z"
    }
   },
   "id": "6190edbb33e44b30",
   "outputs": [
    {
     "name": "stdout",
     "output_type": "stream",
     "text": [
      "Backlog Age Max: 2\n",
      "ERROR: Constructing component 'Exp' from data=None failed:\n",
      "        KeyboardInterrupt:\n"
     ]
    },
    {
     "ename": "KeyboardInterrupt",
     "evalue": "",
     "output_type": "error",
     "traceback": [
      "\u001B[1;31m---------------------------------------------------------------------------\u001B[0m",
      "\u001B[1;31mKeyboardInterrupt\u001B[0m                         Traceback (most recent call last)",
      "Cell \u001B[1;32mIn[11], line 1\u001B[0m\n\u001B[1;32m----> 1\u001B[0m problem_mincost \u001B[38;5;241m=\u001B[39m \u001B[43mformulate\u001B[49m\u001B[43m(\u001B[49m\u001B[43mscenario\u001B[49m\u001B[38;5;241;43m=\u001B[39;49m\u001B[43mscenario\u001B[49m\u001B[43m,\u001B[49m\n\u001B[0;32m      2\u001B[0m \u001B[43m                            \u001B[49m\u001B[43mconstraints\u001B[49m\u001B[38;5;241;43m=\u001B[39;49m\u001B[43m{\u001B[49m\u001B[43mConstraints\u001B[49m\u001B[38;5;241;43m.\u001B[39;49m\u001B[43mCOST\u001B[49m\u001B[43m,\u001B[49m\u001B[43m \u001B[49m\u001B[43mConstraints\u001B[49m\u001B[38;5;241;43m.\u001B[39;49m\u001B[43mTRANSPORT\u001B[49m\u001B[43m,\u001B[49m\u001B[43m \u001B[49m\u001B[43mConstraints\u001B[49m\u001B[38;5;241;43m.\u001B[39;49m\u001B[43mRESOURCE_BALANCE\u001B[49m\u001B[43m,\u001B[49m\u001B[43m \u001B[49m\u001B[43mConstraints\u001B[49m\u001B[38;5;241;43m.\u001B[39;49m\u001B[43mINVENTORY\u001B[49m\u001B[43m,\u001B[49m\u001B[43m \u001B[49m\u001B[43mConstraints\u001B[49m\u001B[38;5;241;43m.\u001B[39;49m\u001B[43mPRODUCTION\u001B[49m\u001B[43m,\u001B[49m\u001B[43m \u001B[49m\u001B[43mConstraints\u001B[49m\u001B[38;5;241;43m.\u001B[39;49m\u001B[43mBACKLOG\u001B[49m\u001B[43m,\u001B[49m\u001B[43m \u001B[49m\u001B[43mConstraints\u001B[49m\u001B[38;5;241;43m.\u001B[39;49m\u001B[43mNETWORK\u001B[49m\u001B[43m,\u001B[49m\u001B[43m \u001B[49m\u001B[43mConstraints\u001B[49m\u001B[38;5;241;43m.\u001B[39;49m\u001B[43mPRESERVE_NETWORK\u001B[49m\u001B[43m}\u001B[49m\u001B[43m,\u001B[49m\n\u001B[0;32m      3\u001B[0m \u001B[43m                            \u001B[49m\u001B[43mdemand_sign\u001B[49m\u001B[38;5;241;43m=\u001B[39;49m\u001B[38;5;124;43m'\u001B[39;49m\u001B[38;5;124;43meq\u001B[39;49m\u001B[38;5;124;43m'\u001B[39;49m\u001B[43m,\u001B[49m\u001B[43m \u001B[49m\u001B[43mobjective\u001B[49m\u001B[38;5;241;43m=\u001B[39;49m\u001B[43mObjective\u001B[49m\u001B[38;5;241;43m.\u001B[39;49m\u001B[43mCOST_W_DEMAND_PENALTY\u001B[49m\u001B[43m,\u001B[49m\u001B[43m \u001B[49m\u001B[43mbacklog_zero\u001B[49m\u001B[38;5;241;43m=\u001B[39;49m\u001B[43mbacklog_zero\u001B[49m\u001B[43m)\u001B[49m\n",
      "File \u001B[1;32m~\\PycharmProjects\\energiapy\\src\\energiapy\\model\\formulate.py:411\u001B[0m, in \u001B[0;36mformulate\u001B[1;34m(scenario, constraints, objective, write_lpfile, gwp, land_restriction, gwp_reduction_pct, model_class, objective_resource, inventory_zero, backlog_zero, demand_sign)\u001B[0m\n\u001B[0;32m    407\u001B[0m     constraint_uncertain_resource_demand(\n\u001B[0;32m    408\u001B[0m         instance\u001B[38;5;241m=\u001B[39minstance, demand\u001B[38;5;241m=\u001B[39mdemand, scheduling_scale_level\u001B[38;5;241m=\u001B[39mscenario\u001B[38;5;241m.\u001B[39mscheduling_scale_level)\n\u001B[0;32m    410\u001B[0m \u001B[38;5;28;01mif\u001B[39;00m \u001B[38;5;28mlen\u001B[39m(scenario\u001B[38;5;241m.\u001B[39mlocation_set) \u001B[38;5;241m>\u001B[39m \u001B[38;5;241m1\u001B[39m:\n\u001B[1;32m--> 411\u001B[0m     \u001B[43mgenerate_transport_vars\u001B[49m\u001B[43m(\u001B[49m\u001B[43minstance\u001B[49m\u001B[38;5;241;43m=\u001B[39;49m\u001B[43minstance\u001B[49m\u001B[43m)\u001B[49m\n\u001B[0;32m    413\u001B[0m \u001B[38;5;28;01mif\u001B[39;00m Constraints\u001B[38;5;241m.\u001B[39mCOST \u001B[38;5;129;01min\u001B[39;00m constraints:\n\u001B[0;32m    414\u001B[0m     constraint_process_capex(instance\u001B[38;5;241m=\u001B[39minstance, capex_dict\u001B[38;5;241m=\u001B[39mscenario\u001B[38;5;241m.\u001B[39mcapex_dict,\n\u001B[0;32m    415\u001B[0m                              network_scale_level\u001B[38;5;241m=\u001B[39mscenario\u001B[38;5;241m.\u001B[39mexpenditure_scale_level, capex_factor\u001B[38;5;241m=\u001B[39mscenario\u001B[38;5;241m.\u001B[39mcapex_factor, annualization_factor\u001B[38;5;241m=\u001B[39mscenario\u001B[38;5;241m.\u001B[39mannualization_factor)\n",
      "File \u001B[1;32m~\\PycharmProjects\\energiapy\\src\\energiapy\\model\\variables\\transport.py:42\u001B[0m, in \u001B[0;36mgenerate_transport_vars\u001B[1;34m(instance)\u001B[0m\n\u001B[0;32m     38\u001B[0m instance\u001B[38;5;241m.\u001B[39mExp_F \u001B[38;5;241m=\u001B[39m Var(instance\u001B[38;5;241m.\u001B[39msources, instance\u001B[38;5;241m.\u001B[39msinks, instance\u001B[38;5;241m.\u001B[39mtransports,\n\u001B[0;32m     39\u001B[0m                      instance\u001B[38;5;241m.\u001B[39mscales_scheduling, within\u001B[38;5;241m=\u001B[39mNonNegativeReals, doc\u001B[38;5;241m=\u001B[39m\u001B[38;5;124m'\u001B[39m\u001B[38;5;124mtotal resources transported mode through between locations\u001B[39m\u001B[38;5;124m'\u001B[39m)\n\u001B[0;32m     40\u001B[0m instance\u001B[38;5;241m.\u001B[39mExp_F_network \u001B[38;5;241m=\u001B[39m Var(instance\u001B[38;5;241m.\u001B[39msources, instance\u001B[38;5;241m.\u001B[39msinks, instance\u001B[38;5;241m.\u001B[39mtransports,\n\u001B[0;32m     41\u001B[0m                              instance\u001B[38;5;241m.\u001B[39mscales_network, within\u001B[38;5;241m=\u001B[39mNonNegativeReals, doc\u001B[38;5;241m=\u001B[39m\u001B[38;5;124m'\u001B[39m\u001B[38;5;124mtotal resources transported mode through between locations over network scale\u001B[39m\u001B[38;5;124m'\u001B[39m)\n\u001B[1;32m---> 42\u001B[0m instance\u001B[38;5;241m.\u001B[39mExp \u001B[38;5;241m=\u001B[39m Var(instance\u001B[38;5;241m.\u001B[39msources, instance\u001B[38;5;241m.\u001B[39msinks, instance\u001B[38;5;241m.\u001B[39mtransports, instance\u001B[38;5;241m.\u001B[39mresources_trans,\n\u001B[0;32m     43\u001B[0m                    instance\u001B[38;5;241m.\u001B[39mscales_scheduling, within\u001B[38;5;241m=\u001B[39mNonNegativeReals, doc\u001B[38;5;241m=\u001B[39m\u001B[38;5;124m'\u001B[39m\u001B[38;5;124mresource transported through mode between locations\u001B[39m\u001B[38;5;124m'\u001B[39m)\n\u001B[0;32m     44\u001B[0m \u001B[38;5;66;03m# instance.Transit = Var(instance.sources, instance.sinks, instance.transports, instance.resources_trans,\u001B[39;00m\n\u001B[0;32m     45\u001B[0m \u001B[38;5;66;03m#                        instance.scales_scheduling, within=NonNegativeReals, doc='resource in transit through mode between locations')\u001B[39;00m\n\u001B[0;32m     46\u001B[0m instance\u001B[38;5;241m.\u001B[39mCapex_transport \u001B[38;5;241m=\u001B[39m Var(instance\u001B[38;5;241m.\u001B[39msources, instance\u001B[38;5;241m.\u001B[39msinks, instance\u001B[38;5;241m.\u001B[39mtransports,\n\u001B[0;32m     47\u001B[0m                                instance\u001B[38;5;241m.\u001B[39mscales_network, within\u001B[38;5;241m=\u001B[39mNonNegativeReals, doc\u001B[38;5;241m=\u001B[39m\u001B[38;5;124m'\u001B[39m\u001B[38;5;124mcapex to set up transport mode between sink and source\u001B[39m\u001B[38;5;124m'\u001B[39m)\n",
      "File \u001B[1;32m~\\.conda\\envs\\venv_energiapy\\lib\\site-packages\\pyomo\\core\\base\\block.py:568\u001B[0m, in \u001B[0;36m_BlockData.__setattr__\u001B[1;34m(self, name, val)\u001B[0m\n\u001B[0;32m    563\u001B[0m \u001B[38;5;28;01mif\u001B[39;00m name \u001B[38;5;129;01mnot\u001B[39;00m \u001B[38;5;129;01min\u001B[39;00m \u001B[38;5;28mself\u001B[39m\u001B[38;5;241m.\u001B[39m\u001B[38;5;18m__dict__\u001B[39m:\n\u001B[0;32m    564\u001B[0m     \u001B[38;5;28;01mif\u001B[39;00m \u001B[38;5;28misinstance\u001B[39m(val, Component):\n\u001B[0;32m    565\u001B[0m         \u001B[38;5;66;03m#\u001B[39;00m\n\u001B[0;32m    566\u001B[0m         \u001B[38;5;66;03m# Pyomo components are added with the add_component method.\u001B[39;00m\n\u001B[0;32m    567\u001B[0m         \u001B[38;5;66;03m#\u001B[39;00m\n\u001B[1;32m--> 568\u001B[0m         \u001B[38;5;28;43mself\u001B[39;49m\u001B[38;5;241;43m.\u001B[39;49m\u001B[43madd_component\u001B[49m\u001B[43m(\u001B[49m\u001B[43mname\u001B[49m\u001B[43m,\u001B[49m\u001B[43m \u001B[49m\u001B[43mval\u001B[49m\u001B[43m)\u001B[49m\n\u001B[0;32m    569\u001B[0m     \u001B[38;5;28;01melse\u001B[39;00m:\n\u001B[0;32m    570\u001B[0m         \u001B[38;5;66;03m#\u001B[39;00m\n\u001B[0;32m    571\u001B[0m         \u001B[38;5;66;03m# Other Python objects are added with the standard __setattr__\u001B[39;00m\n\u001B[0;32m    572\u001B[0m         \u001B[38;5;66;03m# method.\u001B[39;00m\n\u001B[0;32m    573\u001B[0m         \u001B[38;5;66;03m#\u001B[39;00m\n\u001B[0;32m    574\u001B[0m         \u001B[38;5;28msuper\u001B[39m(_BlockData, \u001B[38;5;28mself\u001B[39m)\u001B[38;5;241m.\u001B[39m\u001B[38;5;21m__setattr__\u001B[39m(name, val)\n",
      "File \u001B[1;32m~\\.conda\\envs\\venv_energiapy\\lib\\site-packages\\pyomo\\core\\base\\block.py:1126\u001B[0m, in \u001B[0;36m_BlockData.add_component\u001B[1;34m(self, name, val)\u001B[0m\n\u001B[0;32m   1118\u001B[0m     logger\u001B[38;5;241m.\u001B[39mdebug(\n\u001B[0;32m   1119\u001B[0m         \u001B[38;5;124m\"\u001B[39m\u001B[38;5;124mConstructing \u001B[39m\u001B[38;5;132;01m%s\u001B[39;00m\u001B[38;5;124m \u001B[39m\u001B[38;5;124m'\u001B[39m\u001B[38;5;132;01m%s\u001B[39;00m\u001B[38;5;124m'\u001B[39m\u001B[38;5;124m on \u001B[39m\u001B[38;5;132;01m%s\u001B[39;00m\u001B[38;5;124m from data=\u001B[39m\u001B[38;5;132;01m%s\u001B[39;00m\u001B[38;5;124m\"\u001B[39m,\n\u001B[0;32m   1120\u001B[0m         val\u001B[38;5;241m.\u001B[39m\u001B[38;5;18m__class__\u001B[39m\u001B[38;5;241m.\u001B[39m\u001B[38;5;18m__name__\u001B[39m,\n\u001B[1;32m   (...)\u001B[0m\n\u001B[0;32m   1123\u001B[0m         \u001B[38;5;28mstr\u001B[39m(data),\n\u001B[0;32m   1124\u001B[0m     )\n\u001B[0;32m   1125\u001B[0m \u001B[38;5;28;01mtry\u001B[39;00m:\n\u001B[1;32m-> 1126\u001B[0m     \u001B[43mval\u001B[49m\u001B[38;5;241;43m.\u001B[39;49m\u001B[43mconstruct\u001B[49m\u001B[43m(\u001B[49m\u001B[43mdata\u001B[49m\u001B[43m)\u001B[49m\n\u001B[0;32m   1127\u001B[0m \u001B[38;5;28;01mexcept\u001B[39;00m:\n\u001B[0;32m   1128\u001B[0m     err \u001B[38;5;241m=\u001B[39m sys\u001B[38;5;241m.\u001B[39mexc_info()[\u001B[38;5;241m1\u001B[39m]\n",
      "File \u001B[1;32m~\\.conda\\envs\\venv_energiapy\\lib\\site-packages\\pyomo\\core\\base\\var.py:848\u001B[0m, in \u001B[0;36mVar.construct\u001B[1;34m(self, data)\u001B[0m\n\u001B[0;32m    846\u001B[0m \u001B[38;5;66;03m# Initialize all the component datas with the common data\u001B[39;00m\n\u001B[0;32m    847\u001B[0m \u001B[38;5;28;01mfor\u001B[39;00m index \u001B[38;5;129;01min\u001B[39;00m \u001B[38;5;28mself\u001B[39m\u001B[38;5;241m.\u001B[39mindex_set():\n\u001B[1;32m--> 848\u001B[0m     \u001B[38;5;28mself\u001B[39m\u001B[38;5;241m.\u001B[39m_data[index] \u001B[38;5;241m=\u001B[39m \u001B[38;5;28;43mself\u001B[39;49m\u001B[38;5;241;43m.\u001B[39;49m\u001B[43m_ComponentDataClass\u001B[49m\u001B[38;5;241;43m.\u001B[39;49m\u001B[43mcopy\u001B[49m\u001B[43m(\u001B[49m\u001B[43mref\u001B[49m\u001B[43m)\u001B[49m\n\u001B[0;32m    849\u001B[0m     \u001B[38;5;66;03m# NOTE: This is a special case where a key, value pair is\u001B[39;00m\n\u001B[0;32m    850\u001B[0m     \u001B[38;5;66;03m# added to the _data dictionary without calling\u001B[39;00m\n\u001B[0;32m    851\u001B[0m     \u001B[38;5;66;03m# _getitem_when_not_present, which is why we need to set the\u001B[39;00m\n\u001B[0;32m    852\u001B[0m     \u001B[38;5;66;03m# index here.\u001B[39;00m\n\u001B[0;32m    853\u001B[0m     \u001B[38;5;28mself\u001B[39m\u001B[38;5;241m.\u001B[39m_data[index]\u001B[38;5;241m.\u001B[39m_index \u001B[38;5;241m=\u001B[39m index\n",
      "\u001B[1;31mKeyboardInterrupt\u001B[0m: "
     ]
    }
   ],
   "execution_count": 11
  },
  {
   "cell_type": "code",
   "source": [
    "results_mincost = solve(scenario=scenario, instance=problem_mincost, solver='gurobi', name='MILP')"
   ],
   "metadata": {
    "collapsed": false
   },
   "id": "3d00ee045948942e",
   "outputs": [],
   "execution_count": null
  },
  {
   "cell_type": "code",
   "source": [
    "plot_results.schedule(results=results_mincost, y_axis='S', component='com1_sold', location='loc5', color='green')"
   ],
   "metadata": {
    "collapsed": false
   },
   "id": "49330371d8d91ab4",
   "outputs": [],
   "execution_count": null
  },
  {
   "cell_type": "code",
   "outputs": [],
   "source": [
    "problem_mincost.constraint_backlog[('loc5 ', 'com1_sold', 0, 0, 0)].pprint()"
   ],
   "metadata": {
    "collapsed": false
   },
   "id": "ea5aa0388f77e9bc",
   "execution_count": null
  },
  {
   "cell_type": "code",
   "outputs": [],
   "source": [
    "plot_results.schedule(results=results_mincost, y_axis='S_backlog', component='com1_sold', location='loc5', color='green')"
   ],
   "metadata": {
    "collapsed": false
   },
   "id": "35e8a75644f3d921",
   "execution_count": null
  },
  {
   "cell_type": "code",
   "outputs": [],
   "source": [
    "plot_results.schedule(results=results_mincost, y_axis='Demand_backlog', component='com1_sold', location='loc5', color='green')"
   ],
   "metadata": {
    "collapsed": false
   },
   "id": "b1ce94c38d184459",
   "execution_count": null
  },
  {
   "cell_type": "code",
   "source": [
    "plot_results.schedule(results=results_mincost, y_axis='Inv', component='com1_store20_com1_in_stored', location='loc1', color='green')\n",
    "plot_results.schedule(results=results_mincost, y_axis='Inv', component='com1_store20_com1_in_stored', location='loc2', color='green')\n",
    "plot_results.schedule(results=results_mincost, y_axis='Inv', component='com1_store20_com1_in_stored', location='loc3', color='green')\n",
    "plot_results.schedule(results=results_mincost, y_axis='Inv', component='com1_store50_com1_in_stored', location='loc4', color='green')\n",
    "plot_results.schedule(results=results_mincost, y_axis='Inv', component='com1_store50_com1_in_stored', location='loc5', color='green')\n",
    "plot_results.schedule(results=results_mincost, y_axis='Inv', component='com1_store10_com1_in_stored', location='loc6', color='green')\n",
    "plot_results.schedule(results=results_mincost, y_axis='Inv', component='com1_store20_com1_in_stored', location='loc7', color='green')"
   ],
   "metadata": {
    "collapsed": false
   },
   "id": "b3575ced7a8a3214",
   "outputs": [],
   "execution_count": null
  },
  {
   "cell_type": "code",
   "source": [
    "plot_results.transport(results=results_mincost, source='loc1', sink='loc2', transport='truck12', resource='com1_loc1_out')\n",
    "plot_results.transport(results=results_mincost, source='loc1', sink='loc3', transport='truck13', resource='com1_loc1_out')\n",
    "plot_results.transport(results=results_mincost, source='loc2', sink='loc4', transport='truck24', resource='com1_loc2_out')\n",
    "plot_results.transport(results=results_mincost, source='loc2', sink='loc5', transport='truck25', resource='com1_loc2_out')\n",
    "plot_results.transport(results=results_mincost, source='loc3', sink='loc4', transport='truck34', resource='com1_loc3_out')\n",
    "plot_results.transport(results=results_mincost, source='loc4', sink='loc5', transport='truck45', resource='com1_loc4_out')\n",
    "plot_results.transport(results=results_mincost, source='loc4', sink='loc7', transport='truck47', resource='com1_loc4_out')\n",
    "plot_results.transport(results=results_mincost, source='loc6', sink='loc4', transport='truck64', resource='com1_loc6_out')\n",
    "plot_results.transport(results=results_mincost, source='loc7', sink='loc5', transport='truck75', resource='com1_loc7_out')"
   ],
   "metadata": {
    "collapsed": false
   },
   "id": "f7133c823352a7fc",
   "outputs": [],
   "execution_count": null
  },
  {
   "cell_type": "code",
   "source": [
    "# plot_results.transport(results=results_mincost, source='loc2', sink='loc1', transport='truck50_21',\n",
    "#                        resource='com1_loc2_out')\n",
    "# plot_results.transport(results=results_mincost, source='loc3', sink='loc1', transport='truck30_31',\n",
    "#                        resource='com1_loc3_out')\n",
    "# plot_results.transport(results=results_mincost, source='loc4', sink='loc2', transport='truck50_42',\n",
    "#                        resource='com1_loc4_out')\n",
    "# plot_results.transport(results=results_mincost, source='loc5', sink='loc2', transport='truck30_52',\n",
    "#                        resource='com1_loc5_out')\n",
    "# plot_results.transport(results=results_mincost, source='loc4', sink='loc3', transport='truck20_43',\n",
    "#                        resource='com1_loc4_out')\n",
    "# plot_results.transport(results=results_mincost, source='loc5', sink='loc4', transport='truck100_54',\n",
    "#                        resource='com1_loc5_out')\n",
    "# plot_results.transport(results=results_mincost, source='loc7', sink='loc4', transport='truck40_74',\n",
    "#                        resource='com1_loc7_out')\n",
    "# plot_results.transport(results=results_mincost, source='loc4', sink='loc6', transport='truck50_46',\n",
    "#                        resource='com1_loc4_out')\n",
    "# plot_results.transport(results=results_mincost, source='loc5', sink='loc7', transport='truck40_57',\n",
    "#                        resource='com1_loc5_out')"
   ],
   "metadata": {
    "collapsed": false
   },
   "id": "105ddd9a531d4ca8",
   "outputs": [],
   "execution_count": null
  },
  {
   "cell_type": "code",
   "source": [
    "plot_results.schedule(results=results_mincost, y_axis='C', component='com1_pur', location='loc1', color='green')\n",
    "plot_results.schedule(results=results_mincost, y_axis='C', component='com1_pur', location='loc6', color='green')"
   ],
   "metadata": {
    "collapsed": false
   },
   "id": "ef3e613a76c09854",
   "outputs": [],
   "execution_count": null
  },
  {
   "cell_type": "code",
   "outputs": [],
   "source": [],
   "metadata": {
    "collapsed": false
   },
   "id": "acfd0789c3e97d05",
   "execution_count": null
  }
 ],
 "metadata": {
  "kernelspec": {
   "display_name": "Python 3",
   "language": "python",
   "name": "python3"
  },
  "language_info": {
   "codemirror_mode": {
    "name": "ipython",
    "version": 2
   },
   "file_extension": ".py",
   "mimetype": "text/x-python",
   "name": "python",
   "nbconvert_exporter": "python",
   "pygments_lexer": "ipython2",
   "version": "2.7.6"
  }
 },
 "nbformat": 4,
 "nbformat_minor": 5
}
