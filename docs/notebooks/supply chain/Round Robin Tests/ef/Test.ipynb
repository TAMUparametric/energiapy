{
 "cells": [
  {
   "cell_type": "code",
   "execution_count": 12,
   "id": "initial_id",
   "metadata": {
    "collapsed": true,
    "ExecuteTime": {
     "end_time": "2025-08-11T21:02:22.542680Z",
     "start_time": "2025-08-11T21:02:22.533267Z"
    }
   },
   "outputs": [],
   "source": [
    "import pickle"
   ]
  },
  {
   "cell_type": "code",
   "outputs": [],
   "source": [
    "with open('scenario_dict_EF.pkl', 'rb') as file:\n",
    "    load_scenario_dict = pickle.load(file)\n",
    "\n",
    "load_scenario_names = list(load_scenario_dict.keys())"
   ],
   "metadata": {
    "collapsed": false,
    "ExecuteTime": {
     "end_time": "2025-08-11T21:02:22.558468Z",
     "start_time": "2025-08-11T21:02:22.543744Z"
    }
   },
   "id": "a52ac09744354a8e",
   "execution_count": 13
  },
  {
   "cell_type": "code",
   "outputs": [
    {
     "data": {
      "text/plain": "['res6_1 cap2_1 trans47_1 trans25_2',\n 'res6_1 cap2_1 trans47_1 trans25_nd',\n 'res6_1 cap2_1 trans47_nd trans25_2',\n 'res6_1 cap2_1 trans47_nd trans25_nd',\n 'res6_1 cap2_2 trans47_1 trans25_2',\n 'res6_1 cap2_2 trans47_1 trans25_nd',\n 'res6_1 cap2_2 trans47_nd trans25_2',\n 'res6_1 cap2_2 trans47_nd trans25_nd',\n 'res6_1 cap2_3 trans47_1 trans25_2',\n 'res6_1 cap2_3 trans47_1 trans25_nd',\n 'res6_1 cap2_3 trans47_nd trans25_2',\n 'res6_1 cap2_3 trans47_nd trans25_nd',\n 'res6_1 cap2_nd trans47_1 trans25_2',\n 'res6_1 cap2_nd trans47_1 trans25_nd',\n 'res6_1 cap2_nd trans47_nd trans25_2',\n 'res6_1 cap2_nd trans47_nd trans25_nd',\n 'res6_2 cap2_1 trans47_1 trans25_2',\n 'res6_2 cap2_1 trans47_1 trans25_nd',\n 'res6_2 cap2_1 trans47_nd trans25_2',\n 'res6_2 cap2_1 trans47_nd trans25_nd',\n 'res6_2 cap2_2 trans47_1 trans25_2',\n 'res6_2 cap2_2 trans47_1 trans25_nd',\n 'res6_2 cap2_2 trans47_nd trans25_2',\n 'res6_2 cap2_2 trans47_nd trans25_nd',\n 'res6_2 cap2_3 trans47_1 trans25_2',\n 'res6_2 cap2_3 trans47_1 trans25_nd',\n 'res6_2 cap2_3 trans47_nd trans25_2',\n 'res6_2 cap2_3 trans47_nd trans25_nd',\n 'res6_2 cap2_nd trans47_1 trans25_2',\n 'res6_2 cap2_nd trans47_1 trans25_nd',\n 'res6_2 cap2_nd trans47_nd trans25_2',\n 'res6_2 cap2_nd trans47_nd trans25_nd',\n 'res6_3 cap2_1 trans47_1 trans25_2',\n 'res6_3 cap2_1 trans47_1 trans25_nd',\n 'res6_3 cap2_1 trans47_nd trans25_2',\n 'res6_3 cap2_1 trans47_nd trans25_nd',\n 'res6_3 cap2_2 trans47_1 trans25_2',\n 'res6_3 cap2_2 trans47_1 trans25_nd',\n 'res6_3 cap2_2 trans47_nd trans25_2',\n 'res6_3 cap2_2 trans47_nd trans25_nd',\n 'res6_3 cap2_3 trans47_1 trans25_2',\n 'res6_3 cap2_3 trans47_1 trans25_nd',\n 'res6_3 cap2_3 trans47_nd trans25_2',\n 'res6_3 cap2_3 trans47_nd trans25_nd',\n 'res6_3 cap2_nd trans47_1 trans25_2',\n 'res6_3 cap2_nd trans47_1 trans25_nd',\n 'res6_3 cap2_nd trans47_nd trans25_2',\n 'res6_3 cap2_nd trans47_nd trans25_nd',\n 'res6_nd cap2_1 trans47_1 trans25_2',\n 'res6_nd cap2_1 trans47_1 trans25_nd',\n 'res6_nd cap2_1 trans47_nd trans25_2',\n 'res6_nd cap2_1 trans47_nd trans25_nd',\n 'res6_nd cap2_2 trans47_1 trans25_2',\n 'res6_nd cap2_2 trans47_1 trans25_nd',\n 'res6_nd cap2_2 trans47_nd trans25_2',\n 'res6_nd cap2_2 trans47_nd trans25_nd',\n 'res6_nd cap2_3 trans47_1 trans25_2',\n 'res6_nd cap2_3 trans47_1 trans25_nd',\n 'res6_nd cap2_3 trans47_nd trans25_2',\n 'res6_nd cap2_3 trans47_nd trans25_nd',\n 'res6_nd cap2_nd trans47_1 trans25_2',\n 'res6_nd cap2_nd trans47_1 trans25_nd',\n 'res6_nd cap2_nd trans47_nd trans25_2',\n 'res6_nd cap2_nd trans47_nd trans25_nd']"
     },
     "execution_count": 19,
     "metadata": {},
     "output_type": "execute_result"
    }
   ],
   "source": [
    "load_scenario_names"
   ],
   "metadata": {
    "collapsed": false,
    "ExecuteTime": {
     "end_time": "2025-08-11T21:04:16.317617Z",
     "start_time": "2025-08-11T21:04:16.308190Z"
    }
   },
   "id": "a7b434329a51dd54",
   "execution_count": 19
  },
  {
   "cell_type": "code",
   "outputs": [],
   "source": [],
   "metadata": {
    "collapsed": false,
    "ExecuteTime": {
     "start_time": "2025-08-11T21:02:22.590488Z"
    }
   },
   "id": "e29abcc5b9e672d3",
   "execution_count": null
  }
 ],
 "metadata": {
  "kernelspec": {
   "display_name": "Python 3",
   "language": "python",
   "name": "python3"
  },
  "language_info": {
   "codemirror_mode": {
    "name": "ipython",
    "version": 2
   },
   "file_extension": ".py",
   "mimetype": "text/x-python",
   "name": "python",
   "nbconvert_exporter": "python",
   "pygments_lexer": "ipython2",
   "version": "2.7.6"
  }
 },
 "nbformat": 4,
 "nbformat_minor": 5
}
