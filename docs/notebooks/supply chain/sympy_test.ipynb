{
 "cells": [
  {
   "metadata": {
    "ExecuteTime": {
     "end_time": "2025-06-24T15:03:16.363543Z",
     "start_time": "2025-06-24T15:03:15.582992Z"
    }
   },
   "cell_type": "code",
   "outputs": [],
   "execution_count": 1,
   "source": [
    "from pyomo.environ import *\n",
    "from pyomo.core.base.sos import SOSConstraint\n",
    "\n",
    "model = ConcreteModel()\n",
    "\n",
    "# Example variables\n",
    "model.I = Set(initialize=[1, 2, 3])\n",
    "model.x = Var(model.I, within=NonNegativeReals)\n",
    "\n",
    "# Add SOS1 constraint\n",
    "model.sos1 = SOSConstraint(\n",
    "    var=model.x,\n",
    "    index=model.I,\n",
    "    sos=1,                # Type 1 (only one non-zero allowed)\n",
    "    weights={i: i for i in model.I}  # Optional: weights define priority/order\n",
    ")\n"
   ],
   "id": "51cfea5bb443ada2"
  },
  {
   "cell_type": "code",
   "outputs": [
    {
     "name": "stdout",
     "output_type": "stream",
     "text": [
      "   sos1 : \tSize=1 \n",
      "\t\tType=1\n",
      "\t\tWeight : Variable\n",
      "\t\t1 : x[1]\n",
      "\t\t2 : x[2]\n",
      "\t\t3 : x[3]\n"
     ]
    }
   ],
   "source": [
    "model.sos1.pprint()"
   ],
   "metadata": {
    "collapsed": false,
    "ExecuteTime": {
     "end_time": "2025-06-24T15:03:28.489544Z",
     "start_time": "2025-06-24T15:03:28.486460Z"
    }
   },
   "id": "9b7e764a1a77c07c",
   "execution_count": 3
  },
  {
   "cell_type": "code",
   "outputs": [
    {
     "name": "stdout",
     "output_type": "stream",
     "text": [
      "x : Size=3, Index=I\n",
      "    Key : Lower : Value : Upper : Fixed : Stale : Domain\n",
      "      1 :     0 :  None :  None : False :  True : NonNegativeReals\n",
      "      2 :     0 :  None :  None : False :  True : NonNegativeReals\n",
      "      3 :     0 :  None :  None : False :  True : NonNegativeReals\n"
     ]
    }
   ],
   "source": [
    "model.x.pprint()"
   ],
   "metadata": {
    "collapsed": false,
    "ExecuteTime": {
     "end_time": "2025-06-24T15:04:42.874954Z",
     "start_time": "2025-06-24T15:04:42.862955Z"
    }
   },
   "id": "cc096b11aefb9852",
   "execution_count": 4
  },
  {
   "cell_type": "code",
   "outputs": [],
   "source": [],
   "metadata": {
    "collapsed": false
   },
   "id": "f1364b01958e2aa"
  }
 ],
 "metadata": {
  "kernelspec": {
   "display_name": "Python 3",
   "language": "python",
   "name": "python3"
  },
  "language_info": {
   "codemirror_mode": {
    "name": "ipython",
    "version": 2
   },
   "file_extension": ".py",
   "mimetype": "text/x-python",
   "name": "python",
   "nbconvert_exporter": "python",
   "pygments_lexer": "ipython2",
   "version": "2.7.6"
  }
 },
 "nbformat": 4,
 "nbformat_minor": 5
}
