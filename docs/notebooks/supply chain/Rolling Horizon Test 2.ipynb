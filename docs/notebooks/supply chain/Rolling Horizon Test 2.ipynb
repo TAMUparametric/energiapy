{
 "cells": [
  {
   "cell_type": "code",
   "execution_count": 11,
   "id": "initial_id",
   "metadata": {
    "collapsed": true,
    "ExecuteTime": {
     "end_time": "2025-01-27T16:59:15.371941Z",
     "start_time": "2025-01-27T16:59:15.368819Z"
    }
   },
   "outputs": [],
   "source": [
    "import sys\n",
    "sys.path.append('../../../src')\n",
    "import pandas\n",
    "import random\n",
    "import math\n",
    "from energiapy.components.temporal_scale import TemporalScale\n",
    "from energiapy.components.resource import Resource, VaryingResource\n",
    "from energiapy.components.process import Process, ProcessMode, VaryingProcess\n",
    "from energiapy.components.location import Location\n",
    "from energiapy.components.transport import Transport\n",
    "from energiapy.components.network import Network\n",
    "from energiapy.components.scenario import Scenario\n",
    "# from energiapy.model.constraints.demand import constraint_demand2\n",
    "from energiapy.components.result import Result\n",
    "from energiapy.model.formulate import formulate, Constraints, Objective\n",
    "from energiapy.plot import plot_results, plot_scenario, plot_location\n",
    "from energiapy.model.solve import solve\n",
    "from pyomo.environ import Param\n",
    "from energiapy.utils.scale_utils import scale_pyomo_set, scale_tuple\n",
    "import matplotlib.pyplot as plt\n",
    "from matplotlib import rc\n",
    "from typing import Union, Tuple, List"
   ]
  },
  {
   "cell_type": "code",
   "outputs": [],
   "source": [
    "_time_intervals = 7  # Number of time intervals in a planning horizon    (L_chi)\n",
    "_coms = 1\n",
    "_exec_scenarios = 48  # Number of execution scenarios                     (chi)\n",
    "M = 1e4  # Big M\n",
    "\n",
    "loc6_varying_factor = pandas.DataFrame(data={'com1_process': [1]*48})\n",
    "\n",
    "# Define temporal scales\n",
    "scales = TemporalScale(discretization_list=[_exec_scenarios, _time_intervals], start_zero=(25,5))"
   ],
   "metadata": {
    "collapsed": false,
    "ExecuteTime": {
     "end_time": "2025-01-27T16:59:15.376619Z",
     "start_time": "2025-01-27T16:59:15.372972Z"
    }
   },
   "id": "488de8f4162753cf",
   "execution_count": 12
  },
  {
   "cell_type": "code",
   "outputs": [],
   "source": [
    "scale_iter = scales.scale_iter(scale_level=len(scales.scale)-1)"
   ],
   "metadata": {
    "collapsed": false,
    "ExecuteTime": {
     "end_time": "2025-01-27T16:59:15.380768Z",
     "start_time": "2025-01-27T16:59:15.376619Z"
    }
   },
   "id": "c344f57aba6fc3fe",
   "execution_count": 13
  },
  {
   "cell_type": "code",
   "outputs": [],
   "source": [
    "def supply_chain_controller(time_ind:List, start_time:Tuple=None, end_time:Tuple=None, initialize_dict:dict=None, p_horizon:int=1, c_horizon:int=1):\n",
    "    \n",
    "    if c_horizon > p_horizon:\n",
    "        raise ValueError('c_horizon must be less than or equal to p_horizon')\n",
    "    \n",
    "    if not start_time:\n",
    "        start_time = time_ind[0]\n",
    "    elif start_time < time_ind[0]:\n",
    "        raise ValueError('start_time must be less than or equal to planning horizon')\n",
    "    \n",
    "    if not end_time:\n",
    "        end_time = end_time or time_ind[-1]\n",
    "    elif end_time > time_ind[-1]:\n",
    "        raise ValueError('end_time must be less than or equal to planning horizon')\n",
    "    \n",
    "    start_index = time_ind.index(start_time)\n",
    "    end_index = time_ind.index(end_time)\n",
    "    \n",
    "    print(f\"Index: {start_index}; {start_time}\")\n",
    "    print(f\"Index: {end_index}; {end_time}\")\n",
    "    \n",
    "    close_loop_results = dict()\n",
    "    \n",
    "    for t in range(start_index, end_index, c_horizon):\n",
    "        print(f\"Time Index: {time_ind[t]}\")\n",
    "    \n",
    "    # for t_start in range(start_time, end_time+1, c_horizon):\n",
    "    #     time_idx = [i for i in range(start_time, min(t_start+p_horizon, end_time+1))]\n",
    "    #     print(f\"{t_start}: {time_idx}: {problem}\")\n",
    "    #     \n",
    "    #     print(f'\\n################################## Finished solving a {problem} problem for time period {t_start} ##################################\\n')"
   ],
   "metadata": {
    "collapsed": false,
    "ExecuteTime": {
     "end_time": "2025-01-27T17:06:41.788946Z",
     "start_time": "2025-01-27T17:06:41.784661Z"
    }
   },
   "id": "b9231fc48e680643",
   "execution_count": 22
  },
  {
   "cell_type": "code",
   "outputs": [
    {
     "name": "stdout",
     "output_type": "stream",
     "text": [
      "Index: 17; (2, 3)\n",
      "Index: 46; (6, 4)\n",
      "Time Index: (2, 3)\n",
      "Time Index: (2, 5)\n",
      "Time Index: (3, 0)\n",
      "Time Index: (3, 2)\n",
      "Time Index: (3, 4)\n",
      "Time Index: (3, 6)\n",
      "Time Index: (4, 1)\n",
      "Time Index: (4, 3)\n",
      "Time Index: (4, 5)\n",
      "Time Index: (5, 0)\n",
      "Time Index: (5, 2)\n",
      "Time Index: (5, 4)\n",
      "Time Index: (5, 6)\n",
      "Time Index: (6, 1)\n",
      "Time Index: (6, 3)\n"
     ]
    }
   ],
   "source": [
    "supply_chain_controller(time_ind=scale_iter, start_time=(2,3), end_time=(6,4), c_horizon=2, p_horizon=5)"
   ],
   "metadata": {
    "collapsed": false,
    "ExecuteTime": {
     "end_time": "2025-01-27T17:07:25.724770Z",
     "start_time": "2025-01-27T17:07:25.721623Z"
    }
   },
   "id": "73fb0140099d94d7",
   "execution_count": 25
  },
  {
   "cell_type": "code",
   "outputs": [],
   "source": [],
   "metadata": {
    "collapsed": false
   },
   "id": "d8a561da6f5e4e2e"
  }
 ],
 "metadata": {
  "kernelspec": {
   "display_name": "Python 3",
   "language": "python",
   "name": "python3"
  },
  "language_info": {
   "codemirror_mode": {
    "name": "ipython",
    "version": 2
   },
   "file_extension": ".py",
   "mimetype": "text/x-python",
   "name": "python",
   "nbconvert_exporter": "python",
   "pygments_lexer": "ipython2",
   "version": "2.7.6"
  }
 },
 "nbformat": 4,
 "nbformat_minor": 5
}
