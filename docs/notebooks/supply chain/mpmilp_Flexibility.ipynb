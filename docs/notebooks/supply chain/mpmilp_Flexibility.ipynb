{
 "cells": [
  {
   "cell_type": "code",
   "id": "initial_id",
   "metadata": {
    "collapsed": true,
    "ExecuteTime": {
     "end_time": "2025-05-22T18:46:46.180359Z",
     "start_time": "2025-05-22T18:46:46.166814Z"
    }
   },
   "source": [
    "import numpy as np\n",
    "from ppopt.mpmodel import MPModeler, VariableType\n",
    "from ppopt.mp_solvers.solve_mpmiqp import solve_mpmiqp_enumeration, mpmiqp_algorithm, solve_mpmiqp\n",
    "from ppopt.plot import parametric_plot"
   ],
   "outputs": [],
   "execution_count": 45
  },
  {
   "metadata": {
    "ExecuteTime": {
     "end_time": "2025-05-22T18:46:46.195993Z",
     "start_time": "2025-05-22T18:46:46.181418Z"
    }
   },
   "cell_type": "code",
   "source": [
    "m = MPModeler()\n",
    "\n",
    "u = m.add_var(name='u')\n",
    "x = m.add_var(name='x')\n",
    "z = m.add_var(name='z')\n",
    "t1 = m.add_var(name='t1')\n",
    "t2 = m.add_var(name='t2')\n",
    "mu = m.add_var(name='mu')\n",
    "s1 = m.add_var(name='s1')\n",
    "s2 = m.add_var(name='s2')\n",
    "s3 = m.add_var(name='s3')\n",
    "l1 = m.add_var(name='l1')\n",
    "l2 = m.add_var(name='l2')\n",
    "l3 = m.add_var(name='l3')\n",
    "p1 = m.add_var(name='p1', vtype=VariableType.binary)\n",
    "p2 = m.add_var(name='p2', vtype=VariableType.binary)\n",
    "p3 = m.add_var(name='p3', vtype=VariableType.binary)\n",
    "\n",
    "d1 = m.add_param(name='d1')\n",
    "d2 = m.add_param(name='d2')"
   ],
   "id": "3d44e2a069e2bd97",
   "outputs": [],
   "execution_count": 46
  },
  {
   "metadata": {
    "ExecuteTime": {
     "end_time": "2025-05-22T18:46:46.211693Z",
     "start_time": "2025-05-22T18:46:46.197034Z"
    }
   },
   "cell_type": "code",
   "source": [
    "m.add_constr(-2*x + 3*z -t1 == 50 -d2)\n",
    "m.add_constr(-s1 -x +z/2 +t1/2 -t2/2 + u == 25 +d1 -7*d2/2)\n",
    "m.add_constr(-s2 +2*x -2*z +4*t1/3 +t2 +u == 151/3 +2*d2)\n",
    "m.add_constr(s3 -x + 5*z/2 +t1/2 -t2 -u == 26 +d1 -d2/2)\n",
    "m.add_constr(l1 + l2 + l3 == 1)\n",
    "m.add_constr(2*mu + l1 - 2*l2 - l3 == 100)\n",
    "m.add_constr(3*mu + l1/2 - 2*l2 - 5*l3/2 == 150)\n",
    "m.add_constr(l1 - p1 <= 0)\n",
    "m.add_constr(l2 - p2 <= 0)\n",
    "m.add_constr(l3 - p3 <= 0)\n",
    "m.add_constr(s1 + 1000*p1 <= 1000)\n",
    "m.add_constr(s2 + 1000*p2 <= 1000)\n",
    "m.add_constr(s3 + 1000*p3 <= 1000)\n",
    "m.add_constr(p1 + p2 + p3 <= 2)\n",
    "m.add_constr(0 <= t1)\n",
    "m.add_constr(t1 <= 4)\n",
    "m.add_constr(0 <= t2)\n",
    "m.add_constr(t2 <= 4)\n",
    "m.add_constr(0 <= d1)\n",
    "m.add_constr(d1 <= 5)\n",
    "m.add_constr(0 <= d2)\n",
    "m.add_constr(d2 <= 5)\n",
    "m.add_constr(0 <= x)\n",
    "m.add_constr(0 <= z)\n",
    "m.add_constr(0 <= u)\n",
    "m.add_constr(0 <= mu)\n",
    "m.add_constr(0 <= l1)\n",
    "m.add_constr(0 <= l2)\n",
    "m.add_constr(0 <= l3)\n",
    "m.add_constr(0 <= s1)\n",
    "m.add_constr(0 <= s2)\n",
    "m.add_constr(0 <= s3)"
   ],
   "id": "b87f94b704a49ac9",
   "outputs": [],
   "execution_count": 47
  },
  {
   "metadata": {
    "ExecuteTime": {
     "end_time": "2025-05-22T18:46:46.227382Z",
     "start_time": "2025-05-22T18:46:46.212768Z"
    }
   },
   "cell_type": "code",
   "source": [
    "m.set_objective(-u + 50)"
   ],
   "id": "614066c2f6b04ae1",
   "outputs": [],
   "execution_count": 48
  },
  {
   "metadata": {
    "ExecuteTime": {
     "end_time": "2025-05-22T18:46:46.290384Z",
     "start_time": "2025-05-22T18:46:46.229453Z"
    }
   },
   "cell_type": "code",
   "source": [
    "prob = m.formulate_problem()\n",
    "prob.process_constraints()"
   ],
   "id": "774cb85ac1a085d0",
   "outputs": [],
   "execution_count": 49
  },
  {
   "metadata": {
    "ExecuteTime": {
     "end_time": "2025-05-22T18:46:47.569116Z",
     "start_time": "2025-05-22T18:46:46.291483Z"
    }
   },
   "cell_type": "code",
   "source": [
    "solution_milp = solve_mpmiqp(prob, mpmiqp_algorithm.enumerate)"
   ],
   "id": "e6ac35badef79926",
   "outputs": [],
   "execution_count": 50
  },
  {
   "metadata": {
    "ExecuteTime": {
     "end_time": "2025-05-22T18:46:47.585159Z",
     "start_time": "2025-05-22T18:46:47.571162Z"
    }
   },
   "cell_type": "code",
   "source": [
    "regions_list = solution_milp.critical_regions"
   ],
   "id": "8e0abdc4e9fb571e",
   "outputs": [],
   "execution_count": 51
  },
  {
   "metadata": {
    "ExecuteTime": {
     "end_time": "2025-05-22T18:46:47.601159Z",
     "start_time": "2025-05-22T18:46:47.586163Z"
    }
   },
   "cell_type": "code",
   "source": [
    "len(regions_list)"
   ],
   "id": "26f4535f85d2a7b5",
   "outputs": [
    {
     "data": {
      "text/plain": "10"
     },
     "execution_count": 52,
     "metadata": {},
     "output_type": "execute_result"
    }
   ],
   "execution_count": 52
  },
  {
   "metadata": {
    "ExecuteTime": {
     "end_time": "2025-05-22T18:46:47.709315Z",
     "start_time": "2025-05-22T18:46:47.602161Z"
    }
   },
   "cell_type": "code",
   "source": [
    "parametric_plot(solution_milp)"
   ],
   "id": "7f37ae047129120b",
   "outputs": [
    {
     "data": {
      "text/plain": "<Figure size 640x480 with 1 Axes>",
      "image/png": "[encoded data removed]"
     },
     "metadata": {},
     "output_type": "display_data"
    }
   ],
   "execution_count": 53
  },
  {
   "cell_type": "code",
   "outputs": [
    {
     "data": {
      "text/plain": "[Critical region with active set [0, 1, 2, 3, 4, 5, 6, 7, 8, 9, 11, 12]\n The Omega Constraint indices are [0, 1, 2, 3]\n The Lagrange multipliers Constraint indices are []\n The Regular Constraint indices are [[2], [14]]\n   x(θ) = Aθ + b \n  λ(θ) = Cθ + d \n   Eθ <= f\n  A = [[-5.00000000e-01  5.00000000e-01]\n  [ 7.50000000e-01  1.25000000e+00]\n  [ 5.00000000e-01  5.00000000e-01]\n  [-1.21902590e-16  1.22582783e-16]\n  [-3.50742928e-16  3.74668703e-16]\n  [-1.74454782e-16 -1.30247754e-16]\n  [-2.00000000e+00  3.00000000e+00]\n  [ 7.34653046e-17 -3.66747160e-16]\n  [-2.39741232e-16  2.18479189e-16]\n  [-4.97347624e-19 -5.03364366e-18]\n  [-2.55494427e-16  7.06023897e-17]\n  [-2.42473920e-17  8.67179982e-17]] \n  b = [[5.51000000e+02]\n  [7.95000000e+02]\n  [5.48000000e+02]\n  [4.00000000e+00]\n  [4.11483970e-14]\n  [5.07500000e+01]\n  [7.00000000e+00]\n  [1.00000000e+03]\n  [5.72974421e-14]\n  [4.02533943e-14]\n  [5.00000000e-01]\n  [5.00000000e-01]] \n  C = [[0. 0.]\n  [0. 0.]\n  [0. 0.]\n  [0. 0.]\n  [0. 0.]\n  [0. 0.]\n  [0. 0.]\n  [0. 0.]\n  [0. 0.]\n  [0. 0.]\n  [0. 0.]\n  [0. 0.]] \n  d = [[ 2.90473751e+00]\n  [ 2.30778151e-16]\n  [ 2.04803429e+00]\n  [-1.71391365e+00]\n  [ 2.44000130e-16]\n  [ 3.29070448e-16]\n  [-2.44850195e-17]\n  [-1.66010641e-16]\n  [ 5.00000000e-01]\n  [ 5.00000000e-01]\n  [ 3.33333333e-01]\n  [ 1.00000000e+00]] \n  E = [[ 0.5547002  -0.83205029]\n  [-1.          0.        ]\n  [ 1.          0.        ]\n  [ 0.         -1.        ]\n  [ 0.          1.        ]] \n  f = [[ 1.94145069]\n  [-0.        ]\n  [ 5.        ]\n  [-0.        ]\n  [ 5.        ]],\n Critical region with active set [0, 1, 2, 3, 4, 5, 6, 7, 8, 9, 11, 12]\n The Omega Constraint indices are [0, 1, 2, 3]\n The Lagrange multipliers Constraint indices are []\n The Regular Constraint indices are [[2], [14]]\n   x(θ) = Aθ + b \n  λ(θ) = Cθ + d \n   Eθ <= f\n  A = [[-5.00000000e-01  5.00000000e-01]\n  [ 7.50000000e-01  1.25000000e+00]\n  [ 5.00000000e-01  5.00000000e-01]\n  [-2.19326364e-17 -1.03433214e-16]\n  [ 6.36552871e-16 -9.15707197e-16]\n  [ 1.22271813e-16 -2.78744243e-16]\n  [-2.00000000e+00  3.00000000e+00]\n  [-4.20970607e-16  4.95775549e-16]\n  [ 4.54432329e-17 -2.42196009e-16]\n  [-1.91283525e-18 -1.82642952e-18]\n  [-3.08910068e-16 -1.23457688e-16]\n  [ 3.24427581e-16  1.31970114e-16]] \n  b = [[ 5.10000000e+01]\n  [ 4.50000000e+01]\n  [ 4.80000000e+01]\n  [ 4.00000000e+00]\n  [-1.55471668e-14]\n  [ 5.07500000e+01]\n  [ 7.00000000e+00]\n  [-1.01647329e-15]\n  [ 7.83840854e-15]\n  [-9.26007134e-16]\n  [ 5.00000000e-01]\n  [ 5.00000000e-01]] \n  C = [[0. 0.]\n  [0. 0.]\n  [0. 0.]\n  [0. 0.]\n  [0. 0.]\n  [0. 0.]\n  [0. 0.]\n  [0. 0.]\n  [0. 0.]\n  [0. 0.]\n  [0. 0.]\n  [0. 0.]] \n  d = [[ 2.90473751e+00]\n  [ 7.44393681e-16]\n  [ 2.04803429e+00]\n  [-1.71391365e+00]\n  [ 2.68583488e-16]\n  [-4.68048404e-17]\n  [ 9.46413827e-17]\n  [-2.16044621e-16]\n  [ 5.00000000e-01]\n  [ 5.00000000e-01]\n  [ 3.33333333e-01]\n  [ 1.00000000e+00]] \n  E = [[ 0.5547002  -0.83205029]\n  [-1.          0.        ]\n  [ 1.          0.        ]\n  [ 0.         -1.        ]\n  [ 0.          1.        ]] \n  f = [[ 1.94145069]\n  [-0.        ]\n  [ 5.        ]\n  [-0.        ]\n  [ 5.        ]],\n Critical region with active set [0, 1, 2, 3, 4, 5, 6, 7, 8, 9, 10, 12]\n The Omega Constraint indices are [0, 1, 2]\n The Lagrange multipliers Constraint indices are []\n The Regular Constraint indices are [[3], [15]]\n   x(θ) = Aθ + b \n  λ(θ) = Cθ + d \n   Eθ <= f\n  A = [[ 5.00000000e-01 -1.00000000e+00]\n  [-7.50000000e-01  3.50000000e+00]\n  [-5.00000000e-01  2.00000000e+00]\n  [ 5.73485806e-16 -1.34818912e-15]\n  [-5.30220869e-17 -2.54141526e-16]\n  [ 3.35006579e-16 -6.61525926e-16]\n  [-6.25379391e-16  8.81523193e-16]\n  [-1.06796764e-16  1.84264142e-16]\n  [ 2.00000000e+00 -3.00000000e+00]\n  [ 1.33191431e-16 -3.48994326e-16]\n  [ 3.08544747e-17  4.57733473e-17]\n  [ 1.34026429e-18  1.83824357e-17]] \n  b = [[ 5.50166667e+02]\n  [ 8.00250000e+02]\n  [ 5.50166667e+02]\n  [-1.52880428e-13]\n  [-2.43093589e-14]\n  [ 5.02500000e+01]\n  [-6.60944593e-14]\n  [ 1.00000000e+03]\n  [ 1.00000000e+00]\n  [ 5.00000000e-01]\n  [ 5.00000000e-01]\n  [ 1.14488194e-13]] \n  C = [[0. 0.]\n  [0. 0.]\n  [0. 0.]\n  [0. 0.]\n  [0. 0.]\n  [0. 0.]\n  [0. 0.]\n  [0. 0.]\n  [0. 0.]\n  [0. 0.]\n  [0. 0.]\n  [0. 0.]] \n  d = [[ 9.68245837e-01]\n  [ 2.06155281e+00]\n  [ 2.04803429e+00]\n  [ 5.15931473e-16]\n  [-2.33348218e-17]\n  [ 5.75622276e-17]\n  [-1.04489871e-16]\n  [-1.71749693e-17]\n  [ 5.00000000e-01]\n  [ 5.00000000e-01]\n  [ 6.66666667e-01]\n  [ 2.50000000e-01]] \n  E = [[-0.5547002   0.83205029]\n  [-1.          0.        ]\n  [ 1.          0.        ]\n  [ 0.         -1.        ]] \n  f = [[ 0.2773501]\n  [-0.       ]\n  [ 5.       ]\n  [-0.       ]],\n Critical region with active set [0, 1, 2, 3, 4, 5, 6, 7, 8, 9, 10, 15]\n The Omega Constraint indices are [0, 1, 3]\n The Lagrange multipliers Constraint indices are []\n The Regular Constraint indices are [[1, 2], [12, 13]]\n   x(θ) = Aθ + b \n  λ(θ) = Cθ + d \n   Eθ <= f\n  A = [[ 8.33333333e-01 -1.50000000e+00]\n  [ 7.50000000e-01  1.25000000e+00]\n  [ 5.00000000e-01  5.00000000e-01]\n  [ 1.77679956e-16 -2.14718140e-17]\n  [-1.33333333e+00  2.00000000e+00]\n  [-8.21011688e-17  6.90220680e-16]\n  [ 1.07421099e-16 -1.33620932e-16]\n  [-1.25647975e-16  1.97215106e-16]\n  [-5.12249125e-17  5.56180338e-16]\n  [ 1.93594057e-17  1.29196224e-17]\n  [ 3.30972917e-18 -1.13371876e-16]\n  [ 1.93560744e-17 -4.42745279e-16]] \n  b = [[ 5.50333333e+02]\n  [ 8.01000000e+02]\n  [ 5.50666667e+02]\n  [ 1.73820486e-13]\n  [-6.66666667e-01]\n  [ 5.02500000e+01]\n  [ 1.15403020e-13]\n  [ 1.00000000e+03]\n  [-1.21808200e-14]\n  [ 5.00000000e-01]\n  [ 5.00000000e-01]\n  [ 4.39727520e-13]] \n  C = [[0. 0.]\n  [0. 0.]\n  [0. 0.]\n  [0. 0.]\n  [0. 0.]\n  [0. 0.]\n  [0. 0.]\n  [0. 0.]\n  [0. 0.]\n  [0. 0.]\n  [0. 0.]\n  [0. 0.]] \n  d = [[ 3.22748612e-01]\n  [ 2.74873708e+00]\n  [ 2.04803429e+00]\n  [ 5.71304550e-01]\n  [ 3.77764485e-17]\n  [ 6.62677266e-17]\n  [ 6.02762794e-17]\n  [-4.02427767e-17]\n  [ 6.66666667e-01]\n  [ 5.00000000e-01]\n  [ 1.00000000e+00]\n  [ 1.66666667e-01]] \n  E = [[ 0.5547002  -0.83205029]\n  [-0.5547002   0.83205029]\n  [-1.          0.        ]\n  [ 1.          0.        ]\n  [ 0.          1.        ]] \n  f = [[-0.2773501 ]\n  [ 1.94145069]\n  [-0.        ]\n  [ 5.        ]\n  [ 5.        ]],\n Critical region with active set [0, 1, 2, 3, 4, 5, 6, 7, 8, 9, 10, 14]\n The Omega Constraint indices are [0, 1, 3]\n The Lagrange multipliers Constraint indices are []\n The Regular Constraint indices are [[1, 2], [12, 13]]\n   x(θ) = Aθ + b \n  λ(θ) = Cθ + d \n   Eθ <= f\n  A = [[ 8.33333333e-01 -1.50000000e+00]\n  [ 7.50000000e-01  1.25000000e+00]\n  [ 5.00000000e-01  5.00000000e-01]\n  [ 5.65462354e-17 -9.13531876e-17]\n  [-1.33333333e+00  2.00000000e+00]\n  [ 6.59913805e-18  1.49430356e-16]\n  [-1.42774410e-16  2.16821875e-16]\n  [ 3.11626450e-16 -1.76831293e-16]\n  [ 5.92906908e-17 -8.00682728e-18]\n  [-1.14891165e-17 -1.86213183e-17]\n  [ 4.36232450e-17 -2.95978453e-16]\n  [-3.80681145e-17  2.44459248e-16]] \n  b = [[ 5.50333333e+02]\n  [ 8.01000000e+02]\n  [ 5.50666667e+02]\n  [ 4.39483475e-13]\n  [-6.66666667e-01]\n  [ 5.07500000e+01]\n  [-2.75299685e-13]\n  [ 1.00000000e+03]\n  [ 6.53073584e-14]\n  [ 2.01970777e-14]\n  [ 5.00000000e-01]\n  [ 5.00000000e-01]] \n  C = [[0. 0.]\n  [0. 0.]\n  [0. 0.]\n  [0. 0.]\n  [0. 0.]\n  [0. 0.]\n  [0. 0.]\n  [0. 0.]\n  [0. 0.]\n  [0. 0.]\n  [0. 0.]\n  [0. 0.]] \n  d = [[ 3.22748612e-01]\n  [ 2.74873708e+00]\n  [ 2.04803429e+00]\n  [ 5.71304550e-01]\n  [-1.76826991e-17]\n  [ 8.51416818e-17]\n  [ 1.80652693e-16]\n  [ 6.66666667e-01]\n  [-1.66666667e-01]\n  [ 5.00000000e-01]\n  [ 1.00000000e+00]\n  [-1.40695337e-17]] \n  E = [[ 0.5547002  -0.83205029]\n  [-0.5547002   0.83205029]\n  [-1.          0.        ]\n  [ 1.          0.        ]\n  [ 0.          1.        ]] \n  f = [[-0.2773501 ]\n  [ 1.94145069]\n  [-0.        ]\n  [ 5.        ]\n  [ 5.        ]],\n Critical region with active set [0, 1, 2, 3, 4, 5, 6, 7, 8, 9, 10, 15]\n The Omega Constraint indices are [0, 1, 3]\n The Lagrange multipliers Constraint indices are []\n The Regular Constraint indices are [[1, 2], [12, 13]]\n   x(θ) = Aθ + b \n  λ(θ) = Cθ + d \n   Eθ <= f\n  A = [[ 8.33333333e-01 -1.50000000e+00]\n  [ 7.50000000e-01  1.25000000e+00]\n  [ 5.00000000e-01  5.00000000e-01]\n  [-8.51527149e-17  3.76126459e-16]\n  [-1.33333333e+00  2.00000000e+00]\n  [ 1.89505006e-16 -3.53679197e-15]\n  [ 3.91324045e-17  2.48258389e-16]\n  [-4.96100926e-17  1.82371662e-16]\n  [-2.16222413e-16 -2.55798830e-16]\n  [-9.85084509e-17  7.12552676e-16]\n  [ 5.62427017e-17  2.83101427e-15]\n  [-1.12391596e-16  4.93460011e-15]] \n  b = [[ 5.50333333e+02]\n  [ 8.01000000e+02]\n  [ 5.50666667e+02]\n  [-4.14658711e-13]\n  [-6.66666667e-01]\n  [ 5.02500000e+01]\n  [-2.23991522e-13]\n  [ 1.00000000e+03]\n  [-3.62921960e-13]\n  [ 5.00000000e-01]\n  [ 5.00000000e-01]\n  [-1.09735492e-12]] \n  C = [[0. 0.]\n  [0. 0.]\n  [0. 0.]\n  [0. 0.]\n  [0. 0.]\n  [0. 0.]\n  [0. 0.]\n  [0. 0.]\n  [0. 0.]\n  [0. 0.]\n  [0. 0.]\n  [0. 0.]] \n  d = [[ 3.22748612e-01]\n  [ 2.74873708e+00]\n  [ 2.04803429e+00]\n  [ 5.71304550e-01]\n  [-8.37597378e-17]\n  [-1.56711623e-17]\n  [ 1.45065796e-16]\n  [ 6.66666667e-01]\n  [-1.66666667e-01]\n  [ 5.00000000e-01]\n  [ 1.00000000e+00]\n  [ 6.55923470e-18]] \n  E = [[ 0.5547002  -0.83205029]\n  [-0.5547002   0.83205029]\n  [-1.          0.        ]\n  [ 1.          0.        ]\n  [ 0.          1.        ]] \n  f = [[-0.2773501 ]\n  [ 1.94145069]\n  [-0.        ]\n  [ 5.        ]\n  [ 5.        ]],\n Critical region with active set [0, 1, 2, 3, 4, 5, 6, 7, 8, 9, 12, 14]\n The Omega Constraint indices are [0, 1, 2]\n The Lagrange multipliers Constraint indices are []\n The Regular Constraint indices are [[0, 1], [10, 11]]\n   x(θ) = Aθ + b \n  λ(θ) = Cθ + d \n   Eθ <= f\n  A = [[-1.66666667e-01 -5.55111512e-16]\n  [-7.50000000e-01  3.50000000e+00]\n  [-1.66666667e-01  1.50000000e+00]\n  [ 1.00000000e+00 -1.50000000e+00]\n  [ 5.16229108e-17 -1.29846805e-16]\n  [-1.72148727e-17  8.82541436e-17]\n  [-1.70662457e-16  5.43671355e-16]\n  [ 7.61322827e-17 -4.41187402e-17]\n  [ 1.70167015e-17 -2.08822842e-16]\n  [-1.55567337e-17  3.55510567e-18]\n  [-9.39126656e-17  8.27282256e-17]\n  [ 3.42085757e-17 -1.82416662e-17]] \n  b = [[ 5.49833333e+02]\n  [ 8.00250000e+02]\n  [ 5.50333333e+02]\n  [ 5.00000000e-01]\n  [ 3.06206112e-13]\n  [ 5.07500000e+01]\n  [-1.82923987e-14]\n  [ 1.00000000e+03]\n  [-4.04895921e-13]\n  [ 3.67422630e-14]\n  [ 5.00000000e-01]\n  [ 5.00000000e-01]] \n  C = [[0. 0.]\n  [0. 0.]\n  [0. 0.]\n  [0. 0.]\n  [0. 0.]\n  [0. 0.]\n  [0. 0.]\n  [0. 0.]\n  [0. 0.]\n  [0. 0.]\n  [0. 0.]\n  [0. 0.]] \n  d = [[ 2.25924029e+00]\n  [ 6.87184271e-01]\n  [ 2.04803429e+00]\n  [-1.14260910e+00]\n  [-5.49200851e-17]\n  [-1.32487678e-16]\n  [ 6.00258886e-17]\n  [ 1.66666667e-01]\n  [ 3.33333333e-01]\n  [ 5.00000000e-01]\n  [ 7.50000000e-01]\n  [ 1.05404447e-16]] \n  E = [[-0.5547002   0.83205029]\n  [ 0.5547002  -0.83205029]\n  [-1.          0.        ]\n  [ 1.          0.        ]\n  [ 0.         -1.        ]] \n  f = [[ 0.2773501 ]\n  [ 1.94145069]\n  [-0.        ]\n  [ 5.        ]\n  [-0.        ]],\n Critical region with active set [0, 1, 2, 3, 4, 5, 6, 7, 8, 9, 12, 15]\n The Omega Constraint indices are [0, 1, 2]\n The Lagrange multipliers Constraint indices are []\n The Regular Constraint indices are [[0, 1], [10, 11]]\n   x(θ) = Aθ + b \n  λ(θ) = Cθ + d \n   Eθ <= f\n  A = [[-1.66666667e-01  7.21644966e-16]\n  [-7.50000000e-01  3.50000000e+00]\n  [-1.66666667e-01  1.50000000e+00]\n  [ 1.00000000e+00 -1.50000000e+00]\n  [-8.16083942e-17  2.25556723e-16]\n  [-8.31850088e-17  6.31551815e-17]\n  [-7.12236081e-17  5.12571402e-16]\n  [ 9.14225136e-17 -2.35917964e-16]\n  [ 1.96713050e-16 -1.77500848e-16]\n  [ 6.66258120e-17 -1.61648095e-17]\n  [-1.03414152e-16  4.56491013e-17]\n  [-2.21065041e-17  1.78636715e-17]] \n  b = [[ 5.49833333e+02]\n  [ 8.00250000e+02]\n  [ 5.50333333e+02]\n  [ 5.00000000e-01]\n  [ 1.71205640e-13]\n  [ 5.02500000e+01]\n  [ 1.17575227e-13]\n  [ 1.00000000e+03]\n  [-1.84078908e-13]\n  [ 5.00000000e-01]\n  [ 5.00000000e-01]\n  [ 7.82690162e-14]] \n  C = [[0. 0.]\n  [0. 0.]\n  [0. 0.]\n  [0. 0.]\n  [0. 0.]\n  [0. 0.]\n  [0. 0.]\n  [0. 0.]\n  [0. 0.]\n  [0. 0.]\n  [0. 0.]\n  [0. 0.]] \n  d = [[ 2.25924029e+00]\n  [ 6.87184271e-01]\n  [ 2.04803429e+00]\n  [-1.14260910e+00]\n  [-3.72516669e-17]\n  [-1.90446647e-16]\n  [ 1.63496636e-16]\n  [ 1.66666667e-01]\n  [ 3.33333333e-01]\n  [ 5.00000000e-01]\n  [ 7.50000000e-01]\n  [-3.38270135e-17]] \n  E = [[-0.5547002   0.83205029]\n  [ 0.5547002  -0.83205029]\n  [-1.          0.        ]\n  [ 1.          0.        ]\n  [ 0.         -1.        ]] \n  f = [[ 0.2773501 ]\n  [ 1.94145069]\n  [-0.        ]\n  [ 5.        ]\n  [-0.        ]],\n Critical region with active set [0, 1, 2, 3, 4, 5, 6, 7, 8, 9, 10, 12]\n The Omega Constraint indices are [0, 1, 2]\n The Lagrange multipliers Constraint indices are []\n The Regular Constraint indices are [[2], [14]]\n   x(θ) = Aθ + b \n  λ(θ) = Cθ + d \n   Eθ <= f\n  A = [[ 5.00000000e-01 -1.00000000e+00]\n  [-7.50000000e-01  3.50000000e+00]\n  [-5.00000000e-01  2.00000000e+00]\n  [ 5.73485806e-16 -1.34818912e-15]\n  [-5.30220869e-17 -2.54141526e-16]\n  [ 3.35006579e-16 -6.61525926e-16]\n  [-6.25379391e-16  8.81523193e-16]\n  [-1.06796764e-16  1.84264142e-16]\n  [ 2.00000000e+00 -3.00000000e+00]\n  [ 1.33191431e-16 -3.48994326e-16]\n  [ 3.08544747e-17  4.57733473e-17]\n  [ 1.34026429e-18  1.83824357e-17]] \n  b = [[ 5.01666667e+01]\n  [ 5.02500000e+01]\n  [ 5.01666667e+01]\n  [-2.24762547e-16]\n  [ 3.44621675e-15]\n  [ 5.02500000e+01]\n  [-1.40527550e-14]\n  [-4.80019874e-15]\n  [ 1.00000000e+00]\n  [ 5.00000000e-01]\n  [ 5.00000000e-01]\n  [ 2.32922266e-14]] \n  C = [[0. 0.]\n  [0. 0.]\n  [0. 0.]\n  [0. 0.]\n  [0. 0.]\n  [0. 0.]\n  [0. 0.]\n  [0. 0.]\n  [0. 0.]\n  [0. 0.]\n  [0. 0.]\n  [0. 0.]] \n  d = [[ 9.68245837e-01]\n  [ 2.06155281e+00]\n  [ 2.04803429e+00]\n  [ 5.15931473e-16]\n  [-2.33348218e-17]\n  [ 5.75622276e-17]\n  [-1.04489871e-16]\n  [-1.71749693e-17]\n  [ 5.00000000e-01]\n  [ 5.00000000e-01]\n  [ 6.66666667e-01]\n  [ 2.50000000e-01]] \n  E = [[-0.5547002   0.83205029]\n  [-1.          0.        ]\n  [ 1.          0.        ]\n  [ 0.         -1.        ]] \n  f = [[ 0.2773501]\n  [-0.       ]\n  [ 5.       ]\n  [-0.       ]],\n Critical region with active set [0, 1, 2, 3, 4, 5, 6, 7, 8, 9, 10, 14]\n The Omega Constraint indices are [0, 1, 3]\n The Lagrange multipliers Constraint indices are []\n The Regular Constraint indices are [[1, 2], [12, 13]]\n   x(θ) = Aθ + b \n  λ(θ) = Cθ + d \n   Eθ <= f\n  A = [[ 8.33333333e-01 -1.50000000e+00]\n  [ 7.50000000e-01  1.25000000e+00]\n  [ 5.00000000e-01  5.00000000e-01]\n  [ 1.77679956e-16 -2.14718140e-17]\n  [-1.33333333e+00  2.00000000e+00]\n  [-8.21011688e-17  6.90220680e-16]\n  [ 1.07421099e-16 -1.33620932e-16]\n  [-1.25647975e-16  1.97215106e-16]\n  [-5.12249125e-17  5.56180338e-16]\n  [ 1.93594057e-17  1.29196224e-17]\n  [ 3.30972917e-18 -1.13371876e-16]\n  [ 1.93560744e-17 -4.42745279e-16]] \n  b = [[ 5.03333333e+01]\n  [ 5.10000000e+01]\n  [ 5.06666667e+01]\n  [ 7.28703210e-15]\n  [-6.66666667e-01]\n  [ 5.02500000e+01]\n  [ 4.38071763e-15]\n  [ 7.53837758e-15]\n  [ 1.69696782e-15]\n  [ 5.00000000e-01]\n  [ 5.00000000e-01]\n  [ 3.66453750e-14]] \n  C = [[0. 0.]\n  [0. 0.]\n  [0. 0.]\n  [0. 0.]\n  [0. 0.]\n  [0. 0.]\n  [0. 0.]\n  [0. 0.]\n  [0. 0.]\n  [0. 0.]\n  [0. 0.]\n  [0. 0.]] \n  d = [[ 3.22748612e-01]\n  [ 2.74873708e+00]\n  [ 2.04803429e+00]\n  [ 5.71304550e-01]\n  [ 3.77764485e-17]\n  [ 6.62677266e-17]\n  [ 6.02762794e-17]\n  [-4.02427767e-17]\n  [ 6.66666667e-01]\n  [ 5.00000000e-01]\n  [ 1.00000000e+00]\n  [ 1.66666667e-01]] \n  E = [[ 0.5547002  -0.83205029]\n  [-0.5547002   0.83205029]\n  [-1.          0.        ]\n  [ 1.          0.        ]\n  [ 0.          1.        ]] \n  f = [[-0.2773501 ]\n  [ 1.94145069]\n  [-0.        ]\n  [ 5.        ]\n  [ 5.        ]]]"
     },
     "execution_count": 54,
     "metadata": {},
     "output_type": "execute_result"
    }
   ],
   "source": [
    "regions_list"
   ],
   "metadata": {
    "collapsed": false,
    "ExecuteTime": {
     "end_time": "2025-05-22T18:46:47.725148Z",
     "start_time": "2025-05-22T18:46:47.710366Z"
    }
   },
   "id": "10036aa715c8efd8",
   "execution_count": 54
  },
  {
   "cell_type": "code",
   "outputs": [
    {
     "data": {
      "text/plain": "array([-0.5,  0.5])"
     },
     "execution_count": 55,
     "metadata": {},
     "output_type": "execute_result"
    }
   ],
   "source": [
    "regions_list[0].A[0,:]"
   ],
   "metadata": {
    "collapsed": false,
    "ExecuteTime": {
     "end_time": "2025-05-22T18:46:47.740790Z",
     "start_time": "2025-05-22T18:46:47.726183Z"
    }
   },
   "id": "c87e4ae2dc8fedc6",
   "execution_count": 55
  },
  {
   "cell_type": "code",
   "outputs": [],
   "source": [
    "A_plot = np.hstack([regions_list[0].A[0,:].T, regions_list[0].b[0]])"
   ],
   "metadata": {
    "collapsed": false,
    "ExecuteTime": {
     "end_time": "2025-05-22T18:46:52.112973Z",
     "start_time": "2025-05-22T18:46:52.104497Z"
    }
   },
   "id": "e554147939d5f85d",
   "execution_count": 57
  },
  {
   "cell_type": "code",
   "outputs": [
    {
     "data": {
      "text/plain": "array([-5.00e-01,  5.00e-01,  5.51e+02])"
     },
     "execution_count": 58,
     "metadata": {},
     "output_type": "execute_result"
    }
   ],
   "source": [
    "A_plot"
   ],
   "metadata": {
    "collapsed": false,
    "ExecuteTime": {
     "end_time": "2025-05-22T18:46:54.532984Z",
     "start_time": "2025-05-22T18:46:54.522469Z"
    }
   },
   "id": "2fb6726c488097f4",
   "execution_count": 58
  },
  {
   "cell_type": "code",
   "outputs": [],
   "source": [],
   "metadata": {
    "collapsed": false
   },
   "id": "f44a9e046a212d3d"
  }
 ],
 "metadata": {
  "kernelspec": {
   "display_name": "Python 3",
   "language": "python",
   "name": "python3"
  },
  "language_info": {
   "codemirror_mode": {
    "name": "ipython",
    "version": 2
   },
   "file_extension": ".py",
   "mimetype": "text/x-python",
   "name": "python",
   "nbconvert_exporter": "python",
   "pygments_lexer": "ipython2",
   "version": "2.7.6"
  }
 },
 "nbformat": 4,
 "nbformat_minor": 5
}
