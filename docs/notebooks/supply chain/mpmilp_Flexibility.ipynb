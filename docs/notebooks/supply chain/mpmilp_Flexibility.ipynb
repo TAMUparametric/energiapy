{
 "cells": [
  {
   "cell_type": "code",
   "id": "initial_id",
   "metadata": {
    "collapsed": true,
    "ExecuteTime": {
     "end_time": "2025-05-22T02:52:53.057579Z",
     "start_time": "2025-05-22T02:52:53.054398Z"
    }
   },
   "source": [
    "from ppopt.mpmodel import MPModeler, VariableType\n",
    "from ppopt.mp_solvers.solve_mpmiqp import solve_mpmiqp_enumeration, mpmiqp_algorithm, solve_mpmiqp\n",
    "from ppopt.plot import parametric_plot"
   ],
   "outputs": [],
   "execution_count": 10
  },
  {
   "metadata": {
    "ExecuteTime": {
     "end_time": "2025-05-22T02:52:53.063554Z",
     "start_time": "2025-05-22T02:52:53.059865Z"
    }
   },
   "cell_type": "code",
   "source": [
    "m = MPModeler()\n",
    "\n",
    "u = m.add_var(name='u')\n",
    "x = m.add_var(name='x')\n",
    "z = m.add_var(name='z')\n",
    "t1 = m.add_var(name='t1')\n",
    "t2 = m.add_var(name='t2')\n",
    "mu = m.add_var(name='mu')\n",
    "s1 = m.add_var(name='s1')\n",
    "s2 = m.add_var(name='s2')\n",
    "s3 = m.add_var(name='s3')\n",
    "l1 = m.add_var(name='l1')\n",
    "l2 = m.add_var(name='l2')\n",
    "l3 = m.add_var(name='l3')\n",
    "p1 = m.add_var(name='p1', vtype=VariableType.binary)\n",
    "p2 = m.add_var(name='p2', vtype=VariableType.binary)\n",
    "p3 = m.add_var(name='p3', vtype=VariableType.binary)\n",
    "\n",
    "d1 = m.add_param(name='d1')\n",
    "d2 = m.add_param(name='d2')"
   ],
   "id": "3d44e2a069e2bd97",
   "outputs": [],
   "execution_count": 11
  },
  {
   "metadata": {
    "ExecuteTime": {
     "end_time": "2025-05-22T02:52:53.070380Z",
     "start_time": "2025-05-22T02:52:53.064732Z"
    }
   },
   "cell_type": "code",
   "source": [
    "m.add_constr(-2*x + 3*z -t1 == 50 -d2)\n",
    "m.add_constr(-s1 -x +z/2 +t1/2 -t2/2 + u == 25 +d1 -7*d2/2)\n",
    "m.add_constr(-s2 +2*x -2*z +4*t1/3 +t2 +u == 151/3 +2*d2)\n",
    "m.add_constr(s3 -x + 5*z/2 +t1/2 -t2 -u == 26 +d1 -d2/2)\n",
    "m.add_constr(l1 + l2 + l3 == 1)\n",
    "m.add_constr(2*mu + l1 - 2*l2 - l3 == 100)\n",
    "m.add_constr(3*mu + l1/2 - 2*l2 - 5*l3/2 == 150)\n",
    "m.add_constr(l1 - p1 <= 0)\n",
    "m.add_constr(l2 - p2 <= 0)\n",
    "m.add_constr(l3 - p3 <= 0)\n",
    "m.add_constr(s1 + 1000*p1 <= 1000)\n",
    "m.add_constr(s2 + 1000*p2 <= 1000)\n",
    "m.add_constr(s3 + 1000*p3 <= 1000)\n",
    "m.add_constr(p1 + p2 + p3 <= 2)\n",
    "m.add_constr(0 <= t1)\n",
    "m.add_constr(t1 <= 4)\n",
    "m.add_constr(0 <= t2)\n",
    "m.add_constr(t2 <= 4)\n",
    "m.add_constr(0 <= d1)\n",
    "m.add_constr(d1 <= 5)\n",
    "m.add_constr(0 <= d2)\n",
    "m.add_constr(d2 <= 5)\n",
    "m.add_constr(0 <= x)\n",
    "m.add_constr(0 <= z)\n",
    "m.add_constr(0 <= u)\n",
    "m.add_constr(0 <= mu)\n",
    "m.add_constr(0 <= l1)\n",
    "m.add_constr(0 <= l2)\n",
    "m.add_constr(0 <= l3)\n",
    "m.add_constr(0 <= s1)\n",
    "m.add_constr(0 <= s2)\n",
    "m.add_constr(0 <= s3)"
   ],
   "id": "b87f94b704a49ac9",
   "outputs": [],
   "execution_count": 12
  },
  {
   "metadata": {
    "ExecuteTime": {
     "end_time": "2025-05-22T02:52:53.073192Z",
     "start_time": "2025-05-22T02:52:53.071301Z"
    }
   },
   "cell_type": "code",
   "source": "m.set_objective(-u + 50)",
   "id": "614066c2f6b04ae1",
   "outputs": [],
   "execution_count": 13
  },
  {
   "metadata": {
    "ExecuteTime": {
     "end_time": "2025-05-22T02:52:53.110021Z",
     "start_time": "2025-05-22T02:52:53.074558Z"
    }
   },
   "cell_type": "code",
   "source": [
    "prob = m.formulate_problem()\n",
    "prob.process_constraints()"
   ],
   "id": "774cb85ac1a085d0",
   "outputs": [],
   "execution_count": 14
  },
  {
   "metadata": {
    "ExecuteTime": {
     "end_time": "2025-05-22T02:52:53.172536Z",
     "start_time": "2025-05-22T02:52:53.110673Z"
    }
   },
   "cell_type": "code",
   "source": [
    "# solution_milp = solve_mpmiqp_enumeration(prob)\n",
    "solution_milp = solve_mpmiqp(prob, mpmiqp_algorithm.enumerate)"
   ],
   "id": "e6ac35badef79926",
   "outputs": [],
   "execution_count": 15
  },
  {
   "metadata": {
    "ExecuteTime": {
     "end_time": "2025-05-22T02:52:53.175597Z",
     "start_time": "2025-05-22T02:52:53.173525Z"
    }
   },
   "cell_type": "code",
   "source": "regions_list = solution_milp.critical_regions",
   "id": "8e0abdc4e9fb571e",
   "outputs": [],
   "execution_count": 16
  },
  {
   "metadata": {
    "ExecuteTime": {
     "end_time": "2025-05-22T02:52:53.180132Z",
     "start_time": "2025-05-22T02:52:53.177551Z"
    }
   },
   "cell_type": "code",
   "source": "len(regions_list)",
   "id": "26f4535f85d2a7b5",
   "outputs": [
    {
     "data": {
      "text/plain": [
       "10"
      ]
     },
     "execution_count": 17,
     "metadata": {},
     "output_type": "execute_result"
    }
   ],
   "execution_count": 17
  },
  {
   "metadata": {
    "ExecuteTime": {
     "end_time": "2025-05-22T02:52:53.232182Z",
     "start_time": "2025-05-22T02:52:53.181016Z"
    }
   },
   "cell_type": "code",
   "source": "parametric_plot(solution_milp)",
   "id": "7f37ae047129120b",
   "outputs": [
    {
     "data": {
      "text/plain": [
       "<Figure size 640x480 with 1 Axes>"
      ],
      "image/png": "[encoded data removed]"
     },
     "metadata": {},
     "output_type": "display_data"
    }
   ],
   "execution_count": 18
  },
  {
   "metadata": {
    "ExecuteTime": {
     "end_time": "2025-05-22T02:52:53.234457Z",
     "start_time": "2025-05-22T02:52:53.233101Z"
    }
   },
   "cell_type": "code",
   "source": "",
   "id": "e40b290137b9747",
   "outputs": [],
   "execution_count": 18
  }
 ],
 "metadata": {
  "kernelspec": {
   "display_name": "Python 3",
   "language": "python",
   "name": "python3"
  },
  "language_info": {
   "codemirror_mode": {
    "name": "ipython",
    "version": 2
   },
   "file_extension": ".py",
   "mimetype": "text/x-python",
   "name": "python",
   "nbconvert_exporter": "python",
   "pygments_lexer": "ipython2",
   "version": "2.7.6"
  }
 },
 "nbformat": 4,
 "nbformat_minor": 5
}
