{
 "cells": [
  {
   "cell_type": "code",
   "outputs": [],
   "source": [
    "from pyomo.environ import *\n",
    "import mpisppy.utils.sputils as sputils\n",
    "import matplotlib.pyplot as plt\n",
    "from matplotlib import rc\n",
    "import sys\n",
    "sys.path.append('../../../../src')\n",
    "import pandas\n",
    "import random\n",
    "import math\n",
    "from energiapy.components.temporal_scale import TemporalScale\n",
    "from energiapy.components.resource import Resource, VaryingResource\n",
    "from energiapy.components.process import Process, ProcessMode, VaryingProcess\n",
    "from energiapy.components.location import Location\n",
    "from energiapy.components.transport import Transport\n",
    "from energiapy.components.network import Network\n",
    "from energiapy.components.scenario import Scenario\n",
    "# from energiapy.model.constraints.demand import constraint_demand2\n",
    "from energiapy.components.result import Result\n",
    "from energiapy.model.formulate import formulate, Constraints, Objective\n",
    "from energiapy.plot import plot_results, plot_scenario, plot_location\n",
    "from energiapy.model.solve import solve\n",
    "from pyomo.environ import Param\n",
    "from energiapy.utils.scale_utils import scale_pyomo_set\n",
    "from energiapy.utils.scale_utils import scale_list, scale_tuple"
   ],
   "metadata": {
    "collapsed": false,
    "is_executing": true
   },
   "id": "77cd58c13662186a",
   "execution_count": null
  },
  {
   "cell_type": "code",
   "outputs": [],
   "source": [
    "_time_intervals = 30  # Number of time intervals in a planning horizon    (L_chi)\n",
    "_coms = 1\n",
    "_exec_scenarios = 12  # Number of execution scenarios                     (chi)\n",
    "\n",
    "M = 1e3  # Big M "
   ],
   "metadata": {
    "collapsed": false,
    "is_executing": true
   },
   "id": "2face643bc99c79a",
   "execution_count": null
  },
  {
   "cell_type": "code",
   "outputs": [],
   "source": [
    "def build_model(cap_factor):\n",
    "    \n",
    "    # Define temporal scales\n",
    "    scales = TemporalScale(discretization_list=[1, _exec_scenarios, _time_intervals])\n",
    "    \n",
    "    # ======================================================================================================================\n",
    "    # Declare resources/commodities\n",
    "    # ======================================================================================================================\n",
    "    com1_pur = Resource(name='com1_pur', cons_max=125, block={'imp': 1, 'urg': 1}, price=0.00, label='Commodity 1 consumed from outside the system')\n",
    "    \n",
    "    com1_in = Resource(name='com1_in', label='Commodity 1 received')\n",
    "    com1_out = Resource(name='com1_out', label='Commodity 1 to be sent out')\n",
    "    \n",
    "    com1_loc1_out = Resource(name='com1_loc1_out', label='Commodity 1 sent out from location 1')\n",
    "    # com1_loc2_out = Resource(name='com1_loc2_out', label='Commodity 1 sent out from location 2')\n",
    "    \n",
    "    com1_sold = Resource(name='com1_sold', revenue=0.00, demand=True, sell=True, label='Commodity 1 sold to outside the system')\n",
    "    \n",
    "    prod_max = {0:30, 1: 60, 2: 90, 3: 120, 4: 150}\n",
    "    prod_min = {0:0, 1: 30, 2: 60, 3: 90, 4: 120}\n",
    "    rate_max = {0:1.25, 1: 1, 2: 0.75, 3: 0.5, 4: 0.25}\n",
    "    mode_ramp = {(0,1): 5, (1,2): 5}\n",
    "    \n",
    "    # ======================================================================================================================\n",
    "    # Declare processes/storage capacities\n",
    "    # ======================================================================================================================\n",
    "    com1_process_capacity = 150\n",
    "    \n",
    "    com1_procure = Process(name='procure com1', prod_max=125, conversion={com1_pur: -1, com1_in: 1}, capex=0.01, vopex=0.01, prod_min=0.01, label='Procure com1', varying=[VaryingProcess.DETERMINISTIC_CAPACITY])\n",
    "    com1_sell = Process(name='sell com1', prod_max=com1_process_capacity, conversion={com1_out: -1, com1_sold: 1}, capex=0.01, vopex=0.01, prod_min=com1_process_capacity, label='Sell com1')\n",
    "    com1_opt_procure = Process(name='procure optional com1', prod_max=125, conversion={com1_pur: -1, com1_in:1}, capex=10, vopex=0.1, prod_min=0.01, label='Procure optional com1')\n",
    "    \n",
    "    com1_receive_loc1 = Process(name='com1_receive_loc1', prod_max=com1_process_capacity, conversion={com1_loc1_out:-1, com1_in:1}, capex=0.01, vopex=0.01, prod_min=com1_process_capacity, label='Commodity 1 received from location 1')\n",
    "    # com1_receive_loc2 = Process(name='com1_receive_loc2', prod_max=com1_process_capacity, conversion={com1_loc2_out:-1, com1_in:1}, capex=0.01, vopex=0.01, prod_min=com1_process_capacity, label='Commodity 1 received from location 2')\n",
    "    \n",
    "    # com1_process = Process(name='com1_process', prod_max=com1_process_capacity, conversion={com1_in: -1, com1_out: 1},  capex=0.01, vopex=0.01, prod_min=com1_process_capacity, label='Process the commodity through the location')\n",
    "    com1_process = Process(name='com1_process', prod_max=prod_max, conversion={0:{com1_in: -1, com1_out: 1}, 1:{com1_in: -1, com1_out: 1}, 2:{com1_in: -1, com1_out: 1}, 3:{com1_in: -1, com1_out: 1}, 4:{com1_in: -1, com1_out: 1}},  capex=0.01, vopex=0.01, prod_min=prod_min, rate_max=rate_max, varying=[VaryingProcess.DETERMINISTIC_CAPACITY], label='Process the commodity through the location')\n",
    "    \n",
    "    # com1_store10 = Process(name='com1_store10', prod_max=150, capex=100, vopex=1, store_min=0.01, store_max= 20, prod_min=150, label=\"Storage capacity of 10 units\", storage=com1_in, storage_cost=0.02)\n",
    "    com1_store20 = Process(name='com1_store20', prod_max=150, capex=200, vopex=2, store_min=0.01, store_max= 40, prod_min=150, label=\"Storage capacity of 20 units\", storage=com1_in, storage_cost=0.02)\n",
    "    # com1_store50 = Process(name='com1_store50', prod_max=150, capex=500, vopex=5, store_min=0.01, store_max= 100, prod_min=150, label=\"Storage capacity of 50 units\", storage=com1_in, storage_cost=0.02)\n",
    "    \n",
    "    com1_loc1_send = Process(name='com1_loc1_send', prod_max=com1_process_capacity, conversion={com1_out:-1, com1_loc1_out:1}, capex=0.01, vopex=0.01, prod_min=com1_process_capacity, label='Send commodity one from location 1')\n",
    "    # com1_loc2_send = Process(name='com1_loc2_send', prod_max=com1_process_capacity, conversion={com1_out:-1, com1_loc2_out:1}, capex=0.01, vopex=0.01, prod_min=com1_process_capacity, label='Send commodity one from location 2')\n",
    "    \n",
    "    \n",
    "    \n",
    "    # ======================================================================================================================\n",
    "    # Declare locations/warehouses\n",
    "    # ======================================================================================================================\n",
    "    loc1 = Location(name='loc1', processes={com1_procure, com1_process, com1_store20, com1_loc1_send, com1_sell, com1_opt_procure}, label=\"Location 1\", scales=scales, demand_scale_level=2, capacity_scale_level=1, availability_scale_level=1, capacity_factor={com1_procure: cap_factor[['com1_procure']]})\n",
    "    \n",
    "    # loc2 = Location(name='loc2', processes={com1_receive_loc1, com1_process, com1_store20, com1_loc2_send, com1_sell, com1_opt_procure}, label=\"Location 2\", scales=scales, demand_scale_level=2, capacity_scale_level=1, availability_scale_level=1)\n",
    "    \n",
    "    \n",
    "    # ======================================================================================================================\n",
    "    # Declare transport/trucks\n",
    "    # ======================================================================================================================\n",
    "    \n",
    "    # truck_cap12 = 70\n",
    "    \n",
    "    # truck12 = Transport(name='truck12', resources={com1_loc1_out}, trans_max=truck_cap12, label='Truck from location 1 to 2', capex=0.5, vopex=0.05, trans_min=truck_cap12)\n",
    "    # truck21 = Transport(name='truck21', resources={com1_loc2_out}, trans_max=truck_cap12, label='Truck from location 2 to 1', capex=0.0001, vopex=0.05, trans_min=truck_cap12)\n",
    "    \n",
    "    \n",
    "    \n",
    "    # ======================================================================================================================\n",
    "    # Declare network\n",
    "    # ======================================================================================================================\n",
    "\n",
    "    # transport_matrix = [\n",
    "    #     [[], [truck12]],  # source: location 1\n",
    "    #     [[truck21], []]  # source: location 2\n",
    "    # ]\n",
    "    # \n",
    "    # distance_matrix = [\n",
    "    #     [0, 55],\n",
    "    #     [55, 0]\n",
    "    # ]\n",
    "    # \n",
    "    locset = [loc1]\n",
    "    # \n",
    "    # sources = locset\n",
    "    # sinks = locset\n",
    "    # \n",
    "    # network = Network(name='Network', scales= scales, source_locations=sources, sink_locations=sinks, transport_matrix=transport_matrix, distance_matrix=distance_matrix)\n",
    "\n",
    "\n",
    "\n",
    "    # ======================================================================================================================\n",
    "    # Declare scenario\n",
    "    # ======================================================================================================================\n",
    "    \n",
    "    daily_demand = 100\n",
    "    demand_penalty = 50\n",
    "    \n",
    "    demand_dict = {i: {com1_sold: daily_demand} if i == loc1 else {com1_sold: 0} for i in locset}\n",
    "    demand_penalty_dict = {i: {com1_sold: demand_penalty} if i == loc1 else {com1_sold: 0} for i in locset}\n",
    "    \n",
    "    scenario = Scenario(name='scenario_baseline', network= loc1, scales=scales, scheduling_scale_level=2, network_scale_level=0, purchase_scale_level=2, availability_scale_level=1, demand_scale_level=2, capacity_scale_level=1, demand=demand_dict, demand_penalty=demand_penalty_dict, label='Scenario with perfect information')\n",
    "    \n",
    "    # ======================================================================================================================\n",
    "    # Declare problem\n",
    "    # ======================================================================================================================\n",
    "    \n",
    "    problem_mincost = formulate(scenario=scenario,\n",
    "                            constraints={Constraints.COST, Constraints.RESOURCE_BALANCE, Constraints.INVENTORY, Constraints.PRODUCTION, Constraints.DEMAND, Constraints.NETWORK},\n",
    "                            demand_sign='eq', objective=Objective.COST_W_DEMAND_PENALTY)\n",
    "    \n",
    "    \n",
    "    scale_iter = scale_tuple(instance=problem_mincost, scale_levels=scenario.network_scale_level+1)\n",
    "    capex_process= sum(problem_mincost.Capex_network[scale_] for scale_ in scale_iter)\n",
    "    \n",
    "    problem_mincost.first_stage_cost  = capex_process\n",
    "    \n",
    "    return scenario, problem_mincost"
   ],
   "metadata": {
    "collapsed": false,
    "is_executing": true
   },
   "id": "e19a5b3b71979c5b",
   "execution_count": null
  },
  {
   "cell_type": "code",
   "outputs": [],
   "source": [],
   "metadata": {
    "collapsed": false,
    "is_executing": true
   },
   "id": "93f91675ee916b7b",
   "execution_count": null
  },
  {
   "cell_type": "code",
   "outputs": [],
   "source": [
    "#Expected Cost under Perfect Information\n",
    "all_scenario_names = [\"good\", \"average\", \"bad\"]\n",
    "ns_dict = {'good': 12, \"average\": 9, \"bad\":6}\n",
    "scenario_probabilities = {'good': 0.25, 'average': 0.5, 'bad':0.25} \n",
    "\n",
    "exCost_PI = 0\n",
    "\n",
    "for scenario_name in all_scenario_names:\n",
    "    cap_factor = pandas.DataFrame(data={'com1_procure': [1]*ns_dict[scenario_name] + [0]*(_exec_scenarios-ns_dict[scenario_name])})\n",
    "    scen, model = build_model(cap_factor=cap_factor)\n",
    "    for loc in model.locations:\n",
    "        model.X_P[loc,\"procure com1\",scen.network_scale_level].fixed= True\n",
    "        model.X_P[loc,\"procure com1\",scen.network_scale_level].value= 1\n",
    "    solver = SolverFactory(\"gurobi\")\n",
    "    solver.solve(model)\n",
    "    \n",
    "    exCost_PI += value(model.objective_cost_w_demand_penalty)*scenario_probabilities[scenario_name]"
   ],
   "metadata": {
    "collapsed": false,
    "is_executing": true
   },
   "id": "b9caa799bc017847",
   "execution_count": null
  },
  {
   "cell_type": "code",
   "outputs": [],
   "source": [
    "exCost_PI"
   ],
   "metadata": {
    "collapsed": false,
    "is_executing": true
   },
   "id": "1a7581470735c64d",
   "execution_count": null
  },
  {
   "cell_type": "code",
   "outputs": [],
   "source": [],
   "metadata": {
    "collapsed": false,
    "is_executing": true
   },
   "id": "25e9a507522102d",
   "execution_count": null
  },
  {
   "cell_type": "code",
   "outputs": [],
   "source": [
    "def scenario_creator(scenario_name):\n",
    "    if scenario_name=='good':\n",
    "        ns = 12\n",
    "    elif scenario_name=='average':\n",
    "        ns = 9\n",
    "    elif scenario_name=='bad':\n",
    "        ns = 6\n",
    "    else:\n",
    "        raise ValueError(\"Unrecognized scenario name\")\n",
    "    \n",
    "    cap_factor = pandas.DataFrame(data={'com1_procure': [1]*ns + [0]*(_exec_scenarios-ns)})\n",
    "    scen, model = build_model(cap_factor=cap_factor)\n",
    "    sputils.attach_root_node(model, model.first_stage_cost, [model.X_P])\n",
    "    model._mpisppy_probability = scenario_probabilities[scenario_name]\n",
    "    return model"
   ],
   "metadata": {
    "collapsed": false,
    "is_executing": true
   },
   "id": "570e0330063017ee",
   "execution_count": null
  },
  {
   "cell_type": "code",
   "outputs": [],
   "source": [
    "from mpisppy.opt.ef import ExtensiveForm\n",
    "\n",
    "options = {\"solver\": \"gurobi\"}\n",
    "all_scenario_names = [\"good\", \"average\", \"bad\"]\n",
    "ef_UI = ExtensiveForm(options, all_scenario_names, scenario_creator)\n",
    "results = ef_UI.solve_extensive_form()"
   ],
   "metadata": {
    "collapsed": false,
    "is_executing": true
   },
   "id": "a2f11fb6c4aee764",
   "execution_count": null
  },
  {
   "cell_type": "code",
   "outputs": [],
   "source": [
    "exCost_UI = ef_UI.get_objective_value()\n",
    "print(f\"{exCost_UI:.3f}\")"
   ],
   "metadata": {
    "collapsed": false,
    "is_executing": true
   },
   "id": "a1104ef40f9ba8f8",
   "execution_count": null
  },
  {
   "cell_type": "code",
   "outputs": [],
   "source": [
    "EVPI = exCost_UI - exCost_PI\n",
    "EVPI"
   ],
   "metadata": {
    "collapsed": false,
    "is_executing": true
   },
   "id": "3288f44b03fba042",
   "execution_count": null
  },
  {
   "cell_type": "code",
   "outputs": [],
   "source": [
    "soln = ef_UI.get_root_solution()\n",
    "for (var_name, var_val) in soln.items():\n",
    "    print(var_name, var_val)"
   ],
   "metadata": {
    "collapsed": false,
    "is_executing": true
   },
   "id": "884039af5d673c43",
   "execution_count": null
  },
  {
   "cell_type": "code",
   "outputs": [],
   "source": [
    "# from mpisppy.opt.lshaped import LShapedMethod\n",
    "# \n",
    "# all_scenario_names = [\"good\", \"average\", \"bad\"]\n",
    "# bounds = {name: -432000 for name in all_scenario_names}\n",
    "# options = {\n",
    "#     \"root_solver\": \"gurobi\",\n",
    "#     \"sp_solver\": \"gurobi\",\n",
    "#     \"sp_solver_options\" : {\"threads\" : 1},\n",
    "#     \"valid_eta_lb\": bounds,\n",
    "#     \"max_iter\": 10,\n",
    "# }\n",
    "# \n",
    "# ls = LShapedMethod(options, all_scenario_names, scenario_creator)\n",
    "# result = ls.lshaped_algorithm()\n",
    "# \n",
    "# variables = ls.gather_var_values_to_rank0()\n",
    "# for ((scen_name, var_name), var_value) in variables.items():\n",
    "#     print(scen_name, var_name, var_value)"
   ],
   "metadata": {
    "collapsed": false,
    "is_executing": true
   },
   "id": "fe4d05f6961b90a5",
   "execution_count": null
  },
  {
   "cell_type": "code",
   "outputs": [],
   "source": [
    "n = 9\n",
    "cap_factor = pandas.DataFrame(data={'com1_procure': [1]*n + [0]*(_exec_scenarios-n)})\n",
    "scen, model = build_model(cap_factor=cap_factor)\n",
    "\n",
    "for loc in model.locations:\n",
    "        model.X_P[loc,\"procure com1\",scen.network_scale_level].fixed= True\n",
    "        model.X_P[loc,\"procure com1\",scen.network_scale_level].value= 1\n",
    "\n",
    "solver = SolverFactory(\"gurobi\")\n",
    "solver.solve(model)"
   ],
   "metadata": {
    "collapsed": false,
    "is_executing": true
   },
   "id": "36d323c45bb9f268",
   "execution_count": null
  },
  {
   "cell_type": "code",
   "outputs": [],
   "source": [
    "print(f\"{value(model.objective_cost_w_demand_penalty):.3f}\")"
   ],
   "metadata": {
    "collapsed": false,
    "is_executing": true
   },
   "id": "4733eae7f673376a",
   "execution_count": null
  },
  {
   "cell_type": "code",
   "outputs": [],
   "source": [
    "model.X_P.pprint()"
   ],
   "metadata": {
    "collapsed": false,
    "is_executing": true
   },
   "id": "da2d7d33b3acf222",
   "execution_count": null
  },
  {
   "cell_type": "code",
   "outputs": [],
   "source": [
    "#Value of Stochastic Solution\n",
    "all_scenario_names = [\"good\", \"average\", \"bad\"]\n",
    "ns_dict = {'good': 12, \"average\": 9, \"bad\": 6}\n",
    "exCost_FD = 0\n",
    "\n",
    "for scenario_name in all_scenario_names:\n",
    "    cap_factor = pandas.DataFrame(data={'com1_procure': [1]*ns_dict[scenario_name] + [0]*(_exec_scenarios-ns_dict[scenario_name])})\n",
    "    scen, model = build_model(cap_factor=cap_factor)\n",
    "    for process in scen.location_process_dict['loc1']:\n",
    "        model.X_P['loc1', process, scen.network_scale_level].fixed= True\n",
    "\n",
    "    model.X_P['loc1','com1_loc1_send',0].value = 0.0\n",
    "    model.X_P['loc1','com1_process',0].value = 1.0\n",
    "    model.X_P['loc1','com1_store20',0].value = 0.0\n",
    "    model.X_P['loc1','com1_store20_discharge',0].value = 1.0\n",
    "    model.X_P['loc1','procure com1',0].value = 1.0\n",
    "    model.X_P['loc1','procure optional com1',0].value = 1.0\n",
    "    model.X_P['loc1','sell com1',0].value = 1.0\n",
    "    \n",
    "    solver = SolverFactory(\"gurobi\")\n",
    "    solver.solve(model)\n",
    "    \n",
    "    exCost_FD += value(model.objective_cost_w_demand_penalty)*scenario_probabilities[scenario_name]"
   ],
   "metadata": {
    "collapsed": false,
    "is_executing": true
   },
   "id": "6abb12db1ec380d",
   "execution_count": null
  },
  {
   "cell_type": "code",
   "outputs": [],
   "source": [
    "VSS = exCost_FD - exCost_UI\n",
    "VSS"
   ],
   "metadata": {
    "collapsed": false,
    "is_executing": true
   },
   "id": "a606e5f208a2c121",
   "execution_count": null
  },
  {
   "cell_type": "code",
   "outputs": [],
   "source": [],
   "metadata": {
    "collapsed": false,
    "is_executing": true
   },
   "id": "b6d7e0f465821767",
   "execution_count": null
  }
 ],
 "metadata": {
  "kernelspec": {
   "display_name": "Python 3",
   "language": "python",
   "name": "python3"
  },
  "language_info": {
   "codemirror_mode": {
    "name": "ipython",
    "version": 2
   },
   "file_extension": ".py",
   "mimetype": "text/x-python",
   "name": "python",
   "nbconvert_exporter": "python",
   "pygments_lexer": "ipython2",
   "version": "2.7.6"
  }
 },
 "nbformat": 4,
 "nbformat_minor": 5
}
