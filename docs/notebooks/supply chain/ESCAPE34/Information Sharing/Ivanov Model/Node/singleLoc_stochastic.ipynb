{
 "cells": [
  {
   "cell_type": "code",
   "outputs": [],
   "source": [
    "from pyomo.environ import *\n",
    "from pyomo.environ import Binary, NonNegativeReals\n",
    "import mpisppy.utils.sputils as sputils\n",
    "import matplotlib.pyplot as plt\n",
    "from matplotlib import rc\n",
    "import sys\n",
    "sys.path.append('../../../../src')\n",
    "import pandas\n",
    "import random\n",
    "import math\n",
    "from energiapy.components.temporal_scale import TemporalScale\n",
    "from energiapy.components.resource import Resource, VaryingResource\n",
    "from energiapy.components.process import Process, ProcessMode, VaryingProcess\n",
    "from energiapy.components.location import Location\n",
    "from energiapy.components.transport import Transport\n",
    "from energiapy.components.network import Network\n",
    "from energiapy.components.scenario import Scenario\n",
    "# from energiapy.model.constraints.demand import constraint_demand2\n",
    "from energiapy.components.result import Result\n",
    "from energiapy.model.formulate import formulate, Constraints, Objective\n",
    "from energiapy.plot import plot_results, plot_scenario, plot_location\n",
    "from energiapy.model.solve import solve\n",
    "from pyomo.environ import Param\n",
    "from energiapy.utils.scale_utils import scale_pyomo_set\n",
    "from energiapy.utils.scale_utils import scale_list, scale_tuple"
   ],
   "metadata": {
    "collapsed": false,
    "ExecuteTime": {
     "end_time": "2024-07-19T12:05:39.465421Z",
     "start_time": "2024-07-19T12:05:39.460954Z"
    }
   },
   "id": "77cd58c13662186a",
   "execution_count": 18
  },
  {
   "cell_type": "code",
   "outputs": [],
   "source": [
    "_time_intervals = 7  # Number of time intervals in a planning horizon    (L_chi)\n",
    "_coms = 1\n",
    "_exec_scenarios = 52  # Number of execution scenarios                     (chi)\n",
    "\n",
    "M = 1e3  # Big M\n",
    "\n",
    "all_scenario_names = [\"good\", \"avg_plus\", \"average\", \"avg_minus\", \"bad\"]\n",
    "ns_dict = {'good': 52, \"average\": 26, \"bad\":0, \"avg_plus\":30, \"avg_minus\":13}\n",
    "scenario_probabilities = {'good': 0.2, 'average': 0.2, 'bad': 0.2, \"avg_plus\":0.2, \"avg_minus\":0.2}"
   ],
   "metadata": {
    "collapsed": false,
    "ExecuteTime": {
     "end_time": "2024-07-19T12:05:39.496749Z",
     "start_time": "2024-07-19T12:05:39.488119Z"
    }
   },
   "id": "2face643bc99c79a",
   "execution_count": 19
  },
  {
   "cell_type": "code",
   "outputs": [],
   "source": [
    "def build_model(cap_factor):\n",
    "    \n",
    "    # Define temporal scales\n",
    "    scales = TemporalScale(discretization_list=[1, _exec_scenarios, _time_intervals])\n",
    "    \n",
    "    # ======================================================================================================================\n",
    "    # Declare resources/commodities\n",
    "    # ======================================================================================================================\n",
    "    com1_pur = Resource(name='com1_pur', cons_max=125, block={'imp': 1, 'urg': 1}, price=0.00, label='Commodity 1 consumed from outside the system')\n",
    "    \n",
    "    com1_in = Resource(name='com1_in', label='Commodity 1 received')\n",
    "    com1_out = Resource(name='com1_out', label='Commodity 1 to be sent out')\n",
    "    \n",
    "    com1_loc1_out = Resource(name='com1_loc1_out', label='Commodity 1 sent out from location 1')\n",
    "    # com1_loc2_out = Resource(name='com1_loc2_out', label='Commodity 1 sent out from location 2')\n",
    "    \n",
    "    com1_sold = Resource(name='com1_sold', revenue=0.00, demand=True, sell=True, label='Commodity 1 sold to outside the system')\n",
    "    \n",
    "    # ======================================================================================================================\n",
    "    # Declare processes/storage capacities\n",
    "    # ======================================================================================================================\n",
    "    com1_process_capacity = 125\n",
    "    \n",
    "    prod_max = {0:0.25*com1_process_capacity, 1: 0.5*com1_process_capacity, 2: 0.75*com1_process_capacity, 3: 0.95*com1_process_capacity, 4: com1_process_capacity}\n",
    "    prod_min = {0:0, 1: 0.25*com1_process_capacity, 2: 0.5*com1_process_capacity, 3: 0.75*com1_process_capacity, 4: 0.95*com1_process_capacity}\n",
    "    rate_max = {0:1.25/2, 1: 1/2, 2: 0.75/2, 3: 0.5/2, 4: 0.25/2}\n",
    "    # mode_ramp = {(0,1): 5, (1,2): 5}\n",
    "    \n",
    "    com1_procure = Process(name='procure com1', prod_max=com1_process_capacity, conversion={com1_pur: -1, com1_in: 1}, capex=0.1, vopex=0.01, prod_min=0.01, label='Procure com1', varying=[VaryingProcess.DETERMINISTIC_CAPACITY])\n",
    "    com1_sell = Process(name='sell com1', prod_max=com1_process_capacity, conversion={com1_out: -1, com1_sold: 1}, capex=0.1, vopex=0.01, prod_min=0.01, label='Sell com1')\n",
    "    com1_opt_procure = Process(name='procure optional com1', prod_max=75, conversion={com1_pur: -1, com1_in:1}, capex=10, vopex=0.01, prod_min=0.01, label='Procure optional com1')\n",
    "    \n",
    "    com1_receive_loc1 = Process(name='com1_receive_loc1', prod_max=com1_process_capacity, conversion={com1_loc1_out:-1, com1_in:1}, capex=0.1, vopex=0.01, prod_min=0.01, label='Commodity 1 received from location 1')\n",
    "    # com1_receive_loc2 = Process(name='com1_receive_loc2', prod_max=com1_process_capacity, conversion={com1_loc2_out:-1, com1_in:1}, capex=0.01, vopex=0.01, prod_min=com1_process_capacity, label='Commodity 1 received from location 2')\n",
    "    \n",
    "    # com1_process = Process(name='com1_process', prod_max=com1_process_capacity, conversion={com1_in: -1, com1_out: 1},  capex=0.01, vopex=0.01, prod_min=com1_process_capacity, label='Process the commodity through the location')\n",
    "    # com1_process = Process(name='com1_process', prod_max=com1_process_capacity, conversion={0:{com1_in: -1, com1_out: 1}, 1:{com1_in: -1, com1_out: 1}, 2:{com1_in: -1, com1_out: 1}, 3:{com1_in: -1, com1_out: 1}, 4:{com1_in: -1, com1_out: 1}},  capex=0.01, vopex=0.01, prod_min=0.01, label='Process the commodity through the location')\n",
    "    # \n",
    "    com1_process = Process(name='com1_process', prod_max=com1_process_capacity, conversion={com1_in: -1, com1_out: 1},  capex=0.1, vopex=0.01, prod_min=0.01, label='Process the commodity through the location')\n",
    "    \n",
    "    com1_store10 = Process(name='com1_store10', prod_max=com1_process_capacity, capex=0.1, vopex=0.01, storage_capex=10, store_min=0.01, store_max= 40, prod_min=0.01, label=\"Storage capacity of 10 units\", storage=com1_in, storage_cost=0.02)\n",
    "    com1_store20 = Process(name='com1_store20', prod_max=com1_process_capacity, capex=0.1, vopex=0.02, storage_capex=20, store_min=0.01, store_max= 80, prod_min=0.01, label=\"Storage capacity of 20 units\", storage=com1_in, storage_cost=0.02)\n",
    "    com1_store50 = Process(name='com1_store50', prod_max=com1_process_capacity, capex=0.1, vopex=0.05, storage_capex=50, store_min=0.01, store_max= 200, prod_min=0.01, label=\"Storage capacity of 50 units\", storage=com1_in, storage_cost=0.02)\n",
    "    \n",
    "    \n",
    "    com1_loc1_send = Process(name='com1_loc1_send', prod_max=com1_process_capacity, conversion={com1_out:-1, com1_loc1_out:1}, capex=0.1, vopex=0.01, prod_min=0.01, label='Send commodity one from location 1')\n",
    "    # com1_loc2_send = Process(name='com1_loc2_send', prod_max=com1_process_capacity, conversion={com1_out:-1, com1_loc2_out:1}, capex=0.01, vopex=0.01, prod_min=com1_process_capacity, label='Send commodity one from location 2')\n",
    "    \n",
    "    \n",
    "    \n",
    "    # ======================================================================================================================\n",
    "    # Declare locations/warehouses\n",
    "    # ======================================================================================================================\n",
    "    loc1 = Location(name='loc1', processes={com1_procure, com1_process, com1_store10, com1_store20, com1_store50, com1_loc1_send, com1_sell, com1_opt_procure}, label=\"Location 1\", scales=scales, demand_scale_level=2, capacity_scale_level=1, availability_scale_level=1, capacity_factor={com1_procure: cap_factor[['com1_procure']]})\n",
    "    \n",
    "   \n",
    "    locset = [loc1]\n",
    "\n",
    "\n",
    "    # ======================================================================================================================\n",
    "    # Declare scenario\n",
    "    # ======================================================================================================================\n",
    "    \n",
    "    daily_demand = 100\n",
    "    demand_penalty = 20\n",
    "    \n",
    "    demand_dict = {i: {com1_sold: daily_demand} if i == loc1 else {com1_sold: 0} for i in locset}\n",
    "    demand_penalty_dict = {i: {com1_sold: demand_penalty} if i == loc1 else {com1_sold: 0} for i in locset}\n",
    "    \n",
    "    scenario = Scenario(name='scenario_baseline', network= loc1, scales=scales, scheduling_scale_level=2, network_scale_level=0, purchase_scale_level=2, availability_scale_level=1, demand_scale_level=2, capacity_scale_level=1, demand=demand_dict, demand_penalty=demand_penalty_dict, label='Scenario with perfect information')\n",
    "    \n",
    "    # ======================================================================================================================\n",
    "    # Declare problem\n",
    "    # ======================================================================================================================\n",
    "    \n",
    "    problem_mincost = formulate(scenario=scenario,\n",
    "                            constraints={Constraints.COST, Constraints.RESOURCE_BALANCE, Constraints.INVENTORY, Constraints.PRODUCTION, Constraints.DEMAND, Constraints.NETWORK},\n",
    "                            demand_sign='eq', objective=Objective.COST_W_DEMAND_PENALTY)\n",
    "    \n",
    "    \n",
    "    scale_iter = scale_tuple(instance=problem_mincost, scale_levels=scenario.network_scale_level+1)\n",
    "    capex_process= sum(problem_mincost.Capex_network[scale_] for scale_ in scale_iter)\n",
    "    \n",
    "    problem_mincost.first_stage_cost  = capex_process\n",
    "    \n",
    "    return scenario, problem_mincost"
   ],
   "metadata": {
    "collapsed": false,
    "ExecuteTime": {
     "end_time": "2024-07-19T12:05:39.527176Z",
     "start_time": "2024-07-19T12:05:39.505378Z"
    }
   },
   "id": "e19a5b3b71979c5b",
   "execution_count": 20
  },
  {
   "cell_type": "markdown",
   "source": [
    "# Perfect Information"
   ],
   "metadata": {
    "collapsed": false
   },
   "id": "b9514386ae237268"
  },
  {
   "cell_type": "code",
   "outputs": [
    {
     "name": "stdout",
     "output_type": "stream",
     "text": [
      "constraint process capex\n",
      "constraint process fopex\n",
      "constraint process vopex\n",
      "constraint process incidental\n",
      "constraint location capex\n",
      "constraint storage cost\n",
      "constraint storage capex\n",
      "constraint storage cost location\n",
      "constraint storage cost network\n",
      "constraint production mode\n",
      "constraint inventory balance\n",
      "constraint inventory network\n",
      "constraint storage facility\n",
      "constraint production facility\n",
      "constraint min production facility\n",
      "constraint min storage facility\n",
      "constraint demand penalty\n",
      "constraint demand penalty location\n",
      "constraint demand penalty network\n",
      "constraint demand penalty cost\n",
      "constraint demand penalty cost location\n",
      "constraint demand penalty cost network\n",
      "objective cost w demand penalty\n",
      "Set parameter QCPDual to value 1\n",
      "Gurobi Optimizer version 11.0.1 build v11.0.1rc0 (win64 - Windows 11.0 (22631.2))\n",
      "\n",
      "CPU model: 13th Gen Intel(R) Core(TM) i7-13700, instruction set [SSE2|AVX|AVX2]\n",
      "Thread count: 16 physical cores, 24 logical processors, using up to 24 threads\n",
      "\n",
      "Optimize a model with 13605 rows, 11410 columns and 38478 nonzeros\n",
      "Model fingerprint: 0x1899e0df\n",
      "Variable types: 11396 continuous, 14 integer (14 binary)\n",
      "Coefficient statistics:\n",
      "  Matrix range     [1e-02, 2e+02]\n",
      "  Objective range  [1e+00, 2e+01]\n",
      "  Bounds range     [1e+00, 1e+00]\n",
      "  RHS range        [4e+01, 2e+02]\n",
      "Presolve removed 7033 rows and 7022 columns\n",
      "Presolve time: 0.02s\n",
      "Presolved: 6572 rows, 4388 columns, 18231 nonzeros\n",
      "Variable types: 4375 continuous, 13 integer (13 binary)\n",
      "Found heuristic solution: objective 728000.00100\n",
      "Found heuristic solution: objective 728000.00000\n",
      "Found heuristic solution: objective 1122.0000000\n",
      "\n",
      "Root relaxation: cutoff, 732 iterations, 0.00 seconds (0.00 work units)\n",
      "\n",
      "    Nodes    |    Current Node    |     Objective Bounds      |     Work\n",
      " Expl Unexpl |  Obj  Depth IntInf | Incumbent    BestBd   Gap | It/Node Time\n",
      "\n",
      "     0     0     cutoff    0      1122.00000 1122.00000  0.00%     -    0s\n",
      "\n",
      "Explored 1 nodes (732 simplex iterations) in 0.04 seconds (0.07 work units)\n",
      "Thread count was 24 (of 24 available processors)\n",
      "\n",
      "Solution count 3: 1122 728000 728000 \n",
      "\n",
      "Optimal solution found (tolerance 1.00e-04)\n",
      "Best objective 1.122000000000e+03, best bound 1.122000000000e+03, gap 0.0000%\n",
      "WARNING: Cannot get duals for MIP.\n",
      "constraint process capex\n",
      "constraint process fopex\n",
      "constraint process vopex\n",
      "constraint process incidental\n",
      "constraint location capex\n",
      "constraint storage cost\n",
      "constraint storage capex\n",
      "constraint storage cost location\n",
      "constraint storage cost network\n",
      "constraint production mode\n",
      "constraint inventory balance\n",
      "constraint inventory network\n",
      "constraint storage facility\n",
      "constraint production facility\n",
      "constraint min production facility\n",
      "constraint min storage facility\n",
      "constraint demand penalty\n",
      "constraint demand penalty location\n",
      "constraint demand penalty network\n",
      "constraint demand penalty cost\n",
      "constraint demand penalty cost location\n",
      "constraint demand penalty cost network\n",
      "objective cost w demand penalty\n",
      "Set parameter QCPDual to value 1\n",
      "Gurobi Optimizer version 11.0.1 build v11.0.1rc0 (win64 - Windows 11.0 (22631.2))\n",
      "\n",
      "CPU model: 13th Gen Intel(R) Core(TM) i7-13700, instruction set [SSE2|AVX|AVX2]\n",
      "Thread count: 16 physical cores, 24 logical processors, using up to 24 threads\n",
      "\n",
      "Optimize a model with 13605 rows, 11410 columns and 38324 nonzeros\n",
      "Model fingerprint: 0xc26bd787\n",
      "Variable types: 11396 continuous, 14 integer (14 binary)\n",
      "Coefficient statistics:\n",
      "  Matrix range     [1e-02, 2e+02]\n",
      "  Objective range  [1e+00, 2e+01]\n",
      "  Bounds range     [1e+00, 1e+00]\n",
      "  RHS range        [4e+01, 2e+02]\n",
      "Presolve removed 7341 rows and 7176 columns\n",
      "Presolve time: 0.01s\n",
      "Presolved: 6264 rows, 4234 columns, 17307 nonzeros\n",
      "Variable types: 4221 continuous, 13 integer (13 binary)\n",
      "Found heuristic solution: objective 728000.00100\n",
      "Found heuristic solution: objective 728000.00000\n",
      "Found heuristic solution: objective 308660.00000\n",
      "\n",
      "Root relaxation: objective 7.837950e+04, 698 iterations, 0.00 seconds (0.01 work units)\n",
      "\n",
      "    Nodes    |    Current Node    |     Objective Bounds      |     Work\n",
      " Expl Unexpl |  Obj  Depth IntInf | Incumbent    BestBd   Gap | It/Node Time\n",
      "\n",
      "*    0     0               0    78379.500000 78379.5000  0.00%     -    0s\n",
      "\n",
      "Explored 1 nodes (698 simplex iterations) in 0.05 seconds (0.07 work units)\n",
      "Thread count was 24 (of 24 available processors)\n",
      "\n",
      "Solution count 4: 78379.5 308660 728000 728000 \n",
      "\n",
      "Optimal solution found (tolerance 1.00e-04)\n",
      "Best objective 7.837950000000e+04, best bound 7.837950000000e+04, gap 0.0000%\n",
      "WARNING: Cannot get duals for MIP.\n",
      "constraint process capex\n",
      "constraint process fopex\n",
      "constraint process vopex\n",
      "constraint process incidental\n",
      "constraint location capex\n",
      "constraint storage cost\n",
      "constraint storage capex\n",
      "constraint storage cost location\n",
      "constraint storage cost network\n",
      "constraint production mode\n",
      "constraint inventory balance\n",
      "constraint inventory network\n",
      "constraint storage facility\n",
      "constraint production facility\n",
      "constraint min production facility\n",
      "constraint min storage facility\n",
      "constraint demand penalty\n",
      "constraint demand penalty location\n",
      "constraint demand penalty network\n",
      "constraint demand penalty cost\n",
      "constraint demand penalty cost location\n",
      "constraint demand penalty cost network\n",
      "objective cost w demand penalty\n",
      "Set parameter QCPDual to value 1\n",
      "Gurobi Optimizer version 11.0.1 build v11.0.1rc0 (win64 - Windows 11.0 (22631.2))\n",
      "\n",
      "CPU model: 13th Gen Intel(R) Core(TM) i7-13700, instruction set [SSE2|AVX|AVX2]\n",
      "Thread count: 16 physical cores, 24 logical processors, using up to 24 threads\n",
      "\n",
      "Optimize a model with 13605 rows, 11410 columns and 38296 nonzeros\n",
      "Model fingerprint: 0xfc3ea6d3\n",
      "Variable types: 11396 continuous, 14 integer (14 binary)\n",
      "Coefficient statistics:\n",
      "  Matrix range     [1e-02, 2e+02]\n",
      "  Objective range  [1e+00, 2e+01]\n",
      "  Bounds range     [1e+00, 1e+00]\n",
      "  RHS range        [4e+01, 2e+02]\n",
      "Presolve removed 7397 rows and 7204 columns\n",
      "Presolve time: 0.01s\n",
      "Presolved: 6208 rows, 4206 columns, 17139 nonzeros\n",
      "Variable types: 4193 continuous, 13 integer (13 binary)\n",
      "Found heuristic solution: objective 728000.00100\n",
      "Found heuristic solution: objective 728000.00000\n",
      "Found heuristic solution: objective 364576.00000\n",
      "\n",
      "Root relaxation: objective 9.235850e+04, 659 iterations, 0.00 seconds (0.01 work units)\n",
      "\n",
      "    Nodes    |    Current Node    |     Objective Bounds      |     Work\n",
      " Expl Unexpl |  Obj  Depth IntInf | Incumbent    BestBd   Gap | It/Node Time\n",
      "\n",
      "*    0     0               0    92358.500000 92358.5000  0.00%     -    0s\n",
      "\n",
      "Explored 1 nodes (659 simplex iterations) in 0.05 seconds (0.07 work units)\n",
      "Thread count was 24 (of 24 available processors)\n",
      "\n",
      "Solution count 4: 92358.5 364576 728000 728000 \n",
      "\n",
      "Optimal solution found (tolerance 1.00e-04)\n",
      "Best objective 9.235850000000e+04, best bound 9.235850000000e+04, gap 0.0000%\n",
      "WARNING: Cannot get duals for MIP.\n",
      "constraint process capex\n",
      "constraint process fopex\n",
      "constraint process vopex\n",
      "constraint process incidental\n",
      "constraint location capex\n",
      "constraint storage cost\n",
      "constraint storage capex\n",
      "constraint storage cost location\n",
      "constraint storage cost network\n",
      "constraint production mode\n",
      "constraint inventory balance\n",
      "constraint inventory network\n",
      "constraint storage facility\n",
      "constraint production facility\n",
      "constraint min production facility\n",
      "constraint min storage facility\n",
      "constraint demand penalty\n",
      "constraint demand penalty location\n",
      "constraint demand penalty network\n",
      "constraint demand penalty cost\n",
      "constraint demand penalty cost location\n",
      "constraint demand penalty cost network\n",
      "objective cost w demand penalty\n",
      "Set parameter QCPDual to value 1\n",
      "Gurobi Optimizer version 11.0.1 build v11.0.1rc0 (win64 - Windows 11.0 (22631.2))\n",
      "\n",
      "CPU model: 13th Gen Intel(R) Core(TM) i7-13700, instruction set [SSE2|AVX|AVX2]\n",
      "Thread count: 16 physical cores, 24 logical processors, using up to 24 threads\n",
      "\n",
      "Optimize a model with 13605 rows, 11410 columns and 38205 nonzeros\n",
      "Model fingerprint: 0xd4caf0e9\n",
      "Variable types: 11396 continuous, 14 integer (14 binary)\n",
      "Coefficient statistics:\n",
      "  Matrix range     [1e-02, 2e+02]\n",
      "  Objective range  [1e+00, 2e+01]\n",
      "  Bounds range     [1e+00, 1e+00]\n",
      "  RHS range        [4e+01, 2e+02]\n",
      "Presolve removed 7579 rows and 7295 columns\n",
      "Presolve time: 0.01s\n",
      "Presolved: 6026 rows, 4115 columns, 16593 nonzeros\n",
      "Variable types: 4102 continuous, 13 integer (13 binary)\n",
      "Found heuristic solution: objective 728000.00100\n",
      "Found heuristic solution: objective 728000.00000\n",
      "Found heuristic solution: objective 546303.00000\n",
      "\n",
      "Root relaxation: objective 1.377902e+05, 563 iterations, 0.00 seconds (0.01 work units)\n",
      "\n",
      "    Nodes    |    Current Node    |     Objective Bounds      |     Work\n",
      " Expl Unexpl |  Obj  Depth IntInf | Incumbent    BestBd   Gap | It/Node Time\n",
      "\n",
      "*    0     0               0    137790.25000 137790.250  0.00%     -    0s\n",
      "\n",
      "Explored 1 nodes (563 simplex iterations) in 0.05 seconds (0.07 work units)\n",
      "Thread count was 24 (of 24 available processors)\n",
      "\n",
      "Solution count 4: 137790 546303 728000 728000 \n",
      "\n",
      "Optimal solution found (tolerance 1.00e-04)\n",
      "Best objective 1.377902500000e+05, best bound 1.377902500000e+05, gap 0.0000%\n",
      "WARNING: Cannot get duals for MIP.\n",
      "constraint process capex\n",
      "constraint process fopex\n",
      "constraint process vopex\n",
      "constraint process incidental\n",
      "constraint location capex\n",
      "constraint storage cost\n",
      "constraint storage capex\n",
      "constraint storage cost location\n",
      "constraint storage cost network\n",
      "constraint production mode\n",
      "constraint inventory balance\n",
      "constraint inventory network\n",
      "constraint storage facility\n",
      "constraint production facility\n",
      "constraint min production facility\n",
      "constraint min storage facility\n",
      "constraint demand penalty\n",
      "constraint demand penalty location\n",
      "constraint demand penalty network\n",
      "constraint demand penalty cost\n",
      "constraint demand penalty cost location\n",
      "constraint demand penalty cost network\n",
      "objective cost w demand penalty\n",
      "Set parameter QCPDual to value 1\n",
      "Gurobi Optimizer version 11.0.1 build v11.0.1rc0 (win64 - Windows 11.0 (22631.2))\n",
      "\n",
      "CPU model: 13th Gen Intel(R) Core(TM) i7-13700, instruction set [SSE2|AVX|AVX2]\n",
      "Thread count: 16 physical cores, 24 logical processors, using up to 24 threads\n",
      "\n",
      "Optimize a model with 13605 rows, 11410 columns and 38114 nonzeros\n",
      "Model fingerprint: 0xd72fb304\n",
      "Variable types: 11396 continuous, 14 integer (14 binary)\n",
      "Coefficient statistics:\n",
      "  Matrix range     [1e-02, 2e+02]\n",
      "  Objective range  [1e+00, 2e+01]\n",
      "  Bounds range     [1e+00, 1e+00]\n",
      "  RHS range        [4e+01, 2e+02]\n",
      "Presolve removed 7764 rows and 7389 columns\n",
      "Presolve time: 0.01s\n",
      "Presolved: 5841 rows, 4021 columns, 16041 nonzeros\n",
      "Variable types: 4009 continuous, 12 integer (12 binary)\n",
      "Found heuristic solution: objective 728000.00000\n",
      "Found heuristic solution: objective 183584.00000\n",
      "\n",
      "Root relaxation: interrupted, 400 iterations, 0.00 seconds (0.00 work units)\n",
      "\n",
      "    Nodes    |    Current Node    |     Objective Bounds      |     Work\n",
      " Expl Unexpl |  Obj  Depth IntInf | Incumbent    BestBd   Gap | It/Node Time\n",
      "\n",
      "     0     0          -    0      183584.000 183566.000  0.01%     -    0s\n",
      "\n",
      "Explored 1 nodes (400 simplex iterations) in 0.04 seconds (0.06 work units)\n",
      "Thread count was 24 (of 24 available processors)\n",
      "\n",
      "Solution count 2: 183584 728000 \n",
      "\n",
      "Optimal solution found (tolerance 1.00e-04)\n",
      "Best objective 1.835840000000e+05, best bound 1.835660000000e+05, gap 0.0098%\n",
      "WARNING: Cannot get duals for MIP.\n"
     ]
    }
   ],
   "source": [
    "exCost_PI = 0\n",
    "\n",
    "for scenario_name in all_scenario_names:\n",
    "    cap_factor = pandas.DataFrame(data={'com1_procure': [1]*ns_dict[scenario_name] + [0]*(_exec_scenarios-ns_dict[scenario_name])})\n",
    "    scen_PI, model_PI = build_model(cap_factor=cap_factor)\n",
    "    # for loc in model.locations:\n",
    "    #     model.X_P[loc,\"procure com1\",scen.network_scale_level].fixed= True\n",
    "    #     model.X_P[loc,\"procure com1\",scen.network_scale_level].value= 1\n",
    "    # solver = SolverFactory(\"gurobi\")\n",
    "    # solver.solve(model_PI)\n",
    "    \n",
    "    results_good = solve(scenario=scen_PI, instance=model_PI, solver='gurobi', name=scenario_name)\n",
    "    \n",
    "    # print(f\"################## OBJECTIVE VALUE: {value(model_PI.objective_cost_w_demand_penalty)} ##################\")\n",
    "    # print(f\"################## NETWORK CAPEX: {value(model_PI.Capex_network[0])} ##################\")\n",
    "    # print(f\"################## NETWORK VOPEX: {value(model_PI.Vopex_network[0])} ##################\")\n",
    "    # print(f\"################## NETWORK InvHold: {value(model_PI.Inv_cost_network[0])} ##################\")\n",
    "    # print(f\"################## DEMAND PENALTY: {value(model_PI.Demand_penalty_cost_network['com1_sold',0])} ##################\")\n",
    "    # \n",
    "    # model_PI.write('model_PI_'+scenario_name+'.lp')\n",
    "    # \n",
    "    # with open('model_PI_'+scenario_name+'.lp', 'w') as f:\n",
    "    #     for v in model_PI.component_objects(Var, active=True):\n",
    "    #         varobject = getattr(model_PI, str(v))\n",
    "    #         for index in varobject:\n",
    "    #             f.write(f'{varobject[index].name}: {varobject[index].value}\\n')\n",
    "    \n",
    "    exCost_PI += value(model_PI.objective_cost_w_demand_penalty)*scenario_probabilities[scenario_name]"
   ],
   "metadata": {
    "collapsed": false,
    "ExecuteTime": {
     "end_time": "2024-07-19T12:05:45.932547Z",
     "start_time": "2024-07-19T12:05:39.528397Z"
    }
   },
   "id": "b9caa799bc017847",
   "execution_count": 21
  },
  {
   "cell_type": "code",
   "outputs": [
    {
     "name": "stdout",
     "output_type": "stream",
     "text": [
      "Expected cost under perfect information: 98646.850\n"
     ]
    }
   ],
   "source": [
    "print(f\"Expected cost under perfect information: {exCost_PI:.3f}\")"
   ],
   "metadata": {
    "collapsed": false,
    "ExecuteTime": {
     "end_time": "2024-07-19T12:05:45.948146Z",
     "start_time": "2024-07-19T12:05:45.933559Z"
    }
   },
   "id": "122f1c35021d6f72",
   "execution_count": 22
  },
  {
   "cell_type": "markdown",
   "source": [
    "# Expected Value of Perfect Information"
   ],
   "metadata": {
    "collapsed": false
   },
   "id": "3d103a3bf33ed4fc"
  },
  {
   "cell_type": "code",
   "outputs": [],
   "source": [
    "def scenario_creator(scenario_name):    \n",
    "    cap_factor_scen = pandas.DataFrame(data={'com1_procure': [1] * ns_dict[scenario_name] + [0] * (_exec_scenarios - ns_dict[scenario_name])})\n",
    "    scen, model = build_model(cap_factor=cap_factor_scen)\n",
    "    sputils.attach_root_node(model, model.first_stage_cost, [model.X_P, model.Cap_P, model.X_S, model.Cap_S])\n",
    "    model._mpisppy_probability = scenario_probabilities[scenario_name]\n",
    "    return model"
   ],
   "metadata": {
    "collapsed": false,
    "ExecuteTime": {
     "end_time": "2024-07-19T12:05:45.964083Z",
     "start_time": "2024-07-19T12:05:45.949244Z"
    }
   },
   "id": "570e0330063017ee",
   "execution_count": 23
  },
  {
   "cell_type": "code",
   "outputs": [
    {
     "name": "stdout",
     "output_type": "stream",
     "text": [
      "[   73.53] Initializing SPBase\n",
      "constraint process capex\n",
      "constraint process fopex\n",
      "constraint process vopex\n",
      "constraint process incidental\n",
      "constraint location capex\n",
      "constraint storage cost\n",
      "constraint storage capex\n",
      "constraint storage cost location\n",
      "constraint storage cost network\n",
      "constraint production mode\n",
      "constraint inventory balance\n",
      "constraint inventory network\n",
      "constraint storage facility\n",
      "constraint production facility\n",
      "constraint min production facility\n",
      "constraint min storage facility\n",
      "constraint demand penalty\n",
      "constraint demand penalty location\n",
      "constraint demand penalty network\n",
      "constraint demand penalty cost\n",
      "constraint demand penalty cost location\n",
      "constraint demand penalty cost network\n",
      "objective cost w demand penalty\n",
      "constraint process capex\n",
      "constraint process fopex\n",
      "constraint process vopex\n",
      "constraint process incidental\n",
      "constraint location capex\n",
      "constraint storage cost\n",
      "constraint storage capex\n",
      "constraint storage cost location\n",
      "constraint storage cost network\n",
      "constraint production mode\n",
      "constraint inventory balance\n",
      "constraint inventory network\n",
      "constraint storage facility\n",
      "constraint production facility\n",
      "constraint min production facility\n",
      "constraint min storage facility\n",
      "constraint demand penalty\n",
      "constraint demand penalty location\n",
      "constraint demand penalty network\n",
      "constraint demand penalty cost\n",
      "constraint demand penalty cost location\n",
      "constraint demand penalty cost network\n",
      "objective cost w demand penalty\n",
      "constraint process capex\n",
      "constraint process fopex\n",
      "constraint process vopex\n",
      "constraint process incidental\n",
      "constraint location capex\n",
      "constraint storage cost\n",
      "constraint storage capex\n",
      "constraint storage cost location\n",
      "constraint storage cost network\n",
      "constraint production mode\n",
      "constraint inventory balance\n",
      "constraint inventory network\n",
      "constraint storage facility\n",
      "constraint production facility\n",
      "constraint min production facility\n",
      "constraint min storage facility\n",
      "constraint demand penalty\n",
      "constraint demand penalty location\n",
      "constraint demand penalty network\n",
      "constraint demand penalty cost\n",
      "constraint demand penalty cost location\n",
      "constraint demand penalty cost network\n",
      "objective cost w demand penalty\n",
      "constraint process capex\n",
      "constraint process fopex\n",
      "constraint process vopex\n",
      "constraint process incidental\n",
      "constraint location capex\n",
      "constraint storage cost\n",
      "constraint storage capex\n",
      "constraint storage cost location\n",
      "constraint storage cost network\n",
      "constraint production mode\n",
      "constraint inventory balance\n",
      "constraint inventory network\n",
      "constraint storage facility\n",
      "constraint production facility\n",
      "constraint min production facility\n",
      "constraint min storage facility\n",
      "constraint demand penalty\n",
      "constraint demand penalty location\n",
      "constraint demand penalty network\n",
      "constraint demand penalty cost\n",
      "constraint demand penalty cost location\n",
      "constraint demand penalty cost network\n",
      "objective cost w demand penalty\n",
      "constraint process capex\n",
      "constraint process fopex\n",
      "constraint process vopex\n",
      "constraint process incidental\n",
      "constraint location capex\n",
      "constraint storage cost\n",
      "constraint storage capex\n",
      "constraint storage cost location\n",
      "constraint storage cost network\n",
      "constraint production mode\n",
      "constraint inventory balance\n",
      "constraint inventory network\n",
      "constraint storage facility\n",
      "constraint production facility\n",
      "constraint min production facility\n",
      "constraint min storage facility\n",
      "constraint demand penalty\n",
      "constraint demand penalty location\n",
      "constraint demand penalty network\n",
      "constraint demand penalty cost\n",
      "constraint demand penalty cost location\n",
      "constraint demand penalty cost network\n",
      "objective cost w demand penalty\n"
     ]
    }
   ],
   "source": [
    "from mpisppy.opt.ef import ExtensiveForm\n",
    "\n",
    "options = {\"solver\": \"gurobi\"}\n",
    "# all_scenario_names = [\"good\", \"average\", \"bad\"]\n",
    "ef_UI = ExtensiveForm(options, all_scenario_names, scenario_creator, model_name='model_UI')\n",
    "results = ef_UI.solve_extensive_form()"
   ],
   "metadata": {
    "collapsed": false,
    "ExecuteTime": {
     "end_time": "2024-07-19T12:05:50.762771Z",
     "start_time": "2024-07-19T12:05:45.966173Z"
    }
   },
   "id": "a2f11fb6c4aee764",
   "execution_count": 24
  },
  {
   "cell_type": "code",
   "outputs": [
    {
     "name": "stdout",
     "output_type": "stream",
     "text": [
      "Expected cost under uncertainty: 98961.879\n"
     ]
    }
   ],
   "source": [
    "exCost_UI = ef_UI.get_objective_value()\n",
    "print(f\"Expected cost under uncertainty: {exCost_UI:.3f}\")"
   ],
   "metadata": {
    "collapsed": false,
    "ExecuteTime": {
     "end_time": "2024-07-19T12:05:50.778064Z",
     "start_time": "2024-07-19T12:05:50.763768Z"
    }
   },
   "id": "a1104ef40f9ba8f8",
   "execution_count": 25
  },
  {
   "cell_type": "code",
   "outputs": [
    {
     "data": {
      "text/plain": "315.02943089429755"
     },
     "execution_count": 26,
     "metadata": {},
     "output_type": "execute_result"
    }
   ],
   "source": [
    "EVPI = exCost_UI - exCost_PI\n",
    "EVPI"
   ],
   "metadata": {
    "collapsed": false,
    "ExecuteTime": {
     "end_time": "2024-07-19T12:05:50.793187Z",
     "start_time": "2024-07-19T12:05:50.779066Z"
    }
   },
   "id": "3288f44b03fba042",
   "execution_count": 26
  },
  {
   "cell_type": "markdown",
   "source": [
    "# Value of Stochastic Solution"
   ],
   "metadata": {
    "collapsed": false
   },
   "id": "a1004d18a4da1164"
  },
  {
   "cell_type": "code",
   "outputs": [
    {
     "name": "stdout",
     "output_type": "stream",
     "text": [
      "constraint process capex\n",
      "constraint process fopex\n",
      "constraint process vopex\n",
      "constraint process incidental\n",
      "constraint location capex\n",
      "constraint storage cost\n",
      "constraint storage capex\n",
      "constraint storage cost location\n",
      "constraint storage cost network\n",
      "constraint production mode\n",
      "constraint inventory balance\n",
      "constraint inventory network\n",
      "constraint storage facility\n",
      "constraint production facility\n",
      "constraint min production facility\n",
      "constraint min storage facility\n",
      "constraint demand penalty\n",
      "constraint demand penalty location\n",
      "constraint demand penalty network\n",
      "constraint demand penalty cost\n",
      "constraint demand penalty cost location\n",
      "constraint demand penalty cost network\n",
      "objective cost w demand penalty\n"
     ]
    },
    {
     "data": {
      "text/plain": "{'Problem': [{'Name': 'x1', 'Lower bound': 43431.99999999998, 'Upper bound': 43432.0, 'Number of objectives': 1, 'Number of constraints': 13605, 'Number of variables': 11043, 'Number of binary variables': 14, 'Number of integer variables': 14, 'Number of continuous variables': 11029, 'Number of nonzeros': 38394, 'Sense': 'minimize'}], 'Solver': [{'Status': 'ok', 'Return code': '0', 'Message': 'Model was solved to optimality (subject to tolerances), and an optimal solution is available.', 'Termination condition': 'optimal', 'Termination message': 'Model was solved to optimality (subject to tolerances), and an optimal solution is available.', 'Wall time': '0.04699993133544922', 'Error rc': 0, 'Time': 0.2474656105041504}], 'Solution': [OrderedDict([('number of solutions', 0), ('number of solutions displayed', 0)])]}"
     },
     "execution_count": 27,
     "metadata": {},
     "output_type": "execute_result"
    }
   ],
   "source": [
    "n_avg = int(sum(ns_dict[i] for i in ns_dict.keys())/3)\n",
    "cap_factor_avg = pandas.DataFrame(data={'com1_procure': [1]*n_avg + [0]*(_exec_scenarios-n_avg)})\n",
    "scen_avg, model_avg = build_model(cap_factor=cap_factor_avg)\n",
    "\n",
    "solver_avg = SolverFactory(\"gurobi\")\n",
    "solver_avg.solve(model_avg)"
   ],
   "metadata": {
    "collapsed": false,
    "ExecuteTime": {
     "end_time": "2024-07-19T12:05:52.108085Z",
     "start_time": "2024-07-19T12:05:50.794188Z"
    }
   },
   "id": "eb4a5d4cc7271195",
   "execution_count": 27
  },
  {
   "cell_type": "code",
   "outputs": [],
   "source": [
    "def fix_variables(model1: ConcreteModel, model2:ConcreteModel):\n",
    "    \n",
    "    def fix(var1, var2):\n",
    "        for i in list(var1.keys()):\n",
    "            var2[i].fixed = True\n",
    "            var2[i] = value(var1[i])\n",
    "    \n",
    "    # def fix(var1, var2):\n",
    "    #     for i in var1:\n",
    "    #         if var1[i].value is not None:\n",
    "    #             var2[i].fix(value(var1[i]))\n",
    "            \n",
    "    fix(model1.X_P, model2.X_P)\n",
    "    fix(model1.Cap_P, model2.Cap_P)\n",
    "    fix(model1.X_S, model2.X_S)\n",
    "    fix(model1.Cap_S, model2.Cap_S)"
   ],
   "metadata": {
    "collapsed": false,
    "ExecuteTime": {
     "end_time": "2024-07-19T12:05:52.128531Z",
     "start_time": "2024-07-19T12:05:52.109753Z"
    }
   },
   "id": "8a58eff20a5fcf2f",
   "execution_count": 28
  },
  {
   "cell_type": "code",
   "outputs": [
    {
     "name": "stdout",
     "output_type": "stream",
     "text": [
      "constraint process capex\n",
      "constraint process fopex\n",
      "constraint process vopex\n",
      "constraint process incidental\n",
      "constraint location capex\n",
      "constraint storage cost\n",
      "constraint storage capex\n",
      "constraint storage cost location\n",
      "constraint storage cost network\n",
      "constraint production mode\n",
      "constraint inventory balance\n",
      "constraint inventory network\n",
      "constraint storage facility\n",
      "constraint production facility\n",
      "constraint min production facility\n",
      "constraint min storage facility\n",
      "constraint demand penalty\n",
      "constraint demand penalty location\n",
      "constraint demand penalty network\n",
      "constraint demand penalty cost\n",
      "constraint demand penalty cost location\n",
      "constraint demand penalty cost network\n",
      "objective cost w demand penalty\n",
      "constraint process capex\n",
      "constraint process fopex\n",
      "constraint process vopex\n",
      "constraint process incidental\n",
      "constraint location capex\n",
      "constraint storage cost\n",
      "constraint storage capex\n",
      "constraint storage cost location\n",
      "constraint storage cost network\n",
      "constraint production mode\n",
      "constraint inventory balance\n",
      "constraint inventory network\n",
      "constraint storage facility\n",
      "constraint production facility\n",
      "constraint min production facility\n",
      "constraint min storage facility\n",
      "constraint demand penalty\n",
      "constraint demand penalty location\n",
      "constraint demand penalty network\n",
      "constraint demand penalty cost\n",
      "constraint demand penalty cost location\n",
      "constraint demand penalty cost network\n",
      "objective cost w demand penalty\n",
      "constraint process capex\n",
      "constraint process fopex\n",
      "constraint process vopex\n",
      "constraint process incidental\n",
      "constraint location capex\n",
      "constraint storage cost\n",
      "constraint storage capex\n",
      "constraint storage cost location\n",
      "constraint storage cost network\n",
      "constraint production mode\n",
      "constraint inventory balance\n",
      "constraint inventory network\n",
      "constraint storage facility\n",
      "constraint production facility\n",
      "constraint min production facility\n",
      "constraint min storage facility\n",
      "constraint demand penalty\n",
      "constraint demand penalty location\n",
      "constraint demand penalty network\n",
      "constraint demand penalty cost\n",
      "constraint demand penalty cost location\n",
      "constraint demand penalty cost network\n",
      "objective cost w demand penalty\n",
      "constraint process capex\n",
      "constraint process fopex\n",
      "constraint process vopex\n",
      "constraint process incidental\n",
      "constraint location capex\n",
      "constraint storage cost\n",
      "constraint storage capex\n",
      "constraint storage cost location\n",
      "constraint storage cost network\n",
      "constraint production mode\n",
      "constraint inventory balance\n",
      "constraint inventory network\n",
      "constraint storage facility\n",
      "constraint production facility\n",
      "constraint min production facility\n",
      "constraint min storage facility\n",
      "constraint demand penalty\n",
      "constraint demand penalty location\n",
      "constraint demand penalty network\n",
      "constraint demand penalty cost\n",
      "constraint demand penalty cost location\n",
      "constraint demand penalty cost network\n",
      "objective cost w demand penalty\n",
      "constraint process capex\n",
      "constraint process fopex\n",
      "constraint process vopex\n",
      "constraint process incidental\n",
      "constraint location capex\n",
      "constraint storage cost\n",
      "constraint storage capex\n",
      "constraint storage cost location\n",
      "constraint storage cost network\n",
      "constraint production mode\n",
      "constraint inventory balance\n",
      "constraint inventory network\n",
      "constraint storage facility\n",
      "constraint production facility\n",
      "constraint min production facility\n",
      "constraint min storage facility\n",
      "constraint demand penalty\n",
      "constraint demand penalty location\n",
      "constraint demand penalty network\n",
      "constraint demand penalty cost\n",
      "constraint demand penalty cost location\n",
      "constraint demand penalty cost network\n",
      "objective cost w demand penalty\n"
     ]
    }
   ],
   "source": [
    "exCost_FD = 0\n",
    "\n",
    "for scenario_name in all_scenario_names:\n",
    "    cap_factor_VSS = pandas.DataFrame(data={'com1_procure': [1]*ns_dict[scenario_name] + [0]*(_exec_scenarios-ns_dict[scenario_name])})\n",
    "    scen_VSS, model_VSS = build_model(cap_factor=cap_factor_VSS)\n",
    "\n",
    "    fix_variables(model1=model_avg, model2=model_VSS)\n",
    "\n",
    "    solver = SolverFactory(\"gurobi\")\n",
    "    solver.solve(model_VSS)\n",
    "\n",
    "    # print(f\"################## OBJECTIVE VALUE: {value(model_VSS.objective_cost_w_demand_penalty)} ##################\")\n",
    "    # print(f\"################## NETWORK CAPEX: {value(model_VSS.Capex_network[0])} ##################\")\n",
    "    # print(f\"################## NETWORK VOPEX: {value(model_VSS.Vopex_network[0])} ##################\")\n",
    "    # print(f\"################## NETWORK InvHold: {value(model_VSS.Inv_cost_network[0])} ##################\")\n",
    "    # print(f\"################## UNMET DEMAND: {value(model_VSS.Demand_penalty_network['com1_sold',0])} ##################\")\n",
    "    # print(f\"################## DEMAND PENALTY COST: {value(model_VSS.Demand_penalty_cost_network['com1_sold',0])} ##################\")\n",
    "\n",
    "    exCost_FD += value(model_VSS.objective_cost_w_demand_penalty)*scenario_probabilities[scenario_name]"
   ],
   "metadata": {
    "collapsed": false,
    "ExecuteTime": {
     "end_time": "2024-07-19T12:05:57.635153Z",
     "start_time": "2024-07-19T12:05:52.129528Z"
    }
   },
   "id": "6abb12db1ec380d",
   "execution_count": 29
  },
  {
   "cell_type": "code",
   "outputs": [
    {
     "data": {
      "text/plain": "98646.85"
     },
     "execution_count": 30,
     "metadata": {},
     "output_type": "execute_result"
    }
   ],
   "source": [
    "exCost_PI"
   ],
   "metadata": {
    "collapsed": false,
    "ExecuteTime": {
     "end_time": "2024-07-19T12:05:57.650841Z",
     "start_time": "2024-07-19T12:05:57.636153Z"
    }
   },
   "id": "340c6da67cf4c21e",
   "execution_count": 30
  },
  {
   "cell_type": "code",
   "outputs": [
    {
     "data": {
      "text/plain": "98961.8794308943"
     },
     "execution_count": 31,
     "metadata": {},
     "output_type": "execute_result"
    }
   ],
   "source": [
    "exCost_UI"
   ],
   "metadata": {
    "collapsed": false,
    "ExecuteTime": {
     "end_time": "2024-07-19T12:05:57.666420Z",
     "start_time": "2024-07-19T12:05:57.651874Z"
    }
   },
   "id": "a990790d14451e73",
   "execution_count": 31
  },
  {
   "cell_type": "code",
   "outputs": [
    {
     "data": {
      "text/plain": "98962.65000000001"
     },
     "execution_count": 32,
     "metadata": {},
     "output_type": "execute_result"
    }
   ],
   "source": [
    "exCost_FD"
   ],
   "metadata": {
    "collapsed": false,
    "ExecuteTime": {
     "end_time": "2024-07-19T12:05:57.682110Z",
     "start_time": "2024-07-19T12:05:57.667506Z"
    }
   },
   "id": "2fb594c4e99583fd",
   "execution_count": 32
  },
  {
   "cell_type": "code",
   "outputs": [
    {
     "data": {
      "text/plain": "315.02943089429755"
     },
     "execution_count": 33,
     "metadata": {},
     "output_type": "execute_result"
    }
   ],
   "source": [
    "EVPI"
   ],
   "metadata": {
    "collapsed": false,
    "ExecuteTime": {
     "end_time": "2024-07-19T12:05:57.697727Z",
     "start_time": "2024-07-19T12:05:57.684151Z"
    }
   },
   "id": "5d60812b7981c425",
   "execution_count": 33
  },
  {
   "cell_type": "code",
   "outputs": [
    {
     "data": {
      "text/plain": "0.7705691057053627"
     },
     "execution_count": 34,
     "metadata": {},
     "output_type": "execute_result"
    }
   ],
   "source": [
    "VSS = exCost_FD - exCost_UI\n",
    "VSS"
   ],
   "metadata": {
    "collapsed": false,
    "ExecuteTime": {
     "end_time": "2024-07-19T12:05:57.712601Z",
     "start_time": "2024-07-19T12:05:57.698768Z"
    }
   },
   "id": "a606e5f208a2c121",
   "execution_count": 34
  },
  {
   "cell_type": "code",
   "outputs": [],
   "source": [],
   "metadata": {
    "collapsed": false,
    "ExecuteTime": {
     "end_time": "2024-07-19T12:05:57.727810Z",
     "start_time": "2024-07-19T12:05:57.713615Z"
    }
   },
   "id": "8d52443afb2ac1d3",
   "execution_count": 34
  }
 ],
 "metadata": {
  "kernelspec": {
   "display_name": "Python 3",
   "language": "python",
   "name": "python3"
  },
  "language_info": {
   "codemirror_mode": {
    "name": "ipython",
    "version": 2
   },
   "file_extension": ".py",
   "mimetype": "text/x-python",
   "name": "python",
   "nbconvert_exporter": "python",
   "pygments_lexer": "ipython2",
   "version": "2.7.6"
  }
 },
 "nbformat": 4,
 "nbformat_minor": 5
}
