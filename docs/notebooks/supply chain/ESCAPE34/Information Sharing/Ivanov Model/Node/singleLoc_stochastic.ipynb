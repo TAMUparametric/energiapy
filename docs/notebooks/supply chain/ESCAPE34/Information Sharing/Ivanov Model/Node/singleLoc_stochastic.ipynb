{
 "cells": [
  {
   "cell_type": "code",
   "outputs": [
    {
     "name": "stdout",
     "output_type": "stream",
     "text": [
      "[    0.00] Initializing mpi-sppy\n"
     ]
    }
   ],
   "source": [
    "from pyomo.environ import *\n",
    "import mpisppy.utils.sputils as sputils\n",
    "import matplotlib.pyplot as plt\n",
    "from matplotlib import rc\n",
    "import sys\n",
    "sys.path.append('../../../../src')\n",
    "import pandas\n",
    "import random\n",
    "import math\n",
    "from energiapy.components.temporal_scale import TemporalScale\n",
    "from energiapy.components.resource import Resource, VaryingResource\n",
    "from energiapy.components.process import Process, ProcessMode, VaryingProcess\n",
    "from energiapy.components.location import Location\n",
    "from energiapy.components.transport import Transport\n",
    "from energiapy.components.network import Network\n",
    "from energiapy.components.scenario import Scenario\n",
    "# from energiapy.model.constraints.demand import constraint_demand2\n",
    "from energiapy.components.result import Result\n",
    "from energiapy.model.formulate import formulate, Constraints, Objective\n",
    "from energiapy.plot import plot_results, plot_scenario, plot_location\n",
    "from energiapy.model.solve import solve\n",
    "from pyomo.environ import Param\n",
    "from energiapy.utils.scale_utils import scale_pyomo_set\n",
    "from energiapy.utils.scale_utils import scale_list, scale_tuple\n"
   ],
   "metadata": {
    "collapsed": false,
    "ExecuteTime": {
     "end_time": "2024-04-05T14:28:24.372407Z",
     "start_time": "2024-04-05T14:28:23.779412Z"
    }
   },
   "id": "77cd58c13662186a",
   "execution_count": 1
  },
  {
   "cell_type": "code",
   "outputs": [],
   "source": [
    "_time_intervals = 30  # Number of time intervals in a planning horizon    (L_chi)\n",
    "_coms = 1\n",
    "_exec_scenarios = 12  # Number of execution scenarios                     (chi)\n",
    "\n",
    "M = 1e3  # Big M"
   ],
   "metadata": {
    "collapsed": false,
    "ExecuteTime": {
     "end_time": "2024-04-05T14:28:24.379694Z",
     "start_time": "2024-04-05T14:28:24.374141Z"
    }
   },
   "id": "2face643bc99c79a",
   "execution_count": 2
  },
  {
   "cell_type": "code",
   "outputs": [],
   "source": [
    "def build_model(cap_factor):\n",
    "    \n",
    "    # Define temporal scales\n",
    "    scales = TemporalScale(discretization_list=[1, _exec_scenarios, _time_intervals])\n",
    "    \n",
    "    # ======================================================================================================================\n",
    "    # Declare resources/commodities\n",
    "    # ======================================================================================================================\n",
    "    com1_pur = Resource(name='com1_pur', cons_max=125, block={'imp': 1, 'urg': 1}, price=0.00, label='Commodity 1 consumed from outside the system')\n",
    "    \n",
    "    com1_in = Resource(name='com1_in', label='Commodity 1 received')\n",
    "    com1_out = Resource(name='com1_out', label='Commodity 1 to be sent out')\n",
    "    \n",
    "    com1_loc1_out = Resource(name='com1_loc1_out', label='Commodity 1 sent out from location 1')\n",
    "    # com1_loc2_out = Resource(name='com1_loc2_out', label='Commodity 1 sent out from location 2')\n",
    "    \n",
    "    com1_sold = Resource(name='com1_sold', revenue=0.00, demand=True, sell=True, label='Commodity 1 sold to outside the system')\n",
    "    \n",
    "    \n",
    "    \n",
    "    # ======================================================================================================================\n",
    "    # Declare processes/storage capacities\n",
    "    # ======================================================================================================================\n",
    "    com1_process_capacity = 150\n",
    "    \n",
    "    com1_procure = Process(name='procure com1', prod_max=125, conversion={com1_pur: -1, com1_in: 1}, capex=0.01, vopex=0.01, prod_min=125, label='Procure com1', varying=[VaryingProcess.DETERMINISTIC_CAPACITY])\n",
    "    com1_sell = Process(name='sell com1', prod_max=com1_process_capacity, conversion={com1_out: -1, com1_sold: 1}, capex=0.01, vopex=0.01, prod_min=com1_process_capacity, label='Sell com1')\n",
    "    com1_opt_procure = Process(name='procure optional com1', prod_max=125, conversion={com1_pur: -1, com1_in:1}, capex=10, vopex=0.1, prod_min=0.01, label='Procure optional com1')\n",
    "    \n",
    "    com1_receive_loc1 = Process(name='com1_receive_loc1', prod_max=com1_process_capacity, conversion={com1_loc1_out:-1, com1_in:1}, capex=0.01, vopex=0.01, prod_min=com1_process_capacity, label='Commodity 1 received from location 1')\n",
    "    # com1_receive_loc2 = Process(name='com1_receive_loc2', prod_max=com1_process_capacity, conversion={com1_loc2_out:-1, com1_in:1}, capex=0.01, vopex=0.01, prod_min=com1_process_capacity, label='Commodity 1 received from location 2')\n",
    "    \n",
    "    com1_process = Process(name='com1_process', prod_max=com1_process_capacity, conversion={com1_in: -1, com1_out: 1},  capex=0.01, vopex=0.01, prod_min=com1_process_capacity, label='Process the commodity through the location')\n",
    "    \n",
    "    # com1_store10 = Process(name='com1_store10', prod_max=150, capex=100, vopex=1, store_min=0.01, store_max= 20, prod_min=150, label=\"Storage capacity of 10 units\", storage=com1_in, storage_cost=0.02)\n",
    "    com1_store20 = Process(name='com1_store20', prod_max=150, capex=200, vopex=2, store_min=0.01, store_max= 40, prod_min=150, label=\"Storage capacity of 20 units\", storage=com1_in, storage_cost=0.02)\n",
    "    # com1_store50 = Process(name='com1_store50', prod_max=150, capex=500, vopex=5, store_min=0.01, store_max= 100, prod_min=150, label=\"Storage capacity of 50 units\", storage=com1_in, storage_cost=0.02)\n",
    "    \n",
    "    com1_loc1_send = Process(name='com1_loc1_send', prod_max=com1_process_capacity, conversion={com1_out:-1, com1_loc1_out:1}, capex=0.01, vopex=0.01, prod_min=com1_process_capacity, label='Send commodity one from location 1')\n",
    "    # com1_loc2_send = Process(name='com1_loc2_send', prod_max=com1_process_capacity, conversion={com1_out:-1, com1_loc2_out:1}, capex=0.01, vopex=0.01, prod_min=com1_process_capacity, label='Send commodity one from location 2')\n",
    "    \n",
    "    \n",
    "    \n",
    "    # ======================================================================================================================\n",
    "    # Declare locations/warehouses\n",
    "    # ======================================================================================================================\n",
    "    loc1 = Location(name='loc1', processes={com1_procure, com1_process, com1_store20, com1_loc1_send, com1_sell, com1_opt_procure}, label=\"Location 1\", scales=scales, demand_scale_level=2, capacity_scale_level=1, availability_scale_level=1, capacity_factor={com1_procure: cap_factor[['com1_procure']]})\n",
    "    \n",
    "    # loc2 = Location(name='loc2', processes={com1_receive_loc1, com1_process, com1_store20, com1_loc2_send, com1_sell, com1_opt_procure}, label=\"Location 2\", scales=scales, demand_scale_level=2, capacity_scale_level=1, availability_scale_level=1)\n",
    "    \n",
    "    \n",
    "    # ======================================================================================================================\n",
    "    # Declare transport/trucks\n",
    "    # ======================================================================================================================\n",
    "    \n",
    "    # truck_cap12 = 70\n",
    "    \n",
    "    # truck12 = Transport(name='truck12', resources={com1_loc1_out}, trans_max=truck_cap12, label='Truck from location 1 to 2', capex=0.5, vopex=0.05, trans_min=truck_cap12)\n",
    "    # truck21 = Transport(name='truck21', resources={com1_loc2_out}, trans_max=truck_cap12, label='Truck from location 2 to 1', capex=0.0001, vopex=0.05, trans_min=truck_cap12)\n",
    "    \n",
    "    \n",
    "    \n",
    "    # ======================================================================================================================\n",
    "    # Declare network\n",
    "    # ======================================================================================================================\n",
    "\n",
    "    # transport_matrix = [\n",
    "    #     [[], [truck12]],  # source: location 1\n",
    "    #     [[truck21], []]  # source: location 2\n",
    "    # ]\n",
    "    # \n",
    "    # distance_matrix = [\n",
    "    #     [0, 55],\n",
    "    #     [55, 0]\n",
    "    # ]\n",
    "    # \n",
    "    locset = [loc1]\n",
    "    # \n",
    "    # sources = locset\n",
    "    # sinks = locset\n",
    "    # \n",
    "    # network = Network(name='Network', scales= scales, source_locations=sources, sink_locations=sinks, transport_matrix=transport_matrix, distance_matrix=distance_matrix)\n",
    "\n",
    "\n",
    "\n",
    "    # ======================================================================================================================\n",
    "    # Declare scenario\n",
    "    # ======================================================================================================================\n",
    "    \n",
    "    daily_demand = 100\n",
    "    demand_penalty = 50\n",
    "    \n",
    "    demand_dict = {i: {com1_sold: daily_demand} if i == loc1 else {com1_sold: 0} for i in locset}\n",
    "    demand_penalty_dict = {i: {com1_sold: demand_penalty} if i == loc1 else {com1_sold: 0} for i in locset}\n",
    "    \n",
    "    scenario = Scenario(name='scenario_baseline', network= loc1, scales=scales, scheduling_scale_level=2, network_scale_level=0, purchase_scale_level=2, availability_scale_level=1, demand_scale_level=2, capacity_scale_level=1, demand=demand_dict, demand_penalty=demand_penalty_dict, label='Scenario with perfect information')\n",
    "    \n",
    "    \n",
    "    \n",
    "    # ======================================================================================================================\n",
    "    # Declare problem\n",
    "    # ======================================================================================================================\n",
    "    \n",
    "    problem_mincost = formulate(scenario=scenario,\n",
    "                            constraints={Constraints.COST, Constraints.RESOURCE_BALANCE, Constraints.INVENTORY, Constraints.PRODUCTION, Constraints.DEMAND, Constraints.NETWORK},\n",
    "                            demand_sign='eq', objective=Objective.COST_W_DEMAND_PENALTY)\n",
    "    \n",
    "    \n",
    "    scale_iter = scale_tuple(instance=problem_mincost, scale_levels=scenario.network_scale_level+1)\n",
    "    capex_process= sum(problem_mincost.Capex_network[scale_] for scale_ in scale_iter)\n",
    "    \n",
    "    problem_mincost.first_stage_cost  = capex_process\n",
    "    \n",
    "    return scenario, problem_mincost"
   ],
   "metadata": {
    "collapsed": false,
    "ExecuteTime": {
     "end_time": "2024-04-05T14:28:24.385579Z",
     "start_time": "2024-04-05T14:28:24.381565Z"
    }
   },
   "id": "e19a5b3b71979c5b",
   "execution_count": 3
  },
  {
   "cell_type": "code",
   "outputs": [],
   "source": [
    "# n = 6\n",
    "# cap_factor = pandas.DataFrame(data={'com1_procure': [1]*n + [0]*(_exec_scenarios-n)})\n",
    "# scen, model = build_model(cap_factor=cap_factor)\n",
    "# \n",
    "# for loc in model.locations:\n",
    "#         model.X_P[loc,\"procure com1\",scen.network_scale_level].fixed= True\n",
    "#         model.X_P[loc,\"procure com1\",scen.network_scale_level].value= 1\n",
    "# \n",
    "# solver = SolverFactory(\"gurobi\")\n",
    "# solver.solve(model)"
   ],
   "metadata": {
    "collapsed": false,
    "ExecuteTime": {
     "end_time": "2024-04-05T14:28:24.391477Z",
     "start_time": "2024-04-05T14:28:24.386082Z"
    }
   },
   "id": "985647a37497a7d7",
   "execution_count": 4
  },
  {
   "cell_type": "code",
   "outputs": [],
   "source": [
    "# print(f\"{value(model.objective_cost_w_demand_penalty):.3f}\")"
   ],
   "metadata": {
    "collapsed": false,
    "ExecuteTime": {
     "end_time": "2024-04-05T14:28:24.391768Z",
     "start_time": "2024-04-05T14:28:24.390223Z"
    }
   },
   "id": "9d9103125500ef1d",
   "execution_count": 5
  },
  {
   "cell_type": "code",
   "outputs": [],
   "source": [
    "# model.X_P.pprint()"
   ],
   "metadata": {
    "collapsed": false,
    "ExecuteTime": {
     "end_time": "2024-04-05T14:28:24.404842Z",
     "start_time": "2024-04-05T14:28:24.391842Z"
    }
   },
   "id": "1f1e4024b983d8a9",
   "execution_count": 6
  },
  {
   "cell_type": "code",
   "outputs": [
    {
     "name": "stdout",
     "output_type": "stream",
     "text": [
      "constraint process capex\n",
      "constraint process fopex\n",
      "constraint process vopex\n",
      "constraint process incidental\n",
      "constraint storage cost\n",
      "constraint storage cost location\n",
      "constraint storage cost network\n",
      "constraint production mode\n",
      "constraint inventory balance\n",
      "constraint inventory network\n",
      "constraint storage facility\n",
      "constraint production facility\n",
      "constraint min production facility\n",
      "constraint min storage facility\n",
      "constraint demand penalty\n",
      "objective cost w demand penalty\n",
      "constraint process capex\n",
      "constraint process fopex\n",
      "constraint process vopex\n",
      "constraint process incidental\n",
      "constraint storage cost\n",
      "constraint storage cost location\n",
      "constraint storage cost network\n",
      "constraint production mode\n",
      "constraint inventory balance\n",
      "constraint inventory network\n",
      "constraint storage facility\n",
      "constraint production facility\n",
      "constraint min production facility\n",
      "constraint min storage facility\n",
      "constraint demand penalty\n",
      "objective cost w demand penalty\n",
      "constraint process capex\n",
      "constraint process fopex\n",
      "constraint process vopex\n",
      "constraint process incidental\n",
      "constraint storage cost\n",
      "constraint storage cost location\n",
      "constraint storage cost network\n",
      "constraint production mode\n",
      "constraint inventory balance\n",
      "constraint inventory network\n",
      "constraint storage facility\n",
      "constraint production facility\n",
      "constraint min production facility\n",
      "constraint min storage facility\n",
      "constraint demand penalty\n",
      "objective cost w demand penalty\n"
     ]
    }
   ],
   "source": [
    "#Expected Cost under Perfect Information\n",
    "all_scenario_names = [\"good\", \"average\", \"bad\"]\n",
    "ns_dict = {'good': 12, \"average\": 9, \"bad\":6}\n",
    "scenario_probabilities = {'good': 0.33, 'average': 0.33, 'bad':0.33} \n",
    "exCost_PI = 0\n",
    "\n",
    "for scenario_name in all_scenario_names:\n",
    "    cap_factor = pandas.DataFrame(data={'com1_procure': [1]*ns_dict[scenario_name] + [0]*(_exec_scenarios-ns_dict[scenario_name])})\n",
    "    scen, model = build_model(cap_factor=cap_factor)\n",
    "    for loc in model.locations:\n",
    "        model.X_P[loc,\"procure com1\",scen.network_scale_level].fixed= True\n",
    "        model.X_P[loc,\"procure com1\",scen.network_scale_level].value= 1\n",
    "    solver = SolverFactory(\"gurobi\")\n",
    "    solver.solve(model)\n",
    "    \n",
    "    exCost_PI += value(model.objective_cost_w_demand_penalty)*scenario_probabilities[scenario_name]"
   ],
   "metadata": {
    "collapsed": false,
    "ExecuteTime": {
     "end_time": "2024-04-05T14:28:26.057058Z",
     "start_time": "2024-04-05T14:28:24.444105Z"
    }
   },
   "id": "b9caa799bc017847",
   "execution_count": 7
  },
  {
   "cell_type": "code",
   "outputs": [
    {
     "data": {
      "text/plain": "2535.3075000000003"
     },
     "execution_count": 8,
     "metadata": {},
     "output_type": "execute_result"
    }
   ],
   "source": [
    "exCost_PI"
   ],
   "metadata": {
    "collapsed": false,
    "ExecuteTime": {
     "end_time": "2024-04-05T14:28:26.063430Z",
     "start_time": "2024-04-05T14:28:26.059597Z"
    }
   },
   "id": "1a7581470735c64d",
   "execution_count": 8
  },
  {
   "cell_type": "code",
   "outputs": [],
   "source": [
    "def scenario_creator(scenario_name):\n",
    "    if scenario_name=='good':\n",
    "        ns = 12\n",
    "    elif scenario_name=='average':\n",
    "        ns = 9\n",
    "    elif scenario_name=='bad':\n",
    "        ns = 6\n",
    "    else:\n",
    "        raise ValueError(\"Unrecognized scenario name\")\n",
    "    \n",
    "    cap_factor = pandas.DataFrame(data={'com1_procure': [1]*ns + [0]*(_exec_scenarios-ns)})\n",
    "    # scenario_probabilities = {'good': 0.25, 'average': 0.5, 'bad':0.25} \n",
    "    scen, model = build_model(cap_factor=cap_factor)\n",
    "    sputils.attach_root_node(model, model.first_stage_cost, [model.X_P])\n",
    "    model._mpisppy_probability = scenario_probabilities[scenario_name]\n",
    "    return model"
   ],
   "metadata": {
    "collapsed": false,
    "ExecuteTime": {
     "end_time": "2024-04-05T14:28:26.066430Z",
     "start_time": "2024-04-05T14:28:26.062489Z"
    }
   },
   "id": "570e0330063017ee",
   "execution_count": 9
  },
  {
   "cell_type": "code",
   "outputs": [
    {
     "name": "stdout",
     "output_type": "stream",
     "text": [
      "[    2.09] Initializing SPBase\n",
      "constraint process capex\n",
      "constraint process fopex\n",
      "constraint process vopex\n",
      "constraint process incidental\n",
      "constraint storage cost\n",
      "constraint storage cost location\n",
      "constraint storage cost network\n",
      "constraint production mode\n",
      "constraint inventory balance\n",
      "constraint inventory network\n",
      "constraint storage facility\n",
      "constraint production facility\n",
      "constraint min production facility\n",
      "constraint min storage facility\n",
      "constraint demand penalty\n",
      "objective cost w demand penalty\n",
      "constraint process capex\n",
      "constraint process fopex\n",
      "constraint process vopex\n",
      "constraint process incidental\n",
      "constraint storage cost\n",
      "constraint storage cost location\n",
      "constraint storage cost network\n",
      "constraint production mode\n",
      "constraint inventory balance\n",
      "constraint inventory network\n",
      "constraint storage facility\n",
      "constraint production facility\n",
      "constraint min production facility\n",
      "constraint min storage facility\n",
      "constraint demand penalty\n",
      "objective cost w demand penalty\n",
      "constraint process capex\n",
      "constraint process fopex\n",
      "constraint process vopex\n",
      "constraint process incidental\n",
      "constraint storage cost\n",
      "constraint storage cost location\n",
      "constraint storage cost network\n",
      "constraint production mode\n",
      "constraint inventory balance\n",
      "constraint inventory network\n",
      "constraint storage facility\n",
      "constraint production facility\n",
      "constraint min production facility\n",
      "constraint min storage facility\n",
      "constraint demand penalty\n",
      "objective cost w demand penalty\n"
     ]
    }
   ],
   "source": [
    "from mpisppy.opt.ef import ExtensiveForm\n",
    "\n",
    "options = {\"solver\": \"gurobi\"}\n",
    "all_scenario_names = [\"good\", \"average\", \"bad\"]\n",
    "ef = ExtensiveForm(options, all_scenario_names, scenario_creator)\n",
    "results = ef.solve_extensive_form()"
   ],
   "metadata": {
    "collapsed": false,
    "ExecuteTime": {
     "end_time": "2024-04-05T14:28:27.573987Z",
     "start_time": "2024-04-05T14:28:26.067191Z"
    }
   },
   "id": "a2f11fb6c4aee764",
   "execution_count": 10
  },
  {
   "cell_type": "code",
   "outputs": [
    {
     "name": "stdout",
     "output_type": "stream",
     "text": [
      "2560.950\n"
     ]
    }
   ],
   "source": [
    "exCost_UI = ef.get_objective_value()\n",
    "print(f\"{exCost_UI:.3f}\")"
   ],
   "metadata": {
    "collapsed": false,
    "ExecuteTime": {
     "end_time": "2024-04-05T14:28:27.582511Z",
     "start_time": "2024-04-05T14:28:27.576320Z"
    }
   },
   "id": "a1104ef40f9ba8f8",
   "execution_count": 11
  },
  {
   "cell_type": "code",
   "outputs": [
    {
     "data": {
      "text/plain": "25.642499999999927"
     },
     "execution_count": 12,
     "metadata": {},
     "output_type": "execute_result"
    }
   ],
   "source": [
    "EVPI = exCost_UI - exCost_PI\n",
    "EVPI"
   ],
   "metadata": {
    "collapsed": false,
    "ExecuteTime": {
     "end_time": "2024-04-05T14:28:27.582858Z",
     "start_time": "2024-04-05T14:28:27.579950Z"
    }
   },
   "id": "3288f44b03fba042",
   "execution_count": 12
  },
  {
   "cell_type": "code",
   "outputs": [
    {
     "name": "stdout",
     "output_type": "stream",
     "text": [
      "X_P[loc1,com1_loc1_send,0] 0.0\n",
      "X_P[loc1,com1_process,0] 1.0\n",
      "X_P[loc1,com1_store20,0] -0.0\n",
      "X_P[loc1,com1_store20_discharge,0] 1.0\n",
      "X_P[loc1,procure com1,0] 1.0\n",
      "X_P[loc1,procure optional com1,0] 1.0\n",
      "X_P[loc1,sell com1,0] 1.0\n"
     ]
    }
   ],
   "source": [
    "soln = ef.get_root_solution()\n",
    "for (var_name, var_val) in soln.items():\n",
    "    print(var_name, var_val)"
   ],
   "metadata": {
    "collapsed": false,
    "ExecuteTime": {
     "end_time": "2024-04-05T14:28:27.586809Z",
     "start_time": "2024-04-05T14:28:27.583497Z"
    }
   },
   "id": "884039af5d673c43",
   "execution_count": 13
  },
  {
   "cell_type": "code",
   "outputs": [],
   "source": [
    "# from mpisppy.opt.lshaped import LShapedMethod\n",
    "# \n",
    "# all_scenario_names = [\"good\", \"average\", \"bad\"]\n",
    "# bounds = {name: -432000 for name in all_scenario_names}\n",
    "# options = {\n",
    "#     \"root_solver\": \"gurobi\",\n",
    "#     \"sp_solver\": \"gurobi\",\n",
    "#     \"sp_solver_options\" : {\"threads\" : 1},\n",
    "#     \"valid_eta_lb\": bounds,\n",
    "#     \"max_iter\": 10,\n",
    "# }\n",
    "# \n",
    "# ls = LShapedMethod(options, all_scenario_names, scenario_creator)\n",
    "# result = ls.lshaped_algorithm()\n",
    "# \n",
    "# variables = ls.gather_var_values_to_rank0()\n",
    "# for ((scen_name, var_name), var_value) in variables.items():\n",
    "#     print(scen_name, var_name, var_value)"
   ],
   "metadata": {
    "collapsed": false,
    "ExecuteTime": {
     "end_time": "2024-04-05T14:28:27.590409Z",
     "start_time": "2024-04-05T14:28:27.588214Z"
    }
   },
   "id": "fe4d05f6961b90a5",
   "execution_count": 14
  },
  {
   "cell_type": "code",
   "outputs": [
    {
     "name": "stdout",
     "output_type": "stream",
     "text": [
      "constraint process capex\n",
      "constraint process fopex\n",
      "constraint process vopex\n",
      "constraint process incidental\n",
      "constraint storage cost\n",
      "constraint storage cost location\n",
      "constraint storage cost network\n",
      "constraint production mode\n",
      "constraint inventory balance\n",
      "constraint inventory network\n",
      "constraint storage facility\n",
      "constraint production facility\n",
      "constraint min production facility\n",
      "constraint min storage facility\n",
      "constraint demand penalty\n",
      "objective cost w demand penalty\n"
     ]
    },
    {
     "data": {
      "text/plain": "{'Problem': [{'Name': 'x1', 'Lower bound': 2894.25, 'Upper bound': 2894.25, 'Number of objectives': 1, 'Number of constraints': 8724, 'Number of variables': 6915, 'Number of binary variables': 7, 'Number of integer variables': 7, 'Number of continuous variables': 6908, 'Number of nonzeros': 22744, 'Sense': 'minimize'}], 'Solver': [{'Status': 'ok', 'Return code': '0', 'Message': 'Model was solved to optimality (subject to tolerances), and an optimal solution is available.', 'Termination condition': 'optimal', 'Termination message': 'Model was solved to optimality (subject to tolerances), and an optimal solution is available.', 'Wall time': '0.01388692855834961', 'Error rc': 0, 'Time': 0.08237290382385254}], 'Solution': [OrderedDict([('number of solutions', 0), ('number of solutions displayed', 0)])]}"
     },
     "execution_count": 15,
     "metadata": {},
     "output_type": "execute_result"
    }
   ],
   "source": [
    "n = 9\n",
    "cap_factor = pandas.DataFrame(data={'com1_procure': [1]*n + [0]*(_exec_scenarios-n)})\n",
    "scen, model = build_model(cap_factor=cap_factor)\n",
    "\n",
    "for loc in model.locations:\n",
    "        model.X_P[loc,\"procure com1\",scen.network_scale_level].fixed= True\n",
    "        model.X_P[loc,\"procure com1\",scen.network_scale_level].value= 1\n",
    "\n",
    "solver = SolverFactory(\"gurobi\")\n",
    "solver.solve(model)"
   ],
   "metadata": {
    "collapsed": false,
    "ExecuteTime": {
     "end_time": "2024-04-05T14:28:28.126456Z",
     "start_time": "2024-04-05T14:28:27.608024Z"
    }
   },
   "id": "36d323c45bb9f268",
   "execution_count": 15
  },
  {
   "cell_type": "code",
   "outputs": [
    {
     "name": "stdout",
     "output_type": "stream",
     "text": [
      "2894.250\n"
     ]
    }
   ],
   "source": [
    "print(f\"{value(model.objective_cost_w_demand_penalty):.3f}\")"
   ],
   "metadata": {
    "collapsed": false,
    "ExecuteTime": {
     "end_time": "2024-04-05T14:28:28.127636Z",
     "start_time": "2024-04-05T14:28:28.126027Z"
    }
   },
   "id": "4733eae7f673376a",
   "execution_count": 16
  },
  {
   "cell_type": "code",
   "outputs": [
    {
     "name": "stdout",
     "output_type": "stream",
     "text": [
      "X_P : Process Binary\n",
      "    Size=7, Index=X_P_index\n",
      "    Key                                   : Lower : Value : Upper : Fixed : Stale : Domain\n",
      "            ('loc1', 'com1_loc1_send', 0) :     0 :   0.0 :     1 : False : False : Binary\n",
      "              ('loc1', 'com1_process', 0) :     0 :   1.0 :     1 : False : False : Binary\n",
      "              ('loc1', 'com1_store20', 0) :     0 :  -0.0 :     1 : False : False : Binary\n",
      "    ('loc1', 'com1_store20_discharge', 0) :     0 :   1.0 :     1 : False : False : Binary\n",
      "              ('loc1', 'procure com1', 0) :     0 :     1 :     1 :  True :  True : Binary\n",
      "     ('loc1', 'procure optional com1', 0) :     0 :   1.0 :     1 : False : False : Binary\n",
      "                 ('loc1', 'sell com1', 0) :     0 :   1.0 :     1 : False : False : Binary\n"
     ]
    }
   ],
   "source": [
    "model.X_P.pprint()"
   ],
   "metadata": {
    "collapsed": false,
    "ExecuteTime": {
     "end_time": "2024-04-05T14:28:28.131528Z",
     "start_time": "2024-04-05T14:28:28.128992Z"
    }
   },
   "id": "da2d7d33b3acf222",
   "execution_count": 17
  },
  {
   "cell_type": "code",
   "outputs": [
    {
     "name": "stdout",
     "output_type": "stream",
     "text": [
      "constraint process capex\n",
      "constraint process fopex\n",
      "constraint process vopex\n",
      "constraint process incidental\n",
      "constraint storage cost\n",
      "constraint storage cost location\n",
      "constraint storage cost network\n",
      "constraint production mode\n",
      "constraint inventory balance\n",
      "constraint inventory network\n",
      "constraint storage facility\n",
      "constraint production facility\n",
      "constraint min production facility\n",
      "constraint min storage facility\n",
      "constraint demand penalty\n",
      "objective cost w demand penalty\n",
      "constraint process capex\n",
      "constraint process fopex\n",
      "constraint process vopex\n",
      "constraint process incidental\n",
      "constraint storage cost\n",
      "constraint storage cost location\n",
      "constraint storage cost network\n",
      "constraint production mode\n",
      "constraint inventory balance\n",
      "constraint inventory network\n",
      "constraint storage facility\n",
      "constraint production facility\n",
      "constraint min production facility\n",
      "constraint min storage facility\n",
      "constraint demand penalty\n",
      "objective cost w demand penalty\n",
      "constraint process capex\n",
      "constraint process fopex\n",
      "constraint process vopex\n",
      "constraint process incidental\n",
      "constraint storage cost\n",
      "constraint storage cost location\n",
      "constraint storage cost network\n",
      "constraint production mode\n",
      "constraint inventory balance\n",
      "constraint inventory network\n",
      "constraint storage facility\n",
      "constraint production facility\n",
      "constraint min production facility\n",
      "constraint min storage facility\n",
      "constraint demand penalty\n",
      "objective cost w demand penalty\n"
     ]
    }
   ],
   "source": [
    "#Value of Stochastic Solution\n",
    "all_scenario_names = [\"good\", \"average\", \"bad\"]\n",
    "ns_dict = {'good': 12, \"average\": 9, \"bad\": 6}\n",
    "# scenario_probabilities = {'good': 0.25, 'average': 0.5, 'bad':0.25} \n",
    "exCost_FD = 0\n",
    "\n",
    "for scenario_name in all_scenario_names:\n",
    "    cap_factor = pandas.DataFrame(data={'com1_procure': [1]*ns_dict[scenario_name] + [0]*(_exec_scenarios-ns_dict[scenario_name])})\n",
    "    scen, model = build_model(cap_factor=cap_factor)\n",
    "    for process in scen.location_process_dict['loc1']:\n",
    "        model.X_P['loc1', process, scen.network_scale_level].fixed= True\n",
    "\n",
    "    model.X_P['loc1','com1_loc1_send',0].value = 0.0\n",
    "    model.X_P['loc1','com1_process',0].value = 1.0\n",
    "    model.X_P['loc1','com1_store20',0].value = 0.0\n",
    "    model.X_P['loc1','com1_store20_discharge',0].value = 1.0\n",
    "    model.X_P['loc1','procure com1',0].value = 1.0\n",
    "    model.X_P['loc1','procure optional com1',0].value = 1.0\n",
    "    model.X_P['loc1','sell com1',0].value = 1.0\n",
    "    \n",
    "    solver = SolverFactory(\"gurobi\")\n",
    "    solver.solve(model)\n",
    "    \n",
    "    exCost_FD += value(model.objective_cost_w_demand_penalty)*scenario_probabilities[scenario_name]"
   ],
   "metadata": {
    "collapsed": false,
    "ExecuteTime": {
     "end_time": "2024-04-05T14:28:29.747273Z",
     "start_time": "2024-04-05T14:28:28.137773Z"
    }
   },
   "id": "6abb12db1ec380d",
   "execution_count": 18
  },
  {
   "cell_type": "code",
   "outputs": [
    {
     "data": {
      "text/plain": "0.032999999999901775"
     },
     "execution_count": 19,
     "metadata": {},
     "output_type": "execute_result"
    }
   ],
   "source": [
    "VSS = exCost_FD - exCost_PI\n",
    "VSS"
   ],
   "metadata": {
    "collapsed": false,
    "ExecuteTime": {
     "end_time": "2024-04-05T14:28:29.750966Z",
     "start_time": "2024-04-05T14:28:29.749034Z"
    }
   },
   "id": "a606e5f208a2c121",
   "execution_count": 19
  },
  {
   "cell_type": "code",
   "outputs": [
    {
     "data": {
      "text/plain": "25.642499999999927"
     },
     "execution_count": 20,
     "metadata": {},
     "output_type": "execute_result"
    }
   ],
   "source": [
    "EVPI"
   ],
   "metadata": {
    "collapsed": false,
    "ExecuteTime": {
     "end_time": "2024-04-05T14:28:29.754812Z",
     "start_time": "2024-04-05T14:28:29.752240Z"
    }
   },
   "id": "b6d7e0f465821767",
   "execution_count": 20
  },
  {
   "cell_type": "code",
   "execution_count": 20,
   "outputs": [],
   "source": [],
   "metadata": {
    "collapsed": false,
    "ExecuteTime": {
     "end_time": "2024-04-05T14:28:29.757920Z",
     "start_time": "2024-04-05T14:28:29.754732Z"
    }
   },
   "id": "2e2887c8316339d8"
  }
 ],
 "metadata": {
  "kernelspec": {
   "display_name": "Python 3",
   "language": "python",
   "name": "python3"
  },
  "language_info": {
   "codemirror_mode": {
    "name": "ipython",
    "version": 2
   },
   "file_extension": ".py",
   "mimetype": "text/x-python",
   "name": "python",
   "nbconvert_exporter": "python",
   "pygments_lexer": "ipython2",
   "version": "2.7.6"
  }
 },
 "nbformat": 4,
 "nbformat_minor": 5
}
