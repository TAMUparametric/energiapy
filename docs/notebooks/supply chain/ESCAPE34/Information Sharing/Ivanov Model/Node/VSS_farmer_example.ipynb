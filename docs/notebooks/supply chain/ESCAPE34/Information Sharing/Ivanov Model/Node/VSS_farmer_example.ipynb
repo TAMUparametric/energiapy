{
 "cells": [
  {
   "cell_type": "code",
   "execution_count": 10,
   "id": "initial_id",
   "metadata": {
    "collapsed": true,
    "ExecuteTime": {
     "end_time": "2024-04-04T20:01:12.659146Z",
     "start_time": "2024-04-04T20:01:12.650721Z"
    }
   },
   "outputs": [],
   "source": [
    "from pyomo.environ import *\n"
   ]
  },
  {
   "cell_type": "code",
   "outputs": [],
   "source": [
    "def build_model(yields):\n",
    "    model = ConcreteModel()\n",
    "\n",
    "    # Variables\n",
    "    model.X = Var([\"WHEAT\", \"CORN\", \"BEETS\"], within=NonNegativeReals)\n",
    "    model.Y = Var([\"WHEAT\", \"CORN\"], within=NonNegativeReals)\n",
    "    model.W = Var(\n",
    "        [\"WHEAT\", \"CORN\", \"BEETS_FAVORABLE\", \"BEETS_UNFAVORABLE\"],\n",
    "        within=NonNegativeReals,\n",
    "    )\n",
    "\n",
    "    # Objective function\n",
    "    model.PLANTING_COST = 150 * model.X[\"WHEAT\"] + 230 * model.X[\"CORN\"] + 260 * model.X[\"BEETS\"]\n",
    "    model.PURCHASE_COST = 238 * model.Y[\"WHEAT\"] + 210 * model.Y[\"CORN\"]\n",
    "    model.SALES_REVENUE = (\n",
    "        170 * model.W[\"WHEAT\"] + 150 * model.W[\"CORN\"]\n",
    "        + 36 * model.W[\"BEETS_FAVORABLE\"] + 10 * model.W[\"BEETS_UNFAVORABLE\"]\n",
    "    )\n",
    "    model.OBJ = Objective(\n",
    "        expr=model.PLANTING_COST + model.PURCHASE_COST - model.SALES_REVENUE,\n",
    "        sense=minimize\n",
    "    )\n",
    "\n",
    "    # Constraints\n",
    "    model.CONSTR= ConstraintList()\n",
    "\n",
    "    model.CONSTR.add(summation(model.X) <= 500)\n",
    "    model.CONSTR.add(\n",
    "        yields[0] * model.X[\"WHEAT\"] + model.Y[\"WHEAT\"] - model.W[\"WHEAT\"] >= 200\n",
    "    )\n",
    "    model.CONSTR.add(\n",
    "        yields[1] * model.X[\"CORN\"] + model.Y[\"CORN\"] - model.W[\"CORN\"] >= 240\n",
    "    )\n",
    "    model.CONSTR.add(\n",
    "        yields[2] * model.X[\"BEETS\"] - model.W[\"BEETS_FAVORABLE\"] - model.W[\"BEETS_UNFAVORABLE\"] >= 0\n",
    "    )\n",
    "    model.W[\"BEETS_FAVORABLE\"].setub(6000)\n",
    "    \n",
    "    model.CONSTR.add(model.X[\"WHEAT\"] == 120)\n",
    "    model.CONSTR.add(model.X[\"CORN\"] == 80)\n",
    "    model.CONSTR.add(model.X[\"BEETS\"] == 300)\n",
    "\n",
    "    return model"
   ],
   "metadata": {
    "collapsed": false,
    "ExecuteTime": {
     "end_time": "2024-04-04T20:01:12.675093Z",
     "start_time": "2024-04-04T20:01:12.660159Z"
    }
   },
   "id": "d11d8c9d81a385ea",
   "execution_count": 11
  },
  {
   "cell_type": "code",
   "outputs": [
    {
     "data": {
      "text/plain": "{'Problem': [{'Name': 'x1', 'Lower bound': -118600.0, 'Upper bound': -118600.0, 'Number of objectives': 1, 'Number of constraints': 7, 'Number of variables': 9, 'Number of binary variables': 0, 'Number of integer variables': 0, 'Number of continuous variables': 9, 'Number of nonzeros': 15, 'Sense': 'minimize'}], 'Solver': [{'Status': 'ok', 'Return code': '0', 'Message': 'Model was solved to optimality (subject to tolerances), and an optimal solution is available.', 'Termination condition': 'optimal', 'Termination message': 'Model was solved to optimality (subject to tolerances), and an optimal solution is available.', 'Wall time': '0.0019998550415039062', 'Error rc': 0, 'Time': 0.14982223510742188}], 'Solution': [OrderedDict([('number of solutions', 0), ('number of solutions displayed', 0)])]}"
     },
     "execution_count": 12,
     "metadata": {},
     "output_type": "execute_result"
    }
   ],
   "source": [
    "avg_yields = [2.5, 3, 20]\n",
    "avg_model = build_model(avg_yields)\n",
    "avg_solver = SolverFactory(\"gurobi\")\n",
    "avg_solver.solve(avg_model)"
   ],
   "metadata": {
    "collapsed": false,
    "ExecuteTime": {
     "end_time": "2024-04-04T20:01:12.846951Z",
     "start_time": "2024-04-04T20:01:12.676094Z"
    }
   },
   "id": "9b7d7ba0d45ee641",
   "execution_count": 12
  },
  {
   "cell_type": "code",
   "outputs": [
    {
     "data": {
      "text/plain": "{'Problem': [{'Name': 'x1', 'Lower bound': -55120.0, 'Upper bound': -55120.0, 'Number of objectives': 1, 'Number of constraints': 7, 'Number of variables': 9, 'Number of binary variables': 0, 'Number of integer variables': 0, 'Number of continuous variables': 9, 'Number of nonzeros': 15, 'Sense': 'minimize'}], 'Solver': [{'Status': 'ok', 'Return code': '0', 'Message': 'Model was solved to optimality (subject to tolerances), and an optimal solution is available.', 'Termination condition': 'optimal', 'Termination message': 'Model was solved to optimality (subject to tolerances), and an optimal solution is available.', 'Wall time': '0.0009999275207519531', 'Error rc': 0, 'Time': 0.14844703674316406}], 'Solution': [OrderedDict([('number of solutions', 0), ('number of solutions displayed', 0)])]}"
     },
     "execution_count": 13,
     "metadata": {},
     "output_type": "execute_result"
    }
   ],
   "source": [
    "bel_yields = [2, 2.4, 16]\n",
    "bel_model = build_model(bel_yields)\n",
    "bel_solver = SolverFactory(\"gurobi\")\n",
    "bel_solver.solve(bel_model)"
   ],
   "metadata": {
    "collapsed": false,
    "ExecuteTime": {
     "end_time": "2024-04-04T20:01:13.019838Z",
     "start_time": "2024-04-04T20:01:12.847969Z"
    }
   },
   "id": "22e3defcf74bc896",
   "execution_count": 13
  },
  {
   "cell_type": "code",
   "outputs": [
    {
     "data": {
      "text/plain": "{'Problem': [{'Name': 'x1', 'Lower bound': -148000.0, 'Upper bound': -148000.0, 'Number of objectives': 1, 'Number of constraints': 7, 'Number of variables': 9, 'Number of binary variables': 0, 'Number of integer variables': 0, 'Number of continuous variables': 9, 'Number of nonzeros': 15, 'Sense': 'minimize'}], 'Solver': [{'Status': 'ok', 'Return code': '0', 'Message': 'Model was solved to optimality (subject to tolerances), and an optimal solution is available.', 'Termination condition': 'optimal', 'Termination message': 'Model was solved to optimality (subject to tolerances), and an optimal solution is available.', 'Wall time': '0.0', 'Error rc': 0, 'Time': 0.15018343925476074}], 'Solution': [OrderedDict([('number of solutions', 0), ('number of solutions displayed', 0)])]}"
     },
     "execution_count": 14,
     "metadata": {},
     "output_type": "execute_result"
    }
   ],
   "source": [
    "abo_yields = [3, 3.6, 24]\n",
    "abo_model = build_model(abo_yields)\n",
    "abo_solver = SolverFactory(\"gurobi\")\n",
    "abo_solver.solve(abo_model)"
   ],
   "metadata": {
    "collapsed": false,
    "ExecuteTime": {
     "end_time": "2024-04-04T20:01:13.192405Z",
     "start_time": "2024-04-04T20:01:13.020880Z"
    }
   },
   "id": "ec072d59ace46287",
   "execution_count": 14
  },
  {
   "cell_type": "code",
   "outputs": [
    {
     "name": "stdout",
     "output_type": "stream",
     "text": [
      "-55120.0\n"
     ]
    }
   ],
   "source": [
    "print(f\"{value(bel_model.OBJ):.1f}\")"
   ],
   "metadata": {
    "collapsed": false,
    "ExecuteTime": {
     "end_time": "2024-04-04T20:01:13.208171Z",
     "start_time": "2024-04-04T20:01:13.193507Z"
    }
   },
   "id": "516d4605619a9609",
   "execution_count": 15
  },
  {
   "cell_type": "code",
   "outputs": [
    {
     "name": "stdout",
     "output_type": "stream",
     "text": [
      "-118600.0\n"
     ]
    }
   ],
   "source": [
    "print(f\"{value(avg_model.OBJ):.1f}\")"
   ],
   "metadata": {
    "collapsed": false,
    "ExecuteTime": {
     "end_time": "2024-04-04T20:01:13.223772Z",
     "start_time": "2024-04-04T20:01:13.209311Z"
    }
   },
   "id": "e9c7a225c529cffa",
   "execution_count": 16
  },
  {
   "cell_type": "code",
   "outputs": [
    {
     "name": "stdout",
     "output_type": "stream",
     "text": [
      "-148000.0\n"
     ]
    }
   ],
   "source": [
    "print(f\"{value(abo_model.OBJ):.1f}\")"
   ],
   "metadata": {
    "collapsed": false,
    "ExecuteTime": {
     "end_time": "2024-04-04T20:01:13.239371Z",
     "start_time": "2024-04-04T20:01:13.224819Z"
    }
   },
   "id": "fc11d93c0b5586dd",
   "execution_count": 17
  },
  {
   "cell_type": "code",
   "outputs": [
    {
     "name": "stdout",
     "output_type": "stream",
     "text": [
      "-107240.000\n"
     ]
    }
   ],
   "source": [
    "print(f\"{(value(bel_model.OBJ) + value(avg_model.OBJ) + value(abo_model.OBJ))/3:.3f}\")"
   ],
   "metadata": {
    "collapsed": false,
    "ExecuteTime": {
     "end_time": "2024-04-04T20:01:13.254661Z",
     "start_time": "2024-04-04T20:01:13.240386Z"
    }
   },
   "id": "f962fad6c4558409",
   "execution_count": 18
  }
 ],
 "metadata": {
  "kernelspec": {
   "display_name": "Python 3",
   "language": "python",
   "name": "python3"
  },
  "language_info": {
   "codemirror_mode": {
    "name": "ipython",
    "version": 2
   },
   "file_extension": ".py",
   "mimetype": "text/x-python",
   "name": "python",
   "nbconvert_exporter": "python",
   "pygments_lexer": "ipython2",
   "version": "2.7.6"
  }
 },
 "nbformat": 4,
 "nbformat_minor": 5
}
