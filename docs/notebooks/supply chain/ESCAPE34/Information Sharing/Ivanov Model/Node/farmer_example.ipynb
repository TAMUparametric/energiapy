{
 "cells": [
  {
   "cell_type": "code",
   "execution_count": 1,
   "id": "initial_id",
   "metadata": {
    "collapsed": true,
    "ExecuteTime": {
     "end_time": "2024-04-04T15:51:49.601565Z",
     "start_time": "2024-04-04T15:51:49.134458Z"
    }
   },
   "outputs": [
    {
     "name": "stdout",
     "output_type": "stream",
     "text": [
      "[    0.00] Initializing mpi-sppy\n"
     ]
    }
   ],
   "source": [
    "from pyomo.environ import *\n",
    "import mpisppy.utils.sputils as sputils\n",
    "import matplotlib.pyplot as plt\n",
    "from matplotlib import rc"
   ]
  },
  {
   "cell_type": "code",
   "outputs": [],
   "source": [
    "def build_model(yields):\n",
    "    model = ConcreteModel()\n",
    "\n",
    "    # Variables\n",
    "    model.X = Var([\"WHEAT\", \"CORN\", \"BEETS\"], within=NonNegativeReals)\n",
    "    model.Y = Var([\"WHEAT\", \"CORN\"], within=NonNegativeReals)\n",
    "    model.W = Var(\n",
    "        [\"WHEAT\", \"CORN\", \"BEETS_FAVORABLE\", \"BEETS_UNFAVORABLE\"],\n",
    "        within=NonNegativeReals,\n",
    "    )\n",
    "\n",
    "    # Objective function\n",
    "    model.PLANTING_COST = 150 * model.X[\"WHEAT\"] + 230 * model.X[\"CORN\"] + 260 * model.X[\"BEETS\"]\n",
    "    model.PURCHASE_COST = 238 * model.Y[\"WHEAT\"] + 210 * model.Y[\"CORN\"]\n",
    "    model.SALES_REVENUE = (\n",
    "        170 * model.W[\"WHEAT\"] + 150 * model.W[\"CORN\"]\n",
    "        + 36 * model.W[\"BEETS_FAVORABLE\"] + 10 * model.W[\"BEETS_UNFAVORABLE\"]\n",
    "    )\n",
    "    model.OBJ = Objective(\n",
    "        expr=model.PLANTING_COST + model.PURCHASE_COST - model.SALES_REVENUE,\n",
    "        sense=minimize\n",
    "    )\n",
    "\n",
    "    # Constraints\n",
    "    model.CONSTR= ConstraintList()\n",
    "\n",
    "    model.CONSTR.add(summation(model.X) <= 500)\n",
    "    model.CONSTR.add(\n",
    "        yields[0] * model.X[\"WHEAT\"] + model.Y[\"WHEAT\"] - model.W[\"WHEAT\"] >= 200\n",
    "    )\n",
    "    model.CONSTR.add(\n",
    "        yields[1] * model.X[\"CORN\"] + model.Y[\"CORN\"] - model.W[\"CORN\"] >= 240\n",
    "    )\n",
    "    model.CONSTR.add(\n",
    "        yields[2] * model.X[\"BEETS\"] - model.W[\"BEETS_FAVORABLE\"] - model.W[\"BEETS_UNFAVORABLE\"] >= 0\n",
    "    )\n",
    "    model.W[\"BEETS_FAVORABLE\"].setub(6000)\n",
    "\n",
    "    return model"
   ],
   "metadata": {
    "collapsed": false,
    "ExecuteTime": {
     "end_time": "2024-04-04T15:51:49.617210Z",
     "start_time": "2024-04-04T15:51:49.602595Z"
    }
   },
   "id": "eb135abdc4cd74ce",
   "execution_count": 2
  },
  {
   "cell_type": "code",
   "outputs": [
    {
     "data": {
      "text/plain": "{'Problem': [{'Name': 'x1', 'Lower bound': -118600.0, 'Upper bound': -118600.0, 'Number of objectives': 1, 'Number of constraints': 4, 'Number of variables': 9, 'Number of binary variables': 0, 'Number of integer variables': 0, 'Number of continuous variables': 9, 'Number of nonzeros': 12, 'Sense': 'minimize'}], 'Solver': [{'Status': 'ok', 'Return code': '0', 'Message': 'Model was solved to optimality (subject to tolerances), and an optimal solution is available.', 'Termination condition': 'optimal', 'Termination message': 'Model was solved to optimality (subject to tolerances), and an optimal solution is available.', 'Wall time': '0.0', 'Error rc': 0, 'Time': 0.16315460205078125}], 'Solution': [OrderedDict([('number of solutions', 0), ('number of solutions displayed', 0)])]}"
     },
     "execution_count": 3,
     "metadata": {},
     "output_type": "execute_result"
    }
   ],
   "source": [
    "yields = [2.5, 3, 20]\n",
    "model = build_model(yields)\n",
    "solver = SolverFactory(\"gurobi\")\n",
    "solver.solve(model)"
   ],
   "metadata": {
    "collapsed": false,
    "ExecuteTime": {
     "end_time": "2024-04-04T15:51:49.836100Z",
     "start_time": "2024-04-04T15:51:49.618223Z"
    }
   },
   "id": "c2269352d7241e81",
   "execution_count": 3
  },
  {
   "cell_type": "code",
   "outputs": [
    {
     "name": "stdout",
     "output_type": "stream",
     "text": [
      "-118600.0\n"
     ]
    }
   ],
   "source": [
    "print(f\"{value(model.OBJ):.1f}\")"
   ],
   "metadata": {
    "collapsed": false,
    "ExecuteTime": {
     "end_time": "2024-04-04T15:51:49.852227Z",
     "start_time": "2024-04-04T15:51:49.837113Z"
    }
   },
   "id": "aabfa2d9da52fdfa",
   "execution_count": 4
  },
  {
   "cell_type": "code",
   "outputs": [],
   "source": [
    "import mpisppy.utils.sputils as sputils\n",
    "\n",
    "def scenario_creator(scenario_name):\n",
    "    if scenario_name == \"good\":\n",
    "        yields = [3, 3.6, 24]\n",
    "    elif scenario_name == \"average\":\n",
    "        yields = [2.5, 3, 20]\n",
    "    elif scenario_name == \"bad\":\n",
    "        yields = [2, 2.4, 16]\n",
    "    else:\n",
    "        raise ValueError(\"Unrecognized scenario name\")\n",
    "    \n",
    "    scenario_probabilities = {'good': 0.33, 'average': 0.33, 'bad':0.33} \n",
    "    model = build_model(yields)\n",
    "    sputils.attach_root_node(model, model.PLANTING_COST, [model.X])\n",
    "    model._mpisppy_probability = scenario_probabilities[scenario_name]\n",
    "    # model.pprint()\n",
    "    return model"
   ],
   "metadata": {
    "collapsed": false,
    "ExecuteTime": {
     "end_time": "2024-04-04T15:51:49.867860Z",
     "start_time": "2024-04-04T15:51:49.853291Z"
    }
   },
   "id": "b0776bc775c6d373",
   "execution_count": 5
  },
  {
   "cell_type": "code",
   "outputs": [
    {
     "name": "stdout",
     "output_type": "stream",
     "text": [
      "[    0.53] Initializing SPBase\n",
      "-108390.00\n"
     ]
    }
   ],
   "source": [
    "from mpisppy.opt.ef import ExtensiveForm\n",
    "\n",
    "options = {\"solver\": \"gurobi\"}\n",
    "all_scenario_names = [\"good\", \"average\", \"bad\"]\n",
    "ef = ExtensiveForm(options, all_scenario_names, scenario_creator)\n",
    "results = ef.solve_extensive_form()\n",
    "\n",
    "objval = ef.get_objective_value()\n",
    "print(f\"{objval:.2f}\")"
   ],
   "metadata": {
    "collapsed": false,
    "ExecuteTime": {
     "end_time": "2024-04-04T15:51:50.036703Z",
     "start_time": "2024-04-04T15:51:49.868874Z"
    }
   },
   "id": "d53328b9224f88a",
   "execution_count": 6
  },
  {
   "cell_type": "code",
   "outputs": [
    {
     "name": "stdout",
     "output_type": "stream",
     "text": [
      "X[BEETS] 250.0\n",
      "X[CORN] 80.0\n",
      "X[WHEAT] 170.0\n"
     ]
    }
   ],
   "source": [
    "soln = ef.get_root_solution()\n",
    "for (var_name, var_val) in soln.items():\n",
    "    print(var_name, var_val)"
   ],
   "metadata": {
    "collapsed": false,
    "ExecuteTime": {
     "end_time": "2024-04-04T15:51:50.052445Z",
     "start_time": "2024-04-04T15:51:50.037699Z"
    }
   },
   "id": "70db45a1419f6796",
   "execution_count": 7
  },
  {
   "cell_type": "code",
   "outputs": [],
   "source": [
    "# from mpisppy.opt.ph import PH\n",
    "# \n",
    "# options = {\n",
    "#     \"solver_name\": \"gurobi\",\n",
    "#     \"PHIterLimit\": 5,\n",
    "#     \"defaultPHrho\": 10,\n",
    "#     \"convthresh\": 1e-7,\n",
    "#     \"verbose\": False,\n",
    "#     \"display_progress\": False,\n",
    "#     \"display_timing\": False,\n",
    "#     \"iter0_solver_options\": dict(),\n",
    "#     \"iterk_solver_options\": dict(),\n",
    "# }\n",
    "# all_scenario_names = [\"good\", \"average\", \"bad\"]\n",
    "# ph = PH(\n",
    "#     options,\n",
    "#     all_scenario_names,\n",
    "#     scenario_creator,\n",
    "# )"
   ],
   "metadata": {
    "collapsed": false,
    "ExecuteTime": {
     "end_time": "2024-04-04T15:51:50.068109Z",
     "start_time": "2024-04-04T15:51:50.055229Z"
    }
   },
   "id": "f9c581a9eaf572ab",
   "execution_count": 8
  },
  {
   "cell_type": "code",
   "outputs": [],
   "source": [
    "# ph.ph_main()"
   ],
   "metadata": {
    "collapsed": false,
    "ExecuteTime": {
     "end_time": "2024-04-04T15:51:50.083622Z",
     "start_time": "2024-04-04T15:51:50.069123Z"
    }
   },
   "id": "2e060978868539a8",
   "execution_count": 9
  },
  {
   "cell_type": "code",
   "outputs": [
    {
     "name": "stdout",
     "output_type": "stream",
     "text": [
      "[    0.75] Initializing SPBase\n",
      "Current Iteration: 1 Time Elapsed:    0.00 Current Objective: -Inf\n",
      "Current Iteration: 2 Time Elapsed:    0.66 Time Spent on Last Master:    0.15 Time Spent Generating Last Cut Set:    0.51 Current Objective: -1296000.00\n",
      "Current Iteration: 3 Time Elapsed:    1.28 Time Spent on Last Master:    0.15 Time Spent Generating Last Cut Set:    0.47 Current Objective: -157100.00\n",
      "Current Iteration: 4 Time Elapsed:    1.93 Time Spent on Last Master:    0.16 Time Spent Generating Last Cut Set:    0.49 Current Objective: -111587.50\n",
      "Converged in 4 iterations.\n",
      "Total Time Elapsed:    2.64 Time Spent on Last Master:    0.17 Time spent verifying second stage:    0.54 Final Objective: -106217.10\n",
      "good X[BEETS] 250.00000000000054\n",
      "good X[CORN] 79.99999999999827\n",
      "good X[WHEAT] 170.00000000000117\n",
      "average X[BEETS] 250.00000000000054\n",
      "average X[CORN] 79.99999999999827\n",
      "average X[WHEAT] 170.00000000000117\n",
      "bad X[BEETS] 250.00000000000054\n",
      "bad X[CORN] 79.99999999999827\n",
      "bad X[WHEAT] 170.00000000000117\n"
     ]
    }
   ],
   "source": [
    "from mpisppy.opt.lshaped import LShapedMethod\n",
    "\n",
    "all_scenario_names = [\"good\", \"average\", \"bad\"]\n",
    "bounds = {name: -432000 for name in all_scenario_names}\n",
    "options = {\n",
    "    \"root_solver\": \"gurobi\",\n",
    "    \"sp_solver\": \"gurobi\",\n",
    "    \"sp_solver_options\" : {\"threads\" : 1},\n",
    "    \"valid_eta_lb\": bounds,\n",
    "    \"max_iter\": 10,\n",
    "}\n",
    "\n",
    "ls = LShapedMethod(options, all_scenario_names, scenario_creator)\n",
    "result = ls.lshaped_algorithm()\n",
    "\n",
    "variables = ls.gather_var_values_to_rank0()\n",
    "for ((scen_name, var_name), var_value) in variables.items():\n",
    "    print(scen_name, var_name, var_value)"
   ],
   "metadata": {
    "collapsed": false,
    "ExecuteTime": {
     "end_time": "2024-04-04T15:51:52.742007Z",
     "start_time": "2024-04-04T15:51:50.084701Z"
    }
   },
   "id": "e60262dcfde5ea30",
   "execution_count": 10
  },
  {
   "cell_type": "code",
   "outputs": [],
   "source": [],
   "metadata": {
    "collapsed": false,
    "ExecuteTime": {
     "end_time": "2024-04-04T15:51:52.757905Z",
     "start_time": "2024-04-04T15:51:52.743086Z"
    }
   },
   "id": "50e2c747f6050834",
   "execution_count": 10
  }
 ],
 "metadata": {
  "kernelspec": {
   "display_name": "Python 3",
   "language": "python",
   "name": "python3"
  },
  "language_info": {
   "codemirror_mode": {
    "name": "ipython",
    "version": 2
   },
   "file_extension": ".py",
   "mimetype": "text/x-python",
   "name": "python",
   "nbconvert_exporter": "python",
   "pygments_lexer": "ipython2",
   "version": "2.7.6"
  }
 },
 "nbformat": 4,
 "nbformat_minor": 5
}
