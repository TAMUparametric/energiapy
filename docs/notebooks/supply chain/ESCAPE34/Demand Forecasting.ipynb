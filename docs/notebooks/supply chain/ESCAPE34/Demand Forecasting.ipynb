{
 "cells": [
  {
   "cell_type": "code",
   "execution_count": 16,
   "id": "initial_id",
   "metadata": {
    "collapsed": true,
    "ExecuteTime": {
     "end_time": "2024-11-08T02:34:06.791180Z",
     "start_time": "2024-11-08T02:34:06.543047Z"
    }
   },
   "outputs": [],
   "source": [
    "import pandas, random, math\n",
    "import matplotlib.pyplot as plt"
   ]
  },
  {
   "cell_type": "code",
   "outputs": [],
   "source": [
    "# random.seed(1)\n",
    "mean_demand = random.randint(100, 200)\n",
    "noise = [random.randint(math.ceil(-mean_demand/2), math.floor(mean_demand/2)) for _ in range(360)]"
   ],
   "metadata": {
    "collapsed": false,
    "ExecuteTime": {
     "end_time": "2024-11-08T02:31:50.725229Z",
     "start_time": "2024-11-08T02:31:50.713602Z"
    }
   },
   "id": "d4d9c9761e42fdc3",
   "execution_count": 10
  },
  {
   "cell_type": "code",
   "outputs": [],
   "source": [
    "daily_demand = [mean_demand+noise[i] for i in range(360)]"
   ],
   "metadata": {
    "collapsed": false,
    "ExecuteTime": {
     "end_time": "2024-11-08T02:31:51.989305Z",
     "start_time": "2024-11-08T02:31:51.986167Z"
    }
   },
   "id": "cabda0f67634d3c",
   "execution_count": 11
  },
  {
   "cell_type": "code",
   "outputs": [],
   "source": [
    "demand_df = pandas.DataFrame(data={'demand': daily_demand})"
   ],
   "metadata": {
    "collapsed": false,
    "ExecuteTime": {
     "end_time": "2024-11-08T03:10:41.955408Z",
     "start_time": "2024-11-08T03:10:41.946989Z"
    }
   },
   "id": "1b19949c369fb795",
   "execution_count": 26
  },
  {
   "cell_type": "code",
   "outputs": [
    {
     "data": {
      "text/plain": "     demand\n0       148\n1        59\n2        85\n3       125\n4       153\n..      ...\n355      55\n356     108\n357     149\n358      77\n359     109\n\n[360 rows x 1 columns]",
      "text/html": "<div>\n<style scoped>\n    .dataframe tbody tr th:only-of-type {\n        vertical-align: middle;\n    }\n\n    .dataframe tbody tr th {\n        vertical-align: top;\n    }\n\n    .dataframe thead th {\n        text-align: right;\n    }\n</style>\n<table border=\"1\" class=\"dataframe\">\n  <thead>\n    <tr style=\"text-align: right;\">\n      <th></th>\n      <th>demand</th>\n    </tr>\n  </thead>\n  <tbody>\n    <tr>\n      <th>0</th>\n      <td>148</td>\n    </tr>\n    <tr>\n      <th>1</th>\n      <td>59</td>\n    </tr>\n    <tr>\n      <th>2</th>\n      <td>85</td>\n    </tr>\n    <tr>\n      <th>3</th>\n      <td>125</td>\n    </tr>\n    <tr>\n      <th>4</th>\n      <td>153</td>\n    </tr>\n    <tr>\n      <th>...</th>\n      <td>...</td>\n    </tr>\n    <tr>\n      <th>355</th>\n      <td>55</td>\n    </tr>\n    <tr>\n      <th>356</th>\n      <td>108</td>\n    </tr>\n    <tr>\n      <th>357</th>\n      <td>149</td>\n    </tr>\n    <tr>\n      <th>358</th>\n      <td>77</td>\n    </tr>\n    <tr>\n      <th>359</th>\n      <td>109</td>\n    </tr>\n  </tbody>\n</table>\n<p>360 rows × 1 columns</p>\n</div>"
     },
     "execution_count": 27,
     "metadata": {},
     "output_type": "execute_result"
    }
   ],
   "source": [
    "demand_df"
   ],
   "metadata": {
    "collapsed": false,
    "ExecuteTime": {
     "end_time": "2024-11-08T03:10:42.402151Z",
     "start_time": "2024-11-08T03:10:42.390873Z"
    }
   },
   "id": "19857ea5d80bbfe7",
   "execution_count": 27
  },
  {
   "cell_type": "code",
   "outputs": [],
   "source": [
    "# x_values = [i for i in range(360)]\n",
    "# plt.figure(figsize=(12,8))\n",
    "# plt.plot(x_values, daily_demand)\n",
    "# plt.plot(x_values, [mean_demand for _ in range(360)])"
   ],
   "metadata": {
    "collapsed": false,
    "ExecuteTime": {
     "end_time": "2024-11-08T03:10:43.634195Z",
     "start_time": "2024-11-08T03:10:43.623758Z"
    }
   },
   "id": "2673359ed6024ab7",
   "execution_count": 28
  },
  {
   "cell_type": "code",
   "outputs": [
    {
     "name": "stdout",
     "output_type": "stream",
     "text": [
      "         Pred_1      Pred_2      Pred_3      Pred_4      Pred_5\n",
      "0     97.333333   97.333333   97.333333   97.333333   97.333333\n",
      "1     89.666667   89.666667   89.666667   89.666667   89.666667\n",
      "2    121.000000  121.000000  121.000000  121.000000  121.000000\n",
      "3    116.000000  116.000000  116.000000  116.000000  116.000000\n",
      "4    102.666667  102.666667  102.666667  102.666667  102.666667\n",
      "..          ...         ...         ...         ...         ...\n",
      "353   61.000000   61.000000   61.000000   61.000000   61.000000\n",
      "354   75.666667   75.666667   75.666667   75.666667   75.666667\n",
      "355  104.000000  104.000000  104.000000  104.000000  104.000000\n",
      "356  111.333333  111.333333  111.333333  111.333333  111.333333\n",
      "357  111.666667  111.666667  111.666667  111.666667  111.666667\n",
      "\n",
      "[358 rows x 5 columns]\n"
     ]
    }
   ],
   "source": [
    "# pred_horizon = 5\n",
    "# con_horizon = 1\n",
    "# N = 3\n",
    "# \n",
    "# demand_predictions = []\n",
    "# \n",
    "# # Loop through demand data to calculate moving average and project it\n",
    "# for i in range(len(daily_demand) - N + 1):\n",
    "#     # Calculate the moving average for the last N steps\n",
    "#     moving_avg = demand_df['demand'].iloc[i:i+N].mean()\n",
    "#     \n",
    "#     # Create a list of predictions for pred_horizon steps ahead\n",
    "#     predictions = [moving_avg] * pred_horizon\n",
    "#     \n",
    "#     # Append this prediction set to the main list\n",
    "#     demand_predictions.append(predictions)\n",
    "# \n",
    "# # Convert to DataFrame for better visualization if needed\n",
    "# predictions_df = pandas.DataFrame(demand_predictions, columns=[f'Pred_{i+1}' for i in range(pred_horizon)])\n",
    "# \n",
    "# print(predictions_df)"
   ],
   "metadata": {
    "collapsed": false,
    "ExecuteTime": {
     "end_time": "2024-11-08T03:10:44.277331Z",
     "start_time": "2024-11-08T03:10:44.258027Z"
    }
   },
   "id": "7ec9b675273740ce",
   "execution_count": 29
  },
  {
   "cell_type": "code",
   "outputs": [
    {
     "data": {
      "text/plain": "[8, 2, 8, 2, 2, 5, 7, 10, 9, 5]"
     },
     "execution_count": 31,
     "metadata": {},
     "output_type": "execute_result"
    }
   ],
   "source": [
    "test_demand_list = [random.randint(1,10) for i in range(10)]\n",
    "test_demand_list"
   ],
   "metadata": {
    "collapsed": false,
    "ExecuteTime": {
     "end_time": "2024-11-08T14:40:35.797872Z",
     "start_time": "2024-11-08T14:40:35.791871Z"
    }
   },
   "id": "3e27fc1f54d97081",
   "execution_count": 31
  },
  {
   "cell_type": "code",
   "outputs": [],
   "source": [
    "ph = 5\n",
    "ch = 1\n",
    "N = 3\n",
    "f_dict =dict()\n",
    "init_forecast = test_demand_list[0]\n",
    "\n",
    "for t in range(0, len(test_demand_list), ch):\n",
    "    # print(t)\n",
    "    flist = []\n",
    "\n",
    "    if t==0:      \n",
    "        f_dict.update({t: {f'F({t},{i})': init_forecast for i in range(t + 1, t + 1 + ph)}})\n",
    "    elif t>=N:\n",
    "        f_dict.update({t: {f'F({t},{i})': sum(test_demand_list[j] for j in range(t-1, t-N-1, -1))/N for i in range(t+1, t+ph+1)}})\n",
    "\n",
    "\n",
    "\n",
    "    # flists.append(flist)"
   ],
   "metadata": {
    "collapsed": false,
    "ExecuteTime": {
     "end_time": "2024-11-08T15:42:58.858342Z",
     "start_time": "2024-11-08T15:42:58.852340Z"
    }
   },
   "id": "bac496d19fa8f54d",
   "execution_count": 55
  },
  {
   "cell_type": "code",
   "outputs": [
    {
     "data": {
      "text/plain": "{0: {'F(0,1)': 8, 'F(0,2)': 8, 'F(0,3)': 8, 'F(0,4)': 8, 'F(0,5)': 8},\n 3: {'F(3,4)': 6.0,\n  'F(3,5)': 6.0,\n  'F(3,6)': 6.0,\n  'F(3,7)': 6.0,\n  'F(3,8)': 6.0},\n 4: {'F(4,5)': 4.0,\n  'F(4,6)': 4.0,\n  'F(4,7)': 4.0,\n  'F(4,8)': 4.0,\n  'F(4,9)': 4.0},\n 5: {'F(5,6)': 4.0,\n  'F(5,7)': 4.0,\n  'F(5,8)': 4.0,\n  'F(5,9)': 4.0,\n  'F(5,10)': 4.0},\n 6: {'F(6,7)': 3.0,\n  'F(6,8)': 3.0,\n  'F(6,9)': 3.0,\n  'F(6,10)': 3.0,\n  'F(6,11)': 3.0},\n 7: {'F(7,8)': 4.666666666666667,\n  'F(7,9)': 4.666666666666667,\n  'F(7,10)': 4.666666666666667,\n  'F(7,11)': 4.666666666666667,\n  'F(7,12)': 4.666666666666667},\n 8: {'F(8,9)': 7.333333333333333,\n  'F(8,10)': 7.333333333333333,\n  'F(8,11)': 7.333333333333333,\n  'F(8,12)': 7.333333333333333,\n  'F(8,13)': 7.333333333333333},\n 9: {'F(9,10)': 8.666666666666666,\n  'F(9,11)': 8.666666666666666,\n  'F(9,12)': 8.666666666666666,\n  'F(9,13)': 8.666666666666666,\n  'F(9,14)': 8.666666666666666}}"
     },
     "execution_count": 56,
     "metadata": {},
     "output_type": "execute_result"
    }
   ],
   "source": [
    "f_dict"
   ],
   "metadata": {
    "collapsed": false,
    "ExecuteTime": {
     "end_time": "2024-11-08T15:42:59.130003Z",
     "start_time": "2024-11-08T15:42:59.115233Z"
    }
   },
   "id": "624febb1c887bcb1",
   "execution_count": 56
  },
  {
   "cell_type": "code",
   "outputs": [
    {
     "name": "stdout",
     "output_type": "stream",
     "text": [
      "Forecast for period t+2: 52.0\n"
     ]
    }
   ],
   "source": [
    "def moving_average_forecast(demand_history, forecast_history, t, period_ahead, N=3):\n",
    "    \"\"\"\n",
    "    Calculates a moving average forecast for period t + period_ahead.\n",
    "\n",
    "    Parameters:\n",
    "        demand_history (list): List of past demand values, indexed by time.\n",
    "        forecast_history (list): List of past forecasts, indexed by time.\n",
    "        t (int): Current time period.\n",
    "        period_ahead (int): Number of periods ahead for forecasting.\n",
    "        N (int): Number of periods to consider for the moving average.\n",
    "\n",
    "    Returns:\n",
    "        float: Forecasted value for period t + period_ahead.\n",
    "    \"\"\"\n",
    "    # Ensure enough history for the calculation\n",
    "    if t < N - 1:\n",
    "        raise ValueError(f\"Not enough demand history to calculate moving average with N={N}\")\n",
    "\n",
    "    # Forecast for period t + period_ahead\n",
    "    if period_ahead == 1:\n",
    "        # Standard moving average using the last N demand values\n",
    "        recent_demand = demand_history[max(0, t - N):t]\n",
    "        return sum(recent_demand) / len(recent_demand)\n",
    "    \n",
    "    elif period_ahead >= 2:\n",
    "        # For future periods beyond t+1, use the custom rule\n",
    "        values = []\n",
    "\n",
    "        # Add Forecast(t, t+1) if available\n",
    "        if len(forecast_history) >= t:\n",
    "            values.append(forecast_history[t - 1])  # Forecast(t, t+1)\n",
    "\n",
    "        # Add last N-1 demand values if needed\n",
    "        recent_demand = demand_history[max(0, t - (N - len(values))):t]\n",
    "        values.extend(recent_demand)\n",
    "\n",
    "        # Ensure we have N values\n",
    "        if len(values) < N:\n",
    "            raise ValueError(f\"Not enough values to calculate forecast with N={N}\")\n",
    "\n",
    "        # Calculate the average\n",
    "        forecast_t_tp = sum(values) / N\n",
    "        return forecast_t_tp\n",
    "\n",
    "# Example usage:\n",
    "demand_history = [50, 52, 49, 53, 55]  # Example demand data\n",
    "forecast_history = [50, 51, 50, 54]     # Example forecast data up to time t-1\n",
    "t = 4                                   # Current period\n",
    "period_ahead = 2                        # Forecasting for t+2\n",
    "N = 3                                   # Number of periods for moving average\n",
    "\n",
    "forecast_t_tp = moving_average_forecast(demand_history, forecast_history, t, period_ahead, N)\n",
    "print(f\"Forecast for period t+{period_ahead}: {forecast_t_tp}\")\n",
    "\n"
   ],
   "metadata": {
    "collapsed": false,
    "ExecuteTime": {
     "end_time": "2024-11-08T15:51:41.050864Z",
     "start_time": "2024-11-08T15:51:41.038354Z"
    }
   },
   "id": "ae403478295b73ea",
   "execution_count": 57
  },
  {
   "cell_type": "code",
   "outputs": [
    {
     "name": "stdout",
     "output_type": "stream",
     "text": [
      "Forecasts made at period 1 for periods 2 through 6: [8.0, 9.0, 9.0, 9.0, 9.0]\n"
     ]
    }
   ],
   "source": [
    "def moving_average_forecast(demand_history=None, forecast_history=None, t=0, ph=1, N=3, initial_forecast=0):\n",
    "    \"\"\"\n",
    "    Calculates a list of moving average forecasts for periods t+1 through t+ph.\n",
    "\n",
    "    Parameters:\n",
    "        demand_history (list, optional): List of past demand values, indexed by time. Defaults to an empty list.\n",
    "        forecast_history (list, optional): List of past forecasts, indexed by time. Defaults to an empty list.\n",
    "        t (int): Current time period.\n",
    "        ph (int): Number of future periods to forecast (t+1, t+2, ..., t+ph).\n",
    "        N (int): Number of periods to consider for the moving average.\n",
    "        initial_forecast (float): Initial forecast value when no data is available.\n",
    "\n",
    "    Returns:\n",
    "        list: Forecasted values for periods t+1 through t+ph.\n",
    "    \"\"\"\n",
    "    # Default to empty lists if histories are not provided\n",
    "    demand_history = demand_history if demand_history is not None else []\n",
    "    forecast_history = forecast_history if forecast_history is not None else []\n",
    "\n",
    "    forecasts = []\n",
    "\n",
    "    for period_ahead in range(1, ph + 1):\n",
    "        if t == 0:\n",
    "            # At the start (t=0), return the initial forecast value for all periods\n",
    "            forecasts.append(initial_forecast)\n",
    "        else:\n",
    "            if period_ahead == 1:\n",
    "                # For t+1, calculate the standard moving average of the last N demand values\n",
    "                available_demand = demand_history[max(0, t - N):t]\n",
    "                forecast = sum(available_demand) / len(available_demand) if available_demand else initial_forecast\n",
    "            else:\n",
    "                # For t+2 and beyond, use custom rule with Forecast(t, t+1) and demand history\n",
    "                values = []\n",
    "\n",
    "                # Add Forecast(t, t+1) if available\n",
    "                if len(forecast_history) >= t:\n",
    "                    values.append(forecast_history[t - 1])\n",
    "\n",
    "                # Add up to the last N-1 demand values\n",
    "                available_demand = demand_history[max(0, t - (N - len(values))):t]\n",
    "                values.extend(available_demand)\n",
    "\n",
    "                # Calculate the average, or use initial forecast if no data\n",
    "                forecast = sum(values) / len(values) if values else initial_forecast\n",
    "\n",
    "            forecasts.append(forecast)\n",
    "\n",
    "    return forecasts\n",
    "\n",
    "# Example usage:\n",
    "# Without any demand or forecast history\n",
    "t = 1                                   # Current period\n",
    "ph = 5                                  # Forecasting for t+1, t+2, t+3\n",
    "N = 3                                   # Number of periods for moving average\n",
    "initial_forecast = 10                  # Initial forecast value when no data is available\n",
    "\n",
    "# forecast_values = moving_average_forecast(t=t, ph=ph, N=N, initial_forecast=initial_forecast)\n",
    "# print(f\"Forecasts made at period {t} for periods {t+1} through {t+ph}: {forecast_values}\")\n",
    "\n",
    "# With demand and forecast history\n",
    "demand_history = [8, 2, 8, 2, 2, 5, 7, 10, 9, 5]\n",
    "forecast_history = [10]\n",
    "forecast_values = moving_average_forecast(demand_history, forecast_history, t, ph, N, initial_forecast)\n",
    "print(f\"Forecasts made at period {t} for periods {t + 1} through {t+ph}: {forecast_values}\")\n"
   ],
   "metadata": {
    "collapsed": false,
    "ExecuteTime": {
     "end_time": "2024-11-08T16:15:27.302156Z",
     "start_time": "2024-11-08T16:15:27.292683Z"
    }
   },
   "id": "707bea425feec3a1",
   "execution_count": 67
  },
  {
   "cell_type": "code",
   "outputs": [
    {
     "name": "stdout",
     "output_type": "stream",
     "text": [
      "Forecasts made at period 1 for periods 2 through 6: [8.0, 6.5, 6.5, 6.5, 6.5]\n"
     ]
    }
   ],
   "source": [
    "def moving_average_forecast(demand_history, forecast_history, t, ph, N=3, initial_forecast=0):\n",
    "    \"\"\"\n",
    "    Calculates a moving average forecast for periods t+1, t+2, ..., t+ph.\n",
    "\n",
    "    Parameters:\n",
    "        demand_history (list): List of past demand values, indexed by time.\n",
    "        forecast_history (list): List of past forecasts, indexed by time.\n",
    "        t (int): Current time period.\n",
    "        ph (int): Number of periods ahead for which forecasts are required.\n",
    "        N (int): Number of periods to consider for the moving average.\n",
    "        initial_forecast (float): Initial forecast value if no demand or forecast data is available.\n",
    "\n",
    "    Returns:\n",
    "        list: Forecasted values for periods t+1, t+2, ..., t+ph.\n",
    "    \"\"\"\n",
    "    forecasts = []\n",
    "    \n",
    "    # If no demand and forecast history is available (e.g., t = 0), return initial_forecast repeated ph times\n",
    "    if t == 0 or (not demand_history and not forecast_history):\n",
    "        return [initial_forecast] * ph\n",
    "\n",
    "    for step in range(1, ph + 1):  # Forecast for t+1, t+2, ..., t+ph\n",
    "        values_to_average = []\n",
    "\n",
    "        # Try to use the most recent forecast if available\n",
    "        if step > 1 and len(forecast_history) >= t + step - 1:\n",
    "            values_to_average.append(forecast_history[t + step - 2])  # Forecast(t, t+step-1)\n",
    "\n",
    "        # Include the latest demand values up to N total values\n",
    "        demand_needed = N - len(values_to_average)\n",
    "        recent_demand = demand_history[max(0, t - demand_needed):t]\n",
    "        values_to_average.extend(recent_demand)\n",
    "\n",
    "        # If we still have fewer than N values, just average what we have\n",
    "        if len(values_to_average) < N:\n",
    "            forecast_value = sum(values_to_average) / len(values_to_average)\n",
    "        else:\n",
    "            # Otherwise, take the average of the most recent N values\n",
    "            forecast_value = sum(values_to_average[-N:]) / N\n",
    "\n",
    "        # Add this forecast to the result list and to the forecast history for future steps\n",
    "        forecasts.append(forecast_value)\n",
    "        forecast_history.append(forecast_value)  # Update forecast history\n",
    "\n",
    "    return forecasts\n",
    "\n",
    "# Example usage\n",
    "# Without any demand or forecast history\n",
    "t = 1                                   # Current period\n",
    "ph = 5                                  # Forecasting for t+1, t+2, t+3\n",
    "N = 3                                   # Number of periods for moving average\n",
    "initial_forecast = 10                  # Initial forecast value when no data is available\n",
    "\n",
    "# forecast_values = moving_average_forecast(t=t, ph=ph, N=N, initial_forecast=initial_forecast)\n",
    "# print(f\"Forecasts made at period {t} for periods {t+1} through {t+ph}: {forecast_values}\")\n",
    "\n",
    "# With demand and forecast history\n",
    "demand_history = [8, 2, 8, 2, 2, 5, 7, 10, 9, 5]\n",
    "# forecast_history = [10]\n",
    "forecast_values = moving_average_forecast(demand_history, forecast_history, t, ph, N, initial_forecast)\n",
    "print(f\"Forecasts made at period {t} for periods {t + 1} through {t+ph}: {forecast_values}\")\n"
   ],
   "metadata": {
    "collapsed": false,
    "ExecuteTime": {
     "end_time": "2024-11-08T16:25:30.770851Z",
     "start_time": "2024-11-08T16:25:30.763801Z"
    }
   },
   "id": "f9868043872b2e37",
   "execution_count": 73
  },
  {
   "cell_type": "code",
   "outputs": [
    {
     "data": {
      "text/plain": "[8]"
     },
     "execution_count": 75,
     "metadata": {},
     "output_type": "execute_result"
    }
   ],
   "source": [
    "demand_history[0:1]"
   ],
   "metadata": {
    "collapsed": false,
    "ExecuteTime": {
     "end_time": "2024-11-08T16:34:37.125694Z",
     "start_time": "2024-11-08T16:34:37.110378Z"
    }
   },
   "id": "a107de422573ff50",
   "execution_count": 75
  },
  {
   "cell_type": "code",
   "outputs": [
    {
     "data": {
      "text/plain": "[2, 8]"
     },
     "execution_count": 79,
     "metadata": {},
     "output_type": "execute_result"
    }
   ],
   "source": [
    "demand_history[N-2:N]"
   ],
   "metadata": {
    "collapsed": false,
    "ExecuteTime": {
     "end_time": "2024-11-08T16:36:57.433076Z",
     "start_time": "2024-11-08T16:36:57.427076Z"
    }
   },
   "id": "82c5fbca61e9d11b",
   "execution_count": 79
  },
  {
   "cell_type": "code",
   "outputs": [
    {
     "data": {
      "text/plain": "3"
     },
     "execution_count": 77,
     "metadata": {},
     "output_type": "execute_result"
    }
   ],
   "source": [
    "N"
   ],
   "metadata": {
    "collapsed": false,
    "ExecuteTime": {
     "end_time": "2024-11-08T16:36:44.853070Z",
     "start_time": "2024-11-08T16:36:44.847070Z"
    }
   },
   "id": "9f4306f6a6a50e56",
   "execution_count": 77
  },
  {
   "cell_type": "code",
   "outputs": [
    {
     "data": {
      "text/plain": "0.0019408906882591092"
     },
     "execution_count": 1,
     "metadata": {},
     "output_type": "execute_result"
    }
   ],
   "source": [
    "204*7.52/(400*1976)"
   ],
   "metadata": {
    "collapsed": false,
    "ExecuteTime": {
     "end_time": "2024-11-15T22:03:07.999869Z",
     "start_time": "2024-11-15T22:03:07.976821Z"
    }
   },
   "id": "6b2591c8c35fb9c7",
   "execution_count": 1
  },
  {
   "cell_type": "code",
   "outputs": [
    {
     "data": {
      "text/plain": "171.275"
     },
     "execution_count": 2,
     "metadata": {},
     "output_type": "execute_result"
    }
   ],
   "source": [
    "114 + 19.75*2.9"
   ],
   "metadata": {
    "collapsed": false,
    "ExecuteTime": {
     "end_time": "2024-11-15T22:10:26.947019Z",
     "start_time": "2024-11-15T22:10:26.931453Z"
    }
   },
   "id": "52ab0327ae1a8d93",
   "execution_count": 2
  },
  {
   "cell_type": "code",
   "outputs": [],
   "source": [],
   "metadata": {
    "collapsed": false
   },
   "id": "9473418a7e3c5e7b"
  }
 ],
 "metadata": {
  "kernelspec": {
   "display_name": "Python 3",
   "language": "python",
   "name": "python3"
  },
  "language_info": {
   "codemirror_mode": {
    "name": "ipython",
    "version": 2
   },
   "file_extension": ".py",
   "mimetype": "text/x-python",
   "name": "python",
   "nbconvert_exporter": "python",
   "pygments_lexer": "ipython2",
   "version": "2.7.6"
  }
 },
 "nbformat": 4,
 "nbformat_minor": 5
}
