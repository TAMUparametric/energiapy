{
 "cells": [
  {
   "cell_type": "code",
   "outputs": [],
   "source": [
    "import numpy as np\n",
    "import matplotlib.pyplot as plt\n",
    "import matplotlib.colors as mcolors\n",
    "import random"
   ],
   "metadata": {
    "collapsed": false,
    "ExecuteTime": {
     "end_time": "2025-05-22T21:31:04.231721Z",
     "start_time": "2025-05-22T21:31:04.215716Z"
    }
   },
   "id": "8e9fbf9d50c774d",
   "execution_count": 24
  },
  {
   "cell_type": "code",
   "outputs": [],
   "source": [
    "# # Define the inequality functions\n",
    "# def ineq1(d1, d2):\n",
    "#     return d1/2 -d2 +1/6\n",
    "# \n",
    "# def ineq2(d1, d2):\n",
    "#     return -d1/2 + d2/2 + 1\n",
    "# \n",
    "# # Create a mesh grid\n",
    "# x_vals = np.linspace(0, 5, 400)\n",
    "# y_vals = np.linspace(0, 5, 400)\n",
    "# X, Y = np.meshgrid(x_vals, y_vals)\n",
    "# \n",
    "# # Evaluate both inequalities\n",
    "# Z1 = ineq1(X, Y)\n",
    "# Z2 = ineq2(X, Y)\n",
    "# \n",
    "# # Create integer mask: 1 if ineq1 ≥ ineq2, 0 otherwise\n",
    "# region_mask = (Z1 >= Z2).astype(int)\n",
    "# \n",
    "# # Plot the region mask\n",
    "# plt.figure(figsize=(8, 6))\n",
    "# contour = plt.contourf(X, Y, region_mask, levels=[-0.5, 0.5, 1.5], colors=['salmon', 'lightblue'], alpha=0.5)\n",
    "# \n",
    "# # Boundary: where ineq1 == ineq2\n",
    "# plt.contour(X, Y, Z1 - Z2, levels=[0], colors='black', linewidths=2)\n",
    "# \n",
    "# plt.xlabel('x')\n",
    "# plt.ylabel('y')\n",
    "# plt.title('Blue: ineq1 ≥ ineq2, Red: ineq2 > ineq1')\n",
    "# plt.grid(True)\n",
    "# plt.axhline(0, color='gray', lw=0.5)\n",
    "# plt.axvline(0, color='gray', lw=0.5)\n",
    "# plt.show()\n"
   ],
   "metadata": {
    "collapsed": false,
    "ExecuteTime": {
     "end_time": "2025-05-22T21:36:24.394644Z",
     "start_time": "2025-05-22T21:36:24.388373Z"
    }
   },
   "id": "c2272ec47f9d9d6",
   "execution_count": 39
  },
  {
   "cell_type": "code",
   "outputs": [],
   "source": [
    "def plot_chi_function(coeff_matrix, var_bounds=None, resolution=400):\n",
    "    \"\"\"\n",
    "    Plot regions where each linear inequality dominates others.\n",
    "\n",
    "    Parameters:\n",
    "        coeff_matrix (np.ndarray): m x (n+1) matrix, where each row is [a1, a2, ..., an, b]\n",
    "                                   representing the inequality: a1*x1 + a2*x2 + ... + an*xn +b <= 0\n",
    "        var_bounds (list of tuples): [(x1_min, x1_max), (x2_min, x2_max)] bounds for each variable.\n",
    "                                     Must be length 2 for 2D visualization.\n",
    "        resolution (int): Grid resolution per axis\n",
    "    \"\"\"\n",
    "    m, cols = coeff_matrix.shape\n",
    "    n = cols - 1\n",
    "    assert n == 2, \"Currently supports only 2D (x1, x2) visualizations.\"\n",
    "\n",
    "    # Handle bounds per variable\n",
    "    var_bounds = var_bounds if var_bounds else [(-10, 10), (-10, 10)]\n",
    "    assert len(var_bounds) == 2, \"var_bounds must have bounds for exactly 2 variables.\"\n",
    "\n",
    "    (x_min, x_max), (y_min, y_max) = var_bounds\n",
    "    x_vals = np.linspace(x_min, x_max, resolution)\n",
    "    y_vals = np.linspace(y_min, y_max, resolution)\n",
    "    X, Y = np.meshgrid(x_vals, y_vals)\n",
    "\n",
    "    # Compute all inequality lhs - rhs = a1*x1 + a2*x2 - b\n",
    "    lhs_values = []\n",
    "    for i in range(m):\n",
    "        a1, a2, b = coeff_matrix[i]\n",
    "        lhs = a1 * X + a2 * Y + b\n",
    "        lhs_values.append(lhs)\n",
    "\n",
    "    lhs_values = np.array(lhs_values)  # shape: (m, res, res)\n",
    "\n",
    "    # Determine which inequality dominates at each (x, y)\n",
    "    dominant_region = np.argmax(lhs_values, axis=0)  # shape: (res, res)\n",
    "\n",
    "    # Generate distinct random colors\n",
    "    color_names = list(mcolors.TABLEAU_COLORS) + list(mcolors.CSS4_COLORS)\n",
    "    random.shuffle(color_names)\n",
    "    chosen_colors = color_names[:m]\n",
    "\n",
    "    # Plot regions\n",
    "    plt.figure(figsize=(8, 6))\n",
    "    plt.contourf(X, Y, dominant_region, levels=np.arange(-0.5, m+0.5, 1),\n",
    "                 colors=chosen_colors, alpha=0.5)\n",
    "\n",
    "    # Optional: boundary lines\n",
    "    plt.contour(X, Y, dominant_region, levels=np.arange(-0.5, m), colors='black', linewidths=2)\n",
    "\n",
    "    # Legend\n",
    "    for i in range(m):\n",
    "        plt.plot([], [], color=chosen_colors[i], label=f'Inequality {i+1}')\n",
    "    plt.legend()\n",
    "\n",
    "    plt.title('Chi function for flexibility test')\n",
    "    plt.xlabel('d1')\n",
    "    plt.ylabel('d2')\n",
    "    plt.grid(True)\n",
    "    plt.show()\n"
   ],
   "metadata": {
    "collapsed": false,
    "ExecuteTime": {
     "end_time": "2025-05-22T21:31:04.340188Z",
     "start_time": "2025-05-22T21:31:04.325301Z"
    }
   },
   "id": "eb1fb1cc10d49693",
   "execution_count": 26
  },
  {
   "cell_type": "code",
   "outputs": [
    {
     "data": {
      "text/plain": "<Figure size 800x600 with 1 Axes>",
      "image/png": "[encoded data removed]"
     },
     "metadata": {},
     "output_type": "display_data"
    }
   ],
   "source": [
    "# Each row: [a1, a2, b] → a1*x + a2*y + b <= 0\n",
    "\n",
    "A = np.array([\n",
    "    [0.5, -1, 1/6],\n",
    "    [-0.5, 0.5, 1]\n",
    "])\n",
    "\n",
    "plot_chi_function(A, var_bounds=[(0,5), (0,5)])"
   ],
   "metadata": {
    "collapsed": false,
    "ExecuteTime": {
     "end_time": "2025-05-22T21:31:04.449330Z",
     "start_time": "2025-05-22T21:31:04.341189Z"
    }
   },
   "id": "87843b567516a45c",
   "execution_count": 27
  },
  {
   "cell_type": "code",
   "outputs": [],
   "source": [
    "# A = np.array([\n",
    "#     [1, 2, 5],\n",
    "#     [3, -1, 4],\n",
    "#     [-2, 1, -3],\n",
    "#     [2, -3, 1]\n",
    "# ])\n",
    "# \n",
    "# plot_inequality_dominance(A, var_bounds=[(-10,10), (-10,10)])"
   ],
   "metadata": {
    "collapsed": false,
    "ExecuteTime": {
     "end_time": "2025-05-22T21:31:04.465331Z",
     "start_time": "2025-05-22T21:31:04.451329Z"
    }
   },
   "id": "be00c398f19472ea",
   "execution_count": 28
  },
  {
   "cell_type": "code",
   "outputs": [],
   "source": [
    "# # SOMETHING IS INCORRECT HERE\n",
    "# def evaluate_with_region_constraints(\n",
    "#     A_main, \n",
    "#     A_regions=None, \n",
    "#     x_range=(-10, 10), \n",
    "#     y_range=(-10, 10), \n",
    "#     resolution=400\n",
    "# ):\n",
    "#     \"\"\"\n",
    "#     Parameters:\n",
    "#     ----------\n",
    "#     A_main : np.ndarray, shape (m, 3)\n",
    "#         Rows represent inequality coefficients: a1*x + a2*y + b <= 0\n",
    "#     A_regions : list of np.ndarrays, optional\n",
    "#         Each element is a matrix (k_i, 3) defining the feasible region for inequality i\n",
    "#     x_range : tuple of (xmin, xmax)\n",
    "#     y_range : tuple of (ymin, ymax)\n",
    "#     resolution : int\n",
    "#         Number of points along each axis for meshgrid\n",
    "#     \"\"\"\n",
    "#     m, n_plus_1 = A_main.shape\n",
    "#     assert n_plus_1 == 3, \"Only 2D case supported (x, y)\"\n",
    "# \n",
    "#     # Generate grid\n",
    "#     x_vals = np.linspace(*x_range, resolution)\n",
    "#     y_vals = np.linspace(*y_range, resolution)\n",
    "#     X, Y = np.meshgrid(x_vals, y_vals)\n",
    "# \n",
    "#     dominant_vals = np.full(X.shape, np.nan)\n",
    "#     dominant_idx = np.full(X.shape, -1)\n",
    "# \n",
    "#     for i in range(m):\n",
    "#         a1, a2, b = A_main[i]\n",
    "#         \n",
    "#         # Default: all points are feasible\n",
    "#         feasible_mask = np.ones(X.shape, dtype=bool)\n",
    "# \n",
    "#         if A_regions is not None and A_regions[i] is not None:\n",
    "#             region_constraints = A_regions[i]\n",
    "#             for constraint in region_constraints:\n",
    "#                 c1, c2, d = constraint\n",
    "#                 lhs = c1 * X + c2 * Y + d\n",
    "#                 feasible_mask &= (lhs <= 0)\n",
    "# \n",
    "#         # Evaluate the main inequality on feasible region\n",
    "#         lhs_main = a1 * X + a2 * Y + b\n",
    "#         masked_lhs = np.where(feasible_mask, lhs_main, np.inf)\n",
    "# \n",
    "#         update_mask = (masked_lhs < dominant_vals) | np.isnan(dominant_vals)\n",
    "#         dominant_vals = np.where(update_mask, masked_lhs, dominant_vals)\n",
    "#         dominant_idx = np.where(update_mask, i, dominant_idx)\n",
    "# \n",
    "#     # Plotting\n",
    "#     colors = random.sample(list(mcolors.TABLEAU_COLORS.values()), m)\n",
    "#     plt.figure(figsize=(8, 6))\n",
    "#     plt.contourf(X, Y, dominant_idx, levels=np.arange(-0.5, m+0.5), colors=colors, alpha=0.5)\n",
    "#     plt.contour(X, Y, dominant_idx, levels=np.arange(-0.5, m), colors='black', linewidths=0.5)\n",
    "# \n",
    "#     # Legend\n",
    "#     for i in range(m):\n",
    "#         plt.plot([], [], color=colors[i], label=f'Inequality {i+1}')\n",
    "#     plt.legend()\n",
    "#     plt.xlabel(\"x\")\n",
    "#     plt.ylabel(\"y\")\n",
    "#     plt.title(\"Dominant Inequality per Region\")\n",
    "#     plt.grid(True)\n",
    "#     plt.show()\n"
   ],
   "metadata": {
    "collapsed": false,
    "ExecuteTime": {
     "end_time": "2025-05-22T21:31:04.481329Z",
     "start_time": "2025-05-22T21:31:04.467329Z"
    }
   },
   "id": "c6d7e2ae8b580e6d",
   "execution_count": 29
  },
  {
   "cell_type": "code",
   "outputs": [],
   "source": [
    "# A_main = np.array([\n",
    "#     [0.5, -1, 1/6],\n",
    "#     [-0.5, 0.5, 1]\n",
    "# ])\n",
    "# \n",
    "# # A_regions = [\n",
    "# #     np.array([[-2, 3, -1], [-1, 0, 0], [1, 0, 5]]),\n",
    "# #     np.array([[2, -3, -7], [-1, 0, 0], [0, 1, -5]])\n",
    "# # ]\n",
    "# \n",
    "# evaluate_with_region_constraints(A_main=A_main, A_regions=A_regions, x_range=(0,5), y_range=(0,5))"
   ],
   "metadata": {
    "collapsed": false,
    "ExecuteTime": {
     "end_time": "2025-05-22T21:31:04.497438Z",
     "start_time": "2025-05-22T21:31:04.482331Z"
    }
   },
   "id": "5531de950e502960",
   "execution_count": 30
  },
  {
   "cell_type": "code",
   "outputs": [],
   "source": [
    "def plot_flexibility_function(coeff_matrix, var_bounds=None, resolution=400):\n",
    "    \"\"\"\n",
    "    Plot regions where each linear inequality dominates others.\n",
    "\n",
    "    Parameters:\n",
    "        coeff_matrix (np.ndarray): m x (n+1) matrix, where each row is [a1, a2, ..., an, b]\n",
    "                                   representing the inequality: a1*x1 + a2*x2 + ... + an*xn +b <= 0\n",
    "        var_bounds (list of tuples): [(x1_min, x1_max), (x2_min, x2_max)] bounds for each variable.\n",
    "                                     Must be length 2 for 2D visualization.\n",
    "        resolution (int): Grid resolution per axis\n",
    "    \"\"\"\n",
    "    m, cols = coeff_matrix.shape\n",
    "    n = cols - 1\n",
    "    assert n == 2, \"Currently supports only 2D (x1, x2) visualizations.\"\n",
    "\n",
    "    # Handle bounds per variable\n",
    "    var_bounds = var_bounds if var_bounds else [(-10, 10), (-10, 10)]\n",
    "    assert len(var_bounds) == 2, \"var_bounds must have bounds for exactly 2 variables.\"\n",
    "\n",
    "    (x_min, x_max), (y_min, y_max) = var_bounds\n",
    "    x_vals = np.linspace(x_min, x_max, resolution)\n",
    "    y_vals = np.linspace(y_min, y_max, resolution)\n",
    "    X, Y = np.meshgrid(x_vals, y_vals)\n",
    "\n",
    "    # Compute all inequality lhs - rhs = a1*x1 + a2*x2 - b\n",
    "    lhs_values = []\n",
    "    for i in range(m):\n",
    "        a1, a2, b = coeff_matrix[i]\n",
    "        lhs = -a1 * X - a2 * Y - b+1\n",
    "        lhs_values.append(lhs)\n",
    "\n",
    "    lhs_values = np.array(lhs_values)  # shape: (m, res, res)\n",
    "\n",
    "    # Determine which inequality dominates at each (x, y)\n",
    "    dominant_region = np.argmin(lhs_values, axis=0)  # shape: (res, res)\n",
    "\n",
    "    # Generate distinct random colors\n",
    "    color_names = list(mcolors.TABLEAU_COLORS) + list(mcolors.CSS4_COLORS)\n",
    "    random.shuffle(color_names)\n",
    "    chosen_colors = color_names[:m]\n",
    "    \n",
    "    # Generate separate colors for violated regions\n",
    "    violation_palette = list(mcolors.XKCD_COLORS)\n",
    "    random.shuffle(violation_palette)\n",
    "    violation_colors = [violation_palette[i] for i in range(m)]\n",
    "\n",
    "\n",
    "    # Plot regions\n",
    "    plt.figure(figsize=(8, 6))\n",
    "    plt.contourf(X, Y, dominant_region, levels=np.arange(-0.5, m+0.5, 1),\n",
    "                 colors=chosen_colors, alpha=0.5)\n",
    "\n",
    "    # Optional: boundary lines\n",
    "    plt.contour(X, Y, dominant_region, levels=np.arange(-0.5, m), colors='black', linewidths=2)\n",
    "    \n",
    "    for i in range(m):\n",
    "        a1, a2, b = coeff_matrix[i]\n",
    "        violation_mask = (a1 * X + a2 * Y + b) >= 0\n",
    "        plt.contourf(X, Y, violation_mask.astype(int), levels=[0.5, 1.5],\n",
    "                     colors=[violation_colors[i]], alpha=0.25)\n",
    "        plt.contour(X, Y, a1 * X + a2 * Y + b, levels=[0], colors='black')\n",
    "\n",
    "    # Legend\n",
    "    for i in range(m):\n",
    "        plt.plot([], [], color=chosen_colors[i], label=f'Inequality {i+1}')\n",
    "    plt.legend()\n",
    "\n",
    "    plt.title('Flexibility index function')\n",
    "    plt.xlabel('d1')\n",
    "    plt.ylabel('d2')\n",
    "    plt.grid(True)\n",
    "    plt.show()\n"
   ],
   "metadata": {
    "collapsed": false,
    "ExecuteTime": {
     "end_time": "2025-05-22T21:32:15.362825Z",
     "start_time": "2025-05-22T21:32:15.346538Z"
    }
   },
   "id": "4890b43a58bd81c2",
   "execution_count": 36
  },
  {
   "cell_type": "code",
   "outputs": [],
   "source": [
    "A = np.array([\n",
    "    [-3/11, 6/11, 10/11],\n",
    "    [3/16, -3/16, 10/16],\n",
    "])"
   ],
   "metadata": {
    "collapsed": false,
    "ExecuteTime": {
     "end_time": "2025-05-22T21:32:15.677276Z",
     "start_time": "2025-05-22T21:32:15.674167Z"
    }
   },
   "id": "4ada32d355b1d80f",
   "execution_count": 37
  },
  {
   "cell_type": "code",
   "outputs": [
    {
     "data": {
      "text/plain": "<Figure size 800x600 with 1 Axes>",
      "image/png": "[encoded data removed]"
     },
     "metadata": {},
     "output_type": "display_data"
    }
   ],
   "source": [
    "plot_flexibility_function(coeff_matrix=A, var_bounds=[(0,5), (0,5)])"
   ],
   "metadata": {
    "collapsed": false,
    "ExecuteTime": {
     "end_time": "2025-05-22T21:32:16.210805Z",
     "start_time": "2025-05-22T21:32:16.073742Z"
    }
   },
   "id": "3344ee45e06414c4",
   "execution_count": 38
  },
  {
   "cell_type": "code",
   "outputs": [],
   "source": [],
   "metadata": {
    "collapsed": false,
    "ExecuteTime": {
     "end_time": "2025-05-22T21:31:04.669949Z",
     "start_time": "2025-05-22T21:31:04.654950Z"
    }
   },
   "id": "e2ed05f1f721e66b",
   "execution_count": 33
  }
 ],
 "metadata": {
  "kernelspec": {
   "display_name": "Python 3",
   "language": "python",
   "name": "python3"
  },
  "language_info": {
   "codemirror_mode": {
    "name": "ipython",
    "version": 2
   },
   "file_extension": ".py",
   "mimetype": "text/x-python",
   "name": "python",
   "nbconvert_exporter": "python",
   "pygments_lexer": "ipython2",
   "version": "2.7.6"
  }
 },
 "nbformat": 4,
 "nbformat_minor": 5
}
