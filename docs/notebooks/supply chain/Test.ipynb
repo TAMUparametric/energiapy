{
 "cells": [
  {
   "cell_type": "code",
   "outputs": [],
   "source": [
    "from typing import Any, Dict, Tuple, List\n",
    "from itertools import groupby"
   ],
   "metadata": {
    "collapsed": false,
    "ExecuteTime": {
     "end_time": "2025-10-10T18:55:03.826554Z",
     "start_time": "2025-10-10T18:55:03.816971Z"
    }
   },
   "id": "29b714d0a142d61b",
   "execution_count": 5
  },
  {
   "cell_type": "code",
   "outputs": [],
   "source": [
    "def compute_ttr(backlog: Dict[Tuple[Any, ...], float], *, zero_tol: float = 1e-9, return_open: bool = True) -> Dict[Tuple[Any, Any], List[Dict[str, Any]]]:\n",
    "    if not backlog:\n",
    "        return {}\n",
    "\n",
    "    # Prepare (group, time_tuple, value) triples and sort by (group, time)\n",
    "    triples = []\n",
    "    for k, v in backlog.items():\n",
    "        if len(k) < 3:\n",
    "            raise ValueError(f\"Key {k} must have at least (loc, com, time...).\")\n",
    "        triples.append(((k[0], k[1]), k[2:], float(v)))\n",
    "    triples.sort(key=lambda x: (x[0], x[1]))  # lexicographic time handles multi-index\n",
    "\n",
    "    results: Dict[Tuple[Any, Any], List[Dict[str, Any]]] = {}\n",
    "\n",
    "    for g, grp in groupby(triples, key=lambda x: x[0]):\n",
    "        episodes: List[Dict[str, Any]] = []\n",
    "        in_run = False\n",
    "        start = None\n",
    "        peak = area = 0.0\n",
    "        steps = 0\n",
    "\n",
    "        for _, t, val in grp:\n",
    "            if val > zero_tol:\n",
    "                if not in_run:\n",
    "                    in_run = True\n",
    "                    start = t\n",
    "                    peak = val\n",
    "                    area = val\n",
    "                    steps = 1\n",
    "                else:\n",
    "                    steps += 1\n",
    "                    area += val\n",
    "                    if val > peak:\n",
    "                        peak = val\n",
    "            elif in_run:\n",
    "                episodes.append({\n",
    "                    \"start_idx\": start,\n",
    "                    \"end_idx\": t,                 # first nonpositive period\n",
    "                    \"duration_steps\": steps,\n",
    "                    \"peak\": peak,\n",
    "                    \"area\": area,\n",
    "                })\n",
    "                in_run = False\n",
    "\n",
    "        if in_run and return_open:\n",
    "            episodes.append({\n",
    "                \"start_idx\": start,\n",
    "                \"end_idx\": None,                  # not yet recovered\n",
    "                \"duration_steps\": steps,\n",
    "                \"peak\": peak,\n",
    "                \"area\": area,\n",
    "            })\n",
    "\n",
    "        results[g] = episodes\n",
    "\n",
    "    return results"
   ],
   "metadata": {
    "collapsed": false,
    "ExecuteTime": {
     "end_time": "2025-10-10T18:55:03.841615Z",
     "start_time": "2025-10-10T18:55:03.827615Z"
    }
   },
   "id": "58f1906c67469cc1",
   "execution_count": 6
  },
  {
   "cell_type": "code",
   "outputs": [],
   "source": [
    "backlog = {\n",
    "    ('loc1','com1_sold',0,0,0): 0.0,\n",
    "    ('loc1','com1_sold',0,0,1): 2.0,\n",
    "    ('loc1','com1_sold',0,0,2): 3.0,\n",
    "    ('loc1','com1_sold',0,0,3): 0.0,   # recovery here\n",
    "    ('loc1','com1_sold',0,0,4): 0.0,\n",
    "    ('loc1','com1_sold',0,0,5): 1.0,   # second disruption\n",
    "    ('loc1','com1_sold',0,0,6): 0.0,   # recover\n",
    "    ('loc2','com1_sold',1,2): 0.5,     # open episode (no recovery yet)\n",
    "}\n",
    "\n",
    "out = compute_ttr(backlog)\n",
    "# out[('loc1','com1_sold')] ->\n",
    "# [\n",
    "#   {'start_idx': (0,0,1), 'end_idx': (0,0,3), 'duration_steps': 2, 'peak': 3.0, 'area': 5.0},\n",
    "#   {'start_idx': (0,0,5), 'end_idx': (0,0,6), 'duration_steps': 1, 'peak': 1.0, 'area': 1.0},\n",
    "# ]\n",
    "# out[('loc2','com1_sold')] ->\n",
    "# [\n",
    "#   {'start_idx': (1,2), 'end_idx': None, 'duration_steps': 1, 'peak': 0.5, 'area': 0.5},\n",
    "# ]\n"
   ],
   "metadata": {
    "collapsed": false,
    "ExecuteTime": {
     "end_time": "2025-10-10T18:55:03.857484Z",
     "start_time": "2025-10-10T18:55:03.842668Z"
    }
   },
   "id": "fbb39c50ce7d096a",
   "execution_count": 7
  },
  {
   "cell_type": "code",
   "outputs": [
    {
     "data": {
      "text/plain": "{('loc1',\n  'com1_sold'): [{'start_idx': (0, 0, 1),\n   'end_idx': (0, 0, 3),\n   'duration_steps': 2,\n   'peak': 3.0,\n   'area': 5.0}, {'start_idx': (0, 0, 5),\n   'end_idx': (0, 0, 6),\n   'duration_steps': 1,\n   'peak': 1.0,\n   'area': 1.0}],\n ('loc2',\n  'com1_sold'): [{'start_idx': (1, 2),\n   'end_idx': None,\n   'duration_steps': 1,\n   'peak': 0.5,\n   'area': 0.5}]}"
     },
     "execution_count": 8,
     "metadata": {},
     "output_type": "execute_result"
    }
   ],
   "source": [
    "out"
   ],
   "metadata": {
    "collapsed": false,
    "ExecuteTime": {
     "end_time": "2025-10-10T18:55:03.873453Z",
     "start_time": "2025-10-10T18:55:03.858585Z"
    }
   },
   "id": "c6a479eb19f3565e",
   "execution_count": 8
  },
  {
   "cell_type": "code",
   "outputs": [],
   "source": [],
   "metadata": {
    "collapsed": false,
    "ExecuteTime": {
     "end_time": "2025-10-10T18:55:03.888690Z",
     "start_time": "2025-10-10T18:55:03.874066Z"
    }
   },
   "id": "8dc7f6483e79078e",
   "execution_count": 8
  }
 ],
 "metadata": {
  "kernelspec": {
   "display_name": "Python 3",
   "language": "python",
   "name": "python3"
  },
  "language_info": {
   "codemirror_mode": {
    "name": "ipython",
    "version": 2
   },
   "file_extension": ".py",
   "mimetype": "text/x-python",
   "name": "python",
   "nbconvert_exporter": "python",
   "pygments_lexer": "ipython2",
   "version": "2.7.6"
  }
 },
 "nbformat": 4,
 "nbformat_minor": 5
}
