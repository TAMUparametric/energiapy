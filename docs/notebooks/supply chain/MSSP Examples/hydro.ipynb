{
 "cells": [
  {
   "cell_type": "code",
   "execution_count": 29,
   "id": "initial_id",
   "metadata": {
    "collapsed": true,
    "ExecuteTime": {
     "end_time": "2024-10-03T17:33:30.579061Z",
     "start_time": "2024-10-03T17:33:30.562365Z"
    }
   },
   "outputs": [],
   "source": [
    "# updated april 2020\n",
    "# DLW: mpisppy version, May 2019\n",
    "#\n",
    "#  ___________________________________________________________________________\n",
    "#\n",
    "#  Pyomo: Python Optimization Modeling Objects\n",
    "#  Copyright 2017 National Technology and Engineering Solutions of Sandia, LLC\n",
    "#  Under the terms of Contract DE-NA0003525 with National Technology and \n",
    "#  Engineering Solutions of Sandia, LLC, the U.S. Government retains certain \n",
    "#  rights in this software.\n",
    "#  This software is distributed under the 3-clause BSD License.\n",
    "#  ___________________________________________________________________________\n",
    "\n",
    "# started as elec3 from Pierre on 8 Dec 2010; removed scenarios\n",
    "#\n",
    "# Imports\n",
    "#\n",
    "import os\n",
    "from pyomo.core import *  # the old fashioned way!\n",
    "import mpisppy.phbase\n",
    "import mpisppy.opt.ph\n",
    "import mpisppy.opt.aph\n",
    "import mpisppy.scenario_tree as scenario_tree\n",
    "import pyomo.environ as pyo\n",
    "from mpisppy.extensions.xhatspecific import XhatSpecific\n",
    "import mpisppy.utils.sputils as sputils"
   ]
  },
  {
   "cell_type": "code",
   "outputs": [],
   "source": [
    "##\n",
    "## Setting up a Model\n",
    "##\n",
    "#\n",
    "# Create the model\n",
    "#\n",
    "model = AbstractModel(name=\"elec3\")\n",
    "\n",
    "#\n",
    "# Create sets used to define parameters\n",
    "#\n",
    "\n",
    "### etaps\n",
    "\n",
    "model.nb_etap=Param(within=pyo.PositiveIntegers)\n",
    "\n",
    "model.etap = RangeSet(1,model.nb_etap)\n",
    "\n",
    "##\n",
    "## Declaring Params\n",
    "##\n",
    "#\n",
    "model.A=Param(model.etap)\n",
    "model.D=Param(model.etap)\n",
    "\n",
    "model.betaGt=Param()\n",
    "model.betaGh=Param()\n",
    "model.betaDns=Param()\n",
    "\n",
    "model.PgtMax=Param()\n",
    "model.PgtMin=Param()\n",
    "model.PghMin=Param()\n",
    "model.PghMax=Param()\n",
    "\n",
    "model.VMin=Param()\n",
    "model.VMax=Param()\n",
    "\n",
    "model.u=Param(model.etap)\n",
    "model.duracion=Param(model.etap)\n",
    "model.V0=Param()\n",
    "model.T=Param()\n",
    "\n",
    "#bounds and variables\n",
    "\n",
    "def Pgt_bounds(model, t):\n",
    "    return(model.PgtMin,model.PgtMax)\n",
    "model.Pgt = Var(model.etap, bounds=Pgt_bounds, within=pyo.NonNegativeReals)\n",
    "\n",
    "def Pgh_bounds(model, t):\n",
    "    return(model.PghMin,model.PghMax)\n",
    "model.Pgh = Var(model.etap, bounds=Pgh_bounds, within=pyo.NonNegativeReals)\n",
    "\n",
    "def PDns_bounds(model, t):\n",
    "    return(0,model.D[t])\n",
    "model.PDns = Var(model.etap, bounds=PDns_bounds, within=pyo.NonNegativeReals)\n",
    "\n",
    "def Vol_bounds(model, t):\n",
    "    return(model.VMin,model.VMax)\n",
    "model.Vol = Var(model.etap, bounds=Vol_bounds, within=pyo.NonNegativeReals)\n",
    "\n",
    "model.sl = Var(within=pyo.NonNegativeReals)\n",
    "\n",
    "model.StageCost = Var(model.etap, within=pyo.Reals)"
   ],
   "metadata": {
    "collapsed": false,
    "ExecuteTime": {
     "end_time": "2024-10-03T17:33:30.594586Z",
     "start_time": "2024-10-03T17:33:30.580074Z"
    }
   },
   "id": "10e5fdc042da6cbd",
   "execution_count": 30
  },
  {
   "cell_type": "code",
   "outputs": [],
   "source": [
    "def discount_rule(model, t):\n",
    "    # Be careful about integer division in python 2\n",
    "    return (1/1.1)**(value(model.duracion[t])/float(value(model.T)))\n",
    "model.r = Param(model.etap,initialize=discount_rule)\n",
    "\n",
    "# objective\n",
    "\n",
    "def StageCostRule(model, t):\n",
    "    if t < value(model.nb_etap):\n",
    "        return model.StageCost[t] == model.r[t] * (model.betaGt * model.Pgt[t] + \\\n",
    "                                     model.betaGh * model.Pgh[t] + \\\n",
    "                                     model.betaDns * model.PDns[t] )\n",
    "    else:\n",
    "        return model.StageCost[t] == (model.r[t] * (model.betaGt * model.Pgt[t] + \\\n",
    "                                     model.betaGh * model.Pgh[t] + \\\n",
    "                                     model.betaDns * model.PDns[t]) + model.sl)\n",
    "\n",
    "model.StageCostConstraint = Constraint(model.etap, rule=StageCostRule)\n",
    "\n",
    "# constraints\n",
    "\n",
    "def fixpgh_rule(model):\n",
    "    return model.Pgh[1] == 60\n",
    "#model.testfixing = Constraint(rule=fixpgh_rule)\n",
    "\n",
    "def demand_rule(model, t):\n",
    "    return model.Pgt[t]+model.Pgh[t]+model.PDns[t]-model.D[t] == 0.0\n",
    "model.demand= Constraint(model.etap, rule=demand_rule)\n",
    "\n",
    "def conserv_rule(model, t):\n",
    "    if t == 1:\n",
    "        return model.Vol[t]-model.V0 <= model.u[t] *(model.A[t]-model.Pgh[t])\n",
    "    else:\n",
    "        return model.Vol[t]-model.Vol[t-1] <= model.u[t] *(model.A[t]-model.Pgh[t])\n",
    "model.conserv= Constraint(model.etap, rule=conserv_rule)\n",
    "\n",
    "def fcfe_rule(model):\n",
    "    return model.sl>= 4166.67*(model.V0-model.Vol[3])\n",
    "model.fcfe= Constraint(rule=fcfe_rule)\n",
    "\n",
    "\n",
    "#\n",
    "# PySP Auto-generated Objective\n",
    "#\n",
    "# minimize: sum of StageCosts\n",
    "#\n",
    "# A active scenario objective equivalent to that generated by PySP is\n",
    "# included here for informational purposes.\n",
    "def total_cost_rule(model):\n",
    "    return sum_product(model.StageCost)\n",
    "model.Objective_rule = Objective(rule=total_cost_rule, sense=minimize)"
   ],
   "metadata": {
    "collapsed": false,
    "ExecuteTime": {
     "end_time": "2024-10-03T17:33:30.609771Z",
     "start_time": "2024-10-03T17:33:30.595598Z"
    }
   },
   "id": "1fa3a5528355ec0c",
   "execution_count": 31
  },
  {
   "cell_type": "code",
   "outputs": [],
   "source": [
    "def MakeAllScenarioTreeNodes(model, bf):\n",
    "    \"\"\" Make the tree nodes and put them in a dictionary.\n",
    "        Assume three stages and a branching factor of bf.\n",
    "        Note: this might not ever be called. (Except maybe for the EF)\n",
    "        Note: mpisppy does not have leaf nodes.\n",
    "        Aside: every rank makes their own nodes; these nodes do not \n",
    "        hold any data computed by a solution algorithm.\n",
    "    \"\"\"\n",
    "    TreeNodes = dict()\n",
    "    TreeNodes[\"ROOT\"] = scenario_tree.ScenarioNode(\"ROOT\",\n",
    "                                                  1.0,\n",
    "                                                  1,\n",
    "                                                  model.StageCost[1],\n",
    "                                                  [model.Pgt[1],\n",
    "                                                   model.Pgh[1],\n",
    "                                                   model.PDns[1],\n",
    "                                                   model.Vol[1]],\n",
    "                                                  model)\n",
    "    for b in range(bf):\n",
    "        ndn = \"ROOT_\"+str(b)\n",
    "        TreeNodes[ndn] = scenario_tree.ScenarioNode(ndn,\n",
    "                                                   1.0/bf,\n",
    "                                                   2,\n",
    "                                                   model.StageCost[2],\n",
    "                                                  [model.Pgt[2],\n",
    "                                                   model.Pgh[2],\n",
    "                                                   model.PDns[2],\n",
    "                                                   model.Vol[2]],\n",
    "                                                    model,\n",
    "                                                    parent_name=\"ROOT\")\n"
   ],
   "metadata": {
    "collapsed": false,
    "ExecuteTime": {
     "end_time": "2024-10-04T19:03:10.506273Z",
     "start_time": "2024-10-04T19:03:10.481034Z"
    }
   },
   "id": "827527e446f9986c",
   "execution_count": 69
  },
  {
   "cell_type": "code",
   "outputs": [],
   "source": [
    "def MakeNodesforScen(model, BFs, scennum):\n",
    "    \"\"\" Make just those scenario tree nodes needed by a scenario.\n",
    "        Return them as a list.\n",
    "        NOTE: the nodes depend on the scenario model and are, in some sense,\n",
    "              local to it.\n",
    "        Args:\n",
    "            BFs (list of int): branching factors\n",
    "    \"\"\"\n",
    "    # In general divide by the product of the branching factors that come after the node (here prod(BFs[1:])=BFs[1])\n",
    "    ndn = \"ROOT_\"+str((scennum-1) // BFs[1]) # scennum is one-based\n",
    "    retval = [scenario_tree.ScenarioNode(\"ROOT\",\n",
    "                                         1.0,\n",
    "                                         1,\n",
    "                                         model.StageCost[1],\n",
    "                                         [model.Pgt[1],\n",
    "                                          model.Pgh[1],\n",
    "                                          model.PDns[1],\n",
    "                                          model.Vol[1]],\n",
    "                                         model),\n",
    "              scenario_tree.ScenarioNode(ndn,\n",
    "                                         1.0/BFs[0],\n",
    "                                         2,\n",
    "                                         model.StageCost[2],\n",
    "                                         [model.Pgt[2],\n",
    "                                          model.Pgh[2],\n",
    "                                          model.PDns[2],\n",
    "                                          model.Vol[2]],\n",
    "                                         model, parent_name=\"ROOT\")\n",
    "              ]\n",
    "    return retval"
   ],
   "metadata": {
    "collapsed": false,
    "ExecuteTime": {
     "end_time": "2024-10-03T17:33:30.640715Z",
     "start_time": "2024-10-03T17:33:30.626121Z"
    }
   },
   "id": "ebd7e53dbe7f56b7",
   "execution_count": 33
  },
  {
   "cell_type": "code",
   "outputs": [],
   "source": [
    "def scenario_creator(scenario_name, branching_factors=None, data_path=None):\n",
    "    \"\"\" The callback needs to create an instance and then attach\n",
    "    the PySP nodes to it in a list _mpisppy_node_list ordered by stages. \n",
    "    Optionally attach _PHrho.\n",
    "    Args:\n",
    "        scenario_name (str): root name of the scenario data file\n",
    "        branching_factors (list of ints): the branching factors\n",
    "        data_path (str, optional): Path to the Hydro data.\n",
    "    \"\"\"\n",
    "    if data_path is None:\n",
    "        hydro_dir = os.path.abspath(os.getcwd())\n",
    "        data_path = os.sep.join([hydro_dir, 'PySP', 'scenariodata'])\n",
    "    if branching_factors is None:\n",
    "        raise ValueError(\"Hydro scenario_creator requires branching_factors\")\n",
    "\n",
    "    snum = sputils.extract_num(scenario_name)\n",
    "\n",
    "    fname = data_path + os.sep + scenario_name + '.dat'\n",
    "    instance = model.create_instance(fname, name=scenario_name)\n",
    "\n",
    "    instance._mpisppy_node_list = MakeNodesforScen(instance, branching_factors, snum)\n",
    "    model._mpisppy_probability = \"uniform\"\n",
    "    return instance"
   ],
   "metadata": {
    "collapsed": false,
    "ExecuteTime": {
     "end_time": "2024-10-03T17:33:30.656288Z",
     "start_time": "2024-10-03T17:33:30.641726Z"
    }
   },
   "id": "106419f7d63108dc",
   "execution_count": 34
  },
  {
   "cell_type": "code",
   "outputs": [],
   "source": [
    "def scenario_denouement(rank, scenario_name, scenario):\n",
    "    pass"
   ],
   "metadata": {
    "collapsed": false,
    "ExecuteTime": {
     "end_time": "2024-10-03T17:33:30.671969Z",
     "start_time": "2024-10-03T17:33:30.657332Z"
    }
   },
   "id": "d09408b83e227cd9",
   "execution_count": 35
  },
  {
   "cell_type": "code",
   "outputs": [],
   "source": [
    "options = {}\n",
    "options[\"asynchronousPH\"] = False\n",
    "options[\"solver_name\"] = \"gurobi\"\n",
    "options[\"PHIterLimit\"] = 200\n",
    "options[\"defaultPHrho\"] = 1\n",
    "options[\"convthresh\"] = 0.0001\n",
    "options[\"subsolvedirectives\"] = None\n",
    "options[\"verbose\"] = False\n",
    "options[\"display_timing\"] = True\n",
    "options[\"display_progress\"] = True\n",
    "options[\"iter0_solver_options\"] = None\n",
    "options[\"iterk_solver_options\"] = None\n",
    "options[\"branching_factors\"] = [3, 3]\n",
    "options[\"xhat_looper_options\"] =  {\"xhat_solver_options\":\\\n",
    "                                     None,\n",
    "                                     \"scen_limit\": 3,\n",
    "                                     \"dump_prefix\": \"delme\",\n",
    "                                     \"csvname\": \"looper.csv\"}\n",
    "\n",
    "# branching factor (3 stages is hard-wired)\n",
    "BFs = options[\"branching_factors\"]\n",
    "ScenCount = BFs[0] * BFs[1]\n",
    "all_scenario_names = list()\n",
    "for sn in range(ScenCount):\n",
    "    all_scenario_names.append(\"Scen\"+str(sn+1))\n",
    "# end hardwire\n",
    "\n",
    "# This is multi-stage, so we need to supply node names\n",
    "all_nodenames = sputils.create_nodenames_from_branching_factors(BFs)\n",
    "\n",
    "# **** ef ****\n",
    "solver = pyo.SolverFactory(options[\"solver_name\"])"
   ],
   "metadata": {
    "collapsed": false,
    "ExecuteTime": {
     "end_time": "2024-10-03T17:33:30.687582Z",
     "start_time": "2024-10-03T17:33:30.672999Z"
    }
   },
   "id": "f723ec694492834e",
   "execution_count": 36
  },
  {
   "cell_type": "code",
   "outputs": [
    {
     "data": {
      "text/plain": "['ROOT',\n 'ROOT_0',\n 'ROOT_1',\n 'ROOT_2',\n 'ROOT_0_0',\n 'ROOT_0_1',\n 'ROOT_0_2',\n 'ROOT_1_0',\n 'ROOT_1_1',\n 'ROOT_1_2',\n 'ROOT_2_0',\n 'ROOT_2_1',\n 'ROOT_2_2']"
     },
     "execution_count": 41,
     "metadata": {},
     "output_type": "execute_result"
    }
   ],
   "source": [
    "all_nodenames"
   ],
   "metadata": {
    "collapsed": false,
    "ExecuteTime": {
     "end_time": "2024-10-03T19:04:56.085231Z",
     "start_time": "2024-10-03T19:04:56.073936Z"
    }
   },
   "id": "302899c61418b453",
   "execution_count": 41
  },
  {
   "cell_type": "code",
   "outputs": [
    {
     "name": "stdout",
     "output_type": "stream",
     "text": [
      "WARNING: At least one scenario is missing _mpisppy_probability attribute. Assuming equally-likely scenarios...\n",
      "EF objective value: 186.17387141143627\n"
     ]
    }
   ],
   "source": [
    "ef = sputils.create_EF(\n",
    "    all_scenario_names,\n",
    "    scenario_creator,\n",
    "    scenario_creator_kwargs={\"branching_factors\": BFs},\n",
    ")\n",
    "results = solver.solve(ef, tee=options[\"verbose\"])\n",
    "print('EF objective value:', pyo.value(ef.EF_Obj))\n",
    "sputils.ef_nonants_csv(ef, \"vardump.csv\")"
   ],
   "metadata": {
    "collapsed": false,
    "ExecuteTime": {
     "end_time": "2024-10-03T17:33:30.903321Z",
     "start_time": "2024-10-03T17:33:30.688637Z"
    }
   },
   "id": "592c71fea2e47eaf",
   "execution_count": 37
  },
  {
   "cell_type": "code",
   "outputs": [
    {
     "data": {
      "text/plain": "{'_ctypes': {pyomo.core.base.objective.Objective: [0, 0, 1],\n  pyomo.core.base.block.Block: [1, 11, 11],\n  pyomo.core.base.constraint.Constraint: [12, 13, 2]},\n '_decl': {'EF_Obj': 0,\n  '_mpisppy_data': 1,\n  '_mpisppy_model': 2,\n  'Scen1': 3,\n  'Scen2': 4,\n  'Scen3': 5,\n  'Scen4': 6,\n  'Scen5': 7,\n  'Scen6': 8,\n  'Scen7': 9,\n  'Scen8': 10,\n  'Scen9': 11,\n  '_C_EF_': 12,\n  '_C_EF_suppl': 13},\n '_decl_order': [(<pyomo.core.base.objective.ScalarObjective at 0x207e402ef80>,\n   None),\n  (<pyomo.core.base.block.ScalarBlock at 0x207e4088cc0>, 2),\n  (<pyomo.core.base.block.ScalarBlock at 0x207e4088d60>, 3),\n  (<pyomo.core.base.PyomoModel.ConcreteModel at 0x207e4009d00>, 4),\n  (<pyomo.core.base.PyomoModel.ConcreteModel at 0x207e2d2b380>, 5),\n  (<pyomo.core.base.PyomoModel.ConcreteModel at 0x207e403da30>, 6),\n  (<pyomo.core.base.PyomoModel.ConcreteModel at 0x207e403f330>, 7),\n  (<pyomo.core.base.PyomoModel.ConcreteModel at 0x207e405cc70>, 8),\n  (<pyomo.core.base.PyomoModel.ConcreteModel at 0x207e405e5c0>, 9),\n  (<pyomo.core.base.PyomoModel.ConcreteModel at 0x207e405ff10>, 10),\n  (<pyomo.core.base.PyomoModel.ConcreteModel at 0x207e40718a0>, 11),\n  (<pyomo.core.base.PyomoModel.ConcreteModel at 0x207e40731f0>, None),\n  (<pyomo.core.base.constraint.IndexedConstraint at 0x207e40872e0>, 13),\n  (<pyomo.core.base.constraint.IndexedConstraint at 0x207e40871f0>, None)],\n '_private_data': None,\n '_suppress_ctypes': set(),\n '_dense': True,\n '_ctype': pyomo.core.base.block.Block,\n 'doc': None,\n '_name': None,\n '_constructed': True,\n '_parent': None,\n '_data': {None: <pyomo.core.base.PyomoModel.ConcreteModel at 0x207e3ff7ec0>},\n '_index_set': <pyomo.core.base.global_set._UnindexedComponent_set at 0x207dfcd3eb0>,\n '_anonymous_sets': None,\n '_rule': None,\n 'statistics': Bunch(),\n 'config': PyomoConfig(),\n 'solutions': <pyomo.core.base.PyomoModel.ModelSolutions at 0x207e406bfa0>,\n 'EF_Obj': <pyomo.core.base.objective.ScalarObjective at 0x207e402ef80>,\n '_mpisppy_data': <pyomo.core.base.block.ScalarBlock at 0x207e4088cc0>,\n '_mpisppy_model': <pyomo.core.base.block.ScalarBlock at 0x207e4088d60>,\n '_ef_scenario_names': ['Scen1',\n  'Scen2',\n  'Scen3',\n  'Scen4',\n  'Scen5',\n  'Scen6',\n  'Scen7',\n  'Scen8',\n  'Scen9'],\n '_mpisppy_probability': 1.0000000000000002,\n 'Scen1': <pyomo.core.base.PyomoModel.ConcreteModel at 0x207e4009d00>,\n 'Scen2': <pyomo.core.base.PyomoModel.ConcreteModel at 0x207e2d2b380>,\n 'Scen3': <pyomo.core.base.PyomoModel.ConcreteModel at 0x207e403da30>,\n 'Scen4': <pyomo.core.base.PyomoModel.ConcreteModel at 0x207e403f330>,\n 'Scen5': <pyomo.core.base.PyomoModel.ConcreteModel at 0x207e405cc70>,\n 'Scen6': <pyomo.core.base.PyomoModel.ConcreteModel at 0x207e405e5c0>,\n 'Scen7': <pyomo.core.base.PyomoModel.ConcreteModel at 0x207e405ff10>,\n 'Scen8': <pyomo.core.base.PyomoModel.ConcreteModel at 0x207e40718a0>,\n 'Scen9': <pyomo.core.base.PyomoModel.ConcreteModel at 0x207e40731f0>,\n '_nlens': {'ROOT': 4, 'ROOT_0': 4, 'ROOT_1': 4, 'ROOT_2': 4},\n '_C_EF_': <pyomo.core.base.constraint.IndexedConstraint at 0x207e40872e0>,\n '_C_EF_suppl': <pyomo.core.base.constraint.IndexedConstraint at 0x207e40871f0>,\n 'ref_vars': {('ROOT',\n   0): <pyomo.core.base.var._GeneralVarData at 0x207e1cdfa70>,\n  ('ROOT', 1): <pyomo.core.base.var._GeneralVarData at 0x207e3372570>,\n  ('ROOT', 2): <pyomo.core.base.var._GeneralVarData at 0x207e3f75a10>,\n  ('ROOT', 3): <pyomo.core.base.var._GeneralVarData at 0x207e3f77450>,\n  ('ROOT_0', 0): <pyomo.core.base.var._GeneralVarData at 0x207e1cdf840>,\n  ('ROOT_0', 1): <pyomo.core.base.var._GeneralVarData at 0x207e3372ea0>,\n  ('ROOT_0', 2): <pyomo.core.base.var._GeneralVarData at 0x207e3f77370>,\n  ('ROOT_0', 3): <pyomo.core.base.var._GeneralVarData at 0x207e3f774c0>,\n  ('ROOT_1', 0): <pyomo.core.base.var._GeneralVarData at 0x207e40547b0>,\n  ('ROOT_1', 1): <pyomo.core.base.var._GeneralVarData at 0x207e4054900>,\n  ('ROOT_1', 2): <pyomo.core.base.var._GeneralVarData at 0x207e4054a50>,\n  ('ROOT_1', 3): <pyomo.core.base.var._GeneralVarData at 0x207e4054ba0>,\n  ('ROOT_2', 0): <pyomo.core.base.var._GeneralVarData at 0x207e4055e00>,\n  ('ROOT_2', 1): <pyomo.core.base.var._GeneralVarData at 0x207e4055f50>,\n  ('ROOT_2', 2): <pyomo.core.base.var._GeneralVarData at 0x207e40560a0>,\n  ('ROOT_2', 3): <pyomo.core.base.var._GeneralVarData at 0x207e40561f0>},\n 'ref_suppl_vars': {}}"
     },
     "execution_count": 64,
     "metadata": {},
     "output_type": "execute_result"
    }
   ],
   "source": [
    "ef.__dict__"
   ],
   "metadata": {
    "collapsed": false,
    "ExecuteTime": {
     "end_time": "2024-10-03T20:36:08.741584Z",
     "start_time": "2024-10-03T20:36:08.727950Z"
    }
   },
   "id": "96ef6656e516b73b",
   "execution_count": 64
  },
  {
   "cell_type": "code",
   "outputs": [
    {
     "name": "stdout",
     "output_type": "stream",
     "text": [
      "_C_EF_ : Size=56, Index=Any, Active=True\n",
      "    Key                    : Lower : Body                          : Upper : Active\n",
      "      ('ROOT', 0, 'Scen2') :   0.0 :   Scen2.Pgt[1] - Scen1.Pgt[1] :   0.0 :   True\n",
      "      ('ROOT', 0, 'Scen3') :   0.0 :   Scen3.Pgt[1] - Scen1.Pgt[1] :   0.0 :   True\n",
      "      ('ROOT', 0, 'Scen4') :   0.0 :   Scen4.Pgt[1] - Scen1.Pgt[1] :   0.0 :   True\n",
      "      ('ROOT', 0, 'Scen5') :   0.0 :   Scen5.Pgt[1] - Scen1.Pgt[1] :   0.0 :   True\n",
      "      ('ROOT', 0, 'Scen6') :   0.0 :   Scen6.Pgt[1] - Scen1.Pgt[1] :   0.0 :   True\n",
      "      ('ROOT', 0, 'Scen7') :   0.0 :   Scen7.Pgt[1] - Scen1.Pgt[1] :   0.0 :   True\n",
      "      ('ROOT', 0, 'Scen8') :   0.0 :   Scen8.Pgt[1] - Scen1.Pgt[1] :   0.0 :   True\n",
      "      ('ROOT', 0, 'Scen9') :   0.0 :   Scen9.Pgt[1] - Scen1.Pgt[1] :   0.0 :   True\n",
      "      ('ROOT', 1, 'Scen2') :   0.0 :   Scen2.Pgh[1] - Scen1.Pgh[1] :   0.0 :   True\n",
      "      ('ROOT', 1, 'Scen3') :   0.0 :   Scen3.Pgh[1] - Scen1.Pgh[1] :   0.0 :   True\n",
      "      ('ROOT', 1, 'Scen4') :   0.0 :   Scen4.Pgh[1] - Scen1.Pgh[1] :   0.0 :   True\n",
      "      ('ROOT', 1, 'Scen5') :   0.0 :   Scen5.Pgh[1] - Scen1.Pgh[1] :   0.0 :   True\n",
      "      ('ROOT', 1, 'Scen6') :   0.0 :   Scen6.Pgh[1] - Scen1.Pgh[1] :   0.0 :   True\n",
      "      ('ROOT', 1, 'Scen7') :   0.0 :   Scen7.Pgh[1] - Scen1.Pgh[1] :   0.0 :   True\n",
      "      ('ROOT', 1, 'Scen8') :   0.0 :   Scen8.Pgh[1] - Scen1.Pgh[1] :   0.0 :   True\n",
      "      ('ROOT', 1, 'Scen9') :   0.0 :   Scen9.Pgh[1] - Scen1.Pgh[1] :   0.0 :   True\n",
      "      ('ROOT', 2, 'Scen2') :   0.0 : Scen2.PDns[1] - Scen1.PDns[1] :   0.0 :   True\n",
      "      ('ROOT', 2, 'Scen3') :   0.0 : Scen3.PDns[1] - Scen1.PDns[1] :   0.0 :   True\n",
      "      ('ROOT', 2, 'Scen4') :   0.0 : Scen4.PDns[1] - Scen1.PDns[1] :   0.0 :   True\n",
      "      ('ROOT', 2, 'Scen5') :   0.0 : Scen5.PDns[1] - Scen1.PDns[1] :   0.0 :   True\n",
      "      ('ROOT', 2, 'Scen6') :   0.0 : Scen6.PDns[1] - Scen1.PDns[1] :   0.0 :   True\n",
      "      ('ROOT', 2, 'Scen7') :   0.0 : Scen7.PDns[1] - Scen1.PDns[1] :   0.0 :   True\n",
      "      ('ROOT', 2, 'Scen8') :   0.0 : Scen8.PDns[1] - Scen1.PDns[1] :   0.0 :   True\n",
      "      ('ROOT', 2, 'Scen9') :   0.0 : Scen9.PDns[1] - Scen1.PDns[1] :   0.0 :   True\n",
      "      ('ROOT', 3, 'Scen2') :   0.0 :   Scen2.Vol[1] - Scen1.Vol[1] :   0.0 :   True\n",
      "      ('ROOT', 3, 'Scen3') :   0.0 :   Scen3.Vol[1] - Scen1.Vol[1] :   0.0 :   True\n",
      "      ('ROOT', 3, 'Scen4') :   0.0 :   Scen4.Vol[1] - Scen1.Vol[1] :   0.0 :   True\n",
      "      ('ROOT', 3, 'Scen5') :   0.0 :   Scen5.Vol[1] - Scen1.Vol[1] :   0.0 :   True\n",
      "      ('ROOT', 3, 'Scen6') :   0.0 :   Scen6.Vol[1] - Scen1.Vol[1] :   0.0 :   True\n",
      "      ('ROOT', 3, 'Scen7') :   0.0 :   Scen7.Vol[1] - Scen1.Vol[1] :   0.0 :   True\n",
      "      ('ROOT', 3, 'Scen8') :   0.0 :   Scen8.Vol[1] - Scen1.Vol[1] :   0.0 :   True\n",
      "      ('ROOT', 3, 'Scen9') :   0.0 :   Scen9.Vol[1] - Scen1.Vol[1] :   0.0 :   True\n",
      "    ('ROOT_0', 0, 'Scen2') :   0.0 :   Scen2.Pgt[2] - Scen1.Pgt[2] :   0.0 :   True\n",
      "    ('ROOT_0', 0, 'Scen3') :   0.0 :   Scen3.Pgt[2] - Scen1.Pgt[2] :   0.0 :   True\n",
      "    ('ROOT_0', 1, 'Scen2') :   0.0 :   Scen2.Pgh[2] - Scen1.Pgh[2] :   0.0 :   True\n",
      "    ('ROOT_0', 1, 'Scen3') :   0.0 :   Scen3.Pgh[2] - Scen1.Pgh[2] :   0.0 :   True\n",
      "    ('ROOT_0', 2, 'Scen2') :   0.0 : Scen2.PDns[2] - Scen1.PDns[2] :   0.0 :   True\n",
      "    ('ROOT_0', 2, 'Scen3') :   0.0 : Scen3.PDns[2] - Scen1.PDns[2] :   0.0 :   True\n",
      "    ('ROOT_0', 3, 'Scen2') :   0.0 :   Scen2.Vol[2] - Scen1.Vol[2] :   0.0 :   True\n",
      "    ('ROOT_0', 3, 'Scen3') :   0.0 :   Scen3.Vol[2] - Scen1.Vol[2] :   0.0 :   True\n",
      "    ('ROOT_1', 0, 'Scen5') :   0.0 :   Scen5.Pgt[2] - Scen4.Pgt[2] :   0.0 :   True\n",
      "    ('ROOT_1', 0, 'Scen6') :   0.0 :   Scen6.Pgt[2] - Scen4.Pgt[2] :   0.0 :   True\n",
      "    ('ROOT_1', 1, 'Scen5') :   0.0 :   Scen5.Pgh[2] - Scen4.Pgh[2] :   0.0 :   True\n",
      "    ('ROOT_1', 1, 'Scen6') :   0.0 :   Scen6.Pgh[2] - Scen4.Pgh[2] :   0.0 :   True\n",
      "    ('ROOT_1', 2, 'Scen5') :   0.0 : Scen5.PDns[2] - Scen4.PDns[2] :   0.0 :   True\n",
      "    ('ROOT_1', 2, 'Scen6') :   0.0 : Scen6.PDns[2] - Scen4.PDns[2] :   0.0 :   True\n",
      "    ('ROOT_1', 3, 'Scen5') :   0.0 :   Scen5.Vol[2] - Scen4.Vol[2] :   0.0 :   True\n",
      "    ('ROOT_1', 3, 'Scen6') :   0.0 :   Scen6.Vol[2] - Scen4.Vol[2] :   0.0 :   True\n",
      "    ('ROOT_2', 0, 'Scen8') :   0.0 :   Scen8.Pgt[2] - Scen7.Pgt[2] :   0.0 :   True\n",
      "    ('ROOT_2', 0, 'Scen9') :   0.0 :   Scen9.Pgt[2] - Scen7.Pgt[2] :   0.0 :   True\n",
      "    ('ROOT_2', 1, 'Scen8') :   0.0 :   Scen8.Pgh[2] - Scen7.Pgh[2] :   0.0 :   True\n",
      "    ('ROOT_2', 1, 'Scen9') :   0.0 :   Scen9.Pgh[2] - Scen7.Pgh[2] :   0.0 :   True\n",
      "    ('ROOT_2', 2, 'Scen8') :   0.0 : Scen8.PDns[2] - Scen7.PDns[2] :   0.0 :   True\n",
      "    ('ROOT_2', 2, 'Scen9') :   0.0 : Scen9.PDns[2] - Scen7.PDns[2] :   0.0 :   True\n",
      "    ('ROOT_2', 3, 'Scen8') :   0.0 :   Scen8.Vol[2] - Scen7.Vol[2] :   0.0 :   True\n",
      "    ('ROOT_2', 3, 'Scen9') :   0.0 :   Scen9.Vol[2] - Scen7.Vol[2] :   0.0 :   True\n"
     ]
    }
   ],
   "source": [
    "ef._C_EF_.pprint()"
   ],
   "metadata": {
    "collapsed": false,
    "ExecuteTime": {
     "end_time": "2024-10-03T20:54:02.511403Z",
     "start_time": "2024-10-03T20:54:02.506405Z"
    }
   },
   "id": "99e9a446b1f5a3a2",
   "execution_count": 68
  },
  {
   "cell_type": "code",
   "outputs": [],
   "source": [
    "# **** ph ****\n",
    "options[\"xhat_specific_options\"] = {\"xhat_solver_options\":\n",
    "                                      options[\"iterk_solver_options\"],\n",
    "                                      \"xhat_scenario_dict\": \\\n",
    "                                      {\"ROOT\": \"Scen1\",\n",
    "                                       \"ROOT_0\": \"Scen1\",\n",
    "                                       \"ROOT_1\": \"Scen4\",\n",
    "                                       \"ROOT_2\": \"Scen7\"},\n",
    "                                      \"csvname\": \"specific.csv\"}"
   ],
   "metadata": {
    "collapsed": false,
    "ExecuteTime": {
     "end_time": "2024-10-03T17:33:32.405341Z",
     "start_time": "2024-10-03T17:33:32.391694Z"
    }
   },
   "id": "7100c7aca3cd1cd5",
   "execution_count": 38
  },
  {
   "cell_type": "code",
   "outputs": [
    {
     "name": "stdout",
     "output_type": "stream",
     "text": [
      "[ 4235.46] Initializing SPBase\n",
      "Scenario instance creation times:\n",
      "\tmin=0.00 mean=0.00 max=0.00\n",
      "[ 4235.49] Initializing PHBase\n",
      "[ 4235.49] Creating solvers\n",
      "Set instance times:\n"
     ]
    },
    {
     "ename": "ValueError",
     "evalue": "zero-size array to reduction operation minimum which has no identity",
     "output_type": "error",
     "traceback": [
      "\u001B[1;31m---------------------------------------------------------------------------\u001B[0m",
      "\u001B[1;31mValueError\u001B[0m                                Traceback (most recent call last)",
      "Cell \u001B[1;32mIn[39], line 10\u001B[0m\n\u001B[0;32m      1\u001B[0m ph \u001B[38;5;241m=\u001B[39m mpisppy\u001B[38;5;241m.\u001B[39mopt\u001B[38;5;241m.\u001B[39mph\u001B[38;5;241m.\u001B[39mPH(\n\u001B[0;32m      2\u001B[0m         options,\n\u001B[0;32m      3\u001B[0m         all_scenario_names,\n\u001B[1;32m   (...)\u001B[0m\n\u001B[0;32m      7\u001B[0m         all_nodenames\u001B[38;5;241m=\u001B[39mall_nodenames,\n\u001B[0;32m      8\u001B[0m     )\n\u001B[1;32m---> 10\u001B[0m conv, obj, tbound \u001B[38;5;241m=\u001B[39m \u001B[43mph\u001B[49m\u001B[38;5;241;43m.\u001B[39;49m\u001B[43mph_main\u001B[49m\u001B[43m(\u001B[49m\u001B[43m)\u001B[49m\n\u001B[0;32m     11\u001B[0m \u001B[38;5;28;01mif\u001B[39;00m ph\u001B[38;5;241m.\u001B[39mcylinder_rank \u001B[38;5;241m==\u001B[39m \u001B[38;5;241m0\u001B[39m:\n\u001B[0;32m     12\u001B[0m      \u001B[38;5;28mprint\u001B[39m (\u001B[38;5;124m\"\u001B[39m\u001B[38;5;124mTrival bound =\u001B[39m\u001B[38;5;124m\"\u001B[39m,tbound)\n",
      "File \u001B[1;32m~\\.conda\\envs\\venv_energiapy\\lib\\site-packages\\mpisppy\\opt\\ph.py:58\u001B[0m, in \u001B[0;36mPH.ph_main\u001B[1;34m(self, finalize)\u001B[0m\n\u001B[0;32m     56\u001B[0m \u001B[38;5;28;01mif\u001B[39;00m (verbose):\n\u001B[0;32m     57\u001B[0m     \u001B[38;5;28mprint\u001B[39m(\u001B[38;5;124m'\u001B[39m\u001B[38;5;124mCalling PH Iter0 on global rank \u001B[39m\u001B[38;5;132;01m{}\u001B[39;00m\u001B[38;5;124m'\u001B[39m\u001B[38;5;241m.\u001B[39mformat(global_rank))\n\u001B[1;32m---> 58\u001B[0m trivial_bound \u001B[38;5;241m=\u001B[39m \u001B[38;5;28;43mself\u001B[39;49m\u001B[38;5;241;43m.\u001B[39;49m\u001B[43mIter0\u001B[49m\u001B[43m(\u001B[49m\u001B[43m)\u001B[49m\n\u001B[0;32m     59\u001B[0m \u001B[38;5;28;01mif\u001B[39;00m (verbose):\n\u001B[0;32m     60\u001B[0m     \u001B[38;5;28mprint\u001B[39m (\u001B[38;5;124m'\u001B[39m\u001B[38;5;124mCompleted PH Iter0 on global rank \u001B[39m\u001B[38;5;132;01m{}\u001B[39;00m\u001B[38;5;124m'\u001B[39m\u001B[38;5;241m.\u001B[39mformat(global_rank))\n",
      "File \u001B[1;32m~\\.conda\\envs\\venv_energiapy\\lib\\site-packages\\mpisppy\\phbase.py:794\u001B[0m, in \u001B[0;36mPHBase.Iter0\u001B[1;34m(self)\u001B[0m\n\u001B[0;32m    791\u001B[0m \u001B[38;5;28mself\u001B[39m\u001B[38;5;241m.\u001B[39m_save_original_nonants()\n\u001B[0;32m    793\u001B[0m global_toc(\u001B[38;5;124m\"\u001B[39m\u001B[38;5;124mCreating solvers\u001B[39m\u001B[38;5;124m\"\u001B[39m)\n\u001B[1;32m--> 794\u001B[0m \u001B[38;5;28;43mself\u001B[39;49m\u001B[38;5;241;43m.\u001B[39;49m\u001B[43m_create_solvers\u001B[49m\u001B[43m(\u001B[49m\u001B[43m)\u001B[49m\n\u001B[0;32m    796\u001B[0m teeme \u001B[38;5;241m=\u001B[39m (\u001B[38;5;124m\"\u001B[39m\u001B[38;5;124mtee-rank0-solves\u001B[39m\u001B[38;5;124m\"\u001B[39m \u001B[38;5;129;01min\u001B[39;00m \u001B[38;5;28mself\u001B[39m\u001B[38;5;241m.\u001B[39moptions\n\u001B[0;32m    797\u001B[0m          \u001B[38;5;129;01mand\u001B[39;00m \u001B[38;5;28mself\u001B[39m\u001B[38;5;241m.\u001B[39moptions[\u001B[38;5;124m'\u001B[39m\u001B[38;5;124mtee-rank0-solves\u001B[39m\u001B[38;5;124m'\u001B[39m]\n\u001B[0;32m    798\u001B[0m          \u001B[38;5;129;01mand\u001B[39;00m \u001B[38;5;28mself\u001B[39m\u001B[38;5;241m.\u001B[39mcylinder_rank \u001B[38;5;241m==\u001B[39m \u001B[38;5;241m0\u001B[39m\n\u001B[0;32m    799\u001B[0m          )\n\u001B[0;32m    801\u001B[0m \u001B[38;5;28;01mif\u001B[39;00m \u001B[38;5;28mself\u001B[39m\u001B[38;5;241m.\u001B[39moptions[\u001B[38;5;124m\"\u001B[39m\u001B[38;5;124mverbose\u001B[39m\u001B[38;5;124m\"\u001B[39m]:\n",
      "File \u001B[1;32m~\\.conda\\envs\\venv_energiapy\\lib\\site-packages\\mpisppy\\spopt.py:864\u001B[0m, in \u001B[0;36mSPOpt._create_solvers\u001B[1;34m(self)\u001B[0m\n\u001B[0;32m    861\u001B[0m asit \u001B[38;5;241m=\u001B[39m [sit \u001B[38;5;28;01mfor\u001B[39;00m l_sit \u001B[38;5;129;01min\u001B[39;00m all_set_instance_times \u001B[38;5;28;01mfor\u001B[39;00m sit \u001B[38;5;129;01min\u001B[39;00m l_sit]\n\u001B[0;32m    862\u001B[0m \u001B[38;5;28mprint\u001B[39m(\u001B[38;5;124m\"\u001B[39m\u001B[38;5;124mSet instance times:\u001B[39m\u001B[38;5;124m\"\u001B[39m)\n\u001B[0;32m    863\u001B[0m \u001B[38;5;28mprint\u001B[39m(\u001B[38;5;124m\"\u001B[39m\u001B[38;5;130;01m\\t\u001B[39;00m\u001B[38;5;124mmin=\u001B[39m\u001B[38;5;132;01m%4.2f\u001B[39;00m\u001B[38;5;124m mean=\u001B[39m\u001B[38;5;132;01m%4.2f\u001B[39;00m\u001B[38;5;124m max=\u001B[39m\u001B[38;5;132;01m%4.2f\u001B[39;00m\u001B[38;5;124m\"\u001B[39m \u001B[38;5;241m%\u001B[39m\n\u001B[1;32m--> 864\u001B[0m       (\u001B[43mnp\u001B[49m\u001B[38;5;241;43m.\u001B[39;49m\u001B[43mmin\u001B[49m\u001B[43m(\u001B[49m\u001B[43masit\u001B[49m\u001B[43m)\u001B[49m, np\u001B[38;5;241m.\u001B[39mmean(asit), np\u001B[38;5;241m.\u001B[39mmax(asit)))\n",
      "File \u001B[1;32m~\\.conda\\envs\\venv_energiapy\\lib\\site-packages\\numpy\\core\\fromnumeric.py:2953\u001B[0m, in \u001B[0;36mmin\u001B[1;34m(a, axis, out, keepdims, initial, where)\u001B[0m\n\u001B[0;32m   2836\u001B[0m \u001B[38;5;129m@array_function_dispatch\u001B[39m(_min_dispatcher)\n\u001B[0;32m   2837\u001B[0m \u001B[38;5;28;01mdef\u001B[39;00m \u001B[38;5;21mmin\u001B[39m(a, axis\u001B[38;5;241m=\u001B[39m\u001B[38;5;28;01mNone\u001B[39;00m, out\u001B[38;5;241m=\u001B[39m\u001B[38;5;28;01mNone\u001B[39;00m, keepdims\u001B[38;5;241m=\u001B[39mnp\u001B[38;5;241m.\u001B[39m_NoValue, initial\u001B[38;5;241m=\u001B[39mnp\u001B[38;5;241m.\u001B[39m_NoValue,\n\u001B[0;32m   2838\u001B[0m         where\u001B[38;5;241m=\u001B[39mnp\u001B[38;5;241m.\u001B[39m_NoValue):\n\u001B[0;32m   2839\u001B[0m \u001B[38;5;250m    \u001B[39m\u001B[38;5;124;03m\"\"\"\u001B[39;00m\n\u001B[0;32m   2840\u001B[0m \u001B[38;5;124;03m    Return the minimum of an array or minimum along an axis.\u001B[39;00m\n\u001B[0;32m   2841\u001B[0m \n\u001B[1;32m   (...)\u001B[0m\n\u001B[0;32m   2951\u001B[0m \u001B[38;5;124;03m    6\u001B[39;00m\n\u001B[0;32m   2952\u001B[0m \u001B[38;5;124;03m    \"\"\"\u001B[39;00m\n\u001B[1;32m-> 2953\u001B[0m     \u001B[38;5;28;01mreturn\u001B[39;00m \u001B[43m_wrapreduction\u001B[49m\u001B[43m(\u001B[49m\u001B[43ma\u001B[49m\u001B[43m,\u001B[49m\u001B[43m \u001B[49m\u001B[43mnp\u001B[49m\u001B[38;5;241;43m.\u001B[39;49m\u001B[43mminimum\u001B[49m\u001B[43m,\u001B[49m\u001B[43m \u001B[49m\u001B[38;5;124;43m'\u001B[39;49m\u001B[38;5;124;43mmin\u001B[39;49m\u001B[38;5;124;43m'\u001B[39;49m\u001B[43m,\u001B[49m\u001B[43m \u001B[49m\u001B[43maxis\u001B[49m\u001B[43m,\u001B[49m\u001B[43m \u001B[49m\u001B[38;5;28;43;01mNone\u001B[39;49;00m\u001B[43m,\u001B[49m\u001B[43m \u001B[49m\u001B[43mout\u001B[49m\u001B[43m,\u001B[49m\n\u001B[0;32m   2954\u001B[0m \u001B[43m                          \u001B[49m\u001B[43mkeepdims\u001B[49m\u001B[38;5;241;43m=\u001B[39;49m\u001B[43mkeepdims\u001B[49m\u001B[43m,\u001B[49m\u001B[43m \u001B[49m\u001B[43minitial\u001B[49m\u001B[38;5;241;43m=\u001B[39;49m\u001B[43minitial\u001B[49m\u001B[43m,\u001B[49m\u001B[43m \u001B[49m\u001B[43mwhere\u001B[49m\u001B[38;5;241;43m=\u001B[39;49m\u001B[43mwhere\u001B[49m\u001B[43m)\u001B[49m\n",
      "File \u001B[1;32m~\\.conda\\envs\\venv_energiapy\\lib\\site-packages\\numpy\\core\\fromnumeric.py:88\u001B[0m, in \u001B[0;36m_wrapreduction\u001B[1;34m(obj, ufunc, method, axis, dtype, out, **kwargs)\u001B[0m\n\u001B[0;32m     85\u001B[0m         \u001B[38;5;28;01melse\u001B[39;00m:\n\u001B[0;32m     86\u001B[0m             \u001B[38;5;28;01mreturn\u001B[39;00m reduction(axis\u001B[38;5;241m=\u001B[39maxis, out\u001B[38;5;241m=\u001B[39mout, \u001B[38;5;241m*\u001B[39m\u001B[38;5;241m*\u001B[39mpasskwargs)\n\u001B[1;32m---> 88\u001B[0m \u001B[38;5;28;01mreturn\u001B[39;00m ufunc\u001B[38;5;241m.\u001B[39mreduce(obj, axis, dtype, out, \u001B[38;5;241m*\u001B[39m\u001B[38;5;241m*\u001B[39mpasskwargs)\n",
      "\u001B[1;31mValueError\u001B[0m: zero-size array to reduction operation minimum which has no identity"
     ]
    }
   ],
   "source": [
    "ph = mpisppy.opt.ph.PH(\n",
    "        options,\n",
    "        all_scenario_names,\n",
    "        scenario_creator,\n",
    "        scenario_denouement,\n",
    "        scenario_creator_kwargs={\"branching_factors\": BFs},\n",
    "        all_nodenames=all_nodenames,\n",
    "    )\n",
    "\n",
    "conv, obj, tbound = ph.ph_main()\n",
    "if ph.cylinder_rank == 0:\n",
    "     print (\"Trival bound =\",tbound)"
   ],
   "metadata": {
    "collapsed": false,
    "ExecuteTime": {
     "end_time": "2024-10-03T17:33:32.850096Z",
     "start_time": "2024-10-03T17:33:32.780425Z"
    }
   },
   "id": "846190aa199cf8bd",
   "execution_count": 39
  },
  {
   "cell_type": "code",
   "outputs": [],
   "source": [],
   "metadata": {
    "collapsed": false
   },
   "id": "3eabf9c188266e56"
  }
 ],
 "metadata": {
  "kernelspec": {
   "display_name": "Python 3",
   "language": "python",
   "name": "python3"
  },
  "language_info": {
   "codemirror_mode": {
    "name": "ipython",
    "version": 2
   },
   "file_extension": ".py",
   "mimetype": "text/x-python",
   "name": "python",
   "nbconvert_exporter": "python",
   "pygments_lexer": "ipython2",
   "version": "2.7.6"
  }
 },
 "nbformat": 4,
 "nbformat_minor": 5
}
