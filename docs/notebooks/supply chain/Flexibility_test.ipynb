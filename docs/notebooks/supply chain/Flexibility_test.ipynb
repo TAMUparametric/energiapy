{
 "cells": [
  {
   "cell_type": "code",
   "id": "initial_id",
   "metadata": {
    "collapsed": true,
    "ExecuteTime": {
     "end_time": "2025-05-05T20:28:18.534042Z",
     "start_time": "2025-05-05T20:28:18.516112Z"
    }
   },
   "source": [
    "import itertools\n",
    "\n",
    "import numpy as np\n",
    "from pyomo.environ import *\n",
    "from pyomo.environ import value as pyoval"
   ],
   "outputs": [],
   "execution_count": 56
  },
  {
   "cell_type": "markdown",
   "source": [
    "## VERTEX ENUMERATION"
   ],
   "metadata": {
    "collapsed": false
   },
   "id": "157438b75e525284"
  },
  {
   "metadata": {
    "ExecuteTime": {
     "end_time": "2025-05-05T20:28:18.549707Z",
     "start_time": "2025-05-05T20:28:18.535104Z"
    }
   },
   "cell_type": "code",
   "source": [
    "# def vertex_enumerate(theta_nominal:list, theta_bounds:list) -> float:\n",
    "#     vertex_list = list(itertools.product(['+','-'], repeat=len(theta_nominal)))\n",
    "# \n",
    "#     if len(theta_nominal) != len(theta_bounds):\n",
    "#         raise ValueError('Inconsistent input for nominal theta values and theta bounds')\n",
    "#     else:\n",
    "#         model_min = None\n",
    "#         delta_min = None\n",
    "#         active_set_list = None\n",
    "#         vertex_min = None\n",
    "# \n",
    "#         for vertex in vertex_list:\n",
    "#             m = ConcreteModel()\n",
    "#             m.i = Set(initialize=[0,1,2,3], ordered=True)\n",
    "#             m.thetas = Var(m.i, within=NonNegativeReals)\n",
    "#             m.delta = Var(within=NonNegativeReals)\n",
    "#             m.z = Var(within=NonNegativeReals)\n",
    "# \n",
    "#             m.f1 = Constraint(expr = -m.z/1.5 + m.thetas[1] -350 <= 0)\n",
    "#             m.f2 = Constraint(expr = -0.5*m.z - 0.75*m.thetas[0] - m.thetas[1] - m.thetas[2] + 1388.5 <= 0)\n",
    "#             m.f3 = Constraint(expr = m.z - 1.5*m.thetas[0] - 2*m.thetas[1] - m.thetas[2] - 2*m.thetas[3] + 2830 <= 0)\n",
    "#             m.f4 = Constraint(expr = m.z - 1.5*m.thetas[0] - 2*m.thetas[1] - m.thetas[2] + 2044 <= 0)\n",
    "#             m.f5 = Constraint(expr = -m.z + 1.5*m.thetas[0] + 2*m.thetas[1] + m.thetas[2] + 3*m.thetas[3] - 3153 <= 0)\n",
    "# \n",
    "#             if vertex[0]=='+':\n",
    "#                 m.theta0_UB = Constraint(expr = m.thetas[0] == theta_nominal[0] + theta_bounds[0][1]*m.delta)\n",
    "#             elif vertex[0]=='-':\n",
    "#                 m.theta0_LB = Constraint(expr = m.thetas[0] == theta_nominal[0] - theta_bounds[0][0]*m.delta)\n",
    "# \n",
    "#             if vertex[1]=='+':\n",
    "#                 m.theta1_UB = Constraint(expr = m.thetas[1] == theta_nominal[1] + theta_bounds[1][1]*m.delta)\n",
    "#             elif vertex[1]=='-':\n",
    "#                 m.theta1_LB = Constraint(expr = m.thetas[1] == theta_nominal[1] - theta_bounds[1][0]*m.delta)\n",
    "# \n",
    "#             if vertex[2]=='+':\n",
    "#                 m.theta2_UB = Constraint(expr = m.thetas[2] == theta_nominal[2] + theta_bounds[2][1]*m.delta)\n",
    "#             elif vertex[2]=='-':\n",
    "#                 m.theta2_LB = Constraint(expr = m.thetas[2] == theta_nominal[2] - theta_bounds[2][0]*m.delta)\n",
    "# \n",
    "#             if vertex[3]=='+':\n",
    "#                 m.theta3_UB = Constraint(expr = m.thetas[3] == theta_nominal[3] + theta_bounds[3][1]*m.delta)\n",
    "#             elif vertex[3]=='-':\n",
    "#                 m.theta3_LB = Constraint(expr = m.thetas[3] == theta_nominal[3] - theta_bounds[3][0]*m.delta)\n",
    "# \n",
    "#             m.objective = Objective(expr=m.delta, sense=maximize)\n",
    "#             solver = SolverFactory('gurobi')\n",
    "#             solver.solve(m)\n",
    "# \n",
    "#             if delta_min is None or pyoval(m.delta) < delta_min:\n",
    "#                 delta_min = pyoval(m.delta)\n",
    "#                 active_set_list = [c.name for c in [m.f1, m.f2, m.f3, m.f4, m.f5] if round(pyoval(c.body),5) == round(pyoval(c.upper),5)]\n",
    "#                 model_min = m\n",
    "#                 vertex_min = vertex\n",
    "# \n",
    "#     return model_min, active_set_list, vertex_min, delta_min\n",
    "# \n",
    "# theta_nominal = [620, 388, 583, 313]\n",
    "# theta_bounds = [(10, 10), (10, 10), (10, 10), (10, 10)]\n",
    "# \n",
    "# model_VE1, active_set_list1, vertex1, delta1 = vertex_enumerate(theta_nominal=theta_nominal, theta_bounds=theta_bounds)\n",
    "# \n",
    "# print(f'Flexibility index calculated through vertex enumeration: {delta1}')\n",
    "# print(f'Active set for vertex {vertex1}: {active_set_list1}')"
   ],
   "id": "f692d53e50652e05",
   "outputs": [],
   "execution_count": 57
  },
  {
   "cell_type": "code",
   "outputs": [
    {
     "name": "stdout",
     "output_type": "stream",
     "text": [
      "Flexibility index calculated through vertex enumeration: 0.5600000000000023\n",
      "Active set for vertex ('-', '-', '-', '-'): ['f1', 'f3']\n"
     ]
    }
   ],
   "source": [
    "def vertex_enumerate(A, b, theta_nominal:list, theta_bounds:list, num_design:int=0, num_control:int=0):\n",
    "    vertex_list = list(itertools.product(['+','-'], repeat=len(theta_nominal)))\n",
    "\n",
    "    if len(theta_nominal) != len(theta_bounds):\n",
    "        raise ValueError('Inconsistent input for nominal theta values and theta bounds')\n",
    "    else:\n",
    "        model_min = None\n",
    "        delta_min = None\n",
    "        active_set_list = None\n",
    "        vertex_min = None\n",
    "\n",
    "        for vertex in vertex_list:\n",
    "            m = ConcreteModel()\n",
    "            \n",
    "            m.Ai = RangeSet(A.shape[0])\n",
    "            m.Aj = RangeSet(A.shape[1])\n",
    "            m.i = RangeSet(num_design + num_control + len(theta_nominal))\n",
    "\n",
    "            m.var = Var(m.i, within=NonNegativeReals) # structure (d,z,theta)\n",
    "            m.delta = Var(within=NonNegativeReals)\n",
    "            \n",
    "            # system constraints: f(d,z,theta) <= 0\n",
    "            def Ax_leq_b_rule(instance, i):\n",
    "                return sum(A[i-1, j-1]*instance.var[j] for j in instance.Aj) <= b[i-1]\n",
    "            m.Ax_leq_b = Constraint(m.Ai, rule=Ax_leq_b_rule)\n",
    "            \n",
    "            # theta constraints: theta = theta_nominal +- theta_bounds * delta\n",
    "            m.constraints = ConstraintList()\n",
    "            theta_index = num_design + num_control + 1\n",
    "            for i in range(len(theta_nominal)):\n",
    "                if vertex[i]=='+':\n",
    "                    expr = m.var[theta_index] == theta_nominal[i] + theta_bounds[i][1]*m.delta\n",
    "                else:\n",
    "                    expr = m.var[theta_index] == theta_nominal[i] - theta_bounds[i][0]*m.delta\n",
    "                m.constraints.add(expr)\n",
    "                theta_index+=1\n",
    "            \n",
    "            # Objective\n",
    "            m.objective = Objective(expr=m.delta, sense=maximize)\n",
    "            solver = SolverFactory('gurobi')\n",
    "            solver.solve(m)\n",
    "\n",
    "            if delta_min is None or pyoval(m.delta) < delta_min:\n",
    "                delta_min = pyoval(m.delta)\n",
    "                active_set_list = [f'f{c}' for c in m.Ax_leq_b if round(pyoval(m.Ax_leq_b[c].body),5) == round(pyoval(m.Ax_leq_b[c].upper),5)]\n",
    "                model_min = m\n",
    "                vertex_min = vertex\n",
    "\n",
    "    return model_min, active_set_list, vertex_min, delta_min\n",
    "\n",
    "theta_nominal = [620, 388, 583, 313]\n",
    "theta_bounds = [(10, 10), (10, 10), (10, 10), (10, 10)]\n",
    "\n",
    "A = np.array([\n",
    "    [-2/3, 0, 1, 0, 0],\n",
    "    [-0.5, -0.75, -1, -1, 0],\n",
    "    [1, -1.5, -2, -1, -2],\n",
    "    [1, -1.5, -2, -1, 0],\n",
    "    [-1, 1.5, 2, 1, 3]\n",
    "])\n",
    "\n",
    "b = np.array([350, -1388.5, -2830, -2044, 3153])\n",
    "\n",
    "model_VE2, active_set_list2, vertex2, delta2 = vertex_enumerate(A=A, b=b, num_control=1, theta_nominal=theta_nominal, theta_bounds=theta_bounds)\n",
    "\n",
    "print(f'Flexibility index calculated through vertex enumeration: {delta2}')\n",
    "print(f'Active set for vertex {vertex2}: {active_set_list2}')"
   ],
   "metadata": {
    "collapsed": false,
    "ExecuteTime": {
     "end_time": "2025-05-05T20:28:21.716109Z",
     "start_time": "2025-05-05T20:28:18.550795Z"
    }
   },
   "id": "ba498b8ea353aaee",
   "execution_count": 58
  },
  {
   "cell_type": "markdown",
   "source": [
    "## ACTIVE SET STRATEGY"
   ],
   "metadata": {
    "collapsed": false
   },
   "id": "221c66e8e54ecb58"
  },
  {
   "cell_type": "code",
   "outputs": [],
   "source": [
    "def active_set_method(A, b, theta_nominal:list, theta_bounds:list, num_design:int=0, num_control:int=0):\n",
    "    if len(theta_nominal) != len(theta_bounds):\n",
    "        raise ValueError('Inconsistent input for nominal theta values and theta bounds')\n",
    "    else:\n",
    "        m = ConcreteModel()\n",
    "        \n",
    "        m.Ai = RangeSet(A.shape[0])\n",
    "        m.Aj = RangeSet(A.shape[1])\n",
    "        m.i = RangeSet(num_design + num_control + len(theta_nominal))\n",
    "\n",
    "        m.var = Var(m.i, within=NonNegativeReals) # structure (d,z,theta, s, y, dual)\n",
    "        m.delta = Var(within=NonNegativeReals)"
   ],
   "metadata": {
    "collapsed": false
   },
   "id": "2686566477c446e7"
  },
  {
   "metadata": {
    "ExecuteTime": {
     "end_time": "2025-05-05T20:28:21.731428Z",
     "start_time": "2025-05-05T20:28:21.717695Z"
    }
   },
   "cell_type": "code",
   "source": [
    "# def active_set(theta_nominal:list, theta_bounds:list, bigM:float = 1e3):\n",
    "#     m = ConcreteModel()\n",
    "# \n",
    "#     m.j = Set(initialize=[1,2,3,4,5], ordered=True)\n",
    "#     m.t = Set(initialize=[0,1,2,3], ordered=True)\n",
    "# \n",
    "#     m.z = Var(within=NonNegativeReals)\n",
    "#     m.T = Var(m.t, within=NonNegativeReals)\n",
    "#     m.slack = Var(m.j, within=NonNegativeReals)\n",
    "#     m.dual = Var(m.j, within=NonNegativeReals)\n",
    "#     m.y = Var(m.j, within=Binary)\n",
    "#     m.delta = Var(within=NonNegativeReals)\n",
    "# \n",
    "#     m.f1 = Constraint(expr= -m.z/1.5 + m.T[1] -350 + m.slack[1] == 0)\n",
    "#     m.f2 = Constraint(expr = -0.5*m.z - 0.75*m.T[0] - m.T[1] - m.T[2] + 1388.5 + m.slack[2] == 0)\n",
    "#     m.f3 = Constraint(expr = m.z - 1.5*m.T[0] - 2*m.T[1] - m.T[2] - 2*m.T[3] + 2830 + m.slack[3] == 0)\n",
    "#     m.f4 = Constraint(expr = m.z - 1.5*m.T[0] - 2*m.T[1] - m.T[2] + 2044 + m.slack[4] == 0)\n",
    "#     m.f5 = Constraint(expr = -m.z + 1.5*m.T[0] + 2*m.T[1] + m.T[2] + 3*m.T[3] - 3153 + m.slack[5] == 0)\n",
    "# \n",
    "#     m.dual_sum = Constraint(expr = sum(m.dual[i] for i in m.j) == 1)\n",
    "#     m.df_dz = Constraint(expr = -m.dual[1]/1.5 + 0.5*m.dual[2] + m.dual[3] + m.dual[4] - m.dual[5] == 0)\n",
    "# \n",
    "#     def complementary_rule(instance, j):\n",
    "#         return instance.slack[j] - bigM*(1-instance.y[j]) <= 0\n",
    "#     m.complementary = Constraint(m.j, rule=complementary_rule)\n",
    "# \n",
    "#     def dual_UB_rule(instance, j):\n",
    "#         return instance.dual[j] - instance.y[j] <= 0\n",
    "#     m.dual_UB = Constraint(m.j, rule=dual_UB_rule)\n",
    "# \n",
    "#     m.max_active_set = Constraint(expr = sum(m.y[j] for j in m.j) == len(list(m.z.keys())) + 1)\n",
    "# \n",
    "#     def T_LB_rule(instance, t):\n",
    "#         return theta_nominal[t] - m.delta * theta_bounds[t][0] - instance.T[t] <= 0\n",
    "#     m.T_LB = Constraint(m.t, rule=T_LB_rule)\n",
    "# \n",
    "#     def T_UB_rule(instance, t):\n",
    "#         return instance.T[t] - theta_nominal[t] + m.delta * theta_bounds[t][1] <= 0\n",
    "#     m.T_UB = Constraint(m.t, rule=T_UB_rule)\n",
    "# \n",
    "#     m.objective = Objective(expr=m.delta, sense=minimize)\n",
    "# \n",
    "#     solver = SolverFactory('gurobi')\n",
    "#     solver.solve(m)\n",
    "# \n",
    "#     active_set_list = [getattr(m, f'f{j}').name for j in m.j if pyoval(m.dual[j])]\n",
    "# \n",
    "#     return m, active_set_list, pyoval(m.delta)\n",
    "# \n",
    "# theta_nominal = [620, 388, 583, 313]\n",
    "# theta_bounds = [(10, 10), (10, 10), (10, 10), (10, 10)]\n",
    "# \n",
    "# model_AS, active_set_list, flexibility_index = active_set(theta_nominal=theta_nominal, theta_bounds=theta_bounds, bigM=700)\n",
    "# \n",
    "# print(f'Flexibility index calculated through active set strategy: {flexibility_index}')\n",
    "# print(f'Active set: {active_set_list}')"
   ],
   "id": "d47b45802d412ab9",
   "outputs": [],
   "execution_count": 59
  },
  {
   "cell_type": "code",
   "outputs": [],
   "source": [],
   "metadata": {
    "collapsed": false,
    "ExecuteTime": {
     "end_time": "2025-05-05T20:28:21.746866Z",
     "start_time": "2025-05-05T20:28:21.732481Z"
    }
   },
   "id": "70aaa4f011d244b0",
   "execution_count": 59
  }
 ],
 "metadata": {
  "kernelspec": {
   "display_name": "Python 3",
   "language": "python",
   "name": "python3"
  },
  "language_info": {
   "codemirror_mode": {
    "name": "ipython",
    "version": 2
   },
   "file_extension": ".py",
   "mimetype": "text/x-python",
   "name": "python",
   "nbconvert_exporter": "python",
   "pygments_lexer": "ipython2",
   "version": "2.7.6"
  }
 },
 "nbformat": 4,
 "nbformat_minor": 5
}
