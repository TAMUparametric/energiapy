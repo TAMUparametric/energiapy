{
 "cells": [
  {
   "cell_type": "code",
   "id": "initial_id",
   "metadata": {
    "collapsed": true,
    "ExecuteTime": {
     "end_time": "2025-05-05T14:27:10.980827Z",
     "start_time": "2025-05-05T14:27:10.977526Z"
    }
   },
   "source": [
    "import itertools\n",
    "from pyomo.environ import *\n",
    "from pyomo.environ import value as pyoval"
   ],
   "outputs": [],
   "execution_count": 3
  },
  {
   "metadata": {
    "ExecuteTime": {
     "end_time": "2025-05-05T14:27:11.052988Z",
     "start_time": "2025-05-05T14:27:10.982826Z"
    }
   },
   "cell_type": "code",
   "source": [
    "def vertex_enumerate(theta_nominal:list, theta_bounds:list, vertex:tuple = ('lb', 'lb', 'lb', 'lb')) -> ConcreteModel:\n",
    "    \n",
    "    m = ConcreteModel()\n",
    "    m.i = Set(initialize=[0,1,2,3], ordered=True)\n",
    "\n",
    "    m.thetas = Var(m.i, within=NonNegativeReals)\n",
    "    m.delta = Var(within=NonNegativeReals)\n",
    "    m.z = Var(within=NonNegativeReals)\n",
    "    \n",
    "    m.f1 = Constraint(expr = -m.z/1.5 + m.thetas[1] -350 <= 0)\n",
    "    m.f2 = Constraint(expr = -0.5*m.z - 0.75*m.thetas[0] - m.thetas[1] - m.thetas[2] + 1388.5 <= 0)\n",
    "    m.f3 = Constraint(expr = m.z - 1.5*m.thetas[0] - 2*m.thetas[1] - m.thetas[2] - 2*m.thetas[3] + 2830 <= 0)\n",
    "    m.f4 = Constraint(expr = m.z - 1.5*m.thetas[0] - 2*m.thetas[1] - m.thetas[2] + 2044 <= 0)\n",
    "    m.f5 = Constraint(expr = -m.z + 1.5*m.thetas[0] + 2*m.thetas[1] + m.thetas[2] + 3*m.thetas[3] - 3153 <= 0)\n",
    "    \n",
    "    if vertex[0]=='ub':\n",
    "        m.theta0_UB = Constraint(expr = m.thetas[0] == theta_nominal[0] + theta_bounds[0][1]*m.delta)\n",
    "    else:\n",
    "        m.theta0_LB = Constraint(expr = m.thetas[0] == theta_nominal[0] - theta_bounds[0][0]*m.delta)\n",
    "        \n",
    "    if vertex[1]=='ub':\n",
    "        m.theta1_UB = Constraint(expr = m.thetas[1] == theta_nominal[1] + theta_bounds[1][1]*m.delta)\n",
    "    else:\n",
    "        m.theta1_LB = Constraint(expr = m.thetas[1] == theta_nominal[1] - theta_bounds[1][0]*m.delta)\n",
    "        \n",
    "    if vertex[2]=='ub':\n",
    "        m.theta2_UB = Constraint(expr = m.thetas[2] == theta_nominal[2] + theta_bounds[2][1]*m.delta)\n",
    "    else:\n",
    "        m.theta2_LB = Constraint(expr = m.thetas[2] == theta_nominal[2] - theta_bounds[2][0]*m.delta)\n",
    "    \n",
    "    if vertex[3]=='ub':\n",
    "        m.theta3_UB = Constraint(expr = m.thetas[3] == theta_nominal[3] + theta_bounds[3][1]*m.delta)\n",
    "    else:\n",
    "        m.theta3_LB = Constraint(expr = m.thetas[3] == theta_nominal[3] - theta_bounds[3][0]*m.delta)\n",
    "    \n",
    "    m.objective = Objective(expr=m.delta, sense=maximize)\n",
    "    \n",
    "    solver = SolverFactory('gurobi')\n",
    "    solver.solve(m)\n",
    "    \n",
    "    return pyoval(m.delta)\n",
    "\n",
    "theta_nominal = [620, 388, 583, 313]\n",
    "theta_bounds = [(10, 10), (10, 10), (10, 10), (10, 10)]\n",
    "\n",
    "vertex_list = list(itertools.product(['ub','lb'], repeat=len(theta_nominal)))\n",
    "delta_iter = list()\n",
    "\n",
    "if len(theta_nominal) != len(theta_bounds):\n",
    "    raise ValueError('Inconsistent input for nominal theta values and theta bounds')\n",
    "else:\n",
    "    for v in vertex_list:\n",
    "        delta_iter.append((v, vertex_enumerate(theta_nominal=theta_nominal, theta_bounds=theta_bounds, vertex = v)))\n",
    "\n",
    "min_idx = min(range(len(delta_iter)), key=lambda i:delta_iter[i][1])\n",
    "\n",
    "print(f'Flexibility Index calculated through vertex enumeration: {delta_iter[min_idx]}')"
   ],
   "id": "f692d53e50652e05",
   "outputs": [
    {
     "name": "stdout",
     "output_type": "stream",
     "text": [
      "Flexibility Index calculated through vertex enumeration: (('lb', 'lb', 'lb', 'lb'), 0.5600000000000023)\n"
     ]
    }
   ],
   "execution_count": 4
  },
  {
   "metadata": {
    "ExecuteTime": {
     "end_time": "2025-05-05T14:27:11.055681Z",
     "start_time": "2025-05-05T14:27:11.054110Z"
    }
   },
   "cell_type": "code",
   "source": "",
   "id": "d47b45802d412ab9",
   "outputs": [],
   "execution_count": 4
  }
 ],
 "metadata": {
  "kernelspec": {
   "display_name": "Python 3",
   "language": "python",
   "name": "python3"
  },
  "language_info": {
   "codemirror_mode": {
    "name": "ipython",
    "version": 2
   },
   "file_extension": ".py",
   "mimetype": "text/x-python",
   "name": "python",
   "nbconvert_exporter": "python",
   "pygments_lexer": "ipython2",
   "version": "2.7.6"
  }
 },
 "nbformat": 4,
 "nbformat_minor": 5
}
