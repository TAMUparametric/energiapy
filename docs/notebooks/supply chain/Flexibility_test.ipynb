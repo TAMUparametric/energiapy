{
 "cells": [
  {
   "cell_type": "code",
   "id": "initial_id",
   "metadata": {
    "collapsed": true,
    "ExecuteTime": {
     "end_time": "2025-05-06T20:43:51.862040Z",
     "start_time": "2025-05-06T20:43:51.850510Z"
    }
   },
   "source": [
    "import itertools\n",
    "\n",
    "import numpy as np\n",
    "from pyomo.environ import *\n",
    "from pyomo.environ import value as pyoval\n",
    "from typing import Tuple, Union\n",
    "from collections import defaultdict"
   ],
   "outputs": [],
   "execution_count": 45
  },
  {
   "cell_type": "markdown",
   "source": [
    "## VERTEX ENUMERATION\n",
    "\n",
    "delta = min delta^k\n",
    "\n",
    "delta^k = max delta\n",
    "\n",
    "s.t.    A (d, z, theta^k) <= b\n",
    "        theta = theta_nominal +/- theta_bounds\n",
    "        z, theta >= 0"
   ],
   "metadata": {
    "collapsed": false
   },
   "id": "157438b75e525284"
  },
  {
   "cell_type": "code",
   "outputs": [
    {
     "name": "stdout",
     "output_type": "stream",
     "text": [
      "Flexibility index calculated through vertex enumeration: 0.5600000000000023\n",
      "Active set for vertex ('-', '-', '-', '-'): ['f1', 'f3']\n"
     ]
    }
   ],
   "source": [
    "def vertex_enumeration(A:np.ndarray, b:np.ndarray, theta_nominal:list, theta_bounds:list, design_vectors:(np.ndarray, list[np.ndarray])=None, z_bounds:list[Tuple]=None):\n",
    "    \"\"\"\n",
    "    A(d, z, theta) <= b\n",
    "    Args:\n",
    "        A: 2-D numpy array of coefficients of design, control, and uncertain parameters A(d, z, theta)\n",
    "        b: 1-D numpy array of coefficients of constants\n",
    "        theta_nominal: List of nominal values of uncertain parameters\n",
    "        theta_bounds: List of bounds for uncertain parameters\n",
    "        design_vectors: List of 1-D numpy arrays of design variable values (or a single array)\n",
    "        z_bounds: List of bounds for control parameters\n",
    "\n",
    "    Returns:\n",
    "\n",
    "    \"\"\"\n",
    "    vertex_list = list(itertools.product(['+','-'], repeat=len(theta_nominal)))\n",
    "    \n",
    "    if not (isinstance(theta_nominal, list) and isinstance(theta_bounds, list) and all(isinstance(t, tuple) and len(t)==2 and all(isinstance(x, (int, float)) for x in t) for t in theta_bounds)):\n",
    "        raise ValueError('Please provide a list (of length num_theta) of tuples (of size 2) and containing only float or integer values!')\n",
    "    elif len(theta_nominal) != len(theta_bounds):\n",
    "        raise ValueError('Inconsistent input for nominal theta values and theta bounds')\n",
    "    \n",
    "    num_theta = len(theta_nominal)\n",
    "    num_design = len(design_vectors) if isinstance(design_vectors, list) else design_vectors.shape[0] if isinstance(design_vectors, np.ndarray) else 0\n",
    "    num_control = A.shape[1] - num_theta - num_design\n",
    "    \n",
    "    if num_control < 0:\n",
    "        raise ValueError('Inconsistent coefficients input')\n",
    "        \n",
    "    if z_bounds:        \n",
    "        if isinstance(z_bounds, list) and len(z_bounds) == num_control and all(isinstance(t, tuple) and len(t)==2 and all(isinstance(x, (int, float)) for x in t) for t in z_bounds):\n",
    "            print('z_bounds: ', z_bounds)\n",
    "        else:\n",
    "            raise ValueError('Please provide a list (of length num_control) of tuples (of size 2) and containing only float or integer values!')\n",
    "        \n",
    "    def evaluate_delta_fixed_design(z_b:list[Tuple]=None, design_vector:np.ndarray=None):\n",
    "        model_min = None\n",
    "        delta_min = None\n",
    "        active_set_list = None\n",
    "        vertex_min = None\n",
    "        \n",
    "        for vertex in vertex_list:\n",
    "            m = ConcreteModel()\n",
    "            m.Ai = RangeSet(A.shape[0])\n",
    "            m.Aj = RangeSet(A.shape[1])\n",
    "            m.i = RangeSet(num_design + num_control + num_theta)\n",
    "    \n",
    "            m.var = Var(m.i, within=NonNegativeReals) # structure (d,z,theta)\n",
    "            m.delta = Var(within=NonNegativeReals)\n",
    "            \n",
    "            # system constraints: A(d,z,theta) <= b\n",
    "            def Ax_leq_b_rule(instance, i):\n",
    "                return sum(A[i-1, j-1]*instance.var[j] for j in instance.Aj) <= b[i-1]\n",
    "            m.Ax_leq_b = Constraint(m.Ai, rule=Ax_leq_b_rule)\n",
    "            \n",
    "            # Add constraint for fixing first vars to the design value: d = dE\n",
    "            if isinstance(design_vector, np.ndarray):\n",
    "                m.d = RangeSet(num_design)\n",
    "                def fix_design_rule(instance, d):\n",
    "                    return instance.var[d] == design_vector[d-1]\n",
    "                m.d_eq = Constraint(m.d, rule=fix_design_rule)\n",
    "                \n",
    "            if z_b:\n",
    "                m.z = RangeSet(num_control)\n",
    "                def z_LB_rule(instance, z):\n",
    "                    return z_bounds[z-1][0] <= instance.var[num_design+z]\n",
    "                m.z_lb = Constraint(m.z, rule=z_LB_rule)\n",
    "                \n",
    "                def z_UB_rule(instance, z):\n",
    "                    return instance.var[num_design+z] <= z_bounds[z-1][1]\n",
    "                m.z_ub = Constraint(m.z, rule=z_UB_rule)\n",
    "            \n",
    "            # theta constraints: theta = theta_nominal +/- theta_bounds * delta\n",
    "            m.constraints = ConstraintList()\n",
    "            theta_index = num_design + num_control + 1\n",
    "            for i in range(len(theta_nominal)):\n",
    "                if vertex[i]=='+':\n",
    "                    expr = m.var[theta_index] == theta_nominal[i] + theta_bounds[i][1]*m.delta\n",
    "                else:\n",
    "                    expr = m.var[theta_index] == theta_nominal[i] - theta_bounds[i][0]*m.delta\n",
    "                m.constraints.add(expr)\n",
    "                theta_index+=1\n",
    "            \n",
    "            # Objective\n",
    "            m.objective = Objective(expr=m.delta, sense=maximize)\n",
    "            solver = SolverFactory('gurobi')\n",
    "            solver.solve(m)\n",
    "    \n",
    "            if delta_min is None or pyoval(m.delta) < delta_min:\n",
    "                delta_min = pyoval(m.delta)\n",
    "                active_set_list = [f'f{c}' for c in m.Ax_leq_b if round(pyoval(m.Ax_leq_b[c].body),5) == round(pyoval(m.Ax_leq_b[c].upper),5)]\n",
    "                model_min = m\n",
    "                vertex_min = vertex\n",
    "        \n",
    "        return model_min, active_set_list, vertex_min, delta_min\n",
    "    \n",
    "    if isinstance(design_vectors, list):\n",
    "        model_min, active_set_min, vertex_min, delta_min = [defaultdict(dict) for _ in range(4)]\n",
    "        for i in range(len(design_vectors)):\n",
    "            model_min[i], active_set_min[i], vertex_min[i], delta_min[i] = evaluate_delta_fixed_design(z_b=z_bounds, design_vector=design_vectors[i])\n",
    "        return model_min, active_set_min, vertex_min, delta_min\n",
    "    elif isinstance(design_vectors, np.ndarray):\n",
    "        return evaluate_delta_fixed_design(z_b=z_bounds, design_vector=design_vectors)\n",
    "    else:\n",
    "        return evaluate_delta_fixed_design(z_b=z_bounds)\n",
    "\n",
    "theta_nominal = [620, 388, 583, 313]\n",
    "theta_bounds = [(10, 10), (10, 10), (10, 10), (10, 10)]\n",
    "\n",
    "A = np.array([\n",
    "    [-2/3, 0, 1, 0, 0],\n",
    "    [-0.5, -0.75, -1, -1, 0],\n",
    "    [1, -1.5, -2, -1, -2],\n",
    "    [1, -1.5, -2, -1, 0],\n",
    "    [-1, 1.5, 2, 1, 3]\n",
    "])\n",
    "\n",
    "b = np.array([350, -1388.5, -2830, -2044, 3153])\n",
    "\n",
    "d0 = np.array([0.1, 0.2, 0.3, 0.4, 0.5])\n",
    "\n",
    "model_VE2, active_set_list2, vertex2, delta2 = vertex_enumeration(A=A, b=b, theta_nominal=theta_nominal, theta_bounds=theta_bounds)\n",
    "\n",
    "print(f'Flexibility index calculated through vertex enumeration: {delta2}')\n",
    "print(f'Active set for vertex {vertex2}: {active_set_list2}')"
   ],
   "metadata": {
    "collapsed": false,
    "ExecuteTime": {
     "end_time": "2025-05-06T20:43:55.196974Z",
     "start_time": "2025-05-06T20:43:51.909330Z"
    }
   },
   "id": "3264e197d51e9c41",
   "execution_count": 48
  },
  {
   "cell_type": "markdown",
   "source": [
    "## ACTIVE SET STRATEGY"
   ],
   "metadata": {
    "collapsed": false
   },
   "id": "221c66e8e54ecb58"
  },
  {
   "cell_type": "code",
   "outputs": [],
   "source": [
    "def active_set_method(A:np.ndarray, b:np.ndarray, theta_nominal:list, theta_bounds:list, design_vectors:(np.ndarray, list[np.ndarray])=None, z_bounds:list[Tuple]=None):\n",
    "    if not (isinstance(theta_nominal, list) and isinstance(theta_bounds, list) and all(isinstance(t, tuple) and len(t)==2 and all(isinstance(x, (int, float)) for x in t) for t in theta_bounds)):\n",
    "        raise ValueError('Please provide a list (of length num_theta) of tuples (of size 2) and containing only float or integer values!')\n",
    "    elif len(theta_nominal) != len(theta_bounds):\n",
    "        raise ValueError('Inconsistent input for nominal theta values and theta bounds')\n",
    "    \n",
    "    num_theta = len(theta_nominal)\n",
    "    num_design = len(design_vectors) if isinstance(design_vectors, list) else design_vectors.shape[0] if isinstance(design_vectors, np.ndarray) else 0\n",
    "    num_control = A.shape[1] - num_theta - num_design\n",
    "    \n",
    "    if num_control < 0:\n",
    "        raise ValueError('Inconsistent coefficients input')\n",
    "        \n",
    "    if z_bounds:        \n",
    "        if isinstance(z_bounds, list) and len(z_bounds) == num_control and all(isinstance(t, tuple) and len(t)==2 and all(isinstance(x, (int, float)) for x in t) for t in z_bounds):\n",
    "            print('z_bounds: ', z_bounds)\n",
    "        else:\n",
    "            raise ValueError('Please provide a list (of length num_control) of tuples (of size 2) and containing only float or integer values!')"
   ],
   "metadata": {
    "collapsed": false,
    "ExecuteTime": {
     "end_time": "2025-05-06T20:43:55.212773Z",
     "start_time": "2025-05-06T20:43:55.198023Z"
    }
   },
   "id": "2686566477c446e7",
   "execution_count": 49
  },
  {
   "metadata": {
    "ExecuteTime": {
     "end_time": "2025-05-06T20:43:55.228309Z",
     "start_time": "2025-05-06T20:43:55.214916Z"
    }
   },
   "cell_type": "code",
   "source": [
    "# def active_set(theta_nominal:list, theta_bounds:list, bigM:float = 1e3):\n",
    "#     m = ConcreteModel()\n",
    "# \n",
    "#     m.j = Set(initialize=[1,2,3,4,5], ordered=True)\n",
    "#     m.t = Set(initialize=[0,1,2,3], ordered=True)\n",
    "# \n",
    "#     m.z = Var(within=NonNegativeReals)\n",
    "#     m.T = Var(m.t, within=NonNegativeReals)\n",
    "#     m.slack = Var(m.j, within=NonNegativeReals)\n",
    "#     m.dual = Var(m.j, within=NonNegativeReals)\n",
    "#     m.y = Var(m.j, within=Binary)\n",
    "#     m.delta = Var(within=NonNegativeReals)\n",
    "# \n",
    "#     m.f1 = Constraint(expr= -m.z/1.5 + m.T[1] -350 + m.slack[1] == 0)\n",
    "#     m.f2 = Constraint(expr = -0.5*m.z - 0.75*m.T[0] - m.T[1] - m.T[2] + 1388.5 + m.slack[2] == 0)\n",
    "#     m.f3 = Constraint(expr = m.z - 1.5*m.T[0] - 2*m.T[1] - m.T[2] - 2*m.T[3] + 2830 + m.slack[3] == 0)\n",
    "#     m.f4 = Constraint(expr = m.z - 1.5*m.T[0] - 2*m.T[1] - m.T[2] + 2044 + m.slack[4] == 0)\n",
    "#     m.f5 = Constraint(expr = -m.z + 1.5*m.T[0] + 2*m.T[1] + m.T[2] + 3*m.T[3] - 3153 + m.slack[5] == 0)\n",
    "# \n",
    "#     m.dual_sum = Constraint(expr = sum(m.dual[i] for i in m.j) == 1)\n",
    "#     m.df_dz = Constraint(expr = -m.dual[1]/1.5 + 0.5*m.dual[2] + m.dual[3] + m.dual[4] - m.dual[5] == 0)\n",
    "# \n",
    "#     def complementary_rule(instance, j):\n",
    "#         return instance.slack[j] - bigM*(1-instance.y[j]) <= 0\n",
    "#     m.complementary = Constraint(m.j, rule=complementary_rule)\n",
    "# \n",
    "#     def dual_UB_rule(instance, j):\n",
    "#         return instance.dual[j] - instance.y[j] <= 0\n",
    "#     m.dual_UB = Constraint(m.j, rule=dual_UB_rule)\n",
    "# \n",
    "#     m.max_active_set = Constraint(expr = sum(m.y[j] for j in m.j) == len(list(m.z.keys())) + 1)\n",
    "# \n",
    "#     def T_LB_rule(instance, t):\n",
    "#         return theta_nominal[t] - m.delta * theta_bounds[t][0] - instance.T[t] <= 0\n",
    "#     m.T_LB = Constraint(m.t, rule=T_LB_rule)\n",
    "# \n",
    "#     def T_UB_rule(instance, t):\n",
    "#         return instance.T[t] - theta_nominal[t] + m.delta * theta_bounds[t][1] <= 0\n",
    "#     m.T_UB = Constraint(m.t, rule=T_UB_rule)\n",
    "# \n",
    "#     m.objective = Objective(expr=m.delta, sense=minimize)\n",
    "# \n",
    "#     solver = SolverFactory('gurobi')\n",
    "#     solver.solve(m)\n",
    "# \n",
    "#     active_set_list = [getattr(m, f'f{j}').name for j in m.j if pyoval(m.dual[j])]\n",
    "# \n",
    "#     return m, active_set_list, pyoval(m.delta)\n",
    "# \n",
    "# theta_nominal = [620, 388, 583, 313]\n",
    "# theta_bounds = [(10, 10), (10, 10), (10, 10), (10, 10)]\n",
    "# \n",
    "# model_AS, active_set_list, flexibility_index = active_set(theta_nominal=theta_nominal, theta_bounds=theta_bounds, bigM=700)\n",
    "# \n",
    "# print(f'Flexibility index calculated through active set strategy: {flexibility_index}')\n",
    "# print(f'Active set: {active_set_list}')"
   ],
   "id": "d47b45802d412ab9",
   "outputs": [],
   "execution_count": 50
  },
  {
   "cell_type": "code",
   "outputs": [],
   "source": [],
   "metadata": {
    "collapsed": false,
    "ExecuteTime": {
     "end_time": "2025-05-06T20:43:55.243888Z",
     "start_time": "2025-05-06T20:43:55.229390Z"
    }
   },
   "id": "70aaa4f011d244b0",
   "execution_count": 50
  }
 ],
 "metadata": {
  "kernelspec": {
   "display_name": "Python 3",
   "language": "python",
   "name": "python3"
  },
  "language_info": {
   "codemirror_mode": {
    "name": "ipython",
    "version": 2
   },
   "file_extension": ".py",
   "mimetype": "text/x-python",
   "name": "python",
   "nbconvert_exporter": "python",
   "pygments_lexer": "ipython2",
   "version": "2.7.6"
  }
 },
 "nbformat": 4,
 "nbformat_minor": 5
}
