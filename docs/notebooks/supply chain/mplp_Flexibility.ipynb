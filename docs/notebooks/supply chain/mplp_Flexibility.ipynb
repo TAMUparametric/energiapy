{
 "cells": [
  {
   "cell_type": "code",
   "source": [
    "from ppopt.mpmodel import MPModeler\n",
    "from ppopt.mp_solvers.solve_mpqp import solve_mpqp, mpqp_algorithm\n",
    "from ppopt.plot import parametric_plot_1D\n",
    "from ppopt.plot import parametric_plot\n",
    "from ppopt.mpqp_program import MPLP_Program\n",
    "import numpy as np\n",
    "import matplotlib.pyplot as plt"
   ],
   "metadata": {
    "collapsed": false,
    "ExecuteTime": {
     "end_time": "2025-05-22T01:21:48.792269Z",
     "start_time": "2025-05-22T01:21:48.786777Z"
    }
   },
   "id": "20200e0a32b35224",
   "outputs": [],
   "execution_count": 61
  },
  {
   "cell_type": "code",
   "source": [
    "# A = numpy.array([[1, 1, 0, 0], [0, 0, 1, 1], [-1, 0, -1, 0], [0, -1, 0, -1], [-1, 0, 0, 0], [0, -1, 0, 0], [0, 0, -1, 0], [0, 0, 0, -1]])\n",
    "# b = numpy.array([350, 600, 0, 0, 0, 0, 0, 0]).reshape(8, 1)\n",
    "# c = numpy.array([178, 187, 187, 151]).reshape(-1,1)\n",
    "# F = numpy.array([[0, 0], [0, 0], [-1, 0], [0, -1], [0, 0], [0, 0], [0, 0], [0, 0]])\n",
    "# CRa = numpy.vstack((numpy.eye(2), -numpy.eye(2)))\n",
    "# CRb = numpy.array([1000, 1000, 0, 0]).reshape(4, 1)\n",
    "# H = numpy.zeros((A.shape[1],F.shape[1]))\n",
    "# \n",
    "# prog = MPLP_Program(A, b, c, H, CRa, CRb, F)"
   ],
   "metadata": {
    "collapsed": false,
    "ExecuteTime": {
     "end_time": "2025-05-22T01:21:48.797480Z",
     "start_time": "2025-05-22T01:21:48.795308Z"
    }
   },
   "id": "361af2b31ca08403",
   "outputs": [],
   "execution_count": 62
  },
  {
   "cell_type": "code",
   "source": [
    "# m = MPModeler()\n",
    "# \n",
    "# u = m.add_var(name='u')\n",
    "# x = m.add_var(name='x')\n",
    "# z = m.add_var(name='z')\n",
    "# \n",
    "# t1 = m.add_param(name='t1')\n",
    "# t2 = m.add_param(name='t2')\n",
    "# d1 = m.add_param(name='d1')\n",
    "# d2 = m.add_param(name='d2')"
   ],
   "metadata": {
    "collapsed": false,
    "ExecuteTime": {
     "end_time": "2025-05-22T01:21:48.800673Z",
     "start_time": "2025-05-22T01:21:48.798780Z"
    }
   },
   "id": "efc3a1b8151490d3",
   "outputs": [],
   "execution_count": 63
  },
  {
   "cell_type": "code",
   "source": [
    "# m.add_constr(-2*x +3*z == 50 +t1 - d2)\n",
    "# m.add_constr(x - z/2 -u <= -25 +t1/2 -t2/2 -d1 +7*d2/2)\n",
    "# m.add_constr(-2*x +2*z -u <= -151/3 +4*t1/3 +t2 -2*d2)\n",
    "# m.add_constr(-x + 5*z/2 -u <= 26 -t1/2 +t2 +d1 -d2/2)\n",
    "# m.add_constr(0 <= x)\n",
    "# m.add_constr(0 <= z)\n",
    "# m.add_constr(0 <= t1)\n",
    "# m.add_constr(0 <= t2)\n",
    "# m.add_constr(0 <= d1)\n",
    "# m.add_constr(0 <= d2)\n",
    "# m.add_constr(t1 <= 4)\n",
    "# m.add_constr(t2 <= 4)\n",
    "# m.add_constr(d1 <= 5)\n",
    "# m.add_constr(d2 <= 5)"
   ],
   "metadata": {
    "collapsed": false,
    "ExecuteTime": {
     "end_time": "2025-05-22T01:21:48.803802Z",
     "start_time": "2025-05-22T01:21:48.801777Z"
    }
   },
   "id": "177a94249ffe336f",
   "outputs": [],
   "execution_count": 64
  },
  {
   "cell_type": "code",
   "source": [
    "# m.set_objective(u-50)"
   ],
   "metadata": {
    "collapsed": false,
    "ExecuteTime": {
     "end_time": "2025-05-22T01:21:48.806946Z",
     "start_time": "2025-05-22T01:21:48.804953Z"
    }
   },
   "id": "5c28cb9fbac25de4",
   "outputs": [],
   "execution_count": 65
  },
  {
   "cell_type": "code",
   "source": [
    "# prob = m.formulate_problem()\n",
    "# prob.process_constraints()"
   ],
   "metadata": {
    "collapsed": false,
    "ExecuteTime": {
     "end_time": "2025-05-22T01:21:48.810003Z",
     "start_time": "2025-05-22T01:21:48.808418Z"
    }
   },
   "id": "766c67c4c2107d93",
   "outputs": [],
   "execution_count": 66
  },
  {
   "cell_type": "code",
   "source": [
    "# solution = solve_mpqp(prob, mpqp_algorithm.combinatorial)"
   ],
   "metadata": {
    "collapsed": false,
    "ExecuteTime": {
     "end_time": "2025-05-22T01:21:48.812222Z",
     "start_time": "2025-05-22T01:21:48.810801Z"
    }
   },
   "id": "f989d3bb4ffc0514",
   "outputs": [],
   "execution_count": 67
  },
  {
   "cell_type": "code",
   "source": [
    "# solution"
   ],
   "metadata": {
    "collapsed": false,
    "ExecuteTime": {
     "end_time": "2025-05-22T01:21:48.814417Z",
     "start_time": "2025-05-22T01:21:48.812853Z"
    }
   },
   "id": "8f213236ddc1eec",
   "outputs": [],
   "execution_count": 68
  },
  {
   "metadata": {
    "ExecuteTime": {
     "end_time": "2025-05-22T01:21:48.817600Z",
     "start_time": "2025-05-22T01:21:48.815224Z"
    }
   },
   "cell_type": "code",
   "source": [
    "m_fixd = MPModeler()\n",
    "\n",
    "u = m_fixd.add_var(name='u')\n",
    "x = m_fixd.add_var(name='x')\n",
    "z = m_fixd.add_var(name='z')\n",
    "\n",
    "t1 = m_fixd.add_param(name='t1')\n",
    "t2 = m_fixd.add_param(name='t2')\n",
    "# d1 = m_fixd.add_param(name='d1')\n",
    "# d2 = m_fixd.add_param(name='d2')\n",
    "d1 = 5\n",
    "d2 = 5"
   ],
   "id": "789e550c6b8f520c",
   "outputs": [],
   "execution_count": 69
  },
  {
   "metadata": {
    "ExecuteTime": {
     "end_time": "2025-05-22T01:21:48.822140Z",
     "start_time": "2025-05-22T01:21:48.819102Z"
    }
   },
   "cell_type": "code",
   "source": [
    "m_fixd.add_constr(-2*x +3*z == 50 +t1 - d2)\n",
    "m_fixd.add_constr(x - z/2 -u <= -25 +t1/2 -t2/2 -d1 +7*d2/2)\n",
    "m_fixd.add_constr(-2*x +2*z -u <= -151/3 +4*t1/3 +t2 -2*d2)\n",
    "m_fixd.add_constr(-x + 5*z/2 -u <= 26 -t1/2 +t2 +d1 -d2/2)\n",
    "m_fixd.add_constr(0 <= x)\n",
    "m_fixd.add_constr(0 <= z)\n",
    "m_fixd.add_constr(0 <= t1)\n",
    "m_fixd.add_constr(0 <= t2)\n",
    "# m_fixd.add_constr(0 <= d1)\n",
    "# m_fixd.add_constr(0 <= d2)\n",
    "m_fixd.add_constr(t1 <= 4)\n",
    "m_fixd.add_constr(t2 <= 4)\n",
    "# m_fixd.add_constr(d1 <= 5)\n",
    "# m_fixd.add_constr(d2 <= 5)"
   ],
   "id": "a7a609aa7af79a16",
   "outputs": [],
   "execution_count": 70
  },
  {
   "metadata": {
    "ExecuteTime": {
     "end_time": "2025-05-22T01:21:48.824936Z",
     "start_time": "2025-05-22T01:21:48.823251Z"
    }
   },
   "cell_type": "code",
   "source": [
    "m_fixd.set_objective(u-50)"
   ],
   "id": "38e2b9f3908b4de7",
   "outputs": [],
   "execution_count": 71
  },
  {
   "metadata": {
    "ExecuteTime": {
     "end_time": "2025-05-22T01:21:48.835188Z",
     "start_time": "2025-05-22T01:21:48.826160Z"
    }
   },
   "cell_type": "code",
   "source": [
    "prob_fixd = m_fixd.formulate_problem()\n",
    "prob_fixd.process_constraints()"
   ],
   "id": "7ec8a81b7df4dd4d",
   "outputs": [],
   "execution_count": 72
  },
  {
   "metadata": {
    "ExecuteTime": {
     "end_time": "2025-05-22T01:21:48.847731Z",
     "start_time": "2025-05-22T01:21:48.837131Z"
    }
   },
   "cell_type": "code",
   "source": [
    "solution_fixd = solve_mpqp(prob_fixd, mpqp_algorithm.combinatorial)"
   ],
   "id": "9a54b4d59ecbad3b",
   "outputs": [],
   "execution_count": 73
  },
  {
   "metadata": {
    "ExecuteTime": {
     "end_time": "2025-05-22T01:21:48.852721Z",
     "start_time": "2025-05-22T01:21:48.849043Z"
    }
   },
   "cell_type": "code",
   "source": [
    "solution_fixd"
   ],
   "id": "924dae19adf315cc",
   "outputs": [
    {
     "data": {
      "text/plain": [
       "Solution(program=<ppopt.mplp_program.MPLP_Program object at 0x10ee37760>, critical_regions=[Critical region with active set [0, 1, 2]\n",
       "The Omega Constraint indices are [0, 3]\n",
       "The Lagrange multipliers Constraint indices are []\n",
       "The Regular Constraint indices are [[0], [3]]\n",
       "  x(θ) = Aθ + b \n",
       " λ(θ) = Cθ + d \n",
       "  Eθ <= f\n",
       " A = [[-6.66666667e-01 -2.50000000e-01]\n",
       " [ 2.08815747e-16 -1.12500000e+00]\n",
       " [ 3.33333333e-01 -7.50000000e-01]] \n",
       " b = [[47.66666667]\n",
       " [64.        ]\n",
       " [57.66666667]] \n",
       " C = [[0. 0.]\n",
       " [0. 0.]\n",
       " [0. 0.]] \n",
       " d = [[-0.93541435]\n",
       " [ 0.8291562 ]\n",
       " [ 1.71593836]] \n",
       " E = [[ 0.8 -0.6]\n",
       " [-1.   0. ]\n",
       " [ 0.   1. ]] \n",
       " f = [[-1.6]\n",
       " [-0. ]\n",
       " [ 4. ]], Critical region with active set [0, 2, 3]\n",
       "The Omega Constraint indices are [0, 1, 2, 3]\n",
       "The Lagrange multipliers Constraint indices are []\n",
       "The Regular Constraint indices are [[0], [1]]\n",
       "  x(θ) = Aθ + b \n",
       " λ(θ) = Cθ + d \n",
       "  Eθ <= f\n",
       " A = [[ 3.33333333e-01 -1.00000000e+00]\n",
       " [-1.50000000e+00  1.88071439e-16]\n",
       " [-6.66666667e-01 -1.11022302e-16]] \n",
       " b = [[49.66666667]\n",
       " [61.        ]\n",
       " [55.66666667]] \n",
       " C = [[0. 0.]\n",
       " [0. 0.]\n",
       " [0. 0.]] \n",
       " d = [[-2.80624304]\n",
       " [ 1.71593836]\n",
       " [ 1.5411035 ]] \n",
       " E = [[-0.8  0.6]\n",
       " [-1.   0. ]\n",
       " [ 0.  -1. ]\n",
       " [ 1.   0. ]\n",
       " [ 0.   1. ]] \n",
       " f = [[ 1.6]\n",
       " [-0. ]\n",
       " [-0. ]\n",
       " [ 4. ]\n",
       " [ 4. ]]])"
      ]
     },
     "execution_count": 74,
     "metadata": {},
     "output_type": "execute_result"
    }
   ],
   "execution_count": 74
  },
  {
   "metadata": {
    "ExecuteTime": {
     "end_time": "2025-05-22T01:21:48.857224Z",
     "start_time": "2025-05-22T01:21:48.853547Z"
    }
   },
   "cell_type": "code",
   "source": [
    "solution_fixd.critical_regions"
   ],
   "id": "1b72658e9bab580",
   "outputs": [
    {
     "data": {
      "text/plain": [
       "[Critical region with active set [0, 1, 2]\n",
       " The Omega Constraint indices are [0, 3]\n",
       " The Lagrange multipliers Constraint indices are []\n",
       " The Regular Constraint indices are [[0], [3]]\n",
       "   x(θ) = Aθ + b \n",
       "  λ(θ) = Cθ + d \n",
       "   Eθ <= f\n",
       "  A = [[-6.66666667e-01 -2.50000000e-01]\n",
       "  [ 2.08815747e-16 -1.12500000e+00]\n",
       "  [ 3.33333333e-01 -7.50000000e-01]] \n",
       "  b = [[47.66666667]\n",
       "  [64.        ]\n",
       "  [57.66666667]] \n",
       "  C = [[0. 0.]\n",
       "  [0. 0.]\n",
       "  [0. 0.]] \n",
       "  d = [[-0.93541435]\n",
       "  [ 0.8291562 ]\n",
       "  [ 1.71593836]] \n",
       "  E = [[ 0.8 -0.6]\n",
       "  [-1.   0. ]\n",
       "  [ 0.   1. ]] \n",
       "  f = [[-1.6]\n",
       "  [-0. ]\n",
       "  [ 4. ]],\n",
       " Critical region with active set [0, 2, 3]\n",
       " The Omega Constraint indices are [0, 1, 2, 3]\n",
       " The Lagrange multipliers Constraint indices are []\n",
       " The Regular Constraint indices are [[0], [1]]\n",
       "   x(θ) = Aθ + b \n",
       "  λ(θ) = Cθ + d \n",
       "   Eθ <= f\n",
       "  A = [[ 3.33333333e-01 -1.00000000e+00]\n",
       "  [-1.50000000e+00  1.88071439e-16]\n",
       "  [-6.66666667e-01 -1.11022302e-16]] \n",
       "  b = [[49.66666667]\n",
       "  [61.        ]\n",
       "  [55.66666667]] \n",
       "  C = [[0. 0.]\n",
       "  [0. 0.]\n",
       "  [0. 0.]] \n",
       "  d = [[-2.80624304]\n",
       "  [ 1.71593836]\n",
       "  [ 1.5411035 ]] \n",
       "  E = [[-0.8  0.6]\n",
       "  [-1.   0. ]\n",
       "  [ 0.  -1. ]\n",
       "  [ 1.   0. ]\n",
       "  [ 0.   1. ]] \n",
       "  f = [[ 1.6]\n",
       "  [-0. ]\n",
       "  [-0. ]\n",
       "  [ 4. ]\n",
       "  [ 4. ]]]"
      ]
     },
     "execution_count": 75,
     "metadata": {},
     "output_type": "execute_result"
    }
   ],
   "execution_count": 75
  },
  {
   "metadata": {
    "ExecuteTime": {
     "end_time": "2025-05-22T01:21:49.087319Z",
     "start_time": "2025-05-22T01:21:48.858517Z"
    }
   },
   "cell_type": "code",
   "source": [
    "def f(x,y):\n",
    "    return solution_fixd.evaluate_objective(np.array([x,y]).reshape(-1,1))\n",
    "\n",
    "x = y = np.arange(0, 4, 0.05)\n",
    "X, Y = np.meshgrid(x, y)\n",
    "\n",
    "zs = np.array([f(x,y) for x,y in zip(np.ravel(X), np.ravel(Y))])\n",
    "Z = zs.reshape(len(x), len(y))\n",
    "\n",
    "from matplotlib.colors import ListedColormap, BoundaryNorm\n",
    "colors = ['blue', 'white', 'red']\n",
    "cmap = ListedColormap(colors)\n",
    "\n",
    "bounds = [-np.inf, 0, np.inf]\n",
    "norm = BoundaryNorm(bounds, cmap.N)\n",
    "\n",
    "contour = plt.contourf(X, Y, Z, levels=100, cmap=cmap, norm=norm)\n",
    "cbar = plt.colorbar(contour, ticks=[-1,0,1])\n",
    "cbar.set_label(r'$\\psi(\\theta_1, \\theta_2)$ values')\n",
    "\n",
    "\n",
    "plt.xlabel(r'$\\theta_1$')\n",
    "plt.ylabel(r'$\\theta_2$')\n",
    "plt.title(f'$d_1 = {d1}, d_2 = {d2}$ feasibility results')\n",
    "plt.show()"
   ],
   "id": "13c6f1214e7e61da",
   "outputs": [
    {
     "data": {
      "text/plain": [
       "<Figure size 640x480 with 2 Axes>"
      ],
      "image/png": "[encoded data removed]"
     },
     "metadata": {},
     "output_type": "display_data"
    }
   ],
   "execution_count": 76
  },
  {
   "metadata": {
    "ExecuteTime": {
     "end_time": "2025-05-22T01:21:49.090024Z",
     "start_time": "2025-05-22T01:21:49.088558Z"
    }
   },
   "cell_type": "code",
   "source": [],
   "id": "3f23a557d94fa32d",
   "outputs": [],
   "execution_count": 76
  }
 ],
 "metadata": {
  "kernelspec": {
   "display_name": "Python 3",
   "language": "python",
   "name": "python3"
  },
  "language_info": {
   "codemirror_mode": {
    "name": "ipython",
    "version": 2
   },
   "file_extension": ".py",
   "mimetype": "text/x-python",
   "name": "python",
   "nbconvert_exporter": "python",
   "pygments_lexer": "ipython2",
   "version": "2.7.6"
  }
 },
 "nbformat": 4,
 "nbformat_minor": 5
}
