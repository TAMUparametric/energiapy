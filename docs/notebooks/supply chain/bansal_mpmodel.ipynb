{
 "cells": [
  {
   "cell_type": "markdown",
   "metadata": {},
   "source": [
    "This is the first example (Deterministic flexibility) in this Bansal paper https://aiche.onlinelibrary.wiley.com/doi/epdf/10.1002/aic.690460212"
   ]
  },
  {
   "cell_type": "code",
   "execution_count": 2,
   "metadata": {},
   "outputs": [],
   "source": [
    "from sys import executable\n",
    "from pyomo.environ import *\n",
    "from pyomo.core import *\n",
    "import numpy as np\n",
    "import pandas as pd\n",
    "\n",
    "from ppopt.mpmodel import MPModeler, VariableType\n",
    "from ppopt.mp_solvers.solve_mpqp import solve_mpqp, mpqp_algorithm\n",
    "from matplotlib import pyplot as plt\n",
    "import sympy as sp"
   ]
  },
  {
   "cell_type": "code",
   "execution_count": 3,
   "metadata": {},
   "outputs": [
    {
     "name": "stdout",
     "output_type": "stream",
     "text": [
      "Set parameter Username\n",
      "\n",
      "--------------------------------------------\n",
      "Warning: your license will expire in 3 days\n",
      "--------------------------------------------\n",
      "\n",
      "Academic license - for non-commercial use only - expires 2025-03-15\n"
     ]
    },
    {
     "data": {
      "text/plain": [
       "0.8565688602255445"
      ]
     },
     "execution_count": 3,
     "metadata": {},
     "output_type": "execute_result"
    }
   ],
   "source": [
    "# range of allowable design variable values\n",
    "\n",
    "d1 = [0, 5]\n",
    "d2 = [0, 5]\n",
    "d_nom = [2.5, 2.5]\n",
    "d_std = [5/6,5/6]\n",
    "\n",
    "# parameters\n",
    "theta1_values = [0, 4]\n",
    "theta2_values = [0, 4]\n",
    "theta_nom = [2,2]\n",
    "theta_std = [0.5, 0.5]\n",
    "\n",
    "model = MPModeler()\n",
    "\n",
    "# variables\n",
    "u = model.add_var(name = 'u')\n",
    "x = model.add_var(name = 'x')\n",
    "z = model.add_var(name = 'z')\n",
    "\n",
    "# uncertain parameters\n",
    "theta_1 = model.add_param(name = 'theta_1')\n",
    "theta_2 = model.add_param(name = 'theta_2')\n",
    "d1_temp = model.add_param(name = 'd1_temp')\n",
    "d2_temp = model.add_param(name = 'd2_temp')\n",
    "\n",
    "# constraints\n",
    "model.add_constr(2*x - 3*z + theta_1 - d1_temp - 50 == 0)\n",
    "model.add_constr(x - 0.5*z + 25 - 0.5*theta_1 + 0.5*theta_2 + d1_temp - 3.5*d2_temp <= u)\n",
    "model.add_constr(-2*x + 2*z + 1/3 - (4/3)*theta_1 - theta_2 + 2*d2_temp <= u)\n",
    "model.add_constr(-x + 2.5*z + 74 + 0.5*theta_1 - theta_2 - d1_temp + 0.5*d2_temp <= u)\n",
    "\n",
    "# bounds on uncertain parameters\n",
    "model.add_constr(theta_1 >= theta1_values[0])\n",
    "model.add_constr(theta_1 <= theta1_values[1])\n",
    "model.add_constr(theta_2 >= theta2_values[0])\n",
    "model.add_constr(theta_2 <= theta2_values[1])\n",
    "model.add_constr(d1_temp >= d1[0])\n",
    "model.add_constr(d1_temp <= d1[1])\n",
    "model.add_constr(d2_temp >= d2[0])\n",
    "model.add_constr(d2_temp <= d2[1])\n",
    "\n",
    "\n",
    "model.set_objective(u)\n",
    "prog = model.formulate_problem()\n",
    "solution = solve_mpqp(prog)\n",
    "region_list = solution.critical_regions\n",
    "\n",
    "\n",
    "# explicit stochastic flexibility assuming normal distribution for theta and design\n",
    "\n",
    "mean = [theta_nom[0], theta_nom[1], d_nom[0], d_nom[1]]\n",
    "cov = np.diag([theta_std[0]**2, theta_std[1]**2, d_std[0]**2, d_std[1]**2])\n",
    "\n",
    "mu_vector = []\n",
    "sigma_vector = []\n",
    "\n",
    "for region in range(len(region_list)):\n",
    "    A = region_list[region].A[0,:] # the theta coeffs\n",
    "    b = region_list[region].b[0] # the constant term\n",
    "    mu = A@mean + b\n",
    "    sigma = A@cov@A.T\n",
    "    mu_vector.append(mu[0])\n",
    "    sigma_vector.append(sigma)\n",
    "\n",
    "lambda_vector = []\n",
    "for region in range(len(region_list)):\n",
    "    A = region_list[region].A[0,:] # the theta coeffs\n",
    "    lambda_vector.append(A)\n",
    "\n",
    "lambda_matrix = np.array(lambda_vector)\n",
    "\n",
    "sigma_psi = lambda_matrix@cov@lambda_matrix.T\n",
    "\n",
    "from scipy.stats import multivariate_normal\n",
    "\n",
    "dist = multivariate_normal(mu_vector, sigma_psi)\n",
    "\n",
    "\n",
    "# Evaluate the probability density function at a specific point\n",
    "# Calculate the probability of a specific region\n",
    "upper_bound = [0,0]\n",
    "probability = dist.cdf(upper_bound)\n",
    "probability"
   ]
  },
  {
   "cell_type": "code",
   "execution_count": 4,
   "metadata": {},
   "outputs": [
    {
     "name": "stdout",
     "output_type": "stream",
     "text": [
      "The stochastic flexibility index is [1.71495623e-18 1.71495623e-18] given d1 = 0, d2 = 5\n"
     ]
    }
   ],
   "source": [
    "# case: fixed design value\n",
    "\n",
    "d1 = [0, 5]\n",
    "d2 = [0, 5]\n",
    "\n",
    "model = MPModeler()\n",
    "\n",
    "# parameters\n",
    "theta1_values = [0, 4]\n",
    "theta2_values = [0, 4]\n",
    "theta_nom = [2,2]\n",
    "theta_std = [0.5, 0.5]\n",
    "\n",
    "# temporary design variables\n",
    "d1_temp = min(d1)\n",
    "d2_temp = max(d2)\n",
    "\n",
    "# design capacity\n",
    "d1_cap = 1\n",
    "d2_cap = 1\n",
    "\n",
    "# variables\n",
    "u = model.add_var(name = 'u')\n",
    "x = model.add_var(name = 'x')\n",
    "z = model.add_var(name = 'z')\n",
    "\n",
    "# uncertain parameters\n",
    "theta_1 = model.add_param(name = 'theta_1')\n",
    "theta_2 = model.add_param(name = 'theta_2')\n",
    "\n",
    "# constraints\n",
    "model.add_constr(2*x - 3*z + theta_1 - d1_cap*d1_temp - 50 == 0)\n",
    "model.add_constr(x - 0.5*z + 25 - 0.5*theta_1 + 0.5*theta_2 + d1_cap*d1_temp - 3.5*d2_temp*d2_cap <= u)\n",
    "model.add_constr(-2*x + 2*z + 1/3 - (4/3)*theta_1 - theta_2 + 2*d2_temp*d2_cap <= u)\n",
    "model.add_constr(-x + 2.5*z + 74 + 0.5*theta_1 - theta_2 - d1_cap*d1_temp + 0.5*d2_temp*d2_cap <= u)\n",
    "\n",
    "# bounds on uncertain parameters\n",
    "model.add_constr(theta_1 >= theta1_values[0])\n",
    "model.add_constr(theta_1 <= theta1_values[1])\n",
    "model.add_constr(theta_2 >= theta2_values[0])\n",
    "model.add_constr(theta_2 <= theta2_values[1])\n",
    "\n",
    "model.set_objective(u)\n",
    "prog = model.formulate_problem()\n",
    "solution = solve_mpqp(prog)\n",
    "region_list = solution.critical_regions\n",
    "# building flex matrix u = [delta, design variables, constants]\n",
    "\n",
    "parameters = len(model.parameters) # number of uncertain parameters\n",
    "\n",
    "# explicit stochastic flexibility assuming normal distribution for theta and design\n",
    "\n",
    "mean = [theta_nom[0], theta_nom[1]]\n",
    "cov = np.diag([theta_std[0]**2, theta_std[1]**2])\n",
    "\n",
    "mu_vector = []\n",
    "sigma_vector = []\n",
    "\n",
    "for region in range(len(region_list)):\n",
    "    A = region_list[region].A[0,:] # the theta coeffs\n",
    "    b = region_list[region].b[0] # the constant term\n",
    "    mu = A@mean + b\n",
    "    sigma = A@cov@A.T\n",
    "    mu_vector.append(mu[0])\n",
    "    sigma_vector.append(sigma)\n",
    "\n",
    "lambda_vector = []\n",
    "for region in range(len(region_list)):\n",
    "    A = region_list[region].A[0,:] # the theta coeffs\n",
    "    lambda_vector.append(A)\n",
    "\n",
    "lambda_matrix = np.array(lambda_vector)\n",
    "\n",
    "sigma_psi = lambda_matrix@cov@lambda_matrix.T\n",
    "\n",
    "from scipy.stats import multivariate_normal\n",
    "\n",
    "dist = multivariate_normal(mu_vector, sigma_psi)\n",
    "\n",
    "\n",
    "# Evaluate the probability density function at a specific point\n",
    "# Calculate the probability of a specific region\n",
    "upper_bound = [0,0]\n",
    "probability = dist.cdf(upper_bound)\n",
    "\n",
    "print('The stochastic flexibility index is {} given d1 = {}, d2 = {}'.format(probability, d1_temp, d2_temp))"
   ]
  },
  {
   "cell_type": "code",
   "execution_count": 5,
   "metadata": {},
   "outputs": [
    {
     "name": "stdout",
     "output_type": "stream",
     "text": [
      "[Critical region with active set [0, 1, 2]\n",
      "The Omega Constraint indices are [0, 1, 2, 3]\n",
      "The Lagrange multipliers Constraint indices are []\n",
      "The Regular Constraint indices are [[], []]\n",
      "  x(θ) = Aθ + b \n",
      " λ(θ) = Cθ + d \n",
      "  Eθ <= f\n",
      " A = [[ 3.33333333e-01 -1.00000000e+00]\n",
      " [-1.50000000e+00 -2.89077034e-16]\n",
      " [-6.66666667e-01 -3.49793428e-16]] \n",
      " b = [[  5.91666667]\n",
      " [-43.375     ]\n",
      " [-45.58333333]] \n",
      " C = [[0. 0.]\n",
      " [0. 0.]\n",
      " [0. 0.]] \n",
      " d = [[2.80624304]\n",
      " [1.71593836]\n",
      " [1.5411035 ]] \n",
      " E = [[-1.  0.]\n",
      " [ 1.  0.]\n",
      " [ 0. -1.]\n",
      " [ 0.  1.]] \n",
      " f = [[-0.]\n",
      " [ 4.]\n",
      " [-0.]\n",
      " [ 4.]]]\n"
     ]
    }
   ],
   "source": [
    "print(region_list)"
   ]
  },
  {
   "cell_type": "code",
   "execution_count": 111,
   "metadata": {},
   "outputs": [
    {
     "data": {
      "image/png": "[encoded data removed]",
      "text/plain": [
       "<Figure size 640x480 with 2 Axes>"
      ]
     },
     "metadata": {},
     "output_type": "display_data"
    }
   ],
   "source": [
    "def f(x,y):\n",
    "    return solution.evaluate_objective(np.array([x,y]).reshape(-1,1))[0][0]\n",
    "\n",
    "x = y = np.arange(0, 4, 0.05)\n",
    "X, Y = np.meshgrid(x, y)\n",
    "\n",
    "zs = np.array([f(x,y) for x,y in zip(np.ravel(X), np.ravel(Y))])\n",
    "Z = zs.reshape(len(x), len(y))\n",
    "\n",
    "from matplotlib.colors import ListedColormap, BoundaryNorm\n",
    "colors = ['blue', 'white', 'red']\n",
    "cmap = ListedColormap(colors)\n",
    "\n",
    "bounds = [-np.inf, 0, np.inf]\n",
    "norm = BoundaryNorm(bounds, cmap.N)\n",
    "\n",
    "contour = plt.contourf(X, Y, Z, levels=100, cmap=cmap, norm=norm)\n",
    "cbar = plt.colorbar(contour, ticks=[-1,0,1])\n",
    "cbar.set_label(r'$\\psi(\\theta_1, \\theta_2)$ values')\n",
    "\n",
    "\n",
    "plt.xlabel(r'$\\theta_1$')\n",
    "plt.ylabel(r'$\\theta_2$')\n",
    "plt.title(r'$d_1 = 5, d_2 = 5$ feasibility results')\n",
    "plt.show()"
   ]
  },
  {
   "cell_type": "code",
   "execution_count": 115,
   "metadata": {},
   "outputs": [
    {
     "data": {
      "image/png": "[encoded data removed]",
      "text/plain": [
       "<Figure size 640x480 with 2 Axes>"
      ]
     },
     "metadata": {},
     "output_type": "display_data"
    }
   ],
   "source": [
    "from matplotlib.patheffects import PathPatchEffect, SimpleLineShadow, Normal\n",
    "\n",
    "\n",
    "# plot feasible vs not feasible\n",
    "def f(x,y):\n",
    "    return solution.evaluate_objective(np.array([x,y]).reshape(-1,1))[0][0]\n",
    "\n",
    "x_val = y_val = np.arange(0, 4, 0.05)\n",
    "X, Y = np.meshgrid(x_val, y_val)\n",
    "\n",
    "zs = np.array([f(x,y) for x,y in zip(np.ravel(X), np.ravel(Y))])\n",
    "Z = zs.reshape(len(x_val), len(y_val))\n",
    "\n",
    "from matplotlib.colors import ListedColormap, BoundaryNorm\n",
    "colors = ['white', 'white', 'gray']\n",
    "cmap = ListedColormap(colors)\n",
    "\n",
    "bounds = [-np.inf, 0, np.inf]\n",
    "norm = BoundaryNorm(bounds, cmap.N)\n",
    "\n",
    "contour = plt.contourf(X, Y, Z, levels=100, cmap=cmap, norm=norm)\n",
    "cbar = plt.colorbar(contour, ticks=[-1,0,1])\n",
    "cbar.set_label(r'$\\psi(\\theta_1, \\theta_2)$ values')\n",
    "\n",
    "# plot chi(theta) as lines\n",
    "\n",
    "x, y = sp.symbols('x y')\n",
    "chi1 = region_list[-1].A[0][0]*x + region_list[-1].A[0][1]*y + region_list[-1].b[0][0]\n",
    "lim1 = region_list[-1].E[0][0]*x + region_list[-1].E[0][1]*y - region_list[-1].f[0][0]\n",
    "\n",
    "y_expr = sp.solve(chi1, y)[0]\n",
    "f_y = sp.lambdify(x, y_expr, 'numpy')\n",
    "y_vals = f_y(x_val)\n",
    "\n",
    "y_lim = sp.solve(lim1, y)[0]\n",
    "f_y_lim = sp.lambdify(x, y_lim, 'numpy')\n",
    "y_lim_val = f_y_lim(x_val)\n",
    "\n",
    "plt.plot(x_val, y_vals, color = 'green',path_effects=[SimpleLineShadow(shadow_color=\"green\", linewidth=10),Normal()])\n",
    "plt.plot(x_val, y_lim_val, color = 'red', path_effects=[SimpleLineShadow(offset = (-2,2),shadow_color=\"red\", linewidth=10),Normal()])\n",
    "\n",
    "# # fill where the critical region is NOT. So everything is >= 0, which is why we're plotting a max\n",
    "# plt.fill_between(x_val, 0, y_vals, color='blue', alpha=0.3)\n",
    "# plt.fill_between(x_val, y_lim_val, 4, color='red', alpha=0.3)\n",
    "\n",
    "\n",
    "# plot distribution\n",
    "from scipy.stats import multivariate_normal\n",
    "\n",
    "mu_x, mu_y = 2, 2\n",
    "sigma_x, sigma_y = 0.5, 0.5\n",
    "\n",
    "x1 = y1 = np.linspace(0, 4, 100)\n",
    "X1, Y1 = np.meshgrid(x1,y1)\n",
    "\n",
    "pos = np.dstack((X1, Y1))\n",
    "Z1 = multivariate_normal.pdf(pos, mean = [mu_x, mu_y], cov = [[sigma_x**2, 0], [0, sigma_y**2]])\n",
    "\n",
    "contour2 = plt.contour(X1,Y1,Z1,levels = 5)\n",
    "plt.xlim(0,4)\n",
    "plt.ylim(0,4)\n",
    "plt.xlabel(r'$\\theta_1$')\n",
    "plt.ylabel(r'$\\theta_2$')\n",
    "plt.title(r'$d_1 = 5, d_2 = 5$ with 50% capacity disruption')\n",
    "plt.show()"
   ]
  },
  {
   "cell_type": "code",
   "execution_count": 6,
   "metadata": {},
   "outputs": [],
   "source": [
    "mean = [mu_x, mu_y]\n",
    "cov = [[sigma_x**2, 0], [0, sigma_y**2]]\n",
    "\n",
    "mu_vector = []\n",
    "sigma_vector = []\n",
    "\n",
    "for region in range(len(region_list)):\n",
    "    A = region_list[region].A[0,:] # the theta coeffs\n",
    "    b = region_list[region].b[0] # the constant term\n",
    "    mu = A@mean + b\n",
    "    sigma = A@cov@A.T\n",
    "    mu_vector.append(mu[0])\n",
    "    sigma_vector.append(sigma)"
   ]
  },
  {
   "cell_type": "code",
   "execution_count": 7,
   "metadata": {},
   "outputs": [],
   "source": [
    "lambda_vector = []\n",
    "for region in range(len(region_list)):\n",
    "    A = region_list[region].A[0,:] # the theta coeffs\n",
    "    lambda_vector.append(A)\n",
    "\n",
    "lambda_matrix = np.array(lambda_vector)\n",
    "\n",
    "sigma_psi = lambda_matrix@cov@lambda_matrix.T"
   ]
  },
  {
   "cell_type": "code",
   "execution_count": 8,
   "metadata": {},
   "outputs": [
    {
     "data": {
      "text/plain": [
       "0.9992158779935588"
      ]
     },
     "execution_count": 8,
     "metadata": {},
     "output_type": "execute_result"
    }
   ],
   "source": [
    "from scipy.stats import multivariate_normal\n",
    "\n",
    "dist = multivariate_normal(mu_vector, sigma_psi)\n",
    "\n",
    "\n",
    "# Evaluate the probability density function at a specific point\n",
    "# Calculate the probability of a specific region\n",
    "upper_bound = [0,0]\n",
    "probability = dist.cdf(upper_bound)\n",
    "probability"
   ]
  }
 ],
 "metadata": {
  "kernelspec": {
   "display_name": "envpython38",
   "language": "python",
   "name": "python3"
  },
  "language_info": {
   "codemirror_mode": {
    "name": "ipython",
    "version": 3
   },
   "file_extension": ".py",
   "mimetype": "text/x-python",
   "name": "python",
   "nbconvert_exporter": "python",
   "pygments_lexer": "ipython3",
   "version": "3.8.18"
  }
 },
 "nbformat": 4,
 "nbformat_minor": 2
}
