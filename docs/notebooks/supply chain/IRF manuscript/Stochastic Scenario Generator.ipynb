{
 "cells": [
  {
   "cell_type": "code",
   "outputs": [],
   "source": [
    "import pandas\n",
    "from itertools import product\n",
    "import pickle"
   ],
   "metadata": {
    "collapsed": false,
    "ExecuteTime": {
     "end_time": "2025-10-01T17:30:51.279767Z",
     "start_time": "2025-10-01T17:30:51.267151Z"
    }
   },
   "id": "9af9bb0c3ed49f4",
   "execution_count": 43
  },
  {
   "cell_type": "code",
   "outputs": [],
   "source": [
    "_exec_scenarios = 52"
   ],
   "metadata": {
    "collapsed": false,
    "ExecuteTime": {
     "end_time": "2025-10-01T17:30:51.294896Z",
     "start_time": "2025-10-01T17:30:51.281363Z"
    }
   },
   "id": "c27f7d22226a8976",
   "execution_count": 44
  },
  {
   "cell_type": "code",
   "execution_count": 45,
   "id": "initial_id",
   "metadata": {
    "collapsed": true,
    "ExecuteTime": {
     "end_time": "2025-10-01T17:30:51.309768Z",
     "start_time": "2025-10-01T17:30:51.295997Z"
    }
   },
   "outputs": [],
   "source": [
    "def create_list(n_total: int, n: int):\n",
    "    return [1] * n + [0] * (n_total - n)"
   ]
  },
  {
   "cell_type": "code",
   "outputs": [],
   "source": [
    "def create_event_dict(n_total: int):\n",
    "    default_list = [1] * n_total\n",
    "\n",
    "    # If event names are same before '_'; they are considered mutually exclusive\n",
    "    event_dict = {\n",
    "        'cap2_1': {'prob': 0.06, 'factor': pandas.DataFrame(data={('loc2', 'com1_process'): create_list(n_total, 13)})},\n",
    "        'cap2_2': {'prob': 0.12, 'factor': pandas.DataFrame(data={('loc2', 'com1_process'): create_list(n_total, 26)})},\n",
    "        'cap2_3': {'prob': 0.17, 'factor': pandas.DataFrame(data={('loc2', 'com1_process'): create_list(n_total, 39)})},\n",
    "        'cap2_nd': {'prob': 0.65, 'factor': pandas.DataFrame(data={('loc2', 'com1_process'): default_list})},\n",
    "\n",
    "        # 'cap4_1': {'prob': 0.05, 'factor': pandas.DataFrame(data={('loc4', 'com1_process'): create_list(n_total, 1)})},\n",
    "        # 'cap4_2': {'prob': 0.15, 'factor': pandas.DataFrame(data={('loc4', 'com1_process'): create_list(n_total, 2)})},\n",
    "        # 'cap4_3': {'prob': 0.18, 'factor': pandas.DataFrame(data={('loc4', 'com1_process'): create_list(n_total, 3)})},\n",
    "        # 'cap4_nd': {'prob': 0.62, 'factor': pandas.DataFrame(data={('loc4', 'com1_process'): default_list})},\n",
    "\n",
    "        # 'cap7_1': {'prob': 0.04, 'factor': pandas.DataFrame(data={('loc7', 'com1_process'): create_list(n_total, 1)})},\n",
    "        # 'cap7_2': {'prob': 0.15, 'factor': pandas.DataFrame(data={('loc7', 'com1_process'): create_list(n_total, 2)})},\n",
    "        # 'cap7_3': {'prob': 0.2, 'factor': pandas.DataFrame(data={('loc7', 'com1_process'): create_list(n_total, 3)})},\n",
    "        # 'cap7_nd': {'prob': 0.61, 'factor': pandas.DataFrame(data={('loc7', 'com1_process'): default_list})},\n",
    "\n",
    "        # 'res1_1': {'prob': 0.06, 'factor': pandas.DataFrame(data={('loc1', 'com1_pur'): create_list(n_total, 1)})},\n",
    "        # 'res1_2': {'prob': 0.12, 'factor': pandas.DataFrame(data={('loc1', 'com1_pur'): create_list(n_total, 2)})},\n",
    "        # 'res1_3': {'prob': 0.19, 'factor': pandas.DataFrame(data={('loc1', 'com1_pur'): create_list(n_total, 3)})},\n",
    "        # 'res1_nd': {'prob': 0.63, 'factor': pandas.DataFrame(data={('loc1', 'com1_pur'): default_list})},\n",
    "\n",
    "        'res6_1': {'prob': 0.03, 'factor': pandas.DataFrame(data={('loc6', 'com1_pur'): create_list(n_total, 13)})},\n",
    "        'res6_2': {'prob': 0.16, 'factor': pandas.DataFrame(data={('loc6', 'com1_pur'): create_list(n_total, 26)})},\n",
    "        'res6_3': {'prob': 0.17, 'factor': pandas.DataFrame(data={('loc6', 'com1_pur'): create_list(n_total, 39)})},\n",
    "        'res6_nd': {'prob': 0.64, 'factor': pandas.DataFrame(data={('loc6', 'com1_pur'): default_list})},\n",
    "\n",
    "        'truck47_2': {'prob': 0.2, 'factor': pandas.DataFrame(data={('truck47', 'com1_loc4_out'): create_list(n_total, 26)})},\n",
    "        'truck47_nd': {'prob': 0.8, 'factor': pandas.DataFrame(data={('truck47', 'com1_loc4_out'): default_list})},\n",
    "\n",
    "        'truck25_1': {'prob': 0.3, 'factor': pandas.DataFrame(data={('truck25', 'com1_loc2_out'): create_list(n_total, 13)})},\n",
    "        'truck25_nd': {'prob': 0.7, 'factor': pandas.DataFrame(data={('truck25', 'com1_loc2_out'): default_list})},\n",
    "    }\n",
    "\n",
    "    return event_dict"
   ],
   "metadata": {
    "collapsed": false,
    "ExecuteTime": {
     "end_time": "2025-10-01T17:30:51.325516Z",
     "start_time": "2025-10-01T17:30:51.311890Z"
    }
   },
   "id": "bdd5e351a3b38aff",
   "execution_count": 46
  },
  {
   "cell_type": "code",
   "outputs": [],
   "source": [
    "# Function to generate the scenario dictionary for n sets of events\n",
    "def create_scenario_dict(event_dict):\n",
    "    # Extract unique event prefixes (e.g., 'cap2', 'cap4', ...)\n",
    "    event_prefixes = set(key.split('_')[0] for key in event_dict)\n",
    "\n",
    "    # Group events by their prefixes\n",
    "    grouped_events = {prefix: [key for key in event_dict if key.startswith(prefix)] for prefix in event_prefixes}\n",
    "\n",
    "    # Create all possible combinations of events across the different groups\n",
    "    event_combinations = list(product(*grouped_events.values()))\n",
    "\n",
    "    scenario_dict = {}\n",
    "\n",
    "    # Iterate over all event combinations\n",
    "    for combination in event_combinations:\n",
    "        # Construct the scenario key\n",
    "        scenario_key = ' '.join(combination)\n",
    "\n",
    "        # Calculate the probability of this scenario\n",
    "        prob = 1\n",
    "        combined_factor = None\n",
    "\n",
    "        for event_key in combination:\n",
    "            # Multiply probabilities\n",
    "            prob *= event_dict[event_key]['prob']\n",
    "\n",
    "            # Combine factors (assumes they are pandas DataFrames)\n",
    "            if combined_factor is None:\n",
    "                combined_factor = event_dict[event_key]['factor'].copy()\n",
    "            else:\n",
    "                combined_factor = combined_factor.add(event_dict[event_key]['factor'], fill_value=0)\n",
    "\n",
    "        # Add to the scenario dictionary\n",
    "        scenario_dict[scenario_key] = {'prob': prob, 'factor': combined_factor}\n",
    "\n",
    "    return scenario_dict"
   ],
   "metadata": {
    "collapsed": false,
    "ExecuteTime": {
     "end_time": "2025-10-01T17:30:51.340228Z",
     "start_time": "2025-10-01T17:30:51.327617Z"
    }
   },
   "id": "d69419c5a027b162",
   "execution_count": 47
  },
  {
   "cell_type": "code",
   "outputs": [
    {
     "name": "stdout",
     "output_type": "stream",
     "text": [
      "Sum of probabilities of all scenarios: 1.000000\n",
      "Number of considered scenarios: 64\n"
     ]
    }
   ],
   "source": [
    "event_dict = create_event_dict(n_total=_exec_scenarios)\n",
    "scenario_dict = create_scenario_dict(event_dict=event_dict)\n",
    "scenario_names = list(scenario_dict.keys())\n",
    "\n",
    "with open('backlog_scen_dict.pkl', 'wb') as file:\n",
    "    pickle.dump(scenario_dict, file)\n",
    "\n",
    "# print(*scenario_names, sep='\\n')\n",
    "print(f\"Sum of probabilities of all scenarios: {sum(scenario_dict[scen]['prob'] for scen in scenario_dict):.6f}\")\n",
    "print(f'Number of considered scenarios: {len(scenario_names)}')"
   ],
   "metadata": {
    "collapsed": false,
    "ExecuteTime": {
     "end_time": "2025-10-01T17:30:51.573746Z",
     "start_time": "2025-10-01T17:30:51.341331Z"
    }
   },
   "id": "a5d70c0900d8e7bc",
   "execution_count": 48
  },
  {
   "cell_type": "code",
   "outputs": [
    {
     "name": "stdout",
     "output_type": "stream",
     "text": [
      "Sum of probabilities of all scenarios: 1.000000\n",
      "Number of considered scenarios: 64\n"
     ]
    }
   ],
   "source": [
    "with open('backlog_scen_dict.pkl', 'rb') as file:\n",
    "    load_scenario_dict = pickle.load(file)\n",
    "load_scenario_names = list(load_scenario_dict.keys())\n",
    "\n",
    "print(f\"Sum of probabilities of all scenarios: {sum(load_scenario_dict[scen]['prob'] for scen in load_scenario_dict):.6f}\")\n",
    "print(f'Number of considered scenarios: {len(load_scenario_names)}')"
   ],
   "metadata": {
    "collapsed": false,
    "ExecuteTime": {
     "end_time": "2025-10-01T17:30:51.589147Z",
     "start_time": "2025-10-01T17:30:51.574847Z"
    }
   },
   "id": "f28c81b87ccaa402",
   "execution_count": 49
  },
  {
   "cell_type": "code",
   "outputs": [],
   "source": [],
   "metadata": {
    "collapsed": false,
    "ExecuteTime": {
     "end_time": "2025-10-01T17:30:51.604075Z",
     "start_time": "2025-10-01T17:30:51.589147Z"
    }
   },
   "id": "b668d4605aa7403",
   "execution_count": 49
  }
 ],
 "metadata": {
  "kernelspec": {
   "display_name": "Python 3",
   "language": "python",
   "name": "python3"
  },
  "language_info": {
   "codemirror_mode": {
    "name": "ipython",
    "version": 2
   },
   "file_extension": ".py",
   "mimetype": "text/x-python",
   "name": "python",
   "nbconvert_exporter": "python",
   "pygments_lexer": "ipython2",
   "version": "2.7.6"
  }
 },
 "nbformat": 4,
 "nbformat_minor": 5
}
