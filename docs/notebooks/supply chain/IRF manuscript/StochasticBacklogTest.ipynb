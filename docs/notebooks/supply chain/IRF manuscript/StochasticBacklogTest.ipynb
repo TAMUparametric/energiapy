{
 "cells": [
  {
   "cell_type": "code",
   "id": "initial_id",
   "metadata": {
    "collapsed": true,
    "ExecuteTime": {
     "end_time": "2025-09-30T19:42:47.976765Z",
     "start_time": "2025-09-30T19:42:46.488246Z"
    }
   },
   "source": [
    "import sys\n",
    "sys.path.append('../../../../src')\n",
    "\n",
    "import pandas\n",
    "from energiapy.components.temporal_scale import TemporalScale\n",
    "from energiapy.components.resource import Resource, VaryingResource\n",
    "from energiapy.components.process import Process, VaryingProcess\n",
    "from energiapy.components.location import Location\n",
    "from energiapy.components.transport import Transport, VaryingTransport\n",
    "from energiapy.components.network import Network\n",
    "from energiapy.components.scenario import Scenario\n",
    "from energiapy.model.constraints.demand import constraint_demand_lb\n",
    "from energiapy.model.formulate import formulate, Constraints, Objective\n",
    "from energiapy.utils.scale_utils import scale_tuple\n",
    "\n",
    "from pyomo.environ import value as pyoval\n",
    "from pyomo.environ import Var, Constraint, NonNegativeReals\n",
    "\n",
    "import time\n",
    "import pickle\n",
    "from itertools import product\n",
    "\n",
    "import mpisppy.utils.sputils as sputils\n",
    "from mpisppy.opt.ef import ExtensiveForm"
   ],
   "outputs": [
    {
     "name": "stdout",
     "output_type": "stream",
     "text": [
      "[    0.00] Initializing mpi-sppy\n"
     ]
    }
   ],
   "execution_count": 1
  },
  {
   "cell_type": "code",
   "outputs": [],
   "source": [
    "design_planning_horizons = 1\n",
    "# design_exec_scenarios = 52\n",
    "design_scale_factor = 1\n",
    "\n",
    "capacity_scale_factor = 10\n",
    "\n",
    "schedule_planning_horizons = 1\n",
    "schedule_exec_scenarios = 52\n",
    "schedule_time_intervals = 7\n",
    "\n",
    "M = 1e4  # Big M\n",
    "\n",
    "design_annualization_factor = 1/design_planning_horizons"
   ],
   "metadata": {
    "collapsed": false,
    "ExecuteTime": {
     "end_time": "2025-09-30T19:42:47.991674Z",
     "start_time": "2025-09-30T19:42:47.978914Z"
    }
   },
   "id": "8702fa40cf6858d5",
   "execution_count": 2
  },
  {
   "cell_type": "code",
   "outputs": [],
   "source": [
    "fill_rate = 0.6\n",
    "# fill_rate = float(sys.argv[1])\n",
    "# print(f\"fill_rate: {fill_rate}\")\n",
    "# print(f\"Type: {type(fill_rate)}\")"
   ],
   "metadata": {
    "collapsed": false,
    "ExecuteTime": {
     "end_time": "2025-09-30T19:42:48.007246Z",
     "start_time": "2025-09-30T19:42:47.992824Z"
    }
   },
   "id": "d69d5cd563ab92b1",
   "execution_count": 3
  },
  {
   "cell_type": "code",
   "outputs": [],
   "source": [
    "def build_design_model(eps: float, scen_df=pandas.DataFrame()):\n",
    "    default_df = pandas.DataFrame(data=[1] * schedule_exec_scenarios)\n",
    "\n",
    "    # Define temporal scales\n",
    "    scales = TemporalScale(discretization_list=[schedule_planning_horizons, schedule_exec_scenarios, schedule_time_intervals])\n",
    "\n",
    "    # ======================================================================================================================\n",
    "    # Declare resources/commodities\n",
    "    # ======================================================================================================================\n",
    "    com1_pur = Resource(name='com1_pur', cons_max=500* design_scale_factor * capacity_scale_factor,\n",
    "                        block={'imp': 1, 'urg': 1}, price=0.00, label='Commodity 1 consumed from outside the system',\n",
    "                        varying=[VaryingResource.DETERMINISTIC_AVAILABILITY])\n",
    "\n",
    "    com1_in = Resource(name='com1_in', label='Commodity 1 received')\n",
    "    com1_out = Resource(name='com1_out', label='Commodity 1 to be sent out')\n",
    "\n",
    "    com1_loc1_out = Resource(name='com1_loc1_out', label='Commodity 1 sent out from location 1')\n",
    "    com1_loc2_out = Resource(name='com1_loc2_out', label='Commodity 1 sent out from location 2')\n",
    "    com1_loc3_out = Resource(name='com1_loc3_out', label='Commodity 1 sent out from location 3')\n",
    "    com1_loc4_out = Resource(name='com1_loc4_out', label='Commodity 1 sent out from location 4')\n",
    "    com1_loc5_out = Resource(name='com1_loc5_out', label='Commodity 1 sent out from location 5')\n",
    "    com1_loc6_out = Resource(name='com1_loc6_out', label='Commodity 1 sent out from location 6')\n",
    "    com1_loc7_out = Resource(name='com1_loc7_out', label='Commodity 1 sent out from location 7')\n",
    "\n",
    "    com1_sold = Resource(name='com1_sold', revenue=0.00, demand=True, sell=True,\n",
    "                         label='Commodity 1 sold to outside the system')\n",
    "\n",
    "    # ======================================================================================================================\n",
    "    # Declare processes/storage capacities\n",
    "    # ======================================================================================================================\n",
    "    com1_process_capacity = 500 * design_scale_factor * capacity_scale_factor\n",
    "    min_process_capacity = 0.01\n",
    "\n",
    "    com1_procure = Process(name='procure com1', prod_max=com1_process_capacity, conversion={com1_pur: -1, com1_in: 1},\n",
    "                           capex=25 / design_scale_factor, vopex=0.01, prod_min=min_process_capacity,\n",
    "                           label='Procure com1')\n",
    "    com1_sell = Process(name='sell com1', prod_max=com1_process_capacity, conversion={com1_out: -1, com1_sold: 1},\n",
    "                        capex=0.1 / design_scale_factor, vopex=0.01, prod_min=min_process_capacity, label='Sell com1')\n",
    "\n",
    "    com1_receive_loc1 = Process(name='com1_receive_loc1', prod_max=com1_process_capacity,\n",
    "                                conversion={com1_loc1_out: -1, com1_in: 1}, capex=0.1 / design_scale_factor,\n",
    "                                vopex=0.01, prod_min=min_process_capacity, label='Commodity 1 received from location 1')\n",
    "    com1_receive_loc2 = Process(name='com1_receive_loc2', prod_max=com1_process_capacity,\n",
    "                                conversion={com1_loc2_out: -1, com1_in: 1}, capex=0.1 / design_scale_factor,\n",
    "                                vopex=0.01, prod_min=min_process_capacity, label='Commodity 1 received from location 2')\n",
    "    com1_receive_loc3 = Process(name='com1_receive_loc3', prod_max=com1_process_capacity,\n",
    "                                conversion={com1_loc3_out: -1, com1_in: 1}, capex=0.1 / design_scale_factor,\n",
    "                                vopex=0.01, prod_min=min_process_capacity, label='Commodity 1 received from location 3')\n",
    "    com1_receive_loc4 = Process(name='com1_receive_loc4', prod_max=com1_process_capacity,\n",
    "                                conversion={com1_loc4_out: -1, com1_in: 1}, capex=0.1 / design_scale_factor,\n",
    "                                vopex=0.01, prod_min=min_process_capacity, label='Commodity 1 received from location 4')\n",
    "    com1_receive_loc5 = Process(name='com1_receive_loc5', prod_max=com1_process_capacity,\n",
    "                                conversion={com1_loc5_out: -1, com1_in: 1}, capex=0.1 / design_scale_factor,\n",
    "                                vopex=0.01, prod_min=min_process_capacity, label='Commodity 1 received from location 5')\n",
    "    com1_receive_loc6 = Process(name='com1_receive_loc6', prod_max=com1_process_capacity,\n",
    "                                conversion={com1_loc6_out: -1, com1_in: 1}, capex=0.1 / design_scale_factor,\n",
    "                                vopex=0.01, prod_min=min_process_capacity, label='Commodity 1 received from location 6')\n",
    "    com1_receive_loc7 = Process(name='com1_receive_loc7', prod_max=com1_process_capacity,\n",
    "                                conversion={com1_loc7_out: -1, com1_in: 1}, capex=0.1 / design_scale_factor,\n",
    "                                vopex=0.01, prod_min=min_process_capacity, label='Commodity 1 received from location 7')\n",
    "\n",
    "    com1_process = Process(name='com1_process', prod_max=com1_process_capacity, conversion={com1_in: -1, com1_out: 1},\n",
    "                           capex=5 / design_scale_factor, vopex=0.01, prod_min=min_process_capacity,\n",
    "                           varying=[VaryingProcess.DETERMINISTIC_CAPACITY],\n",
    "                           label='Process the commodity through the location')\n",
    "\n",
    "    com1_store = Process(name='com1_store', prod_max=com1_process_capacity, capex=0.5 / design_scale_factor, vopex=5,\n",
    "                         store_min=0.01, store_max=500 * design_scale_factor * capacity_scale_factor,\n",
    "                         prod_min=min_process_capacity, label=\"Storage capacity of upto 100 units\", storage=com1_in,\n",
    "                         storage_cost=0.02, storage_capex=50 / design_scale_factor)\n",
    "\n",
    "    com1_loc1_send = Process(name='com1_loc1_send', prod_max=com1_process_capacity,\n",
    "                             conversion={com1_out: -1, com1_loc1_out: 1}, capex=0.1 / design_scale_factor, vopex=0.01,\n",
    "                             prod_min=min_process_capacity, label='Send commodity one from location 1')\n",
    "    com1_loc2_send = Process(name='com1_loc2_send', prod_max=com1_process_capacity,\n",
    "                             conversion={com1_out: -1, com1_loc2_out: 1}, capex=0.1 / design_scale_factor, vopex=0.01,\n",
    "                             prod_min=min_process_capacity, label='Send commodity one from location 2')\n",
    "    com1_loc3_send = Process(name='com1_loc3_send', prod_max=com1_process_capacity,\n",
    "                             conversion={com1_out: -1, com1_loc3_out: 1}, capex=0.1 / design_scale_factor, vopex=0.01,\n",
    "                             prod_min=min_process_capacity, label='Send commodity one from location 3')\n",
    "    com1_loc4_send = Process(name='com1_loc4_send', prod_max=com1_process_capacity,\n",
    "                             conversion={com1_out: -1, com1_loc4_out: 1}, capex=0.1 / design_scale_factor, vopex=0.01,\n",
    "                             prod_min=min_process_capacity, label='Send commodity one from location 4')\n",
    "    com1_loc5_send = Process(name='com1_loc5_send', prod_max=com1_process_capacity,\n",
    "                             conversion={com1_out: -1, com1_loc5_out: 1}, capex=0.1 / design_scale_factor, vopex=0.01,\n",
    "                             prod_min=min_process_capacity, label='Send commodity one from location 5')\n",
    "    com1_loc6_send = Process(name='com1_loc6_send', prod_max=com1_process_capacity,\n",
    "                             conversion={com1_out: -1, com1_loc6_out: 1}, capex=0.1 / design_scale_factor, vopex=0.01,\n",
    "                             prod_min=min_process_capacity, label='Send commodity one from location 6')\n",
    "    com1_loc7_send = Process(name='com1_loc7_send', prod_max=com1_process_capacity,\n",
    "                             conversion={com1_out: -1, com1_loc7_out: 1}, capex=0.1 / design_scale_factor, vopex=0.01,\n",
    "                             prod_min=min_process_capacity, label='Send commodity one from location 7')\n",
    "\n",
    "    # ======================================================================================================================\n",
    "    # Declare locations/warehouses\n",
    "    # ======================================================================================================================\n",
    "    loc1 = Location(name='loc1',\n",
    "                    processes={com1_procure, com1_receive_loc2, com1_receive_loc3, com1_process, com1_store,\n",
    "                               com1_loc1_send}, label=\"Location 1\", scales=scales, demand_scale_level=2,\n",
    "                    capacity_scale_level=1, availability_scale_level=1, availability_factor={\n",
    "            com1_pur: scen_df[[('loc1', 'com1_pur')]] if ('loc1', 'com1_pur') in scen_df else default_df})\n",
    "\n",
    "    loc2 = Location(name='loc2',\n",
    "                    processes={com1_receive_loc1, com1_receive_loc4, com1_receive_loc5, com1_process, com1_store,\n",
    "                               com1_loc2_send}, label=\"Location 2\", scales=scales, demand_scale_level=2,\n",
    "                    capacity_scale_level=1, availability_scale_level=1, capacity_factor={\n",
    "            com1_process: scen_df[[('loc2', 'com1_process')]] if ('loc2', 'com1_process') in scen_df else default_df})\n",
    "\n",
    "    loc3 = Location(name='loc3',\n",
    "                    processes={com1_receive_loc1, com1_receive_loc4, com1_process, com1_store, com1_loc3_send},\n",
    "                    label=\"Location 3\", scales=scales, demand_scale_level=2, capacity_scale_level=1,\n",
    "                    availability_scale_level=1)\n",
    "\n",
    "    loc4 = Location(name='loc4', processes={com1_receive_loc2, com1_receive_loc3, com1_receive_loc6, com1_receive_loc5,\n",
    "                                            com1_receive_loc7, com1_process, com1_store, com1_loc4_send},\n",
    "                    label=\"Location 4\", scales=scales, demand_scale_level=2, capacity_scale_level=1,\n",
    "                    availability_scale_level=1, capacity_factor={\n",
    "            com1_process: scen_df[[('loc4', 'com1_process')]] if ('loc4', 'com1_process') in scen_df else default_df})\n",
    "\n",
    "    loc5 = Location(name='loc5', processes={com1_receive_loc1, com1_receive_loc2, com1_receive_loc4, com1_receive_loc6,\n",
    "                                            com1_receive_loc7, com1_process, com1_store, com1_loc5_send, com1_sell},\n",
    "                    label=\"Location 5\", scales=scales, demand_scale_level=2, capacity_scale_level=1,\n",
    "                    availability_scale_level=1)\n",
    "\n",
    "    loc6 = Location(name='loc6', processes={com1_procure, com1_receive_loc4, com1_process, com1_store, com1_loc6_send},\n",
    "                    label=\"Location 6\", scales=scales, demand_scale_level=2, capacity_scale_level=1,\n",
    "                    availability_scale_level=1, availability_factor={\n",
    "            com1_pur: scen_df[[('loc6', 'com1_pur')]] if ('loc6', 'com1_pur') in scen_df else default_df})\n",
    "\n",
    "    loc7 = Location(name='loc7',\n",
    "                    processes={com1_receive_loc4, com1_receive_loc5, com1_process, com1_store, com1_loc7_send},\n",
    "                    label=\"Location 7\", scales=scales, demand_scale_level=2, capacity_scale_level=1,\n",
    "                    availability_scale_level=1, capacity_factor={\n",
    "            com1_process: scen_df[[('loc7', 'com1_process')]] if ('loc7', 'com1_process') in scen_df else default_df})\n",
    "\n",
    "    # ======================================================================================================================\n",
    "    # Declare transport/trucks\n",
    "    # ======================================================================================================================\n",
    "\n",
    "    truck_cap12 = 140 * design_scale_factor * capacity_scale_factor\n",
    "    truck_cap13 = 60 * design_scale_factor\n",
    "    truck_cap24 = 100 * design_scale_factor * capacity_scale_factor\n",
    "    truck_cap25 = 60 * design_scale_factor * capacity_scale_factor\n",
    "    truck_cap34 = 60 * design_scale_factor \n",
    "    truck_cap45 = 200 * design_scale_factor * capacity_scale_factor\n",
    "    truck_cap47 = 80 * design_scale_factor * capacity_scale_factor\n",
    "    truck_cap64 = 100 * design_scale_factor * capacity_scale_factor\n",
    "    truck_cap75 = 80 * design_scale_factor * capacity_scale_factor\n",
    "\n",
    "    plane_cap15 = 30 * design_scale_factor\n",
    "    plane_cap65 = 40 * design_scale_factor * capacity_scale_factor\n",
    "\n",
    "    truck_capmin = 0.01\n",
    "    plane_capmin = 0.01\n",
    "\n",
    "    truck12 = Transport(name='truck12', resources={com1_loc1_out}, trans_max=truck_cap12,\n",
    "                        label='Truck from location 1 to 2', capex=0.5 / design_scale_factor, vopex=0.05,\n",
    "                        trans_min=truck_capmin, varying=[VaryingTransport.DETERMINISTIC_CAPACITY])\n",
    "    # truck21 = Transport(name='truck21', resources={com1_loc2_out}, trans_max=truck_cap12, label='Truck from location 2 to 1', capex=0.0001, vopex=0.05, trans_min=truck_capmin, speed=50, varying=[VaryingTransport.DETERMINISTIC_CAPACITY])\n",
    "\n",
    "    truck13 = Transport(name='truck13', resources={com1_loc1_out}, trans_max=truck_cap13,\n",
    "                        label='Truck from location 1 to 3', capex=0.3 / design_scale_factor, vopex=0.03,\n",
    "                        trans_min=truck_capmin, varying=[VaryingTransport.DETERMINISTIC_CAPACITY])\n",
    "    # truck31 = Transport(name='truck31', resources={com1_loc3_out}, trans_max=truck_cap13, label='Truck from location 3 to 1', capex=0.0001, vopex=0.03, trans_min=truck_capmin, speed=50, varying=[VaryingTransport.DETERMINISTIC_CAPACITY])\n",
    "\n",
    "    truck24 = Transport(name='truck24', resources={com1_loc2_out}, trans_max=truck_cap24,\n",
    "                        label='Truck from location 2 to 4', capex=0.5 / design_scale_factor, vopex=0.05,\n",
    "                        trans_min=truck_capmin, varying=[VaryingTransport.DETERMINISTIC_CAPACITY])\n",
    "    # truck42 = Transport(name='truck42', resources={com1_loc4_out}, trans_max=truck_cap24, label='Truck from location 4 to 2', capex=0.0001, vopex=0.05, trans_min=truck_capmin, speed=50, varying=[VaryingTransport.DETERMINISTIC_CAPACITY])\n",
    "\n",
    "    truck25 = Transport(name='truck25', resources={com1_loc2_out}, trans_max=truck_cap25,\n",
    "                        label='Truck from location 2 to 5', capex=0.3 / design_scale_factor, vopex=0.03,\n",
    "                        trans_min=truck_capmin, varying=[VaryingTransport.DETERMINISTIC_CAPACITY])\n",
    "    # truck52 = Transport(name='truck52', resources={com1_loc5_out}, trans_max=truck_cap25, label='Truck from location 5 to 2', capex=0.0001, vopex=0.03, trans_min=truck_capmin, speed=50, varying=[VaryingTransport.DETERMINISTIC_CAPACITY])\n",
    "\n",
    "    truck34 = Transport(name='truck34', resources={com1_loc3_out}, trans_max=truck_cap34,\n",
    "                        label='Truck from location 3 to 4', capex=0.2 / design_scale_factor, vopex=0.02,\n",
    "                        trans_min=truck_capmin, varying=[VaryingTransport.DETERMINISTIC_CAPACITY])\n",
    "    # truck43 = Transport(name='truck43', resources={com1_loc4_out}, trans_max=truck_cap34, label='Truck from location 4 to 3', capex=0.0001, vopex=0.02, trans_min=truck_capmin, speed=50, varying=[VaryingTransport.DETERMINISTIC_CAPACITY])\n",
    "\n",
    "    truck45 = Transport(name='truck45', resources={com1_loc4_out}, trans_max=truck_cap45,\n",
    "                        label='Truck from location 4 to 5', capex=1 / design_scale_factor, vopex=0.1,\n",
    "                        trans_min=truck_capmin, varying=[VaryingTransport.DETERMINISTIC_CAPACITY])\n",
    "    # truck54 = Transport(name='truck54', resources={com1_loc5_out}, trans_max=truck_cap45, label='Truck from location 5 to 4', capex=0.0001, vopex=0.1, trans_min=truck_capmin, speed=50, varying=[VaryingTransport.DETERMINISTIC_CAPACITY])\n",
    "\n",
    "    truck47 = Transport(name='truck47', resources={com1_loc4_out}, trans_max=truck_cap47,\n",
    "                        label='Truck from location 4 to 7', capex=0.4 / design_scale_factor, vopex=0.04,\n",
    "                        trans_min=truck_capmin, varying=[VaryingTransport.DETERMINISTIC_CAPACITY])\n",
    "    # truck74 = Transport(name='truck74', resources={com1_loc7_out}, trans_max=truck_cap47, label='Truck from location 7 to 4', capex=0.0001, vopex=0.04, trans_min=truck_capmin, speed=50, varying=[VaryingTransport.DETERMINISTIC_CAPACITY])\n",
    "\n",
    "    truck64 = Transport(name='truck64', resources={com1_loc6_out}, trans_max=truck_cap64,\n",
    "                        label='Truck from location 6 to 4', capex=0.5 / design_scale_factor, vopex=0.05,\n",
    "                        trans_min=truck_capmin, varying=[VaryingTransport.DETERMINISTIC_CAPACITY])\n",
    "    # truck46 = Transport(name='truck46', resources={com1_loc4_out}, trans_max=truck_cap64, label='Truck from location 4 to 6', capex=0.0001, vopex=0.05, trans_min=truck_capmin, speed=50, varying=[VaryingTransport.DETERMINISTIC_CAPACITY])\n",
    "\n",
    "    truck75 = Transport(name='truck75', resources={com1_loc7_out}, trans_max=truck_cap75,\n",
    "                        label='Truck from location 7 to 5', capex=0.4 / design_scale_factor, vopex=0.04,\n",
    "                        trans_min=truck_capmin, varying=[VaryingTransport.DETERMINISTIC_CAPACITY])\n",
    "    # truck57 = Transport(name='truck57', resources={com1_loc5_out}, trans_max=truck_cap75, label='Truck from location 5 to 7', capex=0.0001, vopex=0.04, trans_min=truck_capmin, speed=50, varying=[VaryingTransport.DETERMINISTIC_CAPACITY])\n",
    "\n",
    "    plane15 = Transport(name='plane15', resources={com1_loc1_out}, trans_max=plane_cap15,\n",
    "                        label='Plane from location 1 to 5', capex=3 / design_scale_factor, vopex=0.5,\n",
    "                        trans_min=plane_capmin, varying=[VaryingTransport.DETERMINISTIC_CAPACITY])\n",
    "\n",
    "    # plane65 = Transport(name='plane65', resources={com1_loc6_out}, trans_max=plane_cap65,\n",
    "    #                     label='Plane from location 6 to 5', capex=3 / design_scale_factor, vopex=0.5,\n",
    "    #                     trans_min=plane_capmin, varying=[VaryingTransport.DETERMINISTIC_CAPACITY])\n",
    "\n",
    "    # ======================================================================================================================\n",
    "    # Declare network\n",
    "    # ======================================================================================================================\n",
    "\n",
    "    transport_matrix = [\n",
    "        [[], [truck12], [truck13], [], [plane15], [], []],  # source: location 1\n",
    "        [[], [], [], [truck24], [truck25], [], []],  # source: location 2\n",
    "        [[], [], [], [truck34], [], [], []],  # source: location 3\n",
    "        [[], [], [], [], [truck45], [], [truck47]],  # source: location 4\n",
    "        [[], [], [], [], [], [], []],  # source: location 5\n",
    "        [[], [], [], [truck64], [], [], []],  # source: location 6\n",
    "        [[], [], [], [], [truck75], [], []]  # source: location 7\n",
    "    ]\n",
    "\n",
    "    # transport_matrix = [\n",
    "    #     [[], [truck12], [truck13], [], [], [], []],  # source: location 1\n",
    "    #     [[truck21], [], [], [truck24], [truck25], [], []],  # source: location 2\n",
    "    #     [[truck31], [], [], [truck34], [], [], []],  # source: location 3\n",
    "    #     [[], [truck42], [truck43], [], [truck45], [truck46], [truck47]],  # source: location 4\n",
    "    #     [[], [truck52], [], [truck54], [], [], [truck57]],  # source: location 5\n",
    "    #     [[], [], [], [truck64], [], [], []],  # source: location 6\n",
    "    #     [[], [], [], [truck74], [truck75], [], []]  # source: location 7\n",
    "    # ]\n",
    "\n",
    "    distance_matrix = [\n",
    "        [0, 55, 196, M, 130, M, M],\n",
    "        [55, 0, M, 163, 112, M, 134],\n",
    "        [196, M, 0, 63, M, M, M],\n",
    "        [M, 163, 63, 0, 95, 117, 88],\n",
    "        [130, 112, M, 95, 0, 150, 134],\n",
    "        [M, M, M, 117, M, 0, M],\n",
    "        [M, 134, M, 88, 134, M, 0]\n",
    "    ]\n",
    "\n",
    "    locset = [loc1, loc2, loc3, loc4, loc5, loc6, loc7]\n",
    "\n",
    "    sources = locset\n",
    "    sinks = locset\n",
    "\n",
    "    network = Network(name='Network', scales=scales, source_locations=sources, sink_locations=sinks,\n",
    "                      transport_matrix=transport_matrix, distance_matrix=distance_matrix,\n",
    "                      transport_capacity_scale_level=1,\n",
    "                      transport_capacity_factor={(loc1, loc2): {truck12: scen_df[[('truck12', 'com1_loc1_out')]] if (\n",
    "                                                                                                                    'truck12',\n",
    "                                                                                                                    'com1_loc1_out') in scen_df else default_df},\n",
    "                                                 (loc1, loc3): {truck13: scen_df[[('truck13', 'com1_loc1_out')]] if (\n",
    "                                                                                                                    'truck13',\n",
    "                                                                                                                    'com1_loc1_out') in scen_df else default_df},\n",
    "                                                 (loc1, loc5): {plane15: scen_df[[('plane15', 'com1_loc1_out')]] if (\n",
    "                                                                                                                    'plane15',\n",
    "                                                                                                                    'com1_loc1_out') in scen_df else default_df},\n",
    "                                                 (loc2, loc4): {truck24: scen_df[[('truck24', 'com1_loc2_out')]] if (\n",
    "                                                                                                                    'truck24',\n",
    "                                                                                                                    'com1_loc2_out') in scen_df else default_df},\n",
    "                                                 (loc2, loc5): {truck25: scen_df[[('truck25', 'com1_loc2_out')]] if (\n",
    "                                                                                                                    'truck25',\n",
    "                                                                                                                    'com1_loc2_out') in scen_df else default_df},\n",
    "                                                 (loc3, loc4): {truck34: scen_df[[('truck34', 'com1_loc3_out')]] if (\n",
    "                                                                                                                    'truck34',\n",
    "                                                                                                                    'com1_loc3_out') in scen_df else default_df},\n",
    "                                                 (loc4, loc5): {truck45: scen_df[[('truck45', 'com1_loc4_out')]] if (\n",
    "                                                                                                                    'truck45',\n",
    "                                                                                                                    'com1_loc4_out') in scen_df else default_df},\n",
    "                                                 (loc4, loc7): {truck47: scen_df[[('truck47', 'com1_loc4_out')]] if (\n",
    "                                                                                                                    'truck47',\n",
    "                                                                                                                    'com1_loc4_out') in scen_df else default_df},\n",
    "                                                 (loc6, loc4): {truck64: scen_df[[('truck64', 'com1_loc6_out')]] if (\n",
    "                                                                                                                    'truck64',\n",
    "                                                                                                                    'com1_loc6_out') in scen_df else default_df},\n",
    "                                                 # (loc6, loc5): {plane65: scen_df[[('plane65', 'com1_loc6_out')]] if ('plane65', 'com1_loc6_out') in scen_df else default_df},\n",
    "                                                 (loc7, loc5): {truck75: scen_df[[('truck75', 'com1_loc7_out')]] if (\n",
    "                                                                                                                    'truck75',\n",
    "                                                                                                                    'com1_loc7_out') in scen_df else default_df},\n",
    "                                                 })\n",
    "\n",
    "    # ======================================================================================================================\n",
    "    # Declare scenario\n",
    "    # ======================================================================================================================\n",
    "\n",
    "    daily_demand = 100 * design_scale_factor\n",
    "    demand_penalty = 25\n",
    "    backlog_penalty = 10\n",
    "\n",
    "    demand_dict = {i: {com1_sold: daily_demand} if i == loc5 else {com1_sold: 0} for i in locset}\n",
    "    demand_penalty_dict = {i: {com1_sold: demand_penalty} if i == loc5 else {com1_sold: 0} for i in locset}\n",
    "    backlog_penalty_dict = {i: {com1_sold: backlog_penalty} if i == loc5 else {com1_sold: 0} for i in locset}\n",
    "    \n",
    "    scenario = Scenario(name=f'design scenario', scales=scales, scheduling_scale_level=2, network_scale_level=0,\n",
    "                    purchase_scale_level=2, availability_scale_level=1, demand_scale_level=2, backlog_penalty_scale_level=2,\n",
    "                    capacity_scale_level=1, network=network, demand=demand_dict, demand_penalty=demand_penalty_dict, backlog_penalty=backlog_penalty_dict,\n",
    "                    label='Design Scenario', annualization_factor=design_annualization_factor)\n",
    "\n",
    "    if scen_df.empty:\n",
    "        # ======================================================================================================================\n",
    "        # Declare problem\n",
    "        # ======================================================================================================================\n",
    "        \n",
    "        backlog_zero = {loc5: {com1_sold: 34}}\n",
    "        problem_mincost = formulate(scenario=scenario, demand_sign='eq', objective=Objective.COST_W_DEMAND_PENALTY,\n",
    "                                    backlog_zero=backlog_zero,\n",
    "                                    constraints={Constraints.COST, Constraints.TRANSPORT, Constraints.RESOURCE_BALANCE,\n",
    "                                                 Constraints.INVENTORY, Constraints.PRODUCTION, Constraints.BACKLOG,\n",
    "                                                 Constraints.NETWORK})\n",
    "        \n",
    "        demand = scenario.demand\n",
    "        if isinstance(demand, dict):\n",
    "            if isinstance(list(demand.keys())[0], Location):\n",
    "                try:\n",
    "                    demand = {i.name: {\n",
    "                        j.name: demand[i][j] for j in demand[i].keys()} for i in demand.keys()}\n",
    "                except:\n",
    "                    pass\n",
    "\n",
    "        constraint_demand_lb(instance=problem_mincost, demand=demand, demand_factor=scenario.demand_factor,\n",
    "                             demand_scale_level=scenario.demand_scale_level,\n",
    "                             scheduling_scale_level=scenario.scheduling_scale_level,\n",
    "                             location_resource_dict=scenario.location_resource_dict, epsilon=eps)\n",
    "        \n",
    "        scale_iter = scale_tuple(instance=problem_mincost, scale_levels=scenario.network_scale_level + 1)\n",
    "        problem_mincost.first_stage_cost = Var(within=NonNegativeReals, doc='First Stage Cost')\n",
    "\n",
    "        def first_stage_cost_rule(instance):\n",
    "            return (instance.first_stage_cost == sum(instance.Capex_network[scale_] for scale_ in scale_iter) +\n",
    "                    sum(instance.Capex_transport_network[scale_] for scale_ in scale_iter))\n",
    "\n",
    "        problem_mincost.constraint_first_stage_cost = Constraint(rule=first_stage_cost_rule)\n",
    "\n",
    "        return scenario, problem_mincost\n",
    "    else:\n",
    "        return scenario"
   ],
   "metadata": {
    "collapsed": false,
    "ExecuteTime": {
     "end_time": "2025-09-30T19:42:48.067179Z",
     "start_time": "2025-09-30T19:42:48.008318Z"
    }
   },
   "id": "762c2018118f9d8a",
   "execution_count": 4
  },
  {
   "cell_type": "code",
   "outputs": [],
   "source": [
    "def build_design_smodel(scen_df=pandas.DataFrame(), eps: float = 1.0):\n",
    "    scenario = build_design_model(scen_df=scen_df, eps=eps)\n",
    "    # ======================================================================================================================\n",
    "    # Declare problem\n",
    "    # ======================================================================================================================\n",
    "    backlog_zero = {'loc5': {'com1_sold': 34}}\n",
    "    problem_mincost = formulate(scenario=scenario, demand_sign='eq', objective=Objective.COST_W_DEMAND_PENALTY,\n",
    "                                    backlog_zero=backlog_zero,\n",
    "                                    constraints={Constraints.COST, Constraints.TRANSPORT, Constraints.RESOURCE_BALANCE,\n",
    "                                                 Constraints.INVENTORY, Constraints.PRODUCTION, Constraints.BACKLOG,\n",
    "                                                 Constraints.NETWORK})\n",
    "\n",
    "    demand = scenario.demand\n",
    "    if isinstance(demand, dict):\n",
    "        if isinstance(list(demand.keys())[0], Location):\n",
    "            try:\n",
    "                demand = {i.name: {\n",
    "                    j.name: demand[i][j] for j in demand[i].keys()} for i in demand.keys()}\n",
    "            except:\n",
    "                pass\n",
    "\n",
    "    constraint_demand_lb(instance=problem_mincost, demand=demand, demand_factor=scenario.demand_factor,\n",
    "                         demand_scale_level=scenario.demand_scale_level,\n",
    "                         scheduling_scale_level=scenario.scheduling_scale_level,\n",
    "                         location_resource_dict=scenario.location_resource_dict, epsilon=eps)\n",
    "\n",
    "    scale_iter = scale_tuple(instance=problem_mincost, scale_levels=scenario.network_scale_level + 1)\n",
    "    problem_mincost.first_stage_cost = Var(within=NonNegativeReals, doc='First Stage Cost')\n",
    "\n",
    "    def first_stage_cost_rule(instance):\n",
    "        return (instance.first_stage_cost == sum(instance.Capex_network[scale_] for scale_ in scale_iter) +\n",
    "                sum(instance.Capex_transport_network[scale_] for scale_ in scale_iter))\n",
    "\n",
    "    problem_mincost.constraint_first_stage_cost = Constraint(rule=first_stage_cost_rule)\n",
    "\n",
    "    return scenario, problem_mincost"
   ],
   "metadata": {
    "collapsed": false,
    "ExecuteTime": {
     "end_time": "2025-09-30T19:42:48.082193Z",
     "start_time": "2025-09-30T19:42:48.068258Z"
    }
   },
   "id": "ea7985ef9dfc2d83",
   "execution_count": 5
  },
  {
   "cell_type": "code",
   "outputs": [],
   "source": [
    "def design_scenario_creator(scen_name, **kwargs):\n",
    "    scen_dict = kwargs.get('scenario_dict')\n",
    "    eps = kwargs.get('epsilon')\n",
    "    fsv = kwargs.get('fsv')\n",
    "    scen, model = build_design_smodel(scen_df=scen_dict[scen_name]['factor'], eps=eps)\n",
    "    sputils.attach_root_node(model, model.first_stage_cost, list(getattr(model, v) for v in fsv))\n",
    "    model._mpisppy_probability = scen_dict[scen_name]['prob']\n",
    "    return model"
   ],
   "metadata": {
    "collapsed": false,
    "ExecuteTime": {
     "end_time": "2025-09-30T19:42:48.097036Z",
     "start_time": "2025-09-30T19:42:48.084333Z"
    }
   },
   "id": "e9e9ba33bedf3290",
   "execution_count": 6
  },
  {
   "cell_type": "code",
   "outputs": [],
   "source": [
    "with open('backlog_scen_dict.pkl', 'rb') as file:\n",
    "    load_scenario_dict = pickle.load(file)"
   ],
   "metadata": {
    "collapsed": false,
    "ExecuteTime": {
     "end_time": "2025-09-30T19:42:48.112482Z",
     "start_time": "2025-09-30T19:42:48.098098Z"
    }
   },
   "id": "e2164a5c019bc74d",
   "execution_count": 7
  },
  {
   "cell_type": "code",
   "outputs": [
    {
     "name": "stdout",
     "output_type": "stream",
     "text": [
      "Sum of probabilities of all scenarios: 1.000000\n",
      "Number of considered scenarios: 4\n"
     ]
    }
   ],
   "source": [
    "load_scenario_names = list(load_scenario_dict.keys())\n",
    "print(f\"Sum of probabilities of all scenarios: {sum(load_scenario_dict[scen]['prob'] for scen in load_scenario_dict):.6f}\")\n",
    "print(f'Number of considered scenarios: {len(load_scenario_names)}')"
   ],
   "metadata": {
    "collapsed": false,
    "ExecuteTime": {
     "end_time": "2025-09-30T19:42:48.127467Z",
     "start_time": "2025-09-30T19:42:48.113656Z"
    }
   },
   "id": "78d06588c2300c2c",
   "execution_count": 8
  },
  {
   "cell_type": "code",
   "outputs": [],
   "source": [
    "first_stage_variables = ('X_P', 'X_S', 'X_F', 'Cap_P', 'Cap_S', 'Cap_F')"
   ],
   "metadata": {
    "collapsed": false,
    "ExecuteTime": {
     "end_time": "2025-09-30T19:42:48.142516Z",
     "start_time": "2025-09-30T19:42:48.128543Z"
    }
   },
   "id": "81c4e44800602f14",
   "execution_count": 9
  },
  {
   "cell_type": "code",
   "outputs": [],
   "source": [
    "options = {\"solver\": \"gurobi\"}\n",
    "solver_options = {\n",
    "        'MIPGap': 0.0005,\n",
    "        'Heuristics': 0.20\n",
    "    }\n",
    "scenario_creator_kwargs = {'scenario_dict': load_scenario_dict,\n",
    "                           'epsilon': fill_rate,\n",
    "                           'fsv': first_stage_variables}"
   ],
   "metadata": {
    "collapsed": false,
    "ExecuteTime": {
     "end_time": "2025-09-30T19:42:48.158111Z",
     "start_time": "2025-09-30T19:42:48.143598Z"
    }
   },
   "id": "981d3bd183ed90e",
   "execution_count": 10
  },
  {
   "cell_type": "code",
   "outputs": [
    {
     "name": "stdout",
     "output_type": "stream",
     "text": [
      "[    0.20] Initializing SPBase\n",
      "constraint process capex\n",
      "constraint process fopex\n",
      "constraint process vopex\n",
      "constraint process incidental\n",
      "constraint location capex\n",
      "constraint location fopex\n",
      "constraint storage cost\n",
      "constraint storage capex\n",
      "constraint storage cost location\n",
      "constraint storage cost network\n",
      "constraint production mode\n",
      "constraint inventory balance\n",
      "constraint inventory network\n",
      "constraint resource export\n",
      "constraint transport export\n",
      "constraint export\n",
      "constraint transport capex\n",
      "constraint transport network capex\n",
      "constraint transport export network\n",
      "constraint transport vopex\n",
      "constraint transport network vopex\n",
      "constraint transport fopex\n",
      "constraint transport network fopex\n",
      "constraint transport capacity UB no bin\n",
      "constraint transport capacity LB no bin\n",
      "constraint storage facility\n",
      "constraint production facility\n",
      "constraint min production facility\n",
      "constraint min storage facility\n",
      "constraint transport capacity UB\n",
      "constraint transport capacity LB\n",
      "constraint backlog\n",
      "constraint backlog total discharge\n",
      "constraint backlog penalty cost\n",
      "constraint demand penalty\n",
      "constraint demand penalty location\n",
      "constraint demand penalty network\n",
      "constraint demand penalty cost\n",
      "constraint demand penalty cost location\n",
      "constraint demand penalty cost network\n",
      "objective cost w demand penalty\n",
      "constraint demand lb\n",
      "constraint process capex\n",
      "constraint process fopex\n",
      "constraint process vopex\n",
      "constraint process incidental\n",
      "constraint location capex\n",
      "constraint location fopex\n",
      "constraint storage cost\n",
      "constraint storage capex\n",
      "constraint storage cost location\n",
      "constraint storage cost network\n",
      "constraint production mode\n",
      "constraint inventory balance\n",
      "constraint inventory network\n",
      "constraint resource export\n",
      "constraint transport export\n",
      "constraint export\n",
      "constraint transport capex\n",
      "constraint transport network capex\n",
      "constraint transport export network\n",
      "constraint transport vopex\n",
      "constraint transport network vopex\n",
      "constraint transport fopex\n",
      "constraint transport network fopex\n",
      "constraint transport capacity UB no bin\n",
      "constraint transport capacity LB no bin\n",
      "constraint storage facility\n",
      "constraint production facility\n",
      "constraint min production facility\n",
      "constraint min storage facility\n",
      "constraint transport capacity UB\n",
      "constraint transport capacity LB\n",
      "constraint backlog\n",
      "constraint backlog total discharge\n",
      "constraint backlog penalty cost\n",
      "constraint demand penalty\n",
      "constraint demand penalty location\n",
      "constraint demand penalty network\n",
      "constraint demand penalty cost\n",
      "constraint demand penalty cost location\n",
      "constraint demand penalty cost network\n",
      "objective cost w demand penalty\n",
      "constraint demand lb\n",
      "constraint process capex\n",
      "constraint process fopex\n",
      "constraint process vopex\n",
      "constraint process incidental\n",
      "constraint location capex\n",
      "constraint location fopex\n",
      "constraint storage cost\n",
      "constraint storage capex\n",
      "constraint storage cost location\n",
      "constraint storage cost network\n",
      "constraint production mode\n",
      "constraint inventory balance\n",
      "constraint inventory network\n",
      "constraint resource export\n",
      "constraint transport export\n",
      "constraint export\n",
      "constraint transport capex\n",
      "constraint transport network capex\n",
      "constraint transport export network\n",
      "constraint transport vopex\n",
      "constraint transport network vopex\n",
      "constraint transport fopex\n",
      "constraint transport network fopex\n",
      "constraint transport capacity UB no bin\n",
      "constraint transport capacity LB no bin\n",
      "constraint storage facility\n",
      "constraint production facility\n",
      "constraint min production facility\n",
      "constraint min storage facility\n",
      "constraint transport capacity UB\n",
      "constraint transport capacity LB\n",
      "constraint backlog\n",
      "constraint backlog total discharge\n",
      "constraint backlog penalty cost\n",
      "constraint demand penalty\n",
      "constraint demand penalty location\n",
      "constraint demand penalty network\n",
      "constraint demand penalty cost\n",
      "constraint demand penalty cost location\n",
      "constraint demand penalty cost network\n",
      "objective cost w demand penalty\n",
      "constraint demand lb\n",
      "constraint process capex\n",
      "constraint process fopex\n",
      "constraint process vopex\n",
      "constraint process incidental\n",
      "constraint location capex\n",
      "constraint location fopex\n",
      "constraint storage cost\n",
      "constraint storage capex\n",
      "constraint storage cost location\n",
      "constraint storage cost network\n",
      "constraint production mode\n",
      "constraint inventory balance\n",
      "constraint inventory network\n",
      "constraint resource export\n",
      "constraint transport export\n",
      "constraint export\n",
      "constraint transport capex\n",
      "constraint transport network capex\n",
      "constraint transport export network\n",
      "constraint transport vopex\n",
      "constraint transport network vopex\n",
      "constraint transport fopex\n",
      "constraint transport network fopex\n",
      "constraint transport capacity UB no bin\n",
      "constraint transport capacity LB no bin\n",
      "constraint storage facility\n",
      "constraint production facility\n",
      "constraint min production facility\n",
      "constraint min storage facility\n",
      "constraint transport capacity UB\n",
      "constraint transport capacity LB\n",
      "constraint backlog\n",
      "constraint backlog total discharge\n",
      "constraint backlog penalty cost\n",
      "constraint demand penalty\n",
      "constraint demand penalty location\n",
      "constraint demand penalty network\n",
      "constraint demand penalty cost\n",
      "constraint demand penalty cost location\n",
      "constraint demand penalty cost network\n",
      "objective cost w demand penalty\n",
      "constraint demand lb\n"
     ]
    }
   ],
   "source": [
    "start_time = time.time()\n",
    "ef_UI = ExtensiveForm(options, load_scenario_names, design_scenario_creator, scenario_creator_kwargs=scenario_creator_kwargs)\n",
    "results = ef_UI.solve_extensive_form(solver_options=solver_options)\n",
    "end_time = time.time()"
   ],
   "metadata": {
    "collapsed": false,
    "ExecuteTime": {
     "end_time": "2025-09-30T19:44:46.643706Z",
     "start_time": "2025-09-30T19:42:48.159195Z"
    }
   },
   "id": "926311ae3166c49b",
   "execution_count": 11
  },
  {
   "cell_type": "code",
   "outputs": [],
   "source": [
    "exCost_UI = ef_UI.get_objective_value()\n",
    "ssoln_UI = ef_UI.get_root_solution()"
   ],
   "metadata": {
    "collapsed": false,
    "ExecuteTime": {
     "end_time": "2025-09-30T19:44:46.659003Z",
     "start_time": "2025-09-30T19:44:46.644807Z"
    }
   },
   "id": "a0a1e37f39fb3885",
   "execution_count": 12
  },
  {
   "cell_type": "code",
   "outputs": [],
   "source": [
    "with open(f\"ssoln_Backlog.pkl\", \"wb\") as file:\n",
    "    pickle.dump(ssoln_UI, file)"
   ],
   "metadata": {
    "collapsed": false,
    "ExecuteTime": {
     "end_time": "2025-09-30T19:44:46.674754Z",
     "start_time": "2025-09-30T19:44:46.660095Z"
    }
   },
   "id": "638a0f46a68b9002",
   "execution_count": 13
  },
  {
   "cell_type": "code",
   "outputs": [],
   "source": [
    "exPen = 0\n",
    "for scen in load_scenario_names:\n",
    "    model = getattr(ef_UI.ef, scen)\n",
    "    exPen += pyoval(model.Demand_penalty_network[('com1_sold', 0)]) * load_scenario_dict[scen]['prob']"
   ],
   "metadata": {
    "collapsed": false,
    "ExecuteTime": {
     "end_time": "2025-09-30T19:44:46.689559Z",
     "start_time": "2025-09-30T19:44:46.675814Z"
    }
   },
   "id": "fd24a76caf8d2fc5",
   "execution_count": 14
  },
  {
   "cell_type": "code",
   "outputs": [],
   "source": [
    "m = getattr(ef_UI.ef, load_scenario_names[0])\n",
    "fsc = pyoval(m.first_stage_cost)"
   ],
   "metadata": {
    "collapsed": false,
    "ExecuteTime": {
     "end_time": "2025-09-30T19:44:46.705296Z",
     "start_time": "2025-09-30T19:44:46.690637Z"
    }
   },
   "id": "2005c220dbdbd522",
   "execution_count": 15
  },
  {
   "cell_type": "code",
   "outputs": [
    {
     "name": "stdout",
     "output_type": "stream",
     "text": [
      "Total Expected Cost considering disruptions: 301750.1500\n",
      "First Stage Cost: 29123.4000\n",
      "Execution time: -118.4696 seconds\n"
     ]
    }
   ],
   "source": [
    "print(f'Total Expected Cost considering disruptions: {exCost_UI:.4f}')\n",
    "print(f'First Stage Cost: {fsc:.4f}')\n",
    "print(f'Execution time: {start_time - end_time:.4f} seconds')"
   ],
   "metadata": {
    "collapsed": false,
    "ExecuteTime": {
     "end_time": "2025-09-30T19:44:46.721006Z",
     "start_time": "2025-09-30T19:44:46.706367Z"
    }
   },
   "id": "8ae6c8f0e0f6d878",
   "execution_count": 16
  },
  {
   "cell_type": "code",
   "outputs": [],
   "source": [
    "final_results_dict = {'Expected Cost UI': exCost_UI,\n",
    "                      'First Stage Cost': fsc,\n",
    "                      'Total Expected Penalty Cost': exPen,\n",
    "                      'Execution Time': start_time - end_time}\n",
    "\n",
    "with open(f\"final_results_Backlog.pkl\", 'wb') as file:\n",
    "    pickle.dump(final_results_dict, file)"
   ],
   "metadata": {
    "collapsed": false,
    "ExecuteTime": {
     "end_time": "2025-09-30T19:44:46.736353Z",
     "start_time": "2025-09-30T19:44:46.722058Z"
    }
   },
   "id": "2b0339ea3efddac9",
   "execution_count": 17
  },
  {
   "cell_type": "code",
   "outputs": [],
   "source": [
    "with open(f\"final_results_Backlog.pkl\", 'rb') as file:\n",
    "    load_final_results_dict = pickle.load(file)"
   ],
   "metadata": {
    "collapsed": false,
    "ExecuteTime": {
     "end_time": "2025-09-30T19:44:46.752033Z",
     "start_time": "2025-09-30T19:44:46.738458Z"
    }
   },
   "id": "c2e2f92ab0e1ae17",
   "execution_count": 18
  },
  {
   "cell_type": "code",
   "outputs": [
    {
     "data": {
      "text/plain": "{'Expected Cost UI': 301750.15,\n 'First Stage Cost': 29123.4,\n 'Total Expected Penalty Cost': 0.0,\n 'Execution Time': -118.46958184242249}"
     },
     "execution_count": 19,
     "metadata": {},
     "output_type": "execute_result"
    }
   ],
   "source": [
    "load_final_results_dict"
   ],
   "metadata": {
    "collapsed": false,
    "ExecuteTime": {
     "end_time": "2025-09-30T19:44:46.767666Z",
     "start_time": "2025-09-30T19:44:46.753076Z"
    }
   },
   "id": "250cb26734f79689",
   "execution_count": 19
  },
  {
   "cell_type": "code",
   "outputs": [
    {
     "data": {
      "text/plain": "['cap2_1', 'cap2_2', 'cap2_3', 'cap2_nd']"
     },
     "execution_count": 20,
     "metadata": {},
     "output_type": "execute_result"
    }
   ],
   "source": [
    "load_scenario_names"
   ],
   "metadata": {
    "collapsed": false,
    "ExecuteTime": {
     "end_time": "2025-09-30T19:44:46.783324Z",
     "start_time": "2025-09-30T19:44:46.768707Z"
    }
   },
   "id": "afa2fc4a81b247c8",
   "execution_count": 20
  },
  {
   "cell_type": "code",
   "outputs": [],
   "source": [
    "m1 = getattr(ef_UI.ef, load_scenario_names[0])"
   ],
   "metadata": {
    "collapsed": false,
    "ExecuteTime": {
     "end_time": "2025-09-30T19:44:46.798989Z",
     "start_time": "2025-09-30T19:44:46.784383Z"
    }
   },
   "id": "48b1caafa7e88ca2",
   "execution_count": 21
  },
  {
   "cell_type": "code",
   "outputs": [
    {
     "name": "stdout",
     "output_type": "stream",
     "text": [
      "{Member of constraint_backlog} : backlog balance for resources\n",
      "    Size=2548, Index=cap2_1.sinks*cap2_1.resources_demand*{0}*{0, 1, 2, 3, 4, 5, 6, 7, 8, 9, 10, 11, 12, 13, 14, 15, 16, 17, 18, 19, 20, 21, 22, 23, 24, 25, 26, 27, 28, 29, 30, 31, 32, 33, 34, 35, 36, 37, 38, 39, 40, 41, 42, 43, 44, 45, 46, 47, 48, 49, 50, 51}*{0, 1, 2, 3, 4, 5, 6}, Active=True\n",
      "    Key                            : Lower : Body                                                                                                                                                                               : Upper : Active\n",
      "    ('loc5', 'com1_sold', 0, 3, 4) :   0.0 : cap2_1.Demand_penalty[loc5,com1_sold,0,3,3] + cap2_1.Demand_backlog[loc5,com1_sold,0,3,3] - (cap2_1.Demand_backlog[loc5,com1_sold,0,3,4] + cap2_1.S_backlog[loc5,com1_sold,0,3,4]) :   0.0 :   True\n"
     ]
    }
   ],
   "source": [
    "m1.constraint_backlog['loc5','com1_sold',0,3,4].pprint()"
   ],
   "metadata": {
    "collapsed": false,
    "ExecuteTime": {
     "end_time": "2025-09-30T22:10:24.109228Z",
     "start_time": "2025-09-30T22:10:24.096967Z"
    }
   },
   "id": "eae108ef51364123",
   "execution_count": 25
  },
  {
   "cell_type": "code",
   "outputs": [],
   "source": [],
   "metadata": {
    "collapsed": false,
    "ExecuteTime": {
     "end_time": "2025-09-30T19:44:46.830193Z",
     "start_time": "2025-09-30T19:44:46.815477Z"
    }
   },
   "id": "1d4537b44755088b",
   "execution_count": 22
  }
 ],
 "metadata": {
  "kernelspec": {
   "display_name": "Python 3",
   "language": "python",
   "name": "python3"
  },
  "language_info": {
   "codemirror_mode": {
    "name": "ipython",
    "version": 2
   },
   "file_extension": ".py",
   "mimetype": "text/x-python",
   "name": "python",
   "nbconvert_exporter": "python",
   "pygments_lexer": "ipython2",
   "version": "2.7.6"
  }
 },
 "nbformat": 4,
 "nbformat_minor": 5
}
