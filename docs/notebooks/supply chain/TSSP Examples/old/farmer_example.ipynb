{
 "cells": [
  {
   "cell_type": "code",
   "execution_count": 1,
   "id": "initial_id",
   "metadata": {
    "collapsed": true,
    "ExecuteTime": {
     "end_time": "2025-04-16T15:46:37.058494Z",
     "start_time": "2025-04-16T15:46:36.334920Z"
    }
   },
   "outputs": [
    {
     "name": "stdout",
     "output_type": "stream",
     "text": [
      "[    0.00] Initializing mpi-sppy\n"
     ]
    }
   ],
   "source": [
    "from pyomo.environ import *\n",
    "import mpisppy.utils.sputils as sputils\n",
    "from mpisppy.opt.lshaped import LShapedMethod\n",
    "from pyomo.environ import value as pyoval\n",
    "import matplotlib.pyplot as plt\n",
    "from matplotlib import rc"
   ]
  },
  {
   "cell_type": "code",
   "outputs": [],
   "source": [
    "def build_model(yields):\n",
    "    model = ConcreteModel()\n",
    "\n",
    "    # Variables\n",
    "    model.X = Var([\"WHEAT\", \"CORN\", \"BEETS\"], within=NonNegativeReals)\n",
    "    model.Y = Var([\"WHEAT\", \"CORN\"], within=NonNegativeReals)\n",
    "    model.W = Var(\n",
    "        [\"WHEAT\", \"CORN\", \"BEETS_FAVORABLE\", \"BEETS_UNFAVORABLE\"],\n",
    "        within=NonNegativeReals,\n",
    "    )\n",
    "\n",
    "    # Objective function\n",
    "    # model.WHEAT_COST = 150 * model.X[\"WHEAT\"]\n",
    "    # model.CORN_COST = 230 * model.X[\"CORN\"]\n",
    "    # model.BEETS_COST = 260 * model.X[\"BEETS\"]\n",
    "    # model.PLANTING_COST = model.WHEAT_COST + model.CORN_COST + model.BEETS_COST\n",
    "    model.PLANTING_COST = 150 * model.X[\"WHEAT\"] + 230 * model.X[\"CORN\"] + 260 * model.X[\"BEETS\"]\n",
    "    model.PURCHASE_COST = 238 * model.Y[\"WHEAT\"] + 210 * model.Y[\"CORN\"]\n",
    "    model.SALES_REVENUE = (\n",
    "        170 * model.W[\"WHEAT\"] + 150 * model.W[\"CORN\"]\n",
    "        + 36 * model.W[\"BEETS_FAVORABLE\"] + 10 * model.W[\"BEETS_UNFAVORABLE\"]\n",
    "    )\n",
    "    model.OBJ = Objective(\n",
    "        expr=model.PLANTING_COST + model.PURCHASE_COST - model.SALES_REVENUE,\n",
    "        sense=minimize\n",
    "    )\n",
    "\n",
    "    # Constraints\n",
    "    model.CONSTR= ConstraintList()\n",
    "\n",
    "    model.CONSTR.add(summation(model.X) <= 500)\n",
    "    model.CONSTR.add(\n",
    "        yields[0] * model.X[\"WHEAT\"] + model.Y[\"WHEAT\"] - model.W[\"WHEAT\"] >= 200\n",
    "    )\n",
    "    model.CONSTR.add(\n",
    "        yields[1] * model.X[\"CORN\"] + model.Y[\"CORN\"] - model.W[\"CORN\"] >= 240\n",
    "    )\n",
    "    model.CONSTR.add(\n",
    "        yields[2] * model.X[\"BEETS\"] - model.W[\"BEETS_FAVORABLE\"] - model.W[\"BEETS_UNFAVORABLE\"] >= 0\n",
    "    )\n",
    "    model.W[\"BEETS_FAVORABLE\"].setub(6000)\n",
    "\n",
    "    return model"
   ],
   "metadata": {
    "collapsed": false,
    "ExecuteTime": {
     "end_time": "2025-04-16T15:46:37.074153Z",
     "start_time": "2025-04-16T15:46:37.059605Z"
    }
   },
   "id": "eb135abdc4cd74ce",
   "execution_count": 2
  },
  {
   "cell_type": "code",
   "outputs": [],
   "source": [
    "\n",
    "def scenario_creator(scenario_name):\n",
    "    if scenario_name == \"good\":\n",
    "        yields = [3, 3.6, 24]\n",
    "    elif scenario_name == \"average\":\n",
    "        yields = [2.5, 3, 20]\n",
    "    elif scenario_name == \"bad\":\n",
    "        yields = [2, 2.4, 16]\n",
    "    else:\n",
    "        raise ValueError(\"Unrecognized scenario name\")\n",
    "\n",
    "    scenario_probabilities = {'good': 0.33, 'average': 0.33, 'bad':0.33} \n",
    "    model = build_model(yields)\n",
    "    sputils.attach_root_node(model, model.PLANTING_COST, [model.X])\n",
    "    model._mpisppy_probability = 1.0/3\n",
    "    # model.pprint()\n",
    "    return model"
   ],
   "metadata": {
    "collapsed": false,
    "ExecuteTime": {
     "end_time": "2025-04-16T15:46:37.089874Z",
     "start_time": "2025-04-16T15:46:37.075275Z"
    }
   },
   "id": "b0776bc775c6d373",
   "execution_count": 3
  },
  {
   "cell_type": "code",
   "outputs": [],
   "source": [],
   "metadata": {
    "collapsed": false,
    "ExecuteTime": {
     "end_time": "2025-04-16T15:46:37.105597Z",
     "start_time": "2025-04-16T15:46:37.090946Z"
    }
   },
   "id": "a4ffd371d7141c30",
   "execution_count": 4
  },
  {
   "cell_type": "code",
   "outputs": [
    {
     "name": "stdout",
     "output_type": "stream",
     "text": [
      "[    0.43] Initializing SPBase\n",
      "obj : Size=1, Index=None, Active=True\n",
      "    Key  : Active : Sense    : Expression\n",
      "    None :   True : minimize : 150*X[WHEAT] + 230*X[CORN] + 260*X[BEETS] + eta[good] + eta[average] + eta[bad]\n",
      "Current Iteration: 1, \t Time Elapsed: 0.00, \t Current Objective: -Inf\n",
      "Current Iteration: 2, \t Time Elapsed: 0.90, \t Time Spent on Last Master: 0.23, \t Time Spent Generating Last Cut: 0.68, \t Number of cuts added: 3, \t Current Objective: -231100.00\n",
      "Current Iteration: 3, \t Time Elapsed: 1.84, \t Time Spent on Last Master: 0.22, \t Time Spent Generating Last Cut: 0.72, \t Number of cuts added: 3, \t Current Objective: -119614.69\n",
      "Current Iteration: 4, \t Time Elapsed: 2.84, \t Time Spent on Last Master: 0.28, \t Time Spent Generating Last Cut: 0.71, \t Number of cuts added: 1, \t Current Objective: -110249.63\n",
      "Current Iteration: 5, \t Time Elapsed: 3.81, \t Time Spent on Last Master: 0.24, \t Time Spent Generating Last Cut: 0.72, \t Number of cuts added: 1, \t Current Objective: -108483.33\n",
      "Converged in 5 iterations.\n",
      "Total Time Elapsed: 4.80\t Time Spent on Last Master: 0.26\t Time spent verifying second stage: 0.73\t Final Objective: -108390.00\n",
      "good X[BEETS] 250.00000000000003\n",
      "good X[CORN] 80.00000000000027\n",
      "good X[WHEAT] 169.99999999999966\n",
      "average X[BEETS] 250.00000000000003\n",
      "average X[CORN] 80.00000000000027\n",
      "average X[WHEAT] 169.99999999999966\n",
      "bad X[BEETS] 250.00000000000003\n",
      "bad X[CORN] 80.00000000000027\n",
      "bad X[WHEAT] 169.99999999999966\n"
     ]
    }
   ],
   "source": [
    "all_scenario_names = [\"good\", \"average\", \"bad\"]\n",
    "bounds = {name: -432000 for name in all_scenario_names}\n",
    "options = {\n",
    "    \"root_solver\": \"gurobi\",\n",
    "    \"sp_solver\": \"gurobi\",\n",
    "    \"sp_solver_options\" : {\"threads\" : 1},\n",
    "    # \"valid_eta_lb\": bounds,\n",
    "    \"max_iter\": 10,\n",
    "    # 'verbose': True,\n",
    "}\n",
    "\n",
    "ls = LShapedMethod(options, all_scenario_names, scenario_creator)\n",
    "result = ls.lshaped_algorithm()\n",
    "\n",
    "variables = ls.gather_var_values_to_rank0()\n",
    "for ((scen_name, var_name), var_value) in variables.items():\n",
    "    print(scen_name, var_name, var_value)"
   ],
   "metadata": {
    "collapsed": false,
    "ExecuteTime": {
     "end_time": "2025-04-16T15:46:42.818691Z",
     "start_time": "2025-04-16T15:46:37.106670Z"
    }
   },
   "id": "e60262dcfde5ea30",
   "execution_count": 5
  },
  {
   "cell_type": "code",
   "outputs": [
    {
     "name": "stdout",
     "output_type": "stream",
     "text": [
      "X : Size=3, Index={WHEAT, CORN, BEETS}\n",
      "    Key   : Lower : Value              : Upper : Fixed : Stale : Domain\n",
      "    BEETS :     0 : 250.00000000000003 :  None : False :  True : NonNegativeReals\n",
      "     CORN :     0 :  80.00000000000027 :  None : False :  True : NonNegativeReals\n",
      "    WHEAT :     0 : 169.99999999999966 :  None : False :  True : NonNegativeReals\n"
     ]
    }
   ],
   "source": [
    "ls.root.X.pprint()"
   ],
   "metadata": {
    "collapsed": false,
    "ExecuteTime": {
     "end_time": "2025-04-16T15:46:42.833535Z",
     "start_time": "2025-04-16T15:46:42.819809Z"
    }
   },
   "id": "af229cafa0d2ec58",
   "execution_count": 6
  },
  {
   "cell_type": "code",
   "outputs": [
    {
     "name": "stdout",
     "output_type": "stream",
     "text": [
      "obj : Size=1, Index=None, Active=True\n",
      "    Key  : Active : Sense    : Expression\n",
      "    None :   True : minimize : 150*X[WHEAT] + 230*X[CORN] + 260*X[BEETS] + eta[good] + eta[average] + eta[bad]\n"
     ]
    }
   ],
   "source": [
    "ls.root.obj.pprint()"
   ],
   "metadata": {
    "collapsed": false,
    "ExecuteTime": {
     "end_time": "2025-04-16T15:46:42.848890Z",
     "start_time": "2025-04-16T15:46:42.834623Z"
    }
   },
   "id": "d46c4bc5772563d9",
   "execution_count": 7
  },
  {
   "cell_type": "code",
   "outputs": [
    {
     "data": {
      "text/plain": "{('good', 'X[BEETS]'): 250.00000000000003,\n ('good', 'X[CORN]'): 80.00000000000027,\n ('good', 'X[WHEAT]'): 169.99999999999966,\n ('average', 'X[BEETS]'): 250.00000000000003,\n ('average', 'X[CORN]'): 80.00000000000027,\n ('average', 'X[WHEAT]'): 169.99999999999966,\n ('bad', 'X[BEETS]'): 250.00000000000003,\n ('bad', 'X[CORN]'): 80.00000000000027,\n ('bad', 'X[WHEAT]'): 169.99999999999966}"
     },
     "execution_count": 9,
     "metadata": {},
     "output_type": "execute_result"
    }
   ],
   "source": [
    "variables"
   ],
   "metadata": {
    "collapsed": false,
    "ExecuteTime": {
     "end_time": "2025-04-16T15:47:18.038946Z",
     "start_time": "2025-04-16T15:47:18.020893Z"
    }
   },
   "id": "4f0ac2ef62c5692",
   "execution_count": 9
  },
  {
   "cell_type": "code",
   "outputs": [],
   "source": [],
   "metadata": {
    "collapsed": false
   },
   "id": "ff973d22e2a94428"
  }
 ],
 "metadata": {
  "kernelspec": {
   "display_name": "Python 3",
   "language": "python",
   "name": "python3"
  },
  "language_info": {
   "codemirror_mode": {
    "name": "ipython",
    "version": 2
   },
   "file_extension": ".py",
   "mimetype": "text/x-python",
   "name": "python",
   "nbconvert_exporter": "python",
   "pygments_lexer": "ipython2",
   "version": "2.7.6"
  }
 },
 "nbformat": 4,
 "nbformat_minor": 5
}
