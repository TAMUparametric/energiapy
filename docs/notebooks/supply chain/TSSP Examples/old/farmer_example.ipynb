{
 "cells": [
  {
   "cell_type": "code",
   "execution_count": 1,
   "id": "initial_id",
   "metadata": {
    "collapsed": true,
    "ExecuteTime": {
     "end_time": "2025-02-11T23:09:12.530609Z",
     "start_time": "2025-02-11T23:09:09.480889Z"
    }
   },
   "outputs": [
    {
     "name": "stdout",
     "output_type": "stream",
     "text": [
      "[    0.00] Initializing mpi-sppy\n"
     ]
    }
   ],
   "source": [
    "from pyomo.environ import *\n",
    "import mpisppy.utils.sputils as sputils\n",
    "import matplotlib.pyplot as plt\n",
    "from matplotlib import rc"
   ]
  },
  {
   "cell_type": "code",
   "outputs": [],
   "source": [
    "def build_model(yields):\n",
    "    model = ConcreteModel()\n",
    "\n",
    "    # Variables\n",
    "    model.X = Var([\"WHEAT\", \"CORN\", \"BEETS\"], within=NonNegativeReals)\n",
    "    model.Y = Var([\"WHEAT\", \"CORN\"], within=NonNegativeReals)\n",
    "    model.W = Var(\n",
    "        [\"WHEAT\", \"CORN\", \"BEETS_FAVORABLE\", \"BEETS_UNFAVORABLE\"],\n",
    "        within=NonNegativeReals,\n",
    "    )\n",
    "\n",
    "    # Objective function\n",
    "    model.PLANTING_COST = 150 * model.X[\"WHEAT\"] + 230 * model.X[\"CORN\"] + 260 * model.X[\"BEETS\"]\n",
    "    model.PURCHASE_COST = 238 * model.Y[\"WHEAT\"] + 210 * model.Y[\"CORN\"]\n",
    "    model.SALES_REVENUE = (\n",
    "        170 * model.W[\"WHEAT\"] + 150 * model.W[\"CORN\"]\n",
    "        + 36 * model.W[\"BEETS_FAVORABLE\"] + 10 * model.W[\"BEETS_UNFAVORABLE\"]\n",
    "    )\n",
    "    model.OBJ = Objective(\n",
    "        expr=model.PLANTING_COST + model.PURCHASE_COST - model.SALES_REVENUE,\n",
    "        sense=minimize\n",
    "    )\n",
    "\n",
    "    # Constraints\n",
    "    model.CONSTR= ConstraintList()\n",
    "\n",
    "    model.CONSTR.add(summation(model.X) <= 500)\n",
    "    model.CONSTR.add(\n",
    "        yields[0] * model.X[\"WHEAT\"] + model.Y[\"WHEAT\"] - model.W[\"WHEAT\"] >= 200\n",
    "    )\n",
    "    model.CONSTR.add(\n",
    "        yields[1] * model.X[\"CORN\"] + model.Y[\"CORN\"] - model.W[\"CORN\"] >= 240\n",
    "    )\n",
    "    model.CONSTR.add(\n",
    "        yields[2] * model.X[\"BEETS\"] - model.W[\"BEETS_FAVORABLE\"] - model.W[\"BEETS_UNFAVORABLE\"] >= 0\n",
    "    )\n",
    "    model.W[\"BEETS_FAVORABLE\"].setub(6000)\n",
    "\n",
    "    return model"
   ],
   "metadata": {
    "collapsed": false,
    "ExecuteTime": {
     "end_time": "2025-02-11T23:09:12.535773Z",
     "start_time": "2025-02-11T23:09:12.531612Z"
    }
   },
   "id": "eb135abdc4cd74ce",
   "execution_count": 2
  },
  {
   "cell_type": "code",
   "outputs": [
    {
     "data": {
      "text/plain": "{'Problem': [{'Name': 'x1', 'Lower bound': -118600.0, 'Upper bound': -118600.0, 'Number of objectives': 1, 'Number of constraints': 4, 'Number of variables': 9, 'Number of binary variables': 0, 'Number of integer variables': 0, 'Number of continuous variables': 9, 'Number of nonzeros': 12, 'Sense': 'minimize'}], 'Solver': [{'Status': 'ok', 'Return code': 0, 'Message': 'Model was solved to optimality (subject to tolerances), and an optimal solution is available.', 'Termination condition': 'optimal', 'Termination message': 'Model was solved to optimality (subject to tolerances), and an optimal solution is available.', 'Wall time': 0.0, 'Error rc': 0}], 'Solution': [OrderedDict({'number of solutions': 0, 'number of solutions displayed': 0})]}"
     },
     "execution_count": 3,
     "metadata": {},
     "output_type": "execute_result"
    }
   ],
   "source": [
    "yields = [2.5, 3, 20]\n",
    "model = build_model(yields)\n",
    "solver = SolverFactory(\"gurobi\")\n",
    "solver.solve(model)"
   ],
   "metadata": {
    "collapsed": false,
    "ExecuteTime": {
     "end_time": "2025-02-11T23:09:14.394818Z",
     "start_time": "2025-02-11T23:09:12.536858Z"
    }
   },
   "id": "c2269352d7241e81",
   "execution_count": 3
  },
  {
   "cell_type": "code",
   "outputs": [
    {
     "name": "stdout",
     "output_type": "stream",
     "text": [
      "-118600.0\n"
     ]
    }
   ],
   "source": [
    "print(f\"{value(model.OBJ):.1f}\")"
   ],
   "metadata": {
    "collapsed": false,
    "ExecuteTime": {
     "end_time": "2025-02-11T23:09:14.398194Z",
     "start_time": "2025-02-11T23:09:14.394818Z"
    }
   },
   "id": "aabfa2d9da52fdfa",
   "execution_count": 4
  },
  {
   "cell_type": "code",
   "outputs": [],
   "source": [],
   "metadata": {
    "collapsed": false,
    "ExecuteTime": {
     "end_time": "2025-02-11T23:09:14.401347Z",
     "start_time": "2025-02-11T23:09:14.399240Z"
    }
   },
   "id": "89e43f37297be0d8",
   "execution_count": 4
  },
  {
   "cell_type": "code",
   "outputs": [],
   "source": [
    "import mpisppy.utils.sputils as sputils\n",
    "\n",
    "def scenario_creator(scenario_name):\n",
    "    if scenario_name == \"good\":\n",
    "        yields = [3, 3.6, 24]\n",
    "    elif scenario_name == \"average\":\n",
    "        yields = [2.5, 3, 20]\n",
    "    elif scenario_name == \"bad\":\n",
    "        yields = [2, 2.4, 16]\n",
    "    else:\n",
    "        raise ValueError(\"Unrecognized scenario name\")\n",
    "    \n",
    "    scenario_probabilities = {'good': 0.33, 'average': 0.33, 'bad':0.33} \n",
    "    model = build_model(yields)\n",
    "    sputils.attach_root_node(model, model.PLANTING_COST, [model.X])\n",
    "    model._mpisppy_probability = scenario_probabilities[scenario_name]\n",
    "    # model.pprint()\n",
    "    return model"
   ],
   "metadata": {
    "collapsed": false,
    "ExecuteTime": {
     "end_time": "2025-02-11T23:09:14.404702Z",
     "start_time": "2025-02-11T23:09:14.401347Z"
    }
   },
   "id": "b0776bc775c6d373",
   "execution_count": 5
  },
  {
   "cell_type": "code",
   "outputs": [
    {
     "name": "stdout",
     "output_type": "stream",
     "text": [
      "[    3.00] Initializing SPBase\n",
      "-108390.00\n"
     ]
    }
   ],
   "source": [
    "from mpisppy.opt.ef import ExtensiveForm\n",
    "\n",
    "options = {\"solver\": \"gurobi\"}\n",
    "all_scenario_names = [\"good\", \"average\", \"bad\"]\n",
    "ef = ExtensiveForm(options, all_scenario_names, scenario_creator)\n",
    "results = ef.solve_extensive_form()\n",
    "\n",
    "objval = ef.get_objective_value()\n",
    "print(f\"{objval:.2f}\")"
   ],
   "metadata": {
    "collapsed": false,
    "ExecuteTime": {
     "end_time": "2025-02-11T23:09:14.428526Z",
     "start_time": "2025-02-11T23:09:14.404702Z"
    }
   },
   "id": "d53328b9224f88a",
   "execution_count": 6
  },
  {
   "cell_type": "code",
   "outputs": [],
   "source": [
    "output_dict = dict()"
   ],
   "metadata": {
    "collapsed": false,
    "ExecuteTime": {
     "end_time": "2025-02-11T23:20:35.328012Z",
     "start_time": "2025-02-11T23:20:35.325675Z"
    }
   },
   "id": "ded0b77eee5fc34",
   "execution_count": 37
  },
  {
   "cell_type": "code",
   "outputs": [],
   "source": [
    "for name in all_scenario_names:\n",
    "    model_vars = getattr(ef.ef, name).component_map(ctype=Var)\n",
    "    vars_dict = {i: model_vars[i].extract_values() for i in model_vars.keys()}\n",
    "    \n",
    "    model_obj = getattr(ef.ef, name).component_map(ctype=Objective)\n",
    "    obj_dict = {'objective': model_obj[i]() for i in model_obj.keys()}\n",
    "    \n",
    "    output_dict[name] = {**vars_dict, **obj_dict}"
   ],
   "metadata": {
    "collapsed": false,
    "ExecuteTime": {
     "end_time": "2025-02-11T23:20:35.792556Z",
     "start_time": "2025-02-11T23:20:35.788862Z"
    }
   },
   "id": "6eb9b992293dcbbe",
   "execution_count": 38
  },
  {
   "cell_type": "code",
   "outputs": [
    {
     "data": {
      "text/plain": "{'good': {'X': {'WHEAT': 170.0, 'CORN': 80.0, 'BEETS': 250.0},\n  'Y': {'WHEAT': 0.0, 'CORN': 0.0},\n  'W': {'WHEAT': 310.0,\n   'CORN': 48.0,\n   'BEETS_FAVORABLE': 6000.0,\n   'BEETS_UNFAVORABLE': 0.0},\n  'objective': -167000.0},\n 'average': {'X': {'WHEAT': 170.0, 'CORN': 80.0, 'BEETS': 250.0},\n  'Y': {'WHEAT': 0.0, 'CORN': 0.0},\n  'W': {'WHEAT': 225.0,\n   'CORN': 0.0,\n   'BEETS_FAVORABLE': 5000.0,\n   'BEETS_UNFAVORABLE': 0.0},\n  'objective': -109350.0},\n 'bad': {'X': {'WHEAT': 170.0, 'CORN': 80.0, 'BEETS': 250.0},\n  'Y': {'WHEAT': 0.0, 'CORN': 48.0},\n  'W': {'WHEAT': 140.0,\n   'CORN': 0.0,\n   'BEETS_FAVORABLE': 4000.0,\n   'BEETS_UNFAVORABLE': 0.0},\n  'objective': -48820.0}}"
     },
     "execution_count": 39,
     "metadata": {},
     "output_type": "execute_result"
    }
   ],
   "source": [
    "output_dict"
   ],
   "metadata": {
    "collapsed": false,
    "ExecuteTime": {
     "end_time": "2025-02-11T23:20:36.204075Z",
     "start_time": "2025-02-11T23:20:36.199803Z"
    }
   },
   "id": "c297b50261414d31",
   "execution_count": 39
  },
  {
   "cell_type": "code",
   "outputs": [],
   "source": [
    "# from mpisppy.utils.sputils import  create_EF\n",
    "# \n",
    "# EF = create_EF(scenario_names=all_scenario_names, scenario_creator=scenario_creator, EF_name='Test EF')\n",
    "# EF.write('Test.lp')"
   ],
   "metadata": {
    "collapsed": false,
    "ExecuteTime": {
     "end_time": "2025-02-11T23:09:14.431765Z",
     "start_time": "2025-02-11T23:09:14.428526Z"
    }
   },
   "id": "57f99a69b24e7727",
   "execution_count": 7
  },
  {
   "cell_type": "code",
   "outputs": [
    {
     "name": "stdout",
     "output_type": "stream",
     "text": [
      "X[BEETS] 250.0\n",
      "X[CORN] 80.0\n",
      "X[WHEAT] 170.0\n"
     ]
    }
   ],
   "source": [
    "soln = ef.get_root_solution()\n",
    "for (var_name, var_val) in soln.items():\n",
    "    print(var_name, var_val)"
   ],
   "metadata": {
    "collapsed": false,
    "ExecuteTime": {
     "end_time": "2025-02-11T23:09:14.438137Z",
     "start_time": "2025-02-11T23:09:14.431765Z"
    }
   },
   "id": "70db45a1419f6796",
   "execution_count": 8
  },
  {
   "cell_type": "code",
   "outputs": [
    {
     "data": {
      "text/plain": "{'Problem': [{'Name': 'x1', 'Lower bound': -108390.00000000003, 'Upper bound': -108390.00000000003, 'Number of objectives': 1, 'Number of constraints': 18, 'Number of variables': 27, 'Number of binary variables': 0, 'Number of integer variables': 0, 'Number of continuous variables': 27, 'Number of nonzeros': 48, 'Sense': 'minimize'}], 'Solver': [{'Status': 'ok', 'Return code': 0, 'Message': 'Model was solved to optimality (subject to tolerances), and an optimal solution is available.', 'Termination condition': 'optimal', 'Termination message': 'Model was solved to optimality (subject to tolerances), and an optimal solution is available.', 'Wall time': 0.0, 'Error rc': 0}], 'Solution': [OrderedDict({'number of solutions': 1, 'number of solutions displayed': 1}), {'Gap': 0.0, 'Status': 'optimal', 'Problem': {}, 'Objective': {'__default_objective__': {'Value': -108390.00000000003}}, 'Variable': {'x2': {'Value': 170.0}, 'x3': {'Value': 80.0}, 'x4': {'Value': 250.0}, 'x5': {'Value': 0.0}, 'x6': {'Value': 0.0}, 'x7': {'Value': 310.0}, 'x8': {'Value': 48.0}, 'x9': {'Value': 6000.0}, 'x10': {'Value': 0.0}, 'x11': {'Value': 170.0}, 'x12': {'Value': 80.0}, 'x13': {'Value': 250.0}, 'x14': {'Value': 0.0}, 'x15': {'Value': 0.0}, 'x16': {'Value': 225.0}, 'x17': {'Value': 0.0}, 'x18': {'Value': 5000.0}, 'x19': {'Value': 0.0}, 'x20': {'Value': 170.0}, 'x21': {'Value': 80.0}, 'x22': {'Value': 250.0}, 'x23': {'Value': 0.0}, 'x24': {'Value': 48.0}, 'x25': {'Value': 140.0}, 'x26': {'Value': 0.0}, 'x27': {'Value': 4000.0}, 'x28': {'Value': 0.0}}, 'Constraint': {}}]}"
     },
     "execution_count": 9,
     "metadata": {},
     "output_type": "execute_result"
    }
   ],
   "source": [
    "results"
   ],
   "metadata": {
    "collapsed": false,
    "ExecuteTime": {
     "end_time": "2025-02-11T23:09:14.443451Z",
     "start_time": "2025-02-11T23:09:14.438137Z"
    }
   },
   "id": "c0e37f16714c5b7",
   "execution_count": 9
  },
  {
   "cell_type": "code",
   "outputs": [],
   "source": [
    "# from mpisppy.opt.ph import PH\n",
    "# \n",
    "# options = {\n",
    "#     \"solver_name\": \"gurobi\",\n",
    "#     \"PHIterLimit\": 5,\n",
    "#     \"defaultPHrho\": 10,\n",
    "#     \"convthresh\": 1e-7,\n",
    "#     \"verbose\": False,\n",
    "#     \"display_progress\": False,\n",
    "#     \"display_timing\": False,\n",
    "#     \"iter0_solver_options\": dict(),\n",
    "#     \"iterk_solver_options\": dict(),\n",
    "# }\n",
    "# all_scenario_names = [\"good\", \"average\", \"bad\"]\n",
    "# ph = PH(\n",
    "#     options,\n",
    "#     all_scenario_names,\n",
    "#     scenario_creator,\n",
    "# )"
   ],
   "metadata": {
    "collapsed": false,
    "ExecuteTime": {
     "end_time": "2025-02-11T23:09:14.446469Z",
     "start_time": "2025-02-11T23:09:14.444506Z"
    }
   },
   "id": "f9c581a9eaf572ab",
   "execution_count": 10
  },
  {
   "cell_type": "code",
   "outputs": [],
   "source": [
    "# ph.ph_main()"
   ],
   "metadata": {
    "collapsed": false,
    "ExecuteTime": {
     "end_time": "2025-02-11T23:09:14.451920Z",
     "start_time": "2025-02-11T23:09:14.446469Z"
    }
   },
   "id": "2e060978868539a8",
   "execution_count": 11
  },
  {
   "cell_type": "code",
   "outputs": [
    {
     "name": "stdout",
     "output_type": "stream",
     "text": [
      "[    3.04] Initializing SPBase\n"
     ]
    },
    {
     "ename": "ImportError",
     "evalue": "BendersCutGenerator requires mpi4py.",
     "output_type": "error",
     "traceback": [
      "\u001B[1;31m---------------------------------------------------------------------------\u001B[0m",
      "\u001B[1;31mImportError\u001B[0m                               Traceback (most recent call last)",
      "Cell \u001B[1;32mIn[12], line 14\u001B[0m\n\u001B[0;32m      5\u001B[0m options \u001B[38;5;241m=\u001B[39m {\n\u001B[0;32m      6\u001B[0m     \u001B[38;5;124m\"\u001B[39m\u001B[38;5;124mroot_solver\u001B[39m\u001B[38;5;124m\"\u001B[39m: \u001B[38;5;124m\"\u001B[39m\u001B[38;5;124mgurobi\u001B[39m\u001B[38;5;124m\"\u001B[39m,\n\u001B[0;32m      7\u001B[0m     \u001B[38;5;124m\"\u001B[39m\u001B[38;5;124msp_solver\u001B[39m\u001B[38;5;124m\"\u001B[39m: \u001B[38;5;124m\"\u001B[39m\u001B[38;5;124mgurobi\u001B[39m\u001B[38;5;124m\"\u001B[39m,\n\u001B[1;32m   (...)\u001B[0m\n\u001B[0;32m     10\u001B[0m     \u001B[38;5;124m\"\u001B[39m\u001B[38;5;124mmax_iter\u001B[39m\u001B[38;5;124m\"\u001B[39m: \u001B[38;5;241m10\u001B[39m,\n\u001B[0;32m     11\u001B[0m }\n\u001B[0;32m     13\u001B[0m ls \u001B[38;5;241m=\u001B[39m LShapedMethod(options, all_scenario_names, scenario_creator)\n\u001B[1;32m---> 14\u001B[0m result \u001B[38;5;241m=\u001B[39m \u001B[43mls\u001B[49m\u001B[38;5;241;43m.\u001B[39;49m\u001B[43mlshaped_algorithm\u001B[49m\u001B[43m(\u001B[49m\u001B[43m)\u001B[49m\n\u001B[0;32m     16\u001B[0m variables \u001B[38;5;241m=\u001B[39m ls\u001B[38;5;241m.\u001B[39mgather_var_values_to_rank0()\n\u001B[0;32m     17\u001B[0m \u001B[38;5;28;01mfor\u001B[39;00m ((scen_name, var_name), var_value) \u001B[38;5;129;01min\u001B[39;00m variables\u001B[38;5;241m.\u001B[39mitems():\n",
      "File \u001B[1;32m~\\PycharmProjects\\energiapy\\.venv\\Lib\\site-packages\\mpisppy\\opt\\lshaped.py:536\u001B[0m, in \u001B[0;36mLShapedMethod.lshaped_algorithm\u001B[1;34m(self, converger)\u001B[0m\n\u001B[0;32m    533\u001B[0m _init_vars(\u001B[38;5;28mself\u001B[39m\u001B[38;5;241m.\u001B[39mroot_vars)\n\u001B[0;32m    535\u001B[0m \u001B[38;5;66;03m# sets up the BendersCutGenerator object\u001B[39;00m\n\u001B[1;32m--> 536\u001B[0m m\u001B[38;5;241m.\u001B[39mbender \u001B[38;5;241m=\u001B[39m \u001B[43mLShapedCutGenerator\u001B[49m\u001B[43m(\u001B[49m\u001B[43m)\u001B[49m\n\u001B[0;32m    538\u001B[0m m\u001B[38;5;241m.\u001B[39mbender\u001B[38;5;241m.\u001B[39mset_input(root_vars\u001B[38;5;241m=\u001B[39m\u001B[38;5;28mself\u001B[39m\u001B[38;5;241m.\u001B[39mroot_vars, tol\u001B[38;5;241m=\u001B[39mtol, comm\u001B[38;5;241m=\u001B[39m\u001B[38;5;28mself\u001B[39m\u001B[38;5;241m.\u001B[39mmpicomm)\n\u001B[0;32m    540\u001B[0m \u001B[38;5;66;03m# let the cut generator know who's using it, probably should check that this is called after set input\u001B[39;00m\n",
      "File \u001B[1;32m~\\PycharmProjects\\energiapy\\.venv\\Lib\\site-packages\\pyomo\\core\\base\\block.py:2326\u001B[0m, in \u001B[0;36mScalarCustomBlockMixin.__init__\u001B[1;34m(self, *args, **kwargs)\u001B[0m\n\u001B[0;32m   2324\u001B[0m \u001B[38;5;28;01mif\u001B[39;00m \u001B[38;5;28mcls\u001B[39m\u001B[38;5;241m.\u001B[39m\u001B[38;5;18m__bases__\u001B[39m[\u001B[38;5;241m0\u001B[39m] \u001B[38;5;129;01mis\u001B[39;00m ScalarCustomBlockMixin:\n\u001B[0;32m   2325\u001B[0m     _mixin, _data, _block \u001B[38;5;241m=\u001B[39m \u001B[38;5;28mcls\u001B[39m\u001B[38;5;241m.\u001B[39m\u001B[38;5;18m__bases__\u001B[39m\n\u001B[1;32m-> 2326\u001B[0m     \u001B[43m_data\u001B[49m\u001B[38;5;241;43m.\u001B[39;49m\u001B[38;5;21;43m__init__\u001B[39;49m\u001B[43m(\u001B[49m\u001B[38;5;28;43mself\u001B[39;49m\u001B[43m,\u001B[49m\u001B[43m \u001B[49m\u001B[43mcomponent\u001B[49m\u001B[38;5;241;43m=\u001B[39;49m\u001B[38;5;28;43mself\u001B[39;49m\u001B[43m)\u001B[49m\n\u001B[0;32m   2327\u001B[0m     _block\u001B[38;5;241m.\u001B[39m\u001B[38;5;21m__init__\u001B[39m(\u001B[38;5;28mself\u001B[39m, \u001B[38;5;241m*\u001B[39margs, \u001B[38;5;241m*\u001B[39m\u001B[38;5;241m*\u001B[39mkwargs)\n\u001B[0;32m   2328\u001B[0m     \u001B[38;5;28;01mbreak\u001B[39;00m\n",
      "File \u001B[1;32m~\\PycharmProjects\\energiapy\\.venv\\Lib\\site-packages\\mpisppy\\utils\\lshaped_cuts.py:45\u001B[0m, in \u001B[0;36mLShapedCutGeneratorData.__init__\u001B[1;34m(self, component)\u001B[0m\n\u001B[0;32m     44\u001B[0m \u001B[38;5;28;01mdef\u001B[39;00m\u001B[38;5;250m \u001B[39m\u001B[38;5;21m__init__\u001B[39m(\u001B[38;5;28mself\u001B[39m, component):\n\u001B[1;32m---> 45\u001B[0m     \u001B[38;5;28;43msuper\u001B[39;49m\u001B[43m(\u001B[49m\u001B[43m)\u001B[49m\u001B[38;5;241;43m.\u001B[39;49m\u001B[38;5;21;43m__init__\u001B[39;49m\u001B[43m(\u001B[49m\u001B[43mcomponent\u001B[49m\u001B[43m)\u001B[49m\n",
      "File \u001B[1;32m~\\PycharmProjects\\energiapy\\.venv\\Lib\\site-packages\\pyomo\\contrib\\benders\\benders_cuts.py:177\u001B[0m, in \u001B[0;36mBendersCutGeneratorData.__init__\u001B[1;34m(self, component)\u001B[0m\n\u001B[0;32m    175\u001B[0m \u001B[38;5;28;01mdef\u001B[39;00m\u001B[38;5;250m \u001B[39m\u001B[38;5;21m__init__\u001B[39m(\u001B[38;5;28mself\u001B[39m, component):\n\u001B[0;32m    176\u001B[0m     \u001B[38;5;28;01mif\u001B[39;00m \u001B[38;5;129;01mnot\u001B[39;00m mpi4py_available:\n\u001B[1;32m--> 177\u001B[0m         \u001B[38;5;28;01mraise\u001B[39;00m \u001B[38;5;167;01mImportError\u001B[39;00m(\u001B[38;5;124m'\u001B[39m\u001B[38;5;124mBendersCutGenerator requires mpi4py.\u001B[39m\u001B[38;5;124m'\u001B[39m)\n\u001B[0;32m    178\u001B[0m     \u001B[38;5;28;01mif\u001B[39;00m \u001B[38;5;129;01mnot\u001B[39;00m numpy_available:\n\u001B[0;32m    179\u001B[0m         \u001B[38;5;28;01mraise\u001B[39;00m \u001B[38;5;167;01mImportError\u001B[39;00m(\u001B[38;5;124m'\u001B[39m\u001B[38;5;124mBendersCutGenerator requires numpy.\u001B[39m\u001B[38;5;124m'\u001B[39m)\n",
      "\u001B[1;31mImportError\u001B[0m: BendersCutGenerator requires mpi4py."
     ]
    }
   ],
   "source": [
    "from mpisppy.opt.lshaped import LShapedMethod\n",
    "\n",
    "all_scenario_names = [\"good\", \"average\", \"bad\"]\n",
    "bounds = {name: -432000 for name in all_scenario_names}\n",
    "options = {\n",
    "    \"root_solver\": \"gurobi\",\n",
    "    \"sp_solver\": \"gurobi\",\n",
    "    \"sp_solver_options\" : {\"threads\" : 1},\n",
    "    \"valid_eta_lb\": bounds,\n",
    "    \"max_iter\": 10,\n",
    "}\n",
    "\n",
    "ls = LShapedMethod(options, all_scenario_names, scenario_creator)\n",
    "result = ls.lshaped_algorithm()\n",
    "\n",
    "variables = ls.gather_var_values_to_rank0()\n",
    "for ((scen_name, var_name), var_value) in variables.items():\n",
    "    print(scen_name, var_name, var_value)"
   ],
   "metadata": {
    "collapsed": false,
    "ExecuteTime": {
     "end_time": "2025-02-11T23:09:14.769472Z",
     "start_time": "2025-02-11T23:09:14.451920Z"
    }
   },
   "id": "e60262dcfde5ea30",
   "execution_count": 12
  },
  {
   "cell_type": "code",
   "outputs": [
    {
     "ename": "NameError",
     "evalue": "name 'result' is not defined",
     "output_type": "error",
     "traceback": [
      "\u001B[1;31m---------------------------------------------------------------------------\u001B[0m",
      "\u001B[1;31mNameError\u001B[0m                                 Traceback (most recent call last)",
      "Cell \u001B[1;32mIn[13], line 1\u001B[0m\n\u001B[1;32m----> 1\u001B[0m \u001B[43mresult\u001B[49m\n",
      "\u001B[1;31mNameError\u001B[0m: name 'result' is not defined"
     ]
    }
   ],
   "source": [
    "result"
   ],
   "metadata": {
    "collapsed": false,
    "ExecuteTime": {
     "end_time": "2025-02-11T23:09:39.052572Z",
     "start_time": "2025-02-11T23:09:39.037420Z"
    }
   },
   "id": "50e2c747f6050834",
   "execution_count": 13
  },
  {
   "cell_type": "code",
   "outputs": [],
   "source": [
    "ef.write_tree_solution('efsol_farmer')"
   ],
   "metadata": {
    "collapsed": false,
    "ExecuteTime": {
     "end_time": "2025-02-11T23:09:40.047663Z",
     "start_time": "2025-02-11T23:09:40.039180Z"
    }
   },
   "id": "2339aa1095d75b0b",
   "execution_count": 14
  },
  {
   "cell_type": "code",
   "outputs": [],
   "source": [],
   "metadata": {
    "collapsed": false
   },
   "id": "56b52d55d3622d5b"
  }
 ],
 "metadata": {
  "kernelspec": {
   "display_name": "Python 3",
   "language": "python",
   "name": "python3"
  },
  "language_info": {
   "codemirror_mode": {
    "name": "ipython",
    "version": 2
   },
   "file_extension": ".py",
   "mimetype": "text/x-python",
   "name": "python",
   "nbconvert_exporter": "python",
   "pygments_lexer": "ipython2",
   "version": "2.7.6"
  }
 },
 "nbformat": 4,
 "nbformat_minor": 5
}
