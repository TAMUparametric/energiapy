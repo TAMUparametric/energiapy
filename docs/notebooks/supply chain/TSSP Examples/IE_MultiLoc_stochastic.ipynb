{
 "cells": [
  {
   "cell_type": "code",
   "outputs": [
    {
     "name": "stdout",
     "output_type": "stream",
     "text": [
      "[    0.00] Initializing mpi-sppy\n"
     ]
    }
   ],
   "source": [
    "from pyomo.environ import *\n",
    "import mpisppy.utils.sputils as sputils\n",
    "import matplotlib.pyplot as plt\n",
    "from matplotlib import rc\n",
    "import sys\n",
    "sys.path.append('../../../../src')\n",
    "import pandas\n",
    "import random\n",
    "import math\n",
    "from energiapy.components.temporal_scale import TemporalScale\n",
    "from energiapy.components.resource import Resource, VaryingResource\n",
    "from energiapy.components.process import Process, ProcessMode, VaryingProcess\n",
    "from energiapy.components.location import Location\n",
    "from energiapy.components.transport import Transport\n",
    "from energiapy.components.network import Network\n",
    "from energiapy.components.scenario import Scenario\n",
    "# from energiapy.model.constraints.demand import constraint_demand2\n",
    "from energiapy.components.result import Result\n",
    "from energiapy.model.formulate import formulate, Constraints, Objective\n",
    "from energiapy.plot import plot_results, plot_scenario, plot_location\n",
    "from energiapy.model.solve import solve\n",
    "from pyomo.environ import Param\n",
    "from energiapy.utils.scale_utils import scale_pyomo_set\n",
    "from energiapy.utils.scale_utils import scale_list, scale_tuple"
   ],
   "metadata": {
    "collapsed": false,
    "ExecuteTime": {
     "end_time": "2024-09-09T19:59:37.263441Z",
     "start_time": "2024-09-09T19:59:36.508326Z"
    }
   },
   "id": "77cd58c13662186a",
   "execution_count": 1
  },
  {
   "cell_type": "code",
   "outputs": [],
   "source": [
    "_time_intervals = 7  # Number of time intervals in a planning horizon    (L_chi)\n",
    "_coms = 1\n",
    "_exec_scenarios = 52  # Number of execution scenarios                     (chi)\n",
    "\n",
    "M = 1e3  # Big M"
   ],
   "metadata": {
    "collapsed": false,
    "ExecuteTime": {
     "end_time": "2024-09-09T19:59:37.278589Z",
     "start_time": "2024-09-09T19:59:37.265515Z"
    }
   },
   "id": "2face643bc99c79a",
   "execution_count": 2
  },
  {
   "cell_type": "code",
   "outputs": [],
   "source": [
    "n_dict = {1: 14, 2: 28, 3: 42, 4: 56}\n",
    "\n",
    "def create_list(n:int):\n",
    "    return [1]*n_dict[n] + [0]*(_exec_scenarios - n_dict[n])\n",
    "\n",
    "scenario_dictionary = {\n",
    "    # 'cap1_1': {'prob': 0.25, 'factor': pandas.DataFrame(data={('loc1','com1_process'): create_list(1)})},\n",
    "    # 'cap1_2': {'prob': 0.25, 'factor': pandas.DataFrame(data={('loc1', 'com1_process'): create_list(2)})},\n",
    "    # 'cap1_3': {'prob': 0.25, 'factor': pandas.DataFrame(data={('loc1', 'com1_process'): create_list(3)})},\n",
    "    # 'cap1_4': {'prob': 0.25, 'factor': pandas.DataFrame(data={('loc1', 'com1_process'): create_list(4)})},\n",
    "             \n",
    "    'cap2_1': {'prob': 0.25, 'factor': pandas.DataFrame(data={('loc2','com1_process'): create_list(1)})},\n",
    "    'cap2_2': {'prob': 0.25, 'factor': pandas.DataFrame(data={('loc2', 'com1_process'): create_list(2)})},\n",
    "    'cap2_3': {'prob': 0.25, 'factor': pandas.DataFrame(data={('loc2', 'com1_process'): create_list(3)})},\n",
    "    'cap2_4': {'prob': 0.25, 'factor': pandas.DataFrame(data={('loc2', 'com1_process'): create_list(4)})},\n",
    "     \n",
    "    # 'cap3_1': {'prob': 0.25, 'factor': pandas.DataFrame(data={('loc3','com1_process'): create_list(1)})},\n",
    "    # 'cap3_2': {'prob': 0.25, 'factor': pandas.DataFrame(data={('loc3', 'com1_process'): create_list(2)})},\n",
    "    # 'cap3_3': {'prob': 0.25, 'factor': pandas.DataFrame(data={('loc3', 'com1_process'): create_list(3)})},\n",
    "    # 'cap3_4': {'prob': 0.25, 'factor': pandas.DataFrame(data={('loc3', 'com1_process'): create_list(4)})},\n",
    "     \n",
    "    'cap4_1': {'prob': 0.25, 'factor': pandas.DataFrame(data={('loc4','com1_process'): create_list(1)})},\n",
    "    'cap4_2': {'prob': 0.25, 'factor': pandas.DataFrame(data={('loc4', 'com1_process'): create_list(2)})},\n",
    "    'cap4_3': {'prob': 0.25, 'factor': pandas.DataFrame(data={('loc4', 'com1_process'): create_list(3)})},\n",
    "    'cap4_4': {'prob': 0.25, 'factor': pandas.DataFrame(data={('loc4', 'com1_process'): create_list(4)})},\n",
    "     \n",
    "    # 'cap5_1': {'prob': 0.25, 'factor': pandas.DataFrame(data={('loc5','com1_process'): create_list(1)})},\n",
    "    # 'cap5_2': {'prob': 0.25, 'factor': pandas.DataFrame(data={('loc5', 'com1_process'): create_list(2)})},\n",
    "    # 'cap5_3': {'prob': 0.25, 'factor': pandas.DataFrame(data={('loc5', 'com1_process'): create_list(3)})},\n",
    "    # 'cap5_4': {'prob': 0.25, 'factor': pandas.DataFrame(data={('loc5', 'com1_process'): create_list(4)})},\n",
    "     \n",
    "    'cap6_1': {'prob': 0.25, 'factor': pandas.DataFrame(data={('loc6','com1_process'): create_list(1)})},\n",
    "    'cap6_2': {'prob': 0.25, 'factor': pandas.DataFrame(data={('loc6', 'com1_process'): create_list(2)})},\n",
    "    'cap6_3': {'prob': 0.25, 'factor': pandas.DataFrame(data={('loc6', 'com1_process'): create_list(3)})},\n",
    "    'cap6_4': {'prob': 0.25, 'factor': pandas.DataFrame(data={('loc6', 'com1_process'): create_list(4)})},\n",
    "     \n",
    "    'cap7_1': {'prob': 0.25, 'factor': pandas.DataFrame(data={('loc7','com1_process'): create_list(1)})},\n",
    "    'cap7_2': {'prob': 0.25, 'factor': pandas.DataFrame(data={('loc7', 'com1_process'): create_list(2)})},\n",
    "    'cap7_3': {'prob': 0.25, 'factor': pandas.DataFrame(data={('loc7', 'com1_process'): create_list(3)})},\n",
    "    'cap7_4': {'prob': 0.25, 'factor': pandas.DataFrame(data={('loc7', 'com1_process'): create_list(4)})},\n",
    "     \n",
    "    'res1_1': {'prob': 0.25, 'factor': pandas.DataFrame(data={('loc1','com1_pur'): create_list(1)})},\n",
    "    'res1_2': {'prob': 0.25, 'factor': pandas.DataFrame(data={('loc1', 'com1_pur'): create_list(2)})},\n",
    "    'res1_3': {'prob': 0.25, 'factor': pandas.DataFrame(data={('loc1', 'com1_pur'): create_list(3)})},\n",
    "    'res1_4': {'prob': 0.25, 'factor': pandas.DataFrame(data={('loc1', 'com1_pur'): create_list(4)})},\n",
    "     \n",
    "    'res6_1': {'prob': 0.25, 'factor': pandas.DataFrame(data={('loc6','com1_pur'): create_list(1)})},\n",
    "    'res6_2': {'prob': 0.25, 'factor': pandas.DataFrame(data={('loc6', 'com1_pur'): create_list(2)})},\n",
    "    'res6_3': {'prob': 0.25, 'factor': pandas.DataFrame(data={('loc6', 'com1_pur'): create_list(3)})},\n",
    "    'res6_4': {'prob': 0.25, 'factor': pandas.DataFrame(data={('loc6', 'com1_pur'): create_list(4)})},\n",
    "     \n",
    "    # 'trans14_1': {'prob': 0.25, 'factor': pandas.DataFrame(data={'trans14': create_list(1)})},\n",
    "    # 'trans14_2': {'prob': 0.25, 'factor': pandas.DataFrame(data={'trans14': create_list(2)})},\n",
    "    # 'trans14_3': {'prob': 0.25, 'factor': pandas.DataFrame(data={'trans14': create_list(3)})},\n",
    "    # 'trans14_4': {'prob': 0.25, 'factor': pandas.DataFrame(data={'trans14': create_list(4)})},\n",
    "}\n",
    "\n",
    "scenario_names = list(scenario_dictionary.keys())"
   ],
   "metadata": {
    "collapsed": false,
    "ExecuteTime": {
     "end_time": "2024-09-09T19:59:37.310219Z",
     "start_time": "2024-09-09T19:59:37.279598Z"
    }
   },
   "id": "5dda378f7d7b2633",
   "execution_count": 3
  },
  {
   "cell_type": "code",
   "outputs": [
    {
     "data": {
      "text/plain": "24"
     },
     "execution_count": 4,
     "metadata": {},
     "output_type": "execute_result"
    }
   ],
   "source": [
    "len(scenario_names)"
   ],
   "metadata": {
    "collapsed": false,
    "ExecuteTime": {
     "end_time": "2024-09-09T19:59:37.325803Z",
     "start_time": "2024-09-09T19:59:37.311277Z"
    }
   },
   "id": "ba1bd9f3956917b3",
   "execution_count": 4
  },
  {
   "cell_type": "code",
   "outputs": [],
   "source": [
    "def build_model(scen_name:str = 'cap2_1'):\n",
    "    \n",
    "    default_df = pandas.DataFrame(data=[1]*_exec_scenarios)\n",
    "    \n",
    "    # Define temporal scales\n",
    "    scales = TemporalScale(discretization_list=[1, _exec_scenarios, _time_intervals])\n",
    "    \n",
    "    # ======================================================================================================================\n",
    "    # Declare resources/commodities\n",
    "    # ======================================================================================================================\n",
    "    com1_pur = Resource(name='com1_pur', cons_max=M, block={'imp': 1, 'urg': 1}, price=0.00, label='Commodity 1 consumed from outside the system', varying=[VaryingResource.DETERMINISTIC_AVAILABILITY])\n",
    "    \n",
    "    com1_in = Resource(name='com1_in', label='Commodity 1 received')\n",
    "    com1_out = Resource(name='com1_out', label='Commodity 1 to be sent out')\n",
    "    \n",
    "    com1_loc1_out = Resource(name='com1_loc1_out', label='Commodity 1 sent out from location 1')\n",
    "    com1_loc2_out = Resource(name='com1_loc2_out', label='Commodity 1 sent out from location 2')\n",
    "    com1_loc3_out = Resource(name='com1_loc3_out', label='Commodity 1 sent out from location 3')\n",
    "    com1_loc4_out = Resource(name='com1_loc4_out', label='Commodity 1 sent out from location 4')\n",
    "    com1_loc5_out = Resource(name='com1_loc5_out', label='Commodity 1 sent out from location 5')\n",
    "    com1_loc6_out = Resource(name='com1_loc6_out', label='Commodity 1 sent out from location 6')\n",
    "    com1_loc7_out = Resource(name='com1_loc7_out', label='Commodity 1 sent out from location 7')\n",
    "    \n",
    "    com1_sold = Resource(name='com1_sold', revenue=0.00, demand=True, sell=True, label='Commodity 1 sold to outside the system')\n",
    "    \n",
    "    \n",
    "    # ======================================================================================================================\n",
    "    # Declare processes/storage capacities\n",
    "    # ======================================================================================================================\n",
    "    com1_process_capacity = 250\n",
    "    \n",
    "    # prod_max = {0: 0.25*com1_process_capacity, 1: 0.5*com1_process_capacity, 2: 0.75*com1_process_capacity, 3: 0.95*com1_process_capacity, 4: com1_process_capacity}\n",
    "    # prod_min = {0: 0, 1: 0.25*com1_process_capacity, 2: 0.5*com1_process_capacity, 3: 0.75*com1_process_capacity, 4: 0.95*com1_process_capacity}\n",
    "    # rate_max = {0:1.25/2, 1: 1/2, 2: 0.75/2, 3: 0.5/2, 4: 0.25/2}\n",
    "    # mode_ramp = {(0,1): 5, (1,2): 5}\n",
    "    \n",
    "    com1_procure = Process(name='procure com1', prod_max=com1_process_capacity, conversion={com1_pur: -1, com1_in: 1}, capex=0.1, vopex=0.01, prod_min=0.01, label='Procure com1')\n",
    "    com1_sell = Process(name='sell com1', prod_max=com1_process_capacity, conversion={com1_out: -1, com1_sold: 1}, capex=0.1, vopex=0.01, prod_min=0.01, label='Sell com1')\n",
    "    # com1_opt_procure = Process(name='procure optional com1', prod_max=75, conversion={com1_pur: -1, com1_in:1}, capex=10, vopex=0.1, prod_min=0.01, label='Procure optional com1')\n",
    "    \n",
    "    com1_receive_loc1 = Process(name='com1_receive_loc1', prod_max=com1_process_capacity, conversion={com1_loc1_out:-1, com1_in:1}, capex=0.1, vopex=0.01, prod_min=0.01, label='Commodity 1 received from location 1')\n",
    "    com1_receive_loc2 = Process(name='com1_receive_loc2', prod_max=com1_process_capacity, conversion={com1_loc2_out:-1, com1_in:1}, capex=0.1, vopex=0.01, prod_min=0.01, label='Commodity 1 received from location 2')\n",
    "    com1_receive_loc3 = Process(name='com1_receive_loc3', prod_max=com1_process_capacity, conversion={com1_loc3_out:-1, com1_in:1}, capex=0.1, vopex=0.01, prod_min=0.01, label='Commodity 1 received from location 3')\n",
    "    com1_receive_loc4 = Process(name='com1_receive_loc4', prod_max=com1_process_capacity, conversion={com1_loc4_out:-1, com1_in:1}, capex=0.1, vopex=0.01, prod_min=0.01, label='Commodity 1 received from location 4')\n",
    "    com1_receive_loc5 = Process(name='com1_receive_loc5', prod_max=com1_process_capacity, conversion={com1_loc5_out:-1, com1_in:1}, capex=0.1, vopex=0.01, prod_min=0.01, label='Commodity 1 received from location 5')\n",
    "    com1_receive_loc6 = Process(name='com1_receive_loc6', prod_max=com1_process_capacity, conversion={com1_loc6_out:-1, com1_in:1}, capex=0.1, vopex=0.01, prod_min=0.01, label='Commodity 1 received from location 6')\n",
    "    com1_receive_loc7 = Process(name='com1_receive_loc7', prod_max=com1_process_capacity, conversion={com1_loc7_out:-1, com1_in:1}, capex=0.1, vopex=0.01, prod_min=0.01, label='Commodity 1 received from location 7')\n",
    "    \n",
    "    com1_process = Process(name='com1_process', prod_max=com1_process_capacity, conversion={com1_in: -1, com1_out: 1},  capex=0.1, vopex=0.01, prod_min=0.01, label='Process the commodity through the location', varying=[VaryingProcess.DETERMINISTIC_CAPACITY])\n",
    "    \n",
    "    # com1_process = Process(name='com1_process', prod_max=prod_max, conversion={0:{com1_in: -1, com1_out: 1}, 1:{com1_in: -1, com1_out: 1}, 2:{com1_in: -1, com1_out: 1}, 3:{com1_in: -1, com1_out: 1}, 4:{com1_in: -1, com1_out: 1}},  capex=0.01, vopex=0.01, prod_min=prod_min, rate_max=rate_max, varying=[VaryingProcess.DETERMINISTIC_CAPACITY], label='Process the commodity through the location')\n",
    "    \n",
    "    com1_store10 = Process(name='com1_store10', prod_max=com1_process_capacity, capex=0.1, vopex=0.01, storage_capex=10, store_min=0.01, store_max= 40, prod_min=0.01, label=\"Storage capacity of 10 units\", storage=com1_in, storage_cost=0.02)\n",
    "    com1_store20 = Process(name='com1_store20', prod_max=com1_process_capacity, capex=0.1, vopex=0.02, storage_capex=20, store_min=0.01,store_max= 80, prod_min=0.01, label=\"Storage capacity of 20 units\", storage=com1_in, storage_cost=0.02)\n",
    "    com1_store50 = Process(name='com1_store50', prod_max=com1_process_capacity, capex=0.1, vopex=0.05, storage_capex=50, store_min=0.01, store_max= 200, prod_min=0.01, label=\"Storage capacity of 50 units\", storage=com1_in, storage_cost=0.02)\n",
    "    \n",
    "    # com1_store = Process(name='com1_store', prod_max=com1_process_capacity, capex=0.1, vopex=0.01, storage_capex=30, store_min=0.01, store_max=200, prod_min=0.01, label=\"Storage process\", storage=com1_in, storage_cost=0.02)\n",
    "    \n",
    "    com1_loc1_send = Process(name='com1_loc1_send', prod_max=com1_process_capacity, conversion={com1_out:-1, com1_loc1_out:1}, capex=0.1, vopex=0.01, prod_min=0.01, label='Send commodity one from location 1')\n",
    "    com1_loc2_send = Process(name='com1_loc2_send', prod_max=com1_process_capacity, conversion={com1_out:-1, com1_loc2_out:1}, capex=0.1, vopex=0.01, prod_min=0.01, label='Send commodity one from location 2')\n",
    "    com1_loc3_send = Process(name='com1_loc3_send', prod_max=com1_process_capacity, conversion={com1_out:-1, com1_loc3_out:1}, capex=0.1, vopex=0.01, prod_min=0.01, label='Send commodity one from location 3')\n",
    "    com1_loc4_send = Process(name='com1_loc4_send', prod_max=com1_process_capacity, conversion={com1_out:-1, com1_loc4_out:1}, capex=0.1, vopex=0.01, prod_min=0.01, label='Send commodity one from location 4')\n",
    "    com1_loc5_send = Process(name='com1_loc5_send', prod_max=com1_process_capacity, conversion={com1_out:-1, com1_loc5_out:1}, capex=0.1, vopex=0.01, prod_min=0.01, label='Send commodity one from location 5')\n",
    "    com1_loc6_send = Process(name='com1_loc6_send', prod_max=com1_process_capacity, conversion={com1_out:-1, com1_loc6_out:1}, capex=0.1, vopex=0.01, prod_min=0.01, label='Send commodity one from location 6')\n",
    "    com1_loc7_send = Process(name='com1_loc7_send', prod_max=com1_process_capacity, conversion={com1_out:-1, com1_loc7_out:1}, capex=0.1, vopex=0.01, prod_min=0.01, label='Send commodity one from location 7')\n",
    "    \n",
    "    \n",
    "    \n",
    "    # ======================================================================================================================\n",
    "    # Declare locations/warehouses\n",
    "    # ======================================================================================================================\n",
    "    loc1 = Location(name='loc1', processes={com1_procure, com1_receive_loc2, com1_receive_loc3, com1_process, com1_store10, com1_store20, com1_store50, com1_loc1_send}, label=\"Location 1\",\n",
    "    scales=scales, demand_scale_level=2, capacity_scale_level=1, availability_scale_level=1, \n",
    "    availability_factor={com1_pur: scenario_dictionary[scen_name]['factor'][[('loc1', 'com1_pur')]] if ('loc1', 'com1_pur') in scenario_dictionary[scen_name]['factor'] else default_df})\n",
    "    \n",
    "    loc2 = Location(name='loc2', processes={com1_receive_loc1, com1_receive_loc4, com1_receive_loc5, com1_process, com1_store10, com1_store20, com1_store50, com1_loc2_send}, label=\"Location 2\", scales=scales, demand_scale_level=2, capacity_scale_level=1, availability_scale_level=1,\n",
    "    capacity_factor={com1_process: scenario_dictionary[scen_name]['factor'][[('loc2', 'com1_process')]] if ('loc2', 'com1_process') in scenario_dictionary[scen_name]['factor'] else default_df})\n",
    "    \n",
    "    loc3 = Location(name='loc3', processes={com1_receive_loc1, com1_receive_loc4, com1_process, com1_store10, com1_store20, com1_store50, com1_loc3_send}, label=\"Location 3\", scales=scales, demand_scale_level=2, capacity_scale_level=1, availability_scale_level=1)\n",
    "    \n",
    "    loc4 = Location(name='loc4', processes={com1_receive_loc2, com1_receive_loc3, com1_receive_loc6, com1_receive_loc5, com1_receive_loc7, com1_process, com1_store10, com1_store20, com1_store50, com1_loc4_send}, label=\"Location 4\", scales=scales, demand_scale_level=2, capacity_scale_level=1, availability_scale_level=1,\n",
    "    capacity_factor={com1_process: scenario_dictionary[scen_name]['factor'][[('loc4', 'com1_process')]] if ('loc4', 'com1_process') in scenario_dictionary[scen_name]['factor'] else default_df})\n",
    "    \n",
    "    loc5 = Location(name='loc5', processes={com1_receive_loc2, com1_receive_loc4, com1_receive_loc7, com1_process, com1_store10, com1_store20, com1_store50, com1_loc5_send, com1_sell}, label=\"Location 5\", scales=scales, demand_scale_level=2, capacity_scale_level=1, availability_scale_level=1)\n",
    "    \n",
    "    loc6 = Location(name='loc6', processes={com1_procure, com1_receive_loc4, com1_process, com1_store10, com1_store20, com1_store50, com1_loc6_send}, label=\"Location 6\", scales=scales, demand_scale_level=2, capacity_scale_level=1, availability_scale_level=1,\n",
    "    availability_factor={com1_pur: scenario_dictionary[scen_name]['factor'][[('loc6', 'com1_pur')]] if ('loc6', 'com1_pur') in scenario_dictionary[scen_name]['factor'] else default_df},\n",
    "    capacity_factor={com1_process: scenario_dictionary[scen_name]['factor'][[('loc6', 'com1_process')]] if ('loc6', 'com1_process') in scenario_dictionary[scen_name]['factor'] else default_df})\n",
    "    \n",
    "    loc7 = Location(name='loc7', processes={com1_receive_loc4, com1_receive_loc5, com1_process, com1_store10, com1_store20, com1_store50, com1_loc7_send}, label=\"Location 7\", scales=scales, demand_scale_level=2, capacity_scale_level=1, availability_scale_level=1,\n",
    "    capacity_factor={com1_process: scenario_dictionary[scen_name]['factor'][[('loc7', 'com1_process')]] if ('loc7', 'com1_process') in scenario_dictionary[scen_name]['factor'] else default_df})\n",
    "    \n",
    "    \n",
    "    # ======================================================================================================================\n",
    "    # Declare transport/trucks\n",
    "    # ======================================================================================================================\n",
    "    \n",
    "    truck_cap12 = 70\n",
    "    truck_cap13 = 30\n",
    "    truck_cap24 = 50\n",
    "    truck_cap25 = 30\n",
    "    truck_cap34 = 30\n",
    "    truck_cap45 = 100\n",
    "    truck_cap47 = 40\n",
    "    truck_cap64 = 50\n",
    "    truck_cap75 = 40\n",
    "    \n",
    "    truck12 = Transport(name='truck12', resources={com1_loc1_out}, trans_max=truck_cap12, label='Truck from location 1 to 2', capex=0.5, vopex=0.05, trans_min=truck_cap12)\n",
    "    truck21 = Transport(name='truck21', resources={com1_loc2_out}, trans_max=truck_cap12, label='Truck from location 2 to 1', capex=0.0001, vopex=0.05, trans_min=truck_cap12)\n",
    "    \n",
    "    truck13 = Transport(name='truck13', resources={com1_loc1_out}, trans_max=truck_cap13, label='Truck from location 1 to 3', capex=0.3, vopex=0.03, trans_min=truck_cap13)\n",
    "    truck31 = Transport(name='truck31', resources={com1_loc3_out}, trans_max=truck_cap13, label='Truck from location 3 to 1', capex=0.0001, vopex=0.03, trans_min=truck_cap13)\n",
    "    \n",
    "    truck24 = Transport(name='truck24', resources={com1_loc2_out}, trans_max=truck_cap24, label='Truck from location 2 to 4', capex=0.5, vopex=0.05, trans_min=truck_cap24)\n",
    "    truck42 = Transport(name='truck42', resources={com1_loc4_out}, trans_max=truck_cap24, label='Truck from location 4 to 2', capex=0.0001, vopex=0.05, trans_min=truck_cap24)\n",
    "    \n",
    "    truck25 = Transport(name='truck25', resources={com1_loc2_out}, trans_max=truck_cap25, label='Truck from location 2 to 5', capex=0.3, vopex=0.03, trans_min=truck_cap25)\n",
    "    truck52 = Transport(name='truck52', resources={com1_loc5_out}, trans_max=truck_cap25, label='Truck from location 5 to 2', capex=0.0001, vopex=0.03, trans_min=truck_cap25)\n",
    "    \n",
    "    truck34 = Transport(name='truck34', resources={com1_loc3_out}, trans_max=truck_cap34, label='Truck from location 3 to 4', capex=0.2, vopex=0.02, trans_min=truck_cap34)\n",
    "    truck43 = Transport(name='truck43', resources={com1_loc4_out}, trans_max=truck_cap34, label='Truck from location 4 to 3', capex=0.0001, vopex=0.02, trans_min=truck_cap34)\n",
    "    \n",
    "    truck45 = Transport(name='truck45', resources={com1_loc4_out}, trans_max=truck_cap45, label='Truck from location 4 to 5', capex=1, vopex=0.1, trans_min=truck_cap45)\n",
    "    truck54 = Transport(name='truck54', resources={com1_loc5_out}, trans_max=truck_cap45, label='Truck from location 5 to 4', capex=0.0001, vopex=0.1, trans_min=truck_cap45)\n",
    "    \n",
    "    truck47 = Transport(name='truck47', resources={com1_loc4_out}, trans_max=truck_cap47, label='Truck from location 4 to 7', capex=0.4, vopex=0.04, trans_min=truck_cap47)\n",
    "    truck74 = Transport(name='truck74', resources={com1_loc7_out}, trans_max=truck_cap47, label='Truck from location 7 to 4', capex=0.0001, vopex=0.04, trans_min=truck_cap47)\n",
    "    \n",
    "    truck64 = Transport(name='truck64', resources={com1_loc6_out}, trans_max=truck_cap64, label='Truck from location 6 to 4', capex=0.5, vopex=0.05, trans_min=truck_cap64)\n",
    "    truck46 = Transport(name='truck46', resources={com1_loc4_out}, trans_max=truck_cap64, label='Truck from location 4 to 6', capex=0.0001, vopex=0.05, trans_min=truck_cap64)\n",
    "    \n",
    "    truck75 = Transport(name='truck75', resources={com1_loc7_out}, trans_max=truck_cap75, label='Truck from location 7 to 5', capex=0.4, vopex=0.04, trans_min=truck_cap75)\n",
    "    truck57 = Transport(name='truck57', resources={com1_loc5_out}, trans_max=truck_cap75, label='Truck from location 5 to 7', capex=0.0001, vopex=0.04, trans_min=truck_cap75)\n",
    "    \n",
    "    \n",
    "    \n",
    "    # ======================================================================================================================\n",
    "    # Declare network\n",
    "    # ======================================================================================================================\n",
    "    \n",
    "    transport_matrix = [\n",
    "        [[], [truck12], [truck13], [], [], [], []],  # source: location 1\n",
    "        [[truck21], [], [], [truck24], [truck25], [], []],  # source: location 2\n",
    "        [[truck31], [], [], [truck34], [], [], []],  # source: location 3\n",
    "        [[], [truck42], [truck43], [], [truck45], [truck46], [truck47]],  # source: location 4\n",
    "        [[], [truck52], [], [truck54], [], [], [truck57]],  # source: location 5\n",
    "        [[], [], [], [truck64], [], [], []],  # source: location 6\n",
    "        [[], [], [], [truck74], [truck75], [], []]  # source: location 7\n",
    "    ]\n",
    "    \n",
    "    distance_matrix = [\n",
    "        [0, 55, 196, M, M, M, M],\n",
    "        [55, 0, M, 163, 112, M, 134],\n",
    "        [196, M, 0, 63, M, M, M],\n",
    "        [M, 163, 63, 0, 95, 117, 88],\n",
    "        [M, 112, M, 95, 0, M, 134],\n",
    "        [M, M, M, 117, M, 0, M],\n",
    "        [M, 134, M, 88, 134, M, 0]\n",
    "    ]\n",
    "    \n",
    "    locset = [loc1, loc2, loc3, loc4, loc5, loc6, loc7]\n",
    "    \n",
    "    sources = locset\n",
    "    sinks = locset\n",
    "    \n",
    "    network = Network(name='Network', scales= scales, source_locations=sources, sink_locations=sinks, transport_matrix=transport_matrix, distance_matrix=distance_matrix)\n",
    "\n",
    "\n",
    "\n",
    "    # ======================================================================================================================\n",
    "    # Declare scenario\n",
    "    # ======================================================================================================================\n",
    "    \n",
    "    daily_demand = 100\n",
    "    demand_penalty = 20\n",
    "    \n",
    "    demand_dict = {i: {com1_sold: daily_demand} if i == loc5 else {com1_sold: 0} for i in locset}\n",
    "    demand_penalty_dict = {i: {com1_sold: demand_penalty} if i == loc5 else {com1_sold: 0} for i in locset}\n",
    "    \n",
    "    scenario = Scenario(name='scenario', scales=scales, scheduling_scale_level=2, network_scale_level=0, purchase_scale_level=2, availability_scale_level=1, demand_scale_level=2, capacity_scale_level=1, network=network, demand=demand_dict, demand_penalty=demand_penalty_dict, label='Stochastic scenario with Multiple Locations')\n",
    "    \n",
    "    # ======================================================================================================================\n",
    "    # Declare problem\n",
    "    # ======================================================================================================================\n",
    "    \n",
    "    problem_mincost = formulate(scenario=scenario,\n",
    "                            constraints={Constraints.COST, Constraints.TRANSPORT, Constraints.RESOURCE_BALANCE, Constraints.INVENTORY, Constraints.PRODUCTION, Constraints.DEMAND, Constraints.NETWORK},\n",
    "                            demand_sign='eq', objective=Objective.COST_W_DEMAND_PENALTY)\n",
    "    \n",
    "    \n",
    "    scale_iter = scale_tuple(instance=problem_mincost, scale_levels=scenario.network_scale_level+1)\n",
    "    capex_process= sum(problem_mincost.Capex_network[scale_] for scale_ in scale_iter)\n",
    "    cost_trans_capex = sum(problem_mincost.Capex_transport_network[scale_] for scale_ in scale_iter)\n",
    "    \n",
    "    problem_mincost.first_stage_cost  = capex_process + cost_trans_capex\n",
    "    \n",
    "    return scenario, problem_mincost"
   ],
   "metadata": {
    "collapsed": false,
    "ExecuteTime": {
     "end_time": "2024-09-09T19:59:37.356764Z",
     "start_time": "2024-09-09T19:59:37.327827Z"
    }
   },
   "id": "e19a5b3b71979c5b",
   "execution_count": 5
  },
  {
   "cell_type": "markdown",
   "source": [
    "# Solver Options"
   ],
   "metadata": {
    "collapsed": false
   },
   "id": "45c7c6a0048c97c6"
  },
  {
   "cell_type": "code",
   "outputs": [],
   "source": [
    "solver_options = {\n",
    "    'MIPGap': 0.005,\n",
    "    'TimeLimit': 60 * 15,\n",
    "    'Heuristics': 0.20\n",
    "}"
   ],
   "metadata": {
    "collapsed": false,
    "ExecuteTime": {
     "end_time": "2024-09-09T20:00:01.604497Z",
     "start_time": "2024-09-09T20:00:01.590058Z"
    }
   },
   "id": "682a7ef115b21bd8",
   "execution_count": 8
  },
  {
   "cell_type": "markdown",
   "source": [
    "# Perfect Information"
   ],
   "metadata": {
    "collapsed": false
   },
   "id": "a5d8482d93a80e9a"
  },
  {
   "cell_type": "code",
   "outputs": [
    {
     "name": "stdout",
     "output_type": "stream",
     "text": [
      "constraint process capex\n",
      "constraint process fopex\n",
      "constraint process vopex\n",
      "constraint process incidental\n",
      "constraint location capex\n",
      "constraint location fopex\n",
      "constraint storage cost\n",
      "constraint storage capex\n",
      "constraint storage cost location\n",
      "constraint storage cost network\n",
      "constraint production mode\n",
      "constraint inventory balance\n",
      "constraint inventory network\n",
      "constraint resource export\n",
      "constraint transport export\n",
      "constraint export\n",
      "constraint transport capex\n",
      "constraint transport network capex\n",
      "constraint transport export network\n",
      "constraint transport vopex\n",
      "constraint transport network vopex\n",
      "constraint transport fopex\n",
      "constraint transport network fopex\n",
      "constraint transport capacity UB no bin\n",
      "constraint transport capacity LB no bin\n",
      "constraint storage facility\n",
      "constraint production facility\n",
      "constraint min production facility\n",
      "constraint min storage facility\n",
      "constraint transport capacity UB\n",
      "constraint transport capacity LB\n",
      "constraint demand penalty\n",
      "constraint demand penalty location\n",
      "constraint demand penalty network\n",
      "constraint demand penalty cost\n",
      "constraint demand penalty cost location\n",
      "constraint demand penalty cost network\n",
      "objective cost w demand penalty\n"
     ]
    },
    {
     "ename": "GurobiError",
     "evalue": "Out of memory",
     "output_type": "error",
     "traceback": [
      "\u001B[1;31m---------------------------------------------------------------------------\u001B[0m",
      "\u001B[1;31mGurobiError\u001B[0m                               Traceback (most recent call last)",
      "Cell \u001B[1;32mIn[9], line 7\u001B[0m\n\u001B[0;32m      5\u001B[0m \u001B[38;5;28;01mfor\u001B[39;00m scenario_name \u001B[38;5;129;01min\u001B[39;00m scenario_names:\n\u001B[0;32m      6\u001B[0m     scen_PI, model_PI[scenario_name] \u001B[38;5;241m=\u001B[39m build_model(scen_name\u001B[38;5;241m=\u001B[39mscenario_name)\n\u001B[1;32m----> 7\u001B[0m     results_PI[scenario_name] \u001B[38;5;241m=\u001B[39m \u001B[43msolve\u001B[49m\u001B[43m(\u001B[49m\u001B[43mscenario\u001B[49m\u001B[38;5;241;43m=\u001B[39;49m\u001B[43mscen_PI\u001B[49m\u001B[43m,\u001B[49m\u001B[43m \u001B[49m\u001B[43minstance\u001B[49m\u001B[38;5;241;43m=\u001B[39;49m\u001B[43mmodel_PI\u001B[49m\u001B[43m[\u001B[49m\u001B[43mscenario_name\u001B[49m\u001B[43m]\u001B[49m\u001B[43m,\u001B[49m\u001B[43m \u001B[49m\u001B[43msolver\u001B[49m\u001B[38;5;241;43m=\u001B[39;49m\u001B[38;5;124;43m'\u001B[39;49m\u001B[38;5;124;43mgurobi\u001B[39;49m\u001B[38;5;124;43m'\u001B[39;49m\u001B[43m,\u001B[49m\u001B[43m \u001B[49m\u001B[43mname\u001B[49m\u001B[38;5;241;43m=\u001B[39;49m\u001B[43mscenario_name\u001B[49m\u001B[43m,\u001B[49m\u001B[43m \u001B[49m\u001B[43msolver_options\u001B[49m\u001B[38;5;241;43m=\u001B[39;49m\u001B[43msolver_options\u001B[49m\u001B[43m)\u001B[49m    \n\u001B[0;32m      9\u001B[0m     \u001B[38;5;28mprint\u001B[39m(\u001B[38;5;124m'\u001B[39m\u001B[38;5;124m######################## Finished solving \u001B[39m\u001B[38;5;124m'\u001B[39m\u001B[38;5;241m+\u001B[39mscenario_name\u001B[38;5;241m+\u001B[39m\u001B[38;5;124m'\u001B[39m\u001B[38;5;124m ########################\u001B[39m\u001B[38;5;124m'\u001B[39m)\n\u001B[0;32m     11\u001B[0m     exCost_PI \u001B[38;5;241m+\u001B[39m\u001B[38;5;241m=\u001B[39m value(model_PI[scenario_name]\u001B[38;5;241m.\u001B[39mobjective_cost_w_demand_penalty)\u001B[38;5;241m*\u001B[39mscenario_dictionary[scenario_name][\u001B[38;5;124m'\u001B[39m\u001B[38;5;124mprob\u001B[39m\u001B[38;5;124m'\u001B[39m]\n",
      "File \u001B[1;32m~\\PycharmProjects\\energiapy\\src\\energiapy\\model\\solve.py:64\u001B[0m, in \u001B[0;36msolve\u001B[1;34m(solver, name, instance, matrix, interface, scenario, saveformat, print_solversteps, log, solver_options)\u001B[0m\n\u001B[0;32m     61\u001B[0m         \u001B[38;5;28;01mfor\u001B[39;00m key, value \u001B[38;5;129;01min\u001B[39;00m solver_options\u001B[38;5;241m.\u001B[39mitems():\n\u001B[0;32m     62\u001B[0m             opt\u001B[38;5;241m.\u001B[39moptions[key] \u001B[38;5;241m=\u001B[39m value\n\u001B[1;32m---> 64\u001B[0m     output \u001B[38;5;241m=\u001B[39m \u001B[43mopt\u001B[49m\u001B[38;5;241;43m.\u001B[39;49m\u001B[43msolve\u001B[49m\u001B[43m(\u001B[49m\u001B[43minstance\u001B[49m\u001B[43m,\u001B[49m\u001B[43m \u001B[49m\u001B[43mtee\u001B[49m\u001B[38;5;241;43m=\u001B[39;49m\u001B[43mprint_solversteps\u001B[49m\u001B[43m)\u001B[49m\n\u001B[0;32m     66\u001B[0m \u001B[38;5;28;01mif\u001B[39;00m interface \u001B[38;5;241m==\u001B[39m \u001B[38;5;124m'\u001B[39m\u001B[38;5;124mGAMS\u001B[39m\u001B[38;5;124m'\u001B[39m:\n\u001B[0;32m     67\u001B[0m     warn(\u001B[38;5;124m'\u001B[39m\u001B[38;5;124mEnsure GAMS is installed on system and PATH is set\u001B[39m\u001B[38;5;124m'\u001B[39m)\n",
      "File \u001B[1;32m~\\.conda\\envs\\venv_energiapy\\lib\\site-packages\\pyomo\\solvers\\plugins\\solvers\\direct_solver.py:130\u001B[0m, in \u001B[0;36mDirectSolver.solve\u001B[1;34m(self, *args, **kwds)\u001B[0m\n\u001B[0;32m    126\u001B[0m \u001B[38;5;28;01mtry\u001B[39;00m:\n\u001B[0;32m    127\u001B[0m     \u001B[38;5;66;03m# we're good to go.\u001B[39;00m\n\u001B[0;32m    128\u001B[0m     initial_time \u001B[38;5;241m=\u001B[39m time\u001B[38;5;241m.\u001B[39mtime()\n\u001B[1;32m--> 130\u001B[0m     \u001B[38;5;28mself\u001B[39m\u001B[38;5;241m.\u001B[39m_presolve(\u001B[38;5;241m*\u001B[39margs, \u001B[38;5;241m*\u001B[39m\u001B[38;5;241m*\u001B[39mkwds)\n\u001B[0;32m    132\u001B[0m     presolve_completion_time \u001B[38;5;241m=\u001B[39m time\u001B[38;5;241m.\u001B[39mtime()\n\u001B[0;32m    133\u001B[0m     \u001B[38;5;28;01mif\u001B[39;00m \u001B[38;5;28mself\u001B[39m\u001B[38;5;241m.\u001B[39m_report_timing:\n",
      "File \u001B[1;32m~\\.conda\\envs\\venv_energiapy\\lib\\site-packages\\pyomo\\solvers\\plugins\\solvers\\direct_solver.py:68\u001B[0m, in \u001B[0;36mDirectSolver._presolve\u001B[1;34m(self, *args, **kwds)\u001B[0m\n\u001B[0;32m     62\u001B[0m     msg \u001B[38;5;241m=\u001B[39m (\n\u001B[0;32m     63\u001B[0m         \u001B[38;5;124m\"\u001B[39m\u001B[38;5;124mThe \u001B[39m\u001B[38;5;132;01m{0}\u001B[39;00m\u001B[38;5;124m plugin method \u001B[39m\u001B[38;5;124m'\u001B[39m\u001B[38;5;124m_presolve\u001B[39m\u001B[38;5;124m'\u001B[39m\u001B[38;5;124m must be supplied a single problem instance - \u001B[39m\u001B[38;5;132;01m{1}\u001B[39;00m\u001B[38;5;124m were \u001B[39m\u001B[38;5;124m\"\u001B[39m\n\u001B[0;32m     64\u001B[0m         \u001B[38;5;241m+\u001B[39m \u001B[38;5;124m\"\u001B[39m\u001B[38;5;124msupplied.\u001B[39m\u001B[38;5;124m\"\u001B[39m\n\u001B[0;32m     65\u001B[0m     )\u001B[38;5;241m.\u001B[39mformat(\u001B[38;5;28mtype\u001B[39m(\u001B[38;5;28mself\u001B[39m), \u001B[38;5;28mlen\u001B[39m(args))\n\u001B[0;32m     66\u001B[0m     \u001B[38;5;28;01mraise\u001B[39;00m \u001B[38;5;167;01mValueError\u001B[39;00m(msg)\n\u001B[1;32m---> 68\u001B[0m \u001B[38;5;28;43mself\u001B[39;49m\u001B[38;5;241;43m.\u001B[39;49m\u001B[43m_set_instance\u001B[49m\u001B[43m(\u001B[49m\u001B[43mmodel\u001B[49m\u001B[43m,\u001B[49m\u001B[43m \u001B[49m\u001B[43mkwds\u001B[49m\u001B[43m)\u001B[49m\n\u001B[0;32m     70\u001B[0m DirectOrPersistentSolver\u001B[38;5;241m.\u001B[39m_presolve(\u001B[38;5;28mself\u001B[39m, \u001B[38;5;241m*\u001B[39m\u001B[38;5;241m*\u001B[39mkwds)\n",
      "File \u001B[1;32m~\\.conda\\envs\\venv_energiapy\\lib\\site-packages\\pyomo\\solvers\\plugins\\solvers\\gurobi_direct.py:472\u001B[0m, in \u001B[0;36mGurobiDirect._set_instance\u001B[1;34m(self, model, kwds)\u001B[0m\n\u001B[0;32m    465\u001B[0m     msg \u001B[38;5;241m=\u001B[39m (\n\u001B[0;32m    466\u001B[0m         \u001B[38;5;124m\"\u001B[39m\u001B[38;5;124mUnable to create Gurobi model. \u001B[39m\u001B[38;5;124m\"\u001B[39m\n\u001B[0;32m    467\u001B[0m         \u001B[38;5;124m\"\u001B[39m\u001B[38;5;124mHave you installed the Python \u001B[39m\u001B[38;5;124m\"\u001B[39m\n\u001B[0;32m    468\u001B[0m         \u001B[38;5;124m\"\u001B[39m\u001B[38;5;124mbindings for Gurobi?\u001B[39m\u001B[38;5;130;01m\\n\u001B[39;00m\u001B[38;5;130;01m\\n\u001B[39;00m\u001B[38;5;130;01m\\t\u001B[39;00m\u001B[38;5;124m\"\u001B[39m \u001B[38;5;241m+\u001B[39m \u001B[38;5;124m\"\u001B[39m\u001B[38;5;124mError message: \u001B[39m\u001B[38;5;132;01m{0}\u001B[39;00m\u001B[38;5;124m\"\u001B[39m\u001B[38;5;241m.\u001B[39mformat(e)\n\u001B[0;32m    469\u001B[0m     )\n\u001B[0;32m    470\u001B[0m     \u001B[38;5;28;01mraise\u001B[39;00m \u001B[38;5;167;01mException\u001B[39;00m(msg)\n\u001B[1;32m--> 472\u001B[0m \u001B[38;5;28;43mself\u001B[39;49m\u001B[38;5;241;43m.\u001B[39;49m\u001B[43m_add_block\u001B[49m\u001B[43m(\u001B[49m\u001B[43mmodel\u001B[49m\u001B[43m)\u001B[49m\n\u001B[0;32m    474\u001B[0m \u001B[38;5;28;01mfor\u001B[39;00m var, n_ref \u001B[38;5;129;01min\u001B[39;00m \u001B[38;5;28mself\u001B[39m\u001B[38;5;241m.\u001B[39m_referenced_variables\u001B[38;5;241m.\u001B[39mitems():\n\u001B[0;32m    475\u001B[0m     \u001B[38;5;28;01mif\u001B[39;00m n_ref \u001B[38;5;241m!=\u001B[39m \u001B[38;5;241m0\u001B[39m:\n",
      "File \u001B[1;32m~\\.conda\\envs\\venv_energiapy\\lib\\site-packages\\pyomo\\solvers\\plugins\\solvers\\gurobi_direct.py:490\u001B[0m, in \u001B[0;36mGurobiDirect._add_block\u001B[1;34m(self, block)\u001B[0m\n\u001B[0;32m    489\u001B[0m \u001B[38;5;28;01mdef\u001B[39;00m \u001B[38;5;21m_add_block\u001B[39m(\u001B[38;5;28mself\u001B[39m, block):\n\u001B[1;32m--> 490\u001B[0m     \u001B[43mDirectOrPersistentSolver\u001B[49m\u001B[38;5;241;43m.\u001B[39;49m\u001B[43m_add_block\u001B[49m\u001B[43m(\u001B[49m\u001B[38;5;28;43mself\u001B[39;49m\u001B[43m,\u001B[49m\u001B[43m \u001B[49m\u001B[43mblock\u001B[49m\u001B[43m)\u001B[49m\n",
      "File \u001B[1;32m~\\.conda\\envs\\venv_energiapy\\lib\\site-packages\\pyomo\\solvers\\plugins\\solvers\\direct_or_persistent_solver.py:217\u001B[0m, in \u001B[0;36mDirectOrPersistentSolver._add_block\u001B[1;34m(self, block)\u001B[0m\n\u001B[0;32m    213\u001B[0m \u001B[38;5;28;01mdef\u001B[39;00m \u001B[38;5;21m_add_block\u001B[39m(\u001B[38;5;28mself\u001B[39m, block):\n\u001B[0;32m    214\u001B[0m     \u001B[38;5;28;01mfor\u001B[39;00m var \u001B[38;5;129;01min\u001B[39;00m block\u001B[38;5;241m.\u001B[39mcomponent_data_objects(\n\u001B[0;32m    215\u001B[0m         ctype\u001B[38;5;241m=\u001B[39mpyomo\u001B[38;5;241m.\u001B[39mcore\u001B[38;5;241m.\u001B[39mbase\u001B[38;5;241m.\u001B[39mvar\u001B[38;5;241m.\u001B[39mVar, descend_into\u001B[38;5;241m=\u001B[39m\u001B[38;5;28;01mTrue\u001B[39;00m, active\u001B[38;5;241m=\u001B[39m\u001B[38;5;28;01mTrue\u001B[39;00m, sort\u001B[38;5;241m=\u001B[39m\u001B[38;5;28;01mTrue\u001B[39;00m\n\u001B[0;32m    216\u001B[0m     ):\n\u001B[1;32m--> 217\u001B[0m         \u001B[38;5;28;43mself\u001B[39;49m\u001B[38;5;241;43m.\u001B[39;49m\u001B[43m_add_var\u001B[49m\u001B[43m(\u001B[49m\u001B[43mvar\u001B[49m\u001B[43m)\u001B[49m\n\u001B[0;32m    219\u001B[0m     \u001B[38;5;28;01mfor\u001B[39;00m sub_block \u001B[38;5;129;01min\u001B[39;00m block\u001B[38;5;241m.\u001B[39mblock_data_objects(descend_into\u001B[38;5;241m=\u001B[39m\u001B[38;5;28;01mTrue\u001B[39;00m, active\u001B[38;5;241m=\u001B[39m\u001B[38;5;28;01mTrue\u001B[39;00m):\n\u001B[0;32m    220\u001B[0m         \u001B[38;5;28;01mfor\u001B[39;00m con \u001B[38;5;129;01min\u001B[39;00m sub_block\u001B[38;5;241m.\u001B[39mcomponent_data_objects(\n\u001B[0;32m    221\u001B[0m             ctype\u001B[38;5;241m=\u001B[39mpyomo\u001B[38;5;241m.\u001B[39mcore\u001B[38;5;241m.\u001B[39mbase\u001B[38;5;241m.\u001B[39mconstraint\u001B[38;5;241m.\u001B[39mConstraint,\n\u001B[0;32m    222\u001B[0m             descend_into\u001B[38;5;241m=\u001B[39m\u001B[38;5;28;01mFalse\u001B[39;00m,\n\u001B[0;32m    223\u001B[0m             active\u001B[38;5;241m=\u001B[39m\u001B[38;5;28;01mTrue\u001B[39;00m,\n\u001B[0;32m    224\u001B[0m             sort\u001B[38;5;241m=\u001B[39m\u001B[38;5;28;01mTrue\u001B[39;00m,\n\u001B[0;32m    225\u001B[0m         ):\n",
      "File \u001B[1;32m~\\.conda\\envs\\venv_energiapy\\lib\\site-packages\\pyomo\\solvers\\plugins\\solvers\\gurobi_direct.py:349\u001B[0m, in \u001B[0;36mGurobiDirect._add_var\u001B[1;34m(self, var)\u001B[0m\n\u001B[0;32m    346\u001B[0m vtype \u001B[38;5;241m=\u001B[39m \u001B[38;5;28mself\u001B[39m\u001B[38;5;241m.\u001B[39m_gurobi_vtype_from_var(var)\n\u001B[0;32m    347\u001B[0m lb, ub \u001B[38;5;241m=\u001B[39m \u001B[38;5;28mself\u001B[39m\u001B[38;5;241m.\u001B[39m_gurobi_lb_ub_from_var(var)\n\u001B[1;32m--> 349\u001B[0m gurobipy_var \u001B[38;5;241m=\u001B[39m \u001B[38;5;28;43mself\u001B[39;49m\u001B[38;5;241;43m.\u001B[39;49m\u001B[43m_solver_model\u001B[49m\u001B[38;5;241;43m.\u001B[39;49m\u001B[43maddVar\u001B[49m\u001B[43m(\u001B[49m\n\u001B[0;32m    350\u001B[0m \u001B[43m    \u001B[49m\u001B[43mlb\u001B[49m\u001B[38;5;241;43m=\u001B[39;49m\u001B[43mlb\u001B[49m\u001B[43m,\u001B[49m\u001B[43m \u001B[49m\u001B[43mub\u001B[49m\u001B[38;5;241;43m=\u001B[39;49m\u001B[43mub\u001B[49m\u001B[43m,\u001B[49m\u001B[43m \u001B[49m\u001B[43mvtype\u001B[49m\u001B[38;5;241;43m=\u001B[39;49m\u001B[43mvtype\u001B[49m\u001B[43m,\u001B[49m\u001B[43m \u001B[49m\u001B[43mname\u001B[49m\u001B[38;5;241;43m=\u001B[39;49m\u001B[43mvarname\u001B[49m\n\u001B[0;32m    351\u001B[0m \u001B[43m\u001B[49m\u001B[43m)\u001B[49m\n\u001B[0;32m    353\u001B[0m \u001B[38;5;28mself\u001B[39m\u001B[38;5;241m.\u001B[39m_pyomo_var_to_solver_var_map[var] \u001B[38;5;241m=\u001B[39m gurobipy_var\n\u001B[0;32m    354\u001B[0m \u001B[38;5;28mself\u001B[39m\u001B[38;5;241m.\u001B[39m_solver_var_to_pyomo_var_map[gurobipy_var] \u001B[38;5;241m=\u001B[39m var\n",
      "File \u001B[1;32msrc\\\\gurobipy\\\\model.pxi:2873\u001B[0m, in \u001B[0;36mgurobipy.Model.addVar\u001B[1;34m()\u001B[0m\n",
      "\u001B[1;31mGurobiError\u001B[0m: Out of memory"
     ]
    }
   ],
   "source": [
    "exCost_PI = 0\n",
    "results_PI =  dict()\n",
    "model_PI = dict()\n",
    "\n",
    "for scenario_name in scenario_names:\n",
    "    scen_PI, model_PI[scenario_name] = build_model(scen_name=scenario_name)\n",
    "    results_PI[scenario_name] = solve(scenario=scen_PI, instance=model_PI[scenario_name], solver='gurobi', name=scenario_name, solver_options=solver_options)    \n",
    "    \n",
    "    print('######################## Finished solving '+scenario_name+' ########################')\n",
    "    \n",
    "    exCost_PI += value(model_PI[scenario_name].objective_cost_w_demand_penalty)*scenario_dictionary[scenario_name]['prob']"
   ],
   "metadata": {
    "collapsed": false,
    "ExecuteTime": {
     "end_time": "2024-09-09T20:00:35.119350Z",
     "start_time": "2024-09-09T20:00:01.605532Z"
    }
   },
   "id": "b9caa799bc017847",
   "execution_count": 9
  },
  {
   "cell_type": "code",
   "outputs": [],
   "source": [
    "exCost_PI"
   ],
   "metadata": {
    "collapsed": false
   },
   "id": "1a7581470735c64d",
   "execution_count": null
  },
  {
   "cell_type": "markdown",
   "source": [
    "# Expected Value of Perfect Information"
   ],
   "metadata": {
    "collapsed": false
   },
   "id": "e5c9a840986e1a3a"
  },
  {
   "cell_type": "code",
   "outputs": [],
   "source": [
    "def scenario_creator(scenario_name):  \n",
    "    scen, model = build_model(scen_name=scenario_name)\n",
    "    sputils.attach_root_node(model, model.first_stage_cost, [model.X_P, model.Cap_P, model.X_S, model.Cap_S, model.X_F, model.Cap_F])\n",
    "    model._mpisppy_probability = scenario_dictionary[scenario_name]['prob']\n",
    "    return model"
   ],
   "metadata": {
    "collapsed": false,
    "ExecuteTime": {
     "start_time": "2024-09-09T20:00:35.121444Z"
    }
   },
   "id": "570e0330063017ee",
   "execution_count": null
  },
  {
   "cell_type": "code",
   "outputs": [],
   "source": [
    "from mpisppy.opt.ef import ExtensiveForm\n",
    "options = {\"solver\": \"gurobi\"}\n",
    "# all_scenario_names = [\"good\", \"average\", \"bad\"]\n",
    "ef_UI = ExtensiveForm(options, scenario_names, scenario_creator)\n",
    "results = ef_UI.solve_extensive_form(solver_options=solver_options)"
   ],
   "metadata": {
    "collapsed": false,
    "ExecuteTime": {
     "start_time": "2024-09-09T20:00:35.121444Z"
    }
   },
   "id": "a2f11fb6c4aee764",
   "execution_count": null
  },
  {
   "cell_type": "code",
   "outputs": [],
   "source": [
    "exCost_UI = ef_UI.get_objective_value()\n",
    "print(f\"{exCost_UI:.4f}\")"
   ],
   "metadata": {
    "collapsed": false,
    "ExecuteTime": {
     "start_time": "2024-09-09T20:00:35.121444Z"
    }
   },
   "id": "a1104ef40f9ba8f8",
   "execution_count": null
  },
  {
   "cell_type": "code",
   "outputs": [],
   "source": [
    "EVPI = exCost_UI - exCost_PI\n",
    "EVPI"
   ],
   "metadata": {
    "collapsed": false,
    "ExecuteTime": {
     "start_time": "2024-09-09T20:00:35.122541Z"
    }
   },
   "id": "3288f44b03fba042",
   "execution_count": null
  },
  {
   "cell_type": "code",
   "outputs": [],
   "source": [],
   "metadata": {
    "collapsed": false
   },
   "id": "d3ff615ddadc5d54"
  },
  {
   "cell_type": "markdown",
   "source": [
    "# Value of Stochastic Solution"
   ],
   "metadata": {
    "collapsed": false
   },
   "id": "460ed5cbbe5dc9a"
  },
  {
   "cell_type": "code",
   "outputs": [],
   "source": [
    "n_avg = int(sum(ns_dict[i] for i in ns_dict.keys())/3)\n",
    "cap_factor_avg = pandas.DataFrame(data={'com1_process': [1]*n_avg + [0]*(_exec_scenarios-n_avg)})\n",
    "scen_avg, model_avg = build_model(cap_factor=cap_factor_avg)\n",
    "\n",
    "solver_avg = SolverFactory(\"gurobi\")\n",
    "solver_avg.solve(model_avg, options=solver_options)"
   ],
   "metadata": {
    "collapsed": false
   },
   "id": "36d323c45bb9f268",
   "execution_count": null
  },
  {
   "cell_type": "code",
   "outputs": [],
   "source": [
    "def fix_variables(model1: ConcreteModel, model2:ConcreteModel):\n",
    "    \n",
    "    def fix(var1, var2):\n",
    "        for i in list(var1.keys()):\n",
    "            if var1[i].value is None:\n",
    "                continue\n",
    "            else:\n",
    "                var2[i].fixed = True\n",
    "                var2[i] = value(var1[i])\n",
    "            # var2[i].pprint()\n",
    "            \n",
    "    fix(model1.X_P, model2.X_P)\n",
    "    fix(model1.Cap_P, model2.Cap_P)\n",
    "    fix(model1.X_S, model2.X_S)\n",
    "    fix(model1.Cap_S, model2.Cap_S)\n",
    "    fix(model1.X_F, model2.X_F)\n",
    "    fix(model1.Cap_F, model2.Cap_F)"
   ],
   "metadata": {
    "collapsed": false
   },
   "id": "8e600e1fd37c89d1",
   "execution_count": null
  },
  {
   "cell_type": "code",
   "outputs": [],
   "source": [
    "exCost_FD = 0\n",
    "\n",
    "for scenario_name in all_scenario_names:\n",
    "    cap_factor_VSS = pandas.DataFrame(data={'com1_process': [1]*ns_dict[scenario_name] + [0]*(_exec_scenarios-ns_dict[scenario_name])})\n",
    "    scen_VSS, model_VSS = build_model(cap_factor=cap_factor_VSS)\n",
    "    \n",
    "    fix_variables(model1=model_avg, model2=model_VSS)\n",
    "    \n",
    "    solver_VSS = SolverFactory(\"gurobi\")\n",
    "    solver_VSS.solve(model_VSS, options=solver_options)\n",
    "    \n",
    "    print('######################## Finished solving '+scenario_name+' ########################')\n",
    "    \n",
    "    exCost_FD += value(model_VSS.objective_cost_w_demand_penalty)*scenario_probabilities[scenario_name]"
   ],
   "metadata": {
    "collapsed": false
   },
   "id": "6abb12db1ec380d",
   "execution_count": null
  },
  {
   "cell_type": "code",
   "outputs": [],
   "source": [
    "VSS = exCost_FD - exCost_UI\n",
    "VSS"
   ],
   "metadata": {
    "collapsed": false
   },
   "id": "4fe1afbf041197f5",
   "execution_count": null
  },
  {
   "cell_type": "markdown",
   "source": [
    "# Results Summary"
   ],
   "metadata": {
    "collapsed": false
   },
   "id": "bb5e0c2cf2412bf6"
  },
  {
   "cell_type": "code",
   "outputs": [],
   "source": [
    "exCost_PI"
   ],
   "metadata": {
    "collapsed": false
   },
   "id": "e4e78335155dada3",
   "execution_count": null
  },
  {
   "cell_type": "code",
   "outputs": [],
   "source": [
    "exCost_UI"
   ],
   "metadata": {
    "collapsed": false
   },
   "id": "d46b19bc2887a6b1",
   "execution_count": null
  },
  {
   "cell_type": "code",
   "outputs": [],
   "source": [
    "exCost_FD"
   ],
   "metadata": {
    "collapsed": false
   },
   "id": "9b35cf0527bbfb28",
   "execution_count": null
  },
  {
   "cell_type": "code",
   "outputs": [],
   "source": [
    "EVPI"
   ],
   "metadata": {
    "collapsed": false
   },
   "id": "1aa4e9d687053216",
   "execution_count": null
  },
  {
   "cell_type": "code",
   "outputs": [],
   "source": [
    "VSS"
   ],
   "metadata": {
    "collapsed": false
   },
   "id": "a606e5f208a2c121",
   "execution_count": null
  },
  {
   "cell_type": "code",
   "outputs": [],
   "source": [],
   "metadata": {
    "collapsed": false
   },
   "id": "2f339c98a25e9bff",
   "execution_count": null
  }
 ],
 "metadata": {
  "kernelspec": {
   "display_name": "Python 3",
   "language": "python",
   "name": "python3"
  },
  "language_info": {
   "codemirror_mode": {
    "name": "ipython",
    "version": 2
   },
   "file_extension": ".py",
   "mimetype": "text/x-python",
   "name": "python",
   "nbconvert_exporter": "python",
   "pygments_lexer": "ipython2",
   "version": "2.7.6"
  }
 },
 "nbformat": 4,
 "nbformat_minor": 5
}
