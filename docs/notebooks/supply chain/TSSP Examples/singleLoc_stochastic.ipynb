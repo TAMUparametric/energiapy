{
 "cells": [
  {
   "cell_type": "code",
   "outputs": [],
   "source": [
    "from pyomo.environ import *\n",
    "from pyomo.environ import Binary, NonNegativeReals\n",
    "import mpisppy.utils.sputils as sputils\n",
    "import matplotlib.pyplot as plt\n",
    "from matplotlib import rc\n",
    "import sys\n",
    "sys.path.append('../../../../src')\n",
    "import pandas\n",
    "import random\n",
    "import math\n",
    "from energiapy.components.temporal_scale import TemporalScale\n",
    "from energiapy.components.resource import Resource, VaryingResource\n",
    "from energiapy.components.process import Process, ProcessMode, VaryingProcess\n",
    "from energiapy.components.location import Location\n",
    "from energiapy.components.transport import Transport\n",
    "from energiapy.components.network import Network\n",
    "from energiapy.components.scenario import Scenario\n",
    "# from energiapy.model.constraints.demand import constraint_demand2\n",
    "from energiapy.components.result import Result\n",
    "from energiapy.model.formulate import formulate, Constraints, Objective\n",
    "from energiapy.plot import plot_results, plot_scenario, plot_location\n",
    "from energiapy.model.solve import solve\n",
    "from pyomo.environ import Param\n",
    "from energiapy.utils.scale_utils import scale_pyomo_set\n",
    "from energiapy.utils.scale_utils import scale_list, scale_tuple"
   ],
   "metadata": {
    "collapsed": false,
    "ExecuteTime": {
     "end_time": "2024-07-22T15:15:14.412731Z",
     "start_time": "2024-07-22T15:15:14.404370Z"
    }
   },
   "id": "77cd58c13662186a",
   "execution_count": 19
  },
  {
   "cell_type": "code",
   "outputs": [],
   "source": [
    "_time_intervals = 7  # Number of time intervals in a planning horizon    (L_chi)\n",
    "_coms = 1\n",
    "_exec_scenarios = 52  # Number of execution scenarios                     (chi)\n",
    "\n",
    "# M = 1e3  # Big M\n",
    "\n",
    "all_scenario_names = [\"good\", \"average\", \"bad\"]\n",
    "ns_dict = {'good': 52, \"average\": 26, \"bad\":0}\n",
    "scenario_probabilities = {'good': 0.4, 'average': 0.3, 'bad': 0.3}"
   ],
   "metadata": {
    "collapsed": false,
    "ExecuteTime": {
     "end_time": "2024-07-22T15:15:14.444407Z",
     "start_time": "2024-07-22T15:15:14.431532Z"
    }
   },
   "id": "2face643bc99c79a",
   "execution_count": 20
  },
  {
   "cell_type": "code",
   "outputs": [],
   "source": [
    "def build_model(cap_factor):\n",
    "    \n",
    "    # Define temporal scales\n",
    "    scales = TemporalScale(discretization_list=[1, _exec_scenarios, _time_intervals])\n",
    "    \n",
    "    # ======================================================================================================================\n",
    "    # Declare resources/commodities\n",
    "    # ======================================================================================================================\n",
    "    com1_pur = Resource(name='com1_pur', cons_max=125, block={'imp': 1, 'urg': 1}, price=0.00, label='Commodity 1 consumed from outside the system')\n",
    "    \n",
    "    com1_in = Resource(name='com1_in', label='Commodity 1 received')\n",
    "    com1_out = Resource(name='com1_out', label='Commodity 1 to be sent out')\n",
    "    \n",
    "    com1_loc1_out = Resource(name='com1_loc1_out', label='Commodity 1 sent out from location 1')\n",
    "    # com1_loc2_out = Resource(name='com1_loc2_out', label='Commodity 1 sent out from location 2')\n",
    "    \n",
    "    com1_sold = Resource(name='com1_sold', revenue=0.00, demand=True, sell=True, label='Commodity 1 sold to outside the system')\n",
    "    \n",
    "    # ======================================================================================================================\n",
    "    # Declare processes/storage capacities\n",
    "    # ======================================================================================================================\n",
    "    com1_process_capacity = 125\n",
    "    \n",
    "    prod_max = {0: 0.25*75, 1: 0.5*75, 2: 0.75*75, 3: 0.95*75, 4: 75}\n",
    "    prod_min = {0: 0, 1: 0.25*75, 2: 0.5*75, 3: 0.75*75, 4: 0.95*75}\n",
    "    rate_max = {0:1.25/2, 1: 1/2, 2: 0.75/2, 3: 0.5/2, 4: 0.25/2}\n",
    "    # mode_ramp = {(0,1): 5, (1,2): 5}\n",
    "    \n",
    "    com1_procure = Process(name='procure com1', prod_max=prod_max, conversion={0: {com1_pur: -1, com1_in: 1}, 1: {com1_pur: -1, com1_in: 1}, 2: {com1_pur: -1, com1_in: 1},3: {com1_pur: -1, com1_in: 1}, 4: {com1_pur: -1, com1_in: 1}}, capex=0.1, vopex=0.1, prod_min=prod_min, label='Procure com1', varying=[VaryingProcess.DETERMINISTIC_CAPACITY], rate_max=rate_max)\n",
    "    \n",
    "    com1_sell = Process(name='sell com1', prod_max=com1_process_capacity, conversion={com1_out: -1, com1_sold: 1}, capex=0.1, vopex=0.1, prod_min=0.01, label='Sell com1')\n",
    "    com1_opt_procure = Process(name='procure optional com1', prod_max=75, conversion={com1_pur: -1, com1_in:1}, capex=10, vopex=0.1, prod_min=0.01, label='Procure optional com1')\n",
    "    \n",
    "    com1_receive_loc1 = Process(name='com1_receive_loc1', prod_max=com1_process_capacity, conversion={com1_loc1_out:-1, com1_in:1}, capex=0.1, vopex=0.01, prod_min=0.01, label='Commodity 1 received from location 1')\n",
    "    # com1_receive_loc2 = Process(name='com1_receive_loc2', prod_max=com1_process_capacity, conversion={com1_loc2_out:-1, com1_in:1}, capex=0.01, vopex=0.01, prod_min=com1_process_capacity, label='Commodity 1 received from location 2')\n",
    "    \n",
    "    # com1_process = Process(name='com1_process', prod_max=com1_process_capacity, conversion={com1_in: -1, com1_out: 1},  capex=0.01, vopex=0.01, prod_min=com1_process_capacity, label='Process the commodity through the location')\n",
    "    # com1_process = Process(name='com1_process', prod_max=com1_process_capacity, conversion={0:{com1_in: -1, com1_out: 1}, 1:{com1_in: -1, com1_out: 1}, 2:{com1_in: -1, com1_out: 1}, 3:{com1_in: -1, com1_out: 1}, 4:{com1_in: -1, com1_out: 1}},  capex=0.01, vopex=0.01, prod_min=0.01, label='Process the commodity through the location')\n",
    "    # \n",
    "    com1_process = Process(name='com1_process', prod_max=com1_process_capacity, conversion={com1_in: -1, com1_out: 1},  capex=0.1, vopex=0.0, prod_min=0.01, label='Process the commodity through the location')\n",
    "    \n",
    "    com1_store10 = Process(name='com1_store10', prod_max=com1_process_capacity, capex=0.1, vopex=0.01, storage_capex=10, store_min=0.01, store_max= 40, prod_min=0.01, label=\"Storage capacity of 10 units\", storage=com1_in, storage_cost=0.02)\n",
    "    com1_store20 = Process(name='com1_store20', prod_max=com1_process_capacity, capex=0.1, vopex=0.02, storage_capex=20, store_min=0.01, store_max= 80, prod_min=0.01, label=\"Storage capacity of 20 units\", storage=com1_in, storage_cost=0.02)\n",
    "    com1_store50 = Process(name='com1_store50', prod_max=com1_process_capacity, capex=0.1, vopex=0.05, storage_capex=50, store_min=0.01, store_max= 200, prod_min=0.01, label=\"Storage capacity of 50 units\", storage=com1_in, storage_cost=0.02)\n",
    "    \n",
    "    \n",
    "    com1_loc1_send = Process(name='com1_loc1_send', prod_max=com1_process_capacity, conversion={com1_out:-1, com1_loc1_out:1}, capex=0.1, vopex=0.1, prod_min=0.01, label='Send commodity one from location 1')\n",
    "    # com1_loc2_send = Process(name='com1_loc2_send', prod_max=com1_process_capacity, conversion={com1_out:-1, com1_loc2_out:1}, capex=0.01, vopex=0.01, prod_min=com1_process_capacity, label='Send commodity one from location 2')\n",
    "    \n",
    "    # ======================================================================================================================\n",
    "    # Declare locations/warehouses\n",
    "    # ======================================================================================================================\n",
    "    loc1 = Location(name='loc1', processes={com1_procure, com1_process, com1_store10, com1_store20, com1_store50, com1_loc1_send, com1_sell, com1_opt_procure}, label=\"Location 1\", scales=scales, demand_scale_level=2, capacity_scale_level=1, availability_scale_level=1, capacity_factor={com1_procure: cap_factor[['com1_procure']]})\n",
    "    \n",
    "   \n",
    "    locset = [loc1]\n",
    "\n",
    "\n",
    "    # ======================================================================================================================\n",
    "    # Declare scenario\n",
    "    # ======================================================================================================================\n",
    "    \n",
    "    daily_demand = 100\n",
    "    demand_penalty = 20\n",
    "    \n",
    "    demand_dict = {i: {com1_sold: daily_demand} if i == loc1 else {com1_sold: 0} for i in locset}\n",
    "    demand_penalty_dict = {i: {com1_sold: demand_penalty} if i == loc1 else {com1_sold: 0} for i in locset}\n",
    "    \n",
    "    scenario = Scenario(name='scenario_baseline', network= loc1, scales=scales, scheduling_scale_level=2, network_scale_level=0, purchase_scale_level=2, availability_scale_level=1, demand_scale_level=2, capacity_scale_level=1, demand=demand_dict, demand_penalty=demand_penalty_dict, label='Scenario with perfect information')\n",
    "    \n",
    "    # ======================================================================================================================\n",
    "    # Declare problem\n",
    "    # ======================================================================================================================\n",
    "    \n",
    "    problem_mincost = formulate(scenario=scenario,\n",
    "                            constraints={Constraints.COST, Constraints.RESOURCE_BALANCE, Constraints.INVENTORY, Constraints.PRODUCTION, Constraints.DEMAND, Constraints.NETWORK, Constraints.MODE},\n",
    "                            demand_sign='eq', objective=Objective.COST_W_DEMAND_PENALTY)\n",
    "\n",
    "\n",
    "    scale_iter = scale_tuple(instance=problem_mincost, scale_levels=scenario.network_scale_level+1)\n",
    "    capex_process= sum(problem_mincost.Capex_network[scale_] for scale_ in scale_iter)\n",
    "\n",
    "    problem_mincost.first_stage_cost  = capex_process\n",
    "    \n",
    "    return scenario, problem_mincost"
   ],
   "metadata": {
    "collapsed": false,
    "ExecuteTime": {
     "end_time": "2024-07-22T15:15:14.475297Z",
     "start_time": "2024-07-22T15:15:14.450632Z"
    }
   },
   "id": "e19a5b3b71979c5b",
   "execution_count": 21
  },
  {
   "cell_type": "markdown",
   "source": [
    "# Perfect Information"
   ],
   "metadata": {
    "collapsed": false
   },
   "id": "b9514386ae237268"
  },
  {
   "cell_type": "code",
   "outputs": [
    {
     "name": "stdout",
     "output_type": "stream",
     "text": [
      "constraint process capex\n",
      "constraint process fopex\n",
      "constraint process vopex\n",
      "constraint process incidental\n",
      "constraint location capex\n",
      "constraint storage cost\n",
      "constraint storage capex\n",
      "constraint storage cost location\n",
      "constraint storage cost network\n",
      "constraint production mode\n",
      "constraint inventory balance\n",
      "constraint inventory network\n",
      "constraint storage facility\n",
      "constraint production facility\n",
      "constraint min production facility\n",
      "constraint min storage facility\n",
      "constraint fixed nameplate min production mode\n",
      "constraint fixed nameplate max production mode\n",
      "constraint production mode binary\n",
      "constraint production rate1\n",
      "constraint production rate2\n",
      "constraint production mode switch\n",
      "constraint demand penalty\n",
      "constraint demand penalty location\n",
      "constraint demand penalty network\n",
      "constraint demand penalty cost\n",
      "constraint demand penalty cost location\n",
      "constraint demand penalty cost network\n",
      "objective cost w demand penalty\n",
      "Set parameter QCPDual to value 1\n",
      "Gurobi Optimizer version 11.0.1 build v11.0.1rc0 (win64 - Windows 11.0 (22631.2))\n",
      "\n",
      "CPU model: 13th Gen Intel(R) Core(TM) i7-13700, instruction set [SSE2|AVX|AVX2]\n",
      "Thread count: 16 physical cores, 24 logical processors, using up to 24 threads\n",
      "\n",
      "Optimize a model with 26189 rows, 36526 columns and 99264 nonzeros\n",
      "Model fingerprint: 0x4f78a8a7\n",
      "Variable types: 18312 continuous, 18214 integer (18214 binary)\n",
      "Coefficient statistics:\n",
      "  Matrix range     [1e-02, 2e+02]\n",
      "  Objective range  [1e+00, 2e+01]\n",
      "  Bounds range     [1e+00, 1e+00]\n",
      "  RHS range        [4e+01, 2e+02]\n",
      "Presolve removed 13171 rows and 24859 columns\n",
      "Presolve time: 0.07s\n",
      "Presolved: 13018 rows, 11667 columns, 45891 nonzeros\n",
      "Variable types: 6195 continuous, 5472 integer (1832 binary)\n",
      "Found heuristic solution: objective 728000.00000\n",
      "Found heuristic solution: objective 532856.37500\n",
      "\n",
      "Root relaxation: objective 7.557500e+03, 5244 iterations, 0.04 seconds (0.06 work units)\n",
      "\n",
      "    Nodes    |    Current Node    |     Objective Bounds      |     Work\n",
      " Expl Unexpl |  Obj  Depth IntInf | Incumbent    BestBd   Gap | It/Node Time\n",
      "\n",
      "*    0     0               0    7557.5000000 7557.50000  0.00%     -    0s\n",
      "\n",
      "Explored 1 nodes (5244 simplex iterations) in 0.18 seconds (0.26 work units)\n",
      "Thread count was 24 (of 24 available processors)\n",
      "\n",
      "Solution count 3: 7557.5 532856 728000 \n",
      "\n",
      "Optimal solution found (tolerance 1.00e-04)\n",
      "Best objective 7.557500000000e+03, best bound 7.557500000000e+03, gap 0.0000%\n",
      "WARNING: Cannot get duals for MIP.\n",
      "constraint process capex\n",
      "constraint process fopex\n",
      "constraint process vopex\n",
      "constraint process incidental\n",
      "constraint location capex\n",
      "constraint storage cost\n",
      "constraint storage capex\n",
      "constraint storage cost location\n",
      "constraint storage cost network\n",
      "constraint production mode\n",
      "constraint inventory balance\n",
      "constraint inventory network\n",
      "constraint storage facility\n",
      "constraint production facility\n",
      "constraint min production facility\n",
      "constraint min storage facility\n",
      "constraint fixed nameplate min production mode\n",
      "constraint fixed nameplate max production mode\n",
      "constraint production mode binary\n",
      "constraint production rate1\n",
      "constraint production rate2\n",
      "constraint production mode switch\n",
      "constraint demand penalty\n",
      "constraint demand penalty location\n",
      "constraint demand penalty network\n",
      "constraint demand penalty cost\n",
      "constraint demand penalty cost location\n",
      "constraint demand penalty cost network\n",
      "objective cost w demand penalty\n",
      "Set parameter QCPDual to value 1\n",
      "Gurobi Optimizer version 11.0.1 build v11.0.1rc0 (win64 - Windows 11.0 (22631.2))\n",
      "\n",
      "CPU model: 13th Gen Intel(R) Core(TM) i7-13700, instruction set [SSE2|AVX|AVX2]\n",
      "Thread count: 16 physical cores, 24 logical processors, using up to 24 threads\n",
      "\n",
      "Optimize a model with 26189 rows, 36526 columns and 99082 nonzeros\n",
      "Model fingerprint: 0xff614319\n",
      "Variable types: 18312 continuous, 18214 integer (18214 binary)\n",
      "Coefficient statistics:\n",
      "  Matrix range     [1e-02, 2e+02]\n",
      "  Objective range  [1e+00, 2e+01]\n",
      "  Bounds range     [1e+00, 1e+00]\n",
      "  RHS range        [4e+01, 2e+02]\n",
      "Presolve removed 16669 rows and 28483 columns\n",
      "Presolve time: 0.09s\n",
      "Presolved: 9520 rows, 8043 columns, 31363 nonzeros\n",
      "Variable types: 5103 continuous, 2940 integer (940 binary)\n",
      "Found heuristic solution: objective 728000.00000\n",
      "\n",
      "Root relaxation: objective 9.777980e+04, 4324 iterations, 0.04 seconds (0.09 work units)\n",
      "\n",
      "    Nodes    |    Current Node    |     Objective Bounds      |     Work\n",
      " Expl Unexpl |  Obj  Depth IntInf | Incumbent    BestBd   Gap | It/Node Time\n",
      "\n",
      "     0     0 97779.8000    0  428 728000.000 97779.8000  86.6%     -    0s\n",
      "H    0     0                    651545.00000 97779.8000  85.0%     -    0s\n",
      "H    0     0                    97781.858333 97779.8000  0.00%     -    0s\n",
      "\n",
      "Cutting planes:\n",
      "  Gomory: 99\n",
      "  Cover: 68\n",
      "  Implied bound: 51\n",
      "  Clique: 24\n",
      "  MIR: 331\n",
      "  Flow cover: 387\n",
      "  RLT: 91\n",
      "  Relax-and-lift: 132\n",
      "  BQP: 8\n",
      "  PSD: 28\n",
      "\n",
      "Explored 1 nodes (6756 simplex iterations) in 0.34 seconds (0.50 work units)\n",
      "Thread count was 24 (of 24 available processors)\n",
      "\n",
      "Solution count 3: 97781.9 651545 728000 \n",
      "\n",
      "Optimal solution found (tolerance 1.00e-04)\n",
      "Best objective 9.778185833333e+04, best bound 9.777980000000e+04, gap 0.0021%\n",
      "WARNING: Cannot get duals for MIP.\n",
      "constraint process capex\n",
      "constraint process fopex\n",
      "constraint process vopex\n",
      "constraint process incidental\n",
      "constraint location capex\n",
      "constraint storage cost\n",
      "constraint storage capex\n",
      "constraint storage cost location\n",
      "constraint storage cost network\n",
      "constraint production mode\n",
      "constraint inventory balance\n",
      "constraint inventory network\n",
      "constraint storage facility\n",
      "constraint production facility\n",
      "constraint min production facility\n",
      "constraint min storage facility\n",
      "constraint fixed nameplate min production mode\n",
      "constraint fixed nameplate max production mode\n",
      "constraint production mode binary\n",
      "constraint production rate1\n",
      "constraint production rate2\n",
      "constraint production mode switch\n",
      "constraint demand penalty\n",
      "constraint demand penalty location\n",
      "constraint demand penalty network\n",
      "constraint demand penalty cost\n",
      "constraint demand penalty cost location\n",
      "constraint demand penalty cost network\n",
      "objective cost w demand penalty\n",
      "Set parameter QCPDual to value 1\n",
      "Gurobi Optimizer version 11.0.1 build v11.0.1rc0 (win64 - Windows 11.0 (22631.2))\n",
      "\n",
      "CPU model: 13th Gen Intel(R) Core(TM) i7-13700, instruction set [SSE2|AVX|AVX2]\n",
      "Thread count: 16 physical cores, 24 logical processors, using up to 24 threads\n",
      "\n",
      "Optimize a model with 26189 rows, 36526 columns and 98900 nonzeros\n",
      "Model fingerprint: 0x2a84b90b\n",
      "Variable types: 18312 continuous, 18214 integer (18214 binary)\n",
      "Coefficient statistics:\n",
      "  Matrix range     [1e-02, 2e+02]\n",
      "  Objective range  [1e+00, 2e+01]\n",
      "  Bounds range     [1e+00, 1e+00]\n",
      "  RHS range        [4e+01, 2e+02]\n",
      "Presolve removed 20348 rows and 32505 columns\n",
      "Presolve time: 0.06s\n",
      "Presolved: 5841 rows, 4021 columns, 16041 nonzeros\n",
      "Variable types: 4009 continuous, 12 integer (12 binary)\n",
      "Found heuristic solution: objective 728000.00000\n",
      "Found heuristic solution: objective 188225.00000\n",
      "\n",
      "Root relaxation: interrupted, 447 iterations, 0.00 seconds (0.00 work units)\n",
      "    Nodes    |    Current Node    |     Objective Bounds      |     Work\n",
      " Expl Unexpl |  Obj  Depth IntInf | Incumbent    BestBd   Gap | It/Node Time\n",
      "\n",
      "     0     0          -    0      188225.000 188209.250  0.01%     -    0s\n",
      "\n",
      "Explored 1 nodes (447 simplex iterations) in 0.10 seconds (0.12 work units)\n",
      "Thread count was 24 (of 24 available processors)\n",
      "\n",
      "Solution count 2: 188225 728000 \n",
      "\n",
      "Optimal solution found (tolerance 1.00e-04)\n",
      "Best objective 1.882250000000e+05, best bound 1.882092500000e+05, gap 0.0084%\n",
      "WARNING: Cannot get duals for MIP.\n"
     ]
    }
   ],
   "source": [
    "exCost_PI = 0\n",
    "\n",
    "for scenario_name in all_scenario_names:\n",
    "    cap_factor = pandas.DataFrame(data={'com1_procure': [1]*ns_dict[scenario_name] + [0]*(_exec_scenarios-ns_dict[scenario_name])})\n",
    "    scen_PI, model_PI  = build_model(cap_factor=cap_factor)    \n",
    "    results_good = solve(scenario=scen_PI, instance=model_PI, solver='gurobi', name=scenario_name)\n",
    "    \n",
    "    # print(f\"################## OBJECTIVE VALUE: {value(model_PI.objective_cost_w_demand_penalty)} ##################\")\n",
    "    # print(f\"################## NETWORK CAPEX: {value(model_PI.Capex_network[0])} ##################\")\n",
    "    # print(f\"################## NETWORK VOPEX: {value(model_PI.Vopex_network[0])} ##################\")\n",
    "    # print(f\"################## NETWORK InvHold: {value(model_PI.Inv_cost_network[0])} ##################\")\n",
    "    # print(f\"################## DEMAND PENALTY: {value(model_PI.Demand_penalty_cost_network['com1_sold',0])} ##################\")\n",
    "    # \n",
    "    # model_PI.write('model_PI_'+scenario_name+'.lp')\n",
    "    # \n",
    "    # with open('model_PI_'+scenario_name+'.lp', 'w') as f:\n",
    "    #     for v in model_PI.component_objects(Var, active=True):\n",
    "    #         varobject = getattr(model_PI, str(v))\n",
    "    #         for index in varobject:\n",
    "    #             f.write(f'{varobject[index].name}: {varobject[index].value}\\n')\n",
    "    \n",
    "    exCost_PI += value(model_PI.objective_cost_w_demand_penalty)*scenario_probabilities[scenario_name]"
   ],
   "metadata": {
    "collapsed": false,
    "ExecuteTime": {
     "end_time": "2024-07-22T15:15:23.810421Z",
     "start_time": "2024-07-22T15:15:14.476300Z"
    }
   },
   "id": "b9caa799bc017847",
   "execution_count": 22
  },
  {
   "cell_type": "code",
   "outputs": [
    {
     "name": "stdout",
     "output_type": "stream",
     "text": [
      "Expected cost under perfect information: 88825.057\n"
     ]
    }
   ],
   "source": [
    "print(f\"Expected cost under perfect information: {exCost_PI:.3f}\")"
   ],
   "metadata": {
    "collapsed": false,
    "ExecuteTime": {
     "end_time": "2024-07-22T15:15:23.826120Z",
     "start_time": "2024-07-22T15:15:23.812498Z"
    }
   },
   "id": "122f1c35021d6f72",
   "execution_count": 23
  },
  {
   "cell_type": "markdown",
   "source": [
    "# Expected Value of Perfect Information"
   ],
   "metadata": {
    "collapsed": false
   },
   "id": "3d103a3bf33ed4fc"
  },
  {
   "cell_type": "code",
   "outputs": [],
   "source": [
    "def scenario_creator(scenario_name):    \n",
    "    cap_factor_scen = pandas.DataFrame(data={'com1_procure': [1] * ns_dict[scenario_name] + [0] * (_exec_scenarios - ns_dict[scenario_name])})\n",
    "    scen, model = build_model(cap_factor=cap_factor_scen)\n",
    "    sputils.attach_root_node(model, model.first_stage_cost, [model.X_P, model.Cap_P, model.X_S, model.Cap_S])\n",
    "    model._mpisppy_probability = scenario_probabilities[scenario_name]\n",
    "    return model"
   ],
   "metadata": {
    "collapsed": false,
    "ExecuteTime": {
     "end_time": "2024-07-22T15:15:23.841835Z",
     "start_time": "2024-07-22T15:15:23.827302Z"
    }
   },
   "id": "570e0330063017ee",
   "execution_count": 24
  },
  {
   "cell_type": "code",
   "outputs": [
    {
     "name": "stdout",
     "output_type": "stream",
     "text": [
      "[  313.40] Initializing SPBase\n",
      "constraint process capex\n",
      "constraint process fopex\n",
      "constraint process vopex\n",
      "constraint process incidental\n",
      "constraint location capex\n",
      "constraint storage cost\n",
      "constraint storage capex\n",
      "constraint storage cost location\n",
      "constraint storage cost network\n",
      "constraint production mode\n",
      "constraint inventory balance\n",
      "constraint inventory network\n",
      "constraint storage facility\n",
      "constraint production facility\n",
      "constraint min production facility\n",
      "constraint min storage facility\n",
      "constraint fixed nameplate min production mode\n",
      "constraint fixed nameplate max production mode\n",
      "constraint production mode binary\n",
      "constraint production rate1\n",
      "constraint production rate2\n",
      "constraint production mode switch\n",
      "constraint demand penalty\n",
      "constraint demand penalty location\n",
      "constraint demand penalty network\n",
      "constraint demand penalty cost\n",
      "constraint demand penalty cost location\n",
      "constraint demand penalty cost network\n",
      "objective cost w demand penalty\n",
      "constraint process capex\n",
      "constraint process fopex\n",
      "constraint process vopex\n",
      "constraint process incidental\n",
      "constraint location capex\n",
      "constraint storage cost\n",
      "constraint storage capex\n",
      "constraint storage cost location\n",
      "constraint storage cost network\n",
      "constraint production mode\n",
      "constraint inventory balance\n",
      "constraint inventory network\n",
      "constraint storage facility\n",
      "constraint production facility\n",
      "constraint min production facility\n",
      "constraint min storage facility\n",
      "constraint fixed nameplate min production mode\n",
      "constraint fixed nameplate max production mode\n",
      "constraint production mode binary\n",
      "constraint production rate1\n",
      "constraint production rate2\n",
      "constraint production mode switch\n",
      "constraint demand penalty\n",
      "constraint demand penalty location\n",
      "constraint demand penalty network\n",
      "constraint demand penalty cost\n",
      "constraint demand penalty cost location\n",
      "constraint demand penalty cost network\n",
      "objective cost w demand penalty\n",
      "constraint process capex\n",
      "constraint process fopex\n",
      "constraint process vopex\n",
      "constraint process incidental\n",
      "constraint location capex\n",
      "constraint storage cost\n",
      "constraint storage capex\n",
      "constraint storage cost location\n",
      "constraint storage cost network\n",
      "constraint production mode\n",
      "constraint inventory balance\n",
      "constraint inventory network\n",
      "constraint storage facility\n",
      "constraint production facility\n",
      "constraint min production facility\n",
      "constraint min storage facility\n",
      "constraint fixed nameplate min production mode\n",
      "constraint fixed nameplate max production mode\n",
      "constraint production mode binary\n",
      "constraint production rate1\n",
      "constraint production rate2\n",
      "constraint production mode switch\n",
      "constraint demand penalty\n",
      "constraint demand penalty location\n",
      "constraint demand penalty network\n",
      "constraint demand penalty cost\n",
      "constraint demand penalty cost location\n",
      "constraint demand penalty cost network\n",
      "objective cost w demand penalty\n"
     ]
    }
   ],
   "source": [
    "from mpisppy.opt.ef import ExtensiveForm\n",
    "\n",
    "options = {\"solver\": \"gurobi\"}\n",
    "# all_scenario_names = [\"good\", \"average\", \"bad\"]\n",
    "ef_UI = ExtensiveForm(options, all_scenario_names, scenario_creator, model_name='model_UI')\n",
    "results = ef_UI.solve_extensive_form()"
   ],
   "metadata": {
    "collapsed": false,
    "ExecuteTime": {
     "end_time": "2024-07-22T15:15:31.877958Z",
     "start_time": "2024-07-22T15:15:23.843945Z"
    }
   },
   "id": "a2f11fb6c4aee764",
   "execution_count": 25
  },
  {
   "cell_type": "code",
   "outputs": [
    {
     "name": "stdout",
     "output_type": "stream",
     "text": [
      "Expected cost under uncertainty: 89133.500\n"
     ]
    }
   ],
   "source": [
    "exCost_UI = ef_UI.get_objective_value()\n",
    "print(f\"Expected cost under uncertainty: {exCost_UI:.3f}\")"
   ],
   "metadata": {
    "collapsed": false,
    "ExecuteTime": {
     "end_time": "2024-07-22T15:15:31.893515Z",
     "start_time": "2024-07-22T15:15:31.878952Z"
    }
   },
   "id": "a1104ef40f9ba8f8",
   "execution_count": 26
  },
  {
   "cell_type": "code",
   "outputs": [
    {
     "data": {
      "text/plain": "308.44250000000466"
     },
     "execution_count": 27,
     "metadata": {},
     "output_type": "execute_result"
    }
   ],
   "source": [
    "EVPI = exCost_UI - exCost_PI\n",
    "EVPI"
   ],
   "metadata": {
    "collapsed": false,
    "ExecuteTime": {
     "end_time": "2024-07-22T15:15:31.908658Z",
     "start_time": "2024-07-22T15:15:31.894567Z"
    }
   },
   "id": "3288f44b03fba042",
   "execution_count": 27
  },
  {
   "cell_type": "markdown",
   "source": [
    "# Value of Stochastic Solution"
   ],
   "metadata": {
    "collapsed": false
   },
   "id": "a1004d18a4da1164"
  },
  {
   "cell_type": "code",
   "outputs": [
    {
     "name": "stdout",
     "output_type": "stream",
     "text": [
      "constraint process capex\n",
      "constraint process fopex\n",
      "constraint process vopex\n",
      "constraint process incidental\n",
      "constraint location capex\n",
      "constraint storage cost\n",
      "constraint storage capex\n",
      "constraint storage cost location\n",
      "constraint storage cost network\n",
      "constraint production mode\n",
      "constraint inventory balance\n",
      "constraint inventory network\n",
      "constraint storage facility\n",
      "constraint production facility\n",
      "constraint min production facility\n",
      "constraint min storage facility\n",
      "constraint fixed nameplate min production mode\n",
      "constraint fixed nameplate max production mode\n",
      "constraint production mode binary\n",
      "constraint production rate1\n",
      "constraint production rate2\n",
      "constraint production mode switch\n",
      "constraint demand penalty\n",
      "constraint demand penalty location\n",
      "constraint demand penalty network\n",
      "constraint demand penalty cost\n",
      "constraint demand penalty cost location\n",
      "constraint demand penalty cost network\n",
      "objective cost w demand penalty\n"
     ]
    },
    {
     "data": {
      "text/plain": "{'Problem': [{'Name': 'x1', 'Lower bound': 97779.8, 'Upper bound': 97781.875, 'Number of objectives': 1, 'Number of constraints': 26189, 'Number of variables': 25239, 'Number of binary variables': 12754, 'Number of integer variables': 12754, 'Number of continuous variables': 12485, 'Number of nonzeros': 99082, 'Sense': 'minimize'}], 'Solver': [{'Status': 'ok', 'Return code': '0', 'Message': 'Model was solved to optimality (subject to tolerances), and an optimal solution is available.', 'Termination condition': 'optimal', 'Termination message': 'Model was solved to optimality (subject to tolerances), and an optimal solution is available.', 'Wall time': '0.42100000381469727', 'Error rc': 0, 'Time': 0.7862668037414551}], 'Solution': [OrderedDict([('number of solutions', 0), ('number of solutions displayed', 0)])]}"
     },
     "execution_count": 28,
     "metadata": {},
     "output_type": "execute_result"
    }
   ],
   "source": [
    "n_avg = int(sum(ns_dict[i] for i in ns_dict.keys())/3)\n",
    "cap_factor_avg = pandas.DataFrame(data={'com1_procure': [1]*n_avg + [0]*(_exec_scenarios-n_avg)})\n",
    "scen_avg, model_avg = build_model(cap_factor=cap_factor_avg)\n",
    "\n",
    "solver_avg = SolverFactory(\"gurobi\")\n",
    "solver_avg.solve(model_avg)"
   ],
   "metadata": {
    "collapsed": false,
    "ExecuteTime": {
     "end_time": "2024-07-22T15:15:34.403523Z",
     "start_time": "2024-07-22T15:15:31.909696Z"
    }
   },
   "id": "eb4a5d4cc7271195",
   "execution_count": 28
  },
  {
   "cell_type": "code",
   "outputs": [],
   "source": [
    "def fix_variables(model1: ConcreteModel, model2:ConcreteModel):\n",
    "    \n",
    "    def fix(var1, var2):\n",
    "        for i in list(var1.keys()):\n",
    "            var2[i].fixed = True\n",
    "            var2[i] = value(var1[i])\n",
    "    \n",
    "    # def fix(var1, var2):\n",
    "    #     for i in var1:\n",
    "    #         if var1[i].value is not None:\n",
    "    #             var2[i].fix(value(var1[i]))\n",
    "            \n",
    "    fix(model1.X_P, model2.X_P)\n",
    "    fix(model1.Cap_P, model2.Cap_P)\n",
    "    fix(model1.X_S, model2.X_S)\n",
    "    fix(model1.Cap_S, model2.Cap_S)"
   ],
   "metadata": {
    "collapsed": false,
    "ExecuteTime": {
     "end_time": "2024-07-22T15:15:34.419678Z",
     "start_time": "2024-07-22T15:15:34.405681Z"
    }
   },
   "id": "8a58eff20a5fcf2f",
   "execution_count": 29
  },
  {
   "cell_type": "code",
   "outputs": [
    {
     "name": "stdout",
     "output_type": "stream",
     "text": [
      "constraint process capex\n",
      "constraint process fopex\n",
      "constraint process vopex\n",
      "constraint process incidental\n",
      "constraint location capex\n",
      "constraint storage cost\n",
      "constraint storage capex\n",
      "constraint storage cost location\n",
      "constraint storage cost network\n",
      "constraint production mode\n",
      "constraint inventory balance\n",
      "constraint inventory network\n",
      "constraint storage facility\n",
      "constraint production facility\n",
      "constraint min production facility\n",
      "constraint min storage facility\n",
      "constraint fixed nameplate min production mode\n",
      "constraint fixed nameplate max production mode\n",
      "constraint production mode binary\n",
      "constraint production rate1\n",
      "constraint production rate2\n",
      "constraint production mode switch\n",
      "constraint demand penalty\n",
      "constraint demand penalty location\n",
      "constraint demand penalty network\n",
      "constraint demand penalty cost\n",
      "constraint demand penalty cost location\n",
      "constraint demand penalty cost network\n",
      "objective cost w demand penalty\n",
      "constraint process capex\n",
      "constraint process fopex\n",
      "constraint process vopex\n",
      "constraint process incidental\n",
      "constraint location capex\n",
      "constraint storage cost\n",
      "constraint storage capex\n",
      "constraint storage cost location\n",
      "constraint storage cost network\n",
      "constraint production mode\n",
      "constraint inventory balance\n",
      "constraint inventory network\n",
      "constraint storage facility\n",
      "constraint production facility\n",
      "constraint min production facility\n",
      "constraint min storage facility\n",
      "constraint fixed nameplate min production mode\n",
      "constraint fixed nameplate max production mode\n",
      "constraint production mode binary\n",
      "constraint production rate1\n",
      "constraint production rate2\n",
      "constraint production mode switch\n",
      "constraint demand penalty\n",
      "constraint demand penalty location\n",
      "constraint demand penalty network\n",
      "constraint demand penalty cost\n",
      "constraint demand penalty cost location\n",
      "constraint demand penalty cost network\n",
      "objective cost w demand penalty\n",
      "constraint process capex\n",
      "constraint process fopex\n",
      "constraint process vopex\n",
      "constraint process incidental\n",
      "constraint location capex\n",
      "constraint storage cost\n",
      "constraint storage capex\n",
      "constraint storage cost location\n",
      "constraint storage cost network\n",
      "constraint production mode\n",
      "constraint inventory balance\n",
      "constraint inventory network\n",
      "constraint storage facility\n",
      "constraint production facility\n",
      "constraint min production facility\n",
      "constraint min storage facility\n",
      "constraint fixed nameplate min production mode\n",
      "constraint fixed nameplate max production mode\n",
      "constraint production mode binary\n",
      "constraint production rate1\n",
      "constraint production rate2\n",
      "constraint production mode switch\n",
      "constraint demand penalty\n",
      "constraint demand penalty location\n",
      "constraint demand penalty network\n",
      "constraint demand penalty cost\n",
      "constraint demand penalty cost location\n",
      "constraint demand penalty cost network\n",
      "objective cost w demand penalty\n"
     ]
    }
   ],
   "source": [
    "exCost_FD = 0\n",
    "\n",
    "for scenario_name in all_scenario_names:\n",
    "    cap_factor_VSS = pandas.DataFrame(data={'com1_procure': [1]*ns_dict[scenario_name] + [0]*(_exec_scenarios-ns_dict[scenario_name])})\n",
    "    scen_VSS, model_VSS = build_model(cap_factor=cap_factor_VSS)\n",
    "\n",
    "    fix_variables(model1=model_avg, model2=model_VSS)\n",
    "\n",
    "    solver = SolverFactory(\"gurobi\")\n",
    "    solver.solve(model_VSS)\n",
    "\n",
    "    # print(f\"################## OBJECTIVE VALUE: {value(model_VSS.objective_cost_w_demand_penalty)} ##################\")\n",
    "    # print(f\"################## NETWORK CAPEX: {value(model_VSS.Capex_network[0])} ##################\")\n",
    "    # print(f\"################## NETWORK VOPEX: {value(model_VSS.Vopex_network[0])} ##################\")\n",
    "    # print(f\"################## NETWORK InvHold: {value(model_VSS.Inv_cost_network[0])} ##################\")\n",
    "    # print(f\"################## UNMET DEMAND: {value(model_VSS.Demand_penalty_network['com1_sold',0])} ##################\")\n",
    "    # print(f\"################## DEMAND PENALTY COST: {value(model_VSS.Demand_penalty_cost_network['com1_sold',0])} ##################\")\n",
    "\n",
    "    exCost_FD += value(model_VSS.objective_cost_w_demand_penalty)*scenario_probabilities[scenario_name]"
   ],
   "metadata": {
    "collapsed": false,
    "ExecuteTime": {
     "end_time": "2024-07-22T15:15:41.443396Z",
     "start_time": "2024-07-22T15:15:34.421792Z"
    }
   },
   "id": "6abb12db1ec380d",
   "execution_count": 30
  },
  {
   "cell_type": "code",
   "outputs": [
    {
     "data": {
      "text/plain": "89317.149"
     },
     "execution_count": 31,
     "metadata": {},
     "output_type": "execute_result"
    }
   ],
   "source": [
    "exCost_FD"
   ],
   "metadata": {
    "collapsed": false,
    "ExecuteTime": {
     "end_time": "2024-07-22T15:15:41.458988Z",
     "start_time": "2024-07-22T15:15:41.444543Z"
    }
   },
   "id": "f8b39fccdaa4ee28",
   "execution_count": 31
  },
  {
   "cell_type": "markdown",
   "source": [
    "# Results Summary"
   ],
   "metadata": {
    "collapsed": false
   },
   "id": "cc89a79339f3ee76"
  },
  {
   "cell_type": "code",
   "outputs": [
    {
     "data": {
      "text/plain": "88825.0575"
     },
     "execution_count": 32,
     "metadata": {},
     "output_type": "execute_result"
    }
   ],
   "source": [
    "exCost_PI"
   ],
   "metadata": {
    "collapsed": false,
    "ExecuteTime": {
     "end_time": "2024-07-22T15:15:41.474185Z",
     "start_time": "2024-07-22T15:15:41.459576Z"
    }
   },
   "id": "340c6da67cf4c21e",
   "execution_count": 32
  },
  {
   "cell_type": "code",
   "outputs": [
    {
     "data": {
      "text/plain": "89133.5"
     },
     "execution_count": 33,
     "metadata": {},
     "output_type": "execute_result"
    }
   ],
   "source": [
    "exCost_UI"
   ],
   "metadata": {
    "collapsed": false,
    "ExecuteTime": {
     "end_time": "2024-07-22T15:15:41.490091Z",
     "start_time": "2024-07-22T15:15:41.475224Z"
    }
   },
   "id": "a990790d14451e73",
   "execution_count": 33
  },
  {
   "cell_type": "code",
   "outputs": [
    {
     "data": {
      "text/plain": "89317.149"
     },
     "execution_count": 34,
     "metadata": {},
     "output_type": "execute_result"
    }
   ],
   "source": [
    "exCost_FD"
   ],
   "metadata": {
    "collapsed": false,
    "ExecuteTime": {
     "end_time": "2024-07-22T15:15:41.505833Z",
     "start_time": "2024-07-22T15:15:41.491307Z"
    }
   },
   "id": "2fb594c4e99583fd",
   "execution_count": 34
  },
  {
   "cell_type": "code",
   "outputs": [
    {
     "data": {
      "text/plain": "308.44250000000466"
     },
     "execution_count": 35,
     "metadata": {},
     "output_type": "execute_result"
    }
   ],
   "source": [
    "EVPI"
   ],
   "metadata": {
    "collapsed": false,
    "ExecuteTime": {
     "end_time": "2024-07-22T15:15:41.521110Z",
     "start_time": "2024-07-22T15:15:41.506870Z"
    }
   },
   "id": "5d60812b7981c425",
   "execution_count": 35
  },
  {
   "cell_type": "code",
   "outputs": [
    {
     "data": {
      "text/plain": "183.6490000000049"
     },
     "execution_count": 36,
     "metadata": {},
     "output_type": "execute_result"
    }
   ],
   "source": [
    "VSS = exCost_FD - exCost_UI\n",
    "VSS"
   ],
   "metadata": {
    "collapsed": false,
    "ExecuteTime": {
     "end_time": "2024-07-22T15:15:41.536680Z",
     "start_time": "2024-07-22T15:15:41.522112Z"
    }
   },
   "id": "a606e5f208a2c121",
   "execution_count": 36
  },
  {
   "cell_type": "code",
   "outputs": [],
   "source": [],
   "metadata": {
    "collapsed": false,
    "ExecuteTime": {
     "end_time": "2024-07-22T15:15:41.552394Z",
     "start_time": "2024-07-22T15:15:41.537787Z"
    }
   },
   "id": "8d52443afb2ac1d3",
   "execution_count": 36
  }
 ],
 "metadata": {
  "kernelspec": {
   "display_name": "Python 3",
   "language": "python",
   "name": "python3"
  },
  "language_info": {
   "codemirror_mode": {
    "name": "ipython",
    "version": 2
   },
   "file_extension": ".py",
   "mimetype": "text/x-python",
   "name": "python",
   "nbconvert_exporter": "python",
   "pygments_lexer": "ipython2",
   "version": "2.7.6"
  }
 },
 "nbformat": 4,
 "nbformat_minor": 5
}
