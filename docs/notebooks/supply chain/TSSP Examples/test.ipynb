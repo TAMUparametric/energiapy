{
 "cells": [
  {
   "cell_type": "code",
   "execution_count": null,
   "id": "initial_id",
   "metadata": {
    "collapsed": true
   },
   "outputs": [],
   "source": [
    "from pyomo.environ import *\n",
    "# import mpisppy.utils.sputils as sputils\n",
    "import matplotlib.pyplot as plt\n",
    "from matplotlib import rc\n",
    "import sys\n",
    "sys.path.append('../../../../src')\n",
    "import pandas\n",
    "import random\n",
    "import math\n",
    "from energiapy.components.temporal_scale import TemporalScale\n",
    "from energiapy.components.resource import Resource, VaryingResource\n",
    "from energiapy.components.process import Process, ProcessMode, VaryingProcess\n",
    "from energiapy.components.location import Location\n",
    "from energiapy.components.transport import Transport\n",
    "from energiapy.components.network import Network\n",
    "from energiapy.components.scenario import Scenario\n",
    "# from energiapy.model.constraints.demand import constraint_demand2\n",
    "from energiapy.components.result import Result\n",
    "from energiapy.model.formulate import formulate, Constraints, Objective\n",
    "from energiapy.plot import plot_results, plot_scenario, plot_location\n",
    "from energiapy.model.solve import solve\n",
    "from pyomo.environ import Param\n",
    "from energiapy.utils.scale_utils import scale_pyomo_set\n",
    "from energiapy.utils.scale_utils import scale_list, scale_tuple"
   ]
  },
  {
   "cell_type": "code",
   "outputs": [],
   "source": [
    "_time_intervals = 7  # Number of time intervals in a planning horizon    (L_chi)\n",
    "_coms = 1\n",
    "_exec_scenarios = 48  # Number of execution scenarios                     (chi)\n",
    "\n",
    "daily_demand = 100\n",
    "demand_penalty = 15\n",
    "\n",
    "M = 1e3  # Big M "
   ],
   "metadata": {
    "collapsed": false
   },
   "id": "6861422d3fc6cb88",
   "execution_count": null
  },
  {
   "cell_type": "code",
   "outputs": [],
   "source": [
    "def build_model(cap_factor):\n",
    "    \n",
    "    # Define temporal scales\n",
    "    scales = TemporalScale(discretization_list=[1, _exec_scenarios, _time_intervals])\n",
    "    \n",
    "    # ======================================================================================================================\n",
    "    # Declare resources/commodities\n",
    "    # ======================================================================================================================\n",
    "    com1_pur = Resource(name='com1_pur', cons_max=125, block={'imp': 1, 'urg': 1}, price=0.00, label='Commodity 1 consumed from outside the system')\n",
    "    \n",
    "    com1_in = Resource(name='com1_in', label='Commodity 1 received')\n",
    "    com1_out = Resource(name='com1_out', label='Commodity 1 to be sent out')\n",
    "    \n",
    "    com1_loc1_out = Resource(name='com1_loc1_out', label='Commodity 1 sent out from location 1')\n",
    "    # com1_loc2_out = Resource(name='com1_loc2_out', label='Commodity 1 sent out from location 2')\n",
    "    \n",
    "    com1_sold = Resource(name='com1_sold', revenue=0.00, demand=True, sell=True, label='Commodity 1 sold to outside the system')\n",
    "    \n",
    "    # prod_max = {0:30, 1: 60, 2: 90, 3: 120, 4: 150}\n",
    "    # prod_min = {0:0, 1: 30, 2: 60, 3: 90, 4: 120}\n",
    "    # rate_max = {0:1.25/2, 1: 1/2, 2: 0.75/2, 3: 0.5/2, 4: 0.25/2}\n",
    "    # mode_ramp = {(0,1): 5, (1,2): 5}\n",
    "    \n",
    "    # ======================================================================================================================\n",
    "    # Declare processes/storage capacities\n",
    "    # ======================================================================================================================\n",
    "    com1_process_capacity = 125\n",
    "    \n",
    "    com1_procure = Process(name='procure com1', prod_max=com1_process_capacity, conversion={com1_pur: -1, com1_in: 1}, capex=0.1, vopex=0.01, prod_min=0.01, label='Procure com1', varying=[VaryingProcess.DETERMINISTIC_CAPACITY])\n",
    "    com1_sell = Process(name='sell com1', prod_max=com1_process_capacity, conversion={com1_out: -1, com1_sold: 1}, capex=0.1, vopex=0.01, prod_min=0.01, label='Sell com1')\n",
    "    com1_opt_procure = Process(name='procure optional com1', prod_max=75, conversion={com1_pur: -1, com1_in:1}, capex=10, vopex=0.01, prod_min=0.01, label='Procure optional com1')\n",
    "    \n",
    "    com1_receive_loc1 = Process(name='com1_receive_loc1', prod_max=com1_process_capacity, conversion={com1_loc1_out:-1, com1_in:1}, capex=0.1, vopex=0.01, prod_min=0.01, label='Commodity 1 received from location 1')\n",
    "    # com1_receive_loc2 = Process(name='com1_receive_loc2', prod_max=com1_process_capacity, conversion={com1_loc2_out:-1, com1_in:1}, capex=0.01, vopex=0.01, prod_min=com1_process_capacity, label='Commodity 1 received from location 2')\n",
    "    \n",
    "    # com1_process = Process(name='com1_process', prod_max=com1_process_capacity, conversion={com1_in: -1, com1_out: 1},  capex=0.01, vopex=0.01, prod_min=com1_process_capacity, label='Process the commodity through the location')\n",
    "    # com1_process = Process(name='com1_process', prod_max=com1_process_capacity, conversion={0:{com1_in: -1, com1_out: 1}, 1:{com1_in: -1, com1_out: 1}, 2:{com1_in: -1, com1_out: 1}, 3:{com1_in: -1, com1_out: 1}, 4:{com1_in: -1, com1_out: 1}},  capex=0.01, vopex=0.01, prod_min=0.01, label='Process the commodity through the location')\n",
    "    # \n",
    "    com1_process = Process(name='com1_process', prod_max=com1_process_capacity, conversion={com1_in: -1, com1_out: 1},  capex=0.1, vopex=0.01, prod_min=0.01, label='Process the commodity through the location')\n",
    "    \n",
    "    com1_store10 = Process(name='com1_store10', prod_max=com1_process_capacity, capex=0.1, vopex=0.01, storage_capex=10, store_min=0.01, store_max= 40, prod_min=0.01, label=\"Storage capacity of 10 units\", storage=com1_in, storage_cost=0.02)\n",
    "    com1_store20 = Process(name='com1_store20', prod_max=com1_process_capacity, capex=0.1, vopex=0.02, storage_capex=20, store_min=0.01, store_max= 80, prod_min=0.01, label=\"Storage capacity of 20 units\", storage=com1_in, storage_cost=0.02)\n",
    "    com1_store50 = Process(name='com1_store50', prod_max=com1_process_capacity, capex=0.1, vopex=0.05, storage_capex=50, store_min=0.01, store_max= 200, prod_min=0.01, label=\"Storage capacity of 50 units\", storage=com1_in, storage_cost=0.02)\n",
    "    \n",
    "    \n",
    "    com1_loc1_send = Process(name='com1_loc1_send', prod_max=com1_process_capacity, conversion={com1_out:-1, com1_loc1_out:1}, capex=0.1, vopex=0.01, prod_min=0.01, label='Send commodity one from location 1')\n",
    "    # com1_loc2_send = Process(name='com1_loc2_send', prod_max=com1_process_capacity, conversion={com1_out:-1, com1_loc2_out:1}, capex=0.01, vopex=0.01, prod_min=com1_process_capacity, label='Send commodity one from location 2')\n",
    "    \n",
    "    \n",
    "    \n",
    "    # ======================================================================================================================\n",
    "    # Declare locations/warehouses\n",
    "    # ======================================================================================================================\n",
    "    loc1 = Location(name='loc1', processes={com1_procure, com1_process, com1_store10, com1_store20, com1_store50, com1_loc1_send, com1_sell, com1_opt_procure}, label=\"Location 1\", scales=scales, demand_scale_level=2, capacity_scale_level=1, availability_scale_level=1, capacity_factor={com1_procure: cap_factor[['com1_procure']]})\n",
    "    \n",
    "   \n",
    "    locset = [loc1]\n",
    "\n",
    "\n",
    "    # ======================================================================================================================\n",
    "    # Declare scenario\n",
    "    # ======================================================================================================================\n",
    "    \n",
    "    daily_demand = 100\n",
    "    demand_penalty = 15\n",
    "    \n",
    "    demand_dict = {i: {com1_sold: daily_demand} if i == loc1 else {com1_sold: 0} for i in locset}\n",
    "    demand_penalty_dict = {i: {com1_sold: demand_penalty} if i == loc1 else {com1_sold: 0} for i in locset}\n",
    "    \n",
    "    scenario = Scenario(name='scenario_baseline', network= loc1, scales=scales, scheduling_scale_level=2, network_scale_level=0, purchase_scale_level=2, availability_scale_level=1, demand_scale_level=2, capacity_scale_level=1, demand=demand_dict, demand_penalty=demand_penalty_dict, label='Scenario with perfect information')\n",
    "    \n",
    "    # ======================================================================================================================\n",
    "    # Declare problem\n",
    "    # ======================================================================================================================\n",
    "    \n",
    "    problem_mincost = formulate(scenario=scenario,\n",
    "                            constraints={Constraints.COST, Constraints.RESOURCE_BALANCE, Constraints.INVENTORY, Constraints.PRODUCTION, Constraints.DEMAND, Constraints.NETWORK},\n",
    "                            demand_sign='eq', objective=Objective.COST_W_DEMAND_PENALTY)\n",
    "    \n",
    "    \n",
    "    scale_iter = scale_tuple(instance=problem_mincost, scale_levels=scenario.network_scale_level+1)\n",
    "    capex_process= sum(problem_mincost.Capex_network[scale_] for scale_ in scale_iter)\n",
    "    \n",
    "    problem_mincost.first_stage_cost  = capex_process\n",
    "    \n",
    "    return scenario, problem_mincost"
   ],
   "metadata": {
    "collapsed": false
   },
   "id": "9e1c716b58731493",
   "execution_count": null
  },
  {
   "cell_type": "code",
   "outputs": [],
   "source": [
    "def fix_variables(model):\n",
    "    model.X_P['loc1','com1_loc1_send',0].fixed = True\n",
    "    model.X_P['loc1','com1_loc1_send',0] = 0\n",
    "    \n",
    "    model.X_P['loc1','com1_process',0].fixed = True\n",
    "    model.X_P['loc1','com1_process',0] = 1\n",
    "    \n",
    "    model.X_P['loc1','com1_store10',0].fixed = True\n",
    "    model.X_P['loc1','com1_store10',0] = 1\n",
    "    \n",
    "    model.X_P['loc1','com1_store10_discharge',0].fixed = True\n",
    "    model.X_P['loc1','com1_store10_discharge',0] = 1\n",
    "    \n",
    "    model.X_P['loc1','com1_store20',0].fixed = True\n",
    "    model.X_P['loc1','com1_store20',0] = 1\n",
    "    \n",
    "    model.X_P['loc1','com1_store20_discharge',0].fixed = True\n",
    "    model.X_P['loc1','com1_store20_discharge',0] = 1\n",
    "    \n",
    "    model.X_P['loc1','com1_store50',0].fixed = True\n",
    "    model.X_P['loc1','com1_store50',0] = 0\n",
    "    \n",
    "    model.X_P['loc1','com1_store50_discharge',0].fixed = True\n",
    "    model.X_P['loc1','com1_store50_discharge',0] = 0\n",
    "    \n",
    "    model.X_P['loc1','procure com1',0].fixed = True\n",
    "    model.X_P['loc1','procure com1',0] = 1\n",
    "    \n",
    "    model.X_P['loc1','procure optional com1',0].fixed = True\n",
    "    model.X_P['loc1','procure optional com1',0] = 1\n",
    "    \n",
    "    model.X_P['loc1','sell com1',0].fixed = True\n",
    "    model.X_P['loc1','sell com1',0] = 1\n",
    "    \n",
    "    model.Cap_P['loc1','com1_loc1_send',0].fixed = True\n",
    "    model.Cap_P['loc1','com1_loc1_send',0] = 0\n",
    "    \n",
    "    model.Cap_P['loc1','com1_process',0].fixed = True\n",
    "    model.Cap_P['loc1','com1_process',0] = 100\n",
    "    \n",
    "    model.Cap_P['loc1','com1_store10',0].fixed = True\n",
    "    model.Cap_P['loc1','com1_store10',0] = 8.0\n",
    "    \n",
    "    model.Cap_P['loc1','com1_store10_discharge',0].fixed = True\n",
    "    model.Cap_P['loc1','com1_store10_discharge',0] = 1.25\n",
    "    \n",
    "    model.Cap_P['loc1','com1_store20',0].fixed = True\n",
    "    model.Cap_P['loc1','com1_store20',0] = 17\n",
    "    \n",
    "    model.Cap_P['loc1','com1_store20_discharge',0].fixed = True\n",
    "    model.Cap_P['loc1','com1_store20_discharge',0] = 1.777777777777777777\n",
    "    \n",
    "    model.Cap_P['loc1','com1_store50',0].fixed = True\n",
    "    model.Cap_P['loc1','com1_store50',0] = 0\n",
    "    \n",
    "    model.Cap_P['loc1','com1_store50_discharge',0].fixed = True\n",
    "    model.Cap_P['loc1','com1_store50_discharge',0] = 0\n",
    "    \n",
    "    model.Cap_P['loc1','procure com1',0].fixed = True\n",
    "    model.Cap_P['loc1','procure com1',0] = 125\n",
    "    \n",
    "    model.Cap_P['loc1','procure optional com1',0].fixed = True\n",
    "    model.Cap_P['loc1','procure optional com1',0] = 75\n",
    "    \n",
    "    model.Cap_P['loc1','sell com1',0].fixed = True\n",
    "    model.Cap_P['loc1','sell com1',0] = 100\n",
    "    \n",
    "    model.X_S['loc1', 'com1_store10_com1_in_stored', 0].fixed = True\n",
    "    model.X_S['loc1', 'com1_store10_com1_in_stored', 0] = 1\n",
    "    \n",
    "    model.X_S['loc1', 'com1_store20_com1_in_stored', 0].fixed = True\n",
    "    model.X_S['loc1', 'com1_store20_com1_in_stored', 0] = 1\n",
    "    \n",
    "    model.X_S['loc1', 'com1_store50_com1_in_stored', 0].fixed = True\n",
    "    model.X_S['loc1', 'com1_store50_com1_in_stored', 0] = 0\n",
    "    \n",
    "    model.Cap_S['loc1', 'com1_store10_com1_in_stored', 0].fixed = True\n",
    "    model.Cap_S['loc1', 'com1_store10_com1_in_stored', 0] = 40\n",
    "    \n",
    "    model.Cap_S['loc1', 'com1_store20_com1_in_stored', 0].fixed = True\n",
    "    model.Cap_S['loc1', 'com1_store20_com1_in_stored', 0] = 80\n",
    "    \n",
    "    model.Cap_S['loc1', 'com1_store50_com1_in_stored', 0].fixed = True\n",
    "    model.Cap_S['loc1', 'com1_store50_com1_in_stored', 0] = 0.0"
   ],
   "metadata": {
    "collapsed": false
   },
   "id": "7cb898cf5d28a88d",
   "execution_count": null
  },
  {
   "cell_type": "code",
   "outputs": [],
   "source": [
    "n_avg = 24\n",
    "cap_factor_avg = pandas.DataFrame(data={'com1_procure': [1]*n_avg + [0]*(_exec_scenarios-n_avg)})\n",
    "scen_avg, model_avg = build_model(cap_factor=cap_factor_avg)\n",
    "fix_variables(model=model_avg)\n",
    "results_avg = solve(scenario=scen_avg, instance=model_avg, solver='gurobi', name='results_avg')"
   ],
   "metadata": {
    "collapsed": false
   },
   "id": "4cf6216001a8681f",
   "execution_count": null
  },
  {
   "cell_type": "code",
   "outputs": [],
   "source": [
    "model_avg.Cap_S.pprint()"
   ],
   "metadata": {
    "collapsed": false
   },
   "id": "9f844ff2e86c1581",
   "execution_count": null
  },
  {
   "cell_type": "code",
   "outputs": [],
   "source": [
    "scen_avg.storage_capex_dict"
   ],
   "metadata": {
    "collapsed": false
   },
   "id": "f07188a72a6d3d40",
   "execution_count": null
  },
  {
   "cell_type": "code",
   "outputs": [],
   "source": [
    "model_avg.constraint_storage_capex.pprint()"
   ],
   "metadata": {
    "collapsed": false
   },
   "id": "df6d738427280c93",
   "execution_count": null
  },
  {
   "cell_type": "code",
   "outputs": [],
   "source": [
    "model_avg.Capex_network.pprint()"
   ],
   "metadata": {
    "collapsed": false
   },
   "id": "baa77ee1c7f488e1",
   "execution_count": null
  },
  {
   "cell_type": "code",
   "outputs": [],
   "source": [
    "# demand_penalty*sum(value for key, value in results_avg.output['Demand_penalty'].items())\n",
    "# model_avg.Capex_network[0].value + model_avg.Vopex_network[0].value +  model_avg.Inv_cost_network[0].value"
   ],
   "metadata": {
    "collapsed": false
   },
   "id": "4a1d0423d73a5e56",
   "execution_count": null
  },
  {
   "cell_type": "code",
   "outputs": [],
   "source": [
    "n_good = 48\n",
    "cap_factor_good = pandas.DataFrame(data={'com1_procure': [1]*n_good + [0]*(_exec_scenarios-n_good)})\n",
    "scen_good, model_good = build_model(cap_factor=cap_factor_good)\n",
    "fix_variables(model=model_good)\n",
    "results_good = solve(scenario=scen_good, instance=model_good, solver='gurobi', name='results_good')"
   ],
   "metadata": {
    "collapsed": false
   },
   "id": "47e03b8ec2c06be7",
   "execution_count": null
  },
  {
   "cell_type": "code",
   "outputs": [],
   "source": [
    "model_good.Capex_network.pprint()"
   ],
   "metadata": {
    "collapsed": false
   },
   "id": "879baf89f9d6f622",
   "execution_count": null
  },
  {
   "cell_type": "code",
   "outputs": [],
   "source": [
    "# n_bad = 12\n",
    "# cap_factor_bad = pandas.DataFrame(data={'com1_procure': [1]*n_bad + [0]*(_exec_scenarios-n_bad)})\n",
    "# scen_bad, model_bad = build_model(cap_factor=cap_factor_bad)\n",
    "# fix_variables(model=model_bad)\n",
    "# results_bad = solve(scenario=scen_bad, instance=model_bad, solver='gurobi', name='results_bad')"
   ],
   "metadata": {
    "collapsed": false
   },
   "id": "d84b084d294c4b8e",
   "execution_count": null
  },
  {
   "cell_type": "code",
   "outputs": [],
   "source": [
    "# (results_avg.output['objective'] + results_good.output['objective'] + results_bad.output['objective'])/3"
   ],
   "metadata": {
    "collapsed": false
   },
   "id": "926f5fb7b61aa80",
   "execution_count": null
  },
  {
   "cell_type": "code",
   "outputs": [],
   "source": [
    "# model_bad.Demand_penalty_network.pprint()"
   ],
   "metadata": {
    "collapsed": false
   },
   "id": "ee84802a2ed3b836",
   "execution_count": null
  },
  {
   "cell_type": "code",
   "outputs": [],
   "source": [
    "# scen_bad.demand_penalty"
   ],
   "metadata": {
    "collapsed": false
   },
   "id": "64151d2afafe0273",
   "execution_count": null
  },
  {
   "cell_type": "code",
   "outputs": [],
   "source": [
    "# scen_bad.capex_dict"
   ],
   "metadata": {
    "collapsed": false
   },
   "id": "e050076c4b75fa8b",
   "execution_count": null
  },
  {
   "cell_type": "code",
   "outputs": [],
   "source": [
    "# model_bad.scales_network.pprint()"
   ],
   "metadata": {
    "collapsed": false
   },
   "id": "a7c420ad64f968e1",
   "execution_count": null
  },
  {
   "cell_type": "code",
   "outputs": [],
   "source": [
    "# scale_list(instance=model_bad, scale_levels=scen_bad.network_scale_level+1)"
   ],
   "metadata": {
    "collapsed": false
   },
   "id": "2d3617d89d8b0847",
   "execution_count": null
  },
  {
   "cell_type": "code",
   "outputs": [],
   "source": [
    "# scale_tuple(instance=model_bad, scale_levels=len(model_bad.scales))"
   ],
   "metadata": {
    "collapsed": false
   },
   "id": "d452f533e0ba0a57",
   "execution_count": null
  },
  {
   "cell_type": "code",
   "outputs": [],
   "source": [],
   "metadata": {
    "collapsed": false
   },
   "id": "e68dd544f71eee4b"
  }
 ],
 "metadata": {
  "kernelspec": {
   "display_name": "Python 3",
   "language": "python",
   "name": "python3"
  },
  "language_info": {
   "codemirror_mode": {
    "name": "ipython",
    "version": 2
   },
   "file_extension": ".py",
   "mimetype": "text/x-python",
   "name": "python",
   "nbconvert_exporter": "python",
   "pygments_lexer": "ipython2",
   "version": "2.7.6"
  }
 },
 "nbformat": 4,
 "nbformat_minor": 5
}
