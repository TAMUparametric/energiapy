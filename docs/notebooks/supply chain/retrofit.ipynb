{
 "cells": [
  {
   "cell_type": "markdown",
   "metadata": {},
   "source": [
    "This is a recreation of Example 1 of this paper: https://www.sciencedirect.com/science/article/pii/0098135488800103"
   ]
  },
  {
   "cell_type": "code",
   "execution_count": 8,
   "metadata": {
    "ExecuteTime": {
     "end_time": "2025-05-20T18:16:42.994785Z",
     "start_time": "2025-05-20T18:16:42.979654Z"
    }
   },
   "outputs": [],
   "source": [
    "from sys import executable\n",
    "from pyomo.environ import *\n",
    "from pyomo.core import *\n",
    "import numpy as np\n",
    "import matplotlib.pyplot as plt\n"
   ]
  },
  {
   "cell_type": "code",
   "execution_count": 9,
   "metadata": {
    "ExecuteTime": {
     "end_time": "2025-05-20T18:16:43.025561Z",
     "start_time": "2025-05-20T18:16:43.010899Z"
    }
   },
   "outputs": [],
   "source": [
    "d1 = 2.22\n",
    "d2 = 0.733\n",
    "theta_nom = 2\n",
    "theta_plus = 2\n",
    "theta_minus = 2\n",
    "bigM = 10**6\n",
    "n = 1 # number of control variables"
   ]
  },
  {
   "cell_type": "code",
   "execution_count": 10,
   "metadata": {
    "ExecuteTime": {
     "end_time": "2025-05-20T18:16:43.041306Z",
     "start_time": "2025-05-20T18:16:43.026611Z"
    }
   },
   "outputs": [],
   "source": [
    "m = ConcreteModel()\n",
    "\n",
    "J = range(3) # number of constraints\n",
    "m.J = Set(initialize = J)\n",
    "\n",
    "I = range(2) # number of design variables\n",
    "m.I = Set(initialize = I)\n",
    "\n",
    "# design variables -- fix in the first steps and then unfix later\n",
    "m.d = Var(m.I, doc = 'the design variables')\n",
    "m.d[0].fix(d1)\n",
    "m.d[1].fix(d2)\n",
    "\n",
    "# control variables\n",
    "m.z = Var(doc = 'the control variables')\n",
    "\n",
    "m.theta = Var(doc = 'the uncertain parameter')\n",
    "\n",
    "# flex test variables\n",
    "\n",
    "m.delta = Var(domain = Reals, doc = 'the flexibility index')\n",
    "\n",
    "m.s = Var(m.J, domain = NonNegativeReals, doc = 'slack for constraint j')\n",
    "\n",
    "m.y = Var(m.J, domain = Binary, doc = 'whether constraint j is activated')\n",
    "\n",
    "m.lambd = Var(m.J, domain = NonNegativeReals, doc = 'lagrangian for constraint j')"
   ]
  },
  {
   "cell_type": "code",
   "execution_count": 11,
   "metadata": {
    "ExecuteTime": {
     "end_time": "2025-05-20T18:16:43.266377Z",
     "start_time": "2025-05-20T18:16:43.042379Z"
    }
   },
   "outputs": [
    {
     "name": "stdout",
     "output_type": "stream",
     "text": [
      "Set parameter TokenServer to value \"coe-vtls1.engr.tamu.edu\"\n",
      "Read LP format model from file C:\\Users\\SHIVAM~1.VED\\AppData\\Local\\Temp\\tmpc23pok3s.pyomo.lp\n",
      "Reading time = 0.00 seconds\n",
      "x1: 14 rows, 12 columns, 34 nonzeros\n",
      "Gurobi Optimizer version 11.0.0 build v11.0.0rc2 (win64 - Windows 11+.0 (26100.2))\n",
      "\n",
      "CPU model: 13th Gen Intel(R) Core(TM) i7-13700, instruction set [SSE2|AVX|AVX2]\n",
      "Thread count: 16 physical cores, 24 logical processors, using up to 24 threads\n",
      "\n",
      "Optimize a model with 14 rows, 12 columns and 34 nonzeros\n",
      "Model fingerprint: 0x88278b9e\n",
      "Variable types: 9 continuous, 3 integer (3 binary)\n",
      "Coefficient statistics:\n",
      "  Matrix range     [3e-01, 1e+06]\n",
      "  Objective range  [1e+00, 1e+00]\n",
      "  Bounds range     [1e+00, 1e+00]\n",
      "  RHS range        [2e-02, 1e+06]\n",
      "Presolve removed 11 rows and 9 columns\n",
      "Presolve time: 0.00s\n",
      "Presolved: 3 rows, 3 columns, 7 nonzeros\n",
      "Variable types: 2 continuous, 1 integer (1 binary)\n",
      "Found heuristic solution: objective 0.5922500\n",
      "\n",
      "Explored 0 nodes (0 simplex iterations) in 0.00 seconds (0.00 work units)\n",
      "Thread count was 24 (of 24 available processors)\n",
      "\n",
      "Solution count 1: 0.59225 \n",
      "\n",
      "Optimal solution found (tolerance 1.00e-04)\n",
      "Best objective 5.922500000000e-01, best bound 5.922500000000e-01, gap 0.0000%\n"
     ]
    }
   ],
   "source": [
    "# Constraints\n",
    "\n",
    "def f1_rule(m):\n",
    "    return m.z - m.theta + m.d[0] - 3*m.d[1] + m.s[0] == 0\n",
    "m.f1 = Constraint(rule = f1_rule)\n",
    "\n",
    "def f2_rule(m):\n",
    "    return -m.z - m.theta/3 + m.d[1] + 1/3 + m.s[1] == 0\n",
    "m.f2 = Constraint(rule = f2_rule)\n",
    "\n",
    "def f3_rule(m):\n",
    "    return m.z + m.theta - m.d[0] - 1 + m.s[2] == 0\n",
    "m.f3 = Constraint(rule = f3_rule)\n",
    "\n",
    "rule_list = [m.f1, m.f2, m.f3] # collect list of design constraints\n",
    "\n",
    "m.sum_lambda = Constraint(rule = (sum(m.lambd[j] for j in m.J) == 1))\n",
    "m.langrangian = Constraint(rule = (m.lambd[0] - m.lambd[1] + m.lambd[2] == 0))\n",
    "\n",
    "m.y_constraint = ConstraintList()\n",
    "for j in m.J:\n",
    "    m.y_constraint.add(m.lambd[j] - m.y[j] <= 0)\n",
    "    m.y_constraint.add(m.s[j] - bigM*(1-m.y[j]) <= 0)\n",
    "\n",
    "m.active_constraints = Constraint(rule = (sum(m.y[j] for j in m.J) == n + 1))\n",
    "\n",
    "def theta_constraint_ub_rule(m):\n",
    "    return m.theta <= theta_nom + m.delta*theta_plus\n",
    "m.theta_constraint_ub = Constraint(rule = theta_constraint_ub_rule)\n",
    "\n",
    "def theta_Constraint_lb_rule(m):\n",
    "    return m.theta >= theta_nom - m.delta*theta_minus\n",
    "m.theta_constraint_lb = Constraint(rule = theta_Constraint_lb_rule)\n",
    "\n",
    "m.integer_cut_Con = ConstraintList(doc = 'integer cut rules')\n",
    "\n",
    "m.objective = Objective(expr = (m.delta), sense = minimize)\n",
    "\n",
    "opt = SolverFactory('gurobi')\n",
    "# opt = SolverFactory('gurobi', solver_io = 'python')\n",
    "result = opt.solve(m, tee=True)"
   ]
  },
  {
   "cell_type": "code",
   "execution_count": 12,
   "metadata": {
    "ExecuteTime": {
     "end_time": "2025-05-20T18:16:43.343169Z",
     "start_time": "2025-05-20T18:16:43.267428Z"
    }
   },
   "outputs": [
    {
     "name": "stdout",
     "output_type": "stream",
     "text": [
      "Set parameter QCPDual to value 1\n",
      "Gurobi Optimizer version 11.0.1 build v11.0.1rc0 (win64 - Windows 11+.0 (26100.2))\n",
      "\n",
      "CPU model: 13th Gen Intel(R) Core(TM) i7-13700, instruction set [SSE2|AVX|AVX2]\n",
      "Thread count: 16 physical cores, 24 logical processors, using up to 24 threads\n",
      "\n",
      "Optimize a model with 4 rows, 14 columns and 8 nonzeros\n",
      "Model fingerprint: 0x89fa1c9d\n",
      "Coefficient statistics:\n",
      "  Matrix range     [3e-01, 2e+00]\n",
      "  Objective range  [1e+00, 1e+00]\n",
      "  Bounds range     [5e-01, 2e+00]\n",
      "  RHS range        [2e-02, 2e+00]\n",
      "Presolve removed 4 rows and 14 columns\n",
      "Presolve time: 0.00s\n",
      "Presolve: All rows and columns removed\n",
      "Iteration    Objective       Primal Inf.    Dual Inf.      Time\n",
      "       0    5.9225000e-01   0.000000e+00   0.000000e+00      0s\n",
      "\n",
      "Solved in 0 iterations and 0.00 seconds (0.00 work units)\n",
      "Optimal objective  5.922500000e-01\n"
     ]
    }
   ],
   "source": [
    "# fetch the first set of duals\n",
    "\n",
    "# redefine the binary as reals to make this LP\n",
    "m.y.domain = NonNegativeReals\n",
    "\n",
    "# LP relaxation, deactivate non-relevant constraints\n",
    "for j in J:\n",
    "    m.s[j].fix(0)\n",
    "    m.y[j].fix(m.y[j].value)\n",
    "    m.lambd[j].fix(m.lambd[j].value)\n",
    "    if m.y[j].value == 0:\n",
    "        rule_list[j].deactivate()\n",
    "\n",
    "m.sum_lambda.deactivate()\n",
    "m.langrangian.deactivate()\n",
    "m.active_constraints.deactivate()\n",
    "m.y_constraint.deactivate()\n",
    "m.integer_cut_Con.deactivate()\n",
    "\n",
    "m.dual = Suffix(direction = Suffix.IMPORT)\n",
    "\n",
    "lp_opt = SolverFactory('gurobi', solver_io = 'python')\n",
    "result = lp_opt.solve(m, tee=True)"
   ]
  },
  {
   "cell_type": "code",
   "outputs": [
    {
     "name": "stdout",
     "output_type": "stream",
     "text": [
      "2 Set Declarations\n",
      "    I : Size=1, Index=None, Ordered=Insertion\n",
      "        Key  : Dimen : Domain : Size : Members\n",
      "        None :     1 :    Any :    2 : {0, 1}\n",
      "    J : Size=1, Index=None, Ordered=Insertion\n",
      "        Key  : Dimen : Domain : Size : Members\n",
      "        None :     1 :    Any :    3 : {0, 1, 2}\n",
      "\n",
      "7 Var Declarations\n",
      "    d : the design variables\n",
      "        Size=2, Index=I\n",
      "        Key : Lower : Value : Upper : Fixed : Stale : Domain\n",
      "          0 :  None :  2.22 :  None :  True :  True :  Reals\n",
      "          1 :  None : 0.733 :  None :  True :  True :  Reals\n",
      "    delta : the flexibility index\n",
      "        Size=1, Index=None\n",
      "        Key  : Lower : Value              : Upper : Fixed : Stale : Domain\n",
      "        None :  None : 0.5922499999999998 :  None : False : False :  Reals\n",
      "    lambd : lagrangian for constraint j\n",
      "        Size=3, Index=J\n",
      "        Key : Lower : Value : Upper : Fixed : Stale : Domain\n",
      "          0 :     0 :   0.5 :  None :  True :  True : NonNegativeReals\n",
      "          1 :     0 :   0.5 :  None :  True :  True : NonNegativeReals\n",
      "          2 :     0 :   0.0 :  None :  True :  True : NonNegativeReals\n",
      "    s : slack for constraint j\n",
      "        Size=3, Index=J\n",
      "        Key : Lower : Value : Upper : Fixed : Stale : Domain\n",
      "          0 :     0 :     0 :  None :  True :  True : NonNegativeReals\n",
      "          1 :     0 :     0 :  None :  True :  True : NonNegativeReals\n",
      "          2 :     0 :     0 :  None :  True :  True : NonNegativeReals\n",
      "    theta : the uncertain parameter\n",
      "        Size=1, Index=None\n",
      "        Key  : Lower : Value              : Upper : Fixed : Stale : Domain\n",
      "        None :  None : 0.8155000000000003 :  None : False : False :  Reals\n",
      "    y : whether constraint j is activated\n",
      "        Size=3, Index=J\n",
      "        Key : Lower : Value : Upper : Fixed : Stale : Domain\n",
      "          0 :     0 :   1.0 :  None :  True :  True : NonNegativeReals\n",
      "          1 :     0 :   1.0 :  None :  True :  True : NonNegativeReals\n",
      "          2 :     0 :  -0.0 :  None :  True :  True : NonNegativeReals\n",
      "    z : the control variables\n",
      "        Size=1, Index=None\n",
      "        Key  : Lower : Value  : Upper : Fixed : Stale : Domain\n",
      "        None :  None : 0.7945 :  None : False : False :  Reals\n",
      "\n",
      "1 Objective Declarations\n",
      "    objective : Size=1, Index=None, Active=True\n",
      "        Key  : Active : Sense    : Expression\n",
      "        None :   True : minimize :      delta\n",
      "\n",
      "10 Constraint Declarations\n",
      "    active_constraints : Size=1, Index=None, Active=False\n",
      "        Key  : Lower : Body               : Upper : Active\n",
      "        None :   2.0 : y[0] + y[1] + y[2] :   2.0 :  False\n",
      "    f1 : Size=1, Index=None, Active=True\n",
      "        Key  : Lower : Body                             : Upper : Active\n",
      "        None :   0.0 : z - theta + d[0] - 3*d[1] + s[0] :   0.0 :   True\n",
      "    f2 : Size=1, Index=None, Active=True\n",
      "        Key  : Lower : Body                                                              : Upper : Active\n",
      "        None :   0.0 : - z - 0.3333333333333333*theta + d[1] + 0.3333333333333333 + s[1] :   0.0 :   True\n",
      "    f3 : Size=1, Index=None, Active=False\n",
      "        Key  : Lower : Body                        : Upper : Active\n",
      "        None :   0.0 : z + theta - d[0] - 1 + s[2] :   0.0 :  False\n",
      "    integer_cut_Con : integer cut rules\n",
      "        Size=0, Index={}, Active=False\n",
      "        Key : Lower : Body : Upper : Active\n",
      "    langrangian : Size=1, Index=None, Active=False\n",
      "        Key  : Lower : Body                           : Upper : Active\n",
      "        None :   0.0 : lambd[0] - lambd[1] + lambd[2] :   0.0 :  False\n",
      "    sum_lambda : Size=1, Index=None, Active=False\n",
      "        Key  : Lower : Body                           : Upper : Active\n",
      "        None :   1.0 : lambd[0] + lambd[1] + lambd[2] :   1.0 :  False\n",
      "    theta_constraint_lb : Size=1, Index=None, Active=True\n",
      "        Key  : Lower : Body                : Upper : Active\n",
      "        None :  -Inf : 2 - 2*delta - theta :   0.0 :   True\n",
      "    theta_constraint_ub : Size=1, Index=None, Active=True\n",
      "        Key  : Lower : Body                  : Upper : Active\n",
      "        None :  -Inf : theta - (2 + 2*delta) :   0.0 :   True\n",
      "    y_constraint : Size=6, Index={1, 2, 3, 4, 5, 6}, Active=False\n",
      "        Key : Lower : Body                      : Upper : Active\n",
      "          1 :  -Inf :           lambd[0] - y[0] :   0.0 :  False\n",
      "          2 :  -Inf : s[0] - 1000000*(1 - y[0]) :   0.0 :  False\n",
      "          3 :  -Inf :           lambd[1] - y[1] :   0.0 :  False\n",
      "          4 :  -Inf : s[1] - 1000000*(1 - y[1]) :   0.0 :  False\n",
      "          5 :  -Inf :           lambd[2] - y[2] :   0.0 :  False\n",
      "          6 :  -Inf : s[2] - 1000000*(1 - y[2]) :   0.0 :  False\n",
      "\n",
      "1 Suffix Declarations\n",
      "    dual : Direction=IMPORT, Datatype=FLOAT\n",
      "        Key                 : Value\n",
      "                         f1 : 0.375\n",
      "                         f2 : 0.375\n",
      "        theta_constraint_lb :  -0.5\n",
      "        theta_constraint_ub :   0.0\n",
      "\n",
      "21 Declarations: J I d z theta delta s y lambd f1 f2 f3 sum_lambda langrangian y_constraint active_constraints theta_constraint_ub theta_constraint_lb integer_cut_Con objective dual\n"
     ]
    }
   ],
   "source": [
    "m.pprint()"
   ],
   "metadata": {
    "collapsed": false,
    "ExecuteTime": {
     "end_time": "2025-05-20T18:16:43.358735Z",
     "start_time": "2025-05-20T18:16:43.344205Z"
    }
   },
   "execution_count": 13
  },
  {
   "cell_type": "code",
   "outputs": [
    {
     "ename": "NameError",
     "evalue": "name 'error' is not defined",
     "output_type": "error",
     "traceback": [
      "\u001B[1;31m---------------------------------------------------------------------------\u001B[0m",
      "\u001B[1;31mNameError\u001B[0m                                 Traceback (most recent call last)",
      "Cell \u001B[1;32mIn[14], line 1\u001B[0m\n\u001B[1;32m----> 1\u001B[0m \u001B[43merror\u001B[49m\n",
      "\u001B[1;31mNameError\u001B[0m: name 'error' is not defined"
     ]
    }
   ],
   "source": [
    "error"
   ],
   "metadata": {
    "collapsed": false,
    "ExecuteTime": {
     "end_time": "2025-05-20T18:16:43.389320Z",
     "start_time": "2025-05-20T18:16:43.359301Z"
    }
   },
   "execution_count": 14
  },
  {
   "cell_type": "code",
   "execution_count": null,
   "metadata": {
    "ExecuteTime": {
     "end_time": "2025-05-20T18:16:43.390452Z",
     "start_time": "2025-05-20T18:16:43.390452Z"
    }
   },
   "outputs": [],
   "source": [
    "# Set up iteration data collection\n",
    "\n",
    "i = 1\n",
    "delta = value(m.objective)\n",
    "goal = 1\n",
    "\n",
    "dual_dict = {}\n",
    "delta_dict = {}\n",
    "lambd_dict = {}\n",
    "y_dict = {}\n",
    "\n",
    "delta_dict[i] = delta\n",
    "lambd_dict[i] = list(m.lambd[j].value for j in J)\n",
    "y_dict[i] = list(m.y[j].value for j in J)\n",
    "\n",
    "keys = list(str(c) for c in m.component_objects(Constraint, active=True))\n",
    "values = list(m.dual[c[index]] for c in m.component_objects(Constraint, active=True) for index in c )\n",
    "dual_dict[i] = dict(zip(keys, values))\n"
   ]
  },
  {
   "cell_type": "code",
   "execution_count": null,
   "metadata": {
    "ExecuteTime": {
     "start_time": "2025-05-20T18:16:43.391575Z"
    }
   },
   "outputs": [],
   "source": [
    "dual_dict"
   ]
  },
  {
   "cell_type": "code",
   "execution_count": null,
   "metadata": {
    "ExecuteTime": {
     "start_time": "2025-05-20T18:16:43.392657Z"
    }
   },
   "outputs": [],
   "source": [
    "while delta < goal:\n",
    "    # reverse everything I did before\n",
    "    m.y.domain = Binary\n",
    "\n",
    "    for j in J:\n",
    "        m.s[j].unfix()\n",
    "        m.y[j].unfix()\n",
    "        m.lambd[j].unfix()\n",
    "        if m.y[j].value == 0:\n",
    "            rule_list[j].activate()\n",
    "\n",
    "    m.sum_lambda.activate()\n",
    "    m.langrangian.activate()\n",
    "    m.active_constraints.activate()\n",
    "    m.y_constraint.activate()\n",
    "    m.integer_cut_Con.activate()\n",
    "\n",
    "    m.dual.deactivate()\n",
    "\n",
    "    # add the integer cut\n",
    "    m.integer_cut_Con.add(sum(m.y[j] for j in m.J if m.y[j].value == 1) - sum(m.y[j] for j in m.J if m.y[j].value == 0) <= n)\n",
    "\n",
    "    # solve for the next active set\n",
    "    opt = SolverFactory('gurobi', solver_io = 'python')\n",
    "    result = opt.solve(m, tee=False)\n",
    "    i = i + 1\n",
    "\n",
    "    # store results\n",
    "    lambd_dict[i] = list(m.lambd[j].value for j in J)\n",
    "    y_dict[i] = list(m.y[j].value for j in J)\n",
    "    delta = value(m.objective)\n",
    "    delta_dict[i] = delta\n",
    "\n",
    "    # find the duals for this active set\n",
    "    # redefine the binary as reals to make this LP\n",
    "    m.y.domain = NonNegativeReals\n",
    "\n",
    "    # LP relaxation, deactivate non-relevant constraints\n",
    "    for j in J:\n",
    "        m.s[j].fix(0)\n",
    "        m.y[j].fix(m.y[j].value)\n",
    "        m.lambd[j].fix(m.lambd[j].value)\n",
    "        if m.y[j].value == 0:\n",
    "            rule_list[j].deactivate()\n",
    "\n",
    "    m.sum_lambda.deactivate()\n",
    "    m.langrangian.deactivate()\n",
    "    m.active_constraints.deactivate()\n",
    "    m.y_constraint.deactivate()\n",
    "    m.integer_cut_Con.deactivate()\n",
    "    m.dual.activate()\n",
    "\n",
    "    lp_opt = SolverFactory('gurobi', solver_io = 'python')\n",
    "    result = lp_opt.solve(m, tee=False)\n",
    "\n",
    "    keys = list(str(c) for c in m.component_objects(Constraint, active=True))\n",
    "    values = list(m.dual[c[index]] for c in m.component_objects(Constraint, active=True) for index in c)\n",
    "    dual_dict[i] = dict(zip(keys, values))\n",
    "\n",
    "\n",
    "# leave behind the duals for the active constraints only\n",
    "for key in dual_dict:\n",
    "    del dual_dict[key]['theta_constraint_ub']\n",
    "    del dual_dict[key]['theta_constraint_lb']\n",
    "\n",
    "# reactivate the fs, deactivate the unimportant stuff so we only have the fs\n",
    "for j in J:\n",
    "    rule_list[j].activate()\n",
    "\n",
    "m.theta_constraint_ub.deactivate()\n",
    "m.theta_constraint_lb.deactivate()\n",
    "m.z.fix(m.z.value)\n",
    "m.theta.fix(m.theta.value)\n",
    "m.delta.fix(m.delta.value)\n",
    "\n",
    "# unfix the design variables\n",
    "m.d.unfix()"
   ]
  },
  {
   "cell_type": "code",
   "execution_count": null,
   "metadata": {
    "ExecuteTime": {
     "start_time": "2025-05-20T18:16:43.392657Z"
    }
   },
   "outputs": [],
   "source": [
    "dual_dict"
   ]
  },
  {
   "cell_type": "code",
   "execution_count": null,
   "metadata": {
    "ExecuteTime": {
     "start_time": "2025-05-20T18:16:43.393708Z"
    }
   },
   "outputs": [],
   "source": [
    "# fetch A matrix off of active constraints\n",
    "\n",
    "m.write('model.lp', io_options={'symbolic_solver_labels': True})\n",
    "\n",
    "import gurobipy as GBP\n",
    "\n",
    "gurobi_model = GBP.read('model.lp')\n",
    "A = gurobi_model.getA()\n",
    "A = A.toarray()[:,1:]\n",
    "# f1 is row 0, f2 is row 1, f3 is row 2\n",
    "# d(0) is column 1, d(1) is column 2\n",
    "# A only has the active constraints"
   ]
  },
  {
   "cell_type": "code",
   "execution_count": null,
   "metadata": {
    "ExecuteTime": {
     "start_time": "2025-05-20T18:16:43.394745Z"
    }
   },
   "outputs": [],
   "source": [
    "# extract the duals in matrix form\n",
    "\n",
    "list_of_keys = ['f{}'.format(j+1) for j in J]\n",
    "\n",
    "dual_matrix = np.zeros((len(y_dict), len(J)), dtype='float')\n",
    "\n",
    "for k in range(len(y_dict)):\n",
    "    for i in range(n+1):\n",
    "        dual_key = list(dual_dict[k+1].keys())[i]\n",
    "        for j in J:\n",
    "            if dual_key == list_of_keys[j]:\n",
    "                dual_matrix[k][j] = dual_dict[k+1][dual_key]\n"
   ]
  },
  {
   "cell_type": "code",
   "execution_count": null,
   "metadata": {
    "ExecuteTime": {
     "start_time": "2025-05-20T18:16:43.394745Z"
    }
   },
   "outputs": [],
   "source": [
    "# get sensitivity coeffs\n",
    "\n",
    "sigma_matrix = np.empty((len(y_dict), len(I)), dtype='float')\n",
    "for k in range(len(y_dict)):\n",
    "    for i in I:\n",
    "        sigma_matrix[k][i] = - sum(dual_matrix[k][j] * A[j][i] for j in J)"
   ]
  },
  {
   "cell_type": "code",
   "outputs": [],
   "source": [
    "sigma_matrix"
   ],
   "metadata": {
    "collapsed": false,
    "ExecuteTime": {
     "start_time": "2025-05-20T18:16:43.395783Z"
    }
   },
   "execution_count": null
  },
  {
   "cell_type": "code",
   "execution_count": null,
   "metadata": {},
   "outputs": [],
   "source": [
    "# calculate capacity change needed for minimum investment to reach goal\n",
    "\n",
    "p3 = ConcreteModel()\n",
    "\n",
    "p3.I = Set(initialize = I)\n",
    "\n",
    "beta = [10,10] # price of improvement\n",
    "\n",
    "p3.goal = Var(domain = NonNegativeReals, doc = 'flex index goal')\n",
    "p3.delta = Var(p3.I, domain = NonNegativeReals, doc = 'design 1 capacity change')\n",
    "\n",
    "p3.Constraint = ConstraintList()\n",
    "for k in range(len(y_dict)):\n",
    "    p3.Constraint.add(delta_dict[k+1] + sum(sigma_matrix[k][i]*p3.delta[i] for i in p3.I) >= p3.goal)\n",
    "for i in p3.I:\n",
    "    p3.Constraint.add(p3.delta[i] >= 0)\n",
    "p3.Constraint.add(p3.goal >= list(delta_dict.items())[0][1])\n",
    "p3.Constraint.add(p3.goal <= list(delta_dict.items())[-1][1])\n",
    "\n",
    "p3.objective = Objective(expr = (sum(beta[i] * p3.delta[i] for i in p3.I)), sense = minimize)\n",
    "# opt = SolverFactory('gurobi', solver_io = 'python')\n",
    "\n",
    "p3.write('p3.lp', io_options={'symbolic_solver_labels': True})\n"
   ]
  },
  {
   "cell_type": "markdown",
   "metadata": {},
   "source": [
    "Solve this parametrically to get the cost vs flex analysis curve manually"
   ]
  },
  {
   "cell_type": "code",
   "execution_count": null,
   "metadata": {
    "ExecuteTime": {
     "start_time": "2025-05-20T18:16:43.396845Z"
    }
   },
   "outputs": [],
   "source": [
    "# get the above model's matrix\n",
    "import gurobipy as GBP\n",
    "\n",
    "gurobi_model = GBP.read('p3.lp')\n",
    "A = gurobi_model.getA()\n",
    "A = A.toarray()\n",
    "\n",
    "# # find the stuff that's set to maximize, flip them to minimize\n",
    "\n",
    "sense = np.array(gurobi_model.getAttr(\"Sense\",gurobi_model.getConstrs()))\n",
    "A[sense == '>',:] = A[sense == '>',:] * -1\n",
    "\n",
    "# get the F matrix for theta coeffs in RHS of constraints. Need to flip em because they go on the other side of the equation by default\n",
    "F = A[:-2,-1] * -1\n",
    "F = F.reshape(-1,1)\n",
    "\n",
    "# get CRa, the coeffs for UB + LB of thetas\n",
    "CRa = A[-2:,-1]\n",
    "CRa = CRa.reshape(-1,1)\n",
    "\n",
    "# get just the d coefficients\n",
    "A = A[:-2,:-1]"
   ]
  },
  {
   "cell_type": "code",
   "execution_count": null,
   "metadata": {
    "ExecuteTime": {
     "start_time": "2025-05-20T18:16:43.397882Z"
    }
   },
   "outputs": [],
   "source": [
    "# get the b\n",
    "\n",
    "b = gurobi_model.getAttr('RHS', gurobi_model.getConstrs())\n",
    "b = np.array(b)\n",
    "b[sense == '>'] = b[sense == '>'] * -1\n",
    "\n",
    "# pull out the bounds for the thetas\n",
    "CRb = b[-2:]\n",
    "CRb = CRb.reshape(-1,1)\n",
    "\n",
    "# pull out the constant RHS for the other constraints\n",
    "b = b[:-2]\n",
    "b = b.reshape(-1,1)"
   ]
  },
  {
   "cell_type": "code",
   "execution_count": null,
   "metadata": {
    "ExecuteTime": {
     "start_time": "2025-05-20T18:16:43.398906Z"
    }
   },
   "outputs": [],
   "source": [
    "# pull out the objective coefficients in terms of just the design variables\n",
    "\n",
    "c = gurobi_model.getAttr('Obj', gurobi_model.getVars())\n",
    "c = c[:-1]\n",
    "c = np.array(c)\n",
    "c = c.reshape(-1,1)"
   ]
  },
  {
   "cell_type": "code",
   "execution_count": null,
   "metadata": {
    "ExecuteTime": {
     "start_time": "2025-05-20T18:16:43.399940Z"
    }
   },
   "outputs": [],
   "source": [
    "H = np.zeros((A.shape[1],F.shape[1])) # if we have a parametric uncertainty in the objective function, in this case we don't and I don't think we will"
   ]
  },
  {
   "cell_type": "code",
   "execution_count": null,
   "metadata": {
    "ExecuteTime": {
     "start_time": "2025-05-20T18:16:43.399940Z"
    }
   },
   "outputs": [],
   "source": [
    "# solve the mpLP\n",
    "\n",
    "from ppopt.mpqp_program import MPLP_Program\n",
    "from ppopt.mp_solvers.solve_mpqp import solve_mpqp, mpqp_algorithm\n",
    "\n",
    "prog = MPLP_Program(A, b, c, H, CRa, CRb, F)\n",
    "\n",
    "solution = solve_mpqp(prog, mpqp_algorithm.combinatorial)"
   ]
  },
  {
   "cell_type": "code",
   "execution_count": null,
   "metadata": {
    "ExecuteTime": {
     "start_time": "2025-05-20T18:16:43.400985Z"
    }
   },
   "outputs": [],
   "source": [
    "# get the critical regions\n",
    "\n",
    "region_list = solution.critical_regions\n",
    "\n",
    "thetas = []\n",
    "constants = []\n",
    "for i in range(len(region_list)):\n",
    "    A = region_list[i].A\n",
    "    b = region_list[i].b\n",
    "    theta_coeff = c.T@A\n",
    "    constant_coeff = c.T@b\n",
    "    thetas.append(theta_coeff[0][0])\n",
    "    constants.append(constant_coeff[0][0])"
   ]
  },
  {
   "cell_type": "code",
   "execution_count": null,
   "metadata": {
    "ExecuteTime": {
     "start_time": "2025-05-20T18:16:43.402019Z"
    }
   },
   "outputs": [],
   "source": [
    "region_list"
   ]
  },
  {
   "cell_type": "code",
   "execution_count": null,
   "metadata": {},
   "outputs": [],
   "source": [
    "# numerical check of the cost vs flex curve\n",
    "for t in np.linspace(list(delta_dict.items())[0][1] + 0.001, list(delta_dict.items())[-1][1]+0.001):\n",
    "    t_new = np.array([[t]])\n",
    "    p_sol = solution.evaluate_objective(t_new)\n",
    "\n",
    "    plt.scatter(t, p_sol)\n",
    "plt.xlabel('Flexibility index')\n",
    "plt.ylabel('Cost')"
   ]
  },
  {
   "cell_type": "code",
   "execution_count": null,
   "metadata": {
    "ExecuteTime": {
     "start_time": "2025-05-20T18:16:43.403055Z"
    }
   },
   "outputs": [],
   "source": [
    "flex_index = [0.5, 0.75, 1]\n",
    "d1 = [0, 0.375, 1.33]\n",
    "d2 = [0,0,1.33]\n",
    "\n",
    "plt.plot(flex_index, d1, label = 'd1')\n",
    "plt.plot(flex_index, d2, label = 'd2')\n",
    "plt.xlabel('Flexibility index')\n",
    "plt.ylabel('Design variable increase needed')\n",
    "plt.legend()"
   ]
  },
  {
   "cell_type": "code",
   "execution_count": null,
   "metadata": {
    "ExecuteTime": {
     "start_time": "2025-05-20T18:16:43.404089Z"
    }
   },
   "outputs": [],
   "source": []
  }
 ],
 "metadata": {
  "kernelspec": {
   "display_name": "envpython38",
   "language": "python",
   "name": "python3"
  },
  "language_info": {
   "codemirror_mode": {
    "name": "ipython",
    "version": 3
   },
   "file_extension": ".py",
   "mimetype": "text/x-python",
   "name": "python",
   "nbconvert_exporter": "python",
   "pygments_lexer": "ipython3",
   "version": "3.8.18"
  },
  "orig_nbformat": 4
 },
 "nbformat": 4,
 "nbformat_minor": 2
}
