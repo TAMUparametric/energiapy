{
 "cells": [
  {
   "metadata": {
    "ExecuteTime": {
     "end_time": "2025-06-28T19:50:36.820014Z",
     "start_time": "2025-06-28T19:50:36.562692Z"
    }
   },
   "cell_type": "code",
   "source": [
    "import numpy as np\n",
    "from ppopt.mpmodel import MPModeler\n",
    "from ppopt.mp_solvers.solve_mpqp import solve_mpqp, mpqp_algorithm\n",
    "from ppopt.plot import parametric_plot"
   ],
   "id": "f44c376bc9f0ede1",
   "outputs": [],
   "execution_count": 1
  },
  {
   "cell_type": "code",
   "id": "initial_id",
   "metadata": {
    "collapsed": true,
    "ExecuteTime": {
     "end_time": "2025-06-28T19:50:37.288615Z",
     "start_time": "2025-06-28T19:50:36.820964Z"
    }
   },
   "source": [
    "# Pistikopoulos and Mazzuchi (1990) Example 1\n",
    "t_bounds = [(610, 630), (378, 398), (573, 593), (303, 323)]\n",
    "# t_bounds = [(586.68, 653.32), (354.68, 421.32), (549.68, 616.32), (279.68, 346.32)]\n",
    "nt = len(t_bounds)\n",
    "nd = 0\n",
    "d_bounds = None\n",
    "d_vector = None\n",
    "m = MPModeler()\n",
    "\n",
    "t3_max = m.add_var('t3_max')\n",
    "t3_min = m.add_var('t3_min')\n",
    "t4_a = m.add_var('t4_a')\n",
    "t4_b = m.add_var('t4_b')\n",
    "\n",
    "t1 = m.add_param(name=\"t1\")\n",
    "t2 = m.add_param(name=\"t2\")\n",
    "\n",
    "m.add_constr(-0.5*t3_max + 1.5*t4_a - 188 <= 0)\n",
    "m.add_constr(-0.75*t1 - 0.25*t2 - t3_max + 1126 <= 0)\n",
    "m.add_constr(0.5*t4_a - 161.5 <= 0)\n",
    "m.add_constr(-0.75*t1 - 0.25*t2 - 0.5*t3_max - t4_a + 1152.5 <= 0)\n",
    "\n",
    "m.add_constr(-0.5*t3_min + 1.5*t4_b - 188 <= 0)\n",
    "m.add_constr(-0.75*t1 - 0.25*t2 - t3_min + 1126 <= 0)\n",
    "m.add_constr(0.5*t4_b - 161.5 <= 0)\n",
    "m.add_constr(-0.75*t1 - 0.25*t2 - 0.5*t3_min - t4_b + 1152.5 <= 0)\n",
    "\n",
    "m.add_constr(t3_min <= t3_max)\n",
    "\n",
    "m.add_constr(t_bounds[2][0] <= t3_max)\n",
    "m.add_constr(t_bounds[2][0] <= t3_min)\n",
    "m.add_constr(t_bounds[3][0] <= t4_a)\n",
    "m.add_constr(t_bounds[3][0] <= t4_b)\n",
    "m.add_constr(t3_max <= t_bounds[2][1])\n",
    "m.add_constr(t3_min <= t_bounds[2][1])\n",
    "m.add_constr(t4_a <= t_bounds[3][1])\n",
    "m.add_constr(t4_b <= t_bounds[3][1])\n",
    "\n",
    "m.add_constr(t_bounds[0][0] <= t1)\n",
    "m.add_constr(t_bounds[1][0] <= t2)\n",
    "m.add_constr(t1 <= t_bounds[0][1])\n",
    "m.add_constr(t2 <= t_bounds[1][1])\n",
    "m.set_objective(t3_min-t3_max)\n",
    "prob = m.formulate_problem()\n",
    "prob.process_constraints()\n",
    "\n",
    "solution_flexibility = solve_mpqp(problem=prob, algorithm=mpqp_algorithm.combinatorial)\n",
    "\n",
    "def joint_pdf(theta:list):\n",
    "    return (1/(5000*np.pi))*np.exp(-0.08*((theta[0]-620)**2 + (theta[1]-388)**2))"
   ],
   "outputs": [
    {
     "name": "stdout",
     "output_type": "stream",
     "text": [
      "Set parameter Username\n",
      "Set parameter LicenseID to value 2606820\n",
      "Academic license - for non-commercial use only - expires 2026-01-07\n"
     ]
    }
   ],
   "execution_count": 2
  },
  {
   "metadata": {
    "ExecuteTime": {
     "end_time": "2025-06-28T19:50:37.293020Z",
     "start_time": "2025-06-28T19:50:37.289220Z"
    }
   },
   "cell_type": "code",
   "source": [
    "prob.A"
   ],
   "id": "c9d7710f9ab4dcb4",
   "outputs": [
    {
     "data": {
      "text/plain": [
       "array([[-0.31622777,  0.        ,  0.9486833 ,  0.        ],\n",
       "       [-0.78446454,  0.        ,  0.        ,  0.        ],\n",
       "       [ 0.        ,  0.        ,  1.        ,  0.        ],\n",
       "       [-0.36514837,  0.        , -0.73029674,  0.        ],\n",
       "       [ 0.        , -0.31622777,  0.        ,  0.9486833 ],\n",
       "       [ 0.        , -0.78446454,  0.        ,  0.        ],\n",
       "       [ 0.        ,  0.        ,  0.        ,  1.        ],\n",
       "       [ 0.        , -0.36514837,  0.        , -0.73029674],\n",
       "       [-0.70710678,  0.70710678,  0.        ,  0.        ],\n",
       "       [-1.        ,  0.        ,  0.        ,  0.        ],\n",
       "       [ 0.        , -1.        ,  0.        ,  0.        ],\n",
       "       [ 0.        ,  0.        , -1.        ,  0.        ],\n",
       "       [ 0.        ,  0.        ,  0.        , -1.        ],\n",
       "       [ 1.        ,  0.        ,  0.        ,  0.        ],\n",
       "       [ 0.        ,  1.        ,  0.        ,  0.        ],\n",
       "       [ 0.        ,  0.        ,  1.        ,  0.        ],\n",
       "       [ 0.        ,  0.        ,  0.        ,  1.        ]])"
      ]
     },
     "execution_count": 3,
     "metadata": {},
     "output_type": "execute_result"
    }
   ],
   "execution_count": 3
  },
  {
   "metadata": {
    "ExecuteTime": {
     "end_time": "2025-06-28T19:50:37.296637Z",
     "start_time": "2025-06-28T19:50:37.294011Z"
    }
   },
   "cell_type": "code",
   "source": [
    "prob.b"
   ],
   "id": "5db80d5f85a2189d",
   "outputs": [
    {
     "data": {
      "text/plain": [
       "array([[ 118.90164002],\n",
       "       [-883.30707266],\n",
       "       [ 323.        ],\n",
       "       [-841.6669967 ],\n",
       "       [ 118.90164002],\n",
       "       [-883.30707266],\n",
       "       [ 323.        ],\n",
       "       [-841.6669967 ],\n",
       "       [  -0.        ],\n",
       "       [-573.        ],\n",
       "       [-573.        ],\n",
       "       [-303.        ],\n",
       "       [-303.        ],\n",
       "       [ 593.        ],\n",
       "       [ 593.        ],\n",
       "       [ 323.        ],\n",
       "       [ 323.        ]])"
      ]
     },
     "execution_count": 4,
     "metadata": {},
     "output_type": "execute_result"
    }
   ],
   "execution_count": 4
  },
  {
   "metadata": {
    "ExecuteTime": {
     "end_time": "2025-06-28T19:50:37.300555Z",
     "start_time": "2025-06-28T19:50:37.298018Z"
    }
   },
   "cell_type": "code",
   "source": [
    "prob.F"
   ],
   "id": "834e1e6048ffd05f",
   "outputs": [
    {
     "data": {
      "text/plain": [
       "array([[0.        , 0.        ],\n",
       "       [0.58834841, 0.19611614],\n",
       "       [0.        , 0.        ],\n",
       "       [0.54772256, 0.18257419],\n",
       "       [0.        , 0.        ],\n",
       "       [0.58834841, 0.19611614],\n",
       "       [0.        , 0.        ],\n",
       "       [0.54772256, 0.18257419],\n",
       "       [0.        , 0.        ],\n",
       "       [0.        , 0.        ],\n",
       "       [0.        , 0.        ],\n",
       "       [0.        , 0.        ],\n",
       "       [0.        , 0.        ],\n",
       "       [0.        , 0.        ],\n",
       "       [0.        , 0.        ],\n",
       "       [0.        , 0.        ],\n",
       "       [0.        , 0.        ]])"
      ]
     },
     "execution_count": 5,
     "metadata": {},
     "output_type": "execute_result"
    }
   ],
   "execution_count": 5
  },
  {
   "metadata": {
    "ExecuteTime": {
     "end_time": "2025-06-28T19:50:37.303456Z",
     "start_time": "2025-06-28T19:50:37.301172Z"
    }
   },
   "cell_type": "code",
   "source": [
    "prob.A_t"
   ],
   "id": "b562df9752a26f5c",
   "outputs": [
    {
     "data": {
      "text/plain": [
       "array([[-1.,  0.],\n",
       "       [ 0., -1.],\n",
       "       [ 1.,  0.],\n",
       "       [ 0.,  1.]])"
      ]
     },
     "execution_count": 6,
     "metadata": {},
     "output_type": "execute_result"
    }
   ],
   "execution_count": 6
  },
  {
   "metadata": {
    "ExecuteTime": {
     "end_time": "2025-06-28T19:50:37.306154Z",
     "start_time": "2025-06-28T19:50:37.304028Z"
    }
   },
   "cell_type": "code",
   "source": [
    "prob.b_t"
   ],
   "id": "e2239edd8616289",
   "outputs": [
    {
     "data": {
      "text/plain": [
       "array([[-610.],\n",
       "       [-378.],\n",
       "       [ 630.],\n",
       "       [ 398.]])"
      ]
     },
     "execution_count": 7,
     "metadata": {},
     "output_type": "execute_result"
    }
   ],
   "execution_count": 7
  },
  {
   "cell_type": "code",
   "source": [
    "prob.c"
   ],
   "metadata": {
    "collapsed": false,
    "ExecuteTime": {
     "end_time": "2025-06-28T19:50:37.309301Z",
     "start_time": "2025-06-28T19:50:37.306850Z"
    }
   },
   "id": "9a024b0188f96e04",
   "outputs": [
    {
     "data": {
      "text/plain": [
       "array([[-1.],\n",
       "       [ 1.],\n",
       "       [ 0.],\n",
       "       [ 0.]])"
      ]
     },
     "execution_count": 8,
     "metadata": {},
     "output_type": "execute_result"
    }
   ],
   "execution_count": 8
  },
  {
   "cell_type": "code",
   "source": [
    "prob.H"
   ],
   "metadata": {
    "collapsed": false,
    "ExecuteTime": {
     "end_time": "2025-06-28T19:50:37.312196Z",
     "start_time": "2025-06-28T19:50:37.309945Z"
    }
   },
   "id": "8cf5fcb3c54c6843",
   "outputs": [
    {
     "data": {
      "text/plain": [
       "array([[0., 0.],\n",
       "       [0., 0.],\n",
       "       [0., 0.],\n",
       "       [0., 0.]])"
      ]
     },
     "execution_count": 9,
     "metadata": {},
     "output_type": "execute_result"
    }
   ],
   "execution_count": 9
  },
  {
   "cell_type": "code",
   "source": [
    "prob.Q_t"
   ],
   "metadata": {
    "collapsed": false,
    "ExecuteTime": {
     "end_time": "2025-06-28T19:50:37.315312Z",
     "start_time": "2025-06-28T19:50:37.312901Z"
    }
   },
   "id": "60f626a9a6a9fe31",
   "outputs": [
    {
     "data": {
      "text/plain": [
       "array([[0., 0.],\n",
       "       [0., 0.]])"
      ]
     },
     "execution_count": 10,
     "metadata": {},
     "output_type": "execute_result"
    }
   ],
   "execution_count": 10
  },
  {
   "cell_type": "code",
   "source": [
    "prob.c_t"
   ],
   "metadata": {
    "collapsed": false,
    "ExecuteTime": {
     "end_time": "2025-06-28T19:50:37.318378Z",
     "start_time": "2025-06-28T19:50:37.316059Z"
    }
   },
   "id": "9891a67db7288645",
   "outputs": [
    {
     "data": {
      "text/plain": [
       "array([[0.],\n",
       "       [0.]])"
      ]
     },
     "execution_count": 11,
     "metadata": {},
     "output_type": "execute_result"
    }
   ],
   "execution_count": 11
  },
  {
   "cell_type": "code",
   "source": [
    "prob.c_c"
   ],
   "metadata": {
    "collapsed": false,
    "ExecuteTime": {
     "end_time": "2025-06-28T19:50:37.321139Z",
     "start_time": "2025-06-28T19:50:37.319080Z"
    }
   },
   "id": "b1d3f1e2733b98d5",
   "outputs": [
    {
     "data": {
      "text/plain": [
       "array(0.)"
      ]
     },
     "execution_count": 12,
     "metadata": {},
     "output_type": "execute_result"
    }
   ],
   "execution_count": 12
  },
  {
   "metadata": {
    "ExecuteTime": {
     "end_time": "2025-06-28T19:50:37.328545Z",
     "start_time": "2025-06-28T19:50:37.321789Z"
    }
   },
   "cell_type": "code",
   "source": [
    "solution_flexibility"
   ],
   "id": "2bc41c48c92c21bb",
   "outputs": [
    {
     "data": {
      "text/plain": [
       "Solution(program=<ppopt.mplp_program.MPLP_Program object at 0x108ee7790>, critical_regions=[Critical region with active set [0, 4, 5, 13]\n",
       "The Omega Constraint indices are [0, 1]\n",
       "The Lagrange multipliers Constraint indices are []\n",
       "The Regular Constraint indices are [[7], [10]]\n",
       "  x(θ) = Aθ + b \n",
       " λ(θ) = Cθ + d \n",
       "  Eθ <= f\n",
       " A = [[ 0.          0.        ]\n",
       " [-0.75       -0.25      ]\n",
       " [ 0.          0.        ]\n",
       " [-0.25       -0.08333333]] \n",
       " b = [[ 593.        ]\n",
       " [1126.        ]\n",
       " [ 323.        ]\n",
       " [ 500.66666667]] \n",
       " C = [[0. 0.]\n",
       " [0. 0.]\n",
       " [0. 0.]\n",
       " [0. 0.]] \n",
       " d = [[-5.39886939e-17]\n",
       " [-6.99925678e-17]\n",
       " [ 1.27475488e+00]\n",
       " [ 1.00000000e+00]] \n",
       " E = [[ 0.9486833   0.31622777]\n",
       " [-1.          0.        ]\n",
       " [ 0.         -1.        ]] \n",
       " f = [[ 699.49581843]\n",
       " [-610.        ]\n",
       " [-378.        ]], Critical region with active set [0, 4, 10, 13]\n",
       "The Omega Constraint indices are [0, 1, 2, 3]\n",
       "The Lagrange multipliers Constraint indices are []\n",
       "The Regular Constraint indices are [[3], [5]]\n",
       "  x(θ) = Aθ + b \n",
       " λ(θ) = Cθ + d \n",
       "  Eθ <= f\n",
       " A = [[0. 0.]\n",
       " [0. 0.]\n",
       " [0. 0.]\n",
       " [0. 0.]] \n",
       " b = [[593.        ]\n",
       " [573.        ]\n",
       " [323.        ]\n",
       " [316.33333333]] \n",
       " C = [[0. 0.]\n",
       " [0. 0.]\n",
       " [0. 0.]\n",
       " [0. 0.]] \n",
       " d = [[-5.39886939e-17]\n",
       " [-7.58430702e-17]\n",
       " [ 1.00000000e+00]\n",
       " [ 1.00000000e+00]] \n",
       " E = [[-0.9486833  -0.31622777]\n",
       " [-1.          0.        ]\n",
       " [ 0.         -1.        ]\n",
       " [ 1.          0.        ]\n",
       " [ 0.          1.        ]] \n",
       " f = [[-699.49581843]\n",
       " [-610.        ]\n",
       " [-378.        ]\n",
       " [ 630.        ]\n",
       " [ 398.        ]], Critical region with active set [0, 5, 7, 13]\n",
       "The Omega Constraint indices are [0, 1]\n",
       "The Lagrange multipliers Constraint indices are []\n",
       "The Regular Constraint indices are [[7], [10]]\n",
       "  x(θ) = Aθ + b \n",
       " λ(θ) = Cθ + d \n",
       "  Eθ <= f\n",
       " A = [[ 0.     0.   ]\n",
       " [-0.75  -0.25 ]\n",
       " [ 0.     0.   ]\n",
       " [-0.375 -0.125]] \n",
       " b = [[ 593. ]\n",
       " [1126. ]\n",
       " [ 323. ]\n",
       " [ 589.5]] \n",
       " C = [[0. 0.]\n",
       " [0. 0.]\n",
       " [0. 0.]\n",
       " [0. 0.]] \n",
       " d = [[-5.39886939e-17]\n",
       " [ 1.27475488e+00]\n",
       " [-2.04987308e-16]\n",
       " [ 1.00000000e+00]] \n",
       " E = [[ 0.9486833   0.31622777]\n",
       " [-1.          0.        ]\n",
       " [ 0.         -1.        ]] \n",
       " f = [[ 699.49581843]\n",
       " [-610.        ]\n",
       " [-378.        ]], Critical region with active set [0, 7, 10, 13]\n",
       "The Omega Constraint indices are [0, 1, 3]\n",
       "The Lagrange multipliers Constraint indices are []\n",
       "The Regular Constraint indices are [[4, 9], [5, 12]]\n",
       "  x(θ) = Aθ + b \n",
       " λ(θ) = Cθ + d \n",
       "  Eθ <= f\n",
       " A = [[ 0.00000000e+00  0.00000000e+00]\n",
       " [-8.31032824e-17 -2.77010941e-17]\n",
       " [ 0.00000000e+00  0.00000000e+00]\n",
       " [-7.50000000e-01 -2.50000000e-01]] \n",
       " b = [[593.]\n",
       " [573.]\n",
       " [323.]\n",
       " [866.]] \n",
       " C = [[0. 0.]\n",
       " [0. 0.]\n",
       " [0. 0.]\n",
       " [0. 0.]] \n",
       " d = [[-5.39886939e-17]\n",
       " [ 1.51725141e-16]\n",
       " [ 1.00000000e+00]\n",
       " [ 1.00000000e+00]] \n",
       " E = [[-0.9486833  -0.31622777]\n",
       " [ 0.9486833   0.31622777]\n",
       " [-1.          0.        ]\n",
       " [ 0.         -1.        ]\n",
       " [ 0.          1.        ]] \n",
       " f = [[-699.49581843]\n",
       " [ 712.14492907]\n",
       " [-610.        ]\n",
       " [-378.        ]\n",
       " [ 398.        ]], Critical region with active set [0, 10, 12, 13]\n",
       "The Omega Constraint indices are [1, 2, 3]\n",
       "The Lagrange multipliers Constraint indices are []\n",
       "The Regular Constraint indices are [[6], [7]]\n",
       "  x(θ) = Aθ + b \n",
       " λ(θ) = Cθ + d \n",
       "  Eθ <= f\n",
       " A = [[0. 0.]\n",
       " [0. 0.]\n",
       " [0. 0.]\n",
       " [0. 0.]] \n",
       " b = [[593.]\n",
       " [573.]\n",
       " [323.]\n",
       " [303.]] \n",
       " C = [[0. 0.]\n",
       " [0. 0.]\n",
       " [0. 0.]\n",
       " [0. 0.]] \n",
       " d = [[-5.39886939e-17]\n",
       " [ 1.00000000e+00]\n",
       " [ 0.00000000e+00]\n",
       " [ 1.00000000e+00]] \n",
       " E = [[-0.9486833  -0.31622777]\n",
       " [ 0.         -1.        ]\n",
       " [ 1.          0.        ]\n",
       " [ 0.          1.        ]] \n",
       " f = [[-712.14492907]\n",
       " [-378.        ]\n",
       " [ 630.        ]\n",
       " [ 398.        ]], Critical region with active set [2, 4, 5, 13]\n",
       "The Omega Constraint indices are [0, 1]\n",
       "The Lagrange multipliers Constraint indices are []\n",
       "The Regular Constraint indices are [[7], [10]]\n",
       "  x(θ) = Aθ + b \n",
       " λ(θ) = Cθ + d \n",
       "  Eθ <= f\n",
       " A = [[ 0.          0.        ]\n",
       " [-0.75       -0.25      ]\n",
       " [ 0.          0.        ]\n",
       " [-0.25       -0.08333333]] \n",
       " b = [[ 593.        ]\n",
       " [1126.        ]\n",
       " [ 323.        ]\n",
       " [ 500.66666667]] \n",
       " C = [[0. 0.]\n",
       " [0. 0.]\n",
       " [0. 0.]\n",
       " [0. 0.]] \n",
       " d = [[ 0.00000000e+00]\n",
       " [-7.19308871e-17]\n",
       " [ 1.27475488e+00]\n",
       " [ 1.00000000e+00]] \n",
       " E = [[ 0.9486833   0.31622777]\n",
       " [-1.          0.        ]\n",
       " [ 0.         -1.        ]] \n",
       " f = [[ 699.49581843]\n",
       " [-610.        ]\n",
       " [-378.        ]], Critical region with active set [2, 4, 10, 13]\n",
       "The Omega Constraint indices are [0, 1, 2, 3]\n",
       "The Lagrange multipliers Constraint indices are []\n",
       "The Regular Constraint indices are [[3], [5]]\n",
       "  x(θ) = Aθ + b \n",
       " λ(θ) = Cθ + d \n",
       "  Eθ <= f\n",
       " A = [[0. 0.]\n",
       " [0. 0.]\n",
       " [0. 0.]\n",
       " [0. 0.]] \n",
       " b = [[593.        ]\n",
       " [573.        ]\n",
       " [323.        ]\n",
       " [316.33333333]] \n",
       " C = [[0. 0.]\n",
       " [0. 0.]\n",
       " [0. 0.]\n",
       " [0. 0.]] \n",
       " d = [[0.00000000e+00]\n",
       " [5.39886939e-17]\n",
       " [1.00000000e+00]\n",
       " [1.00000000e+00]] \n",
       " E = [[-0.9486833  -0.31622777]\n",
       " [-1.          0.        ]\n",
       " [ 0.         -1.        ]\n",
       " [ 1.          0.        ]\n",
       " [ 0.          1.        ]] \n",
       " f = [[-699.49581843]\n",
       " [-610.        ]\n",
       " [-378.        ]\n",
       " [ 630.        ]\n",
       " [ 398.        ]], Critical region with active set [2, 5, 7, 13]\n",
       "The Omega Constraint indices are [0, 1]\n",
       "The Lagrange multipliers Constraint indices are []\n",
       "The Regular Constraint indices are [[7], [10]]\n",
       "  x(θ) = Aθ + b \n",
       " λ(θ) = Cθ + d \n",
       "  Eθ <= f\n",
       " A = [[ 0.     0.   ]\n",
       " [-0.75  -0.25 ]\n",
       " [ 0.     0.   ]\n",
       " [-0.375 -0.125]] \n",
       " b = [[ 593. ]\n",
       " [1126. ]\n",
       " [ 323. ]\n",
       " [ 589.5]] \n",
       " C = [[0. 0.]\n",
       " [0. 0.]\n",
       " [0. 0.]\n",
       " [0. 0.]] \n",
       " d = [[0.00000000e+00]\n",
       " [1.27475488e+00]\n",
       " [4.33727240e-17]\n",
       " [1.00000000e+00]] \n",
       " E = [[ 0.9486833   0.31622777]\n",
       " [-1.          0.        ]\n",
       " [ 0.         -1.        ]] \n",
       " f = [[ 699.49581843]\n",
       " [-610.        ]\n",
       " [-378.        ]], Critical region with active set [2, 7, 10, 13]\n",
       "The Omega Constraint indices are [0, 1, 3]\n",
       "The Lagrange multipliers Constraint indices are []\n",
       "The Regular Constraint indices are [[4, 9], [5, 12]]\n",
       "  x(θ) = Aθ + b \n",
       " λ(θ) = Cθ + d \n",
       "  Eθ <= f\n",
       " A = [[ 0.00000000e+00  0.00000000e+00]\n",
       " [-1.09302456e-16 -3.64341520e-17]\n",
       " [ 0.00000000e+00  0.00000000e+00]\n",
       " [-7.50000000e-01 -2.50000000e-01]] \n",
       " b = [[593.]\n",
       " [573.]\n",
       " [323.]\n",
       " [866.]] \n",
       " C = [[0. 0.]\n",
       " [0. 0.]\n",
       " [0. 0.]\n",
       " [0. 0.]] \n",
       " d = [[0.00000000e+00]\n",
       " [1.99558069e-16]\n",
       " [1.00000000e+00]\n",
       " [1.00000000e+00]] \n",
       " E = [[-0.9486833  -0.31622777]\n",
       " [ 0.9486833   0.31622777]\n",
       " [-1.          0.        ]\n",
       " [ 0.         -1.        ]\n",
       " [ 0.          1.        ]] \n",
       " f = [[-699.49581843]\n",
       " [ 712.14492907]\n",
       " [-610.        ]\n",
       " [-378.        ]\n",
       " [ 398.        ]], Critical region with active set [2, 10, 12, 13]\n",
       "The Omega Constraint indices are [1, 2, 3]\n",
       "The Lagrange multipliers Constraint indices are []\n",
       "The Regular Constraint indices are [[6], [7]]\n",
       "  x(θ) = Aθ + b \n",
       " λ(θ) = Cθ + d \n",
       "  Eθ <= f\n",
       " A = [[0. 0.]\n",
       " [0. 0.]\n",
       " [0. 0.]\n",
       " [0. 0.]] \n",
       " b = [[593.]\n",
       " [573.]\n",
       " [323.]\n",
       " [303.]] \n",
       " C = [[0. 0.]\n",
       " [0. 0.]\n",
       " [0. 0.]\n",
       " [0. 0.]] \n",
       " d = [[0.]\n",
       " [1.]\n",
       " [0.]\n",
       " [1.]] \n",
       " E = [[-0.9486833  -0.31622777]\n",
       " [ 0.         -1.        ]\n",
       " [ 1.          0.        ]\n",
       " [ 0.          1.        ]] \n",
       " f = [[-712.14492907]\n",
       " [-378.        ]\n",
       " [ 630.        ]\n",
       " [ 398.        ]], Critical region with active set [3, 4, 5, 13]\n",
       "The Omega Constraint indices are [0, 1]\n",
       "The Lagrange multipliers Constraint indices are []\n",
       "The Regular Constraint indices are [[7, 8], [10, 11]]\n",
       "  x(θ) = Aθ + b \n",
       " λ(θ) = Cθ + d \n",
       "  Eθ <= f\n",
       " A = [[-1.09302456e-16 -3.64341520e-17]\n",
       " [-7.50000000e-01 -2.50000000e-01]\n",
       " [-7.50000000e-01 -2.50000000e-01]\n",
       " [-2.50000000e-01 -8.33333333e-02]] \n",
       " b = [[ 593.        ]\n",
       " [1126.        ]\n",
       " [ 856.        ]\n",
       " [ 500.66666667]] \n",
       " C = [[0. 0.]\n",
       " [0. 0.]\n",
       " [0. 0.]\n",
       " [0. 0.]] \n",
       " d = [[-1.98373143e-16]\n",
       " [-3.04350132e-17]\n",
       " [ 1.27475488e+00]\n",
       " [ 1.00000000e+00]] \n",
       " E = [[ 0.9486833   0.31622777]\n",
       " [ 0.9486833   0.31622777]\n",
       " [-1.          0.        ]\n",
       " [ 0.         -1.        ]] \n",
       " f = [[ 699.49581843]\n",
       " [ 699.49581843]\n",
       " [-610.        ]\n",
       " [-378.        ]], Critical region with active set [3, 5, 7, 13]\n",
       "The Omega Constraint indices are [0, 1]\n",
       "The Lagrange multipliers Constraint indices are []\n",
       "The Regular Constraint indices are [[7, 8], [10, 11]]\n",
       "  x(θ) = Aθ + b \n",
       " λ(θ) = Cθ + d \n",
       "  Eθ <= f\n",
       " A = [[-1.09302456e-16 -3.64341520e-17]\n",
       " [-7.50000000e-01 -2.50000000e-01]\n",
       " [-7.50000000e-01 -2.50000000e-01]\n",
       " [-3.75000000e-01 -1.25000000e-01]] \n",
       " b = [[ 593. ]\n",
       " [1126. ]\n",
       " [ 856. ]\n",
       " [ 589.5]] \n",
       " C = [[0. 0.]\n",
       " [0. 0.]\n",
       " [0. 0.]\n",
       " [0. 0.]] \n",
       " d = [[-5.20318122e-16]\n",
       " [ 1.27475488e+00]\n",
       " [-4.71053173e-17]\n",
       " [ 1.00000000e+00]] \n",
       " E = [[ 0.9486833   0.31622777]\n",
       " [ 0.9486833   0.31622777]\n",
       " [-1.          0.        ]\n",
       " [ 0.         -1.        ]] \n",
       " f = [[ 699.49581843]\n",
       " [ 699.49581843]\n",
       " [-610.        ]\n",
       " [-378.        ]], Critical region with active set [4, 5, 13, 15]\n",
       "The Omega Constraint indices are [0, 1]\n",
       "The Lagrange multipliers Constraint indices are []\n",
       "The Regular Constraint indices are [[8], [10]]\n",
       "  x(θ) = Aθ + b \n",
       " λ(θ) = Cθ + d \n",
       "  Eθ <= f\n",
       " A = [[ 0.          0.        ]\n",
       " [-0.75       -0.25      ]\n",
       " [ 0.          0.        ]\n",
       " [-0.25       -0.08333333]] \n",
       " b = [[ 593.        ]\n",
       " [1126.        ]\n",
       " [ 323.        ]\n",
       " [ 500.66666667]] \n",
       " C = [[0. 0.]\n",
       " [0. 0.]\n",
       " [0. 0.]\n",
       " [0. 0.]] \n",
       " d = [[-6.99925678e-17]\n",
       " [ 1.27475488e+00]\n",
       " [ 1.00000000e+00]\n",
       " [ 0.00000000e+00]] \n",
       " E = [[ 0.9486833   0.31622777]\n",
       " [-1.          0.        ]\n",
       " [ 0.         -1.        ]] \n",
       " f = [[ 699.49581843]\n",
       " [-610.        ]\n",
       " [-378.        ]], Critical region with active set [4, 10, 11, 13]\n",
       "The Omega Constraint indices are [0, 1, 2, 3]\n",
       "The Lagrange multipliers Constraint indices are []\n",
       "The Regular Constraint indices are [[3, 4], [3, 5]]\n",
       "  x(θ) = Aθ + b \n",
       " λ(θ) = Cθ + d \n",
       "  Eθ <= f\n",
       " A = [[0. 0.]\n",
       " [0. 0.]\n",
       " [0. 0.]\n",
       " [0. 0.]] \n",
       " b = [[593.        ]\n",
       " [573.        ]\n",
       " [303.        ]\n",
       " [316.33333333]] \n",
       " C = [[0. 0.]\n",
       " [0. 0.]\n",
       " [0. 0.]\n",
       " [0. 0.]] \n",
       " d = [[-1.09271882e-17]\n",
       " [ 1.00000000e+00]\n",
       " [ 0.00000000e+00]\n",
       " [ 1.00000000e+00]] \n",
       " E = [[-0.9486833  -0.31622777]\n",
       " [-1.          0.        ]\n",
       " [ 0.         -1.        ]\n",
       " [ 1.          0.        ]\n",
       " [ 0.          1.        ]] \n",
       " f = [[-699.49581843]\n",
       " [-610.        ]\n",
       " [-378.        ]\n",
       " [ 630.        ]\n",
       " [ 398.        ]], Critical region with active set [4, 10, 13, 15]\n",
       "The Omega Constraint indices are [0, 1, 2, 3]\n",
       "The Lagrange multipliers Constraint indices are []\n",
       "The Regular Constraint indices are [[4], [5]]\n",
       "  x(θ) = Aθ + b \n",
       " λ(θ) = Cθ + d \n",
       "  Eθ <= f\n",
       " A = [[0. 0.]\n",
       " [0. 0.]\n",
       " [0. 0.]\n",
       " [0. 0.]] \n",
       " b = [[593.        ]\n",
       " [573.        ]\n",
       " [323.        ]\n",
       " [316.33333333]] \n",
       " C = [[0. 0.]\n",
       " [0. 0.]\n",
       " [0. 0.]\n",
       " [0. 0.]] \n",
       " d = [[-7.58430702e-17]\n",
       " [ 1.00000000e+00]\n",
       " [ 1.00000000e+00]\n",
       " [ 0.00000000e+00]] \n",
       " E = [[-0.9486833  -0.31622777]\n",
       " [-1.          0.        ]\n",
       " [ 0.         -1.        ]\n",
       " [ 1.          0.        ]\n",
       " [ 0.          1.        ]] \n",
       " f = [[-699.49581843]\n",
       " [-610.        ]\n",
       " [-378.        ]\n",
       " [ 630.        ]\n",
       " [ 398.        ]], Critical region with active set [5, 7, 13, 15]\n",
       "The Omega Constraint indices are [0, 1]\n",
       "The Lagrange multipliers Constraint indices are []\n",
       "The Regular Constraint indices are [[8], [10]]\n",
       "  x(θ) = Aθ + b \n",
       " λ(θ) = Cθ + d \n",
       "  Eθ <= f\n",
       " A = [[ 0.     0.   ]\n",
       " [-0.75  -0.25 ]\n",
       " [ 0.     0.   ]\n",
       " [-0.375 -0.125]] \n",
       " b = [[ 593. ]\n",
       " [1126. ]\n",
       " [ 323. ]\n",
       " [ 589.5]] \n",
       " C = [[0. 0.]\n",
       " [0. 0.]\n",
       " [0. 0.]\n",
       " [0. 0.]] \n",
       " d = [[ 1.27475488e+00]\n",
       " [-2.04987308e-16]\n",
       " [ 1.00000000e+00]\n",
       " [ 0.00000000e+00]] \n",
       " E = [[ 0.9486833   0.31622777]\n",
       " [-1.          0.        ]\n",
       " [ 0.         -1.        ]] \n",
       " f = [[ 699.49581843]\n",
       " [-610.        ]\n",
       " [-378.        ]], Critical region with active set [7, 10, 11, 13]\n",
       "The Omega Constraint indices are [0, 1, 3]\n",
       "The Lagrange multipliers Constraint indices are []\n",
       "The Regular Constraint indices are [[3, 5, 9], [3, 5, 12]]\n",
       "  x(θ) = Aθ + b \n",
       " λ(θ) = Cθ + d \n",
       "  Eθ <= f\n",
       " A = [[ 0.00000000e+00  0.00000000e+00]\n",
       " [-1.26324253e-16 -4.21080844e-17]\n",
       " [ 1.14241007e-16  3.80803356e-17]\n",
       " [-7.50000000e-01 -2.50000000e-01]] \n",
       " b = [[593.]\n",
       " [573.]\n",
       " [303.]\n",
       " [866.]] \n",
       " C = [[0. 0.]\n",
       " [0. 0.]\n",
       " [0. 0.]\n",
       " [0. 0.]] \n",
       " d = [[2.30635477e-16]\n",
       " [1.00000000e+00]\n",
       " [0.00000000e+00]\n",
       " [1.00000000e+00]] \n",
       " E = [[-0.9486833  -0.31622777]\n",
       " [-0.9486833  -0.31622777]\n",
       " [ 0.9486833   0.31622777]\n",
       " [-1.          0.        ]\n",
       " [ 0.         -1.        ]\n",
       " [ 0.          1.        ]] \n",
       " f = [[-699.49581843]\n",
       " [-699.49581843]\n",
       " [ 712.14492907]\n",
       " [-610.        ]\n",
       " [-378.        ]\n",
       " [ 398.        ]], Critical region with active set [7, 10, 13, 15]\n",
       "The Omega Constraint indices are [0, 1, 3]\n",
       "The Lagrange multipliers Constraint indices are []\n",
       "The Regular Constraint indices are [[5, 10], [5, 12]]\n",
       "  x(θ) = Aθ + b \n",
       " λ(θ) = Cθ + d \n",
       "  Eθ <= f\n",
       " A = [[ 0.00000000e+00  0.00000000e+00]\n",
       " [-8.31032824e-17 -2.77010941e-17]\n",
       " [ 0.00000000e+00  0.00000000e+00]\n",
       " [-7.50000000e-01 -2.50000000e-01]] \n",
       " b = [[593.]\n",
       " [573.]\n",
       " [323.]\n",
       " [866.]] \n",
       " C = [[0. 0.]\n",
       " [0. 0.]\n",
       " [0. 0.]\n",
       " [0. 0.]] \n",
       " d = [[1.51725141e-16]\n",
       " [1.00000000e+00]\n",
       " [1.00000000e+00]\n",
       " [0.00000000e+00]] \n",
       " E = [[-0.9486833  -0.31622777]\n",
       " [ 0.9486833   0.31622777]\n",
       " [-1.          0.        ]\n",
       " [ 0.         -1.        ]\n",
       " [ 0.          1.        ]] \n",
       " f = [[-699.49581843]\n",
       " [ 712.14492907]\n",
       " [-610.        ]\n",
       " [-378.        ]\n",
       " [ 398.        ]], Critical region with active set [10, 11, 12, 13]\n",
       "The Omega Constraint indices are [1, 2, 3]\n",
       "The Lagrange multipliers Constraint indices are []\n",
       "The Regular Constraint indices are [[7], [7]]\n",
       "  x(θ) = Aθ + b \n",
       " λ(θ) = Cθ + d \n",
       "  Eθ <= f\n",
       " A = [[0. 0.]\n",
       " [0. 0.]\n",
       " [0. 0.]\n",
       " [0. 0.]] \n",
       " b = [[593.]\n",
       " [573.]\n",
       " [303.]\n",
       " [303.]] \n",
       " C = [[0. 0.]\n",
       " [0. 0.]\n",
       " [0. 0.]\n",
       " [0. 0.]] \n",
       " d = [[1.]\n",
       " [0.]\n",
       " [0.]\n",
       " [1.]] \n",
       " E = [[-0.9486833  -0.31622777]\n",
       " [ 0.         -1.        ]\n",
       " [ 1.          0.        ]\n",
       " [ 0.          1.        ]] \n",
       " f = [[-712.14492907]\n",
       " [-378.        ]\n",
       " [ 630.        ]\n",
       " [ 398.        ]], Critical region with active set [10, 12, 13, 15]\n",
       "The Omega Constraint indices are [1, 2, 3]\n",
       "The Lagrange multipliers Constraint indices are []\n",
       "The Regular Constraint indices are [[7], [7]]\n",
       "  x(θ) = Aθ + b \n",
       " λ(θ) = Cθ + d \n",
       "  Eθ <= f\n",
       " A = [[0. 0.]\n",
       " [0. 0.]\n",
       " [0. 0.]\n",
       " [0. 0.]] \n",
       " b = [[593.]\n",
       " [573.]\n",
       " [323.]\n",
       " [303.]] \n",
       " C = [[0. 0.]\n",
       " [0. 0.]\n",
       " [0. 0.]\n",
       " [0. 0.]] \n",
       " d = [[1.]\n",
       " [0.]\n",
       " [1.]\n",
       " [0.]] \n",
       " E = [[-0.9486833  -0.31622777]\n",
       " [ 0.         -1.        ]\n",
       " [ 1.          0.        ]\n",
       " [ 0.          1.        ]] \n",
       " f = [[-712.14492907]\n",
       " [-378.        ]\n",
       " [ 630.        ]\n",
       " [ 398.        ]]])"
      ]
     },
     "execution_count": 13,
     "metadata": {},
     "output_type": "execute_result"
    }
   ],
   "execution_count": 13
  },
  {
   "metadata": {
    "ExecuteTime": {
     "end_time": "2025-06-28T19:50:37.332617Z",
     "start_time": "2025-06-28T19:50:37.330664Z"
    }
   },
   "cell_type": "code",
   "source": "len(solution_flexibility)",
   "id": "935901516ffbdb66",
   "outputs": [
    {
     "data": {
      "text/plain": [
       "20"
      ]
     },
     "execution_count": 14,
     "metadata": {},
     "output_type": "execute_result"
    }
   ],
   "execution_count": 14
  },
  {
   "metadata": {
    "ExecuteTime": {
     "end_time": "2025-06-28T19:50:37.335105Z",
     "start_time": "2025-06-28T19:50:37.333357Z"
    }
   },
   "cell_type": "code",
   "source": [
    "theta = np.array([610.39710144, 378.39710144])"
   ],
   "id": "67b4b0dc757739a6",
   "outputs": [],
   "execution_count": 15
  },
  {
   "cell_type": "code",
   "source": [
    "r = solution_flexibility.get_region(theta_point=theta)"
   ],
   "metadata": {
    "collapsed": false,
    "ExecuteTime": {
     "end_time": "2025-06-28T19:50:37.338259Z",
     "start_time": "2025-06-28T19:50:37.335768Z"
    }
   },
   "id": "ed5adf01d368fba5",
   "outputs": [],
   "execution_count": 16
  },
  {
   "cell_type": "code",
   "source": [
    "print(r)"
   ],
   "metadata": {
    "collapsed": false,
    "ExecuteTime": {
     "end_time": "2025-06-28T19:50:37.341213Z",
     "start_time": "2025-06-28T19:50:37.339138Z"
    }
   },
   "id": "7fc555a36eea56f6",
   "outputs": [
    {
     "name": "stdout",
     "output_type": "stream",
     "text": [
      "Critical region with active set [3, 5, 7, 13]\n",
      "The Omega Constraint indices are [0, 1]\n",
      "The Lagrange multipliers Constraint indices are []\n",
      "The Regular Constraint indices are [[7, 8], [10, 11]]\n",
      "  x(θ) = Aθ + b \n",
      " λ(θ) = Cθ + d \n",
      "  Eθ <= f\n",
      " A = [[-1.09302456e-16 -3.64341520e-17]\n",
      " [-7.50000000e-01 -2.50000000e-01]\n",
      " [-7.50000000e-01 -2.50000000e-01]\n",
      " [-3.75000000e-01 -1.25000000e-01]] \n",
      " b = [[ 593. ]\n",
      " [1126. ]\n",
      " [ 856. ]\n",
      " [ 589.5]] \n",
      " C = [[0. 0.]\n",
      " [0. 0.]\n",
      " [0. 0.]\n",
      " [0. 0.]] \n",
      " d = [[-5.20318122e-16]\n",
      " [ 1.27475488e+00]\n",
      " [-4.71053173e-17]\n",
      " [ 1.00000000e+00]] \n",
      " E = [[ 0.9486833   0.31622777]\n",
      " [ 0.9486833   0.31622777]\n",
      " [-1.          0.        ]\n",
      " [ 0.         -1.        ]] \n",
      " f = [[ 699.49581843]\n",
      " [ 699.49581843]\n",
      " [-610.        ]\n",
      " [-378.        ]]\n"
     ]
    }
   ],
   "execution_count": 17
  },
  {
   "cell_type": "code",
   "source": [
    "parametric_plot(solution_flexibility)"
   ],
   "metadata": {
    "collapsed": false,
    "ExecuteTime": {
     "end_time": "2025-06-28T19:50:37.422506Z",
     "start_time": "2025-06-28T19:50:37.341856Z"
    }
   },
   "id": "fe0cb15851c033ab",
   "outputs": [
    {
     "data": {
      "text/plain": [
       "<Figure size 640x480 with 1 Axes>"
      ],
      "image/png": "[encoded data removed]"
     },
     "metadata": {},
     "output_type": "display_data"
    }
   ],
   "execution_count": 18
  },
  {
   "cell_type": "code",
   "source": [],
   "metadata": {
    "collapsed": false,
    "ExecuteTime": {
     "end_time": "2025-06-28T19:50:37.424988Z",
     "start_time": "2025-06-28T19:50:37.423698Z"
    }
   },
   "id": "8df0292f7948f9d8",
   "outputs": [],
   "execution_count": 18
  }
 ],
 "metadata": {
  "kernelspec": {
   "display_name": "Python 3",
   "language": "python",
   "name": "python3"
  },
  "language_info": {
   "codemirror_mode": {
    "name": "ipython",
    "version": 2
   },
   "file_extension": ".py",
   "mimetype": "text/x-python",
   "name": "python",
   "nbconvert_exporter": "python",
   "pygments_lexer": "ipython2",
   "version": "2.7.6"
  }
 },
 "nbformat": 4,
 "nbformat_minor": 5
}
