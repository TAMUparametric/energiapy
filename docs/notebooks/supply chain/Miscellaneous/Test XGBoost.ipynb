{
 "cells": [
  {
   "cell_type": "code",
   "outputs": [],
   "source": [
    "import numpy as np\n",
    "import pandas as pd\n",
    "import xgboost as xgb\n",
    "import random\n",
    "from sklearn.metrics import mean_squared_error, r2_score\n",
    "from sklearn.model_selection import train_test_split\n",
    "import statistics\n",
    "import matplotlib.pyplot as plt"
   ],
   "metadata": {
    "collapsed": false,
    "ExecuteTime": {
     "end_time": "2024-12-18T15:53:11.723144Z",
     "start_time": "2024-12-18T15:53:11.711746Z"
    }
   },
   "id": "dafe40e192d13c75",
   "execution_count": 25
  },
  {
   "cell_type": "code",
   "outputs": [
    {
     "name": "stdout",
     "output_type": "stream",
     "text": [
      "Test RMSE: 0.17\n",
      "Test R2: -0.09\n",
      "Future Predictions: [170.79721, 170.76187, 170.68219, 170.76791, 170.70505]\n"
     ]
    }
   ],
   "source": [
    "# Step 1: Prepare the Data\n",
    "def create_lagged_features(data, n_lags):\n",
    "    \"\"\"\n",
    "    Create lagged features for a univariate time series.\n",
    "    :param data: 1D array or list of time series data\n",
    "    :param n_lags: Number of lagged observations to use as features\n",
    "    :return: Pandas DataFrame with lagged features and target\n",
    "    \"\"\"\n",
    "    df = pd.DataFrame({'y': data})\n",
    "    for lag in range(1, n_lags + 1):\n",
    "        df[f'lag_{lag}'] = df['y'].shift(lag)\n",
    "    df.dropna(inplace=True)\n",
    "    return df\n",
    "\n",
    "# Example time series data (stationary)\n",
    "random.seed(61)\n",
    "# data = np.random.normal(50, 10, 200)  # Simulated demand data\n",
    "n_points = 1500\n",
    "noise_std = random.uniform(-50,50)  # Standard deviation of white noise\n",
    "base_demand = random.randint(100,175)  # Shift to ensure positivity\n",
    "\n",
    "# Initialize the series\n",
    "demand = []  # Start with a positive base demand\n",
    "noise = np.random.uniform(0, noise_std, n_points)\n",
    "\n",
    "for t in range(0, n_points):\n",
    "    next_value = base_demand + noise[t]\n",
    "    demand.append(next_value)\n",
    "\n",
    "data = np.array(demand)\n",
    "n_lags = 10  # Number of lagged features\n",
    "df = create_lagged_features(data, n_lags)\n",
    "\n",
    "# Step 2: Train-Test Split\n",
    "X = df.drop('y', axis=1).values\n",
    "y = df['y'].values\n",
    "\n",
    "X_train, X_test, y_train, y_test = train_test_split(X, y, test_size=0.25, shuffle=False)\n",
    "\n",
    "# Step 3: Train the XGBoost Model\n",
    "model = xgb.XGBRegressor(\n",
    "    objective='reg:squarederror', \n",
    "    n_estimators=100, \n",
    "    max_depth=3, \n",
    "    learning_rate=0.1\n",
    ")\n",
    "model.fit(X_train, y_train)\n",
    "\n",
    "# Step 4: Multi-Step Forecast\n",
    "def forecast(model, X_test, n_steps):\n",
    "    \"\"\"\n",
    "    Forecast n future steps using a trained model and the last known data.\n",
    "    :param model: Trained XGBoost model\n",
    "    :param X_test: Last available test data (features)\n",
    "    :param n_steps: Number of future steps to forecast\n",
    "    :return: List of predicted values\n",
    "    \"\"\"\n",
    "    predictions = []\n",
    "    input_data = X_test[-1, :]  # Start with the last test input\n",
    "    for _ in range(n_steps):\n",
    "        pred = model.predict(input_data.reshape(1, -1))[0]\n",
    "        predictions.append(pred)\n",
    "        # Update the input with the new prediction\n",
    "        input_data = np.roll(input_data, -1)\n",
    "        input_data[-1] = pred\n",
    "    return predictions\n",
    "\n",
    "# Forecast for n_steps future time steps\n",
    "n_steps = 5\n",
    "future_predictions = forecast(model, X_test, n_steps)\n",
    "\n",
    "# Evaluate the model (for single-step predictions on test data)\n",
    "y_pred = model.predict(X_test)\n",
    "rmse = np.sqrt(mean_squared_error(y_test, y_pred))\n",
    "r2_fit = r2_score(y_test, y_pred)\n",
    "print(f\"Test RMSE: {rmse:.2f}\")\n",
    "print(f\"Test R2: {r2_fit:.2f}\")\n",
    "# Display the results\n",
    "print(\"Future Predictions:\", future_predictions)"
   ],
   "metadata": {
    "collapsed": false,
    "ExecuteTime": {
     "end_time": "2024-12-18T15:53:11.785260Z",
     "start_time": "2024-12-18T15:53:11.724130Z"
    }
   },
   "id": "61e2ba34613fef9f",
   "execution_count": 26
  },
  {
   "cell_type": "code",
   "outputs": [
    {
     "name": "stdout",
     "output_type": "stream",
     "text": [
      "Sample Mean: 170.7239\n",
      "Sample Variance: 0.0246\n",
      "Sample Standard Deviation: 0.1568\n",
      "Sample Covariance: 0.0009\n"
     ]
    }
   ],
   "source": [
    "mean_demand = statistics.mean(demand)\n",
    "var_demand = statistics.variance(demand)\n",
    "stdev_demand = var_demand**0.5\n",
    "cov_demand = stdev_demand/mean_demand\n",
    "\n",
    "print(f\"Sample Mean: {mean_demand:.4f}\")\n",
    "print(f\"Sample Variance: {var_demand:.4f}\")\n",
    "print(f\"Sample Standard Deviation: {stdev_demand:.4f}\")\n",
    "print(f\"Sample Covariance: {cov_demand:.4f}\")"
   ],
   "metadata": {
    "collapsed": false,
    "ExecuteTime": {
     "end_time": "2024-12-18T15:53:11.800864Z",
     "start_time": "2024-12-18T15:53:11.786353Z"
    }
   },
   "id": "7a8c9c57ba52d955",
   "execution_count": 27
  },
  {
   "cell_type": "code",
   "outputs": [
    {
     "data": {
      "text/plain": "<Figure size 800x500 with 1 Axes>",
      "image/png": "[encoded data removed]"
     },
     "metadata": {},
     "output_type": "display_data"
    }
   ],
   "source": [
    "# Plot the histogram\n",
    "plt.figure(figsize=(8, 5))  # Optional: set the figure size\n",
    "plt.hist(demand, bins=10, color='blue', edgecolor='black')  # Customize bins and colors\n",
    "plt.title('Histogram of Demand Data')  # Add a title\n",
    "plt.xlabel('Demand')  # Label x-axis\n",
    "plt.ylabel('Frequency')  # Label y-axis\n",
    "plt.grid(axis='y', alpha=0.75)  # Add grid lines for better readability\n",
    "\n",
    "# Show the plot\n",
    "plt.show()"
   ],
   "metadata": {
    "collapsed": false,
    "ExecuteTime": {
     "end_time": "2024-12-18T15:53:11.925353Z",
     "start_time": "2024-12-18T15:53:11.802994Z"
    }
   },
   "id": "68378c33dacdd14a",
   "execution_count": 28
  },
  {
   "cell_type": "code",
   "outputs": [],
   "source": [],
   "metadata": {
    "collapsed": false,
    "ExecuteTime": {
     "end_time": "2024-12-18T15:53:11.941221Z",
     "start_time": "2024-12-18T15:53:11.927624Z"
    }
   },
   "id": "863e4d3ac77fbc94",
   "execution_count": 28
  }
 ],
 "metadata": {
  "kernelspec": {
   "display_name": "Python 3",
   "language": "python",
   "name": "python3"
  },
  "language_info": {
   "codemirror_mode": {
    "name": "ipython",
    "version": 2
   },
   "file_extension": ".py",
   "mimetype": "text/x-python",
   "name": "python",
   "nbconvert_exporter": "python",
   "pygments_lexer": "ipython2",
   "version": "2.7.6"
  }
 },
 "nbformat": 4,
 "nbformat_minor": 5
}
