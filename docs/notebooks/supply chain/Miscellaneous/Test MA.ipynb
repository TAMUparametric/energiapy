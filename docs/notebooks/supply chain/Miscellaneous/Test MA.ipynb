{
 "cells": [
  {
   "cell_type": "code",
   "execution_count": 1,
   "id": "initial_id",
   "metadata": {
    "collapsed": true,
    "ExecuteTime": {
     "end_time": "2024-12-18T16:08:42.470194Z",
     "start_time": "2024-12-18T16:08:41.865014Z"
    }
   },
   "outputs": [],
   "source": [
    "import pandas, random, math\n",
    "import numpy as np\n",
    "import matplotlib.pyplot as plt"
   ]
  },
  {
   "cell_type": "code",
   "outputs": [],
   "source": [
    "# Example time series data (stationary)\n",
    "random.seed(6)\n",
    "# data = np.random.normal(50, 10, 200)  # Simulated demand data\n",
    "n_points = 1500\n",
    "noise_std = random.randint(-50,50)  # Standard deviation of white noise\n",
    "base_demand = random.randint(150,175)  # Shift to ensure positivity\n",
    "\n",
    "# Initialize the series\n",
    "demand = []  # Start with a positive base demand\n",
    "noise = np.random.randint(0, noise_std, n_points)\n",
    "\n",
    "# demand.append(base_demand+noise[t] for t in range(0, n_points))\n",
    "\n",
    "for t in range(0, n_points):\n",
    "    next_value = base_demand + noise[t]\n",
    "    demand.append(next_value)"
   ],
   "metadata": {
    "collapsed": false,
    "ExecuteTime": {
     "end_time": "2024-12-18T16:08:42.485360Z",
     "start_time": "2024-12-18T16:08:42.472273Z"
    }
   },
   "id": "b4952b394e638051",
   "execution_count": 2
  },
  {
   "cell_type": "code",
   "outputs": [],
   "source": [
    "demand_df = pandas.DataFrame(data={'demand': demand})\n",
    "# demand_df"
   ],
   "metadata": {
    "collapsed": false,
    "ExecuteTime": {
     "end_time": "2024-12-18T16:09:50.278883Z",
     "start_time": "2024-12-18T16:09:50.271526Z"
    }
   },
   "id": "b99e87c8edd0c181",
   "execution_count": 5
  },
  {
   "cell_type": "code",
   "outputs": [],
   "source": [
    "look_back = 7"
   ],
   "metadata": {
    "collapsed": false,
    "ExecuteTime": {
     "end_time": "2024-12-18T16:10:50.781639Z",
     "start_time": "2024-12-18T16:10:50.768045Z"
    }
   },
   "id": "dfce78c19c159eb9",
   "execution_count": 6
  },
  {
   "cell_type": "code",
   "outputs": [],
   "source": [
    "y_actual = demand[look_back: len(demand)]\n",
    "y_actual_df = pandas.DataFrame(data={'y_actual': y_actual})\n",
    "# y_actual_df"
   ],
   "metadata": {
    "collapsed": false,
    "ExecuteTime": {
     "end_time": "2024-12-18T16:24:47.835453Z",
     "start_time": "2024-12-18T16:24:47.824865Z"
    }
   },
   "id": "e36f85f11d145173",
   "execution_count": 22
  },
  {
   "cell_type": "code",
   "outputs": [],
   "source": [],
   "metadata": {
    "collapsed": false,
    "ExecuteTime": {
     "end_time": "2024-12-18T16:16:06.977405Z",
     "start_time": "2024-12-18T16:16:06.940114Z"
    }
   },
   "id": "6aca37c5384dabb6",
   "execution_count": 16
  },
  {
   "cell_type": "code",
   "outputs": [],
   "source": [],
   "metadata": {
    "collapsed": false
   },
   "id": "43681941dcba139"
  }
 ],
 "metadata": {
  "kernelspec": {
   "display_name": "Python 3",
   "language": "python",
   "name": "python3"
  },
  "language_info": {
   "codemirror_mode": {
    "name": "ipython",
    "version": 2
   },
   "file_extension": ".py",
   "mimetype": "text/x-python",
   "name": "python",
   "nbconvert_exporter": "python",
   "pygments_lexer": "ipython2",
   "version": "2.7.6"
  }
 },
 "nbformat": 4,
 "nbformat_minor": 5
}
