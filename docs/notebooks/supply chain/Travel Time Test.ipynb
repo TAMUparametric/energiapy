{
 "cells": [
  {
   "cell_type": "code",
   "id": "initial_id",
   "metadata": {
    "collapsed": true,
    "ExecuteTime": {
     "end_time": "2025-02-09T23:19:44.641054Z",
     "start_time": "2025-02-09T23:19:43.633376Z"
    }
   },
   "source": [
    "import sys\n",
    "from itertools import product\n",
    "\n",
    "sys.path.append('../../../src/')\n",
    "import pandas\n",
    "import random\n",
    "import math\n",
    "from energiapy.components.temporal_scale import TemporalScale\n",
    "from energiapy.components.resource import Resource, VaryingResource\n",
    "from energiapy.components.process import Process, ProcessMode, VaryingProcess\n",
    "from energiapy.components.location import Location\n",
    "from energiapy.components.transport import Transport\n",
    "from energiapy.components.network import Network\n",
    "from energiapy.components.scenario import Scenario\n",
    "# from energiapy.model.constraints.demand import constraint_demand2\n",
    "from energiapy.components.result import Result\n",
    "from energiapy.model.formulate import formulate, Constraints, Objective\n",
    "from energiapy.plot import plot_results, plot_scenario, plot_location\n",
    "from energiapy.model.solve import solve\n",
    "from energiapy.utils.scale_utils import scale_pyomo_set, scale_tuple, scale_list\n",
    "import matplotlib.pyplot as plt\n",
    "from matplotlib import rc"
   ],
   "outputs": [],
   "execution_count": 1
  },
  {
   "cell_type": "code",
   "source": [
    "_time_intervals = 7  # Number of time intervals in a planning horizon    (L_chi)\n",
    "_coms = 1\n",
    "_exec_scenarios = 7  # Number of execution scenarios                     (chi)\n",
    "M = 1e4  # Big M\n",
    "\n",
    "start_ind = (3,1)\n",
    "end_ind = (5,4)\n",
    "# Define temporal scales\n",
    "scales = TemporalScale(discretization_list=[_exec_scenarios, _time_intervals], start_zero=start_ind, end_zero=end_ind)\n",
    "# scales = TemporalScale(discretization_list=[_exec_scenarios, _time_intervals])\n",
    "loc6_varying_factor = pandas.DataFrame(data={'com1_process': [1]*len(scales.scale[0])})\n",
    "\n",
    "annualization_factor = 1/len(scales.scale[0])"
   ],
   "metadata": {
    "collapsed": false,
    "ExecuteTime": {
     "end_time": "2025-02-09T23:19:44.644995Z",
     "start_time": "2025-02-09T23:19:44.642089Z"
    }
   },
   "id": "ef458eafb6398f46",
   "outputs": [],
   "execution_count": 2
  },
  {
   "cell_type": "code",
   "source": [
    "# ======================================================================================================================\n",
    "# Declare resources/commodities\n",
    "# ======================================================================================================================\n",
    "com1_pur = Resource(name='com1_pur', cons_max=75, block={'imp': 1, 'urg': 1}, price=0.00, label='Commodity 1 consumed from outside the system')\n",
    "\n",
    "com1_in = Resource(name='com1_in', label='Commodity 1 received')\n",
    "com1_out = Resource(name='com1_out', label='Commodity 1 to be sent out')\n",
    "\n",
    "com1_loc1_out = Resource(name='com1_loc1_out', label='Commodity 1 sent out from location 1')\n",
    "com1_loc2_out = Resource(name='com1_loc2_out', label='Commodity 1 sent out from location 2')\n",
    "com1_loc3_out = Resource(name='com1_loc3_out', label='Commodity 1 sent out from location 3')\n",
    "com1_loc4_out = Resource(name='com1_loc4_out', label='Commodity 1 sent out from location 4')\n",
    "com1_loc5_out = Resource(name='com1_loc5_out', label='Commodity 1 sent out from location 5')\n",
    "com1_loc6_out = Resource(name='com1_loc6_out', label='Commodity 1 sent out from location 6')\n",
    "com1_loc7_out = Resource(name='com1_loc7_out', label='Commodity 1 sent out from location 7')\n",
    "\n",
    "com1_sold = Resource(name='com1_sold', revenue=0.00, demand=True, sell=True, label='Commodity 1 sold to outside the system')"
   ],
   "metadata": {
    "collapsed": false,
    "ExecuteTime": {
     "end_time": "2025-02-09T23:19:44.652105Z",
     "start_time": "2025-02-09T23:19:44.644995Z"
    }
   },
   "id": "60f36a6e6469baeb",
   "outputs": [],
   "execution_count": 3
  },
  {
   "cell_type": "code",
   "source": [
    "# ======================================================================================================================\n",
    "# Declare processes/storage capacities\n",
    "# ======================================================================================================================\n",
    "com1_process_capacity = 125\n",
    "min_process_capacity = 0.01\n",
    "\n",
    "com1_procure = Process(name='procure com1', prod_max=125, conversion={com1_pur: -1, com1_in: 1}, capex=0.01, vopex=0.01, prod_min=min_process_capacity, label='Procure com1')\n",
    "com1_sell = Process(name='sell com1', prod_max=com1_process_capacity, conversion={com1_out: -1, com1_sold: 1}, capex=0.01, vopex=0.01, prod_min=min_process_capacity, label='Sell com1')\n",
    "\n",
    "com1_receive_loc1 = Process(name='com1_receive_loc1', prod_max=com1_process_capacity, conversion={com1_loc1_out:-1, com1_in:1}, capex=0.01, vopex=0.01, prod_min=min_process_capacity, label='Commodity 1 received from location 1')\n",
    "com1_receive_loc2 = Process(name='com1_receive_loc2', prod_max=com1_process_capacity, conversion={com1_loc2_out:-1, com1_in:1}, capex=0.01, vopex=0.01, prod_min=min_process_capacity, label='Commodity 1 received from location 2')\n",
    "com1_receive_loc3 = Process(name='com1_receive_loc3', prod_max=com1_process_capacity, conversion={com1_loc3_out:-1, com1_in:1}, capex=0.01, vopex=0.01, prod_min=min_process_capacity, label='Commodity 1 received from location 3')\n",
    "com1_receive_loc4 = Process(name='com1_receive_loc4', prod_max=com1_process_capacity, conversion={com1_loc4_out:-1, com1_in:1}, capex=0.01, vopex=0.01, prod_min=min_process_capacity, label='Commodity 1 received from location 4')\n",
    "com1_receive_loc5 = Process(name='com1_receive_loc5', prod_max=com1_process_capacity, conversion={com1_loc5_out:-1, com1_in:1}, capex=0.01, vopex=0.01, prod_min=min_process_capacity, label='Commodity 1 received from location 5')\n",
    "com1_receive_loc6 = Process(name='com1_receive_loc6', prod_max=com1_process_capacity, conversion={com1_loc6_out:-1, com1_in:1}, capex=0.01, vopex=0.01, prod_min=min_process_capacity, label='Commodity 1 received from location 6')\n",
    "com1_receive_loc7 = Process(name='com1_receive_loc7', prod_max=com1_process_capacity, conversion={com1_loc7_out:-1, com1_in:1}, capex=0.01, vopex=0.01, prod_min=min_process_capacity, label='Commodity 1 received from location 7')\n",
    "\n",
    "com1_process = Process(name='com1_process', prod_max=com1_process_capacity, conversion={com1_in: -1, com1_out: 1},  capex=0.01, vopex=0.01, prod_min=min_process_capacity, varying=[VaryingProcess.DETERMINISTIC_CAPACITY], label='Process the commodity through the location')\n",
    "\n",
    "# com1_process = Process(name='com1_process', prod_max=prod_max, conversion={0:{com1_in: -1, com1_out: 1}, 1:{com1_in: -1, com1_out: 1}, 2:{com1_in: -1, com1_out: 1}},  capex=0.01, vopex=0.01, prod_min=prod_min, rate_max=rate_max, varying=[VaryingProcess.DETERMINISTIC_CAPACITY], label='Process the commodity through the location')\n",
    "\n",
    "com1_store10 = Process(name='com1_store10', prod_max=com1_process_capacity, capex=100, vopex=1, store_min=0.01, store_max= 20, prod_min=min_process_capacity, label=\"Storage capacity of 10 units\", storage=com1_in, storage_cost=0.02)\n",
    "com1_store20 = Process(name='com1_store20', prod_max=com1_process_capacity, capex=200, vopex=2, store_min=0.01,store_max= 40, prod_min=min_process_capacity, label=\"Storage capacity of 20 units\", storage=com1_in, storage_cost=0.02)\n",
    "com1_store50 = Process(name='com1_store50', prod_max=com1_process_capacity, capex=500, vopex=5, store_min=0.01, store_max= 100, prod_min=min_process_capacity, label=\"Storage capacity of 50 units\", storage=com1_in, storage_cost=0.02)\n",
    "\n",
    "com1_loc1_send = Process(name='com1_loc1_send', prod_max=com1_process_capacity, conversion={com1_out:-1, com1_loc1_out:1}, capex=0.01, vopex=0.01, prod_min=min_process_capacity, label='Send commodity one from location 1')\n",
    "com1_loc2_send = Process(name='com1_loc2_send', prod_max=com1_process_capacity, conversion={com1_out:-1, com1_loc2_out:1}, capex=0.01, vopex=0.01, prod_min=min_process_capacity, label='Send commodity one from location 2')\n",
    "com1_loc3_send = Process(name='com1_loc3_send', prod_max=com1_process_capacity, conversion={com1_out:-1, com1_loc3_out:1}, capex=0.01, vopex=0.01, prod_min=min_process_capacity, label='Send commodity one from location 3')\n",
    "com1_loc4_send = Process(name='com1_loc4_send', prod_max=com1_process_capacity, conversion={com1_out:-1, com1_loc4_out:1}, capex=0.01, vopex=0.01, prod_min=min_process_capacity, label='Send commodity one from location 4')\n",
    "com1_loc5_send = Process(name='com1_loc5_send', prod_max=com1_process_capacity, conversion={com1_out:-1, com1_loc5_out:1}, capex=0.01, vopex=0.01, prod_min=min_process_capacity, label='Send commodity one from location 5')\n",
    "com1_loc6_send = Process(name='com1_loc6_send', prod_max=com1_process_capacity, conversion={com1_out:-1, com1_loc6_out:1}, capex=0.01, vopex=0.01, prod_min=min_process_capacity, label='Send commodity one from location 6')\n",
    "com1_loc7_send = Process(name='com1_loc7_send', prod_max=com1_process_capacity, conversion={com1_out:-1, com1_loc7_out:1}, capex=0.01, vopex=0.01, prod_min=min_process_capacity, label='Send commodity one from location 7')"
   ],
   "metadata": {
    "collapsed": false,
    "ExecuteTime": {
     "end_time": "2025-02-09T23:19:44.659861Z",
     "start_time": "2025-02-09T23:19:44.652105Z"
    }
   },
   "id": "80910ee3f2de3ae8",
   "outputs": [],
   "execution_count": 4
  },
  {
   "cell_type": "code",
   "source": [
    "# ======================================================================================================================\n",
    "# Declare locations/warehouses\n",
    "# ======================================================================================================================\n",
    "loc1 = Location(name='loc1', processes={com1_procure, com1_receive_loc2, com1_receive_loc3, com1_process, com1_store20, com1_loc1_send}, label=\"Location 1\", scales=scales, demand_scale_level=1, capacity_scale_level=0, availability_scale_level=0)\n",
    "\n",
    "loc2 = Location(name='loc2', processes={com1_receive_loc1, com1_receive_loc4, com1_receive_loc5, com1_process, com1_store20, com1_loc2_send}, label=\"Location 2\", scales=scales, demand_scale_level=1, capacity_scale_level=0, availability_scale_level=0)\n",
    "\n",
    "loc3 = Location(name='loc3', processes={com1_receive_loc1, com1_receive_loc4, com1_process, com1_store20, com1_loc3_send}, label=\"Location 3\", scales=scales, demand_scale_level=1, capacity_scale_level=0, availability_scale_level=0)\n",
    "\n",
    "loc4 = Location(name='loc4', processes={com1_receive_loc2, com1_receive_loc3, com1_receive_loc6, com1_receive_loc5, com1_receive_loc7, com1_process, com1_store50, com1_loc4_send}, label=\"Location 4\", scales=scales, demand_scale_level=1, capacity_scale_level=0, availability_scale_level=0)\n",
    "\n",
    "loc5 = Location(name='loc5', processes={com1_receive_loc2, com1_receive_loc4, com1_receive_loc7, com1_process, com1_store50, com1_loc5_send, com1_sell}, label=\"Location 5\", scales=scales, demand_scale_level=1, capacity_scale_level=0, availability_scale_level=0)\n",
    "\n",
    "loc6 = Location(name='loc6', processes={com1_procure, com1_receive_loc4, com1_process, com1_store10, com1_loc6_send}, label=\"Location 6\", scales=scales, demand_scale_level=1, capacity_scale_level=0, availability_scale_level=0, capacity_factor={com1_process: loc6_varying_factor[['com1_process']]})\n",
    "\n",
    "loc7 = Location(name='loc7', processes={com1_receive_loc4, com1_receive_loc5, com1_process, com1_store20, com1_loc7_send}, label=\"Location 7\", scales=scales, demand_scale_level=1, capacity_scale_level=0, availability_scale_level=0)"
   ],
   "metadata": {
    "collapsed": false,
    "ExecuteTime": {
     "end_time": "2025-02-09T23:19:44.669213Z",
     "start_time": "2025-02-09T23:19:44.660904Z"
    }
   },
   "id": "b16675a77dac7112",
   "outputs": [],
   "execution_count": 5
  },
  {
   "cell_type": "code",
   "source": [
    "# ======================================================================================================================\n",
    "# Declare transport/trucks\n",
    "# ======================================================================================================================\n",
    "\n",
    "truck_cap12 = 70\n",
    "truck_cap13 = 30\n",
    "truck_cap24 = 50\n",
    "truck_cap25 = 30\n",
    "truck_cap34 = 30\n",
    "truck_cap45 = 100\n",
    "truck_cap47 = 40\n",
    "truck_cap64 = 50\n",
    "truck_cap75 = 40\n",
    "\n",
    "truck_capmin = 0.01\n",
    "\n",
    "truck12 = Transport(name='truck12', resources={com1_loc1_out}, trans_max=truck_cap12, label='Truck from location 1 to 2', capex=0.5, vopex=0.05, trans_min=truck_capmin, speed=50)\n",
    "truck21 = Transport(name='truck21', resources={com1_loc2_out}, trans_max=truck_cap12, label='Truck from location 2 to 1', capex=0.0001, vopex=0.05, trans_min=truck_capmin, speed=50)\n",
    "\n",
    "truck13 = Transport(name='truck13', resources={com1_loc1_out}, trans_max=truck_cap13, label='Truck from location 1 to 3', capex=0.3, vopex=0.03, trans_min=truck_capmin, speed=50)\n",
    "truck31 = Transport(name='truck31', resources={com1_loc3_out}, trans_max=truck_cap13, label='Truck from location 3 to 1', capex=0.0001, vopex=0.03, trans_min=truck_capmin, speed=50)\n",
    "\n",
    "truck24 = Transport(name='truck24', resources={com1_loc2_out}, trans_max=truck_cap24, label='Truck from location 2 to 4', capex=0.5, vopex=0.05, trans_min=truck_capmin, speed=50)\n",
    "truck42 = Transport(name='truck42', resources={com1_loc4_out}, trans_max=truck_cap24, label='Truck from location 4 to 2', capex=0.0001, vopex=0.05, trans_min=truck_capmin, speed=50)\n",
    "\n",
    "truck25 = Transport(name='truck25', resources={com1_loc2_out}, trans_max=truck_cap25, label='Truck from location 2 to 5', capex=0.3, vopex=0.03, trans_min=truck_capmin, speed=50)\n",
    "truck52 = Transport(name='truck52', resources={com1_loc5_out}, trans_max=truck_cap25, label='Truck from location 5 to 2', capex=0.0001, vopex=0.03, trans_min=truck_capmin, speed=50)\n",
    "\n",
    "truck34 = Transport(name='truck34', resources={com1_loc3_out}, trans_max=truck_cap34, label='Truck from location 3 to 4', capex=0.2, vopex=0.02, trans_min=truck_capmin, speed=50)\n",
    "truck43 = Transport(name='truck43', resources={com1_loc4_out}, trans_max=truck_cap34, label='Truck from location 4 to 3', capex=0.0001, vopex=0.02, trans_min=truck_capmin, speed=50)\n",
    "\n",
    "truck45 = Transport(name='truck45', resources={com1_loc4_out}, trans_max=truck_cap45, label='Truck from location 4 to 5', capex=1, vopex=0.1, trans_min=truck_capmin, speed=50)\n",
    "truck54 = Transport(name='truck54', resources={com1_loc5_out}, trans_max=truck_cap45, label='Truck from location 5 to 4', capex=0.0001, vopex=0.1, trans_min=truck_capmin, speed=50)\n",
    "\n",
    "truck47 = Transport(name='truck47', resources={com1_loc4_out}, trans_max=truck_cap47, label='Truck from location 4 to 7', capex=0.4, vopex=0.04, trans_min=truck_capmin, speed=50)\n",
    "truck74 = Transport(name='truck74', resources={com1_loc7_out}, trans_max=truck_cap47, label='Truck from location 7 to 4', capex=0.0001, vopex=0.04, trans_min=truck_capmin, speed=50)\n",
    "\n",
    "truck64 = Transport(name='truck64', resources={com1_loc6_out}, trans_max=truck_cap64, label='Truck from location 6 to 4', capex=0.5, vopex=0.05, trans_min=truck_capmin, speed=50)\n",
    "truck46 = Transport(name='truck46', resources={com1_loc4_out}, trans_max=truck_cap64, label='Truck from location 4 to 6', capex=0.0001, vopex=0.05, trans_min=truck_capmin, speed=50)\n",
    "\n",
    "truck75 = Transport(name='truck75', resources={com1_loc7_out}, trans_max=truck_cap75, label='Truck from location 7 to 5', capex=0.4, vopex=0.04, trans_min=truck_capmin, speed=50)\n",
    "truck57 = Transport(name='truck57', resources={com1_loc5_out}, trans_max=truck_cap75, label='Truck from location 5 to 7', capex=0.0001, vopex=0.04, trans_min=truck_capmin, speed=50)"
   ],
   "metadata": {
    "collapsed": false,
    "ExecuteTime": {
     "end_time": "2025-02-09T23:19:44.674600Z",
     "start_time": "2025-02-09T23:19:44.669213Z"
    }
   },
   "id": "bed2508d80d849c9",
   "outputs": [],
   "execution_count": 6
  },
  {
   "cell_type": "code",
   "source": [
    "# ======================================================================================================================\n",
    "# Declare network\n",
    "# ======================================================================================================================\n",
    "\n",
    "# transport_matrix = [\n",
    "#     [[], [truck50_12], [truck30_13], [], [], [], []],  # source: location 1\n",
    "#     [[truck50_21], [], [], [truck50_24], [truck30_25], [], []],  # source: location 2\n",
    "#     [[truck30_31], [], [], [truck20_34], [], [], []],  # source: location 3\n",
    "#     [[], [truck50_42], [truck20_43], [], [truck100_45], [truck50_46], [truck40_47]],  # source: location 4\n",
    "#     [[], [truck30_52], [], [truck100_54], [], [], [truck40_57]],  # source: location 5\n",
    "#     [[], [], [], [truck50_64], [], [], []],  # source: location 6\n",
    "#     [[], [], [], [truck40_74], [truck40_75], [], []]  # source: location 7\n",
    "# ]\n",
    "\n",
    "transport_matrix = [\n",
    "    [[], [truck12], [truck13], [], [], [], []],  # source: location 1\n",
    "    [[truck21], [], [], [truck24], [truck25], [], []],  # source: location 2\n",
    "    [[truck31], [], [], [truck34], [], [], []],  # source: location 3\n",
    "    [[], [truck42], [truck43], [], [truck45], [truck46], [truck47]],  # source: location 4\n",
    "    [[], [truck52], [], [truck54], [], [], [truck57]],  # source: location 5\n",
    "    [[], [], [], [truck64], [], [], []],  # source: location 6\n",
    "    [[], [], [], [truck74], [truck75], [], []]  # source: location 7\n",
    "]\n",
    "\n",
    "distance_matrix = [\n",
    "    [0, 55, 196, M, M, M, M],\n",
    "    [55, 0, M, 163, 112, M, 134],\n",
    "    [196, M, 0, 63, M, M, M],\n",
    "    [M, 163, 63, 0, 95, 117, 88],\n",
    "    [M, 112, M, 95, 0, M, 134],\n",
    "    [M, M, M, 117, M, 0, M],\n",
    "    [M, 134, M, 88, 134, M, 0]\n",
    "]\n",
    "\n",
    "locset = [loc1, loc2, loc3, loc4, loc5, loc6, loc7]\n",
    "\n",
    "sources = locset\n",
    "sinks = locset\n",
    "\n",
    "network = Network(name='Network', scales= scales, source_locations=sources, sink_locations=sinks, transport_matrix=transport_matrix, distance_matrix=distance_matrix)\n"
   ],
   "metadata": {
    "collapsed": false,
    "ExecuteTime": {
     "end_time": "2025-02-09T23:19:44.682321Z",
     "start_time": "2025-02-09T23:19:44.674600Z"
    }
   },
   "id": "56772c018d087e4b",
   "outputs": [],
   "execution_count": 7
  },
  {
   "cell_type": "code",
   "source": [
    "daily_demand = 100\n",
    "demand_penalty = 50\n",
    "\n",
    "demand_dict = {i: {com1_sold: daily_demand} if i == loc5 else {com1_sold: 0} for i in locset}\n",
    "demand_penalty_dict = {i: {com1_sold: demand_penalty} if i == loc5 else {com1_sold: 0} for i in locset}\n",
    "\n",
    "scenario = Scenario(name='scenario_baseline', scales=scales, scheduling_scale_level=1, network_scale_level=0, purchase_scale_level=1, availability_scale_level=0, demand_scale_level=1, capacity_scale_level=0, network=network, demand=demand_dict, demand_penalty=demand_penalty_dict, label='Baseline Scenario', annualization_factor=annualization_factor)"
   ],
   "metadata": {
    "collapsed": false,
    "ExecuteTime": {
     "end_time": "2025-02-09T23:19:44.689553Z",
     "start_time": "2025-02-09T23:19:44.683351Z"
    }
   },
   "id": "2b0aa9a694452b6",
   "outputs": [],
   "execution_count": 8
  },
  {
   "cell_type": "code",
   "source": [
    "problem_mincost = formulate(scenario=scenario,\n",
    "                            # constraints={Constraints.COST, Constraints.TRANSPORT, Constraints.RESOURCE_BALANCE, Constraints.INVENTORY, Constraints.PRODUCTION, Constraints.DEMAND, Constraints.MODE, Constraints.NETWORK, Constraints.PRESERVE_NETWORK},\n",
    "                            constraints={Constraints.INVENTORY},\n",
    "                            demand_sign='eq', objective=Objective.COST_W_DEMAND_PENALTY)"
   ],
   "metadata": {
    "collapsed": false,
    "ExecuteTime": {
     "end_time": "2025-02-09T23:19:45.089347Z",
     "start_time": "2025-02-09T23:19:44.689553Z"
    }
   },
   "id": "ae40a3815859d523",
   "outputs": [
    {
     "name": "stdout",
     "output_type": "stream",
     "text": [
      "Inv<=Cap_S\n",
      "Cap_S<=Cap_SMAX\n",
      "Cap_S>=MAX\n",
      "constraint demand penalty\n",
      "constraint demand penalty location\n",
      "constraint demand penalty network\n",
      "constraint demand penalty cost\n",
      "constraint demand penalty cost location\n",
      "constraint demand penalty cost network\n",
      "objective cost w demand penalty\n"
     ]
    }
   ],
   "execution_count": 9
  },
  {
   "cell_type": "code",
   "outputs": [
    {
     "name": "stdout",
     "output_type": "stream",
     "text": [
      "constraint_nameplate_inventory : restricts inventory to certain nameplate capacity\n",
      "    Size=0, Index=locations*resources_store*{3, 4, 5}*{0, 1, 2, 3, 4, 5, 6}, Active=True\n",
      "    Key : Lower : Body : Upper : Active\n"
     ]
    }
   ],
   "source": [
    "problem_mincost.constraint_nameplate_inventory.pprint()"
   ],
   "metadata": {
    "collapsed": false,
    "ExecuteTime": {
     "end_time": "2025-02-09T23:19:45.092484Z",
     "start_time": "2025-02-09T23:19:45.089347Z"
    }
   },
   "id": "51311442c0f4a309",
   "execution_count": 10
  },
  {
   "cell_type": "code",
   "outputs": [
    {
     "name": "stdout",
     "output_type": "stream",
     "text": [
      "resources_store : Set of storeable resources\n",
      "    Size=1, Index=None, Ordered=Insertion\n",
      "    Key  : Dimen : Domain : Size : Members\n",
      "    None :     1 :    Any :    3 : {'com1_store10_com1_in_stored', 'com1_store20_com1_in_stored', 'com1_store50_com1_in_stored'}\n"
     ]
    }
   ],
   "source": [
    "problem_mincost.resources_store.pprint()"
   ],
   "metadata": {
    "collapsed": false,
    "ExecuteTime": {
     "end_time": "2025-02-09T23:19:45.113544Z",
     "start_time": "2025-02-09T23:19:45.092484Z"
    }
   },
   "id": "4f0a0b88824dfb82",
   "execution_count": 11
  },
  {
   "cell_type": "code",
   "outputs": [
    {
     "name": "stdout",
     "output_type": "stream",
     "text": [
      "constraint_storage_max : restricts nameplate inventory to some UB\n",
      "    Size=21, Index=locations*resources_store*{3, 4, 5}, Active=True\n",
      "    Key                                        : Lower : Body                                      : Upper : Active\n",
      "    ('loc1', 'com1_store10_com1_in_stored', 3) :   0.0 : Cap_S[loc1,com1_store10_com1_in_stored,3] :   0.0 :   True\n",
      "    ('loc1', 'com1_store20_com1_in_stored', 3) :  -Inf : Cap_S[loc1,com1_store20_com1_in_stored,3] :  40.0 :   True\n",
      "    ('loc1', 'com1_store50_com1_in_stored', 3) :   0.0 : Cap_S[loc1,com1_store50_com1_in_stored,3] :   0.0 :   True\n",
      "    ('loc2', 'com1_store10_com1_in_stored', 3) :   0.0 : Cap_S[loc2,com1_store10_com1_in_stored,3] :   0.0 :   True\n",
      "    ('loc2', 'com1_store20_com1_in_stored', 3) :  -Inf : Cap_S[loc2,com1_store20_com1_in_stored,3] :  40.0 :   True\n",
      "    ('loc2', 'com1_store50_com1_in_stored', 3) :   0.0 : Cap_S[loc2,com1_store50_com1_in_stored,3] :   0.0 :   True\n",
      "    ('loc3', 'com1_store10_com1_in_stored', 3) :   0.0 : Cap_S[loc3,com1_store10_com1_in_stored,3] :   0.0 :   True\n",
      "    ('loc3', 'com1_store20_com1_in_stored', 3) :  -Inf : Cap_S[loc3,com1_store20_com1_in_stored,3] :  40.0 :   True\n",
      "    ('loc3', 'com1_store50_com1_in_stored', 3) :   0.0 : Cap_S[loc3,com1_store50_com1_in_stored,3] :   0.0 :   True\n",
      "    ('loc4', 'com1_store10_com1_in_stored', 3) :   0.0 : Cap_S[loc4,com1_store10_com1_in_stored,3] :   0.0 :   True\n",
      "    ('loc4', 'com1_store20_com1_in_stored', 3) :   0.0 : Cap_S[loc4,com1_store20_com1_in_stored,3] :   0.0 :   True\n",
      "    ('loc4', 'com1_store50_com1_in_stored', 3) :  -Inf : Cap_S[loc4,com1_store50_com1_in_stored,3] : 100.0 :   True\n",
      "    ('loc5', 'com1_store10_com1_in_stored', 3) :   0.0 : Cap_S[loc5,com1_store10_com1_in_stored,3] :   0.0 :   True\n",
      "    ('loc5', 'com1_store20_com1_in_stored', 3) :   0.0 : Cap_S[loc5,com1_store20_com1_in_stored,3] :   0.0 :   True\n",
      "    ('loc5', 'com1_store50_com1_in_stored', 3) :  -Inf : Cap_S[loc5,com1_store50_com1_in_stored,3] : 100.0 :   True\n",
      "    ('loc6', 'com1_store10_com1_in_stored', 3) :  -Inf : Cap_S[loc6,com1_store10_com1_in_stored,3] :  20.0 :   True\n",
      "    ('loc6', 'com1_store20_com1_in_stored', 3) :   0.0 : Cap_S[loc6,com1_store20_com1_in_stored,3] :   0.0 :   True\n",
      "    ('loc6', 'com1_store50_com1_in_stored', 3) :   0.0 : Cap_S[loc6,com1_store50_com1_in_stored,3] :   0.0 :   True\n",
      "    ('loc7', 'com1_store10_com1_in_stored', 3) :   0.0 : Cap_S[loc7,com1_store10_com1_in_stored,3] :   0.0 :   True\n",
      "    ('loc7', 'com1_store20_com1_in_stored', 3) :  -Inf : Cap_S[loc7,com1_store20_com1_in_stored,3] :  40.0 :   True\n",
      "    ('loc7', 'com1_store50_com1_in_stored', 3) :   0.0 : Cap_S[loc7,com1_store50_com1_in_stored,3] :   0.0 :   True\n"
     ]
    }
   ],
   "source": [
    "problem_mincost.constraint_storage_max.pprint()"
   ],
   "metadata": {
    "collapsed": false,
    "ExecuteTime": {
     "end_time": "2025-02-09T23:27:42.751530Z",
     "start_time": "2025-02-09T23:27:42.748036Z"
    }
   },
   "id": "f3ebd60fb07f7545",
   "execution_count": 17
  },
  {
   "cell_type": "code",
   "outputs": [
    {
     "name": "stdout",
     "output_type": "stream",
     "text": [
      "constraint_storage_min : restricts nameplate inventory to some LB\n",
      "    Size=21, Index=locations*resources_store*{3, 4, 5}, Active=True\n",
      "    Key                                        : Lower : Body                                      : Upper : Active\n",
      "    ('loc1', 'com1_store10_com1_in_stored', 3) :   0.0 : Cap_S[loc1,com1_store10_com1_in_stored,3] :   0.0 :   True\n",
      "    ('loc1', 'com1_store20_com1_in_stored', 3) :  0.01 : Cap_S[loc1,com1_store20_com1_in_stored,3] :  +Inf :   True\n",
      "    ('loc1', 'com1_store50_com1_in_stored', 3) :   0.0 : Cap_S[loc1,com1_store50_com1_in_stored,3] :   0.0 :   True\n",
      "    ('loc2', 'com1_store10_com1_in_stored', 3) :   0.0 : Cap_S[loc2,com1_store10_com1_in_stored,3] :   0.0 :   True\n",
      "    ('loc2', 'com1_store20_com1_in_stored', 3) :  0.01 : Cap_S[loc2,com1_store20_com1_in_stored,3] :  +Inf :   True\n",
      "    ('loc2', 'com1_store50_com1_in_stored', 3) :   0.0 : Cap_S[loc2,com1_store50_com1_in_stored,3] :   0.0 :   True\n",
      "    ('loc3', 'com1_store10_com1_in_stored', 3) :   0.0 : Cap_S[loc3,com1_store10_com1_in_stored,3] :   0.0 :   True\n",
      "    ('loc3', 'com1_store20_com1_in_stored', 3) :  0.01 : Cap_S[loc3,com1_store20_com1_in_stored,3] :  +Inf :   True\n",
      "    ('loc3', 'com1_store50_com1_in_stored', 3) :   0.0 : Cap_S[loc3,com1_store50_com1_in_stored,3] :   0.0 :   True\n",
      "    ('loc4', 'com1_store10_com1_in_stored', 3) :   0.0 : Cap_S[loc4,com1_store10_com1_in_stored,3] :   0.0 :   True\n",
      "    ('loc4', 'com1_store20_com1_in_stored', 3) :   0.0 : Cap_S[loc4,com1_store20_com1_in_stored,3] :   0.0 :   True\n",
      "    ('loc4', 'com1_store50_com1_in_stored', 3) :  0.01 : Cap_S[loc4,com1_store50_com1_in_stored,3] :  +Inf :   True\n",
      "    ('loc5', 'com1_store10_com1_in_stored', 3) :   0.0 : Cap_S[loc5,com1_store10_com1_in_stored,3] :   0.0 :   True\n",
      "    ('loc5', 'com1_store20_com1_in_stored', 3) :   0.0 : Cap_S[loc5,com1_store20_com1_in_stored,3] :   0.0 :   True\n",
      "    ('loc5', 'com1_store50_com1_in_stored', 3) :  0.01 : Cap_S[loc5,com1_store50_com1_in_stored,3] :  +Inf :   True\n",
      "    ('loc6', 'com1_store10_com1_in_stored', 3) :  0.01 : Cap_S[loc6,com1_store10_com1_in_stored,3] :  +Inf :   True\n",
      "    ('loc6', 'com1_store20_com1_in_stored', 3) :   0.0 : Cap_S[loc6,com1_store20_com1_in_stored,3] :   0.0 :   True\n",
      "    ('loc6', 'com1_store50_com1_in_stored', 3) :   0.0 : Cap_S[loc6,com1_store50_com1_in_stored,3] :   0.0 :   True\n",
      "    ('loc7', 'com1_store10_com1_in_stored', 3) :   0.0 : Cap_S[loc7,com1_store10_com1_in_stored,3] :   0.0 :   True\n",
      "    ('loc7', 'com1_store20_com1_in_stored', 3) :  0.01 : Cap_S[loc7,com1_store20_com1_in_stored,3] :  +Inf :   True\n",
      "    ('loc7', 'com1_store50_com1_in_stored', 3) :   0.0 : Cap_S[loc7,com1_store50_com1_in_stored,3] :   0.0 :   True\n"
     ]
    }
   ],
   "source": [
    "problem_mincost.constraint_storage_min.pprint()"
   ],
   "metadata": {
    "collapsed": false,
    "ExecuteTime": {
     "end_time": "2025-02-09T23:28:02.017868Z",
     "start_time": "2025-02-09T23:28:02.014449Z"
    }
   },
   "id": "9b9d40f8f774c011",
   "execution_count": 18
  },
  {
   "cell_type": "code",
   "source": [
    "# results_mincost = solve(scenario=scenario, instance=problem_mincost, solver='gurobi', name='MILP')"
   ],
   "metadata": {
    "collapsed": false,
    "ExecuteTime": {
     "end_time": "2025-02-09T23:19:45.119075Z",
     "start_time": "2025-02-09T23:19:45.114615Z"
    }
   },
   "id": "8046029d49318562",
   "outputs": [],
   "execution_count": 12
  },
  {
   "cell_type": "code",
   "source": [
    "# plot_results.schedule(results=results_mincost, y_axis='S', component='com1_sold', location='loc5', color='green')"
   ],
   "metadata": {
    "collapsed": false,
    "ExecuteTime": {
     "end_time": "2025-02-09T23:19:45.123579Z",
     "start_time": "2025-02-09T23:19:45.119075Z"
    }
   },
   "id": "5a4cc576cd956214",
   "outputs": [],
   "execution_count": 13
  },
  {
   "cell_type": "code",
   "source": [
    "# plot_results.schedule(results=results_mincost, y_axis='P', component='com1_process', location='loc1', color='green')\n",
    "# plot_results.schedule(results=results_mincost, y_axis='P', component='com1_process', location='loc2', color='green')\n",
    "# plot_results.schedule(results=results_mincost, y_axis='P', component='com1_process', location='loc3', color='green')\n",
    "# plot_results.schedule(results=results_mincost, y_axis='P', component='com1_process', location='loc4', color='green')\n",
    "# plot_results.schedule(results=results_mincost, y_axis='P', component='com1_process', location='loc5', color='green')\n",
    "# plot_results.schedule(results=results_mincost, y_axis='P', component='com1_process', location='loc6', color='green')\n",
    "# plot_results.schedule(results=results_mincost, y_axis='P', component='com1_process', location='loc7', color='green')"
   ],
   "metadata": {
    "collapsed": false,
    "ExecuteTime": {
     "end_time": "2025-02-09T23:19:45.131014Z",
     "start_time": "2025-02-09T23:19:45.124684Z"
    }
   },
   "id": "f25a147deef842c9",
   "outputs": [],
   "execution_count": 14
  },
  {
   "cell_type": "code",
   "source": [
    "# plot_results.schedule(results=results_mincost, y_axis='Inv', component='com1_store20_com1_in_stored', location='loc1', color='green')\n",
    "# plot_results.schedule(results=results_mincost, y_axis='Inv', component='com1_store20_com1_in_stored', location='loc2', color='green')\n",
    "# plot_results.schedule(results=results_mincost, y_axis='Inv', component='com1_store20_com1_in_stored', location='loc3', color='green')\n",
    "# plot_results.schedule(results=results_mincost, y_axis='Inv', component='com1_store50_com1_in_stored', location='loc4', color='green')\n",
    "# plot_results.schedule(results=results_mincost, y_axis='Inv', component='com1_store50_com1_in_stored', location='loc5', color='green')\n",
    "# plot_results.schedule(results=results_mincost, y_axis='Inv', component='com1_store10_com1_in_stored', location='loc6', color='green')\n",
    "# plot_results.schedule(results=results_mincost, y_axis='Inv', component='com1_store20_com1_in_stored', location='loc7', color='green')"
   ],
   "metadata": {
    "collapsed": false,
    "ExecuteTime": {
     "end_time": "2025-02-09T23:19:45.135594Z",
     "start_time": "2025-02-09T23:19:45.131758Z"
    }
   },
   "id": "29c391094ff51c49",
   "outputs": [],
   "execution_count": 15
  },
  {
   "cell_type": "code",
   "source": [
    "# plot_results.transport(results=results_mincost, source='loc1', sink='loc2', resource='com1_loc1_out', transport='truck12')\n",
    "# plot_results.transport(results=results_mincost, source='loc1', sink='loc3', resource='com1_loc1_out', transport='truck13')\n",
    "# plot_results.transport(results=results_mincost, source='loc2', sink='loc4', resource='com1_loc2_out', transport='truck24')\n",
    "# plot_results.transport(results=results_mincost, source='loc2', sink='loc5', resource='com1_loc2_out', transport='truck25')\n",
    "# plot_results.transport(results=results_mincost, source='loc3', sink='loc4', resource='com1_loc3_out', transport='truck34')\n",
    "# plot_results.transport(results=results_mincost, source='loc4', sink='loc5', resource='com1_loc4_out', transport='truck45')\n",
    "# plot_results.transport(results=results_mincost, source='loc4', sink='loc7', resource='com1_loc4_out', transport='truck47')\n",
    "# plot_results.transport(results=results_mincost, source='loc6', sink='loc4', resource='com1_loc6_out', transport='truck64')\n",
    "# plot_results.transport(results=results_mincost, source='loc7', sink='loc5', resource='com1_loc7_out', transport='truck75')"
   ],
   "metadata": {
    "collapsed": false,
    "ExecuteTime": {
     "end_time": "2025-02-09T23:19:45.139900Z",
     "start_time": "2025-02-09T23:19:45.135594Z"
    }
   },
   "id": "2cae9bc520c044fb",
   "outputs": [],
   "execution_count": 16
  },
  {
   "cell_type": "code",
   "outputs": [],
   "source": [],
   "metadata": {
    "collapsed": false,
    "ExecuteTime": {
     "end_time": "2025-02-09T23:19:45.142179Z",
     "start_time": "2025-02-09T23:19:45.140464Z"
    }
   },
   "id": "5c46fc08e2d42122",
   "execution_count": 16
  }
 ],
 "metadata": {
  "kernelspec": {
   "display_name": "Python 3",
   "language": "python",
   "name": "python3"
  },
  "language_info": {
   "codemirror_mode": {
    "name": "ipython",
    "version": 2
   },
   "file_extension": ".py",
   "mimetype": "text/x-python",
   "name": "python",
   "nbconvert_exporter": "python",
   "pygments_lexer": "ipython2",
   "version": "2.7.6"
  }
 },
 "nbformat": 4,
 "nbformat_minor": 5
}
