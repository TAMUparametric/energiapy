{
 "cells": [
  {
   "cell_type": "code",
   "execution_count": 2,
   "id": "initial_id",
   "metadata": {
    "collapsed": true,
    "ExecuteTime": {
     "end_time": "2025-04-21T19:38:49.288870Z",
     "start_time": "2025-04-21T19:38:47.495122Z"
    }
   },
   "outputs": [
    {
     "name": "stdout",
     "output_type": "stream",
     "text": [
      "[    0.00] Initializing mpi-sppy\n"
     ]
    }
   ],
   "source": [
    "import pickle\n",
    "import sys\n",
    "sys.path.append(\"../../../src\")\n",
    "import pandas\n",
    "import random\n",
    "import math\n",
    "from energiapy.components.temporal_scale import TemporalScale\n",
    "from energiapy.components.resource import Resource, VaryingResource\n",
    "from energiapy.components.process import Process, ProcessMode, VaryingProcess\n",
    "from energiapy.components.location import Location\n",
    "from energiapy.components.transport import Transport, VaryingTransport\n",
    "from energiapy.components.network import Network\n",
    "from energiapy.components.scenario import Scenario\n",
    "from energiapy.model.constraints.demand import constraint_demand_lb\n",
    "from energiapy.components.result import Result\n",
    "from energiapy.model.formulate import formulate, Constraints, Objective\n",
    "from energiapy.plot import plot_results, plot_scenario, plot_location\n",
    "from energiapy.model.solve import solve\n",
    "from pyomo.environ import Param\n",
    "from pyomo.environ import value as pyo_val\n",
    "from energiapy.utils.scale_utils import scale_pyomo_set, scale_tuple, scale_list, scale_changer\n",
    "import matplotlib.pyplot as plt\n",
    "from matplotlib import rc\n",
    "from typing import Union, Tuple, List\n",
    "from pyomo.environ import ConcreteModel, Var, Constraint, NonNegativeReals\n",
    "import pickle\n",
    "from pyomo.contrib.iis import write_iis\n",
    "import time\n",
    "\n",
    "# import mpisppy.utils.sputils as sputils\n",
    "from mpisppy.opt.ef import ExtensiveForm\n",
    "import networkx as nx"
   ]
  },
  {
   "cell_type": "code",
   "outputs": [],
   "source": [
    "schedule_time_intervals = 7  # Number of time intervals in a planning horizon\n",
    "_coms = 1\n",
    "design_exec_scenarios = 4  # Number of execution scenarios\n",
    "schedule_exec_scenarios = 52\n",
    "\n",
    "M = 1e3  # Big M\n",
    "# Define temporal scales\n",
    "# scales = TemporalScale(discretization_list=[_exec_scenarios, _time_intervals])\n",
    "design_annualization_factor = 1/design_exec_scenarios\n",
    "schedule_annualization_factor = 1"
   ],
   "metadata": {
    "collapsed": false,
    "ExecuteTime": {
     "end_time": "2025-04-21T19:38:49.304326Z",
     "start_time": "2025-04-21T19:38:49.289933Z"
    }
   },
   "id": "3922c0861fcc9c5c",
   "execution_count": 3
  },
  {
   "cell_type": "code",
   "outputs": [],
   "source": [
    "def build_schedule_model(start_time:tuple, end_time:tuple, scen_df=pandas.DataFrame(), eps:float=1.0):\n",
    "    default_df = pandas.DataFrame(data=[1] * schedule_exec_scenarios)\n",
    "    scale_factor = 1\n",
    "    fudge_factor = 5\n",
    "    \n",
    "    # Define temporal scales\n",
    "    scales = TemporalScale(discretization_list=[1, schedule_exec_scenarios, schedule_time_intervals], start_zero=start_time, end_zero=end_time)\n",
    "    \n",
    "    # ======================================================================================================================\n",
    "    # Declare resources/commodities\n",
    "    # ======================================================================================================================\n",
    "    com1_pur = Resource(name='com1_pur', cons_max=75*scale_factor, block={'imp': 1, 'urg': 1}, price=0.00, label='Commodity 1 consumed from outside the system', varying=[VaryingResource.DETERMINISTIC_AVAILABILITY])\n",
    "    \n",
    "    com1_in = Resource(name='com1_in', label='Commodity 1 received')\n",
    "    com1_out = Resource(name='com1_out', label='Commodity 1 to be sent out')\n",
    "    \n",
    "    com1_loc1_out = Resource(name='com1_loc1_out', label='Commodity 1 sent out from location 1')\n",
    "    com1_loc2_out = Resource(name='com1_loc2_out', label='Commodity 1 sent out from location 2')\n",
    "    com1_loc3_out = Resource(name='com1_loc3_out', label='Commodity 1 sent out from location 3')\n",
    "    com1_loc4_out = Resource(name='com1_loc4_out', label='Commodity 1 sent out from location 4')\n",
    "    com1_loc5_out = Resource(name='com1_loc5_out', label='Commodity 1 sent out from location 5')\n",
    "    com1_loc6_out = Resource(name='com1_loc6_out', label='Commodity 1 sent out from location 6')\n",
    "    com1_loc7_out = Resource(name='com1_loc7_out', label='Commodity 1 sent out from location 7')\n",
    "    \n",
    "    com1_sold = Resource(name='com1_sold', revenue=0.00, demand=True, sell=True, label='Commodity 1 sold to outside the system', varying=[VaryingResource.DETERMINISTIC_DEMAND])\n",
    "    \n",
    "    # ======================================================================================================================\n",
    "    # Declare processes/storage capacities\n",
    "    # ======================================================================================================================\n",
    "    com1_process_capacity = 150*scale_factor*fudge_factor\n",
    "    min_process_capacity = 0.01\n",
    "    \n",
    "    com1_procure = Process(name='procure com1', prod_max=com1_process_capacity, conversion={com1_pur: -1, com1_in: 1}, capex=0.1/scale_factor, vopex=0.01, prod_min=min_process_capacity, label='Procure com1')\n",
    "    com1_sell = Process(name='sell com1', prod_max=com1_process_capacity, conversion={com1_out: -1, com1_sold: 1}, capex=0.01/scale_factor, vopex=0.01, prod_min=min_process_capacity, label='Sell com1')\n",
    "    \n",
    "    com1_receive_loc1 = Process(name='com1_receive_loc1', prod_max=com1_process_capacity, conversion={com1_loc1_out:-1, com1_in:1}, capex=0.01/scale_factor, vopex=0.01, prod_min=min_process_capacity, label='Commodity 1 received from location 1')\n",
    "    com1_receive_loc2 = Process(name='com1_receive_loc2', prod_max=com1_process_capacity, conversion={com1_loc2_out:-1, com1_in:1}, capex=0.01/scale_factor, vopex=0.01, prod_min=min_process_capacity, label='Commodity 1 received from location 2')\n",
    "    com1_receive_loc3 = Process(name='com1_receive_loc3', prod_max=com1_process_capacity, conversion={com1_loc3_out:-1, com1_in:1}, capex=0.01/scale_factor, vopex=0.01, prod_min=min_process_capacity, label='Commodity 1 received from location 3')\n",
    "    com1_receive_loc4 = Process(name='com1_receive_loc4', prod_max=com1_process_capacity, conversion={com1_loc4_out:-1, com1_in:1}, capex=0.01/scale_factor, vopex=0.01, prod_min=min_process_capacity, label='Commodity 1 received from location 4')\n",
    "    com1_receive_loc5 = Process(name='com1_receive_loc5', prod_max=com1_process_capacity, conversion={com1_loc5_out:-1, com1_in:1}, capex=0.01/scale_factor, vopex=0.01, prod_min=min_process_capacity, label='Commodity 1 received from location 5')\n",
    "    com1_receive_loc6 = Process(name='com1_receive_loc6', prod_max=com1_process_capacity, conversion={com1_loc6_out:-1, com1_in:1}, capex=0.01/scale_factor, vopex=0.01, prod_min=min_process_capacity, label='Commodity 1 received from location 6')\n",
    "    com1_receive_loc7 = Process(name='com1_receive_loc7', prod_max=com1_process_capacity, conversion={com1_loc7_out:-1, com1_in:1}, capex=0.01/scale_factor, vopex=0.01, prod_min=min_process_capacity, label='Commodity 1 received from location 7')\n",
    "    \n",
    "    com1_process = Process(name='com1_process', prod_max=com1_process_capacity, conversion={com1_in: -1, com1_out: 1},  capex=0.01/scale_factor, vopex=0.01, prod_min=min_process_capacity, varying=[VaryingProcess.DETERMINISTIC_CAPACITY], label='Process the commodity through the location')\n",
    "    \n",
    "    com1_store = Process(name='com1_store', prod_max=com1_process_capacity, capex=0.01/scale_factor, vopex=5, store_min=0.01, store_max= 100*scale_factor*fudge_factor, prod_min=min_process_capacity, label=\"Storage capacity of upto 100 units\", storage=com1_in, storage_cost=0.02, storage_capex=50/scale_factor)\n",
    "    \n",
    "    com1_loc1_send = Process(name='com1_loc1_send', prod_max=com1_process_capacity, conversion={com1_out:-1, com1_loc1_out:1}, capex=0.01/scale_factor, vopex=0.01, prod_min=min_process_capacity, label='Send commodity one from location 1')\n",
    "    com1_loc2_send = Process(name='com1_loc2_send', prod_max=com1_process_capacity, conversion={com1_out:-1, com1_loc2_out:1}, capex=0.01/scale_factor, vopex=0.01, prod_min=min_process_capacity, label='Send commodity one from location 2')\n",
    "    com1_loc3_send = Process(name='com1_loc3_send', prod_max=com1_process_capacity, conversion={com1_out:-1, com1_loc3_out:1}, capex=0.01/scale_factor, vopex=0.01, prod_min=min_process_capacity, label='Send commodity one from location 3')\n",
    "    com1_loc4_send = Process(name='com1_loc4_send', prod_max=com1_process_capacity, conversion={com1_out:-1, com1_loc4_out:1}, capex=0.01/scale_factor, vopex=0.01, prod_min=min_process_capacity, label='Send commodity one from location 4')\n",
    "    com1_loc5_send = Process(name='com1_loc5_send', prod_max=com1_process_capacity, conversion={com1_out:-1, com1_loc5_out:1}, capex=0.01/scale_factor, vopex=0.01, prod_min=min_process_capacity, label='Send commodity one from location 5')\n",
    "    com1_loc6_send = Process(name='com1_loc6_send', prod_max=com1_process_capacity, conversion={com1_out:-1, com1_loc6_out:1}, capex=0.01/scale_factor, vopex=0.01, prod_min=min_process_capacity, label='Send commodity one from location 6')\n",
    "    com1_loc7_send = Process(name='com1_loc7_send', prod_max=com1_process_capacity, conversion={com1_out:-1, com1_loc7_out:1}, capex=0.01/scale_factor, vopex=0.01, prod_min=min_process_capacity, label='Send commodity one from location 7')\n",
    "    \n",
    "    # ======================================================================================================================\n",
    "    # Declare locations/warehouses\n",
    "    # ======================================================================================================================\n",
    "    loc1 = Location(name='loc1', processes={com1_procure, com1_receive_loc2, com1_receive_loc3, com1_process, com1_store, com1_loc1_send}, label=\"Location 1\", scales=scales, demand_scale_level=2, capacity_scale_level=1, availability_scale_level=1, availability_factor={\n",
    "                        com1_pur: scen_df[[('loc1', 'com1_pur')]] if ('loc1', 'com1_pur') in scen_df else default_df})\n",
    "    \n",
    "    loc2 = Location(name='loc2', processes={com1_receive_loc1, com1_receive_loc4, com1_receive_loc5, com1_process, com1_store, com1_loc2_send}, label=\"Location 2\", scales=scales, demand_scale_level=2, capacity_scale_level=1, availability_scale_level=1, capacity_factor={\n",
    "        com1_process: scen_df[[('loc2', 'com1_process')]] if ('loc2', 'com1_process') in scen_df else default_df})\n",
    "    \n",
    "    loc3 = Location(name='loc3', processes={com1_receive_loc1, com1_receive_loc4, com1_process, com1_store, com1_loc3_send}, label=\"Location 3\", scales=scales, demand_scale_level=2, capacity_scale_level=1, availability_scale_level=1)\n",
    "    \n",
    "    loc4 = Location(name='loc4', processes={com1_receive_loc2, com1_receive_loc3, com1_receive_loc6, com1_receive_loc5, com1_receive_loc7, com1_process, com1_store, com1_loc4_send}, label=\"Location 4\", scales=scales, demand_scale_level=2, capacity_scale_level=1, availability_scale_level=1, capacity_factor={\n",
    "        com1_process: scen_df[[('loc4', 'com1_process')]] if ('loc4', 'com1_process') in scen_df else default_df})\n",
    "    \n",
    "    loc5 = Location(name='loc5', processes={com1_receive_loc1, com1_receive_loc2, com1_receive_loc4, com1_receive_loc6, com1_receive_loc7, com1_process, com1_store, com1_loc5_send, com1_sell}, label=\"Location 5\", scales=scales, demand_scale_level=2, capacity_scale_level=1, availability_scale_level=1, demand_factor={com1_sold: scen_df[[('loc5', 'com1_sold')]] if ('loc5', 'com1_sold') in scen_df else default_df})\n",
    "    \n",
    "    loc6 = Location(name='loc6', processes={com1_procure, com1_receive_loc4, com1_process, com1_store, com1_loc6_send}, label=\"Location 6\", scales=scales, demand_scale_level=2, capacity_scale_level=1, availability_scale_level=1, availability_factor={\n",
    "                        com1_pur: scen_df[[('loc6', 'com1_pur')]] if ('loc6', 'com1_pur') in scen_df else default_df})\n",
    "    \n",
    "    loc7 = Location(name='loc7', processes={com1_receive_loc4, com1_receive_loc5, com1_process, com1_store, com1_loc7_send}, label=\"Location 7\", scales=scales, demand_scale_level=2, capacity_scale_level=1, availability_scale_level=1, capacity_factor={\n",
    "        com1_process: scen_df[[('loc7', 'com1_process')]] if ('loc7', 'com1_process') in scen_df else default_df})\n",
    "    \n",
    "    # ======================================================================================================================\n",
    "    # Declare transport/trucks\n",
    "    # ======================================================================================================================\n",
    "    \n",
    "    truck_cap12 = 70 * scale_factor * fudge_factor\n",
    "    truck_cap13 = 30 * scale_factor * fudge_factor\n",
    "    truck_cap24 = 50 * scale_factor * fudge_factor\n",
    "    truck_cap25 = 30 * scale_factor * fudge_factor\n",
    "    truck_cap34 = 30 * scale_factor * fudge_factor\n",
    "    truck_cap45 = 100 * scale_factor * fudge_factor\n",
    "    truck_cap47 = 40 * scale_factor * fudge_factor\n",
    "    truck_cap64 = 50 * scale_factor * fudge_factor\n",
    "    truck_cap75 = 40 * scale_factor * fudge_factor\n",
    "    \n",
    "    plane_cap15 = 50 * scale_factor * fudge_factor\n",
    "    plane_cap65 = 50 * scale_factor * fudge_factor\n",
    "    \n",
    "    truck_capmin = 0.01\n",
    "    plane_capmin = 0.01\n",
    "    \n",
    "    truck12 = Transport(name='truck12', resources={com1_loc1_out}, trans_max=truck_cap12, label='Truck from location 1 to 2', capex=0.5/scale_factor, vopex=0.05, trans_min=truck_capmin, varying=[VaryingTransport.DETERMINISTIC_CAPACITY], speed=50)\n",
    "    # truck21 = Transport(name='truck21', resources={com1_loc2_out}, trans_max=truck_cap12, label='Truck from location 2 to 1', capex=0.0001, vopex=0.05, trans_min=truck_capmin, speed=50, varying=[VaryingTransport.DETERMINISTIC_CAPACITY])\n",
    "    \n",
    "    truck13 = Transport(name='truck13', resources={com1_loc1_out}, trans_max=truck_cap13, label='Truck from location 1 to 3', capex=0.3/scale_factor, vopex=0.03, trans_min=truck_capmin, varying=[VaryingTransport.DETERMINISTIC_CAPACITY], speed=50)\n",
    "    # truck31 = Transport(name='truck31', resources={com1_loc3_out}, trans_max=truck_cap13, label='Truck from location 3 to 1', capex=0.0001, vopex=0.03, trans_min=truck_capmin, speed=50, varying=[VaryingTransport.DETERMINISTIC_CAPACITY])\n",
    "    \n",
    "    truck24 = Transport(name='truck24', resources={com1_loc2_out}, trans_max=truck_cap24, label='Truck from location 2 to 4', capex=0.5/scale_factor, vopex=0.05, trans_min=truck_capmin, varying=[VaryingTransport.DETERMINISTIC_CAPACITY], speed=50)\n",
    "    # truck42 = Transport(name='truck42', resources={com1_loc4_out}, trans_max=truck_cap24, label='Truck from location 4 to 2', capex=0.0001, vopex=0.05, trans_min=truck_capmin, speed=50, varying=[VaryingTransport.DETERMINISTIC_CAPACITY])\n",
    "    \n",
    "    truck25 = Transport(name='truck25', resources={com1_loc2_out}, trans_max=truck_cap25, label='Truck from location 2 to 5', capex=0.3/scale_factor, vopex=0.03, trans_min=truck_capmin, varying=[VaryingTransport.DETERMINISTIC_CAPACITY], speed=50)\n",
    "    # truck52 = Transport(name='truck52', resources={com1_loc5_out}, trans_max=truck_cap25, label='Truck from location 5 to 2', capex=0.0001, vopex=0.03, trans_min=truck_capmin, speed=50, varying=[VaryingTransport.DETERMINISTIC_CAPACITY])\n",
    "    \n",
    "    truck34 = Transport(name='truck34', resources={com1_loc3_out}, trans_max=truck_cap34, label='Truck from location 3 to 4', capex=0.2/scale_factor, vopex=0.02, trans_min=truck_capmin, varying=[VaryingTransport.DETERMINISTIC_CAPACITY], speed=50)\n",
    "    # truck43 = Transport(name='truck43', resources={com1_loc4_out}, trans_max=truck_cap34, label='Truck from location 4 to 3', capex=0.0001, vopex=0.02, trans_min=truck_capmin, speed=50, varying=[VaryingTransport.DETERMINISTIC_CAPACITY])\n",
    "    \n",
    "    truck45 = Transport(name='truck45', resources={com1_loc4_out}, trans_max=truck_cap45, label='Truck from location 4 to 5', capex=1/scale_factor, vopex=0.1, trans_min=truck_capmin, varying=[VaryingTransport.DETERMINISTIC_CAPACITY], speed=50)\n",
    "    # truck54 = Transport(name='truck54', resources={com1_loc5_out}, trans_max=truck_cap45, label='Truck from location 5 to 4', capex=0.0001, vopex=0.1, trans_min=truck_capmin, speed=50, varying=[VaryingTransport.DETERMINISTIC_CAPACITY])\n",
    "    \n",
    "    truck47 = Transport(name='truck47', resources={com1_loc4_out}, trans_max=truck_cap47, label='Truck from location 4 to 7', capex=0.4/scale_factor, vopex=0.04, trans_min=truck_capmin, varying=[VaryingTransport.DETERMINISTIC_CAPACITY], speed=50)\n",
    "    # truck74 = Transport(name='truck74', resources={com1_loc7_out}, trans_max=truck_cap47, label='Truck from location 7 to 4', capex=0.0001, vopex=0.04, trans_min=truck_capmin, speed=50, varying=[VaryingTransport.DETERMINISTIC_CAPACITY])\n",
    "    \n",
    "    truck64 = Transport(name='truck64', resources={com1_loc6_out}, trans_max=truck_cap64, label='Truck from location 6 to 4', capex=0.5/scale_factor, vopex=0.05, trans_min=truck_capmin, varying=[VaryingTransport.DETERMINISTIC_CAPACITY], speed=50)\n",
    "    # truck46 = Transport(name='truck46', resources={com1_loc4_out}, trans_max=truck_cap64, label='Truck from location 4 to 6', capex=0.0001, vopex=0.05, trans_min=truck_capmin, speed=50, varying=[VaryingTransport.DETERMINISTIC_CAPACITY])\n",
    "    \n",
    "    truck75 = Transport(name='truck75', resources={com1_loc7_out}, trans_max=truck_cap75, label='Truck from location 7 to 5', capex=0.4/scale_factor, vopex=0.04, trans_min=truck_capmin, varying=[VaryingTransport.DETERMINISTIC_CAPACITY], speed=50)\n",
    "    # truck57 = Transport(name='truck57', resources={com1_loc5_out}, trans_max=truck_cap75, label='Truck from location 5 to 7', capex=0.0001, vopex=0.04, trans_min=truck_capmin, speed=50, varying=[VaryingTransport.DETERMINISTIC_CAPACITY])\n",
    "    \n",
    "    plane15 = Transport(name='plane15', resources={com1_loc1_out}, trans_max=plane_cap15, label='Plane from location 1 to 5', capex=1/scale_factor, vopex=0.5,\n",
    "                        trans_min=plane_capmin, speed=100)\n",
    "    \n",
    "    plane65 = Transport(name='plane65', resources={com1_loc6_out}, trans_max=plane_cap65, label='Plane from location 6 to 5', capex=1/scale_factor, vopex=0.5,\n",
    "                        trans_min=plane_capmin, speed=100)\n",
    "    \n",
    "    # ======================================================================================================================\n",
    "    # Declare network\n",
    "    # ======================================================================================================================\n",
    "\n",
    "    transport_matrix = [\n",
    "        [[], [truck12], [truck13], [], [plane15], [], []],  # source: location 1\n",
    "        [[], [], [], [truck24], [truck25], [], []],  # source: location 2\n",
    "        [[], [], [], [truck34], [], [], []],  # source: location 3\n",
    "        [[], [], [], [], [truck45], [], [truck47]],  # source: location 4\n",
    "        [[], [], [], [], [], [], []],  # source: location 5\n",
    "        [[], [], [], [truck64], [], [], []],  # source: location 6\n",
    "        [[], [], [], [], [truck75], [], []]  # source: location 7\n",
    "    ]\n",
    "\n",
    "    # transport_matrix = [\n",
    "    #     [[], [truck12], [truck13], [], [], [], []],  # source: location 1\n",
    "    #     [[truck21], [], [], [truck24], [truck25], [], []],  # source: location 2\n",
    "    #     [[truck31], [], [], [truck34], [], [], []],  # source: location 3\n",
    "    #     [[], [truck42], [truck43], [], [truck45], [truck46], [truck47]],  # source: location 4\n",
    "    #     [[], [truck52], [], [truck54], [], [], [truck57]],  # source: location 5\n",
    "    #     [[], [], [], [truck64], [], [], []],  # source: location 6\n",
    "    #     [[], [], [], [truck74], [truck75], [], []]  # source: location 7\n",
    "    # ]\n",
    "\n",
    "    distance_matrix = [\n",
    "        [0, 55, 196, M, 130, M, M],\n",
    "        [55, 0, M, 163, 112, M, 134],\n",
    "        [196, M, 0, 63, M, M, M],\n",
    "        [M, 163, 63, 0, 95, 117, 88],\n",
    "        [130, 112, M, 95, 0, 150, 134],\n",
    "        [M, M, M, 117, M, 0, M],\n",
    "        [M, 134, M, 88, 134, M, 0]\n",
    "    ]\n",
    "\n",
    "    locset = [loc1, loc2, loc3, loc4, loc5, loc6, loc7]\n",
    "\n",
    "    sources = locset\n",
    "    sinks = locset\n",
    "\n",
    "    network = Network(name='Network', scales=scales, source_locations=sources, sink_locations=sinks,\n",
    "                      transport_matrix=transport_matrix, distance_matrix=distance_matrix, transport_capacity_scale_level=1,\n",
    "                      transport_capacity_factor={(loc1, loc2): {truck12: scen_df[[('trans12', 'com1_loc1_out')]] if ('trans12', 'com1_loc1_out') in scen_df else default_df},\n",
    "                                                 (loc1, loc3): {truck13: scen_df[[('trans13', 'com1_loc1_out')]] if ('trans13', 'com1_loc1_out') in scen_df else default_df},\n",
    "                                                 (loc1, loc5): {plane15: scen_df[[('plane15', 'com1_loc1_out')]] if (\n",
    "                                                                                                                    'plane15',\n",
    "                                                                                                                    'com1_loc1_out') in scen_df else default_df},\n",
    "                                                 (loc2, loc4): {truck24: scen_df[[('trans24', 'com1_loc2_out')]] if ('trans24', 'com1_loc2_out') in scen_df else default_df},\n",
    "                                                 (loc2, loc5): {truck25: scen_df[[('trans25', 'com1_loc2_out')]] if ('trans25', 'com1_loc2_out') in scen_df else default_df},\n",
    "                                                 (loc3, loc4): {truck34: scen_df[[('trans34', 'com1_loc3_out')]] if ('trans34', 'com1_loc3_out') in scen_df else default_df},\n",
    "                                                 (loc4, loc5): {truck45: scen_df[[('trans45', 'com1_loc4_out')]] if ('trans45', 'com1_loc4_out') in scen_df else default_df},\n",
    "                                                 (loc4, loc7): {truck47: scen_df[[('trans47', 'com1_loc4_out')]] if ('trans47', 'com1_loc4_out') in scen_df else default_df},\n",
    "                                                 (loc6, loc4): {truck64: scen_df[[('trans64', 'com1_loc6_out')]] if ('trans64', 'com1_loc6_out') in scen_df else default_df},\n",
    "                                                 (loc7, loc5): {truck75: scen_df[[('trans75', 'com1_loc7_out')]] if ('trans75', 'com1_loc7_out') in scen_df else default_df},\n",
    "                                                 })\n",
    "    \n",
    "    # ======================================================================================================================\n",
    "    # Declare scenario\n",
    "    # ======================================================================================================================\n",
    "    \n",
    "    daily_demand = 100*scale_factor\n",
    "    demand_penalty = 200\n",
    "    \n",
    "    demand_dict = {i: {com1_sold: daily_demand} if i == loc5 else {com1_sold: 0} for i in locset}\n",
    "    demand_penalty_dict = {i: {com1_sold: demand_penalty} if i == loc5 else {com1_sold: 0} for i in locset}\n",
    "    \n",
    "    scenario = Scenario(name=f'schedule scenario', scales=scales, scheduling_scale_level=2, network_scale_level=0, purchase_scale_level=2, availability_scale_level=1, demand_scale_level=2, capacity_scale_level=1, network=network, demand=demand_dict, demand_penalty=demand_penalty_dict, label='Schedule Scenario', annualization_factor=1)\n",
    "    \n",
    "    # ======================================================================================================================\n",
    "    # Declare model\n",
    "    # ======================================================================================================================\n",
    "    \n",
    "    problem_mincost = formulate(scenario=scenario,\n",
    "                            constraints={Constraints.COST, Constraints.TRANSPORT, Constraints.RESOURCE_BALANCE, Constraints.INVENTORY, Constraints.PRODUCTION, Constraints.DEMAND, Constraints.NETWORK}, demand_sign='eq', objective=Objective.COST_W_DEMAND_PENALTY)\n",
    "    \n",
    "    # demand = scenario.demand\n",
    "    # if isinstance(demand, dict):\n",
    "    #     if isinstance(list(demand.keys())[0], Location):\n",
    "    #         try:\n",
    "    #             demand = {i.name: {\n",
    "    #                 j.name: demand[i][j] for j in demand[i].keys()} for i in demand.keys()}\n",
    "    #         except:\n",
    "    #             pass\n",
    "    # \n",
    "    # constraint_demand_lb(instance=problem_mincost, demand=demand, demand_factor=scenario.demand_factor,\n",
    "    #                      demand_scale_level=scenario.demand_scale_level,\n",
    "    #                      scheduling_scale_level=scenario.scheduling_scale_level,\n",
    "    #                      location_resource_dict=scenario.location_resource_dict, epsilon=eps)\n",
    "    \n",
    "    return scenario, problem_mincost\n",
    "    \n",
    "    # if scen_df.empty:\n",
    "    #     # ======================================================================================================================\n",
    "    #     # Declare problem\n",
    "    #     # ======================================================================================================================\n",
    "    # \n",
    "    #     problem_mincost = formulate(scenario=scenario,\n",
    "    #                                 constraints={Constraints.COST, Constraints.TRANSPORT, Constraints.RESOURCE_BALANCE,\n",
    "    #                                              Constraints.INVENTORY, Constraints.PRODUCTION, Constraints.DEMAND,\n",
    "    #                                              Constraints.NETWORK},\n",
    "    #                                 demand_sign='eq', objective=Objective.COST_W_DEMAND_PENALTY)\n",
    "    # \n",
    "    #     scale_iter = scale_tuple(instance=problem_mincost, scale_levels=scenario.network_scale_level + 1)\n",
    "    #     # capex_process = sum(problem_mincost.Capex_network[scale_] for scale_ in scale_iter)\n",
    "    #     # cost_trans_capex = sum(problem_mincost.Capex_transport_network[scale_] for scale_ in scale_iter)\n",
    "    #     \n",
    "    #     problem_mincost.first_stage_cost = Var(within=NonNegativeReals, doc='First Stage Cost')\n",
    "    #     \n",
    "    #     def first_stage_cost_rule(instance):\n",
    "    #         return (instance.first_stage_cost == sum(instance.Capex_network[scale_] for scale_ in scale_iter) + \n",
    "    #                                             sum(instance.Capex_transport_network[scale_] for scale_ in scale_iter))\n",
    "    #     \n",
    "    #     problem_mincost.constraint_first_stage_cost = Constraint(rule=first_stage_cost_rule)\n",
    "    #     \n",
    "    #     return scenario, problem_mincost\n",
    "    # else:\n",
    "    #     return scenario"
   ],
   "metadata": {
    "collapsed": false,
    "ExecuteTime": {
     "end_time": "2025-04-21T19:38:49.382509Z",
     "start_time": "2025-04-21T19:38:49.305391Z"
    }
   },
   "id": "54d786e6c9917176",
   "execution_count": 4
  },
  {
   "cell_type": "code",
   "outputs": [],
   "source": [
    "def fix_design_variables(model2fix: ConcreteModel, design_model: ConcreteModel):\n",
    "    if isinstance(design_model, ConcreteModel):\n",
    "        model = getattr(design_model.ef, [i[0] for i in design_model.scenarios()][0])\n",
    "\n",
    "        def fix(var1, var2):\n",
    "            for i in list(var1.keys()):\n",
    "                if var1[i].value is None:\n",
    "                    continue\n",
    "                elif ('X_P' in var1.name) or ('X_S' in var1.name) or ('X_F' in var1.name):\n",
    "                    var2[i].fix(var1[i].value)\n",
    "                elif ('Cap_P' in var1.name) or ('Cap_S' in var1.name) or ('Cap_F' in var1.name):\n",
    "                    var2[i].fix(var1[i].value/91)\n",
    "    \n",
    "        fix(model.X_P, model2fix.X_P)\n",
    "        fix(model.Cap_P, model2fix.Cap_P)\n",
    "        fix(model.X_S, model2fix.X_S)\n",
    "        fix(model.Cap_S, model2fix.Cap_S)\n",
    "        fix(model.X_F, model2fix.X_F)\n",
    "        fix(model.Cap_F, model2fix.Cap_F)\n",
    "    \n",
    "    elif isinstance(design_model, dict):\n",
    "        \n",
    "        def fix_dict(var, dict):\n",
    "            for i in list(var.keys()):\n",
    "                if dict[var.name][i] is None:\n",
    "                    continue\n",
    "                elif ('X_P' in var.name) or ('X_S' in var.name) or ('X_F' in var.name):\n",
    "                    var[i].fix(dict[var.name][i])\n",
    "                elif ('Cap_P' in var.name) or ('Cap_S' in var.name) or ('Cap_F' in var.name):\n",
    "                    var[i].fix(dict[var.name][i]/91)\n",
    "        \n",
    "        fix_dict(model2fix.X_P, design_model)\n",
    "        fix_dict(model2fix.Cap_P, design_model)\n",
    "        fix_dict(model2fix.X_S, design_model)\n",
    "        fix_dict(model2fix.Cap_S, design_model)\n",
    "        fix_dict(model2fix.X_F, design_model)\n",
    "        fix_dict(model2fix.Cap_F, design_model)"
   ],
   "metadata": {
    "collapsed": false,
    "ExecuteTime": {
     "end_time": "2025-04-21T19:38:49.398272Z",
     "start_time": "2025-04-21T19:38:49.383568Z"
    }
   },
   "id": "19c6b2e0e0911697",
   "execution_count": 5
  },
  {
   "cell_type": "code",
   "outputs": [],
   "source": [
    "def fix_variables(model2fix: ConcreteModel, current_time_idx:tuple, initial_dict: dict,time_scales:TemporalScale):\n",
    "    states = ['P', 'B', 'C', 'S', 'R', 'Inv', 'P_m', 'P_material_m', 'Cap_P', 'Cap_S', 'Capex_process', 'Capex_storage', 'X_F', 'Cap_F', 'Exp', 'Capex_transport', 'X_P', 'X_S', 'X_P_m', 'Cap_P_m', 'X_P_mm', 'Demand_penalty', 'Demand_penalty_cost']\n",
    "    \n",
    "    model2fix_vars = {v.name: v for v in model2fix.component_objects(Var) if v.name in states}\n",
    "    \n",
    "    for name, var in model2fix_vars.items():\n",
    "        var_key_list = [k for k in var.keys()]\n",
    "        updated_key_list = list()\n",
    "        \n",
    "        if var_key_list and var_key_list!= [None]:\n",
    "            if isinstance(var_key_list[0], int):\n",
    "                # updated_key_list = [i for i in var_key_list if tuple((i,)) < current_time_idx[:network_scale_level+1]] \n",
    "                continue\n",
    "            elif isinstance(var_key_list[0], tuple) and ('location' not in name and 'network' not in name):\n",
    "                num_integers = sum(1 for elem in var_key_list[0] if isinstance(elem, int))\n",
    "                scale_length = min(len(time_scales.scale), num_integers)                \n",
    "                updated_key_list = [k for k in var.keys()\n",
    "                                    if tuple(k[-scale_length:]) < current_time_idx[:scale_length] or (tuple(k[-scale_length:]) == current_time_idx[:scale_length] and current_time_idx[1:]!=(0,)*(len(current_time_idx)-1) and tuple(k[-scale_length:]) != current_time_idx)]\n",
    "                \n",
    "            for key in updated_key_list:\n",
    "                if key in initial_dict[name] and initial_dict[name][key] is not None:\n",
    "                    if not var[key].fixed:\n",
    "                        var[key].fix(initial_dict[name][key])\n",
    "                    # var[key].fixed = True\n",
    "                    # var[key] = initial_dict[name][key]\n",
    "    print(f\"Variables fixed for time {current_time_idx}\")"
   ],
   "metadata": {
    "collapsed": false,
    "ExecuteTime": {
     "end_time": "2025-04-21T19:38:49.413750Z",
     "start_time": "2025-04-21T19:38:49.400546Z"
    }
   },
   "id": "bf9b12feba849436",
   "execution_count": 6
  },
  {
   "cell_type": "code",
   "outputs": [],
   "source": [
    "def print_fixed_variables(instance:ConcreteModel):    \n",
    "    for v in instance.component_objects(Var):\n",
    "        for index in v:\n",
    "            if v[index].fixed:\n",
    "                print(f\"{v.name}[{index}]: {v[index].value}\")\n",
    "\n",
    "def get_fixed_variables(instance:ConcreteModel):\n",
    "    return {v.name: {index: v[index].value for index in v if v[index].fixed} for v in instance.component_objects(Var)}"
   ],
   "metadata": {
    "collapsed": false,
    "ExecuteTime": {
     "end_time": "2025-04-21T19:38:49.429558Z",
     "start_time": "2025-04-21T19:38:49.414795Z"
    }
   },
   "id": "f1ca37434b037a58",
   "execution_count": 7
  },
  {
   "cell_type": "code",
   "outputs": [],
   "source": [
    "def supply_chain_controller(time_ind:List, start_at:Union[int, Tuple]=0, end_at:Union[int, Tuple]=None, initialize_dict:dict=None, p_horizon:int=1, c_horizon:int=1, lookback:int=0, design_model:ConcreteModel=None, eps:float=1):\n",
    "    \n",
    "    end_at = end_at or len(time_ind)-1\n",
    "    \n",
    "    close_loop_results = dict()\n",
    "    if c_horizon > p_horizon:\n",
    "        raise ValueError('c_horizon must be less than or equal to p_horizon')\n",
    "    \n",
    "    if isinstance(start_at, Tuple):\n",
    "        if start_at not in time_ind:\n",
    "            raise ValueError('Incorrect start time value')\n",
    "        start_idx = time_ind.index(start_at)\n",
    "    else:\n",
    "        start_idx = start_at\n",
    "        \n",
    "    if isinstance(end_at, Tuple):\n",
    "        if end_at not in time_ind:\n",
    "            raise ValueError('Incorrect end time value')\n",
    "        end_idx = time_ind.index(end_at)\n",
    "    else:\n",
    "        end_idx = end_at\n",
    "    \n",
    "    if end_idx < start_idx:\n",
    "        raise ValueError('Incorrect start and end time values')\n",
    "\n",
    "    # print(f\"Starting Index: {start_idx}; Starting Time: {start_time}\")\n",
    "    # print(f\"Ending Index: {end_idx}; Ending Time: {end_time}\")\n",
    "    \n",
    "    \n",
    "    for t in range(start_idx, end_idx+1, c_horizon):\n",
    "        start_time = max(0, t-lookback)\n",
    "        end_time = min(t+p_horizon, end_idx)\n",
    "        scenario, model = build_schedule_model(start_time=time_ind[start_time], end_time=time_ind[end_time], eps= eps, scen_df=pandas.DataFrame(data={('loc5', 'com1_sold'):norm_demand_dict[t]}))\n",
    "        scenario_record[time_ind[t]] = scenario\n",
    "        model_record[time_ind[t]] = model\n",
    "        \n",
    "        if t==start_idx and design_model:\n",
    "            print(f\"Time index: {t}\")\n",
    "            fix_design_variables(model2fix=model, design_model=design_model)\n",
    "\n",
    "        if time_ind[t-1] in close_loop_results:\n",
    "            fix_variables(model2fix=model, initial_dict=close_loop_results[time_ind[t-1]], current_time_idx=time_ind[t], time_scales=scenario.scales)\n",
    "        \n",
    "        result = solve(scenario=scenario, instance=model, solver='gurobi', name=f'MILP_{time_ind[t]}')\n",
    "        model_vars = model.component_map(ctype=Var)\n",
    "        close_loop_results[time_ind[t]] = {i: model_vars[i].extract_values() for i in model_vars.keys()}\n",
    "        results_record[time_ind[t]] = result\n",
    "\n",
    "        print(f'\\n################################## Finished solving problem for time period {time_ind[t]} out of {time_ind[-1]} ##################################\\n')\n",
    "        \n",
    "    \n",
    "    return close_loop_results"
   ],
   "metadata": {
    "collapsed": false,
    "ExecuteTime": {
     "end_time": "2025-04-21T19:38:49.445657Z",
     "start_time": "2025-04-21T19:38:49.430627Z"
    }
   },
   "id": "61c0b64b8f84a613",
   "execution_count": 8
  },
  {
   "cell_type": "code",
   "outputs": [],
   "source": [
    "model_record = dict()\n",
    "scenario_record = dict()\n",
    "results_record = dict()"
   ],
   "metadata": {
    "collapsed": false,
    "ExecuteTime": {
     "end_time": "2025-04-21T19:38:49.461693Z",
     "start_time": "2025-04-21T19:38:49.446736Z"
    }
   },
   "id": "dbac70fb439b1114",
   "execution_count": 9
  },
  {
   "cell_type": "code",
   "outputs": [],
   "source": [
    "scheduling_scales = TemporalScale(discretization_list=[1, schedule_exec_scenarios, schedule_time_intervals])\n",
    "scale_iter_list = scheduling_scales.scale_iter(scale_level=len(scheduling_scales.scale)-1)"
   ],
   "metadata": {
    "collapsed": false,
    "ExecuteTime": {
     "end_time": "2025-04-21T19:38:49.477287Z",
     "start_time": "2025-04-21T19:38:49.462768Z"
    }
   },
   "id": "ece60501a16d1cc9",
   "execution_count": 10
  },
  {
   "cell_type": "code",
   "outputs": [],
   "source": [
    "# with open(f'Round Robin Tests/ef/HPRC_results/output_4096_07_UI_HP.pkl', 'rb') as file:\n",
    "#     load_output_dict = pickle.load(file)"
   ],
   "metadata": {
    "collapsed": false,
    "ExecuteTime": {
     "end_time": "2025-04-21T19:39:18.634742Z",
     "start_time": "2025-04-21T19:38:49.478374Z"
    }
   },
   "id": "6fd386751d03f9d5",
   "execution_count": 11
  },
  {
   "cell_type": "code",
   "outputs": [
    {
     "data": {
      "text/plain": "{('loc1', 'com1_store_com1_in_stored', 0): 8645.0,\n ('loc2', 'com1_store_com1_in_stored', 0): 0.0,\n ('loc3', 'com1_store_com1_in_stored', 0): 0.0,\n ('loc4', 'com1_store_com1_in_stored', 0): 0.0,\n ('loc5', 'com1_store_com1_in_stored', 0): 18768.75,\n ('loc6', 'com1_store_com1_in_stored', 0): 0.0,\n ('loc7', 'com1_store_com1_in_stored', 0): 0.0}"
     },
     "execution_count": 12,
     "metadata": {},
     "output_type": "execute_result"
    }
   ],
   "source": [
    "# load_output_dict[list(load_output_dict.keys())[0]]['Cap_S']"
   ],
   "metadata": {
    "collapsed": false,
    "ExecuteTime": {
     "end_time": "2025-04-21T19:39:18.666033Z",
     "start_time": "2025-04-21T19:39:18.641634Z"
    }
   },
   "id": "2e77c7d4ab11f749",
   "execution_count": 12
  },
  {
   "cell_type": "code",
   "outputs": [],
   "source": [
    "# design_scen = list(load_output_dict.keys())[0]"
   ],
   "metadata": {
    "collapsed": false,
    "ExecuteTime": {
     "end_time": "2025-04-21T19:39:18.681954Z",
     "start_time": "2025-04-21T19:39:18.673229Z"
    }
   },
   "id": "33ee5938a1a5929c",
   "execution_count": 13
  },
  {
   "cell_type": "code",
   "outputs": [],
   "source": [
    "start_idx = 0\n",
    "end_idx = len(scale_iter_list)-1"
   ],
   "metadata": {
    "collapsed": false,
    "ExecuteTime": {
     "end_time": "2025-04-21T19:39:18.697641Z",
     "start_time": "2025-04-21T19:39:18.687191Z"
    }
   },
   "id": "fae1c93ee59198e9",
   "execution_count": 14
  },
  {
   "cell_type": "code",
   "outputs": [],
   "source": [
    "random.seed(2)"
   ],
   "metadata": {
    "collapsed": false,
    "ExecuteTime": {
     "end_time": "2025-04-21T19:39:18.713573Z",
     "start_time": "2025-04-21T19:39:18.705198Z"
    }
   },
   "id": "49e3a65d1e625934",
   "execution_count": 15
  },
  {
   "cell_type": "code",
   "outputs": [],
   "source": [
    "demand_dict = dict()\n",
    "norm_demand_dict = dict()\n",
    "for i in range(start_idx,end_idx+1):\n",
    "    if i == start_idx:\n",
    "        demand_dict[i] = [100]*len(range(start_idx, end_idx+1))\n",
    "    else:\n",
    "        demand_dict[i] = demand_dict[i-1][:i] + [round(random.gauss(100,15), 2) for _ in range(len(range(start_idx, end_idx+1))-len(demand_dict[i-1][:i]))]\n",
    "\n",
    "for i in demand_dict:\n",
    "    vmax = 100\n",
    "    norm_demand_dict[i] = [x/vmax for x in demand_dict[i]]"
   ],
   "metadata": {
    "collapsed": false,
    "ExecuteTime": {
     "end_time": "2025-04-21T19:39:18.791263Z",
     "start_time": "2025-04-21T19:39:18.717432Z"
    }
   },
   "id": "77eaf23259348370",
   "execution_count": 16
  },
  {
   "cell_type": "code",
   "outputs": [
    {
     "data": {
      "text/plain": "[100,\n 135.07,\n 76.48,\n 110.28,\n 125.76,\n 106.85,\n 113.81,\n 121.71,\n 87.21,\n 77.25,\n 107.29,\n 111.3,\n 91.21,\n 89.63,\n 91.9,\n 93.79,\n 91.78,\n 80.42,\n 73.72,\n 92.96,\n 93.01,\n 100.19,\n 105.43,\n 94.18,\n 126.58,\n 78.38,\n 86.65,\n 111.67,\n 107.86,\n 112.15,\n 97.93,\n 87.94,\n 123.33,\n 66.46,\n 91.42,\n 91.85,\n 93.35,\n 129.14,\n 98.8,\n 103.99,\n 98.93,\n 69.64,\n 103.15,\n 114.65,\n 99.37,\n 127.94,\n 116.46,\n 108.78,\n 80.82,\n 114.13,\n 116.36,\n 110.24,\n 110.69,\n 84.47,\n 100.77,\n 126.4,\n 90.71,\n 91.23,\n 117.34,\n 116.9,\n 94.14,\n 89.68,\n 113.34,\n 107.08,\n 105.98,\n 96.78,\n 108.94,\n 86.52,\n 102.66,\n 74.71,\n 86.77,\n 84.84,\n 93.23,\n 89.87,\n 125.57,\n 123.48,\n 88.55,\n 104.05,\n 88.79,\n 85.56,\n 90.43,\n 103.2,\n 107.61,\n 93.06,\n 91.82,\n 90.4,\n 91.82,\n 127.51,\n 98.58,\n 86.51,\n 102.36,\n 108.8,\n 67.96,\n 111.61,\n 125.81,\n 108.21,\n 108.58,\n 69.84,\n 97.49,\n 72.94,\n 104.26,\n 120.59,\n 97.09,\n 93.07,\n 121.82,\n 91.9,\n 97.74,\n 120.6,\n 96.75,\n 118.71,\n 122.18,\n 106.83,\n 106.64,\n 108.92,\n 93.34,\n 102.74,\n 79.95,\n 96.07,\n 95.82,\n 118.78,\n 95.5,\n 100.02,\n 106.55,\n 86.18,\n 90.2,\n 98.8,\n 89.3,\n 96.93,\n 95.57,\n 95.3,\n 121.03,\n 108.46,\n 106.17,\n 95.71,\n 79.9,\n 90.45,\n 103.2,\n 107.74,\n 121.79,\n 118.91,\n 99.27,\n 95.25,\n 104.97,\n 94.3,\n 126.15,\n 128.59,\n 92.07,\n 94.24,\n 98.32,\n 112.84,\n 84.09,\n 114.27,\n 126.38,\n 113.54,\n 97.01,\n 91.42,\n 110.77,\n 107.43,\n 89.21,\n 108.52,\n 109.01,\n 103.66,\n 112.06,\n 108.14,\n 110.51,\n 105.56,\n 95.37,\n 113.78,\n 64.51,\n 117.46,\n 119.83,\n 124.72,\n 90.54,\n 81.24,\n 97.21,\n 94.54,\n 112.06,\n 90.1,\n 117.02,\n 126.91,\n 92.53,\n 89.11,\n 123.13,\n 104.94,\n 89.48,\n 79.61,\n 92.98,\n 84.87,\n 107.45,\n 113.28,\n 106.51,\n 92.22,\n 110.44,\n 99.93,\n 97.99,\n 108.78,\n 113.77,\n 90.08,\n 98.5,\n 101.63,\n 116.34,\n 81.72,\n 94.22,\n 87.28,\n 124.03,\n 102.81,\n 89.85,\n 100.73,\n 99.2,\n 107.3,\n 86.03,\n 77.54,\n 89.17,\n 94.88,\n 88.2,\n 98.69,\n 85.03,\n 109.6,\n 103.52,\n 111.8,\n 109.54,\n 106.2,\n 91.92,\n 76.72,\n 108.47,\n 85.18,\n 106.54,\n 86.39,\n 122.68,\n 85.18,\n 97.95,\n 91.7,\n 111.71,\n 88.08,\n 100.09,\n 101.52,\n 115.13,\n 123.77,\n 97.92,\n 89.85,\n 107.11,\n 114.54,\n 111.15,\n 117.11,\n 97.34,\n 84.72,\n 88.89,\n 82.29,\n 88.21,\n 59.6,\n 95.16,\n 83.86,\n 100.67,\n 94.62,\n 114.45,\n 88.28,\n 92.92,\n 80.15,\n 68.76,\n 101.46,\n 82.74,\n 100.35,\n 83.61,\n 109.08,\n 115.68,\n 95.7,\n 121.98,\n 100.82,\n 83.07,\n 97.94,\n 107.02,\n 94.38,\n 80.46,\n 85.21,\n 108.2,\n 99.95,\n 103.45,\n 105.46,\n 101.31,\n 113.36,\n 111.33,\n 101.61,\n 94.36,\n 108.59,\n 128.01,\n 122.86,\n 91.16,\n 103.77,\n 97.32,\n 107.11,\n 97.24,\n 83.03,\n 109.04,\n 106.3,\n 117.17,\n 97.91,\n 125.17,\n 71.97,\n 95.44,\n 93.89,\n 117.85,\n 94.15,\n 108.78,\n 114.36,\n 61.75,\n 99.8,\n 96.47,\n 110.22,\n 95.09,\n 81.38,\n 97.79,\n 95.57,\n 109.2,\n 91.59,\n 89.45,\n 93.21,\n 110.97,\n 84.59,\n 129.39,\n 107.5,\n 93.68,\n 114.9,\n 76.95,\n 101.09,\n 103.29,\n 104.07,\n 82.66,\n 97.3,\n 108.69,\n 97.16,\n 111.37,\n 66.39,\n 92.28,\n 91.15,\n 94.57,\n 121.53,\n 100.33,\n 113.78,\n 101.64,\n 118.1,\n 88.19,\n 90.05,\n 89.41,\n 117.36,\n 130.41,\n 105.76,\n 97.2,\n 108.53,\n 129.16,\n 118.24,\n 59.0,\n 93.03,\n 111.64,\n 85.29,\n 148.64,\n 70.42,\n 89.94,\n 122.15,\n 110.18,\n 82.58,\n 70.28,\n 117.62,\n 115.86,\n 114.8]"
     },
     "execution_count": 17,
     "metadata": {},
     "output_type": "execute_result"
    }
   ],
   "source": [
    "demand_dict[45]"
   ],
   "metadata": {
    "collapsed": false,
    "ExecuteTime": {
     "end_time": "2025-04-21T19:39:18.807103Z",
     "start_time": "2025-04-21T19:39:18.794369Z"
    }
   },
   "id": "4afd890f7df2d17b",
   "execution_count": 17
  },
  {
   "cell_type": "code",
   "outputs": [],
   "source": [
    "y = demand_dict[5][5:15]"
   ],
   "metadata": {
    "collapsed": false,
    "ExecuteTime": {
     "end_time": "2025-04-21T20:32:04.727767Z",
     "start_time": "2025-04-21T20:32:04.715377Z"
    }
   },
   "id": "71e4ae4cd36ad851",
   "execution_count": 33
  },
  {
   "cell_type": "code",
   "outputs": [],
   "source": [
    "y1 = demand_dict[list(demand_dict.keys())[-1]][:15]\n",
    "# for i in range(6):\n",
    "#     y1[i] = None "
   ],
   "metadata": {
    "collapsed": false,
    "ExecuteTime": {
     "end_time": "2025-04-21T20:32:04.996359Z",
     "start_time": "2025-04-21T20:32:04.987148Z"
    }
   },
   "id": "ceb10273ae853c51",
   "execution_count": 34
  },
  {
   "cell_type": "code",
   "outputs": [],
   "source": [
    "# demand_dict[list(demand_dict.keys())[-1]]"
   ],
   "metadata": {
    "collapsed": false,
    "ExecuteTime": {
     "end_time": "2025-04-21T20:32:05.276847Z",
     "start_time": "2025-04-21T20:32:05.265448Z"
    }
   },
   "id": "76761604defe44c4",
   "execution_count": 35
  },
  {
   "cell_type": "code",
   "outputs": [
    {
     "data": {
      "text/plain": "<Figure size 800x600 with 1 Axes>",
      "image/png": "[encoded data removed]"
     },
     "metadata": {},
     "output_type": "display_data"
    }
   ],
   "source": [
    "from matplotlib import rc \n",
    "rc('font', **{'family': 'serif', 'size': 14})\n",
    "\n",
    "fig, ax = plt.subplots(figsize = (8, 6))\n",
    "x = list(range(5,15))\n",
    "# Plotting\n",
    "ax.plot(x, y, marker='', label='predicted', color = 'red', linestyle='--', linewidth = 3)  # 'o' adds circular markers at data points\n",
    "ax.plot(y1[0:6], marker='o', label='historical', color ='blue', linewidth = 3, markersize=10)\n",
    "ax.plot(list(range(5,15)), y1[5:15], label='actual', color ='green', linewidth = 3, linestyle='-.', marker = 'o')\n",
    "plt.title('Actual vs. Expected Demand')\n",
    "plt.ylabel('Demand')\n",
    "plt.xlabel('Day')\n",
    "plt.grid(alpha = 0.3)\n",
    "ax.legend(loc='upper left')\n",
    "plt.tight_layout()\n",
    "plt.savefig(fname = 'contonly0', dpi = 300)\n",
    "plt.show()\n",
    "plt.rcdefaults()"
   ],
   "metadata": {
    "collapsed": false,
    "ExecuteTime": {
     "end_time": "2025-04-21T21:20:21.130828Z",
     "start_time": "2025-04-21T21:20:20.481550Z"
    }
   },
   "id": "f1033c29fbbc5505",
   "execution_count": 48
  },
  {
   "cell_type": "code",
   "outputs": [],
   "source": [
    "# close_loop_results = supply_chain_controller(time_ind=scale_iter_list, c_horizon=1, p_horizon=10, end_at=(0,51,6), design_model=load_output_dict[design_scen], eps=0.7)"
   ],
   "metadata": {
    "collapsed": false,
    "ExecuteTime": {
     "end_time": "2025-04-17T12:18:50.032359Z",
     "start_time": "2025-04-17T12:18:50.018715Z"
    }
   },
   "id": "bf99c5d854cfd14b",
   "execution_count": 15
  },
  {
   "cell_type": "code",
   "outputs": [
    {
     "ename": "IndexError",
     "evalue": "list index out of range",
     "output_type": "error",
     "traceback": [
      "\u001B[1;31m---------------------------------------------------------------------------\u001B[0m",
      "\u001B[1;31mIndexError\u001B[0m                                Traceback (most recent call last)",
      "Cell \u001B[1;32mIn[16], line 1\u001B[0m\n\u001B[1;32m----> 1\u001B[0m scen_final, model_final \u001B[38;5;241m=\u001B[39m build_schedule_model(start_time\u001B[38;5;241m=\u001B[39m\u001B[38;5;28;43mlist\u001B[39;49m\u001B[43m(\u001B[49m\u001B[43mresults_record\u001B[49m\u001B[38;5;241;43m.\u001B[39;49m\u001B[43mkeys\u001B[49m\u001B[43m(\u001B[49m\u001B[43m)\u001B[49m\u001B[43m)\u001B[49m\u001B[43m[\u001B[49m\u001B[38;5;241;43m0\u001B[39;49m\u001B[43m]\u001B[49m, end_time\u001B[38;5;241m=\u001B[39m\u001B[38;5;28mlist\u001B[39m(results_record\u001B[38;5;241m.\u001B[39mkeys())[\u001B[38;5;241m-\u001B[39m\u001B[38;5;241m1\u001B[39m], scen_df\u001B[38;5;241m=\u001B[39mpandas\u001B[38;5;241m.\u001B[39mDataFrame(data\u001B[38;5;241m=\u001B[39m{(\u001B[38;5;124m'\u001B[39m\u001B[38;5;124mloc5\u001B[39m\u001B[38;5;124m'\u001B[39m, \u001B[38;5;124m'\u001B[39m\u001B[38;5;124mcom1_sold\u001B[39m\u001B[38;5;124m'\u001B[39m):norm_demand_dict[\u001B[38;5;28mlist\u001B[39m(norm_demand_dict\u001B[38;5;241m.\u001B[39mkeys())[\u001B[38;5;241m-\u001B[39m\u001B[38;5;241m1\u001B[39m]]}))\n",
      "\u001B[1;31mIndexError\u001B[0m: list index out of range"
     ]
    }
   ],
   "source": [
    "scen_final, model_final = build_schedule_model(start_time=list(results_record.keys())[0], end_time=list(results_record.keys())[-1], scen_df=pandas.DataFrame(data={('loc5', 'com1_sold'):norm_demand_dict[list(norm_demand_dict.keys())[-1]]}))"
   ],
   "metadata": {
    "collapsed": false,
    "ExecuteTime": {
     "end_time": "2025-04-17T12:18:50.782426Z",
     "start_time": "2025-04-17T12:18:50.038113Z"
    }
   },
   "id": "b8cd5f150110f854",
   "execution_count": 16
  },
  {
   "cell_type": "code",
   "outputs": [],
   "source": [
    "plot_scenario.demand_factor(scenario=scen_final, resource='com1_sold', location='loc5')"
   ],
   "metadata": {
    "collapsed": false,
    "ExecuteTime": {
     "start_time": "2025-04-17T12:18:50.786063Z"
    }
   },
   "id": "fc0edb9c2d0132cc",
   "execution_count": null
  },
  {
   "cell_type": "code",
   "outputs": [],
   "source": [
    "model_final"
   ],
   "metadata": {
    "collapsed": false
   },
   "id": "acf24d387be5d42f",
   "execution_count": null
  },
  {
   "cell_type": "code",
   "outputs": [],
   "source": [
    "# Fix variables in model2 to the values from model1\n",
    "states = ['P', 'B', 'C', 'S', 'R', 'Inv', 'P_m', 'P_material_m', 'Cap_P', 'Cap_S', 'Capex_process', 'Capex_storage', 'X_F', 'Cap_F', 'Exp', 'Capex_transport', 'X_P', 'X_S', 'X_P_m', 'Cap_P_m', 'X_P_mm', 'Demand_penalty', 'Demand_penalty_cost']\n",
    "for v1 in model_record[list(model_record.keys())[-1]].component_objects(Var, active=True):\n",
    "    vname = v1.name\n",
    "    if vname in states:\n",
    "        v2 = getattr(model_final, vname)\n",
    "        for index in v1:\n",
    "            # val = pyo_val(v1[index])\n",
    "            if v1[index].value is not None:\n",
    "                v2[index].fix(pyo_val(v1[index]))"
   ],
   "metadata": {
    "collapsed": false
   },
   "id": "c54415ec3726c8c7",
   "execution_count": null
  },
  {
   "cell_type": "code",
   "outputs": [],
   "source": [
    "results_final = solve(scenario=scen_final, instance=model_final, solver='gurobi', name='MILP_final')"
   ],
   "metadata": {
    "collapsed": false
   },
   "id": "3f0dda35fe1d83ac",
   "execution_count": null
  },
  {
   "cell_type": "code",
   "outputs": [],
   "source": [
    "# write_iis(pyomo_model=model_final, iis_file_name=f'model_final', solver='gurobi')"
   ],
   "metadata": {
    "collapsed": false
   },
   "id": "84311014e74e61af",
   "execution_count": null
  },
  {
   "cell_type": "code",
   "outputs": [],
   "source": [
    "# model_final.constraint_demand_penalty['loc5','com1_sold',0,0,0].pprint()"
   ],
   "metadata": {
    "collapsed": false
   },
   "id": "ddd6ff655c5fd0af",
   "execution_count": null
  },
  {
   "cell_type": "code",
   "outputs": [],
   "source": [
    "# with open(f'model_final.ilp', 'rb') as f:\n",
    "#     c = f.read()\n",
    "# print(c)"
   ],
   "metadata": {
    "collapsed": false
   },
   "id": "3460a089f0afc467",
   "execution_count": null
  },
  {
   "cell_type": "code",
   "outputs": [],
   "source": [
    "with open(f'test_results_record.pkl', 'wb') as file:\n",
    "    pickle.dump(results_record[(0,3,5)], file)"
   ],
   "metadata": {
    "collapsed": false
   },
   "id": "f3cf8ac076b9e69e",
   "execution_count": null
  },
  {
   "cell_type": "code",
   "outputs": [],
   "source": [
    "with open(f'test_results_record.pkl', 'rb') as file:\n",
    "    load_results = pickle.load(file)"
   ],
   "metadata": {
    "collapsed": false
   },
   "id": "53bd628cc10274f0",
   "execution_count": null
  },
  {
   "cell_type": "code",
   "outputs": [],
   "source": [
    "type(load_results)"
   ],
   "metadata": {
    "collapsed": false
   },
   "id": "ab365836589d637",
   "execution_count": null
  },
  {
   "cell_type": "code",
   "outputs": [],
   "source": [
    "plot_results.schedule(results=load_results, y_axis='S', component='com1_sold', location='loc5')"
   ],
   "metadata": {
    "collapsed": false
   },
   "id": "49e79661a4c75d1e",
   "execution_count": null
  },
  {
   "cell_type": "code",
   "outputs": [],
   "source": [
    "plot_results.transport(results=load_results, source='loc1', sink='loc2', resource='com1_loc1_out', transport='truck12')"
   ],
   "metadata": {
    "collapsed": false
   },
   "id": "e09d794ae4804a7",
   "execution_count": null
  },
  {
   "cell_type": "code",
   "outputs": [],
   "source": [],
   "metadata": {
    "collapsed": false
   },
   "id": "6df0418a8d00198b",
   "execution_count": null
  }
 ],
 "metadata": {
  "kernelspec": {
   "display_name": "Python 3",
   "language": "python",
   "name": "python3"
  },
  "language_info": {
   "codemirror_mode": {
    "name": "ipython",
    "version": 2
   },
   "file_extension": ".py",
   "mimetype": "text/x-python",
   "name": "python",
   "nbconvert_exporter": "python",
   "pygments_lexer": "ipython2",
   "version": "2.7.6"
  }
 },
 "nbformat": 4,
 "nbformat_minor": 5
}
