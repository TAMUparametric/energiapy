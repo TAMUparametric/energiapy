{
 "cells": [
  {
   "cell_type": "code",
   "execution_count": 1,
   "id": "initial_id",
   "metadata": {
    "collapsed": true,
    "ExecuteTime": {
     "end_time": "2024-10-23T22:13:59.492520Z",
     "start_time": "2024-10-23T22:13:58.113869Z"
    }
   },
   "outputs": [],
   "source": [
    "import pickle\n",
    "import matplotlib.pyplot as plt\n",
    "import networkx as nx"
   ]
  },
  {
   "cell_type": "code",
   "outputs": [],
   "source": [
    "PI_pickle_dump_folder = r'PI_HC_pkl'\n",
    "FD_pickle_dump_folder = r'FD_HC_pkl'"
   ],
   "metadata": {
    "collapsed": false,
    "ExecuteTime": {
     "end_time": "2024-10-23T22:14:19.747573Z",
     "start_time": "2024-10-23T22:14:19.740189Z"
    }
   },
   "id": "e9da6b8f1c11a0d2",
   "execution_count": 2
  },
  {
   "cell_type": "code",
   "outputs": [
    {
     "name": "stdout",
     "output_type": "stream",
     "text": [
      "Total Expected Cost considering perfect information: 2006133.6247\n",
      "Total Expected Cost considering disruptions (stochastic solution): 2056131.2480\n",
      "Expected Value of Perfect Information: 49997.6233\n",
      "Percentage Increase in Cost: 2.4922%%\n",
      "Percentage Decrease in Cost: 2.4316%%\n"
     ]
    }
   ],
   "source": [
    "with open(fr\"{PI_pickle_dump_folder}\\exCost_4096_PI_HC.pkl\", 'rb') as file:\n",
    "    load_exCost_PI = pickle.load(file)\n",
    "\n",
    "with open(fr\"{FD_pickle_dump_folder}\\4096\\FD_4096_HC_final_results.pkl\", 'rb') as file:\n",
    "    FD_4096_UI_results = pickle.load(file)\n",
    "\n",
    "load_exCost_UI = FD_4096_UI_results[4096]['Expected Cost UI']\n",
    "load_exRes_UI = FD_4096_UI_results[4096]['Expected Resilience']\n",
    "\n",
    "EVPI = load_exCost_UI - load_exCost_PI\n",
    "p_inc = EVPI * 100 / load_exCost_PI\n",
    "p_dec = EVPI * 100 / load_exCost_UI\n",
    "\n",
    "print(f\"Total Expected Cost considering perfect information: {load_exCost_PI:.4f}\")\n",
    "print(f\"Total Expected Cost considering disruptions (stochastic solution): {load_exCost_UI:.4f}\")\n",
    "print(f\"Expected Value of Perfect Information: {EVPI:.4f}\")\n",
    "print(f\"Percentage Increase in Cost: {p_inc:.4f}%%\")\n",
    "print(f\"Percentage Decrease in Cost: {p_dec:.4f}%%\")"
   ],
   "metadata": {
    "collapsed": false,
    "ExecuteTime": {
     "end_time": "2024-10-23T22:21:11.461787Z",
     "start_time": "2024-10-23T22:21:11.452395Z"
    }
   },
   "id": "45af2761ee6f3398",
   "execution_count": 7
  },
  {
   "cell_type": "code",
   "outputs": [
    {
     "data": {
      "text/plain": "0.985848565924375"
     },
     "execution_count": 9,
     "metadata": {},
     "output_type": "execute_result"
    }
   ],
   "source": [
    "load_exRes_UI"
   ],
   "metadata": {
    "collapsed": false,
    "ExecuteTime": {
     "end_time": "2024-10-23T23:46:27.133867Z",
     "start_time": "2024-10-23T23:46:27.126863Z"
    }
   },
   "id": "9d575bee75898bbc",
   "execution_count": 9
  },
  {
   "cell_type": "code",
   "outputs": [],
   "source": [],
   "metadata": {
    "collapsed": false
   },
   "id": "a654ed6ec03eaea3"
  }
 ],
 "metadata": {
  "kernelspec": {
   "display_name": "Python 3",
   "language": "python",
   "name": "python3"
  },
  "language_info": {
   "codemirror_mode": {
    "name": "ipython",
    "version": 2
   },
   "file_extension": ".py",
   "mimetype": "text/x-python",
   "name": "python",
   "nbconvert_exporter": "python",
   "pygments_lexer": "ipython2",
   "version": "2.7.6"
  }
 },
 "nbformat": 4,
 "nbformat_minor": 5
}
