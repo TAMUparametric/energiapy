{
 "cells": [
  {
   "cell_type": "code",
   "id": "initial_id",
   "metadata": {
    "collapsed": true,
    "ExecuteTime": {
     "end_time": "2025-02-12T17:40:52.419270Z",
     "start_time": "2025-02-12T17:40:52.416342Z"
    }
   },
   "source": [
    "import pickle"
   ],
   "outputs": [],
   "execution_count": 198
  },
  {
   "metadata": {
    "ExecuteTime": {
     "end_time": "2025-02-12T17:40:52.424488Z",
     "start_time": "2025-02-12T17:40:52.420274Z"
    }
   },
   "cell_type": "code",
   "source": [
    "# with open(r'output_4096_UI_HP.pkl', 'rb') as file:\n",
    "#     output = pickle.load(file)"
   ],
   "id": "7c6dbd29c8fcce43",
   "outputs": [],
   "execution_count": 199
  },
  {
   "metadata": {
    "ExecuteTime": {
     "end_time": "2025-02-12T17:40:52.431275Z",
     "start_time": "2025-02-12T17:40:52.424488Z"
    }
   },
   "cell_type": "code",
   "source": [
    "scenario_names = list(output.keys())"
   ],
   "id": "30bcb340fde7d562",
   "outputs": [],
   "execution_count": 200
  },
  {
   "metadata": {
    "ExecuteTime": {
     "end_time": "2025-02-12T17:40:52.435965Z",
     "start_time": "2025-02-12T17:40:52.432309Z"
    }
   },
   "cell_type": "code",
   "source": [
    "# idx =scenario_names.index('res1_2 cap2_1 trans12_nd cap7_2 cap4_nd res6_nd trans25_nd')\n",
    "# idx =scenario_names.index('res1_nd cap2_1 trans12_nd cap7_2 cap4_nd res6_nd trans25_nd')\n",
    "# idx = scenario_names.index('res1_nd cap2_nd trans12_nd cap7_1 cap4_nd res6_3 trans25_nd')\n",
    "# idx = scenario_names.index('res1_3 cap2_1 trans12_nd cap7_nd cap4_nd res6_nd trans25_nd') # -> this one\n",
    "\n",
    "idx = scenario_names.index('res1_nd cap2_1 trans12_nd cap7_1 cap4_nd res6_nd trans25_nd')\n",
    "scenario_names[idx]"
   ],
   "id": "d12e8b9006d368fa",
   "outputs": [
    {
     "data": {
      "text/plain": "'res1_nd cap2_1 trans12_nd cap7_1 cap4_nd res6_nd trans25_nd'"
     },
     "execution_count": 201,
     "metadata": {},
     "output_type": "execute_result"
    }
   ],
   "execution_count": 201
  },
  {
   "cell_type": "code",
   "outputs": [],
   "source": [],
   "metadata": {
    "collapsed": false,
    "ExecuteTime": {
     "end_time": "2025-02-12T17:40:52.438264Z",
     "start_time": "2025-02-12T17:40:52.435965Z"
    }
   },
   "id": "b5fbbd2e7a737f5",
   "execution_count": 201
  },
  {
   "metadata": {
    "ExecuteTime": {
     "end_time": "2025-02-12T17:40:52.441574Z",
     "start_time": "2025-02-12T17:40:52.438264Z"
    }
   },
   "cell_type": "code",
   "source": [
    "print(*[(key, value) for key, value in output[scenario_names[idx]]['P'].items() if value!=0 and key[-2:]==(0,3)], sep='\\n')"
   ],
   "id": "76970b920763e500",
   "outputs": [
    {
     "name": "stdout",
     "output_type": "stream",
     "text": [
      "(('loc4', 'com1_loc4_send', 0, 3), 20250.0)\n",
      "(('loc4', 'com1_process', 0, 3), 20250.0)\n",
      "(('loc4', 'com1_receive_loc6', 0, 3), 20250.0)\n",
      "(('loc5', 'com1_process', 0, 3), 20250.0)\n",
      "(('loc5', 'com1_receive_loc4', 0, 3), 20250.0)\n",
      "(('loc5', 'sell com1', 0, 3), 20250.0)\n",
      "(('loc6', 'com1_loc6_send', 0, 3), 20250.0)\n",
      "(('loc6', 'com1_process', 0, 3), 20250.0)\n",
      "(('loc6', 'procure com1', 0, 3), 20250.0)\n"
     ]
    }
   ],
   "execution_count": 202
  },
  {
   "metadata": {
    "ExecuteTime": {
     "end_time": "2025-02-12T17:40:52.446077Z",
     "start_time": "2025-02-12T17:40:52.441574Z"
    }
   },
   "cell_type": "code",
   "outputs": [
    {
     "name": "stdout",
     "output_type": "stream",
     "text": [
      "(('loc5', 'com1_store_com1_in_stored', 0, 0), 4500.0)\n"
     ]
    }
   ],
   "execution_count": 203,
   "source": [
    "print(*[(key, value) for key, value in output[scenario_names[idx]]['Inv'].items() if value!=0], sep='\\n')"
   ],
   "id": "2b916c28e9550d98"
  },
  {
   "cell_type": "code",
   "outputs": [
    {
     "name": "stdout",
     "output_type": "stream",
     "text": [
      "(('loc1', 'loc2', 'truck12', 'com1_loc1_out', 0, 0), 20250.0)\n",
      "(('loc2', 'loc5', 'truck25', 'com1_loc2_out', 0, 0), 20250.0)\n",
      "(('loc4', 'loc5', 'truck45', 'com1_loc4_out', 0, 1), 20250.0)\n",
      "(('loc4', 'loc5', 'truck45', 'com1_loc4_out', 0, 2), 20250.0)\n",
      "(('loc4', 'loc5', 'truck45', 'com1_loc4_out', 0, 3), 20250.0)\n",
      "(('loc4', 'loc7', 'truck47', 'com1_loc4_out', 0, 0), 20250.0)\n",
      "(('loc6', 'loc4', 'truck64', 'com1_loc6_out', 0, 0), 20250.0)\n",
      "(('loc6', 'loc4', 'truck64', 'com1_loc6_out', 0, 1), 20250.0)\n",
      "(('loc6', 'loc4', 'truck64', 'com1_loc6_out', 0, 2), 20250.0)\n",
      "(('loc6', 'loc4', 'truck64', 'com1_loc6_out', 0, 3), 20250.0)\n",
      "(('loc7', 'loc5', 'truck75', 'com1_loc7_out', 0, 0), 20250.0)\n"
     ]
    }
   ],
   "source": [
    "print(*[(key, value) for key, value in output[scenario_names[idx]]['Exp'].items() if value!=0 and value], sep='\\n')"
   ],
   "metadata": {
    "collapsed": false,
    "ExecuteTime": {
     "end_time": "2025-02-12T17:40:52.451296Z",
     "start_time": "2025-02-12T17:40:52.447118Z"
    }
   },
   "id": "7cb223d51206d0a9",
   "execution_count": 204
  },
  {
   "cell_type": "code",
   "outputs": [
    {
     "name": "stdout",
     "output_type": "stream",
     "text": [
      "(('loc1', 'loc2', 'truck12', 0), 20250.0)\n",
      "(('loc1', 'loc3', 'truck13', 0), 20250.0)\n",
      "(('loc2', 'loc5', 'truck25', 0), 20250.0)\n",
      "(('loc3', 'loc4', 'truck34', 0), 20250.0)\n",
      "(('loc4', 'loc5', 'truck45', 0), 20250.0)\n",
      "(('loc4', 'loc7', 'truck47', 0), 20250.0)\n",
      "(('loc6', 'loc4', 'truck64', 0), 20250.0)\n",
      "(('loc7', 'loc5', 'truck75', 0), 20250.0)\n"
     ]
    }
   ],
   "source": [
    "print(*[(key, value) for key, value in output[scenario_names[idx]]['Cap_F'].items() if value!=0], sep='\\n')"
   ],
   "metadata": {
    "collapsed": false,
    "ExecuteTime": {
     "end_time": "2025-02-12T17:40:52.455451Z",
     "start_time": "2025-02-12T17:40:52.452347Z"
    }
   },
   "id": "b08c8b091c7d5cdc",
   "execution_count": 205
  },
  {
   "cell_type": "code",
   "outputs": [
    {
     "name": "stdout",
     "output_type": "stream",
     "text": [
      "(('loc1', 'loc2', 'truck12', 0), 1.0)\n",
      "(('loc1', 'loc3', 'truck13', 0), 1.0)\n",
      "(('loc2', 'loc5', 'truck25', 0), 1.0)\n",
      "(('loc3', 'loc4', 'truck34', 0), 1.0)\n",
      "(('loc4', 'loc5', 'truck45', 0), 1.0)\n",
      "(('loc4', 'loc7', 'truck47', 0), 1.0)\n",
      "(('loc6', 'loc4', 'truck64', 0), 1.0)\n",
      "(('loc7', 'loc5', 'truck75', 0), 1.0)\n"
     ]
    }
   ],
   "source": [
    "print(*[(key, value) for key, value in output[scenario_names[idx]]['X_F'].items() if value!=0], sep='\\n')"
   ],
   "metadata": {
    "collapsed": false,
    "ExecuteTime": {
     "end_time": "2025-02-12T17:41:38.310561Z",
     "start_time": "2025-02-12T17:41:38.307548Z"
    }
   },
   "id": "6da901e533165bb2",
   "execution_count": 210
  },
  {
   "cell_type": "code",
   "outputs": [
    {
     "name": "stdout",
     "output_type": "stream",
     "text": [
      "(('loc5', 'com1_store_com1_in_stored', 0), 13500.0)\n"
     ]
    }
   ],
   "source": [
    "print(*[(key, value) for key, value in output[scenario_names[idx]]['Cap_S'].items() if value!=0], sep='\\n')"
   ],
   "metadata": {
    "collapsed": false,
    "ExecuteTime": {
     "end_time": "2025-02-12T17:41:09.892701Z",
     "start_time": "2025-02-12T17:41:09.889248Z"
    }
   },
   "id": "2c551fda669186a",
   "execution_count": 208
  },
  {
   "cell_type": "code",
   "outputs": [
    {
     "name": "stdout",
     "output_type": "stream",
     "text": [
      "(('loc5', 'com1_store_com1_in_stored', 0), 1.0)\n"
     ]
    }
   ],
   "source": [
    "print(*[(key, value) for key, value in output[scenario_names[idx]]['X_S'].items() if value!=0], sep='\\n')"
   ],
   "metadata": {
    "collapsed": false,
    "ExecuteTime": {
     "end_time": "2025-02-12T17:41:19.596554Z",
     "start_time": "2025-02-12T17:41:19.593076Z"
    }
   },
   "id": "7420100788620acd",
   "execution_count": 209
  },
  {
   "cell_type": "code",
   "outputs": [],
   "source": [],
   "metadata": {
    "collapsed": false
   },
   "id": "b3e450384c227c38"
  },
  {
   "cell_type": "code",
   "outputs": [],
   "source": [
    "# for name in scenario_names:\n",
    "#     print([name for key, value in output[name][\"Exp\"].items() if value and value!=0 and key[0:2]==('loc1','loc3')])"
   ],
   "metadata": {
    "collapsed": false,
    "ExecuteTime": {
     "end_time": "2025-02-12T17:40:52.459887Z",
     "start_time": "2025-02-12T17:40:52.456483Z"
    }
   },
   "id": "72f41eaa89b0313e",
   "execution_count": 206
  },
  {
   "cell_type": "code",
   "outputs": [
    {
     "name": "stdout",
     "output_type": "stream",
     "text": [
      "(('loc1', 'com1_loc1_send', 0), 20250.0)\n",
      "(('loc1', 'com1_process', 0), 20250.0)\n",
      "(('loc1', 'procure com1', 0), 20250.0)\n",
      "(('loc2', 'com1_loc2_send', 0), 20250.0)\n",
      "(('loc2', 'com1_process', 0), 20250.0)\n",
      "(('loc2', 'com1_receive_loc1', 0), 20250.0)\n",
      "(('loc3', 'com1_loc3_send', 0), 20250.0)\n",
      "(('loc3', 'com1_process', 0), 20250.0)\n",
      "(('loc3', 'com1_receive_loc1', 0), 20250.0)\n",
      "(('loc4', 'com1_loc4_send', 0), 40500.0)\n",
      "(('loc4', 'com1_process', 0), 40500.0)\n",
      "(('loc4', 'com1_receive_loc3', 0), 20250.0)\n",
      "(('loc4', 'com1_receive_loc6', 0), 20250.0)\n",
      "(('loc5', 'com1_process', 0), 36000.0)\n",
      "(('loc5', 'com1_receive_loc2', 0), 20250.0)\n",
      "(('loc5', 'com1_receive_loc4', 0), 20250.0)\n",
      "(('loc5', 'com1_receive_loc7', 0), 20250.0)\n",
      "(('loc5', 'com1_store', 0), 4500.0)\n",
      "(('loc5', 'com1_store_discharge', 0), 13500.0)\n",
      "(('loc5', 'sell com1', 0), 36000.0)\n",
      "(('loc6', 'com1_loc6_send', 0), 20250.0)\n",
      "(('loc6', 'com1_process', 0), 20250.0)\n",
      "(('loc6', 'procure com1', 0), 20250.0)\n",
      "(('loc7', 'com1_loc7_send', 0), 20250.0)\n",
      "(('loc7', 'com1_process', 0), 20250.0)\n",
      "(('loc7', 'com1_receive_loc4', 0), 20250.0)\n"
     ]
    }
   ],
   "source": [
    "print(*[(key, value) for key, value in output[scenario_names[idx]]['Cap_P'].items() if value!=0 and value and key[-1:]==(0,)], sep='\\n')"
   ],
   "metadata": {
    "collapsed": false,
    "ExecuteTime": {
     "end_time": "2025-02-12T18:12:21.208132Z",
     "start_time": "2025-02-12T18:12:21.204604Z"
    }
   },
   "id": "92cbf92d7cebf8ac",
   "execution_count": 217
  },
  {
   "cell_type": "code",
   "outputs": [
    {
     "name": "stdout",
     "output_type": "stream",
     "text": [
      "(('loc1', 'com1_loc1_send', 0), 20250.0)\n",
      "(('loc1', 'com1_process', 0), 20250.0)\n",
      "(('loc1', 'procure com1', 0), 20250.0)\n",
      "(('loc2', 'com1_loc2_send', 0), 20250.0)\n",
      "(('loc2', 'com1_process', 0), 20250.0)\n",
      "(('loc2', 'com1_receive_loc1', 0), 20250.0)\n",
      "(('loc3', 'com1_loc3_send', 0), 20250.0)\n",
      "(('loc3', 'com1_process', 0), 20250.0)\n",
      "(('loc3', 'com1_receive_loc1', 0), 20250.0)\n",
      "(('loc4', 'com1_loc4_send', 0), 40500.0)\n",
      "(('loc4', 'com1_process', 0), 40500.0)\n",
      "(('loc4', 'com1_receive_loc3', 0), 20250.0)\n",
      "(('loc4', 'com1_receive_loc6', 0), 20250.0)\n",
      "(('loc5', 'com1_process', 0), 36000.0)\n",
      "(('loc5', 'com1_receive_loc2', 0), 20250.0)\n",
      "(('loc5', 'com1_receive_loc4', 0), 20250.0)\n",
      "(('loc5', 'com1_receive_loc7', 0), 20250.0)\n",
      "(('loc5', 'com1_store', 0), 4500.0)\n",
      "(('loc5', 'com1_store_discharge', 0), 13500.0)\n",
      "(('loc5', 'sell com1', 0), 36000.0)\n",
      "(('loc6', 'com1_loc6_send', 0), 20250.0)\n",
      "(('loc6', 'com1_process', 0), 20250.0)\n",
      "(('loc6', 'procure com1', 0), 20250.0)\n",
      "(('loc7', 'com1_loc7_send', 0), 20250.0)\n",
      "(('loc7', 'com1_process', 0), 20250.0)\n",
      "(('loc7', 'com1_receive_loc4', 0), 20250.0)\n"
     ]
    }
   ],
   "source": [
    "print(*[(key, value) for key, value in output[scenario_names[565]]['Cap_P'].items() if value!=0 and value and key[-1:]==(0,)], sep='\\n')"
   ],
   "metadata": {
    "collapsed": false,
    "ExecuteTime": {
     "end_time": "2025-02-12T18:38:44.364888Z",
     "start_time": "2025-02-12T18:38:44.361759Z"
    }
   },
   "id": "df6bc3e01e78ba55",
   "execution_count": 219
  },
  {
   "cell_type": "code",
   "outputs": [],
   "source": [
    "with open(r'C:\\Users\\shivam.vedant\\PycharmProjects\\energiapy\\docs\\notebooks\\supply chain\\AIChE 2024\\Final Results\\ssoln_4096_UI_HP.pkl', 'rb') as file:\n",
    "    ssoln_dict = pickle.load(file)"
   ],
   "metadata": {
    "collapsed": false,
    "ExecuteTime": {
     "end_time": "2025-02-12T18:03:34.089458Z",
     "start_time": "2025-02-12T18:03:34.081826Z"
    }
   },
   "id": "9f0d0d4f6a9b2e5d",
   "execution_count": 212
  },
  {
   "cell_type": "code",
   "outputs": [
    {
     "name": "stdout",
     "output_type": "stream",
     "text": [
      "('X_P[loc1,com1_loc1_send,0]', 1.0)\n",
      "('X_P[loc1,com1_process,0]', 1.0)\n",
      "('X_P[loc1,procure com1,0]', 1.0)\n",
      "('X_P[loc2,com1_loc2_send,0]', 1.0)\n",
      "('X_P[loc2,com1_process,0]', 1.0)\n",
      "('X_P[loc2,com1_receive_loc1,0]', 1.0)\n",
      "('X_P[loc3,com1_loc3_send,0]', 1.0)\n",
      "('X_P[loc3,com1_process,0]', 1.0)\n",
      "('X_P[loc3,com1_receive_loc1,0]', 1.0)\n",
      "('X_P[loc4,com1_loc4_send,0]', 1.0)\n",
      "('X_P[loc4,com1_process,0]', 1.0)\n",
      "('X_P[loc4,com1_receive_loc3,0]', 1.0)\n",
      "('X_P[loc4,com1_receive_loc6,0]', 1.0)\n",
      "('X_P[loc5,com1_process,0]', 1.0)\n",
      "('X_P[loc5,com1_receive_loc2,0]', 1.0)\n",
      "('X_P[loc5,com1_receive_loc4,0]', 1.0)\n",
      "('X_P[loc5,com1_receive_loc7,0]', 1.0)\n",
      "('X_P[loc5,com1_store,0]', 1.0)\n",
      "('X_P[loc5,com1_store_discharge,0]', 1.0)\n",
      "('X_P[loc5,sell com1,0]', 1.0)\n",
      "('X_P[loc6,com1_loc6_send,0]', 1.0)\n",
      "('X_P[loc6,com1_process,0]', 1.0)\n",
      "('X_P[loc6,procure com1,0]', 1.0)\n",
      "('X_P[loc7,com1_loc7_send,0]', 1.0)\n",
      "('X_P[loc7,com1_process,0]', 1.0)\n",
      "('X_P[loc7,com1_receive_loc4,0]', 1.0)\n",
      "('Cap_P[loc1,com1_loc1_send,0]', 20250.0)\n",
      "('Cap_P[loc1,com1_process,0]', 20250.0)\n",
      "('Cap_P[loc1,procure com1,0]', 20250.0)\n",
      "('Cap_P[loc2,com1_loc2_send,0]', 20250.0)\n",
      "('Cap_P[loc2,com1_process,0]', 20250.0)\n",
      "('Cap_P[loc2,com1_receive_loc1,0]', 20250.0)\n",
      "('Cap_P[loc3,com1_loc3_send,0]', 20250.0)\n",
      "('Cap_P[loc3,com1_process,0]', 20250.0)\n",
      "('Cap_P[loc3,com1_receive_loc1,0]', 20250.0)\n",
      "('Cap_P[loc4,com1_loc4_send,0]', 40500.0)\n",
      "('Cap_P[loc4,com1_process,0]', 40500.0)\n",
      "('Cap_P[loc4,com1_receive_loc3,0]', 20250.0)\n",
      "('Cap_P[loc4,com1_receive_loc6,0]', 20250.0)\n",
      "('Cap_P[loc5,com1_process,0]', 36000.0)\n",
      "('Cap_P[loc5,com1_receive_loc2,0]', 20250.0)\n",
      "('Cap_P[loc5,com1_receive_loc4,0]', 20250.0)\n",
      "('Cap_P[loc5,com1_receive_loc7,0]', 20250.0)\n",
      "('Cap_P[loc5,com1_store,0]', 4500.0)\n",
      "('Cap_P[loc5,com1_store_discharge,0]', 13500.0)\n",
      "('Cap_P[loc5,sell com1,0]', 36000.0)\n",
      "('Cap_P[loc6,com1_loc6_send,0]', 20250.0)\n",
      "('Cap_P[loc6,com1_process,0]', 20250.0)\n",
      "('Cap_P[loc6,procure com1,0]', 20250.0)\n",
      "('Cap_P[loc7,com1_loc7_send,0]', 20250.0)\n",
      "('Cap_P[loc7,com1_process,0]', 20250.0)\n",
      "('Cap_P[loc7,com1_receive_loc4,0]', 20250.0)\n",
      "('X_S[loc5,com1_store_com1_in_stored,0]', 1.0)\n",
      "('Cap_S[loc5,com1_store_com1_in_stored,0]', 13500.0)\n",
      "('X_F[loc1,loc2,truck12,0]', 1.0)\n",
      "('X_F[loc1,loc3,truck13,0]', 1.0)\n",
      "('X_F[loc2,loc5,truck25,0]', 1.0)\n",
      "('X_F[loc3,loc4,truck34,0]', 1.0)\n",
      "('X_F[loc4,loc5,truck45,0]', 1.0)\n",
      "('X_F[loc4,loc7,truck47,0]', 1.0)\n",
      "('X_F[loc6,loc4,truck64,0]', 1.0)\n",
      "('X_F[loc7,loc5,truck75,0]', 1.0)\n",
      "('Cap_F[loc1,loc2,truck12,0]', 20250.0)\n",
      "('Cap_F[loc1,loc3,truck13,0]', 20250.0)\n",
      "('Cap_F[loc2,loc5,truck25,0]', 20250.0)\n",
      "('Cap_F[loc3,loc4,truck34,0]', 20250.0)\n",
      "('Cap_F[loc4,loc5,truck45,0]', 20250.0)\n",
      "('Cap_F[loc4,loc7,truck47,0]', 20250.0)\n",
      "('Cap_F[loc6,loc4,truck64,0]', 20250.0)\n",
      "('Cap_F[loc7,loc5,truck75,0]', 20250.0)\n"
     ]
    }
   ],
   "source": [
    "print(*[(key, value) for key, value in ssoln_dict.items() if value], sep='\\n')"
   ],
   "metadata": {
    "collapsed": false,
    "ExecuteTime": {
     "end_time": "2025-02-12T18:04:07.023816Z",
     "start_time": "2025-02-12T18:04:07.020267Z"
    }
   },
   "id": "6f347e2c2072c01a",
   "execution_count": 214
  },
  {
   "cell_type": "code",
   "outputs": [],
   "source": [],
   "metadata": {
    "collapsed": false
   },
   "id": "7c22a1c61bdb71f3"
  }
 ],
 "metadata": {
  "kernelspec": {
   "display_name": "Python 3",
   "language": "python",
   "name": "python3"
  },
  "language_info": {
   "codemirror_mode": {
    "name": "ipython",
    "version": 2
   },
   "file_extension": ".py",
   "mimetype": "text/x-python",
   "name": "python",
   "nbconvert_exporter": "python",
   "pygments_lexer": "ipython2",
   "version": "2.7.6"
  }
 },
 "nbformat": 4,
 "nbformat_minor": 5
}
