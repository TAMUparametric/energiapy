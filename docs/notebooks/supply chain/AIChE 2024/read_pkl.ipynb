{
 "cells": [
  {
   "cell_type": "code",
   "id": "initial_id",
   "metadata": {
    "collapsed": true,
    "ExecuteTime": {
     "end_time": "2025-02-19T21:32:23.167590Z",
     "start_time": "2025-02-19T21:32:23.165449Z"
    }
   },
   "source": [
    "import pickle"
   ],
   "outputs": [],
   "execution_count": 16
  },
  {
   "metadata": {
    "ExecuteTime": {
     "end_time": "2025-02-19T21:32:42.732322Z",
     "start_time": "2025-02-19T21:32:23.183511Z"
    }
   },
   "cell_type": "code",
   "source": [
    "with open(r'output_4096_UI_HP.pkl', 'rb') as file:\n",
    "    output = pickle.load(file)"
   ],
   "id": "7c6dbd29c8fcce43",
   "outputs": [],
   "execution_count": 17
  },
  {
   "metadata": {
    "ExecuteTime": {
     "end_time": "2025-02-19T21:32:42.737008Z",
     "start_time": "2025-02-19T21:32:42.733342Z"
    }
   },
   "cell_type": "code",
   "source": [
    "scenario_names = list(output.keys())"
   ],
   "id": "30bcb340fde7d562",
   "outputs": [],
   "execution_count": 18
  },
  {
   "cell_type": "code",
   "outputs": [],
   "source": [
    "# scenario_names[0]"
   ],
   "metadata": {
    "collapsed": false,
    "ExecuteTime": {
     "end_time": "2025-02-19T21:32:42.741370Z",
     "start_time": "2025-02-19T21:32:42.737008Z"
    }
   },
   "id": "c79993c110f6025",
   "execution_count": 19
  },
  {
   "metadata": {
    "ExecuteTime": {
     "end_time": "2025-02-19T21:32:42.747443Z",
     "start_time": "2025-02-19T21:32:42.743470Z"
    }
   },
   "cell_type": "code",
   "source": [
    "# idx =scenario_names.index('res1_2 cap2_1 trans12_nd cap7_2 cap4_nd res6_nd trans25_nd')\n",
    "# idx =scenario_names.index('res1_nd cap2_1 trans12_nd cap7_2 cap4_nd res6_nd trans25_nd')\n",
    "# idx = scenario_names.index('res1_nd cap2_nd trans12_nd cap7_1 cap4_nd res6_3 trans25_nd')\n",
    "# idx = scenario_names.index('res1_3 cap2_1 trans12_nd cap7_nd cap4_nd res6_nd trans25_nd') # -> this one\n",
    "\n",
    "idx = scenario_names.index('res1_nd cap2_1 trans12_nd cap7_2 cap4_nd res6_nd trans25_nd')\n",
    "scenario_names[idx]"
   ],
   "id": "d12e8b9006d368fa",
   "outputs": [
    {
     "data": {
      "text/plain": "'res1_nd cap2_1 trans12_nd cap7_2 cap4_nd res6_nd trans25_nd'"
     },
     "execution_count": 20,
     "metadata": {},
     "output_type": "execute_result"
    }
   ],
   "execution_count": 20
  },
  {
   "cell_type": "code",
   "outputs": [
    {
     "name": "stdout",
     "output_type": "stream",
     "text": [
      "(('loc5', 'com1_sold', 0, 0), 36000.0)\n",
      "(('loc5', 'com1_sold', 0, 1), 36000.0)\n",
      "(('loc5', 'com1_sold', 0, 2), 36000.0)\n",
      "(('loc5', 'com1_sold', 0, 3), 36000.0)\n"
     ]
    }
   ],
   "source": [
    "print(*[(key, value) for key, value in output[scenario_names[idx]]['S'].items() if value!=0], sep='\\n')"
   ],
   "metadata": {
    "collapsed": false,
    "ExecuteTime": {
     "end_time": "2025-02-19T21:32:42.751354Z",
     "start_time": "2025-02-19T21:32:42.747443Z"
    }
   },
   "id": "b5fbbd2e7a737f5",
   "execution_count": 21
  },
  {
   "metadata": {
    "ExecuteTime": {
     "end_time": "2025-02-19T21:35:23.642741Z",
     "start_time": "2025-02-19T21:35:23.633794Z"
    }
   },
   "cell_type": "code",
   "source": [
    "print(*[(key, value) for key, value in output[scenario_names[idx]]['P'].items() if value!=0 and key[1:]==('procure com1',0,2)], sep='\\n')"
   ],
   "id": "76970b920763e500",
   "outputs": [
    {
     "name": "stdout",
     "output_type": "stream",
     "text": [
      "(('loc1', 'procure com1', 0, 2), 14850.0)\n",
      "(('loc6', 'procure com1', 0, 2), 20250.0)\n"
     ]
    }
   ],
   "execution_count": 40
  },
  {
   "metadata": {
    "ExecuteTime": {
     "end_time": "2025-02-19T21:32:42.761297Z",
     "start_time": "2025-02-19T21:32:42.756796Z"
    }
   },
   "cell_type": "code",
   "outputs": [
    {
     "name": "stdout",
     "output_type": "stream",
     "text": [
      "(('loc1', 'com1_store_com1_in_stored', 0, 0), 0.0)\n",
      "(('loc1', 'com1_store_com1_in_stored', 0, 1), 0.0)\n",
      "(('loc1', 'com1_store_com1_in_stored', 0, 2), 0.0)\n",
      "(('loc1', 'com1_store_com1_in_stored', 0, 3), 0.0)\n",
      "(('loc2', 'com1_store_com1_in_stored', 0, 0), 0.0)\n",
      "(('loc2', 'com1_store_com1_in_stored', 0, 1), 0.0)\n",
      "(('loc2', 'com1_store_com1_in_stored', 0, 2), 0.0)\n",
      "(('loc2', 'com1_store_com1_in_stored', 0, 3), 0.0)\n",
      "(('loc3', 'com1_store_com1_in_stored', 0, 0), 0.0)\n",
      "(('loc3', 'com1_store_com1_in_stored', 0, 1), 0.0)\n",
      "(('loc3', 'com1_store_com1_in_stored', 0, 2), 0.0)\n",
      "(('loc3', 'com1_store_com1_in_stored', 0, 3), 0.0)\n",
      "(('loc4', 'com1_store_com1_in_stored', 0, 0), 0.0)\n",
      "(('loc4', 'com1_store_com1_in_stored', 0, 1), 0.0)\n",
      "(('loc4', 'com1_store_com1_in_stored', 0, 2), 0.0)\n",
      "(('loc4', 'com1_store_com1_in_stored', 0, 3), 0.0)\n",
      "(('loc5', 'com1_store_com1_in_stored', 0, 0), 4500.0)\n",
      "(('loc5', 'com1_store_com1_in_stored', 0, 1), 900.0)\n",
      "(('loc5', 'com1_store_com1_in_stored', 0, 2), 0.0)\n",
      "(('loc5', 'com1_store_com1_in_stored', 0, 3), 0.0)\n",
      "(('loc6', 'com1_store_com1_in_stored', 0, 0), 0.0)\n",
      "(('loc6', 'com1_store_com1_in_stored', 0, 1), 0.0)\n",
      "(('loc6', 'com1_store_com1_in_stored', 0, 2), 0.0)\n",
      "(('loc6', 'com1_store_com1_in_stored', 0, 3), 0.0)\n",
      "(('loc7', 'com1_store_com1_in_stored', 0, 0), 0.0)\n",
      "(('loc7', 'com1_store_com1_in_stored', 0, 1), 0.0)\n",
      "(('loc7', 'com1_store_com1_in_stored', 0, 2), 0.0)\n",
      "(('loc7', 'com1_store_com1_in_stored', 0, 3), 0.0)\n"
     ]
    }
   ],
   "execution_count": 23,
   "source": [
    "print(*[(key, value) for key, value in output[scenario_names[idx]]['Inv'].items()], sep='\\n')"
   ],
   "id": "2b916c28e9550d98"
  },
  {
   "cell_type": "code",
   "outputs": [
    {
     "name": "stdout",
     "output_type": "stream",
     "text": [
      "(('loc1', 'loc3', 'truck13', 'com1_loc1_out', 0, 2), 14850.0)\n",
      "(('loc3', 'loc4', 'truck34', 'com1_loc3_out', 0, 2), 14850.0)\n",
      "(('loc4', 'loc5', 'truck45', 'com1_loc4_out', 0, 2), 35100.0)\n",
      "(('loc6', 'loc4', 'truck64', 'com1_loc6_out', 0, 2), 20250.0)\n"
     ]
    }
   ],
   "source": [
    "print(*[(key, value) for key, value in output[scenario_names[idx]]['Exp'].items() if value and key[-2:]==(0,2)], sep='\\n')"
   ],
   "metadata": {
    "collapsed": false,
    "ExecuteTime": {
     "end_time": "2025-02-19T21:33:09.355610Z",
     "start_time": "2025-02-19T21:33:09.353158Z"
    }
   },
   "id": "7cb223d51206d0a9",
   "execution_count": 35
  },
  {
   "cell_type": "code",
   "outputs": [
    {
     "name": "stdout",
     "output_type": "stream",
     "text": [
      "(('loc1', 'loc2', 'truck12', 0), 20250.0)\n",
      "(('loc1', 'loc3', 'truck13', 0), 20250.0)\n",
      "(('loc2', 'loc5', 'truck25', 0), 20250.0)\n",
      "(('loc3', 'loc4', 'truck34', 0), 20250.0)\n",
      "(('loc4', 'loc5', 'truck45', 0), 40500.0)\n",
      "(('loc4', 'loc7', 'truck47', 0), 32400.0)\n",
      "(('loc6', 'loc4', 'truck64', 0), 20250.0)\n",
      "(('loc7', 'loc5', 'truck75', 0), 32400.0)\n"
     ]
    }
   ],
   "source": [
    "print(*[(key, value) for key, value in output[scenario_names[idx]]['Cap_F'].items() if value!=0], sep='\\n')"
   ],
   "metadata": {
    "collapsed": false,
    "ExecuteTime": {
     "end_time": "2025-02-19T21:32:42.771016Z",
     "start_time": "2025-02-19T21:32:42.768037Z"
    }
   },
   "id": "b08c8b091c7d5cdc",
   "execution_count": 25
  },
  {
   "cell_type": "code",
   "outputs": [
    {
     "name": "stdout",
     "output_type": "stream",
     "text": [
      "(('loc1', 'loc2', 'truck12', 0), 1.0)\n",
      "(('loc1', 'loc3', 'truck13', 0), 1.0)\n",
      "(('loc2', 'loc5', 'truck25', 0), 1.0)\n",
      "(('loc3', 'loc4', 'truck34', 0), 1.0)\n",
      "(('loc4', 'loc5', 'truck45', 0), 1.0)\n",
      "(('loc4', 'loc7', 'truck47', 0), 1.0)\n",
      "(('loc6', 'loc4', 'truck64', 0), 1.0)\n",
      "(('loc7', 'loc5', 'truck75', 0), 1.0)\n"
     ]
    }
   ],
   "source": [
    "print(*[(key, value) for key, value in output[scenario_names[idx]]['X_F'].items() if value!=0], sep='\\n')"
   ],
   "metadata": {
    "collapsed": false,
    "ExecuteTime": {
     "end_time": "2025-02-19T21:32:42.776177Z",
     "start_time": "2025-02-19T21:32:42.773065Z"
    }
   },
   "id": "6da901e533165bb2",
   "execution_count": 26
  },
  {
   "cell_type": "code",
   "outputs": [
    {
     "name": "stdout",
     "output_type": "stream",
     "text": [
      "(('loc4', 'com1_store_com1_in_stored', 0), 8100.0)\n",
      "(('loc5', 'com1_store_com1_in_stored', 0), 13500.0)\n"
     ]
    }
   ],
   "source": [
    "print(*[(key, value) for key, value in output[scenario_names[idx]]['Cap_S'].items() if value!=0], sep='\\n')"
   ],
   "metadata": {
    "collapsed": false,
    "ExecuteTime": {
     "end_time": "2025-02-19T21:32:42.779604Z",
     "start_time": "2025-02-19T21:32:42.776177Z"
    }
   },
   "id": "2c551fda669186a",
   "execution_count": 27
  },
  {
   "cell_type": "code",
   "outputs": [
    {
     "name": "stdout",
     "output_type": "stream",
     "text": [
      "(('loc4', 'com1_store_com1_in_stored', 0), 1.0)\n",
      "(('loc5', 'com1_store_com1_in_stored', 0), 1.0)\n"
     ]
    }
   ],
   "source": [
    "print(*[(key, value) for key, value in output[scenario_names[idx]]['X_S'].items() if value!=0], sep='\\n')"
   ],
   "metadata": {
    "collapsed": false,
    "ExecuteTime": {
     "end_time": "2025-02-19T21:32:42.783049Z",
     "start_time": "2025-02-19T21:32:42.780643Z"
    }
   },
   "id": "7420100788620acd",
   "execution_count": 28
  },
  {
   "cell_type": "code",
   "outputs": [
    {
     "name": "stdout",
     "output_type": "stream",
     "text": [
      "(('loc1', 'com1_loc1_send', 0), 20250.0)\n",
      "(('loc1', 'com1_process', 0), 20250.0)\n",
      "(('loc1', 'procure com1', 0), 20250.0)\n",
      "(('loc2', 'com1_loc2_send', 0), 20250.0)\n",
      "(('loc2', 'com1_process', 0), 20250.0)\n",
      "(('loc2', 'com1_receive_loc1', 0), 20250.0)\n",
      "(('loc3', 'com1_loc3_send', 0), 20250.0)\n",
      "(('loc3', 'com1_process', 0), 20250.0)\n",
      "(('loc3', 'com1_receive_loc1', 0), 20250.0)\n",
      "(('loc4', 'com1_loc4_send', 0), 40500.0)\n",
      "(('loc4', 'com1_process', 0), 40500.0)\n",
      "(('loc4', 'com1_receive_loc3', 0), 20250.0)\n",
      "(('loc4', 'com1_receive_loc6', 0), 20250.0)\n",
      "(('loc4', 'com1_store', 0), 8100.0)\n",
      "(('loc4', 'com1_store_discharge', 0), 8100.0)\n",
      "(('loc5', 'com1_process', 0), 36000.0)\n",
      "(('loc5', 'com1_receive_loc2', 0), 20250.0)\n",
      "(('loc5', 'com1_receive_loc4', 0), 40500.0)\n",
      "(('loc5', 'com1_receive_loc7', 0), 32400.0)\n",
      "(('loc5', 'com1_store', 0), 4500.0)\n",
      "(('loc5', 'com1_store_discharge', 0), 13500.0)\n",
      "(('loc5', 'sell com1', 0), 36000.0)\n",
      "(('loc6', 'com1_loc6_send', 0), 20250.0)\n",
      "(('loc6', 'com1_process', 0), 20250.0)\n",
      "(('loc6', 'procure com1', 0), 20250.0)\n",
      "(('loc7', 'com1_loc7_send', 0), 32400.0)\n",
      "(('loc7', 'com1_process', 0), 32400.0)\n",
      "(('loc7', 'com1_receive_loc4', 0), 32400.0)\n"
     ]
    }
   ],
   "source": [
    "print(*[(key, value) for key, value in output[scenario_names[idx]]['Cap_P'].items() if value!=0], sep='\\n')"
   ],
   "metadata": {
    "collapsed": false,
    "ExecuteTime": {
     "end_time": "2025-02-19T21:32:42.787103Z",
     "start_time": "2025-02-19T21:32:42.783049Z"
    }
   },
   "id": "303e0790091a8202",
   "execution_count": 29
  },
  {
   "cell_type": "code",
   "outputs": [],
   "source": [],
   "metadata": {
    "collapsed": false,
    "ExecuteTime": {
     "end_time": "2025-02-19T21:32:42.789388Z",
     "start_time": "2025-02-19T21:32:42.787103Z"
    }
   },
   "id": "b3e450384c227c38",
   "execution_count": 29
  },
  {
   "cell_type": "code",
   "outputs": [],
   "source": [
    "# for name in scenario_names:\n",
    "#     print([name for key, value in output[name][\"Exp\"].items() if value and value!=0 and key[0:2]==('loc1','loc3')])"
   ],
   "metadata": {
    "collapsed": false,
    "ExecuteTime": {
     "end_time": "2025-02-19T21:32:42.791834Z",
     "start_time": "2025-02-19T21:32:42.789388Z"
    }
   },
   "id": "72f41eaa89b0313e",
   "execution_count": 30
  },
  {
   "cell_type": "code",
   "outputs": [
    {
     "name": "stdout",
     "output_type": "stream",
     "text": [
      "(('loc1', 'com1_loc1_send', 0), 20250.0)\n",
      "(('loc1', 'com1_process', 0), 20250.0)\n",
      "(('loc1', 'procure com1', 0), 20250.0)\n",
      "(('loc2', 'com1_loc2_send', 0), 20250.0)\n",
      "(('loc2', 'com1_process', 0), 20250.0)\n",
      "(('loc2', 'com1_receive_loc1', 0), 20250.0)\n",
      "(('loc3', 'com1_loc3_send', 0), 20250.0)\n",
      "(('loc3', 'com1_process', 0), 20250.0)\n",
      "(('loc3', 'com1_receive_loc1', 0), 20250.0)\n",
      "(('loc4', 'com1_loc4_send', 0), 40500.0)\n",
      "(('loc4', 'com1_process', 0), 40500.0)\n",
      "(('loc4', 'com1_receive_loc3', 0), 20250.0)\n",
      "(('loc4', 'com1_receive_loc6', 0), 20250.0)\n",
      "(('loc4', 'com1_store', 0), 8100.0)\n",
      "(('loc4', 'com1_store_discharge', 0), 8100.0)\n",
      "(('loc5', 'com1_process', 0), 36000.0)\n",
      "(('loc5', 'com1_receive_loc2', 0), 20250.0)\n",
      "(('loc5', 'com1_receive_loc4', 0), 40500.0)\n",
      "(('loc5', 'com1_receive_loc7', 0), 32400.0)\n",
      "(('loc5', 'com1_store', 0), 4500.0)\n",
      "(('loc5', 'com1_store_discharge', 0), 13500.0)\n",
      "(('loc5', 'sell com1', 0), 36000.0)\n",
      "(('loc6', 'com1_loc6_send', 0), 20250.0)\n",
      "(('loc6', 'com1_process', 0), 20250.0)\n",
      "(('loc6', 'procure com1', 0), 20250.0)\n",
      "(('loc7', 'com1_loc7_send', 0), 32400.0)\n",
      "(('loc7', 'com1_process', 0), 32400.0)\n",
      "(('loc7', 'com1_receive_loc4', 0), 32400.0)\n"
     ]
    }
   ],
   "source": [
    "print(*[(key, value) for key, value in output[scenario_names[idx]]['Cap_P'].items() if value!=0 and value and key[-1:]==(0,)], sep='\\n')"
   ],
   "metadata": {
    "collapsed": false,
    "ExecuteTime": {
     "end_time": "2025-02-19T21:32:42.797077Z",
     "start_time": "2025-02-19T21:32:42.792869Z"
    }
   },
   "id": "92cbf92d7cebf8ac",
   "execution_count": 31
  },
  {
   "cell_type": "code",
   "outputs": [
    {
     "name": "stdout",
     "output_type": "stream",
     "text": [
      "(('loc1', 'com1_loc1_send', 0), 20250.0)\n",
      "(('loc1', 'com1_process', 0), 20250.0)\n",
      "(('loc1', 'procure com1', 0), 20250.0)\n",
      "(('loc2', 'com1_loc2_send', 0), 20250.0)\n",
      "(('loc2', 'com1_process', 0), 20250.0)\n",
      "(('loc2', 'com1_receive_loc1', 0), 20250.0)\n",
      "(('loc3', 'com1_loc3_send', 0), 20250.0)\n",
      "(('loc3', 'com1_process', 0), 20250.0)\n",
      "(('loc3', 'com1_receive_loc1', 0), 20250.0)\n",
      "(('loc4', 'com1_loc4_send', 0), 40500.0)\n",
      "(('loc4', 'com1_process', 0), 40500.0)\n",
      "(('loc4', 'com1_receive_loc3', 0), 20250.0)\n",
      "(('loc4', 'com1_receive_loc6', 0), 20250.0)\n",
      "(('loc4', 'com1_store', 0), 8100.0)\n",
      "(('loc4', 'com1_store_discharge', 0), 8100.0)\n",
      "(('loc5', 'com1_process', 0), 36000.0)\n",
      "(('loc5', 'com1_receive_loc2', 0), 20250.0)\n",
      "(('loc5', 'com1_receive_loc4', 0), 40500.0)\n",
      "(('loc5', 'com1_receive_loc7', 0), 32400.0)\n",
      "(('loc5', 'com1_store', 0), 4500.0)\n",
      "(('loc5', 'com1_store_discharge', 0), 13500.0)\n",
      "(('loc5', 'sell com1', 0), 36000.0)\n",
      "(('loc6', 'com1_loc6_send', 0), 20250.0)\n",
      "(('loc6', 'com1_process', 0), 20250.0)\n",
      "(('loc6', 'procure com1', 0), 20250.0)\n",
      "(('loc7', 'com1_loc7_send', 0), 32400.0)\n",
      "(('loc7', 'com1_process', 0), 32400.0)\n",
      "(('loc7', 'com1_receive_loc4', 0), 32400.0)\n"
     ]
    }
   ],
   "source": [
    "print(*[(key, value) for key, value in output[scenario_names[55]]['Cap_P'].items() if value!=0 and value and key[-1:]==(0,)], sep='\\n')"
   ],
   "metadata": {
    "collapsed": false,
    "ExecuteTime": {
     "end_time": "2025-02-19T21:32:42.802341Z",
     "start_time": "2025-02-19T21:32:42.798158Z"
    }
   },
   "id": "df6bc3e01e78ba55",
   "execution_count": 32
  },
  {
   "cell_type": "code",
   "outputs": [],
   "source": [
    "with open(r'C:\\Users\\shivam.vedant\\PycharmProjects\\energiapy\\docs\\notebooks\\supply chain\\AIChE 2024\\Final Results\\ssoln_4096_UI_HP.pkl', 'rb') as file:\n",
    "    ssoln_dict = pickle.load(file)"
   ],
   "metadata": {
    "collapsed": false,
    "ExecuteTime": {
     "end_time": "2025-02-19T21:32:42.808861Z",
     "start_time": "2025-02-19T21:32:42.803372Z"
    }
   },
   "id": "9f0d0d4f6a9b2e5d",
   "execution_count": 33
  },
  {
   "cell_type": "code",
   "outputs": [
    {
     "name": "stdout",
     "output_type": "stream",
     "text": [
      "('X_P[loc1,com1_loc1_send,0]', 1.0)\n",
      "('X_P[loc1,com1_process,0]', 1.0)\n",
      "('X_P[loc1,procure com1,0]', 1.0)\n",
      "('X_P[loc2,com1_loc2_send,0]', 1.0)\n",
      "('X_P[loc2,com1_process,0]', 1.0)\n",
      "('X_P[loc2,com1_receive_loc1,0]', 1.0)\n",
      "('X_P[loc3,com1_loc3_send,0]', 1.0)\n",
      "('X_P[loc3,com1_process,0]', 1.0)\n",
      "('X_P[loc3,com1_receive_loc1,0]', 1.0)\n",
      "('X_P[loc4,com1_loc4_send,0]', 1.0)\n",
      "('X_P[loc4,com1_process,0]', 1.0)\n",
      "('X_P[loc4,com1_receive_loc3,0]', 1.0)\n",
      "('X_P[loc4,com1_receive_loc6,0]', 1.0)\n",
      "('X_P[loc5,com1_process,0]', 1.0)\n",
      "('X_P[loc5,com1_receive_loc2,0]', 1.0)\n",
      "('X_P[loc5,com1_receive_loc4,0]', 1.0)\n",
      "('X_P[loc5,com1_receive_loc7,0]', 1.0)\n",
      "('X_P[loc5,com1_store,0]', 1.0)\n",
      "('X_P[loc5,com1_store_discharge,0]', 1.0)\n",
      "('X_P[loc5,sell com1,0]', 1.0)\n",
      "('X_P[loc6,com1_loc6_send,0]', 1.0)\n",
      "('X_P[loc6,com1_process,0]', 1.0)\n",
      "('X_P[loc6,procure com1,0]', 1.0)\n",
      "('X_P[loc7,com1_loc7_send,0]', 1.0)\n",
      "('X_P[loc7,com1_process,0]', 1.0)\n",
      "('X_P[loc7,com1_receive_loc4,0]', 1.0)\n",
      "('Cap_P[loc1,com1_loc1_send,0]', 20250.0)\n",
      "('Cap_P[loc1,com1_process,0]', 20250.0)\n",
      "('Cap_P[loc1,procure com1,0]', 20250.0)\n",
      "('Cap_P[loc2,com1_loc2_send,0]', 20250.0)\n",
      "('Cap_P[loc2,com1_process,0]', 20250.0)\n",
      "('Cap_P[loc2,com1_receive_loc1,0]', 20250.0)\n",
      "('Cap_P[loc3,com1_loc3_send,0]', 20250.0)\n",
      "('Cap_P[loc3,com1_process,0]', 20250.0)\n",
      "('Cap_P[loc3,com1_receive_loc1,0]', 20250.0)\n",
      "('Cap_P[loc4,com1_loc4_send,0]', 40500.0)\n",
      "('Cap_P[loc4,com1_process,0]', 40500.0)\n",
      "('Cap_P[loc4,com1_receive_loc3,0]', 20250.0)\n",
      "('Cap_P[loc4,com1_receive_loc6,0]', 20250.0)\n",
      "('Cap_P[loc5,com1_process,0]', 36000.0)\n",
      "('Cap_P[loc5,com1_receive_loc2,0]', 20250.0)\n",
      "('Cap_P[loc5,com1_receive_loc4,0]', 20250.0)\n",
      "('Cap_P[loc5,com1_receive_loc7,0]', 20250.0)\n",
      "('Cap_P[loc5,com1_store,0]', 4500.0)\n",
      "('Cap_P[loc5,com1_store_discharge,0]', 13500.0)\n",
      "('Cap_P[loc5,sell com1,0]', 36000.0)\n",
      "('Cap_P[loc6,com1_loc6_send,0]', 20250.0)\n",
      "('Cap_P[loc6,com1_process,0]', 20250.0)\n",
      "('Cap_P[loc6,procure com1,0]', 20250.0)\n",
      "('Cap_P[loc7,com1_loc7_send,0]', 20250.0)\n",
      "('Cap_P[loc7,com1_process,0]', 20250.0)\n",
      "('Cap_P[loc7,com1_receive_loc4,0]', 20250.0)\n",
      "('X_S[loc5,com1_store_com1_in_stored,0]', 1.0)\n",
      "('Cap_S[loc5,com1_store_com1_in_stored,0]', 13500.0)\n",
      "('X_F[loc1,loc2,truck12,0]', 1.0)\n",
      "('X_F[loc1,loc3,truck13,0]', 1.0)\n",
      "('X_F[loc2,loc5,truck25,0]', 1.0)\n",
      "('X_F[loc3,loc4,truck34,0]', 1.0)\n",
      "('X_F[loc4,loc5,truck45,0]', 1.0)\n",
      "('X_F[loc4,loc7,truck47,0]', 1.0)\n",
      "('X_F[loc6,loc4,truck64,0]', 1.0)\n",
      "('X_F[loc7,loc5,truck75,0]', 1.0)\n",
      "('Cap_F[loc1,loc2,truck12,0]', 20250.0)\n",
      "('Cap_F[loc1,loc3,truck13,0]', 20250.0)\n",
      "('Cap_F[loc2,loc5,truck25,0]', 20250.0)\n",
      "('Cap_F[loc3,loc4,truck34,0]', 20250.0)\n",
      "('Cap_F[loc4,loc5,truck45,0]', 20250.0)\n",
      "('Cap_F[loc4,loc7,truck47,0]', 20250.0)\n",
      "('Cap_F[loc6,loc4,truck64,0]', 20250.0)\n",
      "('Cap_F[loc7,loc5,truck75,0]', 20250.0)\n"
     ]
    }
   ],
   "source": [
    "print(*[(key, value) for key, value in ssoln_dict.items() if value], sep='\\n')"
   ],
   "metadata": {
    "collapsed": false,
    "ExecuteTime": {
     "end_time": "2025-02-19T21:32:42.813082Z",
     "start_time": "2025-02-19T21:32:42.809902Z"
    }
   },
   "id": "6f347e2c2072c01a",
   "execution_count": 34
  },
  {
   "cell_type": "code",
   "outputs": [],
   "source": [],
   "metadata": {
    "collapsed": false,
    "ExecuteTime": {
     "end_time": "2025-02-19T21:32:42.816197Z",
     "start_time": "2025-02-19T21:32:42.814119Z"
    }
   },
   "id": "7c22a1c61bdb71f3",
   "execution_count": 34
  }
 ],
 "metadata": {
  "kernelspec": {
   "display_name": "Python 3",
   "language": "python",
   "name": "python3"
  },
  "language_info": {
   "codemirror_mode": {
    "name": "ipython",
    "version": 2
   },
   "file_extension": ".py",
   "mimetype": "text/x-python",
   "name": "python",
   "nbconvert_exporter": "python",
   "pygments_lexer": "ipython2",
   "version": "2.7.6"
  }
 },
 "nbformat": 4,
 "nbformat_minor": 5
}
