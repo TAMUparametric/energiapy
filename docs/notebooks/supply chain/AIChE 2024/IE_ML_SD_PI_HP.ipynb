{
 "cells": [
  {
   "cell_type": "code",
   "execution_count": 1,
   "id": "initial_id",
   "metadata": {
    "collapsed": true,
    "ExecuteTime": {
     "end_time": "2024-10-24T01:28:18.159245Z",
     "start_time": "2024-10-24T01:28:13.022283Z"
    }
   },
   "outputs": [
    {
     "name": "stdout",
     "output_type": "stream",
     "text": [
      "[    0.00] Initializing mpi-sppy\n"
     ]
    }
   ],
   "source": [
    "import os\n",
    "\n",
    "from pyomo.environ import *\n",
    "import mpisppy.utils.sputils as sputils\n",
    "from mpisppy.opt.ef import ExtensiveForm\n",
    "import matplotlib.pyplot as plt\n",
    "from matplotlib import rc\n",
    "import sys\n",
    "sys.path.append('../../../../src')\n",
    "import pandas\n",
    "import random\n",
    "import math\n",
    "from itertools import product\n",
    "from energiapy.components.temporal_scale import TemporalScale\n",
    "from energiapy.components.resource import Resource, VaryingResource\n",
    "from energiapy.components.process import Process, ProcessMode, VaryingProcess\n",
    "from energiapy.components.location import Location\n",
    "from energiapy.components.transport import Transport, VaryingTransport\n",
    "from energiapy.components.network import Network\n",
    "from energiapy.components.scenario import Scenario\n",
    "# from energiapy.model.constraints.demand import constraint_demand2\n",
    "from energiapy.components.result import Result\n",
    "from energiapy.model.formulate import formulate, Constraints, Objective\n",
    "from energiapy.plot import plot_results, plot_scenario, plot_location\n",
    "from energiapy.model.solve import solve\n",
    "from pyomo.environ import Param\n",
    "from energiapy.utils.scale_utils import scale_pyomo_set\n",
    "from energiapy.utils.scale_utils import scale_list, scale_tuple\n",
    "from energiapy.model.constraints.constraints import make_constraint, Cons\n",
    "from energiapy.model.formulate import constraint_export\n",
    "from functools import reduce\n",
    "import pickle\n",
    "from pyomo.environ import value as pyoval\n",
    "import time"
   ]
  },
  {
   "cell_type": "code",
   "outputs": [],
   "source": [
    "# _time_intervals = 7  # Number of time intervals in a planning horizon    (L_chi)\n",
    "_exec_scenarios = 4  # Number of execution scenarios                     (chi)\n",
    "\n",
    "M = 1e5  # Big M"
   ],
   "metadata": {
    "collapsed": false,
    "ExecuteTime": {
     "end_time": "2024-10-24T01:28:18.175162Z",
     "start_time": "2024-10-24T01:28:18.161372Z"
    }
   },
   "id": "31d027989fe5b9f4",
   "execution_count": 2
  },
  {
   "cell_type": "code",
   "outputs": [],
   "source": [
    "def create_list(n_total: int, n: int):\n",
    "    return [1] * n + [0] * (n_total - n)"
   ],
   "metadata": {
    "collapsed": false,
    "ExecuteTime": {
     "end_time": "2024-10-24T01:28:18.190724Z",
     "start_time": "2024-10-24T01:28:18.176170Z"
    }
   },
   "id": "71c97b99b0dc329a",
   "execution_count": 3
  },
  {
   "cell_type": "code",
   "outputs": [],
   "source": [
    "def create_event_dict(n_total: int):\n",
    "    default_list = [1] * n_total\n",
    "\n",
    "    # If event names are same before '_'; they are considered mutually exclusive else the events are treated as independent\n",
    "    event_dict = {\n",
    "        'cap2_1': {'prob': 0.06, 'factor': pandas.DataFrame(data={('loc2', 'com1_process'): create_list(n_total, 1)})},\n",
    "        'cap2_2': {'prob': 0.12, 'factor': pandas.DataFrame(data={('loc2', 'com1_process'): create_list(n_total, 2)})},\n",
    "        'cap2_3': {'prob': 0.17, 'factor': pandas.DataFrame(data={('loc2', 'com1_process'): create_list(n_total, 3)})},\n",
    "        'cap2_nd': {'prob': 0.65, 'factor': pandas.DataFrame(data={('loc2', 'com1_process'): default_list})},\n",
    "\n",
    "        'cap4_1': {'prob': 0.05, 'factor': pandas.DataFrame(data={('loc4', 'com1_process'): create_list(n_total, 1)})},\n",
    "        'cap4_2': {'prob': 0.15, 'factor': pandas.DataFrame(data={('loc4', 'com1_process'): create_list(n_total, 2)})},\n",
    "        'cap4_3': {'prob': 0.18, 'factor': pandas.DataFrame(data={('loc4', 'com1_process'): create_list(n_total, 3)})},\n",
    "        'cap4_nd': {'prob': 0.62, 'factor': pandas.DataFrame(data={('loc4', 'com1_process'): default_list})},\n",
    "\n",
    "        'cap7_1': {'prob': 0.04, 'factor': pandas.DataFrame(data={('loc7', 'com1_process'): create_list(n_total, 1)})},\n",
    "        'cap7_2': {'prob': 0.15, 'factor': pandas.DataFrame(data={('loc7', 'com1_process'): create_list(n_total, 2)})},\n",
    "        'cap7_3': {'prob': 0.2, 'factor': pandas.DataFrame(data={('loc7', 'com1_process'): create_list(n_total, 3)})},\n",
    "        'cap7_nd': {'prob': 0.61, 'factor': pandas.DataFrame(data={('loc7', 'com1_process'): default_list})},\n",
    "\n",
    "        'res1_1': {'prob': 0.06, 'factor': pandas.DataFrame(data={('loc1', 'com1_pur'): create_list(n_total, 1)})},\n",
    "        'res1_2': {'prob': 0.12, 'factor': pandas.DataFrame(data={('loc1', 'com1_pur'): create_list(n_total, 2)})},\n",
    "        'res1_3': {'prob': 0.19, 'factor': pandas.DataFrame(data={('loc1', 'com1_pur'): create_list(n_total, 3)})},\n",
    "        'res1_nd': {'prob': 0.63, 'factor': pandas.DataFrame(data={('loc1', 'com1_pur'): default_list})},\n",
    "\n",
    "        'res6_1': {'prob': 0.03, 'factor': pandas.DataFrame(data={('loc6', 'com1_pur'): create_list(n_total, 1)})},\n",
    "        'res6_2': {'prob': 0.16, 'factor': pandas.DataFrame(data={('loc6', 'com1_pur'): create_list(n_total, 2)})},\n",
    "        'res6_3': {'prob': 0.17, 'factor': pandas.DataFrame(data={('loc6', 'com1_pur'): create_list(n_total, 3)})},\n",
    "        'res6_nd': {'prob': 0.64, 'factor': pandas.DataFrame(data={('loc6', 'com1_pur'): default_list})},\n",
    "\n",
    "        'trans12_2': {'prob': 0.2, 'factor': pandas.DataFrame(data={('trans12', 'com1_loc1_out'): create_list(n_total, 2)})},\n",
    "        'trans12_nd': {'prob': 0.8, 'factor': pandas.DataFrame(data={('trans12', 'com1_loc1_out'): default_list})},\n",
    "\n",
    "        'trans25_2': {'prob': 0.3, 'factor': pandas.DataFrame(data={('trans25', 'com1_loc2_out'): create_list(n_total, 2)})},\n",
    "        'trans25_nd': {'prob': 0.7, 'factor': pandas.DataFrame(data={('trans25', 'com1_loc2_out'): default_list})},\n",
    "    }\n",
    "\n",
    "    return event_dict"
   ],
   "metadata": {
    "collapsed": false,
    "ExecuteTime": {
     "end_time": "2024-10-24T01:28:18.206193Z",
     "start_time": "2024-10-24T01:28:18.191830Z"
    }
   },
   "id": "412df4e69adec277",
   "execution_count": 4
  },
  {
   "cell_type": "code",
   "outputs": [],
   "source": [
    "# Function to generate the scenario dictionary for n sets of events\n",
    "def create_scenario_dict(event_dict):\n",
    "    # Extract unique event prefixes (e.g., 'cap2', 'cap4', ...)\n",
    "    event_prefixes = set(key.split('_')[0] for key in event_dict)\n",
    "\n",
    "    # Group events by their prefixes\n",
    "    grouped_events = {prefix: [key for key in event_dict if key.startswith(prefix)] for prefix in event_prefixes}\n",
    "\n",
    "    # Create all possible combinations of events across the different groups\n",
    "    event_combinations = list(product(*grouped_events.values()))\n",
    "\n",
    "    scenario_dict = {}\n",
    "\n",
    "    # Iterate over all event combinations\n",
    "    for combination in event_combinations:\n",
    "        # Construct the scenario key\n",
    "        scenario_key = ' '.join(combination)\n",
    "\n",
    "        # Calculate the probability of this scenario\n",
    "        prob = 1\n",
    "        combined_factor = None\n",
    "\n",
    "        for event_key in combination:\n",
    "            # Multiply probabilities\n",
    "            prob *= event_dict[event_key]['prob']\n",
    "\n",
    "            # Combine factors (assumes they are pandas DataFrames)\n",
    "            if combined_factor is None:\n",
    "                combined_factor = event_dict[event_key]['factor'].copy()\n",
    "            else:\n",
    "                combined_factor = combined_factor.add(event_dict[event_key]['factor'], fill_value=0)\n",
    "\n",
    "        # Add to the scenario dictionary\n",
    "        scenario_dict[scenario_key] = {'prob': prob, 'factor': combined_factor}\n",
    "\n",
    "    return scenario_dict"
   ],
   "metadata": {
    "collapsed": false,
    "ExecuteTime": {
     "end_time": "2024-10-24T01:28:18.222366Z",
     "start_time": "2024-10-24T01:28:18.207231Z"
    }
   },
   "id": "a07bc450b868a55e",
   "execution_count": 5
  },
  {
   "cell_type": "code",
   "outputs": [],
   "source": [
    "def build_model(scen_df=pandas.DataFrame()):\n",
    "    default_df = pandas.DataFrame(data=[1] * _exec_scenarios)\n",
    "    scale_factor = 90\n",
    "\n",
    "    # Define temporal scales\n",
    "    scales = TemporalScale(discretization_list=[1, _exec_scenarios])\n",
    "\n",
    "    # ======================================================================================================================\n",
    "    # Declare resources/commodities\n",
    "    # ======================================================================================================================\n",
    "    com1_pur = Resource(name='com1_pur', cons_max=225*scale_factor, block={'imp': 1, 'urg': 1}, price=0.00,\n",
    "                        label='Commodity 1 consumed from outside the system',\n",
    "                        varying=[VaryingResource.DETERMINISTIC_AVAILABILITY])\n",
    "\n",
    "    com1_in = Resource(name='com1_in', label='Commodity 1 received')\n",
    "    com1_out = Resource(name='com1_out', label='Commodity 1 to be sent out')\n",
    "\n",
    "    com1_loc1_out = Resource(name='com1_loc1_out', label='Commodity 1 sent out from location 1')\n",
    "    com1_loc2_out = Resource(name='com1_loc2_out', label='Commodity 1 sent out from location 2')\n",
    "    com1_loc3_out = Resource(name='com1_loc3_out', label='Commodity 1 sent out from location 3')\n",
    "    com1_loc4_out = Resource(name='com1_loc4_out', label='Commodity 1 sent out from location 4')\n",
    "    com1_loc5_out = Resource(name='com1_loc5_out', label='Commodity 1 sent out from location 5')\n",
    "    com1_loc6_out = Resource(name='com1_loc6_out', label='Commodity 1 sent out from location 6')\n",
    "    com1_loc7_out = Resource(name='com1_loc7_out', label='Commodity 1 sent out from location 7')\n",
    "\n",
    "    com1_sold = Resource(name='com1_sold', revenue=0.00, demand=True, sell=True,\n",
    "                         label='Commodity 1 sold to outside the system')\n",
    "\n",
    "    # ======================================================================================================================\n",
    "    # Declare processes/storage capacities\n",
    "    # ======================================================================================================================\n",
    "    com1_process_capacity = 500*scale_factor\n",
    "\n",
    "    # prod_max = {0: 0.25*com1_process_capacity, 1: 0.5*com1_process_capacity, 2: 0.75*com1_process_capacity, 3: 0.95*com1_process_capacity, 4: com1_process_capacity}\n",
    "    # prod_min = {0: 0, 1: 0.25*com1_process_capacity, 2: 0.5*com1_process_capacity, 3: 0.75*com1_process_capacity, 4: 0.95*com1_process_capacity}\n",
    "    # rate_max = {0:1.25/2, 1: 1/2, 2: 0.75/2, 3: 0.5/2, 4: 0.25/2}\n",
    "    # mode_ramp = {(0,1): 5, (1,2): 5}\n",
    "\n",
    "    com1_procure = Process(name='procure com1', prod_max=com1_process_capacity, conversion={com1_pur: -1, com1_in: 1},\n",
    "                           capex=25/scale_factor, vopex=0.01, prod_min=0.01, label='Procure com1')\n",
    "    com1_sell = Process(name='sell com1', prod_max=com1_process_capacity, conversion={com1_out: -1, com1_sold: 1},\n",
    "                        capex=0.1/scale_factor, vopex=0.01, prod_min=0.01, label='Sell com1')\n",
    "    # com1_opt_procure = Process(name='procure optional com1', prod_max=75, conversion={com1_pur: -1, com1_in:1}, capex=10, vopex=0.1, prod_min=0.01, label='Procure optional com1')\n",
    "\n",
    "    com1_receive_loc1 = Process(name='com1_receive_loc1', prod_max=com1_process_capacity,\n",
    "                                conversion={com1_loc1_out: -1, com1_in: 1}, capex=0.1/scale_factor, vopex=0.01, prod_min=0.01,\n",
    "                                label='Commodity 1 received from location 1')\n",
    "    com1_receive_loc2 = Process(name='com1_receive_loc2', prod_max=com1_process_capacity,\n",
    "                                conversion={com1_loc2_out: -1, com1_in: 1}, capex=0.1/scale_factor, vopex=0.01, prod_min=0.01,\n",
    "                                label='Commodity 1 received from location 2')\n",
    "    com1_receive_loc3 = Process(name='com1_receive_loc3', prod_max=com1_process_capacity,\n",
    "                                conversion={com1_loc3_out: -1, com1_in: 1}, capex=0.1/scale_factor, vopex=0.01, prod_min=0.01,\n",
    "                                label='Commodity 1 received from location 3')\n",
    "    com1_receive_loc4 = Process(name='com1_receive_loc4', prod_max=com1_process_capacity,\n",
    "                                conversion={com1_loc4_out: -1, com1_in: 1}, capex=0.1/scale_factor, vopex=0.01, prod_min=0.01,\n",
    "                                label='Commodity 1 received from location 4')\n",
    "    com1_receive_loc5 = Process(name='com1_receive_loc5', prod_max=com1_process_capacity,\n",
    "                                conversion={com1_loc5_out: -1, com1_in: 1}, capex=0.1/scale_factor, vopex=0.01, prod_min=0.01,\n",
    "                                label='Commodity 1 received from location 5')\n",
    "    com1_receive_loc6 = Process(name='com1_receive_loc6', prod_max=com1_process_capacity,\n",
    "                                conversion={com1_loc6_out: -1, com1_in: 1}, capex=0.1/scale_factor, vopex=0.01, prod_min=0.01,\n",
    "                                label='Commodity 1 received from location 6')\n",
    "    com1_receive_loc7 = Process(name='com1_receive_loc7', prod_max=com1_process_capacity,\n",
    "                                conversion={com1_loc7_out: -1, com1_in: 1}, capex=0.1/scale_factor, vopex=0.01, prod_min=0.01,\n",
    "                                label='Commodity 1 received from location 7')\n",
    "\n",
    "    com1_process = Process(name='com1_process', prod_max=com1_process_capacity, conversion={com1_in: -1, com1_out: 1},\n",
    "                           capex=5/scale_factor, vopex=0.01, prod_min=0.01, label='Process the commodity through the location',\n",
    "                           varying=[VaryingProcess.DETERMINISTIC_CAPACITY])\n",
    "\n",
    "    com1_store = Process(name='com1_store', prod_max=com1_process_capacity, capex=0.5/scale_factor, vopex=0.01, storage_capex=30/scale_factor, store_min=0.01,\n",
    "                         store_max=200*scale_factor, prod_min=0.01, label=\"Storage process\", storage=com1_in, storage_cost=0.02)\n",
    "\n",
    "    com1_loc1_send = Process(name='com1_loc1_send', prod_max=com1_process_capacity,\n",
    "                             conversion={com1_out: -1, com1_loc1_out: 1}, capex=0.1/scale_factor, vopex=0.01, prod_min=0.01,\n",
    "                             label='Send commodity one from location 1')\n",
    "    com1_loc2_send = Process(name='com1_loc2_send', prod_max=com1_process_capacity,\n",
    "                             conversion={com1_out: -1, com1_loc2_out: 1}, capex=0.1/scale_factor, vopex=0.01, prod_min=0.01,\n",
    "                             label='Send commodity one from location 2')\n",
    "    com1_loc3_send = Process(name='com1_loc3_send', prod_max=com1_process_capacity,\n",
    "                             conversion={com1_out: -1, com1_loc3_out: 1}, capex=0.1/scale_factor, vopex=0.01, prod_min=0.01,\n",
    "                             label='Send commodity one from location 3')\n",
    "    com1_loc4_send = Process(name='com1_loc4_send', prod_max=com1_process_capacity,\n",
    "                             conversion={com1_out: -1, com1_loc4_out: 1}, capex=0.1/scale_factor, vopex=0.01, prod_min=0.01,\n",
    "                             label='Send commodity one from location 4')\n",
    "    com1_loc5_send = Process(name='com1_loc5_send', prod_max=com1_process_capacity,\n",
    "                             conversion={com1_out: -1, com1_loc5_out: 1}, capex=0.1/scale_factor, vopex=0.01, prod_min=0.01,\n",
    "                             label='Send commodity one from location 5')\n",
    "    com1_loc6_send = Process(name='com1_loc6_send', prod_max=com1_process_capacity,\n",
    "                             conversion={com1_out: -1, com1_loc6_out: 1}, capex=0.1/scale_factor, vopex=0.01, prod_min=0.01,\n",
    "                             label='Send commodity one from location 6')\n",
    "    com1_loc7_send = Process(name='com1_loc7_send', prod_max=com1_process_capacity,\n",
    "                             conversion={com1_out: -1, com1_loc7_out: 1}, capex=0.1/scale_factor, vopex=0.01, prod_min=0.01,\n",
    "                             label='Send commodity one from location 7')\n",
    "\n",
    "    # ======================================================================================================================\n",
    "    # Declare locations/warehouses\n",
    "    # ======================================================================================================================\n",
    "    loc1 = Location(name='loc1',\n",
    "                    processes={com1_procure, com1_receive_loc2, com1_receive_loc3, com1_process, com1_store,\n",
    "                               com1_loc1_send}, label=\"Location 1\",\n",
    "                    scales=scales, demand_scale_level=1, capacity_scale_level=1, availability_scale_level=1,\n",
    "                    availability_factor={\n",
    "                        com1_pur: scen_df[[('loc1', 'com1_pur')]] if ('loc1', 'com1_pur') in scen_df else default_df})\n",
    "\n",
    "    loc2 = Location(name='loc2',\n",
    "                    processes={com1_receive_loc1, com1_receive_loc4, com1_receive_loc5, com1_process, com1_store,\n",
    "                               com1_loc2_send}, label=\"Location 2\", scales=scales, demand_scale_level=1,\n",
    "                    capacity_scale_level=1, availability_scale_level=1,\n",
    "                    capacity_factor={com1_process: scen_df[[('loc2', 'com1_process')]] if ('loc2',\n",
    "                                                                                           'com1_process') in scen_df else default_df})\n",
    "\n",
    "    loc3 = Location(name='loc3',\n",
    "                    processes={com1_receive_loc1, com1_receive_loc4, com1_process, com1_store, com1_loc3_send},\n",
    "                    label=\"Location 3\", scales=scales, demand_scale_level=1, capacity_scale_level=1,\n",
    "                    availability_scale_level=1)\n",
    "\n",
    "    loc4 = Location(name='loc4', processes={com1_receive_loc2, com1_receive_loc3, com1_receive_loc6, com1_receive_loc5,\n",
    "                                            com1_receive_loc7, com1_process, com1_store, com1_loc4_send},\n",
    "                    label=\"Location 4\", scales=scales, demand_scale_level=1, capacity_scale_level=1,\n",
    "                    availability_scale_level=1,\n",
    "                    capacity_factor={com1_process: scen_df[[('loc4', 'com1_process')]] if ('loc4',\n",
    "                                                                                           'com1_process') in scen_df else default_df})\n",
    "\n",
    "    loc5 = Location(name='loc5',\n",
    "                    processes={com1_receive_loc2, com1_receive_loc4, com1_receive_loc7, com1_process, com1_store,\n",
    "                               com1_loc5_send, com1_sell}, label=\"Location 5\", scales=scales, demand_scale_level=1,\n",
    "                    capacity_scale_level=1, availability_scale_level=1)\n",
    "\n",
    "    loc6 = Location(name='loc6', processes={com1_procure, com1_receive_loc4, com1_process, com1_store, com1_loc6_send},\n",
    "                    label=\"Location 6\", scales=scales, demand_scale_level=1, capacity_scale_level=1,\n",
    "                    availability_scale_level=1,\n",
    "                    availability_factor={\n",
    "                        com1_pur: scen_df[[('loc6', 'com1_pur')]] if ('loc6', 'com1_pur') in scen_df else default_df})\n",
    "\n",
    "    loc7 = Location(name='loc7',\n",
    "                    processes={com1_receive_loc4, com1_receive_loc5, com1_process, com1_store, com1_loc7_send},\n",
    "                    label=\"Location 7\", scales=scales, demand_scale_level=1, capacity_scale_level=1,\n",
    "                    availability_scale_level=1,\n",
    "                    capacity_factor={com1_process: scen_df[[('loc7', 'com1_process')]] if ('loc7',\n",
    "                                                                                           'com1_process') in scen_df else default_df})\n",
    "\n",
    "    # ======================================================================================================================\n",
    "    # Declare transport/trucks\n",
    "    # ======================================================================================================================\n",
    "\n",
    "    truck_cap12 = 280*scale_factor\n",
    "    truck_cap13 = 270*scale_factor\n",
    "    truck_cap24 = 450*scale_factor\n",
    "    truck_cap25 = 270*scale_factor\n",
    "    truck_cap34 = 270*scale_factor\n",
    "    truck_cap45 = 500*scale_factor\n",
    "    truck_cap47 = 360*scale_factor\n",
    "    truck_cap64 = 450*scale_factor\n",
    "    truck_cap75 = 360*scale_factor\n",
    "\n",
    "    truck12 = Transport(name='truck12', resources={com1_loc1_out}, trans_max=truck_cap12,\n",
    "                        label='Truck from location 1 to 2', capex=0.5/scale_factor, vopex=0.05, trans_min=0.01, varying=[VaryingTransport.DETERMINISTIC_CAPACITY])\n",
    "    # truck21 = Transport(name='truck21', resources={com1_loc2_out}, trans_max=truck_cap12,\n",
    "    #                     label='Truck from location 2 to 1', capex=0.0001, vopex=0.05, trans_min=0.01)\n",
    "\n",
    "    truck13 = Transport(name='truck13', resources={com1_loc1_out}, trans_max=truck_cap13,\n",
    "                        label='Truck from location 1 to 3', capex=0.3/scale_factor, vopex=0.03, trans_min=0.01, varying=[VaryingTransport.DETERMINISTIC_CAPACITY])\n",
    "    # truck31 = Transport(name='truck31', resources={com1_loc3_out}, trans_max=truck_cap13,\n",
    "    #                     label='Truck from location 3 to 1', capex=0.0001, vopex=0.03, trans_min=0.01)\n",
    "\n",
    "    truck24 = Transport(name='truck24', resources={com1_loc2_out}, trans_max=truck_cap24,\n",
    "                        label='Truck from location 2 to 4', capex=0.5/scale_factor, vopex=0.05, trans_min=0.01, varying=[VaryingTransport.DETERMINISTIC_CAPACITY])\n",
    "    # truck42 = Transport(name='truck42', resources={com1_loc4_out}, trans_max=truck_cap24,\n",
    "    #                     label='Truck from location 4 to 2', capex=0.0001, vopex=0.05, trans_min=0.01)\n",
    "\n",
    "    truck25 = Transport(name='truck25', resources={com1_loc2_out}, trans_max=truck_cap25,\n",
    "                        label='Truck from location 2 to 5', capex=0.3/scale_factor, vopex=0.03, trans_min=0.01, varying=[VaryingTransport.DETERMINISTIC_CAPACITY])\n",
    "    # truck52 = Transport(name='truck52', resources={com1_loc5_out}, trans_max=truck_cap25,\n",
    "    #                     label='Truck from location 5 to 2', capex=0.0001, vopex=0.03, trans_min=0.01)\n",
    "\n",
    "    truck34 = Transport(name='truck34', resources={com1_loc3_out}, trans_max=truck_cap34,\n",
    "                        label='Truck from location 3 to 4', capex=0.2/scale_factor, vopex=0.02, trans_min=0.01, varying=[VaryingTransport.DETERMINISTIC_CAPACITY])\n",
    "    # truck43 = Transport(name='truck43', resources={com1_loc4_out}, trans_max=truck_cap34,\n",
    "    #                     label='Truck from location 4 to 3', capex=0.0001, vopex=0.02, trans_min=0.01)\n",
    "\n",
    "    truck45 = Transport(name='truck45', resources={com1_loc4_out}, trans_max=truck_cap45,\n",
    "                        label='Truck from location 4 to 5', capex=1/scale_factor, vopex=0.1, trans_min=0.01, varying=[VaryingTransport.DETERMINISTIC_CAPACITY])\n",
    "    # truck54 = Transport(name='truck54', resources={com1_loc5_out}, trans_max=truck_cap45,\n",
    "    #                     label='Truck from location 5 to 4', capex=0.0001, vopex=0.1, trans_min=0.01)\n",
    "\n",
    "    truck47 = Transport(name='truck47', resources={com1_loc4_out}, trans_max=truck_cap47,\n",
    "                        label='Truck from location 4 to 7', capex=0.4/scale_factor, vopex=0.04, trans_min=0.01, varying=[VaryingTransport.DETERMINISTIC_CAPACITY])\n",
    "    # truck74 = Transport(name='truck74', resources={com1_loc7_out}, trans_max=truck_cap47,\n",
    "    #                     label='Truck from location 7 to 4', capex=0.0001, vopex=0.04, trans_min=0.01)\n",
    "\n",
    "    truck64 = Transport(name='truck64', resources={com1_loc6_out}, trans_max=truck_cap64,\n",
    "                        label='Truck from location 6 to 4', capex=0.5/scale_factor, vopex=0.05, trans_min=0.01, varying=[VaryingTransport.DETERMINISTIC_CAPACITY])\n",
    "    # truck46 = Transport(name='truck46', resources={com1_loc4_out}, trans_max=truck_cap64,\n",
    "    #                     label='Truck from location 4 to 6', capex=0.0001, vopex=0.05, trans_min=0.01)\n",
    "\n",
    "    truck75 = Transport(name='truck75', resources={com1_loc7_out}, trans_max=truck_cap75,\n",
    "                        label='Truck from location 7 to 5', capex=0.4/scale_factor, vopex=0.04, trans_min=0.01, varying=[VaryingTransport.DETERMINISTIC_CAPACITY])\n",
    "    # truck57 = Transport(name='truck57', resources={com1_loc5_out}, trans_max=truck_cap75,\n",
    "    #                     label='Truck from location 5 to 7', capex=0.0001, vopex=0.04, trans_min=0.01)\n",
    "\n",
    "    # ======================================================================================================================\n",
    "    # Declare network\n",
    "    # ======================================================================================================================\n",
    "\n",
    "    transport_matrix = [\n",
    "        [[], [truck12], [truck13], [], [], [], []],  # source: location 1\n",
    "        [[], [], [], [truck24], [truck25], [], []],  # source: location 2\n",
    "        [[], [], [], [truck34], [], [], []],  # source: location 3\n",
    "        [[], [], [], [], [truck45], [], [truck47]],  # source: location 4\n",
    "        [[], [], [], [], [], [], []],  # source: location 5\n",
    "        [[], [], [], [truck64], [], [], []],  # source: location 6\n",
    "        [[], [], [], [], [truck75], [], []]  # source: location 7\n",
    "    ]\n",
    "\n",
    "    # transport_matrix = [\n",
    "    #     [[], [truck12], [truck13], [], [], [], []],  # source: location 1\n",
    "    #     [[truck21], [], [], [truck24], [truck25], [], []],  # source: location 2\n",
    "    #     [[truck31], [], [], [truck34], [], [], []],  # source: location 3\n",
    "    #     [[], [truck42], [truck43], [], [truck45], [truck46], [truck47]],  # source: location 4\n",
    "    #     [[], [truck52], [], [truck54], [], [], [truck57]],  # source: location 5\n",
    "    #     [[], [], [], [truck64], [], [], []],  # source: location 6\n",
    "    #     [[], [], [], [truck74], [truck75], [], []]  # source: location 7\n",
    "    # ]\n",
    "\n",
    "    distance_matrix = [\n",
    "        [0, 55, 196, M, M, M, M],\n",
    "        [55, 0, M, 163, 112, M, 134],\n",
    "        [196, M, 0, 63, M, M, M],\n",
    "        [M, 163, 63, 0, 95, 117, 88],\n",
    "        [M, 112, M, 95, 0, M, 134],\n",
    "        [M, M, M, 117, M, 0, M],\n",
    "        [M, 134, M, 88, 134, M, 0]\n",
    "    ]\n",
    "\n",
    "    locset = [loc1, loc2, loc3, loc4, loc5, loc6, loc7]\n",
    "\n",
    "    sources = locset\n",
    "    sinks = locset\n",
    "\n",
    "    network = Network(name='Network', scales=scales, source_locations=sources, sink_locations=sinks,\n",
    "                      transport_matrix=transport_matrix, distance_matrix=distance_matrix, transport_capacity_scale_level=1,\n",
    "                      transport_capacity_factor={(loc1, loc2): {truck12: scen_df[[('trans12', 'com1_loc1_out')]] if ('trans12', 'com1_loc1_out') in scen_df else default_df},\n",
    "                                                 (loc1, loc3): {truck13: scen_df[[('trans13', 'com1_loc1_out')]] if ('trans13', 'com1_loc1_out') in scen_df else default_df},\n",
    "                                                 (loc2, loc4): {truck24: scen_df[[('trans24', 'com1_loc2_out')]] if ('trans24', 'com1_loc2_out') in scen_df else default_df},\n",
    "                                                 (loc2, loc5): {truck25: scen_df[[('trans25', 'com1_loc2_out')]] if ('trans25', 'com1_loc2_out') in scen_df else default_df},\n",
    "                                                 (loc3, loc4): {truck34: scen_df[[('trans34', 'com1_loc3_out')]] if ('trans34', 'com1_loc3_out') in scen_df else default_df},\n",
    "                                                 (loc4, loc5): {truck45: scen_df[[('trans45', 'com1_loc4_out')]] if ('trans45', 'com1_loc4_out') in scen_df else default_df},\n",
    "                                                 (loc4, loc7): {truck47: scen_df[[('trans47', 'com1_loc4_out')]] if ('trans47', 'com1_loc4_out') in scen_df else default_df},\n",
    "                                                 (loc6, loc4): {truck64: scen_df[[('trans64', 'com1_loc6_out')]] if ('trans64', 'com1_loc6_out') in scen_df else default_df},\n",
    "                                                 (loc7, loc5): {truck75: scen_df[[('trans75', 'com1_loc7_out')]] if ('trans75', 'com1_loc7_out') in scen_df else default_df},\n",
    "                                                 })\n",
    "\n",
    "    # ======================================================================================================================\n",
    "    # Declare scenario\n",
    "    # ======================================================================================================================\n",
    "\n",
    "    daily_demand = 400*scale_factor\n",
    "    demand_penalty = 20\n",
    "\n",
    "    demand_dict = {i: {com1_sold: daily_demand} if i == loc5 else {com1_sold: 0} for i in locset}\n",
    "    demand_penalty_dict = {i: {com1_sold: demand_penalty} if i == loc5 else {com1_sold: 0} for i in locset}\n",
    "\n",
    "    scenario = Scenario(name='scenario', scales=scales, scheduling_scale_level=1, network_scale_level=0,\n",
    "                        purchase_scale_level=1, availability_scale_level=1, demand_scale_level=1,\n",
    "                        capacity_scale_level=1, network=network, demand=demand_dict, demand_penalty=demand_penalty_dict,\n",
    "                        label='Stochastic scenario with Multiple Locations')\n",
    "\n",
    "    if scen_df.empty:\n",
    "        # ======================================================================================================================\n",
    "        # Declare problem\n",
    "        # ======================================================================================================================\n",
    "\n",
    "        problem_mincost = formulate(scenario=scenario,\n",
    "                                    constraints={Constraints.COST, Constraints.TRANSPORT, Constraints.RESOURCE_BALANCE,\n",
    "                                                 Constraints.INVENTORY, Constraints.PRODUCTION, Constraints.DEMAND,\n",
    "                                                 Constraints.NETWORK},\n",
    "                                    demand_sign='eq', objective=Objective.COST_W_DEMAND_PENALTY)\n",
    "\n",
    "        scale_iter = scale_tuple(instance=problem_mincost, scale_levels=scenario.network_scale_level + 1)\n",
    "        # capex_process = sum(problem_mincost.Capex_network[scale_] for scale_ in scale_iter)\n",
    "        # cost_trans_capex = sum(problem_mincost.Capex_transport_network[scale_] for scale_ in scale_iter)\n",
    "        \n",
    "        problem_mincost.first_stage_cost = Var(within=NonNegativeReals, doc='First Stage Cost')\n",
    "        \n",
    "        def first_stage_cost_rule(instance):\n",
    "            return (instance.first_stage_cost == sum(instance.Capex_network[scale_] for scale_ in scale_iter) + \n",
    "                                                sum(instance.Capex_transport_network[scale_] for scale_ in scale_iter))\n",
    "        \n",
    "        problem_mincost.constraint_first_stage_cost = Constraint(rule=first_stage_cost_rule)\n",
    "\n",
    "        return scenario, problem_mincost\n",
    "\n",
    "    else:\n",
    "        return scenario"
   ],
   "metadata": {
    "collapsed": false,
    "ExecuteTime": {
     "end_time": "2024-10-24T01:28:18.253825Z",
     "start_time": "2024-10-24T01:28:18.224437Z"
    }
   },
   "id": "635bd2e5e41178b9",
   "execution_count": 6
  },
  {
   "cell_type": "code",
   "outputs": [],
   "source": [
    "def build_smodel(scen_df=pandas.DataFrame()):\n",
    "\n",
    "    scenario = build_model(scen_df)\n",
    "    # ======================================================================================================================\n",
    "    # Declare problem\n",
    "    # ======================================================================================================================\n",
    "\n",
    "    problem_mincost = formulate(scenario=scenario,\n",
    "                                constraints={Constraints.COST, Constraints.TRANSPORT, Constraints.RESOURCE_BALANCE,\n",
    "                                             Constraints.INVENTORY, Constraints.PRODUCTION, Constraints.DEMAND,\n",
    "                                             Constraints.NETWORK},\n",
    "                                demand_sign='eq', objective=Objective.COST_W_DEMAND_PENALTY)\n",
    "\n",
    "    scale_iter = scale_tuple(instance=problem_mincost, scale_levels=scenario.network_scale_level + 1)\n",
    "    # capex_process = sum(problem_mincost.Capex_network[scale_] for scale_ in scale_iter)\n",
    "    # cost_trans_capex = sum(problem_mincost.Capex_transport_network[scale_] for scale_ in scale_iter)\n",
    "    \n",
    "    problem_mincost.first_stage_cost = Var(within=NonNegativeReals, doc='First Stage Cost')\n",
    "    \n",
    "    def first_stage_cost_rule(instance):\n",
    "        return (instance.first_stage_cost == sum(instance.Capex_network[scale_] for scale_ in scale_iter) + \n",
    "                                            sum(instance.Capex_transport_network[scale_] for scale_ in scale_iter))\n",
    "    \n",
    "    problem_mincost.constraint_first_stage_cost = Constraint(rule=first_stage_cost_rule)\n",
    "\n",
    "    return scenario, problem_mincost"
   ],
   "metadata": {
    "collapsed": false,
    "ExecuteTime": {
     "end_time": "2024-10-24T01:28:18.269442Z",
     "start_time": "2024-10-24T01:28:18.254851Z"
    }
   },
   "id": "4ffe297bc646225e",
   "execution_count": 7
  },
  {
   "cell_type": "code",
   "outputs": [],
   "source": [
    "def scenario_creator(scen_name, **kwargs):\n",
    "    scen_dict = kwargs.get('scenario_dict')\n",
    "    scen, model = build_smodel(scen_df=scen_dict[scen_name]['factor'])\n",
    "    sputils.attach_root_node(model, model.first_stage_cost,\n",
    "                             [model.X_P, model.Cap_P, model.X_S, model.Cap_S, model.X_F, model.Cap_F])\n",
    "    model._mpisppy_probability = scen_dict[scen_name]['prob']\n",
    "    return model"
   ],
   "metadata": {
    "collapsed": false,
    "ExecuteTime": {
     "end_time": "2024-10-24T01:28:18.285420Z",
     "start_time": "2024-10-24T01:28:18.270449Z"
    }
   },
   "id": "6a6287d77eb8adfe",
   "execution_count": 8
  },
  {
   "cell_type": "code",
   "outputs": [],
   "source": [
    "solver_options = {\n",
    "    'MIPGap': 0.005,\n",
    "    # 'TimeLimit': 60 * 15,\n",
    "    'Heuristics': 0.20\n",
    "}\n",
    "\n",
    "# event_dict = create_event_dict(n_total=_exec_scenarios)\n",
    "# scenario_dict = create_scenario_dict(event_dict=event_dict)\n",
    "# scenario_names = list(scenario_dict.keys())\n",
    "# \n",
    "# with open('scenario_dict_HP.pkl', 'wb') as file:\n",
    "#     pickle.dump(scenario_dict, file)\n",
    "# \n",
    "# # print(*scenario_names, sep='\\n')\n",
    "# print(f\"Sum of probabilities of all scenarios: {sum(scenario_dict[scen]['prob'] for scen in scenario_dict):.6f}\")\n",
    "# print(f'Number of considered scenarios: {len(scenario_names)}')"
   ],
   "metadata": {
    "collapsed": false,
    "ExecuteTime": {
     "end_time": "2024-10-24T01:28:18.300866Z",
     "start_time": "2024-10-24T01:28:18.286452Z"
    }
   },
   "id": "1a6bc421544d5f19",
   "execution_count": 9
  },
  {
   "cell_type": "code",
   "outputs": [
    {
     "name": "stdout",
     "output_type": "stream",
     "text": [
      "Sum of probabilities of all scenarios: 1.000000\n",
      "Number of considered scenarios: 4096\n"
     ]
    }
   ],
   "source": [
    "with open('scenario_dict_HP.pkl', 'rb') as file:\n",
    "    load_scenario_dict = pickle.load(file)\n",
    "\n",
    "load_scenario_names = list(load_scenario_dict.keys())\n",
    "\n",
    "print(f\"Sum of probabilities of all scenarios: {sum(load_scenario_dict[scen]['prob'] for scen in load_scenario_dict):.6f}\")\n",
    "print(f'Number of considered scenarios: {len(load_scenario_names)}')"
   ],
   "metadata": {
    "collapsed": false,
    "ExecuteTime": {
     "end_time": "2024-10-24T01:28:18.924448Z",
     "start_time": "2024-10-24T01:28:18.301925Z"
    }
   },
   "id": "be5cfe5fa6c0f077",
   "execution_count": 10
  },
  {
   "cell_type": "code",
   "outputs": [],
   "source": [
    "PI_pkl_folder = r'PI_HP_pkl'\n",
    "FD_pkl_folder = r'FD_HP_pkl'"
   ],
   "metadata": {
    "collapsed": false,
    "ExecuteTime": {
     "end_time": "2024-10-24T01:28:18.937515Z",
     "start_time": "2024-10-24T01:28:18.925048Z"
    }
   },
   "id": "758588516ab0e8cd",
   "execution_count": 11
  },
  {
   "cell_type": "code",
   "outputs": [],
   "source": [
    "# exCost_PI = 0\n",
    "# results_PI = dict()\n",
    "# scen_PI, model_PI = build_model()"
   ],
   "metadata": {
    "collapsed": false,
    "ExecuteTime": {
     "end_time": "2024-10-24T01:28:18.953226Z",
     "start_time": "2024-10-24T01:28:18.940175Z"
    }
   },
   "id": "a172772ea98763c2",
   "execution_count": 12
  },
  {
   "cell_type": "code",
   "outputs": [],
   "source": [
    "# # Deterministic Scenarios for Perfect Information\n",
    "# counter = 0\n",
    "# PI_output_dict=dict()\n",
    "# \n",
    "# for scen_name in load_scenario_names:\n",
    "#     scen_PI = build_model(scen_df=load_scenario_dict[scen_name]['factor'])\n",
    "#     counter+=1\n",
    "#     # Delete process capacity factors, resource availability factors, transport capacity factors\n",
    "#     model_PI.del_component('constraint_nameplate_production_varying_capacity')\n",
    "#     model_PI.del_component('constraint_resource_consumption_varying')\n",
    "#     model_PI.del_component('constraint_export')\n",
    "# \n",
    "#     # Add the constraints back for this particular scenario\n",
    "#     model_PI.constraint_nameplate_production_varying_capacity = make_constraint(instance=model_PI,\n",
    "#         type_cons=Cons.X_LEQ_BY, variable_x='P', location_set=model_PI.locations, component_set=model_PI.processes_varying_capacity,\n",
    "#         loc_comp_dict=scen_PI.location_process_dict, b_factor=scen_PI.capacity_factor,\n",
    "#                                                                                 x_scale_level=scen_PI.scheduling_scale_level,\n",
    "#                                                                                 b_scale_level=scen_PI.capacity_scale_level,\n",
    "#                                                                                 y_scale_level=scen_PI.network_scale_level,\n",
    "#                                                                                 variable_y='Cap_P',\n",
    "#                                                                                 label='restricts production to varying nameplate capacity')\n",
    "# \n",
    "#     model_PI.constraint_resource_consumption_varying = make_constraint(\n",
    "#         instance=model_PI, type_cons=Cons.X_LEQ_B, variable_x='C', location_set=model_PI.locations,\n",
    "#         component_set=model_PI.resources_varying_availability, b_max=scen_PI.cons_max,\n",
    "#         loc_comp_dict=scen_PI.location_resource_dict, b_factor=scen_PI.availability_factor,\n",
    "#         x_scale_level=scen_PI.scheduling_scale_level, b_scale_level=scen_PI.availability_scale_level,\n",
    "#         label='restricts resource consumption to varying availablity')\n",
    "# \n",
    "#     constraint_export(instance=model_PI, scheduling_scale_level=scen_PI.scheduling_scale_level,\n",
    "#                       network_scale_level=scen_PI.network_scale_level,\n",
    "#                       location_transport_resource_dict=scen_PI.location_transport_resource_dict,\n",
    "#                       transport_capacity_factor=scen_PI.transport_capacity_factor,\n",
    "#                       transport_capacity_scale_level=scen_PI.transport_capacity_scale_level)\n",
    "# \n",
    "#     results_PI = solve(scenario=scen_PI, instance=model_PI, solver='gurobi', name=scen_name,\n",
    "#                        solver_options=solver_options)\n",
    "# \n",
    "#     print(f'######################## Finished solving {scen_name} ({counter} of {len(load_scenario_names)}) ########################')\n",
    "# \n",
    "#     model_vars = model_PI.component_map(ctype=Var)\n",
    "#     vars_dict = {i: model_vars[i].extract_values() for i in model_vars.keys()}\n",
    "#     obj_dict = {'objective': pyoval(model_PI.objective_cost_w_demand_penalty)}\n",
    "# \n",
    "#     PI_output_dict[scen_name] = {**vars_dict, **obj_dict}\n",
    "# \n",
    "#     with open(fr\"{PI_pkl_folder}\\{scen_name}_{len(load_scenario_names)}.pkl\", 'wb') as file:\n",
    "#         pickle.dump(PI_output_dict[scen_name], file)\n",
    "# \n",
    "#     exCost_PI += pyoval(model_PI.objective_cost_w_demand_penalty) * load_scenario_dict[scen_name]['prob']"
   ],
   "metadata": {
    "collapsed": false,
    "ExecuteTime": {
     "end_time": "2024-10-24T01:28:18.968973Z",
     "start_time": "2024-10-24T01:28:18.954234Z"
    }
   },
   "id": "ebfc67f9f263efec",
   "execution_count": 13
  },
  {
   "cell_type": "code",
   "outputs": [],
   "source": [
    "# print(f\"Total Expected Cost considering perfect information: {exCost_PI:.4f}\")"
   ],
   "metadata": {
    "collapsed": false,
    "ExecuteTime": {
     "end_time": "2024-10-24T01:28:18.984572Z",
     "start_time": "2024-10-24T01:28:18.969997Z"
    }
   },
   "id": "102c401fd8bf812f",
   "execution_count": 14
  },
  {
   "cell_type": "code",
   "outputs": [],
   "source": [
    "# with open(fr\"{PI_pkl_folder}\\exCost_{len(load_scenario_names)}_PI_HP.pkl\", 'wb') as file:\n",
    "#     pickle.dump(exCost_PI, file)\n",
    "\n",
    "with open(fr\"{PI_pkl_folder}\\exCost_{len(load_scenario_names)}_PI_HP.pkl\", 'rb') as file:\n",
    "    exCost_PI_load = pickle.load(file)"
   ],
   "metadata": {
    "collapsed": false,
    "ExecuteTime": {
     "end_time": "2024-10-24T01:28:18.999965Z",
     "start_time": "2024-10-24T01:28:18.985579Z"
    }
   },
   "id": "bdbd8eff91bc5872",
   "execution_count": 15
  },
  {
   "cell_type": "code",
   "outputs": [
    {
     "data": {
      "text/plain": "1935291.5413893894"
     },
     "execution_count": 42,
     "metadata": {},
     "output_type": "execute_result"
    }
   ],
   "source": [
    "exCost_PI_load"
   ],
   "metadata": {
    "collapsed": false,
    "ExecuteTime": {
     "end_time": "2024-10-24T04:29:44.451324Z",
     "start_time": "2024-10-24T04:29:44.433181Z"
    }
   },
   "id": "318b4fecace53495",
   "execution_count": 42
  },
  {
   "cell_type": "code",
   "outputs": [],
   "source": [
    "load_PI_dict = dict()\n",
    "for file in os.listdir(PI_pkl_folder):\n",
    "    if file.endswith('.pkl') and not file.endswith('_HP.pkl'):\n",
    "        full_file_path = os.path.join(PI_pkl_folder, file)\n",
    "        \n",
    "        with open(full_file_path, 'rb') as f:\n",
    "            load_PI_dict[file.removesuffix(f'_{len(load_scenario_names)}.pkl')] = pickle.load(f)\n",
    "            \n",
    "# len(PI_load_dict)"
   ],
   "metadata": {
    "collapsed": false,
    "ExecuteTime": {
     "end_time": "2024-10-24T01:28:36.891626Z",
     "start_time": "2024-10-24T01:28:19.001008Z"
    }
   },
   "id": "3eafe3f4d8bec798",
   "execution_count": 16
  },
  {
   "cell_type": "code",
   "outputs": [],
   "source": [
    "def find_common_substring(lst):\n",
    "    \n",
    "    # Split each string into substrings and create sets\n",
    "    substring_sets = [set(item.split()) for item in lst]\n",
    "    \n",
    "    # Find the intersection of all sets to get common substrings\n",
    "    common_substrings = reduce(lambda a, b: a & b, substring_sets)\n",
    "    \n",
    "    return common_substrings"
   ],
   "metadata": {
    "collapsed": false,
    "ExecuteTime": {
     "end_time": "2024-10-24T01:29:11.541618Z",
     "start_time": "2024-10-24T01:29:11.533172Z"
    }
   },
   "id": "5fa19a5f8b601b92",
   "execution_count": 18
  },
  {
   "cell_type": "code",
   "outputs": [],
   "source": [
    "def explore_dict(d, level=0):\n",
    "    indent = \"    \" * level  # Indentation for better readability\n",
    "    for key, value in d.items():\n",
    "        print(f\"{indent}Key: {key}, Type of value: {type(value)}\")\n",
    "        if isinstance(value, dict):  # Recursively explore dictionaries\n",
    "            explore_dict(value, level + 1)"
   ],
   "metadata": {
    "collapsed": false,
    "ExecuteTime": {
     "end_time": "2024-10-24T01:29:12.488034Z",
     "start_time": "2024-10-24T01:29:12.478526Z"
    }
   },
   "id": "5e7732d502f75140",
   "execution_count": 19
  },
  {
   "cell_type": "code",
   "outputs": [],
   "source": [
    "def filter_scenarios():\n",
    "    # Initialize the result dictionary\n",
    "    result = {}\n",
    "    \n",
    "    # Step 1: Iterate over the original data\n",
    "    for scenario, data in load_PI_dict.items():\n",
    "        x_val = data['Demand_penalty_network'][('com1_sold',0)]\n",
    "        obj_val = data['objective'] - data['Demand_penalty_network'][('com1_sold',0)]\n",
    "        \n",
    "        # Step 2: Check if x_val is already a key in the result\n",
    "        if x_val not in result:\n",
    "            result[x_val] = {'count': 0, 'objectives': {}}\n",
    "        \n",
    "        # Increment the count for the x value\n",
    "        result[x_val]['count'] += 1\n",
    "        \n",
    "        # Step 3: Check if obj_val is already a key under the 'objectives' for this x\n",
    "        if obj_val not in result[x_val]['objectives']:\n",
    "            result[x_val]['objectives'][obj_val] = {'scenarios': [], 'count': 0}\n",
    "        \n",
    "        # Add the scenario to the list and increment the count for the objective\n",
    "        result[x_val]['objectives'][obj_val]['scenarios'].append(scenario)\n",
    "        result[x_val]['objectives'][obj_val]['count'] += 1\n",
    "    \n",
    "    # Step 4: Sort the result by x values (in decreasing order) and objectives (in decreasing order)\n",
    "    sorted_result = {\n",
    "        x_val: {\n",
    "            'count': result[x_val]['count'],\n",
    "            'count_obj': len(result[x_val]['objectives']),\n",
    "            'objectives': {\n",
    "                obj_val: result[x_val]['objectives'][obj_val]\n",
    "                for obj_val in sorted(result[x_val]['objectives'].keys(), reverse=True)\n",
    "            }\n",
    "        }\n",
    "        for x_val in sorted(result.keys(), reverse=True)\n",
    "    }\n",
    "    \n",
    "    return sorted_result"
   ],
   "metadata": {
    "collapsed": false,
    "ExecuteTime": {
     "end_time": "2024-10-24T01:29:13.125078Z",
     "start_time": "2024-10-24T01:29:13.114754Z"
    }
   },
   "id": "e3c741f096b23343",
   "execution_count": 20
  },
  {
   "cell_type": "code",
   "outputs": [],
   "source": [
    "# def pick_scenarios(sorted_dict, n):\n",
    "#     selected_scenarios = {}\n",
    "#     total_selected = 0\n",
    "# \n",
    "#     # Iterate over sorted x values\n",
    "#     for x_val, x_data in sorted_dict.items():\n",
    "#         if total_selected >= n:\n",
    "#             break  # Stop if we have selected enough scenarios\n",
    "# \n",
    "#         # Iterate over sorted objective values within each x\n",
    "#         for obj_val, obj_data in x_data['objectives'].items():\n",
    "#             if total_selected >= n:\n",
    "#                 break  # Stop if we have selected enough scenarios\n",
    "# \n",
    "#             # Randomly select from the list of scenarios if there are multiple\n",
    "#             scenarios_to_choose = obj_data['scenarios']\n",
    "#             num_to_pick = min(len(scenarios_to_choose), 1)\n",
    "#             chosen_scenarios = random.sample(scenarios_to_choose, num_to_pick)\n",
    "# \n",
    "#             # Add the selected scenarios to the result\n",
    "#             if x_val not in selected_scenarios:\n",
    "#                 selected_scenarios[x_val] = {}\n",
    "#             \n",
    "#             if obj_val not in selected_scenarios[x_val]:\n",
    "#                 selected_scenarios[x_val][obj_val] = {}\n",
    "# \n",
    "#             for scenario in chosen_scenarios:\n",
    "#                 selected_scenarios[x_val][obj_val][scenario] = {\n",
    "#                     'prob': load_scenario_dict[scenario]['prob'],\n",
    "#                     'factor': load_scenario_dict[scenario]['factor'].copy()\n",
    "#                 }\n",
    "#                 total_selected += 1\n",
    "# \n",
    "#                 if total_selected >= n:\n",
    "#                     break  # Stop if we have selected enough scenarios\n",
    "# \n",
    "#     return selected_scenarios"
   ],
   "metadata": {
    "collapsed": false,
    "ExecuteTime": {
     "end_time": "2024-10-24T01:29:13.829960Z",
     "start_time": "2024-10-24T01:29:13.820728Z"
    }
   },
   "id": "e93686de5aa3e1e",
   "execution_count": 21
  },
  {
   "cell_type": "code",
   "outputs": [],
   "source": [
    "def pick_scenario_with_highest_probability(scenario_list, scenario_dict):\n",
    "    # Filter scenarios in the list that are present in the dictionary\n",
    "    valid_scenarios = [(s, scenario_dict[s]['prob']) for s in scenario_list if s in scenario_dict]\n",
    "\n",
    "    # Find the maximum probability among valid scenarios\n",
    "    max_prob = max(valid_scenarios, key=lambda x: x[1], default=(None, -1))[1]\n",
    "\n",
    "    # Collect scenarios with the maximum probability\n",
    "    highest_prob_scenarios = [s for s, p in valid_scenarios if p == max_prob]\n",
    "\n",
    "    return random.choice(highest_prob_scenarios) if highest_prob_scenarios else None"
   ],
   "metadata": {
    "collapsed": false,
    "ExecuteTime": {
     "end_time": "2024-10-24T01:33:42.510410Z",
     "start_time": "2024-10-24T01:33:42.505273Z"
    }
   },
   "id": "3b79f7c85e89611b",
   "execution_count": 32
  },
  {
   "cell_type": "code",
   "outputs": [],
   "source": [
    "def pick_scenarios(sorted_dict, n):\n",
    "    selected_scenarios = {}\n",
    "    total_selected = 0\n",
    "\n",
    "    # Iterate over sorted x values\n",
    "    for x_val, x_data in sorted_dict.items():\n",
    "        if total_selected >= n:\n",
    "            break  # Stop if we have selected enough scenarios\n",
    "\n",
    "        # Iterate over sorted objective values within each x\n",
    "        for obj_val, obj_data in x_data['objectives'].items():\n",
    "            if total_selected >= n:\n",
    "                break  # Stop if we have selected enough scenarios\n",
    "\n",
    "            # Get the list of scenarios for the current objective\n",
    "            scenarios_to_choose = obj_data['scenarios']\n",
    "\n",
    "            # Choose the scenario with the highest probability using the previous logic\n",
    "            chosen_scenario = pick_scenario_with_highest_probability(scenarios_to_choose, load_scenario_dict)\n",
    "\n",
    "            # Add the selected scenario to the result\n",
    "            if chosen_scenario:\n",
    "                if x_val not in selected_scenarios:\n",
    "                    selected_scenarios[x_val] = {}\n",
    "\n",
    "                if obj_val not in selected_scenarios[x_val]:\n",
    "                    selected_scenarios[x_val][obj_val] = {}\n",
    "\n",
    "                selected_scenarios[x_val][obj_val][chosen_scenario] = {\n",
    "                    'prob': load_scenario_dict[chosen_scenario]['prob'],\n",
    "                    'factor': load_scenario_dict[chosen_scenario]['factor'].copy()\n",
    "                }\n",
    "                total_selected += 1\n",
    "\n",
    "            if total_selected >= n:\n",
    "                break  # Stop if we have selected enough scenarios\n",
    "\n",
    "    return selected_scenarios\n"
   ],
   "metadata": {
    "collapsed": false,
    "ExecuteTime": {
     "end_time": "2024-10-24T01:33:43.184749Z",
     "start_time": "2024-10-24T01:33:43.167662Z"
    }
   },
   "id": "e55254cb9590d42c",
   "execution_count": 33
  },
  {
   "cell_type": "code",
   "outputs": [],
   "source": [
    "def sum_probabilities(d):\n",
    "    total_prob = 0\n",
    "    \n",
    "    def recursive_sum(current_dict):\n",
    "        nonlocal total_prob\n",
    "        for key, value in current_dict.items():\n",
    "            if isinstance(value, dict):\n",
    "                # Recursively traverse if it's still a dictionary\n",
    "                recursive_sum(value)\n",
    "            elif key == 'prob':\n",
    "                # Add the probability value\n",
    "                total_prob += value\n",
    "\n",
    "    recursive_sum(d)\n",
    "    return total_prob"
   ],
   "metadata": {
    "collapsed": false,
    "ExecuteTime": {
     "end_time": "2024-10-24T01:29:15.570428Z",
     "start_time": "2024-10-24T01:29:15.560086Z"
    }
   },
   "id": "8456a22fc5a5fc95",
   "execution_count": 24
  },
  {
   "cell_type": "code",
   "outputs": [],
   "source": [
    "# sorted_result = filter_scenarios()\n",
    "# \n",
    "# with open(fr\"sorted_result_{len(load_scenario_names)}_HP.pkl\", 'wb') as file:\n",
    "#     pickle.dump(sorted_result, file)"
   ],
   "metadata": {
    "collapsed": false,
    "ExecuteTime": {
     "end_time": "2024-10-24T01:29:20.229205Z",
     "start_time": "2024-10-24T01:29:20.212140Z"
    }
   },
   "id": "626fbb54cb80aa1e",
   "execution_count": 25
  },
  {
   "cell_type": "code",
   "outputs": [],
   "source": [
    "with open(fr\"sorted_result_{len(load_scenario_names)}_HP.pkl\", 'rb') as file:\n",
    "    load_sorted_result = pickle.load(file)"
   ],
   "metadata": {
    "collapsed": false,
    "ExecuteTime": {
     "end_time": "2024-10-24T01:29:25.036403Z",
     "start_time": "2024-10-24T01:29:25.025397Z"
    }
   },
   "id": "901c8c88b186efca",
   "execution_count": 26
  },
  {
   "cell_type": "code",
   "outputs": [
    {
     "data": {
      "text/plain": "<Figure size 640x480 with 1 Axes>",
      "image/png": "[encoded data removed]"
     },
     "metadata": {},
     "output_type": "display_data"
    }
   ],
   "source": [
    "# Example data\n",
    "n = len(list(load_sorted_result.keys()))\n",
    "list1 = [i for i in range(1,n+1)]  # X-axis labels\n",
    "list2 = [load_sorted_result[key]['count'] for key, data in load_sorted_result.items()]\n",
    "\n",
    "# Create a bar chart\n",
    "plt.bar(list1, list2)\n",
    "\n",
    "# Add labels and title\n",
    "plt.xlabel('Demand Penalty Values')\n",
    "plt.ylabel('Number of Scenarios')\n",
    "plt.title('Demand Penalty Value Histogram')\n",
    "\n",
    "for i, value in enumerate(list2):\n",
    "    plt.text(i+1, value, str(value), ha='center', va='bottom')\n",
    "\n",
    "# Rotate the x-axis labels if they are too long or overlapping\n",
    "plt.xticks()\n",
    "\n",
    "# Show the plot\n",
    "plt.show()"
   ],
   "metadata": {
    "collapsed": false,
    "ExecuteTime": {
     "end_time": "2024-10-24T01:29:28.855179Z",
     "start_time": "2024-10-24T01:29:26.989463Z"
    }
   },
   "id": "5f55df7365e9a223",
   "execution_count": 27
  },
  {
   "cell_type": "code",
   "outputs": [
    {
     "data": {
      "text/plain": "402"
     },
     "execution_count": 28,
     "metadata": {},
     "output_type": "execute_result"
    }
   ],
   "source": [
    "sum(data['count_obj'] for key, data in load_sorted_result.items())"
   ],
   "metadata": {
    "collapsed": false,
    "ExecuteTime": {
     "end_time": "2024-10-24T01:29:28.870645Z",
     "start_time": "2024-10-24T01:29:28.857278Z"
    }
   },
   "id": "9774782444817311",
   "execution_count": 28
  },
  {
   "cell_type": "code",
   "outputs": [
    {
     "data": {
      "text/plain": "<Figure size 1000x800 with 1 Axes>",
      "image/png": "[encoded data removed]"
     },
     "metadata": {},
     "output_type": "display_data"
    }
   ],
   "source": [
    "penalty_key = list(load_sorted_result.keys())[0]\n",
    "n = 10\n",
    "obj_keys = [list(load_sorted_result[penalty_key]['objectives'].keys())[i] for i in range(n)]\n",
    "list1 = [i for i in range(1,n+1)]  # X-axis labels\n",
    "list2 = [load_sorted_result[penalty_key]['objectives'][obj_keys[i]]['count'] for i in range(n)]\n",
    "\n",
    "plt.figure(figsize=(10,8))\n",
    "\n",
    "# Create a bar chart\n",
    "plt.bar(list1, list2)\n",
    "\n",
    "# Add labels and title\n",
    "plt.xlabel('Scenarios')\n",
    "plt.ylabel('#')\n",
    "plt.title('Number of occurences')\n",
    "\n",
    "for i, value in enumerate(list2):\n",
    "    plt.text(i+1, value+0.25, str(value), ha='center', va='bottom', fontsize=13)\n",
    "\n",
    "# Rotate the x-axis labels if they are too long or overlapping\n",
    "# plt.xticks(rotation=45)\n",
    "\n",
    "# Show the plot\n",
    "plt.show()"
   ],
   "metadata": {
    "collapsed": false,
    "ExecuteTime": {
     "end_time": "2024-10-24T01:29:28.979078Z",
     "start_time": "2024-10-24T01:29:28.873772Z"
    }
   },
   "id": "3dd59ea1805d2c79",
   "execution_count": 29
  },
  {
   "cell_type": "code",
   "outputs": [],
   "source": [
    "error"
   ],
   "metadata": {
    "collapsed": false
   },
   "id": "e55445041546ef70"
  },
  {
   "cell_type": "markdown",
   "source": [
    "# STOP PI EXECUTION HERE"
   ],
   "metadata": {
    "collapsed": false
   },
   "id": "29dde4d8795030e4"
  },
  {
   "cell_type": "markdown",
   "source": [
    "# RUN FROM HERE"
   ],
   "metadata": {
    "collapsed": false
   },
   "id": "b4c94a3e0594f194"
  },
  {
   "cell_type": "code",
   "outputs": [],
   "source": [
    "scenarios_to_select = 75\n",
    "# random.seed(2)\n",
    "selected_scenarios = pick_scenarios(load_sorted_result, scenarios_to_select)"
   ],
   "metadata": {
    "collapsed": false,
    "ExecuteTime": {
     "end_time": "2024-10-24T01:33:48.091923Z",
     "start_time": "2024-10-24T01:33:48.070454Z"
    }
   },
   "id": "4ab4d75bafd846b3",
   "execution_count": 34
  },
  {
   "cell_type": "code",
   "outputs": [],
   "source": [
    "# key1 = list(selected_scenarios.keys())[0]\n",
    "# key2 = list(selected_scenarios[key1].keys())[0]\n",
    "# \n",
    "# selected_scenarios[key1][key2]['res1_nd cap2_1 trans12_nd cap7_1 cap4_1 res6_nd trans25_nd']['factor']"
   ],
   "metadata": {
    "collapsed": false,
    "ExecuteTime": {
     "end_time": "2024-10-24T01:38:23.331582Z",
     "start_time": "2024-10-24T01:38:23.328284Z"
    }
   },
   "id": "91ab5f634e1c4f9c",
   "execution_count": 41
  },
  {
   "cell_type": "code",
   "outputs": [],
   "source": [
    "norm_factor = sum_probabilities(selected_scenarios)\n",
    "selected_scenario_dict = {\n",
    "    k: {\n",
    "        'prob': scenario_data['prob'] / norm_factor,\n",
    "        'factor': scenario_data['factor'].copy()\n",
    "    }\n",
    "    for i, inner_dict in selected_scenarios.items()\n",
    "    for j, sub_dict in inner_dict.items()\n",
    "    for k, scenario_data in sub_dict.items()\n",
    "}\n",
    "            \n",
    "selected_scenario_names = list(selected_scenario_dict.keys())\n",
    "print(f'Number of scenarios considered: {len(selected_scenario_names)}')\n",
    "prob_select = sum_probabilities(selected_scenario_dict)\n",
    "print(f'Sum of probabilities of selected scenarios: {prob_select:.6f}')"
   ],
   "metadata": {
    "collapsed": false
   },
   "id": "d67d2ad58d19fc55",
   "execution_count": null
  },
  {
   "cell_type": "markdown",
   "source": [
    "# STOCHASTIC PROBLEM"
   ],
   "metadata": {
    "collapsed": false
   },
   "id": "c5f94d9374b84ca1"
  },
  {
   "cell_type": "code",
   "outputs": [],
   "source": [
    "start_time = time.time()\n",
    "options = {\"solver\": \"gurobi\"}\n",
    "scenario_creator_kwargs = {'scenario_dict': selected_scenario_dict}\n",
    "ef_UI = ExtensiveForm(options, selected_scenario_names, scenario_creator, scenario_creator_kwargs=scenario_creator_kwargs)\n",
    "results = ef_UI.solve_extensive_form(solver_options=solver_options)\n",
    "end_time = time.time()"
   ],
   "metadata": {
    "collapsed": false
   },
   "id": "29824de25706215e",
   "execution_count": null
  },
  {
   "cell_type": "code",
   "outputs": [],
   "source": [
    "exCost_UI = ef_UI.get_objective_value()\n",
    "# exCost_UI\n",
    "\n",
    "with open(fr\"{FD_pkl_folder}\\{len(selected_scenario_names)}\\exCost_{len(selected_scenario_names)}_UI_HP.pkl\", 'wb') as file:\n",
    "    pickle.dump(exCost_UI, file)\n",
    "    \n",
    "with open(fr\"{FD_pkl_folder}\\{len(selected_scenario_names)}\\exCost_{len(selected_scenario_names)}_UI_HP.pkl\", 'rb') as file:\n",
    "    load_exCost_UI = pickle.load(file)"
   ],
   "metadata": {
    "collapsed": false
   },
   "id": "deac04f3c04fe83",
   "execution_count": null
  },
  {
   "cell_type": "code",
   "outputs": [],
   "source": [
    "# exCost_UI = 2133007.7662\n",
    "# EVPI = exCost_UI - exCost_PI_load\n",
    "# p_inc = EVPI * 100 / exCost_PI_load\n",
    "# p_dec = EVPI * 100 / exCost_UI"
   ],
   "metadata": {
    "collapsed": false
   },
   "id": "7c05fada84f0eb05",
   "execution_count": null
  },
  {
   "cell_type": "code",
   "outputs": [],
   "source": [
    "ssoln_dict = ef_UI.get_root_solution()\n",
    "with open(fr\"{FD_pkl_folder}\\{len(selected_scenario_names)}\\ssoln_{len(selected_scenario_names)}_UI_HP.pkl\", 'wb') as file:\n",
    "    pickle.dump(ssoln_dict, file)\n",
    "# \n",
    "# print(f\"Total Expected Cost considering perfect information: {exCost_PI_load:.4f}\")\n",
    "# print(f\"Total Expected Cost considering disruptions (stochastic solution): {exCost_UI:.4f}\")\n",
    "# print(f\"Expected Value of Perfect Information: {EVPI:.4f}\")\n",
    "# print(f\"Percentage Increase in Cost: {p_inc:.4f}%%\")\n",
    "# print(f\"Percentage Decrease in Cost: {p_dec:.4f}%%\")\n"
   ],
   "metadata": {
    "collapsed": false
   },
   "id": "305759d4164e53bb",
   "execution_count": null
  },
  {
   "cell_type": "markdown",
   "source": [
    "# FIXED DESIGN"
   ],
   "metadata": {
    "collapsed": false
   },
   "id": "afe4b4a492918e59"
  },
  {
   "cell_type": "code",
   "outputs": [],
   "source": [
    "exCost_FD = 0\n",
    "exRes_FD = 0\n",
    "results_FD = dict()\n",
    "scen_FD, model_FD = build_model()"
   ],
   "metadata": {
    "collapsed": false
   },
   "id": "53dea46b595cd069",
   "execution_count": null
  },
  {
   "cell_type": "code",
   "outputs": [],
   "source": [
    "def fix_variables(model1: ConcreteModel, model2:ConcreteModel, scen_name:str):\n",
    "    # vars_to_fix = ['X_P', 'Cap_P', 'X_S', 'Cap_S', 'X_F', 'Cap_F']\n",
    "    model = getattr(model1, scen_name)\n",
    "    def fix(var1, var2):\n",
    "        for i in list(var1.keys()):\n",
    "            if var1[i].value is None:\n",
    "                continue\n",
    "            else:\n",
    "                var2[i].fixed = True\n",
    "                var2[i] = var1[i].value\n",
    "            # var2[i].pprint()\n",
    "            \n",
    "    fix(model.X_P, model2.X_P)\n",
    "    fix(model.Cap_P, model2.Cap_P)\n",
    "    fix(model.X_S, model2.X_S)\n",
    "    fix(model.Cap_S, model2.Cap_S)\n",
    "    fix(model.X_F, model2.X_F)\n",
    "    fix(model.Cap_F, model2.Cap_F)"
   ],
   "metadata": {
    "collapsed": false
   },
   "id": "c4198bb810529bc",
   "execution_count": null
  },
  {
   "cell_type": "code",
   "outputs": [],
   "source": [
    "# Deterministic Scenarios for Fixed Design\n",
    "counter = 0\n",
    "FD_output_dict=dict()\n",
    "fix_variables(model1=ef_UI.ef, model2=model_FD, scen_name=selected_scenario_names[0])\n",
    "\n",
    "for scen_name in load_scenario_names:\n",
    "    scen_FD = build_model(scen_df=load_scenario_dict[scen_name]['factor'])\n",
    "    counter+=1\n",
    "    # Delete process capacity factors, resource availability factors, transport capacity factors\n",
    "    model_FD.del_component('constraint_nameplate_production_varying_capacity')\n",
    "    model_FD.del_component('constraint_resource_consumption_varying')\n",
    "    model_FD.del_component('constraint_export')\n",
    "\n",
    "    # Add the constraints back for this particular scenario\n",
    "    model_FD.constraint_nameplate_production_varying_capacity = make_constraint(instance=model_FD,\n",
    "        type_cons=Cons.X_LEQ_BY, variable_x='P', location_set=model_FD.locations, component_set=model_FD.processes_varying_capacity,\n",
    "        loc_comp_dict=scen_FD.location_process_dict, b_factor=scen_FD.capacity_factor,\n",
    "                                                                                x_scale_level=scen_FD.scheduling_scale_level,\n",
    "                                                                                b_scale_level=scen_FD.capacity_scale_level,\n",
    "                                                                                y_scale_level=scen_FD.network_scale_level,\n",
    "                                                                                variable_y='Cap_P',\n",
    "                                                                                label='restricts production to varying nameplate capacity')\n",
    "\n",
    "    model_FD.constraint_resource_consumption_varying = make_constraint(\n",
    "        instance=model_FD, type_cons=Cons.X_LEQ_B, variable_x='C', location_set=model_FD.locations,\n",
    "        component_set=model_FD.resources_varying_availability, b_max=scen_FD.cons_max,\n",
    "        loc_comp_dict=scen_FD.location_resource_dict, b_factor=scen_FD.availability_factor,\n",
    "        x_scale_level=scen_FD.scheduling_scale_level, b_scale_level=scen_FD.availability_scale_level,\n",
    "        label='restricts resource consumption to varying availablity')\n",
    "\n",
    "    constraint_export(instance=model_FD, scheduling_scale_level=scen_FD.scheduling_scale_level,\n",
    "                      network_scale_level=scen_FD.network_scale_level,\n",
    "                      location_transport_resource_dict=scen_FD.location_transport_resource_dict,\n",
    "                      transport_capacity_factor=scen_FD.transport_capacity_factor,\n",
    "                      transport_capacity_scale_level=scen_FD.transport_capacity_scale_level)\n",
    "\n",
    "    results_FD = solve(scenario=scen_FD, instance=model_FD, solver='gurobi', name=scen_name,\n",
    "                       solver_options=solver_options)\n",
    "\n",
    "    print(f'######################## Finished solving {scen_name} ({counter} of {len(load_scenario_dict)}) ########################')\n",
    "\n",
    "    model_vars = model_FD.component_map(ctype=Var)\n",
    "    vars_dict = {i: model_vars[i].extract_values() for i in model_vars.keys()}\n",
    "    obj_dict = {'objective': pyoval(model_FD.objective_cost_w_demand_penalty)}\n",
    "\n",
    "    FD_output_dict[scen_name] = {**vars_dict, **obj_dict}\n",
    "    \n",
    "    with open(fr\"{FD_pkl_folder}\\{len(selected_scenario_names)}\\{scen_name}.pkl\", 'wb') as file:\n",
    "        pickle.dump(FD_output_dict[scen_name], file)\n",
    "\n",
    "    exCost_FD += pyoval(model_FD.objective_cost_w_demand_penalty) * load_scenario_dict[scen_name]['prob']\n",
    "    exRes_FD += pyoval(model_FD.Demand_penalty_network[('com1_sold',0)]) * load_scenario_dict[scen_name]['prob']"
   ],
   "metadata": {
    "collapsed": false
   },
   "id": "2de38d03ae32a01",
   "execution_count": null
  },
  {
   "cell_type": "code",
   "outputs": [],
   "source": [
    "final_results_dict = {scenarios_to_select: {'Expected Cost UI': exCost_UI,\n",
    "                                            'Expected Cost FD': exCost_FD,\n",
    "                                            'Expected Resilience': 1 - exRes_FD/(20*400*90*4),\n",
    "                                            'Execution Time': start_time-end_time}}\n",
    "    \n",
    "with open(fr\"{FD_pkl_folder}\\{len(selected_scenario_names)}\\FD_{len(selected_scenario_names)}_final_results_HP.pkl\", 'wb') as file:\n",
    "    pickle.dump(final_results_dict, file)"
   ],
   "metadata": {
    "collapsed": false
   },
   "id": "49d3364e8611a393",
   "execution_count": null
  },
  {
   "cell_type": "code",
   "outputs": [],
   "source": [
    "final_results_dict"
   ],
   "metadata": {
    "collapsed": false
   },
   "id": "4e1227bf74fc657f",
   "execution_count": null
  },
  {
   "cell_type": "code",
   "outputs": [],
   "source": [],
   "metadata": {
    "collapsed": false
   },
   "id": "58686db2ee2d457d",
   "execution_count": null
  }
 ],
 "metadata": {
  "kernelspec": {
   "display_name": "Python 3",
   "language": "python",
   "name": "python3"
  },
  "language_info": {
   "codemirror_mode": {
    "name": "ipython",
    "version": 2
   },
   "file_extension": ".py",
   "mimetype": "text/x-python",
   "name": "python",
   "nbconvert_exporter": "python",
   "pygments_lexer": "ipython2",
   "version": "2.7.6"
  }
 },
 "nbformat": 4,
 "nbformat_minor": 5
}
