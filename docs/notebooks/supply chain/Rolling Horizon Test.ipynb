{
 "cells": [
  {
   "cell_type": "code",
   "outputs": [],
   "source": [
    "from pyomo.environ import *\n",
    "import numpy as np\n",
    "import math"
   ],
   "metadata": {
    "collapsed": false,
    "ExecuteTime": {
     "end_time": "2025-01-16T20:36:31.861132Z",
     "start_time": "2025-01-16T20:36:31.858529Z"
    }
   },
   "id": "2244e297577be400",
   "execution_count": 8
  },
  {
   "cell_type": "code",
   "outputs": [],
   "source": [
    "# Case Study Parameters\n",
    "time_scales = [12,4,7]"
   ],
   "metadata": {
    "collapsed": false,
    "ExecuteTime": {
     "end_time": "2025-01-16T20:36:31.866508Z",
     "start_time": "2025-01-16T20:36:31.862210Z"
    }
   },
   "id": "60f261cf33f5f77",
   "execution_count": 9
  },
  {
   "cell_type": "code",
   "outputs": [],
   "source": [
    "def supply_chain_controller(time_length:int=1, start_time:int=0, end_time:int=1, inv_zero:dict=None, transit_zero:dict=None, p_horizon:int=1, c_horizon:int=1):\n",
    "    if c_horizon > p_horizon:\n",
    "        raise ValueError('c_horizon must be less than or equal to p_horizon')\n",
    "    \n",
    "    for t_start in range(start_time, end_time+1, c_horizon):\n",
    "        time_idx = [i for i in range(t_start, min(t_start+p_horizon, end_time+1))]\n",
    "        # print(t_start); print(time_idx)"
   ],
   "metadata": {
    "collapsed": false,
    "ExecuteTime": {
     "end_time": "2025-01-16T21:29:42.845841Z",
     "start_time": "2025-01-16T21:29:42.842831Z"
    }
   },
   "id": "1e58a6ddac1f4464",
   "execution_count": 35
  },
  {
   "cell_type": "code",
   "outputs": [
    {
     "name": "stdout",
     "output_type": "stream",
     "text": [
      "0\n",
      "[0, 1, 2, 3, 4]\n",
      "2\n",
      "[2, 3, 4, 5, 6]\n",
      "4\n",
      "[4, 5, 6, 7, 8]\n",
      "6\n",
      "[6, 7, 8, 9, 10]\n",
      "8\n",
      "[8, 9, 10]\n",
      "10\n",
      "[10]\n"
     ]
    }
   ],
   "source": [
    "supply_chain_controller(time_length = math.prod(time_scales), end_time=10, p_horizon=5, c_horizon=2)"
   ],
   "metadata": {
    "collapsed": false,
    "ExecuteTime": {
     "end_time": "2025-01-16T21:29:43.499542Z",
     "start_time": "2025-01-16T21:29:43.496549Z"
    }
   },
   "id": "69af25737efdc39f",
   "execution_count": 36
  },
  {
   "cell_type": "code",
   "outputs": [],
   "source": [],
   "metadata": {
    "collapsed": false,
    "ExecuteTime": {
     "end_time": "2025-01-16T21:27:21.107944Z",
     "start_time": "2025-01-16T21:27:21.105701Z"
    }
   },
   "id": "859026ce8504d724",
   "execution_count": 34
  },
  {
   "cell_type": "code",
   "outputs": [],
   "source": [],
   "metadata": {
    "collapsed": false
   },
   "id": "8dc2221ab640bfc5"
  }
 ],
 "metadata": {
  "kernelspec": {
   "display_name": "Python 3",
   "language": "python",
   "name": "python3"
  },
  "language_info": {
   "codemirror_mode": {
    "name": "ipython",
    "version": 2
   },
   "file_extension": ".py",
   "mimetype": "text/x-python",
   "name": "python",
   "nbconvert_exporter": "python",
   "pygments_lexer": "ipython2",
   "version": "2.7.6"
  }
 },
 "nbformat": 4,
 "nbformat_minor": 5
}
