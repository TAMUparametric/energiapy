{
 "cells": [
  {
   "cell_type": "code",
   "execution_count": 3,
   "id": "initial_id",
   "metadata": {
    "collapsed": true,
    "ExecuteTime": {
     "end_time": "2023-10-26T16:22:37.377962Z",
     "start_time": "2023-10-26T16:22:37.374023Z"
    }
   },
   "outputs": [],
   "source": [
    "import math\n",
    "import random\n",
    "import sys\n",
    "\n",
    "sys.path.append('../../src')\n",
    "import pandas\n",
    "import math\n",
    "import random\n",
    "from energiapy.components.temporal_scale import TemporalScale\n",
    "from energiapy.components.resource import Resource, VaryingResource\n",
    "from energiapy.components.process import Process, ProcessMode, VaryingProcess\n",
    "from energiapy.components.location import Location\n",
    "from energiapy.components.transport import Transport\n",
    "from energiapy.components.network import Network\n",
    "from energiapy.components.scenario import Scenario\n",
    "from energiapy.components.result import Result\n",
    "from energiapy.model.formulate import formulate, Constraints, Objective\n",
    "from energiapy.plot import plot_results, plot_scenario, plot_location\n",
    "from energiapy.model.solve import solve"
   ]
  },
  {
   "cell_type": "code",
   "execution_count": 8,
   "outputs": [
    {
     "name": "stdout",
     "output_type": "stream",
     "text": [
      "    com1_pur\n",
      "0       1.00\n",
      "1       0.08\n",
      "2       0.87\n",
      "3       0.28\n",
      "4       0.47\n",
      "5       0.34\n",
      "6       0.25\n",
      "7       0.62\n",
      "8       0.01\n",
      "9       0.37\n",
      "10      0.79\n",
      "11      0.39\n"
     ]
    }
   ],
   "source": [
    "# ======================================================================================================================\n",
    "# Initialize Case Study\n",
    "# ======================================================================================================================\n",
    "_time_intervals = 30  # Number of time intervals in a planning horizon    (L_chi)\n",
    "_coms = 1  # Number of commodities                             (rho)\n",
    "_exec_scenarios = 12  # Number of execution scenarios                     (chi)\n",
    "\n",
    "M = 1e6  # Big M\n",
    "\n",
    "availability_list = [1]\n",
    "availability_list.extend([math.ceil(random.uniform(0, 0.95)*100)/100.0 for _ in range(_exec_scenarios-1)])\n",
    "availability_factor = pandas.DataFrame(data={'com1_pur': availability_list})\n",
    "print(availability_factor)\n",
    "# Define temporal scales\n",
    "scales = TemporalScale(discretization_list=[_exec_scenarios, _time_intervals])"
   ],
   "metadata": {
    "collapsed": false,
    "ExecuteTime": {
     "end_time": "2023-10-26T16:23:59.751217Z",
     "start_time": "2023-10-26T16:23:59.744285Z"
    }
   },
   "id": "60fd963af8c82897"
  },
  {
   "cell_type": "code",
   "execution_count": 10,
   "outputs": [],
   "source": [
    "# ======================================================================================================================\n",
    "# Declare resources/commodities\n",
    "# ======================================================================================================================\n",
    "\n",
    "com1_pur = Resource(name='com1_pur', cons_max=200, block={'imp': 1, 'urg': 1}, price=0.00,\n",
    "                    label='Commodity 1 consumed from outside the system', varying=[VaryingResource.DETERMINISTIC_AVAILABILITY])\n",
    "\n",
    "com1 = Resource(name='com1', block={'imp': 1, 'urg': 1}, label='Commodity 1')\n",
    "\n",
    "com1_sold = Resource(name='com1_sold', revenue=0.00, demand=True, sell=True, label='Commodity 1 sold to outside the system')\n",
    "\n",
    "# com2_pur = Resource(name='com2_pur', cons_max=200, block={'imp': 1, 'urg': 1}, price=50,\n",
    "#                     label='Commodity 2 consumed from outside the system', varying=[VaryingResource.DETERMINISTIC_AVAILABILITY])\n",
    "# \n",
    "# com2 = Resource(name='com2', block={'imp': 1, 'urg': 1}, label='Commodity 2')\n",
    "# \n",
    "# com2_sold = Resource(name='com2_sold', revenue=80.00, demand=True, sell=True, label='Commodity 2 sold to outside the system')"
   ],
   "metadata": {
    "collapsed": false,
    "ExecuteTime": {
     "end_time": "2023-10-26T16:25:04.877416Z",
     "start_time": "2023-10-26T16:25:04.871319Z"
    }
   },
   "id": "77a082094c8f8b27"
  },
  {
   "cell_type": "code",
   "execution_count": 11,
   "outputs": [],
   "source": [
    "# ======================================================================================================================\n",
    "# Declare processes/storage capacities\n",
    "# ======================================================================================================================\n",
    "com1_procure = Process(name='procure com1', prod_max=M, conversion={com1_pur: -1, com1: 1}, capex=0, vopex=0, fopex=0,\n",
    "                  label='Procure com1')\n",
    "com1_sell = Process(name='sell com1', prod_max=M, conversion={com1: -1, com1_sold: 1}, capex=0, vopex=0, fopex=0,\n",
    "                  label='Sell com1')\n",
    "\n",
    "com1_store10 = Process(name='store110', storage=com1, store_max=10/_coms, prod_max=M, capex=100, vopex=1,\n",
    "                  label=\"Storage capacity of 10 units for commodity 1\")\n",
    "com1_store20 = Process(name='store120', storage=com1, store_max=20/_coms, prod_max=M, capex=200, vopex=2,\n",
    "                  label=\"Storage capacity of 20 units for commodity 1\")\n",
    "com1_store50 = Process(name='store150', storage=com1, store_max=50/_coms, prod_max=M, capex=500, vopex=5,\n",
    "                  label=\"Storage capacity of 50 units for commodity 1\")\n",
    "\n",
    "# com2_procure = Process(name='procure com2', prod_max=M, conversion={com2_pur: -1, com2: 1}, capex=0, vopex=0, fopex=0,\n",
    "#                   label='Procure com2')\n",
    "# com2_sell = Process(name='sell com2', prod_max=M, conversion={com2: -1, com2_sold: 1}, capex=0, vopex=0, fopex=0,\n",
    "#                   label='Sell com2')\n",
    "# \n",
    "# com2_store10 = Process(name='store210', storage=com2, store_max=10/_coms, prod_max=M, capex=100, vopex=1,\n",
    "#                   label=\"Storage capacity of 10 units for commodity 2\")\n",
    "# com2_store20 = Process(name='store220', storage=com2, store_max=20/_coms, prod_max=M, capex=200, vopex=2,\n",
    "#                   label=\"Storage capacity of 20 units for commodity 2\")\n",
    "# com2_store50 = Process(name='store250', storage=com2, store_max=50/_coms, prod_max=M, capex=500, vopex=5,\n",
    "#                   label=\"Storage capacity of 50 units for commodity 2\")"
   ],
   "metadata": {
    "collapsed": false,
    "ExecuteTime": {
     "end_time": "2023-10-26T16:25:41.605635Z",
     "start_time": "2023-10-26T16:25:41.597033Z"
    }
   },
   "id": "2ac39020d11b8d76"
  },
  {
   "cell_type": "code",
   "execution_count": 12,
   "outputs": [],
   "source": [
    "# ======================================================================================================================\n",
    "# Declare locations/warehouses\n",
    "# ======================================================================================================================\n",
    "loc1 = Location(name='loc1', processes={com1_procure, com1_store20}, label=\"Location 1\", scales=scales, demand_scale_level=1,\n",
    "                capacity_scale_level=0, availability_scale_level=0, availability_factor={com1_pur: availability_factor[['com1_pur']]})\n",
    "loc2 = Location(name='loc2', processes={com1_store20}, label=\"Location 2\", scales=scales, demand_scale_level=1,\n",
    "                capacity_scale_level=0, availability_scale_level=0)\n",
    "loc3 = Location(name='loc3', processes={com1_store20}, label=\"Location 3\", scales=scales, demand_scale_level=1,\n",
    "                capacity_scale_level=0, availability_scale_level=0)\n",
    "loc4 = Location(name='loc4', processes={com1_store50}, label=\"Location 4\", scales=scales, demand_scale_level=1,\n",
    "                capacity_scale_level=0, availability_scale_level=0)\n",
    "loc5 = Location(name='loc5', processes={com1_store50, com1_sell}, label=\"Location 5\", scales=scales, demand_scale_level=1,\n",
    "                capacity_scale_level=0, availability_scale_level=0)\n",
    "loc6 = Location(name='loc6', processes={com1_procure, com1_store10}, label=\"Location 6\", scales=scales, demand_scale_level=1,\n",
    "                capacity_scale_level=0, availability_scale_level=0, availability_factor={com1_pur: availability_factor[['com1_pur']]})\n",
    "loc7 = Location(name='loc7', processes={com1_store10}, label=\"Location 7\", scales=scales, demand_scale_level=1,\n",
    "                capacity_scale_level=0, availability_scale_level=0)"
   ],
   "metadata": {
    "collapsed": false,
    "ExecuteTime": {
     "end_time": "2023-10-26T16:26:48.058763Z",
     "start_time": "2023-10-26T16:26:48.049402Z"
    }
   },
   "id": "8b9b93a6fabac003"
  },
  {
   "cell_type": "code",
   "execution_count": 13,
   "outputs": [],
   "source": [
    "# ======================================================================================================================\n",
    "# Declare transport/trucks\n",
    "# ======================================================================================================================\n",
    "truck20 = Transport(name='truck20', resources=[com1], trans_max=20, label='Truck with maximum capacity of 20 units',\n",
    "                    trans_cost=0.02)\n",
    "truck30 = Transport(name='truck30', resources=[com1], trans_max=30, label='Truck with maximum capacity of 30 units',\n",
    "                    trans_cost=0.03)\n",
    "truck40 = Transport(name='truck40', resources=[com1], trans_max=40, label='Truck with maximum capacity of 40 units',\n",
    "                    trans_cost=0.04)\n",
    "truck50 = Transport(name='truck50', resources=[com1], trans_max=50, label='Truck with maximum capacity of 50 units',\n",
    "                    trans_cost=0.05)\n",
    "truck100 = Transport(name='truck100', resources=[com1], trans_max=100, label='Truck with maximum capacity of 100 units',\n",
    "                     trans_cost=0.1)"
   ],
   "metadata": {
    "collapsed": false,
    "ExecuteTime": {
     "end_time": "2023-10-26T16:27:31.537819Z",
     "start_time": "2023-10-26T16:27:31.519672Z"
    }
   },
   "id": "46c0e154e9a59567"
  },
  {
   "cell_type": "code",
   "execution_count": 14,
   "outputs": [],
   "source": [
    "transport_matrix = [\n",
    "    [[], [truck50], [truck30], [], [], [], []],  # sink: location 1\n",
    "    [[truck50], [], [], [truck50], [truck30], [], []],  # sink: location 2\n",
    "    [[truck30], [], [], [truck20], [], [], []],  # sink: location 3\n",
    "    [[], [truck50], [truck20], [], [truck100], [truck50], [truck40]],  # sink: location 4\n",
    "    [[], [truck30], [], [truck100], [], [], [truck40]],  # sink: location 5\n",
    "    [[], [], [], [truck50], [], [], []],  # sink: location 6\n",
    "    [[], [], [], [truck40], [truck40], [], []]  # sink: location 7\n",
    "]\n",
    "\n",
    "distance_matrix = [\n",
    "    [0, 55, 196, M, M, M, M],\n",
    "    [55, 0, M, 163, 112, M, 134],\n",
    "    [196, M, 0, 63, M, M, M],\n",
    "    [M, 163, 63, 0, 95, 117, 88],\n",
    "    [M, 112, M, 95, 0, M, 134],\n",
    "    [M, M, M, 117, M, 0, M],\n",
    "    [M, 134, M, 88, 134, M, 0]\n",
    "]\n",
    "\n",
    "# ======================================================================================================================\n",
    "# Declare network\n",
    "# ======================================================================================================================\n",
    "locset = [loc1, loc2, loc3, loc4, loc5, loc6, loc7]\n",
    "\n",
    "sources = list(locset)\n",
    "sinks = list(locset)\n",
    "\n",
    "network = Network(name='Network', source_locations=sources, sink_locations=sinks, transport_matrix=transport_matrix,\n",
    "                  distance_matrix=distance_matrix)"
   ],
   "metadata": {
    "collapsed": false,
    "ExecuteTime": {
     "end_time": "2023-10-26T16:27:51.014827Z",
     "start_time": "2023-10-26T16:27:51.001825Z"
    }
   },
   "id": "f181e327204f3502"
  },
  {
   "cell_type": "code",
   "execution_count": 15,
   "outputs": [],
   "source": [
    "demand_dict = {i: {com1_sold: 100} if i == loc5 else {com1_sold: 0} for i in locset}\n",
    "demand_penalty_dict = {i: {com1_sold: 125} if i == loc5 else {com1_sold: 0} for i in locset}\n",
    "\n",
    "scenario = Scenario(name='scenario', scales=scales, scheduling_scale_level=1, network_scale_level=0,\n",
    "                    purchase_scale_level=0, availability_scale_level=0, demand_scale_level=1,\n",
    "                    network=network, demand=demand_dict, demand_penalty=demand_penalty_dict, label='scenario')"
   ],
   "metadata": {
    "collapsed": false,
    "ExecuteTime": {
     "end_time": "2023-10-26T16:28:20.982769Z",
     "start_time": "2023-10-26T16:28:20.965504Z"
    }
   },
   "id": "aeb5839f5ac3c81a"
  },
  {
   "cell_type": "code",
   "execution_count": 16,
   "outputs": [
    {
     "name": "stdout",
     "output_type": "stream",
     "text": [
      "constraint process capex\n",
      "constraint process fopex\n",
      "constraint process vopex\n",
      "constraint process incidental\n",
      "constraint production mode\n",
      "constraint inventory balance\n",
      "constraint transport export\n",
      "constraint transport import\n",
      "constraint transport exp UB\n",
      "constraint transport imp UB\n",
      "constraint transport balance\n",
      "constraint transport imp cost\n",
      "constraint transport cost\n",
      "constraint transport cost network\n",
      "constraint demand penalty\n",
      "constraint network cost\n",
      "constraint resource revenue\n",
      "constraint location revenue\n",
      "constraint network revenue\n",
      "objective profit w demand penalty\n"
     ]
    }
   ],
   "source": [
    "problem = formulate(scenario=scenario, constraints={Constraints.COST, Constraints.TRANSPORT,\n",
    "                                                    Constraints.RESOURCE_BALANCE, Constraints.PRODUCTION,\n",
    "                                                    Constraints.INVENTORY, Constraints.DEMAND}, demand_sign='eq',\n",
    "                    objective=Objective.PROFIT_W_DEMAND_PENALTY)"
   ],
   "metadata": {
    "collapsed": false,
    "ExecuteTime": {
     "end_time": "2023-10-26T16:29:41.806317Z",
     "start_time": "2023-10-26T16:29:32.694605Z"
    }
   },
   "id": "cf9184c3b1427712"
  },
  {
   "cell_type": "code",
   "execution_count": null,
   "outputs": [],
   "source": [],
   "metadata": {
    "collapsed": false
   },
   "id": "8f8379cdbc8a787a"
  }
 ],
 "metadata": {
  "kernelspec": {
   "display_name": "Python 3",
   "language": "python",
   "name": "python3"
  },
  "language_info": {
   "codemirror_mode": {
    "name": "ipython",
    "version": 2
   },
   "file_extension": ".py",
   "mimetype": "text/x-python",
   "name": "python",
   "nbconvert_exporter": "python",
   "pygments_lexer": "ipython2",
   "version": "2.7.6"
  }
 },
 "nbformat": 4,
 "nbformat_minor": 5
}
