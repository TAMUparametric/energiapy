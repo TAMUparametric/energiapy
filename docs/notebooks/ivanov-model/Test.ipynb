{
 "cells": [
  {
   "cell_type": "code",
   "execution_count": 1,
   "metadata": {
    "ExecuteTime": {
     "end_time": "2023-09-14T22:05:15.040852100Z",
     "start_time": "2023-09-14T22:05:13.559887Z"
    }
   },
   "outputs": [],
   "source": [
    "import sys\n",
    "\n",
    "sys.path.append('../../src')\n",
    "import pandas\n",
    "from energiapy.components.temporal_scale import TemporalScale\n",
    "from energiapy.components.resource import Resource, VaryingResource\n",
    "from energiapy.components.process import Process, ProcessMode, VaryingProcess\n",
    "from energiapy.components.location import Location\n",
    "from energiapy.components.transport import Transport\n",
    "from energiapy.components.network import Network\n",
    "from energiapy.components.scenario import Scenario\n",
    "from energiapy.components.result import Result\n",
    "from energiapy.model.formulate import formulate, Constraints, Objective\n",
    "from energiapy.plot import plot_results, plot_scenario\n",
    "from energiapy.model.solve import solve"
   ]
  },
  {
   "cell_type": "code",
   "execution_count": 2,
   "metadata": {
    "ExecuteTime": {
     "end_time": "2023-09-14T22:05:15.056396500Z",
     "start_time": "2023-09-14T22:05:15.040852100Z"
    }
   },
   "outputs": [],
   "source": [
    "# ======================================================================================================================\n",
    "# Initialize Case Study\n",
    "# ======================================================================================================================\n",
    "_time_intervals = 10  # Number of time intervals in a planning horizon    (L_chi)\n",
    "_commodities = 1  # Number of commodities                             (rho)\n",
    "_exec_scenarios = 4  # Number of execution scenarios                     (chi)\n",
    "\n",
    "M = 1e6  # Big M\n",
    "availability_factor = pandas.DataFrame(data={'com_cons': [1, 0.1, 0.2, 0.5]})\n",
    "\n",
    "# Define temporal scales\n",
    "scales = TemporalScale(discretization_list=[_exec_scenarios, _time_intervals])"
   ]
  },
  {
   "cell_type": "code",
   "execution_count": 3,
   "outputs": [],
   "source": [
    "# ======================================================================================================================\n",
    "# Declare resources/commodities\n",
    "# ======================================================================================================================\n",
    "\n",
    "com_cons = Resource(name='com_cons', cons_max=200, block={'imp': 1, 'urg': 1}, price=50,\n",
    "                    label='Commodity consumed from outside the system', varying=[VaryingResource.DETERMINISTIC_AVAILABILITY])\n",
    "\n",
    "com1 = Resource(name='com1', block={'imp': 1, 'urg': 1}, label='Commodity 1')\n",
    "\n",
    "com_sold = Resource(name='com_sold', revenue=100.00, demand=True, sell=True, label='Commodity sold to outside the system')"
   ],
   "metadata": {
    "collapsed": false,
    "ExecuteTime": {
     "end_time": "2023-09-14T22:05:15.078605800Z",
     "start_time": "2023-09-14T22:05:15.056396500Z"
    }
   }
  },
  {
   "cell_type": "code",
   "execution_count": 4,
   "outputs": [],
   "source": [
    "# ======================================================================================================================\n",
    "# Declare processes/storage capacities\n",
    "# ======================================================================================================================\n",
    "procure = Process(name='procure', prod_max=M, conversion={com_cons: -1, com1: 1}, capex=0, vopex=0, fopex=0,\n",
    "                  label='Procure com1')\n",
    "sell = Process(name='sell', prod_max=M, conversion={com1: -1, com_sold: 1}, capex=0, vopex=0, fopex=0,\n",
    "                  label='Sell com1')\n",
    "\n",
    "store10 = Process(name='store10', storage=com1, store_max=10, prod_max=200, capex=1000, vopex=100,\n",
    "                  label=\"Storage capacity of 10 units\")\n",
    "store20 = Process(name='store20', storage=com1, store_max=20, prod_max=200, capex=2000, vopex=200,\n",
    "                  label=\"Storage capacity of 20 units\")\n",
    "store50 = Process(name='store50', storage=com1, store_max=50, prod_max=200, capex=10000, vopex=500,\n",
    "                  label=\"Storage capacity of 50 units\")"
   ],
   "metadata": {
    "collapsed": false,
    "ExecuteTime": {
     "end_time": "2023-09-14T22:05:15.094179900Z",
     "start_time": "2023-09-14T22:05:15.078605800Z"
    }
   }
  },
  {
   "cell_type": "code",
   "execution_count": 5,
   "outputs": [],
   "source": [
    "# ======================================================================================================================\n",
    "# Declare locations/warehouses\n",
    "# ======================================================================================================================\n",
    "loc1 = Location(name='loc1', processes={procure, store20}, label=\"Location 1\", scales=scales, demand_scale_level=1,\n",
    "                capacity_scale_level=0, availability_scale_level=0, availability_factor={com_cons: availability_factor})\n",
    "loc2 = Location(name='loc2', processes={store20}, label=\"Location 2\", scales=scales, demand_scale_level=1,\n",
    "                capacity_scale_level=0, availability_scale_level=0)\n",
    "loc3 = Location(name='loc3', processes={store20}, label=\"Location 3\", scales=scales, demand_scale_level=1,\n",
    "                capacity_scale_level=0, availability_scale_level=0)\n",
    "loc4 = Location(name='loc4', processes={store50}, label=\"Location 4\", scales=scales, demand_scale_level=1,\n",
    "                capacity_scale_level=0, availability_scale_level=0)\n",
    "loc5 = Location(name='loc5', processes={store50, sell}, label=\"Location 5\", scales=scales, demand_scale_level=1,\n",
    "                capacity_scale_level=0, availability_scale_level=0)\n",
    "loc6 = Location(name='loc6', processes={procure, store10}, label=\"Location 6\", scales=scales, demand_scale_level=1,\n",
    "                capacity_scale_level=0, availability_scale_level=0, availability_factor={com_cons: availability_factor})\n",
    "loc7 = Location(name='loc7', processes={store10}, label=\"Location 7\", scales=scales, demand_scale_level=1,\n",
    "                capacity_scale_level=0, availability_scale_level=0)"
   ],
   "metadata": {
    "collapsed": false,
    "ExecuteTime": {
     "end_time": "2023-09-14T22:05:15.141015500Z",
     "start_time": "2023-09-14T22:05:15.094179900Z"
    }
   }
  },
  {
   "cell_type": "code",
   "execution_count": 6,
   "outputs": [],
   "source": [
    "# ======================================================================================================================\n",
    "# Declare transport/trucks\n",
    "# ======================================================================================================================\n",
    "truck20 = Transport(name='truck20', resources=[com1], trans_max=20, label='Truck with maximum capacity of 20 units',\n",
    "                    trans_cost=0.02)\n",
    "truck30 = Transport(name='truck30', resources=[com1], trans_max=30, label='Truck with maximum capacity of 30 units',\n",
    "                    trans_cost=0.03)\n",
    "truck40 = Transport(name='truck40', resources=[com1], trans_max=40, label='Truck with maximum capacity of 40 units',\n",
    "                    trans_cost=0.04)\n",
    "truck50 = Transport(name='truck50', resources=[com1], trans_max=50, label='Truck with maximum capacity of 50 units',\n",
    "                    trans_cost=0.05)\n",
    "truck100 = Transport(name='truck100', resources=[com1], trans_max=100, label='Truck with maximum capacity of 100 units',\n",
    "                     trans_cost=0.1)"
   ],
   "metadata": {
    "collapsed": false,
    "ExecuteTime": {
     "end_time": "2023-09-14T22:05:15.141015500Z",
     "start_time": "2023-09-14T22:05:15.109806700Z"
    }
   }
  },
  {
   "cell_type": "code",
   "execution_count": 7,
   "outputs": [],
   "source": [
    "transport_matrix = [\n",
    "    [[], [truck50], [truck30], [], [], [], []],  # sink: location 1\n",
    "    [[truck50], [], [], [truck50], [truck30], [], []],  # sink: location 2\n",
    "    [[truck30], [], [], [truck20], [], [], []],  # sink: location 3\n",
    "    [[], [truck50], [truck20], [], [truck100], [truck50], [truck40]],  # sink: location 4\n",
    "    [[], [truck30], [], [truck100], [], [], [truck40]],  # sink: location 5\n",
    "    [[], [], [], [truck50], [], [], []],  # sink: location 6\n",
    "    [[], [], [], [truck40], [truck40], [], []]  # sink: location 7\n",
    "]\n",
    "\n",
    "distance_matrix = [\n",
    "    [0, 55, 196, M, M, M, M],\n",
    "    [55, 0, M, 163, 112, M, 134],\n",
    "    [196, M, 0, 63, M, M, M],\n",
    "    [M, 163, 63, 0, 95, 117, 88],\n",
    "    [M, 112, M, 95, 0, M, 134],\n",
    "    [M, M, M, 117, M, 0, M],\n",
    "    [M, 134, M, 88, 134, M, 0]\n",
    "]\n",
    "\n",
    "# ======================================================================================================================\n",
    "# Declare network\n",
    "# ======================================================================================================================\n",
    "locset = [loc1, loc2, loc3, loc4, loc5, loc6, loc7]\n",
    "\n",
    "sources = list(locset)\n",
    "sinks = list(locset)\n",
    "\n",
    "network = Network(name='Network', source_locations=sources, sink_locations=sinks, transport_matrix=transport_matrix,\n",
    "                  distance_matrix=distance_matrix)"
   ],
   "metadata": {
    "collapsed": false,
    "ExecuteTime": {
     "end_time": "2023-09-14T22:05:15.141015500Z",
     "start_time": "2023-09-14T22:05:15.125425500Z"
    }
   }
  },
  {
   "cell_type": "code",
   "execution_count": 8,
   "outputs": [],
   "source": [
    "demand_dict = {i: {com_sold: 100} if i == loc5 else {com_sold: 0} for i in locset}\n",
    "demand_penalty_dict = {i: {com_sold: 100} if i == loc5 else {com_sold: 0} for i in locset}\n",
    "\n",
    "scenario = Scenario(name='scenario', scales=scales, scheduling_scale_level=1, network_scale_level=0,\n",
    "                    purchase_scale_level=0, availability_scale_level=0, demand_scale_level=1,\n",
    "                    network=network, demand=demand_dict, demand_penalty=demand_penalty_dict, label='scenario')"
   ],
   "metadata": {
    "collapsed": false,
    "ExecuteTime": {
     "end_time": "2023-09-14T22:05:15.156665800Z",
     "start_time": "2023-09-14T22:05:15.141015500Z"
    }
   }
  },
  {
   "cell_type": "code",
   "execution_count": 9,
   "outputs": [
    {
     "ename": "AttributeError",
     "evalue": "'Scenario' object has no attribute 'revenue'",
     "output_type": "error",
     "traceback": [
      "\u001B[1;31m---------------------------------------------------------------------------\u001B[0m",
      "\u001B[1;31mAttributeError\u001B[0m                            Traceback (most recent call last)",
      "Cell \u001B[1;32mIn[9], line 1\u001B[0m\n\u001B[1;32m----> 1\u001B[0m \u001B[43mscenario\u001B[49m\u001B[38;5;241;43m.\u001B[39;49m\u001B[43mrevenue\u001B[49m\n",
      "\u001B[1;31mAttributeError\u001B[0m: 'Scenario' object has no attribute 'revenue'"
     ]
    }
   ],
   "source": [
    "scenario.revenue"
   ],
   "metadata": {
    "collapsed": false,
    "ExecuteTime": {
     "end_time": "2023-09-14T22:05:15.879728500Z",
     "start_time": "2023-09-14T22:05:15.163172100Z"
    }
   }
  },
  {
   "cell_type": "code",
   "execution_count": null,
   "outputs": [],
   "source": [
    "problem = formulate(scenario=scenario, constraints={Constraints.COST, Constraints.TRANSPORT,\n",
    "                                                    Constraints.RESOURCE_BALANCE, Constraints.PRODUCTION,\n",
    "                                                    Constraints.INVENTORY, Constraints.DEMAND}, demand_sign='leq',\n",
    "                    objective=Objective.PROFIT_W_DEMAND_PENALTY)"
   ],
   "metadata": {
    "collapsed": false,
    "ExecuteTime": {
     "start_time": "2023-09-14T22:05:15.879728500Z"
    }
   }
  },
  {
   "cell_type": "code",
   "execution_count": null,
   "outputs": [],
   "source": [
    "results = solve(scenario=scenario, instance=problem, solver='gurobi', name='MILP')"
   ],
   "metadata": {
    "collapsed": false,
    "ExecuteTime": {
     "start_time": "2023-09-14T22:05:15.879728500Z"
    }
   }
  },
  {
   "cell_type": "code",
   "execution_count": null,
   "outputs": [],
   "source": [
    "print(availability_factor)"
   ],
   "metadata": {
    "collapsed": false,
    "ExecuteTime": {
     "start_time": "2023-09-14T22:05:15.879728500Z"
    }
   }
  },
  {
   "cell_type": "code",
   "execution_count": null,
   "outputs": [],
   "source": [
    "print([(key, value) for key, value in results.output['S'].items() if value != 0])"
   ],
   "metadata": {
    "collapsed": false,
    "ExecuteTime": {
     "start_time": "2023-09-14T22:05:15.879728500Z"
    }
   }
  },
  {
   "cell_type": "code",
   "execution_count": null,
   "outputs": [],
   "source": [
    "print([(key, value) for key, value in results.output['Inv'].items() if value != 0])"
   ],
   "metadata": {
    "collapsed": false,
    "ExecuteTime": {
     "start_time": "2023-09-14T22:05:15.879728500Z"
    }
   }
  },
  {
   "cell_type": "code",
   "execution_count": null,
   "outputs": [],
   "source": [],
   "metadata": {
    "collapsed": false,
    "ExecuteTime": {
     "end_time": "2023-09-14T22:05:15.895316700Z",
     "start_time": "2023-09-14T22:05:15.895316700Z"
    }
   }
  }
 ],
 "metadata": {
  "language_info": {
   "name": "python"
  },
  "orig_nbformat": 4,
  "kernelspec": {
   "name": "python3",
   "language": "python",
   "display_name": "Python 3 (ipykernel)"
  }
 },
 "nbformat": 4,
 "nbformat_minor": 2
}
