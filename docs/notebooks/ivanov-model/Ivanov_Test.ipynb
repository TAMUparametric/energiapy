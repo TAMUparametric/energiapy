{
 "cells": [
  {
   "cell_type": "code",
   "execution_count": 20,
   "id": "cbc0f64a",
   "metadata": {
    "scrolled": true
   },
   "outputs": [],
   "source": [
    "import sys\n",
    "\n",
    "sys.path.append('../../src')\n",
    "from energiapy.components.temporal_scale import TemporalScale\n",
    "from energiapy.components.resource import Resource\n",
    "from energiapy.components.process import Process\n",
    "from energiapy.components.location import Location\n",
    "from energiapy.components.transport import Transport\n",
    "from energiapy.components.network import Network\n",
    "from energiapy.components.scenario import Scenario\n",
    "from energiapy.model.formulate import formulate, Constraints, Objective\n",
    "from energiapy.model.solve import solve\n"
   ]
  },
  {
   "cell_type": "code",
   "execution_count": 21,
   "id": "0c9125b9",
   "metadata": {},
   "outputs": [],
   "source": [
    "# ======================================================================================================================\n",
    "# Initialize Case Study\n",
    "# ======================================================================================================================\n",
    "start_time = 0  # Start time of the analysis                        (t0)\n",
    "end_time = 1000  # End time of the analysis                          (tf)\n",
    "_time_intervals = 10  # Number of time intervals in a planning horizon    (L_chi)\n",
    "_commodities = 1  # Number of commodities                             (rho)\n",
    "_exec_scenarios = 4  # Number of execution scenarios                     (chi)\n",
    "\n",
    "M = 1e7  # Big M\n",
    "\n",
    "# Define temporal scales\n",
    "scales = TemporalScale(discretization_list=[_exec_scenarios, _time_intervals])"
   ]
  },
  {
   "cell_type": "code",
   "execution_count": 22,
   "id": "765ab762",
   "metadata": {},
   "outputs": [],
   "source": [
    "# ======================================================================================================================\n",
    "# Declare resources/commodities\n",
    "# ======================================================================================================================\n",
    "\n",
    "com1 = Resource(name='com1', cons_max=M, demand=True, sell=True, block={'imp': 1, 'urg': 1}, label='Commodity 1', revenue= 10000000.00, price= 7.50)"
   ]
  },
  {
   "cell_type": "code",
   "execution_count": 38,
   "id": "f8e445f3",
   "metadata": {},
   "outputs": [],
   "source": [
    "# ======================================================================================================================\n",
    "# Declare processes/storage capacities\n",
    "# ======================================================================================================================\n",
    "store20 = Process(name='store20', storage=com1, store_max=20, prod_max=M, conversion={com1: -1, com1: 1}, capex=2000,\n",
    "                  label=\"Storage capacity of 20 units\")\n",
    "store50 = Process(name='store50', storage=com1, store_max=50, prod_max=M, conversion={com1: -1, com1: 1}, capex=5000,\n",
    "                  label=\"Storage capacity of 50 units\")"
   ]
  },
  {
   "cell_type": "code",
   "execution_count": 39,
   "id": "93c76e77",
   "metadata": {},
   "outputs": [],
   "source": [
    "# ======================================================================================================================\n",
    "# Declare locations/warehouses\n",
    "# ======================================================================================================================\n",
    "loc1 = Location(name='loc1', processes={store50}, label=\"Location 1\", scales=scales, demand_scale_level=1,\n",
    "                capacity_scale_level=1, availability_scale_level=1)\n",
    "loc2 = Location(name='loc2', processes={store20}, label=\"Location 2\", scales=scales, demand_scale_level=1,\n",
    "                capacity_scale_level=1, availability_scale_level=1)"
   ]
  },
  {
   "cell_type": "code",
   "execution_count": 40,
   "id": "1a7fd911",
   "metadata": {},
   "outputs": [],
   "source": [
    "# ======================================================================================================================\n",
    "# Declare transport/trucks\n",
    "# ======================================================================================================================\n",
    "truck100 = Transport(name='truck100', resources=[com1], trans_max=100, label='Truck with maximum capacity of 100 units',\n",
    "                     trans_cost=0.1)"
   ]
  },
  {
   "cell_type": "code",
   "execution_count": 41,
   "id": "037cee4b",
   "metadata": {},
   "outputs": [],
   "source": [
    "transport_matrix = [\n",
    "    [[], [truck100]],  # sink: location 1\n",
    "    [[truck100], []],  # sink: location 2\n",
    "]"
   ]
  },
  {
   "cell_type": "code",
   "execution_count": 42,
   "id": "fd2fff1b",
   "metadata": {},
   "outputs": [],
   "source": [
    "distance_matrix = [\n",
    "    [0, 10],\n",
    "    [10, 0],\n",
    "]"
   ]
  },
  {
   "cell_type": "code",
   "execution_count": 43,
   "id": "44d5ff0b",
   "metadata": {},
   "outputs": [],
   "source": [
    "# ======================================================================================================================\n",
    "# Declare network\n",
    "# ======================================================================================================================\n",
    "locset = {loc1, loc2}\n",
    "\n",
    "sources = list(locset)\n",
    "sinks = list(locset)\n",
    "\n",
    "network = Network(name='Network', source_locations=sources, sink_locations=sinks, transport_matrix=transport_matrix,\n",
    "                  distance_matrix=distance_matrix)"
   ]
  },
  {
   "cell_type": "code",
   "execution_count": 44,
   "id": "93c020fe",
   "metadata": {},
   "outputs": [],
   "source": [
    "# ======================================================================================================================\n",
    "# Declare scenario\n",
    "# ======================================================================================================================\n",
    "demand_dict = {i: {com1: 100} for i in locset if i == loc2}\n",
    "scenario = Scenario(name='scenario', scales=scales, scheduling_scale_level=1, network_scale_level=0, expenditure_scale_level=0, purchase_scale_level=1,\n",
    "                    demand_scale_level=1, network=network, demand=demand_dict, label='scenario')"
   ]
  },
  {
   "cell_type": "code",
   "execution_count": 45,
   "id": "41974be2",
   "metadata": {},
   "outputs": [
    {
     "name": "stdout",
     "output_type": "stream",
     "text": [
      "constraint process capex\n",
      "constraint process fopex\n",
      "constraint process vopex\n",
      "constraint process incidental\n",
      "constraint location capex\n",
      "constraint location fopex\n",
      "constraint location vopex\n",
      "constraint location incidental\n",
      "constraint network capex\n",
      "constraint network fopex\n",
      "constraint network vopex\n",
      "constraint network incidental\n",
      "constraint nameplate inventory\n",
      "constraint storage max\n",
      "constraint storage min\n",
      "constraint production mode\n",
      "constraint nameplate production\n",
      "constraint production max\n",
      "constraint production min\n",
      "constraint inventory balance\n",
      "constraint resource consumption\n",
      "constraint resource purchase\n",
      "constraint location production\n",
      "constraint location discharge\n",
      "constraint location consumption\n",
      "constraint location purchase\n",
      "constraint network production\n",
      "constraint network discharge\n",
      "constraint network consumption\n",
      "constraint network purchase\n",
      "constraint transport export\n",
      "constraint transport import\n",
      "constraint transport exp UB\n",
      "constraint transport imp UB\n",
      "constraint transport balance\n",
      "constraint transport imp cost\n",
      "constraint transport cost\n",
      "constraint transport cost network\n",
      "constraint demand\n",
      "objective cost\n"
     ]
    }
   ],
   "source": [
    "problem = formulate(scenario=scenario, constraints={Constraints.COST, Constraints.TRANSPORT,\n",
    "                                                    Constraints.RESOURCE_BALANCE, Constraints.PRODUCTION,\n",
    "                                                    Constraints.INVENTORY},\n",
    "                    objective=Objective.COST)"
   ]
  },
  {
   "cell_type": "code",
   "execution_count": 46,
   "id": "e08c2099",
   "metadata": {},
   "outputs": [
    {
     "name": "stdout",
     "output_type": "stream",
     "text": [
      "Set parameter QCPDual to value 1\n",
      "Gurobi Optimizer version 10.0.2 build v10.0.2rc0 (win64)\n",
      "\n",
      "CPU model: Intel(R) Core(TM) i7-6700 CPU @ 3.40GHz, instruction set [SSE2|AVX|AVX2]\n",
      "Thread count: 4 physical cores, 8 logical processors, using up to 8 threads\n",
      "\n",
      "Optimize a model with 2276 rows, 2093 columns and 5680 nonzeros\n",
      "Model fingerprint: 0x60528635\n",
      "Variable types: 2077 continuous, 16 integer (16 binary)\n",
      "Coefficient statistics:\n",
      "  Matrix range     [1e+00, 5e+03]\n",
      "  Objective range  [1e+00, 1e+00]\n",
      "  Bounds range     [1e+00, 1e+00]\n",
      "  RHS range        [2e+01, 1e+07]\n",
      "Found heuristic solution: objective 0.0000000\n",
      "\n",
      "Explored 0 nodes (0 simplex iterations) in 0.01 seconds (0.00 work units)\n",
      "Thread count was 1 (of 8 available processors)\n",
      "\n",
      "Solution count 1: 0 \n",
      "\n",
      "Optimal solution found (tolerance 1.00e-04)\n",
      "Best objective 0.000000000000e+00, best bound 0.000000000000e+00, gap 0.0000%\n",
      "WARNING: Cannot get duals for MIP.\n"
     ]
    }
   ],
   "source": [
    "results = solve(scenario=scenario, instance=problem, solver='gurobi', name='LP')"
   ]
  },
  {
   "cell_type": "code",
   "execution_count": 47,
   "id": "4d51c6fd",
   "metadata": {},
   "outputs": [
    {
     "name": "stdout",
     "output_type": "stream",
     "text": [
      "SUMMARY:\n",
      "            number of constraints: 2276\n",
      "            number of variables: 2093\n",
      "            number of binary variables: 16\n",
      "            number of integer variables: 16\n",
      "            number of continuous variables: 2061\n"
     ]
    }
   ],
   "source": [
    "results.model_summary()"
   ]
  },
  {
   "cell_type": "code",
   "execution_count": 48,
   "id": "99060ed9",
   "metadata": {
    "scrolled": true
   },
   "outputs": [
    {
     "data": {
      "text/plain": [
       "{loc2: {com1: 100}}"
      ]
     },
     "execution_count": 48,
     "metadata": {},
     "output_type": "execute_result"
    }
   ],
   "source": [
    "demand_dict"
   ]
  }
 ],
 "metadata": {
  "kernelspec": {
   "display_name": "Python 3 (ipykernel)",
   "language": "python",
   "name": "python3"
  },
  "language_info": {
   "codemirror_mode": {
    "name": "ipython",
    "version": 3
   },
   "file_extension": ".py",
   "mimetype": "text/x-python",
   "name": "python",
   "nbconvert_exporter": "python",
   "pygments_lexer": "ipython3",
   "version": "3.10.4"
  }
 },
 "nbformat": 4,
 "nbformat_minor": 5
}
