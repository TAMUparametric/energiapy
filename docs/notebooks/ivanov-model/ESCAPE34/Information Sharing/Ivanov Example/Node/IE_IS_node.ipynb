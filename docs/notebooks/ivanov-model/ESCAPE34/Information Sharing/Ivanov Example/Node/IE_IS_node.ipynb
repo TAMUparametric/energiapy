{
 "cells": [
  {
   "cell_type": "code",
   "execution_count": null,
   "id": "initial_id",
   "metadata": {
    "collapsed": true
   },
   "outputs": [],
   "source": [
    "import sys\n",
    "sys.path.append('../../../src')\n",
    "import pandas\n",
    "import random\n",
    "import math\n",
    "from energiapy.components.temporal_scale import TemporalScale\n",
    "from energiapy.components.resource import Resource, VaryingResource\n",
    "from energiapy.components.process import Process, ProcessMode, VaryingProcess\n",
    "from energiapy.components.location import Location\n",
    "from energiapy.components.transport import Transport\n",
    "from energiapy.components.network import Network\n",
    "from energiapy.components.scenario import Scenario\n",
    "# from energiapy.model.constraints.demand import constraint_demand2\n",
    "from energiapy.components.result import Result\n",
    "from energiapy.model.formulate import formulate, Constraints, Objective\n",
    "from energiapy.plot import plot_results, plot_scenario, plot_location\n",
    "from energiapy.model.solve import solve\n",
    "from pyomo.environ import Param\n",
    "from energiapy.utils.scale_utils import scale_pyomo_set"
   ]
  },
  {
   "cell_type": "code",
   "execution_count": null,
   "outputs": [],
   "source": [
    "_time_intervals = 30  # Number of time intervals in a planning horizon\n",
    "_coms = 1\n",
    "_exec_scenarios = 12  # Number of execution scenarios\n",
    "M = 1e3  # Big M\n",
    "\n",
    "init = [1]\n",
    "\n",
    "# loc1_varying_factor = pandas.DataFrame(data={'com1_pur': [1, 0.58, 0.54, 0.07, 0.69, 0.17, 0.53, 0.35, 0.48, 0.39, 0.51, 0.38]})\n",
    "# \n",
    "# loc6_varying_factor = pandas.DataFrame(data={'com1_pur': [1, 0.26, 0.66, 0.28, 0.65, 0.01, 0.49, 0.39, 0.61, 0.44, 0.3, 0.68]})\n",
    "\n",
    "loc6_varying_factor = pandas.DataFrame(data={'com1_process': [1]*6 + [0]*6})\n",
    "\n",
    "# loc1_varying_factor = pandas.DataFrame(data={'com1_pur': init+[round(random.uniform(0, 0.75), 2) for _ in range(_exec_scenarios-1)]})\n",
    "# \n",
    "# loc6_varying_factor = pandas.DataFrame(data={'com1_pur': init+[round(random.uniform(0, 0.75), 2) for _ in range(_exec_scenarios-1)]})\n",
    "\n",
    "# Define temporal scales\n",
    "scales = TemporalScale(discretization_list=[_exec_scenarios, _time_intervals])"
   ],
   "metadata": {
    "collapsed": false
   },
   "id": "6d061936270b6002"
  },
  {
   "cell_type": "code",
   "execution_count": null,
   "outputs": [],
   "source": [
    "# ======================================================================================================================\n",
    "# Declare resources/commodities\n",
    "# ======================================================================================================================\n",
    "\n",
    "com1_pur = Resource(name='com1_pur', cons_max=125, block={'imp': 1, 'urg': 1}, price=0.00, label='Commodity 1 consumed from outside the system')\n",
    "\n",
    "com1_in = Resource(name='com1_in', label='Commodity 1 received')\n",
    "com1_out = Resource(name='com1_out', label='Commodity 1 to be sent out')\n",
    "\n",
    "com1_loc1_out = Resource(name='com1_loc1_out', label='Commodity 1 sent out from location 1')\n",
    "com1_loc2_out = Resource(name='com1_loc2_out', label='Commodity 1 sent out from location 2')\n",
    "com1_loc3_out = Resource(name='com1_loc3_out', label='Commodity 1 sent out from location 3')\n",
    "com1_loc4_out = Resource(name='com1_loc4_out', label='Commodity 1 sent out from location 4')\n",
    "com1_loc5_out = Resource(name='com1_loc5_out', label='Commodity 1 sent out from location 5')\n",
    "com1_loc6_out = Resource(name='com1_loc6_out', label='Commodity 1 sent out from location 6')\n",
    "com1_loc7_out = Resource(name='com1_loc7_out', label='Commodity 1 sent out from location 7')\n",
    "\n",
    "com1_sold = Resource(name='com1_sold', revenue=0.00, demand=True, sell=True, label='Commodity 1 sold to outside the system')"
   ],
   "metadata": {
    "collapsed": false
   },
   "id": "22e27b91ee05ba0"
  },
  {
   "cell_type": "code",
   "execution_count": null,
   "outputs": [],
   "source": [
    "# ======================================================================================================================\n",
    "# Declare processes/storage capacities\n",
    "# ======================================================================================================================\n",
    "com1_procure = Process(name='procure com1', prod_max=75, conversion={com1_pur: -1, com1_in: 1}, capex=0.1, vopex=0.1, prod_min=75,\n",
    "                  label='Procure com1')\n",
    "com1_sell = Process(name='sell com1', prod_max=M, conversion={com1_out: -1, com1_sold: 1}, capex=0.1, vopex=0.1, prod_min=M,\n",
    "                  label='Sell com1')\n",
    "\n",
    "com1_receive_loc1 = Process(name='com1_receive_loc1', prod_max=150, conversion={com1_loc1_out:-1, com1_in:1}, capex=0.1, vopex=0.1, prod_min=150,\n",
    "                            label='Commodity 1 received from location 1')\n",
    "com1_receive_loc2 = Process(name='com1_receive_loc2', prod_max=150, conversion={com1_loc2_out:-1, com1_in:1}, capex=0.1, vopex=0.1, prod_min=150,\n",
    "                            label='Commodity 1 received from location 2')\n",
    "com1_receive_loc3 = Process(name='com1_receive_loc3', prod_max=150, conversion={com1_loc3_out:-1, com1_in:1}, capex=0.1, vopex=0.1, prod_min=150,\n",
    "                            label='Commodity 1 received from location 3')\n",
    "com1_receive_loc4 = Process(name='com1_receive_loc4', prod_max=150, conversion={com1_loc4_out:-1, com1_in:1}, capex=0.1, vopex=0.1, prod_min=150,\n",
    "                            label='Commodity 1 received from location 4')\n",
    "com1_receive_loc5 = Process(name='com1_receive_loc5', prod_max=150, conversion={com1_loc5_out:-1, com1_in:1}, capex=0.1, vopex=0.1, prod_min=150,\n",
    "                            label='Commodity 1 received from location 5')\n",
    "com1_receive_loc6 = Process(name='com1_receive_loc6', prod_max=150, conversion={com1_loc6_out:-1, com1_in:1}, capex=0.1, vopex=0.1, prod_min=150,\n",
    "                            label='Commodity 1 received from location 6')\n",
    "com1_receive_loc7 = Process(name='com1_receive_loc7', prod_max=150, conversion={com1_loc7_out:-1, com1_in:1}, capex=0.1, vopex=0.1, prod_min=150,\n",
    "                            label='Commodity 1 received from location 7')\n",
    "\n",
    "com1_process = Process(name='com1_process', prod_max=150, conversion={com1_in:-1, com1_out:1}, capex=0.1, vopex=0.1, prod_min=150, varying=[VaryingProcess.DETERMINISTIC_CAPACITY],\n",
    "                            label='Process the commodity through the location')\n",
    "\n",
    "com1_store10 = Process(name='com1_store10', prod_max=150, capex=100, vopex=1, store_min=0.01, store_max= 10, prod_min=150,\n",
    "                  label=\"Storage capacity of 10 units\", storage=com1_in, storage_cost=0.02)\n",
    "\n",
    "com1_store20 = Process(name='com1_store20', prod_max=150, capex=200, vopex=2, store_min=0.01,store_max= 20, prod_min=150,\n",
    "                  label=\"Storage capacity of 20 units\", storage=com1_in, storage_cost=0.02)\n",
    "\n",
    "com1_store50 = Process(name='com1_store50', prod_max=150, capex=500, vopex=5, store_min=0.01, store_max= 50, prod_min=150,\n",
    "                  label=\"Storage capacity of 50 units\", storage=com1_in, storage_cost=0.02)\n",
    "\n",
    "com1_loc1_send = Process(name='com1_loc1_send', prod_max=150, conversion={com1_out:-1, com1_loc1_out:1}, capex=0.1, vopex=0.1, prod_min=150,\n",
    "                            label='Send commodity one from location 1')\n",
    "com1_loc2_send = Process(name='com1_loc2_send', prod_max=150, conversion={com1_out:-1, com1_loc2_out:1}, capex=0.1, vopex=0.1, prod_min=150,\n",
    "                            label='Send commodity one from location 2')\n",
    "com1_loc3_send = Process(name='com1_loc3_send', prod_max=50, conversion={com1_out:-1, com1_loc3_out:1}, capex=0.1, vopex=0.1, prod_min=50,\n",
    "                            label='Send commodity one from location 3')\n",
    "com1_loc4_send = Process(name='com1_loc4_send', prod_max=150, conversion={com1_out:-1, com1_loc4_out:1}, capex=0.1, vopex=0.1, prod_min=150,\n",
    "                            label='Send commodity one from location 4')\n",
    "com1_loc5_send = Process(name='com1_loc5_send', prod_max=150, conversion={com1_out:-1, com1_loc5_out:1}, capex=0.1, vopex=0.1, prod_min=150,\n",
    "                            label='Send commodity one from location 5')\n",
    "com1_loc6_send = Process(name='com1_loc6_send', prod_max=150, conversion={com1_out:-1, com1_loc6_out:1}, capex=0.1, vopex=0.1, prod_min=150,\n",
    "                            label='Send commodity one from location 6')\n",
    "com1_loc7_send = Process(name='com1_loc7_send', prod_max=150, conversion={com1_out:-1, com1_loc7_out:1}, capex=0.1, vopex=0.1, prod_min=150,\n",
    "                            label='Send commodity one from location 7')"
   ],
   "metadata": {
    "collapsed": false
   },
   "id": "4f2b1a4d233f1a8"
  },
  {
   "cell_type": "code",
   "execution_count": null,
   "outputs": [],
   "source": [
    "# ======================================================================================================================\n",
    "# Declare locations/warehouses\n",
    "# ======================================================================================================================\n",
    "loc1 = Location(name='loc1', processes={com1_procure, com1_receive_loc2, com1_receive_loc3, com1_process, com1_store20, com1_loc1_send}, label=\"Location 1\", scales=scales, demand_scale_level=1,\n",
    "                capacity_scale_level=0, availability_scale_level=0)\n",
    "\n",
    "loc2 = Location(name='loc2', processes={com1_receive_loc1, com1_receive_loc4, com1_receive_loc5, com1_process, com1_store20, com1_loc2_send}, label=\"Location 2\", scales=scales, demand_scale_level=1,\n",
    "                capacity_scale_level=0, availability_scale_level=0)\n",
    "\n",
    "loc3 = Location(name='loc3', processes={com1_receive_loc1, com1_receive_loc4, com1_process, com1_store20, com1_loc3_send}, label=\"Location 3\", scales=scales, demand_scale_level=1,\n",
    "                capacity_scale_level=0, availability_scale_level=0)\n",
    "\n",
    "loc4 = Location(name='loc4', processes={com1_receive_loc2, com1_receive_loc3, com1_receive_loc6, com1_receive_loc5, com1_receive_loc7, com1_process, com1_store50, com1_loc4_send}, label=\"Location 4\", scales=scales, demand_scale_level=1,\n",
    "                capacity_scale_level=0, availability_scale_level=0)\n",
    "\n",
    "loc5 = Location(name='loc5', processes={com1_receive_loc2, com1_receive_loc4, com1_receive_loc7, com1_process, com1_store50, com1_loc5_send, com1_sell}, label=\"Location 5\", scales=scales, demand_scale_level=1,\n",
    "                capacity_scale_level=0, availability_scale_level=0)\n",
    "\n",
    "loc6 = Location(name='loc6', processes={com1_procure, com1_receive_loc4, com1_process, com1_store10, com1_loc6_send}, label=\"Location 6\", scales=scales, demand_scale_level=1,\n",
    "                capacity_scale_level=0, availability_scale_level=0, capacity_factor={com1_process: loc6_varying_factor[['com1_process']]})\n",
    "\n",
    "loc7 = Location(name='loc7', processes={com1_receive_loc4, com1_receive_loc5, com1_process, com1_store20, com1_loc7_send}, label=\"Location 7\", scales=scales, demand_scale_level=1,\n",
    "                capacity_scale_level=0, availability_scale_level=0)"
   ],
   "metadata": {
    "collapsed": false
   },
   "id": "cfa73cdaf2c50d78"
  },
  {
   "cell_type": "code",
   "execution_count": null,
   "outputs": [],
   "source": [
    "# ======================================================================================================================\n",
    "# Declare transport/trucks\n",
    "# ======================================================================================================================\n",
    "\n",
    "# ======================================================================================================================\n",
    "# Declare transport/trucks\n",
    "# ======================================================================================================================\n",
    "\n",
    "# truck50_12 = Transport(name='truck50_12', resources={com1_loc1_out}, trans_max=70, label='Truck capacity of 50 units from location 1 to 2', capex=0.5, vopex=0.05, trans_min=70)\n",
    "# truck50_21 = Transport(name='truck50_21', resources={com1_loc2_out}, trans_max=70, label='Truck capacity of 50 units from location 2 to 1', capex=0.0001, vopex=0.05, trans_min=70)\n",
    "# \n",
    "# truck30_13 = Transport(name='truck30_13', resources={com1_loc1_out}, trans_max=50, label='Truck capacity of 30 units from location 1 to 3', capex=0.3, vopex=0.03, trans_min=50)\n",
    "# truck30_31 = Transport(name='truck30_31', resources={com1_loc3_out}, trans_max=50, label='Truck capacity of 30 units from location 3 to 1', capex=0.0001, vopex=0.03, trans_min=50)\n",
    "# \n",
    "# truck50_24 = Transport(name='truck50_24', resources={com1_loc2_out}, trans_max=100, label='Truck capacity of 50 units from location 2 to 4', capex=0.5, vopex=0.05, trans_min=100)\n",
    "# truck50_42 = Transport(name='truck50_42', resources={com1_loc4_out}, trans_max=100, label='Truck capacity of 50 units from location 4 to 2', capex=0.0001, vopex=0.05, trans_min=100)\n",
    "# \n",
    "# truck30_25 = Transport(name='truck30_25', resources={com1_loc2_out}, trans_max=70, label='Truck capacity of 30 units from location 2 to 5', capex=0.3, vopex=0.03, trans_min=70)\n",
    "# truck30_52 = Transport(name='truck30_52', resources={com1_loc5_out}, trans_max=70, label='Truck capacity of 30 units from location 5 to 2', capex=0.0001, vopex=0.03, trans_min=70)\n",
    "# \n",
    "# truck20_34 = Transport(name='truck20_34', resources={com1_loc3_out}, trans_max=50, label='Truck capacity of 20 units from location 3 to 4', capex=0.2, vopex=0.02, trans_min=50)\n",
    "# truck20_43 = Transport(name='truck20_43', resources={com1_loc4_out}, trans_max=50, label='Truck capacity of 20 units from location 4 to 3', capex=0.0001, vopex=0.02, trans_min=50)\n",
    "# \n",
    "# truck100_45 = Transport(name='truck100_45', resources={com1_loc4_out}, trans_max=100, label='Truck capacity of 100 units from location 4 to 5', capex=1, vopex=0.01, trans_min=100)\n",
    "# truck100_54 = Transport(name='truck100_54', resources={com1_loc5_out}, trans_max=100, label='Truck capacity of 100 units from location 5 to 4', capex=0.0001, vopex=0.01, trans_min=100)\n",
    "# \n",
    "# truck40_47 = Transport(name='truck40_47', resources={com1_loc4_out}, trans_max=50, label='Truck capacity of 40 units from location 4 to 7', capex=0.4, vopex=0.04, trans_min=50)\n",
    "# truck40_74 = Transport(name='truck40_74', resources={com1_loc7_out}, trans_max=50, label='Truck capacity of 40 units from location 7 to 4', capex=0.0001, vopex=0.04, trans_min=50)\n",
    "# \n",
    "# truck50_64 = Transport(name='truck50_64', resources={com1_loc6_out}, trans_max=100, label='Truck capacity of 50 units from location 6 to 4', capex=0.5, vopex=0.05, trans_min=100)\n",
    "# truck50_46 = Transport(name='truck50_46', resources={com1_loc4_out}, trans_max=100, label='Truck capacity of 50 units from location 4 to 6', capex=0.0001, vopex=0.05, trans_min=100)\n",
    "# \n",
    "# truck40_75 = Transport(name='truck40_75', resources={com1_loc7_out}, trans_max=50, label='Truck capacity of 40 units from location 7 to 5', capex=0.4, vopex=0.04, trans_min=50)\n",
    "# truck40_57 = Transport(name='truck40_57', resources={com1_loc5_out}, trans_max=50, label='Truck capacity of 40 units from location 5 to 7', capex=0.0001, vopex=0.04, trans_min=50)\n",
    "\n",
    "truck50_12 = Transport(name='truck50_12', resources={com1_loc1_out}, trans_max=70, label='Truck capacity of 50 units from location 1 to 2', capex=0.5, vopex=0.05, trans_min=50)\n",
    "truck50_21 = Transport(name='truck50_21', resources={com1_loc2_out}, trans_max=70, label='Truck capacity of 50 units from location 2 to 1', capex=0.0001, vopex=0.05, trans_min=50)\n",
    "\n",
    "truck30_13 = Transport(name='truck30_13', resources={com1_loc1_out}, trans_max=50, label='Truck capacity of 30 units from location 1 to 3', capex=0.3, vopex=0.03, trans_min=30)\n",
    "truck30_31 = Transport(name='truck30_31', resources={com1_loc3_out}, trans_max=50, label='Truck capacity of 30 units from location 3 to 1', capex=0.0001, vopex=0.03, trans_min=30)\n",
    "\n",
    "truck50_24 = Transport(name='truck50_24', resources={com1_loc2_out}, trans_max=50, label='Truck capacity of 50 units from location 2 to 4', capex=0.5, vopex=0.05, trans_min=50)\n",
    "truck50_42 = Transport(name='truck50_42', resources={com1_loc4_out}, trans_max=50, label='Truck capacity of 50 units from location 4 to 2', capex=0.0001, vopex=0.05, trans_min=50)\n",
    "\n",
    "truck30_25 = Transport(name='truck30_25', resources={com1_loc2_out}, trans_max=30, label='Truck capacity of 30 units from location 2 to 5', capex=0.3, vopex=0.03, trans_min=30)\n",
    "truck30_52 = Transport(name='truck30_52', resources={com1_loc5_out}, trans_max=30, label='Truck capacity of 30 units from location 5 to 2', capex=0.0001, vopex=0.03, trans_min=30)\n",
    "\n",
    "truck20_34 = Transport(name='truck20_34', resources={com1_loc3_out}, trans_max=20, label='Truck capacity of 20 units from location 3 to 4', capex=0.2, vopex=0.02, trans_min=20)\n",
    "truck20_43 = Transport(name='truck20_43', resources={com1_loc4_out}, trans_max=20, label='Truck capacity of 20 units from location 4 to 3', capex=0.0001, vopex=0.02, trans_min=20)\n",
    "\n",
    "truck100_45 = Transport(name='truck100_45', resources={com1_loc4_out}, trans_max=100, label='Truck capacity of 100 units from location 4 to 5', capex=1, vopex=0.1, trans_min=100)\n",
    "truck100_54 = Transport(name='truck100_54', resources={com1_loc5_out}, trans_max=100, label='Truck capacity of 100 units from location 5 to 4', capex=0.0001, vopex=0.1, trans_min=100)\n",
    "\n",
    "truck40_47 = Transport(name='truck40_47', resources={com1_loc4_out}, trans_max=40, label='Truck capacity of 40 units from location 4 to 7', capex=0.4, vopex=0.04, trans_min=40)\n",
    "truck40_74 = Transport(name='truck40_74', resources={com1_loc7_out}, trans_max=40, label='Truck capacity of 40 units from location 7 to 4', capex=0.0001, vopex=0.04, trans_min=40)\n",
    "\n",
    "truck50_64 = Transport(name='truck50_64', resources={com1_loc6_out}, trans_max=50, label='Truck capacity of 50 units from location 6 to 4', capex=0.5, vopex=0.05, trans_min=50)\n",
    "truck50_46 = Transport(name='truck50_46', resources={com1_loc4_out}, trans_max=50, label='Truck capacity of 50 units from location 4 to 6', capex=0.0001, vopex=0.05, trans_min=50)\n",
    "\n",
    "truck40_75 = Transport(name='truck40_75', resources={com1_loc7_out}, trans_max=40, label='Truck capacity of 40 units from location 7 to 5', capex=0.4, vopex=0.04, trans_min=40)\n",
    "truck40_57 = Transport(name='truck40_57', resources={com1_loc5_out}, trans_max=40, label='Truck capacity of 40 units from location 5 to 7', capex=0.0001, vopex=0.04, trans_min=40)"
   ],
   "metadata": {
    "collapsed": false
   },
   "id": "49f0db80dc919f81"
  },
  {
   "cell_type": "code",
   "execution_count": null,
   "outputs": [],
   "source": [
    "# ======================================================================================================================\n",
    "# Declare network\n",
    "# ======================================================================================================================\n",
    "transport_matrix = [\n",
    "    [[], [truck50_12], [truck30_13], [], [], [], []],  # source: location 1\n",
    "    [[truck50_21], [], [], [truck50_24], [truck30_25], [], []],  # source: location 2\n",
    "    [[truck30_31], [], [], [truck20_34], [], [], []],  # source: location 3\n",
    "    [[], [truck50_42], [truck20_43], [], [truck100_45], [truck50_46], [truck40_47]],  # source: location 4\n",
    "    [[], [truck30_52], [], [truck100_54], [], [], [truck40_57]],  # source: location 5\n",
    "    [[], [], [], [truck50_64], [], [], []],  # source: location 6\n",
    "    [[], [], [], [truck40_74], [truck40_75], [], []]  # source: location 7\n",
    "]\n",
    "\n",
    "distance_matrix = [\n",
    "    [0, 55, 196, M, M, M, M],\n",
    "    [55, 0, M, 163, 112, M, 134],\n",
    "    [196, M, 0, 63, M, M, M],\n",
    "    [M, 163, 63, 0, 95, 117, 88],\n",
    "    [M, 112, M, 95, 0, M, 134],\n",
    "    [M, M, M, 117, M, 0, M],\n",
    "    [M, 134, M, 88, 134, M, 0]\n",
    "]\n",
    "\n",
    "locset = [loc1, loc2, loc3, loc4, loc5, loc6, loc7]\n",
    "\n",
    "sources = locset\n",
    "sinks = locset\n",
    "\n",
    "network = Network(name='Network', scales= scales, source_locations=sources, sink_locations=sinks, transport_matrix=transport_matrix, distance_matrix=distance_matrix)"
   ],
   "metadata": {
    "collapsed": false
   },
   "id": "d970150b7c006e27"
  },
  {
   "cell_type": "code",
   "execution_count": null,
   "outputs": [],
   "source": [
    "daily_demand = 100\n",
    "demand_dict = {i: {com1_sold: daily_demand} if i == loc5 else {com1_sold: 0} for i in locset}\n",
    "demand_penalty = 50\n",
    "demand_penalty_dict = {i: {com1_sold: demand_penalty} if i == loc5 else {com1_sold: 0} for i in locset}\n",
    "\n",
    "scenario_node_IS = Scenario(name='scenario_node_IS', scales=scales, scheduling_scale_level=1, network_scale_level=0, purchase_scale_level=1, availability_scale_level=0, demand_scale_level=1, capacity_scale_level=0,\n",
    "                    network=network, demand=demand_dict, demand_penalty=demand_penalty_dict, label='Scenario for  complete information sharing with node variability', annualization_factor=1/12)"
   ],
   "metadata": {
    "collapsed": false
   },
   "id": "e9d171d4cde8901"
  },
  {
   "cell_type": "code",
   "execution_count": null,
   "outputs": [],
   "source": [
    "plot_scenario.capacity_factor(scenario=scenario_node_IS, process=com1_process, location=loc6, color='green')"
   ],
   "metadata": {
    "collapsed": false
   },
   "id": "2064bca2b70f491"
  },
  {
   "cell_type": "code",
   "execution_count": null,
   "outputs": [],
   "source": [
    "import matplotlib.pyplot as plt\n",
    "from matplotlib import rc\n",
    "\n",
    "rc('font', **{'family': 'serif', 'serif': ['Computer Modern'], 'size': 12})\n",
    "rc('text', usetex=False)\n",
    "\n",
    "fig, ax = plt.subplots()\n",
    "\n",
    "# Plot data from the first dataset\n",
    "ax.plot(range(1, len(scenario_node_IS.capacity_factor['loc6']['com1_process'].values())+1), scenario_node_IS.capacity_factor['loc6']['com1_process'].values(), label='Location 6',\n",
    "        color='blue', marker='o')\n",
    "# Customize the plot\n",
    "ax.set_xlabel('Time Horizon')\n",
    "ax.set_ylabel('Normalized Availability Factor')\n",
    "ax.set_title('Resource Availability factor')\n",
    "ax.legend()\n",
    "ax.plot(linewidth=0.5)\n",
    "plt.grid(alpha=0.3)\n",
    "plt.rcdefaults()\n",
    "# Show the plot\n",
    "plt.show()"
   ],
   "metadata": {
    "collapsed": false
   },
   "id": "dbb6159bcab742d6"
  },
  {
   "cell_type": "code",
   "execution_count": null,
   "outputs": [],
   "source": [
    "problem_mincost = formulate(scenario=scenario_node_IS,\n",
    "                            constraints={Constraints.COST, Constraints.TRANSPORT, Constraints.RESOURCE_BALANCE,\n",
    "                                         Constraints.INVENTORY, Constraints.PRODUCTION},\n",
    "                            demand_sign='eq', objective=Objective.COST_W_DEMAND_PENALTY)"
   ],
   "metadata": {
    "collapsed": false
   },
   "id": "56ac6731efc5eb6e"
  },
  {
   "cell_type": "code",
   "execution_count": null,
   "outputs": [],
   "source": [
    "results_mincost = solve(scenario=scenario_node_IS, instance=problem_mincost, solver='gurobi', name='MILP')"
   ],
   "metadata": {
    "collapsed": false
   },
   "id": "848b0a9e67ae3757"
  },
  {
   "cell_type": "code",
   "execution_count": null,
   "outputs": [],
   "source": [
    "sum(value for key, value in results_mincost.output['S'].items() if key[0] == 'loc5' and key[1] == 'com1_sold') / (daily_demand*_exec_scenarios*_time_intervals)"
   ],
   "metadata": {
    "collapsed": false
   },
   "id": "60ddd619c0041d55"
  },
  {
   "cell_type": "code",
   "execution_count": null,
   "outputs": [],
   "source": [
    "min(value for key, value in results_mincost.output['S'].items() if key[0] == 'loc5' and key[1] == 'com1_sold')"
   ],
   "metadata": {
    "collapsed": false
   },
   "id": "d4401ad71538c1e1"
  },
  {
   "cell_type": "code",
   "execution_count": null,
   "outputs": [],
   "source": [
    "plot_results.schedule(results=results_mincost, y_axis='S', component='com1_sold', location='loc5', color='green')"
   ],
   "metadata": {
    "collapsed": false
   },
   "id": "3d58a2d9391de5f1"
  },
  {
   "cell_type": "code",
   "execution_count": null,
   "outputs": [],
   "source": [
    "plot_results.schedule(results=results_mincost, y_axis='Inv', component='com1_store20_com1_in_stored', location='loc1', color='green')\n",
    "plot_results.schedule(results=results_mincost, y_axis='Inv', component='com1_store20_com1_in_stored', location='loc2', color='green')\n",
    "plot_results.schedule(results=results_mincost, y_axis='Inv', component='com1_store20_com1_in_stored', location='loc3', color='green')\n",
    "plot_results.schedule(results=results_mincost, y_axis='Inv', component='com1_store50_com1_in_stored', location='loc4', color='green')\n",
    "plot_results.schedule(results=results_mincost, y_axis='Inv', component='com1_store50_com1_in_stored', location='loc5', color='green')\n",
    "plot_results.schedule(results=results_mincost, y_axis='Inv', component='com1_store10_com1_in_stored', location='loc6', color='green')\n",
    "plot_results.schedule(results=results_mincost, y_axis='Inv', component='com1_store20_com1_in_stored', location='loc7', color='green')"
   ],
   "metadata": {
    "collapsed": false
   },
   "id": "a3c5215959cbfce"
  },
  {
   "cell_type": "code",
   "execution_count": null,
   "outputs": [],
   "source": [
    "plot_results.transport(results=results_mincost, source='loc1', sink='loc2', transport='truck50_12',\n",
    "                       resource='com1_loc1_out')\n",
    "plot_results.transport(results=results_mincost, source='loc1', sink='loc3', transport='truck30_13',\n",
    "                       resource='com1_loc1_out')\n",
    "plot_results.transport(results=results_mincost, source='loc2', sink='loc4', transport='truck50_24',\n",
    "                       resource='com1_loc2_out')\n",
    "plot_results.transport(results=results_mincost, source='loc2', sink='loc5', transport='truck30_25',\n",
    "                       resource='com1_loc2_out')\n",
    "plot_results.transport(results=results_mincost, source='loc3', sink='loc4', transport='truck20_34',\n",
    "                       resource='com1_loc3_out')\n",
    "plot_results.transport(results=results_mincost, source='loc4', sink='loc5', transport='truck100_45',\n",
    "                       resource='com1_loc4_out')\n",
    "plot_results.transport(results=results_mincost, source='loc4', sink='loc7', transport='truck40_47',\n",
    "                       resource='com1_loc4_out')\n",
    "plot_results.transport(results=results_mincost, source='loc6', sink='loc4', transport='truck50_64',\n",
    "                       resource='com1_loc6_out')\n",
    "plot_results.transport(results=results_mincost, source='loc7', sink='loc5', transport='truck40_75',\n",
    "                       resource='com1_loc7_out')"
   ],
   "metadata": {
    "collapsed": false
   },
   "id": "7c6bf22c66a0a3e8"
  },
  {
   "cell_type": "code",
   "execution_count": null,
   "outputs": [],
   "source": [
    "# plot_results.transport(results=results_mincost, source='loc2', sink='loc1', transport='truck50_21',\n",
    "#                        resource='com1_loc2_out')\n",
    "# plot_results.transport(results=results_mincost, source='loc3', sink='loc1', transport='truck30_31',\n",
    "#                        resource='com1_loc3_out')\n",
    "# plot_results.transport(results=results_mincost, source='loc4', sink='loc2', transport='truck50_42',\n",
    "#                        resource='com1_loc4_out')\n",
    "# plot_results.transport(results=results_mincost, source='loc5', sink='loc2', transport='truck30_52',\n",
    "#                        resource='com1_loc5_out')\n",
    "# plot_results.transport(results=results_mincost, source='loc4', sink='loc3', transport='truck20_43',\n",
    "#                        resource='com1_loc4_out')\n",
    "# plot_results.transport(results=results_mincost, source='loc5', sink='loc4', transport='truck100_54',\n",
    "#                        resource='com1_loc5_out')\n",
    "# plot_results.transport(results=results_mincost, source='loc7', sink='loc4', transport='truck40_74',\n",
    "#                        resource='com1_loc7_out')\n",
    "# plot_results.transport(results=results_mincost, source='loc4', sink='loc6', transport='truck50_46',\n",
    "#                        resource='com1_loc4_out')\n",
    "# plot_results.transport(results=results_mincost, source='loc5', sink='loc7', transport='truck40_57',\n",
    "#                        resource='com1_loc5_out')"
   ],
   "metadata": {
    "collapsed": false
   },
   "id": "472df22b73338a91"
  },
  {
   "cell_type": "code",
   "execution_count": null,
   "outputs": [],
   "source": [
    "problem_mincost.Capex_network.pprint()\n",
    "problem_mincost.Fopex_network.pprint()\n",
    "problem_mincost.Vopex_network.pprint()"
   ],
   "metadata": {
    "collapsed": false
   },
   "id": "80ec4dbb3a77217a"
  },
  {
   "cell_type": "code",
   "execution_count": null,
   "outputs": [],
   "source": [
    "problem_mincost.Capex_transport_network.pprint()\n",
    "problem_mincost.Fopex_transport_network.pprint()\n",
    "problem_mincost.Vopex_transport_network.pprint()"
   ],
   "metadata": {
    "collapsed": false
   },
   "id": "e507b602518edb2f"
  },
  {
   "cell_type": "code",
   "execution_count": null,
   "outputs": [],
   "source": [
    "results_mincost.output[('objective')]"
   ],
   "metadata": {
    "collapsed": false
   },
   "id": "3f5aba9f40485979"
  },
  {
   "cell_type": "code",
   "execution_count": null,
   "outputs": [],
   "source": [
    "cost = sum(value for key, value in results_mincost.output['Capex_network'].items()) + \\\n",
    "sum(value for key, value in results_mincost.output['Capex_transport_network'].items()) + \\\n",
    "sum(value for key, value in results_mincost.output['Vopex_network'].items()) + \\\n",
    "sum(value for key, value in results_mincost.output['Vopex_transport_network'].items()) + \\\n",
    "sum(value for key, value in results_mincost.output['Demand_penalty'].items())*demand_penalty + \\\n",
    "sum(value for key, value in results_mincost.output['Inv_cost'].items())\n",
    "cost"
   ],
   "metadata": {
    "collapsed": false
   },
   "id": "7402115a7a64ad47"
  },
  {
   "cell_type": "code",
   "execution_count": null,
   "outputs": [],
   "source": [
    "inventory6 = {loc1: {(com1_store20, com1_store20.resource_storage): results_mincost.output['Inv'][(loc1.name, com1_store20.resource_storage.name, 5, 29)]},\n",
    "                  loc2: {(com1_store20, com1_store20.resource_storage): results_mincost.output['Inv'][(loc2.name, com1_store20.resource_storage.name, 5, 29)]},\n",
    "                  loc3: {(com1_store20, com1_store20.resource_storage): results_mincost.output['Inv'][(loc3.name, com1_store20.resource_storage.name, 5, 29)]},\n",
    "                  loc4: {(com1_store50, com1_store50.resource_storage): results_mincost.output['Inv'][(loc4.name, com1_store50.resource_storage.name, 5, 29)]},\n",
    "                  loc5: {(com1_store50, com1_store50.resource_storage): results_mincost.output['Inv'][(loc5.name, com1_store50.resource_storage.name, 5, 29)]},\n",
    "                  loc6: {(com1_store10, com1_store10.resource_storage): results_mincost.output['Inv'][(loc6.name, com1_store10.resource_storage.name, 5, 29)]},\n",
    "                  loc7: {(com1_store20, com1_store20.resource_storage): results_mincost.output['Inv'][(loc7.name, com1_store20.resource_storage.name, 5, 29)]}\n",
    "                  }\n",
    "inventory6"
   ],
   "metadata": {
    "collapsed": false
   },
   "id": "68006a683659ce38"
  },
  {
   "cell_type": "code",
   "execution_count": null,
   "outputs": [],
   "source": [
    "vopex_cost = sum(value for key, value in results_mincost.output['Vopex_network'].items()) + \\\n",
    "sum(value for key, value in results_mincost.output['Vopex_transport_network'].items()) + \\\n",
    "sum(value for key, value in results_mincost.output['Demand_penalty'].items())*demand_penalty + \\\n",
    "sum(value for key, value in results_mincost.output['Inv_cost'].items())\n",
    "\n",
    "vopex_cost"
   ],
   "metadata": {
    "collapsed": false
   },
   "id": "c66032b8127d0db8"
  },
  {
   "cell_type": "code",
   "execution_count": null,
   "outputs": [],
   "source": [
    "rc('font', **{'family': 'serif', 'serif': ['Computer Modern'], 'size': 12})\n",
    "rc('text', usetex=False)\n",
    "\n",
    "fig, ax = plt.subplots()\n",
    "\n",
    "# Plot data from the first dataset\n",
    "ax.plot(range(150, len(list(value for key, value in results_mincost.output['Inv'].items() if key[0]=='loc1' and key[1]=='com1_store20_com1_in_stored' and key[2]>=5 and key[2]<=6))+150), list(value for key, value in results_mincost.output['Inv'].items() if key[0]=='loc1' and key[1]=='com1_store20_com1_in_stored' and key[2]>=5 and key[2]<=6), label='Location 1', color='red', linestyle='-.')\n",
    "\n",
    "ax.plot(range(150, len(list(value for key, value in results_mincost.output['Inv'].items() if key[0]=='loc2' and key[1]=='com1_store20_com1_in_stored'and key[2]>=5 and key[2]<=6))+150), list(value for key, value in results_mincost.output['Inv'].items() if key[0]=='loc2' and key[1]=='com1_store20_com1_in_stored'and key[2]>=5 and key[2]<=6), label='Location 2', color='green', linestyle='-.')\n",
    "\n",
    "ax.plot(range(150, len(list(value for key, value in results_mincost.output['Inv'].items() if key[0]=='loc3' and key[1]=='com1_store20_com1_in_stored'and key[2]>=5 and key[2]<=6))+150), list(value for key, value in results_mincost.output['Inv'].items() if key[0]=='loc3' and key[1]=='com1_store20_com1_in_stored'and key[2]>=5 and key[2]<=6), label='Location 3', color='red', linestyle=':')\n",
    "\n",
    "ax.plot(range(150, len(list(value for key, value in results_mincost.output['Inv'].items() if key[0]=='loc4' and key[1]=='com1_store50_com1_in_stored'and key[2]>=5 and key[2]<=6))+150), list(value for key, value in results_mincost.output['Inv'].items() if key[0]=='loc4' and key[1]=='com1_store50_com1_in_stored'and key[2]>=5 and key[2]<=6), label='Location 4', color='blue', linestyle='-.')\n",
    "\n",
    "ax.plot(range(150, len(list(value for key, value in results_mincost.output['Inv'].items() if key[0]=='loc5' and key[1]=='com1_store50_com1_in_stored'and key[2]>=5 and key[2]<=6))+150), list(value for key, value in results_mincost.output['Inv'].items() if key[0]=='loc5' and key[1]=='com1_store50_com1_in_stored'and key[2]>=5 and key[2]<=6), label='Location 5', color='red', linestyle='--')\n",
    "\n",
    "ax.plot(range(150, len(list(value for key, value in results_mincost.output['Inv'].items() if key[0]=='loc6' and key[1]=='com1_store10_com1_in_stored'and key[2]>=5 and key[2]<=6))+150), list(value for key, value in results_mincost.output['Inv'].items() if key[0]=='loc6' and key[1]=='com1_store10_com1_in_stored'and key[2]>=5 and key[2]<=6), label='Location 6', color='blue', linestyle='-')\n",
    "\n",
    "ax.plot(range(150, len(list(value for key, value in results_mincost.output['Inv'].items() if key[0]=='loc7' and key[1]=='com1_store20_com1_in_stored'and key[2]>=5 and key[2]<=6))+150), list(value for key, value in results_mincost.output['Inv'].items() if key[0]=='loc7' and key[1]=='com1_store10_com1_in_stored'and key[2]>=5 and key[2]<=6), label='Location 7', color='red', linestyle='-.')\n",
    "\n",
    "plt.axvline(x = 180, color = 'cyan', label = 'Disruption', linestyle = '-')\n",
    "plt.axvline(x = 150, color = 'red', label = 'Begin Month 6', linestyle = '-')\n",
    "\n",
    "\n",
    "# Customize the plot\n",
    "ax.set_xlabel('Time Horizon')\n",
    "ax.set_ylabel('Inventory level')\n",
    "ax.set_title('Inventory levels for Scenario 2')\n",
    "ax.legend()\n",
    "ax.plot(linewidth=0.5)\n",
    "plt.grid(alpha=0.6)\n",
    "plt.rcdefaults()\n",
    "# Show the plot\n",
    "plt.show()"
   ],
   "metadata": {
    "collapsed": false
   },
   "id": "d6ad9716a62b5f5f"
  },
  {
   "cell_type": "code",
   "execution_count": null,
   "outputs": [],
   "source": [
    "len(list(value for key, value in results_mincost.output['Inv'].items() if key[0]=='loc1' and key[1]=='com1_store20_com1_in_stored' and key[2]>=5 and key[2]<=6))"
   ],
   "metadata": {
    "collapsed": false
   },
   "id": "ae08bdfb3c2f43c"
  },
  {
   "cell_type": "code",
   "execution_count": null,
   "outputs": [],
   "source": [
    "range(150, len(list(value for key, value in results_mincost.output['Inv'].items() if key[0]=='loc1' and key[1]=='com1_store20_com1_in_stored' and key[2]>=5 and key[2]<=6))+1)"
   ],
   "metadata": {
    "collapsed": false
   },
   "id": "a2ca47dd65a0e3cb"
  },
  {
   "cell_type": "code",
   "execution_count": null,
   "outputs": [],
   "source": [],
   "metadata": {
    "collapsed": false
   },
   "id": "7d1195848d1c7be2"
  },
  {
   "cell_type": "code",
   "execution_count": null,
   "outputs": [],
   "source": [],
   "metadata": {
    "collapsed": false
   },
   "id": "458dbc97b99d266e"
  }
 ],
 "metadata": {
  "kernelspec": {
   "display_name": "Python 3",
   "language": "python",
   "name": "python3"
  },
  "language_info": {
   "codemirror_mode": {
    "name": "ipython",
    "version": 2
   },
   "file_extension": ".py",
   "mimetype": "text/x-python",
   "name": "python",
   "nbconvert_exporter": "python",
   "pygments_lexer": "ipython2",
   "version": "2.7.6"
  }
 },
 "nbformat": 4,
 "nbformat_minor": 5
}
