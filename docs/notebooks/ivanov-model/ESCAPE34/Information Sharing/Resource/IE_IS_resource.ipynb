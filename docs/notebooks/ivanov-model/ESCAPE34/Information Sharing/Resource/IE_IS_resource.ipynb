{
 "cells": [
  {
   "cell_type": "code",
   "execution_count": null,
   "id": "initial_id",
   "metadata": {
    "collapsed": true
   },
   "outputs": [],
   "source": [
    "import sys\n",
    "sys.path.append('../../src')\n",
    "import pandas\n",
    "import random\n",
    "import math\n",
    "import matplotlib.pyplot as plt\n",
    "from matplotlib import rc\n",
    "from energiapy.components.temporal_scale import TemporalScale\n",
    "from energiapy.components.resource import Resource, VaryingResource\n",
    "from energiapy.components.process import Process, ProcessMode, VaryingProcess\n",
    "from energiapy.components.location import Location\n",
    "from energiapy.components.transport import Transport\n",
    "from energiapy.components.network import Network\n",
    "from energiapy.components.scenario import Scenario\n",
    "from energiapy.model.constraints.demand import constraint_demand2\n",
    "from energiapy.components.result import Result\n",
    "from energiapy.model.formulate import formulate, Constraints, Objective\n",
    "from energiapy.plot import plot_results, plot_scenario, plot_location\n",
    "from energiapy.model.solve import solve\n",
    "from pyomo.environ import Param\n",
    "from energiapy.utils.scale_utils import scale_pyomo_set"
   ]
  },
  {
   "cell_type": "code",
   "execution_count": null,
   "outputs": [],
   "source": [
    "_time_intervals = 30  # Number of time intervals in a planning horizon    (L_chi)\n",
    "_coms = 1\n",
    "_exec_scenarios = 12  # Number of execution scenarios                     (chi)\n",
    "\n",
    "M = 1e3  # Big M\n",
    "\n",
    "init = [1]\n",
    "\n",
    "varying_list = [1.00, 1.16, 1.23, 1.17, 1.18, 1.02] + [0.78, 0.91, 0.89, 1.2, 1.14, 0.83]\n",
    "\n",
    "varying_list = [i for i in varying_list for j in range(_time_intervals)]\n",
    "\n",
    "demand_factor = pandas.DataFrame(data={'com1_sold': varying_list})\n",
    "\n",
    "# loc1_varying_factor = pandas.DataFrame(data={'com1_pur': [1, 0.58, 0.54, 0.07, 0.69, 0.17] + [0.0, 0.0, 0.0, 0.0, 0.0, 0.0]})\n",
    "# \n",
    "# loc6_varying_factor = pandas.DataFrame(data={'com1_pur': [1, 0.26, 0.66, 0.28, 0.65, 0.01] + [0.0, 0.0, 0.0, 0.0, 0.0, 0.0]})\n",
    "\n",
    "# loc1_varying_factor = pandas.DataFrame(data={'com1_pur': [1]*6 + [0.06, 0.08, 0.08, 0.05, 0.1, 0.05]})\n",
    "# \n",
    "# loc6_varying_factor = pandas.DataFrame(data={'com1_pur': [1]*6 + [0.22, 0.04, 0.0, 0.1, 0.05, 0.02]})\n",
    "\n",
    "# Define temporal scales\n",
    "scales = TemporalScale(discretization_list=[_exec_scenarios, _time_intervals])"
   ],
   "metadata": {
    "collapsed": false
   },
   "id": "75579b93f6e35d41"
  },
  {
   "cell_type": "code",
   "execution_count": null,
   "outputs": [],
   "source": [
    "# pandas.DataFrame(data={'com1_pur': init+[round(random.uniform(0.75, 1.25), 2) for _ in range(_exec_scenarios-1)]})"
   ],
   "metadata": {
    "collapsed": false
   },
   "id": "d646251c19f41248"
  },
  {
   "cell_type": "code",
   "execution_count": null,
   "outputs": [],
   "source": [
    "# ======================================================================================================================\n",
    "# Declare resources/commodities\n",
    "# ======================================================================================================================\n",
    "\n",
    "com1_pur = Resource(name='com1_pur', cons_max=175, block={'imp': 1, 'urg': 1}, price=0.00, label='Commodity 1 consumed from outside the system')\n",
    "\n",
    "com1_in = Resource(name='com1_in', label='Commodity 1 received')\n",
    "com1_out = Resource(name='com1_out', label='Commodity 1 to be sent out')\n",
    "\n",
    "com1_loc1_out = Resource(name='com1_loc1_out', label='Commodity 1 sent out from location 1')\n",
    "com1_loc2_out = Resource(name='com1_loc2_out', label='Commodity 1 sent out from location 2')\n",
    "com1_loc3_out = Resource(name='com1_loc3_out', label='Commodity 1 sent out from location 3')\n",
    "com1_loc4_out = Resource(name='com1_loc4_out', label='Commodity 1 sent out from location 4')\n",
    "com1_loc5_out = Resource(name='com1_loc5_out', label='Commodity 1 sent out from location 5')\n",
    "com1_loc6_out = Resource(name='com1_loc6_out', label='Commodity 1 sent out from location 6')\n",
    "com1_loc7_out = Resource(name='com1_loc7_out', label='Commodity 1 sent out from location 7')\n",
    "\n",
    "com1_sold = Resource(name='com1_sold', revenue=0.00, demand=True, sell=True, label='Commodity 1 sold to outside the system', varying=[VaryingResource.DETERMINISTIC_DEMAND])"
   ],
   "metadata": {
    "collapsed": false
   },
   "id": "bd07a47c9015439c"
  },
  {
   "cell_type": "code",
   "execution_count": null,
   "outputs": [],
   "source": [
    "# ======================================================================================================================\n",
    "# Declare processes/storage capacities\n",
    "# ======================================================================================================================\n",
    "com1_procure = Process(name='procure com1', prod_max=175, conversion={com1_pur: -1, com1_in: 1}, capex=0.1, vopex=0.1, prod_min=175,\n",
    "                  label='Procure com1')\n",
    "com1_sell = Process(name='sell com1', prod_max=M, conversion={com1_out: -1, com1_sold: 1}, capex=0.1, vopex=0.1, prod_min=M,\n",
    "                  label='Sell com1')\n",
    "\n",
    "com1_receive_loc1 = Process(name='com1_receive_loc1', prod_max=200, conversion={com1_loc1_out:-1, com1_in:1}, capex=0.1, vopex=0.1, prod_min=200,\n",
    "                            label='Commodity 1 received from location 1')\n",
    "com1_receive_loc2 = Process(name='com1_receive_loc2', prod_max=200, conversion={com1_loc2_out:-1, com1_in:1}, capex=0.1, vopex=0.1, prod_min=200,\n",
    "                            label='Commodity 1 received from location 2')\n",
    "com1_receive_loc3 = Process(name='com1_receive_loc3', prod_max=200, conversion={com1_loc3_out:-1, com1_in:1}, capex=0.1, vopex=0.1, prod_min=200,\n",
    "                            label='Commodity 1 received from location 3')\n",
    "com1_receive_loc4 = Process(name='com1_receive_loc4', prod_max=200, conversion={com1_loc4_out:-1, com1_in:1}, capex=0.1, vopex=0.1, prod_min=200,\n",
    "                            label='Commodity 1 received from location 4')\n",
    "com1_receive_loc5 = Process(name='com1_receive_loc5', prod_max=200, conversion={com1_loc5_out:-1, com1_in:1}, capex=0.1, vopex=0.1, prod_min=200,\n",
    "                            label='Commodity 1 received from location 5')\n",
    "com1_receive_loc6 = Process(name='com1_receive_loc6', prod_max=200, conversion={com1_loc6_out:-1, com1_in:1}, capex=0.1, vopex=0.1, prod_min=200,\n",
    "                            label='Commodity 1 received from location 6')\n",
    "com1_receive_loc7 = Process(name='com1_receive_loc7', prod_max=200, conversion={com1_loc7_out:-1, com1_in:1}, capex=0.1, vopex=0.1, prod_min=200,\n",
    "                            label='Commodity 1 received from location 7')\n",
    "\n",
    "com1_process = Process(name='com1_process', prod_max=200, conversion={com1_in:-1, com1_out:1}, capex=0.1, vopex=0.1, prod_min=200,\n",
    "                            label='Process the commodity through the location')\n",
    "\n",
    "com1_store10 = Process(name='com1_store10', prod_max=150, capex=100, vopex=1, store_min=0, store_max= 10, prod_min=150,\n",
    "                  label=\"Storage capacity of 10 units\", storage=com1_in, storage_cost=0.5)\n",
    "\n",
    "com1_store20 = Process(name='com1_store20', prod_max=150, capex=200, vopex=2, store_min=0,store_max= 20, prod_min=150,\n",
    "                  label=\"Storage capacity of 20 units\", storage=com1_in, storage_cost=0.2)\n",
    "\n",
    "com1_store50 = Process(name='com1_store50', prod_max=150, capex=500, vopex=5, store_min=0, store_max= 50, prod_min=150,\n",
    "                  label=\"Storage capacity of 50 units\", storage=com1_in, storage_cost=0.1)\n",
    "\n",
    "com1_loc1_send = Process(name='com1_loc1_send', prod_max=200, conversion={com1_out:-1, com1_loc1_out:1}, capex=0.1, vopex=0.1, prod_min=200,\n",
    "                            label='Send commodity one from location 1')\n",
    "com1_loc2_send = Process(name='com1_loc2_send', prod_max=200, conversion={com1_out:-1, com1_loc2_out:1}, capex=0.1, vopex=0.1, prod_min=200,\n",
    "                            label='Send commodity one from location 2')\n",
    "com1_loc3_send = Process(name='com1_loc3_send', prod_max=200, conversion={com1_out:-1, com1_loc3_out:1}, capex=0.1, vopex=0.1, prod_min=200,\n",
    "                            label='Send commodity one from location 3')\n",
    "com1_loc4_send = Process(name='com1_loc4_send', prod_max=200, conversion={com1_out:-1, com1_loc4_out:1}, capex=0.1, vopex=0.1, prod_min=200,\n",
    "                            label='Send commodity one from location 4')\n",
    "com1_loc5_send = Process(name='com1_loc5_send', prod_max=200, conversion={com1_out:-1, com1_loc5_out:1}, capex=0.1, vopex=0.1, prod_min=200,\n",
    "                            label='Send commodity one from location 5')\n",
    "com1_loc6_send = Process(name='com1_loc6_send', prod_max=200, conversion={com1_out:-1, com1_loc6_out:1}, capex=0.1, vopex=0.1, prod_min=200,\n",
    "                            label='Send commodity one from location 6')\n",
    "com1_loc7_send = Process(name='com1_loc7_send', prod_max=200, conversion={com1_out:-1, com1_loc7_out:1}, capex=0.1, vopex=0.1, prod_min=200,\n",
    "                            label='Send commodity one from location 7')"
   ],
   "metadata": {
    "collapsed": false
   },
   "id": "81e8395f4dfbefac"
  },
  {
   "cell_type": "code",
   "execution_count": null,
   "outputs": [],
   "source": [
    "# ======================================================================================================================\n",
    "# Declare locations/warehouses\n",
    "# ======================================================================================================================\n",
    "loc1 = Location(name='loc1', processes={com1_procure, com1_receive_loc2, com1_receive_loc3, com1_process, com1_store20, com1_loc1_send}, label=\"Location 1\", scales=scales, demand_scale_level=1,\n",
    "                capacity_scale_level=0, availability_scale_level=0)\n",
    "\n",
    "loc2 = Location(name='loc2', processes={com1_receive_loc1, com1_receive_loc4, com1_receive_loc5, com1_process, com1_store20, com1_loc2_send}, label=\"Location 2\", scales=scales, demand_scale_level=1,\n",
    "                capacity_scale_level=0, availability_scale_level=0)\n",
    "\n",
    "loc3 = Location(name='loc3', processes={com1_receive_loc1, com1_receive_loc4, com1_process, com1_store20, com1_loc3_send}, label=\"Location 3\", scales=scales, demand_scale_level=1,\n",
    "                capacity_scale_level=0, availability_scale_level=0)\n",
    "\n",
    "loc4 = Location(name='loc4', processes={com1_receive_loc2, com1_receive_loc3, com1_receive_loc6, com1_receive_loc5, com1_receive_loc7, com1_process, com1_store50, com1_loc4_send}, label=\"Location 4\", scales=scales, demand_scale_level=1,\n",
    "                capacity_scale_level=0, availability_scale_level=0)\n",
    "\n",
    "loc5 = Location(name='loc5', processes={com1_receive_loc2, com1_receive_loc4, com1_receive_loc7, com1_process, com1_store50, com1_loc5_send, com1_sell}, label=\"Location 5\", scales=scales, demand_scale_level=1,\n",
    "                capacity_scale_level=0, availability_scale_level=0, demand_factor={com1_sold: demand_factor[['com1_sold']]})\n",
    "\n",
    "loc6 = Location(name='loc6', processes={com1_procure, com1_receive_loc4, com1_process, com1_store10, com1_loc6_send}, label=\"Location 6\", scales=scales, demand_scale_level=1,\n",
    "                capacity_scale_level=0, availability_scale_level=0)\n",
    "\n",
    "loc7 = Location(name='loc7', processes={com1_receive_loc4, com1_receive_loc5, com1_process, com1_store20, com1_loc7_send}, label=\"Location 7\", scales=scales, demand_scale_level=1,\n",
    "                capacity_scale_level=0, availability_scale_level=0)\n",
    "\n",
    "# loc1 = Location(name='loc1', processes={com1_procure, com1_receive_loc2, com1_receive_loc3, com1_process, com1_store10, com1_loc1_send}, label=\"Location 1\", scales=scales, demand_scale_level=1,\n",
    "#                 capacity_scale_level=0, availability_scale_level=0, availability_factor={com1_pur: loc1_varying_factor[['com1_pur']]})\n",
    "# \n",
    "# loc2 = Location(name='loc2', processes={com1_receive_loc1, com1_receive_loc4, com1_receive_loc5, com1_process, com1_store10, com1_loc2_send}, label=\"Location 2\", scales=scales, demand_scale_level=1,\n",
    "#                 capacity_scale_level=0, availability_scale_level=0)\n",
    "# \n",
    "# loc3 = Location(name='loc3', processes={com1_receive_loc1, com1_receive_loc4, com1_process, com1_store10, com1_loc3_send}, label=\"Location 3\", scales=scales, demand_scale_level=1,\n",
    "#                 capacity_scale_level=0, availability_scale_level=0)\n",
    "# \n",
    "# loc4 = Location(name='loc4', processes={com1_receive_loc2, com1_receive_loc3, com1_receive_loc6, com1_receive_loc5, com1_receive_loc7, com1_process, com1_store10, com1_loc4_send}, label=\"Location 4\", scales=scales, demand_scale_level=1,\n",
    "#                 capacity_scale_level=0, availability_scale_level=0)\n",
    "# \n",
    "# loc5 = Location(name='loc5', processes={com1_receive_loc2, com1_receive_loc4, com1_receive_loc7, com1_process, com1_store20, com1_loc5_send, com1_sell}, label=\"Location 5\", scales=scales, demand_scale_level=1,\n",
    "#                 capacity_scale_level=0, availability_scale_level=0)\n",
    "# \n",
    "# loc6 = Location(name='loc6', processes={com1_procure, com1_receive_loc4, com1_process, com1_loc6_send}, label=\"Location 6\", scales=scales, demand_scale_level=1,\n",
    "#                 capacity_scale_level=0, availability_scale_level=0, availability_factor={com1_pur: loc6_varying_factor[['com1_pur']]})\n",
    "# \n",
    "# loc7 = Location(name='loc7', processes={com1_receive_loc4, com1_receive_loc5, com1_process, com1_loc7_send}, label=\"Location 7\", scales=scales, demand_scale_level=1,\n",
    "#                 capacity_scale_level=0, availability_scale_level=0)"
   ],
   "metadata": {
    "collapsed": false
   },
   "id": "ca2e6bd503c056e4"
  },
  {
   "cell_type": "code",
   "execution_count": null,
   "outputs": [],
   "source": [
    "# ======================================================================================================================\n",
    "# Declare transport/trucks\n",
    "# ======================================================================================================================\n",
    "\n",
    "truck50_12 = Transport(name='truck50_12', resources={com1_loc1_out}, trans_max=50, label='Truck capacity of 50 units from location 1 to 2', capex=0.5, vopex=0.05, trans_min=50)\n",
    "truck50_21 = Transport(name='truck50_21', resources={com1_loc2_out}, trans_max=50, label='Truck capacity of 50 units from location 2 to 1', capex=0.0001, vopex=0.05, trans_min=50)\n",
    "\n",
    "truck30_13 = Transport(name='truck30_13', resources={com1_loc1_out}, trans_max=30, label='Truck capacity of 30 units from location 1 to 3', capex=0.3, vopex=0.03, trans_min=30)\n",
    "truck30_31 = Transport(name='truck30_31', resources={com1_loc3_out}, trans_max=30, label='Truck capacity of 30 units from location 3 to 1', capex=0.0001, vopex=0.03, trans_min=30)\n",
    "\n",
    "truck50_24 = Transport(name='truck50_24', resources={com1_loc2_out}, trans_max=50, label='Truck capacity of 50 units from location 2 to 4', capex=0.5, vopex=0.05, trans_min=50)\n",
    "truck50_42 = Transport(name='truck50_42', resources={com1_loc4_out}, trans_max=50, label='Truck capacity of 50 units from location 4 to 2', capex=0.0001, vopex=0.05, trans_min=50)\n",
    "\n",
    "truck30_25 = Transport(name='truck30_25', resources={com1_loc2_out}, trans_max=30, label='Truck capacity of 30 units from location 2 to 5', capex=0.3, vopex=0.03, trans_min=30)\n",
    "truck30_52 = Transport(name='truck30_52', resources={com1_loc5_out}, trans_max=30, label='Truck capacity of 30 units from location 5 to 2', capex=0.0001, vopex=0.03, trans_min=30)\n",
    "\n",
    "truck20_34 = Transport(name='truck20_34', resources={com1_loc3_out}, trans_max=20, label='Truck capacity of 20 units from location 3 to 4', capex=0.2, vopex=0.02, trans_min=20)\n",
    "truck20_43 = Transport(name='truck20_43', resources={com1_loc4_out}, trans_max=20, label='Truck capacity of 20 units from location 4 to 3', capex=0.0001, vopex=0.02, trans_min=20)\n",
    "\n",
    "truck100_45 = Transport(name='truck100_45', resources={com1_loc4_out}, trans_max=100, label='Truck capacity of 100 units from location 4 to 5', capex=1, vopex=0.1, trans_min=100)\n",
    "truck100_54 = Transport(name='truck100_54', resources={com1_loc5_out}, trans_max=100, label='Truck capacity of 100 units from location 5 to 4', capex=0.0001, vopex=0.1, trans_min=100)\n",
    "\n",
    "truck40_47 = Transport(name='truck40_47', resources={com1_loc4_out}, trans_max=40, label='Truck capacity of 40 units from location 4 to 7', capex=0.4, vopex=0.04, trans_min=40)\n",
    "truck40_74 = Transport(name='truck40_74', resources={com1_loc7_out}, trans_max=40, label='Truck capacity of 40 units from location 7 to 4', capex=0.0001, vopex=0.04, trans_min=40)\n",
    "\n",
    "truck50_64 = Transport(name='truck50_64', resources={com1_loc6_out}, trans_max=50, label='Truck capacity of 50 units from location 6 to 4', capex=0.5, vopex=0.05, trans_min=50)\n",
    "truck50_46 = Transport(name='truck50_46', resources={com1_loc4_out}, trans_max=50, label='Truck capacity of 50 units from location 4 to 6', capex=0.0001, vopex=0.05, trans_min=50)\n",
    "\n",
    "truck40_75 = Transport(name='truck40_75', resources={com1_loc7_out}, trans_max=40, label='Truck capacity of 40 units from location 7 to 5', capex=0.4, vopex=0.04, trans_min=40)\n",
    "truck40_57 = Transport(name='truck40_57', resources={com1_loc5_out}, trans_max=40, label='Truck capacity of 40 units from location 5 to 7', capex=0.0001, vopex=0.04, trans_min=40)"
   ],
   "metadata": {
    "collapsed": false
   },
   "id": "7fc5f5d06b4a2617"
  },
  {
   "cell_type": "code",
   "execution_count": null,
   "outputs": [],
   "source": [
    "# ======================================================================================================================\n",
    "# Declare network\n",
    "# ======================================================================================================================\n",
    "transport_matrix = [\n",
    "    [[], [truck50_12], [truck30_13], [], [], [], []],  # source: location 1\n",
    "    [[truck50_21], [], [], [truck50_24], [truck30_25], [], []],  # source: location 2\n",
    "    [[truck30_31], [], [], [truck20_34], [], [], []],  # source: location 3\n",
    "    [[], [truck50_42], [truck20_43], [], [truck100_45], [truck50_46], [truck40_47]],  # source: location 4\n",
    "    [[], [truck30_52], [], [truck100_54], [], [], [truck40_57]],  # source: location 5\n",
    "    [[], [], [], [truck50_64], [], [], []],  # source: location 6\n",
    "    [[], [], [], [truck40_74], [truck40_75], [], []]  # source: location 7\n",
    "]\n",
    "\n",
    "distance_matrix = [\n",
    "    [0, 55, 196, M, M, M, M],\n",
    "    [55, 0, M, 163, 112, M, 134],\n",
    "    [196, M, 0, 63, M, M, M],\n",
    "    [M, 163, 63, 0, 95, 117, 88],\n",
    "    [M, 112, M, 95, 0, M, 134],\n",
    "    [M, M, M, 117, M, 0, M],\n",
    "    [M, 134, M, 88, 134, M, 0]\n",
    "]\n",
    "\n",
    "locset = [loc1, loc2, loc3, loc4, loc5, loc6, loc7]\n",
    "\n",
    "sources = locset\n",
    "sinks = locset\n",
    "\n",
    "network = Network(name='Network', scales= scales, source_locations=sources, sink_locations=sinks, transport_matrix=transport_matrix, distance_matrix=distance_matrix)"
   ],
   "metadata": {
    "collapsed": false
   },
   "id": "dd3a846ff3992aea"
  },
  {
   "cell_type": "code",
   "execution_count": null,
   "outputs": [],
   "source": [
    "demand_dict = {i: {com1_sold: 100} if i == loc5 else {com1_sold: 0} for i in locset}\n",
    "demand_penalty = 500\n",
    "demand_penalty_dict = {i: {com1_sold: demand_penalty} if i == loc5 else {com1_sold: 0} for i in locset}\n",
    "scenario_resource_IS = Scenario(name='scenario_resource_IS', scales=scales, scheduling_scale_level=1, network_scale_level=0, purchase_scale_level=1, availability_scale_level=0, demand_scale_level=1, capacity_scale_level=0,\n",
    "                    network=network, demand=demand_dict, demand_penalty=demand_penalty_dict, label='Scenario with full information sharing for resource variability', annualization_factor=(1/12))"
   ],
   "metadata": {
    "collapsed": false
   },
   "id": "1de2cf0d8269304c"
  },
  {
   "cell_type": "code",
   "execution_count": null,
   "outputs": [],
   "source": [
    "plot_scenario.demand_factor(scenario=scenario_resource_IS, resource=com1_sold, location=loc5, color='green')"
   ],
   "metadata": {
    "collapsed": false
   },
   "id": "9bcd1b7c7abc07b"
  },
  {
   "cell_type": "code",
   "execution_count": null,
   "outputs": [],
   "source": [
    "# import matplotlib.pyplot as plt\n",
    "# from matplotlib import rc\n",
    "# \n",
    "# rc('font', **{'family': 'serif', 'serif': ['Computer Modern'], 'size': 12})\n",
    "# rc('text', usetex=False)\n",
    "# \n",
    "# fig, ax = plt.subplots()\n",
    "# \n",
    "# # Plot data from the first dataset\n",
    "# ax.plot(range(len(scenario_resource_IS.availability_factor['loc1']['com1_pur'].values())), scenario_resource_IS.availability_factor['loc1']['com1_pur'].values(), label='Location 1',\n",
    "#         color='blue', marker='o')\n",
    "# \n",
    "# ax.plot(range(len(scenario_resource_IS.availability_factor['loc6']['com1_pur'].values())), scenario_resource_IS.availability_factor['loc6']['com1_pur'].values(), label='Location 6',\n",
    "#         color='red', marker='x')\n",
    "# # Customize the plot\n",
    "# ax.set_xlabel('Time Horizon')\n",
    "# ax.set_ylabel('Normalized Availability Factor')\n",
    "# ax.set_title('Resource Availability factor')\n",
    "# ax.legend()\n",
    "# ax.plot(linewidth=0.5)\n",
    "# plt.grid(alpha=0.3)\n",
    "# plt.rcdefaults()\n",
    "# # Show the plot\n",
    "# plt.show()"
   ],
   "metadata": {
    "collapsed": false
   },
   "id": "827d75a61bde4042"
  },
  {
   "cell_type": "code",
   "execution_count": null,
   "outputs": [],
   "source": [
    "problem_mincost = formulate(scenario=scenario_resource_IS,\n",
    "                            constraints={Constraints.COST, Constraints.TRANSPORT, Constraints.RESOURCE_BALANCE,\n",
    "                                         Constraints.INVENTORY, Constraints.PRODUCTION,  Constraints.DEMAND},\n",
    "                            demand_sign='eq', objective=Objective.COST_W_DEMAND_PENALTY)"
   ],
   "metadata": {
    "collapsed": false
   },
   "id": "4c4462deeefbcd12"
  },
  {
   "cell_type": "code",
   "execution_count": null,
   "outputs": [],
   "source": [
    "results_mincost = solve(scenario=scenario_resource_IS, instance=problem_mincost, solver='gurobi', name='MILP')"
   ],
   "metadata": {
    "collapsed": false
   },
   "id": "b40952d381080fce"
  },
  {
   "cell_type": "code",
   "execution_count": null,
   "outputs": [],
   "source": [
    "plot_results.schedule(results=results_mincost, y_axis='S', component='com1_sold', location='loc5', color='green')"
   ],
   "metadata": {
    "collapsed": false
   },
   "id": "c41797723ff97c29"
  },
  {
   "cell_type": "code",
   "execution_count": null,
   "outputs": [],
   "source": [
    "sum(value for key, value in results_mincost.output['S'].items() if key[0]=='loc5' and key[1]=='com1_sold')/(100*_time_intervals*_exec_scenarios)"
   ],
   "metadata": {
    "collapsed": false
   },
   "id": "2df67d4f4db1fd68"
  },
  {
   "cell_type": "code",
   "execution_count": null,
   "outputs": [],
   "source": [
    "min(value for key, value in results_mincost.output['S'].items() if key[0]=='loc5' and key[1]=='com1_sold')"
   ],
   "metadata": {
    "collapsed": false
   },
   "id": "32758dfc3007dac6"
  },
  {
   "cell_type": "code",
   "execution_count": null,
   "outputs": [],
   "source": [
    "plot_results.schedule(results=results_mincost, y_axis='Inv', component='com1_store20_com1_in_stored', location='loc1', color='green')\n",
    "plot_results.schedule(results=results_mincost, y_axis='Inv', component='com1_store20_com1_in_stored', location='loc2', color='green')\n",
    "plot_results.schedule(results=results_mincost, y_axis='Inv', component='com1_store20_com1_in_stored', location='loc3', color='green')\n",
    "plot_results.schedule(results=results_mincost, y_axis='Inv', component='com1_store50_com1_in_stored', location='loc4', color='green')\n",
    "plot_results.schedule(results=results_mincost, y_axis='Inv', component='com1_store50_com1_in_stored', location='loc5', color='green')\n",
    "plot_results.schedule(results=results_mincost, y_axis='Inv', component='com1_store10_com1_in_stored', location='loc6', color='green')\n",
    "plot_results.schedule(results=results_mincost, y_axis='Inv', component='com1_store20_com1_in_stored', location='loc7', color='green')\n",
    "\n",
    "# plot_results.schedule(results=results_mincost, y_axis='Inv', component='com1_store10_com1_in_stored', location='loc1', color='green')\n",
    "# plot_results.schedule(results=results_mincost, y_axis='Inv', component='com1_store10_com1_in_stored', location='loc2', color='green')\n",
    "# plot_results.schedule(results=results_mincost, y_axis='Inv', component='com1_store10_com1_in_stored', location='loc3', color='green')\n",
    "# plot_results.schedule(results=results_mincost, y_axis='Inv', component='com1_store10_com1_in_stored', location='loc4', color='green')\n",
    "# plot_results.schedule(results=results_mincost, y_axis='Inv', component='com1_store20_com1_in_stored', location='loc5', color='green')"
   ],
   "metadata": {
    "collapsed": false
   },
   "id": "2e1366932c86dfc4"
  },
  {
   "cell_type": "code",
   "execution_count": null,
   "outputs": [],
   "source": [
    "plot_results.transport(results=results_mincost, source='loc1', sink='loc2', transport='truck50_12',\n",
    "                       resource='com1_loc1_out')\n",
    "plot_results.transport(results=results_mincost, source='loc1', sink='loc3', transport='truck30_13',\n",
    "                       resource='com1_loc1_out')\n",
    "plot_results.transport(results=results_mincost, source='loc2', sink='loc5', transport='truck30_25',\n",
    "                       resource='com1_loc2_out')\n",
    "plot_results.transport(results=results_mincost, source='loc2', sink='loc4', transport='truck50_24',\n",
    "                       resource='com1_loc2_out')\n",
    "plot_results.transport(results=results_mincost, source='loc3', sink='loc4', transport='truck20_34',\n",
    "                       resource='com1_loc3_out')\n",
    "plot_results.transport(results=results_mincost, source='loc4', sink='loc5', transport='truck100_45',\n",
    "                       resource='com1_loc4_out')\n",
    "plot_results.transport(results=results_mincost, source='loc4', sink='loc7', transport='truck40_47',\n",
    "                       resource='com1_loc4_out')\n",
    "plot_results.transport(results=results_mincost, source='loc6', sink='loc4', transport='truck50_64',\n",
    "                       resource='com1_loc6_out')\n",
    "plot_results.transport(results=results_mincost, source='loc7', sink='loc5', transport='truck40_75',\n",
    "                       resource='com1_loc7_out')"
   ],
   "metadata": {
    "collapsed": false
   },
   "id": "1024bdd1c33feeee"
  },
  {
   "cell_type": "code",
   "execution_count": null,
   "outputs": [],
   "source": [
    "plot_results.transport(results=results_mincost, source='loc2', sink='loc1', transport='truck50_21',\n",
    "                       resource='com1_loc2_out')\n",
    "plot_results.transport(results=results_mincost, source='loc3', sink='loc1', transport='truck30_31',\n",
    "                       resource='com1_loc3_out')\n",
    "plot_results.transport(results=results_mincost, source='loc5', sink='loc2', transport='truck30_52',\n",
    "                       resource='com1_loc5_out')\n",
    "plot_results.transport(results=results_mincost, source='loc4', sink='loc3', transport='truck20_43',\n",
    "                       resource='com1_loc4_out')\n",
    "plot_results.transport(results=results_mincost, source='loc5', sink='loc4', transport='truck100_54',\n",
    "                       resource='com1_loc5_out')\n",
    "plot_results.transport(results=results_mincost, source='loc7', sink='loc4', transport='truck40_74',\n",
    "                       resource='com1_loc7_out')\n",
    "plot_results.transport(results=results_mincost, source='loc4', sink='loc6', transport='truck50_46',\n",
    "                       resource='com1_loc4_out')\n",
    "plot_results.transport(results=results_mincost, source='loc5', sink='loc7', transport='truck40_57',\n",
    "                       resource='com1_loc5_out')"
   ],
   "metadata": {
    "collapsed": false
   },
   "id": "d0063570c5a6c060"
  },
  {
   "cell_type": "code",
   "execution_count": null,
   "outputs": [],
   "source": [
    "plot_results.schedule(results=results_mincost, y_axis='C', component='com1_pur', location='loc1', color='green')\n",
    "plot_results.schedule(results=results_mincost, y_axis='C', component='com1_pur', location='loc6', color='green')"
   ],
   "metadata": {
    "collapsed": false
   },
   "id": "a5b1fa453f28b5c7"
  },
  {
   "cell_type": "code",
   "execution_count": null,
   "outputs": [],
   "source": [
    "problem_mincost.Capex_network.pprint()\n",
    "problem_mincost.Fopex_network.pprint()\n",
    "problem_mincost.Vopex_network.pprint()"
   ],
   "metadata": {
    "collapsed": false
   },
   "id": "d24eef126e79073f"
  },
  {
   "cell_type": "code",
   "execution_count": null,
   "outputs": [],
   "source": [
    "problem_mincost.Capex_transport_network.pprint()\n",
    "problem_mincost.Fopex_transport_network.pprint()\n",
    "problem_mincost.Vopex_transport_network.pprint()"
   ],
   "metadata": {
    "collapsed": false
   },
   "id": "89c006049995b45c"
  },
  {
   "cell_type": "code",
   "execution_count": null,
   "outputs": [],
   "source": [
    "results_mincost.output['objective']"
   ],
   "metadata": {
    "collapsed": false
   },
   "id": "13d307701f58b9c2"
  },
  {
   "cell_type": "code",
   "execution_count": null,
   "outputs": [],
   "source": [
    "sum(value for key, value in results_mincost.output['Capex_network'].items() if key<=5) + \\\n",
    "sum(value for key, value in results_mincost.output['Vopex_network'].items() if key<= 5) + \\\n",
    "sum(value for key, value in results_mincost.output['Capex_transport_network'].items() if key<=5) + \\\n",
    "sum(value for key, value in results_mincost.output['Vopex_transport_network'].items() if key<=5) + \\\n",
    "sum(value for key, value in results_mincost.output['Demand_penalty'].items() if key[2]<=5)*demand_penalty"
   ],
   "metadata": {
    "collapsed": false
   },
   "id": "f2a080086124393e"
  },
  {
   "cell_type": "code",
   "execution_count": null,
   "outputs": [],
   "source": [
    "sum(value for key, value in results_mincost.output['Capex_network'].items() if key>=6) + \\\n",
    "sum(value for key, value in results_mincost.output['Vopex_network'].items() if key>=6) + \\\n",
    "sum(value for key, value in results_mincost.output['Capex_transport_network'].items() if key>=6) + \\\n",
    "sum(value for key, value in results_mincost.output['Vopex_transport_network'].items() if key>=6) + \\\n",
    "sum(value for key, value in results_mincost.output['Demand_penalty'].items() if key[2]>=6)*demand_penalty"
   ],
   "metadata": {
    "collapsed": false
   },
   "id": "866f7a4286a7cfa9"
  },
  {
   "cell_type": "code",
   "execution_count": null,
   "outputs": [],
   "source": [
    "sum(value for key, value in results_mincost.output['Vopex_network'].items())"
   ],
   "metadata": {
    "collapsed": false
   },
   "id": "280451b14782dd80"
  },
  {
   "cell_type": "code",
   "execution_count": null,
   "outputs": [],
   "source": [
    "sum(value for key, value in results_mincost.output['Vopex_transport_network'].items())"
   ],
   "metadata": {
    "collapsed": false
   },
   "id": "769df4a32d3893d4"
  },
  {
   "cell_type": "code",
   "execution_count": null,
   "outputs": [],
   "source": [
    "sum(value for key, value in results_mincost.output['Demand_penalty'].items())*demand_penalty"
   ],
   "metadata": {
    "collapsed": false
   },
   "id": "37e66c67de867179"
  },
  {
   "cell_type": "code",
   "execution_count": null,
   "outputs": [],
   "source": [
    "inventory_zero = {loc1: {(com1_store20, com1_store20.resource_storage): results_mincost.output['Inv'][(loc1.name, com1_store20.resource_storage.name, 6, 0)]},\n",
    "                  loc2: {(com1_store20, com1_store20.resource_storage): results_mincost.output['Inv'][(loc2.name, com1_store20.resource_storage.name, 6, 0)]},\n",
    "                  loc3: {(com1_store20, com1_store20.resource_storage): results_mincost.output['Inv'][(loc3.name, com1_store20.resource_storage.name, 6, 0)]},\n",
    "                  loc4: {(com1_store50, com1_store50.resource_storage): results_mincost.output['Inv'][(loc4.name, com1_store50.resource_storage.name, 6, 0)]},\n",
    "                  loc5: {(com1_store50, com1_store50.resource_storage): results_mincost.output['Inv'][(loc5.name, com1_store50.resource_storage.name, 6, 0)]},\n",
    "                  loc6: {(com1_store10, com1_store10.resource_storage): results_mincost.output['Inv'][(loc6.name, com1_store10.resource_storage.name, 6, 0)]},\n",
    "                  loc7: {(com1_store20, com1_store20.resource_storage): results_mincost.output['Inv'][(loc7.name, com1_store20.resource_storage.name, 6, 0)]}\n",
    "                  }\n",
    "\n",
    "inventory_zero\n",
    "\n",
    "# inventory6 = {loc1: {(com1_store10, com1_store10.resource_storage): results_mincost.output['Inv'][(loc1.name, com1_store10.resource_storage.name, 6, 0)]},\n",
    "#                   loc2: {(com1_store10, com1_store10.resource_storage): results_mincost.output['Inv'][(loc2.name, com1_store10.resource_storage.name, 6, 0)]},\n",
    "#                   loc3: {(com1_store10, com1_store10.resource_storage): results_mincost.output['Inv'][(loc3.name, com1_store10.resource_storage.name, 6, 0)]},\n",
    "#                   loc4: {(com1_store10, com1_store10.resource_storage): results_mincost.output['Inv'][(loc4.name, com1_store10.resource_storage.name, 6, 0)]},\n",
    "#                   loc5: {(com1_store20, com1_store20.resource_storage): results_mincost.output['Inv'][(loc5.name, com1_store20.resource_storage.name, 6, 0)]},\n",
    "#                   }\n",
    "# inventory6"
   ],
   "metadata": {
    "collapsed": false
   },
   "id": "d838f7b2e19b1eaa"
  },
  {
   "cell_type": "code",
   "execution_count": null,
   "outputs": [],
   "source": [
    "results_mincost.output['objective']"
   ],
   "metadata": {
    "collapsed": false
   },
   "id": "fd0d035c6938eaf7"
  },
  {
   "cell_type": "code",
   "execution_count": null,
   "outputs": [],
   "source": [
    "cost = sum(value for key, value in results_mincost.output['Vopex_network'].items()) + \\\n",
    "sum(value for key, value in results_mincost.output['Vopex_transport_network'].items()) + \\\n",
    "sum(value for key, value in results_mincost.output['Demand_penalty'].items())*demand_penalty\n",
    "cost"
   ],
   "metadata": {
    "collapsed": false
   },
   "id": "1a40fcf94e4fea3"
  },
  {
   "cell_type": "code",
   "execution_count": null,
   "outputs": [],
   "source": [
    "# print([(key, value) for key, value in results_mincost.output['Demand_penalty'].items() if value!=0])"
   ],
   "metadata": {
    "collapsed": false
   },
   "id": "372d947cb32954bd"
  },
  {
   "cell_type": "code",
   "execution_count": null,
   "outputs": [],
   "source": [
    "# problem_mincost_2 = formulate(scenario=scenario_resource,\n",
    "#                               constraints={Constraints.COST, Constraints.TRANSPORT, Constraints.RESOURCE_BALANCE,\n",
    "#                                            Constraints.PRODUCTION, Constraints.INVENTORY, Constraints.DEMAND},\n",
    "#                               demand_sign='eq', objective=Objective.COST_W_DEMAND_PENALTY)\n",
    "# \n",
    "# min_demand_satisfaction_2 = 40\n",
    "# min_demand_dict_2 = {i: {com1_sold: min_demand_satisfaction_2} if i == loc5 else {com1_sold: 0} for i in locset}\n",
    "# \n",
    "# min_demand_6 = min_demand_dict_2\n",
    "# if isinstance(min_demand_6, dict):\n",
    "#     if isinstance(list(min_demand_6.keys())[0], Location):\n",
    "#         try:\n",
    "#             min_demand_6 = {i.name: {\n",
    "#                 j.name: min_demand_6[i][j] for j in min_demand_6[i].keys()} for i in min_demand_6.keys()}\n",
    "#         except:\n",
    "#             pass\n",
    "# \n",
    "# problem_mincost_2.del_component(constraint_demand2)\n",
    "# problem_mincost_2.constraint_demand2 = constraint_demand2(instance=problem_mincost_2, demand=min_demand_6,\n",
    "#                                                           demand_factor=scenario_resource.demand_factor,\n",
    "#                                                           demand_scale_level=scenario_resource.demand_scale_level,\n",
    "#                                                           scheduling_scale_level=scenario_resource.scheduling_scale_level,\n",
    "#                                                           cluster_wt=None, loc_res_dict=None, sign='geq')\n",
    "# \n",
    "# results_mincost_2 = solve(scenario=scenario_resource, instance=problem_mincost_2, solver='gurobi', name='MILP')"
   ],
   "metadata": {
    "collapsed": false
   },
   "id": "d5307db677c66705"
  },
  {
   "cell_type": "code",
   "execution_count": null,
   "outputs": [],
   "source": [
    "sum(value for key, value in results_mincost_2.output['S'].items() if key[0]=='loc5' and key[1]=='com1_sold')/(100*_time_intervals*_exec_scenarios)"
   ],
   "metadata": {
    "collapsed": false
   },
   "id": "c0eff4d7876aee42"
  },
  {
   "cell_type": "code",
   "execution_count": null,
   "outputs": [],
   "source": [
    "min(value for key, value in results_mincost_2.output['S'].items() if key[0] == 'loc5' and key[1] == 'com1_sold')"
   ],
   "metadata": {
    "collapsed": false
   },
   "id": "b92f0d2a24ea3b6d"
  },
  {
   "cell_type": "code",
   "execution_count": null,
   "outputs": [],
   "source": [
    "problem_mincost_2.Capex_network.pprint()\n",
    "problem_mincost_2.Fopex_network.pprint()\n",
    "problem_mincost_2.Vopex_network.pprint()\n",
    "problem_mincost_2.Capex_transport_network.pprint()\n",
    "problem_mincost_2.Fopex_transport_network.pprint()\n",
    "problem_mincost_2.Vopex_transport_network.pprint()"
   ],
   "metadata": {
    "collapsed": false
   },
   "id": "94acb3190dbf4674"
  },
  {
   "cell_type": "code",
   "execution_count": null,
   "outputs": [],
   "source": [
    "rc('font', **{'family': 'serif', 'serif': ['Computer Modern'], 'size': 12})\n",
    "rc('text', usetex=False)\n",
    "\n",
    "fig, ax = plt.subplots()\n",
    "\n",
    "# Plot data from the first dataset\n",
    "ax.plot(range(len(list(value for key, value in results_mincost.output['S'].items() if key[0]=='loc5' and key[1]=='com1_sold'))), list(value for key, value in results_mincost.output['S'].items() if key[0]=='loc5' and key[1]=='com1_sold'), label='Baseline', color='blue')\n",
    "\n",
    "ax.plot(range(len(list(value for key, value in results_mincost_2.output['S'].items() if key[0]=='loc5' and key[1]=='com1_sold'))), list(value for key, value in results_mincost_2.output['S'].items() if key[0]=='loc5' and key[1]=='com1_sold'), label='46 Min', color='green')\n",
    "\n",
    "# Customize the plot\n",
    "ax.set_xlabel('Time Horizon')\n",
    "ax.set_ylabel('Commodity sold')\n",
    "ax.set_title('Commodity 1 sold at Location 5')\n",
    "ax.legend()\n",
    "ax.plot(linewidth=0.5)\n",
    "plt.grid(alpha=0.3)\n",
    "plt.rcdefaults()\n",
    "# Show the plot\n",
    "plt.show()"
   ],
   "metadata": {
    "collapsed": false
   },
   "id": "5c5eb2c0e4927006"
  },
  {
   "cell_type": "code",
   "execution_count": null,
   "outputs": [],
   "source": [
    "rc('font', **{'family': 'serif', 'serif': ['Computer Modern'], 'size': 12})\n",
    "rc('text', usetex=False)\n",
    "\n",
    "fig, ax = plt.subplots()\n",
    "\n",
    "# Plot data from the first dataset\n",
    "ax.plot(range(len(list(value for key, value in results_mincost.output['Inv'].items() if key[0]=='loc1' and key[1]=='com1_store20_com1_in_stored'))), list(value for key, value in results_mincost.output['Inv'].items() if key[0]=='loc1' and key[1]=='com1_store20_com1_in_stored'), label='No Min', color='blue')\n",
    "\n",
    "ax.plot(range(len(list(value for key, value in results_mincost_2.output['Inv'].items() if key[0]=='loc1' and key[1]=='com1_store20_com1_in_stored'))), list(value for key, value in results_mincost_2.output['Inv'].items() if key[0]=='loc1' and key[1]=='com1_store20_com1_in_stored'), label='46_min', color='green')\n",
    "\n",
    "# Customize the plot\n",
    "ax.set_xlabel('Time Horizon')\n",
    "ax.set_ylabel('Inventory level')\n",
    "ax.set_title('Inventory levels for Commodity 1 at Location 1')\n",
    "ax.legend()\n",
    "ax.plot(linewidth=0.5)\n",
    "plt.grid(alpha=0.3)\n",
    "plt.rcdefaults()\n",
    "# Show the plot\n",
    "plt.show()\n",
    "\n",
    "####################################################################################################################################################################################\n",
    "\n",
    "rc('font', **{'family': 'serif', 'serif': ['Computer Modern'], 'size': 12})\n",
    "rc('text', usetex=False)\n",
    "\n",
    "fig, ax = plt.subplots()\n",
    "\n",
    "# Plot data from the first dataset\n",
    "ax.plot(range(len(list(value for key, value in results_mincost.output['Inv'].items() if key[0]=='loc2' and key[1]=='com1_store20_com1_in_stored'))), list(value for key, value in results_mincost.output['Inv'].items() if key[0]=='loc2' and key[1]=='com1_store20_com1_in_stored'), label='No Min', color='blue')\n",
    "\n",
    "ax.plot(range(len(list(value for key, value in results_mincost_2.output['Inv'].items() if key[0]=='loc2' and key[1]=='com1_store20_com1_in_stored'))), list(value for key, value in results_mincost_2.output['Inv'].items() if key[0]=='loc2' and key[1]=='com1_store20_com1_in_stored'), label='46 Min', color='green')\n",
    "\n",
    "# Customize the plot\n",
    "ax.set_xlabel('Time Horizon')\n",
    "ax.set_ylabel('Inventory level')\n",
    "ax.set_title('Inventory levels for Commodity 1 at Location 2')\n",
    "ax.legend()\n",
    "ax.plot(linewidth=0.5)\n",
    "plt.grid(alpha=0.3)\n",
    "plt.rcdefaults()\n",
    "# Show the plot\n",
    "plt.show()\n",
    "\n",
    "####################################################################################################################################################################################\n",
    "\n",
    "rc('font', **{'family': 'serif', 'serif': ['Computer Modern'], 'size': 12})\n",
    "rc('text', usetex=False)\n",
    "\n",
    "fig, ax = plt.subplots()\n",
    "\n",
    "# Plot data from the first dataset\n",
    "ax.plot(range(len(list(value for key, value in results_mincost.output['Inv'].items() if key[0]=='loc3' and key[1]=='com1_store20_com1_in_stored'))), list(value for key, value in results_mincost.output['Inv'].items() if key[0]=='loc3' and key[1]=='com1_store20_com1_in_stored'), label='No Min', color='blue')\n",
    "\n",
    "ax.plot(range(len(list(value for key, value in results_mincost_2.output['Inv'].items() if key[0]=='loc3' and key[1]=='com1_store20_com1_in_stored'))), list(value for key, value in results_mincost_2.output['Inv'].items() if key[0]=='loc3' and key[1]=='com1_store20_com1_in_stored'), label='46 Min', color='green')\n",
    "\n",
    "# Customize the plot\n",
    "ax.set_xlabel('Time Horizon')\n",
    "ax.set_ylabel('Inventory level')\n",
    "ax.set_title('Inventory levels for Commodity 1 at Location 3')\n",
    "ax.legend()\n",
    "ax.plot(linewidth=0.5)\n",
    "plt.grid(alpha=0.3)\n",
    "plt.rcdefaults()\n",
    "# Show the plot\n",
    "plt.show()\n",
    "\n",
    "####################################################################################################################################################################################\n",
    "\n",
    "rc('font', **{'family': 'serif', 'serif': ['Computer Modern'], 'size': 12})\n",
    "rc('text', usetex=False)\n",
    "\n",
    "fig, ax = plt.subplots()\n",
    "\n",
    "# Plot data from the first dataset\n",
    "ax.plot(range(len(list(value for key, value in results_mincost.output['Inv'].items() if key[0]=='loc4' and key[1]=='com1_store50_com1_in_stored'))), list(value for key, value in results_mincost.output['Inv'].items() if key[0]=='loc4' and key[1]=='com1_store50_com1_in_stored'), label='No Min', color='blue')\n",
    "\n",
    "ax.plot(range(len(list(value for key, value in results_mincost_2.output['Inv'].items() if key[0]=='loc4' and key[1]=='com1_store50_com1_in_stored'))), list(value for key, value in results_mincost_2.output['Inv'].items() if key[0]=='loc4' and key[1]=='com1_store50_com1_in_stored'), label='46 Min', color='green')\n",
    "\n",
    "# Customize the plot\n",
    "ax.set_xlabel('Time Horizon')\n",
    "ax.set_ylabel('Inventory level')\n",
    "ax.set_title('Inventory levels for Commodity 1 at Location 4')\n",
    "ax.legend()\n",
    "ax.plot(linewidth=0.5)\n",
    "plt.grid(alpha=0.3)\n",
    "plt.rcdefaults()\n",
    "# Show the plot\n",
    "plt.show()\n",
    "\n",
    "####################################################################################################################################################################################\n",
    "\n",
    "rc('font', **{'family': 'serif', 'serif': ['Computer Modern'], 'size': 12})\n",
    "rc('text', usetex=False)\n",
    "\n",
    "fig, ax = plt.subplots()\n",
    "\n",
    "# Plot data from the first dataset\n",
    "ax.plot(range(len(list(value for key, value in results_mincost.output['Inv'].items() if key[0]=='loc5' and key[1]=='com1_store50_com1_in_stored'))), list(value for key, value in results_mincost.output['Inv'].items() if key[0]=='loc5' and key[1]=='com1_store50_com1_in_stored'), label='No Min', color='blue')\n",
    "\n",
    "ax.plot(range(len(list(value for key, value in results_mincost_2.output['Inv'].items() if key[0]=='loc5' and key[1]=='com1_store50_com1_in_stored'))), list(value for key, value in results_mincost_2.output['Inv'].items() if key[0]=='loc5' and key[1]=='com1_store50_com1_in_stored'), label='46 Min', color='green')\n",
    "\n",
    "# Customize the plot\n",
    "ax.set_xlabel('Time Horizon')\n",
    "ax.set_ylabel('Inventory level')\n",
    "ax.set_title('Inventory levels for Commodity 1 at Location 5')\n",
    "ax.legend()\n",
    "ax.plot(linewidth=0.5)\n",
    "plt.grid(alpha=0.3)\n",
    "plt.rcdefaults()\n",
    "# Show the plot\n",
    "plt.show()\n",
    "\n",
    "####################################################################################################################################################################################\n",
    "\n",
    "rc('font', **{'family': 'serif', 'serif': ['Computer Modern'], 'size': 12})\n",
    "rc('text', usetex=False)\n",
    "\n",
    "fig, ax = plt.subplots()\n",
    "\n",
    "# Plot data from the first dataset\n",
    "ax.plot(range(len(list(value for key, value in results_mincost.output['Inv'].items() if key[0]=='loc6' and key[1]=='com1_store10_com1_in_stored'))), list(value for key, value in results_mincost.output['Inv'].items() if key[0]=='loc6' and key[1]=='com1_store10_com1_in_stored'), label='No Min', color='blue')\n",
    "\n",
    "ax.plot(range(len(list(value for key, value in results_mincost_2.output['Inv'].items() if key[0]=='loc6' and key[1]=='com1_store10_com1_in_stored'))), list(value for key, value in results_mincost_2.output['Inv'].items() if key[0]=='loc6' and key[1]=='com1_store10_com1_in_stored'), label='46 Min', color='green')\n",
    "\n",
    "# Customize the plot\n",
    "ax.set_xlabel('Time Horizon')\n",
    "ax.set_ylabel('Inventory level')\n",
    "ax.set_title('Inventory levels for Commodity 1 at Location 6')\n",
    "ax.legend()\n",
    "ax.plot(linewidth=0.5)\n",
    "plt.grid(alpha=0.3)\n",
    "plt.rcdefaults()\n",
    "# Show the plot\n",
    "plt.show()\n",
    "\n",
    "####################################################################################################################################################################################\n",
    "\n",
    "rc('font', **{'family': 'serif', 'serif': ['Computer Modern'], 'size': 12})\n",
    "rc('text', usetex=False)\n",
    "\n",
    "fig, ax = plt.subplots()\n",
    "\n",
    "# Plot data from the first dataset\n",
    "ax.plot(range(len(list(value for key, value in results_mincost.output['Inv'].items() if key[0]=='loc7' and key[1]=='com1_store20_com1_in_stored'))), list(value for key, value in results_mincost.output['Inv'].items() if key[0]=='loc7' and key[1]=='com1_store20_com1_in_stored'), label='No Min', color='blue')\n",
    "\n",
    "ax.plot(range(len(list(value for key, value in results_mincost_2.output['Inv'].items() if key[0]=='loc7' and key[1]=='com1_store20_com1_in_stored'))), list(value for key, value in results_mincost_2.output['Inv'].items() if key[0]=='loc7' and key[1]=='com1_store20_com1_in_stored'), label='46 Min', color='green')\n",
    "\n",
    "# Customize the plot\n",
    "ax.set_xlabel('Time Horizon')\n",
    "ax.set_ylabel('Inventory level')\n",
    "ax.set_title('Inventory levels for Commodity 1 at Location 7')\n",
    "ax.legend()\n",
    "ax.plot(linewidth=0.5)\n",
    "plt.grid(alpha=0.3)\n",
    "plt.rcdefaults()\n",
    "# Show the plot\n",
    "plt.show()"
   ],
   "metadata": {
    "collapsed": false
   },
   "id": "c602a45705e5028"
  },
  {
   "cell_type": "code",
   "execution_count": null,
   "outputs": [],
   "source": [
    "rc('font', **{'family': 'serif', 'serif': ['Computer Modern'], 'size': 12})\n",
    "rc('text', usetex=False)\n",
    "\n",
    "fig, ax = plt.subplots()\n",
    "\n",
    "# Plot data from the first dataset\n",
    "ax.plot(range(len(list(value for key, value in results_mincost.output['Exp'].items() if key[0]=='loc1' and key[1]=='loc2'and key[2]=='truck50_12'and key[3]=='com1_loc1_out'))), list(value for key, value in results_mincost.output['Exp'].items() if key[0]=='loc1' and key[1]=='loc2'and key[2]=='truck50_12'and key[3]=='com1_loc1_out'), label='Baseline', color='blue')\n",
    "\n",
    "ax.plot(range(len(list(value for key, value in results_mincost_2.output['Exp'].items() if key[0]=='loc1' and key[1]=='loc2'and key[2]=='truck50_12'and key[3]=='com1_loc1_out'))), list(value for key, value in results_mincost_2.output['Exp'].items() if key[0]=='loc1' and key[1]=='loc2'and key[2]=='truck50_12'and key[3]=='com1_loc1_out'), label='46 Min', color='green')\n",
    "\n",
    "# Customize the plot\n",
    "ax.set_xlabel('Time Horizon')\n",
    "ax.set_ylabel('Transport level')\n",
    "ax.set_title('Transport between loc1 and loc2 for commodity 1')\n",
    "ax.legend()\n",
    "ax.plot(linewidth=0.5)\n",
    "plt.grid(alpha=0.3)\n",
    "plt.rcdefaults()\n",
    "# Show the plot\n",
    "plt.show()\n",
    "\n",
    "####################################################################################################################################################################################\n",
    "\n",
    "rc('font', **{'family': 'serif', 'serif': ['Computer Modern'], 'size': 12})\n",
    "rc('text', usetex=False)\n",
    "\n",
    "fig, ax = plt.subplots()\n",
    "\n",
    "# Plot data from the first dataset\n",
    "ax.plot(range(len(list(value for key, value in results_mincost.output['Exp'].items() if key[0]=='loc1' and key[1]=='loc3'and key[2]=='truck30_13'and key[3]=='com1_loc1_out'))), list(value for key, value in results_mincost.output['Exp'].items() if key[0]=='loc1' and key[1]=='loc3'and key[2]=='truck30_13'and key[3]=='com1_loc1_out'), label='Baseline', color='blue')\n",
    "\n",
    "ax.plot(range(len(list(value for key, value in results_mincost_2.output['Exp'].items() if key[0]=='loc1' and key[1]=='loc3'and key[2]=='truck30_13'and key[3]=='com1_loc1_out'))), list(value for key, value in results_mincost_2.output['Exp'].items() if key[0]=='loc1' and key[1]=='loc3'and key[2]=='truck30_13'and key[3]=='com1_loc1_out'), label='46 Min', color='green')\n",
    "\n",
    "# Customize the plot\n",
    "ax.set_xlabel('Time Horizon')\n",
    "ax.set_ylabel('Transport level')\n",
    "ax.set_title('Transport between loc1 and loc3 for commodity 1')\n",
    "ax.legend()\n",
    "ax.plot(linewidth=0.5)\n",
    "plt.grid(alpha=0.3)\n",
    "plt.rcdefaults()\n",
    "# Show the plot\n",
    "plt.show()\n",
    "\n",
    "####################################################################################################################################################################################\n",
    "\n",
    "rc('font', **{'family': 'serif', 'serif': ['Computer Modern'], 'size': 12})\n",
    "rc('text', usetex=False)\n",
    "\n",
    "fig, ax = plt.subplots()\n",
    "\n",
    "# Plot data from the first dataset\n",
    "ax.plot(range(len(list(value for key, value in results_mincost.output['Exp'].items() if key[0]=='loc2' and key[1]=='loc4'and key[2]=='truck50_24'and key[3]=='com1_loc2_out'))), list(value for key, value in results_mincost.output['Exp'].items() if key[0]=='loc2' and key[1]=='loc4'and key[2]=='truck50_24'and key[3]=='com1_loc2_out'), label='Baseline', color='blue')\n",
    "\n",
    "ax.plot(range(len(list(value for key, value in results_mincost_2.output['Exp'].items() if key[0]=='loc2' and key[1]=='loc4'and key[2]=='truck50_24'and key[3]=='com1_loc2_out'))), list(value for key, value in results_mincost_2.output['Exp'].items() if key[0]=='loc2' and key[1]=='loc4'and key[2]=='truck50_24'and key[3]=='com1_loc2_out'), label='46 Min', color='green')\n",
    "\n",
    "# Customize the plot\n",
    "ax.set_xlabel('Time Horizon')\n",
    "ax.set_ylabel('Transport level')\n",
    "ax.set_title('Transport between loc2 and loc4 for commodity 1')\n",
    "ax.legend()\n",
    "ax.plot(linewidth=0.5)\n",
    "plt.grid(alpha=0.3)\n",
    "plt.rcdefaults()\n",
    "# Show the plot\n",
    "plt.show()\n",
    "\n",
    "####################################################################################################################################################################################\n",
    "\n",
    "rc('font', **{'family': 'serif', 'serif': ['Computer Modern'], 'size': 12})\n",
    "rc('text', usetex=False)\n",
    "\n",
    "fig, ax = plt.subplots()\n",
    "\n",
    "# Plot data from the first dataset\n",
    "ax.plot(range(len(list(value for key, value in results_mincost.output['Exp'].items() if key[0]=='loc2' and key[1]=='loc5'and key[2]=='truck30_25'and key[3]=='com1_loc2_out'))), list(value for key, value in results_mincost.output['Exp'].items() if key[0]=='loc2' and key[1]=='loc5'and key[2]=='truck30_25'and key[3]=='com1_loc2_out'), label='Baseline', color='blue')\n",
    "\n",
    "ax.plot(range(len(list(value for key, value in results_mincost_2.output['Exp'].items() if key[0]=='loc2' and key[1]=='loc5'and key[2]=='truck30_25'and key[3]=='com1_loc2_out'))), list(value for key, value in results_mincost_2.output['Exp'].items() if key[0]=='loc2' and key[1]=='loc5'and key[2]=='truck30_25'and key[3]=='com1_loc2_out'), label='46 Min', color='green')\n",
    "\n",
    "# Customize the plot\n",
    "ax.set_xlabel('Time Horizon')\n",
    "ax.set_ylabel('Transport level')\n",
    "ax.set_title('Transport between loc2 and loc4 for commodity 1')\n",
    "ax.legend()\n",
    "ax.plot(linewidth=0.5)\n",
    "plt.grid(alpha=0.3)\n",
    "plt.rcdefaults()\n",
    "# Show the plot\n",
    "plt.show()\n",
    "\n",
    "####################################################################################################################################################################################\n",
    "\n",
    "rc('font', **{'family': 'serif', 'serif': ['Computer Modern'], 'size': 12})\n",
    "rc('text', usetex=False)\n",
    "\n",
    "fig, ax = plt.subplots()\n",
    "\n",
    "# Plot data from the first dataset\n",
    "ax.plot(range(len(list(value for key, value in results_mincost.output['Exp'].items() if key[0]=='loc3' and key[1]=='loc4'and key[2]=='truck20_34'and key[3]=='com1_loc3_out'))), list(value for key, value in results_mincost.output['Exp'].items() if key[0]=='loc3' and key[1]=='loc4'and key[2]=='truck20_34'and key[3]=='com1_loc3_out'), label='Baseline', color='blue')\n",
    "\n",
    "ax.plot(range(len(list(value for key, value in results_mincost_2.output['Exp'].items() if key[0]=='loc3' and key[1]=='loc4'and key[2]=='truck20_34'and key[3]=='com1_loc3_out'))), list(value for key, value in results_mincost_2.output['Exp'].items() if key[0]=='loc3' and key[1]=='loc4'and key[2]=='truck20_34'and key[3]=='com1_loc3_out'), label='46 Min', color='green')\n",
    "\n",
    "# Customize the plot\n",
    "ax.set_xlabel('Time Horizon')\n",
    "ax.set_ylabel('Transport level')\n",
    "ax.set_title('Transport between loc3 and loc4 for commodity 1')\n",
    "ax.legend()\n",
    "ax.plot(linewidth=0.5)\n",
    "plt.grid(alpha=0.3)\n",
    "plt.rcdefaults()\n",
    "# Show the plot\n",
    "plt.show()\n",
    "\n",
    "####################################################################################################################################################################################\n",
    "\n",
    "rc('font', **{'family': 'serif', 'serif': ['Computer Modern'], 'size': 12})\n",
    "rc('text', usetex=False)\n",
    "\n",
    "fig, ax = plt.subplots()\n",
    "\n",
    "# Plot data from the first dataset\n",
    "ax.plot(range(len(list(value for key, value in results_mincost.output['Exp'].items() if key[0]=='loc4' and key[1]=='loc5'and key[2]=='truck100_45'and key[3]=='com1_loc4_out'))), list(value for key, value in results_mincost.output['Exp'].items() if key[0]=='loc4' and key[1]=='loc5'and key[2]=='truck100_45'and key[3]=='com1_loc4_out'), label='Baseline', color='blue')\n",
    "\n",
    "ax.plot(range(len(list(value for key, value in results_mincost_2.output['Exp'].items() if key[0]=='loc4' and key[1]=='loc5'and key[2]=='truck100_45'and key[3]=='com1_loc4_out'))), list(value for key, value in results_mincost_2.output['Exp'].items() if key[0]=='loc4' and key[1]=='loc5'and key[2]=='truck100_45'and key[3]=='com1_loc4_out'), label='46 Min', color='green')\n",
    "\n",
    "# Customize the plot\n",
    "ax.set_xlabel('Time Horizon')\n",
    "ax.set_ylabel('Transport level')\n",
    "ax.set_title('Transport between loc4 and loc5 for commodity 1')\n",
    "ax.legend()\n",
    "ax.plot(linewidth=0.5)\n",
    "plt.grid(alpha=0.3)\n",
    "plt.rcdefaults()\n",
    "# Show the plot\n",
    "plt.show()\n",
    "\n",
    "####################################################################################################################################################################################\n",
    "\n",
    "rc('font', **{'family': 'serif', 'serif': ['Computer Modern'], 'size': 12})\n",
    "rc('text', usetex=False)\n",
    "\n",
    "fig, ax = plt.subplots()\n",
    "\n",
    "# Plot data from the first dataset\n",
    "ax.plot(range(len(list(value for key, value in results_mincost.output['Exp'].items() if key[0]=='loc4' and key[1]=='loc7'and key[2]=='truck40_47'and key[3]=='com1_loc4_out'))), list(value for key, value in results_mincost.output['Exp'].items() if key[0]=='loc4' and key[1]=='loc7'and key[2]=='truck40_47'and key[3]=='com1_loc4_out'), label='Baseline', color='blue')\n",
    "\n",
    "ax.plot(range(len(list(value for key, value in results_mincost_2.output['Exp'].items() if key[0]=='loc4' and key[1]=='loc7'and key[2]=='truck40_47'and key[3]=='com1_loc4_out'))), list(value for key, value in results_mincost_2.output['Exp'].items() if key[0]=='loc4' and key[1]=='loc7'and key[2]=='truck40_47'and key[3]=='com1_loc4_out'), label='46 Min', color='green')\n",
    "\n",
    "# Customize the plot\n",
    "ax.set_xlabel('Time Horizon')\n",
    "ax.set_ylabel('Transport level')\n",
    "ax.set_title('Transport between loc4 and loc7 for commodity 1')\n",
    "ax.legend()\n",
    "ax.plot(linewidth=0.5)\n",
    "plt.grid(alpha=0.3)\n",
    "plt.rcdefaults()\n",
    "# Show the plot\n",
    "plt.show()\n",
    "\n",
    "####################################################################################################################################################################################\n",
    "\n",
    "rc('font', **{'family': 'serif', 'serif': ['Computer Modern'], 'size': 12})\n",
    "rc('text', usetex=False)\n",
    "\n",
    "fig, ax = plt.subplots()\n",
    "\n",
    "# Plot data from the first dataset\n",
    "ax.plot(range(len(list(value for key, value in results_mincost.output['Exp'].items() if key[0]=='loc6' and key[1]=='loc4'and key[2]=='truck50_64'and key[3]=='com1_loc6_out'))), list(value for key, value in results_mincost.output['Exp'].items() if key[0]=='loc6' and key[1]=='loc4'and key[2]=='truck50_64'and key[3]=='com1_loc6_out'), label='Baseline', color='blue')\n",
    "\n",
    "ax.plot(range(len(list(value for key, value in results_mincost_2.output['Exp'].items() if key[0]=='loc6' and key[1]=='loc4'and key[2]=='truck50_64'and key[3]=='com1_loc6_out'))), list(value for key, value in results_mincost_2.output['Exp'].items() if key[0]=='loc6' and key[1]=='loc4'and key[2]=='truck50_64'and key[3]=='com1_loc6_out'), label='46 Min', color='green')\n",
    "\n",
    "# Customize the plot\n",
    "ax.set_xlabel('Time Horizon')\n",
    "ax.set_ylabel('Transport level')\n",
    "ax.set_title('Transport between loc6 and loc4 for commodity 1')\n",
    "ax.legend()\n",
    "ax.plot(linewidth=0.5)\n",
    "plt.grid(alpha=0.3)\n",
    "plt.rcdefaults()\n",
    "# Show the plot\n",
    "plt.show()\n",
    "\n",
    "####################################################################################################################################################################################\n",
    "\n",
    "rc('font', **{'family': 'serif', 'serif': ['Computer Modern'], 'size': 12})\n",
    "rc('text', usetex=False)\n",
    "\n",
    "fig, ax = plt.subplots()\n",
    "\n",
    "# Plot data from the first dataset\n",
    "ax.plot(range(len(list(value for key, value in results_mincost.output['Exp'].items() if key[0]=='loc7' and key[1]=='loc5'and key[2]=='truck40_75'and key[3]=='com1_loc7_out'))), list(value for key, value in results_mincost.output['Exp'].items() if key[0]=='loc7' and key[1]=='loc5'and key[2]=='truck40_75'and key[3]=='com1_loc7_out'), label='Baseline', color='blue')\n",
    "\n",
    "ax.plot(range(len(list(value for key, value in results_mincost_2.output['Exp'].items() if key[0]=='loc7' and key[1]=='loc5'and key[2]=='truck40_75'and key[3]=='com1_loc7_out'))), list(value for key, value in results_mincost_2.output['Exp'].items() if key[0]=='loc7' and key[1]=='loc5'and key[2]=='truck40_75'and key[3]=='com1_loc7_out'), label='46 Min', color='green')\n",
    "\n",
    "# Customize the plot\n",
    "ax.set_xlabel('Time Horizon')\n",
    "ax.set_ylabel('Transport level')\n",
    "ax.set_title('Transport between loc7 and loc5 for commodity 1')\n",
    "ax.legend()\n",
    "ax.plot(linewidth=0.5)\n",
    "plt.grid(alpha=0.3)\n",
    "plt.rcdefaults()\n",
    "# Show the plot\n",
    "plt.show()"
   ],
   "metadata": {
    "collapsed": false
   },
   "id": "36d54854bd142983"
  },
  {
   "cell_type": "code",
   "execution_count": null,
   "outputs": [],
   "source": [],
   "metadata": {
    "collapsed": false
   },
   "id": "c2de9d3c8a9f6a2f"
  }
 ],
 "metadata": {
  "kernelspec": {
   "display_name": "Python 3",
   "language": "python",
   "name": "python3"
  },
  "language_info": {
   "codemirror_mode": {
    "name": "ipython",
    "version": 2
   },
   "file_extension": ".py",
   "mimetype": "text/x-python",
   "name": "python",
   "nbconvert_exporter": "python",
   "pygments_lexer": "ipython2",
   "version": "2.7.6"
  }
 },
 "nbformat": 4,
 "nbformat_minor": 5
}
