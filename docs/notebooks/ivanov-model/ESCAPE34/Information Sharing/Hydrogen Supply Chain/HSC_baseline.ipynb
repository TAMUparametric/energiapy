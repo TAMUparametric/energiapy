{
 "cells": [
  {
   "cell_type": "code",
   "execution_count": 3,
   "id": "initial_id",
   "metadata": {
    "collapsed": true,
    "ExecuteTime": {
     "end_time": "2024-02-22T22:18:17.734458Z",
     "start_time": "2024-02-22T22:18:10.200209Z"
    }
   },
   "outputs": [
    {
     "name": "stderr",
     "output_type": "stream",
     "text": [
      "/Users/shiv/PycharmProjects/energiapy/venv/lib/python3.9/site-packages/urllib3/__init__.py:34: NotOpenSSLWarning: urllib3 v2.0 only supports OpenSSL 1.1.1+, currently the 'ssl' module is compiled with 'LibreSSL 2.8.3'. See: https://github.com/urllib3/urllib3/issues/3020\n",
      "  warnings.warn(\n"
     ]
    }
   ],
   "source": [
    "import sys\n",
    "sys.path.append('../../src')\n",
    "from energiapy.components.result import Result\n",
    "import pandas\n",
    "from itertools import product\n",
    "from matplotlib import rc\n",
    "import matplotlib.pyplot as plt\n",
    "from energiapy.model.solve import solve\n",
    "from energiapy.plot.plot_results import CostY, CostX\n",
    "from energiapy.plot import plot_results, plot_scenario, plot_location\n",
    "from energiapy.utils.nsrdb_utils import fetch_nsrdb_data\n",
    "from energiapy.model.formulate import formulate, Constraints, Objective\n",
    "from energiapy.model.bounds import CapacityBounds\n",
    "from energiapy.utils.data_utils import get_data, make_henry_price_df, remove_outliers, load_results, calculate_hourly\n",
    "from energiapy.components.transport import Transport\n",
    "from energiapy.components.scenario import Scenario\n",
    "from energiapy.components.network import Network\n",
    "from energiapy.components.location import Location\n",
    "from energiapy.components.material import Material\n",
    "from energiapy.components.case_study import CaseStudy\n",
    "from energiapy.components.process import Process, VaryingProcess\n",
    "from energiapy.components.resource import Resource, VaryingResource\n",
    "from energiapy.components.temporal_scale import TemporalScale\n",
    "import numpy\n",
    "from energiapy.conversion.photovoltaic import solar_power_output\n",
    "from energiapy.conversion.windmill import wind_power_output\n",
    "from energiapy.aggregation.reduce_scenario import reduce_scenario, Clustermethod\n",
    "from energiapy.aggregation.ahc import agg_hierarchial_elbow, IncludeAHC, Fit"
   ]
  },
  {
   "cell_type": "code",
   "execution_count": 4,
   "outputs": [],
   "source": [
    "horizon = 1"
   ],
   "metadata": {
    "collapsed": false,
    "ExecuteTime": {
     "end_time": "2024-02-22T22:18:17.739478Z",
     "start_time": "2024-02-22T22:18:17.735360Z"
    }
   },
   "id": "fb697868abe9e3d7"
  },
  {
   "cell_type": "code",
   "execution_count": 4,
   "outputs": [],
   "source": [],
   "metadata": {
    "collapsed": false,
    "ExecuteTime": {
     "end_time": "2024-02-22T22:18:17.742145Z",
     "start_time": "2024-02-22T22:18:17.738516Z"
    }
   },
   "id": "382c75aecde4df0f"
  },
  {
   "cell_type": "code",
   "execution_count": 5,
   "outputs": [],
   "source": [
    "#San Diego data\n",
    "\n",
    "# fetch_nsrdb_data(attrs=['dni', 'dhi', 'wind_speed', 'ghi', 'air_temperature', 'dew_point', 'relative_humidity', 'surface_pressure'], year=2016 , state='California',\n",
    "#                                     county='San Diego', resolution='hourly', get='min-elevation')\n",
    "# weather_sandiego = pandas.concat([fetch_nsrdb_data(attrs=['dni', 'dhi', 'wind_speed', 'ghi', 'air_temperature', 'dew_point', 'relative_humidity', 'surface_pressure'], year=2016+i , state='California',\n",
    "#                                     county='San Diego', resolution='hourly', get='min-elevation')[1] for i in range(5)])\n",
    "# index = weather_sandiego.index\n",
    "# weather_sandiego.index = pandas.to_datetime(weather_sandiego.index, utc = True)\n",
    "# weather_sandiego.index = weather_sandiego.index.strftime('%m/%d/%Y, %r')\n",
    "# weather_sandiego = weather_sandiego[~weather_sandiego.index.str.contains('02/29')]"
   ],
   "metadata": {
    "collapsed": false,
    "ExecuteTime": {
     "end_time": "2024-02-22T22:18:17.745431Z",
     "start_time": "2024-02-22T22:18:17.741691Z"
    }
   },
   "id": "a7bbfc69eb9f0ef0"
  },
  {
   "cell_type": "code",
   "execution_count": 8,
   "outputs": [
    {
     "name": "stderr",
     "output_type": "stream",
     "text": [
      "/var/folders/00/0073xhnx2v32pnt2wb9lyttc0000gn/T/ipykernel_5945/2700607807.py:3: UserWarning: Could not infer format, so each element will be parsed individually, falling back to `dateutil`. To ensure parsing is consistent and as-expected, please specify a format.\n",
      "  weather_houston.index = pandas.to_datetime(weather_houston.index, utc = True)\n"
     ]
    }
   ],
   "source": [
    "coord_houston = (29.56999969482422, -95.05999755859375)\n",
    "weather_houston = pandas.read_csv('../../../data/weather_houston.csv', index_col=0)\n",
    "weather_houston.index = pandas.to_datetime(weather_houston.index, utc = True)"
   ],
   "metadata": {
    "collapsed": false,
    "ExecuteTime": {
     "end_time": "2024-02-22T22:18:52.216815Z",
     "start_time": "2024-02-22T22:18:50.279198Z"
    }
   },
   "id": "72e684aac2dbfd2f"
  },
  {
   "cell_type": "code",
   "execution_count": 9,
   "outputs": [],
   "source": [
    "solar_houston = solar_power_output(data= weather_houston, coord=coord_houston, sam = 'cecmod', module_params= 'Canadian_Solar_Inc__CS5P_220M', \n",
    "                                   inverter = 'cecinverter', inverter_params= 'ABB__MICRO_0_25_I_OUTD_US_208__208V_', \n",
    "                                   temperature_params= 'open_rack_glass_glass', aoi_model= 'no_loss', ac_model= 'sandia', spectral_model= 'no_loss')"
   ],
   "metadata": {
    "collapsed": false,
    "ExecuteTime": {
     "end_time": "2024-02-22T22:18:54.396399Z",
     "start_time": "2024-02-22T22:18:53.646609Z"
    }
   },
   "id": "e5133c45c2f17510"
  },
  {
   "cell_type": "code",
   "execution_count": 10,
   "outputs": [
    {
     "name": "stderr",
     "output_type": "stream",
     "text": [
      "/Users/shiv/PycharmProjects/energiapy/venv/lib/python3.9/site-packages/windpowerlib/wind_turbine.py:173: FutureWarning: Calling float on a single element Series is deprecated and will raise a TypeError in the future. Use float(ser.iloc[0]) instead\n",
      "  self.nominal_power = float(turbine_data[\"nominal_power\"])\n",
      "/Users/shiv/PycharmProjects/energiapy/venv/lib/python3.9/site-packages/windpowerlib/wind_turbine.py:175: FutureWarning: Calling float on a single element Series is deprecated and will raise a TypeError in the future. Use float(ser.iloc[0]) instead\n",
      "  self.rotor_diameter = float(turbine_data[\"rotor_diameter\"])\n"
     ]
    }
   ],
   "source": [
    "wind_houston = wind_power_output(data= weather_houston, roughness_length= 0.1, turbine_type= 'V100/1800', hub_height= 92, \n",
    "                                 wind_speed_model= 'logarithmic', density_model = 'ideal_gas', temperature_model = 'linear_gradient', \n",
    "                                 power_output_model = 'power_coefficient_curve', density_correction = True, obstacle_height = 0, \n",
    "                                 observation_height = 10)"
   ],
   "metadata": {
    "collapsed": false,
    "ExecuteTime": {
     "end_time": "2024-02-22T22:18:54.420715Z",
     "start_time": "2024-02-22T22:18:54.399923Z"
    }
   },
   "id": "7f37e633d607975e"
  },
  {
   "cell_type": "code",
   "execution_count": 11,
   "outputs": [],
   "source": [
    "ng_price_df = pandas.concat(\n",
    "    [make_henry_price_df(file_name='../../../data/Henry_Hub_Natural_Gas_Spot_Price_Daily.csv', year=2016 +i, stretch= True) for i in range(5)])"
   ],
   "metadata": {
    "collapsed": false,
    "ExecuteTime": {
     "end_time": "2024-02-22T22:19:01.391621Z",
     "start_time": "2024-02-22T22:19:00.999860Z"
    }
   },
   "id": "944de00f16a90bfc"
  },
  {
   "cell_type": "code",
   "execution_count": 13,
   "outputs": [
    {
     "name": "stderr",
     "output_type": "stream",
     "text": [
      "/var/folders/00/0073xhnx2v32pnt2wb9lyttc0000gn/T/ipykernel_5945/3202850368.py:2: UserWarning: Could not infer format, so each element will be parsed individually, falling back to `dateutil`. To ensure parsing is consistent and as-expected, please specify a format.\n",
      "  ercot.index = pandas.to_datetime(ercot.index, utc = True)\n"
     ]
    }
   ],
   "source": [
    "ercot = pandas.read_csv('../../../data/ercot.csv', index_col=0)\n",
    "ercot.index = pandas.to_datetime(ercot.index, utc = True)\n",
    "ercot.loc['2016-11-06 23:00:00'] = ercot.loc['2016-11-06 22:00:00'] #random missing value"
   ],
   "metadata": {
    "collapsed": false,
    "ExecuteTime": {
     "end_time": "2024-02-22T22:19:09.507115Z",
     "start_time": "2024-02-22T22:19:07.764135Z"
    }
   },
   "id": "67df639a1b5b5579"
  },
  {
   "cell_type": "code",
   "execution_count": 14,
   "outputs": [],
   "source": [
    "url = 'https://oedi-data-lake.s3.amazonaws.com/ATB/electricity/parquet/2022/ATBe.parquet'\n",
    "raw_data = pandas.read_parquet(url)\n",
    "raw_data = raw_data.astype(\n",
    "    dtype={\n",
    "        'core_metric_key': 'string',\n",
    "        'core_metric_parameter': 'string',\n",
    "        'core_metric_case': 'string',\n",
    "        'crpyears': 'string',\n",
    "        'technology': 'string',\n",
    "        'technology_alias': 'string',\n",
    "        'techdetail': 'string',\n",
    "        'display_name': 'string',\n",
    "        'scenario': 'string',\n",
    "        'units': 'string'\n",
    "    })"
   ],
   "metadata": {
    "collapsed": false,
    "ExecuteTime": {
     "end_time": "2024-02-22T22:19:12.796840Z",
     "start_time": "2024-02-22T22:19:09.834015Z"
    }
   },
   "id": "5edcb821f0659d0c"
  },
  {
   "cell_type": "code",
   "execution_count": 15,
   "outputs": [
    {
     "data": {
      "text/plain": "<StringArray>\n[                'NaturalGas_FE',    'Commercial Battery Storage',\n     'Pumped Storage Hydropower',   'Residential Battery Storage',\n 'Utility-Scale Battery Storage',                    'Hydropower',\n                      'Biopower',                           'CSP',\n                        'CommPV',               'DistributedWind',\n                    'Geothermal',                 'LandbasedWind',\n                  'OffShoreWind',                         'ResPV',\n                     'UtilityPV', 'Utility-Scale PV-Plus-Battery',\n                       'Nuclear',                       'Coal_FE',\n                           'AEO']\nLength: 19, dtype: string"
     },
     "execution_count": 15,
     "metadata": {},
     "output_type": "execute_result"
    }
   ],
   "source": [
    "raw_data['technology'].unique()"
   ],
   "metadata": {
    "collapsed": false,
    "ExecuteTime": {
     "end_time": "2024-02-22T22:19:13.364165Z",
     "start_time": "2024-02-22T22:19:13.349123Z"
    }
   },
   "id": "51deef5b79639d44"
  },
  {
   "cell_type": "code",
   "execution_count": 16,
   "outputs": [],
   "source": [
    "def atb_gttr(core_metric_parameters, core_metric_case, crpyear, technology, techdetail, scenario):\n",
    "    df_out = pandas.DataFrame()\n",
    "    for i in core_metric_parameters:\n",
    "        df = pandas.DataFrame(raw_data[\n",
    "            (raw_data.core_metric_parameter == i) &\n",
    "            (raw_data.core_metric_case == core_metric_case) &\n",
    "            (raw_data.crpyears == str(crpyear)) &\n",
    "            (raw_data.technology == technology) &\n",
    "            (raw_data.techdetail == techdetail) &\n",
    "            (raw_data.scenario == scenario)\n",
    "        ][['value']])\n",
    "        df = df.rename({'value': i}, axis='columns')\n",
    "        df = df.reset_index()\n",
    "        df_out = pandas.concat([df_out, df], axis='columns')\n",
    "        df_out = df_out.loc[:, ~df_out.columns.duplicated()].copy()\n",
    "        df_out = df_out.fillna(0)\n",
    "        df_out = df_out.drop(columns=['index'])\n",
    "    return df_out\n"
   ],
   "metadata": {
    "collapsed": false,
    "ExecuteTime": {
     "end_time": "2024-02-22T22:19:14.120203Z",
     "start_time": "2024-02-22T22:19:14.107133Z"
    }
   },
   "id": "b7147035593f4a9d"
  },
  {
   "cell_type": "code",
   "execution_count": 17,
   "outputs": [],
   "source": [
    "\n",
    "hig_trl_adv = [(1 - i/(31*15)) for i in range(31)]\n",
    "hig_trl_mod = [(1 - i/(31*10)) for i in range(31)]\n",
    "hig_trl_con = [(1 - i/(31*5)) for i in range(31)]\n",
    "\n",
    "med_trl_adv = [(1 - i/(31*40)) for i in range(31)]\n",
    "med_trl_mod = [(1 - i/(31*30)) for i in range(31)]\n",
    "med_trl_con = [(1 - i/(31*20)) for i in range(31)]\n",
    "\n",
    "low_trl_adv = [(1 - i/(31*70)) for i in range(31)]\n",
    "low_trl_mod = [(1 - i/(31*50)) for i in range(31)]\n",
    "low_trl_con = [(1 - i/(31*30)) for i in range(31)]\n",
    "\n",
    "hig_trl_adv_df = pandas.DataFrame(\n",
    "    data={'CAPEX': hig_trl_adv, 'Fixed O&M': hig_trl_adv, 'Variable O&M': hig_trl_adv})\n",
    "hig_trl_mod_df = pandas.DataFrame(\n",
    "    data={'CAPEX': hig_trl_mod, 'Fixed O&M': hig_trl_mod, 'Variable O&M': hig_trl_mod})\n",
    "hig_trl_con_df = pandas.DataFrame(\n",
    "    data={'CAPEX': hig_trl_con, 'Fixed O&M': hig_trl_con, 'Variable O&M': hig_trl_con})\n",
    "med_trl_adv_df = pandas.DataFrame(\n",
    "    data={'CAPEX': med_trl_adv, 'Fixed O&M': med_trl_adv, 'Variable O&M': med_trl_adv})\n",
    "med_trl_mod_df = pandas.DataFrame(\n",
    "    data={'CAPEX': med_trl_mod, 'Fixed O&M': med_trl_mod, 'Variable O&M': med_trl_mod})\n",
    "med_trl_con_df = pandas.DataFrame(\n",
    "    data={'CAPEX': med_trl_con, 'Fixed O&M': med_trl_con, 'Variable O&M': med_trl_con})\n",
    "low_trl_adv_df = pandas.DataFrame(\n",
    "    data={'CAPEX': low_trl_adv, 'Fixed O&M': low_trl_adv, 'Variable O&M': low_trl_adv})\n",
    "low_trl_mod_df = pandas.DataFrame(\n",
    "    data={'CAPEX': low_trl_mod, 'Fixed O&M': low_trl_mod, 'Variable O&M': low_trl_mod})\n",
    "low_trl_con_df = pandas.DataFrame(\n",
    "    data={'CAPEX': low_trl_con, 'Fixed O&M': low_trl_con, 'Variable O&M': low_trl_con})\n",
    "constant_df = pandas.DataFrame(\n",
    "    data={'CAPEX': [1]*31, 'Fixed O&M': [1]*31, 'Variable O&M': [1]*31})\n",
    "\n",
    "\n",
    "param_list = ['CAPEX', 'Fixed O&M', 'Variable O&M']\n",
    "advanced_dict = {\n",
    "    'RPV': atb_gttr(core_metric_parameters=param_list, core_metric_case='Market', crpyear=30, technology='ResPV', techdetail='Class5', scenario='Advanced'),\n",
    "    'PV': atb_gttr(core_metric_parameters=param_list, core_metric_case='Market', crpyear=30, technology='UtilityPV', techdetail='Class1', scenario='Advanced'),\n",
    "    'WF': atb_gttr(core_metric_parameters=param_list, core_metric_case='Market', crpyear=30, technology='LandbasedWind', techdetail='Class1', scenario='Advanced'),\n",
    "    'LiI': atb_gttr(core_metric_parameters=param_list, core_metric_case='R&D', crpyear=30, technology='Commercial Battery Storage', techdetail='8Hr Battery Storage', scenario='Advanced'),\n",
    "    'LII_discharge': constant_df,\n",
    "    'PSH': atb_gttr(core_metric_parameters=param_list, core_metric_case='Market', crpyear=30, technology='Pumped Storage Hydropower', techdetail='NatlClass10', scenario='Advanced'),\n",
    "    'PSH_discharge': constant_df,\n",
    "    'ASMR': atb_gttr(core_metric_parameters=param_list, core_metric_case='Market', crpyear=30, technology='Nuclear', techdetail='NuclearSMR', scenario='Moderate'),\n",
    "    'NPP': atb_gttr(core_metric_parameters=param_list, core_metric_case='Market', crpyear=30, technology='Nuclear', techdetail='Nuclear', scenario='Advanced'),\n",
    "    'NGCC': atb_gttr(core_metric_parameters=param_list, core_metric_case='Market', crpyear=30, technology='NaturalGas_FE', techdetail='CCCCSHFrame95%', scenario='Conservative'),\n",
    "    'SMR': hig_trl_adv_df,\n",
    "    'SMRH': hig_trl_adv_df,\n",
    "    'AqOff': hig_trl_adv_df,\n",
    "    'DAC': low_trl_adv_df,\n",
    "    'PEM': low_trl_adv_df,\n",
    "    'H2_Comp': med_trl_adv_df,\n",
    "}\n",
    "\n",
    "\n",
    "moderate_dict = {\n",
    "    'PV': atb_gttr(core_metric_parameters=param_list, core_metric_case='Market', crpyear=30, technology='UtilityPV', techdetail='Class1', scenario='Moderate'),\n",
    "    'WF': atb_gttr(core_metric_parameters=param_list, core_metric_case='Market', crpyear=30, technology='LandbasedWind', techdetail='Class1', scenario='Moderate'),\n",
    "    'LiI': atb_gttr(core_metric_parameters=param_list, core_metric_case='R&D', crpyear=30, technology='Commercial Battery Storage', techdetail='8Hr Battery Storage', scenario='Moderate'),\n",
    "    'LII_discharge': constant_df,\n",
    "    'PSH': atb_gttr(core_metric_parameters=param_list, core_metric_case='Market', crpyear=30, technology='Pumped Storage Hydropower', techdetail='NatlClass10', scenario='Moderate'),\n",
    "    'PSH_discharge': constant_df,\n",
    "    'ASMR': atb_gttr(core_metric_parameters=param_list, core_metric_case='Market', crpyear=30, technology='Nuclear', techdetail='NuclearSMR', scenario='Moderate'),\n",
    "    'NPP': atb_gttr(core_metric_parameters=param_list, core_metric_case='Market', crpyear=30, technology='Nuclear', techdetail='Nuclear', scenario='Moderate'),\n",
    "    'NGCC': atb_gttr(core_metric_parameters=param_list, core_metric_case='Market', crpyear=30, technology='NaturalGas_FE', techdetail='CCCCSHFrame95%', scenario='Conservative'),\n",
    "    'SMR': hig_trl_mod_df,\n",
    "    'SMRH': hig_trl_mod_df,\n",
    "    'AqOff': hig_trl_mod_df,\n",
    "    'DAC': low_trl_mod_df,\n",
    "    'PEM': low_trl_mod_df,\n",
    "    'H2_Comp': med_trl_mod_df,\n",
    "}\n",
    "\n",
    "\n",
    "conservative_dict = {\n",
    "    'PV': atb_gttr(core_metric_parameters=param_list, core_metric_case='Market', crpyear=30, technology='UtilityPV', techdetail='Class1', scenario='Conservative'),\n",
    "    'WF': atb_gttr(core_metric_parameters=param_list, core_metric_case='Market', crpyear=30, technology='LandbasedWind', techdetail='Class1', scenario='Conservative'),\n",
    "    'LiI': atb_gttr(core_metric_parameters=param_list, core_metric_case='R&D', crpyear=30, technology='Commercial Battery Storage', techdetail='8Hr Battery Storage', scenario='Conservative'),\n",
    "    'LII_discharge': constant_df,\n",
    "    'PSH': atb_gttr(core_metric_parameters=param_list, core_metric_case='Market', crpyear=30, technology='Pumped Storage Hydropower', techdetail='NatlClass10', scenario='Conservative'),\n",
    "    'PSH_discharge': constant_df,\n",
    "    # no cons, adv\n",
    "    'ASMR': atb_gttr(core_metric_parameters=param_list, core_metric_case='Market', crpyear=30, technology='Nuclear', techdetail='NuclearSMR', scenario='Moderate'),\n",
    "    'NPP': atb_gttr(core_metric_parameters=param_list, core_metric_case='Market', crpyear=30, technology='Nuclear', techdetail='Nuclear', scenario='Conservative'),\n",
    "    'NGCC': atb_gttr(core_metric_parameters=param_list, core_metric_case='Market', crpyear=30, technology='NaturalGas_FE', techdetail='CCCCSHFrame95%', scenario='Conservative'),\n",
    "    'SMR': hig_trl_con_df,\n",
    "    'SMRH': hig_trl_con_df,\n",
    "    'AqOff': hig_trl_con_df,\n",
    "    'DAC': low_trl_con_df,\n",
    "    'PEM': low_trl_con_df,\n",
    "    'H2_Comp': med_trl_con_df,\n",
    "}\n"
   ],
   "metadata": {
    "collapsed": false,
    "ExecuteTime": {
     "end_time": "2024-02-22T22:19:19.528429Z",
     "start_time": "2024-02-22T22:19:14.733446Z"
    }
   },
   "id": "5eb4152ee082fc59"
  },
  {
   "cell_type": "code",
   "execution_count": 18,
   "outputs": [],
   "source": [
    "scales = TemporalScale(discretization_list=[horizon, 365, 24])"
   ],
   "metadata": {
    "collapsed": false,
    "ExecuteTime": {
     "end_time": "2024-02-22T22:19:19.534750Z",
     "start_time": "2024-02-22T22:19:19.528695Z"
    }
   },
   "id": "f1dc46b7300693a2"
  },
  {
   "cell_type": "code",
   "execution_count": 19,
   "outputs": [],
   "source": [
    "bigM = 10**5\n",
    "smallM = 10"
   ],
   "metadata": {
    "collapsed": false,
    "ExecuteTime": {
     "end_time": "2024-02-22T22:19:19.534964Z",
     "start_time": "2024-02-22T22:19:19.531973Z"
    }
   },
   "id": "4754cd145efa4d7b"
  },
  {
   "cell_type": "code",
   "execution_count": 20,
   "outputs": [],
   "source": [
    "credit = {'DAC': {0: 31.77, 1: 31.77, 2: 31.77, 3: 31.77, 4: 31.77, 5: 50.00, 6: 50.00, 7: 50.00, 8: 50.00, 9: 50.00},\n",
    "          'AqOff': {0: 20.22, 1: 20.22, 2: 20.22, 3: 20.22, 4: 20.22, 5: 35.00, 6: 35.00, 7: 35.00, 8: 35.00, 9: 35.00}\n",
    "}"
   ],
   "metadata": {
    "collapsed": false,
    "ExecuteTime": {
     "end_time": "2024-02-22T22:19:19.540839Z",
     "start_time": "2024-02-22T22:19:19.536063Z"
    }
   },
   "id": "585f534b98b2d048"
  },
  {
   "cell_type": "code",
   "execution_count": 25,
   "outputs": [],
   "source": [
    "def model(name: str, year:int, cost_dict:dict, credit: dict = None, pathway: str = None):\n",
    "    \n",
    "    if pathway is None:\n",
    "        pathway = 'full'\n",
    "    \n",
    "    #*---------------- Resources---------------------------------\n",
    "\n",
    "    Solar = Resource(name='Solar', cons_max=100, basis='MW', label='Solar Power')\n",
    "\n",
    "    Wind = Resource(name='Wind', cons_max=100, basis='MW', label='Wind Power')\n",
    "\n",
    "    Power = Resource(name='Power', basis='MW', label='Power generated')#, demand = True)\n",
    "\n",
    "    Uranium = Resource(name='Uranium', cons_max=100,\n",
    "                    price=42.70/(250/2), basis='kg', label='Uranium')\n",
    "\n",
    "    H2 = Resource(name='H2', basis='tons', label='Hydrogen')\n",
    "\n",
    "    H2_C = Resource(name='H2(C)', basis='tons', label='Hydrogen(C)', demand=True, revenue= 0.005)\n",
    "\n",
    "    CO2_AQoff = Resource(name='CO2_AQoff', basis='tons',\n",
    "                        label='Carbon dioxide - sequestered', sell=True)\n",
    "\n",
    "    H2O = Resource(name='H2O', cons_max=1000,\n",
    "                price=3.00, basis='tons', label='Water', block='Resource')\n",
    "\n",
    "    CH4 = Resource(name='CH4', cons_max=1000, price=max(ng_price_df['CH4'])*1000, basis='tons',\n",
    "                label='Natural gas', varying=[VaryingResource.DETERMINISTIC_PRICE])\n",
    "\n",
    "    CO2 = Resource(name='CO2', basis='tons',\n",
    "                label='Carbon dioxide', block='Resource')\n",
    "\n",
    "    CO2_Vent = Resource(name='CO2_Vent', sell=True, basis='tons',\n",
    "                        label='Carbon dioxide - Vented')\n",
    "\n",
    "    O2 = Resource(name='O2', sell=True, basis='tons', label='Oxygen')\n",
    "\n",
    "    CO2_DAC = Resource(name='CO2_DAC', basis='tons',\n",
    "                    label='Carbon dioxide - captured')\n",
    "\n",
    "    LiI_Power = Resource(name='LiI_Power', basis='MW',\n",
    "                        label='Power in LiI', store_max=10000, store_min=smallM)\n",
    "\n",
    "    PSH_Power = Resource(name='PSH_Power', basis='MW',\n",
    "                        label='Power in PSH', store_max=10000, store_min=smallM)\n",
    "\n",
    "    #*---------------- Processes---------------------------------\n",
    "\n",
    "\n",
    "    PEM = Process(name='PEM', conversion={Power: -1, H2: 0.3537, O2: 2.8302, H2O: -3.1839}, capex= cost_dict['PEM']['CAPEX'][year]*1.55*10**6, \n",
    "                 fopex=0, vopex=0, prod_max=100, prod_min = 0, basis = 'tons', label = 'PEM' )\n",
    "\n",
    "    # LiI = Process(name='LiI', storage=Power, capex=1302182, fopex=41432, vopex=2000,\n",
    "    #             prod_max=100, prod_min=0, store_max=10000, label='Lithium-ion battery', basis='MW')\n",
    "\n",
    "\n",
    "    LiI = Process(name='LiI', conversion={Power: -1, LiI_Power: 1}, capex= cost_dict['LiI']['CAPEX'][year]*1000, \n",
    "                 fopex=cost_dict['LiI']['Fixed O&M'][year]*1000, vopex=cost_dict['LiI']['Variable O&M'][year]*1000,\n",
    "                store_max=10000, store_min=smallM, prod_max=bigM, prod_min=smallM, label='Lithium-ion battery', basis='MW', block='energy_storage')\n",
    "\n",
    "    LiI_discharge = Process(name='LiI', conversion={Power: 1, LiI_Power: -1}, capex=0.1,\n",
    "                            fopex=0.01, vopex=0, prod_max=bigM, prod_min=smallM,  label='Lithium-ion battery (d)', basis='MW')\n",
    "\n",
    "    WF = Process(name='WF', conversion={Wind: -1, Power: 1}, capex= cost_dict['WF']['CAPEX'][year]*1000, \n",
    "                 fopex=cost_dict['WF']['Fixed O&M'][year]*1000, vopex=cost_dict['WF']['Variable O&M'][year]*1000, land = 10800/1800,\n",
    "                prod_max=100, prod_min=0, label='Wind mill array', varying=[VaryingProcess.DETERMINISTIC_CAPACITY], basis='MW')\n",
    "\n",
    "    PV = Process(name='PV', conversion={Solar: -1, Power: 1}, capex= cost_dict['PV']['CAPEX'][year]*1000, \n",
    "                 fopex=cost_dict['PV']['Fixed O&M'][year]*1000, vopex=cost_dict['PV']['Variable O&M'][year]*1000,  land = 10000/1800,\n",
    "                prod_max=100, prod_min=0,  varying= [VaryingProcess.DETERMINISTIC_CAPACITY], label='Solar PV', basis='MW')\n",
    "\n",
    "    H2_Comp = Process(name='H2_Comp', conversion={Power: -0.417, H2_C: 1, H2: -1}, capex= cost_dict['H2_Comp']['CAPEX'][year]*1.6 *\n",
    "                 10**6, fopex= 0, vopex= 0, prod_max=100, prod_min=0,  label='Hydrogen Compression')\n",
    "\n",
    "    SMRH = Process(name='SMRH', conversion={Power: -1.11, CH4: -3.76, H2O: -23.7, H2: 1, CO2_Vent: 1.03, CO2: 9.332}, capex= cost_dict['SMRH']['CAPEX'][year]*252000, \n",
    "                 fopex=cost_dict['SMRH']['Fixed O&M'][year]*945000, vopex=cost_dict['SMRH']['Variable O&M'][year]*51.5,\n",
    "                prod_max=bigM, prod_min=smallM,  label='Steam methane reforming + CCUS', block='h2_prod')\n",
    "\n",
    "    NGCC = Process(name='NGCC', conversion={Power: 1, CH4: -0.108, CO2_Vent: 0.297*0.05, CO2: 0.297 *\n",
    "                0.95},capex= cost_dict['NGCC']['CAPEX'][year]*1000, \n",
    "                 fopex=cost_dict['NGCC']['Fixed O&M'][year]*1000, vopex=cost_dict['NGCC']['Variable O&M'][year]*1000, prod_max=bigM, prod_min=smallM,  label='NGCC + 95% CC', block='power_gen')\n",
    "\n",
    "\n",
    "    NG = Process(name='NG', conversion={Power: 1, CH4: -0.108, CO2_Vent: 0.297},capex= 0.3*cost_dict['NGCC']['CAPEX'][year]*1000, \n",
    "                 fopex= 0.3*cost_dict['NGCC']['Fixed O&M'][year]*1000, vopex= 0.3*cost_dict['NGCC']['Variable O&M'][year]*1000, prod_max=bigM, prod_min=smallM,  label='NGCC + 95% CC', block='power_gen')\n",
    "\n",
    "\n",
    "    SMR = Process(name='SMR', capex= cost_dict['SMR']['CAPEX'][year]*240000, \n",
    "                 fopex=cost_dict['SMR']['Fixed O&M'][year]*800000, vopex=cost_dict['SMR']['Variable O&M'][year]*30,  conversion={\n",
    "                Power: -1.11, CH4: -3.76, H2O: -23.7, H2: 1, CO2_Vent: 9.4979}, prod_max=bigM, prod_min=0.01,  label='Steam methane reforming', block='h2_prod')\n",
    "\n",
    "\n",
    "    PSH = Process(name='PSH', conversion={Power: -1, PSH_Power: 1}, capex= cost_dict['PSH']['CAPEX'][year]*1000, \n",
    "                 fopex=cost_dict['PSH']['Fixed O&M'][year]*1000, vopex=cost_dict['PSH']['Variable O&M'][year]*1000, prod_max=bigM, prod_min=smallM, store_min=smallM, store_max=1000, label='Pumped storage hydropower', basis='MW', block='energy_storage')\n",
    "\n",
    "    PSH_discharge = Process(name='PSH_discharge', conversion={Power: 1, PSH_Power: -1},  capex=0.1,\n",
    "                            fopex=0.01, vopex=0, prod_max=bigM, prod_min=smallM,  label='Pumped storage hydropower (d)', basis='MW')\n",
    "\n",
    "    ASMR = Process(name='ASMR', conversion={Uranium: -4.17*10**(-5), H2O: -3.364, Power: 1}, capex= cost_dict['ASMR']['CAPEX'][year]*1000, \n",
    "                 fopex=cost_dict['ASMR']['Fixed O&M'][year]*1000, vopex=cost_dict['ASMR']['Variable O&M'][year]*1000, prod_max=bigM, prod_min=smallM, label='Small modular reactors (SMRs)', block='power_gen')\n",
    "\n",
    "    AqOff = Process(name='AqOff', conversion={Power: -1.28, CO2_AQoff: 1, CO2: -1}, capex= cost_dict['AqOff']['CAPEX'][year]*552000, \n",
    "                fopex=0, vopex=cost_dict['AqOff']['Variable O&M'][year]*4.140, prod_max=bigM, prod_min=smallM,\n",
    "                label='Offshore aquifer CO2 sequestration (SMR)', block='ccus')\n",
    "    \n",
    "    DAC = Process(name='DAC', capex= cost_dict['DAC']['CAPEX'][year]*1000, \n",
    "                fopex=cost_dict['DAC']['Fixed O&M'][year]*1000, vopex=cost_dict['DAC']['Variable O&M'][year]*1000, conversion={\n",
    "                Power: -0.193, H2O: -4.048, CO2_DAC: 1}, prod_max=bigM, prod_min=smallM,  label='Direct air capture', block='ccus')\n",
    "\n",
    "    \n",
    "    if pathway == 'full':\n",
    "        \n",
    "        process_set = {LiI, WF, ASMR, PEM, H2_Comp, NGCC, AqOff, PSH, SMR, SMRH, PV}\n",
    "    \n",
    "    if pathway == 'green':\n",
    "        \n",
    "        process_set = {LiI, WF, ASMR, PEM, H2_Comp, PSH, PV}\n",
    "    \n",
    "    if pathway == 'blue':\n",
    "         \n",
    "        process_set = {LiI, WF, H2_Comp, NGCC, AqOff, PSH, SMRH, PV}\n",
    "    \n",
    "    if pathway == 'grey':\n",
    "        \n",
    "        process_set = {LiI, H2_Comp, NG, PSH, SMR}\n",
    "    \n",
    "    #*---------------- Location---------------------------------\n",
    "    \n",
    "    if credit is not None:\n",
    "        houston= Location(name='HO', processes=process_set, capacity_factor={PV: solar_houston[:8760*horizon], WF: wind_houston[:8760*horizon]}, price_factor={\n",
    "                   CH4: ng_price_df[:8760*horizon]}, scales=scales, label='Houston (conservative)', expenditure_scale_level=0, demand_scale_level=2, capacity_scale_level=2, \n",
    "                          price_scale_level=2, land_cost = 10000, credit = {AqOff: credit['AqOff'][year], DAC: credit['DAC'][year]})\n",
    "    else:\n",
    "        houston= Location(name='HO', processes=process_set, capacity_factor={PV: solar_houston[:8760*horizon], WF: wind_houston[:8760*horizon]}, price_factor={\n",
    "                   CH4: ng_price_df[:8760*horizon]}, scales=scales, label='Houston (conservative)', expenditure_scale_level=0, demand_scale_level=2, capacity_scale_level=2, price_scale_level=2, land_cost = 10000)\n",
    "\n",
    "    #*---------------- Scenario---------------------------------\n",
    "    \n",
    "    scenario = Scenario(name=name, network=houston, scales=scales,  expenditure_scale_level=0, scheduling_scale_level=2,\n",
    "                    network_scale_level=0, demand_scale_level=1, purchase_scale_level=2, capacity_scale_level = 2, label='full_case', demand={houston: {H2_C: 0.2740}}, annualization_factor = 0.1)\n",
    "\n",
    "    scenario_reduced =  reduce_scenario(scenario=scenario, periods=40, scale_level=1, method=Clustermethod.AHC, include = [IncludeAHC.CAPACITY, IncludeAHC.PRICE])\n",
    "\n",
    "    \n",
    "    return scenario_reduced\n",
    "\n"
   ],
   "metadata": {
    "collapsed": false,
    "ExecuteTime": {
     "end_time": "2024-02-23T15:30:26.083573Z",
     "start_time": "2024-02-23T15:30:26.066925Z"
    }
   },
   "id": "a3b21441eae34993"
  },
  {
   "cell_type": "code",
   "execution_count": null,
   "outputs": [],
   "source": [],
   "metadata": {
    "collapsed": false
   },
   "id": "32bdd2781adaf3ee"
  },
  {
   "cell_type": "code",
   "execution_count": 26,
   "outputs": [],
   "source": [
    "span_ = 10"
   ],
   "metadata": {
    "collapsed": false,
    "ExecuteTime": {
     "end_time": "2024-02-23T15:30:26.910138Z",
     "start_time": "2024-02-23T15:30:26.905326Z"
    }
   },
   "id": "c9f7d66fec3738e"
  },
  {
   "cell_type": "code",
   "execution_count": 27,
   "outputs": [],
   "source": [
    "moderate_credit = CaseStudy(name = 'moderate_credit', scenarios= [model(name = f'scenario{i}', year= i, cost_dict= moderate_dict, credit = credit) for i in range(span_)])\n",
    "moderate_green = CaseStudy(name = 'moderate_green', scenarios= [model(name = f'scenario{i}', year= i, cost_dict= moderate_dict, pathway = 'green') for i in range(span_)])\n",
    "moderate_grey = CaseStudy(name = 'moderate_grey', scenarios= [model(name = f'scenario{i}', year= i, cost_dict= moderate_dict, pathway = 'grey') for i in range(span_)])\n",
    "moderate_blue = CaseStudy(name = 'moderate_blue', scenarios= [model(name = f'scenario{i}', year= i, cost_dict= moderate_dict, pathway = 'blue') for i in range(span_)])\n",
    "\n",
    "advanced = CaseStudy(name = 'advanced', scenarios= [model(name = f'scenario{i}', year= i, cost_dict= advanced_dict) for i in range(span_)])\n",
    "conservative = CaseStudy(name = 'conservative', scenarios= [model(name = f'scenario{i}', year= i, cost_dict=  conservative_dict) for i in range(span_)])\n",
    "moderate = CaseStudy(name = 'moderate', scenarios= [model(name = f'scenario{i}', year= i, cost_dict= moderate_dict) for i in range(span_)])\n"
   ],
   "metadata": {
    "collapsed": false,
    "ExecuteTime": {
     "end_time": "2024-02-23T15:30:50.741336Z",
     "start_time": "2024-02-23T15:30:27.106625Z"
    }
   },
   "id": "3391e866b0d4ad65"
  },
  {
   "cell_type": "code",
   "execution_count": 28,
   "outputs": [
    {
     "name": "stderr",
     "output_type": "stream",
     "text": [
      "ERROR:pyomo.core:Rule failed when generating expression for Constraint constraint_storage_cost with index ('HO', 'LiI_Power', 0):\n",
      "KeyError: 'LiI_Power'\n",
      "ERROR:pyomo.core:Constructing component 'constraint_storage_cost' from data=None failed:\n",
      "KeyError: 'LiI_Power'\n"
     ]
    },
    {
     "name": "stdout",
     "output_type": "stream",
     "text": [
      "constraint process capex\n",
      "constraint process fopex\n",
      "constraint process vopex\n",
      "constraint process incidental\n"
     ]
    },
    {
     "ename": "KeyError",
     "evalue": "'LiI_Power'",
     "output_type": "error",
     "traceback": [
      "\u001B[0;31m---------------------------------------------------------------------------\u001B[0m",
      "\u001B[0;31mKeyError\u001B[0m                                  Traceback (most recent call last)",
      "Cell \u001B[0;32mIn[28], line 1\u001B[0m\n\u001B[0;32m----> 1\u001B[0m \u001B[43mmoderate_credit\u001B[49m\u001B[38;5;241;43m.\u001B[39;49m\u001B[43mformulate\u001B[49m\u001B[43m(\u001B[49m\u001B[43mconstraints\u001B[49m\u001B[38;5;241;43m=\u001B[39;49m\u001B[43m{\u001B[49m\u001B[43mConstraints\u001B[49m\u001B[38;5;241;43m.\u001B[39;49m\u001B[43mCOST\u001B[49m\u001B[43m,\u001B[49m\u001B[43m \u001B[49m\u001B[43mConstraints\u001B[49m\u001B[38;5;241;43m.\u001B[39;49m\u001B[43mINVENTORY\u001B[49m\u001B[43m,\u001B[49m\u001B[43m \u001B[49m\u001B[43mConstraints\u001B[49m\u001B[38;5;241;43m.\u001B[39;49m\u001B[43mPRODUCTION\u001B[49m\u001B[43m,\u001B[49m\n\u001B[1;32m      2\u001B[0m \u001B[43m                      \u001B[49m\u001B[43mConstraints\u001B[49m\u001B[38;5;241;43m.\u001B[39;49m\u001B[43mRESOURCE_BALANCE\u001B[49m\u001B[43m,\u001B[49m\u001B[43m \u001B[49m\u001B[43mConstraints\u001B[49m\u001B[38;5;241;43m.\u001B[39;49m\u001B[43mNETWORK\u001B[49m\u001B[43m,\u001B[49m\u001B[43m \u001B[49m\u001B[43mConstraints\u001B[49m\u001B[38;5;241;43m.\u001B[39;49m\u001B[43mDEMAND\u001B[49m\u001B[43m,\u001B[49m\u001B[43m \u001B[49m\u001B[43mConstraints\u001B[49m\u001B[38;5;241;43m.\u001B[39;49m\u001B[43mLAND\u001B[49m\u001B[43m,\u001B[49m\u001B[43m \u001B[49m\u001B[43mConstraints\u001B[49m\u001B[38;5;241;43m.\u001B[39;49m\u001B[43mCREDIT\u001B[49m\u001B[43m}\u001B[49m\u001B[43m,\u001B[49m\u001B[43m \u001B[49m\u001B[43mobjective\u001B[49m\u001B[38;5;241;43m=\u001B[39;49m\u001B[43mObjective\u001B[49m\u001B[38;5;241;43m.\u001B[39;49m\u001B[43mCOST\u001B[49m\u001B[43m)\u001B[49m\n",
      "File \u001B[0;32m~/PycharmProjects/energiapy/src/energiapy/components/case_study.py:88\u001B[0m, in \u001B[0;36mCaseStudy.formulate\u001B[0;34m(self, constraints, objective, write_lpfile, gwp, land_restriction, gwp_reduction_pct, model_class, objective_resource, inventory_zero)\u001B[0m\n\u001B[1;32m     65\u001B[0m \u001B[38;5;28;01mdef\u001B[39;00m \u001B[38;5;21mformulate\u001B[39m(\u001B[38;5;28mself\u001B[39m, constraints: Set[Constraints] \u001B[38;5;241m=\u001B[39m \u001B[38;5;28;01mNone\u001B[39;00m, objective: Objective \u001B[38;5;241m=\u001B[39m \u001B[38;5;28;01mNone\u001B[39;00m,\n\u001B[1;32m     66\u001B[0m               write_lpfile: \u001B[38;5;28mbool\u001B[39m \u001B[38;5;241m=\u001B[39m \u001B[38;5;28;01mFalse\u001B[39;00m, gwp: \u001B[38;5;28mfloat\u001B[39m \u001B[38;5;241m=\u001B[39m \u001B[38;5;28;01mNone\u001B[39;00m, land_restriction: \u001B[38;5;28mfloat\u001B[39m \u001B[38;5;241m=\u001B[39m \u001B[38;5;28;01mNone\u001B[39;00m,\n\u001B[1;32m     67\u001B[0m               gwp_reduction_pct: \u001B[38;5;28mfloat\u001B[39m \u001B[38;5;241m=\u001B[39m \u001B[38;5;28;01mNone\u001B[39;00m, model_class: ModelClass \u001B[38;5;241m=\u001B[39m ModelClass\u001B[38;5;241m.\u001B[39mMIP, objective_resource: Resource \u001B[38;5;241m=\u001B[39m \u001B[38;5;28;01mNone\u001B[39;00m,\n\u001B[1;32m     68\u001B[0m               inventory_zero: Dict[Location, Dict[Tuple[Process, Resource], \u001B[38;5;28mfloat\u001B[39m]] \u001B[38;5;241m=\u001B[39m \u001B[38;5;28;01mNone\u001B[39;00m) \u001B[38;5;241m-\u001B[39m\u001B[38;5;241m>\u001B[39m Dict[\u001B[38;5;28mstr\u001B[39m, ConcreteModel]:\n\u001B[1;32m     69\u001B[0m \u001B[38;5;250m    \u001B[39m\u001B[38;5;124;03m\"\"\"formulates a pyomo instance for all scenarios in a case study\u001B[39;00m\n\u001B[1;32m     70\u001B[0m \n\u001B[1;32m     71\u001B[0m \n\u001B[0;32m   (...)\u001B[0m\n\u001B[1;32m     85\u001B[0m \u001B[38;5;124;03m        Dict[str, ConcreteModel]: Dictionary of pyomo instance\u001B[39;00m\n\u001B[1;32m     86\u001B[0m \u001B[38;5;124;03m    \"\"\"\u001B[39;00m\n\u001B[0;32m---> 88\u001B[0m     \u001B[38;5;28mself\u001B[39m\u001B[38;5;241m.\u001B[39mformulations \u001B[38;5;241m=\u001B[39m {i\u001B[38;5;241m.\u001B[39mname: formulate_casestudy(scenario\u001B[38;5;241m=\u001B[39mi, constraints\u001B[38;5;241m=\u001B[39mconstraints, objective\u001B[38;5;241m=\u001B[39mobjective,\n\u001B[1;32m     89\u001B[0m                                                      write_lpfile\u001B[38;5;241m=\u001B[39mwrite_lpfile, gwp\u001B[38;5;241m=\u001B[39mgwp, land_restriction\u001B[38;5;241m=\u001B[39mland_restriction,\n\u001B[1;32m     90\u001B[0m                                                      gwp_reduction_pct\u001B[38;5;241m=\u001B[39mgwp_reduction_pct, model_class\u001B[38;5;241m=\u001B[39mmodel_class, objective_resource\u001B[38;5;241m=\u001B[39mobjective_resource,\n\u001B[1;32m     91\u001B[0m                                                      inventory_zero\u001B[38;5;241m=\u001B[39minventory_zero) \u001B[38;5;28;01mfor\u001B[39;00m i \u001B[38;5;129;01min\u001B[39;00m \u001B[38;5;28mself\u001B[39m\u001B[38;5;241m.\u001B[39mscenarios}\n\u001B[1;32m     93\u001B[0m     \u001B[38;5;28;01mreturn\u001B[39;00m \u001B[38;5;28mself\u001B[39m\u001B[38;5;241m.\u001B[39mformulations\n",
      "File \u001B[0;32m~/PycharmProjects/energiapy/src/energiapy/components/case_study.py:88\u001B[0m, in \u001B[0;36m<dictcomp>\u001B[0;34m(.0)\u001B[0m\n\u001B[1;32m     65\u001B[0m \u001B[38;5;28;01mdef\u001B[39;00m \u001B[38;5;21mformulate\u001B[39m(\u001B[38;5;28mself\u001B[39m, constraints: Set[Constraints] \u001B[38;5;241m=\u001B[39m \u001B[38;5;28;01mNone\u001B[39;00m, objective: Objective \u001B[38;5;241m=\u001B[39m \u001B[38;5;28;01mNone\u001B[39;00m,\n\u001B[1;32m     66\u001B[0m               write_lpfile: \u001B[38;5;28mbool\u001B[39m \u001B[38;5;241m=\u001B[39m \u001B[38;5;28;01mFalse\u001B[39;00m, gwp: \u001B[38;5;28mfloat\u001B[39m \u001B[38;5;241m=\u001B[39m \u001B[38;5;28;01mNone\u001B[39;00m, land_restriction: \u001B[38;5;28mfloat\u001B[39m \u001B[38;5;241m=\u001B[39m \u001B[38;5;28;01mNone\u001B[39;00m,\n\u001B[1;32m     67\u001B[0m               gwp_reduction_pct: \u001B[38;5;28mfloat\u001B[39m \u001B[38;5;241m=\u001B[39m \u001B[38;5;28;01mNone\u001B[39;00m, model_class: ModelClass \u001B[38;5;241m=\u001B[39m ModelClass\u001B[38;5;241m.\u001B[39mMIP, objective_resource: Resource \u001B[38;5;241m=\u001B[39m \u001B[38;5;28;01mNone\u001B[39;00m,\n\u001B[1;32m     68\u001B[0m               inventory_zero: Dict[Location, Dict[Tuple[Process, Resource], \u001B[38;5;28mfloat\u001B[39m]] \u001B[38;5;241m=\u001B[39m \u001B[38;5;28;01mNone\u001B[39;00m) \u001B[38;5;241m-\u001B[39m\u001B[38;5;241m>\u001B[39m Dict[\u001B[38;5;28mstr\u001B[39m, ConcreteModel]:\n\u001B[1;32m     69\u001B[0m \u001B[38;5;250m    \u001B[39m\u001B[38;5;124;03m\"\"\"formulates a pyomo instance for all scenarios in a case study\u001B[39;00m\n\u001B[1;32m     70\u001B[0m \n\u001B[1;32m     71\u001B[0m \n\u001B[0;32m   (...)\u001B[0m\n\u001B[1;32m     85\u001B[0m \u001B[38;5;124;03m        Dict[str, ConcreteModel]: Dictionary of pyomo instance\u001B[39;00m\n\u001B[1;32m     86\u001B[0m \u001B[38;5;124;03m    \"\"\"\u001B[39;00m\n\u001B[0;32m---> 88\u001B[0m     \u001B[38;5;28mself\u001B[39m\u001B[38;5;241m.\u001B[39mformulations \u001B[38;5;241m=\u001B[39m {i\u001B[38;5;241m.\u001B[39mname: \u001B[43mformulate_casestudy\u001B[49m\u001B[43m(\u001B[49m\u001B[43mscenario\u001B[49m\u001B[38;5;241;43m=\u001B[39;49m\u001B[43mi\u001B[49m\u001B[43m,\u001B[49m\u001B[43m \u001B[49m\u001B[43mconstraints\u001B[49m\u001B[38;5;241;43m=\u001B[39;49m\u001B[43mconstraints\u001B[49m\u001B[43m,\u001B[49m\u001B[43m \u001B[49m\u001B[43mobjective\u001B[49m\u001B[38;5;241;43m=\u001B[39;49m\u001B[43mobjective\u001B[49m\u001B[43m,\u001B[49m\n\u001B[1;32m     89\u001B[0m \u001B[43m                                                     \u001B[49m\u001B[43mwrite_lpfile\u001B[49m\u001B[38;5;241;43m=\u001B[39;49m\u001B[43mwrite_lpfile\u001B[49m\u001B[43m,\u001B[49m\u001B[43m \u001B[49m\u001B[43mgwp\u001B[49m\u001B[38;5;241;43m=\u001B[39;49m\u001B[43mgwp\u001B[49m\u001B[43m,\u001B[49m\u001B[43m \u001B[49m\u001B[43mland_restriction\u001B[49m\u001B[38;5;241;43m=\u001B[39;49m\u001B[43mland_restriction\u001B[49m\u001B[43m,\u001B[49m\n\u001B[1;32m     90\u001B[0m \u001B[43m                                                     \u001B[49m\u001B[43mgwp_reduction_pct\u001B[49m\u001B[38;5;241;43m=\u001B[39;49m\u001B[43mgwp_reduction_pct\u001B[49m\u001B[43m,\u001B[49m\u001B[43m \u001B[49m\u001B[43mmodel_class\u001B[49m\u001B[38;5;241;43m=\u001B[39;49m\u001B[43mmodel_class\u001B[49m\u001B[43m,\u001B[49m\u001B[43m \u001B[49m\u001B[43mobjective_resource\u001B[49m\u001B[38;5;241;43m=\u001B[39;49m\u001B[43mobjective_resource\u001B[49m\u001B[43m,\u001B[49m\n\u001B[1;32m     91\u001B[0m \u001B[43m                                                     \u001B[49m\u001B[43minventory_zero\u001B[49m\u001B[38;5;241;43m=\u001B[39;49m\u001B[43minventory_zero\u001B[49m\u001B[43m)\u001B[49m \u001B[38;5;28;01mfor\u001B[39;00m i \u001B[38;5;129;01min\u001B[39;00m \u001B[38;5;28mself\u001B[39m\u001B[38;5;241m.\u001B[39mscenarios}\n\u001B[1;32m     93\u001B[0m     \u001B[38;5;28;01mreturn\u001B[39;00m \u001B[38;5;28mself\u001B[39m\u001B[38;5;241m.\u001B[39mformulations\n",
      "File \u001B[0;32m~/PycharmProjects/energiapy/src/energiapy/model/formulate.py:410\u001B[0m, in \u001B[0;36mformulate\u001B[0;34m(scenario, constraints, objective, write_lpfile, gwp, land_restriction, gwp_reduction_pct, model_class, objective_resource, inventory_zero, demand_sign)\u001B[0m\n\u001B[1;32m    396\u001B[0m instance\u001B[38;5;241m.\u001B[39mconstraint_network_vopex \u001B[38;5;241m=\u001B[39m make_constraint(\n\u001B[1;32m    397\u001B[0m     instance\u001B[38;5;241m=\u001B[39minstance, type_cons\u001B[38;5;241m=\u001B[39mCons\u001B[38;5;241m.\u001B[39mX_EQ_SUMCOST_Y, variable_x\u001B[38;5;241m=\u001B[39m\u001B[38;5;124m'\u001B[39m\u001B[38;5;124mVopex_network\u001B[39m\u001B[38;5;124m'\u001B[39m,\n\u001B[1;32m    398\u001B[0m     variable_y\u001B[38;5;241m=\u001B[39m\u001B[38;5;124m'\u001B[39m\u001B[38;5;124mVopex_location\u001B[39m\u001B[38;5;124m'\u001B[39m, location_set\u001B[38;5;241m=\u001B[39minstance\u001B[38;5;241m.\u001B[39mlocations, component_set\u001B[38;5;241m=\u001B[39minstance\u001B[38;5;241m.\u001B[39mprocesses,\n\u001B[1;32m    399\u001B[0m     loc_comp_dict\u001B[38;5;241m=\u001B[39mscenario\u001B[38;5;241m.\u001B[39mlocation_process_dict, x_scale_level\u001B[38;5;241m=\u001B[39mscenario\u001B[38;5;241m.\u001B[39mnetwork_scale_level,\n\u001B[1;32m    400\u001B[0m     y_scale_level\u001B[38;5;241m=\u001B[39mscenario\u001B[38;5;241m.\u001B[39mnetwork_scale_level,\n\u001B[1;32m    401\u001B[0m     label\u001B[38;5;241m=\u001B[39m\u001B[38;5;124m'\u001B[39m\u001B[38;5;124msums up vopex from process over all locations in network\u001B[39m\u001B[38;5;124m'\u001B[39m)\n\u001B[1;32m    403\u001B[0m instance\u001B[38;5;241m.\u001B[39mconstraint_network_incidental \u001B[38;5;241m=\u001B[39m make_constraint(\n\u001B[1;32m    404\u001B[0m     instance\u001B[38;5;241m=\u001B[39minstance, type_cons\u001B[38;5;241m=\u001B[39mCons\u001B[38;5;241m.\u001B[39mX_EQ_SUMCOST_Y, variable_x\u001B[38;5;241m=\u001B[39m\u001B[38;5;124m'\u001B[39m\u001B[38;5;124mIncidental_network\u001B[39m\u001B[38;5;124m'\u001B[39m,\n\u001B[1;32m    405\u001B[0m     variable_y\u001B[38;5;241m=\u001B[39m\u001B[38;5;124m'\u001B[39m\u001B[38;5;124mIncidental_location\u001B[39m\u001B[38;5;124m'\u001B[39m, location_set\u001B[38;5;241m=\u001B[39minstance\u001B[38;5;241m.\u001B[39mlocations, component_set\u001B[38;5;241m=\u001B[39minstance\u001B[38;5;241m.\u001B[39mprocesses,\n\u001B[1;32m    406\u001B[0m     loc_comp_dict\u001B[38;5;241m=\u001B[39mscenario\u001B[38;5;241m.\u001B[39mlocation_process_dict, x_scale_level\u001B[38;5;241m=\u001B[39mscenario\u001B[38;5;241m.\u001B[39mnetwork_scale_level,\n\u001B[1;32m    407\u001B[0m     y_scale_level\u001B[38;5;241m=\u001B[39mscenario\u001B[38;5;241m.\u001B[39mnetwork_scale_level,\n\u001B[1;32m    408\u001B[0m     label\u001B[38;5;241m=\u001B[39m\u001B[38;5;124m'\u001B[39m\u001B[38;5;124msums up incidental expenditure from process over all locations in network\u001B[39m\u001B[38;5;124m'\u001B[39m)\n\u001B[0;32m--> 410\u001B[0m instance\u001B[38;5;241m.\u001B[39mconstraint_storage_cost \u001B[38;5;241m=\u001B[39m \u001B[43mconstraint_storage_cost\u001B[49m\u001B[43m(\u001B[49m\n\u001B[1;32m    411\u001B[0m \u001B[43m    \u001B[49m\u001B[43minstance\u001B[49m\u001B[38;5;241;43m=\u001B[39;49m\u001B[43minstance\u001B[49m\u001B[43m,\u001B[49m\u001B[43m \u001B[49m\u001B[43mlocation_resource_dict\u001B[49m\u001B[38;5;241;43m=\u001B[39;49m\u001B[43mscenario\u001B[49m\u001B[38;5;241;43m.\u001B[39;49m\u001B[43mlocation_resource_dict\u001B[49m\u001B[43m,\u001B[49m\n\u001B[1;32m    412\u001B[0m \u001B[43m    \u001B[49m\u001B[43mstorage_cost_dict\u001B[49m\u001B[38;5;241;43m=\u001B[39;49m\u001B[43mscenario\u001B[49m\u001B[38;5;241;43m.\u001B[39;49m\u001B[43mstorage_cost_dict\u001B[49m\u001B[43m,\u001B[49m\u001B[43m \u001B[49m\u001B[43mnetwork_scale_level\u001B[49m\u001B[38;5;241;43m=\u001B[39;49m\u001B[43mscenario\u001B[49m\u001B[38;5;241;43m.\u001B[39;49m\u001B[43mnetwork_scale_level\u001B[49m\u001B[43m)\u001B[49m\n\u001B[1;32m    414\u001B[0m instance\u001B[38;5;241m.\u001B[39mconstraint_storage_cost_location \u001B[38;5;241m=\u001B[39m constraint_storage_cost_location(\n\u001B[1;32m    415\u001B[0m     instance\u001B[38;5;241m=\u001B[39minstance, network_scale_level\u001B[38;5;241m=\u001B[39mscenario\u001B[38;5;241m.\u001B[39mnetwork_scale_level)\n\u001B[1;32m    417\u001B[0m instance\u001B[38;5;241m.\u001B[39mconstraint_storage_cost_network \u001B[38;5;241m=\u001B[39m constraint_storage_cost_network(\n\u001B[1;32m    418\u001B[0m     instance\u001B[38;5;241m=\u001B[39minstance, network_scale_level\u001B[38;5;241m=\u001B[39mscenario\u001B[38;5;241m.\u001B[39mnetwork_scale_level)\n",
      "File \u001B[0;32m~/PycharmProjects/energiapy/src/energiapy/model/constraints/cost.py:754\u001B[0m, in \u001B[0;36mconstraint_storage_cost\u001B[0;34m(instance, location_resource_dict, storage_cost_dict, network_scale_level)\u001B[0m\n\u001B[1;32m    752\u001B[0m     \u001B[38;5;28;01melse\u001B[39;00m:\n\u001B[1;32m    753\u001B[0m         \u001B[38;5;28;01mreturn\u001B[39;00m instance\u001B[38;5;241m.\u001B[39mInv_cost[location, resource, scale_list] \u001B[38;5;241m==\u001B[39m \u001B[38;5;241m0\u001B[39m\n\u001B[0;32m--> 754\u001B[0m \u001B[43minstance\u001B[49m\u001B[38;5;241;43m.\u001B[39;49m\u001B[43mconstraint_storage_cost\u001B[49m \u001B[38;5;241m=\u001B[39m Constraint(\n\u001B[1;32m    755\u001B[0m     instance\u001B[38;5;241m.\u001B[39mlocations, instance\u001B[38;5;241m.\u001B[39mresources_store, \u001B[38;5;241m*\u001B[39m\n\u001B[1;32m    756\u001B[0m     scales, rule\u001B[38;5;241m=\u001B[39mstorage_cost_rule,\n\u001B[1;32m    757\u001B[0m     doc\u001B[38;5;241m=\u001B[39m\u001B[38;5;124m'\u001B[39m\u001B[38;5;124mpenalty for stored resources\u001B[39m\u001B[38;5;124m'\u001B[39m)\n\u001B[1;32m    758\u001B[0m constraint_latex_render(storage_cost_rule)\n\u001B[1;32m    759\u001B[0m \u001B[38;5;28;01mreturn\u001B[39;00m instance\u001B[38;5;241m.\u001B[39mconstraint_storage_cost\n",
      "File \u001B[0;32m~/PycharmProjects/energiapy/venv/lib/python3.9/site-packages/pyomo/core/base/block.py:580\u001B[0m, in \u001B[0;36m_BlockData.__setattr__\u001B[0;34m(self, name, val)\u001B[0m\n\u001B[1;32m    575\u001B[0m \u001B[38;5;28;01mif\u001B[39;00m name \u001B[38;5;129;01mnot\u001B[39;00m \u001B[38;5;129;01min\u001B[39;00m \u001B[38;5;28mself\u001B[39m\u001B[38;5;241m.\u001B[39m\u001B[38;5;18m__dict__\u001B[39m:\n\u001B[1;32m    576\u001B[0m     \u001B[38;5;28;01mif\u001B[39;00m \u001B[38;5;28misinstance\u001B[39m(val, Component):\n\u001B[1;32m    577\u001B[0m         \u001B[38;5;66;03m#\u001B[39;00m\n\u001B[1;32m    578\u001B[0m         \u001B[38;5;66;03m# Pyomo components are added with the add_component method.\u001B[39;00m\n\u001B[1;32m    579\u001B[0m         \u001B[38;5;66;03m#\u001B[39;00m\n\u001B[0;32m--> 580\u001B[0m         \u001B[38;5;28;43mself\u001B[39;49m\u001B[38;5;241;43m.\u001B[39;49m\u001B[43madd_component\u001B[49m\u001B[43m(\u001B[49m\u001B[43mname\u001B[49m\u001B[43m,\u001B[49m\u001B[43m \u001B[49m\u001B[43mval\u001B[49m\u001B[43m)\u001B[49m\n\u001B[1;32m    581\u001B[0m     \u001B[38;5;28;01melse\u001B[39;00m:\n\u001B[1;32m    582\u001B[0m         \u001B[38;5;66;03m#\u001B[39;00m\n\u001B[1;32m    583\u001B[0m         \u001B[38;5;66;03m# Other Python objects are added with the standard __setattr__\u001B[39;00m\n\u001B[1;32m    584\u001B[0m         \u001B[38;5;66;03m# method.\u001B[39;00m\n\u001B[1;32m    585\u001B[0m         \u001B[38;5;66;03m#\u001B[39;00m\n\u001B[1;32m    586\u001B[0m         \u001B[38;5;28msuper\u001B[39m(_BlockData, \u001B[38;5;28mself\u001B[39m)\u001B[38;5;241m.\u001B[39m\u001B[38;5;21m__setattr__\u001B[39m(name, val)\n",
      "File \u001B[0;32m~/PycharmProjects/energiapy/venv/lib/python3.9/site-packages/pyomo/core/base/block.py:1185\u001B[0m, in \u001B[0;36m_BlockData.add_component\u001B[0;34m(self, name, val)\u001B[0m\n\u001B[1;32m   1177\u001B[0m     logger\u001B[38;5;241m.\u001B[39mdebug(\n\u001B[1;32m   1178\u001B[0m         \u001B[38;5;124m\"\u001B[39m\u001B[38;5;124mConstructing \u001B[39m\u001B[38;5;132;01m%s\u001B[39;00m\u001B[38;5;124m \u001B[39m\u001B[38;5;124m'\u001B[39m\u001B[38;5;132;01m%s\u001B[39;00m\u001B[38;5;124m'\u001B[39m\u001B[38;5;124m on \u001B[39m\u001B[38;5;132;01m%s\u001B[39;00m\u001B[38;5;124m from data=\u001B[39m\u001B[38;5;132;01m%s\u001B[39;00m\u001B[38;5;124m\"\u001B[39m,\n\u001B[1;32m   1179\u001B[0m         val\u001B[38;5;241m.\u001B[39m\u001B[38;5;18m__class__\u001B[39m\u001B[38;5;241m.\u001B[39m\u001B[38;5;18m__name__\u001B[39m,\n\u001B[0;32m   (...)\u001B[0m\n\u001B[1;32m   1182\u001B[0m         \u001B[38;5;28mstr\u001B[39m(data),\n\u001B[1;32m   1183\u001B[0m     )\n\u001B[1;32m   1184\u001B[0m \u001B[38;5;28;01mtry\u001B[39;00m:\n\u001B[0;32m-> 1185\u001B[0m     \u001B[43mval\u001B[49m\u001B[38;5;241;43m.\u001B[39;49m\u001B[43mconstruct\u001B[49m\u001B[43m(\u001B[49m\u001B[43mdata\u001B[49m\u001B[43m)\u001B[49m\n\u001B[1;32m   1186\u001B[0m \u001B[38;5;28;01mexcept\u001B[39;00m:\n\u001B[1;32m   1187\u001B[0m     err \u001B[38;5;241m=\u001B[39m sys\u001B[38;5;241m.\u001B[39mexc_info()[\u001B[38;5;241m1\u001B[39m]\n",
      "File \u001B[0;32m~/PycharmProjects/energiapy/venv/lib/python3.9/site-packages/pyomo/core/base/constraint.py:813\u001B[0m, in \u001B[0;36mConstraint.construct\u001B[0;34m(self, data)\u001B[0m\n\u001B[1;32m    810\u001B[0m     \u001B[38;5;28;01melse\u001B[39;00m:\n\u001B[1;32m    811\u001B[0m         \u001B[38;5;66;03m# Bypass the index validation and create the member directly\u001B[39;00m\n\u001B[1;32m    812\u001B[0m         \u001B[38;5;28;01mfor\u001B[39;00m index \u001B[38;5;129;01min\u001B[39;00m \u001B[38;5;28mself\u001B[39m\u001B[38;5;241m.\u001B[39mindex_set():\n\u001B[0;32m--> 813\u001B[0m             \u001B[38;5;28mself\u001B[39m\u001B[38;5;241m.\u001B[39m_setitem_when_not_present(index, \u001B[43mrule\u001B[49m\u001B[43m(\u001B[49m\u001B[43mblock\u001B[49m\u001B[43m,\u001B[49m\u001B[43m \u001B[49m\u001B[43mindex\u001B[49m\u001B[43m)\u001B[49m)\n\u001B[1;32m    814\u001B[0m \u001B[38;5;28;01mexcept\u001B[39;00m \u001B[38;5;167;01mException\u001B[39;00m:\n\u001B[1;32m    815\u001B[0m     err \u001B[38;5;241m=\u001B[39m sys\u001B[38;5;241m.\u001B[39mexc_info()[\u001B[38;5;241m1\u001B[39m]\n",
      "File \u001B[0;32m~/PycharmProjects/energiapy/venv/lib/python3.9/site-packages/pyomo/core/base/initializer.py:311\u001B[0m, in \u001B[0;36mIndexedCallInitializer.__call__\u001B[0;34m(self, parent, idx)\u001B[0m\n\u001B[1;32m    305\u001B[0m \u001B[38;5;28;01mdef\u001B[39;00m \u001B[38;5;21m__call__\u001B[39m(\u001B[38;5;28mself\u001B[39m, parent, idx):\n\u001B[1;32m    306\u001B[0m     \u001B[38;5;66;03m# Note: this is called by a component using data from a Set (so\u001B[39;00m\n\u001B[1;32m    307\u001B[0m     \u001B[38;5;66;03m# any tuple-like type should have already been checked and\u001B[39;00m\n\u001B[1;32m    308\u001B[0m     \u001B[38;5;66;03m# converted to a tuple; or flattening is turned off and it is\u001B[39;00m\n\u001B[1;32m    309\u001B[0m     \u001B[38;5;66;03m# the user's responsibility to sort things out.\u001B[39;00m\n\u001B[1;32m    310\u001B[0m     \u001B[38;5;28;01mif\u001B[39;00m idx\u001B[38;5;241m.\u001B[39m\u001B[38;5;18m__class__\u001B[39m \u001B[38;5;129;01mis\u001B[39;00m \u001B[38;5;28mtuple\u001B[39m:\n\u001B[0;32m--> 311\u001B[0m         \u001B[38;5;28;01mreturn\u001B[39;00m \u001B[38;5;28;43mself\u001B[39;49m\u001B[38;5;241;43m.\u001B[39;49m\u001B[43m_fcn\u001B[49m\u001B[43m(\u001B[49m\u001B[43mparent\u001B[49m\u001B[43m,\u001B[49m\u001B[43m \u001B[49m\u001B[38;5;241;43m*\u001B[39;49m\u001B[43midx\u001B[49m\u001B[43m)\u001B[49m\n\u001B[1;32m    312\u001B[0m     \u001B[38;5;28;01melse\u001B[39;00m:\n\u001B[1;32m    313\u001B[0m         \u001B[38;5;28;01mreturn\u001B[39;00m \u001B[38;5;28mself\u001B[39m\u001B[38;5;241m.\u001B[39m_fcn(parent, idx)\n",
      "File \u001B[0;32m~/PycharmProjects/energiapy/src/energiapy/model/constraints/cost.py:751\u001B[0m, in \u001B[0;36mconstraint_storage_cost.<locals>.storage_cost_rule\u001B[0;34m(instance, location, resource, *scale_list)\u001B[0m\n\u001B[1;32m    749\u001B[0m \u001B[38;5;28;01mdef\u001B[39;00m \u001B[38;5;21mstorage_cost_rule\u001B[39m(instance, location, resource, \u001B[38;5;241m*\u001B[39mscale_list):\n\u001B[1;32m    750\u001B[0m     \u001B[38;5;28;01mif\u001B[39;00m resource \u001B[38;5;129;01min\u001B[39;00m location_resource_dict[location]:\n\u001B[0;32m--> 751\u001B[0m         \u001B[38;5;28;01mreturn\u001B[39;00m instance\u001B[38;5;241m.\u001B[39mInv_cost[location, resource, scale_list[:network_scale_level \u001B[38;5;241m+\u001B[39m \u001B[38;5;241m1\u001B[39m]] \u001B[38;5;241m==\u001B[39m \u001B[43mstorage_cost_dict\u001B[49m\u001B[43m[\u001B[49m\u001B[43mlocation\u001B[49m\u001B[43m]\u001B[49m\u001B[43m[\u001B[49m\u001B[43mresource\u001B[49m\u001B[43m]\u001B[49m\u001B[38;5;241m*\u001B[39minstance\u001B[38;5;241m.\u001B[39mInv_network[location, resource, scale_list[:network_scale_level \u001B[38;5;241m+\u001B[39m \u001B[38;5;241m1\u001B[39m]]\n\u001B[1;32m    752\u001B[0m     \u001B[38;5;28;01melse\u001B[39;00m:\n\u001B[1;32m    753\u001B[0m         \u001B[38;5;28;01mreturn\u001B[39;00m instance\u001B[38;5;241m.\u001B[39mInv_cost[location, resource, scale_list] \u001B[38;5;241m==\u001B[39m \u001B[38;5;241m0\u001B[39m\n",
      "\u001B[0;31mKeyError\u001B[0m: 'LiI_Power'"
     ]
    }
   ],
   "source": [
    "moderate_credit.formulate(constraints={Constraints.COST, Constraints.INVENTORY, Constraints.PRODUCTION,\n",
    "                      Constraints.RESOURCE_BALANCE, Constraints.NETWORK, Constraints.DEMAND, Constraints.LAND, Constraints.CREDIT}, objective=Objective.COST)"
   ],
   "metadata": {
    "collapsed": false,
    "ExecuteTime": {
     "end_time": "2024-02-23T15:42:48.912479Z",
     "start_time": "2024-02-23T15:42:48.607411Z"
    }
   },
   "id": "712e868290f27b89"
  },
  {
   "cell_type": "code",
   "execution_count": null,
   "outputs": [],
   "source": [],
   "metadata": {
    "collapsed": false
   },
   "id": "cb82e40cdbdcccfc"
  }
 ],
 "metadata": {
  "kernelspec": {
   "display_name": "Python 3",
   "language": "python",
   "name": "python3"
  },
  "language_info": {
   "codemirror_mode": {
    "name": "ipython",
    "version": 2
   },
   "file_extension": ".py",
   "mimetype": "text/x-python",
   "name": "python",
   "nbconvert_exporter": "python",
   "pygments_lexer": "ipython2",
   "version": "2.7.6"
  }
 },
 "nbformat": 4,
 "nbformat_minor": 5
}
