{
 "cells": [
  {
   "cell_type": "code",
   "execution_count": 5,
   "id": "initial_id",
   "metadata": {
    "collapsed": true,
    "ExecuteTime": {
     "end_time": "2024-02-13T19:21:23.819009800Z",
     "start_time": "2024-02-13T19:21:23.804320500Z"
    }
   },
   "outputs": [],
   "source": [
    "import sys\n",
    "sys.path.append('../../src')\n",
    "from energiapy.components.result import Result\n",
    "import pandas\n",
    "from itertools import product\n",
    "from matplotlib import rc\n",
    "import matplotlib.pyplot as plt\n",
    "from energiapy.model.solve import solve\n",
    "from energiapy.plot.plot_results import CostY, CostX\n",
    "from energiapy.plot import plot_results, plot_scenario, plot_location\n",
    "from energiapy.utils.nsrdb_utils import fetch_nsrdb_data\n",
    "from energiapy.model.formulate import formulate, Constraints, Objective\n",
    "from energiapy.model.bounds import CapacityBounds\n",
    "from energiapy.utils.data_utils import get_data, make_henry_price_df, remove_outliers, load_results, calculate_hourly\n",
    "from energiapy.components.transport import Transport\n",
    "from energiapy.components.scenario import Scenario\n",
    "from energiapy.components.network import Network\n",
    "from energiapy.components.location import Location\n",
    "from energiapy.components.material import Material\n",
    "from energiapy.components.case_study import CaseStudy\n",
    "from energiapy.components.process import Process, VaryingProcess\n",
    "from energiapy.components.resource import Resource, VaryingResource\n",
    "from energiapy.components.temporal_scale import TemporalScale\n",
    "import numpy\n",
    "from energiapy.conversion.photovoltaic import solar_power_output\n",
    "from energiapy.conversion.windmill import wind_power_output\n",
    "from energiapy.aggregation.reduce_scenario import reduce_scenario, Clustermethod\n",
    "from energiapy.aggregation.ahc import agg_hierarchial_elbow, IncludeAHC, Fit"
   ]
  },
  {
   "cell_type": "code",
   "execution_count": 2,
   "outputs": [],
   "source": [
    "horizon = 1"
   ],
   "metadata": {
    "collapsed": false,
    "ExecuteTime": {
     "end_time": "2024-02-13T19:15:26.867484700Z",
     "start_time": "2024-02-13T19:15:26.835796700Z"
    }
   },
   "id": "fb697868abe9e3d7"
  },
  {
   "cell_type": "code",
   "execution_count": null,
   "outputs": [],
   "source": [],
   "metadata": {
    "collapsed": false
   },
   "id": "382c75aecde4df0f"
  },
  {
   "cell_type": "code",
   "execution_count": 8,
   "outputs": [],
   "source": [
    "#San Diego data\n",
    "\n",
    "# fetch_nsrdb_data(attrs=['dni', 'dhi', 'wind_speed', 'ghi', 'air_temperature', 'dew_point', 'relative_humidity', 'surface_pressure'], year=2016 , state='California',\n",
    "#                                     county='San Diego', resolution='hourly', get='min-elevation')\n",
    "# weather_sandiego = pandas.concat([fetch_nsrdb_data(attrs=['dni', 'dhi', 'wind_speed', 'ghi', 'air_temperature', 'dew_point', 'relative_humidity', 'surface_pressure'], year=2016+i , state='California',\n",
    "#                                     county='San Diego', resolution='hourly', get='min-elevation')[1] for i in range(5)])\n",
    "# index = weather_sandiego.index\n",
    "# weather_sandiego.index = pandas.to_datetime(weather_sandiego.index, utc = True)\n",
    "# weather_sandiego.index = weather_sandiego.index.strftime('%m/%d/%Y, %r')\n",
    "# weather_sandiego = weather_sandiego[~weather_sandiego.index.str.contains('02/29')]"
   ],
   "metadata": {
    "collapsed": false,
    "ExecuteTime": {
     "end_time": "2024-02-13T19:24:44.816952500Z",
     "start_time": "2024-02-13T19:24:44.801321200Z"
    }
   },
   "id": "a7bbfc69eb9f0ef0"
  },
  {
   "cell_type": "code",
   "execution_count": 11,
   "outputs": [
    {
     "name": "stderr",
     "output_type": "stream",
     "text": [
      "C:\\Users\\shivam.vedant\\AppData\\Local\\Temp\\ipykernel_18548\\2622049418.py:3: UserWarning: Could not infer format, so each element will be parsed individually, falling back to `dateutil`. To ensure parsing is consistent and as-expected, please specify a format.\n",
      "  weather_houston.index = pandas.to_datetime(weather_houston.index, utc = True)\n"
     ]
    }
   ],
   "source": [
    "coord_houston = (29.56999969482422, -95.05999755859375)\n",
    "weather_houston = pandas.read_csv('./data/weather_houston.csv', index_col=0)\n",
    "weather_houston.index = pandas.to_datetime(weather_houston.index, utc = True)"
   ],
   "metadata": {
    "collapsed": false,
    "ExecuteTime": {
     "end_time": "2024-02-14T15:44:32.980127300Z",
     "start_time": "2024-02-14T15:44:28.932767200Z"
    }
   },
   "id": "72e684aac2dbfd2f"
  },
  {
   "cell_type": "code",
   "execution_count": 12,
   "outputs": [],
   "source": [
    "solar_houston = solar_power_output(data= weather_houston, coord=coord_houston, sam = 'cecmod', module_params= 'Canadian_Solar_Inc__CS5P_220M', \n",
    "                                   inverter = 'cecinverter', inverter_params= 'ABB__MICRO_0_25_I_OUTD_US_208__208V_', \n",
    "                                   temperature_params= 'open_rack_glass_glass', aoi_model= 'no_loss', ac_model= 'sandia', spectral_model= 'no_loss')"
   ],
   "metadata": {
    "collapsed": false,
    "ExecuteTime": {
     "end_time": "2024-02-14T15:45:34.365705Z",
     "start_time": "2024-02-14T15:45:32.583814800Z"
    }
   },
   "id": "e5133c45c2f17510"
  },
  {
   "cell_type": "code",
   "execution_count": 13,
   "outputs": [
    {
     "name": "stderr",
     "output_type": "stream",
     "text": [
      "C:\\Users\\shivam.vedant\\PycharmProjects\\energiapy\\venv_energiapy\\lib\\site-packages\\windpowerlib\\wind_turbine.py:173: FutureWarning: Calling float on a single element Series is deprecated and will raise a TypeError in the future. Use float(ser.iloc[0]) instead\n",
      "  self.nominal_power = float(turbine_data[\"nominal_power\"])\n",
      "C:\\Users\\shivam.vedant\\PycharmProjects\\energiapy\\venv_energiapy\\lib\\site-packages\\windpowerlib\\wind_turbine.py:175: FutureWarning: Calling float on a single element Series is deprecated and will raise a TypeError in the future. Use float(ser.iloc[0]) instead\n",
      "  self.rotor_diameter = float(turbine_data[\"rotor_diameter\"])\n"
     ]
    }
   ],
   "source": [
    "wind_houston = wind_power_output(data= weather_houston, roughness_length= 0.1, turbine_type= 'V100/1800', hub_height= 92, \n",
    "                                 wind_speed_model= 'logarithmic', density_model = 'ideal_gas', temperature_model = 'linear_gradient', \n",
    "                                 power_output_model = 'power_coefficient_curve', density_correction = True, obstacle_height = 0, \n",
    "                                 observation_height = 10)"
   ],
   "metadata": {
    "collapsed": false,
    "ExecuteTime": {
     "end_time": "2024-02-14T15:45:44.370861400Z",
     "start_time": "2024-02-14T15:45:44.249450700Z"
    }
   },
   "id": "7f37e633d607975e"
  },
  {
   "cell_type": "code",
   "execution_count": 15,
   "outputs": [],
   "source": [
    "ng_price_df = pandas.concat(\n",
    "    [make_henry_price_df(file_name='./data/Henry_Hub_Natural_Gas_Spot_Price_Daily.csv', year=2016 +i, stretch= True) for i in range(5)])"
   ],
   "metadata": {
    "collapsed": false,
    "ExecuteTime": {
     "end_time": "2024-02-14T15:48:43.622686100Z",
     "start_time": "2024-02-14T15:48:42.500494200Z"
    }
   },
   "id": "944de00f16a90bfc"
  },
  {
   "cell_type": "code",
   "execution_count": 16,
   "outputs": [
    {
     "name": "stderr",
     "output_type": "stream",
     "text": [
      "C:\\Users\\shivam.vedant\\AppData\\Local\\Temp\\ipykernel_18548\\2984035665.py:2: UserWarning: Could not infer format, so each element will be parsed individually, falling back to `dateutil`. To ensure parsing is consistent and as-expected, please specify a format.\n",
      "  ercot.index = pandas.to_datetime(ercot.index, utc = True)\n"
     ]
    }
   ],
   "source": [
    "ercot = pandas.read_csv('./data/ercot.csv', index_col=0)\n",
    "ercot.index = pandas.to_datetime(ercot.index, utc = True)\n",
    "ercot.loc['2016-11-06 23:00:00'] = ercot.loc['2016-11-06 22:00:00'] #random missing value"
   ],
   "metadata": {
    "collapsed": false,
    "ExecuteTime": {
     "end_time": "2024-02-14T15:48:57.281893100Z",
     "start_time": "2024-02-14T15:48:53.221291300Z"
    }
   },
   "id": "67df639a1b5b5579"
  },
  {
   "cell_type": "code",
   "execution_count": 18,
   "outputs": [],
   "source": [
    "url = 'https://oedi-data-lake.s3.amazonaws.com/ATB/electricity/parquet/2022/ATBe.parquet'\n",
    "raw_data = pandas.read_parquet(url)\n",
    "raw_data = raw_data.astype(\n",
    "    dtype={\n",
    "        'core_metric_key': 'string',\n",
    "        'core_metric_parameter': 'string',\n",
    "        'core_metric_case': 'string',\n",
    "        'crpyears': 'string',\n",
    "        'technology': 'string',\n",
    "        'technology_alias': 'string',\n",
    "        'techdetail': 'string',\n",
    "        'display_name': 'string',\n",
    "        'scenario': 'string',\n",
    "        'units': 'string'\n",
    "    })"
   ],
   "metadata": {
    "collapsed": false,
    "ExecuteTime": {
     "end_time": "2024-02-14T15:50:19.225627200Z",
     "start_time": "2024-02-14T15:50:16.219162Z"
    }
   },
   "id": "5edcb821f0659d0c"
  },
  {
   "cell_type": "code",
   "execution_count": 19,
   "outputs": [
    {
     "data": {
      "text/plain": "<StringArray>\n[                'NaturalGas_FE',    'Commercial Battery Storage',\n     'Pumped Storage Hydropower',   'Residential Battery Storage',\n 'Utility-Scale Battery Storage',                    'Hydropower',\n                      'Biopower',                           'CSP',\n                        'CommPV',               'DistributedWind',\n                    'Geothermal',                 'LandbasedWind',\n                  'OffShoreWind',                         'ResPV',\n                     'UtilityPV', 'Utility-Scale PV-Plus-Battery',\n                       'Nuclear',                       'Coal_FE',\n                           'AEO']\nLength: 19, dtype: string"
     },
     "execution_count": 19,
     "metadata": {},
     "output_type": "execute_result"
    }
   ],
   "source": [
    "raw_data['technology'].unique()"
   ],
   "metadata": {
    "collapsed": false,
    "ExecuteTime": {
     "end_time": "2024-02-14T15:50:32.515054400Z",
     "start_time": "2024-02-14T15:50:32.423298100Z"
    }
   },
   "id": "51deef5b79639d44"
  },
  {
   "cell_type": "code",
   "execution_count": 20,
   "outputs": [],
   "source": [
    "def atb_gttr(core_metric_parameters, core_metric_case, crpyear, technology, techdetail, scenario):\n",
    "    df_out = pandas.DataFrame()\n",
    "    for i in core_metric_parameters:\n",
    "        df = pandas.DataFrame(raw_data[\n",
    "            (raw_data.core_metric_parameter == i) &\n",
    "            (raw_data.core_metric_case == core_metric_case) &\n",
    "            (raw_data.crpyears == str(crpyear)) &\n",
    "            (raw_data.technology == technology) &\n",
    "            (raw_data.techdetail == techdetail) &\n",
    "            (raw_data.scenario == scenario)\n",
    "        ][['value']])\n",
    "        df = df.rename({'value': i}, axis='columns')\n",
    "        df = df.reset_index()\n",
    "        df_out = pandas.concat([df_out, df], axis='columns')\n",
    "        df_out = df_out.loc[:, ~df_out.columns.duplicated()].copy()\n",
    "        df_out = df_out.fillna(0)\n",
    "        df_out = df_out.drop(columns=['index'])\n",
    "    return df_out\n"
   ],
   "metadata": {
    "collapsed": false,
    "ExecuteTime": {
     "end_time": "2024-02-14T15:50:41.470575800Z",
     "start_time": "2024-02-14T15:50:41.388793500Z"
    }
   },
   "id": "b7147035593f4a9d"
  },
  {
   "cell_type": "code",
   "execution_count": 21,
   "outputs": [],
   "source": [
    "\n",
    "hig_trl_adv = [(1 - i/(31*15)) for i in range(31)]\n",
    "hig_trl_mod = [(1 - i/(31*10)) for i in range(31)]\n",
    "hig_trl_con = [(1 - i/(31*5)) for i in range(31)]\n",
    "\n",
    "med_trl_adv = [(1 - i/(31*40)) for i in range(31)]\n",
    "med_trl_mod = [(1 - i/(31*30)) for i in range(31)]\n",
    "med_trl_con = [(1 - i/(31*20)) for i in range(31)]\n",
    "\n",
    "low_trl_adv = [(1 - i/(31*70)) for i in range(31)]\n",
    "low_trl_mod = [(1 - i/(31*50)) for i in range(31)]\n",
    "low_trl_con = [(1 - i/(31*30)) for i in range(31)]\n",
    "\n",
    "hig_trl_adv_df = pandas.DataFrame(\n",
    "    data={'CAPEX': hig_trl_adv, 'Fixed O&M': hig_trl_adv, 'Variable O&M': hig_trl_adv})\n",
    "hig_trl_mod_df = pandas.DataFrame(\n",
    "    data={'CAPEX': hig_trl_mod, 'Fixed O&M': hig_trl_mod, 'Variable O&M': hig_trl_mod})\n",
    "hig_trl_con_df = pandas.DataFrame(\n",
    "    data={'CAPEX': hig_trl_con, 'Fixed O&M': hig_trl_con, 'Variable O&M': hig_trl_con})\n",
    "med_trl_adv_df = pandas.DataFrame(\n",
    "    data={'CAPEX': med_trl_adv, 'Fixed O&M': med_trl_adv, 'Variable O&M': med_trl_adv})\n",
    "med_trl_mod_df = pandas.DataFrame(\n",
    "    data={'CAPEX': med_trl_mod, 'Fixed O&M': med_trl_mod, 'Variable O&M': med_trl_mod})\n",
    "med_trl_con_df = pandas.DataFrame(\n",
    "    data={'CAPEX': med_trl_con, 'Fixed O&M': med_trl_con, 'Variable O&M': med_trl_con})\n",
    "low_trl_adv_df = pandas.DataFrame(\n",
    "    data={'CAPEX': low_trl_adv, 'Fixed O&M': low_trl_adv, 'Variable O&M': low_trl_adv})\n",
    "low_trl_mod_df = pandas.DataFrame(\n",
    "    data={'CAPEX': low_trl_mod, 'Fixed O&M': low_trl_mod, 'Variable O&M': low_trl_mod})\n",
    "low_trl_con_df = pandas.DataFrame(\n",
    "    data={'CAPEX': low_trl_con, 'Fixed O&M': low_trl_con, 'Variable O&M': low_trl_con})\n",
    "constant_df = pandas.DataFrame(\n",
    "    data={'CAPEX': [1]*31, 'Fixed O&M': [1]*31, 'Variable O&M': [1]*31})\n",
    "\n",
    "\n",
    "param_list = ['CAPEX', 'Fixed O&M', 'Variable O&M']\n",
    "advanced_dict = {\n",
    "    'RPV': atb_gttr(core_metric_parameters=param_list, core_metric_case='Market', crpyear=30, technology='ResPV', techdetail='Class5', scenario='Advanced'),\n",
    "    'PV': atb_gttr(core_metric_parameters=param_list, core_metric_case='Market', crpyear=30, technology='UtilityPV', techdetail='Class1', scenario='Advanced'),\n",
    "    'WF': atb_gttr(core_metric_parameters=param_list, core_metric_case='Market', crpyear=30, technology='LandbasedWind', techdetail='Class1', scenario='Advanced'),\n",
    "    'LiI': atb_gttr(core_metric_parameters=param_list, core_metric_case='R&D', crpyear=30, technology='Commercial Battery Storage', techdetail='8Hr Battery Storage', scenario='Advanced'),\n",
    "    'LII_discharge': constant_df,\n",
    "    'PSH': atb_gttr(core_metric_parameters=param_list, core_metric_case='Market', crpyear=30, technology='Pumped Storage Hydropower', techdetail='NatlClass10', scenario='Advanced'),\n",
    "    'PSH_discharge': constant_df,\n",
    "    'ASMR': atb_gttr(core_metric_parameters=param_list, core_metric_case='Market', crpyear=30, technology='Nuclear', techdetail='NuclearSMR', scenario='Moderate'),\n",
    "    'NPP': atb_gttr(core_metric_parameters=param_list, core_metric_case='Market', crpyear=30, technology='Nuclear', techdetail='Nuclear', scenario='Advanced'),\n",
    "    'NGCC': atb_gttr(core_metric_parameters=param_list, core_metric_case='Market', crpyear=30, technology='NaturalGas_FE', techdetail='CCCCSHFrame95%', scenario='Conservative'),\n",
    "    'SMR': hig_trl_adv_df,\n",
    "    'SMRH': hig_trl_adv_df,\n",
    "    'AqOff': hig_trl_adv_df,\n",
    "    'DAC': low_trl_adv_df,\n",
    "    'PEM': low_trl_adv_df,\n",
    "    'H2_Comp': med_trl_adv_df,\n",
    "}\n",
    "\n",
    "\n",
    "moderate_dict = {\n",
    "    'PV': atb_gttr(core_metric_parameters=param_list, core_metric_case='Market', crpyear=30, technology='UtilityPV', techdetail='Class1', scenario='Moderate'),\n",
    "    'WF': atb_gttr(core_metric_parameters=param_list, core_metric_case='Market', crpyear=30, technology='LandbasedWind', techdetail='Class1', scenario='Moderate'),\n",
    "    'LiI': atb_gttr(core_metric_parameters=param_list, core_metric_case='R&D', crpyear=30, technology='Commercial Battery Storage', techdetail='8Hr Battery Storage', scenario='Moderate'),\n",
    "    'LII_discharge': constant_df,\n",
    "    'PSH': atb_gttr(core_metric_parameters=param_list, core_metric_case='Market', crpyear=30, technology='Pumped Storage Hydropower', techdetail='NatlClass10', scenario='Moderate'),\n",
    "    'PSH_discharge': constant_df,\n",
    "    'ASMR': atb_gttr(core_metric_parameters=param_list, core_metric_case='Market', crpyear=30, technology='Nuclear', techdetail='NuclearSMR', scenario='Moderate'),\n",
    "    'NPP': atb_gttr(core_metric_parameters=param_list, core_metric_case='Market', crpyear=30, technology='Nuclear', techdetail='Nuclear', scenario='Moderate'),\n",
    "    'NGCC': atb_gttr(core_metric_parameters=param_list, core_metric_case='Market', crpyear=30, technology='NaturalGas_FE', techdetail='CCCCSHFrame95%', scenario='Conservative'),\n",
    "    'SMR': hig_trl_mod_df,\n",
    "    'SMRH': hig_trl_mod_df,\n",
    "    'AqOff': hig_trl_mod_df,\n",
    "    'DAC': low_trl_mod_df,\n",
    "    'PEM': low_trl_mod_df,\n",
    "    'H2_Comp': med_trl_mod_df,\n",
    "}\n",
    "\n",
    "\n",
    "conservative_dict = {\n",
    "    'PV': atb_gttr(core_metric_parameters=param_list, core_metric_case='Market', crpyear=30, technology='UtilityPV', techdetail='Class1', scenario='Conservative'),\n",
    "    'WF': atb_gttr(core_metric_parameters=param_list, core_metric_case='Market', crpyear=30, technology='LandbasedWind', techdetail='Class1', scenario='Conservative'),\n",
    "    'LiI': atb_gttr(core_metric_parameters=param_list, core_metric_case='R&D', crpyear=30, technology='Commercial Battery Storage', techdetail='8Hr Battery Storage', scenario='Conservative'),\n",
    "    'LII_discharge': constant_df,\n",
    "    'PSH': atb_gttr(core_metric_parameters=param_list, core_metric_case='Market', crpyear=30, technology='Pumped Storage Hydropower', techdetail='NatlClass10', scenario='Conservative'),\n",
    "    'PSH_discharge': constant_df,\n",
    "    # no cons, adv\n",
    "    'ASMR': atb_gttr(core_metric_parameters=param_list, core_metric_case='Market', crpyear=30, technology='Nuclear', techdetail='NuclearSMR', scenario='Moderate'),\n",
    "    'NPP': atb_gttr(core_metric_parameters=param_list, core_metric_case='Market', crpyear=30, technology='Nuclear', techdetail='Nuclear', scenario='Conservative'),\n",
    "    'NGCC': atb_gttr(core_metric_parameters=param_list, core_metric_case='Market', crpyear=30, technology='NaturalGas_FE', techdetail='CCCCSHFrame95%', scenario='Conservative'),\n",
    "    'SMR': hig_trl_con_df,\n",
    "    'SMRH': hig_trl_con_df,\n",
    "    'AqOff': hig_trl_con_df,\n",
    "    'DAC': low_trl_con_df,\n",
    "    'PEM': low_trl_con_df,\n",
    "    'H2_Comp': med_trl_con_df,\n",
    "}\n"
   ],
   "metadata": {
    "collapsed": false,
    "ExecuteTime": {
     "end_time": "2024-02-14T15:51:03.013577100Z",
     "start_time": "2024-02-14T15:50:56.432681600Z"
    }
   },
   "id": "5eb4152ee082fc59"
  },
  {
   "cell_type": "code",
   "execution_count": 22,
   "outputs": [],
   "source": [
    "scales = TemporalScale(discretization_list=[horizon, 365, 24])"
   ],
   "metadata": {
    "collapsed": false,
    "ExecuteTime": {
     "end_time": "2024-02-14T15:51:17.067062Z",
     "start_time": "2024-02-14T15:51:17.001237Z"
    }
   },
   "id": "f1dc46b7300693a2"
  },
  {
   "cell_type": "code",
   "execution_count": 23,
   "outputs": [],
   "source": [
    "bigM = 10**5\n",
    "smallM = 10"
   ],
   "metadata": {
    "collapsed": false,
    "ExecuteTime": {
     "end_time": "2024-02-14T15:51:23.940337700Z",
     "start_time": "2024-02-14T15:51:23.844593300Z"
    }
   },
   "id": "4754cd145efa4d7b"
  },
  {
   "cell_type": "code",
   "execution_count": 24,
   "outputs": [],
   "source": [
    "credit = {'DAC': {0: 31.77, 1: 31.77, 2: 31.77, 3: 31.77, 4: 31.77, 5: 50.00, 6: 50.00, 7: 50.00, 8: 50.00, 9: 50.00},\n",
    "          'AqOff': {0: 20.22, 1: 20.22, 2: 20.22, 3: 20.22, 4: 20.22, 5: 35.00, 6: 35.00, 7: 35.00, 8: 35.00, 9: 35.00}\n",
    "}"
   ],
   "metadata": {
    "collapsed": false,
    "ExecuteTime": {
     "end_time": "2024-02-14T15:51:32.585802900Z",
     "start_time": "2024-02-14T15:51:32.508207800Z"
    }
   },
   "id": "585f534b98b2d048"
  },
  {
   "cell_type": "code",
   "execution_count": 25,
   "outputs": [],
   "source": [
    "def model(name: str, year:int, cost_dict:dict, credit: dict = None, pathway: str = None):\n",
    "    \n",
    "    if pathway is None:\n",
    "        pathway = 'full'\n",
    "    \n",
    "    #*---------------- Resources---------------------------------\n",
    "\n",
    "    Solar = Resource(name='Solar', cons_max=100, basis='MW', label='Solar Power')\n",
    "\n",
    "    Wind = Resource(name='Wind', cons_max=100, basis='MW', label='Wind Power')\n",
    "\n",
    "    Power = Resource(name='Power', basis='MW', label='Power generated')#, demand = True)\n",
    "\n",
    "    Uranium = Resource(name='Uranium', cons_max=100,\n",
    "                    price=42.70/(250/2), basis='kg', label='Uranium')\n",
    "\n",
    "    H2 = Resource(name='H2', basis='tons', label='Hydrogen')\n",
    "\n",
    "    H2_C = Resource(name='H2(C)', basis='tons', label='Hydrogen(C)', demand=True, revenue= 0.005)\n",
    "\n",
    "    CO2_AQoff = Resource(name='CO2_AQoff', basis='tons',\n",
    "                        label='Carbon dioxide - sequestered', sell=True)\n",
    "\n",
    "    H2O = Resource(name='H2O', cons_max=1000,\n",
    "                price=3.00, basis='tons', label='Water', block='Resource')\n",
    "\n",
    "    CH4 = Resource(name='CH4', cons_max=1000, price=max(ng_price_df['CH4'])*1000, basis='tons',\n",
    "                label='Natural gas', varying=[VaryingResource.DETERMINISTIC_PRICE])\n",
    "\n",
    "    CO2 = Resource(name='CO2', basis='tons',\n",
    "                label='Carbon dioxide', block='Resource')\n",
    "\n",
    "    CO2_Vent = Resource(name='CO2_Vent', sell=True, basis='tons',\n",
    "                        label='Carbon dioxide - Vented')\n",
    "\n",
    "    O2 = Resource(name='O2', sell=True, basis='tons', label='Oxygen')\n",
    "\n",
    "    CO2_DAC = Resource(name='CO2_DAC', basis='tons',\n",
    "                    label='Carbon dioxide - captured')\n",
    "\n",
    "    LiI_Power = Resource(name='LiI_Power', basis='MW',\n",
    "                        label='Power in LiI', store_max=10000, store_min=smallM)\n",
    "\n",
    "    PSH_Power = Resource(name='PSH_Power', basis='MW',\n",
    "                        label='Power in PSH', store_max=10000, store_min=smallM)\n",
    "\n",
    "    #*---------------- Processes---------------------------------\n",
    "\n",
    "\n",
    "    PEM = Process(name='PEM', conversion={Power: -1, H2: 0.3537, O2: 2.8302, H2O: -3.1839}, capex= cost_dict['PEM']['CAPEX'][year]*1.55*10**6, \n",
    "                 fopex=0, vopex=0, prod_max=100, prod_min = 0, basis = 'tons', label = 'PEM' )\n",
    "\n",
    "    # LiI = Process(name='LiI', storage=Power, capex=1302182, fopex=41432, vopex=2000,\n",
    "    #             prod_max=100, prod_min=0, store_max=10000, label='Lithium-ion battery', basis='MW')\n",
    "\n",
    "\n",
    "    LiI = Process(name='LiI', conversion={Power: -1, LiI_Power: 1}, capex= cost_dict['LiI']['CAPEX'][year]*1000, \n",
    "                 fopex=cost_dict['LiI']['Fixed O&M'][year]*1000, vopex=cost_dict['LiI']['Variable O&M'][year]*1000,\n",
    "                store_max=10000, store_min=smallM, prod_max=bigM, prod_min=smallM, label='Lithium-ion battery', basis='MW', block='energy_storage')\n",
    "\n",
    "    LiI_discharge = Process(name='LiI', conversion={Power: 1, LiI_Power: -1}, capex=0.1,\n",
    "                            fopex=0.01, vopex=0, prod_max=bigM, prod_min=smallM,  label='Lithium-ion battery (d)', basis='MW')\n",
    "\n",
    "    WF = Process(name='WF', conversion={Wind: -1, Power: 1}, capex= cost_dict['WF']['CAPEX'][year]*1000, \n",
    "                 fopex=cost_dict['WF']['Fixed O&M'][year]*1000, vopex=cost_dict['WF']['Variable O&M'][year]*1000, land = 10800/1800,\n",
    "                prod_max=100, prod_min=0, label='Wind mill array', varying=[VaryingProcess.DETERMINISTIC_CAPACITY], basis='MW')\n",
    "\n",
    "    PV = Process(name='PV', conversion={Solar: -1, Power: 1}, capex= cost_dict['PV']['CAPEX'][year]*1000, \n",
    "                 fopex=cost_dict['PV']['Fixed O&M'][year]*1000, vopex=cost_dict['PV']['Variable O&M'][year]*1000,  land = 10000/1800,\n",
    "                prod_max=100, prod_min=0,  varying= [VaryingProcess.DETERMINISTIC_CAPACITY], label='Solar PV', basis='MW')\n",
    "\n",
    "    H2_Comp = Process(name='H2_Comp', conversion={Power: -0.417, H2_C: 1, H2: -1}, capex= cost_dict['H2_Comp']['CAPEX'][year]*1.6 *\n",
    "                 10**6, fopex= 0, vopex= 0, prod_max=100, prod_min=0,  label='Hydrogen Compression')\n",
    "\n",
    "    SMRH = Process(name='SMRH', conversion={Power: -1.11, CH4: -3.76, H2O: -23.7, H2: 1, CO2_Vent: 1.03, CO2: 9.332}, capex= cost_dict['SMRH']['CAPEX'][year]*252000, \n",
    "                 fopex=cost_dict['SMRH']['Fixed O&M'][year]*945000, vopex=cost_dict['SMRH']['Variable O&M'][year]*51.5,\n",
    "                prod_max=bigM, prod_min=smallM,  label='Steam methane reforming + CCUS', block='h2_prod')\n",
    "\n",
    "    NGCC = Process(name='NGCC', conversion={Power: 1, CH4: -0.108, CO2_Vent: 0.297*0.05, CO2: 0.297 *\n",
    "                0.95},capex= cost_dict['NGCC']['CAPEX'][year]*1000, \n",
    "                 fopex=cost_dict['NGCC']['Fixed O&M'][year]*1000, vopex=cost_dict['NGCC']['Variable O&M'][year]*1000, prod_max=bigM, prod_min=smallM,  label='NGCC + 95% CC', block='power_gen')\n",
    "\n",
    "\n",
    "    NG = Process(name='NG', conversion={Power: 1, CH4: -0.108, CO2_Vent: 0.297},capex= 0.3*cost_dict['NGCC']['CAPEX'][year]*1000, \n",
    "                 fopex= 0.3*cost_dict['NGCC']['Fixed O&M'][year]*1000, vopex= 0.3*cost_dict['NGCC']['Variable O&M'][year]*1000, prod_max=bigM, prod_min=smallM,  label='NGCC + 95% CC', block='power_gen')\n",
    "\n",
    "\n",
    "    SMR = Process(name='SMR', capex= cost_dict['SMR']['CAPEX'][year]*240000, \n",
    "                 fopex=cost_dict['SMR']['Fixed O&M'][year]*800000, vopex=cost_dict['SMR']['Variable O&M'][year]*30,  conversion={\n",
    "                Power: -1.11, CH4: -3.76, H2O: -23.7, H2: 1, CO2_Vent: 9.4979}, prod_max=bigM, prod_min=0.01,  label='Steam methane reforming', block='h2_prod')\n",
    "\n",
    "\n",
    "    PSH = Process(name='PSH', conversion={Power: -1, PSH_Power: 1}, capex= cost_dict['PSH']['CAPEX'][year]*1000, \n",
    "                 fopex=cost_dict['PSH']['Fixed O&M'][year]*1000, vopex=cost_dict['PSH']['Variable O&M'][year]*1000, prod_max=bigM, prod_min=smallM, store_min=smallM, store_max=1000, label='Pumped storage hydropower', basis='MW', block='energy_storage')\n",
    "\n",
    "    PSH_discharge = Process(name='PSH_discharge', conversion={Power: 1, PSH_Power: -1},  capex=0.1,\n",
    "                            fopex=0.01, vopex=0, prod_max=bigM, prod_min=smallM,  label='Pumped storage hydropower (d)', basis='MW')\n",
    "\n",
    "    ASMR = Process(name='ASMR', conversion={Uranium: -4.17*10**(-5), H2O: -3.364, Power: 1}, capex= cost_dict['ASMR']['CAPEX'][year]*1000, \n",
    "                 fopex=cost_dict['ASMR']['Fixed O&M'][year]*1000, vopex=cost_dict['ASMR']['Variable O&M'][year]*1000, prod_max=bigM, prod_min=smallM, label='Small modular reactors (SMRs)', block='power_gen')\n",
    "\n",
    "    AqOff = Process(name='AqOff', conversion={Power: -1.28, CO2_AQoff: 1, CO2: -1}, capex= cost_dict['AqOff']['CAPEX'][year]*552000, \n",
    "                fopex=0, vopex=cost_dict['AqOff']['Variable O&M'][year]*4.140, prod_max=bigM, prod_min=smallM,\n",
    "                label='Offshore aquifer CO2 sequestration (SMR)', block='ccus')\n",
    "    \n",
    "    DAC = Process(name='DAC', capex= cost_dict['DAC']['CAPEX'][year]*1000, \n",
    "                fopex=cost_dict['DAC']['Fixed O&M'][year]*1000, vopex=cost_dict['DAC']['Variable O&M'][year]*1000, conversion={\n",
    "                Power: -0.193, H2O: -4.048, CO2_DAC: 1}, prod_max=bigM, prod_min=smallM,  label='Direct air capture', block='ccus')\n",
    "\n",
    "    \n",
    "    if pathway == 'full':\n",
    "        \n",
    "        process_set = {LiI, WF, ASMR, PEM, H2_Comp, NGCC, AqOff, PSH, SMR, SMRH, PV}\n",
    "    \n",
    "    if pathway == 'green':\n",
    "        \n",
    "        process_set = {LiI, WF, ASMR, PEM, H2_Comp, PSH, PV}\n",
    "    \n",
    "    if pathway == 'blue':\n",
    "         \n",
    "        process_set = {LiI, WF, H2_Comp, NGCC, AqOff, PSH, SMRH, PV}\n",
    "    \n",
    "    if pathway == 'grey':\n",
    "        \n",
    "        process_set = {LiI, H2_Comp, NG, PSH, SMR}\n",
    "    \n",
    "    #*---------------- Location---------------------------------\n",
    "    \n",
    "    if credit is not None:\n",
    "        houston= Location(name='HO', processes=process_set, capacity_factor={PV: solar_houston[:8760*horizon], WF: wind_houston[:8760*horizon]}, price_factor={\n",
    "                   CH4: ng_price_df[:8760*horizon]}, scales=scales, label='Houston (conservative)', expenditure_scale_level=0, demand_scale_level=2, capacity_scale_level=2, \n",
    "                          price_scale_level=2, land_cost = 10000, credit = {AqOff: credit['AqOff'][year], DAC: credit['DAC'][year]})\n",
    "    else:\n",
    "        houston= Location(name='HO', processes=process_set, capacity_factor={PV: solar_houston[:8760*horizon], WF: wind_houston[:8760*horizon]}, price_factor={\n",
    "                   CH4: ng_price_df[:8760*horizon]}, scales=scales, label='Houston (conservative)', expenditure_scale_level=0, demand_scale_level=2, capacity_scale_level=2, price_scale_level=2, land_cost = 10000)\n",
    "\n",
    "    #*---------------- Scenario---------------------------------\n",
    "    \n",
    "    scenario = Scenario(name=name, network=houston, scales=scales,  expenditure_scale_level=0, scheduling_scale_level=2,\n",
    "                    network_scale_level=0, demand_scale_level=1, purchase_scale_level=2, capacity_scale_level = 2, label='full_case', demand={houston: {H2_C: 0.2740}}, annualization_factor = 0.1)\n",
    "\n",
    "    scenario_reduced, repday_reduced, info_reduced =  reduce_scenario(scenario=scenario, periods=40, scale_level=1, method=Clustermethod.AHC, include = [IncludeAHC.CAPACITY, IncludeAHC.PRICE])\n",
    "\n",
    "    \n",
    "    return scenario_reduced\n",
    "\n"
   ],
   "metadata": {
    "collapsed": false,
    "ExecuteTime": {
     "end_time": "2024-02-14T15:51:40.692891700Z",
     "start_time": "2024-02-14T15:51:40.616673500Z"
    }
   },
   "id": "a3b21441eae34993"
  },
  {
   "cell_type": "code",
   "execution_count": null,
   "outputs": [],
   "source": [],
   "metadata": {
    "collapsed": false
   },
   "id": "c9f7d66fec3738e"
  }
 ],
 "metadata": {
  "kernelspec": {
   "display_name": "Python 3",
   "language": "python",
   "name": "python3"
  },
  "language_info": {
   "codemirror_mode": {
    "name": "ipython",
    "version": 2
   },
   "file_extension": ".py",
   "mimetype": "text/x-python",
   "name": "python",
   "nbconvert_exporter": "python",
   "pygments_lexer": "ipython2",
   "version": "2.7.6"
  }
 },
 "nbformat": 4,
 "nbformat_minor": 5
}
