{
 "cells": [
  {
   "cell_type": "code",
   "execution_count": 8,
   "id": "initial_id",
   "metadata": {
    "collapsed": true,
    "ExecuteTime": {
     "end_time": "2023-11-22T21:47:10.588729400Z",
     "start_time": "2023-11-22T21:47:10.557485400Z"
    }
   },
   "outputs": [],
   "source": [
    "import sys\n",
    "sys.path.append('../../src')\n",
    "import pandas\n",
    "import random\n",
    "import math\n",
    "import matplotlib.pyplot as plt\n",
    "from matplotlib import rc\n",
    "from energiapy.components.temporal_scale import TemporalScale\n",
    "from energiapy.components.resource import Resource, VaryingResource\n",
    "from energiapy.components.process import Process, ProcessMode, VaryingProcess\n",
    "from energiapy.components.location import Location\n",
    "from energiapy.components.transport import Transport, VaryingTransport\n",
    "from energiapy.components.network import Network\n",
    "from energiapy.components.scenario import Scenario\n",
    "from energiapy.model.constraints.demand import constraint_demand2\n",
    "from energiapy.components.result import Result\n",
    "from energiapy.model.formulate import formulate, Constraints, Objective\n",
    "from energiapy.plot import plot_results, plot_scenario, plot_location\n",
    "from energiapy.model.solve import solve\n",
    "from pyomo.environ import Param\n",
    "from energiapy.utils.scale_utils import scale_pyomo_set"
   ]
  },
  {
   "cell_type": "code",
   "execution_count": 4,
   "outputs": [],
   "source": [
    "_time_intervals = 30  # Number of time intervals in a planning horizon    (L_chi)\n",
    "_coms = 1\n",
    "_exec_scenarios = 12  # Number of execution scenarios                     (chi)\n",
    "\n",
    "M = 1e3  # Big M\n",
    "\n",
    "init = [1]\n",
    "\n",
    "# loc1_varying_factor = pandas.DataFrame(data={'com1_pur': init+[round(random.uniform(0, 0.75), 2) for _ in range(_exec_scenarios-1)]})\n",
    "\n",
    "T45_varying_factor = pandas.DataFrame(data={'truck100_45': [1, 0.72, 0.59, 0.26, 0.47, 0.64, 0.68, 0.51, 0.32, 0.49, 0.5, 0.67]})\n",
    "\n",
    "# Define temporal scales\n",
    "scales = TemporalScale(discretization_list=[1, _exec_scenarios, _time_intervals])\n",
    "\n",
    "demand_factor = [1]*_exec_scenarios"
   ],
   "metadata": {
    "collapsed": false,
    "ExecuteTime": {
     "end_time": "2023-11-22T21:46:13.248350400Z",
     "start_time": "2023-11-22T21:46:13.217077500Z"
    }
   },
   "id": "668cd6d7fcbcd20f"
  },
  {
   "cell_type": "code",
   "execution_count": 5,
   "outputs": [],
   "source": [
    "# ======================================================================================================================\n",
    "# Declare resources/commodities\n",
    "# ======================================================================================================================\n",
    "\n",
    "com1_pur = Resource(name='com1_pur', cons_max=100, block={'imp': 1, 'urg': 1}, price=0.00, label='Commodity 1 consumed from outside the system')\n",
    "\n",
    "com1_in = Resource(name='com1_in', label='Commodity 1 received')\n",
    "com1_out = Resource(name='com1_out', label='Commodity 1 to be sent out')\n",
    "\n",
    "com1_loc1_out = Resource(name='com1_loc1_out', label='Commodity 1 sent out from location 1')\n",
    "com1_loc2_out = Resource(name='com1_loc2_out', label='Commodity 1 sent out from location 2')\n",
    "com1_loc3_out = Resource(name='com1_loc3_out', label='Commodity 1 sent out from location 3')\n",
    "com1_loc4_out = Resource(name='com1_loc4_out', label='Commodity 1 sent out from location 4')\n",
    "com1_loc5_out = Resource(name='com1_loc5_out', label='Commodity 1 sent out from location 5')\n",
    "com1_loc6_out = Resource(name='com1_loc6_out', label='Commodity 1 sent out from location 6')\n",
    "com1_loc7_out = Resource(name='com1_loc7_out', label='Commodity 1 sent out from location 7')\n",
    "\n",
    "com1_sold = Resource(name='com1_sold', revenue=0.00, demand=True, sell=True, label='Commodity 1 sold to outside the system')"
   ],
   "metadata": {
    "collapsed": false,
    "ExecuteTime": {
     "end_time": "2023-11-22T21:46:26.138555300Z",
     "start_time": "2023-11-22T21:46:26.107378900Z"
    }
   },
   "id": "e04611344e146cc2"
  },
  {
   "cell_type": "code",
   "execution_count": 6,
   "outputs": [],
   "source": [
    "# ======================================================================================================================\n",
    "# Declare processes/storage capacities\n",
    "# ======================================================================================================================\n",
    "com1_procure = Process(name='procure com1', prod_max=100, conversion={com1_pur: -1, com1_in: 1}, capex=0.1, vopex=0.1, fopex=0.1, prod_min=0.001,\n",
    "                  label='Procure com1')\n",
    "com1_sell = Process(name='sell com1', prod_max=M, conversion={com1_out: -1, com1_sold: 1}, capex=0.1, vopex=0.1, fopex=0.1,\n",
    "                  label='Sell com1')\n",
    "\n",
    "com1_receive_loc1 = Process(name='com1_receive_loc1', prod_max=125, conversion={com1_loc1_out:-1, com1_in:1}, capex=0.1, vopex=0.1, fopex=0.1, prod_min=0.001,\n",
    "                            label='Commodity 1 received from location 1')\n",
    "com1_receive_loc2 = Process(name='com1_receive_loc2', prod_max=125, conversion={com1_loc2_out:-1, com1_in:1}, capex=0.1, vopex=0.1, fopex=0.1, prod_min=0.001,\n",
    "                            label='Commodity 1 received from location 2')\n",
    "com1_receive_loc3 = Process(name='com1_receive_loc3', prod_max=125, conversion={com1_loc3_out:-1, com1_in:1}, capex=0.1, vopex=0.1, fopex=0.1, prod_min=0.001,\n",
    "                            label='Commodity 1 received from location 3')\n",
    "com1_receive_loc4 = Process(name='com1_receive_loc4', prod_max=125, conversion={com1_loc4_out:-1, com1_in:1}, capex=0.1, vopex=0.1, fopex=0.1, prod_min=0.001,\n",
    "                            label='Commodity 1 received from location 4')\n",
    "com1_receive_loc5 = Process(name='com1_receive_loc5', prod_max=125, conversion={com1_loc5_out:-1, com1_in:1}, capex=0.1, vopex=0.1, fopex=0.1, prod_min=0.001,\n",
    "                            label='Commodity 1 received from location 5')\n",
    "com1_receive_loc6 = Process(name='com1_receive_loc6', prod_max=125, conversion={com1_loc6_out:-1, com1_in:1}, capex=0.1, vopex=0.1, fopex=0.1, prod_min=0.001,\n",
    "                            label='Commodity 1 received from location 6')\n",
    "com1_receive_loc7 = Process(name='com1_receive_loc7', prod_max=125, conversion={com1_loc7_out:-1, com1_in:1}, capex=0.1, vopex=0.1, fopex=0.1, prod_min=0.001,\n",
    "                            label='Commodity 1 received from location 7')\n",
    "\n",
    "com1_process = Process(name='com1_process', prod_max=125, conversion={com1_in:-1, com1_out:1}, capex=0.1, vopex=0.1, fopex=0.1, prod_min=0.001,\n",
    "                            label='Process the commodity through the location')\n",
    "\n",
    "com1_store10 = Process(name='com1_store10', prod_max=125, capex=100, vopex=1, store_min=0.01, store_max= 10, prod_min=0.001,\n",
    "                  label=\"Storage capacity of 10 units\", storage=com1_in, storage_cost=0.02)\n",
    "\n",
    "com1_store20 = Process(name='com1_store20', prod_max=125, capex=125, vopex=2, store_min=0.01,store_max= 20, prod_min=0.001,\n",
    "                  label=\"Storage capacity of 20 units\", storage=com1_in, storage_cost=0.02)\n",
    "\n",
    "com1_store50 = Process(name='com1_store50', prod_max=125, capex=500, vopex=5, store_min=0.01, store_max= 50, prod_min=0.001,\n",
    "                  label=\"Storage capacity of 50 units\", storage=com1_in, storage_cost=0.02)\n",
    "\n",
    "com1_loc1_send = Process(name='com1_loc1_send', prod_max=125, conversion={com1_out:-1, com1_loc1_out:1}, capex=0.1, vopex=0.1, fopex=0.1, prod_min=0.001,\n",
    "                            label='Send commodity one from location 1')\n",
    "com1_loc2_send = Process(name='com1_loc2_send', prod_max=125, conversion={com1_out:-1, com1_loc2_out:1}, capex=0.1, vopex=0.1, fopex=0.1, prod_min=0.001,\n",
    "                            label='Send commodity one from location 2')\n",
    "com1_loc3_send = Process(name='com1_loc3_send', prod_max=125, conversion={com1_out:-1, com1_loc3_out:1}, capex=0.1, vopex=0.1, fopex=0.1, prod_min=0.001,\n",
    "                            label='Send commodity one from location 3')\n",
    "com1_loc4_send = Process(name='com1_loc4_send', prod_max=125, conversion={com1_out:-1, com1_loc4_out:1}, capex=0.1, vopex=0.1, fopex=0.1, prod_min=0.001,\n",
    "                            label='Send commodity one from location 4')\n",
    "com1_loc5_send = Process(name='com1_loc5_send', prod_max=125, conversion={com1_out:-1, com1_loc5_out:1}, capex=0.1, vopex=0.1, fopex=0.1, prod_min=0.001,\n",
    "                            label='Send commodity one from location 5')\n",
    "com1_loc6_send = Process(name='com1_loc6_send', prod_max=125, conversion={com1_out:-1, com1_loc6_out:1}, capex=0.1, vopex=0.1, fopex=0.1, prod_min=0.001,\n",
    "                            label='Send commodity one from location 6')\n",
    "com1_loc7_send = Process(name='com1_loc7_send', prod_max=125, conversion={com1_out:-1, com1_loc7_out:1}, capex=0.1, vopex=0.1, fopex=0.1, prod_min=0.001,\n",
    "                            label='Send commodity one from location 7')"
   ],
   "metadata": {
    "collapsed": false,
    "ExecuteTime": {
     "end_time": "2023-11-22T21:46:35.092797300Z",
     "start_time": "2023-11-22T21:46:35.030308Z"
    }
   },
   "id": "e94623e986d4fcc6"
  },
  {
   "cell_type": "code",
   "execution_count": 7,
   "outputs": [],
   "source": [
    "# ======================================================================================================================\n",
    "# Declare locations/warehouses\n",
    "# ======================================================================================================================\n",
    "loc1 = Location(name='loc1', processes={com1_procure, com1_receive_loc2, com1_receive_loc3, com1_process, com1_store20, com1_loc1_send}, label=\"Location 1\", scales=scales, demand_scale_level=2,\n",
    "                capacity_scale_level=1, availability_scale_level=1)\n",
    "\n",
    "loc2 = Location(name='loc2', processes={com1_receive_loc1, com1_receive_loc4, com1_receive_loc5, com1_process, com1_store20, com1_loc2_send}, label=\"Location 2\", scales=scales, demand_scale_level=2,\n",
    "                capacity_scale_level=1, availability_scale_level=1)\n",
    "\n",
    "loc3 = Location(name='loc3', processes={com1_receive_loc1, com1_receive_loc4, com1_process, com1_store20, com1_loc3_send}, label=\"Location 3\", scales=scales, demand_scale_level=2,\n",
    "                capacity_scale_level=1, availability_scale_level=1)\n",
    "\n",
    "loc4 = Location(name='loc4', processes={com1_receive_loc2, com1_receive_loc3, com1_receive_loc6, com1_receive_loc5, com1_receive_loc7, com1_process, com1_store50, com1_loc4_send}, label=\"Location 4\", scales=scales, demand_scale_level=2,\n",
    "                capacity_scale_level=1, availability_scale_level=1)\n",
    "\n",
    "loc5 = Location(name='loc5', processes={com1_receive_loc2, com1_receive_loc4, com1_receive_loc7, com1_process, com1_store50, com1_loc5_send, com1_sell}, label=\"Location 5\", scales=scales, demand_scale_level=2,\n",
    "                capacity_scale_level=1, availability_scale_level=1)\n",
    "\n",
    "loc6 = Location(name='loc6', processes={com1_procure, com1_receive_loc4, com1_process, com1_store10, com1_loc6_send}, label=\"Location 6\", scales=scales, demand_scale_level=2,\n",
    "                capacity_scale_level=1, availability_scale_level=1)\n",
    "\n",
    "loc7 = Location(name='loc7', processes={com1_receive_loc4, com1_receive_loc5, com1_process, com1_store20, com1_loc7_send}, label=\"Location 7\", scales=scales, demand_scale_level=2,\n",
    "                capacity_scale_level=1, availability_scale_level=1)"
   ],
   "metadata": {
    "collapsed": false,
    "ExecuteTime": {
     "end_time": "2023-11-22T21:46:43.502917800Z",
     "start_time": "2023-11-22T21:46:43.440321200Z"
    }
   },
   "id": "29bdb1cbc43b3160"
  },
  {
   "cell_type": "code",
   "execution_count": 9,
   "outputs": [],
   "source": [
    "# ======================================================================================================================\n",
    "# Declare transport/trucks\n",
    "# ======================================================================================================================\n",
    "\n",
    "truck50_12 = Transport(name='truck50_12', resources={com1_loc1_out}, trans_max=50, label='Truck capacity of 50 units from location 1 to 2', capex=0.5, vopex=0.05, trans_min=0.01)\n",
    "truck50_21 = Transport(name='truck50_21', resources={com1_loc2_out}, trans_max=50, label='Truck capacity of 50 units from location 2 to 1', capex=0.0001, vopex=0.05, trans_min=0.01)\n",
    "\n",
    "truck30_13 = Transport(name='truck30_13', resources={com1_loc1_out}, trans_max=30, label='Truck capacity of 30 units from location 1 to 3', capex=0.3, vopex=0.03, trans_min=0.01)\n",
    "truck30_31 = Transport(name='truck30_31', resources={com1_loc3_out}, trans_max=30, label='Truck capacity of 30 units from location 3 to 1', capex=0.0001, vopex=0.03, trans_min=0.01)\n",
    "\n",
    "truck50_24 = Transport(name='truck50_24', resources={com1_loc2_out}, trans_max=50, label='Truck capacity of 50 units from location 2 to 4', capex=0.5, vopex=0.05, trans_min=0.01)\n",
    "truck50_42 = Transport(name='truck50_42', resources={com1_loc4_out}, trans_max=50, label='Truck capacity of 50 units from location 4 to 2', capex=0.0001, vopex=0.05, trans_min=0.01)\n",
    "\n",
    "truck30_25 = Transport(name='truck30_25', resources={com1_loc2_out}, trans_max=30, label='Truck capacity of 30 units from location 2 to 5', capex=0.3, vopex=0.03, trans_min=0.01)\n",
    "truck30_52 = Transport(name='truck30_52', resources={com1_loc5_out}, trans_max=30, label='Truck capacity of 30 units from location 5 to 2', capex=0.0001, vopex=0.03, trans_min=0.01)\n",
    "\n",
    "truck20_34 = Transport(name='truck20_34', resources={com1_loc3_out}, trans_max=20, label='Truck capacity of 20 units from location 3 to 4', capex=0.2, vopex=0.02, trans_min=0.01)\n",
    "truck20_43 = Transport(name='truck20_43', resources={com1_loc4_out}, trans_max=20, label='Truck capacity of 20 units from location 4 to 3', capex=0.0001, vopex=0.02, trans_min=0.01)\n",
    "\n",
    "truck100_45 = Transport(name='truck100_45', resources={com1_loc4_out}, trans_max=100, label='Truck capacity of 100 units from location 4 to 5', capex=1, vopex=0.1, trans_min=0.01, varying=[VaryingTransport.DETERMINISTIC_CAPACITY])\n",
    "truck100_54 = Transport(name='truck100_54', resources={com1_loc5_out}, trans_max=100, label='Truck capacity of 100 units from location 5 to 4', capex=0.0001, vopex=0.1, trans_min=0.01)\n",
    "\n",
    "truck40_47 = Transport(name='truck40_47', resources={com1_loc4_out}, trans_max=40, label='Truck capacity of 40 units from location 4 to 7', capex=0.4, vopex=0.04, trans_min=0.01)\n",
    "truck40_74 = Transport(name='truck40_74', resources={com1_loc7_out}, trans_max=40, label='Truck capacity of 40 units from location 7 to 4', capex=0.0001, vopex=0.04, trans_min=0.01)\n",
    "\n",
    "truck50_64 = Transport(name='truck50_64', resources={com1_loc6_out}, trans_max=50, label='Truck capacity of 50 units from location 6 to 4', capex=0.5, vopex=0.05, trans_min=0.01)\n",
    "truck50_46 = Transport(name='truck50_46', resources={com1_loc4_out}, trans_max=50, label='Truck capacity of 50 units from location 4 to 6', capex=0.0001, vopex=0.05, trans_min=0.01)\n",
    "\n",
    "truck40_75 = Transport(name='truck40_75', resources={com1_loc7_out}, trans_max=40, label='Truck capacity of 40 units from location 7 to 5', capex=0.4, vopex=0.04, trans_min=0.01)\n",
    "truck40_57 = Transport(name='truck40_57', resources={com1_loc5_out}, trans_max=40, label='Truck capacity of 40 units from location 5 to 7', capex=0.0001, vopex=0.04, trans_min=0.01)"
   ],
   "metadata": {
    "collapsed": false,
    "ExecuteTime": {
     "end_time": "2023-11-22T21:47:56.641835900Z",
     "start_time": "2023-11-22T21:47:56.594693700Z"
    }
   },
   "id": "f874eba7b055a5c7"
  },
  {
   "cell_type": "code",
   "execution_count": 14,
   "outputs": [],
   "source": [
    "# ======================================================================================================================\n",
    "# Declare network\n",
    "# ======================================================================================================================\n",
    "transport_matrix = [\n",
    "    [[], [truck50_12], [truck30_13], [], [], [], []],  # source: location 1\n",
    "    [[truck50_21], [], [], [truck50_24], [truck30_25], [], []],  # source: location 2\n",
    "    [[truck30_31], [], [], [truck20_34], [], [], []],  # source: location 3\n",
    "    [[], [truck50_42], [truck20_43], [], [truck100_45], [truck50_46], [truck40_47]],  # source: location 4\n",
    "    [[], [truck30_52], [], [truck100_54], [], [], [truck40_57]],  # source: location 5\n",
    "    [[], [], [], [truck50_64], [], [], []],  # source: location 6\n",
    "    [[], [], [], [truck40_74], [truck40_75], [], []]  # source: location 7\n",
    "]\n",
    "\n",
    "distance_matrix = [\n",
    "    [0, 55, 196, M, M, M, M],\n",
    "    [55, 0, M, 163, 112, M, 134],\n",
    "    [196, M, 0, 63, M, M, M],\n",
    "    [M, 163, 63, 0, 95, 117, 88],\n",
    "    [M, 112, M, 95, 0, M, 134],\n",
    "    [M, M, M, 117, M, 0, M],\n",
    "    [M, 134, M, 88, 134, M, 0]\n",
    "]\n",
    "\n",
    "transport_capacity_factor = {(loc4, loc5): {truck100_45: T45_varying_factor[['truck100_45']]}}\n",
    "\n",
    "locset = [loc1, loc2, loc3, loc4, loc5, loc6, loc7]\n",
    "\n",
    "sources = locset\n",
    "sinks = locset\n",
    "\n",
    "network = Network(name='Network', scales= scales, source_locations=sources, sink_locations=sinks, transport_matrix=transport_matrix, distance_matrix=distance_matrix, transport_capacity_scale_level=1, transport_capacity_factor={(loc4, loc5): {truck100_45: T45_varying_factor[['truck100_45']]}})"
   ],
   "metadata": {
    "collapsed": false,
    "ExecuteTime": {
     "end_time": "2023-11-22T21:56:18.626026400Z",
     "start_time": "2023-11-22T21:56:18.563286300Z"
    }
   },
   "id": "d9474752e547813d"
  },
  {
   "cell_type": "code",
   "execution_count": 15,
   "outputs": [
    {
     "data": {
      "text/plain": "{(loc4,\n  loc5): {truck100_45:     truck100_45\n  0          1.00\n  1          0.72\n  2          0.59\n  3          0.26\n  4          0.47\n  5          0.64\n  6          0.68\n  7          0.51\n  8          0.32\n  9          0.49\n  10         0.50\n  11         0.67}}"
     },
     "execution_count": 15,
     "metadata": {},
     "output_type": "execute_result"
    }
   ],
   "source": [
    "transport_capacity_factor"
   ],
   "metadata": {
    "collapsed": false,
    "ExecuteTime": {
     "end_time": "2023-11-22T21:56:20.492885700Z",
     "start_time": "2023-11-22T21:56:20.461642900Z"
    }
   },
   "id": "26a7fb813103e8c1"
  },
  {
   "cell_type": "code",
   "execution_count": null,
   "outputs": [],
   "source": [],
   "metadata": {
    "collapsed": false
   },
   "id": "755d117b340a43e5"
  }
 ],
 "metadata": {
  "kernelspec": {
   "display_name": "Python 3",
   "language": "python",
   "name": "python3"
  },
  "language_info": {
   "codemirror_mode": {
    "name": "ipython",
    "version": 2
   },
   "file_extension": ".py",
   "mimetype": "text/x-python",
   "name": "python",
   "nbconvert_exporter": "python",
   "pygments_lexer": "ipython2",
   "version": "2.7.6"
  }
 },
 "nbformat": 4,
 "nbformat_minor": 5
}
