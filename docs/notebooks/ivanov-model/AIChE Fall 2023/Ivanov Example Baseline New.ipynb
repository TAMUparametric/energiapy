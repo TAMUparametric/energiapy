{
 "cells": [
  {
   "cell_type": "code",
   "execution_count": 1,
   "id": "initial_id",
   "metadata": {
    "collapsed": true,
    "ExecuteTime": {
     "end_time": "2023-11-03T16:18:54.186805400Z",
     "start_time": "2023-11-03T16:18:49.297430800Z"
    }
   },
   "outputs": [],
   "source": [
    "import sys\n",
    "sys.path.append('../../src')\n",
    "import pandas\n",
    "import random\n",
    "import math\n",
    "from energiapy.components.temporal_scale import TemporalScale\n",
    "from energiapy.components.resource import Resource, VaryingResource\n",
    "from energiapy.components.process import Process, ProcessMode, VaryingProcess\n",
    "from energiapy.components.location import Location\n",
    "from energiapy.components.transport import Transport\n",
    "from energiapy.components.network import Network\n",
    "from energiapy.components.scenario import Scenario\n",
    "# from energiapy.model.constraints.demand import constraint_demand2\n",
    "from energiapy.components.result import Result\n",
    "from energiapy.model.formulate import formulate, Constraints, Objective\n",
    "from energiapy.plot import plot_results, plot_scenario, plot_location\n",
    "from energiapy.model.solve import solve\n",
    "from pyomo.environ import Param\n",
    "from energiapy.utils.scale_utils import scale_pyomo_set"
   ]
  },
  {
   "cell_type": "code",
   "execution_count": 2,
   "outputs": [],
   "source": [
    "_time_intervals = 30  # Number of time intervals in a planning horizon    (L_chi)\n",
    "_coms = 1\n",
    "_exec_scenarios = 12  # Number of execution scenarios                     (chi)\n",
    "\n",
    "M = 1e3  # Big M\n",
    "\n",
    "# Define temporal scales\n",
    "scales = TemporalScale(discretization_list=[1, _exec_scenarios, _time_intervals])"
   ],
   "metadata": {
    "collapsed": false,
    "ExecuteTime": {
     "end_time": "2023-11-03T16:18:54.207111600Z",
     "start_time": "2023-11-03T16:18:54.186805400Z"
    }
   },
   "id": "c95c89fa0553b9fb"
  },
  {
   "cell_type": "code",
   "execution_count": 3,
   "outputs": [],
   "source": [
    "# ======================================================================================================================\n",
    "# Declare resources/commodities\n",
    "# ======================================================================================================================\n",
    "\n",
    "com1_pur = Resource(name='com1_pur', cons_max=150, block={'imp': 1, 'urg': 1}, price=0.00,\n",
    "                    label='Commodity 1 consumed from outside the system')\n",
    "\n",
    "com1_in = Resource(name='com1_in', label='Commodity 1 received')\n",
    "\n",
    "com1_stored10 = Resource(name='com1_stored10', store_max=10, store_min=0.01,label='Commodity 1 in storage10')\n",
    "com1_stored20 = Resource(name='com1_stored20', store_max=20, store_min=0.01, label='Commodity 1 in storage20')\n",
    "com1_stored50 = Resource(name='com1_stored50', store_max=50, store_min=0.01, label='Commodity 1 in storage50')\n",
    "\n",
    "com1_out = Resource(name='com1_out', label='Commodity 1 to be sent out')\n",
    "\n",
    "com1_loc1_out = Resource(name='com1_loc1_out', label='Commodity 1 sent out from location 1')\n",
    "com1_loc2_out = Resource(name='com1_loc2_out', label='Commodity 1 sent out from location 2')\n",
    "com1_loc3_out = Resource(name='com1_loc3_out', label='Commodity 1 sent out from location 3')\n",
    "com1_loc4_out = Resource(name='com1_loc4_out', label='Commodity 1 sent out from location 4')\n",
    "com1_loc6_out = Resource(name='com1_loc6_out', label='Commodity 1 sent out from location 6')\n",
    "com1_loc7_out = Resource(name='com1_loc7_out', label='Commodity 1 sent out from location 7')\n",
    "\n",
    "com1_sold = Resource(name='com1_sold', revenue=0.00, demand=True, sell=True, label='Commodity 1 sold to outside the system')"
   ],
   "metadata": {
    "collapsed": false,
    "ExecuteTime": {
     "end_time": "2023-11-03T16:18:54.245296Z",
     "start_time": "2023-11-03T16:18:54.207111600Z"
    }
   },
   "id": "6912ec03ce228d46"
  },
  {
   "cell_type": "code",
   "execution_count": 4,
   "outputs": [],
   "source": [
    "# ======================================================================================================================\n",
    "# Declare processes/storage capacities\n",
    "# ======================================================================================================================\n",
    "com1_procure = Process(name='procure com1', prod_max=150, conversion={com1_pur: -1, com1_in: 1}, capex=0.1, vopex=0.1, fopex=0.1,\n",
    "                  label='Procure com1')\n",
    "com1_sell = Process(name='sell com1', prod_max=M, conversion={com1_out: -1, com1_sold: 1}, capex=0.1, vopex=0.1, fopex=0.1,\n",
    "                  label='Sell com1')\n",
    "\n",
    "com1_receive_loc1 = Process(name='com1_receive_loc1', prod_max=125, conversion={com1_loc1_out:-1, com1_in:1}, capex=0.1, vopex=0.1, fopex=0.1,\n",
    "                            label='Commodity 1 received from location 1')\n",
    "com1_receive_loc2 = Process(name='com1_receive_loc2', prod_max=125, conversion={com1_loc2_out:-1, com1_in:1}, capex=0.1, vopex=0.1, fopex=0.1,\n",
    "                            label='Commodity 1 received from location 2')\n",
    "com1_receive_loc3 = Process(name='com1_receive_loc3', prod_max=125, conversion={com1_loc3_out:-1, com1_in:1}, capex=0.1, vopex=0.1, fopex=0.1,\n",
    "                            label='Commodity 1 received from location 3')\n",
    "com1_receive_loc4 = Process(name='com1_receive_loc4', prod_max=125, conversion={com1_loc4_out:-1, com1_in:1}, capex=0.1, vopex=0.1, fopex=0.1,\n",
    "                            label='Commodity 1 received from location 4')\n",
    "com1_receive_loc6 = Process(name='com1_receive_loc6', prod_max=125, conversion={com1_loc6_out:-1, com1_in:1}, capex=0.1, vopex=0.1, fopex=0.1,\n",
    "                            label='Commodity 1 received from location 6')\n",
    "com1_receive_loc7 = Process(name='com1_receive_loc7', prod_max=125, conversion={com1_loc7_out:-1, com1_in:1}, capex=0.1, vopex=0.1, fopex=0.1,\n",
    "                            label='Commodity 1 received from location 7')\n",
    "\n",
    "com1_process = Process(name='com1_process', prod_max=125, conversion={com1_in:-1, com1_out:1}, capex=0.1, vopex=0.1, fopex=0.1,\n",
    "                            label='Process the commodity through the location')\n",
    "\n",
    "com1_store10 = Process(name='com1_store10', conversion={com1_in:-1, com1_stored10:1}, prod_max=125, capex=100, vopex=1, store_min=0.01,\n",
    "                  label=\"Storage capacity of 10 units\")\n",
    "com1_discharge10 = Process(name='com1_discharge10', conversion={com1_stored10:-1, com1_out:1},  prod_max=125,\n",
    "                                 label='Discharge process from storage')\n",
    "\n",
    "com1_store20 = Process(name='com1_store20', conversion={com1_in:-1, com1_stored20:1}, prod_max=125, capex=125, vopex=2, store_min=0.01,\n",
    "                  label=\"Storage capacity of 20 units\")\n",
    "com1_discharge20 = Process(name='com1_discharge20', conversion={com1_stored20:-1, com1_out:1}, prod_max=125,\n",
    "                                 label='Discharge process from storage')\n",
    "\n",
    "com1_store50 = Process(name='com1_store50', conversion={com1_in:-1, com1_stored50:1}, prod_max=125, capex=500, vopex=5, store_min=0.01,\n",
    "                  label=\"Storage capacity of 50 units\")\n",
    "com1_discharge50 = Process(name='com1_discharge50', conversion={com1_stored50:-1, com1_out:1}, prod_max=125,\n",
    "                                 label='Discharge process from storage')\n",
    "\n",
    "com1_loc1_send = Process(name='com1_loc1_send', prod_max=125, conversion={com1_out:-1, com1_loc1_out:1}, capex=0.1, vopex=0.1, fopex=0.1,\n",
    "                            label='Send commodity one from location 1')\n",
    "com1_loc2_send = Process(name='com1_loc2_send', prod_max=125, conversion={com1_out:-1, com1_loc2_out:1}, capex=0.1, vopex=0.1, fopex=0.1,\n",
    "                            label='Send commodity one from location 1')\n",
    "com1_loc3_send = Process(name='com1_loc3_send', prod_max=125, conversion={com1_out:-1, com1_loc3_out:1}, capex=0.1, vopex=0.1, fopex=0.1,\n",
    "                            label='Send commodity one from location 1')\n",
    "com1_loc4_send = Process(name='com1_loc4_send', prod_max=125, conversion={com1_out:-1, com1_loc4_out:1}, capex=0.1, vopex=0.1, fopex=0.1,\n",
    "                            label='Send commodity one from location 1')\n",
    "com1_loc6_send = Process(name='com1_loc6_send', prod_max=125, conversion={com1_out:-1, com1_loc6_out:1}, capex=0.1, vopex=0.1, fopex=0.1,\n",
    "                            label='Send commodity one from location 1')\n",
    "com1_loc7_send = Process(name='com1_loc7_send', prod_max=125, conversion={com1_out:-1, com1_loc7_out:1}, capex=0.1, vopex=0.1, fopex=0.1,\n",
    "                            label='Send commodity one from location 1')\n"
   ],
   "metadata": {
    "collapsed": false,
    "ExecuteTime": {
     "end_time": "2023-11-03T16:18:54.245296Z",
     "start_time": "2023-11-03T16:18:54.235288Z"
    }
   },
   "id": "cd05c6212f798e6a"
  },
  {
   "cell_type": "code",
   "execution_count": 5,
   "outputs": [],
   "source": [
    "# ======================================================================================================================\n",
    "# Declare locations/warehouses\n",
    "# ======================================================================================================================\n",
    "loc1 = Location(name='loc1', processes={com1_procure, com1_process, com1_store20, com1_discharge20, com1_loc1_send}, label=\"Location 1\", scales=scales, demand_scale_level=2,\n",
    "                capacity_scale_level=1, availability_scale_level=1)\n",
    "\n",
    "loc2 = Location(name='loc2', processes={com1_receive_loc1, com1_process, com1_store20, com1_discharge20, com1_loc2_send}, label=\"Location 2\", scales=scales, demand_scale_level=2,\n",
    "                capacity_scale_level=1, availability_scale_level=1)\n",
    "\n",
    "loc3 = Location(name='loc3', processes={com1_receive_loc1, com1_process, com1_store20, com1_discharge20, com1_loc3_send}, label=\"Location 3\", scales=scales, demand_scale_level=2,\n",
    "                capacity_scale_level=1, availability_scale_level=1)\n",
    "\n",
    "loc4 = Location(name='loc4', processes={com1_receive_loc2, com1_receive_loc3, com1_receive_loc6, com1_process, com1_store50, com1_discharge50, com1_loc4_send}, label=\"Location 4\", scales=scales, demand_scale_level=2,\n",
    "                capacity_scale_level=1, availability_scale_level=1)\n",
    "\n",
    "loc5 = Location(name='loc5', processes={com1_receive_loc2, com1_receive_loc4, com1_receive_loc7, com1_process, com1_store50, com1_discharge50, com1_sell,}, label=\"Location 5\", scales=scales, demand_scale_level=2,\n",
    "                capacity_scale_level=1, availability_scale_level=1)\n",
    "\n",
    "loc6 = Location(name='loc6', processes={com1_procure, com1_process, com1_store10, com1_discharge10, com1_loc6_send}, label=\"Location 6\", scales=scales, demand_scale_level=2,\n",
    "                capacity_scale_level=1, availability_scale_level=1)\n",
    "\n",
    "loc7 = Location(name='loc7', processes={com1_receive_loc4, com1_process, com1_store20, com1_discharge20, com1_loc7_send}, label=\"Location 7\", scales=scales, demand_scale_level=2,\n",
    "                capacity_scale_level=1, availability_scale_level=1)"
   ],
   "metadata": {
    "collapsed": false,
    "ExecuteTime": {
     "end_time": "2023-11-03T16:18:54.276545300Z",
     "start_time": "2023-11-03T16:18:54.245296Z"
    }
   },
   "id": "670d9df8e4e91d16"
  },
  {
   "cell_type": "code",
   "execution_count": 6,
   "outputs": [],
   "source": [
    "# ======================================================================================================================\n",
    "# Declare transport/trucks\n",
    "# ======================================================================================================================\n",
    "truck20_34 = Transport(name='truck20_34', resources={com1_loc3_out}, trans_max=20, label='Truck with maximum capacity of 20 units', capex=20, vopex=0.02, trans_min=0.01)\n",
    "truck30_13 = Transport(name='truck30_13', resources={com1_loc1_out}, trans_max=30, label='Truck with maximum capacity of 30 units', capex=30, vopex=0.03, trans_min=0.01)\n",
    "truck30_25 = Transport(name='truck30_25', resources={com1_loc2_out}, trans_max=30, label='Truck with maximum capacity of 30 units', capex=30, vopex=0.03, trans_min=0.01)\n",
    "truck40_47 = Transport(name='truck40_47', resources={com1_loc4_out}, trans_max=40, label='Truck with maximum capacity of 40 units', capex=40, vopex=0.04, trans_min=0.01)\n",
    "truck40_75 = Transport(name='truck40_75', resources={com1_loc7_out}, trans_max=40, label='Truck with maximum capacity of 40 units', capex=40, vopex=0.04, trans_min=0.01)\n",
    "truck50_12 = Transport(name='truck50_12', resources={com1_loc1_out}, trans_max=50, label='Truck with maximum capacity of 50 units', capex=50, vopex=0.05, trans_min=0.01)\n",
    "truck50_24 = Transport(name='truck50_24', resources={com1_loc2_out}, trans_max=50, label='Truck with maximum capacity of 50 units', capex=50, vopex=0.05, trans_min=0.01)\n",
    "truck50_64 = Transport(name='truck50_64', resources={com1_loc6_out}, trans_max=50, label='Truck with maximum capacity of 50 units', capex=50, vopex=0.05, trans_min=0.01)\n",
    "truck100_45 = Transport(name='truck100_45', resources={com1_loc4_out}, trans_max=100, label='Truck with maximum capacity of 100 units', capex=100, vopex=0.1, trans_min=0.01)"
   ],
   "metadata": {
    "collapsed": false,
    "ExecuteTime": {
     "end_time": "2023-11-03T16:18:54.292165100Z",
     "start_time": "2023-11-03T16:18:54.260921900Z"
    }
   },
   "id": "bda365eab122d3b5"
  },
  {
   "cell_type": "code",
   "execution_count": 6,
   "outputs": [],
   "source": [],
   "metadata": {
    "collapsed": false,
    "ExecuteTime": {
     "end_time": "2023-11-03T16:18:54.292165100Z",
     "start_time": "2023-11-03T16:18:54.276545300Z"
    }
   },
   "id": "902e5d2250186be4"
  },
  {
   "cell_type": "code",
   "execution_count": 7,
   "outputs": [],
   "source": [
    "# ======================================================================================================================\n",
    "# Declare network\n",
    "# ======================================================================================================================\n",
    "transport_matrix = [\n",
    "    [[], [truck50_12], [truck30_13], [], [], [], []],  # source: location 1\n",
    "    [[], [], [], [truck50_24], [truck30_25], [], []],  # source: location 2\n",
    "    [[], [], [], [truck20_34], [], [], []],  # source: location 3\n",
    "    [[], [], [], [], [truck100_45], [], [truck40_47]],  # source: location 4\n",
    "    [[], [], [], [], [], [], []],  # source: location 5\n",
    "    [[], [], [], [truck50_64], [], [], []],  # source: location 6\n",
    "    [[], [], [], [], [truck40_75], [], []]  # source: location 7\n",
    "]\n",
    "\n",
    "distance_matrix = [\n",
    "    [0, 55, 196, M, M, M, M],\n",
    "    [55, 0, M, 163, 112, M, 134],\n",
    "    [196, M, 0, 63, M, M, M],\n",
    "    [M, 163, 63, 0, 95, 117, 88],\n",
    "    [M, 112, M, 95, 0, M, 134],\n",
    "    [M, M, M, 117, M, 0, M],\n",
    "    [M, 134, M, 88, 134, M, 0]\n",
    "]\n",
    "\n",
    "locset = [loc1, loc2, loc3, loc4, loc5, loc6, loc7]\n",
    "\n",
    "sources = locset\n",
    "sinks = locset\n",
    "\n",
    "network = Network(name='Network', scales= scales, source_locations=sources, sink_locations=sinks, transport_matrix=transport_matrix, distance_matrix=distance_matrix)"
   ],
   "metadata": {
    "collapsed": false,
    "ExecuteTime": {
     "end_time": "2023-11-03T16:18:54.328745300Z",
     "start_time": "2023-11-03T16:18:54.292165100Z"
    }
   },
   "id": "66c0f9aa0de4e73e"
  },
  {
   "cell_type": "code",
   "execution_count": 8,
   "outputs": [],
   "source": [
    "demand_dict = {i: {com1_sold: 100} if i == loc5 else {com1_sold: 0} for i in locset}\n",
    "demand_penalty_dict = {i: {com1_sold: 5000} if i == loc5 else {com1_sold: 0} for i in locset}\n",
    "min_demand_satisfaction = 0.20\n",
    "min_demand_dict = {i: {com1_sold: min_demand_satisfaction*100} if i == loc5 else {com1_sold: 0} for i in locset}\n",
    "\n",
    "scenario_disruption = Scenario(name='scenario_disruption', scales=scales, scheduling_scale_level=2, network_scale_level=0, purchase_scale_level=2, availability_scale_level=1, demand_scale_level=2, capacity_scale_level=1,\n",
    "                    network=network, demand=demand_dict, demand_penalty=demand_penalty_dict, label='scenario_disruption')"
   ],
   "metadata": {
    "collapsed": false,
    "ExecuteTime": {
     "end_time": "2023-11-03T16:18:54.345374Z",
     "start_time": "2023-11-03T16:18:54.313123300Z"
    }
   },
   "id": "88eed928c248c4b8"
  },
  {
   "cell_type": "code",
   "execution_count": 9,
   "outputs": [
    {
     "name": "stdout",
     "output_type": "stream",
     "text": [
      "constraint process capex\n",
      "constraint process fopex\n",
      "constraint process vopex\n",
      "constraint process incidental\n",
      "ERROR: Rule failed when generating expression for Constraint\n",
      "constraint_storage_cost with index ('loc1', 'com1_stored20', 0): KeyError:\n",
      "'com1_stored20'\n",
      "ERROR: Constructing component 'constraint_storage_cost' from data=None failed:\n",
      "KeyError: 'com1_stored20'\n"
     ]
    },
    {
     "ename": "KeyError",
     "evalue": "'com1_stored20'",
     "output_type": "error",
     "traceback": [
      "\u001B[1;31m---------------------------------------------------------------------------\u001B[0m",
      "\u001B[1;31mKeyError\u001B[0m                                  Traceback (most recent call last)",
      "Cell \u001B[1;32mIn[9], line 1\u001B[0m\n\u001B[1;32m----> 1\u001B[0m problem_mincost \u001B[38;5;241m=\u001B[39m \u001B[43mformulate\u001B[49m\u001B[43m(\u001B[49m\u001B[43mscenario\u001B[49m\u001B[38;5;241;43m=\u001B[39;49m\u001B[43mscenario_disruption\u001B[49m\u001B[43m,\u001B[49m\n\u001B[0;32m      2\u001B[0m \u001B[43m                            \u001B[49m\u001B[43mconstraints\u001B[49m\u001B[38;5;241;43m=\u001B[39;49m\u001B[43m{\u001B[49m\u001B[43mConstraints\u001B[49m\u001B[38;5;241;43m.\u001B[39;49m\u001B[43mCOST\u001B[49m\u001B[43m,\u001B[49m\u001B[43m \u001B[49m\u001B[43mConstraints\u001B[49m\u001B[38;5;241;43m.\u001B[39;49m\u001B[43mTRANSPORT\u001B[49m\u001B[43m,\u001B[49m\u001B[43m \u001B[49m\u001B[43mConstraints\u001B[49m\u001B[38;5;241;43m.\u001B[39;49m\u001B[43mNETWORK\u001B[49m\u001B[43m,\u001B[49m\u001B[43m \u001B[49m\u001B[43mConstraints\u001B[49m\u001B[38;5;241;43m.\u001B[39;49m\u001B[43mRESOURCE_BALANCE\u001B[49m\u001B[43m,\u001B[49m\n\u001B[0;32m      3\u001B[0m \u001B[43m                                         \u001B[49m\u001B[43mConstraints\u001B[49m\u001B[38;5;241;43m.\u001B[39;49m\u001B[43mINVENTORY\u001B[49m\u001B[43m,\u001B[49m\u001B[43m \u001B[49m\u001B[43mConstraints\u001B[49m\u001B[38;5;241;43m.\u001B[39;49m\u001B[43mPRODUCTION\u001B[49m\u001B[43m,\u001B[49m\u001B[43m  \u001B[49m\u001B[43mConstraints\u001B[49m\u001B[38;5;241;43m.\u001B[39;49m\u001B[43mDEMAND\u001B[49m\u001B[43m}\u001B[49m\u001B[43m,\u001B[49m\n\u001B[0;32m      4\u001B[0m \u001B[43m                            \u001B[49m\u001B[43mdemand_sign\u001B[49m\u001B[38;5;241;43m=\u001B[39;49m\u001B[38;5;124;43m'\u001B[39;49m\u001B[38;5;124;43meq\u001B[39;49m\u001B[38;5;124;43m'\u001B[39;49m\u001B[43m,\u001B[49m\u001B[43m \u001B[49m\u001B[43mobjective\u001B[49m\u001B[38;5;241;43m=\u001B[39;49m\u001B[43mObjective\u001B[49m\u001B[38;5;241;43m.\u001B[39;49m\u001B[43mCOST_W_DEMAND_PENALTY\u001B[49m\u001B[43m)\u001B[49m\n",
      "File \u001B[1;32m~\\PycharmProjects\\energiapy\\src\\energiapy\\model\\formulate.py:371\u001B[0m, in \u001B[0;36mformulate\u001B[1;34m(scenario, constraints, objective, write_lpfile, gwp, land_restriction, gwp_reduction_pct, model_class, objective_resource, inventory_zero, demand_sign)\u001B[0m\n\u001B[0;32m    361\u001B[0m instance\u001B[38;5;241m.\u001B[39mconstraint_network_vopex \u001B[38;5;241m=\u001B[39m make_constraint(\n\u001B[0;32m    362\u001B[0m     instance\u001B[38;5;241m=\u001B[39minstance, type_cons\u001B[38;5;241m=\u001B[39mCons\u001B[38;5;241m.\u001B[39mX_EQ_SUMCOST_Y, variable_x\u001B[38;5;241m=\u001B[39m\u001B[38;5;124m'\u001B[39m\u001B[38;5;124mVopex_network\u001B[39m\u001B[38;5;124m'\u001B[39m, variable_y\u001B[38;5;241m=\u001B[39m\u001B[38;5;124m'\u001B[39m\u001B[38;5;124mVopex_location\u001B[39m\u001B[38;5;124m'\u001B[39m, location_set\u001B[38;5;241m=\u001B[39minstance\u001B[38;5;241m.\u001B[39mlocations, component_set\u001B[38;5;241m=\u001B[39minstance\u001B[38;5;241m.\u001B[39mprocesses,\n\u001B[0;32m    363\u001B[0m     loc_comp_dict\u001B[38;5;241m=\u001B[39mscenario\u001B[38;5;241m.\u001B[39mlocation_process_dict, x_scale_level\u001B[38;5;241m=\u001B[39mscenario\u001B[38;5;241m.\u001B[39mnetwork_scale_level, y_scale_level\u001B[38;5;241m=\u001B[39mscenario\u001B[38;5;241m.\u001B[39mnetwork_scale_level,\n\u001B[0;32m    364\u001B[0m     label\u001B[38;5;241m=\u001B[39m\u001B[38;5;124m'\u001B[39m\u001B[38;5;124msums up vopex from process over all locations in network\u001B[39m\u001B[38;5;124m'\u001B[39m)\n\u001B[0;32m    366\u001B[0m instance\u001B[38;5;241m.\u001B[39mconstraint_network_incidental \u001B[38;5;241m=\u001B[39m make_constraint(\n\u001B[0;32m    367\u001B[0m     instance\u001B[38;5;241m=\u001B[39minstance, type_cons\u001B[38;5;241m=\u001B[39mCons\u001B[38;5;241m.\u001B[39mX_EQ_SUMCOST_Y, variable_x\u001B[38;5;241m=\u001B[39m\u001B[38;5;124m'\u001B[39m\u001B[38;5;124mIncidental_network\u001B[39m\u001B[38;5;124m'\u001B[39m, variable_y\u001B[38;5;241m=\u001B[39m\u001B[38;5;124m'\u001B[39m\u001B[38;5;124mIncidental_location\u001B[39m\u001B[38;5;124m'\u001B[39m, location_set\u001B[38;5;241m=\u001B[39minstance\u001B[38;5;241m.\u001B[39mlocations, component_set\u001B[38;5;241m=\u001B[39minstance\u001B[38;5;241m.\u001B[39mprocesses,\n\u001B[0;32m    368\u001B[0m     loc_comp_dict\u001B[38;5;241m=\u001B[39mscenario\u001B[38;5;241m.\u001B[39mlocation_process_dict, x_scale_level\u001B[38;5;241m=\u001B[39mscenario\u001B[38;5;241m.\u001B[39mnetwork_scale_level, y_scale_level\u001B[38;5;241m=\u001B[39mscenario\u001B[38;5;241m.\u001B[39mnetwork_scale_level,\n\u001B[0;32m    369\u001B[0m     label\u001B[38;5;241m=\u001B[39m\u001B[38;5;124m'\u001B[39m\u001B[38;5;124msums up incidental expenditure from process over all locations in network\u001B[39m\u001B[38;5;124m'\u001B[39m)\n\u001B[1;32m--> 371\u001B[0m instance\u001B[38;5;241m.\u001B[39mconstraint_storage_cost \u001B[38;5;241m=\u001B[39m \u001B[43mconstraint_storage_cost\u001B[49m\u001B[43m(\u001B[49m\n\u001B[0;32m    372\u001B[0m \u001B[43m    \u001B[49m\u001B[43minstance\u001B[49m\u001B[38;5;241;43m=\u001B[39;49m\u001B[43minstance\u001B[49m\u001B[43m,\u001B[49m\u001B[43m \u001B[49m\u001B[43mlocation_resource_dict\u001B[49m\u001B[38;5;241;43m=\u001B[39;49m\u001B[43mscenario\u001B[49m\u001B[38;5;241;43m.\u001B[39;49m\u001B[43mlocation_resource_dict\u001B[49m\u001B[43m,\u001B[49m\u001B[43m \u001B[49m\u001B[43mstorage_cost_dict\u001B[49m\u001B[38;5;241;43m=\u001B[39;49m\u001B[43mscenario\u001B[49m\u001B[38;5;241;43m.\u001B[39;49m\u001B[43mstorage_cost_dict\u001B[49m\u001B[43m,\u001B[49m\u001B[43m \u001B[49m\u001B[43mnetwork_scale_level\u001B[49m\u001B[38;5;241;43m=\u001B[39;49m\u001B[43mscenario\u001B[49m\u001B[38;5;241;43m.\u001B[39;49m\u001B[43mnetwork_scale_level\u001B[49m\u001B[43m)\u001B[49m\n\u001B[0;32m    374\u001B[0m instance\u001B[38;5;241m.\u001B[39mconstraint_storage_cost_location \u001B[38;5;241m=\u001B[39m constraint_storage_cost_location(\n\u001B[0;32m    375\u001B[0m     instance\u001B[38;5;241m=\u001B[39minstance, network_scale_level\u001B[38;5;241m=\u001B[39mscenario\u001B[38;5;241m.\u001B[39mnetwork_scale_level)\n\u001B[0;32m    377\u001B[0m instance\u001B[38;5;241m.\u001B[39mconstraint_storage_cost_network \u001B[38;5;241m=\u001B[39m constraint_storage_cost_network(\n\u001B[0;32m    378\u001B[0m     instance\u001B[38;5;241m=\u001B[39minstance, network_scale_level\u001B[38;5;241m=\u001B[39mscenario\u001B[38;5;241m.\u001B[39mnetwork_scale_level)\n",
      "File \u001B[1;32m~\\PycharmProjects\\energiapy\\src\\energiapy\\model\\constraints\\cost.py:754\u001B[0m, in \u001B[0;36mconstraint_storage_cost\u001B[1;34m(instance, location_resource_dict, storage_cost_dict, network_scale_level)\u001B[0m\n\u001B[0;32m    752\u001B[0m     \u001B[38;5;28;01melse\u001B[39;00m:\n\u001B[0;32m    753\u001B[0m         \u001B[38;5;28;01mreturn\u001B[39;00m instance\u001B[38;5;241m.\u001B[39mInv_cost[location, resource, scale_list] \u001B[38;5;241m==\u001B[39m \u001B[38;5;241m0\u001B[39m\n\u001B[1;32m--> 754\u001B[0m \u001B[43minstance\u001B[49m\u001B[38;5;241;43m.\u001B[39;49m\u001B[43mconstraint_storage_cost\u001B[49m \u001B[38;5;241m=\u001B[39m Constraint(\n\u001B[0;32m    755\u001B[0m     instance\u001B[38;5;241m.\u001B[39mlocations, instance\u001B[38;5;241m.\u001B[39mresources_store, \u001B[38;5;241m*\u001B[39m\n\u001B[0;32m    756\u001B[0m     scales, rule\u001B[38;5;241m=\u001B[39mstorage_cost_rule,\n\u001B[0;32m    757\u001B[0m     doc\u001B[38;5;241m=\u001B[39m\u001B[38;5;124m'\u001B[39m\u001B[38;5;124mpenalty for stored resources\u001B[39m\u001B[38;5;124m'\u001B[39m)\n\u001B[0;32m    758\u001B[0m constraint_latex_render(storage_cost_rule)\n\u001B[0;32m    759\u001B[0m \u001B[38;5;28;01mreturn\u001B[39;00m instance\u001B[38;5;241m.\u001B[39mconstraint_storage_cost\n",
      "File \u001B[1;32m~\\PycharmProjects\\energiapy\\venv_energiapy\\lib\\site-packages\\pyomo\\core\\base\\block.py:580\u001B[0m, in \u001B[0;36m_BlockData.__setattr__\u001B[1;34m(self, name, val)\u001B[0m\n\u001B[0;32m    575\u001B[0m \u001B[38;5;28;01mif\u001B[39;00m name \u001B[38;5;129;01mnot\u001B[39;00m \u001B[38;5;129;01min\u001B[39;00m \u001B[38;5;28mself\u001B[39m\u001B[38;5;241m.\u001B[39m\u001B[38;5;18m__dict__\u001B[39m:\n\u001B[0;32m    576\u001B[0m     \u001B[38;5;28;01mif\u001B[39;00m \u001B[38;5;28misinstance\u001B[39m(val, Component):\n\u001B[0;32m    577\u001B[0m         \u001B[38;5;66;03m#\u001B[39;00m\n\u001B[0;32m    578\u001B[0m         \u001B[38;5;66;03m# Pyomo components are added with the add_component method.\u001B[39;00m\n\u001B[0;32m    579\u001B[0m         \u001B[38;5;66;03m#\u001B[39;00m\n\u001B[1;32m--> 580\u001B[0m         \u001B[38;5;28;43mself\u001B[39;49m\u001B[38;5;241;43m.\u001B[39;49m\u001B[43madd_component\u001B[49m\u001B[43m(\u001B[49m\u001B[43mname\u001B[49m\u001B[43m,\u001B[49m\u001B[43m \u001B[49m\u001B[43mval\u001B[49m\u001B[43m)\u001B[49m\n\u001B[0;32m    581\u001B[0m     \u001B[38;5;28;01melse\u001B[39;00m:\n\u001B[0;32m    582\u001B[0m         \u001B[38;5;66;03m#\u001B[39;00m\n\u001B[0;32m    583\u001B[0m         \u001B[38;5;66;03m# Other Python objects are added with the standard __setattr__\u001B[39;00m\n\u001B[0;32m    584\u001B[0m         \u001B[38;5;66;03m# method.\u001B[39;00m\n\u001B[0;32m    585\u001B[0m         \u001B[38;5;66;03m#\u001B[39;00m\n\u001B[0;32m    586\u001B[0m         \u001B[38;5;28msuper\u001B[39m(_BlockData, \u001B[38;5;28mself\u001B[39m)\u001B[38;5;241m.\u001B[39m\u001B[38;5;21m__setattr__\u001B[39m(name, val)\n",
      "File \u001B[1;32m~\\PycharmProjects\\energiapy\\venv_energiapy\\lib\\site-packages\\pyomo\\core\\base\\block.py:1185\u001B[0m, in \u001B[0;36m_BlockData.add_component\u001B[1;34m(self, name, val)\u001B[0m\n\u001B[0;32m   1177\u001B[0m     logger\u001B[38;5;241m.\u001B[39mdebug(\n\u001B[0;32m   1178\u001B[0m         \u001B[38;5;124m\"\u001B[39m\u001B[38;5;124mConstructing \u001B[39m\u001B[38;5;132;01m%s\u001B[39;00m\u001B[38;5;124m \u001B[39m\u001B[38;5;124m'\u001B[39m\u001B[38;5;132;01m%s\u001B[39;00m\u001B[38;5;124m'\u001B[39m\u001B[38;5;124m on \u001B[39m\u001B[38;5;132;01m%s\u001B[39;00m\u001B[38;5;124m from data=\u001B[39m\u001B[38;5;132;01m%s\u001B[39;00m\u001B[38;5;124m\"\u001B[39m,\n\u001B[0;32m   1179\u001B[0m         val\u001B[38;5;241m.\u001B[39m\u001B[38;5;18m__class__\u001B[39m\u001B[38;5;241m.\u001B[39m\u001B[38;5;18m__name__\u001B[39m,\n\u001B[1;32m   (...)\u001B[0m\n\u001B[0;32m   1182\u001B[0m         \u001B[38;5;28mstr\u001B[39m(data),\n\u001B[0;32m   1183\u001B[0m     )\n\u001B[0;32m   1184\u001B[0m \u001B[38;5;28;01mtry\u001B[39;00m:\n\u001B[1;32m-> 1185\u001B[0m     \u001B[43mval\u001B[49m\u001B[38;5;241;43m.\u001B[39;49m\u001B[43mconstruct\u001B[49m\u001B[43m(\u001B[49m\u001B[43mdata\u001B[49m\u001B[43m)\u001B[49m\n\u001B[0;32m   1186\u001B[0m \u001B[38;5;28;01mexcept\u001B[39;00m:\n\u001B[0;32m   1187\u001B[0m     err \u001B[38;5;241m=\u001B[39m sys\u001B[38;5;241m.\u001B[39mexc_info()[\u001B[38;5;241m1\u001B[39m]\n",
      "File \u001B[1;32m~\\PycharmProjects\\energiapy\\venv_energiapy\\lib\\site-packages\\pyomo\\core\\base\\constraint.py:813\u001B[0m, in \u001B[0;36mConstraint.construct\u001B[1;34m(self, data)\u001B[0m\n\u001B[0;32m    810\u001B[0m     \u001B[38;5;28;01melse\u001B[39;00m:\n\u001B[0;32m    811\u001B[0m         \u001B[38;5;66;03m# Bypass the index validation and create the member directly\u001B[39;00m\n\u001B[0;32m    812\u001B[0m         \u001B[38;5;28;01mfor\u001B[39;00m index \u001B[38;5;129;01min\u001B[39;00m \u001B[38;5;28mself\u001B[39m\u001B[38;5;241m.\u001B[39mindex_set():\n\u001B[1;32m--> 813\u001B[0m             \u001B[38;5;28mself\u001B[39m\u001B[38;5;241m.\u001B[39m_setitem_when_not_present(index, \u001B[43mrule\u001B[49m\u001B[43m(\u001B[49m\u001B[43mblock\u001B[49m\u001B[43m,\u001B[49m\u001B[43m \u001B[49m\u001B[43mindex\u001B[49m\u001B[43m)\u001B[49m)\n\u001B[0;32m    814\u001B[0m \u001B[38;5;28;01mexcept\u001B[39;00m \u001B[38;5;167;01mException\u001B[39;00m:\n\u001B[0;32m    815\u001B[0m     err \u001B[38;5;241m=\u001B[39m sys\u001B[38;5;241m.\u001B[39mexc_info()[\u001B[38;5;241m1\u001B[39m]\n",
      "File \u001B[1;32m~\\PycharmProjects\\energiapy\\venv_energiapy\\lib\\site-packages\\pyomo\\core\\base\\initializer.py:311\u001B[0m, in \u001B[0;36mIndexedCallInitializer.__call__\u001B[1;34m(self, parent, idx)\u001B[0m\n\u001B[0;32m    305\u001B[0m \u001B[38;5;28;01mdef\u001B[39;00m \u001B[38;5;21m__call__\u001B[39m(\u001B[38;5;28mself\u001B[39m, parent, idx):\n\u001B[0;32m    306\u001B[0m     \u001B[38;5;66;03m# Note: this is called by a component using data from a Set (so\u001B[39;00m\n\u001B[0;32m    307\u001B[0m     \u001B[38;5;66;03m# any tuple-like type should have already been checked and\u001B[39;00m\n\u001B[0;32m    308\u001B[0m     \u001B[38;5;66;03m# converted to a tuple; or flattening is turned off and it is\u001B[39;00m\n\u001B[0;32m    309\u001B[0m     \u001B[38;5;66;03m# the user's responsibility to sort things out.\u001B[39;00m\n\u001B[0;32m    310\u001B[0m     \u001B[38;5;28;01mif\u001B[39;00m idx\u001B[38;5;241m.\u001B[39m\u001B[38;5;18m__class__\u001B[39m \u001B[38;5;129;01mis\u001B[39;00m \u001B[38;5;28mtuple\u001B[39m:\n\u001B[1;32m--> 311\u001B[0m         \u001B[38;5;28;01mreturn\u001B[39;00m \u001B[38;5;28;43mself\u001B[39;49m\u001B[38;5;241;43m.\u001B[39;49m\u001B[43m_fcn\u001B[49m\u001B[43m(\u001B[49m\u001B[43mparent\u001B[49m\u001B[43m,\u001B[49m\u001B[43m \u001B[49m\u001B[38;5;241;43m*\u001B[39;49m\u001B[43midx\u001B[49m\u001B[43m)\u001B[49m\n\u001B[0;32m    312\u001B[0m     \u001B[38;5;28;01melse\u001B[39;00m:\n\u001B[0;32m    313\u001B[0m         \u001B[38;5;28;01mreturn\u001B[39;00m \u001B[38;5;28mself\u001B[39m\u001B[38;5;241m.\u001B[39m_fcn(parent, idx)\n",
      "File \u001B[1;32m~\\PycharmProjects\\energiapy\\src\\energiapy\\model\\constraints\\cost.py:751\u001B[0m, in \u001B[0;36mconstraint_storage_cost.<locals>.storage_cost_rule\u001B[1;34m(instance, location, resource, *scale_list)\u001B[0m\n\u001B[0;32m    749\u001B[0m \u001B[38;5;28;01mdef\u001B[39;00m \u001B[38;5;21mstorage_cost_rule\u001B[39m(instance, location, resource, \u001B[38;5;241m*\u001B[39mscale_list):\n\u001B[0;32m    750\u001B[0m     \u001B[38;5;28;01mif\u001B[39;00m resource \u001B[38;5;129;01min\u001B[39;00m location_resource_dict[location]:\n\u001B[1;32m--> 751\u001B[0m         \u001B[38;5;28;01mreturn\u001B[39;00m instance\u001B[38;5;241m.\u001B[39mInv_cost[location, resource, scale_list[:network_scale_level \u001B[38;5;241m+\u001B[39m \u001B[38;5;241m1\u001B[39m]] \u001B[38;5;241m==\u001B[39m \u001B[43mstorage_cost_dict\u001B[49m\u001B[43m[\u001B[49m\u001B[43mlocation\u001B[49m\u001B[43m]\u001B[49m\u001B[43m[\u001B[49m\u001B[43mresource\u001B[49m\u001B[43m]\u001B[49m\u001B[38;5;241m*\u001B[39minstance\u001B[38;5;241m.\u001B[39mInv_network[location, resource, scale_list[:network_scale_level \u001B[38;5;241m+\u001B[39m \u001B[38;5;241m1\u001B[39m]]\n\u001B[0;32m    752\u001B[0m     \u001B[38;5;28;01melse\u001B[39;00m:\n\u001B[0;32m    753\u001B[0m         \u001B[38;5;28;01mreturn\u001B[39;00m instance\u001B[38;5;241m.\u001B[39mInv_cost[location, resource, scale_list] \u001B[38;5;241m==\u001B[39m \u001B[38;5;241m0\u001B[39m\n",
      "\u001B[1;31mKeyError\u001B[0m: 'com1_stored20'"
     ]
    }
   ],
   "source": [
    "problem_mincost = formulate(scenario=scenario_disruption,\n",
    "                            constraints={Constraints.COST, Constraints.TRANSPORT, Constraints.NETWORK, Constraints.RESOURCE_BALANCE,\n",
    "                                         Constraints.INVENTORY, Constraints.PRODUCTION,  Constraints.DEMAND},\n",
    "                            demand_sign='eq', objective=Objective.COST_W_DEMAND_PENALTY)"
   ],
   "metadata": {
    "collapsed": false,
    "ExecuteTime": {
     "end_time": "2023-11-03T16:18:59.390702600Z",
     "start_time": "2023-11-03T16:18:54.328745300Z"
    }
   },
   "id": "5b66150c111becee"
  },
  {
   "cell_type": "code",
   "execution_count": null,
   "outputs": [],
   "source": [],
   "metadata": {
    "collapsed": false,
    "ExecuteTime": {
     "start_time": "2023-11-03T16:18:59.390702600Z"
    }
   },
   "id": "1dbd8f87b33fc674"
  },
  {
   "cell_type": "code",
   "execution_count": null,
   "outputs": [],
   "source": [
    "results_mincost = solve(scenario=scenario_disruption, instance=problem_mincost, solver='gurobi', name='MILP')"
   ],
   "metadata": {
    "collapsed": false,
    "ExecuteTime": {
     "end_time": "2023-11-03T16:18:59.419008700Z",
     "start_time": "2023-11-03T16:18:59.390702600Z"
    }
   },
   "id": "f2743d4cc8a6161e"
  },
  {
   "cell_type": "code",
   "execution_count": null,
   "outputs": [],
   "source": [
    "sum(value for key, value in results_mincost.output['S'].items() if key[0]=='loc5' and key[1]=='com1_sold')"
   ],
   "metadata": {
    "collapsed": false,
    "ExecuteTime": {
     "start_time": "2023-11-03T16:18:59.400774700Z"
    }
   },
   "id": "8e5a886b911deb81"
  },
  {
   "cell_type": "code",
   "execution_count": null,
   "outputs": [],
   "source": [
    "sum(value for key, value in results_mincost.output['S'].items() if key[0]=='loc5' and key[1]=='com1_sold')/36000"
   ],
   "metadata": {
    "collapsed": false,
    "ExecuteTime": {
     "start_time": "2023-11-03T16:18:59.400774700Z"
    }
   },
   "id": "2e85ac913a2cfad1"
  },
  {
   "cell_type": "code",
   "execution_count": null,
   "outputs": [],
   "source": [
    "min(value for key, value in results_mincost.output['S'].items() if key[0]=='loc5' and key[1]=='com1_sold')"
   ],
   "metadata": {
    "collapsed": false,
    "ExecuteTime": {
     "start_time": "2023-11-03T16:18:59.410865500Z"
    }
   },
   "id": "7b89dcc837042617"
  },
  {
   "cell_type": "code",
   "execution_count": null,
   "outputs": [],
   "source": [
    "print([(key, value) for key, value in results_mincost.output['X_P'].items() if value==1 and key[0]=='loc1'])"
   ],
   "metadata": {
    "collapsed": false,
    "ExecuteTime": {
     "start_time": "2023-11-03T16:18:59.410865500Z"
    }
   },
   "id": "d8e5de302efcc348"
  },
  {
   "cell_type": "code",
   "execution_count": null,
   "outputs": [],
   "source": [
    "plot_results.schedule(results=results_mincost, y_axis='S', component='com1_sold', location='loc5', color='green')"
   ],
   "metadata": {
    "collapsed": false,
    "ExecuteTime": {
     "start_time": "2023-11-03T16:18:59.418875100Z"
    }
   },
   "id": "8949bcf3ca707d29"
  },
  {
   "cell_type": "code",
   "execution_count": null,
   "outputs": [],
   "source": [
    "plot_results.schedule(results=results_mincost, y_axis='Inv', component='com1_stored20', location='loc1', color='green')\n",
    "plot_results.schedule(results=results_mincost, y_axis='Inv', component='com1_stored20', location='loc2', color='green')\n",
    "plot_results.schedule(results=results_mincost, y_axis='Inv', component='com1_stored20', location='loc3', color='green')\n",
    "plot_results.schedule(results=results_mincost, y_axis='Inv', component='com1_stored50', location='loc4', color='green')\n",
    "plot_results.schedule(results=results_mincost, y_axis='Inv', component='com1_stored50', location='loc5', color='green')\n",
    "plot_results.schedule(results=results_mincost, y_axis='Inv', component='com1_stored10', location='loc6', color='green')\n",
    "plot_results.schedule(results=results_mincost, y_axis='Inv', component='com1_stored20', location='loc7', color='green')"
   ],
   "metadata": {
    "collapsed": false,
    "ExecuteTime": {
     "end_time": "2023-11-03T16:18:59.499649600Z",
     "start_time": "2023-11-03T16:18:59.421033400Z"
    }
   },
   "id": "9e509b879808a98c"
  },
  {
   "cell_type": "code",
   "execution_count": null,
   "outputs": [],
   "source": [
    "plot_results.transport(results=results_mincost, source='loc1', sink='loc2', transport='truck50_12',\n",
    "                       resource='com1_loc1_out')\n",
    "plot_results.transport(results=results_mincost, source='loc1', sink='loc3', transport='truck30_13',\n",
    "                       resource='com1_loc1_out')\n",
    "plot_results.transport(results=results_mincost, source='loc2', sink='loc5', transport='truck30_25',\n",
    "                       resource='com1_loc2_out')\n",
    "plot_results.transport(results=results_mincost, source='loc3', sink='loc4', transport='truck20_34',\n",
    "                       resource='com1_loc3_out')\n",
    "plot_results.transport(results=results_mincost, source='loc4', sink='loc5', transport='truck100_45',\n",
    "                       resource='com1_loc4_out')\n",
    "plot_results.transport(results=results_mincost, source='loc4', sink='loc7', transport='truck40_47',\n",
    "                       resource='com1_loc4_out')\n",
    "plot_results.transport(results=results_mincost, source='loc6', sink='loc4', transport='truck50_64',\n",
    "                       resource='com1_loc6_out')\n",
    "plot_results.transport(results=results_mincost, source='loc7', sink='loc5', transport='truck40_75',\n",
    "                       resource='com1_loc7_out')"
   ],
   "metadata": {
    "collapsed": false,
    "ExecuteTime": {
     "start_time": "2023-11-03T16:18:59.421033400Z"
    }
   },
   "id": "f9583b32200d0156"
  },
  {
   "cell_type": "code",
   "execution_count": null,
   "outputs": [],
   "source": [
    "plot_results.schedule(results=results_mincost, y_axis='C', component='com1_pur', location='loc1', color='green')\n",
    "plot_results.schedule(results=results_mincost, y_axis='C', component='com1_pur', location='loc6', color='green')"
   ],
   "metadata": {
    "collapsed": false,
    "ExecuteTime": {
     "start_time": "2023-11-03T16:18:59.429056600Z"
    }
   },
   "id": "70859503e4a5c1f2"
  },
  {
   "cell_type": "code",
   "execution_count": null,
   "outputs": [],
   "source": [
    "problem_mincost.Capex_network.pprint()\n",
    "problem_mincost.Fopex_network.pprint()\n",
    "problem_mincost.Vopex_network.pprint()"
   ],
   "metadata": {
    "collapsed": false,
    "ExecuteTime": {
     "start_time": "2023-11-03T16:18:59.429056600Z"
    }
   },
   "id": "e5a1d1d6d497964e"
  },
  {
   "cell_type": "code",
   "execution_count": null,
   "outputs": [],
   "source": [
    "problem_mincost.Capex_transport_network.pprint()\n",
    "problem_mincost.Fopex_transport_network.pprint()\n",
    "problem_mincost.Vopex_transport_network.pprint()"
   ],
   "metadata": {
    "collapsed": false,
    "ExecuteTime": {
     "start_time": "2023-11-03T16:18:59.429056600Z"
    }
   },
   "id": "f9856ed83510c03d"
  }
 ],
 "metadata": {
  "kernelspec": {
   "display_name": "Python 3",
   "language": "python",
   "name": "python3"
  },
  "language_info": {
   "codemirror_mode": {
    "name": "ipython",
    "version": 2
   },
   "file_extension": ".py",
   "mimetype": "text/x-python",
   "name": "python",
   "nbconvert_exporter": "python",
   "pygments_lexer": "ipython2",
   "version": "2.7.6"
  }
 },
 "nbformat": 4,
 "nbformat_minor": 5
}
