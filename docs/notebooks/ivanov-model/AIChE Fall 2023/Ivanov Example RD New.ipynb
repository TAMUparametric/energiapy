{
 "cells": [
  {
   "cell_type": "code",
   "execution_count": null,
   "id": "initial_id",
   "metadata": {
    "collapsed": true
   },
   "outputs": [],
   "source": [
    "import sys\n",
    "sys.path.append('../../src')\n",
    "import pandas\n",
    "import random\n",
    "import math\n",
    "from energiapy.components.temporal_scale import TemporalScale\n",
    "from energiapy.components.resource import Resource, VaryingResource\n",
    "from energiapy.components.process import Process, ProcessMode, VaryingProcess\n",
    "from energiapy.components.location import Location\n",
    "from energiapy.components.transport import Transport\n",
    "from energiapy.components.network import Network\n",
    "from energiapy.components.scenario import Scenario\n",
    "# from energiapy.model.constraints.demand import constraint_demand2\n",
    "from energiapy.components.result import Result\n",
    "from energiapy.model.formulate import formulate, Constraints, Objective\n",
    "from energiapy.plot import plot_results, plot_scenario, plot_location\n",
    "from energiapy.model.solve import solve\n",
    "from pyomo.environ import Param\n",
    "from energiapy.utils.scale_utils import scale_pyomo_set"
   ]
  },
  {
   "cell_type": "code",
   "execution_count": null,
   "outputs": [],
   "source": [
    "_time_intervals = 30  # Number of time intervals in a planning horizon    (L_chi)\n",
    "_coms = 1\n",
    "_exec_scenarios = 12  # Number of execution scenarios                     (chi)\n",
    "\n",
    "init = [1]\n",
    "\n",
    "loc1_varying_factor = pandas.DataFrame(data={'com1_pur': init+[math.ceil(random.uniform(0, 0.75)*100)/100.0 for _ in range(_exec_scenarios-1)]})\n",
    "\n",
    "loc6_varying_factor = pandas.DataFrame(data={'com1_pur': init+[math.ceil(random.uniform(0, 0.75)*100)/100.0 for _ in range(_exec_scenarios-1)]})\n",
    "\n",
    "M = 1e6  # Big M\n",
    "\n",
    "# Define temporal scales\n",
    "scales = TemporalScale(discretization_list=[1, _exec_scenarios, _time_intervals])\n",
    "\n",
    "demand_factor = [1]*_exec_scenarios"
   ],
   "metadata": {
    "collapsed": false
   },
   "id": "75780b80e9ea34bb"
  },
  {
   "cell_type": "code",
   "execution_count": null,
   "outputs": [],
   "source": [
    "list(loc1_varying_factor['com1_pur'])"
   ],
   "metadata": {
    "collapsed": false
   },
   "id": "d9515e977822113"
  },
  {
   "cell_type": "code",
   "execution_count": null,
   "outputs": [],
   "source": [
    "list(loc6_varying_factor['com1_pur'])"
   ],
   "metadata": {
    "collapsed": false
   },
   "id": "eed56970b17775b6"
  },
  {
   "cell_type": "code",
   "execution_count": null,
   "outputs": [],
   "source": [
    "# ======================================================================================================================\n",
    "# Declare resources/commodities\n",
    "# ======================================================================================================================\n",
    "\n",
    "com1_pur = Resource(name='com1_pur', cons_max=200, block={'imp': 1, 'urg': 1}, price=0.00,\n",
    "                    label='Commodity 1 consumed from outside the system', varying=[VaryingResource.DETERMINISTIC_AVAILABILITY])\n",
    "\n",
    "com1_in = Resource(name='com1_in', label='Commodity 1 received')\n",
    "\n",
    "com1_stored10 = Resource(name='com1_stored10', store_max=10, label='Commodity 1 in storage10')\n",
    "com1_stored20 = Resource(name='com1_stored20', store_max=20, label='Commodity 1 in storage20')\n",
    "com1_stored50 = Resource(name='com1_stored50', store_max=50, label='Commodity 1 in storage50')\n",
    "\n",
    "com1_out = Resource(name='com1_out', label='Commodity 1 to be sent out')\n",
    "\n",
    "com1_loc1_out = Resource(name='com1_loc1_out', label='Commodity 1 sent out from location 1')\n",
    "com1_loc2_out = Resource(name='com1_loc2_out', label='Commodity 1 sent out from location 2')\n",
    "com1_loc3_out = Resource(name='com1_loc3_out', label='Commodity 1 sent out from location 3')\n",
    "com1_loc4_out = Resource(name='com1_loc4_out', label='Commodity 1 sent out from location 4')\n",
    "com1_loc5_out = Resource(name='com1_loc5_out', label='Commodity 1 sent out from location 5')\n",
    "com1_loc6_out = Resource(name='com1_loc6_out', label='Commodity 1 sent out from location 6')\n",
    "com1_loc7_out = Resource(name='com1_loc7_out', label='Commodity 1 sent out from location 7')\n",
    "\n",
    "com1_sold = Resource(name='com1_sold', revenue=0.00, demand=True, sell=True, label='Commodity 1 sold to outside the system')\n",
    "\n",
    "# com2_pur = Resource(name='com2_pur', cons_max=200, block={'imp': 1, 'urg': 1}, price=50,\n",
    "#                     label='Commodity 2 consumed from outside the system', varying=[VaryingResource.DETERMINISTIC_AVAILABILITY])\n",
    "# \n",
    "# com2 = Resource(name='com2', block={'imp': 1, 'urg': 1}, label='Commodity 2')\n",
    "# \n",
    "# com2_sold = Resource(name='com2_sold', revenue=80.00, demand=True, sell=True, label='Commodity 2 sold to outside the system')"
   ],
   "metadata": {
    "collapsed": false
   },
   "id": "beba36c52273e459"
  },
  {
   "cell_type": "code",
   "execution_count": null,
   "outputs": [],
   "source": [
    "# ======================================================================================================================\n",
    "# Declare processes/storage capacities\n",
    "# ======================================================================================================================\n",
    "com1_procure = Process(name='procure com1', prod_max=M, conversion={com1_pur: -1, com1_in: 1}, capex=0, vopex=0, fopex=0,\n",
    "                  label='Procure com1')\n",
    "com1_sell = Process(name='sell com1', prod_max=M, conversion={com1_out: -1, com1_sold: 1}, capex=0, vopex=0, fopex=0,\n",
    "                  label='Sell com1')\n",
    "\n",
    "com1_receive_loc1 = Process(name='com1_receive_loc1', prod_max=M, conversion={com1_loc1_out:-1, com1_in:1}, capex=0, vopex=0, fopex=0,\n",
    "                            label='Commodity 1 received from location 1')\n",
    "com1_receive_loc2 = Process(name='com1_receive_loc2', prod_max=M, conversion={com1_loc2_out:-1, com1_in:1}, capex=0, vopex=0, fopex=0,\n",
    "                            label='Commodity 1 received from location 2')\n",
    "com1_receive_loc3 = Process(name='com1_receive_loc3', prod_max=M, conversion={com1_loc3_out:-1, com1_in:1}, capex=0, vopex=0, fopex=0,\n",
    "                            label='Commodity 1 received from location 3')\n",
    "com1_receive_loc4 = Process(name='com1_receive_loc4', prod_max=M, conversion={com1_loc4_out:-1, com1_in:1}, capex=0, vopex=0, fopex=0,\n",
    "                            label='Commodity 1 received from location 4')\n",
    "com1_receive_loc6 = Process(name='com1_receive_loc6', prod_max=M, conversion={com1_loc6_out:-1, com1_in:1}, capex=0, vopex=0, fopex=0,\n",
    "                            label='Commodity 1 received from location 6')\n",
    "com1_receive_loc7 = Process(name='com1_receive_loc7', prod_max=M, conversion={com1_loc7_out:-1, com1_in:1}, capex=0, vopex=0, fopex=0,\n",
    "                            label='Commodity 1 received from location 7')\n",
    "\n",
    "com1_process = Process(name='com1_process', prod_max=M, conversion={com1_in:-1, com1_out:1}, capex=0, vopex=0, fopex=0,\n",
    "                            label='Process the commodity through the location')\n",
    "\n",
    "com1_store10 = Process(name='com1_store10', conversion={com1_in:-1, com1_stored10:1}, store_max=10/_coms, prod_max=M, capex=100, vopex=1,\n",
    "                  label=\"Storage capacity of 10 units\")\n",
    "com1_discharge10 = Process(name='com1_discharge10', conversion={com1_stored10:-1, com1_out:1}, \n",
    "                                 label='Discharge process from storage')\n",
    "\n",
    "com1_store20 = Process(name='com1_store20', conversion={com1_in:-1, com1_stored20:1}, store_max=20/_coms, prod_max=M, capex=200, vopex=2,\n",
    "                  label=\"Storage capacity of 20 units\")\n",
    "com1_discharge20 = Process(name='com1_discharge20', conversion={com1_stored20:-1, com1_out:1}, \n",
    "                                 label='Discharge process from storage')\n",
    "\n",
    "com1_store50 = Process(name='com1_store50', conversion={com1_in:-1, com1_stored50:1}, store_max=50/_coms, prod_max=M, capex=500, vopex=5,\n",
    "                  label=\"Storage capacity of 50 units\")\n",
    "com1_discharge50 = Process(name='com1_discharge50', conversion={com1_stored50:-1, com1_out:1}, \n",
    "                                 label='Discharge process from storage')\n",
    "\n",
    "com1_loc1_send = Process(name='com1_loc1_send', prod_max=M, conversion={com1_out:-1, com1_loc1_out:1}, capex=0, vopex=0, fopex=0,\n",
    "                            label='Send commodity one from location 1')\n",
    "com1_loc2_send = Process(name='com1_loc2_send', prod_max=M, conversion={com1_out:-1, com1_loc2_out:1}, capex=0, vopex=0, fopex=0,\n",
    "                            label='Send commodity one from location 1')\n",
    "com1_loc3_send = Process(name='com1_loc3_send', prod_max=M, conversion={com1_out:-1, com1_loc3_out:1}, capex=0, vopex=0, fopex=0,\n",
    "                            label='Send commodity one from location 1')\n",
    "com1_loc4_send = Process(name='com1_loc4_send', prod_max=M, conversion={com1_out:-1, com1_loc4_out:1}, capex=0, vopex=0, fopex=0,\n",
    "                            label='Send commodity one from location 1')\n",
    "# com1_loc5_send = Process(name='com1_loc5_send', prod_max=M, conversion={com1_out:-1, com1_loc5_out:1}, capex=0, vopex=0, fopex=0,\n",
    "#                             label='Send commodity one from location 1')\n",
    "com1_loc6_send = Process(name='com1_loc6_send', prod_max=M, conversion={com1_out:-1, com1_loc6_out:1}, capex=0, vopex=0, fopex=0,\n",
    "                            label='Send commodity one from location 1')\n",
    "com1_loc7_send = Process(name='com1_loc7_send', prod_max=M, conversion={com1_out:-1, com1_loc7_out:1}, capex=0, vopex=0, fopex=0,\n",
    "                            label='Send commodity one from location 1')\n"
   ],
   "metadata": {
    "collapsed": false
   },
   "id": "23973145c9ac0bb7"
  },
  {
   "cell_type": "code",
   "execution_count": null,
   "outputs": [],
   "source": [
    "# ======================================================================================================================\n",
    "# Declare locations/warehouses\n",
    "# ======================================================================================================================\n",
    "loc1 = Location(name='loc1', processes={com1_procure, com1_process, com1_store20, com1_discharge20, com1_loc1_send}, label=\"Location 1\", scales=scales, demand_scale_level=2,\n",
    "                capacity_scale_level=1, availability_scale_level=1, availability_factor={com1_pur: loc1_varying_factor[['com1_pur']]})\n",
    "\n",
    "loc2 = Location(name='loc2', processes={com1_receive_loc1, com1_process, com1_store20, com1_discharge20, com1_loc2_send}, label=\"Location 2\", scales=scales, demand_scale_level=2,\n",
    "                capacity_scale_level=1, availability_scale_level=1)\n",
    "\n",
    "loc3 = Location(name='loc3', processes={com1_receive_loc1, com1_process, com1_store20, com1_discharge50, com1_loc3_send}, label=\"Location 3\", scales=scales, demand_scale_level=2,\n",
    "                capacity_scale_level=1, availability_scale_level=1)\n",
    "\n",
    "loc4 = Location(name='loc4', processes={com1_receive_loc2, com1_receive_loc3, com1_receive_loc6, com1_process, com1_store50, com1_discharge50, com1_loc4_send}, label=\"Location 4\", scales=scales, demand_scale_level=2,\n",
    "                capacity_scale_level=1, availability_scale_level=1)\n",
    "\n",
    "loc5 = Location(name='loc5', processes={com1_receive_loc2, com1_receive_loc4, com1_receive_loc7, com1_process, com1_store50, com1_sell, com1_discharge50}, label=\"Location 5\", scales=scales, demand_scale_level=2,\n",
    "                capacity_scale_level=1, availability_scale_level=1)\n",
    "\n",
    "loc6 = Location(name='loc6', processes={com1_procure, com1_process, com1_store10, com1_discharge10, com1_loc6_send}, label=\"Location 6\", scales=scales, demand_scale_level=2,\n",
    "                capacity_scale_level=1, availability_scale_level=1, availability_factor={com1_pur: loc6_varying_factor[['com1_pur']]})\n",
    "\n",
    "loc7 = Location(name='loc7', processes={com1_receive_loc4, com1_process, com1_store20, com1_discharge20, com1_loc7_send}, label=\"Location 7\", scales=scales, demand_scale_level=2,\n",
    "                capacity_scale_level=1, availability_scale_level=1)"
   ],
   "metadata": {
    "collapsed": false
   },
   "id": "c1cf5bee52f547a2"
  },
  {
   "cell_type": "code",
   "execution_count": null,
   "outputs": [],
   "source": [
    "# ======================================================================================================================\n",
    "# Declare transport/trucks\n",
    "# ======================================================================================================================\n",
    "truck20 = Transport(name='truck20', resources=[com1_loc3_out], trans_max=20, label='Truck with maximum capacity of 20 units', capex=20, vopex=0.02)\n",
    "truck30 = Transport(name='truck30', resources=[com1_loc1_out, com1_loc2_out], trans_max=30, label='Truck with maximum capacity of 30 units', capex=30, vopex=0.03)\n",
    "truck40 = Transport(name='truck40', resources=[com1_loc4_out, com1_loc7_out], trans_max=40, label='Truck with maximum capacity of 40 units', capex=40, vopex=0.04)\n",
    "truck50 = Transport(name='truck50', resources=[com1_loc1_out, com1_loc2_out, com1_loc6_out], trans_max=50, label='Truck with maximum capacity of 50 units', capex=50, vopex=0.05)\n",
    "truck100 = Transport(name='truck100', resources=[com1_loc4_out], trans_max=100, label='Truck with maximum capacity of 100 units', capex=100, vopex=0.1)"
   ],
   "metadata": {
    "collapsed": false
   },
   "id": "3bec651af5d349fa"
  },
  {
   "cell_type": "code",
   "execution_count": null,
   "outputs": [],
   "source": [
    "# ======================================================================================================================\n",
    "# Declare network\n",
    "# ======================================================================================================================\n",
    "transport_matrix = [\n",
    "    [[], [truck50], [truck30], [], [], [], []],  # sink: location 1\n",
    "    [[truck50], [], [], [truck50], [truck30], [], []],  # sink: location 2\n",
    "    [[truck30], [], [], [truck20], [], [], []],  # sink: location 3\n",
    "    [[], [truck50], [truck20], [], [truck100], [truck50], [truck40]],  # sink: location 4\n",
    "    [[], [truck30], [], [truck100], [], [], [truck40]],  # sink: location 5\n",
    "    [[], [], [], [truck50], [], [], []],  # sink: location 6\n",
    "    [[], [], [], [truck40], [truck40], [], []]  # sink: location 7\n",
    "]\n",
    "\n",
    "distance_matrix = [\n",
    "    [0, 55, 196, M, M, M, M],\n",
    "    [55, 0, M, 163, 112, M, 134],\n",
    "    [196, M, 0, 63, M, M, M],\n",
    "    [M, 163, 63, 0, 95, 117, 88],\n",
    "    [M, 112, M, 95, 0, M, 134],\n",
    "    [M, M, M, 117, M, 0, M],\n",
    "    [M, 134, M, 88, 134, M, 0]\n",
    "]\n",
    "\n",
    "locset = [loc1, loc2, loc3, loc4, loc5, loc6, loc7]\n",
    "\n",
    "sources = list(locset)\n",
    "sinks = list(locset)\n",
    "\n",
    "network = Network(name='Network', scales= scales, source_locations=sources, sink_locations=sinks, transport_matrix=transport_matrix, distance_matrix=distance_matrix)"
   ],
   "metadata": {
    "collapsed": false
   },
   "id": "6b80a2c775cd776f"
  },
  {
   "cell_type": "code",
   "execution_count": null,
   "outputs": [],
   "source": [
    "demand_dict = {i: {com1_sold: 100} if i == loc5 else {com1_sold: 0} for i in locset}\n",
    "demand_penalty_dict = {i: {com1_sold: 125} if i == loc5 else {com1_sold: 0} for i in locset}\n",
    "min_demand_satisfaction = 0.20\n",
    "min_demand_dict = {i: {com1_sold: min_demand_satisfaction*100} if i == loc5 else {com1_sold: 0} for i in locset}\n",
    "\n",
    "scenario_disruption = Scenario(name='scenario_disruption', scales=scales, scheduling_scale_level=2, network_scale_level=0, purchase_scale_level=2, availability_scale_level=1, demand_scale_level=2, capacity_scale_level=1,\n",
    "                    network=network, demand=demand_dict, demand_penalty=demand_penalty_dict, label='scenario_disruption')"
   ],
   "metadata": {
    "collapsed": false
   },
   "id": "8318cfb94aa65e80"
  },
  {
   "cell_type": "code",
   "execution_count": null,
   "outputs": [],
   "source": [
    "# problem_maxdischarge = formulate(scenario=scenario_disruption, constraints={Constraints.COST, Constraints.TRANSPORT,Constraints.RESOURCE_BALANCE, Constraints.PRODUCTION, Constraints.INVENTORY, Constraints.DEMAND}, demand_sign='leq', objective_resource= com1_sold, objective=Objective.MAX_DISCHARGE)"
   ],
   "metadata": {
    "collapsed": false
   },
   "id": "c549fc97b771490e"
  },
  {
   "cell_type": "code",
   "execution_count": null,
   "outputs": [],
   "source": [
    "# results_maxdischarge = solve(scenario=scenario_disruption, instance=problem_maxdischarge, solver='gurobi', name='MILP')"
   ],
   "metadata": {
    "collapsed": false
   },
   "id": "4029a94416d22e85"
  },
  {
   "cell_type": "code",
   "execution_count": null,
   "outputs": [],
   "source": [
    "# results_maxdischarge.output['Cost']"
   ],
   "metadata": {
    "collapsed": false
   },
   "id": "e4d073bfea4c6d18"
  },
  {
   "cell_type": "code",
   "execution_count": null,
   "outputs": [],
   "source": [
    "plot_scenario.availability_factor(/cenario=scenario_disruption, resource=com1_pur, location=loc6, color='green')"
   ],
   "metadata": {
    "collapsed": false
   },
   "id": "3ad0df1c920384e3"
  },
  {
   "cell_type": "code",
   "execution_count": null,
   "outputs": [],
   "source": [
    "# plot_results.schedule(results=results_maxdischarge, y_axis='S', component='com1_sold', location='loc5', color='green')"
   ],
   "metadata": {
    "collapsed": false
   },
   "id": "cb3ed72ff252ca80"
  },
  {
   "cell_type": "code",
   "execution_count": null,
   "outputs": [],
   "source": [
    "# plot_results.schedule(results=results_maxdischarge, y_axis='Inv', component='com1_stored20', location='loc1', color='green')\n",
    "# plot_results.schedule(results=results_maxdischarge, y_axis='Inv', component='com1_stored20', location='loc2', color='green')\n",
    "# plot_results.schedule(results=results_maxdischarge, y_axis='Inv', component='com1_stored20', location='loc3', color='green')\n",
    "# plot_results.schedule(results=results_maxdischarge, y_axis='Inv', component='com1_stored50', location='loc4', color='green')\n",
    "# plot_results.schedule(results=results_maxdischarge, y_axis='Inv', component='com1_stored50', location='loc5', color='green')\n",
    "# plot_results.schedule(results=results_maxdischarge, y_axis='Inv', component='com1_stored10', location='loc6', color='green')\n",
    "# plot_results.schedule(results=results_maxdischarge, y_axis='Inv', component='com1_stored20', location='loc7', color='green')"
   ],
   "metadata": {
    "collapsed": false
   },
   "id": "17b009b02700e48c"
  },
  {
   "cell_type": "code",
   "execution_count": null,
   "outputs": [],
   "source": [
    "# min(value for key, value in results_maxdischarge.output['S'].items() if key[0]=='loc5')"
   ],
   "metadata": {
    "collapsed": false
   },
   "id": "be101fc6da111093"
  },
  {
   "cell_type": "code",
   "execution_count": null,
   "outputs": [],
   "source": [
    "problem_mincost = formulate(scenario=scenario_disruption, constraints={Constraints.COST, Constraints.TRANSPORT, Constraints.RESOURCE_BALANCE, Constraints.PRODUCTION, Constraints.INVENTORY, Constraints.DEMAND}, demand_sign='eq', objective=Objective.COST_W_DEMAND_PENALTY)"
   ],
   "metadata": {
    "collapsed": false
   },
   "id": "79d709c2ec429ed7"
  },
  {
   "cell_type": "code",
   "execution_count": null,
   "outputs": [],
   "source": [
    "results_mincost = solve(scenario=scenario_disruption, instance=problem_mincost, solver='gurobi', name='MILP')"
   ],
   "metadata": {
    "collapsed": false
   },
   "id": "a6ee2cbb6dc6a284"
  },
  {
   "cell_type": "code",
   "execution_count": null,
   "outputs": [],
   "source": [
    "plot_results.schedule(results=results_mincost, y_axis='S', component='com1_sold', location='loc5', color='green')"
   ],
   "metadata": {
    "collapsed": false
   },
   "id": "738c44d921a74612"
  },
  {
   "cell_type": "code",
   "execution_count": null,
   "outputs": [],
   "source": [
    "plot_results.schedule(results=results_mincost, y_axis='Inv', component='com1_stored20', location='loc1', color='green')\n",
    "plot_results.schedule(results=results_mincost, y_axis='Inv', component='com1_stored20', location='loc2', color='green')\n",
    "plot_results.schedule(results=results_mincost, y_axis='Inv', component='com1_stored20', location='loc3', color='green')\n",
    "plot_results.schedule(results=results_mincost, y_axis='Inv', component='com1_stored50', location='loc4', color='green')\n",
    "plot_results.schedule(results=results_mincost, y_axis='Inv', component='com1_stored50', location='loc5', color='green')\n",
    "plot_results.schedule(results=results_mincost, y_axis='Inv', component='com1_stored10', location='loc6', color='green')\n",
    "plot_results.schedule(results=results_mincost, y_axis='Inv', component='com1_stored20', location='loc7', color='green')"
   ],
   "metadata": {
    "collapsed": false
   },
   "id": "36c91479bee10019"
  },
  {
   "cell_type": "code",
   "execution_count": null,
   "outputs": [],
   "source": [
    "plot_results.transport(results=results_mincost, source='loc2', sink='loc5', transport='truck30', resource='com1_loc2_out')\n",
    "plot_results.transport(results=results_mincost, source='loc4', sink='loc5', transport='truck100', resource='com1_loc4_out')\n",
    "plot_results.transport(results=results_mincost, source='loc7', sink='loc5', transport='truck40', resource='com1_loc7_out')"
   ],
   "metadata": {
    "collapsed": false
   },
   "id": "3f6ccb88be69b3c7"
  },
  {
   "cell_type": "code",
   "execution_count": null,
   "outputs": [],
   "source": [
    "plot_results.schedule(results=results_mincost, y_axis='C', component='com1_pur', location='loc1', color='green')\n",
    "plot_results.schedule(results=results_mincost, y_axis='C', component='com1_pur', location='loc6', color='green')"
   ],
   "metadata": {
    "collapsed": false
   },
   "id": "5211f261e37ef137"
  },
  {
   "cell_type": "code",
   "execution_count": null,
   "outputs": [],
   "source": [],
   "metadata": {
    "collapsed": false
   },
   "id": "8fd52003402266c4"
  }
 ],
 "metadata": {
  "kernelspec": {
   "display_name": "Python 3",
   "language": "python",
   "name": "python3"
  },
  "language_info": {
   "codemirror_mode": {
    "name": "ipython",
    "version": 2
   },
   "file_extension": ".py",
   "mimetype": "text/x-python",
   "name": "python",
   "nbconvert_exporter": "python",
   "pygments_lexer": "ipython2",
   "version": "2.7.6"
  }
 },
 "nbformat": 4,
 "nbformat_minor": 5
}
