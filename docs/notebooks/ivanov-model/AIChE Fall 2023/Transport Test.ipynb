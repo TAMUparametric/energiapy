{
 "cells": [
  {
   "cell_type": "code",
   "execution_count": 15,
   "id": "initial_id",
   "metadata": {
    "collapsed": true,
    "ExecuteTime": {
     "end_time": "2023-10-31T18:06:58.415799Z",
     "start_time": "2023-10-31T18:06:58.389738Z"
    }
   },
   "outputs": [],
   "source": [
    "import sys\n",
    "\n",
    "sys.path.append('../../src')\n",
    "import pandas\n",
    "import random\n",
    "import math\n",
    "from energiapy.components.temporal_scale import TemporalScale\n",
    "from energiapy.components.resource import Resource, VaryingResource\n",
    "from energiapy.components.process import Process, ProcessMode, VaryingProcess\n",
    "from energiapy.components.location import Location\n",
    "from energiapy.components.transport import Transport, VaryingTransport\n",
    "from energiapy.components.network import Network\n",
    "from energiapy.components.scenario import Scenario\n",
    "from energiapy.model.constraints.demand import constraint_demand2\n",
    "from energiapy.components.result import Result\n",
    "from energiapy.model.formulate import formulate, Constraints, Objective\n",
    "from energiapy.plot import plot_results, plot_scenario, plot_location\n",
    "from energiapy.model.solve import solve\n",
    "from pyomo.environ import Param\n",
    "from energiapy.utils.scale_utils import scale_pyomo_set"
   ]
  },
  {
   "cell_type": "code",
   "execution_count": 16,
   "outputs": [],
   "source": [
    "_time_intervals = 30  # Number of time intervals in a planning horizon    (L_chi)\n",
    "_coms = 1\n",
    "_exec_scenarios = 12  # Number of execution scenarios                     (chi)\n",
    "\n",
    "init = [1]\n",
    "\n",
    "loc1_avail_list = init+[math.ceil(random.uniform(0,0.75)*100)/100.0 for _ in range (11)]\n",
    "\n",
    "transport_varying_factor = pandas.DataFrame(data={('loc1', 'loc2', 'truck50'): init*3+[0]*(_exec_scenarios-3),\n",
    "                                                ('loc1','loc3', 'truck30'): init*3+[0]*(_exec_scenarios-3),\n",
    "                                                ('loc2','loc4', 'truck50'): init*6+[0]*(_exec_scenarios-6),\n",
    "                                                ('loc3','loc4', 'truck20'): init*6+[0]*(_exec_scenarios-6),\n",
    "                                                ('loc6', 'loc4', 'truck50'): init*6+[0]*(_exec_scenarios-6),\n",
    "                                                ('loc4', 'loc5', 'truck100'): init*6+[0]*(_exec_scenarios-6),\n",
    "                                                ('loc4', 'loc7', 'truck40'): init*6+[0]*(_exec_scenarios-6),\n",
    "                                                ('loc7', 'loc4', 'truck40'): init*9+[0]*(_exec_scenarios-9),\n",
    "                                                ('loc7', 'loc5','truck40'): init*9+[0]*(_exec_scenarios-9)\n",
    "                                                })\n",
    "\n",
    "M = 1e6  # Big M\n",
    "\n",
    "# Define temporal scales\n",
    "scales = TemporalScale(discretization_list=[1, _exec_scenarios, _time_intervals])\n",
    "\n",
    "demand_factor = [1] * _exec_scenarios"
   ],
   "metadata": {
    "collapsed": false,
    "ExecuteTime": {
     "end_time": "2023-10-31T18:06:58.417867Z",
     "start_time": "2023-10-31T18:06:58.398973Z"
    }
   },
   "id": "242bc1d653ca2952"
  },
  {
   "cell_type": "code",
   "execution_count": 17,
   "outputs": [],
   "source": [
    "# ======================================================================================================================\n",
    "# Declare resources/commodities\n",
    "# ======================================================================================================================\n",
    "\n",
    "com1_pur = Resource(name='com1_pur', cons_max=200, block={'imp': 1, 'urg': 1}, price=0.00,\n",
    "                    label='Commodity 1 consumed from outside the system',\n",
    "                    varying=[VaryingResource.DETERMINISTIC_AVAILABILITY])\n",
    "\n",
    "com1_in = Resource(name='com1_in', label='Commodity 1 received')\n",
    "\n",
    "com1_stored10 = Resource(name='com1_stored10', store_max=10, label='Commodity 1 in storage10')\n",
    "com1_stored20 = Resource(name='com1_stored20', store_max=20, label='Commodity 1 in storage20')\n",
    "com1_stored50 = Resource(name='com1_stored50', store_max=50, label='Commodity 1 in storage50')\n",
    "\n",
    "com1_out = Resource(name='com1_out', label='Commodity 1 to be sent out')\n",
    "\n",
    "com1_loc1_out = Resource(name='com1_loc1_out', label='Commodity 1 sent out from location 1')\n",
    "com1_loc2_out = Resource(name='com1_loc2_out', label='Commodity 1 sent out from location 2')\n",
    "com1_loc3_out = Resource(name='com1_loc3_out', label='Commodity 1 sent out from location 3')\n",
    "com1_loc4_out = Resource(name='com1_loc4_out', label='Commodity 1 sent out from location 4')\n",
    "com1_loc5_out = Resource(name='com1_loc5_out', label='Commodity 1 sent out from location 5')\n",
    "com1_loc6_out = Resource(name='com1_loc6_out', label='Commodity 1 sent out from location 6')\n",
    "com1_loc7_out = Resource(name='com1_loc7_out', label='Commodity 1 sent out from location 7')\n",
    "\n",
    "com1_sold = Resource(name='com1_sold', revenue=0.00, demand=True, sell=True,\n",
    "                     label='Commodity 1 sold to outside the system')\n",
    "\n",
    "# com2_pur = Resource(name='com2_pur', cons_max=200, block={'imp': 1, 'urg': 1}, price=50,\n",
    "#                     label='Commodity 2 consumed from outside the system', varying=[VaryingResource.DETERMINISTIC_AVAILABILITY])\n",
    "# \n",
    "# com2 = Resource(name='com2', block={'imp': 1, 'urg': 1}, label='Commodity 2')\n",
    "# \n",
    "# com2_sold = Resource(name='com2_sold', revenue=80.00, demand=True, sell=True, label='Commodity 2 sold to outside the system')"
   ],
   "metadata": {
    "collapsed": false,
    "ExecuteTime": {
     "end_time": "2023-10-31T18:06:58.421691Z",
     "start_time": "2023-10-31T18:06:58.405387Z"
    }
   },
   "id": "5606831fcbc49809"
  },
  {
   "cell_type": "code",
   "execution_count": 18,
   "outputs": [],
   "source": [
    "# ======================================================================================================================\n",
    "# Declare processes/storage capacities\n",
    "# ======================================================================================================================\n",
    "com1_procure = Process(name='procure com1', prod_max=M, conversion={com1_pur: -1, com1_in: 1}, capex=0, vopex=0,\n",
    "                       fopex=0,\n",
    "                       label='Procure com1')\n",
    "com1_sell = Process(name='sell com1', prod_max=M, conversion={com1_out: -1, com1_sold: 1}, capex=0, vopex=0, fopex=0,\n",
    "                    label='Sell com1')\n",
    "\n",
    "com1_receive_loc1 = Process(name='com1_receive_loc1', prod_max=M, conversion={com1_loc1_out: -1, com1_in: 1}, capex=0,\n",
    "                            vopex=0, fopex=0,\n",
    "                            label='Commodity 1 received from location 1')\n",
    "com1_receive_loc2 = Process(name='com1_receive_loc2', prod_max=M, conversion={com1_loc2_out: -1, com1_in: 1}, capex=0,\n",
    "                            vopex=0, fopex=0,\n",
    "                            label='Commodity 1 received from location 2')\n",
    "com1_receive_loc3 = Process(name='com1_receive_loc3', prod_max=M, conversion={com1_loc3_out: -1, com1_in: 1}, capex=0,\n",
    "                            vopex=0, fopex=0,\n",
    "                            label='Commodity 1 received from location 3')\n",
    "com1_receive_loc4 = Process(name='com1_receive_loc4', prod_max=M, conversion={com1_loc4_out: -1, com1_in: 1}, capex=0,\n",
    "                            vopex=0, fopex=0,\n",
    "                            label='Commodity 1 received from location 4')\n",
    "com1_receive_loc6 = Process(name='com1_receive_loc6', prod_max=M, conversion={com1_loc6_out: -1, com1_in: 1}, capex=0,\n",
    "                            vopex=0, fopex=0,\n",
    "                            label='Commodity 1 received from location 6')\n",
    "com1_receive_loc7 = Process(name='com1_receive_loc7', prod_max=M, conversion={com1_loc7_out: -1, com1_in: 1}, capex=0,\n",
    "                            vopex=0, fopex=0,\n",
    "                            label='Commodity 1 received from location 7')\n",
    "\n",
    "com1_process = Process(name='com1_process', prod_max=M, conversion={com1_in: -1, com1_out: 1}, capex=750, vopex=50,\n",
    "                       fopex=0,\n",
    "                       label='Process the commodity through the location')\n",
    "\n",
    "com1_store10 = Process(name='com1_store10', conversion={com1_in: -1, com1_stored10: 1}, store_max=10 / _coms,\n",
    "                       prod_max=M, capex=1000, vopex=20,\n",
    "                       label=\"Storage capacity of 10 units\")\n",
    "com1_discharge10 = Process(name='com1_discharge10', conversion={com1_stored10: -1, com1_out: 1},\n",
    "                           label='Discharge process from storage')\n",
    "\n",
    "com1_store20 = Process(name='com1_store20', conversion={com1_in: -1, com1_stored20: 1}, store_max=20 / _coms,\n",
    "                       prod_max=M, capex=2000, vopex=15,\n",
    "                       label=\"Storage capacity of 20 units\")\n",
    "com1_discharge20 = Process(name='com1_discharge20', conversion={com1_stored20: -1, com1_out: 1},\n",
    "                           label='Discharge process from storage')\n",
    "\n",
    "com1_store50 = Process(name='com1_store50', conversion={com1_in: -1, com1_stored50: 1}, store_max=50 / _coms,\n",
    "                       prod_max=M, capex=5000, vopex=10,\n",
    "                       label=\"Storage capacity of 50 units\")\n",
    "com1_discharge50 = Process(name='com1_discharge50', conversion={com1_stored50: -1, com1_out: 1},\n",
    "                           label='Discharge process from storage')\n",
    "\n",
    "com1_loc1_send = Process(name='com1_loc1_send', prod_max=M, conversion={com1_out: -1, com1_loc1_out: 1}, capex=0,\n",
    "                         vopex=0, fopex=0,\n",
    "                         label='Send commodity one from location 1')\n",
    "com1_loc2_send = Process(name='com1_loc2_send', prod_max=M, conversion={com1_out: -1, com1_loc2_out: 1}, capex=0,\n",
    "                         vopex=0, fopex=0,\n",
    "                         label='Send commodity one from location 1')\n",
    "com1_loc3_send = Process(name='com1_loc3_send', prod_max=M, conversion={com1_out: -1, com1_loc3_out: 1}, capex=0,\n",
    "                         vopex=0, fopex=0,\n",
    "                         label='Send commodity one from location 1')\n",
    "com1_loc4_send = Process(name='com1_loc4_send', prod_max=M, conversion={com1_out: -1, com1_loc4_out: 1}, capex=0,\n",
    "                         vopex=0, fopex=0,\n",
    "                         label='Send commodity one from location 1')\n",
    "# com1_loc5_send = Process(name='com1_loc5_send', prod_max=M, conversion={com1_out:-1, com1_loc5_out:1}, capex=0, vopex=0, fopex=0,\n",
    "#                             label='Send commodity one from location 1')\n",
    "com1_loc6_send = Process(name='com1_loc6_send', prod_max=M, conversion={com1_out: -1, com1_loc6_out: 1}, capex=0,\n",
    "                         vopex=0, fopex=0,\n",
    "                         label='Send commodity one from location 1')\n",
    "com1_loc7_send = Process(name='com1_loc7_send', prod_max=M, conversion={com1_out: -1, com1_loc7_out: 1}, capex=0,\n",
    "                         vopex=0, fopex=0,\n",
    "                         label='Send commodity one from location 1')"
   ],
   "metadata": {
    "collapsed": false,
    "ExecuteTime": {
     "end_time": "2023-10-31T18:06:58.422836Z",
     "start_time": "2023-10-31T18:06:58.408021Z"
    }
   },
   "id": "4191e72ba41b5fe1"
  },
  {
   "cell_type": "code",
   "execution_count": 19,
   "outputs": [],
   "source": [
    "# ======================================================================================================================\n",
    "# Declare locations/warehouses\n",
    "# ======================================================================================================================\n",
    "loc1 = Location(name='loc1', processes={com1_procure, com1_process, com1_store20, com1_discharge20, com1_loc1_send},\n",
    "                label=\"Location 1\", scales=scales, demand_scale_level=2,\n",
    "                capacity_scale_level=1, availability_scale_level=1)\n",
    "\n",
    "loc2 = Location(name='loc2',\n",
    "                processes={com1_receive_loc1, com1_process, com1_store20, com1_discharge20, com1_loc2_send},\n",
    "                label=\"Location 2\", scales=scales, demand_scale_level=2,\n",
    "                capacity_scale_level=1, availability_scale_level=1)\n",
    "\n",
    "loc3 = Location(name='loc3',\n",
    "                processes={com1_receive_loc1, com1_process, com1_store20, com1_discharge20, com1_loc3_send},\n",
    "                label=\"Location 3\", scales=scales, demand_scale_level=2,\n",
    "                capacity_scale_level=1, availability_scale_level=1)\n",
    "\n",
    "loc4 = Location(name='loc4',\n",
    "                processes={com1_receive_loc2, com1_receive_loc3, com1_receive_loc6, com1_process, com1_store50,\n",
    "                           com1_discharge50, com1_loc4_send}, label=\"Location 4\", scales=scales, demand_scale_level=2,\n",
    "                capacity_scale_level=1, availability_scale_level=1)\n",
    "\n",
    "loc5 = Location(name='loc5',\n",
    "                processes={com1_receive_loc2, com1_receive_loc4, com1_receive_loc7, com1_process, com1_store50,\n",
    "                           com1_sell, com1_discharge50}, label=\"Location 5\", scales=scales, demand_scale_level=2,\n",
    "                capacity_scale_level=1, availability_scale_level=1)\n",
    "\n",
    "loc6 = Location(name='loc6', processes={com1_procure, com1_process, com1_store10, com1_discharge10, com1_loc6_send},\n",
    "                label=\"Location 6\", scales=scales, demand_scale_level=2,\n",
    "                capacity_scale_level=1, availability_scale_level=1)\n",
    "\n",
    "loc7 = Location(name='loc7',\n",
    "                processes={com1_receive_loc4, com1_process, com1_store20, com1_discharge20, com1_loc7_send},\n",
    "                label=\"Location 7\", scales=scales, demand_scale_level=2,\n",
    "                capacity_scale_level=1, availability_scale_level=1)"
   ],
   "metadata": {
    "collapsed": false,
    "ExecuteTime": {
     "end_time": "2023-10-31T18:06:58.430262Z",
     "start_time": "2023-10-31T18:06:58.424889Z"
    }
   },
   "id": "fbb9dcf0ad2c93f0"
  },
  {
   "cell_type": "code",
   "execution_count": 20,
   "outputs": [],
   "source": [
    "# ======================================================================================================================\n",
    "# Declare transport/trucks\n",
    "# ======================================================================================================================\n",
    "truck20 = Transport(name='truck20', resources=[com1_loc3_out], trans_max=20,\n",
    "                    label='Truck with maximum capacity of 20 units', capex=200, vopex=15, varying=[VaryingTransport.DETERMINISTIC_CAPACITY])\n",
    "truck30 = Transport(name='truck30', resources=[com1_loc1_out, com1_loc2_out], trans_max=30,\n",
    "                    label='Truck with maximum capacity of 30 units', capex=300, vopex=12, varying=[VaryingTransport.DETERMINISTIC_CAPACITY])\n",
    "truck40 = Transport(name='truck40', resources=[com1_loc4_out, com1_loc7_out], trans_max=40,\n",
    "                    label='Truck with maximum capacity of 40 units', capex=400, vopex=10, varying=[VaryingTransport.DETERMINISTIC_CAPACITY])\n",
    "truck50 = Transport(name='truck50', resources=[com1_loc1_out, com1_loc2_out, com1_loc6_out], trans_max=50,\n",
    "                    label='Truck with maximum capacity of 50 units', capex=500, vopex=7, varying=[VaryingTransport.DETERMINISTIC_CAPACITY])\n",
    "truck100 = Transport(name='truck100', resources=[com1_loc4_out], trans_max=100,\n",
    "                     label='Truck with maximum capacity of 100 units', capex=1000, vopex=5, varying=[VaryingTransport.DETERMINISTIC_CAPACITY])"
   ],
   "metadata": {
    "collapsed": false,
    "ExecuteTime": {
     "end_time": "2023-10-31T18:06:58.436411Z",
     "start_time": "2023-10-31T18:06:58.429268Z"
    }
   },
   "id": "4381b934557b9d97"
  },
  {
   "cell_type": "code",
   "execution_count": 22,
   "outputs": [
    {
     "ename": "TypeError",
     "evalue": "unhashable type: 'dict'",
     "output_type": "error",
     "traceback": [
      "\u001B[0;31m---------------------------------------------------------------------------\u001B[0m",
      "\u001B[0;31mTypeError\u001B[0m                                 Traceback (most recent call last)",
      "Cell \u001B[0;32mIn[22], line 29\u001B[0m\n\u001B[1;32m     26\u001B[0m sources \u001B[38;5;241m=\u001B[39m \u001B[38;5;28mlist\u001B[39m(locset)\n\u001B[1;32m     27\u001B[0m sinks \u001B[38;5;241m=\u001B[39m \u001B[38;5;28mlist\u001B[39m(locset)\n\u001B[0;32m---> 29\u001B[0m transport_capacity_dict \u001B[38;5;241m=\u001B[39m {\n\u001B[1;32m     30\u001B[0m     {(loc1, loc2): {truck50: transport_varying_factor[[(\u001B[38;5;124m'\u001B[39m\u001B[38;5;124mloc1\u001B[39m\u001B[38;5;124m'\u001B[39m, \u001B[38;5;124m'\u001B[39m\u001B[38;5;124mloc2\u001B[39m\u001B[38;5;124m'\u001B[39m,\u001B[38;5;124m'\u001B[39m\u001B[38;5;124mtruck50\u001B[39m\u001B[38;5;124m'\u001B[39m)]]}}\n\u001B[1;32m     31\u001B[0m }\n\u001B[1;32m     33\u001B[0m network \u001B[38;5;241m=\u001B[39m Network(name\u001B[38;5;241m=\u001B[39m\u001B[38;5;124m'\u001B[39m\u001B[38;5;124mNetwork\u001B[39m\u001B[38;5;124m'\u001B[39m, scales\u001B[38;5;241m=\u001B[39mscales, source_locations\u001B[38;5;241m=\u001B[39msources, sink_locations\u001B[38;5;241m=\u001B[39msinks,\n\u001B[1;32m     34\u001B[0m                   transport_matrix\u001B[38;5;241m=\u001B[39mtransport_matrix, distance_matrix\u001B[38;5;241m=\u001B[39mdistance_matrix)\n",
      "\u001B[0;31mTypeError\u001B[0m: unhashable type: 'dict'"
     ]
    }
   ],
   "source": [
    "# ======================================================================================================================\n",
    "# Declare network\n",
    "# ======================================================================================================================\n",
    "transport_matrix = [\n",
    "    [[], [truck50], [truck30], [], [], [], []],  # sink: location 1\n",
    "    [[truck50], [], [], [truck50], [truck30], [], []],  # sink: location 2\n",
    "    [[truck30], [], [], [truck20], [], [], []],  # sink: location 3\n",
    "    [[], [truck50], [truck20], [], [truck100], [truck50], [truck40]],  # sink: location 4\n",
    "    [[], [truck30], [], [truck100], [], [], [truck40]],  # sink: location 5\n",
    "    [[], [], [], [truck50], [], [], []],  # sink: location 6\n",
    "    [[], [], [], [truck40], [truck40], [], []]  # sink: location 7\n",
    "]\n",
    "\n",
    "distance_matrix = [\n",
    "    [0, 55, 196, M, M, M, M],\n",
    "    [55, 0, M, 163, 112, M, 134],\n",
    "    [196, M, 0, 63, M, M, M],\n",
    "    [M, 163, 63, 0, 95, 117, 88],\n",
    "    [M, 112, M, 95, 0, M, 134],\n",
    "    [M, M, M, 117, M, 0, M],\n",
    "    [M, 134, M, 88, 134, M, 0]\n",
    "]\n",
    "\n",
    "locset = [loc1, loc2, loc3, loc4, loc5, loc6, loc7]\n",
    "\n",
    "sources = list(locset)\n",
    "sinks = list(locset)\n",
    "\n",
    "transport_capacity_dict = {\n",
    "    {(loc1, loc2): {truck50: transport_varying_factor[[('loc1', 'loc2','truck50')]]}}\n",
    "}\n",
    "\n",
    "network = Network(name='Network', scales=scales, source_locations=sources, sink_locations=sinks,\n",
    "                  transport_matrix=transport_matrix, distance_matrix=distance_matrix)"
   ],
   "metadata": {
    "collapsed": false,
    "ExecuteTime": {
     "end_time": "2023-10-31T18:07:25.007425Z",
     "start_time": "2023-10-31T18:07:24.991443Z"
    }
   },
   "id": "cb9b548460fe9b6b"
  },
  {
   "cell_type": "code",
   "execution_count": null,
   "outputs": [],
   "source": [],
   "metadata": {
    "collapsed": false,
    "ExecuteTime": {
     "end_time": "2023-10-31T18:06:58.455945Z",
     "start_time": "2023-10-31T18:06:58.454915Z"
    }
   },
   "id": "49898a49d1261f47"
  }
 ],
 "metadata": {
  "kernelspec": {
   "display_name": "Python 3",
   "language": "python",
   "name": "python3"
  },
  "language_info": {
   "codemirror_mode": {
    "name": "ipython",
    "version": 2
   },
   "file_extension": ".py",
   "mimetype": "text/x-python",
   "name": "python",
   "nbconvert_exporter": "python",
   "pygments_lexer": "ipython2",
   "version": "2.7.6"
  }
 },
 "nbformat": 4,
 "nbformat_minor": 5
}
