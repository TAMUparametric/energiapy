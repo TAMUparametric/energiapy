{
 "cells": [
  {
   "cell_type": "code",
   "execution_count": 1,
   "id": "initial_id",
   "metadata": {
    "collapsed": true,
    "ExecuteTime": {
     "end_time": "2023-10-31T14:12:54.520357Z",
     "start_time": "2023-10-31T14:12:52.505476600Z"
    }
   },
   "outputs": [],
   "source": [
    "import sys\n",
    "\n",
    "sys.path.append('../../src')\n",
    "import pandas\n",
    "import random\n",
    "import math\n",
    "from energiapy.components.temporal_scale import TemporalScale\n",
    "from energiapy.components.resource import Resource, VaryingResource\n",
    "from energiapy.components.process import Process, ProcessMode, VaryingProcess\n",
    "from energiapy.components.location import Location\n",
    "from energiapy.components.transport import Transport\n",
    "from energiapy.components.network import Network\n",
    "from energiapy.components.scenario import Scenario\n",
    "from energiapy.model.constraints.demand import constraint_demand2\n",
    "from energiapy.components.result import Result\n",
    "from energiapy.model.formulate import formulate, Constraints, Objective\n",
    "from energiapy.plot import plot_results, plot_scenario, plot_location\n",
    "from energiapy.model.solve import solve\n",
    "from pyomo.environ import Param\n",
    "from energiapy.utils.scale_utils import scale_pyomo_set"
   ]
  },
  {
   "cell_type": "code",
   "execution_count": null,
   "outputs": [],
   "source": [
    "_time_intervals = 30  # Number of time intervals in a planning horizon    (L_chi)\n",
    "_coms = 1\n",
    "_exec_scenarios = 12  # Number of execution scenarios                     (chi)\n",
    "\n",
    "init = [1]\n",
    "\n",
    "init = [1]\n",
    "loc1_avail_list = init+[math.ceil(random.uniform(0,0.75)*100)/100.0 for _ in range (11)]\n",
    "\n",
    "loc1_varying_factor = pandas.DataFrame(data={'com1_store20': init*3+[0]*(_exec_scenarios-3),\n",
    "                                             'com1_discharge20': init*3+[0]*(_exec_scenarios-3),\n",
    "                                             'com1_store50': [0]*_exec_scenarios,\n",
    "                                             'com1_discharge50': [0]*_exec_scenarios})\n",
    "\n",
    "loc4_varying_factor = pandas.DataFrame(data={'com1_store20': [0]*_exec_scenarios,\n",
    "                                             'com1_discharge20': [0]*_exec_scenarios,\n",
    "                                             'com1_store50': init*6+[0]*(_exec_scenarios-6),\n",
    "                                             'com1_discharge50': init*6+[0]*(_exec_scenarios-6)})\n",
    "\n",
    "loc7_varying_factor = pandas.DataFrame(data={'com1_store20': init*9+[0]*(_exec_scenarios-9),\n",
    "                                             'com1_discharge20': init*9+[0]*(_exec_scenarios-9),\n",
    "                                             'com1_store50': [0]*_exec_scenarios,\n",
    "                                             'com1_discharge50': [0]*_exec_scenarios})\n",
    "\n",
    "M = 1e6  # Big M\n",
    "\n",
    "# Define temporal scales\n",
    "scales = TemporalScale(discretization_list=[1, _exec_scenarios, _time_intervals])\n",
    "\n",
    "demand_factor = [1] * _exec_scenarios"
   ],
   "metadata": {
    "collapsed": false
   },
   "id": "242bc1d653ca2952"
  }
 ],
 "metadata": {
  "kernelspec": {
   "display_name": "Python 3",
   "language": "python",
   "name": "python3"
  },
  "language_info": {
   "codemirror_mode": {
    "name": "ipython",
    "version": 2
   },
   "file_extension": ".py",
   "mimetype": "text/x-python",
   "name": "python",
   "nbconvert_exporter": "python",
   "pygments_lexer": "ipython2",
   "version": "2.7.6"
  }
 },
 "nbformat": 4,
 "nbformat_minor": 5
}
