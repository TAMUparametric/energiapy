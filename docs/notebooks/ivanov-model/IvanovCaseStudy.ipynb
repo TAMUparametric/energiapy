{
 "cells": [
  {
   "cell_type": "code",
   "execution_count": 1,
   "metadata": {
    "ExecuteTime": {
     "end_time": "2023-09-19T15:40:58.025645100Z",
     "start_time": "2023-09-19T15:40:56.622514500Z"
    }
   },
   "outputs": [],
   "source": [
    "import sys\n",
    "\n",
    "sys.path.append('../../src')\n",
    "import pandas\n",
    "from energiapy.components.temporal_scale import TemporalScale\n",
    "from energiapy.components.resource import Resource, VaryingResource\n",
    "from energiapy.components.process import Process, ProcessMode, VaryingProcess\n",
    "from energiapy.components.location import Location\n",
    "from energiapy.components.transport import Transport\n",
    "from energiapy.components.network import Network\n",
    "from energiapy.components.scenario import Scenario\n",
    "from energiapy.components.result import Result\n",
    "from energiapy.model.formulate import formulate, Constraints, Objective\n",
    "from energiapy.plot import plot_results, plot_scenario, plot_location\n",
    "from energiapy.model.solve import solve"
   ]
  },
  {
   "cell_type": "code",
   "execution_count": 2,
   "metadata": {
    "ExecuteTime": {
     "end_time": "2023-09-19T15:40:58.041300400Z",
     "start_time": "2023-09-19T15:40:58.025645100Z"
    }
   },
   "outputs": [],
   "source": [
    "# ======================================================================================================================\n",
    "# Initialize Case Study\n",
    "# ======================================================================================================================\n",
    "_time_intervals = 10  # Number of time intervals in a planning horizon    (L_chi)\n",
    "_commodities = 2  # Number of commodities                             (rho)\n",
    "_exec_scenarios = 4  # Number of execution scenarios                     (chi)\n",
    "\n",
    "M = 1e6  # Big M\n",
    "availability_factor = pandas.DataFrame(data={'com1_pur': [1, 0.5, 0, 1], 'com2_pur': [1, 0.5, 1, 1]})\n",
    "# Define temporal scales\n",
    "scales = TemporalScale(discretization_list=[_exec_scenarios, _time_intervals])"
   ]
  },
  {
   "cell_type": "code",
   "execution_count": 3,
   "outputs": [],
   "source": [
    "# ======================================================================================================================\n",
    "# Declare resources/commodities\n",
    "# ======================================================================================================================\n",
    "\n",
    "com1_pur = Resource(name='com1_pur', cons_max=200, block={'imp': 1, 'urg': 1}, price=50,\n",
    "                    label='Commodity 1 consumed from outside the system', varying=[VaryingResource.DETERMINISTIC_AVAILABILITY])\n",
    "\n",
    "com1 = Resource(name='com1', block={'imp': 1, 'urg': 1}, label='Commodity 1')\n",
    "\n",
    "com1_sold = Resource(name='com1_sold', revenue=100.00, demand=True, sell=True, label='Commodity 1 sold to outside the system')\n",
    "\n",
    "com2_pur = Resource(name='com2_pur', cons_max=200, block={'imp': 1, 'urg': 1}, price=50,\n",
    "                    label='Commodity 2 consumed from outside the system', varying=[VaryingResource.DETERMINISTIC_AVAILABILITY])\n",
    "\n",
    "com2 = Resource(name='com2', block={'imp': 1, 'urg': 1}, label='Commodity 2')\n",
    "\n",
    "com2_sold = Resource(name='com2_sold', revenue=100.00, demand=True, sell=True, label='Commodity 2 sold to outside the system')"
   ],
   "metadata": {
    "collapsed": false,
    "ExecuteTime": {
     "end_time": "2023-09-19T15:40:58.056838600Z",
     "start_time": "2023-09-19T15:40:58.041300400Z"
    }
   }
  },
  {
   "cell_type": "code",
   "execution_count": 4,
   "outputs": [],
   "source": [
    "# ======================================================================================================================\n",
    "# Declare processes/storage capacities\n",
    "# ======================================================================================================================\n",
    "com1_procure = Process(name='procure com1', prod_max=M, conversion={com1_pur: -1, com1: 1}, capex=0, vopex=0, fopex=0,\n",
    "                  label='Procure com1')\n",
    "com1_sell = Process(name='sell com1', prod_max=M, conversion={com1: -1, com1_sold: 1}, capex=0, vopex=0, fopex=0,\n",
    "                  label='Sell com1')\n",
    "\n",
    "com1_store10 = Process(name='store10', storage=com1, store_max=10, prod_max=M, capex=100, vopex=1,\n",
    "                  label=\"Storage capacity of 10 units\")\n",
    "com1_store20 = Process(name='store20', storage=com1, store_max=20, prod_max=M, capex=200, vopex=2,\n",
    "                  label=\"Storage capacity of 20 units\")\n",
    "com1_store50 = Process(name='store50', storage=com1, store_max=50, prod_max=M, capex=500, vopex=5,\n",
    "                  label=\"Storage capacity of 50 units\")\n",
    "\n",
    "com2_procure = Process(name='procure com2', prod_max=M, conversion={com2_pur: -1, com2: 1}, capex=0, vopex=0, fopex=0,\n",
    "                  label='Procure com1')\n",
    "com2_sell = Process(name='sell com2', prod_max=M, conversion={com2: -1, com2_sold: 1}, capex=0, vopex=0, fopex=0,\n",
    "                  label='Sell com1')\n",
    "\n",
    "com2_store10 = Process(name='store101', storage=com2, store_max=10, prod_max=M, capex=100, vopex=1,\n",
    "                  label=\"Storage capacity of 10 units\")\n",
    "com2_store20 = Process(name='store201', storage=com2, store_max=20, prod_max=M, capex=200, vopex=2,\n",
    "                  label=\"Storage capacity of 20 units\")\n",
    "com2_store50 = Process(name='store501', storage=com2, store_max=50, prod_max=M, capex=500, vopex=5,\n",
    "                  label=\"Storage capacity of 50 units\")"
   ],
   "metadata": {
    "collapsed": false,
    "ExecuteTime": {
     "end_time": "2023-09-19T15:40:58.072461400Z",
     "start_time": "2023-09-19T15:40:58.056838600Z"
    }
   }
  },
  {
   "cell_type": "code",
   "execution_count": 4,
   "outputs": [],
   "source": [],
   "metadata": {
    "collapsed": false,
    "ExecuteTime": {
     "end_time": "2023-09-19T15:40:58.094769800Z",
     "start_time": "2023-09-19T15:40:58.072461400Z"
    }
   }
  },
  {
   "cell_type": "code",
   "execution_count": 5,
   "outputs": [
    {
     "name": "stderr",
     "output_type": "stream",
     "text": [
      "C:\\Users\\shivam.vedant\\PycharmProjects\\energiapy\\src\\energiapy\\components\\location.py:149: UserWarning: Input should be a dict of a DataFrame, Dict[Resource, float]\n",
      "  warn(\n"
     ]
    }
   ],
   "source": [
    "# ======================================================================================================================\n",
    "# Declare locations/warehouses\n",
    "# ======================================================================================================================\n",
    "loc1 = Location(name='loc1', processes={com1_procure, com1_store20, com2_procure, com2_store20}, label=\"Location 1\", scales=scales, demand_scale_level=1,\n",
    "                capacity_scale_level=0, availability_scale_level=0, availability_factor={com1_pur: availability_factor['com1_pur'], com2_pur: availability_factor['com2_pur']})\n",
    "loc2 = Location(name='loc2', processes={com1_store20, com2_store20}, label=\"Location 2\", scales=scales, demand_scale_level=1,\n",
    "                capacity_scale_level=0, availability_scale_level=0)\n",
    "loc3 = Location(name='loc3', processes={com1_store20, com2_store20}, label=\"Location 3\", scales=scales, demand_scale_level=1,\n",
    "                capacity_scale_level=0, availability_scale_level=0)\n",
    "loc4 = Location(name='loc4', processes={com1_store50, com2_store50}, label=\"Location 4\", scales=scales, demand_scale_level=1,\n",
    "                capacity_scale_level=0, availability_scale_level=0)\n",
    "loc5 = Location(name='loc5', processes={com1_store50, com1_sell, com2_store50, com2_sell}, label=\"Location 5\", scales=scales, demand_scale_level=1,\n",
    "                capacity_scale_level=0, availability_scale_level=0)\n",
    "loc6 = Location(name='loc6', processes={com1_procure, com1_store10, com2_procure, com2_store10}, label=\"Location 6\", scales=scales, demand_scale_level=1,\n",
    "                capacity_scale_level=0, availability_scale_level=0, availability_factor={com1_pur: availability_factor['com1_pur'], com2_pur: availability_factor['com2_pur']})\n",
    "loc7 = Location(name='loc7', processes={com1_store10, com2_store10}, label=\"Location 7\", scales=scales, demand_scale_level=1,\n",
    "                capacity_scale_level=0, availability_scale_level=0)"
   ],
   "metadata": {
    "collapsed": false,
    "ExecuteTime": {
     "end_time": "2023-09-19T15:40:58.110217Z",
     "start_time": "2023-09-19T15:40:58.094769800Z"
    }
   }
  },
  {
   "cell_type": "code",
   "execution_count": 6,
   "outputs": [],
   "source": [
    "# ======================================================================================================================\n",
    "# Declare transport/trucks\n",
    "# ======================================================================================================================\n",
    "truck20 = Transport(name='truck20', resources=[com1, com2], trans_max=20, label='Truck with maximum capacity of 20 units',\n",
    "                    trans_cost=0.02)\n",
    "truck30 = Transport(name='truck30', resources=[com1, com2], trans_max=30, label='Truck with maximum capacity of 30 units',\n",
    "                    trans_cost=0.03)\n",
    "truck40 = Transport(name='truck40', resources=[com1, com2], trans_max=40, label='Truck with maximum capacity of 40 units',\n",
    "                    trans_cost=0.04)\n",
    "truck50 = Transport(name='truck50', resources=[com1, com2], trans_max=50, label='Truck with maximum capacity of 50 units',\n",
    "                    trans_cost=0.05)\n",
    "truck100 = Transport(name='truck100', resources=[com1, com2], trans_max=100, label='Truck with maximum capacity of 100 units',\n",
    "                     trans_cost=0.1)"
   ],
   "metadata": {
    "collapsed": false,
    "ExecuteTime": {
     "end_time": "2023-09-19T15:40:58.157109700Z",
     "start_time": "2023-09-19T15:40:58.110217Z"
    }
   }
  },
  {
   "cell_type": "code",
   "execution_count": 7,
   "outputs": [],
   "source": [
    "transport_matrix = [\n",
    "    [[], [truck50], [truck30], [], [], [], []],  # sink: location 1\n",
    "    [[truck50], [], [], [truck50], [truck30], [], []],  # sink: location 2\n",
    "    [[truck30], [], [], [truck20], [], [], []],  # sink: location 3\n",
    "    [[], [truck50], [truck20], [], [truck100], [truck50], [truck40]],  # sink: location 4\n",
    "    [[], [truck30], [], [truck100], [], [], [truck40]],  # sink: location 5\n",
    "    [[], [], [], [truck50], [], [], []],  # sink: location 6\n",
    "    [[], [], [], [truck40], [truck40], [], []]  # sink: location 7\n",
    "]\n",
    "\n",
    "distance_matrix = [\n",
    "    [0, 55, 196, M, M, M, M],\n",
    "    [55, 0, M, 163, 112, M, 134],\n",
    "    [196, M, 0, 63, M, M, M],\n",
    "    [M, 163, 63, 0, 95, 117, 88],\n",
    "    [M, 112, M, 95, 0, M, 134],\n",
    "    [M, M, M, 117, M, 0, M],\n",
    "    [M, 134, M, 88, 134, M, 0]\n",
    "]\n",
    "\n",
    "# ======================================================================================================================\n",
    "# Declare network\n",
    "# ======================================================================================================================\n",
    "locset = [loc1, loc2, loc3, loc4, loc5, loc6, loc7]\n",
    "\n",
    "sources = list(locset)\n",
    "sinks = list(locset)\n",
    "\n",
    "network = Network(name='Network', source_locations=sources, sink_locations=sinks, transport_matrix=transport_matrix,\n",
    "                  distance_matrix=distance_matrix)"
   ],
   "metadata": {
    "collapsed": false,
    "ExecuteTime": {
     "end_time": "2023-09-19T15:40:58.157109700Z",
     "start_time": "2023-09-19T15:40:58.125850100Z"
    }
   }
  },
  {
   "cell_type": "code",
   "execution_count": 8,
   "outputs": [],
   "source": [
    "demand_dict = {i: {com1_sold: 100, com2_sold: 100} if i == loc5 else {com1_sold: 0, com2_sold: 0} for i in locset}\n",
    "demand_penalty_dict = {i: {com1_sold: 125, com2_sold: 125} if i == loc5 else {com1_sold: 0, com2_sold: 0} for i in locset}\n",
    "\n",
    "scenario = Scenario(name='scenario', scales=scales, scheduling_scale_level=1, network_scale_level=0,\n",
    "                    purchase_scale_level=0, availability_scale_level=0, demand_scale_level=1,\n",
    "                    network=network, demand=demand_dict, demand_penalty=demand_penalty_dict, label='scenario')"
   ],
   "metadata": {
    "collapsed": false,
    "ExecuteTime": {
     "end_time": "2023-09-19T15:40:58.157109700Z",
     "start_time": "2023-09-19T15:40:58.141487600Z"
    }
   }
  },
  {
   "cell_type": "code",
   "execution_count": 9,
   "outputs": [
    {
     "data": {
      "text/plain": "dict_keys(['loc7', 'loc6', 'loc1', 'loc2', 'loc3', 'loc4', 'loc5'])"
     },
     "execution_count": 9,
     "metadata": {},
     "output_type": "execute_result"
    }
   ],
   "source": [
    "scenario.availability_factor.keys()"
   ],
   "metadata": {
    "collapsed": false,
    "ExecuteTime": {
     "end_time": "2023-09-19T15:40:58.179224800Z",
     "start_time": "2023-09-19T15:40:58.157109700Z"
    }
   }
  },
  {
   "cell_type": "code",
   "execution_count": 10,
   "outputs": [
    {
     "name": "stdout",
     "output_type": "stream",
     "text": [
      "constraint process capex\n",
      "constraint process fopex\n",
      "constraint process vopex\n",
      "constraint process incidental\n",
      "constraint production mode\n",
      "constraint inventory balance\n",
      "ERROR: Rule failed when generating expression for Constraint\n",
      "constraint_resource_consumption_varying with index ('loc1', 'com1_pur', 0, 0):\n",
      "AttributeError: 'str' object has no attribute 'name'\n",
      "ERROR: Constructing component 'constraint_resource_consumption_varying' from\n",
      "data=None failed: AttributeError: 'str' object has no attribute 'name'\n"
     ]
    },
    {
     "ename": "AttributeError",
     "evalue": "'str' object has no attribute 'name'",
     "output_type": "error",
     "traceback": [
      "\u001B[1;31m---------------------------------------------------------------------------\u001B[0m",
      "\u001B[1;31mAttributeError\u001B[0m                            Traceback (most recent call last)",
      "Cell \u001B[1;32mIn[10], line 1\u001B[0m\n\u001B[1;32m----> 1\u001B[0m problem \u001B[38;5;241m=\u001B[39m \u001B[43mformulate\u001B[49m\u001B[43m(\u001B[49m\u001B[43mscenario\u001B[49m\u001B[38;5;241;43m=\u001B[39;49m\u001B[43mscenario\u001B[49m\u001B[43m,\u001B[49m\u001B[43m \u001B[49m\u001B[43mconstraints\u001B[49m\u001B[38;5;241;43m=\u001B[39;49m\u001B[43m{\u001B[49m\u001B[43mConstraints\u001B[49m\u001B[38;5;241;43m.\u001B[39;49m\u001B[43mCOST\u001B[49m\u001B[43m,\u001B[49m\u001B[43m \u001B[49m\u001B[43mConstraints\u001B[49m\u001B[38;5;241;43m.\u001B[39;49m\u001B[43mTRANSPORT\u001B[49m\u001B[43m,\u001B[49m\n\u001B[0;32m      2\u001B[0m \u001B[43m                                                   \u001B[49m\u001B[43mConstraints\u001B[49m\u001B[38;5;241;43m.\u001B[39;49m\u001B[43mRESOURCE_BALANCE\u001B[49m\u001B[43m,\u001B[49m\u001B[43m \u001B[49m\u001B[43mConstraints\u001B[49m\u001B[38;5;241;43m.\u001B[39;49m\u001B[43mPRODUCTION\u001B[49m\u001B[43m,\u001B[49m\n\u001B[0;32m      3\u001B[0m \u001B[43m                                                   \u001B[49m\u001B[43mConstraints\u001B[49m\u001B[38;5;241;43m.\u001B[39;49m\u001B[43mINVENTORY\u001B[49m\u001B[43m,\u001B[49m\u001B[43m \u001B[49m\u001B[43mConstraints\u001B[49m\u001B[38;5;241;43m.\u001B[39;49m\u001B[43mDEMAND\u001B[49m\u001B[43m}\u001B[49m\u001B[43m,\u001B[49m\u001B[43m \u001B[49m\u001B[43mdemand_sign\u001B[49m\u001B[38;5;241;43m=\u001B[39;49m\u001B[38;5;124;43m'\u001B[39;49m\u001B[38;5;124;43meq\u001B[39;49m\u001B[38;5;124;43m'\u001B[39;49m\u001B[43m,\u001B[49m\n\u001B[0;32m      4\u001B[0m \u001B[43m                   \u001B[49m\u001B[43mobjective\u001B[49m\u001B[38;5;241;43m=\u001B[39;49m\u001B[43mObjective\u001B[49m\u001B[38;5;241;43m.\u001B[39;49m\u001B[43mPROFIT_W_DEMAND_PENALTY\u001B[49m\u001B[43m)\u001B[49m\n",
      "File \u001B[1;32m~\\PycharmProjects\\energiapy\\src\\energiapy\\model\\formulate.py:476\u001B[0m, in \u001B[0;36mformulate\u001B[1;34m(scenario, constraints, objective, write_lpfile, gwp, land_restriction, gwp_reduction_pct, model_class, objective_resource, inventory_zero, demand_sign)\u001B[0m\n\u001B[0;32m    461\u001B[0m \u001B[38;5;66;03m# constraint_network_production(\u001B[39;00m\n\u001B[0;32m    462\u001B[0m \u001B[38;5;66;03m#     instance=instance, network_scale_level=scenario.network_scale_level)\u001B[39;00m\n\u001B[0;32m    463\u001B[0m \u001B[38;5;66;03m# constraint_network_discharge(\u001B[39;00m\n\u001B[1;32m   (...)\u001B[0m\n\u001B[0;32m    469\u001B[0m \n\u001B[0;32m    470\u001B[0m \u001B[38;5;66;03m# *----------------resource consumption---------------------------------------------\u001B[39;00m\n\u001B[0;32m    472\u001B[0m instance\u001B[38;5;241m.\u001B[39mconstraint_resource_consumption_certain \u001B[38;5;241m=\u001B[39m make_constraint(\n\u001B[0;32m    473\u001B[0m     instance\u001B[38;5;241m=\u001B[39minstance, type_cons\u001B[38;5;241m=\u001B[39mCons\u001B[38;5;241m.\u001B[39mX_LEQ_B, variable_x\u001B[38;5;241m=\u001B[39m\u001B[38;5;124m'\u001B[39m\u001B[38;5;124mC\u001B[39m\u001B[38;5;124m'\u001B[39m, location_set\u001B[38;5;241m=\u001B[39minstance\u001B[38;5;241m.\u001B[39mlocations, component_set\u001B[38;5;241m=\u001B[39minstance\u001B[38;5;241m.\u001B[39mresources_certain_availability, b_max\u001B[38;5;241m=\u001B[39mscenario\u001B[38;5;241m.\u001B[39mcons_max,\n\u001B[0;32m    474\u001B[0m     loc_comp_dict\u001B[38;5;241m=\u001B[39mscenario\u001B[38;5;241m.\u001B[39mloc_res_dict, x_scale_level\u001B[38;5;241m=\u001B[39mscenario\u001B[38;5;241m.\u001B[39mscheduling_scale_level, label\u001B[38;5;241m=\u001B[39m\u001B[38;5;124m'\u001B[39m\u001B[38;5;124mrestricts resource consumption to certain availablity\u001B[39m\u001B[38;5;124m'\u001B[39m)\n\u001B[1;32m--> 476\u001B[0m \u001B[43minstance\u001B[49m\u001B[38;5;241;43m.\u001B[39;49m\u001B[43mconstraint_resource_consumption_varying\u001B[49m \u001B[38;5;241m=\u001B[39m make_constraint(\n\u001B[0;32m    477\u001B[0m     instance\u001B[38;5;241m=\u001B[39minstance, type_cons\u001B[38;5;241m=\u001B[39mCons\u001B[38;5;241m.\u001B[39mX_LEQ_B, variable_x\u001B[38;5;241m=\u001B[39m\u001B[38;5;124m'\u001B[39m\u001B[38;5;124mC\u001B[39m\u001B[38;5;124m'\u001B[39m, location_set\u001B[38;5;241m=\u001B[39minstance\u001B[38;5;241m.\u001B[39mlocations, component_set\u001B[38;5;241m=\u001B[39minstance\u001B[38;5;241m.\u001B[39mresources_varying_availability, b_max\u001B[38;5;241m=\u001B[39mscenario\u001B[38;5;241m.\u001B[39mcons_max,\n\u001B[0;32m    478\u001B[0m     loc_comp_dict\u001B[38;5;241m=\u001B[39mscenario\u001B[38;5;241m.\u001B[39mloc_res_dict, b_factor\u001B[38;5;241m=\u001B[39mscenario\u001B[38;5;241m.\u001B[39mavailability_factor, x_scale_level\u001B[38;5;241m=\u001B[39mscenario\u001B[38;5;241m.\u001B[39mscheduling_scale_level, b_scale_level\u001B[38;5;241m=\u001B[39mscenario\u001B[38;5;241m.\u001B[39mpurchase_scale_level, label\u001B[38;5;241m=\u001B[39m\u001B[38;5;124m'\u001B[39m\u001B[38;5;124mrestricts resource consumption to varying availablity\u001B[39m\u001B[38;5;124m'\u001B[39m)\n\u001B[0;32m    480\u001B[0m \u001B[38;5;66;03m# # *----------------resource purchase---------------------------------------------\u001B[39;00m\n\u001B[0;32m    482\u001B[0m instance\u001B[38;5;241m.\u001B[39mconstraint_resource_purchase_certain \u001B[38;5;241m=\u001B[39m make_constraint(\n\u001B[0;32m    483\u001B[0m     instance\u001B[38;5;241m=\u001B[39minstance, type_cons\u001B[38;5;241m=\u001B[39mCons\u001B[38;5;241m.\u001B[39mX_EQ_BY, variable_x\u001B[38;5;241m=\u001B[39m\u001B[38;5;124m'\u001B[39m\u001B[38;5;124mB\u001B[39m\u001B[38;5;124m'\u001B[39m, variable_y\u001B[38;5;241m=\u001B[39m\u001B[38;5;124m'\u001B[39m\u001B[38;5;124mC\u001B[39m\u001B[38;5;124m'\u001B[39m, location_set\u001B[38;5;241m=\u001B[39minstance\u001B[38;5;241m.\u001B[39mlocations, component_set\u001B[38;5;241m=\u001B[39minstance\u001B[38;5;241m.\u001B[39mresources_certain_price, b_max\u001B[38;5;241m=\u001B[39mscenario\u001B[38;5;241m.\u001B[39mprice_dict,\n\u001B[0;32m    484\u001B[0m     loc_comp_dict\u001B[38;5;241m=\u001B[39mscenario\u001B[38;5;241m.\u001B[39mloc_res_dict,  x_scale_level\u001B[38;5;241m=\u001B[39mscenario\u001B[38;5;241m.\u001B[39mscheduling_scale_level, y_scale_level\u001B[38;5;241m=\u001B[39mscenario\u001B[38;5;241m.\u001B[39mscheduling_scale_level, label\u001B[38;5;241m=\u001B[39m\u001B[38;5;124m'\u001B[39m\u001B[38;5;124mcalculates certain amount spent on resource consumption\u001B[39m\u001B[38;5;124m'\u001B[39m)\n",
      "File \u001B[1;32m~\\PycharmProjects\\energiapy\\venv_energiapy\\lib\\site-packages\\pyomo\\core\\base\\block.py:580\u001B[0m, in \u001B[0;36m_BlockData.__setattr__\u001B[1;34m(self, name, val)\u001B[0m\n\u001B[0;32m    575\u001B[0m \u001B[38;5;28;01mif\u001B[39;00m name \u001B[38;5;129;01mnot\u001B[39;00m \u001B[38;5;129;01min\u001B[39;00m \u001B[38;5;28mself\u001B[39m\u001B[38;5;241m.\u001B[39m\u001B[38;5;18m__dict__\u001B[39m:\n\u001B[0;32m    576\u001B[0m     \u001B[38;5;28;01mif\u001B[39;00m \u001B[38;5;28misinstance\u001B[39m(val, Component):\n\u001B[0;32m    577\u001B[0m         \u001B[38;5;66;03m#\u001B[39;00m\n\u001B[0;32m    578\u001B[0m         \u001B[38;5;66;03m# Pyomo components are added with the add_component method.\u001B[39;00m\n\u001B[0;32m    579\u001B[0m         \u001B[38;5;66;03m#\u001B[39;00m\n\u001B[1;32m--> 580\u001B[0m         \u001B[38;5;28;43mself\u001B[39;49m\u001B[38;5;241;43m.\u001B[39;49m\u001B[43madd_component\u001B[49m\u001B[43m(\u001B[49m\u001B[43mname\u001B[49m\u001B[43m,\u001B[49m\u001B[43m \u001B[49m\u001B[43mval\u001B[49m\u001B[43m)\u001B[49m\n\u001B[0;32m    581\u001B[0m     \u001B[38;5;28;01melse\u001B[39;00m:\n\u001B[0;32m    582\u001B[0m         \u001B[38;5;66;03m#\u001B[39;00m\n\u001B[0;32m    583\u001B[0m         \u001B[38;5;66;03m# Other Python objects are added with the standard __setattr__\u001B[39;00m\n\u001B[0;32m    584\u001B[0m         \u001B[38;5;66;03m# method.\u001B[39;00m\n\u001B[0;32m    585\u001B[0m         \u001B[38;5;66;03m#\u001B[39;00m\n\u001B[0;32m    586\u001B[0m         \u001B[38;5;28msuper\u001B[39m(_BlockData, \u001B[38;5;28mself\u001B[39m)\u001B[38;5;241m.\u001B[39m\u001B[38;5;21m__setattr__\u001B[39m(name, val)\n",
      "File \u001B[1;32m~\\PycharmProjects\\energiapy\\venv_energiapy\\lib\\site-packages\\pyomo\\core\\base\\block.py:1185\u001B[0m, in \u001B[0;36m_BlockData.add_component\u001B[1;34m(self, name, val)\u001B[0m\n\u001B[0;32m   1177\u001B[0m     logger\u001B[38;5;241m.\u001B[39mdebug(\n\u001B[0;32m   1178\u001B[0m         \u001B[38;5;124m\"\u001B[39m\u001B[38;5;124mConstructing \u001B[39m\u001B[38;5;132;01m%s\u001B[39;00m\u001B[38;5;124m \u001B[39m\u001B[38;5;124m'\u001B[39m\u001B[38;5;132;01m%s\u001B[39;00m\u001B[38;5;124m'\u001B[39m\u001B[38;5;124m on \u001B[39m\u001B[38;5;132;01m%s\u001B[39;00m\u001B[38;5;124m from data=\u001B[39m\u001B[38;5;132;01m%s\u001B[39;00m\u001B[38;5;124m\"\u001B[39m,\n\u001B[0;32m   1179\u001B[0m         val\u001B[38;5;241m.\u001B[39m\u001B[38;5;18m__class__\u001B[39m\u001B[38;5;241m.\u001B[39m\u001B[38;5;18m__name__\u001B[39m,\n\u001B[1;32m   (...)\u001B[0m\n\u001B[0;32m   1182\u001B[0m         \u001B[38;5;28mstr\u001B[39m(data),\n\u001B[0;32m   1183\u001B[0m     )\n\u001B[0;32m   1184\u001B[0m \u001B[38;5;28;01mtry\u001B[39;00m:\n\u001B[1;32m-> 1185\u001B[0m     \u001B[43mval\u001B[49m\u001B[38;5;241;43m.\u001B[39;49m\u001B[43mconstruct\u001B[49m\u001B[43m(\u001B[49m\u001B[43mdata\u001B[49m\u001B[43m)\u001B[49m\n\u001B[0;32m   1186\u001B[0m \u001B[38;5;28;01mexcept\u001B[39;00m:\n\u001B[0;32m   1187\u001B[0m     err \u001B[38;5;241m=\u001B[39m sys\u001B[38;5;241m.\u001B[39mexc_info()[\u001B[38;5;241m1\u001B[39m]\n",
      "File \u001B[1;32m~\\PycharmProjects\\energiapy\\venv_energiapy\\lib\\site-packages\\pyomo\\core\\base\\constraint.py:813\u001B[0m, in \u001B[0;36mConstraint.construct\u001B[1;34m(self, data)\u001B[0m\n\u001B[0;32m    810\u001B[0m     \u001B[38;5;28;01melse\u001B[39;00m:\n\u001B[0;32m    811\u001B[0m         \u001B[38;5;66;03m# Bypass the index validation and create the member directly\u001B[39;00m\n\u001B[0;32m    812\u001B[0m         \u001B[38;5;28;01mfor\u001B[39;00m index \u001B[38;5;129;01min\u001B[39;00m \u001B[38;5;28mself\u001B[39m\u001B[38;5;241m.\u001B[39mindex_set():\n\u001B[1;32m--> 813\u001B[0m             \u001B[38;5;28mself\u001B[39m\u001B[38;5;241m.\u001B[39m_setitem_when_not_present(index, \u001B[43mrule\u001B[49m\u001B[43m(\u001B[49m\u001B[43mblock\u001B[49m\u001B[43m,\u001B[49m\u001B[43m \u001B[49m\u001B[43mindex\u001B[49m\u001B[43m)\u001B[49m)\n\u001B[0;32m    814\u001B[0m \u001B[38;5;28;01mexcept\u001B[39;00m \u001B[38;5;167;01mException\u001B[39;00m:\n\u001B[0;32m    815\u001B[0m     err \u001B[38;5;241m=\u001B[39m sys\u001B[38;5;241m.\u001B[39mexc_info()[\u001B[38;5;241m1\u001B[39m]\n",
      "File \u001B[1;32m~\\PycharmProjects\\energiapy\\venv_energiapy\\lib\\site-packages\\pyomo\\core\\base\\initializer.py:311\u001B[0m, in \u001B[0;36mIndexedCallInitializer.__call__\u001B[1;34m(self, parent, idx)\u001B[0m\n\u001B[0;32m    305\u001B[0m \u001B[38;5;28;01mdef\u001B[39;00m \u001B[38;5;21m__call__\u001B[39m(\u001B[38;5;28mself\u001B[39m, parent, idx):\n\u001B[0;32m    306\u001B[0m     \u001B[38;5;66;03m# Note: this is called by a component using data from a Set (so\u001B[39;00m\n\u001B[0;32m    307\u001B[0m     \u001B[38;5;66;03m# any tuple-like type should have already been checked and\u001B[39;00m\n\u001B[0;32m    308\u001B[0m     \u001B[38;5;66;03m# converted to a tuple; or flattening is turned off and it is\u001B[39;00m\n\u001B[0;32m    309\u001B[0m     \u001B[38;5;66;03m# the user's responsibility to sort things out.\u001B[39;00m\n\u001B[0;32m    310\u001B[0m     \u001B[38;5;28;01mif\u001B[39;00m idx\u001B[38;5;241m.\u001B[39m\u001B[38;5;18m__class__\u001B[39m \u001B[38;5;129;01mis\u001B[39;00m \u001B[38;5;28mtuple\u001B[39m:\n\u001B[1;32m--> 311\u001B[0m         \u001B[38;5;28;01mreturn\u001B[39;00m \u001B[38;5;28;43mself\u001B[39;49m\u001B[38;5;241;43m.\u001B[39;49m\u001B[43m_fcn\u001B[49m\u001B[43m(\u001B[49m\u001B[43mparent\u001B[49m\u001B[43m,\u001B[49m\u001B[43m \u001B[49m\u001B[38;5;241;43m*\u001B[39;49m\u001B[43midx\u001B[49m\u001B[43m)\u001B[49m\n\u001B[0;32m    312\u001B[0m     \u001B[38;5;28;01melse\u001B[39;00m:\n\u001B[0;32m    313\u001B[0m         \u001B[38;5;28;01mreturn\u001B[39;00m \u001B[38;5;28mself\u001B[39m\u001B[38;5;241m.\u001B[39m_fcn(parent, idx)\n",
      "File \u001B[1;32m~\\PycharmProjects\\energiapy\\src\\energiapy\\model\\constraints\\constraints.py:224\u001B[0m, in \u001B[0;36mmake_constraint.<locals>.cons_rule\u001B[1;34m(instance, location, component, *scale)\u001B[0m\n\u001B[0;32m    222\u001B[0m \u001B[38;5;28;01mif\u001B[39;00m b_factor \u001B[38;5;129;01mis\u001B[39;00m \u001B[38;5;129;01mnot\u001B[39;00m \u001B[38;5;28;01mNone\u001B[39;00m:\n\u001B[0;32m    223\u001B[0m     \u001B[38;5;28;01mif\u001B[39;00m b_factor[location] \u001B[38;5;129;01mis\u001B[39;00m \u001B[38;5;129;01mnot\u001B[39;00m \u001B[38;5;28;01mNone\u001B[39;00m:\n\u001B[1;32m--> 224\u001B[0m         bfactor \u001B[38;5;241m=\u001B[39m \u001B[43mb_factor\u001B[49m\u001B[43m[\u001B[49m\u001B[43mlocation\u001B[49m\u001B[43m]\u001B[49m\u001B[43m[\u001B[49m\u001B[43mcomponent\u001B[49m\u001B[43m]\u001B[49m[scale[:b_scale_level \u001B[38;5;241m+\u001B[39m \u001B[38;5;241m1\u001B[39m]\n\u001B[0;32m    225\u001B[0m                                                 ]\n\u001B[0;32m    226\u001B[0m     \u001B[38;5;28;01melse\u001B[39;00m:\n\u001B[0;32m    227\u001B[0m         bfactor \u001B[38;5;241m=\u001B[39m \u001B[38;5;241m1\u001B[39m\n",
      "File \u001B[1;32m~\\PycharmProjects\\energiapy\\src\\energiapy\\components\\resource.py:166\u001B[0m, in \u001B[0;36mResource.__eq__\u001B[1;34m(self, other)\u001B[0m\n\u001B[0;32m    165\u001B[0m \u001B[38;5;28;01mdef\u001B[39;00m \u001B[38;5;21m__eq__\u001B[39m(\u001B[38;5;28mself\u001B[39m, other):\n\u001B[1;32m--> 166\u001B[0m     \u001B[38;5;28;01mreturn\u001B[39;00m \u001B[38;5;28mself\u001B[39m\u001B[38;5;241m.\u001B[39mname \u001B[38;5;241m==\u001B[39m \u001B[43mother\u001B[49m\u001B[38;5;241;43m.\u001B[39;49m\u001B[43mname\u001B[49m\n",
      "\u001B[1;31mAttributeError\u001B[0m: 'str' object has no attribute 'name'"
     ]
    }
   ],
   "source": [
    " problem = formulate(scenario=scenario, constraints={Constraints.COST, Constraints.TRANSPORT,\n",
    "                                                    Constraints.RESOURCE_BALANCE, Constraints.PRODUCTION,\n",
    "                                                    Constraints.INVENTORY, Constraints.DEMAND}, demand_sign='eq',\n",
    "                    objective=Objective.PROFIT_W_DEMAND_PENALTY)"
   ],
   "metadata": {
    "collapsed": false,
    "ExecuteTime": {
     "end_time": "2023-09-19T15:41:00.749769100Z",
     "start_time": "2023-09-19T15:40:58.172716300Z"
    }
   }
  },
  {
   "cell_type": "code",
   "execution_count": 14,
   "outputs": [
    {
     "data": {
      "text/plain": "{'loc7': None,\n 'loc6': None,\n 'loc1': None,\n 'loc2': None,\n 'loc3': None,\n 'loc4': None,\n 'loc5': None}"
     },
     "execution_count": 14,
     "metadata": {},
     "output_type": "execute_result"
    }
   ],
   "source": [
    "scenario.capacity_factor"
   ],
   "metadata": {
    "collapsed": false,
    "ExecuteTime": {
     "end_time": "2023-09-19T15:42:39.923467500Z",
     "start_time": "2023-09-19T15:42:39.855242Z"
    }
   }
  },
  {
   "cell_type": "code",
   "execution_count": null,
   "outputs": [],
   "source": [
    "results = solve(scenario=scenario, instance=problem, solver='gurobi', name='MILP')"
   ],
   "metadata": {
    "collapsed": false,
    "ExecuteTime": {
     "end_time": "2023-09-19T15:41:00.749769100Z",
     "start_time": "2023-09-19T15:41:00.749769100Z"
    }
   }
  },
  {
   "cell_type": "code",
   "execution_count": null,
   "outputs": [],
   "source": [
    "print([(key, value) for key, value in results.output['S'].items() if value != 0])"
   ],
   "metadata": {
    "collapsed": false,
    "ExecuteTime": {
     "end_time": "2023-09-19T15:41:00.749769100Z",
     "start_time": "2023-09-19T15:41:00.749769100Z"
    }
   }
  },
  {
   "cell_type": "code",
   "execution_count": null,
   "outputs": [],
   "source": [
    "print([(key, value) for key, value in results.output['Inv'].items() if value != 0])"
   ],
   "metadata": {
    "collapsed": false,
    "ExecuteTime": {
     "end_time": "2023-09-19T15:41:00.749769100Z",
     "start_time": "2023-09-19T15:41:00.749769100Z"
    }
   }
  },
  {
   "cell_type": "code",
   "execution_count": null,
   "outputs": [],
   "source": [
    "print([(key, value) for key, value in results.output['Demand_penalty'].items() if value != 0])"
   ],
   "metadata": {
    "collapsed": false,
    "ExecuteTime": {
     "end_time": "2023-09-19T15:41:00.757811300Z",
     "start_time": "2023-09-19T15:41:00.757811300Z"
    }
   }
  },
  {
   "cell_type": "code",
   "execution_count": null,
   "outputs": [],
   "source": [
    "plot_location.availability_factor(resource=com1_pur,location=loc6,color='green')"
   ],
   "metadata": {
    "collapsed": false,
    "ExecuteTime": {
     "start_time": "2023-09-19T15:41:00.757811300Z"
    }
   }
  },
  {
   "cell_type": "code",
   "execution_count": null,
   "outputs": [],
   "source": [
    "plot_results.schedule(results=results, y_axis='Inv', component='store20_com1_stored', location='loc3', color='green')"
   ],
   "metadata": {
    "collapsed": false,
    "ExecuteTime": {
     "start_time": "2023-09-19T15:41:00.757811300Z"
    }
   }
  },
  {
   "cell_type": "code",
   "execution_count": null,
   "outputs": [],
   "source": [
    "plot_results.schedule(results=results, y_axis='Inv', component='store10_com1_stored', location='loc7', color='green')"
   ],
   "metadata": {
    "collapsed": false,
    "ExecuteTime": {
     "start_time": "2023-09-19T15:41:00.757811300Z"
    }
   }
  },
  {
   "cell_type": "code",
   "execution_count": null,
   "outputs": [],
   "source": [
    "plot_results.schedule(results=results, y_axis='Inv', component='store50_com1_stored', location='loc4', color='green')"
   ],
   "metadata": {
    "collapsed": false,
    "ExecuteTime": {
     "start_time": "2023-09-19T15:41:00.767912900Z"
    }
   }
  },
  {
   "cell_type": "code",
   "execution_count": null,
   "outputs": [],
   "source": [
    "plot_results.schedule(results=results, y_axis='S', component='com1_sold', location='loc5', color='green')"
   ],
   "metadata": {
    "collapsed": false,
    "ExecuteTime": {
     "start_time": "2023-09-19T15:41:00.770132200Z"
    }
   }
  },
  {
   "cell_type": "code",
   "execution_count": null,
   "outputs": [],
   "source": [
    "plot_results.schedule(results=results, y_axis='S', component='com2_sold', location='loc5', color='green')"
   ],
   "metadata": {
    "collapsed": false,
    "ExecuteTime": {
     "start_time": "2023-09-19T15:41:00.770132200Z"
    }
   }
  },
  {
   "cell_type": "code",
   "execution_count": null,
   "outputs": [],
   "source": [
    "availability_factor"
   ],
   "metadata": {
    "collapsed": false,
    "ExecuteTime": {
     "start_time": "2023-09-19T15:41:00.770132200Z"
    }
   }
  },
  {
   "cell_type": "code",
   "execution_count": null,
   "outputs": [],
   "source": [
    "total_availability_factor = availability_factor['com2_pur']\n",
    "total_availability_factor"
   ],
   "metadata": {
    "collapsed": false,
    "ExecuteTime": {
     "end_time": "2023-09-19T15:41:00.813934700Z",
     "start_time": "2023-09-19T15:41:00.770132200Z"
    }
   }
  },
  {
   "cell_type": "code",
   "execution_count": null,
   "outputs": [],
   "source": [],
   "metadata": {
    "collapsed": false,
    "ExecuteTime": {
     "start_time": "2023-09-19T15:41:00.770132200Z"
    }
   }
  }
 ],
 "metadata": {
  "language_info": {
   "name": "python"
  },
  "orig_nbformat": 4,
  "kernelspec": {
   "name": "python3",
   "language": "python",
   "display_name": "Python 3 (ipykernel)"
  }
 },
 "nbformat": 4,
 "nbformat_minor": 2
}
