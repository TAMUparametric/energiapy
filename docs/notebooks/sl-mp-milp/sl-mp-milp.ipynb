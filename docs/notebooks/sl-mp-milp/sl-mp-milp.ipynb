{
 "cells": [
  {
   "attachments": {},
   "cell_type": "markdown",
   "metadata": {},
   "source": [
    "# Multi-period Energy Systems MILP"
   ]
  },
  {
   "attachments": {},
   "cell_type": "markdown",
   "metadata": {},
   "source": [
    "__author__ = \"Rahul Kakodkar\"\n",
    "__copyright__ = \"Copyright 2023, Multi-parametric Optimization & Control Lab\"\n",
    "__credits__ = [\"Rahul Kakodkar\", \"Efstratios N. Pistikopoulos\"]\n",
    "__license__ = \"MIT\"\n",
    "__version__ = \"1.0.7\"\n",
    "__maintainer__ = \"Rahul Kakodkar\"\n",
    "__email__ = \"cacodcar@tamu.edu\"\n",
    "__status__ = \"Production\"\n"
   ]
  },
  {
   "attachments": {},
   "cell_type": "markdown",
   "metadata": {},
   "source": [
    "This example provides the code for the publication:\n",
    "\n",
    "Kakodkar R, Allen RC, Demirhan CD, Fu X, Pappas I, Mutlu M, Pistikopoulos EN. Multiperiod Modeling and Optimization of Hydrogen-Based Dense Energy Carrier Supply Chains. Processes. 2024 Feb 25;12(3):469.\n",
    "\n",
    "Which can be accessed here: \n",
    "https://www.mdpi.com/2227-9717/12/3/469#app1-processes-12-00469"
   ]
  },
  {
   "attachments": {},
   "cell_type": "markdown",
   "metadata": {},
   "source": [
    "## Import Modules"
   ]
  },
  {
   "cell_type": "code",
   "execution_count": null,
   "metadata": {},
   "outputs": [],
   "source": [
    "\n",
    "from energiapy.components import *\n",
    "from energiapy.plot import *\n",
    "from energiapy.aggregation import *\n",
    "import pandas\n",
    "from itertools import product\n",
    "from matplotlib import rc\n",
    "import matplotlib.pyplot as plt\n",
    "from energiapy.model.solve import solve\n",
    "from energiapy.utils.nsrdb_utils import fetch_nsrdb_data\n",
    "from energiapy.model.formulate import formulate, Constraints, Objective\n",
    "from energiapy.model.bounds import CapacityBounds\n",
    "from energiapy.utils.data_utils import get_data, make_henry_price_df, remove_outliers, load_results, calculate_hourly\n",
    "import numpy\n",
    "from energiapy.conversion.photovoltaic import solar_power_output\n",
    "from energiapy.conversion.windmill import wind_power_output\n"
   ]
  },
  {
   "cell_type": "markdown",
   "metadata": {},
   "source": [
    "## Data Import"
   ]
  },
  {
   "attachments": {},
   "cell_type": "markdown",
   "metadata": {},
   "source": [
    "The following data is needed for the model\n",
    "\n",
    "- solar and wind profiles : energiapy.fetch_nsrdb_data imports data from the NREL NSRDB database\n",
    "- power demand : ERCOT for Houston\n",
    "- Natural Gas prices: Henry Hub \n"
   ]
  },
  {
   "cell_type": "code",
   "execution_count": null,
   "metadata": {},
   "outputs": [],
   "source": [
    "horizon = 1"
   ]
  },
  {
   "attachments": {},
   "cell_type": "markdown",
   "metadata": {},
   "source": [
    "### Weather data"
   ]
  },
  {
   "attachments": {},
   "cell_type": "markdown",
   "metadata": {},
   "source": [
    "The fetch_nsrdb function accesses the [National Solar Radiation Database (NSRDB)](https://nsrdb.nrel.gov/) hosted by NREL on a Amazon Web Services (AWS) cloud through the h5py module To access large datasets, an API key can be requested from NREL. Instructions on how to set up the API key can be found here : https://github.com/NREL/hsds-examples/blob/master/notebooks/03_NSRDB_introduction.ipynb. Download data at any latitude longitude (globally) or state-county (because of repetition of county names) pairs within the US. Skim and fetch data which match different specifications, e.g. wind data for collection point at the highest elevation in the county. While HSDS allows you to splice datasets, the script allows you to also find means within ranges. Arrange data in a dataframe for multiscale analysis, with the temporal indices as tuples. [Can be saved as .csv/.txt/.json/.pkl]. Here, we import solar data as dni and wind data as wind speed for most populated data point in Harris county (TX) at an hourly resolution"
   ]
  },
  {
   "cell_type": "code",
   "execution_count": null,
   "metadata": {},
   "outputs": [],
   "source": [
    "coord_houston = (29.56999969482422, -95.05999755859375)\n",
    "weather_houston = pandas.read_csv('weather_houston.csv', index_col=0)\n",
    "weather_houston.index = pandas.to_datetime(weather_houston.index, utc = True)\n"
   ]
  },
  {
   "cell_type": "code",
   "execution_count": null,
   "metadata": {},
   "outputs": [],
   "source": [
    "solar_houston = solar_power_output(data= weather_houston, coord=coord_houston, sam = 'cecmod', module_params= 'Canadian_Solar_Inc__CS5P_220M', \n",
    "                                   inverter = 'cecinverter', inverter_params= 'ABB__MICRO_0_25_I_OUTD_US_208__208V_', \n",
    "                                   temperature_params= 'open_rack_glass_glass', aoi_model= 'no_loss', ac_model= 'sandia', spectral_model= 'no_loss')"
   ]
  },
  {
   "cell_type": "code",
   "execution_count": null,
   "metadata": {},
   "outputs": [],
   "source": [
    "wind_houston = wind_power_output(data= weather_houston, roughness_length= 0.1, turbine_type= 'V100/1800', hub_height= 92, \n",
    "                                 wind_speed_model= 'logarithmic', density_model = 'ideal_gas', temperature_model = 'linear_gradient', \n",
    "                                 power_output_model = 'power_coefficient_curve', density_correction = True, obstacle_height = 0, \n",
    "                                 observation_height = 10)"
   ]
  },
  {
   "attachments": {},
   "cell_type": "markdown",
   "metadata": {},
   "source": [
    "### Natural gas prices\n",
    "\n",
    "Natural gas prices are from the Henry price index at a daily temporal resolution.\n",
    "\n",
    "The energia.make_henry_price_df function implicitly fills in gaps in data such as weekends and public holidays by repeating the last recorded prices For e.g. if the 4th of July will use the price for the 3rd of July a typical saturday and sunday will take the values for the last friday.\n",
    "\n",
    "The stretch functionality stretches the values over the hourly temporal scale (8760) from a daily temporal scale (365), again through repetition.\n",
    "\n",
    "Moreover, we can remove outliers usig the remove_outliers features in data_utils"
   ]
  },
  {
   "cell_type": "code",
   "execution_count": null,
   "metadata": {},
   "outputs": [],
   "source": [
    "ng_price_df = pandas.concat(\n",
    "    [make_henry_price_df(file_name='Henry_Hub_Natural_Gas_Spot_Price_Daily.csv', year=2016 +i, stretch= True) for i in range(5)])"
   ]
  },
  {
   "attachments": {},
   "cell_type": "markdown",
   "metadata": {},
   "source": [
    "### Demand data\n",
    "\n",
    "Get [hourly power demand data](https://www.ercot.com/gridinfo/load/load_hist)  for Houston from ERCOT Coastal region"
   ]
  },
  {
   "cell_type": "code",
   "execution_count": null,
   "metadata": {},
   "outputs": [],
   "source": [
    "ercot = pandas.read_csv('ercot.csv', index_col=0)\n",
    "ercot.index = pandas.to_datetime(ercot.index, utc = True)\n",
    "ercot.loc['2016-11-06 23:00:00'] = ercot.loc['2016-11-06 22:00:00'] #random missing value"
   ]
  },
  {
   "attachments": {},
   "cell_type": "markdown",
   "metadata": {},
   "source": [
    "### Technology cost"
   ]
  },
  {
   "attachments": {},
   "cell_type": "markdown",
   "metadata": {},
   "source": [
    "NREL [Annual Technology Baseline (ATB)](https://atb.nrel.gov/) is a good source for technology cost and their expected trajectories. The annualy updated list categorizes trajectories based on the appetite for research and policy push and proposes three distinct scenarios:\n",
    "\n",
    "- Advanced\n",
    "- Moderate\n",
    "- Conservative\n",
    "\n",
    "The data for technologies not covered by ATB are drawn from literature. The trajectories for these technologies (mostly conventional) are set with only modest reduction rates as these have already stagnated in terms of cost, having witness generations of utility scale application; e.g. steam methane reforming (SMR). "
   ]
  },
  {
   "cell_type": "code",
   "execution_count": null,
   "metadata": {},
   "outputs": [],
   "source": [
    "url = 'https://oedi-data-lake.s3.amazonaws.com/ATB/electricity/parquet/2022/ATBe.parquet'\n",
    "raw_data = pandas.read_parquet(url)\n",
    "raw_data = raw_data.astype(\n",
    "    dtype={\n",
    "        'core_metric_key': 'string',\n",
    "        'core_metric_parameter': 'string',\n",
    "        'core_metric_case': 'string',\n",
    "        'crpyears': 'string',\n",
    "        'technology': 'string',\n",
    "        'technology_alias': 'string',\n",
    "        'techdetail': 'string',\n",
    "        'display_name': 'string',\n",
    "        'scenario': 'string',\n",
    "        'units': 'string'\n",
    "    })\n",
    "raw_data['technology'].unique()\n",
    "\n",
    "def atb_gttr(core_metric_parameters, core_metric_case, crpyear, technology, techdetail, scenario):\n",
    "    df_out = pandas.DataFrame()\n",
    "    for i in core_metric_parameters:\n",
    "        df = pandas.DataFrame(raw_data[\n",
    "            (raw_data.core_metric_parameter == i) &\n",
    "            (raw_data.core_metric_case == core_metric_case) &\n",
    "            (raw_data.crpyears == str(crpyear)) &\n",
    "            (raw_data.technology == technology) &\n",
    "            (raw_data.techdetail == techdetail) &\n",
    "            (raw_data.scenario == scenario)\n",
    "        ][['value']])\n",
    "        df = df.rename({'value': i}, axis='columns')\n",
    "        df = df.reset_index()\n",
    "        df_out = pandas.concat([df_out, df], axis='columns')\n",
    "        df_out = df_out.loc[:, ~df_out.columns.duplicated()].copy()\n",
    "        df_out = df_out.fillna(0)\n",
    "        df_out = df_out.drop(columns=['index'])\n",
    "    return df_out"
   ]
  },
  {
   "attachments": {},
   "cell_type": "markdown",
   "metadata": {},
   "source": [
    "We define some trajectories for technologies at different TRLs (high, medium, low) under different scenarios (Advanced, Moderate, Conservative)"
   ]
  },
  {
   "cell_type": "code",
   "execution_count": null,
   "metadata": {},
   "outputs": [],
   "source": [
    "\n",
    "hig_trl_adv = [(1 - i/(31*15)) for i in range(31)]\n",
    "hig_trl_mod = [(1 - i/(31*10)) for i in range(31)]\n",
    "hig_trl_con = [(1 - i/(31*5)) for i in range(31)]\n",
    "\n",
    "med_trl_adv = [(1 - i/(31*40)) for i in range(31)]\n",
    "med_trl_mod = [(1 - i/(31*30)) for i in range(31)]\n",
    "med_trl_con = [(1 - i/(31*20)) for i in range(31)]\n",
    "\n",
    "low_trl_adv = [(1 - i/(31*70)) for i in range(31)]\n",
    "low_trl_mod = [(1 - i/(31*50)) for i in range(31)]\n",
    "low_trl_con = [(1 - i/(31*30)) for i in range(31)]\n",
    "\n",
    "hig_trl_adv_df = pandas.DataFrame(\n",
    "    data={'CAPEX': hig_trl_adv, 'Fixed O&M': hig_trl_adv, 'Variable O&M': hig_trl_adv})\n",
    "hig_trl_mod_df = pandas.DataFrame(\n",
    "    data={'CAPEX': hig_trl_mod, 'Fixed O&M': hig_trl_mod, 'Variable O&M': hig_trl_mod})\n",
    "hig_trl_con_df = pandas.DataFrame(\n",
    "    data={'CAPEX': hig_trl_con, 'Fixed O&M': hig_trl_con, 'Variable O&M': hig_trl_con})\n",
    "med_trl_adv_df = pandas.DataFrame(\n",
    "    data={'CAPEX': med_trl_adv, 'Fixed O&M': med_trl_adv, 'Variable O&M': med_trl_adv})\n",
    "med_trl_mod_df = pandas.DataFrame(\n",
    "    data={'CAPEX': med_trl_mod, 'Fixed O&M': med_trl_mod, 'Variable O&M': med_trl_mod})\n",
    "med_trl_con_df = pandas.DataFrame(\n",
    "    data={'CAPEX': med_trl_con, 'Fixed O&M': med_trl_con, 'Variable O&M': med_trl_con})\n",
    "low_trl_adv_df = pandas.DataFrame(\n",
    "    data={'CAPEX': low_trl_adv, 'Fixed O&M': low_trl_adv, 'Variable O&M': low_trl_adv})\n",
    "low_trl_mod_df = pandas.DataFrame(\n",
    "    data={'CAPEX': low_trl_mod, 'Fixed O&M': low_trl_mod, 'Variable O&M': low_trl_mod})\n",
    "low_trl_con_df = pandas.DataFrame(\n",
    "    data={'CAPEX': low_trl_con, 'Fixed O&M': low_trl_con, 'Variable O&M': low_trl_con})\n",
    "constant_df = pandas.DataFrame(\n",
    "    data={'CAPEX': [1]*31, 'Fixed O&M': [1]*31, 'Variable O&M': [1]*31})\n"
   ]
  },
  {
   "attachments": {},
   "cell_type": "markdown",
   "metadata": {},
   "source": [
    "We define different cost trajectories for different technologies under the three cost scenarios"
   ]
  },
  {
   "cell_type": "code",
   "execution_count": null,
   "metadata": {},
   "outputs": [],
   "source": [
    "\n",
    "param_list = ['CAPEX', 'Fixed O&M', 'Variable O&M']\n",
    "advanced_dict = {\n",
    "    'RPV': atb_gttr(core_metric_parameters=param_list, core_metric_case='Market', crpyear=30, technology='ResPV', techdetail='Class5', scenario='Advanced'),\n",
    "    'PV': atb_gttr(core_metric_parameters=param_list, core_metric_case='Market', crpyear=30, technology='UtilityPV', techdetail='Class1', scenario='Advanced'),\n",
    "    'WF': atb_gttr(core_metric_parameters=param_list, core_metric_case='Market', crpyear=30, technology='LandbasedWind', techdetail='Class1', scenario='Advanced'),\n",
    "    'LiI': atb_gttr(core_metric_parameters=param_list, core_metric_case='R&D', crpyear=30, technology='Commercial Battery Storage', techdetail='8Hr Battery Storage', scenario='Advanced'),\n",
    "    'LII_discharge': constant_df,\n",
    "    'PSH': atb_gttr(core_metric_parameters=param_list, core_metric_case='Market', crpyear=30, technology='Pumped Storage Hydropower', techdetail='NatlClass10', scenario='Advanced'),\n",
    "    'PSH_discharge': constant_df,\n",
    "    'ASMR': atb_gttr(core_metric_parameters=param_list, core_metric_case='Market', crpyear=30, technology='Nuclear', techdetail='NuclearSMR', scenario='Moderate'),\n",
    "    'NPP': atb_gttr(core_metric_parameters=param_list, core_metric_case='Market', crpyear=30, technology='Nuclear', techdetail='Nuclear', scenario='Advanced'),\n",
    "    'NGCC': atb_gttr(core_metric_parameters=param_list, core_metric_case='Market', crpyear=30, technology='NaturalGas_FE', techdetail='CCCCSHFrame95%', scenario='Conservative'),\n",
    "    'SMR': hig_trl_adv_df,\n",
    "    'SMRH': hig_trl_adv_df,\n",
    "    'AqOff': hig_trl_adv_df,\n",
    "    'DAC': low_trl_adv_df,\n",
    "    'PEM': low_trl_adv_df,\n",
    "    'H2_Comp': med_trl_adv_df,\n",
    "}\n",
    "\n",
    "\n",
    "moderate_dict = {\n",
    "    'PV': atb_gttr(core_metric_parameters=param_list, core_metric_case='Market', crpyear=30, technology='UtilityPV', techdetail='Class1', scenario='Moderate'),\n",
    "    'WF': atb_gttr(core_metric_parameters=param_list, core_metric_case='Market', crpyear=30, technology='LandbasedWind', techdetail='Class1', scenario='Moderate'),\n",
    "    'LiI': atb_gttr(core_metric_parameters=param_list, core_metric_case='R&D', crpyear=30, technology='Commercial Battery Storage', techdetail='8Hr Battery Storage', scenario='Moderate'),\n",
    "    'LII_discharge': constant_df,\n",
    "    'PSH': atb_gttr(core_metric_parameters=param_list, core_metric_case='Market', crpyear=30, technology='Pumped Storage Hydropower', techdetail='NatlClass10', scenario='Moderate'),\n",
    "    'PSH_discharge': constant_df,\n",
    "    'ASMR': atb_gttr(core_metric_parameters=param_list, core_metric_case='Market', crpyear=30, technology='Nuclear', techdetail='NuclearSMR', scenario='Moderate'),\n",
    "    'NPP': atb_gttr(core_metric_parameters=param_list, core_metric_case='Market', crpyear=30, technology='Nuclear', techdetail='Nuclear', scenario='Moderate'),\n",
    "    'NGCC': atb_gttr(core_metric_parameters=param_list, core_metric_case='Market', crpyear=30, technology='NaturalGas_FE', techdetail='CCCCSHFrame95%', scenario='Conservative'),\n",
    "    'SMR': hig_trl_mod_df,\n",
    "    'SMRH': hig_trl_mod_df,\n",
    "    'AqOff': hig_trl_mod_df,\n",
    "    'DAC': low_trl_mod_df,\n",
    "    'PEM': low_trl_mod_df,\n",
    "    'H2_Comp': med_trl_mod_df,\n",
    "}\n",
    "\n",
    "\n",
    "conservative_dict = {\n",
    "    'PV': atb_gttr(core_metric_parameters=param_list, core_metric_case='Market', crpyear=30, technology='UtilityPV', techdetail='Class1', scenario='Conservative'),\n",
    "    'WF': atb_gttr(core_metric_parameters=param_list, core_metric_case='Market', crpyear=30, technology='LandbasedWind', techdetail='Class1', scenario='Conservative'),\n",
    "    'LiI': atb_gttr(core_metric_parameters=param_list, core_metric_case='R&D', crpyear=30, technology='Commercial Battery Storage', techdetail='8Hr Battery Storage', scenario='Conservative'),\n",
    "    'LII_discharge': constant_df,\n",
    "    'PSH': atb_gttr(core_metric_parameters=param_list, core_metric_case='Market', crpyear=30, technology='Pumped Storage Hydropower', techdetail='NatlClass10', scenario='Conservative'),\n",
    "    'PSH_discharge': constant_df,\n",
    "    # no cons, adv\n",
    "    'ASMR': atb_gttr(core_metric_parameters=param_list, core_metric_case='Market', crpyear=30, technology='Nuclear', techdetail='NuclearSMR', scenario='Moderate'),\n",
    "    'NPP': atb_gttr(core_metric_parameters=param_list, core_metric_case='Market', crpyear=30, technology='Nuclear', techdetail='Nuclear', scenario='Conservative'),\n",
    "    'NGCC': atb_gttr(core_metric_parameters=param_list, core_metric_case='Market', crpyear=30, technology='NaturalGas_FE', techdetail='CCCCSHFrame95%', scenario='Conservative'),\n",
    "    'SMR': hig_trl_con_df,\n",
    "    'SMRH': hig_trl_con_df,\n",
    "    'AqOff': hig_trl_con_df,\n",
    "    'DAC': low_trl_con_df,\n",
    "    'PEM': low_trl_con_df,\n",
    "    'H2_Comp': med_trl_con_df,\n",
    "}\n"
   ]
  },
  {
   "cell_type": "markdown",
   "metadata": {},
   "source": [
    "## Define temporal scale\n"
   ]
  },
  {
   "cell_type": "markdown",
   "metadata": {},
   "source": [
    "The variabilities of energy systems are best captured over a discretized spatio-temporal scale. In energiapy, the first declaration is the temporal scale. \n",
    "\n",
    "For e.g.: Here we declare three temporal scales at different levels from right to left. The interpretation of these scales is merely symentic. Scales can be declared as the problem demands.\n",
    "- 0, annual, with 1 discretization\n",
    "- 1, daily with 365 discretization\n",
    "- 2, hourly with 24 discretization\n",
    "\n",
    "In essence, we are creating a temporal scale of 8760 points."
   ]
  },
  {
   "cell_type": "code",
   "execution_count": null,
   "metadata": {},
   "outputs": [],
   "source": [
    "scales = TemporalScale(discretization_list=[horizon, 365, 24])\n"
   ]
  },
  {
   "attachments": {},
   "cell_type": "markdown",
   "metadata": {},
   "source": [
    "## Additional Parameters"
   ]
  },
  {
   "attachments": {},
   "cell_type": "markdown",
   "metadata": {},
   "source": [
    "**For Convinience**"
   ]
  },
  {
   "cell_type": "code",
   "execution_count": null,
   "metadata": {},
   "outputs": [],
   "source": [
    "bigM = 10**5\n",
    "smallM = 10"
   ]
  },
  {
   "attachments": {},
   "cell_type": "markdown",
   "metadata": {},
   "source": [
    "**Tax credits per 45Q**"
   ]
  },
  {
   "attachments": {},
   "cell_type": "markdown",
   "metadata": {},
   "source": [
    "https://www.whitehouse.gov/briefing-room/statements-releases/2021/03/31/fact-sheet-the-american-jobs-plan/"
   ]
  },
  {
   "cell_type": "code",
   "execution_count": null,
   "metadata": {},
   "outputs": [],
   "source": [
    "credit = {'DAC': {0: 31.77, 1: 31.77, 2: 31.77, 3: 31.77, 4: 31.77, 5: 50.00, 6: 50.00, 7: 50.00, 8: 50.00, 9: 50.00},\n",
    "          'AqOff': {0: 20.22, 1: 20.22, 2: 20.22, 3: 20.22, 4: 20.22, 5: 35.00, 6: 35.00, 7: 35.00, 8: 35.00, 9: 35.00}\n",
    "}\n"
   ]
  },
  {
   "attachments": {},
   "cell_type": "markdown",
   "metadata": {},
   "source": [
    "## Define single period model"
   ]
  },
  {
   "attachments": {},
   "cell_type": "markdown",
   "metadata": {},
   "source": [
    "\n",
    "\n",
    "The following processes are considered - \n",
    "\n",
    "- Modular nuclear reactors (ASMR)\n",
    "- Proton Exchange Membrane Electrolyzers (PEM)\n",
    "- Hydrogen Storage (H2_L_c/H2_L_d)\n",
    "- Natural Gas Combined Cycle with 95% carbon capture (NGCC)\n",
    "- Pumped Storage Hydropower (PSH/PSH_discharge)\n",
    "- Lithium-ion batteries (LiI/LiI_discharge)\n",
    "- Solar Photovoltaics (PV) \n",
    "- Wind Farms (WF)\n",
    "- Steam Methane Reforming (SMR)\n",
    "- SMR + Carbon Capture Utilization and Storage (SMRH)\n",
    "- Hydrogen Fuel Cells (H2FC)\n",
    "- Direct Air Capture (DAC)\n",
    "- Offshore Aquifers (AQoff)\n",
    "\n",
    "The stated processes utilize the following resources:\n",
    "\n",
    "- Methane (CH4)\n",
    "- Carbon Dioxide (CO2)\n",
    "- CO2 in aquifer (CO2_AQoff)\n",
    "- CO2 Captured from air (CO2_DAC)\n",
    "- Vented CO2 (CO2_Vent)\n",
    "- Hydrogen (H2)\n",
    "- Water (H2O)\n",
    "- Stored hydrogen (H2_L)\n",
    "- Power stored in LiI (LiI_Power)\n",
    "- Oxygen (O2)\n",
    "- Power stored in PSH (PSH_Power)\n",
    "- Power\n",
    "- Solar\n",
    "- Uranium\n",
    "- Wind\n",
    "\n",
    "We presuppose different pathways, the caveat here is that we only consider renewable power generation:\n",
    "\n",
    "1. full: contains all technologies \n",
    "2. green: hydrogen production through electrolysis\n",
    "3. blue: hydrogen production through methane reforming with carbon capture enforced\n",
    "4. gray: hydrogen production through methane reforming, and carbon emission vented\n",
    "5. There is an option of providing credits under any of the aforementioned scenarios\n",
    "\n",
    "All the resources needed for the processes need to be defined along with thier characterists (refer to examples 'Small Energy Systems Example' and 'Multiscale Energy Systems MILP'). \n",
    "\n",
    "The location specific varying parameter data is provided through the location object. \n",
    "\n",
    "The single location scenario is then reduced using agglomerative hierarchial clustering (AHC) "
   ]
  },
  {
   "cell_type": "code",
   "execution_count": null,
   "metadata": {},
   "outputs": [],
   "source": [
    "def model(name: str, year:int, cost_dict:dict, credit: dict = None, pathway: str = None):\n",
    "    \n",
    "    if pathway is None:\n",
    "        pathway = 'full'\n",
    "    \n",
    "    #*---------------- Resources---------------------------------\n",
    "\n",
    "    Solar = Resource(name='Solar', cons_max=100, basis='MW', label='Solar Power')\n",
    "\n",
    "    Wind = Resource(name='Wind', cons_max=100, basis='MW', label='Wind Power')\n",
    "\n",
    "    Power = Resource(name='Power', basis='MW', label='Power generated')#, demand = True)\n",
    "\n",
    "    Uranium = Resource(name='Uranium', cons_max=100,\n",
    "                    price=42.70/(250/2), basis='kg', label='Uranium')\n",
    "\n",
    "    H2 = Resource(name='H2', basis='tons', label='Hydrogen')\n",
    "\n",
    "    H2_C = Resource(name='H2(C)', basis='tons', label='Hydrogen(C)', demand=True, revenue= 0.005)\n",
    "\n",
    "    CO2_AQoff = Resource(name='CO2_AQoff', basis='tons',\n",
    "                        label='Carbon dioxide - sequestered', sell=True)\n",
    "\n",
    "    H2O = Resource(name='H2O', cons_max=1000,\n",
    "                price=3.00, basis='tons', label='Water', block='Resource')\n",
    "\n",
    "    CH4 = Resource(name='CH4', cons_max=1000, price=max(ng_price_df['CH4'])*1000, basis='tons',\n",
    "                label='Natural gas', varying=[VaryingResource.DETERMINISTIC_PRICE])\n",
    "\n",
    "    CO2 = Resource(name='CO2', basis='tons',\n",
    "                label='Carbon dioxide', block='Resource')\n",
    "\n",
    "    CO2_Vent = Resource(name='CO2_Vent', sell=True, basis='tons',\n",
    "                        label='Carbon dioxide - Vented')\n",
    "\n",
    "    O2 = Resource(name='O2', sell=True, basis='tons', label='Oxygen')\n",
    "\n",
    "    CO2_DAC = Resource(name='CO2_DAC', basis='tons',\n",
    "                    label='Carbon dioxide - captured')\n",
    "\n",
    "    LiI_Power = Resource(name='LiI_Power', basis='MW',\n",
    "                        label='Power in LiI', store_max=10000, store_min=smallM)\n",
    "\n",
    "    PSH_Power = Resource(name='PSH_Power', basis='MW',\n",
    "                        label='Power in PSH', store_max=10000, store_min=smallM)\n",
    "\n",
    "    #*---------------- Processes---------------------------------\n",
    "\n",
    "\n",
    "    PEM = Process(name='PEM', conversion={Power: -1, H2: 0.3537, O2: 2.8302, H2O: -3.1839}, capex= cost_dict['PEM']['CAPEX'][year]*1.55*10**6, \n",
    "                 fopex=0, vopex=0, cap_max=100, cap_min = 0, basis = 'tons', label = 'PEM' )\n",
    "\n",
    "    # LiI = Process(name='LiI', storage=Power, capex=1302182, fopex=41432, vopex=2000,\n",
    "    #             cap_max=100, cap_min=0, store_max=10000, label='Lithium-ion battery', basis='MW')\n",
    "\n",
    "\n",
    "    LiI = Process(name='LiI', conversion={Power: -1, LiI_Power: 1}, capex= cost_dict['LiI']['CAPEX'][year]*1000, \n",
    "                 fopex=cost_dict['LiI']['Fixed O&M'][year]*1000, vopex=cost_dict['LiI']['Variable O&M'][year]*1000,\n",
    "                store_max=10000, store_min=smallM, cap_max=bigM, cap_min=smallM, label='Lithium-ion battery', basis='MW', block='energy_storage')\n",
    "\n",
    "    LiI_discharge = Process(name='LiI', conversion={Power: 1, LiI_Power: -1}, capex=0.1,\n",
    "                            fopex=0.01, vopex=0, cap_max=bigM, cap_min=smallM,  label='Lithium-ion battery (d)', basis='MW')\n",
    "\n",
    "    WF = Process(name='WF', conversion={Wind: -1, Power: 1}, capex= cost_dict['WF']['CAPEX'][year]*1000, \n",
    "                 fopex=cost_dict['WF']['Fixed O&M'][year]*1000, vopex=cost_dict['WF']['Variable O&M'][year]*1000, land = 10800/1800,\n",
    "                cap_max=100, cap_min=0, label='Wind mill array', varying=[VaryingProcess.DETERMINISTIC_CAPACITY], basis='MW')\n",
    "\n",
    "    PV = Process(name='PV', conversion={Solar: -1, Power: 1}, capex= cost_dict['PV']['CAPEX'][year]*1000, \n",
    "                 fopex=cost_dict['PV']['Fixed O&M'][year]*1000, vopex=cost_dict['PV']['Variable O&M'][year]*1000,  land = 10000/1800,\n",
    "                cap_max=100, cap_min=0,  varying= [VaryingProcess.DETERMINISTIC_CAPACITY], label='Solar PV', basis='MW')\n",
    "\n",
    "    H2_Comp = Process(name='H2_Comp', conversion={Power: -0.417, H2_C: 1, H2: -1}, capex= cost_dict['H2_Comp']['CAPEX'][year]*1.6 *\n",
    "                 10**6, fopex= 0, vopex= 0, cap_max=100, cap_min=0,  label='Hydrogen Compression')\n",
    "\n",
    "    SMRH = Process(name='SMRH', conversion={Power: -1.11, CH4: -3.76, H2O: -23.7, H2: 1, CO2_Vent: 1.03, CO2: 9.332}, capex= cost_dict['SMRH']['CAPEX'][year]*252000, \n",
    "                 fopex=cost_dict['SMRH']['Fixed O&M'][year]*945000, vopex=cost_dict['SMRH']['Variable O&M'][year]*51.5,\n",
    "                cap_max=bigM, cap_min=smallM,  label='Steam methane reforming + CCUS', block='h2_prod')\n",
    "\n",
    "    NGCC = Process(name='NGCC', conversion={Power: 1, CH4: -0.108, CO2_Vent: 0.297*0.05, CO2: 0.297 *\n",
    "                0.95},capex= cost_dict['NGCC']['CAPEX'][year]*1000, \n",
    "                 fopex=cost_dict['NGCC']['Fixed O&M'][year]*1000, vopex=cost_dict['NGCC']['Variable O&M'][year]*1000, cap_max=bigM, cap_min=smallM,  label='NGCC + 95% CC', block='power_gen')\n",
    "\n",
    "\n",
    "    NG = Process(name='NG', conversion={Power: 1, CH4: -0.108, CO2_Vent: 0.297},capex= 0.3*cost_dict['NGCC']['CAPEX'][year]*1000, \n",
    "                 fopex= 0.3*cost_dict['NGCC']['Fixed O&M'][year]*1000, vopex= 0.3*cost_dict['NGCC']['Variable O&M'][year]*1000, cap_max=bigM, cap_min=smallM,  label='NGCC + 95% CC', block='power_gen')\n",
    "\n",
    "\n",
    "    SMR = Process(name='SMR', capex= cost_dict['SMR']['CAPEX'][year]*240000, \n",
    "                 fopex=cost_dict['SMR']['Fixed O&M'][year]*800000, vopex=cost_dict['SMR']['Variable O&M'][year]*30,  conversion={\n",
    "                Power: -1.11, CH4: -3.76, H2O: -23.7, H2: 1, CO2_Vent: 9.4979}, cap_max=bigM, cap_min=0.01,  label='Steam methane reforming', block='h2_prod')\n",
    "\n",
    "\n",
    "    PSH = Process(name='PSH', conversion={Power: -1, PSH_Power: 1}, capex= cost_dict['PSH']['CAPEX'][year]*1000, \n",
    "                 fopex=cost_dict['PSH']['Fixed O&M'][year]*1000, vopex=cost_dict['PSH']['Variable O&M'][year]*1000, cap_max=bigM, cap_min=smallM, store_min=smallM, store_max=1000, label='Pumped storage hydropower', basis='MW', block='energy_storage')\n",
    "\n",
    "    PSH_discharge = Process(name='PSH_discharge', conversion={Power: 1, PSH_Power: -1},  capex=0.1,\n",
    "                            fopex=0.01, vopex=0, cap_max=bigM, cap_min=smallM,  label='Pumped storage hydropower (d)', basis='MW')\n",
    "\n",
    "    ASMR = Process(name='ASMR', conversion={Uranium: -4.17*10**(-5), H2O: -3.364, Power: 1}, capex= cost_dict['ASMR']['CAPEX'][year]*1000, \n",
    "                 fopex=cost_dict['ASMR']['Fixed O&M'][year]*1000, vopex=cost_dict['ASMR']['Variable O&M'][year]*1000, cap_max=bigM, cap_min=smallM, label='Small modular reactors (SMRs)', block='power_gen')\n",
    "\n",
    "    AqOff = Process(name='AqOff', conversion={Power: -1.28, CO2_AQoff: 1, CO2: -1}, capex= cost_dict['AqOff']['CAPEX'][year]*552000, \n",
    "                fopex=0, vopex=cost_dict['AqOff']['Variable O&M'][year]*4.140, cap_max=bigM, cap_min=smallM,\n",
    "                label='Offshore aquifer CO2 sequestration (SMR)', block='ccus')\n",
    "    \n",
    "    DAC = Process(name='DAC', capex= cost_dict['DAC']['CAPEX'][year]*1000, \n",
    "                fopex=cost_dict['DAC']['Fixed O&M'][year]*1000, vopex=cost_dict['DAC']['Variable O&M'][year]*1000, conversion={\n",
    "                Power: -0.193, H2O: -4.048, CO2_DAC: 1}, cap_max=bigM, cap_min=smallM,  label='Direct air capture', block='ccus')\n",
    "\n",
    "    \n",
    "    if pathway == 'full':\n",
    "        \n",
    "        process_set = {LiI, WF, ASMR, PEM, H2_Comp, NGCC, AqOff, PSH, SMR, SMRH, PV}\n",
    "    \n",
    "    if pathway == 'green':\n",
    "        \n",
    "        process_set = {LiI, WF, ASMR, PEM, H2_Comp, PSH, PV}\n",
    "    \n",
    "    if pathway == 'blue':\n",
    "         \n",
    "        process_set = {LiI, WF, H2_Comp, NGCC, AqOff, PSH, SMRH, PV}\n",
    "    \n",
    "    if pathway == 'grey':\n",
    "        \n",
    "        process_set = {LiI, H2_Comp, NG, PSH, SMR}\n",
    "    \n",
    "    #*---------------- Location---------------------------------\n",
    "    \n",
    "    if credit is not None:\n",
    "        houston= Location(name='HO', processes=process_set, capacity_factor={PV: solar_houston[:8760*horizon], WF: wind_houston[:8760*horizon]}, price_factor={\n",
    "                   CH4: ng_price_df[:8760*horizon]}, scales=scales, label='Houston (conservative)', expenditure_scale_level=0, demand_scale_level=2, capacity_scale_level=2, \n",
    "                          price_scale_level=2, land_cost = 10000, credit = {AqOff: credit['AqOff'][year], DAC: credit['DAC'][year]})\n",
    "    else:\n",
    "        houston= Location(name='HO', processes=process_set, capacity_factor={PV: solar_houston[:8760*horizon], WF: wind_houston[:8760*horizon]}, price_factor={\n",
    "                   CH4: ng_price_df[:8760*horizon]}, scales=scales, label='Houston (conservative)', expenditure_scale_level=0, demand_scale_level=2, capacity_scale_level=2, price_scale_level=2, land_cost = 10000)\n",
    "\n",
    "    #*---------------- Scenario---------------------------------\n",
    "    \n",
    "    scenario = Scenario(name=name, network=houston, scales=scales,  expenditure_scale_level=0, scheduling_scale_level=2,\n",
    "                    network_scale_level=0, demand_scale_level=1, purchase_scale_level=2, capacity_scale_level = 2, label='full_case', demand={houston: {H2_C: 0.2740}}, annualization_factor = 0.1)\n",
    "\n",
    "    scenario_reduced =  reduce_scenario(scenario=scenario, periods=40, scale_level=1, method=Clustermethod.AHC, include = [IncludeAHC.CAPACITY, IncludeAHC.PRICE])\n",
    "\n",
    "    \n",
    "    return scenario_reduced\n",
    "\n"
   ]
  },
  {
   "attachments": {},
   "cell_type": "markdown",
   "metadata": {},
   "source": [
    "## Define multiperiod case studies"
   ]
  },
  {
   "attachments": {},
   "cell_type": "markdown",
   "metadata": {},
   "source": [
    "Multiperiod casetudies can be defined using the CaseStudy object which conviniently generates a multiperiod scenario from single scenarios. \n",
    "\n",
    "What differs between each single period scenario is primarily the cost of technology. Similarly, the conversion efficiency can also be augmented. \n",
    "\n",
    "The seven case studies defined are as follows:\n",
    "\n",
    "1. Moderate cost trajectory scenario with carbon credits and all technologies available\n",
    "2. Moderate cost trajectory scenario with only the green pathway available\n",
    "3. Moderate cost trajectory scenario with only the grey pathway available\n",
    "4. Moderate cost trajectory scenario with only the blue pathway available\n",
    "5. Advanced cost trajectory scenario with all technologies available\n",
    "6. Conservative cost trajectory scenario with all technologies available\n",
    "7. Moderate cost trajectory scenario with all technologies available\n",
    "\n"
   ]
  },
  {
   "cell_type": "code",
   "execution_count": null,
   "metadata": {},
   "outputs": [],
   "source": [
    "span_ = 10\n",
    "moderate_credit = CaseStudy(name = 'moderate_credit', scenarios= [model(name = f'scenario{i}', year= i, cost_dict= moderate_dict, credit = credit) for i in range(span_)])\n",
    "moderate_green = CaseStudy(name = 'moderate_green', scenarios= [model(name = f'scenario{i}', year= i, cost_dict= moderate_dict, pathway = 'green') for i in range(span_)])\n",
    "moderate_grey = CaseStudy(name = 'moderate_grey', scenarios= [model(name = f'scenario{i}', year= i, cost_dict= moderate_dict, pathway = 'grey') for i in range(span_)])\n",
    "moderate_blue = CaseStudy(name = 'moderate_blue', scenarios= [model(name = f'scenario{i}', year= i, cost_dict= moderate_dict, pathway = 'blue') for i in range(span_)])\n",
    "\n",
    "advanced = CaseStudy(name = 'advanced', scenarios= [model(name = f'scenario{i}', year= i, cost_dict= advanced_dict) for i in range(span_)])\n",
    "conservative = CaseStudy(name = 'conservative', scenarios= [model(name = f'scenario{i}', year= i, cost_dict=  conservative_dict) for i in range(span_)])\n",
    "moderate = CaseStudy(name = 'moderate', scenarios= [model(name = f'scenario{i}', year= i, cost_dict= moderate_dict) for i in range(span_)])\n"
   ]
  },
  {
   "attachments": {},
   "cell_type": "markdown",
   "metadata": {},
   "source": [
    "## Formulate MIPs"
   ]
  },
  {
   "attachments": {},
   "cell_type": "markdown",
   "metadata": {},
   "source": [
    "MILPs can be formulated based on these scenarios.\n",
    "\n",
    "The considered constraints are:\n",
    "\n",
    "1. Cost: these evaluate the cash flows through the system. This includes, capital expenditure, fixed and variable operational expenditure, resource purchase cost\n",
    "2. Inventory: Manages the storage of resources.\n",
    "3. Production: Capacitates the production at the scheduling scale to the available network production capacities\n",
    "4. Resource Balance: Arguably forms the core of the formulation by managing the resource balance in each time period in the scheduling scale\n",
    "5. Network: These are binary constraints which decide whether a production or storage process is established or not\n",
    "6. Demand: Ensures that the resource demand is met\n",
    "7. Land: Calculates land use by processes\n",
    "8. Credit: Calculates carbon credits earned by the use of processes\n",
    "\n",
    "The objective is to minimize cost\n",
    "\n",
    "For the full formulation refer: https://www.mdpi.com/article/10.3390/pr12030469/s1"
   ]
  },
  {
   "cell_type": "code",
   "execution_count": null,
   "metadata": {},
   "outputs": [],
   "source": [
    "moderate_credit.formulate(constraints={Constraints.COST, Constraints.INVENTORY, Constraints.PRODUCTION,\n",
    "                      Constraints.RESOURCE_BALANCE, Constraints.NETWORK, Constraints.DEMAND, Constraints.LAND, Constraints.CREDIT}, objective=Objective.COST)\n",
    "advanced.formulate(constraints={Constraints.COST, Constraints.INVENTORY, Constraints.PRODUCTION,\n",
    "                      Constraints.RESOURCE_BALANCE, Constraints.NETWORK, Constraints.DEMAND, Constraints.LAND}, objective=Objective.COST)\n",
    "conservative.formulate(constraints={Constraints.COST, Constraints.INVENTORY, Constraints.PRODUCTION,\n",
    "                      Constraints.RESOURCE_BALANCE, Constraints.NETWORK, Constraints.DEMAND, Constraints.LAND}, objective=Objective.COST)\n",
    "\n",
    "moderate.formulate(constraints={Constraints.COST, Constraints.INVENTORY, Constraints.PRODUCTION,\n",
    "                      Constraints.RESOURCE_BALANCE, Constraints.NETWORK, Constraints.DEMAND, Constraints.LAND}, objective=Objective.COST)\n",
    "moderate_green.formulate(constraints={Constraints.COST, Constraints.INVENTORY, Constraints.PRODUCTION,\n",
    "                      Constraints.RESOURCE_BALANCE, Constraints.NETWORK, Constraints.DEMAND, Constraints.LAND}, objective=Objective.COST)\n",
    "moderate_blue.formulate(constraints={Constraints.COST, Constraints.INVENTORY, Constraints.PRODUCTION,\n",
    "                      Constraints.RESOURCE_BALANCE, Constraints.NETWORK, Constraints.DEMAND, Constraints.LAND}, objective=Objective.COST)\n",
    "\n",
    "moderate_grey.formulate(constraints={Constraints.COST, Constraints.INVENTORY, Constraints.PRODUCTION,\n",
    "                      Constraints.RESOURCE_BALANCE, Constraints.NETWORK, Constraints.DEMAND, Constraints.LAND}, objective=Objective.COST)"
   ]
  },
  {
   "attachments": {},
   "cell_type": "markdown",
   "metadata": {},
   "source": [
    "## Solve the problems"
   ]
  },
  {
   "attachments": {},
   "cell_type": "markdown",
   "metadata": {},
   "source": [
    "The choice of solver here is GUROBI (https://www.gurobi.com/). This problem was solved on an academic licence. The solution can be saved as either a .txt, .json, or .pkl file. "
   ]
  },
  {
   "cell_type": "code",
   "execution_count": null,
   "metadata": {},
   "outputs": [],
   "source": [
    "moderate_credit.solve(solver='gurobi', print_solversteps=True, saveformat = '.pkl')\n",
    "advanced.solve(solver='gurobi', print_solversteps=True, saveformat = '.pkl')\n",
    "conservative.solve(solver='gurobi', print_solversteps=True, saveformat = '.pkl')\n",
    "moderate.solve(solver='gurobi', print_solversteps=True, saveformat = '.pkl')\n",
    "moderate_green.solve(solver='gurobi', print_solversteps=True, saveformat = '.pkl')\n",
    "moderate_blue.solve(solver='gurobi', print_solversteps=True, saveformat = '.pkl')\n",
    "moderate_grey.solve(solver='gurobi', print_solversteps=True, saveformat = '.pkl')\n",
    "\n"
   ]
  },
  {
   "attachments": {},
   "cell_type": "markdown",
   "metadata": {},
   "source": [
    "The results are discussed in the publication: https://www.mdpi.com/2227-9717/12/3/469#app1-processes-12-00469"
   ]
  },
  {
   "attachments": {},
   "cell_type": "markdown",
   "metadata": {},
   "source": [
    "## Cite Us"
   ]
  },
  {
   "attachments": {},
   "cell_type": "markdown",
   "metadata": {},
   "source": [
    "@article{kakodkar2024multiperiod,\n",
    "  title={Multiperiod Modeling and Optimization of Hydrogen-Based Dense Energy Carrier Supply Chains},\n",
    "  author={Kakodkar, Rahul and Allen, R Cory and Demirhan, C Doga and Fu, Xiao and Pappas, Iosif and Mutlu, Mete and Pistikopoulos, Efstratios N},\n",
    "  journal={Processes},\n",
    "  volume={12},\n",
    "  number={3},\n",
    "  pages={469},\n",
    "  year={2024},\n",
    "  publisher={MDPI}\n",
    "}"
   ]
  }
 ],
 "metadata": {
  "kernelspec": {
   "display_name": "Python 3.10.5 ('ki': venv)",
   "language": "python",
   "name": "python3"
  },
  "language_info": {
   "codemirror_mode": {
    "name": "ipython",
    "version": 3
   },
   "file_extension": ".py",
   "mimetype": "text/x-python",
   "name": "python",
   "nbconvert_exporter": "python",
   "pygments_lexer": "ipython3",
   "version": "3.10.5"
  },
  "orig_nbformat": 4,
  "vscode": {
   "interpreter": {
    "hash": "a4a97498e3c1bfef05f70a75d4fcafcb7b5c9c4ed86429a4e7bee46eaa890f24"
   }
  }
 },
 "nbformat": 4,
 "nbformat_minor": 2
}
