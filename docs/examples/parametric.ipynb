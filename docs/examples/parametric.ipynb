{
 "cells": [
  {
   "cell_type": "markdown",
   "metadata": {},
   "source": [
    "# mpLP reformulation of an energy systems MILP"
   ]
  },
  {
   "cell_type": "markdown",
   "metadata": {},
   "source": [
    "\n",
    "\\begin{equation}\n",
    "    min \\sum_{t \\in \\mathcal{T}^{net}} \\sum_{p \\in \\mathcal{P}} Capex_{p,t} \\times Cap^P_{p,t} + \\sum_{t \\in \\mathcal{T}^{sch}} \\sum_{r \\in \\mathcal{R}^{cons}}  Price_{r,t}  \\times C_{r,t} + \\sum_{t \\in \\mathcal{T}^{sch}} \\sum_{p \\in \\mathcal{P}}  Vopex_{r,t} \\times P_{r,t} \n",
    "\\end{equation}\n",
    "\n",
    "\n",
    "\\begin{equation}\n",
    "    Cap^S_{r,t} \\leq Cap^{S-max}_{r,t} \\times X^S_{r,t} \\hspace{1cm} \\forall r \\in \\mathcal{R}^{storage}, t \\in \\mathcal{T}^{net}\n",
    "\\end{equation}\n",
    "\n",
    "\\begin{equation}\n",
    "    Cap^P_{p,t} \\leq Cap^{P-max}_{p,t} \\times X^P_p  \\hspace{1cm} \\forall p \\in \\mathcal{P}, t \\in \\mathcal{T}^{net}\n",
    "\\end{equation} \n",
    "\n",
    "\\begin{equation}\n",
    "    P_{p,t} \\leq Cap^{P}_{p,t}  \\hspace{1cm} \\forall p \\in \\mathcal{P}, t \\in \\mathcal{T}^{sch}\n",
    "\\end{equation} \n",
    "\n",
    "\\begin{equation}\n",
    "    Inv_{r,t} \\leq Cap^{S}_{r,t}  \\hspace{1cm} \\forall r \\in \\mathcal{R}^{storage}, t \\in \\mathcal{T}^{sch}\n",
    "\\end{equation} \n",
    "\n",
    "\n",
    "\\begin{equation}\n",
    "    - S_{r,t} \\leq - D_{r,t}  \\hspace{1cm} \\forall r \\in \\mathcal{R}, t \\in \\mathcal{T}^{sch}\n",
    "\\end{equation}\n",
    "\n",
    "\\begin{equation}\n",
    "    C_{r,t} \\leq C^{max}_{r,t} \\hspace{1cm} \\forall r \\in \\mathcal{R}, t \\in \\mathcal{T}^{sch}\n",
    "\\end{equation}\n",
    "\n",
    "\n",
    "\\begin{equation}\n",
    "    - S_{r,t} + \\sum_{p \\in \\mathcal{P}} P_{p,t} \\times \\eta(p,r) = 0 \\hspace{1cm} \\forall r \\in \\mathcal{R}^{sell}, t \\in \\mathcal{T}^{sch}\n",
    "\\end{equation}\n",
    "\n",
    "\\begin{equation}\n",
    "    -Inv_{r,t} + \\sum_{p \\in \\mathcal{P}} P_{p,t} \\times \\eta(p,r) = 0 \\hspace{1cm} \\forall r \\in \\mathcal{R}^{stored}, t \\in \\mathcal{T}^{sch}\n",
    "\\end{equation}\n",
    "\n",
    "\\begin{equation}\n",
    "    \\sum_{p \\in \\mathcal{P}} P_{p,t} \\times \\eta(p,r) + C_{r,t} = 0 \\hspace{1cm} \\forall r \\in \\mathcal{R}^{cons}, t \\in \\mathcal{T}^{sch}\n",
    "\\end{equation}\n",
    "\n",
    "\\begin{equation}\n",
    "    S_{r,t}, C_{r,t}, Inv_{r,t}, P_{p,t}, Cap^P_p, Cap^S_r \\in R_{\\geq 0}\n",
    "\\end{equation}\n",
    "\n",
    "\n"
   ]
  },
  {
   "cell_type": "markdown",
   "metadata": {},
   "source": [
    "## mpLP reformulation"
   ]
  },
  {
   "cell_type": "markdown",
   "metadata": {},
   "source": [
    "Reformulated as an mpLP"
   ]
  },
  {
   "cell_type": "markdown",
   "metadata": {},
   "source": [
    "\n",
    "\\begin{equation}\n",
    "    min \\hspace{1cm} \\sum_{p \\in \\mathcal{P}} Capex_p \\times \\epsilon_p \\times P_p + \\sum_{r \\in \\mathcal{R}^{cons}} C_r \\times \\gamma_r \n",
    "\\end{equation}\n",
    "\n",
    "\n",
    "\\begin{equation}\n",
    "    Inv_r \\leq Cap^{S-max}_r \\hspace{1cm} \\forall r \\in \\mathcal{R}^{stored}\n",
    "\\end{equation}\n",
    "\n",
    "\\begin{equation}\n",
    "    - S_r \\leq - D_r \\times \\beta_r \\hspace{1cm} \\forall r \\in \\mathcal{R}^{demand}\n",
    "\\end{equation}\n",
    "\n",
    "\\begin{equation}\n",
    "    C_r \\leq C^{max}_r \\times \\delta_r \\hspace{1cm} \\forall r \\in \\mathcal{R}^{cons} \n",
    "\\end{equation}\n",
    "\n",
    "\\begin{equation}\n",
    "    P_p \\leq Cap^{P-max}_p \\times \\alpha_p \\hspace{1cm} \\forall p \\in \\mathcal{P}\n",
    "\\end{equation} \n",
    "\n",
    "\\begin{equation}\n",
    "    - S_{r} + \\sum_{p \\in \\mathcal{P}} P_{p} \\times \\eta(p,r) = 0 \\hspace{1cm} \\forall r \\in \\mathcal{R}^{sell}\n",
    "\\end{equation}\n",
    "\n",
    "\\begin{equation}\n",
    "    - Inv_{r} + \\sum_{p \\in \\mathcal{P}} P_{p} \\times \\eta(p,r) = 0 \\hspace{1cm} \\forall r \\in \\mathcal{R}^{stored}\n",
    "\\end{equation}\n",
    "\n",
    "\\begin{equation}\n",
    "    \\sum_{p \\in \\mathcal{P}} P_{p} \\times \\eta(p,r) + C_{r} = 0 \\hspace{1cm} \\forall r \\in \\mathcal{R}^{cons}\n",
    "\\end{equation}\n",
    "\n",
    "\\begin{equation}\n",
    "    \\alpha_p \\in A_p \\hspace{1cm} \\forall p \\in \\mathcal{P}\n",
    "\\end{equation}\n",
    "\n",
    "\\begin{equation}\n",
    "    \\beta_r \\in B_r \\hspace{1cm} \\forall r \\in \\mathcal{R}^{demand}\n",
    "\\end{equation}\n",
    "\n",
    "\\begin{equation}\n",
    "    \\gamma_r \\in \\Gamma_r \\hspace{1cm} \\forall r \\in \\mathcal{R}^{cons}\n",
    "\\end{equation}\n",
    "\n",
    "\\begin{equation}\n",
    "    \\delta_r \\in \\Delta_r \\hspace{1cm} \\forall r \\in \\mathcal{R}^{cons}\n",
    "\\end{equation}\n",
    "\n",
    "\\begin{equation}\n",
    "    \\epsilon_p \\in E_p \\hspace{1cm} \\forall p \\in \\mathcal{P}\n",
    "\\end{equation}\n",
    "\n",
    "\n",
    "\\begin{equation}\n",
    "    S_r, C_r, Inv_r, P_p \\in R_{\\geq 0}\n",
    "\\end{equation}\n"
   ]
  },
  {
   "cell_type": "markdown",
   "metadata": {},
   "source": [
    "## Example Problem"
   ]
  },
  {
   "attachments": {},
   "cell_type": "markdown",
   "metadata": {},
   "source": [
    "\n",
    "\\begin{equation}\n",
    "    p \\in \\{LI_c, LI_d, WF, PV\\} \n",
    "\\end{equation}\n",
    "\n",
    "\n",
    "\\begin{equation}\n",
    "    r \\in \\{charge, power, wind, solar\\} \n",
    "\\end{equation}\n"
   ]
  },
  {
   "attachments": {},
   "cell_type": "markdown",
   "metadata": {},
   "source": [
    "\n",
    "\\begin{equation}\n",
    "    min \\hspace{1cm} \\left[\\begin{matrix}1302\\\\0\\\\990\\\\567\\end{matrix}\\right]^T \\left[\\begin{matrix}P_{LI_c}\\\\P_{LI_d}\\\\P_{WF}\\\\P_{PV}\\end{matrix}\\right]\n",
    "\\end{equation}\n"
   ]
  },
  {
   "attachments": {},
   "cell_type": "markdown",
   "metadata": {},
   "source": [
    "\n",
    "\\begin{equation}\n",
    "    I_3\\left[\\begin{matrix}Inv_{charge}\\\\C_{wind}\\\\C_{solar}\\\\P_{LI_c}\\\\P_{LI_d}\\end{matrix}\\right] \\leq \\left[\\begin{matrix} 100\\\\100\\\\100\\\\100\\\\100\\end{matrix}\\right]\n",
    "\\end{equation}\n"
   ]
  },
  {
   "attachments": {},
   "cell_type": "markdown",
   "metadata": {},
   "source": [
    "\n",
    "\\begin{equation}\n",
    "    I_3\\left[\\begin{matrix}-S_{power}\\\\P_{WF}\\\\P_{PV}\\end{matrix}\\right] \\leq \\left[\\begin{matrix}-300 & 0 & 0\\\\0 & 100 & 0\\\\0 & 0 & 100\\end{matrix}\\right] \\left[\\begin{matrix}\\beta_{power}\\\\ \\alpha_{WF}\\\\\\alpha_{PV}\\end{matrix}\\right]\n",
    "\\end{equation}\n"
   ]
  },
  {
   "attachments": {},
   "cell_type": "markdown",
   "metadata": {},
   "source": [
    "\n",
    "\\begin{equation}\n",
    "    I_4\\left[\\begin{matrix} - Inv_{charge} \\\\ -S_{power} \\\\ C_{wind} \\\\ C_{solar} \\end{matrix}\\right] + \\left[\\begin{matrix}0.89 & -1 & 0 & 0\\\\-1 & 1 & 0.85 & 0.75\\\\0 & 0 & -1 & 0\\\\0 & 0 & 0 & -1\\end{matrix}\\right] \\left[\\begin{matrix}P_{LI_c}\\\\P_{LI_d}\\\\P_{WF}\\\\P_{PV}\\end{matrix}\\right] = 0\n",
    "\\end{equation}\n"
   ]
  },
  {
   "cell_type": "markdown",
   "metadata": {},
   "source": [
    "\n",
    "\\begin{equation}\n",
    "    \\alpha_p \\in \\mathcal{A}_p \\hspace{1cm} \\forall p \\in \\{WF, PV\\} \n",
    "\\end{equation}\n",
    "\n",
    "\\begin{equation}\n",
    "    \\beta_r \\in \\mathcal{B}_r \\hspace{1cm} \\forall r \\in \\{Power\\} \n",
    "\\end{equation}"
   ]
  },
  {
   "cell_type": "markdown",
   "metadata": {},
   "source": [
    "$\\textbf{Import modules}$"
   ]
  },
  {
   "cell_type": "code",
   "execution_count": 1,
   "metadata": {},
   "outputs": [],
   "source": [
    "from energia import *\n",
    "\n",
    "m = Model(init=[si_units])"
   ]
  },
  {
   "cell_type": "code",
   "execution_count": 2,
   "metadata": {},
   "outputs": [
    {
     "name": "stdout",
     "output_type": "stream",
     "text": [
      "--- General Resource Balance for solar in (l, t0): initializing constraint, adding consume(solar, l, t0)\n",
      "    Completed in 0.00033283233642578125 seconds\n",
      "--- Binding consume in domain (solar, l, t0)\n",
      "    Completed in 0.00015115737915039062 seconds\n",
      "--- General Resource Balance for wind in (l, t0): initializing constraint, adding consume(wind, l, t0)\n",
      "    Completed in 0.0001838207244873047 seconds\n",
      "--- Binding consume in domain (wind, l, t0)\n",
      "    Completed in 0.00011205673217773438 seconds\n",
      "--- General Resource Balance for power in (l, t0): initializing constraint, adding release(power, l, t0)\n",
      "    Completed in 0.000164031982421875 seconds\n",
      "--- Binding release in domain (power, l, t0)\n",
      "    Completed in 0.0001678466796875 seconds\n"
     ]
    }
   ],
   "source": [
    "m.solar = Resource(basis=m.MW, label='Solar Power')\n",
    "m.solar.consume <= 100\n",
    "m.wind = Resource(basis=m.MW, label='Wind Power')\n",
    "m.wind.consume <= 100\n",
    "m.power = Resource(basis=m.MW, label='Power generated')\n",
    "m.power.release == (120, 150)"
   ]
  },
  {
   "cell_type": "markdown",
   "metadata": {},
   "source": [
    "$\\textbf{Declare processes}$"
   ]
  },
  {
   "cell_type": "code",
   "execution_count": 3,
   "metadata": {},
   "outputs": [
    {
     "name": "stdout",
     "output_type": "stream",
     "text": [
      "--- General Resource Balance for power.lii in (l, t0): initializing constraint, adding inventory(power.lii, l, t0)\n",
      "--- Binding inventory in domain (power.lii, l, t0)\n",
      "    Completed in 0.00051116943359375 seconds\n",
      "--- Binding operate in domain (lii.charge, l, t0)\n",
      "    Completed in 0.00020694732666015625 seconds\n",
      "--- Binding operate in domain (lii.discharge, l, t0)\n",
      "    Completed in 0.0001690387725830078 seconds\n"
     ]
    }
   ],
   "source": [
    "m.lii = Storage()\n",
    "\n",
    "m.lii(m.power) == 0.9\n",
    "m.power.lii.inventory == (10, 100)\n",
    "\n",
    "# m.lii.capacity >= 10\n",
    "# m.lii.capacity[m.money.spend] == 1302\n",
    "m.power.lii.inventory[m.money.spend] == 2000\n",
    "m.lii.charge.operate <= 25\n",
    "m.lii.discharge.operate <= 25"
   ]
  },
  {
   "cell_type": "code",
   "execution_count": 4,
   "metadata": {},
   "outputs": [
    {
     "data": {
      "text/markdown": [
       "# Mathematical Program for Program(m)"
      ],
      "text/plain": [
       "<IPython.core.display.Markdown object>"
      ]
     },
     "metadata": {},
     "output_type": "display_data"
    },
    {
     "data": {
      "text/markdown": [
       "<br><br>"
      ],
      "text/plain": [
       "<IPython.core.display.Markdown object>"
      ]
     },
     "metadata": {},
     "output_type": "display_data"
    },
    {
     "data": {
      "text/markdown": [
       "## Index Sets"
      ],
      "text/plain": [
       "<IPython.core.display.Markdown object>"
      ]
     },
     "metadata": {},
     "output_type": "display_data"
    },
    {
     "data": {
      "text/latex": [
       "$\\displaystyle resources = \\{ solar, wind, power, power.lii \\}$"
      ],
      "text/plain": [
       "<IPython.core.display.Math object>"
      ]
     },
     "metadata": {},
     "output_type": "display_data"
    },
    {
     "data": {
      "text/latex": [
       "$\\displaystyle locations = \\{ l \\}$"
      ],
      "text/plain": [
       "<IPython.core.display.Math object>"
      ]
     },
     "metadata": {},
     "output_type": "display_data"
    },
    {
     "data": {
      "text/latex": [
       "$\\displaystyle t0 = \\{ {t0_{0}} \\}$"
      ],
      "text/plain": [
       "<IPython.core.display.Math object>"
      ]
     },
     "metadata": {},
     "output_type": "display_data"
    },
    {
     "data": {
      "text/latex": [
       "$\\displaystyle processes = \\{ lii.charge, lii.discharge \\}$"
      ],
      "text/plain": [
       "<IPython.core.display.Math object>"
      ]
     },
     "metadata": {},
     "output_type": "display_data"
    },
    {
     "data": {
      "text/latex": [
       "$\\displaystyle storages = \\{ lii \\}$"
      ],
      "text/plain": [
       "<IPython.core.display.Math object>"
      ]
     },
     "metadata": {},
     "output_type": "display_data"
    },
    {
     "data": {
      "text/latex": [
       "$\\displaystyle currencies = \\{ money \\}$"
      ],
      "text/plain": [
       "<IPython.core.display.Math object>"
      ]
     },
     "metadata": {},
     "output_type": "display_data"
    },
    {
     "data": {
      "text/markdown": [
       "<br><br>"
      ],
      "text/plain": [
       "<IPython.core.display.Markdown object>"
      ]
     },
     "metadata": {},
     "output_type": "display_data"
    },
    {
     "data": {
      "text/markdown": [
       "## s.t."
      ],
      "text/plain": [
       "<IPython.core.display.Markdown object>"
      ]
     },
     "metadata": {},
     "output_type": "display_data"
    },
    {
     "data": {
      "text/markdown": [
       "### Bound Constraint Sets"
      ],
      "text/plain": [
       "<IPython.core.display.Markdown object>"
      ]
     },
     "metadata": {},
     "output_type": "display_data"
    },
    {
     "data": {
      "text/latex": [
       "$\\displaystyle [1]\\text{   }{{{cons}}}_{solar, l, t0} - 100 \\leq 0$"
      ],
      "text/plain": [
       "<IPython.core.display.Math object>"
      ]
     },
     "metadata": {},
     "output_type": "display_data"
    },
    {
     "data": {
      "text/latex": [
       "$\\displaystyle [3]\\text{   }{{{{cons}}}}_{wind, l, t0} - 100 \\leq 0$"
      ],
      "text/plain": [
       "<IPython.core.display.Math object>"
      ]
     },
     "metadata": {},
     "output_type": "display_data"
    },
    {
     "data": {
      "text/latex": [
       "$\\displaystyle [5]\\text{   }{{{rlse}}}_{power, l, t0} - {θ0}_{power, l, t0} = 0$"
      ],
      "text/plain": [
       "<IPython.core.display.Math object>"
      ]
     },
     "metadata": {},
     "output_type": "display_data"
    },
    {
     "data": {
      "text/latex": [
       "$\\displaystyle [6]\\text{   }{{{inv}}}_{power.lii, l, t0} - {θ1}_{power.lii, l, t0} = 0$"
      ],
      "text/plain": [
       "<IPython.core.display.Math object>"
      ]
     },
     "metadata": {},
     "output_type": "display_data"
    },
    {
     "data": {
      "text/latex": [
       "$\\displaystyle [8]\\text{   }{{{opr}}}_{lii.charge, l, t0} - 25 \\leq 0$"
      ],
      "text/plain": [
       "<IPython.core.display.Math object>"
      ]
     },
     "metadata": {},
     "output_type": "display_data"
    },
    {
     "data": {
      "text/latex": [
       "$\\displaystyle [9]\\text{   }{{{{opr}}}}_{lii.discharge, l, t0} - 25 \\leq 0$"
      ],
      "text/plain": [
       "<IPython.core.display.Math object>"
      ]
     },
     "metadata": {},
     "output_type": "display_data"
    },
    {
     "data": {
      "text/markdown": [
       "### Calculation Constraint Sets"
      ],
      "text/plain": [
       "<IPython.core.display.Markdown object>"
      ]
     },
     "metadata": {},
     "output_type": "display_data"
    },
    {
     "data": {
      "text/latex": [
       "$\\displaystyle [7]\\text{   }{{spend}}_{money, l, t0, {inventory}, power.lii} - 2000 \\cdot {{{inv}}}_{power.lii, l, t0} = 0$"
      ],
      "text/plain": [
       "<IPython.core.display.Math object>"
      ]
     },
     "metadata": {},
     "output_type": "display_data"
    },
    {
     "data": {
      "text/markdown": [
       "### General Resource Balance Constraint Sets"
      ],
      "text/plain": [
       "<IPython.core.display.Markdown object>"
      ]
     },
     "metadata": {},
     "output_type": "display_data"
    },
    {
     "data": {
      "text/latex": [
       "$\\displaystyle [0]\\text{   }{{{cons}}}_{solar, l, t0} = 0$"
      ],
      "text/plain": [
       "<IPython.core.display.Math object>"
      ]
     },
     "metadata": {},
     "output_type": "display_data"
    },
    {
     "data": {
      "text/latex": [
       "$\\displaystyle [2]\\text{   }{{{{cons}}}}_{wind, l, t0} = 0$"
      ],
      "text/plain": [
       "<IPython.core.display.Math object>"
      ]
     },
     "metadata": {},
     "output_type": "display_data"
    },
    {
     "data": {
      "text/latex": [
       "$\\displaystyle [4]\\text{   }-{{{rlse}}}_{power, l, t0} = 0$"
      ],
      "text/plain": [
       "<IPython.core.display.Math object>"
      ]
     },
     "metadata": {},
     "output_type": "display_data"
    }
   ],
   "source": [
    "m.show()"
   ]
  },
  {
   "cell_type": "code",
   "execution_count": 5,
   "metadata": {},
   "outputs": [
    {
     "name": "stdout",
     "output_type": "stream",
     "text": [
      "--- Binding operate in domain (wf, l, t0)\n",
      "    Completed in 0.00027489662170410156 seconds\n",
      "--- Binding operate in domain (pv, l, t0)\n",
      "    Completed in 0.00026488304138183594 seconds\n"
     ]
    }
   ],
   "source": [
    "m.wf = Process()\n",
    "m.wf(m.power) == -1 / 0.85 * m.wind\n",
    "m.wf.operate == (0, 100)\n",
    "m.wf.operate[m.money.spend] == 990\n",
    "\n",
    "m.pv = Process()\n",
    "m.pv(m.power) == -1 / 0.75 * m.solar\n",
    "m.pv.operate == (0, 100)\n",
    "m.pv.operate[m.money.spend] == 567"
   ]
  },
  {
   "cell_type": "code",
   "execution_count": 6,
   "metadata": {},
   "outputs": [
    {
     "name": "stdout",
     "output_type": "stream",
     "text": [
      "--- Assuming  pv capacity is unbounded in (l, t0)\n",
      "--- Assuming operation of pv is bound by capacity in (l, t0)\n",
      "--- Binding operate in domain (pv, l, t0)\n",
      "    Completed in 0.00028395652770996094 seconds\n",
      "--- General Resource Balance for power in (l, t0): adding produce(power, l, t0, operate, pv)\n",
      "    Completed in 0.0002377033233642578 seconds\n",
      "--- General Resource Balance for solar in (l, t0): adding expend(solar, l, t0, operate, pv)\n",
      "    Completed in 0.00023508071899414062 seconds\n",
      "--- Assuming  wf capacity is unbounded in (l, t0)\n",
      "--- Assuming operation of wf is bound by capacity in (l, t0)\n",
      "--- Binding operate in domain (wf, l, t0)\n",
      "    Completed in 0.0002789497375488281 seconds\n",
      "--- General Resource Balance for power in (l, t0): adding produce(power, l, t0, operate, wf)\n",
      "    Completed in 0.0002422332763671875 seconds\n",
      "--- General Resource Balance for wind in (l, t0): adding expend(wind, l, t0, operate, wf)\n",
      "    Completed in 0.00027108192443847656 seconds\n",
      "--- Assuming  power.lii inventory capacity is unbounded in (l, t0)\n",
      "--- Assuming inventory of power.lii is bound by inventory capacity in (l, t0)\n",
      "--- Assuming inventory of power.lii is bound by inventory capacity in (l, t0)\n",
      "--- Binding inventory in domain (power.lii, l, t0)\n",
      "    Completed in 0.00022411346435546875 seconds\n",
      "--- Assuming  lii.charge capacity is unbounded in (l, t0)\n",
      "--- General Resource Balance for power.lii in (l, t0): initializing constraint, adding produce(power.lii, l, t0, operate, lii.charge)\n",
      "    Completed in 0.011814355850219727 seconds\n",
      "--- General Resource Balance for power in (l, t0): adding expend(power, l, t0, operate, lii.charge)\n",
      "    Completed in 0.0002548694610595703 seconds\n",
      "--- Assuming  lii.discharge capacity is unbounded in (l, t0)\n",
      "--- General Resource Balance for power in (l, t0): adding produce(power, l, t0, operate, lii.discharge)\n",
      "    Completed in 0.0002460479736328125 seconds\n",
      "--- General Resource Balance for power.lii in (l, t0): adding expend(power.lii, l, t0, operate, lii.discharge)\n",
      "    Completed in 0.00024390220642089844 seconds\n"
     ]
    }
   ],
   "source": [
    "m.locate(m.pv, m.wf, m.lii)"
   ]
  },
  {
   "cell_type": "code",
   "execution_count": 7,
   "metadata": {},
   "outputs": [
    {
     "name": "stdout",
     "output_type": "stream",
     "text": [
      "--- Mapping spend: (money, l, t0, inventory, power.lii) → (money, l, t0)\n",
      "    Completed in 0.000s\n",
      "--- Mapping spend: (money, l, t0, operate, wf) → (money, l, t0)\n",
      "    Completed in 0.000s\n",
      "--- Mapping spend: (money, l, t0, operate, pv) → (money, l, t0)\n",
      "    Completed in 0.000s\n",
      "--- Generating Program(m).mps\n",
      "--- Creating gurobi model for Program(m)\n",
      "Set parameter Username\n",
      "Academic license - for non-commercial use only - expires 2025-12-16\n",
      "Warning: column name V18 in bound section not defined\n",
      "Warning: column name V21 in bound section not defined\n",
      "Read MPS format model from file Program(m).mps\n",
      "Reading time = 0.02 seconds\n",
      "PROGRAM(M): 27 rows, 23 columns, 51 nonzeros\n",
      "--- Optimizing Program(m) using gurobi\n",
      "Gurobi Optimizer version 12.0.3 build v12.0.3rc0 (mac64[x86] - Darwin 21.6.0 21H1320)\n",
      "\n",
      "CPU model: Intel(R) Core(TM) i7-6567U CPU @ 3.30GHz\n",
      "Thread count: 2 physical cores, 4 logical processors, using up to 4 threads\n",
      "\n",
      "Optimize a model with 27 rows, 23 columns and 51 nonzeros\n",
      "Model fingerprint: 0xe6cdd64f\n",
      "Coefficient statistics:\n",
      "  Matrix range     [1e+00, 2e+03]\n",
      "  Objective range  [1e+00, 1e+00]\n",
      "  Bounds range     [0e+00, 0e+00]\n",
      "  RHS range        [2e+01, 1e+02]\n",
      "Presolve removed 27 rows and 23 columns\n",
      "Presolve time: 0.03s\n",
      "Presolve: All rows and columns removed\n",
      "Iteration    Objective       Primal Inf.    Dual Inf.      Time\n",
      "       0    0.0000000e+00   0.000000e+00   0.000000e+00      0s\n",
      "\n",
      "Solved in 0 iterations and 0.09 seconds (0.00 work units)\n",
      "Optimal objective  0.000000000e+00\n",
      "--- Solution found. Use .sol() to display it\n",
      "--- Creating Solution object, check.solution\n"
     ]
    }
   ],
   "source": [
    "m.money.spend.opt()"
   ]
  },
  {
   "cell_type": "code",
   "execution_count": 8,
   "metadata": {},
   "outputs": [
    {
     "name": "stdout",
     "output_type": "stream",
     "text": [
      "--- Creating PPOPT MPLP_Program for Program(m)\n"
     ]
    },
    {
     "name": "stdout",
     "output_type": "stream",
     "text": [
      "--- Solving Program(m) using PPOPT combinatorial algorithm\n"
     ]
    }
   ],
   "source": [
    "m.solve()"
   ]
  },
  {
   "cell_type": "code",
   "execution_count": 9,
   "metadata": {},
   "outputs": [
    {
     "data": {
      "text/plain": [
       "dict_keys(['A', 'b', 'C', 'd', 'E', 'f', 'active_set', 'omega_set', 'lambda_set', 'regular_set', 'y_fixation', 'y_indices', 'x_indices'])"
      ]
     },
     "execution_count": 9,
     "metadata": {},
     "output_type": "execute_result"
    }
   ],
   "source": [
    "m.solution[1].critical_regions[0].__dict__.keys()"
   ]
  },
  {
   "cell_type": "code",
   "execution_count": 10,
   "metadata": {},
   "outputs": [],
   "source": [
    "cr = m.solution[1].critical_regions[0]"
   ]
  },
  {
   "cell_type": "code",
   "execution_count": 13,
   "metadata": {},
   "outputs": [
    {
     "data": {
      "text/plain": [
       "array([[ 0.0000000e+00],\n",
       "       [ 0.0000000e+00],\n",
       "       [ 0.0000000e+00],\n",
       "       [ 0.0000000e+00],\n",
       "       [-2.8284271e+03],\n",
       "       [-2.0000002e+03],\n",
       "       [-1.4000714e+03],\n",
       "       [-9.9000050e+02],\n",
       "       [-8.0185910e+02],\n",
       "       [-5.6700090e+02],\n",
       "       [ 0.0000000e+00],\n",
       "       [ 0.0000000e+00],\n",
       "       [ 0.0000000e+00],\n",
       "       [ 0.0000000e+00],\n",
       "       [ 0.0000000e+00],\n",
       "       [ 0.0000000e+00],\n",
       "       [ 0.0000000e+00],\n",
       "       [ 0.0000000e+00],\n",
       "       [ 0.0000000e+00],\n",
       "       [-2.0000000e+00],\n",
       "       [ 0.0000000e+00],\n",
       "       [ 0.0000000e+00],\n",
       "       [ 0.0000000e+00],\n",
       "       [ 0.0000000e+00],\n",
       "       [ 0.0000000e+00]])"
      ]
     },
     "execution_count": 13,
     "metadata": {},
     "output_type": "execute_result"
    }
   ],
   "source": [
    "cr.d"
   ]
  },
  {
   "cell_type": "code",
   "execution_count": 11,
   "metadata": {},
   "outputs": [
    {
     "ename": "NameError",
     "evalue": "name 'numpy' is not defined",
     "output_type": "error",
     "traceback": [
      "\u001b[31m---------------------------------------------------------------------------\u001b[39m",
      "\u001b[31mNameError\u001b[39m                                 Traceback (most recent call last)",
      "\u001b[36mCell\u001b[39m\u001b[36m \u001b[39m\u001b[32mIn[11]\u001b[39m\u001b[32m, line 5\u001b[39m\n\u001b[32m      1\u001b[39m coordinates = []\n\u001b[32m      2\u001b[39m \u001b[38;5;28;01mfrom\u001b[39;00m\u001b[38;5;250m \u001b[39m\u001b[34;01mitertools\u001b[39;00m\u001b[38;5;250m \u001b[39m\u001b[38;5;28;01mimport\u001b[39;00m product\n\u001b[32m      4\u001b[39m \u001b[38;5;28;01mfor\u001b[39;00m i, j, k \u001b[38;5;129;01min\u001b[39;00m product(\n\u001b[32m----> \u001b[39m\u001b[32m5\u001b[39m     \u001b[43mnumpy\u001b[49m.linspace(\u001b[32m0\u001b[39m, \u001b[32m1\u001b[39m, \u001b[32m50\u001b[39m), numpy.linspace(\u001b[32m0\u001b[39m, \u001b[32m1\u001b[39m, \u001b[32m50\u001b[39m), numpy.linspace(\u001b[32m0\u001b[39m, \u001b[32m1\u001b[39m, \u001b[32m50\u001b[39m)\n\u001b[32m      6\u001b[39m ):\n\u001b[32m      7\u001b[39m     l = solution.evaluate_objective(numpy.array([[i], [j], [k]]))\n\u001b[32m      8\u001b[39m     \u001b[38;5;28;01mif\u001b[39;00m l \u001b[38;5;129;01mis\u001b[39;00m \u001b[38;5;129;01mnot\u001b[39;00m \u001b[38;5;28;01mNone\u001b[39;00m:\n",
      "\u001b[31mNameError\u001b[39m: name 'numpy' is not defined"
     ]
    }
   ],
   "source": [
    "coordinates = []\n",
    "from itertools import product\n",
    "\n",
    "for i, j, k in product(\n",
    "    numpy.linspace(0, 1, 50), numpy.linspace(0, 1, 50), numpy.linspace(0, 1, 50)\n",
    "):\n",
    "    l = solution.evaluate_objective(numpy.array([[i], [j], [k]]))\n",
    "    if l is not None:\n",
    "        coordinates.append((i, j, k, l[0][0]))"
   ]
  },
  {
   "attachments": {},
   "cell_type": "markdown",
   "metadata": {},
   "source": [
    "Unique solutions"
   ]
  },
  {
   "cell_type": "code",
   "execution_count": null,
   "metadata": {},
   "outputs": [],
   "source": [
    "set([coordinates[i][3] for i in range(len(coordinates))])"
   ]
  },
  {
   "cell_type": "code",
   "execution_count": null,
   "metadata": {},
   "outputs": [],
   "source": [
    "import matplotlib.pyplot as plt\n",
    "from mpl_toolkits.mplot3d import Axes3D\n",
    "from matplotlib import cm\n",
    "\n",
    "# Sample data: (x, y, z, color_value)\n",
    "data = coordinates\n",
    "fig = plt.figure()\n",
    "ax = fig.add_subplot(111, projection='3d')\n",
    "\n",
    "x_vals, y_vals, z_vals, color_vals = zip(*data)\n",
    "\n",
    "# Use color map to convert the color_value to a color\n",
    "norm = plt.Normalize(min(color_vals), max(color_vals))\n",
    "colors = cm.viridis(norm(color_vals))\n",
    "\n",
    "scatter = ax.scatter(x_vals, y_vals, z_vals, c=colors, cmap='viridis', s=50)\n",
    "\n",
    "# Add a color bar to show the mapping of color values\n",
    "cbar = fig.colorbar(scatter, ax=ax, pad=0.1)\n",
    "cbar.set_label('Fourth Dimension')\n",
    "\n",
    "# ax.set_ylim(ax.get_xlim()[::-1])\n",
    "# ax.set_ylim(ax.get_ylim()[::-1])\n",
    "# ax.set_ylim(ax.get_zlim()[::-1])\n",
    "\n",
    "ax.zorder = 0\n",
    "ax.set_xlim(0, 1)\n",
    "ax.set_ylim(0, 1)\n",
    "ax.set_zlim(0, 1)\n",
    "\n",
    "ax.set_xlabel('X Label')\n",
    "ax.set_ylabel('Y Label')\n",
    "ax.set_zlabel('Z Label')\n",
    "plt.show()"
   ]
  },
  {
   "cell_type": "code",
   "execution_count": null,
   "metadata": {},
   "outputs": [],
   "source": [
    "coordinates = [tuple(map(lambda x: 0 if x < 0.001 else x, i)) for i in coordinates]"
   ]
  }
 ],
 "metadata": {
  "kernelspec": {
   "display_name": ".venv",
   "language": "python",
   "name": "python3"
  },
  "language_info": {
   "codemirror_mode": {
    "name": "ipython",
    "version": 3
   },
   "file_extension": ".py",
   "mimetype": "text/x-python",
   "name": "python",
   "nbconvert_exporter": "python",
   "pygments_lexer": "ipython3",
   "version": "3.13.8"
  },
  "orig_nbformat": 4
 },
 "nbformat": 4,
 "nbformat_minor": 2
}
