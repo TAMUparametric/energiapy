{
 "cells": [
  {
   "cell_type": "markdown",
   "metadata": {},
   "source": [
    "# mpLP reformulation of an energy systems MILP"
   ]
  },
  {
   "cell_type": "markdown",
   "metadata": {},
   "source": [
    "\n",
    "\\begin{equation}\n",
    "    min \\sum_{t \\in \\mathcal{T}^{net}} \\sum_{p \\in \\mathcal{P}} Capex_{p,t} \\times Cap^P_{p,t} + \\sum_{t \\in \\mathcal{T}^{sch}} \\sum_{r \\in \\mathcal{R}^{cons}}  Price_{r,t}  \\times C_{r,t} + \\sum_{t \\in \\mathcal{T}^{sch}} \\sum_{p \\in \\mathcal{P}}  Vopex_{r,t} \\times P_{r,t} \n",
    "\\end{equation}\n",
    "\n",
    "\n",
    "\\begin{equation}\n",
    "    Cap^S_{r,t} \\leq Cap^{S-max}_{r,t} \\times X^S_{r,t} \\hspace{1cm} \\forall r \\in \\mathcal{R}^{storage}, t \\in \\mathcal{T}^{net}\n",
    "\\end{equation}\n",
    "\n",
    "\\begin{equation}\n",
    "    Cap^P_{p,t} \\leq Cap^{P-max}_{p,t} \\times X^P_p  \\hspace{1cm} \\forall p \\in \\mathcal{P}, t \\in \\mathcal{T}^{net}\n",
    "\\end{equation} \n",
    "\n",
    "\\begin{equation}\n",
    "    P_{p,t} \\leq Cap^{P}_{p,t}  \\hspace{1cm} \\forall p \\in \\mathcal{P}, t \\in \\mathcal{T}^{sch}\n",
    "\\end{equation} \n",
    "\n",
    "\\begin{equation}\n",
    "    Inv_{r,t} \\leq Cap^{S}_{r,t}  \\hspace{1cm} \\forall r \\in \\mathcal{R}^{storage}, t \\in \\mathcal{T}^{sch}\n",
    "\\end{equation} \n",
    "\n",
    "\n",
    "\\begin{equation}\n",
    "    - S_{r,t} \\leq - D_{r,t}  \\hspace{1cm} \\forall r \\in \\mathcal{R}, t \\in \\mathcal{T}^{sch}\n",
    "\\end{equation}\n",
    "\n",
    "\\begin{equation}\n",
    "    C_{r,t} \\leq C^{max}_{r,t} \\hspace{1cm} \\forall r \\in \\mathcal{R}, t \\in \\mathcal{T}^{sch}\n",
    "\\end{equation}\n",
    "\n",
    "\n",
    "\\begin{equation}\n",
    "    - S_{r,t} + \\sum_{p \\in \\mathcal{P}} P_{p,t} \\times \\eta(p,r) = 0 \\hspace{1cm} \\forall r \\in \\mathcal{R}^{sell}, t \\in \\mathcal{T}^{sch}\n",
    "\\end{equation}\n",
    "\n",
    "\\begin{equation}\n",
    "    -Inv_{r,t} + \\sum_{p \\in \\mathcal{P}} P_{p,t} \\times \\eta(p,r) = 0 \\hspace{1cm} \\forall r \\in \\mathcal{R}^{stored}, t \\in \\mathcal{T}^{sch}\n",
    "\\end{equation}\n",
    "\n",
    "\\begin{equation}\n",
    "    \\sum_{p \\in \\mathcal{P}} P_{p,t} \\times \\eta(p,r) + C_{r,t} = 0 \\hspace{1cm} \\forall r \\in \\mathcal{R}^{cons}, t \\in \\mathcal{T}^{sch}\n",
    "\\end{equation}\n",
    "\n",
    "\\begin{equation}\n",
    "    S_{r,t}, C_{r,t}, Inv_{r,t}, P_{p,t}, Cap^P_p, Cap^S_r \\in R_{\\geq 0}\n",
    "\\end{equation}\n",
    "\n",
    "\n"
   ]
  },
  {
   "cell_type": "markdown",
   "metadata": {},
   "source": [
    "## mpLP reformulation"
   ]
  },
  {
   "cell_type": "markdown",
   "metadata": {},
   "source": [
    "Reformulated as an mpLP"
   ]
  },
  {
   "cell_type": "markdown",
   "metadata": {},
   "source": [
    "\n",
    "\\begin{equation}\n",
    "    min \\hspace{1cm} \\sum_{p \\in \\mathcal{P}} Capex_p \\times \\epsilon_p \\times P_p + \\sum_{r \\in \\mathcal{R}^{cons}} C_r \\times \\gamma_r \n",
    "\\end{equation}\n",
    "\n",
    "\n",
    "\\begin{equation}\n",
    "    Inv_r \\leq Cap^{S-max}_r \\hspace{1cm} \\forall r \\in \\mathcal{R}^{stored}\n",
    "\\end{equation}\n",
    "\n",
    "\\begin{equation}\n",
    "    - S_r \\leq - D_r \\times \\beta_r \\hspace{1cm} \\forall r \\in \\mathcal{R}^{demand}\n",
    "\\end{equation}\n",
    "\n",
    "\\begin{equation}\n",
    "    C_r \\leq C^{max}_r \\times \\delta_r \\hspace{1cm} \\forall r \\in \\mathcal{R}^{cons} \n",
    "\\end{equation}\n",
    "\n",
    "\\begin{equation}\n",
    "    P_p \\leq Cap^{P-max}_p \\times \\alpha_p \\hspace{1cm} \\forall p \\in \\mathcal{P}\n",
    "\\end{equation} \n",
    "\n",
    "\\begin{equation}\n",
    "    - S_{r} + \\sum_{p \\in \\mathcal{P}} P_{p} \\times \\eta(p,r) = 0 \\hspace{1cm} \\forall r \\in \\mathcal{R}^{sell}\n",
    "\\end{equation}\n",
    "\n",
    "\\begin{equation}\n",
    "    - Inv_{r} + \\sum_{p \\in \\mathcal{P}} P_{p} \\times \\eta(p,r) = 0 \\hspace{1cm} \\forall r \\in \\mathcal{R}^{stored}\n",
    "\\end{equation}\n",
    "\n",
    "\\begin{equation}\n",
    "    \\sum_{p \\in \\mathcal{P}} P_{p} \\times \\eta(p,r) + C_{r} = 0 \\hspace{1cm} \\forall r \\in \\mathcal{R}^{cons}\n",
    "\\end{equation}\n",
    "\n",
    "\\begin{equation}\n",
    "    \\alpha_p \\in A_p \\hspace{1cm} \\forall p \\in \\mathcal{P}\n",
    "\\end{equation}\n",
    "\n",
    "\\begin{equation}\n",
    "    \\beta_r \\in B_r \\hspace{1cm} \\forall r \\in \\mathcal{R}^{demand}\n",
    "\\end{equation}\n",
    "\n",
    "\\begin{equation}\n",
    "    \\gamma_r \\in \\Gamma_r \\hspace{1cm} \\forall r \\in \\mathcal{R}^{cons}\n",
    "\\end{equation}\n",
    "\n",
    "\\begin{equation}\n",
    "    \\delta_r \\in \\Delta_r \\hspace{1cm} \\forall r \\in \\mathcal{R}^{cons}\n",
    "\\end{equation}\n",
    "\n",
    "\\begin{equation}\n",
    "    \\epsilon_p \\in E_p \\hspace{1cm} \\forall p \\in \\mathcal{P}\n",
    "\\end{equation}\n",
    "\n",
    "\n",
    "\\begin{equation}\n",
    "    S_r, C_r, Inv_r, P_p \\in R_{\\geq 0}\n",
    "\\end{equation}\n"
   ]
  },
  {
   "cell_type": "markdown",
   "metadata": {},
   "source": [
    "## Example Problem"
   ]
  },
  {
   "attachments": {},
   "cell_type": "markdown",
   "metadata": {},
   "source": [
    "\n",
    "\\begin{equation}\n",
    "    p \\in \\{LI_c, LI_d, WF, PV\\} \n",
    "\\end{equation}\n",
    "\n",
    "\n",
    "\\begin{equation}\n",
    "    r \\in \\{charge, power, wind, solar\\} \n",
    "\\end{equation}\n"
   ]
  },
  {
   "attachments": {},
   "cell_type": "markdown",
   "metadata": {},
   "source": [
    "\n",
    "\\begin{equation}\n",
    "    min \\hspace{1cm} \\left[\\begin{matrix}1302\\\\0\\\\990\\\\567\\end{matrix}\\right]^T \\left[\\begin{matrix}P_{LI_c}\\\\P_{LI_d}\\\\P_{WF}\\\\P_{PV}\\end{matrix}\\right]\n",
    "\\end{equation}\n"
   ]
  },
  {
   "attachments": {},
   "cell_type": "markdown",
   "metadata": {},
   "source": [
    "\n",
    "\\begin{equation}\n",
    "    I_3\\left[\\begin{matrix}Inv_{charge}\\\\C_{wind}\\\\C_{solar}\\\\P_{LI_c}\\\\P_{LI_d}\\end{matrix}\\right] \\leq \\left[\\begin{matrix} 100\\\\100\\\\100\\\\100\\\\100\\end{matrix}\\right]\n",
    "\\end{equation}\n"
   ]
  },
  {
   "attachments": {},
   "cell_type": "markdown",
   "metadata": {},
   "source": [
    "\n",
    "\\begin{equation}\n",
    "    I_3\\left[\\begin{matrix}-S_{power}\\\\P_{WF}\\\\P_{PV}\\end{matrix}\\right] \\leq \\left[\\begin{matrix}-300 & 0 & 0\\\\0 & 100 & 0\\\\0 & 0 & 100\\end{matrix}\\right] \\left[\\begin{matrix}\\beta_{power}\\\\ \\alpha_{WF}\\\\\\alpha_{PV}\\end{matrix}\\right]\n",
    "\\end{equation}\n"
   ]
  },
  {
   "attachments": {},
   "cell_type": "markdown",
   "metadata": {},
   "source": [
    "\n",
    "\\begin{equation}\n",
    "    I_4\\left[\\begin{matrix} - Inv_{charge} \\\\ -S_{power} \\\\ C_{wind} \\\\ C_{solar} \\end{matrix}\\right] + \\left[\\begin{matrix}0.89 & -1 & 0 & 0\\\\-1 & 1 & 0.85 & 0.75\\\\0 & 0 & -1 & 0\\\\0 & 0 & 0 & -1\\end{matrix}\\right] \\left[\\begin{matrix}P_{LI_c}\\\\P_{LI_d}\\\\P_{WF}\\\\P_{PV}\\end{matrix}\\right] = 0\n",
    "\\end{equation}\n"
   ]
  },
  {
   "cell_type": "markdown",
   "metadata": {},
   "source": [
    "\n",
    "\\begin{equation}\n",
    "    \\alpha_p \\in \\mathcal{A}_p \\hspace{1cm} \\forall p \\in \\{WF, PV\\} \n",
    "\\end{equation}\n",
    "\n",
    "\\begin{equation}\n",
    "    \\beta_r \\in \\mathcal{B}_r \\hspace{1cm} \\forall r \\in \\{Power\\} \n",
    "\\end{equation}"
   ]
  },
  {
   "cell_type": "markdown",
   "metadata": {},
   "source": [
    "$\\textbf{Import modules}$"
   ]
  },
  {
   "cell_type": "code",
   "execution_count": 60,
   "metadata": {},
   "outputs": [],
   "source": [
    "from energia import *\n",
    "\n",
    "m = Model(init=[si_units])"
   ]
  },
  {
   "cell_type": "code",
   "execution_count": 61,
   "metadata": {},
   "outputs": [
    {
     "name": "stdout",
     "output_type": "stream",
     "text": [
      "--- General Resource Balance for solar in (l, t0): initializing constraint, adding consume(solar, l, t0)\n",
      "    Completed in 0.00012040138244628906 seconds\n",
      "--- Binding consume in domain (solar, l, t0)\n",
      "    Completed in 5.078315734863281e-05 seconds\n",
      "--- General Resource Balance for wind in (l, t0): initializing constraint, adding consume(wind, l, t0)\n",
      "    Completed in 6.961822509765625e-05 seconds\n",
      "--- Binding consume in domain (wind, l, t0)\n",
      "    Completed in 4.458427429199219e-05 seconds\n",
      "--- General Resource Balance for power in (l, t0): initializing constraint, adding release(power, l, t0)\n",
      "    Completed in 6.29425048828125e-05 seconds\n",
      "--- Binding release in domain (power, l, t0)\n",
      "    Completed in 5.984306335449219e-05 seconds\n"
     ]
    }
   ],
   "source": [
    "m.solar = Resource(basis=m.MW, label='Solar Power')\n",
    "m.solar.consume <= 100\n",
    "m.wind = Resource(basis=m.MW, label='Wind Power')\n",
    "m.wind.consume <= 100\n",
    "m.power = Resource(basis=m.MW, label='Power generated')\n",
    "m.power.release == (120, 150)"
   ]
  },
  {
   "cell_type": "markdown",
   "metadata": {},
   "source": [
    "$\\textbf{Declare processes}$"
   ]
  },
  {
   "cell_type": "code",
   "execution_count": 62,
   "metadata": {},
   "outputs": [
    {
     "name": "stdout",
     "output_type": "stream",
     "text": [
      "--- General Resource Balance for power.lii in (l, t0): initializing constraint, adding inventory(power.lii, l, t0)\n",
      "--- Binding inventory in domain (power.lii, l, t0)\n",
      "    Completed in 0.00010728836059570312 seconds\n",
      "--- Binding operate in domain (lii.charge, l, t0)\n",
      "    Completed in 5.555152893066406e-05 seconds\n",
      "--- Binding operate in domain (lii.discharge, l, t0)\n",
      "    Completed in 4.0531158447265625e-05 seconds\n"
     ]
    }
   ],
   "source": [
    "m.lii = Storage()\n",
    "\n",
    "m.lii(m.power) == 0.9\n",
    "m.power.lii.inventory == (10, 100)\n",
    "\n",
    "# m.lii.capacity >= 10\n",
    "# m.lii.capacity[m.money.spend] == 1302\n",
    "m.power.lii.inventory[m.money.spend] == 2000\n",
    "m.lii.charge.operate <= 25\n",
    "m.lii.discharge.operate <= 25"
   ]
  },
  {
   "cell_type": "code",
   "execution_count": 63,
   "metadata": {},
   "outputs": [
    {
     "name": "stdout",
     "output_type": "stream",
     "text": [
      "--- Binding operate in domain (wf, l, t0)\n",
      "    Completed in 0.00010132789611816406 seconds\n",
      "--- Binding operate in domain (pv, l, t0)\n",
      "    Completed in 0.0003123283386230469 seconds\n"
     ]
    }
   ],
   "source": [
    "m.wf = Process()\n",
    "m.wf(m.power) == -1 / 0.85 * m.wind\n",
    "m.wf.operate == (0, 100)\n",
    "m.wf.operate[m.money.spend] == 990\n",
    "\n",
    "m.pv = Process()\n",
    "m.pv(m.power) == -1 / 0.75 * m.solar\n",
    "m.pv.operate == (0, 100)\n",
    "m.pv.operate[m.money.spend] == 567"
   ]
  },
  {
   "cell_type": "code",
   "execution_count": 64,
   "metadata": {},
   "outputs": [
    {
     "name": "stdout",
     "output_type": "stream",
     "text": [
      "--- Assuming  pv capacity is unbounded in (l, t0)\n",
      "--- Assuming operation of pv is bound by capacity in (l, t0)\n",
      "--- Binding operate in domain (pv, l, t0)\n",
      "    Completed in 9.34600830078125e-05 seconds\n",
      "--- General Resource Balance for power in (l, t0): adding produce(power, l, t0, operate, pv)\n",
      "    Completed in 6.4849853515625e-05 seconds\n",
      "--- General Resource Balance for solar in (l, t0): adding expend(solar, l, t0, operate, pv)\n",
      "    Completed in 6.198883056640625e-05 seconds\n",
      "--- Assuming  wf capacity is unbounded in (l, t0)\n",
      "--- Assuming operation of wf is bound by capacity in (l, t0)\n",
      "--- Binding operate in domain (wf, l, t0)\n",
      "    Completed in 6.222724914550781e-05 seconds\n",
      "--- General Resource Balance for power in (l, t0): adding produce(power, l, t0, operate, wf)\n",
      "    Completed in 5.8650970458984375e-05 seconds\n",
      "--- General Resource Balance for wind in (l, t0): adding expend(wind, l, t0, operate, wf)\n",
      "    Completed in 6.580352783203125e-05 seconds\n",
      "--- Assuming  power.lii inventory capacity is unbounded in (l, t0)\n",
      "--- Assuming inventory of power.lii is bound by inventory capacity in (l, t0)\n",
      "--- Assuming inventory of power.lii is bound by inventory capacity in (l, t0)\n",
      "--- Binding inventory in domain (power.lii, l, t0)\n",
      "    Completed in 5.507469177246094e-05 seconds\n",
      "--- Assuming  lii.charge capacity is unbounded in (l, t0)\n",
      "--- General Resource Balance for power.lii in (l, t0): initializing constraint, adding produce(power.lii, l, t0, operate, lii.charge)\n",
      "    Completed in 6.890296936035156e-05 seconds\n",
      "--- General Resource Balance for power in (l, t0): adding expend(power, l, t0, operate, lii.charge)\n",
      "    Completed in 5.650520324707031e-05 seconds\n",
      "--- Assuming  lii.discharge capacity is unbounded in (l, t0)\n",
      "--- General Resource Balance for power in (l, t0): adding produce(power, l, t0, operate, lii.discharge)\n",
      "    Completed in 0.00023746490478515625 seconds\n",
      "--- General Resource Balance for power.lii in (l, t0): adding expend(power.lii, l, t0, operate, lii.discharge)\n",
      "    Completed in 5.817413330078125e-05 seconds\n"
     ]
    }
   ],
   "source": [
    "m.locate(m.pv, m.wf, m.lii)"
   ]
  },
  {
   "cell_type": "code",
   "execution_count": 65,
   "metadata": {},
   "outputs": [
    {
     "name": "stdout",
     "output_type": "stream",
     "text": [
      "--- Mapping spend: (money, l, t0, inventory, power.lii) → (money, l, t0)\n",
      "    Completed in 0.000s\n",
      "--- Mapping spend: (money, l, t0, operate, wf) → (money, l, t0)\n",
      "    Completed in 0.000s\n",
      "--- Mapping spend: (money, l, t0, operate, pv) → (money, l, t0)\n",
      "    Completed in 0.000s\n"
     ]
    }
   ],
   "source": [
    "m.money.spend.obj()"
   ]
  },
  {
   "cell_type": "code",
   "execution_count": 66,
   "metadata": {},
   "outputs": [
    {
     "name": "stdout",
     "output_type": "stream",
     "text": [
      "--- Creating PPOPT MPLP_Program for Program(m)\n",
      "--- Solving Program(m) using PPOPT combinatorial algorithm\n"
     ]
    }
   ],
   "source": [
    "m.solve()"
   ]
  },
  {
   "cell_type": "code",
   "execution_count": 68,
   "metadata": {},
   "outputs": [
    {
     "data": {
      "text/plain": [
       "{consume: {solar: {l: {t0: {}}}, wind: {l: {t0: {}}}},\n",
       " release: {power: {l: {t0: {}}}},\n",
       " inventory: {power.lii: {l: {t0: {}}}},\n",
       " spend: {money: {l: {t0: {inventory: {power.lii: {}},\n",
       "     operate: {wf: {}, pv: {}}}}}},\n",
       " operate: {lii.charge: {l: {t0: {}}},\n",
       "  lii.discharge: {l: {t0: {}}},\n",
       "  wf: {l: {t0: {}}},\n",
       "  pv: {l: {t0: {}}}},\n",
       " capacity: {pv: {l: {t0: {}}},\n",
       "  wf: {l: {t0: {}}},\n",
       "  lii.charge: {l: {t0: {}}},\n",
       "  lii.discharge: {l: {t0: {}}}},\n",
       " produce: {power: {l: {t0: {operate: {pv: {}, wf: {}, lii.discharge: {}}}}},\n",
       "  power.lii: {l: {t0: {operate: {lii.charge: {}}}}}},\n",
       " expend: {solar: {l: {t0: {operate: {pv: {}}}}},\n",
       "  wind: {l: {t0: {operate: {wf: {}}}}},\n",
       "  power: {l: {t0: {operate: {lii.charge: {}}}}},\n",
       "  power.lii: {l: {t0: {operate: {lii.discharge: {}}}}}},\n",
       " invcapacity: {power.lii: {l: {t0: {}}}}}"
      ]
     },
     "execution_count": 68,
     "metadata": {},
     "output_type": "execute_result"
    }
   ],
   "source": [
    "m.dispositions"
   ]
  },
  {
   "cell_type": "code",
   "execution_count": null,
   "metadata": {},
   "outputs": [],
   "source": [
    "coordinates = []\n",
    "from itertools import product\n",
    "\n",
    "for i, j, k in product(\n",
    "    numpy.linspace(0, 1, 50), numpy.linspace(0, 1, 50), numpy.linspace(0, 1, 50)\n",
    "):\n",
    "    l = solution.evaluate_objective(numpy.array([[i], [j], [k]]))\n",
    "    if l is not None:\n",
    "        coordinates.append((i, j, k, l[0][0]))"
   ]
  },
  {
   "attachments": {},
   "cell_type": "markdown",
   "metadata": {},
   "source": [
    "Unique solutions"
   ]
  },
  {
   "cell_type": "code",
   "execution_count": null,
   "metadata": {},
   "outputs": [],
   "source": [
    "set([coordinates[i][3] for i in range(len(coordinates))])"
   ]
  },
  {
   "cell_type": "code",
   "execution_count": null,
   "metadata": {},
   "outputs": [],
   "source": [
    "import matplotlib.pyplot as plt\n",
    "from mpl_toolkits.mplot3d import Axes3D\n",
    "from matplotlib import cm\n",
    "\n",
    "# Sample data: (x, y, z, color_value)\n",
    "data = coordinates\n",
    "fig = plt.figure()\n",
    "ax = fig.add_subplot(111, projection='3d')\n",
    "\n",
    "x_vals, y_vals, z_vals, color_vals = zip(*data)\n",
    "\n",
    "# Use color map to convert the color_value to a color\n",
    "norm = plt.Normalize(min(color_vals), max(color_vals))\n",
    "colors = cm.viridis(norm(color_vals))\n",
    "\n",
    "scatter = ax.scatter(x_vals, y_vals, z_vals, c=colors, cmap='viridis', s=50)\n",
    "\n",
    "# Add a color bar to show the mapping of color values\n",
    "cbar = fig.colorbar(scatter, ax=ax, pad=0.1)\n",
    "cbar.set_label('Fourth Dimension')\n",
    "\n",
    "# ax.set_ylim(ax.get_xlim()[::-1])\n",
    "# ax.set_ylim(ax.get_ylim()[::-1])\n",
    "# ax.set_ylim(ax.get_zlim()[::-1])\n",
    "\n",
    "ax.zorder = 0\n",
    "ax.set_xlim(0, 1)\n",
    "ax.set_ylim(0, 1)\n",
    "ax.set_zlim(0, 1)\n",
    "\n",
    "ax.set_xlabel('X Label')\n",
    "ax.set_ylabel('Y Label')\n",
    "ax.set_zlabel('Z Label')\n",
    "plt.show()"
   ]
  },
  {
   "cell_type": "code",
   "execution_count": null,
   "metadata": {},
   "outputs": [],
   "source": [
    "coordinates = [tuple(map(lambda x: 0 if x < 0.001 else x, i)) for i in coordinates]"
   ]
  }
 ],
 "metadata": {
  "kernelspec": {
   "display_name": ".venv",
   "language": "python",
   "name": "python3"
  },
  "language_info": {
   "codemirror_mode": {
    "name": "ipython",
    "version": 3
   },
   "file_extension": ".py",
   "mimetype": "text/x-python",
   "name": "python",
   "nbconvert_exporter": "python",
   "pygments_lexer": "ipython3",
   "version": "3.13.8"
  },
  "orig_nbformat": 4
 },
 "nbformat": 4,
 "nbformat_minor": 2
}
