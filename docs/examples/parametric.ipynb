{
 "cells": [
  {
   "cell_type": "markdown",
   "metadata": {},
   "source": [
    "# mpLP reformulation of an energy systems MILP"
   ]
  },
  {
   "cell_type": "markdown",
   "metadata": {},
   "source": [
    "\n",
    "\\begin{equation}\n",
    "    min \\sum_{t \\in \\mathcal{T}^{net}} \\sum_{p \\in \\mathcal{P}} Capex_{p,t} \\times Cap^P_{p,t} + \\sum_{t \\in \\mathcal{T}^{sch}} \\sum_{r \\in \\mathcal{R}^{cons}}  Price_{r,t}  \\times C_{r,t} + \\sum_{t \\in \\mathcal{T}^{sch}} \\sum_{p \\in \\mathcal{P}}  Vopex_{r,t} \\times P_{r,t} \n",
    "\\end{equation}\n",
    "\n",
    "\n",
    "\\begin{equation}\n",
    "    Cap^S_{r,t} \\leq Cap^{S-max}_{r,t} \\times X^S_{r,t} \\hspace{1cm} \\forall r \\in \\mathcal{R}^{storage}, t \\in \\mathcal{T}^{net}\n",
    "\\end{equation}\n",
    "\n",
    "\\begin{equation}\n",
    "    Cap^P_{p,t} \\leq Cap^{P-max}_{p,t} \\times X^P_p  \\hspace{1cm} \\forall p \\in \\mathcal{P}, t \\in \\mathcal{T}^{net}\n",
    "\\end{equation} \n",
    "\n",
    "\\begin{equation}\n",
    "    P_{p,t} \\leq Cap^{P}_{p,t}  \\hspace{1cm} \\forall p \\in \\mathcal{P}, t \\in \\mathcal{T}^{sch}\n",
    "\\end{equation} \n",
    "\n",
    "\\begin{equation}\n",
    "    Inv_{r,t} \\leq Cap^{S}_{r,t}  \\hspace{1cm} \\forall r \\in \\mathcal{R}^{storage}, t \\in \\mathcal{T}^{sch}\n",
    "\\end{equation} \n",
    "\n",
    "\n",
    "\\begin{equation}\n",
    "    - S_{r,t} \\leq - D_{r,t}  \\hspace{1cm} \\forall r \\in \\mathcal{R}, t \\in \\mathcal{T}^{sch}\n",
    "\\end{equation}\n",
    "\n",
    "\\begin{equation}\n",
    "    C_{r,t} \\leq C^{max}_{r,t} \\hspace{1cm} \\forall r \\in \\mathcal{R}, t \\in \\mathcal{T}^{sch}\n",
    "\\end{equation}\n",
    "\n",
    "\n",
    "\\begin{equation}\n",
    "    - S_{r,t} + \\sum_{p \\in \\mathcal{P}} P_{p,t} \\times \\eta(p,r) = 0 \\hspace{1cm} \\forall r \\in \\mathcal{R}^{sell}, t \\in \\mathcal{T}^{sch}\n",
    "\\end{equation}\n",
    "\n",
    "\\begin{equation}\n",
    "    -Inv_{r,t} + \\sum_{p \\in \\mathcal{P}} P_{p,t} \\times \\eta(p,r) = 0 \\hspace{1cm} \\forall r \\in \\mathcal{R}^{stored}, t \\in \\mathcal{T}^{sch}\n",
    "\\end{equation}\n",
    "\n",
    "\\begin{equation}\n",
    "    \\sum_{p \\in \\mathcal{P}} P_{p,t} \\times \\eta(p,r) + C_{r,t} = 0 \\hspace{1cm} \\forall r \\in \\mathcal{R}^{cons}, t \\in \\mathcal{T}^{sch}\n",
    "\\end{equation}\n",
    "\n",
    "\\begin{equation}\n",
    "    S_{r,t}, C_{r,t}, Inv_{r,t}, P_{p,t}, Cap^P_p, Cap^S_r \\in R_{\\geq 0}\n",
    "\\end{equation}\n",
    "\n",
    "\n"
   ]
  },
  {
   "cell_type": "markdown",
   "metadata": {},
   "source": [
    "## mpLP reformulation"
   ]
  },
  {
   "cell_type": "markdown",
   "metadata": {},
   "source": [
    "Reformulated as an mpLP"
   ]
  },
  {
   "cell_type": "markdown",
   "metadata": {},
   "source": [
    "\n",
    "\\begin{equation}\n",
    "    min \\hspace{1cm} \\sum_{p \\in \\mathcal{P}} Capex_p \\times \\epsilon_p \\times P_p + \\sum_{r \\in \\mathcal{R}^{cons}} C_r \\times \\gamma_r \n",
    "\\end{equation}\n",
    "\n",
    "\n",
    "\\begin{equation}\n",
    "    Inv_r \\leq Cap^{S-max}_r \\hspace{1cm} \\forall r \\in \\mathcal{R}^{stored}\n",
    "\\end{equation}\n",
    "\n",
    "\\begin{equation}\n",
    "    - S_r \\leq - D_r \\times \\beta_r \\hspace{1cm} \\forall r \\in \\mathcal{R}^{demand}\n",
    "\\end{equation}\n",
    "\n",
    "\\begin{equation}\n",
    "    C_r \\leq C^{max}_r \\times \\delta_r \\hspace{1cm} \\forall r \\in \\mathcal{R}^{cons} \n",
    "\\end{equation}\n",
    "\n",
    "\\begin{equation}\n",
    "    P_p \\leq Cap^{P-max}_p \\times \\alpha_p \\hspace{1cm} \\forall p \\in \\mathcal{P}\n",
    "\\end{equation} \n",
    "\n",
    "\\begin{equation}\n",
    "    - S_{r} + \\sum_{p \\in \\mathcal{P}} P_{p} \\times \\eta(p,r) = 0 \\hspace{1cm} \\forall r \\in \\mathcal{R}^{sell}\n",
    "\\end{equation}\n",
    "\n",
    "\\begin{equation}\n",
    "    - Inv_{r} + \\sum_{p \\in \\mathcal{P}} P_{p} \\times \\eta(p,r) = 0 \\hspace{1cm} \\forall r \\in \\mathcal{R}^{stored}\n",
    "\\end{equation}\n",
    "\n",
    "\\begin{equation}\n",
    "    \\sum_{p \\in \\mathcal{P}} P_{p} \\times \\eta(p,r) + C_{r} = 0 \\hspace{1cm} \\forall r \\in \\mathcal{R}^{cons}\n",
    "\\end{equation}\n",
    "\n",
    "\\begin{equation}\n",
    "    \\alpha_p \\in A_p \\hspace{1cm} \\forall p \\in \\mathcal{P}\n",
    "\\end{equation}\n",
    "\n",
    "\\begin{equation}\n",
    "    \\beta_r \\in B_r \\hspace{1cm} \\forall r \\in \\mathcal{R}^{demand}\n",
    "\\end{equation}\n",
    "\n",
    "\\begin{equation}\n",
    "    \\gamma_r \\in \\Gamma_r \\hspace{1cm} \\forall r \\in \\mathcal{R}^{cons}\n",
    "\\end{equation}\n",
    "\n",
    "\\begin{equation}\n",
    "    \\delta_r \\in \\Delta_r \\hspace{1cm} \\forall r \\in \\mathcal{R}^{cons}\n",
    "\\end{equation}\n",
    "\n",
    "\\begin{equation}\n",
    "    \\epsilon_p \\in E_p \\hspace{1cm} \\forall p \\in \\mathcal{P}\n",
    "\\end{equation}\n",
    "\n",
    "\n",
    "\\begin{equation}\n",
    "    S_r, C_r, Inv_r, P_p \\in R_{\\geq 0}\n",
    "\\end{equation}\n"
   ]
  },
  {
   "cell_type": "markdown",
   "metadata": {},
   "source": [
    "## Example Problem"
   ]
  },
  {
   "attachments": {},
   "cell_type": "markdown",
   "metadata": {},
   "source": [
    "\n",
    "\\begin{equation}\n",
    "    p \\in \\{LI_c, LI_d, WF, PV\\} \n",
    "\\end{equation}\n",
    "\n",
    "\n",
    "\\begin{equation}\n",
    "    r \\in \\{charge, power, wind, solar\\} \n",
    "\\end{equation}\n"
   ]
  },
  {
   "attachments": {},
   "cell_type": "markdown",
   "metadata": {},
   "source": [
    "\n",
    "\\begin{equation}\n",
    "    min \\hspace{1cm} \\left[\\begin{matrix}1302\\\\0\\\\990\\\\567\\end{matrix}\\right]^T \\left[\\begin{matrix}P_{LI_c}\\\\P_{LI_d}\\\\P_{WF}\\\\P_{PV}\\end{matrix}\\right]\n",
    "\\end{equation}\n"
   ]
  },
  {
   "attachments": {},
   "cell_type": "markdown",
   "metadata": {},
   "source": [
    "\n",
    "\\begin{equation}\n",
    "    I_3\\left[\\begin{matrix}Inv_{charge}\\\\C_{wind}\\\\C_{solar}\\\\P_{LI_c}\\\\P_{LI_d}\\end{matrix}\\right] \\leq \\left[\\begin{matrix} 100\\\\100\\\\100\\\\100\\\\100\\end{matrix}\\right]\n",
    "\\end{equation}\n"
   ]
  },
  {
   "attachments": {},
   "cell_type": "markdown",
   "metadata": {},
   "source": [
    "\n",
    "\\begin{equation}\n",
    "    I_3\\left[\\begin{matrix}-S_{power}\\\\P_{WF}\\\\P_{PV}\\end{matrix}\\right] \\leq \\left[\\begin{matrix}-300 & 0 & 0\\\\0 & 100 & 0\\\\0 & 0 & 100\\end{matrix}\\right] \\left[\\begin{matrix}\\beta_{power}\\\\ \\alpha_{WF}\\\\\\alpha_{PV}\\end{matrix}\\right]\n",
    "\\end{equation}\n"
   ]
  },
  {
   "attachments": {},
   "cell_type": "markdown",
   "metadata": {},
   "source": [
    "\n",
    "\\begin{equation}\n",
    "    I_4\\left[\\begin{matrix} - Inv_{charge} \\\\ -S_{power} \\\\ C_{wind} \\\\ C_{solar} \\end{matrix}\\right] + \\left[\\begin{matrix}0.89 & -1 & 0 & 0\\\\-1 & 1 & 0.85 & 0.75\\\\0 & 0 & -1 & 0\\\\0 & 0 & 0 & -1\\end{matrix}\\right] \\left[\\begin{matrix}P_{LI_c}\\\\P_{LI_d}\\\\P_{WF}\\\\P_{PV}\\end{matrix}\\right] = 0\n",
    "\\end{equation}\n"
   ]
  },
  {
   "cell_type": "markdown",
   "metadata": {},
   "source": [
    "\n",
    "\\begin{equation}\n",
    "    \\alpha_p \\in \\mathcal{A}_p \\hspace{1cm} \\forall p \\in \\{WF, PV\\} \n",
    "\\end{equation}\n",
    "\n",
    "\\begin{equation}\n",
    "    \\beta_r \\in \\mathcal{B}_r \\hspace{1cm} \\forall r \\in \\{Power\\} \n",
    "\\end{equation}"
   ]
  },
  {
   "cell_type": "markdown",
   "metadata": {},
   "source": [
    "$\\textbf{Import modules}$"
   ]
  },
  {
   "cell_type": "code",
   "execution_count": 1,
   "metadata": {},
   "outputs": [],
   "source": [
    "from energia import *\n",
    "\n",
    "m = Model(init=[si_units])"
   ]
  },
  {
   "cell_type": "code",
   "execution_count": 2,
   "metadata": {},
   "outputs": [
    {
     "name": "stdout",
     "output_type": "stream",
     "text": [
      "--- General Resource Balance for solar in (l, t0): initializing constraint, adding consume(solar, l, t0)\n",
      "    Completed in 0.0001671314239501953 seconds\n",
      "--- Binding consume in domain (solar, l, t0)\n",
      "    Completed in 6.437301635742188e-05 seconds\n",
      "--- General Resource Balance for wind in (l, t0): initializing constraint, adding consume(wind, l, t0)\n",
      "    Completed in 8.320808410644531e-05 seconds\n",
      "--- Binding consume in domain (wind, l, t0)\n",
      "    Completed in 4.7206878662109375e-05 seconds\n",
      "--- General Resource Balance for power in (l, t0): initializing constraint, adding release(power, l, t0)\n",
      "    Completed in 6.961822509765625e-05 seconds\n",
      "--- Binding release in domain (power, l, t0)\n",
      "    Completed in 7.82012939453125e-05 seconds\n"
     ]
    }
   ],
   "source": [
    "m.solar = Resource(basis=m.MW, label='Solar Power')\n",
    "m.solar.consume <= 100\n",
    "m.wind = Resource(basis=m.MW, label='Wind Power')\n",
    "m.wind.consume <= 100\n",
    "m.power = Resource(basis=m.MW, label='Power generated')\n",
    "m.power.release == (120, 150)"
   ]
  },
  {
   "cell_type": "code",
   "execution_count": 3,
   "metadata": {},
   "outputs": [
    {
     "name": "stdout",
     "output_type": "stream",
     "text": [
      "--- General Resource Balance for power.lii in (l, t0): initializing constraint, adding inventory(power.lii, l, t0)\n",
      "--- Binding inventory in domain (power.lii, l, t0)\n",
      "    Completed in 0.00014281272888183594 seconds\n",
      "--- Binding operate in domain (lii.charge, l, t0)\n",
      "    Completed in 6.031990051269531e-05 seconds\n",
      "--- Binding operate in domain (lii.discharge, l, t0)\n",
      "    Completed in 6.222724914550781e-05 seconds\n"
     ]
    }
   ],
   "source": [
    "m.lii = Storage()\n",
    "\n",
    "m.lii(m.power) == 0.9\n",
    "m.power.lii.inventory == (10, 100)\n",
    "\n",
    "# m.lii.capacity >= 10\n",
    "# m.lii.capacity[m.money.spend] == 1302\n",
    "m.power.lii.inventory[m.money.spend] == 2000\n",
    "m.lii.charge.operate <= 25\n",
    "m.lii.discharge.operate <= 25"
   ]
  },
  {
   "cell_type": "code",
   "execution_count": 4,
   "metadata": {},
   "outputs": [
    {
     "name": "stdout",
     "output_type": "stream",
     "text": [
      "--- Binding operate in domain (wf, l, t0)\n",
      "    Completed in 9.5367431640625e-05 seconds\n",
      "--- Binding operate in domain (pv, l, t0)\n",
      "    Completed in 5.221366882324219e-05 seconds\n"
     ]
    }
   ],
   "source": [
    "m.wf = Process()\n",
    "m.wf(m.power) == -1 / 0.85 * m.wind\n",
    "# m.wf.operate == (0, 100)\n",
    "m.wf.operate <= 100\n",
    "m.wf.operate[m.money.spend] == 990\n",
    "\n",
    "m.pv = Process()\n",
    "m.pv(m.power) == -1 / 0.75 * m.solar\n",
    "# m.pv.operate == (0, 100)\n",
    "m.pv.operate <= 100\n",
    "m.pv.operate[m.money.spend] == 567"
   ]
  },
  {
   "cell_type": "code",
   "execution_count": 5,
   "metadata": {},
   "outputs": [
    {
     "name": "stdout",
     "output_type": "stream",
     "text": [
      "--- Assuming  pv capacity is unbounded in (l, t0)\n",
      "--- General Resource Balance for power in (l, t0): adding produce(power, l, t0, operate, pv)\n",
      "    Completed in 0.00010776519775390625 seconds\n",
      "--- General Resource Balance for solar in (l, t0): adding expend(solar, l, t0, operate, pv)\n",
      "    Completed in 7.176399230957031e-05 seconds\n",
      "--- Assuming  wf capacity is unbounded in (l, t0)\n",
      "--- General Resource Balance for power in (l, t0): adding produce(power, l, t0, operate, wf)\n",
      "    Completed in 7.009506225585938e-05 seconds\n",
      "--- General Resource Balance for wind in (l, t0): adding expend(wind, l, t0, operate, wf)\n",
      "    Completed in 7.462501525878906e-05 seconds\n",
      "--- Assuming  power.lii inventory capacity is unbounded in (l, t0)\n",
      "--- Assuming inventory of power.lii is bound by inventory capacity in (l, t0)\n",
      "--- Assuming inventory of power.lii is bound by inventory capacity in (l, t0)\n",
      "--- Binding inventory in domain (power.lii, l, t0)\n",
      "    Completed in 6.866455078125e-05 seconds\n",
      "--- Assuming  lii.charge capacity is unbounded in (l, t0)\n",
      "--- General Resource Balance for power.lii in (l, t0): initializing constraint, adding produce(power.lii, l, t0, operate, lii.charge)\n",
      "    Completed in 8.487701416015625e-05 seconds\n",
      "--- General Resource Balance for power in (l, t0): adding expend(power, l, t0, operate, lii.charge)\n",
      "    Completed in 6.842613220214844e-05 seconds\n",
      "--- Assuming  lii.discharge capacity is unbounded in (l, t0)\n",
      "--- General Resource Balance for power in (l, t0): adding produce(power, l, t0, operate, lii.discharge)\n",
      "    Completed in 7.176399230957031e-05 seconds\n",
      "--- General Resource Balance for power.lii in (l, t0): adding expend(power.lii, l, t0, operate, lii.discharge)\n",
      "    Completed in 6.67572021484375e-05 seconds\n"
     ]
    }
   ],
   "source": [
    "m.locate(m.pv, m.wf, m.lii)"
   ]
  },
  {
   "cell_type": "code",
   "execution_count": 6,
   "metadata": {},
   "outputs": [
    {
     "name": "stdout",
     "output_type": "stream",
     "text": [
      "--- Mapping spend: (money, l, t0, inventory, power.lii) → (money, l, t0)\n",
      "    Completed in 0.000s\n",
      "--- Mapping spend: (money, l, t0, operate, wf) → (money, l, t0)\n",
      "    Completed in 0.000s\n",
      "--- Mapping spend: (money, l, t0, operate, pv) → (money, l, t0)\n",
      "    Completed in 0.000s\n",
      "--- Creating PPOPT MPLP_Program for Program(m)\n",
      "Set parameter Username\n",
      "Academic license - for non-commercial use only - expires 2026-08-01\n",
      "--- Solving Program(m) using PPOPT combinatorial algorithm\n",
      "--- Generating Program(m).mps\n",
      "--- Creating gurobi model for Program(m)\n",
      "Warning: row name O0 in column section at line 77 not defined.\n",
      "Warning: column name V11 in bound section not defined\n",
      "Warning: column name V14 in bound section not defined\n",
      "Warning: column name V18 in bound section not defined\n",
      "Warning: column name V21 in bound section not defined\n",
      "Read MPS format model from file Program(m).mps\n",
      "Reading time = 0.01 seconds\n",
      "PROGRAM(M): 25 rows, 21 columns, 47 nonzeros\n",
      "--- Optimizing Program(m) using gurobi\n",
      "Gurobi Optimizer version 12.0.3 build v12.0.3rc0 (win64 - Windows 11.0 (26100.2))\n",
      "\n",
      "CPU model: 13th Gen Intel(R) Core(TM) i7-13700, instruction set [SSE2|AVX|AVX2]\n",
      "Thread count: 16 physical cores, 24 logical processors, using up to 24 threads\n",
      "\n",
      "Optimize a model with 25 rows, 21 columns and 47 nonzeros\n",
      "Model fingerprint: 0xdc21da9a\n",
      "Coefficient statistics:\n",
      "  Matrix range     [1e+00, 2e+03]\n",
      "  Objective range  [1e+00, 1e+00]\n",
      "  Bounds range     [0e+00, 0e+00]\n",
      "  RHS range        [3e+01, 1e+02]\n",
      "Presolve removed 25 rows and 21 columns\n",
      "Presolve time: 0.00s\n",
      "Presolve: All rows and columns removed\n",
      "Iteration    Objective       Primal Inf.    Dual Inf.      Time\n",
      "       0    0.0000000e+00   0.000000e+00   0.000000e+00      0s\n",
      "\n",
      "Solved in 0 iterations and 0.00 seconds (0.00 work units)\n",
      "Optimal objective  0.000000000e+00\n",
      "--- Solution found. Use .sol() to display it\n",
      "--- Creating Solution object, check.solution\n"
     ]
    }
   ],
   "source": [
    "m.money.spend.obj()\n",
    "m.solve()\n",
    "\n",
    "m.money.spend.opt()"
   ]
  },
  {
   "cell_type": "code",
   "execution_count": 7,
   "metadata": {},
   "outputs": [
    {
     "data": {
      "text/plain": [
       "{consume[0]: 100.0,\n",
       " consume[1]: 52.9447,\n",
       " release[0]: 120.0,\n",
       " inventory[0]: 100.0,\n",
       " spend[0]: 200000.0,\n",
       " operate[0]: -0.0,\n",
       " operate[1]: -0.0,\n",
       " operate[2]: 45.0,\n",
       " spend[1]: 44550.0,\n",
       " operate[3]: 75.0,\n",
       " spend[2]: 42525.0,\n",
       " capacity[0]: -0.0,\n",
       " produce[0]: 75.0,\n",
       " expend[0]: 100.0,\n",
       " capacity[1]: -0.0,\n",
       " produce[1]: 45.0,\n",
       " expend[1]: 52.9447,\n",
       " invcapacity[0]: 100.0,\n",
       " capacity[2]: 0.0,\n",
       " produce[2]: 0.0,\n",
       " expend[2]: -0.0,\n",
       " capacity[3]: -0.0,\n",
       " produce[3]: -0.0,\n",
       " expend[3]: -0.0,\n",
       " spend[3]: 287075.0}"
      ]
     },
     "execution_count": 7,
     "metadata": {},
     "output_type": "execute_result"
    }
   ],
   "source": [
    "m.eval(120, 100)"
   ]
  },
  {
   "cell_type": "code",
   "execution_count": 8,
   "metadata": {},
   "outputs": [
    {
     "data": {
      "image/png": "[encoded data removed]",
      "text/plain": [
       "<Figure size 640x480 with 1 Axes>"
      ]
     },
     "metadata": {},
     "output_type": "display_data"
    }
   ],
   "source": [
    "m.draw()"
   ]
  },
  {
   "cell_type": "code",
   "execution_count": 9,
   "metadata": {},
   "outputs": [
    {
     "data": {
      "text/plain": [
       "consume[0]"
      ]
     },
     "execution_count": 9,
     "metadata": {},
     "output_type": "execute_result"
    }
   ],
   "source": [
    "p = m.program\n",
    "\n",
    "p.variables[0]"
   ]
  },
  {
   "cell_type": "code",
   "execution_count": 10,
   "metadata": {},
   "outputs": [],
   "source": [
    "# coordinates = []\n",
    "# from itertools import product\n",
    "\n",
    "# for i, j, k in product(\n",
    "#     numpy.linspace(0, 1, 50), numpy.linspace(0, 1, 50), numpy.linspace(0, 1, 50)\n",
    "# ):\n",
    "#     l = solution.evaluate_objective(numpy.array([[i], [j], [k]]))\n",
    "#     if l is not None:\n",
    "#         coordinates.append((i, j, k, l[0][0]))"
   ]
  },
  {
   "attachments": {},
   "cell_type": "markdown",
   "metadata": {},
   "source": [
    "Unique solutions"
   ]
  },
  {
   "cell_type": "code",
   "execution_count": 11,
   "metadata": {},
   "outputs": [],
   "source": [
    "# set([coordinates[i][3] for i in range(len(coordinates))])"
   ]
  },
  {
   "cell_type": "code",
   "execution_count": 12,
   "metadata": {},
   "outputs": [],
   "source": [
    "# import matplotlib.pyplot as plt\n",
    "# from mpl_toolkits.mplot3d import Axes3D\n",
    "# from matplotlib import cm\n",
    "\n",
    "# # Sample data: (x, y, z, color_value)\n",
    "# data = coordinates\n",
    "# fig = plt.figure()\n",
    "# ax = fig.add_subplot(111, projection='3d')\n",
    "\n",
    "# x_vals, y_vals, z_vals, color_vals = zip(*data)\n",
    "\n",
    "# # Use color map to convert the color_value to a color\n",
    "# norm = plt.Normalize(min(color_vals), max(color_vals))\n",
    "# colors = cm.viridis(norm(color_vals))\n",
    "\n",
    "# scatter = ax.scatter(x_vals, y_vals, z_vals, c=colors, cmap='viridis', s=50)\n",
    "\n",
    "# # Add a color bar to show the mapping of color values\n",
    "# cbar = fig.colorbar(scatter, ax=ax, pad=0.1)\n",
    "# cbar.set_label('Fourth Dimension')\n",
    "\n",
    "# # ax.set_ylim(ax.get_xlim()[::-1])\n",
    "# # ax.set_ylim(ax.get_ylim()[::-1])\n",
    "# # ax.set_ylim(ax.get_zlim()[::-1])\n",
    "\n",
    "# ax.zorder = 0\n",
    "# ax.set_xlim(0, 1)\n",
    "# ax.set_ylim(0, 1)\n",
    "# ax.set_zlim(0, 1)\n",
    "\n",
    "# ax.set_xlabel('X Label')\n",
    "# ax.set_ylabel('Y Label')\n",
    "# ax.set_zlabel('Z Label')\n",
    "# plt.show()"
   ]
  },
  {
   "cell_type": "code",
   "execution_count": 13,
   "metadata": {},
   "outputs": [],
   "source": [
    "# coordinates = [tuple(map(lambda x: 0 if x < 0.001 else x, i)) for i in coordinates]"
   ]
  },
  {
   "cell_type": "code",
   "execution_count": 14,
   "metadata": {},
   "outputs": [
    {
     "name": "stdout",
     "output_type": "stream",
     "text": [
      "--- General Resource Balance for solar in (l, t0): initializing constraint, adding consume(solar, l, t0)\n",
      "    Completed in 0.00013208389282226562 seconds\n",
      "--- Binding consume in domain (solar, l, t0)\n",
      "    Completed in 5.459785461425781e-05 seconds\n",
      "--- General Resource Balance for wind in (l, t0): initializing constraint, adding consume(wind, l, t0)\n",
      "    Completed in 7.772445678710938e-05 seconds\n",
      "--- Binding consume in domain (wind, l, t0)\n",
      "    Completed in 4.76837158203125e-05 seconds\n",
      "--- General Resource Balance for power in (l, t0): initializing constraint, adding release(power, l, t0)\n",
      "    Completed in 7.748603820800781e-05 seconds\n",
      "--- Binding release in domain (power, l, t0)\n",
      "    Completed in 6.604194641113281e-05 seconds\n",
      "--- General Resource Balance for h2o in (l, t0): initializing constraint, adding consume(h2o, l, t0)\n",
      "    Completed in 7.152557373046875e-05 seconds\n",
      "--- Binding consume in domain (h2o, l, t0)\n",
      "    Completed in 4.363059997558594e-05 seconds\n",
      "--- General Resource Balance for o2 in (l, t0): initializing constraint, adding release(o2, l, t0)\n",
      "    Completed in 8.559226989746094e-05 seconds\n",
      "--- General Resource Balance for h2 in (l, t0): initializing constraint, adding release(h2, l, t0)\n",
      "    Completed in 7.271766662597656e-05 seconds\n",
      "--- Binding release in domain (h2, l, t0)\n",
      "    Completed in 6.246566772460938e-05 seconds\n",
      "--- General Resource Balance for ur in (l, t0): initializing constraint, adding consume(ur, l, t0)\n",
      "    Completed in 6.914138793945312e-05 seconds\n",
      "--- Binding consume in domain (ur, l, t0)\n",
      "    Completed in 4.2438507080078125e-05 seconds\n",
      "--- Binding operate in domain (wf, l, t0)\n",
      "    Completed in 9.965896606445312e-05 seconds\n",
      "--- Binding operate in domain (pv, l, t0)\n",
      "    Completed in 6.29425048828125e-05 seconds\n",
      "--- General Resource Balance for power.lii in (l, t0): initializing constraint, adding inventory(power.lii, l, t0)\n",
      "--- Binding inventory in domain (power.lii, l, t0)\n",
      "    Completed in 6.246566772460938e-05 seconds\n",
      "--- Binding operate in domain (lii.charge, l, t0)\n",
      "    Completed in 4.57763671875e-05 seconds\n",
      "--- Binding operate in domain (lii.discharge, l, t0)\n",
      "    Completed in 4.935264587402344e-05 seconds\n",
      "--- Binding operate in domain (pem, l, t0)\n",
      "    Completed in 6.246566772460938e-05 seconds\n",
      "--- Binding operate in domain (asmr, l, t0)\n",
      "    Completed in 5.435943603515625e-05 seconds\n",
      "--- Assuming  pv capacity is unbounded in (l, t0)\n",
      "--- Assuming operation of pv is bound by capacity in (l, t0)\n",
      "--- Binding operate in domain (pv, l, t0)\n",
      "    Completed in 9.465217590332031e-05 seconds\n",
      "--- General Resource Balance for power in (l, t0): adding produce(power, l, t0, operate, pv)\n",
      "    Completed in 7.081031799316406e-05 seconds\n",
      "--- General Resource Balance for solar in (l, t0): adding expend(solar, l, t0, operate, pv)\n",
      "    Completed in 7.104873657226562e-05 seconds\n",
      "--- Assuming  wf capacity is unbounded in (l, t0)\n",
      "--- Assuming operation of wf is bound by capacity in (l, t0)\n",
      "--- Binding operate in domain (wf, l, t0)\n",
      "    Completed in 7.677078247070312e-05 seconds\n",
      "--- General Resource Balance for power in (l, t0): adding produce(power, l, t0, operate, wf)\n",
      "    Completed in 0.0001876354217529297 seconds\n",
      "--- General Resource Balance for wind in (l, t0): adding expend(wind, l, t0, operate, wf)\n",
      "    Completed in 8.988380432128906e-05 seconds\n",
      "--- Assuming  power.lii inventory capacity is unbounded in (l, t0)\n",
      "--- Assuming  lii.charge capacity is unbounded in (l, t0)\n",
      "--- General Resource Balance for power.lii in (l, t0): initializing constraint, adding produce(power.lii, l, t0, operate, lii.charge)\n",
      "    Completed in 0.00023293495178222656 seconds\n",
      "--- General Resource Balance for power in (l, t0): adding expend(power, l, t0, operate, lii.charge)\n",
      "    Completed in 8.249282836914062e-05 seconds\n",
      "--- Assuming  lii.discharge capacity is unbounded in (l, t0)\n",
      "--- General Resource Balance for power in (l, t0): adding produce(power, l, t0, operate, lii.discharge)\n",
      "    Completed in 8.296966552734375e-05 seconds\n",
      "--- General Resource Balance for power.lii in (l, t0): adding expend(power.lii, l, t0, operate, lii.discharge)\n",
      "    Completed in 7.128715515136719e-05 seconds\n",
      "--- Assuming  pem capacity is unbounded in (l, t0)\n",
      "--- General Resource Balance for power in (l, t0): adding expend(power, l, t0, operate, pem)\n",
      "    Completed in 8.225440979003906e-05 seconds\n",
      "--- General Resource Balance for h2 in (l, t0): adding produce(h2, l, t0, operate, pem)\n",
      "    Completed in 0.00018262863159179688 seconds\n",
      "--- General Resource Balance for h2o in (l, t0): adding expend(h2o, l, t0, operate, pem)\n",
      "    Completed in 0.00011897087097167969 seconds\n",
      "--- General Resource Balance for o2 in (l, t0): adding produce(o2, l, t0, operate, pem)\n",
      "    Completed in 0.000133514404296875 seconds\n",
      "--- Assuming  asmr capacity is unbounded in (l, t0)\n",
      "--- General Resource Balance for power in (l, t0): adding produce(power, l, t0, operate, asmr)\n",
      "    Completed in 0.00012636184692382812 seconds\n",
      "--- General Resource Balance for ur in (l, t0): adding expend(ur, l, t0, operate, asmr)\n",
      "    Completed in 0.00011014938354492188 seconds\n",
      "--- General Resource Balance for h2o in (l, t0): adding expend(h2o, l, t0, operate, asmr)\n",
      "    Completed in 7.343292236328125e-05 seconds\n",
      "--- Mapping spend: (money, l, t0, consume, ur) → (money, l, t0)\n",
      "    Completed in 0.000s\n",
      "--- Mapping spend: (money, l, t0, operate, wf) → (money, l, t0)\n",
      "    Completed in 0.000s\n",
      "--- Mapping spend: (money, l, t0, operate, pv) → (money, l, t0)\n",
      "    Completed in 0.000s\n",
      "--- Mapping spend: (money, l, t0, operate, lii.charge) → (money, l, t0)\n",
      "    Completed in 0.000s\n",
      "--- Mapping spend: (money, l, t0, operate, pem) → (money, l, t0)\n",
      "    Completed in 0.000s\n",
      "--- Mapping spend: (money, l, t0, operate, asmr) → (money, l, t0)\n",
      "    Completed in 0.000s\n"
     ]
    }
   ],
   "source": [
    "m = Model(init=[si_units])\n",
    "m.solar = Resource(basis=m.MW, label='Solar Power')\n",
    "m.solar.consume <= 100\n",
    "m.wind = Resource(basis=m.MW, label='Wind Power')\n",
    "m.wind.consume <= 100\n",
    "m.power = Resource(basis=m.MW, label='Power generated')\n",
    "m.power.release == (56, 60)\n",
    "m.h2o = Resource(basis=m.kg, label='Water')\n",
    "m.h2o.consume <= 500\n",
    "m.o2 = Resource(basis=m.kg, label='Oxygen')\n",
    "m.o2.release == True\n",
    "\n",
    "m.h2 = Resource(basis=m.kg, label='Hydrogen')\n",
    "m.h2.release == (0, 80)\n",
    "\n",
    "\n",
    "m.ur = Resource(basis=m.kg, label='Uranium')\n",
    "m.ur.consume <= 1000\n",
    "m.ur.consume[m.money.spend] == 42.70 / (250 / 2)\n",
    "\n",
    "m.wf = Process()\n",
    "m.wf(m.power) == -1 / 0.85 * m.wind\n",
    "# m.wf.operate == (0, 100)\n",
    "m.wf.operate == (0, 100)\n",
    "m.wf.operate[m.money.spend] == 990\n",
    "\n",
    "m.pv = Process()\n",
    "m.pv(m.power) == -1 / 0.75 * m.solar\n",
    "# m.pv.operate == (0, 100)\n",
    "m.pv.operate == (0, 100)\n",
    "m.pv.operate[m.money.spend] == 567\n",
    "\n",
    "\n",
    "m.lii = Storage()\n",
    "\n",
    "m.lii(m.power) == 0.89\n",
    "m.power.lii.inventory <= 200\n",
    "\n",
    "m.lii.charge.operate <= 25\n",
    "m.lii.discharge.operate <= 25\n",
    "\n",
    "m.lii.charge.operate[m.money.spend] == 1302\n",
    "\n",
    "\n",
    "m.pem = Process(\n",
    "    basis=m.kg,\n",
    "    label='PEM Electrolyzer',\n",
    ")\n",
    "m.pem(-m.power) == 0.3537 * m.h2 - 3.1839 * m.h2o + m.o2\n",
    "m.pem.operate <= 100\n",
    "m.pem.operate[m.money.spend] == 1550\n",
    "\n",
    "m.asmr = Process(\n",
    "    basis=m.MW,\n",
    "    label='Small Modular Reactor (SMR)',\n",
    ")\n",
    "m.asmr(m.power) == -4.17e-5 * m.ur - 3.364 * m.h2o + m.power\n",
    "m.asmr.operate <= 100\n",
    "m.asmr.operate[m.money.spend] == 7988951\n",
    "\n",
    "m.locate(m.pv, m.wf, m.lii, m.pem, m.asmr)\n",
    "\n",
    "m.money.spend.obj()"
   ]
  },
  {
   "cell_type": "code",
   "execution_count": 15,
   "metadata": {},
   "outputs": [
    {
     "name": "stdout",
     "output_type": "stream",
     "text": [
      "--- Creating PPOPT MPLP_Program for Program(m)\n",
      "--- Solving Program(m) using PPOPT combinatorial algorithm\n"
     ]
    }
   ],
   "source": [
    "m.solve()"
   ]
  },
  {
   "cell_type": "code",
   "execution_count": 16,
   "metadata": {},
   "outputs": [
    {
     "data": {
      "text/plain": [
       "36"
      ]
     },
     "execution_count": 16,
     "metadata": {},
     "output_type": "execute_result"
    }
   ],
   "source": [
    "len(m.solution[0].critical_regions)"
   ]
  },
  {
   "cell_type": "code",
   "execution_count": 17,
   "metadata": {},
   "outputs": [
    {
     "name": "stdout",
     "output_type": "stream",
     "text": [
      "--- General Resource Balance for solar in (l, t0): initializing constraint, adding consume(solar, l, t0)\n",
      "    Completed in 0.00010657310485839844 seconds\n",
      "--- Binding consume in domain (solar, l, t0)\n",
      "    Completed in 4.744529724121094e-05 seconds\n",
      "--- General Resource Balance for wind in (l, t0): initializing constraint, adding consume(wind, l, t0)\n",
      "    Completed in 6.723403930664062e-05 seconds\n",
      "--- Binding consume in domain (wind, l, t0)\n",
      "    Completed in 4.0531158447265625e-05 seconds\n",
      "--- General Resource Balance for power in (l, t0): initializing constraint, adding release(power, l, t0)\n",
      "    Completed in 0.00019025802612304688 seconds\n",
      "--- Binding release in domain (power, l, t0)\n",
      "    Completed in 4.267692565917969e-05 seconds\n",
      "--- General Resource Balance for h2o in (l, t0): initializing constraint, adding consume(h2o, l, t0)\n",
      "    Completed in 6.532669067382812e-05 seconds\n",
      "--- Binding consume in domain (h2o, l, t0)\n",
      "    Completed in 3.790855407714844e-05 seconds\n",
      "--- General Resource Balance for o2 in (l, t0): initializing constraint, adding release(o2, l, t0)\n",
      "    Completed in 6.031990051269531e-05 seconds\n",
      "--- General Resource Balance for h2 in (l, t0): initializing constraint, adding release(h2, l, t0)\n",
      "    Completed in 6.175041198730469e-05 seconds\n",
      "--- Binding release in domain (h2, l, t0)\n",
      "    Completed in 6.842613220214844e-05 seconds\n",
      "--- General Resource Balance for ur in (l, t0): initializing constraint, adding consume(ur, l, t0)\n",
      "    Completed in 6.985664367675781e-05 seconds\n",
      "--- Binding consume in domain (ur, l, t0)\n",
      "    Completed in 4.172325134277344e-05 seconds\n",
      "--- Binding operate in domain (wf, l, t0)\n",
      "    Completed in 5.6743621826171875e-05 seconds\n",
      "--- Binding operate in domain (pv, l, t0)\n",
      "    Completed in 4.8160552978515625e-05 seconds\n",
      "--- General Resource Balance for power.lii in (l, t0): initializing constraint, adding inventory(power.lii, l, t0)\n",
      "--- Binding inventory in domain (power.lii, l, t0)\n",
      "    Completed in 5.4836273193359375e-05 seconds\n",
      "--- Binding operate in domain (lii.charge, l, t0)\n",
      "    Completed in 0.00119781494140625 seconds\n",
      "--- Binding operate in domain (lii.discharge, l, t0)\n",
      "    Completed in 5.459785461425781e-05 seconds\n",
      "--- Binding operate in domain (pem, l, t0)\n",
      "    Completed in 4.839897155761719e-05 seconds\n",
      "--- Binding operate in domain (asmr, l, t0)\n",
      "    Completed in 4.506111145019531e-05 seconds\n",
      "--- Assuming  pv capacity is unbounded in (l, t0)\n",
      "--- General Resource Balance for power in (l, t0): adding produce(power, l, t0, operate, pv)\n",
      "    Completed in 6.198883056640625e-05 seconds\n",
      "--- General Resource Balance for solar in (l, t0): adding expend(solar, l, t0, operate, pv)\n",
      "    Completed in 5.936622619628906e-05 seconds\n",
      "--- Assuming  wf capacity is unbounded in (l, t0)\n",
      "--- General Resource Balance for power in (l, t0): adding produce(power, l, t0, operate, wf)\n",
      "    Completed in 6.079673767089844e-05 seconds\n",
      "--- General Resource Balance for wind in (l, t0): adding expend(wind, l, t0, operate, wf)\n",
      "    Completed in 5.793571472167969e-05 seconds\n",
      "--- Assuming  power.lii inventory capacity is unbounded in (l, t0)\n",
      "--- Assuming  lii.charge capacity is unbounded in (l, t0)\n",
      "--- General Resource Balance for power.lii in (l, t0): initializing constraint, adding produce(power.lii, l, t0, operate, lii.charge)\n",
      "    Completed in 7.557868957519531e-05 seconds\n",
      "--- General Resource Balance for power in (l, t0): adding expend(power, l, t0, operate, lii.charge)\n",
      "    Completed in 6.794929504394531e-05 seconds\n",
      "--- Assuming  lii.discharge capacity is unbounded in (l, t0)\n",
      "--- General Resource Balance for power in (l, t0): adding produce(power, l, t0, operate, lii.discharge)\n",
      "    Completed in 6.365776062011719e-05 seconds\n",
      "--- General Resource Balance for power.lii in (l, t0): adding expend(power.lii, l, t0, operate, lii.discharge)\n",
      "    Completed in 7.557868957519531e-05 seconds\n",
      "--- Assuming  pem capacity is unbounded in (l, t0)\n",
      "--- General Resource Balance for power in (l, t0): adding expend(power, l, t0, operate, pem)\n",
      "    Completed in 6.67572021484375e-05 seconds\n",
      "--- General Resource Balance for h2 in (l, t0): adding produce(h2, l, t0, operate, pem)\n",
      "    Completed in 7.319450378417969e-05 seconds\n",
      "--- General Resource Balance for h2o in (l, t0): adding expend(h2o, l, t0, operate, pem)\n",
      "    Completed in 6.0558319091796875e-05 seconds\n",
      "--- General Resource Balance for o2 in (l, t0): adding produce(o2, l, t0, operate, pem)\n",
      "    Completed in 6.270408630371094e-05 seconds\n",
      "--- Assuming  asmr capacity is unbounded in (l, t0)\n",
      "--- General Resource Balance for power in (l, t0): adding produce(power, l, t0, operate, asmr)\n",
      "    Completed in 7.343292236328125e-05 seconds\n",
      "--- General Resource Balance for ur in (l, t0): adding expend(ur, l, t0, operate, asmr)\n",
      "    Completed in 6.747245788574219e-05 seconds\n",
      "--- General Resource Balance for h2o in (l, t0): adding expend(h2o, l, t0, operate, asmr)\n",
      "    Completed in 6.747245788574219e-05 seconds\n",
      "--- Mapping spend: (money, l, t0, consume, ur) → (money, l, t0)\n",
      "    Completed in 0.000s\n",
      "--- Mapping spend: (money, l, t0, operate, wf) → (money, l, t0)\n",
      "    Completed in 0.000s\n",
      "--- Mapping spend: (money, l, t0, operate, pv) → (money, l, t0)\n",
      "    Completed in 0.000s\n",
      "--- Mapping spend: (money, l, t0, operate, lii.charge) → (money, l, t0)\n",
      "    Completed in 0.000s\n",
      "--- Mapping spend: (money, l, t0, operate, pem) → (money, l, t0)\n",
      "    Completed in 0.000s\n",
      "--- Mapping spend: (money, l, t0, operate, asmr) → (money, l, t0)\n",
      "    Completed in 0.000s\n",
      "--- Generating Program(m).mps\n",
      "--- Creating gurobi model for Program(m)\n",
      "Warning: column name V20 in bound section not defined\n",
      "Warning: column name V23 in bound section not defined\n",
      "Warning: column name V26 in bound section not defined\n",
      "Warning: column name V27 in bound section not defined\n",
      "Warning: column name V30 in bound section not defined\n",
      "Warning: column name V33 in bound section not defined\n",
      "Warning: column name V38 in bound section not defined\n",
      "Read MPS format model from file Program(m).mps\n",
      "Reading time = 0.00 seconds\n",
      "PROGRAM(M): 43 rows, 36 columns, 84 nonzeros\n",
      "--- Optimizing Program(m) using gurobi\n",
      "Gurobi Optimizer version 12.0.3 build v12.0.3rc0 (win64 - Windows 11.0 (26100.2))\n",
      "\n",
      "CPU model: 13th Gen Intel(R) Core(TM) i7-13700, instruction set [SSE2|AVX|AVX2]\n",
      "Thread count: 16 physical cores, 24 logical processors, using up to 24 threads\n",
      "\n",
      "Optimize a model with 43 rows, 36 columns and 84 nonzeros\n",
      "Model fingerprint: 0x0a4a405a\n",
      "Coefficient statistics:\n",
      "  Matrix range     [4e-05, 8e+06]\n",
      "  Objective range  [1e+00, 1e+00]\n",
      "  Bounds range     [0e+00, 0e+00]\n",
      "  RHS range        [2e+00, 1e+03]\n",
      "Presolve removed 41 rows and 30 columns\n",
      "Presolve time: 0.00s\n",
      "Presolved: 2 rows, 6 columns, 8 nonzeros\n",
      "\n",
      "Iteration    Objective       Primal Inf.    Dual Inf.      Time\n",
      "       0    8.7644897e+03   7.068137e-01   0.000000e+00      0s\n",
      "       1    1.1970597e+04   0.000000e+00   0.000000e+00      0s\n",
      "\n",
      "Solved in 1 iterations and 0.01 seconds (0.00 work units)\n",
      "Optimal objective  1.197059655e+04\n",
      "--- Solution found. Use .sol() to display it\n",
      "--- Creating Solution object, check.solution\n"
     ]
    }
   ],
   "source": [
    "m = Model(init=[si_units])\n",
    "m.solar = Resource(basis=m.MW, label='Solar Power')\n",
    "m.solar.consume <= 100\n",
    "m.wind = Resource(basis=m.MW, label='Wind Power')\n",
    "m.wind.consume <= 100\n",
    "m.power = Resource(basis=m.MW, label='Power generated')\n",
    "m.power.release <= 60\n",
    "m.h2o = Resource(basis=m.kg, label='Water')\n",
    "m.h2o.consume <= 500\n",
    "m.o2 = Resource(basis=m.kg, label='Oxygen')\n",
    "m.o2.release == True\n",
    "\n",
    "m.h2 = Resource(basis=m.kg, label='Hydrogen')\n",
    "m.h2.release >= 2\n",
    "\n",
    "\n",
    "m.ur = Resource(basis=m.kg, label='Uranium')\n",
    "m.ur.consume <= 1000\n",
    "m.ur.consume[m.money.spend] == 42.70 / (250 / 2)\n",
    "\n",
    "m.wf = Process()\n",
    "m.wf(m.power) == -1 / 0.85 * m.wind\n",
    "m.wf.operate <= 100\n",
    "m.wf.operate[m.money.spend] == 990\n",
    "\n",
    "m.pv = Process()\n",
    "m.pv(m.power) == -1 / 0.75 * m.solar\n",
    "m.pv.operate <= 100\n",
    "m.pv.operate[m.money.spend] == 567\n",
    "\n",
    "\n",
    "m.lii = Storage()\n",
    "\n",
    "m.lii(m.power) == 0.89\n",
    "m.power.lii.inventory <= 200\n",
    "\n",
    "m.lii.charge.operate <= 25\n",
    "m.lii.discharge.operate <= 25\n",
    "\n",
    "m.lii.charge.operate[m.money.spend] == 1302\n",
    "\n",
    "\n",
    "m.pem = Process(\n",
    "    basis=m.kg,\n",
    "    label='PEM Electrolyzer',\n",
    ")\n",
    "m.pem(-m.power) == 0.3537 * m.h2 - 3.1839 * m.h2o + m.o2\n",
    "m.pem.operate <= 100\n",
    "m.pem.operate[m.money.spend] == 1550\n",
    "\n",
    "m.asmr = Process(\n",
    "    basis=m.MW,\n",
    "    label='Small Modular Reactor (SMR)',\n",
    ")\n",
    "m.asmr(m.power) == -4.17e-5 * m.ur - 3.364 * m.h2o + m.power\n",
    "m.asmr.operate <= 100\n",
    "m.asmr.operate[m.money.spend] == 7988951\n",
    "\n",
    "m.locate(m.pv, m.wf, m.lii, m.pem, m.asmr)\n",
    "\n",
    "# m.money.spend.obj()\n",
    "\n",
    "m.money.spend.opt()"
   ]
  },
  {
   "cell_type": "code",
   "execution_count": null,
   "metadata": {},
   "outputs": [],
   "source": [
    "m.draw(m.operate)"
   ]
  }
 ],
 "metadata": {
  "kernelspec": {
   "display_name": ".venv",
   "language": "python",
   "name": "python3"
  },
  "language_info": {
   "codemirror_mode": {
    "name": "ipython",
    "version": 3
   },
   "file_extension": ".py",
   "mimetype": "text/x-python",
   "name": "python",
   "nbconvert_exporter": "python",
   "pygments_lexer": "ipython3",
   "version": "3.13.8"
  },
  "orig_nbformat": 4
 },
 "nbformat": 4,
 "nbformat_minor": 2
}
