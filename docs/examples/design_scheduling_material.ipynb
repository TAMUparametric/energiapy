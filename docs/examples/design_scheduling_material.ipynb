{
 "cells": [
  {
   "cell_type": "markdown",
   "id": "c9f4fbeb",
   "metadata": {},
   "source": [
    "# Multiscale MILP with Materials and Emission\n",
    "\n",
    "This is a continuation of 'One Location, Multiple Temporal Scales, Multiple Operations, Mixed Integer Linear Programming Example' [Example 2]. \n",
    "\n",
    "We will be adding the following considerations: \n",
    "\n",
    "1. material for the establishment of operations \n",
    "2. global warming potential induced as a sum of our decisions and choices "
   ]
  },
  {
   "cell_type": "markdown",
   "id": "5be13056",
   "metadata": {},
   "source": [
    "## See Example 2"
   ]
  },
  {
   "cell_type": "code",
   "execution_count": 1,
   "id": "8214bb48",
   "metadata": {},
   "outputs": [],
   "source": [
    "from energia import *\n",
    "\n",
    "m = Model('example3')\n",
    "m.q = Periods()\n",
    "m.y = 4 * m.q\n"
   ]
  },
  {
   "cell_type": "code",
   "execution_count": 2,
   "id": "1ceac5e6",
   "metadata": {},
   "outputs": [
    {
     "name": "stderr",
     "output_type": "stream",
     "text": [
      "2025-10-19 22:23:40,791 [INFO] General Resource Balance for solar in (l, q): initializing constraint, adding consume(solar, l, q)\n",
      "2025-10-19 22:23:40,795 [INFO] ✔ Completed in 0.0004451274871826172 seconds\n",
      "2025-10-19 22:23:40,797 [INFO] Binding consume in domain (solar, l, q)\n",
      "2025-10-19 22:23:40,799 [INFO] ✔ Completed in 0.000392913818359375 seconds\n",
      "2025-10-19 22:23:40,802 [INFO] General Resource Balance for wind in (l, y): initializing constraint, adding consume(wind, l, y)\n",
      "2025-10-19 22:23:40,804 [INFO] ✔ Completed in 0.0002257823944091797 seconds\n",
      "2025-10-19 22:23:40,805 [INFO] Binding consume in domain (wind, l, y)\n",
      "2025-10-19 22:23:40,807 [INFO] ✔ Completed in 0.00021195411682128906 seconds\n",
      "2025-10-19 22:23:40,809 [INFO] General Resource Balance for power in (l, q): initializing constraint, adding release(power, l, q)\n",
      "2025-10-19 22:23:40,811 [INFO] ✔ Completed in 0.00038123130798339844 seconds\n",
      "2025-10-19 22:23:40,813 [INFO] Binding release in domain (power, l, q)\n",
      "2025-10-19 22:23:40,815 [INFO] ✔ Completed in 0.0005218982696533203 seconds\n",
      "2025-10-19 22:23:40,817 [INFO] Binding capacity in domain (wf, l, y)\n",
      "2025-10-19 22:23:40,820 [INFO] ✔ Completed in 0.0003190040588378906 seconds\n",
      "2025-10-19 22:23:40,825 [INFO] Binding capacity in domain (wf, l, y)\n",
      "2025-10-19 22:23:40,828 [INFO] ✔ Completed in 0.0007331371307373047 seconds\n",
      "2025-10-19 22:23:40,830 [INFO] Binding operate in domain (wf, l, q)\n",
      "2025-10-19 22:23:40,832 [INFO] ✔ Completed in 0.0008449554443359375 seconds\n",
      "2025-10-19 22:23:40,836 [INFO] Mapping operate: (wf, l, q) → (wf, l, y)\n",
      "2025-10-19 22:23:40,838 [INFO] ✔ Completed in 0.000s\n",
      "2025-10-19 22:23:40,840 [INFO] Binding capacity in domain (pv, l, y)\n",
      "2025-10-19 22:23:40,842 [INFO] ✔ Completed in 0.00045013427734375 seconds\n",
      "2025-10-19 22:23:40,929 [INFO] Binding capacity in domain (pv, l, y)\n",
      "2025-10-19 22:23:40,932 [INFO] ✔ Completed in 0.0013911724090576172 seconds\n",
      "2025-10-19 22:23:40,935 [INFO] Binding operate in domain (pv, l, q)\n",
      "2025-10-19 22:23:40,937 [INFO] ✔ Completed in 0.0007770061492919922 seconds\n",
      "2025-10-19 22:23:40,941 [INFO] Mapping operate: (pv, l, q) → (pv, l, y)\n",
      "2025-10-19 22:23:40,943 [INFO] ✔ Completed in 0.000s\n",
      "2025-10-19 22:23:40,947 [INFO] Binding invcapacity in domain (power.lii, l, y)\n",
      "2025-10-19 22:23:40,953 [INFO] ✔ Completed in 0.0021958351135253906 seconds\n",
      "2025-10-19 22:23:40,954 [INFO] Binding invcapacity in domain (power.lii, l, y)\n",
      "2025-10-19 22:23:40,956 [INFO] ✔ Completed in 0.0004291534423828125 seconds\n",
      "2025-10-19 22:23:40,959 [INFO] General Resource Balance for power.lii in (l, y): initializing constraint, adding inventory(power.lii, l, y)\n",
      "2025-10-19 22:23:40,963 [INFO] Binding capacity in domain (lii.charge, l, y)\n",
      "2025-10-19 22:23:40,966 [INFO] ✔ Completed in 0.00020313262939453125 seconds\n",
      "2025-10-19 22:23:40,968 [INFO] Binding operate in domain (lii.charge, l, y)\n",
      "2025-10-19 22:23:40,979 [INFO] ✔ Completed in 0.00030493736267089844 seconds\n",
      "2025-10-19 22:23:40,988 [INFO] Binding capacity in domain (lii.discharge, l, y)\n",
      "2025-10-19 22:23:40,996 [INFO] ✔ Completed in 0.000225067138671875 seconds\n",
      "2025-10-19 22:23:41,001 [INFO] Binding operate in domain (lii.discharge, l, y)\n",
      "2025-10-19 22:23:41,005 [INFO] ✔ Completed in 0.0003771781921386719 seconds\n"
     ]
    }
   ],
   "source": [
    "m.usd = Currency()\n",
    "m.declare(Resource, ['power', 'wind', 'solar'])\n",
    "m.solar.consume(m.q) <= 100\n",
    "m.wind.consume <= 400\n",
    "m.power.release.prep(180) >= [0.6, 0.7, 0.8, 0.3]\n",
    "\n",
    "m.wf = Process()\n",
    "m.wf(m.power) == -1 * m.wind\n",
    "m.wf.capacity.x <= 100\n",
    "m.wf.capacity.x >= 10\n",
    "m.wf.operate.prep(norm=True) <= [0.9, 0.8, 0.5, 0.7]\n",
    "m.wf.capacity[m.usd.spend] == 990637 + 3354\n",
    "m.wf.operate[m.usd.spend] == 49\n",
    "\n",
    "m.pv = Process()\n",
    "m.pv(m.power) == -1 * m.solar\n",
    "m.pv.capacity.x <= 100\n",
    "m.pv.capacity.x >= 10\n",
    "m.pv.operate.prep(norm=True) <= [0.6, 0.8, 0.9, 0.7]\n",
    "m.pv.capacity[m.usd.spend] == 567000 + 872046\n",
    "m.pv.operate[m.usd.spend] == 90000\n",
    "\n",
    "m.lii = Storage()\n",
    "m.lii(m.power) == 0.9\n",
    "m.lii.capacity.x <= 100\n",
    "m.lii.capacity.x >= 10\n",
    "m.lii.capacity[m.usd.spend] == 1302182 + 41432\n",
    "m.lii.inventory[m.usd.spend] == 2000\n",
    "m.lii.charge.capacity <= 100\n",
    "m.lii.charge.operate <= 1\n",
    "m.lii.discharge.capacity <= 100\n",
    "m.lii.discharge.operate <= 1"
   ]
  },
  {
   "cell_type": "markdown",
   "id": "088d79b8",
   "metadata": {},
   "source": [
    "## Indicator Stream \n",
    "\n",
    "Indicators scale the impact of some decision or flow and project it only a common dimension allowing the calculation of overall impact as a single metric value\n",
    "\n",
    "In this case, we consider global warming potential (GWP)."
   ]
  },
  {
   "cell_type": "code",
   "execution_count": 3,
   "id": "809e08ab",
   "metadata": {},
   "outputs": [],
   "source": [
    "m.gwp = Environ()"
   ]
  },
  {
   "cell_type": "markdown",
   "id": "07adfca6",
   "metadata": {},
   "source": [
    "Now say that we want to consider the impact of setting up operations (specific to the act of construction)\n",
    "\n",
    "These can be provided as calculations "
   ]
  },
  {
   "cell_type": "code",
   "execution_count": 4,
   "id": "2db70e09",
   "metadata": {},
   "outputs": [
    {
     "data": {
      "text/latex": [
       "$\\displaystyle [26]\\text{   }{{emit}}_{gwp, l, y, {capacity}, wf} - 1000 \\cdot {{{{cap}}}}_{wf, l, y} = 0$"
      ],
      "text/plain": [
       "<IPython.core.display.Math object>"
      ]
     },
     "metadata": {},
     "output_type": "display_data"
    },
    {
     "data": {
      "text/latex": [
       "$\\displaystyle [27]\\text{   }{{{emit}}}_{gwp, l, y, {capacity}, pv} - 2000 \\cdot {{{{cap}}}}_{pv, l, y} = 0$"
      ],
      "text/plain": [
       "<IPython.core.display.Math object>"
      ]
     },
     "metadata": {},
     "output_type": "display_data"
    },
    {
     "data": {
      "text/latex": [
       "$\\displaystyle [28]\\text{   }{{{emit}}}_{gwp, l, y, {invcapacity}, power.lii} - 3000 \\cdot {{{icap}}}_{power.lii, l, y} = 0$"
      ],
      "text/plain": [
       "<IPython.core.display.Math object>"
      ]
     },
     "metadata": {},
     "output_type": "display_data"
    }
   ],
   "source": [
    "m.wf.capacity[m.gwp.emit] == 1000\n",
    "m.pv.capacity[m.gwp.emit] == 2000\n",
    "m.lii.capacity[m.gwp.emit] == 3000\n",
    "m.emit.show()"
   ]
  },
  {
   "cell_type": "markdown",
   "id": "8eb9ce25",
   "metadata": {},
   "source": [
    "Note that impact streams are mapped across scales but not balanced, unless a negative (relatively) impact is also assessed! In the case of emission, this would be abatement."
   ]
  },
  {
   "cell_type": "markdown",
   "id": "bd05088d",
   "metadata": {},
   "source": [
    "## Material Stream\n",
    "\n",
    "Note that all the objects found in energia.components.commodity.misc are still resources (Land, Material, etc.)\n",
    "\n",
    "This will allow for the modeling of an expansive type of processes.\n",
    "\n",
    "Examples:\n",
    "\n",
    "1. land clearance to transform agricultural land into industrial, or land remediation \n",
    "2. resource intense material recycling \n",
    "3. some resource flowing being treated as emission flows \n",
    "\n",
    "The possibilities are vast... The advanced modeler may prefer to use Resource() for everything [see Resource Task Network (RTN) Framework]\n",
    "\n",
    "In the following example, we consider a limit to cement consumption, as also an expense and gwp impact associated with it"
   ]
  },
  {
   "cell_type": "code",
   "execution_count": 5,
   "id": "9ce76f6f",
   "metadata": {},
   "outputs": [
    {
     "name": "stderr",
     "output_type": "stream",
     "text": [
      "2025-10-19 22:23:41,101 [INFO] General Resource Balance for cement in (l, y): initializing constraint, adding consume(cement, l, y)\n",
      "2025-10-19 22:23:41,104 [INFO] ✔ Completed in 0.0003921985626220703 seconds\n",
      "2025-10-19 22:23:41,105 [INFO] Binding consume in domain (cement, l, y)\n",
      "2025-10-19 22:23:41,107 [INFO] ✔ Completed in 0.00021195411682128906 seconds\n"
     ]
    }
   ],
   "source": [
    "m.cement = Material()\n",
    "m.cement.consume <= 1000000\n",
    "m.cement.consume[m.usd.spend] == 17\n",
    "m.cement.consume[m.gwp.emit] == 0.9"
   ]
  },
  {
   "cell_type": "markdown",
   "id": "f21caa2c",
   "metadata": {},
   "source": [
    "Next, we provide details of the use of cement across all operations "
   ]
  },
  {
   "cell_type": "code",
   "execution_count": 6,
   "id": "35dc4891",
   "metadata": {},
   "outputs": [
    {
     "name": "stderr",
     "output_type": "stream",
     "text": [
      "2025-10-19 22:23:41,128 [INFO] General Resource Balance for cement in (l, y): adding use(cement, l, y, capacity, wf)\n",
      "2025-10-19 22:23:41,133 [INFO] ✔ Completed in 0.0004208087921142578 seconds\n",
      "2025-10-19 22:23:41,137 [INFO] General Resource Balance for cement in (l, y): adding use(cement, l, y, capacity, pv)\n",
      "2025-10-19 22:23:41,140 [INFO] ✔ Completed in 0.00023317337036132812 seconds\n",
      "2025-10-19 22:23:41,144 [INFO] General Resource Balance for cement in (l, y): adding use(cement, l, y, invcapacity, power.lii)\n",
      "2025-10-19 22:23:41,147 [INFO] ✔ Completed in 0.0004458427429199219 seconds\n"
     ]
    }
   ],
   "source": [
    "m.wf.capacity[m.cement.use] == 400\n",
    "m.pv.capacity[m.cement.use] == 560\n",
    "m.lii.capacity[m.cement.use] == 300"
   ]
  },
  {
   "cell_type": "markdown",
   "id": "efc3693a",
   "metadata": {},
   "source": [
    "Material use is summed up across all operations, and adheres to an upper bound in terms of consumption. "
   ]
  },
  {
   "cell_type": "code",
   "execution_count": 7,
   "id": "6efcaa6f",
   "metadata": {},
   "outputs": [
    {
     "data": {
      "text/latex": [
       "$\\displaystyle [29]\\text{   }{{{{cons}}}}_{cement, l, y} - {{use}}_{cement, l, y, {capacity}, wf} - {{{use}}}_{cement, l, y, {capacity}, pv} - {{{use}}}_{cement, l, y, {invcapacity}, power.lii} = 0$"
      ],
      "text/plain": [
       "<IPython.core.display.Math object>"
      ]
     },
     "metadata": {},
     "output_type": "display_data"
    },
    {
     "data": {
      "text/latex": [
       "$\\displaystyle [30]\\text{   }{{{{cons}}}}_{cement, l, y} - 1000000 \\leq 0$"
      ],
      "text/plain": [
       "<IPython.core.display.Math object>"
      ]
     },
     "metadata": {},
     "output_type": "display_data"
    },
    {
     "data": {
      "text/latex": [
       "$\\displaystyle [31]\\text{   }{{{spend}}}_{usd, l, y, {consume}, cement} - 17 \\cdot {{{{cons}}}}_{cement, l, y} = 0$"
      ],
      "text/plain": [
       "<IPython.core.display.Math object>"
      ]
     },
     "metadata": {},
     "output_type": "display_data"
    },
    {
     "data": {
      "text/latex": [
       "$\\displaystyle [32]\\text{   }{{{emit}}}_{gwp, l, y, {consume}, cement} - 0.9 \\cdot {{{{cons}}}}_{cement, l, y} = 0$"
      ],
      "text/plain": [
       "<IPython.core.display.Math object>"
      ]
     },
     "metadata": {},
     "output_type": "display_data"
    },
    {
     "data": {
      "text/latex": [
       "$\\displaystyle [33]\\text{   }{{use}}_{cement, l, y, {capacity}, wf} - 400 \\cdot {{{{cap}}}}_{wf, l, y} = 0$"
      ],
      "text/plain": [
       "<IPython.core.display.Math object>"
      ]
     },
     "metadata": {},
     "output_type": "display_data"
    },
    {
     "data": {
      "text/latex": [
       "$\\displaystyle [34]\\text{   }{{{use}}}_{cement, l, y, {capacity}, pv} - 560 \\cdot {{{{cap}}}}_{pv, l, y} = 0$"
      ],
      "text/plain": [
       "<IPython.core.display.Math object>"
      ]
     },
     "metadata": {},
     "output_type": "display_data"
    },
    {
     "data": {
      "text/latex": [
       "$\\displaystyle [35]\\text{   }{{{use}}}_{cement, l, y, {invcapacity}, power.lii} - 300 \\cdot {{{icap}}}_{power.lii, l, y} = 0$"
      ],
      "text/plain": [
       "<IPython.core.display.Math object>"
      ]
     },
     "metadata": {},
     "output_type": "display_data"
    }
   ],
   "source": [
    "m.cement.show()"
   ]
  },
  {
   "cell_type": "markdown",
   "id": "f73d5788",
   "metadata": {},
   "source": [
    "GWP impact is now the sum of impact from material use as well as constuction "
   ]
  },
  {
   "cell_type": "code",
   "execution_count": 8,
   "id": "d7cb14c1",
   "metadata": {},
   "outputs": [
    {
     "data": {
      "text/latex": [
       "$\\displaystyle [26]\\text{   }{{emit}}_{gwp, l, y, {capacity}, wf} - 1000 \\cdot {{{{cap}}}}_{wf, l, y} = 0$"
      ],
      "text/plain": [
       "<IPython.core.display.Math object>"
      ]
     },
     "metadata": {},
     "output_type": "display_data"
    },
    {
     "data": {
      "text/latex": [
       "$\\displaystyle [27]\\text{   }{{{emit}}}_{gwp, l, y, {capacity}, pv} - 2000 \\cdot {{{{cap}}}}_{pv, l, y} = 0$"
      ],
      "text/plain": [
       "<IPython.core.display.Math object>"
      ]
     },
     "metadata": {},
     "output_type": "display_data"
    },
    {
     "data": {
      "text/latex": [
       "$\\displaystyle [28]\\text{   }{{{emit}}}_{gwp, l, y, {invcapacity}, power.lii} - 3000 \\cdot {{{icap}}}_{power.lii, l, y} = 0$"
      ],
      "text/plain": [
       "<IPython.core.display.Math object>"
      ]
     },
     "metadata": {},
     "output_type": "display_data"
    },
    {
     "data": {
      "text/latex": [
       "$\\displaystyle [32]\\text{   }{{{emit}}}_{gwp, l, y, {consume}, cement} - 0.9 \\cdot {{{{cons}}}}_{cement, l, y} = 0$"
      ],
      "text/plain": [
       "<IPython.core.display.Math object>"
      ]
     },
     "metadata": {},
     "output_type": "display_data"
    }
   ],
   "source": [
    "m.emit.show()"
   ]
  },
  {
   "cell_type": "markdown",
   "id": "fee37f29",
   "metadata": {},
   "source": [
    "## Locate Operations"
   ]
  },
  {
   "cell_type": "code",
   "execution_count": 9,
   "id": "cb7e5496",
   "metadata": {},
   "outputs": [
    {
     "name": "stderr",
     "output_type": "stream",
     "text": [
      "2025-10-19 22:23:41,291 [INFO] General Resource Balance for power in (l, q): adding produce(power, l, q, operate, wf)\n",
      "2025-10-19 22:23:41,294 [INFO] ✔ Completed in 0.0004391670227050781 seconds\n",
      "2025-10-19 22:23:41,298 [INFO] General Resource Balance for wind in (l, y): adding expend(wind, l, y, operate, wf)\n",
      "2025-10-19 22:23:41,300 [INFO] ✔ Completed in 0.0005481243133544922 seconds\n",
      "2025-10-19 22:23:41,309 [INFO] General Resource Balance for power in (l, q): adding produce(power, l, q, operate, pv)\n",
      "2025-10-19 22:23:41,311 [INFO] ✔ Completed in 0.0005319118499755859 seconds\n",
      "2025-10-19 22:23:41,316 [INFO] General Resource Balance for solar in (l, q): adding expend(solar, l, q, operate, pv)\n",
      "2025-10-19 22:23:41,318 [INFO] ✔ Completed in 0.00043892860412597656 seconds\n",
      "2025-10-19 22:23:41,320 [INFO] Assuming  power.lii inventory capacity is unbounded in (l, y)\n",
      "2025-10-19 22:23:41,321 [INFO] Assuming inventory of power.lii is bound by inventory capacity in (l, y)\n",
      "2025-10-19 22:23:41,323 [INFO] Assuming inventory of power.lii is bound by inventory capacity in (l, q)\n",
      "2025-10-19 22:23:41,325 [INFO] Mapping inventory: (power.lii, l, q) → (power.lii, l, y)\n",
      "2025-10-19 22:23:41,327 [INFO] ✔ Completed in 0.000s\n",
      "2025-10-19 22:23:41,330 [INFO] General Resource Balance for power.lii in (l, q): initializing constraint, adding inventory(power.lii, l, q)\n",
      "2025-10-19 22:23:41,333 [INFO] ✔ Completed in 0.000843048095703125 seconds\n",
      "2025-10-19 22:23:41,334 [INFO] Binding inventory in domain (power.lii, l, q)\n",
      "2025-10-19 22:23:41,336 [INFO] ✔ Completed in 0.0003840923309326172 seconds\n",
      "2025-10-19 22:23:41,338 [INFO] General Resource Balance for power.lii in (l, q): adding produce(power.lii, l, q, operate, lii.charge)\n",
      "2025-10-19 22:23:41,340 [INFO] ✔ Completed in 0.00045299530029296875 seconds\n",
      "2025-10-19 22:23:41,343 [INFO] Mapping operate: (lii.charge, l, q) → (lii.charge, l, y)\n",
      "2025-10-19 22:23:41,371 [INFO] ✔ Completed in 0.000s\n",
      "2025-10-19 22:23:41,376 [INFO] General Resource Balance for power in (l, q): adding expend(power, l, q, operate, lii.charge)\n",
      "2025-10-19 22:23:41,384 [INFO] ✔ Completed in 0.0007569789886474609 seconds\n",
      "2025-10-19 22:23:41,390 [INFO] General Resource Balance for power in (l, q): adding produce(power, l, q, operate, lii.discharge)\n",
      "2025-10-19 22:23:41,396 [INFO] ✔ Completed in 0.0004971027374267578 seconds\n",
      "2025-10-19 22:23:41,399 [INFO] Mapping operate: (lii.discharge, l, q) → (lii.discharge, l, y)\n",
      "2025-10-19 22:23:41,403 [INFO] ✔ Completed in 0.001s\n",
      "2025-10-19 22:23:41,407 [INFO] General Resource Balance for power.lii in (l, q): adding expend(power.lii, l, q, operate, lii.discharge)\n",
      "2025-10-19 22:23:41,409 [INFO] ✔ Completed in 0.00033926963806152344 seconds\n"
     ]
    }
   ],
   "source": [
    "m.network.locate(m.wf, m.pv, m.lii)"
   ]
  },
  {
   "cell_type": "markdown",
   "id": "df4accdc",
   "metadata": {},
   "source": [
    "## Optimization \n",
    "\n",
    "Let us minimize GWP this time. Note that m.usd.spend.opt() can still be used!"
   ]
  },
  {
   "cell_type": "code",
   "execution_count": 10,
   "id": "b762aea8",
   "metadata": {},
   "outputs": [
    {
     "name": "stderr",
     "output_type": "stream",
     "text": [
      "2025-10-19 22:23:41,444 [INFO] Mapping emit: (gwp, l, y, capacity, wf) → (gwp, l, y)\n",
      "2025-10-19 22:23:41,450 [INFO] ✔ Completed in 0.000s\n",
      "2025-10-19 22:23:41,453 [INFO] Mapping emit: (gwp, l, y, capacity, pv) → (gwp, l, y)\n",
      "2025-10-19 22:23:41,457 [INFO] ✔ Completed in 0.000s\n",
      "2025-10-19 22:23:41,460 [INFO] Mapping emit: (gwp, l, y, invcapacity, power.lii) → (gwp, l, y)\n",
      "2025-10-19 22:23:41,465 [INFO] ✔ Completed in 0.000s\n",
      "2025-10-19 22:23:41,474 [INFO] Mapping emit: (gwp, l, y, consume, cement) → (gwp, l, y)\n",
      "2025-10-19 22:23:41,478 [INFO] ✔ Completed in 0.000s\n",
      "2025-10-19 22:23:41,481 [INFO] Generating Program(example3).mps\n",
      "2025-10-19 22:23:41,517 [INFO] Creating gurobi model for Program(example3)\n"
     ]
    },
    {
     "name": "stdout",
     "output_type": "stream",
     "text": [
      "Set parameter Username\n",
      "Academic license - for non-commercial use only - expires 2025-12-16\n",
      "Read MPS format model from file Program(example3).mps\n",
      "Reading time = 0.00 seconds\n",
      "PROGRAM(EXAMPLE3): 95 rows, 87 columns, 217 nonzeros\n"
     ]
    },
    {
     "name": "stderr",
     "output_type": "stream",
     "text": [
      "2025-10-19 22:23:41,554 [INFO] Optimizing Program(example3) using gurobi\n"
     ]
    },
    {
     "name": "stdout",
     "output_type": "stream",
     "text": [
      "Gurobi Optimizer version 12.0.3 build v12.0.3rc0 (mac64[x86] - Darwin 21.6.0 21H1320)\n",
      "\n",
      "CPU model: Intel(R) Core(TM) i7-6567U CPU @ 3.30GHz\n",
      "Thread count: 2 physical cores, 4 logical processors, using up to 4 threads\n",
      "\n",
      "Optimize a model with 95 rows, 87 columns and 217 nonzeros\n",
      "Model fingerprint: 0x39a95d48\n",
      "Variable types: 84 continuous, 3 integer (3 binary)\n",
      "Coefficient statistics:\n",
      "  Matrix range     [6e-01, 1e+06]\n",
      "  Objective range  [1e+00, 1e+00]\n",
      "  Bounds range     [1e+00, 1e+00]\n",
      "  RHS range        [7e+01, 1e+06]\n",
      "Presolve removed 83 rows and 76 columns\n",
      "Presolve time: 0.00s\n",
      "Presolved: 12 rows, 11 columns, 38 nonzeros\n",
      "Variable types: 11 continuous, 0 integer (0 binary)\n",
      "\n",
      "Root relaxation: objective 4.752148e+05, 4 iterations, 0.00 seconds (0.00 work units)\n",
      "\n",
      "    Nodes    |    Current Node    |     Objective Bounds      |     Work\n",
      " Expl Unexpl |  Obj  Depth IntInf | Incumbent    BestBd   Gap | It/Node Time\n",
      "\n",
      "*    0     0               0    475214.81481 475214.815  0.00%     -    0s\n",
      "\n",
      "Explored 1 nodes (4 simplex iterations) in 0.05 seconds (0.00 work units)\n",
      "Thread count was 4 (of 4 available processors)\n",
      "\n",
      "Solution count 1: 475215 \n",
      "\n",
      "Optimal solution found (tolerance 1.00e-04)\n",
      "Best objective 4.752148148148e+05, best bound 4.752148148148e+05, gap 0.0000%\n"
     ]
    },
    {
     "name": "stderr",
     "output_type": "stream",
     "text": [
      "2025-10-19 22:23:41,657 [INFO] Solution found. Use .sol() to display it\n",
      "2025-10-19 22:23:41,663 [INFO] Creating Solution object, check.solution\n"
     ]
    }
   ],
   "source": [
    "m.gwp.emit.opt()"
   ]
  },
  {
   "cell_type": "code",
   "execution_count": 11,
   "id": "0ab032ad",
   "metadata": {},
   "outputs": [
    {
     "data": {
      "text/plain": [
       "87"
      ]
     },
     "execution_count": 11,
     "metadata": {},
     "output_type": "execute_result"
    }
   ],
   "source": [
    "len(m.variables)"
   ]
  },
  {
   "cell_type": "code",
   "execution_count": 12,
   "id": "dfae8999",
   "metadata": {},
   "outputs": [
    {
     "data": {
      "text/markdown": [
       "# Mathematical Program for Program(example3)"
      ],
      "text/plain": [
       "<IPython.core.display.Markdown object>"
      ]
     },
     "metadata": {},
     "output_type": "display_data"
    },
    {
     "data": {
      "text/markdown": [
       "<br><br>"
      ],
      "text/plain": [
       "<IPython.core.display.Markdown object>"
      ]
     },
     "metadata": {},
     "output_type": "display_data"
    },
    {
     "data": {
      "text/markdown": [
       "## Index Sets"
      ],
      "text/plain": [
       "<IPython.core.display.Markdown object>"
      ]
     },
     "metadata": {},
     "output_type": "display_data"
    },
    {
     "data": {
      "text/latex": [
       "$\\displaystyle currencies = \\{ usd \\}$"
      ],
      "text/plain": [
       "<IPython.core.display.Math object>"
      ]
     },
     "metadata": {},
     "output_type": "display_data"
    },
    {
     "data": {
      "text/latex": [
       "$\\displaystyle resources = \\{ power, wind, solar, power.lii \\}$"
      ],
      "text/plain": [
       "<IPython.core.display.Math object>"
      ]
     },
     "metadata": {},
     "output_type": "display_data"
    },
    {
     "data": {
      "text/latex": [
       "$\\displaystyle locations = \\{ l \\}$"
      ],
      "text/plain": [
       "<IPython.core.display.Math object>"
      ]
     },
     "metadata": {},
     "output_type": "display_data"
    },
    {
     "data": {
      "text/latex": [
       "$\\displaystyle q = \\{ {q_{0}}, {q_{1}}, {q_{2}}, {q_{3}} \\}$"
      ],
      "text/plain": [
       "<IPython.core.display.Math object>"
      ]
     },
     "metadata": {},
     "output_type": "display_data"
    },
    {
     "data": {
      "text/latex": [
       "$\\displaystyle y = \\{ {y_{0}} \\}$"
      ],
      "text/plain": [
       "<IPython.core.display.Math object>"
      ]
     },
     "metadata": {},
     "output_type": "display_data"
    },
    {
     "data": {
      "text/latex": [
       "$\\displaystyle processes = \\{ wf, pv, lii.charge, lii.discharge \\}$"
      ],
      "text/plain": [
       "<IPython.core.display.Math object>"
      ]
     },
     "metadata": {},
     "output_type": "display_data"
    },
    {
     "data": {
      "text/latex": [
       "$\\displaystyle storages = \\{ lii \\}$"
      ],
      "text/plain": [
       "<IPython.core.display.Math object>"
      ]
     },
     "metadata": {},
     "output_type": "display_data"
    },
    {
     "data": {
      "text/latex": [
       "$\\displaystyle materials = \\{ cement \\}$"
      ],
      "text/plain": [
       "<IPython.core.display.Math object>"
      ]
     },
     "metadata": {},
     "output_type": "display_data"
    },
    {
     "data": {
      "text/markdown": [
       "<br><br>"
      ],
      "text/plain": [
       "<IPython.core.display.Markdown object>"
      ]
     },
     "metadata": {},
     "output_type": "display_data"
    },
    {
     "data": {
      "text/markdown": [
       "## Objective"
      ],
      "text/plain": [
       "<IPython.core.display.Markdown object>"
      ]
     },
     "metadata": {},
     "output_type": "display_data"
    },
    {
     "data": {
      "text/latex": [
       "$\\displaystyle min \\hspace{0.2cm} {{emit}}_{gwp, l, y{0}}$"
      ],
      "text/plain": [
       "<IPython.core.display.Math object>"
      ]
     },
     "metadata": {},
     "output_type": "display_data"
    },
    {
     "data": {
      "text/markdown": [
       "<br><br>"
      ],
      "text/plain": [
       "<IPython.core.display.Markdown object>"
      ]
     },
     "metadata": {},
     "output_type": "display_data"
    },
    {
     "data": {
      "text/markdown": [
       "## s.t."
      ],
      "text/plain": [
       "<IPython.core.display.Markdown object>"
      ]
     },
     "metadata": {},
     "output_type": "display_data"
    },
    {
     "data": {
      "text/markdown": [
       "### Bound Constraint Sets"
      ],
      "text/plain": [
       "<IPython.core.display.Markdown object>"
      ]
     },
     "metadata": {},
     "output_type": "display_data"
    },
    {
     "data": {
      "text/latex": [
       "$\\displaystyle [1]\\text{   }{{{cons}}}_{solar, l, q} - 100 \\leq 0$"
      ],
      "text/plain": [
       "<IPython.core.display.Math object>"
      ]
     },
     "metadata": {},
     "output_type": "display_data"
    },
    {
     "data": {
      "text/latex": [
       "$\\displaystyle [3]\\text{   }{{{{cons}}}}_{wind, l, y} - 400 \\leq 0$"
      ],
      "text/plain": [
       "<IPython.core.display.Math object>"
      ]
     },
     "metadata": {},
     "output_type": "display_data"
    },
    {
     "data": {
      "text/latex": [
       "$\\displaystyle [5]\\text{   }-{{{rlse}}}_{power, l, q} + {φ}_{} \\leq 0$"
      ],
      "text/plain": [
       "<IPython.core.display.Math object>"
      ]
     },
     "metadata": {},
     "output_type": "display_data"
    },
    {
     "data": {
      "text/latex": [
       "$\\displaystyle [6]\\text{   }{{{cap}}}_{wf, l, y} - 100 \\cdot {{{\\breve{{cap}}}}}_{wf, l, y} \\leq 0$"
      ],
      "text/plain": [
       "<IPython.core.display.Math object>"
      ]
     },
     "metadata": {},
     "output_type": "display_data"
    },
    {
     "data": {
      "text/latex": [
       "$\\displaystyle [7]\\text{   }10 \\cdot {{{\\breve{{cap}}}}}_{wf, l, y} - {{{cap}}}_{wf, l, y} \\leq 0$"
      ],
      "text/plain": [
       "<IPython.core.display.Math object>"
      ]
     },
     "metadata": {},
     "output_type": "display_data"
    },
    {
     "data": {
      "text/latex": [
       "$\\displaystyle [8]\\text{   }{{{opr}}}_{wf, l, q} - {φ}_{} \\cdot {{{cap}}}_{wf, l, y} \\leq 0$"
      ],
      "text/plain": [
       "<IPython.core.display.Math object>"
      ]
     },
     "metadata": {},
     "output_type": "display_data"
    },
    {
     "data": {
      "text/latex": [
       "$\\displaystyle [12]\\text{   }{{{{cap}}}}_{pv, l, y} - 100 \\cdot {{{{\\breve{{cap}}}}}}_{pv, l, y} \\leq 0$"
      ],
      "text/plain": [
       "<IPython.core.display.Math object>"
      ]
     },
     "metadata": {},
     "output_type": "display_data"
    },
    {
     "data": {
      "text/latex": [
       "$\\displaystyle [13]\\text{   }10 \\cdot {{{{\\breve{{cap}}}}}}_{pv, l, y} - {{{{cap}}}}_{pv, l, y} \\leq 0$"
      ],
      "text/plain": [
       "<IPython.core.display.Math object>"
      ]
     },
     "metadata": {},
     "output_type": "display_data"
    },
    {
     "data": {
      "text/latex": [
       "$\\displaystyle [14]\\text{   }{{{{opr}}}}_{pv, l, q} - {φ}_{} \\cdot {{{{cap}}}}_{pv, l, y} \\leq 0$"
      ],
      "text/plain": [
       "<IPython.core.display.Math object>"
      ]
     },
     "metadata": {},
     "output_type": "display_data"
    },
    {
     "data": {
      "text/latex": [
       "$\\displaystyle [18]\\text{   }{{{icap}}}_{power.lii, l, y} - 100 \\cdot {{{\\breve{{icap}}}}}_{power.lii, l, y} \\leq 0$"
      ],
      "text/plain": [
       "<IPython.core.display.Math object>"
      ]
     },
     "metadata": {},
     "output_type": "display_data"
    },
    {
     "data": {
      "text/latex": [
       "$\\displaystyle [19]\\text{   }10 \\cdot {{{\\breve{{icap}}}}}_{power.lii, l, y} - {{{icap}}}_{power.lii, l, y} \\leq 0$"
      ],
      "text/plain": [
       "<IPython.core.display.Math object>"
      ]
     },
     "metadata": {},
     "output_type": "display_data"
    },
    {
     "data": {
      "text/latex": [
       "$\\displaystyle [22]\\text{   }{{{{cap}}}}_{lii.charge, l, y} - 100 \\leq 0$"
      ],
      "text/plain": [
       "<IPython.core.display.Math object>"
      ]
     },
     "metadata": {},
     "output_type": "display_data"
    },
    {
     "data": {
      "text/latex": [
       "$\\displaystyle [23]\\text{   }{{{{opr}}}}_{lii.charge, l, y} - {{{{cap}}}}_{lii.charge, l, y} \\leq 0$"
      ],
      "text/plain": [
       "<IPython.core.display.Math object>"
      ]
     },
     "metadata": {},
     "output_type": "display_data"
    },
    {
     "data": {
      "text/latex": [
       "$\\displaystyle [24]\\text{   }{{{{cap}}}}_{lii.discharge, l, y} - 100 \\leq 0$"
      ],
      "text/plain": [
       "<IPython.core.display.Math object>"
      ]
     },
     "metadata": {},
     "output_type": "display_data"
    },
    {
     "data": {
      "text/latex": [
       "$\\displaystyle [25]\\text{   }{{{{opr}}}}_{lii.discharge, l, y} - {{{{cap}}}}_{lii.discharge, l, y} \\leq 0$"
      ],
      "text/plain": [
       "<IPython.core.display.Math object>"
      ]
     },
     "metadata": {},
     "output_type": "display_data"
    },
    {
     "data": {
      "text/latex": [
       "$\\displaystyle [30]\\text{   }{{{{cons}}}}_{cement, l, y} - 1000000 \\leq 0$"
      ],
      "text/plain": [
       "<IPython.core.display.Math object>"
      ]
     },
     "metadata": {},
     "output_type": "display_data"
    },
    {
     "data": {
      "text/latex": [
       "$\\displaystyle [42]\\text{   }{{{{inv}}}}_{power.lii, l, q} - {{{icap}}}_{power.lii, l, y} \\leq 0$"
      ],
      "text/plain": [
       "<IPython.core.display.Math object>"
      ]
     },
     "metadata": {},
     "output_type": "display_data"
    },
    {
     "data": {
      "text/markdown": [
       "### Calculation Constraint Sets"
      ],
      "text/plain": [
       "<IPython.core.display.Markdown object>"
      ]
     },
     "metadata": {},
     "output_type": "display_data"
    },
    {
     "data": {
      "text/latex": [
       "$\\displaystyle [9]\\text{   }{{spend}}_{usd, l, y, {capacity}, wf} - 993991 \\cdot {{{cap}}}_{wf, l, y} = 0$"
      ],
      "text/plain": [
       "<IPython.core.display.Math object>"
      ]
     },
     "metadata": {},
     "output_type": "display_data"
    },
    {
     "data": {
      "text/latex": [
       "$\\displaystyle [11]\\text{   }{{{spend}}}_{usd, l, y, {operate}, wf} - 49 \\cdot {{{{opr}}}}_{wf, l, y} = 0$"
      ],
      "text/plain": [
       "<IPython.core.display.Math object>"
      ]
     },
     "metadata": {},
     "output_type": "display_data"
    },
    {
     "data": {
      "text/latex": [
       "$\\displaystyle [15]\\text{   }{{{spend}}}_{usd, l, y, {capacity}, pv} - 1439046 \\cdot {{{{cap}}}}_{pv, l, y} = 0$"
      ],
      "text/plain": [
       "<IPython.core.display.Math object>"
      ]
     },
     "metadata": {},
     "output_type": "display_data"
    },
    {
     "data": {
      "text/latex": [
       "$\\displaystyle [17]\\text{   }{{{spend}}}_{usd, l, y, {operate}, pv} - 90000 \\cdot {{{{opr}}}}_{pv, l, y} = 0$"
      ],
      "text/plain": [
       "<IPython.core.display.Math object>"
      ]
     },
     "metadata": {},
     "output_type": "display_data"
    },
    {
     "data": {
      "text/latex": [
       "$\\displaystyle [20]\\text{   }{{{spend}}}_{usd, l, y, {invcapacity}, power.lii} - 1343614 \\cdot {{{icap}}}_{power.lii, l, y} = 0$"
      ],
      "text/plain": [
       "<IPython.core.display.Math object>"
      ]
     },
     "metadata": {},
     "output_type": "display_data"
    },
    {
     "data": {
      "text/latex": [
       "$\\displaystyle [21]\\text{   }{{{spend}}}_{usd, l, y, {inventory}, power.lii} - 2000 \\cdot {{{inv}}}_{power.lii, l, y} = 0$"
      ],
      "text/plain": [
       "<IPython.core.display.Math object>"
      ]
     },
     "metadata": {},
     "output_type": "display_data"
    },
    {
     "data": {
      "text/latex": [
       "$\\displaystyle [26]\\text{   }{{emit}}_{gwp, l, y, {capacity}, wf} - 1000 \\cdot {{{{cap}}}}_{wf, l, y} = 0$"
      ],
      "text/plain": [
       "<IPython.core.display.Math object>"
      ]
     },
     "metadata": {},
     "output_type": "display_data"
    },
    {
     "data": {
      "text/latex": [
       "$\\displaystyle [27]\\text{   }{{{emit}}}_{gwp, l, y, {capacity}, pv} - 2000 \\cdot {{{{cap}}}}_{pv, l, y} = 0$"
      ],
      "text/plain": [
       "<IPython.core.display.Math object>"
      ]
     },
     "metadata": {},
     "output_type": "display_data"
    },
    {
     "data": {
      "text/latex": [
       "$\\displaystyle [28]\\text{   }{{{emit}}}_{gwp, l, y, {invcapacity}, power.lii} - 3000 \\cdot {{{icap}}}_{power.lii, l, y} = 0$"
      ],
      "text/plain": [
       "<IPython.core.display.Math object>"
      ]
     },
     "metadata": {},
     "output_type": "display_data"
    },
    {
     "data": {
      "text/latex": [
       "$\\displaystyle [31]\\text{   }{{{spend}}}_{usd, l, y, {consume}, cement} - 17 \\cdot {{{{cons}}}}_{cement, l, y} = 0$"
      ],
      "text/plain": [
       "<IPython.core.display.Math object>"
      ]
     },
     "metadata": {},
     "output_type": "display_data"
    },
    {
     "data": {
      "text/latex": [
       "$\\displaystyle [32]\\text{   }{{{emit}}}_{gwp, l, y, {consume}, cement} - 0.9 \\cdot {{{{cons}}}}_{cement, l, y} = 0$"
      ],
      "text/plain": [
       "<IPython.core.display.Math object>"
      ]
     },
     "metadata": {},
     "output_type": "display_data"
    },
    {
     "data": {
      "text/latex": [
       "$\\displaystyle [33]\\text{   }{{use}}_{cement, l, y, {capacity}, wf} - 400 \\cdot {{{{cap}}}}_{wf, l, y} = 0$"
      ],
      "text/plain": [
       "<IPython.core.display.Math object>"
      ]
     },
     "metadata": {},
     "output_type": "display_data"
    },
    {
     "data": {
      "text/latex": [
       "$\\displaystyle [34]\\text{   }{{{use}}}_{cement, l, y, {capacity}, pv} - 560 \\cdot {{{{cap}}}}_{pv, l, y} = 0$"
      ],
      "text/plain": [
       "<IPython.core.display.Math object>"
      ]
     },
     "metadata": {},
     "output_type": "display_data"
    },
    {
     "data": {
      "text/latex": [
       "$\\displaystyle [35]\\text{   }{{{use}}}_{cement, l, y, {invcapacity}, power.lii} - 300 \\cdot {{{icap}}}_{power.lii, l, y} = 0$"
      ],
      "text/plain": [
       "<IPython.core.display.Math object>"
      ]
     },
     "metadata": {},
     "output_type": "display_data"
    },
    {
     "data": {
      "text/latex": [
       "$\\displaystyle [36]\\text{   }{{prod}}_{power, l, q, {operate}, wf} - {φ}_{} \\cdot {{{{opr}}}}_{wf, l, q} = 0$"
      ],
      "text/plain": [
       "<IPython.core.display.Math object>"
      ]
     },
     "metadata": {},
     "output_type": "display_data"
    },
    {
     "data": {
      "text/latex": [
       "$\\displaystyle [37]\\text{   }{{{expd}}}_{wind, l, y, {operate}, wf} - {φ}_{} \\cdot {{{{opr}}}}_{wf, l, y} = 0$"
      ],
      "text/plain": [
       "<IPython.core.display.Math object>"
      ]
     },
     "metadata": {},
     "output_type": "display_data"
    },
    {
     "data": {
      "text/latex": [
       "$\\displaystyle [38]\\text{   }{{{prod}}}_{power, l, q, {operate}, pv} - {φ}_{} \\cdot {{{{opr}}}}_{pv, l, q} = 0$"
      ],
      "text/plain": [
       "<IPython.core.display.Math object>"
      ]
     },
     "metadata": {},
     "output_type": "display_data"
    },
    {
     "data": {
      "text/latex": [
       "$\\displaystyle [39]\\text{   }{{{{expd}}}}_{solar, l, q, {operate}, pv} - {φ}_{} \\cdot {{{{opr}}}}_{pv, l, q} = 0$"
      ],
      "text/plain": [
       "<IPython.core.display.Math object>"
      ]
     },
     "metadata": {},
     "output_type": "display_data"
    },
    {
     "data": {
      "text/latex": [
       "$\\displaystyle [44]\\text{   }{{{prod}}}_{power.lii, l, q, {operate}, lii.charge} - {φ}_{} \\cdot {{{{opr}}}}_{lii.charge, l, q} = 0$"
      ],
      "text/plain": [
       "<IPython.core.display.Math object>"
      ]
     },
     "metadata": {},
     "output_type": "display_data"
    },
    {
     "data": {
      "text/latex": [
       "$\\displaystyle [45]\\text{   }{{{{expd}}}}_{power, l, q, {operate}, lii.charge} - {φ}_{} \\cdot {{{{opr}}}}_{lii.charge, l, q} = 0$"
      ],
      "text/plain": [
       "<IPython.core.display.Math object>"
      ]
     },
     "metadata": {},
     "output_type": "display_data"
    },
    {
     "data": {
      "text/latex": [
       "$\\displaystyle [47]\\text{   }{{{prod}}}_{power, l, q, {operate}, lii.discharge} - {φ}_{} \\cdot {{{{opr}}}}_{lii.discharge, l, q} = 0$"
      ],
      "text/plain": [
       "<IPython.core.display.Math object>"
      ]
     },
     "metadata": {},
     "output_type": "display_data"
    },
    {
     "data": {
      "text/latex": [
       "$\\displaystyle [48]\\text{   }{{{{expd}}}}_{power.lii, l, q, {operate}, lii.discharge} - {φ}_{} \\cdot {{{{opr}}}}_{lii.discharge, l, q} = 0$"
      ],
      "text/plain": [
       "<IPython.core.display.Math object>"
      ]
     },
     "metadata": {},
     "output_type": "display_data"
    },
    {
     "data": {
      "text/markdown": [
       "### General Resource Balance Constraint Sets"
      ],
      "text/plain": [
       "<IPython.core.display.Markdown object>"
      ]
     },
     "metadata": {},
     "output_type": "display_data"
    },
    {
     "data": {
      "text/latex": [
       "$\\displaystyle [0]\\text{   }{{{cons}}}_{solar, l, q} - {{{{expd}}}}_{solar, l, q, {operate}, pv} = 0$"
      ],
      "text/plain": [
       "<IPython.core.display.Math object>"
      ]
     },
     "metadata": {},
     "output_type": "display_data"
    },
    {
     "data": {
      "text/latex": [
       "$\\displaystyle [2]\\text{   }{{{{cons}}}}_{wind, l, y} - {{{expd}}}_{wind, l, y, {operate}, wf} = 0$"
      ],
      "text/plain": [
       "<IPython.core.display.Math object>"
      ]
     },
     "metadata": {},
     "output_type": "display_data"
    },
    {
     "data": {
      "text/latex": [
       "$\\displaystyle [4]\\text{   }-{{{rlse}}}_{power, l, q} + {{prod}}_{power, l, q, {operate}, wf} + {{{prod}}}_{power, l, q, {operate}, pv} - {{{{expd}}}}_{power, l, q, {operate}, lii.charge} + {{{prod}}}_{power, l, q, {operate}, lii.discharge} = 0$"
      ],
      "text/plain": [
       "<IPython.core.display.Math object>"
      ]
     },
     "metadata": {},
     "output_type": "display_data"
    },
    {
     "data": {
      "text/latex": [
       "$\\displaystyle [29]\\text{   }{{{{cons}}}}_{cement, l, y} - {{use}}_{cement, l, y, {capacity}, wf} - {{{use}}}_{cement, l, y, {capacity}, pv} - {{{use}}}_{cement, l, y, {invcapacity}, power.lii} = 0$"
      ],
      "text/plain": [
       "<IPython.core.display.Math object>"
      ]
     },
     "metadata": {},
     "output_type": "display_data"
    },
    {
     "data": {
      "text/latex": [
       "$\\displaystyle [41]\\text{   }-{{{{inv}}}}_{power.lii, l, q} + {{{{inv}}}}_{power.lii, l, q-1} + {{{prod}}}_{power.lii, l, q, {operate}, lii.charge} - {{{{expd}}}}_{power.lii, l, q, {operate}, lii.discharge} = 0$"
      ],
      "text/plain": [
       "<IPython.core.display.Math object>"
      ]
     },
     "metadata": {},
     "output_type": "display_data"
    },
    {
     "data": {
      "text/markdown": [
       "### Mapping Constraint Sets"
      ],
      "text/plain": [
       "<IPython.core.display.Markdown object>"
      ]
     },
     "metadata": {},
     "output_type": "display_data"
    },
    {
     "data": {
      "text/latex": [
       "$\\displaystyle [10]\\text{   }{{{{opr}}}}_{wf, l, y} - \\sum_{i \\in q} {{{{opr}}}}_{wf, l, i} = 0$"
      ],
      "text/plain": [
       "<IPython.core.display.Math object>"
      ]
     },
     "metadata": {},
     "output_type": "display_data"
    },
    {
     "data": {
      "text/latex": [
       "$\\displaystyle [16]\\text{   }{{{{opr}}}}_{pv, l, y} - \\sum_{i \\in q} {{{{opr}}}}_{pv, l, i} = 0$"
      ],
      "text/plain": [
       "<IPython.core.display.Math object>"
      ]
     },
     "metadata": {},
     "output_type": "display_data"
    },
    {
     "data": {
      "text/latex": [
       "$\\displaystyle [40]\\text{   }{{{{inv}}}}_{power.lii, l, y} - \\sum_{i \\in q} {{{{inv}}}}_{power.lii, l, i} = 0$"
      ],
      "text/plain": [
       "<IPython.core.display.Math object>"
      ]
     },
     "metadata": {},
     "output_type": "display_data"
    },
    {
     "data": {
      "text/latex": [
       "$\\displaystyle [43]\\text{   }{{{{opr}}}}_{lii.charge, l, y} - \\sum_{i \\in q} {{{{opr}}}}_{lii.charge, l, i} = 0$"
      ],
      "text/plain": [
       "<IPython.core.display.Math object>"
      ]
     },
     "metadata": {},
     "output_type": "display_data"
    },
    {
     "data": {
      "text/latex": [
       "$\\displaystyle [46]\\text{   }{{{{opr}}}}_{lii.discharge, l, y} - \\sum_{i \\in q} {{{{opr}}}}_{lii.discharge, l, i} = 0$"
      ],
      "text/plain": [
       "<IPython.core.display.Math object>"
      ]
     },
     "metadata": {},
     "output_type": "display_data"
    },
    {
     "data": {
      "text/latex": [
       "$\\displaystyle [49]\\text{   }{{{emit}}}_{gwp, l, y} - {{{{emit}}}}_{gwp, l, y, {capacity}, wf} - {{{{emit}}}}_{gwp, l, y, {capacity}, pv} - {{{{emit}}}}_{gwp, l, y, {invcapacity}, power.lii} - {{{{emit}}}}_{gwp, l, y, {consume}, cement} = 0$"
      ],
      "text/plain": [
       "<IPython.core.display.Math object>"
      ]
     },
     "metadata": {},
     "output_type": "display_data"
    },
    {
     "data": {
      "text/markdown": [
       "###  Function Sets"
      ],
      "text/plain": [
       "<IPython.core.display.Markdown object>"
      ]
     },
     "metadata": {},
     "output_type": "display_data"
    },
    {
     "data": {
      "text/latex": [
       "$\\displaystyle {{emit}}_{gwp, l, y{0}}$"
      ],
      "text/plain": [
       "<IPython.core.display.Math object>"
      ]
     },
     "metadata": {},
     "output_type": "display_data"
    }
   ],
   "source": [
    "m.show()"
   ]
  },
  {
   "cell_type": "code",
   "execution_count": 13,
   "id": "5ba2b0af",
   "metadata": {},
   "outputs": [
    {
     "data": {
      "text/markdown": [
       "# Solution for Program(example3)"
      ],
      "text/plain": [
       "<IPython.core.display.Markdown object>"
      ]
     },
     "metadata": {},
     "output_type": "display_data"
    },
    {
     "data": {
      "text/markdown": [
       "<br><br>"
      ],
      "text/plain": [
       "<IPython.core.display.Markdown object>"
      ]
     },
     "metadata": {},
     "output_type": "display_data"
    },
    {
     "data": {
      "text/markdown": [
       "## Objective"
      ],
      "text/plain": [
       "<IPython.core.display.Markdown object>"
      ]
     },
     "metadata": {},
     "output_type": "display_data"
    },
    {
     "data": {
      "text/latex": [
       "$\\displaystyle min \\hspace{0.2cm} {{emit}}_{gwp, l, y{0}}=475214.81481481483$"
      ],
      "text/plain": [
       "<IPython.core.display.Math object>"
      ]
     },
     "metadata": {},
     "output_type": "display_data"
    },
    {
     "data": {
      "text/markdown": [
       "<br><br>"
      ],
      "text/plain": [
       "<IPython.core.display.Markdown object>"
      ]
     },
     "metadata": {},
     "output_type": "display_data"
    },
    {
     "data": {
      "text/markdown": [
       "## Variables"
      ],
      "text/plain": [
       "<IPython.core.display.Markdown object>"
      ]
     },
     "metadata": {},
     "output_type": "display_data"
    },
    {
     "data": {
      "text/latex": [
       "$\\displaystyle {{{cons}}}_{solar, l, q{0}}=66.6666666666667$"
      ],
      "text/plain": [
       "<IPython.core.display.Math object>"
      ]
     },
     "metadata": {},
     "output_type": "display_data"
    },
    {
     "data": {
      "text/latex": [
       "$\\displaystyle {{{cons}}}_{solar, l, q{1}}=88.88888888888894$"
      ],
      "text/plain": [
       "<IPython.core.display.Math object>"
      ]
     },
     "metadata": {},
     "output_type": "display_data"
    },
    {
     "data": {
      "text/latex": [
       "$\\displaystyle {{{cons}}}_{solar, l, q{2}}=100.00000000000006$"
      ],
      "text/plain": [
       "<IPython.core.display.Math object>"
      ]
     },
     "metadata": {},
     "output_type": "display_data"
    },
    {
     "data": {
      "text/latex": [
       "$\\displaystyle {{{cons}}}_{solar, l, q{3}}=77.77777777777781$"
      ],
      "text/plain": [
       "<IPython.core.display.Math object>"
      ]
     },
     "metadata": {},
     "output_type": "display_data"
    },
    {
     "data": {
      "text/latex": [
       "$\\displaystyle {{{cons}}}_{wind, l, y{0}}=322.22222222222223$"
      ],
      "text/plain": [
       "<IPython.core.display.Math object>"
      ]
     },
     "metadata": {},
     "output_type": "display_data"
    },
    {
     "data": {
      "text/latex": [
       "$\\displaystyle {{{cons}}}_{cement, l, y{0}}=104148.14814814816$"
      ],
      "text/plain": [
       "<IPython.core.display.Math object>"
      ]
     },
     "metadata": {},
     "output_type": "display_data"
    },
    {
     "data": {
      "text/latex": [
       "$\\displaystyle {{{rlse}}}_{power, l, q{0}}=139.50617283950623$"
      ],
      "text/plain": [
       "<IPython.core.display.Math object>"
      ]
     },
     "metadata": {},
     "output_type": "display_data"
    },
    {
     "data": {
      "text/latex": [
       "$\\displaystyle {{{rlse}}}_{power, l, q{1}}=170.49382716049388$"
      ],
      "text/plain": [
       "<IPython.core.display.Math object>"
      ]
     },
     "metadata": {},
     "output_type": "display_data"
    },
    {
     "data": {
      "text/latex": [
       "$\\displaystyle {{{rlse}}}_{power, l, q{2}}=180.0$"
      ],
      "text/plain": [
       "<IPython.core.display.Math object>"
      ]
     },
     "metadata": {},
     "output_type": "display_data"
    },
    {
     "data": {
      "text/latex": [
       "$\\displaystyle {{{rlse}}}_{power, l, q{3}}=155.5555555555556$"
      ],
      "text/plain": [
       "<IPython.core.display.Math object>"
      ]
     },
     "metadata": {},
     "output_type": "display_data"
    },
    {
     "data": {
      "text/latex": [
       "$\\displaystyle {{{cap}}}_{wf, l, y{0}}=100.0$"
      ],
      "text/plain": [
       "<IPython.core.display.Math object>"
      ]
     },
     "metadata": {},
     "output_type": "display_data"
    },
    {
     "data": {
      "text/latex": [
       "$\\displaystyle {{{cap}}}_{pv, l, y{0}}=100.00000000000006$"
      ],
      "text/plain": [
       "<IPython.core.display.Math object>"
      ]
     },
     "metadata": {},
     "output_type": "display_data"
    },
    {
     "data": {
      "text/latex": [
       "$\\displaystyle {{{cap}}}_{lii.charge, l, y{0}}=100.0$"
      ],
      "text/plain": [
       "<IPython.core.display.Math object>"
      ]
     },
     "metadata": {},
     "output_type": "display_data"
    },
    {
     "data": {
      "text/latex": [
       "$\\displaystyle {{{cap}}}_{lii.discharge, l, y{0}}=100.0$"
      ],
      "text/plain": [
       "<IPython.core.display.Math object>"
      ]
     },
     "metadata": {},
     "output_type": "display_data"
    },
    {
     "data": {
      "text/latex": [
       "$\\displaystyle {{{\\breve{{cap}}}}}_{wf, l, y{0}}=1.0$"
      ],
      "text/plain": [
       "<IPython.core.display.Math object>"
      ]
     },
     "metadata": {},
     "output_type": "display_data"
    },
    {
     "data": {
      "text/latex": [
       "$\\displaystyle {{{\\breve{{cap}}}}}_{pv, l, y{0}}=1.0$"
      ],
      "text/plain": [
       "<IPython.core.display.Math object>"
      ]
     },
     "metadata": {},
     "output_type": "display_data"
    },
    {
     "data": {
      "text/latex": [
       "$\\displaystyle {{{opr}}}_{wf, l, q{0}}=100.0$"
      ],
      "text/plain": [
       "<IPython.core.display.Math object>"
      ]
     },
     "metadata": {},
     "output_type": "display_data"
    },
    {
     "data": {
      "text/latex": [
       "$\\displaystyle {{{opr}}}_{wf, l, q{1}}=88.8888888888889$"
      ],
      "text/plain": [
       "<IPython.core.display.Math object>"
      ]
     },
     "metadata": {},
     "output_type": "display_data"
    },
    {
     "data": {
      "text/latex": [
       "$\\displaystyle {{{opr}}}_{wf, l, q{2}}=55.55555555555556$"
      ],
      "text/plain": [
       "<IPython.core.display.Math object>"
      ]
     },
     "metadata": {},
     "output_type": "display_data"
    },
    {
     "data": {
      "text/latex": [
       "$\\displaystyle {{{opr}}}_{wf, l, q{3}}=77.77777777777777$"
      ],
      "text/plain": [
       "<IPython.core.display.Math object>"
      ]
     },
     "metadata": {},
     "output_type": "display_data"
    },
    {
     "data": {
      "text/latex": [
       "$\\displaystyle {{{opr}}}_{wf, l, y{0}}=322.22222222222223$"
      ],
      "text/plain": [
       "<IPython.core.display.Math object>"
      ]
     },
     "metadata": {},
     "output_type": "display_data"
    },
    {
     "data": {
      "text/latex": [
       "$\\displaystyle {{{opr}}}_{pv, l, q{0}}=66.6666666666667$"
      ],
      "text/plain": [
       "<IPython.core.display.Math object>"
      ]
     },
     "metadata": {},
     "output_type": "display_data"
    },
    {
     "data": {
      "text/latex": [
       "$\\displaystyle {{{opr}}}_{pv, l, q{1}}=88.88888888888894$"
      ],
      "text/plain": [
       "<IPython.core.display.Math object>"
      ]
     },
     "metadata": {},
     "output_type": "display_data"
    },
    {
     "data": {
      "text/latex": [
       "$\\displaystyle {{{opr}}}_{pv, l, q{2}}=100.00000000000006$"
      ],
      "text/plain": [
       "<IPython.core.display.Math object>"
      ]
     },
     "metadata": {},
     "output_type": "display_data"
    },
    {
     "data": {
      "text/latex": [
       "$\\displaystyle {{{opr}}}_{pv, l, q{3}}=77.77777777777781$"
      ],
      "text/plain": [
       "<IPython.core.display.Math object>"
      ]
     },
     "metadata": {},
     "output_type": "display_data"
    },
    {
     "data": {
      "text/latex": [
       "$\\displaystyle {{{opr}}}_{pv, l, y{0}}=333.33333333333354$"
      ],
      "text/plain": [
       "<IPython.core.display.Math object>"
      ]
     },
     "metadata": {},
     "output_type": "display_data"
    },
    {
     "data": {
      "text/latex": [
       "$\\displaystyle {{{opr}}}_{lii.charge, l, y{0}}=100.00000000000001$"
      ],
      "text/plain": [
       "<IPython.core.display.Math object>"
      ]
     },
     "metadata": {},
     "output_type": "display_data"
    },
    {
     "data": {
      "text/latex": [
       "$\\displaystyle {{{opr}}}_{lii.discharge, l, y{0}}=90.0$"
      ],
      "text/plain": [
       "<IPython.core.display.Math object>"
      ]
     },
     "metadata": {},
     "output_type": "display_data"
    },
    {
     "data": {
      "text/latex": [
       "$\\displaystyle {{{opr}}}_{lii.charge, l, q{0}}=27.160493827160437$"
      ],
      "text/plain": [
       "<IPython.core.display.Math object>"
      ]
     },
     "metadata": {},
     "output_type": "display_data"
    },
    {
     "data": {
      "text/latex": [
       "$\\displaystyle {{{opr}}}_{lii.charge, l, q{1}}=72.83950617283958$"
      ],
      "text/plain": [
       "<IPython.core.display.Math object>"
      ]
     },
     "metadata": {},
     "output_type": "display_data"
    },
    {
     "data": {
      "text/latex": [
       "$\\displaystyle {{{opr}}}_{lii.charge, l, q{2}}=0.0$"
      ],
      "text/plain": [
       "<IPython.core.display.Math object>"
      ]
     },
     "metadata": {},
     "output_type": "display_data"
    },
    {
     "data": {
      "text/latex": [
       "$\\displaystyle {{{opr}}}_{lii.charge, l, q{3}}=0.0$"
      ],
      "text/plain": [
       "<IPython.core.display.Math object>"
      ]
     },
     "metadata": {},
     "output_type": "display_data"
    },
    {
     "data": {
      "text/latex": [
       "$\\displaystyle {{{opr}}}_{lii.discharge, l, q{0}}=0.0$"
      ],
      "text/plain": [
       "<IPython.core.display.Math object>"
      ]
     },
     "metadata": {},
     "output_type": "display_data"
    },
    {
     "data": {
      "text/latex": [
       "$\\displaystyle {{{opr}}}_{lii.discharge, l, q{1}}=65.55555555555561$"
      ],
      "text/plain": [
       "<IPython.core.display.Math object>"
      ]
     },
     "metadata": {},
     "output_type": "display_data"
    },
    {
     "data": {
      "text/latex": [
       "$\\displaystyle {{{opr}}}_{lii.discharge, l, q{2}}=24.44444444444439$"
      ],
      "text/plain": [
       "<IPython.core.display.Math object>"
      ]
     },
     "metadata": {},
     "output_type": "display_data"
    },
    {
     "data": {
      "text/latex": [
       "$\\displaystyle {{{opr}}}_{lii.discharge, l, q{3}}=0.0$"
      ],
      "text/plain": [
       "<IPython.core.display.Math object>"
      ]
     },
     "metadata": {},
     "output_type": "display_data"
    },
    {
     "data": {
      "text/latex": [
       "$\\displaystyle {{spend}}_{usd, l, y{0}, capacity, wf}=99399100.0$"
      ],
      "text/plain": [
       "<IPython.core.display.Math object>"
      ]
     },
     "metadata": {},
     "output_type": "display_data"
    },
    {
     "data": {
      "text/latex": [
       "$\\displaystyle {{spend}}_{usd, l, y{0}, operate, wf}=15788.888888888889$"
      ],
      "text/plain": [
       "<IPython.core.display.Math object>"
      ]
     },
     "metadata": {},
     "output_type": "display_data"
    },
    {
     "data": {
      "text/latex": [
       "$\\displaystyle {{spend}}_{usd, l, y{0}, capacity, pv}=143904600.0000001$"
      ],
      "text/plain": [
       "<IPython.core.display.Math object>"
      ]
     },
     "metadata": {},
     "output_type": "display_data"
    },
    {
     "data": {
      "text/latex": [
       "$\\displaystyle {{spend}}_{usd, l, y{0}, operate, pv}=30000000.00000002$"
      ],
      "text/plain": [
       "<IPython.core.display.Math object>"
      ]
     },
     "metadata": {},
     "output_type": "display_data"
    },
    {
     "data": {
      "text/latex": [
       "$\\displaystyle {{spend}}_{usd, l, y{0}, invcapacity, power.lii}=36493219.75308634$"
      ],
      "text/plain": [
       "<IPython.core.display.Math object>"
      ]
     },
     "metadata": {},
     "output_type": "display_data"
    },
    {
     "data": {
      "text/latex": [
       "$\\displaystyle {{spend}}_{usd, l, y{0}, inventory, power.lii}=108641.97530864175$"
      ],
      "text/plain": [
       "<IPython.core.display.Math object>"
      ]
     },
     "metadata": {},
     "output_type": "display_data"
    },
    {
     "data": {
      "text/latex": [
       "$\\displaystyle {{spend}}_{usd, l, y{0}, consume, cement}=1770518.5185185187$"
      ],
      "text/plain": [
       "<IPython.core.display.Math object>"
      ]
     },
     "metadata": {},
     "output_type": "display_data"
    },
    {
     "data": {
      "text/latex": [
       "$\\displaystyle {{{icap}}}_{power.lii, l, y{0}}=27.160493827160437$"
      ],
      "text/plain": [
       "<IPython.core.display.Math object>"
      ]
     },
     "metadata": {},
     "output_type": "display_data"
    },
    {
     "data": {
      "text/latex": [
       "$\\displaystyle {{{\\breve{{icap}}}}}_{power.lii, l, y{0}}=1.0$"
      ],
      "text/plain": [
       "<IPython.core.display.Math object>"
      ]
     },
     "metadata": {},
     "output_type": "display_data"
    },
    {
     "data": {
      "text/latex": [
       "$\\displaystyle {{{inv}}}_{power.lii, l, y{0}}=54.320987654320874$"
      ],
      "text/plain": [
       "<IPython.core.display.Math object>"
      ]
     },
     "metadata": {},
     "output_type": "display_data"
    },
    {
     "data": {
      "text/latex": [
       "$\\displaystyle {{{inv}}}_{power.lii, l, q{0}}=27.160493827160437$"
      ],
      "text/plain": [
       "<IPython.core.display.Math object>"
      ]
     },
     "metadata": {},
     "output_type": "display_data"
    },
    {
     "data": {
      "text/latex": [
       "$\\displaystyle {{{inv}}}_{power.lii, l, q{1}}=27.160493827160437$"
      ],
      "text/plain": [
       "<IPython.core.display.Math object>"
      ]
     },
     "metadata": {},
     "output_type": "display_data"
    },
    {
     "data": {
      "text/latex": [
       "$\\displaystyle {{{inv}}}_{power.lii, l, q{2}}=0.0$"
      ],
      "text/plain": [
       "<IPython.core.display.Math object>"
      ]
     },
     "metadata": {},
     "output_type": "display_data"
    },
    {
     "data": {
      "text/latex": [
       "$\\displaystyle {{{inv}}}_{power.lii, l, q{3}}=0.0$"
      ],
      "text/plain": [
       "<IPython.core.display.Math object>"
      ]
     },
     "metadata": {},
     "output_type": "display_data"
    },
    {
     "data": {
      "text/latex": [
       "$\\displaystyle {{emit}}_{gwp, l, y{0}, capacity, wf}=100000.0$"
      ],
      "text/plain": [
       "<IPython.core.display.Math object>"
      ]
     },
     "metadata": {},
     "output_type": "display_data"
    },
    {
     "data": {
      "text/latex": [
       "$\\displaystyle {{emit}}_{gwp, l, y{0}, capacity, pv}=200000.00000000012$"
      ],
      "text/plain": [
       "<IPython.core.display.Math object>"
      ]
     },
     "metadata": {},
     "output_type": "display_data"
    },
    {
     "data": {
      "text/latex": [
       "$\\displaystyle {{emit}}_{gwp, l, y{0}, invcapacity, power.lii}=81481.48148148131$"
      ],
      "text/plain": [
       "<IPython.core.display.Math object>"
      ]
     },
     "metadata": {},
     "output_type": "display_data"
    },
    {
     "data": {
      "text/latex": [
       "$\\displaystyle {{emit}}_{gwp, l, y{0}, consume, cement}=93733.33333333334$"
      ],
      "text/plain": [
       "<IPython.core.display.Math object>"
      ]
     },
     "metadata": {},
     "output_type": "display_data"
    },
    {
     "data": {
      "text/latex": [
       "$\\displaystyle {{emit}}_{gwp, l, y{0}}=475214.81481481483$"
      ],
      "text/plain": [
       "<IPython.core.display.Math object>"
      ]
     },
     "metadata": {},
     "output_type": "display_data"
    },
    {
     "data": {
      "text/latex": [
       "$\\displaystyle {{use}}_{cement, l, y{0}, capacity, wf}=40000.0$"
      ],
      "text/plain": [
       "<IPython.core.display.Math object>"
      ]
     },
     "metadata": {},
     "output_type": "display_data"
    },
    {
     "data": {
      "text/latex": [
       "$\\displaystyle {{use}}_{cement, l, y{0}, capacity, pv}=56000.00000000003$"
      ],
      "text/plain": [
       "<IPython.core.display.Math object>"
      ]
     },
     "metadata": {},
     "output_type": "display_data"
    },
    {
     "data": {
      "text/latex": [
       "$\\displaystyle {{use}}_{cement, l, y{0}, invcapacity, power.lii}=8148.148148148131$"
      ],
      "text/plain": [
       "<IPython.core.display.Math object>"
      ]
     },
     "metadata": {},
     "output_type": "display_data"
    },
    {
     "data": {
      "text/latex": [
       "$\\displaystyle {{prod}}_{power, l, q{0}, operate, wf}=100.0$"
      ],
      "text/plain": [
       "<IPython.core.display.Math object>"
      ]
     },
     "metadata": {},
     "output_type": "display_data"
    },
    {
     "data": {
      "text/latex": [
       "$\\displaystyle {{prod}}_{power, l, q{1}, operate, wf}=88.8888888888889$"
      ],
      "text/plain": [
       "<IPython.core.display.Math object>"
      ]
     },
     "metadata": {},
     "output_type": "display_data"
    },
    {
     "data": {
      "text/latex": [
       "$\\displaystyle {{prod}}_{power, l, q{2}, operate, wf}=55.55555555555556$"
      ],
      "text/plain": [
       "<IPython.core.display.Math object>"
      ]
     },
     "metadata": {},
     "output_type": "display_data"
    },
    {
     "data": {
      "text/latex": [
       "$\\displaystyle {{prod}}_{power, l, q{3}, operate, wf}=77.77777777777777$"
      ],
      "text/plain": [
       "<IPython.core.display.Math object>"
      ]
     },
     "metadata": {},
     "output_type": "display_data"
    },
    {
     "data": {
      "text/latex": [
       "$\\displaystyle {{prod}}_{power, l, q{0}, operate, pv}=66.6666666666667$"
      ],
      "text/plain": [
       "<IPython.core.display.Math object>"
      ]
     },
     "metadata": {},
     "output_type": "display_data"
    },
    {
     "data": {
      "text/latex": [
       "$\\displaystyle {{prod}}_{power, l, q{1}, operate, pv}=88.88888888888894$"
      ],
      "text/plain": [
       "<IPython.core.display.Math object>"
      ]
     },
     "metadata": {},
     "output_type": "display_data"
    },
    {
     "data": {
      "text/latex": [
       "$\\displaystyle {{prod}}_{power, l, q{2}, operate, pv}=100.00000000000006$"
      ],
      "text/plain": [
       "<IPython.core.display.Math object>"
      ]
     },
     "metadata": {},
     "output_type": "display_data"
    },
    {
     "data": {
      "text/latex": [
       "$\\displaystyle {{prod}}_{power, l, q{3}, operate, pv}=77.77777777777781$"
      ],
      "text/plain": [
       "<IPython.core.display.Math object>"
      ]
     },
     "metadata": {},
     "output_type": "display_data"
    },
    {
     "data": {
      "text/latex": [
       "$\\displaystyle {{prod}}_{power.lii, l, q{0}, operate, lii.charge}=27.160493827160437$"
      ],
      "text/plain": [
       "<IPython.core.display.Math object>"
      ]
     },
     "metadata": {},
     "output_type": "display_data"
    },
    {
     "data": {
      "text/latex": [
       "$\\displaystyle {{prod}}_{power.lii, l, q{1}, operate, lii.charge}=72.83950617283958$"
      ],
      "text/plain": [
       "<IPython.core.display.Math object>"
      ]
     },
     "metadata": {},
     "output_type": "display_data"
    },
    {
     "data": {
      "text/latex": [
       "$\\displaystyle {{prod}}_{power.lii, l, q{2}, operate, lii.charge}=0.0$"
      ],
      "text/plain": [
       "<IPython.core.display.Math object>"
      ]
     },
     "metadata": {},
     "output_type": "display_data"
    },
    {
     "data": {
      "text/latex": [
       "$\\displaystyle {{prod}}_{power.lii, l, q{3}, operate, lii.charge}=0.0$"
      ],
      "text/plain": [
       "<IPython.core.display.Math object>"
      ]
     },
     "metadata": {},
     "output_type": "display_data"
    },
    {
     "data": {
      "text/latex": [
       "$\\displaystyle {{prod}}_{power, l, q{0}, operate, lii.discharge}=0.0$"
      ],
      "text/plain": [
       "<IPython.core.display.Math object>"
      ]
     },
     "metadata": {},
     "output_type": "display_data"
    },
    {
     "data": {
      "text/latex": [
       "$\\displaystyle {{prod}}_{power, l, q{1}, operate, lii.discharge}=65.55555555555561$"
      ],
      "text/plain": [
       "<IPython.core.display.Math object>"
      ]
     },
     "metadata": {},
     "output_type": "display_data"
    },
    {
     "data": {
      "text/latex": [
       "$\\displaystyle {{prod}}_{power, l, q{2}, operate, lii.discharge}=24.44444444444439$"
      ],
      "text/plain": [
       "<IPython.core.display.Math object>"
      ]
     },
     "metadata": {},
     "output_type": "display_data"
    },
    {
     "data": {
      "text/latex": [
       "$\\displaystyle {{prod}}_{power, l, q{3}, operate, lii.discharge}=0.0$"
      ],
      "text/plain": [
       "<IPython.core.display.Math object>"
      ]
     },
     "metadata": {},
     "output_type": "display_data"
    },
    {
     "data": {
      "text/latex": [
       "$\\displaystyle {{{expd}}}_{wind, l, y{0}, operate, wf}=322.22222222222223$"
      ],
      "text/plain": [
       "<IPython.core.display.Math object>"
      ]
     },
     "metadata": {},
     "output_type": "display_data"
    },
    {
     "data": {
      "text/latex": [
       "$\\displaystyle {{{expd}}}_{solar, l, q{0}, operate, pv}=66.6666666666667$"
      ],
      "text/plain": [
       "<IPython.core.display.Math object>"
      ]
     },
     "metadata": {},
     "output_type": "display_data"
    },
    {
     "data": {
      "text/latex": [
       "$\\displaystyle {{{expd}}}_{solar, l, q{1}, operate, pv}=88.88888888888894$"
      ],
      "text/plain": [
       "<IPython.core.display.Math object>"
      ]
     },
     "metadata": {},
     "output_type": "display_data"
    },
    {
     "data": {
      "text/latex": [
       "$\\displaystyle {{{expd}}}_{solar, l, q{2}, operate, pv}=100.00000000000006$"
      ],
      "text/plain": [
       "<IPython.core.display.Math object>"
      ]
     },
     "metadata": {},
     "output_type": "display_data"
    },
    {
     "data": {
      "text/latex": [
       "$\\displaystyle {{{expd}}}_{solar, l, q{3}, operate, pv}=77.77777777777781$"
      ],
      "text/plain": [
       "<IPython.core.display.Math object>"
      ]
     },
     "metadata": {},
     "output_type": "display_data"
    },
    {
     "data": {
      "text/latex": [
       "$\\displaystyle {{{expd}}}_{power, l, q{0}, operate, lii.charge}=27.160493827160437$"
      ],
      "text/plain": [
       "<IPython.core.display.Math object>"
      ]
     },
     "metadata": {},
     "output_type": "display_data"
    },
    {
     "data": {
      "text/latex": [
       "$\\displaystyle {{{expd}}}_{power, l, q{1}, operate, lii.charge}=72.83950617283958$"
      ],
      "text/plain": [
       "<IPython.core.display.Math object>"
      ]
     },
     "metadata": {},
     "output_type": "display_data"
    },
    {
     "data": {
      "text/latex": [
       "$\\displaystyle {{{expd}}}_{power, l, q{2}, operate, lii.charge}=0.0$"
      ],
      "text/plain": [
       "<IPython.core.display.Math object>"
      ]
     },
     "metadata": {},
     "output_type": "display_data"
    },
    {
     "data": {
      "text/latex": [
       "$\\displaystyle {{{expd}}}_{power, l, q{3}, operate, lii.charge}=0.0$"
      ],
      "text/plain": [
       "<IPython.core.display.Math object>"
      ]
     },
     "metadata": {},
     "output_type": "display_data"
    },
    {
     "data": {
      "text/latex": [
       "$\\displaystyle {{{expd}}}_{power.lii, l, q{0}, operate, lii.discharge}=0.0$"
      ],
      "text/plain": [
       "<IPython.core.display.Math object>"
      ]
     },
     "metadata": {},
     "output_type": "display_data"
    },
    {
     "data": {
      "text/latex": [
       "$\\displaystyle {{{expd}}}_{power.lii, l, q{1}, operate, lii.discharge}=72.83950617283958$"
      ],
      "text/plain": [
       "<IPython.core.display.Math object>"
      ]
     },
     "metadata": {},
     "output_type": "display_data"
    },
    {
     "data": {
      "text/latex": [
       "$\\displaystyle {{{expd}}}_{power.lii, l, q{2}, operate, lii.discharge}=27.160493827160433$"
      ],
      "text/plain": [
       "<IPython.core.display.Math object>"
      ]
     },
     "metadata": {},
     "output_type": "display_data"
    },
    {
     "data": {
      "text/latex": [
       "$\\displaystyle {{{expd}}}_{power.lii, l, q{3}, operate, lii.discharge}=0.0$"
      ],
      "text/plain": [
       "<IPython.core.display.Math object>"
      ]
     },
     "metadata": {},
     "output_type": "display_data"
    },
    {
     "data": {
      "text/markdown": [
       "<br><br>"
      ],
      "text/plain": [
       "<IPython.core.display.Markdown object>"
      ]
     },
     "metadata": {},
     "output_type": "display_data"
    },
    {
     "data": {
      "text/markdown": [
       "## Constraint Slack"
      ],
      "text/plain": [
       "<IPython.core.display.Markdown object>"
      ]
     },
     "metadata": {},
     "output_type": "display_data"
    },
    {
     "data": {
      "text/latex": [
       "$\\displaystyle {{{cons}}}_{solar, l, q{0}} - 100.0=-33.3333333333333$"
      ],
      "text/plain": [
       "<IPython.core.display.Math object>"
      ]
     },
     "metadata": {},
     "output_type": "display_data"
    },
    {
     "data": {
      "text/latex": [
       "$\\displaystyle {{{cons}}}_{solar, l, q{1}} - 100.0=-11.111111111111057$"
      ],
      "text/plain": [
       "<IPython.core.display.Math object>"
      ]
     },
     "metadata": {},
     "output_type": "display_data"
    },
    {
     "data": {
      "text/latex": [
       "$\\displaystyle {{{cons}}}_{solar, l, q{2}} - 100.0=5.684341886080802e-14$"
      ],
      "text/plain": [
       "<IPython.core.display.Math object>"
      ]
     },
     "metadata": {},
     "output_type": "display_data"
    },
    {
     "data": {
      "text/latex": [
       "$\\displaystyle {{{cons}}}_{solar, l, q{3}} - 100.0=-22.222222222222186$"
      ],
      "text/plain": [
       "<IPython.core.display.Math object>"
      ]
     },
     "metadata": {},
     "output_type": "display_data"
    },
    {
     "data": {
      "text/latex": [
       "$\\displaystyle {{{cons}}}_{wind, l, y{0}} - 400.0=-77.77777777777777$"
      ],
      "text/plain": [
       "<IPython.core.display.Math object>"
      ]
     },
     "metadata": {},
     "output_type": "display_data"
    },
    {
     "data": {
      "text/latex": [
       "$\\displaystyle -{{{rlse}}}_{power, l, q{0}} + 134.99999999999997=-4.506172839506263$"
      ],
      "text/plain": [
       "<IPython.core.display.Math object>"
      ]
     },
     "metadata": {},
     "output_type": "display_data"
    },
    {
     "data": {
      "text/latex": [
       "$\\displaystyle -{{{rlse}}}_{power, l, q{1}} + 157.49999999999997=-12.993827160493908$"
      ],
      "text/plain": [
       "<IPython.core.display.Math object>"
      ]
     },
     "metadata": {},
     "output_type": "display_data"
    },
    {
     "data": {
      "text/latex": [
       "$\\displaystyle -{{{rlse}}}_{power, l, q{2}} + 180.0=0.0$"
      ],
      "text/plain": [
       "<IPython.core.display.Math object>"
      ]
     },
     "metadata": {},
     "output_type": "display_data"
    },
    {
     "data": {
      "text/latex": [
       "$\\displaystyle -{{{rlse}}}_{power, l, q{3}} + 67.49999999999999=-88.05555555555561$"
      ],
      "text/plain": [
       "<IPython.core.display.Math object>"
      ]
     },
     "metadata": {},
     "output_type": "display_data"
    },
    {
     "data": {
      "text/latex": [
       "$\\displaystyle {{{cap}}}_{wf, l, y{0}} - 100.0 \\cdot {{{\\breve{{cap}}}}}_{wf, l, y{0}}=0.0$"
      ],
      "text/plain": [
       "<IPython.core.display.Math object>"
      ]
     },
     "metadata": {},
     "output_type": "display_data"
    },
    {
     "data": {
      "text/latex": [
       "$\\displaystyle 10.0 \\cdot {{{\\breve{{cap}}}}}_{wf, l, y{0}} - {{{cap}}}_{wf, l, y{0}}=-90.0$"
      ],
      "text/plain": [
       "<IPython.core.display.Math object>"
      ]
     },
     "metadata": {},
     "output_type": "display_data"
    },
    {
     "data": {
      "text/latex": [
       "$\\displaystyle {{{opr}}}_{wf, l, q{0}} - 1.0 \\cdot {{{cap}}}_{wf, l, y{0}}=0.0$"
      ],
      "text/plain": [
       "<IPython.core.display.Math object>"
      ]
     },
     "metadata": {},
     "output_type": "display_data"
    },
    {
     "data": {
      "text/latex": [
       "$\\displaystyle {{{opr}}}_{wf, l, q{1}} - 0.888888888888889 \\cdot {{{cap}}}_{wf, l, y{0}}=0.0$"
      ],
      "text/plain": [
       "<IPython.core.display.Math object>"
      ]
     },
     "metadata": {},
     "output_type": "display_data"
    },
    {
     "data": {
      "text/latex": [
       "$\\displaystyle {{{opr}}}_{wf, l, q{2}} - 0.5555555555555556 \\cdot {{{cap}}}_{wf, l, y{0}}=0.0$"
      ],
      "text/plain": [
       "<IPython.core.display.Math object>"
      ]
     },
     "metadata": {},
     "output_type": "display_data"
    },
    {
     "data": {
      "text/latex": [
       "$\\displaystyle {{{opr}}}_{wf, l, q{3}} - 0.7777777777777777 \\cdot {{{cap}}}_{wf, l, y{0}}=0.0$"
      ],
      "text/plain": [
       "<IPython.core.display.Math object>"
      ]
     },
     "metadata": {},
     "output_type": "display_data"
    },
    {
     "data": {
      "text/latex": [
       "$\\displaystyle {{{cap}}}_{pv, l, y{0}} - 100.0 \\cdot {{{\\breve{{cap}}}}}_{pv, l, y{0}}=5.684341886080802e-14$"
      ],
      "text/plain": [
       "<IPython.core.display.Math object>"
      ]
     },
     "metadata": {},
     "output_type": "display_data"
    },
    {
     "data": {
      "text/latex": [
       "$\\displaystyle 10.0 \\cdot {{{\\breve{{cap}}}}}_{pv, l, y{0}} - {{{cap}}}_{pv, l, y{0}}=-90.00000000000006$"
      ],
      "text/plain": [
       "<IPython.core.display.Math object>"
      ]
     },
     "metadata": {},
     "output_type": "display_data"
    },
    {
     "data": {
      "text/latex": [
       "$\\displaystyle {{{opr}}}_{pv, l, q{0}} - 0.6666666666666666 \\cdot {{{cap}}}_{pv, l, y{0}}=0.0$"
      ],
      "text/plain": [
       "<IPython.core.display.Math object>"
      ]
     },
     "metadata": {},
     "output_type": "display_data"
    },
    {
     "data": {
      "text/latex": [
       "$\\displaystyle {{{opr}}}_{pv, l, q{1}} - 0.888888888888889 \\cdot {{{cap}}}_{pv, l, y{0}}=0.0$"
      ],
      "text/plain": [
       "<IPython.core.display.Math object>"
      ]
     },
     "metadata": {},
     "output_type": "display_data"
    },
    {
     "data": {
      "text/latex": [
       "$\\displaystyle {{{opr}}}_{pv, l, q{2}} - 1.0 \\cdot {{{cap}}}_{pv, l, y{0}}=0.0$"
      ],
      "text/plain": [
       "<IPython.core.display.Math object>"
      ]
     },
     "metadata": {},
     "output_type": "display_data"
    },
    {
     "data": {
      "text/latex": [
       "$\\displaystyle {{{opr}}}_{pv, l, q{3}} - 0.7777777777777777 \\cdot {{{cap}}}_{pv, l, y{0}}=0.0$"
      ],
      "text/plain": [
       "<IPython.core.display.Math object>"
      ]
     },
     "metadata": {},
     "output_type": "display_data"
    },
    {
     "data": {
      "text/latex": [
       "$\\displaystyle {{{icap}}}_{power.lii, l, y{0}} - 100.0 \\cdot {{{\\breve{{icap}}}}}_{power.lii, l, y{0}}=-72.83950617283956$"
      ],
      "text/plain": [
       "<IPython.core.display.Math object>"
      ]
     },
     "metadata": {},
     "output_type": "display_data"
    },
    {
     "data": {
      "text/latex": [
       "$\\displaystyle 10.0 \\cdot {{{\\breve{{icap}}}}}_{power.lii, l, y{0}} - {{{icap}}}_{power.lii, l, y{0}}=-17.160493827160437$"
      ],
      "text/plain": [
       "<IPython.core.display.Math object>"
      ]
     },
     "metadata": {},
     "output_type": "display_data"
    },
    {
     "data": {
      "text/latex": [
       "$\\displaystyle {{{cap}}}_{lii.charge, l, y{0}} - 100.0=0.0$"
      ],
      "text/plain": [
       "<IPython.core.display.Math object>"
      ]
     },
     "metadata": {},
     "output_type": "display_data"
    },
    {
     "data": {
      "text/latex": [
       "$\\displaystyle {{{opr}}}_{lii.charge, l, y{0}} - {{{cap}}}_{lii.charge, l, y{0}}=1.4210854715202004e-14$"
      ],
      "text/plain": [
       "<IPython.core.display.Math object>"
      ]
     },
     "metadata": {},
     "output_type": "display_data"
    },
    {
     "data": {
      "text/latex": [
       "$\\displaystyle {{{cap}}}_{lii.discharge, l, y{0}} - 100.0=0.0$"
      ],
      "text/plain": [
       "<IPython.core.display.Math object>"
      ]
     },
     "metadata": {},
     "output_type": "display_data"
    },
    {
     "data": {
      "text/latex": [
       "$\\displaystyle {{{opr}}}_{lii.discharge, l, y{0}} - {{{cap}}}_{lii.discharge, l, y{0}}=-10.0$"
      ],
      "text/plain": [
       "<IPython.core.display.Math object>"
      ]
     },
     "metadata": {},
     "output_type": "display_data"
    },
    {
     "data": {
      "text/latex": [
       "$\\displaystyle {{{cons}}}_{cement, l, y{0}} - 1000000.0=-895851.8518518518$"
      ],
      "text/plain": [
       "<IPython.core.display.Math object>"
      ]
     },
     "metadata": {},
     "output_type": "display_data"
    },
    {
     "data": {
      "text/latex": [
       "$\\displaystyle {{{inv}}}_{power.lii, l, q{0}} - {{{icap}}}_{power.lii, l, y{0}}=0.0$"
      ],
      "text/plain": [
       "<IPython.core.display.Math object>"
      ]
     },
     "metadata": {},
     "output_type": "display_data"
    },
    {
     "data": {
      "text/latex": [
       "$\\displaystyle {{{inv}}}_{power.lii, l, q{1}} - {{{icap}}}_{power.lii, l, y{0}}=0.0$"
      ],
      "text/plain": [
       "<IPython.core.display.Math object>"
      ]
     },
     "metadata": {},
     "output_type": "display_data"
    },
    {
     "data": {
      "text/latex": [
       "$\\displaystyle {{{inv}}}_{power.lii, l, q{2}} - {{{icap}}}_{power.lii, l, y{0}}=-27.160493827160437$"
      ],
      "text/plain": [
       "<IPython.core.display.Math object>"
      ]
     },
     "metadata": {},
     "output_type": "display_data"
    },
    {
     "data": {
      "text/latex": [
       "$\\displaystyle {{{inv}}}_{power.lii, l, q{3}} - {{{icap}}}_{power.lii, l, y{0}}=-27.160493827160437$"
      ],
      "text/plain": [
       "<IPython.core.display.Math object>"
      ]
     },
     "metadata": {},
     "output_type": "display_data"
    }
   ],
   "source": [
    "m.sol(False)"
   ]
  }
 ],
 "metadata": {
  "kernelspec": {
   "display_name": ".venv",
   "language": "python",
   "name": "python3"
  },
  "language_info": {
   "codemirror_mode": {
    "name": "ipython",
    "version": 3
   },
   "file_extension": ".py",
   "mimetype": "text/x-python",
   "name": "python",
   "nbconvert_exporter": "python",
   "pygments_lexer": "ipython3",
   "version": "3.13.7"
  }
 },
 "nbformat": 4,
 "nbformat_minor": 5
}
