{
 "cells": [
  {
   "cell_type": "markdown",
   "id": "c9f4fbeb",
   "metadata": {},
   "source": [
    "# Multiscale MILP with Materials and Emission\n",
    "\n",
    "This is a continuation of 'One Location, Multiple Temporal Scales, Multiple Operations, Mixed Integer Linear Programming Example' [Example 2]. \n",
    "\n",
    "We will be adding the following considerations: \n",
    "\n",
    "1. material for the establishment of operations \n",
    "2. global warming potential induced as a sum of our decisions and choices "
   ]
  },
  {
   "cell_type": "markdown",
   "id": "5be13056",
   "metadata": {},
   "source": [
    "## See Example 2"
   ]
  },
  {
   "cell_type": "code",
   "execution_count": 1,
   "id": "8214bb48",
   "metadata": {},
   "outputs": [],
   "source": [
    "from energia import *\n",
    "\n",
    "m = Model('example3')\n",
    "m.q = Periods()\n",
    "m.y = 4 * m.q"
   ]
  },
  {
   "cell_type": "code",
   "execution_count": 2,
   "id": "1ceac5e6",
   "metadata": {},
   "outputs": [
    {
     "name": "stderr",
     "output_type": "stream",
     "text": [
      "2025-10-23 13:29:35,039 [INFO] Balance for solar in (l0, q): initializing\n",
      "2025-10-23 13:29:35,040 [INFO] ✔ Completed in 0.00021266937255859375 seconds\n",
      "2025-10-23 13:29:35,040 [INFO] Binding consume in domain (solar, l0, q)\n",
      "2025-10-23 13:29:35,041 [INFO] ✔ Completed in 0.0001575946807861328 seconds\n",
      "2025-10-23 13:29:35,041 [INFO] Balance for wind in (l0, y): initializing\n",
      "2025-10-23 13:29:35,042 [INFO] ✔ Completed in 0.00013518333435058594 seconds\n",
      "2025-10-23 13:29:35,042 [INFO] Binding consume in domain (wind, l0, y)\n",
      "2025-10-23 13:29:35,043 [INFO] ✔ Completed in 9.059906005859375e-05 seconds\n",
      "2025-10-23 13:29:35,044 [INFO] Balance for power in (l0, q): initializing\n",
      "2025-10-23 13:29:35,044 [INFO] ✔ Completed in 0.00015497207641601562 seconds\n",
      "2025-10-23 13:29:35,045 [INFO] Binding release in domain (power, l0, q)\n",
      "2025-10-23 13:29:35,045 [INFO] ✔ Completed in 0.00017499923706054688 seconds\n",
      "2025-10-23 13:29:35,046 [INFO] Binding capacity in domain (wf, l0, y)\n",
      "2025-10-23 13:29:35,046 [INFO] ✔ Completed in 0.0001862049102783203 seconds\n",
      "2025-10-23 13:29:35,047 [INFO] Binding capacity in domain (wf, l0, y)\n",
      "2025-10-23 13:29:35,047 [INFO] ✔ Completed in 0.0001647472381591797 seconds\n",
      "2025-10-23 13:29:35,048 [INFO] Binding operate in domain (wf, l0, q)\n",
      "2025-10-23 13:29:35,048 [INFO] ✔ Completed in 0.00020456314086914062 seconds\n",
      "2025-10-23 13:29:35,049 [INFO] Mapping operate: (wf, l0, q) → (wf, l0, y)\n",
      "2025-10-23 13:29:35,049 [INFO] ✔ Completed in 0.00011038780212402344 seconds\n",
      "2025-10-23 13:29:35,050 [INFO] Binding capacity in domain (pv, l0, y)\n",
      "2025-10-23 13:29:35,051 [INFO] ✔ Completed in 0.0003142356872558594 seconds\n",
      "2025-10-23 13:29:35,051 [INFO] Binding capacity in domain (pv, l0, y)\n",
      "2025-10-23 13:29:35,052 [INFO] ✔ Completed in 0.0001666545867919922 seconds\n",
      "2025-10-23 13:29:35,052 [INFO] Binding operate in domain (pv, l0, q)\n",
      "2025-10-23 13:29:35,053 [INFO] ✔ Completed in 0.00021600723266601562 seconds\n",
      "2025-10-23 13:29:35,054 [INFO] Mapping operate: (pv, l0, q) → (pv, l0, y)\n",
      "2025-10-23 13:29:35,055 [INFO] ✔ Completed in 9.822845458984375e-05 seconds\n",
      "2025-10-23 13:29:35,055 [INFO] Binding invcapacity in domain (lii.stored, l0, y)\n",
      "2025-10-23 13:29:35,056 [INFO] ✔ Completed in 0.00014162063598632812 seconds\n",
      "2025-10-23 13:29:35,056 [INFO] Binding invcapacity in domain (lii.stored, l0, y)\n",
      "2025-10-23 13:29:35,057 [INFO] ✔ Completed in 0.00013303756713867188 seconds\n",
      "2025-10-23 13:29:35,058 [INFO] Balance for lii.stored in (l0, y): initializing\n",
      "2025-10-23 13:29:35,058 [INFO] Binding capacity in domain (lii.charge, l0, y)\n",
      "2025-10-23 13:29:35,059 [INFO] ✔ Completed in 7.104873657226562e-05 seconds\n",
      "2025-10-23 13:29:35,059 [INFO] Binding operate in domain (lii.charge, l0, y)\n",
      "2025-10-23 13:29:35,060 [INFO] ✔ Completed in 0.000118255615234375 seconds\n",
      "2025-10-23 13:29:35,060 [INFO] Binding capacity in domain (lii.discharge, l0, y)\n",
      "2025-10-23 13:29:35,060 [INFO] ✔ Completed in 8.106231689453125e-05 seconds\n",
      "2025-10-23 13:29:35,061 [INFO] Binding operate in domain (lii.discharge, l0, y)\n",
      "2025-10-23 13:29:35,061 [INFO] ✔ Completed in 0.0001068115234375 seconds\n"
     ]
    },
    {
     "name": "stdout",
     "output_type": "stream",
     "text": [
      "aaa η(lii.discharge, None)\n"
     ]
    }
   ],
   "source": [
    "m.usd = Currency()\n",
    "m.declare(Resource, ['power', 'wind', 'solar'])\n",
    "m.solar.consume(m.q) <= 100\n",
    "m.wind.consume <= 400\n",
    "m.power.release.prep(180) >= [0.6, 0.7, 0.8, 0.3]\n",
    "\n",
    "m.wf = Process()\n",
    "m.wf(m.power) == -1 * m.wind\n",
    "m.wf.capacity.x <= 100\n",
    "m.wf.capacity.x >= 10\n",
    "m.wf.operate.prep(norm=True) <= [0.9, 0.8, 0.5, 0.7]\n",
    "m.wf.capacity[m.usd.spend] == 990637 + 3354\n",
    "m.wf.operate[m.usd.spend] == 49\n",
    "\n",
    "m.pv = Process()\n",
    "m.pv(m.power) == -1 * m.solar\n",
    "m.pv.capacity.x <= 100\n",
    "m.pv.capacity.x >= 10\n",
    "m.pv.operate.prep(norm=True) <= [0.6, 0.8, 0.9, 0.7]\n",
    "m.pv.capacity[m.usd.spend] == 567000 + 872046\n",
    "m.pv.operate[m.usd.spend] == 90000\n",
    "\n",
    "m.lii = Storage()\n",
    "m.lii(m.power) == 0.9\n",
    "m.lii.capacity.x <= 100\n",
    "m.lii.capacity.x >= 10\n",
    "m.lii.capacity[m.usd.spend] == 1302182 + 41432\n",
    "m.lii.inventory[m.usd.spend] == 2000\n",
    "m.lii.charge.capacity <= 100\n",
    "m.lii.charge.operate <= 1\n",
    "m.lii.discharge.capacity <= 100\n",
    "m.lii.discharge.operate <= 1"
   ]
  },
  {
   "cell_type": "markdown",
   "id": "088d79b8",
   "metadata": {},
   "source": [
    "## Indicator Stream \n",
    "\n",
    "Indicators scale the impact of some decision or flow and project it only a common dimension allowing the calculation of overall impact as a single metric value\n",
    "\n",
    "In this case, we consider global warming potential (GWP)."
   ]
  },
  {
   "cell_type": "code",
   "execution_count": 3,
   "id": "809e08ab",
   "metadata": {},
   "outputs": [],
   "source": [
    "m.gwp = Environ()"
   ]
  },
  {
   "cell_type": "markdown",
   "id": "07adfca6",
   "metadata": {},
   "source": [
    "Now say that we want to consider the impact of setting up operations (specific to the act of construction)\n",
    "\n",
    "These can be provided as calculations "
   ]
  },
  {
   "cell_type": "code",
   "execution_count": 4,
   "id": "2db70e09",
   "metadata": {},
   "outputs": [
    {
     "data": {
      "text/latex": [
       "$\\displaystyle [26]\\text{   }{{emit}}_{gwp, l0, y, {capacity}, wf} - 1000 \\cdot {{{{cap}}}}_{wf, l0, y} = 0$"
      ],
      "text/plain": [
       "<IPython.core.display.Math object>"
      ]
     },
     "metadata": {},
     "output_type": "display_data"
    },
    {
     "data": {
      "text/latex": [
       "$\\displaystyle [27]\\text{   }{{{emit}}}_{gwp, l0, y, {capacity}, pv} - 2000 \\cdot {{{{cap}}}}_{pv, l0, y} = 0$"
      ],
      "text/plain": [
       "<IPython.core.display.Math object>"
      ]
     },
     "metadata": {},
     "output_type": "display_data"
    },
    {
     "data": {
      "text/latex": [
       "$\\displaystyle [28]\\text{   }{{{emit}}}_{gwp, l0, y, {invcapacity}, lii.stored} - 3000 \\cdot {{{icap}}}_{lii.stored, l0, y} = 0$"
      ],
      "text/plain": [
       "<IPython.core.display.Math object>"
      ]
     },
     "metadata": {},
     "output_type": "display_data"
    }
   ],
   "source": [
    "m.wf.capacity[m.gwp.emit] == 1000\n",
    "m.pv.capacity[m.gwp.emit] == 2000\n",
    "m.lii.capacity[m.gwp.emit] == 3000\n",
    "m.emit.show()"
   ]
  },
  {
   "cell_type": "markdown",
   "id": "8eb9ce25",
   "metadata": {},
   "source": [
    "Note that impact streams are mapped across scales but not balanced, unless a negative (relatively) impact is also assessed! In the case of emission, this would be abatement."
   ]
  },
  {
   "cell_type": "markdown",
   "id": "bd05088d",
   "metadata": {},
   "source": [
    "## Material Stream\n",
    "\n",
    "Note that all the objects found in energia.components.commodity.misc are still resources (Land, Material, etc.)\n",
    "\n",
    "This will allow for the modeling of an expansive type of processes.\n",
    "\n",
    "Examples:\n",
    "\n",
    "1. land clearance to transform agricultural land into industrial, or land remediation \n",
    "2. resource intense material recycling \n",
    "3. some resource flowing being treated as emission flows \n",
    "\n",
    "The possibilities are vast... The advanced modeler may prefer to use Resource() for everything [see Resource Task Network (RTN) Framework]\n",
    "\n",
    "In the following example, we consider a limit to cement consumption, as also an expense and gwp impact associated with it"
   ]
  },
  {
   "cell_type": "code",
   "execution_count": 5,
   "id": "9ce76f6f",
   "metadata": {},
   "outputs": [
    {
     "name": "stderr",
     "output_type": "stream",
     "text": [
      "2025-10-23 13:29:35,082 [INFO] Balance for cement in (l0, y): initializing\n",
      "2025-10-23 13:29:35,083 [INFO] ✔ Completed in 0.00020003318786621094 seconds\n",
      "2025-10-23 13:29:35,084 [INFO] Binding consume in domain (cement, l0, y)\n",
      "2025-10-23 13:29:35,084 [INFO] ✔ Completed in 9.274482727050781e-05 seconds\n"
     ]
    }
   ],
   "source": [
    "m.cement = Material()\n",
    "m.cement.consume <= 1000000\n",
    "m.cement.consume[m.usd.spend] == 17\n",
    "m.cement.consume[m.gwp.emit] == 0.9"
   ]
  },
  {
   "cell_type": "markdown",
   "id": "f21caa2c",
   "metadata": {},
   "source": [
    "Next, we provide details of the use of cement across all operations "
   ]
  },
  {
   "cell_type": "code",
   "execution_count": 6,
   "id": "35dc4891",
   "metadata": {},
   "outputs": [
    {
     "name": "stderr",
     "output_type": "stream",
     "text": [
      "2025-10-23 13:29:35,091 [INFO] Balance for cement in (l0, y): adding use(cement, l0, y, capacity, wf)\n",
      "2025-10-23 13:29:35,091 [INFO] ✔ Completed in 0.0002818107604980469 seconds\n",
      "2025-10-23 13:29:35,092 [INFO] Balance for cement in (l0, y): adding use(cement, l0, y, capacity, pv)\n",
      "2025-10-23 13:29:35,093 [INFO] ✔ Completed in 0.00012731552124023438 seconds\n",
      "2025-10-23 13:29:35,094 [INFO] Balance for cement in (l0, y): adding use(cement, l0, y, invcapacity, lii.stored)\n",
      "2025-10-23 13:29:35,095 [INFO] ✔ Completed in 0.0001220703125 seconds\n"
     ]
    }
   ],
   "source": [
    "m.wf.capacity[m.cement.use] == 400\n",
    "m.pv.capacity[m.cement.use] == 560\n",
    "m.lii.capacity[m.cement.use] == 300"
   ]
  },
  {
   "cell_type": "markdown",
   "id": "efc3693a",
   "metadata": {},
   "source": [
    "Material use is summed up across all operations, and adheres to an upper bound in terms of consumption. "
   ]
  },
  {
   "cell_type": "code",
   "execution_count": 7,
   "id": "6efcaa6f",
   "metadata": {},
   "outputs": [
    {
     "data": {
      "text/latex": [
       "$\\displaystyle [29]\\text{   }{{{{cons}}}}_{cement, l0, y} - {{use}}_{cement, l0, y, {capacity}, wf} - {{{use}}}_{cement, l0, y, {capacity}, pv} - {{{use}}}_{cement, l0, y, {invcapacity}, lii.stored} = 0$"
      ],
      "text/plain": [
       "<IPython.core.display.Math object>"
      ]
     },
     "metadata": {},
     "output_type": "display_data"
    },
    {
     "data": {
      "text/latex": [
       "$\\displaystyle [30]\\text{   }{{{{cons}}}}_{cement, l0, y} - 1000000 \\leq 0$"
      ],
      "text/plain": [
       "<IPython.core.display.Math object>"
      ]
     },
     "metadata": {},
     "output_type": "display_data"
    },
    {
     "data": {
      "text/latex": [
       "$\\displaystyle [31]\\text{   }{{{spend}}}_{usd, l0, y, {consume}, cement} - 17 \\cdot {{{{cons}}}}_{cement, l0, y} = 0$"
      ],
      "text/plain": [
       "<IPython.core.display.Math object>"
      ]
     },
     "metadata": {},
     "output_type": "display_data"
    },
    {
     "data": {
      "text/latex": [
       "$\\displaystyle [32]\\text{   }{{{emit}}}_{gwp, l0, y, {consume}, cement} - 0.9 \\cdot {{{{cons}}}}_{cement, l0, y} = 0$"
      ],
      "text/plain": [
       "<IPython.core.display.Math object>"
      ]
     },
     "metadata": {},
     "output_type": "display_data"
    },
    {
     "data": {
      "text/latex": [
       "$\\displaystyle [33]\\text{   }{{use}}_{cement, l0, y, {capacity}, wf} - 400 \\cdot {{{{cap}}}}_{wf, l0, y} = 0$"
      ],
      "text/plain": [
       "<IPython.core.display.Math object>"
      ]
     },
     "metadata": {},
     "output_type": "display_data"
    },
    {
     "data": {
      "text/latex": [
       "$\\displaystyle [34]\\text{   }{{{use}}}_{cement, l0, y, {capacity}, pv} - 560 \\cdot {{{{cap}}}}_{pv, l0, y} = 0$"
      ],
      "text/plain": [
       "<IPython.core.display.Math object>"
      ]
     },
     "metadata": {},
     "output_type": "display_data"
    },
    {
     "data": {
      "text/latex": [
       "$\\displaystyle [35]\\text{   }{{{use}}}_{cement, l0, y, {invcapacity}, lii.stored} - 300 \\cdot {{{icap}}}_{lii.stored, l0, y} = 0$"
      ],
      "text/plain": [
       "<IPython.core.display.Math object>"
      ]
     },
     "metadata": {},
     "output_type": "display_data"
    }
   ],
   "source": [
    "m.cement.show()"
   ]
  },
  {
   "cell_type": "markdown",
   "id": "f73d5788",
   "metadata": {},
   "source": [
    "GWP impact is now the sum of impact from material use as well as constuction "
   ]
  },
  {
   "cell_type": "code",
   "execution_count": 8,
   "id": "d7cb14c1",
   "metadata": {},
   "outputs": [
    {
     "data": {
      "text/latex": [
       "$\\displaystyle [26]\\text{   }{{emit}}_{gwp, l0, y, {capacity}, wf} - 1000 \\cdot {{{{cap}}}}_{wf, l0, y} = 0$"
      ],
      "text/plain": [
       "<IPython.core.display.Math object>"
      ]
     },
     "metadata": {},
     "output_type": "display_data"
    },
    {
     "data": {
      "text/latex": [
       "$\\displaystyle [27]\\text{   }{{{emit}}}_{gwp, l0, y, {capacity}, pv} - 2000 \\cdot {{{{cap}}}}_{pv, l0, y} = 0$"
      ],
      "text/plain": [
       "<IPython.core.display.Math object>"
      ]
     },
     "metadata": {},
     "output_type": "display_data"
    },
    {
     "data": {
      "text/latex": [
       "$\\displaystyle [28]\\text{   }{{{emit}}}_{gwp, l0, y, {invcapacity}, lii.stored} - 3000 \\cdot {{{icap}}}_{lii.stored, l0, y} = 0$"
      ],
      "text/plain": [
       "<IPython.core.display.Math object>"
      ]
     },
     "metadata": {},
     "output_type": "display_data"
    },
    {
     "data": {
      "text/latex": [
       "$\\displaystyle [32]\\text{   }{{{emit}}}_{gwp, l0, y, {consume}, cement} - 0.9 \\cdot {{{{cons}}}}_{cement, l0, y} = 0$"
      ],
      "text/plain": [
       "<IPython.core.display.Math object>"
      ]
     },
     "metadata": {},
     "output_type": "display_data"
    }
   ],
   "source": [
    "m.emit.show()"
   ]
  },
  {
   "cell_type": "markdown",
   "id": "fee37f29",
   "metadata": {},
   "source": [
    "## Locate Operations"
   ]
  },
  {
   "cell_type": "code",
   "execution_count": 9,
   "id": "cb7e5496",
   "metadata": {},
   "outputs": [
    {
     "name": "stderr",
     "output_type": "stream",
     "text": [
      "2025-10-23 13:29:35,119 [INFO] Balance for power in (l0, q): adding produce(power, l0, q, operate, wf)\n",
      "2025-10-23 13:29:35,120 [INFO] ✔ Completed in 0.0002014636993408203 seconds\n",
      "2025-10-23 13:29:35,121 [INFO] Balance for wind in (l0, y): adding expend(wind, l0, y, operate, wf)\n",
      "2025-10-23 13:29:35,122 [INFO] ✔ Completed in 0.0001354217529296875 seconds\n",
      "2025-10-23 13:29:35,123 [INFO] Balance for power in (l0, q): adding produce(power, l0, q, operate, pv)\n",
      "2025-10-23 13:29:35,124 [INFO] ✔ Completed in 0.0001819133758544922 seconds\n",
      "2025-10-23 13:29:35,125 [INFO] Balance for solar in (l0, q): adding expend(solar, l0, q, operate, pv)\n",
      "2025-10-23 13:29:35,125 [INFO] ✔ Completed in 0.00017523765563964844 seconds\n",
      "2025-10-23 13:29:35,126 [INFO] Assuming  lii.stored inventory capacity is unbounded in (l0, y)\n",
      "2025-10-23 13:29:35,126 [INFO] Assuming inventory of lii.stored is unbounded in (l0, y)\n",
      "2025-10-23 13:29:35,127 [INFO] Assuming inventory of lii.stored is bound by inventory capacity in (l0, q)\n",
      "2025-10-23 13:29:35,128 [INFO] Mapping inventory: (lii.stored, l0, q) → (lii.stored, l0, y)\n",
      "2025-10-23 13:29:35,128 [INFO] ✔ Completed in 0.0001246929168701172 seconds\n",
      "2025-10-23 13:29:35,129 [INFO] Balance for lii.stored in (l0, q): initializing\n",
      "2025-10-23 13:29:35,130 [INFO] ✔ Completed in 0.0002720355987548828 seconds\n",
      "2025-10-23 13:29:35,130 [INFO] Binding inventory in domain (lii.stored, l0, q)\n",
      "2025-10-23 13:29:35,130 [INFO] ✔ Completed in 0.00015473365783691406 seconds\n",
      "2025-10-23 13:29:35,131 [INFO] Balance for lii.stored in (l0, q): adding produce(lii.stored, l0, q, operate, lii.charge)\n",
      "2025-10-23 13:29:35,132 [INFO] ✔ Completed in 0.0001556873321533203 seconds\n",
      "2025-10-23 13:29:35,132 [INFO] Mapping operate: (lii.charge, l0, q) → (lii.charge, l0, y)\n",
      "2025-10-23 13:29:35,133 [INFO] ✔ Completed in 0.0001373291015625 seconds\n",
      "2025-10-23 13:29:35,134 [INFO] Balance for power in (l0, q): adding expend(power, l0, q, operate, lii.charge)\n",
      "2025-10-23 13:29:35,134 [INFO] ✔ Completed in 0.00017213821411132812 seconds\n",
      "2025-10-23 13:29:35,135 [INFO] Balance for power in (l0, q): adding produce(power, l0, q, operate, lii.discharge)\n",
      "2025-10-23 13:29:35,136 [INFO] ✔ Completed in 0.0001804828643798828 seconds\n",
      "2025-10-23 13:29:35,138 [INFO] Mapping operate: (lii.discharge, l0, q) → (lii.discharge, l0, y)\n",
      "2025-10-23 13:29:35,139 [INFO] ✔ Completed in 0.00011420249938964844 seconds\n",
      "2025-10-23 13:29:35,140 [INFO] Balance for lii.stored in (l0, q): adding expend(lii.stored, l0, q, operate, lii.discharge)\n",
      "2025-10-23 13:29:35,141 [INFO] ✔ Completed in 0.00027823448181152344 seconds\n"
     ]
    }
   ],
   "source": [
    "m.network.locate(m.wf, m.pv, m.lii)"
   ]
  },
  {
   "cell_type": "markdown",
   "id": "df4accdc",
   "metadata": {},
   "source": [
    "## Optimization \n",
    "\n",
    "Let us minimize GWP this time. Note that m.usd.spend.opt() can still be used!"
   ]
  },
  {
   "cell_type": "code",
   "execution_count": 10,
   "id": "b762aea8",
   "metadata": {},
   "outputs": [
    {
     "name": "stderr",
     "output_type": "stream",
     "text": [
      "2025-10-23 13:29:35,147 [INFO] Mapping emit: (gwp, l0, y, capacity, wf) → (gwp, l0, y)\n",
      "2025-10-23 13:29:35,148 [INFO] ✔ Completed in 0.00015854835510253906 seconds\n",
      "2025-10-23 13:29:35,149 [INFO] Mapping emit: (gwp, l0, y, capacity, pv) → (gwp, l0, y)\n",
      "2025-10-23 13:29:35,149 [INFO] ✔ Completed in 0.0001430511474609375 seconds\n",
      "2025-10-23 13:29:35,150 [INFO] Mapping emit: (gwp, l0, y, invcapacity, lii.stored) → (gwp, l0, y)\n",
      "2025-10-23 13:29:35,150 [INFO] ✔ Completed in 0.00012493133544921875 seconds\n",
      "2025-10-23 13:29:35,151 [INFO] Mapping emit: (gwp, l0, y, consume, cement) → (gwp, l0, y)\n",
      "2025-10-23 13:29:35,151 [INFO] ✔ Completed in 0.00013113021850585938 seconds\n",
      "2025-10-23 13:29:35,152 [INFO] Generating Program(example3).mps\n",
      "2025-10-23 13:29:35,156 [INFO] Creating gurobi model for Program(example3)\n"
     ]
    },
    {
     "name": "stdout",
     "output_type": "stream",
     "text": [
      "Set parameter Username\n",
      "Academic license - for non-commercial use only - expires 2026-08-01\n",
      "Read MPS format model from file Program(example3).mps\n",
      "Reading time = 0.00 seconds\n",
      "PROGRAM(EXAMPLE3): 95 rows, 87 columns, 217 nonzeros\n"
     ]
    },
    {
     "name": "stderr",
     "output_type": "stream",
     "text": [
      "2025-10-23 13:29:35,162 [INFO] Optimizing Program(example3) using gurobi\n"
     ]
    },
    {
     "name": "stdout",
     "output_type": "stream",
     "text": [
      "Gurobi Optimizer version 12.0.3 build v12.0.3rc0 (win64 - Windows 11.0 (26100.2))\n",
      "\n",
      "CPU model: 13th Gen Intel(R) Core(TM) i7-13700, instruction set [SSE2|AVX|AVX2]\n",
      "Thread count: 16 physical cores, 24 logical processors, using up to 24 threads\n",
      "\n",
      "Optimize a model with 95 rows, 87 columns and 217 nonzeros\n",
      "Model fingerprint: 0x39a95d48\n",
      "Variable types: 84 continuous, 3 integer (3 binary)\n",
      "Coefficient statistics:\n",
      "  Matrix range     [6e-01, 1e+06]\n",
      "  Objective range  [1e+00, 1e+00]\n",
      "  Bounds range     [1e+00, 1e+00]\n",
      "  RHS range        [7e+01, 1e+06]\n",
      "Presolve removed 83 rows and 76 columns\n",
      "Presolve time: 0.00s\n",
      "Presolved: 12 rows, 11 columns, 38 nonzeros\n",
      "Variable types: 11 continuous, 0 integer (0 binary)\n",
      "\n",
      "Root relaxation: objective 4.752148e+05, 4 iterations, 0.00 seconds (0.00 work units)\n",
      "\n",
      "    Nodes    |    Current Node    |     Objective Bounds      |     Work\n",
      " Expl Unexpl |  Obj  Depth IntInf | Incumbent    BestBd   Gap | It/Node Time\n",
      "\n",
      "*    0     0               0    475214.81481 475214.815  0.00%     -    0s\n",
      "\n",
      "Explored 1 nodes (4 simplex iterations) in 0.01 seconds (0.00 work units)\n",
      "Thread count was 24 (of 24 available processors)\n",
      "\n",
      "Solution count 1: 475215 \n",
      "\n",
      "Optimal solution found (tolerance 1.00e-04)\n",
      "Best objective 4.752148148148e+05, best bound 4.752148148148e+05, gap 0.0000%\n"
     ]
    },
    {
     "name": "stderr",
     "output_type": "stream",
     "text": [
      "2025-10-23 13:29:35,175 [INFO] Solution found. Use .output() to display it\n",
      "2025-10-23 13:29:35,175 [INFO] Creating Solution object, check.solution\n"
     ]
    }
   ],
   "source": [
    "m.gwp.emit.opt()"
   ]
  },
  {
   "cell_type": "code",
   "execution_count": 11,
   "id": "0ab032ad",
   "metadata": {},
   "outputs": [
    {
     "data": {
      "text/plain": [
       "87"
      ]
     },
     "execution_count": 11,
     "metadata": {},
     "output_type": "execute_result"
    }
   ],
   "source": [
    "len(m.variables)"
   ]
  },
  {
   "cell_type": "code",
   "execution_count": 12,
   "id": "dfae8999",
   "metadata": {},
   "outputs": [
    {
     "data": {
      "text/markdown": [
       "# Mathematical Program for Program(example3)"
      ],
      "text/plain": [
       "<IPython.core.display.Markdown object>"
      ]
     },
     "metadata": {},
     "output_type": "display_data"
    },
    {
     "data": {
      "text/markdown": [
       "<br><br>"
      ],
      "text/plain": [
       "<IPython.core.display.Markdown object>"
      ]
     },
     "metadata": {},
     "output_type": "display_data"
    },
    {
     "data": {
      "text/markdown": [
       "## Index Sets"
      ],
      "text/plain": [
       "<IPython.core.display.Markdown object>"
      ]
     },
     "metadata": {},
     "output_type": "display_data"
    },
    {
     "data": {
      "text/latex": [
       "$\\displaystyle currencies = \\{ usd \\}$"
      ],
      "text/plain": [
       "<IPython.core.display.Math object>"
      ]
     },
     "metadata": {},
     "output_type": "display_data"
    },
    {
     "data": {
      "text/latex": [
       "$\\displaystyle resources = \\{ power, wind, solar, lii.stored \\}$"
      ],
      "text/plain": [
       "<IPython.core.display.Math object>"
      ]
     },
     "metadata": {},
     "output_type": "display_data"
    },
    {
     "data": {
      "text/latex": [
       "$\\displaystyle locations = \\{ l0 \\}$"
      ],
      "text/plain": [
       "<IPython.core.display.Math object>"
      ]
     },
     "metadata": {},
     "output_type": "display_data"
    },
    {
     "data": {
      "text/latex": [
       "$\\displaystyle q = \\{ {q_{0}}, {q_{1}}, {q_{2}}, {q_{3}} \\}$"
      ],
      "text/plain": [
       "<IPython.core.display.Math object>"
      ]
     },
     "metadata": {},
     "output_type": "display_data"
    },
    {
     "data": {
      "text/latex": [
       "$\\displaystyle y = \\{ {y_{0}} \\}$"
      ],
      "text/plain": [
       "<IPython.core.display.Math object>"
      ]
     },
     "metadata": {},
     "output_type": "display_data"
    },
    {
     "data": {
      "text/latex": [
       "$\\displaystyle processes = \\{ wf, pv, lii.charge, lii.discharge \\}$"
      ],
      "text/plain": [
       "<IPython.core.display.Math object>"
      ]
     },
     "metadata": {},
     "output_type": "display_data"
    },
    {
     "data": {
      "text/latex": [
       "$\\displaystyle storages = \\{ lii \\}$"
      ],
      "text/plain": [
       "<IPython.core.display.Math object>"
      ]
     },
     "metadata": {},
     "output_type": "display_data"
    },
    {
     "data": {
      "text/latex": [
       "$\\displaystyle materials = \\{ cement \\}$"
      ],
      "text/plain": [
       "<IPython.core.display.Math object>"
      ]
     },
     "metadata": {},
     "output_type": "display_data"
    },
    {
     "data": {
      "text/markdown": [
       "<br><br>"
      ],
      "text/plain": [
       "<IPython.core.display.Markdown object>"
      ]
     },
     "metadata": {},
     "output_type": "display_data"
    },
    {
     "data": {
      "text/markdown": [
       "## Objective"
      ],
      "text/plain": [
       "<IPython.core.display.Markdown object>"
      ]
     },
     "metadata": {},
     "output_type": "display_data"
    },
    {
     "data": {
      "text/latex": [
       "$\\displaystyle min \\hspace{0.2cm} {{emit}}_{gwp, l0, y{0}}$"
      ],
      "text/plain": [
       "<IPython.core.display.Math object>"
      ]
     },
     "metadata": {},
     "output_type": "display_data"
    },
    {
     "data": {
      "text/markdown": [
       "<br><br>"
      ],
      "text/plain": [
       "<IPython.core.display.Markdown object>"
      ]
     },
     "metadata": {},
     "output_type": "display_data"
    },
    {
     "data": {
      "text/markdown": [
       "## s.t."
      ],
      "text/plain": [
       "<IPython.core.display.Markdown object>"
      ]
     },
     "metadata": {},
     "output_type": "display_data"
    },
    {
     "data": {
      "text/markdown": [
       "### Balance Constraint Sets"
      ],
      "text/plain": [
       "<IPython.core.display.Markdown object>"
      ]
     },
     "metadata": {},
     "output_type": "display_data"
    },
    {
     "data": {
      "text/latex": [
       "$\\displaystyle [0]\\text{   }{{{cons}}}_{solar, l0, q} - {{{{expd}}}}_{solar, l0, q, {operate}, pv} = 0$"
      ],
      "text/plain": [
       "<IPython.core.display.Math object>"
      ]
     },
     "metadata": {},
     "output_type": "display_data"
    },
    {
     "data": {
      "text/latex": [
       "$\\displaystyle [2]\\text{   }{{{{cons}}}}_{wind, l0, y} - {{{expd}}}_{wind, l0, y, {operate}, wf} = 0$"
      ],
      "text/plain": [
       "<IPython.core.display.Math object>"
      ]
     },
     "metadata": {},
     "output_type": "display_data"
    },
    {
     "data": {
      "text/latex": [
       "$\\displaystyle [4]\\text{   }-{{{rlse}}}_{power, l0, q} + {{prod}}_{power, l0, q, {operate}, wf} + {{{prod}}}_{power, l0, q, {operate}, pv} - {{{{expd}}}}_{power, l0, q, {operate}, lii.charge} + {{{prod}}}_{power, l0, q, {operate}, lii.discharge} = 0$"
      ],
      "text/plain": [
       "<IPython.core.display.Math object>"
      ]
     },
     "metadata": {},
     "output_type": "display_data"
    },
    {
     "data": {
      "text/latex": [
       "$\\displaystyle [29]\\text{   }{{{{cons}}}}_{cement, l0, y} - {{use}}_{cement, l0, y, {capacity}, wf} - {{{use}}}_{cement, l0, y, {capacity}, pv} - {{{use}}}_{cement, l0, y, {invcapacity}, lii.stored} = 0$"
      ],
      "text/plain": [
       "<IPython.core.display.Math object>"
      ]
     },
     "metadata": {},
     "output_type": "display_data"
    },
    {
     "data": {
      "text/latex": [
       "$\\displaystyle [41]\\text{   }-{{{{inv}}}}_{lii.stored, l0, q} + {{{{inv}}}}_{lii.stored, l0, q-1} + {{{prod}}}_{lii.stored, l0, q, {operate}, lii.charge} - {{{{expd}}}}_{lii.stored, l0, q, {operate}, lii.discharge} = 0$"
      ],
      "text/plain": [
       "<IPython.core.display.Math object>"
      ]
     },
     "metadata": {},
     "output_type": "display_data"
    },
    {
     "data": {
      "text/markdown": [
       "### Bound Constraint Sets"
      ],
      "text/plain": [
       "<IPython.core.display.Markdown object>"
      ]
     },
     "metadata": {},
     "output_type": "display_data"
    },
    {
     "data": {
      "text/latex": [
       "$\\displaystyle [1]\\text{   }{{{cons}}}_{solar, l0, q} - 100 \\leq 0$"
      ],
      "text/plain": [
       "<IPython.core.display.Math object>"
      ]
     },
     "metadata": {},
     "output_type": "display_data"
    },
    {
     "data": {
      "text/latex": [
       "$\\displaystyle [3]\\text{   }{{{{cons}}}}_{wind, l0, y} - 400 \\leq 0$"
      ],
      "text/plain": [
       "<IPython.core.display.Math object>"
      ]
     },
     "metadata": {},
     "output_type": "display_data"
    },
    {
     "data": {
      "text/latex": [
       "$\\displaystyle [5]\\text{   }-{{{rlse}}}_{power, l0, q} + {φ}_{} \\leq 0$"
      ],
      "text/plain": [
       "<IPython.core.display.Math object>"
      ]
     },
     "metadata": {},
     "output_type": "display_data"
    },
    {
     "data": {
      "text/latex": [
       "$\\displaystyle [6]\\text{   }{{{cap}}}_{wf, l0, y} - 100 \\cdot {{{\\breve{{cap}}}}}_{wf, l0, y} \\leq 0$"
      ],
      "text/plain": [
       "<IPython.core.display.Math object>"
      ]
     },
     "metadata": {},
     "output_type": "display_data"
    },
    {
     "data": {
      "text/latex": [
       "$\\displaystyle [7]\\text{   }10 \\cdot {{{\\breve{{cap}}}}}_{wf, l0, y} - {{{cap}}}_{wf, l0, y} \\leq 0$"
      ],
      "text/plain": [
       "<IPython.core.display.Math object>"
      ]
     },
     "metadata": {},
     "output_type": "display_data"
    },
    {
     "data": {
      "text/latex": [
       "$\\displaystyle [8]\\text{   }{{{opr}}}_{wf, l0, q} - {φ}_{} \\cdot {{{cap}}}_{wf, l0, y} \\leq 0$"
      ],
      "text/plain": [
       "<IPython.core.display.Math object>"
      ]
     },
     "metadata": {},
     "output_type": "display_data"
    },
    {
     "data": {
      "text/latex": [
       "$\\displaystyle [12]\\text{   }{{{{cap}}}}_{pv, l0, y} - 100 \\cdot {{{{\\breve{{cap}}}}}}_{pv, l0, y} \\leq 0$"
      ],
      "text/plain": [
       "<IPython.core.display.Math object>"
      ]
     },
     "metadata": {},
     "output_type": "display_data"
    },
    {
     "data": {
      "text/latex": [
       "$\\displaystyle [13]\\text{   }10 \\cdot {{{{\\breve{{cap}}}}}}_{pv, l0, y} - {{{{cap}}}}_{pv, l0, y} \\leq 0$"
      ],
      "text/plain": [
       "<IPython.core.display.Math object>"
      ]
     },
     "metadata": {},
     "output_type": "display_data"
    },
    {
     "data": {
      "text/latex": [
       "$\\displaystyle [14]\\text{   }{{{{opr}}}}_{pv, l0, q} - {φ}_{} \\cdot {{{{cap}}}}_{pv, l0, y} \\leq 0$"
      ],
      "text/plain": [
       "<IPython.core.display.Math object>"
      ]
     },
     "metadata": {},
     "output_type": "display_data"
    },
    {
     "data": {
      "text/latex": [
       "$\\displaystyle [18]\\text{   }{{{icap}}}_{lii.stored, l0, y} - 100 \\cdot {{{\\breve{{icap}}}}}_{lii.stored, l0, y} \\leq 0$"
      ],
      "text/plain": [
       "<IPython.core.display.Math object>"
      ]
     },
     "metadata": {},
     "output_type": "display_data"
    },
    {
     "data": {
      "text/latex": [
       "$\\displaystyle [19]\\text{   }10 \\cdot {{{\\breve{{icap}}}}}_{lii.stored, l0, y} - {{{icap}}}_{lii.stored, l0, y} \\leq 0$"
      ],
      "text/plain": [
       "<IPython.core.display.Math object>"
      ]
     },
     "metadata": {},
     "output_type": "display_data"
    },
    {
     "data": {
      "text/latex": [
       "$\\displaystyle [22]\\text{   }{{{{cap}}}}_{lii.charge, l0, y} - 100 \\leq 0$"
      ],
      "text/plain": [
       "<IPython.core.display.Math object>"
      ]
     },
     "metadata": {},
     "output_type": "display_data"
    },
    {
     "data": {
      "text/latex": [
       "$\\displaystyle [23]\\text{   }{{{{opr}}}}_{lii.charge, l0, y} - {{{{cap}}}}_{lii.charge, l0, y} \\leq 0$"
      ],
      "text/plain": [
       "<IPython.core.display.Math object>"
      ]
     },
     "metadata": {},
     "output_type": "display_data"
    },
    {
     "data": {
      "text/latex": [
       "$\\displaystyle [24]\\text{   }{{{{cap}}}}_{lii.discharge, l0, y} - 100 \\leq 0$"
      ],
      "text/plain": [
       "<IPython.core.display.Math object>"
      ]
     },
     "metadata": {},
     "output_type": "display_data"
    },
    {
     "data": {
      "text/latex": [
       "$\\displaystyle [25]\\text{   }{{{{opr}}}}_{lii.discharge, l0, y} - {{{{cap}}}}_{lii.discharge, l0, y} \\leq 0$"
      ],
      "text/plain": [
       "<IPython.core.display.Math object>"
      ]
     },
     "metadata": {},
     "output_type": "display_data"
    },
    {
     "data": {
      "text/latex": [
       "$\\displaystyle [30]\\text{   }{{{{cons}}}}_{cement, l0, y} - 1000000 \\leq 0$"
      ],
      "text/plain": [
       "<IPython.core.display.Math object>"
      ]
     },
     "metadata": {},
     "output_type": "display_data"
    },
    {
     "data": {
      "text/latex": [
       "$\\displaystyle [42]\\text{   }{{{{inv}}}}_{lii.stored, l0, q} - {{{icap}}}_{lii.stored, l0, y} \\leq 0$"
      ],
      "text/plain": [
       "<IPython.core.display.Math object>"
      ]
     },
     "metadata": {},
     "output_type": "display_data"
    },
    {
     "data": {
      "text/markdown": [
       "### Calculation Constraint Sets"
      ],
      "text/plain": [
       "<IPython.core.display.Markdown object>"
      ]
     },
     "metadata": {},
     "output_type": "display_data"
    },
    {
     "data": {
      "text/latex": [
       "$\\displaystyle [9]\\text{   }{{spend}}_{usd, l0, y, {capacity}, wf} - 993991 \\cdot {{{cap}}}_{wf, l0, y} = 0$"
      ],
      "text/plain": [
       "<IPython.core.display.Math object>"
      ]
     },
     "metadata": {},
     "output_type": "display_data"
    },
    {
     "data": {
      "text/latex": [
       "$\\displaystyle [11]\\text{   }{{{spend}}}_{usd, l0, y, {operate}, wf} - 49 \\cdot {{{{opr}}}}_{wf, l0, y} = 0$"
      ],
      "text/plain": [
       "<IPython.core.display.Math object>"
      ]
     },
     "metadata": {},
     "output_type": "display_data"
    },
    {
     "data": {
      "text/latex": [
       "$\\displaystyle [15]\\text{   }{{{spend}}}_{usd, l0, y, {capacity}, pv} - 1439046 \\cdot {{{{cap}}}}_{pv, l0, y} = 0$"
      ],
      "text/plain": [
       "<IPython.core.display.Math object>"
      ]
     },
     "metadata": {},
     "output_type": "display_data"
    },
    {
     "data": {
      "text/latex": [
       "$\\displaystyle [17]\\text{   }{{{spend}}}_{usd, l0, y, {operate}, pv} - 90000 \\cdot {{{{opr}}}}_{pv, l0, y} = 0$"
      ],
      "text/plain": [
       "<IPython.core.display.Math object>"
      ]
     },
     "metadata": {},
     "output_type": "display_data"
    },
    {
     "data": {
      "text/latex": [
       "$\\displaystyle [20]\\text{   }{{{spend}}}_{usd, l0, y, {invcapacity}, lii.stored} - 1343614 \\cdot {{{icap}}}_{lii.stored, l0, y} = 0$"
      ],
      "text/plain": [
       "<IPython.core.display.Math object>"
      ]
     },
     "metadata": {},
     "output_type": "display_data"
    },
    {
     "data": {
      "text/latex": [
       "$\\displaystyle [21]\\text{   }{{{spend}}}_{usd, l0, y, {inventory}, lii.stored} - 2000 \\cdot {{{inv}}}_{lii.stored, l0, y} = 0$"
      ],
      "text/plain": [
       "<IPython.core.display.Math object>"
      ]
     },
     "metadata": {},
     "output_type": "display_data"
    },
    {
     "data": {
      "text/latex": [
       "$\\displaystyle [26]\\text{   }{{emit}}_{gwp, l0, y, {capacity}, wf} - 1000 \\cdot {{{{cap}}}}_{wf, l0, y} = 0$"
      ],
      "text/plain": [
       "<IPython.core.display.Math object>"
      ]
     },
     "metadata": {},
     "output_type": "display_data"
    },
    {
     "data": {
      "text/latex": [
       "$\\displaystyle [27]\\text{   }{{{emit}}}_{gwp, l0, y, {capacity}, pv} - 2000 \\cdot {{{{cap}}}}_{pv, l0, y} = 0$"
      ],
      "text/plain": [
       "<IPython.core.display.Math object>"
      ]
     },
     "metadata": {},
     "output_type": "display_data"
    },
    {
     "data": {
      "text/latex": [
       "$\\displaystyle [28]\\text{   }{{{emit}}}_{gwp, l0, y, {invcapacity}, lii.stored} - 3000 \\cdot {{{icap}}}_{lii.stored, l0, y} = 0$"
      ],
      "text/plain": [
       "<IPython.core.display.Math object>"
      ]
     },
     "metadata": {},
     "output_type": "display_data"
    },
    {
     "data": {
      "text/latex": [
       "$\\displaystyle [31]\\text{   }{{{spend}}}_{usd, l0, y, {consume}, cement} - 17 \\cdot {{{{cons}}}}_{cement, l0, y} = 0$"
      ],
      "text/plain": [
       "<IPython.core.display.Math object>"
      ]
     },
     "metadata": {},
     "output_type": "display_data"
    },
    {
     "data": {
      "text/latex": [
       "$\\displaystyle [32]\\text{   }{{{emit}}}_{gwp, l0, y, {consume}, cement} - 0.9 \\cdot {{{{cons}}}}_{cement, l0, y} = 0$"
      ],
      "text/plain": [
       "<IPython.core.display.Math object>"
      ]
     },
     "metadata": {},
     "output_type": "display_data"
    },
    {
     "data": {
      "text/latex": [
       "$\\displaystyle [33]\\text{   }{{use}}_{cement, l0, y, {capacity}, wf} - 400 \\cdot {{{{cap}}}}_{wf, l0, y} = 0$"
      ],
      "text/plain": [
       "<IPython.core.display.Math object>"
      ]
     },
     "metadata": {},
     "output_type": "display_data"
    },
    {
     "data": {
      "text/latex": [
       "$\\displaystyle [34]\\text{   }{{{use}}}_{cement, l0, y, {capacity}, pv} - 560 \\cdot {{{{cap}}}}_{pv, l0, y} = 0$"
      ],
      "text/plain": [
       "<IPython.core.display.Math object>"
      ]
     },
     "metadata": {},
     "output_type": "display_data"
    },
    {
     "data": {
      "text/latex": [
       "$\\displaystyle [35]\\text{   }{{{use}}}_{cement, l0, y, {invcapacity}, lii.stored} - 300 \\cdot {{{icap}}}_{lii.stored, l0, y} = 0$"
      ],
      "text/plain": [
       "<IPython.core.display.Math object>"
      ]
     },
     "metadata": {},
     "output_type": "display_data"
    },
    {
     "data": {
      "text/latex": [
       "$\\displaystyle [36]\\text{   }{{prod}}_{power, l0, q, {operate}, wf} - {φ}_{} \\cdot {{{{opr}}}}_{wf, l0, q} = 0$"
      ],
      "text/plain": [
       "<IPython.core.display.Math object>"
      ]
     },
     "metadata": {},
     "output_type": "display_data"
    },
    {
     "data": {
      "text/latex": [
       "$\\displaystyle [37]\\text{   }{{{expd}}}_{wind, l0, y, {operate}, wf} - {φ}_{} \\cdot {{{{opr}}}}_{wf, l0, y} = 0$"
      ],
      "text/plain": [
       "<IPython.core.display.Math object>"
      ]
     },
     "metadata": {},
     "output_type": "display_data"
    },
    {
     "data": {
      "text/latex": [
       "$\\displaystyle [38]\\text{   }{{{prod}}}_{power, l0, q, {operate}, pv} - {φ}_{} \\cdot {{{{opr}}}}_{pv, l0, q} = 0$"
      ],
      "text/plain": [
       "<IPython.core.display.Math object>"
      ]
     },
     "metadata": {},
     "output_type": "display_data"
    },
    {
     "data": {
      "text/latex": [
       "$\\displaystyle [39]\\text{   }{{{{expd}}}}_{solar, l0, q, {operate}, pv} - {φ}_{} \\cdot {{{{opr}}}}_{pv, l0, q} = 0$"
      ],
      "text/plain": [
       "<IPython.core.display.Math object>"
      ]
     },
     "metadata": {},
     "output_type": "display_data"
    },
    {
     "data": {
      "text/latex": [
       "$\\displaystyle [44]\\text{   }{{{prod}}}_{lii.stored, l0, q, {operate}, lii.charge} - {φ}_{} \\cdot {{{{opr}}}}_{lii.charge, l0, q} = 0$"
      ],
      "text/plain": [
       "<IPython.core.display.Math object>"
      ]
     },
     "metadata": {},
     "output_type": "display_data"
    },
    {
     "data": {
      "text/latex": [
       "$\\displaystyle [45]\\text{   }{{{{expd}}}}_{power, l0, q, {operate}, lii.charge} - {φ}_{} \\cdot {{{{opr}}}}_{lii.charge, l0, q} = 0$"
      ],
      "text/plain": [
       "<IPython.core.display.Math object>"
      ]
     },
     "metadata": {},
     "output_type": "display_data"
    },
    {
     "data": {
      "text/latex": [
       "$\\displaystyle [47]\\text{   }{{{prod}}}_{power, l0, q, {operate}, lii.discharge} - {φ}_{} \\cdot {{{{opr}}}}_{lii.discharge, l0, q} = 0$"
      ],
      "text/plain": [
       "<IPython.core.display.Math object>"
      ]
     },
     "metadata": {},
     "output_type": "display_data"
    },
    {
     "data": {
      "text/latex": [
       "$\\displaystyle [48]\\text{   }{{{{expd}}}}_{lii.stored, l0, q, {operate}, lii.discharge} - {φ}_{} \\cdot {{{{opr}}}}_{lii.discharge, l0, q} = 0$"
      ],
      "text/plain": [
       "<IPython.core.display.Math object>"
      ]
     },
     "metadata": {},
     "output_type": "display_data"
    },
    {
     "data": {
      "text/markdown": [
       "### Mapping Constraint Sets"
      ],
      "text/plain": [
       "<IPython.core.display.Markdown object>"
      ]
     },
     "metadata": {},
     "output_type": "display_data"
    },
    {
     "data": {
      "text/latex": [
       "$\\displaystyle [10]\\text{   }{{{{opr}}}}_{wf, l0, y} - \\sum_{i \\in q} {{{{opr}}}}_{wf, l0, i} = 0$"
      ],
      "text/plain": [
       "<IPython.core.display.Math object>"
      ]
     },
     "metadata": {},
     "output_type": "display_data"
    },
    {
     "data": {
      "text/latex": [
       "$\\displaystyle [16]\\text{   }{{{{opr}}}}_{pv, l0, y} - \\sum_{i \\in q} {{{{opr}}}}_{pv, l0, i} = 0$"
      ],
      "text/plain": [
       "<IPython.core.display.Math object>"
      ]
     },
     "metadata": {},
     "output_type": "display_data"
    },
    {
     "data": {
      "text/latex": [
       "$\\displaystyle [40]\\text{   }{{{{inv}}}}_{lii.stored, l0, y} - \\sum_{i \\in q} {{{{inv}}}}_{lii.stored, l0, i} = 0$"
      ],
      "text/plain": [
       "<IPython.core.display.Math object>"
      ]
     },
     "metadata": {},
     "output_type": "display_data"
    },
    {
     "data": {
      "text/latex": [
       "$\\displaystyle [43]\\text{   }{{{{opr}}}}_{lii.charge, l0, y} - \\sum_{i \\in q} {{{{opr}}}}_{lii.charge, l0, i} = 0$"
      ],
      "text/plain": [
       "<IPython.core.display.Math object>"
      ]
     },
     "metadata": {},
     "output_type": "display_data"
    },
    {
     "data": {
      "text/latex": [
       "$\\displaystyle [46]\\text{   }{{{{opr}}}}_{lii.discharge, l0, y} - \\sum_{i \\in q} {{{{opr}}}}_{lii.discharge, l0, i} = 0$"
      ],
      "text/plain": [
       "<IPython.core.display.Math object>"
      ]
     },
     "metadata": {},
     "output_type": "display_data"
    },
    {
     "data": {
      "text/latex": [
       "$\\displaystyle [49]\\text{   }{{{emit}}}_{gwp, l0, y} - {{{{emit}}}}_{gwp, l0, y, {capacity}, wf} - {{{{emit}}}}_{gwp, l0, y, {capacity}, pv} - {{{{emit}}}}_{gwp, l0, y, {invcapacity}, lii.stored} - {{{{emit}}}}_{gwp, l0, y, {consume}, cement} = 0$"
      ],
      "text/plain": [
       "<IPython.core.display.Math object>"
      ]
     },
     "metadata": {},
     "output_type": "display_data"
    },
    {
     "data": {
      "text/markdown": [
       "###  Function Sets"
      ],
      "text/plain": [
       "<IPython.core.display.Markdown object>"
      ]
     },
     "metadata": {},
     "output_type": "display_data"
    },
    {
     "data": {
      "text/latex": [
       "$\\displaystyle {{emit}}_{gwp, l0, y{0}}$"
      ],
      "text/plain": [
       "<IPython.core.display.Math object>"
      ]
     },
     "metadata": {},
     "output_type": "display_data"
    }
   ],
   "source": [
    "m.show()"
   ]
  },
  {
   "cell_type": "code",
   "execution_count": 13,
   "id": "5ba2b0af",
   "metadata": {},
   "outputs": [
    {
     "data": {
      "text/markdown": [
       "# Solution for Program(example3)"
      ],
      "text/plain": [
       "<IPython.core.display.Markdown object>"
      ]
     },
     "metadata": {},
     "output_type": "display_data"
    },
    {
     "data": {
      "text/markdown": [
       "<br><br>"
      ],
      "text/plain": [
       "<IPython.core.display.Markdown object>"
      ]
     },
     "metadata": {},
     "output_type": "display_data"
    },
    {
     "data": {
      "text/markdown": [
       "## Objective"
      ],
      "text/plain": [
       "<IPython.core.display.Markdown object>"
      ]
     },
     "metadata": {},
     "output_type": "display_data"
    },
    {
     "data": {
      "text/latex": [
       "$\\displaystyle min \\hspace{0.2cm} {{emit}}_{gwp, l0, y{0}}=475214.8148148148$"
      ],
      "text/plain": [
       "<IPython.core.display.Math object>"
      ]
     },
     "metadata": {},
     "output_type": "display_data"
    },
    {
     "data": {
      "text/markdown": [
       "<br><br>"
      ],
      "text/plain": [
       "<IPython.core.display.Markdown object>"
      ]
     },
     "metadata": {},
     "output_type": "display_data"
    },
    {
     "data": {
      "text/markdown": [
       "## Variables"
      ],
      "text/plain": [
       "<IPython.core.display.Markdown object>"
      ]
     },
     "metadata": {},
     "output_type": "display_data"
    },
    {
     "data": {
      "text/latex": [
       "$\\displaystyle {{{cons}}}_{solar, l0, q{0}}=66.6666666666667$"
      ],
      "text/plain": [
       "<IPython.core.display.Math object>"
      ]
     },
     "metadata": {},
     "output_type": "display_data"
    },
    {
     "data": {
      "text/latex": [
       "$\\displaystyle {{{cons}}}_{solar, l0, q{1}}=88.88888888888894$"
      ],
      "text/plain": [
       "<IPython.core.display.Math object>"
      ]
     },
     "metadata": {},
     "output_type": "display_data"
    },
    {
     "data": {
      "text/latex": [
       "$\\displaystyle {{{cons}}}_{solar, l0, q{2}}=100.00000000000006$"
      ],
      "text/plain": [
       "<IPython.core.display.Math object>"
      ]
     },
     "metadata": {},
     "output_type": "display_data"
    },
    {
     "data": {
      "text/latex": [
       "$\\displaystyle {{{cons}}}_{solar, l0, q{3}}=77.77777777777781$"
      ],
      "text/plain": [
       "<IPython.core.display.Math object>"
      ]
     },
     "metadata": {},
     "output_type": "display_data"
    },
    {
     "data": {
      "text/latex": [
       "$\\displaystyle {{{cons}}}_{wind, l0, y{0}}=322.22222222222223$"
      ],
      "text/plain": [
       "<IPython.core.display.Math object>"
      ]
     },
     "metadata": {},
     "output_type": "display_data"
    },
    {
     "data": {
      "text/latex": [
       "$\\displaystyle {{{cons}}}_{cement, l0, y{0}}=104148.14814814816$"
      ],
      "text/plain": [
       "<IPython.core.display.Math object>"
      ]
     },
     "metadata": {},
     "output_type": "display_data"
    },
    {
     "data": {
      "text/latex": [
       "$\\displaystyle {{{rlse}}}_{power, l0, q{0}}=139.50617283950626$"
      ],
      "text/plain": [
       "<IPython.core.display.Math object>"
      ]
     },
     "metadata": {},
     "output_type": "display_data"
    },
    {
     "data": {
      "text/latex": [
       "$\\displaystyle {{{rlse}}}_{power, l0, q{1}}=170.49382716049388$"
      ],
      "text/plain": [
       "<IPython.core.display.Math object>"
      ]
     },
     "metadata": {},
     "output_type": "display_data"
    },
    {
     "data": {
      "text/latex": [
       "$\\displaystyle {{{rlse}}}_{power, l0, q{2}}=180.0$"
      ],
      "text/plain": [
       "<IPython.core.display.Math object>"
      ]
     },
     "metadata": {},
     "output_type": "display_data"
    },
    {
     "data": {
      "text/latex": [
       "$\\displaystyle {{{rlse}}}_{power, l0, q{3}}=155.5555555555556$"
      ],
      "text/plain": [
       "<IPython.core.display.Math object>"
      ]
     },
     "metadata": {},
     "output_type": "display_data"
    },
    {
     "data": {
      "text/latex": [
       "$\\displaystyle {{{cap}}}_{wf, l0, y{0}}=100.0$"
      ],
      "text/plain": [
       "<IPython.core.display.Math object>"
      ]
     },
     "metadata": {},
     "output_type": "display_data"
    },
    {
     "data": {
      "text/latex": [
       "$\\displaystyle {{{cap}}}_{pv, l0, y{0}}=100.00000000000006$"
      ],
      "text/plain": [
       "<IPython.core.display.Math object>"
      ]
     },
     "metadata": {},
     "output_type": "display_data"
    },
    {
     "data": {
      "text/latex": [
       "$\\displaystyle {{{cap}}}_{lii.charge, l0, y{0}}=100.0$"
      ],
      "text/plain": [
       "<IPython.core.display.Math object>"
      ]
     },
     "metadata": {},
     "output_type": "display_data"
    },
    {
     "data": {
      "text/latex": [
       "$\\displaystyle {{{cap}}}_{lii.discharge, l0, y{0}}=100.0$"
      ],
      "text/plain": [
       "<IPython.core.display.Math object>"
      ]
     },
     "metadata": {},
     "output_type": "display_data"
    },
    {
     "data": {
      "text/latex": [
       "$\\displaystyle {{{\\breve{{cap}}}}}_{wf, l0, y{0}}=1.0$"
      ],
      "text/plain": [
       "<IPython.core.display.Math object>"
      ]
     },
     "metadata": {},
     "output_type": "display_data"
    },
    {
     "data": {
      "text/latex": [
       "$\\displaystyle {{{\\breve{{cap}}}}}_{pv, l0, y{0}}=1.0$"
      ],
      "text/plain": [
       "<IPython.core.display.Math object>"
      ]
     },
     "metadata": {},
     "output_type": "display_data"
    },
    {
     "data": {
      "text/latex": [
       "$\\displaystyle {{{opr}}}_{wf, l0, q{0}}=100.0$"
      ],
      "text/plain": [
       "<IPython.core.display.Math object>"
      ]
     },
     "metadata": {},
     "output_type": "display_data"
    },
    {
     "data": {
      "text/latex": [
       "$\\displaystyle {{{opr}}}_{wf, l0, q{1}}=88.8888888888889$"
      ],
      "text/plain": [
       "<IPython.core.display.Math object>"
      ]
     },
     "metadata": {},
     "output_type": "display_data"
    },
    {
     "data": {
      "text/latex": [
       "$\\displaystyle {{{opr}}}_{wf, l0, q{2}}=55.55555555555556$"
      ],
      "text/plain": [
       "<IPython.core.display.Math object>"
      ]
     },
     "metadata": {},
     "output_type": "display_data"
    },
    {
     "data": {
      "text/latex": [
       "$\\displaystyle {{{opr}}}_{wf, l0, q{3}}=77.77777777777777$"
      ],
      "text/plain": [
       "<IPython.core.display.Math object>"
      ]
     },
     "metadata": {},
     "output_type": "display_data"
    },
    {
     "data": {
      "text/latex": [
       "$\\displaystyle {{{opr}}}_{wf, l0, y{0}}=322.22222222222223$"
      ],
      "text/plain": [
       "<IPython.core.display.Math object>"
      ]
     },
     "metadata": {},
     "output_type": "display_data"
    },
    {
     "data": {
      "text/latex": [
       "$\\displaystyle {{{opr}}}_{pv, l0, q{0}}=66.6666666666667$"
      ],
      "text/plain": [
       "<IPython.core.display.Math object>"
      ]
     },
     "metadata": {},
     "output_type": "display_data"
    },
    {
     "data": {
      "text/latex": [
       "$\\displaystyle {{{opr}}}_{pv, l0, q{1}}=88.88888888888894$"
      ],
      "text/plain": [
       "<IPython.core.display.Math object>"
      ]
     },
     "metadata": {},
     "output_type": "display_data"
    },
    {
     "data": {
      "text/latex": [
       "$\\displaystyle {{{opr}}}_{pv, l0, q{2}}=100.00000000000006$"
      ],
      "text/plain": [
       "<IPython.core.display.Math object>"
      ]
     },
     "metadata": {},
     "output_type": "display_data"
    },
    {
     "data": {
      "text/latex": [
       "$\\displaystyle {{{opr}}}_{pv, l0, q{3}}=77.77777777777781$"
      ],
      "text/plain": [
       "<IPython.core.display.Math object>"
      ]
     },
     "metadata": {},
     "output_type": "display_data"
    },
    {
     "data": {
      "text/latex": [
       "$\\displaystyle {{{opr}}}_{pv, l0, y{0}}=333.33333333333354$"
      ],
      "text/plain": [
       "<IPython.core.display.Math object>"
      ]
     },
     "metadata": {},
     "output_type": "display_data"
    },
    {
     "data": {
      "text/latex": [
       "$\\displaystyle {{{opr}}}_{lii.charge, l0, y{0}}=100.0$"
      ],
      "text/plain": [
       "<IPython.core.display.Math object>"
      ]
     },
     "metadata": {},
     "output_type": "display_data"
    },
    {
     "data": {
      "text/latex": [
       "$\\displaystyle {{{opr}}}_{lii.discharge, l0, y{0}}=89.99999999999999$"
      ],
      "text/plain": [
       "<IPython.core.display.Math object>"
      ]
     },
     "metadata": {},
     "output_type": "display_data"
    },
    {
     "data": {
      "text/latex": [
       "$\\displaystyle {{{opr}}}_{lii.charge, l0, q{0}}=27.160493827160437$"
      ],
      "text/plain": [
       "<IPython.core.display.Math object>"
      ]
     },
     "metadata": {},
     "output_type": "display_data"
    },
    {
     "data": {
      "text/latex": [
       "$\\displaystyle {{{opr}}}_{lii.charge, l0, q{1}}=72.83950617283956$"
      ],
      "text/plain": [
       "<IPython.core.display.Math object>"
      ]
     },
     "metadata": {},
     "output_type": "display_data"
    },
    {
     "data": {
      "text/latex": [
       "$\\displaystyle {{{opr}}}_{lii.charge, l0, q{2}}=0.0$"
      ],
      "text/plain": [
       "<IPython.core.display.Math object>"
      ]
     },
     "metadata": {},
     "output_type": "display_data"
    },
    {
     "data": {
      "text/latex": [
       "$\\displaystyle {{{opr}}}_{lii.charge, l0, q{3}}=0.0$"
      ],
      "text/plain": [
       "<IPython.core.display.Math object>"
      ]
     },
     "metadata": {},
     "output_type": "display_data"
    },
    {
     "data": {
      "text/latex": [
       "$\\displaystyle {{{opr}}}_{lii.discharge, l0, q{0}}=0.0$"
      ],
      "text/plain": [
       "<IPython.core.display.Math object>"
      ]
     },
     "metadata": {},
     "output_type": "display_data"
    },
    {
     "data": {
      "text/latex": [
       "$\\displaystyle {{{opr}}}_{lii.discharge, l0, q{1}}=65.5555555555556$"
      ],
      "text/plain": [
       "<IPython.core.display.Math object>"
      ]
     },
     "metadata": {},
     "output_type": "display_data"
    },
    {
     "data": {
      "text/latex": [
       "$\\displaystyle {{{opr}}}_{lii.discharge, l0, q{2}}=24.44444444444439$"
      ],
      "text/plain": [
       "<IPython.core.display.Math object>"
      ]
     },
     "metadata": {},
     "output_type": "display_data"
    },
    {
     "data": {
      "text/latex": [
       "$\\displaystyle {{{opr}}}_{lii.discharge, l0, q{3}}=0.0$"
      ],
      "text/plain": [
       "<IPython.core.display.Math object>"
      ]
     },
     "metadata": {},
     "output_type": "display_data"
    },
    {
     "data": {
      "text/latex": [
       "$\\displaystyle {{spend}}_{usd, l0, y{0}, capacity, wf}=99399100.0$"
      ],
      "text/plain": [
       "<IPython.core.display.Math object>"
      ]
     },
     "metadata": {},
     "output_type": "display_data"
    },
    {
     "data": {
      "text/latex": [
       "$\\displaystyle {{spend}}_{usd, l0, y{0}, operate, wf}=15788.888888888889$"
      ],
      "text/plain": [
       "<IPython.core.display.Math object>"
      ]
     },
     "metadata": {},
     "output_type": "display_data"
    },
    {
     "data": {
      "text/latex": [
       "$\\displaystyle {{spend}}_{usd, l0, y{0}, capacity, pv}=143904600.0000001$"
      ],
      "text/plain": [
       "<IPython.core.display.Math object>"
      ]
     },
     "metadata": {},
     "output_type": "display_data"
    },
    {
     "data": {
      "text/latex": [
       "$\\displaystyle {{spend}}_{usd, l0, y{0}, operate, pv}=30000000.00000002$"
      ],
      "text/plain": [
       "<IPython.core.display.Math object>"
      ]
     },
     "metadata": {},
     "output_type": "display_data"
    },
    {
     "data": {
      "text/latex": [
       "$\\displaystyle {{spend}}_{usd, l0, y{0}, invcapacity, lii.stored}=36493219.75308634$"
      ],
      "text/plain": [
       "<IPython.core.display.Math object>"
      ]
     },
     "metadata": {},
     "output_type": "display_data"
    },
    {
     "data": {
      "text/latex": [
       "$\\displaystyle {{spend}}_{usd, l0, y{0}, inventory, lii.stored}=108641.97530864175$"
      ],
      "text/plain": [
       "<IPython.core.display.Math object>"
      ]
     },
     "metadata": {},
     "output_type": "display_data"
    },
    {
     "data": {
      "text/latex": [
       "$\\displaystyle {{spend}}_{usd, l0, y{0}, consume, cement}=1770518.5185185187$"
      ],
      "text/plain": [
       "<IPython.core.display.Math object>"
      ]
     },
     "metadata": {},
     "output_type": "display_data"
    },
    {
     "data": {
      "text/latex": [
       "$\\displaystyle {{{icap}}}_{lii.stored, l0, y{0}}=27.160493827160437$"
      ],
      "text/plain": [
       "<IPython.core.display.Math object>"
      ]
     },
     "metadata": {},
     "output_type": "display_data"
    },
    {
     "data": {
      "text/latex": [
       "$\\displaystyle {{{\\breve{{icap}}}}}_{lii.stored, l0, y{0}}=1.0$"
      ],
      "text/plain": [
       "<IPython.core.display.Math object>"
      ]
     },
     "metadata": {},
     "output_type": "display_data"
    },
    {
     "data": {
      "text/latex": [
       "$\\displaystyle {{{inv}}}_{lii.stored, l0, y{0}}=54.320987654320874$"
      ],
      "text/plain": [
       "<IPython.core.display.Math object>"
      ]
     },
     "metadata": {},
     "output_type": "display_data"
    },
    {
     "data": {
      "text/latex": [
       "$\\displaystyle {{{inv}}}_{lii.stored, l0, q{0}}=27.160493827160437$"
      ],
      "text/plain": [
       "<IPython.core.display.Math object>"
      ]
     },
     "metadata": {},
     "output_type": "display_data"
    },
    {
     "data": {
      "text/latex": [
       "$\\displaystyle {{{inv}}}_{lii.stored, l0, q{1}}=27.160493827160437$"
      ],
      "text/plain": [
       "<IPython.core.display.Math object>"
      ]
     },
     "metadata": {},
     "output_type": "display_data"
    },
    {
     "data": {
      "text/latex": [
       "$\\displaystyle {{{inv}}}_{lii.stored, l0, q{2}}=0.0$"
      ],
      "text/plain": [
       "<IPython.core.display.Math object>"
      ]
     },
     "metadata": {},
     "output_type": "display_data"
    },
    {
     "data": {
      "text/latex": [
       "$\\displaystyle {{{inv}}}_{lii.stored, l0, q{3}}=0.0$"
      ],
      "text/plain": [
       "<IPython.core.display.Math object>"
      ]
     },
     "metadata": {},
     "output_type": "display_data"
    },
    {
     "data": {
      "text/latex": [
       "$\\displaystyle {{emit}}_{gwp, l0, y{0}, capacity, wf}=100000.0$"
      ],
      "text/plain": [
       "<IPython.core.display.Math object>"
      ]
     },
     "metadata": {},
     "output_type": "display_data"
    },
    {
     "data": {
      "text/latex": [
       "$\\displaystyle {{emit}}_{gwp, l0, y{0}, capacity, pv}=200000.00000000012$"
      ],
      "text/plain": [
       "<IPython.core.display.Math object>"
      ]
     },
     "metadata": {},
     "output_type": "display_data"
    },
    {
     "data": {
      "text/latex": [
       "$\\displaystyle {{emit}}_{gwp, l0, y{0}, invcapacity, lii.stored}=81481.48148148131$"
      ],
      "text/plain": [
       "<IPython.core.display.Math object>"
      ]
     },
     "metadata": {},
     "output_type": "display_data"
    },
    {
     "data": {
      "text/latex": [
       "$\\displaystyle {{emit}}_{gwp, l0, y{0}, consume, cement}=93733.33333333334$"
      ],
      "text/plain": [
       "<IPython.core.display.Math object>"
      ]
     },
     "metadata": {},
     "output_type": "display_data"
    },
    {
     "data": {
      "text/latex": [
       "$\\displaystyle {{emit}}_{gwp, l0, y{0}}=475214.8148148148$"
      ],
      "text/plain": [
       "<IPython.core.display.Math object>"
      ]
     },
     "metadata": {},
     "output_type": "display_data"
    },
    {
     "data": {
      "text/latex": [
       "$\\displaystyle {{use}}_{cement, l0, y{0}, capacity, wf}=40000.0$"
      ],
      "text/plain": [
       "<IPython.core.display.Math object>"
      ]
     },
     "metadata": {},
     "output_type": "display_data"
    },
    {
     "data": {
      "text/latex": [
       "$\\displaystyle {{use}}_{cement, l0, y{0}, capacity, pv}=56000.00000000003$"
      ],
      "text/plain": [
       "<IPython.core.display.Math object>"
      ]
     },
     "metadata": {},
     "output_type": "display_data"
    },
    {
     "data": {
      "text/latex": [
       "$\\displaystyle {{use}}_{cement, l0, y{0}, invcapacity, lii.stored}=8148.148148148131$"
      ],
      "text/plain": [
       "<IPython.core.display.Math object>"
      ]
     },
     "metadata": {},
     "output_type": "display_data"
    },
    {
     "data": {
      "text/latex": [
       "$\\displaystyle {{prod}}_{power, l0, q{0}, operate, wf}=100.0$"
      ],
      "text/plain": [
       "<IPython.core.display.Math object>"
      ]
     },
     "metadata": {},
     "output_type": "display_data"
    },
    {
     "data": {
      "text/latex": [
       "$\\displaystyle {{prod}}_{power, l0, q{1}, operate, wf}=88.8888888888889$"
      ],
      "text/plain": [
       "<IPython.core.display.Math object>"
      ]
     },
     "metadata": {},
     "output_type": "display_data"
    },
    {
     "data": {
      "text/latex": [
       "$\\displaystyle {{prod}}_{power, l0, q{2}, operate, wf}=55.55555555555556$"
      ],
      "text/plain": [
       "<IPython.core.display.Math object>"
      ]
     },
     "metadata": {},
     "output_type": "display_data"
    },
    {
     "data": {
      "text/latex": [
       "$\\displaystyle {{prod}}_{power, l0, q{3}, operate, wf}=77.77777777777777$"
      ],
      "text/plain": [
       "<IPython.core.display.Math object>"
      ]
     },
     "metadata": {},
     "output_type": "display_data"
    },
    {
     "data": {
      "text/latex": [
       "$\\displaystyle {{prod}}_{power, l0, q{0}, operate, pv}=66.6666666666667$"
      ],
      "text/plain": [
       "<IPython.core.display.Math object>"
      ]
     },
     "metadata": {},
     "output_type": "display_data"
    },
    {
     "data": {
      "text/latex": [
       "$\\displaystyle {{prod}}_{power, l0, q{1}, operate, pv}=88.88888888888894$"
      ],
      "text/plain": [
       "<IPython.core.display.Math object>"
      ]
     },
     "metadata": {},
     "output_type": "display_data"
    },
    {
     "data": {
      "text/latex": [
       "$\\displaystyle {{prod}}_{power, l0, q{2}, operate, pv}=100.00000000000006$"
      ],
      "text/plain": [
       "<IPython.core.display.Math object>"
      ]
     },
     "metadata": {},
     "output_type": "display_data"
    },
    {
     "data": {
      "text/latex": [
       "$\\displaystyle {{prod}}_{power, l0, q{3}, operate, pv}=77.77777777777781$"
      ],
      "text/plain": [
       "<IPython.core.display.Math object>"
      ]
     },
     "metadata": {},
     "output_type": "display_data"
    },
    {
     "data": {
      "text/latex": [
       "$\\displaystyle {{prod}}_{lii.stored, l0, q{0}, operate, lii.charge}=27.160493827160437$"
      ],
      "text/plain": [
       "<IPython.core.display.Math object>"
      ]
     },
     "metadata": {},
     "output_type": "display_data"
    },
    {
     "data": {
      "text/latex": [
       "$\\displaystyle {{prod}}_{lii.stored, l0, q{1}, operate, lii.charge}=72.83950617283956$"
      ],
      "text/plain": [
       "<IPython.core.display.Math object>"
      ]
     },
     "metadata": {},
     "output_type": "display_data"
    },
    {
     "data": {
      "text/latex": [
       "$\\displaystyle {{prod}}_{lii.stored, l0, q{2}, operate, lii.charge}=0.0$"
      ],
      "text/plain": [
       "<IPython.core.display.Math object>"
      ]
     },
     "metadata": {},
     "output_type": "display_data"
    },
    {
     "data": {
      "text/latex": [
       "$\\displaystyle {{prod}}_{lii.stored, l0, q{3}, operate, lii.charge}=0.0$"
      ],
      "text/plain": [
       "<IPython.core.display.Math object>"
      ]
     },
     "metadata": {},
     "output_type": "display_data"
    },
    {
     "data": {
      "text/latex": [
       "$\\displaystyle {{prod}}_{power, l0, q{0}, operate, lii.discharge}=0.0$"
      ],
      "text/plain": [
       "<IPython.core.display.Math object>"
      ]
     },
     "metadata": {},
     "output_type": "display_data"
    },
    {
     "data": {
      "text/latex": [
       "$\\displaystyle {{prod}}_{power, l0, q{1}, operate, lii.discharge}=65.5555555555556$"
      ],
      "text/plain": [
       "<IPython.core.display.Math object>"
      ]
     },
     "metadata": {},
     "output_type": "display_data"
    },
    {
     "data": {
      "text/latex": [
       "$\\displaystyle {{prod}}_{power, l0, q{2}, operate, lii.discharge}=24.44444444444439$"
      ],
      "text/plain": [
       "<IPython.core.display.Math object>"
      ]
     },
     "metadata": {},
     "output_type": "display_data"
    },
    {
     "data": {
      "text/latex": [
       "$\\displaystyle {{prod}}_{power, l0, q{3}, operate, lii.discharge}=0.0$"
      ],
      "text/plain": [
       "<IPython.core.display.Math object>"
      ]
     },
     "metadata": {},
     "output_type": "display_data"
    },
    {
     "data": {
      "text/latex": [
       "$\\displaystyle {{{expd}}}_{wind, l0, y{0}, operate, wf}=322.22222222222223$"
      ],
      "text/plain": [
       "<IPython.core.display.Math object>"
      ]
     },
     "metadata": {},
     "output_type": "display_data"
    },
    {
     "data": {
      "text/latex": [
       "$\\displaystyle {{{expd}}}_{solar, l0, q{0}, operate, pv}=66.6666666666667$"
      ],
      "text/plain": [
       "<IPython.core.display.Math object>"
      ]
     },
     "metadata": {},
     "output_type": "display_data"
    },
    {
     "data": {
      "text/latex": [
       "$\\displaystyle {{{expd}}}_{solar, l0, q{1}, operate, pv}=88.88888888888894$"
      ],
      "text/plain": [
       "<IPython.core.display.Math object>"
      ]
     },
     "metadata": {},
     "output_type": "display_data"
    },
    {
     "data": {
      "text/latex": [
       "$\\displaystyle {{{expd}}}_{solar, l0, q{2}, operate, pv}=100.00000000000006$"
      ],
      "text/plain": [
       "<IPython.core.display.Math object>"
      ]
     },
     "metadata": {},
     "output_type": "display_data"
    },
    {
     "data": {
      "text/latex": [
       "$\\displaystyle {{{expd}}}_{solar, l0, q{3}, operate, pv}=77.77777777777781$"
      ],
      "text/plain": [
       "<IPython.core.display.Math object>"
      ]
     },
     "metadata": {},
     "output_type": "display_data"
    },
    {
     "data": {
      "text/latex": [
       "$\\displaystyle {{{expd}}}_{power, l0, q{0}, operate, lii.charge}=27.160493827160437$"
      ],
      "text/plain": [
       "<IPython.core.display.Math object>"
      ]
     },
     "metadata": {},
     "output_type": "display_data"
    },
    {
     "data": {
      "text/latex": [
       "$\\displaystyle {{{expd}}}_{power, l0, q{1}, operate, lii.charge}=72.83950617283956$"
      ],
      "text/plain": [
       "<IPython.core.display.Math object>"
      ]
     },
     "metadata": {},
     "output_type": "display_data"
    },
    {
     "data": {
      "text/latex": [
       "$\\displaystyle {{{expd}}}_{power, l0, q{2}, operate, lii.charge}=0.0$"
      ],
      "text/plain": [
       "<IPython.core.display.Math object>"
      ]
     },
     "metadata": {},
     "output_type": "display_data"
    },
    {
     "data": {
      "text/latex": [
       "$\\displaystyle {{{expd}}}_{power, l0, q{3}, operate, lii.charge}=0.0$"
      ],
      "text/plain": [
       "<IPython.core.display.Math object>"
      ]
     },
     "metadata": {},
     "output_type": "display_data"
    },
    {
     "data": {
      "text/latex": [
       "$\\displaystyle {{{expd}}}_{lii.stored, l0, q{0}, operate, lii.discharge}=0.0$"
      ],
      "text/plain": [
       "<IPython.core.display.Math object>"
      ]
     },
     "metadata": {},
     "output_type": "display_data"
    },
    {
     "data": {
      "text/latex": [
       "$\\displaystyle {{{expd}}}_{lii.stored, l0, q{1}, operate, lii.discharge}=72.83950617283956$"
      ],
      "text/plain": [
       "<IPython.core.display.Math object>"
      ]
     },
     "metadata": {},
     "output_type": "display_data"
    },
    {
     "data": {
      "text/latex": [
       "$\\displaystyle {{{expd}}}_{lii.stored, l0, q{2}, operate, lii.discharge}=27.160493827160433$"
      ],
      "text/plain": [
       "<IPython.core.display.Math object>"
      ]
     },
     "metadata": {},
     "output_type": "display_data"
    },
    {
     "data": {
      "text/latex": [
       "$\\displaystyle {{{expd}}}_{lii.stored, l0, q{3}, operate, lii.discharge}=0.0$"
      ],
      "text/plain": [
       "<IPython.core.display.Math object>"
      ]
     },
     "metadata": {},
     "output_type": "display_data"
    }
   ],
   "source": [
    "m.output(False)"
   ]
  }
 ],
 "metadata": {
  "kernelspec": {
   "display_name": ".venv",
   "language": "python",
   "name": "python3"
  },
  "language_info": {
   "codemirror_mode": {
    "name": "ipython",
    "version": 3
   },
   "file_extension": ".py",
   "mimetype": "text/x-python",
   "name": "python",
   "nbconvert_exporter": "python",
   "pygments_lexer": "ipython3",
   "version": "3.13.9"
  }
 },
 "nbformat": 4,
 "nbformat_minor": 5
}
