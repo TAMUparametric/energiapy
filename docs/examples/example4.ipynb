{
 "cells": [
  {
   "cell_type": "markdown",
   "id": "686ba0d6",
   "metadata": {},
   "source": [
    "# Multi Location, Multiple Temporal Scales, Multiple Operations Including Transport, Mixed Integer Linear Programming Example\n",
    "\n",
    "## [Example 4]\n",
    "\n",
    "This is a continuation of 'One Location, Multiple Temporal Scales, Multiple Operations, Mixed Integer Linear Programming with Material and Emission Considerations Example' [Example 3]. \n",
    "\n",
    "We update Example 3 to now allow multiple locations and Transport options between them.\n"
   ]
  },
  {
   "cell_type": "markdown",
   "id": "84484ac2",
   "metadata": {},
   "source": [
    "## From Example 3"
   ]
  },
  {
   "cell_type": "code",
   "execution_count": 1,
   "id": "609aab02",
   "metadata": {},
   "outputs": [],
   "source": [
    "from energia import *\n",
    "\n",
    "m = Model('example4')\n",
    "m.q = Periods()\n",
    "m.y = 4 * m.q\n",
    "m.usd = Currency()"
   ]
  },
  {
   "cell_type": "code",
   "execution_count": 2,
   "id": "483e8376",
   "metadata": {},
   "outputs": [
    {
     "data": {
      "text/plain": [
       "[q, y]"
      ]
     },
     "execution_count": 2,
     "metadata": {},
     "output_type": "execute_result"
    }
   ],
   "source": [
    "m.periods"
   ]
  },
  {
   "cell_type": "markdown",
   "id": "541123ad",
   "metadata": {},
   "source": [
    "## Declaring Locations "
   ]
  },
  {
   "cell_type": "code",
   "execution_count": 3,
   "id": "78d7d056",
   "metadata": {},
   "outputs": [],
   "source": [
    "m.ho = Location(label='Houston')\n",
    "m.sd = Location(label='San Diego')\n",
    "m.ny = Location(label='New York')\n",
    "# m.usa = m.ho + m.sd + m.ny"
   ]
  },
  {
   "cell_type": "code",
   "execution_count": 4,
   "id": "759327de",
   "metadata": {},
   "outputs": [
    {
     "data": {
      "text/plain": [
       "[ho, sd, ny]"
      ]
     },
     "execution_count": 4,
     "metadata": {},
     "output_type": "execute_result"
    }
   ],
   "source": [
    "m.locations"
   ]
  },
  {
   "cell_type": "markdown",
   "id": "433f1df8",
   "metadata": {},
   "source": [
    "### The Network \n",
    "\n",
    "Given that we have not used a nested set of locations, a network is made:"
   ]
  },
  {
   "cell_type": "code",
   "execution_count": 5,
   "id": "d4761c55",
   "metadata": {},
   "outputs": [
    {
     "data": {
      "text/plain": [
       "ntw"
      ]
     },
     "execution_count": 5,
     "metadata": {},
     "output_type": "execute_result"
    }
   ],
   "source": [
    "m.network"
   ]
  },
  {
   "cell_type": "markdown",
   "id": "14277382",
   "metadata": {},
   "source": [
    "This network contains the three locations at (ho, sd, ny)"
   ]
  },
  {
   "cell_type": "code",
   "execution_count": 6,
   "id": "d744aefc",
   "metadata": {},
   "outputs": [
    {
     "data": {
      "text/plain": [
       "(sd, ho, ny)"
      ]
     },
     "execution_count": 6,
     "metadata": {},
     "output_type": "execute_result"
    }
   ],
   "source": [
    "m.network.has"
   ]
  },
  {
   "cell_type": "markdown",
   "id": "31fe7598",
   "metadata": {},
   "source": []
  },
  {
   "cell_type": "markdown",
   "id": "b2bda1be",
   "metadata": {},
   "source": [
    "## General Bounds Default to Network"
   ]
  },
  {
   "cell_type": "code",
   "execution_count": 7,
   "id": "9a66530b",
   "metadata": {},
   "outputs": [
    {
     "name": "stdout",
     "output_type": "stream",
     "text": [
      "--- General Resource Balance for solar in (ntw, y): initializing constraint, adding consume(solar, ntw, y)\n",
      "    Completed in 0.0001506805419921875 seconds\n",
      "--- Binding consume in domain (solar, ntw, y)\n",
      "    Completed in 7.43865966796875e-05 seconds\n",
      "--- General Resource Balance for wind in (ntw, y): initializing constraint, adding consume(wind, ntw, y)\n",
      "bbbb consume (wind, sd, y[0])\n",
      "bbbb consume (wind, ho, y[0])\n",
      "bbbb consume (wind, ny, y[0])\n",
      "    Completed in 0.0001251697540283203 seconds\n",
      "bbbb consume (wind, sd, y[0])\n",
      "bbbb consume (wind, ho, y[0])\n",
      "bbbb consume (wind, ny, y[0])\n",
      "--- Binding consume in domain (wind, ntw, y)\n",
      "    Completed in 5.7220458984375e-05 seconds\n"
     ]
    }
   ],
   "source": [
    "m.declare(Resource, ['power', 'wind', 'solar'])\n",
    "# m.solar.consume == True\n",
    "# m.wind.consume == True\n",
    "m.solar.consume <= 1200\n",
    "m.wind.consume <= 1200\n",
    "# m.consume.show()"
   ]
  },
  {
   "cell_type": "markdown",
   "id": "5abad359",
   "metadata": {},
   "source": [
    "## Location-specific Bounds \n",
    "\n",
    "Spatial specificity can be provided along with temporal fidelity. \n",
    "In the example below, the temporal fidelity is implied since the data has 4 samples.\n",
    "\n",
    "Note that an individual general resource balance is generated for power at each location"
   ]
  },
  {
   "cell_type": "code",
   "execution_count": 8,
   "id": "6f789af5",
   "metadata": {},
   "outputs": [
    {
     "name": "stdout",
     "output_type": "stream",
     "text": [
      "--- General Resource Balance for power in (ho, q): initializing constraint, adding release(power, ho, q)\n",
      "    Completed in 0.00012636184692382812 seconds\n",
      "--- Binding release in domain (power, ho, q)\n",
      "    Completed in 0.00011754035949707031 seconds\n",
      "--- General Resource Balance for power in (sd, q): initializing constraint, adding release(power, sd, q)\n",
      "bbbb release (power, sd, q[0])\n",
      "bbbb release (power, sd, q[1])\n",
      "bbbb release (power, sd, q[2])\n",
      "bbbb release (power, sd, q[3])\n",
      "    Completed in 0.00013375282287597656 seconds\n",
      "bbbb release (power, sd, q[0])\n",
      "bbbb release (power, sd, q[1])\n",
      "bbbb release (power, sd, q[2])\n",
      "bbbb release (power, sd, q[3])\n",
      "--- Binding release in domain (power, sd, q)\n",
      "    Completed in 0.00024771690368652344 seconds\n",
      "--- General Resource Balance for power in (ny, q): initializing constraint, adding release(power, ny, q)\n",
      "bbbb release (power, ny, q[0])\n",
      "bbbb release (power, ny, q[1])\n",
      "bbbb release (power, ny, q[2])\n",
      "bbbb release (power, ny, q[3])\n",
      "    Completed in 0.00013899803161621094 seconds\n",
      "bbbb release (power, ny, q[0])\n",
      "bbbb release (power, ny, q[1])\n",
      "bbbb release (power, ny, q[2])\n",
      "bbbb release (power, ny, q[3])\n",
      "--- Binding release in domain (power, ny, q)\n",
      "    Completed in 0.00011277198791503906 seconds\n"
     ]
    },
    {
     "data": {
      "text/latex": [
       "$\\displaystyle [4]\\text{   }-{{{rlse}}}_{power, ho, q} = 0$"
      ],
      "text/plain": [
       "<IPython.core.display.Math object>"
      ]
     },
     "metadata": {},
     "output_type": "display_data"
    },
    {
     "data": {
      "text/latex": [
       "$\\displaystyle [5]\\text{   }-{{{rlse}}}_{power, ho, q} + {φ}_{} \\leq 0$"
      ],
      "text/plain": [
       "<IPython.core.display.Math object>"
      ]
     },
     "metadata": {},
     "output_type": "display_data"
    },
    {
     "data": {
      "text/latex": [
       "$\\displaystyle [6]\\text{   }-{{{{rlse}}}}_{power, sd, q} = 0$"
      ],
      "text/plain": [
       "<IPython.core.display.Math object>"
      ]
     },
     "metadata": {},
     "output_type": "display_data"
    },
    {
     "data": {
      "text/latex": [
       "$\\displaystyle [7]\\text{   }-{{{{rlse}}}}_{power, sd, q} + {φ}_{} \\leq 0$"
      ],
      "text/plain": [
       "<IPython.core.display.Math object>"
      ]
     },
     "metadata": {},
     "output_type": "display_data"
    },
    {
     "data": {
      "text/latex": [
       "$\\displaystyle [8]\\text{   }-{{{{rlse}}}}_{power, ny, q} = 0$"
      ],
      "text/plain": [
       "<IPython.core.display.Math object>"
      ]
     },
     "metadata": {},
     "output_type": "display_data"
    },
    {
     "data": {
      "text/latex": [
       "$\\displaystyle [9]\\text{   }-{{{{rlse}}}}_{power, ny, q} + {φ}_{} \\leq 0$"
      ],
      "text/plain": [
       "<IPython.core.display.Math object>"
      ]
     },
     "metadata": {},
     "output_type": "display_data"
    }
   ],
   "source": [
    "m.power.release(m.ho).prep(30) >= [0.6, 0.7, 0.8, 0.3]\n",
    "m.power.release(m.sd).prep(100) >= [0.4, 0.9, 0.7, 0.6]\n",
    "m.power.release(m.ny).prep(180) >= [0.2, 0.5, 0.7, 0.5]\n",
    "m.release.show()"
   ]
  },
  {
   "cell_type": "markdown",
   "id": "74176947",
   "metadata": {},
   "source": [
    "## For All Locations \n",
    "\n",
    "Generally, in Energia to repeat a constraint over a set, use .forall()\n",
    "\n",
    "If a list is provided, the bounds are iterated over the list [see LB cons]\n",
    "else the bounds are repeated [see UB cons]"
   ]
  },
  {
   "cell_type": "code",
   "execution_count": 9,
   "id": "4954a5eb",
   "metadata": {},
   "outputs": [
    {
     "name": "stdout",
     "output_type": "stream",
     "text": [
      "--- Binding capacity in domain (wf, sd, y)\n",
      "    Completed in 0.0001456737518310547 seconds\n",
      "bbbb capacity (wf, ho, y[0])\n",
      "--- Binding capacity in domain (wf, ho, y)\n",
      "bbbb x_capacity (wf, ho, y[0])\n",
      "    Completed in 0.00012159347534179688 seconds\n",
      "bbbb capacity (wf, ny, y[0])\n",
      "--- Binding capacity in domain (wf, ny, y)\n",
      "bbbb x_capacity (wf, ny, y[0])\n",
      "    Completed in 0.0001125335693359375 seconds\n",
      "bbbb capacity (wf, sd, y[0])\n",
      "--- Binding capacity in domain (wf, sd, y)\n",
      "bbbb x_capacity (wf, sd, y[0])\n",
      "    Completed in 0.0001068115234375 seconds\n",
      "bbbb capacity (wf, ho, y[0])\n",
      "--- Binding capacity in domain (wf, ho, y)\n",
      "bbbb x_capacity (wf, ho, y[0])\n",
      "    Completed in 0.00010514259338378906 seconds\n",
      "bbbb capacity (wf, ny, y[0])\n",
      "--- Binding capacity in domain (wf, ny, y)\n",
      "bbbb x_capacity (wf, ny, y[0])\n",
      "    Completed in 9.608268737792969e-05 seconds\n"
     ]
    },
    {
     "data": {
      "text/latex": [
       "$\\displaystyle [10]\\text{   }10 \\cdot {{{\\breve{{cap}}}}}_{wf, sd, y} - {{{cap}}}_{wf, sd, y} \\leq 0$"
      ],
      "text/plain": [
       "<IPython.core.display.Math object>"
      ]
     },
     "metadata": {},
     "output_type": "display_data"
    },
    {
     "data": {
      "text/latex": [
       "$\\displaystyle [11]\\text{   }7 \\cdot {{{{\\breve{{cap}}}}}}_{wf, ho, y} - {{{{cap}}}}_{wf, ho, y} \\leq 0$"
      ],
      "text/plain": [
       "<IPython.core.display.Math object>"
      ]
     },
     "metadata": {},
     "output_type": "display_data"
    },
    {
     "data": {
      "text/latex": [
       "$\\displaystyle [12]\\text{   }20 \\cdot {{{{\\breve{{cap}}}}}}_{wf, ny, y} - {{{{cap}}}}_{wf, ny, y} \\leq 0$"
      ],
      "text/plain": [
       "<IPython.core.display.Math object>"
      ]
     },
     "metadata": {},
     "output_type": "display_data"
    },
    {
     "data": {
      "text/latex": [
       "$\\displaystyle [13]\\text{   }{{{{cap}}}}_{wf, sd, y} - 100 \\cdot {{{{\\breve{{cap}}}}}}_{wf, sd, y} \\leq 0$"
      ],
      "text/plain": [
       "<IPython.core.display.Math object>"
      ]
     },
     "metadata": {},
     "output_type": "display_data"
    },
    {
     "data": {
      "text/latex": [
       "$\\displaystyle [14]\\text{   }{{{{cap}}}}_{wf, ho, y} - 100 \\cdot {{{{\\breve{{cap}}}}}}_{wf, ho, y} \\leq 0$"
      ],
      "text/plain": [
       "<IPython.core.display.Math object>"
      ]
     },
     "metadata": {},
     "output_type": "display_data"
    },
    {
     "data": {
      "text/latex": [
       "$\\displaystyle [15]\\text{   }{{{{cap}}}}_{wf, ny, y} - 100 \\cdot {{{{\\breve{{cap}}}}}}_{wf, ny, y} \\leq 0$"
      ],
      "text/plain": [
       "<IPython.core.display.Math object>"
      ]
     },
     "metadata": {},
     "output_type": "display_data"
    }
   ],
   "source": [
    "m.wf = Process(m.power)\n",
    "m.wf(m.power) == -1 * m.wind\n",
    "[10, 7, 20] <= m.wf.capacity.x.forall(m.network.has)\n",
    "m.wf.capacity.x.forall(m.network.has) <= 100\n",
    "m.wf.show()"
   ]
  },
  {
   "cell_type": "markdown",
   "id": "e3a4830d",
   "metadata": {},
   "source": [
    "Bounds can also be provided individually"
   ]
  },
  {
   "cell_type": "code",
   "execution_count": 10,
   "id": "209f685c",
   "metadata": {},
   "outputs": [
    {
     "name": "stdout",
     "output_type": "stream",
     "text": [
      "--- Binding operate in domain (wf, ho, q)\n",
      "bbbb capacity (wf, ho, y[0])\n",
      "    Completed in 0.00033092498779296875 seconds\n",
      "bbbb operate (wf, sd, q[0])\n",
      "bbbb operate (wf, sd, q[1])\n",
      "bbbb operate (wf, sd, q[2])\n",
      "bbbb operate (wf, sd, q[3])\n",
      "--- Binding operate in domain (wf, sd, q)\n",
      "bbbb capacity (wf, sd, y[0])\n",
      "    Completed in 0.00016236305236816406 seconds\n",
      "bbbb operate (wf, ny, q[0])\n",
      "bbbb operate (wf, ny, q[1])\n",
      "bbbb operate (wf, ny, q[2])\n",
      "bbbb operate (wf, ny, q[3])\n",
      "--- Binding operate in domain (wf, ny, q)\n",
      "bbbb capacity (wf, ny, y[0])\n",
      "    Completed in 0.00014662742614746094 seconds\n"
     ]
    },
    {
     "data": {
      "text/latex": [
       "$\\displaystyle [42]\\text{   }{{{opr}}}_{wf, ho, q{0}} - 0.9 \\cdot {{{cap}}}_{wf, ho, y{0}} \\leq 0$"
      ],
      "text/plain": [
       "<IPython.core.display.Math object>"
      ]
     },
     "metadata": {},
     "output_type": "display_data"
    },
    {
     "data": {
      "text/latex": [
       "$\\displaystyle [43]\\text{   }{{{opr}}}_{wf, ho, q{1}} - 0.8 \\cdot {{{cap}}}_{wf, ho, y{0}} \\leq 0$"
      ],
      "text/plain": [
       "<IPython.core.display.Math object>"
      ]
     },
     "metadata": {},
     "output_type": "display_data"
    },
    {
     "data": {
      "text/latex": [
       "$\\displaystyle [44]\\text{   }{{{opr}}}_{wf, ho, q{2}} - 0.5 \\cdot {{{cap}}}_{wf, ho, y{0}} \\leq 0$"
      ],
      "text/plain": [
       "<IPython.core.display.Math object>"
      ]
     },
     "metadata": {},
     "output_type": "display_data"
    },
    {
     "data": {
      "text/latex": [
       "$\\displaystyle [45]\\text{   }{{{opr}}}_{wf, ho, q{3}} - 0.7 \\cdot {{{cap}}}_{wf, ho, y{0}} \\leq 0$"
      ],
      "text/plain": [
       "<IPython.core.display.Math object>"
      ]
     },
     "metadata": {},
     "output_type": "display_data"
    },
    {
     "data": {
      "text/latex": [
       "$\\displaystyle [46]\\text{   }{{{opr}}}_{wf, sd, q{0}} - 0.8 \\cdot {{{cap}}}_{wf, sd, y{0}} \\leq 0$"
      ],
      "text/plain": [
       "<IPython.core.display.Math object>"
      ]
     },
     "metadata": {},
     "output_type": "display_data"
    },
    {
     "data": {
      "text/latex": [
       "$\\displaystyle [47]\\text{   }{{{opr}}}_{wf, sd, q{1}} - 0.7 \\cdot {{{cap}}}_{wf, sd, y{0}} \\leq 0$"
      ],
      "text/plain": [
       "<IPython.core.display.Math object>"
      ]
     },
     "metadata": {},
     "output_type": "display_data"
    },
    {
     "data": {
      "text/latex": [
       "$\\displaystyle [48]\\text{   }{{{opr}}}_{wf, sd, q{2}} - 0.6 \\cdot {{{cap}}}_{wf, sd, y{0}} \\leq 0$"
      ],
      "text/plain": [
       "<IPython.core.display.Math object>"
      ]
     },
     "metadata": {},
     "output_type": "display_data"
    },
    {
     "data": {
      "text/latex": [
       "$\\displaystyle [49]\\text{   }{{{opr}}}_{wf, sd, q{3}} - 0.5 \\cdot {{{cap}}}_{wf, sd, y{0}} \\leq 0$"
      ],
      "text/plain": [
       "<IPython.core.display.Math object>"
      ]
     },
     "metadata": {},
     "output_type": "display_data"
    },
    {
     "data": {
      "text/latex": [
       "$\\displaystyle [50]\\text{   }{{{opr}}}_{wf, ny, q{0}} - 0.6 \\cdot {{{cap}}}_{wf, ny, y{0}} \\leq 0$"
      ],
      "text/plain": [
       "<IPython.core.display.Math object>"
      ]
     },
     "metadata": {},
     "output_type": "display_data"
    },
    {
     "data": {
      "text/latex": [
       "$\\displaystyle [51]\\text{   }{{{opr}}}_{wf, ny, q{1}} - 0.5 \\cdot {{{cap}}}_{wf, ny, y{0}} \\leq 0$"
      ],
      "text/plain": [
       "<IPython.core.display.Math object>"
      ]
     },
     "metadata": {},
     "output_type": "display_data"
    },
    {
     "data": {
      "text/latex": [
       "$\\displaystyle [52]\\text{   }{{{opr}}}_{wf, ny, q{2}} - 0.4 \\cdot {{{cap}}}_{wf, ny, y{0}} \\leq 0$"
      ],
      "text/plain": [
       "<IPython.core.display.Math object>"
      ]
     },
     "metadata": {},
     "output_type": "display_data"
    },
    {
     "data": {
      "text/latex": [
       "$\\displaystyle [53]\\text{   }{{{opr}}}_{wf, ny, q{3}} - 0.3 \\cdot {{{cap}}}_{wf, ny, y{0}} \\leq 0$"
      ],
      "text/plain": [
       "<IPython.core.display.Math object>"
      ]
     },
     "metadata": {},
     "output_type": "display_data"
    }
   ],
   "source": [
    "m.wf.operate.prep(norm=True)(m.ho) <= [0.9, 0.8, 0.5, 0.7]\n",
    "m.wf.operate.prep(norm=True)(m.sd) <= [0.8, 0.7, 0.6, 0.5]\n",
    "m.wf.operate.prep(norm=True)(m.ny) <= [0.6, 0.5, 0.4, 0.3]\n",
    "m.operate.show(True)\n",
    "# m.wf.operate.prep(norm = True).forall(m.network.has) <= [[0.9, 0.8, 0.5, 0.7], [0.8, 0.7, 0.6, 0.5], [0.6, 0.5, 0.4, 0.3]]"
   ]
  },
  {
   "cell_type": "markdown",
   "id": "0889efcf",
   "metadata": {},
   "source": [
    "Calculations can also be provided for all locations as a list or repeated"
   ]
  },
  {
   "cell_type": "code",
   "execution_count": 11,
   "id": "9351a076",
   "metadata": {},
   "outputs": [
    {
     "name": "stdout",
     "output_type": "stream",
     "text": [
      "bbbb capacity (wf, sd, y[0])\n",
      "bbbb spend (usd, ho, y[0], capacity, wf)\n",
      "bbbb capacity (wf, ho, y[0])\n",
      "bbbb spend (usd, ny, y[0], capacity, wf)\n",
      "bbbb capacity (wf, ny, y[0])\n",
      "bbbb spend (usd, sd, y[0], operate, wf)\n",
      "bbbb spend (usd, ho, y[0], operate, wf)\n",
      "bbbb spend (usd, ny, y[0], operate, wf)\n",
      "bbbb operate (wf, sd, y[0])\n",
      "bbbb operate (wf, ho, y[0])\n",
      "bbbb operate (wf, ny, y[0])\n"
     ]
    }
   ],
   "source": [
    "m.wf.capacity[m.usd.spend].forall(m.network.has) == [90000, 70000, 60000]\n",
    "m.wf.operate[m.usd.spend] == 49"
   ]
  },
  {
   "cell_type": "code",
   "execution_count": 12,
   "id": "93875baa",
   "metadata": {},
   "outputs": [
    {
     "data": {
      "text/markdown": [
       "# Mathematical Program for Program(example4)"
      ],
      "text/plain": [
       "<IPython.core.display.Markdown object>"
      ]
     },
     "metadata": {},
     "output_type": "display_data"
    },
    {
     "data": {
      "text/markdown": [
       "<br><br>"
      ],
      "text/plain": [
       "<IPython.core.display.Markdown object>"
      ]
     },
     "metadata": {},
     "output_type": "display_data"
    },
    {
     "data": {
      "text/markdown": [
       "## Index Sets"
      ],
      "text/plain": [
       "<IPython.core.display.Markdown object>"
      ]
     },
     "metadata": {},
     "output_type": "display_data"
    },
    {
     "data": {
      "text/latex": [
       "$\\displaystyle currencies = \\{ usd \\}$"
      ],
      "text/plain": [
       "<IPython.core.display.Math object>"
      ]
     },
     "metadata": {},
     "output_type": "display_data"
    },
    {
     "data": {
      "text/latex": [
       "$\\displaystyle locations = \\{ ho, sd, ny, sd, ho, ny \\}$"
      ],
      "text/plain": [
       "<IPython.core.display.Math object>"
      ]
     },
     "metadata": {},
     "output_type": "display_data"
    },
    {
     "data": {
      "text/latex": [
       "$\\displaystyle ntw = \\{ sd, ho, ny \\}$"
      ],
      "text/plain": [
       "<IPython.core.display.Math object>"
      ]
     },
     "metadata": {},
     "output_type": "display_data"
    },
    {
     "data": {
      "text/latex": [
       "$\\displaystyle resources = \\{ power, wind, solar \\}$"
      ],
      "text/plain": [
       "<IPython.core.display.Math object>"
      ]
     },
     "metadata": {},
     "output_type": "display_data"
    },
    {
     "data": {
      "text/latex": [
       "$\\displaystyle y = \\{ {y_{0}} \\}$"
      ],
      "text/plain": [
       "<IPython.core.display.Math object>"
      ]
     },
     "metadata": {},
     "output_type": "display_data"
    },
    {
     "data": {
      "text/latex": [
       "$\\displaystyle q = \\{ {q_{0}}, {q_{1}}, {q_{2}}, {q_{3}} \\}$"
      ],
      "text/plain": [
       "<IPython.core.display.Math object>"
      ]
     },
     "metadata": {},
     "output_type": "display_data"
    },
    {
     "data": {
      "text/latex": [
       "$\\displaystyle processes = \\{ wf \\}$"
      ],
      "text/plain": [
       "<IPython.core.display.Math object>"
      ]
     },
     "metadata": {},
     "output_type": "display_data"
    },
    {
     "data": {
      "text/markdown": [
       "<br><br>"
      ],
      "text/plain": [
       "<IPython.core.display.Markdown object>"
      ]
     },
     "metadata": {},
     "output_type": "display_data"
    },
    {
     "data": {
      "text/markdown": [
       "## s.t."
      ],
      "text/plain": [
       "<IPython.core.display.Markdown object>"
      ]
     },
     "metadata": {},
     "output_type": "display_data"
    },
    {
     "data": {
      "text/markdown": [
       "### Bound Constraint Sets"
      ],
      "text/plain": [
       "<IPython.core.display.Markdown object>"
      ]
     },
     "metadata": {},
     "output_type": "display_data"
    },
    {
     "data": {
      "text/latex": [
       "$\\displaystyle [1]\\text{   }{{{cons}}}_{solar, ntw, y} - 1200 \\leq 0$"
      ],
      "text/plain": [
       "<IPython.core.display.Math object>"
      ]
     },
     "metadata": {},
     "output_type": "display_data"
    },
    {
     "data": {
      "text/latex": [
       "$\\displaystyle [3]\\text{   }{{{{cons}}}}_{wind, ntw, y} - 1200 \\leq 0$"
      ],
      "text/plain": [
       "<IPython.core.display.Math object>"
      ]
     },
     "metadata": {},
     "output_type": "display_data"
    },
    {
     "data": {
      "text/latex": [
       "$\\displaystyle [5]\\text{   }-{{{rlse}}}_{power, ho, q} + {φ}_{} \\leq 0$"
      ],
      "text/plain": [
       "<IPython.core.display.Math object>"
      ]
     },
     "metadata": {},
     "output_type": "display_data"
    },
    {
     "data": {
      "text/latex": [
       "$\\displaystyle [7]\\text{   }-{{{{rlse}}}}_{power, sd, q} + {φ}_{} \\leq 0$"
      ],
      "text/plain": [
       "<IPython.core.display.Math object>"
      ]
     },
     "metadata": {},
     "output_type": "display_data"
    },
    {
     "data": {
      "text/latex": [
       "$\\displaystyle [9]\\text{   }-{{{{rlse}}}}_{power, ny, q} + {φ}_{} \\leq 0$"
      ],
      "text/plain": [
       "<IPython.core.display.Math object>"
      ]
     },
     "metadata": {},
     "output_type": "display_data"
    },
    {
     "data": {
      "text/latex": [
       "$\\displaystyle [10]\\text{   }10 \\cdot {{{\\breve{{cap}}}}}_{wf, sd, y} - {{{cap}}}_{wf, sd, y} \\leq 0$"
      ],
      "text/plain": [
       "<IPython.core.display.Math object>"
      ]
     },
     "metadata": {},
     "output_type": "display_data"
    },
    {
     "data": {
      "text/latex": [
       "$\\displaystyle [11]\\text{   }7 \\cdot {{{{\\breve{{cap}}}}}}_{wf, ho, y} - {{{{cap}}}}_{wf, ho, y} \\leq 0$"
      ],
      "text/plain": [
       "<IPython.core.display.Math object>"
      ]
     },
     "metadata": {},
     "output_type": "display_data"
    },
    {
     "data": {
      "text/latex": [
       "$\\displaystyle [12]\\text{   }20 \\cdot {{{{\\breve{{cap}}}}}}_{wf, ny, y} - {{{{cap}}}}_{wf, ny, y} \\leq 0$"
      ],
      "text/plain": [
       "<IPython.core.display.Math object>"
      ]
     },
     "metadata": {},
     "output_type": "display_data"
    },
    {
     "data": {
      "text/latex": [
       "$\\displaystyle [13]\\text{   }{{{{cap}}}}_{wf, sd, y} - 100 \\cdot {{{{\\breve{{cap}}}}}}_{wf, sd, y} \\leq 0$"
      ],
      "text/plain": [
       "<IPython.core.display.Math object>"
      ]
     },
     "metadata": {},
     "output_type": "display_data"
    },
    {
     "data": {
      "text/latex": [
       "$\\displaystyle [14]\\text{   }{{{{cap}}}}_{wf, ho, y} - 100 \\cdot {{{{\\breve{{cap}}}}}}_{wf, ho, y} \\leq 0$"
      ],
      "text/plain": [
       "<IPython.core.display.Math object>"
      ]
     },
     "metadata": {},
     "output_type": "display_data"
    },
    {
     "data": {
      "text/latex": [
       "$\\displaystyle [15]\\text{   }{{{{cap}}}}_{wf, ny, y} - 100 \\cdot {{{{\\breve{{cap}}}}}}_{wf, ny, y} \\leq 0$"
      ],
      "text/plain": [
       "<IPython.core.display.Math object>"
      ]
     },
     "metadata": {},
     "output_type": "display_data"
    },
    {
     "data": {
      "text/latex": [
       "$\\displaystyle [16]\\text{   }{{{opr}}}_{wf, ho, q} - {φ}_{} \\cdot {{{{cap}}}}_{wf, ho, y} \\leq 0$"
      ],
      "text/plain": [
       "<IPython.core.display.Math object>"
      ]
     },
     "metadata": {},
     "output_type": "display_data"
    },
    {
     "data": {
      "text/latex": [
       "$\\displaystyle [17]\\text{   }{{{{opr}}}}_{wf, sd, q} - {φ}_{} \\cdot {{{{cap}}}}_{wf, sd, y} \\leq 0$"
      ],
      "text/plain": [
       "<IPython.core.display.Math object>"
      ]
     },
     "metadata": {},
     "output_type": "display_data"
    },
    {
     "data": {
      "text/latex": [
       "$\\displaystyle [18]\\text{   }{{{{opr}}}}_{wf, ny, q} - {φ}_{} \\cdot {{{{cap}}}}_{wf, ny, y} \\leq 0$"
      ],
      "text/plain": [
       "<IPython.core.display.Math object>"
      ]
     },
     "metadata": {},
     "output_type": "display_data"
    },
    {
     "data": {
      "text/markdown": [
       "### Calculation Constraint Sets"
      ],
      "text/plain": [
       "<IPython.core.display.Markdown object>"
      ]
     },
     "metadata": {},
     "output_type": "display_data"
    },
    {
     "data": {
      "text/latex": [
       "$\\displaystyle [19]\\text{   }{{spend}}_{usd, sd, y, {capacity}, wf} - 90000 \\cdot {{{{cap}}}}_{wf, sd, y} = 0$"
      ],
      "text/plain": [
       "<IPython.core.display.Math object>"
      ]
     },
     "metadata": {},
     "output_type": "display_data"
    },
    {
     "data": {
      "text/latex": [
       "$\\displaystyle [20]\\text{   }{{{spend}}}_{usd, ho, y, {capacity}, wf} - 70000 \\cdot {{{{cap}}}}_{wf, ho, y} = 0$"
      ],
      "text/plain": [
       "<IPython.core.display.Math object>"
      ]
     },
     "metadata": {},
     "output_type": "display_data"
    },
    {
     "data": {
      "text/latex": [
       "$\\displaystyle [21]\\text{   }{{{spend}}}_{usd, ny, y, {capacity}, wf} - 60000 \\cdot {{{{cap}}}}_{wf, ny, y} = 0$"
      ],
      "text/plain": [
       "<IPython.core.display.Math object>"
      ]
     },
     "metadata": {},
     "output_type": "display_data"
    },
    {
     "data": {
      "text/latex": [
       "$\\displaystyle [22]\\text{   }{{{spend}}}_{usd, ntw, y, {operate}, wf} - 49 \\cdot {{{{opr}}}}_{wf, ntw, y} = 0$"
      ],
      "text/plain": [
       "<IPython.core.display.Math object>"
      ]
     },
     "metadata": {},
     "output_type": "display_data"
    },
    {
     "data": {
      "text/markdown": [
       "### General Resource Balance Constraint Sets"
      ],
      "text/plain": [
       "<IPython.core.display.Markdown object>"
      ]
     },
     "metadata": {},
     "output_type": "display_data"
    },
    {
     "data": {
      "text/latex": [
       "$\\displaystyle [0]\\text{   }{{{cons}}}_{solar, ntw, y} = 0$"
      ],
      "text/plain": [
       "<IPython.core.display.Math object>"
      ]
     },
     "metadata": {},
     "output_type": "display_data"
    },
    {
     "data": {
      "text/latex": [
       "$\\displaystyle [2]\\text{   }{{{{cons}}}}_{wind, ntw, y} = 0$"
      ],
      "text/plain": [
       "<IPython.core.display.Math object>"
      ]
     },
     "metadata": {},
     "output_type": "display_data"
    },
    {
     "data": {
      "text/latex": [
       "$\\displaystyle [4]\\text{   }-{{{rlse}}}_{power, ho, q} = 0$"
      ],
      "text/plain": [
       "<IPython.core.display.Math object>"
      ]
     },
     "metadata": {},
     "output_type": "display_data"
    },
    {
     "data": {
      "text/latex": [
       "$\\displaystyle [6]\\text{   }-{{{{rlse}}}}_{power, sd, q} = 0$"
      ],
      "text/plain": [
       "<IPython.core.display.Math object>"
      ]
     },
     "metadata": {},
     "output_type": "display_data"
    },
    {
     "data": {
      "text/latex": [
       "$\\displaystyle [8]\\text{   }-{{{{rlse}}}}_{power, ny, q} = 0$"
      ],
      "text/plain": [
       "<IPython.core.display.Math object>"
      ]
     },
     "metadata": {},
     "output_type": "display_data"
    }
   ],
   "source": [
    "m.show()"
   ]
  },
  {
   "cell_type": "markdown",
   "id": "99b036bb",
   "metadata": {},
   "source": [
    "In the case where location specific data is not provided, the parameter is assumed tuo apply to the network"
   ]
  },
  {
   "cell_type": "code",
   "execution_count": 13,
   "id": "ae7e2a28",
   "metadata": {},
   "outputs": [],
   "source": [
    "m.pv = Process()\n",
    "m.pv(m.power) == -1 * m.solar"
   ]
  },
  {
   "cell_type": "code",
   "execution_count": 14,
   "id": "9296564f",
   "metadata": {},
   "outputs": [
    {
     "name": "stdout",
     "output_type": "stream",
     "text": [
      "bbbb capacity (pv, sd, y[0])\n",
      "bbbb capacity (pv, ho, y[0])\n",
      "bbbb capacity (pv, ny, y[0])\n",
      "--- Binding capacity in domain (pv, ntw, y)\n",
      "bbbb x_capacity (pv, sd, y[0])\n",
      "bbbb x_capacity (pv, ho, y[0])\n",
      "bbbb x_capacity (pv, ny, y[0])\n",
      "    Completed in 0.0002377033233642578 seconds\n",
      "bbbb capacity (pv, sd, y[0])\n",
      "bbbb capacity (pv, ho, y[0])\n",
      "bbbb capacity (pv, ny, y[0])\n",
      "--- Binding capacity in domain (pv, ntw, y)\n",
      "bbbb x_capacity (pv, sd, y[0])\n",
      "bbbb x_capacity (pv, ho, y[0])\n",
      "bbbb x_capacity (pv, ny, y[0])\n",
      "    Completed in 0.00018644332885742188 seconds\n",
      "bbbb operate (pv, sd, q[0])\n",
      "bbbb operate (pv, sd, q[1])\n",
      "bbbb operate (pv, sd, q[2])\n",
      "bbbb operate (pv, sd, q[3])\n",
      "--- Binding operate in domain (pv, sd, q)\n",
      "--- Aspect (capacity) not defined at sd, a variable will be created assuming y as the temporal index\n",
      "bbbb capacity (pv, sd, y[0])\n",
      "--- Creating map to (pv, ntw, y). Mapping capacity: from (pv, sd, y) to (pv, ntw, y)\n",
      "bbbb capacity (pv, sd, y[0])\n",
      "bbbb capacity (pv, ho, y[0])\n",
      "bbbb capacity (pv, ny, y[0])\n",
      "    Completed in 0.00012493133544921875 seconds\n",
      "bbbb capacity (pv, sd, y[0])\n",
      "    Completed in 0.0004425048828125 seconds\n",
      "bbbb operate (pv, ho, q[0])\n",
      "bbbb operate (pv, ho, q[1])\n",
      "bbbb operate (pv, ho, q[2])\n",
      "bbbb operate (pv, ho, q[3])\n",
      "--- Binding operate in domain (pv, ho, q)\n",
      "--- Aspect (capacity) not defined at ho, a variable will be created assuming y as the temporal index\n",
      "bbbb capacity (pv, ho, y[0])\n",
      "--- Mapping capacity: from (pv, ho, y) to (pv, ntw, y)\n",
      "bbbb capacity (pv, ho, y[0])\n",
      "    Completed in 0.000194549560546875 seconds\n",
      "bbbb capacity (pv, ho, y[0])\n",
      "    Completed in 0.0005002021789550781 seconds\n",
      "bbbb operate (pv, ny, q[0])\n",
      "bbbb operate (pv, ny, q[1])\n",
      "bbbb operate (pv, ny, q[2])\n",
      "bbbb operate (pv, ny, q[3])\n",
      "--- Binding operate in domain (pv, ny, q)\n",
      "--- Aspect (capacity) not defined at ny, a variable will be created assuming y as the temporal index\n",
      "bbbb capacity (pv, ny, y[0])\n",
      "--- Mapping capacity: from (pv, ny, y) to (pv, ntw, y)\n",
      "bbbb capacity (pv, ny, y[0])\n",
      "    Completed in 7.772445678710938e-05 seconds\n",
      "bbbb capacity (pv, ny, y[0])\n",
      "    Completed in 0.0003712177276611328 seconds\n",
      "bbbb spend (usd, sd, y[0], capacity, pv)\n",
      "bbbb spend (usd, ho, y[0], capacity, pv)\n",
      "bbbb spend (usd, ny, y[0], capacity, pv)\n",
      "bbbb capacity (pv, sd, y[0])\n",
      "bbbb capacity (pv, ho, y[0])\n",
      "bbbb capacity (pv, ny, y[0])\n",
      "bbbb spend (usd, sd, y[0], operate, pv)\n",
      "bbbb spend (usd, ho, y[0], operate, pv)\n",
      "bbbb spend (usd, ny, y[0], operate, pv)\n",
      "bbbb operate (pv, sd, y[0])\n",
      "bbbb operate (pv, ho, y[0])\n",
      "bbbb operate (pv, ny, y[0])\n",
      "--- Binding invcapacity in domain (power.lii, ntw, y)\n",
      "    Completed in 0.0001418590545654297 seconds\n",
      "--- Binding invcapacity in domain (power.lii, ntw, y)\n",
      "    Completed in 0.00013065338134765625 seconds\n",
      "bbbb spend (usd, sd, y[0], invcapacity, power.lii)\n",
      "bbbb spend (usd, ho, y[0], invcapacity, power.lii)\n",
      "bbbb spend (usd, ny, y[0], invcapacity, power.lii)\n",
      "--- General Resource Balance for power.lii in (ntw, y): initializing constraint, adding inventory(power.lii, ntw, y)\n",
      "bbbb spend (usd, sd, y[0], inventory, power.lii)\n",
      "bbbb spend (usd, ho, y[0], inventory, power.lii)\n",
      "bbbb spend (usd, ny, y[0], inventory, power.lii)\n",
      "bbbb capacity (lii.charge, sd, y[0])\n",
      "bbbb capacity (lii.charge, ho, y[0])\n",
      "bbbb capacity (lii.charge, ny, y[0])\n",
      "--- Binding capacity in domain (lii.charge, ntw, y)\n",
      "    Completed in 5.364418029785156e-05 seconds\n",
      "bbbb operate (lii.charge, sd, y[0])\n",
      "bbbb operate (lii.charge, ho, y[0])\n",
      "bbbb operate (lii.charge, ny, y[0])\n",
      "--- Binding operate in domain (lii.charge, ntw, y)\n",
      "bbbb capacity (lii.charge, sd, y[0])\n",
      "bbbb capacity (lii.charge, ho, y[0])\n",
      "bbbb capacity (lii.charge, ny, y[0])\n",
      "    Completed in 0.00012183189392089844 seconds\n",
      "bbbb capacity (lii.discharge, sd, y[0])\n",
      "bbbb capacity (lii.discharge, ho, y[0])\n",
      "bbbb capacity (lii.discharge, ny, y[0])\n",
      "--- Binding capacity in domain (lii.discharge, ntw, y)\n",
      "    Completed in 5.6743621826171875e-05 seconds\n",
      "bbbb operate (lii.discharge, sd, y[0])\n",
      "bbbb operate (lii.discharge, ho, y[0])\n",
      "bbbb operate (lii.discharge, ny, y[0])\n",
      "--- Binding operate in domain (lii.discharge, ntw, y)\n",
      "bbbb capacity (lii.discharge, sd, y[0])\n",
      "bbbb capacity (lii.discharge, ho, y[0])\n",
      "bbbb capacity (lii.discharge, ny, y[0])\n",
      "    Completed in 0.00011682510375976562 seconds\n",
      "bbbb capacity (wf, ho, y[0])\n",
      "--- Creating map to (wf, ntw, y). Mapping capacity: from (wf, ho, y) to (wf, ntw, y)\n",
      "bbbb capacity (wf, sd, y[0])\n",
      "bbbb capacity (wf, ho, y[0])\n",
      "bbbb capacity (wf, ny, y[0])\n",
      "    Completed in 0.00011420249938964844 seconds\n",
      "bbbb capacity (wf, sd, y[0])\n",
      "--- Mapping capacity: from (wf, sd, y) to (wf, ntw, y)\n",
      "bbbb capacity (wf, sd, y[0])\n",
      "    Completed in 8.0108642578125e-05 seconds\n",
      "bbbb capacity (wf, ny, y[0])\n",
      "--- Mapping capacity: from (wf, ny, y) to (wf, ntw, y)\n",
      "bbbb capacity (wf, ny, y[0])\n",
      "    Completed in 6.890296936035156e-05 seconds\n",
      "bbbb capacity (wf, sd, y[0])\n",
      "bbbb capacity (wf, ho, y[0])\n",
      "bbbb capacity (wf, ny, y[0])\n",
      "bbbb emit (gwp, sd, y[0], capacity, pv)\n",
      "bbbb emit (gwp, ho, y[0], capacity, pv)\n",
      "bbbb emit (gwp, ny, y[0], capacity, pv)\n",
      "bbbb capacity (pv, sd, y[0])\n",
      "bbbb capacity (pv, ho, y[0])\n",
      "bbbb capacity (pv, ny, y[0])\n",
      "bbbb emit (gwp, sd, y[0], invcapacity, power.lii)\n",
      "bbbb emit (gwp, ho, y[0], invcapacity, power.lii)\n",
      "bbbb emit (gwp, ny, y[0], invcapacity, power.lii)\n",
      "--- General Resource Balance for cement in (ntw, y): initializing constraint, adding consume(cement, ntw, y)\n",
      "bbbb consume (cement, sd, y[0])\n",
      "bbbb consume (cement, ho, y[0])\n",
      "bbbb consume (cement, ny, y[0])\n",
      "    Completed in 0.00011277198791503906 seconds\n",
      "bbbb consume (cement, sd, y[0])\n",
      "bbbb consume (cement, ho, y[0])\n",
      "bbbb consume (cement, ny, y[0])\n",
      "--- Binding consume in domain (cement, ntw, y)\n",
      "    Completed in 5.4836273193359375e-05 seconds\n",
      "bbbb spend (usd, sd, y[0], consume, cement)\n",
      "bbbb spend (usd, ho, y[0], consume, cement)\n",
      "bbbb spend (usd, ny, y[0], consume, cement)\n",
      "bbbb consume (cement, sd, y[0])\n",
      "bbbb consume (cement, ho, y[0])\n",
      "bbbb consume (cement, ny, y[0])\n",
      "bbbb emit (gwp, sd, y[0], consume, cement)\n",
      "bbbb emit (gwp, ho, y[0], consume, cement)\n",
      "bbbb emit (gwp, ny, y[0], consume, cement)\n",
      "bbbb consume (cement, sd, y[0])\n",
      "bbbb consume (cement, ho, y[0])\n",
      "bbbb consume (cement, ny, y[0])\n",
      "--- General Resource Balance for cement in (ntw, y): adding use(cement, ntw, y, capacity, wf)\n",
      "    Completed in 7.343292236328125e-05 seconds\n",
      "bbbb capacity (wf, sd, y[0])\n",
      "bbbb capacity (wf, ho, y[0])\n",
      "bbbb capacity (wf, ny, y[0])\n",
      "--- General Resource Balance for cement in (ntw, y): adding use(cement, ntw, y, capacity, pv)\n",
      "bbbb use (cement, sd, y[0], capacity, pv)\n",
      "bbbb use (cement, ho, y[0], capacity, pv)\n",
      "bbbb use (cement, ny, y[0], capacity, pv)\n",
      "    Completed in 0.00013136863708496094 seconds\n",
      "bbbb use (cement, sd, y[0], capacity, pv)\n",
      "bbbb use (cement, ho, y[0], capacity, pv)\n",
      "bbbb use (cement, ny, y[0], capacity, pv)\n",
      "bbbb capacity (pv, sd, y[0])\n",
      "bbbb capacity (pv, ho, y[0])\n",
      "bbbb capacity (pv, ny, y[0])\n",
      "--- General Resource Balance for cement in (ntw, y): adding use(cement, ntw, y, invcapacity, power.lii)\n",
      "bbbb use (cement, sd, y[0], invcapacity, power.lii)\n",
      "bbbb use (cement, ho, y[0], invcapacity, power.lii)\n",
      "bbbb use (cement, ny, y[0], invcapacity, power.lii)\n",
      "    Completed in 0.0001220703125 seconds\n",
      "bbbb use (cement, sd, y[0], invcapacity, power.lii)\n",
      "bbbb use (cement, ho, y[0], invcapacity, power.lii)\n",
      "bbbb use (cement, ny, y[0], invcapacity, power.lii)\n"
     ]
    }
   ],
   "source": [
    "m.pv.capacity.x <= 100\n",
    "m.pv.capacity.x >= 10\n",
    "m.pv.operate.prep(norm=True).forall(m.network.has) <= [\n",
    "    [0.6, 0.8, 0.9, 0.7],\n",
    "    [0.5, 0.7, 0.6, 0.5],\n",
    "    [0.4, 0.6, 0.5, 0.4],\n",
    "]\n",
    "m.pv.capacity[m.usd.spend] == 567000 + 872046\n",
    "m.pv.operate[m.usd.spend] == 90000\n",
    "\n",
    "m.lii = Storage()\n",
    "m.lii(m.power) == 0.9\n",
    "m.lii.capacity.x <= 100\n",
    "m.lii.capacity.x >= 10\n",
    "m.lii.capacity[m.usd.spend] == 1302182 + 41432\n",
    "m.lii.inventory[m.usd.spend] == 2000\n",
    "m.lii.charge.capacity <= 100\n",
    "m.lii.charge.operate <= 1\n",
    "m.lii.discharge.capacity <= 100\n",
    "m.lii.discharge.operate <= 1\n",
    "\n",
    "m.gwp = Environ()\n",
    "\n",
    "m.wf.capacity[m.gwp.emit] == 1000\n",
    "m.pv.capacity[m.gwp.emit] == 2000\n",
    "m.lii.capacity[m.gwp.emit] == 3000\n",
    "\n",
    "m.cement = Material()\n",
    "m.cement.consume <= 1000000\n",
    "m.cement.consume[m.usd.spend] == 17\n",
    "m.cement.consume[m.gwp.emit] == 0.9\n",
    "\n",
    "m.wf.capacity[m.cement.use] == 400\n",
    "m.pv.capacity[m.cement.use] == 560\n",
    "m.lii.capacity[m.cement.use] == 300"
   ]
  },
  {
   "cell_type": "markdown",
   "id": "b3f2f7a5",
   "metadata": {},
   "source": [
    "## Linkages "
   ]
  },
  {
   "cell_type": "markdown",
   "id": "0d06a78d",
   "metadata": {},
   "source": [
    "A grid of valid linkages can be created from sources to sinks.\n",
    "\n",
    "Linkages are always one directional, stating bi, created a link from source to sink and the other way round \n",
    "\n",
    "If multiple links exist between two locations with different distances, it is necessary to create named links. \n",
    "Again, it needs to be stated whether the links are bi directional "
   ]
  },
  {
   "cell_type": "code",
   "execution_count": 15,
   "id": "4164ba42",
   "metadata": {},
   "outputs": [
    {
     "data": {
      "text/plain": [
       "[ho-sd, sd-ho, road, -road]"
      ]
     },
     "execution_count": 15,
     "metadata": {},
     "output_type": "execute_result"
    }
   ],
   "source": [
    "m.Link(source=m.ho, sink=m.sd, dist=2000, bi=True)\n",
    "# m.Link(source = m.sd, sink=m.ny, dist = 1500)\n",
    "m.road = Linkage(source=m.ho, sink=m.ny, dist=3000, bi=True)\n",
    "# m.rail = Link(source = m.ho, sink=m.ny, dist = 5000, bi = True)\n",
    "m.linkages"
   ]
  },
  {
   "cell_type": "code",
   "execution_count": 16,
   "id": "02e86387",
   "metadata": {},
   "outputs": [
    {
     "name": "stdout",
     "output_type": "stream",
     "text": [
      "ho is source and sd is sink in ho-sd\n",
      "sd is source and ho is sink in sd-ho\n"
     ]
    },
    {
     "data": {
      "text/plain": [
       "[ho-sd, sd-ho]"
      ]
     },
     "execution_count": 16,
     "metadata": {},
     "output_type": "execute_result"
    }
   ],
   "source": [
    "m.ho.links(m.sd)"
   ]
  },
  {
   "cell_type": "markdown",
   "id": "72275a98",
   "metadata": {},
   "source": [
    "## Transits\n",
    "\n",
    "Declare some transport options between across the linkages \n"
   ]
  },
  {
   "cell_type": "code",
   "execution_count": 17,
   "id": "630c372f",
   "metadata": {},
   "outputs": [
    {
     "data": {
      "text/markdown": [
       "# Mathematical Program for Program(example4)"
      ],
      "text/plain": [
       "<IPython.core.display.Markdown object>"
      ]
     },
     "metadata": {},
     "output_type": "display_data"
    },
    {
     "data": {
      "text/markdown": [
       "<br><br>"
      ],
      "text/plain": [
       "<IPython.core.display.Markdown object>"
      ]
     },
     "metadata": {},
     "output_type": "display_data"
    },
    {
     "data": {
      "text/markdown": [
       "## Index Sets"
      ],
      "text/plain": [
       "<IPython.core.display.Markdown object>"
      ]
     },
     "metadata": {},
     "output_type": "display_data"
    },
    {
     "data": {
      "text/latex": [
       "$\\displaystyle currencies = \\{ usd \\}$"
      ],
      "text/plain": [
       "<IPython.core.display.Math object>"
      ]
     },
     "metadata": {},
     "output_type": "display_data"
    },
    {
     "data": {
      "text/latex": [
       "$\\displaystyle locations = \\{ ho, sd, ny, sd, ho, ny \\}$"
      ],
      "text/plain": [
       "<IPython.core.display.Math object>"
      ]
     },
     "metadata": {},
     "output_type": "display_data"
    },
    {
     "data": {
      "text/latex": [
       "$\\displaystyle ntw = \\{ sd, ho, ny \\}$"
      ],
      "text/plain": [
       "<IPython.core.display.Math object>"
      ]
     },
     "metadata": {},
     "output_type": "display_data"
    },
    {
     "data": {
      "text/latex": [
       "$\\displaystyle resources = \\{ power, wind, solar, power.lii \\}$"
      ],
      "text/plain": [
       "<IPython.core.display.Math object>"
      ]
     },
     "metadata": {},
     "output_type": "display_data"
    },
    {
     "data": {
      "text/latex": [
       "$\\displaystyle y = \\{ {y_{0}} \\}$"
      ],
      "text/plain": [
       "<IPython.core.display.Math object>"
      ]
     },
     "metadata": {},
     "output_type": "display_data"
    },
    {
     "data": {
      "text/latex": [
       "$\\displaystyle q = \\{ {q_{0}}, {q_{1}}, {q_{2}}, {q_{3}} \\}$"
      ],
      "text/plain": [
       "<IPython.core.display.Math object>"
      ]
     },
     "metadata": {},
     "output_type": "display_data"
    },
    {
     "data": {
      "text/latex": [
       "$\\displaystyle processes = \\{ wf, pv, lii.charge, lii.discharge \\}$"
      ],
      "text/plain": [
       "<IPython.core.display.Math object>"
      ]
     },
     "metadata": {},
     "output_type": "display_data"
    },
    {
     "data": {
      "text/latex": [
       "$\\displaystyle storages = \\{ lii \\}$"
      ],
      "text/plain": [
       "<IPython.core.display.Math object>"
      ]
     },
     "metadata": {},
     "output_type": "display_data"
    },
    {
     "data": {
      "text/latex": [
       "$\\displaystyle materials = \\{ cement \\}$"
      ],
      "text/plain": [
       "<IPython.core.display.Math object>"
      ]
     },
     "metadata": {},
     "output_type": "display_data"
    },
    {
     "data": {
      "text/latex": [
       "$\\displaystyle linkages = \\{ ho-sd, sd-ho, road, -road \\}$"
      ],
      "text/plain": [
       "<IPython.core.display.Math object>"
      ]
     },
     "metadata": {},
     "output_type": "display_data"
    },
    {
     "data": {
      "text/markdown": [
       "<br><br>"
      ],
      "text/plain": [
       "<IPython.core.display.Markdown object>"
      ]
     },
     "metadata": {},
     "output_type": "display_data"
    },
    {
     "data": {
      "text/markdown": [
       "## s.t."
      ],
      "text/plain": [
       "<IPython.core.display.Markdown object>"
      ]
     },
     "metadata": {},
     "output_type": "display_data"
    },
    {
     "data": {
      "text/markdown": [
       "### Bound Constraint Sets"
      ],
      "text/plain": [
       "<IPython.core.display.Markdown object>"
      ]
     },
     "metadata": {},
     "output_type": "display_data"
    },
    {
     "data": {
      "text/latex": [
       "$\\displaystyle [1]\\text{   }{{{cons}}}_{solar, ntw, y} - 1200 \\leq 0$"
      ],
      "text/plain": [
       "<IPython.core.display.Math object>"
      ]
     },
     "metadata": {},
     "output_type": "display_data"
    },
    {
     "data": {
      "text/latex": [
       "$\\displaystyle [3]\\text{   }{{{{cons}}}}_{wind, ntw, y} - 1200 \\leq 0$"
      ],
      "text/plain": [
       "<IPython.core.display.Math object>"
      ]
     },
     "metadata": {},
     "output_type": "display_data"
    },
    {
     "data": {
      "text/latex": [
       "$\\displaystyle [5]\\text{   }-{{{rlse}}}_{power, ho, q} + {φ}_{} \\leq 0$"
      ],
      "text/plain": [
       "<IPython.core.display.Math object>"
      ]
     },
     "metadata": {},
     "output_type": "display_data"
    },
    {
     "data": {
      "text/latex": [
       "$\\displaystyle [7]\\text{   }-{{{{rlse}}}}_{power, sd, q} + {φ}_{} \\leq 0$"
      ],
      "text/plain": [
       "<IPython.core.display.Math object>"
      ]
     },
     "metadata": {},
     "output_type": "display_data"
    },
    {
     "data": {
      "text/latex": [
       "$\\displaystyle [9]\\text{   }-{{{{rlse}}}}_{power, ny, q} + {φ}_{} \\leq 0$"
      ],
      "text/plain": [
       "<IPython.core.display.Math object>"
      ]
     },
     "metadata": {},
     "output_type": "display_data"
    },
    {
     "data": {
      "text/latex": [
       "$\\displaystyle [10]\\text{   }10 \\cdot {{{\\breve{{cap}}}}}_{wf, sd, y} - {{{cap}}}_{wf, sd, y} \\leq 0$"
      ],
      "text/plain": [
       "<IPython.core.display.Math object>"
      ]
     },
     "metadata": {},
     "output_type": "display_data"
    },
    {
     "data": {
      "text/latex": [
       "$\\displaystyle [11]\\text{   }7 \\cdot {{{{\\breve{{cap}}}}}}_{wf, ho, y} - {{{{cap}}}}_{wf, ho, y} \\leq 0$"
      ],
      "text/plain": [
       "<IPython.core.display.Math object>"
      ]
     },
     "metadata": {},
     "output_type": "display_data"
    },
    {
     "data": {
      "text/latex": [
       "$\\displaystyle [12]\\text{   }20 \\cdot {{{{\\breve{{cap}}}}}}_{wf, ny, y} - {{{{cap}}}}_{wf, ny, y} \\leq 0$"
      ],
      "text/plain": [
       "<IPython.core.display.Math object>"
      ]
     },
     "metadata": {},
     "output_type": "display_data"
    },
    {
     "data": {
      "text/latex": [
       "$\\displaystyle [13]\\text{   }{{{{cap}}}}_{wf, sd, y} - 100 \\cdot {{{{\\breve{{cap}}}}}}_{wf, sd, y} \\leq 0$"
      ],
      "text/plain": [
       "<IPython.core.display.Math object>"
      ]
     },
     "metadata": {},
     "output_type": "display_data"
    },
    {
     "data": {
      "text/latex": [
       "$\\displaystyle [14]\\text{   }{{{{cap}}}}_{wf, ho, y} - 100 \\cdot {{{{\\breve{{cap}}}}}}_{wf, ho, y} \\leq 0$"
      ],
      "text/plain": [
       "<IPython.core.display.Math object>"
      ]
     },
     "metadata": {},
     "output_type": "display_data"
    },
    {
     "data": {
      "text/latex": [
       "$\\displaystyle [15]\\text{   }{{{{cap}}}}_{wf, ny, y} - 100 \\cdot {{{{\\breve{{cap}}}}}}_{wf, ny, y} \\leq 0$"
      ],
      "text/plain": [
       "<IPython.core.display.Math object>"
      ]
     },
     "metadata": {},
     "output_type": "display_data"
    },
    {
     "data": {
      "text/latex": [
       "$\\displaystyle [16]\\text{   }{{{opr}}}_{wf, ho, q} - {φ}_{} \\cdot {{{{cap}}}}_{wf, ho, y} \\leq 0$"
      ],
      "text/plain": [
       "<IPython.core.display.Math object>"
      ]
     },
     "metadata": {},
     "output_type": "display_data"
    },
    {
     "data": {
      "text/latex": [
       "$\\displaystyle [17]\\text{   }{{{{opr}}}}_{wf, sd, q} - {φ}_{} \\cdot {{{{cap}}}}_{wf, sd, y} \\leq 0$"
      ],
      "text/plain": [
       "<IPython.core.display.Math object>"
      ]
     },
     "metadata": {},
     "output_type": "display_data"
    },
    {
     "data": {
      "text/latex": [
       "$\\displaystyle [18]\\text{   }{{{{opr}}}}_{wf, ny, q} - {φ}_{} \\cdot {{{{cap}}}}_{wf, ny, y} \\leq 0$"
      ],
      "text/plain": [
       "<IPython.core.display.Math object>"
      ]
     },
     "metadata": {},
     "output_type": "display_data"
    },
    {
     "data": {
      "text/latex": [
       "$\\displaystyle [23]\\text{   }{{{{cap}}}}_{pv, ntw, y} - 100 \\cdot {{{{\\breve{{cap}}}}}}_{pv, ntw, y} \\leq 0$"
      ],
      "text/plain": [
       "<IPython.core.display.Math object>"
      ]
     },
     "metadata": {},
     "output_type": "display_data"
    },
    {
     "data": {
      "text/latex": [
       "$\\displaystyle [24]\\text{   }10 \\cdot {{{{\\breve{{cap}}}}}}_{pv, ntw, y} - {{{{cap}}}}_{pv, ntw, y} \\leq 0$"
      ],
      "text/plain": [
       "<IPython.core.display.Math object>"
      ]
     },
     "metadata": {},
     "output_type": "display_data"
    },
    {
     "data": {
      "text/latex": [
       "$\\displaystyle [26]\\text{   }{{{{opr}}}}_{pv, sd, q} - {φ}_{} \\cdot {{{{cap}}}}_{pv, sd, y} \\leq 0$"
      ],
      "text/plain": [
       "<IPython.core.display.Math object>"
      ]
     },
     "metadata": {},
     "output_type": "display_data"
    },
    {
     "data": {
      "text/latex": [
       "$\\displaystyle [27]\\text{   }{{{{opr}}}}_{pv, ho, q} - {φ}_{} \\cdot {{{{cap}}}}_{pv, ho, y} \\leq 0$"
      ],
      "text/plain": [
       "<IPython.core.display.Math object>"
      ]
     },
     "metadata": {},
     "output_type": "display_data"
    },
    {
     "data": {
      "text/latex": [
       "$\\displaystyle [28]\\text{   }{{{{opr}}}}_{pv, ny, q} - {φ}_{} \\cdot {{{{cap}}}}_{pv, ny, y} \\leq 0$"
      ],
      "text/plain": [
       "<IPython.core.display.Math object>"
      ]
     },
     "metadata": {},
     "output_type": "display_data"
    },
    {
     "data": {
      "text/latex": [
       "$\\displaystyle [31]\\text{   }{{{icap}}}_{power.lii, ntw, y} - 100 \\cdot {{{\\breve{{icap}}}}}_{power.lii, ntw, y} \\leq 0$"
      ],
      "text/plain": [
       "<IPython.core.display.Math object>"
      ]
     },
     "metadata": {},
     "output_type": "display_data"
    },
    {
     "data": {
      "text/latex": [
       "$\\displaystyle [32]\\text{   }10 \\cdot {{{\\breve{{icap}}}}}_{power.lii, ntw, y} - {{{icap}}}_{power.lii, ntw, y} \\leq 0$"
      ],
      "text/plain": [
       "<IPython.core.display.Math object>"
      ]
     },
     "metadata": {},
     "output_type": "display_data"
    },
    {
     "data": {
      "text/latex": [
       "$\\displaystyle [35]\\text{   }{{{{cap}}}}_{lii.charge, ntw, y} - 100 \\leq 0$"
      ],
      "text/plain": [
       "<IPython.core.display.Math object>"
      ]
     },
     "metadata": {},
     "output_type": "display_data"
    },
    {
     "data": {
      "text/latex": [
       "$\\displaystyle [36]\\text{   }{{{{opr}}}}_{lii.charge, ntw, y} - {{{{cap}}}}_{lii.charge, ntw, y} \\leq 0$"
      ],
      "text/plain": [
       "<IPython.core.display.Math object>"
      ]
     },
     "metadata": {},
     "output_type": "display_data"
    },
    {
     "data": {
      "text/latex": [
       "$\\displaystyle [37]\\text{   }{{{{cap}}}}_{lii.discharge, ntw, y} - 100 \\leq 0$"
      ],
      "text/plain": [
       "<IPython.core.display.Math object>"
      ]
     },
     "metadata": {},
     "output_type": "display_data"
    },
    {
     "data": {
      "text/latex": [
       "$\\displaystyle [38]\\text{   }{{{{opr}}}}_{lii.discharge, ntw, y} - {{{{cap}}}}_{lii.discharge, ntw, y} \\leq 0$"
      ],
      "text/plain": [
       "<IPython.core.display.Math object>"
      ]
     },
     "metadata": {},
     "output_type": "display_data"
    },
    {
     "data": {
      "text/latex": [
       "$\\displaystyle [44]\\text{   }{{{{cons}}}}_{cement, ntw, y} - 1000000 \\leq 0$"
      ],
      "text/plain": [
       "<IPython.core.display.Math object>"
      ]
     },
     "metadata": {},
     "output_type": "display_data"
    },
    {
     "data": {
      "text/markdown": [
       "### Calculation Constraint Sets"
      ],
      "text/plain": [
       "<IPython.core.display.Markdown object>"
      ]
     },
     "metadata": {},
     "output_type": "display_data"
    },
    {
     "data": {
      "text/latex": [
       "$\\displaystyle [19]\\text{   }{{spend}}_{usd, sd, y, {capacity}, wf} - 90000 \\cdot {{{{cap}}}}_{wf, sd, y} = 0$"
      ],
      "text/plain": [
       "<IPython.core.display.Math object>"
      ]
     },
     "metadata": {},
     "output_type": "display_data"
    },
    {
     "data": {
      "text/latex": [
       "$\\displaystyle [20]\\text{   }{{{spend}}}_{usd, ho, y, {capacity}, wf} - 70000 \\cdot {{{{cap}}}}_{wf, ho, y} = 0$"
      ],
      "text/plain": [
       "<IPython.core.display.Math object>"
      ]
     },
     "metadata": {},
     "output_type": "display_data"
    },
    {
     "data": {
      "text/latex": [
       "$\\displaystyle [21]\\text{   }{{{spend}}}_{usd, ny, y, {capacity}, wf} - 60000 \\cdot {{{{cap}}}}_{wf, ny, y} = 0$"
      ],
      "text/plain": [
       "<IPython.core.display.Math object>"
      ]
     },
     "metadata": {},
     "output_type": "display_data"
    },
    {
     "data": {
      "text/latex": [
       "$\\displaystyle [22]\\text{   }{{{spend}}}_{usd, ntw, y, {operate}, wf} - 49 \\cdot {{{{opr}}}}_{wf, ntw, y} = 0$"
      ],
      "text/plain": [
       "<IPython.core.display.Math object>"
      ]
     },
     "metadata": {},
     "output_type": "display_data"
    },
    {
     "data": {
      "text/latex": [
       "$\\displaystyle [29]\\text{   }{{{spend}}}_{usd, ntw, y, {capacity}, pv} - 1439046 \\cdot {{{{cap}}}}_{pv, ntw, y} = 0$"
      ],
      "text/plain": [
       "<IPython.core.display.Math object>"
      ]
     },
     "metadata": {},
     "output_type": "display_data"
    },
    {
     "data": {
      "text/latex": [
       "$\\displaystyle [30]\\text{   }{{{spend}}}_{usd, ntw, y, {operate}, pv} - 90000 \\cdot {{{{opr}}}}_{pv, ntw, y} = 0$"
      ],
      "text/plain": [
       "<IPython.core.display.Math object>"
      ]
     },
     "metadata": {},
     "output_type": "display_data"
    },
    {
     "data": {
      "text/latex": [
       "$\\displaystyle [33]\\text{   }{{{spend}}}_{usd, ntw, y, {invcapacity}, power.lii} - 1343614 \\cdot {{{icap}}}_{power.lii, ntw, y} = 0$"
      ],
      "text/plain": [
       "<IPython.core.display.Math object>"
      ]
     },
     "metadata": {},
     "output_type": "display_data"
    },
    {
     "data": {
      "text/latex": [
       "$\\displaystyle [34]\\text{   }{{{spend}}}_{usd, ntw, y, {inventory}, power.lii} - 2000 \\cdot {{{inv}}}_{power.lii, ntw, y} = 0$"
      ],
      "text/plain": [
       "<IPython.core.display.Math object>"
      ]
     },
     "metadata": {},
     "output_type": "display_data"
    },
    {
     "data": {
      "text/latex": [
       "$\\displaystyle [40]\\text{   }{{emit}}_{gwp, ntw, y, {capacity}, wf} - 1000 \\cdot {{{{cap}}}}_{wf, ntw, y} = 0$"
      ],
      "text/plain": [
       "<IPython.core.display.Math object>"
      ]
     },
     "metadata": {},
     "output_type": "display_data"
    },
    {
     "data": {
      "text/latex": [
       "$\\displaystyle [41]\\text{   }{{{emit}}}_{gwp, ntw, y, {capacity}, pv} - 2000 \\cdot {{{{cap}}}}_{pv, ntw, y} = 0$"
      ],
      "text/plain": [
       "<IPython.core.display.Math object>"
      ]
     },
     "metadata": {},
     "output_type": "display_data"
    },
    {
     "data": {
      "text/latex": [
       "$\\displaystyle [42]\\text{   }{{{emit}}}_{gwp, ntw, y, {invcapacity}, power.lii} - 3000 \\cdot {{{icap}}}_{power.lii, ntw, y} = 0$"
      ],
      "text/plain": [
       "<IPython.core.display.Math object>"
      ]
     },
     "metadata": {},
     "output_type": "display_data"
    },
    {
     "data": {
      "text/latex": [
       "$\\displaystyle [45]\\text{   }{{{spend}}}_{usd, ntw, y, {consume}, cement} - 17 \\cdot {{{{cons}}}}_{cement, ntw, y} = 0$"
      ],
      "text/plain": [
       "<IPython.core.display.Math object>"
      ]
     },
     "metadata": {},
     "output_type": "display_data"
    },
    {
     "data": {
      "text/latex": [
       "$\\displaystyle [46]\\text{   }{{{emit}}}_{gwp, ntw, y, {consume}, cement} - 0.9 \\cdot {{{{cons}}}}_{cement, ntw, y} = 0$"
      ],
      "text/plain": [
       "<IPython.core.display.Math object>"
      ]
     },
     "metadata": {},
     "output_type": "display_data"
    },
    {
     "data": {
      "text/latex": [
       "$\\displaystyle [47]\\text{   }{{use}}_{cement, ntw, y, {capacity}, wf} - 400 \\cdot {{{{cap}}}}_{wf, ntw, y} = 0$"
      ],
      "text/plain": [
       "<IPython.core.display.Math object>"
      ]
     },
     "metadata": {},
     "output_type": "display_data"
    },
    {
     "data": {
      "text/latex": [
       "$\\displaystyle [48]\\text{   }{{{use}}}_{cement, ntw, y, {capacity}, pv} - 560 \\cdot {{{{cap}}}}_{pv, ntw, y} = 0$"
      ],
      "text/plain": [
       "<IPython.core.display.Math object>"
      ]
     },
     "metadata": {},
     "output_type": "display_data"
    },
    {
     "data": {
      "text/latex": [
       "$\\displaystyle [49]\\text{   }{{{use}}}_{cement, ntw, y, {invcapacity}, power.lii} - 300 \\cdot {{{icap}}}_{power.lii, ntw, y} = 0$"
      ],
      "text/plain": [
       "<IPython.core.display.Math object>"
      ]
     },
     "metadata": {},
     "output_type": "display_data"
    },
    {
     "data": {
      "text/markdown": [
       "### General Resource Balance Constraint Sets"
      ],
      "text/plain": [
       "<IPython.core.display.Markdown object>"
      ]
     },
     "metadata": {},
     "output_type": "display_data"
    },
    {
     "data": {
      "text/latex": [
       "$\\displaystyle [0]\\text{   }{{{cons}}}_{solar, ntw, y} = 0$"
      ],
      "text/plain": [
       "<IPython.core.display.Math object>"
      ]
     },
     "metadata": {},
     "output_type": "display_data"
    },
    {
     "data": {
      "text/latex": [
       "$\\displaystyle [2]\\text{   }{{{{cons}}}}_{wind, ntw, y} = 0$"
      ],
      "text/plain": [
       "<IPython.core.display.Math object>"
      ]
     },
     "metadata": {},
     "output_type": "display_data"
    },
    {
     "data": {
      "text/latex": [
       "$\\displaystyle [4]\\text{   }-{{{rlse}}}_{power, ho, q} = 0$"
      ],
      "text/plain": [
       "<IPython.core.display.Math object>"
      ]
     },
     "metadata": {},
     "output_type": "display_data"
    },
    {
     "data": {
      "text/latex": [
       "$\\displaystyle [6]\\text{   }-{{{{rlse}}}}_{power, sd, q} = 0$"
      ],
      "text/plain": [
       "<IPython.core.display.Math object>"
      ]
     },
     "metadata": {},
     "output_type": "display_data"
    },
    {
     "data": {
      "text/latex": [
       "$\\displaystyle [8]\\text{   }-{{{{rlse}}}}_{power, ny, q} = 0$"
      ],
      "text/plain": [
       "<IPython.core.display.Math object>"
      ]
     },
     "metadata": {},
     "output_type": "display_data"
    },
    {
     "data": {
      "text/latex": [
       "$\\displaystyle [43]\\text{   }{{{{cons}}}}_{cement, ntw, y} - {{use}}_{cement, ntw, y, {capacity}, wf} - {{{use}}}_{cement, ntw, y, {capacity}, pv} - {{{use}}}_{cement, ntw, y, {invcapacity}, power.lii} = 0$"
      ],
      "text/plain": [
       "<IPython.core.display.Math object>"
      ]
     },
     "metadata": {},
     "output_type": "display_data"
    },
    {
     "data": {
      "text/markdown": [
       "### Mapping Constraint Sets"
      ],
      "text/plain": [
       "<IPython.core.display.Markdown object>"
      ]
     },
     "metadata": {},
     "output_type": "display_data"
    },
    {
     "data": {
      "text/latex": [
       "$\\displaystyle [25]\\text{   }{{{{cap}}}}_{pv, ntw, y} - {{{{{cap}}}}}_{pv, sd, y} - {{{{{cap}}}}}_{pv, ho, y} - {{{{{cap}}}}}_{pv, ny, y} = 0$"
      ],
      "text/plain": [
       "<IPython.core.display.Math object>"
      ]
     },
     "metadata": {},
     "output_type": "display_data"
    },
    {
     "data": {
      "text/latex": [
       "$\\displaystyle [39]\\text{   }{{{{cap}}}}_{wf, ntw, y} - {{{{{cap}}}}}_{wf, ho, y} - {{{{{cap}}}}}_{wf, sd, y} - {{{{{cap}}}}}_{wf, ny, y} = 0$"
      ],
      "text/plain": [
       "<IPython.core.display.Math object>"
      ]
     },
     "metadata": {},
     "output_type": "display_data"
    }
   ],
   "source": [
    "m.show()"
   ]
  },
  {
   "cell_type": "code",
   "execution_count": 18,
   "id": "cfbb8036",
   "metadata": {},
   "outputs": [
    {
     "name": "stdout",
     "output_type": "stream",
     "text": [
      "bbbb capacity (grid, ho-sd, y[0])\n",
      "--- Binding capacity in domain (grid, ho-sd, y)\n",
      "bbbb x_capacity (grid, ho-sd, y[0])\n",
      "    Completed in 0.0002040863037109375 seconds\n",
      "bbbb capacity (grid, road, y[0])\n",
      "--- Binding capacity in domain (grid, road, y)\n",
      "bbbb x_capacity (grid, road, y[0])\n",
      "    Completed in 0.00012421607971191406 seconds\n",
      "bbbb operate (grid, ho-sd, q[0])\n",
      "bbbb operate (grid, ho-sd, q[1])\n",
      "bbbb operate (grid, ho-sd, q[2])\n",
      "bbbb operate (grid, ho-sd, q[3])\n",
      "--- Binding operate in domain (grid, ho-sd, q)\n",
      "bbbb capacity (grid, ho-sd, y[0])\n",
      "    Completed in 0.00019121170043945312 seconds\n",
      "bbbb operate (grid, road, q[0])\n",
      "bbbb operate (grid, road, q[1])\n",
      "bbbb operate (grid, road, q[2])\n",
      "bbbb operate (grid, road, q[3])\n",
      "--- Binding operate in domain (grid, road, q)\n",
      "bbbb capacity (grid, road, y[0])\n",
      "    Completed in 0.00015974044799804688 seconds\n",
      "bbbb spend (usd, sd, y[0], operate, grid)\n",
      "bbbb spend (usd, ho, y[0], operate, grid)\n",
      "bbbb spend (usd, ny, y[0], operate, grid)\n",
      "bbbb operate (grid, sd, y[0])\n",
      "bbbb operate (grid, ho, y[0])\n",
      "bbbb operate (grid, ny, y[0])\n",
      "bbbb spend (usd, sd, y[0], capacity, grid)\n",
      "bbbb spend (usd, ho, y[0], capacity, grid)\n",
      "bbbb spend (usd, ny, y[0], capacity, grid)\n",
      "bbbb capacity (grid, sd, y[0])\n",
      "bbbb capacity (grid, ho, y[0])\n",
      "bbbb capacity (grid, ny, y[0])\n"
     ]
    }
   ],
   "source": [
    "m.declare(Resource, ['h2o', 'co2'])\n",
    "m.grid = Transport()\n",
    "m.grid(m.power) == -m.h2o + m.co2\n",
    "m.grid.capacity.x.forall([m.ho - m.sd, m.road]) <= 100\n",
    "m.grid.operate.prep(norm=True).forall([m.ho - m.sd, m.road]) <= [\n",
    "    [0.9, 0.8, 0.5, 0.7],\n",
    "    [0.8, 0.7, 0.6, 0.9],\n",
    "]\n",
    "m.grid.operate[m.usd.spend] == 2000\n",
    "m.grid.capacity[m.usd.spend] == 1000"
   ]
  },
  {
   "cell_type": "code",
   "execution_count": 19,
   "id": "cfcb4dcf",
   "metadata": {},
   "outputs": [
    {
     "name": "stdout",
     "output_type": "stream",
     "text": [
      "--- Assuming  pv capacity is unbounded in (ho, y)\n",
      "bbbb capacity (pv, ho, y[0])\n",
      "--- General Resource Balance for power in (ho, q): adding produce(power, ho, q, operate, pv)\n",
      "    Completed in 0.00013256072998046875 seconds\n",
      "bbbb operate (pv, ho, q[0])\n",
      "bbbb operate (pv, ho, q[1])\n",
      "bbbb operate (pv, ho, q[2])\n",
      "bbbb operate (pv, ho, q[3])\n",
      "--- General Resource Balance for solar in (ho, y): initializing constraint, adding expend(solar, ho, y, operate, pv)\n",
      "    Completed in 6.747245788574219e-05 seconds\n",
      "--- General Resource Balance for solar in (ntw, y): adding expend\n",
      "    Completed in 7.486343383789062e-05 seconds\n",
      "--- Mapping operate across time from (pv, ho, q) to (pv, ho, y)\n",
      "bbbb operate (pv, ho, q[0])\n",
      "bbbb operate (pv, ho, q[1])\n",
      "bbbb operate (pv, ho, q[2])\n",
      "bbbb operate (pv, ho, q[3])\n",
      "bbbb operate (pv, ho, q[0])\n",
      "bbbb operate (pv, ho, q[1])\n",
      "bbbb operate (pv, ho, q[2])\n",
      "bbbb operate (pv, ho, q[3])\n",
      "--- Creating map to (pv, ho, y). Mapping operate: from (pv, ho, q) to (pv, ho, y)\n",
      "bbbb operate (pv, ho, y[0])\n",
      "    Completed in 8.916854858398438e-05 seconds\n",
      "bbbb operate (pv, ho, y[0])\n",
      "--- Creating map to (pv, ntw, y). Mapping operate: from (pv, ho, y) to (pv, ntw, y)\n",
      "bbbb operate (pv, sd, y[0])\n",
      "bbbb operate (pv, ho, y[0])\n",
      "bbbb operate (pv, ny, y[0])\n",
      "    Completed in 0.00012683868408203125 seconds\n",
      "bbbb operate (pv, ho, y[0])\n",
      "--- General Resource Balance for power in (ho, q): adding produce(power, ho, q, operate, wf)\n",
      "bbbb produce (power, ho, q[0], operate, wf)\n",
      "bbbb produce (power, ho, q[1], operate, wf)\n",
      "bbbb produce (power, ho, q[2], operate, wf)\n",
      "bbbb produce (power, ho, q[3], operate, wf)\n",
      "    Completed in 0.00014591217041015625 seconds\n",
      "bbbb produce (power, ho, q[0], operate, wf)\n",
      "bbbb produce (power, ho, q[1], operate, wf)\n",
      "bbbb produce (power, ho, q[2], operate, wf)\n",
      "bbbb produce (power, ho, q[3], operate, wf)\n",
      "bbbb operate (wf, ho, q[0])\n",
      "bbbb operate (wf, ho, q[1])\n",
      "bbbb operate (wf, ho, q[2])\n",
      "bbbb operate (wf, ho, q[3])\n",
      "--- General Resource Balance for wind in (ho, y): initializing constraint, adding expend(wind, ho, y, operate, wf)\n",
      "bbbb expend (wind, ho, y[0], operate, wf)\n",
      "    Completed in 7.915496826171875e-05 seconds\n",
      "--- General Resource Balance for wind in (ntw, y): adding expend\n",
      "bbbb expend (wind, ho, y[0], operate, wf)\n",
      "    Completed in 9.608268737792969e-05 seconds\n",
      "bbbb expend (wind, ho, y[0], operate, wf)\n",
      "bbbb expend (wind, ho, y[0], operate, wf)\n",
      "--- Mapping operate across time from (wf, ho, q) to (wf, ho, y)\n",
      "bbbb operate (wf, ho, q[0])\n",
      "bbbb operate (wf, ho, q[1])\n",
      "bbbb operate (wf, ho, q[2])\n",
      "bbbb operate (wf, ho, q[3])\n",
      "bbbb operate (wf, ho, q[0])\n",
      "bbbb operate (wf, ho, q[1])\n",
      "bbbb operate (wf, ho, q[2])\n",
      "bbbb operate (wf, ho, q[3])\n",
      "--- Creating map to (wf, ho, y). Mapping operate: from (wf, ho, q) to (wf, ho, y)\n",
      "bbbb operate (wf, ho, y[0])\n",
      "    Completed in 7.581710815429688e-05 seconds\n",
      "bbbb operate (wf, ho, y[0])\n",
      "--- Creating map to (wf, ntw, y). Mapping operate: from (wf, ho, y) to (wf, ntw, y)\n",
      "bbbb operate (wf, sd, y[0])\n",
      "bbbb operate (wf, ho, y[0])\n",
      "bbbb operate (wf, ny, y[0])\n",
      "    Completed in 0.00011944770812988281 seconds\n",
      "bbbb operate (wf, ho, y[0])\n",
      "--- Assuming  power.lii inventory capacity is unbounded in (ho, y)\n",
      "bbbb invcapacity (power.lii, ho, y[0])\n",
      "--- Creating map to (power.lii, ntw, y). Mapping invcapacity: from (power.lii, ho, y) to (power.lii, ntw, y)\n",
      "bbbb invcapacity (power.lii, sd, y[0])\n",
      "bbbb invcapacity (power.lii, ho, y[0])\n",
      "bbbb invcapacity (power.lii, ny, y[0])\n",
      "    Completed in 0.00011944770812988281 seconds\n",
      "bbbb invcapacity (power.lii, ho, y[0])\n",
      "--- Assuming inventory of power.lii is bound by inventory capacity in (ho, y)\n",
      "--- Assuming inventory of power.lii is bound by inventory capacity in (ho, q)\n",
      "asdasda <class 'energia.components.temporal.periods.Periods'>\n",
      "bbbb inventory (power.lii, ho, q[0])\n",
      "bbbb inventory (power.lii, ho, q[1])\n",
      "bbbb inventory (power.lii, ho, q[2])\n",
      "bbbb inventory (power.lii, ho, q[3])\n",
      "--- Creating map to (power.lii, ntw, q). Mapping inventory: from (power.lii, ho, q) to (power.lii, ntw, q)\n",
      "--- Mapping inventory across time from (power.lii, ntw, q) to (power.lii, ntw, y)\n",
      "bbbb inventory (power.lii, sd, q[0])\n",
      "bbbb inventory (power.lii, sd, q[1])\n",
      "bbbb inventory (power.lii, sd, q[2])\n",
      "bbbb inventory (power.lii, sd, q[3])\n",
      "bbbb inventory (power.lii, ho, q[0])\n",
      "bbbb inventory (power.lii, ho, q[1])\n",
      "bbbb inventory (power.lii, ho, q[2])\n",
      "bbbb inventory (power.lii, ho, q[3])\n",
      "bbbb inventory (power.lii, ny, q[0])\n",
      "bbbb inventory (power.lii, ny, q[1])\n",
      "bbbb inventory (power.lii, ny, q[2])\n",
      "bbbb inventory (power.lii, ny, q[3])\n",
      "bbbb inventory (power.lii, sd, q[0])\n",
      "bbbb inventory (power.lii, ho, q[0])\n",
      "bbbb inventory (power.lii, ny, q[0])\n",
      "bbbb inventory (power.lii, sd, q[1])\n",
      "bbbb inventory (power.lii, ho, q[1])\n",
      "bbbb inventory (power.lii, ny, q[1])\n",
      "bbbb inventory (power.lii, sd, q[2])\n",
      "bbbb inventory (power.lii, ho, q[2])\n",
      "bbbb inventory (power.lii, ny, q[2])\n",
      "bbbb inventory (power.lii, sd, q[3])\n",
      "bbbb inventory (power.lii, ho, q[3])\n",
      "bbbb inventory (power.lii, ny, q[3])\n",
      "--- Creating map to (power.lii, ntw, y). Mapping inventory: from (power.lii, ntw, q) to (power.lii, ntw, y)\n",
      "bbbb inventory (power.lii, sd, y[0])\n",
      "bbbb inventory (power.lii, ho, y[0])\n",
      "bbbb inventory (power.lii, ny, y[0])\n",
      "    Completed in 0.00011157989501953125 seconds\n",
      "--- General Resource Balance for power.lii in (ntw, q): initializing constraint, adding inventory(power.lii, ntw, q)\n",
      "bbbb inventory (power.lii, sd, q[0])\n",
      "bbbb inventory (power.lii, sd, q[1])\n",
      "bbbb inventory (power.lii, sd, q[2])\n",
      "bbbb inventory (power.lii, sd, q[3])\n",
      "bbbb inventory (power.lii, ho, q[0])\n",
      "bbbb inventory (power.lii, ho, q[1])\n",
      "bbbb inventory (power.lii, ho, q[2])\n",
      "bbbb inventory (power.lii, ho, q[3])\n",
      "bbbb inventory (power.lii, ny, q[0])\n",
      "bbbb inventory (power.lii, ny, q[1])\n",
      "bbbb inventory (power.lii, ny, q[2])\n",
      "bbbb inventory (power.lii, ny, q[3])\n",
      "bbbb inventory (power.lii, sd, q[0])\n",
      "bbbb inventory (power.lii, sd, q[1])\n",
      "bbbb inventory (power.lii, sd, q[2])\n",
      "bbbb inventory (power.lii, ho, q[0])\n",
      "bbbb inventory (power.lii, ho, q[1])\n",
      "bbbb inventory (power.lii, ho, q[2])\n",
      "bbbb inventory (power.lii, ny, q[0])\n",
      "bbbb inventory (power.lii, ny, q[1])\n",
      "bbbb inventory (power.lii, ny, q[2])\n",
      "bbbb inventory[11] (power.lii, ho, q[1])\n"
     ]
    },
    {
     "ename": "KeyError",
     "evalue": "(power.lii, ho, q[1])",
     "output_type": "error",
     "traceback": [
      "\u001b[31m---------------------------------------------------------------------------\u001b[39m",
      "\u001b[31mKeyError\u001b[39m                                  Traceback (most recent call last)",
      "\u001b[36mCell\u001b[39m\u001b[36m \u001b[39m\u001b[32mIn[19]\u001b[39m\u001b[32m, line 1\u001b[39m\n\u001b[32m----> \u001b[39m\u001b[32m1\u001b[39m \u001b[43mm\u001b[49m\u001b[43m.\u001b[49m\u001b[43mho\u001b[49m\u001b[43m.\u001b[49m\u001b[43mlocate\u001b[49m\u001b[43m(\u001b[49m\u001b[43mm\u001b[49m\u001b[43m.\u001b[49m\u001b[43mpv\u001b[49m\u001b[43m,\u001b[49m\u001b[43m \u001b[49m\u001b[43mm\u001b[49m\u001b[43m.\u001b[49m\u001b[43mwf\u001b[49m\u001b[43m,\u001b[49m\u001b[43m \u001b[49m\u001b[43mm\u001b[49m\u001b[43m.\u001b[49m\u001b[43mlii\u001b[49m\u001b[43m)\u001b[49m\n\u001b[32m      2\u001b[39m m.sd.locate(m.pv, m.wf, m.lii)\n\u001b[32m      3\u001b[39m m.ny.locate(m.pv, m.wf, m.lii)\n",
      "\u001b[36mFile \u001b[39m\u001b[32m~\\research\\packages\\energiapy\\src\\energia\\components\\spatial\\location.py:99\u001b[39m, in \u001b[36mLocation.locate\u001b[39m\u001b[34m(self, *operations)\u001b[39m\n\u001b[32m     96\u001b[39m \u001b[38;5;66;03m# locates an operation\u001b[39;00m\n\u001b[32m     97\u001b[39m \u001b[38;5;66;03m# which leads to the conversion balances being written\u001b[39;00m\n\u001b[32m     98\u001b[39m \u001b[38;5;28;01mfor\u001b[39;00m opr \u001b[38;5;129;01min\u001b[39;00m operations:\n\u001b[32m---> \u001b[39m\u001b[32m99\u001b[39m     \u001b[43mopr\u001b[49m\u001b[43m.\u001b[49m\u001b[43mlocate\u001b[49m\u001b[43m(\u001b[49m\u001b[38;5;28;43mself\u001b[39;49m\u001b[43m)\u001b[49m\n",
      "\u001b[36mFile \u001b[39m\u001b[32m~\\research\\packages\\energiapy\\src\\energia\\components\\operation\\storage.py:124\u001b[39m, in \u001b[36mStorage.locate\u001b[39m\u001b[34m(self, *locations)\u001b[39m\n\u001b[32m    120\u001b[39m         \u001b[38;5;28mprint\u001b[39m(\n\u001b[32m    121\u001b[39m             \u001b[33mf\u001b[39m\u001b[33m\"\u001b[39m\u001b[33m--- Assuming inventory of \u001b[39m\u001b[38;5;132;01m{\u001b[39;00m\u001b[38;5;28mself\u001b[39m.stored\u001b[38;5;132;01m}\u001b[39;00m\u001b[33m is bound by inventory capacity in (\u001b[39m\u001b[38;5;132;01m{\u001b[39;00mloc\u001b[38;5;132;01m}\u001b[39;00m\u001b[33m, \u001b[39m\u001b[38;5;132;01m{\u001b[39;00mtime\u001b[38;5;132;01m}\u001b[39;00m\u001b[33m)\u001b[39m\u001b[33m\"\u001b[39m,\n\u001b[32m    122\u001b[39m         )\n\u001b[32m    123\u001b[39m         \u001b[38;5;28mprint\u001b[39m(\u001b[33m'\u001b[39m\u001b[33masdasda\u001b[39m\u001b[33m'\u001b[39m, \u001b[38;5;28mtype\u001b[39m(time))\n\u001b[32m--> \u001b[39m\u001b[32m124\u001b[39m         _ = \u001b[38;5;28;43mself\u001b[39;49m\u001b[43m.\u001b[49m\u001b[43minventory\u001b[49m\u001b[43m(\u001b[49m\u001b[43mloc\u001b[49m\u001b[43m,\u001b[49m\u001b[43m \u001b[49m\u001b[43mtime\u001b[49m\u001b[43m)\u001b[49m\u001b[43m \u001b[49m\u001b[43m<\u001b[49m\u001b[43m=\u001b[49m\u001b[43m \u001b[49m\u001b[32;43m1\u001b[39;49m\n\u001b[32m    126\u001b[39m \u001b[38;5;66;03m# locate the charge and discharge processes\u001b[39;00m\n\u001b[32m    127\u001b[39m \u001b[38;5;28mself\u001b[39m.charge.locate(*locations)\n",
      "\u001b[36mFile \u001b[39m\u001b[32m~\\research\\packages\\energiapy\\src\\energia\\modeling\\constraints\\bind.py:683\u001b[39m, in \u001b[36mBind.__le__\u001b[39m\u001b[34m(self, other)\u001b[39m\n\u001b[32m    681\u001b[39m \u001b[38;5;28;01mdef\u001b[39;00m\u001b[38;5;250m \u001b[39m\u001b[34m__le__\u001b[39m(\u001b[38;5;28mself\u001b[39m, other):\n\u001b[32m--> \u001b[39m\u001b[32m683\u001b[39m     \u001b[38;5;28;43mself\u001b[39;49m\u001b[43m.\u001b[49m\u001b[43mwritecons_bind\u001b[49m\u001b[43m(\u001b[49m\u001b[33;43m\"\u001b[39;49m\u001b[33;43mleq\u001b[39;49m\u001b[33;43m\"\u001b[39;49m\u001b[43m,\u001b[49m\u001b[43m \u001b[49m\u001b[43mother\u001b[49m\u001b[43m)\u001b[49m\n",
      "\u001b[36mFile \u001b[39m\u001b[32m~\\research\\packages\\energiapy\\src\\energia\\modeling\\constraints\\bind.py:587\u001b[39m, in \u001b[36mBind.writecons_bind\u001b[39m\u001b[34m(self, rel, other)\u001b[39m\n\u001b[32m    573\u001b[39m         other = [\n\u001b[32m    574\u001b[39m             (\n\u001b[32m    575\u001b[39m                 (\u001b[38;5;28mself\u001b[39m._nominal * i[\u001b[32m0\u001b[39m], \u001b[38;5;28mself\u001b[39m._nominal * i[\u001b[32m1\u001b[39m])\n\u001b[32m   (...)\u001b[39m\u001b[32m    579\u001b[39m             \u001b[38;5;28;01mfor\u001b[39;00m i \u001b[38;5;129;01min\u001b[39;00m other\n\u001b[32m    580\u001b[39m         ]\n\u001b[32m    582\u001b[39m \u001b[38;5;66;03m# --------- Get LHS\u001b[39;00m\n\u001b[32m    583\u001b[39m \u001b[38;5;66;03m# lhs needs to be determined here\u001b[39;00m\n\u001b[32m    584\u001b[39m \u001b[38;5;66;03m# because V will be spaced and timed if not passed by user\u001b[39;00m\n\u001b[32m    585\u001b[39m \u001b[38;5;66;03m# .X(), .Vb() need time and space\u001b[39;00m\n\u001b[32m--> \u001b[39m\u001b[32m587\u001b[39m lhs = \u001b[38;5;28;43mself\u001b[39;49m\u001b[43m.\u001b[49m\u001b[43mV\u001b[49m\u001b[43m(\u001b[49m\u001b[43mother\u001b[49m\u001b[43m)\u001b[49m\n\u001b[32m    589\u001b[39m \u001b[38;5;28mprint\u001b[39m(\u001b[33mf\u001b[39m\u001b[33m\"\u001b[39m\u001b[33m--- Binding \u001b[39m\u001b[38;5;132;01m{\u001b[39;00m\u001b[38;5;28mself\u001b[39m.aspect\u001b[38;5;132;01m}\u001b[39;00m\u001b[33m in domain \u001b[39m\u001b[38;5;132;01m{\u001b[39;00m\u001b[38;5;28mself\u001b[39m.domain\u001b[38;5;132;01m}\u001b[39;00m\u001b[33m\"\u001b[39m)\n\u001b[32m    591\u001b[39m start = keep_time.time()\n",
      "\u001b[36mFile \u001b[39m\u001b[32m~\\research\\packages\\energiapy\\src\\energia\\modeling\\constraints\\bind.py:341\u001b[39m, in \u001b[36mBind.V\u001b[39m\u001b[34m(self, parameters, length, report, incidental)\u001b[39m\n\u001b[32m    337\u001b[39m     \u001b[38;5;28mself\u001b[39m.model.update_dispositions(\u001b[38;5;28mself\u001b[39m.aspect, \u001b[38;5;28mself\u001b[39m.domain)\n\u001b[32m    339\u001b[39m     \u001b[38;5;66;03m# for the same aspect, map variables with higher order indices\u001b[39;00m\n\u001b[32m    340\u001b[39m     \u001b[38;5;66;03m# to variables with lower order indices\u001b[39;00m\n\u001b[32m--> \u001b[39m\u001b[32m341\u001b[39m     \u001b[38;5;28;43mself\u001b[39;49m\u001b[43m.\u001b[49m\u001b[43maspect\u001b[49m\u001b[43m.\u001b[49m\u001b[43mmap_domain\u001b[49m\u001b[43m(\u001b[49m\u001b[38;5;28;43mself\u001b[39;49m\u001b[43m.\u001b[49m\u001b[43mdomain\u001b[49m\u001b[43m)\u001b[49m\n\u001b[32m    343\u001b[39m     \u001b[38;5;28mself\u001b[39m.aspect.domains.append(\u001b[38;5;28mself\u001b[39m.domain)\n\u001b[32m    345\u001b[39m \u001b[38;5;28;01mreturn\u001b[39;00m \u001b[38;5;28mgetattr\u001b[39m(\u001b[38;5;28mself\u001b[39m.program, \u001b[38;5;28mself\u001b[39m.aspect.name)(*index)\n",
      "\u001b[36mFile \u001b[39m\u001b[32m~\\research\\packages\\energiapy\\src\\energia\\modeling\\variables\\states.py:93\u001b[39m, in \u001b[36mEndoStream.map_domain\u001b[39m\u001b[34m(self, domain, reporting)\u001b[39m\n\u001b[32m     91\u001b[39m \u001b[38;5;28;01mdef\u001b[39;00m\u001b[38;5;250m \u001b[39m\u001b[34mmap_domain\u001b[39m(\u001b[38;5;28mself\u001b[39m, domain: Domain, reporting: \u001b[38;5;28mbool\u001b[39m = \u001b[38;5;28;01mFalse\u001b[39;00m):\n\u001b[32m---> \u001b[39m\u001b[32m93\u001b[39m     \u001b[43mMap\u001b[49m\u001b[43m(\u001b[49m\u001b[43maspect\u001b[49m\u001b[43m=\u001b[49m\u001b[38;5;28;43mself\u001b[39;49m\u001b[43m,\u001b[49m\u001b[43m \u001b[49m\u001b[43mdomain\u001b[49m\u001b[43m=\u001b[49m\u001b[43mdomain\u001b[49m\u001b[43m,\u001b[49m\u001b[43m \u001b[49m\u001b[43mreporting\u001b[49m\u001b[43m=\u001b[49m\u001b[43mreporting\u001b[49m\u001b[43m)\u001b[49m\n\u001b[32m     95\u001b[39m     Balance(aspect=\u001b[38;5;28mself\u001b[39m, domain=domain)\n",
      "\u001b[36mFile \u001b[39m\u001b[32m<string>:7\u001b[39m, in \u001b[36m__init__\u001b[39m\u001b[34m(self, aspect, domain, label, reporting)\u001b[39m\n",
      "\u001b[36mFile \u001b[39m\u001b[32m~\\research\\packages\\energiapy\\src\\energia\\modeling\\constraints\\vmap.py:166\u001b[39m, in \u001b[36mMap.__post_init__\u001b[39m\u001b[34m(self)\u001b[39m\n\u001b[32m    149\u001b[39m                     \u001b[38;5;28mself\u001b[39m.writecons_map(\n\u001b[32m    150\u001b[39m                         \u001b[38;5;28mself\u001b[39m.domain.change(\n\u001b[32m    151\u001b[39m                             {\n\u001b[32m   (...)\u001b[39m\u001b[32m    161\u001b[39m                         \u001b[38;5;28mself\u001b[39m.domain,\n\u001b[32m    162\u001b[39m                     )\n\u001b[32m    164\u001b[39m \u001b[38;5;28;01mif\u001b[39;00m parent_location \u001b[38;5;129;01min\u001b[39;00m dispositions:\n\u001b[32m    165\u001b[39m     \u001b[38;5;66;03m# check if the aspect has been defined for a parent location\u001b[39;00m\n\u001b[32m--> \u001b[39m\u001b[32m166\u001b[39m     \u001b[38;5;28;43mself\u001b[39;49m\u001b[43m.\u001b[49m\u001b[43mwritecons_map\u001b[49m\u001b[43m(\u001b[49m\n\u001b[32m    167\u001b[39m \u001b[43m        \u001b[49m\u001b[38;5;28;43mself\u001b[39;49m\u001b[43m.\u001b[49m\u001b[43mdomain\u001b[49m\u001b[43m,\u001b[49m\n\u001b[32m    168\u001b[39m \u001b[43m        \u001b[49m\u001b[38;5;28;43mself\u001b[39;49m\u001b[43m.\u001b[49m\u001b[43mdomain\u001b[49m\u001b[43m.\u001b[49m\u001b[43mchange\u001b[49m\u001b[43m(\u001b[49m\u001b[43m{\u001b[49m\u001b[33;43m\"\u001b[39;49m\u001b[33;43mloc\u001b[39;49m\u001b[33;43m\"\u001b[39;49m\u001b[43m:\u001b[49m\u001b[43m \u001b[49m\u001b[43mparent_location\u001b[49m\u001b[43m}\u001b[49m\u001b[43m)\u001b[49m\u001b[43m,\u001b[49m\n\u001b[32m    169\u001b[39m \u001b[43m    \u001b[49m\u001b[43m)\u001b[49m\n\u001b[32m    171\u001b[39m \u001b[38;5;28;01mif\u001b[39;00m \u001b[38;5;129;01mnot\u001b[39;00m \u001b[38;5;28mself\u001b[39m.domain.binds \u001b[38;5;129;01mand\u001b[39;00m dispositions[space][time]:\n\u001b[32m    172\u001b[39m     \u001b[38;5;66;03m# if the current variable being declared has no binds\u001b[39;00m\n\u001b[32m    173\u001b[39m     \u001b[38;5;66;03m# but the aspect has already been defined at this location and time with binds\u001b[39;00m\n\u001b[32m    174\u001b[39m     \u001b[38;5;66;03m# there is a need to map from the defined binds to no binds\u001b[39;00m\n\u001b[32m    175\u001b[39m     \u001b[38;5;66;03m# get list of domains of the aspect\u001b[39;00m\n\u001b[32m    176\u001b[39m     domains = [\n\u001b[32m    177\u001b[39m         d\n\u001b[32m    178\u001b[39m         \u001b[38;5;28;01mfor\u001b[39;00m d \u001b[38;5;129;01min\u001b[39;00m \u001b[38;5;28mself\u001b[39m.aspect.domains\n\u001b[32m   (...)\u001b[39m\u001b[32m    182\u001b[39m         \u001b[38;5;129;01mand\u001b[39;00m d.binds\n\u001b[32m    183\u001b[39m     ]\n",
      "\u001b[36mFile \u001b[39m\u001b[32m~\\research\\packages\\energiapy\\src\\energia\\modeling\\constraints\\vmap.py:393\u001b[39m, in \u001b[36mMap.writecons_map\u001b[39m\u001b[34m(self, from_domain, to_domain, tsum, msum)\u001b[39m\n\u001b[32m    391\u001b[39m     v_lower = \u001b[38;5;28mself\u001b[39m(*to_domain).X()\n\u001b[32m    392\u001b[39m \u001b[38;5;28;01melse\u001b[39;00m:\n\u001b[32m--> \u001b[39m\u001b[32m393\u001b[39m     v_lower = \u001b[38;5;28;43mself\u001b[39;49m\u001b[43m(\u001b[49m\u001b[43m*\u001b[49m\u001b[43mto_domain\u001b[49m\u001b[43m)\u001b[49m\u001b[43m.\u001b[49m\u001b[43mV\u001b[49m\u001b[43m(\u001b[49m\u001b[43m)\u001b[49m\n\u001b[32m    395\u001b[39m \u001b[38;5;66;03m# write the constraint\u001b[39;00m\n\u001b[32m    396\u001b[39m cons: C = v_lower == rhs\n",
      "\u001b[36mFile \u001b[39m\u001b[32m~\\research\\packages\\energiapy\\src\\energia\\modeling\\constraints\\bind.py:341\u001b[39m, in \u001b[36mBind.V\u001b[39m\u001b[34m(self, parameters, length, report, incidental)\u001b[39m\n\u001b[32m    337\u001b[39m     \u001b[38;5;28mself\u001b[39m.model.update_dispositions(\u001b[38;5;28mself\u001b[39m.aspect, \u001b[38;5;28mself\u001b[39m.domain)\n\u001b[32m    339\u001b[39m     \u001b[38;5;66;03m# for the same aspect, map variables with higher order indices\u001b[39;00m\n\u001b[32m    340\u001b[39m     \u001b[38;5;66;03m# to variables with lower order indices\u001b[39;00m\n\u001b[32m--> \u001b[39m\u001b[32m341\u001b[39m     \u001b[38;5;28;43mself\u001b[39;49m\u001b[43m.\u001b[49m\u001b[43maspect\u001b[49m\u001b[43m.\u001b[49m\u001b[43mmap_domain\u001b[49m\u001b[43m(\u001b[49m\u001b[38;5;28;43mself\u001b[39;49m\u001b[43m.\u001b[49m\u001b[43mdomain\u001b[49m\u001b[43m)\u001b[49m\n\u001b[32m    343\u001b[39m     \u001b[38;5;28mself\u001b[39m.aspect.domains.append(\u001b[38;5;28mself\u001b[39m.domain)\n\u001b[32m    345\u001b[39m \u001b[38;5;28;01mreturn\u001b[39;00m \u001b[38;5;28mgetattr\u001b[39m(\u001b[38;5;28mself\u001b[39m.program, \u001b[38;5;28mself\u001b[39m.aspect.name)(*index)\n",
      "\u001b[36mFile \u001b[39m\u001b[32m~\\research\\packages\\energiapy\\src\\energia\\modeling\\variables\\states.py:95\u001b[39m, in \u001b[36mEndoStream.map_domain\u001b[39m\u001b[34m(self, domain, reporting)\u001b[39m\n\u001b[32m     91\u001b[39m \u001b[38;5;28;01mdef\u001b[39;00m\u001b[38;5;250m \u001b[39m\u001b[34mmap_domain\u001b[39m(\u001b[38;5;28mself\u001b[39m, domain: Domain, reporting: \u001b[38;5;28mbool\u001b[39m = \u001b[38;5;28;01mFalse\u001b[39;00m):\n\u001b[32m     93\u001b[39m     Map(aspect=\u001b[38;5;28mself\u001b[39m, domain=domain, reporting=reporting)\n\u001b[32m---> \u001b[39m\u001b[32m95\u001b[39m     \u001b[43mBalance\u001b[49m\u001b[43m(\u001b[49m\u001b[43maspect\u001b[49m\u001b[43m=\u001b[49m\u001b[38;5;28;43mself\u001b[39;49m\u001b[43m,\u001b[49m\u001b[43m \u001b[49m\u001b[43mdomain\u001b[49m\u001b[43m=\u001b[49m\u001b[43mdomain\u001b[49m\u001b[43m)\u001b[49m\n",
      "\u001b[36mFile \u001b[39m\u001b[32m<string>:6\u001b[39m, in \u001b[36m__init__\u001b[39m\u001b[34m(self, aspect, domain, label)\u001b[39m\n",
      "\u001b[36mFile \u001b[39m\u001b[32m~\\research\\packages\\energiapy\\src\\energia\\modeling\\constraints\\balance.py:72\u001b[39m, in \u001b[36mBalance.__post_init__\u001b[39m\u001b[34m(self)\u001b[39m\n\u001b[32m     67\u001b[39m     \u001b[38;5;28mself\u001b[39m.model.update_grb(commodity=commodity, time=time, space=loc)\n\u001b[32m     69\u001b[39m \u001b[38;5;28;01mif\u001b[39;00m \u001b[38;5;129;01mnot\u001b[39;00m binds \u001b[38;5;129;01mand\u001b[39;00m commodity:\n\u001b[32m     70\u001b[39m     \u001b[38;5;66;03m# if no binds, then create GRB or append to exisiting GRB\u001b[39;00m\n\u001b[32m     71\u001b[39m     \u001b[38;5;66;03m# writecons_grb will figure it out\u001b[39;00m\n\u001b[32m---> \u001b[39m\u001b[32m72\u001b[39m     \u001b[38;5;28;43mself\u001b[39;49m\u001b[43m.\u001b[49m\u001b[43mwritecons_grb\u001b[49m\u001b[43m(\u001b[49m\u001b[43mcommodity\u001b[49m\u001b[43m,\u001b[49m\u001b[43m \u001b[49m\u001b[43mloc\u001b[49m\u001b[43m,\u001b[49m\u001b[43m \u001b[49m\u001b[43mtime\u001b[49m\u001b[43m)\u001b[49m\n\u001b[32m     74\u001b[39m \u001b[38;5;28;01melse\u001b[39;00m:\n\u001b[32m     75\u001b[39m     \u001b[38;5;66;03m# if there are binds\u001b[39;00m\n\u001b[32m     76\u001b[39m     \u001b[38;5;28;01mif\u001b[39;00m commodity.insitu:\n\u001b[32m     77\u001b[39m         \u001b[38;5;66;03m# # we need to still check if this is this is an insitu (e.g. a storage commodity)\u001b[39;00m\n\u001b[32m     78\u001b[39m         \u001b[38;5;66;03m# if the commodity is insitu that means that\u001b[39;00m\n\u001b[32m     79\u001b[39m         \u001b[38;5;66;03m# no external bounds have been defined\u001b[39;00m\n\u001b[32m     80\u001b[39m         \u001b[38;5;66;03m# a GRB is still needed\u001b[39;00m\n",
      "\u001b[36mFile \u001b[39m\u001b[32m~\\research\\packages\\energiapy\\src\\energia\\modeling\\constraints\\balance.py:170\u001b[39m, in \u001b[36mBalance.writecons_grb\u001b[39m\u001b[34m(self, commodity, loc, time)\u001b[39m\n\u001b[32m    167\u001b[39m     \u001b[38;5;66;03m# if inventory is being add to GRB\u001b[39;00m\n\u001b[32m    168\u001b[39m     lagged_domain = \u001b[38;5;28mself\u001b[39m.domain.change({\u001b[33m\"\u001b[39m\u001b[33mlag\u001b[39m\u001b[33m\"\u001b[39m: -\u001b[32m1\u001b[39m * time, \u001b[33m\"\u001b[39m\u001b[33mperiods\u001b[39m\u001b[33m\"\u001b[39m: \u001b[38;5;28;01mNone\u001b[39;00m})\n\u001b[32m--> \u001b[39m\u001b[32m170\u001b[39m     cons_grb = \u001b[43m-\u001b[49m\u001b[38;5;28;43mself\u001b[39;49m\u001b[43m(\u001b[49m\u001b[43m*\u001b[49m\u001b[38;5;28;43mself\u001b[39;49m\u001b[43m.\u001b[49m\u001b[43mdomain\u001b[49m\u001b[43m)\u001b[49m\u001b[43m.\u001b[49m\u001b[43mV\u001b[49m\u001b[43m(\u001b[49m\u001b[43m)\u001b[49m\u001b[43m \u001b[49m\u001b[43m+\u001b[49m\u001b[43m \u001b[49m\u001b[38;5;28;43mself\u001b[39;49m\u001b[43m(\u001b[49m\u001b[43m*\u001b[49m\u001b[43mlagged_domain\u001b[49m\u001b[43m)\u001b[49m\u001b[43m.\u001b[49m\u001b[43mV\u001b[49m\u001b[43m(\u001b[49m\u001b[43m)\u001b[49m == \u001b[32m0\u001b[39m\n\u001b[32m    171\u001b[39m \u001b[38;5;28;01melif\u001b[39;00m \u001b[38;5;28mself\u001b[39m.aspect.ispos:  \u001b[38;5;66;03m# or _signs[n]:\u001b[39;00m\n\u001b[32m    172\u001b[39m     cons_grb = \u001b[38;5;28mself\u001b[39m(*\u001b[38;5;28mself\u001b[39m.domain).V() == \u001b[32m0\u001b[39m\n",
      "\u001b[36mFile \u001b[39m\u001b[32m~\\research\\packages\\gana\\src\\gana\\sets\\function.py:1306\u001b[39m, in \u001b[36mF.__add__\u001b[39m\u001b[34m(self, other)\u001b[39m\n\u001b[32m   1303\u001b[39m \u001b[38;5;28;01mif\u001b[39;00m \u001b[38;5;28misinstance\u001b[39m(other, F):\n\u001b[32m   1304\u001b[39m     \u001b[38;5;28;01mreturn\u001b[39;00m F(one=\u001b[38;5;28mself\u001b[39m, add=\u001b[38;5;28;01mTrue\u001b[39;00m, two=other, one_type=Elem.F, two_type=Elem.F)\n\u001b[32m-> \u001b[39m\u001b[32m1306\u001b[39m \u001b[38;5;28;01mreturn\u001b[39;00m \u001b[43mF\u001b[49m\u001b[43m(\u001b[49m\u001b[43mone\u001b[49m\u001b[43m=\u001b[49m\u001b[38;5;28;43mself\u001b[39;49m\u001b[43m,\u001b[49m\u001b[43m \u001b[49m\u001b[43madd\u001b[49m\u001b[43m=\u001b[49m\u001b[38;5;28;43;01mTrue\u001b[39;49;00m\u001b[43m,\u001b[49m\u001b[43m \u001b[49m\u001b[43mtwo\u001b[49m\u001b[43m=\u001b[49m\u001b[43mother\u001b[49m\u001b[43m,\u001b[49m\u001b[43m \u001b[49m\u001b[43mone_type\u001b[49m\u001b[43m=\u001b[49m\u001b[43mElem\u001b[49m\u001b[43m.\u001b[49m\u001b[43mF\u001b[49m\u001b[43m,\u001b[49m\u001b[43m \u001b[49m\u001b[43missumhow\u001b[49m\u001b[43m=\u001b[49m\u001b[38;5;28;43mself\u001b[39;49m\u001b[43m.\u001b[49m\u001b[43missumhow\u001b[49m\u001b[43m)\u001b[49m\n",
      "\u001b[36mFile \u001b[39m\u001b[32m~\\research\\packages\\gana\\src\\gana\\sets\\function.py:233\u001b[39m, in \u001b[36mF.__init__\u001b[39m\u001b[34m(self, one, two, one_type, two_type, mul, add, sub, div, parent, pos, index, case, consistent, issumhow)\u001b[39m\n\u001b[32m    231\u001b[39m \u001b[38;5;28mself\u001b[39m.generate_matrices()\n\u001b[32m    232\u001b[39m \u001b[38;5;66;03m# matrix is passed on to the birthed functions\u001b[39;00m\n\u001b[32m--> \u001b[39m\u001b[32m233\u001b[39m \u001b[38;5;28;43mself\u001b[39;49m\u001b[43m.\u001b[49m\u001b[43mbirth_functions\u001b[49m\u001b[43m(\u001b[49m\u001b[43m)\u001b[49m\n\u001b[32m    234\u001b[39m \u001b[38;5;66;03m# make a matrix of positions\u001b[39;00m\n\u001b[32m    235\u001b[39m \u001b[38;5;28mself\u001b[39m.P = [f.P \u001b[38;5;28;01mfor\u001b[39;00m f \u001b[38;5;129;01min\u001b[39;00m \u001b[38;5;28mself\u001b[39m._ \u001b[38;5;28;01mif\u001b[39;00m f \u001b[38;5;129;01mis\u001b[39;00m \u001b[38;5;129;01mnot\u001b[39;00m \u001b[38;5;28;01mNone\u001b[39;00m]\n",
      "\u001b[36mFile \u001b[39m\u001b[32m~\\research\\packages\\gana\\src\\gana\\sets\\function.py:599\u001b[39m, in \u001b[36mF.birth_functions\u001b[39m\u001b[34m(self)\u001b[39m\n\u001b[32m    597\u001b[39m     f.two = two\n\u001b[32m    598\u001b[39m \u001b[38;5;28;01melse\u001b[39;00m:\n\u001b[32m--> \u001b[39m\u001b[32m599\u001b[39m     f.two = \u001b[43mtwo\u001b[49m\u001b[43m(\u001b[49m\u001b[43m*\u001b[49m\u001b[43mtwo_idx\u001b[49m\u001b[43m)\u001b[49m\n\u001b[32m    601\u001b[39m f.pos = n\n\u001b[32m    602\u001b[39m f.one_type, f.two_type = \u001b[38;5;28mself\u001b[39m.one_type, \u001b[38;5;28mself\u001b[39m.two_type\n",
      "\u001b[36mFile \u001b[39m\u001b[32m~\\research\\packages\\gana\\src\\gana\\sets\\variable.py:988\u001b[39m, in \u001b[36mV.__call__\u001b[39m\u001b[34m(self, make_new, *key)\u001b[39m\n\u001b[32m    986\u001b[39m \u001b[38;5;28;01melse\u001b[39;00m:\n\u001b[32m    987\u001b[39m     \u001b[38;5;28mprint\u001b[39m(\u001b[33m'\u001b[39m\u001b[33mbbbb\u001b[39m\u001b[33m'\u001b[39m, \u001b[38;5;28mself\u001b[39m, index)\n\u001b[32m--> \u001b[39m\u001b[32m988\u001b[39m     variable = \u001b[38;5;28;43mself\u001b[39;49m\u001b[43m.\u001b[49m\u001b[43mmap\u001b[49m\u001b[43m[\u001b[49m\u001b[43mindex\u001b[49m\u001b[43m]\u001b[49m\n\u001b[32m    989\u001b[39m v.map[index] = variable\n\u001b[32m    990\u001b[39m v._.append(variable)\n",
      "\u001b[31mKeyError\u001b[39m: (power.lii, ho, q[1])"
     ]
    }
   ],
   "source": [
    "m.ho.locate(m.pv, m.wf, m.lii)\n",
    "m.sd.locate(m.pv, m.wf, m.lii)\n",
    "m.ny.locate(m.pv, m.wf, m.lii)"
   ]
  },
  {
   "cell_type": "code",
   "execution_count": 20,
   "id": "22fad064",
   "metadata": {},
   "outputs": [
    {
     "data": {
      "text/plain": [
       "{'ub': [], 'lb': []}"
      ]
     },
     "execution_count": 20,
     "metadata": {},
     "output_type": "execute_result"
    }
   ],
   "source": [
    "m.inventory.bound_spaces[m.lii.stored]"
   ]
  },
  {
   "cell_type": "code",
   "execution_count": null,
   "id": "252328f6",
   "metadata": {},
   "outputs": [],
   "source": [
    "m._.inventory[11].map"
   ]
  },
  {
   "cell_type": "code",
   "execution_count": null,
   "id": "4b52abf8",
   "metadata": {},
   "outputs": [],
   "source": [
    "m.show()"
   ]
  },
  {
   "cell_type": "code",
   "execution_count": null,
   "id": "3086b459",
   "metadata": {},
   "outputs": [],
   "source": [
    "m.dispositions"
   ]
  },
  {
   "cell_type": "code",
   "execution_count": null,
   "id": "2b1c9a35",
   "metadata": {},
   "outputs": [],
   "source": [
    "m.maps"
   ]
  },
  {
   "cell_type": "code",
   "execution_count": null,
   "id": "006d1d87",
   "metadata": {},
   "outputs": [],
   "source": [
    "m.dispositions"
   ]
  },
  {
   "cell_type": "code",
   "execution_count": null,
   "id": "83fa8e09",
   "metadata": {},
   "outputs": [],
   "source": [
    "m.show()"
   ]
  },
  {
   "cell_type": "code",
   "execution_count": null,
   "id": "e92c483a",
   "metadata": {},
   "outputs": [],
   "source": [
    "m.grb"
   ]
  },
  {
   "cell_type": "code",
   "execution_count": null,
   "id": "013192d9",
   "metadata": {},
   "outputs": [],
   "source": [
    "m.solar.show()"
   ]
  },
  {
   "cell_type": "code",
   "execution_count": null,
   "id": "de89149e",
   "metadata": {},
   "outputs": [],
   "source": [
    "m.usd.spend.opt()"
   ]
  },
  {
   "cell_type": "code",
   "execution_count": null,
   "id": "f134bd09",
   "metadata": {},
   "outputs": [],
   "source": [
    "m.sol()"
   ]
  },
  {
   "cell_type": "code",
   "execution_count": null,
   "id": "bb69f58c",
   "metadata": {},
   "outputs": [],
   "source": [
    "m.export.sol()"
   ]
  },
  {
   "cell_type": "code",
   "execution_count": null,
   "id": "f541a9ba",
   "metadata": {},
   "outputs": [],
   "source": [
    "m.spend.sol()"
   ]
  }
 ],
 "metadata": {
  "kernelspec": {
   "display_name": ".venv",
   "language": "python",
   "name": "python3"
  },
  "language_info": {
   "codemirror_mode": {
    "name": "ipython",
    "version": 3
   },
   "file_extension": ".py",
   "mimetype": "text/x-python",
   "name": "python",
   "nbconvert_exporter": "python",
   "pygments_lexer": "ipython3",
   "version": "3.13.7"
  }
 },
 "nbformat": 4,
 "nbformat_minor": 5
}
