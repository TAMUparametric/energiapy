{
 "cells": [
  {
   "cell_type": "markdown",
   "id": "686ba0d6",
   "metadata": {},
   "source": [
    "# Multi Location, Multiple Temporal Scales, Multiple Operations Including Transport, Mixed Integer Linear Programming Example\n",
    "\n",
    "## [Example 4]\n",
    "\n",
    "This is a continuation of 'One Location, Multiple Temporal Scales, Multiple Operations, Mixed Integer Linear Programming with Material and Emission Considerations Example' [Example 3]. \n",
    "\n",
    "We update Example 3 to now allow multiple locations and Transport options between them.\n"
   ]
  },
  {
   "cell_type": "markdown",
   "id": "84484ac2",
   "metadata": {},
   "source": [
    "## From Example 3"
   ]
  },
  {
   "cell_type": "code",
   "execution_count": null,
   "id": "609aab02",
   "metadata": {},
   "outputs": [],
   "source": [
    "from energia import *\n",
    "\n",
    "m = Model('example4')\n",
    "m.q = Period()\n",
    "m.y = 4 * m.q\n",
    "m.usd = Currency()\n"
   ]
  },
  {
   "cell_type": "markdown",
   "id": "541123ad",
   "metadata": {},
   "source": [
    "## Declaring Locations "
   ]
  },
  {
   "cell_type": "code",
   "execution_count": null,
   "id": "78d7d056",
   "metadata": {},
   "outputs": [],
   "source": [
    "m.ho = Location(label = 'Houston')\n",
    "m.sd = Location(label = 'San Diego')\n",
    "m.ny = Location(label = 'New York') \n",
    "# m.usa = m.ho + m.sd + m.ny"
   ]
  },
  {
   "cell_type": "markdown",
   "id": "433f1df8",
   "metadata": {},
   "source": [
    "### The Network \n",
    "\n",
    "Given that we have not used a nested set of locations, a network is made:"
   ]
  },
  {
   "cell_type": "code",
   "execution_count": 3,
   "id": "d4761c55",
   "metadata": {},
   "outputs": [
    {
     "data": {
      "text/plain": [
       "ntw"
      ]
     },
     "execution_count": 3,
     "metadata": {},
     "output_type": "execute_result"
    }
   ],
   "source": [
    "m.network"
   ]
  },
  {
   "cell_type": "markdown",
   "id": "14277382",
   "metadata": {},
   "source": [
    "This network contains the three locations at (ho, sd, ny)"
   ]
  },
  {
   "cell_type": "code",
   "execution_count": null,
   "id": "d744aefc",
   "metadata": {},
   "outputs": [
    {
     "data": {
      "text/plain": [
       "(sd, ho, ny)"
      ]
     },
     "execution_count": 4,
     "metadata": {},
     "output_type": "execute_result"
    }
   ],
   "source": [
    "m.network.has "
   ]
  },
  {
   "cell_type": "markdown",
   "id": "b2bda1be",
   "metadata": {},
   "source": [
    "## General Bounds Default to Network"
   ]
  },
  {
   "cell_type": "code",
   "execution_count": null,
   "id": "9a66530b",
   "metadata": {},
   "outputs": [
    {
     "name": "stdout",
     "output_type": "stream",
     "text": [
      "--- General Resource Balance for solar in (ntw, y): initializing constraint, adding consume\n",
      "    Completed in 0.0007498264312744141 seconds\n",
      "--- General Resource Balance for wind in (ntw, y): initializing constraint, adding consume\n",
      "    Completed in 0.00029206275939941406 seconds\n"
     ]
    },
    {
     "data": {
      "text/latex": [
       "$\\displaystyle [0]\\text{   }{{{cons}}}_{solar, ntw, y} = 0$"
      ],
      "text/plain": [
       "<IPython.core.display.Math object>"
      ]
     },
     "metadata": {},
     "output_type": "display_data"
    },
    {
     "data": {
      "text/latex": [
       "$\\displaystyle [1]\\text{   }{{{cons}}}_{solar, ntw, y} - 1200 \\leq 0$"
      ],
      "text/plain": [
       "<IPython.core.display.Math object>"
      ]
     },
     "metadata": {},
     "output_type": "display_data"
    },
    {
     "data": {
      "text/latex": [
       "$\\displaystyle [2]\\text{   }{{{{cons}}}}_{wind, ntw, y} = 0$"
      ],
      "text/plain": [
       "<IPython.core.display.Math object>"
      ]
     },
     "metadata": {},
     "output_type": "display_data"
    },
    {
     "data": {
      "text/latex": [
       "$\\displaystyle [3]\\text{   }{{{{cons}}}}_{wind, ntw, y} - 1200 \\leq 0$"
      ],
      "text/plain": [
       "<IPython.core.display.Math object>"
      ]
     },
     "metadata": {},
     "output_type": "display_data"
    }
   ],
   "source": [
    "m.declare(Resource, ['power', 'wind', 'solar'])\n",
    "# m.solar.consume == True \n",
    "# m.wind.consume == True\n",
    "m.solar.consume <= 1200\n",
    "m.wind.consume <= 1200\n",
    "m.consume.show()"
   ]
  },
  {
   "cell_type": "markdown",
   "id": "5abad359",
   "metadata": {},
   "source": [
    "## Location-specific Bounds \n",
    "\n",
    "Spatial specificity can be provided along with temporal fidelity. \n",
    "In the example below, the temporal fidelity is implied since the data has 4 samples.\n",
    "\n",
    "Note that an individual general resource balance is generated for power at each location"
   ]
  },
  {
   "cell_type": "code",
   "execution_count": 6,
   "id": "6f789af5",
   "metadata": {},
   "outputs": [
    {
     "name": "stdout",
     "output_type": "stream",
     "text": [
      "--- General Resource Balance for power in (ho, q): initializing constraint, adding release\n",
      "    Completed in 0.0002617835998535156 seconds\n",
      "--- General Resource Balance for power in (sd, q): initializing constraint, adding release\n",
      "    Completed in 0.0002579689025878906 seconds\n",
      "--- General Resource Balance for power in (ny, q): initializing constraint, adding release\n",
      "    Completed in 0.00023603439331054688 seconds\n"
     ]
    },
    {
     "data": {
      "text/latex": [
       "$\\displaystyle [4]\\text{   }-{{{rlse}}}_{power, ho, q} = 0$"
      ],
      "text/plain": [
       "<IPython.core.display.Math object>"
      ]
     },
     "metadata": {},
     "output_type": "display_data"
    },
    {
     "data": {
      "text/latex": [
       "$\\displaystyle [5]\\text{   }-{{{rlse}}}_{power, ho, q} + {φ}_{} \\leq 0$"
      ],
      "text/plain": [
       "<IPython.core.display.Math object>"
      ]
     },
     "metadata": {},
     "output_type": "display_data"
    },
    {
     "data": {
      "text/latex": [
       "$\\displaystyle [6]\\text{   }-{{{{rlse}}}}_{power, sd, q} = 0$"
      ],
      "text/plain": [
       "<IPython.core.display.Math object>"
      ]
     },
     "metadata": {},
     "output_type": "display_data"
    },
    {
     "data": {
      "text/latex": [
       "$\\displaystyle [7]\\text{   }-{{{{rlse}}}}_{power, sd, q} + {φ}_{} \\leq 0$"
      ],
      "text/plain": [
       "<IPython.core.display.Math object>"
      ]
     },
     "metadata": {},
     "output_type": "display_data"
    },
    {
     "data": {
      "text/latex": [
       "$\\displaystyle [8]\\text{   }-{{{{rlse}}}}_{power, ny, q} = 0$"
      ],
      "text/plain": [
       "<IPython.core.display.Math object>"
      ]
     },
     "metadata": {},
     "output_type": "display_data"
    },
    {
     "data": {
      "text/latex": [
       "$\\displaystyle [9]\\text{   }-{{{{rlse}}}}_{power, ny, q} + {φ}_{} \\leq 0$"
      ],
      "text/plain": [
       "<IPython.core.display.Math object>"
      ]
     },
     "metadata": {},
     "output_type": "display_data"
    }
   ],
   "source": [
    "m.power.release(m.ho).prep(30) >= [0.6, 0.7, 0.8, 0.3]\n",
    "m.power.release(m.sd).prep(100) >= [0.4, 0.9, 0.7, 0.6]\n",
    "m.power.release(m.ny).prep(180) >= [0.2, 0.5, 0.7, 0.5]\n",
    "m.release.show()"
   ]
  },
  {
   "cell_type": "markdown",
   "id": "74176947",
   "metadata": {},
   "source": [
    "## For All Locations \n",
    "\n",
    "Generally, in Energia to repeat a constraint over a set, use .forall()\n",
    "\n",
    "If a list is provided, the bounds are iterated over the list [see LB cons]\n",
    "else the bounds are repeated [see UB cons]"
   ]
  },
  {
   "cell_type": "code",
   "execution_count": null,
   "id": "96aab4e0",
   "metadata": {},
   "outputs": [
    {
     "ename": "NameError",
     "evalue": "name 'Process' is not defined",
     "output_type": "error",
     "traceback": [
      "\u001b[31m---------------------------------------------------------------------------\u001b[39m",
      "\u001b[31mNameError\u001b[39m                                 Traceback (most recent call last)",
      "\u001b[36mCell\u001b[39m\u001b[36m \u001b[39m\u001b[32mIn[1]\u001b[39m\u001b[32m, line 1\u001b[39m\n\u001b[32m----> \u001b[39m\u001b[32m1\u001b[39m help(\u001b[43mProcess\u001b[49m)\n",
      "\u001b[31mNameError\u001b[39m: name 'Process' is not defined"
     ]
    }
   ],
   "source": []
  },
  {
   "cell_type": "code",
   "execution_count": null,
   "id": "4954a5eb",
   "metadata": {},
   "outputs": [
    {
     "data": {
      "text/latex": [
       "$\\displaystyle [10]\\text{   }10 \\cdot {{{\\breve{{cap}^{P}}}}}_{wf, sd, y} - {{{cap}^{P}}}_{wf, sd, y} \\leq 0$"
      ],
      "text/plain": [
       "<IPython.core.display.Math object>"
      ]
     },
     "metadata": {},
     "output_type": "display_data"
    },
    {
     "data": {
      "text/latex": [
       "$\\displaystyle [11]\\text{   }7 \\cdot {{{{\\breve{{cap}^{P}}}}}}_{wf, ho, y} - {{{{cap}^{P}}}}_{wf, ho, y} \\leq 0$"
      ],
      "text/plain": [
       "<IPython.core.display.Math object>"
      ]
     },
     "metadata": {},
     "output_type": "display_data"
    },
    {
     "data": {
      "text/latex": [
       "$\\displaystyle [12]\\text{   }20 \\cdot {{{{\\breve{{cap}^{P}}}}}}_{wf, ny, y} - {{{{cap}^{P}}}}_{wf, ny, y} \\leq 0$"
      ],
      "text/plain": [
       "<IPython.core.display.Math object>"
      ]
     },
     "metadata": {},
     "output_type": "display_data"
    },
    {
     "data": {
      "text/latex": [
       "$\\displaystyle [13]\\text{   }{{{{cap}^{P}}}}_{wf, sd, y} - 100 \\cdot {{{{\\breve{{cap}^{P}}}}}}_{wf, sd, y} \\leq 0$"
      ],
      "text/plain": [
       "<IPython.core.display.Math object>"
      ]
     },
     "metadata": {},
     "output_type": "display_data"
    },
    {
     "data": {
      "text/latex": [
       "$\\displaystyle [14]\\text{   }{{{{cap}^{P}}}}_{wf, ho, y} - 100 \\cdot {{{{\\breve{{cap}^{P}}}}}}_{wf, ho, y} \\leq 0$"
      ],
      "text/plain": [
       "<IPython.core.display.Math object>"
      ]
     },
     "metadata": {},
     "output_type": "display_data"
    },
    {
     "data": {
      "text/latex": [
       "$\\displaystyle [15]\\text{   }{{{{cap}^{P}}}}_{wf, ny, y} - 100 \\cdot {{{{\\breve{{cap}^{P}}}}}}_{wf, ny, y} \\leq 0$"
      ],
      "text/plain": [
       "<IPython.core.display.Math object>"
      ]
     },
     "metadata": {},
     "output_type": "display_data"
    }
   ],
   "source": [
    "m.wf = Process(m.power)\n",
    "m.wf(m.power) == -1 * m.wind\n",
    "[10, 7, 20] <= m.wf.capacity.x.forall(m.network.has)\n",
    "m.wf.capacity.x.forall(m.network.has) <= 100\n",
    "m.wf.show()"
   ]
  },
  {
   "cell_type": "markdown",
   "id": "e3a4830d",
   "metadata": {},
   "source": [
    "Bounds can also be provided individually"
   ]
  },
  {
   "cell_type": "code",
   "execution_count": null,
   "id": "209f685c",
   "metadata": {},
   "outputs": [
    {
     "data": {
      "text/latex": [
       "$\\displaystyle [34]\\text{   }{{{opr}}}_{wf, ho, q{0}} - 0.9 \\cdot {{{cap}^{P}}}_{wf, ho, y{0}} \\leq 0$"
      ],
      "text/plain": [
       "<IPython.core.display.Math object>"
      ]
     },
     "metadata": {},
     "output_type": "display_data"
    },
    {
     "data": {
      "text/latex": [
       "$\\displaystyle [35]\\text{   }{{{opr}}}_{wf, ho, q{1}} - 0.8 \\cdot {{{cap}^{P}}}_{wf, ho, y{0}} \\leq 0$"
      ],
      "text/plain": [
       "<IPython.core.display.Math object>"
      ]
     },
     "metadata": {},
     "output_type": "display_data"
    },
    {
     "data": {
      "text/latex": [
       "$\\displaystyle [36]\\text{   }{{{opr}}}_{wf, ho, q{2}} - 0.5 \\cdot {{{cap}^{P}}}_{wf, ho, y{0}} \\leq 0$"
      ],
      "text/plain": [
       "<IPython.core.display.Math object>"
      ]
     },
     "metadata": {},
     "output_type": "display_data"
    },
    {
     "data": {
      "text/latex": [
       "$\\displaystyle [37]\\text{   }{{{opr}}}_{wf, ho, q{3}} - 0.7 \\cdot {{{cap}^{P}}}_{wf, ho, y{0}} \\leq 0$"
      ],
      "text/plain": [
       "<IPython.core.display.Math object>"
      ]
     },
     "metadata": {},
     "output_type": "display_data"
    },
    {
     "data": {
      "text/latex": [
       "$\\displaystyle [38]\\text{   }{{{opr}}}_{wf, sd, q{0}} - 0.8 \\cdot {{{cap}^{P}}}_{wf, sd, y{0}} \\leq 0$"
      ],
      "text/plain": [
       "<IPython.core.display.Math object>"
      ]
     },
     "metadata": {},
     "output_type": "display_data"
    },
    {
     "data": {
      "text/latex": [
       "$\\displaystyle [39]\\text{   }{{{opr}}}_{wf, sd, q{1}} - 0.7 \\cdot {{{cap}^{P}}}_{wf, sd, y{0}} \\leq 0$"
      ],
      "text/plain": [
       "<IPython.core.display.Math object>"
      ]
     },
     "metadata": {},
     "output_type": "display_data"
    },
    {
     "data": {
      "text/latex": [
       "$\\displaystyle [40]\\text{   }{{{opr}}}_{wf, sd, q{2}} - 0.6 \\cdot {{{cap}^{P}}}_{wf, sd, y{0}} \\leq 0$"
      ],
      "text/plain": [
       "<IPython.core.display.Math object>"
      ]
     },
     "metadata": {},
     "output_type": "display_data"
    },
    {
     "data": {
      "text/latex": [
       "$\\displaystyle [41]\\text{   }{{{opr}}}_{wf, sd, q{3}} - 0.5 \\cdot {{{cap}^{P}}}_{wf, sd, y{0}} \\leq 0$"
      ],
      "text/plain": [
       "<IPython.core.display.Math object>"
      ]
     },
     "metadata": {},
     "output_type": "display_data"
    },
    {
     "data": {
      "text/latex": [
       "$\\displaystyle [42]\\text{   }{{{opr}}}_{wf, ny, q{0}} - 0.6 \\cdot {{{cap}^{P}}}_{wf, ny, y{0}} \\leq 0$"
      ],
      "text/plain": [
       "<IPython.core.display.Math object>"
      ]
     },
     "metadata": {},
     "output_type": "display_data"
    },
    {
     "data": {
      "text/latex": [
       "$\\displaystyle [43]\\text{   }{{{opr}}}_{wf, ny, q{1}} - 0.5 \\cdot {{{cap}^{P}}}_{wf, ny, y{0}} \\leq 0$"
      ],
      "text/plain": [
       "<IPython.core.display.Math object>"
      ]
     },
     "metadata": {},
     "output_type": "display_data"
    },
    {
     "data": {
      "text/latex": [
       "$\\displaystyle [44]\\text{   }{{{opr}}}_{wf, ny, q{2}} - 0.4 \\cdot {{{cap}^{P}}}_{wf, ny, y{0}} \\leq 0$"
      ],
      "text/plain": [
       "<IPython.core.display.Math object>"
      ]
     },
     "metadata": {},
     "output_type": "display_data"
    },
    {
     "data": {
      "text/latex": [
       "$\\displaystyle [45]\\text{   }{{{opr}}}_{wf, ny, q{3}} - 0.3 \\cdot {{{cap}^{P}}}_{wf, ny, y{0}} \\leq 0$"
      ],
      "text/plain": [
       "<IPython.core.display.Math object>"
      ]
     },
     "metadata": {},
     "output_type": "display_data"
    }
   ],
   "source": [
    "m.wf.operate.prep(norm = True)(m.ho) <= [0.9, 0.8, 0.5, 0.7]\n",
    "m.wf.operate.prep(norm = True)(m.sd) <= [0.8, 0.7, 0.6, 0.5]\n",
    "m.wf.operate.prep(norm = True)(m.ny) <= [0.6, 0.5, 0.4, 0.3]\n",
    "m.operate.show(True)\n",
    "# m.wf.operate.prep(norm = True).forall(m.network.has) <= [[0.9, 0.8, 0.5, 0.7], [0.8, 0.7, 0.6, 0.5], [0.6, 0.5, 0.4, 0.3]]"
   ]
  },
  {
   "cell_type": "markdown",
   "id": "0889efcf",
   "metadata": {},
   "source": [
    "Calculations can also be provided for all locations as a list or repeated"
   ]
  },
  {
   "cell_type": "code",
   "execution_count": null,
   "id": "9351a076",
   "metadata": {},
   "outputs": [
    {
     "name": "stdout",
     "output_type": "stream",
     "text": [
      "--- Creating map to (usd, ntw, y, operate, wf). Mapping spend: from (usd, ho, y, operate, wf) to (usd, ntw, y, operate, wf)\n",
      "    Completed in 0.0009720325469970703 seconds\n",
      "--- Mapping spend: from (usd, sd, y, operate, wf) to (usd, ntw, y, operate, wf)\n",
      "    Completed in 0.0005941390991210938 seconds\n",
      "--- Mapping spend: from (usd, ny, y, operate, wf) to (usd, ntw, y, operate, wf)\n",
      "    Completed in 0.0002338886260986328 seconds\n",
      "--- Mapping operate across time from (wf, ho, q) to (wf, ho, y)\n",
      "--- Creating map to (wf, ho, y). Mapping operate: from (wf, ho, q) to (wf, ho, y)\n",
      "    Completed in 0.0001850128173828125 seconds\n",
      "--- Creating map to (wf, ntw, y). Mapping operate: from (wf, ho, y) to (wf, ntw, y)\n",
      "    Completed in 0.00048279762268066406 seconds\n",
      "--- Mapping operate across time from (wf, sd, q) to (wf, sd, y)\n",
      "--- Creating map to (wf, sd, y). Mapping operate: from (wf, sd, q) to (wf, sd, y)\n",
      "    Completed in 0.0007290840148925781 seconds\n",
      "--- Mapping operate: from (wf, sd, y) to (wf, ntw, y)\n",
      "    Completed in 0.000823974609375 seconds\n",
      "--- Mapping operate across time from (wf, ny, q) to (wf, ny, y)\n",
      "--- Creating map to (wf, ny, y). Mapping operate: from (wf, ny, q) to (wf, ny, y)\n",
      "    Completed in 0.00017499923706054688 seconds\n",
      "--- Mapping operate: from (wf, ny, y) to (wf, ntw, y)\n",
      "    Completed in 0.00044798851013183594 seconds\n"
     ]
    }
   ],
   "source": [
    "m.wf.capacity[m.usd.spend].forall(m.network.has) == [90000, 70000, 60000]\n",
    "m.wf.operate[m.usd.spend] == 49"
   ]
  },
  {
   "cell_type": "code",
   "execution_count": 14,
   "id": "75e88a61",
   "metadata": {},
   "outputs": [
    {
     "data": {
      "text/latex": [
       "$\\displaystyle [10]\\text{   }10 \\cdot {{{\\breve{{cap}^{P}}}}}_{wf, sd, y} - {{{cap}^{P}}}_{wf, sd, y} \\leq 0$"
      ],
      "text/plain": [
       "<IPython.core.display.Math object>"
      ]
     },
     "metadata": {},
     "output_type": "display_data"
    },
    {
     "data": {
      "text/latex": [
       "$\\displaystyle [11]\\text{   }7 \\cdot {{{{\\breve{{cap}^{P}}}}}}_{wf, ho, y} - {{{{cap}^{P}}}}_{wf, ho, y} \\leq 0$"
      ],
      "text/plain": [
       "<IPython.core.display.Math object>"
      ]
     },
     "metadata": {},
     "output_type": "display_data"
    },
    {
     "data": {
      "text/latex": [
       "$\\displaystyle [12]\\text{   }20 \\cdot {{{{\\breve{{cap}^{P}}}}}}_{wf, ny, y} - {{{{cap}^{P}}}}_{wf, ny, y} \\leq 0$"
      ],
      "text/plain": [
       "<IPython.core.display.Math object>"
      ]
     },
     "metadata": {},
     "output_type": "display_data"
    },
    {
     "data": {
      "text/latex": [
       "$\\displaystyle [13]\\text{   }{{{{cap}^{P}}}}_{wf, sd, y} - 100 \\cdot {{{{\\breve{{cap}^{P}}}}}}_{wf, sd, y} \\leq 0$"
      ],
      "text/plain": [
       "<IPython.core.display.Math object>"
      ]
     },
     "metadata": {},
     "output_type": "display_data"
    },
    {
     "data": {
      "text/latex": [
       "$\\displaystyle [14]\\text{   }{{{{cap}^{P}}}}_{wf, ho, y} - 100 \\cdot {{{{\\breve{{cap}^{P}}}}}}_{wf, ho, y} \\leq 0$"
      ],
      "text/plain": [
       "<IPython.core.display.Math object>"
      ]
     },
     "metadata": {},
     "output_type": "display_data"
    },
    {
     "data": {
      "text/latex": [
       "$\\displaystyle [15]\\text{   }{{{{cap}^{P}}}}_{wf, ny, y} - 100 \\cdot {{{{\\breve{{cap}^{P}}}}}}_{wf, ny, y} \\leq 0$"
      ],
      "text/plain": [
       "<IPython.core.display.Math object>"
      ]
     },
     "metadata": {},
     "output_type": "display_data"
    },
    {
     "data": {
      "text/latex": [
       "$\\displaystyle [16]\\text{   }{{{opr}}}_{wf, ho, q} - {φ}_{} \\cdot {{{{cap}^{P}}}}_{wf, ho, y} \\leq 0$"
      ],
      "text/plain": [
       "<IPython.core.display.Math object>"
      ]
     },
     "metadata": {},
     "output_type": "display_data"
    },
    {
     "data": {
      "text/latex": [
       "$\\displaystyle [17]\\text{   }{{{{opr}}}}_{wf, sd, q} - {φ}_{} \\cdot {{{{cap}^{P}}}}_{wf, sd, y} \\leq 0$"
      ],
      "text/plain": [
       "<IPython.core.display.Math object>"
      ]
     },
     "metadata": {},
     "output_type": "display_data"
    },
    {
     "data": {
      "text/latex": [
       "$\\displaystyle [18]\\text{   }{{{{opr}}}}_{wf, ny, q} - {φ}_{} \\cdot {{{{cap}^{P}}}}_{wf, ny, y} \\leq 0$"
      ],
      "text/plain": [
       "<IPython.core.display.Math object>"
      ]
     },
     "metadata": {},
     "output_type": "display_data"
    },
    {
     "data": {
      "text/latex": [
       "$\\displaystyle [19]\\text{   }{{spend}}_{usd, sd, y, {capacity}, wf} - 90000 \\cdot {{{{cap}^{P}}}}_{wf, sd, y} = 0$"
      ],
      "text/plain": [
       "<IPython.core.display.Math object>"
      ]
     },
     "metadata": {},
     "output_type": "display_data"
    },
    {
     "data": {
      "text/latex": [
       "$\\displaystyle [20]\\text{   }{{{spend}}}_{usd, ho, y, {capacity}, wf} - 70000 \\cdot {{{{cap}^{P}}}}_{wf, ho, y} = 0$"
      ],
      "text/plain": [
       "<IPython.core.display.Math object>"
      ]
     },
     "metadata": {},
     "output_type": "display_data"
    },
    {
     "data": {
      "text/latex": [
       "$\\displaystyle [21]\\text{   }{{{spend}}}_{usd, ny, y, {capacity}, wf} - 60000 \\cdot {{{{cap}^{P}}}}_{wf, ny, y} = 0$"
      ],
      "text/plain": [
       "<IPython.core.display.Math object>"
      ]
     },
     "metadata": {},
     "output_type": "display_data"
    },
    {
     "data": {
      "text/latex": [
       "$\\displaystyle [22]\\text{   }{{{spend}}}_{usd, ntw, y, {operate}, wf} - {{{spend}}}_{usd, ho, y, {operate}, wf} - {{{spend}}}_{usd, sd, y, {operate}, wf} - {{{spend}}}_{usd, ny, y, {operate}, wf} = 0$"
      ],
      "text/plain": [
       "<IPython.core.display.Math object>"
      ]
     },
     "metadata": {},
     "output_type": "display_data"
    },
    {
     "data": {
      "text/latex": [
       "$\\displaystyle [23]\\text{   }{{{{opr}}}}_{wf, ho, y} - \\sum_{i \\in q} {{{opr}}}_{wf, ho, i} = 0$"
      ],
      "text/plain": [
       "<IPython.core.display.Math object>"
      ]
     },
     "metadata": {},
     "output_type": "display_data"
    },
    {
     "data": {
      "text/latex": [
       "$\\displaystyle [24]\\text{   }{{{{opr}}}}_{wf, ntw, y} - {{{{opr}}}}_{wf, ho, y} - {{{{opr}}}}_{wf, sd, y} - {{{{opr}}}}_{wf, ny, y} = 0$"
      ],
      "text/plain": [
       "<IPython.core.display.Math object>"
      ]
     },
     "metadata": {},
     "output_type": "display_data"
    },
    {
     "data": {
      "text/latex": [
       "$\\displaystyle [25]\\text{   }{{{{opr}}}}_{wf, sd, y} - \\sum_{i \\in q} {{{opr}}}_{wf, sd, i} = 0$"
      ],
      "text/plain": [
       "<IPython.core.display.Math object>"
      ]
     },
     "metadata": {},
     "output_type": "display_data"
    },
    {
     "data": {
      "text/latex": [
       "$\\displaystyle [26]\\text{   }{{{{opr}}}}_{wf, ny, y} - \\sum_{i \\in q} {{{opr}}}_{wf, ny, i} = 0$"
      ],
      "text/plain": [
       "<IPython.core.display.Math object>"
      ]
     },
     "metadata": {},
     "output_type": "display_data"
    },
    {
     "data": {
      "text/latex": [
       "$\\displaystyle [27]\\text{   }{{{spend}}}_{usd, ntw, y, {operate}, wf} - 49 \\cdot {{{{opr}}}}_{wf, ntw, y} = 0$"
      ],
      "text/plain": [
       "<IPython.core.display.Math object>"
      ]
     },
     "metadata": {},
     "output_type": "display_data"
    }
   ],
   "source": [
    "m.wf.show()"
   ]
  },
  {
   "cell_type": "markdown",
   "id": "99b036bb",
   "metadata": {},
   "source": [
    "In the case where location specific data is not provided, the parameter is assumed tuo apply to the network"
   ]
  },
  {
   "cell_type": "code",
   "execution_count": 15,
   "id": "ae7e2a28",
   "metadata": {},
   "outputs": [],
   "source": [
    "m.pv = Process()\n",
    "m.pv(m.power) == -1 * m.solar"
   ]
  },
  {
   "cell_type": "code",
   "execution_count": null,
   "id": "9296564f",
   "metadata": {},
   "outputs": [
    {
     "name": "stdout",
     "output_type": "stream",
     "text": [
      "--- Aspect (capacity) not defined at sd, a variable will be created assuming y as the temporal index\n",
      "--- Creating map to (pv, ntw, y). Mapping capacity: from (pv, sd, y) to (pv, ntw, y)\n",
      "    Completed in 0.0002727508544921875 seconds\n",
      "--- Aspect (capacity) not defined at ho, a variable will be created assuming y as the temporal index\n",
      "--- Mapping capacity: from (pv, ho, y) to (pv, ntw, y)\n",
      "    Completed in 0.0003218650817871094 seconds\n",
      "--- Aspect (capacity) not defined at ny, a variable will be created assuming y as the temporal index\n",
      "--- Mapping capacity: from (pv, ny, y) to (pv, ntw, y)\n",
      "    Completed in 0.00019502639770507812 seconds\n",
      "--- Creating map to (usd, ntw, y, capacity, pv). Mapping spend: from (usd, ho, y, capacity, pv) to (usd, ntw, y, capacity, pv)\n",
      "    Completed in 0.0002887248992919922 seconds\n",
      "--- Mapping spend: from (usd, sd, y, capacity, pv) to (usd, ntw, y, capacity, pv)\n",
      "    Completed in 0.0002338886260986328 seconds\n",
      "--- Mapping spend: from (usd, ny, y, capacity, pv) to (usd, ntw, y, capacity, pv)\n",
      "    Completed in 0.00018787384033203125 seconds\n",
      "--- Creating map to (usd, ntw, y, operate, pv). Mapping spend: from (usd, ho, y, operate, pv) to (usd, ntw, y, operate, pv)\n",
      "    Completed in 0.00027298927307128906 seconds\n",
      "--- Mapping spend: from (usd, sd, y, operate, pv) to (usd, ntw, y, operate, pv)\n",
      "    Completed in 0.000335693359375 seconds\n",
      "--- Mapping spend: from (usd, ny, y, operate, pv) to (usd, ntw, y, operate, pv)\n",
      "    Completed in 0.00027680397033691406 seconds\n",
      "--- Mapping operate across time from (pv, ho, q) to (pv, ho, y)\n",
      "--- Creating map to (pv, ho, y). Mapping operate: from (pv, ho, q) to (pv, ho, y)\n",
      "    Completed in 0.0008840560913085938 seconds\n",
      "--- Creating map to (pv, ntw, y). Mapping operate: from (pv, ho, y) to (pv, ntw, y)\n",
      "    Completed in 0.0002741813659667969 seconds\n",
      "--- Mapping operate across time from (pv, sd, q) to (pv, sd, y)\n",
      "--- Creating map to (pv, sd, y). Mapping operate: from (pv, sd, q) to (pv, sd, y)\n",
      "    Completed in 0.00016999244689941406 seconds\n",
      "--- Mapping operate: from (pv, sd, y) to (pv, ntw, y)\n",
      "    Completed in 0.0001590251922607422 seconds\n",
      "--- Mapping operate across time from (pv, ny, q) to (pv, ny, y)\n",
      "--- Creating map to (pv, ny, y). Mapping operate: from (pv, ny, q) to (pv, ny, y)\n",
      "    Completed in 0.0002779960632324219 seconds\n",
      "--- Mapping operate: from (pv, ny, y) to (pv, ntw, y)\n",
      "    Completed in 0.0001671314239501953 seconds\n",
      "--- Creating map to (usd, ntw, y, invcapacity, power.lii). Mapping spend: from (usd, ho, y, invcapacity, power.lii) to (usd, ntw, y, invcapacity, power.lii)\n",
      "    Completed in 0.0004019737243652344 seconds\n",
      "--- Mapping spend: from (usd, sd, y, invcapacity, power.lii) to (usd, ntw, y, invcapacity, power.lii)\n",
      "    Completed in 0.00018310546875 seconds\n",
      "--- Mapping spend: from (usd, ny, y, invcapacity, power.lii) to (usd, ntw, y, invcapacity, power.lii)\n",
      "    Completed in 0.0001938343048095703 seconds\n",
      "--- General Resource Balance for power.lii in (ntw, y): initializing constraint, adding inventory\n",
      "--- Creating map to (usd, ntw, y, inventory, power.lii). Mapping spend: from (usd, ho, y, inventory, power.lii) to (usd, ntw, y, inventory, power.lii)\n",
      "    Completed in 0.00027179718017578125 seconds\n",
      "--- Mapping spend: from (usd, sd, y, inventory, power.lii) to (usd, ntw, y, inventory, power.lii)\n",
      "    Completed in 0.0003459453582763672 seconds\n",
      "--- Mapping spend: from (usd, ny, y, inventory, power.lii) to (usd, ntw, y, inventory, power.lii)\n",
      "    Completed in 0.0002429485321044922 seconds\n",
      "--- Creating map to (wf, ntw, y). Mapping capacity: from (wf, ho, y) to (wf, ntw, y)\n",
      "    Completed in 0.001302957534790039 seconds\n",
      "--- Mapping capacity: from (wf, sd, y) to (wf, ntw, y)\n",
      "    Completed in 0.00015807151794433594 seconds\n",
      "--- Mapping capacity: from (wf, ny, y) to (wf, ntw, y)\n",
      "    Completed in 0.0001552104949951172 seconds\n",
      "--- General Resource Balance for cement in (ntw, y): initializing constraint, adding consume\n",
      "    Completed in 0.00017213821411132812 seconds\n",
      "--- Creating map to (usd, ntw, y, consume, cement). Mapping spend: from (usd, ho, y, consume, cement) to (usd, ntw, y, consume, cement)\n",
      "    Completed in 0.00033593177795410156 seconds\n",
      "--- Mapping spend: from (usd, sd, y, consume, cement) to (usd, ntw, y, consume, cement)\n",
      "    Completed in 0.00020766258239746094 seconds\n",
      "--- Mapping spend: from (usd, ny, y, consume, cement) to (usd, ntw, y, consume, cement)\n",
      "    Completed in 0.00019407272338867188 seconds\n",
      "--- General Resource Balance for cement in (ntw, y): adding use\n",
      "    Completed in 0.0001900196075439453 seconds\n",
      "--- General Resource Balance for cement in (ntw, y): adding use\n",
      "    Completed in 0.000225067138671875 seconds\n",
      "--- General Resource Balance for cement in (ntw, y): adding use\n",
      "    Completed in 0.0001919269561767578 seconds\n"
     ]
    }
   ],
   "source": [
    "\n",
    "m.pv.capacity.x <= 100\n",
    "m.pv.capacity.x >= 10\n",
    "m.pv.operate.prep(norm = True).forall(m.network.has) <= [[0.6, 0.8, 0.9, 0.7], \n",
    "                                                           [0.5, 0.7, 0.6, 0.5], \n",
    "                                                           [0.4, 0.6, 0.5, 0.4]]\n",
    "m.pv.capacity[m.usd.spend] == 567000 + 872046\n",
    "m.pv.operate[m.usd.spend] == 90000   \n",
    "\n",
    "m.lii = Storage()\n",
    "m.lii(m.power) == 0.9\n",
    "m.lii.capacity.x <= 100\n",
    "m.lii.capacity.x >= 10\n",
    "m.lii.capacity[m.usd.spend] == 1302182 + 41432\n",
    "m.lii.inventory[m.usd.spend] == 2000\n",
    "m.lii.charge.capacity <= 100\n",
    "m.lii.charge.operate <= 1\n",
    "m.lii.discharge.capacity <= 100\n",
    "m.lii.discharge.operate <= 1\n",
    "\n",
    "m.gwp = Environ()\n",
    "\n",
    "m.wf.capacity[m.gwp.emit] == 1000\n",
    "m.pv.capacity[m.gwp.emit] == 2000\n",
    "m.lii.capacity[m.gwp.emit] == 3000\n",
    "\n",
    "m.cement = Material()\n",
    "m.cement.consume <= 1000000\n",
    "m.cement.consume[m.usd.spend] == 17 \n",
    "m.cement.consume[m.gwp.emit] == 0.9\n",
    "\n",
    "m.wf.capacity[m.cement.use] == 400\n",
    "m.pv.capacity[m.cement.use] == 560\n",
    "m.lii.capacity[m.cement.use] == 300"
   ]
  },
  {
   "cell_type": "markdown",
   "id": "b3f2f7a5",
   "metadata": {},
   "source": [
    "## Linkages "
   ]
  },
  {
   "cell_type": "markdown",
   "id": "0d06a78d",
   "metadata": {},
   "source": [
    "A grid of valid linkages can be created from sources to sinks.\n",
    "\n",
    "Linkages are always one directional, stating bi, created a link from source to sink and the other way round \n",
    "\n",
    "If multiple links exist between two locations with different distances, it is necessary to create named links. \n",
    "Again, it needs to be stated whether the links are bi directional "
   ]
  },
  {
   "cell_type": "code",
   "execution_count": null,
   "id": "4164ba42",
   "metadata": {},
   "outputs": [
    {
     "data": {
      "text/plain": [
       "[ho-sd, sd-ho, road, -road]"
      ]
     },
     "execution_count": 13,
     "metadata": {},
     "output_type": "execute_result"
    }
   ],
   "source": [
    "m.Link(source = m.ho, sink=m.sd, dist = 2000, bi = True)\n",
    "# m.Link(source = m.sd, sink=m.ny, dist = 1500)\n",
    "m.road = Link(source = m.ho, sink=m.ny, dist = 3000, bi = True)\n",
    "# m.rail = Link(source = m.ho, sink=m.ny, dist = 5000, bi = True)\n",
    "m.links \n"
   ]
  },
  {
   "cell_type": "code",
   "execution_count": 14,
   "id": "02e86387",
   "metadata": {},
   "outputs": [
    {
     "name": "stdout",
     "output_type": "stream",
     "text": [
      "ho is source and sd is sink in ho-sd\n",
      "sd is source and ho is sink in sd-ho\n"
     ]
    },
    {
     "data": {
      "text/plain": [
       "[ho-sd, sd-ho]"
      ]
     },
     "execution_count": 14,
     "metadata": {},
     "output_type": "execute_result"
    }
   ],
   "source": [
    "m.ho.links(m.sd)"
   ]
  },
  {
   "cell_type": "markdown",
   "id": "72275a98",
   "metadata": {},
   "source": [
    "## Transits\n",
    "\n",
    "Declare some transport options between across the linkages \n"
   ]
  },
  {
   "cell_type": "code",
   "execution_count": null,
   "id": "cfbb8036",
   "metadata": {},
   "outputs": [
    {
     "name": "stdout",
     "output_type": "stream",
     "text": [
      "aaaa  [x_capacity[4]]\n",
      "aaaa  [x_capacity[5]]\n",
      "aaaa  [capacity[10]]\n",
      "aaaa  [capacity[10]]\n",
      "aaaa  [capacity[10]]\n",
      "aaaa  [capacity[10]]\n",
      "aaaa  [capacity[11]]\n",
      "aaaa  [capacity[11]]\n",
      "aaaa  [capacity[11]]\n",
      "aaaa  [capacity[11]]\n",
      "--- Creating map to (grid, ho-sd, y). Mapping operate: from (grid, ho-sd, q) to (grid, ho-sd, y)\n",
      "aaaa  [operate[34], operate[35]]\n",
      "aaaa  [operate[34], operate[35], operate[36]]\n",
      "aaaa  [operate[34], operate[35], operate[36], operate[37]]\n",
      "aaaa  [operate[42]]\n",
      "aaaa  [operate[43]]\n",
      "--- Creating map to (grid, road, y). Mapping operate: from (grid, road, q) to (grid, road, y)\n",
      "aaaa  [operate[38], operate[39]]\n",
      "aaaa  [operate[38], operate[39], operate[40]]\n",
      "aaaa  [operate[38], operate[39], operate[40], operate[41]]\n",
      "aaaa  [operate[44]]\n",
      "aaaa  [operate[45]]\n",
      "--- Creating map to (usd, ntw, y, capacity, grid). Mapping spend: from (usd, ho, y, capacity, grid) to (usd, ntw, y, capacity, grid)\n",
      "--- Creating map to (usd, ntw, y, capacity, grid). Mapping spend: from (usd, ho, y, capacity, grid) to (usd, ntw, y, capacity, grid)\n",
      "aaaa  [spend[32]]\n",
      "aaaa  [spend[32]]\n",
      "--- Mapping spend: from (usd, sd, y, capacity, grid) to (usd, ntw, y, capacity, grid)\n",
      "--- Mapping spend: from (usd, sd, y, capacity, grid) to (usd, ntw, y, capacity, grid)\n",
      "aaaa  [spend[31], spend[32], spend[33]]\n",
      "aaaa  [spend[31], spend[32], spend[33]]\n",
      "--- Mapping spend: from (usd, ny, y, capacity, grid) to (usd, ntw, y, capacity, grid)\n",
      "--- Mapping spend: from (usd, ny, y, capacity, grid) to (usd, ntw, y, capacity, grid)\n",
      "aaaa  [spend[31], spend[32], spend[33], spend[34]]\n",
      "aaaa  [spend[31], spend[32], spend[33], spend[34]]\n",
      "aaaa  [capacity[12]]\n"
     ]
    }
   ],
   "source": [
    "m.grid = Transport()\n",
    "m.grid(m.power)\n",
    "m.grid.capacity.x.forall([m.ho-m.sd, m.road]) <= 100\n",
    "m.grid.operate.prep(norm = True).forall([m.ho-m.sd, m.road]) <= [[0.9, 0.8, 0.5, 0.7],\n",
    "                                                           [0.8, 0.7, 0.6, 0.9]]\n",
    "m.grid.operate[m.usd.spend].forall(m.links) == 2000\n",
    "m.grid.capacity[m.usd.spend] == 1000  "
   ]
  },
  {
   "cell_type": "code",
   "execution_count": null,
   "id": "c75db03f",
   "metadata": {},
   "outputs": [
    {
     "name": "stdout",
     "output_type": "stream",
     "text": [
      "--- Assuming  grid capacity is unbounded in (sd-ho, y)\n",
      "--- Assuming  grid capacity is unbounded in (-road, y)\n",
      "--- General Resource Balance for power in (ho, q): adding ship_out from grid\n",
      "aaaa  [release[0], ship_out[0]]\n",
      "aaaa  [release[1], ship_out[1]]\n",
      "aaaa  [release[2], ship_out[2]]\n",
      "aaaa  [release[3], ship_out[3]]\n",
      "--- General Resource Balance for power in (sd, q): adding ship_in from grid\n",
      "aaaa  [release[4], ship_in[0]]\n",
      "aaaa  [release[5], ship_in[1]]\n",
      "aaaa  [release[6], ship_in[2]]\n",
      "aaaa  [release[7], ship_in[3]]\n",
      "aaaa  [operate[34], ship_out[0]]\n",
      "aaaa  [operate[35], ship_out[1]]\n",
      "aaaa  [operate[36], ship_out[2]]\n",
      "aaaa  [operate[37], ship_out[3]]\n",
      "aaaa  [operate[34], ship_in[0]]\n",
      "aaaa  [operate[35], ship_in[1]]\n",
      "aaaa  [operate[36], ship_in[2]]\n",
      "aaaa  [operate[37], ship_in[3]]\n",
      "--- General Resource Balance for power in (sd, q): adding ship_out from grid\n",
      "aaaa  [release[4], ship_in[0], ship_out[4]]\n",
      "aaaa  [release[5], ship_in[1], ship_out[5]]\n",
      "aaaa  [release[6], ship_in[2], ship_out[6]]\n",
      "aaaa  [release[7], ship_in[3], ship_out[7]]\n",
      "--- General Resource Balance for power in (ho, q): adding ship_in from grid\n",
      "aaaa  [release[0], ship_out[0], ship_in[4]]\n",
      "aaaa  [release[1], ship_out[1], ship_in[5]]\n",
      "aaaa  [release[2], ship_out[2], ship_in[6]]\n",
      "aaaa  [release[3], ship_out[3], ship_in[7]]\n",
      "aaaa  [operate[43], ship_out[4]]\n",
      "aaaa  [operate[43], ship_out[5]]\n",
      "aaaa  [operate[43], ship_out[6]]\n",
      "aaaa  [operate[43], ship_out[7]]\n",
      "aaaa  [operate[43], ship_in[4]]\n",
      "aaaa  [operate[43], ship_in[5]]\n",
      "aaaa  [operate[43], ship_in[6]]\n",
      "aaaa  [operate[43], ship_in[7]]\n",
      "--- General Resource Balance for power in (ny, q): adding ship_in from grid\n",
      "aaaa  [release[8], ship_in[8]]\n",
      "aaaa  [release[9], ship_in[9]]\n",
      "aaaa  [release[10], ship_in[10]]\n",
      "aaaa  [release[11], ship_in[11]]\n",
      "aaaa  [operate[38], ship_out[0]]\n",
      "aaaa  [operate[39], ship_out[1]]\n",
      "aaaa  [operate[40], ship_out[2]]\n",
      "aaaa  [operate[41], ship_out[3]]\n",
      "aaaa  [operate[38], ship_in[8]]\n",
      "aaaa  [operate[39], ship_in[9]]\n",
      "aaaa  [operate[40], ship_in[10]]\n",
      "aaaa  [operate[41], ship_in[11]]\n",
      "--- General Resource Balance for power in (ny, q): adding ship_out from grid\n",
      "aaaa  [release[8], ship_in[8], ship_out[8]]\n",
      "aaaa  [release[9], ship_in[9], ship_out[9]]\n",
      "aaaa  [release[10], ship_in[10], ship_out[10]]\n",
      "aaaa  [release[11], ship_in[11], ship_out[11]]\n",
      "aaaa  [operate[45], ship_out[8]]\n",
      "aaaa  [operate[45], ship_out[9]]\n",
      "aaaa  [operate[45], ship_out[10]]\n",
      "aaaa  [operate[45], ship_out[11]]\n",
      "aaaa  [operate[45], ship_in[4]]\n",
      "aaaa  [operate[45], ship_in[5]]\n",
      "aaaa  [operate[45], ship_in[6]]\n",
      "aaaa  [operate[45], ship_in[7]]\n"
     ]
    }
   ],
   "source": [
    "m.grid.locate(m.ho-m.sd, m.road)"
   ]
  },
  {
   "cell_type": "code",
   "execution_count": 17,
   "id": "b9709769",
   "metadata": {},
   "outputs": [
    {
     "data": {
      "text/markdown": [
       "# Mathematical Program for example4"
      ],
      "text/plain": [
       "<IPython.core.display.Markdown object>"
      ]
     },
     "metadata": {},
     "output_type": "display_data"
    },
    {
     "name": "stdout",
     "output_type": "stream",
     "text": [
      "\n"
     ]
    },
    {
     "data": {
      "text/markdown": [
       "## Index Sets"
      ],
      "text/plain": [
       "<IPython.core.display.Markdown object>"
      ]
     },
     "metadata": {},
     "output_type": "display_data"
    },
    {
     "data": {
      "text/latex": [
       "$\\displaystyle spaces = \\{ ho, sd, ny, ntw, ho-sd, sd-ho, road, -road \\}$"
      ],
      "text/plain": [
       "<IPython.core.display.Math object>"
      ]
     },
     "metadata": {},
     "output_type": "display_data"
    },
    {
     "data": {
      "text/latex": [
       "$\\displaystyle resources = \\{ usd, power, wind, solar, power.lii, cement \\}$"
      ],
      "text/plain": [
       "<IPython.core.display.Math object>"
      ]
     },
     "metadata": {},
     "output_type": "display_data"
    },
    {
     "data": {
      "text/latex": [
       "$\\displaystyle processes = \\{ wf, pv, lii.charge, lii.discharge \\}$"
      ],
      "text/plain": [
       "<IPython.core.display.Math object>"
      ]
     },
     "metadata": {},
     "output_type": "display_data"
    },
    {
     "data": {
      "text/latex": [
       "$\\displaystyle storages = \\{ lii \\}$"
      ],
      "text/plain": [
       "<IPython.core.display.Math object>"
      ]
     },
     "metadata": {},
     "output_type": "display_data"
    },
    {
     "data": {
      "text/latex": [
       "$\\displaystyle transits = \\{ grid \\}$"
      ],
      "text/plain": [
       "<IPython.core.display.Math object>"
      ]
     },
     "metadata": {},
     "output_type": "display_data"
    },
    {
     "data": {
      "text/latex": [
       "$\\displaystyle y = \\{ y[0] \\}$"
      ],
      "text/plain": [
       "<IPython.core.display.Math object>"
      ]
     },
     "metadata": {},
     "output_type": "display_data"
    },
    {
     "data": {
      "text/latex": [
       "$\\displaystyle q = \\{ q[0], q[1], q[2], q[3] \\}$"
      ],
      "text/plain": [
       "<IPython.core.display.Math object>"
      ]
     },
     "metadata": {},
     "output_type": "display_data"
    },
    {
     "name": "stdout",
     "output_type": "stream",
     "text": [
      "\n"
     ]
    },
    {
     "data": {
      "text/markdown": [
       "## s.t."
      ],
      "text/plain": [
       "<IPython.core.display.Markdown object>"
      ]
     },
     "metadata": {},
     "output_type": "display_data"
    },
    {
     "data": {
      "text/markdown": [
       "### Bound Constraint Sets"
      ],
      "text/plain": [
       "<IPython.core.display.Markdown object>"
      ]
     },
     "metadata": {},
     "output_type": "display_data"
    },
    {
     "data": {
      "text/latex": [
       "$\\displaystyle [1]\\text{   }{{{cons}}}_{solar, ntw, y} - 1200 \\leq 0$"
      ],
      "text/plain": [
       "<IPython.core.display.Math object>"
      ]
     },
     "metadata": {},
     "output_type": "display_data"
    },
    {
     "data": {
      "text/latex": [
       "$\\displaystyle [3]\\text{   }{{{{cons}}}}_{wind, ntw, y} - 1200 \\leq 0$"
      ],
      "text/plain": [
       "<IPython.core.display.Math object>"
      ]
     },
     "metadata": {},
     "output_type": "display_data"
    },
    {
     "data": {
      "text/latex": [
       "$\\displaystyle [5]\\text{   }-{{{rlse}}}_{power, ho, q} + {φ}_{} \\leq 0$"
      ],
      "text/plain": [
       "<IPython.core.display.Math object>"
      ]
     },
     "metadata": {},
     "output_type": "display_data"
    },
    {
     "data": {
      "text/latex": [
       "$\\displaystyle [7]\\text{   }-{{{{rlse}}}}_{power, sd, q} + {φ}_{} \\leq 0$"
      ],
      "text/plain": [
       "<IPython.core.display.Math object>"
      ]
     },
     "metadata": {},
     "output_type": "display_data"
    },
    {
     "data": {
      "text/latex": [
       "$\\displaystyle [9]\\text{   }-{{{{rlse}}}}_{power, ny, q} + {φ}_{} \\leq 0$"
      ],
      "text/plain": [
       "<IPython.core.display.Math object>"
      ]
     },
     "metadata": {},
     "output_type": "display_data"
    },
    {
     "data": {
      "text/latex": [
       "$\\displaystyle [10]\\text{   }10 \\cdot {{{\\breve{{cap}^{P}}}}}_{wf, sd, y} - {{{cap}^{P}}}_{wf, sd, y} \\leq 0$"
      ],
      "text/plain": [
       "<IPython.core.display.Math object>"
      ]
     },
     "metadata": {},
     "output_type": "display_data"
    },
    {
     "data": {
      "text/latex": [
       "$\\displaystyle [11]\\text{   }7 \\cdot {{{{\\breve{{cap}^{P}}}}}}_{wf, ho, y} - {{{{cap}^{P}}}}_{wf, ho, y} \\leq 0$"
      ],
      "text/plain": [
       "<IPython.core.display.Math object>"
      ]
     },
     "metadata": {},
     "output_type": "display_data"
    },
    {
     "data": {
      "text/latex": [
       "$\\displaystyle [12]\\text{   }20 \\cdot {{{{\\breve{{cap}^{P}}}}}}_{wf, ny, y} - {{{{cap}^{P}}}}_{wf, ny, y} \\leq 0$"
      ],
      "text/plain": [
       "<IPython.core.display.Math object>"
      ]
     },
     "metadata": {},
     "output_type": "display_data"
    },
    {
     "data": {
      "text/latex": [
       "$\\displaystyle [13]\\text{   }{{{{cap}^{P}}}}_{wf, sd, y} - 100 \\cdot {{{{\\breve{{cap}^{P}}}}}}_{wf, sd, y} \\leq 0$"
      ],
      "text/plain": [
       "<IPython.core.display.Math object>"
      ]
     },
     "metadata": {},
     "output_type": "display_data"
    },
    {
     "data": {
      "text/latex": [
       "$\\displaystyle [14]\\text{   }{{{{cap}^{P}}}}_{wf, ho, y} - 100 \\cdot {{{{\\breve{{cap}^{P}}}}}}_{wf, ho, y} \\leq 0$"
      ],
      "text/plain": [
       "<IPython.core.display.Math object>"
      ]
     },
     "metadata": {},
     "output_type": "display_data"
    },
    {
     "data": {
      "text/latex": [
       "$\\displaystyle [15]\\text{   }{{{{cap}^{P}}}}_{wf, ny, y} - 100 \\cdot {{{{\\breve{{cap}^{P}}}}}}_{wf, ny, y} \\leq 0$"
      ],
      "text/plain": [
       "<IPython.core.display.Math object>"
      ]
     },
     "metadata": {},
     "output_type": "display_data"
    },
    {
     "data": {
      "text/latex": [
       "$\\displaystyle [16]\\text{   }{{{opr}}}_{wf, ho, q} - {φ}_{} \\cdot {{{{cap}^{P}}}}_{wf, ho, y} \\leq 0$"
      ],
      "text/plain": [
       "<IPython.core.display.Math object>"
      ]
     },
     "metadata": {},
     "output_type": "display_data"
    },
    {
     "data": {
      "text/latex": [
       "$\\displaystyle [17]\\text{   }{{{{opr}}}}_{wf, sd, q} - {φ}_{} \\cdot {{{{cap}^{P}}}}_{wf, sd, y} \\leq 0$"
      ],
      "text/plain": [
       "<IPython.core.display.Math object>"
      ]
     },
     "metadata": {},
     "output_type": "display_data"
    },
    {
     "data": {
      "text/latex": [
       "$\\displaystyle [18]\\text{   }{{{{opr}}}}_{wf, ny, q} - {φ}_{} \\cdot {{{{cap}^{P}}}}_{wf, ny, y} \\leq 0$"
      ],
      "text/plain": [
       "<IPython.core.display.Math object>"
      ]
     },
     "metadata": {},
     "output_type": "display_data"
    },
    {
     "data": {
      "text/latex": [
       "$\\displaystyle [28]\\text{   }{{{{cap}^{P}}}}_{pv, ntw, y} - 100 \\cdot {{{{\\breve{{cap}^{P}}}}}}_{pv, ntw, y} \\leq 0$"
      ],
      "text/plain": [
       "<IPython.core.display.Math object>"
      ]
     },
     "metadata": {},
     "output_type": "display_data"
    },
    {
     "data": {
      "text/latex": [
       "$\\displaystyle [29]\\text{   }10 \\cdot {{{{\\breve{{cap}^{P}}}}}}_{pv, ntw, y} - {{{{cap}^{P}}}}_{pv, ntw, y} \\leq 0$"
      ],
      "text/plain": [
       "<IPython.core.display.Math object>"
      ]
     },
     "metadata": {},
     "output_type": "display_data"
    },
    {
     "data": {
      "text/latex": [
       "$\\displaystyle [31]\\text{   }{{{{opr}}}}_{pv, sd, q} - {φ}_{} \\cdot {{{{cap}^{P}}}}_{pv, sd, y} \\leq 0$"
      ],
      "text/plain": [
       "<IPython.core.display.Math object>"
      ]
     },
     "metadata": {},
     "output_type": "display_data"
    },
    {
     "data": {
      "text/latex": [
       "$\\displaystyle [32]\\text{   }{{{{opr}}}}_{pv, ho, q} - {φ}_{} \\cdot {{{{cap}^{P}}}}_{pv, ho, y} \\leq 0$"
      ],
      "text/plain": [
       "<IPython.core.display.Math object>"
      ]
     },
     "metadata": {},
     "output_type": "display_data"
    },
    {
     "data": {
      "text/latex": [
       "$\\displaystyle [33]\\text{   }{{{{opr}}}}_{pv, ny, q} - {φ}_{} \\cdot {{{{cap}^{P}}}}_{pv, ny, y} \\leq 0$"
      ],
      "text/plain": [
       "<IPython.core.display.Math object>"
      ]
     },
     "metadata": {},
     "output_type": "display_data"
    },
    {
     "data": {
      "text/latex": [
       "$\\displaystyle [42]\\text{   }{{{cap}^{S}}}_{power.lii, ntw, y} - 100 \\cdot {{{\\breve{{cap}^{S}}}}}_{power.lii, ntw, y} \\leq 0$"
      ],
      "text/plain": [
       "<IPython.core.display.Math object>"
      ]
     },
     "metadata": {},
     "output_type": "display_data"
    },
    {
     "data": {
      "text/latex": [
       "$\\displaystyle [43]\\text{   }10 \\cdot {{{\\breve{{cap}^{S}}}}}_{power.lii, ntw, y} - {{{cap}^{S}}}_{power.lii, ntw, y} \\leq 0$"
      ],
      "text/plain": [
       "<IPython.core.display.Math object>"
      ]
     },
     "metadata": {},
     "output_type": "display_data"
    },
    {
     "data": {
      "text/latex": [
       "$\\displaystyle [48]\\text{   }{{{{cap}^{P}}}}_{lii.charge, ntw, y} - 100 \\leq 0$"
      ],
      "text/plain": [
       "<IPython.core.display.Math object>"
      ]
     },
     "metadata": {},
     "output_type": "display_data"
    },
    {
     "data": {
      "text/latex": [
       "$\\displaystyle [49]\\text{   }{{{{opr}}}}_{lii.charge, ntw, y} - {{{{cap}^{P}}}}_{lii.charge, ntw, y} \\leq 0$"
      ],
      "text/plain": [
       "<IPython.core.display.Math object>"
      ]
     },
     "metadata": {},
     "output_type": "display_data"
    },
    {
     "data": {
      "text/latex": [
       "$\\displaystyle [50]\\text{   }{{{{cap}^{P}}}}_{lii.discharge, ntw, y} - 100 \\leq 0$"
      ],
      "text/plain": [
       "<IPython.core.display.Math object>"
      ]
     },
     "metadata": {},
     "output_type": "display_data"
    },
    {
     "data": {
      "text/latex": [
       "$\\displaystyle [51]\\text{   }{{{{opr}}}}_{lii.discharge, ntw, y} - {{{{cap}^{P}}}}_{lii.discharge, ntw, y} \\leq 0$"
      ],
      "text/plain": [
       "<IPython.core.display.Math object>"
      ]
     },
     "metadata": {},
     "output_type": "display_data"
    },
    {
     "data": {
      "text/latex": [
       "$\\displaystyle [57]\\text{   }{{{{cons}}}}_{cement, ntw, y} - 1000000 \\leq 0$"
      ],
      "text/plain": [
       "<IPython.core.display.Math object>"
      ]
     },
     "metadata": {},
     "output_type": "display_data"
    },
    {
     "data": {
      "text/latex": [
       "$\\displaystyle [64]\\text{   }{{{{cap}^{P}}}}_{grid, ho-sd, y} - 100 \\cdot {{{{\\breve{{cap}^{P}}}}}}_{grid, ho-sd, y} \\leq 0$"
      ],
      "text/plain": [
       "<IPython.core.display.Math object>"
      ]
     },
     "metadata": {},
     "output_type": "display_data"
    },
    {
     "data": {
      "text/latex": [
       "$\\displaystyle [65]\\text{   }{{{{cap}^{P}}}}_{grid, road, y} - 100 \\cdot {{{{\\breve{{cap}^{P}}}}}}_{grid, road, y} \\leq 0$"
      ],
      "text/plain": [
       "<IPython.core.display.Math object>"
      ]
     },
     "metadata": {},
     "output_type": "display_data"
    },
    {
     "data": {
      "text/latex": [
       "$\\displaystyle [66]\\text{   }{{{{opr}}}}_{grid, ho-sd, q} - {φ}_{} \\cdot {{{{cap}^{P}}}}_{grid, ho-sd, y} \\leq 0$"
      ],
      "text/plain": [
       "<IPython.core.display.Math object>"
      ]
     },
     "metadata": {},
     "output_type": "display_data"
    },
    {
     "data": {
      "text/latex": [
       "$\\displaystyle [67]\\text{   }{{{{opr}}}}_{grid, road, q} - {φ}_{} \\cdot {{{{cap}^{P}}}}_{grid, road, y} \\leq 0$"
      ],
      "text/plain": [
       "<IPython.core.display.Math object>"
      ]
     },
     "metadata": {},
     "output_type": "display_data"
    },
    {
     "data": {
      "text/markdown": [
       "### Calculation Constraint Sets"
      ],
      "text/plain": [
       "<IPython.core.display.Markdown object>"
      ]
     },
     "metadata": {},
     "output_type": "display_data"
    },
    {
     "data": {
      "text/latex": [
       "$\\displaystyle [19]\\text{   }{{spend}}_{usd, sd, y, {capacity}, wf} - 90000 \\cdot {{{{cap}^{P}}}}_{wf, sd, y} = 0$"
      ],
      "text/plain": [
       "<IPython.core.display.Math object>"
      ]
     },
     "metadata": {},
     "output_type": "display_data"
    },
    {
     "data": {
      "text/latex": [
       "$\\displaystyle [20]\\text{   }{{{spend}}}_{usd, ho, y, {capacity}, wf} - 70000 \\cdot {{{{cap}^{P}}}}_{wf, ho, y} = 0$"
      ],
      "text/plain": [
       "<IPython.core.display.Math object>"
      ]
     },
     "metadata": {},
     "output_type": "display_data"
    },
    {
     "data": {
      "text/latex": [
       "$\\displaystyle [21]\\text{   }{{{spend}}}_{usd, ny, y, {capacity}, wf} - 60000 \\cdot {{{{cap}^{P}}}}_{wf, ny, y} = 0$"
      ],
      "text/plain": [
       "<IPython.core.display.Math object>"
      ]
     },
     "metadata": {},
     "output_type": "display_data"
    },
    {
     "data": {
      "text/latex": [
       "$\\displaystyle [27]\\text{   }{{{spend}}}_{usd, ntw, y, {operate}, wf} - 49 \\cdot {{{{opr}}}}_{wf, ntw, y} = 0$"
      ],
      "text/plain": [
       "<IPython.core.display.Math object>"
      ]
     },
     "metadata": {},
     "output_type": "display_data"
    },
    {
     "data": {
      "text/latex": [
       "$\\displaystyle [35]\\text{   }{{{spend}}}_{usd, ntw, y, {capacity}, pv} - 1439046 \\cdot {{{{cap}^{P}}}}_{pv, ntw, y} = 0$"
      ],
      "text/plain": [
       "<IPython.core.display.Math object>"
      ]
     },
     "metadata": {},
     "output_type": "display_data"
    },
    {
     "data": {
      "text/latex": [
       "$\\displaystyle [41]\\text{   }{{{spend}}}_{usd, ntw, y, {operate}, pv} - 90000 \\cdot {{{{opr}}}}_{pv, ntw, y} = 0$"
      ],
      "text/plain": [
       "<IPython.core.display.Math object>"
      ]
     },
     "metadata": {},
     "output_type": "display_data"
    },
    {
     "data": {
      "text/latex": [
       "$\\displaystyle [45]\\text{   }{{{spend}}}_{usd, ntw, y, {invcapacity}, power.lii} - 1343614 \\cdot {{{cap}^{S}}}_{power.lii, ntw, y} = 0$"
      ],
      "text/plain": [
       "<IPython.core.display.Math object>"
      ]
     },
     "metadata": {},
     "output_type": "display_data"
    },
    {
     "data": {
      "text/latex": [
       "$\\displaystyle [47]\\text{   }{{{spend}}}_{usd, ntw, y, {inventory}, power.lii} - 2000 \\cdot {{{inv}}}_{power.lii, ntw, y} = 0$"
      ],
      "text/plain": [
       "<IPython.core.display.Math object>"
      ]
     },
     "metadata": {},
     "output_type": "display_data"
    },
    {
     "data": {
      "text/latex": [
       "$\\displaystyle [53]\\text{   }{{emit}}_{gwp, ntw, y, {capacity}, wf} - 1000 \\cdot {{{{cap}^{P}}}}_{wf, ntw, y} = 0$"
      ],
      "text/plain": [
       "<IPython.core.display.Math object>"
      ]
     },
     "metadata": {},
     "output_type": "display_data"
    },
    {
     "data": {
      "text/latex": [
       "$\\displaystyle [54]\\text{   }{{{emit}}}_{gwp, ntw, y, {capacity}, pv} - 2000 \\cdot {{{{cap}^{P}}}}_{pv, ntw, y} = 0$"
      ],
      "text/plain": [
       "<IPython.core.display.Math object>"
      ]
     },
     "metadata": {},
     "output_type": "display_data"
    },
    {
     "data": {
      "text/latex": [
       "$\\displaystyle [55]\\text{   }{{{emit}}}_{gwp, ntw, y, {invcapacity}, power.lii} - 3000 \\cdot {{{cap}^{S}}}_{power.lii, ntw, y} = 0$"
      ],
      "text/plain": [
       "<IPython.core.display.Math object>"
      ]
     },
     "metadata": {},
     "output_type": "display_data"
    },
    {
     "data": {
      "text/latex": [
       "$\\displaystyle [59]\\text{   }{{{spend}}}_{usd, ntw, y, {consume}, cement} - 17 \\cdot {{{{cons}}}}_{cement, ntw, y} = 0$"
      ],
      "text/plain": [
       "<IPython.core.display.Math object>"
      ]
     },
     "metadata": {},
     "output_type": "display_data"
    },
    {
     "data": {
      "text/latex": [
       "$\\displaystyle [60]\\text{   }{{{emit}}}_{gwp, ntw, y, {consume}, cement} - 0.9 \\cdot {{{{cons}}}}_{cement, ntw, y} = 0$"
      ],
      "text/plain": [
       "<IPython.core.display.Math object>"
      ]
     },
     "metadata": {},
     "output_type": "display_data"
    },
    {
     "data": {
      "text/latex": [
       "$\\displaystyle [61]\\text{   }{{use}}_{cement, ntw, y, {capacity}, wf} - 400 \\cdot {{{{cap}^{P}}}}_{wf, ntw, y} = 0$"
      ],
      "text/plain": [
       "<IPython.core.display.Math object>"
      ]
     },
     "metadata": {},
     "output_type": "display_data"
    },
    {
     "data": {
      "text/latex": [
       "$\\displaystyle [62]\\text{   }{{{use}}}_{cement, ntw, y, {capacity}, pv} - 560 \\cdot {{{{cap}^{P}}}}_{pv, ntw, y} = 0$"
      ],
      "text/plain": [
       "<IPython.core.display.Math object>"
      ]
     },
     "metadata": {},
     "output_type": "display_data"
    },
    {
     "data": {
      "text/latex": [
       "$\\displaystyle [63]\\text{   }{{{use}}}_{cement, ntw, y, {invcapacity}, power.lii} - 300 \\cdot {{{cap}^{S}}}_{power.lii, ntw, y} = 0$"
      ],
      "text/plain": [
       "<IPython.core.display.Math object>"
      ]
     },
     "metadata": {},
     "output_type": "display_data"
    },
    {
     "data": {
      "text/latex": [
       "$\\displaystyle [69]\\text{   }{{{spend}}}_{usd, ho-sd, y, {operate}, grid} - 2000 \\cdot {{{{opr}}}}_{grid, ho-sd, y} = 0$"
      ],
      "text/plain": [
       "<IPython.core.display.Math object>"
      ]
     },
     "metadata": {},
     "output_type": "display_data"
    },
    {
     "data": {
      "text/latex": [
       "$\\displaystyle [70]\\text{   }{{{spend}}}_{usd, sd-ho, y, {operate}, grid} - 2000 \\cdot {{{{opr}}}}_{grid, sd-ho, y} = 0$"
      ],
      "text/plain": [
       "<IPython.core.display.Math object>"
      ]
     },
     "metadata": {},
     "output_type": "display_data"
    },
    {
     "data": {
      "text/latex": [
       "$\\displaystyle [72]\\text{   }{{{spend}}}_{usd, road, y, {operate}, grid} - 2000 \\cdot {{{{opr}}}}_{grid, road, y} = 0$"
      ],
      "text/plain": [
       "<IPython.core.display.Math object>"
      ]
     },
     "metadata": {},
     "output_type": "display_data"
    },
    {
     "data": {
      "text/latex": [
       "$\\displaystyle [73]\\text{   }{{{spend}}}_{usd, -road, y, {operate}, grid} - 2000 \\cdot {{{{opr}}}}_{grid, -road, y} = 0$"
      ],
      "text/plain": [
       "<IPython.core.display.Math object>"
      ]
     },
     "metadata": {},
     "output_type": "display_data"
    },
    {
     "data": {
      "text/latex": [
       "$\\displaystyle [75]\\text{   }{{{spend}}}_{usd, ntw, y, {capacity}, grid} - 1000 \\cdot {{{{cap}^{P}}}}_{grid, ntw, y} = 0$"
      ],
      "text/plain": [
       "<IPython.core.display.Math object>"
      ]
     },
     "metadata": {},
     "output_type": "display_data"
    },
    {
     "data": {
      "text/markdown": [
       "### Flow Constraint Sets"
      ],
      "text/plain": [
       "<IPython.core.display.Markdown object>"
      ]
     },
     "metadata": {},
     "output_type": "display_data"
    },
    {
     "data": {
      "text/latex": [
       "$\\displaystyle [76]\\text{   }{{{{opr}}}}_{grid, ho-sd, q} - {{{expt}}}_{power, ho, q} = 0$"
      ],
      "text/plain": [
       "<IPython.core.display.Math object>"
      ]
     },
     "metadata": {},
     "output_type": "display_data"
    },
    {
     "data": {
      "text/latex": [
       "$\\displaystyle [77]\\text{   }{{{{opr}}}}_{grid, ho-sd, q} - {{{impt}}}_{power, sd, q} = 0$"
      ],
      "text/plain": [
       "<IPython.core.display.Math object>"
      ]
     },
     "metadata": {},
     "output_type": "display_data"
    },
    {
     "data": {
      "text/latex": [
       "$\\displaystyle [78]\\text{   }{{{{opr}}}}_{grid, sd-ho, y} - {{{{expt}}}}_{power, sd, q} = 0$"
      ],
      "text/plain": [
       "<IPython.core.display.Math object>"
      ]
     },
     "metadata": {},
     "output_type": "display_data"
    },
    {
     "data": {
      "text/latex": [
       "$\\displaystyle [79]\\text{   }{{{{opr}}}}_{grid, sd-ho, y} - {{{{impt}}}}_{power, ho, q} = 0$"
      ],
      "text/plain": [
       "<IPython.core.display.Math object>"
      ]
     },
     "metadata": {},
     "output_type": "display_data"
    },
    {
     "data": {
      "text/latex": [
       "$\\displaystyle [80]\\text{   }{{{{opr}}}}_{grid, road, q} - {{{{expt}}}}_{power, ho, q} = 0$"
      ],
      "text/plain": [
       "<IPython.core.display.Math object>"
      ]
     },
     "metadata": {},
     "output_type": "display_data"
    },
    {
     "data": {
      "text/latex": [
       "$\\displaystyle [81]\\text{   }{{{{opr}}}}_{grid, road, q} - {{{{impt}}}}_{power, ny, q} = 0$"
      ],
      "text/plain": [
       "<IPython.core.display.Math object>"
      ]
     },
     "metadata": {},
     "output_type": "display_data"
    },
    {
     "data": {
      "text/latex": [
       "$\\displaystyle [82]\\text{   }{{{{opr}}}}_{grid, -road, y} - {{{{expt}}}}_{power, ny, q} = 0$"
      ],
      "text/plain": [
       "<IPython.core.display.Math object>"
      ]
     },
     "metadata": {},
     "output_type": "display_data"
    },
    {
     "data": {
      "text/latex": [
       "$\\displaystyle [83]\\text{   }{{{{opr}}}}_{grid, -road, y} - {{{{impt}}}}_{power, ho, q} = 0$"
      ],
      "text/plain": [
       "<IPython.core.display.Math object>"
      ]
     },
     "metadata": {},
     "output_type": "display_data"
    },
    {
     "data": {
      "text/markdown": [
       "### General Resource Balance Constraint Sets"
      ],
      "text/plain": [
       "<IPython.core.display.Markdown object>"
      ]
     },
     "metadata": {},
     "output_type": "display_data"
    },
    {
     "data": {
      "text/latex": [
       "$\\displaystyle [0]\\text{   }{{{cons}}}_{solar, ntw, y} = 0$"
      ],
      "text/plain": [
       "<IPython.core.display.Math object>"
      ]
     },
     "metadata": {},
     "output_type": "display_data"
    },
    {
     "data": {
      "text/latex": [
       "$\\displaystyle [2]\\text{   }{{{{cons}}}}_{wind, ntw, y} = 0$"
      ],
      "text/plain": [
       "<IPython.core.display.Math object>"
      ]
     },
     "metadata": {},
     "output_type": "display_data"
    },
    {
     "data": {
      "text/latex": [
       "$\\displaystyle [4]\\text{   }-{{{rlse}}}_{power, ho, q} - {{{expt}}}_{power, ho, q} + {{{{impt}}}}_{power, ho, q} = 0$"
      ],
      "text/plain": [
       "<IPython.core.display.Math object>"
      ]
     },
     "metadata": {},
     "output_type": "display_data"
    },
    {
     "data": {
      "text/latex": [
       "$\\displaystyle [6]\\text{   }-{{{{rlse}}}}_{power, sd, q} + {{{impt}}}_{power, sd, q} - {{{{expt}}}}_{power, sd, q} = 0$"
      ],
      "text/plain": [
       "<IPython.core.display.Math object>"
      ]
     },
     "metadata": {},
     "output_type": "display_data"
    },
    {
     "data": {
      "text/latex": [
       "$\\displaystyle [8]\\text{   }-{{{{rlse}}}}_{power, ny, q} + {{{{impt}}}}_{power, ny, q} - {{{{expt}}}}_{power, ny, q} = 0$"
      ],
      "text/plain": [
       "<IPython.core.display.Math object>"
      ]
     },
     "metadata": {},
     "output_type": "display_data"
    },
    {
     "data": {
      "text/latex": [
       "$\\displaystyle [56]\\text{   }{{{{cons}}}}_{cement, ntw, y} - {{use}}_{cement, ntw, y, {capacity}, wf} - {{{use}}}_{cement, ntw, y, {capacity}, pv} - {{{use}}}_{cement, ntw, y, {invcapacity}, power.lii} = 0$"
      ],
      "text/plain": [
       "<IPython.core.display.Math object>"
      ]
     },
     "metadata": {},
     "output_type": "display_data"
    },
    {
     "data": {
      "text/markdown": [
       "### Map Constraint Sets"
      ],
      "text/plain": [
       "<IPython.core.display.Markdown object>"
      ]
     },
     "metadata": {},
     "output_type": "display_data"
    },
    {
     "data": {
      "text/latex": [
       "$\\displaystyle [22]\\text{   }{{{spend}}}_{usd, ntw, y, {operate}, wf} - {{{spend}}}_{usd, ho, y, {operate}, wf} - {{{spend}}}_{usd, sd, y, {operate}, wf} - {{{spend}}}_{usd, ny, y, {operate}, wf} = 0$"
      ],
      "text/plain": [
       "<IPython.core.display.Math object>"
      ]
     },
     "metadata": {},
     "output_type": "display_data"
    },
    {
     "data": {
      "text/latex": [
       "$\\displaystyle [23]\\text{   }{{{{opr}}}}_{wf, ho, y} - \\sum_{i \\in q} {{{{opr}}}}_{wf, ho, i} = 0$"
      ],
      "text/plain": [
       "<IPython.core.display.Math object>"
      ]
     },
     "metadata": {},
     "output_type": "display_data"
    },
    {
     "data": {
      "text/latex": [
       "$\\displaystyle [24]\\text{   }{{{{opr}}}}_{wf, ntw, y} - {{{{opr}}}}_{wf, ho, y} - {{{{opr}}}}_{wf, sd, y} - {{{{opr}}}}_{wf, ny, y} = 0$"
      ],
      "text/plain": [
       "<IPython.core.display.Math object>"
      ]
     },
     "metadata": {},
     "output_type": "display_data"
    },
    {
     "data": {
      "text/latex": [
       "$\\displaystyle [25]\\text{   }{{{{opr}}}}_{wf, sd, y} - \\sum_{i \\in q} {{{{opr}}}}_{wf, sd, i} = 0$"
      ],
      "text/plain": [
       "<IPython.core.display.Math object>"
      ]
     },
     "metadata": {},
     "output_type": "display_data"
    },
    {
     "data": {
      "text/latex": [
       "$\\displaystyle [26]\\text{   }{{{{opr}}}}_{wf, ny, y} - \\sum_{i \\in q} {{{{opr}}}}_{wf, ny, i} = 0$"
      ],
      "text/plain": [
       "<IPython.core.display.Math object>"
      ]
     },
     "metadata": {},
     "output_type": "display_data"
    },
    {
     "data": {
      "text/latex": [
       "$\\displaystyle [30]\\text{   }{{{{cap}^{P}}}}_{pv, ntw, y} - {{{{cap}^{P}}}}_{pv, sd, y} - {{{{cap}^{P}}}}_{pv, ho, y} - {{{{cap}^{P}}}}_{pv, ny, y} = 0$"
      ],
      "text/plain": [
       "<IPython.core.display.Math object>"
      ]
     },
     "metadata": {},
     "output_type": "display_data"
    },
    {
     "data": {
      "text/latex": [
       "$\\displaystyle [34]\\text{   }{{{spend}}}_{usd, ntw, y, {capacity}, pv} - {{{spend}}}_{usd, ho, y, {capacity}, pv} - {{{spend}}}_{usd, sd, y, {capacity}, pv} - {{{spend}}}_{usd, ny, y, {capacity}, pv} = 0$"
      ],
      "text/plain": [
       "<IPython.core.display.Math object>"
      ]
     },
     "metadata": {},
     "output_type": "display_data"
    },
    {
     "data": {
      "text/latex": [
       "$\\displaystyle [36]\\text{   }{{{spend}}}_{usd, ntw, y, {operate}, pv} - {{{spend}}}_{usd, ho, y, {operate}, pv} - {{{spend}}}_{usd, sd, y, {operate}, pv} - {{{spend}}}_{usd, ny, y, {operate}, pv} = 0$"
      ],
      "text/plain": [
       "<IPython.core.display.Math object>"
      ]
     },
     "metadata": {},
     "output_type": "display_data"
    },
    {
     "data": {
      "text/latex": [
       "$\\displaystyle [37]\\text{   }{{{{opr}}}}_{pv, ho, y} - \\sum_{i \\in q} {{{{opr}}}}_{pv, ho, i} = 0$"
      ],
      "text/plain": [
       "<IPython.core.display.Math object>"
      ]
     },
     "metadata": {},
     "output_type": "display_data"
    },
    {
     "data": {
      "text/latex": [
       "$\\displaystyle [38]\\text{   }{{{{opr}}}}_{pv, ntw, y} - {{{{opr}}}}_{pv, ho, y} - {{{{opr}}}}_{pv, sd, y} - {{{{opr}}}}_{pv, ny, y} = 0$"
      ],
      "text/plain": [
       "<IPython.core.display.Math object>"
      ]
     },
     "metadata": {},
     "output_type": "display_data"
    },
    {
     "data": {
      "text/latex": [
       "$\\displaystyle [39]\\text{   }{{{{opr}}}}_{pv, sd, y} - \\sum_{i \\in q} {{{{opr}}}}_{pv, sd, i} = 0$"
      ],
      "text/plain": [
       "<IPython.core.display.Math object>"
      ]
     },
     "metadata": {},
     "output_type": "display_data"
    },
    {
     "data": {
      "text/latex": [
       "$\\displaystyle [40]\\text{   }{{{{opr}}}}_{pv, ny, y} - \\sum_{i \\in q} {{{{opr}}}}_{pv, ny, i} = 0$"
      ],
      "text/plain": [
       "<IPython.core.display.Math object>"
      ]
     },
     "metadata": {},
     "output_type": "display_data"
    },
    {
     "data": {
      "text/latex": [
       "$\\displaystyle [44]\\text{   }{{{spend}}}_{usd, ntw, y, {invcapacity}, power.lii} - {{{spend}}}_{usd, ho, y, {invcapacity}, power.lii} - {{{spend}}}_{usd, sd, y, {invcapacity}, power.lii} - {{{spend}}}_{usd, ny, y, {invcapacity}, power.lii} = 0$"
      ],
      "text/plain": [
       "<IPython.core.display.Math object>"
      ]
     },
     "metadata": {},
     "output_type": "display_data"
    },
    {
     "data": {
      "text/latex": [
       "$\\displaystyle [46]\\text{   }{{{spend}}}_{usd, ntw, y, {inventory}, power.lii} - {{{spend}}}_{usd, ho, y, {inventory}, power.lii} - {{{spend}}}_{usd, sd, y, {inventory}, power.lii} - {{{spend}}}_{usd, ny, y, {inventory}, power.lii} = 0$"
      ],
      "text/plain": [
       "<IPython.core.display.Math object>"
      ]
     },
     "metadata": {},
     "output_type": "display_data"
    },
    {
     "data": {
      "text/latex": [
       "$\\displaystyle [52]\\text{   }{{{{cap}^{P}}}}_{wf, ntw, y} - {{{{cap}^{P}}}}_{wf, ho, y} - {{{{cap}^{P}}}}_{wf, sd, y} - {{{{cap}^{P}}}}_{wf, ny, y} = 0$"
      ],
      "text/plain": [
       "<IPython.core.display.Math object>"
      ]
     },
     "metadata": {},
     "output_type": "display_data"
    },
    {
     "data": {
      "text/latex": [
       "$\\displaystyle [58]\\text{   }{{{spend}}}_{usd, ntw, y, {consume}, cement} - {{{spend}}}_{usd, ho, y, {consume}, cement} - {{{spend}}}_{usd, sd, y, {consume}, cement} - {{{spend}}}_{usd, ny, y, {consume}, cement} = 0$"
      ],
      "text/plain": [
       "<IPython.core.display.Math object>"
      ]
     },
     "metadata": {},
     "output_type": "display_data"
    },
    {
     "data": {
      "text/latex": [
       "$\\displaystyle [68]\\text{   }{{{{opr}}}}_{grid, ho-sd, y} - \\sum_{i \\in q} {{{{opr}}}}_{grid, ho-sd, i} = 0$"
      ],
      "text/plain": [
       "<IPython.core.display.Math object>"
      ]
     },
     "metadata": {},
     "output_type": "display_data"
    },
    {
     "data": {
      "text/latex": [
       "$\\displaystyle [71]\\text{   }{{{{opr}}}}_{grid, road, y} - \\sum_{i \\in q} {{{{opr}}}}_{grid, road, i} = 0$"
      ],
      "text/plain": [
       "<IPython.core.display.Math object>"
      ]
     },
     "metadata": {},
     "output_type": "display_data"
    },
    {
     "data": {
      "text/latex": [
       "$\\displaystyle [74]\\text{   }{{{spend}}}_{usd, ntw, y, {capacity}, grid} - {{{spend}}}_{usd, ho, y, {capacity}, grid} - {{{spend}}}_{usd, sd, y, {capacity}, grid} - {{{spend}}}_{usd, ny, y, {capacity}, grid} = 0$"
      ],
      "text/plain": [
       "<IPython.core.display.Math object>"
      ]
     },
     "metadata": {},
     "output_type": "display_data"
    }
   ],
   "source": [
    "m.show()"
   ]
  },
  {
   "cell_type": "code",
   "execution_count": 18,
   "id": "cfcb4dcf",
   "metadata": {},
   "outputs": [
    {
     "name": "stdout",
     "output_type": "stream",
     "text": [
      "--- General Resource Balance for power in (ho, q): adding produce\n",
      "aaaa  [release[0], ship_out[0], ship_in[4], produce[0]]\n",
      "aaaa  [release[1], ship_out[1], ship_in[5], produce[1]]\n",
      "aaaa  [release[2], ship_out[2], ship_in[6], produce[2]]\n",
      "aaaa  [release[3], ship_out[3], ship_in[7], produce[3]]\n",
      "aaaa  [operate[20]]\n",
      "aaaa  [operate[21]]\n",
      "aaaa  [operate[22]]\n",
      "aaaa  [operate[23]]\n",
      "aaaa  [operate[29]]\n",
      "--- General Resource Balance for power in (ho, q): adding produce\n",
      "aaaa  [release[0], ship_out[0], ship_in[4], produce[0], produce[4]]\n",
      "aaaa  [release[1], ship_out[1], ship_in[5], produce[1], produce[5]]\n",
      "aaaa  [release[2], ship_out[2], ship_in[6], produce[2], produce[6]]\n",
      "aaaa  [release[3], ship_out[3], ship_in[7], produce[3], produce[7]]\n",
      "aaaa  [operate[0]]\n",
      "aaaa  [operate[1]]\n",
      "aaaa  [operate[2]]\n",
      "aaaa  [operate[3]]\n",
      "aaaa  [operate[13]]\n",
      "--- Assuming  power.lii inventory capacity is unbounded in (ho, y)\n",
      "--- Creating map to (power.lii, ntw, y). Mapping invcapacity: from (power.lii, ho, y) to (power.lii, ntw, y)\n",
      "aaaa  [invcapacity[1]]\n",
      "--- Assuming inventory of power.lii is bound by inventory capacity in (ho, q)\n",
      "--- Creating map to (power.lii, ntw, q). Mapping inventory: from (power.lii, ho, q) to (power.lii, ntw, q)\n",
      "--- Creating map to (power.lii, ntw, y). Mapping inventory: from (power.lii, ntw, q) to (power.lii, ntw, y)\n",
      "aaaa  [inventory[5], inventory[6]]\n",
      "aaaa  [inventory[5], inventory[6], inventory[7]]\n",
      "aaaa  [inventory[5], inventory[6], inventory[7], inventory[8]]\n",
      "--- Creating map to (power.lii, ntw, q). Mapping inventory: from (power.lii, ho, q) to (power.lii, ntw, q)\n",
      "aaaa  [inventory[1]]\n",
      "aaaa  [inventory[2]]\n",
      "aaaa  [inventory[3]]\n",
      "aaaa  [inventory[4]]\n",
      "--- General Resource Balance for power.lii in (ntw, q): initializing constraint, adding inventory\n",
      "aaaa  [inventory[5]]\n",
      "aaaa  [inventory[6]]\n",
      "aaaa  [inventory[7]]\n",
      "aaaa  [inventory[8]]\n",
      "aaaa  [inventory[6], inventory[5]]\n",
      "aaaa  [inventory[7], inventory[6]]\n",
      "aaaa  [inventory[8], inventory[7]]\n",
      "aaaa  [inventory[1]]\n",
      "aaaa  [inventory[2]]\n",
      "aaaa  [inventory[3]]\n",
      "aaaa  [inventory[4]]\n",
      "--- General Resource Balance for power.lii in (ho, q): initializing constraint, adding inventory\n",
      "aaaa  [inventory[1]]\n",
      "aaaa  [inventory[2]]\n",
      "aaaa  [inventory[3]]\n",
      "aaaa  [inventory[4]]\n",
      "aaaa  [inventory[2], inventory[1]]\n",
      "aaaa  [inventory[3], inventory[2]]\n",
      "aaaa  [inventory[4], inventory[3]]\n",
      "aaaa  [inventory[1], invcapacity[1]]\n",
      "aaaa  [inventory[2], invcapacity[1]]\n",
      "aaaa  [inventory[3], invcapacity[1]]\n",
      "aaaa  [inventory[4], invcapacity[1]]\n",
      "--- Assuming  lii.charge capacity is unbounded in (ho, y)\n",
      "--- Creating map to (lii.charge, ntw, y). Mapping capacity: from (lii.charge, ho, y) to (lii.charge, ntw, y)\n",
      "aaaa  [capacity[15]]\n",
      "--- Assuming operation of lii.charge is bound by capacity in (ho, y)\n",
      "--- Creating map to (lii.charge, ntw, y). Mapping operate: from (lii.charge, ho, y) to (lii.charge, ntw, y)\n",
      "aaaa  [operate[46]]\n",
      "aaaa  [operate[46], capacity[15]]\n",
      "--- General Resource Balance for power.lii in (ho, q): adding produce\n",
      "aaaa  [inventory[1], produce[8]]\n",
      "aaaa  [inventory[2], inventory[1], produce[9]]\n",
      "aaaa  [inventory[3], inventory[2], produce[10]]\n",
      "aaaa  [inventory[4], inventory[3], produce[11]]\n",
      "--- Creating map to (lii.charge, ho, y). Mapping operate: from (lii.charge, ho, q) to (lii.charge, ho, y)\n",
      "aaaa  [operate[47], operate[48]]\n",
      "aaaa  [operate[47], operate[48], operate[49]]\n",
      "aaaa  [operate[47], operate[48], operate[49], operate[50]]\n",
      "--- Creating map to (lii.charge, ntw, q). Mapping operate: from (lii.charge, ho, q) to (lii.charge, ntw, q)\n",
      "--- Creating map to (lii.charge, ntw, y). Mapping operate: from (lii.charge, ntw, q) to (lii.charge, ntw, y)\n",
      "aaaa  [operate[51], operate[52]]\n",
      "aaaa  [operate[51], operate[52], operate[53]]\n",
      "aaaa  [operate[51], operate[52], operate[53], operate[54]]\n",
      "--- Creating map to (lii.charge, ntw, q). Mapping operate: from (lii.charge, ho, q) to (lii.charge, ntw, q)\n",
      "aaaa  [operate[47]]\n",
      "aaaa  [operate[48]]\n",
      "aaaa  [operate[49]]\n",
      "aaaa  [operate[50]]\n",
      "aaaa  [operate[47]]\n",
      "aaaa  [operate[48]]\n",
      "aaaa  [operate[49]]\n",
      "aaaa  [operate[50]]\n",
      "aaaa  [operate[47]]\n",
      "aaaa  [operate[48]]\n",
      "aaaa  [operate[49]]\n",
      "aaaa  [operate[50]]\n",
      "--- General Resource Balance for power in (ho, q): adding expend\n",
      "aaaa  [release[0], ship_out[0], ship_in[4], produce[0], produce[4], expend[2]]\n",
      "aaaa  [release[1], ship_out[1], ship_in[5], produce[1], produce[5], expend[3]]\n",
      "aaaa  [release[2], ship_out[2], ship_in[6], produce[2], produce[6], expend[4]]\n",
      "aaaa  [release[3], ship_out[3], ship_in[7], produce[3], produce[7], expend[5]]\n",
      "aaaa  [operate[47]]\n",
      "aaaa  [operate[48]]\n",
      "aaaa  [operate[49]]\n",
      "aaaa  [operate[50]]\n",
      "--- Assuming  lii.discharge capacity is unbounded in (ho, y)\n",
      "--- Creating map to (lii.discharge, ntw, y). Mapping capacity: from (lii.discharge, ho, y) to (lii.discharge, ntw, y)\n",
      "aaaa  [capacity[16]]\n",
      "--- Assuming operation of lii.discharge is bound by capacity in (ho, y)\n",
      "--- Creating map to (lii.discharge, ntw, y). Mapping operate: from (lii.discharge, ho, y) to (lii.discharge, ntw, y)\n",
      "aaaa  [operate[55]]\n",
      "aaaa  [operate[55], capacity[16]]\n",
      "--- General Resource Balance for power in (ho, q): adding produce\n",
      "aaaa  [release[0], ship_out[0], ship_in[4], produce[0], produce[4], expend[2], produce[12]]\n",
      "aaaa  [release[1], ship_out[1], ship_in[5], produce[1], produce[5], expend[3], produce[13]]\n",
      "aaaa  [release[2], ship_out[2], ship_in[6], produce[2], produce[6], expend[4], produce[14]]\n",
      "aaaa  [release[3], ship_out[3], ship_in[7], produce[3], produce[7], expend[5], produce[15]]\n",
      "--- Creating map to (lii.discharge, ho, y). Mapping operate: from (lii.discharge, ho, q) to (lii.discharge, ho, y)\n",
      "aaaa  [operate[56], operate[57]]\n",
      "aaaa  [operate[56], operate[57], operate[58]]\n",
      "aaaa  [operate[56], operate[57], operate[58], operate[59]]\n",
      "--- Creating map to (lii.discharge, ntw, q). Mapping operate: from (lii.discharge, ho, q) to (lii.discharge, ntw, q)\n",
      "--- Creating map to (lii.discharge, ntw, y). Mapping operate: from (lii.discharge, ntw, q) to (lii.discharge, ntw, y)\n",
      "aaaa  [operate[60], operate[61]]\n",
      "aaaa  [operate[60], operate[61], operate[62]]\n",
      "aaaa  [operate[60], operate[61], operate[62], operate[63]]\n",
      "--- Creating map to (lii.discharge, ntw, q). Mapping operate: from (lii.discharge, ho, q) to (lii.discharge, ntw, q)\n",
      "aaaa  [operate[56]]\n",
      "aaaa  [operate[57]]\n",
      "aaaa  [operate[58]]\n",
      "aaaa  [operate[59]]\n",
      "aaaa  [operate[56]]\n",
      "aaaa  [operate[57]]\n",
      "aaaa  [operate[58]]\n",
      "aaaa  [operate[59]]\n",
      "aaaa  [operate[56]]\n",
      "aaaa  [operate[57]]\n",
      "aaaa  [operate[58]]\n",
      "aaaa  [operate[59]]\n",
      "--- General Resource Balance for power.lii in (ho, q): adding expend\n",
      "aaaa  [inventory[1], produce[8], expend[6]]\n",
      "aaaa  [inventory[2], inventory[1], produce[9], expend[7]]\n",
      "aaaa  [inventory[3], inventory[2], produce[10], expend[8]]\n",
      "aaaa  [inventory[4], inventory[3], produce[11], expend[9]]\n",
      "aaaa  [operate[56]]\n",
      "aaaa  [operate[57]]\n",
      "aaaa  [operate[58]]\n",
      "aaaa  [operate[59]]\n",
      "--- General Resource Balance for power in (sd, q): adding produce\n",
      "aaaa  [release[4], ship_in[0], ship_out[4], produce[16]]\n",
      "aaaa  [release[5], ship_in[1], ship_out[5], produce[17]]\n",
      "aaaa  [release[6], ship_in[2], ship_out[6], produce[18]]\n",
      "aaaa  [release[7], ship_in[3], ship_out[7], produce[19]]\n",
      "aaaa  [operate[16]]\n",
      "aaaa  [operate[17]]\n",
      "aaaa  [operate[18]]\n",
      "aaaa  [operate[19]]\n",
      "aaaa  [operate[30]]\n",
      "--- General Resource Balance for power in (sd, q): adding produce\n",
      "aaaa  [release[4], ship_in[0], ship_out[4], produce[16], produce[20]]\n",
      "aaaa  [release[5], ship_in[1], ship_out[5], produce[17], produce[21]]\n",
      "aaaa  [release[6], ship_in[2], ship_out[6], produce[18], produce[22]]\n",
      "aaaa  [release[7], ship_in[3], ship_out[7], produce[19], produce[23]]\n",
      "aaaa  [operate[4]]\n",
      "aaaa  [operate[5]]\n",
      "aaaa  [operate[6]]\n",
      "aaaa  [operate[7]]\n",
      "aaaa  [operate[14]]\n",
      "--- Assuming  power.lii inventory capacity is unbounded in (sd, y)\n",
      "--- Mapping invcapacity: from (power.lii, sd, y) to (power.lii, ntw, y)\n",
      "aaaa  [invcapacity[0], invcapacity[1], invcapacity[2]]\n",
      "--- Assuming inventory of power.lii is bound by inventory capacity in (sd, q)\n",
      "--- Mapping inventory: from (power.lii, sd, q) to (power.lii, ntw, q)\n",
      "aaaa  [inventory[5], inventory[1], inventory[9]]\n",
      "aaaa  [inventory[6], inventory[2], inventory[10]]\n",
      "aaaa  [inventory[7], inventory[3], inventory[11]]\n",
      "aaaa  [inventory[8], inventory[4], inventory[12]]\n",
      "--- General Resource Balance for power.lii in (sd, q): initializing constraint, adding inventory\n",
      "aaaa  [inventory[9]]\n",
      "aaaa  [inventory[10]]\n",
      "aaaa  [inventory[11]]\n",
      "aaaa  [inventory[12]]\n",
      "aaaa  [inventory[10], inventory[9]]\n",
      "aaaa  [inventory[11], inventory[10]]\n",
      "aaaa  [inventory[12], inventory[11]]\n",
      "aaaa  [inventory[9], invcapacity[2]]\n",
      "aaaa  [inventory[10], invcapacity[2]]\n",
      "aaaa  [inventory[11], invcapacity[2]]\n",
      "aaaa  [inventory[12], invcapacity[2]]\n",
      "--- Assuming  lii.charge capacity is unbounded in (sd, y)\n",
      "--- Mapping capacity: from (lii.charge, sd, y) to (lii.charge, ntw, y)\n",
      "aaaa  [capacity[7], capacity[15], capacity[17]]\n",
      "--- Assuming operation of lii.charge is bound by capacity in (sd, y)\n",
      "--- Mapping operate: from (lii.charge, sd, y) to (lii.charge, ntw, y)\n",
      "aaaa  [operate[32], operate[46], operate[64]]\n",
      "aaaa  [operate[64], capacity[17]]\n",
      "--- General Resource Balance for power.lii in (sd, q): adding produce\n",
      "aaaa  [inventory[9], produce[24]]\n",
      "aaaa  [inventory[10], inventory[9], produce[25]]\n",
      "aaaa  [inventory[11], inventory[10], produce[26]]\n",
      "aaaa  [inventory[12], inventory[11], produce[27]]\n",
      "--- Creating map to (lii.charge, sd, y). Mapping operate: from (lii.charge, sd, q) to (lii.charge, sd, y)\n",
      "aaaa  [operate[65], operate[66]]\n",
      "aaaa  [operate[65], operate[66], operate[67]]\n",
      "aaaa  [operate[65], operate[66], operate[67], operate[68]]\n",
      "--- Mapping operate: from (lii.charge, sd, q) to (lii.charge, ntw, q)\n",
      "aaaa  [operate[51], operate[47], operate[65]]\n",
      "aaaa  [operate[52], operate[48], operate[66]]\n",
      "aaaa  [operate[53], operate[49], operate[67]]\n",
      "aaaa  [operate[54], operate[50], operate[68]]\n",
      "aaaa  [operate[65]]\n",
      "aaaa  [operate[66]]\n",
      "aaaa  [operate[67]]\n",
      "aaaa  [operate[68]]\n",
      "--- General Resource Balance for power in (sd, q): adding expend\n",
      "aaaa  [release[4], ship_in[0], ship_out[4], produce[16], produce[20], expend[12]]\n",
      "aaaa  [release[5], ship_in[1], ship_out[5], produce[17], produce[21], expend[13]]\n",
      "aaaa  [release[6], ship_in[2], ship_out[6], produce[18], produce[22], expend[14]]\n",
      "aaaa  [release[7], ship_in[3], ship_out[7], produce[19], produce[23], expend[15]]\n",
      "aaaa  [operate[65]]\n",
      "aaaa  [operate[66]]\n",
      "aaaa  [operate[67]]\n",
      "aaaa  [operate[68]]\n",
      "--- Assuming  lii.discharge capacity is unbounded in (sd, y)\n",
      "--- Mapping capacity: from (lii.discharge, sd, y) to (lii.discharge, ntw, y)\n",
      "aaaa  [capacity[8], capacity[16], capacity[18]]\n",
      "--- Assuming operation of lii.discharge is bound by capacity in (sd, y)\n",
      "--- Mapping operate: from (lii.discharge, sd, y) to (lii.discharge, ntw, y)\n",
      "aaaa  [operate[33], operate[55], operate[69]]\n",
      "aaaa  [operate[69], capacity[18]]\n",
      "--- General Resource Balance for power in (sd, q): adding produce\n",
      "aaaa  [release[4], ship_in[0], ship_out[4], produce[16], produce[20], expend[12], produce[28]]\n",
      "aaaa  [release[5], ship_in[1], ship_out[5], produce[17], produce[21], expend[13], produce[29]]\n",
      "aaaa  [release[6], ship_in[2], ship_out[6], produce[18], produce[22], expend[14], produce[30]]\n",
      "aaaa  [release[7], ship_in[3], ship_out[7], produce[19], produce[23], expend[15], produce[31]]\n",
      "--- Creating map to (lii.discharge, sd, y). Mapping operate: from (lii.discharge, sd, q) to (lii.discharge, sd, y)\n",
      "aaaa  [operate[70], operate[71]]\n",
      "aaaa  [operate[70], operate[71], operate[72]]\n",
      "aaaa  [operate[70], operate[71], operate[72], operate[73]]\n",
      "--- Mapping operate: from (lii.discharge, sd, q) to (lii.discharge, ntw, q)\n",
      "aaaa  [operate[60], operate[56], operate[70]]\n",
      "aaaa  [operate[61], operate[57], operate[71]]\n",
      "aaaa  [operate[62], operate[58], operate[72]]\n",
      "aaaa  [operate[63], operate[59], operate[73]]\n",
      "aaaa  [operate[70]]\n",
      "aaaa  [operate[71]]\n",
      "aaaa  [operate[72]]\n",
      "aaaa  [operate[73]]\n",
      "--- General Resource Balance for power.lii in (sd, q): adding expend\n",
      "aaaa  [inventory[9], produce[24], expend[16]]\n",
      "aaaa  [inventory[10], inventory[9], produce[25], expend[17]]\n",
      "aaaa  [inventory[11], inventory[10], produce[26], expend[18]]\n",
      "aaaa  [inventory[12], inventory[11], produce[27], expend[19]]\n",
      "aaaa  [operate[70]]\n",
      "aaaa  [operate[71]]\n",
      "aaaa  [operate[72]]\n",
      "aaaa  [operate[73]]\n",
      "--- General Resource Balance for power in (ny, q): adding produce\n",
      "aaaa  [release[8], ship_in[8], ship_out[8], produce[32]]\n",
      "aaaa  [release[9], ship_in[9], ship_out[9], produce[33]]\n",
      "aaaa  [release[10], ship_in[10], ship_out[10], produce[34]]\n",
      "aaaa  [release[11], ship_in[11], ship_out[11], produce[35]]\n",
      "aaaa  [operate[24]]\n",
      "aaaa  [operate[25]]\n",
      "aaaa  [operate[26]]\n",
      "aaaa  [operate[27]]\n",
      "aaaa  [operate[31]]\n",
      "--- General Resource Balance for power in (ny, q): adding produce\n",
      "aaaa  [release[8], ship_in[8], ship_out[8], produce[32], produce[36]]\n",
      "aaaa  [release[9], ship_in[9], ship_out[9], produce[33], produce[37]]\n",
      "aaaa  [release[10], ship_in[10], ship_out[10], produce[34], produce[38]]\n",
      "aaaa  [release[11], ship_in[11], ship_out[11], produce[35], produce[39]]\n",
      "aaaa  [operate[8]]\n",
      "aaaa  [operate[9]]\n",
      "aaaa  [operate[10]]\n",
      "aaaa  [operate[11]]\n",
      "aaaa  [operate[15]]\n",
      "--- Assuming  power.lii inventory capacity is unbounded in (ny, y)\n",
      "--- Mapping invcapacity: from (power.lii, ny, y) to (power.lii, ntw, y)\n",
      "aaaa  [invcapacity[0], invcapacity[1], invcapacity[2], invcapacity[3]]\n",
      "--- Assuming inventory of power.lii is bound by inventory capacity in (ny, q)\n",
      "--- Mapping inventory: from (power.lii, ny, q) to (power.lii, ntw, q)\n",
      "aaaa  [inventory[5], inventory[1], inventory[9], inventory[13]]\n",
      "aaaa  [inventory[6], inventory[2], inventory[10], inventory[14]]\n",
      "aaaa  [inventory[7], inventory[3], inventory[11], inventory[15]]\n",
      "aaaa  [inventory[8], inventory[4], inventory[12], inventory[16]]\n",
      "--- General Resource Balance for power.lii in (ny, q): initializing constraint, adding inventory\n",
      "aaaa  [inventory[13]]\n",
      "aaaa  [inventory[14]]\n",
      "aaaa  [inventory[15]]\n",
      "aaaa  [inventory[16]]\n",
      "aaaa  [inventory[14], inventory[13]]\n",
      "aaaa  [inventory[15], inventory[14]]\n",
      "aaaa  [inventory[16], inventory[15]]\n",
      "aaaa  [inventory[13], invcapacity[3]]\n",
      "aaaa  [inventory[14], invcapacity[3]]\n",
      "aaaa  [inventory[15], invcapacity[3]]\n",
      "aaaa  [inventory[16], invcapacity[3]]\n",
      "--- Assuming  lii.charge capacity is unbounded in (ny, y)\n",
      "--- Mapping capacity: from (lii.charge, ny, y) to (lii.charge, ntw, y)\n",
      "aaaa  [capacity[7], capacity[15], capacity[17], capacity[19]]\n",
      "--- Assuming operation of lii.charge is bound by capacity in (ny, y)\n",
      "--- Mapping operate: from (lii.charge, ny, y) to (lii.charge, ntw, y)\n",
      "aaaa  [operate[32], operate[46], operate[64], operate[74]]\n",
      "aaaa  [operate[74], capacity[19]]\n",
      "--- General Resource Balance for power.lii in (ny, q): adding produce\n",
      "aaaa  [inventory[13], produce[40]]\n",
      "aaaa  [inventory[14], inventory[13], produce[41]]\n",
      "aaaa  [inventory[15], inventory[14], produce[42]]\n",
      "aaaa  [inventory[16], inventory[15], produce[43]]\n",
      "--- Creating map to (lii.charge, ny, y). Mapping operate: from (lii.charge, ny, q) to (lii.charge, ny, y)\n",
      "aaaa  [operate[75], operate[76]]\n",
      "aaaa  [operate[75], operate[76], operate[77]]\n",
      "aaaa  [operate[75], operate[76], operate[77], operate[78]]\n",
      "--- Mapping operate: from (lii.charge, ny, q) to (lii.charge, ntw, q)\n",
      "aaaa  [operate[51], operate[47], operate[65], operate[75]]\n",
      "aaaa  [operate[52], operate[48], operate[66], operate[76]]\n",
      "aaaa  [operate[53], operate[49], operate[67], operate[77]]\n",
      "aaaa  [operate[54], operate[50], operate[68], operate[78]]\n",
      "aaaa  [operate[75]]\n",
      "aaaa  [operate[76]]\n",
      "aaaa  [operate[77]]\n",
      "aaaa  [operate[78]]\n",
      "--- General Resource Balance for power in (ny, q): adding expend\n",
      "aaaa  [release[8], ship_in[8], ship_out[8], produce[32], produce[36], expend[22]]\n",
      "aaaa  [release[9], ship_in[9], ship_out[9], produce[33], produce[37], expend[23]]\n",
      "aaaa  [release[10], ship_in[10], ship_out[10], produce[34], produce[38], expend[24]]\n",
      "aaaa  [release[11], ship_in[11], ship_out[11], produce[35], produce[39], expend[25]]\n",
      "aaaa  [operate[75]]\n",
      "aaaa  [operate[76]]\n",
      "aaaa  [operate[77]]\n",
      "aaaa  [operate[78]]\n",
      "--- Assuming  lii.discharge capacity is unbounded in (ny, y)\n",
      "--- Mapping capacity: from (lii.discharge, ny, y) to (lii.discharge, ntw, y)\n",
      "aaaa  [capacity[8], capacity[16], capacity[18], capacity[20]]\n",
      "--- Assuming operation of lii.discharge is bound by capacity in (ny, y)\n",
      "--- Mapping operate: from (lii.discharge, ny, y) to (lii.discharge, ntw, y)\n",
      "aaaa  [operate[33], operate[55], operate[69], operate[79]]\n",
      "aaaa  [operate[79], capacity[20]]\n",
      "--- General Resource Balance for power in (ny, q): adding produce\n",
      "aaaa  [release[8], ship_in[8], ship_out[8], produce[32], produce[36], expend[22], produce[44]]\n",
      "aaaa  [release[9], ship_in[9], ship_out[9], produce[33], produce[37], expend[23], produce[45]]\n",
      "aaaa  [release[10], ship_in[10], ship_out[10], produce[34], produce[38], expend[24], produce[46]]\n",
      "aaaa  [release[11], ship_in[11], ship_out[11], produce[35], produce[39], expend[25], produce[47]]\n",
      "--- Creating map to (lii.discharge, ny, y). Mapping operate: from (lii.discharge, ny, q) to (lii.discharge, ny, y)\n",
      "aaaa  [operate[80], operate[81]]\n",
      "aaaa  [operate[80], operate[81], operate[82]]\n",
      "aaaa  [operate[80], operate[81], operate[82], operate[83]]\n",
      "--- Mapping operate: from (lii.discharge, ny, q) to (lii.discharge, ntw, q)\n",
      "aaaa  [operate[60], operate[56], operate[70], operate[80]]\n",
      "aaaa  [operate[61], operate[57], operate[71], operate[81]]\n",
      "aaaa  [operate[62], operate[58], operate[72], operate[82]]\n",
      "aaaa  [operate[63], operate[59], operate[73], operate[83]]\n",
      "aaaa  [operate[80]]\n",
      "aaaa  [operate[81]]\n",
      "aaaa  [operate[82]]\n",
      "aaaa  [operate[83]]\n",
      "--- General Resource Balance for power.lii in (ny, q): adding expend\n",
      "aaaa  [inventory[13], produce[40], expend[26]]\n",
      "aaaa  [inventory[14], inventory[13], produce[41], expend[27]]\n",
      "aaaa  [inventory[15], inventory[14], produce[42], expend[28]]\n",
      "aaaa  [inventory[16], inventory[15], produce[43], expend[29]]\n",
      "aaaa  [operate[80]]\n",
      "aaaa  [operate[81]]\n",
      "aaaa  [operate[82]]\n",
      "aaaa  [operate[83]]\n"
     ]
    }
   ],
   "source": [
    "m.ho.operations(m.pv, m.wf, m.lii)\n",
    "m.sd.operations(m.pv, m.wf, m.lii)\n",
    "m.ny.operations(m.pv, m.wf, m.lii)"
   ]
  },
  {
   "cell_type": "code",
   "execution_count": 19,
   "id": "a56b9958",
   "metadata": {},
   "outputs": [
    {
     "data": {
      "text/markdown": [
       "# Mathematical Program for example4"
      ],
      "text/plain": [
       "<IPython.core.display.Markdown object>"
      ]
     },
     "metadata": {},
     "output_type": "display_data"
    },
    {
     "name": "stdout",
     "output_type": "stream",
     "text": [
      "\n"
     ]
    },
    {
     "data": {
      "text/markdown": [
       "## Index Sets"
      ],
      "text/plain": [
       "<IPython.core.display.Markdown object>"
      ]
     },
     "metadata": {},
     "output_type": "display_data"
    },
    {
     "data": {
      "text/latex": [
       "$\\displaystyle spaces = \\{ ho, sd, ny, ntw, ho-sd, sd-ho, road, -road \\}$"
      ],
      "text/plain": [
       "<IPython.core.display.Math object>"
      ]
     },
     "metadata": {},
     "output_type": "display_data"
    },
    {
     "data": {
      "text/latex": [
       "$\\displaystyle resources = \\{ usd, power, wind, solar, power.lii, cement \\}$"
      ],
      "text/plain": [
       "<IPython.core.display.Math object>"
      ]
     },
     "metadata": {},
     "output_type": "display_data"
    },
    {
     "data": {
      "text/latex": [
       "$\\displaystyle processes = \\{ wf, pv, lii.charge, lii.discharge \\}$"
      ],
      "text/plain": [
       "<IPython.core.display.Math object>"
      ]
     },
     "metadata": {},
     "output_type": "display_data"
    },
    {
     "data": {
      "text/latex": [
       "$\\displaystyle storages = \\{ lii \\}$"
      ],
      "text/plain": [
       "<IPython.core.display.Math object>"
      ]
     },
     "metadata": {},
     "output_type": "display_data"
    },
    {
     "data": {
      "text/latex": [
       "$\\displaystyle transits = \\{ grid \\}$"
      ],
      "text/plain": [
       "<IPython.core.display.Math object>"
      ]
     },
     "metadata": {},
     "output_type": "display_data"
    },
    {
     "data": {
      "text/latex": [
       "$\\displaystyle y = \\{ y[0] \\}$"
      ],
      "text/plain": [
       "<IPython.core.display.Math object>"
      ]
     },
     "metadata": {},
     "output_type": "display_data"
    },
    {
     "data": {
      "text/latex": [
       "$\\displaystyle q = \\{ q[0], q[1], q[2], q[3] \\}$"
      ],
      "text/plain": [
       "<IPython.core.display.Math object>"
      ]
     },
     "metadata": {},
     "output_type": "display_data"
    },
    {
     "name": "stdout",
     "output_type": "stream",
     "text": [
      "\n"
     ]
    },
    {
     "data": {
      "text/markdown": [
       "## s.t."
      ],
      "text/plain": [
       "<IPython.core.display.Markdown object>"
      ]
     },
     "metadata": {},
     "output_type": "display_data"
    },
    {
     "data": {
      "text/markdown": [
       "### Bound Constraint Sets"
      ],
      "text/plain": [
       "<IPython.core.display.Markdown object>"
      ]
     },
     "metadata": {},
     "output_type": "display_data"
    },
    {
     "data": {
      "text/latex": [
       "$\\displaystyle [1]\\text{   }{{{cons}}}_{solar, ntw, y} - 1200 \\leq 0$"
      ],
      "text/plain": [
       "<IPython.core.display.Math object>"
      ]
     },
     "metadata": {},
     "output_type": "display_data"
    },
    {
     "data": {
      "text/latex": [
       "$\\displaystyle [3]\\text{   }{{{{cons}}}}_{wind, ntw, y} - 1200 \\leq 0$"
      ],
      "text/plain": [
       "<IPython.core.display.Math object>"
      ]
     },
     "metadata": {},
     "output_type": "display_data"
    },
    {
     "data": {
      "text/latex": [
       "$\\displaystyle [5]\\text{   }-{{{rlse}}}_{power, ho, q} + {φ}_{} \\leq 0$"
      ],
      "text/plain": [
       "<IPython.core.display.Math object>"
      ]
     },
     "metadata": {},
     "output_type": "display_data"
    },
    {
     "data": {
      "text/latex": [
       "$\\displaystyle [7]\\text{   }-{{{{rlse}}}}_{power, sd, q} + {φ}_{} \\leq 0$"
      ],
      "text/plain": [
       "<IPython.core.display.Math object>"
      ]
     },
     "metadata": {},
     "output_type": "display_data"
    },
    {
     "data": {
      "text/latex": [
       "$\\displaystyle [9]\\text{   }-{{{{rlse}}}}_{power, ny, q} + {φ}_{} \\leq 0$"
      ],
      "text/plain": [
       "<IPython.core.display.Math object>"
      ]
     },
     "metadata": {},
     "output_type": "display_data"
    },
    {
     "data": {
      "text/latex": [
       "$\\displaystyle [10]\\text{   }10 \\cdot {{{\\breve{{cap}^{P}}}}}_{wf, sd, y} - {{{cap}^{P}}}_{wf, sd, y} \\leq 0$"
      ],
      "text/plain": [
       "<IPython.core.display.Math object>"
      ]
     },
     "metadata": {},
     "output_type": "display_data"
    },
    {
     "data": {
      "text/latex": [
       "$\\displaystyle [11]\\text{   }7 \\cdot {{{{\\breve{{cap}^{P}}}}}}_{wf, ho, y} - {{{{cap}^{P}}}}_{wf, ho, y} \\leq 0$"
      ],
      "text/plain": [
       "<IPython.core.display.Math object>"
      ]
     },
     "metadata": {},
     "output_type": "display_data"
    },
    {
     "data": {
      "text/latex": [
       "$\\displaystyle [12]\\text{   }20 \\cdot {{{{\\breve{{cap}^{P}}}}}}_{wf, ny, y} - {{{{cap}^{P}}}}_{wf, ny, y} \\leq 0$"
      ],
      "text/plain": [
       "<IPython.core.display.Math object>"
      ]
     },
     "metadata": {},
     "output_type": "display_data"
    },
    {
     "data": {
      "text/latex": [
       "$\\displaystyle [13]\\text{   }{{{{cap}^{P}}}}_{wf, sd, y} - 100 \\cdot {{{{\\breve{{cap}^{P}}}}}}_{wf, sd, y} \\leq 0$"
      ],
      "text/plain": [
       "<IPython.core.display.Math object>"
      ]
     },
     "metadata": {},
     "output_type": "display_data"
    },
    {
     "data": {
      "text/latex": [
       "$\\displaystyle [14]\\text{   }{{{{cap}^{P}}}}_{wf, ho, y} - 100 \\cdot {{{{\\breve{{cap}^{P}}}}}}_{wf, ho, y} \\leq 0$"
      ],
      "text/plain": [
       "<IPython.core.display.Math object>"
      ]
     },
     "metadata": {},
     "output_type": "display_data"
    },
    {
     "data": {
      "text/latex": [
       "$\\displaystyle [15]\\text{   }{{{{cap}^{P}}}}_{wf, ny, y} - 100 \\cdot {{{{\\breve{{cap}^{P}}}}}}_{wf, ny, y} \\leq 0$"
      ],
      "text/plain": [
       "<IPython.core.display.Math object>"
      ]
     },
     "metadata": {},
     "output_type": "display_data"
    },
    {
     "data": {
      "text/latex": [
       "$\\displaystyle [16]\\text{   }{{{opr}}}_{wf, ho, q} - {φ}_{} \\cdot {{{{cap}^{P}}}}_{wf, ho, y} \\leq 0$"
      ],
      "text/plain": [
       "<IPython.core.display.Math object>"
      ]
     },
     "metadata": {},
     "output_type": "display_data"
    },
    {
     "data": {
      "text/latex": [
       "$\\displaystyle [17]\\text{   }{{{{opr}}}}_{wf, sd, q} - {φ}_{} \\cdot {{{{cap}^{P}}}}_{wf, sd, y} \\leq 0$"
      ],
      "text/plain": [
       "<IPython.core.display.Math object>"
      ]
     },
     "metadata": {},
     "output_type": "display_data"
    },
    {
     "data": {
      "text/latex": [
       "$\\displaystyle [18]\\text{   }{{{{opr}}}}_{wf, ny, q} - {φ}_{} \\cdot {{{{cap}^{P}}}}_{wf, ny, y} \\leq 0$"
      ],
      "text/plain": [
       "<IPython.core.display.Math object>"
      ]
     },
     "metadata": {},
     "output_type": "display_data"
    },
    {
     "data": {
      "text/latex": [
       "$\\displaystyle [28]\\text{   }{{{{cap}^{P}}}}_{pv, ntw, y} - 100 \\cdot {{{{\\breve{{cap}^{P}}}}}}_{pv, ntw, y} \\leq 0$"
      ],
      "text/plain": [
       "<IPython.core.display.Math object>"
      ]
     },
     "metadata": {},
     "output_type": "display_data"
    },
    {
     "data": {
      "text/latex": [
       "$\\displaystyle [29]\\text{   }10 \\cdot {{{{\\breve{{cap}^{P}}}}}}_{pv, ntw, y} - {{{{cap}^{P}}}}_{pv, ntw, y} \\leq 0$"
      ],
      "text/plain": [
       "<IPython.core.display.Math object>"
      ]
     },
     "metadata": {},
     "output_type": "display_data"
    },
    {
     "data": {
      "text/latex": [
       "$\\displaystyle [31]\\text{   }{{{{opr}}}}_{pv, sd, q} - {φ}_{} \\cdot {{{{cap}^{P}}}}_{pv, sd, y} \\leq 0$"
      ],
      "text/plain": [
       "<IPython.core.display.Math object>"
      ]
     },
     "metadata": {},
     "output_type": "display_data"
    },
    {
     "data": {
      "text/latex": [
       "$\\displaystyle [32]\\text{   }{{{{opr}}}}_{pv, ho, q} - {φ}_{} \\cdot {{{{cap}^{P}}}}_{pv, ho, y} \\leq 0$"
      ],
      "text/plain": [
       "<IPython.core.display.Math object>"
      ]
     },
     "metadata": {},
     "output_type": "display_data"
    },
    {
     "data": {
      "text/latex": [
       "$\\displaystyle [33]\\text{   }{{{{opr}}}}_{pv, ny, q} - {φ}_{} \\cdot {{{{cap}^{P}}}}_{pv, ny, y} \\leq 0$"
      ],
      "text/plain": [
       "<IPython.core.display.Math object>"
      ]
     },
     "metadata": {},
     "output_type": "display_data"
    },
    {
     "data": {
      "text/latex": [
       "$\\displaystyle [42]\\text{   }{{{cap}^{S}}}_{power.lii, ntw, y} - 100 \\cdot {{{\\breve{{cap}^{S}}}}}_{power.lii, ntw, y} \\leq 0$"
      ],
      "text/plain": [
       "<IPython.core.display.Math object>"
      ]
     },
     "metadata": {},
     "output_type": "display_data"
    },
    {
     "data": {
      "text/latex": [
       "$\\displaystyle [43]\\text{   }10 \\cdot {{{\\breve{{cap}^{S}}}}}_{power.lii, ntw, y} - {{{cap}^{S}}}_{power.lii, ntw, y} \\leq 0$"
      ],
      "text/plain": [
       "<IPython.core.display.Math object>"
      ]
     },
     "metadata": {},
     "output_type": "display_data"
    },
    {
     "data": {
      "text/latex": [
       "$\\displaystyle [48]\\text{   }{{{{cap}^{P}}}}_{lii.charge, ntw, y} - 100 \\leq 0$"
      ],
      "text/plain": [
       "<IPython.core.display.Math object>"
      ]
     },
     "metadata": {},
     "output_type": "display_data"
    },
    {
     "data": {
      "text/latex": [
       "$\\displaystyle [49]\\text{   }{{{{opr}}}}_{lii.charge, ntw, y} - {{{{cap}^{P}}}}_{lii.charge, ntw, y} \\leq 0$"
      ],
      "text/plain": [
       "<IPython.core.display.Math object>"
      ]
     },
     "metadata": {},
     "output_type": "display_data"
    },
    {
     "data": {
      "text/latex": [
       "$\\displaystyle [50]\\text{   }{{{{cap}^{P}}}}_{lii.discharge, ntw, y} - 100 \\leq 0$"
      ],
      "text/plain": [
       "<IPython.core.display.Math object>"
      ]
     },
     "metadata": {},
     "output_type": "display_data"
    },
    {
     "data": {
      "text/latex": [
       "$\\displaystyle [51]\\text{   }{{{{opr}}}}_{lii.discharge, ntw, y} - {{{{cap}^{P}}}}_{lii.discharge, ntw, y} \\leq 0$"
      ],
      "text/plain": [
       "<IPython.core.display.Math object>"
      ]
     },
     "metadata": {},
     "output_type": "display_data"
    },
    {
     "data": {
      "text/latex": [
       "$\\displaystyle [57]\\text{   }{{{{cons}}}}_{cement, ntw, y} - 1000000 \\leq 0$"
      ],
      "text/plain": [
       "<IPython.core.display.Math object>"
      ]
     },
     "metadata": {},
     "output_type": "display_data"
    },
    {
     "data": {
      "text/latex": [
       "$\\displaystyle [64]\\text{   }{{{{cap}^{P}}}}_{grid, ho-sd, y} - 100 \\cdot {{{{\\breve{{cap}^{P}}}}}}_{grid, ho-sd, y} \\leq 0$"
      ],
      "text/plain": [
       "<IPython.core.display.Math object>"
      ]
     },
     "metadata": {},
     "output_type": "display_data"
    },
    {
     "data": {
      "text/latex": [
       "$\\displaystyle [65]\\text{   }{{{{cap}^{P}}}}_{grid, road, y} - 100 \\cdot {{{{\\breve{{cap}^{P}}}}}}_{grid, road, y} \\leq 0$"
      ],
      "text/plain": [
       "<IPython.core.display.Math object>"
      ]
     },
     "metadata": {},
     "output_type": "display_data"
    },
    {
     "data": {
      "text/latex": [
       "$\\displaystyle [66]\\text{   }{{{{opr}}}}_{grid, ho-sd, q} - {φ}_{} \\cdot {{{{cap}^{P}}}}_{grid, ho-sd, y} \\leq 0$"
      ],
      "text/plain": [
       "<IPython.core.display.Math object>"
      ]
     },
     "metadata": {},
     "output_type": "display_data"
    },
    {
     "data": {
      "text/latex": [
       "$\\displaystyle [67]\\text{   }{{{{opr}}}}_{grid, road, q} - {φ}_{} \\cdot {{{{cap}^{P}}}}_{grid, road, y} \\leq 0$"
      ],
      "text/plain": [
       "<IPython.core.display.Math object>"
      ]
     },
     "metadata": {},
     "output_type": "display_data"
    },
    {
     "data": {
      "text/latex": [
       "$\\displaystyle [93]\\text{   }{{{{inv}}}}_{power.lii, ho, q} - {{{{cap}^{S}}}}_{power.lii, ho, y} \\leq 0$"
      ],
      "text/plain": [
       "<IPython.core.display.Math object>"
      ]
     },
     "metadata": {},
     "output_type": "display_data"
    },
    {
     "data": {
      "text/latex": [
       "$\\displaystyle [96]\\text{   }{{{{opr}}}}_{lii.charge, ho, y} - {{{{cap}^{P}}}}_{lii.charge, ho, y} \\leq 0$"
      ],
      "text/plain": [
       "<IPython.core.display.Math object>"
      ]
     },
     "metadata": {},
     "output_type": "display_data"
    },
    {
     "data": {
      "text/latex": [
       "$\\displaystyle [104]\\text{   }{{{{opr}}}}_{lii.discharge, ho, y} - {{{{cap}^{P}}}}_{lii.discharge, ho, y} \\leq 0$"
      ],
      "text/plain": [
       "<IPython.core.display.Math object>"
      ]
     },
     "metadata": {},
     "output_type": "display_data"
    },
    {
     "data": {
      "text/latex": [
       "$\\displaystyle [115]\\text{   }{{{{inv}}}}_{power.lii, sd, q} - {{{{cap}^{S}}}}_{power.lii, sd, y} \\leq 0$"
      ],
      "text/plain": [
       "<IPython.core.display.Math object>"
      ]
     },
     "metadata": {},
     "output_type": "display_data"
    },
    {
     "data": {
      "text/latex": [
       "$\\displaystyle [116]\\text{   }{{{{opr}}}}_{lii.charge, sd, y} - {{{{cap}^{P}}}}_{lii.charge, sd, y} \\leq 0$"
      ],
      "text/plain": [
       "<IPython.core.display.Math object>"
      ]
     },
     "metadata": {},
     "output_type": "display_data"
    },
    {
     "data": {
      "text/latex": [
       "$\\displaystyle [120]\\text{   }{{{{opr}}}}_{lii.discharge, sd, y} - {{{{cap}^{P}}}}_{lii.discharge, sd, y} \\leq 0$"
      ],
      "text/plain": [
       "<IPython.core.display.Math object>"
      ]
     },
     "metadata": {},
     "output_type": "display_data"
    },
    {
     "data": {
      "text/latex": [
       "$\\displaystyle [129]\\text{   }{{{{inv}}}}_{power.lii, ny, q} - {{{{cap}^{S}}}}_{power.lii, ny, y} \\leq 0$"
      ],
      "text/plain": [
       "<IPython.core.display.Math object>"
      ]
     },
     "metadata": {},
     "output_type": "display_data"
    },
    {
     "data": {
      "text/latex": [
       "$\\displaystyle [130]\\text{   }{{{{opr}}}}_{lii.charge, ny, y} - {{{{cap}^{P}}}}_{lii.charge, ny, y} \\leq 0$"
      ],
      "text/plain": [
       "<IPython.core.display.Math object>"
      ]
     },
     "metadata": {},
     "output_type": "display_data"
    },
    {
     "data": {
      "text/latex": [
       "$\\displaystyle [134]\\text{   }{{{{opr}}}}_{lii.discharge, ny, y} - {{{{cap}^{P}}}}_{lii.discharge, ny, y} \\leq 0$"
      ],
      "text/plain": [
       "<IPython.core.display.Math object>"
      ]
     },
     "metadata": {},
     "output_type": "display_data"
    },
    {
     "data": {
      "text/markdown": [
       "### Calculation Constraint Sets"
      ],
      "text/plain": [
       "<IPython.core.display.Markdown object>"
      ]
     },
     "metadata": {},
     "output_type": "display_data"
    },
    {
     "data": {
      "text/latex": [
       "$\\displaystyle [19]\\text{   }{{spend}}_{usd, sd, y, {capacity}, wf} - 90000 \\cdot {{{{cap}^{P}}}}_{wf, sd, y} = 0$"
      ],
      "text/plain": [
       "<IPython.core.display.Math object>"
      ]
     },
     "metadata": {},
     "output_type": "display_data"
    },
    {
     "data": {
      "text/latex": [
       "$\\displaystyle [20]\\text{   }{{{spend}}}_{usd, ho, y, {capacity}, wf} - 70000 \\cdot {{{{cap}^{P}}}}_{wf, ho, y} = 0$"
      ],
      "text/plain": [
       "<IPython.core.display.Math object>"
      ]
     },
     "metadata": {},
     "output_type": "display_data"
    },
    {
     "data": {
      "text/latex": [
       "$\\displaystyle [21]\\text{   }{{{spend}}}_{usd, ny, y, {capacity}, wf} - 60000 \\cdot {{{{cap}^{P}}}}_{wf, ny, y} = 0$"
      ],
      "text/plain": [
       "<IPython.core.display.Math object>"
      ]
     },
     "metadata": {},
     "output_type": "display_data"
    },
    {
     "data": {
      "text/latex": [
       "$\\displaystyle [27]\\text{   }{{{spend}}}_{usd, ntw, y, {operate}, wf} - 49 \\cdot {{{{opr}}}}_{wf, ntw, y} = 0$"
      ],
      "text/plain": [
       "<IPython.core.display.Math object>"
      ]
     },
     "metadata": {},
     "output_type": "display_data"
    },
    {
     "data": {
      "text/latex": [
       "$\\displaystyle [35]\\text{   }{{{spend}}}_{usd, ntw, y, {capacity}, pv} - 1439046 \\cdot {{{{cap}^{P}}}}_{pv, ntw, y} = 0$"
      ],
      "text/plain": [
       "<IPython.core.display.Math object>"
      ]
     },
     "metadata": {},
     "output_type": "display_data"
    },
    {
     "data": {
      "text/latex": [
       "$\\displaystyle [41]\\text{   }{{{spend}}}_{usd, ntw, y, {operate}, pv} - 90000 \\cdot {{{{opr}}}}_{pv, ntw, y} = 0$"
      ],
      "text/plain": [
       "<IPython.core.display.Math object>"
      ]
     },
     "metadata": {},
     "output_type": "display_data"
    },
    {
     "data": {
      "text/latex": [
       "$\\displaystyle [45]\\text{   }{{{spend}}}_{usd, ntw, y, {invcapacity}, power.lii} - 1343614 \\cdot {{{cap}^{S}}}_{power.lii, ntw, y} = 0$"
      ],
      "text/plain": [
       "<IPython.core.display.Math object>"
      ]
     },
     "metadata": {},
     "output_type": "display_data"
    },
    {
     "data": {
      "text/latex": [
       "$\\displaystyle [47]\\text{   }{{{spend}}}_{usd, ntw, y, {inventory}, power.lii} - 2000 \\cdot {{{inv}}}_{power.lii, ntw, y} = 0$"
      ],
      "text/plain": [
       "<IPython.core.display.Math object>"
      ]
     },
     "metadata": {},
     "output_type": "display_data"
    },
    {
     "data": {
      "text/latex": [
       "$\\displaystyle [53]\\text{   }{{emit}}_{gwp, ntw, y, {capacity}, wf} - 1000 \\cdot {{{{cap}^{P}}}}_{wf, ntw, y} = 0$"
      ],
      "text/plain": [
       "<IPython.core.display.Math object>"
      ]
     },
     "metadata": {},
     "output_type": "display_data"
    },
    {
     "data": {
      "text/latex": [
       "$\\displaystyle [54]\\text{   }{{{emit}}}_{gwp, ntw, y, {capacity}, pv} - 2000 \\cdot {{{{cap}^{P}}}}_{pv, ntw, y} = 0$"
      ],
      "text/plain": [
       "<IPython.core.display.Math object>"
      ]
     },
     "metadata": {},
     "output_type": "display_data"
    },
    {
     "data": {
      "text/latex": [
       "$\\displaystyle [55]\\text{   }{{{emit}}}_{gwp, ntw, y, {invcapacity}, power.lii} - 3000 \\cdot {{{cap}^{S}}}_{power.lii, ntw, y} = 0$"
      ],
      "text/plain": [
       "<IPython.core.display.Math object>"
      ]
     },
     "metadata": {},
     "output_type": "display_data"
    },
    {
     "data": {
      "text/latex": [
       "$\\displaystyle [59]\\text{   }{{{spend}}}_{usd, ntw, y, {consume}, cement} - 17 \\cdot {{{{cons}}}}_{cement, ntw, y} = 0$"
      ],
      "text/plain": [
       "<IPython.core.display.Math object>"
      ]
     },
     "metadata": {},
     "output_type": "display_data"
    },
    {
     "data": {
      "text/latex": [
       "$\\displaystyle [60]\\text{   }{{{emit}}}_{gwp, ntw, y, {consume}, cement} - 0.9 \\cdot {{{{cons}}}}_{cement, ntw, y} = 0$"
      ],
      "text/plain": [
       "<IPython.core.display.Math object>"
      ]
     },
     "metadata": {},
     "output_type": "display_data"
    },
    {
     "data": {
      "text/latex": [
       "$\\displaystyle [61]\\text{   }{{use}}_{cement, ntw, y, {capacity}, wf} - 400 \\cdot {{{{cap}^{P}}}}_{wf, ntw, y} = 0$"
      ],
      "text/plain": [
       "<IPython.core.display.Math object>"
      ]
     },
     "metadata": {},
     "output_type": "display_data"
    },
    {
     "data": {
      "text/latex": [
       "$\\displaystyle [62]\\text{   }{{{use}}}_{cement, ntw, y, {capacity}, pv} - 560 \\cdot {{{{cap}^{P}}}}_{pv, ntw, y} = 0$"
      ],
      "text/plain": [
       "<IPython.core.display.Math object>"
      ]
     },
     "metadata": {},
     "output_type": "display_data"
    },
    {
     "data": {
      "text/latex": [
       "$\\displaystyle [63]\\text{   }{{{use}}}_{cement, ntw, y, {invcapacity}, power.lii} - 300 \\cdot {{{cap}^{S}}}_{power.lii, ntw, y} = 0$"
      ],
      "text/plain": [
       "<IPython.core.display.Math object>"
      ]
     },
     "metadata": {},
     "output_type": "display_data"
    },
    {
     "data": {
      "text/latex": [
       "$\\displaystyle [69]\\text{   }{{{spend}}}_{usd, ho-sd, y, {operate}, grid} - 2000 \\cdot {{{{opr}}}}_{grid, ho-sd, y} = 0$"
      ],
      "text/plain": [
       "<IPython.core.display.Math object>"
      ]
     },
     "metadata": {},
     "output_type": "display_data"
    },
    {
     "data": {
      "text/latex": [
       "$\\displaystyle [70]\\text{   }{{{spend}}}_{usd, sd-ho, y, {operate}, grid} - 2000 \\cdot {{{{opr}}}}_{grid, sd-ho, y} = 0$"
      ],
      "text/plain": [
       "<IPython.core.display.Math object>"
      ]
     },
     "metadata": {},
     "output_type": "display_data"
    },
    {
     "data": {
      "text/latex": [
       "$\\displaystyle [72]\\text{   }{{{spend}}}_{usd, road, y, {operate}, grid} - 2000 \\cdot {{{{opr}}}}_{grid, road, y} = 0$"
      ],
      "text/plain": [
       "<IPython.core.display.Math object>"
      ]
     },
     "metadata": {},
     "output_type": "display_data"
    },
    {
     "data": {
      "text/latex": [
       "$\\displaystyle [73]\\text{   }{{{spend}}}_{usd, -road, y, {operate}, grid} - 2000 \\cdot {{{{opr}}}}_{grid, -road, y} = 0$"
      ],
      "text/plain": [
       "<IPython.core.display.Math object>"
      ]
     },
     "metadata": {},
     "output_type": "display_data"
    },
    {
     "data": {
      "text/latex": [
       "$\\displaystyle [75]\\text{   }{{{spend}}}_{usd, ntw, y, {capacity}, grid} - 1000 \\cdot {{{{cap}^{P}}}}_{grid, ntw, y} = 0$"
      ],
      "text/plain": [
       "<IPython.core.display.Math object>"
      ]
     },
     "metadata": {},
     "output_type": "display_data"
    },
    {
     "data": {
      "text/markdown": [
       "### Flow Constraint Sets"
      ],
      "text/plain": [
       "<IPython.core.display.Markdown object>"
      ]
     },
     "metadata": {},
     "output_type": "display_data"
    },
    {
     "data": {
      "text/latex": [
       "$\\displaystyle [76]\\text{   }{{{{opr}}}}_{grid, ho-sd, q} - {{{expt}}}_{power, ho, q} = 0$"
      ],
      "text/plain": [
       "<IPython.core.display.Math object>"
      ]
     },
     "metadata": {},
     "output_type": "display_data"
    },
    {
     "data": {
      "text/latex": [
       "$\\displaystyle [77]\\text{   }{{{{opr}}}}_{grid, ho-sd, q} - {{{impt}}}_{power, sd, q} = 0$"
      ],
      "text/plain": [
       "<IPython.core.display.Math object>"
      ]
     },
     "metadata": {},
     "output_type": "display_data"
    },
    {
     "data": {
      "text/latex": [
       "$\\displaystyle [78]\\text{   }{{{{opr}}}}_{grid, sd-ho, y} - {{{{expt}}}}_{power, sd, q} = 0$"
      ],
      "text/plain": [
       "<IPython.core.display.Math object>"
      ]
     },
     "metadata": {},
     "output_type": "display_data"
    },
    {
     "data": {
      "text/latex": [
       "$\\displaystyle [79]\\text{   }{{{{opr}}}}_{grid, sd-ho, y} - {{{{impt}}}}_{power, ho, q} = 0$"
      ],
      "text/plain": [
       "<IPython.core.display.Math object>"
      ]
     },
     "metadata": {},
     "output_type": "display_data"
    },
    {
     "data": {
      "text/latex": [
       "$\\displaystyle [80]\\text{   }{{{{opr}}}}_{grid, road, q} - {{{{expt}}}}_{power, ho, q} = 0$"
      ],
      "text/plain": [
       "<IPython.core.display.Math object>"
      ]
     },
     "metadata": {},
     "output_type": "display_data"
    },
    {
     "data": {
      "text/latex": [
       "$\\displaystyle [81]\\text{   }{{{{opr}}}}_{grid, road, q} - {{{{impt}}}}_{power, ny, q} = 0$"
      ],
      "text/plain": [
       "<IPython.core.display.Math object>"
      ]
     },
     "metadata": {},
     "output_type": "display_data"
    },
    {
     "data": {
      "text/latex": [
       "$\\displaystyle [82]\\text{   }{{{{opr}}}}_{grid, -road, y} - {{{{expt}}}}_{power, ny, q} = 0$"
      ],
      "text/plain": [
       "<IPython.core.display.Math object>"
      ]
     },
     "metadata": {},
     "output_type": "display_data"
    },
    {
     "data": {
      "text/latex": [
       "$\\displaystyle [83]\\text{   }{{{{opr}}}}_{grid, -road, y} - {{{{impt}}}}_{power, ho, q} = 0$"
      ],
      "text/plain": [
       "<IPython.core.display.Math object>"
      ]
     },
     "metadata": {},
     "output_type": "display_data"
    },
    {
     "data": {
      "text/latex": [
       "$\\displaystyle [84]\\text{   }{{{prod}}}_{power, ho, q, {operate}, pv} - {{{{opr}}}}_{pv, ho, q} = 0$"
      ],
      "text/plain": [
       "<IPython.core.display.Math object>"
      ]
     },
     "metadata": {},
     "output_type": "display_data"
    },
    {
     "data": {
      "text/latex": [
       "$\\displaystyle [85]\\text{   }{{{expd}}}_{solar, ho, y, {operate}, pv} - {{{{opr}}}}_{pv, ho, y} = 0$"
      ],
      "text/plain": [
       "<IPython.core.display.Math object>"
      ]
     },
     "metadata": {},
     "output_type": "display_data"
    },
    {
     "data": {
      "text/latex": [
       "$\\displaystyle [86]\\text{   }{{{{prod}}}}_{power, ho, q, {operate}, wf} - {{{{opr}}}}_{wf, ho, q} = 0$"
      ],
      "text/plain": [
       "<IPython.core.display.Math object>"
      ]
     },
     "metadata": {},
     "output_type": "display_data"
    },
    {
     "data": {
      "text/latex": [
       "$\\displaystyle [87]\\text{   }{{{{expd}}}}_{wind, ho, y, {operate}, wf} - {{{{opr}}}}_{wf, ho, y} = 0$"
      ],
      "text/plain": [
       "<IPython.core.display.Math object>"
      ]
     },
     "metadata": {},
     "output_type": "display_data"
    },
    {
     "data": {
      "text/latex": [
       "$\\displaystyle [100]\\text{   }{{{{prod}}}}_{power.lii, ho, q, {operate}, lii.charge} - {{{{opr}}}}_{lii.charge, ho, q} = 0$"
      ],
      "text/plain": [
       "<IPython.core.display.Math object>"
      ]
     },
     "metadata": {},
     "output_type": "display_data"
    },
    {
     "data": {
      "text/latex": [
       "$\\displaystyle [101]\\text{   }{{{{expd}}}}_{power, ho, q, {operate}, lii.charge} - {{{{opr}}}}_{lii.charge, ho, q} = 0$"
      ],
      "text/plain": [
       "<IPython.core.display.Math object>"
      ]
     },
     "metadata": {},
     "output_type": "display_data"
    },
    {
     "data": {
      "text/latex": [
       "$\\displaystyle [108]\\text{   }{{{{prod}}}}_{power, ho, q, {operate}, lii.discharge} - {{{{opr}}}}_{lii.discharge, ho, q} = 0$"
      ],
      "text/plain": [
       "<IPython.core.display.Math object>"
      ]
     },
     "metadata": {},
     "output_type": "display_data"
    },
    {
     "data": {
      "text/latex": [
       "$\\displaystyle [109]\\text{   }{{{{expd}}}}_{power.lii, ho, q, {operate}, lii.discharge} - 1.1111111111111112 \\cdot {{{{opr}}}}_{lii.discharge, ho, q} = 0$"
      ],
      "text/plain": [
       "<IPython.core.display.Math object>"
      ]
     },
     "metadata": {},
     "output_type": "display_data"
    },
    {
     "data": {
      "text/latex": [
       "$\\displaystyle [110]\\text{   }{{{{prod}}}}_{power, sd, q, {operate}, pv} - {{{{opr}}}}_{pv, sd, q} = 0$"
      ],
      "text/plain": [
       "<IPython.core.display.Math object>"
      ]
     },
     "metadata": {},
     "output_type": "display_data"
    },
    {
     "data": {
      "text/latex": [
       "$\\displaystyle [111]\\text{   }{{{{expd}}}}_{solar, sd, y, {operate}, pv} - {{{{opr}}}}_{pv, sd, y} = 0$"
      ],
      "text/plain": [
       "<IPython.core.display.Math object>"
      ]
     },
     "metadata": {},
     "output_type": "display_data"
    },
    {
     "data": {
      "text/latex": [
       "$\\displaystyle [112]\\text{   }{{{{prod}}}}_{power, sd, q, {operate}, wf} - {{{{opr}}}}_{wf, sd, q} = 0$"
      ],
      "text/plain": [
       "<IPython.core.display.Math object>"
      ]
     },
     "metadata": {},
     "output_type": "display_data"
    },
    {
     "data": {
      "text/latex": [
       "$\\displaystyle [113]\\text{   }{{{{expd}}}}_{wind, sd, y, {operate}, wf} - {{{{opr}}}}_{wf, sd, y} = 0$"
      ],
      "text/plain": [
       "<IPython.core.display.Math object>"
      ]
     },
     "metadata": {},
     "output_type": "display_data"
    },
    {
     "data": {
      "text/latex": [
       "$\\displaystyle [118]\\text{   }{{{{prod}}}}_{power.lii, sd, q, {operate}, lii.charge} - {{{{opr}}}}_{lii.charge, sd, q} = 0$"
      ],
      "text/plain": [
       "<IPython.core.display.Math object>"
      ]
     },
     "metadata": {},
     "output_type": "display_data"
    },
    {
     "data": {
      "text/latex": [
       "$\\displaystyle [119]\\text{   }{{{{expd}}}}_{power, sd, q, {operate}, lii.charge} - {{{{opr}}}}_{lii.charge, sd, q} = 0$"
      ],
      "text/plain": [
       "<IPython.core.display.Math object>"
      ]
     },
     "metadata": {},
     "output_type": "display_data"
    },
    {
     "data": {
      "text/latex": [
       "$\\displaystyle [122]\\text{   }{{{{prod}}}}_{power, sd, q, {operate}, lii.discharge} - {{{{opr}}}}_{lii.discharge, sd, q} = 0$"
      ],
      "text/plain": [
       "<IPython.core.display.Math object>"
      ]
     },
     "metadata": {},
     "output_type": "display_data"
    },
    {
     "data": {
      "text/latex": [
       "$\\displaystyle [123]\\text{   }{{{{expd}}}}_{power.lii, sd, q, {operate}, lii.discharge} - 1.1111111111111112 \\cdot {{{{opr}}}}_{lii.discharge, sd, q} = 0$"
      ],
      "text/plain": [
       "<IPython.core.display.Math object>"
      ]
     },
     "metadata": {},
     "output_type": "display_data"
    },
    {
     "data": {
      "text/latex": [
       "$\\displaystyle [124]\\text{   }{{{{prod}}}}_{power, ny, q, {operate}, pv} - {{{{opr}}}}_{pv, ny, q} = 0$"
      ],
      "text/plain": [
       "<IPython.core.display.Math object>"
      ]
     },
     "metadata": {},
     "output_type": "display_data"
    },
    {
     "data": {
      "text/latex": [
       "$\\displaystyle [125]\\text{   }{{{{expd}}}}_{solar, ny, y, {operate}, pv} - {{{{opr}}}}_{pv, ny, y} = 0$"
      ],
      "text/plain": [
       "<IPython.core.display.Math object>"
      ]
     },
     "metadata": {},
     "output_type": "display_data"
    },
    {
     "data": {
      "text/latex": [
       "$\\displaystyle [126]\\text{   }{{{{prod}}}}_{power, ny, q, {operate}, wf} - {{{{opr}}}}_{wf, ny, q} = 0$"
      ],
      "text/plain": [
       "<IPython.core.display.Math object>"
      ]
     },
     "metadata": {},
     "output_type": "display_data"
    },
    {
     "data": {
      "text/latex": [
       "$\\displaystyle [127]\\text{   }{{{{expd}}}}_{wind, ny, y, {operate}, wf} - {{{{opr}}}}_{wf, ny, y} = 0$"
      ],
      "text/plain": [
       "<IPython.core.display.Math object>"
      ]
     },
     "metadata": {},
     "output_type": "display_data"
    },
    {
     "data": {
      "text/latex": [
       "$\\displaystyle [132]\\text{   }{{{{prod}}}}_{power.lii, ny, q, {operate}, lii.charge} - {{{{opr}}}}_{lii.charge, ny, q} = 0$"
      ],
      "text/plain": [
       "<IPython.core.display.Math object>"
      ]
     },
     "metadata": {},
     "output_type": "display_data"
    },
    {
     "data": {
      "text/latex": [
       "$\\displaystyle [133]\\text{   }{{{{expd}}}}_{power, ny, q, {operate}, lii.charge} - {{{{opr}}}}_{lii.charge, ny, q} = 0$"
      ],
      "text/plain": [
       "<IPython.core.display.Math object>"
      ]
     },
     "metadata": {},
     "output_type": "display_data"
    },
    {
     "data": {
      "text/latex": [
       "$\\displaystyle [136]\\text{   }{{{{prod}}}}_{power, ny, q, {operate}, lii.discharge} - {{{{opr}}}}_{lii.discharge, ny, q} = 0$"
      ],
      "text/plain": [
       "<IPython.core.display.Math object>"
      ]
     },
     "metadata": {},
     "output_type": "display_data"
    },
    {
     "data": {
      "text/latex": [
       "$\\displaystyle [137]\\text{   }{{{{expd}}}}_{power.lii, ny, q, {operate}, lii.discharge} - 1.1111111111111112 \\cdot {{{{opr}}}}_{lii.discharge, ny, q} = 0$"
      ],
      "text/plain": [
       "<IPython.core.display.Math object>"
      ]
     },
     "metadata": {},
     "output_type": "display_data"
    },
    {
     "data": {
      "text/markdown": [
       "### General Resource Balance Constraint Sets"
      ],
      "text/plain": [
       "<IPython.core.display.Markdown object>"
      ]
     },
     "metadata": {},
     "output_type": "display_data"
    },
    {
     "data": {
      "text/latex": [
       "$\\displaystyle [0]\\text{   }{{{cons}}}_{solar, ntw, y} = 0$"
      ],
      "text/plain": [
       "<IPython.core.display.Math object>"
      ]
     },
     "metadata": {},
     "output_type": "display_data"
    },
    {
     "data": {
      "text/latex": [
       "$\\displaystyle [2]\\text{   }{{{{cons}}}}_{wind, ntw, y} = 0$"
      ],
      "text/plain": [
       "<IPython.core.display.Math object>"
      ]
     },
     "metadata": {},
     "output_type": "display_data"
    },
    {
     "data": {
      "text/latex": [
       "$\\displaystyle [4]\\text{   }-{{{rlse}}}_{power, ho, q} - {{{expt}}}_{power, ho, q} + {{{{impt}}}}_{power, ho, q} + {{{prod}}}_{power, ho, q, {operate}, pv} + {{{{prod}}}}_{power, ho, q, {operate}, wf} - {{{{expd}}}}_{power, ho, q, {operate}, lii.charge} + {{{{prod}}}}_{power, ho, q, {operate}, lii.discharge} = 0$"
      ],
      "text/plain": [
       "<IPython.core.display.Math object>"
      ]
     },
     "metadata": {},
     "output_type": "display_data"
    },
    {
     "data": {
      "text/latex": [
       "$\\displaystyle [6]\\text{   }-{{{{rlse}}}}_{power, sd, q} + {{{impt}}}_{power, sd, q} - {{{{expt}}}}_{power, sd, q} + {{{{prod}}}}_{power, sd, q, {operate}, pv} + {{{{prod}}}}_{power, sd, q, {operate}, wf} - {{{{expd}}}}_{power, sd, q, {operate}, lii.charge} + {{{{prod}}}}_{power, sd, q, {operate}, lii.discharge} = 0$"
      ],
      "text/plain": [
       "<IPython.core.display.Math object>"
      ]
     },
     "metadata": {},
     "output_type": "display_data"
    },
    {
     "data": {
      "text/latex": [
       "$\\displaystyle [8]\\text{   }-{{{{rlse}}}}_{power, ny, q} + {{{{impt}}}}_{power, ny, q} - {{{{expt}}}}_{power, ny, q} + {{{{prod}}}}_{power, ny, q, {operate}, pv} + {{{{prod}}}}_{power, ny, q, {operate}, wf} - {{{{expd}}}}_{power, ny, q, {operate}, lii.charge} + {{{{prod}}}}_{power, ny, q, {operate}, lii.discharge} = 0$"
      ],
      "text/plain": [
       "<IPython.core.display.Math object>"
      ]
     },
     "metadata": {},
     "output_type": "display_data"
    },
    {
     "data": {
      "text/latex": [
       "$\\displaystyle [56]\\text{   }{{{{cons}}}}_{cement, ntw, y} - {{use}}_{cement, ntw, y, {capacity}, wf} - {{{use}}}_{cement, ntw, y, {capacity}, pv} - {{{use}}}_{cement, ntw, y, {invcapacity}, power.lii} = 0$"
      ],
      "text/plain": [
       "<IPython.core.display.Math object>"
      ]
     },
     "metadata": {},
     "output_type": "display_data"
    },
    {
     "data": {
      "text/latex": [
       "$\\displaystyle [91]\\text{   }-{{{{inv}}}}_{power.lii, ntw, q} + {{{{inv}}}}_{power.lii, ntw, q-1} = 0$"
      ],
      "text/plain": [
       "<IPython.core.display.Math object>"
      ]
     },
     "metadata": {},
     "output_type": "display_data"
    },
    {
     "data": {
      "text/latex": [
       "$\\displaystyle [92]\\text{   }-{{{{inv}}}}_{power.lii, ho, q} + {{{{inv}}}}_{power.lii, ho, q-1} + {{{{prod}}}}_{power.lii, ho, q, {operate}, lii.charge} - {{{{expd}}}}_{power.lii, ho, q, {operate}, lii.discharge} = 0$"
      ],
      "text/plain": [
       "<IPython.core.display.Math object>"
      ]
     },
     "metadata": {},
     "output_type": "display_data"
    },
    {
     "data": {
      "text/latex": [
       "$\\displaystyle [114]\\text{   }-{{{{inv}}}}_{power.lii, sd, q} + {{{{inv}}}}_{power.lii, sd, q-1} + {{{{prod}}}}_{power.lii, sd, q, {operate}, lii.charge} - {{{{expd}}}}_{power.lii, sd, q, {operate}, lii.discharge} = 0$"
      ],
      "text/plain": [
       "<IPython.core.display.Math object>"
      ]
     },
     "metadata": {},
     "output_type": "display_data"
    },
    {
     "data": {
      "text/latex": [
       "$\\displaystyle [128]\\text{   }-{{{{inv}}}}_{power.lii, ny, q} + {{{{inv}}}}_{power.lii, ny, q-1} + {{{{prod}}}}_{power.lii, ny, q, {operate}, lii.charge} - {{{{expd}}}}_{power.lii, ny, q, {operate}, lii.discharge} = 0$"
      ],
      "text/plain": [
       "<IPython.core.display.Math object>"
      ]
     },
     "metadata": {},
     "output_type": "display_data"
    },
    {
     "data": {
      "text/markdown": [
       "### Map Constraint Sets"
      ],
      "text/plain": [
       "<IPython.core.display.Markdown object>"
      ]
     },
     "metadata": {},
     "output_type": "display_data"
    },
    {
     "data": {
      "text/latex": [
       "$\\displaystyle [22]\\text{   }{{{spend}}}_{usd, ntw, y, {operate}, wf} - {{{spend}}}_{usd, ho, y, {operate}, wf} - {{{spend}}}_{usd, sd, y, {operate}, wf} - {{{spend}}}_{usd, ny, y, {operate}, wf} = 0$"
      ],
      "text/plain": [
       "<IPython.core.display.Math object>"
      ]
     },
     "metadata": {},
     "output_type": "display_data"
    },
    {
     "data": {
      "text/latex": [
       "$\\displaystyle [23]\\text{   }{{{{opr}}}}_{wf, ho, y} - \\sum_{i \\in q} {{{{opr}}}}_{wf, ho, i} = 0$"
      ],
      "text/plain": [
       "<IPython.core.display.Math object>"
      ]
     },
     "metadata": {},
     "output_type": "display_data"
    },
    {
     "data": {
      "text/latex": [
       "$\\displaystyle [24]\\text{   }{{{{opr}}}}_{wf, ntw, y} - {{{{opr}}}}_{wf, ho, y} - {{{{opr}}}}_{wf, sd, y} - {{{{opr}}}}_{wf, ny, y} = 0$"
      ],
      "text/plain": [
       "<IPython.core.display.Math object>"
      ]
     },
     "metadata": {},
     "output_type": "display_data"
    },
    {
     "data": {
      "text/latex": [
       "$\\displaystyle [25]\\text{   }{{{{opr}}}}_{wf, sd, y} - \\sum_{i \\in q} {{{{opr}}}}_{wf, sd, i} = 0$"
      ],
      "text/plain": [
       "<IPython.core.display.Math object>"
      ]
     },
     "metadata": {},
     "output_type": "display_data"
    },
    {
     "data": {
      "text/latex": [
       "$\\displaystyle [26]\\text{   }{{{{opr}}}}_{wf, ny, y} - \\sum_{i \\in q} {{{{opr}}}}_{wf, ny, i} = 0$"
      ],
      "text/plain": [
       "<IPython.core.display.Math object>"
      ]
     },
     "metadata": {},
     "output_type": "display_data"
    },
    {
     "data": {
      "text/latex": [
       "$\\displaystyle [30]\\text{   }{{{{cap}^{P}}}}_{pv, ntw, y} - {{{{cap}^{P}}}}_{pv, sd, y} - {{{{cap}^{P}}}}_{pv, ho, y} - {{{{cap}^{P}}}}_{pv, ny, y} = 0$"
      ],
      "text/plain": [
       "<IPython.core.display.Math object>"
      ]
     },
     "metadata": {},
     "output_type": "display_data"
    },
    {
     "data": {
      "text/latex": [
       "$\\displaystyle [34]\\text{   }{{{spend}}}_{usd, ntw, y, {capacity}, pv} - {{{spend}}}_{usd, ho, y, {capacity}, pv} - {{{spend}}}_{usd, sd, y, {capacity}, pv} - {{{spend}}}_{usd, ny, y, {capacity}, pv} = 0$"
      ],
      "text/plain": [
       "<IPython.core.display.Math object>"
      ]
     },
     "metadata": {},
     "output_type": "display_data"
    },
    {
     "data": {
      "text/latex": [
       "$\\displaystyle [36]\\text{   }{{{spend}}}_{usd, ntw, y, {operate}, pv} - {{{spend}}}_{usd, ho, y, {operate}, pv} - {{{spend}}}_{usd, sd, y, {operate}, pv} - {{{spend}}}_{usd, ny, y, {operate}, pv} = 0$"
      ],
      "text/plain": [
       "<IPython.core.display.Math object>"
      ]
     },
     "metadata": {},
     "output_type": "display_data"
    },
    {
     "data": {
      "text/latex": [
       "$\\displaystyle [37]\\text{   }{{{{opr}}}}_{pv, ho, y} - \\sum_{i \\in q} {{{{opr}}}}_{pv, ho, i} = 0$"
      ],
      "text/plain": [
       "<IPython.core.display.Math object>"
      ]
     },
     "metadata": {},
     "output_type": "display_data"
    },
    {
     "data": {
      "text/latex": [
       "$\\displaystyle [38]\\text{   }{{{{opr}}}}_{pv, ntw, y} - {{{{opr}}}}_{pv, ho, y} - {{{{opr}}}}_{pv, sd, y} - {{{{opr}}}}_{pv, ny, y} = 0$"
      ],
      "text/plain": [
       "<IPython.core.display.Math object>"
      ]
     },
     "metadata": {},
     "output_type": "display_data"
    },
    {
     "data": {
      "text/latex": [
       "$\\displaystyle [39]\\text{   }{{{{opr}}}}_{pv, sd, y} - \\sum_{i \\in q} {{{{opr}}}}_{pv, sd, i} = 0$"
      ],
      "text/plain": [
       "<IPython.core.display.Math object>"
      ]
     },
     "metadata": {},
     "output_type": "display_data"
    },
    {
     "data": {
      "text/latex": [
       "$\\displaystyle [40]\\text{   }{{{{opr}}}}_{pv, ny, y} - \\sum_{i \\in q} {{{{opr}}}}_{pv, ny, i} = 0$"
      ],
      "text/plain": [
       "<IPython.core.display.Math object>"
      ]
     },
     "metadata": {},
     "output_type": "display_data"
    },
    {
     "data": {
      "text/latex": [
       "$\\displaystyle [44]\\text{   }{{{spend}}}_{usd, ntw, y, {invcapacity}, power.lii} - {{{spend}}}_{usd, ho, y, {invcapacity}, power.lii} - {{{spend}}}_{usd, sd, y, {invcapacity}, power.lii} - {{{spend}}}_{usd, ny, y, {invcapacity}, power.lii} = 0$"
      ],
      "text/plain": [
       "<IPython.core.display.Math object>"
      ]
     },
     "metadata": {},
     "output_type": "display_data"
    },
    {
     "data": {
      "text/latex": [
       "$\\displaystyle [46]\\text{   }{{{spend}}}_{usd, ntw, y, {inventory}, power.lii} - {{{spend}}}_{usd, ho, y, {inventory}, power.lii} - {{{spend}}}_{usd, sd, y, {inventory}, power.lii} - {{{spend}}}_{usd, ny, y, {inventory}, power.lii} = 0$"
      ],
      "text/plain": [
       "<IPython.core.display.Math object>"
      ]
     },
     "metadata": {},
     "output_type": "display_data"
    },
    {
     "data": {
      "text/latex": [
       "$\\displaystyle [52]\\text{   }{{{{cap}^{P}}}}_{wf, ntw, y} - {{{{cap}^{P}}}}_{wf, ho, y} - {{{{cap}^{P}}}}_{wf, sd, y} - {{{{cap}^{P}}}}_{wf, ny, y} = 0$"
      ],
      "text/plain": [
       "<IPython.core.display.Math object>"
      ]
     },
     "metadata": {},
     "output_type": "display_data"
    },
    {
     "data": {
      "text/latex": [
       "$\\displaystyle [58]\\text{   }{{{spend}}}_{usd, ntw, y, {consume}, cement} - {{{spend}}}_{usd, ho, y, {consume}, cement} - {{{spend}}}_{usd, sd, y, {consume}, cement} - {{{spend}}}_{usd, ny, y, {consume}, cement} = 0$"
      ],
      "text/plain": [
       "<IPython.core.display.Math object>"
      ]
     },
     "metadata": {},
     "output_type": "display_data"
    },
    {
     "data": {
      "text/latex": [
       "$\\displaystyle [68]\\text{   }{{{{opr}}}}_{grid, ho-sd, y} - \\sum_{i \\in q} {{{{opr}}}}_{grid, ho-sd, i} = 0$"
      ],
      "text/plain": [
       "<IPython.core.display.Math object>"
      ]
     },
     "metadata": {},
     "output_type": "display_data"
    },
    {
     "data": {
      "text/latex": [
       "$\\displaystyle [71]\\text{   }{{{{opr}}}}_{grid, road, y} - \\sum_{i \\in q} {{{{opr}}}}_{grid, road, i} = 0$"
      ],
      "text/plain": [
       "<IPython.core.display.Math object>"
      ]
     },
     "metadata": {},
     "output_type": "display_data"
    },
    {
     "data": {
      "text/latex": [
       "$\\displaystyle [74]\\text{   }{{{spend}}}_{usd, ntw, y, {capacity}, grid} - {{{spend}}}_{usd, ho, y, {capacity}, grid} - {{{spend}}}_{usd, sd, y, {capacity}, grid} - {{{spend}}}_{usd, ny, y, {capacity}, grid} = 0$"
      ],
      "text/plain": [
       "<IPython.core.display.Math object>"
      ]
     },
     "metadata": {},
     "output_type": "display_data"
    },
    {
     "data": {
      "text/latex": [
       "$\\displaystyle [88]\\text{   }{{{{cap}^{S}}}}_{power.lii, ntw, y} - {{{{cap}^{S}}}}_{power.lii, ho, y} - {{{{cap}^{S}}}}_{power.lii, sd, y} - {{{{cap}^{S}}}}_{power.lii, ny, y} = 0$"
      ],
      "text/plain": [
       "<IPython.core.display.Math object>"
      ]
     },
     "metadata": {},
     "output_type": "display_data"
    },
    {
     "data": {
      "text/latex": [
       "$\\displaystyle [89]\\text{   }{{{{inv}}}}_{power.lii, ntw, y} - \\sum_{i \\in q} {{{{inv}}}}_{power.lii, ntw, i} = 0$"
      ],
      "text/plain": [
       "<IPython.core.display.Math object>"
      ]
     },
     "metadata": {},
     "output_type": "display_data"
    },
    {
     "data": {
      "text/latex": [
       "$\\displaystyle [90]\\text{   }{{{{inv}}}}_{power.lii, ntw, q} - {{{{inv}}}}_{power.lii, ho, q} - {{{{inv}}}}_{power.lii, sd, q} - {{{{inv}}}}_{power.lii, ny, q} = 0$"
      ],
      "text/plain": [
       "<IPython.core.display.Math object>"
      ]
     },
     "metadata": {},
     "output_type": "display_data"
    },
    {
     "data": {
      "text/latex": [
       "$\\displaystyle [94]\\text{   }{{{{cap}^{P}}}}_{lii.charge, ntw, y} - {{{{cap}^{P}}}}_{lii.charge, ho, y} - {{{{cap}^{P}}}}_{lii.charge, sd, y} - {{{{cap}^{P}}}}_{lii.charge, ny, y} = 0$"
      ],
      "text/plain": [
       "<IPython.core.display.Math object>"
      ]
     },
     "metadata": {},
     "output_type": "display_data"
    },
    {
     "data": {
      "text/latex": [
       "$\\displaystyle [95]\\text{   }{{{{opr}}}}_{lii.charge, ntw, y} - {{{{opr}}}}_{lii.charge, ho, y} - {{{{opr}}}}_{lii.charge, sd, y} - {{{{opr}}}}_{lii.charge, ny, y} = 0$"
      ],
      "text/plain": [
       "<IPython.core.display.Math object>"
      ]
     },
     "metadata": {},
     "output_type": "display_data"
    },
    {
     "data": {
      "text/latex": [
       "$\\displaystyle [97]\\text{   }{{{{opr}}}}_{lii.charge, ho, y} - \\sum_{i \\in q} {{{{opr}}}}_{lii.charge, ho, i} = 0$"
      ],
      "text/plain": [
       "<IPython.core.display.Math object>"
      ]
     },
     "metadata": {},
     "output_type": "display_data"
    },
    {
     "data": {
      "text/latex": [
       "$\\displaystyle [98]\\text{   }{{{{opr}}}}_{lii.charge, ntw, y} - \\sum_{i \\in q} {{{{opr}}}}_{lii.charge, ntw, i} = 0$"
      ],
      "text/plain": [
       "<IPython.core.display.Math object>"
      ]
     },
     "metadata": {},
     "output_type": "display_data"
    },
    {
     "data": {
      "text/latex": [
       "$\\displaystyle [99]\\text{   }{{{{opr}}}}_{lii.charge, ntw, q} - {{{{opr}}}}_{lii.charge, ho, q} - {{{{opr}}}}_{lii.charge, sd, q} - {{{{opr}}}}_{lii.charge, ny, q} = 0$"
      ],
      "text/plain": [
       "<IPython.core.display.Math object>"
      ]
     },
     "metadata": {},
     "output_type": "display_data"
    },
    {
     "data": {
      "text/latex": [
       "$\\displaystyle [102]\\text{   }{{{{cap}^{P}}}}_{lii.discharge, ntw, y} - {{{{cap}^{P}}}}_{lii.discharge, ho, y} - {{{{cap}^{P}}}}_{lii.discharge, sd, y} - {{{{cap}^{P}}}}_{lii.discharge, ny, y} = 0$"
      ],
      "text/plain": [
       "<IPython.core.display.Math object>"
      ]
     },
     "metadata": {},
     "output_type": "display_data"
    },
    {
     "data": {
      "text/latex": [
       "$\\displaystyle [103]\\text{   }{{{{opr}}}}_{lii.discharge, ntw, y} - {{{{opr}}}}_{lii.discharge, ho, y} - {{{{opr}}}}_{lii.discharge, sd, y} - {{{{opr}}}}_{lii.discharge, ny, y} = 0$"
      ],
      "text/plain": [
       "<IPython.core.display.Math object>"
      ]
     },
     "metadata": {},
     "output_type": "display_data"
    },
    {
     "data": {
      "text/latex": [
       "$\\displaystyle [105]\\text{   }{{{{opr}}}}_{lii.discharge, ho, y} - \\sum_{i \\in q} {{{{opr}}}}_{lii.discharge, ho, i} = 0$"
      ],
      "text/plain": [
       "<IPython.core.display.Math object>"
      ]
     },
     "metadata": {},
     "output_type": "display_data"
    },
    {
     "data": {
      "text/latex": [
       "$\\displaystyle [106]\\text{   }{{{{opr}}}}_{lii.discharge, ntw, y} - \\sum_{i \\in q} {{{{opr}}}}_{lii.discharge, ntw, i} = 0$"
      ],
      "text/plain": [
       "<IPython.core.display.Math object>"
      ]
     },
     "metadata": {},
     "output_type": "display_data"
    },
    {
     "data": {
      "text/latex": [
       "$\\displaystyle [107]\\text{   }{{{{opr}}}}_{lii.discharge, ntw, q} - {{{{opr}}}}_{lii.discharge, ho, q} - {{{{opr}}}}_{lii.discharge, sd, q} - {{{{opr}}}}_{lii.discharge, ny, q} = 0$"
      ],
      "text/plain": [
       "<IPython.core.display.Math object>"
      ]
     },
     "metadata": {},
     "output_type": "display_data"
    },
    {
     "data": {
      "text/latex": [
       "$\\displaystyle [117]\\text{   }{{{{opr}}}}_{lii.charge, sd, y} - \\sum_{i \\in q} {{{{opr}}}}_{lii.charge, sd, i} = 0$"
      ],
      "text/plain": [
       "<IPython.core.display.Math object>"
      ]
     },
     "metadata": {},
     "output_type": "display_data"
    },
    {
     "data": {
      "text/latex": [
       "$\\displaystyle [121]\\text{   }{{{{opr}}}}_{lii.discharge, sd, y} - \\sum_{i \\in q} {{{{opr}}}}_{lii.discharge, sd, i} = 0$"
      ],
      "text/plain": [
       "<IPython.core.display.Math object>"
      ]
     },
     "metadata": {},
     "output_type": "display_data"
    },
    {
     "data": {
      "text/latex": [
       "$\\displaystyle [131]\\text{   }{{{{opr}}}}_{lii.charge, ny, y} - \\sum_{i \\in q} {{{{opr}}}}_{lii.charge, ny, i} = 0$"
      ],
      "text/plain": [
       "<IPython.core.display.Math object>"
      ]
     },
     "metadata": {},
     "output_type": "display_data"
    },
    {
     "data": {
      "text/latex": [
       "$\\displaystyle [135]\\text{   }{{{{opr}}}}_{lii.discharge, ny, y} - \\sum_{i \\in q} {{{{opr}}}}_{lii.discharge, ny, i} = 0$"
      ],
      "text/plain": [
       "<IPython.core.display.Math object>"
      ]
     },
     "metadata": {},
     "output_type": "display_data"
    }
   ],
   "source": [
    "m.show()"
   ]
  },
  {
   "cell_type": "code",
   "execution_count": null,
   "id": "013192d9",
   "metadata": {},
   "outputs": [
    {
     "data": {
      "text/latex": [
       "$\\displaystyle [0]\\text{   }{{{cons}}}_{solar, ntw, y} - {{{expd}}}_{solar, pv, ho, y} - {{{{expd}}}}_{solar, pv, sd, y} - {{{{expd}}}}_{solar, pv, ny, y} = 0$"
      ],
      "text/plain": [
       "<IPython.core.display.Math object>"
      ]
     },
     "metadata": {},
     "output_type": "display_data"
    },
    {
     "data": {
      "text/latex": [
       "$\\displaystyle [1]\\text{   }{{{cons}}}_{solar, ntw, y} - 1200 \\leq 0$"
      ],
      "text/plain": [
       "<IPython.core.display.Math object>"
      ]
     },
     "metadata": {},
     "output_type": "display_data"
    },
    {
     "data": {
      "text/latex": [
       "$\\displaystyle [70]\\text{   }{{{{opr}}}}_{pv, ho, y} - {{{expd}}}_{solar, pv, ho, y} = 0$"
      ],
      "text/plain": [
       "<IPython.core.display.Math object>"
      ]
     },
     "metadata": {},
     "output_type": "display_data"
    },
    {
     "data": {
      "text/latex": [
       "$\\displaystyle [84]\\text{   }{{{{opr}}}}_{pv, sd, y} - {{{{expd}}}}_{solar, pv, sd, y} = 0$"
      ],
      "text/plain": [
       "<IPython.core.display.Math object>"
      ]
     },
     "metadata": {},
     "output_type": "display_data"
    },
    {
     "data": {
      "text/latex": [
       "$\\displaystyle [96]\\text{   }{{{{opr}}}}_{pv, ny, y} - {{{{expd}}}}_{solar, pv, ny, y} = 0$"
      ],
      "text/plain": [
       "<IPython.core.display.Math object>"
      ]
     },
     "metadata": {},
     "output_type": "display_data"
    }
   ],
   "source": [
    "m.solar.show()"
   ]
  },
  {
   "cell_type": "code",
   "execution_count": null,
   "id": "de89149e",
   "metadata": {},
   "outputs": [
    {
     "name": "stdout",
     "output_type": "stream",
     "text": [
      "bbbb spend (usd, ntw, y) False\n",
      "--- Mapping spend: from (usd, capacity, wf, sd, y) to (usd, ntw, y)\n",
      "--- Mapping spend: from (usd, capacity, wf, ho, y) to (usd, ntw, y)\n",
      "--- Mapping spend: from (usd, capacity, wf, ny, y) to (usd, ntw, y)\n",
      "--- Mapping spend: from (usd, operate, wf, ntw, y) to (usd, ntw, y)\n",
      "--- Mapping spend: from (usd, capacity, pv, ntw, y) to (usd, ntw, y)\n",
      "--- Mapping spend: from (usd, operate, pv, ntw, y) to (usd, ntw, y)\n",
      "--- Mapping spend: from (usd, capacity, lii, ntw, y) to (usd, ntw, y)\n",
      "--- Mapping spend: from (usd, operate, lii, ntw, y) to (usd, ntw, y)\n",
      "--- Mapping spend: from (usd, consume, cement, ntw, y) to (usd, ntw, y)\n",
      "--- Mapping spend: from (usd, operate, grid, ho-sd, y) to (usd, ntw, y)\n",
      "--- Mapping spend: from (usd, operate, grid, sd-ho, y) to (usd, ntw, y)\n",
      "--- Mapping spend: from (usd, operate, grid, road, y) to (usd, ntw, y)\n",
      "--- Mapping spend: from (usd, operate, grid, -road, y) to (usd, ntw, y)\n",
      "--- Mapping spend: from (usd, capacity, grid, ntw, y) to (usd, ntw, y)\n",
      "--- Generating example4.mps\n",
      "--- Creating gurobi model for example4\n",
      "Set parameter Username\n"
     ]
    },
    {
     "name": "stdout",
     "output_type": "stream",
     "text": [
      "Academic license - for non-commercial use only - expires 2026-08-01\n",
      "Warning: column name V102 in bound section not defined\n",
      "Warning: column name V103 in bound section not defined\n",
      "Read MPS format model from file example4.mps\n",
      "Reading time = 0.00 seconds\n",
      "EXAMPLE4: 233 rows, 241 columns, 572 nonzeros\n",
      "--- Optimizing example4 using gurobi\n",
      "Gurobi Optimizer version 12.0.3 build v12.0.3rc0 (win64 - Windows 11.0 (26100.2))\n",
      "\n",
      "CPU model: 13th Gen Intel(R) Core(TM) i7-13700, instruction set [SSE2|AVX|AVX2]\n",
      "Thread count: 16 physical cores, 24 logical processors, using up to 24 threads\n",
      "\n",
      "Optimize a model with 233 rows, 241 columns and 572 nonzeros\n",
      "Model fingerprint: 0x30d71bce\n",
      "Variable types: 234 continuous, 7 integer (7 binary)\n",
      "Coefficient statistics:\n",
      "  Matrix range     [3e-01, 1e+06]\n",
      "  Objective range  [1e+00, 1e+00]\n",
      "  Bounds range     [1e+00, 1e+00]\n",
      "  RHS range        [1e+01, 1e+06]\n",
      "Presolve removed 166 rows and 170 columns\n",
      "Presolve time: 0.00s\n",
      "\n",
      "Explored 0 nodes (0 simplex iterations) in 0.00 seconds (0.00 work units)\n",
      "Thread count was 1 (of 24 available processors)\n",
      "\n",
      "Solution count 0\n",
      "\n",
      "Model is infeasible\n",
      "Best objective -, best bound -, gap -\n",
      "--- Solution found. Use .sol() to display it\n",
      "!!! No solution found. Check the model.\n"
     ]
    }
   ],
   "source": [
    "m.usd.spend.opt()"
   ]
  },
  {
   "cell_type": "code",
   "execution_count": null,
   "id": "f134bd09",
   "metadata": {},
   "outputs": [
    {
     "data": {
      "text/plain": [
       "'Use .opt() to generate solution'"
      ]
     },
     "execution_count": 21,
     "metadata": {},
     "output_type": "execute_result"
    }
   ],
   "source": [
    "m.sol()"
   ]
  },
  {
   "cell_type": "code",
   "execution_count": null,
   "id": "bb69f58c",
   "metadata": {},
   "outputs": [
    {
     "data": {
      "text/latex": [
       "$\\displaystyle {{{expt}}}_{power, grid, ho, q{0}}=None$"
      ],
      "text/plain": [
       "<IPython.core.display.Math object>"
      ]
     },
     "metadata": {},
     "output_type": "display_data"
    },
    {
     "data": {
      "text/latex": [
       "$\\displaystyle {{{expt}}}_{power, grid, ho, q{1}}=None$"
      ],
      "text/plain": [
       "<IPython.core.display.Math object>"
      ]
     },
     "metadata": {},
     "output_type": "display_data"
    },
    {
     "data": {
      "text/latex": [
       "$\\displaystyle {{{expt}}}_{power, grid, ho, q{2}}=None$"
      ],
      "text/plain": [
       "<IPython.core.display.Math object>"
      ]
     },
     "metadata": {},
     "output_type": "display_data"
    },
    {
     "data": {
      "text/latex": [
       "$\\displaystyle {{{expt}}}_{power, grid, ho, q{3}}=None$"
      ],
      "text/plain": [
       "<IPython.core.display.Math object>"
      ]
     },
     "metadata": {},
     "output_type": "display_data"
    },
    {
     "data": {
      "text/latex": [
       "$\\displaystyle {{{expt}}}_{power, grid, sd, y{0}}=None$"
      ],
      "text/plain": [
       "<IPython.core.display.Math object>"
      ]
     },
     "metadata": {},
     "output_type": "display_data"
    },
    {
     "data": {
      "text/latex": [
       "$\\displaystyle {{{expt}}}_{power, grid, ny, y{0}}=None$"
      ],
      "text/plain": [
       "<IPython.core.display.Math object>"
      ]
     },
     "metadata": {},
     "output_type": "display_data"
    }
   ],
   "source": [
    "m.export.sol()"
   ]
  },
  {
   "cell_type": "code",
   "execution_count": null,
   "id": "f541a9ba",
   "metadata": {},
   "outputs": [
    {
     "data": {
      "text/latex": [
       "$\\displaystyle {{spend}}_{usd, capacity, wf, sd, y{0}}=None$"
      ],
      "text/plain": [
       "<IPython.core.display.Math object>"
      ]
     },
     "metadata": {},
     "output_type": "display_data"
    },
    {
     "data": {
      "text/latex": [
       "$\\displaystyle {{spend}}_{usd, capacity, wf, ho, y{0}}=None$"
      ],
      "text/plain": [
       "<IPython.core.display.Math object>"
      ]
     },
     "metadata": {},
     "output_type": "display_data"
    },
    {
     "data": {
      "text/latex": [
       "$\\displaystyle {{spend}}_{usd, capacity, wf, ny, y{0}}=None$"
      ],
      "text/plain": [
       "<IPython.core.display.Math object>"
      ]
     },
     "metadata": {},
     "output_type": "display_data"
    },
    {
     "data": {
      "text/latex": [
       "$\\displaystyle {{spend}}_{usd, operate, wf, ntw, y{0}}=None$"
      ],
      "text/plain": [
       "<IPython.core.display.Math object>"
      ]
     },
     "metadata": {},
     "output_type": "display_data"
    },
    {
     "data": {
      "text/latex": [
       "$\\displaystyle {{spend}}_{usd, capacity, pv, ntw, y{0}}=None$"
      ],
      "text/plain": [
       "<IPython.core.display.Math object>"
      ]
     },
     "metadata": {},
     "output_type": "display_data"
    },
    {
     "data": {
      "text/latex": [
       "$\\displaystyle {{spend}}_{usd, operate, pv, ntw, y{0}}=None$"
      ],
      "text/plain": [
       "<IPython.core.display.Math object>"
      ]
     },
     "metadata": {},
     "output_type": "display_data"
    },
    {
     "data": {
      "text/latex": [
       "$\\displaystyle {{spend}}_{usd, capacity, lii, ntw, y{0}}=None$"
      ],
      "text/plain": [
       "<IPython.core.display.Math object>"
      ]
     },
     "metadata": {},
     "output_type": "display_data"
    },
    {
     "data": {
      "text/latex": [
       "$\\displaystyle {{spend}}_{usd, operate, lii, ntw, y{0}}=None$"
      ],
      "text/plain": [
       "<IPython.core.display.Math object>"
      ]
     },
     "metadata": {},
     "output_type": "display_data"
    },
    {
     "data": {
      "text/latex": [
       "$\\displaystyle {{spend}}_{usd, consume, cement, ntw, y{0}}=None$"
      ],
      "text/plain": [
       "<IPython.core.display.Math object>"
      ]
     },
     "metadata": {},
     "output_type": "display_data"
    },
    {
     "data": {
      "text/latex": [
       "$\\displaystyle {{spend}}_{usd, operate, grid, ho-sd, y{0}}=None$"
      ],
      "text/plain": [
       "<IPython.core.display.Math object>"
      ]
     },
     "metadata": {},
     "output_type": "display_data"
    },
    {
     "data": {
      "text/latex": [
       "$\\displaystyle {{spend}}_{usd, operate, grid, sd-ho, y{0}}=None$"
      ],
      "text/plain": [
       "<IPython.core.display.Math object>"
      ]
     },
     "metadata": {},
     "output_type": "display_data"
    },
    {
     "data": {
      "text/latex": [
       "$\\displaystyle {{spend}}_{usd, operate, grid, road, y{0}}=None$"
      ],
      "text/plain": [
       "<IPython.core.display.Math object>"
      ]
     },
     "metadata": {},
     "output_type": "display_data"
    },
    {
     "data": {
      "text/latex": [
       "$\\displaystyle {{spend}}_{usd, operate, grid, -road, y{0}}=None$"
      ],
      "text/plain": [
       "<IPython.core.display.Math object>"
      ]
     },
     "metadata": {},
     "output_type": "display_data"
    },
    {
     "data": {
      "text/latex": [
       "$\\displaystyle {{spend}}_{usd, capacity, grid, ntw, y{0}}=None$"
      ],
      "text/plain": [
       "<IPython.core.display.Math object>"
      ]
     },
     "metadata": {},
     "output_type": "display_data"
    },
    {
     "data": {
      "text/latex": [
       "$\\displaystyle {{spend}}_{usd, ntw, y{0}}=None$"
      ],
      "text/plain": [
       "<IPython.core.display.Math object>"
      ]
     },
     "metadata": {},
     "output_type": "display_data"
    }
   ],
   "source": [
    "m.spend.sol()"
   ]
  }
 ],
 "metadata": {
  "kernelspec": {
   "display_name": ".venv",
   "language": "python",
   "name": "python3"
  },
  "language_info": {
   "codemirror_mode": {
    "name": "ipython",
    "version": 3
   },
   "file_extension": ".py",
   "mimetype": "text/x-python",
   "name": "python",
   "nbconvert_exporter": "python",
   "pygments_lexer": "ipython3",
   "version": "3.13.7"
  }
 },
 "nbformat": 4,
 "nbformat_minor": 5
}
