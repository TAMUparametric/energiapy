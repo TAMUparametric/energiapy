{
 "cells": [
  {
   "cell_type": "markdown",
   "id": "686ba0d6",
   "metadata": {},
   "source": [
    "# Multi Location, Multiple Temporal Scales, Multiple Operations Including Transport, Mixed Integer Linear Programming Example\n",
    "\n",
    "## [Example 4]\n",
    "\n",
    "This is a continuation of 'One Location, Multiple Temporal Scales, Multiple Operations, Mixed Integer Linear Programming with Material and Emission Considerations Example' [Example 3]. \n",
    "\n",
    "We update Example 3 to now allow multiple locations and Transport options between them.\n"
   ]
  },
  {
   "cell_type": "markdown",
   "id": "84484ac2",
   "metadata": {},
   "source": [
    "## From Example 3"
   ]
  },
  {
   "cell_type": "code",
   "execution_count": 1,
   "id": "609aab02",
   "metadata": {},
   "outputs": [],
   "source": [
    "from energia import *\n",
    "\n",
    "m = Model('example4')\n",
    "m.q = Periods()\n",
    "m.y = 4 * m.q\n",
    "m.usd = Currency()"
   ]
  },
  {
   "cell_type": "code",
   "execution_count": 2,
   "id": "483e8376",
   "metadata": {},
   "outputs": [
    {
     "data": {
      "text/plain": [
       "[q, y]"
      ]
     },
     "execution_count": 2,
     "metadata": {},
     "output_type": "execute_result"
    }
   ],
   "source": [
    "m.periods"
   ]
  },
  {
   "cell_type": "markdown",
   "id": "541123ad",
   "metadata": {},
   "source": [
    "## Declaring Locations "
   ]
  },
  {
   "cell_type": "code",
   "execution_count": 3,
   "id": "78d7d056",
   "metadata": {},
   "outputs": [],
   "source": [
    "m.ho = Location(label='Houston')\n",
    "m.sd = Location(label='San Diego')\n",
    "m.ny = Location(label='New York')\n",
    "# m.usa = m.ho + m.sd + m.ny"
   ]
  },
  {
   "cell_type": "code",
   "execution_count": 4,
   "id": "759327de",
   "metadata": {},
   "outputs": [
    {
     "data": {
      "text/plain": [
       "[ho, sd, ny]"
      ]
     },
     "execution_count": 4,
     "metadata": {},
     "output_type": "execute_result"
    }
   ],
   "source": [
    "m.locations"
   ]
  },
  {
   "cell_type": "markdown",
   "id": "433f1df8",
   "metadata": {},
   "source": [
    "### The Network \n",
    "\n",
    "Given that we have not used a nested set of locations, a network is made:"
   ]
  },
  {
   "cell_type": "code",
   "execution_count": 5,
   "id": "d4761c55",
   "metadata": {},
   "outputs": [
    {
     "data": {
      "text/plain": [
       "ntw"
      ]
     },
     "execution_count": 5,
     "metadata": {},
     "output_type": "execute_result"
    }
   ],
   "source": [
    "m.network"
   ]
  },
  {
   "cell_type": "markdown",
   "id": "14277382",
   "metadata": {},
   "source": [
    "This network contains the three locations at (ho, sd, ny)"
   ]
  },
  {
   "cell_type": "code",
   "execution_count": 6,
   "id": "d744aefc",
   "metadata": {},
   "outputs": [
    {
     "data": {
      "text/plain": [
       "(sd, ho, ny)"
      ]
     },
     "execution_count": 6,
     "metadata": {},
     "output_type": "execute_result"
    }
   ],
   "source": [
    "m.network.has"
   ]
  },
  {
   "cell_type": "markdown",
   "id": "31fe7598",
   "metadata": {},
   "source": []
  },
  {
   "cell_type": "markdown",
   "id": "b2bda1be",
   "metadata": {},
   "source": [
    "## General Bounds Default to Network"
   ]
  },
  {
   "cell_type": "code",
   "execution_count": 7,
   "id": "9a66530b",
   "metadata": {},
   "outputs": [
    {
     "name": "stdout",
     "output_type": "stream",
     "text": [
      "--- General Resource Balance for solar in (ntw, y): initializing constraint, adding consume(solar, ntw, y)\n",
      "    Completed in 0.00013589859008789062 seconds\n",
      "--- Binding consume in domain (solar, ntw, y)\n",
      "    Completed in 5.817413330078125e-05 seconds\n",
      "--- General Resource Balance for wind in (ntw, y): initializing constraint, adding consume(wind, ntw, y)\n",
      "    Completed in 6.771087646484375e-05 seconds\n",
      "--- Binding consume in domain (wind, ntw, y)\n",
      "    Completed in 4.38690185546875e-05 seconds\n"
     ]
    }
   ],
   "source": [
    "m.declare(Resource, ['power', 'wind', 'solar'])\n",
    "# m.solar.consume == True\n",
    "# m.wind.consume == True\n",
    "m.solar.consume <= 1200\n",
    "m.wind.consume <= 1200\n",
    "# m.consume.show()"
   ]
  },
  {
   "cell_type": "markdown",
   "id": "5abad359",
   "metadata": {},
   "source": [
    "## Location-specific Bounds \n",
    "\n",
    "Spatial specificity can be provided along with temporal fidelity. \n",
    "In the example below, the temporal fidelity is implied since the data has 4 samples.\n",
    "\n",
    "Note that an individual general resource balance is generated for power at each location"
   ]
  },
  {
   "cell_type": "code",
   "execution_count": 8,
   "id": "6f789af5",
   "metadata": {},
   "outputs": [
    {
     "name": "stdout",
     "output_type": "stream",
     "text": [
      "--- General Resource Balance for power in (ho, q): initializing constraint, adding release(power, ho, q)\n",
      "    Completed in 0.0001475811004638672 seconds\n",
      "--- Binding release in domain (power, ho, q)\n",
      "    Completed in 0.00017189979553222656 seconds\n",
      "--- General Resource Balance for power in (sd, q): initializing constraint, adding release(power, sd, q)\n",
      "    Completed in 9.942054748535156e-05 seconds\n",
      "--- Binding release in domain (power, sd, q)\n",
      "    Completed in 0.00014591217041015625 seconds\n",
      "--- General Resource Balance for power in (ny, q): initializing constraint, adding release(power, ny, q)\n",
      "    Completed in 0.0002541542053222656 seconds\n",
      "--- Binding release in domain (power, ny, q)\n",
      "    Completed in 0.00011944770812988281 seconds\n"
     ]
    },
    {
     "data": {
      "text/latex": [
       "$\\displaystyle [4]\\text{   }-{{{rlse}}}_{power, ho, q} = 0$"
      ],
      "text/plain": [
       "<IPython.core.display.Math object>"
      ]
     },
     "metadata": {},
     "output_type": "display_data"
    },
    {
     "data": {
      "text/latex": [
       "$\\displaystyle [5]\\text{   }-{{{rlse}}}_{power, ho, q} + {φ}_{} \\leq 0$"
      ],
      "text/plain": [
       "<IPython.core.display.Math object>"
      ]
     },
     "metadata": {},
     "output_type": "display_data"
    },
    {
     "data": {
      "text/latex": [
       "$\\displaystyle [6]\\text{   }-{{{{rlse}}}}_{power, sd, q} = 0$"
      ],
      "text/plain": [
       "<IPython.core.display.Math object>"
      ]
     },
     "metadata": {},
     "output_type": "display_data"
    },
    {
     "data": {
      "text/latex": [
       "$\\displaystyle [7]\\text{   }-{{{{rlse}}}}_{power, sd, q} + {φ}_{} \\leq 0$"
      ],
      "text/plain": [
       "<IPython.core.display.Math object>"
      ]
     },
     "metadata": {},
     "output_type": "display_data"
    },
    {
     "data": {
      "text/latex": [
       "$\\displaystyle [8]\\text{   }-{{{{rlse}}}}_{power, ny, q} = 0$"
      ],
      "text/plain": [
       "<IPython.core.display.Math object>"
      ]
     },
     "metadata": {},
     "output_type": "display_data"
    },
    {
     "data": {
      "text/latex": [
       "$\\displaystyle [9]\\text{   }-{{{{rlse}}}}_{power, ny, q} + {φ}_{} \\leq 0$"
      ],
      "text/plain": [
       "<IPython.core.display.Math object>"
      ]
     },
     "metadata": {},
     "output_type": "display_data"
    }
   ],
   "source": [
    "m.power.release(m.ho).prep(30) >= [0.6, 0.7, 0.8, 0.3]\n",
    "m.power.release(m.sd).prep(100) >= [0.4, 0.9, 0.7, 0.6]\n",
    "m.power.release(m.ny).prep(180) >= [0.2, 0.5, 0.7, 0.5]\n",
    "m.release.show()"
   ]
  },
  {
   "cell_type": "markdown",
   "id": "74176947",
   "metadata": {},
   "source": [
    "## For All Locations \n",
    "\n",
    "Generally, in Energia to repeat a constraint over a set, use .forall()\n",
    "\n",
    "If a list is provided, the bounds are iterated over the list [see LB cons]\n",
    "else the bounds are repeated [see UB cons]"
   ]
  },
  {
   "cell_type": "code",
   "execution_count": 9,
   "id": "4954a5eb",
   "metadata": {},
   "outputs": [
    {
     "name": "stdout",
     "output_type": "stream",
     "text": [
      "--- Binding capacity in domain (wf, sd, y)\n",
      "    Completed in 0.00016069412231445312 seconds\n",
      "--- Binding capacity in domain (wf, ho, y)\n",
      "    Completed in 0.00010466575622558594 seconds\n",
      "--- Binding capacity in domain (wf, ny, y)\n",
      "    Completed in 9.560585021972656e-05 seconds\n",
      "--- Binding capacity in domain (wf, sd, y)\n",
      "    Completed in 0.0001010894775390625 seconds\n",
      "--- Binding capacity in domain (wf, ho, y)\n",
      "    Completed in 9.226799011230469e-05 seconds\n",
      "--- Binding capacity in domain (wf, ny, y)\n",
      "    Completed in 8.797645568847656e-05 seconds\n"
     ]
    },
    {
     "data": {
      "text/latex": [
       "$\\displaystyle [10]\\text{   }10 \\cdot {{{\\breve{{cap}}}}}_{wf, sd, y} - {{{cap}}}_{wf, sd, y} \\leq 0$"
      ],
      "text/plain": [
       "<IPython.core.display.Math object>"
      ]
     },
     "metadata": {},
     "output_type": "display_data"
    },
    {
     "data": {
      "text/latex": [
       "$\\displaystyle [11]\\text{   }7 \\cdot {{{{\\breve{{cap}}}}}}_{wf, ho, y} - {{{{cap}}}}_{wf, ho, y} \\leq 0$"
      ],
      "text/plain": [
       "<IPython.core.display.Math object>"
      ]
     },
     "metadata": {},
     "output_type": "display_data"
    },
    {
     "data": {
      "text/latex": [
       "$\\displaystyle [12]\\text{   }20 \\cdot {{{{\\breve{{cap}}}}}}_{wf, ny, y} - {{{{cap}}}}_{wf, ny, y} \\leq 0$"
      ],
      "text/plain": [
       "<IPython.core.display.Math object>"
      ]
     },
     "metadata": {},
     "output_type": "display_data"
    },
    {
     "data": {
      "text/latex": [
       "$\\displaystyle [13]\\text{   }{{{{cap}}}}_{wf, sd, y} - 100 \\cdot {{{{\\breve{{cap}}}}}}_{wf, sd, y} \\leq 0$"
      ],
      "text/plain": [
       "<IPython.core.display.Math object>"
      ]
     },
     "metadata": {},
     "output_type": "display_data"
    },
    {
     "data": {
      "text/latex": [
       "$\\displaystyle [14]\\text{   }{{{{cap}}}}_{wf, ho, y} - 100 \\cdot {{{{\\breve{{cap}}}}}}_{wf, ho, y} \\leq 0$"
      ],
      "text/plain": [
       "<IPython.core.display.Math object>"
      ]
     },
     "metadata": {},
     "output_type": "display_data"
    },
    {
     "data": {
      "text/latex": [
       "$\\displaystyle [15]\\text{   }{{{{cap}}}}_{wf, ny, y} - 100 \\cdot {{{{\\breve{{cap}}}}}}_{wf, ny, y} \\leq 0$"
      ],
      "text/plain": [
       "<IPython.core.display.Math object>"
      ]
     },
     "metadata": {},
     "output_type": "display_data"
    }
   ],
   "source": [
    "m.wf = Process(m.power)\n",
    "m.wf(m.power) == -1 * m.wind\n",
    "[10, 7, 20] <= m.wf.capacity.x.forall(m.network.has)\n",
    "m.wf.capacity.x.forall(m.network.has) <= 100\n",
    "m.wf.show()"
   ]
  },
  {
   "cell_type": "markdown",
   "id": "e3a4830d",
   "metadata": {},
   "source": [
    "Bounds can also be provided individually"
   ]
  },
  {
   "cell_type": "code",
   "execution_count": 10,
   "id": "209f685c",
   "metadata": {},
   "outputs": [
    {
     "name": "stdout",
     "output_type": "stream",
     "text": [
      "--- Binding operate in domain (wf, ho, q)\n",
      "    Completed in 0.00021409988403320312 seconds\n",
      "--- Binding operate in domain (wf, sd, q)\n",
      "    Completed in 0.00030040740966796875 seconds\n",
      "--- Binding operate in domain (wf, ny, q)\n",
      "    Completed in 0.00017213821411132812 seconds\n"
     ]
    },
    {
     "data": {
      "text/latex": [
       "$\\displaystyle [34]\\text{   }{{{opr}}}_{wf, ho, q{0}} - 0.9 \\cdot {{{cap}}}_{wf, ho, y{0}} \\leq 0$"
      ],
      "text/plain": [
       "<IPython.core.display.Math object>"
      ]
     },
     "metadata": {},
     "output_type": "display_data"
    },
    {
     "data": {
      "text/latex": [
       "$\\displaystyle [35]\\text{   }{{{opr}}}_{wf, ho, q{1}} - 0.8 \\cdot {{{cap}}}_{wf, ho, y{0}} \\leq 0$"
      ],
      "text/plain": [
       "<IPython.core.display.Math object>"
      ]
     },
     "metadata": {},
     "output_type": "display_data"
    },
    {
     "data": {
      "text/latex": [
       "$\\displaystyle [36]\\text{   }{{{opr}}}_{wf, ho, q{2}} - 0.5 \\cdot {{{cap}}}_{wf, ho, y{0}} \\leq 0$"
      ],
      "text/plain": [
       "<IPython.core.display.Math object>"
      ]
     },
     "metadata": {},
     "output_type": "display_data"
    },
    {
     "data": {
      "text/latex": [
       "$\\displaystyle [37]\\text{   }{{{opr}}}_{wf, ho, q{3}} - 0.7 \\cdot {{{cap}}}_{wf, ho, y{0}} \\leq 0$"
      ],
      "text/plain": [
       "<IPython.core.display.Math object>"
      ]
     },
     "metadata": {},
     "output_type": "display_data"
    },
    {
     "data": {
      "text/latex": [
       "$\\displaystyle [38]\\text{   }{{{opr}}}_{wf, sd, q{0}} - 0.8 \\cdot {{{cap}}}_{wf, sd, y{0}} \\leq 0$"
      ],
      "text/plain": [
       "<IPython.core.display.Math object>"
      ]
     },
     "metadata": {},
     "output_type": "display_data"
    },
    {
     "data": {
      "text/latex": [
       "$\\displaystyle [39]\\text{   }{{{opr}}}_{wf, sd, q{1}} - 0.7 \\cdot {{{cap}}}_{wf, sd, y{0}} \\leq 0$"
      ],
      "text/plain": [
       "<IPython.core.display.Math object>"
      ]
     },
     "metadata": {},
     "output_type": "display_data"
    },
    {
     "data": {
      "text/latex": [
       "$\\displaystyle [40]\\text{   }{{{opr}}}_{wf, sd, q{2}} - 0.6 \\cdot {{{cap}}}_{wf, sd, y{0}} \\leq 0$"
      ],
      "text/plain": [
       "<IPython.core.display.Math object>"
      ]
     },
     "metadata": {},
     "output_type": "display_data"
    },
    {
     "data": {
      "text/latex": [
       "$\\displaystyle [41]\\text{   }{{{opr}}}_{wf, sd, q{3}} - 0.5 \\cdot {{{cap}}}_{wf, sd, y{0}} \\leq 0$"
      ],
      "text/plain": [
       "<IPython.core.display.Math object>"
      ]
     },
     "metadata": {},
     "output_type": "display_data"
    },
    {
     "data": {
      "text/latex": [
       "$\\displaystyle [42]\\text{   }{{{opr}}}_{wf, ny, q{0}} - 0.6 \\cdot {{{cap}}}_{wf, ny, y{0}} \\leq 0$"
      ],
      "text/plain": [
       "<IPython.core.display.Math object>"
      ]
     },
     "metadata": {},
     "output_type": "display_data"
    },
    {
     "data": {
      "text/latex": [
       "$\\displaystyle [43]\\text{   }{{{opr}}}_{wf, ny, q{1}} - 0.5 \\cdot {{{cap}}}_{wf, ny, y{0}} \\leq 0$"
      ],
      "text/plain": [
       "<IPython.core.display.Math object>"
      ]
     },
     "metadata": {},
     "output_type": "display_data"
    },
    {
     "data": {
      "text/latex": [
       "$\\displaystyle [44]\\text{   }{{{opr}}}_{wf, ny, q{2}} - 0.4 \\cdot {{{cap}}}_{wf, ny, y{0}} \\leq 0$"
      ],
      "text/plain": [
       "<IPython.core.display.Math object>"
      ]
     },
     "metadata": {},
     "output_type": "display_data"
    },
    {
     "data": {
      "text/latex": [
       "$\\displaystyle [45]\\text{   }{{{opr}}}_{wf, ny, q{3}} - 0.3 \\cdot {{{cap}}}_{wf, ny, y{0}} \\leq 0$"
      ],
      "text/plain": [
       "<IPython.core.display.Math object>"
      ]
     },
     "metadata": {},
     "output_type": "display_data"
    }
   ],
   "source": [
    "m.wf.operate.prep(norm=True)(m.ho) <= [0.9, 0.8, 0.5, 0.7]\n",
    "m.wf.operate.prep(norm=True)(m.sd) <= [0.8, 0.7, 0.6, 0.5]\n",
    "m.wf.operate.prep(norm=True)(m.ny) <= [0.6, 0.5, 0.4, 0.3]\n",
    "m.operate.show(True)\n",
    "# m.wf.operate.prep(norm = True).forall(m.network.has) <= [[0.9, 0.8, 0.5, 0.7], [0.8, 0.7, 0.6, 0.5], [0.6, 0.5, 0.4, 0.3]]"
   ]
  },
  {
   "cell_type": "markdown",
   "id": "0889efcf",
   "metadata": {},
   "source": [
    "Calculations can also be provided for all locations as a list or repeated"
   ]
  },
  {
   "cell_type": "code",
   "execution_count": 11,
   "id": "9351a076",
   "metadata": {},
   "outputs": [
    {
     "name": "stdout",
     "output_type": "stream",
     "text": [
      "--- Mapping spend: (usd, ho, y, capacity, wf) → (usd, ntw, y, operate, wf)\n",
      "    Completed in 0.000s\n",
      "--- Mapping spend: (usd, sd, y, capacity, wf) → (usd, ntw, y, operate, wf)\n",
      "    Completed in 0.000s\n",
      "--- Mapping spend: (usd, ny, y, capacity, wf) → (usd, ntw, y, operate, wf)\n",
      "    Completed in 0.000s\n"
     ]
    }
   ],
   "source": [
    "m.wf.capacity[m.usd.spend].forall(m.network.has) == [90000, 70000, 60000]\n",
    "m.wf.operate[m.usd.spend] == 49"
   ]
  },
  {
   "cell_type": "markdown",
   "id": "99b036bb",
   "metadata": {},
   "source": [
    "In the case where location specific data is not provided, the parameter is assumed tuo apply to the network"
   ]
  },
  {
   "cell_type": "code",
   "execution_count": 12,
   "id": "ae7e2a28",
   "metadata": {},
   "outputs": [],
   "source": [
    "m.pv = Process()\n",
    "m.pv(m.power) == -1 * m.solar"
   ]
  },
  {
   "cell_type": "code",
   "execution_count": 13,
   "id": "9296564f",
   "metadata": {},
   "outputs": [
    {
     "name": "stdout",
     "output_type": "stream",
     "text": [
      "--- Binding capacity in domain (pv, ntw, y)\n",
      "    Completed in 0.000152587890625 seconds\n",
      "--- Binding capacity in domain (pv, ntw, y)\n",
      "    Completed in 0.00010704994201660156 seconds\n",
      "--- Binding operate in domain (pv, sd, q)\n",
      "--- Aspect (capacity) not defined at sd, a variable will be created assuming y as the temporal index\n",
      "--- Mapping capacity: (pv, sd, y) → (pv, ntw, y)\n",
      "    Completed in 0.000s\n",
      "    Completed in 0.00035309791564941406 seconds\n",
      "--- Binding operate in domain (pv, ho, q)\n",
      "--- Aspect (capacity) not defined at ho, a variable will be created assuming y as the temporal index\n",
      "--- Mapping capacity: (pv, ho, y) → (pv, ntw, y)\n",
      "    Completed in 0.000s\n",
      "    Completed in 0.00035691261291503906 seconds\n",
      "--- Binding operate in domain (pv, ny, q)\n",
      "--- Aspect (capacity) not defined at ny, a variable will be created assuming y as the temporal index\n",
      "--- Mapping capacity: (pv, ny, y) → (pv, ntw, y)\n",
      "    Completed in 0.000s\n",
      "    Completed in 0.0005171298980712891 seconds\n",
      "--- Mapping spend: (usd, ho, y, capacity, wf) → (usd, ntw, y, capacity, pv)\n",
      "    Completed in 0.000s\n",
      "--- Mapping spend: (usd, sd, y, capacity, wf) → (usd, ntw, y, capacity, pv)\n",
      "    Completed in 0.000s\n",
      "--- Mapping spend: (usd, ny, y, capacity, wf) → (usd, ntw, y, capacity, pv)\n",
      "    Completed in 0.000s\n",
      "--- Mapping spend: (usd, ho, y, capacity, wf) → (usd, ntw, y, operate, pv)\n",
      "    Completed in 0.000s\n",
      "--- Mapping spend: (usd, sd, y, capacity, wf) → (usd, ntw, y, operate, pv)\n",
      "    Completed in 0.000s\n",
      "--- Mapping spend: (usd, ny, y, capacity, wf) → (usd, ntw, y, operate, pv)\n",
      "    Completed in 0.000s\n",
      "--- Binding invcapacity in domain (power.lii, ntw, y)\n",
      "    Completed in 0.00010514259338378906 seconds\n",
      "--- Binding invcapacity in domain (power.lii, ntw, y)\n",
      "    Completed in 9.012222290039062e-05 seconds\n",
      "--- Mapping spend: (usd, ho, y, capacity, wf) → (usd, ntw, y, invcapacity, power.lii)\n",
      "    Completed in 0.000s\n",
      "--- Mapping spend: (usd, sd, y, capacity, wf) → (usd, ntw, y, invcapacity, power.lii)\n",
      "    Completed in 0.000s\n",
      "--- Mapping spend: (usd, ny, y, capacity, wf) → (usd, ntw, y, invcapacity, power.lii)\n",
      "    Completed in 0.000s\n",
      "--- General Resource Balance for power.lii in (ntw, y): initializing constraint, adding inventory(power.lii, ntw, y)\n",
      "--- Mapping spend: (usd, ho, y, capacity, wf) → (usd, ntw, y, inventory, power.lii)\n",
      "    Completed in 0.000s\n",
      "--- Mapping spend: (usd, sd, y, capacity, wf) → (usd, ntw, y, inventory, power.lii)\n",
      "    Completed in 0.000s\n",
      "--- Mapping spend: (usd, ny, y, capacity, wf) → (usd, ntw, y, inventory, power.lii)\n",
      "    Completed in 0.000s\n",
      "--- Binding capacity in domain (lii.charge, ntw, y)\n",
      "    Completed in 3.910064697265625e-05 seconds\n",
      "--- Binding operate in domain (lii.charge, ntw, y)\n",
      "    Completed in 6.365776062011719e-05 seconds\n",
      "--- Binding capacity in domain (lii.discharge, ntw, y)\n",
      "    Completed in 4.029273986816406e-05 seconds\n",
      "--- Binding operate in domain (lii.discharge, ntw, y)\n",
      "    Completed in 6.318092346191406e-05 seconds\n",
      "--- Mapping capacity: (wf, ho, y) → (wf, ntw, y)\n",
      "    Completed in 0.000s\n",
      "--- Mapping capacity: (wf, sd, y) → (wf, ntw, y)\n",
      "    Completed in 0.000s\n",
      "--- Mapping capacity: (wf, ny, y) → (wf, ntw, y)\n",
      "    Completed in 0.000s\n",
      "--- General Resource Balance for cement in (ntw, y): initializing constraint, adding consume(cement, ntw, y)\n",
      "    Completed in 6.103515625e-05 seconds\n",
      "--- Binding consume in domain (cement, ntw, y)\n",
      "    Completed in 3.647804260253906e-05 seconds\n",
      "--- Mapping spend: (usd, ho, y, capacity, wf) → (usd, ntw, y, consume, cement)\n",
      "    Completed in 0.000s\n",
      "--- Mapping spend: (usd, sd, y, capacity, wf) → (usd, ntw, y, consume, cement)\n",
      "    Completed in 0.000s\n",
      "--- Mapping spend: (usd, ny, y, capacity, wf) → (usd, ntw, y, consume, cement)\n",
      "    Completed in 0.000s\n",
      "--- General Resource Balance for cement in (ntw, y): adding use(cement, ntw, y, capacity, wf)\n",
      "    Completed in 5.8650970458984375e-05 seconds\n",
      "--- General Resource Balance for cement in (ntw, y): adding use(cement, ntw, y, capacity, pv)\n",
      "    Completed in 5.793571472167969e-05 seconds\n",
      "--- General Resource Balance for cement in (ntw, y): adding use(cement, ntw, y, invcapacity, power.lii)\n",
      "    Completed in 5.53131103515625e-05 seconds\n"
     ]
    }
   ],
   "source": [
    "m.pv.capacity.x <= 100\n",
    "m.pv.capacity.x >= 10\n",
    "m.pv.operate.prep(norm=True).forall(m.network.has) <= [\n",
    "    [0.6, 0.8, 0.9, 0.7],\n",
    "    [0.5, 0.7, 0.6, 0.5],\n",
    "    [0.4, 0.6, 0.5, 0.4],\n",
    "]\n",
    "m.pv.capacity[m.usd.spend] == 567000 + 872046\n",
    "m.pv.operate[m.usd.spend] == 90000\n",
    "\n",
    "m.lii = Storage()\n",
    "m.lii(m.power) == 0.9\n",
    "m.lii.capacity.x <= 100\n",
    "m.lii.capacity.x >= 10\n",
    "m.lii.capacity[m.usd.spend] == 1302182 + 41432\n",
    "m.lii.inventory[m.usd.spend] == 2000\n",
    "m.lii.charge.capacity <= 100\n",
    "m.lii.charge.operate <= 1\n",
    "m.lii.discharge.capacity <= 100\n",
    "m.lii.discharge.operate <= 1\n",
    "\n",
    "m.gwp = Environ()\n",
    "\n",
    "m.wf.capacity[m.gwp.emit] == 1000\n",
    "m.pv.capacity[m.gwp.emit] == 2000\n",
    "m.lii.capacity[m.gwp.emit] == 3000\n",
    "\n",
    "m.cement = Material()\n",
    "m.cement.consume <= 1000000\n",
    "m.cement.consume[m.usd.spend] == 17\n",
    "m.cement.consume[m.gwp.emit] == 0.9\n",
    "\n",
    "m.wf.capacity[m.cement.use] == 400\n",
    "m.pv.capacity[m.cement.use] == 560\n",
    "m.lii.capacity[m.cement.use] == 300"
   ]
  },
  {
   "cell_type": "markdown",
   "id": "b3f2f7a5",
   "metadata": {},
   "source": [
    "## Linkages "
   ]
  },
  {
   "cell_type": "markdown",
   "id": "0d06a78d",
   "metadata": {},
   "source": [
    "A grid of valid linkages can be created from sources to sinks.\n",
    "\n",
    "Linkages are always one directional, stating bi, created a link from source to sink and the other way round \n",
    "\n",
    "If multiple links exist between two locations with different distances, it is necessary to create named links. \n",
    "Again, it needs to be stated whether the links are bi directional "
   ]
  },
  {
   "cell_type": "code",
   "execution_count": 14,
   "id": "4164ba42",
   "metadata": {},
   "outputs": [
    {
     "data": {
      "text/plain": [
       "[ho-sd, sd-ho, road, -road]"
      ]
     },
     "execution_count": 14,
     "metadata": {},
     "output_type": "execute_result"
    }
   ],
   "source": [
    "m.Link(source=m.ho, sink=m.sd, dist=2000, bi=True)\n",
    "# m.Link(source = m.sd, sink=m.ny, dist = 1500)\n",
    "m.road = Linkage(source=m.ho, sink=m.ny, dist=3000, bi=True)\n",
    "# m.rail = Link(source = m.ho, sink=m.ny, dist = 5000, bi = True)\n",
    "m.linkages"
   ]
  },
  {
   "cell_type": "code",
   "execution_count": 15,
   "id": "02e86387",
   "metadata": {},
   "outputs": [
    {
     "name": "stdout",
     "output_type": "stream",
     "text": [
      "ho is source and sd is sink in ho-sd\n",
      "sd is source and ho is sink in sd-ho\n"
     ]
    },
    {
     "data": {
      "text/plain": [
       "[ho-sd, sd-ho]"
      ]
     },
     "execution_count": 15,
     "metadata": {},
     "output_type": "execute_result"
    }
   ],
   "source": [
    "m.ho.links(m.sd)"
   ]
  },
  {
   "cell_type": "markdown",
   "id": "72275a98",
   "metadata": {},
   "source": [
    "## Transits\n",
    "\n",
    "Declare some transport options between across the linkages \n"
   ]
  },
  {
   "cell_type": "code",
   "execution_count": 16,
   "id": "cfbb8036",
   "metadata": {},
   "outputs": [
    {
     "name": "stdout",
     "output_type": "stream",
     "text": [
      "--- Binding capacity in domain (grid, ho-sd, y)\n",
      "    Completed in 0.0001621246337890625 seconds\n",
      "--- Binding capacity in domain (grid, road, y)\n",
      "    Completed in 0.00010347366333007812 seconds\n",
      "--- Binding operate in domain (grid, ho-sd, q)\n",
      "    Completed in 0.00014781951904296875 seconds\n",
      "--- Binding operate in domain (grid, road, q)\n",
      "    Completed in 0.00012826919555664062 seconds\n",
      "--- Mapping spend: (usd, ho, y, capacity, wf) → (usd, ntw, y, operate, grid)\n",
      "    Completed in 0.000s\n",
      "--- Mapping spend: (usd, sd, y, capacity, wf) → (usd, ntw, y, operate, grid)\n",
      "    Completed in 0.000s\n",
      "--- Mapping spend: (usd, ny, y, capacity, wf) → (usd, ntw, y, operate, grid)\n",
      "    Completed in 0.000s\n",
      "--- Mapping spend: (usd, ho, y, capacity, wf) → (usd, ntw, y, capacity, grid)\n",
      "    Completed in 0.000s\n",
      "--- Mapping spend: (usd, sd, y, capacity, wf) → (usd, ntw, y, capacity, grid)\n",
      "    Completed in 0.000s\n",
      "--- Mapping spend: (usd, ny, y, capacity, wf) → (usd, ntw, y, capacity, grid)\n",
      "    Completed in 0.000s\n"
     ]
    }
   ],
   "source": [
    "m.declare(Resource, ['h2o', 'co2'])\n",
    "m.grid = Transport()\n",
    "m.grid(m.power) == -m.h2o + m.co2\n",
    "m.grid.capacity.x.forall([m.ho - m.sd, m.road]) <= 100\n",
    "m.grid.operate.prep(norm=True).forall([m.ho - m.sd, m.road]) <= [\n",
    "    [0.9, 0.8, 0.5, 0.7],\n",
    "    [0.8, 0.7, 0.6, 0.9],\n",
    "]\n",
    "m.grid.operate[m.usd.spend] == 2000\n",
    "m.grid.capacity[m.usd.spend] == 1000"
   ]
  },
  {
   "cell_type": "code",
   "execution_count": 17,
   "id": "cfcb4dcf",
   "metadata": {},
   "outputs": [
    {
     "name": "stdout",
     "output_type": "stream",
     "text": [
      "--- Assuming  pv capacity is unbounded in (ho, y)\n",
      "--- General Resource Balance for power in (ho, q): adding produce(power, ho, q, operate, pv)\n",
      "    Completed in 0.00011277198791503906 seconds\n",
      "--- General Resource Balance for solar in (ho, y): initializing constraint, adding expend(solar, ho, y, operate, pv)\n",
      "    Completed in 6.580352783203125e-05 seconds\n",
      "--- Mapping operate: (pv, ho, q) → (pv, ho, y)\n",
      "    Completed in 0.000s\n",
      "--- Mapping operate: (pv, ho, y) → (pv, ntw, y)\n",
      "    Completed in 0.000s\n",
      "--- General Resource Balance for power in (ho, q): adding produce(power, ho, q, operate, wf)\n",
      "    Completed in 0.00010800361633300781 seconds\n",
      "--- General Resource Balance for wind in (ho, y): initializing constraint, adding expend(wind, ho, y, operate, wf)\n",
      "    Completed in 6.437301635742188e-05 seconds\n",
      "--- Mapping operate: (wf, ho, q) → (wf, ho, y)\n",
      "    Completed in 0.000s\n",
      "--- Mapping operate: (wf, ho, y) → (wf, ntw, y)\n",
      "    Completed in 0.000s\n",
      "--- Assuming  power.lii inventory capacity is unbounded in (ho, y)\n",
      "--- Mapping invcapacity: (power.lii, ho, y) → (power.lii, ntw, y)\n",
      "    Completed in 0.000s\n",
      "--- Assuming inventory of power.lii is bound by inventory capacity in (ho, y)\n",
      "--- Assuming inventory of power.lii is bound by inventory capacity in (ho, q)\n",
      "--- Mapping inventory: (power.lii, ho, q) → (power.lii, ntw, q)\n",
      "--- Mapping inventory: (power.lii, ntw, q) → (power.lii, ntw, y)\n",
      "    Completed in 0.000s\n",
      "--- General Resource Balance for power.lii in (ntw, q): initializing constraint, adding inventory(power.lii, ntw, q)\n",
      "    Completed in 0.00017762184143066406 seconds\n",
      "    Completed in 0.001s\n",
      "--- General Resource Balance for power.lii in (ho, q): initializing constraint, adding inventory(power.lii, ho, q)\n",
      "    Completed in 0.00014901161193847656 seconds\n",
      "--- Binding inventory in domain (power.lii, ho, q)\n",
      "    Completed in 8.797645568847656e-05 seconds\n",
      "--- Assuming  lii.charge capacity is unbounded in (ho, y)\n",
      "--- Mapping capacity: (lii.charge, ho, y) → (lii.charge, ntw, y)\n",
      "    Completed in 0.000s\n",
      "--- Assuming operation of lii.charge is bound by capacity in (ho, y)\n",
      "--- Mapping operate: (lii.charge, ho, y) → (lii.charge, ntw, y)\n",
      "    Completed in 0.000s\n",
      "--- Binding operate in domain (lii.charge, ho, y)\n",
      "    Completed in 5.745887756347656e-05 seconds\n",
      "--- General Resource Balance for power.lii in (ho, q): adding produce(power.lii, ho, q, operate, lii.charge)\n",
      "    Completed in 0.0014927387237548828 seconds\n",
      "--- Mapping operate: (lii.charge, ho, q) → (lii.charge, ho, y)\n",
      "    Completed in 0.000s\n",
      "--- Mapping operate: (lii.charge, ho, q) → (lii.charge, ntw, q)\n",
      "--- Mapping operate: (lii.charge, ntw, q) → (lii.charge, ntw, y)\n",
      "    Completed in 0.000s\n",
      "    Completed in 0.000s\n",
      "--- General Resource Balance for power in (ho, q): adding expend(power, ho, q, operate, lii.charge)\n",
      "    Completed in 0.00010395050048828125 seconds\n",
      "--- Assuming  lii.discharge capacity is unbounded in (ho, y)\n",
      "--- Mapping capacity: (lii.discharge, ho, y) → (lii.discharge, ntw, y)\n",
      "    Completed in 0.000s\n",
      "--- Assuming operation of lii.discharge is bound by capacity in (ho, y)\n",
      "--- Mapping operate: (lii.discharge, ho, y) → (lii.discharge, ntw, y)\n",
      "    Completed in 0.000s\n",
      "--- Binding operate in domain (lii.discharge, ho, y)\n",
      "    Completed in 5.91278076171875e-05 seconds\n",
      "--- General Resource Balance for power in (ho, q): adding produce(power, ho, q, operate, lii.discharge)\n",
      "    Completed in 8.916854858398438e-05 seconds\n",
      "--- Mapping operate: (lii.discharge, ho, q) → (lii.discharge, ho, y)\n",
      "    Completed in 0.000s\n",
      "--- Mapping operate: (lii.discharge, ho, q) → (lii.discharge, ntw, q)\n",
      "--- Mapping operate: (lii.discharge, ntw, q) → (lii.discharge, ntw, y)\n",
      "    Completed in 0.000s\n",
      "    Completed in 0.000s\n",
      "--- General Resource Balance for power.lii in (ho, q): adding expend(power.lii, ho, q, operate, lii.discharge)\n",
      "    Completed in 9.34600830078125e-05 seconds\n",
      "--- Assuming  pv capacity is unbounded in (sd, y)\n",
      "--- General Resource Balance for power in (sd, q): adding produce(power, sd, q, operate, pv)\n",
      "    Completed in 8.153915405273438e-05 seconds\n",
      "--- General Resource Balance for solar in (sd, y): initializing constraint, adding expend(solar, sd, y, operate, pv)\n",
      "    Completed in 5.936622619628906e-05 seconds\n",
      "--- Mapping operate: (pv, sd, q) → (pv, sd, y)\n",
      "    Completed in 0.000s\n",
      "--- Mapping operate: (pv, sd, y) → (pv, ntw, y)\n",
      "    Completed in 0.000s\n",
      "--- General Resource Balance for power in (sd, q): adding produce(power, sd, q, operate, wf)\n",
      "    Completed in 8.416175842285156e-05 seconds\n",
      "--- General Resource Balance for wind in (sd, y): initializing constraint, adding expend(wind, sd, y, operate, wf)\n",
      "    Completed in 6.222724914550781e-05 seconds\n",
      "--- Mapping operate: (wf, sd, q) → (wf, sd, y)\n",
      "    Completed in 0.000s\n",
      "--- Mapping operate: (wf, sd, y) → (wf, ntw, y)\n",
      "    Completed in 0.000s\n",
      "--- Assuming  power.lii inventory capacity is unbounded in (sd, y)\n",
      "--- Mapping invcapacity: (power.lii, sd, y) → (power.lii, ntw, y)\n",
      "    Completed in 0.000s\n",
      "--- Assuming inventory of power.lii is bound by inventory capacity in (sd, y)\n",
      "--- Assuming inventory of power.lii is bound by inventory capacity in (sd, q)\n",
      "--- Mapping inventory: (power.lii, sd, q) → (power.lii, ntw, q)\n",
      "    Completed in 0.000s\n",
      "--- General Resource Balance for power.lii in (sd, q): initializing constraint, adding inventory(power.lii, sd, q)\n",
      "    Completed in 0.0001494884490966797 seconds\n",
      "--- Binding inventory in domain (power.lii, sd, q)\n",
      "    Completed in 8.7738037109375e-05 seconds\n",
      "--- Assuming  lii.charge capacity is unbounded in (sd, y)\n",
      "--- Mapping capacity: (lii.charge, sd, y) → (lii.charge, ntw, y)\n",
      "    Completed in 0.000s\n",
      "--- Assuming operation of lii.charge is bound by capacity in (sd, y)\n",
      "--- Mapping operate: (lii.charge, sd, y) → (lii.charge, ntw, y)\n",
      "    Completed in 0.000s\n",
      "--- Binding operate in domain (lii.charge, sd, y)\n",
      "    Completed in 6.246566772460938e-05 seconds\n",
      "--- General Resource Balance for power.lii in (sd, q): adding produce(power.lii, sd, q, operate, lii.charge)\n",
      "    Completed in 9.1552734375e-05 seconds\n",
      "--- Mapping operate: (lii.charge, sd, q) → (lii.charge, sd, y)\n",
      "    Completed in 0.000s\n",
      "--- Mapping operate: (lii.charge, sd, q) → (lii.charge, ntw, q)\n",
      "    Completed in 0.000s\n",
      "--- General Resource Balance for power in (sd, q): adding expend(power, sd, q, operate, lii.charge)\n",
      "    Completed in 8.416175842285156e-05 seconds\n",
      "--- Assuming  lii.discharge capacity is unbounded in (sd, y)\n",
      "--- Mapping capacity: (lii.discharge, sd, y) → (lii.discharge, ntw, y)\n",
      "    Completed in 0.000s\n",
      "--- Assuming operation of lii.discharge is bound by capacity in (sd, y)\n",
      "--- Mapping operate: (lii.discharge, sd, y) → (lii.discharge, ntw, y)\n",
      "    Completed in 0.000s\n",
      "--- Binding operate in domain (lii.discharge, sd, y)\n",
      "    Completed in 6.771087646484375e-05 seconds\n",
      "--- General Resource Balance for power in (sd, q): adding produce(power, sd, q, operate, lii.discharge)\n",
      "    Completed in 0.0001010894775390625 seconds\n",
      "--- Mapping operate: (lii.discharge, sd, q) → (lii.discharge, sd, y)\n",
      "    Completed in 0.000s\n",
      "--- Mapping operate: (lii.discharge, sd, q) → (lii.discharge, ntw, q)\n",
      "    Completed in 0.000s\n",
      "--- General Resource Balance for power.lii in (sd, q): adding expend(power.lii, sd, q, operate, lii.discharge)\n",
      "    Completed in 0.00011920928955078125 seconds\n",
      "--- Assuming  pv capacity is unbounded in (ny, y)\n",
      "--- General Resource Balance for power in (ny, q): adding produce(power, ny, q, operate, pv)\n",
      "    Completed in 9.441375732421875e-05 seconds\n",
      "--- General Resource Balance for solar in (ny, y): initializing constraint, adding expend(solar, ny, y, operate, pv)\n",
      "    Completed in 6.937980651855469e-05 seconds\n",
      "--- Mapping operate: (pv, ny, q) → (pv, ny, y)\n",
      "    Completed in 0.000s\n",
      "--- Mapping operate: (pv, ny, y) → (pv, ntw, y)\n",
      "    Completed in 0.000s\n",
      "--- General Resource Balance for power in (ny, q): adding produce(power, ny, q, operate, wf)\n",
      "    Completed in 9.846687316894531e-05 seconds\n",
      "--- General Resource Balance for wind in (ny, y): initializing constraint, adding expend(wind, ny, y, operate, wf)\n",
      "    Completed in 6.985664367675781e-05 seconds\n",
      "--- Mapping operate: (wf, ny, q) → (wf, ny, y)\n",
      "    Completed in 0.000s\n",
      "--- Mapping operate: (wf, ny, y) → (wf, ntw, y)\n",
      "    Completed in 0.000s\n",
      "--- Assuming  power.lii inventory capacity is unbounded in (ny, y)\n",
      "--- Mapping invcapacity: (power.lii, ny, y) → (power.lii, ntw, y)\n",
      "    Completed in 0.000s\n",
      "--- Assuming inventory of power.lii is bound by inventory capacity in (ny, y)\n",
      "--- Assuming inventory of power.lii is bound by inventory capacity in (ny, q)\n",
      "--- Mapping inventory: (power.lii, ny, q) → (power.lii, ntw, q)\n",
      "    Completed in 0.000s\n",
      "--- General Resource Balance for power.lii in (ny, q): initializing constraint, adding inventory(power.lii, ny, q)\n",
      "    Completed in 0.0001761913299560547 seconds\n",
      "--- Binding inventory in domain (power.lii, ny, q)\n",
      "    Completed in 9.274482727050781e-05 seconds\n",
      "--- Assuming  lii.charge capacity is unbounded in (ny, y)\n",
      "--- Mapping capacity: (lii.charge, ny, y) → (lii.charge, ntw, y)\n",
      "    Completed in 0.000s\n",
      "--- Assuming operation of lii.charge is bound by capacity in (ny, y)\n",
      "--- Mapping operate: (lii.charge, ny, y) → (lii.charge, ntw, y)\n",
      "    Completed in 0.000s\n",
      "--- Binding operate in domain (lii.charge, ny, y)\n",
      "    Completed in 0.0001704692840576172 seconds\n",
      "--- General Resource Balance for power.lii in (ny, q): adding produce(power.lii, ny, q, operate, lii.charge)\n",
      "    Completed in 9.799003601074219e-05 seconds\n",
      "--- Mapping operate: (lii.charge, ny, q) → (lii.charge, ny, y)\n",
      "    Completed in 0.000s\n",
      "--- Mapping operate: (lii.charge, ny, q) → (lii.charge, ntw, q)\n",
      "    Completed in 0.000s\n",
      "--- General Resource Balance for power in (ny, q): adding expend(power, ny, q, operate, lii.charge)\n",
      "    Completed in 9.918212890625e-05 seconds\n",
      "--- Assuming  lii.discharge capacity is unbounded in (ny, y)\n",
      "--- Mapping capacity: (lii.discharge, ny, y) → (lii.discharge, ntw, y)\n",
      "    Completed in 0.000s\n",
      "--- Assuming operation of lii.discharge is bound by capacity in (ny, y)\n",
      "--- Mapping operate: (lii.discharge, ny, y) → (lii.discharge, ntw, y)\n",
      "    Completed in 0.000s\n",
      "--- Binding operate in domain (lii.discharge, ny, y)\n",
      "    Completed in 6.508827209472656e-05 seconds\n",
      "--- General Resource Balance for power in (ny, q): adding produce(power, ny, q, operate, lii.discharge)\n",
      "    Completed in 9.489059448242188e-05 seconds\n",
      "--- Mapping operate: (lii.discharge, ny, q) → (lii.discharge, ny, y)\n",
      "    Completed in 0.000s\n",
      "--- Mapping operate: (lii.discharge, ny, q) → (lii.discharge, ntw, q)\n",
      "    Completed in 0.000s\n",
      "--- General Resource Balance for power.lii in (ny, q): adding expend(power.lii, ny, q, operate, lii.discharge)\n",
      "    Completed in 9.393692016601562e-05 seconds\n"
     ]
    }
   ],
   "source": [
    "m.ho.locate(m.pv, m.wf, m.lii)\n",
    "m.sd.locate(m.pv, m.wf, m.lii)\n",
    "m.ny.locate(m.pv, m.wf, m.lii)"
   ]
  },
  {
   "cell_type": "code",
   "execution_count": 18,
   "id": "ff54550d",
   "metadata": {},
   "outputs": [
    {
     "data": {
      "text/markdown": [
       "# Mathematical Program for Program(example4)"
      ],
      "text/plain": [
       "<IPython.core.display.Markdown object>"
      ]
     },
     "metadata": {},
     "output_type": "display_data"
    },
    {
     "data": {
      "text/markdown": [
       "<br><br>"
      ],
      "text/plain": [
       "<IPython.core.display.Markdown object>"
      ]
     },
     "metadata": {},
     "output_type": "display_data"
    },
    {
     "data": {
      "text/markdown": [
       "## Index Sets"
      ],
      "text/plain": [
       "<IPython.core.display.Markdown object>"
      ]
     },
     "metadata": {},
     "output_type": "display_data"
    },
    {
     "data": {
      "text/latex": [
       "$\\displaystyle currencies = \\{ usd \\}$"
      ],
      "text/plain": [
       "<IPython.core.display.Math object>"
      ]
     },
     "metadata": {},
     "output_type": "display_data"
    },
    {
     "data": {
      "text/latex": [
       "$\\displaystyle locations = \\{ ho, sd, ny, ntw \\}$"
      ],
      "text/plain": [
       "<IPython.core.display.Math object>"
      ]
     },
     "metadata": {},
     "output_type": "display_data"
    },
    {
     "data": {
      "text/latex": [
       "$\\displaystyle resources = \\{ power, wind, solar, power.lii, h2o, co2 \\}$"
      ],
      "text/plain": [
       "<IPython.core.display.Math object>"
      ]
     },
     "metadata": {},
     "output_type": "display_data"
    },
    {
     "data": {
      "text/latex": [
       "$\\displaystyle y = \\{ {y_{0}} \\}$"
      ],
      "text/plain": [
       "<IPython.core.display.Math object>"
      ]
     },
     "metadata": {},
     "output_type": "display_data"
    },
    {
     "data": {
      "text/latex": [
       "$\\displaystyle q = \\{ {q_{0}}, {q_{1}}, {q_{2}}, {q_{3}} \\}$"
      ],
      "text/plain": [
       "<IPython.core.display.Math object>"
      ]
     },
     "metadata": {},
     "output_type": "display_data"
    },
    {
     "data": {
      "text/latex": [
       "$\\displaystyle processes = \\{ wf, pv, lii.charge, lii.discharge \\}$"
      ],
      "text/plain": [
       "<IPython.core.display.Math object>"
      ]
     },
     "metadata": {},
     "output_type": "display_data"
    },
    {
     "data": {
      "text/latex": [
       "$\\displaystyle storages = \\{ lii \\}$"
      ],
      "text/plain": [
       "<IPython.core.display.Math object>"
      ]
     },
     "metadata": {},
     "output_type": "display_data"
    },
    {
     "data": {
      "text/latex": [
       "$\\displaystyle materials = \\{ cement \\}$"
      ],
      "text/plain": [
       "<IPython.core.display.Math object>"
      ]
     },
     "metadata": {},
     "output_type": "display_data"
    },
    {
     "data": {
      "text/latex": [
       "$\\displaystyle linkages = \\{ ho-sd, sd-ho, road, -road \\}$"
      ],
      "text/plain": [
       "<IPython.core.display.Math object>"
      ]
     },
     "metadata": {},
     "output_type": "display_data"
    },
    {
     "data": {
      "text/markdown": [
       "<br><br>"
      ],
      "text/plain": [
       "<IPython.core.display.Markdown object>"
      ]
     },
     "metadata": {},
     "output_type": "display_data"
    },
    {
     "data": {
      "text/markdown": [
       "## s.t."
      ],
      "text/plain": [
       "<IPython.core.display.Markdown object>"
      ]
     },
     "metadata": {},
     "output_type": "display_data"
    },
    {
     "data": {
      "text/markdown": [
       "### Bound Constraint Sets"
      ],
      "text/plain": [
       "<IPython.core.display.Markdown object>"
      ]
     },
     "metadata": {},
     "output_type": "display_data"
    },
    {
     "data": {
      "text/latex": [
       "$\\displaystyle [1]\\text{   }{{{cons}}}_{solar, ntw, y} - 1200 \\leq 0$"
      ],
      "text/plain": [
       "<IPython.core.display.Math object>"
      ]
     },
     "metadata": {},
     "output_type": "display_data"
    },
    {
     "data": {
      "text/latex": [
       "$\\displaystyle [3]\\text{   }{{{{cons}}}}_{wind, ntw, y} - 1200 \\leq 0$"
      ],
      "text/plain": [
       "<IPython.core.display.Math object>"
      ]
     },
     "metadata": {},
     "output_type": "display_data"
    },
    {
     "data": {
      "text/latex": [
       "$\\displaystyle [5]\\text{   }-{{{rlse}}}_{power, ho, q} + {φ}_{} \\leq 0$"
      ],
      "text/plain": [
       "<IPython.core.display.Math object>"
      ]
     },
     "metadata": {},
     "output_type": "display_data"
    },
    {
     "data": {
      "text/latex": [
       "$\\displaystyle [7]\\text{   }-{{{{rlse}}}}_{power, sd, q} + {φ}_{} \\leq 0$"
      ],
      "text/plain": [
       "<IPython.core.display.Math object>"
      ]
     },
     "metadata": {},
     "output_type": "display_data"
    },
    {
     "data": {
      "text/latex": [
       "$\\displaystyle [9]\\text{   }-{{{{rlse}}}}_{power, ny, q} + {φ}_{} \\leq 0$"
      ],
      "text/plain": [
       "<IPython.core.display.Math object>"
      ]
     },
     "metadata": {},
     "output_type": "display_data"
    },
    {
     "data": {
      "text/latex": [
       "$\\displaystyle [10]\\text{   }10 \\cdot {{{\\breve{{cap}}}}}_{wf, sd, y} - {{{cap}}}_{wf, sd, y} \\leq 0$"
      ],
      "text/plain": [
       "<IPython.core.display.Math object>"
      ]
     },
     "metadata": {},
     "output_type": "display_data"
    },
    {
     "data": {
      "text/latex": [
       "$\\displaystyle [11]\\text{   }7 \\cdot {{{{\\breve{{cap}}}}}}_{wf, ho, y} - {{{{cap}}}}_{wf, ho, y} \\leq 0$"
      ],
      "text/plain": [
       "<IPython.core.display.Math object>"
      ]
     },
     "metadata": {},
     "output_type": "display_data"
    },
    {
     "data": {
      "text/latex": [
       "$\\displaystyle [12]\\text{   }20 \\cdot {{{{\\breve{{cap}}}}}}_{wf, ny, y} - {{{{cap}}}}_{wf, ny, y} \\leq 0$"
      ],
      "text/plain": [
       "<IPython.core.display.Math object>"
      ]
     },
     "metadata": {},
     "output_type": "display_data"
    },
    {
     "data": {
      "text/latex": [
       "$\\displaystyle [13]\\text{   }{{{{cap}}}}_{wf, sd, y} - 100 \\cdot {{{{\\breve{{cap}}}}}}_{wf, sd, y} \\leq 0$"
      ],
      "text/plain": [
       "<IPython.core.display.Math object>"
      ]
     },
     "metadata": {},
     "output_type": "display_data"
    },
    {
     "data": {
      "text/latex": [
       "$\\displaystyle [14]\\text{   }{{{{cap}}}}_{wf, ho, y} - 100 \\cdot {{{{\\breve{{cap}}}}}}_{wf, ho, y} \\leq 0$"
      ],
      "text/plain": [
       "<IPython.core.display.Math object>"
      ]
     },
     "metadata": {},
     "output_type": "display_data"
    },
    {
     "data": {
      "text/latex": [
       "$\\displaystyle [15]\\text{   }{{{{cap}}}}_{wf, ny, y} - 100 \\cdot {{{{\\breve{{cap}}}}}}_{wf, ny, y} \\leq 0$"
      ],
      "text/plain": [
       "<IPython.core.display.Math object>"
      ]
     },
     "metadata": {},
     "output_type": "display_data"
    },
    {
     "data": {
      "text/latex": [
       "$\\displaystyle [16]\\text{   }{{{opr}}}_{wf, ho, q} - {φ}_{} \\cdot {{{{cap}}}}_{wf, ho, y} \\leq 0$"
      ],
      "text/plain": [
       "<IPython.core.display.Math object>"
      ]
     },
     "metadata": {},
     "output_type": "display_data"
    },
    {
     "data": {
      "text/latex": [
       "$\\displaystyle [17]\\text{   }{{{{opr}}}}_{wf, sd, q} - {φ}_{} \\cdot {{{{cap}}}}_{wf, sd, y} \\leq 0$"
      ],
      "text/plain": [
       "<IPython.core.display.Math object>"
      ]
     },
     "metadata": {},
     "output_type": "display_data"
    },
    {
     "data": {
      "text/latex": [
       "$\\displaystyle [18]\\text{   }{{{{opr}}}}_{wf, ny, q} - {φ}_{} \\cdot {{{{cap}}}}_{wf, ny, y} \\leq 0$"
      ],
      "text/plain": [
       "<IPython.core.display.Math object>"
      ]
     },
     "metadata": {},
     "output_type": "display_data"
    },
    {
     "data": {
      "text/latex": [
       "$\\displaystyle [24]\\text{   }{{{{cap}}}}_{pv, ntw, y} - 100 \\cdot {{{{\\breve{{cap}}}}}}_{pv, ntw, y} \\leq 0$"
      ],
      "text/plain": [
       "<IPython.core.display.Math object>"
      ]
     },
     "metadata": {},
     "output_type": "display_data"
    },
    {
     "data": {
      "text/latex": [
       "$\\displaystyle [25]\\text{   }10 \\cdot {{{{\\breve{{cap}}}}}}_{pv, ntw, y} - {{{{cap}}}}_{pv, ntw, y} \\leq 0$"
      ],
      "text/plain": [
       "<IPython.core.display.Math object>"
      ]
     },
     "metadata": {},
     "output_type": "display_data"
    },
    {
     "data": {
      "text/latex": [
       "$\\displaystyle [27]\\text{   }{{{{opr}}}}_{pv, sd, q} - {φ}_{} \\cdot {{{{cap}}}}_{pv, sd, y} \\leq 0$"
      ],
      "text/plain": [
       "<IPython.core.display.Math object>"
      ]
     },
     "metadata": {},
     "output_type": "display_data"
    },
    {
     "data": {
      "text/latex": [
       "$\\displaystyle [28]\\text{   }{{{{opr}}}}_{pv, ho, q} - {φ}_{} \\cdot {{{{cap}}}}_{pv, ho, y} \\leq 0$"
      ],
      "text/plain": [
       "<IPython.core.display.Math object>"
      ]
     },
     "metadata": {},
     "output_type": "display_data"
    },
    {
     "data": {
      "text/latex": [
       "$\\displaystyle [29]\\text{   }{{{{opr}}}}_{pv, ny, q} - {φ}_{} \\cdot {{{{cap}}}}_{pv, ny, y} \\leq 0$"
      ],
      "text/plain": [
       "<IPython.core.display.Math object>"
      ]
     },
     "metadata": {},
     "output_type": "display_data"
    },
    {
     "data": {
      "text/latex": [
       "$\\displaystyle [34]\\text{   }{{{icap}}}_{power.lii, ntw, y} - 100 \\cdot {{{\\breve{{icap}}}}}_{power.lii, ntw, y} \\leq 0$"
      ],
      "text/plain": [
       "<IPython.core.display.Math object>"
      ]
     },
     "metadata": {},
     "output_type": "display_data"
    },
    {
     "data": {
      "text/latex": [
       "$\\displaystyle [35]\\text{   }10 \\cdot {{{\\breve{{icap}}}}}_{power.lii, ntw, y} - {{{icap}}}_{power.lii, ntw, y} \\leq 0$"
      ],
      "text/plain": [
       "<IPython.core.display.Math object>"
      ]
     },
     "metadata": {},
     "output_type": "display_data"
    },
    {
     "data": {
      "text/latex": [
       "$\\displaystyle [40]\\text{   }{{{{cap}}}}_{lii.charge, ntw, y} - 100 \\leq 0$"
      ],
      "text/plain": [
       "<IPython.core.display.Math object>"
      ]
     },
     "metadata": {},
     "output_type": "display_data"
    },
    {
     "data": {
      "text/latex": [
       "$\\displaystyle [41]\\text{   }{{{{opr}}}}_{lii.charge, ntw, y} - {{{{cap}}}}_{lii.charge, ntw, y} \\leq 0$"
      ],
      "text/plain": [
       "<IPython.core.display.Math object>"
      ]
     },
     "metadata": {},
     "output_type": "display_data"
    },
    {
     "data": {
      "text/latex": [
       "$\\displaystyle [42]\\text{   }{{{{cap}}}}_{lii.discharge, ntw, y} - 100 \\leq 0$"
      ],
      "text/plain": [
       "<IPython.core.display.Math object>"
      ]
     },
     "metadata": {},
     "output_type": "display_data"
    },
    {
     "data": {
      "text/latex": [
       "$\\displaystyle [43]\\text{   }{{{{opr}}}}_{lii.discharge, ntw, y} - {{{{cap}}}}_{lii.discharge, ntw, y} \\leq 0$"
      ],
      "text/plain": [
       "<IPython.core.display.Math object>"
      ]
     },
     "metadata": {},
     "output_type": "display_data"
    },
    {
     "data": {
      "text/latex": [
       "$\\displaystyle [49]\\text{   }{{{{cons}}}}_{cement, ntw, y} - 1000000 \\leq 0$"
      ],
      "text/plain": [
       "<IPython.core.display.Math object>"
      ]
     },
     "metadata": {},
     "output_type": "display_data"
    },
    {
     "data": {
      "text/latex": [
       "$\\displaystyle [56]\\text{   }{{{{cap}}}}_{grid, ho-sd, y} - 100 \\cdot {{{{\\breve{{cap}}}}}}_{grid, ho-sd, y} \\leq 0$"
      ],
      "text/plain": [
       "<IPython.core.display.Math object>"
      ]
     },
     "metadata": {},
     "output_type": "display_data"
    },
    {
     "data": {
      "text/latex": [
       "$\\displaystyle [57]\\text{   }{{{{cap}}}}_{grid, road, y} - 100 \\cdot {{{{\\breve{{cap}}}}}}_{grid, road, y} \\leq 0$"
      ],
      "text/plain": [
       "<IPython.core.display.Math object>"
      ]
     },
     "metadata": {},
     "output_type": "display_data"
    },
    {
     "data": {
      "text/latex": [
       "$\\displaystyle [58]\\text{   }{{{{opr}}}}_{grid, ho-sd, q} - {φ}_{} \\cdot {{{{cap}}}}_{grid, ho-sd, y} \\leq 0$"
      ],
      "text/plain": [
       "<IPython.core.display.Math object>"
      ]
     },
     "metadata": {},
     "output_type": "display_data"
    },
    {
     "data": {
      "text/latex": [
       "$\\displaystyle [59]\\text{   }{{{{opr}}}}_{grid, road, q} - {φ}_{} \\cdot {{{{cap}}}}_{grid, road, y} \\leq 0$"
      ],
      "text/plain": [
       "<IPython.core.display.Math object>"
      ]
     },
     "metadata": {},
     "output_type": "display_data"
    },
    {
     "data": {
      "text/latex": [
       "$\\displaystyle [79]\\text{   }{{{{inv}}}}_{power.lii, ho, q} - {{{{icap}}}}_{power.lii, ho, y} \\leq 0$"
      ],
      "text/plain": [
       "<IPython.core.display.Math object>"
      ]
     },
     "metadata": {},
     "output_type": "display_data"
    },
    {
     "data": {
      "text/latex": [
       "$\\displaystyle [82]\\text{   }{{{{opr}}}}_{lii.charge, ho, y} - {{{{cap}}}}_{lii.charge, ho, y} \\leq 0$"
      ],
      "text/plain": [
       "<IPython.core.display.Math object>"
      ]
     },
     "metadata": {},
     "output_type": "display_data"
    },
    {
     "data": {
      "text/latex": [
       "$\\displaystyle [90]\\text{   }{{{{opr}}}}_{lii.discharge, ho, y} - {{{{cap}}}}_{lii.discharge, ho, y} \\leq 0$"
      ],
      "text/plain": [
       "<IPython.core.display.Math object>"
      ]
     },
     "metadata": {},
     "output_type": "display_data"
    },
    {
     "data": {
      "text/latex": [
       "$\\displaystyle [105]\\text{   }{{{{inv}}}}_{power.lii, sd, q} - {{{{icap}}}}_{power.lii, sd, y} \\leq 0$"
      ],
      "text/plain": [
       "<IPython.core.display.Math object>"
      ]
     },
     "metadata": {},
     "output_type": "display_data"
    },
    {
     "data": {
      "text/latex": [
       "$\\displaystyle [106]\\text{   }{{{{opr}}}}_{lii.charge, sd, y} - {{{{cap}}}}_{lii.charge, sd, y} \\leq 0$"
      ],
      "text/plain": [
       "<IPython.core.display.Math object>"
      ]
     },
     "metadata": {},
     "output_type": "display_data"
    },
    {
     "data": {
      "text/latex": [
       "$\\displaystyle [110]\\text{   }{{{{opr}}}}_{lii.discharge, sd, y} - {{{{cap}}}}_{lii.discharge, sd, y} \\leq 0$"
      ],
      "text/plain": [
       "<IPython.core.display.Math object>"
      ]
     },
     "metadata": {},
     "output_type": "display_data"
    },
    {
     "data": {
      "text/latex": [
       "$\\displaystyle [123]\\text{   }{{{{inv}}}}_{power.lii, ny, q} - {{{{icap}}}}_{power.lii, ny, y} \\leq 0$"
      ],
      "text/plain": [
       "<IPython.core.display.Math object>"
      ]
     },
     "metadata": {},
     "output_type": "display_data"
    },
    {
     "data": {
      "text/latex": [
       "$\\displaystyle [124]\\text{   }{{{{opr}}}}_{lii.charge, ny, y} - {{{{cap}}}}_{lii.charge, ny, y} \\leq 0$"
      ],
      "text/plain": [
       "<IPython.core.display.Math object>"
      ]
     },
     "metadata": {},
     "output_type": "display_data"
    },
    {
     "data": {
      "text/latex": [
       "$\\displaystyle [128]\\text{   }{{{{opr}}}}_{lii.discharge, ny, y} - {{{{cap}}}}_{lii.discharge, ny, y} \\leq 0$"
      ],
      "text/plain": [
       "<IPython.core.display.Math object>"
      ]
     },
     "metadata": {},
     "output_type": "display_data"
    },
    {
     "data": {
      "text/markdown": [
       "### Calculation Constraint Sets"
      ],
      "text/plain": [
       "<IPython.core.display.Markdown object>"
      ]
     },
     "metadata": {},
     "output_type": "display_data"
    },
    {
     "data": {
      "text/latex": [
       "$\\displaystyle [19]\\text{   }{{spend}}_{usd, sd, y, {capacity}, wf} - 90000 \\cdot {{{{cap}}}}_{wf, sd, y} = 0$"
      ],
      "text/plain": [
       "<IPython.core.display.Math object>"
      ]
     },
     "metadata": {},
     "output_type": "display_data"
    },
    {
     "data": {
      "text/latex": [
       "$\\displaystyle [20]\\text{   }{{{spend}}}_{usd, ho, y, {capacity}, wf} - 70000 \\cdot {{{{cap}}}}_{wf, ho, y} = 0$"
      ],
      "text/plain": [
       "<IPython.core.display.Math object>"
      ]
     },
     "metadata": {},
     "output_type": "display_data"
    },
    {
     "data": {
      "text/latex": [
       "$\\displaystyle [21]\\text{   }{{{spend}}}_{usd, ny, y, {capacity}, wf} - 60000 \\cdot {{{{cap}}}}_{wf, ny, y} = 0$"
      ],
      "text/plain": [
       "<IPython.core.display.Math object>"
      ]
     },
     "metadata": {},
     "output_type": "display_data"
    },
    {
     "data": {
      "text/latex": [
       "$\\displaystyle [23]\\text{   }{{{spend}}}_{usd, ntw, y, {operate}, wf} - 49 \\cdot {{{{opr}}}}_{wf, ntw, y} = 0$"
      ],
      "text/plain": [
       "<IPython.core.display.Math object>"
      ]
     },
     "metadata": {},
     "output_type": "display_data"
    },
    {
     "data": {
      "text/latex": [
       "$\\displaystyle [31]\\text{   }{{{spend}}}_{usd, ntw, y, {capacity}, pv} - 1439046 \\cdot {{{{cap}}}}_{pv, ntw, y} = 0$"
      ],
      "text/plain": [
       "<IPython.core.display.Math object>"
      ]
     },
     "metadata": {},
     "output_type": "display_data"
    },
    {
     "data": {
      "text/latex": [
       "$\\displaystyle [33]\\text{   }{{{spend}}}_{usd, ntw, y, {operate}, pv} - 90000 \\cdot {{{{opr}}}}_{pv, ntw, y} = 0$"
      ],
      "text/plain": [
       "<IPython.core.display.Math object>"
      ]
     },
     "metadata": {},
     "output_type": "display_data"
    },
    {
     "data": {
      "text/latex": [
       "$\\displaystyle [37]\\text{   }{{{spend}}}_{usd, ntw, y, {invcapacity}, power.lii} - 1343614 \\cdot {{{icap}}}_{power.lii, ntw, y} = 0$"
      ],
      "text/plain": [
       "<IPython.core.display.Math object>"
      ]
     },
     "metadata": {},
     "output_type": "display_data"
    },
    {
     "data": {
      "text/latex": [
       "$\\displaystyle [39]\\text{   }{{{spend}}}_{usd, ntw, y, {inventory}, power.lii} - 2000 \\cdot {{{inv}}}_{power.lii, ntw, y} = 0$"
      ],
      "text/plain": [
       "<IPython.core.display.Math object>"
      ]
     },
     "metadata": {},
     "output_type": "display_data"
    },
    {
     "data": {
      "text/latex": [
       "$\\displaystyle [45]\\text{   }{{emit}}_{gwp, ntw, y, {capacity}, wf} - 1000 \\cdot {{{{cap}}}}_{wf, ntw, y} = 0$"
      ],
      "text/plain": [
       "<IPython.core.display.Math object>"
      ]
     },
     "metadata": {},
     "output_type": "display_data"
    },
    {
     "data": {
      "text/latex": [
       "$\\displaystyle [46]\\text{   }{{{emit}}}_{gwp, ntw, y, {capacity}, pv} - 2000 \\cdot {{{{cap}}}}_{pv, ntw, y} = 0$"
      ],
      "text/plain": [
       "<IPython.core.display.Math object>"
      ]
     },
     "metadata": {},
     "output_type": "display_data"
    },
    {
     "data": {
      "text/latex": [
       "$\\displaystyle [47]\\text{   }{{{emit}}}_{gwp, ntw, y, {invcapacity}, power.lii} - 3000 \\cdot {{{icap}}}_{power.lii, ntw, y} = 0$"
      ],
      "text/plain": [
       "<IPython.core.display.Math object>"
      ]
     },
     "metadata": {},
     "output_type": "display_data"
    },
    {
     "data": {
      "text/latex": [
       "$\\displaystyle [51]\\text{   }{{{spend}}}_{usd, ntw, y, {consume}, cement} - 17 \\cdot {{{{cons}}}}_{cement, ntw, y} = 0$"
      ],
      "text/plain": [
       "<IPython.core.display.Math object>"
      ]
     },
     "metadata": {},
     "output_type": "display_data"
    },
    {
     "data": {
      "text/latex": [
       "$\\displaystyle [52]\\text{   }{{{emit}}}_{gwp, ntw, y, {consume}, cement} - 0.9 \\cdot {{{{cons}}}}_{cement, ntw, y} = 0$"
      ],
      "text/plain": [
       "<IPython.core.display.Math object>"
      ]
     },
     "metadata": {},
     "output_type": "display_data"
    },
    {
     "data": {
      "text/latex": [
       "$\\displaystyle [53]\\text{   }{{use}}_{cement, ntw, y, {capacity}, wf} - 400 \\cdot {{{{cap}}}}_{wf, ntw, y} = 0$"
      ],
      "text/plain": [
       "<IPython.core.display.Math object>"
      ]
     },
     "metadata": {},
     "output_type": "display_data"
    },
    {
     "data": {
      "text/latex": [
       "$\\displaystyle [54]\\text{   }{{{use}}}_{cement, ntw, y, {capacity}, pv} - 560 \\cdot {{{{cap}}}}_{pv, ntw, y} = 0$"
      ],
      "text/plain": [
       "<IPython.core.display.Math object>"
      ]
     },
     "metadata": {},
     "output_type": "display_data"
    },
    {
     "data": {
      "text/latex": [
       "$\\displaystyle [55]\\text{   }{{{use}}}_{cement, ntw, y, {invcapacity}, power.lii} - 300 \\cdot {{{icap}}}_{power.lii, ntw, y} = 0$"
      ],
      "text/plain": [
       "<IPython.core.display.Math object>"
      ]
     },
     "metadata": {},
     "output_type": "display_data"
    },
    {
     "data": {
      "text/latex": [
       "$\\displaystyle [61]\\text{   }{{{spend}}}_{usd, ntw, y, {operate}, grid} - 2000 \\cdot {{{{opr}}}}_{grid, ntw, y} = 0$"
      ],
      "text/plain": [
       "<IPython.core.display.Math object>"
      ]
     },
     "metadata": {},
     "output_type": "display_data"
    },
    {
     "data": {
      "text/latex": [
       "$\\displaystyle [63]\\text{   }{{{spend}}}_{usd, ntw, y, {capacity}, grid} - 1000 \\cdot {{{{cap}}}}_{grid, ntw, y} = 0$"
      ],
      "text/plain": [
       "<IPython.core.display.Math object>"
      ]
     },
     "metadata": {},
     "output_type": "display_data"
    },
    {
     "data": {
      "text/latex": [
       "$\\displaystyle [64]\\text{   }{{prod}}_{power, ho, q, {operate}, pv} - {φ}_{} \\cdot {{{{opr}}}}_{pv, ho, q} = 0$"
      ],
      "text/plain": [
       "<IPython.core.display.Math object>"
      ]
     },
     "metadata": {},
     "output_type": "display_data"
    },
    {
     "data": {
      "text/latex": [
       "$\\displaystyle [68]\\text{   }{{{expd}}}_{solar, ho, y, {operate}, pv} - {φ}_{} \\cdot {{{{opr}}}}_{pv, ho, y} = 0$"
      ],
      "text/plain": [
       "<IPython.core.display.Math object>"
      ]
     },
     "metadata": {},
     "output_type": "display_data"
    },
    {
     "data": {
      "text/latex": [
       "$\\displaystyle [69]\\text{   }{{{prod}}}_{power, ho, q, {operate}, wf} - {φ}_{} \\cdot {{{{opr}}}}_{wf, ho, q} = 0$"
      ],
      "text/plain": [
       "<IPython.core.display.Math object>"
      ]
     },
     "metadata": {},
     "output_type": "display_data"
    },
    {
     "data": {
      "text/latex": [
       "$\\displaystyle [73]\\text{   }{{{{expd}}}}_{wind, ho, y, {operate}, wf} - {φ}_{} \\cdot {{{{opr}}}}_{wf, ho, y} = 0$"
      ],
      "text/plain": [
       "<IPython.core.display.Math object>"
      ]
     },
     "metadata": {},
     "output_type": "display_data"
    },
    {
     "data": {
      "text/latex": [
       "$\\displaystyle [86]\\text{   }{{{prod}}}_{power.lii, ho, q, {operate}, lii.charge} - {φ}_{} \\cdot {{{{opr}}}}_{lii.charge, ho, q} = 0$"
      ],
      "text/plain": [
       "<IPython.core.display.Math object>"
      ]
     },
     "metadata": {},
     "output_type": "display_data"
    },
    {
     "data": {
      "text/latex": [
       "$\\displaystyle [87]\\text{   }{{{{expd}}}}_{power, ho, q, {operate}, lii.charge} - {φ}_{} \\cdot {{{{opr}}}}_{lii.charge, ho, q} = 0$"
      ],
      "text/plain": [
       "<IPython.core.display.Math object>"
      ]
     },
     "metadata": {},
     "output_type": "display_data"
    },
    {
     "data": {
      "text/latex": [
       "$\\displaystyle [94]\\text{   }{{{prod}}}_{power, ho, q, {operate}, lii.discharge} - {φ}_{} \\cdot {{{{opr}}}}_{lii.discharge, ho, q} = 0$"
      ],
      "text/plain": [
       "<IPython.core.display.Math object>"
      ]
     },
     "metadata": {},
     "output_type": "display_data"
    },
    {
     "data": {
      "text/latex": [
       "$\\displaystyle [95]\\text{   }{{{{expd}}}}_{power.lii, ho, q, {operate}, lii.discharge} - {φ}_{} \\cdot {{{{opr}}}}_{lii.discharge, ho, q} = 0$"
      ],
      "text/plain": [
       "<IPython.core.display.Math object>"
      ]
     },
     "metadata": {},
     "output_type": "display_data"
    },
    {
     "data": {
      "text/latex": [
       "$\\displaystyle [96]\\text{   }{{{prod}}}_{power, sd, q, {operate}, pv} - {φ}_{} \\cdot {{{{opr}}}}_{pv, sd, q} = 0$"
      ],
      "text/plain": [
       "<IPython.core.display.Math object>"
      ]
     },
     "metadata": {},
     "output_type": "display_data"
    },
    {
     "data": {
      "text/latex": [
       "$\\displaystyle [99]\\text{   }{{{{expd}}}}_{solar, sd, y, {operate}, pv} - {φ}_{} \\cdot {{{{opr}}}}_{pv, sd, y} = 0$"
      ],
      "text/plain": [
       "<IPython.core.display.Math object>"
      ]
     },
     "metadata": {},
     "output_type": "display_data"
    },
    {
     "data": {
      "text/latex": [
       "$\\displaystyle [100]\\text{   }{{{prod}}}_{power, sd, q, {operate}, wf} - {φ}_{} \\cdot {{{{opr}}}}_{wf, sd, q} = 0$"
      ],
      "text/plain": [
       "<IPython.core.display.Math object>"
      ]
     },
     "metadata": {},
     "output_type": "display_data"
    },
    {
     "data": {
      "text/latex": [
       "$\\displaystyle [103]\\text{   }{{{{expd}}}}_{wind, sd, y, {operate}, wf} - {φ}_{} \\cdot {{{{opr}}}}_{wf, sd, y} = 0$"
      ],
      "text/plain": [
       "<IPython.core.display.Math object>"
      ]
     },
     "metadata": {},
     "output_type": "display_data"
    },
    {
     "data": {
      "text/latex": [
       "$\\displaystyle [108]\\text{   }{{{prod}}}_{power.lii, sd, q, {operate}, lii.charge} - {φ}_{} \\cdot {{{{opr}}}}_{lii.charge, sd, q} = 0$"
      ],
      "text/plain": [
       "<IPython.core.display.Math object>"
      ]
     },
     "metadata": {},
     "output_type": "display_data"
    },
    {
     "data": {
      "text/latex": [
       "$\\displaystyle [109]\\text{   }{{{{expd}}}}_{power, sd, q, {operate}, lii.charge} - {φ}_{} \\cdot {{{{opr}}}}_{lii.charge, sd, q} = 0$"
      ],
      "text/plain": [
       "<IPython.core.display.Math object>"
      ]
     },
     "metadata": {},
     "output_type": "display_data"
    },
    {
     "data": {
      "text/latex": [
       "$\\displaystyle [112]\\text{   }{{{prod}}}_{power, sd, q, {operate}, lii.discharge} - {φ}_{} \\cdot {{{{opr}}}}_{lii.discharge, sd, q} = 0$"
      ],
      "text/plain": [
       "<IPython.core.display.Math object>"
      ]
     },
     "metadata": {},
     "output_type": "display_data"
    },
    {
     "data": {
      "text/latex": [
       "$\\displaystyle [113]\\text{   }{{{{expd}}}}_{power.lii, sd, q, {operate}, lii.discharge} - {φ}_{} \\cdot {{{{opr}}}}_{lii.discharge, sd, q} = 0$"
      ],
      "text/plain": [
       "<IPython.core.display.Math object>"
      ]
     },
     "metadata": {},
     "output_type": "display_data"
    },
    {
     "data": {
      "text/latex": [
       "$\\displaystyle [114]\\text{   }{{{prod}}}_{power, ny, q, {operate}, pv} - {φ}_{} \\cdot {{{{opr}}}}_{pv, ny, q} = 0$"
      ],
      "text/plain": [
       "<IPython.core.display.Math object>"
      ]
     },
     "metadata": {},
     "output_type": "display_data"
    },
    {
     "data": {
      "text/latex": [
       "$\\displaystyle [117]\\text{   }{{{{expd}}}}_{solar, ny, y, {operate}, pv} - {φ}_{} \\cdot {{{{opr}}}}_{pv, ny, y} = 0$"
      ],
      "text/plain": [
       "<IPython.core.display.Math object>"
      ]
     },
     "metadata": {},
     "output_type": "display_data"
    },
    {
     "data": {
      "text/latex": [
       "$\\displaystyle [118]\\text{   }{{{prod}}}_{power, ny, q, {operate}, wf} - {φ}_{} \\cdot {{{{opr}}}}_{wf, ny, q} = 0$"
      ],
      "text/plain": [
       "<IPython.core.display.Math object>"
      ]
     },
     "metadata": {},
     "output_type": "display_data"
    },
    {
     "data": {
      "text/latex": [
       "$\\displaystyle [121]\\text{   }{{{{expd}}}}_{wind, ny, y, {operate}, wf} - {φ}_{} \\cdot {{{{opr}}}}_{wf, ny, y} = 0$"
      ],
      "text/plain": [
       "<IPython.core.display.Math object>"
      ]
     },
     "metadata": {},
     "output_type": "display_data"
    },
    {
     "data": {
      "text/latex": [
       "$\\displaystyle [126]\\text{   }{{{prod}}}_{power.lii, ny, q, {operate}, lii.charge} - {φ}_{} \\cdot {{{{opr}}}}_{lii.charge, ny, q} = 0$"
      ],
      "text/plain": [
       "<IPython.core.display.Math object>"
      ]
     },
     "metadata": {},
     "output_type": "display_data"
    },
    {
     "data": {
      "text/latex": [
       "$\\displaystyle [127]\\text{   }{{{{expd}}}}_{power, ny, q, {operate}, lii.charge} - {φ}_{} \\cdot {{{{opr}}}}_{lii.charge, ny, q} = 0$"
      ],
      "text/plain": [
       "<IPython.core.display.Math object>"
      ]
     },
     "metadata": {},
     "output_type": "display_data"
    },
    {
     "data": {
      "text/latex": [
       "$\\displaystyle [130]\\text{   }{{{prod}}}_{power, ny, q, {operate}, lii.discharge} - {φ}_{} \\cdot {{{{opr}}}}_{lii.discharge, ny, q} = 0$"
      ],
      "text/plain": [
       "<IPython.core.display.Math object>"
      ]
     },
     "metadata": {},
     "output_type": "display_data"
    },
    {
     "data": {
      "text/latex": [
       "$\\displaystyle [131]\\text{   }{{{{expd}}}}_{power.lii, ny, q, {operate}, lii.discharge} - {φ}_{} \\cdot {{{{opr}}}}_{lii.discharge, ny, q} = 0$"
      ],
      "text/plain": [
       "<IPython.core.display.Math object>"
      ]
     },
     "metadata": {},
     "output_type": "display_data"
    },
    {
     "data": {
      "text/markdown": [
       "### General Resource Balance Constraint Sets"
      ],
      "text/plain": [
       "<IPython.core.display.Markdown object>"
      ]
     },
     "metadata": {},
     "output_type": "display_data"
    },
    {
     "data": {
      "text/latex": [
       "$\\displaystyle [0]\\text{   }{{{cons}}}_{solar, ntw, y} = 0$"
      ],
      "text/plain": [
       "<IPython.core.display.Math object>"
      ]
     },
     "metadata": {},
     "output_type": "display_data"
    },
    {
     "data": {
      "text/latex": [
       "$\\displaystyle [2]\\text{   }{{{{cons}}}}_{wind, ntw, y} = 0$"
      ],
      "text/plain": [
       "<IPython.core.display.Math object>"
      ]
     },
     "metadata": {},
     "output_type": "display_data"
    },
    {
     "data": {
      "text/latex": [
       "$\\displaystyle [4]\\text{   }-{{{rlse}}}_{power, ho, q} + {{prod}}_{power, ho, q, {operate}, pv} + {{{prod}}}_{power, ho, q, {operate}, wf} - {{{{expd}}}}_{power, ho, q, {operate}, lii.charge} + {{{prod}}}_{power, ho, q, {operate}, lii.discharge} = 0$"
      ],
      "text/plain": [
       "<IPython.core.display.Math object>"
      ]
     },
     "metadata": {},
     "output_type": "display_data"
    },
    {
     "data": {
      "text/latex": [
       "$\\displaystyle [6]\\text{   }-{{{{rlse}}}}_{power, sd, q} + {{{prod}}}_{power, sd, q, {operate}, pv} + {{{prod}}}_{power, sd, q, {operate}, wf} - {{{{expd}}}}_{power, sd, q, {operate}, lii.charge} + {{{prod}}}_{power, sd, q, {operate}, lii.discharge} = 0$"
      ],
      "text/plain": [
       "<IPython.core.display.Math object>"
      ]
     },
     "metadata": {},
     "output_type": "display_data"
    },
    {
     "data": {
      "text/latex": [
       "$\\displaystyle [8]\\text{   }-{{{{rlse}}}}_{power, ny, q} + {{{prod}}}_{power, ny, q, {operate}, pv} + {{{prod}}}_{power, ny, q, {operate}, wf} - {{{{expd}}}}_{power, ny, q, {operate}, lii.charge} + {{{prod}}}_{power, ny, q, {operate}, lii.discharge} = 0$"
      ],
      "text/plain": [
       "<IPython.core.display.Math object>"
      ]
     },
     "metadata": {},
     "output_type": "display_data"
    },
    {
     "data": {
      "text/latex": [
       "$\\displaystyle [48]\\text{   }{{{{cons}}}}_{cement, ntw, y} - {{use}}_{cement, ntw, y, {capacity}, wf} - {{{use}}}_{cement, ntw, y, {capacity}, pv} - {{{use}}}_{cement, ntw, y, {invcapacity}, power.lii} = 0$"
      ],
      "text/plain": [
       "<IPython.core.display.Math object>"
      ]
     },
     "metadata": {},
     "output_type": "display_data"
    },
    {
     "data": {
      "text/latex": [
       "$\\displaystyle [65]\\text{   }-{{{expd}}}_{solar, ho, y, {operate}, pv} = 0$"
      ],
      "text/plain": [
       "<IPython.core.display.Math object>"
      ]
     },
     "metadata": {},
     "output_type": "display_data"
    },
    {
     "data": {
      "text/latex": [
       "$\\displaystyle [70]\\text{   }-{{{{expd}}}}_{wind, ho, y, {operate}, wf} = 0$"
      ],
      "text/plain": [
       "<IPython.core.display.Math object>"
      ]
     },
     "metadata": {},
     "output_type": "display_data"
    },
    {
     "data": {
      "text/latex": [
       "$\\displaystyle [76]\\text{   }-{{{{inv}}}}_{power.lii, ntw, q} + {{{{inv}}}}_{power.lii, ntw, q-1} = 0$"
      ],
      "text/plain": [
       "<IPython.core.display.Math object>"
      ]
     },
     "metadata": {},
     "output_type": "display_data"
    },
    {
     "data": {
      "text/latex": [
       "$\\displaystyle [78]\\text{   }-{{{{inv}}}}_{power.lii, ho, q} + {{{{inv}}}}_{power.lii, ho, q-1} + {{{prod}}}_{power.lii, ho, q, {operate}, lii.charge} - {{{{expd}}}}_{power.lii, ho, q, {operate}, lii.discharge} = 0$"
      ],
      "text/plain": [
       "<IPython.core.display.Math object>"
      ]
     },
     "metadata": {},
     "output_type": "display_data"
    },
    {
     "data": {
      "text/latex": [
       "$\\displaystyle [97]\\text{   }-{{{{expd}}}}_{solar, sd, y, {operate}, pv} = 0$"
      ],
      "text/plain": [
       "<IPython.core.display.Math object>"
      ]
     },
     "metadata": {},
     "output_type": "display_data"
    },
    {
     "data": {
      "text/latex": [
       "$\\displaystyle [101]\\text{   }-{{{{expd}}}}_{wind, sd, y, {operate}, wf} = 0$"
      ],
      "text/plain": [
       "<IPython.core.display.Math object>"
      ]
     },
     "metadata": {},
     "output_type": "display_data"
    },
    {
     "data": {
      "text/latex": [
       "$\\displaystyle [104]\\text{   }-{{{{inv}}}}_{power.lii, sd, q} + {{{{inv}}}}_{power.lii, sd, q-1} + {{{prod}}}_{power.lii, sd, q, {operate}, lii.charge} - {{{{expd}}}}_{power.lii, sd, q, {operate}, lii.discharge} = 0$"
      ],
      "text/plain": [
       "<IPython.core.display.Math object>"
      ]
     },
     "metadata": {},
     "output_type": "display_data"
    },
    {
     "data": {
      "text/latex": [
       "$\\displaystyle [115]\\text{   }-{{{{expd}}}}_{solar, ny, y, {operate}, pv} = 0$"
      ],
      "text/plain": [
       "<IPython.core.display.Math object>"
      ]
     },
     "metadata": {},
     "output_type": "display_data"
    },
    {
     "data": {
      "text/latex": [
       "$\\displaystyle [119]\\text{   }-{{{{expd}}}}_{wind, ny, y, {operate}, wf} = 0$"
      ],
      "text/plain": [
       "<IPython.core.display.Math object>"
      ]
     },
     "metadata": {},
     "output_type": "display_data"
    },
    {
     "data": {
      "text/latex": [
       "$\\displaystyle [122]\\text{   }-{{{{inv}}}}_{power.lii, ny, q} + {{{{inv}}}}_{power.lii, ny, q-1} + {{{prod}}}_{power.lii, ny, q, {operate}, lii.charge} - {{{{expd}}}}_{power.lii, ny, q, {operate}, lii.discharge} = 0$"
      ],
      "text/plain": [
       "<IPython.core.display.Math object>"
      ]
     },
     "metadata": {},
     "output_type": "display_data"
    },
    {
     "data": {
      "text/markdown": [
       "### Mapping Constraint Sets"
      ],
      "text/plain": [
       "<IPython.core.display.Markdown object>"
      ]
     },
     "metadata": {},
     "output_type": "display_data"
    },
    {
     "data": {
      "text/latex": [
       "$\\displaystyle [22]\\text{   }{{{spend}}}_{usd, ntw, y, {operate}, wf} - {{{{spend}}}}_{usd, ho, y, {capacity}, wf} - {{{{spend}}}}_{usd, sd, y, {capacity}, wf} - {{{{spend}}}}_{usd, ny, y, {capacity}, wf} = 0$"
      ],
      "text/plain": [
       "<IPython.core.display.Math object>"
      ]
     },
     "metadata": {},
     "output_type": "display_data"
    },
    {
     "data": {
      "text/latex": [
       "$\\displaystyle [26]\\text{   }{{{{cap}}}}_{pv, ntw, y} - {{{{{cap}}}}}_{pv, sd, y} - {{{{{cap}}}}}_{pv, ho, y} - {{{{{cap}}}}}_{pv, ny, y} = 0$"
      ],
      "text/plain": [
       "<IPython.core.display.Math object>"
      ]
     },
     "metadata": {},
     "output_type": "display_data"
    },
    {
     "data": {
      "text/latex": [
       "$\\displaystyle [30]\\text{   }{{{spend}}}_{usd, ntw, y, {capacity}, pv} - {{{{spend}}}}_{usd, ho, y, {capacity}, wf} - {{{{spend}}}}_{usd, sd, y, {capacity}, wf} - {{{{spend}}}}_{usd, ny, y, {capacity}, wf} = 0$"
      ],
      "text/plain": [
       "<IPython.core.display.Math object>"
      ]
     },
     "metadata": {},
     "output_type": "display_data"
    },
    {
     "data": {
      "text/latex": [
       "$\\displaystyle [32]\\text{   }{{{spend}}}_{usd, ntw, y, {operate}, pv} - {{{{spend}}}}_{usd, ho, y, {capacity}, wf} - {{{{spend}}}}_{usd, sd, y, {capacity}, wf} - {{{{spend}}}}_{usd, ny, y, {capacity}, wf} = 0$"
      ],
      "text/plain": [
       "<IPython.core.display.Math object>"
      ]
     },
     "metadata": {},
     "output_type": "display_data"
    },
    {
     "data": {
      "text/latex": [
       "$\\displaystyle [36]\\text{   }{{{spend}}}_{usd, ntw, y, {invcapacity}, power.lii} - {{{{spend}}}}_{usd, ho, y, {capacity}, wf} - {{{{spend}}}}_{usd, sd, y, {capacity}, wf} - {{{{spend}}}}_{usd, ny, y, {capacity}, wf} = 0$"
      ],
      "text/plain": [
       "<IPython.core.display.Math object>"
      ]
     },
     "metadata": {},
     "output_type": "display_data"
    },
    {
     "data": {
      "text/latex": [
       "$\\displaystyle [38]\\text{   }{{{spend}}}_{usd, ntw, y, {inventory}, power.lii} - {{{{spend}}}}_{usd, ho, y, {capacity}, wf} - {{{{spend}}}}_{usd, sd, y, {capacity}, wf} - {{{{spend}}}}_{usd, ny, y, {capacity}, wf} = 0$"
      ],
      "text/plain": [
       "<IPython.core.display.Math object>"
      ]
     },
     "metadata": {},
     "output_type": "display_data"
    },
    {
     "data": {
      "text/latex": [
       "$\\displaystyle [44]\\text{   }{{{{cap}}}}_{wf, ntw, y} - {{{{{cap}}}}}_{wf, ho, y} - {{{{{cap}}}}}_{wf, sd, y} - {{{{{cap}}}}}_{wf, ny, y} = 0$"
      ],
      "text/plain": [
       "<IPython.core.display.Math object>"
      ]
     },
     "metadata": {},
     "output_type": "display_data"
    },
    {
     "data": {
      "text/latex": [
       "$\\displaystyle [50]\\text{   }{{{spend}}}_{usd, ntw, y, {consume}, cement} - {{{{spend}}}}_{usd, ho, y, {capacity}, wf} - {{{{spend}}}}_{usd, sd, y, {capacity}, wf} - {{{{spend}}}}_{usd, ny, y, {capacity}, wf} = 0$"
      ],
      "text/plain": [
       "<IPython.core.display.Math object>"
      ]
     },
     "metadata": {},
     "output_type": "display_data"
    },
    {
     "data": {
      "text/latex": [
       "$\\displaystyle [60]\\text{   }{{{spend}}}_{usd, ntw, y, {operate}, grid} - {{{{spend}}}}_{usd, ho, y, {capacity}, wf} - {{{{spend}}}}_{usd, sd, y, {capacity}, wf} - {{{{spend}}}}_{usd, ny, y, {capacity}, wf} = 0$"
      ],
      "text/plain": [
       "<IPython.core.display.Math object>"
      ]
     },
     "metadata": {},
     "output_type": "display_data"
    },
    {
     "data": {
      "text/latex": [
       "$\\displaystyle [62]\\text{   }{{{spend}}}_{usd, ntw, y, {capacity}, grid} - {{{{spend}}}}_{usd, ho, y, {capacity}, wf} - {{{{spend}}}}_{usd, sd, y, {capacity}, wf} - {{{{spend}}}}_{usd, ny, y, {capacity}, wf} = 0$"
      ],
      "text/plain": [
       "<IPython.core.display.Math object>"
      ]
     },
     "metadata": {},
     "output_type": "display_data"
    },
    {
     "data": {
      "text/latex": [
       "$\\displaystyle [66]\\text{   }{{{{opr}}}}_{pv, ho, y} - \\sum_{i \\in q} {{{{opr}}}}_{pv, ho, i} = 0$"
      ],
      "text/plain": [
       "<IPython.core.display.Math object>"
      ]
     },
     "metadata": {},
     "output_type": "display_data"
    },
    {
     "data": {
      "text/latex": [
       "$\\displaystyle [67]\\text{   }{{{{opr}}}}_{pv, ntw, y} - {{{{{opr}}}}}_{pv, ho, y} - {{{{{opr}}}}}_{pv, sd, y} - {{{{{opr}}}}}_{pv, ny, y} = 0$"
      ],
      "text/plain": [
       "<IPython.core.display.Math object>"
      ]
     },
     "metadata": {},
     "output_type": "display_data"
    },
    {
     "data": {
      "text/latex": [
       "$\\displaystyle [71]\\text{   }{{{{opr}}}}_{wf, ho, y} - \\sum_{i \\in q} {{{{opr}}}}_{wf, ho, i} = 0$"
      ],
      "text/plain": [
       "<IPython.core.display.Math object>"
      ]
     },
     "metadata": {},
     "output_type": "display_data"
    },
    {
     "data": {
      "text/latex": [
       "$\\displaystyle [72]\\text{   }{{{{opr}}}}_{wf, ntw, y} - {{{{{opr}}}}}_{wf, ho, y} - {{{{{opr}}}}}_{wf, sd, y} - {{{{{opr}}}}}_{wf, ny, y} = 0$"
      ],
      "text/plain": [
       "<IPython.core.display.Math object>"
      ]
     },
     "metadata": {},
     "output_type": "display_data"
    },
    {
     "data": {
      "text/latex": [
       "$\\displaystyle [74]\\text{   }{{{{icap}}}}_{power.lii, ntw, y} - {{{{{icap}}}}}_{power.lii, ho, y} - {{{{{icap}}}}}_{power.lii, sd, y} - {{{{{icap}}}}}_{power.lii, ny, y} = 0$"
      ],
      "text/plain": [
       "<IPython.core.display.Math object>"
      ]
     },
     "metadata": {},
     "output_type": "display_data"
    },
    {
     "data": {
      "text/latex": [
       "$\\displaystyle [75]\\text{   }{{{{inv}}}}_{power.lii, ntw, y} - \\sum_{i \\in q} {{{{inv}}}}_{power.lii, ntw, i} = 0$"
      ],
      "text/plain": [
       "<IPython.core.display.Math object>"
      ]
     },
     "metadata": {},
     "output_type": "display_data"
    },
    {
     "data": {
      "text/latex": [
       "$\\displaystyle [77]\\text{   }{{{{inv}}}}_{power.lii, ntw, q} - {{{{{inv}}}}}_{power.lii, ho, q} - {{{{{inv}}}}}_{power.lii, sd, q} - {{{{{inv}}}}}_{power.lii, ny, q} = 0$"
      ],
      "text/plain": [
       "<IPython.core.display.Math object>"
      ]
     },
     "metadata": {},
     "output_type": "display_data"
    },
    {
     "data": {
      "text/latex": [
       "$\\displaystyle [80]\\text{   }{{{{cap}}}}_{lii.charge, ntw, y} - {{{{{cap}}}}}_{lii.charge, ho, y} - {{{{{cap}}}}}_{lii.charge, sd, y} - {{{{{cap}}}}}_{lii.charge, ny, y} = 0$"
      ],
      "text/plain": [
       "<IPython.core.display.Math object>"
      ]
     },
     "metadata": {},
     "output_type": "display_data"
    },
    {
     "data": {
      "text/latex": [
       "$\\displaystyle [81]\\text{   }{{{{opr}}}}_{lii.charge, ntw, y} - {{{{{opr}}}}}_{lii.charge, ho, y} - {{{{{opr}}}}}_{lii.charge, sd, y} - {{{{{opr}}}}}_{lii.charge, ny, y} = 0$"
      ],
      "text/plain": [
       "<IPython.core.display.Math object>"
      ]
     },
     "metadata": {},
     "output_type": "display_data"
    },
    {
     "data": {
      "text/latex": [
       "$\\displaystyle [83]\\text{   }{{{{opr}}}}_{lii.charge, ho, y} - \\sum_{i \\in q} {{{{opr}}}}_{lii.charge, ho, i} = 0$"
      ],
      "text/plain": [
       "<IPython.core.display.Math object>"
      ]
     },
     "metadata": {},
     "output_type": "display_data"
    },
    {
     "data": {
      "text/latex": [
       "$\\displaystyle [84]\\text{   }{{{{opr}}}}_{lii.charge, ntw, y} - \\sum_{i \\in q} {{{{opr}}}}_{lii.charge, ntw, i} = 0$"
      ],
      "text/plain": [
       "<IPython.core.display.Math object>"
      ]
     },
     "metadata": {},
     "output_type": "display_data"
    },
    {
     "data": {
      "text/latex": [
       "$\\displaystyle [85]\\text{   }{{{{opr}}}}_{lii.charge, ntw, q} - {{{{{opr}}}}}_{lii.charge, ho, q} - {{{{{opr}}}}}_{lii.charge, sd, q} - {{{{{opr}}}}}_{lii.charge, ny, q} = 0$"
      ],
      "text/plain": [
       "<IPython.core.display.Math object>"
      ]
     },
     "metadata": {},
     "output_type": "display_data"
    },
    {
     "data": {
      "text/latex": [
       "$\\displaystyle [88]\\text{   }{{{{cap}}}}_{lii.discharge, ntw, y} - {{{{{cap}}}}}_{lii.discharge, ho, y} - {{{{{cap}}}}}_{lii.discharge, sd, y} - {{{{{cap}}}}}_{lii.discharge, ny, y} = 0$"
      ],
      "text/plain": [
       "<IPython.core.display.Math object>"
      ]
     },
     "metadata": {},
     "output_type": "display_data"
    },
    {
     "data": {
      "text/latex": [
       "$\\displaystyle [89]\\text{   }{{{{opr}}}}_{lii.discharge, ntw, y} - {{{{{opr}}}}}_{lii.discharge, ho, y} - {{{{{opr}}}}}_{lii.discharge, sd, y} - {{{{{opr}}}}}_{lii.discharge, ny, y} = 0$"
      ],
      "text/plain": [
       "<IPython.core.display.Math object>"
      ]
     },
     "metadata": {},
     "output_type": "display_data"
    },
    {
     "data": {
      "text/latex": [
       "$\\displaystyle [91]\\text{   }{{{{opr}}}}_{lii.discharge, ho, y} - \\sum_{i \\in q} {{{{opr}}}}_{lii.discharge, ho, i} = 0$"
      ],
      "text/plain": [
       "<IPython.core.display.Math object>"
      ]
     },
     "metadata": {},
     "output_type": "display_data"
    },
    {
     "data": {
      "text/latex": [
       "$\\displaystyle [92]\\text{   }{{{{opr}}}}_{lii.discharge, ntw, y} - \\sum_{i \\in q} {{{{opr}}}}_{lii.discharge, ntw, i} = 0$"
      ],
      "text/plain": [
       "<IPython.core.display.Math object>"
      ]
     },
     "metadata": {},
     "output_type": "display_data"
    },
    {
     "data": {
      "text/latex": [
       "$\\displaystyle [93]\\text{   }{{{{opr}}}}_{lii.discharge, ntw, q} - {{{{{opr}}}}}_{lii.discharge, ho, q} - {{{{{opr}}}}}_{lii.discharge, sd, q} - {{{{{opr}}}}}_{lii.discharge, ny, q} = 0$"
      ],
      "text/plain": [
       "<IPython.core.display.Math object>"
      ]
     },
     "metadata": {},
     "output_type": "display_data"
    },
    {
     "data": {
      "text/latex": [
       "$\\displaystyle [98]\\text{   }{{{{opr}}}}_{pv, sd, y} - \\sum_{i \\in q} {{{{opr}}}}_{pv, sd, i} = 0$"
      ],
      "text/plain": [
       "<IPython.core.display.Math object>"
      ]
     },
     "metadata": {},
     "output_type": "display_data"
    },
    {
     "data": {
      "text/latex": [
       "$\\displaystyle [102]\\text{   }{{{{opr}}}}_{wf, sd, y} - \\sum_{i \\in q} {{{{opr}}}}_{wf, sd, i} = 0$"
      ],
      "text/plain": [
       "<IPython.core.display.Math object>"
      ]
     },
     "metadata": {},
     "output_type": "display_data"
    },
    {
     "data": {
      "text/latex": [
       "$\\displaystyle [107]\\text{   }{{{{opr}}}}_{lii.charge, sd, y} - \\sum_{i \\in q} {{{{opr}}}}_{lii.charge, sd, i} = 0$"
      ],
      "text/plain": [
       "<IPython.core.display.Math object>"
      ]
     },
     "metadata": {},
     "output_type": "display_data"
    },
    {
     "data": {
      "text/latex": [
       "$\\displaystyle [111]\\text{   }{{{{opr}}}}_{lii.discharge, sd, y} - \\sum_{i \\in q} {{{{opr}}}}_{lii.discharge, sd, i} = 0$"
      ],
      "text/plain": [
       "<IPython.core.display.Math object>"
      ]
     },
     "metadata": {},
     "output_type": "display_data"
    },
    {
     "data": {
      "text/latex": [
       "$\\displaystyle [116]\\text{   }{{{{opr}}}}_{pv, ny, y} - \\sum_{i \\in q} {{{{opr}}}}_{pv, ny, i} = 0$"
      ],
      "text/plain": [
       "<IPython.core.display.Math object>"
      ]
     },
     "metadata": {},
     "output_type": "display_data"
    },
    {
     "data": {
      "text/latex": [
       "$\\displaystyle [120]\\text{   }{{{{opr}}}}_{wf, ny, y} - \\sum_{i \\in q} {{{{opr}}}}_{wf, ny, i} = 0$"
      ],
      "text/plain": [
       "<IPython.core.display.Math object>"
      ]
     },
     "metadata": {},
     "output_type": "display_data"
    },
    {
     "data": {
      "text/latex": [
       "$\\displaystyle [125]\\text{   }{{{{opr}}}}_{lii.charge, ny, y} - \\sum_{i \\in q} {{{{opr}}}}_{lii.charge, ny, i} = 0$"
      ],
      "text/plain": [
       "<IPython.core.display.Math object>"
      ]
     },
     "metadata": {},
     "output_type": "display_data"
    },
    {
     "data": {
      "text/latex": [
       "$\\displaystyle [129]\\text{   }{{{{opr}}}}_{lii.discharge, ny, y} - \\sum_{i \\in q} {{{{opr}}}}_{lii.discharge, ny, i} = 0$"
      ],
      "text/plain": [
       "<IPython.core.display.Math object>"
      ]
     },
     "metadata": {},
     "output_type": "display_data"
    }
   ],
   "source": [
    "m.show()"
   ]
  },
  {
   "cell_type": "code",
   "execution_count": 19,
   "id": "2ca26954",
   "metadata": {},
   "outputs": [
    {
     "data": {
      "text/plain": [
       "defaultdict(<function energia.represent.model.Model.__post_init__.<locals>.<lambda>()>,\n",
       "            {solar: defaultdict(<function energia.represent.model.Model.__post_init__.<locals>.<lambda>.<locals>.<lambda>()>,\n",
       "                         {ntw: defaultdict(list,\n",
       "                                      {y: [consume(solar, ntw, y)], q: []}),\n",
       "                          ho: defaultdict(list,\n",
       "                                      {y: [expend(solar, ho, y, operate, pv)]}),\n",
       "                          sd: defaultdict(list,\n",
       "                                      {y: [expend(solar, sd, y, operate, pv)]}),\n",
       "                          ny: defaultdict(list,\n",
       "                                      {y: [expend(solar, ny, y, operate, pv)]})}),\n",
       "             wind: defaultdict(<function energia.represent.model.Model.__post_init__.<locals>.<lambda>.<locals>.<lambda>()>,\n",
       "                         {ntw: defaultdict(list,\n",
       "                                      {y: [consume(wind, ntw, y)], q: []}),\n",
       "                          ho: defaultdict(list,\n",
       "                                      {y: [expend(wind, ho, y, operate, wf)]}),\n",
       "                          sd: defaultdict(list,\n",
       "                                      {y: [expend(wind, sd, y, operate, wf)]}),\n",
       "                          ny: defaultdict(list,\n",
       "                                      {y: [expend(wind, ny, y, operate, wf)]})}),\n",
       "             power: defaultdict(<function energia.represent.model.Model.__post_init__.<locals>.<lambda>.<locals>.<lambda>()>,\n",
       "                         {ho: defaultdict(list,\n",
       "                                      {q: [release(power, ho, q),\n",
       "                                        produce(power, ho, q, operate, pv),\n",
       "                                        produce(power, ho, q, operate, wf),\n",
       "                                        expend(power, ho, q, operate, lii.charge),\n",
       "                                        produce(power, ho, q, operate, lii.discharge)]}),\n",
       "                          sd: defaultdict(list,\n",
       "                                      {q: [release(power, sd, q),\n",
       "                                        produce(power, sd, q, operate, pv),\n",
       "                                        produce(power, sd, q, operate, wf),\n",
       "                                        expend(power, sd, q, operate, lii.charge),\n",
       "                                        produce(power, sd, q, operate, lii.discharge)]}),\n",
       "                          ny: defaultdict(list,\n",
       "                                      {q: [release(power, ny, q),\n",
       "                                        produce(power, ny, q, operate, pv),\n",
       "                                        produce(power, ny, q, operate, wf),\n",
       "                                        expend(power, ny, q, operate, lii.charge),\n",
       "                                        produce(power, ny, q, operate, lii.discharge)]})}),\n",
       "             usd: defaultdict(<function energia.represent.model.Model.__post_init__.<locals>.<lambda>.<locals>.<lambda>()>,\n",
       "                         {sd: defaultdict(list, {y: []}),\n",
       "                          ho: defaultdict(list, {y: []}),\n",
       "                          ny: defaultdict(list, {y: []}),\n",
       "                          ntw: defaultdict(list, {y: []})}),\n",
       "             power.lii: defaultdict(<function energia.represent.model.Model.__post_init__.<locals>.<lambda>.<locals>.<lambda>()>,\n",
       "                         {ntw: defaultdict(list,\n",
       "                                      {y: [],\n",
       "                                       q: [inventory(power.lii, ntw, q)]}),\n",
       "                          ho: defaultdict(list,\n",
       "                                      {y: [],\n",
       "                                       q: [inventory(power.lii, ho, q),\n",
       "                                        produce(power.lii, ho, q, operate, lii.charge),\n",
       "                                        expend(power.lii, ho, q, operate, lii.discharge)]}),\n",
       "                          sd: defaultdict(list,\n",
       "                                      {y: [],\n",
       "                                       q: [inventory(power.lii, sd, q),\n",
       "                                        produce(power.lii, sd, q, operate, lii.charge),\n",
       "                                        expend(power.lii, sd, q, operate, lii.discharge)]}),\n",
       "                          ny: defaultdict(list,\n",
       "                                      {y: [],\n",
       "                                       q: [inventory(power.lii, ny, q),\n",
       "                                        produce(power.lii, ny, q, operate, lii.charge),\n",
       "                                        expend(power.lii, ny, q, operate, lii.discharge)]})}),\n",
       "             cement: defaultdict(<function energia.represent.model.Model.__post_init__.<locals>.<lambda>.<locals>.<lambda>()>,\n",
       "                         {ntw: defaultdict(list,\n",
       "                                      {y: [consume(cement, ntw, y),\n",
       "                                        use(cement, ntw, y, capacity, wf),\n",
       "                                        use(cement, ntw, y, capacity, pv),\n",
       "                                        use(cement, ntw, y, invcapacity, power.lii)]})})})"
      ]
     },
     "execution_count": 19,
     "metadata": {},
     "output_type": "execute_result"
    }
   ],
   "source": [
    "m.grb "
   ]
  },
  {
   "cell_type": "code",
   "execution_count": 19,
   "id": "02be8264",
   "metadata": {},
   "outputs": [
    {
     "data": {
      "text/latex": [
       "$\\displaystyle [39]\\text{   }{{{spend}}}_{usd, ntw, y, {inventory}, power.lii} - 2000 \\cdot {{{inv}}}_{power.lii, ntw, y} = 0$"
      ],
      "text/plain": [
       "<IPython.core.display.Math object>"
      ]
     },
     "metadata": {},
     "output_type": "display_data"
    },
    {
     "data": {
      "text/latex": [
       "$\\displaystyle [75]\\text{   }{{{{inv}}}}_{power.lii, ntw, y} - \\sum_{i \\in q} {{{{inv}}}}_{power.lii, ntw, i} = 0$"
      ],
      "text/plain": [
       "<IPython.core.display.Math object>"
      ]
     },
     "metadata": {},
     "output_type": "display_data"
    },
    {
     "data": {
      "text/latex": [
       "$\\displaystyle [76]\\text{   }-{{{{inv}}}}_{power.lii, ntw, q} + {{{{inv}}}}_{power.lii, ntw, q-1} = 0$"
      ],
      "text/plain": [
       "<IPython.core.display.Math object>"
      ]
     },
     "metadata": {},
     "output_type": "display_data"
    },
    {
     "data": {
      "text/latex": [
       "$\\displaystyle [77]\\text{   }{{{{inv}}}}_{power.lii, ntw, q} - {{{{{inv}}}}}_{power.lii, ho, q} - {{{{{inv}}}}}_{power.lii, sd, q} - {{{{{inv}}}}}_{power.lii, ny, q} = 0$"
      ],
      "text/plain": [
       "<IPython.core.display.Math object>"
      ]
     },
     "metadata": {},
     "output_type": "display_data"
    },
    {
     "data": {
      "text/latex": [
       "$\\displaystyle [78]\\text{   }-{{{{inv}}}}_{power.lii, ho, q} + {{{{inv}}}}_{power.lii, ho, q-1} + {{{prod}}}_{power.lii, ho, q, {operate}, lii.charge} - {{{{expd}}}}_{power.lii, ho, q, {operate}, lii.discharge} = 0$"
      ],
      "text/plain": [
       "<IPython.core.display.Math object>"
      ]
     },
     "metadata": {},
     "output_type": "display_data"
    },
    {
     "data": {
      "text/latex": [
       "$\\displaystyle [79]\\text{   }{{{{inv}}}}_{power.lii, ho, q} - {{{{icap}}}}_{power.lii, ho, y} \\leq 0$"
      ],
      "text/plain": [
       "<IPython.core.display.Math object>"
      ]
     },
     "metadata": {},
     "output_type": "display_data"
    },
    {
     "data": {
      "text/latex": [
       "$\\displaystyle [104]\\text{   }-{{{{inv}}}}_{power.lii, sd, q} + {{{{inv}}}}_{power.lii, sd, q-1} + {{{prod}}}_{power.lii, sd, q, {operate}, lii.charge} - {{{{expd}}}}_{power.lii, sd, q, {operate}, lii.discharge} = 0$"
      ],
      "text/plain": [
       "<IPython.core.display.Math object>"
      ]
     },
     "metadata": {},
     "output_type": "display_data"
    },
    {
     "data": {
      "text/latex": [
       "$\\displaystyle [105]\\text{   }{{{{inv}}}}_{power.lii, sd, q} - {{{{icap}}}}_{power.lii, sd, y} \\leq 0$"
      ],
      "text/plain": [
       "<IPython.core.display.Math object>"
      ]
     },
     "metadata": {},
     "output_type": "display_data"
    },
    {
     "data": {
      "text/latex": [
       "$\\displaystyle [122]\\text{   }-{{{{inv}}}}_{power.lii, ny, q} + {{{{inv}}}}_{power.lii, ny, q-1} + {{{prod}}}_{power.lii, ny, q, {operate}, lii.charge} - {{{{expd}}}}_{power.lii, ny, q, {operate}, lii.discharge} = 0$"
      ],
      "text/plain": [
       "<IPython.core.display.Math object>"
      ]
     },
     "metadata": {},
     "output_type": "display_data"
    },
    {
     "data": {
      "text/latex": [
       "$\\displaystyle [123]\\text{   }{{{{inv}}}}_{power.lii, ny, q} - {{{{icap}}}}_{power.lii, ny, y} \\leq 0$"
      ],
      "text/plain": [
       "<IPython.core.display.Math object>"
      ]
     },
     "metadata": {},
     "output_type": "display_data"
    }
   ],
   "source": [
    "m.inventory.show()"
   ]
  },
  {
   "cell_type": "code",
   "execution_count": 20,
   "id": "013192d9",
   "metadata": {},
   "outputs": [
    {
     "data": {
      "text/latex": [
       "$\\displaystyle [0]\\text{   }{{{cons}}}_{solar, ntw, y} = 0$"
      ],
      "text/plain": [
       "<IPython.core.display.Math object>"
      ]
     },
     "metadata": {},
     "output_type": "display_data"
    },
    {
     "data": {
      "text/latex": [
       "$\\displaystyle [1]\\text{   }{{{cons}}}_{solar, ntw, y} - 1200 \\leq 0$"
      ],
      "text/plain": [
       "<IPython.core.display.Math object>"
      ]
     },
     "metadata": {},
     "output_type": "display_data"
    },
    {
     "data": {
      "text/latex": [
       "$\\displaystyle [65]\\text{   }-{{{expd}}}_{solar, ho, y, {operate}, pv} = 0$"
      ],
      "text/plain": [
       "<IPython.core.display.Math object>"
      ]
     },
     "metadata": {},
     "output_type": "display_data"
    },
    {
     "data": {
      "text/latex": [
       "$\\displaystyle [68]\\text{   }{{{expd}}}_{solar, ho, y, {operate}, pv} - {φ}_{} \\cdot {{{{opr}}}}_{pv, ho, y} = 0$"
      ],
      "text/plain": [
       "<IPython.core.display.Math object>"
      ]
     },
     "metadata": {},
     "output_type": "display_data"
    },
    {
     "data": {
      "text/latex": [
       "$\\displaystyle [97]\\text{   }-{{{{expd}}}}_{solar, sd, y, {operate}, pv} = 0$"
      ],
      "text/plain": [
       "<IPython.core.display.Math object>"
      ]
     },
     "metadata": {},
     "output_type": "display_data"
    },
    {
     "data": {
      "text/latex": [
       "$\\displaystyle [99]\\text{   }{{{{expd}}}}_{solar, sd, y, {operate}, pv} - {φ}_{} \\cdot {{{{opr}}}}_{pv, sd, y} = 0$"
      ],
      "text/plain": [
       "<IPython.core.display.Math object>"
      ]
     },
     "metadata": {},
     "output_type": "display_data"
    },
    {
     "data": {
      "text/latex": [
       "$\\displaystyle [115]\\text{   }-{{{{expd}}}}_{solar, ny, y, {operate}, pv} = 0$"
      ],
      "text/plain": [
       "<IPython.core.display.Math object>"
      ]
     },
     "metadata": {},
     "output_type": "display_data"
    },
    {
     "data": {
      "text/latex": [
       "$\\displaystyle [117]\\text{   }{{{{expd}}}}_{solar, ny, y, {operate}, pv} - {φ}_{} \\cdot {{{{opr}}}}_{pv, ny, y} = 0$"
      ],
      "text/plain": [
       "<IPython.core.display.Math object>"
      ]
     },
     "metadata": {},
     "output_type": "display_data"
    }
   ],
   "source": [
    "m.solar.show()"
   ]
  },
  {
   "cell_type": "code",
   "execution_count": 21,
   "id": "de89149e",
   "metadata": {},
   "outputs": [
    {
     "name": "stdout",
     "output_type": "stream",
     "text": [
      "--- Mapping spend: (usd, ho, y, capacity, wf) → (usd, ntw, y)\n",
      "    Completed in 0.000s\n",
      "--- Mapping spend: (usd, sd, y, capacity, wf) → (usd, ntw, y)\n",
      "    Completed in 0.000s\n",
      "--- Mapping spend: (usd, ny, y, capacity, wf) → (usd, ntw, y)\n",
      "    Completed in 0.000s\n",
      "--- Mapping spend: (usd, ntw, y, operate, wf) → (usd, ntw, y)\n",
      "    Completed in 0.000s\n",
      "--- Mapping spend: (usd, ntw, y, capacity, pv) → (usd, ntw, y)\n",
      "    Completed in 0.000s\n",
      "--- Mapping spend: (usd, ntw, y, operate, pv) → (usd, ntw, y)\n",
      "    Completed in 0.000s\n",
      "--- Mapping spend: (usd, ntw, y, invcapacity, power.lii) → (usd, ntw, y)\n",
      "    Completed in 0.000s\n",
      "--- Mapping spend: (usd, ntw, y, inventory, power.lii) → (usd, ntw, y)\n",
      "    Completed in 0.000s\n",
      "--- Mapping spend: (usd, ntw, y, consume, cement) → (usd, ntw, y)\n",
      "    Completed in 0.000s\n",
      "--- Mapping spend: (usd, ntw, y, operate, grid) → (usd, ntw, y)\n",
      "    Completed in 0.000s\n",
      "--- Mapping spend: (usd, ntw, y, capacity, grid) → (usd, ntw, y)\n",
      "    Completed in 0.000s\n",
      "--- Generating Program(example4).mps\n",
      "--- Creating gurobi model for Program(example4)\n",
      "Set parameter Username\n",
      "Academic license - for non-commercial use only - expires 2026-08-01\n",
      "Read MPS format model from file Program(example4).mps\n",
      "Reading time = 0.00 seconds\n",
      "PROGRAM(EXAMPLE4): 259 rows, 240 columns, 664 nonzeros\n",
      "--- Optimizing Program(example4) using gurobi\n",
      "Gurobi Optimizer version 12.0.3 build v12.0.3rc0 (win64 - Windows 11.0 (26100.2))\n",
      "\n",
      "CPU model: 13th Gen Intel(R) Core(TM) i7-13700, instruction set [SSE2|AVX|AVX2]\n",
      "Thread count: 16 physical cores, 24 logical processors, using up to 24 threads\n",
      "\n",
      "Optimize a model with 259 rows, 240 columns and 664 nonzeros\n",
      "Model fingerprint: 0x3e7ad445\n",
      "Variable types: 233 continuous, 7 integer (7 binary)\n",
      "Coefficient statistics:\n",
      "  Matrix range     [3e-01, 1e+06]\n",
      "  Objective range  [1e+00, 1e+00]\n",
      "  Bounds range     [1e+00, 1e+00]\n",
      "  RHS range        [1e+01, 1e+06]\n",
      "Presolve removed 150 rows and 143 columns\n",
      "Presolve time: 0.00s\n",
      "\n",
      "Explored 0 nodes (0 simplex iterations) in 0.00 seconds (0.00 work units)\n",
      "Thread count was 1 (of 24 available processors)\n",
      "\n",
      "Solution count 0\n",
      "\n",
      "Model is infeasible\n",
      "Best objective -, best bound -, gap -\n",
      "--- Solution found. Use .sol() to display it\n",
      "!!! No solution found. Check the model.\n"
     ]
    }
   ],
   "source": [
    "m.usd.spend.opt()"
   ]
  },
  {
   "cell_type": "code",
   "execution_count": 22,
   "id": "f134bd09",
   "metadata": {},
   "outputs": [
    {
     "data": {
      "text/plain": [
       "'Use .opt() to generate solution'"
      ]
     },
     "execution_count": 22,
     "metadata": {},
     "output_type": "execute_result"
    }
   ],
   "source": [
    "m.sol()"
   ]
  },
  {
   "cell_type": "code",
   "execution_count": 23,
   "id": "bb69f58c",
   "metadata": {},
   "outputs": [
    {
     "ename": "AttributeError",
     "evalue": "example4 has no 'export'",
     "output_type": "error",
     "traceback": [
      "\u001b[31m---------------------------------------------------------------------------\u001b[39m",
      "\u001b[31mAttributeError\u001b[39m                            Traceback (most recent call last)",
      "\u001b[36mCell\u001b[39m\u001b[36m \u001b[39m\u001b[32mIn[23]\u001b[39m\u001b[32m, line 1\u001b[39m\n\u001b[32m----> \u001b[39m\u001b[32m1\u001b[39m \u001b[43mm\u001b[49m\u001b[43m.\u001b[49m\u001b[43mexport\u001b[49m.sol()\n",
      "\u001b[36mFile \u001b[39m\u001b[32m~\\research\\packages\\energiapy\\src\\energia\\represent\\model.py:480\u001b[39m, in \u001b[36mModel.__getattr__\u001b[39m\u001b[34m(self, name)\u001b[39m\n\u001b[32m    476\u001b[39m     \u001b[38;5;28mself\u001b[39m._attr_map[name] = aspect\n\u001b[32m    478\u001b[39m     \u001b[38;5;28;01mreturn\u001b[39;00m aspect\n\u001b[32m--> \u001b[39m\u001b[32m480\u001b[39m \u001b[38;5;28;01mraise\u001b[39;00m \u001b[38;5;167;01mAttributeError\u001b[39;00m(\n\u001b[32m    481\u001b[39m     \u001b[33mf\u001b[39m\u001b[33m\"\u001b[39m\u001b[38;5;132;01m{\u001b[39;00m\u001b[38;5;28mself\u001b[39m\u001b[38;5;132;01m}\u001b[39;00m\u001b[33m has no \u001b[39m\u001b[33m'\u001b[39m\u001b[38;5;132;01m{\u001b[39;00mname\u001b[38;5;132;01m}\u001b[39;00m\u001b[33m'\u001b[39m\u001b[33m\"\u001b[39m,\n\u001b[32m    482\u001b[39m )\n",
      "\u001b[31mAttributeError\u001b[39m: example4 has no 'export'"
     ]
    }
   ],
   "source": [
    "m.export.sol()"
   ]
  },
  {
   "cell_type": "code",
   "execution_count": null,
   "id": "f541a9ba",
   "metadata": {},
   "outputs": [],
   "source": [
    "m.spend.sol()"
   ]
  }
 ],
 "metadata": {
  "kernelspec": {
   "display_name": ".venv",
   "language": "python",
   "name": "python3"
  },
  "language_info": {
   "codemirror_mode": {
    "name": "ipython",
    "version": 3
   },
   "file_extension": ".py",
   "mimetype": "text/x-python",
   "name": "python",
   "nbconvert_exporter": "python",
   "pygments_lexer": "ipython3",
   "version": "3.13.8"
  }
 },
 "nbformat": 4,
 "nbformat_minor": 5
}
