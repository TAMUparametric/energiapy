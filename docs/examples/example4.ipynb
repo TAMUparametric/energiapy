{
 "cells": [
  {
   "cell_type": "markdown",
   "id": "686ba0d6",
   "metadata": {},
   "source": [
    "# Multi Location, Multiple Temporal Scales, Multiple Operations Including Transport, Mixed Integer Linear Programming Example\n",
    "\n",
    "## [Example 4]\n",
    "\n",
    "This is a continuation of 'One Location, Multiple Temporal Scales, Multiple Operations, Mixed Integer Linear Programming with Material and Emission Considerations Example' [Example 3]. \n",
    "\n",
    "We update Example 3 to now allow multiple locations and Transport options between them.\n"
   ]
  },
  {
   "cell_type": "markdown",
   "id": "84484ac2",
   "metadata": {},
   "source": [
    "## From Example 3"
   ]
  },
  {
   "cell_type": "code",
   "execution_count": 1,
   "id": "609aab02",
   "metadata": {},
   "outputs": [],
   "source": [
    "from energia import *\n",
    "\n",
    "m = Model('example4')\n",
    "m.q = Periods()\n",
    "m.y = 4 * m.q\n",
    "m.usd = Currency()"
   ]
  },
  {
   "cell_type": "code",
   "execution_count": 2,
   "id": "483e8376",
   "metadata": {},
   "outputs": [
    {
     "data": {
      "text/plain": [
       "[q, y]"
      ]
     },
     "execution_count": 2,
     "metadata": {},
     "output_type": "execute_result"
    }
   ],
   "source": [
    "m.periods"
   ]
  },
  {
   "cell_type": "markdown",
   "id": "541123ad",
   "metadata": {},
   "source": [
    "## Declaring Locations "
   ]
  },
  {
   "cell_type": "code",
   "execution_count": 3,
   "id": "78d7d056",
   "metadata": {},
   "outputs": [],
   "source": [
    "m.ho = Location(label='Houston')\n",
    "m.sd = Location(label='San Diego')\n",
    "m.ny = Location(label='New York')\n",
    "# m.usa = m.ho + m.sd + m.ny"
   ]
  },
  {
   "cell_type": "code",
   "execution_count": 4,
   "id": "759327de",
   "metadata": {},
   "outputs": [
    {
     "data": {
      "text/plain": [
       "[ho, sd, ny]"
      ]
     },
     "execution_count": 4,
     "metadata": {},
     "output_type": "execute_result"
    }
   ],
   "source": [
    "m.locations"
   ]
  },
  {
   "cell_type": "markdown",
   "id": "433f1df8",
   "metadata": {},
   "source": [
    "### The Network \n",
    "\n",
    "Given that we have not used a nested set of locations, a network is made:"
   ]
  },
  {
   "cell_type": "code",
   "execution_count": 5,
   "id": "d4761c55",
   "metadata": {},
   "outputs": [
    {
     "data": {
      "text/plain": [
       "ntw"
      ]
     },
     "execution_count": 5,
     "metadata": {},
     "output_type": "execute_result"
    }
   ],
   "source": [
    "m.network"
   ]
  },
  {
   "cell_type": "markdown",
   "id": "14277382",
   "metadata": {},
   "source": [
    "This network contains the three locations at (ho, sd, ny)"
   ]
  },
  {
   "cell_type": "code",
   "execution_count": 6,
   "id": "d744aefc",
   "metadata": {},
   "outputs": [
    {
     "data": {
      "text/plain": [
       "(sd, ho, ny)"
      ]
     },
     "execution_count": 6,
     "metadata": {},
     "output_type": "execute_result"
    }
   ],
   "source": [
    "m.network.has"
   ]
  },
  {
   "cell_type": "markdown",
   "id": "31fe7598",
   "metadata": {},
   "source": []
  },
  {
   "cell_type": "markdown",
   "id": "b2bda1be",
   "metadata": {},
   "source": [
    "## General Bounds Default to Network"
   ]
  },
  {
   "cell_type": "code",
   "execution_count": 7,
   "id": "9a66530b",
   "metadata": {},
   "outputs": [
    {
     "name": "stdout",
     "output_type": "stream",
     "text": [
      "--- General Resource Balance for solar in (ntw, y): initializing constraint, adding consume(solar, ntw, y)\n",
      "    Completed in 0.00011897087097167969 seconds\n",
      "--- Binding consume in domain (solar, ntw, y)\n",
      "    Completed in 5.793571472167969e-05 seconds\n",
      "--- General Resource Balance for wind in (ntw, y): initializing constraint, adding consume(wind, ntw, y)\n",
      "    Completed in 7.05718994140625e-05 seconds\n",
      "--- Binding consume in domain (wind, ntw, y)\n",
      "    Completed in 4.076957702636719e-05 seconds\n"
     ]
    }
   ],
   "source": [
    "m.declare(Resource, ['power', 'wind', 'solar'])\n",
    "# m.solar.consume == True\n",
    "# m.wind.consume == True\n",
    "m.solar.consume <= 1200\n",
    "m.wind.consume <= 1200\n",
    "# m.consume.show()"
   ]
  },
  {
   "cell_type": "markdown",
   "id": "5abad359",
   "metadata": {},
   "source": [
    "## Location-specific Bounds \n",
    "\n",
    "Spatial specificity can be provided along with temporal fidelity. \n",
    "In the example below, the temporal fidelity is implied since the data has 4 samples.\n",
    "\n",
    "Note that an individual general resource balance is generated for power at each location"
   ]
  },
  {
   "cell_type": "code",
   "execution_count": 8,
   "id": "6f789af5",
   "metadata": {},
   "outputs": [
    {
     "name": "stdout",
     "output_type": "stream",
     "text": [
      "--- General Resource Balance for power in (ho, q): initializing constraint, adding release(power, ho, q)\n",
      "    Completed in 0.00012993812561035156 seconds\n",
      "--- Binding release in domain (power, ho, q)\n",
      "    Completed in 0.00013756752014160156 seconds\n",
      "--- General Resource Balance for power in (sd, q): initializing constraint, adding release(power, sd, q)\n",
      "    Completed in 8.869171142578125e-05 seconds\n",
      "--- Binding release in domain (power, sd, q)\n",
      "    Completed in 0.00029540061950683594 seconds\n",
      "--- General Resource Balance for power in (ny, q): initializing constraint, adding release(power, ny, q)\n",
      "    Completed in 0.0001518726348876953 seconds\n",
      "--- Binding release in domain (power, ny, q)\n",
      "    Completed in 0.00019979476928710938 seconds\n"
     ]
    },
    {
     "data": {
      "text/latex": [
       "$\\displaystyle [4]\\text{   }-{{{rlse}}}_{power, ho, q} = 0$"
      ],
      "text/plain": [
       "<IPython.core.display.Math object>"
      ]
     },
     "metadata": {},
     "output_type": "display_data"
    },
    {
     "data": {
      "text/latex": [
       "$\\displaystyle [5]\\text{   }-{{{rlse}}}_{power, ho, q} + {φ}_{} \\leq 0$"
      ],
      "text/plain": [
       "<IPython.core.display.Math object>"
      ]
     },
     "metadata": {},
     "output_type": "display_data"
    },
    {
     "data": {
      "text/latex": [
       "$\\displaystyle [6]\\text{   }-{{{{rlse}}}}_{power, sd, q} = 0$"
      ],
      "text/plain": [
       "<IPython.core.display.Math object>"
      ]
     },
     "metadata": {},
     "output_type": "display_data"
    },
    {
     "data": {
      "text/latex": [
       "$\\displaystyle [7]\\text{   }-{{{{rlse}}}}_{power, sd, q} + {φ}_{} \\leq 0$"
      ],
      "text/plain": [
       "<IPython.core.display.Math object>"
      ]
     },
     "metadata": {},
     "output_type": "display_data"
    },
    {
     "data": {
      "text/latex": [
       "$\\displaystyle [8]\\text{   }-{{{{rlse}}}}_{power, ny, q} = 0$"
      ],
      "text/plain": [
       "<IPython.core.display.Math object>"
      ]
     },
     "metadata": {},
     "output_type": "display_data"
    },
    {
     "data": {
      "text/latex": [
       "$\\displaystyle [9]\\text{   }-{{{{rlse}}}}_{power, ny, q} + {φ}_{} \\leq 0$"
      ],
      "text/plain": [
       "<IPython.core.display.Math object>"
      ]
     },
     "metadata": {},
     "output_type": "display_data"
    }
   ],
   "source": [
    "m.power.release(m.ho).prep(30) >= [0.6, 0.7, 0.8, 0.3]\n",
    "m.power.release(m.sd).prep(100) >= [0.4, 0.9, 0.7, 0.6]\n",
    "m.power.release(m.ny).prep(180) >= [0.2, 0.5, 0.7, 0.5]\n",
    "m.release.show()"
   ]
  },
  {
   "cell_type": "markdown",
   "id": "74176947",
   "metadata": {},
   "source": [
    "## For All Locations \n",
    "\n",
    "Generally, in Energia to repeat a constraint over a set, use .forall()\n",
    "\n",
    "If a list is provided, the bounds are iterated over the list [see LB cons]\n",
    "else the bounds are repeated [see UB cons]"
   ]
  },
  {
   "cell_type": "code",
   "execution_count": 9,
   "id": "4954a5eb",
   "metadata": {},
   "outputs": [
    {
     "name": "stdout",
     "output_type": "stream",
     "text": [
      "--- Binding capacity in domain (wf, sd, y)\n",
      "    Completed in 0.00015497207641601562 seconds\n",
      "--- Binding capacity in domain (wf, ho, y)\n",
      "    Completed in 0.00010776519775390625 seconds\n",
      "--- Binding capacity in domain (wf, ny, y)\n",
      "    Completed in 9.393692016601562e-05 seconds\n",
      "--- Binding capacity in domain (wf, sd, y)\n",
      "    Completed in 9.751319885253906e-05 seconds\n",
      "--- Binding capacity in domain (wf, ho, y)\n",
      "    Completed in 9.1552734375e-05 seconds\n",
      "--- Binding capacity in domain (wf, ny, y)\n",
      "    Completed in 8.463859558105469e-05 seconds\n"
     ]
    },
    {
     "data": {
      "text/latex": [
       "$\\displaystyle [10]\\text{   }10 \\cdot {{{\\breve{{cap}}}}}_{wf, sd, y} - {{{cap}}}_{wf, sd, y} \\leq 0$"
      ],
      "text/plain": [
       "<IPython.core.display.Math object>"
      ]
     },
     "metadata": {},
     "output_type": "display_data"
    },
    {
     "data": {
      "text/latex": [
       "$\\displaystyle [11]\\text{   }7 \\cdot {{{{\\breve{{cap}}}}}}_{wf, ho, y} - {{{{cap}}}}_{wf, ho, y} \\leq 0$"
      ],
      "text/plain": [
       "<IPython.core.display.Math object>"
      ]
     },
     "metadata": {},
     "output_type": "display_data"
    },
    {
     "data": {
      "text/latex": [
       "$\\displaystyle [12]\\text{   }20 \\cdot {{{{\\breve{{cap}}}}}}_{wf, ny, y} - {{{{cap}}}}_{wf, ny, y} \\leq 0$"
      ],
      "text/plain": [
       "<IPython.core.display.Math object>"
      ]
     },
     "metadata": {},
     "output_type": "display_data"
    },
    {
     "data": {
      "text/latex": [
       "$\\displaystyle [13]\\text{   }{{{{cap}}}}_{wf, sd, y} - 100 \\cdot {{{{\\breve{{cap}}}}}}_{wf, sd, y} \\leq 0$"
      ],
      "text/plain": [
       "<IPython.core.display.Math object>"
      ]
     },
     "metadata": {},
     "output_type": "display_data"
    },
    {
     "data": {
      "text/latex": [
       "$\\displaystyle [14]\\text{   }{{{{cap}}}}_{wf, ho, y} - 100 \\cdot {{{{\\breve{{cap}}}}}}_{wf, ho, y} \\leq 0$"
      ],
      "text/plain": [
       "<IPython.core.display.Math object>"
      ]
     },
     "metadata": {},
     "output_type": "display_data"
    },
    {
     "data": {
      "text/latex": [
       "$\\displaystyle [15]\\text{   }{{{{cap}}}}_{wf, ny, y} - 100 \\cdot {{{{\\breve{{cap}}}}}}_{wf, ny, y} \\leq 0$"
      ],
      "text/plain": [
       "<IPython.core.display.Math object>"
      ]
     },
     "metadata": {},
     "output_type": "display_data"
    }
   ],
   "source": [
    "m.wf = Process(m.power)\n",
    "m.wf(m.power) == -1 * m.wind\n",
    "[10, 7, 20] <= m.wf.capacity.x.forall(m.network.has)\n",
    "m.wf.capacity.x.forall(m.network.has) <= 100\n",
    "m.wf.show()"
   ]
  },
  {
   "cell_type": "markdown",
   "id": "e3a4830d",
   "metadata": {},
   "source": [
    "Bounds can also be provided individually"
   ]
  },
  {
   "cell_type": "code",
   "execution_count": 10,
   "id": "209f685c",
   "metadata": {},
   "outputs": [
    {
     "name": "stdout",
     "output_type": "stream",
     "text": [
      "--- Binding operate in domain (wf, ho, q)\n",
      "    Completed in 0.00038695335388183594 seconds\n",
      "--- Binding operate in domain (wf, sd, q)\n",
      "    Completed in 0.0001690387725830078 seconds\n",
      "--- Binding operate in domain (wf, ny, q)\n",
      "    Completed in 0.00015091896057128906 seconds\n"
     ]
    },
    {
     "data": {
      "text/latex": [
       "$\\displaystyle [34]\\text{   }{{{opr}}}_{wf, ho, q{0}} - 0.9 \\cdot {{{cap}}}_{wf, ho, y{0}} \\leq 0$"
      ],
      "text/plain": [
       "<IPython.core.display.Math object>"
      ]
     },
     "metadata": {},
     "output_type": "display_data"
    },
    {
     "data": {
      "text/latex": [
       "$\\displaystyle [35]\\text{   }{{{opr}}}_{wf, ho, q{1}} - 0.8 \\cdot {{{cap}}}_{wf, ho, y{0}} \\leq 0$"
      ],
      "text/plain": [
       "<IPython.core.display.Math object>"
      ]
     },
     "metadata": {},
     "output_type": "display_data"
    },
    {
     "data": {
      "text/latex": [
       "$\\displaystyle [36]\\text{   }{{{opr}}}_{wf, ho, q{2}} - 0.5 \\cdot {{{cap}}}_{wf, ho, y{0}} \\leq 0$"
      ],
      "text/plain": [
       "<IPython.core.display.Math object>"
      ]
     },
     "metadata": {},
     "output_type": "display_data"
    },
    {
     "data": {
      "text/latex": [
       "$\\displaystyle [37]\\text{   }{{{opr}}}_{wf, ho, q{3}} - 0.7 \\cdot {{{cap}}}_{wf, ho, y{0}} \\leq 0$"
      ],
      "text/plain": [
       "<IPython.core.display.Math object>"
      ]
     },
     "metadata": {},
     "output_type": "display_data"
    },
    {
     "data": {
      "text/latex": [
       "$\\displaystyle [38]\\text{   }{{{opr}}}_{wf, sd, q{0}} - 0.8 \\cdot {{{cap}}}_{wf, sd, y{0}} \\leq 0$"
      ],
      "text/plain": [
       "<IPython.core.display.Math object>"
      ]
     },
     "metadata": {},
     "output_type": "display_data"
    },
    {
     "data": {
      "text/latex": [
       "$\\displaystyle [39]\\text{   }{{{opr}}}_{wf, sd, q{1}} - 0.7 \\cdot {{{cap}}}_{wf, sd, y{0}} \\leq 0$"
      ],
      "text/plain": [
       "<IPython.core.display.Math object>"
      ]
     },
     "metadata": {},
     "output_type": "display_data"
    },
    {
     "data": {
      "text/latex": [
       "$\\displaystyle [40]\\text{   }{{{opr}}}_{wf, sd, q{2}} - 0.6 \\cdot {{{cap}}}_{wf, sd, y{0}} \\leq 0$"
      ],
      "text/plain": [
       "<IPython.core.display.Math object>"
      ]
     },
     "metadata": {},
     "output_type": "display_data"
    },
    {
     "data": {
      "text/latex": [
       "$\\displaystyle [41]\\text{   }{{{opr}}}_{wf, sd, q{3}} - 0.5 \\cdot {{{cap}}}_{wf, sd, y{0}} \\leq 0$"
      ],
      "text/plain": [
       "<IPython.core.display.Math object>"
      ]
     },
     "metadata": {},
     "output_type": "display_data"
    },
    {
     "data": {
      "text/latex": [
       "$\\displaystyle [42]\\text{   }{{{opr}}}_{wf, ny, q{0}} - 0.6 \\cdot {{{cap}}}_{wf, ny, y{0}} \\leq 0$"
      ],
      "text/plain": [
       "<IPython.core.display.Math object>"
      ]
     },
     "metadata": {},
     "output_type": "display_data"
    },
    {
     "data": {
      "text/latex": [
       "$\\displaystyle [43]\\text{   }{{{opr}}}_{wf, ny, q{1}} - 0.5 \\cdot {{{cap}}}_{wf, ny, y{0}} \\leq 0$"
      ],
      "text/plain": [
       "<IPython.core.display.Math object>"
      ]
     },
     "metadata": {},
     "output_type": "display_data"
    },
    {
     "data": {
      "text/latex": [
       "$\\displaystyle [44]\\text{   }{{{opr}}}_{wf, ny, q{2}} - 0.4 \\cdot {{{cap}}}_{wf, ny, y{0}} \\leq 0$"
      ],
      "text/plain": [
       "<IPython.core.display.Math object>"
      ]
     },
     "metadata": {},
     "output_type": "display_data"
    },
    {
     "data": {
      "text/latex": [
       "$\\displaystyle [45]\\text{   }{{{opr}}}_{wf, ny, q{3}} - 0.3 \\cdot {{{cap}}}_{wf, ny, y{0}} \\leq 0$"
      ],
      "text/plain": [
       "<IPython.core.display.Math object>"
      ]
     },
     "metadata": {},
     "output_type": "display_data"
    }
   ],
   "source": [
    "m.wf.operate.prep(norm=True)(m.ho) <= [0.9, 0.8, 0.5, 0.7]\n",
    "m.wf.operate.prep(norm=True)(m.sd) <= [0.8, 0.7, 0.6, 0.5]\n",
    "m.wf.operate.prep(norm=True)(m.ny) <= [0.6, 0.5, 0.4, 0.3]\n",
    "m.operate.show(True)\n",
    "# m.wf.operate.prep(norm = True).forall(m.network.has) <= [[0.9, 0.8, 0.5, 0.7], [0.8, 0.7, 0.6, 0.5], [0.6, 0.5, 0.4, 0.3]]"
   ]
  },
  {
   "cell_type": "markdown",
   "id": "0889efcf",
   "metadata": {},
   "source": [
    "Calculations can also be provided for all locations as a list or repeated"
   ]
  },
  {
   "cell_type": "code",
   "execution_count": 11,
   "id": "9351a076",
   "metadata": {},
   "outputs": [],
   "source": [
    "m.wf.capacity[m.usd.spend].forall(m.network.has) == [90000, 70000, 60000]\n",
    "m.wf.operate[m.usd.spend] == 49"
   ]
  },
  {
   "cell_type": "code",
   "execution_count": 12,
   "id": "93875baa",
   "metadata": {},
   "outputs": [
    {
     "data": {
      "text/markdown": [
       "# Mathematical Program for Program(example4)"
      ],
      "text/plain": [
       "<IPython.core.display.Markdown object>"
      ]
     },
     "metadata": {},
     "output_type": "display_data"
    },
    {
     "data": {
      "text/markdown": [
       "<br><br>"
      ],
      "text/plain": [
       "<IPython.core.display.Markdown object>"
      ]
     },
     "metadata": {},
     "output_type": "display_data"
    },
    {
     "data": {
      "text/markdown": [
       "## Index Sets"
      ],
      "text/plain": [
       "<IPython.core.display.Markdown object>"
      ]
     },
     "metadata": {},
     "output_type": "display_data"
    },
    {
     "data": {
      "text/latex": [
       "$\\displaystyle currencies = \\{ usd \\}$"
      ],
      "text/plain": [
       "<IPython.core.display.Math object>"
      ]
     },
     "metadata": {},
     "output_type": "display_data"
    },
    {
     "data": {
      "text/latex": [
       "$\\displaystyle locations = \\{ ho, sd, ny, ntw \\}$"
      ],
      "text/plain": [
       "<IPython.core.display.Math object>"
      ]
     },
     "metadata": {},
     "output_type": "display_data"
    },
    {
     "data": {
      "text/latex": [
       "$\\displaystyle resources = \\{ power, wind, solar \\}$"
      ],
      "text/plain": [
       "<IPython.core.display.Math object>"
      ]
     },
     "metadata": {},
     "output_type": "display_data"
    },
    {
     "data": {
      "text/latex": [
       "$\\displaystyle y = \\{ {y_{0}} \\}$"
      ],
      "text/plain": [
       "<IPython.core.display.Math object>"
      ]
     },
     "metadata": {},
     "output_type": "display_data"
    },
    {
     "data": {
      "text/latex": [
       "$\\displaystyle q = \\{ {q_{0}}, {q_{1}}, {q_{2}}, {q_{3}} \\}$"
      ],
      "text/plain": [
       "<IPython.core.display.Math object>"
      ]
     },
     "metadata": {},
     "output_type": "display_data"
    },
    {
     "data": {
      "text/latex": [
       "$\\displaystyle processes = \\{ wf \\}$"
      ],
      "text/plain": [
       "<IPython.core.display.Math object>"
      ]
     },
     "metadata": {},
     "output_type": "display_data"
    },
    {
     "data": {
      "text/markdown": [
       "<br><br>"
      ],
      "text/plain": [
       "<IPython.core.display.Markdown object>"
      ]
     },
     "metadata": {},
     "output_type": "display_data"
    },
    {
     "data": {
      "text/markdown": [
       "## s.t."
      ],
      "text/plain": [
       "<IPython.core.display.Markdown object>"
      ]
     },
     "metadata": {},
     "output_type": "display_data"
    },
    {
     "data": {
      "text/markdown": [
       "### Bound Constraint Sets"
      ],
      "text/plain": [
       "<IPython.core.display.Markdown object>"
      ]
     },
     "metadata": {},
     "output_type": "display_data"
    },
    {
     "data": {
      "text/latex": [
       "$\\displaystyle [1]\\text{   }{{{cons}}}_{solar, ntw, y} - 1200 \\leq 0$"
      ],
      "text/plain": [
       "<IPython.core.display.Math object>"
      ]
     },
     "metadata": {},
     "output_type": "display_data"
    },
    {
     "data": {
      "text/latex": [
       "$\\displaystyle [3]\\text{   }{{{{cons}}}}_{wind, ntw, y} - 1200 \\leq 0$"
      ],
      "text/plain": [
       "<IPython.core.display.Math object>"
      ]
     },
     "metadata": {},
     "output_type": "display_data"
    },
    {
     "data": {
      "text/latex": [
       "$\\displaystyle [5]\\text{   }-{{{rlse}}}_{power, ho, q} + {φ}_{} \\leq 0$"
      ],
      "text/plain": [
       "<IPython.core.display.Math object>"
      ]
     },
     "metadata": {},
     "output_type": "display_data"
    },
    {
     "data": {
      "text/latex": [
       "$\\displaystyle [7]\\text{   }-{{{{rlse}}}}_{power, sd, q} + {φ}_{} \\leq 0$"
      ],
      "text/plain": [
       "<IPython.core.display.Math object>"
      ]
     },
     "metadata": {},
     "output_type": "display_data"
    },
    {
     "data": {
      "text/latex": [
       "$\\displaystyle [9]\\text{   }-{{{{rlse}}}}_{power, ny, q} + {φ}_{} \\leq 0$"
      ],
      "text/plain": [
       "<IPython.core.display.Math object>"
      ]
     },
     "metadata": {},
     "output_type": "display_data"
    },
    {
     "data": {
      "text/latex": [
       "$\\displaystyle [10]\\text{   }10 \\cdot {{{\\breve{{cap}}}}}_{wf, sd, y} - {{{cap}}}_{wf, sd, y} \\leq 0$"
      ],
      "text/plain": [
       "<IPython.core.display.Math object>"
      ]
     },
     "metadata": {},
     "output_type": "display_data"
    },
    {
     "data": {
      "text/latex": [
       "$\\displaystyle [11]\\text{   }7 \\cdot {{{{\\breve{{cap}}}}}}_{wf, ho, y} - {{{{cap}}}}_{wf, ho, y} \\leq 0$"
      ],
      "text/plain": [
       "<IPython.core.display.Math object>"
      ]
     },
     "metadata": {},
     "output_type": "display_data"
    },
    {
     "data": {
      "text/latex": [
       "$\\displaystyle [12]\\text{   }20 \\cdot {{{{\\breve{{cap}}}}}}_{wf, ny, y} - {{{{cap}}}}_{wf, ny, y} \\leq 0$"
      ],
      "text/plain": [
       "<IPython.core.display.Math object>"
      ]
     },
     "metadata": {},
     "output_type": "display_data"
    },
    {
     "data": {
      "text/latex": [
       "$\\displaystyle [13]\\text{   }{{{{cap}}}}_{wf, sd, y} - 100 \\cdot {{{{\\breve{{cap}}}}}}_{wf, sd, y} \\leq 0$"
      ],
      "text/plain": [
       "<IPython.core.display.Math object>"
      ]
     },
     "metadata": {},
     "output_type": "display_data"
    },
    {
     "data": {
      "text/latex": [
       "$\\displaystyle [14]\\text{   }{{{{cap}}}}_{wf, ho, y} - 100 \\cdot {{{{\\breve{{cap}}}}}}_{wf, ho, y} \\leq 0$"
      ],
      "text/plain": [
       "<IPython.core.display.Math object>"
      ]
     },
     "metadata": {},
     "output_type": "display_data"
    },
    {
     "data": {
      "text/latex": [
       "$\\displaystyle [15]\\text{   }{{{{cap}}}}_{wf, ny, y} - 100 \\cdot {{{{\\breve{{cap}}}}}}_{wf, ny, y} \\leq 0$"
      ],
      "text/plain": [
       "<IPython.core.display.Math object>"
      ]
     },
     "metadata": {},
     "output_type": "display_data"
    },
    {
     "data": {
      "text/latex": [
       "$\\displaystyle [16]\\text{   }{{{opr}}}_{wf, ho, q} - {φ}_{} \\cdot {{{{cap}}}}_{wf, ho, y} \\leq 0$"
      ],
      "text/plain": [
       "<IPython.core.display.Math object>"
      ]
     },
     "metadata": {},
     "output_type": "display_data"
    },
    {
     "data": {
      "text/latex": [
       "$\\displaystyle [17]\\text{   }{{{{opr}}}}_{wf, sd, q} - {φ}_{} \\cdot {{{{cap}}}}_{wf, sd, y} \\leq 0$"
      ],
      "text/plain": [
       "<IPython.core.display.Math object>"
      ]
     },
     "metadata": {},
     "output_type": "display_data"
    },
    {
     "data": {
      "text/latex": [
       "$\\displaystyle [18]\\text{   }{{{{opr}}}}_{wf, ny, q} - {φ}_{} \\cdot {{{{cap}}}}_{wf, ny, y} \\leq 0$"
      ],
      "text/plain": [
       "<IPython.core.display.Math object>"
      ]
     },
     "metadata": {},
     "output_type": "display_data"
    },
    {
     "data": {
      "text/markdown": [
       "### Calculation Constraint Sets"
      ],
      "text/plain": [
       "<IPython.core.display.Markdown object>"
      ]
     },
     "metadata": {},
     "output_type": "display_data"
    },
    {
     "data": {
      "text/latex": [
       "$\\displaystyle [19]\\text{   }{{spend}}_{usd, sd, y, {capacity}, wf} - 90000 \\cdot {{{{cap}}}}_{wf, sd, y} = 0$"
      ],
      "text/plain": [
       "<IPython.core.display.Math object>"
      ]
     },
     "metadata": {},
     "output_type": "display_data"
    },
    {
     "data": {
      "text/latex": [
       "$\\displaystyle [20]\\text{   }{{{spend}}}_{usd, ho, y, {capacity}, wf} - 70000 \\cdot {{{{cap}}}}_{wf, ho, y} = 0$"
      ],
      "text/plain": [
       "<IPython.core.display.Math object>"
      ]
     },
     "metadata": {},
     "output_type": "display_data"
    },
    {
     "data": {
      "text/latex": [
       "$\\displaystyle [21]\\text{   }{{{spend}}}_{usd, ny, y, {capacity}, wf} - 60000 \\cdot {{{{cap}}}}_{wf, ny, y} = 0$"
      ],
      "text/plain": [
       "<IPython.core.display.Math object>"
      ]
     },
     "metadata": {},
     "output_type": "display_data"
    },
    {
     "data": {
      "text/latex": [
       "$\\displaystyle [22]\\text{   }{{{spend}}}_{usd, ntw, y, {operate}, wf} - 49 \\cdot {{{{opr}}}}_{wf, ntw, y} = 0$"
      ],
      "text/plain": [
       "<IPython.core.display.Math object>"
      ]
     },
     "metadata": {},
     "output_type": "display_data"
    },
    {
     "data": {
      "text/markdown": [
       "### General Resource Balance Constraint Sets"
      ],
      "text/plain": [
       "<IPython.core.display.Markdown object>"
      ]
     },
     "metadata": {},
     "output_type": "display_data"
    },
    {
     "data": {
      "text/latex": [
       "$\\displaystyle [0]\\text{   }{{{cons}}}_{solar, ntw, y} = 0$"
      ],
      "text/plain": [
       "<IPython.core.display.Math object>"
      ]
     },
     "metadata": {},
     "output_type": "display_data"
    },
    {
     "data": {
      "text/latex": [
       "$\\displaystyle [2]\\text{   }{{{{cons}}}}_{wind, ntw, y} = 0$"
      ],
      "text/plain": [
       "<IPython.core.display.Math object>"
      ]
     },
     "metadata": {},
     "output_type": "display_data"
    },
    {
     "data": {
      "text/latex": [
       "$\\displaystyle [4]\\text{   }-{{{rlse}}}_{power, ho, q} = 0$"
      ],
      "text/plain": [
       "<IPython.core.display.Math object>"
      ]
     },
     "metadata": {},
     "output_type": "display_data"
    },
    {
     "data": {
      "text/latex": [
       "$\\displaystyle [6]\\text{   }-{{{{rlse}}}}_{power, sd, q} = 0$"
      ],
      "text/plain": [
       "<IPython.core.display.Math object>"
      ]
     },
     "metadata": {},
     "output_type": "display_data"
    },
    {
     "data": {
      "text/latex": [
       "$\\displaystyle [8]\\text{   }-{{{{rlse}}}}_{power, ny, q} = 0$"
      ],
      "text/plain": [
       "<IPython.core.display.Math object>"
      ]
     },
     "metadata": {},
     "output_type": "display_data"
    }
   ],
   "source": [
    "m.show()"
   ]
  },
  {
   "cell_type": "markdown",
   "id": "99b036bb",
   "metadata": {},
   "source": [
    "In the case where location specific data is not provided, the parameter is assumed tuo apply to the network"
   ]
  },
  {
   "cell_type": "code",
   "execution_count": 13,
   "id": "ae7e2a28",
   "metadata": {},
   "outputs": [],
   "source": [
    "m.pv = Process()\n",
    "m.pv(m.power) == -1 * m.solar"
   ]
  },
  {
   "cell_type": "code",
   "execution_count": 14,
   "id": "9296564f",
   "metadata": {},
   "outputs": [
    {
     "name": "stdout",
     "output_type": "stream",
     "text": [
      "--- Binding capacity in domain (pv, ntw, y)\n",
      "    Completed in 0.0001575946807861328 seconds\n",
      "--- Binding capacity in domain (pv, ntw, y)\n",
      "    Completed in 9.918212890625e-05 seconds\n",
      "--- Binding operate in domain (pv, sd, q)\n",
      "--- Aspect (capacity) not defined at sd, a variable will be created assuming y as the temporal index\n",
      "--- Creating map to (pv, ntw, y). Mapping capacity: from (pv, sd, y) to (pv, ntw, y)\n",
      "    Completed in 6.222724914550781e-05 seconds\n",
      "    Completed in 0.0003361701965332031 seconds\n",
      "--- Binding operate in domain (pv, ho, q)\n",
      "--- Aspect (capacity) not defined at ho, a variable will be created assuming y as the temporal index\n",
      "--- Mapping capacity: from (pv, ho, y) to (pv, ntw, y)\n",
      "    Completed in 7.081031799316406e-05 seconds\n",
      "    Completed in 0.0003757476806640625 seconds\n",
      "--- Binding operate in domain (pv, ny, q)\n",
      "--- Aspect (capacity) not defined at ny, a variable will be created assuming y as the temporal index\n",
      "--- Mapping capacity: from (pv, ny, y) to (pv, ntw, y)\n",
      "    Completed in 4.4345855712890625e-05 seconds\n",
      "    Completed in 0.00045037269592285156 seconds\n",
      "--- Binding invcapacity in domain (power.lii, ntw, y)\n",
      "    Completed in 0.00012159347534179688 seconds\n",
      "--- Binding invcapacity in domain (power.lii, ntw, y)\n",
      "    Completed in 9.799003601074219e-05 seconds\n",
      "--- General Resource Balance for power.lii in (ntw, y): initializing constraint, adding inventory(power.lii, ntw, y)\n",
      "--- Binding capacity in domain (lii.charge, ntw, y)\n",
      "    Completed in 4.0531158447265625e-05 seconds\n",
      "--- Binding operate in domain (lii.charge, ntw, y)\n",
      "    Completed in 7.200241088867188e-05 seconds\n",
      "--- Binding capacity in domain (lii.discharge, ntw, y)\n",
      "    Completed in 3.814697265625e-05 seconds\n",
      "--- Binding operate in domain (lii.discharge, ntw, y)\n",
      "    Completed in 6.29425048828125e-05 seconds\n",
      "--- Creating map to (wf, ntw, y). Mapping capacity: from (wf, ho, y) to (wf, ntw, y)\n",
      "    Completed in 6.175041198730469e-05 seconds\n",
      "--- Mapping capacity: from (wf, sd, y) to (wf, ntw, y)\n",
      "    Completed in 3.981590270996094e-05 seconds\n",
      "--- Mapping capacity: from (wf, ny, y) to (wf, ntw, y)\n",
      "    Completed in 3.5762786865234375e-05 seconds\n",
      "--- General Resource Balance for cement in (ntw, y): initializing constraint, adding consume(cement, ntw, y)\n",
      "    Completed in 6.747245788574219e-05 seconds\n",
      "--- Binding consume in domain (cement, ntw, y)\n",
      "    Completed in 4.0531158447265625e-05 seconds\n",
      "--- General Resource Balance for cement in (ntw, y): adding use(cement, ntw, y, capacity, wf)\n",
      "    Completed in 6.031990051269531e-05 seconds\n",
      "--- General Resource Balance for cement in (ntw, y): adding use(cement, ntw, y, capacity, pv)\n",
      "    Completed in 5.817413330078125e-05 seconds\n",
      "--- General Resource Balance for cement in (ntw, y): adding use(cement, ntw, y, invcapacity, power.lii)\n",
      "    Completed in 5.435943603515625e-05 seconds\n"
     ]
    }
   ],
   "source": [
    "m.pv.capacity.x <= 100\n",
    "m.pv.capacity.x >= 10\n",
    "m.pv.operate.prep(norm=True).forall(m.network.has) <= [\n",
    "    [0.6, 0.8, 0.9, 0.7],\n",
    "    [0.5, 0.7, 0.6, 0.5],\n",
    "    [0.4, 0.6, 0.5, 0.4],\n",
    "]\n",
    "m.pv.capacity[m.usd.spend] == 567000 + 872046\n",
    "m.pv.operate[m.usd.spend] == 90000\n",
    "\n",
    "m.lii = Storage()\n",
    "m.lii(m.power) == 0.9\n",
    "m.lii.capacity.x <= 100\n",
    "m.lii.capacity.x >= 10\n",
    "m.lii.capacity[m.usd.spend] == 1302182 + 41432\n",
    "m.lii.inventory[m.usd.spend] == 2000\n",
    "m.lii.charge.capacity <= 100\n",
    "m.lii.charge.operate <= 1\n",
    "m.lii.discharge.capacity <= 100\n",
    "m.lii.discharge.operate <= 1\n",
    "\n",
    "m.gwp = Environ()\n",
    "\n",
    "m.wf.capacity[m.gwp.emit] == 1000\n",
    "m.pv.capacity[m.gwp.emit] == 2000\n",
    "m.lii.capacity[m.gwp.emit] == 3000\n",
    "\n",
    "m.cement = Material()\n",
    "m.cement.consume <= 1000000\n",
    "m.cement.consume[m.usd.spend] == 17\n",
    "m.cement.consume[m.gwp.emit] == 0.9\n",
    "\n",
    "m.wf.capacity[m.cement.use] == 400\n",
    "m.pv.capacity[m.cement.use] == 560\n",
    "m.lii.capacity[m.cement.use] == 300"
   ]
  },
  {
   "cell_type": "markdown",
   "id": "b3f2f7a5",
   "metadata": {},
   "source": [
    "## Linkages "
   ]
  },
  {
   "cell_type": "markdown",
   "id": "0d06a78d",
   "metadata": {},
   "source": [
    "A grid of valid linkages can be created from sources to sinks.\n",
    "\n",
    "Linkages are always one directional, stating bi, created a link from source to sink and the other way round \n",
    "\n",
    "If multiple links exist between two locations with different distances, it is necessary to create named links. \n",
    "Again, it needs to be stated whether the links are bi directional "
   ]
  },
  {
   "cell_type": "code",
   "execution_count": 15,
   "id": "4164ba42",
   "metadata": {},
   "outputs": [
    {
     "data": {
      "text/plain": [
       "[ho-sd, sd-ho, road, -road]"
      ]
     },
     "execution_count": 15,
     "metadata": {},
     "output_type": "execute_result"
    }
   ],
   "source": [
    "m.Link(source=m.ho, sink=m.sd, dist=2000, bi=True)\n",
    "# m.Link(source = m.sd, sink=m.ny, dist = 1500)\n",
    "m.road = Linkage(source=m.ho, sink=m.ny, dist=3000, bi=True)\n",
    "# m.rail = Link(source = m.ho, sink=m.ny, dist = 5000, bi = True)\n",
    "m.linkages"
   ]
  },
  {
   "cell_type": "code",
   "execution_count": 16,
   "id": "02e86387",
   "metadata": {},
   "outputs": [
    {
     "name": "stdout",
     "output_type": "stream",
     "text": [
      "ho is source and sd is sink in ho-sd\n",
      "sd is source and ho is sink in sd-ho\n"
     ]
    },
    {
     "data": {
      "text/plain": [
       "[ho-sd, sd-ho]"
      ]
     },
     "execution_count": 16,
     "metadata": {},
     "output_type": "execute_result"
    }
   ],
   "source": [
    "m.ho.links(m.sd)"
   ]
  },
  {
   "cell_type": "markdown",
   "id": "72275a98",
   "metadata": {},
   "source": [
    "## Transits\n",
    "\n",
    "Declare some transport options between across the linkages \n"
   ]
  },
  {
   "cell_type": "code",
   "execution_count": 17,
   "id": "cfbb8036",
   "metadata": {},
   "outputs": [
    {
     "name": "stdout",
     "output_type": "stream",
     "text": [
      "--- Binding capacity in domain (grid, ho-sd, y)\n",
      "    Completed in 0.0001628398895263672 seconds\n",
      "--- Binding capacity in domain (grid, road, y)\n",
      "    Completed in 0.00010323524475097656 seconds\n",
      "--- Binding operate in domain (grid, ho-sd, q)\n",
      "    Completed in 0.0001571178436279297 seconds\n",
      "--- Binding operate in domain (grid, road, q)\n",
      "    Completed in 0.0001461505889892578 seconds\n"
     ]
    }
   ],
   "source": [
    "m.declare(Resource, ['h2o', 'co2'])\n",
    "m.grid = Transport()\n",
    "m.grid(m.power) == -m.h2o + m.co2\n",
    "m.grid.capacity.x.forall([m.ho - m.sd, m.road]) <= 100\n",
    "m.grid.operate.prep(norm=True).forall([m.ho - m.sd, m.road]) <= [\n",
    "    [0.9, 0.8, 0.5, 0.7],\n",
    "    [0.8, 0.7, 0.6, 0.9],\n",
    "]\n",
    "m.grid.operate[m.usd.spend] == 2000\n",
    "m.grid.capacity[m.usd.spend] == 1000"
   ]
  },
  {
   "cell_type": "code",
   "execution_count": 18,
   "id": "cfcb4dcf",
   "metadata": {},
   "outputs": [
    {
     "name": "stdout",
     "output_type": "stream",
     "text": [
      "--- Assuming  pv capacity is unbounded in (ho, y)\n",
      "--- General Resource Balance for power in (ho, q): adding produce(power, ho, q, operate, pv)\n",
      "    Completed in 0.00011157989501953125 seconds\n",
      "--- General Resource Balance for solar in (ntw, y): adding expend\n",
      "    Completed in 5.8650970458984375e-05 seconds\n",
      "--- Mapping operate across time from (pv, ho, q) to (pv, ho, y)\n",
      "--- Creating map to (pv, ho, y). Mapping operate: from (pv, ho, q) to (pv, ho, y)\n",
      "    Completed in 6.0558319091796875e-05 seconds\n",
      "--- Creating map to (pv, ntw, y). Mapping operate: from (pv, ho, y) to (pv, ntw, y)\n",
      "    Completed in 5.4836273193359375e-05 seconds\n",
      "--- General Resource Balance for power in (ho, q): adding produce(power, ho, q, operate, wf)\n",
      "    Completed in 9.822845458984375e-05 seconds\n",
      "--- General Resource Balance for wind in (ntw, y): adding expend\n",
      "    Completed in 6.175041198730469e-05 seconds\n",
      "--- Mapping operate across time from (wf, ho, q) to (wf, ho, y)\n",
      "--- Creating map to (wf, ho, y). Mapping operate: from (wf, ho, q) to (wf, ho, y)\n",
      "    Completed in 5.7697296142578125e-05 seconds\n",
      "--- Creating map to (wf, ntw, y). Mapping operate: from (wf, ho, y) to (wf, ntw, y)\n",
      "    Completed in 0.00022411346435546875 seconds\n",
      "--- Assuming  power.lii inventory capacity is unbounded in (ho, y)\n",
      "--- Creating map to (power.lii, ntw, y). Mapping invcapacity: from (power.lii, ho, y) to (power.lii, ntw, y)\n",
      "    Completed in 6.031990051269531e-05 seconds\n",
      "--- Assuming inventory of power.lii is bound by inventory capacity in (ho, y)\n",
      "--- Assuming inventory of power.lii is bound by inventory capacity in (ho, q)\n",
      "--- Creating map to (power.lii, ntw, q). Mapping inventory: from (power.lii, ho, q) to (power.lii, ntw, q)\n",
      "--- Mapping inventory across time from (power.lii, ntw, q) to (power.lii, ntw, y)\n",
      "--- Creating map to (power.lii, ntw, y). Mapping inventory: from (power.lii, ntw, q) to (power.lii, ntw, y)\n",
      "    Completed in 5.8650970458984375e-05 seconds\n",
      "--- General Resource Balance for power.lii in (ntw, q): initializing constraint, adding inventory(power.lii, ntw, q)\n",
      "    Completed in 0.00018835067749023438 seconds\n",
      "    Completed in 0.0005881786346435547 seconds\n",
      "--- General Resource Balance for power.lii in (ntw, q): adding inventory\n",
      "    Completed in 7.557868957519531e-05 seconds\n",
      "--- Binding inventory in domain (power.lii, ho, q)\n",
      "    Completed in 8.845329284667969e-05 seconds\n",
      "--- Assuming  lii.charge capacity is unbounded in (ho, y)\n",
      "--- Creating map to (lii.charge, ntw, y). Mapping capacity: from (lii.charge, ho, y) to (lii.charge, ntw, y)\n",
      "    Completed in 5.3882598876953125e-05 seconds\n",
      "--- Assuming operation of lii.charge is bound by capacity in (ho, y)\n",
      "--- Creating map to (lii.charge, ntw, y). Mapping operate: from (lii.charge, ho, y) to (lii.charge, ntw, y)\n",
      "    Completed in 5.364418029785156e-05 seconds\n",
      "--- Binding operate in domain (lii.charge, ho, y)\n",
      "    Completed in 5.7697296142578125e-05 seconds\n",
      "--- General Resource Balance for power.lii in (ntw, q): adding produce\n",
      "    Completed in 9.584426879882812e-05 seconds\n",
      "--- Mapping operate across time from (lii.charge, ho, q) to (lii.charge, ho, y)\n",
      "--- Creating map to (lii.charge, ho, y). Mapping operate: from (lii.charge, ho, q) to (lii.charge, ho, y)\n",
      "    Completed in 5.91278076171875e-05 seconds\n",
      "--- Creating map to (lii.charge, ntw, q). Mapping operate: from (lii.charge, ho, q) to (lii.charge, ntw, q)\n",
      "--- Mapping operate across time from (lii.charge, ntw, q) to (lii.charge, ntw, y)\n",
      "--- Creating map to (lii.charge, ntw, y). Mapping operate: from (lii.charge, ntw, q) to (lii.charge, ntw, y)\n",
      "    Completed in 6.341934204101562e-05 seconds\n",
      "    Completed in 0.0005145072937011719 seconds\n",
      "--- General Resource Balance for power in (ho, q): adding expend(power, ho, q, operate, lii.charge)\n",
      "    Completed in 9.322166442871094e-05 seconds\n",
      "--- Assuming  lii.discharge capacity is unbounded in (ho, y)\n",
      "--- Creating map to (lii.discharge, ntw, y). Mapping capacity: from (lii.discharge, ho, y) to (lii.discharge, ntw, y)\n",
      "    Completed in 5.817413330078125e-05 seconds\n",
      "--- Assuming operation of lii.discharge is bound by capacity in (ho, y)\n",
      "--- Creating map to (lii.discharge, ntw, y). Mapping operate: from (lii.discharge, ho, y) to (lii.discharge, ntw, y)\n",
      "    Completed in 5.435943603515625e-05 seconds\n",
      "--- Binding operate in domain (lii.discharge, ho, y)\n",
      "    Completed in 7.081031799316406e-05 seconds\n",
      "--- General Resource Balance for power in (ho, q): adding produce(power, ho, q, operate, lii.discharge)\n",
      "    Completed in 9.608268737792969e-05 seconds\n",
      "--- Mapping operate across time from (lii.discharge, ho, q) to (lii.discharge, ho, y)\n",
      "--- Creating map to (lii.discharge, ho, y). Mapping operate: from (lii.discharge, ho, q) to (lii.discharge, ho, y)\n",
      "    Completed in 6.0558319091796875e-05 seconds\n",
      "--- Creating map to (lii.discharge, ntw, q). Mapping operate: from (lii.discharge, ho, q) to (lii.discharge, ntw, q)\n",
      "--- Mapping operate across time from (lii.discharge, ntw, q) to (lii.discharge, ntw, y)\n",
      "--- Creating map to (lii.discharge, ntw, y). Mapping operate: from (lii.discharge, ntw, q) to (lii.discharge, ntw, y)\n",
      "    Completed in 5.221366882324219e-05 seconds\n",
      "    Completed in 0.00040435791015625 seconds\n",
      "--- General Resource Balance for power.lii in (ntw, q): adding expend\n",
      "    Completed in 9.870529174804688e-05 seconds\n",
      "--- Assuming  pv capacity is unbounded in (sd, y)\n",
      "--- General Resource Balance for power in (sd, q): adding produce(power, sd, q, operate, pv)\n",
      "    Completed in 8.296966552734375e-05 seconds\n",
      "--- General Resource Balance for solar in (ntw, y): adding expend\n",
      "    Completed in 5.53131103515625e-05 seconds\n",
      "--- Mapping operate across time from (pv, sd, q) to (pv, sd, y)\n",
      "--- Creating map to (pv, sd, y). Mapping operate: from (pv, sd, q) to (pv, sd, y)\n",
      "    Completed in 5.698204040527344e-05 seconds\n",
      "--- Mapping operate: from (pv, sd, y) to (pv, ntw, y)\n",
      "    Completed in 4.3392181396484375e-05 seconds\n",
      "--- General Resource Balance for power in (sd, q): adding produce(power, sd, q, operate, wf)\n",
      "    Completed in 8.058547973632812e-05 seconds\n",
      "--- General Resource Balance for wind in (ntw, y): adding expend\n",
      "    Completed in 5.435943603515625e-05 seconds\n",
      "--- Mapping operate across time from (wf, sd, q) to (wf, sd, y)\n",
      "--- Creating map to (wf, sd, y). Mapping operate: from (wf, sd, q) to (wf, sd, y)\n",
      "    Completed in 0.00016021728515625 seconds\n",
      "--- Mapping operate: from (wf, sd, y) to (wf, ntw, y)\n",
      "    Completed in 4.124641418457031e-05 seconds\n",
      "--- Assuming  power.lii inventory capacity is unbounded in (sd, y)\n",
      "--- Mapping invcapacity: from (power.lii, sd, y) to (power.lii, ntw, y)\n",
      "    Completed in 3.981590270996094e-05 seconds\n",
      "--- Assuming inventory of power.lii is bound by inventory capacity in (sd, y)\n",
      "--- Assuming inventory of power.lii is bound by inventory capacity in (sd, q)\n",
      "--- Mapping inventory: from (power.lii, sd, q) to (power.lii, ntw, q)\n",
      "    Completed in 6.651878356933594e-05 seconds\n",
      "--- General Resource Balance for power.lii in (ntw, q): adding inventory\n",
      "    Completed in 8.153915405273438e-05 seconds\n",
      "--- Binding inventory in domain (power.lii, sd, q)\n",
      "    Completed in 8.821487426757812e-05 seconds\n",
      "--- Assuming  lii.charge capacity is unbounded in (sd, y)\n",
      "--- Mapping capacity: from (lii.charge, sd, y) to (lii.charge, ntw, y)\n",
      "    Completed in 4.1961669921875e-05 seconds\n",
      "--- Assuming operation of lii.charge is bound by capacity in (sd, y)\n",
      "--- Mapping operate: from (lii.charge, sd, y) to (lii.charge, ntw, y)\n",
      "    Completed in 3.814697265625e-05 seconds\n",
      "--- Binding operate in domain (lii.charge, sd, y)\n",
      "    Completed in 5.91278076171875e-05 seconds\n",
      "--- General Resource Balance for power.lii in (ntw, q): adding produce\n",
      "    Completed in 0.0004889965057373047 seconds\n",
      "--- Mapping operate across time from (lii.charge, sd, q) to (lii.charge, sd, y)\n",
      "--- Creating map to (lii.charge, sd, y). Mapping operate: from (lii.charge, sd, q) to (lii.charge, sd, y)\n",
      "    Completed in 6.580352783203125e-05 seconds\n",
      "--- Mapping operate: from (lii.charge, sd, q) to (lii.charge, ntw, q)\n",
      "    Completed in 6.866455078125e-05 seconds\n",
      "--- General Resource Balance for power in (sd, q): adding expend(power, sd, q, operate, lii.charge)\n",
      "    Completed in 0.0002493858337402344 seconds\n",
      "--- Assuming  lii.discharge capacity is unbounded in (sd, y)\n",
      "--- Mapping capacity: from (lii.discharge, sd, y) to (lii.discharge, ntw, y)\n",
      "    Completed in 4.410743713378906e-05 seconds\n",
      "--- Assuming operation of lii.discharge is bound by capacity in (sd, y)\n",
      "--- Mapping operate: from (lii.discharge, sd, y) to (lii.discharge, ntw, y)\n",
      "    Completed in 4.291534423828125e-05 seconds\n",
      "--- Binding operate in domain (lii.discharge, sd, y)\n",
      "    Completed in 6.866455078125e-05 seconds\n",
      "--- General Resource Balance for power in (sd, q): adding produce(power, sd, q, operate, lii.discharge)\n",
      "    Completed in 9.679794311523438e-05 seconds\n",
      "--- Mapping operate across time from (lii.discharge, sd, q) to (lii.discharge, sd, y)\n",
      "--- Creating map to (lii.discharge, sd, y). Mapping operate: from (lii.discharge, sd, q) to (lii.discharge, sd, y)\n",
      "    Completed in 5.841255187988281e-05 seconds\n",
      "--- Mapping operate: from (lii.discharge, sd, q) to (lii.discharge, ntw, q)\n",
      "    Completed in 6.794929504394531e-05 seconds\n",
      "--- General Resource Balance for power.lii in (ntw, q): adding expend\n",
      "    Completed in 9.608268737792969e-05 seconds\n",
      "--- Assuming  pv capacity is unbounded in (ny, y)\n",
      "--- General Resource Balance for power in (ny, q): adding produce(power, ny, q, operate, pv)\n",
      "    Completed in 0.00010418891906738281 seconds\n",
      "--- General Resource Balance for solar in (ntw, y): adding expend\n",
      "    Completed in 6.771087646484375e-05 seconds\n",
      "--- Mapping operate across time from (pv, ny, q) to (pv, ny, y)\n",
      "--- Creating map to (pv, ny, y). Mapping operate: from (pv, ny, q) to (pv, ny, y)\n",
      "    Completed in 6.103515625e-05 seconds\n",
      "--- Mapping operate: from (pv, ny, y) to (pv, ntw, y)\n",
      "    Completed in 4.1961669921875e-05 seconds\n",
      "--- General Resource Balance for power in (ny, q): adding produce(power, ny, q, operate, wf)\n",
      "    Completed in 8.535385131835938e-05 seconds\n",
      "--- General Resource Balance for wind in (ntw, y): adding expend\n",
      "    Completed in 6.318092346191406e-05 seconds\n",
      "--- Mapping operate across time from (wf, ny, q) to (wf, ny, y)\n",
      "--- Creating map to (wf, ny, y). Mapping operate: from (wf, ny, q) to (wf, ny, y)\n",
      "    Completed in 5.793571472167969e-05 seconds\n",
      "--- Mapping operate: from (wf, ny, y) to (wf, ntw, y)\n",
      "    Completed in 4.076957702636719e-05 seconds\n",
      "--- Assuming  power.lii inventory capacity is unbounded in (ny, y)\n",
      "--- Mapping invcapacity: from (power.lii, ny, y) to (power.lii, ntw, y)\n",
      "    Completed in 4.100799560546875e-05 seconds\n",
      "--- Assuming inventory of power.lii is bound by inventory capacity in (ny, y)\n",
      "--- Assuming inventory of power.lii is bound by inventory capacity in (ny, q)\n",
      "--- Mapping inventory: from (power.lii, ny, q) to (power.lii, ntw, q)\n",
      "    Completed in 6.651878356933594e-05 seconds\n",
      "--- General Resource Balance for power.lii in (ntw, q): adding inventory\n",
      "    Completed in 9.417533874511719e-05 seconds\n",
      "--- Binding inventory in domain (power.lii, ny, q)\n",
      "    Completed in 8.606910705566406e-05 seconds\n",
      "--- Assuming  lii.charge capacity is unbounded in (ny, y)\n",
      "--- Mapping capacity: from (lii.charge, ny, y) to (lii.charge, ntw, y)\n",
      "    Completed in 6.961822509765625e-05 seconds\n",
      "--- Assuming operation of lii.charge is bound by capacity in (ny, y)\n",
      "--- Mapping operate: from (lii.charge, ny, y) to (lii.charge, ntw, y)\n",
      "    Completed in 4.649162292480469e-05 seconds\n",
      "--- Binding operate in domain (lii.charge, ny, y)\n",
      "    Completed in 7.104873657226562e-05 seconds\n",
      "--- General Resource Balance for power.lii in (ntw, q): adding produce\n",
      "    Completed in 0.00010752677917480469 seconds\n",
      "--- Mapping operate across time from (lii.charge, ny, q) to (lii.charge, ny, y)\n",
      "--- Creating map to (lii.charge, ny, y). Mapping operate: from (lii.charge, ny, q) to (lii.charge, ny, y)\n",
      "    Completed in 5.8650970458984375e-05 seconds\n",
      "--- Mapping operate: from (lii.charge, ny, q) to (lii.charge, ntw, q)\n",
      "    Completed in 6.985664367675781e-05 seconds\n",
      "--- General Resource Balance for power in (ny, q): adding expend(power, ny, q, operate, lii.charge)\n",
      "    Completed in 9.226799011230469e-05 seconds\n",
      "--- Assuming  lii.discharge capacity is unbounded in (ny, y)\n",
      "--- Mapping capacity: from (lii.discharge, ny, y) to (lii.discharge, ntw, y)\n",
      "    Completed in 4.3392181396484375e-05 seconds\n",
      "--- Assuming operation of lii.discharge is bound by capacity in (ny, y)\n",
      "--- Mapping operate: from (lii.discharge, ny, y) to (lii.discharge, ntw, y)\n",
      "    Completed in 4.124641418457031e-05 seconds\n",
      "--- Binding operate in domain (lii.discharge, ny, y)\n",
      "    Completed in 6.341934204101562e-05 seconds\n",
      "--- General Resource Balance for power in (ny, q): adding produce(power, ny, q, operate, lii.discharge)\n",
      "    Completed in 9.083747863769531e-05 seconds\n",
      "--- Mapping operate across time from (lii.discharge, ny, q) to (lii.discharge, ny, y)\n",
      "--- Creating map to (lii.discharge, ny, y). Mapping operate: from (lii.discharge, ny, q) to (lii.discharge, ny, y)\n",
      "    Completed in 6.651878356933594e-05 seconds\n",
      "--- Mapping operate: from (lii.discharge, ny, q) to (lii.discharge, ntw, q)\n",
      "    Completed in 7.2479248046875e-05 seconds\n",
      "--- General Resource Balance for power.lii in (ntw, q): adding expend\n",
      "    Completed in 0.00010442733764648438 seconds\n"
     ]
    }
   ],
   "source": [
    "m.ho.locate(m.pv, m.wf, m.lii)\n",
    "m.sd.locate(m.pv, m.wf, m.lii)\n",
    "m.ny.locate(m.pv, m.wf, m.lii)"
   ]
  },
  {
   "cell_type": "code",
   "execution_count": 19,
   "id": "ff54550d",
   "metadata": {},
   "outputs": [
    {
     "data": {
      "text/markdown": [
       "# Mathematical Program for Program(example4)"
      ],
      "text/plain": [
       "<IPython.core.display.Markdown object>"
      ]
     },
     "metadata": {},
     "output_type": "display_data"
    },
    {
     "data": {
      "text/markdown": [
       "<br><br>"
      ],
      "text/plain": [
       "<IPython.core.display.Markdown object>"
      ]
     },
     "metadata": {},
     "output_type": "display_data"
    },
    {
     "data": {
      "text/markdown": [
       "## Index Sets"
      ],
      "text/plain": [
       "<IPython.core.display.Markdown object>"
      ]
     },
     "metadata": {},
     "output_type": "display_data"
    },
    {
     "data": {
      "text/latex": [
       "$\\displaystyle currencies = \\{ usd \\}$"
      ],
      "text/plain": [
       "<IPython.core.display.Math object>"
      ]
     },
     "metadata": {},
     "output_type": "display_data"
    },
    {
     "data": {
      "text/latex": [
       "$\\displaystyle locations = \\{ ho, sd, ny, ntw \\}$"
      ],
      "text/plain": [
       "<IPython.core.display.Math object>"
      ]
     },
     "metadata": {},
     "output_type": "display_data"
    },
    {
     "data": {
      "text/latex": [
       "$\\displaystyle resources = \\{ power, wind, solar, power.lii, h2o, co2 \\}$"
      ],
      "text/plain": [
       "<IPython.core.display.Math object>"
      ]
     },
     "metadata": {},
     "output_type": "display_data"
    },
    {
     "data": {
      "text/latex": [
       "$\\displaystyle y = \\{ {y_{0}} \\}$"
      ],
      "text/plain": [
       "<IPython.core.display.Math object>"
      ]
     },
     "metadata": {},
     "output_type": "display_data"
    },
    {
     "data": {
      "text/latex": [
       "$\\displaystyle q = \\{ {q_{0}}, {q_{1}}, {q_{2}}, {q_{3}} \\}$"
      ],
      "text/plain": [
       "<IPython.core.display.Math object>"
      ]
     },
     "metadata": {},
     "output_type": "display_data"
    },
    {
     "data": {
      "text/latex": [
       "$\\displaystyle processes = \\{ wf, pv, lii.charge, lii.discharge \\}$"
      ],
      "text/plain": [
       "<IPython.core.display.Math object>"
      ]
     },
     "metadata": {},
     "output_type": "display_data"
    },
    {
     "data": {
      "text/latex": [
       "$\\displaystyle storages = \\{ lii \\}$"
      ],
      "text/plain": [
       "<IPython.core.display.Math object>"
      ]
     },
     "metadata": {},
     "output_type": "display_data"
    },
    {
     "data": {
      "text/latex": [
       "$\\displaystyle materials = \\{ cement \\}$"
      ],
      "text/plain": [
       "<IPython.core.display.Math object>"
      ]
     },
     "metadata": {},
     "output_type": "display_data"
    },
    {
     "data": {
      "text/latex": [
       "$\\displaystyle linkages = \\{ ho-sd, sd-ho, road, -road \\}$"
      ],
      "text/plain": [
       "<IPython.core.display.Math object>"
      ]
     },
     "metadata": {},
     "output_type": "display_data"
    },
    {
     "data": {
      "text/markdown": [
       "<br><br>"
      ],
      "text/plain": [
       "<IPython.core.display.Markdown object>"
      ]
     },
     "metadata": {},
     "output_type": "display_data"
    },
    {
     "data": {
      "text/markdown": [
       "## s.t."
      ],
      "text/plain": [
       "<IPython.core.display.Markdown object>"
      ]
     },
     "metadata": {},
     "output_type": "display_data"
    },
    {
     "data": {
      "text/markdown": [
       "### Bound Constraint Sets"
      ],
      "text/plain": [
       "<IPython.core.display.Markdown object>"
      ]
     },
     "metadata": {},
     "output_type": "display_data"
    },
    {
     "data": {
      "text/latex": [
       "$\\displaystyle [1]\\text{   }{{{cons}}}_{solar, ntw, y} - 1200 \\leq 0$"
      ],
      "text/plain": [
       "<IPython.core.display.Math object>"
      ]
     },
     "metadata": {},
     "output_type": "display_data"
    },
    {
     "data": {
      "text/latex": [
       "$\\displaystyle [3]\\text{   }{{{{cons}}}}_{wind, ntw, y} - 1200 \\leq 0$"
      ],
      "text/plain": [
       "<IPython.core.display.Math object>"
      ]
     },
     "metadata": {},
     "output_type": "display_data"
    },
    {
     "data": {
      "text/latex": [
       "$\\displaystyle [5]\\text{   }-{{{rlse}}}_{power, ho, q} + {φ}_{} \\leq 0$"
      ],
      "text/plain": [
       "<IPython.core.display.Math object>"
      ]
     },
     "metadata": {},
     "output_type": "display_data"
    },
    {
     "data": {
      "text/latex": [
       "$\\displaystyle [7]\\text{   }-{{{{rlse}}}}_{power, sd, q} + {φ}_{} \\leq 0$"
      ],
      "text/plain": [
       "<IPython.core.display.Math object>"
      ]
     },
     "metadata": {},
     "output_type": "display_data"
    },
    {
     "data": {
      "text/latex": [
       "$\\displaystyle [9]\\text{   }-{{{{rlse}}}}_{power, ny, q} + {φ}_{} \\leq 0$"
      ],
      "text/plain": [
       "<IPython.core.display.Math object>"
      ]
     },
     "metadata": {},
     "output_type": "display_data"
    },
    {
     "data": {
      "text/latex": [
       "$\\displaystyle [10]\\text{   }10 \\cdot {{{\\breve{{cap}}}}}_{wf, sd, y} - {{{cap}}}_{wf, sd, y} \\leq 0$"
      ],
      "text/plain": [
       "<IPython.core.display.Math object>"
      ]
     },
     "metadata": {},
     "output_type": "display_data"
    },
    {
     "data": {
      "text/latex": [
       "$\\displaystyle [11]\\text{   }7 \\cdot {{{{\\breve{{cap}}}}}}_{wf, ho, y} - {{{{cap}}}}_{wf, ho, y} \\leq 0$"
      ],
      "text/plain": [
       "<IPython.core.display.Math object>"
      ]
     },
     "metadata": {},
     "output_type": "display_data"
    },
    {
     "data": {
      "text/latex": [
       "$\\displaystyle [12]\\text{   }20 \\cdot {{{{\\breve{{cap}}}}}}_{wf, ny, y} - {{{{cap}}}}_{wf, ny, y} \\leq 0$"
      ],
      "text/plain": [
       "<IPython.core.display.Math object>"
      ]
     },
     "metadata": {},
     "output_type": "display_data"
    },
    {
     "data": {
      "text/latex": [
       "$\\displaystyle [13]\\text{   }{{{{cap}}}}_{wf, sd, y} - 100 \\cdot {{{{\\breve{{cap}}}}}}_{wf, sd, y} \\leq 0$"
      ],
      "text/plain": [
       "<IPython.core.display.Math object>"
      ]
     },
     "metadata": {},
     "output_type": "display_data"
    },
    {
     "data": {
      "text/latex": [
       "$\\displaystyle [14]\\text{   }{{{{cap}}}}_{wf, ho, y} - 100 \\cdot {{{{\\breve{{cap}}}}}}_{wf, ho, y} \\leq 0$"
      ],
      "text/plain": [
       "<IPython.core.display.Math object>"
      ]
     },
     "metadata": {},
     "output_type": "display_data"
    },
    {
     "data": {
      "text/latex": [
       "$\\displaystyle [15]\\text{   }{{{{cap}}}}_{wf, ny, y} - 100 \\cdot {{{{\\breve{{cap}}}}}}_{wf, ny, y} \\leq 0$"
      ],
      "text/plain": [
       "<IPython.core.display.Math object>"
      ]
     },
     "metadata": {},
     "output_type": "display_data"
    },
    {
     "data": {
      "text/latex": [
       "$\\displaystyle [16]\\text{   }{{{opr}}}_{wf, ho, q} - {φ}_{} \\cdot {{{{cap}}}}_{wf, ho, y} \\leq 0$"
      ],
      "text/plain": [
       "<IPython.core.display.Math object>"
      ]
     },
     "metadata": {},
     "output_type": "display_data"
    },
    {
     "data": {
      "text/latex": [
       "$\\displaystyle [17]\\text{   }{{{{opr}}}}_{wf, sd, q} - {φ}_{} \\cdot {{{{cap}}}}_{wf, sd, y} \\leq 0$"
      ],
      "text/plain": [
       "<IPython.core.display.Math object>"
      ]
     },
     "metadata": {},
     "output_type": "display_data"
    },
    {
     "data": {
      "text/latex": [
       "$\\displaystyle [18]\\text{   }{{{{opr}}}}_{wf, ny, q} - {φ}_{} \\cdot {{{{cap}}}}_{wf, ny, y} \\leq 0$"
      ],
      "text/plain": [
       "<IPython.core.display.Math object>"
      ]
     },
     "metadata": {},
     "output_type": "display_data"
    },
    {
     "data": {
      "text/latex": [
       "$\\displaystyle [23]\\text{   }{{{{cap}}}}_{pv, ntw, y} - 100 \\cdot {{{{\\breve{{cap}}}}}}_{pv, ntw, y} \\leq 0$"
      ],
      "text/plain": [
       "<IPython.core.display.Math object>"
      ]
     },
     "metadata": {},
     "output_type": "display_data"
    },
    {
     "data": {
      "text/latex": [
       "$\\displaystyle [24]\\text{   }10 \\cdot {{{{\\breve{{cap}}}}}}_{pv, ntw, y} - {{{{cap}}}}_{pv, ntw, y} \\leq 0$"
      ],
      "text/plain": [
       "<IPython.core.display.Math object>"
      ]
     },
     "metadata": {},
     "output_type": "display_data"
    },
    {
     "data": {
      "text/latex": [
       "$\\displaystyle [26]\\text{   }{{{{opr}}}}_{pv, sd, q} - {φ}_{} \\cdot {{{{cap}}}}_{pv, sd, y} \\leq 0$"
      ],
      "text/plain": [
       "<IPython.core.display.Math object>"
      ]
     },
     "metadata": {},
     "output_type": "display_data"
    },
    {
     "data": {
      "text/latex": [
       "$\\displaystyle [27]\\text{   }{{{{opr}}}}_{pv, ho, q} - {φ}_{} \\cdot {{{{cap}}}}_{pv, ho, y} \\leq 0$"
      ],
      "text/plain": [
       "<IPython.core.display.Math object>"
      ]
     },
     "metadata": {},
     "output_type": "display_data"
    },
    {
     "data": {
      "text/latex": [
       "$\\displaystyle [28]\\text{   }{{{{opr}}}}_{pv, ny, q} - {φ}_{} \\cdot {{{{cap}}}}_{pv, ny, y} \\leq 0$"
      ],
      "text/plain": [
       "<IPython.core.display.Math object>"
      ]
     },
     "metadata": {},
     "output_type": "display_data"
    },
    {
     "data": {
      "text/latex": [
       "$\\displaystyle [31]\\text{   }{{{icap}}}_{power.lii, ntw, y} - 100 \\cdot {{{\\breve{{icap}}}}}_{power.lii, ntw, y} \\leq 0$"
      ],
      "text/plain": [
       "<IPython.core.display.Math object>"
      ]
     },
     "metadata": {},
     "output_type": "display_data"
    },
    {
     "data": {
      "text/latex": [
       "$\\displaystyle [32]\\text{   }10 \\cdot {{{\\breve{{icap}}}}}_{power.lii, ntw, y} - {{{icap}}}_{power.lii, ntw, y} \\leq 0$"
      ],
      "text/plain": [
       "<IPython.core.display.Math object>"
      ]
     },
     "metadata": {},
     "output_type": "display_data"
    },
    {
     "data": {
      "text/latex": [
       "$\\displaystyle [35]\\text{   }{{{{cap}}}}_{lii.charge, ntw, y} - 100 \\leq 0$"
      ],
      "text/plain": [
       "<IPython.core.display.Math object>"
      ]
     },
     "metadata": {},
     "output_type": "display_data"
    },
    {
     "data": {
      "text/latex": [
       "$\\displaystyle [36]\\text{   }{{{{opr}}}}_{lii.charge, ntw, y} - {{{{cap}}}}_{lii.charge, ntw, y} \\leq 0$"
      ],
      "text/plain": [
       "<IPython.core.display.Math object>"
      ]
     },
     "metadata": {},
     "output_type": "display_data"
    },
    {
     "data": {
      "text/latex": [
       "$\\displaystyle [37]\\text{   }{{{{cap}}}}_{lii.discharge, ntw, y} - 100 \\leq 0$"
      ],
      "text/plain": [
       "<IPython.core.display.Math object>"
      ]
     },
     "metadata": {},
     "output_type": "display_data"
    },
    {
     "data": {
      "text/latex": [
       "$\\displaystyle [38]\\text{   }{{{{opr}}}}_{lii.discharge, ntw, y} - {{{{cap}}}}_{lii.discharge, ntw, y} \\leq 0$"
      ],
      "text/plain": [
       "<IPython.core.display.Math object>"
      ]
     },
     "metadata": {},
     "output_type": "display_data"
    },
    {
     "data": {
      "text/latex": [
       "$\\displaystyle [44]\\text{   }{{{{cons}}}}_{cement, ntw, y} - 1000000 \\leq 0$"
      ],
      "text/plain": [
       "<IPython.core.display.Math object>"
      ]
     },
     "metadata": {},
     "output_type": "display_data"
    },
    {
     "data": {
      "text/latex": [
       "$\\displaystyle [50]\\text{   }{{{{cap}}}}_{grid, ho-sd, y} - 100 \\cdot {{{{\\breve{{cap}}}}}}_{grid, ho-sd, y} \\leq 0$"
      ],
      "text/plain": [
       "<IPython.core.display.Math object>"
      ]
     },
     "metadata": {},
     "output_type": "display_data"
    },
    {
     "data": {
      "text/latex": [
       "$\\displaystyle [51]\\text{   }{{{{cap}}}}_{grid, road, y} - 100 \\cdot {{{{\\breve{{cap}}}}}}_{grid, road, y} \\leq 0$"
      ],
      "text/plain": [
       "<IPython.core.display.Math object>"
      ]
     },
     "metadata": {},
     "output_type": "display_data"
    },
    {
     "data": {
      "text/latex": [
       "$\\displaystyle [52]\\text{   }{{{{opr}}}}_{grid, ho-sd, q} - {φ}_{} \\cdot {{{{cap}}}}_{grid, ho-sd, y} \\leq 0$"
      ],
      "text/plain": [
       "<IPython.core.display.Math object>"
      ]
     },
     "metadata": {},
     "output_type": "display_data"
    },
    {
     "data": {
      "text/latex": [
       "$\\displaystyle [53]\\text{   }{{{{opr}}}}_{grid, road, q} - {φ}_{} \\cdot {{{{cap}}}}_{grid, road, y} \\leq 0$"
      ],
      "text/plain": [
       "<IPython.core.display.Math object>"
      ]
     },
     "metadata": {},
     "output_type": "display_data"
    },
    {
     "data": {
      "text/latex": [
       "$\\displaystyle [68]\\text{   }{{{{inv}}}}_{power.lii, ho, q} - {{{{icap}}}}_{power.lii, ho, y} \\leq 0$"
      ],
      "text/plain": [
       "<IPython.core.display.Math object>"
      ]
     },
     "metadata": {},
     "output_type": "display_data"
    },
    {
     "data": {
      "text/latex": [
       "$\\displaystyle [71]\\text{   }{{{{opr}}}}_{lii.charge, ho, y} - {{{{cap}}}}_{lii.charge, ho, y} \\leq 0$"
      ],
      "text/plain": [
       "<IPython.core.display.Math object>"
      ]
     },
     "metadata": {},
     "output_type": "display_data"
    },
    {
     "data": {
      "text/latex": [
       "$\\displaystyle [79]\\text{   }{{{{opr}}}}_{lii.discharge, ho, y} - {{{{cap}}}}_{lii.discharge, ho, y} \\leq 0$"
      ],
      "text/plain": [
       "<IPython.core.display.Math object>"
      ]
     },
     "metadata": {},
     "output_type": "display_data"
    },
    {
     "data": {
      "text/latex": [
       "$\\displaystyle [91]\\text{   }{{{{inv}}}}_{power.lii, sd, q} - {{{{icap}}}}_{power.lii, sd, y} \\leq 0$"
      ],
      "text/plain": [
       "<IPython.core.display.Math object>"
      ]
     },
     "metadata": {},
     "output_type": "display_data"
    },
    {
     "data": {
      "text/latex": [
       "$\\displaystyle [92]\\text{   }{{{{opr}}}}_{lii.charge, sd, y} - {{{{cap}}}}_{lii.charge, sd, y} \\leq 0$"
      ],
      "text/plain": [
       "<IPython.core.display.Math object>"
      ]
     },
     "metadata": {},
     "output_type": "display_data"
    },
    {
     "data": {
      "text/latex": [
       "$\\displaystyle [96]\\text{   }{{{{opr}}}}_{lii.discharge, sd, y} - {{{{cap}}}}_{lii.discharge, sd, y} \\leq 0$"
      ],
      "text/plain": [
       "<IPython.core.display.Math object>"
      ]
     },
     "metadata": {},
     "output_type": "display_data"
    },
    {
     "data": {
      "text/latex": [
       "$\\displaystyle [106]\\text{   }{{{{inv}}}}_{power.lii, ny, q} - {{{{icap}}}}_{power.lii, ny, y} \\leq 0$"
      ],
      "text/plain": [
       "<IPython.core.display.Math object>"
      ]
     },
     "metadata": {},
     "output_type": "display_data"
    },
    {
     "data": {
      "text/latex": [
       "$\\displaystyle [107]\\text{   }{{{{opr}}}}_{lii.charge, ny, y} - {{{{cap}}}}_{lii.charge, ny, y} \\leq 0$"
      ],
      "text/plain": [
       "<IPython.core.display.Math object>"
      ]
     },
     "metadata": {},
     "output_type": "display_data"
    },
    {
     "data": {
      "text/latex": [
       "$\\displaystyle [111]\\text{   }{{{{opr}}}}_{lii.discharge, ny, y} - {{{{cap}}}}_{lii.discharge, ny, y} \\leq 0$"
      ],
      "text/plain": [
       "<IPython.core.display.Math object>"
      ]
     },
     "metadata": {},
     "output_type": "display_data"
    },
    {
     "data": {
      "text/markdown": [
       "### Calculation Constraint Sets"
      ],
      "text/plain": [
       "<IPython.core.display.Markdown object>"
      ]
     },
     "metadata": {},
     "output_type": "display_data"
    },
    {
     "data": {
      "text/latex": [
       "$\\displaystyle [19]\\text{   }{{spend}}_{usd, sd, y, {capacity}, wf} - 90000 \\cdot {{{{cap}}}}_{wf, sd, y} = 0$"
      ],
      "text/plain": [
       "<IPython.core.display.Math object>"
      ]
     },
     "metadata": {},
     "output_type": "display_data"
    },
    {
     "data": {
      "text/latex": [
       "$\\displaystyle [20]\\text{   }{{{spend}}}_{usd, ho, y, {capacity}, wf} - 70000 \\cdot {{{{cap}}}}_{wf, ho, y} = 0$"
      ],
      "text/plain": [
       "<IPython.core.display.Math object>"
      ]
     },
     "metadata": {},
     "output_type": "display_data"
    },
    {
     "data": {
      "text/latex": [
       "$\\displaystyle [21]\\text{   }{{{spend}}}_{usd, ny, y, {capacity}, wf} - 60000 \\cdot {{{{cap}}}}_{wf, ny, y} = 0$"
      ],
      "text/plain": [
       "<IPython.core.display.Math object>"
      ]
     },
     "metadata": {},
     "output_type": "display_data"
    },
    {
     "data": {
      "text/latex": [
       "$\\displaystyle [22]\\text{   }{{{spend}}}_{usd, ntw, y, {operate}, wf} - 49 \\cdot {{{{opr}}}}_{wf, ntw, y} = 0$"
      ],
      "text/plain": [
       "<IPython.core.display.Math object>"
      ]
     },
     "metadata": {},
     "output_type": "display_data"
    },
    {
     "data": {
      "text/latex": [
       "$\\displaystyle [29]\\text{   }{{{spend}}}_{usd, ntw, y, {capacity}, pv} - 1439046 \\cdot {{{{cap}}}}_{pv, ntw, y} = 0$"
      ],
      "text/plain": [
       "<IPython.core.display.Math object>"
      ]
     },
     "metadata": {},
     "output_type": "display_data"
    },
    {
     "data": {
      "text/latex": [
       "$\\displaystyle [30]\\text{   }{{{spend}}}_{usd, ntw, y, {operate}, pv} - 90000 \\cdot {{{{opr}}}}_{pv, ntw, y} = 0$"
      ],
      "text/plain": [
       "<IPython.core.display.Math object>"
      ]
     },
     "metadata": {},
     "output_type": "display_data"
    },
    {
     "data": {
      "text/latex": [
       "$\\displaystyle [33]\\text{   }{{{spend}}}_{usd, ntw, y, {invcapacity}, power.lii} - 1343614 \\cdot {{{icap}}}_{power.lii, ntw, y} = 0$"
      ],
      "text/plain": [
       "<IPython.core.display.Math object>"
      ]
     },
     "metadata": {},
     "output_type": "display_data"
    },
    {
     "data": {
      "text/latex": [
       "$\\displaystyle [34]\\text{   }{{{spend}}}_{usd, ntw, y, {inventory}, power.lii} - 2000 \\cdot {{{inv}}}_{power.lii, ntw, y} = 0$"
      ],
      "text/plain": [
       "<IPython.core.display.Math object>"
      ]
     },
     "metadata": {},
     "output_type": "display_data"
    },
    {
     "data": {
      "text/latex": [
       "$\\displaystyle [40]\\text{   }{{emit}}_{gwp, ntw, y, {capacity}, wf} - 1000 \\cdot {{{{cap}}}}_{wf, ntw, y} = 0$"
      ],
      "text/plain": [
       "<IPython.core.display.Math object>"
      ]
     },
     "metadata": {},
     "output_type": "display_data"
    },
    {
     "data": {
      "text/latex": [
       "$\\displaystyle [41]\\text{   }{{{emit}}}_{gwp, ntw, y, {capacity}, pv} - 2000 \\cdot {{{{cap}}}}_{pv, ntw, y} = 0$"
      ],
      "text/plain": [
       "<IPython.core.display.Math object>"
      ]
     },
     "metadata": {},
     "output_type": "display_data"
    },
    {
     "data": {
      "text/latex": [
       "$\\displaystyle [42]\\text{   }{{{emit}}}_{gwp, ntw, y, {invcapacity}, power.lii} - 3000 \\cdot {{{icap}}}_{power.lii, ntw, y} = 0$"
      ],
      "text/plain": [
       "<IPython.core.display.Math object>"
      ]
     },
     "metadata": {},
     "output_type": "display_data"
    },
    {
     "data": {
      "text/latex": [
       "$\\displaystyle [45]\\text{   }{{{spend}}}_{usd, ntw, y, {consume}, cement} - 17 \\cdot {{{{cons}}}}_{cement, ntw, y} = 0$"
      ],
      "text/plain": [
       "<IPython.core.display.Math object>"
      ]
     },
     "metadata": {},
     "output_type": "display_data"
    },
    {
     "data": {
      "text/latex": [
       "$\\displaystyle [46]\\text{   }{{{emit}}}_{gwp, ntw, y, {consume}, cement} - 0.9 \\cdot {{{{cons}}}}_{cement, ntw, y} = 0$"
      ],
      "text/plain": [
       "<IPython.core.display.Math object>"
      ]
     },
     "metadata": {},
     "output_type": "display_data"
    },
    {
     "data": {
      "text/latex": [
       "$\\displaystyle [47]\\text{   }{{use}}_{cement, ntw, y, {capacity}, wf} - 400 \\cdot {{{{cap}}}}_{wf, ntw, y} = 0$"
      ],
      "text/plain": [
       "<IPython.core.display.Math object>"
      ]
     },
     "metadata": {},
     "output_type": "display_data"
    },
    {
     "data": {
      "text/latex": [
       "$\\displaystyle [48]\\text{   }{{{use}}}_{cement, ntw, y, {capacity}, pv} - 560 \\cdot {{{{cap}}}}_{pv, ntw, y} = 0$"
      ],
      "text/plain": [
       "<IPython.core.display.Math object>"
      ]
     },
     "metadata": {},
     "output_type": "display_data"
    },
    {
     "data": {
      "text/latex": [
       "$\\displaystyle [49]\\text{   }{{{use}}}_{cement, ntw, y, {invcapacity}, power.lii} - 300 \\cdot {{{icap}}}_{power.lii, ntw, y} = 0$"
      ],
      "text/plain": [
       "<IPython.core.display.Math object>"
      ]
     },
     "metadata": {},
     "output_type": "display_data"
    },
    {
     "data": {
      "text/latex": [
       "$\\displaystyle [54]\\text{   }{{{spend}}}_{usd, ntw, y, {operate}, grid} - 2000 \\cdot {{{{opr}}}}_{grid, ntw, y} = 0$"
      ],
      "text/plain": [
       "<IPython.core.display.Math object>"
      ]
     },
     "metadata": {},
     "output_type": "display_data"
    },
    {
     "data": {
      "text/latex": [
       "$\\displaystyle [55]\\text{   }{{{spend}}}_{usd, ntw, y, {capacity}, grid} - 1000 \\cdot {{{{cap}}}}_{grid, ntw, y} = 0$"
      ],
      "text/plain": [
       "<IPython.core.display.Math object>"
      ]
     },
     "metadata": {},
     "output_type": "display_data"
    },
    {
     "data": {
      "text/latex": [
       "$\\displaystyle [56]\\text{   }{{prod}}_{power, ho, q, {operate}, pv} - {{{{opr}}}}_{pv, ho, q} = 0$"
      ],
      "text/plain": [
       "<IPython.core.display.Math object>"
      ]
     },
     "metadata": {},
     "output_type": "display_data"
    },
    {
     "data": {
      "text/latex": [
       "$\\displaystyle [59]\\text{   }{{{expd}}}_{solar, ho, y, {operate}, pv} - {{{{opr}}}}_{pv, ho, y} = 0$"
      ],
      "text/plain": [
       "<IPython.core.display.Math object>"
      ]
     },
     "metadata": {},
     "output_type": "display_data"
    },
    {
     "data": {
      "text/latex": [
       "$\\displaystyle [60]\\text{   }{{{prod}}}_{power, ho, q, {operate}, wf} - {{{{opr}}}}_{wf, ho, q} = 0$"
      ],
      "text/plain": [
       "<IPython.core.display.Math object>"
      ]
     },
     "metadata": {},
     "output_type": "display_data"
    },
    {
     "data": {
      "text/latex": [
       "$\\displaystyle [63]\\text{   }{{{{expd}}}}_{wind, ho, y, {operate}, wf} - {{{{opr}}}}_{wf, ho, y} = 0$"
      ],
      "text/plain": [
       "<IPython.core.display.Math object>"
      ]
     },
     "metadata": {},
     "output_type": "display_data"
    },
    {
     "data": {
      "text/latex": [
       "$\\displaystyle [75]\\text{   }{{{prod}}}_{power.lii, ho, q, {operate}, lii.charge} - {{{{opr}}}}_{lii.charge, ho, q} = 0$"
      ],
      "text/plain": [
       "<IPython.core.display.Math object>"
      ]
     },
     "metadata": {},
     "output_type": "display_data"
    },
    {
     "data": {
      "text/latex": [
       "$\\displaystyle [76]\\text{   }{{{{expd}}}}_{power, ho, q, {operate}, lii.charge} - {{{{opr}}}}_{lii.charge, ho, q} = 0$"
      ],
      "text/plain": [
       "<IPython.core.display.Math object>"
      ]
     },
     "metadata": {},
     "output_type": "display_data"
    },
    {
     "data": {
      "text/latex": [
       "$\\displaystyle [83]\\text{   }{{{prod}}}_{power, ho, q, {operate}, lii.discharge} - {{{{opr}}}}_{lii.discharge, ho, q} = 0$"
      ],
      "text/plain": [
       "<IPython.core.display.Math object>"
      ]
     },
     "metadata": {},
     "output_type": "display_data"
    },
    {
     "data": {
      "text/latex": [
       "$\\displaystyle [84]\\text{   }{{{{expd}}}}_{power.lii, ho, q, {operate}, lii.discharge} - 1.1111111111111112 \\cdot {{{{opr}}}}_{lii.discharge, ho, q} = 0$"
      ],
      "text/plain": [
       "<IPython.core.display.Math object>"
      ]
     },
     "metadata": {},
     "output_type": "display_data"
    },
    {
     "data": {
      "text/latex": [
       "$\\displaystyle [85]\\text{   }{{{prod}}}_{power, sd, q, {operate}, pv} - {{{{opr}}}}_{pv, sd, q} = 0$"
      ],
      "text/plain": [
       "<IPython.core.display.Math object>"
      ]
     },
     "metadata": {},
     "output_type": "display_data"
    },
    {
     "data": {
      "text/latex": [
       "$\\displaystyle [87]\\text{   }{{{{expd}}}}_{solar, sd, y, {operate}, pv} - {{{{opr}}}}_{pv, sd, y} = 0$"
      ],
      "text/plain": [
       "<IPython.core.display.Math object>"
      ]
     },
     "metadata": {},
     "output_type": "display_data"
    },
    {
     "data": {
      "text/latex": [
       "$\\displaystyle [88]\\text{   }{{{prod}}}_{power, sd, q, {operate}, wf} - {{{{opr}}}}_{wf, sd, q} = 0$"
      ],
      "text/plain": [
       "<IPython.core.display.Math object>"
      ]
     },
     "metadata": {},
     "output_type": "display_data"
    },
    {
     "data": {
      "text/latex": [
       "$\\displaystyle [90]\\text{   }{{{{expd}}}}_{wind, sd, y, {operate}, wf} - {{{{opr}}}}_{wf, sd, y} = 0$"
      ],
      "text/plain": [
       "<IPython.core.display.Math object>"
      ]
     },
     "metadata": {},
     "output_type": "display_data"
    },
    {
     "data": {
      "text/latex": [
       "$\\displaystyle [94]\\text{   }{{{prod}}}_{power.lii, sd, q, {operate}, lii.charge} - {{{{opr}}}}_{lii.charge, sd, q} = 0$"
      ],
      "text/plain": [
       "<IPython.core.display.Math object>"
      ]
     },
     "metadata": {},
     "output_type": "display_data"
    },
    {
     "data": {
      "text/latex": [
       "$\\displaystyle [95]\\text{   }{{{{expd}}}}_{power, sd, q, {operate}, lii.charge} - {{{{opr}}}}_{lii.charge, sd, q} = 0$"
      ],
      "text/plain": [
       "<IPython.core.display.Math object>"
      ]
     },
     "metadata": {},
     "output_type": "display_data"
    },
    {
     "data": {
      "text/latex": [
       "$\\displaystyle [98]\\text{   }{{{prod}}}_{power, sd, q, {operate}, lii.discharge} - {{{{opr}}}}_{lii.discharge, sd, q} = 0$"
      ],
      "text/plain": [
       "<IPython.core.display.Math object>"
      ]
     },
     "metadata": {},
     "output_type": "display_data"
    },
    {
     "data": {
      "text/latex": [
       "$\\displaystyle [99]\\text{   }{{{{expd}}}}_{power.lii, sd, q, {operate}, lii.discharge} - 1.1111111111111112 \\cdot {{{{opr}}}}_{lii.discharge, sd, q} = 0$"
      ],
      "text/plain": [
       "<IPython.core.display.Math object>"
      ]
     },
     "metadata": {},
     "output_type": "display_data"
    },
    {
     "data": {
      "text/latex": [
       "$\\displaystyle [100]\\text{   }{{{prod}}}_{power, ny, q, {operate}, pv} - {{{{opr}}}}_{pv, ny, q} = 0$"
      ],
      "text/plain": [
       "<IPython.core.display.Math object>"
      ]
     },
     "metadata": {},
     "output_type": "display_data"
    },
    {
     "data": {
      "text/latex": [
       "$\\displaystyle [102]\\text{   }{{{{expd}}}}_{solar, ny, y, {operate}, pv} - {{{{opr}}}}_{pv, ny, y} = 0$"
      ],
      "text/plain": [
       "<IPython.core.display.Math object>"
      ]
     },
     "metadata": {},
     "output_type": "display_data"
    },
    {
     "data": {
      "text/latex": [
       "$\\displaystyle [103]\\text{   }{{{prod}}}_{power, ny, q, {operate}, wf} - {{{{opr}}}}_{wf, ny, q} = 0$"
      ],
      "text/plain": [
       "<IPython.core.display.Math object>"
      ]
     },
     "metadata": {},
     "output_type": "display_data"
    },
    {
     "data": {
      "text/latex": [
       "$\\displaystyle [105]\\text{   }{{{{expd}}}}_{wind, ny, y, {operate}, wf} - {{{{opr}}}}_{wf, ny, y} = 0$"
      ],
      "text/plain": [
       "<IPython.core.display.Math object>"
      ]
     },
     "metadata": {},
     "output_type": "display_data"
    },
    {
     "data": {
      "text/latex": [
       "$\\displaystyle [109]\\text{   }{{{prod}}}_{power.lii, ny, q, {operate}, lii.charge} - {{{{opr}}}}_{lii.charge, ny, q} = 0$"
      ],
      "text/plain": [
       "<IPython.core.display.Math object>"
      ]
     },
     "metadata": {},
     "output_type": "display_data"
    },
    {
     "data": {
      "text/latex": [
       "$\\displaystyle [110]\\text{   }{{{{expd}}}}_{power, ny, q, {operate}, lii.charge} - {{{{opr}}}}_{lii.charge, ny, q} = 0$"
      ],
      "text/plain": [
       "<IPython.core.display.Math object>"
      ]
     },
     "metadata": {},
     "output_type": "display_data"
    },
    {
     "data": {
      "text/latex": [
       "$\\displaystyle [113]\\text{   }{{{prod}}}_{power, ny, q, {operate}, lii.discharge} - {{{{opr}}}}_{lii.discharge, ny, q} = 0$"
      ],
      "text/plain": [
       "<IPython.core.display.Math object>"
      ]
     },
     "metadata": {},
     "output_type": "display_data"
    },
    {
     "data": {
      "text/latex": [
       "$\\displaystyle [114]\\text{   }{{{{expd}}}}_{power.lii, ny, q, {operate}, lii.discharge} - 1.1111111111111112 \\cdot {{{{opr}}}}_{lii.discharge, ny, q} = 0$"
      ],
      "text/plain": [
       "<IPython.core.display.Math object>"
      ]
     },
     "metadata": {},
     "output_type": "display_data"
    },
    {
     "data": {
      "text/markdown": [
       "### General Resource Balance Constraint Sets"
      ],
      "text/plain": [
       "<IPython.core.display.Markdown object>"
      ]
     },
     "metadata": {},
     "output_type": "display_data"
    },
    {
     "data": {
      "text/latex": [
       "$\\displaystyle [0]\\text{   }{{{cons}}}_{solar, ntw, y} - {{{expd}}}_{solar, ho, y, {operate}, pv} - {{{{expd}}}}_{solar, sd, y, {operate}, pv} - {{{{expd}}}}_{solar, ny, y, {operate}, pv} = 0$"
      ],
      "text/plain": [
       "<IPython.core.display.Math object>"
      ]
     },
     "metadata": {},
     "output_type": "display_data"
    },
    {
     "data": {
      "text/latex": [
       "$\\displaystyle [2]\\text{   }{{{{cons}}}}_{wind, ntw, y} - {{{{expd}}}}_{wind, ho, y, {operate}, wf} - {{{{expd}}}}_{wind, sd, y, {operate}, wf} - {{{{expd}}}}_{wind, ny, y, {operate}, wf} = 0$"
      ],
      "text/plain": [
       "<IPython.core.display.Math object>"
      ]
     },
     "metadata": {},
     "output_type": "display_data"
    },
    {
     "data": {
      "text/latex": [
       "$\\displaystyle [4]\\text{   }-{{{rlse}}}_{power, ho, q} + {{prod}}_{power, ho, q, {operate}, pv} + {{{prod}}}_{power, ho, q, {operate}, wf} - {{{{expd}}}}_{power, ho, q, {operate}, lii.charge} + {{{prod}}}_{power, ho, q, {operate}, lii.discharge} = 0$"
      ],
      "text/plain": [
       "<IPython.core.display.Math object>"
      ]
     },
     "metadata": {},
     "output_type": "display_data"
    },
    {
     "data": {
      "text/latex": [
       "$\\displaystyle [6]\\text{   }-{{{{rlse}}}}_{power, sd, q} + {{{prod}}}_{power, sd, q, {operate}, pv} + {{{prod}}}_{power, sd, q, {operate}, wf} - {{{{expd}}}}_{power, sd, q, {operate}, lii.charge} + {{{prod}}}_{power, sd, q, {operate}, lii.discharge} = 0$"
      ],
      "text/plain": [
       "<IPython.core.display.Math object>"
      ]
     },
     "metadata": {},
     "output_type": "display_data"
    },
    {
     "data": {
      "text/latex": [
       "$\\displaystyle [8]\\text{   }-{{{{rlse}}}}_{power, ny, q} + {{{prod}}}_{power, ny, q, {operate}, pv} + {{{prod}}}_{power, ny, q, {operate}, wf} - {{{{expd}}}}_{power, ny, q, {operate}, lii.charge} + {{{prod}}}_{power, ny, q, {operate}, lii.discharge} = 0$"
      ],
      "text/plain": [
       "<IPython.core.display.Math object>"
      ]
     },
     "metadata": {},
     "output_type": "display_data"
    },
    {
     "data": {
      "text/latex": [
       "$\\displaystyle [43]\\text{   }{{{{cons}}}}_{cement, ntw, y} - {{use}}_{cement, ntw, y, {capacity}, wf} - {{{use}}}_{cement, ntw, y, {capacity}, pv} - {{{use}}}_{cement, ntw, y, {invcapacity}, power.lii} = 0$"
      ],
      "text/plain": [
       "<IPython.core.display.Math object>"
      ]
     },
     "metadata": {},
     "output_type": "display_data"
    },
    {
     "data": {
      "text/latex": [
       "$\\displaystyle [66]\\text{   }-{{{{inv}}}}_{power.lii, ntw, q} + {{{{inv}}}}_{power.lii, ntw, q-1} - {{{{inv}}}}_{power.lii, ho, q} + {{{prod}}}_{power.lii, ho, q, {operate}, lii.charge} - {{{{expd}}}}_{power.lii, ho, q, {operate}, lii.discharge} - {{{{inv}}}}_{power.lii, sd, q} + {{{prod}}}_{power.lii, sd, q, {operate}, lii.charge} - {{{{expd}}}}_{power.lii, sd, q, {operate}, lii.discharge} - {{{{inv}}}}_{power.lii, ny, q} + {{{prod}}}_{power.lii, ny, q, {operate}, lii.charge} - {{{{expd}}}}_{power.lii, ny, q, {operate}, lii.discharge} = 0$"
      ],
      "text/plain": [
       "<IPython.core.display.Math object>"
      ]
     },
     "metadata": {},
     "output_type": "display_data"
    },
    {
     "data": {
      "text/markdown": [
       "### Mapping Constraint Sets"
      ],
      "text/plain": [
       "<IPython.core.display.Markdown object>"
      ]
     },
     "metadata": {},
     "output_type": "display_data"
    },
    {
     "data": {
      "text/latex": [
       "$\\displaystyle [25]\\text{   }{{{{cap}}}}_{pv, ntw, y} - {{{{{cap}}}}}_{pv, sd, y} - {{{{{cap}}}}}_{pv, ho, y} - {{{{{cap}}}}}_{pv, ny, y} = 0$"
      ],
      "text/plain": [
       "<IPython.core.display.Math object>"
      ]
     },
     "metadata": {},
     "output_type": "display_data"
    },
    {
     "data": {
      "text/latex": [
       "$\\displaystyle [39]\\text{   }{{{{cap}}}}_{wf, ntw, y} - {{{{{cap}}}}}_{wf, ho, y} - {{{{{cap}}}}}_{wf, sd, y} - {{{{{cap}}}}}_{wf, ny, y} = 0$"
      ],
      "text/plain": [
       "<IPython.core.display.Math object>"
      ]
     },
     "metadata": {},
     "output_type": "display_data"
    },
    {
     "data": {
      "text/latex": [
       "$\\displaystyle [57]\\text{   }{{{{opr}}}}_{pv, ho, y} - \\sum_{i \\in q} {{{{opr}}}}_{pv, ho, i} = 0$"
      ],
      "text/plain": [
       "<IPython.core.display.Math object>"
      ]
     },
     "metadata": {},
     "output_type": "display_data"
    },
    {
     "data": {
      "text/latex": [
       "$\\displaystyle [58]\\text{   }{{{{opr}}}}_{pv, ntw, y} - {{{{{opr}}}}}_{pv, ho, y} - {{{{{opr}}}}}_{pv, sd, y} - {{{{{opr}}}}}_{pv, ny, y} = 0$"
      ],
      "text/plain": [
       "<IPython.core.display.Math object>"
      ]
     },
     "metadata": {},
     "output_type": "display_data"
    },
    {
     "data": {
      "text/latex": [
       "$\\displaystyle [61]\\text{   }{{{{opr}}}}_{wf, ho, y} - \\sum_{i \\in q} {{{{opr}}}}_{wf, ho, i} = 0$"
      ],
      "text/plain": [
       "<IPython.core.display.Math object>"
      ]
     },
     "metadata": {},
     "output_type": "display_data"
    },
    {
     "data": {
      "text/latex": [
       "$\\displaystyle [62]\\text{   }{{{{opr}}}}_{wf, ntw, y} - {{{{{opr}}}}}_{wf, ho, y} - {{{{{opr}}}}}_{wf, sd, y} - {{{{{opr}}}}}_{wf, ny, y} = 0$"
      ],
      "text/plain": [
       "<IPython.core.display.Math object>"
      ]
     },
     "metadata": {},
     "output_type": "display_data"
    },
    {
     "data": {
      "text/latex": [
       "$\\displaystyle [64]\\text{   }{{{{icap}}}}_{power.lii, ntw, y} - {{{{{icap}}}}}_{power.lii, ho, y} - {{{{{icap}}}}}_{power.lii, sd, y} - {{{{{icap}}}}}_{power.lii, ny, y} = 0$"
      ],
      "text/plain": [
       "<IPython.core.display.Math object>"
      ]
     },
     "metadata": {},
     "output_type": "display_data"
    },
    {
     "data": {
      "text/latex": [
       "$\\displaystyle [65]\\text{   }{{{{inv}}}}_{power.lii, ntw, y} - \\sum_{i \\in q} {{{{inv}}}}_{power.lii, ntw, i} = 0$"
      ],
      "text/plain": [
       "<IPython.core.display.Math object>"
      ]
     },
     "metadata": {},
     "output_type": "display_data"
    },
    {
     "data": {
      "text/latex": [
       "$\\displaystyle [67]\\text{   }{{{{inv}}}}_{power.lii, ntw, q} - {{{{{inv}}}}}_{power.lii, ho, q} - {{{{{inv}}}}}_{power.lii, sd, q} - {{{{{inv}}}}}_{power.lii, ny, q} = 0$"
      ],
      "text/plain": [
       "<IPython.core.display.Math object>"
      ]
     },
     "metadata": {},
     "output_type": "display_data"
    },
    {
     "data": {
      "text/latex": [
       "$\\displaystyle [69]\\text{   }{{{{cap}}}}_{lii.charge, ntw, y} - {{{{{cap}}}}}_{lii.charge, ho, y} - {{{{{cap}}}}}_{lii.charge, sd, y} - {{{{{cap}}}}}_{lii.charge, ny, y} = 0$"
      ],
      "text/plain": [
       "<IPython.core.display.Math object>"
      ]
     },
     "metadata": {},
     "output_type": "display_data"
    },
    {
     "data": {
      "text/latex": [
       "$\\displaystyle [70]\\text{   }{{{{opr}}}}_{lii.charge, ntw, y} - {{{{{opr}}}}}_{lii.charge, ho, y} - {{{{{opr}}}}}_{lii.charge, sd, y} - {{{{{opr}}}}}_{lii.charge, ny, y} = 0$"
      ],
      "text/plain": [
       "<IPython.core.display.Math object>"
      ]
     },
     "metadata": {},
     "output_type": "display_data"
    },
    {
     "data": {
      "text/latex": [
       "$\\displaystyle [72]\\text{   }{{{{opr}}}}_{lii.charge, ho, y} - \\sum_{i \\in q} {{{{opr}}}}_{lii.charge, ho, i} = 0$"
      ],
      "text/plain": [
       "<IPython.core.display.Math object>"
      ]
     },
     "metadata": {},
     "output_type": "display_data"
    },
    {
     "data": {
      "text/latex": [
       "$\\displaystyle [73]\\text{   }{{{{opr}}}}_{lii.charge, ntw, y} - \\sum_{i \\in q} {{{{opr}}}}_{lii.charge, ntw, i} = 0$"
      ],
      "text/plain": [
       "<IPython.core.display.Math object>"
      ]
     },
     "metadata": {},
     "output_type": "display_data"
    },
    {
     "data": {
      "text/latex": [
       "$\\displaystyle [74]\\text{   }{{{{opr}}}}_{lii.charge, ntw, q} - {{{{{opr}}}}}_{lii.charge, ho, q} - {{{{{opr}}}}}_{lii.charge, sd, q} - {{{{{opr}}}}}_{lii.charge, ny, q} = 0$"
      ],
      "text/plain": [
       "<IPython.core.display.Math object>"
      ]
     },
     "metadata": {},
     "output_type": "display_data"
    },
    {
     "data": {
      "text/latex": [
       "$\\displaystyle [77]\\text{   }{{{{cap}}}}_{lii.discharge, ntw, y} - {{{{{cap}}}}}_{lii.discharge, ho, y} - {{{{{cap}}}}}_{lii.discharge, sd, y} - {{{{{cap}}}}}_{lii.discharge, ny, y} = 0$"
      ],
      "text/plain": [
       "<IPython.core.display.Math object>"
      ]
     },
     "metadata": {},
     "output_type": "display_data"
    },
    {
     "data": {
      "text/latex": [
       "$\\displaystyle [78]\\text{   }{{{{opr}}}}_{lii.discharge, ntw, y} - {{{{{opr}}}}}_{lii.discharge, ho, y} - {{{{{opr}}}}}_{lii.discharge, sd, y} - {{{{{opr}}}}}_{lii.discharge, ny, y} = 0$"
      ],
      "text/plain": [
       "<IPython.core.display.Math object>"
      ]
     },
     "metadata": {},
     "output_type": "display_data"
    },
    {
     "data": {
      "text/latex": [
       "$\\displaystyle [80]\\text{   }{{{{opr}}}}_{lii.discharge, ho, y} - \\sum_{i \\in q} {{{{opr}}}}_{lii.discharge, ho, i} = 0$"
      ],
      "text/plain": [
       "<IPython.core.display.Math object>"
      ]
     },
     "metadata": {},
     "output_type": "display_data"
    },
    {
     "data": {
      "text/latex": [
       "$\\displaystyle [81]\\text{   }{{{{opr}}}}_{lii.discharge, ntw, y} - \\sum_{i \\in q} {{{{opr}}}}_{lii.discharge, ntw, i} = 0$"
      ],
      "text/plain": [
       "<IPython.core.display.Math object>"
      ]
     },
     "metadata": {},
     "output_type": "display_data"
    },
    {
     "data": {
      "text/latex": [
       "$\\displaystyle [82]\\text{   }{{{{opr}}}}_{lii.discharge, ntw, q} - {{{{{opr}}}}}_{lii.discharge, ho, q} - {{{{{opr}}}}}_{lii.discharge, sd, q} - {{{{{opr}}}}}_{lii.discharge, ny, q} = 0$"
      ],
      "text/plain": [
       "<IPython.core.display.Math object>"
      ]
     },
     "metadata": {},
     "output_type": "display_data"
    },
    {
     "data": {
      "text/latex": [
       "$\\displaystyle [86]\\text{   }{{{{opr}}}}_{pv, sd, y} - \\sum_{i \\in q} {{{{opr}}}}_{pv, sd, i} = 0$"
      ],
      "text/plain": [
       "<IPython.core.display.Math object>"
      ]
     },
     "metadata": {},
     "output_type": "display_data"
    },
    {
     "data": {
      "text/latex": [
       "$\\displaystyle [89]\\text{   }{{{{opr}}}}_{wf, sd, y} - \\sum_{i \\in q} {{{{opr}}}}_{wf, sd, i} = 0$"
      ],
      "text/plain": [
       "<IPython.core.display.Math object>"
      ]
     },
     "metadata": {},
     "output_type": "display_data"
    },
    {
     "data": {
      "text/latex": [
       "$\\displaystyle [93]\\text{   }{{{{opr}}}}_{lii.charge, sd, y} - \\sum_{i \\in q} {{{{opr}}}}_{lii.charge, sd, i} = 0$"
      ],
      "text/plain": [
       "<IPython.core.display.Math object>"
      ]
     },
     "metadata": {},
     "output_type": "display_data"
    },
    {
     "data": {
      "text/latex": [
       "$\\displaystyle [97]\\text{   }{{{{opr}}}}_{lii.discharge, sd, y} - \\sum_{i \\in q} {{{{opr}}}}_{lii.discharge, sd, i} = 0$"
      ],
      "text/plain": [
       "<IPython.core.display.Math object>"
      ]
     },
     "metadata": {},
     "output_type": "display_data"
    },
    {
     "data": {
      "text/latex": [
       "$\\displaystyle [101]\\text{   }{{{{opr}}}}_{pv, ny, y} - \\sum_{i \\in q} {{{{opr}}}}_{pv, ny, i} = 0$"
      ],
      "text/plain": [
       "<IPython.core.display.Math object>"
      ]
     },
     "metadata": {},
     "output_type": "display_data"
    },
    {
     "data": {
      "text/latex": [
       "$\\displaystyle [104]\\text{   }{{{{opr}}}}_{wf, ny, y} - \\sum_{i \\in q} {{{{opr}}}}_{wf, ny, i} = 0$"
      ],
      "text/plain": [
       "<IPython.core.display.Math object>"
      ]
     },
     "metadata": {},
     "output_type": "display_data"
    },
    {
     "data": {
      "text/latex": [
       "$\\displaystyle [108]\\text{   }{{{{opr}}}}_{lii.charge, ny, y} - \\sum_{i \\in q} {{{{opr}}}}_{lii.charge, ny, i} = 0$"
      ],
      "text/plain": [
       "<IPython.core.display.Math object>"
      ]
     },
     "metadata": {},
     "output_type": "display_data"
    },
    {
     "data": {
      "text/latex": [
       "$\\displaystyle [112]\\text{   }{{{{opr}}}}_{lii.discharge, ny, y} - \\sum_{i \\in q} {{{{opr}}}}_{lii.discharge, ny, i} = 0$"
      ],
      "text/plain": [
       "<IPython.core.display.Math object>"
      ]
     },
     "metadata": {},
     "output_type": "display_data"
    }
   ],
   "source": [
    "m.show()"
   ]
  },
  {
   "cell_type": "code",
   "execution_count": 22,
   "id": "fbbea01e",
   "metadata": {},
   "outputs": [
    {
     "data": {
      "text/plain": [
       "{solar: {ntw: {y: [consume(solar, ntw, y)]}, ho: {y: []}},\n",
       " wind: {ntw: {y: [consume(wind, ntw, y)]}, ho: {y: []}},\n",
       " power: {ho: {q: [], y: []}, sd: {q: []}, ny: {q: []}},\n",
       " usd: {sd: {y: []}, ho: {y: []}, ny: {y: []}, ntw: {y: []}},\n",
       " power.lii: {ntw: {y: [inventory(power.lii, ntw, y)]}, ho: {y: []}},\n",
       " cement: {ntw: {y: [consume(cement, ntw, y),\n",
       "    use(cement, ntw, y, capacity, wf),\n",
       "    use(cement, ntw, y, capacity, pv),\n",
       "    use(cement, ntw, y, invcapacity, power.lii)]}}}"
      ]
     },
     "execution_count": 22,
     "metadata": {},
     "output_type": "execute_result"
    }
   ],
   "source": [
    "m.grb"
   ]
  },
  {
   "cell_type": "code",
   "execution_count": 21,
   "id": "2812eddb",
   "metadata": {},
   "outputs": [
    {
     "data": {
      "text/plain": [
       "['capacity_grid_ho-sd_y_ub',\n",
       " 'capacity_grid_road_y_ub',\n",
       " 'capacity_lii.charge_ntw_y_ub',\n",
       " 'capacity_lii.discharge_ntw_y_ub',\n",
       " 'capacity_pv_ntw_y_lb',\n",
       " 'capacity_pv_ntw_y_map',\n",
       " 'capacity_pv_ntw_y_ub',\n",
       " 'capacity_wf_ho_y_lb',\n",
       " 'capacity_wf_ho_y_ub',\n",
       " 'capacity_wf_ntw_y_map',\n",
       " 'capacity_wf_ny_y_lb',\n",
       " 'capacity_wf_ny_y_ub',\n",
       " 'capacity_wf_sd_y_lb',\n",
       " 'capacity_wf_sd_y_ub',\n",
       " 'cement_ntw_y_grb',\n",
       " 'consume_cement_ntw_y_ub',\n",
       " 'consume_solar_ntw_y_ub',\n",
       " 'consume_wind_ntw_y_ub',\n",
       " 'emit_gwp_ntw_y_capacity_pv_calc',\n",
       " 'emit_gwp_ntw_y_capacity_wf_calc',\n",
       " 'emit_gwp_ntw_y_consume_cement_calc',\n",
       " 'emit_gwp_ntw_y_invcapacity_power.lii_calc',\n",
       " 'expend_solar_ho_y_operate_pv_calc',\n",
       " 'expend_wind_ho_y_operate_wf_calc',\n",
       " 'invcapacity_power.lii_ntw_y_lb',\n",
       " 'invcapacity_power.lii_ntw_y_map',\n",
       " 'invcapacity_power.lii_ntw_y_ub',\n",
       " 'inventory_power.lii_ntw_y_map',\n",
       " 'operate_grid_ho-sd_q_ub',\n",
       " 'operate_grid_road_q_ub',\n",
       " 'operate_lii.charge_ntw_y_ub',\n",
       " 'operate_lii.discharge_ntw_y_ub',\n",
       " 'operate_pv_ho_q_to__pv_ho_y_tmap',\n",
       " 'operate_pv_ho_q_ub',\n",
       " 'operate_pv_ntw_y_map',\n",
       " 'operate_pv_ny_q_ub',\n",
       " 'operate_pv_sd_q_ub',\n",
       " 'operate_wf_ho_q_to__wf_ho_y_tmap',\n",
       " 'operate_wf_ho_q_ub',\n",
       " 'operate_wf_ntw_y_map',\n",
       " 'operate_wf_ny_q_ub',\n",
       " 'operate_wf_sd_q_ub',\n",
       " 'produce_power_ho_y_operate_pv_calc',\n",
       " 'produce_power_ho_y_operate_wf_calc',\n",
       " 'release_power_ho_q_lb',\n",
       " 'release_power_ny_q_lb',\n",
       " 'release_power_sd_q_lb',\n",
       " 'solar_ntw_y_grb',\n",
       " 'spend_usd_ho_y_capacity_wf_calc',\n",
       " 'spend_usd_ntw_y_capacity_grid_calc',\n",
       " 'spend_usd_ntw_y_capacity_pv_calc',\n",
       " 'spend_usd_ntw_y_consume_cement_calc',\n",
       " 'spend_usd_ntw_y_invcapacity_power.lii_calc',\n",
       " 'spend_usd_ntw_y_inventory_power.lii_calc',\n",
       " 'spend_usd_ntw_y_operate_grid_calc',\n",
       " 'spend_usd_ntw_y_operate_pv_calc',\n",
       " 'spend_usd_ntw_y_operate_wf_calc',\n",
       " 'spend_usd_ny_y_capacity_wf_calc',\n",
       " 'spend_usd_sd_y_capacity_wf_calc',\n",
       " 'use_cement_ntw_y_capacity_pv_calc',\n",
       " 'use_cement_ntw_y_capacity_wf_calc',\n",
       " 'use_cement_ntw_y_invcapacity_power.lii_calc',\n",
       " 'wind_ntw_y_grb']"
      ]
     },
     "execution_count": 21,
     "metadata": {},
     "output_type": "execute_result"
    }
   ],
   "source": [
    "sorted(m._.names_constraint_sets)"
   ]
  },
  {
   "cell_type": "code",
   "execution_count": null,
   "id": "bc09b1bc",
   "metadata": {},
   "outputs": [
    {
     "data": {
      "text/markdown": [
       "# Mathematical Program for Program(example4)"
      ],
      "text/plain": [
       "<IPython.core.display.Markdown object>"
      ]
     },
     "metadata": {},
     "output_type": "display_data"
    },
    {
     "data": {
      "text/markdown": [
       "<br><br>"
      ],
      "text/plain": [
       "<IPython.core.display.Markdown object>"
      ]
     },
     "metadata": {},
     "output_type": "display_data"
    },
    {
     "data": {
      "text/markdown": [
       "## Index Sets"
      ],
      "text/plain": [
       "<IPython.core.display.Markdown object>"
      ]
     },
     "metadata": {},
     "output_type": "display_data"
    },
    {
     "data": {
      "text/latex": [
       "$\\displaystyle currencies = \\{ usd \\}$"
      ],
      "text/plain": [
       "<IPython.core.display.Math object>"
      ]
     },
     "metadata": {},
     "output_type": "display_data"
    },
    {
     "data": {
      "text/latex": [
       "$\\displaystyle locations = \\{ ho, sd, ny, ntw \\}$"
      ],
      "text/plain": [
       "<IPython.core.display.Math object>"
      ]
     },
     "metadata": {},
     "output_type": "display_data"
    },
    {
     "data": {
      "text/latex": [
       "$\\displaystyle resources = \\{ power, wind, solar, power.lii, h2o, co2 \\}$"
      ],
      "text/plain": [
       "<IPython.core.display.Math object>"
      ]
     },
     "metadata": {},
     "output_type": "display_data"
    },
    {
     "data": {
      "text/latex": [
       "$\\displaystyle y = \\{ {y_{0}} \\}$"
      ],
      "text/plain": [
       "<IPython.core.display.Math object>"
      ]
     },
     "metadata": {},
     "output_type": "display_data"
    },
    {
     "data": {
      "text/latex": [
       "$\\displaystyle q = \\{ {q_{0}}, {q_{1}}, {q_{2}}, {q_{3}} \\}$"
      ],
      "text/plain": [
       "<IPython.core.display.Math object>"
      ]
     },
     "metadata": {},
     "output_type": "display_data"
    },
    {
     "data": {
      "text/latex": [
       "$\\displaystyle processes = \\{ wf, pv, lii.charge, lii.discharge \\}$"
      ],
      "text/plain": [
       "<IPython.core.display.Math object>"
      ]
     },
     "metadata": {},
     "output_type": "display_data"
    },
    {
     "data": {
      "text/latex": [
       "$\\displaystyle storages = \\{ lii \\}$"
      ],
      "text/plain": [
       "<IPython.core.display.Math object>"
      ]
     },
     "metadata": {},
     "output_type": "display_data"
    },
    {
     "data": {
      "text/latex": [
       "$\\displaystyle materials = \\{ cement \\}$"
      ],
      "text/plain": [
       "<IPython.core.display.Math object>"
      ]
     },
     "metadata": {},
     "output_type": "display_data"
    },
    {
     "data": {
      "text/latex": [
       "$\\displaystyle linkages = \\{ ho-sd, sd-ho, road, -road \\}$"
      ],
      "text/plain": [
       "<IPython.core.display.Math object>"
      ]
     },
     "metadata": {},
     "output_type": "display_data"
    },
    {
     "data": {
      "text/markdown": [
       "<br><br>"
      ],
      "text/plain": [
       "<IPython.core.display.Markdown object>"
      ]
     },
     "metadata": {},
     "output_type": "display_data"
    },
    {
     "data": {
      "text/markdown": [
       "## s.t."
      ],
      "text/plain": [
       "<IPython.core.display.Markdown object>"
      ]
     },
     "metadata": {},
     "output_type": "display_data"
    },
    {
     "data": {
      "text/markdown": [
       "### Bound Constraint Sets"
      ],
      "text/plain": [
       "<IPython.core.display.Markdown object>"
      ]
     },
     "metadata": {},
     "output_type": "display_data"
    },
    {
     "data": {
      "text/latex": [
       "$\\displaystyle [1]\\text{   }{{{cons}}}_{solar, ntw, y} - 1200 \\leq 0$"
      ],
      "text/plain": [
       "<IPython.core.display.Math object>"
      ]
     },
     "metadata": {},
     "output_type": "display_data"
    },
    {
     "data": {
      "text/latex": [
       "$\\displaystyle [3]\\text{   }{{{{cons}}}}_{wind, ntw, y} - 1200 \\leq 0$"
      ],
      "text/plain": [
       "<IPython.core.display.Math object>"
      ]
     },
     "metadata": {},
     "output_type": "display_data"
    },
    {
     "data": {
      "text/latex": [
       "$\\displaystyle [4]\\text{   }-{{{rlse}}}_{power, ho, q} + {φ}_{} \\leq 0$"
      ],
      "text/plain": [
       "<IPython.core.display.Math object>"
      ]
     },
     "metadata": {},
     "output_type": "display_data"
    },
    {
     "data": {
      "text/latex": [
       "$\\displaystyle [5]\\text{   }-{{{{rlse}}}}_{power, sd, q} + {φ}_{} \\leq 0$"
      ],
      "text/plain": [
       "<IPython.core.display.Math object>"
      ]
     },
     "metadata": {},
     "output_type": "display_data"
    },
    {
     "data": {
      "text/latex": [
       "$\\displaystyle [6]\\text{   }-{{{{rlse}}}}_{power, ny, q} + {φ}_{} \\leq 0$"
      ],
      "text/plain": [
       "<IPython.core.display.Math object>"
      ]
     },
     "metadata": {},
     "output_type": "display_data"
    },
    {
     "data": {
      "text/latex": [
       "$\\displaystyle [7]\\text{   }10 \\cdot {{{\\breve{{cap}}}}}_{wf, sd, y} - {{{cap}}}_{wf, sd, y} \\leq 0$"
      ],
      "text/plain": [
       "<IPython.core.display.Math object>"
      ]
     },
     "metadata": {},
     "output_type": "display_data"
    },
    {
     "data": {
      "text/latex": [
       "$\\displaystyle [8]\\text{   }7 \\cdot {{{{\\breve{{cap}}}}}}_{wf, ho, y} - {{{{cap}}}}_{wf, ho, y} \\leq 0$"
      ],
      "text/plain": [
       "<IPython.core.display.Math object>"
      ]
     },
     "metadata": {},
     "output_type": "display_data"
    },
    {
     "data": {
      "text/latex": [
       "$\\displaystyle [9]\\text{   }20 \\cdot {{{{\\breve{{cap}}}}}}_{wf, ny, y} - {{{{cap}}}}_{wf, ny, y} \\leq 0$"
      ],
      "text/plain": [
       "<IPython.core.display.Math object>"
      ]
     },
     "metadata": {},
     "output_type": "display_data"
    },
    {
     "data": {
      "text/latex": [
       "$\\displaystyle [10]\\text{   }{{{{cap}}}}_{wf, sd, y} - 100 \\cdot {{{{\\breve{{cap}}}}}}_{wf, sd, y} \\leq 0$"
      ],
      "text/plain": [
       "<IPython.core.display.Math object>"
      ]
     },
     "metadata": {},
     "output_type": "display_data"
    },
    {
     "data": {
      "text/latex": [
       "$\\displaystyle [11]\\text{   }{{{{cap}}}}_{wf, ho, y} - 100 \\cdot {{{{\\breve{{cap}}}}}}_{wf, ho, y} \\leq 0$"
      ],
      "text/plain": [
       "<IPython.core.display.Math object>"
      ]
     },
     "metadata": {},
     "output_type": "display_data"
    },
    {
     "data": {
      "text/latex": [
       "$\\displaystyle [12]\\text{   }{{{{cap}}}}_{wf, ny, y} - 100 \\cdot {{{{\\breve{{cap}}}}}}_{wf, ny, y} \\leq 0$"
      ],
      "text/plain": [
       "<IPython.core.display.Math object>"
      ]
     },
     "metadata": {},
     "output_type": "display_data"
    },
    {
     "data": {
      "text/latex": [
       "$\\displaystyle [13]\\text{   }{{{opr}}}_{wf, ho, q} - {φ}_{} \\cdot {{{{cap}}}}_{wf, ho, y} \\leq 0$"
      ],
      "text/plain": [
       "<IPython.core.display.Math object>"
      ]
     },
     "metadata": {},
     "output_type": "display_data"
    },
    {
     "data": {
      "text/latex": [
       "$\\displaystyle [14]\\text{   }{{{{opr}}}}_{wf, sd, q} - {φ}_{} \\cdot {{{{cap}}}}_{wf, sd, y} \\leq 0$"
      ],
      "text/plain": [
       "<IPython.core.display.Math object>"
      ]
     },
     "metadata": {},
     "output_type": "display_data"
    },
    {
     "data": {
      "text/latex": [
       "$\\displaystyle [15]\\text{   }{{{{opr}}}}_{wf, ny, q} - {φ}_{} \\cdot {{{{cap}}}}_{wf, ny, y} \\leq 0$"
      ],
      "text/plain": [
       "<IPython.core.display.Math object>"
      ]
     },
     "metadata": {},
     "output_type": "display_data"
    },
    {
     "data": {
      "text/latex": [
       "$\\displaystyle [20]\\text{   }{{{{cap}}}}_{pv, ntw, y} - 100 \\cdot {{{{\\breve{{cap}}}}}}_{pv, ntw, y} \\leq 0$"
      ],
      "text/plain": [
       "<IPython.core.display.Math object>"
      ]
     },
     "metadata": {},
     "output_type": "display_data"
    },
    {
     "data": {
      "text/latex": [
       "$\\displaystyle [21]\\text{   }10 \\cdot {{{{\\breve{{cap}}}}}}_{pv, ntw, y} - {{{{cap}}}}_{pv, ntw, y} \\leq 0$"
      ],
      "text/plain": [
       "<IPython.core.display.Math object>"
      ]
     },
     "metadata": {},
     "output_type": "display_data"
    },
    {
     "data": {
      "text/latex": [
       "$\\displaystyle [23]\\text{   }{{{{opr}}}}_{pv, sd, q} - {φ}_{} \\cdot {{{{cap}}}}_{pv, sd, y} \\leq 0$"
      ],
      "text/plain": [
       "<IPython.core.display.Math object>"
      ]
     },
     "metadata": {},
     "output_type": "display_data"
    },
    {
     "data": {
      "text/latex": [
       "$\\displaystyle [24]\\text{   }{{{{opr}}}}_{pv, ho, q} - {φ}_{} \\cdot {{{{cap}}}}_{pv, ho, y} \\leq 0$"
      ],
      "text/plain": [
       "<IPython.core.display.Math object>"
      ]
     },
     "metadata": {},
     "output_type": "display_data"
    },
    {
     "data": {
      "text/latex": [
       "$\\displaystyle [25]\\text{   }{{{{opr}}}}_{pv, ny, q} - {φ}_{} \\cdot {{{{cap}}}}_{pv, ny, y} \\leq 0$"
      ],
      "text/plain": [
       "<IPython.core.display.Math object>"
      ]
     },
     "metadata": {},
     "output_type": "display_data"
    },
    {
     "data": {
      "text/latex": [
       "$\\displaystyle [28]\\text{   }{{{icap}}}_{power.lii, ntw, y} - 100 \\cdot {{{\\breve{{icap}}}}}_{power.lii, ntw, y} \\leq 0$"
      ],
      "text/plain": [
       "<IPython.core.display.Math object>"
      ]
     },
     "metadata": {},
     "output_type": "display_data"
    },
    {
     "data": {
      "text/latex": [
       "$\\displaystyle [29]\\text{   }10 \\cdot {{{\\breve{{icap}}}}}_{power.lii, ntw, y} - {{{icap}}}_{power.lii, ntw, y} \\leq 0$"
      ],
      "text/plain": [
       "<IPython.core.display.Math object>"
      ]
     },
     "metadata": {},
     "output_type": "display_data"
    },
    {
     "data": {
      "text/latex": [
       "$\\displaystyle [32]\\text{   }{{{{cap}}}}_{lii.charge, ntw, y} - 100 \\leq 0$"
      ],
      "text/plain": [
       "<IPython.core.display.Math object>"
      ]
     },
     "metadata": {},
     "output_type": "display_data"
    },
    {
     "data": {
      "text/latex": [
       "$\\displaystyle [33]\\text{   }{{{{opr}}}}_{lii.charge, ntw, y} - {{{{cap}}}}_{lii.charge, ntw, y} \\leq 0$"
      ],
      "text/plain": [
       "<IPython.core.display.Math object>"
      ]
     },
     "metadata": {},
     "output_type": "display_data"
    },
    {
     "data": {
      "text/latex": [
       "$\\displaystyle [34]\\text{   }{{{{cap}}}}_{lii.discharge, ntw, y} - 100 \\leq 0$"
      ],
      "text/plain": [
       "<IPython.core.display.Math object>"
      ]
     },
     "metadata": {},
     "output_type": "display_data"
    },
    {
     "data": {
      "text/latex": [
       "$\\displaystyle [35]\\text{   }{{{{opr}}}}_{lii.discharge, ntw, y} - {{{{cap}}}}_{lii.discharge, ntw, y} \\leq 0$"
      ],
      "text/plain": [
       "<IPython.core.display.Math object>"
      ]
     },
     "metadata": {},
     "output_type": "display_data"
    },
    {
     "data": {
      "text/latex": [
       "$\\displaystyle [41]\\text{   }{{{{cons}}}}_{cement, ntw, y} - 1000000 \\leq 0$"
      ],
      "text/plain": [
       "<IPython.core.display.Math object>"
      ]
     },
     "metadata": {},
     "output_type": "display_data"
    },
    {
     "data": {
      "text/latex": [
       "$\\displaystyle [47]\\text{   }{{{{cap}}}}_{grid, ho-sd, y} - 100 \\cdot {{{{\\breve{{cap}}}}}}_{grid, ho-sd, y} \\leq 0$"
      ],
      "text/plain": [
       "<IPython.core.display.Math object>"
      ]
     },
     "metadata": {},
     "output_type": "display_data"
    },
    {
     "data": {
      "text/latex": [
       "$\\displaystyle [48]\\text{   }{{{{cap}}}}_{grid, road, y} - 100 \\cdot {{{{\\breve{{cap}}}}}}_{grid, road, y} \\leq 0$"
      ],
      "text/plain": [
       "<IPython.core.display.Math object>"
      ]
     },
     "metadata": {},
     "output_type": "display_data"
    },
    {
     "data": {
      "text/latex": [
       "$\\displaystyle [49]\\text{   }{{{{opr}}}}_{grid, ho-sd, q} - {φ}_{} \\cdot {{{{cap}}}}_{grid, ho-sd, y} \\leq 0$"
      ],
      "text/plain": [
       "<IPython.core.display.Math object>"
      ]
     },
     "metadata": {},
     "output_type": "display_data"
    },
    {
     "data": {
      "text/latex": [
       "$\\displaystyle [50]\\text{   }{{{{opr}}}}_{grid, road, q} - {φ}_{} \\cdot {{{{cap}}}}_{grid, road, y} \\leq 0$"
      ],
      "text/plain": [
       "<IPython.core.display.Math object>"
      ]
     },
     "metadata": {},
     "output_type": "display_data"
    },
    {
     "data": {
      "text/markdown": [
       "### Calculation Constraint Sets"
      ],
      "text/plain": [
       "<IPython.core.display.Markdown object>"
      ]
     },
     "metadata": {},
     "output_type": "display_data"
    },
    {
     "data": {
      "text/latex": [
       "$\\displaystyle [16]\\text{   }{{spend}}_{usd, sd, y, {capacity}, wf} - 90000 \\cdot {{{{cap}}}}_{wf, sd, y} = 0$"
      ],
      "text/plain": [
       "<IPython.core.display.Math object>"
      ]
     },
     "metadata": {},
     "output_type": "display_data"
    },
    {
     "data": {
      "text/latex": [
       "$\\displaystyle [17]\\text{   }{{{spend}}}_{usd, ho, y, {capacity}, wf} - 70000 \\cdot {{{{cap}}}}_{wf, ho, y} = 0$"
      ],
      "text/plain": [
       "<IPython.core.display.Math object>"
      ]
     },
     "metadata": {},
     "output_type": "display_data"
    },
    {
     "data": {
      "text/latex": [
       "$\\displaystyle [18]\\text{   }{{{spend}}}_{usd, ny, y, {capacity}, wf} - 60000 \\cdot {{{{cap}}}}_{wf, ny, y} = 0$"
      ],
      "text/plain": [
       "<IPython.core.display.Math object>"
      ]
     },
     "metadata": {},
     "output_type": "display_data"
    },
    {
     "data": {
      "text/latex": [
       "$\\displaystyle [19]\\text{   }{{{spend}}}_{usd, ntw, y, {operate}, wf} - 49 \\cdot {{{{opr}}}}_{wf, ntw, y} = 0$"
      ],
      "text/plain": [
       "<IPython.core.display.Math object>"
      ]
     },
     "metadata": {},
     "output_type": "display_data"
    },
    {
     "data": {
      "text/latex": [
       "$\\displaystyle [26]\\text{   }{{{spend}}}_{usd, ntw, y, {capacity}, pv} - 1439046 \\cdot {{{{cap}}}}_{pv, ntw, y} = 0$"
      ],
      "text/plain": [
       "<IPython.core.display.Math object>"
      ]
     },
     "metadata": {},
     "output_type": "display_data"
    },
    {
     "data": {
      "text/latex": [
       "$\\displaystyle [27]\\text{   }{{{spend}}}_{usd, ntw, y, {operate}, pv} - 90000 \\cdot {{{{opr}}}}_{pv, ntw, y} = 0$"
      ],
      "text/plain": [
       "<IPython.core.display.Math object>"
      ]
     },
     "metadata": {},
     "output_type": "display_data"
    },
    {
     "data": {
      "text/latex": [
       "$\\displaystyle [30]\\text{   }{{{spend}}}_{usd, ntw, y, {invcapacity}, power.lii} - 1343614 \\cdot {{{icap}}}_{power.lii, ntw, y} = 0$"
      ],
      "text/plain": [
       "<IPython.core.display.Math object>"
      ]
     },
     "metadata": {},
     "output_type": "display_data"
    },
    {
     "data": {
      "text/latex": [
       "$\\displaystyle [31]\\text{   }{{{spend}}}_{usd, ntw, y, {inventory}, power.lii} - 2000 \\cdot {{{inv}}}_{power.lii, ntw, y} = 0$"
      ],
      "text/plain": [
       "<IPython.core.display.Math object>"
      ]
     },
     "metadata": {},
     "output_type": "display_data"
    },
    {
     "data": {
      "text/latex": [
       "$\\displaystyle [37]\\text{   }{{emit}}_{gwp, ntw, y, {capacity}, wf} - 1000 \\cdot {{{{cap}}}}_{wf, ntw, y} = 0$"
      ],
      "text/plain": [
       "<IPython.core.display.Math object>"
      ]
     },
     "metadata": {},
     "output_type": "display_data"
    },
    {
     "data": {
      "text/latex": [
       "$\\displaystyle [38]\\text{   }{{{emit}}}_{gwp, ntw, y, {capacity}, pv} - 2000 \\cdot {{{{cap}}}}_{pv, ntw, y} = 0$"
      ],
      "text/plain": [
       "<IPython.core.display.Math object>"
      ]
     },
     "metadata": {},
     "output_type": "display_data"
    },
    {
     "data": {
      "text/latex": [
       "$\\displaystyle [39]\\text{   }{{{emit}}}_{gwp, ntw, y, {invcapacity}, power.lii} - 3000 \\cdot {{{icap}}}_{power.lii, ntw, y} = 0$"
      ],
      "text/plain": [
       "<IPython.core.display.Math object>"
      ]
     },
     "metadata": {},
     "output_type": "display_data"
    },
    {
     "data": {
      "text/latex": [
       "$\\displaystyle [42]\\text{   }{{{spend}}}_{usd, ntw, y, {consume}, cement} - 17 \\cdot {{{{cons}}}}_{cement, ntw, y} = 0$"
      ],
      "text/plain": [
       "<IPython.core.display.Math object>"
      ]
     },
     "metadata": {},
     "output_type": "display_data"
    },
    {
     "data": {
      "text/latex": [
       "$\\displaystyle [43]\\text{   }{{{emit}}}_{gwp, ntw, y, {consume}, cement} - 0.9 \\cdot {{{{cons}}}}_{cement, ntw, y} = 0$"
      ],
      "text/plain": [
       "<IPython.core.display.Math object>"
      ]
     },
     "metadata": {},
     "output_type": "display_data"
    },
    {
     "data": {
      "text/latex": [
       "$\\displaystyle [44]\\text{   }{{use}}_{cement, ntw, y, {capacity}, wf} - 400 \\cdot {{{{cap}}}}_{wf, ntw, y} = 0$"
      ],
      "text/plain": [
       "<IPython.core.display.Math object>"
      ]
     },
     "metadata": {},
     "output_type": "display_data"
    },
    {
     "data": {
      "text/latex": [
       "$\\displaystyle [45]\\text{   }{{{use}}}_{cement, ntw, y, {capacity}, pv} - 560 \\cdot {{{{cap}}}}_{pv, ntw, y} = 0$"
      ],
      "text/plain": [
       "<IPython.core.display.Math object>"
      ]
     },
     "metadata": {},
     "output_type": "display_data"
    },
    {
     "data": {
      "text/latex": [
       "$\\displaystyle [46]\\text{   }{{{use}}}_{cement, ntw, y, {invcapacity}, power.lii} - 300 \\cdot {{{icap}}}_{power.lii, ntw, y} = 0$"
      ],
      "text/plain": [
       "<IPython.core.display.Math object>"
      ]
     },
     "metadata": {},
     "output_type": "display_data"
    },
    {
     "data": {
      "text/latex": [
       "$\\displaystyle [51]\\text{   }{{{spend}}}_{usd, ntw, y, {operate}, grid} - 2000 \\cdot {{{{opr}}}}_{grid, ntw, y} = 0$"
      ],
      "text/plain": [
       "<IPython.core.display.Math object>"
      ]
     },
     "metadata": {},
     "output_type": "display_data"
    },
    {
     "data": {
      "text/latex": [
       "$\\displaystyle [52]\\text{   }{{{spend}}}_{usd, ntw, y, {capacity}, grid} - 1000 \\cdot {{{{cap}}}}_{grid, ntw, y} = 0$"
      ],
      "text/plain": [
       "<IPython.core.display.Math object>"
      ]
     },
     "metadata": {},
     "output_type": "display_data"
    },
    {
     "data": {
      "text/latex": [
       "$\\displaystyle [55]\\text{   }{{prod}}_{power, ho, y, {operate}, pv} - {{{{opr}}}}_{pv, ho, y} = 0$"
      ],
      "text/plain": [
       "<IPython.core.display.Math object>"
      ]
     },
     "metadata": {},
     "output_type": "display_data"
    },
    {
     "data": {
      "text/latex": [
       "$\\displaystyle [56]\\text{   }{{{expd}}}_{solar, ho, y, {operate}, pv} - {{{{opr}}}}_{pv, ho, y} = 0$"
      ],
      "text/plain": [
       "<IPython.core.display.Math object>"
      ]
     },
     "metadata": {},
     "output_type": "display_data"
    },
    {
     "data": {
      "text/latex": [
       "$\\displaystyle [59]\\text{   }{{{prod}}}_{power, ho, y, {operate}, wf} - {{{{opr}}}}_{wf, ho, y} = 0$"
      ],
      "text/plain": [
       "<IPython.core.display.Math object>"
      ]
     },
     "metadata": {},
     "output_type": "display_data"
    },
    {
     "data": {
      "text/latex": [
       "$\\displaystyle [60]\\text{   }{{{{expd}}}}_{wind, ho, y, {operate}, wf} - {{{{opr}}}}_{wf, ho, y} = 0$"
      ],
      "text/plain": [
       "<IPython.core.display.Math object>"
      ]
     },
     "metadata": {},
     "output_type": "display_data"
    },
    {
     "data": {
      "text/markdown": [
       "### General Resource Balance Constraint Sets"
      ],
      "text/plain": [
       "<IPython.core.display.Markdown object>"
      ]
     },
     "metadata": {},
     "output_type": "display_data"
    },
    {
     "data": {
      "text/latex": [
       "$\\displaystyle [0]\\text{   }{{{cons}}}_{solar, ntw, y} - {{{expd}}}_{solar, ho, y, {operate}, pv} = 0$"
      ],
      "text/plain": [
       "<IPython.core.display.Math object>"
      ]
     },
     "metadata": {},
     "output_type": "display_data"
    },
    {
     "data": {
      "text/latex": [
       "$\\displaystyle [2]\\text{   }{{{{cons}}}}_{wind, ntw, y} - {{{{expd}}}}_{wind, ho, y, {operate}, wf} = 0$"
      ],
      "text/plain": [
       "<IPython.core.display.Math object>"
      ]
     },
     "metadata": {},
     "output_type": "display_data"
    },
    {
     "data": {
      "text/latex": [
       "$\\displaystyle [40]\\text{   }{{{{cons}}}}_{cement, ntw, y} - {{use}}_{cement, ntw, y, {capacity}, wf} - {{{use}}}_{cement, ntw, y, {capacity}, pv} - {{{use}}}_{cement, ntw, y, {invcapacity}, power.lii} = 0$"
      ],
      "text/plain": [
       "<IPython.core.display.Math object>"
      ]
     },
     "metadata": {},
     "output_type": "display_data"
    },
    {
     "data": {
      "text/markdown": [
       "### Mapping Constraint Sets"
      ],
      "text/plain": [
       "<IPython.core.display.Markdown object>"
      ]
     },
     "metadata": {},
     "output_type": "display_data"
    },
    {
     "data": {
      "text/latex": [
       "$\\displaystyle [22]\\text{   }{{{{cap}}}}_{pv, ntw, y} - {{{{{cap}}}}}_{pv, sd, y} - {{{{{cap}}}}}_{pv, ho, y} - {{{{{cap}}}}}_{pv, ny, y} = 0$"
      ],
      "text/plain": [
       "<IPython.core.display.Math object>"
      ]
     },
     "metadata": {},
     "output_type": "display_data"
    },
    {
     "data": {
      "text/latex": [
       "$\\displaystyle [36]\\text{   }{{{{cap}}}}_{wf, ntw, y} - {{{{{cap}}}}}_{wf, ho, y} - {{{{{cap}}}}}_{wf, sd, y} - {{{{{cap}}}}}_{wf, ny, y} = 0$"
      ],
      "text/plain": [
       "<IPython.core.display.Math object>"
      ]
     },
     "metadata": {},
     "output_type": "display_data"
    },
    {
     "data": {
      "text/latex": [
       "$\\displaystyle [53]\\text{   }{{{{opr}}}}_{pv, ho, y} - \\sum_{i \\in q} {{{{opr}}}}_{pv, ho, i} = 0$"
      ],
      "text/plain": [
       "<IPython.core.display.Math object>"
      ]
     },
     "metadata": {},
     "output_type": "display_data"
    },
    {
     "data": {
      "text/latex": [
       "$\\displaystyle [54]\\text{   }{{{{opr}}}}_{pv, ntw, y} - {{{{{opr}}}}}_{pv, ho, y} = 0$"
      ],
      "text/plain": [
       "<IPython.core.display.Math object>"
      ]
     },
     "metadata": {},
     "output_type": "display_data"
    },
    {
     "data": {
      "text/latex": [
       "$\\displaystyle [57]\\text{   }{{{{opr}}}}_{wf, ho, y} - \\sum_{i \\in q} {{{{opr}}}}_{wf, ho, i} = 0$"
      ],
      "text/plain": [
       "<IPython.core.display.Math object>"
      ]
     },
     "metadata": {},
     "output_type": "display_data"
    },
    {
     "data": {
      "text/latex": [
       "$\\displaystyle [58]\\text{   }{{{{opr}}}}_{wf, ntw, y} - {{{{{opr}}}}}_{wf, ho, y} = 0$"
      ],
      "text/plain": [
       "<IPython.core.display.Math object>"
      ]
     },
     "metadata": {},
     "output_type": "display_data"
    },
    {
     "data": {
      "text/latex": [
       "$\\displaystyle [61]\\text{   }{{{{icap}}}}_{power.lii, ntw, y} - {{{{{icap}}}}}_{power.lii, ho, y} = 0$"
      ],
      "text/plain": [
       "<IPython.core.display.Math object>"
      ]
     },
     "metadata": {},
     "output_type": "display_data"
    },
    {
     "data": {
      "text/latex": [
       "$\\displaystyle [62]\\text{   }{{{{inv}}}}_{power.lii, ntw, y} - {{{{{inv}}}}}_{power.lii, ho, y} = 0$"
      ],
      "text/plain": [
       "<IPython.core.display.Math object>"
      ]
     },
     "metadata": {},
     "output_type": "display_data"
    }
   ],
   "source": [
    "m.show()"
   ]
  },
  {
   "cell_type": "code",
   "execution_count": null,
   "id": "8fcb8a1d",
   "metadata": {},
   "outputs": [
    {
     "data": {
      "text/plain": [
       "['solar_ntw_y_grb',\n",
       " 'consume_solar_ntw_y_ub',\n",
       " 'wind_ntw_y_grb',\n",
       " 'consume_wind_ntw_y_ub',\n",
       " 'release_power_ho_q_lb',\n",
       " 'release_power_sd_q_lb',\n",
       " 'release_power_ny_q_lb',\n",
       " 'capacity_wf_sd_y_lb',\n",
       " 'capacity_wf_ho_y_lb',\n",
       " 'capacity_wf_ny_y_lb',\n",
       " 'capacity_wf_sd_y_ub',\n",
       " 'capacity_wf_ho_y_ub',\n",
       " 'capacity_wf_ny_y_ub',\n",
       " 'operate_wf_ho_q_ub',\n",
       " 'operate_wf_sd_q_ub',\n",
       " 'operate_wf_ny_q_ub',\n",
       " 'spend_usd_sd_y_capacity_wf_calc',\n",
       " 'spend_usd_ho_y_capacity_wf_calc',\n",
       " 'spend_usd_ny_y_capacity_wf_calc',\n",
       " 'spend_usd_ntw_y_operate_wf_calc',\n",
       " 'capacity_pv_ntw_y_ub',\n",
       " 'capacity_pv_ntw_y_lb',\n",
       " 'capacity_pv_ntw_y_map',\n",
       " 'operate_pv_sd_q_ub',\n",
       " 'operate_pv_ho_q_ub',\n",
       " 'operate_pv_ny_q_ub',\n",
       " 'spend_usd_ntw_y_capacity_pv_calc',\n",
       " 'spend_usd_ntw_y_operate_pv_calc',\n",
       " 'invcapacity_power.lii_ntw_y_ub',\n",
       " 'invcapacity_power.lii_ntw_y_lb',\n",
       " 'spend_usd_ntw_y_invcapacity_power.lii_calc',\n",
       " 'spend_usd_ntw_y_inventory_power.lii_calc',\n",
       " 'capacity_lii.charge_ntw_y_ub',\n",
       " 'operate_lii.charge_ntw_y_ub',\n",
       " 'capacity_lii.discharge_ntw_y_ub',\n",
       " 'operate_lii.discharge_ntw_y_ub',\n",
       " 'capacity_wf_ntw_y_map',\n",
       " 'emit_gwp_ntw_y_capacity_wf_calc',\n",
       " 'emit_gwp_ntw_y_capacity_pv_calc',\n",
       " 'emit_gwp_ntw_y_invcapacity_power.lii_calc',\n",
       " 'cement_ntw_y_grb',\n",
       " 'consume_cement_ntw_y_ub',\n",
       " 'spend_usd_ntw_y_consume_cement_calc',\n",
       " 'emit_gwp_ntw_y_consume_cement_calc',\n",
       " 'use_cement_ntw_y_capacity_wf_calc',\n",
       " 'use_cement_ntw_y_capacity_pv_calc',\n",
       " 'use_cement_ntw_y_invcapacity_power.lii_calc',\n",
       " 'capacity_grid_ho-sd_y_ub',\n",
       " 'capacity_grid_road_y_ub',\n",
       " 'operate_grid_ho-sd_q_ub',\n",
       " 'operate_grid_road_q_ub',\n",
       " 'spend_usd_ntw_y_operate_grid_calc',\n",
       " 'spend_usd_ntw_y_capacity_grid_calc',\n",
       " 'operate_pv_ho_q_to__pv_ho_y_tmap',\n",
       " 'operate_pv_ntw_y_map',\n",
       " 'produce_power_ho_y_operate_pv_calc',\n",
       " 'expend_solar_ho_y_operate_pv_calc',\n",
       " 'operate_wf_ho_q_to__wf_ho_y_tmap',\n",
       " 'operate_wf_ntw_y_map',\n",
       " 'produce_power_ho_y_operate_wf_calc',\n",
       " 'expend_wind_ho_y_operate_wf_calc',\n",
       " 'invcapacity_power.lii_ntw_y_map',\n",
       " 'inventory_power.lii_ntw_y_map']"
      ]
     },
     "execution_count": 20,
     "metadata": {},
     "output_type": "execute_result"
    }
   ],
   "source": [
    "m._.names_constraint_sets"
   ]
  },
  {
   "cell_type": "code",
   "execution_count": 19,
   "id": "3e84e2a7",
   "metadata": {},
   "outputs": [
    {
     "data": {
      "text/markdown": [
       "# Mathematical Program for Program(example4)"
      ],
      "text/plain": [
       "<IPython.core.display.Markdown object>"
      ]
     },
     "metadata": {},
     "output_type": "display_data"
    },
    {
     "data": {
      "text/markdown": [
       "<br><br>"
      ],
      "text/plain": [
       "<IPython.core.display.Markdown object>"
      ]
     },
     "metadata": {},
     "output_type": "display_data"
    },
    {
     "data": {
      "text/markdown": [
       "## Index Sets"
      ],
      "text/plain": [
       "<IPython.core.display.Markdown object>"
      ]
     },
     "metadata": {},
     "output_type": "display_data"
    },
    {
     "data": {
      "text/latex": [
       "$\\displaystyle currencies = \\{ usd \\}$"
      ],
      "text/plain": [
       "<IPython.core.display.Math object>"
      ]
     },
     "metadata": {},
     "output_type": "display_data"
    },
    {
     "data": {
      "text/latex": [
       "$\\displaystyle locations = \\{ ho, sd, ny, ntw \\}$"
      ],
      "text/plain": [
       "<IPython.core.display.Math object>"
      ]
     },
     "metadata": {},
     "output_type": "display_data"
    },
    {
     "data": {
      "text/latex": [
       "$\\displaystyle resources = \\{ power, wind, solar, power.lii, h2o, co2 \\}$"
      ],
      "text/plain": [
       "<IPython.core.display.Math object>"
      ]
     },
     "metadata": {},
     "output_type": "display_data"
    },
    {
     "data": {
      "text/latex": [
       "$\\displaystyle y = \\{ {y_{0}} \\}$"
      ],
      "text/plain": [
       "<IPython.core.display.Math object>"
      ]
     },
     "metadata": {},
     "output_type": "display_data"
    },
    {
     "data": {
      "text/latex": [
       "$\\displaystyle q = \\{ {q_{0}}, {q_{1}}, {q_{2}}, {q_{3}} \\}$"
      ],
      "text/plain": [
       "<IPython.core.display.Math object>"
      ]
     },
     "metadata": {},
     "output_type": "display_data"
    },
    {
     "data": {
      "text/latex": [
       "$\\displaystyle processes = \\{ wf, pv, lii.charge, lii.discharge \\}$"
      ],
      "text/plain": [
       "<IPython.core.display.Math object>"
      ]
     },
     "metadata": {},
     "output_type": "display_data"
    },
    {
     "data": {
      "text/latex": [
       "$\\displaystyle storages = \\{ lii \\}$"
      ],
      "text/plain": [
       "<IPython.core.display.Math object>"
      ]
     },
     "metadata": {},
     "output_type": "display_data"
    },
    {
     "data": {
      "text/latex": [
       "$\\displaystyle materials = \\{ cement \\}$"
      ],
      "text/plain": [
       "<IPython.core.display.Math object>"
      ]
     },
     "metadata": {},
     "output_type": "display_data"
    },
    {
     "data": {
      "text/latex": [
       "$\\displaystyle linkages = \\{ ho-sd, sd-ho, road, -road \\}$"
      ],
      "text/plain": [
       "<IPython.core.display.Math object>"
      ]
     },
     "metadata": {},
     "output_type": "display_data"
    },
    {
     "data": {
      "text/markdown": [
       "<br><br>"
      ],
      "text/plain": [
       "<IPython.core.display.Markdown object>"
      ]
     },
     "metadata": {},
     "output_type": "display_data"
    },
    {
     "data": {
      "text/markdown": [
       "## s.t."
      ],
      "text/plain": [
       "<IPython.core.display.Markdown object>"
      ]
     },
     "metadata": {},
     "output_type": "display_data"
    },
    {
     "data": {
      "text/markdown": [
       "### Bound Constraint Sets"
      ],
      "text/plain": [
       "<IPython.core.display.Markdown object>"
      ]
     },
     "metadata": {},
     "output_type": "display_data"
    },
    {
     "data": {
      "text/latex": [
       "$\\displaystyle [1]\\text{   }{{{cons}}}_{solar, ntw, y} - 1200 \\leq 0$"
      ],
      "text/plain": [
       "<IPython.core.display.Math object>"
      ]
     },
     "metadata": {},
     "output_type": "display_data"
    },
    {
     "data": {
      "text/latex": [
       "$\\displaystyle [3]\\text{   }{{{{cons}}}}_{wind, ntw, y} - 1200 \\leq 0$"
      ],
      "text/plain": [
       "<IPython.core.display.Math object>"
      ]
     },
     "metadata": {},
     "output_type": "display_data"
    },
    {
     "data": {
      "text/latex": [
       "$\\displaystyle [4]\\text{   }-{{{rlse}}}_{power, ho, q} + {φ}_{} \\leq 0$"
      ],
      "text/plain": [
       "<IPython.core.display.Math object>"
      ]
     },
     "metadata": {},
     "output_type": "display_data"
    },
    {
     "data": {
      "text/latex": [
       "$\\displaystyle [5]\\text{   }-{{{{rlse}}}}_{power, sd, q} + {φ}_{} \\leq 0$"
      ],
      "text/plain": [
       "<IPython.core.display.Math object>"
      ]
     },
     "metadata": {},
     "output_type": "display_data"
    },
    {
     "data": {
      "text/latex": [
       "$\\displaystyle [6]\\text{   }-{{{{rlse}}}}_{power, ny, q} + {φ}_{} \\leq 0$"
      ],
      "text/plain": [
       "<IPython.core.display.Math object>"
      ]
     },
     "metadata": {},
     "output_type": "display_data"
    },
    {
     "data": {
      "text/latex": [
       "$\\displaystyle [7]\\text{   }10 \\cdot {{{\\breve{{cap}}}}}_{wf, sd, y} - {{{cap}}}_{wf, sd, y} \\leq 0$"
      ],
      "text/plain": [
       "<IPython.core.display.Math object>"
      ]
     },
     "metadata": {},
     "output_type": "display_data"
    },
    {
     "data": {
      "text/latex": [
       "$\\displaystyle [8]\\text{   }7 \\cdot {{{{\\breve{{cap}}}}}}_{wf, ho, y} - {{{{cap}}}}_{wf, ho, y} \\leq 0$"
      ],
      "text/plain": [
       "<IPython.core.display.Math object>"
      ]
     },
     "metadata": {},
     "output_type": "display_data"
    },
    {
     "data": {
      "text/latex": [
       "$\\displaystyle [9]\\text{   }20 \\cdot {{{{\\breve{{cap}}}}}}_{wf, ny, y} - {{{{cap}}}}_{wf, ny, y} \\leq 0$"
      ],
      "text/plain": [
       "<IPython.core.display.Math object>"
      ]
     },
     "metadata": {},
     "output_type": "display_data"
    },
    {
     "data": {
      "text/latex": [
       "$\\displaystyle [10]\\text{   }{{{{cap}}}}_{wf, sd, y} - 100 \\cdot {{{{\\breve{{cap}}}}}}_{wf, sd, y} \\leq 0$"
      ],
      "text/plain": [
       "<IPython.core.display.Math object>"
      ]
     },
     "metadata": {},
     "output_type": "display_data"
    },
    {
     "data": {
      "text/latex": [
       "$\\displaystyle [11]\\text{   }{{{{cap}}}}_{wf, ho, y} - 100 \\cdot {{{{\\breve{{cap}}}}}}_{wf, ho, y} \\leq 0$"
      ],
      "text/plain": [
       "<IPython.core.display.Math object>"
      ]
     },
     "metadata": {},
     "output_type": "display_data"
    },
    {
     "data": {
      "text/latex": [
       "$\\displaystyle [12]\\text{   }{{{{cap}}}}_{wf, ny, y} - 100 \\cdot {{{{\\breve{{cap}}}}}}_{wf, ny, y} \\leq 0$"
      ],
      "text/plain": [
       "<IPython.core.display.Math object>"
      ]
     },
     "metadata": {},
     "output_type": "display_data"
    },
    {
     "data": {
      "text/latex": [
       "$\\displaystyle [13]\\text{   }{{{opr}}}_{wf, ho, q} - {φ}_{} \\cdot {{{{cap}}}}_{wf, ho, y} \\leq 0$"
      ],
      "text/plain": [
       "<IPython.core.display.Math object>"
      ]
     },
     "metadata": {},
     "output_type": "display_data"
    },
    {
     "data": {
      "text/latex": [
       "$\\displaystyle [14]\\text{   }{{{{opr}}}}_{wf, sd, q} - {φ}_{} \\cdot {{{{cap}}}}_{wf, sd, y} \\leq 0$"
      ],
      "text/plain": [
       "<IPython.core.display.Math object>"
      ]
     },
     "metadata": {},
     "output_type": "display_data"
    },
    {
     "data": {
      "text/latex": [
       "$\\displaystyle [15]\\text{   }{{{{opr}}}}_{wf, ny, q} - {φ}_{} \\cdot {{{{cap}}}}_{wf, ny, y} \\leq 0$"
      ],
      "text/plain": [
       "<IPython.core.display.Math object>"
      ]
     },
     "metadata": {},
     "output_type": "display_data"
    },
    {
     "data": {
      "text/latex": [
       "$\\displaystyle [20]\\text{   }{{{{cap}}}}_{pv, ntw, y} - 100 \\cdot {{{{\\breve{{cap}}}}}}_{pv, ntw, y} \\leq 0$"
      ],
      "text/plain": [
       "<IPython.core.display.Math object>"
      ]
     },
     "metadata": {},
     "output_type": "display_data"
    },
    {
     "data": {
      "text/latex": [
       "$\\displaystyle [21]\\text{   }10 \\cdot {{{{\\breve{{cap}}}}}}_{pv, ntw, y} - {{{{cap}}}}_{pv, ntw, y} \\leq 0$"
      ],
      "text/plain": [
       "<IPython.core.display.Math object>"
      ]
     },
     "metadata": {},
     "output_type": "display_data"
    },
    {
     "data": {
      "text/latex": [
       "$\\displaystyle [23]\\text{   }{{{{opr}}}}_{pv, sd, q} - {φ}_{} \\cdot {{{{cap}}}}_{pv, sd, y} \\leq 0$"
      ],
      "text/plain": [
       "<IPython.core.display.Math object>"
      ]
     },
     "metadata": {},
     "output_type": "display_data"
    },
    {
     "data": {
      "text/latex": [
       "$\\displaystyle [24]\\text{   }{{{{opr}}}}_{pv, ho, q} - {φ}_{} \\cdot {{{{cap}}}}_{pv, ho, y} \\leq 0$"
      ],
      "text/plain": [
       "<IPython.core.display.Math object>"
      ]
     },
     "metadata": {},
     "output_type": "display_data"
    },
    {
     "data": {
      "text/latex": [
       "$\\displaystyle [25]\\text{   }{{{{opr}}}}_{pv, ny, q} - {φ}_{} \\cdot {{{{cap}}}}_{pv, ny, y} \\leq 0$"
      ],
      "text/plain": [
       "<IPython.core.display.Math object>"
      ]
     },
     "metadata": {},
     "output_type": "display_data"
    },
    {
     "data": {
      "text/latex": [
       "$\\displaystyle [28]\\text{   }{{{icap}}}_{power.lii, ntw, y} - 100 \\cdot {{{\\breve{{icap}}}}}_{power.lii, ntw, y} \\leq 0$"
      ],
      "text/plain": [
       "<IPython.core.display.Math object>"
      ]
     },
     "metadata": {},
     "output_type": "display_data"
    },
    {
     "data": {
      "text/latex": [
       "$\\displaystyle [29]\\text{   }10 \\cdot {{{\\breve{{icap}}}}}_{power.lii, ntw, y} - {{{icap}}}_{power.lii, ntw, y} \\leq 0$"
      ],
      "text/plain": [
       "<IPython.core.display.Math object>"
      ]
     },
     "metadata": {},
     "output_type": "display_data"
    },
    {
     "data": {
      "text/latex": [
       "$\\displaystyle [32]\\text{   }{{{{cap}}}}_{lii.charge, ntw, y} - 100 \\leq 0$"
      ],
      "text/plain": [
       "<IPython.core.display.Math object>"
      ]
     },
     "metadata": {},
     "output_type": "display_data"
    },
    {
     "data": {
      "text/latex": [
       "$\\displaystyle [33]\\text{   }{{{{opr}}}}_{lii.charge, ntw, y} - {{{{cap}}}}_{lii.charge, ntw, y} \\leq 0$"
      ],
      "text/plain": [
       "<IPython.core.display.Math object>"
      ]
     },
     "metadata": {},
     "output_type": "display_data"
    },
    {
     "data": {
      "text/latex": [
       "$\\displaystyle [34]\\text{   }{{{{cap}}}}_{lii.discharge, ntw, y} - 100 \\leq 0$"
      ],
      "text/plain": [
       "<IPython.core.display.Math object>"
      ]
     },
     "metadata": {},
     "output_type": "display_data"
    },
    {
     "data": {
      "text/latex": [
       "$\\displaystyle [35]\\text{   }{{{{opr}}}}_{lii.discharge, ntw, y} - {{{{cap}}}}_{lii.discharge, ntw, y} \\leq 0$"
      ],
      "text/plain": [
       "<IPython.core.display.Math object>"
      ]
     },
     "metadata": {},
     "output_type": "display_data"
    },
    {
     "data": {
      "text/latex": [
       "$\\displaystyle [41]\\text{   }{{{{cons}}}}_{cement, ntw, y} - 1000000 \\leq 0$"
      ],
      "text/plain": [
       "<IPython.core.display.Math object>"
      ]
     },
     "metadata": {},
     "output_type": "display_data"
    },
    {
     "data": {
      "text/latex": [
       "$\\displaystyle [47]\\text{   }{{{{cap}}}}_{grid, ho-sd, y} - 100 \\cdot {{{{\\breve{{cap}}}}}}_{grid, ho-sd, y} \\leq 0$"
      ],
      "text/plain": [
       "<IPython.core.display.Math object>"
      ]
     },
     "metadata": {},
     "output_type": "display_data"
    },
    {
     "data": {
      "text/latex": [
       "$\\displaystyle [48]\\text{   }{{{{cap}}}}_{grid, road, y} - 100 \\cdot {{{{\\breve{{cap}}}}}}_{grid, road, y} \\leq 0$"
      ],
      "text/plain": [
       "<IPython.core.display.Math object>"
      ]
     },
     "metadata": {},
     "output_type": "display_data"
    },
    {
     "data": {
      "text/latex": [
       "$\\displaystyle [49]\\text{   }{{{{opr}}}}_{grid, ho-sd, q} - {φ}_{} \\cdot {{{{cap}}}}_{grid, ho-sd, y} \\leq 0$"
      ],
      "text/plain": [
       "<IPython.core.display.Math object>"
      ]
     },
     "metadata": {},
     "output_type": "display_data"
    },
    {
     "data": {
      "text/latex": [
       "$\\displaystyle [50]\\text{   }{{{{opr}}}}_{grid, road, q} - {φ}_{} \\cdot {{{{cap}}}}_{grid, road, y} \\leq 0$"
      ],
      "text/plain": [
       "<IPython.core.display.Math object>"
      ]
     },
     "metadata": {},
     "output_type": "display_data"
    },
    {
     "data": {
      "text/markdown": [
       "### Calculation Constraint Sets"
      ],
      "text/plain": [
       "<IPython.core.display.Markdown object>"
      ]
     },
     "metadata": {},
     "output_type": "display_data"
    },
    {
     "data": {
      "text/latex": [
       "$\\displaystyle [16]\\text{   }{{spend}}_{usd, sd, y, {capacity}, wf} - 90000 \\cdot {{{{cap}}}}_{wf, sd, y} = 0$"
      ],
      "text/plain": [
       "<IPython.core.display.Math object>"
      ]
     },
     "metadata": {},
     "output_type": "display_data"
    },
    {
     "data": {
      "text/latex": [
       "$\\displaystyle [17]\\text{   }{{{spend}}}_{usd, ho, y, {capacity}, wf} - 70000 \\cdot {{{{cap}}}}_{wf, ho, y} = 0$"
      ],
      "text/plain": [
       "<IPython.core.display.Math object>"
      ]
     },
     "metadata": {},
     "output_type": "display_data"
    },
    {
     "data": {
      "text/latex": [
       "$\\displaystyle [18]\\text{   }{{{spend}}}_{usd, ny, y, {capacity}, wf} - 60000 \\cdot {{{{cap}}}}_{wf, ny, y} = 0$"
      ],
      "text/plain": [
       "<IPython.core.display.Math object>"
      ]
     },
     "metadata": {},
     "output_type": "display_data"
    },
    {
     "data": {
      "text/latex": [
       "$\\displaystyle [19]\\text{   }{{{spend}}}_{usd, ntw, y, {operate}, wf} - 49 \\cdot {{{{opr}}}}_{wf, ntw, y} = 0$"
      ],
      "text/plain": [
       "<IPython.core.display.Math object>"
      ]
     },
     "metadata": {},
     "output_type": "display_data"
    },
    {
     "data": {
      "text/latex": [
       "$\\displaystyle [26]\\text{   }{{{spend}}}_{usd, ntw, y, {capacity}, pv} - 1439046 \\cdot {{{{cap}}}}_{pv, ntw, y} = 0$"
      ],
      "text/plain": [
       "<IPython.core.display.Math object>"
      ]
     },
     "metadata": {},
     "output_type": "display_data"
    },
    {
     "data": {
      "text/latex": [
       "$\\displaystyle [27]\\text{   }{{{spend}}}_{usd, ntw, y, {operate}, pv} - 90000 \\cdot {{{{opr}}}}_{pv, ntw, y} = 0$"
      ],
      "text/plain": [
       "<IPython.core.display.Math object>"
      ]
     },
     "metadata": {},
     "output_type": "display_data"
    },
    {
     "data": {
      "text/latex": [
       "$\\displaystyle [30]\\text{   }{{{spend}}}_{usd, ntw, y, {invcapacity}, power.lii} - 1343614 \\cdot {{{icap}}}_{power.lii, ntw, y} = 0$"
      ],
      "text/plain": [
       "<IPython.core.display.Math object>"
      ]
     },
     "metadata": {},
     "output_type": "display_data"
    },
    {
     "data": {
      "text/latex": [
       "$\\displaystyle [31]\\text{   }{{{spend}}}_{usd, ntw, y, {inventory}, power.lii} - 2000 \\cdot {{{inv}}}_{power.lii, ntw, y} = 0$"
      ],
      "text/plain": [
       "<IPython.core.display.Math object>"
      ]
     },
     "metadata": {},
     "output_type": "display_data"
    },
    {
     "data": {
      "text/latex": [
       "$\\displaystyle [37]\\text{   }{{emit}}_{gwp, ntw, y, {capacity}, wf} - 1000 \\cdot {{{{cap}}}}_{wf, ntw, y} = 0$"
      ],
      "text/plain": [
       "<IPython.core.display.Math object>"
      ]
     },
     "metadata": {},
     "output_type": "display_data"
    },
    {
     "data": {
      "text/latex": [
       "$\\displaystyle [38]\\text{   }{{{emit}}}_{gwp, ntw, y, {capacity}, pv} - 2000 \\cdot {{{{cap}}}}_{pv, ntw, y} = 0$"
      ],
      "text/plain": [
       "<IPython.core.display.Math object>"
      ]
     },
     "metadata": {},
     "output_type": "display_data"
    },
    {
     "data": {
      "text/latex": [
       "$\\displaystyle [39]\\text{   }{{{emit}}}_{gwp, ntw, y, {invcapacity}, power.lii} - 3000 \\cdot {{{icap}}}_{power.lii, ntw, y} = 0$"
      ],
      "text/plain": [
       "<IPython.core.display.Math object>"
      ]
     },
     "metadata": {},
     "output_type": "display_data"
    },
    {
     "data": {
      "text/latex": [
       "$\\displaystyle [42]\\text{   }{{{spend}}}_{usd, ntw, y, {consume}, cement} - 17 \\cdot {{{{cons}}}}_{cement, ntw, y} = 0$"
      ],
      "text/plain": [
       "<IPython.core.display.Math object>"
      ]
     },
     "metadata": {},
     "output_type": "display_data"
    },
    {
     "data": {
      "text/latex": [
       "$\\displaystyle [43]\\text{   }{{{emit}}}_{gwp, ntw, y, {consume}, cement} - 0.9 \\cdot {{{{cons}}}}_{cement, ntw, y} = 0$"
      ],
      "text/plain": [
       "<IPython.core.display.Math object>"
      ]
     },
     "metadata": {},
     "output_type": "display_data"
    },
    {
     "data": {
      "text/latex": [
       "$\\displaystyle [44]\\text{   }{{use}}_{cement, ntw, y, {capacity}, wf} - 400 \\cdot {{{{cap}}}}_{wf, ntw, y} = 0$"
      ],
      "text/plain": [
       "<IPython.core.display.Math object>"
      ]
     },
     "metadata": {},
     "output_type": "display_data"
    },
    {
     "data": {
      "text/latex": [
       "$\\displaystyle [45]\\text{   }{{{use}}}_{cement, ntw, y, {capacity}, pv} - 560 \\cdot {{{{cap}}}}_{pv, ntw, y} = 0$"
      ],
      "text/plain": [
       "<IPython.core.display.Math object>"
      ]
     },
     "metadata": {},
     "output_type": "display_data"
    },
    {
     "data": {
      "text/latex": [
       "$\\displaystyle [46]\\text{   }{{{use}}}_{cement, ntw, y, {invcapacity}, power.lii} - 300 \\cdot {{{icap}}}_{power.lii, ntw, y} = 0$"
      ],
      "text/plain": [
       "<IPython.core.display.Math object>"
      ]
     },
     "metadata": {},
     "output_type": "display_data"
    },
    {
     "data": {
      "text/latex": [
       "$\\displaystyle [51]\\text{   }{{{spend}}}_{usd, ntw, y, {operate}, grid} - 2000 \\cdot {{{{opr}}}}_{grid, ntw, y} = 0$"
      ],
      "text/plain": [
       "<IPython.core.display.Math object>"
      ]
     },
     "metadata": {},
     "output_type": "display_data"
    },
    {
     "data": {
      "text/latex": [
       "$\\displaystyle [52]\\text{   }{{{spend}}}_{usd, ntw, y, {capacity}, grid} - 1000 \\cdot {{{{cap}}}}_{grid, ntw, y} = 0$"
      ],
      "text/plain": [
       "<IPython.core.display.Math object>"
      ]
     },
     "metadata": {},
     "output_type": "display_data"
    },
    {
     "data": {
      "text/latex": [
       "$\\displaystyle [55]\\text{   }{{prod}}_{power, ho, y, {operate}, pv} - {{{{opr}}}}_{pv, ho, y} = 0$"
      ],
      "text/plain": [
       "<IPython.core.display.Math object>"
      ]
     },
     "metadata": {},
     "output_type": "display_data"
    },
    {
     "data": {
      "text/latex": [
       "$\\displaystyle [56]\\text{   }{{{expd}}}_{solar, ho, y, {operate}, pv} - {{{{opr}}}}_{pv, ho, y} = 0$"
      ],
      "text/plain": [
       "<IPython.core.display.Math object>"
      ]
     },
     "metadata": {},
     "output_type": "display_data"
    },
    {
     "data": {
      "text/latex": [
       "$\\displaystyle [59]\\text{   }{{{prod}}}_{power, ho, y, {operate}, wf} - {{{{opr}}}}_{wf, ho, y} = 0$"
      ],
      "text/plain": [
       "<IPython.core.display.Math object>"
      ]
     },
     "metadata": {},
     "output_type": "display_data"
    },
    {
     "data": {
      "text/latex": [
       "$\\displaystyle [60]\\text{   }{{{{expd}}}}_{wind, ho, y, {operate}, wf} - {{{{opr}}}}_{wf, ho, y} = 0$"
      ],
      "text/plain": [
       "<IPython.core.display.Math object>"
      ]
     },
     "metadata": {},
     "output_type": "display_data"
    },
    {
     "data": {
      "text/markdown": [
       "### General Resource Balance Constraint Sets"
      ],
      "text/plain": [
       "<IPython.core.display.Markdown object>"
      ]
     },
     "metadata": {},
     "output_type": "display_data"
    },
    {
     "data": {
      "text/latex": [
       "$\\displaystyle [0]\\text{   }{{{cons}}}_{solar, ntw, y} - {{{expd}}}_{solar, ho, y, {operate}, pv} = 0$"
      ],
      "text/plain": [
       "<IPython.core.display.Math object>"
      ]
     },
     "metadata": {},
     "output_type": "display_data"
    },
    {
     "data": {
      "text/latex": [
       "$\\displaystyle [2]\\text{   }{{{{cons}}}}_{wind, ntw, y} - {{{{expd}}}}_{wind, ho, y, {operate}, wf} = 0$"
      ],
      "text/plain": [
       "<IPython.core.display.Math object>"
      ]
     },
     "metadata": {},
     "output_type": "display_data"
    },
    {
     "data": {
      "text/latex": [
       "$\\displaystyle [40]\\text{   }{{{{cons}}}}_{cement, ntw, y} - {{use}}_{cement, ntw, y, {capacity}, wf} - {{{use}}}_{cement, ntw, y, {capacity}, pv} - {{{use}}}_{cement, ntw, y, {invcapacity}, power.lii} = 0$"
      ],
      "text/plain": [
       "<IPython.core.display.Math object>"
      ]
     },
     "metadata": {},
     "output_type": "display_data"
    },
    {
     "data": {
      "text/markdown": [
       "### Mapping Constraint Sets"
      ],
      "text/plain": [
       "<IPython.core.display.Markdown object>"
      ]
     },
     "metadata": {},
     "output_type": "display_data"
    },
    {
     "data": {
      "text/latex": [
       "$\\displaystyle [22]\\text{   }{{{{cap}}}}_{pv, ntw, y} - {{{{{cap}}}}}_{pv, sd, y} - {{{{{cap}}}}}_{pv, ho, y} - {{{{{cap}}}}}_{pv, ny, y} = 0$"
      ],
      "text/plain": [
       "<IPython.core.display.Math object>"
      ]
     },
     "metadata": {},
     "output_type": "display_data"
    },
    {
     "data": {
      "text/latex": [
       "$\\displaystyle [36]\\text{   }{{{{cap}}}}_{wf, ntw, y} - {{{{{cap}}}}}_{wf, ho, y} - {{{{{cap}}}}}_{wf, sd, y} - {{{{{cap}}}}}_{wf, ny, y} = 0$"
      ],
      "text/plain": [
       "<IPython.core.display.Math object>"
      ]
     },
     "metadata": {},
     "output_type": "display_data"
    },
    {
     "data": {
      "text/latex": [
       "$\\displaystyle [53]\\text{   }{{{{opr}}}}_{pv, ho, y} - \\sum_{i \\in q} {{{{opr}}}}_{pv, ho, i} = 0$"
      ],
      "text/plain": [
       "<IPython.core.display.Math object>"
      ]
     },
     "metadata": {},
     "output_type": "display_data"
    },
    {
     "data": {
      "text/latex": [
       "$\\displaystyle [54]\\text{   }{{{{opr}}}}_{pv, ntw, y} - {{{{{opr}}}}}_{pv, ho, y} = 0$"
      ],
      "text/plain": [
       "<IPython.core.display.Math object>"
      ]
     },
     "metadata": {},
     "output_type": "display_data"
    },
    {
     "data": {
      "text/latex": [
       "$\\displaystyle [57]\\text{   }{{{{opr}}}}_{wf, ho, y} - \\sum_{i \\in q} {{{{opr}}}}_{wf, ho, i} = 0$"
      ],
      "text/plain": [
       "<IPython.core.display.Math object>"
      ]
     },
     "metadata": {},
     "output_type": "display_data"
    },
    {
     "data": {
      "text/latex": [
       "$\\displaystyle [58]\\text{   }{{{{opr}}}}_{wf, ntw, y} - {{{{{opr}}}}}_{wf, ho, y} = 0$"
      ],
      "text/plain": [
       "<IPython.core.display.Math object>"
      ]
     },
     "metadata": {},
     "output_type": "display_data"
    },
    {
     "data": {
      "text/latex": [
       "$\\displaystyle [61]\\text{   }{{{{icap}}}}_{power.lii, ntw, y} - {{{{{icap}}}}}_{power.lii, ho, y} = 0$"
      ],
      "text/plain": [
       "<IPython.core.display.Math object>"
      ]
     },
     "metadata": {},
     "output_type": "display_data"
    },
    {
     "data": {
      "text/latex": [
       "$\\displaystyle [62]\\text{   }{{{{inv}}}}_{power.lii, ntw, y} - {{{{{inv}}}}}_{power.lii, ho, y} = 0$"
      ],
      "text/plain": [
       "<IPython.core.display.Math object>"
      ]
     },
     "metadata": {},
     "output_type": "display_data"
    }
   ],
   "source": [
    "m.show()"
   ]
  },
  {
   "cell_type": "code",
   "execution_count": null,
   "id": "8313cba4",
   "metadata": {},
   "outputs": [],
   "source": [
    "m.power.lii.domains[2]"
   ]
  },
  {
   "cell_type": "code",
   "execution_count": null,
   "id": "1d7d7ef1",
   "metadata": {},
   "outputs": [],
   "source": [
    "m.show()"
   ]
  },
  {
   "cell_type": "code",
   "execution_count": null,
   "id": "92c95440",
   "metadata": {},
   "outputs": [],
   "source": []
  },
  {
   "cell_type": "code",
   "execution_count": null,
   "id": "22fad064",
   "metadata": {},
   "outputs": [],
   "source": [
    "m.inventory.bound_spaces[m.lii.stored]"
   ]
  },
  {
   "cell_type": "code",
   "execution_count": null,
   "id": "252328f6",
   "metadata": {},
   "outputs": [],
   "source": [
    "m._.inventory[11].map"
   ]
  },
  {
   "cell_type": "code",
   "execution_count": null,
   "id": "4b52abf8",
   "metadata": {},
   "outputs": [],
   "source": [
    "m.show()"
   ]
  },
  {
   "cell_type": "code",
   "execution_count": null,
   "id": "3086b459",
   "metadata": {},
   "outputs": [],
   "source": [
    "m.dispositions"
   ]
  },
  {
   "cell_type": "code",
   "execution_count": null,
   "id": "2b1c9a35",
   "metadata": {},
   "outputs": [],
   "source": [
    "m.maps"
   ]
  },
  {
   "cell_type": "code",
   "execution_count": null,
   "id": "006d1d87",
   "metadata": {},
   "outputs": [],
   "source": [
    "m.dispositions"
   ]
  },
  {
   "cell_type": "code",
   "execution_count": null,
   "id": "83fa8e09",
   "metadata": {},
   "outputs": [],
   "source": [
    "m.show()"
   ]
  },
  {
   "cell_type": "code",
   "execution_count": null,
   "id": "e92c483a",
   "metadata": {},
   "outputs": [],
   "source": [
    "m.grb"
   ]
  },
  {
   "cell_type": "code",
   "execution_count": null,
   "id": "013192d9",
   "metadata": {},
   "outputs": [],
   "source": [
    "m.solar.show()"
   ]
  },
  {
   "cell_type": "code",
   "execution_count": null,
   "id": "de89149e",
   "metadata": {},
   "outputs": [],
   "source": [
    "m.usd.spend.opt()"
   ]
  },
  {
   "cell_type": "code",
   "execution_count": null,
   "id": "f134bd09",
   "metadata": {},
   "outputs": [],
   "source": [
    "m.sol()"
   ]
  },
  {
   "cell_type": "code",
   "execution_count": null,
   "id": "bb69f58c",
   "metadata": {},
   "outputs": [],
   "source": [
    "m.export.sol()"
   ]
  },
  {
   "cell_type": "code",
   "execution_count": null,
   "id": "f541a9ba",
   "metadata": {},
   "outputs": [],
   "source": [
    "m.spend.sol()"
   ]
  }
 ],
 "metadata": {
  "kernelspec": {
   "display_name": ".venv",
   "language": "python",
   "name": "python3"
  },
  "language_info": {
   "codemirror_mode": {
    "name": "ipython",
    "version": 3
   },
   "file_extension": ".py",
   "mimetype": "text/x-python",
   "name": "python",
   "nbconvert_exporter": "python",
   "pygments_lexer": "ipython3",
   "version": "3.13.7"
  }
 },
 "nbformat": 4,
 "nbformat_minor": 5
}
