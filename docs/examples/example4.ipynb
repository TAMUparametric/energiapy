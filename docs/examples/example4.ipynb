{
 "cells": [
  {
   "cell_type": "markdown",
   "id": "686ba0d6",
   "metadata": {},
   "source": [
    "# Multi Location, Multiple Temporal Scales, Multiple Operations Including Transport, Mixed Integer Linear Programming Example\n",
    "\n",
    "## [Example 4]\n",
    "\n",
    "This is a continuation of 'One Location, Multiple Temporal Scales, Multiple Operations, Mixed Integer Linear Programming with Material and Emission Considerations Example' [Example 3]. \n",
    "\n",
    "We update Example 3 to now allow multiple locations and Transport options between them.\n"
   ]
  },
  {
   "cell_type": "markdown",
   "id": "84484ac2",
   "metadata": {},
   "source": [
    "## From Example 3"
   ]
  },
  {
   "cell_type": "code",
   "execution_count": 1,
   "id": "609aab02",
   "metadata": {},
   "outputs": [],
   "source": [
    "from energia import *\n",
    "\n",
    "m = Model('example4')\n",
    "m.q = Periods()\n",
    "m.y = 4 * m.q\n",
    "m.usd = Currency()"
   ]
  },
  {
   "cell_type": "markdown",
   "id": "541123ad",
   "metadata": {},
   "source": [
    "## Declaring Locations "
   ]
  },
  {
   "cell_type": "code",
   "execution_count": 2,
   "id": "78d7d056",
   "metadata": {},
   "outputs": [],
   "source": [
    "m.ho = Location(label='Houston')\n",
    "m.sd = Location(label='San Diego')\n",
    "m.ny = Location(label='New York')\n",
    "# m.usa = m.ho + m.sd + m.ny"
   ]
  },
  {
   "cell_type": "markdown",
   "id": "433f1df8",
   "metadata": {},
   "source": [
    "### The Network \n",
    "\n",
    "Given that we have not used a nested set of locations, a network is made:"
   ]
  },
  {
   "cell_type": "code",
   "execution_count": 3,
   "id": "d4761c55",
   "metadata": {},
   "outputs": [
    {
     "data": {
      "text/plain": [
       "ntw"
      ]
     },
     "execution_count": 3,
     "metadata": {},
     "output_type": "execute_result"
    }
   ],
   "source": [
    "m.network"
   ]
  },
  {
   "cell_type": "markdown",
   "id": "14277382",
   "metadata": {},
   "source": [
    "This network contains the three locations at (ho, sd, ny)"
   ]
  },
  {
   "cell_type": "code",
   "execution_count": 4,
   "id": "d744aefc",
   "metadata": {},
   "outputs": [
    {
     "data": {
      "text/plain": [
       "(sd, ho, ny)"
      ]
     },
     "execution_count": 4,
     "metadata": {},
     "output_type": "execute_result"
    }
   ],
   "source": [
    "m.network.has"
   ]
  },
  {
   "cell_type": "markdown",
   "id": "b2bda1be",
   "metadata": {},
   "source": [
    "## General Bounds Default to Network"
   ]
  },
  {
   "cell_type": "code",
   "execution_count": 5,
   "id": "9a66530b",
   "metadata": {},
   "outputs": [
    {
     "name": "stdout",
     "output_type": "stream",
     "text": [
      "--- General Resource Balance for solar in (ntw, y): initializing constraint, adding consume(solar, ntw, y)\n",
      "    Completed in 0.0001544952392578125 seconds\n",
      "--- Binding consume in domain (solar, ntw, y)\n",
      "    Completed in 7.390975952148438e-05 seconds\n",
      "--- General Resource Balance for wind in (ntw, y): initializing constraint, adding consume(wind, ntw, y)\n",
      "    Completed in 8.96453857421875e-05 seconds\n",
      "--- Binding consume in domain (wind, ntw, y)\n",
      "    Completed in 6.771087646484375e-05 seconds\n"
     ]
    }
   ],
   "source": [
    "m.declare(Resource, ['power', 'wind', 'solar'])\n",
    "# m.solar.consume == True\n",
    "# m.wind.consume == True\n",
    "m.solar.consume <= 1200\n",
    "m.wind.consume <= 1200\n",
    "# m.consume.show()"
   ]
  },
  {
   "cell_type": "markdown",
   "id": "5abad359",
   "metadata": {},
   "source": [
    "## Location-specific Bounds \n",
    "\n",
    "Spatial specificity can be provided along with temporal fidelity. \n",
    "In the example below, the temporal fidelity is implied since the data has 4 samples.\n",
    "\n",
    "Note that an individual general resource balance is generated for power at each location"
   ]
  },
  {
   "cell_type": "code",
   "execution_count": 6,
   "id": "6f789af5",
   "metadata": {},
   "outputs": [
    {
     "name": "stdout",
     "output_type": "stream",
     "text": [
      "--- General Resource Balance for power in (ho, q): initializing constraint, adding release(power, ho, q)\n",
      "    Completed in 0.0001285076141357422 seconds\n",
      "--- Binding release in domain (power, ho, q)\n",
      "    Completed in 0.0001289844512939453 seconds\n",
      "--- General Resource Balance for power in (sd, q): initializing constraint, adding release(power, sd, q)\n",
      "    Completed in 9.083747863769531e-05 seconds\n",
      "--- Binding release in domain (power, sd, q)\n",
      "    Completed in 0.00012063980102539062 seconds\n",
      "--- General Resource Balance for power in (ny, q): initializing constraint, adding release(power, ny, q)\n",
      "    Completed in 8.440017700195312e-05 seconds\n",
      "--- Binding release in domain (power, ny, q)\n",
      "    Completed in 0.00010967254638671875 seconds\n"
     ]
    },
    {
     "data": {
      "text/latex": [
       "$\\displaystyle [4]\\text{   }-{{{rlse}}}_{power, ho, q} = 0$"
      ],
      "text/plain": [
       "<IPython.core.display.Math object>"
      ]
     },
     "metadata": {},
     "output_type": "display_data"
    },
    {
     "data": {
      "text/latex": [
       "$\\displaystyle [5]\\text{   }-{{{rlse}}}_{power, ho, q} + {φ}_{} \\leq 0$"
      ],
      "text/plain": [
       "<IPython.core.display.Math object>"
      ]
     },
     "metadata": {},
     "output_type": "display_data"
    },
    {
     "data": {
      "text/latex": [
       "$\\displaystyle [6]\\text{   }-{{{{rlse}}}}_{power, sd, q} = 0$"
      ],
      "text/plain": [
       "<IPython.core.display.Math object>"
      ]
     },
     "metadata": {},
     "output_type": "display_data"
    },
    {
     "data": {
      "text/latex": [
       "$\\displaystyle [7]\\text{   }-{{{{rlse}}}}_{power, sd, q} + {φ}_{} \\leq 0$"
      ],
      "text/plain": [
       "<IPython.core.display.Math object>"
      ]
     },
     "metadata": {},
     "output_type": "display_data"
    },
    {
     "data": {
      "text/latex": [
       "$\\displaystyle [8]\\text{   }-{{{{rlse}}}}_{power, ny, q} = 0$"
      ],
      "text/plain": [
       "<IPython.core.display.Math object>"
      ]
     },
     "metadata": {},
     "output_type": "display_data"
    },
    {
     "data": {
      "text/latex": [
       "$\\displaystyle [9]\\text{   }-{{{{rlse}}}}_{power, ny, q} + {φ}_{} \\leq 0$"
      ],
      "text/plain": [
       "<IPython.core.display.Math object>"
      ]
     },
     "metadata": {},
     "output_type": "display_data"
    }
   ],
   "source": [
    "m.power.release(m.ho).prep(30) >= [0.6, 0.7, 0.8, 0.3]\n",
    "m.power.release(m.sd).prep(100) >= [0.4, 0.9, 0.7, 0.6]\n",
    "m.power.release(m.ny).prep(180) >= [0.2, 0.5, 0.7, 0.5]\n",
    "m.release.show()"
   ]
  },
  {
   "cell_type": "markdown",
   "id": "74176947",
   "metadata": {},
   "source": [
    "## For All Locations \n",
    "\n",
    "Generally, in Energia to repeat a constraint over a set, use .forall()\n",
    "\n",
    "If a list is provided, the bounds are iterated over the list [see LB cons]\n",
    "else the bounds are repeated [see UB cons]"
   ]
  },
  {
   "cell_type": "code",
   "execution_count": 7,
   "id": "4954a5eb",
   "metadata": {},
   "outputs": [
    {
     "name": "stdout",
     "output_type": "stream",
     "text": [
      "--- Binding capacity in domain (wf, sd, y)\n",
      "    Completed in 0.00015616416931152344 seconds\n",
      "--- Binding capacity in domain (wf, ho, y)\n",
      "    Completed in 0.00010633468627929688 seconds\n",
      "--- Binding capacity in domain (wf, ny, y)\n",
      "    Completed in 9.655952453613281e-05 seconds\n",
      "--- Binding capacity in domain (wf, sd, y)\n",
      "    Completed in 0.0002410411834716797 seconds\n",
      "--- Binding capacity in domain (wf, ho, y)\n",
      "    Completed in 0.00010013580322265625 seconds\n",
      "--- Binding capacity in domain (wf, ny, y)\n",
      "    Completed in 0.00010704994201660156 seconds\n"
     ]
    },
    {
     "data": {
      "text/latex": [
       "$\\displaystyle [10]\\text{   }10 \\cdot {{{\\breve{{cap}}}}}_{wf, sd, y} - {{{cap}}}_{wf, sd, y} \\leq 0$"
      ],
      "text/plain": [
       "<IPython.core.display.Math object>"
      ]
     },
     "metadata": {},
     "output_type": "display_data"
    },
    {
     "data": {
      "text/latex": [
       "$\\displaystyle [11]\\text{   }7 \\cdot {{{{\\breve{{cap}}}}}}_{wf, ho, y} - {{{{cap}}}}_{wf, ho, y} \\leq 0$"
      ],
      "text/plain": [
       "<IPython.core.display.Math object>"
      ]
     },
     "metadata": {},
     "output_type": "display_data"
    },
    {
     "data": {
      "text/latex": [
       "$\\displaystyle [12]\\text{   }20 \\cdot {{{{\\breve{{cap}}}}}}_{wf, ny, y} - {{{{cap}}}}_{wf, ny, y} \\leq 0$"
      ],
      "text/plain": [
       "<IPython.core.display.Math object>"
      ]
     },
     "metadata": {},
     "output_type": "display_data"
    },
    {
     "data": {
      "text/latex": [
       "$\\displaystyle [13]\\text{   }{{{{cap}}}}_{wf, sd, y} - 100 \\cdot {{{{\\breve{{cap}}}}}}_{wf, sd, y} \\leq 0$"
      ],
      "text/plain": [
       "<IPython.core.display.Math object>"
      ]
     },
     "metadata": {},
     "output_type": "display_data"
    },
    {
     "data": {
      "text/latex": [
       "$\\displaystyle [14]\\text{   }{{{{cap}}}}_{wf, ho, y} - 100 \\cdot {{{{\\breve{{cap}}}}}}_{wf, ho, y} \\leq 0$"
      ],
      "text/plain": [
       "<IPython.core.display.Math object>"
      ]
     },
     "metadata": {},
     "output_type": "display_data"
    },
    {
     "data": {
      "text/latex": [
       "$\\displaystyle [15]\\text{   }{{{{cap}}}}_{wf, ny, y} - 100 \\cdot {{{{\\breve{{cap}}}}}}_{wf, ny, y} \\leq 0$"
      ],
      "text/plain": [
       "<IPython.core.display.Math object>"
      ]
     },
     "metadata": {},
     "output_type": "display_data"
    }
   ],
   "source": [
    "m.wf = Process(m.power)\n",
    "m.wf(m.power) == -1 * m.wind\n",
    "[10, 7, 20] <= m.wf.capacity.x.forall(m.network.has)\n",
    "m.wf.capacity.x.forall(m.network.has) <= 100\n",
    "m.wf.show()"
   ]
  },
  {
   "cell_type": "markdown",
   "id": "e3a4830d",
   "metadata": {},
   "source": [
    "Bounds can also be provided individually"
   ]
  },
  {
   "cell_type": "code",
   "execution_count": 8,
   "id": "209f685c",
   "metadata": {},
   "outputs": [
    {
     "name": "stdout",
     "output_type": "stream",
     "text": [
      "--- Binding operate in domain (wf, ho, q)\n",
      "    Completed in 0.00020241737365722656 seconds\n",
      "--- Binding operate in domain (wf, sd, q)\n",
      "    Completed in 0.00015091896057128906 seconds\n",
      "--- Binding operate in domain (wf, ny, q)\n",
      "    Completed in 0.0001373291015625 seconds\n"
     ]
    },
    {
     "data": {
      "text/latex": [
       "$\\displaystyle [42]\\text{   }{{{opr}}}_{wf, ho, q{0}} - 0.9 \\cdot {{{cap}}}_{wf, ho, y{0}} \\leq 0$"
      ],
      "text/plain": [
       "<IPython.core.display.Math object>"
      ]
     },
     "metadata": {},
     "output_type": "display_data"
    },
    {
     "data": {
      "text/latex": [
       "$\\displaystyle [43]\\text{   }{{{opr}}}_{wf, ho, q{1}} - 0.8 \\cdot {{{cap}}}_{wf, ho, y{0}} \\leq 0$"
      ],
      "text/plain": [
       "<IPython.core.display.Math object>"
      ]
     },
     "metadata": {},
     "output_type": "display_data"
    },
    {
     "data": {
      "text/latex": [
       "$\\displaystyle [44]\\text{   }{{{opr}}}_{wf, ho, q{2}} - 0.5 \\cdot {{{cap}}}_{wf, ho, y{0}} \\leq 0$"
      ],
      "text/plain": [
       "<IPython.core.display.Math object>"
      ]
     },
     "metadata": {},
     "output_type": "display_data"
    },
    {
     "data": {
      "text/latex": [
       "$\\displaystyle [45]\\text{   }{{{opr}}}_{wf, ho, q{3}} - 0.7 \\cdot {{{cap}}}_{wf, ho, y{0}} \\leq 0$"
      ],
      "text/plain": [
       "<IPython.core.display.Math object>"
      ]
     },
     "metadata": {},
     "output_type": "display_data"
    },
    {
     "data": {
      "text/latex": [
       "$\\displaystyle [46]\\text{   }{{{opr}}}_{wf, sd, q{0}} - 0.8 \\cdot {{{cap}}}_{wf, sd, y{0}} \\leq 0$"
      ],
      "text/plain": [
       "<IPython.core.display.Math object>"
      ]
     },
     "metadata": {},
     "output_type": "display_data"
    },
    {
     "data": {
      "text/latex": [
       "$\\displaystyle [47]\\text{   }{{{opr}}}_{wf, sd, q{1}} - 0.7 \\cdot {{{cap}}}_{wf, sd, y{0}} \\leq 0$"
      ],
      "text/plain": [
       "<IPython.core.display.Math object>"
      ]
     },
     "metadata": {},
     "output_type": "display_data"
    },
    {
     "data": {
      "text/latex": [
       "$\\displaystyle [48]\\text{   }{{{opr}}}_{wf, sd, q{2}} - 0.6 \\cdot {{{cap}}}_{wf, sd, y{0}} \\leq 0$"
      ],
      "text/plain": [
       "<IPython.core.display.Math object>"
      ]
     },
     "metadata": {},
     "output_type": "display_data"
    },
    {
     "data": {
      "text/latex": [
       "$\\displaystyle [49]\\text{   }{{{opr}}}_{wf, sd, q{3}} - 0.5 \\cdot {{{cap}}}_{wf, sd, y{0}} \\leq 0$"
      ],
      "text/plain": [
       "<IPython.core.display.Math object>"
      ]
     },
     "metadata": {},
     "output_type": "display_data"
    },
    {
     "data": {
      "text/latex": [
       "$\\displaystyle [50]\\text{   }{{{opr}}}_{wf, ny, q{0}} - 0.6 \\cdot {{{cap}}}_{wf, ny, y{0}} \\leq 0$"
      ],
      "text/plain": [
       "<IPython.core.display.Math object>"
      ]
     },
     "metadata": {},
     "output_type": "display_data"
    },
    {
     "data": {
      "text/latex": [
       "$\\displaystyle [51]\\text{   }{{{opr}}}_{wf, ny, q{1}} - 0.5 \\cdot {{{cap}}}_{wf, ny, y{0}} \\leq 0$"
      ],
      "text/plain": [
       "<IPython.core.display.Math object>"
      ]
     },
     "metadata": {},
     "output_type": "display_data"
    },
    {
     "data": {
      "text/latex": [
       "$\\displaystyle [52]\\text{   }{{{opr}}}_{wf, ny, q{2}} - 0.4 \\cdot {{{cap}}}_{wf, ny, y{0}} \\leq 0$"
      ],
      "text/plain": [
       "<IPython.core.display.Math object>"
      ]
     },
     "metadata": {},
     "output_type": "display_data"
    },
    {
     "data": {
      "text/latex": [
       "$\\displaystyle [53]\\text{   }{{{opr}}}_{wf, ny, q{3}} - 0.3 \\cdot {{{cap}}}_{wf, ny, y{0}} \\leq 0$"
      ],
      "text/plain": [
       "<IPython.core.display.Math object>"
      ]
     },
     "metadata": {},
     "output_type": "display_data"
    }
   ],
   "source": [
    "m.wf.operate.prep(norm=True)(m.ho) <= [0.9, 0.8, 0.5, 0.7]\n",
    "m.wf.operate.prep(norm=True)(m.sd) <= [0.8, 0.7, 0.6, 0.5]\n",
    "m.wf.operate.prep(norm=True)(m.ny) <= [0.6, 0.5, 0.4, 0.3]\n",
    "m.operate.show(True)\n",
    "# m.wf.operate.prep(norm = True).forall(m.network.has) <= [[0.9, 0.8, 0.5, 0.7], [0.8, 0.7, 0.6, 0.5], [0.6, 0.5, 0.4, 0.3]]"
   ]
  },
  {
   "cell_type": "markdown",
   "id": "0889efcf",
   "metadata": {},
   "source": [
    "Calculations can also be provided for all locations as a list or repeated"
   ]
  },
  {
   "cell_type": "code",
   "execution_count": 9,
   "id": "9351a076",
   "metadata": {},
   "outputs": [],
   "source": [
    "m.wf.capacity[m.usd.spend].forall(m.network.has) == [90000, 70000, 60000]\n",
    "m.wf.operate[m.usd.spend] == 49"
   ]
  },
  {
   "cell_type": "code",
   "execution_count": 10,
   "id": "d59c5caf",
   "metadata": {},
   "outputs": [
    {
     "data": {
      "text/markdown": [
       "# Mathematical Program for example4"
      ],
      "text/plain": [
       "<IPython.core.display.Markdown object>"
      ]
     },
     "metadata": {},
     "output_type": "display_data"
    },
    {
     "data": {
      "text/markdown": [
       "<br><br>"
      ],
      "text/plain": [
       "<IPython.core.display.Markdown object>"
      ]
     },
     "metadata": {},
     "output_type": "display_data"
    },
    {
     "data": {
      "text/markdown": [
       "## Index Sets"
      ],
      "text/plain": [
       "<IPython.core.display.Markdown object>"
      ]
     },
     "metadata": {},
     "output_type": "display_data"
    },
    {
     "data": {
      "text/latex": [
       "$\\displaystyle spaces = \\{ ho, sd, ny, sd, ho, ny \\}$"
      ],
      "text/plain": [
       "<IPython.core.display.Math object>"
      ]
     },
     "metadata": {},
     "output_type": "display_data"
    },
    {
     "data": {
      "text/latex": [
       "$\\displaystyle currencies = \\{ usd \\}$"
      ],
      "text/plain": [
       "<IPython.core.display.Math object>"
      ]
     },
     "metadata": {},
     "output_type": "display_data"
    },
    {
     "data": {
      "text/latex": [
       "$\\displaystyle resources = \\{ power, wind, solar \\}$"
      ],
      "text/plain": [
       "<IPython.core.display.Math object>"
      ]
     },
     "metadata": {},
     "output_type": "display_data"
    },
    {
     "data": {
      "text/latex": [
       "$\\displaystyle processes = \\{ wf \\}$"
      ],
      "text/plain": [
       "<IPython.core.display.Math object>"
      ]
     },
     "metadata": {},
     "output_type": "display_data"
    },
    {
     "data": {
      "text/latex": [
       "$\\displaystyle ntw = \\{ sd, ho, ny \\}$"
      ],
      "text/plain": [
       "<IPython.core.display.Math object>"
      ]
     },
     "metadata": {},
     "output_type": "display_data"
    },
    {
     "data": {
      "text/latex": [
       "$\\displaystyle y = \\{ {y_{0}} \\}$"
      ],
      "text/plain": [
       "<IPython.core.display.Math object>"
      ]
     },
     "metadata": {},
     "output_type": "display_data"
    },
    {
     "data": {
      "text/latex": [
       "$\\displaystyle q = \\{ {q_{0}}, {q_{1}}, {q_{2}}, {q_{3}} \\}$"
      ],
      "text/plain": [
       "<IPython.core.display.Math object>"
      ]
     },
     "metadata": {},
     "output_type": "display_data"
    },
    {
     "data": {
      "text/markdown": [
       "<br><br>"
      ],
      "text/plain": [
       "<IPython.core.display.Markdown object>"
      ]
     },
     "metadata": {},
     "output_type": "display_data"
    },
    {
     "data": {
      "text/markdown": [
       "## s.t."
      ],
      "text/plain": [
       "<IPython.core.display.Markdown object>"
      ]
     },
     "metadata": {},
     "output_type": "display_data"
    },
    {
     "data": {
      "text/markdown": [
       "### Bound Constraint Sets"
      ],
      "text/plain": [
       "<IPython.core.display.Markdown object>"
      ]
     },
     "metadata": {},
     "output_type": "display_data"
    },
    {
     "data": {
      "text/latex": [
       "$\\displaystyle [1]\\text{   }{{{cons}}}_{solar, ntw, y} - 1200 \\leq 0$"
      ],
      "text/plain": [
       "<IPython.core.display.Math object>"
      ]
     },
     "metadata": {},
     "output_type": "display_data"
    },
    {
     "data": {
      "text/latex": [
       "$\\displaystyle [3]\\text{   }{{{{cons}}}}_{wind, ntw, y} - 1200 \\leq 0$"
      ],
      "text/plain": [
       "<IPython.core.display.Math object>"
      ]
     },
     "metadata": {},
     "output_type": "display_data"
    },
    {
     "data": {
      "text/latex": [
       "$\\displaystyle [5]\\text{   }-{{{rlse}}}_{power, ho, q} + {φ}_{} \\leq 0$"
      ],
      "text/plain": [
       "<IPython.core.display.Math object>"
      ]
     },
     "metadata": {},
     "output_type": "display_data"
    },
    {
     "data": {
      "text/latex": [
       "$\\displaystyle [7]\\text{   }-{{{{rlse}}}}_{power, sd, q} + {φ}_{} \\leq 0$"
      ],
      "text/plain": [
       "<IPython.core.display.Math object>"
      ]
     },
     "metadata": {},
     "output_type": "display_data"
    },
    {
     "data": {
      "text/latex": [
       "$\\displaystyle [9]\\text{   }-{{{{rlse}}}}_{power, ny, q} + {φ}_{} \\leq 0$"
      ],
      "text/plain": [
       "<IPython.core.display.Math object>"
      ]
     },
     "metadata": {},
     "output_type": "display_data"
    },
    {
     "data": {
      "text/latex": [
       "$\\displaystyle [10]\\text{   }10 \\cdot {{{\\breve{{cap}}}}}_{wf, sd, y} - {{{cap}}}_{wf, sd, y} \\leq 0$"
      ],
      "text/plain": [
       "<IPython.core.display.Math object>"
      ]
     },
     "metadata": {},
     "output_type": "display_data"
    },
    {
     "data": {
      "text/latex": [
       "$\\displaystyle [11]\\text{   }7 \\cdot {{{{\\breve{{cap}}}}}}_{wf, ho, y} - {{{{cap}}}}_{wf, ho, y} \\leq 0$"
      ],
      "text/plain": [
       "<IPython.core.display.Math object>"
      ]
     },
     "metadata": {},
     "output_type": "display_data"
    },
    {
     "data": {
      "text/latex": [
       "$\\displaystyle [12]\\text{   }20 \\cdot {{{{\\breve{{cap}}}}}}_{wf, ny, y} - {{{{cap}}}}_{wf, ny, y} \\leq 0$"
      ],
      "text/plain": [
       "<IPython.core.display.Math object>"
      ]
     },
     "metadata": {},
     "output_type": "display_data"
    },
    {
     "data": {
      "text/latex": [
       "$\\displaystyle [13]\\text{   }{{{{cap}}}}_{wf, sd, y} - 100 \\cdot {{{{\\breve{{cap}}}}}}_{wf, sd, y} \\leq 0$"
      ],
      "text/plain": [
       "<IPython.core.display.Math object>"
      ]
     },
     "metadata": {},
     "output_type": "display_data"
    },
    {
     "data": {
      "text/latex": [
       "$\\displaystyle [14]\\text{   }{{{{cap}}}}_{wf, ho, y} - 100 \\cdot {{{{\\breve{{cap}}}}}}_{wf, ho, y} \\leq 0$"
      ],
      "text/plain": [
       "<IPython.core.display.Math object>"
      ]
     },
     "metadata": {},
     "output_type": "display_data"
    },
    {
     "data": {
      "text/latex": [
       "$\\displaystyle [15]\\text{   }{{{{cap}}}}_{wf, ny, y} - 100 \\cdot {{{{\\breve{{cap}}}}}}_{wf, ny, y} \\leq 0$"
      ],
      "text/plain": [
       "<IPython.core.display.Math object>"
      ]
     },
     "metadata": {},
     "output_type": "display_data"
    },
    {
     "data": {
      "text/latex": [
       "$\\displaystyle [16]\\text{   }{{{opr}}}_{wf, ho, q} - {φ}_{} \\cdot {{{{cap}}}}_{wf, ho, y} \\leq 0$"
      ],
      "text/plain": [
       "<IPython.core.display.Math object>"
      ]
     },
     "metadata": {},
     "output_type": "display_data"
    },
    {
     "data": {
      "text/latex": [
       "$\\displaystyle [17]\\text{   }{{{{opr}}}}_{wf, sd, q} - {φ}_{} \\cdot {{{{cap}}}}_{wf, sd, y} \\leq 0$"
      ],
      "text/plain": [
       "<IPython.core.display.Math object>"
      ]
     },
     "metadata": {},
     "output_type": "display_data"
    },
    {
     "data": {
      "text/latex": [
       "$\\displaystyle [18]\\text{   }{{{{opr}}}}_{wf, ny, q} - {φ}_{} \\cdot {{{{cap}}}}_{wf, ny, y} \\leq 0$"
      ],
      "text/plain": [
       "<IPython.core.display.Math object>"
      ]
     },
     "metadata": {},
     "output_type": "display_data"
    },
    {
     "data": {
      "text/markdown": [
       "### Calculation Constraint Sets"
      ],
      "text/plain": [
       "<IPython.core.display.Markdown object>"
      ]
     },
     "metadata": {},
     "output_type": "display_data"
    },
    {
     "data": {
      "text/latex": [
       "$\\displaystyle [19]\\text{   }{{spend}}_{usd, sd, y, {capacity}, wf} - 90000 \\cdot {{{{cap}}}}_{wf, sd, y} = 0$"
      ],
      "text/plain": [
       "<IPython.core.display.Math object>"
      ]
     },
     "metadata": {},
     "output_type": "display_data"
    },
    {
     "data": {
      "text/latex": [
       "$\\displaystyle [20]\\text{   }{{{spend}}}_{usd, ho, y, {capacity}, wf} - 70000 \\cdot {{{{cap}}}}_{wf, ho, y} = 0$"
      ],
      "text/plain": [
       "<IPython.core.display.Math object>"
      ]
     },
     "metadata": {},
     "output_type": "display_data"
    },
    {
     "data": {
      "text/latex": [
       "$\\displaystyle [21]\\text{   }{{{spend}}}_{usd, ny, y, {capacity}, wf} - 60000 \\cdot {{{{cap}}}}_{wf, ny, y} = 0$"
      ],
      "text/plain": [
       "<IPython.core.display.Math object>"
      ]
     },
     "metadata": {},
     "output_type": "display_data"
    },
    {
     "data": {
      "text/latex": [
       "$\\displaystyle [22]\\text{   }{{{spend}}}_{usd, ntw, y, {operate}, wf} - 49 \\cdot {{{{opr}}}}_{wf, ntw, y} = 0$"
      ],
      "text/plain": [
       "<IPython.core.display.Math object>"
      ]
     },
     "metadata": {},
     "output_type": "display_data"
    },
    {
     "data": {
      "text/markdown": [
       "### General Resource Balance Constraint Sets"
      ],
      "text/plain": [
       "<IPython.core.display.Markdown object>"
      ]
     },
     "metadata": {},
     "output_type": "display_data"
    },
    {
     "data": {
      "text/latex": [
       "$\\displaystyle [0]\\text{   }{{{cons}}}_{solar, ntw, y} = 0$"
      ],
      "text/plain": [
       "<IPython.core.display.Math object>"
      ]
     },
     "metadata": {},
     "output_type": "display_data"
    },
    {
     "data": {
      "text/latex": [
       "$\\displaystyle [2]\\text{   }{{{{cons}}}}_{wind, ntw, y} = 0$"
      ],
      "text/plain": [
       "<IPython.core.display.Math object>"
      ]
     },
     "metadata": {},
     "output_type": "display_data"
    },
    {
     "data": {
      "text/latex": [
       "$\\displaystyle [4]\\text{   }-{{{rlse}}}_{power, ho, q} = 0$"
      ],
      "text/plain": [
       "<IPython.core.display.Math object>"
      ]
     },
     "metadata": {},
     "output_type": "display_data"
    },
    {
     "data": {
      "text/latex": [
       "$\\displaystyle [6]\\text{   }-{{{{rlse}}}}_{power, sd, q} = 0$"
      ],
      "text/plain": [
       "<IPython.core.display.Math object>"
      ]
     },
     "metadata": {},
     "output_type": "display_data"
    },
    {
     "data": {
      "text/latex": [
       "$\\displaystyle [8]\\text{   }-{{{{rlse}}}}_{power, ny, q} = 0$"
      ],
      "text/plain": [
       "<IPython.core.display.Math object>"
      ]
     },
     "metadata": {},
     "output_type": "display_data"
    }
   ],
   "source": [
    "m.show()"
   ]
  },
  {
   "cell_type": "code",
   "execution_count": 11,
   "id": "e1895c3d",
   "metadata": {},
   "outputs": [
    {
     "name": "stdout",
     "output_type": "stream",
     "text": [
      "--- Creating map to (usd, ntw, y). Mapping spend: from (usd, ho, y, capacity, wf) to (usd, ntw, y)\n",
      "    Completed in 0.0001232624053955078 seconds\n",
      "--- Mapping spend: from (usd, sd, y, capacity, wf) to (usd, ntw, y)\n",
      "    Completed in 7.176399230957031e-05 seconds\n",
      "--- Mapping spend: from (usd, ny, y, capacity, wf) to (usd, ntw, y)\n",
      "    Completed in 6.29425048828125e-05 seconds\n",
      "--- Mapping spend: from (usd, ntw, y, operate, wf) to (usd, ntw, y)\n",
      "    Completed in 6.151199340820312e-05 seconds\n"
     ]
    }
   ],
   "source": [
    "m.usd.spend == True"
   ]
  },
  {
   "cell_type": "code",
   "execution_count": 12,
   "id": "1a61e689",
   "metadata": {},
   "outputs": [
    {
     "data": {
      "text/latex": [
       "$\\displaystyle [19]\\text{   }{{spend}}_{usd, sd, y, {capacity}, wf} - 90000 \\cdot {{{{cap}}}}_{wf, sd, y} = 0$"
      ],
      "text/plain": [
       "<IPython.core.display.Math object>"
      ]
     },
     "metadata": {},
     "output_type": "display_data"
    },
    {
     "data": {
      "text/latex": [
       "$\\displaystyle [20]\\text{   }{{{spend}}}_{usd, ho, y, {capacity}, wf} - 70000 \\cdot {{{{cap}}}}_{wf, ho, y} = 0$"
      ],
      "text/plain": [
       "<IPython.core.display.Math object>"
      ]
     },
     "metadata": {},
     "output_type": "display_data"
    },
    {
     "data": {
      "text/latex": [
       "$\\displaystyle [21]\\text{   }{{{spend}}}_{usd, ny, y, {capacity}, wf} - 60000 \\cdot {{{{cap}}}}_{wf, ny, y} = 0$"
      ],
      "text/plain": [
       "<IPython.core.display.Math object>"
      ]
     },
     "metadata": {},
     "output_type": "display_data"
    },
    {
     "data": {
      "text/latex": [
       "$\\displaystyle [22]\\text{   }{{{spend}}}_{usd, ntw, y, {operate}, wf} - 49 \\cdot {{{{opr}}}}_{wf, ntw, y} = 0$"
      ],
      "text/plain": [
       "<IPython.core.display.Math object>"
      ]
     },
     "metadata": {},
     "output_type": "display_data"
    },
    {
     "data": {
      "text/latex": [
       "$\\displaystyle [23]\\text{   }{{{spend}}}_{usd, ntw, y} - {{{{spend}}}}_{usd, ho, y, {capacity}, wf} - {{{{spend}}}}_{usd, sd, y, {capacity}, wf} - {{{{spend}}}}_{usd, ny, y, {capacity}, wf} - {{{{spend}}}}_{usd, ntw, y, {operate}, wf} = 0$"
      ],
      "text/plain": [
       "<IPython.core.display.Math object>"
      ]
     },
     "metadata": {},
     "output_type": "display_data"
    }
   ],
   "source": [
    "m.spend.show()"
   ]
  },
  {
   "cell_type": "code",
   "execution_count": 13,
   "id": "9d6bdf29",
   "metadata": {},
   "outputs": [
    {
     "name": "stdout",
     "output_type": "stream",
     "text": [
      "--- Creating map to (wf, ntw, y). Mapping capacity: from (wf, ho, y) to (wf, ntw, y)\n",
      "    Completed in 0.00012302398681640625 seconds\n",
      "--- Mapping capacity: from (wf, sd, y) to (wf, ntw, y)\n",
      "    Completed in 6.365776062011719e-05 seconds\n",
      "--- Mapping capacity: from (wf, ny, y) to (wf, ntw, y)\n",
      "    Completed in 7.295608520507812e-05 seconds\n"
     ]
    }
   ],
   "source": [
    "m.capacity(m.wf) == True"
   ]
  },
  {
   "cell_type": "code",
   "execution_count": 14,
   "id": "9634faae",
   "metadata": {},
   "outputs": [
    {
     "data": {
      "text/latex": [
       "$\\displaystyle [19]\\text{   }{{spend}}_{usd, sd, y, {capacity}, wf} - 90000 \\cdot {{{{cap}}}}_{wf, sd, y} = 0$"
      ],
      "text/plain": [
       "<IPython.core.display.Math object>"
      ]
     },
     "metadata": {},
     "output_type": "display_data"
    },
    {
     "data": {
      "text/latex": [
       "$\\displaystyle [20]\\text{   }{{{spend}}}_{usd, ho, y, {capacity}, wf} - 70000 \\cdot {{{{cap}}}}_{wf, ho, y} = 0$"
      ],
      "text/plain": [
       "<IPython.core.display.Math object>"
      ]
     },
     "metadata": {},
     "output_type": "display_data"
    },
    {
     "data": {
      "text/latex": [
       "$\\displaystyle [21]\\text{   }{{{spend}}}_{usd, ny, y, {capacity}, wf} - 60000 \\cdot {{{{cap}}}}_{wf, ny, y} = 0$"
      ],
      "text/plain": [
       "<IPython.core.display.Math object>"
      ]
     },
     "metadata": {},
     "output_type": "display_data"
    },
    {
     "data": {
      "text/latex": [
       "$\\displaystyle [22]\\text{   }{{{spend}}}_{usd, ntw, y, {operate}, wf} - 49 \\cdot {{{{opr}}}}_{wf, ntw, y} = 0$"
      ],
      "text/plain": [
       "<IPython.core.display.Math object>"
      ]
     },
     "metadata": {},
     "output_type": "display_data"
    },
    {
     "data": {
      "text/latex": [
       "$\\displaystyle [23]\\text{   }{{{spend}}}_{usd, ntw, y} - {{{{spend}}}}_{usd, ho, y, {capacity}, wf} - {{{{spend}}}}_{usd, sd, y, {capacity}, wf} - {{{{spend}}}}_{usd, ny, y, {capacity}, wf} - {{{{spend}}}}_{usd, ntw, y, {operate}, wf} = 0$"
      ],
      "text/plain": [
       "<IPython.core.display.Math object>"
      ]
     },
     "metadata": {},
     "output_type": "display_data"
    }
   ],
   "source": [
    "m.spend.show()"
   ]
  },
  {
   "cell_type": "code",
   "execution_count": 15,
   "id": "46285137",
   "metadata": {},
   "outputs": [
    {
     "data": {
      "text/markdown": [
       "# Mathematical Program for example4"
      ],
      "text/plain": [
       "<IPython.core.display.Markdown object>"
      ]
     },
     "metadata": {},
     "output_type": "display_data"
    },
    {
     "data": {
      "text/markdown": [
       "<br><br>"
      ],
      "text/plain": [
       "<IPython.core.display.Markdown object>"
      ]
     },
     "metadata": {},
     "output_type": "display_data"
    },
    {
     "data": {
      "text/markdown": [
       "## Index Sets"
      ],
      "text/plain": [
       "<IPython.core.display.Markdown object>"
      ]
     },
     "metadata": {},
     "output_type": "display_data"
    },
    {
     "data": {
      "text/latex": [
       "$\\displaystyle spaces = \\{ ho, sd, ny, sd, ho, ny \\}$"
      ],
      "text/plain": [
       "<IPython.core.display.Math object>"
      ]
     },
     "metadata": {},
     "output_type": "display_data"
    },
    {
     "data": {
      "text/latex": [
       "$\\displaystyle currencies = \\{ usd \\}$"
      ],
      "text/plain": [
       "<IPython.core.display.Math object>"
      ]
     },
     "metadata": {},
     "output_type": "display_data"
    },
    {
     "data": {
      "text/latex": [
       "$\\displaystyle resources = \\{ power, wind, solar \\}$"
      ],
      "text/plain": [
       "<IPython.core.display.Math object>"
      ]
     },
     "metadata": {},
     "output_type": "display_data"
    },
    {
     "data": {
      "text/latex": [
       "$\\displaystyle processes = \\{ wf \\}$"
      ],
      "text/plain": [
       "<IPython.core.display.Math object>"
      ]
     },
     "metadata": {},
     "output_type": "display_data"
    },
    {
     "data": {
      "text/latex": [
       "$\\displaystyle ntw = \\{ sd, ho, ny \\}$"
      ],
      "text/plain": [
       "<IPython.core.display.Math object>"
      ]
     },
     "metadata": {},
     "output_type": "display_data"
    },
    {
     "data": {
      "text/latex": [
       "$\\displaystyle y = \\{ {y_{0}} \\}$"
      ],
      "text/plain": [
       "<IPython.core.display.Math object>"
      ]
     },
     "metadata": {},
     "output_type": "display_data"
    },
    {
     "data": {
      "text/latex": [
       "$\\displaystyle q = \\{ {q_{0}}, {q_{1}}, {q_{2}}, {q_{3}} \\}$"
      ],
      "text/plain": [
       "<IPython.core.display.Math object>"
      ]
     },
     "metadata": {},
     "output_type": "display_data"
    },
    {
     "data": {
      "text/markdown": [
       "<br><br>"
      ],
      "text/plain": [
       "<IPython.core.display.Markdown object>"
      ]
     },
     "metadata": {},
     "output_type": "display_data"
    },
    {
     "data": {
      "text/markdown": [
       "## s.t."
      ],
      "text/plain": [
       "<IPython.core.display.Markdown object>"
      ]
     },
     "metadata": {},
     "output_type": "display_data"
    },
    {
     "data": {
      "text/markdown": [
       "### Bound Constraint Sets"
      ],
      "text/plain": [
       "<IPython.core.display.Markdown object>"
      ]
     },
     "metadata": {},
     "output_type": "display_data"
    },
    {
     "data": {
      "text/latex": [
       "$\\displaystyle [1]\\text{   }{{{cons}}}_{solar, ntw, y} - 1200 \\leq 0$"
      ],
      "text/plain": [
       "<IPython.core.display.Math object>"
      ]
     },
     "metadata": {},
     "output_type": "display_data"
    },
    {
     "data": {
      "text/latex": [
       "$\\displaystyle [3]\\text{   }{{{{cons}}}}_{wind, ntw, y} - 1200 \\leq 0$"
      ],
      "text/plain": [
       "<IPython.core.display.Math object>"
      ]
     },
     "metadata": {},
     "output_type": "display_data"
    },
    {
     "data": {
      "text/latex": [
       "$\\displaystyle [5]\\text{   }-{{{rlse}}}_{power, ho, q} + {φ}_{} \\leq 0$"
      ],
      "text/plain": [
       "<IPython.core.display.Math object>"
      ]
     },
     "metadata": {},
     "output_type": "display_data"
    },
    {
     "data": {
      "text/latex": [
       "$\\displaystyle [7]\\text{   }-{{{{rlse}}}}_{power, sd, q} + {φ}_{} \\leq 0$"
      ],
      "text/plain": [
       "<IPython.core.display.Math object>"
      ]
     },
     "metadata": {},
     "output_type": "display_data"
    },
    {
     "data": {
      "text/latex": [
       "$\\displaystyle [9]\\text{   }-{{{{rlse}}}}_{power, ny, q} + {φ}_{} \\leq 0$"
      ],
      "text/plain": [
       "<IPython.core.display.Math object>"
      ]
     },
     "metadata": {},
     "output_type": "display_data"
    },
    {
     "data": {
      "text/latex": [
       "$\\displaystyle [10]\\text{   }10 \\cdot {{{\\breve{{cap}}}}}_{wf, sd, y} - {{{cap}}}_{wf, sd, y} \\leq 0$"
      ],
      "text/plain": [
       "<IPython.core.display.Math object>"
      ]
     },
     "metadata": {},
     "output_type": "display_data"
    },
    {
     "data": {
      "text/latex": [
       "$\\displaystyle [11]\\text{   }7 \\cdot {{{{\\breve{{cap}}}}}}_{wf, ho, y} - {{{{cap}}}}_{wf, ho, y} \\leq 0$"
      ],
      "text/plain": [
       "<IPython.core.display.Math object>"
      ]
     },
     "metadata": {},
     "output_type": "display_data"
    },
    {
     "data": {
      "text/latex": [
       "$\\displaystyle [12]\\text{   }20 \\cdot {{{{\\breve{{cap}}}}}}_{wf, ny, y} - {{{{cap}}}}_{wf, ny, y} \\leq 0$"
      ],
      "text/plain": [
       "<IPython.core.display.Math object>"
      ]
     },
     "metadata": {},
     "output_type": "display_data"
    },
    {
     "data": {
      "text/latex": [
       "$\\displaystyle [13]\\text{   }{{{{cap}}}}_{wf, sd, y} - 100 \\cdot {{{{\\breve{{cap}}}}}}_{wf, sd, y} \\leq 0$"
      ],
      "text/plain": [
       "<IPython.core.display.Math object>"
      ]
     },
     "metadata": {},
     "output_type": "display_data"
    },
    {
     "data": {
      "text/latex": [
       "$\\displaystyle [14]\\text{   }{{{{cap}}}}_{wf, ho, y} - 100 \\cdot {{{{\\breve{{cap}}}}}}_{wf, ho, y} \\leq 0$"
      ],
      "text/plain": [
       "<IPython.core.display.Math object>"
      ]
     },
     "metadata": {},
     "output_type": "display_data"
    },
    {
     "data": {
      "text/latex": [
       "$\\displaystyle [15]\\text{   }{{{{cap}}}}_{wf, ny, y} - 100 \\cdot {{{{\\breve{{cap}}}}}}_{wf, ny, y} \\leq 0$"
      ],
      "text/plain": [
       "<IPython.core.display.Math object>"
      ]
     },
     "metadata": {},
     "output_type": "display_data"
    },
    {
     "data": {
      "text/latex": [
       "$\\displaystyle [16]\\text{   }{{{opr}}}_{wf, ho, q} - {φ}_{} \\cdot {{{{cap}}}}_{wf, ho, y} \\leq 0$"
      ],
      "text/plain": [
       "<IPython.core.display.Math object>"
      ]
     },
     "metadata": {},
     "output_type": "display_data"
    },
    {
     "data": {
      "text/latex": [
       "$\\displaystyle [17]\\text{   }{{{{opr}}}}_{wf, sd, q} - {φ}_{} \\cdot {{{{cap}}}}_{wf, sd, y} \\leq 0$"
      ],
      "text/plain": [
       "<IPython.core.display.Math object>"
      ]
     },
     "metadata": {},
     "output_type": "display_data"
    },
    {
     "data": {
      "text/latex": [
       "$\\displaystyle [18]\\text{   }{{{{opr}}}}_{wf, ny, q} - {φ}_{} \\cdot {{{{cap}}}}_{wf, ny, y} \\leq 0$"
      ],
      "text/plain": [
       "<IPython.core.display.Math object>"
      ]
     },
     "metadata": {},
     "output_type": "display_data"
    },
    {
     "data": {
      "text/markdown": [
       "### Calculation Constraint Sets"
      ],
      "text/plain": [
       "<IPython.core.display.Markdown object>"
      ]
     },
     "metadata": {},
     "output_type": "display_data"
    },
    {
     "data": {
      "text/latex": [
       "$\\displaystyle [19]\\text{   }{{spend}}_{usd, sd, y, {capacity}, wf} - 90000 \\cdot {{{{cap}}}}_{wf, sd, y} = 0$"
      ],
      "text/plain": [
       "<IPython.core.display.Math object>"
      ]
     },
     "metadata": {},
     "output_type": "display_data"
    },
    {
     "data": {
      "text/latex": [
       "$\\displaystyle [20]\\text{   }{{{spend}}}_{usd, ho, y, {capacity}, wf} - 70000 \\cdot {{{{cap}}}}_{wf, ho, y} = 0$"
      ],
      "text/plain": [
       "<IPython.core.display.Math object>"
      ]
     },
     "metadata": {},
     "output_type": "display_data"
    },
    {
     "data": {
      "text/latex": [
       "$\\displaystyle [21]\\text{   }{{{spend}}}_{usd, ny, y, {capacity}, wf} - 60000 \\cdot {{{{cap}}}}_{wf, ny, y} = 0$"
      ],
      "text/plain": [
       "<IPython.core.display.Math object>"
      ]
     },
     "metadata": {},
     "output_type": "display_data"
    },
    {
     "data": {
      "text/latex": [
       "$\\displaystyle [22]\\text{   }{{{spend}}}_{usd, ntw, y, {operate}, wf} - 49 \\cdot {{{{opr}}}}_{wf, ntw, y} = 0$"
      ],
      "text/plain": [
       "<IPython.core.display.Math object>"
      ]
     },
     "metadata": {},
     "output_type": "display_data"
    },
    {
     "data": {
      "text/markdown": [
       "### General Resource Balance Constraint Sets"
      ],
      "text/plain": [
       "<IPython.core.display.Markdown object>"
      ]
     },
     "metadata": {},
     "output_type": "display_data"
    },
    {
     "data": {
      "text/latex": [
       "$\\displaystyle [0]\\text{   }{{{cons}}}_{solar, ntw, y} = 0$"
      ],
      "text/plain": [
       "<IPython.core.display.Math object>"
      ]
     },
     "metadata": {},
     "output_type": "display_data"
    },
    {
     "data": {
      "text/latex": [
       "$\\displaystyle [2]\\text{   }{{{{cons}}}}_{wind, ntw, y} = 0$"
      ],
      "text/plain": [
       "<IPython.core.display.Math object>"
      ]
     },
     "metadata": {},
     "output_type": "display_data"
    },
    {
     "data": {
      "text/latex": [
       "$\\displaystyle [4]\\text{   }-{{{rlse}}}_{power, ho, q} = 0$"
      ],
      "text/plain": [
       "<IPython.core.display.Math object>"
      ]
     },
     "metadata": {},
     "output_type": "display_data"
    },
    {
     "data": {
      "text/latex": [
       "$\\displaystyle [6]\\text{   }-{{{{rlse}}}}_{power, sd, q} = 0$"
      ],
      "text/plain": [
       "<IPython.core.display.Math object>"
      ]
     },
     "metadata": {},
     "output_type": "display_data"
    },
    {
     "data": {
      "text/latex": [
       "$\\displaystyle [8]\\text{   }-{{{{rlse}}}}_{power, ny, q} = 0$"
      ],
      "text/plain": [
       "<IPython.core.display.Math object>"
      ]
     },
     "metadata": {},
     "output_type": "display_data"
    },
    {
     "data": {
      "text/markdown": [
       "### Mapping Constraint Sets"
      ],
      "text/plain": [
       "<IPython.core.display.Markdown object>"
      ]
     },
     "metadata": {},
     "output_type": "display_data"
    },
    {
     "data": {
      "text/latex": [
       "$\\displaystyle [23]\\text{   }{{{spend}}}_{usd, ntw, y} - {{{{spend}}}}_{usd, ho, y, {capacity}, wf} - {{{{spend}}}}_{usd, sd, y, {capacity}, wf} - {{{{spend}}}}_{usd, ny, y, {capacity}, wf} - {{{{spend}}}}_{usd, ntw, y, {operate}, wf} = 0$"
      ],
      "text/plain": [
       "<IPython.core.display.Math object>"
      ]
     },
     "metadata": {},
     "output_type": "display_data"
    },
    {
     "data": {
      "text/latex": [
       "$\\displaystyle [24]\\text{   }{{{{cap}}}}_{wf, ntw, y} - {{{{{cap}}}}}_{wf, ho, y} - {{{{{cap}}}}}_{wf, sd, y} - {{{{{cap}}}}}_{wf, ny, y} = 0$"
      ],
      "text/plain": [
       "<IPython.core.display.Math object>"
      ]
     },
     "metadata": {},
     "output_type": "display_data"
    }
   ],
   "source": [
    "m.show()"
   ]
  },
  {
   "cell_type": "markdown",
   "id": "99b036bb",
   "metadata": {},
   "source": [
    "In the case where location specific data is not provided, the parameter is assumed tuo apply to the network"
   ]
  },
  {
   "cell_type": "code",
   "execution_count": 16,
   "id": "ae7e2a28",
   "metadata": {},
   "outputs": [],
   "source": [
    "m.pv = Process()\n",
    "m.pv(m.power) == -1 * m.solar"
   ]
  },
  {
   "cell_type": "code",
   "execution_count": 17,
   "id": "9296564f",
   "metadata": {},
   "outputs": [
    {
     "name": "stdout",
     "output_type": "stream",
     "text": [
      "--- Binding capacity in domain (pv, ntw, y)\n",
      "    Completed in 0.00022172927856445312 seconds\n",
      "--- Binding capacity in domain (pv, ntw, y)\n",
      "    Completed in 0.00014257431030273438 seconds\n",
      "--- Binding operate in domain (pv, sd, q)\n",
      "--- Aspect (capacity) not defined at sd, a variable will be created assuming y as the temporal index\n",
      "--- Creating map to (pv, ntw, y). Mapping capacity: from (pv, sd, y) to (pv, ntw, y)\n",
      "    Completed in 9.393692016601562e-05 seconds\n",
      "    Completed in 0.0004241466522216797 seconds\n",
      "--- Binding operate in domain (pv, ho, q)\n",
      "--- Aspect (capacity) not defined at ho, a variable will be created assuming y as the temporal index\n",
      "--- Mapping capacity: from (pv, ho, y) to (pv, ntw, y)\n",
      "    Completed in 7.43865966796875e-05 seconds\n",
      "    Completed in 0.0003345012664794922 seconds\n",
      "--- Binding operate in domain (pv, ny, q)\n",
      "--- Aspect (capacity) not defined at ny, a variable will be created assuming y as the temporal index\n",
      "--- Mapping capacity: from (pv, ny, y) to (pv, ntw, y)\n",
      "    Completed in 6.771087646484375e-05 seconds\n",
      "    Completed in 0.0003409385681152344 seconds\n",
      "--- Binding invcapacity in domain (power.lii, ntw, y)\n",
      "    Completed in 0.00013828277587890625 seconds\n",
      "--- Binding invcapacity in domain (power.lii, ntw, y)\n",
      "    Completed in 0.0001277923583984375 seconds\n",
      "--- General Resource Balance for power.lii in (ntw, y): initializing constraint, adding inventory(power.lii, ntw, y)\n",
      "--- Binding capacity in domain (lii.charge, ntw, y)\n",
      "    Completed in 5.984306335449219e-05 seconds\n",
      "--- Binding operate in domain (lii.charge, ntw, y)\n",
      "    Completed in 9.083747863769531e-05 seconds\n",
      "--- Binding capacity in domain (lii.discharge, ntw, y)\n",
      "    Completed in 5.555152893066406e-05 seconds\n",
      "--- Binding operate in domain (lii.discharge, ntw, y)\n",
      "    Completed in 0.00012111663818359375 seconds\n",
      "--- General Resource Balance for cement in (ntw, y): initializing constraint, adding consume(cement, ntw, y)\n",
      "    Completed in 9.72747802734375e-05 seconds\n",
      "--- Binding consume in domain (cement, ntw, y)\n",
      "    Completed in 5.4836273193359375e-05 seconds\n",
      "--- General Resource Balance for cement in (ntw, y): adding use(cement, ntw, y, capacity, wf)\n",
      "    Completed in 8.654594421386719e-05 seconds\n",
      "--- General Resource Balance for cement in (ntw, y): adding use(cement, ntw, y, capacity, pv)\n",
      "    Completed in 8.7738037109375e-05 seconds\n",
      "--- General Resource Balance for cement in (ntw, y): adding use(cement, ntw, y, invcapacity, power.lii)\n",
      "    Completed in 0.0001220703125 seconds\n"
     ]
    }
   ],
   "source": [
    "m.pv.capacity.x <= 100\n",
    "m.pv.capacity.x >= 10\n",
    "m.pv.operate.prep(norm=True).forall(m.network.has) <= [\n",
    "    [0.6, 0.8, 0.9, 0.7],\n",
    "    [0.5, 0.7, 0.6, 0.5],\n",
    "    [0.4, 0.6, 0.5, 0.4],\n",
    "]\n",
    "m.pv.capacity[m.usd.spend] == 567000 + 872046\n",
    "m.pv.operate[m.usd.spend] == 90000\n",
    "\n",
    "m.lii = Storage()\n",
    "m.lii(m.power) == 0.9\n",
    "m.lii.capacity.x <= 100\n",
    "m.lii.capacity.x >= 10\n",
    "m.lii.capacity[m.usd.spend] == 1302182 + 41432\n",
    "m.lii.inventory[m.usd.spend] == 2000\n",
    "m.lii.charge.capacity <= 100\n",
    "m.lii.charge.operate <= 1\n",
    "m.lii.discharge.capacity <= 100\n",
    "m.lii.discharge.operate <= 1\n",
    "\n",
    "m.gwp = Environ()\n",
    "\n",
    "m.wf.capacity[m.gwp.emit] == 1000\n",
    "m.pv.capacity[m.gwp.emit] == 2000\n",
    "m.lii.capacity[m.gwp.emit] == 3000\n",
    "\n",
    "m.cement = Material()\n",
    "m.cement.consume <= 1000000\n",
    "m.cement.consume[m.usd.spend] == 17\n",
    "m.cement.consume[m.gwp.emit] == 0.9\n",
    "\n",
    "m.wf.capacity[m.cement.use] == 400\n",
    "m.pv.capacity[m.cement.use] == 560\n",
    "m.lii.capacity[m.cement.use] == 300"
   ]
  },
  {
   "cell_type": "markdown",
   "id": "b3f2f7a5",
   "metadata": {},
   "source": [
    "## Linkages "
   ]
  },
  {
   "cell_type": "markdown",
   "id": "0d06a78d",
   "metadata": {},
   "source": [
    "A grid of valid linkages can be created from sources to sinks.\n",
    "\n",
    "Linkages are always one directional, stating bi, created a link from source to sink and the other way round \n",
    "\n",
    "If multiple links exist between two locations with different distances, it is necessary to create named links. \n",
    "Again, it needs to be stated whether the links are bi directional "
   ]
  },
  {
   "cell_type": "code",
   "execution_count": 18,
   "id": "4164ba42",
   "metadata": {},
   "outputs": [
    {
     "data": {
      "text/plain": [
       "[ho-sd, sd-ho, road, -road]"
      ]
     },
     "execution_count": 18,
     "metadata": {},
     "output_type": "execute_result"
    }
   ],
   "source": [
    "m.Link(source=m.ho, sink=m.sd, dist=2000, bi=True)\n",
    "# m.Link(source = m.sd, sink=m.ny, dist = 1500)\n",
    "m.road = Linkage(source=m.ho, sink=m.ny, dist=3000, bi=True)\n",
    "# m.rail = Link(source = m.ho, sink=m.ny, dist = 5000, bi = True)\n",
    "m.linkages"
   ]
  },
  {
   "cell_type": "code",
   "execution_count": 19,
   "id": "02e86387",
   "metadata": {},
   "outputs": [
    {
     "name": "stdout",
     "output_type": "stream",
     "text": [
      "ho is source and sd is sink in ho-sd\n",
      "sd is source and ho is sink in sd-ho\n"
     ]
    },
    {
     "data": {
      "text/plain": [
       "[ho-sd, sd-ho]"
      ]
     },
     "execution_count": 19,
     "metadata": {},
     "output_type": "execute_result"
    }
   ],
   "source": [
    "m.ho.links(m.sd)"
   ]
  },
  {
   "cell_type": "markdown",
   "id": "72275a98",
   "metadata": {},
   "source": [
    "## Transits\n",
    "\n",
    "Declare some transport options between across the linkages \n"
   ]
  },
  {
   "cell_type": "code",
   "execution_count": 20,
   "id": "630c372f",
   "metadata": {},
   "outputs": [
    {
     "data": {
      "text/markdown": [
       "# Mathematical Program for example4"
      ],
      "text/plain": [
       "<IPython.core.display.Markdown object>"
      ]
     },
     "metadata": {},
     "output_type": "display_data"
    },
    {
     "data": {
      "text/markdown": [
       "<br><br>"
      ],
      "text/plain": [
       "<IPython.core.display.Markdown object>"
      ]
     },
     "metadata": {},
     "output_type": "display_data"
    },
    {
     "data": {
      "text/markdown": [
       "## Index Sets"
      ],
      "text/plain": [
       "<IPython.core.display.Markdown object>"
      ]
     },
     "metadata": {},
     "output_type": "display_data"
    },
    {
     "data": {
      "text/latex": [
       "$\\displaystyle sources = \\{ ho, sd, ho, ny \\}$"
      ],
      "text/plain": [
       "<IPython.core.display.Math object>"
      ]
     },
     "metadata": {},
     "output_type": "display_data"
    },
    {
     "data": {
      "text/latex": [
       "$\\displaystyle sinks = \\{ sd, ho, ny, ho \\}$"
      ],
      "text/plain": [
       "<IPython.core.display.Math object>"
      ]
     },
     "metadata": {},
     "output_type": "display_data"
    },
    {
     "data": {
      "text/latex": [
       "$\\displaystyle spaces = \\{ ho, sd, ny, sd, ho, ny, ho-sd, sd-ho, road, -road \\}$"
      ],
      "text/plain": [
       "<IPython.core.display.Math object>"
      ]
     },
     "metadata": {},
     "output_type": "display_data"
    },
    {
     "data": {
      "text/latex": [
       "$\\displaystyle currencies = \\{ usd \\}$"
      ],
      "text/plain": [
       "<IPython.core.display.Math object>"
      ]
     },
     "metadata": {},
     "output_type": "display_data"
    },
    {
     "data": {
      "text/latex": [
       "$\\displaystyle resources = \\{ power, wind, solar, power.lii \\}$"
      ],
      "text/plain": [
       "<IPython.core.display.Math object>"
      ]
     },
     "metadata": {},
     "output_type": "display_data"
    },
    {
     "data": {
      "text/latex": [
       "$\\displaystyle materials = \\{ cement \\}$"
      ],
      "text/plain": [
       "<IPython.core.display.Math object>"
      ]
     },
     "metadata": {},
     "output_type": "display_data"
    },
    {
     "data": {
      "text/latex": [
       "$\\displaystyle processes = \\{ wf, pv, lii.charge, lii.discharge \\}$"
      ],
      "text/plain": [
       "<IPython.core.display.Math object>"
      ]
     },
     "metadata": {},
     "output_type": "display_data"
    },
    {
     "data": {
      "text/latex": [
       "$\\displaystyle storages = \\{ lii \\}$"
      ],
      "text/plain": [
       "<IPython.core.display.Math object>"
      ]
     },
     "metadata": {},
     "output_type": "display_data"
    },
    {
     "data": {
      "text/latex": [
       "$\\displaystyle ntw = \\{ sd, ho, ny \\}$"
      ],
      "text/plain": [
       "<IPython.core.display.Math object>"
      ]
     },
     "metadata": {},
     "output_type": "display_data"
    },
    {
     "data": {
      "text/latex": [
       "$\\displaystyle y = \\{ {y_{0}} \\}$"
      ],
      "text/plain": [
       "<IPython.core.display.Math object>"
      ]
     },
     "metadata": {},
     "output_type": "display_data"
    },
    {
     "data": {
      "text/latex": [
       "$\\displaystyle q = \\{ {q_{0}}, {q_{1}}, {q_{2}}, {q_{3}} \\}$"
      ],
      "text/plain": [
       "<IPython.core.display.Math object>"
      ]
     },
     "metadata": {},
     "output_type": "display_data"
    },
    {
     "data": {
      "text/markdown": [
       "<br><br>"
      ],
      "text/plain": [
       "<IPython.core.display.Markdown object>"
      ]
     },
     "metadata": {},
     "output_type": "display_data"
    },
    {
     "data": {
      "text/markdown": [
       "## s.t."
      ],
      "text/plain": [
       "<IPython.core.display.Markdown object>"
      ]
     },
     "metadata": {},
     "output_type": "display_data"
    },
    {
     "data": {
      "text/markdown": [
       "### Bound Constraint Sets"
      ],
      "text/plain": [
       "<IPython.core.display.Markdown object>"
      ]
     },
     "metadata": {},
     "output_type": "display_data"
    },
    {
     "data": {
      "text/latex": [
       "$\\displaystyle [1]\\text{   }{{{cons}}}_{solar, ntw, y} - 1200 \\leq 0$"
      ],
      "text/plain": [
       "<IPython.core.display.Math object>"
      ]
     },
     "metadata": {},
     "output_type": "display_data"
    },
    {
     "data": {
      "text/latex": [
       "$\\displaystyle [3]\\text{   }{{{{cons}}}}_{wind, ntw, y} - 1200 \\leq 0$"
      ],
      "text/plain": [
       "<IPython.core.display.Math object>"
      ]
     },
     "metadata": {},
     "output_type": "display_data"
    },
    {
     "data": {
      "text/latex": [
       "$\\displaystyle [5]\\text{   }-{{{rlse}}}_{power, ho, q} + {φ}_{} \\leq 0$"
      ],
      "text/plain": [
       "<IPython.core.display.Math object>"
      ]
     },
     "metadata": {},
     "output_type": "display_data"
    },
    {
     "data": {
      "text/latex": [
       "$\\displaystyle [7]\\text{   }-{{{{rlse}}}}_{power, sd, q} + {φ}_{} \\leq 0$"
      ],
      "text/plain": [
       "<IPython.core.display.Math object>"
      ]
     },
     "metadata": {},
     "output_type": "display_data"
    },
    {
     "data": {
      "text/latex": [
       "$\\displaystyle [9]\\text{   }-{{{{rlse}}}}_{power, ny, q} + {φ}_{} \\leq 0$"
      ],
      "text/plain": [
       "<IPython.core.display.Math object>"
      ]
     },
     "metadata": {},
     "output_type": "display_data"
    },
    {
     "data": {
      "text/latex": [
       "$\\displaystyle [10]\\text{   }10 \\cdot {{{\\breve{{cap}}}}}_{wf, sd, y} - {{{cap}}}_{wf, sd, y} \\leq 0$"
      ],
      "text/plain": [
       "<IPython.core.display.Math object>"
      ]
     },
     "metadata": {},
     "output_type": "display_data"
    },
    {
     "data": {
      "text/latex": [
       "$\\displaystyle [11]\\text{   }7 \\cdot {{{{\\breve{{cap}}}}}}_{wf, ho, y} - {{{{cap}}}}_{wf, ho, y} \\leq 0$"
      ],
      "text/plain": [
       "<IPython.core.display.Math object>"
      ]
     },
     "metadata": {},
     "output_type": "display_data"
    },
    {
     "data": {
      "text/latex": [
       "$\\displaystyle [12]\\text{   }20 \\cdot {{{{\\breve{{cap}}}}}}_{wf, ny, y} - {{{{cap}}}}_{wf, ny, y} \\leq 0$"
      ],
      "text/plain": [
       "<IPython.core.display.Math object>"
      ]
     },
     "metadata": {},
     "output_type": "display_data"
    },
    {
     "data": {
      "text/latex": [
       "$\\displaystyle [13]\\text{   }{{{{cap}}}}_{wf, sd, y} - 100 \\cdot {{{{\\breve{{cap}}}}}}_{wf, sd, y} \\leq 0$"
      ],
      "text/plain": [
       "<IPython.core.display.Math object>"
      ]
     },
     "metadata": {},
     "output_type": "display_data"
    },
    {
     "data": {
      "text/latex": [
       "$\\displaystyle [14]\\text{   }{{{{cap}}}}_{wf, ho, y} - 100 \\cdot {{{{\\breve{{cap}}}}}}_{wf, ho, y} \\leq 0$"
      ],
      "text/plain": [
       "<IPython.core.display.Math object>"
      ]
     },
     "metadata": {},
     "output_type": "display_data"
    },
    {
     "data": {
      "text/latex": [
       "$\\displaystyle [15]\\text{   }{{{{cap}}}}_{wf, ny, y} - 100 \\cdot {{{{\\breve{{cap}}}}}}_{wf, ny, y} \\leq 0$"
      ],
      "text/plain": [
       "<IPython.core.display.Math object>"
      ]
     },
     "metadata": {},
     "output_type": "display_data"
    },
    {
     "data": {
      "text/latex": [
       "$\\displaystyle [16]\\text{   }{{{opr}}}_{wf, ho, q} - {φ}_{} \\cdot {{{{cap}}}}_{wf, ho, y} \\leq 0$"
      ],
      "text/plain": [
       "<IPython.core.display.Math object>"
      ]
     },
     "metadata": {},
     "output_type": "display_data"
    },
    {
     "data": {
      "text/latex": [
       "$\\displaystyle [17]\\text{   }{{{{opr}}}}_{wf, sd, q} - {φ}_{} \\cdot {{{{cap}}}}_{wf, sd, y} \\leq 0$"
      ],
      "text/plain": [
       "<IPython.core.display.Math object>"
      ]
     },
     "metadata": {},
     "output_type": "display_data"
    },
    {
     "data": {
      "text/latex": [
       "$\\displaystyle [18]\\text{   }{{{{opr}}}}_{wf, ny, q} - {φ}_{} \\cdot {{{{cap}}}}_{wf, ny, y} \\leq 0$"
      ],
      "text/plain": [
       "<IPython.core.display.Math object>"
      ]
     },
     "metadata": {},
     "output_type": "display_data"
    },
    {
     "data": {
      "text/latex": [
       "$\\displaystyle [25]\\text{   }{{{{cap}}}}_{pv, ntw, y} - 100 \\cdot {{{{\\breve{{cap}}}}}}_{pv, ntw, y} \\leq 0$"
      ],
      "text/plain": [
       "<IPython.core.display.Math object>"
      ]
     },
     "metadata": {},
     "output_type": "display_data"
    },
    {
     "data": {
      "text/latex": [
       "$\\displaystyle [26]\\text{   }10 \\cdot {{{{\\breve{{cap}}}}}}_{pv, ntw, y} - {{{{cap}}}}_{pv, ntw, y} \\leq 0$"
      ],
      "text/plain": [
       "<IPython.core.display.Math object>"
      ]
     },
     "metadata": {},
     "output_type": "display_data"
    },
    {
     "data": {
      "text/latex": [
       "$\\displaystyle [28]\\text{   }{{{{opr}}}}_{pv, sd, q} - {φ}_{} \\cdot {{{{cap}}}}_{pv, sd, y} \\leq 0$"
      ],
      "text/plain": [
       "<IPython.core.display.Math object>"
      ]
     },
     "metadata": {},
     "output_type": "display_data"
    },
    {
     "data": {
      "text/latex": [
       "$\\displaystyle [29]\\text{   }{{{{opr}}}}_{pv, ho, q} - {φ}_{} \\cdot {{{{cap}}}}_{pv, ho, y} \\leq 0$"
      ],
      "text/plain": [
       "<IPython.core.display.Math object>"
      ]
     },
     "metadata": {},
     "output_type": "display_data"
    },
    {
     "data": {
      "text/latex": [
       "$\\displaystyle [30]\\text{   }{{{{opr}}}}_{pv, ny, q} - {φ}_{} \\cdot {{{{cap}}}}_{pv, ny, y} \\leq 0$"
      ],
      "text/plain": [
       "<IPython.core.display.Math object>"
      ]
     },
     "metadata": {},
     "output_type": "display_data"
    },
    {
     "data": {
      "text/latex": [
       "$\\displaystyle [33]\\text{   }{{{icap}}}_{power.lii, ntw, y} - 100 \\cdot {{{\\breve{{icap}}}}}_{power.lii, ntw, y} \\leq 0$"
      ],
      "text/plain": [
       "<IPython.core.display.Math object>"
      ]
     },
     "metadata": {},
     "output_type": "display_data"
    },
    {
     "data": {
      "text/latex": [
       "$\\displaystyle [34]\\text{   }10 \\cdot {{{\\breve{{icap}}}}}_{power.lii, ntw, y} - {{{icap}}}_{power.lii, ntw, y} \\leq 0$"
      ],
      "text/plain": [
       "<IPython.core.display.Math object>"
      ]
     },
     "metadata": {},
     "output_type": "display_data"
    },
    {
     "data": {
      "text/latex": [
       "$\\displaystyle [37]\\text{   }{{{{cap}}}}_{lii.charge, ntw, y} - 100 \\leq 0$"
      ],
      "text/plain": [
       "<IPython.core.display.Math object>"
      ]
     },
     "metadata": {},
     "output_type": "display_data"
    },
    {
     "data": {
      "text/latex": [
       "$\\displaystyle [38]\\text{   }{{{{opr}}}}_{lii.charge, ntw, y} - {{{{cap}}}}_{lii.charge, ntw, y} \\leq 0$"
      ],
      "text/plain": [
       "<IPython.core.display.Math object>"
      ]
     },
     "metadata": {},
     "output_type": "display_data"
    },
    {
     "data": {
      "text/latex": [
       "$\\displaystyle [39]\\text{   }{{{{cap}}}}_{lii.discharge, ntw, y} - 100 \\leq 0$"
      ],
      "text/plain": [
       "<IPython.core.display.Math object>"
      ]
     },
     "metadata": {},
     "output_type": "display_data"
    },
    {
     "data": {
      "text/latex": [
       "$\\displaystyle [40]\\text{   }{{{{opr}}}}_{lii.discharge, ntw, y} - {{{{cap}}}}_{lii.discharge, ntw, y} \\leq 0$"
      ],
      "text/plain": [
       "<IPython.core.display.Math object>"
      ]
     },
     "metadata": {},
     "output_type": "display_data"
    },
    {
     "data": {
      "text/latex": [
       "$\\displaystyle [45]\\text{   }{{{{cons}}}}_{cement, ntw, y} - 1000000 \\leq 0$"
      ],
      "text/plain": [
       "<IPython.core.display.Math object>"
      ]
     },
     "metadata": {},
     "output_type": "display_data"
    },
    {
     "data": {
      "text/markdown": [
       "### Calculation Constraint Sets"
      ],
      "text/plain": [
       "<IPython.core.display.Markdown object>"
      ]
     },
     "metadata": {},
     "output_type": "display_data"
    },
    {
     "data": {
      "text/latex": [
       "$\\displaystyle [19]\\text{   }{{spend}}_{usd, sd, y, {capacity}, wf} - 90000 \\cdot {{{{cap}}}}_{wf, sd, y} = 0$"
      ],
      "text/plain": [
       "<IPython.core.display.Math object>"
      ]
     },
     "metadata": {},
     "output_type": "display_data"
    },
    {
     "data": {
      "text/latex": [
       "$\\displaystyle [20]\\text{   }{{{spend}}}_{usd, ho, y, {capacity}, wf} - 70000 \\cdot {{{{cap}}}}_{wf, ho, y} = 0$"
      ],
      "text/plain": [
       "<IPython.core.display.Math object>"
      ]
     },
     "metadata": {},
     "output_type": "display_data"
    },
    {
     "data": {
      "text/latex": [
       "$\\displaystyle [21]\\text{   }{{{spend}}}_{usd, ny, y, {capacity}, wf} - 60000 \\cdot {{{{cap}}}}_{wf, ny, y} = 0$"
      ],
      "text/plain": [
       "<IPython.core.display.Math object>"
      ]
     },
     "metadata": {},
     "output_type": "display_data"
    },
    {
     "data": {
      "text/latex": [
       "$\\displaystyle [22]\\text{   }{{{spend}}}_{usd, ntw, y, {operate}, wf} - 49 \\cdot {{{{opr}}}}_{wf, ntw, y} = 0$"
      ],
      "text/plain": [
       "<IPython.core.display.Math object>"
      ]
     },
     "metadata": {},
     "output_type": "display_data"
    },
    {
     "data": {
      "text/latex": [
       "$\\displaystyle [31]\\text{   }{{{spend}}}_{usd, ntw, y, {capacity}, pv} - 1439046 \\cdot {{{{cap}}}}_{pv, ntw, y} = 0$"
      ],
      "text/plain": [
       "<IPython.core.display.Math object>"
      ]
     },
     "metadata": {},
     "output_type": "display_data"
    },
    {
     "data": {
      "text/latex": [
       "$\\displaystyle [32]\\text{   }{{{spend}}}_{usd, ntw, y, {operate}, pv} - 90000 \\cdot {{{{opr}}}}_{pv, ntw, y} = 0$"
      ],
      "text/plain": [
       "<IPython.core.display.Math object>"
      ]
     },
     "metadata": {},
     "output_type": "display_data"
    },
    {
     "data": {
      "text/latex": [
       "$\\displaystyle [35]\\text{   }{{{spend}}}_{usd, ntw, y, {invcapacity}, power.lii} - 1343614 \\cdot {{{icap}}}_{power.lii, ntw, y} = 0$"
      ],
      "text/plain": [
       "<IPython.core.display.Math object>"
      ]
     },
     "metadata": {},
     "output_type": "display_data"
    },
    {
     "data": {
      "text/latex": [
       "$\\displaystyle [36]\\text{   }{{{spend}}}_{usd, ntw, y, {inventory}, power.lii} - 2000 \\cdot {{{inv}}}_{power.lii, ntw, y} = 0$"
      ],
      "text/plain": [
       "<IPython.core.display.Math object>"
      ]
     },
     "metadata": {},
     "output_type": "display_data"
    },
    {
     "data": {
      "text/latex": [
       "$\\displaystyle [41]\\text{   }{{emit}}_{gwp, ntw, y, {capacity}, wf} - 1000 \\cdot {{{{cap}}}}_{wf, ntw, y} = 0$"
      ],
      "text/plain": [
       "<IPython.core.display.Math object>"
      ]
     },
     "metadata": {},
     "output_type": "display_data"
    },
    {
     "data": {
      "text/latex": [
       "$\\displaystyle [42]\\text{   }{{{emit}}}_{gwp, ntw, y, {capacity}, pv} - 2000 \\cdot {{{{cap}}}}_{pv, ntw, y} = 0$"
      ],
      "text/plain": [
       "<IPython.core.display.Math object>"
      ]
     },
     "metadata": {},
     "output_type": "display_data"
    },
    {
     "data": {
      "text/latex": [
       "$\\displaystyle [43]\\text{   }{{{emit}}}_{gwp, ntw, y, {invcapacity}, power.lii} - 3000 \\cdot {{{icap}}}_{power.lii, ntw, y} = 0$"
      ],
      "text/plain": [
       "<IPython.core.display.Math object>"
      ]
     },
     "metadata": {},
     "output_type": "display_data"
    },
    {
     "data": {
      "text/latex": [
       "$\\displaystyle [46]\\text{   }{{{spend}}}_{usd, ntw, y, {consume}, cement} - 17 \\cdot {{{{cons}}}}_{cement, ntw, y} = 0$"
      ],
      "text/plain": [
       "<IPython.core.display.Math object>"
      ]
     },
     "metadata": {},
     "output_type": "display_data"
    },
    {
     "data": {
      "text/latex": [
       "$\\displaystyle [47]\\text{   }{{{emit}}}_{gwp, ntw, y, {consume}, cement} - 0.9 \\cdot {{{{cons}}}}_{cement, ntw, y} = 0$"
      ],
      "text/plain": [
       "<IPython.core.display.Math object>"
      ]
     },
     "metadata": {},
     "output_type": "display_data"
    },
    {
     "data": {
      "text/latex": [
       "$\\displaystyle [48]\\text{   }{{use}}_{cement, ntw, y, {capacity}, wf} - 400 \\cdot {{{{cap}}}}_{wf, ntw, y} = 0$"
      ],
      "text/plain": [
       "<IPython.core.display.Math object>"
      ]
     },
     "metadata": {},
     "output_type": "display_data"
    },
    {
     "data": {
      "text/latex": [
       "$\\displaystyle [49]\\text{   }{{{use}}}_{cement, ntw, y, {capacity}, pv} - 560 \\cdot {{{{cap}}}}_{pv, ntw, y} = 0$"
      ],
      "text/plain": [
       "<IPython.core.display.Math object>"
      ]
     },
     "metadata": {},
     "output_type": "display_data"
    },
    {
     "data": {
      "text/latex": [
       "$\\displaystyle [50]\\text{   }{{{use}}}_{cement, ntw, y, {invcapacity}, power.lii} - 300 \\cdot {{{icap}}}_{power.lii, ntw, y} = 0$"
      ],
      "text/plain": [
       "<IPython.core.display.Math object>"
      ]
     },
     "metadata": {},
     "output_type": "display_data"
    },
    {
     "data": {
      "text/markdown": [
       "### General Resource Balance Constraint Sets"
      ],
      "text/plain": [
       "<IPython.core.display.Markdown object>"
      ]
     },
     "metadata": {},
     "output_type": "display_data"
    },
    {
     "data": {
      "text/latex": [
       "$\\displaystyle [0]\\text{   }{{{cons}}}_{solar, ntw, y} = 0$"
      ],
      "text/plain": [
       "<IPython.core.display.Math object>"
      ]
     },
     "metadata": {},
     "output_type": "display_data"
    },
    {
     "data": {
      "text/latex": [
       "$\\displaystyle [2]\\text{   }{{{{cons}}}}_{wind, ntw, y} = 0$"
      ],
      "text/plain": [
       "<IPython.core.display.Math object>"
      ]
     },
     "metadata": {},
     "output_type": "display_data"
    },
    {
     "data": {
      "text/latex": [
       "$\\displaystyle [4]\\text{   }-{{{rlse}}}_{power, ho, q} = 0$"
      ],
      "text/plain": [
       "<IPython.core.display.Math object>"
      ]
     },
     "metadata": {},
     "output_type": "display_data"
    },
    {
     "data": {
      "text/latex": [
       "$\\displaystyle [6]\\text{   }-{{{{rlse}}}}_{power, sd, q} = 0$"
      ],
      "text/plain": [
       "<IPython.core.display.Math object>"
      ]
     },
     "metadata": {},
     "output_type": "display_data"
    },
    {
     "data": {
      "text/latex": [
       "$\\displaystyle [8]\\text{   }-{{{{rlse}}}}_{power, ny, q} = 0$"
      ],
      "text/plain": [
       "<IPython.core.display.Math object>"
      ]
     },
     "metadata": {},
     "output_type": "display_data"
    },
    {
     "data": {
      "text/latex": [
       "$\\displaystyle [44]\\text{   }{{{{cons}}}}_{cement, ntw, y} - {{use}}_{cement, ntw, y, {capacity}, wf} - {{{use}}}_{cement, ntw, y, {capacity}, pv} - {{{use}}}_{cement, ntw, y, {invcapacity}, power.lii} = 0$"
      ],
      "text/plain": [
       "<IPython.core.display.Math object>"
      ]
     },
     "metadata": {},
     "output_type": "display_data"
    },
    {
     "data": {
      "text/markdown": [
       "### Mapping Constraint Sets"
      ],
      "text/plain": [
       "<IPython.core.display.Markdown object>"
      ]
     },
     "metadata": {},
     "output_type": "display_data"
    },
    {
     "data": {
      "text/latex": [
       "$\\displaystyle [23]\\text{   }{{{spend}}}_{usd, ntw, y} - {{{{spend}}}}_{usd, ho, y, {capacity}, wf} - {{{{spend}}}}_{usd, sd, y, {capacity}, wf} - {{{{spend}}}}_{usd, ny, y, {capacity}, wf} - {{{{spend}}}}_{usd, ntw, y, {operate}, wf} = 0$"
      ],
      "text/plain": [
       "<IPython.core.display.Math object>"
      ]
     },
     "metadata": {},
     "output_type": "display_data"
    },
    {
     "data": {
      "text/latex": [
       "$\\displaystyle [24]\\text{   }{{{{cap}}}}_{wf, ntw, y} - {{{{{cap}}}}}_{wf, ho, y} - {{{{{cap}}}}}_{wf, sd, y} - {{{{{cap}}}}}_{wf, ny, y} = 0$"
      ],
      "text/plain": [
       "<IPython.core.display.Math object>"
      ]
     },
     "metadata": {},
     "output_type": "display_data"
    },
    {
     "data": {
      "text/latex": [
       "$\\displaystyle [27]\\text{   }{{{{cap}}}}_{pv, ntw, y} - {{{{{cap}}}}}_{pv, sd, y} - {{{{{cap}}}}}_{pv, ho, y} - {{{{{cap}}}}}_{pv, ny, y} = 0$"
      ],
      "text/plain": [
       "<IPython.core.display.Math object>"
      ]
     },
     "metadata": {},
     "output_type": "display_data"
    }
   ],
   "source": [
    "m.show()"
   ]
  },
  {
   "cell_type": "code",
   "execution_count": 21,
   "id": "cfbb8036",
   "metadata": {},
   "outputs": [
    {
     "name": "stdout",
     "output_type": "stream",
     "text": [
      "--- Binding capacity in domain (grid, ho-sd, y)\n",
      "    Completed in 0.000164031982421875 seconds\n",
      "--- Binding capacity in domain (grid, road, y)\n",
      "    Completed in 0.00010204315185546875 seconds\n",
      "--- Binding operate in domain (grid, ho-sd, q)\n",
      "    Completed in 0.0002243518829345703 seconds\n",
      "--- Binding operate in domain (grid, road, q)\n",
      "    Completed in 0.0004115104675292969 seconds\n"
     ]
    },
    {
     "ename": "KeyError",
     "evalue": "ho-sd",
     "output_type": "error",
     "traceback": [
      "\u001b[31m---------------------------------------------------------------------------\u001b[39m",
      "\u001b[31mKeyError\u001b[39m                                  Traceback (most recent call last)",
      "\u001b[36mCell\u001b[39m\u001b[36m \u001b[39m\u001b[32mIn[21]\u001b[39m\u001b[32m, line 8\u001b[39m\n\u001b[32m      3\u001b[39m m.grid.capacity.x.forall([m.ho - m.sd, m.road]) <= \u001b[32m100\u001b[39m\n\u001b[32m      4\u001b[39m m.grid.operate.prep(norm=\u001b[38;5;28;01mTrue\u001b[39;00m).forall([m.ho - m.sd, m.road]) <= [\n\u001b[32m      5\u001b[39m     [\u001b[32m0.9\u001b[39m, \u001b[32m0.8\u001b[39m, \u001b[32m0.5\u001b[39m, \u001b[32m0.7\u001b[39m],\n\u001b[32m      6\u001b[39m     [\u001b[32m0.8\u001b[39m, \u001b[32m0.7\u001b[39m, \u001b[32m0.6\u001b[39m, \u001b[32m0.9\u001b[39m],\n\u001b[32m      7\u001b[39m ]\n\u001b[32m----> \u001b[39m\u001b[32m8\u001b[39m \u001b[43mm\u001b[49m\u001b[43m.\u001b[49m\u001b[43mgrid\u001b[49m\u001b[43m.\u001b[49m\u001b[43moperate\u001b[49m\u001b[43m[\u001b[49m\u001b[43mm\u001b[49m\u001b[43m.\u001b[49m\u001b[43musd\u001b[49m\u001b[43m.\u001b[49m\u001b[43mspend\u001b[49m\u001b[43m]\u001b[49m\u001b[43m.\u001b[49m\u001b[43mforall\u001b[49m\u001b[43m(\u001b[49m\u001b[43mm\u001b[49m\u001b[43m.\u001b[49m\u001b[43mlinkages\u001b[49m\u001b[43m)\u001b[49m\u001b[43m \u001b[49m\u001b[43m==\u001b[49m\u001b[43m \u001b[49m\u001b[32;43m2000\u001b[39;49m\n\u001b[32m      9\u001b[39m m.grid.capacity[m.usd.spend] == \u001b[32m1000\u001b[39m\n",
      "\u001b[36mFile \u001b[39m\u001b[32m~\\research\\packages\\energiapy\\src\\energia\\modeling\\constraints\\calculate.py:158\u001b[39m, in \u001b[36mCalculate.__eq__\u001b[39m\u001b[34m(self, other)\u001b[39m\n\u001b[32m    155\u001b[39m     \u001b[38;5;28;01melse\u001b[39;00m:\n\u001b[32m    156\u001b[39m         \u001b[38;5;28;01mfor\u001b[39;00m idx \u001b[38;5;129;01min\u001b[39;00m \u001b[38;5;28mself\u001b[39m._forall:\n\u001b[32m    157\u001b[39m             \u001b[38;5;66;03m# if other is not a list, just compare with the first element\u001b[39;00m\n\u001b[32m--> \u001b[39m\u001b[32m158\u001b[39m             _ = \u001b[38;5;28;43mself\u001b[39;49m\u001b[43m(\u001b[49m\u001b[43midx\u001b[49m\u001b[43m)\u001b[49m\u001b[43m \u001b[49m\u001b[43m==\u001b[49m\u001b[43m \u001b[49m\u001b[43mother\u001b[49m\n\u001b[32m    160\u001b[39m \u001b[38;5;28;01melse\u001b[39;00m:\n\u001b[32m    161\u001b[39m     \u001b[38;5;66;03m# the aspect being calculated\u001b[39;00m\n\u001b[32m    162\u001b[39m     \u001b[38;5;28;01mif\u001b[39;00m time:\n",
      "\u001b[36mFile \u001b[39m\u001b[32m~\\research\\packages\\energiapy\\src\\energia\\modeling\\constraints\\calculate.py:184\u001b[39m, in \u001b[36mCalculate.__eq__\u001b[39m\u001b[34m(self, other)\u001b[39m\n\u001b[32m    178\u001b[39m     cons_name = (\n\u001b[32m    179\u001b[39m         \u001b[33mrf\u001b[39m\u001b[33m\"\u001b[39m\u001b[38;5;132;01m{\u001b[39;00m\u001b[38;5;28mself\u001b[39m.calculation.aspect.name\u001b[38;5;132;01m}\u001b[39;00m\u001b[33m_inc\u001b[39m\u001b[38;5;132;01m{\u001b[39;00mdomain.idxname\u001b[38;5;132;01m}\u001b[39;00m\u001b[33m_calc\u001b[39m\u001b[33m\"\u001b[39m\n\u001b[32m    180\u001b[39m     )\n\u001b[32m    182\u001b[39m \u001b[38;5;28;01melse\u001b[39;00m:\n\u001b[32m    183\u001b[39m     \u001b[38;5;66;03m# v_calc = P*v\u001b[39;00m\n\u001b[32m--> \u001b[39m\u001b[32m184\u001b[39m     v_lhs = \u001b[43mcalc\u001b[49m\u001b[43m.\u001b[49m\u001b[43mV\u001b[49m\u001b[43m(\u001b[49m\u001b[43mother\u001b[49m\u001b[43m)\u001b[49m\n\u001b[32m    185\u001b[39m     domain = calc.domain\n\u001b[32m    186\u001b[39m     v_rhs = decision.V(other)\n",
      "\u001b[36mFile \u001b[39m\u001b[32m~\\research\\packages\\energiapy\\src\\energia\\modeling\\constraints\\bind.py:339\u001b[39m, in \u001b[36mBind.V\u001b[39m\u001b[34m(self, parameters, length, report, incidental)\u001b[39m\n\u001b[32m    335\u001b[39m     \u001b[38;5;28mself\u001b[39m.model.update_dispositions(\u001b[38;5;28mself\u001b[39m.aspect, \u001b[38;5;28mself\u001b[39m.domain)\n\u001b[32m    337\u001b[39m     \u001b[38;5;66;03m# for the same aspect, map variables with higher order indices\u001b[39;00m\n\u001b[32m    338\u001b[39m     \u001b[38;5;66;03m# to variables with lower order indices\u001b[39;00m\n\u001b[32m--> \u001b[39m\u001b[32m339\u001b[39m     \u001b[38;5;28;43mself\u001b[39;49m\u001b[43m.\u001b[49m\u001b[43maspect\u001b[49m\u001b[43m.\u001b[49m\u001b[43mmap_domain\u001b[49m\u001b[43m(\u001b[49m\u001b[38;5;28;43mself\u001b[39;49m\u001b[43m.\u001b[49m\u001b[43mdomain\u001b[49m\u001b[43m)\u001b[49m\n\u001b[32m    341\u001b[39m     \u001b[38;5;28mself\u001b[39m.aspect.domains.append(\u001b[38;5;28mself\u001b[39m.domain)\n\u001b[32m    343\u001b[39m \u001b[38;5;28;01mreturn\u001b[39;00m \u001b[38;5;28mgetattr\u001b[39m(\u001b[38;5;28mself\u001b[39m.program, \u001b[38;5;28mself\u001b[39m.aspect.name)(*index)\n",
      "\u001b[36mFile \u001b[39m\u001b[32m~\\research\\packages\\energiapy\\src\\energia\\modeling\\variables\\states.py:104\u001b[39m, in \u001b[36mIndStream.map_domain\u001b[39m\u001b[34m(self, domain)\u001b[39m\n\u001b[32m    102\u001b[39m \u001b[38;5;28;01mdef\u001b[39;00m\u001b[38;5;250m \u001b[39m\u001b[34mmap_domain\u001b[39m(\u001b[38;5;28mself\u001b[39m, domain: Domain):\n\u001b[32m--> \u001b[39m\u001b[32m104\u001b[39m     \u001b[43mMap\u001b[49m\u001b[43m(\u001b[49m\u001b[43maspect\u001b[49m\u001b[43m=\u001b[49m\u001b[38;5;28;43mself\u001b[39;49m\u001b[43m,\u001b[49m\u001b[43m \u001b[49m\u001b[43mdomain\u001b[49m\u001b[43m=\u001b[49m\u001b[43mdomain\u001b[49m\u001b[43m)\u001b[49m\n",
      "\u001b[36mFile \u001b[39m\u001b[32m<string>:7\u001b[39m, in \u001b[36m__init__\u001b[39m\u001b[34m(self, aspect, domain, label, reporting)\u001b[39m\n",
      "\u001b[36mFile \u001b[39m\u001b[32m~\\research\\packages\\energiapy\\src\\energia\\modeling\\constraints\\vmap.py:192\u001b[39m, in \u001b[36mMap.__post_init__\u001b[39m\u001b[34m(self)\u001b[39m\n\u001b[32m    183\u001b[39m     \u001b[38;5;28;01mfor\u001b[39;00m domain \u001b[38;5;129;01min\u001b[39;00m domains:\n\u001b[32m    184\u001b[39m         \u001b[38;5;28mself\u001b[39m.writecons_map(\n\u001b[32m    185\u001b[39m             domain,\n\u001b[32m    186\u001b[39m             \u001b[38;5;28mself\u001b[39m.domain,\n\u001b[32m    187\u001b[39m         )\n\u001b[32m    189\u001b[39m \u001b[38;5;28;01mif\u001b[39;00m (\n\u001b[32m    190\u001b[39m     \u001b[38;5;28mself\u001b[39m.domain.primary \u001b[38;5;129;01min\u001b[39;00m \u001b[38;5;28mself\u001b[39m.grb\n\u001b[32m    191\u001b[39m     \u001b[38;5;129;01mand\u001b[39;00m \u001b[38;5;28mself\u001b[39m.aspect(\u001b[38;5;28mself\u001b[39m.domain.primary, space, time)\n\u001b[32m--> \u001b[39m\u001b[32m192\u001b[39m     \u001b[38;5;129;01min\u001b[39;00m \u001b[38;5;28;43mself\u001b[39;49m\u001b[43m.\u001b[49m\u001b[43mgrb\u001b[49m\u001b[43m[\u001b[49m\u001b[38;5;28;43mself\u001b[39;49m\u001b[43m.\u001b[49m\u001b[43mdomain\u001b[49m\u001b[43m.\u001b[49m\u001b[43mprimary\u001b[49m\u001b[43m]\u001b[49m\u001b[43m[\u001b[49m\u001b[43mspace\u001b[49m\u001b[43m]\u001b[49m[time]\n\u001b[32m    193\u001b[39m ):\n\u001b[32m    194\u001b[39m     \u001b[38;5;66;03m# consider the case where overall consumption for water in some location and time is defined\u001b[39;00m\n\u001b[32m    195\u001b[39m     \u001b[38;5;66;03m# now user defines consumption due to using cement during construction\u001b[39;00m\n\u001b[32m    196\u001b[39m     \u001b[38;5;66;03m# we should have the constraint consume(water, goa, 2025) = consume(water, goa, 2025, use, cement)\u001b[39;00m\n\u001b[32m    198\u001b[39m     \u001b[38;5;28mself\u001b[39m.writecons_map(\u001b[38;5;28mself\u001b[39m.domain, \u001b[38;5;28mself\u001b[39m.domain.change({\u001b[33m\"\u001b[39m\u001b[33mbinds\u001b[39m\u001b[33m\"\u001b[39m: []}))\n\u001b[32m    200\u001b[39m \u001b[38;5;28;01mif\u001b[39;00m \u001b[38;5;28mself\u001b[39m.domain.modes:\n\u001b[32m    201\u001b[39m     \u001b[38;5;66;03m# if the variable is defined over modes\u001b[39;00m\n\u001b[32m    202\u001b[39m     \u001b[38;5;66;03m# we need to map it to the same domain without modes\u001b[39;00m\n",
      "\u001b[31mKeyError\u001b[39m: ho-sd"
     ]
    }
   ],
   "source": [
    "m.grid = Transport()\n",
    "m.grid(m.power)\n",
    "m.grid.capacity.x.forall([m.ho - m.sd, m.road]) <= 100\n",
    "m.grid.operate.prep(norm=True).forall([m.ho - m.sd, m.road]) <= [\n",
    "    [0.9, 0.8, 0.5, 0.7],\n",
    "    [0.8, 0.7, 0.6, 0.9],\n",
    "]\n",
    "m.grid.operate[m.usd.spend].forall(m.linkages) == 2000\n",
    "m.grid.capacity[m.usd.spend] == 1000"
   ]
  },
  {
   "cell_type": "code",
   "execution_count": 22,
   "id": "082db339",
   "metadata": {},
   "outputs": [
    {
     "data": {
      "text/plain": [
       "{solar: {ntw: {y: [consume(solar, ntw, y)]}},\n",
       " wind: {ntw: {y: [consume(wind, ntw, y)]}},\n",
       " power: {ho: {q: [release(power, ho, q)]},\n",
       "  sd: {q: [release(power, sd, q)]},\n",
       "  ny: {q: [release(power, ny, q)]}},\n",
       " usd: {sd: {y: []}, ho: {y: []}, ny: {y: []}, ntw: {y: []}, None: {y: []}},\n",
       " power.lii: {ntw: {y: [inventory(power.lii, ntw, y)]}},\n",
       " cement: {ntw: {y: [consume(cement, ntw, y),\n",
       "    use(cement, ntw, y, capacity, wf),\n",
       "    use(cement, ntw, y, capacity, pv),\n",
       "    use(cement, ntw, y, invcapacity, power.lii)]}}}"
      ]
     },
     "execution_count": 22,
     "metadata": {},
     "output_type": "execute_result"
    }
   ],
   "source": [
    "m.grb "
   ]
  },
  {
   "cell_type": "code",
   "execution_count": null,
   "id": "b9709769",
   "metadata": {},
   "outputs": [
    {
     "data": {
      "text/markdown": [
       "# Mathematical Program for example4"
      ],
      "text/plain": [
       "<IPython.core.display.Markdown object>"
      ]
     },
     "metadata": {},
     "output_type": "display_data"
    },
    {
     "name": "stdout",
     "output_type": "stream",
     "text": [
      "\n"
     ]
    },
    {
     "data": {
      "text/markdown": [
       "## Index Sets"
      ],
      "text/plain": [
       "<IPython.core.display.Markdown object>"
      ]
     },
     "metadata": {},
     "output_type": "display_data"
    },
    {
     "data": {
      "text/latex": [
       "$\\displaystyle sources = \\{ ho, sd, ho, ny \\}$"
      ],
      "text/plain": [
       "<IPython.core.display.Math object>"
      ]
     },
     "metadata": {},
     "output_type": "display_data"
    },
    {
     "data": {
      "text/latex": [
       "$\\displaystyle sinks = \\{ sd, ho, ny, ho \\}$"
      ],
      "text/plain": [
       "<IPython.core.display.Math object>"
      ]
     },
     "metadata": {},
     "output_type": "display_data"
    },
    {
     "data": {
      "text/latex": [
       "$\\displaystyle spaces = \\{ ho, sd, ny, sd, ho, ny, ho-sd, sd-ho, road, -road \\}$"
      ],
      "text/plain": [
       "<IPython.core.display.Math object>"
      ]
     },
     "metadata": {},
     "output_type": "display_data"
    },
    {
     "data": {
      "text/latex": [
       "$\\displaystyle currencies = \\{ usd \\}$"
      ],
      "text/plain": [
       "<IPython.core.display.Math object>"
      ]
     },
     "metadata": {},
     "output_type": "display_data"
    },
    {
     "data": {
      "text/latex": [
       "$\\displaystyle resources = \\{ power, wind, solar, power.lii \\}$"
      ],
      "text/plain": [
       "<IPython.core.display.Math object>"
      ]
     },
     "metadata": {},
     "output_type": "display_data"
    },
    {
     "data": {
      "text/latex": [
       "$\\displaystyle materials = \\{ cement \\}$"
      ],
      "text/plain": [
       "<IPython.core.display.Math object>"
      ]
     },
     "metadata": {},
     "output_type": "display_data"
    },
    {
     "data": {
      "text/latex": [
       "$\\displaystyle processes = \\{ wf, pv, lii.charge, lii.discharge \\}$"
      ],
      "text/plain": [
       "<IPython.core.display.Math object>"
      ]
     },
     "metadata": {},
     "output_type": "display_data"
    },
    {
     "data": {
      "text/latex": [
       "$\\displaystyle storages = \\{ lii \\}$"
      ],
      "text/plain": [
       "<IPython.core.display.Math object>"
      ]
     },
     "metadata": {},
     "output_type": "display_data"
    },
    {
     "data": {
      "text/latex": [
       "$\\displaystyle ntw = \\{ sd, ho, ny \\}$"
      ],
      "text/plain": [
       "<IPython.core.display.Math object>"
      ]
     },
     "metadata": {},
     "output_type": "display_data"
    },
    {
     "data": {
      "text/latex": [
       "$\\displaystyle y = \\{ {y_{0}} \\}$"
      ],
      "text/plain": [
       "<IPython.core.display.Math object>"
      ]
     },
     "metadata": {},
     "output_type": "display_data"
    },
    {
     "data": {
      "text/latex": [
       "$\\displaystyle q = \\{ {q_{0}}, {q_{1}}, {q_{2}}, {q_{3}} \\}$"
      ],
      "text/plain": [
       "<IPython.core.display.Math object>"
      ]
     },
     "metadata": {},
     "output_type": "display_data"
    },
    {
     "name": "stdout",
     "output_type": "stream",
     "text": [
      "\n"
     ]
    },
    {
     "data": {
      "text/markdown": [
       "## s.t."
      ],
      "text/plain": [
       "<IPython.core.display.Markdown object>"
      ]
     },
     "metadata": {},
     "output_type": "display_data"
    },
    {
     "data": {
      "text/markdown": [
       "### Bound Constraint Sets"
      ],
      "text/plain": [
       "<IPython.core.display.Markdown object>"
      ]
     },
     "metadata": {},
     "output_type": "display_data"
    },
    {
     "data": {
      "text/latex": [
       "$\\displaystyle [1]\\text{   }{{{cons}}}_{solar, ntw, y} - 1200 \\leq 0$"
      ],
      "text/plain": [
       "<IPython.core.display.Math object>"
      ]
     },
     "metadata": {},
     "output_type": "display_data"
    },
    {
     "data": {
      "text/latex": [
       "$\\displaystyle [3]\\text{   }{{{{cons}}}}_{wind, ntw, y} - 1200 \\leq 0$"
      ],
      "text/plain": [
       "<IPython.core.display.Math object>"
      ]
     },
     "metadata": {},
     "output_type": "display_data"
    },
    {
     "data": {
      "text/latex": [
       "$\\displaystyle [5]\\text{   }-{{{rlse}}}_{power, ho, q} + {φ}_{} \\leq 0$"
      ],
      "text/plain": [
       "<IPython.core.display.Math object>"
      ]
     },
     "metadata": {},
     "output_type": "display_data"
    },
    {
     "data": {
      "text/latex": [
       "$\\displaystyle [7]\\text{   }-{{{{rlse}}}}_{power, sd, q} + {φ}_{} \\leq 0$"
      ],
      "text/plain": [
       "<IPython.core.display.Math object>"
      ]
     },
     "metadata": {},
     "output_type": "display_data"
    },
    {
     "data": {
      "text/latex": [
       "$\\displaystyle [9]\\text{   }-{{{{rlse}}}}_{power, ny, q} + {φ}_{} \\leq 0$"
      ],
      "text/plain": [
       "<IPython.core.display.Math object>"
      ]
     },
     "metadata": {},
     "output_type": "display_data"
    },
    {
     "data": {
      "text/latex": [
       "$\\displaystyle [10]\\text{   }10 \\cdot {{{\\breve{{cap}}}}}_{wf, sd, y} - {{{cap}}}_{wf, sd, y} \\leq 0$"
      ],
      "text/plain": [
       "<IPython.core.display.Math object>"
      ]
     },
     "metadata": {},
     "output_type": "display_data"
    },
    {
     "data": {
      "text/latex": [
       "$\\displaystyle [11]\\text{   }7 \\cdot {{{{\\breve{{cap}}}}}}_{wf, ho, y} - {{{{cap}}}}_{wf, ho, y} \\leq 0$"
      ],
      "text/plain": [
       "<IPython.core.display.Math object>"
      ]
     },
     "metadata": {},
     "output_type": "display_data"
    },
    {
     "data": {
      "text/latex": [
       "$\\displaystyle [12]\\text{   }20 \\cdot {{{{\\breve{{cap}}}}}}_{wf, ny, y} - {{{{cap}}}}_{wf, ny, y} \\leq 0$"
      ],
      "text/plain": [
       "<IPython.core.display.Math object>"
      ]
     },
     "metadata": {},
     "output_type": "display_data"
    },
    {
     "data": {
      "text/latex": [
       "$\\displaystyle [13]\\text{   }{{{{cap}}}}_{wf, sd, y} - 100 \\cdot {{{{\\breve{{cap}}}}}}_{wf, sd, y} \\leq 0$"
      ],
      "text/plain": [
       "<IPython.core.display.Math object>"
      ]
     },
     "metadata": {},
     "output_type": "display_data"
    },
    {
     "data": {
      "text/latex": [
       "$\\displaystyle [14]\\text{   }{{{{cap}}}}_{wf, ho, y} - 100 \\cdot {{{{\\breve{{cap}}}}}}_{wf, ho, y} \\leq 0$"
      ],
      "text/plain": [
       "<IPython.core.display.Math object>"
      ]
     },
     "metadata": {},
     "output_type": "display_data"
    },
    {
     "data": {
      "text/latex": [
       "$\\displaystyle [15]\\text{   }{{{{cap}}}}_{wf, ny, y} - 100 \\cdot {{{{\\breve{{cap}}}}}}_{wf, ny, y} \\leq 0$"
      ],
      "text/plain": [
       "<IPython.core.display.Math object>"
      ]
     },
     "metadata": {},
     "output_type": "display_data"
    },
    {
     "data": {
      "text/latex": [
       "$\\displaystyle [16]\\text{   }{{{opr}}}_{wf, ho, q} - {φ}_{} \\cdot {{{{cap}}}}_{wf, ho, y} \\leq 0$"
      ],
      "text/plain": [
       "<IPython.core.display.Math object>"
      ]
     },
     "metadata": {},
     "output_type": "display_data"
    },
    {
     "data": {
      "text/latex": [
       "$\\displaystyle [17]\\text{   }{{{{opr}}}}_{wf, sd, q} - {φ}_{} \\cdot {{{{cap}}}}_{wf, sd, y} \\leq 0$"
      ],
      "text/plain": [
       "<IPython.core.display.Math object>"
      ]
     },
     "metadata": {},
     "output_type": "display_data"
    },
    {
     "data": {
      "text/latex": [
       "$\\displaystyle [18]\\text{   }{{{{opr}}}}_{wf, ny, q} - {φ}_{} \\cdot {{{{cap}}}}_{wf, ny, y} \\leq 0$"
      ],
      "text/plain": [
       "<IPython.core.display.Math object>"
      ]
     },
     "metadata": {},
     "output_type": "display_data"
    },
    {
     "data": {
      "text/latex": [
       "$\\displaystyle [25]\\text{   }{{{{cap}}}}_{pv, ntw, y} - 100 \\cdot {{{{\\breve{{cap}}}}}}_{pv, ntw, y} \\leq 0$"
      ],
      "text/plain": [
       "<IPython.core.display.Math object>"
      ]
     },
     "metadata": {},
     "output_type": "display_data"
    },
    {
     "data": {
      "text/latex": [
       "$\\displaystyle [26]\\text{   }10 \\cdot {{{{\\breve{{cap}}}}}}_{pv, ntw, y} - {{{{cap}}}}_{pv, ntw, y} \\leq 0$"
      ],
      "text/plain": [
       "<IPython.core.display.Math object>"
      ]
     },
     "metadata": {},
     "output_type": "display_data"
    },
    {
     "data": {
      "text/latex": [
       "$\\displaystyle [28]\\text{   }{{{{opr}}}}_{pv, sd, q} - {φ}_{} \\cdot {{{{cap}}}}_{pv, sd, y} \\leq 0$"
      ],
      "text/plain": [
       "<IPython.core.display.Math object>"
      ]
     },
     "metadata": {},
     "output_type": "display_data"
    },
    {
     "data": {
      "text/latex": [
       "$\\displaystyle [29]\\text{   }{{{{opr}}}}_{pv, ho, q} - {φ}_{} \\cdot {{{{cap}}}}_{pv, ho, y} \\leq 0$"
      ],
      "text/plain": [
       "<IPython.core.display.Math object>"
      ]
     },
     "metadata": {},
     "output_type": "display_data"
    },
    {
     "data": {
      "text/latex": [
       "$\\displaystyle [30]\\text{   }{{{{opr}}}}_{pv, ny, q} - {φ}_{} \\cdot {{{{cap}}}}_{pv, ny, y} \\leq 0$"
      ],
      "text/plain": [
       "<IPython.core.display.Math object>"
      ]
     },
     "metadata": {},
     "output_type": "display_data"
    },
    {
     "data": {
      "text/latex": [
       "$\\displaystyle [33]\\text{   }{{{icap}}}_{power.lii, ntw, y} - 100 \\cdot {{{\\breve{{icap}}}}}_{power.lii, ntw, y} \\leq 0$"
      ],
      "text/plain": [
       "<IPython.core.display.Math object>"
      ]
     },
     "metadata": {},
     "output_type": "display_data"
    },
    {
     "data": {
      "text/latex": [
       "$\\displaystyle [34]\\text{   }10 \\cdot {{{\\breve{{icap}}}}}_{power.lii, ntw, y} - {{{icap}}}_{power.lii, ntw, y} \\leq 0$"
      ],
      "text/plain": [
       "<IPython.core.display.Math object>"
      ]
     },
     "metadata": {},
     "output_type": "display_data"
    },
    {
     "data": {
      "text/latex": [
       "$\\displaystyle [37]\\text{   }{{{{cap}}}}_{lii.charge, ntw, y} - 100 \\leq 0$"
      ],
      "text/plain": [
       "<IPython.core.display.Math object>"
      ]
     },
     "metadata": {},
     "output_type": "display_data"
    },
    {
     "data": {
      "text/latex": [
       "$\\displaystyle [38]\\text{   }{{{{opr}}}}_{lii.charge, ntw, y} - {{{{cap}}}}_{lii.charge, ntw, y} \\leq 0$"
      ],
      "text/plain": [
       "<IPython.core.display.Math object>"
      ]
     },
     "metadata": {},
     "output_type": "display_data"
    },
    {
     "data": {
      "text/latex": [
       "$\\displaystyle [39]\\text{   }{{{{cap}}}}_{lii.discharge, ntw, y} - 100 \\leq 0$"
      ],
      "text/plain": [
       "<IPython.core.display.Math object>"
      ]
     },
     "metadata": {},
     "output_type": "display_data"
    },
    {
     "data": {
      "text/latex": [
       "$\\displaystyle [40]\\text{   }{{{{opr}}}}_{lii.discharge, ntw, y} - {{{{cap}}}}_{lii.discharge, ntw, y} \\leq 0$"
      ],
      "text/plain": [
       "<IPython.core.display.Math object>"
      ]
     },
     "metadata": {},
     "output_type": "display_data"
    },
    {
     "data": {
      "text/latex": [
       "$\\displaystyle [45]\\text{   }{{{{cons}}}}_{cement, ntw, y} - 1000000 \\leq 0$"
      ],
      "text/plain": [
       "<IPython.core.display.Math object>"
      ]
     },
     "metadata": {},
     "output_type": "display_data"
    },
    {
     "data": {
      "text/latex": [
       "$\\displaystyle [51]\\text{   }{{{{cap}}}}_{grid, ho-sd, y} - 100 \\cdot {{{{\\breve{{cap}}}}}}_{grid, ho-sd, y} \\leq 0$"
      ],
      "text/plain": [
       "<IPython.core.display.Math object>"
      ]
     },
     "metadata": {},
     "output_type": "display_data"
    },
    {
     "data": {
      "text/latex": [
       "$\\displaystyle [52]\\text{   }{{{{cap}}}}_{grid, road, y} - 100 \\cdot {{{{\\breve{{cap}}}}}}_{grid, road, y} \\leq 0$"
      ],
      "text/plain": [
       "<IPython.core.display.Math object>"
      ]
     },
     "metadata": {},
     "output_type": "display_data"
    },
    {
     "data": {
      "text/latex": [
       "$\\displaystyle [53]\\text{   }{{{{opr}}}}_{grid, ho-sd, q} - {φ}_{} \\cdot {{{{cap}}}}_{grid, ho-sd, y} \\leq 0$"
      ],
      "text/plain": [
       "<IPython.core.display.Math object>"
      ]
     },
     "metadata": {},
     "output_type": "display_data"
    },
    {
     "data": {
      "text/latex": [
       "$\\displaystyle [54]\\text{   }{{{{opr}}}}_{grid, road, q} - {φ}_{} \\cdot {{{{cap}}}}_{grid, road, y} \\leq 0$"
      ],
      "text/plain": [
       "<IPython.core.display.Math object>"
      ]
     },
     "metadata": {},
     "output_type": "display_data"
    },
    {
     "data": {
      "text/markdown": [
       "### Calculation Constraint Sets"
      ],
      "text/plain": [
       "<IPython.core.display.Markdown object>"
      ]
     },
     "metadata": {},
     "output_type": "display_data"
    },
    {
     "data": {
      "text/latex": [
       "$\\displaystyle [19]\\text{   }{{spend}}_{usd, sd, y, {capacity}, wf} - 90000 \\cdot {{{{cap}}}}_{wf, sd, y} = 0$"
      ],
      "text/plain": [
       "<IPython.core.display.Math object>"
      ]
     },
     "metadata": {},
     "output_type": "display_data"
    },
    {
     "data": {
      "text/latex": [
       "$\\displaystyle [20]\\text{   }{{{spend}}}_{usd, ho, y, {capacity}, wf} - 70000 \\cdot {{{{cap}}}}_{wf, ho, y} = 0$"
      ],
      "text/plain": [
       "<IPython.core.display.Math object>"
      ]
     },
     "metadata": {},
     "output_type": "display_data"
    },
    {
     "data": {
      "text/latex": [
       "$\\displaystyle [21]\\text{   }{{{spend}}}_{usd, ny, y, {capacity}, wf} - 60000 \\cdot {{{{cap}}}}_{wf, ny, y} = 0$"
      ],
      "text/plain": [
       "<IPython.core.display.Math object>"
      ]
     },
     "metadata": {},
     "output_type": "display_data"
    },
    {
     "data": {
      "text/latex": [
       "$\\displaystyle [22]\\text{   }{{{spend}}}_{usd, ntw, y, {operate}, wf} - 49 \\cdot {{{{opr}}}}_{wf, ntw, y} = 0$"
      ],
      "text/plain": [
       "<IPython.core.display.Math object>"
      ]
     },
     "metadata": {},
     "output_type": "display_data"
    },
    {
     "data": {
      "text/latex": [
       "$\\displaystyle [31]\\text{   }{{{spend}}}_{usd, ntw, y, {capacity}, pv} - 1439046 \\cdot {{{{cap}}}}_{pv, ntw, y} = 0$"
      ],
      "text/plain": [
       "<IPython.core.display.Math object>"
      ]
     },
     "metadata": {},
     "output_type": "display_data"
    },
    {
     "data": {
      "text/latex": [
       "$\\displaystyle [32]\\text{   }{{{spend}}}_{usd, ntw, y, {operate}, pv} - 90000 \\cdot {{{{opr}}}}_{pv, ntw, y} = 0$"
      ],
      "text/plain": [
       "<IPython.core.display.Math object>"
      ]
     },
     "metadata": {},
     "output_type": "display_data"
    },
    {
     "data": {
      "text/latex": [
       "$\\displaystyle [35]\\text{   }{{{spend}}}_{usd, ntw, y, {invcapacity}, power.lii} - 1343614 \\cdot {{{icap}}}_{power.lii, ntw, y} = 0$"
      ],
      "text/plain": [
       "<IPython.core.display.Math object>"
      ]
     },
     "metadata": {},
     "output_type": "display_data"
    },
    {
     "data": {
      "text/latex": [
       "$\\displaystyle [36]\\text{   }{{{spend}}}_{usd, ntw, y, {inventory}, power.lii} - 2000 \\cdot {{{inv}}}_{power.lii, ntw, y} = 0$"
      ],
      "text/plain": [
       "<IPython.core.display.Math object>"
      ]
     },
     "metadata": {},
     "output_type": "display_data"
    },
    {
     "data": {
      "text/latex": [
       "$\\displaystyle [41]\\text{   }{{emit}}_{gwp, ntw, y, {capacity}, wf} - 1000 \\cdot {{{{cap}}}}_{wf, ntw, y} = 0$"
      ],
      "text/plain": [
       "<IPython.core.display.Math object>"
      ]
     },
     "metadata": {},
     "output_type": "display_data"
    },
    {
     "data": {
      "text/latex": [
       "$\\displaystyle [42]\\text{   }{{{emit}}}_{gwp, ntw, y, {capacity}, pv} - 2000 \\cdot {{{{cap}}}}_{pv, ntw, y} = 0$"
      ],
      "text/plain": [
       "<IPython.core.display.Math object>"
      ]
     },
     "metadata": {},
     "output_type": "display_data"
    },
    {
     "data": {
      "text/latex": [
       "$\\displaystyle [43]\\text{   }{{{emit}}}_{gwp, ntw, y, {invcapacity}, power.lii} - 3000 \\cdot {{{icap}}}_{power.lii, ntw, y} = 0$"
      ],
      "text/plain": [
       "<IPython.core.display.Math object>"
      ]
     },
     "metadata": {},
     "output_type": "display_data"
    },
    {
     "data": {
      "text/latex": [
       "$\\displaystyle [46]\\text{   }{{{spend}}}_{usd, ntw, y, {consume}, cement} - 17 \\cdot {{{{cons}}}}_{cement, ntw, y} = 0$"
      ],
      "text/plain": [
       "<IPython.core.display.Math object>"
      ]
     },
     "metadata": {},
     "output_type": "display_data"
    },
    {
     "data": {
      "text/latex": [
       "$\\displaystyle [47]\\text{   }{{{emit}}}_{gwp, ntw, y, {consume}, cement} - 0.9 \\cdot {{{{cons}}}}_{cement, ntw, y} = 0$"
      ],
      "text/plain": [
       "<IPython.core.display.Math object>"
      ]
     },
     "metadata": {},
     "output_type": "display_data"
    },
    {
     "data": {
      "text/latex": [
       "$\\displaystyle [48]\\text{   }{{use}}_{cement, ntw, y, {capacity}, wf} - 400 \\cdot {{{{cap}}}}_{wf, ntw, y} = 0$"
      ],
      "text/plain": [
       "<IPython.core.display.Math object>"
      ]
     },
     "metadata": {},
     "output_type": "display_data"
    },
    {
     "data": {
      "text/latex": [
       "$\\displaystyle [49]\\text{   }{{{use}}}_{cement, ntw, y, {capacity}, pv} - 560 \\cdot {{{{cap}}}}_{pv, ntw, y} = 0$"
      ],
      "text/plain": [
       "<IPython.core.display.Math object>"
      ]
     },
     "metadata": {},
     "output_type": "display_data"
    },
    {
     "data": {
      "text/latex": [
       "$\\displaystyle [50]\\text{   }{{{use}}}_{cement, ntw, y, {invcapacity}, power.lii} - 300 \\cdot {{{icap}}}_{power.lii, ntw, y} = 0$"
      ],
      "text/plain": [
       "<IPython.core.display.Math object>"
      ]
     },
     "metadata": {},
     "output_type": "display_data"
    },
    {
     "data": {
      "text/markdown": [
       "### General Resource Balance Constraint Sets"
      ],
      "text/plain": [
       "<IPython.core.display.Markdown object>"
      ]
     },
     "metadata": {},
     "output_type": "display_data"
    },
    {
     "data": {
      "text/latex": [
       "$\\displaystyle [0]\\text{   }{{{cons}}}_{solar, ntw, y} = 0$"
      ],
      "text/plain": [
       "<IPython.core.display.Math object>"
      ]
     },
     "metadata": {},
     "output_type": "display_data"
    },
    {
     "data": {
      "text/latex": [
       "$\\displaystyle [2]\\text{   }{{{{cons}}}}_{wind, ntw, y} = 0$"
      ],
      "text/plain": [
       "<IPython.core.display.Math object>"
      ]
     },
     "metadata": {},
     "output_type": "display_data"
    },
    {
     "data": {
      "text/latex": [
       "$\\displaystyle [4]\\text{   }-{{{rlse}}}_{power, ho, q} = 0$"
      ],
      "text/plain": [
       "<IPython.core.display.Math object>"
      ]
     },
     "metadata": {},
     "output_type": "display_data"
    },
    {
     "data": {
      "text/latex": [
       "$\\displaystyle [6]\\text{   }-{{{{rlse}}}}_{power, sd, q} = 0$"
      ],
      "text/plain": [
       "<IPython.core.display.Math object>"
      ]
     },
     "metadata": {},
     "output_type": "display_data"
    },
    {
     "data": {
      "text/latex": [
       "$\\displaystyle [8]\\text{   }-{{{{rlse}}}}_{power, ny, q} = 0$"
      ],
      "text/plain": [
       "<IPython.core.display.Math object>"
      ]
     },
     "metadata": {},
     "output_type": "display_data"
    },
    {
     "data": {
      "text/latex": [
       "$\\displaystyle [44]\\text{   }{{{{cons}}}}_{cement, ntw, y} - {{use}}_{cement, ntw, y, {capacity}, wf} - {{{use}}}_{cement, ntw, y, {capacity}, pv} - {{{use}}}_{cement, ntw, y, {invcapacity}, power.lii} = 0$"
      ],
      "text/plain": [
       "<IPython.core.display.Math object>"
      ]
     },
     "metadata": {},
     "output_type": "display_data"
    },
    {
     "data": {
      "text/markdown": [
       "### Mapping Constraint Sets"
      ],
      "text/plain": [
       "<IPython.core.display.Markdown object>"
      ]
     },
     "metadata": {},
     "output_type": "display_data"
    },
    {
     "data": {
      "text/latex": [
       "$\\displaystyle [23]\\text{   }{{{spend}}}_{usd, ntw, y} - {{{{spend}}}}_{usd, ho, y, {capacity}, wf} - {{{{spend}}}}_{usd, sd, y, {capacity}, wf} - {{{{spend}}}}_{usd, ny, y, {capacity}, wf} - {{{{spend}}}}_{usd, ntw, y, {operate}, wf} = 0$"
      ],
      "text/plain": [
       "<IPython.core.display.Math object>"
      ]
     },
     "metadata": {},
     "output_type": "display_data"
    },
    {
     "data": {
      "text/latex": [
       "$\\displaystyle [24]\\text{   }{{{{cap}}}}_{wf, ntw, y} - {{{{{cap}}}}}_{wf, ho, y} - {{{{{cap}}}}}_{wf, sd, y} - {{{{{cap}}}}}_{wf, ny, y} = 0$"
      ],
      "text/plain": [
       "<IPython.core.display.Math object>"
      ]
     },
     "metadata": {},
     "output_type": "display_data"
    },
    {
     "data": {
      "text/latex": [
       "$\\displaystyle [27]\\text{   }{{{{cap}}}}_{pv, ntw, y} - {{{{{cap}}}}}_{pv, sd, y} - {{{{{cap}}}}}_{pv, ho, y} - {{{{{cap}}}}}_{pv, ny, y} = 0$"
      ],
      "text/plain": [
       "<IPython.core.display.Math object>"
      ]
     },
     "metadata": {},
     "output_type": "display_data"
    }
   ],
   "source": [
    "m.show()"
   ]
  },
  {
   "cell_type": "code",
   "execution_count": null,
   "id": "f4a3b5a5",
   "metadata": {},
   "outputs": [],
   "source": []
  },
  {
   "cell_type": "code",
   "execution_count": null,
   "id": "cfcb4dcf",
   "metadata": {},
   "outputs": [
    {
     "name": "stdout",
     "output_type": "stream",
     "text": [
      "--- Assuming  pv capacity is unbounded in (ho, y)\n",
      "--- General Resource Balance for power in (ho, q): adding produce(power, ho, q, operate, pv)\n",
      "    Completed in 0.00037407875061035156 seconds\n"
     ]
    },
    {
     "ename": "KeyError",
     "evalue": "ho",
     "output_type": "error",
     "traceback": [
      "\u001b[31m---------------------------------------------------------------------------\u001b[39m",
      "\u001b[31mKeyError\u001b[39m                                  Traceback (most recent call last)",
      "\u001b[36mCell\u001b[39m\u001b[36m \u001b[39m\u001b[32mIn[24]\u001b[39m\u001b[32m, line 1\u001b[39m\n\u001b[32m----> \u001b[39m\u001b[32m1\u001b[39m \u001b[43mm\u001b[49m\u001b[43m.\u001b[49m\u001b[43mho\u001b[49m\u001b[43m.\u001b[49m\u001b[43mlocate\u001b[49m\u001b[43m(\u001b[49m\u001b[43mm\u001b[49m\u001b[43m.\u001b[49m\u001b[43mpv\u001b[49m\u001b[43m,\u001b[49m\u001b[43m \u001b[49m\u001b[43mm\u001b[49m\u001b[43m.\u001b[49m\u001b[43mwf\u001b[49m\u001b[43m,\u001b[49m\u001b[43m \u001b[49m\u001b[43mm\u001b[49m\u001b[43m.\u001b[49m\u001b[43mlii\u001b[49m\u001b[43m)\u001b[49m\n\u001b[32m      2\u001b[39m m.sd.locate(m.pv, m.wf, m.lii)\n\u001b[32m      3\u001b[39m m.ny.locate(m.pv, m.wf, m.lii)\n",
      "\u001b[36mFile \u001b[39m\u001b[32m~/Research/packages/energiapy/src/energia/components/spatial/location.py:99\u001b[39m, in \u001b[36mLocation.locate\u001b[39m\u001b[34m(self, *operations)\u001b[39m\n\u001b[32m     96\u001b[39m \u001b[38;5;66;03m# locates an operation\u001b[39;00m\n\u001b[32m     97\u001b[39m \u001b[38;5;66;03m# which leads to the conversion balances being written\u001b[39;00m\n\u001b[32m     98\u001b[39m \u001b[38;5;28;01mfor\u001b[39;00m opr \u001b[38;5;129;01min\u001b[39;00m operations:\n\u001b[32m---> \u001b[39m\u001b[32m99\u001b[39m     \u001b[43mopr\u001b[49m\u001b[43m.\u001b[49m\u001b[43mlocate\u001b[49m\u001b[43m(\u001b[49m\u001b[38;5;28;43mself\u001b[39;49m\u001b[43m)\u001b[49m\n",
      "\u001b[36mFile \u001b[39m\u001b[32m~/Research/packages/energiapy/src/energia/components/operation/_operation.py:246\u001b[39m, in \u001b[36m_Operation.locate\u001b[39m\u001b[34m(self, *spaces)\u001b[39m\n\u001b[32m    243\u001b[39m             \u001b[38;5;28;01mif\u001b[39;00m space_time \u001b[38;5;129;01mnot\u001b[39;00m \u001b[38;5;129;01min\u001b[39;00m space_times:\n\u001b[32m    244\u001b[39m                 space_times.append(space_time)\n\u001b[32m--> \u001b[39m\u001b[32m246\u001b[39m \u001b[38;5;28;43mself\u001b[39;49m\u001b[43m.\u001b[49m\u001b[43mwritecons_conversion\u001b[49m\u001b[43m(\u001b[49m\u001b[43mspace_times\u001b[49m\u001b[43m)\u001b[49m\n\u001b[32m    248\u001b[39m \u001b[38;5;28;01mif\u001b[39;00m \u001b[38;5;28mself\u001b[39m.fabrication:\n\u001b[32m    249\u001b[39m     \u001b[38;5;28mself\u001b[39m.writecons_fabrication(space_times)\n",
      "\u001b[36mFile \u001b[39m\u001b[32m~/Research/packages/energiapy/src/energia/components/operation/process.py:176\u001b[39m, in \u001b[36mProcess.writecons_conversion\u001b[39m\u001b[34m(self, loc_times)\u001b[39m\n\u001b[32m    174\u001b[39m \u001b[38;5;28;01mif\u001b[39;00m res \u001b[38;5;129;01min\u001b[39;00m \u001b[38;5;28mself\u001b[39m.model.grb:\n\u001b[32m    175\u001b[39m     time = time_checker(res, loc, time)\n\u001b[32m--> \u001b[39m\u001b[32m176\u001b[39m     \u001b[38;5;28;01mif\u001b[39;00m \u001b[38;5;28;43mself\u001b[39;49m\u001b[43m.\u001b[49m\u001b[43mmodel\u001b[49m\u001b[43m.\u001b[49m\u001b[43mgrb\u001b[49m\u001b[43m[\u001b[49m\u001b[43mres\u001b[49m\u001b[43m]\u001b[49m\u001b[43m[\u001b[49m\u001b[43mloc\u001b[49m\u001b[43m]\u001b[49m[time]:\n\u001b[32m    177\u001b[39m         _insitu = \u001b[38;5;28;01mFalse\u001b[39;00m\n\u001b[32m    178\u001b[39m     \u001b[38;5;28;01melse\u001b[39;00m:\n",
      "\u001b[31mKeyError\u001b[39m: ho"
     ]
    }
   ],
   "source": [
    "m.ho.locate(m.pv, m.wf, m.lii)\n",
    "m.sd.locate(m.pv, m.wf, m.lii)\n",
    "m.ny.locate(m.pv, m.wf, m.lii)"
   ]
  },
  {
   "cell_type": "code",
   "execution_count": null,
   "id": "e92c483a",
   "metadata": {},
   "outputs": [
    {
     "data": {
      "text/plain": [
       "{solar: {ntw: {y: [consume(solar, ntw, y)], q: []}},\n",
       " wind: {ntw: {y: [consume(wind, ntw, y)]}},\n",
       " power: {ho: {q: [release(power, ho, q), produce(power, ho, q, operate, pv)]},\n",
       "  sd: {q: [release(power, sd, q)]},\n",
       "  ny: {q: [release(power, ny, q)]}},\n",
       " usd: {sd: {y: []}, ho: {y: []}, ny: {y: []}, ntw: {y: []}, None: {y: []}},\n",
       " power.lii: {ntw: {y: [inventory(power.lii, ntw, y)]}},\n",
       " cement: {ntw: {y: [consume(cement, ntw, y),\n",
       "    use(cement, ntw, y, capacity, wf),\n",
       "    use(cement, ntw, y, capacity, pv),\n",
       "    use(cement, ntw, y, invcapacity, power.lii)]}}}"
      ]
     },
     "execution_count": 25,
     "metadata": {},
     "output_type": "execute_result"
    }
   ],
   "source": [
    "m.grb"
   ]
  },
  {
   "cell_type": "code",
   "execution_count": null,
   "id": "a56b9958",
   "metadata": {},
   "outputs": [
    {
     "data": {
      "text/markdown": [
       "# Mathematical Program for example4"
      ],
      "text/plain": [
       "<IPython.core.display.Markdown object>"
      ]
     },
     "metadata": {},
     "output_type": "display_data"
    },
    {
     "name": "stdout",
     "output_type": "stream",
     "text": [
      "\n"
     ]
    },
    {
     "data": {
      "text/markdown": [
       "## Index Sets"
      ],
      "text/plain": [
       "<IPython.core.display.Markdown object>"
      ]
     },
     "metadata": {},
     "output_type": "display_data"
    },
    {
     "data": {
      "text/latex": [
       "$\\displaystyle spaces = \\{ ho, sd, ny, ntw, ho-sd, sd-ho, road, -road \\}$"
      ],
      "text/plain": [
       "<IPython.core.display.Math object>"
      ]
     },
     "metadata": {},
     "output_type": "display_data"
    },
    {
     "data": {
      "text/latex": [
       "$\\displaystyle resources = \\{ usd, power, wind, solar, power.lii, cement \\}$"
      ],
      "text/plain": [
       "<IPython.core.display.Math object>"
      ]
     },
     "metadata": {},
     "output_type": "display_data"
    },
    {
     "data": {
      "text/latex": [
       "$\\displaystyle processes = \\{ wf, pv, lii.charge, lii.discharge \\}$"
      ],
      "text/plain": [
       "<IPython.core.display.Math object>"
      ]
     },
     "metadata": {},
     "output_type": "display_data"
    },
    {
     "data": {
      "text/latex": [
       "$\\displaystyle storages = \\{ lii \\}$"
      ],
      "text/plain": [
       "<IPython.core.display.Math object>"
      ]
     },
     "metadata": {},
     "output_type": "display_data"
    },
    {
     "data": {
      "text/latex": [
       "$\\displaystyle transits = \\{ grid \\}$"
      ],
      "text/plain": [
       "<IPython.core.display.Math object>"
      ]
     },
     "metadata": {},
     "output_type": "display_data"
    },
    {
     "data": {
      "text/latex": [
       "$\\displaystyle y = \\{ y[0] \\}$"
      ],
      "text/plain": [
       "<IPython.core.display.Math object>"
      ]
     },
     "metadata": {},
     "output_type": "display_data"
    },
    {
     "data": {
      "text/latex": [
       "$\\displaystyle q = \\{ q[0], q[1], q[2], q[3] \\}$"
      ],
      "text/plain": [
       "<IPython.core.display.Math object>"
      ]
     },
     "metadata": {},
     "output_type": "display_data"
    },
    {
     "name": "stdout",
     "output_type": "stream",
     "text": [
      "\n"
     ]
    },
    {
     "data": {
      "text/markdown": [
       "## s.t."
      ],
      "text/plain": [
       "<IPython.core.display.Markdown object>"
      ]
     },
     "metadata": {},
     "output_type": "display_data"
    },
    {
     "data": {
      "text/markdown": [
       "### Bound Constraint Sets"
      ],
      "text/plain": [
       "<IPython.core.display.Markdown object>"
      ]
     },
     "metadata": {},
     "output_type": "display_data"
    },
    {
     "data": {
      "text/latex": [
       "$\\displaystyle [1]\\text{   }{{{cons}}}_{solar, ntw, y} - 1200 \\leq 0$"
      ],
      "text/plain": [
       "<IPython.core.display.Math object>"
      ]
     },
     "metadata": {},
     "output_type": "display_data"
    },
    {
     "data": {
      "text/latex": [
       "$\\displaystyle [3]\\text{   }{{{{cons}}}}_{wind, ntw, y} - 1200 \\leq 0$"
      ],
      "text/plain": [
       "<IPython.core.display.Math object>"
      ]
     },
     "metadata": {},
     "output_type": "display_data"
    },
    {
     "data": {
      "text/latex": [
       "$\\displaystyle [5]\\text{   }-{{{rlse}}}_{power, ho, q} + {φ}_{} \\leq 0$"
      ],
      "text/plain": [
       "<IPython.core.display.Math object>"
      ]
     },
     "metadata": {},
     "output_type": "display_data"
    },
    {
     "data": {
      "text/latex": [
       "$\\displaystyle [7]\\text{   }-{{{{rlse}}}}_{power, sd, q} + {φ}_{} \\leq 0$"
      ],
      "text/plain": [
       "<IPython.core.display.Math object>"
      ]
     },
     "metadata": {},
     "output_type": "display_data"
    },
    {
     "data": {
      "text/latex": [
       "$\\displaystyle [9]\\text{   }-{{{{rlse}}}}_{power, ny, q} + {φ}_{} \\leq 0$"
      ],
      "text/plain": [
       "<IPython.core.display.Math object>"
      ]
     },
     "metadata": {},
     "output_type": "display_data"
    },
    {
     "data": {
      "text/latex": [
       "$\\displaystyle [10]\\text{   }10 \\cdot {{{\\breve{{cap}^{P}}}}}_{wf, sd, y} - {{{cap}^{P}}}_{wf, sd, y} \\leq 0$"
      ],
      "text/plain": [
       "<IPython.core.display.Math object>"
      ]
     },
     "metadata": {},
     "output_type": "display_data"
    },
    {
     "data": {
      "text/latex": [
       "$\\displaystyle [11]\\text{   }7 \\cdot {{{{\\breve{{cap}^{P}}}}}}_{wf, ho, y} - {{{{cap}^{P}}}}_{wf, ho, y} \\leq 0$"
      ],
      "text/plain": [
       "<IPython.core.display.Math object>"
      ]
     },
     "metadata": {},
     "output_type": "display_data"
    },
    {
     "data": {
      "text/latex": [
       "$\\displaystyle [12]\\text{   }20 \\cdot {{{{\\breve{{cap}^{P}}}}}}_{wf, ny, y} - {{{{cap}^{P}}}}_{wf, ny, y} \\leq 0$"
      ],
      "text/plain": [
       "<IPython.core.display.Math object>"
      ]
     },
     "metadata": {},
     "output_type": "display_data"
    },
    {
     "data": {
      "text/latex": [
       "$\\displaystyle [13]\\text{   }{{{{cap}^{P}}}}_{wf, sd, y} - 100 \\cdot {{{{\\breve{{cap}^{P}}}}}}_{wf, sd, y} \\leq 0$"
      ],
      "text/plain": [
       "<IPython.core.display.Math object>"
      ]
     },
     "metadata": {},
     "output_type": "display_data"
    },
    {
     "data": {
      "text/latex": [
       "$\\displaystyle [14]\\text{   }{{{{cap}^{P}}}}_{wf, ho, y} - 100 \\cdot {{{{\\breve{{cap}^{P}}}}}}_{wf, ho, y} \\leq 0$"
      ],
      "text/plain": [
       "<IPython.core.display.Math object>"
      ]
     },
     "metadata": {},
     "output_type": "display_data"
    },
    {
     "data": {
      "text/latex": [
       "$\\displaystyle [15]\\text{   }{{{{cap}^{P}}}}_{wf, ny, y} - 100 \\cdot {{{{\\breve{{cap}^{P}}}}}}_{wf, ny, y} \\leq 0$"
      ],
      "text/plain": [
       "<IPython.core.display.Math object>"
      ]
     },
     "metadata": {},
     "output_type": "display_data"
    },
    {
     "data": {
      "text/latex": [
       "$\\displaystyle [16]\\text{   }{{{opr}}}_{wf, ho, q} - {φ}_{} \\cdot {{{{cap}^{P}}}}_{wf, ho, y} \\leq 0$"
      ],
      "text/plain": [
       "<IPython.core.display.Math object>"
      ]
     },
     "metadata": {},
     "output_type": "display_data"
    },
    {
     "data": {
      "text/latex": [
       "$\\displaystyle [17]\\text{   }{{{{opr}}}}_{wf, sd, q} - {φ}_{} \\cdot {{{{cap}^{P}}}}_{wf, sd, y} \\leq 0$"
      ],
      "text/plain": [
       "<IPython.core.display.Math object>"
      ]
     },
     "metadata": {},
     "output_type": "display_data"
    },
    {
     "data": {
      "text/latex": [
       "$\\displaystyle [18]\\text{   }{{{{opr}}}}_{wf, ny, q} - {φ}_{} \\cdot {{{{cap}^{P}}}}_{wf, ny, y} \\leq 0$"
      ],
      "text/plain": [
       "<IPython.core.display.Math object>"
      ]
     },
     "metadata": {},
     "output_type": "display_data"
    },
    {
     "data": {
      "text/latex": [
       "$\\displaystyle [28]\\text{   }{{{{cap}^{P}}}}_{pv, ntw, y} - 100 \\cdot {{{{\\breve{{cap}^{P}}}}}}_{pv, ntw, y} \\leq 0$"
      ],
      "text/plain": [
       "<IPython.core.display.Math object>"
      ]
     },
     "metadata": {},
     "output_type": "display_data"
    },
    {
     "data": {
      "text/latex": [
       "$\\displaystyle [29]\\text{   }10 \\cdot {{{{\\breve{{cap}^{P}}}}}}_{pv, ntw, y} - {{{{cap}^{P}}}}_{pv, ntw, y} \\leq 0$"
      ],
      "text/plain": [
       "<IPython.core.display.Math object>"
      ]
     },
     "metadata": {},
     "output_type": "display_data"
    },
    {
     "data": {
      "text/latex": [
       "$\\displaystyle [31]\\text{   }{{{{opr}}}}_{pv, sd, q} - {φ}_{} \\cdot {{{{cap}^{P}}}}_{pv, sd, y} \\leq 0$"
      ],
      "text/plain": [
       "<IPython.core.display.Math object>"
      ]
     },
     "metadata": {},
     "output_type": "display_data"
    },
    {
     "data": {
      "text/latex": [
       "$\\displaystyle [32]\\text{   }{{{{opr}}}}_{pv, ho, q} - {φ}_{} \\cdot {{{{cap}^{P}}}}_{pv, ho, y} \\leq 0$"
      ],
      "text/plain": [
       "<IPython.core.display.Math object>"
      ]
     },
     "metadata": {},
     "output_type": "display_data"
    },
    {
     "data": {
      "text/latex": [
       "$\\displaystyle [33]\\text{   }{{{{opr}}}}_{pv, ny, q} - {φ}_{} \\cdot {{{{cap}^{P}}}}_{pv, ny, y} \\leq 0$"
      ],
      "text/plain": [
       "<IPython.core.display.Math object>"
      ]
     },
     "metadata": {},
     "output_type": "display_data"
    },
    {
     "data": {
      "text/latex": [
       "$\\displaystyle [42]\\text{   }{{{cap}^{S}}}_{power.lii, ntw, y} - 100 \\cdot {{{\\breve{{cap}^{S}}}}}_{power.lii, ntw, y} \\leq 0$"
      ],
      "text/plain": [
       "<IPython.core.display.Math object>"
      ]
     },
     "metadata": {},
     "output_type": "display_data"
    },
    {
     "data": {
      "text/latex": [
       "$\\displaystyle [43]\\text{   }10 \\cdot {{{\\breve{{cap}^{S}}}}}_{power.lii, ntw, y} - {{{cap}^{S}}}_{power.lii, ntw, y} \\leq 0$"
      ],
      "text/plain": [
       "<IPython.core.display.Math object>"
      ]
     },
     "metadata": {},
     "output_type": "display_data"
    },
    {
     "data": {
      "text/latex": [
       "$\\displaystyle [48]\\text{   }{{{{cap}^{P}}}}_{lii.charge, ntw, y} - 100 \\leq 0$"
      ],
      "text/plain": [
       "<IPython.core.display.Math object>"
      ]
     },
     "metadata": {},
     "output_type": "display_data"
    },
    {
     "data": {
      "text/latex": [
       "$\\displaystyle [49]\\text{   }{{{{opr}}}}_{lii.charge, ntw, y} - {{{{cap}^{P}}}}_{lii.charge, ntw, y} \\leq 0$"
      ],
      "text/plain": [
       "<IPython.core.display.Math object>"
      ]
     },
     "metadata": {},
     "output_type": "display_data"
    },
    {
     "data": {
      "text/latex": [
       "$\\displaystyle [50]\\text{   }{{{{cap}^{P}}}}_{lii.discharge, ntw, y} - 100 \\leq 0$"
      ],
      "text/plain": [
       "<IPython.core.display.Math object>"
      ]
     },
     "metadata": {},
     "output_type": "display_data"
    },
    {
     "data": {
      "text/latex": [
       "$\\displaystyle [51]\\text{   }{{{{opr}}}}_{lii.discharge, ntw, y} - {{{{cap}^{P}}}}_{lii.discharge, ntw, y} \\leq 0$"
      ],
      "text/plain": [
       "<IPython.core.display.Math object>"
      ]
     },
     "metadata": {},
     "output_type": "display_data"
    },
    {
     "data": {
      "text/latex": [
       "$\\displaystyle [57]\\text{   }{{{{cons}}}}_{cement, ntw, y} - 1000000 \\leq 0$"
      ],
      "text/plain": [
       "<IPython.core.display.Math object>"
      ]
     },
     "metadata": {},
     "output_type": "display_data"
    },
    {
     "data": {
      "text/latex": [
       "$\\displaystyle [64]\\text{   }{{{{cap}^{P}}}}_{grid, ho-sd, y} - 100 \\cdot {{{{\\breve{{cap}^{P}}}}}}_{grid, ho-sd, y} \\leq 0$"
      ],
      "text/plain": [
       "<IPython.core.display.Math object>"
      ]
     },
     "metadata": {},
     "output_type": "display_data"
    },
    {
     "data": {
      "text/latex": [
       "$\\displaystyle [65]\\text{   }{{{{cap}^{P}}}}_{grid, road, y} - 100 \\cdot {{{{\\breve{{cap}^{P}}}}}}_{grid, road, y} \\leq 0$"
      ],
      "text/plain": [
       "<IPython.core.display.Math object>"
      ]
     },
     "metadata": {},
     "output_type": "display_data"
    },
    {
     "data": {
      "text/latex": [
       "$\\displaystyle [66]\\text{   }{{{{opr}}}}_{grid, ho-sd, q} - {φ}_{} \\cdot {{{{cap}^{P}}}}_{grid, ho-sd, y} \\leq 0$"
      ],
      "text/plain": [
       "<IPython.core.display.Math object>"
      ]
     },
     "metadata": {},
     "output_type": "display_data"
    },
    {
     "data": {
      "text/latex": [
       "$\\displaystyle [67]\\text{   }{{{{opr}}}}_{grid, road, q} - {φ}_{} \\cdot {{{{cap}^{P}}}}_{grid, road, y} \\leq 0$"
      ],
      "text/plain": [
       "<IPython.core.display.Math object>"
      ]
     },
     "metadata": {},
     "output_type": "display_data"
    },
    {
     "data": {
      "text/latex": [
       "$\\displaystyle [93]\\text{   }{{{{inv}}}}_{power.lii, ho, q} - {{{{cap}^{S}}}}_{power.lii, ho, y} \\leq 0$"
      ],
      "text/plain": [
       "<IPython.core.display.Math object>"
      ]
     },
     "metadata": {},
     "output_type": "display_data"
    },
    {
     "data": {
      "text/latex": [
       "$\\displaystyle [96]\\text{   }{{{{opr}}}}_{lii.charge, ho, y} - {{{{cap}^{P}}}}_{lii.charge, ho, y} \\leq 0$"
      ],
      "text/plain": [
       "<IPython.core.display.Math object>"
      ]
     },
     "metadata": {},
     "output_type": "display_data"
    },
    {
     "data": {
      "text/latex": [
       "$\\displaystyle [104]\\text{   }{{{{opr}}}}_{lii.discharge, ho, y} - {{{{cap}^{P}}}}_{lii.discharge, ho, y} \\leq 0$"
      ],
      "text/plain": [
       "<IPython.core.display.Math object>"
      ]
     },
     "metadata": {},
     "output_type": "display_data"
    },
    {
     "data": {
      "text/latex": [
       "$\\displaystyle [115]\\text{   }{{{{inv}}}}_{power.lii, sd, q} - {{{{cap}^{S}}}}_{power.lii, sd, y} \\leq 0$"
      ],
      "text/plain": [
       "<IPython.core.display.Math object>"
      ]
     },
     "metadata": {},
     "output_type": "display_data"
    },
    {
     "data": {
      "text/latex": [
       "$\\displaystyle [116]\\text{   }{{{{opr}}}}_{lii.charge, sd, y} - {{{{cap}^{P}}}}_{lii.charge, sd, y} \\leq 0$"
      ],
      "text/plain": [
       "<IPython.core.display.Math object>"
      ]
     },
     "metadata": {},
     "output_type": "display_data"
    },
    {
     "data": {
      "text/latex": [
       "$\\displaystyle [120]\\text{   }{{{{opr}}}}_{lii.discharge, sd, y} - {{{{cap}^{P}}}}_{lii.discharge, sd, y} \\leq 0$"
      ],
      "text/plain": [
       "<IPython.core.display.Math object>"
      ]
     },
     "metadata": {},
     "output_type": "display_data"
    },
    {
     "data": {
      "text/latex": [
       "$\\displaystyle [129]\\text{   }{{{{inv}}}}_{power.lii, ny, q} - {{{{cap}^{S}}}}_{power.lii, ny, y} \\leq 0$"
      ],
      "text/plain": [
       "<IPython.core.display.Math object>"
      ]
     },
     "metadata": {},
     "output_type": "display_data"
    },
    {
     "data": {
      "text/latex": [
       "$\\displaystyle [130]\\text{   }{{{{opr}}}}_{lii.charge, ny, y} - {{{{cap}^{P}}}}_{lii.charge, ny, y} \\leq 0$"
      ],
      "text/plain": [
       "<IPython.core.display.Math object>"
      ]
     },
     "metadata": {},
     "output_type": "display_data"
    },
    {
     "data": {
      "text/latex": [
       "$\\displaystyle [134]\\text{   }{{{{opr}}}}_{lii.discharge, ny, y} - {{{{cap}^{P}}}}_{lii.discharge, ny, y} \\leq 0$"
      ],
      "text/plain": [
       "<IPython.core.display.Math object>"
      ]
     },
     "metadata": {},
     "output_type": "display_data"
    },
    {
     "data": {
      "text/markdown": [
       "### Calculation Constraint Sets"
      ],
      "text/plain": [
       "<IPython.core.display.Markdown object>"
      ]
     },
     "metadata": {},
     "output_type": "display_data"
    },
    {
     "data": {
      "text/latex": [
       "$\\displaystyle [19]\\text{   }{{spend}}_{usd, sd, y, {capacity}, wf} - 90000 \\cdot {{{{cap}^{P}}}}_{wf, sd, y} = 0$"
      ],
      "text/plain": [
       "<IPython.core.display.Math object>"
      ]
     },
     "metadata": {},
     "output_type": "display_data"
    },
    {
     "data": {
      "text/latex": [
       "$\\displaystyle [20]\\text{   }{{{spend}}}_{usd, ho, y, {capacity}, wf} - 70000 \\cdot {{{{cap}^{P}}}}_{wf, ho, y} = 0$"
      ],
      "text/plain": [
       "<IPython.core.display.Math object>"
      ]
     },
     "metadata": {},
     "output_type": "display_data"
    },
    {
     "data": {
      "text/latex": [
       "$\\displaystyle [21]\\text{   }{{{spend}}}_{usd, ny, y, {capacity}, wf} - 60000 \\cdot {{{{cap}^{P}}}}_{wf, ny, y} = 0$"
      ],
      "text/plain": [
       "<IPython.core.display.Math object>"
      ]
     },
     "metadata": {},
     "output_type": "display_data"
    },
    {
     "data": {
      "text/latex": [
       "$\\displaystyle [27]\\text{   }{{{spend}}}_{usd, ntw, y, {operate}, wf} - 49 \\cdot {{{{opr}}}}_{wf, ntw, y} = 0$"
      ],
      "text/plain": [
       "<IPython.core.display.Math object>"
      ]
     },
     "metadata": {},
     "output_type": "display_data"
    },
    {
     "data": {
      "text/latex": [
       "$\\displaystyle [35]\\text{   }{{{spend}}}_{usd, ntw, y, {capacity}, pv} - 1439046 \\cdot {{{{cap}^{P}}}}_{pv, ntw, y} = 0$"
      ],
      "text/plain": [
       "<IPython.core.display.Math object>"
      ]
     },
     "metadata": {},
     "output_type": "display_data"
    },
    {
     "data": {
      "text/latex": [
       "$\\displaystyle [41]\\text{   }{{{spend}}}_{usd, ntw, y, {operate}, pv} - 90000 \\cdot {{{{opr}}}}_{pv, ntw, y} = 0$"
      ],
      "text/plain": [
       "<IPython.core.display.Math object>"
      ]
     },
     "metadata": {},
     "output_type": "display_data"
    },
    {
     "data": {
      "text/latex": [
       "$\\displaystyle [45]\\text{   }{{{spend}}}_{usd, ntw, y, {invcapacity}, power.lii} - 1343614 \\cdot {{{cap}^{S}}}_{power.lii, ntw, y} = 0$"
      ],
      "text/plain": [
       "<IPython.core.display.Math object>"
      ]
     },
     "metadata": {},
     "output_type": "display_data"
    },
    {
     "data": {
      "text/latex": [
       "$\\displaystyle [47]\\text{   }{{{spend}}}_{usd, ntw, y, {inventory}, power.lii} - 2000 \\cdot {{{inv}}}_{power.lii, ntw, y} = 0$"
      ],
      "text/plain": [
       "<IPython.core.display.Math object>"
      ]
     },
     "metadata": {},
     "output_type": "display_data"
    },
    {
     "data": {
      "text/latex": [
       "$\\displaystyle [53]\\text{   }{{emit}}_{gwp, ntw, y, {capacity}, wf} - 1000 \\cdot {{{{cap}^{P}}}}_{wf, ntw, y} = 0$"
      ],
      "text/plain": [
       "<IPython.core.display.Math object>"
      ]
     },
     "metadata": {},
     "output_type": "display_data"
    },
    {
     "data": {
      "text/latex": [
       "$\\displaystyle [54]\\text{   }{{{emit}}}_{gwp, ntw, y, {capacity}, pv} - 2000 \\cdot {{{{cap}^{P}}}}_{pv, ntw, y} = 0$"
      ],
      "text/plain": [
       "<IPython.core.display.Math object>"
      ]
     },
     "metadata": {},
     "output_type": "display_data"
    },
    {
     "data": {
      "text/latex": [
       "$\\displaystyle [55]\\text{   }{{{emit}}}_{gwp, ntw, y, {invcapacity}, power.lii} - 3000 \\cdot {{{cap}^{S}}}_{power.lii, ntw, y} = 0$"
      ],
      "text/plain": [
       "<IPython.core.display.Math object>"
      ]
     },
     "metadata": {},
     "output_type": "display_data"
    },
    {
     "data": {
      "text/latex": [
       "$\\displaystyle [59]\\text{   }{{{spend}}}_{usd, ntw, y, {consume}, cement} - 17 \\cdot {{{{cons}}}}_{cement, ntw, y} = 0$"
      ],
      "text/plain": [
       "<IPython.core.display.Math object>"
      ]
     },
     "metadata": {},
     "output_type": "display_data"
    },
    {
     "data": {
      "text/latex": [
       "$\\displaystyle [60]\\text{   }{{{emit}}}_{gwp, ntw, y, {consume}, cement} - 0.9 \\cdot {{{{cons}}}}_{cement, ntw, y} = 0$"
      ],
      "text/plain": [
       "<IPython.core.display.Math object>"
      ]
     },
     "metadata": {},
     "output_type": "display_data"
    },
    {
     "data": {
      "text/latex": [
       "$\\displaystyle [61]\\text{   }{{use}}_{cement, ntw, y, {capacity}, wf} - 400 \\cdot {{{{cap}^{P}}}}_{wf, ntw, y} = 0$"
      ],
      "text/plain": [
       "<IPython.core.display.Math object>"
      ]
     },
     "metadata": {},
     "output_type": "display_data"
    },
    {
     "data": {
      "text/latex": [
       "$\\displaystyle [62]\\text{   }{{{use}}}_{cement, ntw, y, {capacity}, pv} - 560 \\cdot {{{{cap}^{P}}}}_{pv, ntw, y} = 0$"
      ],
      "text/plain": [
       "<IPython.core.display.Math object>"
      ]
     },
     "metadata": {},
     "output_type": "display_data"
    },
    {
     "data": {
      "text/latex": [
       "$\\displaystyle [63]\\text{   }{{{use}}}_{cement, ntw, y, {invcapacity}, power.lii} - 300 \\cdot {{{cap}^{S}}}_{power.lii, ntw, y} = 0$"
      ],
      "text/plain": [
       "<IPython.core.display.Math object>"
      ]
     },
     "metadata": {},
     "output_type": "display_data"
    },
    {
     "data": {
      "text/latex": [
       "$\\displaystyle [69]\\text{   }{{{spend}}}_{usd, ho-sd, y, {operate}, grid} - 2000 \\cdot {{{{opr}}}}_{grid, ho-sd, y} = 0$"
      ],
      "text/plain": [
       "<IPython.core.display.Math object>"
      ]
     },
     "metadata": {},
     "output_type": "display_data"
    },
    {
     "data": {
      "text/latex": [
       "$\\displaystyle [70]\\text{   }{{{spend}}}_{usd, sd-ho, y, {operate}, grid} - 2000 \\cdot {{{{opr}}}}_{grid, sd-ho, y} = 0$"
      ],
      "text/plain": [
       "<IPython.core.display.Math object>"
      ]
     },
     "metadata": {},
     "output_type": "display_data"
    },
    {
     "data": {
      "text/latex": [
       "$\\displaystyle [72]\\text{   }{{{spend}}}_{usd, road, y, {operate}, grid} - 2000 \\cdot {{{{opr}}}}_{grid, road, y} = 0$"
      ],
      "text/plain": [
       "<IPython.core.display.Math object>"
      ]
     },
     "metadata": {},
     "output_type": "display_data"
    },
    {
     "data": {
      "text/latex": [
       "$\\displaystyle [73]\\text{   }{{{spend}}}_{usd, -road, y, {operate}, grid} - 2000 \\cdot {{{{opr}}}}_{grid, -road, y} = 0$"
      ],
      "text/plain": [
       "<IPython.core.display.Math object>"
      ]
     },
     "metadata": {},
     "output_type": "display_data"
    },
    {
     "data": {
      "text/latex": [
       "$\\displaystyle [75]\\text{   }{{{spend}}}_{usd, ntw, y, {capacity}, grid} - 1000 \\cdot {{{{cap}^{P}}}}_{grid, ntw, y} = 0$"
      ],
      "text/plain": [
       "<IPython.core.display.Math object>"
      ]
     },
     "metadata": {},
     "output_type": "display_data"
    },
    {
     "data": {
      "text/markdown": [
       "### Flow Constraint Sets"
      ],
      "text/plain": [
       "<IPython.core.display.Markdown object>"
      ]
     },
     "metadata": {},
     "output_type": "display_data"
    },
    {
     "data": {
      "text/latex": [
       "$\\displaystyle [76]\\text{   }{{{{opr}}}}_{grid, ho-sd, q} - {{{expt}}}_{power, ho, q} = 0$"
      ],
      "text/plain": [
       "<IPython.core.display.Math object>"
      ]
     },
     "metadata": {},
     "output_type": "display_data"
    },
    {
     "data": {
      "text/latex": [
       "$\\displaystyle [77]\\text{   }{{{{opr}}}}_{grid, ho-sd, q} - {{{impt}}}_{power, sd, q} = 0$"
      ],
      "text/plain": [
       "<IPython.core.display.Math object>"
      ]
     },
     "metadata": {},
     "output_type": "display_data"
    },
    {
     "data": {
      "text/latex": [
       "$\\displaystyle [78]\\text{   }{{{{opr}}}}_{grid, sd-ho, y} - {{{{expt}}}}_{power, sd, q} = 0$"
      ],
      "text/plain": [
       "<IPython.core.display.Math object>"
      ]
     },
     "metadata": {},
     "output_type": "display_data"
    },
    {
     "data": {
      "text/latex": [
       "$\\displaystyle [79]\\text{   }{{{{opr}}}}_{grid, sd-ho, y} - {{{{impt}}}}_{power, ho, q} = 0$"
      ],
      "text/plain": [
       "<IPython.core.display.Math object>"
      ]
     },
     "metadata": {},
     "output_type": "display_data"
    },
    {
     "data": {
      "text/latex": [
       "$\\displaystyle [80]\\text{   }{{{{opr}}}}_{grid, road, q} - {{{{expt}}}}_{power, ho, q} = 0$"
      ],
      "text/plain": [
       "<IPython.core.display.Math object>"
      ]
     },
     "metadata": {},
     "output_type": "display_data"
    },
    {
     "data": {
      "text/latex": [
       "$\\displaystyle [81]\\text{   }{{{{opr}}}}_{grid, road, q} - {{{{impt}}}}_{power, ny, q} = 0$"
      ],
      "text/plain": [
       "<IPython.core.display.Math object>"
      ]
     },
     "metadata": {},
     "output_type": "display_data"
    },
    {
     "data": {
      "text/latex": [
       "$\\displaystyle [82]\\text{   }{{{{opr}}}}_{grid, -road, y} - {{{{expt}}}}_{power, ny, q} = 0$"
      ],
      "text/plain": [
       "<IPython.core.display.Math object>"
      ]
     },
     "metadata": {},
     "output_type": "display_data"
    },
    {
     "data": {
      "text/latex": [
       "$\\displaystyle [83]\\text{   }{{{{opr}}}}_{grid, -road, y} - {{{{impt}}}}_{power, ho, q} = 0$"
      ],
      "text/plain": [
       "<IPython.core.display.Math object>"
      ]
     },
     "metadata": {},
     "output_type": "display_data"
    },
    {
     "data": {
      "text/latex": [
       "$\\displaystyle [84]\\text{   }{{{prod}}}_{power, ho, q, {operate}, pv} - {{{{opr}}}}_{pv, ho, q} = 0$"
      ],
      "text/plain": [
       "<IPython.core.display.Math object>"
      ]
     },
     "metadata": {},
     "output_type": "display_data"
    },
    {
     "data": {
      "text/latex": [
       "$\\displaystyle [85]\\text{   }{{{expd}}}_{solar, ho, y, {operate}, pv} - {{{{opr}}}}_{pv, ho, y} = 0$"
      ],
      "text/plain": [
       "<IPython.core.display.Math object>"
      ]
     },
     "metadata": {},
     "output_type": "display_data"
    },
    {
     "data": {
      "text/latex": [
       "$\\displaystyle [86]\\text{   }{{{{prod}}}}_{power, ho, q, {operate}, wf} - {{{{opr}}}}_{wf, ho, q} = 0$"
      ],
      "text/plain": [
       "<IPython.core.display.Math object>"
      ]
     },
     "metadata": {},
     "output_type": "display_data"
    },
    {
     "data": {
      "text/latex": [
       "$\\displaystyle [87]\\text{   }{{{{expd}}}}_{wind, ho, y, {operate}, wf} - {{{{opr}}}}_{wf, ho, y} = 0$"
      ],
      "text/plain": [
       "<IPython.core.display.Math object>"
      ]
     },
     "metadata": {},
     "output_type": "display_data"
    },
    {
     "data": {
      "text/latex": [
       "$\\displaystyle [100]\\text{   }{{{{prod}}}}_{power.lii, ho, q, {operate}, lii.charge} - {{{{opr}}}}_{lii.charge, ho, q} = 0$"
      ],
      "text/plain": [
       "<IPython.core.display.Math object>"
      ]
     },
     "metadata": {},
     "output_type": "display_data"
    },
    {
     "data": {
      "text/latex": [
       "$\\displaystyle [101]\\text{   }{{{{expd}}}}_{power, ho, q, {operate}, lii.charge} - {{{{opr}}}}_{lii.charge, ho, q} = 0$"
      ],
      "text/plain": [
       "<IPython.core.display.Math object>"
      ]
     },
     "metadata": {},
     "output_type": "display_data"
    },
    {
     "data": {
      "text/latex": [
       "$\\displaystyle [108]\\text{   }{{{{prod}}}}_{power, ho, q, {operate}, lii.discharge} - {{{{opr}}}}_{lii.discharge, ho, q} = 0$"
      ],
      "text/plain": [
       "<IPython.core.display.Math object>"
      ]
     },
     "metadata": {},
     "output_type": "display_data"
    },
    {
     "data": {
      "text/latex": [
       "$\\displaystyle [109]\\text{   }{{{{expd}}}}_{power.lii, ho, q, {operate}, lii.discharge} - 1.1111111111111112 \\cdot {{{{opr}}}}_{lii.discharge, ho, q} = 0$"
      ],
      "text/plain": [
       "<IPython.core.display.Math object>"
      ]
     },
     "metadata": {},
     "output_type": "display_data"
    },
    {
     "data": {
      "text/latex": [
       "$\\displaystyle [110]\\text{   }{{{{prod}}}}_{power, sd, q, {operate}, pv} - {{{{opr}}}}_{pv, sd, q} = 0$"
      ],
      "text/plain": [
       "<IPython.core.display.Math object>"
      ]
     },
     "metadata": {},
     "output_type": "display_data"
    },
    {
     "data": {
      "text/latex": [
       "$\\displaystyle [111]\\text{   }{{{{expd}}}}_{solar, sd, y, {operate}, pv} - {{{{opr}}}}_{pv, sd, y} = 0$"
      ],
      "text/plain": [
       "<IPython.core.display.Math object>"
      ]
     },
     "metadata": {},
     "output_type": "display_data"
    },
    {
     "data": {
      "text/latex": [
       "$\\displaystyle [112]\\text{   }{{{{prod}}}}_{power, sd, q, {operate}, wf} - {{{{opr}}}}_{wf, sd, q} = 0$"
      ],
      "text/plain": [
       "<IPython.core.display.Math object>"
      ]
     },
     "metadata": {},
     "output_type": "display_data"
    },
    {
     "data": {
      "text/latex": [
       "$\\displaystyle [113]\\text{   }{{{{expd}}}}_{wind, sd, y, {operate}, wf} - {{{{opr}}}}_{wf, sd, y} = 0$"
      ],
      "text/plain": [
       "<IPython.core.display.Math object>"
      ]
     },
     "metadata": {},
     "output_type": "display_data"
    },
    {
     "data": {
      "text/latex": [
       "$\\displaystyle [118]\\text{   }{{{{prod}}}}_{power.lii, sd, q, {operate}, lii.charge} - {{{{opr}}}}_{lii.charge, sd, q} = 0$"
      ],
      "text/plain": [
       "<IPython.core.display.Math object>"
      ]
     },
     "metadata": {},
     "output_type": "display_data"
    },
    {
     "data": {
      "text/latex": [
       "$\\displaystyle [119]\\text{   }{{{{expd}}}}_{power, sd, q, {operate}, lii.charge} - {{{{opr}}}}_{lii.charge, sd, q} = 0$"
      ],
      "text/plain": [
       "<IPython.core.display.Math object>"
      ]
     },
     "metadata": {},
     "output_type": "display_data"
    },
    {
     "data": {
      "text/latex": [
       "$\\displaystyle [122]\\text{   }{{{{prod}}}}_{power, sd, q, {operate}, lii.discharge} - {{{{opr}}}}_{lii.discharge, sd, q} = 0$"
      ],
      "text/plain": [
       "<IPython.core.display.Math object>"
      ]
     },
     "metadata": {},
     "output_type": "display_data"
    },
    {
     "data": {
      "text/latex": [
       "$\\displaystyle [123]\\text{   }{{{{expd}}}}_{power.lii, sd, q, {operate}, lii.discharge} - 1.1111111111111112 \\cdot {{{{opr}}}}_{lii.discharge, sd, q} = 0$"
      ],
      "text/plain": [
       "<IPython.core.display.Math object>"
      ]
     },
     "metadata": {},
     "output_type": "display_data"
    },
    {
     "data": {
      "text/latex": [
       "$\\displaystyle [124]\\text{   }{{{{prod}}}}_{power, ny, q, {operate}, pv} - {{{{opr}}}}_{pv, ny, q} = 0$"
      ],
      "text/plain": [
       "<IPython.core.display.Math object>"
      ]
     },
     "metadata": {},
     "output_type": "display_data"
    },
    {
     "data": {
      "text/latex": [
       "$\\displaystyle [125]\\text{   }{{{{expd}}}}_{solar, ny, y, {operate}, pv} - {{{{opr}}}}_{pv, ny, y} = 0$"
      ],
      "text/plain": [
       "<IPython.core.display.Math object>"
      ]
     },
     "metadata": {},
     "output_type": "display_data"
    },
    {
     "data": {
      "text/latex": [
       "$\\displaystyle [126]\\text{   }{{{{prod}}}}_{power, ny, q, {operate}, wf} - {{{{opr}}}}_{wf, ny, q} = 0$"
      ],
      "text/plain": [
       "<IPython.core.display.Math object>"
      ]
     },
     "metadata": {},
     "output_type": "display_data"
    },
    {
     "data": {
      "text/latex": [
       "$\\displaystyle [127]\\text{   }{{{{expd}}}}_{wind, ny, y, {operate}, wf} - {{{{opr}}}}_{wf, ny, y} = 0$"
      ],
      "text/plain": [
       "<IPython.core.display.Math object>"
      ]
     },
     "metadata": {},
     "output_type": "display_data"
    },
    {
     "data": {
      "text/latex": [
       "$\\displaystyle [132]\\text{   }{{{{prod}}}}_{power.lii, ny, q, {operate}, lii.charge} - {{{{opr}}}}_{lii.charge, ny, q} = 0$"
      ],
      "text/plain": [
       "<IPython.core.display.Math object>"
      ]
     },
     "metadata": {},
     "output_type": "display_data"
    },
    {
     "data": {
      "text/latex": [
       "$\\displaystyle [133]\\text{   }{{{{expd}}}}_{power, ny, q, {operate}, lii.charge} - {{{{opr}}}}_{lii.charge, ny, q} = 0$"
      ],
      "text/plain": [
       "<IPython.core.display.Math object>"
      ]
     },
     "metadata": {},
     "output_type": "display_data"
    },
    {
     "data": {
      "text/latex": [
       "$\\displaystyle [136]\\text{   }{{{{prod}}}}_{power, ny, q, {operate}, lii.discharge} - {{{{opr}}}}_{lii.discharge, ny, q} = 0$"
      ],
      "text/plain": [
       "<IPython.core.display.Math object>"
      ]
     },
     "metadata": {},
     "output_type": "display_data"
    },
    {
     "data": {
      "text/latex": [
       "$\\displaystyle [137]\\text{   }{{{{expd}}}}_{power.lii, ny, q, {operate}, lii.discharge} - 1.1111111111111112 \\cdot {{{{opr}}}}_{lii.discharge, ny, q} = 0$"
      ],
      "text/plain": [
       "<IPython.core.display.Math object>"
      ]
     },
     "metadata": {},
     "output_type": "display_data"
    },
    {
     "data": {
      "text/markdown": [
       "### General Resource Balance Constraint Sets"
      ],
      "text/plain": [
       "<IPython.core.display.Markdown object>"
      ]
     },
     "metadata": {},
     "output_type": "display_data"
    },
    {
     "data": {
      "text/latex": [
       "$\\displaystyle [0]\\text{   }{{{cons}}}_{solar, ntw, y} = 0$"
      ],
      "text/plain": [
       "<IPython.core.display.Math object>"
      ]
     },
     "metadata": {},
     "output_type": "display_data"
    },
    {
     "data": {
      "text/latex": [
       "$\\displaystyle [2]\\text{   }{{{{cons}}}}_{wind, ntw, y} = 0$"
      ],
      "text/plain": [
       "<IPython.core.display.Math object>"
      ]
     },
     "metadata": {},
     "output_type": "display_data"
    },
    {
     "data": {
      "text/latex": [
       "$\\displaystyle [4]\\text{   }-{{{rlse}}}_{power, ho, q} - {{{expt}}}_{power, ho, q} + {{{{impt}}}}_{power, ho, q} + {{{prod}}}_{power, ho, q, {operate}, pv} + {{{{prod}}}}_{power, ho, q, {operate}, wf} - {{{{expd}}}}_{power, ho, q, {operate}, lii.charge} + {{{{prod}}}}_{power, ho, q, {operate}, lii.discharge} = 0$"
      ],
      "text/plain": [
       "<IPython.core.display.Math object>"
      ]
     },
     "metadata": {},
     "output_type": "display_data"
    },
    {
     "data": {
      "text/latex": [
       "$\\displaystyle [6]\\text{   }-{{{{rlse}}}}_{power, sd, q} + {{{impt}}}_{power, sd, q} - {{{{expt}}}}_{power, sd, q} + {{{{prod}}}}_{power, sd, q, {operate}, pv} + {{{{prod}}}}_{power, sd, q, {operate}, wf} - {{{{expd}}}}_{power, sd, q, {operate}, lii.charge} + {{{{prod}}}}_{power, sd, q, {operate}, lii.discharge} = 0$"
      ],
      "text/plain": [
       "<IPython.core.display.Math object>"
      ]
     },
     "metadata": {},
     "output_type": "display_data"
    },
    {
     "data": {
      "text/latex": [
       "$\\displaystyle [8]\\text{   }-{{{{rlse}}}}_{power, ny, q} + {{{{impt}}}}_{power, ny, q} - {{{{expt}}}}_{power, ny, q} + {{{{prod}}}}_{power, ny, q, {operate}, pv} + {{{{prod}}}}_{power, ny, q, {operate}, wf} - {{{{expd}}}}_{power, ny, q, {operate}, lii.charge} + {{{{prod}}}}_{power, ny, q, {operate}, lii.discharge} = 0$"
      ],
      "text/plain": [
       "<IPython.core.display.Math object>"
      ]
     },
     "metadata": {},
     "output_type": "display_data"
    },
    {
     "data": {
      "text/latex": [
       "$\\displaystyle [56]\\text{   }{{{{cons}}}}_{cement, ntw, y} - {{use}}_{cement, ntw, y, {capacity}, wf} - {{{use}}}_{cement, ntw, y, {capacity}, pv} - {{{use}}}_{cement, ntw, y, {invcapacity}, power.lii} = 0$"
      ],
      "text/plain": [
       "<IPython.core.display.Math object>"
      ]
     },
     "metadata": {},
     "output_type": "display_data"
    },
    {
     "data": {
      "text/latex": [
       "$\\displaystyle [91]\\text{   }-{{{{inv}}}}_{power.lii, ntw, q} + {{{{inv}}}}_{power.lii, ntw, q-1} = 0$"
      ],
      "text/plain": [
       "<IPython.core.display.Math object>"
      ]
     },
     "metadata": {},
     "output_type": "display_data"
    },
    {
     "data": {
      "text/latex": [
       "$\\displaystyle [92]\\text{   }-{{{{inv}}}}_{power.lii, ho, q} + {{{{inv}}}}_{power.lii, ho, q-1} + {{{{prod}}}}_{power.lii, ho, q, {operate}, lii.charge} - {{{{expd}}}}_{power.lii, ho, q, {operate}, lii.discharge} = 0$"
      ],
      "text/plain": [
       "<IPython.core.display.Math object>"
      ]
     },
     "metadata": {},
     "output_type": "display_data"
    },
    {
     "data": {
      "text/latex": [
       "$\\displaystyle [114]\\text{   }-{{{{inv}}}}_{power.lii, sd, q} + {{{{inv}}}}_{power.lii, sd, q-1} + {{{{prod}}}}_{power.lii, sd, q, {operate}, lii.charge} - {{{{expd}}}}_{power.lii, sd, q, {operate}, lii.discharge} = 0$"
      ],
      "text/plain": [
       "<IPython.core.display.Math object>"
      ]
     },
     "metadata": {},
     "output_type": "display_data"
    },
    {
     "data": {
      "text/latex": [
       "$\\displaystyle [128]\\text{   }-{{{{inv}}}}_{power.lii, ny, q} + {{{{inv}}}}_{power.lii, ny, q-1} + {{{{prod}}}}_{power.lii, ny, q, {operate}, lii.charge} - {{{{expd}}}}_{power.lii, ny, q, {operate}, lii.discharge} = 0$"
      ],
      "text/plain": [
       "<IPython.core.display.Math object>"
      ]
     },
     "metadata": {},
     "output_type": "display_data"
    },
    {
     "data": {
      "text/markdown": [
       "### Map Constraint Sets"
      ],
      "text/plain": [
       "<IPython.core.display.Markdown object>"
      ]
     },
     "metadata": {},
     "output_type": "display_data"
    },
    {
     "data": {
      "text/latex": [
       "$\\displaystyle [22]\\text{   }{{{spend}}}_{usd, ntw, y, {operate}, wf} - {{{spend}}}_{usd, ho, y, {operate}, wf} - {{{spend}}}_{usd, sd, y, {operate}, wf} - {{{spend}}}_{usd, ny, y, {operate}, wf} = 0$"
      ],
      "text/plain": [
       "<IPython.core.display.Math object>"
      ]
     },
     "metadata": {},
     "output_type": "display_data"
    },
    {
     "data": {
      "text/latex": [
       "$\\displaystyle [23]\\text{   }{{{{opr}}}}_{wf, ho, y} - \\sum_{i \\in q} {{{{opr}}}}_{wf, ho, i} = 0$"
      ],
      "text/plain": [
       "<IPython.core.display.Math object>"
      ]
     },
     "metadata": {},
     "output_type": "display_data"
    },
    {
     "data": {
      "text/latex": [
       "$\\displaystyle [24]\\text{   }{{{{opr}}}}_{wf, ntw, y} - {{{{opr}}}}_{wf, ho, y} - {{{{opr}}}}_{wf, sd, y} - {{{{opr}}}}_{wf, ny, y} = 0$"
      ],
      "text/plain": [
       "<IPython.core.display.Math object>"
      ]
     },
     "metadata": {},
     "output_type": "display_data"
    },
    {
     "data": {
      "text/latex": [
       "$\\displaystyle [25]\\text{   }{{{{opr}}}}_{wf, sd, y} - \\sum_{i \\in q} {{{{opr}}}}_{wf, sd, i} = 0$"
      ],
      "text/plain": [
       "<IPython.core.display.Math object>"
      ]
     },
     "metadata": {},
     "output_type": "display_data"
    },
    {
     "data": {
      "text/latex": [
       "$\\displaystyle [26]\\text{   }{{{{opr}}}}_{wf, ny, y} - \\sum_{i \\in q} {{{{opr}}}}_{wf, ny, i} = 0$"
      ],
      "text/plain": [
       "<IPython.core.display.Math object>"
      ]
     },
     "metadata": {},
     "output_type": "display_data"
    },
    {
     "data": {
      "text/latex": [
       "$\\displaystyle [30]\\text{   }{{{{cap}^{P}}}}_{pv, ntw, y} - {{{{cap}^{P}}}}_{pv, sd, y} - {{{{cap}^{P}}}}_{pv, ho, y} - {{{{cap}^{P}}}}_{pv, ny, y} = 0$"
      ],
      "text/plain": [
       "<IPython.core.display.Math object>"
      ]
     },
     "metadata": {},
     "output_type": "display_data"
    },
    {
     "data": {
      "text/latex": [
       "$\\displaystyle [34]\\text{   }{{{spend}}}_{usd, ntw, y, {capacity}, pv} - {{{spend}}}_{usd, ho, y, {capacity}, pv} - {{{spend}}}_{usd, sd, y, {capacity}, pv} - {{{spend}}}_{usd, ny, y, {capacity}, pv} = 0$"
      ],
      "text/plain": [
       "<IPython.core.display.Math object>"
      ]
     },
     "metadata": {},
     "output_type": "display_data"
    },
    {
     "data": {
      "text/latex": [
       "$\\displaystyle [36]\\text{   }{{{spend}}}_{usd, ntw, y, {operate}, pv} - {{{spend}}}_{usd, ho, y, {operate}, pv} - {{{spend}}}_{usd, sd, y, {operate}, pv} - {{{spend}}}_{usd, ny, y, {operate}, pv} = 0$"
      ],
      "text/plain": [
       "<IPython.core.display.Math object>"
      ]
     },
     "metadata": {},
     "output_type": "display_data"
    },
    {
     "data": {
      "text/latex": [
       "$\\displaystyle [37]\\text{   }{{{{opr}}}}_{pv, ho, y} - \\sum_{i \\in q} {{{{opr}}}}_{pv, ho, i} = 0$"
      ],
      "text/plain": [
       "<IPython.core.display.Math object>"
      ]
     },
     "metadata": {},
     "output_type": "display_data"
    },
    {
     "data": {
      "text/latex": [
       "$\\displaystyle [38]\\text{   }{{{{opr}}}}_{pv, ntw, y} - {{{{opr}}}}_{pv, ho, y} - {{{{opr}}}}_{pv, sd, y} - {{{{opr}}}}_{pv, ny, y} = 0$"
      ],
      "text/plain": [
       "<IPython.core.display.Math object>"
      ]
     },
     "metadata": {},
     "output_type": "display_data"
    },
    {
     "data": {
      "text/latex": [
       "$\\displaystyle [39]\\text{   }{{{{opr}}}}_{pv, sd, y} - \\sum_{i \\in q} {{{{opr}}}}_{pv, sd, i} = 0$"
      ],
      "text/plain": [
       "<IPython.core.display.Math object>"
      ]
     },
     "metadata": {},
     "output_type": "display_data"
    },
    {
     "data": {
      "text/latex": [
       "$\\displaystyle [40]\\text{   }{{{{opr}}}}_{pv, ny, y} - \\sum_{i \\in q} {{{{opr}}}}_{pv, ny, i} = 0$"
      ],
      "text/plain": [
       "<IPython.core.display.Math object>"
      ]
     },
     "metadata": {},
     "output_type": "display_data"
    },
    {
     "data": {
      "text/latex": [
       "$\\displaystyle [44]\\text{   }{{{spend}}}_{usd, ntw, y, {invcapacity}, power.lii} - {{{spend}}}_{usd, ho, y, {invcapacity}, power.lii} - {{{spend}}}_{usd, sd, y, {invcapacity}, power.lii} - {{{spend}}}_{usd, ny, y, {invcapacity}, power.lii} = 0$"
      ],
      "text/plain": [
       "<IPython.core.display.Math object>"
      ]
     },
     "metadata": {},
     "output_type": "display_data"
    },
    {
     "data": {
      "text/latex": [
       "$\\displaystyle [46]\\text{   }{{{spend}}}_{usd, ntw, y, {inventory}, power.lii} - {{{spend}}}_{usd, ho, y, {inventory}, power.lii} - {{{spend}}}_{usd, sd, y, {inventory}, power.lii} - {{{spend}}}_{usd, ny, y, {inventory}, power.lii} = 0$"
      ],
      "text/plain": [
       "<IPython.core.display.Math object>"
      ]
     },
     "metadata": {},
     "output_type": "display_data"
    },
    {
     "data": {
      "text/latex": [
       "$\\displaystyle [52]\\text{   }{{{{cap}^{P}}}}_{wf, ntw, y} - {{{{cap}^{P}}}}_{wf, ho, y} - {{{{cap}^{P}}}}_{wf, sd, y} - {{{{cap}^{P}}}}_{wf, ny, y} = 0$"
      ],
      "text/plain": [
       "<IPython.core.display.Math object>"
      ]
     },
     "metadata": {},
     "output_type": "display_data"
    },
    {
     "data": {
      "text/latex": [
       "$\\displaystyle [58]\\text{   }{{{spend}}}_{usd, ntw, y, {consume}, cement} - {{{spend}}}_{usd, ho, y, {consume}, cement} - {{{spend}}}_{usd, sd, y, {consume}, cement} - {{{spend}}}_{usd, ny, y, {consume}, cement} = 0$"
      ],
      "text/plain": [
       "<IPython.core.display.Math object>"
      ]
     },
     "metadata": {},
     "output_type": "display_data"
    },
    {
     "data": {
      "text/latex": [
       "$\\displaystyle [68]\\text{   }{{{{opr}}}}_{grid, ho-sd, y} - \\sum_{i \\in q} {{{{opr}}}}_{grid, ho-sd, i} = 0$"
      ],
      "text/plain": [
       "<IPython.core.display.Math object>"
      ]
     },
     "metadata": {},
     "output_type": "display_data"
    },
    {
     "data": {
      "text/latex": [
       "$\\displaystyle [71]\\text{   }{{{{opr}}}}_{grid, road, y} - \\sum_{i \\in q} {{{{opr}}}}_{grid, road, i} = 0$"
      ],
      "text/plain": [
       "<IPython.core.display.Math object>"
      ]
     },
     "metadata": {},
     "output_type": "display_data"
    },
    {
     "data": {
      "text/latex": [
       "$\\displaystyle [74]\\text{   }{{{spend}}}_{usd, ntw, y, {capacity}, grid} - {{{spend}}}_{usd, ho, y, {capacity}, grid} - {{{spend}}}_{usd, sd, y, {capacity}, grid} - {{{spend}}}_{usd, ny, y, {capacity}, grid} = 0$"
      ],
      "text/plain": [
       "<IPython.core.display.Math object>"
      ]
     },
     "metadata": {},
     "output_type": "display_data"
    },
    {
     "data": {
      "text/latex": [
       "$\\displaystyle [88]\\text{   }{{{{cap}^{S}}}}_{power.lii, ntw, y} - {{{{cap}^{S}}}}_{power.lii, ho, y} - {{{{cap}^{S}}}}_{power.lii, sd, y} - {{{{cap}^{S}}}}_{power.lii, ny, y} = 0$"
      ],
      "text/plain": [
       "<IPython.core.display.Math object>"
      ]
     },
     "metadata": {},
     "output_type": "display_data"
    },
    {
     "data": {
      "text/latex": [
       "$\\displaystyle [89]\\text{   }{{{{inv}}}}_{power.lii, ntw, y} - \\sum_{i \\in q} {{{{inv}}}}_{power.lii, ntw, i} = 0$"
      ],
      "text/plain": [
       "<IPython.core.display.Math object>"
      ]
     },
     "metadata": {},
     "output_type": "display_data"
    },
    {
     "data": {
      "text/latex": [
       "$\\displaystyle [90]\\text{   }{{{{inv}}}}_{power.lii, ntw, q} - {{{{inv}}}}_{power.lii, ho, q} - {{{{inv}}}}_{power.lii, sd, q} - {{{{inv}}}}_{power.lii, ny, q} = 0$"
      ],
      "text/plain": [
       "<IPython.core.display.Math object>"
      ]
     },
     "metadata": {},
     "output_type": "display_data"
    },
    {
     "data": {
      "text/latex": [
       "$\\displaystyle [94]\\text{   }{{{{cap}^{P}}}}_{lii.charge, ntw, y} - {{{{cap}^{P}}}}_{lii.charge, ho, y} - {{{{cap}^{P}}}}_{lii.charge, sd, y} - {{{{cap}^{P}}}}_{lii.charge, ny, y} = 0$"
      ],
      "text/plain": [
       "<IPython.core.display.Math object>"
      ]
     },
     "metadata": {},
     "output_type": "display_data"
    },
    {
     "data": {
      "text/latex": [
       "$\\displaystyle [95]\\text{   }{{{{opr}}}}_{lii.charge, ntw, y} - {{{{opr}}}}_{lii.charge, ho, y} - {{{{opr}}}}_{lii.charge, sd, y} - {{{{opr}}}}_{lii.charge, ny, y} = 0$"
      ],
      "text/plain": [
       "<IPython.core.display.Math object>"
      ]
     },
     "metadata": {},
     "output_type": "display_data"
    },
    {
     "data": {
      "text/latex": [
       "$\\displaystyle [97]\\text{   }{{{{opr}}}}_{lii.charge, ho, y} - \\sum_{i \\in q} {{{{opr}}}}_{lii.charge, ho, i} = 0$"
      ],
      "text/plain": [
       "<IPython.core.display.Math object>"
      ]
     },
     "metadata": {},
     "output_type": "display_data"
    },
    {
     "data": {
      "text/latex": [
       "$\\displaystyle [98]\\text{   }{{{{opr}}}}_{lii.charge, ntw, y} - \\sum_{i \\in q} {{{{opr}}}}_{lii.charge, ntw, i} = 0$"
      ],
      "text/plain": [
       "<IPython.core.display.Math object>"
      ]
     },
     "metadata": {},
     "output_type": "display_data"
    },
    {
     "data": {
      "text/latex": [
       "$\\displaystyle [99]\\text{   }{{{{opr}}}}_{lii.charge, ntw, q} - {{{{opr}}}}_{lii.charge, ho, q} - {{{{opr}}}}_{lii.charge, sd, q} - {{{{opr}}}}_{lii.charge, ny, q} = 0$"
      ],
      "text/plain": [
       "<IPython.core.display.Math object>"
      ]
     },
     "metadata": {},
     "output_type": "display_data"
    },
    {
     "data": {
      "text/latex": [
       "$\\displaystyle [102]\\text{   }{{{{cap}^{P}}}}_{lii.discharge, ntw, y} - {{{{cap}^{P}}}}_{lii.discharge, ho, y} - {{{{cap}^{P}}}}_{lii.discharge, sd, y} - {{{{cap}^{P}}}}_{lii.discharge, ny, y} = 0$"
      ],
      "text/plain": [
       "<IPython.core.display.Math object>"
      ]
     },
     "metadata": {},
     "output_type": "display_data"
    },
    {
     "data": {
      "text/latex": [
       "$\\displaystyle [103]\\text{   }{{{{opr}}}}_{lii.discharge, ntw, y} - {{{{opr}}}}_{lii.discharge, ho, y} - {{{{opr}}}}_{lii.discharge, sd, y} - {{{{opr}}}}_{lii.discharge, ny, y} = 0$"
      ],
      "text/plain": [
       "<IPython.core.display.Math object>"
      ]
     },
     "metadata": {},
     "output_type": "display_data"
    },
    {
     "data": {
      "text/latex": [
       "$\\displaystyle [105]\\text{   }{{{{opr}}}}_{lii.discharge, ho, y} - \\sum_{i \\in q} {{{{opr}}}}_{lii.discharge, ho, i} = 0$"
      ],
      "text/plain": [
       "<IPython.core.display.Math object>"
      ]
     },
     "metadata": {},
     "output_type": "display_data"
    },
    {
     "data": {
      "text/latex": [
       "$\\displaystyle [106]\\text{   }{{{{opr}}}}_{lii.discharge, ntw, y} - \\sum_{i \\in q} {{{{opr}}}}_{lii.discharge, ntw, i} = 0$"
      ],
      "text/plain": [
       "<IPython.core.display.Math object>"
      ]
     },
     "metadata": {},
     "output_type": "display_data"
    },
    {
     "data": {
      "text/latex": [
       "$\\displaystyle [107]\\text{   }{{{{opr}}}}_{lii.discharge, ntw, q} - {{{{opr}}}}_{lii.discharge, ho, q} - {{{{opr}}}}_{lii.discharge, sd, q} - {{{{opr}}}}_{lii.discharge, ny, q} = 0$"
      ],
      "text/plain": [
       "<IPython.core.display.Math object>"
      ]
     },
     "metadata": {},
     "output_type": "display_data"
    },
    {
     "data": {
      "text/latex": [
       "$\\displaystyle [117]\\text{   }{{{{opr}}}}_{lii.charge, sd, y} - \\sum_{i \\in q} {{{{opr}}}}_{lii.charge, sd, i} = 0$"
      ],
      "text/plain": [
       "<IPython.core.display.Math object>"
      ]
     },
     "metadata": {},
     "output_type": "display_data"
    },
    {
     "data": {
      "text/latex": [
       "$\\displaystyle [121]\\text{   }{{{{opr}}}}_{lii.discharge, sd, y} - \\sum_{i \\in q} {{{{opr}}}}_{lii.discharge, sd, i} = 0$"
      ],
      "text/plain": [
       "<IPython.core.display.Math object>"
      ]
     },
     "metadata": {},
     "output_type": "display_data"
    },
    {
     "data": {
      "text/latex": [
       "$\\displaystyle [131]\\text{   }{{{{opr}}}}_{lii.charge, ny, y} - \\sum_{i \\in q} {{{{opr}}}}_{lii.charge, ny, i} = 0$"
      ],
      "text/plain": [
       "<IPython.core.display.Math object>"
      ]
     },
     "metadata": {},
     "output_type": "display_data"
    },
    {
     "data": {
      "text/latex": [
       "$\\displaystyle [135]\\text{   }{{{{opr}}}}_{lii.discharge, ny, y} - \\sum_{i \\in q} {{{{opr}}}}_{lii.discharge, ny, i} = 0$"
      ],
      "text/plain": [
       "<IPython.core.display.Math object>"
      ]
     },
     "metadata": {},
     "output_type": "display_data"
    }
   ],
   "source": [
    "m.show()"
   ]
  },
  {
   "cell_type": "code",
   "execution_count": null,
   "id": "013192d9",
   "metadata": {},
   "outputs": [
    {
     "data": {
      "text/latex": [
       "$\\displaystyle [0]\\text{   }{{{cons}}}_{solar, ntw, y} - {{{expd}}}_{solar, pv, ho, y} - {{{{expd}}}}_{solar, pv, sd, y} - {{{{expd}}}}_{solar, pv, ny, y} = 0$"
      ],
      "text/plain": [
       "<IPython.core.display.Math object>"
      ]
     },
     "metadata": {},
     "output_type": "display_data"
    },
    {
     "data": {
      "text/latex": [
       "$\\displaystyle [1]\\text{   }{{{cons}}}_{solar, ntw, y} - 1200 \\leq 0$"
      ],
      "text/plain": [
       "<IPython.core.display.Math object>"
      ]
     },
     "metadata": {},
     "output_type": "display_data"
    },
    {
     "data": {
      "text/latex": [
       "$\\displaystyle [70]\\text{   }{{{{opr}}}}_{pv, ho, y} - {{{expd}}}_{solar, pv, ho, y} = 0$"
      ],
      "text/plain": [
       "<IPython.core.display.Math object>"
      ]
     },
     "metadata": {},
     "output_type": "display_data"
    },
    {
     "data": {
      "text/latex": [
       "$\\displaystyle [84]\\text{   }{{{{opr}}}}_{pv, sd, y} - {{{{expd}}}}_{solar, pv, sd, y} = 0$"
      ],
      "text/plain": [
       "<IPython.core.display.Math object>"
      ]
     },
     "metadata": {},
     "output_type": "display_data"
    },
    {
     "data": {
      "text/latex": [
       "$\\displaystyle [96]\\text{   }{{{{opr}}}}_{pv, ny, y} - {{{{expd}}}}_{solar, pv, ny, y} = 0$"
      ],
      "text/plain": [
       "<IPython.core.display.Math object>"
      ]
     },
     "metadata": {},
     "output_type": "display_data"
    }
   ],
   "source": [
    "m.solar.show()"
   ]
  },
  {
   "cell_type": "code",
   "execution_count": null,
   "id": "de89149e",
   "metadata": {},
   "outputs": [
    {
     "name": "stdout",
     "output_type": "stream",
     "text": [
      "bbbb spend (usd, ntw, y) False\n",
      "--- Mapping spend: from (usd, capacity, wf, sd, y) to (usd, ntw, y)\n",
      "--- Mapping spend: from (usd, capacity, wf, ho, y) to (usd, ntw, y)\n",
      "--- Mapping spend: from (usd, capacity, wf, ny, y) to (usd, ntw, y)\n",
      "--- Mapping spend: from (usd, operate, wf, ntw, y) to (usd, ntw, y)\n",
      "--- Mapping spend: from (usd, capacity, pv, ntw, y) to (usd, ntw, y)\n",
      "--- Mapping spend: from (usd, operate, pv, ntw, y) to (usd, ntw, y)\n",
      "--- Mapping spend: from (usd, capacity, lii, ntw, y) to (usd, ntw, y)\n",
      "--- Mapping spend: from (usd, operate, lii, ntw, y) to (usd, ntw, y)\n",
      "--- Mapping spend: from (usd, consume, cement, ntw, y) to (usd, ntw, y)\n",
      "--- Mapping spend: from (usd, operate, grid, ho-sd, y) to (usd, ntw, y)\n",
      "--- Mapping spend: from (usd, operate, grid, sd-ho, y) to (usd, ntw, y)\n",
      "--- Mapping spend: from (usd, operate, grid, road, y) to (usd, ntw, y)\n",
      "--- Mapping spend: from (usd, operate, grid, -road, y) to (usd, ntw, y)\n",
      "--- Mapping spend: from (usd, capacity, grid, ntw, y) to (usd, ntw, y)\n",
      "--- Generating example4.mps\n",
      "--- Creating gurobi model for example4\n",
      "Set parameter Username\n"
     ]
    },
    {
     "name": "stdout",
     "output_type": "stream",
     "text": [
      "Academic license - for non-commercial use only - expires 2026-08-01\n",
      "Warning: column name V102 in bound section not defined\n",
      "Warning: column name V103 in bound section not defined\n",
      "Read MPS format model from file example4.mps\n",
      "Reading time = 0.00 seconds\n",
      "EXAMPLE4: 233 rows, 241 columns, 572 nonzeros\n",
      "--- Optimizing example4 using gurobi\n",
      "Gurobi Optimizer version 12.0.3 build v12.0.3rc0 (win64 - Windows 11.0 (26100.2))\n",
      "\n",
      "CPU model: 13th Gen Intel(R) Core(TM) i7-13700, instruction set [SSE2|AVX|AVX2]\n",
      "Thread count: 16 physical cores, 24 logical processors, using up to 24 threads\n",
      "\n",
      "Optimize a model with 233 rows, 241 columns and 572 nonzeros\n",
      "Model fingerprint: 0x30d71bce\n",
      "Variable types: 234 continuous, 7 integer (7 binary)\n",
      "Coefficient statistics:\n",
      "  Matrix range     [3e-01, 1e+06]\n",
      "  Objective range  [1e+00, 1e+00]\n",
      "  Bounds range     [1e+00, 1e+00]\n",
      "  RHS range        [1e+01, 1e+06]\n",
      "Presolve removed 166 rows and 170 columns\n",
      "Presolve time: 0.00s\n",
      "\n",
      "Explored 0 nodes (0 simplex iterations) in 0.00 seconds (0.00 work units)\n",
      "Thread count was 1 (of 24 available processors)\n",
      "\n",
      "Solution count 0\n",
      "\n",
      "Model is infeasible\n",
      "Best objective -, best bound -, gap -\n",
      "--- Solution found. Use .sol() to display it\n",
      "!!! No solution found. Check the model.\n"
     ]
    }
   ],
   "source": [
    "m.usd.spend.opt()"
   ]
  },
  {
   "cell_type": "code",
   "execution_count": null,
   "id": "f134bd09",
   "metadata": {},
   "outputs": [
    {
     "data": {
      "text/plain": [
       "'Use .opt() to generate solution'"
      ]
     },
     "execution_count": 21,
     "metadata": {},
     "output_type": "execute_result"
    }
   ],
   "source": [
    "m.sol()"
   ]
  },
  {
   "cell_type": "code",
   "execution_count": null,
   "id": "bb69f58c",
   "metadata": {},
   "outputs": [
    {
     "data": {
      "text/latex": [
       "$\\displaystyle {{{expt}}}_{power, grid, ho, q{0}}=None$"
      ],
      "text/plain": [
       "<IPython.core.display.Math object>"
      ]
     },
     "metadata": {},
     "output_type": "display_data"
    },
    {
     "data": {
      "text/latex": [
       "$\\displaystyle {{{expt}}}_{power, grid, ho, q{1}}=None$"
      ],
      "text/plain": [
       "<IPython.core.display.Math object>"
      ]
     },
     "metadata": {},
     "output_type": "display_data"
    },
    {
     "data": {
      "text/latex": [
       "$\\displaystyle {{{expt}}}_{power, grid, ho, q{2}}=None$"
      ],
      "text/plain": [
       "<IPython.core.display.Math object>"
      ]
     },
     "metadata": {},
     "output_type": "display_data"
    },
    {
     "data": {
      "text/latex": [
       "$\\displaystyle {{{expt}}}_{power, grid, ho, q{3}}=None$"
      ],
      "text/plain": [
       "<IPython.core.display.Math object>"
      ]
     },
     "metadata": {},
     "output_type": "display_data"
    },
    {
     "data": {
      "text/latex": [
       "$\\displaystyle {{{expt}}}_{power, grid, sd, y{0}}=None$"
      ],
      "text/plain": [
       "<IPython.core.display.Math object>"
      ]
     },
     "metadata": {},
     "output_type": "display_data"
    },
    {
     "data": {
      "text/latex": [
       "$\\displaystyle {{{expt}}}_{power, grid, ny, y{0}}=None$"
      ],
      "text/plain": [
       "<IPython.core.display.Math object>"
      ]
     },
     "metadata": {},
     "output_type": "display_data"
    }
   ],
   "source": [
    "m.export.sol()"
   ]
  },
  {
   "cell_type": "code",
   "execution_count": null,
   "id": "f541a9ba",
   "metadata": {},
   "outputs": [
    {
     "data": {
      "text/latex": [
       "$\\displaystyle {{spend}}_{usd, capacity, wf, sd, y{0}}=None$"
      ],
      "text/plain": [
       "<IPython.core.display.Math object>"
      ]
     },
     "metadata": {},
     "output_type": "display_data"
    },
    {
     "data": {
      "text/latex": [
       "$\\displaystyle {{spend}}_{usd, capacity, wf, ho, y{0}}=None$"
      ],
      "text/plain": [
       "<IPython.core.display.Math object>"
      ]
     },
     "metadata": {},
     "output_type": "display_data"
    },
    {
     "data": {
      "text/latex": [
       "$\\displaystyle {{spend}}_{usd, capacity, wf, ny, y{0}}=None$"
      ],
      "text/plain": [
       "<IPython.core.display.Math object>"
      ]
     },
     "metadata": {},
     "output_type": "display_data"
    },
    {
     "data": {
      "text/latex": [
       "$\\displaystyle {{spend}}_{usd, operate, wf, ntw, y{0}}=None$"
      ],
      "text/plain": [
       "<IPython.core.display.Math object>"
      ]
     },
     "metadata": {},
     "output_type": "display_data"
    },
    {
     "data": {
      "text/latex": [
       "$\\displaystyle {{spend}}_{usd, capacity, pv, ntw, y{0}}=None$"
      ],
      "text/plain": [
       "<IPython.core.display.Math object>"
      ]
     },
     "metadata": {},
     "output_type": "display_data"
    },
    {
     "data": {
      "text/latex": [
       "$\\displaystyle {{spend}}_{usd, operate, pv, ntw, y{0}}=None$"
      ],
      "text/plain": [
       "<IPython.core.display.Math object>"
      ]
     },
     "metadata": {},
     "output_type": "display_data"
    },
    {
     "data": {
      "text/latex": [
       "$\\displaystyle {{spend}}_{usd, capacity, lii, ntw, y{0}}=None$"
      ],
      "text/plain": [
       "<IPython.core.display.Math object>"
      ]
     },
     "metadata": {},
     "output_type": "display_data"
    },
    {
     "data": {
      "text/latex": [
       "$\\displaystyle {{spend}}_{usd, operate, lii, ntw, y{0}}=None$"
      ],
      "text/plain": [
       "<IPython.core.display.Math object>"
      ]
     },
     "metadata": {},
     "output_type": "display_data"
    },
    {
     "data": {
      "text/latex": [
       "$\\displaystyle {{spend}}_{usd, consume, cement, ntw, y{0}}=None$"
      ],
      "text/plain": [
       "<IPython.core.display.Math object>"
      ]
     },
     "metadata": {},
     "output_type": "display_data"
    },
    {
     "data": {
      "text/latex": [
       "$\\displaystyle {{spend}}_{usd, operate, grid, ho-sd, y{0}}=None$"
      ],
      "text/plain": [
       "<IPython.core.display.Math object>"
      ]
     },
     "metadata": {},
     "output_type": "display_data"
    },
    {
     "data": {
      "text/latex": [
       "$\\displaystyle {{spend}}_{usd, operate, grid, sd-ho, y{0}}=None$"
      ],
      "text/plain": [
       "<IPython.core.display.Math object>"
      ]
     },
     "metadata": {},
     "output_type": "display_data"
    },
    {
     "data": {
      "text/latex": [
       "$\\displaystyle {{spend}}_{usd, operate, grid, road, y{0}}=None$"
      ],
      "text/plain": [
       "<IPython.core.display.Math object>"
      ]
     },
     "metadata": {},
     "output_type": "display_data"
    },
    {
     "data": {
      "text/latex": [
       "$\\displaystyle {{spend}}_{usd, operate, grid, -road, y{0}}=None$"
      ],
      "text/plain": [
       "<IPython.core.display.Math object>"
      ]
     },
     "metadata": {},
     "output_type": "display_data"
    },
    {
     "data": {
      "text/latex": [
       "$\\displaystyle {{spend}}_{usd, capacity, grid, ntw, y{0}}=None$"
      ],
      "text/plain": [
       "<IPython.core.display.Math object>"
      ]
     },
     "metadata": {},
     "output_type": "display_data"
    },
    {
     "data": {
      "text/latex": [
       "$\\displaystyle {{spend}}_{usd, ntw, y{0}}=None$"
      ],
      "text/plain": [
       "<IPython.core.display.Math object>"
      ]
     },
     "metadata": {},
     "output_type": "display_data"
    }
   ],
   "source": [
    "m.spend.sol()"
   ]
  }
 ],
 "metadata": {
  "kernelspec": {
   "display_name": ".venv",
   "language": "python",
   "name": "python3"
  },
  "language_info": {
   "codemirror_mode": {
    "name": "ipython",
    "version": 3
   },
   "file_extension": ".py",
   "mimetype": "text/x-python",
   "name": "python",
   "nbconvert_exporter": "python",
   "pygments_lexer": "ipython3",
   "version": "3.13.7"
  }
 },
 "nbformat": 4,
 "nbformat_minor": 5
}
