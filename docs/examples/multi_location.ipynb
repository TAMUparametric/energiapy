{
 "cells": [
  {
   "cell_type": "markdown",
   "id": "686ba0d6",
   "metadata": {},
   "source": [
    "# Multi Location, Multiple Temporal Scales, Multiple Operations Including Transport, Mixed Integer Linear Programming Example\n",
    "\n",
    "## [Example 4]\n",
    "\n",
    "This is a continuation of 'One Location, Multiple Temporal Scales, Multiple Operations, Mixed Integer Linear Programming with Material and Emission Considerations Example' [Example 3]. \n",
    "\n",
    "We update Example 3 to now allow multiple locations and Transport options between them.\n"
   ]
  },
  {
   "cell_type": "markdown",
   "id": "84484ac2",
   "metadata": {},
   "source": [
    "## From Example 3"
   ]
  },
  {
   "cell_type": "code",
   "execution_count": 1,
   "id": "609aab02",
   "metadata": {},
   "outputs": [],
   "source": [
    "from energia import *\n",
    "\n",
    "m = Model('example4')\n",
    "m.q = Periods()\n",
    "m.y = 4 * m.q\n",
    "m.usd = Currency()"
   ]
  },
  {
   "cell_type": "code",
   "execution_count": 2,
   "id": "483e8376",
   "metadata": {},
   "outputs": [
    {
     "data": {
      "text/plain": [
       "[q, y]"
      ]
     },
     "execution_count": 2,
     "metadata": {},
     "output_type": "execute_result"
    }
   ],
   "source": [
    "m.periods"
   ]
  },
  {
   "cell_type": "markdown",
   "id": "541123ad",
   "metadata": {},
   "source": [
    "## Declaring Locations "
   ]
  },
  {
   "cell_type": "code",
   "execution_count": 3,
   "id": "78d7d056",
   "metadata": {},
   "outputs": [],
   "source": [
    "m.ho = Location(label='Houston')\n",
    "m.sd = Location(label='San Diego')\n",
    "m.ny = Location(label='New York')\n",
    "# m.usa = m.ho + m.sd + m.ny"
   ]
  },
  {
   "cell_type": "code",
   "execution_count": 4,
   "id": "759327de",
   "metadata": {},
   "outputs": [
    {
     "data": {
      "text/plain": [
       "[ho, sd, ny]"
      ]
     },
     "execution_count": 4,
     "metadata": {},
     "output_type": "execute_result"
    }
   ],
   "source": [
    "m.locations"
   ]
  },
  {
   "cell_type": "markdown",
   "id": "433f1df8",
   "metadata": {},
   "source": [
    "### The Network \n",
    "\n",
    "Given that we have not used a nested set of locations, a network is made:"
   ]
  },
  {
   "cell_type": "code",
   "execution_count": 5,
   "id": "d4761c55",
   "metadata": {},
   "outputs": [
    {
     "data": {
      "text/plain": [
       "ntw"
      ]
     },
     "execution_count": 5,
     "metadata": {},
     "output_type": "execute_result"
    }
   ],
   "source": [
    "m.network"
   ]
  },
  {
   "cell_type": "markdown",
   "id": "14277382",
   "metadata": {},
   "source": [
    "This network contains the three locations at (ho, sd, ny)"
   ]
  },
  {
   "cell_type": "code",
   "execution_count": 6,
   "id": "d744aefc",
   "metadata": {},
   "outputs": [
    {
     "data": {
      "text/plain": [
       "(sd, ho, ny)"
      ]
     },
     "execution_count": 6,
     "metadata": {},
     "output_type": "execute_result"
    }
   ],
   "source": [
    "m.network.has"
   ]
  },
  {
   "cell_type": "markdown",
   "id": "31fe7598",
   "metadata": {},
   "source": []
  },
  {
   "cell_type": "markdown",
   "id": "b2bda1be",
   "metadata": {},
   "source": [
    "## General Bounds Default to Network"
   ]
  },
  {
   "cell_type": "code",
   "execution_count": 7,
   "id": "9a66530b",
   "metadata": {},
   "outputs": [
    {
     "name": "stdout",
     "output_type": "stream",
     "text": [
      "--- General Resource Balance for solar in (ntw, y): initializing constraint, adding consume(solar, ntw, y)\n",
      "    Completed in 0.00012731552124023438 seconds\n",
      "--- Binding consume in domain (solar, ntw, y)\n",
      "    Completed in 5.984306335449219e-05 seconds\n",
      "--- General Resource Balance for wind in (ntw, y): initializing constraint, adding consume(wind, ntw, y)\n",
      "    Completed in 6.937980651855469e-05 seconds\n",
      "--- Binding consume in domain (wind, ntw, y)\n",
      "    Completed in 4.172325134277344e-05 seconds\n"
     ]
    }
   ],
   "source": [
    "m.declare(Resource, ['power', 'wind', 'solar'])\n",
    "# m.solar.consume == True\n",
    "# m.wind.consume == True\n",
    "m.solar.consume <= 1200\n",
    "m.wind.consume <= 1200\n",
    "# m.consume.show()"
   ]
  },
  {
   "cell_type": "markdown",
   "id": "5abad359",
   "metadata": {},
   "source": [
    "## Location-specific Bounds \n",
    "\n",
    "Spatial specificity can be provided along with temporal fidelity. \n",
    "In the example below, the temporal fidelity is implied since the data has 4 samples.\n",
    "\n",
    "Note that an individual general resource balance is generated for power at each location"
   ]
  },
  {
   "cell_type": "code",
   "execution_count": 8,
   "id": "6f789af5",
   "metadata": {},
   "outputs": [
    {
     "name": "stdout",
     "output_type": "stream",
     "text": [
      "--- Mapping release: (power, ho, q) → (power, ntw, q)\n",
      "--- General Resource Balance for power in (ntw, q): initializing constraint, adding release(power, ntw, q)\n",
      "    Completed in 0.00011801719665527344 seconds\n",
      "    Completed in 0.000s\n",
      "--- General Resource Balance for power in (ntw, q): adding release(power, ho, q)\n",
      "    Completed in 9.202957153320312e-05 seconds\n",
      "--- Binding release in domain (power, ho, q)\n",
      "    Completed in 0.00011515617370605469 seconds\n",
      "--- Mapping release: (power, sd, q) → (power, ntw, q)\n",
      "    Completed in 0.000s\n",
      "--- General Resource Balance for power in (ntw, q): adding release(power, sd, q)\n",
      "    Completed in 9.465217590332031e-05 seconds\n",
      "--- Binding release in domain (power, sd, q)\n",
      "    Completed in 0.0001251697540283203 seconds\n",
      "--- Mapping release: (power, ny, q) → (power, ntw, q)\n",
      "    Completed in 0.000s\n",
      "--- General Resource Balance for power in (ntw, q): adding release(power, ny, q)\n",
      "    Completed in 8.082389831542969e-05 seconds\n",
      "--- Binding release in domain (power, ny, q)\n",
      "    Completed in 0.00011157989501953125 seconds\n"
     ]
    },
    {
     "data": {
      "text/latex": [
       "$\\displaystyle [4]\\text{   }-{{{{rlse}}}}_{power, ntw, q} - {{{{rlse}}}}_{power, ho, q} - {{{{rlse}}}}_{power, sd, q} - {{{{rlse}}}}_{power, ny, q} = 0$"
      ],
      "text/plain": [
       "<IPython.core.display.Math object>"
      ]
     },
     "metadata": {},
     "output_type": "display_data"
    },
    {
     "data": {
      "text/latex": [
       "$\\displaystyle [5]\\text{   }{{{{rlse}}}}_{power, ntw, q} - {{{{rlse}}}}_{power, ho, q} - {{{{{rlse}}}}}_{power, sd, q} - {{{{{rlse}}}}}_{power, ny, q} = 0$"
      ],
      "text/plain": [
       "<IPython.core.display.Math object>"
      ]
     },
     "metadata": {},
     "output_type": "display_data"
    },
    {
     "data": {
      "text/latex": [
       "$\\displaystyle [6]\\text{   }-{{{{rlse}}}}_{power, ho, q} + {φ}_{} \\leq 0$"
      ],
      "text/plain": [
       "<IPython.core.display.Math object>"
      ]
     },
     "metadata": {},
     "output_type": "display_data"
    },
    {
     "data": {
      "text/latex": [
       "$\\displaystyle [7]\\text{   }-{{{{rlse}}}}_{power, sd, q} + {φ}_{} \\leq 0$"
      ],
      "text/plain": [
       "<IPython.core.display.Math object>"
      ]
     },
     "metadata": {},
     "output_type": "display_data"
    },
    {
     "data": {
      "text/latex": [
       "$\\displaystyle [8]\\text{   }-{{{{rlse}}}}_{power, ny, q} + {φ}_{} \\leq 0$"
      ],
      "text/plain": [
       "<IPython.core.display.Math object>"
      ]
     },
     "metadata": {},
     "output_type": "display_data"
    }
   ],
   "source": [
    "m.power.release(m.ho).prep(30) >= [0.6, 0.7, 0.8, 0.3]\n",
    "m.power.release(m.sd).prep(100) >= [0.4, 0.9, 0.7, 0.6]\n",
    "m.power.release(m.ny).prep(180) >= [0.2, 0.5, 0.7, 0.5]\n",
    "m.release.show()"
   ]
  },
  {
   "cell_type": "markdown",
   "id": "74176947",
   "metadata": {},
   "source": [
    "## For All Locations \n",
    "\n",
    "Generally, in Energia to repeat a constraint over a set, use .forall()\n",
    "\n",
    "If a list is provided, the bounds are iterated over the list [see LB cons]\n",
    "else the bounds are repeated [see UB cons]"
   ]
  },
  {
   "cell_type": "code",
   "execution_count": 9,
   "id": "4954a5eb",
   "metadata": {},
   "outputs": [
    {
     "name": "stdout",
     "output_type": "stream",
     "text": [
      "--- Mapping capacity: (wf, sd, y) → (wf, ntw, y)\n",
      "    Completed in 0.000s\n",
      "--- Binding capacity in domain (wf, sd, y)\n",
      "--- Mapping x_capacity: (wf, sd, y) → (wf, ntw, y)\n",
      "    Completed in 0.000s\n",
      "    Completed in 0.00022912025451660156 seconds\n",
      "--- Mapping capacity: (wf, ho, y) → (wf, ntw, y)\n",
      "    Completed in 0.000s\n",
      "--- Binding capacity in domain (wf, ho, y)\n",
      "--- Mapping x_capacity: (wf, ho, y) → (wf, ntw, y)\n",
      "    Completed in 0.000s\n",
      "    Completed in 0.00020813941955566406 seconds\n",
      "--- Mapping capacity: (wf, ny, y) → (wf, ntw, y)\n",
      "    Completed in 0.000s\n",
      "--- Binding capacity in domain (wf, ny, y)\n",
      "--- Mapping x_capacity: (wf, ny, y) → (wf, ntw, y)\n",
      "    Completed in 0.000s\n",
      "    Completed in 0.00021266937255859375 seconds\n",
      "--- Binding capacity in domain (wf, sd, y)\n",
      "    Completed in 0.00011491775512695312 seconds\n",
      "--- Binding capacity in domain (wf, ho, y)\n",
      "    Completed in 0.00010323524475097656 seconds\n",
      "--- Binding capacity in domain (wf, ny, y)\n",
      "    Completed in 0.00010347366333007812 seconds\n"
     ]
    },
    {
     "data": {
      "text/latex": [
       "$\\displaystyle [9]\\text{   }{{{{cap}}}}_{wf, ntw, y} - {{{{cap}}}}_{wf, sd, y} - {{{{{cap}}}}}_{wf, ho, y} - {{{{{cap}}}}}_{wf, ny, y} = 0$"
      ],
      "text/plain": [
       "<IPython.core.display.Math object>"
      ]
     },
     "metadata": {},
     "output_type": "display_data"
    },
    {
     "data": {
      "text/latex": [
       "$\\displaystyle [10]\\text{   }{{{{\\breve{{cap}}}}}}_{wf, ntw, y} - {{{{{cap}}}}}_{wf, sd, y} - {{{{{cap}}}}}_{wf, ho, y} - {{{{{cap}}}}}_{wf, ny, y} = 0$"
      ],
      "text/plain": [
       "<IPython.core.display.Math object>"
      ]
     },
     "metadata": {},
     "output_type": "display_data"
    },
    {
     "data": {
      "text/latex": [
       "$\\displaystyle [11]\\text{   }10 \\cdot {{{\\breve{{cap}}}}}_{wf, sd, y} - {{{{cap}}}}_{wf, sd, y} \\leq 0$"
      ],
      "text/plain": [
       "<IPython.core.display.Math object>"
      ]
     },
     "metadata": {},
     "output_type": "display_data"
    },
    {
     "data": {
      "text/latex": [
       "$\\displaystyle [12]\\text{   }7 \\cdot {{{{\\breve{{cap}}}}}}_{wf, ho, y} - {{{{cap}}}}_{wf, ho, y} \\leq 0$"
      ],
      "text/plain": [
       "<IPython.core.display.Math object>"
      ]
     },
     "metadata": {},
     "output_type": "display_data"
    },
    {
     "data": {
      "text/latex": [
       "$\\displaystyle [13]\\text{   }20 \\cdot {{{{\\breve{{cap}}}}}}_{wf, ny, y} - {{{{cap}}}}_{wf, ny, y} \\leq 0$"
      ],
      "text/plain": [
       "<IPython.core.display.Math object>"
      ]
     },
     "metadata": {},
     "output_type": "display_data"
    },
    {
     "data": {
      "text/latex": [
       "$\\displaystyle [14]\\text{   }{{{{cap}}}}_{wf, sd, y} - 100 \\cdot {{{{\\breve{{cap}}}}}}_{wf, sd, y} \\leq 0$"
      ],
      "text/plain": [
       "<IPython.core.display.Math object>"
      ]
     },
     "metadata": {},
     "output_type": "display_data"
    },
    {
     "data": {
      "text/latex": [
       "$\\displaystyle [15]\\text{   }{{{{cap}}}}_{wf, ho, y} - 100 \\cdot {{{{\\breve{{cap}}}}}}_{wf, ho, y} \\leq 0$"
      ],
      "text/plain": [
       "<IPython.core.display.Math object>"
      ]
     },
     "metadata": {},
     "output_type": "display_data"
    },
    {
     "data": {
      "text/latex": [
       "$\\displaystyle [16]\\text{   }{{{{cap}}}}_{wf, ny, y} - 100 \\cdot {{{{\\breve{{cap}}}}}}_{wf, ny, y} \\leq 0$"
      ],
      "text/plain": [
       "<IPython.core.display.Math object>"
      ]
     },
     "metadata": {},
     "output_type": "display_data"
    }
   ],
   "source": [
    "m.wf = Process(m.power)\n",
    "m.wf(m.power) == -1 * m.wind\n",
    "[10, 7, 20] <= m.wf.capacity.x.forall(m.network.has)\n",
    "m.wf.capacity.x.forall(m.network.has) <= 100\n",
    "m.wf.show()"
   ]
  },
  {
   "cell_type": "markdown",
   "id": "e3a4830d",
   "metadata": {},
   "source": [
    "Bounds can also be provided individually"
   ]
  },
  {
   "cell_type": "code",
   "execution_count": 10,
   "id": "209f685c",
   "metadata": {},
   "outputs": [
    {
     "name": "stdout",
     "output_type": "stream",
     "text": [
      "--- Mapping operate: (wf, ho, q) → (wf, ntw, q)\n",
      "    Completed in 0.000s\n",
      "--- Binding operate in domain (wf, ho, q)\n",
      "    Completed in 0.0001571178436279297 seconds\n",
      "--- Mapping operate: (wf, sd, q) → (wf, ntw, q)\n",
      "    Completed in 0.000s\n",
      "--- Binding operate in domain (wf, sd, q)\n",
      "    Completed in 0.00013637542724609375 seconds\n",
      "--- Mapping operate: (wf, ny, q) → (wf, ntw, q)\n",
      "    Completed in 0.000s\n",
      "--- Binding operate in domain (wf, ny, q)\n",
      "    Completed in 0.00015020370483398438 seconds\n"
     ]
    },
    {
     "data": {
      "text/latex": [
       "$\\displaystyle [32]\\text{   }{{{opr}}}_{wf, ntw, q{0}} - {{{opr}}}_{wf, ho, q{0}} - {{{opr}}}_{wf, sd, q{0}} - {{{opr}}}_{wf, ny, q{0}} = 0$"
      ],
      "text/plain": [
       "<IPython.core.display.Math object>"
      ]
     },
     "metadata": {},
     "output_type": "display_data"
    },
    {
     "data": {
      "text/latex": [
       "$\\displaystyle [33]\\text{   }{{{opr}}}_{wf, ntw, q{1}} - {{{opr}}}_{wf, ho, q{1}} - {{{opr}}}_{wf, sd, q{1}} - {{{opr}}}_{wf, ny, q{1}} = 0$"
      ],
      "text/plain": [
       "<IPython.core.display.Math object>"
      ]
     },
     "metadata": {},
     "output_type": "display_data"
    },
    {
     "data": {
      "text/latex": [
       "$\\displaystyle [34]\\text{   }{{{opr}}}_{wf, ntw, q{2}} - {{{opr}}}_{wf, ho, q{2}} - {{{opr}}}_{wf, sd, q{2}} - {{{opr}}}_{wf, ny, q{2}} = 0$"
      ],
      "text/plain": [
       "<IPython.core.display.Math object>"
      ]
     },
     "metadata": {},
     "output_type": "display_data"
    },
    {
     "data": {
      "text/latex": [
       "$\\displaystyle [35]\\text{   }{{{opr}}}_{wf, ntw, q{3}} - {{{opr}}}_{wf, ho, q{3}} - {{{opr}}}_{wf, sd, q{3}} - {{{opr}}}_{wf, ny, q{3}} = 0$"
      ],
      "text/plain": [
       "<IPython.core.display.Math object>"
      ]
     },
     "metadata": {},
     "output_type": "display_data"
    },
    {
     "data": {
      "text/latex": [
       "$\\displaystyle [36]\\text{   }{{{opr}}}_{wf, ho, q{0}} - 0.9 \\cdot {{{cap}}}_{wf, ho, y{0}} \\leq 0$"
      ],
      "text/plain": [
       "<IPython.core.display.Math object>"
      ]
     },
     "metadata": {},
     "output_type": "display_data"
    },
    {
     "data": {
      "text/latex": [
       "$\\displaystyle [37]\\text{   }{{{opr}}}_{wf, ho, q{1}} - 0.8 \\cdot {{{cap}}}_{wf, ho, y{0}} \\leq 0$"
      ],
      "text/plain": [
       "<IPython.core.display.Math object>"
      ]
     },
     "metadata": {},
     "output_type": "display_data"
    },
    {
     "data": {
      "text/latex": [
       "$\\displaystyle [38]\\text{   }{{{opr}}}_{wf, ho, q{2}} - 0.5 \\cdot {{{cap}}}_{wf, ho, y{0}} \\leq 0$"
      ],
      "text/plain": [
       "<IPython.core.display.Math object>"
      ]
     },
     "metadata": {},
     "output_type": "display_data"
    },
    {
     "data": {
      "text/latex": [
       "$\\displaystyle [39]\\text{   }{{{opr}}}_{wf, ho, q{3}} - 0.7 \\cdot {{{cap}}}_{wf, ho, y{0}} \\leq 0$"
      ],
      "text/plain": [
       "<IPython.core.display.Math object>"
      ]
     },
     "metadata": {},
     "output_type": "display_data"
    },
    {
     "data": {
      "text/latex": [
       "$\\displaystyle [40]\\text{   }{{{opr}}}_{wf, sd, q{0}} - 0.8 \\cdot {{{cap}}}_{wf, sd, y{0}} \\leq 0$"
      ],
      "text/plain": [
       "<IPython.core.display.Math object>"
      ]
     },
     "metadata": {},
     "output_type": "display_data"
    },
    {
     "data": {
      "text/latex": [
       "$\\displaystyle [41]\\text{   }{{{opr}}}_{wf, sd, q{1}} - 0.7 \\cdot {{{cap}}}_{wf, sd, y{0}} \\leq 0$"
      ],
      "text/plain": [
       "<IPython.core.display.Math object>"
      ]
     },
     "metadata": {},
     "output_type": "display_data"
    },
    {
     "data": {
      "text/latex": [
       "$\\displaystyle [42]\\text{   }{{{opr}}}_{wf, sd, q{2}} - 0.6 \\cdot {{{cap}}}_{wf, sd, y{0}} \\leq 0$"
      ],
      "text/plain": [
       "<IPython.core.display.Math object>"
      ]
     },
     "metadata": {},
     "output_type": "display_data"
    },
    {
     "data": {
      "text/latex": [
       "$\\displaystyle [43]\\text{   }{{{opr}}}_{wf, sd, q{3}} - 0.5 \\cdot {{{cap}}}_{wf, sd, y{0}} \\leq 0$"
      ],
      "text/plain": [
       "<IPython.core.display.Math object>"
      ]
     },
     "metadata": {},
     "output_type": "display_data"
    },
    {
     "data": {
      "text/latex": [
       "$\\displaystyle [44]\\text{   }{{{opr}}}_{wf, ny, q{0}} - 0.6 \\cdot {{{cap}}}_{wf, ny, y{0}} \\leq 0$"
      ],
      "text/plain": [
       "<IPython.core.display.Math object>"
      ]
     },
     "metadata": {},
     "output_type": "display_data"
    },
    {
     "data": {
      "text/latex": [
       "$\\displaystyle [45]\\text{   }{{{opr}}}_{wf, ny, q{1}} - 0.5 \\cdot {{{cap}}}_{wf, ny, y{0}} \\leq 0$"
      ],
      "text/plain": [
       "<IPython.core.display.Math object>"
      ]
     },
     "metadata": {},
     "output_type": "display_data"
    },
    {
     "data": {
      "text/latex": [
       "$\\displaystyle [46]\\text{   }{{{opr}}}_{wf, ny, q{2}} - 0.4 \\cdot {{{cap}}}_{wf, ny, y{0}} \\leq 0$"
      ],
      "text/plain": [
       "<IPython.core.display.Math object>"
      ]
     },
     "metadata": {},
     "output_type": "display_data"
    },
    {
     "data": {
      "text/latex": [
       "$\\displaystyle [47]\\text{   }{{{opr}}}_{wf, ny, q{3}} - 0.3 \\cdot {{{cap}}}_{wf, ny, y{0}} \\leq 0$"
      ],
      "text/plain": [
       "<IPython.core.display.Math object>"
      ]
     },
     "metadata": {},
     "output_type": "display_data"
    }
   ],
   "source": [
    "m.wf.operate.prep(norm=True)(m.ho) <= [0.9, 0.8, 0.5, 0.7]\n",
    "m.wf.operate.prep(norm=True)(m.sd) <= [0.8, 0.7, 0.6, 0.5]\n",
    "m.wf.operate.prep(norm=True)(m.ny) <= [0.6, 0.5, 0.4, 0.3]\n",
    "m.operate.show(True)\n",
    "# m.wf.operate.prep(norm = True).forall(m.network.has) <= [[0.9, 0.8, 0.5, 0.7], [0.8, 0.7, 0.6, 0.5], [0.6, 0.5, 0.4, 0.3]]"
   ]
  },
  {
   "cell_type": "markdown",
   "id": "0889efcf",
   "metadata": {},
   "source": [
    "Calculations can also be provided for all locations as a list or repeated"
   ]
  },
  {
   "cell_type": "code",
   "execution_count": 11,
   "id": "9351a076",
   "metadata": {},
   "outputs": [
    {
     "name": "stdout",
     "output_type": "stream",
     "text": [
      "--- Mapping spend: (usd, sd, y, capacity, wf) → (usd, ntw, y, capacity, wf)\n",
      "    Completed in 0.000s\n",
      "--- Mapping spend: (usd, ho, y, capacity, wf) → (usd, ntw, y, capacity, wf)\n",
      "    Completed in 0.000s\n",
      "--- Mapping spend: (usd, ny, y, capacity, wf) → (usd, ntw, y, capacity, wf)\n",
      "    Completed in 0.000s\n",
      "--- Mapping operate: (wf, ntw, q) → (wf, ntw, y)\n",
      "    Completed in 0.000s\n"
     ]
    }
   ],
   "source": [
    "m.wf.capacity[m.usd.spend].forall(m.network.has) == [90000, 70000, 60000]\n",
    "m.wf.operate[m.usd.spend] == 49"
   ]
  },
  {
   "cell_type": "markdown",
   "id": "99b036bb",
   "metadata": {},
   "source": [
    "In the case where location specific data is not provided, the parameter is assumed tuo apply to the network"
   ]
  },
  {
   "cell_type": "code",
   "execution_count": 12,
   "id": "ae7e2a28",
   "metadata": {},
   "outputs": [],
   "source": [
    "m.pv = Process()\n",
    "m.pv(m.power) == -1 * m.solar"
   ]
  },
  {
   "cell_type": "code",
   "execution_count": 13,
   "id": "9296564f",
   "metadata": {},
   "outputs": [
    {
     "name": "stdout",
     "output_type": "stream",
     "text": [
      "--- Binding capacity in domain (pv, ntw, y)\n",
      "    Completed in 0.00015854835510253906 seconds\n",
      "--- Binding capacity in domain (pv, ntw, y)\n",
      "    Completed in 0.00010323524475097656 seconds\n",
      "--- Mapping operate: (pv, sd, q) → (pv, ntw, q)\n",
      "    Completed in 0.000s\n",
      "--- Binding operate in domain (pv, sd, q)\n",
      "--- Aspect (capacity) not defined at sd, a variable will be created assuming y as the temporal index\n",
      "--- Mapping capacity: (pv, sd, y) → (pv, ntw, y)\n",
      "    Completed in 0.000s\n",
      "    Completed in 0.0003387928009033203 seconds\n",
      "--- Mapping operate: (pv, ho, q) → (pv, ntw, q)\n",
      "    Completed in 0.000s\n",
      "--- Binding operate in domain (pv, ho, q)\n",
      "--- Aspect (capacity) not defined at ho, a variable will be created assuming y as the temporal index\n",
      "--- Mapping capacity: (pv, ho, y) → (pv, ntw, y)\n",
      "    Completed in 0.000s\n",
      "    Completed in 0.0004341602325439453 seconds\n",
      "--- Mapping operate: (pv, ny, q) → (pv, ntw, q)\n",
      "    Completed in 0.000s\n",
      "--- Binding operate in domain (pv, ny, q)\n",
      "--- Aspect (capacity) not defined at ny, a variable will be created assuming y as the temporal index\n",
      "--- Mapping capacity: (pv, ny, y) → (pv, ntw, y)\n",
      "    Completed in 0.000s\n",
      "    Completed in 0.0003464221954345703 seconds\n",
      "--- Mapping operate: (pv, ntw, q) → (pv, ntw, y)\n",
      "    Completed in 0.000s\n",
      "--- Binding invcapacity in domain (power.lii, ntw, y)\n",
      "    Completed in 9.322166442871094e-05 seconds\n",
      "--- Binding invcapacity in domain (power.lii, ntw, y)\n",
      "    Completed in 9.274482727050781e-05 seconds\n",
      "--- General Resource Balance for power.lii in (ntw, y): initializing constraint, adding inventory(power.lii, ntw, y)\n",
      "--- Binding capacity in domain (lii.charge, ntw, y)\n",
      "    Completed in 3.814697265625e-05 seconds\n",
      "--- Binding operate in domain (lii.charge, ntw, y)\n",
      "    Completed in 6.604194641113281e-05 seconds\n",
      "--- Binding capacity in domain (lii.discharge, ntw, y)\n",
      "    Completed in 4.57763671875e-05 seconds\n",
      "--- Binding operate in domain (lii.discharge, ntw, y)\n",
      "    Completed in 6.246566772460938e-05 seconds\n",
      "--- General Resource Balance for cement in (ntw, y): initializing constraint, adding consume(cement, ntw, y)\n",
      "    Completed in 6.628036499023438e-05 seconds\n",
      "--- Binding consume in domain (cement, ntw, y)\n",
      "    Completed in 3.9577484130859375e-05 seconds\n",
      "--- General Resource Balance for cement in (ntw, y): adding use(cement, ntw, y, capacity, wf)\n",
      "    Completed in 5.459785461425781e-05 seconds\n",
      "--- General Resource Balance for cement in (ntw, y): adding use(cement, ntw, y, capacity, pv)\n",
      "    Completed in 9.608268737792969e-05 seconds\n",
      "--- General Resource Balance for cement in (ntw, y): adding use(cement, ntw, y, invcapacity, power.lii)\n",
      "    Completed in 6.699562072753906e-05 seconds\n"
     ]
    }
   ],
   "source": [
    "m.pv.capacity.x <= 100\n",
    "m.pv.capacity.x >= 10\n",
    "m.pv.operate.prep(norm=True).forall(m.network.has) <= [\n",
    "    [0.6, 0.8, 0.9, 0.7],\n",
    "    [0.5, 0.7, 0.6, 0.5],\n",
    "    [0.4, 0.6, 0.5, 0.4],\n",
    "]\n",
    "m.pv.capacity[m.usd.spend] == 567000 + 872046\n",
    "m.pv.operate[m.usd.spend] == 90000\n",
    "\n",
    "m.lii = Storage()\n",
    "m.lii(m.power) == 0.9\n",
    "m.lii.capacity.x <= 100\n",
    "m.lii.capacity.x >= 10\n",
    "m.lii.capacity[m.usd.spend] == 1302182 + 41432\n",
    "m.lii.inventory[m.usd.spend] == 2000\n",
    "m.lii.charge.capacity <= 100\n",
    "m.lii.charge.operate <= 1\n",
    "m.lii.discharge.capacity <= 100\n",
    "m.lii.discharge.operate <= 1\n",
    "\n",
    "m.gwp = Environ()\n",
    "\n",
    "m.wf.capacity[m.gwp.emit] == 1000\n",
    "m.pv.capacity[m.gwp.emit] == 2000\n",
    "m.lii.capacity[m.gwp.emit] == 3000\n",
    "\n",
    "m.cement = Material()\n",
    "m.cement.consume <= 1000000\n",
    "m.cement.consume[m.usd.spend] == 17\n",
    "m.cement.consume[m.gwp.emit] == 0.9\n",
    "\n",
    "m.wf.capacity[m.cement.use] == 400\n",
    "m.pv.capacity[m.cement.use] == 560\n",
    "m.lii.capacity[m.cement.use] == 300"
   ]
  },
  {
   "cell_type": "markdown",
   "id": "b3f2f7a5",
   "metadata": {},
   "source": [
    "## Linkages "
   ]
  },
  {
   "cell_type": "markdown",
   "id": "0d06a78d",
   "metadata": {},
   "source": [
    "A grid of valid linkages can be created from sources to sinks.\n",
    "\n",
    "Linkages are always one directional, stating bi, created a link from source to sink and the other way round \n",
    "\n",
    "If multiple links exist between two locations with different distances, it is necessary to create named links. \n",
    "Again, it needs to be stated whether the links are bi directional "
   ]
  },
  {
   "cell_type": "code",
   "execution_count": 14,
   "id": "4164ba42",
   "metadata": {},
   "outputs": [
    {
     "data": {
      "text/plain": [
       "[ho-sd, sd-ho, road, -road]"
      ]
     },
     "execution_count": 14,
     "metadata": {},
     "output_type": "execute_result"
    }
   ],
   "source": [
    "m.Link(source=m.ho, sink=m.sd, dist=2000, bi=True)\n",
    "# m.Link(source = m.sd, sink=m.ny, dist = 1500)\n",
    "m.road = Linkage(source=m.ho, sink=m.ny, dist=3000, bi=True)\n",
    "# m.rail = Link(source = m.ho, sink=m.ny, dist = 5000, bi = True)\n",
    "m.linkages"
   ]
  },
  {
   "cell_type": "code",
   "execution_count": 15,
   "id": "02e86387",
   "metadata": {},
   "outputs": [
    {
     "name": "stdout",
     "output_type": "stream",
     "text": [
      "ho is source and sd is sink in ho-sd\n",
      "sd is source and ho is sink in sd-ho\n"
     ]
    },
    {
     "data": {
      "text/plain": [
       "[ho-sd, sd-ho]"
      ]
     },
     "execution_count": 15,
     "metadata": {},
     "output_type": "execute_result"
    }
   ],
   "source": [
    "m.ho.links(m.sd)"
   ]
  },
  {
   "cell_type": "markdown",
   "id": "72275a98",
   "metadata": {},
   "source": [
    "## Transits\n",
    "\n",
    "Declare some transport options between across the linkages \n"
   ]
  },
  {
   "cell_type": "code",
   "execution_count": 16,
   "id": "cfbb8036",
   "metadata": {},
   "outputs": [],
   "source": [
    "# m.declare(Resource, ['h2o', 'co2'])\n",
    "# m.grid = Transport()\n",
    "# m.grid(m.power) == -m.h2o + m.co2\n",
    "# m.grid.capacity.x.forall([m.ho - m.sd, m.road]) <= 100\n",
    "# m.grid.operate.prep(norm=True).forall([m.ho - m.sd, m.road]) <= [\n",
    "#     [0.9, 0.8, 0.5, 0.7],\n",
    "#     [0.8, 0.7, 0.6, 0.9],\n",
    "# ]\n",
    "# m.grid.operate[m.usd.spend] == 2000\n",
    "# m.grid.capacity[m.usd.spend] == 1000"
   ]
  },
  {
   "cell_type": "code",
   "execution_count": 17,
   "id": "cfcb4dcf",
   "metadata": {},
   "outputs": [
    {
     "name": "stdout",
     "output_type": "stream",
     "text": [
      "--- Assuming  pv capacity is unbounded in (ho, y)\n",
      "--- Mapping produce: (power, ho, y, operate, pv) → (power, ntw, y, operate, pv)\n",
      "--- General Resource Balance for power in (ntw, y): initializing constraint, adding produce(power, ntw, y, operate, pv)\n",
      "    Completed in 8.916854858398438e-05 seconds\n",
      "    Completed in 0.000s\n",
      "--- General Resource Balance for power in (ntw, y): adding produce(power, ho, y, operate, pv)\n",
      "    Completed in 6.246566772460938e-05 seconds\n",
      "--- Mapping operate: (pv, ho, q) → (pv, ho, y)\n",
      "    Completed in 0.000s\n",
      "--- Mapping operate: (pv, ho, y) → (pv, ntw, y)\n"
     ]
    },
    {
     "ename": "AttributeError",
     "evalue": "Program(example4) has no 'operate_pv_ntw_y_map'",
     "output_type": "error",
     "traceback": [
      "\u001b[31m---------------------------------------------------------------------------\u001b[39m",
      "\u001b[31mAttributeError\u001b[39m                            Traceback (most recent call last)",
      "\u001b[36mCell\u001b[39m\u001b[36m \u001b[39m\u001b[32mIn[17]\u001b[39m\u001b[32m, line 1\u001b[39m\n\u001b[32m----> \u001b[39m\u001b[32m1\u001b[39m \u001b[43mm\u001b[49m\u001b[43m.\u001b[49m\u001b[43mho\u001b[49m\u001b[43m.\u001b[49m\u001b[43mlocate\u001b[49m\u001b[43m(\u001b[49m\u001b[43mm\u001b[49m\u001b[43m.\u001b[49m\u001b[43mpv\u001b[49m\u001b[43m,\u001b[49m\u001b[43m \u001b[49m\u001b[43mm\u001b[49m\u001b[43m.\u001b[49m\u001b[43mwf\u001b[49m\u001b[43m,\u001b[49m\u001b[43m \u001b[49m\u001b[43mm\u001b[49m\u001b[43m.\u001b[49m\u001b[43mlii\u001b[49m\u001b[43m)\u001b[49m\n\u001b[32m      2\u001b[39m m.sd.locate(m.pv, m.wf, m.lii)\n\u001b[32m      3\u001b[39m m.ny.locate(m.pv, m.wf, m.lii)\n",
      "\u001b[36mFile \u001b[39m\u001b[32m~\\research\\packages\\energiapy\\src\\energia\\components\\spatial\\location.py:99\u001b[39m, in \u001b[36mLocation.locate\u001b[39m\u001b[34m(self, *operations)\u001b[39m\n\u001b[32m     96\u001b[39m \u001b[38;5;66;03m# locates an operation\u001b[39;00m\n\u001b[32m     97\u001b[39m \u001b[38;5;66;03m# which leads to the conversion balances being written\u001b[39;00m\n\u001b[32m     98\u001b[39m \u001b[38;5;28;01mfor\u001b[39;00m opr \u001b[38;5;129;01min\u001b[39;00m operations:\n\u001b[32m---> \u001b[39m\u001b[32m99\u001b[39m     \u001b[43mopr\u001b[49m\u001b[43m.\u001b[49m\u001b[43mlocate\u001b[49m\u001b[43m(\u001b[49m\u001b[38;5;28;43mself\u001b[39;49m\u001b[43m)\u001b[49m\n",
      "\u001b[36mFile \u001b[39m\u001b[32m~\\research\\packages\\energiapy\\src\\energia\\components\\operation\\_operation.py:249\u001b[39m, in \u001b[36m_Operation.locate\u001b[39m\u001b[34m(self, *spaces)\u001b[39m\n\u001b[32m    246\u001b[39m             \u001b[38;5;28;01mif\u001b[39;00m space_time \u001b[38;5;129;01mnot\u001b[39;00m \u001b[38;5;129;01min\u001b[39;00m space_times:\n\u001b[32m    247\u001b[39m                 space_times.append(space_time)\n\u001b[32m--> \u001b[39m\u001b[32m249\u001b[39m \u001b[38;5;28;43mself\u001b[39;49m\u001b[43m.\u001b[49m\u001b[43mwritecons_conversion\u001b[49m\u001b[43m(\u001b[49m\u001b[43mspace_times\u001b[49m\u001b[43m)\u001b[49m\n\u001b[32m    251\u001b[39m \u001b[38;5;28;01mif\u001b[39;00m \u001b[38;5;28mself\u001b[39m.fabrication:\n\u001b[32m    252\u001b[39m     \u001b[38;5;28mself\u001b[39m.writecons_fabrication(space_times)\n",
      "\u001b[36mFile \u001b[39m\u001b[32m~\\research\\packages\\energiapy\\src\\energia\\components\\operation\\process.py:225\u001b[39m, in \u001b[36mProcess.writecons_conversion\u001b[39m\u001b[34m(self, loc_times)\u001b[39m\n\u001b[32m    220\u001b[39m         rhs = rhs(modes)\n\u001b[32m    222\u001b[39m         \u001b[38;5;66;03m# _ = opr(modes)[rhs(modes)] == eff\u001b[39;00m\n\u001b[32m    223\u001b[39m \n\u001b[32m    224\u001b[39m     \u001b[38;5;66;03m# else:\u001b[39;00m\n\u001b[32m--> \u001b[39m\u001b[32m225\u001b[39m     _ = \u001b[43mopr\u001b[49m\u001b[43m[\u001b[49m\u001b[43mrhs\u001b[49m\u001b[43m]\u001b[49m\u001b[43m \u001b[49m\u001b[43m==\u001b[49m\u001b[43m \u001b[49m\u001b[43meff\u001b[49m\n\u001b[32m    227\u001b[39m \u001b[38;5;66;03m# update the locations at which the process exists\u001b[39;00m\n\u001b[32m    228\u001b[39m \u001b[38;5;28mself\u001b[39m.locations.append(location)\n",
      "\u001b[36mFile \u001b[39m\u001b[32m~\\research\\packages\\energiapy\\src\\energia\\modeling\\constraints\\calculate.py:176\u001b[39m, in \u001b[36mCalculate.__eq__\u001b[39m\u001b[34m(self, other)\u001b[39m\n\u001b[32m    174\u001b[39m     v_lhs = calc.V(other)\n\u001b[32m    175\u001b[39m     domain = calc.domain\n\u001b[32m--> \u001b[39m\u001b[32m176\u001b[39m     v_rhs = \u001b[43mdecision\u001b[49m\u001b[43m.\u001b[49m\u001b[43mV\u001b[49m\u001b[43m(\u001b[49m\u001b[43mother\u001b[49m\u001b[43m)\u001b[49m\n\u001b[32m    177\u001b[39m     cons_name = \u001b[33mrf\u001b[39m\u001b[33m\"\u001b[39m\u001b[38;5;132;01m{\u001b[39;00m\u001b[38;5;28mself\u001b[39m.calculation.aspect.name\u001b[38;5;132;01m}\u001b[39;00m\u001b[38;5;132;01m{\u001b[39;00mdomain.idxname\u001b[38;5;132;01m}\u001b[39;00m\u001b[33m_calc\u001b[39m\u001b[33m\"\u001b[39m\n\u001b[32m    179\u001b[39m cons: C = v_lhs == other * v_rhs\n",
      "\u001b[36mFile \u001b[39m\u001b[32m~\\research\\packages\\energiapy\\src\\energia\\modeling\\variables\\sample.py:352\u001b[39m, in \u001b[36mSample.V\u001b[39m\u001b[34m(self, parameters, length, report, incidental)\u001b[39m\n\u001b[32m    345\u001b[39m     \u001b[38;5;28mself\u001b[39m.model.dispositions = merge_trees(\n\u001b[32m    346\u001b[39m         \u001b[38;5;28mself\u001b[39m.model.dispositions,\n\u001b[32m    347\u001b[39m         {\u001b[38;5;28mself\u001b[39m.aspect: \u001b[38;5;28mself\u001b[39m.domain.tree},\n\u001b[32m    348\u001b[39m     )\n\u001b[32m    350\u001b[39m     \u001b[38;5;66;03m# for the same aspect, map variables with higher order indices\u001b[39;00m\n\u001b[32m    351\u001b[39m     \u001b[38;5;66;03m# to variables with lower order indices\u001b[39;00m\n\u001b[32m--> \u001b[39m\u001b[32m352\u001b[39m     \u001b[38;5;28;43mself\u001b[39;49m\u001b[43m.\u001b[49m\u001b[43maspect\u001b[49m\u001b[43m.\u001b[49m\u001b[43mupdate\u001b[49m\u001b[43m(\u001b[49m\u001b[38;5;28;43mself\u001b[39;49m\u001b[43m.\u001b[49m\u001b[43mdomain\u001b[49m\u001b[43m)\u001b[49m\n\u001b[32m    354\u001b[39m     \u001b[38;5;28mself\u001b[39m.aspect.domains.append(\u001b[38;5;28mself\u001b[39m.domain)\n\u001b[32m    356\u001b[39m \u001b[38;5;28;01mreturn\u001b[39;00m \u001b[38;5;28mgetattr\u001b[39m(\u001b[38;5;28mself\u001b[39m.program, \u001b[38;5;28mself\u001b[39m.aspect.name)(*index)\n",
      "\u001b[36mFile \u001b[39m\u001b[32m~\\research\\packages\\energiapy\\src\\energia\\modeling\\variables\\states.py:35\u001b[39m, in \u001b[36mState.update\u001b[39m\u001b[34m(self, domain, reporting)\u001b[39m\n\u001b[32m     32\u001b[39m \u001b[38;5;250m\u001b[39m\u001b[33;03m\"\"\"Add a domain to the decision variable\"\"\"\u001b[39;00m\n\u001b[32m     34\u001b[39m \u001b[38;5;66;03m# Write a mapping constraint\u001b[39;00m\n\u001b[32m---> \u001b[39m\u001b[32m35\u001b[39m \u001b[43mMap\u001b[49m\u001b[43m(\u001b[49m\u001b[43maspect\u001b[49m\u001b[43m=\u001b[49m\u001b[38;5;28;43mself\u001b[39;49m\u001b[43m,\u001b[49m\u001b[43m \u001b[49m\u001b[43mdomain\u001b[49m\u001b[43m=\u001b[49m\u001b[43mdomain\u001b[49m\u001b[43m,\u001b[49m\u001b[43m \u001b[49m\u001b[43mreporting\u001b[49m\u001b[43m=\u001b[49m\u001b[43mreporting\u001b[49m\u001b[43m)\u001b[49m\n",
      "\u001b[36mFile \u001b[39m\u001b[32m~\\research\\packages\\energiapy\\src\\energia\\modeling\\constraints\\vmap.py:99\u001b[39m, in \u001b[36mMap.__init__\u001b[39m\u001b[34m(self, aspect, domain, label, reporting)\u001b[39m\n\u001b[32m     97\u001b[39m \u001b[38;5;66;03m# --- Space mapping ---\u001b[39;00m\n\u001b[32m     98\u001b[39m contained_locs, parent_loc = \u001b[38;5;28mself\u001b[39m.model.space.split(space)\n\u001b[32m---> \u001b[39m\u001b[32m99\u001b[39m \u001b[38;5;28;43mself\u001b[39;49m\u001b[43m.\u001b[49m\u001b[43m_map_across_space\u001b[49m\u001b[43m(\u001b[49m\u001b[43mdispositions\u001b[49m\u001b[43m,\u001b[49m\u001b[43m \u001b[49m\u001b[43mcontained_locs\u001b[49m\u001b[43m,\u001b[49m\u001b[43m \u001b[49m\u001b[43mparent_loc\u001b[49m\u001b[43m,\u001b[49m\u001b[43m \u001b[49m\u001b[43mtime\u001b[49m\u001b[43m)\u001b[49m\n\u001b[32m    101\u001b[39m \u001b[38;5;66;03m# --- Bind mapping ---\u001b[39;00m\n\u001b[32m    102\u001b[39m \u001b[38;5;28mself\u001b[39m._map_across_binds(dispositions, space, time)\n",
      "\u001b[36mFile \u001b[39m\u001b[32m~\\research\\packages\\energiapy\\src\\energia\\modeling\\constraints\\vmap.py:154\u001b[39m, in \u001b[36mMap._map_across_space\u001b[39m\u001b[34m(self, dispositions, contained_locs, parent_loc, time)\u001b[39m\n\u001b[32m    149\u001b[39m parent_loc = \u001b[38;5;28mself\u001b[39m.domain.location.isin\n\u001b[32m    151\u001b[39m \u001b[38;5;28;01mif\u001b[39;00m parent_loc:\n\u001b[32m    152\u001b[39m     \u001b[38;5;66;03m# if parent_loc not in dispositions or time not in dispositions[parent_loc]:\u001b[39;00m\n\u001b[32m    153\u001b[39m     \u001b[38;5;66;03m#     return\u001b[39;00m\n\u001b[32m--> \u001b[39m\u001b[32m154\u001b[39m     \u001b[38;5;28;43mself\u001b[39;49m\u001b[43m.\u001b[49m\u001b[43mwritecons_map\u001b[49m\u001b[43m(\u001b[49m\n\u001b[32m    155\u001b[39m \u001b[43m        \u001b[49m\u001b[38;5;28;43mself\u001b[39;49m\u001b[43m.\u001b[49m\u001b[43mdomain\u001b[49m\u001b[43m,\u001b[49m\n\u001b[32m    156\u001b[39m \u001b[43m        \u001b[49m\u001b[38;5;28;43mself\u001b[39;49m\u001b[43m.\u001b[49m\u001b[43mdomain\u001b[49m\u001b[43m.\u001b[49m\u001b[43mchange\u001b[49m\u001b[43m(\u001b[49m\u001b[43m{\u001b[49m\u001b[33;43m\"\u001b[39;49m\u001b[33;43mlocation\u001b[39;49m\u001b[33;43m\"\u001b[39;49m\u001b[43m:\u001b[49m\u001b[43m \u001b[49m\u001b[43mparent_loc\u001b[49m\u001b[43m}\u001b[49m\u001b[43m)\u001b[49m\u001b[43m,\u001b[49m\n\u001b[32m    157\u001b[39m \u001b[43m    \u001b[49m\u001b[43m)\u001b[49m\n",
      "\u001b[36mFile \u001b[39m\u001b[32m~\\research\\packages\\energiapy\\src\\energia\\modeling\\constraints\\vmap.py:296\u001b[39m, in \u001b[36mMap.writecons_map\u001b[39m\u001b[34m(self, from_domain, to_domain, tsum, msum)\u001b[39m\n\u001b[32m    293\u001b[39m v_lower = \u001b[38;5;28mself\u001b[39m(*to_domain).X() \u001b[38;5;28;01mif\u001b[39;00m \u001b[38;5;28mself\u001b[39m.reporting \u001b[38;5;28;01melse\u001b[39;00m \u001b[38;5;28mself\u001b[39m(*to_domain).V()\n\u001b[32m    295\u001b[39m \u001b[38;5;28;01mif\u001b[39;00m \u001b[38;5;129;01mnot\u001b[39;00m tsum \u001b[38;5;129;01mand\u001b[39;00m \u001b[38;5;129;01mnot\u001b[39;00m msum \u001b[38;5;129;01mand\u001b[39;00m exists:\n\u001b[32m--> \u001b[39m\u001b[32m296\u001b[39m     cons_existing: C = \u001b[38;5;28;43mgetattr\u001b[39;49m\u001b[43m(\u001b[49m\u001b[38;5;28;43mself\u001b[39;49m\u001b[43m.\u001b[49m\u001b[43mprogram\u001b[49m\u001b[43m,\u001b[49m\u001b[43m \u001b[49m\u001b[43mcname\u001b[49m\u001b[43m)\u001b[49m\n\u001b[32m    297\u001b[39m     \u001b[38;5;28msetattr\u001b[39m(\u001b[38;5;28mself\u001b[39m.program, cname, cons_existing - rhs)\n\u001b[32m    299\u001b[39m \u001b[38;5;28;01melse\u001b[39;00m:\n",
      "\u001b[36mFile \u001b[39m\u001b[32m~\\research\\packages\\energiapy\\src\\energia\\represent\\program.py:59\u001b[39m, in \u001b[36mProgram.__getattr__\u001b[39m\u001b[34m(self, item)\u001b[39m\n\u001b[32m     57\u001b[39m     \u001b[38;5;28msetattr\u001b[39m(\u001b[38;5;28mself\u001b[39m, item, index)\n\u001b[32m     58\u001b[39m     \u001b[38;5;28;01mreturn\u001b[39;00m index\n\u001b[32m---> \u001b[39m\u001b[32m59\u001b[39m \u001b[38;5;28;01mraise\u001b[39;00m \u001b[38;5;167;01mAttributeError\u001b[39;00m(\n\u001b[32m     60\u001b[39m     \u001b[33mf\u001b[39m\u001b[33m\"\u001b[39m\u001b[38;5;132;01m{\u001b[39;00m\u001b[38;5;28mself\u001b[39m\u001b[38;5;132;01m}\u001b[39;00m\u001b[33m has no \u001b[39m\u001b[33m'\u001b[39m\u001b[38;5;132;01m{\u001b[39;00mitem\u001b[38;5;132;01m}\u001b[39;00m\u001b[33m'\u001b[39m\u001b[33m\"\u001b[39m,\n\u001b[32m     61\u001b[39m )\n",
      "\u001b[31mAttributeError\u001b[39m: Program(example4) has no 'operate_pv_ntw_y_map'"
     ]
    }
   ],
   "source": [
    "m.ho.locate(m.pv, m.wf, m.lii)\n",
    "m.sd.locate(m.pv, m.wf, m.lii)\n",
    "m.ny.locate(m.pv, m.wf, m.lii)"
   ]
  },
  {
   "cell_type": "code",
   "execution_count": null,
   "id": "02be8264",
   "metadata": {},
   "outputs": [
    {
     "data": {
      "text/latex": [
       "$\\displaystyle [34]\\text{   }{{{spend}}}_{usd, ntw, y, {inventory}, power.lii} - 2000 \\cdot {{{inv}}}_{power.lii, ntw, y} = 0$"
      ],
      "text/plain": [
       "<IPython.core.display.Math object>"
      ]
     },
     "metadata": {},
     "output_type": "display_data"
    },
    {
     "data": {
      "text/latex": [
       "$\\displaystyle [58]\\text{   }-{{{{inv}}}}_{power.lii, ho, q} + {{{{inv}}}}_{power.lii, ho, q-1} + {{{prod}}}_{power.lii, ho, q, {operate}, lii.charge} - {{{{expd}}}}_{power.lii, ho, q, {operate}, lii.discharge} = 0$"
      ],
      "text/plain": [
       "<IPython.core.display.Math object>"
      ]
     },
     "metadata": {},
     "output_type": "display_data"
    },
    {
     "data": {
      "text/latex": [
       "$\\displaystyle [59]\\text{   }{{{{inv}}}}_{power.lii, ho, q} - {{{{icap}}}}_{power.lii, ho, y} \\leq 0$"
      ],
      "text/plain": [
       "<IPython.core.display.Math object>"
      ]
     },
     "metadata": {},
     "output_type": "display_data"
    },
    {
     "data": {
      "text/latex": [
       "$\\displaystyle [78]\\text{   }-{{{{inv}}}}_{power.lii, sd, q} + {{{{inv}}}}_{power.lii, sd, q-1} + {{{prod}}}_{power.lii, sd, q, {operate}, lii.charge} - {{{{expd}}}}_{power.lii, sd, q, {operate}, lii.discharge} = 0$"
      ],
      "text/plain": [
       "<IPython.core.display.Math object>"
      ]
     },
     "metadata": {},
     "output_type": "display_data"
    },
    {
     "data": {
      "text/latex": [
       "$\\displaystyle [79]\\text{   }{{{{inv}}}}_{power.lii, sd, q} - {{{{icap}}}}_{power.lii, sd, y} \\leq 0$"
      ],
      "text/plain": [
       "<IPython.core.display.Math object>"
      ]
     },
     "metadata": {},
     "output_type": "display_data"
    },
    {
     "data": {
      "text/latex": [
       "$\\displaystyle [94]\\text{   }-{{{{inv}}}}_{power.lii, ny, q} + {{{{inv}}}}_{power.lii, ny, q-1} + {{{prod}}}_{power.lii, ny, q, {operate}, lii.charge} - {{{{expd}}}}_{power.lii, ny, q, {operate}, lii.discharge} = 0$"
      ],
      "text/plain": [
       "<IPython.core.display.Math object>"
      ]
     },
     "metadata": {},
     "output_type": "display_data"
    },
    {
     "data": {
      "text/latex": [
       "$\\displaystyle [95]\\text{   }{{{{inv}}}}_{power.lii, ny, q} - {{{{icap}}}}_{power.lii, ny, y} \\leq 0$"
      ],
      "text/plain": [
       "<IPython.core.display.Math object>"
      ]
     },
     "metadata": {},
     "output_type": "display_data"
    }
   ],
   "source": [
    "m.inventory.show()"
   ]
  },
  {
   "cell_type": "code",
   "execution_count": null,
   "id": "013192d9",
   "metadata": {},
   "outputs": [
    {
     "data": {
      "text/latex": [
       "$\\displaystyle [0]\\text{   }{{{cons}}}_{solar, ntw, y} - {{{expd}}}_{solar, ho, y, {operate}, pv} - {{{{expd}}}}_{solar, sd, y, {operate}, pv} - {{{{expd}}}}_{solar, ny, y, {operate}, pv} = 0$"
      ],
      "text/plain": [
       "<IPython.core.display.Math object>"
      ]
     },
     "metadata": {},
     "output_type": "display_data"
    },
    {
     "data": {
      "text/latex": [
       "$\\displaystyle [1]\\text{   }{{{cons}}}_{solar, ntw, y} - 1200 \\leq 0$"
      ],
      "text/plain": [
       "<IPython.core.display.Math object>"
      ]
     },
     "metadata": {},
     "output_type": "display_data"
    },
    {
     "data": {
      "text/latex": [
       "$\\displaystyle [52]\\text{   }{{{expd}}}_{solar, ho, y, {operate}, pv} - {φ}_{} \\cdot {{{{opr}}}}_{pv, ho, y} = 0$"
      ],
      "text/plain": [
       "<IPython.core.display.Math object>"
      ]
     },
     "metadata": {},
     "output_type": "display_data"
    },
    {
     "data": {
      "text/latex": [
       "$\\displaystyle [74]\\text{   }{{{{expd}}}}_{solar, sd, y, {operate}, pv} - {φ}_{} \\cdot {{{{opr}}}}_{pv, sd, y} = 0$"
      ],
      "text/plain": [
       "<IPython.core.display.Math object>"
      ]
     },
     "metadata": {},
     "output_type": "display_data"
    },
    {
     "data": {
      "text/latex": [
       "$\\displaystyle [90]\\text{   }{{{{expd}}}}_{solar, ny, y, {operate}, pv} - {φ}_{} \\cdot {{{{opr}}}}_{pv, ny, y} = 0$"
      ],
      "text/plain": [
       "<IPython.core.display.Math object>"
      ]
     },
     "metadata": {},
     "output_type": "display_data"
    }
   ],
   "source": [
    "m.solar.show()"
   ]
  },
  {
   "cell_type": "code",
   "execution_count": 18,
   "id": "0c363416",
   "metadata": {},
   "outputs": [
    {
     "data": {
      "text/latex": [
       "$\\displaystyle [21]\\text{   }{{{spend}}}_{usd, ntw, y, {capacity}, wf} - {{{spend}}}_{usd, sd, y, {capacity}, wf} - {{{{spend}}}}_{usd, ho, y, {capacity}, wf} - {{{{spend}}}}_{usd, ny, y, {capacity}, wf} = 0$"
      ],
      "text/plain": [
       "<IPython.core.display.Math object>"
      ]
     },
     "metadata": {},
     "output_type": "display_data"
    },
    {
     "data": {
      "text/latex": [
       "$\\displaystyle [22]\\text{   }{{{spend}}}_{usd, sd, y, {capacity}, wf} - 90000 \\cdot {{{{cap}}}}_{wf, sd, y} = 0$"
      ],
      "text/plain": [
       "<IPython.core.display.Math object>"
      ]
     },
     "metadata": {},
     "output_type": "display_data"
    },
    {
     "data": {
      "text/latex": [
       "$\\displaystyle [23]\\text{   }{{{spend}}}_{usd, ho, y, {capacity}, wf} - 70000 \\cdot {{{{cap}}}}_{wf, ho, y} = 0$"
      ],
      "text/plain": [
       "<IPython.core.display.Math object>"
      ]
     },
     "metadata": {},
     "output_type": "display_data"
    },
    {
     "data": {
      "text/latex": [
       "$\\displaystyle [24]\\text{   }{{{spend}}}_{usd, ny, y, {capacity}, wf} - 60000 \\cdot {{{{cap}}}}_{wf, ny, y} = 0$"
      ],
      "text/plain": [
       "<IPython.core.display.Math object>"
      ]
     },
     "metadata": {},
     "output_type": "display_data"
    },
    {
     "data": {
      "text/latex": [
       "$\\displaystyle [26]\\text{   }{{{spend}}}_{usd, ntw, y, {operate}, wf} - 49 \\cdot {{{{opr}}}}_{wf, ntw, y} = 0$"
      ],
      "text/plain": [
       "<IPython.core.display.Math object>"
      ]
     },
     "metadata": {},
     "output_type": "display_data"
    },
    {
     "data": {
      "text/latex": [
       "$\\displaystyle [34]\\text{   }{{{spend}}}_{usd, ntw, y, {capacity}, pv} - 1439046 \\cdot {{{{cap}}}}_{pv, ntw, y} = 0$"
      ],
      "text/plain": [
       "<IPython.core.display.Math object>"
      ]
     },
     "metadata": {},
     "output_type": "display_data"
    },
    {
     "data": {
      "text/latex": [
       "$\\displaystyle [36]\\text{   }{{{spend}}}_{usd, ntw, y, {operate}, pv} - 90000 \\cdot {{{{opr}}}}_{pv, ntw, y} = 0$"
      ],
      "text/plain": [
       "<IPython.core.display.Math object>"
      ]
     },
     "metadata": {},
     "output_type": "display_data"
    },
    {
     "data": {
      "text/latex": [
       "$\\displaystyle [39]\\text{   }{{{spend}}}_{usd, ntw, y, {invcapacity}, power.lii} - 1343614 \\cdot {{{icap}}}_{power.lii, ntw, y} = 0$"
      ],
      "text/plain": [
       "<IPython.core.display.Math object>"
      ]
     },
     "metadata": {},
     "output_type": "display_data"
    },
    {
     "data": {
      "text/latex": [
       "$\\displaystyle [40]\\text{   }{{{spend}}}_{usd, ntw, y, {inventory}, power.lii} - 2000 \\cdot {{{inv}}}_{power.lii, ntw, y} = 0$"
      ],
      "text/plain": [
       "<IPython.core.display.Math object>"
      ]
     },
     "metadata": {},
     "output_type": "display_data"
    },
    {
     "data": {
      "text/latex": [
       "$\\displaystyle [50]\\text{   }{{{spend}}}_{usd, ntw, y, {consume}, cement} - 17 \\cdot {{{{cons}}}}_{cement, ntw, y} = 0$"
      ],
      "text/plain": [
       "<IPython.core.display.Math object>"
      ]
     },
     "metadata": {},
     "output_type": "display_data"
    }
   ],
   "source": [
    "m.spend.show()"
   ]
  },
  {
   "cell_type": "code",
   "execution_count": 19,
   "id": "7e29aa5c",
   "metadata": {},
   "outputs": [
    {
     "data": {
      "text/plain": [
       "{release: {(power, ntw, q): [(power, ho, q), (power, sd, q), (power, ny, q)]},\n",
       " capacity: {(wf, ntw, y): [(wf, sd, y), (wf, ho, y), (wf, ny, y)],\n",
       "  (pv, ntw, y): [(pv, sd, y), (pv, ho, y), (pv, ny, y)]},\n",
       " operate: {(wf, ntw, q): [(wf, ho, q), (wf, sd, q), (wf, ny, q)],\n",
       "  (wf, ntw, y): [(wf, ntw, q)],\n",
       "  (pv, ntw, q): [(pv, sd, q), (pv, ho, q), (pv, ny, q)],\n",
       "  (pv, ntw, y): [(pv, ntw, q), (pv, ho, y)],\n",
       "  (pv, ho, y): [(pv, ho, q)]},\n",
       " spend: {(usd, ntw, y, capacity, wf): [(usd, sd, y, capacity, wf),\n",
       "   (usd, ho, y, capacity, wf),\n",
       "   (usd, ny, y, capacity, wf)]},\n",
       " produce: {(power, ntw, y, operate, pv): [(power, ho, y, operate, pv)]}}"
      ]
     },
     "execution_count": 19,
     "metadata": {},
     "output_type": "execute_result"
    }
   ],
   "source": [
    "m.maps"
   ]
  },
  {
   "cell_type": "code",
   "execution_count": 20,
   "id": "1ed201a5",
   "metadata": {},
   "outputs": [
    {
     "data": {
      "text/markdown": [
       "# Mathematical Program for Program(example4)"
      ],
      "text/plain": [
       "<IPython.core.display.Markdown object>"
      ]
     },
     "metadata": {},
     "output_type": "display_data"
    },
    {
     "data": {
      "text/markdown": [
       "<br><br>"
      ],
      "text/plain": [
       "<IPython.core.display.Markdown object>"
      ]
     },
     "metadata": {},
     "output_type": "display_data"
    },
    {
     "data": {
      "text/markdown": [
       "## Index Sets"
      ],
      "text/plain": [
       "<IPython.core.display.Markdown object>"
      ]
     },
     "metadata": {},
     "output_type": "display_data"
    },
    {
     "data": {
      "text/latex": [
       "$\\displaystyle currencies = \\{ usd \\}$"
      ],
      "text/plain": [
       "<IPython.core.display.Math object>"
      ]
     },
     "metadata": {},
     "output_type": "display_data"
    },
    {
     "data": {
      "text/latex": [
       "$\\displaystyle locations = \\{ ho, sd, ny, ntw \\}$"
      ],
      "text/plain": [
       "<IPython.core.display.Math object>"
      ]
     },
     "metadata": {},
     "output_type": "display_data"
    },
    {
     "data": {
      "text/latex": [
       "$\\displaystyle resources = \\{ power, wind, solar, power.lii \\}$"
      ],
      "text/plain": [
       "<IPython.core.display.Math object>"
      ]
     },
     "metadata": {},
     "output_type": "display_data"
    },
    {
     "data": {
      "text/latex": [
       "$\\displaystyle y = \\{ {y_{0}} \\}$"
      ],
      "text/plain": [
       "<IPython.core.display.Math object>"
      ]
     },
     "metadata": {},
     "output_type": "display_data"
    },
    {
     "data": {
      "text/latex": [
       "$\\displaystyle q = \\{ {q_{0}}, {q_{1}}, {q_{2}}, {q_{3}} \\}$"
      ],
      "text/plain": [
       "<IPython.core.display.Math object>"
      ]
     },
     "metadata": {},
     "output_type": "display_data"
    },
    {
     "data": {
      "text/latex": [
       "$\\displaystyle processes = \\{ wf, pv, lii.charge, lii.discharge \\}$"
      ],
      "text/plain": [
       "<IPython.core.display.Math object>"
      ]
     },
     "metadata": {},
     "output_type": "display_data"
    },
    {
     "data": {
      "text/latex": [
       "$\\displaystyle storages = \\{ lii \\}$"
      ],
      "text/plain": [
       "<IPython.core.display.Math object>"
      ]
     },
     "metadata": {},
     "output_type": "display_data"
    },
    {
     "data": {
      "text/latex": [
       "$\\displaystyle materials = \\{ cement \\}$"
      ],
      "text/plain": [
       "<IPython.core.display.Math object>"
      ]
     },
     "metadata": {},
     "output_type": "display_data"
    },
    {
     "data": {
      "text/latex": [
       "$\\displaystyle linkages = \\{ ho-sd, sd-ho, road, -road \\}$"
      ],
      "text/plain": [
       "<IPython.core.display.Math object>"
      ]
     },
     "metadata": {},
     "output_type": "display_data"
    },
    {
     "data": {
      "text/markdown": [
       "<br><br>"
      ],
      "text/plain": [
       "<IPython.core.display.Markdown object>"
      ]
     },
     "metadata": {},
     "output_type": "display_data"
    },
    {
     "data": {
      "text/markdown": [
       "## s.t."
      ],
      "text/plain": [
       "<IPython.core.display.Markdown object>"
      ]
     },
     "metadata": {},
     "output_type": "display_data"
    },
    {
     "data": {
      "text/markdown": [
       "### Bound Constraint Sets"
      ],
      "text/plain": [
       "<IPython.core.display.Markdown object>"
      ]
     },
     "metadata": {},
     "output_type": "display_data"
    },
    {
     "data": {
      "text/latex": [
       "$\\displaystyle [1]\\text{   }{{{cons}}}_{solar, ntw, y} - 1200 \\leq 0$"
      ],
      "text/plain": [
       "<IPython.core.display.Math object>"
      ]
     },
     "metadata": {},
     "output_type": "display_data"
    },
    {
     "data": {
      "text/latex": [
       "$\\displaystyle [3]\\text{   }{{{{cons}}}}_{wind, ntw, y} - 1200 \\leq 0$"
      ],
      "text/plain": [
       "<IPython.core.display.Math object>"
      ]
     },
     "metadata": {},
     "output_type": "display_data"
    },
    {
     "data": {
      "text/latex": [
       "$\\displaystyle [6]\\text{   }-{{{{rlse}}}}_{power, ho, q} + {φ}_{} \\leq 0$"
      ],
      "text/plain": [
       "<IPython.core.display.Math object>"
      ]
     },
     "metadata": {},
     "output_type": "display_data"
    },
    {
     "data": {
      "text/latex": [
       "$\\displaystyle [7]\\text{   }-{{{{rlse}}}}_{power, sd, q} + {φ}_{} \\leq 0$"
      ],
      "text/plain": [
       "<IPython.core.display.Math object>"
      ]
     },
     "metadata": {},
     "output_type": "display_data"
    },
    {
     "data": {
      "text/latex": [
       "$\\displaystyle [8]\\text{   }-{{{{rlse}}}}_{power, ny, q} + {φ}_{} \\leq 0$"
      ],
      "text/plain": [
       "<IPython.core.display.Math object>"
      ]
     },
     "metadata": {},
     "output_type": "display_data"
    },
    {
     "data": {
      "text/latex": [
       "$\\displaystyle [11]\\text{   }10 \\cdot {{{\\breve{{cap}}}}}_{wf, sd, y} - {{{{cap}}}}_{wf, sd, y} \\leq 0$"
      ],
      "text/plain": [
       "<IPython.core.display.Math object>"
      ]
     },
     "metadata": {},
     "output_type": "display_data"
    },
    {
     "data": {
      "text/latex": [
       "$\\displaystyle [12]\\text{   }7 \\cdot {{{{\\breve{{cap}}}}}}_{wf, ho, y} - {{{{cap}}}}_{wf, ho, y} \\leq 0$"
      ],
      "text/plain": [
       "<IPython.core.display.Math object>"
      ]
     },
     "metadata": {},
     "output_type": "display_data"
    },
    {
     "data": {
      "text/latex": [
       "$\\displaystyle [13]\\text{   }20 \\cdot {{{{\\breve{{cap}}}}}}_{wf, ny, y} - {{{{cap}}}}_{wf, ny, y} \\leq 0$"
      ],
      "text/plain": [
       "<IPython.core.display.Math object>"
      ]
     },
     "metadata": {},
     "output_type": "display_data"
    },
    {
     "data": {
      "text/latex": [
       "$\\displaystyle [14]\\text{   }{{{{cap}}}}_{wf, sd, y} - 100 \\cdot {{{{\\breve{{cap}}}}}}_{wf, sd, y} \\leq 0$"
      ],
      "text/plain": [
       "<IPython.core.display.Math object>"
      ]
     },
     "metadata": {},
     "output_type": "display_data"
    },
    {
     "data": {
      "text/latex": [
       "$\\displaystyle [15]\\text{   }{{{{cap}}}}_{wf, ho, y} - 100 \\cdot {{{{\\breve{{cap}}}}}}_{wf, ho, y} \\leq 0$"
      ],
      "text/plain": [
       "<IPython.core.display.Math object>"
      ]
     },
     "metadata": {},
     "output_type": "display_data"
    },
    {
     "data": {
      "text/latex": [
       "$\\displaystyle [16]\\text{   }{{{{cap}}}}_{wf, ny, y} - 100 \\cdot {{{{\\breve{{cap}}}}}}_{wf, ny, y} \\leq 0$"
      ],
      "text/plain": [
       "<IPython.core.display.Math object>"
      ]
     },
     "metadata": {},
     "output_type": "display_data"
    },
    {
     "data": {
      "text/latex": [
       "$\\displaystyle [18]\\text{   }{{{{opr}}}}_{wf, ho, q} - {φ}_{} \\cdot {{{{cap}}}}_{wf, ho, y} \\leq 0$"
      ],
      "text/plain": [
       "<IPython.core.display.Math object>"
      ]
     },
     "metadata": {},
     "output_type": "display_data"
    },
    {
     "data": {
      "text/latex": [
       "$\\displaystyle [19]\\text{   }{{{{opr}}}}_{wf, sd, q} - {φ}_{} \\cdot {{{{cap}}}}_{wf, sd, y} \\leq 0$"
      ],
      "text/plain": [
       "<IPython.core.display.Math object>"
      ]
     },
     "metadata": {},
     "output_type": "display_data"
    },
    {
     "data": {
      "text/latex": [
       "$\\displaystyle [20]\\text{   }{{{{opr}}}}_{wf, ny, q} - {φ}_{} \\cdot {{{{cap}}}}_{wf, ny, y} \\leq 0$"
      ],
      "text/plain": [
       "<IPython.core.display.Math object>"
      ]
     },
     "metadata": {},
     "output_type": "display_data"
    },
    {
     "data": {
      "text/latex": [
       "$\\displaystyle [27]\\text{   }{{{{cap}}}}_{pv, ntw, y} - 100 \\cdot {{{{\\breve{{cap}}}}}}_{pv, ntw, y} \\leq 0$"
      ],
      "text/plain": [
       "<IPython.core.display.Math object>"
      ]
     },
     "metadata": {},
     "output_type": "display_data"
    },
    {
     "data": {
      "text/latex": [
       "$\\displaystyle [28]\\text{   }10 \\cdot {{{{\\breve{{cap}}}}}}_{pv, ntw, y} - {{{{cap}}}}_{pv, ntw, y} \\leq 0$"
      ],
      "text/plain": [
       "<IPython.core.display.Math object>"
      ]
     },
     "metadata": {},
     "output_type": "display_data"
    },
    {
     "data": {
      "text/latex": [
       "$\\displaystyle [31]\\text{   }{{{{opr}}}}_{pv, sd, q} - {φ}_{} \\cdot {{{{cap}}}}_{pv, sd, y} \\leq 0$"
      ],
      "text/plain": [
       "<IPython.core.display.Math object>"
      ]
     },
     "metadata": {},
     "output_type": "display_data"
    },
    {
     "data": {
      "text/latex": [
       "$\\displaystyle [32]\\text{   }{{{{opr}}}}_{pv, ho, q} - {φ}_{} \\cdot {{{{cap}}}}_{pv, ho, y} \\leq 0$"
      ],
      "text/plain": [
       "<IPython.core.display.Math object>"
      ]
     },
     "metadata": {},
     "output_type": "display_data"
    },
    {
     "data": {
      "text/latex": [
       "$\\displaystyle [33]\\text{   }{{{{opr}}}}_{pv, ny, q} - {φ}_{} \\cdot {{{{cap}}}}_{pv, ny, y} \\leq 0$"
      ],
      "text/plain": [
       "<IPython.core.display.Math object>"
      ]
     },
     "metadata": {},
     "output_type": "display_data"
    },
    {
     "data": {
      "text/latex": [
       "$\\displaystyle [37]\\text{   }{{{icap}}}_{power.lii, ntw, y} - 100 \\cdot {{{\\breve{{icap}}}}}_{power.lii, ntw, y} \\leq 0$"
      ],
      "text/plain": [
       "<IPython.core.display.Math object>"
      ]
     },
     "metadata": {},
     "output_type": "display_data"
    },
    {
     "data": {
      "text/latex": [
       "$\\displaystyle [38]\\text{   }10 \\cdot {{{\\breve{{icap}}}}}_{power.lii, ntw, y} - {{{icap}}}_{power.lii, ntw, y} \\leq 0$"
      ],
      "text/plain": [
       "<IPython.core.display.Math object>"
      ]
     },
     "metadata": {},
     "output_type": "display_data"
    },
    {
     "data": {
      "text/latex": [
       "$\\displaystyle [41]\\text{   }{{{{cap}}}}_{lii.charge, ntw, y} - 100 \\leq 0$"
      ],
      "text/plain": [
       "<IPython.core.display.Math object>"
      ]
     },
     "metadata": {},
     "output_type": "display_data"
    },
    {
     "data": {
      "text/latex": [
       "$\\displaystyle [42]\\text{   }{{{{opr}}}}_{lii.charge, ntw, y} - {{{{cap}}}}_{lii.charge, ntw, y} \\leq 0$"
      ],
      "text/plain": [
       "<IPython.core.display.Math object>"
      ]
     },
     "metadata": {},
     "output_type": "display_data"
    },
    {
     "data": {
      "text/latex": [
       "$\\displaystyle [43]\\text{   }{{{{cap}}}}_{lii.discharge, ntw, y} - 100 \\leq 0$"
      ],
      "text/plain": [
       "<IPython.core.display.Math object>"
      ]
     },
     "metadata": {},
     "output_type": "display_data"
    },
    {
     "data": {
      "text/latex": [
       "$\\displaystyle [44]\\text{   }{{{{opr}}}}_{lii.discharge, ntw, y} - {{{{cap}}}}_{lii.discharge, ntw, y} \\leq 0$"
      ],
      "text/plain": [
       "<IPython.core.display.Math object>"
      ]
     },
     "metadata": {},
     "output_type": "display_data"
    },
    {
     "data": {
      "text/latex": [
       "$\\displaystyle [49]\\text{   }{{{{cons}}}}_{cement, ntw, y} - 1000000 \\leq 0$"
      ],
      "text/plain": [
       "<IPython.core.display.Math object>"
      ]
     },
     "metadata": {},
     "output_type": "display_data"
    },
    {
     "data": {
      "text/markdown": [
       "### Calculation Constraint Sets"
      ],
      "text/plain": [
       "<IPython.core.display.Markdown object>"
      ]
     },
     "metadata": {},
     "output_type": "display_data"
    },
    {
     "data": {
      "text/latex": [
       "$\\displaystyle [22]\\text{   }{{{spend}}}_{usd, sd, y, {capacity}, wf} - 90000 \\cdot {{{{cap}}}}_{wf, sd, y} = 0$"
      ],
      "text/plain": [
       "<IPython.core.display.Math object>"
      ]
     },
     "metadata": {},
     "output_type": "display_data"
    },
    {
     "data": {
      "text/latex": [
       "$\\displaystyle [23]\\text{   }{{{spend}}}_{usd, ho, y, {capacity}, wf} - 70000 \\cdot {{{{cap}}}}_{wf, ho, y} = 0$"
      ],
      "text/plain": [
       "<IPython.core.display.Math object>"
      ]
     },
     "metadata": {},
     "output_type": "display_data"
    },
    {
     "data": {
      "text/latex": [
       "$\\displaystyle [24]\\text{   }{{{spend}}}_{usd, ny, y, {capacity}, wf} - 60000 \\cdot {{{{cap}}}}_{wf, ny, y} = 0$"
      ],
      "text/plain": [
       "<IPython.core.display.Math object>"
      ]
     },
     "metadata": {},
     "output_type": "display_data"
    },
    {
     "data": {
      "text/latex": [
       "$\\displaystyle [26]\\text{   }{{{spend}}}_{usd, ntw, y, {operate}, wf} - 49 \\cdot {{{{opr}}}}_{wf, ntw, y} = 0$"
      ],
      "text/plain": [
       "<IPython.core.display.Math object>"
      ]
     },
     "metadata": {},
     "output_type": "display_data"
    },
    {
     "data": {
      "text/latex": [
       "$\\displaystyle [34]\\text{   }{{{spend}}}_{usd, ntw, y, {capacity}, pv} - 1439046 \\cdot {{{{cap}}}}_{pv, ntw, y} = 0$"
      ],
      "text/plain": [
       "<IPython.core.display.Math object>"
      ]
     },
     "metadata": {},
     "output_type": "display_data"
    },
    {
     "data": {
      "text/latex": [
       "$\\displaystyle [36]\\text{   }{{{spend}}}_{usd, ntw, y, {operate}, pv} - 90000 \\cdot {{{{opr}}}}_{pv, ntw, y} = 0$"
      ],
      "text/plain": [
       "<IPython.core.display.Math object>"
      ]
     },
     "metadata": {},
     "output_type": "display_data"
    },
    {
     "data": {
      "text/latex": [
       "$\\displaystyle [39]\\text{   }{{{spend}}}_{usd, ntw, y, {invcapacity}, power.lii} - 1343614 \\cdot {{{icap}}}_{power.lii, ntw, y} = 0$"
      ],
      "text/plain": [
       "<IPython.core.display.Math object>"
      ]
     },
     "metadata": {},
     "output_type": "display_data"
    },
    {
     "data": {
      "text/latex": [
       "$\\displaystyle [40]\\text{   }{{{spend}}}_{usd, ntw, y, {inventory}, power.lii} - 2000 \\cdot {{{inv}}}_{power.lii, ntw, y} = 0$"
      ],
      "text/plain": [
       "<IPython.core.display.Math object>"
      ]
     },
     "metadata": {},
     "output_type": "display_data"
    },
    {
     "data": {
      "text/latex": [
       "$\\displaystyle [45]\\text{   }{{emit}}_{gwp, ntw, y, {capacity}, wf} - 1000 \\cdot {{{{cap}}}}_{wf, ntw, y} = 0$"
      ],
      "text/plain": [
       "<IPython.core.display.Math object>"
      ]
     },
     "metadata": {},
     "output_type": "display_data"
    },
    {
     "data": {
      "text/latex": [
       "$\\displaystyle [46]\\text{   }{{{emit}}}_{gwp, ntw, y, {capacity}, pv} - 2000 \\cdot {{{{cap}}}}_{pv, ntw, y} = 0$"
      ],
      "text/plain": [
       "<IPython.core.display.Math object>"
      ]
     },
     "metadata": {},
     "output_type": "display_data"
    },
    {
     "data": {
      "text/latex": [
       "$\\displaystyle [47]\\text{   }{{{emit}}}_{gwp, ntw, y, {invcapacity}, power.lii} - 3000 \\cdot {{{icap}}}_{power.lii, ntw, y} = 0$"
      ],
      "text/plain": [
       "<IPython.core.display.Math object>"
      ]
     },
     "metadata": {},
     "output_type": "display_data"
    },
    {
     "data": {
      "text/latex": [
       "$\\displaystyle [50]\\text{   }{{{spend}}}_{usd, ntw, y, {consume}, cement} - 17 \\cdot {{{{cons}}}}_{cement, ntw, y} = 0$"
      ],
      "text/plain": [
       "<IPython.core.display.Math object>"
      ]
     },
     "metadata": {},
     "output_type": "display_data"
    },
    {
     "data": {
      "text/latex": [
       "$\\displaystyle [51]\\text{   }{{{emit}}}_{gwp, ntw, y, {consume}, cement} - 0.9 \\cdot {{{{cons}}}}_{cement, ntw, y} = 0$"
      ],
      "text/plain": [
       "<IPython.core.display.Math object>"
      ]
     },
     "metadata": {},
     "output_type": "display_data"
    },
    {
     "data": {
      "text/latex": [
       "$\\displaystyle [52]\\text{   }{{use}}_{cement, ntw, y, {capacity}, wf} - 400 \\cdot {{{{cap}}}}_{wf, ntw, y} = 0$"
      ],
      "text/plain": [
       "<IPython.core.display.Math object>"
      ]
     },
     "metadata": {},
     "output_type": "display_data"
    },
    {
     "data": {
      "text/latex": [
       "$\\displaystyle [53]\\text{   }{{{use}}}_{cement, ntw, y, {capacity}, pv} - 560 \\cdot {{{{cap}}}}_{pv, ntw, y} = 0$"
      ],
      "text/plain": [
       "<IPython.core.display.Math object>"
      ]
     },
     "metadata": {},
     "output_type": "display_data"
    },
    {
     "data": {
      "text/latex": [
       "$\\displaystyle [54]\\text{   }{{{use}}}_{cement, ntw, y, {invcapacity}, power.lii} - 300 \\cdot {{{icap}}}_{power.lii, ntw, y} = 0$"
      ],
      "text/plain": [
       "<IPython.core.display.Math object>"
      ]
     },
     "metadata": {},
     "output_type": "display_data"
    },
    {
     "data": {
      "text/markdown": [
       "### General Resource Balance Constraint Sets"
      ],
      "text/plain": [
       "<IPython.core.display.Markdown object>"
      ]
     },
     "metadata": {},
     "output_type": "display_data"
    },
    {
     "data": {
      "text/latex": [
       "$\\displaystyle [0]\\text{   }{{{cons}}}_{solar, ntw, y} = 0$"
      ],
      "text/plain": [
       "<IPython.core.display.Math object>"
      ]
     },
     "metadata": {},
     "output_type": "display_data"
    },
    {
     "data": {
      "text/latex": [
       "$\\displaystyle [2]\\text{   }{{{{cons}}}}_{wind, ntw, y} = 0$"
      ],
      "text/plain": [
       "<IPython.core.display.Math object>"
      ]
     },
     "metadata": {},
     "output_type": "display_data"
    },
    {
     "data": {
      "text/latex": [
       "$\\displaystyle [4]\\text{   }-{{{{rlse}}}}_{power, ntw, q} - {{{{rlse}}}}_{power, ho, q} - {{{{rlse}}}}_{power, sd, q} - {{{{rlse}}}}_{power, ny, q} = 0$"
      ],
      "text/plain": [
       "<IPython.core.display.Math object>"
      ]
     },
     "metadata": {},
     "output_type": "display_data"
    },
    {
     "data": {
      "text/latex": [
       "$\\displaystyle [48]\\text{   }{{{{cons}}}}_{cement, ntw, y} - {{use}}_{cement, ntw, y, {capacity}, wf} - {{{use}}}_{cement, ntw, y, {capacity}, pv} - {{{use}}}_{cement, ntw, y, {invcapacity}, power.lii} = 0$"
      ],
      "text/plain": [
       "<IPython.core.display.Math object>"
      ]
     },
     "metadata": {},
     "output_type": "display_data"
    },
    {
     "data": {
      "text/latex": [
       "$\\displaystyle [55]\\text{   }{{{prod}}}_{power, ntw, y, {operate}, pv} + {{{prod}}}_{power, ho, y, {operate}, pv} = 0$"
      ],
      "text/plain": [
       "<IPython.core.display.Math object>"
      ]
     },
     "metadata": {},
     "output_type": "display_data"
    },
    {
     "data": {
      "text/markdown": [
       "### Mapping Constraint Sets"
      ],
      "text/plain": [
       "<IPython.core.display.Markdown object>"
      ]
     },
     "metadata": {},
     "output_type": "display_data"
    },
    {
     "data": {
      "text/latex": [
       "$\\displaystyle [5]\\text{   }{{{{rlse}}}}_{power, ntw, q} - {{{{rlse}}}}_{power, ho, q} - {{{{{rlse}}}}}_{power, sd, q} - {{{{{rlse}}}}}_{power, ny, q} = 0$"
      ],
      "text/plain": [
       "<IPython.core.display.Math object>"
      ]
     },
     "metadata": {},
     "output_type": "display_data"
    },
    {
     "data": {
      "text/latex": [
       "$\\displaystyle [9]\\text{   }{{{{cap}}}}_{wf, ntw, y} - {{{{cap}}}}_{wf, sd, y} - {{{{{cap}}}}}_{wf, ho, y} - {{{{{cap}}}}}_{wf, ny, y} = 0$"
      ],
      "text/plain": [
       "<IPython.core.display.Math object>"
      ]
     },
     "metadata": {},
     "output_type": "display_data"
    },
    {
     "data": {
      "text/latex": [
       "$\\displaystyle [10]\\text{   }{{{{\\breve{{cap}}}}}}_{wf, ntw, y} - {{{{{cap}}}}}_{wf, sd, y} - {{{{{cap}}}}}_{wf, ho, y} - {{{{{cap}}}}}_{wf, ny, y} = 0$"
      ],
      "text/plain": [
       "<IPython.core.display.Math object>"
      ]
     },
     "metadata": {},
     "output_type": "display_data"
    },
    {
     "data": {
      "text/latex": [
       "$\\displaystyle [17]\\text{   }{{{{opr}}}}_{wf, ntw, q} - {{{{opr}}}}_{wf, ho, q} - {{{{{opr}}}}}_{wf, sd, q} - {{{{{opr}}}}}_{wf, ny, q} = 0$"
      ],
      "text/plain": [
       "<IPython.core.display.Math object>"
      ]
     },
     "metadata": {},
     "output_type": "display_data"
    },
    {
     "data": {
      "text/latex": [
       "$\\displaystyle [21]\\text{   }{{{spend}}}_{usd, ntw, y, {capacity}, wf} - {{{spend}}}_{usd, sd, y, {capacity}, wf} - {{{{spend}}}}_{usd, ho, y, {capacity}, wf} - {{{{spend}}}}_{usd, ny, y, {capacity}, wf} = 0$"
      ],
      "text/plain": [
       "<IPython.core.display.Math object>"
      ]
     },
     "metadata": {},
     "output_type": "display_data"
    },
    {
     "data": {
      "text/latex": [
       "$\\displaystyle [25]\\text{   }{{{{opr}}}}_{wf, ntw, y} - \\sum_{i \\in q} {{{{opr}}}}_{wf, ntw, i} = 0$"
      ],
      "text/plain": [
       "<IPython.core.display.Math object>"
      ]
     },
     "metadata": {},
     "output_type": "display_data"
    },
    {
     "data": {
      "text/latex": [
       "$\\displaystyle [29]\\text{   }{{{{opr}}}}_{pv, ntw, q} - {{{{{opr}}}}}_{pv, sd, q} - {{{{{opr}}}}}_{pv, ho, q} - {{{{{opr}}}}}_{pv, ny, q} = 0$"
      ],
      "text/plain": [
       "<IPython.core.display.Math object>"
      ]
     },
     "metadata": {},
     "output_type": "display_data"
    },
    {
     "data": {
      "text/latex": [
       "$\\displaystyle [30]\\text{   }{{{{cap}}}}_{pv, ntw, y} - {{{{{cap}}}}}_{pv, sd, y} - {{{{{cap}}}}}_{pv, ho, y} - {{{{{cap}}}}}_{pv, ny, y} = 0$"
      ],
      "text/plain": [
       "<IPython.core.display.Math object>"
      ]
     },
     "metadata": {},
     "output_type": "display_data"
    },
    {
     "data": {
      "text/latex": [
       "$\\displaystyle [35]\\text{   }{{{{opr}}}}_{pv, ntw, y} - \\sum_{i \\in q} {{{{opr}}}}_{pv, ntw, i} = 0$"
      ],
      "text/plain": [
       "<IPython.core.display.Math object>"
      ]
     },
     "metadata": {},
     "output_type": "display_data"
    },
    {
     "data": {
      "text/latex": [
       "$\\displaystyle [56]\\text{   }{{{prod}}}_{power, ntw, y, {operate}, pv} - {{{prod}}}_{power, ho, y, {operate}, pv} = 0$"
      ],
      "text/plain": [
       "<IPython.core.display.Math object>"
      ]
     },
     "metadata": {},
     "output_type": "display_data"
    },
    {
     "data": {
      "text/latex": [
       "$\\displaystyle [57]\\text{   }{{{{opr}}}}_{pv, ho, y} - \\sum_{i \\in q} {{{{opr}}}}_{pv, ho, i} = 0$"
      ],
      "text/plain": [
       "<IPython.core.display.Math object>"
      ]
     },
     "metadata": {},
     "output_type": "display_data"
    }
   ],
   "source": [
    "m.show()"
   ]
  },
  {
   "cell_type": "code",
   "execution_count": 22,
   "id": "d467476e",
   "metadata": {},
   "outputs": [
    {
     "data": {
      "text/markdown": [
       "# Mathematical Program for Program(example4)"
      ],
      "text/plain": [
       "<IPython.core.display.Markdown object>"
      ]
     },
     "metadata": {},
     "output_type": "display_data"
    },
    {
     "data": {
      "text/markdown": [
       "<br><br>"
      ],
      "text/plain": [
       "<IPython.core.display.Markdown object>"
      ]
     },
     "metadata": {},
     "output_type": "display_data"
    },
    {
     "data": {
      "text/markdown": [
       "## Index Sets"
      ],
      "text/plain": [
       "<IPython.core.display.Markdown object>"
      ]
     },
     "metadata": {},
     "output_type": "display_data"
    },
    {
     "data": {
      "text/latex": [
       "$\\displaystyle currencies = \\{ usd \\}$"
      ],
      "text/plain": [
       "<IPython.core.display.Math object>"
      ]
     },
     "metadata": {},
     "output_type": "display_data"
    },
    {
     "data": {
      "text/latex": [
       "$\\displaystyle locations = \\{ ho, sd, ny, ntw \\}$"
      ],
      "text/plain": [
       "<IPython.core.display.Math object>"
      ]
     },
     "metadata": {},
     "output_type": "display_data"
    },
    {
     "data": {
      "text/latex": [
       "$\\displaystyle resources = \\{ power, wind, solar, power.lii \\}$"
      ],
      "text/plain": [
       "<IPython.core.display.Math object>"
      ]
     },
     "metadata": {},
     "output_type": "display_data"
    },
    {
     "data": {
      "text/latex": [
       "$\\displaystyle y = \\{ {y_{0}} \\}$"
      ],
      "text/plain": [
       "<IPython.core.display.Math object>"
      ]
     },
     "metadata": {},
     "output_type": "display_data"
    },
    {
     "data": {
      "text/latex": [
       "$\\displaystyle q = \\{ {q_{0}}, {q_{1}}, {q_{2}}, {q_{3}} \\}$"
      ],
      "text/plain": [
       "<IPython.core.display.Math object>"
      ]
     },
     "metadata": {},
     "output_type": "display_data"
    },
    {
     "data": {
      "text/latex": [
       "$\\displaystyle processes = \\{ wf, pv, lii.charge, lii.discharge \\}$"
      ],
      "text/plain": [
       "<IPython.core.display.Math object>"
      ]
     },
     "metadata": {},
     "output_type": "display_data"
    },
    {
     "data": {
      "text/latex": [
       "$\\displaystyle storages = \\{ lii \\}$"
      ],
      "text/plain": [
       "<IPython.core.display.Math object>"
      ]
     },
     "metadata": {},
     "output_type": "display_data"
    },
    {
     "data": {
      "text/latex": [
       "$\\displaystyle materials = \\{ cement \\}$"
      ],
      "text/plain": [
       "<IPython.core.display.Math object>"
      ]
     },
     "metadata": {},
     "output_type": "display_data"
    },
    {
     "data": {
      "text/latex": [
       "$\\displaystyle linkages = \\{ ho-sd, sd-ho, road, -road \\}$"
      ],
      "text/plain": [
       "<IPython.core.display.Math object>"
      ]
     },
     "metadata": {},
     "output_type": "display_data"
    },
    {
     "data": {
      "text/markdown": [
       "<br><br>"
      ],
      "text/plain": [
       "<IPython.core.display.Markdown object>"
      ]
     },
     "metadata": {},
     "output_type": "display_data"
    },
    {
     "data": {
      "text/markdown": [
       "## s.t."
      ],
      "text/plain": [
       "<IPython.core.display.Markdown object>"
      ]
     },
     "metadata": {},
     "output_type": "display_data"
    },
    {
     "data": {
      "text/markdown": [
       "### Mapping Constraint Sets"
      ],
      "text/plain": [
       "<IPython.core.display.Markdown object>"
      ]
     },
     "metadata": {},
     "output_type": "display_data"
    },
    {
     "data": {
      "text/latex": [
       "$\\displaystyle [25]\\text{   }{{{{cap}}}}_{pv, ntw, y} - {{{{{cap}}}}}_{pv, sd, y} - {{{{{cap}}}}}_{pv, ho, y} - {{{{{cap}}}}}_{pv, ny, y} = 0$"
      ],
      "text/plain": [
       "<IPython.core.display.Math object>"
      ]
     },
     "metadata": {},
     "output_type": "display_data"
    },
    {
     "data": {
      "text/latex": [
       "$\\displaystyle [50]\\text{   }{{{{opr}}}}_{pv, ho, y} - \\sum_{i \\in q} {{{{opr}}}}_{pv, ho, i} = 0$"
      ],
      "text/plain": [
       "<IPython.core.display.Math object>"
      ]
     },
     "metadata": {},
     "output_type": "display_data"
    },
    {
     "data": {
      "text/latex": [
       "$\\displaystyle [51]\\text{   }{{{{opr}}}}_{pv, ntw, y} - {{{{{opr}}}}}_{pv, ho, y} - {{{{{opr}}}}}_{pv, sd, y} - {{{{{opr}}}}}_{pv, ny, y} = 0$"
      ],
      "text/plain": [
       "<IPython.core.display.Math object>"
      ]
     },
     "metadata": {},
     "output_type": "display_data"
    },
    {
     "data": {
      "text/latex": [
       "$\\displaystyle [54]\\text{   }{{{{opr}}}}_{wf, ho, y} - \\sum_{i \\in q} {{{{opr}}}}_{wf, ho, i} = 0$"
      ],
      "text/plain": [
       "<IPython.core.display.Math object>"
      ]
     },
     "metadata": {},
     "output_type": "display_data"
    },
    {
     "data": {
      "text/latex": [
       "$\\displaystyle [55]\\text{   }{{{{opr}}}}_{wf, ntw, y} - {{{{{opr}}}}}_{wf, ho, y} - {{{{{opr}}}}}_{wf, sd, y} - {{{{{opr}}}}}_{wf, ny, y} = 0$"
      ],
      "text/plain": [
       "<IPython.core.display.Math object>"
      ]
     },
     "metadata": {},
     "output_type": "display_data"
    },
    {
     "data": {
      "text/latex": [
       "$\\displaystyle [57]\\text{   }{{{{icap}}}}_{power.lii, ntw, y} - {{{{{icap}}}}}_{power.lii, ho, y} - {{{{{icap}}}}}_{power.lii, sd, y} - {{{{{icap}}}}}_{power.lii, ny, y} = 0$"
      ],
      "text/plain": [
       "<IPython.core.display.Math object>"
      ]
     },
     "metadata": {},
     "output_type": "display_data"
    },
    {
     "data": {
      "text/latex": [
       "$\\displaystyle [60]\\text{   }{{{{cap}}}}_{lii.charge, ntw, y} - {{{{{cap}}}}}_{lii.charge, ho, y} - {{{{{cap}}}}}_{lii.charge, sd, y} - {{{{{cap}}}}}_{lii.charge, ny, y} = 0$"
      ],
      "text/plain": [
       "<IPython.core.display.Math object>"
      ]
     },
     "metadata": {},
     "output_type": "display_data"
    },
    {
     "data": {
      "text/latex": [
       "$\\displaystyle [61]\\text{   }{{{{opr}}}}_{lii.charge, ntw, y} - {{{{{opr}}}}}_{lii.charge, ho, y} - {{{{{opr}}}}}_{lii.charge, sd, y} - {{{{{opr}}}}}_{lii.charge, ny, y} = 0$"
      ],
      "text/plain": [
       "<IPython.core.display.Math object>"
      ]
     },
     "metadata": {},
     "output_type": "display_data"
    },
    {
     "data": {
      "text/latex": [
       "$\\displaystyle [63]\\text{   }{{{{opr}}}}_{lii.charge, ho, y} - \\sum_{i \\in q} {{{{opr}}}}_{lii.charge, ho, i} = 0$"
      ],
      "text/plain": [
       "<IPython.core.display.Math object>"
      ]
     },
     "metadata": {},
     "output_type": "display_data"
    },
    {
     "data": {
      "text/latex": [
       "$\\displaystyle [66]\\text{   }{{{{cap}}}}_{lii.discharge, ntw, y} - {{{{{cap}}}}}_{lii.discharge, ho, y} - {{{{{cap}}}}}_{lii.discharge, sd, y} - {{{{{cap}}}}}_{lii.discharge, ny, y} = 0$"
      ],
      "text/plain": [
       "<IPython.core.display.Math object>"
      ]
     },
     "metadata": {},
     "output_type": "display_data"
    },
    {
     "data": {
      "text/latex": [
       "$\\displaystyle [67]\\text{   }{{{{opr}}}}_{lii.discharge, ntw, y} - {{{{{opr}}}}}_{lii.discharge, ho, y} - {{{{{opr}}}}}_{lii.discharge, sd, y} - {{{{{opr}}}}}_{lii.discharge, ny, y} = 0$"
      ],
      "text/plain": [
       "<IPython.core.display.Math object>"
      ]
     },
     "metadata": {},
     "output_type": "display_data"
    },
    {
     "data": {
      "text/latex": [
       "$\\displaystyle [69]\\text{   }{{{{opr}}}}_{lii.discharge, ho, y} - \\sum_{i \\in q} {{{{opr}}}}_{lii.discharge, ho, i} = 0$"
      ],
      "text/plain": [
       "<IPython.core.display.Math object>"
      ]
     },
     "metadata": {},
     "output_type": "display_data"
    },
    {
     "data": {
      "text/latex": [
       "$\\displaystyle [73]\\text{   }{{{{opr}}}}_{pv, sd, y} - \\sum_{i \\in q} {{{{opr}}}}_{pv, sd, i} = 0$"
      ],
      "text/plain": [
       "<IPython.core.display.Math object>"
      ]
     },
     "metadata": {},
     "output_type": "display_data"
    },
    {
     "data": {
      "text/latex": [
       "$\\displaystyle [76]\\text{   }{{{{opr}}}}_{wf, sd, y} - \\sum_{i \\in q} {{{{opr}}}}_{wf, sd, i} = 0$"
      ],
      "text/plain": [
       "<IPython.core.display.Math object>"
      ]
     },
     "metadata": {},
     "output_type": "display_data"
    },
    {
     "data": {
      "text/latex": [
       "$\\displaystyle [81]\\text{   }{{{{opr}}}}_{lii.charge, sd, y} - \\sum_{i \\in q} {{{{opr}}}}_{lii.charge, sd, i} = 0$"
      ],
      "text/plain": [
       "<IPython.core.display.Math object>"
      ]
     },
     "metadata": {},
     "output_type": "display_data"
    },
    {
     "data": {
      "text/latex": [
       "$\\displaystyle [85]\\text{   }{{{{opr}}}}_{lii.discharge, sd, y} - \\sum_{i \\in q} {{{{opr}}}}_{lii.discharge, sd, i} = 0$"
      ],
      "text/plain": [
       "<IPython.core.display.Math object>"
      ]
     },
     "metadata": {},
     "output_type": "display_data"
    },
    {
     "data": {
      "text/latex": [
       "$\\displaystyle [89]\\text{   }{{{{opr}}}}_{pv, ny, y} - \\sum_{i \\in q} {{{{opr}}}}_{pv, ny, i} = 0$"
      ],
      "text/plain": [
       "<IPython.core.display.Math object>"
      ]
     },
     "metadata": {},
     "output_type": "display_data"
    },
    {
     "data": {
      "text/latex": [
       "$\\displaystyle [92]\\text{   }{{{{opr}}}}_{wf, ny, y} - \\sum_{i \\in q} {{{{opr}}}}_{wf, ny, i} = 0$"
      ],
      "text/plain": [
       "<IPython.core.display.Math object>"
      ]
     },
     "metadata": {},
     "output_type": "display_data"
    },
    {
     "data": {
      "text/latex": [
       "$\\displaystyle [97]\\text{   }{{{{opr}}}}_{lii.charge, ny, y} - \\sum_{i \\in q} {{{{opr}}}}_{lii.charge, ny, i} = 0$"
      ],
      "text/plain": [
       "<IPython.core.display.Math object>"
      ]
     },
     "metadata": {},
     "output_type": "display_data"
    },
    {
     "data": {
      "text/latex": [
       "$\\displaystyle [101]\\text{   }{{{{opr}}}}_{lii.discharge, ny, y} - \\sum_{i \\in q} {{{{opr}}}}_{lii.discharge, ny, i} = 0$"
      ],
      "text/plain": [
       "<IPython.core.display.Math object>"
      ]
     },
     "metadata": {},
     "output_type": "display_data"
    }
   ],
   "source": [
    "m.show(category='Mapping')"
   ]
  },
  {
   "cell_type": "code",
   "execution_count": 23,
   "id": "de89149e",
   "metadata": {},
   "outputs": [
    {
     "name": "stdout",
     "output_type": "stream",
     "text": [
      "--- Mapping spend: (usd, ntw, y, operate, wf) → (usd, ntw, y)\n",
      "    Completed in 0.000s\n",
      "--- Mapping spend: (usd, ntw, y, capacity, pv) → (usd, ntw, y)\n",
      "    Completed in 0.000s\n",
      "--- Mapping spend: (usd, ntw, y, operate, pv) → (usd, ntw, y)\n",
      "    Completed in 0.000s\n",
      "--- Mapping spend: (usd, ntw, y, invcapacity, power.lii) → (usd, ntw, y)\n",
      "    Completed in 0.000s\n",
      "--- Mapping spend: (usd, ntw, y, inventory, power.lii) → (usd, ntw, y)\n",
      "    Completed in 0.000s\n",
      "--- Mapping spend: (usd, ntw, y, consume, cement) → (usd, ntw, y)\n",
      "    Completed in 0.000s\n",
      "--- Generating Program(example4).mps\n",
      "--- Creating gurobi model for Program(example4)\n",
      "Set parameter Username\n",
      "Academic license - for non-commercial use only - expires 2026-08-01\n",
      "Read MPS format model from file Program(example4).mps\n",
      "Reading time = 0.00 seconds\n",
      "PROGRAM(EXAMPLE4): 213 rows, 212 columns, 529 nonzeros\n",
      "--- Optimizing Program(example4) using gurobi\n",
      "Gurobi Optimizer version 12.0.3 build v12.0.3rc0 (win64 - Windows 11.0 (26100.2))\n",
      "\n",
      "CPU model: 13th Gen Intel(R) Core(TM) i7-13700, instruction set [SSE2|AVX|AVX2]\n",
      "Thread count: 16 physical cores, 24 logical processors, using up to 24 threads\n",
      "\n",
      "Optimize a model with 213 rows, 212 columns and 529 nonzeros\n",
      "Model fingerprint: 0x8cc47148\n",
      "Variable types: 207 continuous, 5 integer (5 binary)\n",
      "Coefficient statistics:\n",
      "  Matrix range     [3e-01, 1e+06]\n",
      "  Objective range  [1e+00, 1e+00]\n",
      "  Bounds range     [1e+00, 1e+00]\n",
      "  RHS range        [1e+01, 1e+06]\n",
      "Presolve removed 118 rows and 116 columns\n",
      "Presolve time: 0.00s\n",
      "\n",
      "Explored 0 nodes (0 simplex iterations) in 0.00 seconds (0.00 work units)\n",
      "Thread count was 1 (of 24 available processors)\n",
      "\n",
      "Solution count 0\n",
      "\n",
      "Model is infeasible\n",
      "Best objective -, best bound -, gap -\n",
      "--- Solution found. Use .output() to display it\n",
      "!!! No solution found. Check the model.\n"
     ]
    }
   ],
   "source": [
    "m.usd.spend.opt()"
   ]
  }
 ],
 "metadata": {
  "kernelspec": {
   "display_name": ".venv",
   "language": "python",
   "name": "python3"
  },
  "language_info": {
   "codemirror_mode": {
    "name": "ipython",
    "version": 3
   },
   "file_extension": ".py",
   "mimetype": "text/x-python",
   "name": "python",
   "nbconvert_exporter": "python",
   "pygments_lexer": "ipython3",
   "version": "3.13.7"
  }
 },
 "nbformat": 4,
 "nbformat_minor": 5
}
