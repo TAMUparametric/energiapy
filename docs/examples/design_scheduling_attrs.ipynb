{
 "cells": [
  {
   "cell_type": "markdown",
   "id": "69e19c5b",
   "metadata": {},
   "source": [
    "# Multiscale MILP (using Attributes)\n",
    "\n",
    "This is a continuation of 'One Location, One Temporal Scale, One Operation, Linear Programming Example' [Example 1]. Refer Example 1 to learn the basics on how Energia models processes. \n",
    "\n",
    "In this example, we add another Process [Solar PV] and Storage [Li-ion Battery]. Technology choice is modeled using binaries. Moreover, the model is multiscale as the operational capacities are decision variables. "
   ]
  },
  {
   "cell_type": "code",
   "execution_count": 1,
   "id": "9f72118d",
   "metadata": {},
   "outputs": [],
   "source": [
    "from energia import *\n",
    "\n",
    "m = Model()\n",
    "m.q = Periods()\n",
    "m.y = 4 * m.q\n",
    "m.usd = Currency()"
   ]
  },
  {
   "cell_type": "markdown",
   "id": "a472f7e5",
   "metadata": {},
   "source": [
    "## Resources"
   ]
  },
  {
   "cell_type": "markdown",
   "id": "d43aca06",
   "metadata": {},
   "source": [
    "### Set bounds on Resource flows\n",
    "\n",
    "Unlike wind which has bound on the total consumption, we set a daily limit on solar energy. The same bound is repeated in each quarter. The following constraints are written.\n",
    "\n",
    "$\\mathbf{cons}_{solar, network, quarter_0} \\leq 100$\n",
    "\n",
    "$\\mathbf{cons}_{solar, network, quarter_1} \\leq 100$\n",
    "\n",
    "$\\mathbf{cons}_{solar, network, quarter_2} \\leq 100$\n",
    "\n",
    "$\\mathbf{cons}_{solar, network, quarter_3} \\leq 100$"
   ]
  },
  {
   "cell_type": "code",
   "execution_count": 2,
   "id": "45ebb26f",
   "metadata": {},
   "outputs": [
    {
     "name": "stderr",
     "output_type": "stream",
     "text": [
      "2025-10-23 12:31:01,096 [INFO] Balance for solar in (l0, q): initializing\n",
      "2025-10-23 12:31:01,097 [INFO] ✔ Completed in 0.00023555755615234375 seconds\n",
      "2025-10-23 12:31:01,097 [INFO] Binding consume in domain (solar, l0, q)\n",
      "2025-10-23 12:31:01,098 [INFO] ✔ Completed in 0.0002627372741699219 seconds\n",
      "2025-10-23 12:31:01,099 [INFO] Balance for wind in (l0, y): initializing\n",
      "2025-10-23 12:31:01,099 [INFO] ✔ Completed in 0.00012373924255371094 seconds\n",
      "2025-10-23 12:31:01,100 [INFO] Binding consume in domain (wind, l0, y)\n",
      "2025-10-23 12:31:01,100 [INFO] ✔ Completed in 8.130073547363281e-05 seconds\n",
      "2025-10-23 12:31:01,101 [INFO] Balance for power in (l0, q): initializing\n",
      "2025-10-23 12:31:01,101 [INFO] ✔ Completed in 0.00014925003051757812 seconds\n",
      "2025-10-23 12:31:01,101 [INFO] Binding release in domain (power, l0, q)\n",
      "2025-10-23 12:31:01,102 [INFO] ✔ Completed in 0.0001659393310546875 seconds\n"
     ]
    }
   ],
   "source": [
    "m.solar = Resource(consume_max=[100] * 4)\n",
    "m.wind = Resource(consume_max=100 * 4)\n",
    "m.power = Resource(demand_nominal=180, demand_min=[0.6, 0.7, 0.8, 0.3])"
   ]
  },
  {
   "cell_type": "markdown",
   "id": "89269641",
   "metadata": {},
   "source": [
    "## Operations "
   ]
  },
  {
   "cell_type": "markdown",
   "id": "e21925d4",
   "metadata": {},
   "source": [
    "### Capacity as a variable \n",
    "\n",
    "Here we want the optimization problem to determine the optimal capacity. Moreover, we set binaries to avoid the lower bound being adhered to if the process is not set up. \n",
    "\n",
    "If the bounds are meant to be compulsory limits, skip the .x "
   ]
  },
  {
   "cell_type": "code",
   "execution_count": 3,
   "id": "77f192a1",
   "metadata": {},
   "outputs": [
    {
     "name": "stderr",
     "output_type": "stream",
     "text": [
      "2025-10-23 12:31:01,110 [INFO] Binding capacity in domain (wf, l0, y)\n",
      "2025-10-23 12:31:01,110 [INFO] ✔ Completed in 0.0002105236053466797 seconds\n",
      "2025-10-23 12:31:01,111 [INFO] Binding capacity in domain (wf, l0, y)\n",
      "2025-10-23 12:31:01,112 [INFO] ✔ Completed in 0.00020003318786621094 seconds\n",
      "2025-10-23 12:31:01,112 [INFO] Binding operate in domain (wf, l0, q)\n",
      "2025-10-23 12:31:01,113 [INFO] ✔ Completed in 0.00024890899658203125 seconds\n",
      "2025-10-23 12:31:01,115 [INFO] Mapping operate: (wf, l0, q) → (wf, l0, y)\n",
      "2025-10-23 12:31:01,115 [INFO] ✔ Completed in 9.870529174804688e-05 seconds\n"
     ]
    }
   ],
   "source": [
    "m.wf = Process(\n",
    "    m.power == -1.0 * m.wind,\n",
    "    capacity_max=100,\n",
    "    capacity_min=10,\n",
    "    capacity_optional=True,\n",
    "    operate_normalize=True,\n",
    "    operate_max=[0.9, 0.8, 0.5, 0.7],\n",
    "    capex=990637 + 3354,\n",
    "    opex=49,\n",
    ")"
   ]
  },
  {
   "cell_type": "markdown",
   "id": "30670b61",
   "metadata": {},
   "source": [
    "Unlike in Example 1, where the capacity was know, capacity is a variable here. \n",
    "\n",
    "Moreover, the expenditure associated with operating and capacitating are different"
   ]
  },
  {
   "cell_type": "code",
   "execution_count": 4,
   "id": "11fa2491",
   "metadata": {},
   "outputs": [
    {
     "name": "stderr",
     "output_type": "stream",
     "text": [
      "2025-10-23 12:31:01,121 [INFO] Binding capacity in domain (pv, l0, y)\n",
      "2025-10-23 12:31:01,122 [INFO] ✔ Completed in 0.0002288818359375 seconds\n",
      "2025-10-23 12:31:01,122 [INFO] Binding capacity in domain (pv, l0, y)\n",
      "2025-10-23 12:31:01,123 [INFO] ✔ Completed in 0.00018930435180664062 seconds\n",
      "2025-10-23 12:31:01,123 [INFO] Binding operate in domain (pv, l0, q)\n",
      "2025-10-23 12:31:01,124 [INFO] ✔ Completed in 0.00023603439331054688 seconds\n",
      "2025-10-23 12:31:01,125 [INFO] Mapping operate: (pv, l0, q) → (pv, l0, y)\n",
      "2025-10-23 12:31:01,126 [INFO] ✔ Completed in 0.0001201629638671875 seconds\n"
     ]
    }
   ],
   "source": [
    "m.pv = Process(\n",
    "    m.power == -1 * m.solar,\n",
    "    capacity_max=100,\n",
    "    capacity_min=10,\n",
    "    capacity_optional=True,\n",
    "    operate_normalize=True,\n",
    "    operate_max=[0.6, 0.8, 0.9, 0.7],\n",
    "    capex=567000 + 872046,\n",
    "    opex=90000,\n",
    ")"
   ]
  },
  {
   "cell_type": "markdown",
   "id": "66c1382e",
   "metadata": {},
   "source": [
    "### Storage Operation\n",
    "\n",
    "energia now allows storing to require the use of other resources, example power for hydrogen cryogenic storage. \n",
    "\n",
    "Provide an equation similar to Process, in this case the basis is the stored resource \n",
    "If no other resource is provided, it is assumed to be the charging/discharging efficiency\n",
    "\n",
    "Note that the following are created internally: \n",
    "1. auxilary resource  with name resource.stored \n",
    "2. charging and discharging processes as storage.charge and storage.discharge \n",
    "\n",
    "The parameters for each of these can be set individually, thus allowing for a wide range of modeling approaches "
   ]
  },
  {
   "cell_type": "code",
   "execution_count": 5,
   "id": "443ea12a",
   "metadata": {},
   "outputs": [
    {
     "name": "stderr",
     "output_type": "stream",
     "text": [
      "2025-10-23 12:31:01,131 [INFO] Binding capacity in domain (lii.charge, l0, y)\n",
      "2025-10-23 12:31:01,132 [INFO] ✔ Completed in 0.00010347366333007812 seconds\n",
      "2025-10-23 12:31:01,133 [INFO] Binding capacity in domain (lii.discharge, l0, y)\n",
      "2025-10-23 12:31:01,134 [INFO] ✔ Completed in 0.00010061264038085938 seconds\n",
      "2025-10-23 12:31:01,134 [INFO] Binding invcapacity in domain (lii.stored, l0, y)\n",
      "2025-10-23 12:31:01,135 [INFO] ✔ Completed in 0.0001919269561767578 seconds\n",
      "2025-10-23 12:31:01,135 [INFO] Binding invcapacity in domain (lii.stored, l0, y)\n",
      "2025-10-23 12:31:01,136 [INFO] ✔ Completed in 0.00016546249389648438 seconds\n",
      "2025-10-23 12:31:01,137 [INFO] Balance for lii.stored in (l0, y): initializing\n"
     ]
    }
   ],
   "source": [
    "m.lii = Storage(\n",
    "    m.power == 0.9,\n",
    "    capacity_max=100,\n",
    "    capacity_min=10,\n",
    "    capacity_optional=True,\n",
    "    charge_capacity_max=100,\n",
    "    discharge_capacity_max=100,\n",
    "    capex=1302182 + 41432,\n",
    "    inventory_cost=2000,\n",
    ")"
   ]
  },
  {
   "cell_type": "markdown",
   "id": "e68b8abc",
   "metadata": {},
   "source": [
    "## Locating Operations\n",
    "\n",
    "Operations can be located as \n",
    "\n",
    "operation.locate(\\<list of locations\\>)\n",
    "\n",
    "or \n",
    "\n",
    "m.location.operations(\\<list of operations\\>)\n",
    "\n",
    "They both do the same thing "
   ]
  },
  {
   "cell_type": "code",
   "execution_count": 6,
   "id": "65247cfa",
   "metadata": {},
   "outputs": [
    {
     "name": "stderr",
     "output_type": "stream",
     "text": [
      "2025-10-23 12:31:01,143 [INFO] Balance for power in (l0, q): adding produce(power, l0, q, operate, wf)\n",
      "2025-10-23 12:31:01,144 [INFO] ✔ Completed in 0.00016379356384277344 seconds\n",
      "2025-10-23 12:31:01,145 [INFO] Balance for wind in (l0, y): adding expend(wind, l0, y, operate, wf)\n",
      "2025-10-23 12:31:01,146 [INFO] ✔ Completed in 0.00012087821960449219 seconds\n",
      "2025-10-23 12:31:01,147 [INFO] Balance for power in (l0, q): adding produce(power, l0, q, operate, pv)\n",
      "2025-10-23 12:31:01,147 [INFO] ✔ Completed in 0.0001633167266845703 seconds\n",
      "2025-10-23 12:31:01,148 [INFO] Balance for solar in (l0, q): adding expend(solar, l0, q, operate, pv)\n",
      "2025-10-23 12:31:01,148 [INFO] ✔ Completed in 0.00017452239990234375 seconds\n",
      "2025-10-23 12:31:01,149 [INFO] Assuming  lii.stored inventory capacity is unbounded in (l0, y)\n",
      "2025-10-23 12:31:01,149 [INFO] Assuming inventory of lii.stored is unbounded in (l0, y)\n",
      "2025-10-23 12:31:01,150 [INFO] Assuming inventory of lii.stored is bound by inventory capacity in (l0, q)\n",
      "2025-10-23 12:31:01,150 [INFO] Mapping inventory: (lii.stored, l0, q) → (lii.stored, l0, y)\n",
      "2025-10-23 12:31:01,151 [INFO] ✔ Completed in 0.00011420249938964844 seconds\n",
      "2025-10-23 12:31:01,151 [INFO] Balance for lii.stored in (l0, q): initializing\n",
      "2025-10-23 12:31:01,152 [INFO] ✔ Completed in 0.0002644062042236328 seconds\n",
      "2025-10-23 12:31:01,152 [INFO] Binding inventory in domain (lii.stored, l0, q)\n",
      "2025-10-23 12:31:01,152 [INFO] ✔ Completed in 0.0001571178436279297 seconds\n",
      "2025-10-23 12:31:01,153 [INFO] Assuming operation of lii.charge is bound by capacity in (l0, y)\n",
      "2025-10-23 12:31:01,153 [INFO] Binding operate in domain (lii.charge, l0, y)\n",
      "2025-10-23 12:31:01,154 [INFO] ✔ Completed in 0.00011682510375976562 seconds\n",
      "2025-10-23 12:31:01,155 [INFO] Balance for lii.stored in (l0, q): adding produce(lii.stored, l0, q, operate, lii.charge)\n",
      "2025-10-23 12:31:01,155 [INFO] ✔ Completed in 0.000152587890625 seconds\n",
      "2025-10-23 12:31:01,156 [INFO] Mapping operate: (lii.charge, l0, q) → (lii.charge, l0, y)\n",
      "2025-10-23 12:31:01,156 [INFO] ✔ Completed in 9.202957153320312e-05 seconds\n",
      "2025-10-23 12:31:01,157 [INFO] Balance for power in (l0, q): adding expend(power, l0, q, operate, lii.charge)\n",
      "2025-10-23 12:31:01,157 [INFO] ✔ Completed in 0.00013494491577148438 seconds\n",
      "2025-10-23 12:31:01,158 [INFO] Assuming operation of lii.discharge is bound by capacity in (l0, y)\n",
      "2025-10-23 12:31:01,158 [INFO] Binding operate in domain (lii.discharge, l0, y)\n",
      "2025-10-23 12:31:01,159 [INFO] ✔ Completed in 9.608268737792969e-05 seconds\n",
      "2025-10-23 12:31:01,159 [INFO] Balance for power in (l0, q): adding produce(power, l0, q, operate, lii.discharge)\n",
      "2025-10-23 12:31:01,160 [INFO] ✔ Completed in 0.00015783309936523438 seconds\n",
      "2025-10-23 12:31:01,160 [INFO] Mapping operate: (lii.discharge, l0, q) → (lii.discharge, l0, y)\n",
      "2025-10-23 12:31:01,161 [INFO] ✔ Completed in 0.00010228157043457031 seconds\n",
      "2025-10-23 12:31:01,162 [INFO] Balance for lii.stored in (l0, q): adding expend(lii.stored, l0, q, operate, lii.discharge)\n",
      "2025-10-23 12:31:01,162 [INFO] ✔ Completed in 0.00019931793212890625 seconds\n"
     ]
    }
   ],
   "source": [
    "m.locate(m.wf, m.pv, m.lii)"
   ]
  },
  {
   "cell_type": "markdown",
   "id": "85f87873",
   "metadata": {},
   "source": [
    "## Inventory Balance\n",
    "\n",
    "Inventory is passed on from one time period (t - 1) to the next (t) and hence features in the general resource balance for resource.stored "
   ]
  },
  {
   "cell_type": "markdown",
   "id": "64c93a46",
   "metadata": {},
   "source": [
    "## Optimize!"
   ]
  },
  {
   "cell_type": "code",
   "execution_count": 7,
   "id": "b2d5463b",
   "metadata": {},
   "outputs": [
    {
     "name": "stderr",
     "output_type": "stream",
     "text": [
      "2025-10-23 12:31:01,168 [INFO] Mapping spend: (usd, l0, y, capacity, wf) → (usd, l0, y)\n",
      "2025-10-23 12:31:01,169 [INFO] ✔ Completed in 0.00016808509826660156 seconds\n",
      "2025-10-23 12:31:01,169 [INFO] Mapping spend: (usd, l0, y, operate, wf) → (usd, l0, y)\n",
      "2025-10-23 12:31:01,170 [INFO] ✔ Completed in 0.00011730194091796875 seconds\n",
      "2025-10-23 12:31:01,170 [INFO] Mapping spend: (usd, l0, y, capacity, pv) → (usd, l0, y)\n",
      "2025-10-23 12:31:01,171 [INFO] ✔ Completed in 0.00014638900756835938 seconds\n",
      "2025-10-23 12:31:01,171 [INFO] Mapping spend: (usd, l0, y, operate, pv) → (usd, l0, y)\n",
      "2025-10-23 12:31:01,172 [INFO] ✔ Completed in 0.00012445449829101562 seconds\n",
      "2025-10-23 12:31:01,172 [INFO] Mapping spend: (usd, l0, y, invcapacity, lii.stored) → (usd, l0, y)\n",
      "2025-10-23 12:31:01,173 [INFO] ✔ Completed in 0.0001266002655029297 seconds\n",
      "2025-10-23 12:31:01,173 [INFO] Mapping spend: (usd, l0, y, inventory, lii.stored) → (usd, l0, y)\n",
      "2025-10-23 12:31:01,173 [INFO] ✔ Completed in 0.00011920928955078125 seconds\n",
      "2025-10-23 12:31:01,174 [INFO] Generating Program(m).mps\n",
      "2025-10-23 12:31:01,180 [INFO] Creating gurobi model for Program(m)\n"
     ]
    },
    {
     "name": "stdout",
     "output_type": "stream",
     "text": [
      "Set parameter Username\n",
      "Academic license - for non-commercial use only - expires 2026-08-01\n",
      "Read MPS format model from file Program(m).mps\n",
      "Reading time = 0.01 seconds\n",
      "PROGRAM(M): 85 rows, 78 columns, 198 nonzeros\n"
     ]
    },
    {
     "name": "stderr",
     "output_type": "stream",
     "text": [
      "2025-10-23 12:31:01,185 [INFO] Optimizing Program(m) using gurobi\n"
     ]
    },
    {
     "name": "stdout",
     "output_type": "stream",
     "text": [
      "Gurobi Optimizer version 12.0.3 build v12.0.3rc0 (win64 - Windows 11.0 (26100.2))\n",
      "\n",
      "CPU model: 13th Gen Intel(R) Core(TM) i7-13700, instruction set [SSE2|AVX|AVX2]\n",
      "Thread count: 16 physical cores, 24 logical processors, using up to 24 threads\n",
      "\n",
      "Optimize a model with 85 rows, 78 columns and 198 nonzeros\n",
      "Model fingerprint: 0x239d525a\n",
      "Variable types: 75 continuous, 3 integer (3 binary)\n",
      "Coefficient statistics:\n",
      "  Matrix range     [6e-01, 1e+06]\n",
      "  Objective range  [1e+00, 1e+00]\n",
      "  Bounds range     [1e+00, 1e+00]\n",
      "  RHS range        [7e+01, 4e+02]\n",
      "Presolve removed 70 rows and 63 columns\n",
      "Presolve time: 0.00s\n",
      "Presolved: 15 rows, 15 columns, 44 nonzeros\n",
      "Variable types: 15 continuous, 0 integer (0 binary)\n",
      "\n",
      "Root relaxation: objective 3.006497e+08, 4 iterations, 0.00 seconds (0.00 work units)\n",
      "\n",
      "    Nodes    |    Current Node    |     Objective Bounds      |     Work\n",
      " Expl Unexpl |  Obj  Depth IntInf | Incumbent    BestBd   Gap | It/Node Time\n",
      "\n",
      "*    0     0               0    3.006497e+08 3.0065e+08  0.00%     -    0s\n",
      "\n",
      "Explored 1 nodes (4 simplex iterations) in 0.01 seconds (0.00 work units)\n",
      "Thread count was 24 (of 24 available processors)\n",
      "\n",
      "Solution count 1: 3.0065e+08 \n",
      "\n",
      "Optimal solution found (tolerance 1.00e-04)\n",
      "Best objective 3.006497358951e+08, best bound 3.006497358951e+08, gap 0.0000%\n"
     ]
    },
    {
     "name": "stderr",
     "output_type": "stream",
     "text": [
      "2025-10-23 12:31:01,197 [INFO] Solution found. Use .output() to display it\n",
      "2025-10-23 12:31:01,198 [INFO] Creating Solution object, check.solution\n"
     ]
    }
   ],
   "source": [
    "m.usd.spend.opt()"
   ]
  },
  {
   "cell_type": "code",
   "execution_count": 8,
   "id": "1f614d20",
   "metadata": {},
   "outputs": [
    {
     "data": {
      "text/markdown": [
       "# Mathematical Program for Program(m)"
      ],
      "text/plain": [
       "<IPython.core.display.Markdown object>"
      ]
     },
     "metadata": {},
     "output_type": "display_data"
    },
    {
     "data": {
      "text/markdown": [
       "<br><br>"
      ],
      "text/plain": [
       "<IPython.core.display.Markdown object>"
      ]
     },
     "metadata": {},
     "output_type": "display_data"
    },
    {
     "data": {
      "text/markdown": [
       "## Index Sets"
      ],
      "text/plain": [
       "<IPython.core.display.Markdown object>"
      ]
     },
     "metadata": {},
     "output_type": "display_data"
    },
    {
     "data": {
      "text/latex": [
       "$\\displaystyle currencies = \\{ usd \\}$"
      ],
      "text/plain": [
       "<IPython.core.display.Math object>"
      ]
     },
     "metadata": {},
     "output_type": "display_data"
    },
    {
     "data": {
      "text/latex": [
       "$\\displaystyle locations = \\{ l0 \\}$"
      ],
      "text/plain": [
       "<IPython.core.display.Math object>"
      ]
     },
     "metadata": {},
     "output_type": "display_data"
    },
    {
     "data": {
      "text/latex": [
       "$\\displaystyle q = \\{ {q_{0}}, {q_{1}}, {q_{2}}, {q_{3}} \\}$"
      ],
      "text/plain": [
       "<IPython.core.display.Math object>"
      ]
     },
     "metadata": {},
     "output_type": "display_data"
    },
    {
     "data": {
      "text/latex": [
       "$\\displaystyle resources = \\{ solar, wind, power, lii.stored \\}$"
      ],
      "text/plain": [
       "<IPython.core.display.Math object>"
      ]
     },
     "metadata": {},
     "output_type": "display_data"
    },
    {
     "data": {
      "text/latex": [
       "$\\displaystyle y = \\{ {y_{0}} \\}$"
      ],
      "text/plain": [
       "<IPython.core.display.Math object>"
      ]
     },
     "metadata": {},
     "output_type": "display_data"
    },
    {
     "data": {
      "text/latex": [
       "$\\displaystyle processes = \\{ wf, pv, lii.charge, lii.discharge \\}$"
      ],
      "text/plain": [
       "<IPython.core.display.Math object>"
      ]
     },
     "metadata": {},
     "output_type": "display_data"
    },
    {
     "data": {
      "text/latex": [
       "$\\displaystyle storages = \\{ lii \\}$"
      ],
      "text/plain": [
       "<IPython.core.display.Math object>"
      ]
     },
     "metadata": {},
     "output_type": "display_data"
    },
    {
     "data": {
      "text/markdown": [
       "<br><br>"
      ],
      "text/plain": [
       "<IPython.core.display.Markdown object>"
      ]
     },
     "metadata": {},
     "output_type": "display_data"
    },
    {
     "data": {
      "text/markdown": [
       "## Objective"
      ],
      "text/plain": [
       "<IPython.core.display.Markdown object>"
      ]
     },
     "metadata": {},
     "output_type": "display_data"
    },
    {
     "data": {
      "text/latex": [
       "$\\displaystyle min \\hspace{0.2cm} {{spend}}_{usd, l0, y{0}}$"
      ],
      "text/plain": [
       "<IPython.core.display.Math object>"
      ]
     },
     "metadata": {},
     "output_type": "display_data"
    },
    {
     "data": {
      "text/markdown": [
       "<br><br>"
      ],
      "text/plain": [
       "<IPython.core.display.Markdown object>"
      ]
     },
     "metadata": {},
     "output_type": "display_data"
    },
    {
     "data": {
      "text/markdown": [
       "## s.t."
      ],
      "text/plain": [
       "<IPython.core.display.Markdown object>"
      ]
     },
     "metadata": {},
     "output_type": "display_data"
    },
    {
     "data": {
      "text/markdown": [
       "### Balance Constraints"
      ],
      "text/plain": [
       "<IPython.core.display.Markdown object>"
      ]
     },
     "metadata": {},
     "output_type": "display_data"
    },
    {
     "data": {
      "text/latex": [
       "$\\displaystyle [31]\\text{   }{{{cons}}}_{solar, l0, q{0}} - {{{expd}}}_{solar, l0, q{0}, operate, pv} = 0$"
      ],
      "text/plain": [
       "<IPython.core.display.Math object>"
      ]
     },
     "metadata": {},
     "output_type": "display_data"
    },
    {
     "data": {
      "text/latex": [
       "$\\displaystyle [32]\\text{   }{{{cons}}}_{solar, l0, q{1}} - {{{expd}}}_{solar, l0, q{1}, operate, pv} = 0$"
      ],
      "text/plain": [
       "<IPython.core.display.Math object>"
      ]
     },
     "metadata": {},
     "output_type": "display_data"
    },
    {
     "data": {
      "text/latex": [
       "$\\displaystyle [33]\\text{   }{{{cons}}}_{solar, l0, q{2}} - {{{expd}}}_{solar, l0, q{2}, operate, pv} = 0$"
      ],
      "text/plain": [
       "<IPython.core.display.Math object>"
      ]
     },
     "metadata": {},
     "output_type": "display_data"
    },
    {
     "data": {
      "text/latex": [
       "$\\displaystyle [34]\\text{   }{{{cons}}}_{solar, l0, q{3}} - {{{expd}}}_{solar, l0, q{3}, operate, pv} = 0$"
      ],
      "text/plain": [
       "<IPython.core.display.Math object>"
      ]
     },
     "metadata": {},
     "output_type": "display_data"
    },
    {
     "data": {
      "text/latex": [
       "$\\displaystyle [35]\\text{   }{{{cons}}}_{wind, l0, y{0}} - {{{expd}}}_{wind, l0, y{0}, operate, wf} = 0$"
      ],
      "text/plain": [
       "<IPython.core.display.Math object>"
      ]
     },
     "metadata": {},
     "output_type": "display_data"
    },
    {
     "data": {
      "text/latex": [
       "$\\displaystyle [36]\\text{   }-{{{rlse}}}_{power, l0, q{0}} + {{prod}}_{power, l0, q{0}, operate, wf} + {{prod}}_{power, l0, q{0}, operate, pv} - {{{expd}}}_{power, l0, q{0}, operate, lii.charge} + {{prod}}_{power, l0, q{0}, operate, lii.discharge} = 0$"
      ],
      "text/plain": [
       "<IPython.core.display.Math object>"
      ]
     },
     "metadata": {},
     "output_type": "display_data"
    },
    {
     "data": {
      "text/latex": [
       "$\\displaystyle [37]\\text{   }-{{{rlse}}}_{power, l0, q{1}} + {{prod}}_{power, l0, q{1}, operate, wf} + {{prod}}_{power, l0, q{1}, operate, pv} - {{{expd}}}_{power, l0, q{1}, operate, lii.charge} + {{prod}}_{power, l0, q{1}, operate, lii.discharge} = 0$"
      ],
      "text/plain": [
       "<IPython.core.display.Math object>"
      ]
     },
     "metadata": {},
     "output_type": "display_data"
    },
    {
     "data": {
      "text/latex": [
       "$\\displaystyle [38]\\text{   }-{{{rlse}}}_{power, l0, q{2}} + {{prod}}_{power, l0, q{2}, operate, wf} + {{prod}}_{power, l0, q{2}, operate, pv} - {{{expd}}}_{power, l0, q{2}, operate, lii.charge} + {{prod}}_{power, l0, q{2}, operate, lii.discharge} = 0$"
      ],
      "text/plain": [
       "<IPython.core.display.Math object>"
      ]
     },
     "metadata": {},
     "output_type": "display_data"
    },
    {
     "data": {
      "text/latex": [
       "$\\displaystyle [39]\\text{   }-{{{rlse}}}_{power, l0, q{3}} + {{prod}}_{power, l0, q{3}, operate, wf} + {{prod}}_{power, l0, q{3}, operate, pv} - {{{expd}}}_{power, l0, q{3}, operate, lii.charge} + {{prod}}_{power, l0, q{3}, operate, lii.discharge} = 0$"
      ],
      "text/plain": [
       "<IPython.core.display.Math object>"
      ]
     },
     "metadata": {},
     "output_type": "display_data"
    },
    {
     "data": {
      "text/latex": [
       "$\\displaystyle [62]\\text{   }-{{{inv}}}_{lii.stored, l0, q{0}} + {{prod}}_{lii.stored, l0, q{0}, operate, lii.charge} - {{{expd}}}_{lii.stored, l0, q{0}, operate, lii.discharge} = 0$"
      ],
      "text/plain": [
       "<IPython.core.display.Math object>"
      ]
     },
     "metadata": {},
     "output_type": "display_data"
    },
    {
     "data": {
      "text/latex": [
       "$\\displaystyle [63]\\text{   }-{{{inv}}}_{lii.stored, l0, q{1}} + {{{inv}}}_{lii.stored, l0, q{0}} + {{prod}}_{lii.stored, l0, q{1}, operate, lii.charge} - {{{expd}}}_{lii.stored, l0, q{1}, operate, lii.discharge} = 0$"
      ],
      "text/plain": [
       "<IPython.core.display.Math object>"
      ]
     },
     "metadata": {},
     "output_type": "display_data"
    },
    {
     "data": {
      "text/latex": [
       "$\\displaystyle [64]\\text{   }-{{{inv}}}_{lii.stored, l0, q{2}} + {{{inv}}}_{lii.stored, l0, q{1}} + {{prod}}_{lii.stored, l0, q{2}, operate, lii.charge} - {{{expd}}}_{lii.stored, l0, q{2}, operate, lii.discharge} = 0$"
      ],
      "text/plain": [
       "<IPython.core.display.Math object>"
      ]
     },
     "metadata": {},
     "output_type": "display_data"
    },
    {
     "data": {
      "text/latex": [
       "$\\displaystyle [65]\\text{   }-{{{inv}}}_{lii.stored, l0, q{3}} + {{{inv}}}_{lii.stored, l0, q{2}} + {{prod}}_{lii.stored, l0, q{3}, operate, lii.charge} - {{{expd}}}_{lii.stored, l0, q{3}, operate, lii.discharge} = 0$"
      ],
      "text/plain": [
       "<IPython.core.display.Math object>"
      ]
     },
     "metadata": {},
     "output_type": "display_data"
    },
    {
     "data": {
      "text/markdown": [
       "### Bound Constraints"
      ],
      "text/plain": [
       "<IPython.core.display.Markdown object>"
      ]
     },
     "metadata": {},
     "output_type": "display_data"
    },
    {
     "data": {
      "text/latex": [
       "$\\displaystyle [0]\\text{   }{{{cons}}}_{solar, l0, q{0}} - 100.0 \\leq 0$"
      ],
      "text/plain": [
       "<IPython.core.display.Math object>"
      ]
     },
     "metadata": {},
     "output_type": "display_data"
    },
    {
     "data": {
      "text/latex": [
       "$\\displaystyle [1]\\text{   }{{{cons}}}_{solar, l0, q{1}} - 100.0 \\leq 0$"
      ],
      "text/plain": [
       "<IPython.core.display.Math object>"
      ]
     },
     "metadata": {},
     "output_type": "display_data"
    },
    {
     "data": {
      "text/latex": [
       "$\\displaystyle [2]\\text{   }{{{cons}}}_{solar, l0, q{2}} - 100.0 \\leq 0$"
      ],
      "text/plain": [
       "<IPython.core.display.Math object>"
      ]
     },
     "metadata": {},
     "output_type": "display_data"
    },
    {
     "data": {
      "text/latex": [
       "$\\displaystyle [3]\\text{   }{{{cons}}}_{solar, l0, q{3}} - 100.0 \\leq 0$"
      ],
      "text/plain": [
       "<IPython.core.display.Math object>"
      ]
     },
     "metadata": {},
     "output_type": "display_data"
    },
    {
     "data": {
      "text/latex": [
       "$\\displaystyle [4]\\text{   }{{{cons}}}_{wind, l0, y{0}} - 400.0 \\leq 0$"
      ],
      "text/plain": [
       "<IPython.core.display.Math object>"
      ]
     },
     "metadata": {},
     "output_type": "display_data"
    },
    {
     "data": {
      "text/latex": [
       "$\\displaystyle [5]\\text{   }-{{{rlse}}}_{power, l0, q{0}} + 134.99999999999997 \\leq 0$"
      ],
      "text/plain": [
       "<IPython.core.display.Math object>"
      ]
     },
     "metadata": {},
     "output_type": "display_data"
    },
    {
     "data": {
      "text/latex": [
       "$\\displaystyle [6]\\text{   }-{{{rlse}}}_{power, l0, q{1}} + 157.49999999999997 \\leq 0$"
      ],
      "text/plain": [
       "<IPython.core.display.Math object>"
      ]
     },
     "metadata": {},
     "output_type": "display_data"
    },
    {
     "data": {
      "text/latex": [
       "$\\displaystyle [7]\\text{   }-{{{rlse}}}_{power, l0, q{2}} + 180.0 \\leq 0$"
      ],
      "text/plain": [
       "<IPython.core.display.Math object>"
      ]
     },
     "metadata": {},
     "output_type": "display_data"
    },
    {
     "data": {
      "text/latex": [
       "$\\displaystyle [8]\\text{   }-{{{rlse}}}_{power, l0, q{3}} + 67.49999999999999 \\leq 0$"
      ],
      "text/plain": [
       "<IPython.core.display.Math object>"
      ]
     },
     "metadata": {},
     "output_type": "display_data"
    },
    {
     "data": {
      "text/latex": [
       "$\\displaystyle [9]\\text{   }{{{cap}}}_{wf, l0, y{0}} - 100.0 \\cdot {{{\\breve{{cap}}}}}_{wf, l0, y{0}} \\leq 0$"
      ],
      "text/plain": [
       "<IPython.core.display.Math object>"
      ]
     },
     "metadata": {},
     "output_type": "display_data"
    },
    {
     "data": {
      "text/latex": [
       "$\\displaystyle [10]\\text{   }10.0 \\cdot {{{\\breve{{cap}}}}}_{wf, l0, y{0}} - {{{cap}}}_{wf, l0, y{0}} \\leq 0$"
      ],
      "text/plain": [
       "<IPython.core.display.Math object>"
      ]
     },
     "metadata": {},
     "output_type": "display_data"
    },
    {
     "data": {
      "text/latex": [
       "$\\displaystyle [11]\\text{   }{{{opr}}}_{wf, l0, q{0}} - 1.0 \\cdot {{{cap}}}_{wf, l0, y{0}} \\leq 0$"
      ],
      "text/plain": [
       "<IPython.core.display.Math object>"
      ]
     },
     "metadata": {},
     "output_type": "display_data"
    },
    {
     "data": {
      "text/latex": [
       "$\\displaystyle [12]\\text{   }{{{opr}}}_{wf, l0, q{1}} - 0.888888888888889 \\cdot {{{cap}}}_{wf, l0, y{0}} \\leq 0$"
      ],
      "text/plain": [
       "<IPython.core.display.Math object>"
      ]
     },
     "metadata": {},
     "output_type": "display_data"
    },
    {
     "data": {
      "text/latex": [
       "$\\displaystyle [13]\\text{   }{{{opr}}}_{wf, l0, q{2}} - 0.5555555555555556 \\cdot {{{cap}}}_{wf, l0, y{0}} \\leq 0$"
      ],
      "text/plain": [
       "<IPython.core.display.Math object>"
      ]
     },
     "metadata": {},
     "output_type": "display_data"
    },
    {
     "data": {
      "text/latex": [
       "$\\displaystyle [14]\\text{   }{{{opr}}}_{wf, l0, q{3}} - 0.7777777777777777 \\cdot {{{cap}}}_{wf, l0, y{0}} \\leq 0$"
      ],
      "text/plain": [
       "<IPython.core.display.Math object>"
      ]
     },
     "metadata": {},
     "output_type": "display_data"
    },
    {
     "data": {
      "text/latex": [
       "$\\displaystyle [15]\\text{   }{{{cap}}}_{pv, l0, y{0}} - 100.0 \\cdot {{{\\breve{{cap}}}}}_{pv, l0, y{0}} \\leq 0$"
      ],
      "text/plain": [
       "<IPython.core.display.Math object>"
      ]
     },
     "metadata": {},
     "output_type": "display_data"
    },
    {
     "data": {
      "text/latex": [
       "$\\displaystyle [16]\\text{   }10.0 \\cdot {{{\\breve{{cap}}}}}_{pv, l0, y{0}} - {{{cap}}}_{pv, l0, y{0}} \\leq 0$"
      ],
      "text/plain": [
       "<IPython.core.display.Math object>"
      ]
     },
     "metadata": {},
     "output_type": "display_data"
    },
    {
     "data": {
      "text/latex": [
       "$\\displaystyle [17]\\text{   }{{{opr}}}_{pv, l0, q{0}} - 0.6666666666666666 \\cdot {{{cap}}}_{pv, l0, y{0}} \\leq 0$"
      ],
      "text/plain": [
       "<IPython.core.display.Math object>"
      ]
     },
     "metadata": {},
     "output_type": "display_data"
    },
    {
     "data": {
      "text/latex": [
       "$\\displaystyle [18]\\text{   }{{{opr}}}_{pv, l0, q{1}} - 0.888888888888889 \\cdot {{{cap}}}_{pv, l0, y{0}} \\leq 0$"
      ],
      "text/plain": [
       "<IPython.core.display.Math object>"
      ]
     },
     "metadata": {},
     "output_type": "display_data"
    },
    {
     "data": {
      "text/latex": [
       "$\\displaystyle [19]\\text{   }{{{opr}}}_{pv, l0, q{2}} - 1.0 \\cdot {{{cap}}}_{pv, l0, y{0}} \\leq 0$"
      ],
      "text/plain": [
       "<IPython.core.display.Math object>"
      ]
     },
     "metadata": {},
     "output_type": "display_data"
    },
    {
     "data": {
      "text/latex": [
       "$\\displaystyle [20]\\text{   }{{{opr}}}_{pv, l0, q{3}} - 0.7777777777777777 \\cdot {{{cap}}}_{pv, l0, y{0}} \\leq 0$"
      ],
      "text/plain": [
       "<IPython.core.display.Math object>"
      ]
     },
     "metadata": {},
     "output_type": "display_data"
    },
    {
     "data": {
      "text/latex": [
       "$\\displaystyle [21]\\text{   }{{{cap}}}_{lii.charge, l0, y{0}} - 100.0 \\leq 0$"
      ],
      "text/plain": [
       "<IPython.core.display.Math object>"
      ]
     },
     "metadata": {},
     "output_type": "display_data"
    },
    {
     "data": {
      "text/latex": [
       "$\\displaystyle [22]\\text{   }{{{cap}}}_{lii.discharge, l0, y{0}} - 100.0 \\leq 0$"
      ],
      "text/plain": [
       "<IPython.core.display.Math object>"
      ]
     },
     "metadata": {},
     "output_type": "display_data"
    },
    {
     "data": {
      "text/latex": [
       "$\\displaystyle [23]\\text{   }{{{icap}}}_{lii.stored, l0, y{0}} - 100.0 \\cdot {{{\\breve{{icap}}}}}_{lii.stored, l0, y{0}} \\leq 0$"
      ],
      "text/plain": [
       "<IPython.core.display.Math object>"
      ]
     },
     "metadata": {},
     "output_type": "display_data"
    },
    {
     "data": {
      "text/latex": [
       "$\\displaystyle [24]\\text{   }10.0 \\cdot {{{\\breve{{icap}}}}}_{lii.stored, l0, y{0}} - {{{icap}}}_{lii.stored, l0, y{0}} \\leq 0$"
      ],
      "text/plain": [
       "<IPython.core.display.Math object>"
      ]
     },
     "metadata": {},
     "output_type": "display_data"
    },
    {
     "data": {
      "text/latex": [
       "$\\displaystyle [25]\\text{   }{{{inv}}}_{lii.stored, l0, q{0}} - {{{icap}}}_{lii.stored, l0, y{0}} \\leq 0$"
      ],
      "text/plain": [
       "<IPython.core.display.Math object>"
      ]
     },
     "metadata": {},
     "output_type": "display_data"
    },
    {
     "data": {
      "text/latex": [
       "$\\displaystyle [26]\\text{   }{{{inv}}}_{lii.stored, l0, q{1}} - {{{icap}}}_{lii.stored, l0, y{0}} \\leq 0$"
      ],
      "text/plain": [
       "<IPython.core.display.Math object>"
      ]
     },
     "metadata": {},
     "output_type": "display_data"
    },
    {
     "data": {
      "text/latex": [
       "$\\displaystyle [27]\\text{   }{{{inv}}}_{lii.stored, l0, q{2}} - {{{icap}}}_{lii.stored, l0, y{0}} \\leq 0$"
      ],
      "text/plain": [
       "<IPython.core.display.Math object>"
      ]
     },
     "metadata": {},
     "output_type": "display_data"
    },
    {
     "data": {
      "text/latex": [
       "$\\displaystyle [28]\\text{   }{{{inv}}}_{lii.stored, l0, q{3}} - {{{icap}}}_{lii.stored, l0, y{0}} \\leq 0$"
      ],
      "text/plain": [
       "<IPython.core.display.Math object>"
      ]
     },
     "metadata": {},
     "output_type": "display_data"
    },
    {
     "data": {
      "text/latex": [
       "$\\displaystyle [29]\\text{   }{{{opr}}}_{lii.charge, l0, y{0}} - {{{cap}}}_{lii.charge, l0, y{0}} \\leq 0$"
      ],
      "text/plain": [
       "<IPython.core.display.Math object>"
      ]
     },
     "metadata": {},
     "output_type": "display_data"
    },
    {
     "data": {
      "text/latex": [
       "$\\displaystyle [30]\\text{   }{{{opr}}}_{lii.discharge, l0, y{0}} - {{{cap}}}_{lii.discharge, l0, y{0}} \\leq 0$"
      ],
      "text/plain": [
       "<IPython.core.display.Math object>"
      ]
     },
     "metadata": {},
     "output_type": "display_data"
    },
    {
     "data": {
      "text/markdown": [
       "### Calculation Constraints"
      ],
      "text/plain": [
       "<IPython.core.display.Markdown object>"
      ]
     },
     "metadata": {},
     "output_type": "display_data"
    },
    {
     "data": {
      "text/latex": [
       "$\\displaystyle [40]\\text{   }{{spend}}_{usd, l0, y{0}, capacity, wf} - 993991.0 \\cdot {{{cap}}}_{wf, l0, y{0}} = 0$"
      ],
      "text/plain": [
       "<IPython.core.display.Math object>"
      ]
     },
     "metadata": {},
     "output_type": "display_data"
    },
    {
     "data": {
      "text/latex": [
       "$\\displaystyle [42]\\text{   }{{spend}}_{usd, l0, y{0}, operate, wf} - 49.0 \\cdot {{{opr}}}_{wf, l0, y{0}} = 0$"
      ],
      "text/plain": [
       "<IPython.core.display.Math object>"
      ]
     },
     "metadata": {},
     "output_type": "display_data"
    },
    {
     "data": {
      "text/latex": [
       "$\\displaystyle [43]\\text{   }{{spend}}_{usd, l0, y{0}, capacity, pv} - 1439046.0 \\cdot {{{cap}}}_{pv, l0, y{0}} = 0$"
      ],
      "text/plain": [
       "<IPython.core.display.Math object>"
      ]
     },
     "metadata": {},
     "output_type": "display_data"
    },
    {
     "data": {
      "text/latex": [
       "$\\displaystyle [45]\\text{   }{{spend}}_{usd, l0, y{0}, operate, pv} - 90000.0 \\cdot {{{opr}}}_{pv, l0, y{0}} = 0$"
      ],
      "text/plain": [
       "<IPython.core.display.Math object>"
      ]
     },
     "metadata": {},
     "output_type": "display_data"
    },
    {
     "data": {
      "text/latex": [
       "$\\displaystyle [46]\\text{   }{{spend}}_{usd, l0, y{0}, invcapacity, lii.stored} - 1343614.0 \\cdot {{{icap}}}_{lii.stored, l0, y{0}} = 0$"
      ],
      "text/plain": [
       "<IPython.core.display.Math object>"
      ]
     },
     "metadata": {},
     "output_type": "display_data"
    },
    {
     "data": {
      "text/latex": [
       "$\\displaystyle [47]\\text{   }{{spend}}_{usd, l0, y{0}, inventory, lii.stored} - 2000.0 \\cdot {{{inv}}}_{lii.stored, l0, y{0}} = 0$"
      ],
      "text/plain": [
       "<IPython.core.display.Math object>"
      ]
     },
     "metadata": {},
     "output_type": "display_data"
    },
    {
     "data": {
      "text/latex": [
       "$\\displaystyle [48]\\text{   }{{prod}}_{power, l0, q{0}, operate, wf} - 1.0 \\cdot {{{opr}}}_{wf, l0, q{0}} = 0$"
      ],
      "text/plain": [
       "<IPython.core.display.Math object>"
      ]
     },
     "metadata": {},
     "output_type": "display_data"
    },
    {
     "data": {
      "text/latex": [
       "$\\displaystyle [49]\\text{   }{{prod}}_{power, l0, q{1}, operate, wf} - 1.0 \\cdot {{{opr}}}_{wf, l0, q{1}} = 0$"
      ],
      "text/plain": [
       "<IPython.core.display.Math object>"
      ]
     },
     "metadata": {},
     "output_type": "display_data"
    },
    {
     "data": {
      "text/latex": [
       "$\\displaystyle [50]\\text{   }{{prod}}_{power, l0, q{2}, operate, wf} - 1.0 \\cdot {{{opr}}}_{wf, l0, q{2}} = 0$"
      ],
      "text/plain": [
       "<IPython.core.display.Math object>"
      ]
     },
     "metadata": {},
     "output_type": "display_data"
    },
    {
     "data": {
      "text/latex": [
       "$\\displaystyle [51]\\text{   }{{prod}}_{power, l0, q{3}, operate, wf} - 1.0 \\cdot {{{opr}}}_{wf, l0, q{3}} = 0$"
      ],
      "text/plain": [
       "<IPython.core.display.Math object>"
      ]
     },
     "metadata": {},
     "output_type": "display_data"
    },
    {
     "data": {
      "text/latex": [
       "$\\displaystyle [52]\\text{   }{{{expd}}}_{wind, l0, y{0}, operate, wf} - 1.0 \\cdot {{{opr}}}_{wf, l0, y{0}} = 0$"
      ],
      "text/plain": [
       "<IPython.core.display.Math object>"
      ]
     },
     "metadata": {},
     "output_type": "display_data"
    },
    {
     "data": {
      "text/latex": [
       "$\\displaystyle [53]\\text{   }{{prod}}_{power, l0, q{0}, operate, pv} - 1.0 \\cdot {{{opr}}}_{pv, l0, q{0}} = 0$"
      ],
      "text/plain": [
       "<IPython.core.display.Math object>"
      ]
     },
     "metadata": {},
     "output_type": "display_data"
    },
    {
     "data": {
      "text/latex": [
       "$\\displaystyle [54]\\text{   }{{prod}}_{power, l0, q{1}, operate, pv} - 1.0 \\cdot {{{opr}}}_{pv, l0, q{1}} = 0$"
      ],
      "text/plain": [
       "<IPython.core.display.Math object>"
      ]
     },
     "metadata": {},
     "output_type": "display_data"
    },
    {
     "data": {
      "text/latex": [
       "$\\displaystyle [55]\\text{   }{{prod}}_{power, l0, q{2}, operate, pv} - 1.0 \\cdot {{{opr}}}_{pv, l0, q{2}} = 0$"
      ],
      "text/plain": [
       "<IPython.core.display.Math object>"
      ]
     },
     "metadata": {},
     "output_type": "display_data"
    },
    {
     "data": {
      "text/latex": [
       "$\\displaystyle [56]\\text{   }{{prod}}_{power, l0, q{3}, operate, pv} - 1.0 \\cdot {{{opr}}}_{pv, l0, q{3}} = 0$"
      ],
      "text/plain": [
       "<IPython.core.display.Math object>"
      ]
     },
     "metadata": {},
     "output_type": "display_data"
    },
    {
     "data": {
      "text/latex": [
       "$\\displaystyle [57]\\text{   }{{{expd}}}_{solar, l0, q{0}, operate, pv} - 1.0 \\cdot {{{opr}}}_{pv, l0, q{0}} = 0$"
      ],
      "text/plain": [
       "<IPython.core.display.Math object>"
      ]
     },
     "metadata": {},
     "output_type": "display_data"
    },
    {
     "data": {
      "text/latex": [
       "$\\displaystyle [58]\\text{   }{{{expd}}}_{solar, l0, q{1}, operate, pv} - 1.0 \\cdot {{{opr}}}_{pv, l0, q{1}} = 0$"
      ],
      "text/plain": [
       "<IPython.core.display.Math object>"
      ]
     },
     "metadata": {},
     "output_type": "display_data"
    },
    {
     "data": {
      "text/latex": [
       "$\\displaystyle [59]\\text{   }{{{expd}}}_{solar, l0, q{2}, operate, pv} - 1.0 \\cdot {{{opr}}}_{pv, l0, q{2}} = 0$"
      ],
      "text/plain": [
       "<IPython.core.display.Math object>"
      ]
     },
     "metadata": {},
     "output_type": "display_data"
    },
    {
     "data": {
      "text/latex": [
       "$\\displaystyle [60]\\text{   }{{{expd}}}_{solar, l0, q{3}, operate, pv} - 1.0 \\cdot {{{opr}}}_{pv, l0, q{3}} = 0$"
      ],
      "text/plain": [
       "<IPython.core.display.Math object>"
      ]
     },
     "metadata": {},
     "output_type": "display_data"
    },
    {
     "data": {
      "text/latex": [
       "$\\displaystyle [67]\\text{   }{{prod}}_{lii.stored, l0, q{0}, operate, lii.charge} - 1.0 \\cdot {{{opr}}}_{lii.charge, l0, q{0}} = 0$"
      ],
      "text/plain": [
       "<IPython.core.display.Math object>"
      ]
     },
     "metadata": {},
     "output_type": "display_data"
    },
    {
     "data": {
      "text/latex": [
       "$\\displaystyle [68]\\text{   }{{prod}}_{lii.stored, l0, q{1}, operate, lii.charge} - 1.0 \\cdot {{{opr}}}_{lii.charge, l0, q{1}} = 0$"
      ],
      "text/plain": [
       "<IPython.core.display.Math object>"
      ]
     },
     "metadata": {},
     "output_type": "display_data"
    },
    {
     "data": {
      "text/latex": [
       "$\\displaystyle [69]\\text{   }{{prod}}_{lii.stored, l0, q{2}, operate, lii.charge} - 1.0 \\cdot {{{opr}}}_{lii.charge, l0, q{2}} = 0$"
      ],
      "text/plain": [
       "<IPython.core.display.Math object>"
      ]
     },
     "metadata": {},
     "output_type": "display_data"
    },
    {
     "data": {
      "text/latex": [
       "$\\displaystyle [70]\\text{   }{{prod}}_{lii.stored, l0, q{3}, operate, lii.charge} - 1.0 \\cdot {{{opr}}}_{lii.charge, l0, q{3}} = 0$"
      ],
      "text/plain": [
       "<IPython.core.display.Math object>"
      ]
     },
     "metadata": {},
     "output_type": "display_data"
    },
    {
     "data": {
      "text/latex": [
       "$\\displaystyle [71]\\text{   }{{{expd}}}_{power, l0, q{0}, operate, lii.charge} - 1.0 \\cdot {{{opr}}}_{lii.charge, l0, q{0}} = 0$"
      ],
      "text/plain": [
       "<IPython.core.display.Math object>"
      ]
     },
     "metadata": {},
     "output_type": "display_data"
    },
    {
     "data": {
      "text/latex": [
       "$\\displaystyle [72]\\text{   }{{{expd}}}_{power, l0, q{1}, operate, lii.charge} - 1.0 \\cdot {{{opr}}}_{lii.charge, l0, q{1}} = 0$"
      ],
      "text/plain": [
       "<IPython.core.display.Math object>"
      ]
     },
     "metadata": {},
     "output_type": "display_data"
    },
    {
     "data": {
      "text/latex": [
       "$\\displaystyle [73]\\text{   }{{{expd}}}_{power, l0, q{2}, operate, lii.charge} - 1.0 \\cdot {{{opr}}}_{lii.charge, l0, q{2}} = 0$"
      ],
      "text/plain": [
       "<IPython.core.display.Math object>"
      ]
     },
     "metadata": {},
     "output_type": "display_data"
    },
    {
     "data": {
      "text/latex": [
       "$\\displaystyle [74]\\text{   }{{{expd}}}_{power, l0, q{3}, operate, lii.charge} - 1.0 \\cdot {{{opr}}}_{lii.charge, l0, q{3}} = 0$"
      ],
      "text/plain": [
       "<IPython.core.display.Math object>"
      ]
     },
     "metadata": {},
     "output_type": "display_data"
    },
    {
     "data": {
      "text/latex": [
       "$\\displaystyle [76]\\text{   }{{prod}}_{power, l0, q{0}, operate, lii.discharge} - 1.0 \\cdot {{{opr}}}_{lii.discharge, l0, q{0}} = 0$"
      ],
      "text/plain": [
       "<IPython.core.display.Math object>"
      ]
     },
     "metadata": {},
     "output_type": "display_data"
    },
    {
     "data": {
      "text/latex": [
       "$\\displaystyle [77]\\text{   }{{prod}}_{power, l0, q{1}, operate, lii.discharge} - 1.0 \\cdot {{{opr}}}_{lii.discharge, l0, q{1}} = 0$"
      ],
      "text/plain": [
       "<IPython.core.display.Math object>"
      ]
     },
     "metadata": {},
     "output_type": "display_data"
    },
    {
     "data": {
      "text/latex": [
       "$\\displaystyle [78]\\text{   }{{prod}}_{power, l0, q{2}, operate, lii.discharge} - 1.0 \\cdot {{{opr}}}_{lii.discharge, l0, q{2}} = 0$"
      ],
      "text/plain": [
       "<IPython.core.display.Math object>"
      ]
     },
     "metadata": {},
     "output_type": "display_data"
    },
    {
     "data": {
      "text/latex": [
       "$\\displaystyle [79]\\text{   }{{prod}}_{power, l0, q{3}, operate, lii.discharge} - 1.0 \\cdot {{{opr}}}_{lii.discharge, l0, q{3}} = 0$"
      ],
      "text/plain": [
       "<IPython.core.display.Math object>"
      ]
     },
     "metadata": {},
     "output_type": "display_data"
    },
    {
     "data": {
      "text/latex": [
       "$\\displaystyle [80]\\text{   }{{{expd}}}_{lii.stored, l0, q{0}, operate, lii.discharge} - 1.1111111111111112 \\cdot {{{opr}}}_{lii.discharge, l0, q{0}} = 0$"
      ],
      "text/plain": [
       "<IPython.core.display.Math object>"
      ]
     },
     "metadata": {},
     "output_type": "display_data"
    },
    {
     "data": {
      "text/latex": [
       "$\\displaystyle [81]\\text{   }{{{expd}}}_{lii.stored, l0, q{1}, operate, lii.discharge} - 1.1111111111111112 \\cdot {{{opr}}}_{lii.discharge, l0, q{1}} = 0$"
      ],
      "text/plain": [
       "<IPython.core.display.Math object>"
      ]
     },
     "metadata": {},
     "output_type": "display_data"
    },
    {
     "data": {
      "text/latex": [
       "$\\displaystyle [82]\\text{   }{{{expd}}}_{lii.stored, l0, q{2}, operate, lii.discharge} - 1.1111111111111112 \\cdot {{{opr}}}_{lii.discharge, l0, q{2}} = 0$"
      ],
      "text/plain": [
       "<IPython.core.display.Math object>"
      ]
     },
     "metadata": {},
     "output_type": "display_data"
    },
    {
     "data": {
      "text/latex": [
       "$\\displaystyle [83]\\text{   }{{{expd}}}_{lii.stored, l0, q{3}, operate, lii.discharge} - 1.1111111111111112 \\cdot {{{opr}}}_{lii.discharge, l0, q{3}} = 0$"
      ],
      "text/plain": [
       "<IPython.core.display.Math object>"
      ]
     },
     "metadata": {},
     "output_type": "display_data"
    },
    {
     "data": {
      "text/markdown": [
       "### Mapping Constraints"
      ],
      "text/plain": [
       "<IPython.core.display.Markdown object>"
      ]
     },
     "metadata": {},
     "output_type": "display_data"
    },
    {
     "data": {
      "text/latex": [
       "$\\displaystyle [41]\\text{   }{{{opr}}}_{wf, l0, y{0}} - \\sum_{i \\in q} {{{opr}}}_{wf, l0, i} = 0$"
      ],
      "text/plain": [
       "<IPython.core.display.Math object>"
      ]
     },
     "metadata": {},
     "output_type": "display_data"
    },
    {
     "data": {
      "text/latex": [
       "$\\displaystyle [44]\\text{   }{{{opr}}}_{pv, l0, y{0}} - \\sum_{i \\in q} {{{opr}}}_{pv, l0, i} = 0$"
      ],
      "text/plain": [
       "<IPython.core.display.Math object>"
      ]
     },
     "metadata": {},
     "output_type": "display_data"
    },
    {
     "data": {
      "text/latex": [
       "$\\displaystyle [61]\\text{   }{{{inv}}}_{lii.stored, l0, y{0}} - \\sum_{i \\in q} {{{inv}}}_{lii.stored, l0, i} = 0$"
      ],
      "text/plain": [
       "<IPython.core.display.Math object>"
      ]
     },
     "metadata": {},
     "output_type": "display_data"
    },
    {
     "data": {
      "text/latex": [
       "$\\displaystyle [66]\\text{   }{{{opr}}}_{lii.charge, l0, y{0}} - \\sum_{i \\in q} {{{opr}}}_{lii.charge, l0, i} = 0$"
      ],
      "text/plain": [
       "<IPython.core.display.Math object>"
      ]
     },
     "metadata": {},
     "output_type": "display_data"
    },
    {
     "data": {
      "text/latex": [
       "$\\displaystyle [75]\\text{   }{{{opr}}}_{lii.discharge, l0, y{0}} - \\sum_{i \\in q} {{{opr}}}_{lii.discharge, l0, i} = 0$"
      ],
      "text/plain": [
       "<IPython.core.display.Math object>"
      ]
     },
     "metadata": {},
     "output_type": "display_data"
    },
    {
     "data": {
      "text/latex": [
       "$\\displaystyle [84]\\text{   }{{spend}}_{usd, l0, y{0}} - {{spend}}_{usd, l0, y{0}, capacity, wf} - {{spend}}_{usd, l0, y{0}, operate, wf} - {{spend}}_{usd, l0, y{0}, capacity, pv} - {{spend}}_{usd, l0, y{0}, operate, pv} - {{spend}}_{usd, l0, y{0}, invcapacity, lii.stored} - {{spend}}_{usd, l0, y{0}, inventory, lii.stored} = 0$"
      ],
      "text/plain": [
       "<IPython.core.display.Math object>"
      ]
     },
     "metadata": {},
     "output_type": "display_data"
    }
   ],
   "source": [
    "m.show(True)"
   ]
  },
  {
   "cell_type": "markdown",
   "id": "8ad83832",
   "metadata": {},
   "source": [
    "## Solution"
   ]
  },
  {
   "cell_type": "markdown",
   "id": "ac8bf947",
   "metadata": {},
   "source": [
    "### Inventory Profiles\n",
    "\n",
    "The inventory maintained in each time period is:"
   ]
  },
  {
   "cell_type": "code",
   "execution_count": 9,
   "id": "f67de1d4",
   "metadata": {},
   "outputs": [
    {
     "data": {
      "text/latex": [
       "$\\displaystyle {{{inv}}}_{lii.stored, l0, y{0}}=34.043209876543145$"
      ],
      "text/plain": [
       "<IPython.core.display.Math object>"
      ]
     },
     "metadata": {},
     "output_type": "display_data"
    },
    {
     "data": {
      "text/latex": [
       "$\\displaystyle {{{inv}}}_{lii.stored, l0, q{0}}=6.882716049382658$"
      ],
      "text/plain": [
       "<IPython.core.display.Math object>"
      ]
     },
     "metadata": {},
     "output_type": "display_data"
    },
    {
     "data": {
      "text/latex": [
       "$\\displaystyle {{{inv}}}_{lii.stored, l0, q{1}}=27.160493827160487$"
      ],
      "text/plain": [
       "<IPython.core.display.Math object>"
      ]
     },
     "metadata": {},
     "output_type": "display_data"
    },
    {
     "data": {
      "text/latex": [
       "$\\displaystyle {{{inv}}}_{lii.stored, l0, q{2}}=0.0$"
      ],
      "text/plain": [
       "<IPython.core.display.Math object>"
      ]
     },
     "metadata": {},
     "output_type": "display_data"
    },
    {
     "data": {
      "text/latex": [
       "$\\displaystyle {{{inv}}}_{lii.stored, l0, q{3}}=0.0$"
      ],
      "text/plain": [
       "<IPython.core.display.Math object>"
      ]
     },
     "metadata": {},
     "output_type": "display_data"
    }
   ],
   "source": [
    "m.inventory.output()"
   ]
  },
  {
   "cell_type": "markdown",
   "id": "2c042bdb",
   "metadata": {},
   "source": [
    "The amount charged into inventory is:"
   ]
  },
  {
   "cell_type": "code",
   "execution_count": 10,
   "id": "fe91fb8f",
   "metadata": {},
   "outputs": [
    {
     "data": {
      "text/latex": [
       "$\\displaystyle {{prod}}_{lii.stored, l0, q{0}, operate, lii.charge}=6.882716049382658$"
      ],
      "text/plain": [
       "<IPython.core.display.Math object>"
      ]
     },
     "metadata": {},
     "output_type": "display_data"
    },
    {
     "data": {
      "text/latex": [
       "$\\displaystyle {{prod}}_{lii.stored, l0, q{1}, operate, lii.charge}=20.27777777777778$"
      ],
      "text/plain": [
       "<IPython.core.display.Math object>"
      ]
     },
     "metadata": {},
     "output_type": "display_data"
    },
    {
     "data": {
      "text/latex": [
       "$\\displaystyle {{prod}}_{lii.stored, l0, q{2}, operate, lii.charge}=0.0$"
      ],
      "text/plain": [
       "<IPython.core.display.Math object>"
      ]
     },
     "metadata": {},
     "output_type": "display_data"
    },
    {
     "data": {
      "text/latex": [
       "$\\displaystyle {{prod}}_{lii.stored, l0, q{3}, operate, lii.charge}=0.0$"
      ],
      "text/plain": [
       "<IPython.core.display.Math object>"
      ]
     },
     "metadata": {},
     "output_type": "display_data"
    }
   ],
   "source": [
    "m.produce(m.power.lii, m.lii.charge.operate, m.q).output()"
   ]
  },
  {
   "cell_type": "markdown",
   "id": "946d48b7",
   "metadata": {},
   "source": [
    "The amount discharged from inventory is:"
   ]
  },
  {
   "cell_type": "code",
   "execution_count": 11,
   "id": "00d675ad",
   "metadata": {},
   "outputs": [
    {
     "data": {
      "text/latex": [
       "$\\displaystyle {{prod}}_{power, l0, q{0}, operate, lii.discharge}=0.0$"
      ],
      "text/plain": [
       "<IPython.core.display.Math object>"
      ]
     },
     "metadata": {},
     "output_type": "display_data"
    },
    {
     "data": {
      "text/latex": [
       "$\\displaystyle {{prod}}_{power, l0, q{1}, operate, lii.discharge}=0.0$"
      ],
      "text/plain": [
       "<IPython.core.display.Math object>"
      ]
     },
     "metadata": {},
     "output_type": "display_data"
    },
    {
     "data": {
      "text/latex": [
       "$\\displaystyle {{prod}}_{power, l0, q{2}, operate, lii.discharge}=24.444444444444443$"
      ],
      "text/plain": [
       "<IPython.core.display.Math object>"
      ]
     },
     "metadata": {},
     "output_type": "display_data"
    },
    {
     "data": {
      "text/latex": [
       "$\\displaystyle {{prod}}_{power, l0, q{3}, operate, lii.discharge}=0.0$"
      ],
      "text/plain": [
       "<IPython.core.display.Math object>"
      ]
     },
     "metadata": {},
     "output_type": "display_data"
    }
   ],
   "source": [
    "m.produce(m.power, m.lii.discharge.operate, m.q).output()"
   ]
  },
  {
   "cell_type": "markdown",
   "id": "f152fbfc",
   "metadata": {},
   "source": [
    "### Integer Decisions \n",
    "\n",
    "All the operations are setup in this case"
   ]
  },
  {
   "cell_type": "code",
   "execution_count": 12,
   "id": "7ba53e91",
   "metadata": {},
   "outputs": [
    {
     "data": {
      "text/latex": [
       "$\\displaystyle {{{\\breve{{cap}}}}}_{wf, l0, y{0}}=1.0$"
      ],
      "text/plain": [
       "<IPython.core.display.Math object>"
      ]
     },
     "metadata": {},
     "output_type": "display_data"
    },
    {
     "data": {
      "text/latex": [
       "$\\displaystyle {{{\\breve{{cap}}}}}_{pv, l0, y{0}}=1.0$"
      ],
      "text/plain": [
       "<IPython.core.display.Math object>"
      ]
     },
     "metadata": {},
     "output_type": "display_data"
    }
   ],
   "source": [
    "m.capacity.reporting.output()"
   ]
  },
  {
   "cell_type": "code",
   "execution_count": 13,
   "id": "dafa2788",
   "metadata": {},
   "outputs": [
    {
     "data": {
      "text/latex": [
       "$\\displaystyle {{{cap}}}_{wf, l0, y{0}}=100.0$"
      ],
      "text/plain": [
       "<IPython.core.display.Math object>"
      ]
     },
     "metadata": {},
     "output_type": "display_data"
    },
    {
     "data": {
      "text/latex": [
       "$\\displaystyle {{{cap}}}_{pv, l0, y{0}}=100.0$"
      ],
      "text/plain": [
       "<IPython.core.display.Math object>"
      ]
     },
     "metadata": {},
     "output_type": "display_data"
    },
    {
     "data": {
      "text/latex": [
       "$\\displaystyle {{{cap}}}_{lii.charge, l0, y{0}}=100.0$"
      ],
      "text/plain": [
       "<IPython.core.display.Math object>"
      ]
     },
     "metadata": {},
     "output_type": "display_data"
    },
    {
     "data": {
      "text/latex": [
       "$\\displaystyle {{{cap}}}_{lii.discharge, l0, y{0}}=100.0$"
      ],
      "text/plain": [
       "<IPython.core.display.Math object>"
      ]
     },
     "metadata": {},
     "output_type": "display_data"
    }
   ],
   "source": [
    "m.capacity.output()"
   ]
  },
  {
   "cell_type": "code",
   "execution_count": 16,
   "id": "cbc25a1e",
   "metadata": {},
   "outputs": [
    {
     "data": {
      "text/plain": [
       "[100.0, 100.0, 100.0, 100.0]"
      ]
     },
     "execution_count": 16,
     "metadata": {},
     "output_type": "execute_result"
    }
   ],
   "source": [
    "m.capacity.output(aslist=True)"
   ]
  },
  {
   "cell_type": "code",
   "execution_count": 17,
   "id": "06c94023",
   "metadata": {},
   "outputs": [],
   "source": [
    "from energia.library.examples.energy import design_scheduling "
   ]
  },
  {
   "cell_type": "code",
   "execution_count": 18,
   "id": "8b4f6059",
   "metadata": {},
   "outputs": [
    {
     "name": "stderr",
     "output_type": "stream",
     "text": [
      "2025-10-23 12:36:06,551 [INFO] Balance for solar in (l0, q): initializing\n",
      "2025-10-23 12:36:06,552 [INFO] ✔ Completed in 0.0001804828643798828 seconds\n",
      "2025-10-23 12:36:06,553 [INFO] Binding consume in domain (solar, l0, q)\n",
      "2025-10-23 12:36:06,554 [INFO] ✔ Completed in 0.0001380443572998047 seconds\n",
      "2025-10-23 12:36:06,554 [INFO] Balance for wind in (l0, y): initializing\n",
      "2025-10-23 12:36:06,555 [INFO] ✔ Completed in 0.00013399124145507812 seconds\n",
      "2025-10-23 12:36:06,555 [INFO] Binding consume in domain (wind, l0, y)\n",
      "2025-10-23 12:36:06,556 [INFO] ✔ Completed in 9.679794311523438e-05 seconds\n",
      "2025-10-23 12:36:06,556 [INFO] Balance for power in (l0, q): initializing\n",
      "2025-10-23 12:36:06,557 [INFO] ✔ Completed in 0.00014066696166992188 seconds\n",
      "2025-10-23 12:36:06,557 [INFO] Binding release in domain (power, l0, q)\n",
      "2025-10-23 12:36:06,557 [INFO] ✔ Completed in 0.0001800060272216797 seconds\n",
      "2025-10-23 12:36:06,558 [INFO] Binding capacity in domain (wf, l0, y)\n",
      "2025-10-23 12:36:06,559 [INFO] ✔ Completed in 0.0001900196075439453 seconds\n",
      "2025-10-23 12:36:06,559 [INFO] Binding capacity in domain (wf, l0, y)\n",
      "2025-10-23 12:36:06,560 [INFO] ✔ Completed in 0.0002598762512207031 seconds\n",
      "2025-10-23 12:36:06,560 [INFO] Binding operate in domain (wf, l0, q)\n",
      "2025-10-23 12:36:06,561 [INFO] ✔ Completed in 0.0002162456512451172 seconds\n",
      "2025-10-23 12:36:06,562 [INFO] Mapping operate: (wf, l0, q) → (wf, l0, y)\n",
      "2025-10-23 12:36:06,563 [INFO] ✔ Completed in 0.00010991096496582031 seconds\n",
      "2025-10-23 12:36:06,563 [INFO] Binding capacity in domain (pv, l0, y)\n",
      "2025-10-23 12:36:06,564 [INFO] ✔ Completed in 0.00038313865661621094 seconds\n",
      "2025-10-23 12:36:06,564 [INFO] Binding capacity in domain (pv, l0, y)\n",
      "2025-10-23 12:36:06,565 [INFO] ✔ Completed in 0.00016021728515625 seconds\n",
      "2025-10-23 12:36:06,565 [INFO] Binding operate in domain (pv, l0, q)\n",
      "2025-10-23 12:36:06,566 [INFO] ✔ Completed in 0.00022411346435546875 seconds\n",
      "2025-10-23 12:36:06,567 [INFO] Mapping operate: (pv, l0, q) → (pv, l0, y)\n",
      "2025-10-23 12:36:06,567 [INFO] ✔ Completed in 0.00011801719665527344 seconds\n",
      "2025-10-23 12:36:06,568 [INFO] Binding invcapacity in domain (lii.stored, l0, y)\n",
      "2025-10-23 12:36:06,568 [INFO] ✔ Completed in 0.00013709068298339844 seconds\n",
      "2025-10-23 12:36:06,569 [INFO] Binding invcapacity in domain (lii.stored, l0, y)\n",
      "2025-10-23 12:36:06,569 [INFO] ✔ Completed in 0.0001659393310546875 seconds\n",
      "2025-10-23 12:36:06,570 [INFO] Balance for lii.stored in (l0, y): initializing\n",
      "2025-10-23 12:36:06,571 [INFO] Balance for power in (l0, q): adding produce(power, l0, q, operate, wf)\n",
      "2025-10-23 12:36:06,572 [INFO] ✔ Completed in 0.0001537799835205078 seconds\n",
      "2025-10-23 12:36:06,572 [INFO] Balance for wind in (l0, y): adding expend(wind, l0, y, operate, wf)\n",
      "2025-10-23 12:36:06,573 [INFO] ✔ Completed in 0.00012087821960449219 seconds\n",
      "2025-10-23 12:36:06,574 [INFO] Balance for power in (l0, q): adding produce(power, l0, q, operate, pv)\n",
      "2025-10-23 12:36:06,574 [INFO] ✔ Completed in 0.0001690387725830078 seconds\n",
      "2025-10-23 12:36:06,575 [INFO] Balance for solar in (l0, q): adding expend(solar, l0, q, operate, pv)\n",
      "2025-10-23 12:36:06,576 [INFO] ✔ Completed in 0.00016546249389648438 seconds\n",
      "2025-10-23 12:36:06,577 [INFO] Assuming  lii.stored inventory capacity is unbounded in (l0, y)\n",
      "2025-10-23 12:36:06,577 [INFO] Assuming inventory of lii.stored is unbounded in (l0, y)\n",
      "2025-10-23 12:36:06,577 [INFO] Assuming inventory of lii.stored is bound by inventory capacity in (l0, q)\n",
      "2025-10-23 12:36:06,578 [INFO] Mapping inventory: (lii.stored, l0, q) → (lii.stored, l0, y)\n",
      "2025-10-23 12:36:06,578 [INFO] ✔ Completed in 0.00010395050048828125 seconds\n",
      "2025-10-23 12:36:06,579 [INFO] Balance for lii.stored in (l0, q): initializing\n",
      "2025-10-23 12:36:06,580 [INFO] ✔ Completed in 0.0004792213439941406 seconds\n",
      "2025-10-23 12:36:06,580 [INFO] Binding inventory in domain (lii.stored, l0, q)\n",
      "2025-10-23 12:36:06,581 [INFO] ✔ Completed in 0.00016355514526367188 seconds\n",
      "2025-10-23 12:36:06,581 [INFO] Assuming  lii.charge capacity is unbounded in (l0, y)\n",
      "2025-10-23 12:36:06,581 [INFO] Assuming operation of lii.charge is bound by capacity in (l0, y)\n",
      "2025-10-23 12:36:06,582 [INFO] Binding operate in domain (lii.charge, l0, y)\n",
      "2025-10-23 12:36:06,583 [INFO] ✔ Completed in 0.00012803077697753906 seconds\n",
      "2025-10-23 12:36:06,583 [INFO] Balance for lii.stored in (l0, q): adding produce(lii.stored, l0, q, operate, lii.charge)\n",
      "2025-10-23 12:36:06,584 [INFO] ✔ Completed in 0.0001659393310546875 seconds\n",
      "2025-10-23 12:36:06,584 [INFO] Mapping operate: (lii.charge, l0, q) → (lii.charge, l0, y)\n",
      "2025-10-23 12:36:06,585 [INFO] ✔ Completed in 0.00010848045349121094 seconds\n",
      "2025-10-23 12:36:06,585 [INFO] Balance for power in (l0, q): adding expend(power, l0, q, operate, lii.charge)\n",
      "2025-10-23 12:36:06,586 [INFO] ✔ Completed in 0.00014328956604003906 seconds\n",
      "2025-10-23 12:36:06,586 [INFO] Assuming  lii.discharge capacity is unbounded in (l0, y)\n",
      "2025-10-23 12:36:06,587 [INFO] Assuming operation of lii.discharge is bound by capacity in (l0, y)\n",
      "2025-10-23 12:36:06,587 [INFO] Binding operate in domain (lii.discharge, l0, y)\n",
      "2025-10-23 12:36:06,588 [INFO] ✔ Completed in 0.0001652240753173828 seconds\n",
      "2025-10-23 12:36:06,589 [INFO] Balance for power in (l0, q): adding produce(power, l0, q, operate, lii.discharge)\n",
      "2025-10-23 12:36:06,589 [INFO] ✔ Completed in 0.0002777576446533203 seconds\n",
      "2025-10-23 12:36:06,590 [INFO] Mapping operate: (lii.discharge, l0, q) → (lii.discharge, l0, y)\n",
      "2025-10-23 12:36:06,591 [INFO] ✔ Completed in 0.0001773834228515625 seconds\n",
      "2025-10-23 12:36:06,592 [INFO] Balance for lii.stored in (l0, q): adding expend(lii.stored, l0, q, operate, lii.discharge)\n",
      "2025-10-23 12:36:06,593 [INFO] ✔ Completed in 0.00018978118896484375 seconds\n",
      "2025-10-23 12:36:06,594 [INFO] Mapping spend: (usd, l0, y, capacity, wf) → (usd, l0, y)\n",
      "2025-10-23 12:36:06,594 [INFO] ✔ Completed in 9.608268737792969e-05 seconds\n",
      "2025-10-23 12:36:06,594 [INFO] Mapping spend: (usd, l0, y, operate, wf) → (usd, l0, y)\n",
      "2025-10-23 12:36:06,595 [INFO] ✔ Completed in 8.249282836914062e-05 seconds\n",
      "2025-10-23 12:36:06,595 [INFO] Mapping spend: (usd, l0, y, capacity, pv) → (usd, l0, y)\n",
      "2025-10-23 12:36:06,596 [INFO] ✔ Completed in 0.000118255615234375 seconds\n",
      "2025-10-23 12:36:06,596 [INFO] Mapping spend: (usd, l0, y, operate, pv) → (usd, l0, y)\n",
      "2025-10-23 12:36:06,597 [INFO] ✔ Completed in 9.751319885253906e-05 seconds\n",
      "2025-10-23 12:36:06,597 [INFO] Mapping spend: (usd, l0, y, invcapacity, lii.stored) → (usd, l0, y)\n",
      "2025-10-23 12:36:06,597 [INFO] ✔ Completed in 0.00010013580322265625 seconds\n",
      "2025-10-23 12:36:06,598 [INFO] Mapping spend: (usd, l0, y, inventory, lii.stored) → (usd, l0, y)\n",
      "2025-10-23 12:36:06,598 [INFO] ✔ Completed in 0.00011658668518066406 seconds\n",
      "2025-10-23 12:36:06,599 [INFO] Generating Program(design_scheduling).mps\n",
      "2025-10-23 12:36:06,603 [INFO] Creating gurobi model for Program(design_scheduling)\n"
     ]
    },
    {
     "name": "stdout",
     "output_type": "stream",
     "text": [
      "Read MPS format model from file Program(design_scheduling).mps\n",
      "Reading time = 0.00 seconds\n",
      "PROGRAM(DESIGN_SCHEDULING): 83 rows, 78 columns, 196 nonzeros\n"
     ]
    },
    {
     "name": "stderr",
     "output_type": "stream",
     "text": [
      "2025-10-23 12:36:06,605 [INFO] Optimizing Program(design_scheduling) using gurobi\n"
     ]
    },
    {
     "name": "stdout",
     "output_type": "stream",
     "text": [
      "Gurobi Optimizer version 12.0.3 build v12.0.3rc0 (win64 - Windows 11.0 (26100.2))\n",
      "\n",
      "CPU model: 13th Gen Intel(R) Core(TM) i7-13700, instruction set [SSE2|AVX|AVX2]\n",
      "Thread count: 16 physical cores, 24 logical processors, using up to 24 threads\n",
      "\n",
      "Optimize a model with 83 rows, 78 columns and 196 nonzeros\n",
      "Model fingerprint: 0x9d09b87a\n",
      "Variable types: 75 continuous, 3 integer (3 binary)\n",
      "Coefficient statistics:\n",
      "  Matrix range     [6e-01, 1e+06]\n",
      "  Objective range  [1e+00, 1e+00]\n",
      "  Bounds range     [1e+00, 1e+00]\n",
      "  RHS range        [7e+01, 4e+02]\n",
      "Presolve removed 71 rows and 66 columns\n",
      "Presolve time: 0.00s\n",
      "Presolved: 12 rows, 12 columns, 34 nonzeros\n",
      "Variable types: 12 continuous, 0 integer (0 binary)\n",
      "\n",
      "Root relaxation: objective 3.006497e+08, 6 iterations, 0.00 seconds (0.00 work units)\n",
      "\n",
      "    Nodes    |    Current Node    |     Objective Bounds      |     Work\n",
      " Expl Unexpl |  Obj  Depth IntInf | Incumbent    BestBd   Gap | It/Node Time\n",
      "\n",
      "*    0     0               0    3.006497e+08 3.0065e+08  0.00%     -    0s\n",
      "\n",
      "Explored 1 nodes (6 simplex iterations) in 0.01 seconds (0.00 work units)\n",
      "Thread count was 24 (of 24 available processors)\n",
      "\n",
      "Solution count 1: 3.0065e+08 \n",
      "\n",
      "Optimal solution found (tolerance 1.00e-04)\n",
      "Best objective 3.006497358951e+08, best bound 3.006497358951e+08, gap 0.0000%\n"
     ]
    },
    {
     "name": "stderr",
     "output_type": "stream",
     "text": [
      "2025-10-23 12:36:06,619 [INFO] Solution found. Use .output() to display it\n",
      "2025-10-23 12:36:06,620 [INFO] Creating Solution object, check.solution\n"
     ]
    }
   ],
   "source": [
    "m = design_scheduling()\n",
    "m.usd.spend.opt()"
   ]
  },
  {
   "cell_type": "code",
   "execution_count": 19,
   "id": "045a9129",
   "metadata": {},
   "outputs": [
    {
     "data": {
      "text/markdown": [
       "# Solution for Program(design_scheduling)"
      ],
      "text/plain": [
       "<IPython.core.display.Markdown object>"
      ]
     },
     "metadata": {},
     "output_type": "display_data"
    },
    {
     "data": {
      "text/markdown": [
       "<br><br>"
      ],
      "text/plain": [
       "<IPython.core.display.Markdown object>"
      ]
     },
     "metadata": {},
     "output_type": "display_data"
    },
    {
     "data": {
      "text/markdown": [
       "## Objective"
      ],
      "text/plain": [
       "<IPython.core.display.Markdown object>"
      ]
     },
     "metadata": {},
     "output_type": "display_data"
    },
    {
     "data": {
      "text/latex": [
       "$\\displaystyle min \\hspace{0.2cm} {{spend}}_{usd, l0, y{0}}=300649735.8950616$"
      ],
      "text/plain": [
       "<IPython.core.display.Math object>"
      ]
     },
     "metadata": {},
     "output_type": "display_data"
    },
    {
     "data": {
      "text/markdown": [
       "<br><br>"
      ],
      "text/plain": [
       "<IPython.core.display.Markdown object>"
      ]
     },
     "metadata": {},
     "output_type": "display_data"
    },
    {
     "data": {
      "text/markdown": [
       "## Variables"
      ],
      "text/plain": [
       "<IPython.core.display.Markdown object>"
      ]
     },
     "metadata": {},
     "output_type": "display_data"
    },
    {
     "data": {
      "text/latex": [
       "$\\displaystyle {{{cons}}}_{solar, l0, q{0}}=41.882716049382566$"
      ],
      "text/plain": [
       "<IPython.core.display.Math object>"
      ]
     },
     "metadata": {},
     "output_type": "display_data"
    },
    {
     "data": {
      "text/latex": [
       "$\\displaystyle {{{cons}}}_{solar, l0, q{1}}=88.88888888888889$"
      ],
      "text/plain": [
       "<IPython.core.display.Math object>"
      ]
     },
     "metadata": {},
     "output_type": "display_data"
    },
    {
     "data": {
      "text/latex": [
       "$\\displaystyle {{{cons}}}_{solar, l0, q{2}}=100.0$"
      ],
      "text/plain": [
       "<IPython.core.display.Math object>"
      ]
     },
     "metadata": {},
     "output_type": "display_data"
    },
    {
     "data": {
      "text/latex": [
       "$\\displaystyle {{{cons}}}_{solar, l0, q{3}}=0.0$"
      ],
      "text/plain": [
       "<IPython.core.display.Math object>"
      ]
     },
     "metadata": {},
     "output_type": "display_data"
    },
    {
     "data": {
      "text/latex": [
       "$\\displaystyle {{{cons}}}_{wind, l0, y{0}}=311.94444444444446$"
      ],
      "text/plain": [
       "<IPython.core.display.Math object>"
      ]
     },
     "metadata": {},
     "output_type": "display_data"
    },
    {
     "data": {
      "text/latex": [
       "$\\displaystyle {{{rlse}}}_{power, l0, q{0}}=135.0$"
      ],
      "text/plain": [
       "<IPython.core.display.Math object>"
      ]
     },
     "metadata": {},
     "output_type": "display_data"
    },
    {
     "data": {
      "text/latex": [
       "$\\displaystyle {{{rlse}}}_{power, l0, q{1}}=157.5$"
      ],
      "text/plain": [
       "<IPython.core.display.Math object>"
      ]
     },
     "metadata": {},
     "output_type": "display_data"
    },
    {
     "data": {
      "text/latex": [
       "$\\displaystyle {{{rlse}}}_{power, l0, q{2}}=180.0$"
      ],
      "text/plain": [
       "<IPython.core.display.Math object>"
      ]
     },
     "metadata": {},
     "output_type": "display_data"
    },
    {
     "data": {
      "text/latex": [
       "$\\displaystyle {{{rlse}}}_{power, l0, q{3}}=67.5$"
      ],
      "text/plain": [
       "<IPython.core.display.Math object>"
      ]
     },
     "metadata": {},
     "output_type": "display_data"
    },
    {
     "data": {
      "text/latex": [
       "$\\displaystyle {{{cap}}}_{wf, l0, y{0}}=100.0$"
      ],
      "text/plain": [
       "<IPython.core.display.Math object>"
      ]
     },
     "metadata": {},
     "output_type": "display_data"
    },
    {
     "data": {
      "text/latex": [
       "$\\displaystyle {{{cap}}}_{pv, l0, y{0}}=100.0$"
      ],
      "text/plain": [
       "<IPython.core.display.Math object>"
      ]
     },
     "metadata": {},
     "output_type": "display_data"
    },
    {
     "data": {
      "text/latex": [
       "$\\displaystyle {{{cap}}}_{lii.charge, l0, y{0}}=27.160493827160423$"
      ],
      "text/plain": [
       "<IPython.core.display.Math object>"
      ]
     },
     "metadata": {},
     "output_type": "display_data"
    },
    {
     "data": {
      "text/latex": [
       "$\\displaystyle {{{cap}}}_{lii.discharge, l0, y{0}}=24.444444444444443$"
      ],
      "text/plain": [
       "<IPython.core.display.Math object>"
      ]
     },
     "metadata": {},
     "output_type": "display_data"
    },
    {
     "data": {
      "text/latex": [
       "$\\displaystyle {{{\\breve{{cap}}}}}_{wf, l0, y{0}}=1.0$"
      ],
      "text/plain": [
       "<IPython.core.display.Math object>"
      ]
     },
     "metadata": {},
     "output_type": "display_data"
    },
    {
     "data": {
      "text/latex": [
       "$\\displaystyle {{{\\breve{{cap}}}}}_{pv, l0, y{0}}=1.0$"
      ],
      "text/plain": [
       "<IPython.core.display.Math object>"
      ]
     },
     "metadata": {},
     "output_type": "display_data"
    },
    {
     "data": {
      "text/latex": [
       "$\\displaystyle {{{opr}}}_{wf, l0, q{0}}=100.0$"
      ],
      "text/plain": [
       "<IPython.core.display.Math object>"
      ]
     },
     "metadata": {},
     "output_type": "display_data"
    },
    {
     "data": {
      "text/latex": [
       "$\\displaystyle {{{opr}}}_{wf, l0, q{1}}=88.88888888888889$"
      ],
      "text/plain": [
       "<IPython.core.display.Math object>"
      ]
     },
     "metadata": {},
     "output_type": "display_data"
    },
    {
     "data": {
      "text/latex": [
       "$\\displaystyle {{{opr}}}_{wf, l0, q{2}}=55.55555555555556$"
      ],
      "text/plain": [
       "<IPython.core.display.Math object>"
      ]
     },
     "metadata": {},
     "output_type": "display_data"
    },
    {
     "data": {
      "text/latex": [
       "$\\displaystyle {{{opr}}}_{wf, l0, q{3}}=67.5$"
      ],
      "text/plain": [
       "<IPython.core.display.Math object>"
      ]
     },
     "metadata": {},
     "output_type": "display_data"
    },
    {
     "data": {
      "text/latex": [
       "$\\displaystyle {{{opr}}}_{wf, l0, y{0}}=311.94444444444446$"
      ],
      "text/plain": [
       "<IPython.core.display.Math object>"
      ]
     },
     "metadata": {},
     "output_type": "display_data"
    },
    {
     "data": {
      "text/latex": [
       "$\\displaystyle {{{opr}}}_{pv, l0, q{0}}=41.882716049382566$"
      ],
      "text/plain": [
       "<IPython.core.display.Math object>"
      ]
     },
     "metadata": {},
     "output_type": "display_data"
    },
    {
     "data": {
      "text/latex": [
       "$\\displaystyle {{{opr}}}_{pv, l0, q{1}}=88.88888888888889$"
      ],
      "text/plain": [
       "<IPython.core.display.Math object>"
      ]
     },
     "metadata": {},
     "output_type": "display_data"
    },
    {
     "data": {
      "text/latex": [
       "$\\displaystyle {{{opr}}}_{pv, l0, q{2}}=100.0$"
      ],
      "text/plain": [
       "<IPython.core.display.Math object>"
      ]
     },
     "metadata": {},
     "output_type": "display_data"
    },
    {
     "data": {
      "text/latex": [
       "$\\displaystyle {{{opr}}}_{pv, l0, q{3}}=0.0$"
      ],
      "text/plain": [
       "<IPython.core.display.Math object>"
      ]
     },
     "metadata": {},
     "output_type": "display_data"
    },
    {
     "data": {
      "text/latex": [
       "$\\displaystyle {{{opr}}}_{pv, l0, y{0}}=230.77160493827148$"
      ],
      "text/plain": [
       "<IPython.core.display.Math object>"
      ]
     },
     "metadata": {},
     "output_type": "display_data"
    },
    {
     "data": {
      "text/latex": [
       "$\\displaystyle {{{opr}}}_{lii.charge, l0, y{0}}=27.160493827160423$"
      ],
      "text/plain": [
       "<IPython.core.display.Math object>"
      ]
     },
     "metadata": {},
     "output_type": "display_data"
    },
    {
     "data": {
      "text/latex": [
       "$\\displaystyle {{{opr}}}_{lii.charge, l0, q{0}}=6.882716049382594$"
      ],
      "text/plain": [
       "<IPython.core.display.Math object>"
      ]
     },
     "metadata": {},
     "output_type": "display_data"
    },
    {
     "data": {
      "text/latex": [
       "$\\displaystyle {{{opr}}}_{lii.charge, l0, q{1}}=20.27777777777778$"
      ],
      "text/plain": [
       "<IPython.core.display.Math object>"
      ]
     },
     "metadata": {},
     "output_type": "display_data"
    },
    {
     "data": {
      "text/latex": [
       "$\\displaystyle {{{opr}}}_{lii.charge, l0, q{2}}=0.0$"
      ],
      "text/plain": [
       "<IPython.core.display.Math object>"
      ]
     },
     "metadata": {},
     "output_type": "display_data"
    },
    {
     "data": {
      "text/latex": [
       "$\\displaystyle {{{opr}}}_{lii.charge, l0, q{3}}=0.0$"
      ],
      "text/plain": [
       "<IPython.core.display.Math object>"
      ]
     },
     "metadata": {},
     "output_type": "display_data"
    },
    {
     "data": {
      "text/latex": [
       "$\\displaystyle {{{opr}}}_{lii.discharge, l0, y{0}}=24.444444444444443$"
      ],
      "text/plain": [
       "<IPython.core.display.Math object>"
      ]
     },
     "metadata": {},
     "output_type": "display_data"
    },
    {
     "data": {
      "text/latex": [
       "$\\displaystyle {{{opr}}}_{lii.discharge, l0, q{0}}=0.0$"
      ],
      "text/plain": [
       "<IPython.core.display.Math object>"
      ]
     },
     "metadata": {},
     "output_type": "display_data"
    },
    {
     "data": {
      "text/latex": [
       "$\\displaystyle {{{opr}}}_{lii.discharge, l0, q{1}}=0.0$"
      ],
      "text/plain": [
       "<IPython.core.display.Math object>"
      ]
     },
     "metadata": {},
     "output_type": "display_data"
    },
    {
     "data": {
      "text/latex": [
       "$\\displaystyle {{{opr}}}_{lii.discharge, l0, q{2}}=24.444444444444443$"
      ],
      "text/plain": [
       "<IPython.core.display.Math object>"
      ]
     },
     "metadata": {},
     "output_type": "display_data"
    },
    {
     "data": {
      "text/latex": [
       "$\\displaystyle {{{opr}}}_{lii.discharge, l0, q{3}}=0.0$"
      ],
      "text/plain": [
       "<IPython.core.display.Math object>"
      ]
     },
     "metadata": {},
     "output_type": "display_data"
    },
    {
     "data": {
      "text/latex": [
       "$\\displaystyle {{spend}}_{usd, l0, y{0}, capacity, wf}=99399100.0$"
      ],
      "text/plain": [
       "<IPython.core.display.Math object>"
      ]
     },
     "metadata": {},
     "output_type": "display_data"
    },
    {
     "data": {
      "text/latex": [
       "$\\displaystyle {{spend}}_{usd, l0, y{0}, operate, wf}=15285.277777777777$"
      ],
      "text/plain": [
       "<IPython.core.display.Math object>"
      ]
     },
     "metadata": {},
     "output_type": "display_data"
    },
    {
     "data": {
      "text/latex": [
       "$\\displaystyle {{spend}}_{usd, l0, y{0}, capacity, pv}=143904600.0$"
      ],
      "text/plain": [
       "<IPython.core.display.Math object>"
      ]
     },
     "metadata": {},
     "output_type": "display_data"
    },
    {
     "data": {
      "text/latex": [
       "$\\displaystyle {{spend}}_{usd, l0, y{0}, operate, pv}=20769444.444444444$"
      ],
      "text/plain": [
       "<IPython.core.display.Math object>"
      ]
     },
     "metadata": {},
     "output_type": "display_data"
    },
    {
     "data": {
      "text/latex": [
       "$\\displaystyle {{spend}}_{usd, l0, y{0}, invcapacity, lii.stored}=36493219.75308632$"
      ],
      "text/plain": [
       "<IPython.core.display.Math object>"
      ]
     },
     "metadata": {},
     "output_type": "display_data"
    },
    {
     "data": {
      "text/latex": [
       "$\\displaystyle {{spend}}_{usd, l0, y{0}, inventory, lii.stored}=68086.41975308604$"
      ],
      "text/plain": [
       "<IPython.core.display.Math object>"
      ]
     },
     "metadata": {},
     "output_type": "display_data"
    },
    {
     "data": {
      "text/latex": [
       "$\\displaystyle {{spend}}_{usd, l0, y{0}}=300649735.8950616$"
      ],
      "text/plain": [
       "<IPython.core.display.Math object>"
      ]
     },
     "metadata": {},
     "output_type": "display_data"
    },
    {
     "data": {
      "text/latex": [
       "$\\displaystyle {{{icap}}}_{lii.stored, l0, y{0}}=27.160493827160423$"
      ],
      "text/plain": [
       "<IPython.core.display.Math object>"
      ]
     },
     "metadata": {},
     "output_type": "display_data"
    },
    {
     "data": {
      "text/latex": [
       "$\\displaystyle {{{\\breve{{icap}}}}}_{lii.stored, l0, y{0}}=1.0$"
      ],
      "text/plain": [
       "<IPython.core.display.Math object>"
      ]
     },
     "metadata": {},
     "output_type": "display_data"
    },
    {
     "data": {
      "text/latex": [
       "$\\displaystyle {{{inv}}}_{lii.stored, l0, y{0}}=34.04320987654302$"
      ],
      "text/plain": [
       "<IPython.core.display.Math object>"
      ]
     },
     "metadata": {},
     "output_type": "display_data"
    },
    {
     "data": {
      "text/latex": [
       "$\\displaystyle {{{inv}}}_{lii.stored, l0, q{0}}=6.882716049382594$"
      ],
      "text/plain": [
       "<IPython.core.display.Math object>"
      ]
     },
     "metadata": {},
     "output_type": "display_data"
    },
    {
     "data": {
      "text/latex": [
       "$\\displaystyle {{{inv}}}_{lii.stored, l0, q{1}}=27.160493827160423$"
      ],
      "text/plain": [
       "<IPython.core.display.Math object>"
      ]
     },
     "metadata": {},
     "output_type": "display_data"
    },
    {
     "data": {
      "text/latex": [
       "$\\displaystyle {{{inv}}}_{lii.stored, l0, q{2}}=0.0$"
      ],
      "text/plain": [
       "<IPython.core.display.Math object>"
      ]
     },
     "metadata": {},
     "output_type": "display_data"
    },
    {
     "data": {
      "text/latex": [
       "$\\displaystyle {{{inv}}}_{lii.stored, l0, q{3}}=0.0$"
      ],
      "text/plain": [
       "<IPython.core.display.Math object>"
      ]
     },
     "metadata": {},
     "output_type": "display_data"
    },
    {
     "data": {
      "text/latex": [
       "$\\displaystyle {{prod}}_{power, l0, q{0}, operate, wf}=100.0$"
      ],
      "text/plain": [
       "<IPython.core.display.Math object>"
      ]
     },
     "metadata": {},
     "output_type": "display_data"
    },
    {
     "data": {
      "text/latex": [
       "$\\displaystyle {{prod}}_{power, l0, q{1}, operate, wf}=88.88888888888889$"
      ],
      "text/plain": [
       "<IPython.core.display.Math object>"
      ]
     },
     "metadata": {},
     "output_type": "display_data"
    },
    {
     "data": {
      "text/latex": [
       "$\\displaystyle {{prod}}_{power, l0, q{2}, operate, wf}=55.55555555555556$"
      ],
      "text/plain": [
       "<IPython.core.display.Math object>"
      ]
     },
     "metadata": {},
     "output_type": "display_data"
    },
    {
     "data": {
      "text/latex": [
       "$\\displaystyle {{prod}}_{power, l0, q{3}, operate, wf}=67.5$"
      ],
      "text/plain": [
       "<IPython.core.display.Math object>"
      ]
     },
     "metadata": {},
     "output_type": "display_data"
    },
    {
     "data": {
      "text/latex": [
       "$\\displaystyle {{prod}}_{power, l0, q{0}, operate, pv}=41.882716049382566$"
      ],
      "text/plain": [
       "<IPython.core.display.Math object>"
      ]
     },
     "metadata": {},
     "output_type": "display_data"
    },
    {
     "data": {
      "text/latex": [
       "$\\displaystyle {{prod}}_{power, l0, q{1}, operate, pv}=88.88888888888889$"
      ],
      "text/plain": [
       "<IPython.core.display.Math object>"
      ]
     },
     "metadata": {},
     "output_type": "display_data"
    },
    {
     "data": {
      "text/latex": [
       "$\\displaystyle {{prod}}_{power, l0, q{2}, operate, pv}=100.0$"
      ],
      "text/plain": [
       "<IPython.core.display.Math object>"
      ]
     },
     "metadata": {},
     "output_type": "display_data"
    },
    {
     "data": {
      "text/latex": [
       "$\\displaystyle {{prod}}_{power, l0, q{3}, operate, pv}=0.0$"
      ],
      "text/plain": [
       "<IPython.core.display.Math object>"
      ]
     },
     "metadata": {},
     "output_type": "display_data"
    },
    {
     "data": {
      "text/latex": [
       "$\\displaystyle {{prod}}_{lii.stored, l0, q{0}, operate, lii.charge}=6.882716049382594$"
      ],
      "text/plain": [
       "<IPython.core.display.Math object>"
      ]
     },
     "metadata": {},
     "output_type": "display_data"
    },
    {
     "data": {
      "text/latex": [
       "$\\displaystyle {{prod}}_{lii.stored, l0, q{1}, operate, lii.charge}=20.27777777777778$"
      ],
      "text/plain": [
       "<IPython.core.display.Math object>"
      ]
     },
     "metadata": {},
     "output_type": "display_data"
    },
    {
     "data": {
      "text/latex": [
       "$\\displaystyle {{prod}}_{lii.stored, l0, q{2}, operate, lii.charge}=0.0$"
      ],
      "text/plain": [
       "<IPython.core.display.Math object>"
      ]
     },
     "metadata": {},
     "output_type": "display_data"
    },
    {
     "data": {
      "text/latex": [
       "$\\displaystyle {{prod}}_{lii.stored, l0, q{3}, operate, lii.charge}=0.0$"
      ],
      "text/plain": [
       "<IPython.core.display.Math object>"
      ]
     },
     "metadata": {},
     "output_type": "display_data"
    },
    {
     "data": {
      "text/latex": [
       "$\\displaystyle {{prod}}_{power, l0, q{0}, operate, lii.discharge}=0.0$"
      ],
      "text/plain": [
       "<IPython.core.display.Math object>"
      ]
     },
     "metadata": {},
     "output_type": "display_data"
    },
    {
     "data": {
      "text/latex": [
       "$\\displaystyle {{prod}}_{power, l0, q{1}, operate, lii.discharge}=0.0$"
      ],
      "text/plain": [
       "<IPython.core.display.Math object>"
      ]
     },
     "metadata": {},
     "output_type": "display_data"
    },
    {
     "data": {
      "text/latex": [
       "$\\displaystyle {{prod}}_{power, l0, q{2}, operate, lii.discharge}=24.444444444444443$"
      ],
      "text/plain": [
       "<IPython.core.display.Math object>"
      ]
     },
     "metadata": {},
     "output_type": "display_data"
    },
    {
     "data": {
      "text/latex": [
       "$\\displaystyle {{prod}}_{power, l0, q{3}, operate, lii.discharge}=0.0$"
      ],
      "text/plain": [
       "<IPython.core.display.Math object>"
      ]
     },
     "metadata": {},
     "output_type": "display_data"
    },
    {
     "data": {
      "text/latex": [
       "$\\displaystyle {{{expd}}}_{wind, l0, y{0}, operate, wf}=311.94444444444446$"
      ],
      "text/plain": [
       "<IPython.core.display.Math object>"
      ]
     },
     "metadata": {},
     "output_type": "display_data"
    },
    {
     "data": {
      "text/latex": [
       "$\\displaystyle {{{expd}}}_{solar, l0, q{0}, operate, pv}=41.882716049382566$"
      ],
      "text/plain": [
       "<IPython.core.display.Math object>"
      ]
     },
     "metadata": {},
     "output_type": "display_data"
    },
    {
     "data": {
      "text/latex": [
       "$\\displaystyle {{{expd}}}_{solar, l0, q{1}, operate, pv}=88.88888888888889$"
      ],
      "text/plain": [
       "<IPython.core.display.Math object>"
      ]
     },
     "metadata": {},
     "output_type": "display_data"
    },
    {
     "data": {
      "text/latex": [
       "$\\displaystyle {{{expd}}}_{solar, l0, q{2}, operate, pv}=100.0$"
      ],
      "text/plain": [
       "<IPython.core.display.Math object>"
      ]
     },
     "metadata": {},
     "output_type": "display_data"
    },
    {
     "data": {
      "text/latex": [
       "$\\displaystyle {{{expd}}}_{solar, l0, q{3}, operate, pv}=0.0$"
      ],
      "text/plain": [
       "<IPython.core.display.Math object>"
      ]
     },
     "metadata": {},
     "output_type": "display_data"
    },
    {
     "data": {
      "text/latex": [
       "$\\displaystyle {{{expd}}}_{power, l0, q{0}, operate, lii.charge}=6.882716049382594$"
      ],
      "text/plain": [
       "<IPython.core.display.Math object>"
      ]
     },
     "metadata": {},
     "output_type": "display_data"
    },
    {
     "data": {
      "text/latex": [
       "$\\displaystyle {{{expd}}}_{power, l0, q{1}, operate, lii.charge}=20.27777777777778$"
      ],
      "text/plain": [
       "<IPython.core.display.Math object>"
      ]
     },
     "metadata": {},
     "output_type": "display_data"
    },
    {
     "data": {
      "text/latex": [
       "$\\displaystyle {{{expd}}}_{power, l0, q{2}, operate, lii.charge}=0.0$"
      ],
      "text/plain": [
       "<IPython.core.display.Math object>"
      ]
     },
     "metadata": {},
     "output_type": "display_data"
    },
    {
     "data": {
      "text/latex": [
       "$\\displaystyle {{{expd}}}_{power, l0, q{3}, operate, lii.charge}=0.0$"
      ],
      "text/plain": [
       "<IPython.core.display.Math object>"
      ]
     },
     "metadata": {},
     "output_type": "display_data"
    },
    {
     "data": {
      "text/latex": [
       "$\\displaystyle {{{expd}}}_{lii.stored, l0, q{0}, operate, lii.discharge}=0.0$"
      ],
      "text/plain": [
       "<IPython.core.display.Math object>"
      ]
     },
     "metadata": {},
     "output_type": "display_data"
    },
    {
     "data": {
      "text/latex": [
       "$\\displaystyle {{{expd}}}_{lii.stored, l0, q{1}, operate, lii.discharge}=0.0$"
      ],
      "text/plain": [
       "<IPython.core.display.Math object>"
      ]
     },
     "metadata": {},
     "output_type": "display_data"
    },
    {
     "data": {
      "text/latex": [
       "$\\displaystyle {{{expd}}}_{lii.stored, l0, q{2}, operate, lii.discharge}=27.160493827160423$"
      ],
      "text/plain": [
       "<IPython.core.display.Math object>"
      ]
     },
     "metadata": {},
     "output_type": "display_data"
    },
    {
     "data": {
      "text/latex": [
       "$\\displaystyle {{{expd}}}_{lii.stored, l0, q{3}, operate, lii.discharge}=0.0$"
      ],
      "text/plain": [
       "<IPython.core.display.Math object>"
      ]
     },
     "metadata": {},
     "output_type": "display_data"
    }
   ],
   "source": [
    "m.output()"
   ]
  },
  {
   "cell_type": "code",
   "execution_count": null,
   "id": "8107c180",
   "metadata": {},
   "outputs": [],
   "source": []
  }
 ],
 "metadata": {
  "kernelspec": {
   "display_name": ".venv",
   "language": "python",
   "name": "python3"
  },
  "language_info": {
   "codemirror_mode": {
    "name": "ipython",
    "version": 3
   },
   "file_extension": ".py",
   "mimetype": "text/x-python",
   "name": "python",
   "nbconvert_exporter": "python",
   "pygments_lexer": "ipython3",
   "version": "3.13.9"
  }
 },
 "nbformat": 4,
 "nbformat_minor": 5
}
