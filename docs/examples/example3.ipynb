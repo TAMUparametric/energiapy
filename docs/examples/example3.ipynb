{
 "cells": [
  {
   "cell_type": "markdown",
   "id": "c9f4fbeb",
   "metadata": {},
   "source": [
    "# Multiscale MILP with Materials and Emission\n",
    "\n",
    "This is a continuation of 'One Location, Multiple Temporal Scales, Multiple Operations, Mixed Integer Linear Programming Example' [Example 2]. \n",
    "\n",
    "We will be adding the following considerations: \n",
    "\n",
    "1. material for the establishment of operations \n",
    "2. global warming potential induced as a sum of our decisions and choices "
   ]
  },
  {
   "cell_type": "markdown",
   "id": "5be13056",
   "metadata": {},
   "source": [
    "## See Example 2"
   ]
  },
  {
   "cell_type": "code",
   "execution_count": 1,
   "id": "8214bb48",
   "metadata": {},
   "outputs": [],
   "source": [
    "from energia import *\n",
    "\n",
    "m = Model('example3')\n",
    "m.q = Periods()\n",
    "m.y = 4 * m.q\n"
   ]
  },
  {
   "cell_type": "code",
   "execution_count": 2,
   "id": "1ceac5e6",
   "metadata": {},
   "outputs": [
    {
     "name": "stdout",
     "output_type": "stream",
     "text": [
      "--- General Resource Balance for solar in (l, q): initializing constraint, adding consume(solar, l, q)\n",
      "    Completed in 0.00015020370483398438 seconds\n",
      "--- Binding consume in domain (solar, l, q)\n",
      "    Completed in 7.796287536621094e-05 seconds\n",
      "--- General Resource Balance for wind in (l, y): initializing constraint, adding consume(wind, l, y)\n",
      "    Completed in 6.389617919921875e-05 seconds\n",
      "--- Binding consume in domain (wind, l, y)\n",
      "    Completed in 4.291534423828125e-05 seconds\n",
      "--- General Resource Balance for power in (l, q): initializing constraint, adding release(power, l, q)\n",
      "    Completed in 8.416175842285156e-05 seconds\n",
      "--- Binding release in domain (power, l, q)\n",
      "    Completed in 0.00012159347534179688 seconds\n",
      "--- Binding capacity in domain (wf, l, y)\n",
      "    Completed in 9.751319885253906e-05 seconds\n",
      "--- Binding capacity in domain (wf, l, y)\n",
      "    Completed in 9.703636169433594e-05 seconds\n",
      "--- Binding operate in domain (wf, l, q)\n",
      "    Completed in 0.00014591217041015625 seconds\n",
      "--- Mapping operate across time from (wf, l, q) to (wf, l, y)\n",
      "--- Creating map to (wf, l, y). Mapping operate: from (wf, l, q) to (wf, l, y)\n",
      "    Completed in 0.0019614696502685547 seconds\n",
      "--- Binding capacity in domain (pv, l, y)\n",
      "    Completed in 0.00010967254638671875 seconds\n",
      "--- Binding capacity in domain (pv, l, y)\n",
      "    Completed in 9.036064147949219e-05 seconds\n",
      "--- Binding operate in domain (pv, l, q)\n",
      "    Completed in 0.00013685226440429688 seconds\n",
      "--- Mapping operate across time from (pv, l, q) to (pv, l, y)\n",
      "--- Creating map to (pv, l, y). Mapping operate: from (pv, l, q) to (pv, l, y)\n",
      "    Completed in 5.626678466796875e-05 seconds\n",
      "--- Binding invcapacity in domain (power.lii, l, y)\n",
      "    Completed in 0.00010132789611816406 seconds\n",
      "--- Binding invcapacity in domain (power.lii, l, y)\n",
      "    Completed in 8.702278137207031e-05 seconds\n",
      "--- General Resource Balance for power.lii in (l, y): initializing constraint, adding inventory(power.lii, l, y)\n",
      "--- Binding capacity in domain (lii.charge, l, y)\n",
      "    Completed in 4.792213439941406e-05 seconds\n",
      "--- Binding operate in domain (lii.charge, l, y)\n",
      "    Completed in 6.604194641113281e-05 seconds\n",
      "--- Binding capacity in domain (lii.discharge, l, y)\n",
      "    Completed in 3.981590270996094e-05 seconds\n",
      "--- Binding operate in domain (lii.discharge, l, y)\n",
      "    Completed in 6.771087646484375e-05 seconds\n"
     ]
    }
   ],
   "source": [
    "m.usd = Currency()\n",
    "m.declare(Resource, ['power', 'wind', 'solar'])\n",
    "m.solar.consume(m.q) <= 100\n",
    "m.wind.consume <= 400\n",
    "m.power.release.prep(180) >= [0.6, 0.7, 0.8, 0.3]\n",
    "\n",
    "m.wf = Process()\n",
    "m.wf(m.power) == -1 * m.wind\n",
    "m.wf.capacity.x <= 100\n",
    "m.wf.capacity.x >= 10\n",
    "m.wf.operate.prep(norm=True) <= [0.9, 0.8, 0.5, 0.7]\n",
    "m.wf.capacity[m.usd.spend] == 990637 + 3354\n",
    "m.wf.operate[m.usd.spend] == 49\n",
    "\n",
    "m.pv = Process()\n",
    "m.pv(m.power) == -1 * m.solar\n",
    "m.pv.capacity.x <= 100\n",
    "m.pv.capacity.x >= 10\n",
    "m.pv.operate.prep(norm=True) <= [0.6, 0.8, 0.9, 0.7]\n",
    "m.pv.capacity[m.usd.spend] == 567000 + 872046\n",
    "m.pv.operate[m.usd.spend] == 90000\n",
    "\n",
    "m.lii = Storage()\n",
    "m.lii(m.power) == 0.9\n",
    "m.lii.capacity.x <= 100\n",
    "m.lii.capacity.x >= 10\n",
    "m.lii.capacity[m.usd.spend] == 1302182 + 41432\n",
    "m.lii.inventory[m.usd.spend] == 2000\n",
    "m.lii.charge.capacity <= 100\n",
    "m.lii.charge.operate <= 1\n",
    "m.lii.discharge.capacity <= 100\n",
    "m.lii.discharge.operate <= 1"
   ]
  },
  {
   "cell_type": "markdown",
   "id": "088d79b8",
   "metadata": {},
   "source": [
    "## Indicator Stream \n",
    "\n",
    "Indicators scale the impact of some decision or flow and project it only a common dimension allowing the calculation of overall impact as a single metric value\n",
    "\n",
    "In this case, we consider global warming potential (GWP)."
   ]
  },
  {
   "cell_type": "code",
   "execution_count": 3,
   "id": "809e08ab",
   "metadata": {},
   "outputs": [],
   "source": [
    "m.gwp = Environ()"
   ]
  },
  {
   "cell_type": "markdown",
   "id": "07adfca6",
   "metadata": {},
   "source": [
    "Now say that we want to consider the impact of setting up operations (specific to the act of construction)\n",
    "\n",
    "These can be provided as calculations "
   ]
  },
  {
   "cell_type": "code",
   "execution_count": 4,
   "id": "2db70e09",
   "metadata": {},
   "outputs": [
    {
     "data": {
      "text/latex": [
       "$\\displaystyle [26]\\text{   }{{emit}}_{gwp, l, y, {capacity}, wf} - 1000 \\cdot {{{{cap}^{P}}}}_{wf, l, y} = 0$"
      ],
      "text/plain": [
       "<IPython.core.display.Math object>"
      ]
     },
     "metadata": {},
     "output_type": "display_data"
    },
    {
     "data": {
      "text/latex": [
       "$\\displaystyle [27]\\text{   }{{{emit}}}_{gwp, l, y, {capacity}, pv} - 2000 \\cdot {{{{cap}^{P}}}}_{pv, l, y} = 0$"
      ],
      "text/plain": [
       "<IPython.core.display.Math object>"
      ]
     },
     "metadata": {},
     "output_type": "display_data"
    },
    {
     "data": {
      "text/latex": [
       "$\\displaystyle [28]\\text{   }{{{emit}}}_{gwp, l, y, {invcapacity}, power.lii} - 3000 \\cdot {{{cap}^{S}}}_{power.lii, l, y} = 0$"
      ],
      "text/plain": [
       "<IPython.core.display.Math object>"
      ]
     },
     "metadata": {},
     "output_type": "display_data"
    }
   ],
   "source": [
    "m.wf.capacity[m.gwp.emit] == 1000\n",
    "m.pv.capacity[m.gwp.emit] == 2000\n",
    "m.lii.capacity[m.gwp.emit] == 3000\n",
    "m.emit.show()"
   ]
  },
  {
   "cell_type": "markdown",
   "id": "8eb9ce25",
   "metadata": {},
   "source": [
    "Note that impact streams are mapped across scales but not balanced, unless a negative (relatively) impact is also assessed! In the case of emission, this would be abatement."
   ]
  },
  {
   "cell_type": "markdown",
   "id": "bd05088d",
   "metadata": {},
   "source": [
    "## Material Stream\n",
    "\n",
    "Note that all the objects found in energia.components.commodity.misc are still resources (Land, Material, etc.)\n",
    "\n",
    "This will allow for the modeling of an expansive type of processes.\n",
    "\n",
    "Examples:\n",
    "\n",
    "1. land clearance to transform agricultural land into industrial, or land remediation \n",
    "2. resource intense material recycling \n",
    "3. some resource flowing being treated as emission flows \n",
    "\n",
    "The possibilities are vast... The advanced modeler may prefer to use Resource() for everything [see Resource Task Network (RTN) Framework]\n",
    "\n",
    "In the following example, we consider a limit to cement consumption, as also an expense and gwp impact associated with it"
   ]
  },
  {
   "cell_type": "code",
   "execution_count": 5,
   "id": "9ce76f6f",
   "metadata": {},
   "outputs": [
    {
     "name": "stdout",
     "output_type": "stream",
     "text": [
      "--- General Resource Balance for cement in (l, y): initializing constraint, adding consume(cement, l, y)\n",
      "    Completed in 0.00010085105895996094 seconds\n",
      "--- Binding consume in domain (cement, l, y)\n",
      "    Completed in 4.553794860839844e-05 seconds\n"
     ]
    }
   ],
   "source": [
    "m.cement = Material()\n",
    "m.cement.consume <= 1000000\n",
    "m.cement.consume[m.usd.spend] == 17\n",
    "m.cement.consume[m.gwp.emit] == 0.9"
   ]
  },
  {
   "cell_type": "markdown",
   "id": "f21caa2c",
   "metadata": {},
   "source": [
    "Next, we provide details of the use of cement across all operations "
   ]
  },
  {
   "cell_type": "code",
   "execution_count": 6,
   "id": "35dc4891",
   "metadata": {},
   "outputs": [
    {
     "name": "stdout",
     "output_type": "stream",
     "text": [
      "--- General Resource Balance for cement in (l, y): adding use(cement, l, y, capacity, wf)\n",
      "    Completed in 9.059906005859375e-05 seconds\n",
      "--- General Resource Balance for cement in (l, y): adding use(cement, l, y, capacity, pv)\n",
      "    Completed in 6.175041198730469e-05 seconds\n",
      "--- General Resource Balance for cement in (l, y): adding use(cement, l, y, invcapacity, power.lii)\n",
      "    Completed in 6.222724914550781e-05 seconds\n"
     ]
    }
   ],
   "source": [
    "m.wf.capacity[m.cement.use] == 400\n",
    "m.pv.capacity[m.cement.use] == 560\n",
    "m.lii.capacity[m.cement.use] == 300"
   ]
  },
  {
   "cell_type": "markdown",
   "id": "efc3693a",
   "metadata": {},
   "source": [
    "Material use is summed up across all operations, and adheres to an upper bound in terms of consumption. "
   ]
  },
  {
   "cell_type": "code",
   "execution_count": 7,
   "id": "6efcaa6f",
   "metadata": {},
   "outputs": [
    {
     "data": {
      "text/latex": [
       "$\\displaystyle [29]\\text{   }{{{{cons}}}}_{cement, l, y} - {{use}}_{cement, l, y, {capacity}, wf} - {{{use}}}_{cement, l, y, {capacity}, pv} - {{{use}}}_{cement, l, y, {invcapacity}, power.lii} = 0$"
      ],
      "text/plain": [
       "<IPython.core.display.Math object>"
      ]
     },
     "metadata": {},
     "output_type": "display_data"
    },
    {
     "data": {
      "text/latex": [
       "$\\displaystyle [30]\\text{   }{{{{cons}}}}_{cement, l, y} - 1000000 \\leq 0$"
      ],
      "text/plain": [
       "<IPython.core.display.Math object>"
      ]
     },
     "metadata": {},
     "output_type": "display_data"
    },
    {
     "data": {
      "text/latex": [
       "$\\displaystyle [31]\\text{   }{{{spend}}}_{usd, l, y, {consume}, cement} - 17 \\cdot {{{{cons}}}}_{cement, l, y} = 0$"
      ],
      "text/plain": [
       "<IPython.core.display.Math object>"
      ]
     },
     "metadata": {},
     "output_type": "display_data"
    },
    {
     "data": {
      "text/latex": [
       "$\\displaystyle [32]\\text{   }{{{emit}}}_{gwp, l, y, {consume}, cement} - 0.9 \\cdot {{{{cons}}}}_{cement, l, y} = 0$"
      ],
      "text/plain": [
       "<IPython.core.display.Math object>"
      ]
     },
     "metadata": {},
     "output_type": "display_data"
    },
    {
     "data": {
      "text/latex": [
       "$\\displaystyle [33]\\text{   }{{use}}_{cement, l, y, {capacity}, wf} - 400 \\cdot {{{{cap}^{P}}}}_{wf, l, y} = 0$"
      ],
      "text/plain": [
       "<IPython.core.display.Math object>"
      ]
     },
     "metadata": {},
     "output_type": "display_data"
    },
    {
     "data": {
      "text/latex": [
       "$\\displaystyle [34]\\text{   }{{{use}}}_{cement, l, y, {capacity}, pv} - 560 \\cdot {{{{cap}^{P}}}}_{pv, l, y} = 0$"
      ],
      "text/plain": [
       "<IPython.core.display.Math object>"
      ]
     },
     "metadata": {},
     "output_type": "display_data"
    },
    {
     "data": {
      "text/latex": [
       "$\\displaystyle [35]\\text{   }{{{use}}}_{cement, l, y, {invcapacity}, power.lii} - 300 \\cdot {{{cap}^{S}}}_{power.lii, l, y} = 0$"
      ],
      "text/plain": [
       "<IPython.core.display.Math object>"
      ]
     },
     "metadata": {},
     "output_type": "display_data"
    }
   ],
   "source": [
    "m.cement.show()"
   ]
  },
  {
   "cell_type": "markdown",
   "id": "f73d5788",
   "metadata": {},
   "source": [
    "GWP impact is now the sum of impact from material use as well as constuction "
   ]
  },
  {
   "cell_type": "code",
   "execution_count": 8,
   "id": "d7cb14c1",
   "metadata": {},
   "outputs": [
    {
     "data": {
      "text/latex": [
       "$\\displaystyle [26]\\text{   }{{emit}}_{gwp, l, y, {capacity}, wf} - 1000 \\cdot {{{{cap}^{P}}}}_{wf, l, y} = 0$"
      ],
      "text/plain": [
       "<IPython.core.display.Math object>"
      ]
     },
     "metadata": {},
     "output_type": "display_data"
    },
    {
     "data": {
      "text/latex": [
       "$\\displaystyle [27]\\text{   }{{{emit}}}_{gwp, l, y, {capacity}, pv} - 2000 \\cdot {{{{cap}^{P}}}}_{pv, l, y} = 0$"
      ],
      "text/plain": [
       "<IPython.core.display.Math object>"
      ]
     },
     "metadata": {},
     "output_type": "display_data"
    },
    {
     "data": {
      "text/latex": [
       "$\\displaystyle [28]\\text{   }{{{emit}}}_{gwp, l, y, {invcapacity}, power.lii} - 3000 \\cdot {{{cap}^{S}}}_{power.lii, l, y} = 0$"
      ],
      "text/plain": [
       "<IPython.core.display.Math object>"
      ]
     },
     "metadata": {},
     "output_type": "display_data"
    },
    {
     "data": {
      "text/latex": [
       "$\\displaystyle [32]\\text{   }{{{emit}}}_{gwp, l, y, {consume}, cement} - 0.9 \\cdot {{{{cons}}}}_{cement, l, y} = 0$"
      ],
      "text/plain": [
       "<IPython.core.display.Math object>"
      ]
     },
     "metadata": {},
     "output_type": "display_data"
    }
   ],
   "source": [
    "m.emit.show()"
   ]
  },
  {
   "cell_type": "markdown",
   "id": "fee37f29",
   "metadata": {},
   "source": [
    "## Locate Operations"
   ]
  },
  {
   "cell_type": "code",
   "execution_count": 9,
   "id": "cb7e5496",
   "metadata": {},
   "outputs": [
    {
     "name": "stdout",
     "output_type": "stream",
     "text": [
      "--- General Resource Balance for power in (l, q): adding produce(power, l, q, operate, wf)\n",
      "    Completed in 0.00012087821960449219 seconds\n",
      "--- General Resource Balance for wind in (l, y): adding expend(wind, l, y, operate, wf)\n",
      "    Completed in 5.5789947509765625e-05 seconds\n",
      "--- General Resource Balance for power in (l, q): adding produce(power, l, q, operate, pv)\n",
      "    Completed in 8.630752563476562e-05 seconds\n",
      "--- General Resource Balance for solar in (l, q): adding expend(solar, l, q, operate, pv)\n",
      "    Completed in 8.225440979003906e-05 seconds\n",
      "--- Assuming  power.lii inventory capacity is unbounded in (l, y)\n",
      "--- Assuming inventory of power.lii is bound by inventory capacity in (l, y)\n",
      "--- Assuming inventory of power.lii is bound by inventory capacity in (l, q)\n",
      "--- Mapping inventory across time from (power.lii, l, q) to (power.lii, l, y)\n",
      "--- Creating map to (power.lii, l, y). Mapping inventory: from (power.lii, l, q) to (power.lii, l, y)\n",
      "    Completed in 5.0067901611328125e-05 seconds\n",
      "--- General Resource Balance for power.lii in (l, q): initializing constraint, adding inventory(power.lii, l, q)\n",
      "    Completed in 0.00016307830810546875 seconds\n",
      "--- Binding inventory in domain (power.lii, l, q)\n",
      "    Completed in 8.916854858398438e-05 seconds\n",
      "--- General Resource Balance for power.lii in (l, q): adding produce(power.lii, l, q, operate, lii.charge)\n",
      "    Completed in 8.654594421386719e-05 seconds\n",
      "--- Mapping operate across time from (lii.charge, l, q) to (lii.charge, l, y)\n",
      "--- Creating map to (lii.charge, l, y). Mapping operate: from (lii.charge, l, q) to (lii.charge, l, y)\n",
      "    Completed in 5.1975250244140625e-05 seconds\n",
      "--- General Resource Balance for power in (l, q): adding expend(power, l, q, operate, lii.charge)\n",
      "    Completed in 9.560585021972656e-05 seconds\n",
      "--- General Resource Balance for power in (l, q): adding produce(power, l, q, operate, lii.discharge)\n",
      "    Completed in 9.322166442871094e-05 seconds\n",
      "--- Mapping operate across time from (lii.discharge, l, q) to (lii.discharge, l, y)\n",
      "--- Creating map to (lii.discharge, l, y). Mapping operate: from (lii.discharge, l, q) to (lii.discharge, l, y)\n",
      "    Completed in 5.817413330078125e-05 seconds\n",
      "--- General Resource Balance for power.lii in (l, q): adding expend(power.lii, l, q, operate, lii.discharge)\n",
      "    Completed in 8.630752563476562e-05 seconds\n"
     ]
    }
   ],
   "source": [
    "m.network.locate(m.wf, m.pv, m.lii)"
   ]
  },
  {
   "cell_type": "markdown",
   "id": "df4accdc",
   "metadata": {},
   "source": [
    "## Optimization \n",
    "\n",
    "Let us minimize GWP this time. Note that m.usd.spend.opt() can still be used!"
   ]
  },
  {
   "cell_type": "code",
   "execution_count": 10,
   "id": "b762aea8",
   "metadata": {},
   "outputs": [
    {
     "name": "stdout",
     "output_type": "stream",
     "text": [
      "--- Creating map to (gwp, l, y). Mapping emit: from (gwp, l, y, capacity, wf) to (gwp, l, y)\n",
      "    Completed in 9.226799011230469e-05 seconds\n",
      "--- Mapping emit: from (gwp, l, y, capacity, pv) to (gwp, l, y)\n",
      "    Completed in 5.125999450683594e-05 seconds\n",
      "--- Mapping emit: from (gwp, l, y, invcapacity, power.lii) to (gwp, l, y)\n",
      "    Completed in 5.269050598144531e-05 seconds\n",
      "--- Mapping emit: from (gwp, l, y, consume, cement) to (gwp, l, y)\n",
      "    Completed in 4.4345855712890625e-05 seconds\n",
      "--- Generating example3.mps\n",
      "--- Creating gurobi model for example3\n",
      "Set parameter Username\n",
      "Academic license - for non-commercial use only - expires 2026-08-01\n",
      "Read MPS format model from file example3.mps\n",
      "Reading time = 0.00 seconds\n",
      "EXAMPLE3: 95 rows, 87 columns, 217 nonzeros\n",
      "--- Optimizing example3 using gurobi\n",
      "Gurobi Optimizer version 12.0.3 build v12.0.3rc0 (win64 - Windows 11.0 (26100.2))\n",
      "\n",
      "CPU model: 13th Gen Intel(R) Core(TM) i7-13700, instruction set [SSE2|AVX|AVX2]\n",
      "Thread count: 16 physical cores, 24 logical processors, using up to 24 threads\n",
      "\n",
      "Optimize a model with 95 rows, 87 columns and 217 nonzeros\n",
      "Model fingerprint: 0x39a95d48\n",
      "Variable types: 84 continuous, 3 integer (3 binary)\n",
      "Coefficient statistics:\n",
      "  Matrix range     [6e-01, 1e+06]\n",
      "  Objective range  [1e+00, 1e+00]\n",
      "  Bounds range     [1e+00, 1e+00]\n",
      "  RHS range        [7e+01, 1e+06]\n",
      "Presolve removed 83 rows and 76 columns\n",
      "Presolve time: 0.00s\n",
      "Presolved: 12 rows, 11 columns, 38 nonzeros\n",
      "Variable types: 11 continuous, 0 integer (0 binary)\n",
      "\n",
      "Root relaxation: objective 4.752148e+05, 4 iterations, 0.00 seconds (0.00 work units)\n",
      "\n",
      "    Nodes    |    Current Node    |     Objective Bounds      |     Work\n",
      " Expl Unexpl |  Obj  Depth IntInf | Incumbent    BestBd   Gap | It/Node Time\n",
      "\n",
      "*    0     0               0    475214.81481 475214.815  0.00%     -    0s\n",
      "\n",
      "Explored 1 nodes (4 simplex iterations) in 0.00 seconds (0.00 work units)\n",
      "Thread count was 24 (of 24 available processors)\n",
      "\n",
      "Solution count 1: 475215 \n",
      "\n",
      "Optimal solution found (tolerance 1.00e-04)\n",
      "Best objective 4.752148148148e+05, best bound 4.752148148148e+05, gap 0.0000%\n",
      "--- Solution found. Use .sol() to display it\n",
      "--- Creating Solution object, check.solution\n"
     ]
    }
   ],
   "source": [
    "m.gwp.emit.opt()"
   ]
  },
  {
   "cell_type": "code",
   "execution_count": 11,
   "id": "6a21a476",
   "metadata": {},
   "outputs": [
    {
     "data": {
      "text/latex": [
       "$\\displaystyle [4]\\text{   }-{{{rlse}}}_{power, l, q} + {{{prod}}}_{power, l, q, {operate}, wf} + {{{{prod}}}}_{power, l, q, {operate}, pv} - {{{{expd}}}}_{power, l, q, {operate}, lii.charge} + {{{{prod}}}}_{power, l, q, {operate}, lii.discharge} = 0$"
      ],
      "text/plain": [
       "<IPython.core.display.Math object>"
      ]
     },
     "metadata": {},
     "output_type": "display_data"
    },
    {
     "data": {
      "text/latex": [
       "$\\displaystyle [5]\\text{   }-{{{rlse}}}_{power, l, q} + {φ}_{} \\leq 0$"
      ],
      "text/plain": [
       "<IPython.core.display.Math object>"
      ]
     },
     "metadata": {},
     "output_type": "display_data"
    },
    {
     "data": {
      "text/latex": [
       "$\\displaystyle [36]\\text{   }{{{prod}}}_{power, l, q, {operate}, wf} - {{{{opr}}}}_{wf, l, q} = 0$"
      ],
      "text/plain": [
       "<IPython.core.display.Math object>"
      ]
     },
     "metadata": {},
     "output_type": "display_data"
    },
    {
     "data": {
      "text/latex": [
       "$\\displaystyle [38]\\text{   }{{{{prod}}}}_{power, l, q, {operate}, pv} - {{{{opr}}}}_{pv, l, q} = 0$"
      ],
      "text/plain": [
       "<IPython.core.display.Math object>"
      ]
     },
     "metadata": {},
     "output_type": "display_data"
    },
    {
     "data": {
      "text/latex": [
       "$\\displaystyle [45]\\text{   }{{{{expd}}}}_{power, l, q, {operate}, lii.charge} - {{{{opr}}}}_{lii.charge, l, q} = 0$"
      ],
      "text/plain": [
       "<IPython.core.display.Math object>"
      ]
     },
     "metadata": {},
     "output_type": "display_data"
    },
    {
     "data": {
      "text/latex": [
       "$\\displaystyle [47]\\text{   }{{{{prod}}}}_{power, l, q, {operate}, lii.discharge} - {{{{opr}}}}_{lii.discharge, l, q} = 0$"
      ],
      "text/plain": [
       "<IPython.core.display.Math object>"
      ]
     },
     "metadata": {},
     "output_type": "display_data"
    }
   ],
   "source": [
    "m.power.show()"
   ]
  },
  {
   "cell_type": "code",
   "execution_count": 12,
   "id": "5ba2b0af",
   "metadata": {},
   "outputs": [
    {
     "data": {
      "text/markdown": [
       "# Solution for example3"
      ],
      "text/plain": [
       "<IPython.core.display.Markdown object>"
      ]
     },
     "metadata": {},
     "output_type": "display_data"
    },
    {
     "data": {
      "text/markdown": [
       "<br><br>"
      ],
      "text/plain": [
       "<IPython.core.display.Markdown object>"
      ]
     },
     "metadata": {},
     "output_type": "display_data"
    },
    {
     "data": {
      "text/markdown": [
       "## Objective"
      ],
      "text/plain": [
       "<IPython.core.display.Markdown object>"
      ]
     },
     "metadata": {},
     "output_type": "display_data"
    },
    {
     "data": {
      "text/latex": [
       "$\\displaystyle min \\hspace{0.2cm} {{emit}}_{gwp, l, y{0}}=475214.8148148148$"
      ],
      "text/plain": [
       "<IPython.core.display.Math object>"
      ]
     },
     "metadata": {},
     "output_type": "display_data"
    },
    {
     "data": {
      "text/markdown": [
       "<br><br>"
      ],
      "text/plain": [
       "<IPython.core.display.Markdown object>"
      ]
     },
     "metadata": {},
     "output_type": "display_data"
    },
    {
     "data": {
      "text/markdown": [
       "## Variables"
      ],
      "text/plain": [
       "<IPython.core.display.Markdown object>"
      ]
     },
     "metadata": {},
     "output_type": "display_data"
    },
    {
     "data": {
      "text/latex": [
       "$\\displaystyle {{{cons}}}_{solar, l, q{0}}=66.6666666666667$"
      ],
      "text/plain": [
       "<IPython.core.display.Math object>"
      ]
     },
     "metadata": {},
     "output_type": "display_data"
    },
    {
     "data": {
      "text/latex": [
       "$\\displaystyle {{{cons}}}_{solar, l, q{1}}=88.88888888888894$"
      ],
      "text/plain": [
       "<IPython.core.display.Math object>"
      ]
     },
     "metadata": {},
     "output_type": "display_data"
    },
    {
     "data": {
      "text/latex": [
       "$\\displaystyle {{{cons}}}_{solar, l, q{2}}=100.00000000000006$"
      ],
      "text/plain": [
       "<IPython.core.display.Math object>"
      ]
     },
     "metadata": {},
     "output_type": "display_data"
    },
    {
     "data": {
      "text/latex": [
       "$\\displaystyle {{{cons}}}_{solar, l, q{3}}=77.77777777777781$"
      ],
      "text/plain": [
       "<IPython.core.display.Math object>"
      ]
     },
     "metadata": {},
     "output_type": "display_data"
    },
    {
     "data": {
      "text/latex": [
       "$\\displaystyle {{{cons}}}_{wind, l, y{0}}=322.22222222222223$"
      ],
      "text/plain": [
       "<IPython.core.display.Math object>"
      ]
     },
     "metadata": {},
     "output_type": "display_data"
    },
    {
     "data": {
      "text/latex": [
       "$\\displaystyle {{{cons}}}_{cement, l, y{0}}=104148.14814814816$"
      ],
      "text/plain": [
       "<IPython.core.display.Math object>"
      ]
     },
     "metadata": {},
     "output_type": "display_data"
    },
    {
     "data": {
      "text/latex": [
       "$\\displaystyle {{{rlse}}}_{power, l, q{0}}=139.50617283950626$"
      ],
      "text/plain": [
       "<IPython.core.display.Math object>"
      ]
     },
     "metadata": {},
     "output_type": "display_data"
    },
    {
     "data": {
      "text/latex": [
       "$\\displaystyle {{{rlse}}}_{power, l, q{1}}=170.49382716049388$"
      ],
      "text/plain": [
       "<IPython.core.display.Math object>"
      ]
     },
     "metadata": {},
     "output_type": "display_data"
    },
    {
     "data": {
      "text/latex": [
       "$\\displaystyle {{{rlse}}}_{power, l, q{2}}=180.0$"
      ],
      "text/plain": [
       "<IPython.core.display.Math object>"
      ]
     },
     "metadata": {},
     "output_type": "display_data"
    },
    {
     "data": {
      "text/latex": [
       "$\\displaystyle {{{rlse}}}_{power, l, q{3}}=155.5555555555556$"
      ],
      "text/plain": [
       "<IPython.core.display.Math object>"
      ]
     },
     "metadata": {},
     "output_type": "display_data"
    },
    {
     "data": {
      "text/latex": [
       "$\\displaystyle {{{cap}^{P}}}_{wf, l, y{0}}=100.0$"
      ],
      "text/plain": [
       "<IPython.core.display.Math object>"
      ]
     },
     "metadata": {},
     "output_type": "display_data"
    },
    {
     "data": {
      "text/latex": [
       "$\\displaystyle {{{cap}^{P}}}_{pv, l, y{0}}=100.00000000000006$"
      ],
      "text/plain": [
       "<IPython.core.display.Math object>"
      ]
     },
     "metadata": {},
     "output_type": "display_data"
    },
    {
     "data": {
      "text/latex": [
       "$\\displaystyle {{{cap}^{P}}}_{lii.charge, l, y{0}}=100.0$"
      ],
      "text/plain": [
       "<IPython.core.display.Math object>"
      ]
     },
     "metadata": {},
     "output_type": "display_data"
    },
    {
     "data": {
      "text/latex": [
       "$\\displaystyle {{{cap}^{P}}}_{lii.discharge, l, y{0}}=100.0$"
      ],
      "text/plain": [
       "<IPython.core.display.Math object>"
      ]
     },
     "metadata": {},
     "output_type": "display_data"
    },
    {
     "data": {
      "text/latex": [
       "$\\displaystyle {{{\\breve{{cap}^{P}}}}}_{wf, l, y{0}}=1.0$"
      ],
      "text/plain": [
       "<IPython.core.display.Math object>"
      ]
     },
     "metadata": {},
     "output_type": "display_data"
    },
    {
     "data": {
      "text/latex": [
       "$\\displaystyle {{{\\breve{{cap}^{P}}}}}_{pv, l, y{0}}=1.0$"
      ],
      "text/plain": [
       "<IPython.core.display.Math object>"
      ]
     },
     "metadata": {},
     "output_type": "display_data"
    },
    {
     "data": {
      "text/latex": [
       "$\\displaystyle {{{opr}}}_{wf, l, q{0}}=100.0$"
      ],
      "text/plain": [
       "<IPython.core.display.Math object>"
      ]
     },
     "metadata": {},
     "output_type": "display_data"
    },
    {
     "data": {
      "text/latex": [
       "$\\displaystyle {{{opr}}}_{wf, l, q{1}}=88.8888888888889$"
      ],
      "text/plain": [
       "<IPython.core.display.Math object>"
      ]
     },
     "metadata": {},
     "output_type": "display_data"
    },
    {
     "data": {
      "text/latex": [
       "$\\displaystyle {{{opr}}}_{wf, l, q{2}}=55.55555555555556$"
      ],
      "text/plain": [
       "<IPython.core.display.Math object>"
      ]
     },
     "metadata": {},
     "output_type": "display_data"
    },
    {
     "data": {
      "text/latex": [
       "$\\displaystyle {{{opr}}}_{wf, l, q{3}}=77.77777777777777$"
      ],
      "text/plain": [
       "<IPython.core.display.Math object>"
      ]
     },
     "metadata": {},
     "output_type": "display_data"
    },
    {
     "data": {
      "text/latex": [
       "$\\displaystyle {{{opr}}}_{wf, l, y{0}}=322.22222222222223$"
      ],
      "text/plain": [
       "<IPython.core.display.Math object>"
      ]
     },
     "metadata": {},
     "output_type": "display_data"
    },
    {
     "data": {
      "text/latex": [
       "$\\displaystyle {{{opr}}}_{pv, l, q{0}}=66.6666666666667$"
      ],
      "text/plain": [
       "<IPython.core.display.Math object>"
      ]
     },
     "metadata": {},
     "output_type": "display_data"
    },
    {
     "data": {
      "text/latex": [
       "$\\displaystyle {{{opr}}}_{pv, l, q{1}}=88.88888888888894$"
      ],
      "text/plain": [
       "<IPython.core.display.Math object>"
      ]
     },
     "metadata": {},
     "output_type": "display_data"
    },
    {
     "data": {
      "text/latex": [
       "$\\displaystyle {{{opr}}}_{pv, l, q{2}}=100.00000000000006$"
      ],
      "text/plain": [
       "<IPython.core.display.Math object>"
      ]
     },
     "metadata": {},
     "output_type": "display_data"
    },
    {
     "data": {
      "text/latex": [
       "$\\displaystyle {{{opr}}}_{pv, l, q{3}}=77.77777777777781$"
      ],
      "text/plain": [
       "<IPython.core.display.Math object>"
      ]
     },
     "metadata": {},
     "output_type": "display_data"
    },
    {
     "data": {
      "text/latex": [
       "$\\displaystyle {{{opr}}}_{pv, l, y{0}}=333.33333333333354$"
      ],
      "text/plain": [
       "<IPython.core.display.Math object>"
      ]
     },
     "metadata": {},
     "output_type": "display_data"
    },
    {
     "data": {
      "text/latex": [
       "$\\displaystyle {{{opr}}}_{lii.charge, l, y{0}}=100.0$"
      ],
      "text/plain": [
       "<IPython.core.display.Math object>"
      ]
     },
     "metadata": {},
     "output_type": "display_data"
    },
    {
     "data": {
      "text/latex": [
       "$\\displaystyle {{{opr}}}_{lii.discharge, l, y{0}}=89.99999999999999$"
      ],
      "text/plain": [
       "<IPython.core.display.Math object>"
      ]
     },
     "metadata": {},
     "output_type": "display_data"
    },
    {
     "data": {
      "text/latex": [
       "$\\displaystyle {{{opr}}}_{lii.charge, l, q{0}}=27.160493827160437$"
      ],
      "text/plain": [
       "<IPython.core.display.Math object>"
      ]
     },
     "metadata": {},
     "output_type": "display_data"
    },
    {
     "data": {
      "text/latex": [
       "$\\displaystyle {{{opr}}}_{lii.charge, l, q{1}}=72.83950617283956$"
      ],
      "text/plain": [
       "<IPython.core.display.Math object>"
      ]
     },
     "metadata": {},
     "output_type": "display_data"
    },
    {
     "data": {
      "text/latex": [
       "$\\displaystyle {{{opr}}}_{lii.charge, l, q{2}}=0.0$"
      ],
      "text/plain": [
       "<IPython.core.display.Math object>"
      ]
     },
     "metadata": {},
     "output_type": "display_data"
    },
    {
     "data": {
      "text/latex": [
       "$\\displaystyle {{{opr}}}_{lii.charge, l, q{3}}=0.0$"
      ],
      "text/plain": [
       "<IPython.core.display.Math object>"
      ]
     },
     "metadata": {},
     "output_type": "display_data"
    },
    {
     "data": {
      "text/latex": [
       "$\\displaystyle {{{opr}}}_{lii.discharge, l, q{0}}=0.0$"
      ],
      "text/plain": [
       "<IPython.core.display.Math object>"
      ]
     },
     "metadata": {},
     "output_type": "display_data"
    },
    {
     "data": {
      "text/latex": [
       "$\\displaystyle {{{opr}}}_{lii.discharge, l, q{1}}=65.5555555555556$"
      ],
      "text/plain": [
       "<IPython.core.display.Math object>"
      ]
     },
     "metadata": {},
     "output_type": "display_data"
    },
    {
     "data": {
      "text/latex": [
       "$\\displaystyle {{{opr}}}_{lii.discharge, l, q{2}}=24.44444444444439$"
      ],
      "text/plain": [
       "<IPython.core.display.Math object>"
      ]
     },
     "metadata": {},
     "output_type": "display_data"
    },
    {
     "data": {
      "text/latex": [
       "$\\displaystyle {{{opr}}}_{lii.discharge, l, q{3}}=0.0$"
      ],
      "text/plain": [
       "<IPython.core.display.Math object>"
      ]
     },
     "metadata": {},
     "output_type": "display_data"
    },
    {
     "data": {
      "text/latex": [
       "$\\displaystyle {{spend}}_{usd, l, y{0}, capacity, wf}=99399100.0$"
      ],
      "text/plain": [
       "<IPython.core.display.Math object>"
      ]
     },
     "metadata": {},
     "output_type": "display_data"
    },
    {
     "data": {
      "text/latex": [
       "$\\displaystyle {{spend}}_{usd, l, y{0}, operate, wf}=15788.888888888889$"
      ],
      "text/plain": [
       "<IPython.core.display.Math object>"
      ]
     },
     "metadata": {},
     "output_type": "display_data"
    },
    {
     "data": {
      "text/latex": [
       "$\\displaystyle {{spend}}_{usd, l, y{0}, capacity, pv}=143904600.0000001$"
      ],
      "text/plain": [
       "<IPython.core.display.Math object>"
      ]
     },
     "metadata": {},
     "output_type": "display_data"
    },
    {
     "data": {
      "text/latex": [
       "$\\displaystyle {{spend}}_{usd, l, y{0}, operate, pv}=30000000.00000002$"
      ],
      "text/plain": [
       "<IPython.core.display.Math object>"
      ]
     },
     "metadata": {},
     "output_type": "display_data"
    },
    {
     "data": {
      "text/latex": [
       "$\\displaystyle {{spend}}_{usd, l, y{0}, invcapacity, power.lii}=36493219.75308634$"
      ],
      "text/plain": [
       "<IPython.core.display.Math object>"
      ]
     },
     "metadata": {},
     "output_type": "display_data"
    },
    {
     "data": {
      "text/latex": [
       "$\\displaystyle {{spend}}_{usd, l, y{0}, inventory, power.lii}=108641.97530864175$"
      ],
      "text/plain": [
       "<IPython.core.display.Math object>"
      ]
     },
     "metadata": {},
     "output_type": "display_data"
    },
    {
     "data": {
      "text/latex": [
       "$\\displaystyle {{spend}}_{usd, l, y{0}, consume, cement}=1770518.5185185187$"
      ],
      "text/plain": [
       "<IPython.core.display.Math object>"
      ]
     },
     "metadata": {},
     "output_type": "display_data"
    },
    {
     "data": {
      "text/latex": [
       "$\\displaystyle {{{cap}^{S}}}_{power.lii, l, y{0}}=27.160493827160437$"
      ],
      "text/plain": [
       "<IPython.core.display.Math object>"
      ]
     },
     "metadata": {},
     "output_type": "display_data"
    },
    {
     "data": {
      "text/latex": [
       "$\\displaystyle {{{\\breve{{cap}^{S}}}}}_{power.lii, l, y{0}}=1.0$"
      ],
      "text/plain": [
       "<IPython.core.display.Math object>"
      ]
     },
     "metadata": {},
     "output_type": "display_data"
    },
    {
     "data": {
      "text/latex": [
       "$\\displaystyle {{{inv}}}_{power.lii, l, y{0}}=54.320987654320874$"
      ],
      "text/plain": [
       "<IPython.core.display.Math object>"
      ]
     },
     "metadata": {},
     "output_type": "display_data"
    },
    {
     "data": {
      "text/latex": [
       "$\\displaystyle {{{inv}}}_{power.lii, l, q{0}}=27.160493827160437$"
      ],
      "text/plain": [
       "<IPython.core.display.Math object>"
      ]
     },
     "metadata": {},
     "output_type": "display_data"
    },
    {
     "data": {
      "text/latex": [
       "$\\displaystyle {{{inv}}}_{power.lii, l, q{1}}=27.160493827160437$"
      ],
      "text/plain": [
       "<IPython.core.display.Math object>"
      ]
     },
     "metadata": {},
     "output_type": "display_data"
    },
    {
     "data": {
      "text/latex": [
       "$\\displaystyle {{{inv}}}_{power.lii, l, q{2}}=0.0$"
      ],
      "text/plain": [
       "<IPython.core.display.Math object>"
      ]
     },
     "metadata": {},
     "output_type": "display_data"
    },
    {
     "data": {
      "text/latex": [
       "$\\displaystyle {{{inv}}}_{power.lii, l, q{3}}=0.0$"
      ],
      "text/plain": [
       "<IPython.core.display.Math object>"
      ]
     },
     "metadata": {},
     "output_type": "display_data"
    },
    {
     "data": {
      "text/latex": [
       "$\\displaystyle {{emit}}_{gwp, l, y{0}, capacity, wf}=100000.0$"
      ],
      "text/plain": [
       "<IPython.core.display.Math object>"
      ]
     },
     "metadata": {},
     "output_type": "display_data"
    },
    {
     "data": {
      "text/latex": [
       "$\\displaystyle {{emit}}_{gwp, l, y{0}, capacity, pv}=200000.00000000012$"
      ],
      "text/plain": [
       "<IPython.core.display.Math object>"
      ]
     },
     "metadata": {},
     "output_type": "display_data"
    },
    {
     "data": {
      "text/latex": [
       "$\\displaystyle {{emit}}_{gwp, l, y{0}, invcapacity, power.lii}=81481.48148148131$"
      ],
      "text/plain": [
       "<IPython.core.display.Math object>"
      ]
     },
     "metadata": {},
     "output_type": "display_data"
    },
    {
     "data": {
      "text/latex": [
       "$\\displaystyle {{emit}}_{gwp, l, y{0}, consume, cement}=93733.33333333334$"
      ],
      "text/plain": [
       "<IPython.core.display.Math object>"
      ]
     },
     "metadata": {},
     "output_type": "display_data"
    },
    {
     "data": {
      "text/latex": [
       "$\\displaystyle {{emit}}_{gwp, l, y{0}}=475214.8148148148$"
      ],
      "text/plain": [
       "<IPython.core.display.Math object>"
      ]
     },
     "metadata": {},
     "output_type": "display_data"
    },
    {
     "data": {
      "text/latex": [
       "$\\displaystyle {{use}}_{cement, l, y{0}, capacity, wf}=40000.0$"
      ],
      "text/plain": [
       "<IPython.core.display.Math object>"
      ]
     },
     "metadata": {},
     "output_type": "display_data"
    },
    {
     "data": {
      "text/latex": [
       "$\\displaystyle {{use}}_{cement, l, y{0}, capacity, pv}=56000.00000000003$"
      ],
      "text/plain": [
       "<IPython.core.display.Math object>"
      ]
     },
     "metadata": {},
     "output_type": "display_data"
    },
    {
     "data": {
      "text/latex": [
       "$\\displaystyle {{use}}_{cement, l, y{0}, invcapacity, power.lii}=8148.148148148131$"
      ],
      "text/plain": [
       "<IPython.core.display.Math object>"
      ]
     },
     "metadata": {},
     "output_type": "display_data"
    },
    {
     "data": {
      "text/latex": [
       "$\\displaystyle {{{prod}}}_{power, l, q{0}, operate, wf}=100.0$"
      ],
      "text/plain": [
       "<IPython.core.display.Math object>"
      ]
     },
     "metadata": {},
     "output_type": "display_data"
    },
    {
     "data": {
      "text/latex": [
       "$\\displaystyle {{{prod}}}_{power, l, q{1}, operate, wf}=88.8888888888889$"
      ],
      "text/plain": [
       "<IPython.core.display.Math object>"
      ]
     },
     "metadata": {},
     "output_type": "display_data"
    },
    {
     "data": {
      "text/latex": [
       "$\\displaystyle {{{prod}}}_{power, l, q{2}, operate, wf}=55.55555555555556$"
      ],
      "text/plain": [
       "<IPython.core.display.Math object>"
      ]
     },
     "metadata": {},
     "output_type": "display_data"
    },
    {
     "data": {
      "text/latex": [
       "$\\displaystyle {{{prod}}}_{power, l, q{3}, operate, wf}=77.77777777777777$"
      ],
      "text/plain": [
       "<IPython.core.display.Math object>"
      ]
     },
     "metadata": {},
     "output_type": "display_data"
    },
    {
     "data": {
      "text/latex": [
       "$\\displaystyle {{{prod}}}_{power, l, q{0}, operate, pv}=66.6666666666667$"
      ],
      "text/plain": [
       "<IPython.core.display.Math object>"
      ]
     },
     "metadata": {},
     "output_type": "display_data"
    },
    {
     "data": {
      "text/latex": [
       "$\\displaystyle {{{prod}}}_{power, l, q{1}, operate, pv}=88.88888888888894$"
      ],
      "text/plain": [
       "<IPython.core.display.Math object>"
      ]
     },
     "metadata": {},
     "output_type": "display_data"
    },
    {
     "data": {
      "text/latex": [
       "$\\displaystyle {{{prod}}}_{power, l, q{2}, operate, pv}=100.00000000000006$"
      ],
      "text/plain": [
       "<IPython.core.display.Math object>"
      ]
     },
     "metadata": {},
     "output_type": "display_data"
    },
    {
     "data": {
      "text/latex": [
       "$\\displaystyle {{{prod}}}_{power, l, q{3}, operate, pv}=77.77777777777781$"
      ],
      "text/plain": [
       "<IPython.core.display.Math object>"
      ]
     },
     "metadata": {},
     "output_type": "display_data"
    },
    {
     "data": {
      "text/latex": [
       "$\\displaystyle {{{prod}}}_{power.lii, l, q{0}, operate, lii.charge}=27.160493827160437$"
      ],
      "text/plain": [
       "<IPython.core.display.Math object>"
      ]
     },
     "metadata": {},
     "output_type": "display_data"
    },
    {
     "data": {
      "text/latex": [
       "$\\displaystyle {{{prod}}}_{power.lii, l, q{1}, operate, lii.charge}=72.83950617283956$"
      ],
      "text/plain": [
       "<IPython.core.display.Math object>"
      ]
     },
     "metadata": {},
     "output_type": "display_data"
    },
    {
     "data": {
      "text/latex": [
       "$\\displaystyle {{{prod}}}_{power.lii, l, q{2}, operate, lii.charge}=0.0$"
      ],
      "text/plain": [
       "<IPython.core.display.Math object>"
      ]
     },
     "metadata": {},
     "output_type": "display_data"
    },
    {
     "data": {
      "text/latex": [
       "$\\displaystyle {{{prod}}}_{power.lii, l, q{3}, operate, lii.charge}=0.0$"
      ],
      "text/plain": [
       "<IPython.core.display.Math object>"
      ]
     },
     "metadata": {},
     "output_type": "display_data"
    },
    {
     "data": {
      "text/latex": [
       "$\\displaystyle {{{prod}}}_{power, l, q{0}, operate, lii.discharge}=0.0$"
      ],
      "text/plain": [
       "<IPython.core.display.Math object>"
      ]
     },
     "metadata": {},
     "output_type": "display_data"
    },
    {
     "data": {
      "text/latex": [
       "$\\displaystyle {{{prod}}}_{power, l, q{1}, operate, lii.discharge}=65.5555555555556$"
      ],
      "text/plain": [
       "<IPython.core.display.Math object>"
      ]
     },
     "metadata": {},
     "output_type": "display_data"
    },
    {
     "data": {
      "text/latex": [
       "$\\displaystyle {{{prod}}}_{power, l, q{2}, operate, lii.discharge}=24.44444444444439$"
      ],
      "text/plain": [
       "<IPython.core.display.Math object>"
      ]
     },
     "metadata": {},
     "output_type": "display_data"
    },
    {
     "data": {
      "text/latex": [
       "$\\displaystyle {{{prod}}}_{power, l, q{3}, operate, lii.discharge}=0.0$"
      ],
      "text/plain": [
       "<IPython.core.display.Math object>"
      ]
     },
     "metadata": {},
     "output_type": "display_data"
    },
    {
     "data": {
      "text/latex": [
       "$\\displaystyle {{{expd}}}_{wind, l, y{0}, operate, wf}=322.22222222222223$"
      ],
      "text/plain": [
       "<IPython.core.display.Math object>"
      ]
     },
     "metadata": {},
     "output_type": "display_data"
    },
    {
     "data": {
      "text/latex": [
       "$\\displaystyle {{{expd}}}_{solar, l, q{0}, operate, pv}=66.6666666666667$"
      ],
      "text/plain": [
       "<IPython.core.display.Math object>"
      ]
     },
     "metadata": {},
     "output_type": "display_data"
    },
    {
     "data": {
      "text/latex": [
       "$\\displaystyle {{{expd}}}_{solar, l, q{1}, operate, pv}=88.88888888888894$"
      ],
      "text/plain": [
       "<IPython.core.display.Math object>"
      ]
     },
     "metadata": {},
     "output_type": "display_data"
    },
    {
     "data": {
      "text/latex": [
       "$\\displaystyle {{{expd}}}_{solar, l, q{2}, operate, pv}=100.00000000000006$"
      ],
      "text/plain": [
       "<IPython.core.display.Math object>"
      ]
     },
     "metadata": {},
     "output_type": "display_data"
    },
    {
     "data": {
      "text/latex": [
       "$\\displaystyle {{{expd}}}_{solar, l, q{3}, operate, pv}=77.77777777777781$"
      ],
      "text/plain": [
       "<IPython.core.display.Math object>"
      ]
     },
     "metadata": {},
     "output_type": "display_data"
    },
    {
     "data": {
      "text/latex": [
       "$\\displaystyle {{{expd}}}_{power, l, q{0}, operate, lii.charge}=27.160493827160437$"
      ],
      "text/plain": [
       "<IPython.core.display.Math object>"
      ]
     },
     "metadata": {},
     "output_type": "display_data"
    },
    {
     "data": {
      "text/latex": [
       "$\\displaystyle {{{expd}}}_{power, l, q{1}, operate, lii.charge}=72.83950617283956$"
      ],
      "text/plain": [
       "<IPython.core.display.Math object>"
      ]
     },
     "metadata": {},
     "output_type": "display_data"
    },
    {
     "data": {
      "text/latex": [
       "$\\displaystyle {{{expd}}}_{power, l, q{2}, operate, lii.charge}=0.0$"
      ],
      "text/plain": [
       "<IPython.core.display.Math object>"
      ]
     },
     "metadata": {},
     "output_type": "display_data"
    },
    {
     "data": {
      "text/latex": [
       "$\\displaystyle {{{expd}}}_{power, l, q{3}, operate, lii.charge}=0.0$"
      ],
      "text/plain": [
       "<IPython.core.display.Math object>"
      ]
     },
     "metadata": {},
     "output_type": "display_data"
    },
    {
     "data": {
      "text/latex": [
       "$\\displaystyle {{{expd}}}_{power.lii, l, q{0}, operate, lii.discharge}=0.0$"
      ],
      "text/plain": [
       "<IPython.core.display.Math object>"
      ]
     },
     "metadata": {},
     "output_type": "display_data"
    },
    {
     "data": {
      "text/latex": [
       "$\\displaystyle {{{expd}}}_{power.lii, l, q{1}, operate, lii.discharge}=72.83950617283956$"
      ],
      "text/plain": [
       "<IPython.core.display.Math object>"
      ]
     },
     "metadata": {},
     "output_type": "display_data"
    },
    {
     "data": {
      "text/latex": [
       "$\\displaystyle {{{expd}}}_{power.lii, l, q{2}, operate, lii.discharge}=27.160493827160433$"
      ],
      "text/plain": [
       "<IPython.core.display.Math object>"
      ]
     },
     "metadata": {},
     "output_type": "display_data"
    },
    {
     "data": {
      "text/latex": [
       "$\\displaystyle {{{expd}}}_{power.lii, l, q{3}, operate, lii.discharge}=0.0$"
      ],
      "text/plain": [
       "<IPython.core.display.Math object>"
      ]
     },
     "metadata": {},
     "output_type": "display_data"
    },
    {
     "data": {
      "text/markdown": [
       "<br><br>"
      ],
      "text/plain": [
       "<IPython.core.display.Markdown object>"
      ]
     },
     "metadata": {},
     "output_type": "display_data"
    },
    {
     "data": {
      "text/markdown": [
       "## Constraint Slack"
      ],
      "text/plain": [
       "<IPython.core.display.Markdown object>"
      ]
     },
     "metadata": {},
     "output_type": "display_data"
    },
    {
     "data": {
      "text/latex": [
       "$\\displaystyle {{{cons}}}_{solar, l, q{0}} - 100.0=-33.3333333333333$"
      ],
      "text/plain": [
       "<IPython.core.display.Math object>"
      ]
     },
     "metadata": {},
     "output_type": "display_data"
    },
    {
     "data": {
      "text/latex": [
       "$\\displaystyle {{{cons}}}_{solar, l, q{1}} - 100.0=-11.111111111111057$"
      ],
      "text/plain": [
       "<IPython.core.display.Math object>"
      ]
     },
     "metadata": {},
     "output_type": "display_data"
    },
    {
     "data": {
      "text/latex": [
       "$\\displaystyle {{{cons}}}_{solar, l, q{2}} - 100.0=5.684341886080802e-14$"
      ],
      "text/plain": [
       "<IPython.core.display.Math object>"
      ]
     },
     "metadata": {},
     "output_type": "display_data"
    },
    {
     "data": {
      "text/latex": [
       "$\\displaystyle {{{cons}}}_{solar, l, q{3}} - 100.0=-22.222222222222186$"
      ],
      "text/plain": [
       "<IPython.core.display.Math object>"
      ]
     },
     "metadata": {},
     "output_type": "display_data"
    },
    {
     "data": {
      "text/latex": [
       "$\\displaystyle {{{cons}}}_{wind, l, y{0}} - 400.0=-77.77777777777777$"
      ],
      "text/plain": [
       "<IPython.core.display.Math object>"
      ]
     },
     "metadata": {},
     "output_type": "display_data"
    },
    {
     "data": {
      "text/latex": [
       "$\\displaystyle -{{{rlse}}}_{power, l, q{0}} + 134.99999999999997=-4.506172839506291$"
      ],
      "text/plain": [
       "<IPython.core.display.Math object>"
      ]
     },
     "metadata": {},
     "output_type": "display_data"
    },
    {
     "data": {
      "text/latex": [
       "$\\displaystyle -{{{rlse}}}_{power, l, q{1}} + 157.49999999999997=-12.993827160493908$"
      ],
      "text/plain": [
       "<IPython.core.display.Math object>"
      ]
     },
     "metadata": {},
     "output_type": "display_data"
    },
    {
     "data": {
      "text/latex": [
       "$\\displaystyle -{{{rlse}}}_{power, l, q{2}} + 180.0=0.0$"
      ],
      "text/plain": [
       "<IPython.core.display.Math object>"
      ]
     },
     "metadata": {},
     "output_type": "display_data"
    },
    {
     "data": {
      "text/latex": [
       "$\\displaystyle -{{{rlse}}}_{power, l, q{3}} + 67.49999999999999=-88.05555555555561$"
      ],
      "text/plain": [
       "<IPython.core.display.Math object>"
      ]
     },
     "metadata": {},
     "output_type": "display_data"
    },
    {
     "data": {
      "text/latex": [
       "$\\displaystyle {{{cap}^{P}}}_{wf, l, y{0}} - 100.0 \\cdot {{{\\breve{{cap}^{P}}}}}_{wf, l, y{0}}=0.0$"
      ],
      "text/plain": [
       "<IPython.core.display.Math object>"
      ]
     },
     "metadata": {},
     "output_type": "display_data"
    },
    {
     "data": {
      "text/latex": [
       "$\\displaystyle 10.0 \\cdot {{{\\breve{{cap}^{P}}}}}_{wf, l, y{0}} - {{{cap}^{P}}}_{wf, l, y{0}}=-90.0$"
      ],
      "text/plain": [
       "<IPython.core.display.Math object>"
      ]
     },
     "metadata": {},
     "output_type": "display_data"
    },
    {
     "data": {
      "text/latex": [
       "$\\displaystyle {{{opr}}}_{wf, l, q{0}} - 1.0 \\cdot {{{cap}^{P}}}_{wf, l, y{0}}=0.0$"
      ],
      "text/plain": [
       "<IPython.core.display.Math object>"
      ]
     },
     "metadata": {},
     "output_type": "display_data"
    },
    {
     "data": {
      "text/latex": [
       "$\\displaystyle {{{opr}}}_{wf, l, q{1}} - 0.888888888888889 \\cdot {{{cap}^{P}}}_{wf, l, y{0}}=0.0$"
      ],
      "text/plain": [
       "<IPython.core.display.Math object>"
      ]
     },
     "metadata": {},
     "output_type": "display_data"
    },
    {
     "data": {
      "text/latex": [
       "$\\displaystyle {{{opr}}}_{wf, l, q{2}} - 0.5555555555555556 \\cdot {{{cap}^{P}}}_{wf, l, y{0}}=0.0$"
      ],
      "text/plain": [
       "<IPython.core.display.Math object>"
      ]
     },
     "metadata": {},
     "output_type": "display_data"
    },
    {
     "data": {
      "text/latex": [
       "$\\displaystyle {{{opr}}}_{wf, l, q{3}} - 0.7777777777777777 \\cdot {{{cap}^{P}}}_{wf, l, y{0}}=0.0$"
      ],
      "text/plain": [
       "<IPython.core.display.Math object>"
      ]
     },
     "metadata": {},
     "output_type": "display_data"
    },
    {
     "data": {
      "text/latex": [
       "$\\displaystyle {{{cap}^{P}}}_{pv, l, y{0}} - 100.0 \\cdot {{{\\breve{{cap}^{P}}}}}_{pv, l, y{0}}=5.684341886080802e-14$"
      ],
      "text/plain": [
       "<IPython.core.display.Math object>"
      ]
     },
     "metadata": {},
     "output_type": "display_data"
    },
    {
     "data": {
      "text/latex": [
       "$\\displaystyle 10.0 \\cdot {{{\\breve{{cap}^{P}}}}}_{pv, l, y{0}} - {{{cap}^{P}}}_{pv, l, y{0}}=-90.00000000000006$"
      ],
      "text/plain": [
       "<IPython.core.display.Math object>"
      ]
     },
     "metadata": {},
     "output_type": "display_data"
    },
    {
     "data": {
      "text/latex": [
       "$\\displaystyle {{{opr}}}_{pv, l, q{0}} - 0.6666666666666666 \\cdot {{{cap}^{P}}}_{pv, l, y{0}}=0.0$"
      ],
      "text/plain": [
       "<IPython.core.display.Math object>"
      ]
     },
     "metadata": {},
     "output_type": "display_data"
    },
    {
     "data": {
      "text/latex": [
       "$\\displaystyle {{{opr}}}_{pv, l, q{1}} - 0.888888888888889 \\cdot {{{cap}^{P}}}_{pv, l, y{0}}=0.0$"
      ],
      "text/plain": [
       "<IPython.core.display.Math object>"
      ]
     },
     "metadata": {},
     "output_type": "display_data"
    },
    {
     "data": {
      "text/latex": [
       "$\\displaystyle {{{opr}}}_{pv, l, q{2}} - 1.0 \\cdot {{{cap}^{P}}}_{pv, l, y{0}}=0.0$"
      ],
      "text/plain": [
       "<IPython.core.display.Math object>"
      ]
     },
     "metadata": {},
     "output_type": "display_data"
    },
    {
     "data": {
      "text/latex": [
       "$\\displaystyle {{{opr}}}_{pv, l, q{3}} - 0.7777777777777777 \\cdot {{{cap}^{P}}}_{pv, l, y{0}}=0.0$"
      ],
      "text/plain": [
       "<IPython.core.display.Math object>"
      ]
     },
     "metadata": {},
     "output_type": "display_data"
    },
    {
     "data": {
      "text/latex": [
       "$\\displaystyle {{{cap}^{S}}}_{power.lii, l, y{0}} - 100.0 \\cdot {{{\\breve{{cap}^{S}}}}}_{power.lii, l, y{0}}=-72.83950617283956$"
      ],
      "text/plain": [
       "<IPython.core.display.Math object>"
      ]
     },
     "metadata": {},
     "output_type": "display_data"
    },
    {
     "data": {
      "text/latex": [
       "$\\displaystyle 10.0 \\cdot {{{\\breve{{cap}^{S}}}}}_{power.lii, l, y{0}} - {{{cap}^{S}}}_{power.lii, l, y{0}}=-17.160493827160437$"
      ],
      "text/plain": [
       "<IPython.core.display.Math object>"
      ]
     },
     "metadata": {},
     "output_type": "display_data"
    },
    {
     "data": {
      "text/latex": [
       "$\\displaystyle {{{cap}^{P}}}_{lii.charge, l, y{0}} - 100.0=0.0$"
      ],
      "text/plain": [
       "<IPython.core.display.Math object>"
      ]
     },
     "metadata": {},
     "output_type": "display_data"
    },
    {
     "data": {
      "text/latex": [
       "$\\displaystyle {{{opr}}}_{lii.charge, l, y{0}} - {{{cap}^{P}}}_{lii.charge, l, y{0}}=0.0$"
      ],
      "text/plain": [
       "<IPython.core.display.Math object>"
      ]
     },
     "metadata": {},
     "output_type": "display_data"
    },
    {
     "data": {
      "text/latex": [
       "$\\displaystyle {{{cap}^{P}}}_{lii.discharge, l, y{0}} - 100.0=0.0$"
      ],
      "text/plain": [
       "<IPython.core.display.Math object>"
      ]
     },
     "metadata": {},
     "output_type": "display_data"
    },
    {
     "data": {
      "text/latex": [
       "$\\displaystyle {{{opr}}}_{lii.discharge, l, y{0}} - {{{cap}^{P}}}_{lii.discharge, l, y{0}}=-10.000000000000014$"
      ],
      "text/plain": [
       "<IPython.core.display.Math object>"
      ]
     },
     "metadata": {},
     "output_type": "display_data"
    },
    {
     "data": {
      "text/latex": [
       "$\\displaystyle {{{cons}}}_{cement, l, y{0}} - 1000000.0=-895851.8518518518$"
      ],
      "text/plain": [
       "<IPython.core.display.Math object>"
      ]
     },
     "metadata": {},
     "output_type": "display_data"
    },
    {
     "data": {
      "text/latex": [
       "$\\displaystyle {{{inv}}}_{power.lii, l, q{0}} - {{{cap}^{S}}}_{power.lii, l, y{0}}=0.0$"
      ],
      "text/plain": [
       "<IPython.core.display.Math object>"
      ]
     },
     "metadata": {},
     "output_type": "display_data"
    },
    {
     "data": {
      "text/latex": [
       "$\\displaystyle {{{inv}}}_{power.lii, l, q{1}} - {{{cap}^{S}}}_{power.lii, l, y{0}}=0.0$"
      ],
      "text/plain": [
       "<IPython.core.display.Math object>"
      ]
     },
     "metadata": {},
     "output_type": "display_data"
    },
    {
     "data": {
      "text/latex": [
       "$\\displaystyle {{{inv}}}_{power.lii, l, q{2}} - {{{cap}^{S}}}_{power.lii, l, y{0}}=-27.160493827160437$"
      ],
      "text/plain": [
       "<IPython.core.display.Math object>"
      ]
     },
     "metadata": {},
     "output_type": "display_data"
    },
    {
     "data": {
      "text/latex": [
       "$\\displaystyle {{{inv}}}_{power.lii, l, q{3}} - {{{cap}^{S}}}_{power.lii, l, y{0}}=-27.160493827160437$"
      ],
      "text/plain": [
       "<IPython.core.display.Math object>"
      ]
     },
     "metadata": {},
     "output_type": "display_data"
    }
   ],
   "source": [
    "m.sol(False)"
   ]
  }
 ],
 "metadata": {
  "kernelspec": {
   "display_name": ".venv",
   "language": "python",
   "name": "python3"
  },
  "language_info": {
   "codemirror_mode": {
    "name": "ipython",
    "version": 3
   },
   "file_extension": ".py",
   "mimetype": "text/x-python",
   "name": "python",
   "nbconvert_exporter": "python",
   "pygments_lexer": "ipython3",
   "version": "3.13.7"
  }
 },
 "nbformat": 4,
 "nbformat_minor": 5
}
