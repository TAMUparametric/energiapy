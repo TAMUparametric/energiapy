{
 "cells": [
  {
   "cell_type": "markdown",
   "id": "af4fb72e",
   "metadata": {},
   "source": [
    "# One Location, One Temporal Scale, One Operation, Linear Programming Example\n",
    "\n",
    "## [Example 1]\n",
    "\n",
    "There is a single process to be optimized for cost [USD] over 4 quarters of a year. \n",
    "There is variability in terms of how much of the (known) process [Wind Farm] capacity can be accessed, and resource (Power) demand.\n"
   ]
  },
  {
   "cell_type": "markdown",
   "id": "5d896a86",
   "metadata": {},
   "source": [
    "## Initialize"
   ]
  },
  {
   "cell_type": "code",
   "execution_count": 7,
   "id": "c7f232b9",
   "metadata": {},
   "outputs": [],
   "source": [
    "from energia import *\n",
    "m = Model('small_1L_1T_1O_LP')"
   ]
  },
  {
   "cell_type": "markdown",
   "id": "0173787a",
   "metadata": {},
   "source": [
    "## Time\n",
    "\n",
    "We have 4 quarter which form a year"
   ]
  },
  {
   "cell_type": "code",
   "execution_count": null,
   "id": "93b6ad8f",
   "metadata": {},
   "outputs": [],
   "source": [
    "m.q = Period()\n",
    "m.y = 4 * m.q"
   ]
  },
  {
   "cell_type": "markdown",
   "id": "b4a3b8a7",
   "metadata": {},
   "source": [
    "The horizon ($\\overset{\\ast}{t} = argmin_{n \\in N} |\\mathcal{T}_{n}|$) is determined by Energia implicitly. Check it by printing Model.Horizon"
   ]
  },
  {
   "cell_type": "code",
   "execution_count": 9,
   "id": "cc5709be",
   "metadata": {},
   "outputs": [
    {
     "data": {
      "text/plain": [
       "y"
      ]
     },
     "execution_count": 9,
     "metadata": {},
     "output_type": "execute_result"
    }
   ],
   "source": [
    "m.horizon"
   ]
  },
  {
   "cell_type": "markdown",
   "id": "73dcc81f",
   "metadata": {},
   "source": [
    "## Space\n",
    "\n",
    "If nothing is provided, a default location is created. The created single location will serve as the de facto network\n",
    "\n",
    "In single location case studies, it may be easier to skip providing a location all together "
   ]
  },
  {
   "cell_type": "code",
   "execution_count": 10,
   "id": "9307292c",
   "metadata": {},
   "outputs": [
    {
     "data": {
      "text/plain": [
       "ntw"
      ]
     },
     "execution_count": 10,
     "metadata": {},
     "output_type": "execute_result"
    }
   ],
   "source": [
    "m.network "
   ]
  },
  {
   "cell_type": "markdown",
   "id": "e9da8a24",
   "metadata": {},
   "source": [
    "## Resources\n",
    "\n",
    "In the Resource Task Network (RTN) methodology all commodities are resources. In this case, we have a few general resources (wind, power) and a monetary resource (USD)."
   ]
  },
  {
   "cell_type": "code",
   "execution_count": 11,
   "id": "aa6d04e2",
   "metadata": {},
   "outputs": [],
   "source": [
    "m.usd = Currency()\n",
    "m.power, m.wind = Resource(), Resource()"
   ]
  },
  {
   "cell_type": "markdown",
   "id": "077d2215",
   "metadata": {},
   "source": [
    "### Setting Bounds\n",
    "\n",
    "The first bound is set for over the network and year, given that no spatiotemporal disposition is provided: \n",
    "\n",
    "$\\mathbf{cons}_{wind, network, year_0} \\leq 400$ \n",
    "\n",
    "For the second bound, given that a nominal is given, the list is treated as multiplicative factor. The length matches with the quarterly scale. Thus:\n",
    "\n",
    "$\\mathbf{rlse}_{power, network, quarter_0} \\geq 60$\n",
    "\n",
    "$\\mathbf{rlse}_{power, network, quarter_1} \\geq 70$\n",
    "\n",
    "$\\mathbf{rlse}_{power, network, quarter_2} \\geq 100$\n",
    "\n",
    "$\\mathbf{rlse}_{power, network, quarter_3} \\geq 30$\n"
   ]
  },
  {
   "cell_type": "code",
   "execution_count": 12,
   "id": "96ce43fd",
   "metadata": {},
   "outputs": [
    {
     "name": "stdout",
     "output_type": "stream",
     "text": [
      "--- General Resource Balance for wind in (ntw, y): initializing constraint , adding consume\n",
      "--- General Resource Balance for power in (ntw, q): initializing constraint , adding release\n"
     ]
    }
   ],
   "source": [
    "m.wind.consume <= 400\n",
    "m.power.release.prep(100) >= [0.6, 0.7, 1, 0.3]"
   ]
  },
  {
   "cell_type": "markdown",
   "id": "40910f35",
   "metadata": {},
   "source": [
    "Check the model anytime, using m.show(), or object.show()\n",
    "\n",
    "The first constraint is a general resource balance, generated for every resource at every spatiotemporal disposition at which an aspect regarding it is defined. \n",
    "\n",
    "Skip the True in .show() for a more concise set notation based print"
   ]
  },
  {
   "cell_type": "code",
   "execution_count": 13,
   "id": "caee4b3b",
   "metadata": {},
   "outputs": [
    {
     "data": {
      "text/latex": [
       "$\\displaystyle [7]   -{rlse}_{power, ntw, q0} = 0$"
      ],
      "text/plain": [
       "<IPython.core.display.Math object>"
      ]
     },
     "metadata": {},
     "output_type": "display_data"
    },
    {
     "data": {
      "text/latex": [
       "$\\displaystyle [8]   -{rlse}_{power, ntw, q1} = 0$"
      ],
      "text/plain": [
       "<IPython.core.display.Math object>"
      ]
     },
     "metadata": {},
     "output_type": "display_data"
    },
    {
     "data": {
      "text/latex": [
       "$\\displaystyle [9]   -{rlse}_{power, ntw, q2} = 0$"
      ],
      "text/plain": [
       "<IPython.core.display.Math object>"
      ]
     },
     "metadata": {},
     "output_type": "display_data"
    },
    {
     "data": {
      "text/latex": [
       "$\\displaystyle [10]   -{rlse}_{power, ntw, q3} = 0$"
      ],
      "text/plain": [
       "<IPython.core.display.Math object>"
      ]
     },
     "metadata": {},
     "output_type": "display_data"
    },
    {
     "data": {
      "text/latex": [
       "$\\displaystyle [11]   -{rlse}_{power, ntw, q0} + 60.0 \\leq 0$"
      ],
      "text/plain": [
       "<IPython.core.display.Math object>"
      ]
     },
     "metadata": {},
     "output_type": "display_data"
    },
    {
     "data": {
      "text/latex": [
       "$\\displaystyle [12]   -{rlse}_{power, ntw, q1} + 70.0 \\leq 0$"
      ],
      "text/plain": [
       "<IPython.core.display.Math object>"
      ]
     },
     "metadata": {},
     "output_type": "display_data"
    },
    {
     "data": {
      "text/latex": [
       "$\\displaystyle [13]   -{rlse}_{power, ntw, q2} + 100.0 \\leq 0$"
      ],
      "text/plain": [
       "<IPython.core.display.Math object>"
      ]
     },
     "metadata": {},
     "output_type": "display_data"
    },
    {
     "data": {
      "text/latex": [
       "$\\displaystyle [14]   -{rlse}_{power, ntw, q3} + 30.0 \\leq 0$"
      ],
      "text/plain": [
       "<IPython.core.display.Math object>"
      ]
     },
     "metadata": {},
     "output_type": "display_data"
    }
   ],
   "source": [
    "m.power.show(True)"
   ]
  },
  {
   "cell_type": "markdown",
   "id": "b2e357a2",
   "metadata": {},
   "source": [
    "## Process "
   ]
  },
  {
   "cell_type": "markdown",
   "id": "76ca93e7",
   "metadata": {},
   "source": [
    "There are multiple ways to model this.\n",
    "\n",
    "Whats most important, however, is the resource balance. The resource in the brackets is the basis resource. For a negative basis, multiply the resource by the negative factor or just use negation if that applies. "
   ]
  },
  {
   "cell_type": "code",
   "execution_count": 14,
   "id": "5b1b0756",
   "metadata": {},
   "outputs": [],
   "source": [
    "m.wf = Process()\n",
    "m.wf(m.power) == -1 * m.wind"
   ]
  },
  {
   "cell_type": "markdown",
   "id": "5f1eb681",
   "metadata": {},
   "source": [
    "Now set bounds on the extent to which the wind farm can operate. We are actually writing the following constraint: \n",
    "\n",
    "$\\mathbf{opr} <= \\phi \\cdot \\mathbf{cap}$\n",
    "\n",
    "However, we know the capacity, so it is treated as a parameter. \n",
    "\n",
    "Note that the incoming values are normalized by default. Use norm = False to avoid that"
   ]
  },
  {
   "cell_type": "code",
   "execution_count": 15,
   "id": "8b29d105",
   "metadata": {},
   "outputs": [
    {
     "data": {
      "text/latex": [
       "$\\displaystyle [19]   {opr}_{wf, ntw, q0} - 180.0 \\leq 0$"
      ],
      "text/plain": [
       "<IPython.core.display.Math object>"
      ]
     },
     "metadata": {},
     "output_type": "display_data"
    },
    {
     "data": {
      "text/latex": [
       "$\\displaystyle [20]   {opr}_{wf, ntw, q1} - 160.0 \\leq 0$"
      ],
      "text/plain": [
       "<IPython.core.display.Math object>"
      ]
     },
     "metadata": {},
     "output_type": "display_data"
    },
    {
     "data": {
      "text/latex": [
       "$\\displaystyle [21]   {opr}_{wf, ntw, q2} - 100.0 \\leq 0$"
      ],
      "text/plain": [
       "<IPython.core.display.Math object>"
      ]
     },
     "metadata": {},
     "output_type": "display_data"
    },
    {
     "data": {
      "text/latex": [
       "$\\displaystyle [22]   {opr}_{wf, ntw, q3} - 140.0 \\leq 0$"
      ],
      "text/plain": [
       "<IPython.core.display.Math object>"
      ]
     },
     "metadata": {},
     "output_type": "display_data"
    }
   ],
   "source": [
    "m.wf.operate.prep(200, norm = False) <= [0.9, 0.8, 0.5, 0.7]\n",
    "m.wf.show(True)"
   ]
  },
  {
   "cell_type": "markdown",
   "id": "748a754f",
   "metadata": {},
   "source": [
    "Alternatively, "
   ]
  },
  {
   "cell_type": "code",
   "execution_count": 16,
   "id": "143ac73b",
   "metadata": {},
   "outputs": [],
   "source": [
    "# m.wf.capacity == 200 \n",
    "# m.wf.operate <= [0.9, 0.8, 0.5, 0.7]"
   ]
  },
  {
   "cell_type": "markdown",
   "id": "2a77b5fc",
   "metadata": {},
   "source": [
    "Add a cost to the process operation. This implies that the cost of operating is variable in every quarter. In general:\n",
    "\n",
    "$\\dot{\\mathbf{v}} == \\theta \\cdot \\mathbf{v}$"
   ]
  },
  {
   "cell_type": "code",
   "execution_count": 17,
   "id": "3b9dcebf",
   "metadata": {},
   "outputs": [
    {
     "data": {
      "text/latex": [
       "$\\displaystyle [27]   -4000.0 \\cdot {opr}_{wf, ntw, q0} + spend_{usd, operate, wf, ntw, q0} = 0$"
      ],
      "text/plain": [
       "<IPython.core.display.Math object>"
      ]
     },
     "metadata": {},
     "output_type": "display_data"
    },
    {
     "data": {
      "text/latex": [
       "$\\displaystyle [28]   -4200.0 \\cdot {opr}_{wf, ntw, q1} + spend_{usd, operate, wf, ntw, q1} = 0$"
      ],
      "text/plain": [
       "<IPython.core.display.Math object>"
      ]
     },
     "metadata": {},
     "output_type": "display_data"
    },
    {
     "data": {
      "text/latex": [
       "$\\displaystyle [29]   -4300.0 \\cdot {opr}_{wf, ntw, q2} + spend_{usd, operate, wf, ntw, q2} = 0$"
      ],
      "text/plain": [
       "<IPython.core.display.Math object>"
      ]
     },
     "metadata": {},
     "output_type": "display_data"
    },
    {
     "data": {
      "text/latex": [
       "$\\displaystyle [30]   -3900.0 \\cdot {opr}_{wf, ntw, q3} + spend_{usd, operate, wf, ntw, q3} = 0$"
      ],
      "text/plain": [
       "<IPython.core.display.Math object>"
      ]
     },
     "metadata": {},
     "output_type": "display_data"
    }
   ],
   "source": [
    "m.wf.operate[m.usd.spend] == [4000, 4200, 4300, 3900] \n",
    "m.spend.show(True)"
   ]
  },
  {
   "cell_type": "markdown",
   "id": "3b02b372",
   "metadata": {},
   "source": [
    "Note that printing can be achieved via the aspect [operate, spend, etc.] or the object"
   ]
  },
  {
   "cell_type": "markdown",
   "id": "114dd322",
   "metadata": {},
   "source": [
    "## Locating the process\n",
    "\n",
    "The production streams are only generated once the process is places in some location. In this study, the only location is available is the default network."
   ]
  },
  {
   "cell_type": "code",
   "execution_count": 18,
   "id": "651cf1ae",
   "metadata": {},
   "outputs": [
    {
     "name": "stdout",
     "output_type": "stream",
     "text": [
      "--- General Resource Balance for power in (ntw, q): adding produce\n",
      "--- General Resource Balance for wind in (ntw, y): adding expend\n",
      "--- Mapping operate: from (wf, ntw, q) to (wf, ntw, y)\n"
     ]
    }
   ],
   "source": [
    "m.network.operations(m.wf)"
   ]
  },
  {
   "cell_type": "markdown",
   "id": "cdba7768",
   "metadata": {},
   "source": [
    "Alternatively,"
   ]
  },
  {
   "cell_type": "code",
   "execution_count": 19,
   "id": "f292e987",
   "metadata": {},
   "outputs": [],
   "source": [
    "# m.wf.locate(m.network)"
   ]
  },
  {
   "cell_type": "markdown",
   "id": "649dae6d",
   "metadata": {},
   "source": [
    "# The Model\n",
    "\n",
    "The model consists of the following:\n",
    "\n",
    "1. A general resource balances for wind in (network, year) and power in (network, quarter)\n",
    "2. Bounds on wind consumption [upper] and power release [lower], and wf operation [upper]\n",
    "3. Conversion constraints, giving produced and expended resources based on operation\n",
    "4. Calculation of spending USD in every quarter\n",
    "5. Mapping constraints for operate: q -> y and spend: q -> y (generated after objective is set)\n"
   ]
  },
  {
   "cell_type": "code",
   "execution_count": 20,
   "id": "cd8cc461",
   "metadata": {},
   "outputs": [
    {
     "data": {
      "text/markdown": [
       "# Mathematical Program for small_1L_1T_1O_LP"
      ],
      "text/plain": [
       "<IPython.core.display.Markdown object>"
      ]
     },
     "metadata": {},
     "output_type": "display_data"
    },
    {
     "name": "stdout",
     "output_type": "stream",
     "text": [
      "\n"
     ]
    },
    {
     "data": {
      "text/markdown": [
       "## Index Sets"
      ],
      "text/plain": [
       "<IPython.core.display.Markdown object>"
      ]
     },
     "metadata": {},
     "output_type": "display_data"
    },
    {
     "data": {
      "text/latex": [
       "$\\displaystyle \\mathcal{periods} = \\{ q, y \\}$"
      ],
      "text/plain": [
       "<IPython.core.display.Math object>"
      ]
     },
     "metadata": {},
     "output_type": "display_data"
    },
    {
     "data": {
      "text/latex": [
       "$\\displaystyle \\mathcal{locs} = \\{ ntw \\}$"
      ],
      "text/plain": [
       "<IPython.core.display.Math object>"
      ]
     },
     "metadata": {},
     "output_type": "display_data"
    },
    {
     "data": {
      "text/latex": [
       "$\\displaystyle \\mathcal{spaces} = \\{ ntw \\}$"
      ],
      "text/plain": [
       "<IPython.core.display.Math object>"
      ]
     },
     "metadata": {},
     "output_type": "display_data"
    },
    {
     "data": {
      "text/latex": [
       "$\\displaystyle \\mathcal{resources} = \\{ usd, power, wind \\}$"
      ],
      "text/plain": [
       "<IPython.core.display.Math object>"
      ]
     },
     "metadata": {},
     "output_type": "display_data"
    },
    {
     "data": {
      "text/latex": [
       "$\\displaystyle \\mathcal{processes} = \\{ wf \\}$"
      ],
      "text/plain": [
       "<IPython.core.display.Math object>"
      ]
     },
     "metadata": {},
     "output_type": "display_data"
    },
    {
     "data": {
      "text/latex": [
       "$\\displaystyle \\mathcal{states} = \\{ capacity, invcapacity, operate \\}$"
      ],
      "text/plain": [
       "<IPython.core.display.Math object>"
      ]
     },
     "metadata": {},
     "output_type": "display_data"
    },
    {
     "data": {
      "text/latex": [
       "$\\displaystyle \\mathcal{controls} = \\{ setup, dismantle, rampup, rampdown \\}$"
      ],
      "text/plain": [
       "<IPython.core.display.Math object>"
      ]
     },
     "metadata": {},
     "output_type": "display_data"
    },
    {
     "data": {
      "text/latex": [
       "$\\displaystyle \\mathcal{streams} = \\{ buy, sell, inventory, produce, expend, consume, release, export, dispose, use \\}$"
      ],
      "text/plain": [
       "<IPython.core.display.Math object>"
      ]
     },
     "metadata": {},
     "output_type": "display_data"
    },
    {
     "data": {
      "text/latex": [
       "$\\displaystyle \\mathcal{impacts} = \\{ earn, spend, emit, abate, detriment, benefit \\}$"
      ],
      "text/plain": [
       "<IPython.core.display.Math object>"
      ]
     },
     "metadata": {},
     "output_type": "display_data"
    },
    {
     "name": "stdout",
     "output_type": "stream",
     "text": [
      "\n"
     ]
    },
    {
     "data": {
      "text/markdown": [
       "## Non-Negative Variables"
      ],
      "text/plain": [
       "<IPython.core.display.Markdown object>"
      ]
     },
     "metadata": {},
     "output_type": "display_data"
    },
    {
     "data": {
      "text/latex": [
       "$\\displaystyle \\mathcal{nnvars} = \\{ consume, release, operate, spend, produce, expend \\}$"
      ],
      "text/plain": [
       "<IPython.core.display.Math object>"
      ]
     },
     "metadata": {},
     "output_type": "display_data"
    },
    {
     "name": "stdout",
     "output_type": "stream",
     "text": [
      "\n"
     ]
    },
    {
     "data": {
      "text/markdown": [
       "## s.t."
      ],
      "text/plain": [
       "<IPython.core.display.Markdown object>"
      ]
     },
     "metadata": {},
     "output_type": "display_data"
    },
    {
     "name": "stdout",
     "output_type": "stream",
     "text": [
      "\n"
     ]
    },
    {
     "data": {
      "text/markdown": [
       "### Inequality Constraints"
      ],
      "text/plain": [
       "<IPython.core.display.Markdown object>"
      ]
     },
     "metadata": {},
     "output_type": "display_data"
    },
    {
     "data": {
      "text/latex": [
       "$\\displaystyle [2]\\text{   }{cons}_{\\mathcal{wind, ntw, y}} - 400 \\leq 0$"
      ],
      "text/plain": [
       "<IPython.core.display.Math object>"
      ]
     },
     "metadata": {},
     "output_type": "display_data"
    },
    {
     "data": {
      "text/latex": [
       "$\\displaystyle [5]\\text{   }-{rlse}_{\\mathcal{power, ntw, q}} + Φ_{\\mathcal{}} \\leq 0$"
      ],
      "text/plain": [
       "<IPython.core.display.Math object>"
      ]
     },
     "metadata": {},
     "output_type": "display_data"
    },
    {
     "data": {
      "text/latex": [
       "$\\displaystyle [7]\\text{   }{opr}_{\\mathcal{wf, ntw, q}} - Φ_{\\mathcal{}} \\leq 0$"
      ],
      "text/plain": [
       "<IPython.core.display.Math object>"
      ]
     },
     "metadata": {},
     "output_type": "display_data"
    },
    {
     "name": "stdout",
     "output_type": "stream",
     "text": [
      "\n"
     ]
    },
    {
     "data": {
      "text/markdown": [
       "### Equality Constraints"
      ],
      "text/plain": [
       "<IPython.core.display.Markdown object>"
      ]
     },
     "metadata": {},
     "output_type": "display_data"
    },
    {
     "data": {
      "text/latex": [
       "$\\displaystyle [1]\\text{   }{cons}_{\\mathcal{wind, ntw, y}} - {expd}_{\\mathcal{wind, wf, ntw, y}} = 0$"
      ],
      "text/plain": [
       "<IPython.core.display.Math object>"
      ]
     },
     "metadata": {},
     "output_type": "display_data"
    },
    {
     "data": {
      "text/latex": [
       "$\\displaystyle [4]\\text{   }-{rlse}_{\\mathcal{power, ntw, q}} + {prod}_{\\mathcal{power, wf, ntw, q}} = 0$"
      ],
      "text/plain": [
       "<IPython.core.display.Math object>"
      ]
     },
     "metadata": {},
     "output_type": "display_data"
    },
    {
     "data": {
      "text/latex": [
       "$\\displaystyle [9]\\text{   }-Φ_{\\mathcal{}} \\cdot {opr}_{\\mathcal{wf, ntw, q}} + spend_{\\mathcal{usd, operate, wf, ntw, q}} = 0$"
      ],
      "text/plain": [
       "<IPython.core.display.Math object>"
      ]
     },
     "metadata": {},
     "output_type": "display_data"
    },
    {
     "data": {
      "text/latex": [
       "$\\displaystyle [11]\\text{   }{opr}_{\\mathcal{wf, ntw, q}} - {prod}_{\\mathcal{power, wf, ntw, q}} = 0$"
      ],
      "text/plain": [
       "<IPython.core.display.Math object>"
      ]
     },
     "metadata": {},
     "output_type": "display_data"
    },
    {
     "data": {
      "text/latex": [
       "$\\displaystyle [13]\\text{   }-\\sum_{i \\in q} {opr}_{wf, ntw, i} + {opr}_{\\mathcal{wf, ntw, y}} = 0$"
      ],
      "text/plain": [
       "<IPython.core.display.Math object>"
      ]
     },
     "metadata": {},
     "output_type": "display_data"
    },
    {
     "data": {
      "text/latex": [
       "$\\displaystyle [14]\\text{   }{opr}_{\\mathcal{wf, ntw, y}} - {expd}_{\\mathcal{wind, wf, ntw, y}} = 0$"
      ],
      "text/plain": [
       "<IPython.core.display.Math object>"
      ]
     },
     "metadata": {},
     "output_type": "display_data"
    }
   ],
   "source": [
    "m.show()"
   ]
  },
  {
   "cell_type": "markdown",
   "id": "f47541d5",
   "metadata": {},
   "source": [
    "## Optimize\n",
    "\n",
    "For maximization use opt(False)"
   ]
  },
  {
   "cell_type": "code",
   "execution_count": 21,
   "id": "27258021",
   "metadata": {},
   "outputs": [
    {
     "name": "stdout",
     "output_type": "stream",
     "text": [
      "--- Mapping spend: from (usd, operate, wf, ntw, q) to (usd, ntw, y)\n",
      "Set parameter Username\n",
      "Academic license - for non-commercial use only - expires 2025-12-16\n",
      "Warning: duplicate nonzeros for column V0 and row C1.\n",
      "Read MPS format model from file small_1L_1T_1O_LP.mps\n",
      "Reading time = 0.01 seconds\n",
      "SMALL_1L_1T_1O_LP: 25 rows, 20 columns, 47 nonzeros\n",
      "Gurobi Optimizer version 12.0.1 build v12.0.1rc0 (mac64[x86] - Darwin 21.6.0 21H1320)\n",
      "\n",
      "CPU model: Intel(R) Core(TM) i7-6567U CPU @ 3.30GHz\n",
      "Thread count: 2 physical cores, 4 logical processors, using up to 4 threads\n",
      "\n",
      "Optimize a model with 25 rows, 20 columns and 47 nonzeros\n",
      "Model fingerprint: 0xffcbdee5\n",
      "Coefficient statistics:\n",
      "  Matrix range     [1e+00, 4e+03]\n",
      "  Objective range  [1e+00, 1e+00]\n",
      "  Bounds range     [0e+00, 0e+00]\n",
      "  RHS range        [3e+01, 4e+02]\n",
      "Presolve removed 25 rows and 20 columns\n",
      "Presolve time: 0.03s\n",
      "Presolve: All rows and columns removed\n",
      "Iteration    Objective       Primal Inf.    Dual Inf.      Time\n",
      "       0    1.0810000e+06   0.000000e+00   0.000000e+00      0s\n",
      "\n",
      "Solved in 0 iterations and 0.05 seconds (0.00 work units)\n",
      "Optimal objective  1.081000000e+06\n"
     ]
    }
   ],
   "source": [
    "m.usd.spend.opt()"
   ]
  },
  {
   "cell_type": "markdown",
   "id": "9482c09f",
   "metadata": {},
   "source": [
    "## The Solution"
   ]
  },
  {
   "cell_type": "markdown",
   "id": "0b3019be",
   "metadata": {},
   "source": [
    "### The overall"
   ]
  },
  {
   "cell_type": "code",
   "execution_count": 22,
   "id": "ec82432f",
   "metadata": {},
   "outputs": [
    {
     "data": {
      "text/markdown": [
       "# Solution for small_1L_1T_1O_LP"
      ],
      "text/plain": [
       "<IPython.core.display.Markdown object>"
      ]
     },
     "metadata": {},
     "output_type": "display_data"
    },
    {
     "name": "stdout",
     "output_type": "stream",
     "text": [
      "\n"
     ]
    },
    {
     "data": {
      "text/markdown": [
       "## Objective"
      ],
      "text/plain": [
       "<IPython.core.display.Markdown object>"
      ]
     },
     "metadata": {},
     "output_type": "display_data"
    },
    {
     "data": {
      "text/latex": [
       "$\\displaystyle min \\hspace{0.2cm} spend_{usd, ntw, y0}=1081000.0$"
      ],
      "text/plain": [
       "<IPython.core.display.Math object>"
      ]
     },
     "metadata": {},
     "output_type": "display_data"
    },
    {
     "name": "stdout",
     "output_type": "stream",
     "text": [
      "\n"
     ]
    },
    {
     "data": {
      "text/markdown": [
       "## Variables"
      ],
      "text/plain": [
       "<IPython.core.display.Markdown object>"
      ]
     },
     "metadata": {},
     "output_type": "display_data"
    },
    {
     "data": {
      "text/latex": [
       "$\\displaystyle {cons}_{wind, ntw, y0}=260.0$"
      ],
      "text/plain": [
       "<IPython.core.display.Math object>"
      ]
     },
     "metadata": {},
     "output_type": "display_data"
    },
    {
     "data": {
      "text/latex": [
       "$\\displaystyle {rlse}_{power, ntw, q0}=60.0$"
      ],
      "text/plain": [
       "<IPython.core.display.Math object>"
      ]
     },
     "metadata": {},
     "output_type": "display_data"
    },
    {
     "data": {
      "text/latex": [
       "$\\displaystyle {rlse}_{power, ntw, q1}=70.0$"
      ],
      "text/plain": [
       "<IPython.core.display.Math object>"
      ]
     },
     "metadata": {},
     "output_type": "display_data"
    },
    {
     "data": {
      "text/latex": [
       "$\\displaystyle {rlse}_{power, ntw, q2}=100.0$"
      ],
      "text/plain": [
       "<IPython.core.display.Math object>"
      ]
     },
     "metadata": {},
     "output_type": "display_data"
    },
    {
     "data": {
      "text/latex": [
       "$\\displaystyle {rlse}_{power, ntw, q3}=30.0$"
      ],
      "text/plain": [
       "<IPython.core.display.Math object>"
      ]
     },
     "metadata": {},
     "output_type": "display_data"
    },
    {
     "data": {
      "text/latex": [
       "$\\displaystyle {opr}_{wf, ntw, q0}=60.0$"
      ],
      "text/plain": [
       "<IPython.core.display.Math object>"
      ]
     },
     "metadata": {},
     "output_type": "display_data"
    },
    {
     "data": {
      "text/latex": [
       "$\\displaystyle {opr}_{wf, ntw, q1}=70.0$"
      ],
      "text/plain": [
       "<IPython.core.display.Math object>"
      ]
     },
     "metadata": {},
     "output_type": "display_data"
    },
    {
     "data": {
      "text/latex": [
       "$\\displaystyle {opr}_{wf, ntw, q2}=100.0$"
      ],
      "text/plain": [
       "<IPython.core.display.Math object>"
      ]
     },
     "metadata": {},
     "output_type": "display_data"
    },
    {
     "data": {
      "text/latex": [
       "$\\displaystyle {opr}_{wf, ntw, q3}=30.0$"
      ],
      "text/plain": [
       "<IPython.core.display.Math object>"
      ]
     },
     "metadata": {},
     "output_type": "display_data"
    },
    {
     "data": {
      "text/latex": [
       "$\\displaystyle spend_{usd, operate, wf, ntw, q0}=240000.0$"
      ],
      "text/plain": [
       "<IPython.core.display.Math object>"
      ]
     },
     "metadata": {},
     "output_type": "display_data"
    },
    {
     "data": {
      "text/latex": [
       "$\\displaystyle spend_{usd, operate, wf, ntw, q1}=294000.0$"
      ],
      "text/plain": [
       "<IPython.core.display.Math object>"
      ]
     },
     "metadata": {},
     "output_type": "display_data"
    },
    {
     "data": {
      "text/latex": [
       "$\\displaystyle spend_{usd, operate, wf, ntw, q2}=430000.0$"
      ],
      "text/plain": [
       "<IPython.core.display.Math object>"
      ]
     },
     "metadata": {},
     "output_type": "display_data"
    },
    {
     "data": {
      "text/latex": [
       "$\\displaystyle spend_{usd, operate, wf, ntw, q3}=117000.0$"
      ],
      "text/plain": [
       "<IPython.core.display.Math object>"
      ]
     },
     "metadata": {},
     "output_type": "display_data"
    },
    {
     "data": {
      "text/latex": [
       "$\\displaystyle {prod}_{power, wf, ntw, q0}=60.0$"
      ],
      "text/plain": [
       "<IPython.core.display.Math object>"
      ]
     },
     "metadata": {},
     "output_type": "display_data"
    },
    {
     "data": {
      "text/latex": [
       "$\\displaystyle {prod}_{power, wf, ntw, q1}=70.0$"
      ],
      "text/plain": [
       "<IPython.core.display.Math object>"
      ]
     },
     "metadata": {},
     "output_type": "display_data"
    },
    {
     "data": {
      "text/latex": [
       "$\\displaystyle {prod}_{power, wf, ntw, q2}=100.0$"
      ],
      "text/plain": [
       "<IPython.core.display.Math object>"
      ]
     },
     "metadata": {},
     "output_type": "display_data"
    },
    {
     "data": {
      "text/latex": [
       "$\\displaystyle {prod}_{power, wf, ntw, q3}=30.0$"
      ],
      "text/plain": [
       "<IPython.core.display.Math object>"
      ]
     },
     "metadata": {},
     "output_type": "display_data"
    },
    {
     "data": {
      "text/latex": [
       "$\\displaystyle {expd}_{wind, wf, ntw, y0}=260.0$"
      ],
      "text/plain": [
       "<IPython.core.display.Math object>"
      ]
     },
     "metadata": {},
     "output_type": "display_data"
    },
    {
     "data": {
      "text/latex": [
       "$\\displaystyle {opr}_{wf, ntw, y0}=260.0$"
      ],
      "text/plain": [
       "<IPython.core.display.Math object>"
      ]
     },
     "metadata": {},
     "output_type": "display_data"
    },
    {
     "data": {
      "text/latex": [
       "$\\displaystyle spend_{usd, ntw, y0}=1081000.0$"
      ],
      "text/plain": [
       "<IPython.core.display.Math object>"
      ]
     },
     "metadata": {},
     "output_type": "display_data"
    },
    {
     "name": "stdout",
     "output_type": "stream",
     "text": [
      "\n"
     ]
    },
    {
     "data": {
      "text/markdown": [
       "## Constraint Slack"
      ],
      "text/plain": [
       "<IPython.core.display.Markdown object>"
      ]
     },
     "metadata": {},
     "output_type": "display_data"
    },
    {
     "data": {
      "text/latex": [
       "$\\displaystyle {cons}_{wind, ntw, y0} - 400.0=-140.0$"
      ],
      "text/plain": [
       "<IPython.core.display.Math object>"
      ]
     },
     "metadata": {},
     "output_type": "display_data"
    },
    {
     "data": {
      "text/latex": [
       "$\\displaystyle -{rlse}_{power, ntw, q0} + 60.0=0.0$"
      ],
      "text/plain": [
       "<IPython.core.display.Math object>"
      ]
     },
     "metadata": {},
     "output_type": "display_data"
    },
    {
     "data": {
      "text/latex": [
       "$\\displaystyle -{rlse}_{power, ntw, q1} + 70.0=0.0$"
      ],
      "text/plain": [
       "<IPython.core.display.Math object>"
      ]
     },
     "metadata": {},
     "output_type": "display_data"
    },
    {
     "data": {
      "text/latex": [
       "$\\displaystyle -{rlse}_{power, ntw, q2} + 100.0=0.0$"
      ],
      "text/plain": [
       "<IPython.core.display.Math object>"
      ]
     },
     "metadata": {},
     "output_type": "display_data"
    },
    {
     "data": {
      "text/latex": [
       "$\\displaystyle -{rlse}_{power, ntw, q3} + 30.0=0.0$"
      ],
      "text/plain": [
       "<IPython.core.display.Math object>"
      ]
     },
     "metadata": {},
     "output_type": "display_data"
    },
    {
     "data": {
      "text/latex": [
       "$\\displaystyle {opr}_{wf, ntw, q0} - 180.0=-120.0$"
      ],
      "text/plain": [
       "<IPython.core.display.Math object>"
      ]
     },
     "metadata": {},
     "output_type": "display_data"
    },
    {
     "data": {
      "text/latex": [
       "$\\displaystyle {opr}_{wf, ntw, q1} - 160.0=-90.0$"
      ],
      "text/plain": [
       "<IPython.core.display.Math object>"
      ]
     },
     "metadata": {},
     "output_type": "display_data"
    },
    {
     "data": {
      "text/latex": [
       "$\\displaystyle {opr}_{wf, ntw, q2} - 100.0=0.0$"
      ],
      "text/plain": [
       "<IPython.core.display.Math object>"
      ]
     },
     "metadata": {},
     "output_type": "display_data"
    },
    {
     "data": {
      "text/latex": [
       "$\\displaystyle {opr}_{wf, ntw, q3} - 140.0=-110.0$"
      ],
      "text/plain": [
       "<IPython.core.display.Math object>"
      ]
     },
     "metadata": {},
     "output_type": "display_data"
    }
   ],
   "source": [
    "m.sol()"
   ]
  },
  {
   "cell_type": "markdown",
   "id": "f6c3667c",
   "metadata": {},
   "source": [
    "### Individual\n",
    "\n",
    "The individual solutions can be obtained as list as well (using aslist = True)"
   ]
  },
  {
   "cell_type": "code",
   "execution_count": 23,
   "id": "168e31d2",
   "metadata": {},
   "outputs": [
    {
     "data": {
      "text/plain": [
       "[60.0, 70.0, 100.0, 30.0]"
      ]
     },
     "execution_count": 23,
     "metadata": {},
     "output_type": "execute_result"
    }
   ],
   "source": [
    "m.release.sol(True)"
   ]
  }
 ],
 "metadata": {
  "kernelspec": {
   "display_name": ".venv",
   "language": "python",
   "name": "python3"
  },
  "language_info": {
   "codemirror_mode": {
    "name": "ipython",
    "version": 3
   },
   "file_extension": ".py",
   "mimetype": "text/x-python",
   "name": "python",
   "nbconvert_exporter": "python",
   "pygments_lexer": "ipython3",
   "version": "3.12.5"
  }
 },
 "nbformat": 4,
 "nbformat_minor": 5
}
