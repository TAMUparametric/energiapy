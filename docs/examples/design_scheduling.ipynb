{
 "cells": [
  {
   "cell_type": "markdown",
   "id": "69e19c5b",
   "metadata": {},
   "source": [
    "# Multiscale MILP\n",
    "\n",
    "This is a continuation of 'One Location, One Temporal Scale, One Operation, Linear Programming Example' [Example 1]. Refer Example 1 to learn the basics on how Energia models processes. \n",
    "\n",
    "In this example, we add another Process [Solar PV] and Storage [Li-ion Battery]. Technology choice is modeled using binaries. Moreover, the model is multiscale as the operational capacities are decision variables. "
   ]
  },
  {
   "cell_type": "code",
   "execution_count": 1,
   "id": "81ad074e",
   "metadata": {},
   "outputs": [],
   "source": [
    "from energia import *\n",
    "\n",
    "m = Model('example2')\n",
    "m.q = Periods()\n",
    "m.y = 4 * m.q\n",
    "m.usd = Currency()"
   ]
  },
  {
   "cell_type": "markdown",
   "id": "a472f7e5",
   "metadata": {},
   "source": [
    "## Resources"
   ]
  },
  {
   "cell_type": "markdown",
   "id": "5ebced0e",
   "metadata": {},
   "source": [
    "### Conveniently declaring components\n",
    "\n",
    "Use m.declare(\\<Object Type\\>, \\<list of names\\>) to declare a large number of objects in one step."
   ]
  },
  {
   "cell_type": "code",
   "execution_count": 2,
   "id": "e9996b8f",
   "metadata": {},
   "outputs": [],
   "source": [
    "m.declare(Resource, ['power', 'wind', 'solar'])"
   ]
  },
  {
   "cell_type": "markdown",
   "id": "d43aca06",
   "metadata": {},
   "source": [
    "### Set bounds on Resource flows\n",
    "\n",
    "Unlike wind which has bound on the total consumption, we set a daily limit on solar energy. The same bound is repeated in each quarter. The following constraints are written.\n",
    "\n",
    "$\\mathbf{cons}_{solar, network, quarter_0} \\leq 100$\n",
    "\n",
    "$\\mathbf{cons}_{solar, network, quarter_1} \\leq 100$\n",
    "\n",
    "$\\mathbf{cons}_{solar, network, quarter_2} \\leq 100$\n",
    "\n",
    "$\\mathbf{cons}_{solar, network, quarter_3} \\leq 100$"
   ]
  },
  {
   "cell_type": "code",
   "execution_count": 3,
   "id": "45ebb26f",
   "metadata": {},
   "outputs": [
    {
     "name": "stderr",
     "output_type": "stream",
     "text": [
      "2025-10-23 12:40:54,422 [INFO] Balance for solar in (l0, q): initializing\n",
      "2025-10-23 12:40:54,423 [INFO] ✔ Completed in 0.00023627281188964844 seconds\n",
      "2025-10-23 12:40:54,424 [INFO] Binding consume in domain (solar, l0, q)\n",
      "2025-10-23 12:40:54,425 [INFO] ✔ Completed in 0.00016450881958007812 seconds\n",
      "2025-10-23 12:40:54,425 [INFO] Balance for wind in (l0, y): initializing\n",
      "2025-10-23 12:40:54,426 [INFO] ✔ Completed in 0.00011801719665527344 seconds\n",
      "2025-10-23 12:40:54,426 [INFO] Binding consume in domain (wind, l0, y)\n",
      "2025-10-23 12:40:54,427 [INFO] ✔ Completed in 0.0001010894775390625 seconds\n",
      "2025-10-23 12:40:54,428 [INFO] Balance for power in (l0, q): initializing\n",
      "2025-10-23 12:40:54,428 [INFO] ✔ Completed in 0.0001533031463623047 seconds\n",
      "2025-10-23 12:40:54,428 [INFO] Binding release in domain (power, l0, q)\n",
      "2025-10-23 12:40:54,429 [INFO] ✔ Completed in 0.00018668174743652344 seconds\n"
     ]
    }
   ],
   "source": [
    "m.solar.consume(m.q) <= 100\n",
    "m.wind.consume <= 400\n",
    "m.power.release.prep(180) >= [0.6, 0.7, 0.8, 0.3]"
   ]
  },
  {
   "cell_type": "markdown",
   "id": "89269641",
   "metadata": {},
   "source": [
    "## Operations "
   ]
  },
  {
   "cell_type": "markdown",
   "id": "e21925d4",
   "metadata": {},
   "source": [
    "### Capacity as a variable \n",
    "\n",
    "Here we want the optimization problem to determine the optimal capacity. Moreover, we set binaries to avoid the lower bound being adhered to if the process is not set up. \n",
    "\n",
    "If the bounds are meant to be compulsory limits, skip the .x "
   ]
  },
  {
   "cell_type": "code",
   "execution_count": 4,
   "id": "77f192a1",
   "metadata": {},
   "outputs": [
    {
     "name": "stderr",
     "output_type": "stream",
     "text": [
      "2025-10-23 12:40:54,435 [INFO] Binding capacity in domain (wf, l0, y)\n",
      "2025-10-23 12:40:54,435 [INFO] ✔ Completed in 0.00021958351135253906 seconds\n",
      "2025-10-23 12:40:54,436 [INFO] Binding capacity in domain (wf, l0, y)\n",
      "2025-10-23 12:40:54,437 [INFO] ✔ Completed in 0.00023174285888671875 seconds\n"
     ]
    },
    {
     "data": {
      "text/latex": [
       "$\\displaystyle [6]\\text{   }{{{cap}}}_{wf, l0, y} - 100 \\cdot {{{\\breve{{cap}}}}}_{wf, l0, y} \\leq 0$"
      ],
      "text/plain": [
       "<IPython.core.display.Math object>"
      ]
     },
     "metadata": {},
     "output_type": "display_data"
    },
    {
     "data": {
      "text/latex": [
       "$\\displaystyle [7]\\text{   }10 \\cdot {{{\\breve{{cap}}}}}_{wf, l0, y} - {{{cap}}}_{wf, l0, y} \\leq 0$"
      ],
      "text/plain": [
       "<IPython.core.display.Math object>"
      ]
     },
     "metadata": {},
     "output_type": "display_data"
    }
   ],
   "source": [
    "m.wf = Process()\n",
    "m.wf(m.power) == -1 * m.wind\n",
    "m.wf.capacity.x <= 100\n",
    "m.wf.capacity.x >= 10\n",
    "m.capacity.show()"
   ]
  },
  {
   "cell_type": "markdown",
   "id": "30670b61",
   "metadata": {},
   "source": [
    "Unlike in Example 1, where the capacity was know, capacity is a variable here. \n",
    "\n",
    "Moreover, the expenditure associated with operating and capacitating are different"
   ]
  },
  {
   "cell_type": "code",
   "execution_count": 5,
   "id": "a45c766c",
   "metadata": {},
   "outputs": [
    {
     "name": "stderr",
     "output_type": "stream",
     "text": [
      "2025-10-23 12:40:54,447 [INFO] Binding operate in domain (wf, l0, q)\n",
      "2025-10-23 12:40:54,447 [INFO] ✔ Completed in 0.0002779960632324219 seconds\n",
      "2025-10-23 12:40:54,449 [INFO] Mapping operate: (wf, l0, q) → (wf, l0, y)\n",
      "2025-10-23 12:40:54,450 [INFO] ✔ Completed in 0.0001456737518310547 seconds\n"
     ]
    },
    {
     "data": {
      "text/latex": [
       "$\\displaystyle [20]\\text{   }{{{opr}}}_{wf, l0, q{0}} - 1.0 \\cdot {{{cap}}}_{wf, l0, y{0}} \\leq 0$"
      ],
      "text/plain": [
       "<IPython.core.display.Math object>"
      ]
     },
     "metadata": {},
     "output_type": "display_data"
    },
    {
     "data": {
      "text/latex": [
       "$\\displaystyle [21]\\text{   }{{{opr}}}_{wf, l0, q{1}} - 0.888888888888889 \\cdot {{{cap}}}_{wf, l0, y{0}} \\leq 0$"
      ],
      "text/plain": [
       "<IPython.core.display.Math object>"
      ]
     },
     "metadata": {},
     "output_type": "display_data"
    },
    {
     "data": {
      "text/latex": [
       "$\\displaystyle [22]\\text{   }{{{opr}}}_{wf, l0, q{2}} - 0.5555555555555556 \\cdot {{{cap}}}_{wf, l0, y{0}} \\leq 0$"
      ],
      "text/plain": [
       "<IPython.core.display.Math object>"
      ]
     },
     "metadata": {},
     "output_type": "display_data"
    },
    {
     "data": {
      "text/latex": [
       "$\\displaystyle [23]\\text{   }{{{opr}}}_{wf, l0, q{3}} - 0.7777777777777777 \\cdot {{{cap}}}_{wf, l0, y{0}} \\leq 0$"
      ],
      "text/plain": [
       "<IPython.core.display.Math object>"
      ]
     },
     "metadata": {},
     "output_type": "display_data"
    },
    {
     "data": {
      "text/latex": [
       "$\\displaystyle [25]\\text{   }{{{opr}}}_{wf, l0, y{0}} - \\sum_{i \\in q} {{{opr}}}_{wf, l0, i} = 0$"
      ],
      "text/plain": [
       "<IPython.core.display.Math object>"
      ]
     },
     "metadata": {},
     "output_type": "display_data"
    },
    {
     "data": {
      "text/latex": [
       "$\\displaystyle [26]\\text{   }{{spend}}_{usd, l0, y{0}, operate, wf} - 49.0 \\cdot {{{opr}}}_{wf, l0, y{0}} = 0$"
      ],
      "text/plain": [
       "<IPython.core.display.Math object>"
      ]
     },
     "metadata": {},
     "output_type": "display_data"
    }
   ],
   "source": [
    "m.wf.operate.prep(norm=True) <= [0.9, 0.8, 0.5, 0.7]\n",
    "m.wf.capacity[m.usd.spend] == 990637 + 3354\n",
    "m.wf.operate[m.usd.spend] == 49\n",
    "m.operate.show(True)"
   ]
  },
  {
   "cell_type": "code",
   "execution_count": 6,
   "id": "11fa2491",
   "metadata": {},
   "outputs": [
    {
     "name": "stderr",
     "output_type": "stream",
     "text": [
      "2025-10-23 12:40:54,461 [INFO] Binding capacity in domain (pv, l0, y)\n",
      "2025-10-23 12:40:54,461 [INFO] ✔ Completed in 0.0002353191375732422 seconds\n",
      "2025-10-23 12:40:54,462 [INFO] Binding capacity in domain (pv, l0, y)\n",
      "2025-10-23 12:40:54,463 [INFO] ✔ Completed in 0.00020384788513183594 seconds\n",
      "2025-10-23 12:40:54,463 [INFO] Binding operate in domain (pv, l0, q)\n",
      "2025-10-23 12:40:54,464 [INFO] ✔ Completed in 0.00026917457580566406 seconds\n",
      "2025-10-23 12:40:54,466 [INFO] Mapping operate: (pv, l0, q) → (pv, l0, y)\n",
      "2025-10-23 12:40:54,467 [INFO] ✔ Completed in 0.0001461505889892578 seconds\n"
     ]
    }
   ],
   "source": [
    "m.pv = Process()\n",
    "m.pv(m.power) == -1 * m.solar\n",
    "m.pv.capacity.x <= 100\n",
    "m.pv.capacity.x >= 10\n",
    "\n",
    "m.pv.operate.prep(norm=True) <= [0.6, 0.8, 0.9, 0.7]\n",
    "m.pv.capacity[m.usd.spend] == 567000 + 872046\n",
    "m.pv.operate[m.usd.spend] == 90000"
   ]
  },
  {
   "cell_type": "markdown",
   "id": "66c1382e",
   "metadata": {},
   "source": [
    "### Storage Operation\n",
    "\n",
    "energia now allows storing to require the use of other resources, example power for hydrogen cryogenic storage. \n",
    "\n",
    "Provide an equation similar to Process, in this case the basis is the stored resource \n",
    "If no other resource is provided, it is assumed to be the charging/discharging efficiency\n",
    "\n",
    "Note that the following are created internally: \n",
    "1. auxilary resource  with name resource.stored \n",
    "2. charging and discharging processes as storage.charge and storage.discharge \n",
    "\n",
    "The parameters for each of these can be set individually, thus allowing for a wide range of modeling approaches "
   ]
  },
  {
   "cell_type": "code",
   "execution_count": 7,
   "id": "443ea12a",
   "metadata": {},
   "outputs": [
    {
     "name": "stderr",
     "output_type": "stream",
     "text": [
      "2025-10-23 12:40:54,473 [INFO] Binding invcapacity in domain (lii.stored, l0, y)\n",
      "2025-10-23 12:40:54,474 [INFO] ✔ Completed in 0.0003399848937988281 seconds\n",
      "2025-10-23 12:40:54,474 [INFO] Binding invcapacity in domain (lii.stored, l0, y)\n",
      "2025-10-23 12:40:54,475 [INFO] ✔ Completed in 0.0002455711364746094 seconds\n",
      "2025-10-23 12:40:54,476 [INFO] Balance for lii.stored in (l0, y): initializing\n"
     ]
    }
   ],
   "source": [
    "m.lii = Storage()\n",
    "\n",
    "m.lii(m.power) == 0.9\n",
    "m.lii.capacity.x <= 100\n",
    "m.lii.capacity.x >= 10\n",
    "\n",
    "# m.lii.capacity >= 10\n",
    "m.lii.capacity[m.usd.spend] == 1302182 + 41432\n",
    "\n",
    "m.lii.inventory[m.usd.spend] == 2000\n"
   ]
  },
  {
   "cell_type": "markdown",
   "id": "e68b8abc",
   "metadata": {},
   "source": [
    "## Locating Operations\n",
    "\n",
    "Operations can be located as \n",
    "\n",
    "operation.locate(\\<list of locations\\>)\n",
    "\n",
    "or \n",
    "\n",
    "m.location.operations(\\<list of operations\\>)\n",
    "\n",
    "They both do the same thing "
   ]
  },
  {
   "cell_type": "code",
   "execution_count": 8,
   "id": "de5f6124",
   "metadata": {},
   "outputs": [
    {
     "data": {
      "text/plain": [
       "η(pem, power)"
      ]
     },
     "execution_count": 8,
     "metadata": {},
     "output_type": "execute_result"
    }
   ],
   "source": [
    "m.pem = Process()\n",
    "\n",
    "m.pem(-m.power) == m.solar "
   ]
  },
  {
   "cell_type": "code",
   "execution_count": 9,
   "id": "65247cfa",
   "metadata": {},
   "outputs": [
    {
     "name": "stderr",
     "output_type": "stream",
     "text": [
      "2025-10-23 12:40:54,489 [INFO] Balance for power in (l0, q): adding produce(power, l0, q, operate, pv)\n",
      "2025-10-23 12:40:54,490 [INFO] ✔ Completed in 0.000202178955078125 seconds\n",
      "2025-10-23 12:40:54,491 [INFO] Balance for solar in (l0, q): adding expend(solar, l0, q, operate, pv)\n",
      "2025-10-23 12:40:54,492 [INFO] ✔ Completed in 0.0003762245178222656 seconds\n",
      "2025-10-23 12:40:54,493 [INFO] Balance for power in (l0, q): adding produce(power, l0, q, operate, wf)\n",
      "2025-10-23 12:40:54,494 [INFO] ✔ Completed in 0.00018644332885742188 seconds\n",
      "2025-10-23 12:40:54,495 [INFO] Balance for wind in (l0, y): adding expend(wind, l0, y, operate, wf)\n",
      "2025-10-23 12:40:54,495 [INFO] ✔ Completed in 0.00014591217041015625 seconds\n",
      "2025-10-23 12:40:54,496 [INFO] Assuming  lii.stored inventory capacity is unbounded in (l0, y)\n",
      "2025-10-23 12:40:54,496 [INFO] Assuming inventory of lii.stored is unbounded in (l0, y)\n",
      "2025-10-23 12:40:54,497 [INFO] Assuming inventory of lii.stored is bound by inventory capacity in (l0, q)\n",
      "2025-10-23 12:40:54,497 [INFO] Mapping inventory: (lii.stored, l0, q) → (lii.stored, l0, y)\n",
      "2025-10-23 12:40:54,498 [INFO] ✔ Completed in 0.00011849403381347656 seconds\n",
      "2025-10-23 12:40:54,498 [INFO] Balance for lii.stored in (l0, q): initializing\n",
      "2025-10-23 12:40:54,499 [INFO] ✔ Completed in 0.00030159950256347656 seconds\n",
      "2025-10-23 12:40:54,499 [INFO] Binding inventory in domain (lii.stored, l0, q)\n",
      "2025-10-23 12:40:54,500 [INFO] ✔ Completed in 0.0001842975616455078 seconds\n",
      "2025-10-23 12:40:54,500 [INFO] Assuming  lii.charge capacity is unbounded in (l0, y)\n",
      "2025-10-23 12:40:54,501 [INFO] Assuming operation of lii.charge is bound by capacity in (l0, y)\n",
      "2025-10-23 12:40:54,501 [INFO] Binding operate in domain (lii.charge, l0, y)\n",
      "2025-10-23 12:40:54,502 [INFO] ✔ Completed in 0.0001385211944580078 seconds\n",
      "2025-10-23 12:40:54,502 [INFO] Balance for lii.stored in (l0, q): adding produce(lii.stored, l0, q, operate, lii.charge)\n",
      "2025-10-23 12:40:54,503 [INFO] ✔ Completed in 0.0001537799835205078 seconds\n",
      "2025-10-23 12:40:54,504 [INFO] Mapping operate: (lii.charge, l0, q) → (lii.charge, l0, y)\n",
      "2025-10-23 12:40:54,504 [INFO] ✔ Completed in 9.989738464355469e-05 seconds\n",
      "2025-10-23 12:40:54,505 [INFO] Balance for power in (l0, q): adding expend(power, l0, q, operate, lii.charge)\n",
      "2025-10-23 12:40:54,505 [INFO] ✔ Completed in 0.0001704692840576172 seconds\n",
      "2025-10-23 12:40:54,506 [INFO] Assuming  lii.discharge capacity is unbounded in (l0, y)\n",
      "2025-10-23 12:40:54,506 [INFO] Assuming operation of lii.discharge is bound by capacity in (l0, y)\n",
      "2025-10-23 12:40:54,507 [INFO] Binding operate in domain (lii.discharge, l0, y)\n",
      "2025-10-23 12:40:54,507 [INFO] ✔ Completed in 0.00010752677917480469 seconds\n",
      "2025-10-23 12:40:54,508 [INFO] Balance for power in (l0, q): adding produce(power, l0, q, operate, lii.discharge)\n",
      "2025-10-23 12:40:54,508 [INFO] ✔ Completed in 0.00017309188842773438 seconds\n",
      "2025-10-23 12:40:54,509 [INFO] Mapping operate: (lii.discharge, l0, q) → (lii.discharge, l0, y)\n",
      "2025-10-23 12:40:54,510 [INFO] ✔ Completed in 0.00011587142944335938 seconds\n",
      "2025-10-23 12:40:54,510 [INFO] Balance for lii.stored in (l0, q): adding expend(lii.stored, l0, q, operate, lii.discharge)\n",
      "2025-10-23 12:40:54,511 [INFO] ✔ Completed in 0.00016570091247558594 seconds\n"
     ]
    }
   ],
   "source": [
    "m.pv.locate(m.network)\n",
    "m.network.locate(m.wf, m.lii)"
   ]
  },
  {
   "cell_type": "markdown",
   "id": "85f87873",
   "metadata": {},
   "source": [
    "## Inventory Balance\n",
    "\n",
    "Inventory is passed on from one time period (t - 1) to the next (t) and hence features in the general resource balance for resource.stored "
   ]
  },
  {
   "cell_type": "markdown",
   "id": "165e3543",
   "metadata": {},
   "source": []
  },
  {
   "cell_type": "code",
   "execution_count": 10,
   "id": "f44a61c2",
   "metadata": {},
   "outputs": [
    {
     "data": {
      "text/latex": [
       "$\\displaystyle [21]\\text{   }{{{spend}}}_{usd, l0, y, {inventory}, lii.stored} - 2000 \\cdot {{{inv}}}_{lii.stored, l0, y} = 0$"
      ],
      "text/plain": [
       "<IPython.core.display.Math object>"
      ]
     },
     "metadata": {},
     "output_type": "display_data"
    },
    {
     "data": {
      "text/latex": [
       "$\\displaystyle [26]\\text{   }{{{{inv}}}}_{lii.stored, l0, y} - \\sum_{i \\in q} {{{{inv}}}}_{lii.stored, l0, i} = 0$"
      ],
      "text/plain": [
       "<IPython.core.display.Math object>"
      ]
     },
     "metadata": {},
     "output_type": "display_data"
    },
    {
     "data": {
      "text/latex": [
       "$\\displaystyle [27]\\text{   }-{{{{inv}}}}_{lii.stored, l0, q} + {{{{inv}}}}_{lii.stored, l0, q-1} + {{{prod}}}_{lii.stored, l0, q, {operate}, lii.charge} - {{{{expd}}}}_{lii.stored, l0, q, {operate}, lii.discharge} = 0$"
      ],
      "text/plain": [
       "<IPython.core.display.Math object>"
      ]
     },
     "metadata": {},
     "output_type": "display_data"
    },
    {
     "data": {
      "text/latex": [
       "$\\displaystyle [28]\\text{   }{{{{inv}}}}_{lii.stored, l0, q} - {{{icap}}}_{lii.stored, l0, y} \\leq 0$"
      ],
      "text/plain": [
       "<IPython.core.display.Math object>"
      ]
     },
     "metadata": {},
     "output_type": "display_data"
    }
   ],
   "source": [
    "m.inventory.show()"
   ]
  },
  {
   "cell_type": "markdown",
   "id": "64c93a46",
   "metadata": {},
   "source": [
    "## Optimize!"
   ]
  },
  {
   "cell_type": "code",
   "execution_count": 11,
   "id": "b2d5463b",
   "metadata": {},
   "outputs": [
    {
     "name": "stderr",
     "output_type": "stream",
     "text": [
      "2025-10-23 12:40:54,525 [INFO] Mapping spend: (usd, l0, y, capacity, wf) → (usd, l0, y)\n",
      "2025-10-23 12:40:54,526 [INFO] ✔ Completed in 0.0001647472381591797 seconds\n",
      "2025-10-23 12:40:54,527 [INFO] Mapping spend: (usd, l0, y, operate, wf) → (usd, l0, y)\n",
      "2025-10-23 12:40:54,527 [INFO] ✔ Completed in 0.0001392364501953125 seconds\n",
      "2025-10-23 12:40:54,527 [INFO] Mapping spend: (usd, l0, y, capacity, pv) → (usd, l0, y)\n",
      "2025-10-23 12:40:54,528 [INFO] ✔ Completed in 0.00015878677368164062 seconds\n",
      "2025-10-23 12:40:54,529 [INFO] Mapping spend: (usd, l0, y, operate, pv) → (usd, l0, y)\n",
      "2025-10-23 12:40:54,529 [INFO] ✔ Completed in 0.00013709068298339844 seconds\n",
      "2025-10-23 12:40:54,530 [INFO] Mapping spend: (usd, l0, y, invcapacity, lii.stored) → (usd, l0, y)\n",
      "2025-10-23 12:40:54,530 [INFO] ✔ Completed in 0.00011944770812988281 seconds\n",
      "2025-10-23 12:40:54,531 [INFO] Mapping spend: (usd, l0, y, inventory, lii.stored) → (usd, l0, y)\n",
      "2025-10-23 12:40:54,531 [INFO] ✔ Completed in 0.00013256072998046875 seconds\n",
      "2025-10-23 12:40:54,532 [INFO] Generating Program(example2).mps\n",
      "2025-10-23 12:40:54,538 [INFO] Creating gurobi model for Program(example2)\n"
     ]
    },
    {
     "name": "stdout",
     "output_type": "stream",
     "text": [
      "Set parameter Username\n",
      "Academic license - for non-commercial use only - expires 2026-08-01\n",
      "Read MPS format model from file Program(example2).mps\n",
      "Reading time = 0.01 seconds\n",
      "PROGRAM(EXAMPLE2): 83 rows, 78 columns, 196 nonzeros\n"
     ]
    },
    {
     "name": "stderr",
     "output_type": "stream",
     "text": [
      "2025-10-23 12:40:54,544 [INFO] Optimizing Program(example2) using gurobi\n"
     ]
    },
    {
     "name": "stdout",
     "output_type": "stream",
     "text": [
      "Gurobi Optimizer version 12.0.3 build v12.0.3rc0 (win64 - Windows 11.0 (26100.2))\n",
      "\n",
      "CPU model: 13th Gen Intel(R) Core(TM) i7-13700, instruction set [SSE2|AVX|AVX2]\n",
      "Thread count: 16 physical cores, 24 logical processors, using up to 24 threads\n",
      "\n",
      "Optimize a model with 83 rows, 78 columns and 196 nonzeros\n",
      "Model fingerprint: 0xc4ff6a31\n",
      "Variable types: 75 continuous, 3 integer (3 binary)\n",
      "Coefficient statistics:\n",
      "  Matrix range     [6e-01, 1e+06]\n",
      "  Objective range  [1e+00, 1e+00]\n",
      "  Bounds range     [1e+00, 1e+00]\n",
      "  RHS range        [7e+01, 4e+02]\n",
      "Presolve removed 71 rows and 66 columns\n",
      "Presolve time: 0.00s\n",
      "Presolved: 12 rows, 12 columns, 34 nonzeros\n",
      "Variable types: 12 continuous, 0 integer (0 binary)\n",
      "\n",
      "Root relaxation: objective 3.006497e+08, 6 iterations, 0.00 seconds (0.00 work units)\n",
      "\n",
      "    Nodes    |    Current Node    |     Objective Bounds      |     Work\n",
      " Expl Unexpl |  Obj  Depth IntInf | Incumbent    BestBd   Gap | It/Node Time\n",
      "\n",
      "*    0     0               0    3.006497e+08 3.0065e+08  0.00%     -    0s\n",
      "\n",
      "Explored 1 nodes (6 simplex iterations) in 0.01 seconds (0.00 work units)\n",
      "Thread count was 24 (of 24 available processors)\n",
      "\n",
      "Solution count 1: 3.0065e+08 \n",
      "\n",
      "Optimal solution found (tolerance 1.00e-04)\n",
      "Best objective 3.006497358951e+08, best bound 3.006497358951e+08, gap 0.0000%\n"
     ]
    },
    {
     "name": "stderr",
     "output_type": "stream",
     "text": [
      "2025-10-23 12:40:54,557 [INFO] Solution found. Use .output() to display it\n",
      "2025-10-23 12:40:54,557 [INFO] Creating Solution object, check.solution\n"
     ]
    }
   ],
   "source": [
    "m.usd.spend.opt()"
   ]
  },
  {
   "cell_type": "markdown",
   "id": "8ad83832",
   "metadata": {},
   "source": [
    "## Solution"
   ]
  },
  {
   "cell_type": "markdown",
   "id": "ac8bf947",
   "metadata": {},
   "source": [
    "### Inventory Profiles\n",
    "\n",
    "The inventory maintained in each time period is:"
   ]
  },
  {
   "cell_type": "code",
   "execution_count": 12,
   "id": "f67de1d4",
   "metadata": {},
   "outputs": [
    {
     "data": {
      "text/latex": [
       "$\\displaystyle {{{inv}}}_{lii.stored, l0, y{0}}=34.04320987654302$"
      ],
      "text/plain": [
       "<IPython.core.display.Math object>"
      ]
     },
     "metadata": {},
     "output_type": "display_data"
    },
    {
     "data": {
      "text/latex": [
       "$\\displaystyle {{{inv}}}_{lii.stored, l0, q{0}}=6.882716049382594$"
      ],
      "text/plain": [
       "<IPython.core.display.Math object>"
      ]
     },
     "metadata": {},
     "output_type": "display_data"
    },
    {
     "data": {
      "text/latex": [
       "$\\displaystyle {{{inv}}}_{lii.stored, l0, q{1}}=27.160493827160423$"
      ],
      "text/plain": [
       "<IPython.core.display.Math object>"
      ]
     },
     "metadata": {},
     "output_type": "display_data"
    },
    {
     "data": {
      "text/latex": [
       "$\\displaystyle {{{inv}}}_{lii.stored, l0, q{2}}=0.0$"
      ],
      "text/plain": [
       "<IPython.core.display.Math object>"
      ]
     },
     "metadata": {},
     "output_type": "display_data"
    },
    {
     "data": {
      "text/latex": [
       "$\\displaystyle {{{inv}}}_{lii.stored, l0, q{3}}=0.0$"
      ],
      "text/plain": [
       "<IPython.core.display.Math object>"
      ]
     },
     "metadata": {},
     "output_type": "display_data"
    }
   ],
   "source": [
    "m.inventory.output()"
   ]
  },
  {
   "cell_type": "markdown",
   "id": "2c042bdb",
   "metadata": {},
   "source": [
    "The amount charged into inventory is:"
   ]
  },
  {
   "cell_type": "code",
   "execution_count": 13,
   "id": "fe91fb8f",
   "metadata": {},
   "outputs": [
    {
     "data": {
      "text/latex": [
       "$\\displaystyle {{prod}}_{lii.stored, l0, q{0}, operate, lii.charge}=6.882716049382594$"
      ],
      "text/plain": [
       "<IPython.core.display.Math object>"
      ]
     },
     "metadata": {},
     "output_type": "display_data"
    },
    {
     "data": {
      "text/latex": [
       "$\\displaystyle {{prod}}_{lii.stored, l0, q{1}, operate, lii.charge}=20.27777777777778$"
      ],
      "text/plain": [
       "<IPython.core.display.Math object>"
      ]
     },
     "metadata": {},
     "output_type": "display_data"
    },
    {
     "data": {
      "text/latex": [
       "$\\displaystyle {{prod}}_{lii.stored, l0, q{2}, operate, lii.charge}=0.0$"
      ],
      "text/plain": [
       "<IPython.core.display.Math object>"
      ]
     },
     "metadata": {},
     "output_type": "display_data"
    },
    {
     "data": {
      "text/latex": [
       "$\\displaystyle {{prod}}_{lii.stored, l0, q{3}, operate, lii.charge}=0.0$"
      ],
      "text/plain": [
       "<IPython.core.display.Math object>"
      ]
     },
     "metadata": {},
     "output_type": "display_data"
    }
   ],
   "source": [
    "m.produce(m.power.lii, m.lii.charge.operate, m.q).output()"
   ]
  },
  {
   "cell_type": "markdown",
   "id": "946d48b7",
   "metadata": {},
   "source": [
    "The amount discharged from inventory is:"
   ]
  },
  {
   "cell_type": "code",
   "execution_count": 14,
   "id": "00d675ad",
   "metadata": {},
   "outputs": [
    {
     "data": {
      "text/latex": [
       "$\\displaystyle {{prod}}_{power, l0, q{0}, operate, lii.discharge}=0.0$"
      ],
      "text/plain": [
       "<IPython.core.display.Math object>"
      ]
     },
     "metadata": {},
     "output_type": "display_data"
    },
    {
     "data": {
      "text/latex": [
       "$\\displaystyle {{prod}}_{power, l0, q{1}, operate, lii.discharge}=0.0$"
      ],
      "text/plain": [
       "<IPython.core.display.Math object>"
      ]
     },
     "metadata": {},
     "output_type": "display_data"
    },
    {
     "data": {
      "text/latex": [
       "$\\displaystyle {{prod}}_{power, l0, q{2}, operate, lii.discharge}=24.444444444444443$"
      ],
      "text/plain": [
       "<IPython.core.display.Math object>"
      ]
     },
     "metadata": {},
     "output_type": "display_data"
    },
    {
     "data": {
      "text/latex": [
       "$\\displaystyle {{prod}}_{power, l0, q{3}, operate, lii.discharge}=0.0$"
      ],
      "text/plain": [
       "<IPython.core.display.Math object>"
      ]
     },
     "metadata": {},
     "output_type": "display_data"
    }
   ],
   "source": [
    "m.produce(m.power, m.lii.discharge.operate, m.q).output()"
   ]
  },
  {
   "cell_type": "markdown",
   "id": "f152fbfc",
   "metadata": {},
   "source": [
    "### Integer Decisions \n",
    "\n",
    "All the operations are setup in this case"
   ]
  },
  {
   "cell_type": "code",
   "execution_count": 15,
   "id": "7ba53e91",
   "metadata": {},
   "outputs": [
    {
     "data": {
      "text/latex": [
       "$\\displaystyle {{{\\breve{{cap}}}}}_{wf, l0, y{0}}=1.0$"
      ],
      "text/plain": [
       "<IPython.core.display.Math object>"
      ]
     },
     "metadata": {},
     "output_type": "display_data"
    },
    {
     "data": {
      "text/latex": [
       "$\\displaystyle {{{\\breve{{cap}}}}}_{pv, l0, y{0}}=1.0$"
      ],
      "text/plain": [
       "<IPython.core.display.Math object>"
      ]
     },
     "metadata": {},
     "output_type": "display_data"
    }
   ],
   "source": [
    "m.capacity.reporting.output()"
   ]
  },
  {
   "cell_type": "code",
   "execution_count": 16,
   "id": "dafa2788",
   "metadata": {},
   "outputs": [
    {
     "data": {
      "text/latex": [
       "$\\displaystyle {{{cap}}}_{wf, l0, y{0}}=100.0$"
      ],
      "text/plain": [
       "<IPython.core.display.Math object>"
      ]
     },
     "metadata": {},
     "output_type": "display_data"
    },
    {
     "data": {
      "text/latex": [
       "$\\displaystyle {{{cap}}}_{pv, l0, y{0}}=100.0$"
      ],
      "text/plain": [
       "<IPython.core.display.Math object>"
      ]
     },
     "metadata": {},
     "output_type": "display_data"
    },
    {
     "data": {
      "text/latex": [
       "$\\displaystyle {{{cap}}}_{lii.charge, l0, y{0}}=27.160493827160423$"
      ],
      "text/plain": [
       "<IPython.core.display.Math object>"
      ]
     },
     "metadata": {},
     "output_type": "display_data"
    },
    {
     "data": {
      "text/latex": [
       "$\\displaystyle {{{cap}}}_{lii.discharge, l0, y{0}}=24.444444444444443$"
      ],
      "text/plain": [
       "<IPython.core.display.Math object>"
      ]
     },
     "metadata": {},
     "output_type": "display_data"
    }
   ],
   "source": [
    "m.capacity.output()"
   ]
  },
  {
   "cell_type": "code",
   "execution_count": 17,
   "id": "3f5ccccb",
   "metadata": {},
   "outputs": [
    {
     "data": {
      "text/markdown": [
       "# Mathematical Program for Program(example2)"
      ],
      "text/plain": [
       "<IPython.core.display.Markdown object>"
      ]
     },
     "metadata": {},
     "output_type": "display_data"
    },
    {
     "data": {
      "text/markdown": [
       "<br><br>"
      ],
      "text/plain": [
       "<IPython.core.display.Markdown object>"
      ]
     },
     "metadata": {},
     "output_type": "display_data"
    },
    {
     "data": {
      "text/markdown": [
       "## Index Sets"
      ],
      "text/plain": [
       "<IPython.core.display.Markdown object>"
      ]
     },
     "metadata": {},
     "output_type": "display_data"
    },
    {
     "data": {
      "text/latex": [
       "$\\displaystyle currencies = \\{ usd \\}$"
      ],
      "text/plain": [
       "<IPython.core.display.Math object>"
      ]
     },
     "metadata": {},
     "output_type": "display_data"
    },
    {
     "data": {
      "text/latex": [
       "$\\displaystyle resources = \\{ power, wind, solar, lii.stored \\}$"
      ],
      "text/plain": [
       "<IPython.core.display.Math object>"
      ]
     },
     "metadata": {},
     "output_type": "display_data"
    },
    {
     "data": {
      "text/latex": [
       "$\\displaystyle locations = \\{ l0 \\}$"
      ],
      "text/plain": [
       "<IPython.core.display.Math object>"
      ]
     },
     "metadata": {},
     "output_type": "display_data"
    },
    {
     "data": {
      "text/latex": [
       "$\\displaystyle q = \\{ {q_{0}}, {q_{1}}, {q_{2}}, {q_{3}} \\}$"
      ],
      "text/plain": [
       "<IPython.core.display.Math object>"
      ]
     },
     "metadata": {},
     "output_type": "display_data"
    },
    {
     "data": {
      "text/latex": [
       "$\\displaystyle y = \\{ {y_{0}} \\}$"
      ],
      "text/plain": [
       "<IPython.core.display.Math object>"
      ]
     },
     "metadata": {},
     "output_type": "display_data"
    },
    {
     "data": {
      "text/latex": [
       "$\\displaystyle processes = \\{ wf, pv, lii.charge, lii.discharge, pem \\}$"
      ],
      "text/plain": [
       "<IPython.core.display.Math object>"
      ]
     },
     "metadata": {},
     "output_type": "display_data"
    },
    {
     "data": {
      "text/latex": [
       "$\\displaystyle storages = \\{ lii \\}$"
      ],
      "text/plain": [
       "<IPython.core.display.Math object>"
      ]
     },
     "metadata": {},
     "output_type": "display_data"
    },
    {
     "data": {
      "text/markdown": [
       "<br><br>"
      ],
      "text/plain": [
       "<IPython.core.display.Markdown object>"
      ]
     },
     "metadata": {},
     "output_type": "display_data"
    },
    {
     "data": {
      "text/markdown": [
       "## Objective"
      ],
      "text/plain": [
       "<IPython.core.display.Markdown object>"
      ]
     },
     "metadata": {},
     "output_type": "display_data"
    },
    {
     "data": {
      "text/latex": [
       "$\\displaystyle min \\hspace{0.2cm} {{spend}}_{usd, l0, y{0}}$"
      ],
      "text/plain": [
       "<IPython.core.display.Math object>"
      ]
     },
     "metadata": {},
     "output_type": "display_data"
    },
    {
     "data": {
      "text/markdown": [
       "<br><br>"
      ],
      "text/plain": [
       "<IPython.core.display.Markdown object>"
      ]
     },
     "metadata": {},
     "output_type": "display_data"
    },
    {
     "data": {
      "text/markdown": [
       "## s.t."
      ],
      "text/plain": [
       "<IPython.core.display.Markdown object>"
      ]
     },
     "metadata": {},
     "output_type": "display_data"
    },
    {
     "data": {
      "text/markdown": [
       "### Balance Constraints"
      ],
      "text/plain": [
       "<IPython.core.display.Markdown object>"
      ]
     },
     "metadata": {},
     "output_type": "display_data"
    },
    {
     "data": {
      "text/latex": [
       "$\\displaystyle [29]\\text{   }{{{cons}}}_{solar, l0, q{0}} - {{{expd}}}_{solar, l0, q{0}, operate, pv} = 0$"
      ],
      "text/plain": [
       "<IPython.core.display.Math object>"
      ]
     },
     "metadata": {},
     "output_type": "display_data"
    },
    {
     "data": {
      "text/latex": [
       "$\\displaystyle [30]\\text{   }{{{cons}}}_{solar, l0, q{1}} - {{{expd}}}_{solar, l0, q{1}, operate, pv} = 0$"
      ],
      "text/plain": [
       "<IPython.core.display.Math object>"
      ]
     },
     "metadata": {},
     "output_type": "display_data"
    },
    {
     "data": {
      "text/latex": [
       "$\\displaystyle [31]\\text{   }{{{cons}}}_{solar, l0, q{2}} - {{{expd}}}_{solar, l0, q{2}, operate, pv} = 0$"
      ],
      "text/plain": [
       "<IPython.core.display.Math object>"
      ]
     },
     "metadata": {},
     "output_type": "display_data"
    },
    {
     "data": {
      "text/latex": [
       "$\\displaystyle [32]\\text{   }{{{cons}}}_{solar, l0, q{3}} - {{{expd}}}_{solar, l0, q{3}, operate, pv} = 0$"
      ],
      "text/plain": [
       "<IPython.core.display.Math object>"
      ]
     },
     "metadata": {},
     "output_type": "display_data"
    },
    {
     "data": {
      "text/latex": [
       "$\\displaystyle [33]\\text{   }{{{cons}}}_{wind, l0, y{0}} - {{{expd}}}_{wind, l0, y{0}, operate, wf} = 0$"
      ],
      "text/plain": [
       "<IPython.core.display.Math object>"
      ]
     },
     "metadata": {},
     "output_type": "display_data"
    },
    {
     "data": {
      "text/latex": [
       "$\\displaystyle [34]\\text{   }-{{{rlse}}}_{power, l0, q{0}} + {{prod}}_{power, l0, q{0}, operate, pv} + {{prod}}_{power, l0, q{0}, operate, wf} - {{{expd}}}_{power, l0, q{0}, operate, lii.charge} + {{prod}}_{power, l0, q{0}, operate, lii.discharge} = 0$"
      ],
      "text/plain": [
       "<IPython.core.display.Math object>"
      ]
     },
     "metadata": {},
     "output_type": "display_data"
    },
    {
     "data": {
      "text/latex": [
       "$\\displaystyle [35]\\text{   }-{{{rlse}}}_{power, l0, q{1}} + {{prod}}_{power, l0, q{1}, operate, pv} + {{prod}}_{power, l0, q{1}, operate, wf} - {{{expd}}}_{power, l0, q{1}, operate, lii.charge} + {{prod}}_{power, l0, q{1}, operate, lii.discharge} = 0$"
      ],
      "text/plain": [
       "<IPython.core.display.Math object>"
      ]
     },
     "metadata": {},
     "output_type": "display_data"
    },
    {
     "data": {
      "text/latex": [
       "$\\displaystyle [36]\\text{   }-{{{rlse}}}_{power, l0, q{2}} + {{prod}}_{power, l0, q{2}, operate, pv} + {{prod}}_{power, l0, q{2}, operate, wf} - {{{expd}}}_{power, l0, q{2}, operate, lii.charge} + {{prod}}_{power, l0, q{2}, operate, lii.discharge} = 0$"
      ],
      "text/plain": [
       "<IPython.core.display.Math object>"
      ]
     },
     "metadata": {},
     "output_type": "display_data"
    },
    {
     "data": {
      "text/latex": [
       "$\\displaystyle [37]\\text{   }-{{{rlse}}}_{power, l0, q{3}} + {{prod}}_{power, l0, q{3}, operate, pv} + {{prod}}_{power, l0, q{3}, operate, wf} - {{{expd}}}_{power, l0, q{3}, operate, lii.charge} + {{prod}}_{power, l0, q{3}, operate, lii.discharge} = 0$"
      ],
      "text/plain": [
       "<IPython.core.display.Math object>"
      ]
     },
     "metadata": {},
     "output_type": "display_data"
    },
    {
     "data": {
      "text/latex": [
       "$\\displaystyle [60]\\text{   }-{{{inv}}}_{lii.stored, l0, q{0}} + {{prod}}_{lii.stored, l0, q{0}, operate, lii.charge} - {{{expd}}}_{lii.stored, l0, q{0}, operate, lii.discharge} = 0$"
      ],
      "text/plain": [
       "<IPython.core.display.Math object>"
      ]
     },
     "metadata": {},
     "output_type": "display_data"
    },
    {
     "data": {
      "text/latex": [
       "$\\displaystyle [61]\\text{   }-{{{inv}}}_{lii.stored, l0, q{1}} + {{{inv}}}_{lii.stored, l0, q{0}} + {{prod}}_{lii.stored, l0, q{1}, operate, lii.charge} - {{{expd}}}_{lii.stored, l0, q{1}, operate, lii.discharge} = 0$"
      ],
      "text/plain": [
       "<IPython.core.display.Math object>"
      ]
     },
     "metadata": {},
     "output_type": "display_data"
    },
    {
     "data": {
      "text/latex": [
       "$\\displaystyle [62]\\text{   }-{{{inv}}}_{lii.stored, l0, q{2}} + {{{inv}}}_{lii.stored, l0, q{1}} + {{prod}}_{lii.stored, l0, q{2}, operate, lii.charge} - {{{expd}}}_{lii.stored, l0, q{2}, operate, lii.discharge} = 0$"
      ],
      "text/plain": [
       "<IPython.core.display.Math object>"
      ]
     },
     "metadata": {},
     "output_type": "display_data"
    },
    {
     "data": {
      "text/latex": [
       "$\\displaystyle [63]\\text{   }-{{{inv}}}_{lii.stored, l0, q{3}} + {{{inv}}}_{lii.stored, l0, q{2}} + {{prod}}_{lii.stored, l0, q{3}, operate, lii.charge} - {{{expd}}}_{lii.stored, l0, q{3}, operate, lii.discharge} = 0$"
      ],
      "text/plain": [
       "<IPython.core.display.Math object>"
      ]
     },
     "metadata": {},
     "output_type": "display_data"
    },
    {
     "data": {
      "text/markdown": [
       "### Bound Constraints"
      ],
      "text/plain": [
       "<IPython.core.display.Markdown object>"
      ]
     },
     "metadata": {},
     "output_type": "display_data"
    },
    {
     "data": {
      "text/latex": [
       "$\\displaystyle [0]\\text{   }{{{cons}}}_{solar, l0, q{0}} - 100.0 \\leq 0$"
      ],
      "text/plain": [
       "<IPython.core.display.Math object>"
      ]
     },
     "metadata": {},
     "output_type": "display_data"
    },
    {
     "data": {
      "text/latex": [
       "$\\displaystyle [1]\\text{   }{{{cons}}}_{solar, l0, q{1}} - 100.0 \\leq 0$"
      ],
      "text/plain": [
       "<IPython.core.display.Math object>"
      ]
     },
     "metadata": {},
     "output_type": "display_data"
    },
    {
     "data": {
      "text/latex": [
       "$\\displaystyle [2]\\text{   }{{{cons}}}_{solar, l0, q{2}} - 100.0 \\leq 0$"
      ],
      "text/plain": [
       "<IPython.core.display.Math object>"
      ]
     },
     "metadata": {},
     "output_type": "display_data"
    },
    {
     "data": {
      "text/latex": [
       "$\\displaystyle [3]\\text{   }{{{cons}}}_{solar, l0, q{3}} - 100.0 \\leq 0$"
      ],
      "text/plain": [
       "<IPython.core.display.Math object>"
      ]
     },
     "metadata": {},
     "output_type": "display_data"
    },
    {
     "data": {
      "text/latex": [
       "$\\displaystyle [4]\\text{   }{{{cons}}}_{wind, l0, y{0}} - 400.0 \\leq 0$"
      ],
      "text/plain": [
       "<IPython.core.display.Math object>"
      ]
     },
     "metadata": {},
     "output_type": "display_data"
    },
    {
     "data": {
      "text/latex": [
       "$\\displaystyle [5]\\text{   }-{{{rlse}}}_{power, l0, q{0}} + 134.99999999999997 \\leq 0$"
      ],
      "text/plain": [
       "<IPython.core.display.Math object>"
      ]
     },
     "metadata": {},
     "output_type": "display_data"
    },
    {
     "data": {
      "text/latex": [
       "$\\displaystyle [6]\\text{   }-{{{rlse}}}_{power, l0, q{1}} + 157.49999999999997 \\leq 0$"
      ],
      "text/plain": [
       "<IPython.core.display.Math object>"
      ]
     },
     "metadata": {},
     "output_type": "display_data"
    },
    {
     "data": {
      "text/latex": [
       "$\\displaystyle [7]\\text{   }-{{{rlse}}}_{power, l0, q{2}} + 180.0 \\leq 0$"
      ],
      "text/plain": [
       "<IPython.core.display.Math object>"
      ]
     },
     "metadata": {},
     "output_type": "display_data"
    },
    {
     "data": {
      "text/latex": [
       "$\\displaystyle [8]\\text{   }-{{{rlse}}}_{power, l0, q{3}} + 67.49999999999999 \\leq 0$"
      ],
      "text/plain": [
       "<IPython.core.display.Math object>"
      ]
     },
     "metadata": {},
     "output_type": "display_data"
    },
    {
     "data": {
      "text/latex": [
       "$\\displaystyle [9]\\text{   }{{{cap}}}_{wf, l0, y{0}} - 100.0 \\cdot {{{\\breve{{cap}}}}}_{wf, l0, y{0}} \\leq 0$"
      ],
      "text/plain": [
       "<IPython.core.display.Math object>"
      ]
     },
     "metadata": {},
     "output_type": "display_data"
    },
    {
     "data": {
      "text/latex": [
       "$\\displaystyle [10]\\text{   }10.0 \\cdot {{{\\breve{{cap}}}}}_{wf, l0, y{0}} - {{{cap}}}_{wf, l0, y{0}} \\leq 0$"
      ],
      "text/plain": [
       "<IPython.core.display.Math object>"
      ]
     },
     "metadata": {},
     "output_type": "display_data"
    },
    {
     "data": {
      "text/latex": [
       "$\\displaystyle [11]\\text{   }{{{opr}}}_{wf, l0, q{0}} - 1.0 \\cdot {{{cap}}}_{wf, l0, y{0}} \\leq 0$"
      ],
      "text/plain": [
       "<IPython.core.display.Math object>"
      ]
     },
     "metadata": {},
     "output_type": "display_data"
    },
    {
     "data": {
      "text/latex": [
       "$\\displaystyle [12]\\text{   }{{{opr}}}_{wf, l0, q{1}} - 0.888888888888889 \\cdot {{{cap}}}_{wf, l0, y{0}} \\leq 0$"
      ],
      "text/plain": [
       "<IPython.core.display.Math object>"
      ]
     },
     "metadata": {},
     "output_type": "display_data"
    },
    {
     "data": {
      "text/latex": [
       "$\\displaystyle [13]\\text{   }{{{opr}}}_{wf, l0, q{2}} - 0.5555555555555556 \\cdot {{{cap}}}_{wf, l0, y{0}} \\leq 0$"
      ],
      "text/plain": [
       "<IPython.core.display.Math object>"
      ]
     },
     "metadata": {},
     "output_type": "display_data"
    },
    {
     "data": {
      "text/latex": [
       "$\\displaystyle [14]\\text{   }{{{opr}}}_{wf, l0, q{3}} - 0.7777777777777777 \\cdot {{{cap}}}_{wf, l0, y{0}} \\leq 0$"
      ],
      "text/plain": [
       "<IPython.core.display.Math object>"
      ]
     },
     "metadata": {},
     "output_type": "display_data"
    },
    {
     "data": {
      "text/latex": [
       "$\\displaystyle [15]\\text{   }{{{cap}}}_{pv, l0, y{0}} - 100.0 \\cdot {{{\\breve{{cap}}}}}_{pv, l0, y{0}} \\leq 0$"
      ],
      "text/plain": [
       "<IPython.core.display.Math object>"
      ]
     },
     "metadata": {},
     "output_type": "display_data"
    },
    {
     "data": {
      "text/latex": [
       "$\\displaystyle [16]\\text{   }10.0 \\cdot {{{\\breve{{cap}}}}}_{pv, l0, y{0}} - {{{cap}}}_{pv, l0, y{0}} \\leq 0$"
      ],
      "text/plain": [
       "<IPython.core.display.Math object>"
      ]
     },
     "metadata": {},
     "output_type": "display_data"
    },
    {
     "data": {
      "text/latex": [
       "$\\displaystyle [17]\\text{   }{{{opr}}}_{pv, l0, q{0}} - 0.6666666666666666 \\cdot {{{cap}}}_{pv, l0, y{0}} \\leq 0$"
      ],
      "text/plain": [
       "<IPython.core.display.Math object>"
      ]
     },
     "metadata": {},
     "output_type": "display_data"
    },
    {
     "data": {
      "text/latex": [
       "$\\displaystyle [18]\\text{   }{{{opr}}}_{pv, l0, q{1}} - 0.888888888888889 \\cdot {{{cap}}}_{pv, l0, y{0}} \\leq 0$"
      ],
      "text/plain": [
       "<IPython.core.display.Math object>"
      ]
     },
     "metadata": {},
     "output_type": "display_data"
    },
    {
     "data": {
      "text/latex": [
       "$\\displaystyle [19]\\text{   }{{{opr}}}_{pv, l0, q{2}} - 1.0 \\cdot {{{cap}}}_{pv, l0, y{0}} \\leq 0$"
      ],
      "text/plain": [
       "<IPython.core.display.Math object>"
      ]
     },
     "metadata": {},
     "output_type": "display_data"
    },
    {
     "data": {
      "text/latex": [
       "$\\displaystyle [20]\\text{   }{{{opr}}}_{pv, l0, q{3}} - 0.7777777777777777 \\cdot {{{cap}}}_{pv, l0, y{0}} \\leq 0$"
      ],
      "text/plain": [
       "<IPython.core.display.Math object>"
      ]
     },
     "metadata": {},
     "output_type": "display_data"
    },
    {
     "data": {
      "text/latex": [
       "$\\displaystyle [21]\\text{   }{{{icap}}}_{lii.stored, l0, y{0}} - 100.0 \\cdot {{{\\breve{{icap}}}}}_{lii.stored, l0, y{0}} \\leq 0$"
      ],
      "text/plain": [
       "<IPython.core.display.Math object>"
      ]
     },
     "metadata": {},
     "output_type": "display_data"
    },
    {
     "data": {
      "text/latex": [
       "$\\displaystyle [22]\\text{   }10.0 \\cdot {{{\\breve{{icap}}}}}_{lii.stored, l0, y{0}} - {{{icap}}}_{lii.stored, l0, y{0}} \\leq 0$"
      ],
      "text/plain": [
       "<IPython.core.display.Math object>"
      ]
     },
     "metadata": {},
     "output_type": "display_data"
    },
    {
     "data": {
      "text/latex": [
       "$\\displaystyle [23]\\text{   }{{{inv}}}_{lii.stored, l0, q{0}} - {{{icap}}}_{lii.stored, l0, y{0}} \\leq 0$"
      ],
      "text/plain": [
       "<IPython.core.display.Math object>"
      ]
     },
     "metadata": {},
     "output_type": "display_data"
    },
    {
     "data": {
      "text/latex": [
       "$\\displaystyle [24]\\text{   }{{{inv}}}_{lii.stored, l0, q{1}} - {{{icap}}}_{lii.stored, l0, y{0}} \\leq 0$"
      ],
      "text/plain": [
       "<IPython.core.display.Math object>"
      ]
     },
     "metadata": {},
     "output_type": "display_data"
    },
    {
     "data": {
      "text/latex": [
       "$\\displaystyle [25]\\text{   }{{{inv}}}_{lii.stored, l0, q{2}} - {{{icap}}}_{lii.stored, l0, y{0}} \\leq 0$"
      ],
      "text/plain": [
       "<IPython.core.display.Math object>"
      ]
     },
     "metadata": {},
     "output_type": "display_data"
    },
    {
     "data": {
      "text/latex": [
       "$\\displaystyle [26]\\text{   }{{{inv}}}_{lii.stored, l0, q{3}} - {{{icap}}}_{lii.stored, l0, y{0}} \\leq 0$"
      ],
      "text/plain": [
       "<IPython.core.display.Math object>"
      ]
     },
     "metadata": {},
     "output_type": "display_data"
    },
    {
     "data": {
      "text/latex": [
       "$\\displaystyle [27]\\text{   }{{{opr}}}_{lii.charge, l0, y{0}} - {{{cap}}}_{lii.charge, l0, y{0}} \\leq 0$"
      ],
      "text/plain": [
       "<IPython.core.display.Math object>"
      ]
     },
     "metadata": {},
     "output_type": "display_data"
    },
    {
     "data": {
      "text/latex": [
       "$\\displaystyle [28]\\text{   }{{{opr}}}_{lii.discharge, l0, y{0}} - {{{cap}}}_{lii.discharge, l0, y{0}} \\leq 0$"
      ],
      "text/plain": [
       "<IPython.core.display.Math object>"
      ]
     },
     "metadata": {},
     "output_type": "display_data"
    },
    {
     "data": {
      "text/markdown": [
       "### Calculation Constraints"
      ],
      "text/plain": [
       "<IPython.core.display.Markdown object>"
      ]
     },
     "metadata": {},
     "output_type": "display_data"
    },
    {
     "data": {
      "text/latex": [
       "$\\displaystyle [38]\\text{   }{{spend}}_{usd, l0, y{0}, capacity, wf} - 993991.0 \\cdot {{{cap}}}_{wf, l0, y{0}} = 0$"
      ],
      "text/plain": [
       "<IPython.core.display.Math object>"
      ]
     },
     "metadata": {},
     "output_type": "display_data"
    },
    {
     "data": {
      "text/latex": [
       "$\\displaystyle [40]\\text{   }{{spend}}_{usd, l0, y{0}, operate, wf} - 49.0 \\cdot {{{opr}}}_{wf, l0, y{0}} = 0$"
      ],
      "text/plain": [
       "<IPython.core.display.Math object>"
      ]
     },
     "metadata": {},
     "output_type": "display_data"
    },
    {
     "data": {
      "text/latex": [
       "$\\displaystyle [41]\\text{   }{{spend}}_{usd, l0, y{0}, capacity, pv} - 1439046.0 \\cdot {{{cap}}}_{pv, l0, y{0}} = 0$"
      ],
      "text/plain": [
       "<IPython.core.display.Math object>"
      ]
     },
     "metadata": {},
     "output_type": "display_data"
    },
    {
     "data": {
      "text/latex": [
       "$\\displaystyle [43]\\text{   }{{spend}}_{usd, l0, y{0}, operate, pv} - 90000.0 \\cdot {{{opr}}}_{pv, l0, y{0}} = 0$"
      ],
      "text/plain": [
       "<IPython.core.display.Math object>"
      ]
     },
     "metadata": {},
     "output_type": "display_data"
    },
    {
     "data": {
      "text/latex": [
       "$\\displaystyle [44]\\text{   }{{spend}}_{usd, l0, y{0}, invcapacity, lii.stored} - 1343614.0 \\cdot {{{icap}}}_{lii.stored, l0, y{0}} = 0$"
      ],
      "text/plain": [
       "<IPython.core.display.Math object>"
      ]
     },
     "metadata": {},
     "output_type": "display_data"
    },
    {
     "data": {
      "text/latex": [
       "$\\displaystyle [45]\\text{   }{{spend}}_{usd, l0, y{0}, inventory, lii.stored} - 2000.0 \\cdot {{{inv}}}_{lii.stored, l0, y{0}} = 0$"
      ],
      "text/plain": [
       "<IPython.core.display.Math object>"
      ]
     },
     "metadata": {},
     "output_type": "display_data"
    },
    {
     "data": {
      "text/latex": [
       "$\\displaystyle [46]\\text{   }{{prod}}_{power, l0, q{0}, operate, pv} - 1.0 \\cdot {{{opr}}}_{pv, l0, q{0}} = 0$"
      ],
      "text/plain": [
       "<IPython.core.display.Math object>"
      ]
     },
     "metadata": {},
     "output_type": "display_data"
    },
    {
     "data": {
      "text/latex": [
       "$\\displaystyle [47]\\text{   }{{prod}}_{power, l0, q{1}, operate, pv} - 1.0 \\cdot {{{opr}}}_{pv, l0, q{1}} = 0$"
      ],
      "text/plain": [
       "<IPython.core.display.Math object>"
      ]
     },
     "metadata": {},
     "output_type": "display_data"
    },
    {
     "data": {
      "text/latex": [
       "$\\displaystyle [48]\\text{   }{{prod}}_{power, l0, q{2}, operate, pv} - 1.0 \\cdot {{{opr}}}_{pv, l0, q{2}} = 0$"
      ],
      "text/plain": [
       "<IPython.core.display.Math object>"
      ]
     },
     "metadata": {},
     "output_type": "display_data"
    },
    {
     "data": {
      "text/latex": [
       "$\\displaystyle [49]\\text{   }{{prod}}_{power, l0, q{3}, operate, pv} - 1.0 \\cdot {{{opr}}}_{pv, l0, q{3}} = 0$"
      ],
      "text/plain": [
       "<IPython.core.display.Math object>"
      ]
     },
     "metadata": {},
     "output_type": "display_data"
    },
    {
     "data": {
      "text/latex": [
       "$\\displaystyle [50]\\text{   }{{{expd}}}_{solar, l0, q{0}, operate, pv} - 1.0 \\cdot {{{opr}}}_{pv, l0, q{0}} = 0$"
      ],
      "text/plain": [
       "<IPython.core.display.Math object>"
      ]
     },
     "metadata": {},
     "output_type": "display_data"
    },
    {
     "data": {
      "text/latex": [
       "$\\displaystyle [51]\\text{   }{{{expd}}}_{solar, l0, q{1}, operate, pv} - 1.0 \\cdot {{{opr}}}_{pv, l0, q{1}} = 0$"
      ],
      "text/plain": [
       "<IPython.core.display.Math object>"
      ]
     },
     "metadata": {},
     "output_type": "display_data"
    },
    {
     "data": {
      "text/latex": [
       "$\\displaystyle [52]\\text{   }{{{expd}}}_{solar, l0, q{2}, operate, pv} - 1.0 \\cdot {{{opr}}}_{pv, l0, q{2}} = 0$"
      ],
      "text/plain": [
       "<IPython.core.display.Math object>"
      ]
     },
     "metadata": {},
     "output_type": "display_data"
    },
    {
     "data": {
      "text/latex": [
       "$\\displaystyle [53]\\text{   }{{{expd}}}_{solar, l0, q{3}, operate, pv} - 1.0 \\cdot {{{opr}}}_{pv, l0, q{3}} = 0$"
      ],
      "text/plain": [
       "<IPython.core.display.Math object>"
      ]
     },
     "metadata": {},
     "output_type": "display_data"
    },
    {
     "data": {
      "text/latex": [
       "$\\displaystyle [54]\\text{   }{{prod}}_{power, l0, q{0}, operate, wf} - 1.0 \\cdot {{{opr}}}_{wf, l0, q{0}} = 0$"
      ],
      "text/plain": [
       "<IPython.core.display.Math object>"
      ]
     },
     "metadata": {},
     "output_type": "display_data"
    },
    {
     "data": {
      "text/latex": [
       "$\\displaystyle [55]\\text{   }{{prod}}_{power, l0, q{1}, operate, wf} - 1.0 \\cdot {{{opr}}}_{wf, l0, q{1}} = 0$"
      ],
      "text/plain": [
       "<IPython.core.display.Math object>"
      ]
     },
     "metadata": {},
     "output_type": "display_data"
    },
    {
     "data": {
      "text/latex": [
       "$\\displaystyle [56]\\text{   }{{prod}}_{power, l0, q{2}, operate, wf} - 1.0 \\cdot {{{opr}}}_{wf, l0, q{2}} = 0$"
      ],
      "text/plain": [
       "<IPython.core.display.Math object>"
      ]
     },
     "metadata": {},
     "output_type": "display_data"
    },
    {
     "data": {
      "text/latex": [
       "$\\displaystyle [57]\\text{   }{{prod}}_{power, l0, q{3}, operate, wf} - 1.0 \\cdot {{{opr}}}_{wf, l0, q{3}} = 0$"
      ],
      "text/plain": [
       "<IPython.core.display.Math object>"
      ]
     },
     "metadata": {},
     "output_type": "display_data"
    },
    {
     "data": {
      "text/latex": [
       "$\\displaystyle [58]\\text{   }{{{expd}}}_{wind, l0, y{0}, operate, wf} - 1.0 \\cdot {{{opr}}}_{wf, l0, y{0}} = 0$"
      ],
      "text/plain": [
       "<IPython.core.display.Math object>"
      ]
     },
     "metadata": {},
     "output_type": "display_data"
    },
    {
     "data": {
      "text/latex": [
       "$\\displaystyle [65]\\text{   }{{prod}}_{lii.stored, l0, q{0}, operate, lii.charge} - 1.0 \\cdot {{{opr}}}_{lii.charge, l0, q{0}} = 0$"
      ],
      "text/plain": [
       "<IPython.core.display.Math object>"
      ]
     },
     "metadata": {},
     "output_type": "display_data"
    },
    {
     "data": {
      "text/latex": [
       "$\\displaystyle [66]\\text{   }{{prod}}_{lii.stored, l0, q{1}, operate, lii.charge} - 1.0 \\cdot {{{opr}}}_{lii.charge, l0, q{1}} = 0$"
      ],
      "text/plain": [
       "<IPython.core.display.Math object>"
      ]
     },
     "metadata": {},
     "output_type": "display_data"
    },
    {
     "data": {
      "text/latex": [
       "$\\displaystyle [67]\\text{   }{{prod}}_{lii.stored, l0, q{2}, operate, lii.charge} - 1.0 \\cdot {{{opr}}}_{lii.charge, l0, q{2}} = 0$"
      ],
      "text/plain": [
       "<IPython.core.display.Math object>"
      ]
     },
     "metadata": {},
     "output_type": "display_data"
    },
    {
     "data": {
      "text/latex": [
       "$\\displaystyle [68]\\text{   }{{prod}}_{lii.stored, l0, q{3}, operate, lii.charge} - 1.0 \\cdot {{{opr}}}_{lii.charge, l0, q{3}} = 0$"
      ],
      "text/plain": [
       "<IPython.core.display.Math object>"
      ]
     },
     "metadata": {},
     "output_type": "display_data"
    },
    {
     "data": {
      "text/latex": [
       "$\\displaystyle [69]\\text{   }{{{expd}}}_{power, l0, q{0}, operate, lii.charge} - 1.0 \\cdot {{{opr}}}_{lii.charge, l0, q{0}} = 0$"
      ],
      "text/plain": [
       "<IPython.core.display.Math object>"
      ]
     },
     "metadata": {},
     "output_type": "display_data"
    },
    {
     "data": {
      "text/latex": [
       "$\\displaystyle [70]\\text{   }{{{expd}}}_{power, l0, q{1}, operate, lii.charge} - 1.0 \\cdot {{{opr}}}_{lii.charge, l0, q{1}} = 0$"
      ],
      "text/plain": [
       "<IPython.core.display.Math object>"
      ]
     },
     "metadata": {},
     "output_type": "display_data"
    },
    {
     "data": {
      "text/latex": [
       "$\\displaystyle [71]\\text{   }{{{expd}}}_{power, l0, q{2}, operate, lii.charge} - 1.0 \\cdot {{{opr}}}_{lii.charge, l0, q{2}} = 0$"
      ],
      "text/plain": [
       "<IPython.core.display.Math object>"
      ]
     },
     "metadata": {},
     "output_type": "display_data"
    },
    {
     "data": {
      "text/latex": [
       "$\\displaystyle [72]\\text{   }{{{expd}}}_{power, l0, q{3}, operate, lii.charge} - 1.0 \\cdot {{{opr}}}_{lii.charge, l0, q{3}} = 0$"
      ],
      "text/plain": [
       "<IPython.core.display.Math object>"
      ]
     },
     "metadata": {},
     "output_type": "display_data"
    },
    {
     "data": {
      "text/latex": [
       "$\\displaystyle [74]\\text{   }{{prod}}_{power, l0, q{0}, operate, lii.discharge} - 1.0 \\cdot {{{opr}}}_{lii.discharge, l0, q{0}} = 0$"
      ],
      "text/plain": [
       "<IPython.core.display.Math object>"
      ]
     },
     "metadata": {},
     "output_type": "display_data"
    },
    {
     "data": {
      "text/latex": [
       "$\\displaystyle [75]\\text{   }{{prod}}_{power, l0, q{1}, operate, lii.discharge} - 1.0 \\cdot {{{opr}}}_{lii.discharge, l0, q{1}} = 0$"
      ],
      "text/plain": [
       "<IPython.core.display.Math object>"
      ]
     },
     "metadata": {},
     "output_type": "display_data"
    },
    {
     "data": {
      "text/latex": [
       "$\\displaystyle [76]\\text{   }{{prod}}_{power, l0, q{2}, operate, lii.discharge} - 1.0 \\cdot {{{opr}}}_{lii.discharge, l0, q{2}} = 0$"
      ],
      "text/plain": [
       "<IPython.core.display.Math object>"
      ]
     },
     "metadata": {},
     "output_type": "display_data"
    },
    {
     "data": {
      "text/latex": [
       "$\\displaystyle [77]\\text{   }{{prod}}_{power, l0, q{3}, operate, lii.discharge} - 1.0 \\cdot {{{opr}}}_{lii.discharge, l0, q{3}} = 0$"
      ],
      "text/plain": [
       "<IPython.core.display.Math object>"
      ]
     },
     "metadata": {},
     "output_type": "display_data"
    },
    {
     "data": {
      "text/latex": [
       "$\\displaystyle [78]\\text{   }{{{expd}}}_{lii.stored, l0, q{0}, operate, lii.discharge} - 1.1111111111111112 \\cdot {{{opr}}}_{lii.discharge, l0, q{0}} = 0$"
      ],
      "text/plain": [
       "<IPython.core.display.Math object>"
      ]
     },
     "metadata": {},
     "output_type": "display_data"
    },
    {
     "data": {
      "text/latex": [
       "$\\displaystyle [79]\\text{   }{{{expd}}}_{lii.stored, l0, q{1}, operate, lii.discharge} - 1.1111111111111112 \\cdot {{{opr}}}_{lii.discharge, l0, q{1}} = 0$"
      ],
      "text/plain": [
       "<IPython.core.display.Math object>"
      ]
     },
     "metadata": {},
     "output_type": "display_data"
    },
    {
     "data": {
      "text/latex": [
       "$\\displaystyle [80]\\text{   }{{{expd}}}_{lii.stored, l0, q{2}, operate, lii.discharge} - 1.1111111111111112 \\cdot {{{opr}}}_{lii.discharge, l0, q{2}} = 0$"
      ],
      "text/plain": [
       "<IPython.core.display.Math object>"
      ]
     },
     "metadata": {},
     "output_type": "display_data"
    },
    {
     "data": {
      "text/latex": [
       "$\\displaystyle [81]\\text{   }{{{expd}}}_{lii.stored, l0, q{3}, operate, lii.discharge} - 1.1111111111111112 \\cdot {{{opr}}}_{lii.discharge, l0, q{3}} = 0$"
      ],
      "text/plain": [
       "<IPython.core.display.Math object>"
      ]
     },
     "metadata": {},
     "output_type": "display_data"
    },
    {
     "data": {
      "text/markdown": [
       "### Mapping Constraints"
      ],
      "text/plain": [
       "<IPython.core.display.Markdown object>"
      ]
     },
     "metadata": {},
     "output_type": "display_data"
    },
    {
     "data": {
      "text/latex": [
       "$\\displaystyle [39]\\text{   }{{{opr}}}_{wf, l0, y{0}} - \\sum_{i \\in q} {{{opr}}}_{wf, l0, i} = 0$"
      ],
      "text/plain": [
       "<IPython.core.display.Math object>"
      ]
     },
     "metadata": {},
     "output_type": "display_data"
    },
    {
     "data": {
      "text/latex": [
       "$\\displaystyle [42]\\text{   }{{{opr}}}_{pv, l0, y{0}} - \\sum_{i \\in q} {{{opr}}}_{pv, l0, i} = 0$"
      ],
      "text/plain": [
       "<IPython.core.display.Math object>"
      ]
     },
     "metadata": {},
     "output_type": "display_data"
    },
    {
     "data": {
      "text/latex": [
       "$\\displaystyle [59]\\text{   }{{{inv}}}_{lii.stored, l0, y{0}} - \\sum_{i \\in q} {{{inv}}}_{lii.stored, l0, i} = 0$"
      ],
      "text/plain": [
       "<IPython.core.display.Math object>"
      ]
     },
     "metadata": {},
     "output_type": "display_data"
    },
    {
     "data": {
      "text/latex": [
       "$\\displaystyle [64]\\text{   }{{{opr}}}_{lii.charge, l0, y{0}} - \\sum_{i \\in q} {{{opr}}}_{lii.charge, l0, i} = 0$"
      ],
      "text/plain": [
       "<IPython.core.display.Math object>"
      ]
     },
     "metadata": {},
     "output_type": "display_data"
    },
    {
     "data": {
      "text/latex": [
       "$\\displaystyle [73]\\text{   }{{{opr}}}_{lii.discharge, l0, y{0}} - \\sum_{i \\in q} {{{opr}}}_{lii.discharge, l0, i} = 0$"
      ],
      "text/plain": [
       "<IPython.core.display.Math object>"
      ]
     },
     "metadata": {},
     "output_type": "display_data"
    },
    {
     "data": {
      "text/latex": [
       "$\\displaystyle [82]\\text{   }{{spend}}_{usd, l0, y{0}} - {{spend}}_{usd, l0, y{0}, capacity, wf} - {{spend}}_{usd, l0, y{0}, operate, wf} - {{spend}}_{usd, l0, y{0}, capacity, pv} - {{spend}}_{usd, l0, y{0}, operate, pv} - {{spend}}_{usd, l0, y{0}, invcapacity, lii.stored} - {{spend}}_{usd, l0, y{0}, inventory, lii.stored} = 0$"
      ],
      "text/plain": [
       "<IPython.core.display.Math object>"
      ]
     },
     "metadata": {},
     "output_type": "display_data"
    }
   ],
   "source": [
    "m.show(True)"
   ]
  },
  {
   "cell_type": "code",
   "execution_count": null,
   "id": "3caa2f55",
   "metadata": {},
   "outputs": [],
   "source": []
  }
 ],
 "metadata": {
  "kernelspec": {
   "display_name": ".venv",
   "language": "python",
   "name": "python3"
  },
  "language_info": {
   "codemirror_mode": {
    "name": "ipython",
    "version": 3
   },
   "file_extension": ".py",
   "mimetype": "text/x-python",
   "name": "python",
   "nbconvert_exporter": "python",
   "pygments_lexer": "ipython3",
   "version": "3.13.9"
  }
 },
 "nbformat": 4,
 "nbformat_minor": 5
}
