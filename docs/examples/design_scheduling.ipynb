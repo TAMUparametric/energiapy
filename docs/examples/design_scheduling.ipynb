{
 "cells": [
  {
   "cell_type": "markdown",
   "id": "69e19c5b",
   "metadata": {},
   "source": [
    "# Multiscale MILP\n",
    "\n",
    "This is a continuation of 'One Location, One Temporal Scale, One Operation, Linear Programming Example' [Example 1]. Refer Example 1 to learn the basics on how Energia models processes. \n",
    "\n",
    "In this example, we add another Process [Solar PV] and Storage [Li-ion Battery]. Technology choice is modeled using binaries. Moreover, the model is multiscale as the operational capacities are decision variables. "
   ]
  },
  {
   "cell_type": "code",
   "execution_count": 1,
   "id": "81ad074e",
   "metadata": {},
   "outputs": [],
   "source": [
    "from energia import *\n",
    "\n",
    "m = Model('example2')\n",
    "m.q = Periods()\n",
    "m.y = 4 * m.q\n",
    "m.usd = Currency()"
   ]
  },
  {
   "cell_type": "markdown",
   "id": "a472f7e5",
   "metadata": {},
   "source": [
    "## Resources"
   ]
  },
  {
   "cell_type": "markdown",
   "id": "5ebced0e",
   "metadata": {},
   "source": [
    "### Conveniently declaring components\n",
    "\n",
    "Use m.declare(\\<Object Type\\>, \\<list of names\\>) to declare a large number of objects in one step."
   ]
  },
  {
   "cell_type": "code",
   "execution_count": 2,
   "id": "e9996b8f",
   "metadata": {},
   "outputs": [],
   "source": [
    "m.declare(Resource, ['power', 'wind', 'solar'])"
   ]
  },
  {
   "cell_type": "markdown",
   "id": "d43aca06",
   "metadata": {},
   "source": [
    "### Set bounds on Resource flows\n",
    "\n",
    "Unlike wind which has bound on the total consumption, we set a daily limit on solar energy. The same bound is repeated in each quarter. The following constraints are written.\n",
    "\n",
    "$\\mathbf{cons}_{solar, network, quarter_0} \\leq 100$\n",
    "\n",
    "$\\mathbf{cons}_{solar, network, quarter_1} \\leq 100$\n",
    "\n",
    "$\\mathbf{cons}_{solar, network, quarter_2} \\leq 100$\n",
    "\n",
    "$\\mathbf{cons}_{solar, network, quarter_3} \\leq 100$"
   ]
  },
  {
   "cell_type": "code",
   "execution_count": 3,
   "id": "45ebb26f",
   "metadata": {},
   "outputs": [
    {
     "name": "stderr",
     "output_type": "stream",
     "text": [
      "2025-10-20 16:16:51,660 [INFO] General Resource Balance for solar in (l, q): initializing constraint, adding consume(solar, l, q)\n",
      "2025-10-20 16:16:51,660 [INFO] ✔ Completed in 0.0001804828643798828 seconds\n",
      "2025-10-20 16:16:51,661 [INFO] Binding consume in domain (solar, l, q)\n",
      "2025-10-20 16:16:51,661 [INFO] ✔ Completed in 0.0001804828643798828 seconds\n",
      "2025-10-20 16:16:51,662 [INFO] General Resource Balance for wind in (l, y): initializing constraint, adding consume(wind, l, y)\n",
      "2025-10-20 16:16:51,662 [INFO] ✔ Completed in 0.00011420249938964844 seconds\n",
      "2025-10-20 16:16:51,663 [INFO] Binding consume in domain (wind, l, y)\n",
      "2025-10-20 16:16:51,664 [INFO] ✔ Completed in 7.82012939453125e-05 seconds\n",
      "2025-10-20 16:16:51,664 [INFO] General Resource Balance for power in (l, q): initializing constraint, adding release(power, l, q)\n",
      "2025-10-20 16:16:51,665 [INFO] ✔ Completed in 0.00011563301086425781 seconds\n",
      "2025-10-20 16:16:51,665 [INFO] Binding release in domain (power, l, q)\n",
      "2025-10-20 16:16:51,665 [INFO] ✔ Completed in 0.0001595020294189453 seconds\n"
     ]
    }
   ],
   "source": [
    "m.solar.consume(m.q) <= 100\n",
    "m.wind.consume <= 400\n",
    "m.power.release.prep(180) >= [0.6, 0.7, 0.8, 0.3]"
   ]
  },
  {
   "cell_type": "markdown",
   "id": "89269641",
   "metadata": {},
   "source": [
    "## Operations "
   ]
  },
  {
   "cell_type": "markdown",
   "id": "e21925d4",
   "metadata": {},
   "source": [
    "### Capacity as a variable \n",
    "\n",
    "Here we want the optimization problem to determine the optimal capacity. Moreover, we set binaries to avoid the lower bound being adhered to if the process is not set up. \n",
    "\n",
    "If the bounds are meant to be compulsory limits, skip the .x "
   ]
  },
  {
   "cell_type": "code",
   "execution_count": 4,
   "id": "77f192a1",
   "metadata": {},
   "outputs": [
    {
     "name": "stderr",
     "output_type": "stream",
     "text": [
      "2025-10-20 16:16:51,670 [INFO] Binding capacity in domain (wf, l, y)\n",
      "2025-10-20 16:16:51,671 [INFO] ✔ Completed in 0.00016021728515625 seconds\n",
      "2025-10-20 16:16:51,671 [INFO] Binding capacity in domain (wf, l, y)\n",
      "2025-10-20 16:16:51,672 [INFO] ✔ Completed in 0.0001621246337890625 seconds\n"
     ]
    },
    {
     "data": {
      "text/latex": [
       "$\\displaystyle [6]\\text{   }{{{cap}}}_{wf, l, y} - 100 \\cdot {{{\\breve{{cap}}}}}_{wf, l, y} \\leq 0$"
      ],
      "text/plain": [
       "<IPython.core.display.Math object>"
      ]
     },
     "metadata": {},
     "output_type": "display_data"
    },
    {
     "data": {
      "text/latex": [
       "$\\displaystyle [7]\\text{   }10 \\cdot {{{\\breve{{cap}}}}}_{wf, l, y} - {{{cap}}}_{wf, l, y} \\leq 0$"
      ],
      "text/plain": [
       "<IPython.core.display.Math object>"
      ]
     },
     "metadata": {},
     "output_type": "display_data"
    }
   ],
   "source": [
    "m.wf = Process()\n",
    "m.wf(m.power) == -1 * m.wind\n",
    "m.wf.capacity.x <= 100\n",
    "m.wf.capacity.x >= 10\n",
    "m.capacity.show()"
   ]
  },
  {
   "cell_type": "markdown",
   "id": "30670b61",
   "metadata": {},
   "source": [
    "Unlike in Example 1, where the capacity was know, capacity is a variable here. \n",
    "\n",
    "Moreover, the expenditure associated with operating and capacitating are different"
   ]
  },
  {
   "cell_type": "code",
   "execution_count": 5,
   "id": "a45c766c",
   "metadata": {},
   "outputs": [
    {
     "name": "stderr",
     "output_type": "stream",
     "text": [
      "2025-10-20 16:16:51,681 [INFO] Binding operate in domain (wf, l, q)\n",
      "2025-10-20 16:16:51,681 [INFO] ✔ Completed in 0.00021982192993164062 seconds\n",
      "2025-10-20 16:16:51,682 [INFO] Mapping operate: (wf, l, q) → (wf, l, y)\n",
      "2025-10-20 16:16:51,683 [INFO] ✔ Completed in 0.000s\n"
     ]
    },
    {
     "data": {
      "text/latex": [
       "$\\displaystyle [20]\\text{   }{{{opr}}}_{wf, l, q{0}} - 1.0 \\cdot {{{cap}}}_{wf, l, y{0}} \\leq 0$"
      ],
      "text/plain": [
       "<IPython.core.display.Math object>"
      ]
     },
     "metadata": {},
     "output_type": "display_data"
    },
    {
     "data": {
      "text/latex": [
       "$\\displaystyle [21]\\text{   }{{{opr}}}_{wf, l, q{1}} - 0.888888888888889 \\cdot {{{cap}}}_{wf, l, y{0}} \\leq 0$"
      ],
      "text/plain": [
       "<IPython.core.display.Math object>"
      ]
     },
     "metadata": {},
     "output_type": "display_data"
    },
    {
     "data": {
      "text/latex": [
       "$\\displaystyle [22]\\text{   }{{{opr}}}_{wf, l, q{2}} - 0.5555555555555556 \\cdot {{{cap}}}_{wf, l, y{0}} \\leq 0$"
      ],
      "text/plain": [
       "<IPython.core.display.Math object>"
      ]
     },
     "metadata": {},
     "output_type": "display_data"
    },
    {
     "data": {
      "text/latex": [
       "$\\displaystyle [23]\\text{   }{{{opr}}}_{wf, l, q{3}} - 0.7777777777777777 \\cdot {{{cap}}}_{wf, l, y{0}} \\leq 0$"
      ],
      "text/plain": [
       "<IPython.core.display.Math object>"
      ]
     },
     "metadata": {},
     "output_type": "display_data"
    },
    {
     "data": {
      "text/latex": [
       "$\\displaystyle [25]\\text{   }{{{opr}}}_{wf, l, y{0}} - \\sum_{i \\in q} {{{opr}}}_{wf, l, i} = 0$"
      ],
      "text/plain": [
       "<IPython.core.display.Math object>"
      ]
     },
     "metadata": {},
     "output_type": "display_data"
    },
    {
     "data": {
      "text/latex": [
       "$\\displaystyle [26]\\text{   }{{spend}}_{usd, l, y{0}, operate, wf} - 49.0 \\cdot {{{opr}}}_{wf, l, y{0}} = 0$"
      ],
      "text/plain": [
       "<IPython.core.display.Math object>"
      ]
     },
     "metadata": {},
     "output_type": "display_data"
    }
   ],
   "source": [
    "m.wf.operate.prep(norm=True) <= [0.9, 0.8, 0.5, 0.7]\n",
    "m.wf.capacity[m.usd.spend] == 990637 + 3354\n",
    "m.wf.operate[m.usd.spend] == 49\n",
    "m.operate.show(True)"
   ]
  },
  {
   "cell_type": "code",
   "execution_count": 6,
   "id": "11fa2491",
   "metadata": {},
   "outputs": [
    {
     "name": "stderr",
     "output_type": "stream",
     "text": [
      "2025-10-20 16:16:51,691 [INFO] Binding capacity in domain (pv, l, y)\n",
      "2025-10-20 16:16:51,692 [INFO] ✔ Completed in 0.00017952919006347656 seconds\n",
      "2025-10-20 16:16:51,692 [INFO] Binding capacity in domain (pv, l, y)\n",
      "2025-10-20 16:16:51,693 [INFO] ✔ Completed in 0.0005173683166503906 seconds\n",
      "2025-10-20 16:16:51,694 [INFO] Binding operate in domain (pv, l, q)\n",
      "2025-10-20 16:16:51,694 [INFO] ✔ Completed in 0.0001862049102783203 seconds\n",
      "2025-10-20 16:16:51,695 [INFO] Mapping operate: (pv, l, q) → (pv, l, y)\n",
      "2025-10-20 16:16:51,696 [INFO] ✔ Completed in 0.000s\n"
     ]
    }
   ],
   "source": [
    "m.pv = Process()\n",
    "m.pv(m.power) == -1 * m.solar\n",
    "m.pv.capacity.x <= 100\n",
    "m.pv.capacity.x >= 10\n",
    "\n",
    "m.pv.operate.prep(norm=True) <= [0.6, 0.8, 0.9, 0.7]\n",
    "m.pv.capacity[m.usd.spend] == 567000 + 872046\n",
    "m.pv.operate[m.usd.spend] == 90000"
   ]
  },
  {
   "cell_type": "markdown",
   "id": "66c1382e",
   "metadata": {},
   "source": [
    "### Storage Operation\n",
    "\n",
    "energia now allows storing to require the use of other resources, example power for hydrogen cryogenic storage. \n",
    "\n",
    "Provide an equation similar to Process, in this case the basis is the stored resource \n",
    "If no other resource is provided, it is assumed to be the charging/discharging efficiency\n",
    "\n",
    "Note that the following are created internally: \n",
    "1. auxilary resource  with name resource.stored \n",
    "2. charging and discharging processes as storage.charge and storage.discharge \n",
    "\n",
    "The parameters for each of these can be set individually, thus allowing for a wide range of modeling approaches "
   ]
  },
  {
   "cell_type": "code",
   "execution_count": 7,
   "id": "443ea12a",
   "metadata": {},
   "outputs": [
    {
     "name": "stderr",
     "output_type": "stream",
     "text": [
      "2025-10-20 16:16:51,701 [INFO] Binding invcapacity in domain (power.lii, l, y)\n",
      "2025-10-20 16:16:51,701 [INFO] ✔ Completed in 0.00018262863159179688 seconds\n",
      "2025-10-20 16:16:51,702 [INFO] Binding invcapacity in domain (power.lii, l, y)\n",
      "2025-10-20 16:16:51,702 [INFO] ✔ Completed in 0.0002644062042236328 seconds\n",
      "2025-10-20 16:16:51,703 [INFO] General Resource Balance for power.lii in (l, y): initializing constraint, adding inventory(power.lii, l, y)\n",
      "2025-10-20 16:16:51,704 [INFO] Binding capacity in domain (lii.charge, l, y)\n",
      "2025-10-20 16:16:51,705 [INFO] ✔ Completed in 7.82012939453125e-05 seconds\n",
      "2025-10-20 16:16:51,705 [INFO] Binding capacity in domain (lii.discharge, l, y)\n",
      "2025-10-20 16:16:51,706 [INFO] ✔ Completed in 6.031990051269531e-05 seconds\n"
     ]
    }
   ],
   "source": [
    "m.lii = Storage()\n",
    "\n",
    "m.lii(m.power) == 0.9\n",
    "m.lii.capacity.x <= 100\n",
    "m.lii.capacity.x >= 10\n",
    "\n",
    "# m.lii.capacity >= 10\n",
    "m.lii.capacity[m.usd.spend] == 1302182 + 41432\n",
    "\n",
    "m.lii.inventory[m.usd.spend] == 2000\n",
    "m.lii.charge.capacity <= 100\n",
    "m.lii.discharge.capacity <= 100"
   ]
  },
  {
   "cell_type": "markdown",
   "id": "e68b8abc",
   "metadata": {},
   "source": [
    "## Locating Operations\n",
    "\n",
    "Operations can be located as \n",
    "\n",
    "operation.locate(\\<list of locations\\>)\n",
    "\n",
    "or \n",
    "\n",
    "m.location.operations(\\<list of operations\\>)\n",
    "\n",
    "They both do the same thing "
   ]
  },
  {
   "cell_type": "code",
   "execution_count": 8,
   "id": "65247cfa",
   "metadata": {},
   "outputs": [
    {
     "name": "stderr",
     "output_type": "stream",
     "text": [
      "2025-10-20 16:16:51,711 [INFO] General Resource Balance for power in (l, q): adding produce(power, l, q, operate, pv)\n",
      "2025-10-20 16:16:51,711 [INFO] ✔ Completed in 0.0001544952392578125 seconds\n",
      "2025-10-20 16:16:51,712 [INFO] General Resource Balance for solar in (l, q): adding expend(solar, l, q, operate, pv)\n",
      "2025-10-20 16:16:51,713 [INFO] ✔ Completed in 0.00014257431030273438 seconds\n",
      "2025-10-20 16:16:51,713 [INFO] General Resource Balance for power in (l, q): adding produce(power, l, q, operate, wf)\n",
      "2025-10-20 16:16:51,714 [INFO] ✔ Completed in 0.00014066696166992188 seconds\n",
      "2025-10-20 16:16:51,715 [INFO] General Resource Balance for wind in (l, y): adding expend(wind, l, y, operate, wf)\n",
      "2025-10-20 16:16:51,715 [INFO] ✔ Completed in 0.00010347366333007812 seconds\n",
      "2025-10-20 16:16:51,715 [INFO] Assuming  power.lii inventory capacity is unbounded in (l, y)\n",
      "2025-10-20 16:16:51,716 [INFO] Assuming inventory of power.lii is bound by inventory capacity in (l, y)\n",
      "2025-10-20 16:16:51,716 [INFO] Assuming inventory of power.lii is bound by inventory capacity in (l, q)\n",
      "2025-10-20 16:16:51,716 [INFO] Mapping inventory: (power.lii, l, q) → (power.lii, l, y)\n",
      "2025-10-20 16:16:51,716 [INFO] ✔ Completed in 0.000s\n",
      "2025-10-20 16:16:51,717 [INFO] General Resource Balance for power.lii in (l, q): initializing constraint, adding inventory(power.lii, l, q)\n",
      "2025-10-20 16:16:51,717 [INFO] ✔ Completed in 0.0002086162567138672 seconds\n",
      "2025-10-20 16:16:51,717 [INFO] Binding inventory in domain (power.lii, l, q)\n",
      "2025-10-20 16:16:51,718 [INFO] ✔ Completed in 0.0001232624053955078 seconds\n",
      "2025-10-20 16:16:51,718 [INFO] Assuming operation of lii.charge is bound by capacity in (l, y)\n",
      "2025-10-20 16:16:51,718 [INFO] Binding operate in domain (lii.charge, l, y)\n",
      "2025-10-20 16:16:51,719 [INFO] ✔ Completed in 8.654594421386719e-05 seconds\n",
      "2025-10-20 16:16:51,719 [INFO] General Resource Balance for power.lii in (l, q): adding produce(power.lii, l, q, operate, lii.charge)\n",
      "2025-10-20 16:16:51,720 [INFO] ✔ Completed in 0.00013875961303710938 seconds\n",
      "2025-10-20 16:16:51,720 [INFO] Mapping operate: (lii.charge, l, q) → (lii.charge, l, y)\n",
      "2025-10-20 16:16:51,720 [INFO] ✔ Completed in 0.000s\n",
      "2025-10-20 16:16:51,721 [INFO] General Resource Balance for power in (l, q): adding expend(power, l, q, operate, lii.charge)\n",
      "2025-10-20 16:16:51,722 [INFO] ✔ Completed in 0.0001316070556640625 seconds\n",
      "2025-10-20 16:16:51,722 [INFO] Assuming operation of lii.discharge is bound by capacity in (l, y)\n",
      "2025-10-20 16:16:51,722 [INFO] Binding operate in domain (lii.discharge, l, y)\n",
      "2025-10-20 16:16:51,723 [INFO] ✔ Completed in 9.34600830078125e-05 seconds\n",
      "2025-10-20 16:16:51,723 [INFO] General Resource Balance for power in (l, q): adding produce(power, l, q, operate, lii.discharge)\n",
      "2025-10-20 16:16:51,724 [INFO] ✔ Completed in 0.00011515617370605469 seconds\n",
      "2025-10-20 16:16:51,724 [INFO] Mapping operate: (lii.discharge, l, q) → (lii.discharge, l, y)\n",
      "2025-10-20 16:16:51,724 [INFO] ✔ Completed in 0.000s\n",
      "2025-10-20 16:16:51,725 [INFO] General Resource Balance for power.lii in (l, q): adding expend(power.lii, l, q, operate, lii.discharge)\n",
      "2025-10-20 16:16:51,725 [INFO] ✔ Completed in 0.00012803077697753906 seconds\n"
     ]
    }
   ],
   "source": [
    "m.pv.locate(m.network)\n",
    "m.network.locate(m.wf, m.lii)"
   ]
  },
  {
   "cell_type": "markdown",
   "id": "85f87873",
   "metadata": {},
   "source": [
    "## Inventory Balance\n",
    "\n",
    "Inventory is passed on from one time period (t - 1) to the next (t) and hence features in the general resource balance for resource.stored "
   ]
  },
  {
   "cell_type": "markdown",
   "id": "165e3543",
   "metadata": {},
   "source": []
  },
  {
   "cell_type": "code",
   "execution_count": 9,
   "id": "f44a61c2",
   "metadata": {},
   "outputs": [
    {
     "data": {
      "text/latex": [
       "$\\displaystyle [21]\\text{   }{{{spend}}}_{usd, l, y, {inventory}, power.lii} - 2000 \\cdot {{{inv}}}_{power.lii, l, y} = 0$"
      ],
      "text/plain": [
       "<IPython.core.display.Math object>"
      ]
     },
     "metadata": {},
     "output_type": "display_data"
    },
    {
     "data": {
      "text/latex": [
       "$\\displaystyle [28]\\text{   }{{{{inv}}}}_{power.lii, l, y} - \\sum_{i \\in q} {{{{inv}}}}_{power.lii, l, i} = 0$"
      ],
      "text/plain": [
       "<IPython.core.display.Math object>"
      ]
     },
     "metadata": {},
     "output_type": "display_data"
    },
    {
     "data": {
      "text/latex": [
       "$\\displaystyle [29]\\text{   }-{{{{inv}}}}_{power.lii, l, q} + {{{{inv}}}}_{power.lii, l, q-1} + {{{prod}}}_{power.lii, l, q, {operate}, lii.charge} - {{{{expd}}}}_{power.lii, l, q, {operate}, lii.discharge} = 0$"
      ],
      "text/plain": [
       "<IPython.core.display.Math object>"
      ]
     },
     "metadata": {},
     "output_type": "display_data"
    },
    {
     "data": {
      "text/latex": [
       "$\\displaystyle [30]\\text{   }{{{{inv}}}}_{power.lii, l, q} - {{{icap}}}_{power.lii, l, y} \\leq 0$"
      ],
      "text/plain": [
       "<IPython.core.display.Math object>"
      ]
     },
     "metadata": {},
     "output_type": "display_data"
    }
   ],
   "source": [
    "m.inventory.show()"
   ]
  },
  {
   "cell_type": "markdown",
   "id": "64c93a46",
   "metadata": {},
   "source": [
    "## Optimize!"
   ]
  },
  {
   "cell_type": "code",
   "execution_count": 10,
   "id": "b2d5463b",
   "metadata": {},
   "outputs": [
    {
     "name": "stderr",
     "output_type": "stream",
     "text": [
      "2025-10-20 16:16:51,737 [INFO] Mapping spend: (usd, l, y, capacity, wf) → (usd, l, y)\n",
      "2025-10-20 16:16:51,737 [INFO] ✔ Completed in 0.000s\n",
      "2025-10-20 16:16:51,738 [INFO] Mapping spend: (usd, l, y, operate, wf) → (usd, l, y)\n",
      "2025-10-20 16:16:51,738 [INFO] ✔ Completed in 0.000s\n",
      "2025-10-20 16:16:51,739 [INFO] Mapping spend: (usd, l, y, capacity, pv) → (usd, l, y)\n",
      "2025-10-20 16:16:51,739 [INFO] ✔ Completed in 0.000s\n",
      "2025-10-20 16:16:51,739 [INFO] Mapping spend: (usd, l, y, operate, pv) → (usd, l, y)\n",
      "2025-10-20 16:16:51,740 [INFO] ✔ Completed in 0.000s\n",
      "2025-10-20 16:16:51,740 [INFO] Mapping spend: (usd, l, y, invcapacity, power.lii) → (usd, l, y)\n",
      "2025-10-20 16:16:51,740 [INFO] ✔ Completed in 0.000s\n",
      "2025-10-20 16:16:51,741 [INFO] Mapping spend: (usd, l, y, inventory, power.lii) → (usd, l, y)\n",
      "2025-10-20 16:16:51,741 [INFO] ✔ Completed in 0.000s\n",
      "2025-10-20 16:16:51,741 [INFO] Generating Program(example2).mps\n",
      "2025-10-20 16:16:51,746 [INFO] Creating gurobi model for Program(example2)\n"
     ]
    },
    {
     "name": "stdout",
     "output_type": "stream",
     "text": [
      "Set parameter Username\n",
      "Academic license - for non-commercial use only - expires 2026-08-01\n",
      "Read MPS format model from file Program(example2).mps\n",
      "Reading time = 0.00 seconds\n",
      "PROGRAM(EXAMPLE2): 85 rows, 78 columns, 198 nonzeros\n"
     ]
    },
    {
     "name": "stderr",
     "output_type": "stream",
     "text": [
      "2025-10-20 16:16:51,750 [INFO] Optimizing Program(example2) using gurobi\n"
     ]
    },
    {
     "name": "stdout",
     "output_type": "stream",
     "text": [
      "Gurobi Optimizer version 12.0.3 build v12.0.3rc0 (win64 - Windows 11.0 (26100.2))\n",
      "\n",
      "CPU model: 13th Gen Intel(R) Core(TM) i7-13700, instruction set [SSE2|AVX|AVX2]\n",
      "Thread count: 16 physical cores, 24 logical processors, using up to 24 threads\n",
      "\n",
      "Optimize a model with 85 rows, 78 columns and 198 nonzeros\n",
      "Model fingerprint: 0x2d658939\n",
      "Variable types: 75 continuous, 3 integer (3 binary)\n",
      "Coefficient statistics:\n",
      "  Matrix range     [6e-01, 1e+06]\n",
      "  Objective range  [1e+00, 1e+00]\n",
      "  Bounds range     [1e+00, 1e+00]\n",
      "  RHS range        [7e+01, 4e+02]\n",
      "Presolve removed 70 rows and 63 columns\n",
      "Presolve time: 0.00s\n",
      "Presolved: 15 rows, 15 columns, 44 nonzeros\n",
      "Variable types: 15 continuous, 0 integer (0 binary)\n",
      "\n",
      "Root relaxation: objective 3.006497e+08, 4 iterations, 0.00 seconds (0.00 work units)\n",
      "\n",
      "    Nodes    |    Current Node    |     Objective Bounds      |     Work\n",
      " Expl Unexpl |  Obj  Depth IntInf | Incumbent    BestBd   Gap | It/Node Time\n",
      "\n",
      "*    0     0               0    3.006497e+08 3.0065e+08  0.00%     -    0s\n",
      "\n",
      "Explored 1 nodes (4 simplex iterations) in 0.00 seconds (0.00 work units)\n",
      "Thread count was 24 (of 24 available processors)\n",
      "\n",
      "Solution count 1: 3.0065e+08 \n",
      "\n",
      "Optimal solution found (tolerance 1.00e-04)\n",
      "Best objective 3.006497358951e+08, best bound 3.006497358951e+08, gap 0.0000%\n"
     ]
    },
    {
     "name": "stderr",
     "output_type": "stream",
     "text": [
      "2025-10-20 16:16:51,758 [INFO] Solution found. Use .sol() to display it\n",
      "2025-10-20 16:16:51,759 [INFO] Creating Solution object, check.solution\n"
     ]
    }
   ],
   "source": [
    "m.usd.spend.opt()"
   ]
  },
  {
   "cell_type": "markdown",
   "id": "8ad83832",
   "metadata": {},
   "source": [
    "## Solution"
   ]
  },
  {
   "cell_type": "markdown",
   "id": "ac8bf947",
   "metadata": {},
   "source": [
    "### Inventory Profiles\n",
    "\n",
    "The inventory maintained in each time period is:"
   ]
  },
  {
   "cell_type": "code",
   "execution_count": 11,
   "id": "f67de1d4",
   "metadata": {},
   "outputs": [
    {
     "data": {
      "text/latex": [
       "$\\displaystyle {{{inv}}}_{power.lii, l, y{0}}=34.043209876543145$"
      ],
      "text/plain": [
       "<IPython.core.display.Math object>"
      ]
     },
     "metadata": {},
     "output_type": "display_data"
    },
    {
     "data": {
      "text/latex": [
       "$\\displaystyle {{{inv}}}_{power.lii, l, q{0}}=6.882716049382658$"
      ],
      "text/plain": [
       "<IPython.core.display.Math object>"
      ]
     },
     "metadata": {},
     "output_type": "display_data"
    },
    {
     "data": {
      "text/latex": [
       "$\\displaystyle {{{inv}}}_{power.lii, l, q{1}}=27.160493827160487$"
      ],
      "text/plain": [
       "<IPython.core.display.Math object>"
      ]
     },
     "metadata": {},
     "output_type": "display_data"
    },
    {
     "data": {
      "text/latex": [
       "$\\displaystyle {{{inv}}}_{power.lii, l, q{2}}=0.0$"
      ],
      "text/plain": [
       "<IPython.core.display.Math object>"
      ]
     },
     "metadata": {},
     "output_type": "display_data"
    },
    {
     "data": {
      "text/latex": [
       "$\\displaystyle {{{inv}}}_{power.lii, l, q{3}}=0.0$"
      ],
      "text/plain": [
       "<IPython.core.display.Math object>"
      ]
     },
     "metadata": {},
     "output_type": "display_data"
    }
   ],
   "source": [
    "m.inventory.sol()"
   ]
  },
  {
   "cell_type": "markdown",
   "id": "2c042bdb",
   "metadata": {},
   "source": [
    "The amount charged into inventory is:"
   ]
  },
  {
   "cell_type": "code",
   "execution_count": 12,
   "id": "fe91fb8f",
   "metadata": {},
   "outputs": [
    {
     "data": {
      "text/latex": [
       "$\\displaystyle {{prod}}_{power.lii, l, q{0}, operate, lii.charge}=6.882716049382658$"
      ],
      "text/plain": [
       "<IPython.core.display.Math object>"
      ]
     },
     "metadata": {},
     "output_type": "display_data"
    },
    {
     "data": {
      "text/latex": [
       "$\\displaystyle {{prod}}_{power.lii, l, q{1}, operate, lii.charge}=20.27777777777778$"
      ],
      "text/plain": [
       "<IPython.core.display.Math object>"
      ]
     },
     "metadata": {},
     "output_type": "display_data"
    },
    {
     "data": {
      "text/latex": [
       "$\\displaystyle {{prod}}_{power.lii, l, q{2}, operate, lii.charge}=0.0$"
      ],
      "text/plain": [
       "<IPython.core.display.Math object>"
      ]
     },
     "metadata": {},
     "output_type": "display_data"
    },
    {
     "data": {
      "text/latex": [
       "$\\displaystyle {{prod}}_{power.lii, l, q{3}, operate, lii.charge}=0.0$"
      ],
      "text/plain": [
       "<IPython.core.display.Math object>"
      ]
     },
     "metadata": {},
     "output_type": "display_data"
    }
   ],
   "source": [
    "m.produce(m.power.lii, m.lii.charge.operate, m.q).sol()"
   ]
  },
  {
   "cell_type": "markdown",
   "id": "946d48b7",
   "metadata": {},
   "source": [
    "The amount discharged from inventory is:"
   ]
  },
  {
   "cell_type": "code",
   "execution_count": 13,
   "id": "00d675ad",
   "metadata": {},
   "outputs": [
    {
     "data": {
      "text/latex": [
       "$\\displaystyle {{prod}}_{power, l, q{0}, operate, lii.discharge}=0.0$"
      ],
      "text/plain": [
       "<IPython.core.display.Math object>"
      ]
     },
     "metadata": {},
     "output_type": "display_data"
    },
    {
     "data": {
      "text/latex": [
       "$\\displaystyle {{prod}}_{power, l, q{1}, operate, lii.discharge}=0.0$"
      ],
      "text/plain": [
       "<IPython.core.display.Math object>"
      ]
     },
     "metadata": {},
     "output_type": "display_data"
    },
    {
     "data": {
      "text/latex": [
       "$\\displaystyle {{prod}}_{power, l, q{2}, operate, lii.discharge}=24.444444444444443$"
      ],
      "text/plain": [
       "<IPython.core.display.Math object>"
      ]
     },
     "metadata": {},
     "output_type": "display_data"
    },
    {
     "data": {
      "text/latex": [
       "$\\displaystyle {{prod}}_{power, l, q{3}, operate, lii.discharge}=0.0$"
      ],
      "text/plain": [
       "<IPython.core.display.Math object>"
      ]
     },
     "metadata": {},
     "output_type": "display_data"
    }
   ],
   "source": [
    "m.produce(m.power, m.lii.discharge.operate, m.q).sol()"
   ]
  },
  {
   "cell_type": "markdown",
   "id": "f152fbfc",
   "metadata": {},
   "source": [
    "### Integer Decisions \n",
    "\n",
    "All the operations are setup in this case"
   ]
  },
  {
   "cell_type": "code",
   "execution_count": 14,
   "id": "7ba53e91",
   "metadata": {},
   "outputs": [
    {
     "data": {
      "text/latex": [
       "$\\displaystyle {{{\\breve{{cap}}}}}_{wf, l, y{0}}=1.0$"
      ],
      "text/plain": [
       "<IPython.core.display.Math object>"
      ]
     },
     "metadata": {},
     "output_type": "display_data"
    },
    {
     "data": {
      "text/latex": [
       "$\\displaystyle {{{\\breve{{cap}}}}}_{pv, l, y{0}}=1.0$"
      ],
      "text/plain": [
       "<IPython.core.display.Math object>"
      ]
     },
     "metadata": {},
     "output_type": "display_data"
    }
   ],
   "source": [
    "m.capacity.reporting.sol()"
   ]
  },
  {
   "cell_type": "code",
   "execution_count": 15,
   "id": "dafa2788",
   "metadata": {},
   "outputs": [
    {
     "data": {
      "text/latex": [
       "$\\displaystyle {{{cap}}}_{wf, l, y{0}}=100.0$"
      ],
      "text/plain": [
       "<IPython.core.display.Math object>"
      ]
     },
     "metadata": {},
     "output_type": "display_data"
    },
    {
     "data": {
      "text/latex": [
       "$\\displaystyle {{{cap}}}_{pv, l, y{0}}=100.0$"
      ],
      "text/plain": [
       "<IPython.core.display.Math object>"
      ]
     },
     "metadata": {},
     "output_type": "display_data"
    },
    {
     "data": {
      "text/latex": [
       "$\\displaystyle {{{cap}}}_{lii.charge, l, y{0}}=100.0$"
      ],
      "text/plain": [
       "<IPython.core.display.Math object>"
      ]
     },
     "metadata": {},
     "output_type": "display_data"
    },
    {
     "data": {
      "text/latex": [
       "$\\displaystyle {{{cap}}}_{lii.discharge, l, y{0}}=100.0$"
      ],
      "text/plain": [
       "<IPython.core.display.Math object>"
      ]
     },
     "metadata": {},
     "output_type": "display_data"
    }
   ],
   "source": [
    "m.capacity.sol()"
   ]
  }
 ],
 "metadata": {
  "kernelspec": {
   "display_name": ".venv",
   "language": "python",
   "name": "python3"
  },
  "language_info": {
   "codemirror_mode": {
    "name": "ipython",
    "version": 3
   },
   "file_extension": ".py",
   "mimetype": "text/x-python",
   "name": "python",
   "nbconvert_exporter": "python",
   "pygments_lexer": "ipython3",
   "version": "3.13.9"
  }
 },
 "nbformat": 4,
 "nbformat_minor": 5
}
