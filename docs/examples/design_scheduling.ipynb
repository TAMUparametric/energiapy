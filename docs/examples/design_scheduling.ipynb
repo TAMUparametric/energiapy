{
 "cells": [
  {
   "cell_type": "markdown",
   "id": "69e19c5b",
   "metadata": {},
   "source": [
    "# Multiscale MILP\n",
    "\n",
    "This is a continuation of 'One Location, One Temporal Scale, One Operation, Linear Programming Example' [Example 1]. Refer Example 1 to learn the basics on how Energia models processes. \n",
    "\n",
    "In this example, we add another Process [Solar PV] and Storage [Li-ion Battery]. Technology choice is modeled using binaries. Moreover, the model is multiscale as the operational capacities are decision variables. "
   ]
  },
  {
   "cell_type": "code",
   "execution_count": 16,
   "id": "81ad074e",
   "metadata": {},
   "outputs": [],
   "source": [
    "from energia import *\n",
    "\n",
    "m = Model('example2')\n",
    "m.q = Periods()\n",
    "m.y = 4 * m.q\n",
    "m.usd = Currency()"
   ]
  },
  {
   "cell_type": "markdown",
   "id": "a472f7e5",
   "metadata": {},
   "source": [
    "## Resources"
   ]
  },
  {
   "cell_type": "markdown",
   "id": "5ebced0e",
   "metadata": {},
   "source": [
    "### Conveniently declaring components\n",
    "\n",
    "Use m.declare(\\<Object Type\\>, \\<list of names\\>) to declare a large number of objects in one step."
   ]
  },
  {
   "cell_type": "code",
   "execution_count": 17,
   "id": "e9996b8f",
   "metadata": {},
   "outputs": [],
   "source": [
    "m.declare(Resource, ['power', 'wind', 'solar'])"
   ]
  },
  {
   "cell_type": "markdown",
   "id": "d43aca06",
   "metadata": {},
   "source": [
    "### Set bounds on Resource flows\n",
    "\n",
    "Unlike wind which has bound on the total consumption, we set a daily limit on solar energy. The same bound is repeated in each quarter. The following constraints are written.\n",
    "\n",
    "$\\mathbf{cons}_{solar, network, quarter_0} \\leq 100$\n",
    "\n",
    "$\\mathbf{cons}_{solar, network, quarter_1} \\leq 100$\n",
    "\n",
    "$\\mathbf{cons}_{solar, network, quarter_2} \\leq 100$\n",
    "\n",
    "$\\mathbf{cons}_{solar, network, quarter_3} \\leq 100$"
   ]
  },
  {
   "cell_type": "code",
   "execution_count": 18,
   "id": "45ebb26f",
   "metadata": {},
   "outputs": [
    {
     "name": "stderr",
     "output_type": "stream",
     "text": [
      "2025-10-20 14:25:04,722 [INFO] General Resource Balance for solar in (l, q): initializing constraint, adding consume(solar, l, q)\n",
      "2025-10-20 14:25:04,723 [INFO] ✔ Completed in 0.00016379356384277344 seconds\n",
      "2025-10-20 14:25:04,723 [INFO] Binding consume in domain (solar, l, q)\n",
      "2025-10-20 14:25:04,724 [INFO] ✔ Completed in 0.0004134178161621094 seconds\n",
      "2025-10-20 14:25:04,725 [INFO] General Resource Balance for wind in (l, y): initializing constraint, adding consume(wind, l, y)\n",
      "2025-10-20 14:25:04,725 [INFO] ✔ Completed in 0.00010609626770019531 seconds\n",
      "2025-10-20 14:25:04,725 [INFO] Binding consume in domain (wind, l, y)\n",
      "2025-10-20 14:25:04,726 [INFO] ✔ Completed in 6.937980651855469e-05 seconds\n",
      "2025-10-20 14:25:04,726 [INFO] General Resource Balance for power in (l, q): initializing constraint, adding release(power, l, q)\n",
      "2025-10-20 14:25:04,727 [INFO] ✔ Completed in 0.00023031234741210938 seconds\n",
      "2025-10-20 14:25:04,728 [INFO] Binding release in domain (power, l, q)\n",
      "2025-10-20 14:25:04,728 [INFO] ✔ Completed in 0.0001537799835205078 seconds\n"
     ]
    },
    {
     "name": "stdout",
     "output_type": "stream",
     "text": [
      "aaaaa solar consume\n",
      "aaaaa wind consume\n",
      "aaaaa power release\n"
     ]
    }
   ],
   "source": [
    "m.solar.consume(m.q) <= 100\n",
    "m.wind.consume <= 400\n",
    "m.power.release.prep(180) >= [0.6, 0.7, 0.8, 0.3]"
   ]
  },
  {
   "cell_type": "markdown",
   "id": "89269641",
   "metadata": {},
   "source": [
    "## Operations "
   ]
  },
  {
   "cell_type": "markdown",
   "id": "e21925d4",
   "metadata": {},
   "source": [
    "### Capacity as a variable \n",
    "\n",
    "Here we want the optimization problem to determine the optimal capacity. Moreover, we set binaries to avoid the lower bound being adhered to if the process is not set up. \n",
    "\n",
    "If the bounds are meant to be compulsory limits, skip the .x "
   ]
  },
  {
   "cell_type": "code",
   "execution_count": 19,
   "id": "77f192a1",
   "metadata": {},
   "outputs": [
    {
     "name": "stderr",
     "output_type": "stream",
     "text": [
      "2025-10-20 14:25:04,734 [INFO] Binding capacity in domain (wf, l, y)\n",
      "2025-10-20 14:25:04,735 [INFO] ✔ Completed in 0.00018024444580078125 seconds\n",
      "2025-10-20 14:25:04,735 [INFO] Binding capacity in domain (wf, l, y)\n",
      "2025-10-20 14:25:04,735 [INFO] ✔ Completed in 0.00015282630920410156 seconds\n"
     ]
    },
    {
     "name": "stdout",
     "output_type": "stream",
     "text": [
      "aaaaa wf capacity\n",
      "aaaaa wf capacity\n"
     ]
    },
    {
     "data": {
      "text/latex": [
       "$\\displaystyle [6]\\text{   }{{{cap}}}_{wf, l, y} - 100 \\cdot {{{\\breve{{cap}}}}}_{wf, l, y} \\leq 0$"
      ],
      "text/plain": [
       "<IPython.core.display.Math object>"
      ]
     },
     "metadata": {},
     "output_type": "display_data"
    },
    {
     "data": {
      "text/latex": [
       "$\\displaystyle [7]\\text{   }10 \\cdot {{{\\breve{{cap}}}}}_{wf, l, y} - {{{cap}}}_{wf, l, y} \\leq 0$"
      ],
      "text/plain": [
       "<IPython.core.display.Math object>"
      ]
     },
     "metadata": {},
     "output_type": "display_data"
    }
   ],
   "source": [
    "m.wf = Process()\n",
    "m.wf(m.power) == -1 * m.wind\n",
    "m.wf.capacity.x <= 100\n",
    "m.wf.capacity.x >= 10\n",
    "m.capacity.show()"
   ]
  },
  {
   "cell_type": "markdown",
   "id": "30670b61",
   "metadata": {},
   "source": [
    "Unlike in Example 1, where the capacity was know, capacity is a variable here. \n",
    "\n",
    "Moreover, the expenditure associated with operating and capacitating are different"
   ]
  },
  {
   "cell_type": "code",
   "execution_count": 20,
   "id": "a45c766c",
   "metadata": {},
   "outputs": [
    {
     "name": "stderr",
     "output_type": "stream",
     "text": [
      "2025-10-20 14:25:04,743 [INFO] Binding operate in domain (wf, l, q)\n",
      "2025-10-20 14:25:04,744 [INFO] ✔ Completed in 0.00032067298889160156 seconds\n",
      "2025-10-20 14:25:04,745 [INFO] Mapping operate: (wf, l, q) → (wf, l, y)\n",
      "2025-10-20 14:25:04,745 [INFO] ✔ Completed in 0.000s\n"
     ]
    },
    {
     "name": "stdout",
     "output_type": "stream",
     "text": [
      "aaaaa wf operate\n",
      "aaaaa wf capacity\n",
      "aaaaa usd spend\n",
      "aaaaa wf operate\n",
      "aaaaa usd spend\n"
     ]
    },
    {
     "data": {
      "text/latex": [
       "$\\displaystyle [20]\\text{   }{{{opr}}}_{wf, l, q{0}} - 1.0 \\cdot {{{cap}}}_{wf, l, y{0}} \\leq 0$"
      ],
      "text/plain": [
       "<IPython.core.display.Math object>"
      ]
     },
     "metadata": {},
     "output_type": "display_data"
    },
    {
     "data": {
      "text/latex": [
       "$\\displaystyle [21]\\text{   }{{{opr}}}_{wf, l, q{1}} - 0.888888888888889 \\cdot {{{cap}}}_{wf, l, y{0}} \\leq 0$"
      ],
      "text/plain": [
       "<IPython.core.display.Math object>"
      ]
     },
     "metadata": {},
     "output_type": "display_data"
    },
    {
     "data": {
      "text/latex": [
       "$\\displaystyle [22]\\text{   }{{{opr}}}_{wf, l, q{2}} - 0.5555555555555556 \\cdot {{{cap}}}_{wf, l, y{0}} \\leq 0$"
      ],
      "text/plain": [
       "<IPython.core.display.Math object>"
      ]
     },
     "metadata": {},
     "output_type": "display_data"
    },
    {
     "data": {
      "text/latex": [
       "$\\displaystyle [23]\\text{   }{{{opr}}}_{wf, l, q{3}} - 0.7777777777777777 \\cdot {{{cap}}}_{wf, l, y{0}} \\leq 0$"
      ],
      "text/plain": [
       "<IPython.core.display.Math object>"
      ]
     },
     "metadata": {},
     "output_type": "display_data"
    },
    {
     "data": {
      "text/latex": [
       "$\\displaystyle [25]\\text{   }{{{opr}}}_{wf, l, y{0}} - \\sum_{i \\in q} {{{opr}}}_{wf, l, i} = 0$"
      ],
      "text/plain": [
       "<IPython.core.display.Math object>"
      ]
     },
     "metadata": {},
     "output_type": "display_data"
    },
    {
     "data": {
      "text/latex": [
       "$\\displaystyle [26]\\text{   }{{spend}}_{usd, l, y{0}, operate, wf} - 49.0 \\cdot {{{opr}}}_{wf, l, y{0}} = 0$"
      ],
      "text/plain": [
       "<IPython.core.display.Math object>"
      ]
     },
     "metadata": {},
     "output_type": "display_data"
    }
   ],
   "source": [
    "m.wf.operate.prep(norm=True) <= [0.9, 0.8, 0.5, 0.7]\n",
    "m.wf.capacity[m.usd.spend] == 990637 + 3354\n",
    "m.wf.operate[m.usd.spend] == 49\n",
    "m.operate.show(True)"
   ]
  },
  {
   "cell_type": "code",
   "execution_count": 21,
   "id": "11fa2491",
   "metadata": {},
   "outputs": [
    {
     "name": "stderr",
     "output_type": "stream",
     "text": [
      "2025-10-20 14:25:04,761 [INFO] Binding capacity in domain (pv, l, y)\n",
      "2025-10-20 14:25:04,761 [INFO] ✔ Completed in 0.00016808509826660156 seconds\n",
      "2025-10-20 14:25:04,762 [INFO] Binding capacity in domain (pv, l, y)\n",
      "2025-10-20 14:25:04,763 [INFO] ✔ Completed in 0.00031375885009765625 seconds\n",
      "2025-10-20 14:25:04,764 [INFO] Binding operate in domain (pv, l, q)\n",
      "2025-10-20 14:25:04,764 [INFO] ✔ Completed in 0.0001914501190185547 seconds\n",
      "2025-10-20 14:25:04,766 [INFO] Mapping operate: (pv, l, q) → (pv, l, y)\n",
      "2025-10-20 14:25:04,766 [INFO] ✔ Completed in 0.000s\n"
     ]
    },
    {
     "name": "stdout",
     "output_type": "stream",
     "text": [
      "aaaaa pv capacity\n",
      "aaaaa pv capacity\n",
      "aaaaa pv operate\n",
      "aaaaa pv capacity\n",
      "aaaaa usd spend\n",
      "aaaaa pv operate\n",
      "aaaaa usd spend\n"
     ]
    }
   ],
   "source": [
    "m.pv = Process()\n",
    "m.pv(m.power) == -1 * m.solar\n",
    "m.pv.capacity.x <= 100\n",
    "m.pv.capacity.x >= 10\n",
    "\n",
    "m.pv.operate.prep(norm=True) <= [0.6, 0.8, 0.9, 0.7]\n",
    "m.pv.capacity[m.usd.spend] == 567000 + 872046\n",
    "m.pv.operate[m.usd.spend] == 90000"
   ]
  },
  {
   "cell_type": "markdown",
   "id": "66c1382e",
   "metadata": {},
   "source": [
    "### Storage Operation\n",
    "\n",
    "energia now allows storing to require the use of other resources, example power for hydrogen cryogenic storage. \n",
    "\n",
    "Provide an equation similar to Process, in this case the basis is the stored resource \n",
    "If no other resource is provided, it is assumed to be the charging/discharging efficiency\n",
    "\n",
    "Note that the following are created internally: \n",
    "1. auxilary resource  with name resource.stored \n",
    "2. charging and discharging processes as storage.charge and storage.discharge \n",
    "\n",
    "The parameters for each of these can be set individually, thus allowing for a wide range of modeling approaches "
   ]
  },
  {
   "cell_type": "code",
   "execution_count": 22,
   "id": "443ea12a",
   "metadata": {},
   "outputs": [
    {
     "name": "stderr",
     "output_type": "stream",
     "text": [
      "2025-10-20 14:25:04,774 [INFO] Binding invcapacity in domain (power.lii, l, y)\n",
      "2025-10-20 14:25:04,775 [INFO] ✔ Completed in 0.0002548694610595703 seconds\n",
      "2025-10-20 14:25:04,776 [INFO] Binding invcapacity in domain (power.lii, l, y)\n",
      "2025-10-20 14:25:04,776 [INFO] ✔ Completed in 0.00014829635620117188 seconds\n",
      "2025-10-20 14:25:04,778 [INFO] General Resource Balance for power.lii in (l, y): initializing constraint, adding inventory(power.lii, l, y)\n",
      "2025-10-20 14:25:04,778 [INFO] Binding capacity in domain (lii.charge, l, y)\n",
      "2025-10-20 14:25:04,779 [INFO] ✔ Completed in 7.414817810058594e-05 seconds\n",
      "2025-10-20 14:25:04,779 [INFO] Binding capacity in domain (lii.discharge, l, y)\n",
      "2025-10-20 14:25:04,780 [INFO] ✔ Completed in 7.200241088867188e-05 seconds\n"
     ]
    },
    {
     "name": "stdout",
     "output_type": "stream",
     "text": [
      "aaaaa power.lii invcapacity\n",
      "aaaaa power.lii invcapacity\n",
      "aaaaa power.lii invcapacity\n",
      "aaaaa usd spend\n",
      "aaaaa power.lii inventory\n",
      "aaaaa usd spend\n",
      "aaaaa lii.charge capacity\n",
      "aaaaa lii.discharge capacity\n"
     ]
    }
   ],
   "source": [
    "m.lii = Storage()\n",
    "\n",
    "m.lii(m.power) == 0.9\n",
    "m.lii.capacity.x <= 100\n",
    "m.lii.capacity.x >= 10\n",
    "\n",
    "# m.lii.capacity >= 10\n",
    "m.lii.capacity[m.usd.spend] == 1302182 + 41432\n",
    "\n",
    "m.lii.inventory[m.usd.spend] == 2000\n",
    "m.lii.charge.capacity <= 100\n",
    "m.lii.discharge.capacity <= 100"
   ]
  },
  {
   "cell_type": "markdown",
   "id": "e68b8abc",
   "metadata": {},
   "source": [
    "## Locating Operations\n",
    "\n",
    "Operations can be located as \n",
    "\n",
    "operation.locate(\\<list of locations\\>)\n",
    "\n",
    "or \n",
    "\n",
    "m.location.operations(\\<list of operations\\>)\n",
    "\n",
    "They both do the same thing "
   ]
  },
  {
   "cell_type": "code",
   "execution_count": 23,
   "id": "65247cfa",
   "metadata": {},
   "outputs": [
    {
     "name": "stderr",
     "output_type": "stream",
     "text": [
      "2025-10-20 14:25:04,785 [INFO] General Resource Balance for power in (l, q): adding produce(power, l, q, operate, pv)\n",
      "2025-10-20 14:25:04,786 [INFO] ✔ Completed in 0.00019431114196777344 seconds\n",
      "2025-10-20 14:25:04,787 [INFO] General Resource Balance for solar in (l, q): adding expend(solar, l, q, operate, pv)\n",
      "2025-10-20 14:25:04,787 [INFO] ✔ Completed in 0.00028443336486816406 seconds\n",
      "2025-10-20 14:25:04,789 [INFO] General Resource Balance for power in (l, q): adding produce(power, l, q, operate, wf)\n",
      "2025-10-20 14:25:04,789 [INFO] ✔ Completed in 0.00014710426330566406 seconds\n",
      "2025-10-20 14:25:04,790 [INFO] General Resource Balance for wind in (l, y): adding expend(wind, l, y, operate, wf)\n",
      "2025-10-20 14:25:04,791 [INFO] ✔ Completed in 0.000171661376953125 seconds\n",
      "2025-10-20 14:25:04,792 [INFO] Assuming  power.lii inventory capacity is unbounded in (l, y)\n",
      "2025-10-20 14:25:04,792 [INFO] Assuming inventory of power.lii is bound by inventory capacity in (l, y)\n",
      "2025-10-20 14:25:04,793 [INFO] Assuming inventory of power.lii is bound by inventory capacity in (l, q)\n",
      "2025-10-20 14:25:04,794 [INFO] Mapping inventory: (power.lii, l, q) → (power.lii, l, y)\n",
      "2025-10-20 14:25:04,795 [INFO] ✔ Completed in 0.000s\n",
      "2025-10-20 14:25:04,795 [INFO] General Resource Balance for power.lii in (l, q): initializing constraint, adding inventory(power.lii, l, q)\n",
      "2025-10-20 14:25:04,796 [INFO] ✔ Completed in 0.0002567768096923828 seconds\n",
      "2025-10-20 14:25:04,796 [INFO] Binding inventory in domain (power.lii, l, q)\n",
      "2025-10-20 14:25:04,797 [INFO] ✔ Completed in 0.0001399517059326172 seconds\n",
      "2025-10-20 14:25:04,797 [INFO] Assuming operation of lii.charge is bound by capacity in (l, y)\n",
      "2025-10-20 14:25:04,797 [INFO] Binding operate in domain (lii.charge, l, y)\n",
      "2025-10-20 14:25:04,798 [INFO] ✔ Completed in 0.00011014938354492188 seconds\n",
      "2025-10-20 14:25:04,799 [INFO] General Resource Balance for power.lii in (l, q): adding produce(power.lii, l, q, operate, lii.charge)\n",
      "2025-10-20 14:25:04,799 [INFO] ✔ Completed in 0.00014328956604003906 seconds\n",
      "2025-10-20 14:25:04,800 [INFO] Mapping operate: (lii.charge, l, q) → (lii.charge, l, y)\n",
      "2025-10-20 14:25:04,800 [INFO] ✔ Completed in 0.000s\n",
      "2025-10-20 14:25:04,801 [INFO] General Resource Balance for power in (l, q): adding expend(power, l, q, operate, lii.charge)\n",
      "2025-10-20 14:25:04,801 [INFO] ✔ Completed in 0.00014090538024902344 seconds\n",
      "2025-10-20 14:25:04,802 [INFO] Assuming operation of lii.discharge is bound by capacity in (l, y)\n",
      "2025-10-20 14:25:04,802 [INFO] Binding operate in domain (lii.discharge, l, y)\n",
      "2025-10-20 14:25:04,802 [INFO] ✔ Completed in 8.940696716308594e-05 seconds\n"
     ]
    },
    {
     "name": "stdout",
     "output_type": "stream",
     "text": [
      "aaaaa power produce\n",
      "aaaaa pv operate\n",
      "aaaaa pv operate\n",
      "aaaaa solar expend\n",
      "aaaaa pv operate\n",
      "aaaaa pv operate\n",
      "aaaaa pv capacity\n",
      "aaaaa power produce\n",
      "aaaaa wf operate\n",
      "aaaaa wf operate\n",
      "aaaaa wind expend\n",
      "aaaaa wf operate\n",
      "aaaaa wf operate\n",
      "aaaaa wf capacity\n",
      "aaaaa power.lii invcapacity\n",
      "aaaaa power.lii inventory\n",
      "aaaaa lii.charge operate\n",
      "aaaaa power.lii produce\n",
      "aaaaa lii.charge operate\n",
      "aaaaa lii.charge operate\n",
      "aaaaa power expend\n",
      "aaaaa lii.charge operate\n",
      "aaaaa lii.charge operate\n",
      "aaaaa lii.charge capacity\n",
      "aaaaa lii.discharge operate\n",
      "aaaaa power produce\n",
      "aaaaa lii.discharge operate\n",
      "aaaaa lii.discharge operate\n"
     ]
    },
    {
     "ename": "KeyError",
     "evalue": "(power, l, q[0], operate, pv, operate, wf, operate, lii.discharge)",
     "output_type": "error",
     "traceback": [
      "\u001b[31m---------------------------------------------------------------------------\u001b[39m",
      "\u001b[31mKeyError\u001b[39m                                  Traceback (most recent call last)",
      "\u001b[36mCell\u001b[39m\u001b[36m \u001b[39m\u001b[32mIn[23]\u001b[39m\u001b[32m, line 2\u001b[39m\n\u001b[32m      1\u001b[39m m.pv.locate(m.network)\n\u001b[32m----> \u001b[39m\u001b[32m2\u001b[39m \u001b[43mm\u001b[49m\u001b[43m.\u001b[49m\u001b[43mnetwork\u001b[49m\u001b[43m.\u001b[49m\u001b[43mlocate\u001b[49m\u001b[43m(\u001b[49m\u001b[43mm\u001b[49m\u001b[43m.\u001b[49m\u001b[43mwf\u001b[49m\u001b[43m,\u001b[49m\u001b[43m \u001b[49m\u001b[43mm\u001b[49m\u001b[43m.\u001b[49m\u001b[43mlii\u001b[49m\u001b[43m)\u001b[49m\n",
      "\u001b[36mFile \u001b[39m\u001b[32m~\\research\\packages\\energiapy\\src\\energia\\components\\spatial\\location.py:99\u001b[39m, in \u001b[36mLocation.locate\u001b[39m\u001b[34m(self, *operations)\u001b[39m\n\u001b[32m     96\u001b[39m \u001b[38;5;66;03m# locates an operation\u001b[39;00m\n\u001b[32m     97\u001b[39m \u001b[38;5;66;03m# which leads to the conversion balances being written\u001b[39;00m\n\u001b[32m     98\u001b[39m \u001b[38;5;28;01mfor\u001b[39;00m opr \u001b[38;5;129;01min\u001b[39;00m operations:\n\u001b[32m---> \u001b[39m\u001b[32m99\u001b[39m     \u001b[43mopr\u001b[49m\u001b[43m.\u001b[49m\u001b[43mlocate\u001b[49m\u001b[43m(\u001b[49m\u001b[38;5;28;43mself\u001b[39;49m\u001b[43m)\u001b[49m\n",
      "\u001b[36mFile \u001b[39m\u001b[32m~\\research\\packages\\energiapy\\src\\energia\\components\\operation\\storage.py:142\u001b[39m, in \u001b[36mStorage.locate\u001b[39m\u001b[34m(self, *locations)\u001b[39m\n\u001b[32m    140\u001b[39m \u001b[38;5;66;03m# locate the charge and discharge processes\u001b[39;00m\n\u001b[32m    141\u001b[39m \u001b[38;5;28mself\u001b[39m.charge.locate(*locations)\n\u001b[32m--> \u001b[39m\u001b[32m142\u001b[39m \u001b[38;5;28;43mself\u001b[39;49m\u001b[43m.\u001b[49m\u001b[43mdischarge\u001b[49m\u001b[43m.\u001b[49m\u001b[43mlocate\u001b[49m\u001b[43m(\u001b[49m\u001b[43m*\u001b[49m\u001b[43mlocations\u001b[49m\u001b[43m)\u001b[49m\n",
      "\u001b[36mFile \u001b[39m\u001b[32m~\\research\\packages\\energiapy\\src\\energia\\components\\operation\\_operation.py:253\u001b[39m, in \u001b[36m_Operation.locate\u001b[39m\u001b[34m(self, *spaces)\u001b[39m\n\u001b[32m    250\u001b[39m             \u001b[38;5;28;01mif\u001b[39;00m space_time \u001b[38;5;129;01mnot\u001b[39;00m \u001b[38;5;129;01min\u001b[39;00m space_times:\n\u001b[32m    251\u001b[39m                 space_times.append(space_time)\n\u001b[32m--> \u001b[39m\u001b[32m253\u001b[39m \u001b[38;5;28;43mself\u001b[39;49m\u001b[43m.\u001b[49m\u001b[43mwritecons_conversion\u001b[49m\u001b[43m(\u001b[49m\u001b[43mspace_times\u001b[49m\u001b[43m)\u001b[49m\n\u001b[32m    255\u001b[39m \u001b[38;5;28;01mif\u001b[39;00m \u001b[38;5;28mself\u001b[39m.fabrication:\n\u001b[32m    256\u001b[39m     \u001b[38;5;28mself\u001b[39m.writecons_fabrication(space_times)\n",
      "\u001b[36mFile \u001b[39m\u001b[32m~\\research\\packages\\energiapy\\src\\energia\\components\\operation\\process.py:223\u001b[39m, in \u001b[36mProcess.writecons_conversion\u001b[39m\u001b[34m(self, loc_times)\u001b[39m\n\u001b[32m    218\u001b[39m         rhs = rhs(modes)\n\u001b[32m    220\u001b[39m         \u001b[38;5;66;03m# _ = opr(modes)[rhs(modes)] == eff\u001b[39;00m\n\u001b[32m    221\u001b[39m \n\u001b[32m    222\u001b[39m     \u001b[38;5;66;03m# else:\u001b[39;00m\n\u001b[32m--> \u001b[39m\u001b[32m223\u001b[39m     _ = \u001b[43mopr\u001b[49m\u001b[43m[\u001b[49m\u001b[43mrhs\u001b[49m\u001b[43m]\u001b[49m\u001b[43m \u001b[49m\u001b[43m==\u001b[49m\u001b[43m \u001b[49m\u001b[43meff\u001b[49m\n\u001b[32m    225\u001b[39m \u001b[38;5;66;03m# update the locations at which the process exists\u001b[39;00m\n\u001b[32m    226\u001b[39m \u001b[38;5;28mself\u001b[39m.locations.append(location)\n",
      "\u001b[36mFile \u001b[39m\u001b[32m~\\research\\packages\\energiapy\\src\\energia\\modeling\\constraints\\calculate.py:187\u001b[39m, in \u001b[36mCalculate.__eq__\u001b[39m\u001b[34m(self, other)\u001b[39m\n\u001b[32m    181\u001b[39m     cons_name = (\n\u001b[32m    182\u001b[39m         \u001b[33mrf\u001b[39m\u001b[33m\"\u001b[39m\u001b[38;5;132;01m{\u001b[39;00m\u001b[38;5;28mself\u001b[39m.calculation.aspect.name\u001b[38;5;132;01m}\u001b[39;00m\u001b[33m_inc\u001b[39m\u001b[38;5;132;01m{\u001b[39;00mdomain.idxname\u001b[38;5;132;01m}\u001b[39;00m\u001b[33m_calc\u001b[39m\u001b[33m\"\u001b[39m\n\u001b[32m    183\u001b[39m     )\n\u001b[32m    185\u001b[39m \u001b[38;5;28;01melse\u001b[39;00m:\n\u001b[32m    186\u001b[39m     \u001b[38;5;66;03m# v_calc = P*v\u001b[39;00m\n\u001b[32m--> \u001b[39m\u001b[32m187\u001b[39m     v_lhs = \u001b[43mcalc\u001b[49m\u001b[43m.\u001b[49m\u001b[43mV\u001b[49m\u001b[43m(\u001b[49m\u001b[43mother\u001b[49m\u001b[43m)\u001b[49m\n\u001b[32m    188\u001b[39m     domain = calc.domain\n\u001b[32m    189\u001b[39m     v_rhs = decision.V(other)\n",
      "\u001b[36mFile \u001b[39m\u001b[32m~\\research\\packages\\energiapy\\src\\energia\\modeling\\variables\\sample.py:359\u001b[39m, in \u001b[36mSample.V\u001b[39m\u001b[34m(self, parameters, length, report, incidental)\u001b[39m\n\u001b[32m    352\u001b[39m     \u001b[38;5;28mself\u001b[39m.model.dispositions = merge_trees(\n\u001b[32m    353\u001b[39m         \u001b[38;5;28mself\u001b[39m.model.dispositions,\n\u001b[32m    354\u001b[39m         {\u001b[38;5;28mself\u001b[39m.aspect: \u001b[38;5;28mself\u001b[39m.domain.tree},\n\u001b[32m    355\u001b[39m     )\n\u001b[32m    357\u001b[39m     \u001b[38;5;66;03m# for the same aspect, map variables with higher order indices\u001b[39;00m\n\u001b[32m    358\u001b[39m     \u001b[38;5;66;03m# to variables with lower order indices\u001b[39;00m\n\u001b[32m--> \u001b[39m\u001b[32m359\u001b[39m     \u001b[38;5;28;43mself\u001b[39;49m\u001b[43m.\u001b[49m\u001b[43maspect\u001b[49m\u001b[43m.\u001b[49m\u001b[43mupdate\u001b[49m\u001b[43m(\u001b[49m\u001b[38;5;28;43mself\u001b[39;49m\u001b[43m.\u001b[49m\u001b[43mdomain\u001b[49m\u001b[43m)\u001b[49m\n\u001b[32m    361\u001b[39m     \u001b[38;5;28mself\u001b[39m.aspect.domains.append(\u001b[38;5;28mself\u001b[39m.domain)\n\u001b[32m    363\u001b[39m \u001b[38;5;28;01mreturn\u001b[39;00m \u001b[38;5;28mgetattr\u001b[39m(\u001b[38;5;28mself\u001b[39m.program, \u001b[38;5;28mself\u001b[39m.aspect.name)(*index)\n",
      "\u001b[36mFile \u001b[39m\u001b[32m~\\research\\packages\\energiapy\\src\\energia\\modeling\\variables\\states.py:98\u001b[39m, in \u001b[36mEndoStream.update\u001b[39m\u001b[34m(self, domain, reporting)\u001b[39m\n\u001b[32m     94\u001b[39m \u001b[38;5;28;01mdef\u001b[39;00m\u001b[38;5;250m \u001b[39m\u001b[34mupdate\u001b[39m(\u001b[38;5;28mself\u001b[39m, domain: Domain, reporting: \u001b[38;5;28mbool\u001b[39m = \u001b[38;5;28;01mFalse\u001b[39;00m):\n\u001b[32m     96\u001b[39m     Map(aspect=\u001b[38;5;28mself\u001b[39m, domain=domain, reporting=reporting)\n\u001b[32m---> \u001b[39m\u001b[32m98\u001b[39m     \u001b[43mBalance\u001b[49m\u001b[43m(\u001b[49m\u001b[43maspect\u001b[49m\u001b[43m=\u001b[49m\u001b[38;5;28;43mself\u001b[39;49m\u001b[43m,\u001b[49m\u001b[43m \u001b[49m\u001b[43mdomain\u001b[49m\u001b[43m=\u001b[49m\u001b[43mdomain\u001b[49m\u001b[43m)\u001b[49m\n",
      "\u001b[36mFile \u001b[39m\u001b[32m~\\research\\packages\\energiapy\\src\\energia\\modeling\\constraints\\balance.py:93\u001b[39m, in \u001b[36mBalance.__init__\u001b[39m\u001b[34m(self, aspect, domain, label)\u001b[39m\n\u001b[32m     84\u001b[39m     \u001b[38;5;28mself\u001b[39m.writecons_grb(commodity, loc, time)\n\u001b[32m     86\u001b[39m \u001b[38;5;28;01mif\u001b[39;00m \u001b[38;5;28mself\u001b[39m.aspect(commodity, loc, time) \u001b[38;5;129;01mnot\u001b[39;00m \u001b[38;5;129;01min\u001b[39;00m \u001b[38;5;28mself\u001b[39m.grb[commodity][loc][time]:\n\u001b[32m     87\u001b[39m     \u001b[38;5;66;03m# for the second check, consider the case where\u001b[39;00m\n\u001b[32m     88\u001b[39m \n\u001b[32m   (...)\u001b[39m\u001b[32m     91\u001b[39m     \u001b[38;5;66;03m# if there is already a GRB existing\u001b[39;00m\n\u001b[32m     92\u001b[39m     \u001b[38;5;66;03m# add the bind to the GRB at the same scale\u001b[39;00m\n\u001b[32m---> \u001b[39m\u001b[32m93\u001b[39m     \u001b[38;5;28;43mself\u001b[39;49m\u001b[43m.\u001b[49m\u001b[43mwritecons_grb\u001b[49m\u001b[43m(\u001b[49m\u001b[43mcommodity\u001b[49m\u001b[43m,\u001b[49m\u001b[43m \u001b[49m\u001b[43mloc\u001b[49m\u001b[43m,\u001b[49m\u001b[43m \u001b[49m\u001b[43mtime\u001b[49m\u001b[43m)\u001b[49m\n",
      "\u001b[36mFile \u001b[39m\u001b[32m~\\research\\packages\\energiapy\\src\\energia\\modeling\\constraints\\balance.py:249\u001b[39m, in \u001b[36mBalance.writecons_grb\u001b[39m\u001b[34m(self, commodity, loc, time)\u001b[39m\n\u001b[32m    247\u001b[39m         lower_times = [t \u001b[38;5;28;01mfor\u001b[39;00m t \u001b[38;5;129;01min\u001b[39;00m \u001b[38;5;28mself\u001b[39m.grb[commodity][loc] \u001b[38;5;28;01mif\u001b[39;00m t > time]\n\u001b[32m    248\u001b[39m         \u001b[38;5;28;01mif\u001b[39;00m lower_times:\n\u001b[32m--> \u001b[39m\u001b[32m249\u001b[39m             _ = \u001b[38;5;28;43mself\u001b[39;49m\u001b[43m.\u001b[49m\u001b[43maspect\u001b[49m\u001b[43m(\u001b[49m\u001b[43mcommodity\u001b[49m\u001b[43m,\u001b[49m\u001b[43m \u001b[49m\u001b[43mloc\u001b[49m\u001b[43m,\u001b[49m\u001b[43m \u001b[49m\u001b[43mlower_times\u001b[49m\u001b[43m[\u001b[49m\u001b[32;43m0\u001b[39;49m\u001b[43m]\u001b[49m\u001b[43m)\u001b[49m\u001b[43m \u001b[49m\u001b[43m==\u001b[49m\u001b[43m \u001b[49m\u001b[38;5;28;43;01mTrue\u001b[39;49;00m\n\u001b[32m    250\u001b[39m             \u001b[38;5;28;01mreturn\u001b[39;00m\n\u001b[32m    252\u001b[39m \u001b[38;5;66;03m# -initialize GRB for commodity if necessary -----\u001b[39;00m\n",
      "\u001b[36mFile \u001b[39m\u001b[32m~\\research\\packages\\energiapy\\src\\energia\\modeling\\variables\\sample.py:567\u001b[39m, in \u001b[36mSample.__eq__\u001b[39m\u001b[34m(self, other)\u001b[39m\n\u001b[32m    560\u001b[39m \u001b[38;5;28;01mdef\u001b[39;00m\u001b[38;5;250m \u001b[39m\u001b[34m__eq__\u001b[39m(\u001b[38;5;28mself\u001b[39m, other):\n\u001b[32m    562\u001b[39m     \u001b[38;5;28;01mif\u001b[39;00m other \u001b[38;5;129;01mis\u001b[39;00m \u001b[38;5;28;01mTrue\u001b[39;00m:\n\u001b[32m    563\u001b[39m         \u001b[38;5;66;03m# if a truth value is give\u001b[39;00m\n\u001b[32m    564\u001b[39m         \u001b[38;5;66;03m# just declare the variable\u001b[39;00m\n\u001b[32m    565\u001b[39m         \u001b[38;5;66;03m# it will be non-negative by default\u001b[39;00m\n\u001b[32m    566\u001b[39m         \u001b[38;5;66;03m# and will begin a commodity balance\u001b[39;00m\n\u001b[32m--> \u001b[39m\u001b[32m567\u001b[39m         \u001b[38;5;28;43mself\u001b[39;49m\u001b[43m.\u001b[49m\u001b[43mV\u001b[49m\u001b[43m(\u001b[49m\u001b[43m)\u001b[49m\n\u001b[32m    569\u001b[39m     \u001b[38;5;28;01melif\u001b[39;00m \u001b[38;5;28misinstance\u001b[39m(other, Sample):\n\u001b[32m    570\u001b[39m         \u001b[38;5;28;01mif\u001b[39;00m \u001b[38;5;28mself\u001b[39m.aspect.name == other.aspect.name:\n\u001b[32m    571\u001b[39m             \u001b[38;5;66;03m# if self.domain == other.domain:\u001b[39;00m\n",
      "\u001b[36mFile \u001b[39m\u001b[32m~\\research\\packages\\energiapy\\src\\energia\\modeling\\variables\\sample.py:359\u001b[39m, in \u001b[36mSample.V\u001b[39m\u001b[34m(self, parameters, length, report, incidental)\u001b[39m\n\u001b[32m    352\u001b[39m     \u001b[38;5;28mself\u001b[39m.model.dispositions = merge_trees(\n\u001b[32m    353\u001b[39m         \u001b[38;5;28mself\u001b[39m.model.dispositions,\n\u001b[32m    354\u001b[39m         {\u001b[38;5;28mself\u001b[39m.aspect: \u001b[38;5;28mself\u001b[39m.domain.tree},\n\u001b[32m    355\u001b[39m     )\n\u001b[32m    357\u001b[39m     \u001b[38;5;66;03m# for the same aspect, map variables with higher order indices\u001b[39;00m\n\u001b[32m    358\u001b[39m     \u001b[38;5;66;03m# to variables with lower order indices\u001b[39;00m\n\u001b[32m--> \u001b[39m\u001b[32m359\u001b[39m     \u001b[38;5;28;43mself\u001b[39;49m\u001b[43m.\u001b[49m\u001b[43maspect\u001b[49m\u001b[43m.\u001b[49m\u001b[43mupdate\u001b[49m\u001b[43m(\u001b[49m\u001b[38;5;28;43mself\u001b[39;49m\u001b[43m.\u001b[49m\u001b[43mdomain\u001b[49m\u001b[43m)\u001b[49m\n\u001b[32m    361\u001b[39m     \u001b[38;5;28mself\u001b[39m.aspect.domains.append(\u001b[38;5;28mself\u001b[39m.domain)\n\u001b[32m    363\u001b[39m \u001b[38;5;28;01mreturn\u001b[39;00m \u001b[38;5;28mgetattr\u001b[39m(\u001b[38;5;28mself\u001b[39m.program, \u001b[38;5;28mself\u001b[39m.aspect.name)(*index)\n",
      "\u001b[36mFile \u001b[39m\u001b[32m~\\research\\packages\\energiapy\\src\\energia\\modeling\\variables\\states.py:96\u001b[39m, in \u001b[36mEndoStream.update\u001b[39m\u001b[34m(self, domain, reporting)\u001b[39m\n\u001b[32m     94\u001b[39m \u001b[38;5;28;01mdef\u001b[39;00m\u001b[38;5;250m \u001b[39m\u001b[34mupdate\u001b[39m(\u001b[38;5;28mself\u001b[39m, domain: Domain, reporting: \u001b[38;5;28mbool\u001b[39m = \u001b[38;5;28;01mFalse\u001b[39;00m):\n\u001b[32m---> \u001b[39m\u001b[32m96\u001b[39m     \u001b[43mMap\u001b[49m\u001b[43m(\u001b[49m\u001b[43maspect\u001b[49m\u001b[43m=\u001b[49m\u001b[38;5;28;43mself\u001b[39;49m\u001b[43m,\u001b[49m\u001b[43m \u001b[49m\u001b[43mdomain\u001b[49m\u001b[43m=\u001b[49m\u001b[43mdomain\u001b[49m\u001b[43m,\u001b[49m\u001b[43m \u001b[49m\u001b[43mreporting\u001b[49m\u001b[43m=\u001b[49m\u001b[43mreporting\u001b[49m\u001b[43m)\u001b[49m\n\u001b[32m     98\u001b[39m     Balance(aspect=\u001b[38;5;28mself\u001b[39m, domain=domain)\n",
      "\u001b[36mFile \u001b[39m\u001b[32m~\\research\\packages\\energiapy\\src\\energia\\modeling\\constraints\\vmap.py:100\u001b[39m, in \u001b[36mMap.__init__\u001b[39m\u001b[34m(self, aspect, domain, reporting, label)\u001b[39m\n\u001b[32m     97\u001b[39m     \u001b[38;5;28;01mreturn\u001b[39;00m\n\u001b[32m     99\u001b[39m \u001b[38;5;66;03m# Time mapping ---\u001b[39;00m\n\u001b[32m--> \u001b[39m\u001b[32m100\u001b[39m \u001b[38;5;28;43mself\u001b[39;49m\u001b[43m.\u001b[49m\u001b[43m_map_across_time\u001b[49m\u001b[43m(\u001b[49m\n\u001b[32m    101\u001b[39m \u001b[43m    \u001b[49m\u001b[43mdispositions\u001b[49m\u001b[43m,\u001b[49m\u001b[43m \u001b[49m\u001b[43mspace\u001b[49m\u001b[43m,\u001b[49m\u001b[43m \u001b[49m\u001b[43mtime\u001b[49m\u001b[43m,\u001b[49m\u001b[43m \u001b[49m\u001b[43msparser_periods\u001b[49m\u001b[43m,\u001b[49m\u001b[43m \u001b[49m\u001b[43mdenser_periods\u001b[49m\n\u001b[32m    102\u001b[39m \u001b[43m\u001b[49m\u001b[43m)\u001b[49m\n\u001b[32m    104\u001b[39m \u001b[38;5;66;03m# Space mapping ---\u001b[39;00m\n\u001b[32m    105\u001b[39m contained_locs, parent_loc = \u001b[38;5;28mself\u001b[39m.model.space.split(space)\n",
      "\u001b[36mFile \u001b[39m\u001b[32m~\\research\\packages\\energiapy\\src\\energia\\modeling\\constraints\\vmap.py:166\u001b[39m, in \u001b[36mMap._map_across_time\u001b[39m\u001b[34m(self, dispositions, space, time, sparser_periods, denser_periods)\u001b[39m\n\u001b[32m    164\u001b[39m from_domain = \u001b[38;5;28mself\u001b[39m.domain.copy()\n\u001b[32m    165\u001b[39m from_domain.periods, from_domain.binds = dp, binds\n\u001b[32m--> \u001b[39m\u001b[32m166\u001b[39m \u001b[38;5;28;43mself\u001b[39;49m\u001b[43m.\u001b[49m\u001b[43mwritecons_map\u001b[49m\u001b[43m(\u001b[49m\u001b[43mfrom_domain\u001b[49m\u001b[43m,\u001b[49m\u001b[43m \u001b[49m\u001b[38;5;28;43mself\u001b[39;49m\u001b[43m.\u001b[49m\u001b[43mdomain\u001b[49m\u001b[43m,\u001b[49m\u001b[43m \u001b[49m\u001b[43mtsum\u001b[49m\u001b[43m=\u001b[49m\u001b[38;5;28;43;01mTrue\u001b[39;49;00m\u001b[43m)\u001b[49m\n",
      "\u001b[36mFile \u001b[39m\u001b[32m~\\research\\packages\\energiapy\\src\\energia\\modeling\\constraints\\vmap.py:319\u001b[39m, in \u001b[36mMap.writecons_map\u001b[39m\u001b[34m(self, from_domain, to_domain, tsum, msum)\u001b[39m\n\u001b[32m    315\u001b[39m     exists = \u001b[38;5;28;01mTrue\u001b[39;00m\n\u001b[32m    317\u001b[39m var = \u001b[38;5;28mself\u001b[39m.aspect.reporting \u001b[38;5;28;01mif\u001b[39;00m \u001b[38;5;28mself\u001b[39m.reporting \u001b[38;5;28;01melse\u001b[39;00m \u001b[38;5;28mself\u001b[39m.aspect\n\u001b[32m--> \u001b[39m\u001b[32m319\u001b[39m rhs = \u001b[38;5;28;43mself\u001b[39;49m\u001b[43m.\u001b[49m\u001b[43m_give_sum\u001b[49m\u001b[43m(\u001b[49m\u001b[43mfrom_domain\u001b[49m\u001b[43m,\u001b[49m\u001b[43m \u001b[49m\u001b[43mtsum\u001b[49m\u001b[43m,\u001b[49m\u001b[43m \u001b[49m\u001b[43mmsum\u001b[49m\u001b[43m)\u001b[49m\n\u001b[32m    321\u001b[39m cname = \u001b[38;5;28mself\u001b[39m._give_cname(var, from_domain, to_domain, tsum, msum)\n\u001b[32m    323\u001b[39m logger.info(\u001b[33mf\u001b[39m\u001b[33m\"\u001b[39m\u001b[33mMapping \u001b[39m\u001b[38;5;132;01m{\u001b[39;00mvar\u001b[38;5;132;01m}\u001b[39;00m\u001b[33m: \u001b[39m\u001b[38;5;132;01m{\u001b[39;00mfrom_domain\u001b[38;5;132;01m}\u001b[39;00m\u001b[33m → \u001b[39m\u001b[38;5;132;01m{\u001b[39;00mto_domain\u001b[38;5;132;01m}\u001b[39;00m\u001b[33m\"\u001b[39m)\n",
      "\u001b[36mFile \u001b[39m\u001b[32m~\\research\\packages\\energiapy\\src\\energia\\modeling\\constraints\\vmap.py:289\u001b[39m, in \u001b[36mMap._give_sum\u001b[39m\u001b[34m(self, domain, tsum, msum)\u001b[39m\n\u001b[32m    283\u001b[39m v = \u001b[38;5;28mgetattr\u001b[39m(\u001b[38;5;28mself\u001b[39m.program, varname)\n\u001b[32m    285\u001b[39m \u001b[38;5;28;01mif\u001b[39;00m tsum:\n\u001b[32m    286\u001b[39m     \u001b[38;5;66;03m# if the domain has been mapped to but this is a time sum\u001b[39;00m\n\u001b[32m    287\u001b[39m     \u001b[38;5;66;03m# we need to first map time\u001b[39;00m\n\u001b[32m    288\u001b[39m     \u001b[38;5;66;03m# and then add it to an existing map at a lower domain\u001b[39;00m\n\u001b[32m--> \u001b[39m\u001b[32m289\u001b[39m     \u001b[38;5;28;01mreturn\u001b[39;00m sigma(\u001b[43mv\u001b[49m\u001b[43m(\u001b[49m\u001b[43m*\u001b[49m\u001b[43mdomain\u001b[49m\u001b[43m.\u001b[49m\u001b[43mIlist\u001b[49m\u001b[43m)\u001b[49m, domain.time.I)\n\u001b[32m    290\u001b[39m \u001b[38;5;28;01mif\u001b[39;00m msum:\n\u001b[32m    291\u001b[39m     \u001b[38;5;66;03m# if the domain has been mapped to but this is a mode sum\u001b[39;00m\n\u001b[32m    292\u001b[39m     \u001b[38;5;66;03m# we need to first map modes\u001b[39;00m\n\u001b[32m    293\u001b[39m     \u001b[38;5;66;03m# and then add it to an existing map at a lower domain\u001b[39;00m\n\u001b[32m    294\u001b[39m     \u001b[38;5;28;01mreturn\u001b[39;00m sigma(v(*domain.Ilist), domain.modes.I)\n",
      "\u001b[36mFile \u001b[39m\u001b[32m~\\research\\packages\\gana\\src\\gana\\sets\\variable.py:1073\u001b[39m, in \u001b[36mV.__call__\u001b[39m\u001b[34m(self, make_new, *key)\u001b[39m\n\u001b[32m   1071\u001b[39m     variable = \u001b[38;5;28;01mNone\u001b[39;00m\n\u001b[32m   1072\u001b[39m \u001b[38;5;28;01melse\u001b[39;00m:\n\u001b[32m-> \u001b[39m\u001b[32m1073\u001b[39m     variable = \u001b[38;5;28;43mself\u001b[39;49m\u001b[43m.\u001b[49m\u001b[43mmap\u001b[49m\u001b[43m[\u001b[49m\u001b[43mindex\u001b[49m\u001b[43m]\u001b[49m\n\u001b[32m   1074\u001b[39m v.map[index] = variable\n\u001b[32m   1075\u001b[39m v._.append(variable)\n",
      "\u001b[31mKeyError\u001b[39m: (power, l, q[0], operate, pv, operate, wf, operate, lii.discharge)"
     ]
    }
   ],
   "source": [
    "m.pv.locate(m.network)\n",
    "m.network.locate(m.wf, m.lii)"
   ]
  },
  {
   "cell_type": "markdown",
   "id": "85f87873",
   "metadata": {},
   "source": [
    "## Inventory Balance\n",
    "\n",
    "Inventory is passed on from one time period (t - 1) to the next (t) and hence features in the general resource balance for resource.stored "
   ]
  },
  {
   "cell_type": "code",
   "execution_count": 25,
   "id": "f08f2f16",
   "metadata": {},
   "outputs": [
    {
     "data": {
      "text/plain": [
       "defaultdict(list,\n",
       "            {q: [consume(solar, l, q), expend(solar, l, q, operate, pv)]})"
      ]
     },
     "execution_count": 25,
     "metadata": {},
     "output_type": "execute_result"
    }
   ],
   "source": [
    "m.grb[m.solar][m.l]"
   ]
  },
  {
   "cell_type": "code",
   "execution_count": 32,
   "id": "59e2f762",
   "metadata": {},
   "outputs": [
    {
     "data": {
      "text/plain": [
       "[wf, pv, lii.charge, lii.discharge]"
      ]
     },
     "execution_count": 32,
     "metadata": {},
     "output_type": "execute_result"
    }
   ],
   "source": [
    "m.processes"
   ]
  },
  {
   "cell_type": "code",
   "execution_count": 35,
   "id": "d9fbd5d1",
   "metadata": {},
   "outputs": [
    {
     "data": {
      "text/plain": [
       "[q, y]"
      ]
     },
     "execution_count": 35,
     "metadata": {},
     "output_type": "execute_result"
    }
   ],
   "source": [
    "m.periods"
   ]
  },
  {
   "cell_type": "code",
   "execution_count": 28,
   "id": "012e63df",
   "metadata": {},
   "outputs": [
    {
     "ename": "AttributeError",
     "evalue": "example2 has no 'domain'",
     "output_type": "error",
     "traceback": [
      "\u001b[31m---------------------------------------------------------------------------\u001b[39m",
      "\u001b[31mAttributeError\u001b[39m                            Traceback (most recent call last)",
      "\u001b[36mCell\u001b[39m\u001b[36m \u001b[39m\u001b[32mIn[28]\u001b[39m\u001b[32m, line 1\u001b[39m\n\u001b[32m----> \u001b[39m\u001b[32m1\u001b[39m m.dispositions[m.operate][\u001b[43mm\u001b[49m\u001b[43m.\u001b[49m\u001b[43mdomain\u001b[49m]\n",
      "\u001b[36mFile \u001b[39m\u001b[32m~\\research\\packages\\energiapy\\src\\energia\\represent\\model.py:519\u001b[39m, in \u001b[36mModel.__getattr__\u001b[39m\u001b[34m(self, name)\u001b[39m\n\u001b[32m    515\u001b[39m     \u001b[38;5;28mself\u001b[39m._attr_map[name] = aspect\n\u001b[32m    517\u001b[39m     \u001b[38;5;28;01mreturn\u001b[39;00m aspect\n\u001b[32m--> \u001b[39m\u001b[32m519\u001b[39m \u001b[38;5;28;01mraise\u001b[39;00m \u001b[38;5;167;01mAttributeError\u001b[39;00m(\n\u001b[32m    520\u001b[39m     \u001b[33mf\u001b[39m\u001b[33m\"\u001b[39m\u001b[38;5;132;01m{\u001b[39;00m\u001b[38;5;28mself\u001b[39m\u001b[38;5;132;01m}\u001b[39;00m\u001b[33m has no \u001b[39m\u001b[33m'\u001b[39m\u001b[38;5;132;01m{\u001b[39;00mname\u001b[38;5;132;01m}\u001b[39;00m\u001b[33m'\u001b[39m\u001b[33m\"\u001b[39m,\n\u001b[32m    521\u001b[39m )\n",
      "\u001b[31mAttributeError\u001b[39m: example2 has no 'domain'"
     ]
    }
   ],
   "source": [
    "m.dispositions[m.operate][m.domain]"
   ]
  },
  {
   "cell_type": "code",
   "execution_count": null,
   "id": "f44a61c2",
   "metadata": {},
   "outputs": [
    {
     "data": {
      "text/latex": [
       "$\\displaystyle [21]\\text{   }{{{spend}}}_{usd, l, y, {inventory}, power.lii} - 2000 \\cdot {{{inv}}}_{power.lii, l, y} = 0$"
      ],
      "text/plain": [
       "<IPython.core.display.Math object>"
      ]
     },
     "metadata": {},
     "output_type": "display_data"
    },
    {
     "data": {
      "text/latex": [
       "$\\displaystyle [28]\\text{   }{{{{inv}}}}_{power.lii, l, y} - \\sum_{i \\in q} {{{{inv}}}}_{power.lii, l, i} = 0$"
      ],
      "text/plain": [
       "<IPython.core.display.Math object>"
      ]
     },
     "metadata": {},
     "output_type": "display_data"
    },
    {
     "data": {
      "text/latex": [
       "$\\displaystyle [29]\\text{   }-{{{{inv}}}}_{power.lii, l, q} + {{{{inv}}}}_{power.lii, l, q-1} + {{{prod}}}_{power.lii, l, q, {operate}, lii.charge} - {{{{expd}}}}_{power.lii, l, q, {operate}, lii.discharge} = 0$"
      ],
      "text/plain": [
       "<IPython.core.display.Math object>"
      ]
     },
     "metadata": {},
     "output_type": "display_data"
    },
    {
     "data": {
      "text/latex": [
       "$\\displaystyle [30]\\text{   }{{{{inv}}}}_{power.lii, l, q} - {{{icap}}}_{power.lii, l, y} \\leq 0$"
      ],
      "text/plain": [
       "<IPython.core.display.Math object>"
      ]
     },
     "metadata": {},
     "output_type": "display_data"
    }
   ],
   "source": [
    "m.inventory.show()"
   ]
  },
  {
   "cell_type": "code",
   "execution_count": null,
   "id": "951399c0",
   "metadata": {},
   "outputs": [
    {
     "data": {
      "text/plain": [
       "'Use .opt() to generate solution'"
      ]
     },
     "execution_count": 27,
     "metadata": {},
     "output_type": "execute_result"
    }
   ],
   "source": [
    "m.sol()"
   ]
  },
  {
   "cell_type": "markdown",
   "id": "64c93a46",
   "metadata": {},
   "source": [
    "## Optimize!"
   ]
  },
  {
   "cell_type": "code",
   "execution_count": null,
   "id": "aa988ae1",
   "metadata": {},
   "outputs": [
    {
     "data": {
      "text/markdown": [
       "# Mathematical Program for Program(example2)"
      ],
      "text/plain": [
       "<IPython.core.display.Markdown object>"
      ]
     },
     "metadata": {},
     "output_type": "display_data"
    },
    {
     "data": {
      "text/markdown": [
       "<br><br>"
      ],
      "text/plain": [
       "<IPython.core.display.Markdown object>"
      ]
     },
     "metadata": {},
     "output_type": "display_data"
    },
    {
     "data": {
      "text/markdown": [
       "## Index Sets"
      ],
      "text/plain": [
       "<IPython.core.display.Markdown object>"
      ]
     },
     "metadata": {},
     "output_type": "display_data"
    },
    {
     "data": {
      "text/latex": [
       "$\\displaystyle currencies = \\{ usd \\}$"
      ],
      "text/plain": [
       "<IPython.core.display.Math object>"
      ]
     },
     "metadata": {},
     "output_type": "display_data"
    },
    {
     "data": {
      "text/latex": [
       "$\\displaystyle resources = \\{ power, wind, solar, power.lii \\}$"
      ],
      "text/plain": [
       "<IPython.core.display.Math object>"
      ]
     },
     "metadata": {},
     "output_type": "display_data"
    },
    {
     "data": {
      "text/latex": [
       "$\\displaystyle locations = \\{ l \\}$"
      ],
      "text/plain": [
       "<IPython.core.display.Math object>"
      ]
     },
     "metadata": {},
     "output_type": "display_data"
    },
    {
     "data": {
      "text/latex": [
       "$\\displaystyle q = \\{ {q_{0}}, {q_{1}}, {q_{2}}, {q_{3}} \\}$"
      ],
      "text/plain": [
       "<IPython.core.display.Math object>"
      ]
     },
     "metadata": {},
     "output_type": "display_data"
    },
    {
     "data": {
      "text/latex": [
       "$\\displaystyle y = \\{ {y_{0}} \\}$"
      ],
      "text/plain": [
       "<IPython.core.display.Math object>"
      ]
     },
     "metadata": {},
     "output_type": "display_data"
    },
    {
     "data": {
      "text/latex": [
       "$\\displaystyle processes = \\{ wf, pv, lii.charge, lii.discharge \\}$"
      ],
      "text/plain": [
       "<IPython.core.display.Math object>"
      ]
     },
     "metadata": {},
     "output_type": "display_data"
    },
    {
     "data": {
      "text/latex": [
       "$\\displaystyle storages = \\{ lii \\}$"
      ],
      "text/plain": [
       "<IPython.core.display.Math object>"
      ]
     },
     "metadata": {},
     "output_type": "display_data"
    },
    {
     "data": {
      "text/markdown": [
       "<br><br>"
      ],
      "text/plain": [
       "<IPython.core.display.Markdown object>"
      ]
     },
     "metadata": {},
     "output_type": "display_data"
    },
    {
     "data": {
      "text/markdown": [
       "## s.t."
      ],
      "text/plain": [
       "<IPython.core.display.Markdown object>"
      ]
     },
     "metadata": {},
     "output_type": "display_data"
    },
    {
     "data": {
      "text/markdown": [
       "### Bound Constraint Sets"
      ],
      "text/plain": [
       "<IPython.core.display.Markdown object>"
      ]
     },
     "metadata": {},
     "output_type": "display_data"
    },
    {
     "data": {
      "text/latex": [
       "$\\displaystyle [1]\\text{   }{{{cons}}}_{solar, l, q} - 100 \\leq 0$"
      ],
      "text/plain": [
       "<IPython.core.display.Math object>"
      ]
     },
     "metadata": {},
     "output_type": "display_data"
    },
    {
     "data": {
      "text/latex": [
       "$\\displaystyle [3]\\text{   }{{{{cons}}}}_{wind, l, y} - 400 \\leq 0$"
      ],
      "text/plain": [
       "<IPython.core.display.Math object>"
      ]
     },
     "metadata": {},
     "output_type": "display_data"
    },
    {
     "data": {
      "text/latex": [
       "$\\displaystyle [5]\\text{   }-{{{rlse}}}_{power, l, q} + {φ}_{} \\leq 0$"
      ],
      "text/plain": [
       "<IPython.core.display.Math object>"
      ]
     },
     "metadata": {},
     "output_type": "display_data"
    },
    {
     "data": {
      "text/latex": [
       "$\\displaystyle [6]\\text{   }{{{cap}}}_{wf, l, y} - 100 \\cdot {{{\\breve{{cap}}}}}_{wf, l, y} \\leq 0$"
      ],
      "text/plain": [
       "<IPython.core.display.Math object>"
      ]
     },
     "metadata": {},
     "output_type": "display_data"
    },
    {
     "data": {
      "text/latex": [
       "$\\displaystyle [7]\\text{   }10 \\cdot {{{\\breve{{cap}}}}}_{wf, l, y} - {{{cap}}}_{wf, l, y} \\leq 0$"
      ],
      "text/plain": [
       "<IPython.core.display.Math object>"
      ]
     },
     "metadata": {},
     "output_type": "display_data"
    },
    {
     "data": {
      "text/latex": [
       "$\\displaystyle [8]\\text{   }{{{opr}}}_{wf, l, q} - {φ}_{} \\cdot {{{cap}}}_{wf, l, y} \\leq 0$"
      ],
      "text/plain": [
       "<IPython.core.display.Math object>"
      ]
     },
     "metadata": {},
     "output_type": "display_data"
    },
    {
     "data": {
      "text/latex": [
       "$\\displaystyle [12]\\text{   }{{{{cap}}}}_{pv, l, y} - 100 \\cdot {{{{\\breve{{cap}}}}}}_{pv, l, y} \\leq 0$"
      ],
      "text/plain": [
       "<IPython.core.display.Math object>"
      ]
     },
     "metadata": {},
     "output_type": "display_data"
    },
    {
     "data": {
      "text/latex": [
       "$\\displaystyle [13]\\text{   }10 \\cdot {{{{\\breve{{cap}}}}}}_{pv, l, y} - {{{{cap}}}}_{pv, l, y} \\leq 0$"
      ],
      "text/plain": [
       "<IPython.core.display.Math object>"
      ]
     },
     "metadata": {},
     "output_type": "display_data"
    },
    {
     "data": {
      "text/latex": [
       "$\\displaystyle [14]\\text{   }{{{{opr}}}}_{pv, l, q} - {φ}_{} \\cdot {{{{cap}}}}_{pv, l, y} \\leq 0$"
      ],
      "text/plain": [
       "<IPython.core.display.Math object>"
      ]
     },
     "metadata": {},
     "output_type": "display_data"
    },
    {
     "data": {
      "text/latex": [
       "$\\displaystyle [18]\\text{   }{{{icap}}}_{power.lii, l, y} - 100 \\cdot {{{\\breve{{icap}}}}}_{power.lii, l, y} \\leq 0$"
      ],
      "text/plain": [
       "<IPython.core.display.Math object>"
      ]
     },
     "metadata": {},
     "output_type": "display_data"
    },
    {
     "data": {
      "text/latex": [
       "$\\displaystyle [19]\\text{   }10 \\cdot {{{\\breve{{icap}}}}}_{power.lii, l, y} - {{{icap}}}_{power.lii, l, y} \\leq 0$"
      ],
      "text/plain": [
       "<IPython.core.display.Math object>"
      ]
     },
     "metadata": {},
     "output_type": "display_data"
    },
    {
     "data": {
      "text/latex": [
       "$\\displaystyle [22]\\text{   }{{{{cap}}}}_{lii.charge, l, y} - 100 \\leq 0$"
      ],
      "text/plain": [
       "<IPython.core.display.Math object>"
      ]
     },
     "metadata": {},
     "output_type": "display_data"
    },
    {
     "data": {
      "text/latex": [
       "$\\displaystyle [23]\\text{   }{{{{cap}}}}_{lii.discharge, l, y} - 100 \\leq 0$"
      ],
      "text/plain": [
       "<IPython.core.display.Math object>"
      ]
     },
     "metadata": {},
     "output_type": "display_data"
    },
    {
     "data": {
      "text/latex": [
       "$\\displaystyle [30]\\text{   }{{{{inv}}}}_{power.lii, l, q} - {{{icap}}}_{power.lii, l, y} \\leq 0$"
      ],
      "text/plain": [
       "<IPython.core.display.Math object>"
      ]
     },
     "metadata": {},
     "output_type": "display_data"
    },
    {
     "data": {
      "text/latex": [
       "$\\displaystyle [31]\\text{   }{{{{opr}}}}_{lii.charge, l, y} - {{{{cap}}}}_{lii.charge, l, y} \\leq 0$"
      ],
      "text/plain": [
       "<IPython.core.display.Math object>"
      ]
     },
     "metadata": {},
     "output_type": "display_data"
    },
    {
     "data": {
      "text/latex": [
       "$\\displaystyle [35]\\text{   }{{{{opr}}}}_{lii.discharge, l, y} - {{{{cap}}}}_{lii.discharge, l, y} \\leq 0$"
      ],
      "text/plain": [
       "<IPython.core.display.Math object>"
      ]
     },
     "metadata": {},
     "output_type": "display_data"
    },
    {
     "data": {
      "text/markdown": [
       "### Calculation Constraint Sets"
      ],
      "text/plain": [
       "<IPython.core.display.Markdown object>"
      ]
     },
     "metadata": {},
     "output_type": "display_data"
    },
    {
     "data": {
      "text/latex": [
       "$\\displaystyle [9]\\text{   }{{spend}}_{usd, l, y, {capacity}, wf} - 993991 \\cdot {{{cap}}}_{wf, l, y} = 0$"
      ],
      "text/plain": [
       "<IPython.core.display.Math object>"
      ]
     },
     "metadata": {},
     "output_type": "display_data"
    },
    {
     "data": {
      "text/latex": [
       "$\\displaystyle [11]\\text{   }{{{spend}}}_{usd, l, y, {operate}, wf} - 49 \\cdot {{{{opr}}}}_{wf, l, y} = 0$"
      ],
      "text/plain": [
       "<IPython.core.display.Math object>"
      ]
     },
     "metadata": {},
     "output_type": "display_data"
    },
    {
     "data": {
      "text/latex": [
       "$\\displaystyle [15]\\text{   }{{{spend}}}_{usd, l, y, {capacity}, pv} - 1439046 \\cdot {{{{cap}}}}_{pv, l, y} = 0$"
      ],
      "text/plain": [
       "<IPython.core.display.Math object>"
      ]
     },
     "metadata": {},
     "output_type": "display_data"
    },
    {
     "data": {
      "text/latex": [
       "$\\displaystyle [17]\\text{   }{{{spend}}}_{usd, l, y, {operate}, pv} - 90000 \\cdot {{{{opr}}}}_{pv, l, y} = 0$"
      ],
      "text/plain": [
       "<IPython.core.display.Math object>"
      ]
     },
     "metadata": {},
     "output_type": "display_data"
    },
    {
     "data": {
      "text/latex": [
       "$\\displaystyle [20]\\text{   }{{{spend}}}_{usd, l, y, {invcapacity}, power.lii} - 1343614 \\cdot {{{icap}}}_{power.lii, l, y} = 0$"
      ],
      "text/plain": [
       "<IPython.core.display.Math object>"
      ]
     },
     "metadata": {},
     "output_type": "display_data"
    },
    {
     "data": {
      "text/latex": [
       "$\\displaystyle [21]\\text{   }{{{spend}}}_{usd, l, y, {inventory}, power.lii} - 2000 \\cdot {{{inv}}}_{power.lii, l, y} = 0$"
      ],
      "text/plain": [
       "<IPython.core.display.Math object>"
      ]
     },
     "metadata": {},
     "output_type": "display_data"
    },
    {
     "data": {
      "text/latex": [
       "$\\displaystyle [24]\\text{   }{{prod}}_{power, l, q, {operate}, pv} - {φ}_{} \\cdot {{{{opr}}}}_{pv, l, q} = 0$"
      ],
      "text/plain": [
       "<IPython.core.display.Math object>"
      ]
     },
     "metadata": {},
     "output_type": "display_data"
    },
    {
     "data": {
      "text/latex": [
       "$\\displaystyle [25]\\text{   }{{{expd}}}_{solar, l, q, {operate}, pv} - {φ}_{} \\cdot {{{{opr}}}}_{pv, l, q} = 0$"
      ],
      "text/plain": [
       "<IPython.core.display.Math object>"
      ]
     },
     "metadata": {},
     "output_type": "display_data"
    },
    {
     "data": {
      "text/latex": [
       "$\\displaystyle [26]\\text{   }{{{prod}}}_{power, l, q, {operate}, wf} - {φ}_{} \\cdot {{{{opr}}}}_{wf, l, q} = 0$"
      ],
      "text/plain": [
       "<IPython.core.display.Math object>"
      ]
     },
     "metadata": {},
     "output_type": "display_data"
    },
    {
     "data": {
      "text/latex": [
       "$\\displaystyle [27]\\text{   }{{{{expd}}}}_{wind, l, y, {operate}, wf} - {φ}_{} \\cdot {{{{opr}}}}_{wf, l, y} = 0$"
      ],
      "text/plain": [
       "<IPython.core.display.Math object>"
      ]
     },
     "metadata": {},
     "output_type": "display_data"
    },
    {
     "data": {
      "text/latex": [
       "$\\displaystyle [33]\\text{   }{{{prod}}}_{power.lii, l, q, {operate}, lii.charge} - {φ}_{} \\cdot {{{{opr}}}}_{lii.charge, l, q} = 0$"
      ],
      "text/plain": [
       "<IPython.core.display.Math object>"
      ]
     },
     "metadata": {},
     "output_type": "display_data"
    },
    {
     "data": {
      "text/latex": [
       "$\\displaystyle [34]\\text{   }{{{{expd}}}}_{power, l, q, {operate}, lii.charge} - {φ}_{} \\cdot {{{{opr}}}}_{lii.charge, l, q} = 0$"
      ],
      "text/plain": [
       "<IPython.core.display.Math object>"
      ]
     },
     "metadata": {},
     "output_type": "display_data"
    },
    {
     "data": {
      "text/latex": [
       "$\\displaystyle [37]\\text{   }{{{prod}}}_{power, l, q, {operate}, lii.discharge} - {φ}_{} \\cdot {{{{opr}}}}_{lii.discharge, l, q} = 0$"
      ],
      "text/plain": [
       "<IPython.core.display.Math object>"
      ]
     },
     "metadata": {},
     "output_type": "display_data"
    },
    {
     "data": {
      "text/latex": [
       "$\\displaystyle [38]\\text{   }{{{{expd}}}}_{power.lii, l, q, {operate}, lii.discharge} - {φ}_{} \\cdot {{{{opr}}}}_{lii.discharge, l, q} = 0$"
      ],
      "text/plain": [
       "<IPython.core.display.Math object>"
      ]
     },
     "metadata": {},
     "output_type": "display_data"
    },
    {
     "data": {
      "text/markdown": [
       "### General Resource Balance Constraint Sets"
      ],
      "text/plain": [
       "<IPython.core.display.Markdown object>"
      ]
     },
     "metadata": {},
     "output_type": "display_data"
    },
    {
     "data": {
      "text/latex": [
       "$\\displaystyle [0]\\text{   }{{{cons}}}_{solar, l, q} - {{{expd}}}_{solar, l, q, {operate}, pv} = 0$"
      ],
      "text/plain": [
       "<IPython.core.display.Math object>"
      ]
     },
     "metadata": {},
     "output_type": "display_data"
    },
    {
     "data": {
      "text/latex": [
       "$\\displaystyle [2]\\text{   }{{{{cons}}}}_{wind, l, y} - {{{{expd}}}}_{wind, l, y, {operate}, wf} = 0$"
      ],
      "text/plain": [
       "<IPython.core.display.Math object>"
      ]
     },
     "metadata": {},
     "output_type": "display_data"
    },
    {
     "data": {
      "text/latex": [
       "$\\displaystyle [4]\\text{   }-{{{rlse}}}_{power, l, q} + {{prod}}_{power, l, q, {operate}, pv} + {{{prod}}}_{power, l, q, {operate}, wf} - {{{{expd}}}}_{power, l, q, {operate}, lii.charge} + {{{prod}}}_{power, l, q, {operate}, lii.discharge} = 0$"
      ],
      "text/plain": [
       "<IPython.core.display.Math object>"
      ]
     },
     "metadata": {},
     "output_type": "display_data"
    },
    {
     "data": {
      "text/latex": [
       "$\\displaystyle [29]\\text{   }-{{{{inv}}}}_{power.lii, l, q} + {{{{inv}}}}_{power.lii, l, q-1} + {{{prod}}}_{power.lii, l, q, {operate}, lii.charge} - {{{{expd}}}}_{power.lii, l, q, {operate}, lii.discharge} = 0$"
      ],
      "text/plain": [
       "<IPython.core.display.Math object>"
      ]
     },
     "metadata": {},
     "output_type": "display_data"
    },
    {
     "data": {
      "text/markdown": [
       "### Mapping Constraint Sets"
      ],
      "text/plain": [
       "<IPython.core.display.Markdown object>"
      ]
     },
     "metadata": {},
     "output_type": "display_data"
    },
    {
     "data": {
      "text/latex": [
       "$\\displaystyle [10]\\text{   }{{{{opr}}}}_{wf, l, y} - \\sum_{i \\in q} {{{{opr}}}}_{wf, l, i} = 0$"
      ],
      "text/plain": [
       "<IPython.core.display.Math object>"
      ]
     },
     "metadata": {},
     "output_type": "display_data"
    },
    {
     "data": {
      "text/latex": [
       "$\\displaystyle [16]\\text{   }{{{{opr}}}}_{pv, l, y} - \\sum_{i \\in q} {{{{opr}}}}_{pv, l, i} = 0$"
      ],
      "text/plain": [
       "<IPython.core.display.Math object>"
      ]
     },
     "metadata": {},
     "output_type": "display_data"
    },
    {
     "data": {
      "text/latex": [
       "$\\displaystyle [28]\\text{   }{{{{inv}}}}_{power.lii, l, y} - \\sum_{i \\in q} {{{{inv}}}}_{power.lii, l, i} = 0$"
      ],
      "text/plain": [
       "<IPython.core.display.Math object>"
      ]
     },
     "metadata": {},
     "output_type": "display_data"
    },
    {
     "data": {
      "text/latex": [
       "$\\displaystyle [32]\\text{   }{{{{opr}}}}_{lii.charge, l, y} - \\sum_{i \\in q} {{{{opr}}}}_{lii.charge, l, i} = 0$"
      ],
      "text/plain": [
       "<IPython.core.display.Math object>"
      ]
     },
     "metadata": {},
     "output_type": "display_data"
    },
    {
     "data": {
      "text/latex": [
       "$\\displaystyle [36]\\text{   }{{{{opr}}}}_{lii.discharge, l, y} - \\sum_{i \\in q} {{{{opr}}}}_{lii.discharge, l, i} = 0$"
      ],
      "text/plain": [
       "<IPython.core.display.Math object>"
      ]
     },
     "metadata": {},
     "output_type": "display_data"
    }
   ],
   "source": [
    "m.show()"
   ]
  },
  {
   "cell_type": "code",
   "execution_count": null,
   "id": "b2d5463b",
   "metadata": {},
   "outputs": [
    {
     "name": "stderr",
     "output_type": "stream",
     "text": [
      "2025-10-20 11:13:30,395 [INFO] Mapping spend: (usd, l, y, capacity, wf) → (usd, l, y)\n",
      "2025-10-20 11:13:30,395 [INFO] ✔ Completed in 0.000s\n",
      "2025-10-20 11:13:30,396 [INFO] Mapping spend: (usd, l, y, operate, wf) → (usd, l, y)\n",
      "2025-10-20 11:13:30,396 [INFO] ✔ Completed in 0.000s\n",
      "2025-10-20 11:13:30,397 [INFO] Mapping spend: (usd, l, y, capacity, pv) → (usd, l, y)\n",
      "2025-10-20 11:13:30,397 [INFO] ✔ Completed in 0.000s\n",
      "2025-10-20 11:13:30,397 [INFO] Mapping spend: (usd, l, y, operate, pv) → (usd, l, y)\n",
      "2025-10-20 11:13:30,398 [INFO] ✔ Completed in 0.000s\n",
      "2025-10-20 11:13:30,398 [INFO] Mapping spend: (usd, l, y, invcapacity, power.lii) → (usd, l, y)\n",
      "2025-10-20 11:13:30,399 [INFO] ✔ Completed in 0.000s\n",
      "2025-10-20 11:13:30,399 [INFO] Mapping spend: (usd, l, y, inventory, power.lii) → (usd, l, y)\n",
      "2025-10-20 11:13:30,399 [INFO] ✔ Completed in 0.000s\n",
      "2025-10-20 11:13:30,400 [INFO] Generating Program(example2).mps\n",
      "2025-10-20 11:13:30,405 [INFO] Creating gurobi model for Program(example2)\n"
     ]
    },
    {
     "name": "stdout",
     "output_type": "stream",
     "text": [
      "Read MPS format model from file Program(example2).mps\n",
      "Reading time = 0.00 seconds\n",
      "PROGRAM(EXAMPLE2): 85 rows, 78 columns, 198 nonzeros\n"
     ]
    },
    {
     "name": "stderr",
     "output_type": "stream",
     "text": [
      "2025-10-20 11:13:30,407 [INFO] Optimizing Program(example2) using gurobi\n"
     ]
    },
    {
     "name": "stdout",
     "output_type": "stream",
     "text": [
      "Gurobi Optimizer version 12.0.3 build v12.0.3rc0 (win64 - Windows 11.0 (26100.2))\n",
      "\n",
      "CPU model: 13th Gen Intel(R) Core(TM) i7-13700, instruction set [SSE2|AVX|AVX2]\n",
      "Thread count: 16 physical cores, 24 logical processors, using up to 24 threads\n",
      "\n",
      "Optimize a model with 85 rows, 78 columns and 198 nonzeros\n",
      "Model fingerprint: 0x2d658939\n",
      "Variable types: 75 continuous, 3 integer (3 binary)\n",
      "Coefficient statistics:\n",
      "  Matrix range     [6e-01, 1e+06]\n",
      "  Objective range  [1e+00, 1e+00]\n",
      "  Bounds range     [1e+00, 1e+00]\n",
      "  RHS range        [7e+01, 4e+02]\n",
      "Presolve removed 70 rows and 63 columns\n",
      "Presolve time: 0.00s\n",
      "Presolved: 15 rows, 15 columns, 44 nonzeros\n",
      "Variable types: 15 continuous, 0 integer (0 binary)\n",
      "\n",
      "Root relaxation: objective 3.006497e+08, 4 iterations, 0.00 seconds (0.00 work units)\n",
      "\n",
      "    Nodes    |    Current Node    |     Objective Bounds      |     Work\n",
      " Expl Unexpl |  Obj  Depth IntInf | Incumbent    BestBd   Gap | It/Node Time\n",
      "\n",
      "*    0     0               0    3.006497e+08 3.0065e+08  0.00%     -    0s\n",
      "\n",
      "Explored 1 nodes (4 simplex iterations) in 0.01 seconds (0.00 work units)\n",
      "Thread count was 24 (of 24 available processors)\n",
      "\n",
      "Solution count 1: 3.0065e+08 \n",
      "\n",
      "Optimal solution found (tolerance 1.00e-04)\n",
      "Best objective 3.006497358951e+08, best bound 3.006497358951e+08, gap 0.0000%\n"
     ]
    },
    {
     "name": "stderr",
     "output_type": "stream",
     "text": [
      "2025-10-20 11:13:30,417 [INFO] Solution found. Use .sol() to display it\n",
      "2025-10-20 11:13:30,417 [INFO] Creating Solution object, check.solution\n"
     ]
    }
   ],
   "source": [
    "m.usd.spend.opt()"
   ]
  },
  {
   "cell_type": "markdown",
   "id": "8ad83832",
   "metadata": {},
   "source": [
    "## Solution"
   ]
  },
  {
   "cell_type": "markdown",
   "id": "ac8bf947",
   "metadata": {},
   "source": [
    "### Inventory Profiles\n",
    "\n",
    "The inventory maintained in each time period is:"
   ]
  },
  {
   "cell_type": "code",
   "execution_count": null,
   "id": "f67de1d4",
   "metadata": {},
   "outputs": [
    {
     "data": {
      "text/latex": [
       "$\\displaystyle {{{inv}}}_{power.lii, l, y{0}}=34.043209876543145$"
      ],
      "text/plain": [
       "<IPython.core.display.Math object>"
      ]
     },
     "metadata": {},
     "output_type": "display_data"
    },
    {
     "data": {
      "text/latex": [
       "$\\displaystyle {{{inv}}}_{power.lii, l, q{0}}=6.882716049382658$"
      ],
      "text/plain": [
       "<IPython.core.display.Math object>"
      ]
     },
     "metadata": {},
     "output_type": "display_data"
    },
    {
     "data": {
      "text/latex": [
       "$\\displaystyle {{{inv}}}_{power.lii, l, q{1}}=27.160493827160487$"
      ],
      "text/plain": [
       "<IPython.core.display.Math object>"
      ]
     },
     "metadata": {},
     "output_type": "display_data"
    },
    {
     "data": {
      "text/latex": [
       "$\\displaystyle {{{inv}}}_{power.lii, l, q{2}}=0.0$"
      ],
      "text/plain": [
       "<IPython.core.display.Math object>"
      ]
     },
     "metadata": {},
     "output_type": "display_data"
    },
    {
     "data": {
      "text/latex": [
       "$\\displaystyle {{{inv}}}_{power.lii, l, q{3}}=0.0$"
      ],
      "text/plain": [
       "<IPython.core.display.Math object>"
      ]
     },
     "metadata": {},
     "output_type": "display_data"
    }
   ],
   "source": [
    "m.inventory.sol()"
   ]
  },
  {
   "cell_type": "markdown",
   "id": "2c042bdb",
   "metadata": {},
   "source": [
    "The amount charged into inventory is:"
   ]
  },
  {
   "cell_type": "code",
   "execution_count": null,
   "id": "fe91fb8f",
   "metadata": {},
   "outputs": [
    {
     "data": {
      "text/latex": [
       "$\\displaystyle {{prod}}_{power.lii, l, q{0}, operate, lii.charge}=6.882716049382658$"
      ],
      "text/plain": [
       "<IPython.core.display.Math object>"
      ]
     },
     "metadata": {},
     "output_type": "display_data"
    },
    {
     "data": {
      "text/latex": [
       "$\\displaystyle {{prod}}_{power.lii, l, q{1}, operate, lii.charge}=20.27777777777778$"
      ],
      "text/plain": [
       "<IPython.core.display.Math object>"
      ]
     },
     "metadata": {},
     "output_type": "display_data"
    },
    {
     "data": {
      "text/latex": [
       "$\\displaystyle {{prod}}_{power.lii, l, q{2}, operate, lii.charge}=0.0$"
      ],
      "text/plain": [
       "<IPython.core.display.Math object>"
      ]
     },
     "metadata": {},
     "output_type": "display_data"
    },
    {
     "data": {
      "text/latex": [
       "$\\displaystyle {{prod}}_{power.lii, l, q{3}, operate, lii.charge}=0.0$"
      ],
      "text/plain": [
       "<IPython.core.display.Math object>"
      ]
     },
     "metadata": {},
     "output_type": "display_data"
    }
   ],
   "source": [
    "m.produce(m.power.lii, m.lii.charge.operate, m.q).sol()"
   ]
  },
  {
   "cell_type": "markdown",
   "id": "946d48b7",
   "metadata": {},
   "source": [
    "The amount discharged from inventory is:"
   ]
  },
  {
   "cell_type": "code",
   "execution_count": null,
   "id": "00d675ad",
   "metadata": {},
   "outputs": [
    {
     "data": {
      "text/latex": [
       "$\\displaystyle {{prod}}_{power, l, q{0}, operate, lii.discharge}=0.0$"
      ],
      "text/plain": [
       "<IPython.core.display.Math object>"
      ]
     },
     "metadata": {},
     "output_type": "display_data"
    },
    {
     "data": {
      "text/latex": [
       "$\\displaystyle {{prod}}_{power, l, q{1}, operate, lii.discharge}=0.0$"
      ],
      "text/plain": [
       "<IPython.core.display.Math object>"
      ]
     },
     "metadata": {},
     "output_type": "display_data"
    },
    {
     "data": {
      "text/latex": [
       "$\\displaystyle {{prod}}_{power, l, q{2}, operate, lii.discharge}=24.444444444444443$"
      ],
      "text/plain": [
       "<IPython.core.display.Math object>"
      ]
     },
     "metadata": {},
     "output_type": "display_data"
    },
    {
     "data": {
      "text/latex": [
       "$\\displaystyle {{prod}}_{power, l, q{3}, operate, lii.discharge}=0.0$"
      ],
      "text/plain": [
       "<IPython.core.display.Math object>"
      ]
     },
     "metadata": {},
     "output_type": "display_data"
    }
   ],
   "source": [
    "m.produce(m.power, m.lii.discharge.operate, m.q).sol()"
   ]
  },
  {
   "cell_type": "markdown",
   "id": "f152fbfc",
   "metadata": {},
   "source": [
    "### Integer Decisions \n",
    "\n",
    "All the operations are setup in this case"
   ]
  },
  {
   "cell_type": "code",
   "execution_count": null,
   "id": "7ba53e91",
   "metadata": {},
   "outputs": [
    {
     "data": {
      "text/latex": [
       "$\\displaystyle {{{\\breve{{cap}}}}}_{wf, l, y{0}}=1.0$"
      ],
      "text/plain": [
       "<IPython.core.display.Math object>"
      ]
     },
     "metadata": {},
     "output_type": "display_data"
    },
    {
     "data": {
      "text/latex": [
       "$\\displaystyle {{{\\breve{{cap}}}}}_{pv, l, y{0}}=1.0$"
      ],
      "text/plain": [
       "<IPython.core.display.Math object>"
      ]
     },
     "metadata": {},
     "output_type": "display_data"
    }
   ],
   "source": [
    "m.capacity.reporting.sol()"
   ]
  },
  {
   "cell_type": "code",
   "execution_count": null,
   "id": "dafa2788",
   "metadata": {},
   "outputs": [
    {
     "data": {
      "text/latex": [
       "$\\displaystyle {{{cap}}}_{wf, l, y{0}}=100.0$"
      ],
      "text/plain": [
       "<IPython.core.display.Math object>"
      ]
     },
     "metadata": {},
     "output_type": "display_data"
    },
    {
     "data": {
      "text/latex": [
       "$\\displaystyle {{{cap}}}_{pv, l, y{0}}=100.0$"
      ],
      "text/plain": [
       "<IPython.core.display.Math object>"
      ]
     },
     "metadata": {},
     "output_type": "display_data"
    },
    {
     "data": {
      "text/latex": [
       "$\\displaystyle {{{cap}}}_{lii.charge, l, y{0}}=100.0$"
      ],
      "text/plain": [
       "<IPython.core.display.Math object>"
      ]
     },
     "metadata": {},
     "output_type": "display_data"
    },
    {
     "data": {
      "text/latex": [
       "$\\displaystyle {{{cap}}}_{lii.discharge, l, y{0}}=100.0$"
      ],
      "text/plain": [
       "<IPython.core.display.Math object>"
      ]
     },
     "metadata": {},
     "output_type": "display_data"
    }
   ],
   "source": [
    "m.capacity.sol()"
   ]
  },
  {
   "cell_type": "code",
   "execution_count": null,
   "id": "5faded6e",
   "metadata": {},
   "outputs": [],
   "source": []
  }
 ],
 "metadata": {
  "kernelspec": {
   "display_name": ".venv",
   "language": "python",
   "name": "python3"
  },
  "language_info": {
   "codemirror_mode": {
    "name": "ipython",
    "version": 3
   },
   "file_extension": ".py",
   "mimetype": "text/x-python",
   "name": "python",
   "nbconvert_exporter": "python",
   "pygments_lexer": "ipython3",
   "version": "3.13.9"
  }
 },
 "nbformat": 4,
 "nbformat_minor": 5
}
