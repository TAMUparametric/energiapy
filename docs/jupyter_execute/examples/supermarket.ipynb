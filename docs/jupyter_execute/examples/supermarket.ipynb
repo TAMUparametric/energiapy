{
 "cells": [
  {
   "attachments": {},
   "cell_type": "markdown",
   "id": "546ec2c2",
   "metadata": {},
   "source": [
    "# Supermarket Example"
   ]
  },
  {
   "attachments": {},
   "cell_type": "markdown",
   "id": "dd5c373f",
   "metadata": {},
   "source": [
    "## Problem Statement "
   ]
  },
  {
   "attachments": {},
   "cell_type": "markdown",
   "id": "abb820c3",
   "metadata": {},
   "source": [
    "Given is a supermarket comprising of on-site energy conversion blocks and energy demands. The expected operating horizon of the supermarket is 20 years. The energy demands are listed in Table 1.\n",
    "\n",
    "\n",
    "|               | Lighting | Refrigeration | Space Heating | \n",
    "|---------------|----------|---------------|---------------|\n",
    "| Demand [kW]   | 200      | 1000          |100            |"
   ]
  },
  {
   "attachments": {},
   "cell_type": "markdown",
   "id": "278c0b51",
   "metadata": {},
   "source": [
    "Primary energy resources include natural gas and biomass. Prices of the primary energy resources and grid electricity as well as their associated CO2 production is given in Table 2 – it should be noted that 1 [GJ] is approximately equal to 277.78 [KWh].\n",
    "\n",
    "|                    | Natural Gas | Biomass | Grid Electricity | \n",
    "|--------------------|-------------|---------|------------------|\n",
    "| Price [\\$/GJ]      | 8.89        | 9.72    |36.11             |\n",
    "| CO$_2$ gen. [kg/PJ]| 56          | 100     | 90               |\n"
   ]
  },
  {
   "attachments": {},
   "cell_type": "markdown",
   "id": "96aee85f",
   "metadata": {},
   "source": [
    "The on-site energy generation section involves two electricity generation technologies, one heat generation technology, and one co-production technology. The electrical efficiency (ηE), heating efficiency (ηH), minimum capacity if constructed (LB), maximum capacity if constructed (UB), capital cost (CAPEX), and operational cost (OPEX) are give in Table 3. Table 3: Technical and economic parameters of on-site energy generation technologies\n",
    "\n",
    "| Process            | ηE [%] | ηH [%] | LB [kW] | UB [kW] | Capex [$/kW] | Opex [$/ (kW·year)] |\n",
    "|--------------------|--------|--------|---------|---------|--------------|---------------------|\n",
    "| Biomass ST         |   68   |   0    |   100   | 10⁶     |    250       |        15           |\n",
    "| Natural Gas CHP    |   44   |  28    |   800   | 10⁶     |    500       |        15           |\n",
    "| Solar PV           |    9   |   0    |    10   |  300    |   2000       |       500           |\n",
    "| Wind Farm          |   22   |   0    |    10   |  500    |   2000       |      1200           |\n"
   ]
  },
  {
   "attachments": {},
   "cell_type": "markdown",
   "id": "772864cc",
   "metadata": {},
   "source": [
    "Two electricity driven energy conversion technologies and one heat driven energy conversion technologies is given in order to meet the demands of lighting, refrigeration, and space heating. The efficiency (or coefficient of performance, COP), types of energy input, types of utility output, capital cost and operational cost of these technologies are summarized in Table 4.\n",
    "\n",
    "|                      | Refrigeration      | LED         | Heating      |\n",
    "|----------------------|--------------------|-------------|--------------|\n",
    "| **Input [-]**        | Electricity        | Electricity | Heating      |\n",
    "| **Output [-]**       | Refrigeration      | Lighting    | Space Heating|\n",
    "| **Efficiency [%]**   | 300 (COP)          | 80          | 85           |\n",
    "| **Capex [$/kW]**     | 70                 | 10          | 30           |\n",
    "| **Opex [$/kW·year]** | 4                  | 1           | 3            |\n"
   ]
  },
  {
   "attachments": {},
   "cell_type": "markdown",
   "id": "a90440d3",
   "metadata": {},
   "source": [
    "Determine system configurations for optimal cost, energy efficiency, and emission"
   ]
  },
  {
   "attachments": {},
   "cell_type": "markdown",
   "id": "bec99404",
   "metadata": {},
   "source": [
    "## Import modules"
   ]
  },
  {
   "cell_type": "code",
   "execution_count": 1,
   "id": "c279b795",
   "metadata": {},
   "outputs": [],
   "source": [
    "from energia import *"
   ]
  },
  {
   "attachments": {},
   "cell_type": "markdown",
   "id": "51cc7041",
   "metadata": {},
   "source": [
    "## Parameters"
   ]
  },
  {
   "cell_type": "code",
   "execution_count": 2,
   "id": "18a3d599",
   "metadata": {},
   "outputs": [],
   "source": [
    "resource_demand_dict = {'Lighting': 200, 'Refrigeration': 1000, 'Space Heating': 100}\n",
    "\n",
    "resource_dict = {\n",
    "    'Price': {'Natural Gas': 8.89, 'Biomass': 9.72, 'Grid Electricity': 36.11},\n",
    "    'CO2 Generation': {'Natural Gas': 56, 'Biomass': 100, 'Grid Electricity': 90},\n",
    "}\n",
    "\n",
    "generation_process_dict = {\n",
    "    'Biomass ST': {'nE': 68, 'nH': 0, 'LB': 100, 'UB': 10**6, 'Capex': 250, 'Opex': 15},\n",
    "    'Natural Gas CHP': {\n",
    "        'nE': 44,\n",
    "        'nH': 28,\n",
    "        'LB': 800,\n",
    "        'UB': 10**6,\n",
    "        'Capex': 500,\n",
    "        'Opex': 15,\n",
    "    },\n",
    "    'Solar PV': {'nE': 9, 'nH': 0, 'LB': 10, 'UB': 300, 'Capex': 2000, 'Opex': 500},\n",
    "    'Wind Farm': {'nE': 22, 'nH': 0, 'LB': 10, 'UB': 500, 'Capex': 2000, 'Opex': 1200},\n",
    "}\n",
    "\n",
    "consumption_process_dict = {\n",
    "    'Refrigeration': {'Efficiency': 300, 'Capex': 80, 'Opex': 85},\n",
    "    'LED': {'Efficiency': 70, 'Capex': 10, 'Opex': 30},\n",
    "    'Heating': {'Efficiency': 4, 'Capex': 1, 'Opex': 3},\n",
    "}"
   ]
  },
  {
   "cell_type": "markdown",
   "id": "8831ea36",
   "metadata": {},
   "source": [
    "## Model"
   ]
  },
  {
   "cell_type": "markdown",
   "id": "bb3ac0b9",
   "metadata": {},
   "source": [
    "Declare the model"
   ]
  },
  {
   "cell_type": "code",
   "execution_count": 3,
   "id": "9347e82e",
   "metadata": {},
   "outputs": [],
   "source": [
    "m = Model('supermarket')"
   ]
  },
  {
   "attachments": {},
   "cell_type": "markdown",
   "id": "c593b5f8",
   "metadata": {},
   "source": [
    "## Spatiotemporal Disposition"
   ]
  },
  {
   "attachments": {},
   "cell_type": "markdown",
   "id": "274652bb",
   "metadata": {},
   "source": [
    "We will conside a single temporal scale representing the 20 year horizon with no discretization. The only location being considered is the Supermarket\n",
    "It is <u>not</u> required. However, declaring one allows us to label the location."
   ]
  },
  {
   "cell_type": "code",
   "execution_count": 4,
   "id": "01a06605",
   "metadata": {},
   "outputs": [],
   "source": [
    "m.supermarket = Location()"
   ]
  },
  {
   "cell_type": "markdown",
   "id": "60ab3b1c",
   "metadata": {},
   "source": [
    "## Units"
   ]
  },
  {
   "cell_type": "code",
   "execution_count": 5,
   "id": "37862759",
   "metadata": {},
   "outputs": [],
   "source": [
    "m.GJ = Unit(label='Giga Joules')\n",
    "m.PJ = 10**6 * m.GJ\n",
    "m.kW = Unit(label='kilo Watts')\n",
    "m.tons = Unit(label='US Tons')"
   ]
  },
  {
   "attachments": {},
   "cell_type": "markdown",
   "id": "7a54554f",
   "metadata": {},
   "source": [
    "## Resources"
   ]
  },
  {
   "attachments": {},
   "cell_type": "markdown",
   "id": "c2d1edb7",
   "metadata": {},
   "source": [
    "Resources can be declared along with thier attributes such as maximum allowed consumption, dischargeablity, base price, etc."
   ]
  },
  {
   "cell_type": "code",
   "execution_count": 6,
   "id": "414b1fb2",
   "metadata": {},
   "outputs": [],
   "source": [
    "m.usd = Currency(label='$')"
   ]
  },
  {
   "cell_type": "code",
   "execution_count": 7,
   "id": "42e49131",
   "metadata": {},
   "outputs": [
    {
     "name": "stdout",
     "output_type": "stream",
     "text": [
      "--- General Resource Balance for biomass in (supermarket, t0): initializing constraint, adding consume(biomass, supermarket, t0)\n",
      "    Completed in 0.00010657310485839844 seconds\n"
     ]
    }
   ],
   "source": [
    "m.biomass = Resource(basis=m.GJ, label='Biomass')\n",
    "m.biomass.consume == True\n",
    "m.biomass.consume[m.usd.spend] == resource_dict['Price']['Biomass']"
   ]
  },
  {
   "cell_type": "markdown",
   "id": "a4afe0a0",
   "metadata": {},
   "source": [
    "### Display the program"
   ]
  },
  {
   "cell_type": "markdown",
   "id": "8487ba5c",
   "metadata": {},
   "source": [
    "show(True) will print constraints at every index"
   ]
  },
  {
   "cell_type": "code",
   "execution_count": 8,
   "id": "ef4ced9e",
   "metadata": {},
   "outputs": [
    {
     "data": {
      "text/markdown": [
       "# Mathematical Program for supermarket"
      ],
      "text/plain": [
       "<IPython.core.display.Markdown object>"
      ]
     },
     "metadata": {},
     "output_type": "display_data"
    },
    {
     "data": {
      "text/markdown": [
       "## Index Sets"
      ],
      "text/plain": [
       "<IPython.core.display.Markdown object>"
      ]
     },
     "metadata": {},
     "output_type": "display_data"
    },
    {
     "data": {
      "text/latex": [
       "$\\displaystyle spaces = \\{ supermarket \\}$"
      ],
      "text/plain": [
       "<IPython.core.display.Math object>"
      ]
     },
     "metadata": {},
     "output_type": "display_data"
    },
    {
     "data": {
      "text/latex": [
       "$\\displaystyle currencies = \\{ usd \\}$"
      ],
      "text/plain": [
       "<IPython.core.display.Math object>"
      ]
     },
     "metadata": {},
     "output_type": "display_data"
    },
    {
     "data": {
      "text/latex": [
       "$\\displaystyle resources = \\{ biomass \\}$"
      ],
      "text/plain": [
       "<IPython.core.display.Math object>"
      ]
     },
     "metadata": {},
     "output_type": "display_data"
    },
    {
     "data": {
      "text/latex": [
       "$\\displaystyle t0 = \\{ {t0_{0}} \\}$"
      ],
      "text/plain": [
       "<IPython.core.display.Math object>"
      ]
     },
     "metadata": {},
     "output_type": "display_data"
    },
    {
     "name": "stdout",
     "output_type": "stream",
     "text": [
      "\n"
     ]
    },
    {
     "data": {
      "text/markdown": [
       "## s.t."
      ],
      "text/plain": [
       "<IPython.core.display.Markdown object>"
      ]
     },
     "metadata": {},
     "output_type": "display_data"
    },
    {
     "data": {
      "text/markdown": [
       "### Calculation Constraint Sets"
      ],
      "text/plain": [
       "<IPython.core.display.Markdown object>"
      ]
     },
     "metadata": {},
     "output_type": "display_data"
    },
    {
     "data": {
      "text/latex": [
       "$\\displaystyle [1]\\text{   }{{spend}}_{usd, supermarket, t0, {consume}, biomass} - 9.72 \\cdot {{{cons}}}_{biomass, supermarket, t0} = 0$"
      ],
      "text/plain": [
       "<IPython.core.display.Math object>"
      ]
     },
     "metadata": {},
     "output_type": "display_data"
    },
    {
     "data": {
      "text/markdown": [
       "### General Resource Balance Constraint Sets"
      ],
      "text/plain": [
       "<IPython.core.display.Markdown object>"
      ]
     },
     "metadata": {},
     "output_type": "display_data"
    },
    {
     "data": {
      "text/latex": [
       "$\\displaystyle [0]\\text{   }{{{cons}}}_{biomass, supermarket, t0} = 0$"
      ],
      "text/plain": [
       "<IPython.core.display.Math object>"
      ]
     },
     "metadata": {},
     "output_type": "display_data"
    }
   ],
   "source": [
    "m.show()"
   ]
  },
  {
   "cell_type": "code",
   "execution_count": 9,
   "id": "fa556b2e",
   "metadata": {},
   "outputs": [
    {
     "name": "stdout",
     "output_type": "stream",
     "text": [
      "--- General Resource Balance for gridpower in (supermarket, t0): initializing constraint, adding consume(gridpower, supermarket, t0)\n",
      "    Completed in 8.630752563476562e-05 seconds\n",
      "--- General Resource Balance for ng in (supermarket, t0): initializing constraint, adding consume(ng, supermarket, t0)\n",
      "    Completed in 6.699562072753906e-05 seconds\n",
      "--- General Resource Balance for co2_vent in (supermarket, t0): initializing constraint, adding release(co2_vent, supermarket, t0)\n",
      "    Completed in 5.5789947509765625e-05 seconds\n",
      "--- General Resource Balance for solar in (supermarket, t0): initializing constraint, adding consume(solar, supermarket, t0)\n",
      "    Completed in 6.318092346191406e-05 seconds\n",
      "--- General Resource Balance for wind in (supermarket, t0): initializing constraint, adding consume(wind, supermarket, t0)\n",
      "    Completed in 5.5789947509765625e-05 seconds\n",
      "--- General Resource Balance for lighting in (supermarket, t0): initializing constraint, adding release(lighting, supermarket, t0)\n",
      "    Completed in 5.221366882324219e-05 seconds\n",
      "--- Binding release in domain (lighting, supermarket, t0)\n",
      "    Completed in 6.175041198730469e-05 seconds\n",
      "--- General Resource Balance for refrigeration in (supermarket, t0): initializing constraint, adding release(refrigeration, supermarket, t0)\n",
      "    Completed in 4.935264587402344e-05 seconds\n",
      "--- Binding release in domain (refrigeration, supermarket, t0)\n",
      "    Completed in 5.9604644775390625e-05 seconds\n",
      "--- General Resource Balance for heating in (supermarket, t0): initializing constraint, adding release(heating, supermarket, t0)\n",
      "    Completed in 5.435943603515625e-05 seconds\n",
      "--- Binding release in domain (heating, supermarket, t0)\n",
      "    Completed in 0.0016291141510009766 seconds\n"
     ]
    }
   ],
   "source": [
    "m.gridpower = Resource(basis=m.GJ, label='Grid Electricity')\n",
    "m.gridpower.consume == True\n",
    "m.gridpower.consume[m.usd.spend] == resource_dict['Price']['Grid Electricity']\n",
    "\n",
    "\n",
    "m.ng = Resource(basis=m.GJ, label='Natural gas')\n",
    "m.ng.consume == True\n",
    "m.ng.consume[m.usd.spend] == resource_dict['Price']['Natural Gas']\n",
    "\n",
    "\n",
    "m.power = Resource(basis=m.kW, label='Electrical Power')\n",
    "m.heat = Resource(basis=m.kW, label='Heat Power')\n",
    "\n",
    "m.co2_vent = Resource(basis=m.tons, label='Carbon dioxide')\n",
    "m.co2_vent.release == True\n",
    "\n",
    "\n",
    "m.solar = Resource(basis=m.GJ, label='Solar energy')\n",
    "m.solar.consume == True\n",
    "m.wind = Resource(basis=m.GJ, label='Wind energy')\n",
    "m.wind.consume == True\n",
    "\n",
    "m.lighting = Resource(basis=m.kW, label='Lighting')\n",
    "m.lighting.release >= resource_demand_dict['Lighting']\n",
    "\n",
    "m.refrigeration = Resource(basis=m.kW, label='Refrigeration')\n",
    "m.refrigeration.release >= resource_demand_dict['Refrigeration']\n",
    "\n",
    "m.heating = Resource(basis=m.kW, label='Heating')\n",
    "m.heating.release >= resource_demand_dict['Space Heating']"
   ]
  },
  {
   "cell_type": "code",
   "execution_count": 10,
   "id": "68263223",
   "metadata": {},
   "outputs": [
    {
     "data": {
      "text/markdown": [
       "# Mathematical Program for supermarket"
      ],
      "text/plain": [
       "<IPython.core.display.Markdown object>"
      ]
     },
     "metadata": {},
     "output_type": "display_data"
    },
    {
     "data": {
      "text/markdown": [
       "## Index Sets"
      ],
      "text/plain": [
       "<IPython.core.display.Markdown object>"
      ]
     },
     "metadata": {},
     "output_type": "display_data"
    },
    {
     "data": {
      "text/latex": [
       "$\\displaystyle spaces = \\{ supermarket \\}$"
      ],
      "text/plain": [
       "<IPython.core.display.Math object>"
      ]
     },
     "metadata": {},
     "output_type": "display_data"
    },
    {
     "data": {
      "text/latex": [
       "$\\displaystyle currencies = \\{ usd \\}$"
      ],
      "text/plain": [
       "<IPython.core.display.Math object>"
      ]
     },
     "metadata": {},
     "output_type": "display_data"
    },
    {
     "data": {
      "text/latex": [
       "$\\displaystyle resources = \\{ biomass, gridpower, ng, power, heat, co2\\_vent, solar, wind, lighting, refrigeration, heating \\}$"
      ],
      "text/plain": [
       "<IPython.core.display.Math object>"
      ]
     },
     "metadata": {},
     "output_type": "display_data"
    },
    {
     "data": {
      "text/latex": [
       "$\\displaystyle t0 = \\{ {t0_{0}} \\}$"
      ],
      "text/plain": [
       "<IPython.core.display.Math object>"
      ]
     },
     "metadata": {},
     "output_type": "display_data"
    },
    {
     "name": "stdout",
     "output_type": "stream",
     "text": [
      "\n"
     ]
    },
    {
     "data": {
      "text/markdown": [
       "## s.t."
      ],
      "text/plain": [
       "<IPython.core.display.Markdown object>"
      ]
     },
     "metadata": {},
     "output_type": "display_data"
    },
    {
     "data": {
      "text/markdown": [
       "### Bound Constraint Sets"
      ],
      "text/plain": [
       "<IPython.core.display.Markdown object>"
      ]
     },
     "metadata": {},
     "output_type": "display_data"
    },
    {
     "data": {
      "text/latex": [
       "$\\displaystyle [10]\\text{   }-{{{{rlse}}}}_{lighting, supermarket, t0} + 200 \\leq 0$"
      ],
      "text/plain": [
       "<IPython.core.display.Math object>"
      ]
     },
     "metadata": {},
     "output_type": "display_data"
    },
    {
     "data": {
      "text/latex": [
       "$\\displaystyle [12]\\text{   }-{{{{rlse}}}}_{refrigeration, supermarket, t0} + 1000 \\leq 0$"
      ],
      "text/plain": [
       "<IPython.core.display.Math object>"
      ]
     },
     "metadata": {},
     "output_type": "display_data"
    },
    {
     "data": {
      "text/latex": [
       "$\\displaystyle [14]\\text{   }-{{{{rlse}}}}_{heating, supermarket, t0} + 100 \\leq 0$"
      ],
      "text/plain": [
       "<IPython.core.display.Math object>"
      ]
     },
     "metadata": {},
     "output_type": "display_data"
    },
    {
     "data": {
      "text/markdown": [
       "### Calculation Constraint Sets"
      ],
      "text/plain": [
       "<IPython.core.display.Markdown object>"
      ]
     },
     "metadata": {},
     "output_type": "display_data"
    },
    {
     "data": {
      "text/latex": [
       "$\\displaystyle [1]\\text{   }{{spend}}_{usd, supermarket, t0, {consume}, biomass} - 9.72 \\cdot {{{cons}}}_{biomass, supermarket, t0} = 0$"
      ],
      "text/plain": [
       "<IPython.core.display.Math object>"
      ]
     },
     "metadata": {},
     "output_type": "display_data"
    },
    {
     "data": {
      "text/latex": [
       "$\\displaystyle [3]\\text{   }{{{spend}}}_{usd, supermarket, t0, {consume}, gridpower} - 36.11 \\cdot {{{{cons}}}}_{gridpower, supermarket, t0} = 0$"
      ],
      "text/plain": [
       "<IPython.core.display.Math object>"
      ]
     },
     "metadata": {},
     "output_type": "display_data"
    },
    {
     "data": {
      "text/latex": [
       "$\\displaystyle [5]\\text{   }{{{spend}}}_{usd, supermarket, t0, {consume}, ng} - 8.89 \\cdot {{{{cons}}}}_{ng, supermarket, t0} = 0$"
      ],
      "text/plain": [
       "<IPython.core.display.Math object>"
      ]
     },
     "metadata": {},
     "output_type": "display_data"
    },
    {
     "data": {
      "text/markdown": [
       "### General Resource Balance Constraint Sets"
      ],
      "text/plain": [
       "<IPython.core.display.Markdown object>"
      ]
     },
     "metadata": {},
     "output_type": "display_data"
    },
    {
     "data": {
      "text/latex": [
       "$\\displaystyle [0]\\text{   }{{{cons}}}_{biomass, supermarket, t0} = 0$"
      ],
      "text/plain": [
       "<IPython.core.display.Math object>"
      ]
     },
     "metadata": {},
     "output_type": "display_data"
    },
    {
     "data": {
      "text/latex": [
       "$\\displaystyle [2]\\text{   }{{{{cons}}}}_{gridpower, supermarket, t0} = 0$"
      ],
      "text/plain": [
       "<IPython.core.display.Math object>"
      ]
     },
     "metadata": {},
     "output_type": "display_data"
    },
    {
     "data": {
      "text/latex": [
       "$\\displaystyle [4]\\text{   }{{{{cons}}}}_{ng, supermarket, t0} = 0$"
      ],
      "text/plain": [
       "<IPython.core.display.Math object>"
      ]
     },
     "metadata": {},
     "output_type": "display_data"
    },
    {
     "data": {
      "text/latex": [
       "$\\displaystyle [6]\\text{   }-{{{rlse}}}_{co2_vent, supermarket, t0} = 0$"
      ],
      "text/plain": [
       "<IPython.core.display.Math object>"
      ]
     },
     "metadata": {},
     "output_type": "display_data"
    },
    {
     "data": {
      "text/latex": [
       "$\\displaystyle [7]\\text{   }{{{{cons}}}}_{solar, supermarket, t0} = 0$"
      ],
      "text/plain": [
       "<IPython.core.display.Math object>"
      ]
     },
     "metadata": {},
     "output_type": "display_data"
    },
    {
     "data": {
      "text/latex": [
       "$\\displaystyle [8]\\text{   }{{{{cons}}}}_{wind, supermarket, t0} = 0$"
      ],
      "text/plain": [
       "<IPython.core.display.Math object>"
      ]
     },
     "metadata": {},
     "output_type": "display_data"
    },
    {
     "data": {
      "text/latex": [
       "$\\displaystyle [9]\\text{   }-{{{{rlse}}}}_{lighting, supermarket, t0} = 0$"
      ],
      "text/plain": [
       "<IPython.core.display.Math object>"
      ]
     },
     "metadata": {},
     "output_type": "display_data"
    },
    {
     "data": {
      "text/latex": [
       "$\\displaystyle [11]\\text{   }-{{{{rlse}}}}_{refrigeration, supermarket, t0} = 0$"
      ],
      "text/plain": [
       "<IPython.core.display.Math object>"
      ]
     },
     "metadata": {},
     "output_type": "display_data"
    },
    {
     "data": {
      "text/latex": [
       "$\\displaystyle [13]\\text{   }-{{{{rlse}}}}_{heating, supermarket, t0} = 0$"
      ],
      "text/plain": [
       "<IPython.core.display.Math object>"
      ]
     },
     "metadata": {},
     "output_type": "display_data"
    }
   ],
   "source": [
    "m.show()"
   ]
  },
  {
   "attachments": {},
   "cell_type": "markdown",
   "id": "9db1df3f",
   "metadata": {},
   "source": [
    "## Processes"
   ]
  },
  {
   "attachments": {},
   "cell_type": "markdown",
   "id": "a8cec5e8",
   "metadata": {},
   "source": [
    "Processes convert one resource to another with a particular conversion efficiency while incurring a cost for setup (capital expenditure) and operation (operational expenditure)"
   ]
  },
  {
   "cell_type": "code",
   "execution_count": 11,
   "id": "f584e041",
   "metadata": {},
   "outputs": [
    {
     "name": "stdout",
     "output_type": "stream",
     "text": [
      "--- Binding capacity in domain (st, supermarket, t0)\n",
      "    Completed in 0.00012612342834472656 seconds\n",
      "--- Binding capacity in domain (st, supermarket, t0)\n",
      "    Completed in 9.179115295410156e-05 seconds\n",
      "--- Binding capacity in domain (chp, supermarket, t0)\n",
      "    Completed in 0.00010466575622558594 seconds\n",
      "--- Binding capacity in domain (chp, supermarket, t0)\n",
      "    Completed in 8.368492126464844e-05 seconds\n",
      "--- Binding capacity in domain (pv, supermarket, t0)\n",
      "    Completed in 9.632110595703125e-05 seconds\n",
      "--- Binding capacity in domain (pv, supermarket, t0)\n",
      "    Completed in 9.059906005859375e-05 seconds\n",
      "--- Binding capacity in domain (wf, supermarket, t0)\n",
      "    Completed in 9.012222290039062e-05 seconds\n",
      "--- Binding capacity in domain (wf, supermarket, t0)\n",
      "    Completed in 8.320808410644531e-05 seconds\n",
      "--- Binding capacity in domain (grid, supermarket, t0)\n",
      "    Completed in 4.1961669921875e-05 seconds\n"
     ]
    }
   ],
   "source": [
    "m.st = Process(basis=m.PJ, label='Biomass ST')\n",
    "m.st(-m.biomass) == (\n",
    "    277.78 * generation_process_dict['Biomass ST']['nE'] / 100\n",
    ") * m.power + m.co2_vent * resource_dict['CO2 Generation']['Biomass']\n",
    "# using x sets a binary, making the setting up of the process optional\n",
    "m.st.capacity.x >= generation_process_dict['Biomass ST']['LB']\n",
    "m.st.capacity.x <= generation_process_dict['Biomass ST']['UB']\n",
    "m.st.capacity[m.usd.spend] == generation_process_dict['Biomass ST']['Capex'] * 0.05\n",
    "m.st.operate[m.usd.spend] == generation_process_dict['Biomass ST']['Opex']\n",
    "\n",
    "\n",
    "m.chp = Process(basis=m.PJ, label='Biomass ST')\n",
    "m.chp(-m.ng) == (\n",
    "    277.78 * generation_process_dict['Natural Gas CHP']['nE'] / 100\n",
    ") * m.power + (\n",
    "    277.78 * generation_process_dict['Natural Gas CHP']['nH'] / 100\n",
    ") * m.heat + m.co2_vent * resource_dict[\n",
    "    'CO2 Generation'\n",
    "][\n",
    "    'Natural Gas'\n",
    "]\n",
    "# using x sets a binary, making the setting up of the process optional\n",
    "m.chp.capacity.x >= generation_process_dict['Natural Gas CHP']['LB']\n",
    "m.chp.capacity.x <= generation_process_dict['Natural Gas CHP']['UB']\n",
    "m.chp.capacity[m.usd.spend] == generation_process_dict['Natural Gas CHP'][\n",
    "    'Capex'\n",
    "] * 0.05\n",
    "m.chp.operate[m.usd.spend] == generation_process_dict['Natural Gas CHP']['Opex']\n",
    "\n",
    "\n",
    "m.pv = Process(basis=m.kW, label='Solar PV')\n",
    "m.pv(-m.solar) == (277.78 * generation_process_dict['Solar PV']['nE'] / 100) * m.power\n",
    "m.pv.capacity.x <= generation_process_dict['Solar PV']['UB']\n",
    "m.pv.capacity.x >= generation_process_dict['Solar PV']['LB']\n",
    "m.pv.capacity[m.usd.spend] == generation_process_dict['Solar PV']['Capex'] * 0.05\n",
    "m.pv.operate[m.usd.spend] == generation_process_dict['Solar PV']['Opex']\n",
    "\n",
    "\n",
    "m.wf = Process(basis=m.kW, label='Wind Farm')\n",
    "m.wf(-m.wind) == (277.78 * generation_process_dict['Wind Farm']['nE'] / 100) * m.power\n",
    "m.wf.capacity.x <= generation_process_dict['Wind Farm']['UB']\n",
    "m.wf.capacity.x >= generation_process_dict['Wind Farm']['LB']\n",
    "m.wf.capacity[m.usd.spend] == generation_process_dict['Wind Farm']['Capex'] * 0.05\n",
    "m.wf.operate[m.usd.spend] == generation_process_dict['Wind Farm']['Opex']\n",
    "\n",
    "m.grid = Process(basis=m.PJ, label='Grid Electricity')\n",
    "m.grid(-m.gridpower) == 277.78 * m.power + m.co2_vent * resource_dict['CO2 Generation'][\n",
    "    'Grid Electricity'\n",
    "]\n",
    "m.grid.capacity <= 10**5  # no binary needed because no upper bound"
   ]
  },
  {
   "cell_type": "code",
   "execution_count": 12,
   "id": "a080168e",
   "metadata": {},
   "outputs": [
    {
     "name": "stdout",
     "output_type": "stream",
     "text": [
      "--- Binding capacity in domain (refrigerator, supermarket, t0)\n",
      "    Completed in 6.222724914550781e-05 seconds\n"
     ]
    }
   ],
   "source": [
    "m.refrigerator = Process(basis=m.kW, label='Refrigerator')\n",
    "m.refrigerator.capacity <= 10**5\n",
    "m.refrigerator(-m.power) == (\n",
    "    consumption_process_dict['Refrigeration']['Efficiency'] / 100\n",
    ") * m.refrigeration\n",
    "m.refrigerator.capacity[m.usd.spend] == consumption_process_dict['Refrigeration'][\n",
    "    'Capex'\n",
    "] * 0.05\n",
    "m.refrigerator.operate[m.usd.spend] == consumption_process_dict['Refrigeration']['Opex']\n",
    "\n",
    "m.led = Process(basis=m.kW, label='LED')\n",
    "m.led(-m.power) == (consumption_process_dict['LED']['Efficiency'] / 100) * m.lighting\n",
    "m.led.capacity[m.usd.spend] == consumption_process_dict['LED']['Capex'] * 0.05\n",
    "m.led.operate[m.usd.spend] == consumption_process_dict['LED']['Opex']\n",
    "\n",
    "m.heater = Process(basis=m.kW, label='Heater')\n",
    "m.heater(-m.heat) == (\n",
    "    consumption_process_dict['Heating']['Efficiency'] / 100\n",
    ") * m.heating\n",
    "m.heater.capacity[m.usd.spend] == consumption_process_dict['Heating']['Capex'] * 0.05\n",
    "m.heater.operate[m.usd.spend] == consumption_process_dict['Heating']['Opex']"
   ]
  },
  {
   "attachments": {},
   "cell_type": "markdown",
   "id": "a60e71bf",
   "metadata": {},
   "source": [
    "## Locate operations"
   ]
  },
  {
   "attachments": {},
   "cell_type": "markdown",
   "id": "c306d69a",
   "metadata": {},
   "source": [
    "Locations serve as aggregations of scenarios"
   ]
  },
  {
   "cell_type": "code",
   "execution_count": 13,
   "id": "1934ea2d",
   "metadata": {},
   "outputs": [
    {
     "name": "stdout",
     "output_type": "stream",
     "text": [
      "--- Assuming operation of st is bound by capacity in (supermarket, t0)\n",
      "--- Binding operate in domain (st, supermarket, t0)\n",
      "    Completed in 8.988380432128906e-05 seconds\n",
      "--- General Resource Balance for biomass in (supermarket, t0): adding expend(biomass, supermarket, t0, operate, st)\n",
      "    Completed in 6.270408630371094e-05 seconds\n",
      "--- General Resource Balance for power in (supermarket, t0): initializing constraint, adding produce(power, supermarket, t0, operate, st)\n",
      "    Completed in 6.079673767089844e-05 seconds\n",
      "--- General Resource Balance for co2_vent in (supermarket, t0): adding produce(co2_vent, supermarket, t0, operate, st)\n",
      "    Completed in 6.127357482910156e-05 seconds\n",
      "--- Assuming operation of chp is bound by capacity in (supermarket, t0)\n",
      "--- Binding operate in domain (chp, supermarket, t0)\n",
      "    Completed in 0.0002148151397705078 seconds\n",
      "--- General Resource Balance for ng in (supermarket, t0): adding expend(ng, supermarket, t0, operate, chp)\n",
      "    Completed in 6.151199340820312e-05 seconds\n",
      "--- General Resource Balance for power in (supermarket, t0): adding produce(power, supermarket, t0, operate, chp)\n",
      "    Completed in 5.7220458984375e-05 seconds\n",
      "--- General Resource Balance for heat in (supermarket, t0): initializing constraint, adding produce(heat, supermarket, t0, operate, chp)\n",
      "    Completed in 5.91278076171875e-05 seconds\n",
      "--- General Resource Balance for co2_vent in (supermarket, t0): adding produce(co2_vent, supermarket, t0, operate, chp)\n",
      "    Completed in 5.459785461425781e-05 seconds\n",
      "--- Assuming operation of pv is bound by capacity in (supermarket, t0)\n",
      "--- Binding operate in domain (pv, supermarket, t0)\n",
      "    Completed in 6.222724914550781e-05 seconds\n",
      "--- General Resource Balance for solar in (supermarket, t0): adding expend(solar, supermarket, t0, operate, pv)\n",
      "    Completed in 5.984306335449219e-05 seconds\n",
      "--- General Resource Balance for power in (supermarket, t0): adding produce(power, supermarket, t0, operate, pv)\n",
      "    Completed in 6.842613220214844e-05 seconds\n",
      "--- Assuming operation of wf is bound by capacity in (supermarket, t0)\n",
      "--- Binding operate in domain (wf, supermarket, t0)\n",
      "    Completed in 5.793571472167969e-05 seconds\n",
      "--- General Resource Balance for wind in (supermarket, t0): adding expend(wind, supermarket, t0, operate, wf)\n",
      "    Completed in 5.5789947509765625e-05 seconds\n",
      "--- General Resource Balance for power in (supermarket, t0): adding produce(power, supermarket, t0, operate, wf)\n",
      "    Completed in 5.221366882324219e-05 seconds\n",
      "--- Assuming operation of grid is bound by capacity in (supermarket, t0)\n",
      "--- Binding operate in domain (grid, supermarket, t0)\n",
      "    Completed in 0.0001895427703857422 seconds\n",
      "--- General Resource Balance for gridpower in (supermarket, t0): adding expend(gridpower, supermarket, t0, operate, grid)\n",
      "    Completed in 7.033348083496094e-05 seconds\n",
      "--- General Resource Balance for power in (supermarket, t0): adding produce(power, supermarket, t0, operate, grid)\n",
      "    Completed in 5.7697296142578125e-05 seconds\n",
      "--- General Resource Balance for co2_vent in (supermarket, t0): adding produce(co2_vent, supermarket, t0, operate, grid)\n",
      "    Completed in 5.6743621826171875e-05 seconds\n",
      "--- Assuming operation of refrigerator is bound by capacity in (supermarket, t0)\n",
      "--- Binding operate in domain (refrigerator, supermarket, t0)\n",
      "    Completed in 6.198883056640625e-05 seconds\n",
      "--- General Resource Balance for power in (supermarket, t0): adding expend(power, supermarket, t0, operate, refrigerator)\n",
      "    Completed in 6.198883056640625e-05 seconds\n",
      "--- General Resource Balance for refrigeration in (supermarket, t0): adding produce(refrigeration, supermarket, t0, operate, refrigerator)\n",
      "    Completed in 5.507469177246094e-05 seconds\n",
      "--- Assuming  led capacity is unbounded in (supermarket, t0)\n",
      "--- Assuming operation of led is bound by capacity in (supermarket, t0)\n",
      "--- Binding operate in domain (led, supermarket, t0)\n",
      "    Completed in 5.745887756347656e-05 seconds\n",
      "--- General Resource Balance for power in (supermarket, t0): adding expend(power, supermarket, t0, operate, led)\n",
      "    Completed in 5.91278076171875e-05 seconds\n",
      "--- General Resource Balance for lighting in (supermarket, t0): adding produce(lighting, supermarket, t0, operate, led)\n",
      "    Completed in 5.841255187988281e-05 seconds\n",
      "--- Assuming  heater capacity is unbounded in (supermarket, t0)\n",
      "--- Assuming operation of heater is bound by capacity in (supermarket, t0)\n",
      "--- Binding operate in domain (heater, supermarket, t0)\n",
      "    Completed in 5.650520324707031e-05 seconds\n",
      "--- General Resource Balance for heat in (supermarket, t0): adding expend(heat, supermarket, t0, operate, heater)\n",
      "    Completed in 5.364418029785156e-05 seconds\n",
      "--- General Resource Balance for heating in (supermarket, t0): adding produce(heating, supermarket, t0, operate, heater)\n",
      "    Completed in 5.626678466796875e-05 seconds\n"
     ]
    }
   ],
   "source": [
    "m.supermarket.locate(m.st, m.chp, m.pv, m.wf, m.grid, m.refrigerator, m.led, m.heater)"
   ]
  },
  {
   "attachments": {},
   "cell_type": "markdown",
   "id": "28c7ec56",
   "metadata": {},
   "source": [
    "## Formulation"
   ]
  },
  {
   "attachments": {},
   "cell_type": "markdown",
   "id": "58d6bf84",
   "metadata": {},
   "source": [
    "Various constraints are need for the formulating the mathematical programming model. Here we include the cost, production, resource balance, demand, inventory, and network constraints."
   ]
  },
  {
   "cell_type": "code",
   "execution_count": 14,
   "id": "1e12fbcc",
   "metadata": {},
   "outputs": [
    {
     "data": {
      "text/markdown": [
       "# Mathematical Program for supermarket"
      ],
      "text/plain": [
       "<IPython.core.display.Markdown object>"
      ]
     },
     "metadata": {},
     "output_type": "display_data"
    },
    {
     "data": {
      "text/markdown": [
       "## Index Sets"
      ],
      "text/plain": [
       "<IPython.core.display.Markdown object>"
      ]
     },
     "metadata": {},
     "output_type": "display_data"
    },
    {
     "data": {
      "text/latex": [
       "$\\displaystyle spaces = \\{ supermarket \\}$"
      ],
      "text/plain": [
       "<IPython.core.display.Math object>"
      ]
     },
     "metadata": {},
     "output_type": "display_data"
    },
    {
     "data": {
      "text/latex": [
       "$\\displaystyle currencies = \\{ usd \\}$"
      ],
      "text/plain": [
       "<IPython.core.display.Math object>"
      ]
     },
     "metadata": {},
     "output_type": "display_data"
    },
    {
     "data": {
      "text/latex": [
       "$\\displaystyle resources = \\{ biomass, gridpower, ng, power, heat, co2\\_vent, solar, wind, lighting, refrigeration, heating \\}$"
      ],
      "text/plain": [
       "<IPython.core.display.Math object>"
      ]
     },
     "metadata": {},
     "output_type": "display_data"
    },
    {
     "data": {
      "text/latex": [
       "$\\displaystyle processes = \\{ st, chp, pv, wf, grid, refrigerator, led, heater \\}$"
      ],
      "text/plain": [
       "<IPython.core.display.Math object>"
      ]
     },
     "metadata": {},
     "output_type": "display_data"
    },
    {
     "data": {
      "text/latex": [
       "$\\displaystyle t0 = \\{ {t0_{0}} \\}$"
      ],
      "text/plain": [
       "<IPython.core.display.Math object>"
      ]
     },
     "metadata": {},
     "output_type": "display_data"
    },
    {
     "name": "stdout",
     "output_type": "stream",
     "text": [
      "\n"
     ]
    },
    {
     "data": {
      "text/markdown": [
       "## s.t."
      ],
      "text/plain": [
       "<IPython.core.display.Markdown object>"
      ]
     },
     "metadata": {},
     "output_type": "display_data"
    },
    {
     "data": {
      "text/markdown": [
       "### General Resource Balance Constraint Sets"
      ],
      "text/plain": [
       "<IPython.core.display.Markdown object>"
      ]
     },
     "metadata": {},
     "output_type": "display_data"
    },
    {
     "data": {
      "text/latex": [
       "$\\displaystyle [0]\\text{   }{{{cons}}}_{biomass, supermarket, t0} - {{{expd}}}_{biomass, supermarket, t0, {operate}, st} = 0$"
      ],
      "text/plain": [
       "<IPython.core.display.Math object>"
      ]
     },
     "metadata": {},
     "output_type": "display_data"
    },
    {
     "data": {
      "text/latex": [
       "$\\displaystyle [2]\\text{   }{{{{cons}}}}_{gridpower, supermarket, t0} - {{{{expd}}}}_{gridpower, supermarket, t0, {operate}, grid} = 0$"
      ],
      "text/plain": [
       "<IPython.core.display.Math object>"
      ]
     },
     "metadata": {},
     "output_type": "display_data"
    },
    {
     "data": {
      "text/latex": [
       "$\\displaystyle [4]\\text{   }{{{{cons}}}}_{ng, supermarket, t0} - {{{{expd}}}}_{ng, supermarket, t0, {operate}, chp} = 0$"
      ],
      "text/plain": [
       "<IPython.core.display.Math object>"
      ]
     },
     "metadata": {},
     "output_type": "display_data"
    },
    {
     "data": {
      "text/latex": [
       "$\\displaystyle [6]\\text{   }-{{{rlse}}}_{co2_vent, supermarket, t0} + {{{{prod}}}}_{co2_vent, supermarket, t0, {operate}, st} + {{{{prod}}}}_{co2_vent, supermarket, t0, {operate}, chp} + {{{{prod}}}}_{co2_vent, supermarket, t0, {operate}, grid} = 0$"
      ],
      "text/plain": [
       "<IPython.core.display.Math object>"
      ]
     },
     "metadata": {},
     "output_type": "display_data"
    },
    {
     "data": {
      "text/latex": [
       "$\\displaystyle [7]\\text{   }{{{{cons}}}}_{solar, supermarket, t0} - {{{{expd}}}}_{solar, supermarket, t0, {operate}, pv} = 0$"
      ],
      "text/plain": [
       "<IPython.core.display.Math object>"
      ]
     },
     "metadata": {},
     "output_type": "display_data"
    },
    {
     "data": {
      "text/latex": [
       "$\\displaystyle [8]\\text{   }{{{{cons}}}}_{wind, supermarket, t0} - {{{{expd}}}}_{wind, supermarket, t0, {operate}, wf} = 0$"
      ],
      "text/plain": [
       "<IPython.core.display.Math object>"
      ]
     },
     "metadata": {},
     "output_type": "display_data"
    },
    {
     "data": {
      "text/latex": [
       "$\\displaystyle [9]\\text{   }-{{{{rlse}}}}_{lighting, supermarket, t0} + {{{{prod}}}}_{lighting, supermarket, t0, {operate}, led} = 0$"
      ],
      "text/plain": [
       "<IPython.core.display.Math object>"
      ]
     },
     "metadata": {},
     "output_type": "display_data"
    },
    {
     "data": {
      "text/latex": [
       "$\\displaystyle [11]\\text{   }-{{{{rlse}}}}_{refrigeration, supermarket, t0} + {{{{prod}}}}_{refrigeration, supermarket, t0, {operate}, refrigerator} = 0$"
      ],
      "text/plain": [
       "<IPython.core.display.Math object>"
      ]
     },
     "metadata": {},
     "output_type": "display_data"
    },
    {
     "data": {
      "text/latex": [
       "$\\displaystyle [13]\\text{   }-{{{{rlse}}}}_{heating, supermarket, t0} + {{{{prod}}}}_{heating, supermarket, t0, {operate}, heater} = 0$"
      ],
      "text/plain": [
       "<IPython.core.display.Math object>"
      ]
     },
     "metadata": {},
     "output_type": "display_data"
    },
    {
     "data": {
      "text/latex": [
       "$\\displaystyle [41]\\text{   }{{{prod}}}_{power, supermarket, t0, {operate}, st} + {{{{prod}}}}_{power, supermarket, t0, {operate}, chp} + {{{{prod}}}}_{power, supermarket, t0, {operate}, pv} + {{{{prod}}}}_{power, supermarket, t0, {operate}, wf} + {{{{prod}}}}_{power, supermarket, t0, {operate}, grid} - {{{{expd}}}}_{power, supermarket, t0, {operate}, refrigerator} - {{{{expd}}}}_{power, supermarket, t0, {operate}, led} = 0$"
      ],
      "text/plain": [
       "<IPython.core.display.Math object>"
      ]
     },
     "metadata": {},
     "output_type": "display_data"
    },
    {
     "data": {
      "text/latex": [
       "$\\displaystyle [47]\\text{   }{{{{prod}}}}_{heat, supermarket, t0, {operate}, chp} - {{{{expd}}}}_{heat, supermarket, t0, {operate}, heater} = 0$"
      ],
      "text/plain": [
       "<IPython.core.display.Math object>"
      ]
     },
     "metadata": {},
     "output_type": "display_data"
    }
   ],
   "source": [
    "m.show(category='General Resource Balance')"
   ]
  },
  {
   "attachments": {},
   "cell_type": "markdown",
   "id": "119f9199",
   "metadata": {},
   "source": [
    "### Optimal Cost "
   ]
  },
  {
   "cell_type": "code",
   "execution_count": 15,
   "id": "6d5cfa54",
   "metadata": {},
   "outputs": [
    {
     "name": "stdout",
     "output_type": "stream",
     "text": [
      "--- Creating map to (usd, supermarket, t0). Mapping spend: from (usd, supermarket, t0, consume, biomass) to (usd, supermarket, t0)\n",
      "    Completed in 0.00021696090698242188 seconds\n",
      "--- Mapping spend: from (usd, supermarket, t0, consume, gridpower) to (usd, supermarket, t0)\n",
      "    Completed in 4.76837158203125e-05 seconds\n",
      "--- Mapping spend: from (usd, supermarket, t0, consume, ng) to (usd, supermarket, t0)\n",
      "    Completed in 4.649162292480469e-05 seconds\n",
      "--- Mapping spend: from (usd, supermarket, t0, capacity, st) to (usd, supermarket, t0)\n",
      "    Completed in 4.267692565917969e-05 seconds\n",
      "--- Mapping spend: from (usd, supermarket, t0, operate, st) to (usd, supermarket, t0)\n",
      "    Completed in 4.100799560546875e-05 seconds\n",
      "--- Mapping spend: from (usd, supermarket, t0, capacity, chp) to (usd, supermarket, t0)\n",
      "    Completed in 4.1484832763671875e-05 seconds\n",
      "--- Mapping spend: from (usd, supermarket, t0, operate, chp) to (usd, supermarket, t0)\n",
      "    Completed in 3.9577484130859375e-05 seconds\n",
      "--- Mapping spend: from (usd, supermarket, t0, capacity, pv) to (usd, supermarket, t0)\n",
      "    Completed in 4.38690185546875e-05 seconds\n",
      "--- Mapping spend: from (usd, supermarket, t0, operate, pv) to (usd, supermarket, t0)\n",
      "    Completed in 4.220008850097656e-05 seconds\n",
      "--- Mapping spend: from (usd, supermarket, t0, capacity, wf) to (usd, supermarket, t0)\n",
      "    Completed in 4.124641418457031e-05 seconds\n",
      "--- Mapping spend: from (usd, supermarket, t0, operate, wf) to (usd, supermarket, t0)\n",
      "    Completed in 4.9114227294921875e-05 seconds\n",
      "--- Mapping spend: from (usd, supermarket, t0, capacity, refrigerator) to (usd, supermarket, t0)\n",
      "    Completed in 4.076957702636719e-05 seconds\n",
      "--- Mapping spend: from (usd, supermarket, t0, operate, refrigerator) to (usd, supermarket, t0)\n",
      "    Completed in 4.076957702636719e-05 seconds\n",
      "--- Mapping spend: from (usd, supermarket, t0, capacity, led) to (usd, supermarket, t0)\n",
      "    Completed in 4.1484832763671875e-05 seconds\n",
      "--- Mapping spend: from (usd, supermarket, t0, operate, led) to (usd, supermarket, t0)\n",
      "    Completed in 4.172325134277344e-05 seconds\n",
      "--- Mapping spend: from (usd, supermarket, t0, capacity, heater) to (usd, supermarket, t0)\n",
      "    Completed in 4.363059997558594e-05 seconds\n",
      "--- Mapping spend: from (usd, supermarket, t0, operate, heater) to (usd, supermarket, t0)\n",
      "    Completed in 4.553794860839844e-05 seconds\n",
      "--- Generating supermarket.mps\n",
      "--- Creating gurobi model for supermarket\n",
      "Set parameter Username\n"
     ]
    },
    {
     "name": "stdout",
     "output_type": "stream",
     "text": [
      "Academic license - for non-commercial use only - expires 2026-08-01\n"
     ]
    },
    {
     "name": "stdout",
     "output_type": "stream",
     "text": [
      "Read MPS format model from file supermarket.mps\n"
     ]
    },
    {
     "name": "stdout",
     "output_type": "stream",
     "text": [
      "Reading time = 0.00 seconds\n"
     ]
    },
    {
     "name": "stdout",
     "output_type": "stream",
     "text": [
      "SUPERMARKET: 70 rows, 67 columns, 158 nonzeros\n"
     ]
    },
    {
     "name": "stdout",
     "output_type": "stream",
     "text": [
      "--- Optimizing supermarket using gurobi\n",
      "Gurobi Optimizer version 12.0.3 build v12.0.3rc0 (win64 - Windows 11.0 (26100.2))\n"
     ]
    },
    {
     "name": "stdout",
     "output_type": "stream",
     "text": [
      "\n"
     ]
    },
    {
     "name": "stdout",
     "output_type": "stream",
     "text": [
      "CPU model: 13th Gen Intel(R) Core(TM) i7-13700, instruction set [SSE2|AVX|AVX2]\n"
     ]
    },
    {
     "name": "stdout",
     "output_type": "stream",
     "text": [
      "Thread count: 16 physical cores, 24 logical processors, using up to 24 threads\n"
     ]
    },
    {
     "name": "stdout",
     "output_type": "stream",
     "text": [
      "\n"
     ]
    },
    {
     "name": "stdout",
     "output_type": "stream",
     "text": [
      "Optimize a model with 70 rows, 67 columns and 158 nonzeros\n"
     ]
    },
    {
     "name": "stdout",
     "output_type": "stream",
     "text": [
      "Model fingerprint: 0xb3bf002c\n"
     ]
    },
    {
     "name": "stdout",
     "output_type": "stream",
     "text": [
      "Variable types: 63 continuous, 4 integer (4 binary)\n"
     ]
    },
    {
     "name": "stdout",
     "output_type": "stream",
     "text": [
      "Coefficient statistics:\n"
     ]
    },
    {
     "name": "stdout",
     "output_type": "stream",
     "text": [
      "  Matrix range     [4e-02, 1e+06]\n"
     ]
    },
    {
     "name": "stdout",
     "output_type": "stream",
     "text": [
      "  Objective range  [1e+00, 1e+00]\n"
     ]
    },
    {
     "name": "stdout",
     "output_type": "stream",
     "text": [
      "  Bounds range     [1e+00, 1e+00]\n"
     ]
    },
    {
     "name": "stdout",
     "output_type": "stream",
     "text": [
      "  RHS range        [1e+02, 1e+05]\n"
     ]
    },
    {
     "name": "stdout",
     "output_type": "stream",
     "text": [
      "Presolve removed 70 rows and 67 columns\n"
     ]
    },
    {
     "name": "stdout",
     "output_type": "stream",
     "text": [
      "Presolve time: 0.00s\n"
     ]
    },
    {
     "name": "stdout",
     "output_type": "stream",
     "text": [
      "Presolve: All rows and columns removed\n"
     ]
    },
    {
     "name": "stdout",
     "output_type": "stream",
     "text": [
      "\n"
     ]
    },
    {
     "name": "stdout",
     "output_type": "stream",
     "text": [
      "Explored 0 nodes (0 simplex iterations) in 0.00 seconds (0.00 work units)\n"
     ]
    },
    {
     "name": "stdout",
     "output_type": "stream",
     "text": [
      "Thread count was 1 (of 24 available processors)\n"
     ]
    },
    {
     "name": "stdout",
     "output_type": "stream",
     "text": [
      "\n"
     ]
    },
    {
     "name": "stdout",
     "output_type": "stream",
     "text": [
      "Solution count 1: 167714 \n"
     ]
    },
    {
     "name": "stdout",
     "output_type": "stream",
     "text": [
      "\n"
     ]
    },
    {
     "name": "stdout",
     "output_type": "stream",
     "text": [
      "Optimal solution found (tolerance 1.00e-04)\n"
     ]
    },
    {
     "name": "stdout",
     "output_type": "stream",
     "text": [
      "Best objective 1.677143152857e+05, best bound 1.677143152857e+05, gap 0.0000%\n"
     ]
    },
    {
     "name": "stdout",
     "output_type": "stream",
     "text": [
      "--- Solution found. Use .sol() to display it\n",
      "--- Creating Solution object, check.solution\n"
     ]
    }
   ],
   "source": [
    "m.usd.spend.opt()"
   ]
  },
  {
   "cell_type": "code",
   "execution_count": 16,
   "id": "7ce37ac3",
   "metadata": {},
   "outputs": [
    {
     "data": {
      "text/latex": [
       "$\\displaystyle {{spend}}_{usd, supermarket, t0{0}}=167714.31528571434$"
      ],
      "text/plain": [
       "<IPython.core.display.Math object>"
      ]
     },
     "metadata": {},
     "output_type": "display_data"
    }
   ],
   "source": [
    "m.usd.spend.sol()"
   ]
  },
  {
   "cell_type": "code",
   "execution_count": 17,
   "id": "90d4c9c0",
   "metadata": {},
   "outputs": [
    {
     "data": {
      "text/markdown": [
       "# Mathematical Program for supermarket"
      ],
      "text/plain": [
       "<IPython.core.display.Markdown object>"
      ]
     },
     "metadata": {},
     "output_type": "display_data"
    },
    {
     "data": {
      "text/markdown": [
       "## Index Sets"
      ],
      "text/plain": [
       "<IPython.core.display.Markdown object>"
      ]
     },
     "metadata": {},
     "output_type": "display_data"
    },
    {
     "data": {
      "text/latex": [
       "$\\displaystyle spaces = \\{ supermarket \\}$"
      ],
      "text/plain": [
       "<IPython.core.display.Math object>"
      ]
     },
     "metadata": {},
     "output_type": "display_data"
    },
    {
     "data": {
      "text/latex": [
       "$\\displaystyle currencies = \\{ usd \\}$"
      ],
      "text/plain": [
       "<IPython.core.display.Math object>"
      ]
     },
     "metadata": {},
     "output_type": "display_data"
    },
    {
     "data": {
      "text/latex": [
       "$\\displaystyle resources = \\{ biomass, gridpower, ng, power, heat, co2\\_vent, solar, wind, lighting, refrigeration, heating \\}$"
      ],
      "text/plain": [
       "<IPython.core.display.Math object>"
      ]
     },
     "metadata": {},
     "output_type": "display_data"
    },
    {
     "data": {
      "text/latex": [
       "$\\displaystyle processes = \\{ st, chp, pv, wf, grid, refrigerator, led, heater \\}$"
      ],
      "text/plain": [
       "<IPython.core.display.Math object>"
      ]
     },
     "metadata": {},
     "output_type": "display_data"
    },
    {
     "data": {
      "text/latex": [
       "$\\displaystyle t0 = \\{ {t0_{0}} \\}$"
      ],
      "text/plain": [
       "<IPython.core.display.Math object>"
      ]
     },
     "metadata": {},
     "output_type": "display_data"
    },
    {
     "data": {
      "text/markdown": [
       "## Objective"
      ],
      "text/plain": [
       "<IPython.core.display.Markdown object>"
      ]
     },
     "metadata": {},
     "output_type": "display_data"
    },
    {
     "data": {
      "text/latex": [
       "$\\displaystyle min \\hspace{0.2cm} {{spend}}_{usd, supermarket, t0{0}}$"
      ],
      "text/plain": [
       "<IPython.core.display.Math object>"
      ]
     },
     "metadata": {},
     "output_type": "display_data"
    },
    {
     "name": "stdout",
     "output_type": "stream",
     "text": [
      "\n"
     ]
    },
    {
     "data": {
      "text/markdown": [
       "## s.t."
      ],
      "text/plain": [
       "<IPython.core.display.Markdown object>"
      ]
     },
     "metadata": {},
     "output_type": "display_data"
    },
    {
     "data": {
      "text/markdown": [
       "### Bound Constraint Sets"
      ],
      "text/plain": [
       "<IPython.core.display.Markdown object>"
      ]
     },
     "metadata": {},
     "output_type": "display_data"
    },
    {
     "data": {
      "text/latex": [
       "$\\displaystyle [10]\\text{   }-{{{{rlse}}}}_{lighting, supermarket, t0} + 200 \\leq 0$"
      ],
      "text/plain": [
       "<IPython.core.display.Math object>"
      ]
     },
     "metadata": {},
     "output_type": "display_data"
    },
    {
     "data": {
      "text/latex": [
       "$\\displaystyle [12]\\text{   }-{{{{rlse}}}}_{refrigeration, supermarket, t0} + 1000 \\leq 0$"
      ],
      "text/plain": [
       "<IPython.core.display.Math object>"
      ]
     },
     "metadata": {},
     "output_type": "display_data"
    },
    {
     "data": {
      "text/latex": [
       "$\\displaystyle [14]\\text{   }-{{{{rlse}}}}_{heating, supermarket, t0} + 100 \\leq 0$"
      ],
      "text/plain": [
       "<IPython.core.display.Math object>"
      ]
     },
     "metadata": {},
     "output_type": "display_data"
    },
    {
     "data": {
      "text/latex": [
       "$\\displaystyle [15]\\text{   }100 \\cdot {{{\\breve{{cap}^{P}}}}}_{st, supermarket, t0} - {{{cap}^{P}}}_{st, supermarket, t0} \\leq 0$"
      ],
      "text/plain": [
       "<IPython.core.display.Math object>"
      ]
     },
     "metadata": {},
     "output_type": "display_data"
    },
    {
     "data": {
      "text/latex": [
       "$\\displaystyle [16]\\text{   }{{{cap}^{P}}}_{st, supermarket, t0} - 1000000 \\cdot {{{\\breve{{cap}^{P}}}}}_{st, supermarket, t0} \\leq 0$"
      ],
      "text/plain": [
       "<IPython.core.display.Math object>"
      ]
     },
     "metadata": {},
     "output_type": "display_data"
    },
    {
     "data": {
      "text/latex": [
       "$\\displaystyle [19]\\text{   }800 \\cdot {{{{\\breve{{cap}^{P}}}}}}_{chp, supermarket, t0} - {{{{cap}^{P}}}}_{chp, supermarket, t0} \\leq 0$"
      ],
      "text/plain": [
       "<IPython.core.display.Math object>"
      ]
     },
     "metadata": {},
     "output_type": "display_data"
    },
    {
     "data": {
      "text/latex": [
       "$\\displaystyle [20]\\text{   }{{{{cap}^{P}}}}_{chp, supermarket, t0} - 1000000 \\cdot {{{{\\breve{{cap}^{P}}}}}}_{chp, supermarket, t0} \\leq 0$"
      ],
      "text/plain": [
       "<IPython.core.display.Math object>"
      ]
     },
     "metadata": {},
     "output_type": "display_data"
    },
    {
     "data": {
      "text/latex": [
       "$\\displaystyle [23]\\text{   }{{{{cap}^{P}}}}_{pv, supermarket, t0} - 300 \\cdot {{{{\\breve{{cap}^{P}}}}}}_{pv, supermarket, t0} \\leq 0$"
      ],
      "text/plain": [
       "<IPython.core.display.Math object>"
      ]
     },
     "metadata": {},
     "output_type": "display_data"
    },
    {
     "data": {
      "text/latex": [
       "$\\displaystyle [24]\\text{   }10 \\cdot {{{{\\breve{{cap}^{P}}}}}}_{pv, supermarket, t0} - {{{{cap}^{P}}}}_{pv, supermarket, t0} \\leq 0$"
      ],
      "text/plain": [
       "<IPython.core.display.Math object>"
      ]
     },
     "metadata": {},
     "output_type": "display_data"
    },
    {
     "data": {
      "text/latex": [
       "$\\displaystyle [27]\\text{   }{{{{cap}^{P}}}}_{wf, supermarket, t0} - 500 \\cdot {{{{\\breve{{cap}^{P}}}}}}_{wf, supermarket, t0} \\leq 0$"
      ],
      "text/plain": [
       "<IPython.core.display.Math object>"
      ]
     },
     "metadata": {},
     "output_type": "display_data"
    },
    {
     "data": {
      "text/latex": [
       "$\\displaystyle [28]\\text{   }10 \\cdot {{{{\\breve{{cap}^{P}}}}}}_{wf, supermarket, t0} - {{{{cap}^{P}}}}_{wf, supermarket, t0} \\leq 0$"
      ],
      "text/plain": [
       "<IPython.core.display.Math object>"
      ]
     },
     "metadata": {},
     "output_type": "display_data"
    },
    {
     "data": {
      "text/latex": [
       "$\\displaystyle [31]\\text{   }{{{{cap}^{P}}}}_{grid, supermarket, t0} - 100000 \\leq 0$"
      ],
      "text/plain": [
       "<IPython.core.display.Math object>"
      ]
     },
     "metadata": {},
     "output_type": "display_data"
    },
    {
     "data": {
      "text/latex": [
       "$\\displaystyle [32]\\text{   }{{{{cap}^{P}}}}_{refrigerator, supermarket, t0} - 100000 \\leq 0$"
      ],
      "text/plain": [
       "<IPython.core.display.Math object>"
      ]
     },
     "metadata": {},
     "output_type": "display_data"
    },
    {
     "data": {
      "text/latex": [
       "$\\displaystyle [39]\\text{   }{{{{opr}}}}_{st, supermarket, t0} - {{{{cap}^{P}}}}_{st, supermarket, t0} \\leq 0$"
      ],
      "text/plain": [
       "<IPython.core.display.Math object>"
      ]
     },
     "metadata": {},
     "output_type": "display_data"
    },
    {
     "data": {
      "text/latex": [
       "$\\displaystyle [44]\\text{   }{{{{opr}}}}_{chp, supermarket, t0} - {{{{cap}^{P}}}}_{chp, supermarket, t0} \\leq 0$"
      ],
      "text/plain": [
       "<IPython.core.display.Math object>"
      ]
     },
     "metadata": {},
     "output_type": "display_data"
    },
    {
     "data": {
      "text/latex": [
       "$\\displaystyle [50]\\text{   }{{{{opr}}}}_{pv, supermarket, t0} - {{{{cap}^{P}}}}_{pv, supermarket, t0} \\leq 0$"
      ],
      "text/plain": [
       "<IPython.core.display.Math object>"
      ]
     },
     "metadata": {},
     "output_type": "display_data"
    },
    {
     "data": {
      "text/latex": [
       "$\\displaystyle [53]\\text{   }{{{{opr}}}}_{wf, supermarket, t0} - {{{{cap}^{P}}}}_{wf, supermarket, t0} \\leq 0$"
      ],
      "text/plain": [
       "<IPython.core.display.Math object>"
      ]
     },
     "metadata": {},
     "output_type": "display_data"
    },
    {
     "data": {
      "text/latex": [
       "$\\displaystyle [56]\\text{   }{{{{opr}}}}_{grid, supermarket, t0} - {{{{cap}^{P}}}}_{grid, supermarket, t0} \\leq 0$"
      ],
      "text/plain": [
       "<IPython.core.display.Math object>"
      ]
     },
     "metadata": {},
     "output_type": "display_data"
    },
    {
     "data": {
      "text/latex": [
       "$\\displaystyle [60]\\text{   }{{{{opr}}}}_{refrigerator, supermarket, t0} - {{{{cap}^{P}}}}_{refrigerator, supermarket, t0} \\leq 0$"
      ],
      "text/plain": [
       "<IPython.core.display.Math object>"
      ]
     },
     "metadata": {},
     "output_type": "display_data"
    },
    {
     "data": {
      "text/latex": [
       "$\\displaystyle [63]\\text{   }{{{{opr}}}}_{led, supermarket, t0} - {{{{cap}^{P}}}}_{led, supermarket, t0} \\leq 0$"
      ],
      "text/plain": [
       "<IPython.core.display.Math object>"
      ]
     },
     "metadata": {},
     "output_type": "display_data"
    },
    {
     "data": {
      "text/latex": [
       "$\\displaystyle [66]\\text{   }{{{{opr}}}}_{heater, supermarket, t0} - {{{{cap}^{P}}}}_{heater, supermarket, t0} \\leq 0$"
      ],
      "text/plain": [
       "<IPython.core.display.Math object>"
      ]
     },
     "metadata": {},
     "output_type": "display_data"
    },
    {
     "data": {
      "text/markdown": [
       "### Calculation Constraint Sets"
      ],
      "text/plain": [
       "<IPython.core.display.Markdown object>"
      ]
     },
     "metadata": {},
     "output_type": "display_data"
    },
    {
     "data": {
      "text/latex": [
       "$\\displaystyle [1]\\text{   }{{spend}}_{usd, supermarket, t0, {consume}, biomass} - 9.72 \\cdot {{{cons}}}_{biomass, supermarket, t0} = 0$"
      ],
      "text/plain": [
       "<IPython.core.display.Math object>"
      ]
     },
     "metadata": {},
     "output_type": "display_data"
    },
    {
     "data": {
      "text/latex": [
       "$\\displaystyle [3]\\text{   }{{{spend}}}_{usd, supermarket, t0, {consume}, gridpower} - 36.11 \\cdot {{{{cons}}}}_{gridpower, supermarket, t0} = 0$"
      ],
      "text/plain": [
       "<IPython.core.display.Math object>"
      ]
     },
     "metadata": {},
     "output_type": "display_data"
    },
    {
     "data": {
      "text/latex": [
       "$\\displaystyle [5]\\text{   }{{{spend}}}_{usd, supermarket, t0, {consume}, ng} - 8.89 \\cdot {{{{cons}}}}_{ng, supermarket, t0} = 0$"
      ],
      "text/plain": [
       "<IPython.core.display.Math object>"
      ]
     },
     "metadata": {},
     "output_type": "display_data"
    },
    {
     "data": {
      "text/latex": [
       "$\\displaystyle [17]\\text{   }{{{spend}}}_{usd, supermarket, t0, {capacity}, st} - 12.5 \\cdot {{{cap}^{P}}}_{st, supermarket, t0} = 0$"
      ],
      "text/plain": [
       "<IPython.core.display.Math object>"
      ]
     },
     "metadata": {},
     "output_type": "display_data"
    },
    {
     "data": {
      "text/latex": [
       "$\\displaystyle [18]\\text{   }{{{spend}}}_{usd, supermarket, t0, {operate}, st} - 15 \\cdot {{{opr}}}_{st, supermarket, t0} = 0$"
      ],
      "text/plain": [
       "<IPython.core.display.Math object>"
      ]
     },
     "metadata": {},
     "output_type": "display_data"
    },
    {
     "data": {
      "text/latex": [
       "$\\displaystyle [21]\\text{   }{{{spend}}}_{usd, supermarket, t0, {capacity}, chp} - 25.0 \\cdot {{{{cap}^{P}}}}_{chp, supermarket, t0} = 0$"
      ],
      "text/plain": [
       "<IPython.core.display.Math object>"
      ]
     },
     "metadata": {},
     "output_type": "display_data"
    },
    {
     "data": {
      "text/latex": [
       "$\\displaystyle [22]\\text{   }{{{spend}}}_{usd, supermarket, t0, {operate}, chp} - 15 \\cdot {{{{opr}}}}_{chp, supermarket, t0} = 0$"
      ],
      "text/plain": [
       "<IPython.core.display.Math object>"
      ]
     },
     "metadata": {},
     "output_type": "display_data"
    },
    {
     "data": {
      "text/latex": [
       "$\\displaystyle [25]\\text{   }{{{spend}}}_{usd, supermarket, t0, {capacity}, pv} - 100.0 \\cdot {{{{cap}^{P}}}}_{pv, supermarket, t0} = 0$"
      ],
      "text/plain": [
       "<IPython.core.display.Math object>"
      ]
     },
     "metadata": {},
     "output_type": "display_data"
    },
    {
     "data": {
      "text/latex": [
       "$\\displaystyle [26]\\text{   }{{{spend}}}_{usd, supermarket, t0, {operate}, pv} - 500 \\cdot {{{{opr}}}}_{pv, supermarket, t0} = 0$"
      ],
      "text/plain": [
       "<IPython.core.display.Math object>"
      ]
     },
     "metadata": {},
     "output_type": "display_data"
    },
    {
     "data": {
      "text/latex": [
       "$\\displaystyle [29]\\text{   }{{{spend}}}_{usd, supermarket, t0, {capacity}, wf} - 100.0 \\cdot {{{{cap}^{P}}}}_{wf, supermarket, t0} = 0$"
      ],
      "text/plain": [
       "<IPython.core.display.Math object>"
      ]
     },
     "metadata": {},
     "output_type": "display_data"
    },
    {
     "data": {
      "text/latex": [
       "$\\displaystyle [30]\\text{   }{{{spend}}}_{usd, supermarket, t0, {operate}, wf} - 1200 \\cdot {{{{opr}}}}_{wf, supermarket, t0} = 0$"
      ],
      "text/plain": [
       "<IPython.core.display.Math object>"
      ]
     },
     "metadata": {},
     "output_type": "display_data"
    },
    {
     "data": {
      "text/latex": [
       "$\\displaystyle [33]\\text{   }{{{spend}}}_{usd, supermarket, t0, {capacity}, refrigerator} - 4.0 \\cdot {{{{cap}^{P}}}}_{refrigerator, supermarket, t0} = 0$"
      ],
      "text/plain": [
       "<IPython.core.display.Math object>"
      ]
     },
     "metadata": {},
     "output_type": "display_data"
    },
    {
     "data": {
      "text/latex": [
       "$\\displaystyle [34]\\text{   }{{{spend}}}_{usd, supermarket, t0, {operate}, refrigerator} - 85 \\cdot {{{{opr}}}}_{refrigerator, supermarket, t0} = 0$"
      ],
      "text/plain": [
       "<IPython.core.display.Math object>"
      ]
     },
     "metadata": {},
     "output_type": "display_data"
    },
    {
     "data": {
      "text/latex": [
       "$\\displaystyle [35]\\text{   }{{{spend}}}_{usd, supermarket, t0, {capacity}, led} - 0.5 \\cdot {{{{cap}^{P}}}}_{led, supermarket, t0} = 0$"
      ],
      "text/plain": [
       "<IPython.core.display.Math object>"
      ]
     },
     "metadata": {},
     "output_type": "display_data"
    },
    {
     "data": {
      "text/latex": [
       "$\\displaystyle [36]\\text{   }{{{spend}}}_{usd, supermarket, t0, {operate}, led} - 30 \\cdot {{{{opr}}}}_{led, supermarket, t0} = 0$"
      ],
      "text/plain": [
       "<IPython.core.display.Math object>"
      ]
     },
     "metadata": {},
     "output_type": "display_data"
    },
    {
     "data": {
      "text/latex": [
       "$\\displaystyle [37]\\text{   }{{{spend}}}_{usd, supermarket, t0, {capacity}, heater} - 0.05 \\cdot {{{{cap}^{P}}}}_{heater, supermarket, t0} = 0$"
      ],
      "text/plain": [
       "<IPython.core.display.Math object>"
      ]
     },
     "metadata": {},
     "output_type": "display_data"
    },
    {
     "data": {
      "text/latex": [
       "$\\displaystyle [38]\\text{   }{{{spend}}}_{usd, supermarket, t0, {operate}, heater} - 3 \\cdot {{{{opr}}}}_{heater, supermarket, t0} = 0$"
      ],
      "text/plain": [
       "<IPython.core.display.Math object>"
      ]
     },
     "metadata": {},
     "output_type": "display_data"
    },
    {
     "data": {
      "text/latex": [
       "$\\displaystyle [40]\\text{   }{{{expd}}}_{biomass, supermarket, t0, {operate}, st} - {{{{opr}}}}_{st, supermarket, t0} = 0$"
      ],
      "text/plain": [
       "<IPython.core.display.Math object>"
      ]
     },
     "metadata": {},
     "output_type": "display_data"
    },
    {
     "data": {
      "text/latex": [
       "$\\displaystyle [42]\\text{   }{{{prod}}}_{power, supermarket, t0, {operate}, st} - 188.89039999999997 \\cdot {{{{opr}}}}_{st, supermarket, t0} = 0$"
      ],
      "text/plain": [
       "<IPython.core.display.Math object>"
      ]
     },
     "metadata": {},
     "output_type": "display_data"
    },
    {
     "data": {
      "text/latex": [
       "$\\displaystyle [43]\\text{   }{{{{prod}}}}_{co2_vent, supermarket, t0, {operate}, st} - 100 \\cdot {{{{opr}}}}_{st, supermarket, t0} = 0$"
      ],
      "text/plain": [
       "<IPython.core.display.Math object>"
      ]
     },
     "metadata": {},
     "output_type": "display_data"
    },
    {
     "data": {
      "text/latex": [
       "$\\displaystyle [45]\\text{   }{{{{expd}}}}_{ng, supermarket, t0, {operate}, chp} - {{{{opr}}}}_{chp, supermarket, t0} = 0$"
      ],
      "text/plain": [
       "<IPython.core.display.Math object>"
      ]
     },
     "metadata": {},
     "output_type": "display_data"
    },
    {
     "data": {
      "text/latex": [
       "$\\displaystyle [46]\\text{   }{{{{prod}}}}_{power, supermarket, t0, {operate}, chp} - 122.22319999999999 \\cdot {{{{opr}}}}_{chp, supermarket, t0} = 0$"
      ],
      "text/plain": [
       "<IPython.core.display.Math object>"
      ]
     },
     "metadata": {},
     "output_type": "display_data"
    },
    {
     "data": {
      "text/latex": [
       "$\\displaystyle [48]\\text{   }{{{{prod}}}}_{heat, supermarket, t0, {operate}, chp} - 77.77839999999999 \\cdot {{{{opr}}}}_{chp, supermarket, t0} = 0$"
      ],
      "text/plain": [
       "<IPython.core.display.Math object>"
      ]
     },
     "metadata": {},
     "output_type": "display_data"
    },
    {
     "data": {
      "text/latex": [
       "$\\displaystyle [49]\\text{   }{{{{prod}}}}_{co2_vent, supermarket, t0, {operate}, chp} - 56 \\cdot {{{{opr}}}}_{chp, supermarket, t0} = 0$"
      ],
      "text/plain": [
       "<IPython.core.display.Math object>"
      ]
     },
     "metadata": {},
     "output_type": "display_data"
    },
    {
     "data": {
      "text/latex": [
       "$\\displaystyle [51]\\text{   }{{{{expd}}}}_{solar, supermarket, t0, {operate}, pv} - {{{{opr}}}}_{pv, supermarket, t0} = 0$"
      ],
      "text/plain": [
       "<IPython.core.display.Math object>"
      ]
     },
     "metadata": {},
     "output_type": "display_data"
    },
    {
     "data": {
      "text/latex": [
       "$\\displaystyle [52]\\text{   }{{{{prod}}}}_{power, supermarket, t0, {operate}, pv} - 25.000199999999996 \\cdot {{{{opr}}}}_{pv, supermarket, t0} = 0$"
      ],
      "text/plain": [
       "<IPython.core.display.Math object>"
      ]
     },
     "metadata": {},
     "output_type": "display_data"
    },
    {
     "data": {
      "text/latex": [
       "$\\displaystyle [54]\\text{   }{{{{expd}}}}_{wind, supermarket, t0, {operate}, wf} - {{{{opr}}}}_{wf, supermarket, t0} = 0$"
      ],
      "text/plain": [
       "<IPython.core.display.Math object>"
      ]
     },
     "metadata": {},
     "output_type": "display_data"
    },
    {
     "data": {
      "text/latex": [
       "$\\displaystyle [55]\\text{   }{{{{prod}}}}_{power, supermarket, t0, {operate}, wf} - 61.111599999999996 \\cdot {{{{opr}}}}_{wf, supermarket, t0} = 0$"
      ],
      "text/plain": [
       "<IPython.core.display.Math object>"
      ]
     },
     "metadata": {},
     "output_type": "display_data"
    },
    {
     "data": {
      "text/latex": [
       "$\\displaystyle [57]\\text{   }{{{{expd}}}}_{gridpower, supermarket, t0, {operate}, grid} - {{{{opr}}}}_{grid, supermarket, t0} = 0$"
      ],
      "text/plain": [
       "<IPython.core.display.Math object>"
      ]
     },
     "metadata": {},
     "output_type": "display_data"
    },
    {
     "data": {
      "text/latex": [
       "$\\displaystyle [58]\\text{   }{{{{prod}}}}_{power, supermarket, t0, {operate}, grid} - 277.78 \\cdot {{{{opr}}}}_{grid, supermarket, t0} = 0$"
      ],
      "text/plain": [
       "<IPython.core.display.Math object>"
      ]
     },
     "metadata": {},
     "output_type": "display_data"
    },
    {
     "data": {
      "text/latex": [
       "$\\displaystyle [59]\\text{   }{{{{prod}}}}_{co2_vent, supermarket, t0, {operate}, grid} - 90 \\cdot {{{{opr}}}}_{grid, supermarket, t0} = 0$"
      ],
      "text/plain": [
       "<IPython.core.display.Math object>"
      ]
     },
     "metadata": {},
     "output_type": "display_data"
    },
    {
     "data": {
      "text/latex": [
       "$\\displaystyle [61]\\text{   }{{{{expd}}}}_{power, supermarket, t0, {operate}, refrigerator} - {{{{opr}}}}_{refrigerator, supermarket, t0} = 0$"
      ],
      "text/plain": [
       "<IPython.core.display.Math object>"
      ]
     },
     "metadata": {},
     "output_type": "display_data"
    },
    {
     "data": {
      "text/latex": [
       "$\\displaystyle [62]\\text{   }{{{{prod}}}}_{refrigeration, supermarket, t0, {operate}, refrigerator} - 3.0 \\cdot {{{{opr}}}}_{refrigerator, supermarket, t0} = 0$"
      ],
      "text/plain": [
       "<IPython.core.display.Math object>"
      ]
     },
     "metadata": {},
     "output_type": "display_data"
    },
    {
     "data": {
      "text/latex": [
       "$\\displaystyle [64]\\text{   }{{{{expd}}}}_{power, supermarket, t0, {operate}, led} - {{{{opr}}}}_{led, supermarket, t0} = 0$"
      ],
      "text/plain": [
       "<IPython.core.display.Math object>"
      ]
     },
     "metadata": {},
     "output_type": "display_data"
    },
    {
     "data": {
      "text/latex": [
       "$\\displaystyle [65]\\text{   }{{{{prod}}}}_{lighting, supermarket, t0, {operate}, led} - 0.7 \\cdot {{{{opr}}}}_{led, supermarket, t0} = 0$"
      ],
      "text/plain": [
       "<IPython.core.display.Math object>"
      ]
     },
     "metadata": {},
     "output_type": "display_data"
    },
    {
     "data": {
      "text/latex": [
       "$\\displaystyle [67]\\text{   }{{{{expd}}}}_{heat, supermarket, t0, {operate}, heater} - {{{{opr}}}}_{heater, supermarket, t0} = 0$"
      ],
      "text/plain": [
       "<IPython.core.display.Math object>"
      ]
     },
     "metadata": {},
     "output_type": "display_data"
    },
    {
     "data": {
      "text/latex": [
       "$\\displaystyle [68]\\text{   }{{{{prod}}}}_{heating, supermarket, t0, {operate}, heater} - 0.04 \\cdot {{{{opr}}}}_{heater, supermarket, t0} = 0$"
      ],
      "text/plain": [
       "<IPython.core.display.Math object>"
      ]
     },
     "metadata": {},
     "output_type": "display_data"
    },
    {
     "data": {
      "text/markdown": [
       "### General Resource Balance Constraint Sets"
      ],
      "text/plain": [
       "<IPython.core.display.Markdown object>"
      ]
     },
     "metadata": {},
     "output_type": "display_data"
    },
    {
     "data": {
      "text/latex": [
       "$\\displaystyle [0]\\text{   }{{{cons}}}_{biomass, supermarket, t0} - {{{expd}}}_{biomass, supermarket, t0, {operate}, st} = 0$"
      ],
      "text/plain": [
       "<IPython.core.display.Math object>"
      ]
     },
     "metadata": {},
     "output_type": "display_data"
    },
    {
     "data": {
      "text/latex": [
       "$\\displaystyle [2]\\text{   }{{{{cons}}}}_{gridpower, supermarket, t0} - {{{{expd}}}}_{gridpower, supermarket, t0, {operate}, grid} = 0$"
      ],
      "text/plain": [
       "<IPython.core.display.Math object>"
      ]
     },
     "metadata": {},
     "output_type": "display_data"
    },
    {
     "data": {
      "text/latex": [
       "$\\displaystyle [4]\\text{   }{{{{cons}}}}_{ng, supermarket, t0} - {{{{expd}}}}_{ng, supermarket, t0, {operate}, chp} = 0$"
      ],
      "text/plain": [
       "<IPython.core.display.Math object>"
      ]
     },
     "metadata": {},
     "output_type": "display_data"
    },
    {
     "data": {
      "text/latex": [
       "$\\displaystyle [6]\\text{   }-{{{rlse}}}_{co2_vent, supermarket, t0} + {{{{prod}}}}_{co2_vent, supermarket, t0, {operate}, st} + {{{{prod}}}}_{co2_vent, supermarket, t0, {operate}, chp} + {{{{prod}}}}_{co2_vent, supermarket, t0, {operate}, grid} = 0$"
      ],
      "text/plain": [
       "<IPython.core.display.Math object>"
      ]
     },
     "metadata": {},
     "output_type": "display_data"
    },
    {
     "data": {
      "text/latex": [
       "$\\displaystyle [7]\\text{   }{{{{cons}}}}_{solar, supermarket, t0} - {{{{expd}}}}_{solar, supermarket, t0, {operate}, pv} = 0$"
      ],
      "text/plain": [
       "<IPython.core.display.Math object>"
      ]
     },
     "metadata": {},
     "output_type": "display_data"
    },
    {
     "data": {
      "text/latex": [
       "$\\displaystyle [8]\\text{   }{{{{cons}}}}_{wind, supermarket, t0} - {{{{expd}}}}_{wind, supermarket, t0, {operate}, wf} = 0$"
      ],
      "text/plain": [
       "<IPython.core.display.Math object>"
      ]
     },
     "metadata": {},
     "output_type": "display_data"
    },
    {
     "data": {
      "text/latex": [
       "$\\displaystyle [9]\\text{   }-{{{{rlse}}}}_{lighting, supermarket, t0} + {{{{prod}}}}_{lighting, supermarket, t0, {operate}, led} = 0$"
      ],
      "text/plain": [
       "<IPython.core.display.Math object>"
      ]
     },
     "metadata": {},
     "output_type": "display_data"
    },
    {
     "data": {
      "text/latex": [
       "$\\displaystyle [11]\\text{   }-{{{{rlse}}}}_{refrigeration, supermarket, t0} + {{{{prod}}}}_{refrigeration, supermarket, t0, {operate}, refrigerator} = 0$"
      ],
      "text/plain": [
       "<IPython.core.display.Math object>"
      ]
     },
     "metadata": {},
     "output_type": "display_data"
    },
    {
     "data": {
      "text/latex": [
       "$\\displaystyle [13]\\text{   }-{{{{rlse}}}}_{heating, supermarket, t0} + {{{{prod}}}}_{heating, supermarket, t0, {operate}, heater} = 0$"
      ],
      "text/plain": [
       "<IPython.core.display.Math object>"
      ]
     },
     "metadata": {},
     "output_type": "display_data"
    },
    {
     "data": {
      "text/latex": [
       "$\\displaystyle [41]\\text{   }{{{prod}}}_{power, supermarket, t0, {operate}, st} + {{{{prod}}}}_{power, supermarket, t0, {operate}, chp} + {{{{prod}}}}_{power, supermarket, t0, {operate}, pv} + {{{{prod}}}}_{power, supermarket, t0, {operate}, wf} + {{{{prod}}}}_{power, supermarket, t0, {operate}, grid} - {{{{expd}}}}_{power, supermarket, t0, {operate}, refrigerator} - {{{{expd}}}}_{power, supermarket, t0, {operate}, led} = 0$"
      ],
      "text/plain": [
       "<IPython.core.display.Math object>"
      ]
     },
     "metadata": {},
     "output_type": "display_data"
    },
    {
     "data": {
      "text/latex": [
       "$\\displaystyle [47]\\text{   }{{{{prod}}}}_{heat, supermarket, t0, {operate}, chp} - {{{{expd}}}}_{heat, supermarket, t0, {operate}, heater} = 0$"
      ],
      "text/plain": [
       "<IPython.core.display.Math object>"
      ]
     },
     "metadata": {},
     "output_type": "display_data"
    },
    {
     "data": {
      "text/markdown": [
       "### Mapping Constraint Sets"
      ],
      "text/plain": [
       "<IPython.core.display.Markdown object>"
      ]
     },
     "metadata": {},
     "output_type": "display_data"
    },
    {
     "data": {
      "text/latex": [
       "$\\displaystyle [69]\\text{   }{{{spend}}}_{usd, supermarket, t0} - {{{{spend}}}}_{usd, supermarket, t0, {consume}, biomass} - {{{{spend}}}}_{usd, supermarket, t0, {consume}, gridpower} - {{{{spend}}}}_{usd, supermarket, t0, {consume}, ng} - {{{{spend}}}}_{usd, supermarket, t0, {capacity}, st} - {{{{spend}}}}_{usd, supermarket, t0, {operate}, st} - {{{{spend}}}}_{usd, supermarket, t0, {capacity}, chp} - {{{{spend}}}}_{usd, supermarket, t0, {operate}, chp} - {{{{spend}}}}_{usd, supermarket, t0, {capacity}, pv} - {{{{spend}}}}_{usd, supermarket, t0, {operate}, pv} - {{{{spend}}}}_{usd, supermarket, t0, {capacity}, wf} - {{{{spend}}}}_{usd, supermarket, t0, {operate}, wf} - {{{{spend}}}}_{usd, supermarket, t0, {capacity}, refrigerator} - {{{{spend}}}}_{usd, supermarket, t0, {operate}, refrigerator} - {{{{spend}}}}_{usd, supermarket, t0, {capacity}, led} - {{{{spend}}}}_{usd, supermarket, t0, {operate}, led} - {{{{spend}}}}_{usd, supermarket, t0, {capacity}, heater} - {{{{spend}}}}_{usd, supermarket, t0, {operate}, heater} = 0$"
      ],
      "text/plain": [
       "<IPython.core.display.Math object>"
      ]
     },
     "metadata": {},
     "output_type": "display_data"
    },
    {
     "data": {
      "text/markdown": [
       "###  Function Sets"
      ],
      "text/plain": [
       "<IPython.core.display.Markdown object>"
      ]
     },
     "metadata": {},
     "output_type": "display_data"
    },
    {
     "data": {
      "text/latex": [
       "$\\displaystyle {{spend}}_{usd, supermarket, t0{0}}$"
      ],
      "text/plain": [
       "<IPython.core.display.Math object>"
      ]
     },
     "metadata": {},
     "output_type": "display_data"
    }
   ],
   "source": [
    "m.show(category='Flow')"
   ]
  },
  {
   "cell_type": "code",
   "execution_count": 18,
   "id": "525e9368",
   "metadata": {},
   "outputs": [
    {
     "data": {
      "text/latex": [
       "$\\displaystyle {{{cap}^{P}}}_{st, supermarket, t0{0}}=0.0$"
      ],
      "text/plain": [
       "<IPython.core.display.Math object>"
      ]
     },
     "metadata": {},
     "output_type": "display_data"
    },
    {
     "data": {
      "text/latex": [
       "$\\displaystyle {{{cap}^{P}}}_{chp, supermarket, t0{0}}=800.0$"
      ],
      "text/plain": [
       "<IPython.core.display.Math object>"
      ]
     },
     "metadata": {},
     "output_type": "display_data"
    },
    {
     "data": {
      "text/latex": [
       "$\\displaystyle {{{cap}^{P}}}_{pv, supermarket, t0{0}}=0.0$"
      ],
      "text/plain": [
       "<IPython.core.display.Math object>"
      ]
     },
     "metadata": {},
     "output_type": "display_data"
    },
    {
     "data": {
      "text/latex": [
       "$\\displaystyle {{{cap}^{P}}}_{wf, supermarket, t0{0}}=0.0$"
      ],
      "text/plain": [
       "<IPython.core.display.Math object>"
      ]
     },
     "metadata": {},
     "output_type": "display_data"
    },
    {
     "data": {
      "text/latex": [
       "$\\displaystyle {{{cap}^{P}}}_{grid, supermarket, t0{0}}=100000.0$"
      ],
      "text/plain": [
       "<IPython.core.display.Math object>"
      ]
     },
     "metadata": {},
     "output_type": "display_data"
    },
    {
     "data": {
      "text/latex": [
       "$\\displaystyle {{{cap}^{P}}}_{refrigerator, supermarket, t0{0}}=333.3333333333285$"
      ],
      "text/plain": [
       "<IPython.core.display.Math object>"
      ]
     },
     "metadata": {},
     "output_type": "display_data"
    },
    {
     "data": {
      "text/latex": [
       "$\\displaystyle {{{cap}^{P}}}_{led, supermarket, t0{0}}=3595.2380952453595$"
      ],
      "text/plain": [
       "<IPython.core.display.Math object>"
      ]
     },
     "metadata": {},
     "output_type": "display_data"
    },
    {
     "data": {
      "text/latex": [
       "$\\displaystyle {{{cap}^{P}}}_{heater, supermarket, t0{0}}=2500.0000000046193$"
      ],
      "text/plain": [
       "<IPython.core.display.Math object>"
      ]
     },
     "metadata": {},
     "output_type": "display_data"
    }
   ],
   "source": [
    "m.capacity.sol()"
   ]
  },
  {
   "cell_type": "code",
   "execution_count": 19,
   "id": "436a978a",
   "metadata": {},
   "outputs": [
    {
     "data": {
      "text/latex": [
       "$\\displaystyle {{{rlse}}}_{co2_vent, supermarket, t0{0}}=1799.9856001185253$"
      ],
      "text/plain": [
       "<IPython.core.display.Math object>"
      ]
     },
     "metadata": {},
     "output_type": "display_data"
    },
    {
     "data": {
      "text/latex": [
       "$\\displaystyle {{{rlse}}}_{lighting, supermarket, t0{0}}=2516.6666666717515$"
      ],
      "text/plain": [
       "<IPython.core.display.Math object>"
      ]
     },
     "metadata": {},
     "output_type": "display_data"
    },
    {
     "data": {
      "text/latex": [
       "$\\displaystyle {{{rlse}}}_{refrigeration, supermarket, t0{0}}=999.9999999999854$"
      ],
      "text/plain": [
       "<IPython.core.display.Math object>"
      ]
     },
     "metadata": {},
     "output_type": "display_data"
    },
    {
     "data": {
      "text/latex": [
       "$\\displaystyle {{{rlse}}}_{heating, supermarket, t0{0}}=100.00000000018477$"
      ],
      "text/plain": [
       "<IPython.core.display.Math object>"
      ]
     },
     "metadata": {},
     "output_type": "display_data"
    }
   ],
   "source": [
    "m.release.sol()"
   ]
  },
  {
   "cell_type": "code",
   "execution_count": 20,
   "id": "c69e5cd8",
   "metadata": {},
   "outputs": [
    {
     "data": {
      "text/latex": [
       "$\\displaystyle {{{opr}}}_{st, supermarket, t0{0}}=0.0$"
      ],
      "text/plain": [
       "<IPython.core.display.Math object>"
      ]
     },
     "metadata": {},
     "output_type": "display_data"
    },
    {
     "data": {
      "text/latex": [
       "$\\displaystyle {{{opr}}}_{chp, supermarket, t0{0}}=32.142600002116524$"
      ],
      "text/plain": [
       "<IPython.core.display.Math object>"
      ]
     },
     "metadata": {},
     "output_type": "display_data"
    },
    {
     "data": {
      "text/latex": [
       "$\\displaystyle {{{opr}}}_{pv, supermarket, t0{0}}=0.0$"
      ],
      "text/plain": [
       "<IPython.core.display.Math object>"
      ]
     },
     "metadata": {},
     "output_type": "display_data"
    },
    {
     "data": {
      "text/latex": [
       "$\\displaystyle {{{opr}}}_{wf, supermarket, t0{0}}=0.0$"
      ],
      "text/plain": [
       "<IPython.core.display.Math object>"
      ]
     },
     "metadata": {},
     "output_type": "display_data"
    },
    {
     "data": {
      "text/latex": [
       "$\\displaystyle {{{opr}}}_{refrigerator, supermarket, t0{0}}=333.3333333333285$"
      ],
      "text/plain": [
       "<IPython.core.display.Math object>"
      ]
     },
     "metadata": {},
     "output_type": "display_data"
    },
    {
     "data": {
      "text/latex": [
       "$\\displaystyle {{{opr}}}_{led, supermarket, t0{0}}=3595.2380952453595$"
      ],
      "text/plain": [
       "<IPython.core.display.Math object>"
      ]
     },
     "metadata": {},
     "output_type": "display_data"
    },
    {
     "data": {
      "text/latex": [
       "$\\displaystyle {{{opr}}}_{heater, supermarket, t0{0}}=2500.0000000046193$"
      ],
      "text/plain": [
       "<IPython.core.display.Math object>"
      ]
     },
     "metadata": {},
     "output_type": "display_data"
    },
    {
     "data": {
      "text/latex": [
       "$\\displaystyle {{{opr}}}_{grid, supermarket, t0{0}}=0.0$"
      ],
      "text/plain": [
       "<IPython.core.display.Math object>"
      ]
     },
     "metadata": {},
     "output_type": "display_data"
    }
   ],
   "source": [
    "m.operate.sol()"
   ]
  },
  {
   "cell_type": "markdown",
   "id": "ead41de9",
   "metadata": {},
   "source": [
    "### Optimal Emissions"
   ]
  },
  {
   "cell_type": "code",
   "execution_count": 21,
   "id": "fe4b2e14",
   "metadata": {},
   "outputs": [
    {
     "name": "stdout",
     "output_type": "stream",
     "text": [
      "--- Generating supermarket.mps\n",
      "--- Creating gurobi model for supermarket\n",
      "Warning: row name O0 in column section at line 234 not defined.\n"
     ]
    },
    {
     "name": "stdout",
     "output_type": "stream",
     "text": [
      "Read MPS format model from file supermarket.mps\n"
     ]
    },
    {
     "name": "stdout",
     "output_type": "stream",
     "text": [
      "Reading time = 0.00 seconds\n"
     ]
    },
    {
     "name": "stdout",
     "output_type": "stream",
     "text": [
      "SUPERMARKET: 70 rows, 67 columns, 158 nonzeros\n"
     ]
    },
    {
     "name": "stdout",
     "output_type": "stream",
     "text": [
      "--- Optimizing supermarket using gurobi\n",
      "Gurobi Optimizer version 12.0.3 build v12.0.3rc0 (win64 - Windows 11.0 (26100.2))\n"
     ]
    },
    {
     "name": "stdout",
     "output_type": "stream",
     "text": [
      "\n"
     ]
    },
    {
     "name": "stdout",
     "output_type": "stream",
     "text": [
      "CPU model: 13th Gen Intel(R) Core(TM) i7-13700, instruction set [SSE2|AVX|AVX2]\n"
     ]
    },
    {
     "name": "stdout",
     "output_type": "stream",
     "text": [
      "Thread count: 16 physical cores, 24 logical processors, using up to 24 threads\n"
     ]
    },
    {
     "name": "stdout",
     "output_type": "stream",
     "text": [
      "\n"
     ]
    },
    {
     "name": "stdout",
     "output_type": "stream",
     "text": [
      "Optimize a model with 70 rows, 67 columns and 158 nonzeros\n"
     ]
    },
    {
     "name": "stdout",
     "output_type": "stream",
     "text": [
      "Model fingerprint: 0xd71c9987\n"
     ]
    },
    {
     "name": "stdout",
     "output_type": "stream",
     "text": [
      "Variable types: 63 continuous, 4 integer (4 binary)\n"
     ]
    },
    {
     "name": "stdout",
     "output_type": "stream",
     "text": [
      "Coefficient statistics:\n"
     ]
    },
    {
     "name": "stdout",
     "output_type": "stream",
     "text": [
      "  Matrix range     [4e-02, 1e+06]\n"
     ]
    },
    {
     "name": "stdout",
     "output_type": "stream",
     "text": [
      "  Objective range  [1e+00, 1e+00]\n"
     ]
    },
    {
     "name": "stdout",
     "output_type": "stream",
     "text": [
      "  Bounds range     [1e+00, 1e+00]\n"
     ]
    },
    {
     "name": "stdout",
     "output_type": "stream",
     "text": [
      "  RHS range        [1e+02, 1e+05]\n"
     ]
    },
    {
     "name": "stdout",
     "output_type": "stream",
     "text": [
      "Presolve removed 70 rows and 67 columns\n"
     ]
    },
    {
     "name": "stdout",
     "output_type": "stream",
     "text": [
      "Presolve time: 0.00s\n"
     ]
    },
    {
     "name": "stdout",
     "output_type": "stream",
     "text": [
      "Presolve: All rows and columns removed\n"
     ]
    },
    {
     "name": "stdout",
     "output_type": "stream",
     "text": [
      "\n"
     ]
    },
    {
     "name": "stdout",
     "output_type": "stream",
     "text": [
      "Explored 0 nodes (0 simplex iterations) in 0.00 seconds (0.00 work units)\n"
     ]
    },
    {
     "name": "stdout",
     "output_type": "stream",
     "text": [
      "Thread count was 1 (of 24 available processors)\n"
     ]
    },
    {
     "name": "stdout",
     "output_type": "stream",
     "text": [
      "\n"
     ]
    },
    {
     "name": "stdout",
     "output_type": "stream",
     "text": [
      "Solution count 1: 1799.99 \n"
     ]
    },
    {
     "name": "stdout",
     "output_type": "stream",
     "text": [
      "\n"
     ]
    },
    {
     "name": "stdout",
     "output_type": "stream",
     "text": [
      "Optimal solution found (tolerance 1.00e-04)\n"
     ]
    },
    {
     "name": "stdout",
     "output_type": "stream",
     "text": [
      "Best objective 1.799985600115e+03, best bound 1.799985600115e+03, gap 0.0000%\n"
     ]
    },
    {
     "name": "stdout",
     "output_type": "stream",
     "text": [
      "--- Solution found. Use .sol() to display it\n",
      "--- Creating Solution object, check.solution\n"
     ]
    }
   ],
   "source": [
    "m.co2_vent.release.opt()"
   ]
  },
  {
   "attachments": {},
   "cell_type": "markdown",
   "id": "a3431d9e",
   "metadata": {},
   "source": [
    "### Optimal Energy Efficiency "
   ]
  },
  {
   "attachments": {},
   "cell_type": "markdown",
   "id": "25544b58",
   "metadata": {},
   "source": [
    "In the formulation, the objective can be skipped and a bespoke objective can be introduced as shown below"
   ]
  },
  {
   "cell_type": "code",
   "execution_count": 22,
   "id": "16d17f2f",
   "metadata": {},
   "outputs": [
    {
     "name": "stdout",
     "output_type": "stream",
     "text": [
      "--- Generating supermarket.mps\n",
      "--- Creating gurobi model for supermarket\n",
      "Warning: row name O1 in column section at line 91 not defined.\n"
     ]
    },
    {
     "name": "stdout",
     "output_type": "stream",
     "text": [
      "Warning: row name O0 in column section at line 239 not defined.\n"
     ]
    },
    {
     "name": "stdout",
     "output_type": "stream",
     "text": [
      "Read MPS format model from file supermarket.mps\n"
     ]
    },
    {
     "name": "stdout",
     "output_type": "stream",
     "text": [
      "Reading time = 0.00 seconds\n"
     ]
    },
    {
     "name": "stdout",
     "output_type": "stream",
     "text": [
      "SUPERMARKET: 70 rows, 67 columns, 158 nonzeros\n"
     ]
    },
    {
     "name": "stdout",
     "output_type": "stream",
     "text": [
      "--- Optimizing supermarket using gurobi\n",
      "Gurobi Optimizer version 12.0.3 build v12.0.3rc0 (win64 - Windows 11.0 (26100.2))\n"
     ]
    },
    {
     "name": "stdout",
     "output_type": "stream",
     "text": [
      "\n"
     ]
    },
    {
     "name": "stdout",
     "output_type": "stream",
     "text": [
      "CPU model: 13th Gen Intel(R) Core(TM) i7-13700, instruction set [SSE2|AVX|AVX2]\n"
     ]
    },
    {
     "name": "stdout",
     "output_type": "stream",
     "text": [
      "Thread count: 16 physical cores, 24 logical processors, using up to 24 threads\n"
     ]
    },
    {
     "name": "stdout",
     "output_type": "stream",
     "text": [
      "\n"
     ]
    },
    {
     "name": "stdout",
     "output_type": "stream",
     "text": [
      "Optimize a model with 70 rows, 67 columns and 158 nonzeros\n"
     ]
    },
    {
     "name": "stdout",
     "output_type": "stream",
     "text": [
      "Model fingerprint: 0x5ed9af72\n"
     ]
    },
    {
     "name": "stdout",
     "output_type": "stream",
     "text": [
      "Variable types: 63 continuous, 4 integer (4 binary)\n"
     ]
    },
    {
     "name": "stdout",
     "output_type": "stream",
     "text": [
      "Coefficient statistics:\n"
     ]
    },
    {
     "name": "stdout",
     "output_type": "stream",
     "text": [
      "  Matrix range     [4e-02, 1e+06]\n"
     ]
    },
    {
     "name": "stdout",
     "output_type": "stream",
     "text": [
      "  Objective range  [1e+00, 1e+00]\n"
     ]
    },
    {
     "name": "stdout",
     "output_type": "stream",
     "text": [
      "  Bounds range     [1e+00, 1e+00]\n"
     ]
    },
    {
     "name": "stdout",
     "output_type": "stream",
     "text": [
      "  RHS range        [1e+02, 1e+05]\n"
     ]
    },
    {
     "name": "stdout",
     "output_type": "stream",
     "text": [
      "Presolve removed 70 rows and 67 columns\n"
     ]
    },
    {
     "name": "stdout",
     "output_type": "stream",
     "text": [
      "Presolve time: 0.00s\n"
     ]
    },
    {
     "name": "stdout",
     "output_type": "stream",
     "text": [
      "Presolve: All rows and columns removed\n"
     ]
    },
    {
     "name": "stdout",
     "output_type": "stream",
     "text": [
      "\n"
     ]
    },
    {
     "name": "stdout",
     "output_type": "stream",
     "text": [
      "Explored 0 nodes (0 simplex iterations) in 0.00 seconds (0.00 work units)\n"
     ]
    },
    {
     "name": "stdout",
     "output_type": "stream",
     "text": [
      "Thread count was 1 (of 24 available processors)\n"
     ]
    },
    {
     "name": "stdout",
     "output_type": "stream",
     "text": [
      "\n"
     ]
    },
    {
     "name": "stdout",
     "output_type": "stream",
     "text": [
      "Solution count 1: 32.1426 \n"
     ]
    },
    {
     "name": "stdout",
     "output_type": "stream",
     "text": [
      "\n"
     ]
    },
    {
     "name": "stdout",
     "output_type": "stream",
     "text": [
      "Optimal solution found (tolerance 1.00e-04)\n"
     ]
    },
    {
     "name": "stdout",
     "output_type": "stream",
     "text": [
      "Best objective 3.214260000206e+01, best bound 3.214260000206e+01, gap 0.0000%\n"
     ]
    },
    {
     "name": "stdout",
     "output_type": "stream",
     "text": [
      "--- Solution found. Use .sol() to display it\n",
      "--- Creating Solution object, check.solution\n"
     ]
    }
   ],
   "source": [
    "m._.lb(sum(m._.consume))"
   ]
  },
  {
   "cell_type": "code",
   "execution_count": 23,
   "id": "ae40f045",
   "metadata": {},
   "outputs": [
    {
     "data": {
      "text/plain": [
       "{0: Solution(name='supermarket_solution_0'),\n",
       " 1: Solution(name='supermarket_solution_1'),\n",
       " 2: Solution(name='supermarket_solution_2')}"
      ]
     },
     "execution_count": 23,
     "metadata": {},
     "output_type": "execute_result"
    }
   ],
   "source": [
    "m.solution"
   ]
  },
  {
   "cell_type": "code",
   "execution_count": null,
   "id": "59dc1438",
   "metadata": {},
   "outputs": [],
   "source": []
  }
 ],
 "metadata": {
  "kernelspec": {
   "display_name": ".venv",
   "language": "python",
   "name": "python3"
  },
  "language_info": {
   "codemirror_mode": {
    "name": "ipython",
    "version": 3
   },
   "file_extension": ".py",
   "mimetype": "text/x-python",
   "name": "python",
   "nbconvert_exporter": "python",
   "pygments_lexer": "ipython3",
   "version": "3.13.7"
  }
 },
 "nbformat": 4,
 "nbformat_minor": 5
}