{
 "cells": [
  {
   "cell_type": "markdown",
   "id": "69e19c5b",
   "metadata": {},
   "source": [
    "# One Location, Multiple Temporal Scales, Multiple Operations, Mixed Integer Linear Programming Example\n",
    "\n",
    "## [Example 2]\n",
    "\n",
    "This is a continuation of 'One Location, One Temporal Scale, One Operation, Linear Programming Example' [Example 1]. Refer Example 1 to learn the basics on how Energia models processes. \n",
    "\n",
    "In this example, we add another Process [Solar PV] and Storage [Li-ion Battery]. Technology choice is modeled using binaries. Moreover, the model is multiscale as the operational capacities are decision variables. "
   ]
  },
  {
   "cell_type": "markdown",
   "id": "bcbca2b0",
   "metadata": {},
   "source": [
    "## From Example 1"
   ]
  },
  {
   "cell_type": "code",
   "execution_count": 1,
   "id": "81ad074e",
   "metadata": {},
   "outputs": [],
   "source": [
    "from energia import *\n",
    "\n",
    "m = Model('example2')\n",
    "m.q = Periods()\n",
    "m.y = 4 * m.q\n",
    "m.usd = Currency()"
   ]
  },
  {
   "cell_type": "markdown",
   "id": "a472f7e5",
   "metadata": {},
   "source": [
    "## Resources"
   ]
  },
  {
   "cell_type": "markdown",
   "id": "5ebced0e",
   "metadata": {},
   "source": [
    "### Conveniently declaring components\n",
    "\n",
    "Use m.declare(\\<Object Type\\>, \\<list of names\\>) to declare a large number of objects in one step."
   ]
  },
  {
   "cell_type": "code",
   "execution_count": 2,
   "id": "e9996b8f",
   "metadata": {},
   "outputs": [],
   "source": [
    "m.declare(Resource, ['power', 'wind', 'solar'])"
   ]
  },
  {
   "cell_type": "markdown",
   "id": "d43aca06",
   "metadata": {},
   "source": [
    "### Set bounds on Resource flows\n",
    "\n",
    "Unlike wind which has bound on the total consumption, we set a daily limit on solar energy. The same bound is repeated in each quarter. The following constraints are written.\n",
    "\n",
    "$\\mathbf{cons}_{solar, network, quarter_0} \\leq 100$\n",
    "\n",
    "$\\mathbf{cons}_{solar, network, quarter_1} \\leq 100$\n",
    "\n",
    "$\\mathbf{cons}_{solar, network, quarter_2} \\leq 100$\n",
    "\n",
    "$\\mathbf{cons}_{solar, network, quarter_3} \\leq 100$"
   ]
  },
  {
   "cell_type": "code",
   "execution_count": 3,
   "id": "45ebb26f",
   "metadata": {},
   "outputs": [
    {
     "name": "stdout",
     "output_type": "stream",
     "text": [
      "--- General Resource Balance for solar in (l, q): initializing constraint, adding consume(solar, l, q)\n",
      "    Completed in 0.0001380443572998047 seconds\n",
      "--- Binding consume in domain (solar, l, q)\n",
      "    Completed in 7.486343383789062e-05 seconds\n",
      "--- General Resource Balance for wind in (l, y): initializing constraint, adding consume(wind, l, y)\n",
      "    Completed in 6.175041198730469e-05 seconds\n",
      "--- Binding consume in domain (wind, l, y)\n",
      "    Completed in 4.1484832763671875e-05 seconds\n",
      "--- General Resource Balance for power in (l, q): initializing constraint, adding release(power, l, q)\n",
      "    Completed in 7.843971252441406e-05 seconds\n",
      "--- Binding release in domain (power, l, q)\n",
      "    Completed in 0.00010895729064941406 seconds\n"
     ]
    }
   ],
   "source": [
    "m.solar.consume(m.q) <= 100\n",
    "m.wind.consume <= 400\n",
    "m.power.release.prep(180) >= [0.6, 0.7, 0.8, 0.3]"
   ]
  },
  {
   "cell_type": "markdown",
   "id": "89269641",
   "metadata": {},
   "source": [
    "## Operations "
   ]
  },
  {
   "cell_type": "markdown",
   "id": "e21925d4",
   "metadata": {},
   "source": [
    "### Capacity as a variable \n",
    "\n",
    "Here we want the optimization problem to determine the optimal capacity. Moreover, we set binaries to avoid the lower bound being adhered to if the process is not set up. \n",
    "\n",
    "If the bounds are meant to be compulsory limits, skip the .x "
   ]
  },
  {
   "cell_type": "code",
   "execution_count": 4,
   "id": "77f192a1",
   "metadata": {},
   "outputs": [
    {
     "name": "stdout",
     "output_type": "stream",
     "text": [
      "--- Binding capacity in domain (wf, l, y)\n",
      "    Completed in 0.00013113021850585938 seconds\n",
      "--- Binding capacity in domain (wf, l, y)\n",
      "    Completed in 0.00010228157043457031 seconds\n"
     ]
    },
    {
     "data": {
      "text/latex": [
       "$\\displaystyle [6]\\text{   }{{{cap}^{P}}}_{wf, l, y} - 100 \\cdot {{{\\breve{{cap}^{P}}}}}_{wf, l, y} \\leq 0$"
      ],
      "text/plain": [
       "<IPython.core.display.Math object>"
      ]
     },
     "metadata": {},
     "output_type": "display_data"
    },
    {
     "data": {
      "text/latex": [
       "$\\displaystyle [7]\\text{   }10 \\cdot {{{\\breve{{cap}^{P}}}}}_{wf, l, y} - {{{cap}^{P}}}_{wf, l, y} \\leq 0$"
      ],
      "text/plain": [
       "<IPython.core.display.Math object>"
      ]
     },
     "metadata": {},
     "output_type": "display_data"
    }
   ],
   "source": [
    "m.wf = Process()\n",
    "m.wf(m.power) == -1 * m.wind\n",
    "m.wf.capacity.x <= 100\n",
    "m.wf.capacity.x >= 10\n",
    "m.capacity.show()"
   ]
  },
  {
   "cell_type": "markdown",
   "id": "30670b61",
   "metadata": {},
   "source": [
    "Unlike in Example 1, where the capacity was know, capacity is a variable here. \n",
    "\n",
    "Moreover, the expenditure associated with operating and capacitating are different"
   ]
  },
  {
   "cell_type": "code",
   "execution_count": 5,
   "id": "a45c766c",
   "metadata": {},
   "outputs": [
    {
     "name": "stdout",
     "output_type": "stream",
     "text": [
      "--- Binding operate in domain (wf, l, q)\n",
      "    Completed in 0.00017380714416503906 seconds\n",
      "--- Mapping operate across time from (wf, l, q) to (wf, l, y)\n",
      "--- Creating map to (wf, l, y). Mapping operate: from (wf, l, q) to (wf, l, y)\n",
      "    Completed in 5.6743621826171875e-05 seconds\n"
     ]
    },
    {
     "data": {
      "text/latex": [
       "$\\displaystyle [20]\\text{   }{{{opr}}}_{wf, l, q{0}} - 1.0 \\cdot {{{cap}^{P}}}_{wf, l, y{0}} \\leq 0$"
      ],
      "text/plain": [
       "<IPython.core.display.Math object>"
      ]
     },
     "metadata": {},
     "output_type": "display_data"
    },
    {
     "data": {
      "text/latex": [
       "$\\displaystyle [21]\\text{   }{{{opr}}}_{wf, l, q{1}} - 0.888888888888889 \\cdot {{{cap}^{P}}}_{wf, l, y{0}} \\leq 0$"
      ],
      "text/plain": [
       "<IPython.core.display.Math object>"
      ]
     },
     "metadata": {},
     "output_type": "display_data"
    },
    {
     "data": {
      "text/latex": [
       "$\\displaystyle [22]\\text{   }{{{opr}}}_{wf, l, q{2}} - 0.5555555555555556 \\cdot {{{cap}^{P}}}_{wf, l, y{0}} \\leq 0$"
      ],
      "text/plain": [
       "<IPython.core.display.Math object>"
      ]
     },
     "metadata": {},
     "output_type": "display_data"
    },
    {
     "data": {
      "text/latex": [
       "$\\displaystyle [23]\\text{   }{{{opr}}}_{wf, l, q{3}} - 0.7777777777777777 \\cdot {{{cap}^{P}}}_{wf, l, y{0}} \\leq 0$"
      ],
      "text/plain": [
       "<IPython.core.display.Math object>"
      ]
     },
     "metadata": {},
     "output_type": "display_data"
    },
    {
     "data": {
      "text/latex": [
       "$\\displaystyle [25]\\text{   }{{{opr}}}_{wf, l, y{0}} - \\sum_{i \\in q} {{{opr}}}_{wf, l, i} = 0$"
      ],
      "text/plain": [
       "<IPython.core.display.Math object>"
      ]
     },
     "metadata": {},
     "output_type": "display_data"
    },
    {
     "data": {
      "text/latex": [
       "$\\displaystyle [26]\\text{   }{{spend}}_{usd, l, y{0}, operate, wf} - 49.0 \\cdot {{{opr}}}_{wf, l, y{0}} = 0$"
      ],
      "text/plain": [
       "<IPython.core.display.Math object>"
      ]
     },
     "metadata": {},
     "output_type": "display_data"
    }
   ],
   "source": [
    "m.wf.operate.prep(norm=True) <= [0.9, 0.8, 0.5, 0.7]\n",
    "m.wf.capacity[m.usd.spend] == 990637 + 3354\n",
    "m.wf.operate[m.usd.spend] == 49\n",
    "m.operate.show(True)"
   ]
  },
  {
   "cell_type": "code",
   "execution_count": 6,
   "id": "11fa2491",
   "metadata": {},
   "outputs": [
    {
     "name": "stdout",
     "output_type": "stream",
     "text": [
      "--- Binding capacity in domain (pv, l, y)\n",
      "    Completed in 0.00012731552124023438 seconds\n",
      "--- Binding capacity in domain (pv, l, y)\n",
      "    Completed in 9.822845458984375e-05 seconds\n",
      "--- Binding operate in domain (pv, l, q)\n",
      "    Completed in 0.0017108917236328125 seconds\n",
      "--- Mapping operate across time from (pv, l, q) to (pv, l, y)\n",
      "--- Creating map to (pv, l, y). Mapping operate: from (pv, l, q) to (pv, l, y)\n",
      "    Completed in 5.698204040527344e-05 seconds\n"
     ]
    }
   ],
   "source": [
    "m.pv = Process()\n",
    "m.pv(m.power) == -1 * m.solar\n",
    "m.pv.capacity.x <= 100\n",
    "m.pv.capacity.x >= 10\n",
    "\n",
    "m.pv.operate.prep(norm=True) <= [0.6, 0.8, 0.9, 0.7]\n",
    "m.pv.capacity[m.usd.spend] == 567000 + 872046\n",
    "m.pv.operate[m.usd.spend] == 90000"
   ]
  },
  {
   "cell_type": "markdown",
   "id": "66c1382e",
   "metadata": {},
   "source": [
    "### Storage Operation\n",
    "\n",
    "energia now allows storing to require the use of other resources, example power for hydrogen cryogenic storage. \n",
    "\n",
    "Provide an equation similar to Process, in this case the basis is the stored resource \n",
    "If no other resource is provided, it is assumed to be the charging/discharging efficiency\n",
    "\n",
    "Note that the following are created internally: \n",
    "1. auxilary resource  with name resource.stored \n",
    "2. charging and discharging processes as storage.charge and storage.discharge \n",
    "\n",
    "The parameters for each of these can be set individually, thus allowing for a wide range of modeling approaches "
   ]
  },
  {
   "cell_type": "code",
   "execution_count": 7,
   "id": "443ea12a",
   "metadata": {},
   "outputs": [
    {
     "name": "stdout",
     "output_type": "stream",
     "text": [
      "--- Binding invcapacity in domain (power.lii, l, y)\n",
      "    Completed in 0.00012254714965820312 seconds\n",
      "--- Binding invcapacity in domain (power.lii, l, y)\n",
      "    Completed in 9.846687316894531e-05 seconds\n",
      "--- General Resource Balance for power.lii in (l, y): initializing constraint, adding inventory(power.lii, l, y)\n",
      "--- Binding capacity in domain (lii.charge, l, y)\n",
      "    Completed in 3.910064697265625e-05 seconds\n",
      "--- Binding capacity in domain (lii.discharge, l, y)\n",
      "    Completed in 5.269050598144531e-05 seconds\n"
     ]
    }
   ],
   "source": [
    "m.lii = Storage()\n",
    "\n",
    "m.lii(m.power) == 0.9\n",
    "m.lii.capacity.x <= 100\n",
    "m.lii.capacity.x >= 10\n",
    "\n",
    "# m.lii.capacity >= 10\n",
    "m.lii.capacity[m.usd.spend] == 1302182 + 41432\n",
    "\n",
    "m.lii.inventory[m.usd.spend] == 2000\n",
    "m.lii.charge.capacity <= 100\n",
    "m.lii.discharge.capacity <= 100"
   ]
  },
  {
   "cell_type": "markdown",
   "id": "e68b8abc",
   "metadata": {},
   "source": [
    "## Locating Operations\n",
    "\n",
    "Operations can be located as \n",
    "\n",
    "operation.locate(\\<list of locations\\>)\n",
    "\n",
    "or \n",
    "\n",
    "m.location.operations(\\<list of operations\\>)\n",
    "\n",
    "They both do the same thing "
   ]
  },
  {
   "cell_type": "code",
   "execution_count": 8,
   "id": "65247cfa",
   "metadata": {},
   "outputs": [
    {
     "name": "stdout",
     "output_type": "stream",
     "text": [
      "--- General Resource Balance for power in (l, q): adding produce(power, l, q, operate, pv)\n",
      "    Completed in 9.918212890625e-05 seconds\n",
      "--- General Resource Balance for solar in (l, q): adding expend(solar, l, q, operate, pv)\n",
      "    Completed in 0.0002110004425048828 seconds\n",
      "--- General Resource Balance for power in (l, q): adding produce(power, l, q, operate, wf)\n",
      "    Completed in 9.441375732421875e-05 seconds\n",
      "--- General Resource Balance for wind in (l, y): adding expend(wind, l, y, operate, wf)\n",
      "    Completed in 6.961822509765625e-05 seconds\n",
      "--- Assuming  power.lii inventory capacity is unbounded in (l, y)\n",
      "--- Assuming inventory of power.lii is bound by inventory capacity in (l, y)\n",
      "--- Assuming inventory of power.lii is bound by inventory capacity in (l, q)\n",
      "--- Mapping inventory across time from (power.lii, l, q) to (power.lii, l, y)\n",
      "--- Creating map to (power.lii, l, y). Mapping inventory: from (power.lii, l, q) to (power.lii, l, y)\n",
      "    Completed in 5.435943603515625e-05 seconds\n",
      "--- General Resource Balance for power.lii in (l, q): initializing constraint, adding inventory(power.lii, l, q)\n",
      "    Completed in 0.00014781951904296875 seconds\n",
      "--- Binding inventory in domain (power.lii, l, q)\n",
      "    Completed in 8.153915405273438e-05 seconds\n",
      "--- Assuming operation of lii.charge is bound by capacity in (l, y)\n",
      "--- Binding operate in domain (lii.charge, l, y)\n",
      "    Completed in 5.936622619628906e-05 seconds\n",
      "--- General Resource Balance for power.lii in (l, q): adding produce(power.lii, l, q, operate, lii.charge)\n",
      "    Completed in 8.630752563476562e-05 seconds\n",
      "--- Mapping operate across time from (lii.charge, l, q) to (lii.charge, l, y)\n",
      "--- Creating map to (lii.charge, l, y). Mapping operate: from (lii.charge, l, q) to (lii.charge, l, y)\n",
      "    Completed in 5.2928924560546875e-05 seconds\n",
      "--- General Resource Balance for power in (l, q): adding expend(power, l, q, operate, lii.charge)\n",
      "    Completed in 9.012222290039062e-05 seconds\n",
      "--- Assuming operation of lii.discharge is bound by capacity in (l, y)\n",
      "--- Binding operate in domain (lii.discharge, l, y)\n",
      "    Completed in 6.365776062011719e-05 seconds\n",
      "--- General Resource Balance for power in (l, q): adding produce(power, l, q, operate, lii.discharge)\n",
      "    Completed in 8.654594421386719e-05 seconds\n",
      "--- Mapping operate across time from (lii.discharge, l, q) to (lii.discharge, l, y)\n",
      "--- Creating map to (lii.discharge, l, y). Mapping operate: from (lii.discharge, l, q) to (lii.discharge, l, y)\n",
      "    Completed in 5.1021575927734375e-05 seconds\n",
      "--- General Resource Balance for power.lii in (l, q): adding expend(power.lii, l, q, operate, lii.discharge)\n",
      "    Completed in 9.179115295410156e-05 seconds\n"
     ]
    }
   ],
   "source": [
    "m.pv.locate(m.network)\n",
    "m.network.locate(m.wf, m.lii)"
   ]
  },
  {
   "cell_type": "markdown",
   "id": "85f87873",
   "metadata": {},
   "source": [
    "## Inventory Balance\n",
    "\n",
    "Inventory is passed on from one time period (t - 1) to the next (t) and hence features in the general resource balance for resource.stored "
   ]
  },
  {
   "cell_type": "code",
   "execution_count": 9,
   "id": "a896088f",
   "metadata": {},
   "outputs": [
    {
     "data": {
      "text/markdown": [
       "# Mathematical Program for example2"
      ],
      "text/plain": [
       "<IPython.core.display.Markdown object>"
      ]
     },
     "metadata": {},
     "output_type": "display_data"
    },
    {
     "data": {
      "text/markdown": [
       "## Index Sets"
      ],
      "text/plain": [
       "<IPython.core.display.Markdown object>"
      ]
     },
     "metadata": {},
     "output_type": "display_data"
    },
    {
     "data": {
      "text/latex": [
       "$\\displaystyle spaces = \\{ l \\}$"
      ],
      "text/plain": [
       "<IPython.core.display.Math object>"
      ]
     },
     "metadata": {},
     "output_type": "display_data"
    },
    {
     "data": {
      "text/latex": [
       "$\\displaystyle currencies = \\{ usd \\}$"
      ],
      "text/plain": [
       "<IPython.core.display.Math object>"
      ]
     },
     "metadata": {},
     "output_type": "display_data"
    },
    {
     "data": {
      "text/latex": [
       "$\\displaystyle resources = \\{ power, wind, solar, power.lii \\}$"
      ],
      "text/plain": [
       "<IPython.core.display.Math object>"
      ]
     },
     "metadata": {},
     "output_type": "display_data"
    },
    {
     "data": {
      "text/latex": [
       "$\\displaystyle processes = \\{ wf, pv, lii.charge, lii.discharge \\}$"
      ],
      "text/plain": [
       "<IPython.core.display.Math object>"
      ]
     },
     "metadata": {},
     "output_type": "display_data"
    },
    {
     "data": {
      "text/latex": [
       "$\\displaystyle storages = \\{ lii \\}$"
      ],
      "text/plain": [
       "<IPython.core.display.Math object>"
      ]
     },
     "metadata": {},
     "output_type": "display_data"
    },
    {
     "data": {
      "text/latex": [
       "$\\displaystyle q = \\{ {q_{0}}, {q_{1}}, {q_{2}}, {q_{3}} \\}$"
      ],
      "text/plain": [
       "<IPython.core.display.Math object>"
      ]
     },
     "metadata": {},
     "output_type": "display_data"
    },
    {
     "data": {
      "text/latex": [
       "$\\displaystyle y = \\{ {y_{0}} \\}$"
      ],
      "text/plain": [
       "<IPython.core.display.Math object>"
      ]
     },
     "metadata": {},
     "output_type": "display_data"
    },
    {
     "data": {
      "text/markdown": [
       "## s.t."
      ],
      "text/plain": [
       "<IPython.core.display.Markdown object>"
      ]
     },
     "metadata": {},
     "output_type": "display_data"
    },
    {
     "data": {
      "text/markdown": [
       "### Bound Constraints"
      ],
      "text/plain": [
       "<IPython.core.display.Markdown object>"
      ]
     },
     "metadata": {},
     "output_type": "display_data"
    },
    {
     "data": {
      "text/latex": [
       "$\\displaystyle [4]\\text{   }{{{cons}}}_{solar, l, q{0}} - 100.0 \\leq 0$"
      ],
      "text/plain": [
       "<IPython.core.display.Math object>"
      ]
     },
     "metadata": {},
     "output_type": "display_data"
    },
    {
     "data": {
      "text/latex": [
       "$\\displaystyle [5]\\text{   }{{{cons}}}_{solar, l, q{1}} - 100.0 \\leq 0$"
      ],
      "text/plain": [
       "<IPython.core.display.Math object>"
      ]
     },
     "metadata": {},
     "output_type": "display_data"
    },
    {
     "data": {
      "text/latex": [
       "$\\displaystyle [6]\\text{   }{{{cons}}}_{solar, l, q{2}} - 100.0 \\leq 0$"
      ],
      "text/plain": [
       "<IPython.core.display.Math object>"
      ]
     },
     "metadata": {},
     "output_type": "display_data"
    },
    {
     "data": {
      "text/latex": [
       "$\\displaystyle [7]\\text{   }{{{cons}}}_{solar, l, q{3}} - 100.0 \\leq 0$"
      ],
      "text/plain": [
       "<IPython.core.display.Math object>"
      ]
     },
     "metadata": {},
     "output_type": "display_data"
    },
    {
     "data": {
      "text/latex": [
       "$\\displaystyle [9]\\text{   }{{{cons}}}_{wind, l, y{0}} - 400.0 \\leq 0$"
      ],
      "text/plain": [
       "<IPython.core.display.Math object>"
      ]
     },
     "metadata": {},
     "output_type": "display_data"
    },
    {
     "data": {
      "text/latex": [
       "$\\displaystyle [14]\\text{   }-{{{rlse}}}_{power, l, q{0}} + 134.99999999999997 \\leq 0$"
      ],
      "text/plain": [
       "<IPython.core.display.Math object>"
      ]
     },
     "metadata": {},
     "output_type": "display_data"
    },
    {
     "data": {
      "text/latex": [
       "$\\displaystyle [15]\\text{   }-{{{rlse}}}_{power, l, q{1}} + 157.49999999999997 \\leq 0$"
      ],
      "text/plain": [
       "<IPython.core.display.Math object>"
      ]
     },
     "metadata": {},
     "output_type": "display_data"
    },
    {
     "data": {
      "text/latex": [
       "$\\displaystyle [16]\\text{   }-{{{rlse}}}_{power, l, q{2}} + 180.0 \\leq 0$"
      ],
      "text/plain": [
       "<IPython.core.display.Math object>"
      ]
     },
     "metadata": {},
     "output_type": "display_data"
    },
    {
     "data": {
      "text/latex": [
       "$\\displaystyle [17]\\text{   }-{{{rlse}}}_{power, l, q{3}} + 67.49999999999999 \\leq 0$"
      ],
      "text/plain": [
       "<IPython.core.display.Math object>"
      ]
     },
     "metadata": {},
     "output_type": "display_data"
    },
    {
     "data": {
      "text/latex": [
       "$\\displaystyle [18]\\text{   }{{{cap}^{P}}}_{wf, l, y{0}} - 100.0 \\cdot {{{\\breve{{cap}^{P}}}}}_{wf, l, y{0}} \\leq 0$"
      ],
      "text/plain": [
       "<IPython.core.display.Math object>"
      ]
     },
     "metadata": {},
     "output_type": "display_data"
    },
    {
     "data": {
      "text/latex": [
       "$\\displaystyle [19]\\text{   }10.0 \\cdot {{{\\breve{{cap}^{P}}}}}_{wf, l, y{0}} - {{{cap}^{P}}}_{wf, l, y{0}} \\leq 0$"
      ],
      "text/plain": [
       "<IPython.core.display.Math object>"
      ]
     },
     "metadata": {},
     "output_type": "display_data"
    },
    {
     "data": {
      "text/latex": [
       "$\\displaystyle [20]\\text{   }{{{opr}}}_{wf, l, q{0}} - 1.0 \\cdot {{{cap}^{P}}}_{wf, l, y{0}} \\leq 0$"
      ],
      "text/plain": [
       "<IPython.core.display.Math object>"
      ]
     },
     "metadata": {},
     "output_type": "display_data"
    },
    {
     "data": {
      "text/latex": [
       "$\\displaystyle [21]\\text{   }{{{opr}}}_{wf, l, q{1}} - 0.888888888888889 \\cdot {{{cap}^{P}}}_{wf, l, y{0}} \\leq 0$"
      ],
      "text/plain": [
       "<IPython.core.display.Math object>"
      ]
     },
     "metadata": {},
     "output_type": "display_data"
    },
    {
     "data": {
      "text/latex": [
       "$\\displaystyle [22]\\text{   }{{{opr}}}_{wf, l, q{2}} - 0.5555555555555556 \\cdot {{{cap}^{P}}}_{wf, l, y{0}} \\leq 0$"
      ],
      "text/plain": [
       "<IPython.core.display.Math object>"
      ]
     },
     "metadata": {},
     "output_type": "display_data"
    },
    {
     "data": {
      "text/latex": [
       "$\\displaystyle [23]\\text{   }{{{opr}}}_{wf, l, q{3}} - 0.7777777777777777 \\cdot {{{cap}^{P}}}_{wf, l, y{0}} \\leq 0$"
      ],
      "text/plain": [
       "<IPython.core.display.Math object>"
      ]
     },
     "metadata": {},
     "output_type": "display_data"
    },
    {
     "data": {
      "text/latex": [
       "$\\displaystyle [27]\\text{   }{{{cap}^{P}}}_{pv, l, y{0}} - 100.0 \\cdot {{{\\breve{{cap}^{P}}}}}_{pv, l, y{0}} \\leq 0$"
      ],
      "text/plain": [
       "<IPython.core.display.Math object>"
      ]
     },
     "metadata": {},
     "output_type": "display_data"
    },
    {
     "data": {
      "text/latex": [
       "$\\displaystyle [28]\\text{   }10.0 \\cdot {{{\\breve{{cap}^{P}}}}}_{pv, l, y{0}} - {{{cap}^{P}}}_{pv, l, y{0}} \\leq 0$"
      ],
      "text/plain": [
       "<IPython.core.display.Math object>"
      ]
     },
     "metadata": {},
     "output_type": "display_data"
    },
    {
     "data": {
      "text/latex": [
       "$\\displaystyle [29]\\text{   }{{{opr}}}_{pv, l, q{0}} - 0.6666666666666666 \\cdot {{{cap}^{P}}}_{pv, l, y{0}} \\leq 0$"
      ],
      "text/plain": [
       "<IPython.core.display.Math object>"
      ]
     },
     "metadata": {},
     "output_type": "display_data"
    },
    {
     "data": {
      "text/latex": [
       "$\\displaystyle [30]\\text{   }{{{opr}}}_{pv, l, q{1}} - 0.888888888888889 \\cdot {{{cap}^{P}}}_{pv, l, y{0}} \\leq 0$"
      ],
      "text/plain": [
       "<IPython.core.display.Math object>"
      ]
     },
     "metadata": {},
     "output_type": "display_data"
    },
    {
     "data": {
      "text/latex": [
       "$\\displaystyle [31]\\text{   }{{{opr}}}_{pv, l, q{2}} - 1.0 \\cdot {{{cap}^{P}}}_{pv, l, y{0}} \\leq 0$"
      ],
      "text/plain": [
       "<IPython.core.display.Math object>"
      ]
     },
     "metadata": {},
     "output_type": "display_data"
    },
    {
     "data": {
      "text/latex": [
       "$\\displaystyle [32]\\text{   }{{{opr}}}_{pv, l, q{3}} - 0.7777777777777777 \\cdot {{{cap}^{P}}}_{pv, l, y{0}} \\leq 0$"
      ],
      "text/plain": [
       "<IPython.core.display.Math object>"
      ]
     },
     "metadata": {},
     "output_type": "display_data"
    },
    {
     "data": {
      "text/latex": [
       "$\\displaystyle [36]\\text{   }{{{cap}^{S}}}_{power.lii, l, y{0}} - 100.0 \\cdot {{{\\breve{{cap}^{S}}}}}_{power.lii, l, y{0}} \\leq 0$"
      ],
      "text/plain": [
       "<IPython.core.display.Math object>"
      ]
     },
     "metadata": {},
     "output_type": "display_data"
    },
    {
     "data": {
      "text/latex": [
       "$\\displaystyle [37]\\text{   }10.0 \\cdot {{{\\breve{{cap}^{S}}}}}_{power.lii, l, y{0}} - {{{cap}^{S}}}_{power.lii, l, y{0}} \\leq 0$"
      ],
      "text/plain": [
       "<IPython.core.display.Math object>"
      ]
     },
     "metadata": {},
     "output_type": "display_data"
    },
    {
     "data": {
      "text/latex": [
       "$\\displaystyle [40]\\text{   }{{{cap}^{P}}}_{lii.charge, l, y{0}} - 100.0 \\leq 0$"
      ],
      "text/plain": [
       "<IPython.core.display.Math object>"
      ]
     },
     "metadata": {},
     "output_type": "display_data"
    },
    {
     "data": {
      "text/latex": [
       "$\\displaystyle [41]\\text{   }{{{cap}^{P}}}_{lii.discharge, l, y{0}} - 100.0 \\leq 0$"
      ],
      "text/plain": [
       "<IPython.core.display.Math object>"
      ]
     },
     "metadata": {},
     "output_type": "display_data"
    },
    {
     "data": {
      "text/latex": [
       "$\\displaystyle [60]\\text{   }{{{inv}}}_{power.lii, l, q{0}} - {{{cap}^{S}}}_{power.lii, l, y{0}} \\leq 0$"
      ],
      "text/plain": [
       "<IPython.core.display.Math object>"
      ]
     },
     "metadata": {},
     "output_type": "display_data"
    },
    {
     "data": {
      "text/latex": [
       "$\\displaystyle [61]\\text{   }{{{inv}}}_{power.lii, l, q{1}} - {{{cap}^{S}}}_{power.lii, l, y{0}} \\leq 0$"
      ],
      "text/plain": [
       "<IPython.core.display.Math object>"
      ]
     },
     "metadata": {},
     "output_type": "display_data"
    },
    {
     "data": {
      "text/latex": [
       "$\\displaystyle [62]\\text{   }{{{inv}}}_{power.lii, l, q{2}} - {{{cap}^{S}}}_{power.lii, l, y{0}} \\leq 0$"
      ],
      "text/plain": [
       "<IPython.core.display.Math object>"
      ]
     },
     "metadata": {},
     "output_type": "display_data"
    },
    {
     "data": {
      "text/latex": [
       "$\\displaystyle [63]\\text{   }{{{inv}}}_{power.lii, l, q{3}} - {{{cap}^{S}}}_{power.lii, l, y{0}} \\leq 0$"
      ],
      "text/plain": [
       "<IPython.core.display.Math object>"
      ]
     },
     "metadata": {},
     "output_type": "display_data"
    },
    {
     "data": {
      "text/latex": [
       "$\\displaystyle [64]\\text{   }{{{opr}}}_{lii.charge, l, y{0}} - {{{cap}^{P}}}_{lii.charge, l, y{0}} \\leq 0$"
      ],
      "text/plain": [
       "<IPython.core.display.Math object>"
      ]
     },
     "metadata": {},
     "output_type": "display_data"
    },
    {
     "data": {
      "text/latex": [
       "$\\displaystyle [74]\\text{   }{{{opr}}}_{lii.discharge, l, y{0}} - {{{cap}^{P}}}_{lii.discharge, l, y{0}} \\leq 0$"
      ],
      "text/plain": [
       "<IPython.core.display.Math object>"
      ]
     },
     "metadata": {},
     "output_type": "display_data"
    },
    {
     "data": {
      "text/markdown": [
       "### Calculation Constraints"
      ],
      "text/plain": [
       "<IPython.core.display.Markdown object>"
      ]
     },
     "metadata": {},
     "output_type": "display_data"
    },
    {
     "data": {
      "text/latex": [
       "$\\displaystyle [24]\\text{   }{{spend}}_{usd, l, y{0}, capacity, wf} - 993991.0 \\cdot {{{cap}^{P}}}_{wf, l, y{0}} = 0$"
      ],
      "text/plain": [
       "<IPython.core.display.Math object>"
      ]
     },
     "metadata": {},
     "output_type": "display_data"
    },
    {
     "data": {
      "text/latex": [
       "$\\displaystyle [26]\\text{   }{{spend}}_{usd, l, y{0}, operate, wf} - 49.0 \\cdot {{{opr}}}_{wf, l, y{0}} = 0$"
      ],
      "text/plain": [
       "<IPython.core.display.Math object>"
      ]
     },
     "metadata": {},
     "output_type": "display_data"
    },
    {
     "data": {
      "text/latex": [
       "$\\displaystyle [33]\\text{   }{{spend}}_{usd, l, y{0}, capacity, pv} - 1439046.0 \\cdot {{{cap}^{P}}}_{pv, l, y{0}} = 0$"
      ],
      "text/plain": [
       "<IPython.core.display.Math object>"
      ]
     },
     "metadata": {},
     "output_type": "display_data"
    },
    {
     "data": {
      "text/latex": [
       "$\\displaystyle [35]\\text{   }{{spend}}_{usd, l, y{0}, operate, pv} - 90000.0 \\cdot {{{opr}}}_{pv, l, y{0}} = 0$"
      ],
      "text/plain": [
       "<IPython.core.display.Math object>"
      ]
     },
     "metadata": {},
     "output_type": "display_data"
    },
    {
     "data": {
      "text/latex": [
       "$\\displaystyle [38]\\text{   }{{spend}}_{usd, l, y{0}, invcapacity, power.lii} - 1343614.0 \\cdot {{{cap}^{S}}}_{power.lii, l, y{0}} = 0$"
      ],
      "text/plain": [
       "<IPython.core.display.Math object>"
      ]
     },
     "metadata": {},
     "output_type": "display_data"
    },
    {
     "data": {
      "text/latex": [
       "$\\displaystyle [39]\\text{   }{{spend}}_{usd, l, y{0}, inventory, power.lii} - 2000.0 \\cdot {{{inv}}}_{power.lii, l, y{0}} = 0$"
      ],
      "text/plain": [
       "<IPython.core.display.Math object>"
      ]
     },
     "metadata": {},
     "output_type": "display_data"
    },
    {
     "data": {
      "text/latex": [
       "$\\displaystyle [42]\\text{   }{{{prod}}}_{power, l, q{0}, operate, pv} - {{{opr}}}_{pv, l, q{0}} = 0$"
      ],
      "text/plain": [
       "<IPython.core.display.Math object>"
      ]
     },
     "metadata": {},
     "output_type": "display_data"
    },
    {
     "data": {
      "text/latex": [
       "$\\displaystyle [43]\\text{   }{{{prod}}}_{power, l, q{1}, operate, pv} - {{{opr}}}_{pv, l, q{1}} = 0$"
      ],
      "text/plain": [
       "<IPython.core.display.Math object>"
      ]
     },
     "metadata": {},
     "output_type": "display_data"
    },
    {
     "data": {
      "text/latex": [
       "$\\displaystyle [44]\\text{   }{{{prod}}}_{power, l, q{2}, operate, pv} - {{{opr}}}_{pv, l, q{2}} = 0$"
      ],
      "text/plain": [
       "<IPython.core.display.Math object>"
      ]
     },
     "metadata": {},
     "output_type": "display_data"
    },
    {
     "data": {
      "text/latex": [
       "$\\displaystyle [45]\\text{   }{{{prod}}}_{power, l, q{3}, operate, pv} - {{{opr}}}_{pv, l, q{3}} = 0$"
      ],
      "text/plain": [
       "<IPython.core.display.Math object>"
      ]
     },
     "metadata": {},
     "output_type": "display_data"
    },
    {
     "data": {
      "text/latex": [
       "$\\displaystyle [46]\\text{   }{{{expd}}}_{solar, l, q{0}, operate, pv} - {{{opr}}}_{pv, l, q{0}} = 0$"
      ],
      "text/plain": [
       "<IPython.core.display.Math object>"
      ]
     },
     "metadata": {},
     "output_type": "display_data"
    },
    {
     "data": {
      "text/latex": [
       "$\\displaystyle [47]\\text{   }{{{expd}}}_{solar, l, q{1}, operate, pv} - {{{opr}}}_{pv, l, q{1}} = 0$"
      ],
      "text/plain": [
       "<IPython.core.display.Math object>"
      ]
     },
     "metadata": {},
     "output_type": "display_data"
    },
    {
     "data": {
      "text/latex": [
       "$\\displaystyle [48]\\text{   }{{{expd}}}_{solar, l, q{2}, operate, pv} - {{{opr}}}_{pv, l, q{2}} = 0$"
      ],
      "text/plain": [
       "<IPython.core.display.Math object>"
      ]
     },
     "metadata": {},
     "output_type": "display_data"
    },
    {
     "data": {
      "text/latex": [
       "$\\displaystyle [49]\\text{   }{{{expd}}}_{solar, l, q{3}, operate, pv} - {{{opr}}}_{pv, l, q{3}} = 0$"
      ],
      "text/plain": [
       "<IPython.core.display.Math object>"
      ]
     },
     "metadata": {},
     "output_type": "display_data"
    },
    {
     "data": {
      "text/latex": [
       "$\\displaystyle [50]\\text{   }{{{prod}}}_{power, l, q{0}, operate, wf} - {{{opr}}}_{wf, l, q{0}} = 0$"
      ],
      "text/plain": [
       "<IPython.core.display.Math object>"
      ]
     },
     "metadata": {},
     "output_type": "display_data"
    },
    {
     "data": {
      "text/latex": [
       "$\\displaystyle [51]\\text{   }{{{prod}}}_{power, l, q{1}, operate, wf} - {{{opr}}}_{wf, l, q{1}} = 0$"
      ],
      "text/plain": [
       "<IPython.core.display.Math object>"
      ]
     },
     "metadata": {},
     "output_type": "display_data"
    },
    {
     "data": {
      "text/latex": [
       "$\\displaystyle [52]\\text{   }{{{prod}}}_{power, l, q{2}, operate, wf} - {{{opr}}}_{wf, l, q{2}} = 0$"
      ],
      "text/plain": [
       "<IPython.core.display.Math object>"
      ]
     },
     "metadata": {},
     "output_type": "display_data"
    },
    {
     "data": {
      "text/latex": [
       "$\\displaystyle [53]\\text{   }{{{prod}}}_{power, l, q{3}, operate, wf} - {{{opr}}}_{wf, l, q{3}} = 0$"
      ],
      "text/plain": [
       "<IPython.core.display.Math object>"
      ]
     },
     "metadata": {},
     "output_type": "display_data"
    },
    {
     "data": {
      "text/latex": [
       "$\\displaystyle [54]\\text{   }{{{expd}}}_{wind, l, y{0}, operate, wf} - {{{opr}}}_{wf, l, y{0}} = 0$"
      ],
      "text/plain": [
       "<IPython.core.display.Math object>"
      ]
     },
     "metadata": {},
     "output_type": "display_data"
    },
    {
     "data": {
      "text/latex": [
       "$\\displaystyle [66]\\text{   }{{{prod}}}_{power.lii, l, q{0}, operate, lii.charge} - {{{opr}}}_{lii.charge, l, q{0}} = 0$"
      ],
      "text/plain": [
       "<IPython.core.display.Math object>"
      ]
     },
     "metadata": {},
     "output_type": "display_data"
    },
    {
     "data": {
      "text/latex": [
       "$\\displaystyle [67]\\text{   }{{{prod}}}_{power.lii, l, q{1}, operate, lii.charge} - {{{opr}}}_{lii.charge, l, q{1}} = 0$"
      ],
      "text/plain": [
       "<IPython.core.display.Math object>"
      ]
     },
     "metadata": {},
     "output_type": "display_data"
    },
    {
     "data": {
      "text/latex": [
       "$\\displaystyle [68]\\text{   }{{{prod}}}_{power.lii, l, q{2}, operate, lii.charge} - {{{opr}}}_{lii.charge, l, q{2}} = 0$"
      ],
      "text/plain": [
       "<IPython.core.display.Math object>"
      ]
     },
     "metadata": {},
     "output_type": "display_data"
    },
    {
     "data": {
      "text/latex": [
       "$\\displaystyle [69]\\text{   }{{{prod}}}_{power.lii, l, q{3}, operate, lii.charge} - {{{opr}}}_{lii.charge, l, q{3}} = 0$"
      ],
      "text/plain": [
       "<IPython.core.display.Math object>"
      ]
     },
     "metadata": {},
     "output_type": "display_data"
    },
    {
     "data": {
      "text/latex": [
       "$\\displaystyle [70]\\text{   }{{{expd}}}_{power, l, q{0}, operate, lii.charge} - {{{opr}}}_{lii.charge, l, q{0}} = 0$"
      ],
      "text/plain": [
       "<IPython.core.display.Math object>"
      ]
     },
     "metadata": {},
     "output_type": "display_data"
    },
    {
     "data": {
      "text/latex": [
       "$\\displaystyle [71]\\text{   }{{{expd}}}_{power, l, q{1}, operate, lii.charge} - {{{opr}}}_{lii.charge, l, q{1}} = 0$"
      ],
      "text/plain": [
       "<IPython.core.display.Math object>"
      ]
     },
     "metadata": {},
     "output_type": "display_data"
    },
    {
     "data": {
      "text/latex": [
       "$\\displaystyle [72]\\text{   }{{{expd}}}_{power, l, q{2}, operate, lii.charge} - {{{opr}}}_{lii.charge, l, q{2}} = 0$"
      ],
      "text/plain": [
       "<IPython.core.display.Math object>"
      ]
     },
     "metadata": {},
     "output_type": "display_data"
    },
    {
     "data": {
      "text/latex": [
       "$\\displaystyle [73]\\text{   }{{{expd}}}_{power, l, q{3}, operate, lii.charge} - {{{opr}}}_{lii.charge, l, q{3}} = 0$"
      ],
      "text/plain": [
       "<IPython.core.display.Math object>"
      ]
     },
     "metadata": {},
     "output_type": "display_data"
    },
    {
     "data": {
      "text/latex": [
       "$\\displaystyle [76]\\text{   }{{{prod}}}_{power, l, q{0}, operate, lii.discharge} - {{{opr}}}_{lii.discharge, l, q{0}} = 0$"
      ],
      "text/plain": [
       "<IPython.core.display.Math object>"
      ]
     },
     "metadata": {},
     "output_type": "display_data"
    },
    {
     "data": {
      "text/latex": [
       "$\\displaystyle [77]\\text{   }{{{prod}}}_{power, l, q{1}, operate, lii.discharge} - {{{opr}}}_{lii.discharge, l, q{1}} = 0$"
      ],
      "text/plain": [
       "<IPython.core.display.Math object>"
      ]
     },
     "metadata": {},
     "output_type": "display_data"
    },
    {
     "data": {
      "text/latex": [
       "$\\displaystyle [78]\\text{   }{{{prod}}}_{power, l, q{2}, operate, lii.discharge} - {{{opr}}}_{lii.discharge, l, q{2}} = 0$"
      ],
      "text/plain": [
       "<IPython.core.display.Math object>"
      ]
     },
     "metadata": {},
     "output_type": "display_data"
    },
    {
     "data": {
      "text/latex": [
       "$\\displaystyle [79]\\text{   }{{{prod}}}_{power, l, q{3}, operate, lii.discharge} - {{{opr}}}_{lii.discharge, l, q{3}} = 0$"
      ],
      "text/plain": [
       "<IPython.core.display.Math object>"
      ]
     },
     "metadata": {},
     "output_type": "display_data"
    },
    {
     "data": {
      "text/latex": [
       "$\\displaystyle [80]\\text{   }{{{expd}}}_{power.lii, l, q{0}, operate, lii.discharge} - 1.1111111111111112 \\cdot {{{opr}}}_{lii.discharge, l, q{0}} = 0$"
      ],
      "text/plain": [
       "<IPython.core.display.Math object>"
      ]
     },
     "metadata": {},
     "output_type": "display_data"
    },
    {
     "data": {
      "text/latex": [
       "$\\displaystyle [81]\\text{   }{{{expd}}}_{power.lii, l, q{1}, operate, lii.discharge} - 1.1111111111111112 \\cdot {{{opr}}}_{lii.discharge, l, q{1}} = 0$"
      ],
      "text/plain": [
       "<IPython.core.display.Math object>"
      ]
     },
     "metadata": {},
     "output_type": "display_data"
    },
    {
     "data": {
      "text/latex": [
       "$\\displaystyle [82]\\text{   }{{{expd}}}_{power.lii, l, q{2}, operate, lii.discharge} - 1.1111111111111112 \\cdot {{{opr}}}_{lii.discharge, l, q{2}} = 0$"
      ],
      "text/plain": [
       "<IPython.core.display.Math object>"
      ]
     },
     "metadata": {},
     "output_type": "display_data"
    },
    {
     "data": {
      "text/latex": [
       "$\\displaystyle [83]\\text{   }{{{expd}}}_{power.lii, l, q{3}, operate, lii.discharge} - 1.1111111111111112 \\cdot {{{opr}}}_{lii.discharge, l, q{3}} = 0$"
      ],
      "text/plain": [
       "<IPython.core.display.Math object>"
      ]
     },
     "metadata": {},
     "output_type": "display_data"
    },
    {
     "data": {
      "text/markdown": [
       "### General Resource Balance Constraints"
      ],
      "text/plain": [
       "<IPython.core.display.Markdown object>"
      ]
     },
     "metadata": {},
     "output_type": "display_data"
    },
    {
     "data": {
      "text/latex": [
       "$\\displaystyle [0]\\text{   }{{{cons}}}_{solar, l, q{0}} - {{{expd}}}_{solar, l, q{0}, operate, pv} = 0$"
      ],
      "text/plain": [
       "<IPython.core.display.Math object>"
      ]
     },
     "metadata": {},
     "output_type": "display_data"
    },
    {
     "data": {
      "text/latex": [
       "$\\displaystyle [1]\\text{   }{{{cons}}}_{solar, l, q{1}} - {{{expd}}}_{solar, l, q{1}, operate, pv} = 0$"
      ],
      "text/plain": [
       "<IPython.core.display.Math object>"
      ]
     },
     "metadata": {},
     "output_type": "display_data"
    },
    {
     "data": {
      "text/latex": [
       "$\\displaystyle [2]\\text{   }{{{cons}}}_{solar, l, q{2}} - {{{expd}}}_{solar, l, q{2}, operate, pv} = 0$"
      ],
      "text/plain": [
       "<IPython.core.display.Math object>"
      ]
     },
     "metadata": {},
     "output_type": "display_data"
    },
    {
     "data": {
      "text/latex": [
       "$\\displaystyle [3]\\text{   }{{{cons}}}_{solar, l, q{3}} - {{{expd}}}_{solar, l, q{3}, operate, pv} = 0$"
      ],
      "text/plain": [
       "<IPython.core.display.Math object>"
      ]
     },
     "metadata": {},
     "output_type": "display_data"
    },
    {
     "data": {
      "text/latex": [
       "$\\displaystyle [8]\\text{   }{{{cons}}}_{wind, l, y{0}} - {{{expd}}}_{wind, l, y{0}, operate, wf} = 0$"
      ],
      "text/plain": [
       "<IPython.core.display.Math object>"
      ]
     },
     "metadata": {},
     "output_type": "display_data"
    },
    {
     "data": {
      "text/latex": [
       "$\\displaystyle [10]\\text{   }-{{{rlse}}}_{power, l, q{0}} + {{{prod}}}_{power, l, q{0}, operate, pv} + {{{prod}}}_{power, l, q{0}, operate, wf} - {{{expd}}}_{power, l, q{0}, operate, lii.charge} + {{{prod}}}_{power, l, q{0}, operate, lii.discharge} = 0$"
      ],
      "text/plain": [
       "<IPython.core.display.Math object>"
      ]
     },
     "metadata": {},
     "output_type": "display_data"
    },
    {
     "data": {
      "text/latex": [
       "$\\displaystyle [11]\\text{   }-{{{rlse}}}_{power, l, q{1}} + {{{prod}}}_{power, l, q{1}, operate, pv} + {{{prod}}}_{power, l, q{1}, operate, wf} - {{{expd}}}_{power, l, q{1}, operate, lii.charge} + {{{prod}}}_{power, l, q{1}, operate, lii.discharge} = 0$"
      ],
      "text/plain": [
       "<IPython.core.display.Math object>"
      ]
     },
     "metadata": {},
     "output_type": "display_data"
    },
    {
     "data": {
      "text/latex": [
       "$\\displaystyle [12]\\text{   }-{{{rlse}}}_{power, l, q{2}} + {{{prod}}}_{power, l, q{2}, operate, pv} + {{{prod}}}_{power, l, q{2}, operate, wf} - {{{expd}}}_{power, l, q{2}, operate, lii.charge} + {{{prod}}}_{power, l, q{2}, operate, lii.discharge} = 0$"
      ],
      "text/plain": [
       "<IPython.core.display.Math object>"
      ]
     },
     "metadata": {},
     "output_type": "display_data"
    },
    {
     "data": {
      "text/latex": [
       "$\\displaystyle [13]\\text{   }-{{{rlse}}}_{power, l, q{3}} + {{{prod}}}_{power, l, q{3}, operate, pv} + {{{prod}}}_{power, l, q{3}, operate, wf} - {{{expd}}}_{power, l, q{3}, operate, lii.charge} + {{{prod}}}_{power, l, q{3}, operate, lii.discharge} = 0$"
      ],
      "text/plain": [
       "<IPython.core.display.Math object>"
      ]
     },
     "metadata": {},
     "output_type": "display_data"
    },
    {
     "data": {
      "text/latex": [
       "$\\displaystyle [56]\\text{   }-{{{inv}}}_{power.lii, l, q{0}} + {{{prod}}}_{power.lii, l, q{0}, operate, lii.charge} - {{{expd}}}_{power.lii, l, q{0}, operate, lii.discharge} = 0$"
      ],
      "text/plain": [
       "<IPython.core.display.Math object>"
      ]
     },
     "metadata": {},
     "output_type": "display_data"
    },
    {
     "data": {
      "text/latex": [
       "$\\displaystyle [57]\\text{   }-{{{inv}}}_{power.lii, l, q{1}} + {{{inv}}}_{power.lii, l, q{0}} + {{{prod}}}_{power.lii, l, q{1}, operate, lii.charge} - {{{expd}}}_{power.lii, l, q{1}, operate, lii.discharge} = 0$"
      ],
      "text/plain": [
       "<IPython.core.display.Math object>"
      ]
     },
     "metadata": {},
     "output_type": "display_data"
    },
    {
     "data": {
      "text/latex": [
       "$\\displaystyle [58]\\text{   }-{{{inv}}}_{power.lii, l, q{2}} + {{{inv}}}_{power.lii, l, q{1}} + {{{prod}}}_{power.lii, l, q{2}, operate, lii.charge} - {{{expd}}}_{power.lii, l, q{2}, operate, lii.discharge} = 0$"
      ],
      "text/plain": [
       "<IPython.core.display.Math object>"
      ]
     },
     "metadata": {},
     "output_type": "display_data"
    },
    {
     "data": {
      "text/latex": [
       "$\\displaystyle [59]\\text{   }-{{{inv}}}_{power.lii, l, q{3}} + {{{inv}}}_{power.lii, l, q{2}} + {{{prod}}}_{power.lii, l, q{3}, operate, lii.charge} - {{{expd}}}_{power.lii, l, q{3}, operate, lii.discharge} = 0$"
      ],
      "text/plain": [
       "<IPython.core.display.Math object>"
      ]
     },
     "metadata": {},
     "output_type": "display_data"
    },
    {
     "data": {
      "text/markdown": [
       "### Mapping Constraints"
      ],
      "text/plain": [
       "<IPython.core.display.Markdown object>"
      ]
     },
     "metadata": {},
     "output_type": "display_data"
    },
    {
     "data": {
      "text/latex": [
       "$\\displaystyle [25]\\text{   }{{{opr}}}_{wf, l, y{0}} - \\sum_{i \\in q} {{{opr}}}_{wf, l, i} = 0$"
      ],
      "text/plain": [
       "<IPython.core.display.Math object>"
      ]
     },
     "metadata": {},
     "output_type": "display_data"
    },
    {
     "data": {
      "text/latex": [
       "$\\displaystyle [34]\\text{   }{{{opr}}}_{pv, l, y{0}} - \\sum_{i \\in q} {{{opr}}}_{pv, l, i} = 0$"
      ],
      "text/plain": [
       "<IPython.core.display.Math object>"
      ]
     },
     "metadata": {},
     "output_type": "display_data"
    },
    {
     "data": {
      "text/latex": [
       "$\\displaystyle [55]\\text{   }{{{inv}}}_{power.lii, l, y{0}} - \\sum_{i \\in q} {{{inv}}}_{power.lii, l, i} = 0$"
      ],
      "text/plain": [
       "<IPython.core.display.Math object>"
      ]
     },
     "metadata": {},
     "output_type": "display_data"
    },
    {
     "data": {
      "text/latex": [
       "$\\displaystyle [65]\\text{   }{{{opr}}}_{lii.charge, l, y{0}} - \\sum_{i \\in q} {{{opr}}}_{lii.charge, l, i} = 0$"
      ],
      "text/plain": [
       "<IPython.core.display.Math object>"
      ]
     },
     "metadata": {},
     "output_type": "display_data"
    },
    {
     "data": {
      "text/latex": [
       "$\\displaystyle [75]\\text{   }{{{opr}}}_{lii.discharge, l, y{0}} - \\sum_{i \\in q} {{{opr}}}_{lii.discharge, l, i} = 0$"
      ],
      "text/plain": [
       "<IPython.core.display.Math object>"
      ]
     },
     "metadata": {},
     "output_type": "display_data"
    }
   ],
   "source": [
    "m.show(True)"
   ]
  },
  {
   "cell_type": "code",
   "execution_count": 10,
   "id": "f44a61c2",
   "metadata": {},
   "outputs": [
    {
     "data": {
      "text/latex": [
       "$\\displaystyle [21]\\text{   }{{{spend}}}_{usd, l, y, {inventory}, power.lii} - 2000 \\cdot {{{inv}}}_{power.lii, l, y} = 0$"
      ],
      "text/plain": [
       "<IPython.core.display.Math object>"
      ]
     },
     "metadata": {},
     "output_type": "display_data"
    },
    {
     "data": {
      "text/latex": [
       "$\\displaystyle [28]\\text{   }{{{{inv}}}}_{power.lii, l, y} - \\sum_{i \\in q} {{{{inv}}}}_{power.lii, l, i} = 0$"
      ],
      "text/plain": [
       "<IPython.core.display.Math object>"
      ]
     },
     "metadata": {},
     "output_type": "display_data"
    },
    {
     "data": {
      "text/latex": [
       "$\\displaystyle [29]\\text{   }-{{{{inv}}}}_{power.lii, l, q} + {{{{inv}}}}_{power.lii, l, q-1} + {{{{prod}}}}_{power.lii, l, q, {operate}, lii.charge} - {{{{expd}}}}_{power.lii, l, q, {operate}, lii.discharge} = 0$"
      ],
      "text/plain": [
       "<IPython.core.display.Math object>"
      ]
     },
     "metadata": {},
     "output_type": "display_data"
    },
    {
     "data": {
      "text/latex": [
       "$\\displaystyle [30]\\text{   }{{{{inv}}}}_{power.lii, l, q} - {{{cap}^{S}}}_{power.lii, l, y} \\leq 0$"
      ],
      "text/plain": [
       "<IPython.core.display.Math object>"
      ]
     },
     "metadata": {},
     "output_type": "display_data"
    }
   ],
   "source": [
    "m.inventory.show()"
   ]
  },
  {
   "cell_type": "markdown",
   "id": "64c93a46",
   "metadata": {},
   "source": [
    "## Optimize!"
   ]
  },
  {
   "cell_type": "code",
   "execution_count": 11,
   "id": "aa988ae1",
   "metadata": {},
   "outputs": [
    {
     "data": {
      "text/markdown": [
       "# Mathematical Program for example2"
      ],
      "text/plain": [
       "<IPython.core.display.Markdown object>"
      ]
     },
     "metadata": {},
     "output_type": "display_data"
    },
    {
     "data": {
      "text/markdown": [
       "## Index Sets"
      ],
      "text/plain": [
       "<IPython.core.display.Markdown object>"
      ]
     },
     "metadata": {},
     "output_type": "display_data"
    },
    {
     "data": {
      "text/latex": [
       "$\\displaystyle spaces = \\{ l \\}$"
      ],
      "text/plain": [
       "<IPython.core.display.Math object>"
      ]
     },
     "metadata": {},
     "output_type": "display_data"
    },
    {
     "data": {
      "text/latex": [
       "$\\displaystyle currencies = \\{ usd \\}$"
      ],
      "text/plain": [
       "<IPython.core.display.Math object>"
      ]
     },
     "metadata": {},
     "output_type": "display_data"
    },
    {
     "data": {
      "text/latex": [
       "$\\displaystyle resources = \\{ power, wind, solar, power.lii \\}$"
      ],
      "text/plain": [
       "<IPython.core.display.Math object>"
      ]
     },
     "metadata": {},
     "output_type": "display_data"
    },
    {
     "data": {
      "text/latex": [
       "$\\displaystyle processes = \\{ wf, pv, lii.charge, lii.discharge \\}$"
      ],
      "text/plain": [
       "<IPython.core.display.Math object>"
      ]
     },
     "metadata": {},
     "output_type": "display_data"
    },
    {
     "data": {
      "text/latex": [
       "$\\displaystyle storages = \\{ lii \\}$"
      ],
      "text/plain": [
       "<IPython.core.display.Math object>"
      ]
     },
     "metadata": {},
     "output_type": "display_data"
    },
    {
     "data": {
      "text/latex": [
       "$\\displaystyle q = \\{ {q_{0}}, {q_{1}}, {q_{2}}, {q_{3}} \\}$"
      ],
      "text/plain": [
       "<IPython.core.display.Math object>"
      ]
     },
     "metadata": {},
     "output_type": "display_data"
    },
    {
     "data": {
      "text/latex": [
       "$\\displaystyle y = \\{ {y_{0}} \\}$"
      ],
      "text/plain": [
       "<IPython.core.display.Math object>"
      ]
     },
     "metadata": {},
     "output_type": "display_data"
    },
    {
     "name": "stdout",
     "output_type": "stream",
     "text": [
      "\n"
     ]
    },
    {
     "data": {
      "text/markdown": [
       "## s.t."
      ],
      "text/plain": [
       "<IPython.core.display.Markdown object>"
      ]
     },
     "metadata": {},
     "output_type": "display_data"
    },
    {
     "data": {
      "text/markdown": [
       "### Bound Constraint Sets"
      ],
      "text/plain": [
       "<IPython.core.display.Markdown object>"
      ]
     },
     "metadata": {},
     "output_type": "display_data"
    },
    {
     "data": {
      "text/latex": [
       "$\\displaystyle [1]\\text{   }{{{cons}}}_{solar, l, q} - 100 \\leq 0$"
      ],
      "text/plain": [
       "<IPython.core.display.Math object>"
      ]
     },
     "metadata": {},
     "output_type": "display_data"
    },
    {
     "data": {
      "text/latex": [
       "$\\displaystyle [3]\\text{   }{{{{cons}}}}_{wind, l, y} - 400 \\leq 0$"
      ],
      "text/plain": [
       "<IPython.core.display.Math object>"
      ]
     },
     "metadata": {},
     "output_type": "display_data"
    },
    {
     "data": {
      "text/latex": [
       "$\\displaystyle [5]\\text{   }-{{{rlse}}}_{power, l, q} + {φ}_{} \\leq 0$"
      ],
      "text/plain": [
       "<IPython.core.display.Math object>"
      ]
     },
     "metadata": {},
     "output_type": "display_data"
    },
    {
     "data": {
      "text/latex": [
       "$\\displaystyle [6]\\text{   }{{{cap}^{P}}}_{wf, l, y} - 100 \\cdot {{{\\breve{{cap}^{P}}}}}_{wf, l, y} \\leq 0$"
      ],
      "text/plain": [
       "<IPython.core.display.Math object>"
      ]
     },
     "metadata": {},
     "output_type": "display_data"
    },
    {
     "data": {
      "text/latex": [
       "$\\displaystyle [7]\\text{   }10 \\cdot {{{\\breve{{cap}^{P}}}}}_{wf, l, y} - {{{cap}^{P}}}_{wf, l, y} \\leq 0$"
      ],
      "text/plain": [
       "<IPython.core.display.Math object>"
      ]
     },
     "metadata": {},
     "output_type": "display_data"
    },
    {
     "data": {
      "text/latex": [
       "$\\displaystyle [8]\\text{   }{{{opr}}}_{wf, l, q} - {φ}_{} \\cdot {{{cap}^{P}}}_{wf, l, y} \\leq 0$"
      ],
      "text/plain": [
       "<IPython.core.display.Math object>"
      ]
     },
     "metadata": {},
     "output_type": "display_data"
    },
    {
     "data": {
      "text/latex": [
       "$\\displaystyle [12]\\text{   }{{{{cap}^{P}}}}_{pv, l, y} - 100 \\cdot {{{{\\breve{{cap}^{P}}}}}}_{pv, l, y} \\leq 0$"
      ],
      "text/plain": [
       "<IPython.core.display.Math object>"
      ]
     },
     "metadata": {},
     "output_type": "display_data"
    },
    {
     "data": {
      "text/latex": [
       "$\\displaystyle [13]\\text{   }10 \\cdot {{{{\\breve{{cap}^{P}}}}}}_{pv, l, y} - {{{{cap}^{P}}}}_{pv, l, y} \\leq 0$"
      ],
      "text/plain": [
       "<IPython.core.display.Math object>"
      ]
     },
     "metadata": {},
     "output_type": "display_data"
    },
    {
     "data": {
      "text/latex": [
       "$\\displaystyle [14]\\text{   }{{{{opr}}}}_{pv, l, q} - {φ}_{} \\cdot {{{{cap}^{P}}}}_{pv, l, y} \\leq 0$"
      ],
      "text/plain": [
       "<IPython.core.display.Math object>"
      ]
     },
     "metadata": {},
     "output_type": "display_data"
    },
    {
     "data": {
      "text/latex": [
       "$\\displaystyle [18]\\text{   }{{{cap}^{S}}}_{power.lii, l, y} - 100 \\cdot {{{\\breve{{cap}^{S}}}}}_{power.lii, l, y} \\leq 0$"
      ],
      "text/plain": [
       "<IPython.core.display.Math object>"
      ]
     },
     "metadata": {},
     "output_type": "display_data"
    },
    {
     "data": {
      "text/latex": [
       "$\\displaystyle [19]\\text{   }10 \\cdot {{{\\breve{{cap}^{S}}}}}_{power.lii, l, y} - {{{cap}^{S}}}_{power.lii, l, y} \\leq 0$"
      ],
      "text/plain": [
       "<IPython.core.display.Math object>"
      ]
     },
     "metadata": {},
     "output_type": "display_data"
    },
    {
     "data": {
      "text/latex": [
       "$\\displaystyle [22]\\text{   }{{{{cap}^{P}}}}_{lii.charge, l, y} - 100 \\leq 0$"
      ],
      "text/plain": [
       "<IPython.core.display.Math object>"
      ]
     },
     "metadata": {},
     "output_type": "display_data"
    },
    {
     "data": {
      "text/latex": [
       "$\\displaystyle [23]\\text{   }{{{{cap}^{P}}}}_{lii.discharge, l, y} - 100 \\leq 0$"
      ],
      "text/plain": [
       "<IPython.core.display.Math object>"
      ]
     },
     "metadata": {},
     "output_type": "display_data"
    },
    {
     "data": {
      "text/latex": [
       "$\\displaystyle [30]\\text{   }{{{{inv}}}}_{power.lii, l, q} - {{{cap}^{S}}}_{power.lii, l, y} \\leq 0$"
      ],
      "text/plain": [
       "<IPython.core.display.Math object>"
      ]
     },
     "metadata": {},
     "output_type": "display_data"
    },
    {
     "data": {
      "text/latex": [
       "$\\displaystyle [31]\\text{   }{{{{opr}}}}_{lii.charge, l, y} - {{{{cap}^{P}}}}_{lii.charge, l, y} \\leq 0$"
      ],
      "text/plain": [
       "<IPython.core.display.Math object>"
      ]
     },
     "metadata": {},
     "output_type": "display_data"
    },
    {
     "data": {
      "text/latex": [
       "$\\displaystyle [35]\\text{   }{{{{opr}}}}_{lii.discharge, l, y} - {{{{cap}^{P}}}}_{lii.discharge, l, y} \\leq 0$"
      ],
      "text/plain": [
       "<IPython.core.display.Math object>"
      ]
     },
     "metadata": {},
     "output_type": "display_data"
    },
    {
     "data": {
      "text/markdown": [
       "### Calculation Constraint Sets"
      ],
      "text/plain": [
       "<IPython.core.display.Markdown object>"
      ]
     },
     "metadata": {},
     "output_type": "display_data"
    },
    {
     "data": {
      "text/latex": [
       "$\\displaystyle [9]\\text{   }{{spend}}_{usd, l, y, {capacity}, wf} - 993991 \\cdot {{{cap}^{P}}}_{wf, l, y} = 0$"
      ],
      "text/plain": [
       "<IPython.core.display.Math object>"
      ]
     },
     "metadata": {},
     "output_type": "display_data"
    },
    {
     "data": {
      "text/latex": [
       "$\\displaystyle [11]\\text{   }{{{spend}}}_{usd, l, y, {operate}, wf} - 49 \\cdot {{{{opr}}}}_{wf, l, y} = 0$"
      ],
      "text/plain": [
       "<IPython.core.display.Math object>"
      ]
     },
     "metadata": {},
     "output_type": "display_data"
    },
    {
     "data": {
      "text/latex": [
       "$\\displaystyle [15]\\text{   }{{{spend}}}_{usd, l, y, {capacity}, pv} - 1439046 \\cdot {{{{cap}^{P}}}}_{pv, l, y} = 0$"
      ],
      "text/plain": [
       "<IPython.core.display.Math object>"
      ]
     },
     "metadata": {},
     "output_type": "display_data"
    },
    {
     "data": {
      "text/latex": [
       "$\\displaystyle [17]\\text{   }{{{spend}}}_{usd, l, y, {operate}, pv} - 90000 \\cdot {{{{opr}}}}_{pv, l, y} = 0$"
      ],
      "text/plain": [
       "<IPython.core.display.Math object>"
      ]
     },
     "metadata": {},
     "output_type": "display_data"
    },
    {
     "data": {
      "text/latex": [
       "$\\displaystyle [20]\\text{   }{{{spend}}}_{usd, l, y, {invcapacity}, power.lii} - 1343614 \\cdot {{{cap}^{S}}}_{power.lii, l, y} = 0$"
      ],
      "text/plain": [
       "<IPython.core.display.Math object>"
      ]
     },
     "metadata": {},
     "output_type": "display_data"
    },
    {
     "data": {
      "text/latex": [
       "$\\displaystyle [21]\\text{   }{{{spend}}}_{usd, l, y, {inventory}, power.lii} - 2000 \\cdot {{{inv}}}_{power.lii, l, y} = 0$"
      ],
      "text/plain": [
       "<IPython.core.display.Math object>"
      ]
     },
     "metadata": {},
     "output_type": "display_data"
    },
    {
     "data": {
      "text/latex": [
       "$\\displaystyle [24]\\text{   }{{{prod}}}_{power, l, q, {operate}, pv} - {{{{opr}}}}_{pv, l, q} = 0$"
      ],
      "text/plain": [
       "<IPython.core.display.Math object>"
      ]
     },
     "metadata": {},
     "output_type": "display_data"
    },
    {
     "data": {
      "text/latex": [
       "$\\displaystyle [25]\\text{   }{{{expd}}}_{solar, l, q, {operate}, pv} - {{{{opr}}}}_{pv, l, q} = 0$"
      ],
      "text/plain": [
       "<IPython.core.display.Math object>"
      ]
     },
     "metadata": {},
     "output_type": "display_data"
    },
    {
     "data": {
      "text/latex": [
       "$\\displaystyle [26]\\text{   }{{{{prod}}}}_{power, l, q, {operate}, wf} - {{{{opr}}}}_{wf, l, q} = 0$"
      ],
      "text/plain": [
       "<IPython.core.display.Math object>"
      ]
     },
     "metadata": {},
     "output_type": "display_data"
    },
    {
     "data": {
      "text/latex": [
       "$\\displaystyle [27]\\text{   }{{{{expd}}}}_{wind, l, y, {operate}, wf} - {{{{opr}}}}_{wf, l, y} = 0$"
      ],
      "text/plain": [
       "<IPython.core.display.Math object>"
      ]
     },
     "metadata": {},
     "output_type": "display_data"
    },
    {
     "data": {
      "text/latex": [
       "$\\displaystyle [33]\\text{   }{{{{prod}}}}_{power.lii, l, q, {operate}, lii.charge} - {{{{opr}}}}_{lii.charge, l, q} = 0$"
      ],
      "text/plain": [
       "<IPython.core.display.Math object>"
      ]
     },
     "metadata": {},
     "output_type": "display_data"
    },
    {
     "data": {
      "text/latex": [
       "$\\displaystyle [34]\\text{   }{{{{expd}}}}_{power, l, q, {operate}, lii.charge} - {{{{opr}}}}_{lii.charge, l, q} = 0$"
      ],
      "text/plain": [
       "<IPython.core.display.Math object>"
      ]
     },
     "metadata": {},
     "output_type": "display_data"
    },
    {
     "data": {
      "text/latex": [
       "$\\displaystyle [37]\\text{   }{{{{prod}}}}_{power, l, q, {operate}, lii.discharge} - {{{{opr}}}}_{lii.discharge, l, q} = 0$"
      ],
      "text/plain": [
       "<IPython.core.display.Math object>"
      ]
     },
     "metadata": {},
     "output_type": "display_data"
    },
    {
     "data": {
      "text/latex": [
       "$\\displaystyle [38]\\text{   }{{{{expd}}}}_{power.lii, l, q, {operate}, lii.discharge} - 1.1111111111111112 \\cdot {{{{opr}}}}_{lii.discharge, l, q} = 0$"
      ],
      "text/plain": [
       "<IPython.core.display.Math object>"
      ]
     },
     "metadata": {},
     "output_type": "display_data"
    },
    {
     "data": {
      "text/markdown": [
       "### General Resource Balance Constraint Sets"
      ],
      "text/plain": [
       "<IPython.core.display.Markdown object>"
      ]
     },
     "metadata": {},
     "output_type": "display_data"
    },
    {
     "data": {
      "text/latex": [
       "$\\displaystyle [0]\\text{   }{{{cons}}}_{solar, l, q} - {{{expd}}}_{solar, l, q, {operate}, pv} = 0$"
      ],
      "text/plain": [
       "<IPython.core.display.Math object>"
      ]
     },
     "metadata": {},
     "output_type": "display_data"
    },
    {
     "data": {
      "text/latex": [
       "$\\displaystyle [2]\\text{   }{{{{cons}}}}_{wind, l, y} - {{{{expd}}}}_{wind, l, y, {operate}, wf} = 0$"
      ],
      "text/plain": [
       "<IPython.core.display.Math object>"
      ]
     },
     "metadata": {},
     "output_type": "display_data"
    },
    {
     "data": {
      "text/latex": [
       "$\\displaystyle [4]\\text{   }-{{{rlse}}}_{power, l, q} + {{{prod}}}_{power, l, q, {operate}, pv} + {{{{prod}}}}_{power, l, q, {operate}, wf} - {{{{expd}}}}_{power, l, q, {operate}, lii.charge} + {{{{prod}}}}_{power, l, q, {operate}, lii.discharge} = 0$"
      ],
      "text/plain": [
       "<IPython.core.display.Math object>"
      ]
     },
     "metadata": {},
     "output_type": "display_data"
    },
    {
     "data": {
      "text/latex": [
       "$\\displaystyle [29]\\text{   }-{{{{inv}}}}_{power.lii, l, q} + {{{{inv}}}}_{power.lii, l, q-1} + {{{{prod}}}}_{power.lii, l, q, {operate}, lii.charge} - {{{{expd}}}}_{power.lii, l, q, {operate}, lii.discharge} = 0$"
      ],
      "text/plain": [
       "<IPython.core.display.Math object>"
      ]
     },
     "metadata": {},
     "output_type": "display_data"
    },
    {
     "data": {
      "text/markdown": [
       "### Mapping Constraint Sets"
      ],
      "text/plain": [
       "<IPython.core.display.Markdown object>"
      ]
     },
     "metadata": {},
     "output_type": "display_data"
    },
    {
     "data": {
      "text/latex": [
       "$\\displaystyle [10]\\text{   }{{{{opr}}}}_{wf, l, y} - \\sum_{i \\in q} {{{{opr}}}}_{wf, l, i} = 0$"
      ],
      "text/plain": [
       "<IPython.core.display.Math object>"
      ]
     },
     "metadata": {},
     "output_type": "display_data"
    },
    {
     "data": {
      "text/latex": [
       "$\\displaystyle [16]\\text{   }{{{{opr}}}}_{pv, l, y} - \\sum_{i \\in q} {{{{opr}}}}_{pv, l, i} = 0$"
      ],
      "text/plain": [
       "<IPython.core.display.Math object>"
      ]
     },
     "metadata": {},
     "output_type": "display_data"
    },
    {
     "data": {
      "text/latex": [
       "$\\displaystyle [28]\\text{   }{{{{inv}}}}_{power.lii, l, y} - \\sum_{i \\in q} {{{{inv}}}}_{power.lii, l, i} = 0$"
      ],
      "text/plain": [
       "<IPython.core.display.Math object>"
      ]
     },
     "metadata": {},
     "output_type": "display_data"
    },
    {
     "data": {
      "text/latex": [
       "$\\displaystyle [32]\\text{   }{{{{opr}}}}_{lii.charge, l, y} - \\sum_{i \\in q} {{{{opr}}}}_{lii.charge, l, i} = 0$"
      ],
      "text/plain": [
       "<IPython.core.display.Math object>"
      ]
     },
     "metadata": {},
     "output_type": "display_data"
    },
    {
     "data": {
      "text/latex": [
       "$\\displaystyle [36]\\text{   }{{{{opr}}}}_{lii.discharge, l, y} - \\sum_{i \\in q} {{{{opr}}}}_{lii.discharge, l, i} = 0$"
      ],
      "text/plain": [
       "<IPython.core.display.Math object>"
      ]
     },
     "metadata": {},
     "output_type": "display_data"
    }
   ],
   "source": [
    "m.show()"
   ]
  },
  {
   "cell_type": "code",
   "execution_count": 12,
   "id": "b2d5463b",
   "metadata": {},
   "outputs": [
    {
     "name": "stdout",
     "output_type": "stream",
     "text": [
      "--- Creating map to (usd, l, y). Mapping spend: from (usd, l, y, capacity, wf) to (usd, l, y)\n",
      "    Completed in 9.274482727050781e-05 seconds\n",
      "--- Mapping spend: from (usd, l, y, operate, wf) to (usd, l, y)\n",
      "    Completed in 5.602836608886719e-05 seconds\n",
      "--- Mapping spend: from (usd, l, y, capacity, pv) to (usd, l, y)\n",
      "    Completed in 4.601478576660156e-05 seconds\n",
      "--- Mapping spend: from (usd, l, y, operate, pv) to (usd, l, y)\n",
      "    Completed in 3.933906555175781e-05 seconds\n",
      "--- Mapping spend: from (usd, l, y, invcapacity, power.lii) to (usd, l, y)\n",
      "    Completed in 4.267692565917969e-05 seconds\n",
      "--- Mapping spend: from (usd, l, y, inventory, power.lii) to (usd, l, y)\n",
      "    Completed in 4.458427429199219e-05 seconds\n",
      "--- Generating example2.mps\n",
      "--- Creating gurobi model for example2\n",
      "Set parameter Username\n"
     ]
    },
    {
     "name": "stdout",
     "output_type": "stream",
     "text": [
      "Academic license - for non-commercial use only - expires 2026-08-01\n"
     ]
    },
    {
     "name": "stdout",
     "output_type": "stream",
     "text": [
      "Read MPS format model from file example2.mps\n"
     ]
    },
    {
     "name": "stdout",
     "output_type": "stream",
     "text": [
      "Reading time = 0.00 seconds\n"
     ]
    },
    {
     "name": "stdout",
     "output_type": "stream",
     "text": [
      "EXAMPLE2: 85 rows, 78 columns, 198 nonzeros\n"
     ]
    },
    {
     "name": "stdout",
     "output_type": "stream",
     "text": [
      "--- Optimizing example2 using gurobi\n",
      "Gurobi Optimizer version 12.0.3 build v12.0.3rc0 (win64 - Windows 11.0 (26100.2))\n"
     ]
    },
    {
     "name": "stdout",
     "output_type": "stream",
     "text": [
      "\n"
     ]
    },
    {
     "name": "stdout",
     "output_type": "stream",
     "text": [
      "CPU model: 13th Gen Intel(R) Core(TM) i7-13700, instruction set [SSE2|AVX|AVX2]\n"
     ]
    },
    {
     "name": "stdout",
     "output_type": "stream",
     "text": [
      "Thread count: 16 physical cores, 24 logical processors, using up to 24 threads\n"
     ]
    },
    {
     "name": "stdout",
     "output_type": "stream",
     "text": [
      "\n"
     ]
    },
    {
     "name": "stdout",
     "output_type": "stream",
     "text": [
      "Optimize a model with 85 rows, 78 columns and 198 nonzeros\n"
     ]
    },
    {
     "name": "stdout",
     "output_type": "stream",
     "text": [
      "Model fingerprint: 0x2d658939\n"
     ]
    },
    {
     "name": "stdout",
     "output_type": "stream",
     "text": [
      "Variable types: 75 continuous, 3 integer (3 binary)\n"
     ]
    },
    {
     "name": "stdout",
     "output_type": "stream",
     "text": [
      "Coefficient statistics:\n"
     ]
    },
    {
     "name": "stdout",
     "output_type": "stream",
     "text": [
      "  Matrix range     [6e-01, 1e+06]\n"
     ]
    },
    {
     "name": "stdout",
     "output_type": "stream",
     "text": [
      "  Objective range  [1e+00, 1e+00]\n"
     ]
    },
    {
     "name": "stdout",
     "output_type": "stream",
     "text": [
      "  Bounds range     [1e+00, 1e+00]\n"
     ]
    },
    {
     "name": "stdout",
     "output_type": "stream",
     "text": [
      "  RHS range        [7e+01, 4e+02]\n"
     ]
    },
    {
     "name": "stdout",
     "output_type": "stream",
     "text": [
      "Presolve removed 70 rows and 63 columns\n"
     ]
    },
    {
     "name": "stdout",
     "output_type": "stream",
     "text": [
      "Presolve time: 0.00s\n"
     ]
    },
    {
     "name": "stdout",
     "output_type": "stream",
     "text": [
      "Presolved: 15 rows, 15 columns, 44 nonzeros\n"
     ]
    },
    {
     "name": "stdout",
     "output_type": "stream",
     "text": [
      "Variable types: 15 continuous, 0 integer (0 binary)\n"
     ]
    },
    {
     "name": "stdout",
     "output_type": "stream",
     "text": [
      "\n"
     ]
    },
    {
     "name": "stdout",
     "output_type": "stream",
     "text": [
      "Root relaxation: objective 3.006497e+08, 4 iterations, 0.00 seconds (0.00 work units)\n"
     ]
    },
    {
     "name": "stdout",
     "output_type": "stream",
     "text": [
      "\n"
     ]
    },
    {
     "name": "stdout",
     "output_type": "stream",
     "text": [
      "    Nodes    |    Current Node    |     Objective Bounds      |     Work\n"
     ]
    },
    {
     "name": "stdout",
     "output_type": "stream",
     "text": [
      " Expl Unexpl |  Obj  Depth IntInf | Incumbent    BestBd   Gap | It/Node Time\n"
     ]
    },
    {
     "name": "stdout",
     "output_type": "stream",
     "text": [
      "\n"
     ]
    },
    {
     "name": "stdout",
     "output_type": "stream",
     "text": [
      "*    0     0               0    3.006497e+08 3.0065e+08  0.00%     -    0s\n"
     ]
    },
    {
     "name": "stdout",
     "output_type": "stream",
     "text": [
      "\n"
     ]
    },
    {
     "name": "stdout",
     "output_type": "stream",
     "text": [
      "Explored 1 nodes (4 simplex iterations) in 0.02 seconds (0.00 work units)\n"
     ]
    },
    {
     "name": "stdout",
     "output_type": "stream",
     "text": [
      "Thread count was 24 (of 24 available processors)\n"
     ]
    },
    {
     "name": "stdout",
     "output_type": "stream",
     "text": [
      "\n"
     ]
    },
    {
     "name": "stdout",
     "output_type": "stream",
     "text": [
      "Solution count 1: 3.0065e+08 \n"
     ]
    },
    {
     "name": "stdout",
     "output_type": "stream",
     "text": [
      "\n"
     ]
    },
    {
     "name": "stdout",
     "output_type": "stream",
     "text": [
      "Optimal solution found (tolerance 1.00e-04)\n"
     ]
    },
    {
     "name": "stdout",
     "output_type": "stream",
     "text": [
      "Best objective 3.006497358951e+08, best bound 3.006497358951e+08, gap 0.0000%\n"
     ]
    },
    {
     "name": "stdout",
     "output_type": "stream",
     "text": [
      "--- Solution found. Use .sol() to display it\n",
      "--- Creating Solution object, check.solution\n"
     ]
    }
   ],
   "source": [
    "m.usd.spend.opt()"
   ]
  },
  {
   "cell_type": "markdown",
   "id": "8ad83832",
   "metadata": {},
   "source": [
    "## Solution"
   ]
  },
  {
   "cell_type": "markdown",
   "id": "ac8bf947",
   "metadata": {},
   "source": [
    "### Inventory Profiles\n",
    "\n",
    "The inventory maintained in each time period is:"
   ]
  },
  {
   "cell_type": "code",
   "execution_count": 13,
   "id": "f67de1d4",
   "metadata": {},
   "outputs": [
    {
     "data": {
      "text/latex": [
       "$\\displaystyle {{{inv}}}_{power.lii, l, y{0}}=34.043209876543145$"
      ],
      "text/plain": [
       "<IPython.core.display.Math object>"
      ]
     },
     "metadata": {},
     "output_type": "display_data"
    },
    {
     "data": {
      "text/latex": [
       "$\\displaystyle {{{inv}}}_{power.lii, l, q{0}}=6.882716049382658$"
      ],
      "text/plain": [
       "<IPython.core.display.Math object>"
      ]
     },
     "metadata": {},
     "output_type": "display_data"
    },
    {
     "data": {
      "text/latex": [
       "$\\displaystyle {{{inv}}}_{power.lii, l, q{1}}=27.160493827160487$"
      ],
      "text/plain": [
       "<IPython.core.display.Math object>"
      ]
     },
     "metadata": {},
     "output_type": "display_data"
    },
    {
     "data": {
      "text/latex": [
       "$\\displaystyle {{{inv}}}_{power.lii, l, q{2}}=0.0$"
      ],
      "text/plain": [
       "<IPython.core.display.Math object>"
      ]
     },
     "metadata": {},
     "output_type": "display_data"
    },
    {
     "data": {
      "text/latex": [
       "$\\displaystyle {{{inv}}}_{power.lii, l, q{3}}=0.0$"
      ],
      "text/plain": [
       "<IPython.core.display.Math object>"
      ]
     },
     "metadata": {},
     "output_type": "display_data"
    }
   ],
   "source": [
    "m.inventory.sol()"
   ]
  },
  {
   "cell_type": "markdown",
   "id": "2c042bdb",
   "metadata": {},
   "source": [
    "The amount charged into inventory is:"
   ]
  },
  {
   "cell_type": "code",
   "execution_count": 14,
   "id": "c3623164",
   "metadata": {},
   "outputs": [
    {
     "data": {
      "text/markdown": [
       "# Mathematical Program for example2"
      ],
      "text/plain": [
       "<IPython.core.display.Markdown object>"
      ]
     },
     "metadata": {},
     "output_type": "display_data"
    },
    {
     "data": {
      "text/markdown": [
       "## Index Sets"
      ],
      "text/plain": [
       "<IPython.core.display.Markdown object>"
      ]
     },
     "metadata": {},
     "output_type": "display_data"
    },
    {
     "data": {
      "text/latex": [
       "$\\displaystyle spaces = \\{ l \\}$"
      ],
      "text/plain": [
       "<IPython.core.display.Math object>"
      ]
     },
     "metadata": {},
     "output_type": "display_data"
    },
    {
     "data": {
      "text/latex": [
       "$\\displaystyle currencies = \\{ usd \\}$"
      ],
      "text/plain": [
       "<IPython.core.display.Math object>"
      ]
     },
     "metadata": {},
     "output_type": "display_data"
    },
    {
     "data": {
      "text/latex": [
       "$\\displaystyle resources = \\{ power, wind, solar, power.lii \\}$"
      ],
      "text/plain": [
       "<IPython.core.display.Math object>"
      ]
     },
     "metadata": {},
     "output_type": "display_data"
    },
    {
     "data": {
      "text/latex": [
       "$\\displaystyle processes = \\{ wf, pv, lii.charge, lii.discharge \\}$"
      ],
      "text/plain": [
       "<IPython.core.display.Math object>"
      ]
     },
     "metadata": {},
     "output_type": "display_data"
    },
    {
     "data": {
      "text/latex": [
       "$\\displaystyle storages = \\{ lii \\}$"
      ],
      "text/plain": [
       "<IPython.core.display.Math object>"
      ]
     },
     "metadata": {},
     "output_type": "display_data"
    },
    {
     "data": {
      "text/latex": [
       "$\\displaystyle q = \\{ {q_{0}}, {q_{1}}, {q_{2}}, {q_{3}} \\}$"
      ],
      "text/plain": [
       "<IPython.core.display.Math object>"
      ]
     },
     "metadata": {},
     "output_type": "display_data"
    },
    {
     "data": {
      "text/latex": [
       "$\\displaystyle y = \\{ {y_{0}} \\}$"
      ],
      "text/plain": [
       "<IPython.core.display.Math object>"
      ]
     },
     "metadata": {},
     "output_type": "display_data"
    },
    {
     "data": {
      "text/markdown": [
       "## Objective"
      ],
      "text/plain": [
       "<IPython.core.display.Markdown object>"
      ]
     },
     "metadata": {},
     "output_type": "display_data"
    },
    {
     "data": {
      "text/latex": [
       "$\\displaystyle min \\hspace{0.2cm} {{spend}}_{usd, l, y{0}}$"
      ],
      "text/plain": [
       "<IPython.core.display.Math object>"
      ]
     },
     "metadata": {},
     "output_type": "display_data"
    },
    {
     "name": "stdout",
     "output_type": "stream",
     "text": [
      "\n"
     ]
    },
    {
     "data": {
      "text/markdown": [
       "## s.t."
      ],
      "text/plain": [
       "<IPython.core.display.Markdown object>"
      ]
     },
     "metadata": {},
     "output_type": "display_data"
    },
    {
     "data": {
      "text/markdown": [
       "### Bound Constraint Sets"
      ],
      "text/plain": [
       "<IPython.core.display.Markdown object>"
      ]
     },
     "metadata": {},
     "output_type": "display_data"
    },
    {
     "data": {
      "text/latex": [
       "$\\displaystyle [1]\\text{   }{{{cons}}}_{solar, l, q} - 100 \\leq 0$"
      ],
      "text/plain": [
       "<IPython.core.display.Math object>"
      ]
     },
     "metadata": {},
     "output_type": "display_data"
    },
    {
     "data": {
      "text/latex": [
       "$\\displaystyle [3]\\text{   }{{{{cons}}}}_{wind, l, y} - 400 \\leq 0$"
      ],
      "text/plain": [
       "<IPython.core.display.Math object>"
      ]
     },
     "metadata": {},
     "output_type": "display_data"
    },
    {
     "data": {
      "text/latex": [
       "$\\displaystyle [5]\\text{   }-{{{rlse}}}_{power, l, q} + {φ}_{} \\leq 0$"
      ],
      "text/plain": [
       "<IPython.core.display.Math object>"
      ]
     },
     "metadata": {},
     "output_type": "display_data"
    },
    {
     "data": {
      "text/latex": [
       "$\\displaystyle [6]\\text{   }{{{cap}^{P}}}_{wf, l, y} - 100 \\cdot {{{\\breve{{cap}^{P}}}}}_{wf, l, y} \\leq 0$"
      ],
      "text/plain": [
       "<IPython.core.display.Math object>"
      ]
     },
     "metadata": {},
     "output_type": "display_data"
    },
    {
     "data": {
      "text/latex": [
       "$\\displaystyle [7]\\text{   }10 \\cdot {{{\\breve{{cap}^{P}}}}}_{wf, l, y} - {{{cap}^{P}}}_{wf, l, y} \\leq 0$"
      ],
      "text/plain": [
       "<IPython.core.display.Math object>"
      ]
     },
     "metadata": {},
     "output_type": "display_data"
    },
    {
     "data": {
      "text/latex": [
       "$\\displaystyle [8]\\text{   }{{{opr}}}_{wf, l, q} - {φ}_{} \\cdot {{{cap}^{P}}}_{wf, l, y} \\leq 0$"
      ],
      "text/plain": [
       "<IPython.core.display.Math object>"
      ]
     },
     "metadata": {},
     "output_type": "display_data"
    },
    {
     "data": {
      "text/latex": [
       "$\\displaystyle [12]\\text{   }{{{{cap}^{P}}}}_{pv, l, y} - 100 \\cdot {{{{\\breve{{cap}^{P}}}}}}_{pv, l, y} \\leq 0$"
      ],
      "text/plain": [
       "<IPython.core.display.Math object>"
      ]
     },
     "metadata": {},
     "output_type": "display_data"
    },
    {
     "data": {
      "text/latex": [
       "$\\displaystyle [13]\\text{   }10 \\cdot {{{{\\breve{{cap}^{P}}}}}}_{pv, l, y} - {{{{cap}^{P}}}}_{pv, l, y} \\leq 0$"
      ],
      "text/plain": [
       "<IPython.core.display.Math object>"
      ]
     },
     "metadata": {},
     "output_type": "display_data"
    },
    {
     "data": {
      "text/latex": [
       "$\\displaystyle [14]\\text{   }{{{{opr}}}}_{pv, l, q} - {φ}_{} \\cdot {{{{cap}^{P}}}}_{pv, l, y} \\leq 0$"
      ],
      "text/plain": [
       "<IPython.core.display.Math object>"
      ]
     },
     "metadata": {},
     "output_type": "display_data"
    },
    {
     "data": {
      "text/latex": [
       "$\\displaystyle [18]\\text{   }{{{cap}^{S}}}_{power.lii, l, y} - 100 \\cdot {{{\\breve{{cap}^{S}}}}}_{power.lii, l, y} \\leq 0$"
      ],
      "text/plain": [
       "<IPython.core.display.Math object>"
      ]
     },
     "metadata": {},
     "output_type": "display_data"
    },
    {
     "data": {
      "text/latex": [
       "$\\displaystyle [19]\\text{   }10 \\cdot {{{\\breve{{cap}^{S}}}}}_{power.lii, l, y} - {{{cap}^{S}}}_{power.lii, l, y} \\leq 0$"
      ],
      "text/plain": [
       "<IPython.core.display.Math object>"
      ]
     },
     "metadata": {},
     "output_type": "display_data"
    },
    {
     "data": {
      "text/latex": [
       "$\\displaystyle [22]\\text{   }{{{{cap}^{P}}}}_{lii.charge, l, y} - 100 \\leq 0$"
      ],
      "text/plain": [
       "<IPython.core.display.Math object>"
      ]
     },
     "metadata": {},
     "output_type": "display_data"
    },
    {
     "data": {
      "text/latex": [
       "$\\displaystyle [23]\\text{   }{{{{cap}^{P}}}}_{lii.discharge, l, y} - 100 \\leq 0$"
      ],
      "text/plain": [
       "<IPython.core.display.Math object>"
      ]
     },
     "metadata": {},
     "output_type": "display_data"
    },
    {
     "data": {
      "text/latex": [
       "$\\displaystyle [30]\\text{   }{{{{inv}}}}_{power.lii, l, q} - {{{cap}^{S}}}_{power.lii, l, y} \\leq 0$"
      ],
      "text/plain": [
       "<IPython.core.display.Math object>"
      ]
     },
     "metadata": {},
     "output_type": "display_data"
    },
    {
     "data": {
      "text/latex": [
       "$\\displaystyle [31]\\text{   }{{{{opr}}}}_{lii.charge, l, y} - {{{{cap}^{P}}}}_{lii.charge, l, y} \\leq 0$"
      ],
      "text/plain": [
       "<IPython.core.display.Math object>"
      ]
     },
     "metadata": {},
     "output_type": "display_data"
    },
    {
     "data": {
      "text/latex": [
       "$\\displaystyle [35]\\text{   }{{{{opr}}}}_{lii.discharge, l, y} - {{{{cap}^{P}}}}_{lii.discharge, l, y} \\leq 0$"
      ],
      "text/plain": [
       "<IPython.core.display.Math object>"
      ]
     },
     "metadata": {},
     "output_type": "display_data"
    },
    {
     "data": {
      "text/markdown": [
       "### Calculation Constraint Sets"
      ],
      "text/plain": [
       "<IPython.core.display.Markdown object>"
      ]
     },
     "metadata": {},
     "output_type": "display_data"
    },
    {
     "data": {
      "text/latex": [
       "$\\displaystyle [9]\\text{   }{{spend}}_{usd, l, y, {capacity}, wf} - 993991 \\cdot {{{cap}^{P}}}_{wf, l, y} = 0$"
      ],
      "text/plain": [
       "<IPython.core.display.Math object>"
      ]
     },
     "metadata": {},
     "output_type": "display_data"
    },
    {
     "data": {
      "text/latex": [
       "$\\displaystyle [11]\\text{   }{{{spend}}}_{usd, l, y, {operate}, wf} - 49 \\cdot {{{{opr}}}}_{wf, l, y} = 0$"
      ],
      "text/plain": [
       "<IPython.core.display.Math object>"
      ]
     },
     "metadata": {},
     "output_type": "display_data"
    },
    {
     "data": {
      "text/latex": [
       "$\\displaystyle [15]\\text{   }{{{spend}}}_{usd, l, y, {capacity}, pv} - 1439046 \\cdot {{{{cap}^{P}}}}_{pv, l, y} = 0$"
      ],
      "text/plain": [
       "<IPython.core.display.Math object>"
      ]
     },
     "metadata": {},
     "output_type": "display_data"
    },
    {
     "data": {
      "text/latex": [
       "$\\displaystyle [17]\\text{   }{{{spend}}}_{usd, l, y, {operate}, pv} - 90000 \\cdot {{{{opr}}}}_{pv, l, y} = 0$"
      ],
      "text/plain": [
       "<IPython.core.display.Math object>"
      ]
     },
     "metadata": {},
     "output_type": "display_data"
    },
    {
     "data": {
      "text/latex": [
       "$\\displaystyle [20]\\text{   }{{{spend}}}_{usd, l, y, {invcapacity}, power.lii} - 1343614 \\cdot {{{cap}^{S}}}_{power.lii, l, y} = 0$"
      ],
      "text/plain": [
       "<IPython.core.display.Math object>"
      ]
     },
     "metadata": {},
     "output_type": "display_data"
    },
    {
     "data": {
      "text/latex": [
       "$\\displaystyle [21]\\text{   }{{{spend}}}_{usd, l, y, {inventory}, power.lii} - 2000 \\cdot {{{inv}}}_{power.lii, l, y} = 0$"
      ],
      "text/plain": [
       "<IPython.core.display.Math object>"
      ]
     },
     "metadata": {},
     "output_type": "display_data"
    },
    {
     "data": {
      "text/latex": [
       "$\\displaystyle [24]\\text{   }{{{prod}}}_{power, l, q, {operate}, pv} - {{{{opr}}}}_{pv, l, q} = 0$"
      ],
      "text/plain": [
       "<IPython.core.display.Math object>"
      ]
     },
     "metadata": {},
     "output_type": "display_data"
    },
    {
     "data": {
      "text/latex": [
       "$\\displaystyle [25]\\text{   }{{{expd}}}_{solar, l, q, {operate}, pv} - {{{{opr}}}}_{pv, l, q} = 0$"
      ],
      "text/plain": [
       "<IPython.core.display.Math object>"
      ]
     },
     "metadata": {},
     "output_type": "display_data"
    },
    {
     "data": {
      "text/latex": [
       "$\\displaystyle [26]\\text{   }{{{{prod}}}}_{power, l, q, {operate}, wf} - {{{{opr}}}}_{wf, l, q} = 0$"
      ],
      "text/plain": [
       "<IPython.core.display.Math object>"
      ]
     },
     "metadata": {},
     "output_type": "display_data"
    },
    {
     "data": {
      "text/latex": [
       "$\\displaystyle [27]\\text{   }{{{{expd}}}}_{wind, l, y, {operate}, wf} - {{{{opr}}}}_{wf, l, y} = 0$"
      ],
      "text/plain": [
       "<IPython.core.display.Math object>"
      ]
     },
     "metadata": {},
     "output_type": "display_data"
    },
    {
     "data": {
      "text/latex": [
       "$\\displaystyle [33]\\text{   }{{{{prod}}}}_{power.lii, l, q, {operate}, lii.charge} - {{{{opr}}}}_{lii.charge, l, q} = 0$"
      ],
      "text/plain": [
       "<IPython.core.display.Math object>"
      ]
     },
     "metadata": {},
     "output_type": "display_data"
    },
    {
     "data": {
      "text/latex": [
       "$\\displaystyle [34]\\text{   }{{{{expd}}}}_{power, l, q, {operate}, lii.charge} - {{{{opr}}}}_{lii.charge, l, q} = 0$"
      ],
      "text/plain": [
       "<IPython.core.display.Math object>"
      ]
     },
     "metadata": {},
     "output_type": "display_data"
    },
    {
     "data": {
      "text/latex": [
       "$\\displaystyle [37]\\text{   }{{{{prod}}}}_{power, l, q, {operate}, lii.discharge} - {{{{opr}}}}_{lii.discharge, l, q} = 0$"
      ],
      "text/plain": [
       "<IPython.core.display.Math object>"
      ]
     },
     "metadata": {},
     "output_type": "display_data"
    },
    {
     "data": {
      "text/latex": [
       "$\\displaystyle [38]\\text{   }{{{{expd}}}}_{power.lii, l, q, {operate}, lii.discharge} - 1.1111111111111112 \\cdot {{{{opr}}}}_{lii.discharge, l, q} = 0$"
      ],
      "text/plain": [
       "<IPython.core.display.Math object>"
      ]
     },
     "metadata": {},
     "output_type": "display_data"
    },
    {
     "data": {
      "text/markdown": [
       "### General Resource Balance Constraint Sets"
      ],
      "text/plain": [
       "<IPython.core.display.Markdown object>"
      ]
     },
     "metadata": {},
     "output_type": "display_data"
    },
    {
     "data": {
      "text/latex": [
       "$\\displaystyle [0]\\text{   }{{{cons}}}_{solar, l, q} - {{{expd}}}_{solar, l, q, {operate}, pv} = 0$"
      ],
      "text/plain": [
       "<IPython.core.display.Math object>"
      ]
     },
     "metadata": {},
     "output_type": "display_data"
    },
    {
     "data": {
      "text/latex": [
       "$\\displaystyle [2]\\text{   }{{{{cons}}}}_{wind, l, y} - {{{{expd}}}}_{wind, l, y, {operate}, wf} = 0$"
      ],
      "text/plain": [
       "<IPython.core.display.Math object>"
      ]
     },
     "metadata": {},
     "output_type": "display_data"
    },
    {
     "data": {
      "text/latex": [
       "$\\displaystyle [4]\\text{   }-{{{rlse}}}_{power, l, q} + {{{prod}}}_{power, l, q, {operate}, pv} + {{{{prod}}}}_{power, l, q, {operate}, wf} - {{{{expd}}}}_{power, l, q, {operate}, lii.charge} + {{{{prod}}}}_{power, l, q, {operate}, lii.discharge} = 0$"
      ],
      "text/plain": [
       "<IPython.core.display.Math object>"
      ]
     },
     "metadata": {},
     "output_type": "display_data"
    },
    {
     "data": {
      "text/latex": [
       "$\\displaystyle [29]\\text{   }-{{{{inv}}}}_{power.lii, l, q} + {{{{inv}}}}_{power.lii, l, q-1} + {{{{prod}}}}_{power.lii, l, q, {operate}, lii.charge} - {{{{expd}}}}_{power.lii, l, q, {operate}, lii.discharge} = 0$"
      ],
      "text/plain": [
       "<IPython.core.display.Math object>"
      ]
     },
     "metadata": {},
     "output_type": "display_data"
    },
    {
     "data": {
      "text/markdown": [
       "### Mapping Constraint Sets"
      ],
      "text/plain": [
       "<IPython.core.display.Markdown object>"
      ]
     },
     "metadata": {},
     "output_type": "display_data"
    },
    {
     "data": {
      "text/latex": [
       "$\\displaystyle [10]\\text{   }{{{{opr}}}}_{wf, l, y} - \\sum_{i \\in q} {{{{opr}}}}_{wf, l, i} = 0$"
      ],
      "text/plain": [
       "<IPython.core.display.Math object>"
      ]
     },
     "metadata": {},
     "output_type": "display_data"
    },
    {
     "data": {
      "text/latex": [
       "$\\displaystyle [16]\\text{   }{{{{opr}}}}_{pv, l, y} - \\sum_{i \\in q} {{{{opr}}}}_{pv, l, i} = 0$"
      ],
      "text/plain": [
       "<IPython.core.display.Math object>"
      ]
     },
     "metadata": {},
     "output_type": "display_data"
    },
    {
     "data": {
      "text/latex": [
       "$\\displaystyle [28]\\text{   }{{{{inv}}}}_{power.lii, l, y} - \\sum_{i \\in q} {{{{inv}}}}_{power.lii, l, i} = 0$"
      ],
      "text/plain": [
       "<IPython.core.display.Math object>"
      ]
     },
     "metadata": {},
     "output_type": "display_data"
    },
    {
     "data": {
      "text/latex": [
       "$\\displaystyle [32]\\text{   }{{{{opr}}}}_{lii.charge, l, y} - \\sum_{i \\in q} {{{{opr}}}}_{lii.charge, l, i} = 0$"
      ],
      "text/plain": [
       "<IPython.core.display.Math object>"
      ]
     },
     "metadata": {},
     "output_type": "display_data"
    },
    {
     "data": {
      "text/latex": [
       "$\\displaystyle [36]\\text{   }{{{{opr}}}}_{lii.discharge, l, y} - \\sum_{i \\in q} {{{{opr}}}}_{lii.discharge, l, i} = 0$"
      ],
      "text/plain": [
       "<IPython.core.display.Math object>"
      ]
     },
     "metadata": {},
     "output_type": "display_data"
    },
    {
     "data": {
      "text/latex": [
       "$\\displaystyle [39]\\text{   }{{{spend}}}_{usd, l, y} - {{{{spend}}}}_{usd, l, y, {capacity}, wf} - {{{{spend}}}}_{usd, l, y, {operate}, wf} - {{{{spend}}}}_{usd, l, y, {capacity}, pv} - {{{{spend}}}}_{usd, l, y, {operate}, pv} - {{{{spend}}}}_{usd, l, y, {invcapacity}, power.lii} - {{{{spend}}}}_{usd, l, y, {inventory}, power.lii} = 0$"
      ],
      "text/plain": [
       "<IPython.core.display.Math object>"
      ]
     },
     "metadata": {},
     "output_type": "display_data"
    },
    {
     "data": {
      "text/markdown": [
       "###  Function Sets"
      ],
      "text/plain": [
       "<IPython.core.display.Markdown object>"
      ]
     },
     "metadata": {},
     "output_type": "display_data"
    },
    {
     "data": {
      "text/latex": [
       "$\\displaystyle {{spend}}_{usd, l, y{0}}$"
      ],
      "text/plain": [
       "<IPython.core.display.Math object>"
      ]
     },
     "metadata": {},
     "output_type": "display_data"
    }
   ],
   "source": [
    "m.show()"
   ]
  },
  {
   "cell_type": "code",
   "execution_count": 15,
   "id": "fe91fb8f",
   "metadata": {},
   "outputs": [
    {
     "data": {
      "text/latex": [
       "$\\displaystyle {{{prod}}}_{power.lii, l, q{0}, operate, lii.charge}=6.882716049382658$"
      ],
      "text/plain": [
       "<IPython.core.display.Math object>"
      ]
     },
     "metadata": {},
     "output_type": "display_data"
    },
    {
     "data": {
      "text/latex": [
       "$\\displaystyle {{{prod}}}_{power.lii, l, q{1}, operate, lii.charge}=20.27777777777778$"
      ],
      "text/plain": [
       "<IPython.core.display.Math object>"
      ]
     },
     "metadata": {},
     "output_type": "display_data"
    },
    {
     "data": {
      "text/latex": [
       "$\\displaystyle {{{prod}}}_{power.lii, l, q{2}, operate, lii.charge}=0.0$"
      ],
      "text/plain": [
       "<IPython.core.display.Math object>"
      ]
     },
     "metadata": {},
     "output_type": "display_data"
    },
    {
     "data": {
      "text/latex": [
       "$\\displaystyle {{{prod}}}_{power.lii, l, q{3}, operate, lii.charge}=0.0$"
      ],
      "text/plain": [
       "<IPython.core.display.Math object>"
      ]
     },
     "metadata": {},
     "output_type": "display_data"
    }
   ],
   "source": [
    "m.produce(m.power.lii, m.lii.charge.operate, m.q).sol()"
   ]
  },
  {
   "cell_type": "markdown",
   "id": "946d48b7",
   "metadata": {},
   "source": [
    "The amount discharged from inventory is:"
   ]
  },
  {
   "cell_type": "code",
   "execution_count": 16,
   "id": "00d675ad",
   "metadata": {},
   "outputs": [
    {
     "data": {
      "text/latex": [
       "$\\displaystyle {{{prod}}}_{power, l, q{0}, operate, lii.discharge}=0.0$"
      ],
      "text/plain": [
       "<IPython.core.display.Math object>"
      ]
     },
     "metadata": {},
     "output_type": "display_data"
    },
    {
     "data": {
      "text/latex": [
       "$\\displaystyle {{{prod}}}_{power, l, q{1}, operate, lii.discharge}=0.0$"
      ],
      "text/plain": [
       "<IPython.core.display.Math object>"
      ]
     },
     "metadata": {},
     "output_type": "display_data"
    },
    {
     "data": {
      "text/latex": [
       "$\\displaystyle {{{prod}}}_{power, l, q{2}, operate, lii.discharge}=24.444444444444443$"
      ],
      "text/plain": [
       "<IPython.core.display.Math object>"
      ]
     },
     "metadata": {},
     "output_type": "display_data"
    },
    {
     "data": {
      "text/latex": [
       "$\\displaystyle {{{prod}}}_{power, l, q{3}, operate, lii.discharge}=0.0$"
      ],
      "text/plain": [
       "<IPython.core.display.Math object>"
      ]
     },
     "metadata": {},
     "output_type": "display_data"
    }
   ],
   "source": [
    "m.produce(m.power, m.lii.discharge.operate, m.q).sol()"
   ]
  },
  {
   "cell_type": "markdown",
   "id": "f152fbfc",
   "metadata": {},
   "source": [
    "### Integer Decisions \n",
    "\n",
    "All the operations are setup in this case"
   ]
  },
  {
   "cell_type": "code",
   "execution_count": 17,
   "id": "7ba53e91",
   "metadata": {},
   "outputs": [
    {
     "data": {
      "text/latex": [
       "$\\displaystyle {{{\\breve{{cap}^{P}}}}}_{wf, l, y{0}}=1.0$"
      ],
      "text/plain": [
       "<IPython.core.display.Math object>"
      ]
     },
     "metadata": {},
     "output_type": "display_data"
    },
    {
     "data": {
      "text/latex": [
       "$\\displaystyle {{{\\breve{{cap}^{P}}}}}_{pv, l, y{0}}=1.0$"
      ],
      "text/plain": [
       "<IPython.core.display.Math object>"
      ]
     },
     "metadata": {},
     "output_type": "display_data"
    }
   ],
   "source": [
    "m.capacity.reporting.sol()"
   ]
  },
  {
   "cell_type": "code",
   "execution_count": 18,
   "id": "dafa2788",
   "metadata": {},
   "outputs": [
    {
     "data": {
      "text/latex": [
       "$\\displaystyle {{{cap}^{P}}}_{wf, l, y{0}}=100.0$"
      ],
      "text/plain": [
       "<IPython.core.display.Math object>"
      ]
     },
     "metadata": {},
     "output_type": "display_data"
    },
    {
     "data": {
      "text/latex": [
       "$\\displaystyle {{{cap}^{P}}}_{pv, l, y{0}}=100.0$"
      ],
      "text/plain": [
       "<IPython.core.display.Math object>"
      ]
     },
     "metadata": {},
     "output_type": "display_data"
    },
    {
     "data": {
      "text/latex": [
       "$\\displaystyle {{{cap}^{P}}}_{lii.charge, l, y{0}}=100.0$"
      ],
      "text/plain": [
       "<IPython.core.display.Math object>"
      ]
     },
     "metadata": {},
     "output_type": "display_data"
    },
    {
     "data": {
      "text/latex": [
       "$\\displaystyle {{{cap}^{P}}}_{lii.discharge, l, y{0}}=100.0$"
      ],
      "text/plain": [
       "<IPython.core.display.Math object>"
      ]
     },
     "metadata": {},
     "output_type": "display_data"
    }
   ],
   "source": [
    "m.capacity.sol()"
   ]
  }
 ],
 "metadata": {
  "kernelspec": {
   "display_name": ".venv",
   "language": "python",
   "name": "python3"
  },
  "language_info": {
   "codemirror_mode": {
    "name": "ipython",
    "version": 3
   },
   "file_extension": ".py",
   "mimetype": "text/x-python",
   "name": "python",
   "nbconvert_exporter": "python",
   "pygments_lexer": "ipython3",
   "version": "3.13.7"
  }
 },
 "nbformat": 4,
 "nbformat_minor": 5
}