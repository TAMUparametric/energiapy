{
 "cells": [
  {
   "cell_type": "markdown",
   "id": "f461a066",
   "metadata": {},
   "source": [
    "# ``Recipe`` Cookbook \n",
    "\n",
    "``cookbook`` contains ``Recipe``s to build ``Aspect``s. "
   ]
  },
  {
   "cell_type": "code",
   "execution_count": 13,
   "id": "56285a82",
   "metadata": {},
   "outputs": [],
   "source": [
    "from energia import Model, Process"
   ]
  },
  {
   "cell_type": "markdown",
   "id": "84a2635b",
   "metadata": {},
   "source": [
    "## Accessing ``Recipe``s\n",
    "\n",
    "One ``Recipe`` for a particular aspect is only called once, when the ``Aspect`` is called for the first time. "
   ]
  },
  {
   "cell_type": "code",
   "execution_count": 14,
   "id": "d316409f",
   "metadata": {},
   "outputs": [
    {
     "data": {
      "text/plain": [
       "{'capacity': capacity,\n",
       " 'setup': setup,\n",
       " 'dismantle': dismantle,\n",
       " 'operate': operate,\n",
       " 'rampup': rampup,\n",
       " 'rampdown': rampdown,\n",
       " 'produce': produce,\n",
       " 'expend': expend,\n",
       " 'ship_in': ship_in,\n",
       " 'ship_out': ship_out,\n",
       " 'invcapacity': invcapacity,\n",
       " 'invdismantle': invdismantle,\n",
       " 'invsetup': invsetup,\n",
       " 'inventory': inventory,\n",
       " 'consume': consume,\n",
       " 'release': release,\n",
       " 'buy': buy,\n",
       " 'sell': sell,\n",
       " 'earn': earn,\n",
       " 'spend': spend,\n",
       " 'emit': emit,\n",
       " 'abate': abate,\n",
       " 'benefit': benefit,\n",
       " 'detriment': detriment,\n",
       " 'dispose': dispose,\n",
       " 'use': use}"
      ]
     },
     "execution_count": 14,
     "metadata": {},
     "output_type": "execute_result"
    }
   ],
   "source": [
    "m = Model()\n",
    "m.cookbook"
   ]
  },
  {
   "cell_type": "markdown",
   "id": "01087e9e",
   "metadata": {},
   "source": [
    "## ``Recipe`` Information\n",
    "\n",
    "``Recipe``s contain information regarding the primary component type. \n",
    "\n",
    "``add`` and ``sub`` are control ``Aspect``s, if the ``Aspect`` is a ``State``\n",
    "\n",
    "``bound`` is an ``Aspect`` that provides a (scaled) bound"
   ]
  },
  {
   "cell_type": "code",
   "execution_count": 15,
   "id": "6d612c80",
   "metadata": {},
   "outputs": [
    {
     "data": {
      "text/plain": [
       "{'name': 'operate',\n",
       " 'kind': energia.modeling.variables.states.SetPoint,\n",
       " 'primary_type': (energia.components.operation.process.Process,\n",
       "  energia.components.operation.transport.Transport),\n",
       " 'label': 'Capacity Utilization',\n",
       " 'add': 'rampup',\n",
       " 'sub': 'rampdown',\n",
       " 'bound': 'capacity',\n",
       " 'ctrl': '',\n",
       " 'ispos': True,\n",
       " 'nn': True,\n",
       " 'latex': '{opr}',\n",
       " 'args': {'primary_type': (energia.components.operation.process.Process,\n",
       "   energia.components.operation.transport.Transport),\n",
       "  'label': 'Capacity Utilization',\n",
       "  'add': 'rampup',\n",
       "  'sub': 'rampdown',\n",
       "  'bound': 'capacity',\n",
       "  'ispos': True,\n",
       "  'nn': True,\n",
       "  'latex': '{opr}'}}"
      ]
     },
     "execution_count": 15,
     "metadata": {},
     "output_type": "execute_result"
    }
   ],
   "source": [
    "m.cookbook['operate'].__dict__"
   ]
  },
  {
   "cell_type": "markdown",
   "id": "d5fceddf",
   "metadata": {},
   "source": [
    "## Creating Your Own ``Recipe``\n",
    "\n",
    "Your own ``Recipe``s can be added as shown:"
   ]
  },
  {
   "cell_type": "code",
   "execution_count": 16,
   "id": "7dc21a19",
   "metadata": {},
   "outputs": [],
   "source": [
    "from energia.modeling.variables.states import State\n",
    "\n",
    "m.Recipe('feel', kind=State, primary_type=Process, ispos=False)"
   ]
  }
 ],
 "metadata": {
  "kernelspec": {
   "display_name": ".venv",
   "language": "python",
   "name": "python3"
  },
  "language_info": {
   "codemirror_mode": {
    "name": "ipython",
    "version": 3
   },
   "file_extension": ".py",
   "mimetype": "text/x-python",
   "name": "python",
   "nbconvert_exporter": "python",
   "pygments_lexer": "ipython3",
   "version": "3.13.9"
  }
 },
 "nbformat": 4,
 "nbformat_minor": 5
}
