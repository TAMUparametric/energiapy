{
 "cells": [
  {
   "cell_type": "markdown",
   "id": "575d2852",
   "metadata": {},
   "source": [
    "# List of Attributes"
   ]
  },
  {
   "cell_type": "code",
   "execution_count": null,
   "id": "060c6283",
   "metadata": {},
   "outputs": [],
   "source": [
    "from energia import Model, Resource\n",
    "\n",
    "m = Model()"
   ]
  },
  {
   "cell_type": "code",
   "execution_count": 7,
   "id": "3b4616cc",
   "metadata": {},
   "outputs": [
    {
     "data": {
      "text/plain": [
       "{'capacity': capacity,\n",
       " 'setup': setup,\n",
       " 'dismantle': dismantle,\n",
       " 'operate': operate,\n",
       " 'rampup': rampup,\n",
       " 'rampdown': rampdown,\n",
       " 'produce': produce,\n",
       " 'expend': expend,\n",
       " 'ship_in': ship_in,\n",
       " 'ship_out': ship_out,\n",
       " 'invcapacity': invcapacity,\n",
       " 'invdismantle': invdismantle,\n",
       " 'invsetup': invsetup,\n",
       " 'inventory': inventory,\n",
       " 'consume': consume,\n",
       " 'release': release,\n",
       " 'buy': buy,\n",
       " 'sell': sell,\n",
       " 'earn': earn,\n",
       " 'spend': spend,\n",
       " 'emit': emit,\n",
       " 'abate': abate,\n",
       " 'benefit': benefit,\n",
       " 'detriment': detriment,\n",
       " 'dispose': dispose,\n",
       " 'use': use}"
      ]
     },
     "execution_count": 7,
     "metadata": {},
     "output_type": "execute_result"
    }
   ],
   "source": [
    "m.cookbook"
   ]
  },
  {
   "cell_type": "markdown",
   "id": "50f5a899",
   "metadata": {},
   "source": [
    "Various constraints are need for the formulating the mathematical programming model. Here we include the cost, production, resource balance, demand, inventory, and network constraints."
   ]
  },
  {
   "cell_type": "markdown",
   "id": "20d9f1a4",
   "metadata": {},
   "source": [
    "## List of Parameters \n",
    "\n",
    "Special parameters are all in the ``manual``, along with ``Instruction``s to handle them  "
   ]
  },
  {
   "cell_type": "code",
   "execution_count": 8,
   "id": "e3c6d122",
   "metadata": {},
   "outputs": [
    {
     "data": {
      "text/plain": [
       "{'capex': capex,\n",
       " 'opex': opex,\n",
       " 'invcapex': invcapex,\n",
       " 'inventory_cost': inventory_cost,\n",
       " 'price': price}"
      ]
     },
     "execution_count": 8,
     "metadata": {},
     "output_type": "execute_result"
    }
   ],
   "source": [
    "m.manual"
   ]
  },
  {
   "cell_type": "markdown",
   "id": "ef26d124",
   "metadata": {},
   "source": [
    "# Aliasing \n",
    "\n",
    "Aliases can be set for any aspect"
   ]
  },
  {
   "cell_type": "code",
   "execution_count": 4,
   "id": "14125291",
   "metadata": {},
   "outputs": [
    {
     "name": "stderr",
     "output_type": "stream",
     "text": [
      "2025-10-22 13:58:14,695 [INFO] Balance for a in (l0, t0): initializing\n",
      "2025-10-22 13:58:14,696 [INFO] ✔ Completed in 0.00015926361083984375 seconds\n",
      "2025-10-22 13:58:14,696 [INFO] Binding consume in domain (a, l0, t0)\n",
      "2025-10-22 13:58:14,697 [INFO] ✔ Completed in 9.608268737792969e-05 seconds\n",
      "2025-10-22 13:58:14,697 [INFO] Balance for b in (l0, t0): initializing\n",
      "2025-10-22 13:58:14,697 [INFO] ✔ Completed in 0.00010633468627929688 seconds\n",
      "2025-10-22 13:58:14,698 [INFO] Binding consume in domain (b, l0, t0)\n",
      "2025-10-22 13:58:14,698 [INFO] ✔ Completed in 7.62939453125e-05 seconds\n"
     ]
    },
    {
     "data": {
      "text/plain": [
       "{'eat': consume}"
      ]
     },
     "execution_count": 4,
     "metadata": {},
     "output_type": "execute_result"
    }
   ],
   "source": [
    "m.alias('eat', of='consume')\n",
    "m.declare(Resource, ['a', 'b'])\n",
    "m.a.eat <= 20\n",
    "m.b.take <= 15\n",
    "m.registry"
   ]
  },
  {
   "cell_type": "markdown",
   "id": "a741424b",
   "metadata": {},
   "source": [
    "Preset aliases can be found in the ``directory``"
   ]
  },
  {
   "cell_type": "code",
   "execution_count": 5,
   "id": "b692484a",
   "metadata": {},
   "outputs": [
    {
     "data": {
      "text/plain": [
       "{'size': {'capacity': capacity},\n",
       " 'volume': {'capacity': capacity},\n",
       " 'throughput': {'capacity': capacity},\n",
       " 'potential': {'capacity': capacity},\n",
       " 'output': {'capacity': capacity},\n",
       " 'cap': {'capacity': capacity},\n",
       " 'install': {'setup': setup},\n",
       " 'build': {'setup': setup},\n",
       " 'construct': {'setup': setup},\n",
       " 'commission': {'setup': setup},\n",
       " 'remove': {'dismantle': dismantle},\n",
       " 'take_apart': {'dismantle': dismantle},\n",
       " 'decommission': {'dismantle': dismantle},\n",
       " 'disassemble': {'dismantle': dismantle},\n",
       " 'break_down': {'dismantle': dismantle},\n",
       " 'minimize': {'dismantle': dismantle},\n",
       " 'run': {'operate': operate},\n",
       " 'control': {'operate': operate},\n",
       " 'ramp_up': {'rampup': rampup},\n",
       " 'boost': {'rampup': rampup},\n",
       " 'accelerate': {'rampup': rampup},\n",
       " 'expand': {'rampup': rampup},\n",
       " 'scale_up': {'rampup': rampup},\n",
       " 'reduce': {'rampdown': rampdown},\n",
       " 'decrease': {'rampdown': rampdown},\n",
       " 'slow_down': {'rampdown': rampdown},\n",
       " 'scale_down': {'rampdown': rampdown},\n",
       " 'generate': {'produce': produce},\n",
       " 'manufacture': {'produce': produce},\n",
       " 'create': {'produce': produce},\n",
       " 'fabricate': {'produce': produce},\n",
       " 'yield': {'produce': produce},\n",
       " 'useup': {'expend': expend},\n",
       " 'use_up': {'expend': expend},\n",
       " 'utilize': {'expend': expend},\n",
       " 'import': {'ship_in': ship_in},\n",
       " 'deliver_to': {'ship_in': ship_in},\n",
       " 'bring_in': {'ship_in': ship_in},\n",
       " 'transport_in': {'ship_in': ship_in},\n",
       " 'send': {'ship_out': ship_out},\n",
       " 'export': {'ship_out': ship_out},\n",
       " 'dispatch': {'ship_out': ship_out},\n",
       " 'deliver': {'ship_out': ship_out},\n",
       " 'transport_out': {'ship_out': ship_out},\n",
       " 'inv': {'inventory': inventory},\n",
       " 'stock': {'inventory': inventory},\n",
       " 'storage': {'inventory': inventory},\n",
       " 'reserve': {'inventory': inventory},\n",
       " 'buffer': {'inventory': inventory},\n",
       " 'take': {'consume': consume},\n",
       " 'absorb': {'consume': consume},\n",
       " 'deplete': {'consume': consume},\n",
       " 'procure': {'consume': consume},\n",
       " 'obtain': {'consume': consume},\n",
       " 'free': {'release': release},\n",
       " 'deploy': {'release': release},\n",
       " 'liberate': {'release': release},\n",
       " 'give_off': {'release': release},\n",
       " 'exhale': {'release': release},\n",
       " 'radiate': {'release': release},\n",
       " 'demand': {'release': release},\n",
       " 'purchase': {'buy': buy},\n",
       " 'acquire': {'buy': buy},\n",
       " 'order': {'buy': buy},\n",
       " 'market': {'sell': sell},\n",
       " 'retail': {'sell': sell},\n",
       " 'gain': {'earn': earn},\n",
       " 'receive': {'earn': earn},\n",
       " 'collect': {'earn': earn},\n",
       " 'accrue': {'earn': earn},\n",
       " 'credit': {'earn': earn},\n",
       " 'pay': {'spend': spend},\n",
       " 'expense': {'spend': spend},\n",
       " 'debit': {'spend': spend},\n",
       " 'emission': {'emit': emit},\n",
       " 'expel': {'emit': emit},\n",
       " 'pollute': {'emit': emit},\n",
       " 'pollution': {'emit': emit},\n",
       " 'diminish': {'abate': abate},\n",
       " 'lessen': {'abate': abate},\n",
       " 'curtail': {'abate': abate},\n",
       " 'sequester': {'abate': abate},\n",
       " 'advantage': {'benefit': benefit},\n",
       " 'profit': {'benefit': benefit},\n",
       " 'reward': {'benefit': benefit},\n",
       " 'value': {'benefit': benefit},\n",
       " 'damage': {'detriment': detriment},\n",
       " 'harm': {'detriment': detriment},\n",
       " 'disadvantage': {'detriment': detriment},\n",
       " 'discard': {'dispose': dispose},\n",
       " 'eliminate': {'dispose': dispose},\n",
       " 'get_rid_of': {'dispose': dispose},\n",
       " 'dump': {'dispose': dispose},\n",
       " 'employ': {'use': use},\n",
       " 'apply': {'use': use},\n",
       " 'exploit': {'use': use},\n",
       " 'inventory_setup': {'invsetup': invsetup},\n",
       " 'inv_install': {'invsetup': invsetup},\n",
       " 'inv_build': {'invsetup': invsetup},\n",
       " 'inv_construct': {'invsetup': invsetup},\n",
       " 'inv_commission': {'invsetup': invsetup},\n",
       " 'stock_install': {'invsetup': invsetup},\n",
       " 'stock_build': {'invsetup': invsetup},\n",
       " 'stock_construct': {'invsetup': invsetup},\n",
       " 'stock_commission': {'invsetup': invsetup},\n",
       " 'storage_install': {'invsetup': invsetup},\n",
       " 'storage_build': {'invsetup': invsetup},\n",
       " 'storage_construct': {'invsetup': invsetup},\n",
       " 'storage_commission': {'invsetup': invsetup},\n",
       " 'reserve_install': {'invsetup': invsetup},\n",
       " 'reserve_build': {'invsetup': invsetup},\n",
       " 'reserve_construct': {'invsetup': invsetup},\n",
       " 'reserve_commission': {'invsetup': invsetup},\n",
       " 'buffer_install': {'invsetup': invsetup},\n",
       " 'buffer_build': {'invsetup': invsetup},\n",
       " 'buffer_construct': {'invsetup': invsetup},\n",
       " 'buffer_commission': {'invsetup': invsetup},\n",
       " 'inventory_capacity': {'invcapacity': invcapacity},\n",
       " 'inv_size': {'invcapacity': invcapacity},\n",
       " 'inv_volume': {'invcapacity': invcapacity},\n",
       " 'inv_throughput': {'invcapacity': invcapacity},\n",
       " 'inv_potential': {'invcapacity': invcapacity},\n",
       " 'inv_output': {'invcapacity': invcapacity},\n",
       " 'inv_cap': {'invcapacity': invcapacity},\n",
       " 'stock_size': {'invcapacity': invcapacity},\n",
       " 'stock_volume': {'invcapacity': invcapacity},\n",
       " 'stock_throughput': {'invcapacity': invcapacity},\n",
       " 'stock_potential': {'invcapacity': invcapacity},\n",
       " 'stock_output': {'invcapacity': invcapacity},\n",
       " 'stock_cap': {'invcapacity': invcapacity},\n",
       " 'storage_size': {'invcapacity': invcapacity},\n",
       " 'storage_volume': {'invcapacity': invcapacity},\n",
       " 'storage_throughput': {'invcapacity': invcapacity},\n",
       " 'storage_potential': {'invcapacity': invcapacity},\n",
       " 'storage_output': {'invcapacity': invcapacity},\n",
       " 'storage_cap': {'invcapacity': invcapacity},\n",
       " 'reserve_size': {'invcapacity': invcapacity},\n",
       " 'reserve_volume': {'invcapacity': invcapacity},\n",
       " 'reserve_throughput': {'invcapacity': invcapacity},\n",
       " 'reserve_potential': {'invcapacity': invcapacity},\n",
       " 'reserve_output': {'invcapacity': invcapacity},\n",
       " 'reserve_cap': {'invcapacity': invcapacity},\n",
       " 'buffer_size': {'invcapacity': invcapacity},\n",
       " 'buffer_volume': {'invcapacity': invcapacity},\n",
       " 'buffer_throughput': {'invcapacity': invcapacity},\n",
       " 'buffer_potential': {'invcapacity': invcapacity},\n",
       " 'buffer_output': {'invcapacity': invcapacity},\n",
       " 'buffer_cap': {'invcapacity': invcapacity},\n",
       " 'inventory_dismantle': {'invdismantle': invdismantle},\n",
       " 'inv_remove': {'invdismantle': invdismantle},\n",
       " 'inv_take_apart': {'invdismantle': invdismantle},\n",
       " 'inv_decommission': {'invdismantle': invdismantle},\n",
       " 'inv_disassemble': {'invdismantle': invdismantle},\n",
       " 'inv_break_down': {'invdismantle': invdismantle},\n",
       " 'inv_minimize': {'invdismantle': invdismantle},\n",
       " 'stock_remove': {'invdismantle': invdismantle},\n",
       " 'stock_take_apart': {'invdismantle': invdismantle},\n",
       " 'stock_decommission': {'invdismantle': invdismantle},\n",
       " 'stock_disassemble': {'invdismantle': invdismantle},\n",
       " 'stock_break_down': {'invdismantle': invdismantle},\n",
       " 'stock_minimize': {'invdismantle': invdismantle},\n",
       " 'storage_remove': {'invdismantle': invdismantle},\n",
       " 'storage_take_apart': {'invdismantle': invdismantle},\n",
       " 'storage_decommission': {'invdismantle': invdismantle},\n",
       " 'storage_disassemble': {'invdismantle': invdismantle},\n",
       " 'storage_break_down': {'invdismantle': invdismantle},\n",
       " 'storage_minimize': {'invdismantle': invdismantle},\n",
       " 'reserve_remove': {'invdismantle': invdismantle},\n",
       " 'reserve_take_apart': {'invdismantle': invdismantle},\n",
       " 'reserve_decommission': {'invdismantle': invdismantle},\n",
       " 'reserve_disassemble': {'invdismantle': invdismantle},\n",
       " 'reserve_break_down': {'invdismantle': invdismantle},\n",
       " 'reserve_minimize': {'invdismantle': invdismantle},\n",
       " 'buffer_remove': {'invdismantle': invdismantle},\n",
       " 'buffer_take_apart': {'invdismantle': invdismantle},\n",
       " 'buffer_decommission': {'invdismantle': invdismantle},\n",
       " 'buffer_disassemble': {'invdismantle': invdismantle},\n",
       " 'buffer_break_down': {'invdismantle': invdismantle},\n",
       " 'buffer_minimize': {'invdismantle': invdismantle},\n",
       " 'eat': {'consume': consume}}"
      ]
     },
     "execution_count": 5,
     "metadata": {},
     "output_type": "execute_result"
    }
   ],
   "source": [
    "m.directory"
   ]
  }
 ],
 "metadata": {
  "kernelspec": {
   "display_name": ".venv",
   "language": "python",
   "name": "python3"
  },
  "language_info": {
   "codemirror_mode": {
    "name": "ipython",
    "version": 3
   },
   "file_extension": ".py",
   "mimetype": "text/x-python",
   "name": "python",
   "nbconvert_exporter": "python",
   "pygments_lexer": "ipython3",
   "version": "3.13.9"
  }
 },
 "nbformat": 4,
 "nbformat_minor": 5
}
