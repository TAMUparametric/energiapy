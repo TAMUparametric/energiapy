{
 "cells": [
  {
   "cell_type": "markdown",
   "id": "6ebee265",
   "metadata": {},
   "source": [
    "# Dimensional Mapping"
   ]
  },
  {
   "cell_type": "markdown",
   "id": "dd57cb21",
   "metadata": {},
   "source": [
    "## Family\n",
    "\n",
    "Energia components belong to ``Dimension`` families, as shown:"
   ]
  },
  {
   "cell_type": "code",
   "execution_count": 1,
   "id": "9f656d2d",
   "metadata": {},
   "outputs": [
    {
     "data": {
      "text/plain": [
       "{energia.components.temporal.periods.Periods: ('time', 'periods'),\n",
       " energia.components.temporal.modes.Modes: ('time', 'modes'),\n",
       " energia.components.spatial.location.Location: ('space', 'locations'),\n",
       " energia.components.spatial.linkage.Linkage: ('space', 'linkages'),\n",
       " energia.components.commodity.currency.Currency: ('system', 'currencies'),\n",
       " energia.components.commodity.land.Land: ('system', 'lands'),\n",
       " energia.components.commodity.emission.Emission: ('system', 'emissions'),\n",
       " energia.components.commodity.material.Material: ('system', 'materials'),\n",
       " energia.components.commodity.resource.Resource: ('system', 'resources'),\n",
       " energia.components.operation.process.Process: ('system', 'processes'),\n",
       " energia.components.operation.transport.Transport: ('system', 'transports'),\n",
       " energia.components.operation.storage.Storage: ('system', 'storages'),\n",
       " energia.components.impact.categories.Environ: ('impact', 'environment'),\n",
       " energia.components.impact.categories.Social: ('impact', 'society'),\n",
       " energia.components.impact.categories.Economic: ('impact', 'economy'),\n",
       " energia.components.game.player.Player: ('game', 'players'),\n",
       " energia.components.game.couple.Interact: ('game', 'interacts'),\n",
       " energia.modeling.variables.control.Control: ('problem', 'controls'),\n",
       " energia.modeling.variables.states.Stream: ('problem', 'streams'),\n",
       " energia.modeling.variables.states.State: ('problem', 'states'),\n",
       " energia.modeling.variables.states.Consequence: ('problem', 'consequences')}"
      ]
     },
     "execution_count": 1,
     "metadata": {},
     "output_type": "execute_result"
    }
   ],
   "source": [
    "from energia import Model\n",
    "m = Model()\n",
    "m.familytree"
   ]
  },
  {
   "cell_type": "markdown",
   "id": "7e5f11b5",
   "metadata": {},
   "source": [
    "## Ancestry\n",
    "\n",
    "A convenient map of components collections to ``Dimensions`` can be accessed via ``ancestry``"
   ]
  },
  {
   "cell_type": "code",
   "execution_count": 2,
   "id": "5ca619d2",
   "metadata": {},
   "outputs": [
    {
     "data": {
      "text/plain": [
       "{'periods': 'time',\n",
       " 'modes': 'time',\n",
       " 'locations': 'space',\n",
       " 'linkages': 'space',\n",
       " 'currencies': 'system',\n",
       " 'lands': 'system',\n",
       " 'emissions': 'system',\n",
       " 'materials': 'system',\n",
       " 'resources': 'system',\n",
       " 'processes': 'system',\n",
       " 'transports': 'system',\n",
       " 'storages': 'system',\n",
       " 'environment': 'impact',\n",
       " 'society': 'impact',\n",
       " 'economy': 'impact',\n",
       " 'players': 'game',\n",
       " 'interacts': 'game',\n",
       " 'controls': 'problem',\n",
       " 'streams': 'problem',\n",
       " 'states': 'problem',\n",
       " 'consequences': 'problem'}"
      ]
     },
     "execution_count": 2,
     "metadata": {},
     "output_type": "execute_result"
    }
   ],
   "source": [
    "m.ancestry"
   ]
  }
 ],
 "metadata": {
  "kernelspec": {
   "display_name": ".venv",
   "language": "python",
   "name": "python3"
  },
  "language_info": {
   "codemirror_mode": {
    "name": "ipython",
    "version": 3
   },
   "file_extension": ".py",
   "mimetype": "text/x-python",
   "name": "python",
   "nbconvert_exporter": "python",
   "pygments_lexer": "ipython3",
   "version": "3.13.9"
  }
 },
 "nbformat": 4,
 "nbformat_minor": 5
}
