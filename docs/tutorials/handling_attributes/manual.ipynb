{
 "cells": [
  {
   "cell_type": "markdown",
   "id": "a10d42f1",
   "metadata": {},
   "source": [
    "# ``Instruction`` Manual\n",
    "\n",
    "``manual`` contains ``Instruct``ions to handle input parameters."
   ]
  },
  {
   "cell_type": "code",
   "execution_count": 1,
   "id": "7593c802",
   "metadata": {},
   "outputs": [],
   "source": [
    "from energia import Model, Resource"
   ]
  },
  {
   "cell_type": "markdown",
   "id": "0d0fed49",
   "metadata": {},
   "source": [
    "## Accessing ``Instruction``s "
   ]
  },
  {
   "cell_type": "code",
   "execution_count": 2,
   "id": "5a11a81e",
   "metadata": {},
   "outputs": [
    {
     "data": {
      "text/plain": [
       "{'capex': capex,\n",
       " 'opex': opex,\n",
       " 'invcapex': invcapex,\n",
       " 'inventory_cost': inventory_cost,\n",
       " 'price': price}"
      ]
     },
     "execution_count": 2,
     "metadata": {},
     "output_type": "execute_result"
    }
   ],
   "source": [
    "m = Model()\n",
    "m.manual"
   ]
  },
  {
   "cell_type": "markdown",
   "id": "5884ec27",
   "metadata": {},
   "source": [
    "## ``Instruction`` Information\n",
    "\n",
    "An ``Instruction`` directs what ``Aspect`` a parameter will be multiplied with to get another. \n",
    "\n",
    "For example capex is an ``Operation``al parameter which has:\n",
    "\n",
    "- capacity as the deciding variable\n",
    "- spend as the dependant variable\n",
    "- a default resource key if needed "
   ]
  },
  {
   "cell_type": "code",
   "execution_count": 3,
   "id": "fcec22ad",
   "metadata": {},
   "outputs": [
    {
     "data": {
      "text/plain": [
       "{'name': 'capex',\n",
       " 'kind': energia._core._operation._Operation,\n",
       " 'deciding': 'capacity',\n",
       " 'depending': 'spend',\n",
       " 'default': 'money',\n",
       " 'label': 'Capital Expenditure',\n",
       " 'model': None}"
      ]
     },
     "execution_count": 3,
     "metadata": {},
     "output_type": "execute_result"
    }
   ],
   "source": [
    "m.manual['capex'].__dict__"
   ]
  },
  {
   "cell_type": "markdown",
   "id": "906e8ca4",
   "metadata": {},
   "source": [
    "## Creating Your Own ``Instruction``\n",
    "\n",
    "Your own ``Instruction`` can be added as shown:"
   ]
  },
  {
   "cell_type": "code",
   "execution_count": 4,
   "id": "ada597a1",
   "metadata": {},
   "outputs": [],
   "source": [
    "m.Instruction(\n",
    "    name='gravity', kind=Resource, deciding='mass', depending='weight', default=\"g\"\n",
    ")"
   ]
  }
 ],
 "metadata": {
  "kernelspec": {
   "display_name": ".venv",
   "language": "python",
   "name": "python3"
  },
  "language_info": {
   "codemirror_mode": {
    "name": "ipython",
    "version": 3
   },
   "file_extension": ".py",
   "mimetype": "text/x-python",
   "name": "python",
   "nbconvert_exporter": "python",
   "pygments_lexer": "ipython3",
   "version": "3.13.9"
  }
 },
 "nbformat": 4,
 "nbformat_minor": 5
}
