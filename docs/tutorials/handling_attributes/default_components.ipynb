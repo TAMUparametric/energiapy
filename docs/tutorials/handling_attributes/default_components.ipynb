{
 "cells": [
  {
   "cell_type": "markdown",
   "id": "9533b2f2",
   "metadata": {},
   "source": [
    "# Default Components\n",
    "\n",
    "These are functions for creating default components in Energia \n",
    "\n",
    "These are used internally, but can be accessed by the user as well, simply by using the attributes show in the keys"
   ]
  },
  {
   "cell_type": "code",
   "execution_count": null,
   "id": "7135547c",
   "metadata": {},
   "outputs": [
    {
     "data": {
      "text/plain": [
       "{'l': <bound method Model._l0 of m>,\n",
       " 'l0': <bound method Model._l0 of m>,\n",
       " 't0': <bound method Model._t0 of m>,\n",
       " 't': <bound method Model._t0 of m>,\n",
       " 'money': <bound method Model._cash of m>}"
      ]
     },
     "execution_count": 1,
     "metadata": {},
     "output_type": "execute_result"
    }
   ],
   "source": [
    "from energia import Model\n",
    "\n",
    "m = Model()\n",
    "m.default_components"
   ]
  },
  {
   "cell_type": "code",
   "execution_count": 3,
   "id": "2a62e74a",
   "metadata": {},
   "outputs": [
    {
     "data": {
      "text/plain": [
       "(cash, energia.components.commodity.currency.Currency)"
      ]
     },
     "execution_count": 3,
     "metadata": {},
     "output_type": "execute_result"
    }
   ],
   "source": [
    "m.money, type(m.money)"
   ]
  }
 ],
 "metadata": {
  "kernelspec": {
   "display_name": ".venv",
   "language": "python",
   "name": "python3"
  },
  "language_info": {
   "codemirror_mode": {
    "name": "ipython",
    "version": 3
   },
   "file_extension": ".py",
   "mimetype": "text/x-python",
   "name": "python",
   "nbconvert_exporter": "python",
   "pygments_lexer": "ipython3",
   "version": "3.13.9"
  }
 },
 "nbformat": 4,
 "nbformat_minor": 5
}
