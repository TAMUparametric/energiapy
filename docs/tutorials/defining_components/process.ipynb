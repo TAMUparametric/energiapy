{
 "cells": [
  {
   "cell_type": "markdown",
   "id": "92578ebd",
   "metadata": {},
   "source": [
    "# Processes \n",
    "\n",
    "Processes convert a set of resources into another. The balance of this conversion is provided by the user (see section Conversion under the Defining Resources Tutorial). A few examples are list: \n"
   ]
  },
  {
   "cell_type": "markdown",
   "id": "517c3188",
   "metadata": {},
   "source": [
    "## General Setup \n",
    "\n",
    "Consider the processes, Wind Farm (wf) and Proton Exchange Membrane Electrolysis (pem)\n",
    "These require the resource wind, power, water (h2o), hydrogen (h2), oxygen (o2)\n",
    "\n",
    "wind and h2o can be consumed, there is a demand for hydrogen and oxygen can be released"
   ]
  },
  {
   "cell_type": "code",
   "execution_count": 1,
   "id": "fea1368d",
   "metadata": {},
   "outputs": [
    {
     "name": "stdout",
     "output_type": "stream",
     "text": [
      "--- General Resource Balance for wind in (l, y): initializing constraint, adding consume(wind, l, y)\n",
      "    Completed in 0.00011754035949707031 seconds\n",
      "--- General Resource Balance for h2o in (l, y): initializing constraint, adding consume(h2o, l, y)\n",
      "    Completed in 8.940696716308594e-05 seconds\n",
      "--- General Resource Balance for h2 in (l, q): initializing constraint, adding release(h2, l, q)\n",
      "    Completed in 8.630752563476562e-05 seconds\n",
      "--- Binding release in domain (h2, l, q)\n",
      "    Completed in 0.00024199485778808594 seconds\n",
      "--- General Resource Balance for o2 in (l, y): initializing constraint, adding release(o2, l, y)\n",
      "    Completed in 7.367134094238281e-05 seconds\n"
     ]
    }
   ],
   "source": [
    "from energia import Currency, Process, Resource, Model, Periods\n",
    "\n",
    "m = Model()\n",
    "m.usd = Currency()\n",
    "m.q = Periods()\n",
    "m.y = 4 * m.q\n",
    "m.declare(Resource, ['wind', 'power', 'h2o', 'h2', 'o2'])\n",
    "m.declare(Process, ['wf', 'pem'])\n",
    "\n",
    "\n",
    "m.wind.consume == True\n",
    "m.h2o.consume == True\n",
    "\n",
    "m.h2.release.prep(180) >= [0.6, 0.7, 0.8, 0.3]\n",
    "m.o2.release == True"
   ]
  },
  {
   "cell_type": "markdown",
   "id": "045d8ef4",
   "metadata": {},
   "source": [
    "## With Positive Basis \n",
    "\n",
    "The basis is provided in the format Process(Resource | Conversion) For example, in the case of wind farm the basis is provided as power produced. Thus all the values for usd.spend need to be provided on the basis of power production "
   ]
  },
  {
   "cell_type": "code",
   "execution_count": 2,
   "id": "99158477",
   "metadata": {},
   "outputs": [
    {
     "name": "stdout",
     "output_type": "stream",
     "text": [
      "--- Binding operate in domain (wf, l, q)\n",
      "    Completed in 0.00016069412231445312 seconds\n",
      "--- Mapping operate: (wf, l, q) → (wf, l, y)\n",
      "    Completed in 0.000s\n"
     ]
    }
   ],
   "source": [
    "m.wf(m.power) == -m.wind\n",
    "m.wf.operate.prep(norm=True) <= [0.9, 0.8, 0.5, 0.7]\n",
    "m.wf.capacity[m.usd.spend] == 990637 + 3354\n",
    "m.wf.operate[m.usd.spend] == 49"
   ]
  },
  {
   "cell_type": "markdown",
   "id": "b54def26",
   "metadata": {},
   "source": [
    "## With Negative Basis (or Conversion)\n",
    "\n",
    "PEMs are typically sized based on their power consumption, thus all the values provide should be on the basis of power expended in the process"
   ]
  },
  {
   "cell_type": "code",
   "execution_count": 3,
   "id": "1a72d179",
   "metadata": {},
   "outputs": [],
   "source": [
    "m.pem(-m.power) == 0.01248 * m.h2 + 0.09987 * m.o2 - 0.11235 * m.h2o\n",
    "m.pem.capacity[m.usd.spend] == 1.55 * 10**6"
   ]
  },
  {
   "cell_type": "markdown",
   "id": "e7fde250",
   "metadata": {},
   "source": [
    "## Locating Processes\n",
    "\n",
    "Processes need to located explicitly \n",
    "\n",
    "If using multiple locations, the user can use m.location.locate(.. list of processes ..)\n",
    "\n",
    "For single period models, it may be convenient to use m.locate(.. list of processes ..) which defaults to m.network.locate(..). Note that in a single location example, the location itself is the network"
   ]
  },
  {
   "cell_type": "code",
   "execution_count": 4,
   "id": "550f406f",
   "metadata": {},
   "outputs": [
    {
     "name": "stdout",
     "output_type": "stream",
     "text": [
      "--- Assuming  pem capacity is unbounded in (l, y)\n",
      "--- Assuming operation of pem is bound by capacity in (l, y)\n",
      "--- Binding operate in domain (pem, l, y)\n",
      "    Completed in 0.00010132789611816406 seconds\n",
      "--- General Resource Balance for power in (l, q): initializing constraint, adding expend(power, l, q, operate, pem)\n",
      "    Completed in 9.703636169433594e-05 seconds\n",
      "--- Mapping operate: (pem, l, q) → (pem, l, y)\n",
      "    Completed in 0.000s\n",
      "--- General Resource Balance for h2 in (l, q): adding produce(h2, l, q, operate, pem)\n",
      "    Completed in 9.870529174804688e-05 seconds\n",
      "--- General Resource Balance for o2 in (l, y): adding produce(o2, l, y, operate, pem)\n",
      "    Completed in 6.4849853515625e-05 seconds\n",
      "--- General Resource Balance for h2o in (l, y): adding expend(h2o, l, y, operate, pem)\n",
      "    Completed in 6.866455078125e-05 seconds\n",
      "--- Assuming  wf capacity is unbounded in (l, y)\n",
      "--- General Resource Balance for power in (l, q): adding produce(power, l, q, operate, wf)\n",
      "    Completed in 9.274482727050781e-05 seconds\n",
      "--- General Resource Balance for wind in (l, y): adding expend(wind, l, y, operate, wf)\n",
      "    Completed in 5.9604644775390625e-05 seconds\n"
     ]
    }
   ],
   "source": [
    "m.locate(m.pem, m.wf)"
   ]
  },
  {
   "cell_type": "markdown",
   "id": "98b51095",
   "metadata": {},
   "source": [
    "The balances arising from production are only assumed once the process has beeen located. Upon location, the model can be optimized"
   ]
  },
  {
   "cell_type": "code",
   "execution_count": 5,
   "id": "2cbb8a1b",
   "metadata": {},
   "outputs": [
    {
     "name": "stdout",
     "output_type": "stream",
     "text": [
      "--- Mapping spend: (usd, l, y, capacity, wf) → (usd, l, y)\n",
      "    Completed in 0.000s\n",
      "--- Mapping spend: (usd, l, y, operate, wf) → (usd, l, y)\n",
      "    Completed in 0.000s\n",
      "--- Mapping spend: (usd, l, y, capacity, pem) → (usd, l, y)\n",
      "    Completed in 0.000s\n",
      "--- Generating Program(m).mps\n",
      "--- Creating gurobi model for Program(m)\n",
      "Set parameter Username\n",
      "Academic license - for non-commercial use only - expires 2026-08-01\n",
      "Read MPS format model from file Program(m).mps\n",
      "Reading time = 0.00 seconds\n",
      "PROGRAM(M): 41 rows, 38 columns, 82 nonzeros\n",
      "--- Optimizing Program(m) using gurobi\n",
      "Gurobi Optimizer version 12.0.3 build v12.0.3rc0 (win64 - Windows 11.0 (26100.2))\n",
      "\n",
      "CPU model: 13th Gen Intel(R) Core(TM) i7-13700, instruction set [SSE2|AVX|AVX2]\n",
      "Thread count: 16 physical cores, 24 logical processors, using up to 24 threads\n",
      "\n",
      "Optimize a model with 41 rows, 38 columns and 82 nonzeros\n",
      "Model fingerprint: 0xa6fecba0\n",
      "Coefficient statistics:\n",
      "  Matrix range     [1e-02, 2e+06]\n",
      "  Objective range  [1e+00, 1e+00]\n",
      "  Bounds range     [0e+00, 0e+00]\n",
      "  RHS range        [6e-01, 2e+02]\n",
      "Presolve removed 29 rows and 22 columns\n",
      "Presolve time: 0.00s\n",
      "\n",
      "Solved in 0 iterations and 0.00 seconds (0.00 work units)\n",
      "Infeasible model\n",
      "--- Solution found. Use .output() to display it\n",
      "!!! No solution found. Check the model.\n"
     ]
    }
   ],
   "source": [
    "m.usd.spend.opt()\n",
    "m.capacity.output()"
   ]
  },
  {
   "cell_type": "markdown",
   "id": "be4a01d6",
   "metadata": {},
   "source": [
    "## Modeling Technology Choice\n",
    "\n",
    "Let us continue with the example, but provide another option for power generation (solar PV)"
   ]
  },
  {
   "cell_type": "code",
   "execution_count": 6,
   "id": "2a96a74c",
   "metadata": {},
   "outputs": [
    {
     "name": "stdout",
     "output_type": "stream",
     "text": [
      "--- General Resource Balance for solar in (l, y): initializing constraint, adding consume(solar, l, y)\n",
      "    Completed in 0.00011730194091796875 seconds\n",
      "--- Binding capacity in domain (pv, l, y)\n",
      "    Completed in 0.00010991096496582031 seconds\n",
      "--- Binding capacity in domain (pv, l, y)\n",
      "    Completed in 7.891654968261719e-05 seconds\n",
      "--- Binding operate in domain (pv, l, q)\n",
      "    Completed in 0.00034427642822265625 seconds\n",
      "--- Mapping operate: (pv, l, q) → (pv, l, y)\n",
      "    Completed in 0.000s\n",
      "--- General Resource Balance for power in (l, q): adding produce(power, l, q, operate, pv)\n",
      "    Completed in 9.703636169433594e-05 seconds\n",
      "--- General Resource Balance for solar in (l, y): adding expend(solar, l, y, operate, pv)\n",
      "    Completed in 6.008148193359375e-05 seconds\n"
     ]
    }
   ],
   "source": [
    "m.solar = Resource()\n",
    "m.solar.consume == True\n",
    "m.pv = Process()\n",
    "\n",
    "m.pv(m.power) == -1 * m.solar\n",
    "m.pv.capacity.x <= 30000\n",
    "m.pv.capacity.x >= 0\n",
    "m.pv.operate.prep(norm=True) <= [0.6, 0.8, 0.9, 0.7]\n",
    "m.pv.capacity[m.usd.spend] == 5670\n",
    "m.pv.operate[m.usd.spend] == 90\n",
    "\n",
    "m.locate(m.pv)"
   ]
  },
  {
   "cell_type": "markdown",
   "id": "c17b34ab",
   "metadata": {},
   "source": [
    "## Semi-continuous Bounds \n",
    "\n",
    "These can be set using .x for any aspect. In the below example, the maximum capacity of wind farm (if set up) is 30000\n",
    "The lower bound of 500 is only applied if wind farm is set up at all. Thus the values that wind farm can take are in the semi-continuous domain $\\{0\\} \\cup [500, 30000]$\n"
   ]
  },
  {
   "cell_type": "code",
   "execution_count": 7,
   "id": "3ebc4e54",
   "metadata": {},
   "outputs": [
    {
     "name": "stdout",
     "output_type": "stream",
     "text": [
      "--- Binding capacity in domain (wf, l, y)\n",
      "    Completed in 0.000164031982421875 seconds\n",
      "--- Binding capacity in domain (wf, l, y)\n",
      "    Completed in 0.00010991096496582031 seconds\n"
     ]
    }
   ],
   "source": [
    "m.wf.capacity.x <= 30000\n",
    "m.wf.capacity.x >= 500"
   ]
  },
  {
   "cell_type": "code",
   "execution_count": 8,
   "id": "dc2759c3",
   "metadata": {},
   "outputs": [
    {
     "name": "stdout",
     "output_type": "stream",
     "text": [
      "--- Generating Program(m).mps\n",
      "--- Creating gurobi model for Program(m)\n",
      "Warning: row name O0 in column section at line 146 not defined.\n",
      "Warning: row name C57 in column section at line 150 not defined.\n",
      "Read MPS format model from file Program(m).mps\n",
      "Reading time = 0.00 seconds\n",
      "PROGRAM(M): 57 rows, 54 columns, 121 nonzeros\n",
      "--- Optimizing Program(m) using gurobi\n",
      "Gurobi Optimizer version 12.0.3 build v12.0.3rc0 (win64 - Windows 11.0 (26100.2))\n",
      "\n",
      "CPU model: 13th Gen Intel(R) Core(TM) i7-13700, instruction set [SSE2|AVX|AVX2]\n",
      "Thread count: 16 physical cores, 24 logical processors, using up to 24 threads\n",
      "\n",
      "Optimize a model with 57 rows, 54 columns and 121 nonzeros\n",
      "Model fingerprint: 0xf00bc377\n",
      "Variable types: 52 continuous, 2 integer (2 binary)\n",
      "Coefficient statistics:\n",
      "  Matrix range     [1e-02, 2e+06]\n",
      "  Objective range  [1e+00, 1e+00]\n",
      "  Bounds range     [1e+00, 1e+00]\n",
      "  RHS range        [6e-01, 2e+02]\n",
      "Presolve removed 57 rows and 54 columns\n",
      "Presolve time: 0.00s\n",
      "Presolve: All rows and columns removed\n",
      "\n",
      "Explored 0 nodes (0 simplex iterations) in 0.00 seconds (0.00 work units)\n",
      "Thread count was 1 (of 24 available processors)\n",
      "\n",
      "Solution count 1: 6.70673e+10 \n",
      "\n",
      "Optimal solution found (tolerance 1.00e-04)\n",
      "Best objective 6.706730769231e+10, best bound 6.706730769231e+10, gap 0.0000%\n",
      "--- Solution found. Use .output() to display it\n",
      "--- Creating Solution object, check.solution\n"
     ]
    }
   ],
   "source": [
    "m.usd.spend.opt()"
   ]
  },
  {
   "cell_type": "markdown",
   "id": "d0376069",
   "metadata": {},
   "source": [
    "The solution for the two models can be compared"
   ]
  },
  {
   "cell_type": "code",
   "execution_count": 9,
   "id": "b7b52df6",
   "metadata": {},
   "outputs": [
    {
     "data": {
      "text/latex": [
       "$\\displaystyle {{{cap}}}_{wf, l, y{0}}=0.0$"
      ],
      "text/plain": [
       "<IPython.core.display.Math object>"
      ]
     },
     "metadata": {},
     "output_type": "display_data"
    },
    {
     "data": {
      "text/latex": [
       "$\\displaystyle {{{cap}}}_{pem, l, y{0}}=43269.230769230766$"
      ],
      "text/plain": [
       "<IPython.core.display.Math object>"
      ]
     },
     "metadata": {},
     "output_type": "display_data"
    },
    {
     "data": {
      "text/latex": [
       "$\\displaystyle {{{cap}}}_{pv, l, y{0}}=30000.0$"
      ],
      "text/plain": [
       "<IPython.core.display.Math object>"
      ]
     },
     "metadata": {},
     "output_type": "display_data"
    }
   ],
   "source": [
    "m.capacity.output(compare=True)"
   ]
  },
  {
   "cell_type": "markdown",
   "id": "660115bd",
   "metadata": {},
   "source": [
    "Note: binaries were only introduced in the second model"
   ]
  },
  {
   "cell_type": "code",
   "execution_count": 10,
   "id": "a47c6314",
   "metadata": {},
   "outputs": [
    {
     "data": {
      "text/latex": [
       "$\\displaystyle {{{\\breve{{cap}}}}}_{pv, l, y{0}}=1.0$"
      ],
      "text/plain": [
       "<IPython.core.display.Math object>"
      ]
     },
     "metadata": {},
     "output_type": "display_data"
    },
    {
     "data": {
      "text/latex": [
       "$\\displaystyle {{{\\breve{{cap}}}}}_{wf, l, y{0}}=0.0$"
      ],
      "text/plain": [
       "<IPython.core.display.Math object>"
      ]
     },
     "metadata": {},
     "output_type": "display_data"
    }
   ],
   "source": [
    "m.capacity.reporting.output(compare=True)"
   ]
  }
 ],
 "metadata": {
  "kernelspec": {
   "display_name": ".venv",
   "language": "python",
   "name": "python3"
  },
  "language_info": {
   "codemirror_mode": {
    "name": "ipython",
    "version": 3
   },
   "file_extension": ".py",
   "mimetype": "text/x-python",
   "name": "python",
   "nbconvert_exporter": "python",
   "pygments_lexer": "ipython3",
   "version": "3.13.8"
  }
 },
 "nbformat": 4,
 "nbformat_minor": 5
}
