{
 "cells": [
  {
   "attachments": {},
   "cell_type": "markdown",
   "metadata": {},
   "source": [
    "# Fetching NSRDB Data"
   ]
  },
  {
   "attachments": {},
   "cell_type": "markdown",
   "metadata": {},
   "source": [
    "The fetch_nsrdb function accesses the [National Solar Radiation Database (NSRDB)](https://nsrdb.nrel.gov/) hosted by NREL on a Amazon Web Services (AWS) cloud through the h5py module To access large datasets, an API key can be requested from NREL. Instructions on how to set up the API key can be found here : https://github.com/NREL/hsds-examples/blob/master/notebooks/03_NSRDB_introduction.ipynb. Download data at any latitude longitude (globally) or state-county (because of repetition of county names) pairs within the US. While HSDS allows you to splice datasets, the script allows you to also find means within ranges. Arrange data in a dataframe for multiscale analysis, with the temporal indices as tuples. [Can be saved as .csv/.txt/.json/.pkl]. "
   ]
  },
  {
   "cell_type": "code",
   "execution_count": 1,
   "metadata": {},
   "outputs": [],
   "source": [
    "import pandas\n",
    "from energia.utils.nsrdb import fetch_nsrdb_data"
   ]
  },
  {
   "attachments": {},
   "cell_type": "markdown",
   "metadata": {},
   "source": [
    "## Using coordinates"
   ]
  },
  {
   "attachments": {},
   "cell_type": "markdown",
   "metadata": {},
   "source": [
    "Coordinates can be used to download required data as shown below. An attrs list can be provided to download specific data such as: air_temperature, clearsky_dhi, clearsky_dni, clearsky_ghi, cloud_type, coordinates, dew_point, dhi, dni, fill_flag, ghi, meta, relative_humidity, solar_zenith_angle, surface_albedo, surface_pressure, time_index, total_precipitable_water, wind_direction, wind_speed"
   ]
  },
  {
   "cell_type": "code",
   "execution_count": 2,
   "metadata": {},
   "outputs": [],
   "source": [
    "coordinates, weather_data = fetch_nsrdb_data(\n",
    "    attrs=['ghi', 'wind_speed'],\n",
    "    year=2020,\n",
    "    resolution='hourly',\n",
    "    lat_lon=(29.56999969482422, -95.05999755859375),\n",
    ")"
   ]
  },
  {
   "cell_type": "code",
   "execution_count": 3,
   "metadata": {},
   "outputs": [
    {
     "data": {
      "text/html": [
       "<div>\n",
       "<style scoped>\n",
       "    .dataframe tbody tr th:only-of-type {\n",
       "        vertical-align: middle;\n",
       "    }\n",
       "\n",
       "    .dataframe tbody tr th {\n",
       "        vertical-align: top;\n",
       "    }\n",
       "\n",
       "    .dataframe thead th {\n",
       "        text-align: right;\n",
       "    }\n",
       "</style>\n",
       "<table border=\"1\" class=\"dataframe\">\n",
       "  <thead>\n",
       "    <tr style=\"text-align: right;\">\n",
       "      <th></th>\n",
       "      <th>ghi</th>\n",
       "      <th>wind_speed</th>\n",
       "    </tr>\n",
       "  </thead>\n",
       "  <tbody>\n",
       "    <tr>\n",
       "      <th>2020-01-01 00:00:00+00:00</th>\n",
       "      <td>0.0</td>\n",
       "      <td>0.55</td>\n",
       "    </tr>\n",
       "    <tr>\n",
       "      <th>2020-01-01 01:00:00+00:00</th>\n",
       "      <td>0.0</td>\n",
       "      <td>0.25</td>\n",
       "    </tr>\n",
       "    <tr>\n",
       "      <th>2020-01-01 02:00:00+00:00</th>\n",
       "      <td>0.0</td>\n",
       "      <td>0.20</td>\n",
       "    </tr>\n",
       "    <tr>\n",
       "      <th>2020-01-01 03:00:00+00:00</th>\n",
       "      <td>0.0</td>\n",
       "      <td>0.40</td>\n",
       "    </tr>\n",
       "    <tr>\n",
       "      <th>2020-01-01 04:00:00+00:00</th>\n",
       "      <td>0.0</td>\n",
       "      <td>0.50</td>\n",
       "    </tr>\n",
       "    <tr>\n",
       "      <th>...</th>\n",
       "      <td>...</td>\n",
       "      <td>...</td>\n",
       "    </tr>\n",
       "    <tr>\n",
       "      <th>2020-12-31 19:00:00+00:00</th>\n",
       "      <td>74.5</td>\n",
       "      <td>7.35</td>\n",
       "    </tr>\n",
       "    <tr>\n",
       "      <th>2020-12-31 20:00:00+00:00</th>\n",
       "      <td>62.0</td>\n",
       "      <td>7.35</td>\n",
       "    </tr>\n",
       "    <tr>\n",
       "      <th>2020-12-31 21:00:00+00:00</th>\n",
       "      <td>45.0</td>\n",
       "      <td>7.55</td>\n",
       "    </tr>\n",
       "    <tr>\n",
       "      <th>2020-12-31 22:00:00+00:00</th>\n",
       "      <td>95.5</td>\n",
       "      <td>7.05</td>\n",
       "    </tr>\n",
       "    <tr>\n",
       "      <th>2020-12-31 23:00:00+00:00</th>\n",
       "      <td>33.5</td>\n",
       "      <td>6.80</td>\n",
       "    </tr>\n",
       "  </tbody>\n",
       "</table>\n",
       "<p>8784 rows × 2 columns</p>\n",
       "</div>"
      ],
      "text/plain": [
       "                            ghi  wind_speed\n",
       "2020-01-01 00:00:00+00:00   0.0        0.55\n",
       "2020-01-01 01:00:00+00:00   0.0        0.25\n",
       "2020-01-01 02:00:00+00:00   0.0        0.20\n",
       "2020-01-01 03:00:00+00:00   0.0        0.40\n",
       "2020-01-01 04:00:00+00:00   0.0        0.50\n",
       "...                         ...         ...\n",
       "2020-12-31 19:00:00+00:00  74.5        7.35\n",
       "2020-12-31 20:00:00+00:00  62.0        7.35\n",
       "2020-12-31 21:00:00+00:00  45.0        7.55\n",
       "2020-12-31 22:00:00+00:00  95.5        7.05\n",
       "2020-12-31 23:00:00+00:00  33.5        6.80\n",
       "\n",
       "[8784 rows x 2 columns]"
      ]
     },
     "execution_count": 3,
     "metadata": {},
     "output_type": "execute_result"
    }
   ],
   "source": [
    "weather_data"
   ]
  },
  {
   "attachments": {},
   "cell_type": "markdown",
   "metadata": {},
   "source": [
    "In this example we will download weather data for every county at an hourly resolution in Texas using the fetch_nsrd_utils function. The centroids of each county can be downloaded from the following link: https://data.texas.gov/dataset/Texas-Counties-Centroid-Map/ups3-9e8m/data_preview. "
   ]
  },
  {
   "cell_type": "code",
   "execution_count": null,
   "metadata": {},
   "outputs": [],
   "source": [
    "county_df = pandas.read_csv('Texas_Counties_Centroid_Map.csv')\n",
    "county_list = county_df['CNTY_NM']"
   ]
  },
  {
   "cell_type": "code",
   "execution_count": null,
   "metadata": {},
   "outputs": [],
   "source": [
    "for county in county_list:\n",
    "    fetch_nsrdb_data(\n",
    "        attrs=['ghi', 'wind_speed'],\n",
    "        year=2020,\n",
    "        resolution='hourly',\n",
    "        lat_lon=(\n",
    "            county_df[county_df['CNTY_NM'] == county]['X (Lat)'].values[0],\n",
    "            county_df[county_df['CNTY_NM'] == county]['Y (Long)'].values[0],\n",
    "        ),\n",
    "    )[1].to_csv(f'{county}.csv')"
   ]
  },
  {
   "attachments": {},
   "cell_type": "markdown",
   "metadata": {},
   "source": [
    "## Using Attributes"
   ]
  },
  {
   "attachments": {},
   "cell_type": "markdown",
   "metadata": {},
   "source": [
    "fetch_nsrdb_data also allows you to skim and fetch data which match different specifications, e.g. wind data for collection point at the highest elevation in the county. The total list of specifications inclue 'max-population', 'max-elevation', 'max-landcover' 'min-population', 'min-elevation', 'min-landcover'. The state and county needs to be specified. Here we are downloading data for the year 2019 for Harris county in Texas at the collection point with minimum elevation."
   ]
  },
  {
   "cell_type": "code",
   "execution_count": null,
   "metadata": {},
   "outputs": [],
   "source": [
    "coordinates, weather_data = fetch_nsrdb_data(\n",
    "    attrs=[\n",
    "        'dni',\n",
    "        'dhi',\n",
    "        'wind_speed',\n",
    "        'ghi',\n",
    "        'air_temperature',\n",
    "        'dew_point',\n",
    "        'relative_humidity',\n",
    "        'surface_pressure',\n",
    "    ],\n",
    "    year=2019,\n",
    "    state='Texas',\n",
    "    county='Harris',\n",
    "    resolution='hourly',\n",
    "    get='min-elevation',\n",
    ")"
   ]
  },
  {
   "cell_type": "code",
   "execution_count": null,
   "metadata": {},
   "outputs": [],
   "source": [
    "weather_data"
   ]
  },
  {
   "cell_type": "code",
   "execution_count": null,
   "metadata": {},
   "outputs": [],
   "source": [
    "coordinates"
   ]
  },
  {
   "attachments": {},
   "cell_type": "markdown",
   "metadata": {},
   "source": [
    "Data can be concatenated for longer temporal periods"
   ]
  },
  {
   "cell_type": "code",
   "execution_count": null,
   "metadata": {},
   "outputs": [],
   "source": [
    "weather_houston = pandas.concat(\n",
    "    [\n",
    "        fetch_nsrdb_data(\n",
    "            attrs=[\n",
    "                'dni',\n",
    "                'dhi',\n",
    "                'wind_speed',\n",
    "                'ghi',\n",
    "                'air_temperature',\n",
    "                'dew_point',\n",
    "                'relative_humidity',\n",
    "                'surface_pressure',\n",
    "            ],\n",
    "            year=2016 + i,\n",
    "            state='Texas',\n",
    "            county='Harris',\n",
    "            resolution='hourly',\n",
    "            get='min-elevation',\n",
    "        )[1]\n",
    "        for i in range(5)\n",
    "    ]\n",
    ")\n",
    "weather_houston.index = pandas.to_datetime(weather_houston.index, utc=True)\n",
    "weather_houston.index = weather_houston.index.strftime('%m/%d/%Y, %r')\n",
    "weather_houston = weather_houston[~weather_houston.index.str.contains('02/29')]"
   ]
  },
  {
   "attachments": {},
   "cell_type": "markdown",
   "metadata": {},
   "source": [
    "## Resolutions"
   ]
  },
  {
   "attachments": {},
   "cell_type": "markdown",
   "metadata": {},
   "source": [
    "The base resolution is 'half-hourly'. 'hourly' and 'daily' resolutions average out the data over their respective time periods."
   ]
  }
 ],
 "metadata": {
  "kernelspec": {
   "display_name": ".venv",
   "language": "python",
   "name": "python3"
  },
  "language_info": {
   "codemirror_mode": {
    "name": "ipython",
    "version": 3
   },
   "file_extension": ".py",
   "mimetype": "text/x-python",
   "name": "python",
   "nbconvert_exporter": "python",
   "pygments_lexer": "ipython3",
   "version": "3.13.7"
  },
  "orig_nbformat": 4
 },
 "nbformat": 4,
 "nbformat_minor": 2
}
