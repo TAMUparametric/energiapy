{
 "cells": [
  {
   "cell_type": "markdown",
   "id": "4d7a4b68",
   "metadata": {},
   "source": [
    "# Initializing ``Model``s"
   ]
  },
  {
   "cell_type": "markdown",
   "id": "1df7fbbd",
   "metadata": {},
   "source": [
    "The central modeling object in Energia is the Model. Be sure to create and activate your environment before running any of the code in Tutorials and Examples. Instructions for the same can be found in the Installation tutorial.\n",
    "\n",
    "If you are unsure about what components you will need in modeling, use:"
   ]
  },
  {
   "cell_type": "code",
   "execution_count": 1,
   "id": "9869ef81",
   "metadata": {},
   "outputs": [],
   "source": [
    "from energia import *"
   ]
  },
  {
   "cell_type": "markdown",
   "id": "24ed4008",
   "metadata": {},
   "source": [
    "If you know what your need, provide the import individually"
   ]
  },
  {
   "cell_type": "code",
   "execution_count": 2,
   "id": "5cc7bb40",
   "metadata": {},
   "outputs": [],
   "source": [
    "from energia import Model, si_units, time_units"
   ]
  },
  {
   "cell_type": "markdown",
   "id": "be6998e9",
   "metadata": {},
   "source": [
    "Any of the components initialized using the functions in `energia.library.components` can also be provided using component definitions. For example, "
   ]
  },
  {
   "cell_type": "code",
   "execution_count": 3,
   "id": "a1b639a0",
   "metadata": {},
   "outputs": [],
   "source": [
    "m = Model(init=[si_units, time_units])"
   ]
  },
  {
   "cell_type": "markdown",
   "id": "a8c919eb",
   "metadata": {},
   "source": [
    "Is the same as,"
   ]
  },
  {
   "cell_type": "code",
   "execution_count": 4,
   "id": "f1eda3d8",
   "metadata": {},
   "outputs": [],
   "source": [
    "m = Model()\n",
    "\n",
    "# Base units\n",
    "m.m = Unit(label='m')  # meter\n",
    "m.kg = Unit(label='kg')  # kilogram\n",
    "\n",
    "m.km = 1000 * m.m  # kilometer\n",
    "\n",
    "# Derived units\n",
    "m.kW = 1000 * Unit(label='W')  # kilowatt\n",
    "m.MW = 1000 * m.kW  # megawatt\n",
    "m.GW = 1000 * m.MW  # gigawatt\n",
    "\n",
    "m.J = Unit(label='J')  # joule\n",
    "m.kJ = 1000 * m.J  # kilojoule\n",
    "m.MJ = 1000 * m.kJ  # megajoule\n",
    "\n",
    "# Time units\n",
    "m.h = TemporalScales([1, 365, 24, 60, 60], ['y', 'd', 'h', 'min', 's'])"
   ]
  },
  {
   "cell_type": "markdown",
   "id": "5089c606",
   "metadata": {},
   "source": [
    "You can check your definitions at any time"
   ]
  },
  {
   "cell_type": "code",
   "execution_count": 5,
   "id": "1b6d4687",
   "metadata": {},
   "outputs": [
    {
     "data": {
      "text/plain": [
       "[m, kg, km, kW, MW, GW, J, kJ, MJ]"
      ]
     },
     "execution_count": 5,
     "metadata": {},
     "output_type": "execute_result"
    }
   ],
   "source": [
    "m.units"
   ]
  },
  {
   "cell_type": "code",
   "execution_count": 6,
   "id": "38c927c2",
   "metadata": {},
   "outputs": [
    {
     "data": {
      "text/plain": [
       "[s, min, h, d, y]"
      ]
     },
     "execution_count": 6,
     "metadata": {},
     "output_type": "execute_result"
    }
   ],
   "source": [
    "m.periods"
   ]
  }
 ],
 "metadata": {
  "kernelspec": {
   "display_name": ".venv",
   "language": "python",
   "name": "python3"
  },
  "language_info": {
   "codemirror_mode": {
    "name": "ipython",
    "version": 3
   },
   "file_extension": ".py",
   "mimetype": "text/x-python",
   "name": "python",
   "nbconvert_exporter": "python",
   "pygments_lexer": "ipython3",
   "version": "3.13.8"
  }
 },
 "nbformat": 4,
 "nbformat_minor": 5
}
