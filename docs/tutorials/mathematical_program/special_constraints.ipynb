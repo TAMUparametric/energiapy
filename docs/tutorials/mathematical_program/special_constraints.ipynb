{
 "cells": [
  {
   "cell_type": "markdown",
   "id": "f4dcc634",
   "metadata": {},
   "source": [
    "# Special Constraints"
   ]
  },
  {
   "cell_type": "markdown",
   "id": "44c69df1",
   "metadata": {},
   "source": [
    "## Integer Cuts\n",
    "\n",
    "Integer cuts can be of many types, these assign a bound to the number of a particular component by some logic.\n",
    "\n",
    "See example below, where .x accesses the reporting variable (binary) related to the ``Aspect`` \n",
    "\n",
    "The binary equals 1 if the ``Aspect`` is non-zero, and 0 otherwise "
   ]
  },
  {
   "cell_type": "code",
   "execution_count": 19,
   "id": "1243d3bd",
   "metadata": {},
   "outputs": [
    {
     "name": "stderr",
     "output_type": "stream",
     "text": [
      "2025-10-22 14:26:56,471 [INFO] Balance for r1 in (l0, t0): initializing\n",
      "2025-10-22 14:26:56,472 [INFO] ✔ Completed in 0.00011444091796875 seconds\n",
      "2025-10-22 14:26:56,472 [INFO] Binding release in domain (r1, l0, t0)\n",
      "2025-10-22 14:26:56,473 [INFO] ✔ Completed in 0.00010824203491210938 seconds\n",
      "2025-10-22 14:26:56,473 [INFO] Balance for r2 in (l0, t0): initializing\n",
      "2025-10-22 14:26:56,473 [INFO] ✔ Completed in 0.00010204315185546875 seconds\n",
      "2025-10-22 14:26:56,474 [INFO] Binding consume in domain (r2, l0, t0)\n",
      "2025-10-22 14:26:56,474 [INFO] ✔ Completed in 6.508827209472656e-05 seconds\n",
      "2025-10-22 14:26:56,474 [INFO] Balance for r3 in (l0, t0): initializing\n",
      "2025-10-22 14:26:56,475 [INFO] ✔ Completed in 9.632110595703125e-05 seconds\n",
      "2025-10-22 14:26:56,475 [INFO] Binding consume in domain (r3, l0, t0)\n",
      "2025-10-22 14:26:56,475 [INFO] ✔ Completed in 5.7697296142578125e-05 seconds\n",
      "2025-10-22 14:26:56,476 [INFO] Assuming  p1 capacity is unbounded in (l0, t0)\n",
      "2025-10-22 14:26:56,477 [INFO] Assuming operation of p1 is bound by capacity in (l0, t0)\n",
      "2025-10-22 14:26:56,477 [INFO] Binding operate in domain (p1, l0, t0)\n",
      "2025-10-22 14:26:56,477 [INFO] ✔ Completed in 0.00010824203491210938 seconds\n",
      "2025-10-22 14:26:56,478 [INFO] Balance for r1 in (l0, t0): adding produce(r1, l0, t0, operate, p1)\n",
      "2025-10-22 14:26:56,478 [INFO] ✔ Completed in 8.606910705566406e-05 seconds\n",
      "2025-10-22 14:26:56,479 [INFO] Balance for r2 in (l0, t0): adding expend(r2, l0, t0, operate, p1)\n",
      "2025-10-22 14:26:56,479 [INFO] ✔ Completed in 8.511543273925781e-05 seconds\n",
      "2025-10-22 14:26:56,480 [INFO] Balance for r3 in (l0, t0): adding expend(r3, l0, t0, operate, p1)\n",
      "2025-10-22 14:26:56,480 [INFO] ✔ Completed in 9.799003601074219e-05 seconds\n",
      "2025-10-22 14:26:56,481 [INFO] Assuming  p2 capacity is unbounded in (l0, t0)\n",
      "2025-10-22 14:26:56,481 [INFO] Assuming operation of p2 is bound by capacity in (l0, t0)\n",
      "2025-10-22 14:26:56,481 [INFO] Binding operate in domain (p2, l0, t0)\n",
      "2025-10-22 14:26:56,481 [INFO] ✔ Completed in 0.00010061264038085938 seconds\n",
      "2025-10-22 14:26:56,482 [INFO] Balance for r1 in (l0, t0): adding produce(r1, l0, t0, operate, p2)\n",
      "2025-10-22 14:26:56,482 [INFO] ✔ Completed in 9.465217590332031e-05 seconds\n",
      "2025-10-22 14:26:56,483 [INFO] Balance for r2 in (l0, t0): adding expend(r2, l0, t0, operate, p2)\n",
      "2025-10-22 14:26:56,484 [INFO] ✔ Completed in 0.00010633468627929688 seconds\n",
      "2025-10-22 14:26:56,484 [INFO] Balance for r3 in (l0, t0): adding expend(r3, l0, t0, operate, p2)\n",
      "2025-10-22 14:26:56,485 [INFO] ✔ Completed in 0.00012111663818359375 seconds\n"
     ]
    }
   ],
   "source": [
    "from energia import Model, Resource, Process\n",
    "\n",
    "m = Model()\n",
    "m.r1 = Resource(demand_min=100)\n",
    "m.r2 = Resource(consume_max=2500)\n",
    "m.r3 = Resource(consume_max=2000)\n",
    "\n",
    "m.p1 = Process(m.r1 == -3 * m.r2 - 4 * m.r3)\n",
    "m.p1.operate == True\n",
    "m.p2 = Process(m.r1 == -5 * m.r2 - 2 * m.r3)\n",
    "m.p2.operate == True\n",
    "m.integer_cut1 = m.p1.capacity.x + m.p2.capacity.x <= 1\n",
    "m.locate(m.p1,m.p2)\n"
   ]
  },
  {
   "cell_type": "code",
   "execution_count": 20,
   "id": "19b65c96",
   "metadata": {},
   "outputs": [
    {
     "data": {
      "text/markdown": [
       "# Mathematical Program for Program(m)"
      ],
      "text/plain": [
       "<IPython.core.display.Markdown object>"
      ]
     },
     "metadata": {},
     "output_type": "display_data"
    },
    {
     "data": {
      "text/markdown": [
       "<br><br>"
      ],
      "text/plain": [
       "<IPython.core.display.Markdown object>"
      ]
     },
     "metadata": {},
     "output_type": "display_data"
    },
    {
     "data": {
      "text/markdown": [
       "## Index Sets"
      ],
      "text/plain": [
       "<IPython.core.display.Markdown object>"
      ]
     },
     "metadata": {},
     "output_type": "display_data"
    },
    {
     "data": {
      "text/latex": [
       "$\\displaystyle locations = \\{ l0 \\}$"
      ],
      "text/plain": [
       "<IPython.core.display.Math object>"
      ]
     },
     "metadata": {},
     "output_type": "display_data"
    },
    {
     "data": {
      "text/latex": [
       "$\\displaystyle t0 = \\{ {t0_{0}} \\}$"
      ],
      "text/plain": [
       "<IPython.core.display.Math object>"
      ]
     },
     "metadata": {},
     "output_type": "display_data"
    },
    {
     "data": {
      "text/latex": [
       "$\\displaystyle resources = \\{ r1, r2, r3 \\}$"
      ],
      "text/plain": [
       "<IPython.core.display.Math object>"
      ]
     },
     "metadata": {},
     "output_type": "display_data"
    },
    {
     "data": {
      "text/latex": [
       "$\\displaystyle processes = \\{ p1, p2 \\}$"
      ],
      "text/plain": [
       "<IPython.core.display.Math object>"
      ]
     },
     "metadata": {},
     "output_type": "display_data"
    },
    {
     "data": {
      "text/markdown": [
       "<br><br>"
      ],
      "text/plain": [
       "<IPython.core.display.Markdown object>"
      ]
     },
     "metadata": {},
     "output_type": "display_data"
    },
    {
     "data": {
      "text/markdown": [
       "## s.t."
      ],
      "text/plain": [
       "<IPython.core.display.Markdown object>"
      ]
     },
     "metadata": {},
     "output_type": "display_data"
    },
    {
     "data": {
      "text/markdown": [
       "### Balance Constraints"
      ],
      "text/plain": [
       "<IPython.core.display.Markdown object>"
      ]
     },
     "metadata": {},
     "output_type": "display_data"
    },
    {
     "data": {
      "text/latex": [
       "$\\displaystyle [0]\\text{   }-{{{rlse}}}_{r1, l0, t0{0}} + {{prod}}_{r1, l0, t0{0}, operate, p1} + {{prod}}_{r1, l0, t0{0}, operate, p2} = 0$"
      ],
      "text/plain": [
       "<IPython.core.display.Math object>"
      ]
     },
     "metadata": {},
     "output_type": "display_data"
    },
    {
     "data": {
      "text/latex": [
       "$\\displaystyle [2]\\text{   }{{{cons}}}_{r2, l0, t0{0}} - {{{expd}}}_{r2, l0, t0{0}, operate, p1} - {{{expd}}}_{r2, l0, t0{0}, operate, p2} = 0$"
      ],
      "text/plain": [
       "<IPython.core.display.Math object>"
      ]
     },
     "metadata": {},
     "output_type": "display_data"
    },
    {
     "data": {
      "text/latex": [
       "$\\displaystyle [4]\\text{   }{{{cons}}}_{r3, l0, t0{0}} - {{{expd}}}_{r3, l0, t0{0}, operate, p1} - {{{expd}}}_{r3, l0, t0{0}, operate, p2} = 0$"
      ],
      "text/plain": [
       "<IPython.core.display.Math object>"
      ]
     },
     "metadata": {},
     "output_type": "display_data"
    },
    {
     "data": {
      "text/markdown": [
       "### Bound Constraints"
      ],
      "text/plain": [
       "<IPython.core.display.Markdown object>"
      ]
     },
     "metadata": {},
     "output_type": "display_data"
    },
    {
     "data": {
      "text/latex": [
       "$\\displaystyle [1]\\text{   }-{{{rlse}}}_{r1, l0, t0{0}} + 100.0 \\leq 0$"
      ],
      "text/plain": [
       "<IPython.core.display.Math object>"
      ]
     },
     "metadata": {},
     "output_type": "display_data"
    },
    {
     "data": {
      "text/latex": [
       "$\\displaystyle [3]\\text{   }{{{cons}}}_{r2, l0, t0{0}} - 2500.0 \\leq 0$"
      ],
      "text/plain": [
       "<IPython.core.display.Math object>"
      ]
     },
     "metadata": {},
     "output_type": "display_data"
    },
    {
     "data": {
      "text/latex": [
       "$\\displaystyle [5]\\text{   }{{{cons}}}_{r3, l0, t0{0}} - 2000.0 \\leq 0$"
      ],
      "text/plain": [
       "<IPython.core.display.Math object>"
      ]
     },
     "metadata": {},
     "output_type": "display_data"
    },
    {
     "data": {
      "text/latex": [
       "$\\displaystyle [8]\\text{   }{{{opr}}}_{p1, l0, t0{0}} - {{{cap}}}_{p1, l0, t0{0}} \\leq 0$"
      ],
      "text/plain": [
       "<IPython.core.display.Math object>"
      ]
     },
     "metadata": {},
     "output_type": "display_data"
    },
    {
     "data": {
      "text/latex": [
       "$\\displaystyle [12]\\text{   }{{{opr}}}_{p2, l0, t0{0}} - {{{cap}}}_{p2, l0, t0{0}} \\leq 0$"
      ],
      "text/plain": [
       "<IPython.core.display.Math object>"
      ]
     },
     "metadata": {},
     "output_type": "display_data"
    },
    {
     "data": {
      "text/markdown": [
       "### Calculation Constraints"
      ],
      "text/plain": [
       "<IPython.core.display.Markdown object>"
      ]
     },
     "metadata": {},
     "output_type": "display_data"
    },
    {
     "data": {
      "text/latex": [
       "$\\displaystyle [9]\\text{   }{{prod}}_{r1, l0, t0{0}, operate, p1} - 1.0 \\cdot {{{opr}}}_{p1, l0, t0{0}} = 0$"
      ],
      "text/plain": [
       "<IPython.core.display.Math object>"
      ]
     },
     "metadata": {},
     "output_type": "display_data"
    },
    {
     "data": {
      "text/latex": [
       "$\\displaystyle [10]\\text{   }{{{expd}}}_{r2, l0, t0{0}, operate, p1} - 3.0 \\cdot {{{opr}}}_{p1, l0, t0{0}} = 0$"
      ],
      "text/plain": [
       "<IPython.core.display.Math object>"
      ]
     },
     "metadata": {},
     "output_type": "display_data"
    },
    {
     "data": {
      "text/latex": [
       "$\\displaystyle [11]\\text{   }{{{expd}}}_{r3, l0, t0{0}, operate, p1} - 4.0 \\cdot {{{opr}}}_{p1, l0, t0{0}} = 0$"
      ],
      "text/plain": [
       "<IPython.core.display.Math object>"
      ]
     },
     "metadata": {},
     "output_type": "display_data"
    },
    {
     "data": {
      "text/latex": [
       "$\\displaystyle [13]\\text{   }{{prod}}_{r1, l0, t0{0}, operate, p2} - 1.0 \\cdot {{{opr}}}_{p2, l0, t0{0}} = 0$"
      ],
      "text/plain": [
       "<IPython.core.display.Math object>"
      ]
     },
     "metadata": {},
     "output_type": "display_data"
    },
    {
     "data": {
      "text/latex": [
       "$\\displaystyle [14]\\text{   }{{{expd}}}_{r2, l0, t0{0}, operate, p2} - 5.0 \\cdot {{{opr}}}_{p2, l0, t0{0}} = 0$"
      ],
      "text/plain": [
       "<IPython.core.display.Math object>"
      ]
     },
     "metadata": {},
     "output_type": "display_data"
    },
    {
     "data": {
      "text/latex": [
       "$\\displaystyle [15]\\text{   }{{{expd}}}_{r3, l0, t0{0}, operate, p2} - 2.0 \\cdot {{{opr}}}_{p2, l0, t0{0}} = 0$"
      ],
      "text/plain": [
       "<IPython.core.display.Math object>"
      ]
     },
     "metadata": {},
     "output_type": "display_data"
    },
    {
     "data": {
      "text/markdown": [
       "### General Constraints"
      ],
      "text/plain": [
       "<IPython.core.display.Markdown object>"
      ]
     },
     "metadata": {},
     "output_type": "display_data"
    },
    {
     "data": {
      "text/latex": [
       "$\\displaystyle [6]\\text{   }{{{\\breve{{cap}}}}}_{p1, l0, t0{0}} + {{{\\breve{{cap}}}}}_{p2, l0, t0{0}} - 1.0 \\leq 0$"
      ],
      "text/plain": [
       "<IPython.core.display.Math object>"
      ]
     },
     "metadata": {},
     "output_type": "display_data"
    },
    {
     "data": {
      "text/latex": [
       "$\\displaystyle [7]\\text{   }{{{\\breve{{cap}}}}}_{p2, l0, t0{0}} + {{{\\breve{{cap}}}}}_{p2, l0, t0{0}} - 1.0 \\leq 0$"
      ],
      "text/plain": [
       "<IPython.core.display.Math object>"
      ]
     },
     "metadata": {},
     "output_type": "display_data"
    }
   ],
   "source": [
    "m.show(True)"
   ]
  },
  {
   "cell_type": "markdown",
   "id": "a527eec8",
   "metadata": {},
   "source": [
    "## Operations Involving Multiple ``Sample``s\n",
    "\n",
    "The come in handy if the user wants to deal with operations of ``Sample``s.\n",
    "\n",
    "Take the example where the minimum consumption needs to be minimized across the board in the above example"
   ]
  },
  {
   "cell_type": "code",
   "execution_count": 21,
   "id": "ec7feacc",
   "metadata": {},
   "outputs": [],
   "source": [
    "m.total_consumption = sum(m.consume)"
   ]
  },
  {
   "cell_type": "markdown",
   "id": "1f5b09a3",
   "metadata": {},
   "source": [
    "The function itself can also be optimized"
   ]
  },
  {
   "cell_type": "code",
   "execution_count": 22,
   "id": "0ccb4c76",
   "metadata": {},
   "outputs": [
    {
     "name": "stderr",
     "output_type": "stream",
     "text": [
      "2025-10-22 14:27:01,445 [INFO] Generating Program(m).mps\n",
      "2025-10-22 14:27:01,447 [INFO] Creating gurobi model for Program(m)\n"
     ]
    },
    {
     "name": "stdout",
     "output_type": "stream",
     "text": [
      "Warning: duplicate nonzeros for column X6 and row C4.\n",
      "Read MPS format model from file Program(m).mps\n",
      "Reading time = 0.00 seconds\n",
      "PROGRAM(M): 16 rows, 15 columns, 31 nonzeros\n"
     ]
    },
    {
     "name": "stderr",
     "output_type": "stream",
     "text": [
      "2025-10-22 14:27:01,449 [INFO] Optimizing Program(m) using gurobi\n"
     ]
    },
    {
     "name": "stdout",
     "output_type": "stream",
     "text": [
      "Gurobi Optimizer version 12.0.3 build v12.0.3rc0 (win64 - Windows 11.0 (26100.2))\n",
      "\n",
      "CPU model: 13th Gen Intel(R) Core(TM) i7-13700, instruction set [SSE2|AVX|AVX2]\n",
      "Thread count: 16 physical cores, 24 logical processors, using up to 24 threads\n",
      "\n",
      "Optimize a model with 16 rows, 15 columns and 31 nonzeros\n",
      "Model fingerprint: 0x0622c6ae\n",
      "Variable types: 13 continuous, 2 integer (2 binary)\n",
      "Coefficient statistics:\n",
      "  Matrix range     [1e+00, 5e+00]\n",
      "  Objective range  [1e+00, 1e+00]\n",
      "  Bounds range     [1e+00, 1e+00]\n",
      "  RHS range        [1e+00, 3e+03]\n",
      "Presolve removed 16 rows and 15 columns\n",
      "Presolve time: 0.00s\n",
      "Presolve: All rows and columns removed\n",
      "\n",
      "Explored 0 nodes (0 simplex iterations) in 0.00 seconds (0.00 work units)\n",
      "Thread count was 1 (of 24 available processors)\n",
      "\n",
      "Solution count 1: 700 \n",
      "\n",
      "Optimal solution found (tolerance 1.00e-04)\n",
      "Best objective 7.000000000000e+02, best bound 7.000000000000e+02, gap 0.0000%\n"
     ]
    },
    {
     "name": "stderr",
     "output_type": "stream",
     "text": [
      "2025-10-22 14:27:01,454 [INFO] Solution found. Use .output() to display it\n",
      "2025-10-22 14:27:01,455 [INFO] Creating Solution object, check.solution\n"
     ]
    }
   ],
   "source": [
    "m.total_consumption.opt()"
   ]
  }
 ],
 "metadata": {
  "kernelspec": {
   "display_name": ".venv",
   "language": "python",
   "name": "python3"
  },
  "language_info": {
   "codemirror_mode": {
    "name": "ipython",
    "version": 3
   },
   "file_extension": ".py",
   "mimetype": "text/x-python",
   "name": "python",
   "nbconvert_exporter": "python",
   "pygments_lexer": "ipython3",
   "version": "3.13.9"
  }
 },
 "nbformat": 4,
 "nbformat_minor": 5
}
