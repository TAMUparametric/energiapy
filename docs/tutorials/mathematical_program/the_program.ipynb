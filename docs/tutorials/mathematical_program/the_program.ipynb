{
 "cells": [
  {
   "cell_type": "markdown",
   "id": "01d0678b",
   "metadata": {},
   "source": [
    "# Working With Gana\n",
    "\n",
    "Gana is a general purpose algebraic modeling language (AML) that Energia uses for generating Mathematical Programs.\n",
    "For more information refer to [Gana's documentation](https://gana.readthedocs.io/en/latest/)."
   ]
  },
  {
   "cell_type": "markdown",
   "id": "0fa43678",
   "metadata": {},
   "source": [
    "## Element Sets and Counters\n",
    "\n",
    "All of these can be accessed directly from the ``Model``"
   ]
  },
  {
   "cell_type": "code",
   "execution_count": 3,
   "id": "246eb270",
   "metadata": {},
   "outputs": [
    {
     "data": {
      "text/plain": [
       "['constraint',\n",
       " 'function',\n",
       " 'variable',\n",
       " 'parameter',\n",
       " 'theta',\n",
       " 'constraints',\n",
       " 'constraint_sets',\n",
       " 'functions',\n",
       " 'function_sets',\n",
       " 'variables',\n",
       " 'variable_sets',\n",
       " 'parameters',\n",
       " 'parameter_sets',\n",
       " 'thetas',\n",
       " 'theta_sets',\n",
       " 'solution',\n",
       " 'formulation',\n",
       " 'evaluation',\n",
       " 'n_constraint',\n",
       " 'n_function',\n",
       " 'n_variable',\n",
       " 'n_parameter',\n",
       " 'n_theta',\n",
       " 'n_constraints',\n",
       " 'n_constraint_sets',\n",
       " 'n_functions',\n",
       " 'n_function_sets',\n",
       " 'n_variables',\n",
       " 'n_variable_sets',\n",
       " 'n_parameters',\n",
       " 'n_parameter_sets',\n",
       " 'n_thetas',\n",
       " 'n_theta_sets',\n",
       " 'n_solution',\n",
       " 'n_formulation',\n",
       " 'n_evaluation',\n",
       " 'index_sets',\n",
       " 'indices',\n",
       " 'objectives',\n",
       " 'parameter_sets',\n",
       " 'X']"
      ]
     },
     "execution_count": 3,
     "metadata": {},
     "output_type": "execute_result"
    }
   ],
   "source": [
    "from energia import Model\n",
    "m = Model()\n",
    "m.program_attrs"
   ]
  },
  {
   "cell_type": "markdown",
   "id": "fa7eb389",
   "metadata": {},
   "source": [
    "## ``Prg`` Matrices and Other Properties\n",
    "\n",
    "Some ``Prg`` properties can also be called, such as all the keys with the values ``Program(m)`` \n",
    "These include all the matrices necessary to gain a full understanding of the system "
   ]
  },
  {
   "cell_type": "code",
   "execution_count": 4,
   "id": "6290eeed",
   "metadata": {},
   "outputs": [
    {
     "data": {
      "text/plain": [
       "{'horizon': Time(m),\n",
       " 'network': Space(m),\n",
       " 'indicators': Impact(m),\n",
       " 'operations': System(m),\n",
       " 'aspects': Problem(m),\n",
       " 'domains': Problem(m),\n",
       " 'A': Program(m),\n",
       " 'B': Program(m),\n",
       " 'C': Program(m),\n",
       " 'F': Program(m),\n",
       " 'G': Program(m),\n",
       " 'H': Program(m),\n",
       " 'CrA': Program(m),\n",
       " 'CrB': Program(m),\n",
       " 'NN': Program(m),\n",
       " 'A_with_NN': Program(m),\n",
       " 'B_with_NN': Program(m),\n",
       " 'Z': Program(m),\n",
       " 'P': Program(m)}"
      ]
     },
     "execution_count": 4,
     "metadata": {},
     "output_type": "execute_result"
    }
   ],
   "source": [
    "m.properties"
   ]
  },
  {
   "cell_type": "markdown",
   "id": "c8e45004",
   "metadata": {},
   "source": [
    "## Exporting to Other Formats\n",
    "\n",
    "The mathematical program can be accessed using the ``program`` or ``_`` attributes\n",
    "\n",
    "``energia.Program`` inherit from ``gana.Prg``, and can be exported as:\n",
    "\n",
    "| function        | output format          |\n",
    "|-----------------|------------------------|\n",
    "| ``.ppopt()``    | ``ppopt.MPLP_Program`` |\n",
    "| ``.gurobi()``   | ``gurobipy.Model``     |\n",
    "| ``.mps()``      |  ``.mps file``         |\n",
    "| ``.lp()``       |  ``.lp file``          |\n",
    "\n",
    "The following ``Prg`` attributes can be called from the model\n"
   ]
  }
 ],
 "metadata": {
  "kernelspec": {
   "display_name": ".venv",
   "language": "python",
   "name": "python3"
  },
  "language_info": {
   "codemirror_mode": {
    "name": "ipython",
    "version": 3
   },
   "file_extension": ".py",
   "mimetype": "text/x-python",
   "name": "python",
   "nbconvert_exporter": "python",
   "pygments_lexer": "ipython3",
   "version": "3.13.9"
  }
 },
 "nbformat": 4,
 "nbformat_minor": 5
}
