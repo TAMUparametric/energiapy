{
 "cells": [
  {
   "cell_type": "markdown",
   "id": "92578ebd",
   "metadata": {},
   "source": [
    "# Defining Processes \n",
    "\n",
    "Processes convert a set of resources into another. The balance of this conversion is provided by the user (see section Conversion under the Defining Resources Tutorial). A few examples are list: \n"
   ]
  },
  {
   "cell_type": "markdown",
   "id": "517c3188",
   "metadata": {},
   "source": [
    "## General Setup \n",
    "\n",
    "Consider the processes, Wind Farm (wf) and Proton Exchange Membrane Electrolysis (pem)\n",
    "These require the resource wind, power, water (h2o), hydrogen (h2), oxygen (o2)\n",
    "\n",
    "wind and h2o can be consumed, there is a demand for hydrogen and oxygen can be released"
   ]
  },
  {
   "cell_type": "code",
   "execution_count": 13,
   "id": "fea1368d",
   "metadata": {},
   "outputs": [
    {
     "name": "stdout",
     "output_type": "stream",
     "text": [
      "--- General Resource Balance for wind in (l, y): initializing constraint, adding consume(wind, l, y)\n",
      "    Completed in 8.559226989746094e-05 seconds\n",
      "--- General Resource Balance for h2o in (l, y): initializing constraint, adding consume(h2o, l, y)\n",
      "    Completed in 5.650520324707031e-05 seconds\n",
      "--- General Resource Balance for h2 in (l, q): initializing constraint, adding release(h2, l, q)\n",
      "    Completed in 7.867813110351562e-05 seconds\n",
      "--- Binding release in domain (h2, l, q)\n",
      "    Completed in 0.00010943412780761719 seconds\n",
      "--- General Resource Balance for o2 in (l, y): initializing constraint, adding release(o2, l, y)\n",
      "    Completed in 6.747245788574219e-05 seconds\n"
     ]
    }
   ],
   "source": [
    "from energia import Currency, Process, Resource, Model, Periods\n",
    "\n",
    "m = Model()\n",
    "m.usd = Currency()\n",
    "m.q = Periods()\n",
    "m.y = 4 * m.q\n",
    "m.declare(Resource, ['wind', 'power', 'h2o', 'h2', 'o2'])\n",
    "m.declare(Process, ['wf', 'pem'])\n",
    "\n",
    "\n",
    "m.wind.consume == True\n",
    "m.h2o.consume == True\n",
    "\n",
    "m.h2.release.prep(180) >= [0.6, 0.7, 0.8, 0.3]\n",
    "m.o2.release == True"
   ]
  },
  {
   "cell_type": "markdown",
   "id": "045d8ef4",
   "metadata": {},
   "source": [
    "## With Positive Basis \n",
    "\n",
    "The basis is provided in the format Process(Resource | Conversion) For example, in the case of wind farm the basis is provided as power produced. Thus all the values for usd.spend need to be provided on the basis of power production "
   ]
  },
  {
   "cell_type": "code",
   "execution_count": 14,
   "id": "99158477",
   "metadata": {},
   "outputs": [
    {
     "name": "stdout",
     "output_type": "stream",
     "text": [
      "--- Binding operate in domain (wf, l, q)\n",
      "--- Aspect (capacity) not defined, a variable will be created at l assuming y as the temporal index\n",
      "    Completed in 0.0002970695495605469 seconds\n",
      "--- Mapping operate across time from (wf, l, q) to (wf, l, y)\n",
      "--- Creating map to (wf, l, y). Mapping operate: from (wf, l, q) to (wf, l, y)\n",
      "    Completed in 6.389617919921875e-05 seconds\n"
     ]
    }
   ],
   "source": [
    "m.wf(m.power) == -m.wind\n",
    "m.wf.operate.prep(norm=True) <= [0.9, 0.8, 0.5, 0.7]\n",
    "m.wf.capacity[m.usd.spend] == 990637 + 3354\n",
    "m.wf.operate[m.usd.spend] == 49"
   ]
  },
  {
   "cell_type": "markdown",
   "id": "b54def26",
   "metadata": {},
   "source": [
    "## With Negative Basis (or Conversion)\n",
    "\n",
    "PEMs are typically sized based on their power consumption, thus all the values provide should be on the basis of power expended in the process"
   ]
  },
  {
   "cell_type": "code",
   "execution_count": 15,
   "id": "1a72d179",
   "metadata": {},
   "outputs": [],
   "source": [
    "m.pem(-m.power) == 0.01248 * m.h2 + 0.09987 * m.o2 - 0.11235 * m.h2o\n",
    "m.pem.capacity[m.usd.spend] == 1.55 * 10**6"
   ]
  },
  {
   "cell_type": "markdown",
   "id": "e7fde250",
   "metadata": {},
   "source": [
    "## Locating Processes\n",
    "\n",
    "Processes need to located explicitly \n",
    "\n",
    "If using multiple locations, the user can use m.location.locate(.. list of processes ..)\n",
    "\n",
    "For single period models, it may be convenient to use m.locate(.. list of processes ..) which defaults to m.network.locate(..). Note that in a single location example, the location itself is the network"
   ]
  },
  {
   "cell_type": "code",
   "execution_count": 16,
   "id": "550f406f",
   "metadata": {},
   "outputs": [
    {
     "name": "stdout",
     "output_type": "stream",
     "text": [
      "--- Assuming  pem capacity is unbounded in (l, y)\n",
      "--- Assuming operation of pem is bound by capacity in (l, y)\n",
      "--- Binding operate in domain (pem, l, y)\n",
      "    Completed in 0.00011110305786132812 seconds\n",
      "--- General Resource Balance for power in (l, q): initializing constraint, adding expend(power, l, q, operate, pem)\n",
      "    Completed in 0.00010466575622558594 seconds\n",
      "--- Mapping operate across time from (pem, l, q) to (pem, l, y)\n",
      "--- Creating map to (pem, l, y). Mapping operate: from (pem, l, q) to (pem, l, y)\n",
      "    Completed in 5.793571472167969e-05 seconds\n",
      "--- General Resource Balance for h2 in (l, q): adding produce(h2, l, q, operate, pem)\n",
      "    Completed in 8.559226989746094e-05 seconds\n",
      "--- General Resource Balance for o2 in (l, y): adding produce(o2, l, y, operate, pem)\n",
      "    Completed in 5.936622619628906e-05 seconds\n",
      "--- General Resource Balance for h2o in (l, y): adding expend(h2o, l, y, operate, pem)\n",
      "    Completed in 5.626678466796875e-05 seconds\n",
      "--- Assuming  wf capacity is unbounded in (l, y)\n",
      "--- General Resource Balance for power in (l, q): adding produce(power, l, q, operate, wf)\n",
      "    Completed in 9.1552734375e-05 seconds\n",
      "--- General Resource Balance for wind in (l, y): adding expend(wind, l, y, operate, wf)\n",
      "    Completed in 7.200241088867188e-05 seconds\n"
     ]
    }
   ],
   "source": [
    "m.locate(m.pem, m.wf)"
   ]
  },
  {
   "cell_type": "markdown",
   "id": "98b51095",
   "metadata": {},
   "source": [
    "The balances arising from production are only assumed once the process has beeen located. Upon location, the model can be optimized"
   ]
  },
  {
   "cell_type": "code",
   "execution_count": 17,
   "id": "2cbb8a1b",
   "metadata": {},
   "outputs": [
    {
     "name": "stdout",
     "output_type": "stream",
     "text": [
      "--- Creating map to (usd, l, y). Mapping spend: from (usd, l, y, capacity, wf) to (usd, l, y)\n",
      "    Completed in 9.918212890625e-05 seconds\n",
      "--- Mapping spend: from (usd, l, y, operate, wf) to (usd, l, y)\n",
      "    Completed in 5.1021575927734375e-05 seconds\n",
      "--- Mapping spend: from (usd, l, y, capacity, pem) to (usd, l, y)\n",
      "    Completed in 4.3392181396484375e-05 seconds\n",
      "--- Generating m.mps\n",
      "--- Creating gurobi model for m\n",
      "Read MPS format model from file m.mps\n",
      "Reading time = 0.00 seconds\n",
      "M: 41 rows, 38 columns, 86 nonzeros\n",
      "--- Optimizing m using gurobi\n",
      "Gurobi Optimizer version 12.0.3 build v12.0.3rc0 (win64 - Windows 11.0 (26100.2))\n",
      "\n",
      "CPU model: 13th Gen Intel(R) Core(TM) i7-13700, instruction set [SSE2|AVX|AVX2]\n",
      "Thread count: 16 physical cores, 24 logical processors, using up to 24 threads\n",
      "\n",
      "Optimize a model with 41 rows, 38 columns and 86 nonzeros\n",
      "Model fingerprint: 0xfd8097d4\n",
      "Coefficient statistics:\n",
      "  Matrix range     [1e-02, 2e+06]\n",
      "  Objective range  [1e+00, 1e+00]\n",
      "  Bounds range     [0e+00, 0e+00]\n",
      "  RHS range        [7e+01, 2e+02]\n",
      "Presolve removed 41 rows and 38 columns\n",
      "Presolve time: 0.00s\n",
      "Presolve: All rows and columns removed\n",
      "Warning: Markowitz tolerance tightened to 0.125\n",
      "Iteration    Objective       Primal Inf.    Dual Inf.      Time\n",
      "       0    9.2874963e+10   0.000000e+00   0.000000e+00      0s\n",
      "\n",
      "Solved in 0 iterations and 0.00 seconds (0.00 work units)\n",
      "Optimal objective  9.287496346e+10\n",
      "--- Solution found. Use .sol() to display it\n",
      "--- Creating Solution object, check.solution\n"
     ]
    },
    {
     "data": {
      "text/latex": [
       "$\\displaystyle {{{cap}}}_{wf, l, y{0}}=25961.538461538457$"
      ],
      "text/plain": [
       "<IPython.core.display.Math object>"
      ]
     },
     "metadata": {},
     "output_type": "display_data"
    },
    {
     "data": {
      "text/latex": [
       "$\\displaystyle {{{cap}}}_{pem, l, y{0}}=43269.23076923076$"
      ],
      "text/plain": [
       "<IPython.core.display.Math object>"
      ]
     },
     "metadata": {},
     "output_type": "display_data"
    }
   ],
   "source": [
    "m.usd.spend.opt()\n",
    "m.capacity.sol()"
   ]
  },
  {
   "cell_type": "markdown",
   "id": "be4a01d6",
   "metadata": {},
   "source": [
    "## Modeling Technology Choice\n",
    "\n",
    "Let us continue with the example, but provide another option for power generation (solar PV)"
   ]
  },
  {
   "cell_type": "code",
   "execution_count": 18,
   "id": "2a96a74c",
   "metadata": {},
   "outputs": [
    {
     "name": "stdout",
     "output_type": "stream",
     "text": [
      "--- General Resource Balance for solar in (l, y): initializing constraint, adding consume(solar, l, y)\n",
      "    Completed in 0.0002875328063964844 seconds\n",
      "--- Binding capacity in domain (pv, l, y)\n",
      "    Completed in 0.00010824203491210938 seconds\n",
      "--- Binding capacity in domain (pv, l, y)\n",
      "    Completed in 6.961822509765625e-05 seconds\n",
      "--- Binding operate in domain (pv, l, q)\n",
      "    Completed in 0.000164031982421875 seconds\n",
      "--- Mapping operate across time from (pv, l, q) to (pv, l, y)\n",
      "--- Creating map to (pv, l, y). Mapping operate: from (pv, l, q) to (pv, l, y)\n",
      "    Completed in 5.626678466796875e-05 seconds\n",
      "--- General Resource Balance for power in (l, q): adding produce(power, l, q, operate, pv)\n",
      "    Completed in 9.632110595703125e-05 seconds\n",
      "--- General Resource Balance for solar in (l, y): adding expend(solar, l, y, operate, pv)\n",
      "    Completed in 0.00011372566223144531 seconds\n"
     ]
    }
   ],
   "source": [
    "m.solar = Resource()\n",
    "m.solar.consume == True\n",
    "m.pv = Process()\n",
    "\n",
    "m.pv(m.power) == -1 * m.solar\n",
    "m.pv.capacity.x <= 30000\n",
    "m.pv.capacity.x >= 0\n",
    "m.pv.operate.prep(norm=True) <= [0.6, 0.8, 0.9, 0.7]\n",
    "m.pv.capacity[m.usd.spend] == 5670\n",
    "m.pv.operate[m.usd.spend] == 90\n",
    "\n",
    "m.locate(m.pv)"
   ]
  },
  {
   "cell_type": "markdown",
   "id": "c17b34ab",
   "metadata": {},
   "source": [
    "## Semi-continuous Bounds \n",
    "\n",
    "These can be set using .x for any aspect. In the below example, the maximum capacity of wind farm (if set up) is 30000\n",
    "The lower bound of 500 is only applied if wind farm is set up at all. Thus the values that wind farm can take are in the semi-continuous domain $\\{0\\} \\cup [500, 30000]$\n"
   ]
  },
  {
   "cell_type": "code",
   "execution_count": 19,
   "id": "3ebc4e54",
   "metadata": {},
   "outputs": [
    {
     "name": "stdout",
     "output_type": "stream",
     "text": [
      "--- Binding capacity in domain (wf, l, y)\n",
      "    Completed in 0.0001785755157470703 seconds\n",
      "--- Binding capacity in domain (wf, l, y)\n",
      "    Completed in 0.00010704994201660156 seconds\n"
     ]
    }
   ],
   "source": [
    "m.wf.capacity.x <= 30000\n",
    "m.wf.capacity.x >= 500"
   ]
  },
  {
   "cell_type": "code",
   "execution_count": 20,
   "id": "dc2759c3",
   "metadata": {},
   "outputs": [
    {
     "name": "stdout",
     "output_type": "stream",
     "text": [
      "--- Generating m.mps\n",
      "--- Creating gurobi model for m\n",
      "Warning: row name O0 in column section at line 150 not defined.\n",
      "Warning: row name C57 in column section at line 154 not defined.\n",
      "Read MPS format model from file m.mps\n",
      "Reading time = 0.00 seconds\n",
      "M: 57 rows, 54 columns, 125 nonzeros\n",
      "--- Optimizing m using gurobi\n",
      "Gurobi Optimizer version 12.0.3 build v12.0.3rc0 (win64 - Windows 11.0 (26100.2))\n",
      "\n",
      "CPU model: 13th Gen Intel(R) Core(TM) i7-13700, instruction set [SSE2|AVX|AVX2]\n",
      "Thread count: 16 physical cores, 24 logical processors, using up to 24 threads\n",
      "\n",
      "Optimize a model with 57 rows, 54 columns and 125 nonzeros\n",
      "Model fingerprint: 0xebd4de5a\n",
      "Variable types: 52 continuous, 2 integer (2 binary)\n",
      "Coefficient statistics:\n",
      "  Matrix range     [1e-02, 2e+06]\n",
      "  Objective range  [1e+00, 1e+00]\n",
      "  Bounds range     [1e+00, 1e+00]\n",
      "  RHS range        [7e+01, 2e+02]\n",
      "Presolve removed 47 rows and 40 columns\n",
      "Presolve time: 0.00s\n",
      "Presolved: 10 rows, 14 columns, 24 nonzeros\n",
      "Variable types: 13 continuous, 1 integer (1 binary)\n",
      "Found heuristic solution: objective 6.706731e+10\n",
      "\n",
      "Explored 0 nodes (0 simplex iterations) in 0.00 seconds (0.00 work units)\n",
      "Thread count was 24 (of 24 available processors)\n",
      "\n",
      "Solution count 1: 6.70673e+10 \n",
      "\n",
      "Optimal solution found (tolerance 1.00e-04)\n",
      "Best objective 6.706730769231e+10, best bound 6.706730769231e+10, gap 0.0000%\n",
      "--- Solution found. Use .sol() to display it\n",
      "--- Creating Solution object, check.solution\n"
     ]
    }
   ],
   "source": [
    "m.usd.spend.opt()"
   ]
  },
  {
   "cell_type": "markdown",
   "id": "d0376069",
   "metadata": {},
   "source": [
    "The solution for the two models can be compared"
   ]
  },
  {
   "cell_type": "code",
   "execution_count": 21,
   "id": "b7b52df6",
   "metadata": {},
   "outputs": [
    {
     "data": {
      "text/latex": [
       "$\\displaystyle {{{cap}}}_{wf, l, y{0}}=25961.538461538457, 0.0$"
      ],
      "text/plain": [
       "<IPython.core.display.Math object>"
      ]
     },
     "metadata": {},
     "output_type": "display_data"
    },
    {
     "data": {
      "text/latex": [
       "$\\displaystyle {{{cap}}}_{pem, l, y{0}}=43269.23076923076, 43269.230769230766$"
      ],
      "text/plain": [
       "<IPython.core.display.Math object>"
      ]
     },
     "metadata": {},
     "output_type": "display_data"
    },
    {
     "data": {
      "text/latex": [
       "$\\displaystyle {{{cap}}}_{pv, l, y{0}}=30000.0$"
      ],
      "text/plain": [
       "<IPython.core.display.Math object>"
      ]
     },
     "metadata": {},
     "output_type": "display_data"
    }
   ],
   "source": [
    "m.capacity.sol(compare=True)"
   ]
  },
  {
   "cell_type": "markdown",
   "id": "660115bd",
   "metadata": {},
   "source": [
    "Note: binaries were only introduced in the second model"
   ]
  },
  {
   "cell_type": "code",
   "execution_count": 22,
   "id": "a47c6314",
   "metadata": {},
   "outputs": [
    {
     "data": {
      "text/latex": [
       "$\\displaystyle {{{\\breve{{cap}}}}}_{pv, l, y{0}}=1.0$"
      ],
      "text/plain": [
       "<IPython.core.display.Math object>"
      ]
     },
     "metadata": {},
     "output_type": "display_data"
    },
    {
     "data": {
      "text/latex": [
       "$\\displaystyle {{{\\breve{{cap}}}}}_{wf, l, y{0}}=-0.0$"
      ],
      "text/plain": [
       "<IPython.core.display.Math object>"
      ]
     },
     "metadata": {},
     "output_type": "display_data"
    }
   ],
   "source": [
    "m.capacity.reporting.sol(compare=True)"
   ]
  }
 ],
 "metadata": {
  "kernelspec": {
   "display_name": ".venv",
   "language": "python",
   "name": "python3"
  },
  "language_info": {
   "codemirror_mode": {
    "name": "ipython",
    "version": 3
   },
   "file_extension": ".py",
   "mimetype": "text/x-python",
   "name": "python",
   "nbconvert_exporter": "python",
   "pygments_lexer": "ipython3",
   "version": "3.13.7"
  }
 },
 "nbformat": 4,
 "nbformat_minor": 5
}
