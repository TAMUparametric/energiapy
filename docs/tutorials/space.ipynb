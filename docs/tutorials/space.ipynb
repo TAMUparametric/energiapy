{
 "cells": [
  {
   "cell_type": "markdown",
   "id": "f9f5c43a",
   "metadata": {},
   "source": [
    "# Defining Space\n",
    "\n",
    "Space is defined as a network of `Location` and `Linkage`s. Generally, these can be viewed as nodes and edges. The caveat being that `Linkage`s do behave like `Location`s in some ways as they having independent activity and spatial attributes such `Resource` limitations, e.g. `Land`. \n",
    "\n",
    "\n",
    "Note: In the case of `Resource` mapping incurred due to `Transport`, currently a simplifying assumption is used where streams, e.g. `consume`, `release`, all happen at the source node. This assumption is being reviewed. The problem however is solved for across the `network`, allowing the solutions to converge\n",
    "\n"
   ]
  },
  {
   "cell_type": "markdown",
   "id": "f216d7f6",
   "metadata": {},
   "source": [
    "## Defining Locations\n",
    "\n",
    "Locations are point objects in which operations such as `Process` and `Storage` can reside. These are straightforward to declare as shown in the example below where Goa is declared as the sole `Location`. Note that the single location itself serves as the `network`"
   ]
  },
  {
   "cell_type": "code",
   "execution_count": null,
   "id": "d9790fe1",
   "metadata": {},
   "outputs": [
    {
     "data": {
      "text/plain": [
       "Goa"
      ]
     },
     "execution_count": 1,
     "metadata": {},
     "output_type": "execute_result"
    }
   ],
   "source": [
    "from energia import Model, Location\n",
    "\n",
    "m = Model()\n",
    "m.Goa = Location(label='Goa, India')\n",
    "m.network"
   ]
  },
  {
   "cell_type": "markdown",
   "id": "152e2ace",
   "metadata": {},
   "source": [
    "Let's declare another `Location`"
   ]
  },
  {
   "cell_type": "code",
   "execution_count": 2,
   "id": "916f6b3a",
   "metadata": {},
   "outputs": [
    {
     "data": {
      "text/plain": [
       "ntw"
      ]
     },
     "execution_count": 2,
     "metadata": {},
     "output_type": "execute_result"
    }
   ],
   "source": [
    "m.Pune = Location(label='Pune, India')\n",
    "m.network"
   ]
  },
  {
   "cell_type": "markdown",
   "id": "61bec2fa",
   "metadata": {},
   "source": [
    "Given that these locations are on the same level, a network is generated with Pune and Goa as composite locations. "
   ]
  },
  {
   "cell_type": "code",
   "execution_count": null,
   "id": "d9ffaa38",
   "metadata": {},
   "outputs": [
    {
     "data": {
      "text/plain": [
       "(Pune, Goa)"
      ]
     },
     "execution_count": 3,
     "metadata": {},
     "output_type": "execute_result"
    }
   ],
   "source": [
    "m.network.has"
   ]
  },
  {
   "cell_type": "markdown",
   "id": "5129e473",
   "metadata": {},
   "source": [
    "### Nesting\n",
    "\n",
    "Locations can be nested, take the following example"
   ]
  },
  {
   "cell_type": "code",
   "execution_count": null,
   "id": "1c444efb",
   "metadata": {},
   "outputs": [
    {
     "data": {
      "text/plain": [
       "TX"
      ]
     },
     "execution_count": 4,
     "metadata": {},
     "output_type": "execute_result"
    }
   ],
   "source": [
    "from energia import Model, Location\n",
    "\n",
    "m = Model()\n",
    "m.Houston = Location(label='Houston, USA')\n",
    "m.CStat = Location(label='College Station, USA')\n",
    "m.TX = m.Houston + m.CStat\n",
    "m.TX.label = 'Texas, USA'\n",
    "m.network"
   ]
  },
  {
   "cell_type": "markdown",
   "id": "f74b27bd",
   "metadata": {},
   "source": [
    "In this case since an all encompassing `Location` exists, that is set as the network"
   ]
  },
  {
   "cell_type": "code",
   "execution_count": 5,
   "id": "2e20bcca",
   "metadata": {},
   "outputs": [
    {
     "data": {
      "text/plain": [
       "(CStat, Houston)"
      ]
     },
     "execution_count": 5,
     "metadata": {},
     "output_type": "execute_result"
    }
   ],
   "source": [
    "m.TX.has"
   ]
  },
  {
   "cell_type": "markdown",
   "id": "948f307e",
   "metadata": {},
   "source": [
    "The structure can be layered"
   ]
  },
  {
   "cell_type": "code",
   "execution_count": null,
   "id": "fb8022e3",
   "metadata": {},
   "outputs": [],
   "source": [
    "from energia import Model, Location\n",
    "\n",
    "m = Model()\n",
    "\n",
    "m.Houston = Location(label='Houston, USA')\n",
    "m.CStat = Location(label='College Station, USA')\n",
    "m.TX = m.Houston + m.CStat\n",
    "m.TX.label = 'Texas, USA'\n",
    "\n",
    "\n",
    "m.SD = Location(label='San Diego, USA')\n",
    "m.LA = Location(label='Los Angeles, USA')\n",
    "m.Cali = m.SD + m.LA\n",
    "m.Cali.label = 'California, USA'\n",
    "\n",
    "m.USA = m.TX + m.Cali\n",
    "m.USA.label = 'United States of America'\n",
    "\n",
    "m.Athens = Location(label='Athens, Greece')\n",
    "m.Amsterdam = Location(label='Amsterdam, Netherlands')\n",
    "m.EU = m.Athens + m.Amsterdam\n",
    "m.EU.label = 'European Union'\n",
    "\n",
    "m.Pune = Location(label='Pune, India')\n",
    "m.Goa = Location(label='Goa, India')\n",
    "m.India = m.Pune + m.Goa\n",
    "m.India.label = 'India'\n",
    "\n",
    "m.Earth = m.USA + m.EU + m.India\n",
    "m.Earth.label = 'Our Home'"
   ]
  },
  {
   "cell_type": "markdown",
   "id": "3fd43937",
   "metadata": {},
   "source": [
    "`Location.tree` provides a dictionary displaying the structure of the `network`"
   ]
  },
  {
   "cell_type": "code",
   "execution_count": 7,
   "id": "2d61ae64",
   "metadata": {},
   "outputs": [
    {
     "data": {
      "text/plain": [
       "{EU: {Amsterdam: {}, Athens: {}},\n",
       " USA: {Cali: {LA: {}, SD: {}}, TX: {CStat: {}, Houston: {}}},\n",
       " India: {Goa: {}, Pune: {}}}"
      ]
     },
     "execution_count": 7,
     "metadata": {},
     "output_type": "execute_result"
    }
   ],
   "source": [
    "m.Earth.tree"
   ]
  },
  {
   "cell_type": "markdown",
   "id": "cc648b64",
   "metadata": {},
   "source": [
    "### Constituent and Parent Locations"
   ]
  },
  {
   "cell_type": "markdown",
   "id": "796e346d",
   "metadata": {},
   "source": [
    "The parent can be seen using `Location.isin`"
   ]
  },
  {
   "cell_type": "code",
   "execution_count": null,
   "id": "4b7753b1",
   "metadata": {},
   "outputs": [
    {
     "data": {
      "text/plain": [
       "India"
      ]
     },
     "execution_count": 8,
     "metadata": {},
     "output_type": "execute_result"
    }
   ],
   "source": [
    "m.Goa.isin"
   ]
  },
  {
   "cell_type": "markdown",
   "id": "084a1fa6",
   "metadata": {},
   "source": [
    "`Location.has` only shows locations one order higher in disposition"
   ]
  },
  {
   "cell_type": "code",
   "execution_count": null,
   "id": "32e139aa",
   "metadata": {},
   "outputs": [
    {
     "data": {
      "text/plain": [
       "(Cali, TX)"
      ]
     },
     "execution_count": 9,
     "metadata": {},
     "output_type": "execute_result"
    }
   ],
   "source": [
    "m.USA.has"
   ]
  },
  {
   "cell_type": "markdown",
   "id": "204e5369",
   "metadata": {},
   "source": [
    "`Location.alsohas` only shows all nested locations"
   ]
  },
  {
   "cell_type": "code",
   "execution_count": 10,
   "id": "f1d98a90",
   "metadata": {},
   "outputs": [
    {
     "data": {
      "text/plain": [
       "(LA, SD, CStat, Houston)"
      ]
     },
     "execution_count": 10,
     "metadata": {},
     "output_type": "execute_result"
    }
   ],
   "source": [
    "m.USA.alsohas"
   ]
  },
  {
   "cell_type": "markdown",
   "id": "b005778a",
   "metadata": {},
   "source": [
    "## Defining Linkages\n",
    "\n",
    "There are two ways to declare `Linkage` objects. \n",
    "\n",
    "### 1. Single Linkage Between Locations\n",
    "\n",
    "If there is a single `Linkage` between two given `Locations`, `Model.Link` is more convenient. `Linkages` are always one directional. To access these linkages when providing data `location_a - location_b` or vice versa can be used"
   ]
  },
  {
   "cell_type": "code",
   "execution_count": null,
   "id": "7e8ce1b8",
   "metadata": {},
   "outputs": [
    {
     "data": {
      "text/plain": [
       "[Goa-Pune]"
      ]
     },
     "execution_count": 11,
     "metadata": {},
     "output_type": "execute_result"
    }
   ],
   "source": [
    "from energia import Model, Location, Linkage\n",
    "\n",
    "m = Model()\n",
    "m.Goa = Location(label='Goa, India')\n",
    "m.Pune = Location(label='Pune, India')\n",
    "\n",
    "m.Link(m.Goa, m.Pune)\n",
    "m.linkages"
   ]
  },
  {
   "cell_type": "markdown",
   "id": "451cfd9a",
   "metadata": {},
   "source": [
    "### 2. Bi-directional Linkage Between Locations\n",
    "\n",
    "If `bi=True` is provided as an input, a second independent `Linkage` is created"
   ]
  },
  {
   "cell_type": "code",
   "execution_count": null,
   "id": "7185a87c",
   "metadata": {},
   "outputs": [
    {
     "data": {
      "text/plain": [
       "[TX-CA, CA-TX]"
      ]
     },
     "execution_count": 12,
     "metadata": {},
     "output_type": "execute_result"
    }
   ],
   "source": [
    "from energia import Model, Location, Linkage\n",
    "\n",
    "m = Model()\n",
    "m.TX = Location(label='Texas, USA')\n",
    "m.CA = Location(label='California, USA')\n",
    "\n",
    "m.Link(m.TX, m.CA, bi=True)\n",
    "m.linkages"
   ]
  },
  {
   "cell_type": "markdown",
   "id": "fa618765",
   "metadata": {},
   "source": [
    "### 3. Multiple Linkages Between Locations\n",
    "\n",
    "If multiple linkages exist between the same two locations, these need to be explicitly named and provided"
   ]
  },
  {
   "cell_type": "code",
   "execution_count": null,
   "id": "df352b42",
   "metadata": {},
   "outputs": [
    {
     "data": {
      "text/plain": [
       "[sea, air, -air]"
      ]
     },
     "execution_count": 13,
     "metadata": {},
     "output_type": "execute_result"
    }
   ],
   "source": [
    "from energia import Model, Location, Linkage, misc_units\n",
    "\n",
    "m = Model(init=[misc_units])\n",
    "\n",
    "m.USA = Location(label='USA')\n",
    "m.IND = Location(label='India')\n",
    "\n",
    "m.sea = Linkage(source=m.IND, sink=m.USA, dist=1400, basis=m.mile)\n",
    "m.air = Linkage(source=m.IND, sink=m.USA, dist=8000, basis=m.mile, bi=True)\n",
    "m.linkages"
   ]
  },
  {
   "cell_type": "markdown",
   "id": "aa58cb2a",
   "metadata": {},
   "source": [
    "The sea route is created in one direction. Two one direction linkages are created for the air route. The negative `Linkage` can be accessed using `-Linkage` as shown"
   ]
  },
  {
   "cell_type": "code",
   "execution_count": null,
   "id": "cc31ee1a",
   "metadata": {},
   "outputs": [
    {
     "data": {
      "text/plain": [
       "-air"
      ]
     },
     "execution_count": 14,
     "metadata": {},
     "output_type": "execute_result"
    }
   ],
   "source": [
    "-m.air"
   ]
  },
  {
   "cell_type": "markdown",
   "id": "5054b5d6",
   "metadata": {},
   "source": [
    "Negative linkages can also be declared as needed"
   ]
  },
  {
   "cell_type": "code",
   "execution_count": null,
   "id": "311e1e79",
   "metadata": {},
   "outputs": [
    {
     "data": {
      "text/plain": [
       "[sea, air, -air, sea_back]"
      ]
     },
     "execution_count": 15,
     "metadata": {},
     "output_type": "execute_result"
    }
   ],
   "source": [
    "m.sea_back = -m.sea\n",
    "m.space.linkages  # same as Model.linkages"
   ]
  },
  {
   "cell_type": "markdown",
   "id": "72530c8d",
   "metadata": {},
   "source": [
    "The sibling linkage can be checked"
   ]
  },
  {
   "cell_type": "code",
   "execution_count": 18,
   "id": "bfb31ce2",
   "metadata": {},
   "outputs": [
    {
     "data": {
      "text/plain": [
       "sea_back"
      ]
     },
     "execution_count": 18,
     "metadata": {},
     "output_type": "execute_result"
    }
   ],
   "source": [
    "m.sea.sib"
   ]
  },
  {
   "cell_type": "markdown",
   "id": "9f0be68a",
   "metadata": {},
   "source": [
    "## Ascertaining Connectivity\n",
    "\n",
    "Users can query Energia to see if two locations are connected. For a simple boolean answer, use `Location.connected()`"
   ]
  },
  {
   "cell_type": "code",
   "execution_count": 16,
   "id": "9d71c0e9",
   "metadata": {},
   "outputs": [
    {
     "data": {
      "text/plain": [
       "True"
      ]
     },
     "execution_count": 16,
     "metadata": {},
     "output_type": "execute_result"
    }
   ],
   "source": [
    "m.USA.connected(m.IND)"
   ]
  },
  {
   "cell_type": "markdown",
   "id": "d3b746ec",
   "metadata": {},
   "source": [
    "For more comprehensive information, use `Location.links()`"
   ]
  },
  {
   "cell_type": "code",
   "execution_count": 17,
   "id": "797f462f",
   "metadata": {},
   "outputs": [
    {
     "name": "stdout",
     "output_type": "stream",
     "text": [
      "IND is source and USA is sink in sea\n",
      "IND is source and USA is sink in air\n",
      "USA is source and IND is sink in -air\n",
      "USA is source and IND is sink in sea_back\n"
     ]
    },
    {
     "data": {
      "text/plain": [
       "[sea, air, -air, sea_back]"
      ]
     },
     "execution_count": 17,
     "metadata": {},
     "output_type": "execute_result"
    }
   ],
   "source": [
    "m.USA.links(m.IND)"
   ]
  }
 ],
 "metadata": {
  "kernelspec": {
   "display_name": ".venv",
   "language": "python",
   "name": "python3"
  },
  "language_info": {
   "codemirror_mode": {
    "name": "ipython",
    "version": 3
   },
   "file_extension": ".py",
   "mimetype": "text/x-python",
   "name": "python",
   "nbconvert_exporter": "python",
   "pygments_lexer": "ipython3",
   "version": "3.13.7"
  }
 },
 "nbformat": 4,
 "nbformat_minor": 5
}
