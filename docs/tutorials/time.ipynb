{
 "cells": [
  {
   "cell_type": "markdown",
   "id": "b3fc79e0",
   "metadata": {},
   "source": [
    "# Defining Time\n",
    "\n",
    "The scope of the model/problem, in the case of energy systems modeling, describes the spatiotemporal extent of the system. In Energia, `Time` and `Space` are discretized independently.\n",
    "\n",
    "This tutorial discusses the definition of time. It is important to note that overall temporal span (`horizon`) is the same for all temporal scales, they differ only in the number of discretizations (cardinality of the set). In the context of data-driven modeling, this can be construed as the frequency  of sampling information. \n",
    "\n",
    "## Library Initialization\n",
    "\n",
    "The initialization `time_units` from `energia.library.components` can be used"
   ]
  },
  {
   "cell_type": "code",
   "execution_count": 1,
   "id": "7f39e8d8",
   "metadata": {},
   "outputs": [
    {
     "data": {
      "text/plain": [
       "[s, min, h, d, y]"
      ]
     },
     "execution_count": 1,
     "metadata": {},
     "output_type": "execute_result"
    }
   ],
   "source": [
    "from energia import Model, time_units\n",
    "\n",
    "m = Model(init=[time_units])\n",
    "m.time.periods"
   ]
  },
  {
   "cell_type": "markdown",
   "id": "f97e581d",
   "metadata": {},
   "source": [
    "## Bespoke Definition\n",
    "\n",
    "There are three ways to define temporal scales\n",
    "\n",
    "### 1. Using the `Model.TemporalScales` function"
   ]
  },
  {
   "cell_type": "code",
   "execution_count": 2,
   "id": "0036e1c3",
   "metadata": {},
   "outputs": [
    {
     "data": {
      "text/plain": [
       "[s, min, h, d, y]"
      ]
     },
     "execution_count": 2,
     "metadata": {},
     "output_type": "execute_result"
    }
   ],
   "source": [
    "from energia import Model\n",
    "\n",
    "m = Model()\n",
    "m.TemporalScales([1, 365, 24, 60, 60], ['y', 'd', 'h', 'min', 's'])\n",
    "m.time.periods"
   ]
  },
  {
   "cell_type": "markdown",
   "id": "b6276ad2",
   "metadata": {},
   "source": [
    "### 2. Using `TemporalScales` object"
   ]
  },
  {
   "cell_type": "code",
   "execution_count": 3,
   "id": "dc86f6a4",
   "metadata": {},
   "outputs": [
    {
     "data": {
      "text/plain": [
       "[s, min, h, d, y]"
      ]
     },
     "execution_count": 3,
     "metadata": {},
     "output_type": "execute_result"
    }
   ],
   "source": [
    "from energia import Model, TemporalScales\n",
    "\n",
    "m = Model()\n",
    "m.scales = TemporalScales([1, 365, 24, 60, 60], ['y', 'd', 'h', 'min', 's'])\n",
    "m.time.periods"
   ]
  },
  {
   "cell_type": "markdown",
   "id": "32fc95e0",
   "metadata": {},
   "source": [
    "### 3. Using `Periods`\n",
    "\n",
    "This provides more flexibility in definition, as periods can be defined relationally\n",
    "Note that `Model.periods` can be used directly instead of `Model.time.periods`"
   ]
  },
  {
   "cell_type": "code",
   "execution_count": 4,
   "id": "ebf60ab5",
   "metadata": {},
   "outputs": [
    {
     "data": {
      "text/plain": [
       "[h, d, y, m]"
      ]
     },
     "execution_count": 4,
     "metadata": {},
     "output_type": "execute_result"
    }
   ],
   "source": [
    "from energia import Model, Periods\n",
    "\n",
    "m = Model()\n",
    "m.h = Periods(label='hours')\n",
    "m.d = 24 * m.h\n",
    "m.y = 365 * m.d\n",
    "\n",
    "m.m = m.h / 60\n",
    "m.periods"
   ]
  },
  {
   "cell_type": "markdown",
   "id": "e4385795",
   "metadata": {},
   "source": [
    "## Horizon\n",
    "\n",
    "The horizon is the temporal extent of the modeling exercise.\n",
    "\n",
    "In Energia, this is just the set of periods with the least cardinality, i.e. the most sparsely discretized set or $\\hat{\\mathcal{T}} = arg \\text{  } max_{t \\in \\mathcal{T}^{}} |t|$"
   ]
  },
  {
   "cell_type": "code",
   "execution_count": 5,
   "id": "e1b36492",
   "metadata": {},
   "outputs": [
    {
     "data": {
      "text/plain": [
       "y"
      ]
     },
     "execution_count": 5,
     "metadata": {},
     "output_type": "execute_result"
    }
   ],
   "source": [
    "m.horizon"
   ]
  },
  {
   "cell_type": "markdown",
   "id": "6a1a151e",
   "metadata": {},
   "source": [
    "Each period in the set is treated as \"point\" rather than a \"span\". There could be cases where two temporal scales with the same number of discretizations (with respect to a common root/horizon, or the horizon itself) could be needed as they represent different sampling timestamps. This has however not been implemented yet."
   ]
  },
  {
   "cell_type": "markdown",
   "id": "36a42d23",
   "metadata": {},
   "source": [
    "## Comparison\n",
    "\n",
    "Note that all these are using defining procedure \"3. Using Periods\"\n",
    "\n",
    "Like `Unit`, time periods can also be compared using `.howmany` as shown"
   ]
  },
  {
   "cell_type": "code",
   "execution_count": 6,
   "id": "80941ee9",
   "metadata": {},
   "outputs": [
    {
     "data": {
      "text/plain": [
       "525600"
      ]
     },
     "execution_count": 6,
     "metadata": {},
     "output_type": "execute_result"
    }
   ],
   "source": [
    "m.y.howmany(m.m)"
   ]
  },
  {
   "cell_type": "markdown",
   "id": "9680c172",
   "metadata": {},
   "source": [
    "Note that that all `Periods` have been defined with `m.h` as the basis.\n",
    "Thus, minutes (`m.m`) is defined as a fraction of hours (`m.h`)"
   ]
  },
  {
   "cell_type": "code",
   "execution_count": 7,
   "id": "02d0388a",
   "metadata": {},
   "outputs": [
    {
     "data": {
      "text/plain": [
       "(0.016666666666666666, h)"
      ]
     },
     "execution_count": 7,
     "metadata": {},
     "output_type": "execute_result"
    }
   ],
   "source": [
    "m.m.periods, m.m.of"
   ]
  },
  {
   "cell_type": "markdown",
   "id": "60996aa4",
   "metadata": {},
   "source": [
    "A convenient way to check how they map is using `m.time.tree` \n",
    "\n",
    "Trees always provides a comparison on the basis of the `horizon`"
   ]
  },
  {
   "cell_type": "code",
   "execution_count": 8,
   "id": "ef4471cd",
   "metadata": {},
   "outputs": [
    {
     "data": {
      "text/plain": [
       "{8760: h, 365: d, 1: y, 525600: m}"
      ]
     },
     "execution_count": 8,
     "metadata": {},
     "output_type": "execute_result"
    }
   ],
   "source": [
    "m.time.tree"
   ]
  },
  {
   "cell_type": "markdown",
   "id": "b28de2f3",
   "metadata": {},
   "source": [
    "## Search \n",
    "\n",
    "A period set of appropriate cardinality can be found using `m.time.find`"
   ]
  },
  {
   "cell_type": "code",
   "execution_count": 9,
   "id": "1be83ce9",
   "metadata": {},
   "outputs": [
    {
     "data": {
      "text/plain": [
       "d"
      ]
     },
     "execution_count": 9,
     "metadata": {},
     "output_type": "execute_result"
    }
   ],
   "source": [
    "m.time.find(365)"
   ]
  },
  {
   "cell_type": "markdown",
   "id": "41d9048e",
   "metadata": {},
   "source": [
    "## Auto-generation\n",
    "\n",
    "The laziest way to handle time is if you do not declare any `Periods` and let Energia declare them based on the cardinality of the parameter sets being passed. This is however prone to modeling error if working with numerous scales. A UserWarning is provided when a new set is created. For single period problems, it is safe to let Energia generate the temporal scale which itself serves as the `horizon` "
   ]
  },
  {
   "cell_type": "code",
   "execution_count": 10,
   "id": "3523797f",
   "metadata": {},
   "outputs": [
    {
     "name": "stderr",
     "output_type": "stream",
     "text": [
      "C:\\Users\\cacodcar\\research\\packages\\energiapy\\src\\energia\\dimensions\\time.py:72: UserWarning: 2666 does not match the size of any data set passed, generating 't2666'.)\n",
      "  warn(\n"
     ]
    },
    {
     "data": {
      "text/plain": [
       "[h, d, y, m, t4]"
      ]
     },
     "execution_count": 10,
     "metadata": {},
     "output_type": "execute_result"
    }
   ],
   "source": [
    "m.time.find(2666)\n",
    "m.periods"
   ]
  },
  {
   "cell_type": "markdown",
   "id": "e341cfee",
   "metadata": {},
   "source": [
    "## Lag\n",
    "\n",
    "Lag can be provided in data input, for attributes such as construction lag or production time. Time is essentially treated as a resource."
   ]
  },
  {
   "cell_type": "code",
   "execution_count": 11,
   "id": "8b018d2f",
   "metadata": {},
   "outputs": [
    {
     "data": {
      "text/plain": [
       "(-3d, energia.components.temporal.lag.Lag)"
      ]
     },
     "execution_count": 11,
     "metadata": {},
     "output_type": "execute_result"
    }
   ],
   "source": [
    "lag = -3 * m.d\n",
    "lag, type(lag)"
   ]
  },
  {
   "cell_type": "markdown",
   "id": "6f28add8",
   "metadata": {},
   "source": [
    "Lag objects are not saved and are only used to write appropriate constraints. In the example, the index set (`.I` for any Energia component) is pushed 3 time steps forward"
   ]
  },
  {
   "cell_type": "code",
   "execution_count": 12,
   "id": "a634b694",
   "metadata": {},
   "outputs": [
    {
     "data": {
      "text/plain": [
       "([d[0], d[1], d[2], d[3], d[4]], [None, None, None, d[0], d[1]])"
      ]
     },
     "execution_count": 12,
     "metadata": {},
     "output_type": "execute_result"
    }
   ],
   "source": [
    "m.d.I._[:5], lag.I._[:5]"
   ]
  }
 ],
 "metadata": {
  "kernelspec": {
   "display_name": ".venv",
   "language": "python",
   "name": "python3"
  },
  "language_info": {
   "codemirror_mode": {
    "name": "ipython",
    "version": 3
   },
   "file_extension": ".py",
   "mimetype": "text/x-python",
   "name": "python",
   "nbconvert_exporter": "python",
   "pygments_lexer": "ipython3",
   "version": "3.13.8"
  }
 },
 "nbformat": 4,
 "nbformat_minor": 5
}
