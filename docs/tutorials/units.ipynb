{
 "cells": [
  {
   "cell_type": "markdown",
   "id": "9a49c970",
   "metadata": {},
   "source": [
    "# Defining Units\n",
    "\n",
    "Units provide a basis and context to parameter inputs. Some common initializations for units can be found in `energia.library.components`, namely `si_units` which are subset of [SI Units](https://www.nist.gov/pml/owm/metric-si/si-units) and `misc_units` which include some [US Customary Units](https://www.govinfo.gov/content/pkg/GOVPUB-C13-2aca3b6352009e0772f04a41c2011d3c/pdf/GOVPUB-C13-2aca3b6352009e0772f04a41c2011d3c.pdf)\n",
    "\n",
    "## Using library initializations"
   ]
  },
  {
   "cell_type": "code",
   "execution_count": 2,
   "id": "eff3c9c0",
   "metadata": {},
   "outputs": [],
   "source": [
    "from energia import Model, si_units, misc_units\n",
    "\n",
    "m = Model(init=[si_units, misc_units])"
   ]
  },
  {
   "cell_type": "markdown",
   "id": "3d02e04b",
   "metadata": {},
   "source": [
    "## For bespoke units \n",
    "\n",
    "It is important to only provide **one** base unit for each type. For example, to define all units of weights:"
   ]
  },
  {
   "cell_type": "markdown",
   "id": "fa2c0b23",
   "metadata": {},
   "source": [
    "### 1. Define a base `Unit`"
   ]
  },
  {
   "cell_type": "code",
   "execution_count": 3,
   "id": "2cc2b46e",
   "metadata": {},
   "outputs": [],
   "source": [
    "from energia import Model, Unit\n",
    "\n",
    "m = Model()\n",
    "m.kg = Unit(label='kilogram')"
   ]
  },
  {
   "cell_type": "markdown",
   "id": "43f2abd9",
   "metadata": {},
   "source": [
    "### 2. Define the rest of weight units in relation to `m.kg`"
   ]
  },
  {
   "cell_type": "code",
   "execution_count": 4,
   "id": "70a7ddc4",
   "metadata": {},
   "outputs": [],
   "source": [
    "m.ton = 1000 * m.kg\n",
    "m.g = 0.001 * m.kg"
   ]
  },
  {
   "cell_type": "markdown",
   "id": "29df1c55",
   "metadata": {},
   "source": [
    "## Comparison\n",
    "\n",
    "The relation between different units can be checked:"
   ]
  },
  {
   "cell_type": "code",
   "execution_count": 5,
   "id": "a728f2f4",
   "metadata": {},
   "outputs": [
    {
     "data": {
      "text/plain": [
       "1e-06"
      ]
     },
     "execution_count": 5,
     "metadata": {},
     "output_type": "execute_result"
    }
   ],
   "source": [
    "m.g.howmany(m.ton)"
   ]
  },
  {
   "cell_type": "markdown",
   "id": "44646075",
   "metadata": {},
   "source": [
    "In the above example, `m.ton` and `m.g` are compared based on the common basis `m.kg`.\n",
    "\n",
    "Having independent measures for the same category could be fine as long as you are careful during implementation and there no query that involves a comparison. Generally, comparing two units with no common basis throws an error."
   ]
  },
  {
   "cell_type": "code",
   "execution_count": 6,
   "id": "7eae2644",
   "metadata": {},
   "outputs": [
    {
     "ename": "ValueError",
     "evalue": "m and kg do not have a common basis for comparison",
     "output_type": "error",
     "traceback": [
      "\u001b[31m---------------------------------------------------------------------------\u001b[39m",
      "\u001b[31mValueError\u001b[39m                                Traceback (most recent call last)",
      "\u001b[36mCell\u001b[39m\u001b[36m \u001b[39m\u001b[32mIn[6]\u001b[39m\u001b[32m, line 2\u001b[39m\n\u001b[32m      1\u001b[39m m.m = Unit(label=\u001b[33m'\u001b[39m\u001b[33mmeter\u001b[39m\u001b[33m'\u001b[39m)\n\u001b[32m----> \u001b[39m\u001b[32m2\u001b[39m \u001b[43mm\u001b[49m\u001b[43m.\u001b[49m\u001b[43mm\u001b[49m\u001b[43m.\u001b[49m\u001b[43mhowmany\u001b[49m\u001b[43m(\u001b[49m\u001b[43mm\u001b[49m\u001b[43m.\u001b[49m\u001b[43mkg\u001b[49m\u001b[43m)\u001b[49m\n",
      "\u001b[36mFile \u001b[39m\u001b[32m~\\research\\packages\\energiapy\\src\\energia\\components\\measure\\unit.py:64\u001b[39m, in \u001b[36mUnit.howmany\u001b[39m\u001b[34m(self, basis)\u001b[39m\n\u001b[32m     60\u001b[39m     \u001b[38;5;28;01mreturn\u001b[39;00m \u001b[38;5;28mself\u001b[39m.times / basis.times\n\u001b[32m     62\u001b[39m \u001b[38;5;66;03m# if no common basis is found\u001b[39;00m\n\u001b[32m     63\u001b[39m \u001b[38;5;66;03m# raise an error\u001b[39;00m\n\u001b[32m---> \u001b[39m\u001b[32m64\u001b[39m \u001b[38;5;28;01mraise\u001b[39;00m \u001b[38;5;167;01mValueError\u001b[39;00m(\n\u001b[32m     65\u001b[39m     \u001b[33mf\u001b[39m\u001b[33m\"\u001b[39m\u001b[38;5;132;01m{\u001b[39;00m\u001b[38;5;28mself\u001b[39m\u001b[38;5;132;01m}\u001b[39;00m\u001b[33m and \u001b[39m\u001b[38;5;132;01m{\u001b[39;00mbasis\u001b[38;5;132;01m}\u001b[39;00m\u001b[33m do not have a common basis for comparison\u001b[39m\u001b[33m\"\u001b[39m\n\u001b[32m     66\u001b[39m )\n",
      "\u001b[31mValueError\u001b[39m: m and kg do not have a common basis for comparison"
     ]
    }
   ],
   "source": [
    "m.m = Unit(label='meter')\n",
    "m.m.howmany(m.kg)"
   ]
  }
 ],
 "metadata": {
  "kernelspec": {
   "display_name": ".venv",
   "language": "python",
   "name": "python3"
  },
  "language_info": {
   "codemirror_mode": {
    "name": "ipython",
    "version": 3
   },
   "file_extension": ".py",
   "mimetype": "text/x-python",
   "name": "python",
   "nbconvert_exporter": "python",
   "pygments_lexer": "ipython3",
   "version": "3.13.7"
  }
 },
 "nbformat": 4,
 "nbformat_minor": 5
}
