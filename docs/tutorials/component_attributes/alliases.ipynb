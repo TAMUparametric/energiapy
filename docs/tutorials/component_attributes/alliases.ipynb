{
 "cells": [
  {
   "cell_type": "markdown",
   "id": "575d2852",
   "metadata": {},
   "source": [
    "# List of Attributes"
   ]
  },
  {
   "cell_type": "code",
   "execution_count": 10,
   "id": "060c6283",
   "metadata": {},
   "outputs": [],
   "source": [
    "from energia import *\n",
    "m = Model()"
   ]
  },
  {
   "cell_type": "code",
   "execution_count": 11,
   "id": "cc189d15",
   "metadata": {},
   "outputs": [
    {
     "data": {
      "text/plain": [
       "{energia.components.temporal.periods.Periods: ('time', 'periods'),\n",
       " energia.components.temporal.modes.Modes: ('time', 'modes'),\n",
       " energia.components.spatial.location.Location: ('space', 'locations'),\n",
       " energia.components.spatial.linkage.Linkage: ('space', 'linkages'),\n",
       " energia.components.commodity.currency.Currency: ('system', 'currencies'),\n",
       " energia.components.commodity.land.Land: ('system', 'lands'),\n",
       " energia.components.commodity.emission.Emission: ('system', 'emissions'),\n",
       " energia.components.commodity.material.Material: ('system', 'materials'),\n",
       " energia.components.commodity.resource.Resource: ('system', 'resources'),\n",
       " energia.components.operation.process.Process: ('system', 'processes'),\n",
       " energia.components.operation.transport.Transport: ('system', 'transports'),\n",
       " energia.components.operation.storage.Storage: ('system', 'storages'),\n",
       " energia.components.impact.categories.Environ: ('impact', 'environment'),\n",
       " energia.components.impact.categories.Social: ('impact', 'society'),\n",
       " energia.components.impact.categories.Economic: ('impact', 'economy'),\n",
       " energia.components.game.player.Player: ('game', 'players'),\n",
       " energia.components.game.couple.Interact: ('game', 'interacts'),\n",
       " energia.modeling.variables.control.Control: ('problem', 'controls'),\n",
       " energia.modeling.variables.states.Stream: ('problem', 'streams'),\n",
       " energia.modeling.variables.states.State: ('problem', 'states'),\n",
       " energia.modeling.variables.states.Consequence: ('problem', 'consequences')}"
      ]
     },
     "execution_count": 11,
     "metadata": {},
     "output_type": "execute_result"
    }
   ],
   "source": [
    "m.familytree"
   ]
  },
  {
   "cell_type": "code",
   "execution_count": 12,
   "id": "ebf6176b",
   "metadata": {},
   "outputs": [
    {
     "data": {
      "text/plain": [
       "{'periods': 'time',\n",
       " 'modes': 'time',\n",
       " 'locations': 'space',\n",
       " 'linkages': 'space',\n",
       " 'currencies': 'system',\n",
       " 'lands': 'system',\n",
       " 'emissions': 'system',\n",
       " 'materials': 'system',\n",
       " 'resources': 'system',\n",
       " 'processes': 'system',\n",
       " 'transports': 'system',\n",
       " 'storages': 'system',\n",
       " 'environment': 'impact',\n",
       " 'society': 'impact',\n",
       " 'economy': 'impact',\n",
       " 'players': 'game',\n",
       " 'interacts': 'game',\n",
       " 'controls': 'problem',\n",
       " 'streams': 'problem',\n",
       " 'states': 'problem',\n",
       " 'consequences': 'problem'}"
      ]
     },
     "execution_count": 12,
     "metadata": {},
     "output_type": "execute_result"
    }
   ],
   "source": [
    "m.ancestry"
   ]
  },
  {
   "cell_type": "code",
   "execution_count": 13,
   "id": "af5c8db8",
   "metadata": {},
   "outputs": [
    {
     "data": {
      "text/plain": [
       "['constraint',\n",
       " 'function',\n",
       " 'variable',\n",
       " 'parameter',\n",
       " 'theta',\n",
       " 'constraints',\n",
       " 'constraint_sets',\n",
       " 'functions',\n",
       " 'function_sets',\n",
       " 'variables',\n",
       " 'variable_sets',\n",
       " 'parameters',\n",
       " 'parameter_sets',\n",
       " 'thetas',\n",
       " 'theta_sets',\n",
       " 'solution',\n",
       " 'formulation',\n",
       " 'evaluation',\n",
       " 'n_constraint',\n",
       " 'n_function',\n",
       " 'n_variable',\n",
       " 'n_parameter',\n",
       " 'n_theta',\n",
       " 'n_constraints',\n",
       " 'n_constraint_sets',\n",
       " 'n_functions',\n",
       " 'n_function_sets',\n",
       " 'n_variables',\n",
       " 'n_variable_sets',\n",
       " 'n_parameters',\n",
       " 'n_parameter_sets',\n",
       " 'n_thetas',\n",
       " 'n_theta_sets',\n",
       " 'n_solution',\n",
       " 'n_formulation',\n",
       " 'n_evaluation',\n",
       " 'index_sets',\n",
       " 'indices',\n",
       " 'objectives',\n",
       " 'parameter_sets',\n",
       " 'X']"
      ]
     },
     "execution_count": 13,
     "metadata": {},
     "output_type": "execute_result"
    }
   ],
   "source": [
    "m.program_attrs"
   ]
  },
  {
   "cell_type": "code",
   "execution_count": 14,
   "id": "2301be5a",
   "metadata": {},
   "outputs": [
    {
     "data": {
      "text/plain": [
       "{'horizon': Time(m),\n",
       " 'network': Space(m),\n",
       " 'indicators': Impact(m),\n",
       " 'operations': System(m),\n",
       " 'aspects': Problem(m),\n",
       " 'domains': Problem(m),\n",
       " 'A': Program(m),\n",
       " 'B': Program(m),\n",
       " 'C': Program(m),\n",
       " 'F': Program(m),\n",
       " 'G': Program(m),\n",
       " 'H': Program(m),\n",
       " 'CrA': Program(m),\n",
       " 'CrB': Program(m),\n",
       " 'NN': Program(m),\n",
       " 'A_with_NN': Program(m),\n",
       " 'B_with_NN': Program(m),\n",
       " 'Z': Program(m),\n",
       " 'P': Program(m)}"
      ]
     },
     "execution_count": 14,
     "metadata": {},
     "output_type": "execute_result"
    }
   ],
   "source": [
    "m.properties"
   ]
  },
  {
   "cell_type": "code",
   "execution_count": 15,
   "id": "4f392e4c",
   "metadata": {},
   "outputs": [
    {
     "data": {
      "text/plain": [
       "{'l': <bound method Model._l0 of m>,\n",
       " 'l0': <bound method Model._l0 of m>,\n",
       " 't0': <bound method Model._t0 of m>,\n",
       " 't': <bound method Model._t0 of m>,\n",
       " 'money': <bound method Model._cash of m>}"
      ]
     },
     "execution_count": 15,
     "metadata": {},
     "output_type": "execute_result"
    }
   ],
   "source": [
    "m.default_components"
   ]
  },
  {
   "cell_type": "code",
   "execution_count": 16,
   "id": "a743906f",
   "metadata": {},
   "outputs": [
    {
     "data": {
      "text/plain": [
       "{'size': {'capacity': capacity},\n",
       " 'volume': {'capacity': capacity},\n",
       " 'throughput': {'capacity': capacity},\n",
       " 'potential': {'capacity': capacity},\n",
       " 'output': {'capacity': capacity},\n",
       " 'cap': {'capacity': capacity},\n",
       " 'install': {'setup': setup},\n",
       " 'build': {'setup': setup},\n",
       " 'construct': {'setup': setup},\n",
       " 'commission': {'setup': setup},\n",
       " 'remove': {'dismantle': dismantle},\n",
       " 'take_apart': {'dismantle': dismantle},\n",
       " 'decommission': {'dismantle': dismantle},\n",
       " 'disassemble': {'dismantle': dismantle},\n",
       " 'break_down': {'dismantle': dismantle},\n",
       " 'minimize': {'dismantle': dismantle},\n",
       " 'run': {'operate': operate},\n",
       " 'control': {'operate': operate},\n",
       " 'ramp_up': {'rampup': rampup},\n",
       " 'boost': {'rampup': rampup},\n",
       " 'accelerate': {'rampup': rampup},\n",
       " 'expand': {'rampup': rampup},\n",
       " 'scale_up': {'rampup': rampup},\n",
       " 'reduce': {'rampdown': rampdown},\n",
       " 'decrease': {'rampdown': rampdown},\n",
       " 'slow_down': {'rampdown': rampdown},\n",
       " 'scale_down': {'rampdown': rampdown},\n",
       " 'generate': {'produce': produce},\n",
       " 'manufacture': {'produce': produce},\n",
       " 'create': {'produce': produce},\n",
       " 'fabricate': {'produce': produce},\n",
       " 'yield': {'produce': produce},\n",
       " 'useup': {'expend': expend},\n",
       " 'use_up': {'expend': expend},\n",
       " 'utilize': {'expend': expend},\n",
       " 'import': {'ship_in': ship_in},\n",
       " 'deliver_to': {'ship_in': ship_in},\n",
       " 'bring_in': {'ship_in': ship_in},\n",
       " 'transport_in': {'ship_in': ship_in},\n",
       " 'send': {'ship_out': ship_out},\n",
       " 'export': {'ship_out': ship_out},\n",
       " 'dispatch': {'ship_out': ship_out},\n",
       " 'deliver': {'ship_out': ship_out},\n",
       " 'transport_out': {'ship_out': ship_out},\n",
       " 'inv': {'inventory': inventory},\n",
       " 'stock': {'inventory': inventory},\n",
       " 'storage': {'inventory': inventory},\n",
       " 'reserve': {'inventory': inventory},\n",
       " 'buffer': {'inventory': inventory},\n",
       " 'take': {'consume': consume},\n",
       " 'absorb': {'consume': consume},\n",
       " 'deplete': {'consume': consume},\n",
       " 'procure': {'consume': consume},\n",
       " 'obtain': {'consume': consume},\n",
       " 'free': {'release': release},\n",
       " 'deploy': {'release': release},\n",
       " 'liberate': {'release': release},\n",
       " 'give_off': {'release': release},\n",
       " 'exhale': {'release': release},\n",
       " 'radiate': {'release': release},\n",
       " 'demand': {'release': release},\n",
       " 'purchase': {'buy': buy},\n",
       " 'acquire': {'buy': buy},\n",
       " 'order': {'buy': buy},\n",
       " 'market': {'sell': sell},\n",
       " 'retail': {'sell': sell},\n",
       " 'gain': {'earn': earn},\n",
       " 'receive': {'earn': earn},\n",
       " 'collect': {'earn': earn},\n",
       " 'accrue': {'earn': earn},\n",
       " 'credit': {'earn': earn},\n",
       " 'pay': {'spend': spend},\n",
       " 'expense': {'spend': spend},\n",
       " 'debit': {'spend': spend},\n",
       " 'emission': {'emit': emit},\n",
       " 'expel': {'emit': emit},\n",
       " 'pollute': {'emit': emit},\n",
       " 'pollution': {'emit': emit},\n",
       " 'diminish': {'abate': abate},\n",
       " 'lessen': {'abate': abate},\n",
       " 'curtail': {'abate': abate},\n",
       " 'sequester': {'abate': abate},\n",
       " 'advantage': {'benefit': benefit},\n",
       " 'profit': {'benefit': benefit},\n",
       " 'reward': {'benefit': benefit},\n",
       " 'value': {'benefit': benefit},\n",
       " 'damage': {'detriment': detriment},\n",
       " 'harm': {'detriment': detriment},\n",
       " 'disadvantage': {'detriment': detriment},\n",
       " 'discard': {'dispose': dispose},\n",
       " 'eliminate': {'dispose': dispose},\n",
       " 'get_rid_of': {'dispose': dispose},\n",
       " 'dump': {'dispose': dispose},\n",
       " 'employ': {'use': use},\n",
       " 'apply': {'use': use},\n",
       " 'exploit': {'use': use},\n",
       " 'inventory_setup': {'invsetup': invsetup},\n",
       " 'inv_install': {'invsetup': invsetup},\n",
       " 'inv_build': {'invsetup': invsetup},\n",
       " 'inv_construct': {'invsetup': invsetup},\n",
       " 'inv_commission': {'invsetup': invsetup},\n",
       " 'stock_install': {'invsetup': invsetup},\n",
       " 'stock_build': {'invsetup': invsetup},\n",
       " 'stock_construct': {'invsetup': invsetup},\n",
       " 'stock_commission': {'invsetup': invsetup},\n",
       " 'storage_install': {'invsetup': invsetup},\n",
       " 'storage_build': {'invsetup': invsetup},\n",
       " 'storage_construct': {'invsetup': invsetup},\n",
       " 'storage_commission': {'invsetup': invsetup},\n",
       " 'reserve_install': {'invsetup': invsetup},\n",
       " 'reserve_build': {'invsetup': invsetup},\n",
       " 'reserve_construct': {'invsetup': invsetup},\n",
       " 'reserve_commission': {'invsetup': invsetup},\n",
       " 'buffer_install': {'invsetup': invsetup},\n",
       " 'buffer_build': {'invsetup': invsetup},\n",
       " 'buffer_construct': {'invsetup': invsetup},\n",
       " 'buffer_commission': {'invsetup': invsetup},\n",
       " 'inventory_capacity': {'invcapacity': invcapacity},\n",
       " 'inv_size': {'invcapacity': invcapacity},\n",
       " 'inv_volume': {'invcapacity': invcapacity},\n",
       " 'inv_throughput': {'invcapacity': invcapacity},\n",
       " 'inv_potential': {'invcapacity': invcapacity},\n",
       " 'inv_output': {'invcapacity': invcapacity},\n",
       " 'inv_cap': {'invcapacity': invcapacity},\n",
       " 'stock_size': {'invcapacity': invcapacity},\n",
       " 'stock_volume': {'invcapacity': invcapacity},\n",
       " 'stock_throughput': {'invcapacity': invcapacity},\n",
       " 'stock_potential': {'invcapacity': invcapacity},\n",
       " 'stock_output': {'invcapacity': invcapacity},\n",
       " 'stock_cap': {'invcapacity': invcapacity},\n",
       " 'storage_size': {'invcapacity': invcapacity},\n",
       " 'storage_volume': {'invcapacity': invcapacity},\n",
       " 'storage_throughput': {'invcapacity': invcapacity},\n",
       " 'storage_potential': {'invcapacity': invcapacity},\n",
       " 'storage_output': {'invcapacity': invcapacity},\n",
       " 'storage_cap': {'invcapacity': invcapacity},\n",
       " 'reserve_size': {'invcapacity': invcapacity},\n",
       " 'reserve_volume': {'invcapacity': invcapacity},\n",
       " 'reserve_throughput': {'invcapacity': invcapacity},\n",
       " 'reserve_potential': {'invcapacity': invcapacity},\n",
       " 'reserve_output': {'invcapacity': invcapacity},\n",
       " 'reserve_cap': {'invcapacity': invcapacity},\n",
       " 'buffer_size': {'invcapacity': invcapacity},\n",
       " 'buffer_volume': {'invcapacity': invcapacity},\n",
       " 'buffer_throughput': {'invcapacity': invcapacity},\n",
       " 'buffer_potential': {'invcapacity': invcapacity},\n",
       " 'buffer_output': {'invcapacity': invcapacity},\n",
       " 'buffer_cap': {'invcapacity': invcapacity},\n",
       " 'inventory_dismantle': {'invdismantle': invdismantle},\n",
       " 'inv_remove': {'invdismantle': invdismantle},\n",
       " 'inv_take_apart': {'invdismantle': invdismantle},\n",
       " 'inv_decommission': {'invdismantle': invdismantle},\n",
       " 'inv_disassemble': {'invdismantle': invdismantle},\n",
       " 'inv_break_down': {'invdismantle': invdismantle},\n",
       " 'inv_minimize': {'invdismantle': invdismantle},\n",
       " 'stock_remove': {'invdismantle': invdismantle},\n",
       " 'stock_take_apart': {'invdismantle': invdismantle},\n",
       " 'stock_decommission': {'invdismantle': invdismantle},\n",
       " 'stock_disassemble': {'invdismantle': invdismantle},\n",
       " 'stock_break_down': {'invdismantle': invdismantle},\n",
       " 'stock_minimize': {'invdismantle': invdismantle},\n",
       " 'storage_remove': {'invdismantle': invdismantle},\n",
       " 'storage_take_apart': {'invdismantle': invdismantle},\n",
       " 'storage_decommission': {'invdismantle': invdismantle},\n",
       " 'storage_disassemble': {'invdismantle': invdismantle},\n",
       " 'storage_break_down': {'invdismantle': invdismantle},\n",
       " 'storage_minimize': {'invdismantle': invdismantle},\n",
       " 'reserve_remove': {'invdismantle': invdismantle},\n",
       " 'reserve_take_apart': {'invdismantle': invdismantle},\n",
       " 'reserve_decommission': {'invdismantle': invdismantle},\n",
       " 'reserve_disassemble': {'invdismantle': invdismantle},\n",
       " 'reserve_break_down': {'invdismantle': invdismantle},\n",
       " 'reserve_minimize': {'invdismantle': invdismantle},\n",
       " 'buffer_remove': {'invdismantle': invdismantle},\n",
       " 'buffer_take_apart': {'invdismantle': invdismantle},\n",
       " 'buffer_decommission': {'invdismantle': invdismantle},\n",
       " 'buffer_disassemble': {'invdismantle': invdismantle},\n",
       " 'buffer_break_down': {'invdismantle': invdismantle},\n",
       " 'buffer_minimize': {'invdismantle': invdismantle}}"
      ]
     },
     "execution_count": 16,
     "metadata": {},
     "output_type": "execute_result"
    }
   ],
   "source": [
    "m.directory"
   ]
  },
  {
   "cell_type": "code",
   "execution_count": 17,
   "id": "14125291",
   "metadata": {},
   "outputs": [
    {
     "data": {
      "text/plain": [
       "{}"
      ]
     },
     "execution_count": 17,
     "metadata": {},
     "output_type": "execute_result"
    }
   ],
   "source": [
    "m.consume.aliases('eat')\n",
    "m.registry"
   ]
  },
  {
   "cell_type": "code",
   "execution_count": 19,
   "id": "83f4fa54",
   "metadata": {},
   "outputs": [
    {
     "data": {
      "text/plain": [
       "<bound method Aspect.aliases of consume>"
      ]
     },
     "execution_count": 19,
     "metadata": {},
     "output_type": "execute_result"
    }
   ],
   "source": [
    "m.consume.aliases"
   ]
  },
  {
   "cell_type": "code",
   "execution_count": 20,
   "id": "24c5174c",
   "metadata": {},
   "outputs": [
    {
     "ename": "AttributeError",
     "evalue": "m has no 'alias'",
     "output_type": "error",
     "traceback": [
      "\u001b[31m---------------------------------------------------------------------------\u001b[39m",
      "\u001b[31mAttributeError\u001b[39m                            Traceback (most recent call last)",
      "\u001b[36mCell\u001b[39m\u001b[36m \u001b[39m\u001b[32mIn[20]\u001b[39m\u001b[32m, line 1\u001b[39m\n\u001b[32m----> \u001b[39m\u001b[32m1\u001b[39m \u001b[43mm\u001b[49m\u001b[43m.\u001b[49m\u001b[43malias\u001b[49m\n",
      "\u001b[36mFile \u001b[39m\u001b[32m~/Research/packages/energiapy/src/energia/represent/model.py:963\u001b[39m, in \u001b[36mModel.__getattr__\u001b[39m\u001b[34m(self, name)\u001b[39m\n\u001b[32m    959\u001b[39m     \u001b[38;5;28mself\u001b[39m.registry[name] = aspect\n\u001b[32m    961\u001b[39m     \u001b[38;5;28;01mreturn\u001b[39;00m aspect\n\u001b[32m--> \u001b[39m\u001b[32m963\u001b[39m \u001b[38;5;28;01mraise\u001b[39;00m \u001b[38;5;167;01mAttributeError\u001b[39;00m(\n\u001b[32m    964\u001b[39m     \u001b[33mf\u001b[39m\u001b[33m\"\u001b[39m\u001b[38;5;132;01m{\u001b[39;00m\u001b[38;5;28mself\u001b[39m\u001b[38;5;132;01m}\u001b[39;00m\u001b[33m has no \u001b[39m\u001b[33m'\u001b[39m\u001b[38;5;132;01m{\u001b[39;00mname\u001b[38;5;132;01m}\u001b[39;00m\u001b[33m'\u001b[39m\u001b[33m\"\u001b[39m,\n\u001b[32m    965\u001b[39m )\n",
      "\u001b[31mAttributeError\u001b[39m: m has no 'alias'"
     ]
    }
   ],
   "source": [
    "m.alias"
   ]
  },
  {
   "cell_type": "code",
   "execution_count": null,
   "id": "ae262fb7",
   "metadata": {},
   "outputs": [],
   "source": []
  }
 ],
 "metadata": {
  "kernelspec": {
   "display_name": ".venv",
   "language": "python",
   "name": "python3"
  },
  "language_info": {
   "codemirror_mode": {
    "name": "ipython",
    "version": 3
   },
   "file_extension": ".py",
   "mimetype": "text/x-python",
   "name": "python",
   "nbconvert_exporter": "python",
   "pygments_lexer": "ipython3",
   "version": "3.13.7"
  }
 },
 "nbformat": 4,
 "nbformat_minor": 5
}
