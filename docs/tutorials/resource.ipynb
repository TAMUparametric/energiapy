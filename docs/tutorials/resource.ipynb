{
 "cells": [
  {
   "cell_type": "markdown",
   "id": "a653424a",
   "metadata": {},
   "source": [
    "# Defining Resources\n",
    "\n",
    "In the employed methodology, any stream can essentially be treated as a resource. As such, any system can be modeled using the general purpose object `Resource`. However, drawing a semantic distinction based on utility can make it easier to understand the model  "
   ]
  },
  {
   "cell_type": "markdown",
   "id": "7fcf8025",
   "metadata": {},
   "source": [
    "## General Resource\n",
    "\n",
    "Resources can be declared as shown below"
   ]
  },
  {
   "cell_type": "code",
   "execution_count": 29,
   "id": "83d020a9",
   "metadata": {},
   "outputs": [],
   "source": [
    "from energia import Model, Resource, Land, Periods, si_units\n",
    "\n",
    "m = Model(init=[si_units])\n",
    "\n",
    "m.q = Periods(label='Quarter')\n",
    "m.y = 4 * m.q\n",
    "m.y.label = 'Year'\n",
    "\n",
    "m.USD = Resource(label='US Dollar')\n",
    "m.h2o = Resource(label='Water')\n",
    "m.co2 = Resource(label='Carbon Dioxide')\n",
    "m.cement = Resource(label='Cement')\n",
    "m.barrenland = Land(label='Barren Land')"
   ]
  },
  {
   "cell_type": "markdown",
   "id": "6629b946",
   "metadata": {},
   "source": [
    "## Stream Bounds"
   ]
  },
  {
   "cell_type": "markdown",
   "id": "00f67cfc",
   "metadata": {},
   "source": [
    "Limits (lower and upper bounds) to stream flows can be provided based on data"
   ]
  },
  {
   "cell_type": "code",
   "execution_count": 30,
   "id": "1aa99ccd",
   "metadata": {},
   "outputs": [
    {
     "name": "stdout",
     "output_type": "stream",
     "text": [
      "--- General Resource Balance for h2o in (l, q): initializing constraint, adding consume(h2o, l, q)\n",
      "    Completed in 0.00013756752014160156 seconds\n",
      "--- Binding consume in domain (h2o, l, q)\n",
      "    Completed in 8.940696716308594e-05 seconds\n"
     ]
    }
   ],
   "source": [
    "m.h2o.consume <= [200, 150, 300, 250]"
   ]
  },
  {
   "cell_type": "markdown",
   "id": "36c33d07",
   "metadata": {},
   "source": [
    "This initiates both a General Resource `Balance` constraint (C[0]) and a `Bind` constraint. As the limit (upper bound) in this case was provided as a list of size 4, a constraint was written for every quarter (`m.q`). `Component.show()` can be used at any time to see the constraints the component is involved in. Use True for a descriptive print"
   ]
  },
  {
   "cell_type": "code",
   "execution_count": 31,
   "id": "70f1c4ed",
   "metadata": {},
   "outputs": [
    {
     "data": {
      "text/latex": [
       "$\\displaystyle [0]\\text{   }{{{cons}}}_{h2o, l, q} = 0$"
      ],
      "text/plain": [
       "<IPython.core.display.Math object>"
      ]
     },
     "metadata": {},
     "output_type": "display_data"
    },
    {
     "data": {
      "text/latex": [
       "$\\displaystyle [1]\\text{   }{{{cons}}}_{h2o, l, q} - {φ}_{} \\leq 0$"
      ],
      "text/plain": [
       "<IPython.core.display.Math object>"
      ]
     },
     "metadata": {},
     "output_type": "display_data"
    }
   ],
   "source": [
    "m.consume.show()"
   ]
  },
  {
   "cell_type": "markdown",
   "id": "a0d65c81",
   "metadata": {},
   "source": [
    "`Resource` comes with all the bells and whistles but provides no stop gaps. For example, I can set a limit (lower bound in this case) on how much USD (a currency) I want to dispense annually."
   ]
  },
  {
   "cell_type": "code",
   "execution_count": 32,
   "id": "a52f4365",
   "metadata": {},
   "outputs": [
    {
     "name": "stdout",
     "output_type": "stream",
     "text": [
      "--- General Resource Balance for USD in (l, y): initializing constraint, adding release(USD, l, y)\n",
      "    Completed in 0.00010275840759277344 seconds\n",
      "--- Binding release in domain (USD, l, y)\n",
      "    Completed in 8.320808410644531e-05 seconds\n"
     ]
    }
   ],
   "source": [
    "m.USD.release >= 2000"
   ]
  },
  {
   "cell_type": "markdown",
   "id": "c0d9c9b3",
   "metadata": {},
   "source": [
    "Only one constraint is written for the year since a singular value was provided which matches size 1 of `m.y`"
   ]
  },
  {
   "cell_type": "code",
   "execution_count": 33,
   "id": "86af15cc",
   "metadata": {},
   "outputs": [
    {
     "data": {
      "text/latex": [
       "$\\displaystyle [2]\\text{   }-{{{rlse}}}_{USD, l, y} = 0$"
      ],
      "text/plain": [
       "<IPython.core.display.Math object>"
      ]
     },
     "metadata": {},
     "output_type": "display_data"
    },
    {
     "data": {
      "text/latex": [
       "$\\displaystyle [3]\\text{   }-{{{rlse}}}_{USD, l, y} + 2000 \\leq 0$"
      ],
      "text/plain": [
       "<IPython.core.display.Math object>"
      ]
     },
     "metadata": {},
     "output_type": "display_data"
    }
   ],
   "source": [
    "m.USD.show()"
   ]
  },
  {
   "cell_type": "markdown",
   "id": "bc207280",
   "metadata": {},
   "source": [
    "Using exclusive subsets can help restrict their behavior to logical possibilities. As seen below, an error is thrown when I try to consume INR"
   ]
  },
  {
   "cell_type": "code",
   "execution_count": 34,
   "id": "a3492f23",
   "metadata": {},
   "outputs": [],
   "source": [
    "from energia import Model, Currency\n",
    "\n",
    "m = Model()\n",
    "m.INR = Currency(label='Indian Rupee')\n",
    "# uncomment and run this to see thee error\n",
    "# m.INR.consume >= 20"
   ]
  },
  {
   "cell_type": "markdown",
   "id": "6be4034d",
   "metadata": {},
   "source": [
    "## Resource Subsets\n",
    "\n",
    "There are many different types of resources, each with their limited set of `Aspect`. Refer to the documentation to see them. The distinction between `Resource` and `Material` is especially tenuous "
   ]
  },
  {
   "cell_type": "code",
   "execution_count": 35,
   "id": "3a1b9db8",
   "metadata": {},
   "outputs": [],
   "source": [
    "from energia import (\n",
    "    Model,\n",
    "    Resource,\n",
    "    Currency,\n",
    "    Material,\n",
    "    Land,\n",
    "    Emission,\n",
    "    Periods,\n",
    "    si_units,\n",
    ")\n",
    "\n",
    "m = Model(init=[si_units])\n",
    "\n",
    "m.q = Periods(label='Quarter')\n",
    "m.y = 4 * m.q\n",
    "m.y.label = 'Year'\n",
    "\n",
    "m.USD = Currency(label='US Dollar')\n",
    "m.h2o = Resource(label='Water')\n",
    "m.co2 = Resource(label='Carbon Dioxide')\n",
    "m.cement = Material(label='Cement')\n",
    "m.barrenland = Land(label='Barren Land')\n",
    "m.farmland = Land(label='Farm Land')"
   ]
  },
  {
   "cell_type": "markdown",
   "id": "a5fcdbda",
   "metadata": {},
   "source": [
    "## Stream Calculations"
   ]
  },
  {
   "cell_type": "code",
   "execution_count": 36,
   "id": "aee8ffd3",
   "metadata": {},
   "outputs": [
    {
     "name": "stdout",
     "output_type": "stream",
     "text": [
      "--- General Resource Balance for cement in (l, y): initializing constraint, adding use(cement, l, y)\n",
      "    Completed in 9.34600830078125e-05 seconds\n"
     ]
    }
   ],
   "source": [
    "m.cement.use[m.h2o.consume] == 3000"
   ]
  },
  {
   "cell_type": "code",
   "execution_count": 37,
   "id": "a5660386",
   "metadata": {},
   "outputs": [
    {
     "name": "stdout",
     "output_type": "stream",
     "text": [
      "--- Mapping consume across time from (cement, l, q) to (cement, l, y)\n",
      "--- Creating map to (cement, l, y). Mapping consume: from (cement, l, q) to (cement, l, y)\n",
      "    Completed in 8.177757263183594e-05 seconds\n",
      "--- General Resource Balance for cement in (l, y): adding consume(cement, l, y)\n",
      "    Completed in 7.033348083496094e-05 seconds\n"
     ]
    }
   ],
   "source": [
    "m.cement.consume[m.USD.spend] == [30, 25, 35, 40]"
   ]
  },
  {
   "cell_type": "code",
   "execution_count": 38,
   "id": "6ee65d43",
   "metadata": {},
   "outputs": [
    {
     "data": {
      "text/latex": [
       "$\\displaystyle [1]\\text{   }{{{cons}}}_{h2o, l, y, {use}, cement} - 3000 \\cdot {{use}}_{cement, l, y} = 0$"
      ],
      "text/plain": [
       "<IPython.core.display.Math object>"
      ]
     },
     "metadata": {},
     "output_type": "display_data"
    },
    {
     "data": {
      "text/latex": [
       "$\\displaystyle [3]\\text{   }{{spend}}_{USD, l, q, {consume}, cement} - {φ}_{} \\cdot {{{{cons}}}}_{cement, l, q} = 0$"
      ],
      "text/plain": [
       "<IPython.core.display.Math object>"
      ]
     },
     "metadata": {},
     "output_type": "display_data"
    }
   ],
   "source": [
    "m.cement.show(category='Calculation')"
   ]
  },
  {
   "cell_type": "markdown",
   "id": "4ab8b429",
   "metadata": {},
   "source": [
    "## Stream Balancing and Maps\n",
    "\n",
    "From Stream Calculations, we know that:\n",
    "\n",
    "1. The consumption of water is pegged to the use of cement on an annual basis\n",
    "\n",
    "2. USD spent varies on a quarterly basis, thus calculated quarterly\n",
    "\n",
    "\n",
    "To reconcile the temporal disparity, two actions are performed:\n",
    "\n",
    "1. The consumption of the cement on an annual basis is added to the cement General Resource Balance for the year"
   ]
  },
  {
   "cell_type": "code",
   "execution_count": 39,
   "id": "c9d1c8d3",
   "metadata": {},
   "outputs": [
    {
     "data": {
      "text/latex": [
       "$\\displaystyle [0]\\text{   }-{{use}}_{cement, l, y} + {{{{cons}}}}_{cement, l, y} = 0$"
      ],
      "text/plain": [
       "<IPython.core.display.Math object>"
      ]
     },
     "metadata": {},
     "output_type": "display_data"
    }
   ],
   "source": [
    "m.cement.show(category='General Resource Balance')"
   ]
  },
  {
   "cell_type": "markdown",
   "id": "fda73822",
   "metadata": {},
   "source": [
    "2. consumption of cement is mapped from the quarter to the year"
   ]
  },
  {
   "cell_type": "code",
   "execution_count": 40,
   "id": "d86baea4",
   "metadata": {},
   "outputs": [
    {
     "data": {
      "text/latex": [
       "$\\displaystyle [2]\\text{   }{{{{cons}}}}_{cement, l, y} - \\sum_{i \\in q} {{{{cons}}}}_{cement, l, i} = 0$"
      ],
      "text/plain": [
       "<IPython.core.display.Math object>"
      ]
     },
     "metadata": {},
     "output_type": "display_data"
    }
   ],
   "source": [
    "m.cement.show(category='Mapping')"
   ]
  },
  {
   "cell_type": "markdown",
   "id": "7c448d25",
   "metadata": {},
   "source": [
    "## Resource Conversion\n",
    "\n",
    "Any operation involving resource (irrespective of subset) forms a `Conversion` object"
   ]
  },
  {
   "cell_type": "code",
   "execution_count": 41,
   "id": "ea5bb12f",
   "metadata": {},
   "outputs": [
    {
     "data": {
      "text/plain": [
       "η(None)"
      ]
     },
     "execution_count": 41,
     "metadata": {},
     "output_type": "execute_result"
    }
   ],
   "source": [
    "conv = m.h2o - 3 * m.co2 + m.farmland / 4\n",
    "conv"
   ]
  },
  {
   "cell_type": "markdown",
   "id": "951512bf",
   "metadata": {},
   "source": [
    "The conversion balance can be viewed using `Conversion.conversion`"
   ]
  },
  {
   "cell_type": "code",
   "execution_count": 42,
   "id": "c0540e36",
   "metadata": {},
   "outputs": [
    {
     "data": {
      "text/plain": [
       "{h2o: 1, co2: -3, farmland: 0.25}"
      ]
     },
     "execution_count": 42,
     "metadata": {},
     "output_type": "execute_result"
    }
   ],
   "source": [
    "conv.conversion"
   ]
  },
  {
   "cell_type": "markdown",
   "id": "669a6b25",
   "metadata": {},
   "source": [
    "Note that `Process`es do not check the type of `Resource` object provided. This lends considerable modeling flexibility; operations can be defined to convert resources in materials, land into other type with resources needed to do the same, etc. While this opens the door for numerous possibilities, the user needs to be careful in assuring that the conversion makes sense. "
   ]
  }
 ],
 "metadata": {
  "kernelspec": {
   "display_name": ".venv",
   "language": "python",
   "name": "python3"
  },
  "language_info": {
   "codemirror_mode": {
    "name": "ipython",
    "version": 3
   },
   "file_extension": ".py",
   "mimetype": "text/x-python",
   "name": "python",
   "nbconvert_exporter": "python",
   "pygments_lexer": "ipython3",
   "version": "3.13.7"
  }
 },
 "nbformat": 4,
 "nbformat_minor": 5
}
