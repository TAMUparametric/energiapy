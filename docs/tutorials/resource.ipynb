{
 "cells": [
  {
   "cell_type": "markdown",
   "id": "a653424a",
   "metadata": {},
   "source": [
    "# Defining Resources\n",
    "\n",
    "In the employed methodology, any stream can essentially be treated as a resource. As such, any system can be modeled using the general purpose object `Resource`. However, drawing a semantic distinction based on utility can make it easier to understand the model  "
   ]
  },
  {
   "cell_type": "markdown",
   "id": "7fcf8025",
   "metadata": {},
   "source": [
    "## General Resource\n",
    "\n",
    "Resources can be declared as shown below"
   ]
  },
  {
   "cell_type": "code",
   "execution_count": 2,
   "id": "83d020a9",
   "metadata": {},
   "outputs": [],
   "source": [
    "from energia import Model, Resource, Land, Periods, si_units\n",
    "\n",
    "m = Model(init=[si_units])\n",
    "\n",
    "m.q = Periods(label='Quarter')\n",
    "m.y = 4 * m.q\n",
    "m.y.label = 'Year'\n",
    "\n",
    "m.USD = Resource(label='US Dollar')\n",
    "m.h2o = Resource(label='Water')\n",
    "m.co2 = Resource(label='Carbon Dioxide')\n",
    "m.cement = Resource(label='Cement')\n",
    "m.barrenland = Land(label='Barren Land')\n"
   ]
  },
  {
   "cell_type": "markdown",
   "id": "6629b946",
   "metadata": {},
   "source": [
    "## Stream Bounds"
   ]
  },
  {
   "cell_type": "markdown",
   "id": "00f67cfc",
   "metadata": {},
   "source": [
    "Limits (lower and upper bounds) to stream flows can be provided based on data"
   ]
  },
  {
   "cell_type": "code",
   "execution_count": 3,
   "id": "1aa99ccd",
   "metadata": {},
   "outputs": [
    {
     "name": "stdout",
     "output_type": "stream",
     "text": [
      "--- General Resource Balance for h2o in (l, q): initializing constraint, adding consume(h2o, l, q)\n",
      "    Completed in 0.00019502639770507812 seconds\n",
      "--- Binding consume in domain (h2o, l, q)\n",
      "    Completed in 0.00010204315185546875 seconds\n"
     ]
    }
   ],
   "source": [
    "m.h2o.consume <= [200, 150, 300, 250]"
   ]
  },
  {
   "cell_type": "markdown",
   "id": "36c33d07",
   "metadata": {},
   "source": [
    "This initiates both a General Resource `Balance` constraint (C[0]) and a `Bind` constraint. As the limit (upper bound) in this case was provided as a list of size 4, a constraint was written for every quarter (`m.q`). `Component.show()` can be used at any time to see the constraints the component is involved in. Use True for a descriptive print"
   ]
  },
  {
   "cell_type": "code",
   "execution_count": 4,
   "id": "70f1c4ed",
   "metadata": {},
   "outputs": [
    {
     "data": {
      "text/latex": [
       "$\\displaystyle [0]\\text{   }{{{cons}}}_{h2o, l, q} = 0$"
      ],
      "text/plain": [
       "<IPython.core.display.Math object>"
      ]
     },
     "metadata": {},
     "output_type": "display_data"
    },
    {
     "data": {
      "text/latex": [
       "$\\displaystyle [1]\\text{   }{{{cons}}}_{h2o, l, q} - {φ}_{} \\leq 0$"
      ],
      "text/plain": [
       "<IPython.core.display.Math object>"
      ]
     },
     "metadata": {},
     "output_type": "display_data"
    }
   ],
   "source": [
    "m.consume.show()"
   ]
  },
  {
   "cell_type": "markdown",
   "id": "a0d65c81",
   "metadata": {},
   "source": [
    "`Resource` comes with all the bells and whistles but provides no stop gaps. For example, I can set a limit (lower bound in this case) on how much USD (a currency) I want to dispense annually."
   ]
  },
  {
   "cell_type": "code",
   "execution_count": 4,
   "id": "a52f4365",
   "metadata": {},
   "outputs": [
    {
     "name": "stdout",
     "output_type": "stream",
     "text": [
      "--- General Resource Balance for USD in (l, y): initializing constraint, adding release(USD, l, y)\n",
      "    Completed in 0.00013256072998046875 seconds\n",
      "--- Binding release in domain (USD, l, y)\n",
      "    Completed in 0.00010943412780761719 seconds\n"
     ]
    }
   ],
   "source": [
    "m.USD.release >= 2000"
   ]
  },
  {
   "cell_type": "markdown",
   "id": "c0d9c9b3",
   "metadata": {},
   "source": [
    "Only one constraint is written for the year since a singular value was provided which matches size 1 of `m.y`"
   ]
  },
  {
   "cell_type": "code",
   "execution_count": 5,
   "id": "86af15cc",
   "metadata": {},
   "outputs": [],
   "source": [
    "m.USD.show()"
   ]
  },
  {
   "cell_type": "markdown",
   "id": "bc207280",
   "metadata": {},
   "source": [
    "Using exclusive subsets can help restrict their behavior to logical possibilities. As seen below, an error is thrown when I try to consume INR"
   ]
  },
  {
   "cell_type": "code",
   "execution_count": 6,
   "id": "a3492f23",
   "metadata": {},
   "outputs": [
    {
     "ename": "AttributeError",
     "evalue": "'Currency' object has no attribute 'consume'",
     "output_type": "error",
     "traceback": [
      "\u001b[31m---------------------------------------------------------------------------\u001b[39m",
      "\u001b[31mAttributeError\u001b[39m                            Traceback (most recent call last)",
      "\u001b[36mCell\u001b[39m\u001b[36m \u001b[39m\u001b[32mIn[6]\u001b[39m\u001b[32m, line 5\u001b[39m\n\u001b[32m      3\u001b[39m m = Model()\n\u001b[32m      4\u001b[39m m.INR = Currency(label=\u001b[33m'\u001b[39m\u001b[33mIndian Rupee\u001b[39m\u001b[33m'\u001b[39m)\n\u001b[32m----> \u001b[39m\u001b[32m5\u001b[39m \u001b[43mm\u001b[49m\u001b[43m.\u001b[49m\u001b[43mINR\u001b[49m\u001b[43m.\u001b[49m\u001b[43mconsume\u001b[49m >= \u001b[32m20\u001b[39m\n",
      "\u001b[31mAttributeError\u001b[39m: 'Currency' object has no attribute 'consume'"
     ]
    }
   ],
   "source": [
    "from energia import Model, Currency\n",
    "\n",
    "m = Model()\n",
    "m.INR = Currency(label='Indian Rupee')\n",
    "m.INR.consume >= 20"
   ]
  },
  {
   "cell_type": "markdown",
   "id": "6be4034d",
   "metadata": {},
   "source": [
    "## Resource Subsets\n",
    "\n",
    "There are many different types of resources, each with their limited set of `Aspect`. Refer to the documentation to see them. The distinction between `Resource` and `Material` is especially tenuous "
   ]
  },
  {
   "cell_type": "code",
   "execution_count": 7,
   "id": "3a1b9db8",
   "metadata": {},
   "outputs": [],
   "source": [
    "from energia import (\n",
    "    Model,\n",
    "    Resource,\n",
    "    Currency,\n",
    "    Material,\n",
    "    Land,\n",
    "    Emission,\n",
    "    Periods,\n",
    "    si_units,\n",
    ")\n",
    "\n",
    "m = Model(init=[si_units])\n",
    "\n",
    "m.q = Periods(label='Quarter')\n",
    "m.y = 4 * m.q\n",
    "m.y.label = 'Year'\n",
    "\n",
    "m.USD = Currency(label='US Dollar')\n",
    "m.h2o = Resource(label='Water')\n",
    "m.co2 = Resource(label='Carbon Dioxide')\n",
    "m.cement = Material(label='Cement')\n",
    "m.barrenland = Land(label='Barren Land')\n",
    "m.farmland = Land(label='Farm Land')"
   ]
  },
  {
   "cell_type": "markdown",
   "id": "a5fcdbda",
   "metadata": {},
   "source": [
    "## Stream Calculations"
   ]
  },
  {
   "cell_type": "code",
   "execution_count": 8,
   "id": "aee8ffd3",
   "metadata": {},
   "outputs": [
    {
     "name": "stdout",
     "output_type": "stream",
     "text": [
      "--- General Resource Balance for cement in (l, y): initializing constraint, adding use(cement, l, y)\n",
      "    Completed in 0.0001010894775390625 seconds\n"
     ]
    }
   ],
   "source": [
    "m.cement.use[m.h2o.consume] == 3000 "
   ]
  },
  {
   "cell_type": "code",
   "execution_count": 9,
   "id": "a5660386",
   "metadata": {},
   "outputs": [
    {
     "name": "stdout",
     "output_type": "stream",
     "text": [
      "--- General Resource Balance for cement in (l, q): initializing constraint, adding consume(cement, l, q)\n",
      "    Completed in 0.0001232624053955078 seconds\n"
     ]
    }
   ],
   "source": [
    "m.cement.consume[m.USD.spend] == [30, 25, 35, 40]"
   ]
  },
  {
   "cell_type": "code",
   "execution_count": 14,
   "id": "6ee65d43",
   "metadata": {},
   "outputs": [
    {
     "data": {
      "text/latex": [
       "$\\displaystyle [1]\\text{   }{{{cons}}}_{h2o, l, y, {use}, cement} - 3000 \\cdot {{use}}_{cement, l, y} = 0$"
      ],
      "text/plain": [
       "<IPython.core.display.Math object>"
      ]
     },
     "metadata": {},
     "output_type": "display_data"
    },
    {
     "data": {
      "text/latex": [
       "$\\displaystyle [3]\\text{   }{{spend}}_{USD, l, q, {consume}, cement} - {φ}_{} \\cdot {{{{cons}}}}_{cement, l, q} = 0$"
      ],
      "text/plain": [
       "<IPython.core.display.Math object>"
      ]
     },
     "metadata": {},
     "output_type": "display_data"
    }
   ],
   "source": [
    "m.cement.show(category= 'Calculation')"
   ]
  },
  {
   "cell_type": "markdown",
   "id": "7c448d25",
   "metadata": {},
   "source": [
    "## Resource Conversion\n",
    "\n",
    "Any operation involving resource (irrespective of subset) forms a `Conversion` object"
   ]
  },
  {
   "cell_type": "code",
   "execution_count": null,
   "id": "ea5bb12f",
   "metadata": {},
   "outputs": [
    {
     "data": {
      "text/plain": [
       "η(None)"
      ]
     },
     "execution_count": 13,
     "metadata": {},
     "output_type": "execute_result"
    }
   ],
   "source": [
    "conv = m.h2o - 3 * m.co2 + m.farmland / 4\n",
    "conv"
   ]
  },
  {
   "cell_type": "markdown",
   "id": "951512bf",
   "metadata": {},
   "source": [
    "The conversion balance can be viewed using `Conversion.conversion`"
   ]
  },
  {
   "cell_type": "code",
   "execution_count": null,
   "id": "c0540e36",
   "metadata": {},
   "outputs": [
    {
     "data": {
      "text/plain": [
       "{h2o: 1, co2: -3, farmland: 0.25}"
      ]
     },
     "execution_count": 14,
     "metadata": {},
     "output_type": "execute_result"
    }
   ],
   "source": [
    "conv.conversion"
   ]
  },
  {
   "cell_type": "markdown",
   "id": "669a6b25",
   "metadata": {},
   "source": [
    "Note that `Process`es do not check the type of `Resource` object provided. This lends considerable modeling flexibility; operations can be defined to convert resources in materials, land into other type with resources needed to do the same, etc. While this opens the door for numerous possibilities, the user needs to be careful in assuring that the conversion makes sense. "
   ]
  }
 ],
 "metadata": {
  "kernelspec": {
   "display_name": ".venv",
   "language": "python",
   "name": "python3"
  },
  "language_info": {
   "codemirror_mode": {
    "name": "ipython",
    "version": 3
   },
   "file_extension": ".py",
   "mimetype": "text/x-python",
   "name": "python",
   "nbconvert_exporter": "python",
   "pygments_lexer": "ipython3",
   "version": "3.13.7"
  }
 },
 "nbformat": 4,
 "nbformat_minor": 5
}
