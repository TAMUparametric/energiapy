{
 "cells": [
  {
   "attachments": {},
   "cell_type": "markdown",
   "metadata": {},
   "source": [
    "# Real-time carbon accounting and material transition for hydrogen systems"
   ]
  },
  {
   "attachments": {},
   "cell_type": "markdown",
   "metadata": {},
   "source": [
    "__author__ = \"Marco De Sousa\"\n",
    "__copyright__ = \"Copyright 2023, Multi-parametric Optimization & Control Lab\"\n",
    "__credits__ = [\"Marco De Sousa\", \"Rahul Kakodkar\", \"Efstratios N. Pistikopoulos\"]\n",
    "__license__ = \"MIT\"\n",
    "__version__ = \"1.1.0\"\n",
    "__maintainer__ = \"Marco De Sousa\"\n",
    "__email__ = \"marcopdsousa@tamu.edu\"\n",
    "__status__ = \"Production\"\n"
   ]
  },
  {
   "attachments": {},
   "cell_type": "markdown",
   "metadata": {},
   "source": [
    "## Problem Statement"
   ]
  },
  {
   "attachments": {},
   "cell_type": "markdown",
   "metadata": {},
   "source": [
    "The following case study considers three different type of solar photovoltaics, namely Monocrystalline (PV_Mo), Polycrystalline (PV_Po), and Cadmium Telluride (PV_Cd) and  Lithium-ion batteries made of either rock-based lithium (LiI_Ro) or brine-based lithium (LiI_Br).\n",
    "\n",
    "The goal is to meet a fixed demand of hydrogen on a daily scale while optimizing the production process by using forecasting techniques.\n",
    "\n",
    "It is important to note that three different hydrogen pathways can be utilized each with their respective emissions.\n",
    "\n",
    "Hypothesis: By using real-time carbon accounting, decisions and changes can be made in a more dynamic nature.\n",
    "\n",
    "Users are advised caution in terms of assigning the emissions at the appropriate levels and avoiding double account. For example, if providing the global warming potentials (GWP) for each individual material to make up a process, the GWP for processes should only consider the values for construction. Moreover, the direct emissions are considered through the resource balance constraint."
   ]
  },
  {
   "attachments": {},
   "cell_type": "markdown",
   "metadata": {},
   "source": [
    "## Nomenclature"
   ]
  },
  {
   "attachments": {},
   "cell_type": "markdown",
   "metadata": {},
   "source": [
    "\n",
    "\n",
    "*Sets*\n",
    "\n",
    "\n",
    "$\\mathcal{R}$ - set of all resources r\n",
    "\n",
    "$\\mathcal{P}$ - set of all processes p\n",
    "\n",
    "$\\mathcal{T}$ - set of temporal periods t\n",
    "\n",
    "$\\mathcal{B}$ - set of transport modes b\n",
    "\n",
    "$\\mathcal{L}$ - set of locations l\n",
    "\n",
    "$\\mathcal{M}$ - set of materials m\n",
    "\n",
    "*Subsets*\n",
    "\n",
    "\n",
    "$\\mathcal{R}^{storage}$ - set of resources that can be stored\n",
    "\n",
    "$\\mathcal{R}^{sell}$ - set of resources that can be discharged\n",
    "\n",
    "$\\mathcal{R}^{demand}$ - set of resources that meet  demand\n",
    "\n",
    "$\\mathcal{R}^{cons}$ - set of resources that can be consumed\n",
    "\n",
    "$\\mathcal{R}^{trans}$ - set of resources that can be transported\n",
    "\n",
    "$\\mathcal{P}^{uncertain}$ - set of processes with uncertain capacity\n",
    "\n",
    "$\\mathcal{T}^{net}$ - set of temporal periods t for network level decision making\n",
    "\n",
    "$\\mathcal{T}^{sch}$ - set of temporal periods t for schedule level decision making\n",
    "\n",
    "*Continuous Variables*\n",
    "\n",
    "\n",
    "$P_{l,p,t}$ - production level of p $\\in$  $\\mathcal{P}$ in time period t $\\in$ $\\mathcal{T}^{sch}$  \n",
    "\n",
    "$C_{l,r,t}$ - consumption of r $\\in$ in $\\mathcal{R}^{cons}$ time period t $\\in$ $\\mathcal{T}^{sch}$ \n",
    "\n",
    "$S_{l,r,t}$ - discharge of r $\\in$ in $\\mathcal{R}^{demand}$ time period t $\\in$ $\\mathcal{T}^{sch}$ \n",
    "\n",
    "$Inv_{l,r,t}$ - inventory level of r $\\in$ $\\mathcal{R}^{storage}$  in time period t $\\in$ $\\mathcal{T}^{sch}$\n",
    "\n",
    "$Cap^S_{l,r,t}$ - installed inventory capacity for resource r $\\in$  $\\mathcal{R}^{storage}$ in time period t $\\in$ $\\mathcal{T}^{net}$\n",
    "\n",
    "$Cap^P_{l,p,t}$ - installed production capacity for process p $\\in$ $\\mathcal{P}$ in time period t $\\in$ $\\mathcal{T}^{net}$\n",
    "\n",
    "$Mat^P_{l,p,m,t}$ - material m $\\in$ $\\mathcal{M}$ used by process p $\\in$ $\\mathcal{P}$ in time period t $\\in$ $\\mathcal{T}^{net}$\n",
    "\n",
    "$Em^{p/r/m}_{l,p/r/m,t}$ - emission from process/resource/material in time t $\\in$ $\\mathcal{T}^{net}$\n",
    "\n",
    "\n",
    "*Binary Variables*\n",
    "\n",
    "$X^P_{l,p,t}$ - network binary for production process p $\\in$ $\\mathcal{P}$\n",
    "\n",
    "$X^S_{l,r,t}$ - network binary for inventory of resource r $\\in$  $\\mathcal{R}^{storage}$ \n",
    "\n",
    "*Parameters*\n",
    "\n",
    "$Cap^{P-max}_{l,p,t}$ - maximum production capacity of process p $\\in$ $\\mathcal{P}$ in time t $\\in$ $\\mathcal{T}^{net}$\n",
    "\n",
    "$Cap^{S-max}_{l,r,t}$ - maximum inventory capacity for process r $\\in$ $\\mathcal{R}^{storage}$ in time t $\\in$ $\\mathcal{T}^{net}$\n",
    "\n",
    "$Capex_{l,p,t}$ - capital expenditure for process p $\\in$ $\\mathcal{P}$ in time t $\\in$ $\\mathcal{T}^{net}$\n",
    "\n",
    "$Vopex_{l,p,t}$ - variable operational expenditure for process p $\\in$ $\\mathcal{P}$ in time t $\\in$ $\\mathcal{T}^{sch}$\n",
    "\n",
    "$Price_{l,r,t}$ - purchase price for resource r $\\in$ $\\mathcal{R}^{cons}$ in time t $\\in$ $\\mathcal{T}^{sch}$\n",
    "\n",
    "$C^{max}_{l,r,t}$ - maximum consumption availability for resource r $\\in$ $\\mathcal{R}^{cons}$ in time t $\\in$ $\\mathcal{T}^{sch}$\n",
    "\n",
    "$D_{l,r,t}$ - demand for resource r $in$ $\\mathcal{R}^{sell}$ in time t $\\in$ $\\mathcal{T}^{sch}$\n",
    "\n",
    "$\\alpha$ - annualization factor\n",
    "\n",
    "$Mat^{cons}_{p,m}$ - material m $\\in$ $\\mathcal{M}$ consumed by process p $\\in$ $\\mathcal{P}$\n",
    "\n",
    "$GWP^{p/r/m}_{l,p/r/m,t}$ - global warming indicators for process/resource/material in time t $\\in$ $\\mathcal{T}^{net}$\n"
   ]
  },
  {
   "attachments": {},
   "cell_type": "markdown",
   "metadata": {},
   "source": [
    "## MILP Formulation"
   ]
  },
  {
   "attachments": {},
   "cell_type": "markdown",
   "metadata": {},
   "source": [
    "Given is a mulit-scale modeling and optimization MILP framework for the simultaneous design and schedule planning of a single location energy system \n",
    "\n",
    "\\begin{equation}\n",
    "min \\sum_{l \\in \\mathcal{L}} \\Big(\\sum_{t \\in \\mathcal{T}^{net}} \\sum_{p \\in \\mathcal{P}} (\\alpha \\times Capex_{l,p,t} + Fopex_{l,p,t}) \\times Cap^P_{l,p,t} +  \\sum_{t \\in \\mathcal{T}^{sch}} \\sum_{r \\in \\mathcal{R}}  Vopex_{l,r,t} \\times P_{l,r,t} \n",
    "\\end{equation}\n",
    "\n",
    "\\begin{equation*}\n",
    "+ \\sum_{t \\in \\mathcal{T}^{sch}} \\sum_{r \\in \\mathcal{R}^{cons}} C_{l,r,t} \\times Price_{l,r,t} \\Big)\n",
    "\\end{equation*}\n",
    "\n",
    "\\begin{equation}\n",
    "Cap^S_{l,r,t} \\leq Cap^{S-max}_{l,r,t} \\times X^S_{l,r,t} \\hspace{1cm} \\forall r \\in \\mathcal{R}^{storage}, t \\in \\mathcal{T}^{net}\n",
    "\\end{equation}\n",
    "\n",
    "\\begin{equation}\n",
    "Cap^P_{l,p,t} \\leq Cap^{P-max}_{l,p,t} \\times X^P_{l,p,t}  \\hspace{1cm} \\forall p \\in \\mathcal{P}, t \\in \\mathcal{T}^{net}, l \\in \\mathcal{L}\n",
    "\\end{equation} \n",
    "\n",
    "\\begin{equation}\n",
    "P_{l,p,t} \\leq Cap^{P}_{l,p,t}  \\hspace{1cm} \\forall p \\in \\mathcal{P}, t \\in \\mathcal{T}^{sch}\n",
    "\\end{equation} \n",
    "\n",
    "\\begin{equation}\n",
    "Inv_{l,r,t} \\leq Cap^{S}_{l,r,t}  \\hspace{1cm} \\forall r \\in \\mathcal{R}^{storage}, t \\in \\mathcal{T}^{sch}\n",
    "\\end{equation} \n",
    "\n",
    "\n",
    "\\begin{equation}\n",
    "- S_{l,r,t} \\leq - D_{l,r,t}  \\hspace{1cm} \\forall r \\in \\mathcal{R}, t \\in \\mathcal{T}^{sch}\n",
    "\\end{equation}\n",
    "\n",
    "\\begin{equation}\n",
    "C_{l,r,t} \\leq C^{max}_{l,r,t} \\hspace{1cm} \\forall r \\in \\mathcal{R}, t \\in \\mathcal{T}^{sch}\n",
    "\\end{equation}\n",
    "\n",
    "\\begin{equation}\n",
    "\\sum_{p \\in \\mathcal{P}} P_{l,p,t} \\times \\eta(p,r) + C_{l,r,t} +  Inv_{l,r,t-1}=  Inv_{l,r,t} + S_{l,r,t}  \n",
    "\\end{equation}\n",
    "\n",
    "\\begin{equation*}\n",
    "\\forall r \\in \\mathcal{R}^{cons}, t \\in \\mathcal{T}^{sch}, l \\in \\mathcal{L}\n",
    "\\end{equation*}\n",
    "\n",
    "\\begin{equation}\n",
    "Mat_{l,p,m,t} = Mat^{cons}_{p,m} \\times Cap^P_{l,p,t} \\hspace{1cm} \\forall m \\in \\mathcal{M}, p \\in \\mathcal{P}, t \\in \\mathcal{T}^{net}\n",
    "\\end{equation}\n",
    "\n",
    "\\begin{equation}\n",
    "Em^{r}_{l,r,t} = GWP^{r}_{l,r,t} \\times C_{l,r,t} \\hspace{1cm} \\forall r \\in \\mathcal{R}, t \\in \\mathcal{T}^{sch}\n",
    "\\end{equation}\n",
    "\n",
    "\\begin{equation}\n",
    "Em^{m}_{l,m,t} = GWP^{m}_{l,m,t} \\times \\sum_{p \\in \\mathcal{P}} Mat_{l,p,m,t} \\hspace{1cm} \\forall p \\in \\mathcal{P}, t \\in \\mathcal{T}^{net}\n",
    "\\end{equation}\n",
    "\n",
    "\\begin{equation}\n",
    "Em^{p}_{l,p,t} = GWP^{p}_{l,p,t} \\times Cap_{l,p,t} \\hspace{1cm} \\forall p \\in \\mathcal{P}, t \\in \\mathcal{T}^{net}\n",
    "\\end{equation}\n",
    "\n",
    "\\begin{equation}\n",
    "S_{l,r,t}, C_{l,r,t}, Inv_{l,r,t}, P_{l,p,t}, Cap^P_{l,p,t}, Cap^S_{l,r,t}, Mat_{l,p,m,t}, Em^{p/r/m}_{l,p/r/m,t} \\in R_{\\geq 0}\n",
    "\\end{equation}\n",
    "\n"
   ]
  },
  {
   "attachments": {},
   "cell_type": "markdown",
   "metadata": {},
   "source": [
    "## Import Modules"
   ]
  },
  {
   "cell_type": "code",
   "execution_count": 139,
   "metadata": {},
   "outputs": [],
   "source": [
    "import sys\n",
    "sys.path.append('../src')"
   ]
  },
  {
   "cell_type": "code",
   "execution_count": 140,
   "metadata": {},
   "outputs": [],
   "source": [
    "import pandas as pd\n",
    "import numpy\n",
    "from energiapy.components.temporal_scale import TemporalScale\n",
    "from energiapy.components.resource import Resource, VaryingResource, Scope\n",
    "from energiapy.components.process import Process, VaryingProcess\n",
    "from energiapy.components.material import Material\n",
    "from energiapy.components.location import Location\n",
    "from energiapy.components.network import Network\n",
    "from energiapy.components.scenario import Scenario\n",
    "from energiapy.components.transport import Transport\n",
    "from energiapy.model.formulate import formulate, Constraints, Objective\n",
    "from energiapy.utils.nsrdb_utils import fetch_nsrdb_data\n",
    "from energiapy.plot import plot_results, plot_scenario\n",
    "from energiapy.plot.plot_results import CostY, CostX\n",
    "from energiapy.model.solve import solve\n",
    "from itertools import product\n",
    "from energiapy.components.result import Result\n",
    "from itertools import product\n",
    "from matplotlib import rc\n",
    "import matplotlib.pyplot as plt\n",
    "from energiapy.model.solve import solve\n",
    "from energiapy.plot.plot_results import CostY, CostX\n",
    "from energiapy.components.location import Location\n",
    "from energiapy.plot import plot_results, plot_scenario\n",
    "from energiapy.utils.nsrdb_utils import fetch_nsrdb_data\n",
    "from energiapy.model.formulate import formulate, Constraints, Objective\n",
    "from energiapy.model.bounds import CapacityBounds\n",
    "from energiapy.utils.data_utils import get_data, make_henry_price_df, remove_outliers, load_results\n",
    "from energiapy.conversion.photovoltaic import solar_power_output\n",
    "from energiapy.conversion.windmill import wind_power_output\n",
    "from energiapy.model.constraints.integer_cuts import constraint_block_integer_cut, constraint_block_integer_cut_min"
   ]
  },
  {
   "attachments": {},
   "cell_type": "markdown",
   "metadata": {},
   "source": [
    "## Data Import"
   ]
  },
  {
   "cell_type": "code",
   "execution_count": 141,
   "metadata": {},
   "outputs": [],
   "source": [
    "horizon = 1"
   ]
  },
  {
   "attachments": {},
   "cell_type": "markdown",
   "metadata": {},
   "source": [
    "The following data is needed for the model\n",
    "\n",
    "- Daily demands of hydrogen.\n",
    "- The capacity factor of renewable energy sources and traditional grid power.\n"
   ]
  },
  {
   "attachments": {},
   "cell_type": "markdown",
   "metadata": {},
   "source": [
    "**Declare temporal scale**\n",
    "\n",
    "The variabilities of energy systems are best captured over a discretized spatio-temporal scale. In energiapy, the first declaration is the temporal scale. \n",
    "\n",
    "For e.g.: Here we declare three temporal scales at different levels from right to left. The interpretation of these scales is merely symentic. Scales can be declared as the problem demands.\n",
    "- 0, annual, with 1 discretization\n",
    "- 1, daily with 365 discretization\n",
    "- 2, hourly with 24 discretization\n",
    "\n",
    "In essence, we are creating a temporal scale of 8760 points.\n",
    "\n"
   ]
  },
  {
   "cell_type": "code",
   "execution_count": 142,
   "metadata": {},
   "outputs": [],
   "source": [
    "scales = TemporalScale(discretization_list=[1, 24])"
   ]
  },
  {
   "attachments": {},
   "cell_type": "markdown",
   "metadata": {},
   "source": [
    "## Declare resources"
   ]
  },
  {
   "attachments": {},
   "cell_type": "markdown",
   "metadata": {},
   "source": [
    "Resources can be consumed, produced, stored, discharged (or sold).\n",
    "\n",
    "Power demand follows a varying deterministic demand"
   ]
  },
  {
   "cell_type": "code",
   "execution_count": 143,
   "metadata": {},
   "outputs": [],
   "source": [
    "bigM = 10**6\n",
    "smallM = 0.001"
   ]
  },
  {
   "cell_type": "markdown",
   "metadata": {},
   "source": [
    "Hourly electricity prices"
   ]
  },
  {
   "cell_type": "code",
   "execution_count": 144,
   "metadata": {},
   "outputs": [],
   "source": [
    "#Electricity price is hourly\n",
    "#Electricity price is hourly\n",
    "elec_price_df = pd.read_csv('ERCOT_price.csv')\n",
    "elec_price_df = elec_price_df[elec_price_df['BusName'] == 'FORMOSA_G8']\n",
    "elec_price_df = elec_price_df[['LMP']].reset_index(drop = True)"
   ]
  },
  {
   "cell_type": "code",
   "execution_count": 145,
   "metadata": {},
   "outputs": [],
   "source": [
    "#elec_price_df"
   ]
  },
  {
   "cell_type": "markdown",
   "metadata": {},
   "source": [
    "Hourly Natural Gas Prices"
   ]
  },
  {
   "cell_type": "code",
   "execution_count": 146,
   "metadata": {},
   "outputs": [],
   "source": [
    "#The natural gas price is calculated as the average between the high and low cost, also the unit used is $/kg of natural gas\n",
    "NG_price_df = pd.read_csv('Naturalgas_price_hourly.csv')\n",
    "NG_price_df = pd.DataFrame(NG_price_df['USD/kg'])[::-1].reset_index()\n",
    "NG_price_df = NG_price_df[['USD/kg']]\n",
    "#NG_price_df"
   ]
  },
  {
   "cell_type": "code",
   "execution_count": 147,
   "metadata": {},
   "outputs": [
    {
     "name": "stderr",
     "output_type": "stream",
     "text": [
      "C:\\Users\\marcopdsousa\\AppData\\Local\\Temp\\ipykernel_6524\\1055063789.py:2: FutureWarning: Series.__getitem__ treating keys as positions is deprecated. In a future version, integer keys will always be treated as labels (consistent with DataFrame behavior). To access a value by position, use `ser.iloc[pos]`\n",
      "  elec_price = elec_price_df.max()[0]\n",
      "C:\\Users\\marcopdsousa\\AppData\\Local\\Temp\\ipykernel_6524\\1055063789.py:3: FutureWarning: Series.__getitem__ treating keys as positions is deprecated. In a future version, integer keys will always be treated as labels (consistent with DataFrame behavior). To access a value by position, use `ser.iloc[pos]`\n",
      "  NG_price = NG_price_df.max()[0]\n"
     ]
    }
   ],
   "source": [
    "#Gives relevancy to price values again\n",
    "elec_price = elec_price_df.max()[0]\n",
    "NG_price = NG_price_df.max()[0]"
   ]
  },
  {
   "cell_type": "markdown",
   "metadata": {},
   "source": [
    "Hourly Wind availability"
   ]
  },
  {
   "cell_type": "code",
   "execution_count": 148,
   "metadata": {},
   "outputs": [],
   "source": [
    "Wind_df = pd.read_csv('Wind2424.csv')\n",
    "Wind_df = Wind_df[['ACTUAL_SYSTEM_WIDE']]\n",
    "Wind_df = Wind_df[:24]\n",
    "#Wind_df"
   ]
  },
  {
   "cell_type": "markdown",
   "metadata": {},
   "source": [
    "Hourly Solar availability"
   ]
  },
  {
   "cell_type": "code",
   "execution_count": 149,
   "metadata": {},
   "outputs": [],
   "source": [
    "Solar_df = pd.read_csv('Solar2424.csv')\n",
    "Solar_df = Solar_df[['PVGRPP_SYSTEM_WIDE']]\n",
    "Solar_df = Solar_df[:24]\n",
    "#Solar_df"
   ]
  },
  {
   "cell_type": "code",
   "execution_count": 150,
   "metadata": {},
   "outputs": [],
   "source": [
    "Solar = Resource(name='Solar', cons_max=bigM, basis='MW', label='Solar Power', price= 52.69, gwp=0)\n",
    "\n",
    "Wind = Resource(name='Wind', cons_max=bigM, basis='MW', label='Wind Power', price= 60.11, gwp=0)\n",
    "\n",
    "Power = Resource(name='Power', basis='MW',\n",
    "                 label='Power generated')\n",
    "\n",
    "GridPower = Resource(name='GridPower', basis='MW',\n",
    "                     cons_max=bigM, label='Power bought', gwp=420.62, price = elec_price, varying = [VaryingResource.DETERMINISTIC_PRICE], scope = Scope.TWO)\n",
    "\n",
    "#The following are components of natural gas\n",
    "\n",
    "CO2 = Resource(name='CO2', basis='kg/hr',\n",
    "               label='Carbon dioxide', block='Resource')\n",
    "\n",
    "CO2_Stack = Resource(name='CO2 to Stack', basis='kg/hr', sell=True,\n",
    "               label='Carbon dioxide to Stack', block='Resource', gwp = 1, scope = Scope.ONE)\n",
    "\n",
    "CO2_Air = Resource(name='CO2 from air', basis='kg/hr',\n",
    "               label='Carbon dioxide from air', block='Resource', cons_max=bigM)\n",
    "\n",
    "CO2_Vent = Resource(name='CO2 Vented from the process', basis='kg/hr',\n",
    "               label='Carbon dioxide vented from the process', block='Resource', gwp = 1, sell=True, scope = Scope.ONE)\n",
    "\n",
    "CO2cpt = Resource(name='CO2 Captured', basis='kg/hr', sell=True, label='Captured carbon dioxide', block='Resource')\n",
    "\n",
    "CH4 = Resource(name='CH4', basis='kg/hr',\n",
    "               label='Methane', block='Resource')\n",
    "\n",
    "#Important: Natural gas consists over different components\n",
    "\n",
    "NG = Resource(name='Natural Gas', basis='kg/hr',\n",
    "                     cons_max=bigM, label='Natural Gas', gwp = 0.660979, price = NG_price, varying = [VaryingResource.DETERMINISTIC_PRICE])\n",
    "\n",
    "\n",
    "# Hydrogen is what I want to sell/satisfy a specific demand for\n",
    "\n",
    "H2 = Resource(name='Hydrogen', basis='kg/hr', label='Hydrogen', block='Resource')\n",
    "\n",
    "H2Pure = Resource(name='Pure Hydrogen', demand = True, basis='kg/hr', label='Pure Hydrogen', block='Resource')\n",
    "\n",
    "# Water is required for the electrolysis process\n",
    "\n",
    "H2O = Resource(name='H2O',\n",
    "               basis='kg/hr', cons_max=bigM, label='Water', block='Resource')\n",
    "\n",
    "#Industrial water price is 0.002 USD/kg of water\n",
    "H2OFresh = Resource(name=\"H2O Fresh\", cons_max=bigM, price = 0.002, basis='kg/hr', label='Fresh Water', block='Resource')\n",
    "\n",
    "H2O_Air = Resource(name='H2O from air', cons_max=bigM,\n",
    "               basis='kg/hr', label='Water from air', block='Resource')\n",
    "\n",
    "H2O_Vent = Resource(name='H2O vented from the process',\n",
    "               basis='kg/hr', sell=True, label='Water vented from the process', block='Resource')\n",
    "\n",
    "\n",
    "H2O_Stack = Resource(name='H2O to Stack',\n",
    "               basis='kg/hr', sell= True, label='Water to Stack', block='Resource')\n",
    "\n",
    "#Industrial water price is 0.002 USD/kg of water\n",
    "\n",
    "# Air components\n",
    "\n",
    "N2 = Resource(name='N2', basis='kg/hr',\n",
    "               label='Nitrogen', block='Resource')\n",
    "\n",
    "N2_SMR = Resource(name='N2 from SMR', basis='kg/hr',\n",
    "               label='Nitrogen from SMR', block='Resource')\n",
    "\n",
    "N2_WGS = Resource(name='N2 from WGS', basis='kg/hr',\n",
    "               label='Nitrogen from WGS', block='Resource')\n",
    "\n",
    "N2_FG = Resource(name='N2 from FG', basis='kg/hr',\n",
    "               label='Nitrogen from FG', block='Resource')\n",
    "\n",
    "N2_Air = Resource(name='N2 from Air', basis='kg/hr', cons_max= bigM,\n",
    "               label='Nitrogen from Air', block='Resource')\n",
    "\n",
    "N2_Vent = Resource(name='N2 vented from the process', basis='kg/hr', sell= True,\n",
    "               label='Nitrogen vented from the process', block='Resource')\n",
    "\n",
    "N2Prod = Resource(name='N2 in product stream', basis='kg/hr',\n",
    "               label='Nitrogen in product stream', block='Resource')\n",
    "\n",
    "N2_Stack = Resource(name='N2 to Stack', basis='kg/hr', sell= True,\n",
    "               label='Nitrogen to stack', block='Resource')\n",
    "\n",
    "O2 = Resource(name='O2', basis='kg/hr',\n",
    "               label='Oxygen', block='Resource')\n",
    "\n",
    "O2_Air = Resource(name='O2 from air', basis='kg/hr',\n",
    "               label='Oxygen from air', block='Resource', cons_max = bigM)\n",
    "\n",
    "O2_Vent = Resource(name='O2 vented from the process', basis='kg/hr', sell=True,\n",
    "               label='Oxygen vented from the process', block='Resource')\n",
    "\n",
    "O2_Stack = Resource(name='O2 to Stack', basis='kg/hr', sell= True,\n",
    "               label='Oxygen to Stack', block='Resource')\n"
   ]
  },
  {
   "attachments": {},
   "cell_type": "markdown",
   "metadata": {},
   "source": [
    "## Declare Materials"
   ]
  },
  {
   "attachments": {},
   "cell_type": "markdown",
   "metadata": {},
   "source": [
    "Materials are utilized for the establishment of processes. Materials inturn require resources to be set up. "
   ]
  },
  {
   "cell_type": "code",
   "execution_count": 151,
   "metadata": {},
   "outputs": [
    {
     "data": {
      "text/plain": [
       "'Do I understand it correctly that I will have no material modes'"
      ]
     },
     "execution_count": 151,
     "metadata": {},
     "output_type": "execute_result"
    }
   ],
   "source": [
    "'''Do I understand it correctly that I will have no material modes'''"
   ]
  },
  {
   "attachments": {},
   "cell_type": "markdown",
   "metadata": {},
   "source": [
    "## Declare Processes"
   ]
  },
  {
   "cell_type": "code",
   "execution_count": 152,
   "metadata": {},
   "outputs": [],
   "source": [
    "'''Purchasing electricity from a traditional power production system'''\n",
    "\n",
    "Grid = Process(name='Grid', conversion={GridPower: -1, Power: 1}, prod_min=smallM, prod_max=bigM, label='Grid', basis='MW')\n",
    "\n",
    "PV = Process(name='PV', conversion={Solar: -1, Power: 1},\n",
    "             prod_max=10, prod_min=0,  varying= [VaryingProcess.DETERMINISTIC_CAPACITY], label='Solar PV', basis='MW')\n",
    "\n",
    "# capex=0.0001, fopex=0.0001, vopex=0.0001, gwp = 0.0001\n",
    "\n",
    "WF = Process(name='WF', conversion={Wind: -1, Power: 1},\n",
    "             prod_max=30, prod_min=0, label='Wind mill array', varying=[VaryingProcess.DETERMINISTIC_CAPACITY], basis='MW')\n",
    "\n",
    "\n",
    "SMR = Process(name='SMR', conversion={Power: -0.00065, NG: -3.535189, H2OFresh: -16.78877421, N2_Air: -19.2134, O2_Air: -5.88716, H2O_Air: -0.1582, CO2_Air: -0.01171, \n",
    "                                            H2Pure: 1, CO2_Stack: 9.3713,  H2O_Stack: 3.94959, N2_Stack: 19.29814, O2_Stack: 0.535434}, capex=0.0001,\n",
    "               vopex=1.2, fopex=0.001, prod_min=smallM, prod_max=bigM, label='SMR', basis='kg/hr')\n",
    "\n",
    "\n",
    "SMRCCS = Process(name='SMRCCS', conversion={Power: -0.00139, N2_Air: -22.2315, O2_Air: -6.811924, H2O_Air: -0.183055, CO2_Air: -0.013551, CO2_Stack: -9.3713,\n",
    "                                             H2O_Vent: 3.826767, CO2cpt: 8.903, CO2_Vent: 0.46856, H2O_Stack: 0.558114, N2_Stack: 22.32218, O2_Stack: 0.6203032, }, capex=0.0001,\n",
    "                vopex=1.1, fopex=0.001, prod_min=smallM, prod_max=bigM, label='SMRCCS', basis='kg/hr')\n",
    "\n",
    "PEM = Process(name='PEM', conversion={Power: -0.157828499, H2OFresh: -7.568707483,\n",
    "                                            H2Pure: 1}, capex=0.0001,\n",
    "               vopex=4.668, fopex=0.001, prod_min=smallM, prod_max=18.75, label='PEM', basis='kg/hr')"
   ]
  },
  {
   "attachments": {},
   "cell_type": "markdown",
   "metadata": {},
   "source": [
    "## Declare Location"
   ]
  },
  {
   "cell_type": "code",
   "execution_count": null,
   "metadata": {},
   "outputs": [],
   "source": []
  },
  {
   "cell_type": "code",
   "execution_count": 153,
   "metadata": {},
   "outputs": [],
   "source": [
    "process_set = {Grid, PV, WF, SMR, SMRCCS, PEM}#, SMRCCS, PEM} #Grid,"
   ]
  },
  {
   "cell_type": "code",
   "execution_count": 154,
   "metadata": {},
   "outputs": [],
   "source": [
    "houston = Location(name='HO', processes=process_set, capacity_factor={PV: Solar_df, WF: Wind_df}, price_factor={GridPower: elec_price_df, NG: NG_price_df}, \n",
    "                   scales=scales, label='Houston', expenditure_scale_level=0, demand_scale_level=0, price_scale_level=1, capacity_scale_level=1)"
   ]
  },
  {
   "attachments": {},
   "cell_type": "markdown",
   "metadata": {},
   "source": [
    "## Declare Scenario"
   ]
  },
  {
   "cell_type": "code",
   "execution_count": 155,
   "metadata": {},
   "outputs": [],
   "source": [
    "\n",
    "scenario = Scenario(name='scenario_full', network=houston, scales=scales,  expenditure_scale_level=0, demand_scale_level=0, \n",
    "                    purchase_scale_level = 1, scheduling_scale_level=1, network_scale_level=0, capacity_scale_level=1,\n",
    "                    label='full_case', demand={houston: { H2Pure: 240000}})"
   ]
  },
  {
   "cell_type": "code",
   "execution_count": 156,
   "metadata": {},
   "outputs": [
    {
     "data": {
      "image/png": "[encoded data removed]",
      "text/plain": [
       "<Figure size 900x500 with 1 Axes>"
      ]
     },
     "metadata": {},
     "output_type": "display_data"
    }
   ],
   "source": [
    "\n",
    "plot_scenario.price_factor(\n",
    "    scenario=scenario, location=houston, resource=GridPower, fig_size=(9, 5), color='black')\n"
   ]
  },
  {
   "cell_type": "code",
   "execution_count": 157,
   "metadata": {},
   "outputs": [
    {
     "data": {
      "image/png": "[encoded data removed]",
      "text/plain": [
       "<Figure size 900x500 with 1 Axes>"
      ]
     },
     "metadata": {},
     "output_type": "display_data"
    }
   ],
   "source": [
    "\n",
    "plot_scenario.price_factor(\n",
    "    scenario=scenario, location=houston, resource=NG, fig_size=(9, 5), color='blue')"
   ]
  },
  {
   "cell_type": "code",
   "execution_count": 158,
   "metadata": {},
   "outputs": [
    {
     "data": {
      "image/png": "[encoded data removed]",
      "text/plain": [
       "<Figure size 900x500 with 1 Axes>"
      ]
     },
     "metadata": {},
     "output_type": "display_data"
    }
   ],
   "source": [
    "plot_scenario.capacity_factor(\n",
    "    scenario=scenario, location=houston, process=PV, fig_size=(9, 5), color='red')"
   ]
  },
  {
   "cell_type": "code",
   "execution_count": 159,
   "metadata": {},
   "outputs": [
    {
     "data": {
      "image/png": "[encoded data removed]",
      "text/plain": [
       "<Figure size 900x500 with 1 Axes>"
      ]
     },
     "metadata": {},
     "output_type": "display_data"
    }
   ],
   "source": [
    "plot_scenario.capacity_factor(\n",
    "    scenario=scenario, location=houston, process=WF, fig_size=(9, 5), color='green')"
   ]
  },
  {
   "cell_type": "code",
   "execution_count": 160,
   "metadata": {},
   "outputs": [
    {
     "data": {
      "text/plain": [
       "['GridPower']"
      ]
     },
     "execution_count": 160,
     "metadata": {},
     "output_type": "execute_result"
    }
   ],
   "source": [
    "scenario.set_dict['resources_purch_scope2']"
   ]
  },
  {
   "attachments": {},
   "cell_type": "markdown",
   "metadata": {},
   "source": [
    "## Formulate MILP"
   ]
  },
  {
   "attachments": {},
   "cell_type": "markdown",
   "metadata": {},
   "source": [
    "Here we formulate two milps which differ only in their objectives.\n",
    "\n",
    "For maximizing the discharge of a particular resource, use the objective MAX_DISCHARGE, the objective resource also needs to be specified.\n",
    "\n",
    "Similarly the discharge can also be minimized using MIN_DISCHARGE. This can be used with a demand for another resource being set. For example, minimizing the discharge of carbon dioxide while meeting a hydrogen demand.\n",
    "\n",
    "The second MILP, minimized the cost while meeting a varying demand for power"
   ]
  },
  {
   "cell_type": "code",
   "execution_count": 161,
   "metadata": {},
   "outputs": [
    {
     "name": "stdout",
     "output_type": "stream",
     "text": [
      "constraint process capex\n",
      "constraint process fopex\n",
      "constraint process vopex\n",
      "constraint process incidental\n",
      "constraint storage cost\n",
      "constraint storage cost location\n",
      "constraint storage cost network\n",
      "constraint global warming potential process\n",
      "constraint global warming potential resource\n",
      "constraint global warming potential resource consumption\n",
      "constraint global warming potential resource discharge\n",
      "constraint global warming potential location\n",
      "constraint global warming potential network\n",
      "constraint ozone depletion potential process\n",
      "constraint ozone depletion potential resource\n",
      "constraint ozone depletion potential resource consumption\n",
      "constraint ozone depletion potential resource discharge\n",
      "constraint ozone depletion potential location\n",
      "constraint ozone depletion potential network\n",
      "constraint acidification potential process\n",
      "constraint acidification potential resource\n",
      "constraint acidification potential resource consumption\n",
      "constraint acidification potential resource discharge\n",
      "constraint acidification potential location\n",
      "constraint acidification potential network\n",
      "constraint terrestrial eutrophication potential process\n",
      "constraint terrestrial eutrophication potential resource\n",
      "constraint terrestrial eutrophication potential resource consumption\n",
      "constraint terrestrial eutrophication potential resource discharge\n",
      "constraint terrestrial eutrophication potential location\n",
      "constraint terrestrial eutrophication potential network\n",
      "constraint freshwater eutrophication potential process\n",
      "constraint freshwater eutrophication potential resource\n",
      "constraint freshwater eutrophication potential resource consumption\n",
      "constraint freshwater eutrophication potential resource discharge\n",
      "constraint freshwater eutrophication potential location\n",
      "constraint freshwater eutrophication potential network\n",
      "constraint marine eutrophication potential process\n",
      "constraint marine eutrophication potential resource\n",
      "constraint marine eutrophication potential resource consumption\n",
      "constraint marine eutrophication potential resource discharge\n",
      "constraint marine eutrophication potential location\n",
      "constraint marine eutrophication potential network\n",
      "constraint production mode\n",
      "constraint inventory balance\n",
      "constraint inventory network\n",
      "constraint storage facility\n",
      "constraint production facility\n",
      "constraint min production facility\n",
      "constraint min storage facility\n",
      "constraint demand\n",
      "objective cost\n"
     ]
    }
   ],
   "source": [
    "#, Constraints.MODE\n",
    "\n",
    "milp_cost = formulate(scenario=scenario, constraints={Constraints.COST, Constraints.INVENTORY, Constraints.PRODUCTION,\n",
    "                      Constraints.RESOURCE_BALANCE, Constraints.NETWORK, Constraints.DEMAND, Constraints.EMISSION}, objective=Objective.COST, demand_sign = 'eq')"
   ]
  },
  {
   "cell_type": "code",
   "execution_count": 162,
   "metadata": {},
   "outputs": [],
   "source": [
    "# model.component\n",
    "\n",
    "from pyomo.environ import ConstraintList\n",
    "milp_cost.cons1 = ConstraintList()\n",
    "for i in scales.scale_iter(2):\n",
    "    milp_cost.cons1.add(expr = milp_cost.P['HO', 'SMR', *i] >= 5000)"
   ]
  },
  {
   "cell_type": "code",
   "execution_count": 163,
   "metadata": {},
   "outputs": [],
   "source": [
    "# model.component\n",
    "\n",
    "from pyomo.environ import ConstraintList\n",
    "\n",
    "ramping_limit = 1000\n",
    "\n",
    "milp_cost.cons2 = ConstraintList()\n",
    "for i in scales.scale_iter(1):\n",
    "    if i != (0,0):\n",
    "        milp_cost.cons2.add(expr = milp_cost.P['HO', 'SMR', *i] - milp_cost.P['HO', 'SMR', *scales.scale_iter(2)[scales.scale_iter(1).index(i) - 1]] <= ramping_limit)\n",
    "\n",
    "milp_cost.cons3 = ConstraintList()\n",
    "for i in scales.scale_iter(1):\n",
    "    if i != (0,0):\n",
    "        milp_cost.cons3.add(expr = milp_cost.P['HO', 'SMR', *i] - milp_cost.P['HO', 'SMR', *scales.scale_iter(2)[scales.scale_iter(1).index(i) - 1]] >= -ramping_limit)"
   ]
  },
  {
   "cell_type": "code",
   "execution_count": 164,
   "metadata": {},
   "outputs": [
    {
     "name": "stdout",
     "output_type": "stream",
     "text": [
      "Set parameter QCPDual to value 1\n",
      "Gurobi Optimizer version 11.0.1 build v11.0.1rc0 (win64 - Windows 11.0 (22631.2))\n",
      "\n",
      "CPU model: 13th Gen Intel(R) Core(TM) i7-13700, instruction set [SSE2|AVX|AVX2]\n",
      "Thread count: 16 physical cores, 24 logical processors, using up to 24 threads\n",
      "\n",
      "Optimize a model with 1549 rows, 1594 columns and 3923 nonzeros\n",
      "Model fingerprint: 0x846fcec1\n",
      "Variable types: 1588 continuous, 6 integer (6 binary)\n",
      "Coefficient statistics:\n",
      "  Matrix range     [6e-06, 1e+06]\n",
      "  Objective range  [1e+00, 1e+00]\n",
      "  Bounds range     [1e+00, 1e+00]\n",
      "  RHS range        [1e+01, 1e+06]\n",
      "Presolve removed 1354 rows and 1456 columns\n",
      "Presolve time: 0.00s\n",
      "Presolved: 195 rows, 138 columns, 545 nonzeros\n",
      "Variable types: 136 continuous, 2 integer (2 binary)\n",
      "Found heuristic solution: objective 398725.31743\n",
      "\n",
      "Root relaxation: interrupted, 56 iterations, 0.00 seconds (0.00 work units)\n",
      "\n",
      "    Nodes    |    Current Node    |     Objective Bounds      |     Work\n",
      " Expl Unexpl |  Obj  Depth IntInf | Incumbent    BestBd   Gap | It/Node Time\n",
      "\n",
      "     0     0          -    0      398725.317 398686.900  0.01%     -    0s\n",
      "\n",
      "Explored 1 nodes (56 simplex iterations) in 0.01 seconds (0.00 work units)\n",
      "Thread count was 24 (of 24 available processors)\n",
      "\n",
      "Solution count 1: 398725 \n",
      "\n",
      "Optimal solution found (tolerance 1.00e-04)\n",
      "Best objective 3.987253174291e+05, best bound 3.986869000530e+05, gap 0.0096%\n",
      "WARNING: Cannot get duals for MIP.\n"
     ]
    }
   ],
   "source": [
    "results_cost = solve(scenario=scenario, instance=milp_cost,\n",
    "                     solver='gurobi', name=f\"res_cost\", print_solversteps=True, saveformat = '.pkl')\n"
   ]
  },
  {
   "cell_type": "code",
   "execution_count": 165,
   "metadata": {},
   "outputs": [
    {
     "data": {
      "image/png": "[encoded data removed]",
      "text/plain": [
       "<Figure size 1200x600 with 1 Axes>"
      ]
     },
     "metadata": {},
     "output_type": "display_data"
    }
   ],
   "source": [
    "plot_results.schedule(results = results_cost, y_axis= 'P', component = 'SMR', location='HO')"
   ]
  },
  {
   "cell_type": "code",
   "execution_count": 166,
   "metadata": {},
   "outputs": [
    {
     "name": "stdout",
     "output_type": "stream",
     "text": [
      "constraint process capex\n",
      "constraint process fopex\n",
      "constraint process vopex\n",
      "constraint process incidental\n",
      "constraint storage cost\n",
      "constraint storage cost location\n",
      "constraint storage cost network\n",
      "constraint global warming potential process\n",
      "constraint global warming potential resource\n",
      "constraint global warming potential resource consumption\n",
      "constraint global warming potential resource discharge\n",
      "constraint global warming potential location\n",
      "constraint global warming potential network\n",
      "constraint ozone depletion potential process\n",
      "constraint ozone depletion potential resource\n",
      "constraint ozone depletion potential resource consumption\n",
      "constraint ozone depletion potential resource discharge\n",
      "constraint ozone depletion potential location\n",
      "constraint ozone depletion potential network\n",
      "constraint acidification potential process\n",
      "constraint acidification potential resource\n",
      "constraint acidification potential resource consumption\n",
      "constraint acidification potential resource discharge\n",
      "constraint acidification potential location\n",
      "constraint acidification potential network\n",
      "constraint terrestrial eutrophication potential process\n",
      "constraint terrestrial eutrophication potential resource\n",
      "constraint terrestrial eutrophication potential resource consumption\n",
      "constraint terrestrial eutrophication potential resource discharge\n",
      "constraint terrestrial eutrophication potential location\n",
      "constraint terrestrial eutrophication potential network\n",
      "constraint freshwater eutrophication potential process\n",
      "constraint freshwater eutrophication potential resource\n",
      "constraint freshwater eutrophication potential resource consumption\n",
      "constraint freshwater eutrophication potential resource discharge\n",
      "constraint freshwater eutrophication potential location\n",
      "constraint freshwater eutrophication potential network\n",
      "constraint marine eutrophication potential process\n",
      "constraint marine eutrophication potential resource\n",
      "constraint marine eutrophication potential resource consumption\n",
      "constraint marine eutrophication potential resource discharge\n",
      "constraint marine eutrophication potential location\n",
      "constraint marine eutrophication potential network\n",
      "constraint production mode\n",
      "constraint inventory balance\n",
      "constraint inventory network\n",
      "constraint storage facility\n",
      "constraint production facility\n",
      "constraint min production facility\n",
      "constraint min storage facility\n",
      "constraint demand\n",
      "constraint network cost\n",
      "objective gwp min\n"
     ]
    }
   ],
   "source": [
    "milp_gwp = formulate(scenario=scenario, constraints={Constraints.COST, Constraints.INVENTORY, Constraints.PRODUCTION,\n",
    "                     Constraints.RESOURCE_BALANCE, Constraints.NETWORK, Constraints.DEMAND, Constraints.EMISSION}, objective=Objective.MIN_GWP, demand_sign = 'eq')"
   ]
  },
  {
   "cell_type": "code",
   "execution_count": 167,
   "metadata": {},
   "outputs": [],
   "source": [
    "\n",
    "from pyomo.environ import ConstraintList\n",
    "\n",
    "ramping_limit = 1000\n",
    "\n",
    "milp_gwp.cons2 = ConstraintList()\n",
    "for i in scales.scale_iter(1):\n",
    "    if i != (0,0):\n",
    "        milp_gwp.cons2.add(expr = milp_gwp.P['HO', 'SMR', *i] - milp_gwp.P['HO', 'SMR', *scales.scale_iter(2)[scales.scale_iter(1).index(i) - 1]] <= ramping_limit)\n",
    "\n",
    "milp_gwp.cons3 = ConstraintList()\n",
    "for i in scales.scale_iter(1):\n",
    "    if i != (0,0):\n",
    "        milp_gwp.cons3.add(expr = milp_gwp.P['HO', 'SMR', *i] - milp_gwp.P['HO', 'SMR', *scales.scale_iter(2)[scales.scale_iter(1).index(i) - 1]] >= -ramping_limit)"
   ]
  },
  {
   "cell_type": "code",
   "execution_count": 168,
   "metadata": {},
   "outputs": [],
   "source": [
    "# # model.component\n",
    "\n",
    "# from pyomo.environ import ConstraintList\n",
    "# milp_gwp.cons3 = ConstraintList()\n",
    "# for i in scales.scale_iter(2):\n",
    "#     milp_gwp.cons3.add(expr = milp_gwp.P['HO', 'SMRCCS', *i] >= 5)"
   ]
  },
  {
   "cell_type": "code",
   "execution_count": 169,
   "metadata": {},
   "outputs": [
    {
     "name": "stdout",
     "output_type": "stream",
     "text": [
      "Set parameter QCPDual to value 1\n",
      "Gurobi Optimizer version 11.0.1 build v11.0.1rc0 (win64 - Windows 11.0 (22631.2))\n",
      "\n",
      "CPU model: 13th Gen Intel(R) Core(TM) i7-13700, instruction set [SSE2|AVX|AVX2]\n",
      "Thread count: 16 physical cores, 24 logical processors, using up to 24 threads\n",
      "\n",
      "Optimize a model with 1526 rows, 1594 columns and 3913 nonzeros\n",
      "Model fingerprint: 0x6374d221\n",
      "Variable types: 1588 continuous, 6 integer (6 binary)\n",
      "Coefficient statistics:\n",
      "  Matrix range     [6e-06, 1e+06]\n",
      "  Objective range  [1e+00, 1e+00]\n",
      "  Bounds range     [1e+00, 1e+00]\n",
      "  RHS range        [1e+01, 1e+06]\n",
      "Presolve removed 1407 rows and 1474 columns\n",
      "Presolve time: 0.00s\n",
      "Presolved: 119 rows, 120 columns, 356 nonzeros\n",
      "Variable types: 120 continuous, 0 integer (0 binary)\n",
      "\n",
      "Root relaxation: objective 6.724506e+05, 61 iterations, 0.00 seconds (0.00 work units)\n",
      "\n",
      "    Nodes    |    Current Node    |     Objective Bounds      |     Work\n",
      " Expl Unexpl |  Obj  Depth IntInf | Incumbent    BestBd   Gap | It/Node Time\n",
      "\n",
      "*    0     0               0    672450.57288 672450.573  0.00%     -    0s\n",
      "\n",
      "Explored 1 nodes (61 simplex iterations) in 0.01 seconds (0.00 work units)\n",
      "Thread count was 24 (of 24 available processors)\n",
      "\n",
      "Solution count 1: 672451 \n",
      "\n",
      "Optimal solution found (tolerance 1.00e-04)\n",
      "Best objective 6.724505728821e+05, best bound 6.724505728821e+05, gap 0.0000%\n",
      "WARNING: Cannot get duals for MIP.\n"
     ]
    }
   ],
   "source": [
    "results_gwp = solve(scenario=scenario, instance=milp_gwp,\n",
    "                     solver='gurobi', name=f\"res_gwp\", print_solversteps=True, saveformat = '.pkl')"
   ]
  },
  {
   "cell_type": "code",
   "execution_count": 170,
   "metadata": {},
   "outputs": [
    {
     "data": {
      "image/png": "[encoded data removed]",
      "text/plain": [
       "<Figure size 1200x600 with 1 Axes>"
      ]
     },
     "metadata": {},
     "output_type": "display_data"
    },
    {
     "ename": "",
     "evalue": "",
     "output_type": "error",
     "traceback": [
      "\u001b[1;31mThe Kernel crashed while executing code in the current cell or a previous cell. \n",
      "\u001b[1;31mPlease review the code in the cell(s) to identify a possible cause of the failure. \n",
      "\u001b[1;31mClick <a href='https://aka.ms/vscodeJupyterKernelCrash'>here</a> for more info. \n",
      "\u001b[1;31mView Jupyter <a href='command:jupyter.viewOutput'>log</a> for further details."
     ]
    }
   ],
   "source": [
    "plot_results.schedule(results = results_gwp, y_axis= 'P', component = 'PEM', location='HO')"
   ]
  },
  {
   "cell_type": "code",
   "execution_count": null,
   "metadata": {},
   "outputs": [],
   "source": [
    "#, Constraints.MODE\n",
    "\n",
    "milp_scope1 = formulate(scenario=scenario, constraints={Constraints.COST, Constraints.INVENTORY, Constraints.PRODUCTION,\n",
    "                      Constraints.RESOURCE_BALANCE, Constraints.NETWORK, Constraints.DEMAND, Constraints.SCOPEONE}, objective=Objective.MIN_ScopeONE_GWP, demand_sign = 'eq')\n",
    "\n",
    "#, Constraints.SCOPEONE\n",
    "\n",
    "#, Constraints.EMISSION"
   ]
  },
  {
   "cell_type": "code",
   "execution_count": null,
   "metadata": {},
   "outputs": [],
   "source": [
    "# # model.component\n",
    "\n",
    "# from pyomo.environ import ConstraintList\n",
    "# milp_scope1.cons1 = ConstraintList()\n",
    "# for i in scales.scale_iter(2):\n",
    "#     milp_scope1.cons1.add(expr = milp_scope1.P['HO', 'SMR', *i] >= 5)"
   ]
  },
  {
   "cell_type": "code",
   "execution_count": null,
   "metadata": {},
   "outputs": [],
   "source": [
    "# model.component\n",
    "\n",
    "from pyomo.environ import ConstraintList\n",
    "\n",
    "ramping_limit = 1000\n",
    "\n",
    "milp_scope1.cons2 = ConstraintList()\n",
    "for i in scales.scale_iter(1):\n",
    "    if i != (0,0):\n",
    "        milp_scope1.cons2.add(expr = milp_scope1.P['HO', 'SMR', *i] - milp_scope1.P['HO', 'SMR', *scales.scale_iter(2)[scales.scale_iter(1).index(i) - 1]] <= ramping_limit)\n",
    "\n",
    "milp_scope1.cons3 = ConstraintList()\n",
    "for i in scales.scale_iter(1):\n",
    "    if i != (0,0):\n",
    "        milp_scope1.cons3.add(expr = milp_scope1.P['HO', 'SMR', *i] - milp_scope1.P['HO', 'SMR', *scales.scale_iter(2)[scales.scale_iter(1).index(i) - 1]] >= -ramping_limit)"
   ]
  },
  {
   "attachments": {},
   "cell_type": "markdown",
   "metadata": {},
   "source": [
    "## Optimize to minimize cost"
   ]
  },
  {
   "cell_type": "code",
   "execution_count": null,
   "metadata": {},
   "outputs": [],
   "source": [
    "results_scope1 = solve(scenario=scenario, instance=milp_scope1,\n",
    "                     solver='gurobi', name=f\"res_scope1\", print_solversteps=True, saveformat = '.pkl')\n"
   ]
  },
  {
   "cell_type": "code",
   "execution_count": null,
   "metadata": {},
   "outputs": [],
   "source": [
    "results_scope1.output['P_network']"
   ]
  },
  {
   "cell_type": "code",
   "execution_count": null,
   "metadata": {},
   "outputs": [],
   "source": [
    "results_scope1.output['Cost']"
   ]
  },
  {
   "cell_type": "code",
   "execution_count": null,
   "metadata": {},
   "outputs": [],
   "source": [
    "results_scope1.output['P']"
   ]
  },
  {
   "cell_type": "code",
   "execution_count": null,
   "metadata": {},
   "outputs": [],
   "source": [
    "#, Constraints.MODE\n",
    "\n",
    "milp_scope2 = formulate(scenario=scenario, constraints={Constraints.COST, Constraints.INVENTORY, Constraints.PRODUCTION,\n",
    "                      Constraints.RESOURCE_BALANCE, Constraints.NETWORK, Constraints.DEMAND, Constraints.SCOPETWO}, objective=Objective.MIN_ScopeTWO_GWP, demand_sign = 'eq')\n",
    "\n",
    "#, Constraints.SCOPEONE\n",
    "\n",
    "#, Constraints.EMISSION"
   ]
  },
  {
   "cell_type": "code",
   "execution_count": null,
   "metadata": {},
   "outputs": [],
   "source": [
    "# # model.component\n",
    "\n",
    "# from pyomo.environ import ConstraintList\n",
    "# milp_scope2.cons1 = ConstraintList()\n",
    "# for i in scales.scale_iter(2):\n",
    "#     milp_scope2.cons1.add(expr = milp_scope2.P['HO', 'SMR', *i] >= 5)"
   ]
  },
  {
   "cell_type": "code",
   "execution_count": null,
   "metadata": {},
   "outputs": [],
   "source": [
    "# model.component\n",
    "\n",
    "from pyomo.environ import ConstraintList\n",
    "\n",
    "ramping_limit = 1000\n",
    "\n",
    "milp_scope2.cons2 = ConstraintList()\n",
    "for i in scales.scale_iter(1):\n",
    "    if i != (0,0):\n",
    "        milp_scope2.cons2.add(expr = milp_scope2.P['HO', 'SMR', *i] - milp_scope2.P['HO', 'SMR', *scales.scale_iter(2)[scales.scale_iter(1).index(i) - 1]] <= ramping_limit)\n",
    "\n",
    "milp_scope2.cons3 = ConstraintList()\n",
    "for i in scales.scale_iter(1):\n",
    "    if i != (0,0):\n",
    "        milp_scope2.cons3.add(expr = milp_scope2.P['HO', 'SMR', *i] - milp_scope2.P['HO', 'SMR', *scales.scale_iter(2)[scales.scale_iter(1).index(i) - 1]] >= -ramping_limit)"
   ]
  },
  {
   "cell_type": "code",
   "execution_count": null,
   "metadata": {},
   "outputs": [],
   "source": [
    "results_scope2 = solve(scenario=scenario, instance=milp_scope2,\n",
    "                     solver='gurobi', name=f\"res_scope2\", print_solversteps=True, saveformat = '.pkl')"
   ]
  },
  {
   "cell_type": "code",
   "execution_count": null,
   "metadata": {},
   "outputs": [],
   "source": [
    "results_scope2.output['P_network']"
   ]
  },
  {
   "cell_type": "code",
   "execution_count": null,
   "metadata": {},
   "outputs": [],
   "source": [
    "results_scope2.output['Cost']"
   ]
  },
  {
   "cell_type": "code",
   "execution_count": null,
   "metadata": {},
   "outputs": [],
   "source": [
    "results_scope2.output['objective']"
   ]
  },
  {
   "cell_type": "code",
   "execution_count": null,
   "metadata": {},
   "outputs": [],
   "source": [
    "results_scope2.output['global_warming_potential_location_scope1']"
   ]
  },
  {
   "cell_type": "code",
   "execution_count": null,
   "metadata": {},
   "outputs": [],
   "source": [
    "#, Constraints.MODE\n",
    "\n",
    "milp_gwp = formulate(scenario=scenario, constraints={Constraints.COST, Constraints.INVENTORY, Constraints.PRODUCTION,\n",
    "                      Constraints.RESOURCE_BALANCE, Constraints.NETWORK, Constraints.DEMAND, Constraints.EMISSION}, objective=Objective.MIN_GWP, demand_sign = 'eq')\n",
    "\n",
    "#, Constraints.SCOPEONE\n",
    "\n",
    "#, Constraints.EMISSION"
   ]
  },
  {
   "cell_type": "code",
   "execution_count": null,
   "metadata": {},
   "outputs": [],
   "source": [
    "results_gwp = solve(scenario=scenario, instance=milp_gwp,\n",
    "                     solver='gurobi', name=f\"res_gwp\", print_solversteps=True, saveformat = '.pkl')"
   ]
  },
  {
   "cell_type": "code",
   "execution_count": null,
   "metadata": {},
   "outputs": [],
   "source": [
    "results_gwp.output['P_network']"
   ]
  },
  {
   "cell_type": "code",
   "execution_count": null,
   "metadata": {},
   "outputs": [],
   "source": [
    "plot_results.schedule(results = results_scope1, y_axis= 'P', component = 'PEM', location='HO')"
   ]
  },
  {
   "cell_type": "code",
   "execution_count": null,
   "metadata": {},
   "outputs": [],
   "source": [
    "results_scope1.output['global_warming_potential_resource_scope1']"
   ]
  },
  {
   "cell_type": "code",
   "execution_count": null,
   "metadata": {},
   "outputs": [],
   "source": [
    "results_scope1.output['P']"
   ]
  },
  {
   "cell_type": "code",
   "execution_count": null,
   "metadata": {},
   "outputs": [],
   "source": [
    "\n",
    "data = results_cost.output['P']"
   ]
  },
  {
   "cell_type": "code",
   "execution_count": null,
   "metadata": {},
   "outputs": [],
   "source": [
    "df = pd.DataFrame(data,index=[0])"
   ]
  },
  {
   "cell_type": "code",
   "execution_count": null,
   "metadata": {},
   "outputs": [],
   "source": [
    "df"
   ]
  },
  {
   "cell_type": "code",
   "execution_count": null,
   "metadata": {},
   "outputs": [],
   "source": [
    "df=df.T"
   ]
  },
  {
   "cell_type": "code",
   "execution_count": null,
   "metadata": {},
   "outputs": [],
   "source": [
    "# # Export the DataFrame to an Excel file\n",
    "# df.to_excel('C:/Users/marcopdsousa/Desktop/Dataframes/mincostprod.xlsx', index=True)"
   ]
  },
  {
   "cell_type": "code",
   "execution_count": null,
   "metadata": {},
   "outputs": [],
   "source": [
    "# data = results_cost.output['global_warming_potential_resource']\n",
    "# df = pd.DataFrame(data,index=[0])\n",
    "# df = df.T\n",
    "# # Export the DataFrame to an Excel file\n",
    "# df.to_excel('C:/Users/marcopdsousa/Desktop/Dataframes/mincostresource_emission.xlsx', index=True)"
   ]
  },
  {
   "cell_type": "code",
   "execution_count": null,
   "metadata": {},
   "outputs": [],
   "source": [
    "milp_scope1.constraint_inventory_balance.pprint()"
   ]
  },
  {
   "cell_type": "code",
   "execution_count": null,
   "metadata": {},
   "outputs": [],
   "source": [
    "results_scope1.output['objective']"
   ]
  },
  {
   "cell_type": "code",
   "execution_count": null,
   "metadata": {},
   "outputs": [],
   "source": [
    "results_scope1.output['Cost']"
   ]
  },
  {
   "cell_type": "code",
   "execution_count": null,
   "metadata": {},
   "outputs": [],
   "source": [
    "# plot_results.cost(results=results_cost, x=CostX.PROCESS_WISE,\n",
    "#                   y=CostY.TOTAL, location='HO', fig_size=(11, 6), )\n",
    "# #plt.rc('xtick', titlesize=8, labelsize=8)\n",
    "# plt.xticks(fontsize=10, rotation=45, ha='right')"
   ]
  },
  {
   "cell_type": "code",
   "execution_count": null,
   "metadata": {},
   "outputs": [],
   "source": [
    "results_scope1.output['global_warming_potential_location_scope1']"
   ]
  },
  {
   "cell_type": "code",
   "execution_count": null,
   "metadata": {},
   "outputs": [],
   "source": [
    "results_cost.output['P_network']"
   ]
  },
  {
   "cell_type": "code",
   "execution_count": null,
   "metadata": {},
   "outputs": [],
   "source": [
    "results_scope1.output['global_warming_potential_resource_scope1']"
   ]
  },
  {
   "cell_type": "code",
   "execution_count": null,
   "metadata": {},
   "outputs": [],
   "source": [
    "results_scope1.output['global_warming_potential_process']"
   ]
  },
  {
   "cell_type": "code",
   "execution_count": null,
   "metadata": {},
   "outputs": [],
   "source": [
    "results_cost.output['X_P']"
   ]
  },
  {
   "cell_type": "code",
   "execution_count": null,
   "metadata": {},
   "outputs": [],
   "source": [
    "milp_gwp = formulate(scenario=scenario, constraints={Constraints.COST, Constraints.INVENTORY, Constraints.PRODUCTION,\n",
    "                     Constraints.RESOURCE_BALANCE, Constraints.NETWORK, Constraints.DEMAND, Constraints.EMISSION}, objective=Objective.MIN_GWP, demand_sign = 'eq')"
   ]
  },
  {
   "cell_type": "code",
   "execution_count": null,
   "metadata": {},
   "outputs": [],
   "source": [
    "\n",
    "from pyomo.environ import ConstraintList\n",
    "\n",
    "ramping_limit = 3\n",
    "\n",
    "milp_gwp.cons1 = ConstraintList()\n",
    "for i in scales.scale_iter(1):\n",
    "    if i != (0,0):\n",
    "        milp_gwp.cons1.add(expr = milp_gwp.P['HO', 'PEM', *i] - milp_gwp.P['HO', 'PEM', *scales.scale_iter(2)[scales.scale_iter(1).index(i) - 1]] <= ramping_limit)\n"
   ]
  },
  {
   "cell_type": "code",
   "execution_count": null,
   "metadata": {},
   "outputs": [],
   "source": [
    "\n",
    "from pyomo.environ import ConstraintList\n",
    "\n",
    "ramping_limit = 3\n",
    "\n",
    "milp_gwp.cons2 = ConstraintList()\n",
    "for i in scales.scale_iter(1):\n",
    "    if i != (0,0):\n",
    "        milp_gwp.cons2.add(expr = milp_gwp.P['HO', 'SMR', *i] - milp_gwp.P['HO', 'SMR', *scales.scale_iter(2)[scales.scale_iter(1).index(i) - 1]] <= ramping_limit)"
   ]
  },
  {
   "cell_type": "code",
   "execution_count": null,
   "metadata": {},
   "outputs": [],
   "source": [
    "# model.component\n",
    "\n",
    "from pyomo.environ import ConstraintList\n",
    "milp_gwp.cons3 = ConstraintList()\n",
    "for i in scales.scale_iter(2):\n",
    "    milp_gwp.cons3.add(expr = milp_gwp.P['HO', 'SMRCCS', *i] >= 5)"
   ]
  },
  {
   "cell_type": "code",
   "execution_count": null,
   "metadata": {},
   "outputs": [],
   "source": [
    "milp_gwp.constraint_resource_purchase_varying.pprint()"
   ]
  },
  {
   "cell_type": "code",
   "execution_count": null,
   "metadata": {},
   "outputs": [],
   "source": [
    "results_gwp = solve(scenario=scenario, instance=milp_gwp,\n",
    "                     solver='gurobi', name=f\"res_gwp\", print_solversteps=True, saveformat = '.pkl')"
   ]
  },
  {
   "cell_type": "code",
   "execution_count": null,
   "metadata": {},
   "outputs": [],
   "source": [
    "plot_results.schedule(results = results_gwp, y_axis= 'P', component = 'PEM', location='HO')"
   ]
  },
  {
   "cell_type": "code",
   "execution_count": null,
   "metadata": {},
   "outputs": [],
   "source": [
    "results_gwp.output['Cost']"
   ]
  },
  {
   "cell_type": "code",
   "execution_count": null,
   "metadata": {},
   "outputs": [],
   "source": [
    "results_gwp.output['P']"
   ]
  },
  {
   "cell_type": "code",
   "execution_count": null,
   "metadata": {},
   "outputs": [],
   "source": [
    "# data = results_gwp.output['P']\n",
    "# df = pd.DataFrame(data,index=[0])\n",
    "# df = df.T\n",
    "# # Export the DataFrame to an Excel file\n",
    "# df.to_excel('C:/Users/marcopdsousa/Desktop/Dataframes/mingwpprod.xlsx', index=True)"
   ]
  },
  {
   "cell_type": "code",
   "execution_count": null,
   "metadata": {},
   "outputs": [],
   "source": [
    "results_cost.output['Cap_P']"
   ]
  },
  {
   "cell_type": "code",
   "execution_count": null,
   "metadata": {},
   "outputs": [],
   "source": [
    "results_gwp.output['Cap_P']"
   ]
  },
  {
   "cell_type": "code",
   "execution_count": null,
   "metadata": {},
   "outputs": [],
   "source": [
    "milp_gwp.constraint_global_warming_potential_resource.pprint()"
   ]
  },
  {
   "cell_type": "code",
   "execution_count": null,
   "metadata": {},
   "outputs": [],
   "source": [
    "scenario.resource_gwp_dict"
   ]
  },
  {
   "cell_type": "code",
   "execution_count": null,
   "metadata": {},
   "outputs": [],
   "source": [
    "results_gwp.output['X_P']"
   ]
  },
  {
   "cell_type": "code",
   "execution_count": null,
   "metadata": {},
   "outputs": [],
   "source": [
    "results_cost.output['X_P']"
   ]
  },
  {
   "cell_type": "code",
   "execution_count": null,
   "metadata": {},
   "outputs": [],
   "source": [
    "results_gwp.output['Cap_P']"
   ]
  },
  {
   "cell_type": "code",
   "execution_count": null,
   "metadata": {},
   "outputs": [],
   "source": [
    "results_cost.output['Cap_P']"
   ]
  },
  {
   "cell_type": "code",
   "execution_count": null,
   "metadata": {},
   "outputs": [],
   "source": [
    "results_gwp.output['Capex_network']"
   ]
  },
  {
   "cell_type": "code",
   "execution_count": null,
   "metadata": {},
   "outputs": [],
   "source": [
    "results_gwp.output['Fopex_network']"
   ]
  },
  {
   "cell_type": "code",
   "execution_count": null,
   "metadata": {},
   "outputs": [],
   "source": [
    "results_gwp.output['Vopex_network']"
   ]
  },
  {
   "cell_type": "code",
   "execution_count": null,
   "metadata": {},
   "outputs": [],
   "source": [
    "results_gwp.output['B_network']"
   ]
  },
  {
   "cell_type": "code",
   "execution_count": null,
   "metadata": {},
   "outputs": [],
   "source": [
    "results_cost.output['B_network']"
   ]
  },
  {
   "cell_type": "code",
   "execution_count": null,
   "metadata": {},
   "outputs": [],
   "source": [
    "results_cost.output['C_network']"
   ]
  },
  {
   "cell_type": "code",
   "execution_count": null,
   "metadata": {},
   "outputs": [],
   "source": [
    "results_cost.output['P']['HO','SMR',0,0]"
   ]
  },
  {
   "cell_type": "code",
   "execution_count": null,
   "metadata": {},
   "outputs": [],
   "source": [
    "print([(key, value) for key, value in results_cost.output['P'].items() if key[1]=='SMR'])"
   ]
  },
  {
   "cell_type": "code",
   "execution_count": null,
   "metadata": {},
   "outputs": [],
   "source": [
    "[results_cost.output['P'][('HO', 'SMR', *i)] for i in scales.scale_iter(2)]"
   ]
  },
  {
   "cell_type": "code",
   "execution_count": null,
   "metadata": {},
   "outputs": [],
   "source": [
    "results_cost.output['C']"
   ]
  },
  {
   "cell_type": "code",
   "execution_count": null,
   "metadata": {},
   "outputs": [],
   "source": [
    "print([(key, value) for key, value in results_cost.output['P'].items() if key[1]=='SMR'])"
   ]
  },
  {
   "cell_type": "code",
   "execution_count": null,
   "metadata": {},
   "outputs": [],
   "source": [
    "results_cost.output['C']"
   ]
  },
  {
   "cell_type": "code",
   "execution_count": null,
   "metadata": {},
   "outputs": [],
   "source": [
    "results_cost.output['P_network']"
   ]
  },
  {
   "cell_type": "code",
   "execution_count": null,
   "metadata": {},
   "outputs": [],
   "source": [
    "results_gwp.output['P_network']"
   ]
  },
  {
   "cell_type": "code",
   "execution_count": null,
   "metadata": {},
   "outputs": [],
   "source": [
    "PEM.conversion[Power]/SMR.conversion[Power]"
   ]
  },
  {
   "cell_type": "code",
   "execution_count": null,
   "metadata": {},
   "outputs": [],
   "source": [
    "SMR.conversion[Power]"
   ]
  },
  {
   "cell_type": "code",
   "execution_count": null,
   "metadata": {},
   "outputs": [],
   "source": [
    "SMRCCS.conversion[Power]"
   ]
  },
  {
   "cell_type": "code",
   "execution_count": null,
   "metadata": {},
   "outputs": [],
   "source": [
    "results_cost.output['Cap_P']"
   ]
  },
  {
   "cell_type": "code",
   "execution_count": null,
   "metadata": {},
   "outputs": [],
   "source": [
    "results_cost.output['S_network']"
   ]
  },
  {
   "cell_type": "code",
   "execution_count": null,
   "metadata": {},
   "outputs": [],
   "source": [
    "results_gwp.output['S_network']"
   ]
  },
  {
   "cell_type": "code",
   "execution_count": null,
   "metadata": {},
   "outputs": [],
   "source": [
    "results_gwp.output['Cost']"
   ]
  },
  {
   "cell_type": "code",
   "execution_count": null,
   "metadata": {},
   "outputs": [],
   "source": [
    "results_gwp.output['X_P']"
   ]
  },
  {
   "cell_type": "code",
   "execution_count": null,
   "metadata": {},
   "outputs": [],
   "source": [
    "results_gwp.output['Cap_P']"
   ]
  },
  {
   "cell_type": "code",
   "execution_count": null,
   "metadata": {},
   "outputs": [],
   "source": [
    "results_cost.output['objective']"
   ]
  },
  {
   "cell_type": "code",
   "execution_count": null,
   "metadata": {},
   "outputs": [],
   "source": [
    "results_gwp.output['objective']"
   ]
  },
  {
   "cell_type": "code",
   "execution_count": null,
   "metadata": {},
   "outputs": [],
   "source": [
    "results_cost.output['global_warming_potential_network']"
   ]
  },
  {
   "cell_type": "code",
   "execution_count": null,
   "metadata": {},
   "outputs": [],
   "source": [
    "results_gwp.output['global_warming_potential_network']"
   ]
  },
  {
   "cell_type": "code",
   "execution_count": null,
   "metadata": {},
   "outputs": [],
   "source": [
    "results_gwp.output['global_warming_potential_resource']"
   ]
  },
  {
   "cell_type": "code",
   "execution_count": null,
   "metadata": {},
   "outputs": [],
   "source": [
    "results_gwp.output['P_network']"
   ]
  },
  {
   "cell_type": "code",
   "execution_count": null,
   "metadata": {},
   "outputs": [],
   "source": [
    "results_cost.output['P_network']"
   ]
  },
  {
   "cell_type": "code",
   "execution_count": null,
   "metadata": {},
   "outputs": [],
   "source": [
    "results_gwp.output"
   ]
  },
  {
   "cell_type": "code",
   "execution_count": null,
   "metadata": {},
   "outputs": [],
   "source": [
    "\n",
    "# plot_results.gwp(results=results_gwp, x=CostX.PROCESS_WISE,\n",
    "#                   y=CostY.TOTAL, location='HO', fig_size=(11, 6), )\n",
    "# #plt.rc('xtick', titlesize=8, labelsize=8)\n",
    "# plt.xticks(fontsize=10, rotation=45, ha='right')"
   ]
  },
  {
   "cell_type": "code",
   "execution_count": null,
   "metadata": {},
   "outputs": [],
   "source": [
    "results_gwp.output['global_warming_potential_location']"
   ]
  },
  {
   "cell_type": "code",
   "execution_count": null,
   "metadata": {},
   "outputs": [],
   "source": [
    "results_gwp.output['P_network']"
   ]
  },
  {
   "cell_type": "markdown",
   "metadata": {},
   "source": [
    "EMISSION RESTRICTIONS"
   ]
  },
  {
   "cell_type": "code",
   "execution_count": null,
   "metadata": {},
   "outputs": [],
   "source": [
    "milp_gwp_10 = formulate(scenario=scenario, constraints={Constraints.COST, Constraints.INVENTORY, Constraints.PRODUCTION,\n",
    "                     Constraints.RESOURCE_BALANCE, Constraints.NETWORK, Constraints.DEMAND, Constraints.EMISSION}, objective=Objective.COST, demand_sign = 'eq')\n",
    "\n",
    "from energiapy.model.constraints.emission import constraint_global_warming_potential_network_reduction\n",
    "constraint_global_warming_potential_network_reduction(instance= milp_gwp_10, network_scale_level = 0, gwp_reduction_pct = 10, gwp = results_cost.output['global_warming_potential_network'][0])"
   ]
  },
  {
   "cell_type": "code",
   "execution_count": null,
   "metadata": {},
   "outputs": [],
   "source": [
    "from pyomo.environ import ConstraintList\n",
    "\n",
    "ramping_limit = 3\n",
    "\n",
    "milp_gwp_10.cons1 = ConstraintList()\n",
    "for i in scales.scale_iter(1):\n",
    "    if i != (0,0):\n",
    "        milp_gwp_10.cons1.add(expr = milp_gwp_10.P['HO', 'PEM', *i] - milp_gwp_10.P['HO', 'PEM', *scales.scale_iter(2)[scales.scale_iter(1).index(i) - 1]] <= ramping_limit)\n",
    "\n",
    "milp_gwp_10.cons2 = ConstraintList()\n",
    "for i in scales.scale_iter(1):\n",
    "    if i != (0,0):\n",
    "        milp_gwp_10.cons2.add(expr = milp_gwp_10.P['HO', 'SMR', *i] - milp_gwp_10.P['HO', 'SMR', *scales.scale_iter(2)[scales.scale_iter(1).index(i) - 1]] <= ramping_limit)\n",
    "\n",
    "milp_gwp_10.cons3 = ConstraintList()\n",
    "for i in scales.scale_iter(1):\n",
    "    if i != (0,0):\n",
    "        milp_gwp_10.cons3.add(expr = milp_gwp_10.P['HO', 'SMRCCS', *i] - milp_gwp_10.P['HO', 'SMRCCS', *scales.scale_iter(2)[scales.scale_iter(1).index(i) - 1]] <= ramping_limit)\n",
    "\n",
    "milp_gwp_10.cons4 = ConstraintList()\n",
    "for i in scales.scale_iter(2):\n",
    "    milp_gwp_10.cons4.add(expr = milp_gwp_10.P['HO', 'SMR', *i] >= 5)"
   ]
  },
  {
   "cell_type": "code",
   "execution_count": null,
   "metadata": {},
   "outputs": [],
   "source": [
    "results_gwp_10 = solve(scenario=scenario, instance=milp_gwp_10,\n",
    "                     solver='gurobi', name=f\"res_gwp_10\", print_solversteps=True, saveformat = '.pkl')"
   ]
  },
  {
   "cell_type": "code",
   "execution_count": null,
   "metadata": {},
   "outputs": [],
   "source": [
    "results_gwp_10.output['objective']"
   ]
  },
  {
   "cell_type": "code",
   "execution_count": null,
   "metadata": {},
   "outputs": [],
   "source": [
    "results_gwp_10.output['global_warming_potential_location']"
   ]
  },
  {
   "cell_type": "code",
   "execution_count": null,
   "metadata": {},
   "outputs": [],
   "source": [
    "results_gwp_10.output['P']"
   ]
  },
  {
   "cell_type": "code",
   "execution_count": null,
   "metadata": {},
   "outputs": [],
   "source": [
    "# data = results_gwp_10.output['P']\n",
    "# df = pd.DataFrame(data,index=[0])\n",
    "# df = df.T\n",
    "# # Export the DataFrame to an Excel file\n",
    "# df.to_excel('C:/Users/marcopdsousa/Desktop/Dataframes/mingwpprod10.xlsx', index=True)"
   ]
  },
  {
   "cell_type": "code",
   "execution_count": null,
   "metadata": {},
   "outputs": [],
   "source": [
    "# data = results_gwp_10.output['global_warming_potential_resource']\n",
    "# df = pd.DataFrame(data,index=[0])\n",
    "# df = df.T\n",
    "# # Export the DataFrame to an Excel file\n",
    "# df.to_excel('C:/Users/marcopdsousa/Desktop/Dataframes/mingwp10resource_emission.xlsx', index=True)"
   ]
  },
  {
   "cell_type": "code",
   "execution_count": null,
   "metadata": {},
   "outputs": [],
   "source": [
    "results_cost.output['global_warming_potential_resource']"
   ]
  },
  {
   "cell_type": "code",
   "execution_count": null,
   "metadata": {},
   "outputs": [],
   "source": [
    "results_gwp_10.output['global_warming_potential_resource']"
   ]
  },
  {
   "cell_type": "code",
   "execution_count": null,
   "metadata": {},
   "outputs": [],
   "source": [
    "milp_gwp_20 = formulate(scenario=scenario, constraints={Constraints.COST, Constraints.INVENTORY, Constraints.PRODUCTION,\n",
    "                     Constraints.RESOURCE_BALANCE, Constraints.NETWORK, Constraints.DEMAND, Constraints.EMISSION}, objective=Objective.COST, demand_sign = 'eq')\n",
    "\n",
    "from energiapy.model.constraints.emission import constraint_global_warming_potential_network_reduction\n",
    "constraint_global_warming_potential_network_reduction(instance= milp_gwp_20, network_scale_level = 0, gwp_reduction_pct = 20, gwp = results_cost.output['global_warming_potential_network'][0])\n"
   ]
  },
  {
   "cell_type": "code",
   "execution_count": null,
   "metadata": {},
   "outputs": [],
   "source": [
    "from pyomo.environ import ConstraintList\n",
    "\n",
    "ramping_limit = 3\n",
    "\n",
    "milp_gwp_20.cons1 = ConstraintList()\n",
    "for i in scales.scale_iter(1):\n",
    "    if i != (0,0):\n",
    "        milp_gwp_20.cons1.add(expr = milp_gwp_20.P['HO', 'PEM', *i] - milp_gwp_20.P['HO', 'PEM', *scales.scale_iter(2)[scales.scale_iter(1).index(i) - 1]] <= ramping_limit)\n",
    "\n",
    "milp_gwp_20.cons2 = ConstraintList()\n",
    "for i in scales.scale_iter(1):\n",
    "    if i != (0,0):\n",
    "        milp_gwp_20.cons2.add(expr = milp_gwp_20.P['HO', 'SMR', *i] - milp_gwp_20.P['HO', 'SMR', *scales.scale_iter(2)[scales.scale_iter(1).index(i) - 1]] <= ramping_limit)\n",
    "\n",
    "milp_gwp_20.cons3 = ConstraintList()\n",
    "for i in scales.scale_iter(1):\n",
    "    if i != (0,0):\n",
    "        milp_gwp_20.cons3.add(expr = milp_gwp_20.P['HO', 'SMRCCS', *i] - milp_gwp_20.P['HO', 'SMRCCS', *scales.scale_iter(2)[scales.scale_iter(1).index(i) - 1]] <= ramping_limit)\n",
    "\n",
    "milp_gwp_20.cons4 = ConstraintList()\n",
    "for i in scales.scale_iter(2):\n",
    "    milp_gwp_20.cons4.add(expr = milp_gwp_20.P['HO', 'SMR', *i] >= 5)"
   ]
  },
  {
   "cell_type": "code",
   "execution_count": null,
   "metadata": {},
   "outputs": [],
   "source": [
    "results_gwp_20 = solve(scenario=scenario, instance=milp_gwp_20,\n",
    "                     solver='gurobi', name=f\"res_gwp_20\", print_solversteps=True, saveformat = '.pkl')"
   ]
  },
  {
   "cell_type": "code",
   "execution_count": null,
   "metadata": {},
   "outputs": [],
   "source": [
    "results_gwp_20.output['objective']\n"
   ]
  },
  {
   "cell_type": "code",
   "execution_count": null,
   "metadata": {},
   "outputs": [],
   "source": [
    "results_gwp_20.output['P']"
   ]
  },
  {
   "cell_type": "code",
   "execution_count": null,
   "metadata": {},
   "outputs": [],
   "source": [
    "results_gwp_20.output['global_warming_potential_location']"
   ]
  },
  {
   "cell_type": "code",
   "execution_count": null,
   "metadata": {},
   "outputs": [],
   "source": [
    "results_gwp_20.output['global_warming_potential_resource']"
   ]
  },
  {
   "cell_type": "code",
   "execution_count": null,
   "metadata": {},
   "outputs": [],
   "source": [
    "results_gwp_20.output['P_network']"
   ]
  },
  {
   "cell_type": "code",
   "execution_count": null,
   "metadata": {},
   "outputs": [],
   "source": [
    "# data = results_gwp_20.output['P']\n",
    "# df = pd.DataFrame(data,index=[0])\n",
    "# df = df.T\n",
    "# # Export the DataFrame to an Excel file\n",
    "# df.to_excel('C:/Users/marcopdsousa/Desktop/Dataframes/mingwpprod20.xlsx', index=True)"
   ]
  },
  {
   "cell_type": "code",
   "execution_count": null,
   "metadata": {},
   "outputs": [],
   "source": [
    "# data = results_gwp_20.output['global_warming_potential_resource']\n",
    "# df = pd.DataFrame(data,index=[0])\n",
    "# df = df.T\n",
    "# # Export the DataFrame to an Excel file\n",
    "# df.to_excel('C:/Users/marcopdsousa/Desktop/Dataframes/mingwp20resource_emission.xlsx', index=True)"
   ]
  },
  {
   "cell_type": "code",
   "execution_count": null,
   "metadata": {},
   "outputs": [],
   "source": [
    "results_gwp_20.output[\"objective\"]"
   ]
  },
  {
   "cell_type": "code",
   "execution_count": null,
   "metadata": {},
   "outputs": [],
   "source": [
    "milp_gwp_30 = formulate(scenario=scenario, constraints={Constraints.COST, Constraints.INVENTORY, Constraints.PRODUCTION,\n",
    "                     Constraints.RESOURCE_BALANCE, Constraints.NETWORK, Constraints.DEMAND, Constraints.EMISSION}, objective=Objective.COST, demand_sign = 'eq')\n",
    "\n",
    "from energiapy.model.constraints.emission import constraint_global_warming_potential_network_reduction\n",
    "constraint_global_warming_potential_network_reduction(instance= milp_gwp_30, network_scale_level = 0, gwp_reduction_pct = 30, gwp = results_cost.output['global_warming_potential_network'][0])\n",
    "\n",
    "\n",
    "\n"
   ]
  },
  {
   "cell_type": "code",
   "execution_count": null,
   "metadata": {},
   "outputs": [],
   "source": [
    "from pyomo.environ import ConstraintList\n",
    "\n",
    "ramping_limit = 3\n",
    "\n",
    "milp_gwp_30.cons1 = ConstraintList()\n",
    "for i in scales.scale_iter(1):\n",
    "    if i != (0,0):\n",
    "        milp_gwp_30.cons1.add(expr = milp_gwp_30.P['HO', 'PEM', *i] - milp_gwp_30.P['HO', 'PEM', *scales.scale_iter(2)[scales.scale_iter(1).index(i) - 1]] <= ramping_limit)\n",
    "\n",
    "milp_gwp_30.cons2 = ConstraintList()\n",
    "for i in scales.scale_iter(1):\n",
    "    if i != (0,0):\n",
    "        milp_gwp_30.cons2.add(expr = milp_gwp_30.P['HO', 'SMR', *i] - milp_gwp_30.P['HO', 'SMR', *scales.scale_iter(2)[scales.scale_iter(1).index(i) - 1]] <= ramping_limit)\n",
    "\n",
    "milp_gwp_30.cons3 = ConstraintList()\n",
    "for i in scales.scale_iter(1):\n",
    "    if i != (0,0):\n",
    "        milp_gwp_30.cons3.add(expr = milp_gwp_30.P['HO', 'SMRCCS', *i] - milp_gwp_30.P['HO', 'SMRCCS', *scales.scale_iter(2)[scales.scale_iter(1).index(i) - 1]] <= ramping_limit)\n",
    "\n",
    "milp_gwp_30.cons4 = ConstraintList()\n",
    "for i in scales.scale_iter(2):\n",
    "    milp_gwp_30.cons4.add(expr = milp_gwp_30.P['HO', 'SMR', *i] >= 5)"
   ]
  },
  {
   "cell_type": "code",
   "execution_count": null,
   "metadata": {},
   "outputs": [],
   "source": [
    "results_gwp_30 = solve(scenario=scenario, instance=milp_gwp_30,\n",
    "                     solver='gurobi', name=f\"res_gwp_30\", print_solversteps=True, saveformat = '.pkl')"
   ]
  },
  {
   "cell_type": "code",
   "execution_count": null,
   "metadata": {},
   "outputs": [],
   "source": [
    "\n",
    "results_gwp_30.output['objective']"
   ]
  },
  {
   "cell_type": "code",
   "execution_count": null,
   "metadata": {},
   "outputs": [],
   "source": [
    "results_gwp_30.output['P']"
   ]
  },
  {
   "cell_type": "code",
   "execution_count": null,
   "metadata": {},
   "outputs": [],
   "source": [
    "results_gwp_30.output['global_warming_potential_location']"
   ]
  },
  {
   "cell_type": "code",
   "execution_count": null,
   "metadata": {},
   "outputs": [],
   "source": [
    "results_gwp_30.output['P_network']"
   ]
  },
  {
   "cell_type": "code",
   "execution_count": null,
   "metadata": {},
   "outputs": [],
   "source": [
    "plot_results.cost(results=results_gwp_30, x=CostX.PROCESS_WISE,\n",
    "                  y=CostY.TOTAL, location='HO', fig_size=(11, 6))"
   ]
  },
  {
   "cell_type": "code",
   "execution_count": null,
   "metadata": {},
   "outputs": [],
   "source": [
    "# data = results_gwp_30.output['P']\n",
    "# df = pd.DataFrame(data,index=[0])\n",
    "# df = df.T\n",
    "# # Export the DataFrame to an Excel file\n",
    "# df.to_excel('C:/Users/marcopdsousa/Desktop/Dataframes/mingwpprod30.xlsx', index=True)"
   ]
  },
  {
   "cell_type": "code",
   "execution_count": null,
   "metadata": {},
   "outputs": [],
   "source": [
    "results_gwp_30.output[\"objective\"]"
   ]
  },
  {
   "cell_type": "code",
   "execution_count": null,
   "metadata": {},
   "outputs": [],
   "source": [
    "# data = results_gwp_30.output['global_warming_potential_resource']\n",
    "# df = pd.DataFrame(data,index=[0])\n",
    "# df = df.T\n",
    "# # Export the DataFrame to an Excel file\n",
    "# df.to_excel('C:/Users/marcopdsousa/Desktop/Dataframes/mingwp30resource_emission.xlsx', index=True)"
   ]
  },
  {
   "cell_type": "code",
   "execution_count": null,
   "metadata": {},
   "outputs": [],
   "source": [
    "milp_gwp_40 = formulate(scenario=scenario, constraints={Constraints.COST, Constraints.INVENTORY, Constraints.PRODUCTION,\n",
    "                     Constraints.RESOURCE_BALANCE, Constraints.NETWORK, Constraints.DEMAND, Constraints.EMISSION}, objective=Objective.COST, demand_sign = 'eq')\n",
    "\n",
    "from energiapy.model.constraints.emission import constraint_global_warming_potential_network_reduction\n",
    "constraint_global_warming_potential_network_reduction(instance= milp_gwp_40, network_scale_level = 0, gwp_reduction_pct = 40, gwp = results_cost.output['global_warming_potential_network'][0])\n"
   ]
  },
  {
   "cell_type": "code",
   "execution_count": null,
   "metadata": {},
   "outputs": [],
   "source": [
    "from pyomo.environ import ConstraintList\n",
    "\n",
    "ramping_limit = 3\n",
    "\n",
    "milp_gwp_40.cons1 = ConstraintList()\n",
    "for i in scales.scale_iter(1):\n",
    "    if i != (0,0):\n",
    "        milp_gwp_40.cons1.add(expr = milp_gwp_40.P['HO', 'PEM', *i] - milp_gwp_40.P['HO', 'PEM', *scales.scale_iter(2)[scales.scale_iter(1).index(i) - 1]] <= ramping_limit)\n",
    "\n",
    "milp_gwp_40.cons2 = ConstraintList()\n",
    "for i in scales.scale_iter(1):\n",
    "    if i != (0,0):\n",
    "        milp_gwp_40.cons2.add(expr = milp_gwp_40.P['HO', 'SMR', *i] - milp_gwp_40.P['HO', 'SMR', *scales.scale_iter(2)[scales.scale_iter(1).index(i) - 1]] <= ramping_limit)\n",
    "\n",
    "milp_gwp_40.cons3 = ConstraintList()\n",
    "for i in scales.scale_iter(1):\n",
    "    if i != (0,0):\n",
    "        milp_gwp_40.cons3.add(expr = milp_gwp_40.P['HO', 'SMRCCS', *i] - milp_gwp_40.P['HO', 'SMRCCS', *scales.scale_iter(2)[scales.scale_iter(1).index(i) - 1]] <= ramping_limit)\n",
    "\n",
    "milp_gwp_40.cons4 = ConstraintList()\n",
    "for i in scales.scale_iter(2):\n",
    "    milp_gwp_40.cons4.add(expr = milp_gwp_40.P['HO', 'SMR', *i] >= 5)"
   ]
  },
  {
   "cell_type": "code",
   "execution_count": null,
   "metadata": {},
   "outputs": [],
   "source": [
    "results_gwp_40 = solve(scenario=scenario, instance=milp_gwp_40,\n",
    "                     solver='gurobi', name=f\"res_gwp_40\", print_solversteps=True, saveformat = '.pkl')"
   ]
  },
  {
   "cell_type": "code",
   "execution_count": null,
   "metadata": {},
   "outputs": [],
   "source": [
    "results_gwp_40.output['objective']"
   ]
  },
  {
   "cell_type": "code",
   "execution_count": null,
   "metadata": {},
   "outputs": [],
   "source": [
    "results_gwp_40.output['global_warming_potential_location']"
   ]
  },
  {
   "cell_type": "code",
   "execution_count": null,
   "metadata": {},
   "outputs": [],
   "source": [
    "results_gwp_40.output['global_warming_potential_resource']"
   ]
  },
  {
   "cell_type": "code",
   "execution_count": null,
   "metadata": {},
   "outputs": [],
   "source": [
    "results_gwp_40.output['P_network']"
   ]
  },
  {
   "cell_type": "code",
   "execution_count": null,
   "metadata": {},
   "outputs": [],
   "source": [
    "results_gwp_40.output['P']"
   ]
  },
  {
   "cell_type": "code",
   "execution_count": null,
   "metadata": {},
   "outputs": [],
   "source": [
    "plot_results.cost(results=results_gwp_40, x=CostX.PROCESS_WISE,\n",
    "                  y=CostY.TOTAL, location='HO', fig_size=(11, 6))"
   ]
  },
  {
   "cell_type": "code",
   "execution_count": null,
   "metadata": {},
   "outputs": [],
   "source": [
    "plot_results.schedule(results = results_gwp_40, y_axis= 'P', component = 'SMR', location='HO')\n",
    "plot_results.schedule(results = results_gwp_40, y_axis= 'P', component = 'SMRCCS', location='HO')\n"
   ]
  },
  {
   "cell_type": "code",
   "execution_count": null,
   "metadata": {},
   "outputs": [],
   "source": [
    "# data = results_gwp_40.output['P']\n",
    "# df = pd.DataFrame(data,index=[0])\n",
    "# df = df.T\n",
    "# # Export the DataFrame to an Excel file\n",
    "# df.to_excel('C:/Users/marcopdsousa/Desktop/Dataframes/mingwpprod40.xlsx', index=True)"
   ]
  },
  {
   "cell_type": "code",
   "execution_count": null,
   "metadata": {},
   "outputs": [],
   "source": [
    "# data = results_gwp_40.output['global_warming_potential_resource']\n",
    "# df = pd.DataFrame(data,index=[0])\n",
    "# df = df.T\n",
    "# # Export the DataFrame to an Excel file\n",
    "# df.to_excel('C:/Users/marcopdsousa/Desktop/Dataframes/mingwp40resource_emission.xlsx', index=True)"
   ]
  },
  {
   "cell_type": "code",
   "execution_count": null,
   "metadata": {},
   "outputs": [],
   "source": [
    "results_gwp_40.output[\"objective\"]"
   ]
  },
  {
   "cell_type": "code",
   "execution_count": null,
   "metadata": {},
   "outputs": [],
   "source": [
    "milp_gwp_50 = formulate(scenario=scenario, constraints={Constraints.COST, Constraints.INVENTORY, Constraints.PRODUCTION,\n",
    "                     Constraints.RESOURCE_BALANCE, Constraints.NETWORK, Constraints.DEMAND, Constraints.EMISSION}, objective=Objective.COST, demand_sign = 'eq')\n",
    "\n",
    "from energiapy.model.constraints.emission import constraint_global_warming_potential_network_reduction\n",
    "constraint_global_warming_potential_network_reduction(instance= milp_gwp_50, network_scale_level = 0, gwp_reduction_pct = 50, gwp = results_cost.output['global_warming_potential_network'][0])"
   ]
  },
  {
   "cell_type": "code",
   "execution_count": null,
   "metadata": {},
   "outputs": [],
   "source": [
    "from pyomo.environ import ConstraintList\n",
    "\n",
    "ramping_limit = 3\n",
    "\n",
    "milp_gwp_50.cons1 = ConstraintList()\n",
    "for i in scales.scale_iter(1):\n",
    "    if i != (0,0):\n",
    "        milp_gwp_50.cons1.add(expr = milp_gwp_50.P['HO', 'PEM', *i] - milp_gwp_50.P['HO', 'PEM', *scales.scale_iter(2)[scales.scale_iter(1).index(i) - 1]] <= ramping_limit)\n",
    "\n",
    "milp_gwp_50.cons2 = ConstraintList()\n",
    "for i in scales.scale_iter(1):\n",
    "    if i != (0,0):\n",
    "        milp_gwp_50.cons2.add(expr = milp_gwp_50.P['HO', 'SMR', *i] - milp_gwp_50.P['HO', 'SMR', *scales.scale_iter(2)[scales.scale_iter(1).index(i) - 1]] <= ramping_limit)\n",
    "\n",
    "milp_gwp_50.cons3 = ConstraintList()\n",
    "for i in scales.scale_iter(1):\n",
    "    if i != (0,0):\n",
    "        milp_gwp_50.cons3.add(expr = milp_gwp_50.P['HO', 'SMRCCS', *i] - milp_gwp_50.P['HO', 'SMRCCS', *scales.scale_iter(2)[scales.scale_iter(1).index(i) - 1]] <= ramping_limit)\n",
    "\n",
    "milp_gwp_50.cons4 = ConstraintList()\n",
    "for i in scales.scale_iter(2):\n",
    "    milp_gwp_50.cons4.add(expr = milp_gwp_50.P['HO', 'SMR', *i] >= 5)"
   ]
  },
  {
   "cell_type": "code",
   "execution_count": null,
   "metadata": {},
   "outputs": [],
   "source": [
    "results_gwp_50 = solve(scenario=scenario, instance=milp_gwp_50,\n",
    "                     solver='gurobi', name=f\"res_gwp_50\", print_solversteps=True, saveformat = '.pkl')"
   ]
  },
  {
   "cell_type": "code",
   "execution_count": null,
   "metadata": {},
   "outputs": [],
   "source": [
    "# data = results_gwp_50.output['P']\n",
    "# df = pd.DataFrame(data,index=[0])\n",
    "# df = df.T\n",
    "# # Export the DataFrame to an Excel file\n",
    "# df.to_excel('C:/Users/marcopdsousa/Desktop/Dataframes/mingwpprod50.xlsx', index=True)"
   ]
  },
  {
   "cell_type": "code",
   "execution_count": null,
   "metadata": {},
   "outputs": [],
   "source": [
    "# data = results_gwp_50.output['global_warming_potential_resource']\n",
    "# df = pd.DataFrame(data,index=[0])\n",
    "# df = df.T\n",
    "# # Export the DataFrame to an Excel file\n",
    "# df.to_excel('C:/Users/marcopdsousa/Desktop/Dataframes/mingwp50resource_emission.xlsx', index=True)"
   ]
  },
  {
   "cell_type": "code",
   "execution_count": null,
   "metadata": {},
   "outputs": [],
   "source": [
    "results_gwp_50.output[\"objective\"]"
   ]
  },
  {
   "cell_type": "code",
   "execution_count": null,
   "metadata": {},
   "outputs": [],
   "source": [
    "results_gwp_50.output['global_warming_potential_location']"
   ]
  },
  {
   "cell_type": "code",
   "execution_count": null,
   "metadata": {},
   "outputs": [],
   "source": [
    "milp_gwp_60 = formulate(scenario=scenario, constraints={Constraints.COST, Constraints.INVENTORY, Constraints.PRODUCTION,\n",
    "                     Constraints.RESOURCE_BALANCE, Constraints.NETWORK, Constraints.DEMAND, Constraints.EMISSION}, objective=Objective.COST, demand_sign = 'eq')\n",
    "\n",
    "from energiapy.model.constraints.emission import constraint_global_warming_potential_network_reduction\n",
    "constraint_global_warming_potential_network_reduction(instance= milp_gwp_60, network_scale_level = 0, gwp_reduction_pct = 60, gwp = results_cost.output['global_warming_potential_network'][0])"
   ]
  },
  {
   "cell_type": "code",
   "execution_count": null,
   "metadata": {},
   "outputs": [],
   "source": [
    "from pyomo.environ import ConstraintList\n",
    "\n",
    "ramping_limit = 3\n",
    "\n",
    "milp_gwp_60.cons1 = ConstraintList()\n",
    "for i in scales.scale_iter(1):\n",
    "    if i != (0,0):\n",
    "        milp_gwp_60.cons1.add(expr = milp_gwp_60.P['HO', 'PEM', *i] - milp_gwp_60.P['HO', 'PEM', *scales.scale_iter(2)[scales.scale_iter(1).index(i) - 1]] <= ramping_limit)\n",
    "\n",
    "milp_gwp_60.cons2 = ConstraintList()\n",
    "for i in scales.scale_iter(1):\n",
    "    if i != (0,0):\n",
    "        milp_gwp_60.cons2.add(expr = milp_gwp_60.P['HO', 'SMR', *i] - milp_gwp_60.P['HO', 'SMR', *scales.scale_iter(2)[scales.scale_iter(1).index(i) - 1]] <= ramping_limit)\n",
    "\n",
    "milp_gwp_60.cons3 = ConstraintList()\n",
    "for i in scales.scale_iter(1):\n",
    "    if i != (0,0):\n",
    "        milp_gwp_60.cons3.add(expr = milp_gwp_60.P['HO', 'SMRCCS', *i] - milp_gwp_60.P['HO', 'SMRCCS', *scales.scale_iter(2)[scales.scale_iter(1).index(i) - 1]] <= ramping_limit)\n",
    "\n",
    "milp_gwp_60.cons4 = ConstraintList()\n",
    "for i in scales.scale_iter(2):\n",
    "    milp_gwp_60.cons4.add(expr = milp_gwp_60.P['HO', 'SMR', *i] >= 5)"
   ]
  },
  {
   "cell_type": "code",
   "execution_count": null,
   "metadata": {},
   "outputs": [],
   "source": [
    "results_gwp_60 = solve(scenario=scenario, instance=milp_gwp_60,\n",
    "                     solver='gurobi', name=f\"res_gwp_60\", print_solversteps=True, saveformat = '.pkl')"
   ]
  },
  {
   "cell_type": "code",
   "execution_count": null,
   "metadata": {},
   "outputs": [],
   "source": [
    "plot_results.schedule(results = results_gwp_60, y_axis= 'P', component = 'SMR', location='HO')\n",
    "plot_results.schedule(results = results_gwp_60, y_axis= 'P', component = 'SMRCCS', location='HO')\n",
    "plot_results.schedule(results = results_gwp_60, y_axis= 'P', component = 'PEM', location='HO')"
   ]
  },
  {
   "cell_type": "code",
   "execution_count": null,
   "metadata": {},
   "outputs": [],
   "source": [
    "# data = results_gwp_60.output['P']\n",
    "# df = pd.DataFrame(data,index=[0])\n",
    "# df = df.T\n",
    "# # Export the DataFrame to an Excel file\n",
    "# df.to_excel('C:/Users/marcopdsousa/Desktop/Dataframes/mingwpprod60.xlsx', index=True)"
   ]
  },
  {
   "cell_type": "code",
   "execution_count": null,
   "metadata": {},
   "outputs": [],
   "source": [
    "# data = results_gwp_60.output['global_warming_potential_resource']\n",
    "# df = pd.DataFrame(data,index=[0])\n",
    "# df = df.T\n",
    "# # Export the DataFrame to an Excel file\n",
    "# df.to_excel('C:/Users/marcopdsousa/Desktop/Dataframes/mingwp60resource_emission.xlsx', index=True)"
   ]
  },
  {
   "cell_type": "code",
   "execution_count": null,
   "metadata": {},
   "outputs": [],
   "source": [
    "results_gwp_60.output[\"objective\"]"
   ]
  },
  {
   "cell_type": "code",
   "execution_count": null,
   "metadata": {},
   "outputs": [],
   "source": [
    "results_gwp_60.output[\"P\"]"
   ]
  },
  {
   "cell_type": "code",
   "execution_count": null,
   "metadata": {},
   "outputs": [],
   "source": [
    "results_gwp_60.output['global_warming_potential_location']"
   ]
  },
  {
   "cell_type": "code",
   "execution_count": null,
   "metadata": {},
   "outputs": [],
   "source": [
    "results_gwp_60.output['global_warming_potential_resource']"
   ]
  },
  {
   "cell_type": "code",
   "execution_count": null,
   "metadata": {},
   "outputs": [],
   "source": [
    "milp_gwp_70 = formulate(scenario=scenario, constraints={Constraints.COST, Constraints.INVENTORY, Constraints.PRODUCTION,\n",
    "                     Constraints.RESOURCE_BALANCE, Constraints.NETWORK, Constraints.DEMAND, Constraints.EMISSION}, objective=Objective.COST, demand_sign = 'eq')\n",
    "\n",
    "from energiapy.model.constraints.emission import constraint_global_warming_potential_network_reduction\n",
    "constraint_global_warming_potential_network_reduction(instance= milp_gwp_70, network_scale_level = 0, gwp_reduction_pct = 70, gwp = results_cost.output['global_warming_potential_network'][0])"
   ]
  },
  {
   "cell_type": "code",
   "execution_count": null,
   "metadata": {},
   "outputs": [],
   "source": [
    "from pyomo.environ import ConstraintList\n",
    "\n",
    "ramping_limit = 3\n",
    "\n",
    "milp_gwp_70.cons1 = ConstraintList()\n",
    "for i in scales.scale_iter(1):\n",
    "    if i != (0,0):\n",
    "        milp_gwp_70.cons1.add(expr = milp_gwp_70.P['HO', 'PEM', *i] - milp_gwp_70.P['HO', 'PEM', *scales.scale_iter(2)[scales.scale_iter(1).index(i) - 1]] <= ramping_limit)\n",
    "\n",
    "milp_gwp_70.cons2 = ConstraintList()\n",
    "for i in scales.scale_iter(1):\n",
    "    if i != (0,0):\n",
    "        milp_gwp_70.cons2.add(expr = milp_gwp_70.P['HO', 'SMR', *i] - milp_gwp_70.P['HO', 'SMR', *scales.scale_iter(2)[scales.scale_iter(1).index(i) - 1]] <= ramping_limit)\n",
    "\n",
    "milp_gwp_70.cons3 = ConstraintList()\n",
    "for i in scales.scale_iter(1):\n",
    "    if i != (0,0):\n",
    "        milp_gwp_70.cons3.add(expr = milp_gwp_70.P['HO', 'SMRCCS', *i] - milp_gwp_70.P['HO', 'SMRCCS', *scales.scale_iter(2)[scales.scale_iter(1).index(i) - 1]] <= ramping_limit)\n",
    "\n",
    "milp_gwp_70.cons4 = ConstraintList()\n",
    "for i in scales.scale_iter(2):\n",
    "    milp_gwp_70.cons4.add(expr = milp_gwp_70.P['HO', 'SMR', *i] >= 5)"
   ]
  },
  {
   "cell_type": "code",
   "execution_count": null,
   "metadata": {},
   "outputs": [],
   "source": [
    "results_gwp_70 = solve(scenario=scenario, instance=milp_gwp_70,\n",
    "                     solver='gurobi', name=f\"res_gwp_70\", print_solversteps=True, saveformat = '.pkl')"
   ]
  },
  {
   "cell_type": "code",
   "execution_count": null,
   "metadata": {},
   "outputs": [],
   "source": [
    "# data = results_gwp_70.output['P']\n",
    "# df = pd.DataFrame(data,index=[0])\n",
    "# df = df.T\n",
    "# # Export the DataFrame to an Excel file\n",
    "# df.to_excel('C:/Users/marcopdsousa/Desktop/Dataframes/mingwpprod70.xlsx', index=True)"
   ]
  },
  {
   "cell_type": "code",
   "execution_count": null,
   "metadata": {},
   "outputs": [],
   "source": [
    "# data = results_gwp_70.output['global_warming_potential_resource']\n",
    "# df = pd.DataFrame(data,index=[0])\n",
    "# df = df.T\n",
    "# # Export the DataFrame to an Excel file\n",
    "# df.to_excel('C:/Users/marcopdsousa/Desktop/Dataframes/mingwp70resource_emission.xlsx', index=True)"
   ]
  },
  {
   "cell_type": "code",
   "execution_count": null,
   "metadata": {},
   "outputs": [],
   "source": [
    "results_gwp_70.output[\"objective\"]"
   ]
  },
  {
   "cell_type": "code",
   "execution_count": null,
   "metadata": {},
   "outputs": [],
   "source": [
    "results_gwp_70.output['global_warming_potential_resource']"
   ]
  },
  {
   "cell_type": "code",
   "execution_count": null,
   "metadata": {},
   "outputs": [],
   "source": [
    "results_gwp_70.output[\"P\"]"
   ]
  },
  {
   "cell_type": "code",
   "execution_count": null,
   "metadata": {},
   "outputs": [],
   "source": [
    "results_gwp_70.output['global_warming_potential_location']"
   ]
  },
  {
   "cell_type": "code",
   "execution_count": null,
   "metadata": {},
   "outputs": [],
   "source": [
    "milp_gwp_75 = formulate(scenario=scenario, constraints={Constraints.COST, Constraints.INVENTORY, Constraints.PRODUCTION,\n",
    "                     Constraints.RESOURCE_BALANCE, Constraints.NETWORK, Constraints.DEMAND, Constraints.EMISSION}, objective=Objective.COST, demand_sign = 'eq')\n",
    "\n",
    "from energiapy.model.constraints.emission import constraint_global_warming_potential_network_reduction\n",
    "constraint_global_warming_potential_network_reduction(instance= milp_gwp_75, network_scale_level = 0, gwp_reduction_pct = 75, gwp = results_cost.output['global_warming_potential_network'][0])"
   ]
  },
  {
   "cell_type": "code",
   "execution_count": null,
   "metadata": {},
   "outputs": [],
   "source": [
    "from pyomo.environ import ConstraintList\n",
    "\n",
    "ramping_limit = 3\n",
    "\n",
    "milp_gwp_75.cons1 = ConstraintList()\n",
    "for i in scales.scale_iter(1):\n",
    "    if i != (0,0):\n",
    "        milp_gwp_75.cons1.add(expr = milp_gwp_75.P['HO', 'PEM', *i] - milp_gwp_75.P['HO', 'PEM', *scales.scale_iter(2)[scales.scale_iter(1).index(i) - 1]] <= ramping_limit)\n",
    "\n",
    "milp_gwp_75.cons2 = ConstraintList()\n",
    "for i in scales.scale_iter(1):\n",
    "    if i != (0,0):\n",
    "        milp_gwp_75.cons2.add(expr = milp_gwp_75.P['HO', 'SMR', *i] - milp_gwp_75.P['HO', 'SMR', *scales.scale_iter(2)[scales.scale_iter(1).index(i) - 1]] <= ramping_limit)\n",
    "\n",
    "milp_gwp_75.cons3 = ConstraintList()\n",
    "for i in scales.scale_iter(1):\n",
    "    if i != (0,0):\n",
    "        milp_gwp_75.cons3.add(expr = milp_gwp_75.P['HO', 'SMRCCS', *i] - milp_gwp_75.P['HO', 'SMRCCS', *scales.scale_iter(2)[scales.scale_iter(1).index(i) - 1]] <= ramping_limit)\n",
    "\n",
    "milp_gwp_75.cons4 = ConstraintList()\n",
    "for i in scales.scale_iter(2):\n",
    "    milp_gwp_75.cons4.add(expr = milp_gwp_75.P['HO', 'SMR', *i] >= 5)"
   ]
  },
  {
   "cell_type": "code",
   "execution_count": null,
   "metadata": {},
   "outputs": [],
   "source": [
    "results_gwp_75 = solve(scenario=scenario, instance=milp_gwp_75,\n",
    "                     solver='gurobi', name=f\"res_gwp_75\", print_solversteps=True, saveformat = '.pkl')"
   ]
  },
  {
   "cell_type": "code",
   "execution_count": null,
   "metadata": {},
   "outputs": [],
   "source": [
    "# data = results_gwp_75.output['P']\n",
    "# df = pd.DataFrame(data,index=[0])\n",
    "# df = df.T\n",
    "# # Export the DataFrame to an Excel file\n",
    "# df.to_excel('C:/Users/marcopdsousa/Desktop/Dataframes/mingwpprod75.xlsx', index=True)"
   ]
  },
  {
   "cell_type": "code",
   "execution_count": null,
   "metadata": {},
   "outputs": [],
   "source": [
    "results_gwp_75.output[\"objective\"]"
   ]
  },
  {
   "cell_type": "code",
   "execution_count": null,
   "metadata": {},
   "outputs": [],
   "source": [
    "results_gwp_75.output[\"P\"]"
   ]
  },
  {
   "cell_type": "code",
   "execution_count": null,
   "metadata": {},
   "outputs": [],
   "source": [
    "results_gwp_75.output['global_warming_potential_location']"
   ]
  },
  {
   "cell_type": "code",
   "execution_count": null,
   "metadata": {},
   "outputs": [],
   "source": [
    "milp_gwp_78 = formulate(scenario=scenario, constraints={Constraints.COST, Constraints.INVENTORY, Constraints.PRODUCTION,\n",
    "                     Constraints.RESOURCE_BALANCE, Constraints.NETWORK, Constraints.DEMAND, Constraints.EMISSION}, objective=Objective.COST, demand_sign = 'eq')\n",
    "\n",
    "from energiapy.model.constraints.emission import constraint_global_warming_potential_network_reduction\n",
    "constraint_global_warming_potential_network_reduction(instance= milp_gwp_78, network_scale_level = 0, gwp_reduction_pct = 78, gwp = results_cost.output['global_warming_potential_network'][0])"
   ]
  },
  {
   "cell_type": "code",
   "execution_count": null,
   "metadata": {},
   "outputs": [],
   "source": [
    "from pyomo.environ import ConstraintList\n",
    "\n",
    "ramping_limit = 3\n",
    "\n",
    "milp_gwp_78.cons1 = ConstraintList()\n",
    "for i in scales.scale_iter(1):\n",
    "    if i != (0,0):\n",
    "        milp_gwp_78.cons1.add(expr = milp_gwp_78.P['HO', 'PEM', *i] - milp_gwp_78.P['HO', 'PEM', *scales.scale_iter(2)[scales.scale_iter(1).index(i) - 1]] <= ramping_limit)\n",
    "\n",
    "milp_gwp_78.cons2 = ConstraintList()\n",
    "for i in scales.scale_iter(1):\n",
    "    if i != (0,0):\n",
    "        milp_gwp_78.cons2.add(expr = milp_gwp_78.P['HO', 'SMR', *i] - milp_gwp_78.P['HO', 'SMR', *scales.scale_iter(2)[scales.scale_iter(1).index(i) - 1]] <= ramping_limit)\n",
    "\n",
    "milp_gwp_78.cons3 = ConstraintList()\n",
    "for i in scales.scale_iter(1):\n",
    "    if i != (0,0):\n",
    "        milp_gwp_78.cons3.add(expr = milp_gwp_78.P['HO', 'SMRCCS', *i] - milp_gwp_78.P['HO', 'SMRCCS', *scales.scale_iter(2)[scales.scale_iter(1).index(i) - 1]] <= ramping_limit)\n",
    "\n",
    "milp_gwp_78.cons4 = ConstraintList()\n",
    "for i in scales.scale_iter(2):\n",
    "    milp_gwp_78.cons4.add(expr = milp_gwp_78.P['HO', 'SMR', *i] >= 5)"
   ]
  },
  {
   "cell_type": "code",
   "execution_count": null,
   "metadata": {},
   "outputs": [],
   "source": [
    "results_gwp_78 = solve(scenario=scenario, instance=milp_gwp_78,\n",
    "                     solver='gurobi', name=f\"res_gwp_78\", print_solversteps=True, saveformat = '.pkl')"
   ]
  },
  {
   "cell_type": "code",
   "execution_count": null,
   "metadata": {},
   "outputs": [],
   "source": [
    "results_gwp_78.output['objective']"
   ]
  },
  {
   "cell_type": "code",
   "execution_count": null,
   "metadata": {},
   "outputs": [],
   "source": [
    "results_gwp_78.output['global_warming_potential_location']"
   ]
  },
  {
   "cell_type": "code",
   "execution_count": null,
   "metadata": {},
   "outputs": [],
   "source": [
    "results_gwp_78.output[\"P\"]"
   ]
  },
  {
   "cell_type": "code",
   "execution_count": null,
   "metadata": {},
   "outputs": [],
   "source": [
    "# data = results_gwp_78.output['P']\n",
    "# df = pd.DataFrame(data,index=[0])\n",
    "# df = df.T\n",
    "# # Export the DataFrame to an Excel file\n",
    "# df.to_excel('C:/Users/marcopdsousa/Desktop/Dataframes/mingwpprod78.xlsx', index=True)"
   ]
  },
  {
   "cell_type": "code",
   "execution_count": null,
   "metadata": {},
   "outputs": [],
   "source": [
    "plot_results.cost(results=results_gwp_78, x=CostX.PROCESS_WISE,\n",
    "                  y=CostY.TOTAL, location='HO', fig_size=(11, 6))"
   ]
  },
  {
   "cell_type": "code",
   "execution_count": null,
   "metadata": {},
   "outputs": [],
   "source": [
    "milp_gwp_79 = formulate(scenario=scenario, constraints={Constraints.COST, Constraints.INVENTORY, Constraints.PRODUCTION,\n",
    "                     Constraints.RESOURCE_BALANCE, Constraints.NETWORK, Constraints.DEMAND, Constraints.EMISSION}, objective=Objective.COST, demand_sign = 'eq')\n",
    "\n",
    "from energiapy.model.constraints.emission import constraint_global_warming_potential_network_reduction\n",
    "constraint_global_warming_potential_network_reduction(instance= milp_gwp_79, network_scale_level = 0, gwp_reduction_pct = 79, gwp = results_cost.output['global_warming_potential_network'][0])"
   ]
  },
  {
   "cell_type": "code",
   "execution_count": null,
   "metadata": {},
   "outputs": [],
   "source": [
    "from pyomo.environ import ConstraintList\n",
    "\n",
    "ramping_limit = 3\n",
    "\n",
    "milp_gwp_79.cons1 = ConstraintList()\n",
    "for i in scales.scale_iter(1):\n",
    "    if i != (0,0):\n",
    "        milp_gwp_79.cons1.add(expr = milp_gwp_79.P['HO', 'PEM', *i] - milp_gwp_79.P['HO', 'PEM', *scales.scale_iter(2)[scales.scale_iter(1).index(i) - 1]] <= ramping_limit)\n",
    "\n",
    "milp_gwp_79.cons2 = ConstraintList()\n",
    "for i in scales.scale_iter(1):\n",
    "    if i != (0,0):\n",
    "        milp_gwp_79.cons2.add(expr = milp_gwp_79.P['HO', 'SMR', *i] - milp_gwp_79.P['HO', 'SMR', *scales.scale_iter(2)[scales.scale_iter(1).index(i) - 1]] <= ramping_limit)\n",
    "\n",
    "milp_gwp_79.cons3 = ConstraintList()\n",
    "for i in scales.scale_iter(1):\n",
    "    if i != (0,0):\n",
    "        milp_gwp_79.cons3.add(expr = milp_gwp_79.P['HO', 'SMRCCS', *i] - milp_gwp_79.P['HO', 'SMRCCS', *scales.scale_iter(2)[scales.scale_iter(1).index(i) - 1]] <= ramping_limit)\n",
    "\n",
    "milp_gwp_79.cons4 = ConstraintList()\n",
    "for i in scales.scale_iter(2):\n",
    "    milp_gwp_79.cons4.add(expr = milp_gwp_79.P['HO', 'SMR', *i] >= 5)"
   ]
  },
  {
   "cell_type": "code",
   "execution_count": null,
   "metadata": {},
   "outputs": [],
   "source": [
    "results_gwp_79 = solve(scenario=scenario, instance=milp_gwp_79,\n",
    "                     solver='gurobi', name=f\"res_gwp_79\", print_solversteps=True, saveformat = '.pkl')"
   ]
  },
  {
   "cell_type": "code",
   "execution_count": null,
   "metadata": {},
   "outputs": [],
   "source": [
    "results_gwp_79.output['objective']"
   ]
  },
  {
   "cell_type": "code",
   "execution_count": null,
   "metadata": {},
   "outputs": [],
   "source": [
    "results_gwp_79.output['global_warming_potential_location']"
   ]
  },
  {
   "cell_type": "code",
   "execution_count": null,
   "metadata": {},
   "outputs": [],
   "source": [
    "results_gwp_79.output['P']"
   ]
  },
  {
   "cell_type": "code",
   "execution_count": null,
   "metadata": {},
   "outputs": [],
   "source": [
    "milp_gwp_85 = formulate(scenario=scenario, constraints={Constraints.COST, Constraints.INVENTORY, Constraints.PRODUCTION,\n",
    "                     Constraints.RESOURCE_BALANCE, Constraints.NETWORK, Constraints.DEMAND, Constraints.EMISSION}, objective=Objective.COST, demand_sign = 'eq')\n",
    "\n",
    "from energiapy.model.constraints.emission import constraint_global_warming_potential_network_reduction\n",
    "constraint_global_warming_potential_network_reduction(instance= milp_gwp_85, network_scale_level = 0, gwp_reduction_pct = 85, gwp = results_cost.output['global_warming_potential_network'][0])"
   ]
  },
  {
   "cell_type": "code",
   "execution_count": null,
   "metadata": {},
   "outputs": [],
   "source": [
    "from pyomo.environ import ConstraintList\n",
    "\n",
    "ramping_limit = 3\n",
    "\n",
    "milp_gwp_85.cons1 = ConstraintList()\n",
    "for i in scales.scale_iter(1):\n",
    "    if i != (0,0):\n",
    "        milp_gwp_85.cons1.add(expr = milp_gwp_85.P['HO', 'PEM', *i] - milp_gwp_85.P['HO', 'PEM', *scales.scale_iter(2)[scales.scale_iter(1).index(i) - 1]] <= ramping_limit)\n",
    "\n",
    "milp_gwp_85.cons2 = ConstraintList()\n",
    "for i in scales.scale_iter(1):\n",
    "    if i != (0,0):\n",
    "        milp_gwp_85.cons2.add(expr = milp_gwp_85.P['HO', 'SMR', *i] - milp_gwp_85.P['HO', 'SMR', *scales.scale_iter(2)[scales.scale_iter(1).index(i) - 1]] <= ramping_limit)\n",
    "\n",
    "milp_gwp_85.cons3 = ConstraintList()\n",
    "for i in scales.scale_iter(1):\n",
    "    if i != (0,0):\n",
    "        milp_gwp_85.cons3.add(expr = milp_gwp_85.P['HO', 'SMRCCS', *i] - milp_gwp_85.P['HO', 'SMRCCS', *scales.scale_iter(2)[scales.scale_iter(1).index(i) - 1]] <= ramping_limit)\n",
    "\n",
    "milp_gwp_85.cons4 = ConstraintList()\n",
    "for i in scales.scale_iter(2):\n",
    "    milp_gwp_85.cons4.add(expr = milp_gwp_85.P['HO', 'SMR', *i] >= 5)"
   ]
  },
  {
   "cell_type": "code",
   "execution_count": null,
   "metadata": {},
   "outputs": [],
   "source": [
    "results_gwp_85 = solve(scenario=scenario, instance=milp_gwp_85,\n",
    "                     solver='gurobi', name=f\"res_gwp_85\", print_solversteps=True, saveformat = '.pkl')"
   ]
  },
  {
   "cell_type": "code",
   "execution_count": null,
   "metadata": {},
   "outputs": [],
   "source": [
    "# data = results_gwp_85.output['P']\n",
    "# df = pd.DataFrame(data,index=[0])\n",
    "# df = df.T\n",
    "# # Export the DataFrame to an Excel file\n",
    "# df.to_excel('C:/Users/marcopdsousa/Desktop/Dataframes/mingwpprod85.xlsx', index=True)"
   ]
  },
  {
   "cell_type": "code",
   "execution_count": null,
   "metadata": {},
   "outputs": [],
   "source": [
    "results_gwp_85.output['objective']"
   ]
  },
  {
   "cell_type": "code",
   "execution_count": null,
   "metadata": {},
   "outputs": [],
   "source": [
    "results_gwp_85.output['global_warming_potential_location']"
   ]
  },
  {
   "cell_type": "code",
   "execution_count": null,
   "metadata": {},
   "outputs": [],
   "source": [
    "results_gwp_85.output['P']"
   ]
  },
  {
   "cell_type": "code",
   "execution_count": null,
   "metadata": {},
   "outputs": [],
   "source": [
    "milp_gwp_80 = formulate(scenario=scenario, constraints={Constraints.COST, Constraints.INVENTORY, Constraints.PRODUCTION,\n",
    "                     Constraints.RESOURCE_BALANCE, Constraints.NETWORK, Constraints.DEMAND, Constraints.EMISSION}, objective=Objective.COST, demand_sign = 'eq')\n",
    "\n",
    "from energiapy.model.constraints.emission import constraint_global_warming_potential_network_reduction\n",
    "constraint_global_warming_potential_network_reduction(instance= milp_gwp_80, network_scale_level = 0, gwp_reduction_pct = 80, gwp = results_cost.output['global_warming_potential_network'][0])"
   ]
  },
  {
   "cell_type": "code",
   "execution_count": null,
   "metadata": {},
   "outputs": [],
   "source": [
    "from pyomo.environ import ConstraintList\n",
    "\n",
    "ramping_limit = 3\n",
    "\n",
    "milp_gwp_80.cons1 = ConstraintList()\n",
    "for i in scales.scale_iter(1):\n",
    "    if i != (0,0):\n",
    "        milp_gwp_80.cons1.add(expr = milp_gwp_80.P['HO', 'PEM', *i] - milp_gwp_80.P['HO', 'PEM', *scales.scale_iter(2)[scales.scale_iter(1).index(i) - 1]] <= ramping_limit)\n",
    "\n",
    "milp_gwp_80.cons2 = ConstraintList()\n",
    "for i in scales.scale_iter(1):\n",
    "    if i != (0,0):\n",
    "        milp_gwp_80.cons2.add(expr = milp_gwp_80.P['HO', 'SMR', *i] - milp_gwp_80.P['HO', 'SMR', *scales.scale_iter(2)[scales.scale_iter(1).index(i) - 1]] <= ramping_limit)\n",
    "\n",
    "milp_gwp_80.cons3 = ConstraintList()\n",
    "for i in scales.scale_iter(1):\n",
    "    if i != (0,0):\n",
    "        milp_gwp_80.cons3.add(expr = milp_gwp_80.P['HO', 'SMRCCS', *i] - milp_gwp_80.P['HO', 'SMRCCS', *scales.scale_iter(2)[scales.scale_iter(1).index(i) - 1]] <= ramping_limit)\n",
    "\n",
    "milp_gwp_80.cons4 = ConstraintList()\n",
    "for i in scales.scale_iter(2):\n",
    "    milp_gwp_80.cons4.add(expr = milp_gwp_80.P['HO', 'SMR', *i] >= 5)"
   ]
  },
  {
   "cell_type": "code",
   "execution_count": null,
   "metadata": {},
   "outputs": [],
   "source": [
    "results_gwp_80 = solve(scenario=scenario, instance=milp_gwp_80,\n",
    "                     solver='gurobi', name=f\"res_gwp_80\", print_solversteps=True, saveformat = '.pkl')"
   ]
  },
  {
   "cell_type": "code",
   "execution_count": null,
   "metadata": {},
   "outputs": [],
   "source": [
    "# data = results_gwp_80.output['P']\n",
    "# df = pd.DataFrame(data,index=[0])\n",
    "# df = df.T\n",
    "# # Export the DataFrame to an Excel file\n",
    "# df.to_excel('C:/Users/marcopdsousa/Desktop/Dataframes/mingwpprod80.xlsx', index=True)"
   ]
  },
  {
   "cell_type": "code",
   "execution_count": null,
   "metadata": {},
   "outputs": [],
   "source": [
    "# data = results_gwp_80.output['global_warming_potential_resource']\n",
    "# df = pd.DataFrame(data,index=[0])\n",
    "# df = df.T\n",
    "# # Export the DataFrame to an Excel file\n",
    "# df.to_excel('C:/Users/marcopdsousa/Desktop/Dataframes/mingwp80resource_emission.xlsx', index=True)"
   ]
  },
  {
   "cell_type": "code",
   "execution_count": null,
   "metadata": {},
   "outputs": [],
   "source": [
    "results_gwp_80.output['objective']"
   ]
  },
  {
   "cell_type": "code",
   "execution_count": null,
   "metadata": {},
   "outputs": [],
   "source": [
    "results_gwp_80.output['global_warming_potential_location']"
   ]
  },
  {
   "cell_type": "code",
   "execution_count": null,
   "metadata": {},
   "outputs": [],
   "source": [
    "milp_gwp_90 = formulate(scenario=scenario, constraints={Constraints.COST, Constraints.INVENTORY, Constraints.PRODUCTION,\n",
    "                     Constraints.RESOURCE_BALANCE, Constraints.NETWORK, Constraints.DEMAND, Constraints.EMISSION}, objective=Objective.COST, demand_sign = 'eq')\n",
    "\n",
    "from energiapy.model.constraints.emission import constraint_global_warming_potential_network_reduction\n",
    "constraint_global_warming_potential_network_reduction(instance= milp_gwp_90, network_scale_level = 0, gwp_reduction_pct = 90, gwp = results_cost.output['global_warming_potential_network'][0])"
   ]
  },
  {
   "cell_type": "code",
   "execution_count": null,
   "metadata": {},
   "outputs": [],
   "source": [
    "from pyomo.environ import ConstraintList\n",
    "\n",
    "ramping_limit = 3\n",
    "\n",
    "milp_gwp_90.cons1 = ConstraintList()\n",
    "for i in scales.scale_iter(1):\n",
    "    if i != (0,0):\n",
    "        milp_gwp_90.cons1.add(expr = milp_gwp_90.P['HO', 'PEM', *i] - milp_gwp_90.P['HO', 'PEM', *scales.scale_iter(2)[scales.scale_iter(1).index(i) - 1]] <= ramping_limit)\n",
    "\n",
    "milp_gwp_90.cons2 = ConstraintList()\n",
    "for i in scales.scale_iter(1):\n",
    "    if i != (0,0):\n",
    "        milp_gwp_90.cons2.add(expr = milp_gwp_90.P['HO', 'SMR', *i] - milp_gwp_90.P['HO', 'SMR', *scales.scale_iter(2)[scales.scale_iter(1).index(i) - 1]] <= ramping_limit)\n",
    "\n",
    "milp_gwp_90.cons3 = ConstraintList()\n",
    "for i in scales.scale_iter(1):\n",
    "    if i != (0,0):\n",
    "        milp_gwp_90.cons3.add(expr = milp_gwp_90.P['HO', 'SMRCCS', *i] - milp_gwp_90.P['HO', 'SMRCCS', *scales.scale_iter(2)[scales.scale_iter(1).index(i) - 1]] <= ramping_limit)\n",
    "\n",
    "milp_gwp_90.cons4 = ConstraintList()\n",
    "for i in scales.scale_iter(2):\n",
    "    milp_gwp_90.cons4.add(expr = milp_gwp_90.P['HO', 'SMR', *i] >= 5)"
   ]
  },
  {
   "cell_type": "code",
   "execution_count": null,
   "metadata": {},
   "outputs": [],
   "source": [
    "results_gwp_90 = solve(scenario=scenario, instance=milp_gwp_90,\n",
    "                     solver='gurobi', name=f\"res_gwp_90\", print_solversteps=True, saveformat = '.pkl')"
   ]
  },
  {
   "cell_type": "code",
   "execution_count": null,
   "metadata": {},
   "outputs": [],
   "source": [
    "# data = results_gwp_90.output['P']\n",
    "# df = pd.DataFrame(data,index=[0])\n",
    "# df = df.T\n",
    "# # Export the DataFrame to an Excel file\n",
    "# df.to_excel('C:/Users/marcopdsousa/Desktop/Dataframes/mingwpprod90.xlsx', index=True)"
   ]
  },
  {
   "cell_type": "code",
   "execution_count": null,
   "metadata": {},
   "outputs": [],
   "source": [
    "# data = results_gwp_90.output['global_warming_potential_resource']\n",
    "# df = pd.DataFrame(data,index=[0])\n",
    "# df = df.T\n",
    "# # Export the DataFrame to an Excel file\n",
    "# df.to_excel('C:/Users/marcopdsousa/Desktop/Dataframes/mingwp90resource_emission.xlsx', index=True)"
   ]
  },
  {
   "cell_type": "code",
   "execution_count": null,
   "metadata": {},
   "outputs": [],
   "source": [
    "results_gwp_90.output['objective']"
   ]
  },
  {
   "cell_type": "code",
   "execution_count": null,
   "metadata": {},
   "outputs": [],
   "source": [
    "results_gwp_90.output['global_warming_potential_location']"
   ]
  },
  {
   "cell_type": "code",
   "execution_count": null,
   "metadata": {},
   "outputs": [],
   "source": [
    "results_gwp_90.output['P']"
   ]
  },
  {
   "cell_type": "code",
   "execution_count": null,
   "metadata": {},
   "outputs": [],
   "source": [
    "milp_gwp_92 = formulate(scenario=scenario, constraints={Constraints.COST, Constraints.INVENTORY, Constraints.PRODUCTION,\n",
    "                     Constraints.RESOURCE_BALANCE, Constraints.NETWORK, Constraints.DEMAND, Constraints.EMISSION}, objective=Objective.COST, demand_sign = 'eq')\n",
    "\n",
    "from energiapy.model.constraints.emission import constraint_global_warming_potential_network_reduction\n",
    "constraint_global_warming_potential_network_reduction(instance= milp_gwp_92, network_scale_level = 0, gwp_reduction_pct = 92, gwp = results_cost.output['global_warming_potential_network'][0])"
   ]
  },
  {
   "cell_type": "code",
   "execution_count": null,
   "metadata": {},
   "outputs": [],
   "source": [
    "from pyomo.environ import ConstraintList\n",
    "\n",
    "ramping_limit = 3\n",
    "\n",
    "milp_gwp_92.cons1 = ConstraintList()\n",
    "for i in scales.scale_iter(1):\n",
    "    if i != (0,0):\n",
    "        milp_gwp_92.cons1.add(expr = milp_gwp_92.P['HO', 'PEM', *i] - milp_gwp_92.P['HO', 'PEM', *scales.scale_iter(2)[scales.scale_iter(1).index(i) - 1]] <= ramping_limit)\n",
    "\n",
    "milp_gwp_92.cons2 = ConstraintList()\n",
    "for i in scales.scale_iter(1):\n",
    "    if i != (0,0):\n",
    "        milp_gwp_92.cons2.add(expr = milp_gwp_92.P['HO', 'SMR', *i] - milp_gwp_92.P['HO', 'SMR', *scales.scale_iter(2)[scales.scale_iter(1).index(i) - 1]] <= ramping_limit)\n",
    "\n",
    "milp_gwp_92.cons3 = ConstraintList()\n",
    "for i in scales.scale_iter(1):\n",
    "    if i != (0,0):\n",
    "        milp_gwp_92.cons3.add(expr = milp_gwp_92.P['HO', 'SMRCCS', *i] - milp_gwp_92.P['HO', 'SMRCCS', *scales.scale_iter(2)[scales.scale_iter(1).index(i) - 1]] <= ramping_limit)\n",
    "\n",
    "milp_gwp_92.cons4 = ConstraintList()\n",
    "for i in scales.scale_iter(2):\n",
    "    milp_gwp_92.cons4.add(expr = milp_gwp_92.P['HO', 'SMR', *i] >= 5)"
   ]
  },
  {
   "cell_type": "code",
   "execution_count": null,
   "metadata": {},
   "outputs": [],
   "source": [
    "results_gwp_92 = solve(scenario=scenario, instance=milp_gwp_92,\n",
    "                     solver='gurobi', name=f\"res_gwp_92\", print_solversteps=True, saveformat = '.pkl')"
   ]
  },
  {
   "cell_type": "code",
   "execution_count": null,
   "metadata": {},
   "outputs": [],
   "source": [
    "results_gwp_92.output['objective']"
   ]
  },
  {
   "cell_type": "code",
   "execution_count": null,
   "metadata": {},
   "outputs": [],
   "source": [
    "results_gwp_92.output['global_warming_potential_location']"
   ]
  },
  {
   "cell_type": "code",
   "execution_count": null,
   "metadata": {},
   "outputs": [],
   "source": [
    "results_gwp_92.output['P']"
   ]
  },
  {
   "cell_type": "code",
   "execution_count": null,
   "metadata": {},
   "outputs": [],
   "source": [
    "# data = results_gwp_92.output['P']\n",
    "# df = pd.DataFrame(data,index=[0])\n",
    "# df = df.T\n",
    "# # Export the DataFrame to an Excel file\n",
    "# df.to_excel('C:/Users/marcopdsousa/Desktop/Dataframes/mingwpprod92.xlsx', index=True)"
   ]
  }
 ],
 "metadata": {
  "kernelspec": {
   "display_name": "Python 3.10.5 ('ki': venv)",
   "language": "python",
   "name": "python3"
  },
  "language_info": {
   "codemirror_mode": {
    "name": "ipython",
    "version": 3
   },
   "file_extension": ".py",
   "mimetype": "text/x-python",
   "name": "python",
   "nbconvert_exporter": "python",
   "pygments_lexer": "ipython3",
   "version": "3.11.8"
  },
  "orig_nbformat": 4,
  "vscode": {
   "interpreter": {
    "hash": "a4a97498e3c1bfef05f70a75d4fcafcb7b5c9c4ed86429a4e7bee46eaa890f24"
   }
  }
 },
 "nbformat": 4,
 "nbformat_minor": 2
}
