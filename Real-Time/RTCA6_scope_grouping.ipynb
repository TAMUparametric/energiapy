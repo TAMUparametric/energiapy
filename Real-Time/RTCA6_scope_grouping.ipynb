{
 "cells": [
  {
   "attachments": {},
   "cell_type": "markdown",
   "metadata": {},
   "source": [
    "# Real-time carbon accounting and material transition for hydrogen systems"
   ]
  },
  {
   "attachments": {},
   "cell_type": "markdown",
   "metadata": {},
   "source": [
    "__author__ = \"Marco De Sousa\"\n",
    "__copyright__ = \"Copyright 2023, Multi-parametric Optimization & Control Lab\"\n",
    "__credits__ = [\"Marco De Sousa\", \"Rahul Kakodkar\", \"Efstratios N. Pistikopoulos\"]\n",
    "__license__ = \"MIT\"\n",
    "__version__ = \"1.1.0\"\n",
    "__maintainer__ = \"Marco De Sousa\"\n",
    "__email__ = \"marcopdsousa@tamu.edu\"\n",
    "__status__ = \"Production\"\n"
   ]
  },
  {
   "attachments": {},
   "cell_type": "markdown",
   "metadata": {},
   "source": [
    "## Problem Statement"
   ]
  },
  {
   "attachments": {},
   "cell_type": "markdown",
   "metadata": {},
   "source": [
    "The following case study considers three different type of solar photovoltaics, namely Monocrystalline (PV_Mo), Polycrystalline (PV_Po), and Cadmium Telluride (PV_Cd) and  Lithium-ion batteries made of either rock-based lithium (LiI_Ro) or brine-based lithium (LiI_Br).\n",
    "\n",
    "The goal is to meet a fixed demand of hydrogen on a daily scale while optimizing the production process by using forecasting techniques.\n",
    "\n",
    "It is important to note that three different hydrogen pathways can be utilized each with their respective emissions.\n",
    "\n",
    "Hypothesis: By using real-time carbon accounting, decisions and changes can be made in a more dynamic nature.\n",
    "\n",
    "Users are advised caution in terms of assigning the emissions at the appropriate levels and avoiding double account. For example, if providing the global warming potentials (GWP) for each individual material to make up a process, the GWP for processes should only consider the values for construction. Moreover, the direct emissions are considered through the resource balance constraint."
   ]
  },
  {
   "attachments": {},
   "cell_type": "markdown",
   "metadata": {},
   "source": [
    "## Nomenclature"
   ]
  },
  {
   "attachments": {},
   "cell_type": "markdown",
   "metadata": {},
   "source": [
    "\n",
    "\n",
    "*Sets*\n",
    "\n",
    "\n",
    "$\\mathcal{R}$ - set of all resources r\n",
    "\n",
    "$\\mathcal{P}$ - set of all processes p\n",
    "\n",
    "$\\mathcal{T}$ - set of temporal periods t\n",
    "\n",
    "$\\mathcal{B}$ - set of transport modes b\n",
    "\n",
    "$\\mathcal{L}$ - set of locations l\n",
    "\n",
    "$\\mathcal{M}$ - set of materials m\n",
    "\n",
    "*Subsets*\n",
    "\n",
    "\n",
    "$\\mathcal{R}^{storage}$ - set of resources that can be stored\n",
    "\n",
    "$\\mathcal{R}^{sell}$ - set of resources that can be discharged\n",
    "\n",
    "$\\mathcal{R}^{demand}$ - set of resources that meet  demand\n",
    "\n",
    "$\\mathcal{R}^{cons}$ - set of resources that can be consumed\n",
    "\n",
    "$\\mathcal{R}^{trans}$ - set of resources that can be transported\n",
    "\n",
    "$\\mathcal{P}^{uncertain}$ - set of processes with uncertain capacity\n",
    "\n",
    "$\\mathcal{T}^{net}$ - set of temporal periods t for network level decision making\n",
    "\n",
    "$\\mathcal{T}^{sch}$ - set of temporal periods t for schedule level decision making\n",
    "\n",
    "*Continuous Variables*\n",
    "\n",
    "\n",
    "$P_{l,p,t}$ - production level of p $\\in$  $\\mathcal{P}$ in time period t $\\in$ $\\mathcal{T}^{sch}$  \n",
    "\n",
    "$C_{l,r,t}$ - consumption of r $\\in$ in $\\mathcal{R}^{cons}$ time period t $\\in$ $\\mathcal{T}^{sch}$ \n",
    "\n",
    "$S_{l,r,t}$ - discharge of r $\\in$ in $\\mathcal{R}^{demand}$ time period t $\\in$ $\\mathcal{T}^{sch}$ \n",
    "\n",
    "$Inv_{l,r,t}$ - inventory level of r $\\in$ $\\mathcal{R}^{storage}$  in time period t $\\in$ $\\mathcal{T}^{sch}$\n",
    "\n",
    "$Cap^S_{l,r,t}$ - installed inventory capacity for resource r $\\in$  $\\mathcal{R}^{storage}$ in time period t $\\in$ $\\mathcal{T}^{net}$\n",
    "\n",
    "$Cap^P_{l,p,t}$ - installed production capacity for process p $\\in$ $\\mathcal{P}$ in time period t $\\in$ $\\mathcal{T}^{net}$\n",
    "\n",
    "$Mat^P_{l,p,m,t}$ - material m $\\in$ $\\mathcal{M}$ used by process p $\\in$ $\\mathcal{P}$ in time period t $\\in$ $\\mathcal{T}^{net}$\n",
    "\n",
    "$Em^{p/r/m}_{l,p/r/m,t}$ - emission from process/resource/material in time t $\\in$ $\\mathcal{T}^{net}$\n",
    "\n",
    "\n",
    "*Binary Variables*\n",
    "\n",
    "$X^P_{l,p,t}$ - network binary for production process p $\\in$ $\\mathcal{P}$\n",
    "\n",
    "$X^S_{l,r,t}$ - network binary for inventory of resource r $\\in$  $\\mathcal{R}^{storage}$ \n",
    "\n",
    "*Parameters*\n",
    "\n",
    "$Cap^{P-max}_{l,p,t}$ - maximum production capacity of process p $\\in$ $\\mathcal{P}$ in time t $\\in$ $\\mathcal{T}^{net}$\n",
    "\n",
    "$Cap^{S-max}_{l,r,t}$ - maximum inventory capacity for process r $\\in$ $\\mathcal{R}^{storage}$ in time t $\\in$ $\\mathcal{T}^{net}$\n",
    "\n",
    "$Capex_{l,p,t}$ - capital expenditure for process p $\\in$ $\\mathcal{P}$ in time t $\\in$ $\\mathcal{T}^{net}$\n",
    "\n",
    "$Vopex_{l,p,t}$ - variable operational expenditure for process p $\\in$ $\\mathcal{P}$ in time t $\\in$ $\\mathcal{T}^{sch}$\n",
    "\n",
    "$Price_{l,r,t}$ - purchase price for resource r $\\in$ $\\mathcal{R}^{cons}$ in time t $\\in$ $\\mathcal{T}^{sch}$\n",
    "\n",
    "$C^{max}_{l,r,t}$ - maximum consumption availability for resource r $\\in$ $\\mathcal{R}^{cons}$ in time t $\\in$ $\\mathcal{T}^{sch}$\n",
    "\n",
    "$D_{l,r,t}$ - demand for resource r $in$ $\\mathcal{R}^{sell}$ in time t $\\in$ $\\mathcal{T}^{sch}$\n",
    "\n",
    "$\\alpha$ - annualization factor\n",
    "\n",
    "$Mat^{cons}_{p,m}$ - material m $\\in$ $\\mathcal{M}$ consumed by process p $\\in$ $\\mathcal{P}$\n",
    "\n",
    "$GWP^{p/r/m}_{l,p/r/m,t}$ - global warming indicators for process/resource/material in time t $\\in$ $\\mathcal{T}^{net}$\n"
   ]
  },
  {
   "attachments": {},
   "cell_type": "markdown",
   "metadata": {},
   "source": [
    "## MILP Formulation"
   ]
  },
  {
   "attachments": {},
   "cell_type": "markdown",
   "metadata": {},
   "source": [
    "Given is a mulit-scale modeling and optimization MILP framework for the simultaneous design and schedule planning of a single location energy system \n",
    "\n",
    "\\begin{equation}\n",
    "min \\sum_{l \\in \\mathcal{L}} \\Big(\\sum_{t \\in \\mathcal{T}^{net}} \\sum_{p \\in \\mathcal{P}} (\\alpha \\times Capex_{l,p,t} + Fopex_{l,p,t}) \\times Cap^P_{l,p,t} +  \\sum_{t \\in \\mathcal{T}^{sch}} \\sum_{r \\in \\mathcal{R}}  Vopex_{l,r,t} \\times P_{l,r,t} \n",
    "\\end{equation}\n",
    "\n",
    "\\begin{equation*}\n",
    "+ \\sum_{t \\in \\mathcal{T}^{sch}} \\sum_{r \\in \\mathcal{R}^{cons}} C_{l,r,t} \\times Price_{l,r,t} \\Big)\n",
    "\\end{equation*}\n",
    "\n",
    "\\begin{equation}\n",
    "Cap^S_{l,r,t} \\leq Cap^{S-max}_{l,r,t} \\times X^S_{l,r,t} \\hspace{1cm} \\forall r \\in \\mathcal{R}^{storage}, t \\in \\mathcal{T}^{net}\n",
    "\\end{equation}\n",
    "\n",
    "\\begin{equation}\n",
    "Cap^P_{l,p,t} \\leq Cap^{P-max}_{l,p,t} \\times X^P_{l,p,t}  \\hspace{1cm} \\forall p \\in \\mathcal{P}, t \\in \\mathcal{T}^{net}, l \\in \\mathcal{L}\n",
    "\\end{equation} \n",
    "\n",
    "\\begin{equation}\n",
    "P_{l,p,t} \\leq Cap^{P}_{l,p,t}  \\hspace{1cm} \\forall p \\in \\mathcal{P}, t \\in \\mathcal{T}^{sch}\n",
    "\\end{equation} \n",
    "\n",
    "\\begin{equation}\n",
    "Inv_{l,r,t} \\leq Cap^{S}_{l,r,t}  \\hspace{1cm} \\forall r \\in \\mathcal{R}^{storage}, t \\in \\mathcal{T}^{sch}\n",
    "\\end{equation} \n",
    "\n",
    "\n",
    "\\begin{equation}\n",
    "- S_{l,r,t} \\leq - D_{l,r,t}  \\hspace{1cm} \\forall r \\in \\mathcal{R}, t \\in \\mathcal{T}^{sch}\n",
    "\\end{equation}\n",
    "\n",
    "\\begin{equation}\n",
    "C_{l,r,t} \\leq C^{max}_{l,r,t} \\hspace{1cm} \\forall r \\in \\mathcal{R}, t \\in \\mathcal{T}^{sch}\n",
    "\\end{equation}\n",
    "\n",
    "\\begin{equation}\n",
    "\\sum_{p \\in \\mathcal{P}} P_{l,p,t} \\times \\eta(p,r) + C_{l,r,t} +  Inv_{l,r,t-1}=  Inv_{l,r,t} + S_{l,r,t}  \n",
    "\\end{equation}\n",
    "\n",
    "\\begin{equation*}\n",
    "\\forall r \\in \\mathcal{R}^{cons}, t \\in \\mathcal{T}^{sch}, l \\in \\mathcal{L}\n",
    "\\end{equation*}\n",
    "\n",
    "\\begin{equation}\n",
    "Mat_{l,p,m,t} = Mat^{cons}_{p,m} \\times Cap^P_{l,p,t} \\hspace{1cm} \\forall m \\in \\mathcal{M}, p \\in \\mathcal{P}, t \\in \\mathcal{T}^{net}\n",
    "\\end{equation}\n",
    "\n",
    "\\begin{equation}\n",
    "Em^{r}_{l,r,t} = GWP^{r}_{l,r,t} \\times C_{l,r,t} \\hspace{1cm} \\forall r \\in \\mathcal{R}, t \\in \\mathcal{T}^{sch}\n",
    "\\end{equation}\n",
    "\n",
    "\\begin{equation}\n",
    "Em^{m}_{l,m,t} = GWP^{m}_{l,m,t} \\times \\sum_{p \\in \\mathcal{P}} Mat_{l,p,m,t} \\hspace{1cm} \\forall p \\in \\mathcal{P}, t \\in \\mathcal{T}^{net}\n",
    "\\end{equation}\n",
    "\n",
    "\\begin{equation}\n",
    "Em^{p}_{l,p,t} = GWP^{p}_{l,p,t} \\times Cap_{l,p,t} \\hspace{1cm} \\forall p \\in \\mathcal{P}, t \\in \\mathcal{T}^{net}\n",
    "\\end{equation}\n",
    "\n",
    "\\begin{equation}\n",
    "S_{l,r,t}, C_{l,r,t}, Inv_{l,r,t}, P_{l,p,t}, Cap^P_{l,p,t}, Cap^S_{l,r,t}, Mat_{l,p,m,t}, Em^{p/r/m}_{l,p/r/m,t} \\in R_{\\geq 0}\n",
    "\\end{equation}\n",
    "\n"
   ]
  },
  {
   "attachments": {},
   "cell_type": "markdown",
   "metadata": {},
   "source": [
    "## Import Modules"
   ]
  },
  {
   "cell_type": "code",
   "execution_count": 38,
   "metadata": {},
   "outputs": [],
   "source": [
    "import sys\n",
    "sys.path.append('../src')"
   ]
  },
  {
   "cell_type": "code",
   "execution_count": 39,
   "metadata": {},
   "outputs": [],
   "source": [
    "import pandas as pd\n",
    "import numpy\n",
    "from energiapy.components.temporal_scale import TemporalScale\n",
    "from energiapy.components.resource import Resource, VaryingResource, Scope\n",
    "from energiapy.components.process import Process, VaryingProcess\n",
    "from energiapy.components.material import Material\n",
    "from energiapy.components.location import Location\n",
    "from energiapy.components.network import Network\n",
    "from energiapy.components.scenario import Scenario\n",
    "from energiapy.components.transport import Transport\n",
    "from energiapy.model.formulate import formulate, Constraints, Objective\n",
    "from energiapy.utils.nsrdb_utils import fetch_nsrdb_data\n",
    "from energiapy.plot import plot_results, plot_scenario\n",
    "from energiapy.plot.plot_results import CostY, CostX\n",
    "from energiapy.model.solve import solve\n",
    "from itertools import product\n",
    "from energiapy.components.result import Result\n",
    "from itertools import product\n",
    "from matplotlib import rc\n",
    "import matplotlib.pyplot as plt\n",
    "from energiapy.model.solve import solve\n",
    "from energiapy.plot.plot_results import CostY, CostX\n",
    "from energiapy.components.location import Location\n",
    "from energiapy.plot import plot_results, plot_scenario\n",
    "from energiapy.utils.nsrdb_utils import fetch_nsrdb_data\n",
    "from energiapy.model.formulate import formulate, Constraints, Objective\n",
    "from energiapy.model.bounds import CapacityBounds\n",
    "from energiapy.utils.data_utils import get_data, make_henry_price_df, remove_outliers, load_results\n",
    "from energiapy.conversion.photovoltaic import solar_power_output\n",
    "from energiapy.conversion.windmill import wind_power_output\n",
    "from energiapy.model.constraints.integer_cuts import constraint_block_integer_cut, constraint_block_integer_cut_min"
   ]
  },
  {
   "attachments": {},
   "cell_type": "markdown",
   "metadata": {},
   "source": [
    "## Data Import"
   ]
  },
  {
   "cell_type": "code",
   "execution_count": 40,
   "metadata": {},
   "outputs": [],
   "source": [
    "horizon = 1"
   ]
  },
  {
   "attachments": {},
   "cell_type": "markdown",
   "metadata": {},
   "source": [
    "The following data is needed for the model\n",
    "\n",
    "- Daily demands of hydrogen.\n",
    "- The capacity factor of renewable energy sources and traditional grid power.\n"
   ]
  },
  {
   "attachments": {},
   "cell_type": "markdown",
   "metadata": {},
   "source": [
    "**Declare temporal scale**\n",
    "\n",
    "The variabilities of energy systems are best captured over a discretized spatio-temporal scale. In energiapy, the first declaration is the temporal scale. \n",
    "\n",
    "For e.g.: Here we declare three temporal scales at different levels from right to left. The interpretation of these scales is merely symentic. Scales can be declared as the problem demands.\n",
    "- 0, annual, with 1 discretization\n",
    "- 1, daily with 365 discretization\n",
    "- 2, hourly with 24 discretization\n",
    "\n",
    "In essence, we are creating a temporal scale of 8760 points.\n",
    "\n"
   ]
  },
  {
   "cell_type": "code",
   "execution_count": 41,
   "metadata": {},
   "outputs": [],
   "source": [
    "scales = TemporalScale(discretization_list=[1, 24])"
   ]
  },
  {
   "attachments": {},
   "cell_type": "markdown",
   "metadata": {},
   "source": [
    "## Declare resources"
   ]
  },
  {
   "attachments": {},
   "cell_type": "markdown",
   "metadata": {},
   "source": [
    "Resources can be consumed, produced, stored, discharged (or sold).\n",
    "\n",
    "Power demand follows a varying deterministic demand"
   ]
  },
  {
   "cell_type": "code",
   "execution_count": 42,
   "metadata": {},
   "outputs": [],
   "source": [
    "bigM = 10**4\n",
    "smallM = 0.001"
   ]
  },
  {
   "cell_type": "markdown",
   "metadata": {},
   "source": [
    "Hourly electricity prices"
   ]
  },
  {
   "cell_type": "code",
   "execution_count": 43,
   "metadata": {},
   "outputs": [],
   "source": [
    "#Electricity price is hourly\n",
    "#Electricity price is hourly\n",
    "elec_price_df = pd.read_csv('ERCOT_price.csv')\n",
    "elec_price_df = elec_price_df[elec_price_df['BusName'] == 'FORMOSA_G8']\n",
    "elec_price_df = elec_price_df[['LMP']].reset_index(drop = True)"
   ]
  },
  {
   "cell_type": "code",
   "execution_count": 44,
   "metadata": {},
   "outputs": [],
   "source": [
    "#elec_price_df"
   ]
  },
  {
   "cell_type": "markdown",
   "metadata": {},
   "source": [
    "Hourly Natural Gas Prices"
   ]
  },
  {
   "cell_type": "code",
   "execution_count": 45,
   "metadata": {},
   "outputs": [],
   "source": [
    "#The natural gas price is calculated as the average between the high and low cost, also the unit used is $/kg of natural gas\n",
    "NG_price_df = pd.read_csv('Naturalgas_price_hourly.csv')\n",
    "NG_price_df = pd.DataFrame(NG_price_df['USD/kg'])[::-1].reset_index()\n",
    "NG_price_df = NG_price_df[['USD/kg']]\n",
    "#NG_price_df"
   ]
  },
  {
   "cell_type": "code",
   "execution_count": 46,
   "metadata": {},
   "outputs": [
    {
     "name": "stderr",
     "output_type": "stream",
     "text": [
      "C:\\Users\\marcopdsousa\\AppData\\Local\\Temp\\ipykernel_9676\\1055063789.py:2: FutureWarning: Series.__getitem__ treating keys as positions is deprecated. In a future version, integer keys will always be treated as labels (consistent with DataFrame behavior). To access a value by position, use `ser.iloc[pos]`\n",
      "  elec_price = elec_price_df.max()[0]\n",
      "C:\\Users\\marcopdsousa\\AppData\\Local\\Temp\\ipykernel_9676\\1055063789.py:3: FutureWarning: Series.__getitem__ treating keys as positions is deprecated. In a future version, integer keys will always be treated as labels (consistent with DataFrame behavior). To access a value by position, use `ser.iloc[pos]`\n",
      "  NG_price = NG_price_df.max()[0]\n"
     ]
    }
   ],
   "source": [
    "#Gives relevancy to price values again\n",
    "elec_price = elec_price_df.max()[0]\n",
    "NG_price = NG_price_df.max()[0]"
   ]
  },
  {
   "cell_type": "markdown",
   "metadata": {},
   "source": [
    "Hourly Wind availability"
   ]
  },
  {
   "cell_type": "code",
   "execution_count": 47,
   "metadata": {},
   "outputs": [],
   "source": [
    "Wind_df = pd.read_csv('Wind2424.csv')\n",
    "Wind_df = Wind_df[['ACTUAL_SYSTEM_WIDE']]\n",
    "Wind_df = Wind_df[:24]\n",
    "#Wind_df"
   ]
  },
  {
   "cell_type": "markdown",
   "metadata": {},
   "source": [
    "Hourly Solar availability"
   ]
  },
  {
   "cell_type": "code",
   "execution_count": 48,
   "metadata": {},
   "outputs": [],
   "source": [
    "Solar_df = pd.read_csv('Solar2424.csv')\n",
    "Solar_df = Solar_df[['PVGRPP_SYSTEM_WIDE']]\n",
    "Solar_df = Solar_df[:24]\n",
    "#Solar_df"
   ]
  },
  {
   "cell_type": "code",
   "execution_count": 49,
   "metadata": {},
   "outputs": [],
   "source": [
    "Solar = Resource(name='Solar', cons_max=bigM, basis='MW', label='Solar Power', price= 50, gwp=0)\n",
    "\n",
    "Wind = Resource(name='Wind', cons_max=bigM, basis='MW', label='Wind Power', price= 100, gwp=0)\n",
    "\n",
    "Power = Resource(name='Power', basis='MW',\n",
    "                 label='Power generated')\n",
    "\n",
    "GridPower = Resource(name='GridPower', basis='MW',\n",
    "                     cons_max=bigM, label='Power bought', price = 20, gwp=100, scope = Scope.ONE)\n",
    "\n",
    "#The following are components of natural gas\n",
    "\n",
    "CO2 = Resource(name='CO2', basis='kg/hr',\n",
    "               label='Carbon dioxide', block='Resource')\n",
    "\n",
    "CO2_Stack = Resource(name='CO2 to Stack', basis='kg/hr', sell=True,\n",
    "               label='Carbon dioxide to Stack', block='Resource', gwp = 1, scope = Scope.ONE)\n",
    "\n",
    "#Important: Natural gas consists over different components\n",
    "\n",
    "NG = Resource(name='Natural Gas', basis='kg/hr',\n",
    "                     cons_max=bigM, label='Natural Gas', price = 10, gwp = 20, scope = Scope.ONE)\n",
    "\n",
    "\n",
    "# Hydrogen is what I want to sell/satisfy a specific demand for\n",
    "\n",
    "H2 = Resource(name='Hydrogen', basis='kg/hr', label='Hydrogen', block='Resource')\n",
    "\n",
    "H2Pure = Resource(name='Pure Hydrogen', demand = True, basis='kg/hr', label='Pure Hydrogen', block='Resource')\n",
    "\n",
    "# Water is required for the electrolysis process\n",
    "\n",
    "H2O = Resource(name='H2O',\n",
    "               basis='kg/hr', cons_max=bigM, label='Water', price=0.002,  block='Resource', gwp = 200, scope=Scope.TWO)\n",
    "\n",
    "#Industrial water price is 0.002 USD/kg of water\n",
    "\n",
    "# Air components\n"
   ]
  },
  {
   "attachments": {},
   "cell_type": "markdown",
   "metadata": {},
   "source": [
    "## Declare Materials"
   ]
  },
  {
   "attachments": {},
   "cell_type": "markdown",
   "metadata": {},
   "source": [
    "Materials are utilized for the establishment of processes. Materials inturn require resources to be set up. "
   ]
  },
  {
   "cell_type": "code",
   "execution_count": 50,
   "metadata": {},
   "outputs": [
    {
     "data": {
      "text/plain": [
       "'Do I understand it correctly that I will have no material modes'"
      ]
     },
     "execution_count": 50,
     "metadata": {},
     "output_type": "execute_result"
    }
   ],
   "source": [
    "'''Do I understand it correctly that I will have no material modes'''"
   ]
  },
  {
   "attachments": {},
   "cell_type": "markdown",
   "metadata": {},
   "source": [
    "## Declare Processes"
   ]
  },
  {
   "cell_type": "code",
   "execution_count": 51,
   "metadata": {},
   "outputs": [],
   "source": [
    "'''Purchasing electricity from a traditional power production system'''\n",
    "\n",
    "Grid = Process(name='Grid', conversion={GridPower: -1, Power: 1},prod_min=smallM, prod_max=100, label='Grid', basis='MW')\n",
    "\n",
    "PV = Process(name='PV', conversion={Solar: -1, Power: 1},\n",
    "             prod_max=100, prod_min=0, label='Solar PV', basis='MW')\n",
    "\n",
    "WF = Process(name='WF', conversion={Wind: -1, Power: 1},\n",
    "             prod_max=100, prod_min=0, label='Wind mill array', basis='MW')\n",
    "\n",
    "\n",
    "SMR = Process(name='SMR', conversion={Power: -1, NG: -1, \n",
    "                                            H2Pure: 1, CO2_Stack: 5}, capex=0.0001,\n",
    "               vopex=1.2, fopex=0.001, prod_min=smallM, prod_max=200, label='SMR', basis='kg/hr')\n",
    "\n",
    "\n",
    "SMRCCS = Process(name='SMRCCS', conversion={Power: -1, NG: -1, CO2_Stack: 0.4685, H2Pure: 1}, capex=0.0001,\n",
    "                vopex=2, fopex=0.001, prod_min=smallM, prod_max=bigM, label='SMRCCS', basis='kg/hr')\n",
    "\n",
    "PEM = Process(name='PEM', conversion={Power: -3, H2O: -5, H2Pure: 1}, capex=0.0001,\n",
    "               vopex=4.668, fopex=0.001, prod_min=smallM, prod_max=bigM, label='PEM', basis='kg/hr')\n"
   ]
  },
  {
   "attachments": {},
   "cell_type": "markdown",
   "metadata": {},
   "source": [
    "## Declare Location"
   ]
  },
  {
   "cell_type": "code",
   "execution_count": null,
   "metadata": {},
   "outputs": [],
   "source": []
  },
  {
   "cell_type": "code",
   "execution_count": 52,
   "metadata": {},
   "outputs": [],
   "source": [
    "process_set = {Grid, PV, WF, SMR, SMRCCS, PEM}#, SMRCCS, PEM} #Grid,"
   ]
  },
  {
   "cell_type": "code",
   "execution_count": 53,
   "metadata": {},
   "outputs": [],
   "source": [
    "houston = Location(name='HO', processes=process_set, scales=scales, label='Houston', expenditure_scale_level=0, demand_scale_level=0, price_scale_level=1, capacity_scale_level=1)\n"
   ]
  },
  {
   "attachments": {},
   "cell_type": "markdown",
   "metadata": {},
   "source": [
    "## Declare Scenario"
   ]
  },
  {
   "cell_type": "code",
   "execution_count": 54,
   "metadata": {},
   "outputs": [],
   "source": [
    "\n",
    "scenario = Scenario(name='scenario_full', network=houston, scales=scales,  expenditure_scale_level=0, demand_scale_level=0, \n",
    "                    purchase_scale_level = 1, scheduling_scale_level=1, network_scale_level=0, capacity_scale_level=1,\n",
    "                    label='full_case', demand={houston: { H2Pure: 500}})"
   ]
  },
  {
   "cell_type": "code",
   "execution_count": 55,
   "metadata": {},
   "outputs": [
    {
     "data": {
      "text/plain": [
       "['H2O']"
      ]
     },
     "execution_count": 55,
     "metadata": {},
     "output_type": "execute_result"
    }
   ],
   "source": [
    "scenario.set_dict['resources_purch_scope2']"
   ]
  },
  {
   "attachments": {},
   "cell_type": "markdown",
   "metadata": {},
   "source": [
    "## Formulate MILP"
   ]
  },
  {
   "attachments": {},
   "cell_type": "markdown",
   "metadata": {},
   "source": [
    "Here we formulate two milps which differ only in their objectives.\n",
    "\n",
    "For maximizing the discharge of a particular resource, use the objective MAX_DISCHARGE, the objective resource also needs to be specified.\n",
    "\n",
    "Similarly the discharge can also be minimized using MIN_DISCHARGE. This can be used with a demand for another resource being set. For example, minimizing the discharge of carbon dioxide while meeting a hydrogen demand.\n",
    "\n",
    "The second MILP, minimized the cost while meeting a varying demand for power"
   ]
  },
  {
   "cell_type": "code",
   "execution_count": 56,
   "metadata": {},
   "outputs": [
    {
     "name": "stdout",
     "output_type": "stream",
     "text": [
      "constraint process capex\n",
      "constraint process fopex\n",
      "constraint process vopex\n",
      "constraint process incidental\n",
      "constraint storage cost\n",
      "constraint storage cost location\n",
      "constraint storage cost network\n",
      "constraint global warming potential process scope1\n",
      "constraint global warming potential resource scope1\n",
      "constraint global warming potential resource consumption scope1\n",
      "constraint global warming potential resource discharge scope1\n",
      "constraint global warming potential location scope1\n",
      "constraint global warming potential network scope1\n",
      "constraint production mode\n",
      "constraint inventory balance\n",
      "constraint inventory network\n",
      "constraint storage facility\n",
      "constraint production facility\n",
      "constraint min production facility\n",
      "constraint min storage facility\n",
      "constraint demand\n",
      "constraint network cost\n",
      "objective gwp scope1 min\n"
     ]
    }
   ],
   "source": [
    "#, Constraints.MODE\n",
    "\n",
    "milp_scope1 = formulate(scenario=scenario, constraints={Constraints.COST, Constraints.INVENTORY, Constraints.PRODUCTION,\n",
    "                      Constraints.RESOURCE_BALANCE, Constraints.NETWORK, Constraints.DEMAND, Constraints.SCOPEONE}, objective=Objective.MIN_ScopeONE_GWP, demand_sign = 'eq')\n",
    "\n",
    "#, Constraints.SCOPEONE\n",
    "\n",
    "#, Constraints.EMISSION"
   ]
  },
  {
   "cell_type": "code",
   "execution_count": 57,
   "metadata": {},
   "outputs": [],
   "source": [
    "# # model.component\n",
    "\n",
    "# from pyomo.environ import ConstraintList\n",
    "# milp_scope1.cons1 = ConstraintList()\n",
    "# for i in scales.scale_iter(2):\n",
    "#     milp_scope1.cons1.add(expr = milp_scope1.P['HO', 'SMR', *i] >= 5)"
   ]
  },
  {
   "cell_type": "code",
   "execution_count": 58,
   "metadata": {},
   "outputs": [],
   "source": [
    "# # model.component\n",
    "\n",
    "# from pyomo.environ import ConstraintList\n",
    "\n",
    "# ramping_limit = 3\n",
    "\n",
    "# milp_cost.cons2 = ConstraintList()\n",
    "# for i in scales.scale_iter(1):\n",
    "#     if i != (0,0):\n",
    "#         milp_cost.cons2.add(expr = milp_cost.P['HO', 'SMR', *i] - milp_cost.P['HO', 'SMR', *scales.scale_iter(2)[scales.scale_iter(1).index(i) - 1]] <= ramping_limit)\n"
   ]
  },
  {
   "attachments": {},
   "cell_type": "markdown",
   "metadata": {},
   "source": [
    "## Optimize to minimize cost"
   ]
  },
  {
   "cell_type": "code",
   "execution_count": 59,
   "metadata": {},
   "outputs": [
    {
     "name": "stdout",
     "output_type": "stream",
     "text": [
      "Set parameter QCPDual to value 1\n",
      "Gurobi Optimizer version 11.0.1 build v11.0.1rc0 (win64 - Windows 11.0 (22631.2))\n",
      "\n",
      "CPU model: 13th Gen Intel(R) Core(TM) i7-13700, instruction set [SSE2|AVX|AVX2]\n",
      "Thread count: 16 physical cores, 24 logical processors, using up to 24 threads\n",
      "\n",
      "Optimize a model with 829 rows, 935 columns and 2178 nonzeros\n",
      "Model fingerprint: 0xd8271120\n",
      "Variable types: 929 continuous, 6 integer (6 binary)\n",
      "Coefficient statistics:\n",
      "  Matrix range     [1e-04, 1e+04]\n",
      "  Objective range  [1e+00, 1e+00]\n",
      "  Bounds range     [1e+00, 1e+00]\n",
      "  RHS range        [1e+02, 1e+04]\n",
      "Presolve removed 826 rows and 927 columns\n",
      "Presolve time: 0.00s\n",
      "Presolved: 3 rows, 8 columns, 12 nonzeros\n",
      "Variable types: 8 continuous, 0 integer (0 binary)\n",
      "\n",
      "Root relaxation: objective 0.000000e+00, 0 iterations, 0.00 seconds (0.00 work units)\n",
      "\n",
      "    Nodes    |    Current Node    |     Objective Bounds      |     Work\n",
      " Expl Unexpl |  Obj  Depth IntInf | Incumbent    BestBd   Gap | It/Node Time\n",
      "\n",
      "*    0     0               0       0.0000000    0.00000  0.00%     -    0s\n",
      "\n",
      "Explored 1 nodes (0 simplex iterations) in 0.00 seconds (0.00 work units)\n",
      "Thread count was 24 (of 24 available processors)\n",
      "\n",
      "Solution count 1: 0 \n",
      "\n",
      "Optimal solution found (tolerance 1.00e-04)\n",
      "Best objective 0.000000000000e+00, best bound 0.000000000000e+00, gap 0.0000%\n",
      "WARNING: Cannot get duals for MIP.\n"
     ]
    }
   ],
   "source": [
    "results_scope1 = solve(scenario=scenario, instance=milp_scope1,\n",
    "                     solver='gurobi', name=f\"res_scope1\", print_solversteps=True, saveformat = '.pkl')\n"
   ]
  },
  {
   "cell_type": "code",
   "execution_count": 60,
   "metadata": {},
   "outputs": [
    {
     "data": {
      "text/plain": [
       "{('Grid', 0): 0.0,\n",
       " ('PEM', 0): 500.0,\n",
       " ('PV', 0): 0.0,\n",
       " ('SMR', 0): 0.0,\n",
       " ('SMRCCS', 0): 0.0,\n",
       " ('WF', 0): 1500.0}"
      ]
     },
     "execution_count": 60,
     "metadata": {},
     "output_type": "execute_result"
    }
   ],
   "source": [
    "results_scope1.output['P_network']"
   ]
  },
  {
   "cell_type": "code",
   "execution_count": 61,
   "metadata": {},
   "outputs": [
    {
     "data": {
      "text/plain": [
       "{('HO', 'Grid', 0, 0): 0.0,\n",
       " ('HO', 'Grid', 0, 1): 0.0,\n",
       " ('HO', 'Grid', 0, 2): 0.0,\n",
       " ('HO', 'Grid', 0, 3): 0.0,\n",
       " ('HO', 'Grid', 0, 4): 0.0,\n",
       " ('HO', 'Grid', 0, 5): 0.0,\n",
       " ('HO', 'Grid', 0, 6): 0.0,\n",
       " ('HO', 'Grid', 0, 7): 0.0,\n",
       " ('HO', 'Grid', 0, 8): 0.0,\n",
       " ('HO', 'Grid', 0, 9): 0.0,\n",
       " ('HO', 'Grid', 0, 10): 0.0,\n",
       " ('HO', 'Grid', 0, 11): 0.0,\n",
       " ('HO', 'Grid', 0, 12): 0.0,\n",
       " ('HO', 'Grid', 0, 13): 0.0,\n",
       " ('HO', 'Grid', 0, 14): 0.0,\n",
       " ('HO', 'Grid', 0, 15): 0.0,\n",
       " ('HO', 'Grid', 0, 16): 0.0,\n",
       " ('HO', 'Grid', 0, 17): 0.0,\n",
       " ('HO', 'Grid', 0, 18): 0.0,\n",
       " ('HO', 'Grid', 0, 19): 0.0,\n",
       " ('HO', 'Grid', 0, 20): 0.0,\n",
       " ('HO', 'Grid', 0, 21): 0.0,\n",
       " ('HO', 'Grid', 0, 22): 0.0,\n",
       " ('HO', 'Grid', 0, 23): 0.0,\n",
       " ('HO', 'PEM', 0, 0): 0.0,\n",
       " ('HO', 'PEM', 0, 1): 31.25,\n",
       " ('HO', 'PEM', 0, 2): 0.0,\n",
       " ('HO', 'PEM', 0, 3): 31.25,\n",
       " ('HO', 'PEM', 0, 4): 31.25,\n",
       " ('HO', 'PEM', 0, 5): 31.25,\n",
       " ('HO', 'PEM', 0, 6): 31.25,\n",
       " ('HO', 'PEM', 0, 7): 0.0,\n",
       " ('HO', 'PEM', 0, 8): 31.25,\n",
       " ('HO', 'PEM', 0, 9): 31.25,\n",
       " ('HO', 'PEM', 0, 10): 0.0,\n",
       " ('HO', 'PEM', 0, 11): 31.25,\n",
       " ('HO', 'PEM', 0, 12): 0.0,\n",
       " ('HO', 'PEM', 0, 13): 31.25,\n",
       " ('HO', 'PEM', 0, 14): 0.0,\n",
       " ('HO', 'PEM', 0, 15): 0.0,\n",
       " ('HO', 'PEM', 0, 16): 31.25,\n",
       " ('HO', 'PEM', 0, 17): 31.25,\n",
       " ('HO', 'PEM', 0, 18): 31.25,\n",
       " ('HO', 'PEM', 0, 19): 31.25,\n",
       " ('HO', 'PEM', 0, 20): 0.0,\n",
       " ('HO', 'PEM', 0, 21): 31.25,\n",
       " ('HO', 'PEM', 0, 22): 31.25,\n",
       " ('HO', 'PEM', 0, 23): 31.25,\n",
       " ('HO', 'PV', 0, 0): 0.0,\n",
       " ('HO', 'PV', 0, 1): 0.0,\n",
       " ('HO', 'PV', 0, 2): 0.0,\n",
       " ('HO', 'PV', 0, 3): 0.0,\n",
       " ('HO', 'PV', 0, 4): 0.0,\n",
       " ('HO', 'PV', 0, 5): 0.0,\n",
       " ('HO', 'PV', 0, 6): 0.0,\n",
       " ('HO', 'PV', 0, 7): 0.0,\n",
       " ('HO', 'PV', 0, 8): 0.0,\n",
       " ('HO', 'PV', 0, 9): 0.0,\n",
       " ('HO', 'PV', 0, 10): 0.0,\n",
       " ('HO', 'PV', 0, 11): 0.0,\n",
       " ('HO', 'PV', 0, 12): 0.0,\n",
       " ('HO', 'PV', 0, 13): 0.0,\n",
       " ('HO', 'PV', 0, 14): 0.0,\n",
       " ('HO', 'PV', 0, 15): 0.0,\n",
       " ('HO', 'PV', 0, 16): 0.0,\n",
       " ('HO', 'PV', 0, 17): 0.0,\n",
       " ('HO', 'PV', 0, 18): 0.0,\n",
       " ('HO', 'PV', 0, 19): 0.0,\n",
       " ('HO', 'PV', 0, 20): 0.0,\n",
       " ('HO', 'PV', 0, 21): 0.0,\n",
       " ('HO', 'PV', 0, 22): 0.0,\n",
       " ('HO', 'PV', 0, 23): 0.0,\n",
       " ('HO', 'SMR', 0, 0): 0.0,\n",
       " ('HO', 'SMR', 0, 1): 0.0,\n",
       " ('HO', 'SMR', 0, 2): 0.0,\n",
       " ('HO', 'SMR', 0, 3): 0.0,\n",
       " ('HO', 'SMR', 0, 4): 0.0,\n",
       " ('HO', 'SMR', 0, 5): 0.0,\n",
       " ('HO', 'SMR', 0, 6): 0.0,\n",
       " ('HO', 'SMR', 0, 7): 0.0,\n",
       " ('HO', 'SMR', 0, 8): 0.0,\n",
       " ('HO', 'SMR', 0, 9): 0.0,\n",
       " ('HO', 'SMR', 0, 10): 0.0,\n",
       " ('HO', 'SMR', 0, 11): 0.0,\n",
       " ('HO', 'SMR', 0, 12): 0.0,\n",
       " ('HO', 'SMR', 0, 13): 0.0,\n",
       " ('HO', 'SMR', 0, 14): 0.0,\n",
       " ('HO', 'SMR', 0, 15): 0.0,\n",
       " ('HO', 'SMR', 0, 16): 0.0,\n",
       " ('HO', 'SMR', 0, 17): 0.0,\n",
       " ('HO', 'SMR', 0, 18): 0.0,\n",
       " ('HO', 'SMR', 0, 19): 0.0,\n",
       " ('HO', 'SMR', 0, 20): 0.0,\n",
       " ('HO', 'SMR', 0, 21): 0.0,\n",
       " ('HO', 'SMR', 0, 22): 0.0,\n",
       " ('HO', 'SMR', 0, 23): 0.0,\n",
       " ('HO', 'SMRCCS', 0, 0): 0.0,\n",
       " ('HO', 'SMRCCS', 0, 1): 0.0,\n",
       " ('HO', 'SMRCCS', 0, 2): 0.0,\n",
       " ('HO', 'SMRCCS', 0, 3): 0.0,\n",
       " ('HO', 'SMRCCS', 0, 4): 0.0,\n",
       " ('HO', 'SMRCCS', 0, 5): 0.0,\n",
       " ('HO', 'SMRCCS', 0, 6): 0.0,\n",
       " ('HO', 'SMRCCS', 0, 7): 0.0,\n",
       " ('HO', 'SMRCCS', 0, 8): 0.0,\n",
       " ('HO', 'SMRCCS', 0, 9): 0.0,\n",
       " ('HO', 'SMRCCS', 0, 10): 0.0,\n",
       " ('HO', 'SMRCCS', 0, 11): 0.0,\n",
       " ('HO', 'SMRCCS', 0, 12): 0.0,\n",
       " ('HO', 'SMRCCS', 0, 13): 0.0,\n",
       " ('HO', 'SMRCCS', 0, 14): 0.0,\n",
       " ('HO', 'SMRCCS', 0, 15): 0.0,\n",
       " ('HO', 'SMRCCS', 0, 16): 0.0,\n",
       " ('HO', 'SMRCCS', 0, 17): 0.0,\n",
       " ('HO', 'SMRCCS', 0, 18): 0.0,\n",
       " ('HO', 'SMRCCS', 0, 19): 0.0,\n",
       " ('HO', 'SMRCCS', 0, 20): 0.0,\n",
       " ('HO', 'SMRCCS', 0, 21): 0.0,\n",
       " ('HO', 'SMRCCS', 0, 22): 0.0,\n",
       " ('HO', 'SMRCCS', 0, 23): 0.0,\n",
       " ('HO', 'WF', 0, 0): 0.0,\n",
       " ('HO', 'WF', 0, 1): 93.75,\n",
       " ('HO', 'WF', 0, 2): 0.0,\n",
       " ('HO', 'WF', 0, 3): 93.75,\n",
       " ('HO', 'WF', 0, 4): 93.75,\n",
       " ('HO', 'WF', 0, 5): 93.75,\n",
       " ('HO', 'WF', 0, 6): 93.75,\n",
       " ('HO', 'WF', 0, 7): 0.0,\n",
       " ('HO', 'WF', 0, 8): 93.75,\n",
       " ('HO', 'WF', 0, 9): 93.75,\n",
       " ('HO', 'WF', 0, 10): 0.0,\n",
       " ('HO', 'WF', 0, 11): 93.75,\n",
       " ('HO', 'WF', 0, 12): 0.0,\n",
       " ('HO', 'WF', 0, 13): 93.75,\n",
       " ('HO', 'WF', 0, 14): 0.0,\n",
       " ('HO', 'WF', 0, 15): 0.0,\n",
       " ('HO', 'WF', 0, 16): 93.75,\n",
       " ('HO', 'WF', 0, 17): 93.75,\n",
       " ('HO', 'WF', 0, 18): 93.75,\n",
       " ('HO', 'WF', 0, 19): 93.75,\n",
       " ('HO', 'WF', 0, 20): 0.0,\n",
       " ('HO', 'WF', 0, 21): 93.75,\n",
       " ('HO', 'WF', 0, 22): 93.75,\n",
       " ('HO', 'WF', 0, 23): 93.75}"
      ]
     },
     "execution_count": 61,
     "metadata": {},
     "output_type": "execute_result"
    }
   ],
   "source": [
    "results_scope1.output['P']"
   ]
  },
  {
   "cell_type": "code",
   "execution_count": 62,
   "metadata": {},
   "outputs": [
    {
     "name": "stdout",
     "output_type": "stream",
     "text": [
      "constraint process capex\n",
      "constraint process fopex\n",
      "constraint process vopex\n",
      "constraint process incidental\n",
      "constraint storage cost\n",
      "constraint storage cost location\n",
      "constraint storage cost network\n",
      "constraint global warming potential process scope2\n",
      "constraint global warming potential resource scope2\n",
      "constraint global warming potential resource consumption scope2\n",
      "constraint global warming potential resource discharge scope2\n",
      "constraint global warming potential location scope2\n",
      "constraint global warming potential network scope2\n",
      "constraint production mode\n",
      "constraint inventory balance\n",
      "constraint inventory network\n",
      "constraint storage facility\n",
      "constraint production facility\n",
      "constraint min production facility\n",
      "constraint min storage facility\n",
      "constraint demand\n",
      "constraint network cost\n",
      "objective gwp scope2 min\n"
     ]
    }
   ],
   "source": [
    "#, Constraints.MODE\n",
    "\n",
    "milp_scope2 = formulate(scenario=scenario, constraints={Constraints.COST, Constraints.INVENTORY, Constraints.PRODUCTION,\n",
    "                      Constraints.RESOURCE_BALANCE, Constraints.NETWORK, Constraints.DEMAND, Constraints.SCOPETWO}, objective=Objective.MIN_ScopeTWO_GWP, demand_sign = 'eq')\n",
    "\n",
    "#, Constraints.SCOPEONE\n",
    "\n",
    "#, Constraints.EMISSION"
   ]
  },
  {
   "cell_type": "code",
   "execution_count": 63,
   "metadata": {},
   "outputs": [
    {
     "name": "stdout",
     "output_type": "stream",
     "text": [
      "Set parameter QCPDual to value 1\n",
      "Gurobi Optimizer version 11.0.1 build v11.0.1rc0 (win64 - Windows 11.0 (22631.2))\n",
      "\n",
      "CPU model: 13th Gen Intel(R) Core(TM) i7-13700, instruction set [SSE2|AVX|AVX2]\n",
      "Thread count: 16 physical cores, 24 logical processors, using up to 24 threads\n",
      "\n",
      "Optimize a model with 827 rows, 935 columns and 2172 nonzeros\n",
      "Model fingerprint: 0xb06d8b8e\n",
      "Variable types: 929 continuous, 6 integer (6 binary)\n",
      "Coefficient statistics:\n",
      "  Matrix range     [1e-04, 1e+04]\n",
      "  Objective range  [1e+00, 1e+00]\n",
      "  Bounds range     [1e+00, 1e+00]\n",
      "  RHS range        [1e+02, 1e+04]\n",
      "Presolve removed 827 rows and 935 columns\n",
      "Presolve time: 0.00s\n",
      "Presolve: All rows and columns removed\n",
      "\n",
      "Explored 0 nodes (0 simplex iterations) in 0.00 seconds (0.00 work units)\n",
      "Thread count was 1 (of 24 available processors)\n",
      "\n",
      "Solution count 1: 0 \n",
      "\n",
      "Optimal solution found (tolerance 1.00e-04)\n",
      "Best objective 0.000000000000e+00, best bound 0.000000000000e+00, gap 0.0000%\n",
      "WARNING: Cannot get duals for MIP.\n"
     ]
    }
   ],
   "source": [
    "results_scope2 = solve(scenario=scenario, instance=milp_scope2,\n",
    "                     solver='gurobi', name=f\"res_scope2\", print_solversteps=True, saveformat = '.pkl')"
   ]
  },
  {
   "cell_type": "code",
   "execution_count": 64,
   "metadata": {},
   "outputs": [
    {
     "data": {
      "text/plain": [
       "{('Grid', 0): 304.3478260869565,\n",
       " ('PEM', 0): 0.0,\n",
       " ('PV', 0): 21.73913043478261,\n",
       " ('SMR', 0): 0.0,\n",
       " ('SMRCCS', 0): 500.0,\n",
       " ('WF', 0): 173.91304347826087}"
      ]
     },
     "execution_count": 64,
     "metadata": {},
     "output_type": "execute_result"
    }
   ],
   "source": [
    "results_scope2.output['P_network']"
   ]
  },
  {
   "cell_type": "code",
   "execution_count": 31,
   "metadata": {},
   "outputs": [
    {
     "data": {
      "text/plain": [
       "0.0"
      ]
     },
     "execution_count": 31,
     "metadata": {},
     "output_type": "execute_result"
    }
   ],
   "source": [
    "results_scope2.output['objective']"
   ]
  },
  {
   "cell_type": "code",
   "execution_count": 35,
   "metadata": {},
   "outputs": [
    {
     "data": {
      "text/plain": [
       "{('HO', 0): None}"
      ]
     },
     "execution_count": 35,
     "metadata": {},
     "output_type": "execute_result"
    }
   ],
   "source": [
    "results_scope2.output['global_warming_potential_location_scope1']"
   ]
  },
  {
   "cell_type": "code",
   "execution_count": 27,
   "metadata": {},
   "outputs": [
    {
     "name": "stdout",
     "output_type": "stream",
     "text": [
      "constraint process capex\n",
      "constraint process fopex\n",
      "constraint process vopex\n",
      "constraint process incidental\n",
      "constraint storage cost\n",
      "constraint storage cost location\n",
      "constraint storage cost network\n",
      "constraint global warming potential process\n",
      "constraint global warming potential resource\n",
      "constraint global warming potential resource consumption\n",
      "constraint global warming potential resource discharge\n",
      "constraint global warming potential location\n",
      "constraint global warming potential network\n",
      "constraint ozone depletion potential process\n",
      "constraint ozone depletion potential resource\n",
      "constraint ozone depletion potential resource consumption\n",
      "constraint ozone depletion potential resource discharge\n",
      "constraint ozone depletion potential location\n",
      "constraint ozone depletion potential network\n",
      "constraint acidification potential process\n",
      "constraint acidification potential resource\n",
      "constraint acidification potential resource consumption\n",
      "constraint acidification potential resource discharge\n",
      "constraint acidification potential location\n",
      "constraint acidification potential network\n",
      "constraint terrestrial eutrophication potential process\n",
      "constraint terrestrial eutrophication potential resource\n",
      "constraint terrestrial eutrophication potential resource consumption\n",
      "constraint terrestrial eutrophication potential resource discharge\n",
      "constraint terrestrial eutrophication potential location\n",
      "constraint terrestrial eutrophication potential network\n",
      "constraint freshwater eutrophication potential process\n",
      "constraint freshwater eutrophication potential resource\n",
      "constraint freshwater eutrophication potential resource consumption\n",
      "constraint freshwater eutrophication potential resource discharge\n",
      "constraint freshwater eutrophication potential location\n",
      "constraint freshwater eutrophication potential network\n",
      "constraint marine eutrophication potential process\n",
      "constraint marine eutrophication potential resource\n",
      "constraint marine eutrophication potential resource consumption\n",
      "constraint marine eutrophication potential resource discharge\n",
      "constraint marine eutrophication potential location\n",
      "constraint marine eutrophication potential network\n",
      "constraint production mode\n",
      "constraint inventory balance\n",
      "constraint inventory network\n",
      "constraint storage facility\n",
      "constraint production facility\n",
      "constraint min production facility\n",
      "constraint min storage facility\n",
      "constraint demand\n",
      "constraint network cost\n",
      "objective gwp min\n"
     ]
    }
   ],
   "source": [
    "#, Constraints.MODE\n",
    "\n",
    "milp_gwp = formulate(scenario=scenario, constraints={Constraints.COST, Constraints.INVENTORY, Constraints.PRODUCTION,\n",
    "                      Constraints.RESOURCE_BALANCE, Constraints.NETWORK, Constraints.DEMAND, Constraints.EMISSION}, objective=Objective.MIN_GWP, demand_sign = 'eq')\n",
    "\n",
    "#, Constraints.SCOPEONE\n",
    "\n",
    "#, Constraints.EMISSION"
   ]
  },
  {
   "cell_type": "code",
   "execution_count": 28,
   "metadata": {},
   "outputs": [
    {
     "name": "stdout",
     "output_type": "stream",
     "text": [
      "Set parameter QCPDual to value 1\n",
      "Gurobi Optimizer version 11.0.1 build v11.0.1rc0 (win64 - Windows 11.0 (22631.2))\n",
      "\n",
      "CPU model: 13th Gen Intel(R) Core(TM) i7-13700, instruction set [SSE2|AVX|AVX2]\n",
      "Thread count: 16 physical cores, 24 logical processors, using up to 24 threads\n",
      "\n",
      "Optimize a model with 948 rows, 935 columns and 2442 nonzeros\n",
      "Model fingerprint: 0xb1793d3f\n",
      "Variable types: 929 continuous, 6 integer (6 binary)\n",
      "Coefficient statistics:\n",
      "  Matrix range     [1e-04, 1e+04]\n",
      "  Objective range  [1e+00, 1e+00]\n",
      "  Bounds range     [1e+00, 1e+00]\n",
      "  RHS range        [1e+02, 1e+04]\n",
      "Presolve removed 945 rows and 927 columns\n",
      "Presolve time: 0.00s\n",
      "Presolved: 3 rows, 8 columns, 12 nonzeros\n",
      "Variable types: 8 continuous, 0 integer (0 binary)\n",
      "\n",
      "Root relaxation: objective 1.023425e+04, 0 iterations, 0.00 seconds (0.00 work units)\n",
      "\n",
      "    Nodes    |    Current Node    |     Objective Bounds      |     Work\n",
      " Expl Unexpl |  Obj  Depth IntInf | Incumbent    BestBd   Gap | It/Node Time\n",
      "\n",
      "*    0     0               0    10234.250000 10234.2500  0.00%     -    0s\n",
      "\n",
      "Explored 1 nodes (0 simplex iterations) in 0.01 seconds (0.00 work units)\n",
      "Thread count was 24 (of 24 available processors)\n",
      "\n",
      "Solution count 1: 10234.3 \n",
      "\n",
      "Optimal solution found (tolerance 1.00e-04)\n",
      "Best objective 1.023425000000e+04, best bound 1.023425000000e+04, gap 0.0000%\n",
      "WARNING: Cannot get duals for MIP.\n"
     ]
    }
   ],
   "source": [
    "results_gwp = solve(scenario=scenario, instance=milp_gwp,\n",
    "                     solver='gurobi', name=f\"res_gwp\", print_solversteps=True, saveformat = '.pkl')"
   ]
  },
  {
   "cell_type": "code",
   "execution_count": 29,
   "metadata": {},
   "outputs": [
    {
     "data": {
      "text/plain": [
       "{('Grid', 0): 0.0,\n",
       " ('PEM', 0): 0.0,\n",
       " ('PV', 0): 0.0,\n",
       " ('SMR', 0): 0.0,\n",
       " ('SMRCCS', 0): 500.0,\n",
       " ('WF', 0): 500.0}"
      ]
     },
     "execution_count": 29,
     "metadata": {},
     "output_type": "execute_result"
    }
   ],
   "source": [
    "results_gwp.output['P_network']"
   ]
  },
  {
   "cell_type": "code",
   "execution_count": 226,
   "metadata": {},
   "outputs": [
    {
     "data": {
      "image/png": "[encoded data removed]",
      "text/plain": [
       "<Figure size 1200x600 with 1 Axes>"
      ]
     },
     "metadata": {},
     "output_type": "display_data"
    }
   ],
   "source": [
    "plot_results.schedule(results = results_scope1, y_axis= 'P', component = 'PEM', location='HO')"
   ]
  },
  {
   "cell_type": "code",
   "execution_count": 277,
   "metadata": {},
   "outputs": [
    {
     "data": {
      "text/plain": [
       "{('HO', 'CO2 to Stack', 0): 0.0,\n",
       " ('HO', 'GridPower', 0): 0.0,\n",
       " ('HO', 'H2O', 0): 0.0,\n",
       " ('HO', 'Natural Gas', 0): 0.0,\n",
       " ('HO', 'Power', 0): 0.0,\n",
       " ('HO', 'Pure Hydrogen', 0): 0.0,\n",
       " ('HO', 'Solar', 0): 0.0,\n",
       " ('HO', 'Wind', 0): 0.0}"
      ]
     },
     "execution_count": 277,
     "metadata": {},
     "output_type": "execute_result"
    }
   ],
   "source": [
    "results_scope1.output['global_warming_potential_resource_scope1']"
   ]
  },
  {
   "cell_type": "code",
   "execution_count": 79,
   "metadata": {},
   "outputs": [
    {
     "data": {
      "text/plain": [
       "{('HO', 'Grid', 0, 0): 5.0,\n",
       " ('HO', 'Grid', 0, 1): 5.0,\n",
       " ('HO', 'Grid', 0, 2): 5.0,\n",
       " ('HO', 'Grid', 0, 3): 0.0,\n",
       " ('HO', 'Grid', 0, 4): 0.0,\n",
       " ('HO', 'Grid', 0, 5): 0.0,\n",
       " ('HO', 'Grid', 0, 6): 0.0,\n",
       " ('HO', 'Grid', 0, 7): 0.0,\n",
       " ('HO', 'Grid', 0, 8): 5.0,\n",
       " ('HO', 'Grid', 0, 9): 0.0,\n",
       " ('HO', 'Grid', 0, 10): 5.0,\n",
       " ('HO', 'Grid', 0, 11): 0.0,\n",
       " ('HO', 'Grid', 0, 12): 100.0,\n",
       " ('HO', 'Grid', 0, 13): 5.0,\n",
       " ('HO', 'Grid', 0, 14): 0.0,\n",
       " ('HO', 'Grid', 0, 15): 5.0,\n",
       " ('HO', 'Grid', 0, 16): 0.0,\n",
       " ('HO', 'Grid', 0, 17): 5.0,\n",
       " ('HO', 'Grid', 0, 18): 5.0,\n",
       " ('HO', 'Grid', 0, 19): 0.0,\n",
       " ('HO', 'Grid', 0, 20): 0.0,\n",
       " ('HO', 'Grid', 0, 21): 0.0,\n",
       " ('HO', 'Grid', 0, 22): 0.0,\n",
       " ('HO', 'Grid', 0, 23): 5.0,\n",
       " ('HO', 'PEM', 0, 0): 0.0,\n",
       " ('HO', 'PEM', 0, 1): 0.0,\n",
       " ('HO', 'PEM', 0, 2): 0.0,\n",
       " ('HO', 'PEM', 0, 3): 0.0,\n",
       " ('HO', 'PEM', 0, 4): 0.0,\n",
       " ('HO', 'PEM', 0, 5): 0.0,\n",
       " ('HO', 'PEM', 0, 6): 0.0,\n",
       " ('HO', 'PEM', 0, 7): 0.0,\n",
       " ('HO', 'PEM', 0, 8): 0.0,\n",
       " ('HO', 'PEM', 0, 9): 0.0,\n",
       " ('HO', 'PEM', 0, 10): 0.0,\n",
       " ('HO', 'PEM', 0, 11): 0.0,\n",
       " ('HO', 'PEM', 0, 12): 0.0,\n",
       " ('HO', 'PEM', 0, 13): 0.0,\n",
       " ('HO', 'PEM', 0, 14): 0.0,\n",
       " ('HO', 'PEM', 0, 15): 0.0,\n",
       " ('HO', 'PEM', 0, 16): 0.0,\n",
       " ('HO', 'PEM', 0, 17): 0.0,\n",
       " ('HO', 'PEM', 0, 18): 0.0,\n",
       " ('HO', 'PEM', 0, 19): 0.0,\n",
       " ('HO', 'PEM', 0, 20): 0.0,\n",
       " ('HO', 'PEM', 0, 21): 0.0,\n",
       " ('HO', 'PEM', 0, 22): 0.0,\n",
       " ('HO', 'PEM', 0, 23): 0.0,\n",
       " ('HO', 'PV', 0, 0): 0.0,\n",
       " ('HO', 'PV', 0, 1): 0.0,\n",
       " ('HO', 'PV', 0, 2): 0.0,\n",
       " ('HO', 'PV', 0, 3): 5.0,\n",
       " ('HO', 'PV', 0, 4): 5.0,\n",
       " ('HO', 'PV', 0, 5): 5.0,\n",
       " ('HO', 'PV', 0, 6): 5.0,\n",
       " ('HO', 'PV', 0, 7): 0.0,\n",
       " ('HO', 'PV', 0, 8): 0.0,\n",
       " ('HO', 'PV', 0, 9): 0.0,\n",
       " ('HO', 'PV', 0, 10): 0.0,\n",
       " ('HO', 'PV', 0, 11): 90.0,\n",
       " ('HO', 'PV', 0, 12): 100.0,\n",
       " ('HO', 'PV', 0, 13): 0.0,\n",
       " ('HO', 'PV', 0, 14): 5.0,\n",
       " ('HO', 'PV', 0, 15): 0.0,\n",
       " ('HO', 'PV', 0, 16): 0.0,\n",
       " ('HO', 'PV', 0, 17): 0.0,\n",
       " ('HO', 'PV', 0, 18): 0.0,\n",
       " ('HO', 'PV', 0, 19): 0.0,\n",
       " ('HO', 'PV', 0, 20): 5.0,\n",
       " ('HO', 'PV', 0, 21): 0.0,\n",
       " ('HO', 'PV', 0, 22): 0.0,\n",
       " ('HO', 'PV', 0, 23): 0.0,\n",
       " ('HO', 'SMR', 0, 0): 5.0,\n",
       " ('HO', 'SMR', 0, 1): 5.0,\n",
       " ('HO', 'SMR', 0, 2): 5.0,\n",
       " ('HO', 'SMR', 0, 3): 5.0,\n",
       " ('HO', 'SMR', 0, 4): 5.0,\n",
       " ('HO', 'SMR', 0, 5): 5.0,\n",
       " ('HO', 'SMR', 0, 6): 5.0,\n",
       " ('HO', 'SMR', 0, 7): 5.0,\n",
       " ('HO', 'SMR', 0, 8): 5.0,\n",
       " ('HO', 'SMR', 0, 9): 5.0,\n",
       " ('HO', 'SMR', 0, 10): 5.0,\n",
       " ('HO', 'SMR', 0, 11): 5.0,\n",
       " ('HO', 'SMR', 0, 12): 5.0,\n",
       " ('HO', 'SMR', 0, 13): 5.0,\n",
       " ('HO', 'SMR', 0, 14): 5.0,\n",
       " ('HO', 'SMR', 0, 15): 5.0,\n",
       " ('HO', 'SMR', 0, 16): 5.0,\n",
       " ('HO', 'SMR', 0, 17): 5.0,\n",
       " ('HO', 'SMR', 0, 18): 5.0,\n",
       " ('HO', 'SMR', 0, 19): 5.0,\n",
       " ('HO', 'SMR', 0, 20): 5.0,\n",
       " ('HO', 'SMR', 0, 21): 5.0,\n",
       " ('HO', 'SMR', 0, 22): 5.0,\n",
       " ('HO', 'SMR', 0, 23): 5.0,\n",
       " ('HO', 'SMRCCS', 0, 0): 0.0,\n",
       " ('HO', 'SMRCCS', 0, 1): 0.0,\n",
       " ('HO', 'SMRCCS', 0, 2): 0.0,\n",
       " ('HO', 'SMRCCS', 0, 3): 0.0,\n",
       " ('HO', 'SMRCCS', 0, 4): 0.0,\n",
       " ('HO', 'SMRCCS', 0, 5): 0.0,\n",
       " ('HO', 'SMRCCS', 0, 6): 0.0,\n",
       " ('HO', 'SMRCCS', 0, 7): 0.0,\n",
       " ('HO', 'SMRCCS', 0, 8): 0.0,\n",
       " ('HO', 'SMRCCS', 0, 9): 0.0,\n",
       " ('HO', 'SMRCCS', 0, 10): 0.0,\n",
       " ('HO', 'SMRCCS', 0, 11): 85.0,\n",
       " ('HO', 'SMRCCS', 0, 12): 295.0,\n",
       " ('HO', 'SMRCCS', 0, 13): 0.0,\n",
       " ('HO', 'SMRCCS', 0, 14): 0.0,\n",
       " ('HO', 'SMRCCS', 0, 15): 0.0,\n",
       " ('HO', 'SMRCCS', 0, 16): 0.0,\n",
       " ('HO', 'SMRCCS', 0, 17): 0.0,\n",
       " ('HO', 'SMRCCS', 0, 18): 0.0,\n",
       " ('HO', 'SMRCCS', 0, 19): 0.0,\n",
       " ('HO', 'SMRCCS', 0, 20): 0.0,\n",
       " ('HO', 'SMRCCS', 0, 21): 0.0,\n",
       " ('HO', 'SMRCCS', 0, 22): 0.0,\n",
       " ('HO', 'SMRCCS', 0, 23): 0.0,\n",
       " ('HO', 'WF', 0, 0): 0.0,\n",
       " ('HO', 'WF', 0, 1): 0.0,\n",
       " ('HO', 'WF', 0, 2): 0.0,\n",
       " ('HO', 'WF', 0, 3): 0.0,\n",
       " ('HO', 'WF', 0, 4): 0.0,\n",
       " ('HO', 'WF', 0, 5): 0.0,\n",
       " ('HO', 'WF', 0, 6): 0.0,\n",
       " ('HO', 'WF', 0, 7): 5.0,\n",
       " ('HO', 'WF', 0, 8): 0.0,\n",
       " ('HO', 'WF', 0, 9): 5.0,\n",
       " ('HO', 'WF', 0, 10): 0.0,\n",
       " ('HO', 'WF', 0, 11): 0.0,\n",
       " ('HO', 'WF', 0, 12): 100.0,\n",
       " ('HO', 'WF', 0, 13): 0.0,\n",
       " ('HO', 'WF', 0, 14): 0.0,\n",
       " ('HO', 'WF', 0, 15): 0.0,\n",
       " ('HO', 'WF', 0, 16): 5.0,\n",
       " ('HO', 'WF', 0, 17): 0.0,\n",
       " ('HO', 'WF', 0, 18): 0.0,\n",
       " ('HO', 'WF', 0, 19): 5.0,\n",
       " ('HO', 'WF', 0, 20): 0.0,\n",
       " ('HO', 'WF', 0, 21): 5.0,\n",
       " ('HO', 'WF', 0, 22): 5.0,\n",
       " ('HO', 'WF', 0, 23): 0.0}"
      ]
     },
     "execution_count": 79,
     "metadata": {},
     "output_type": "execute_result"
    }
   ],
   "source": [
    "results_scope1.output['P']"
   ]
  },
  {
   "cell_type": "code",
   "execution_count": null,
   "metadata": {},
   "outputs": [],
   "source": [
    "\n",
    "data = results_cost.output['P']"
   ]
  },
  {
   "cell_type": "code",
   "execution_count": null,
   "metadata": {},
   "outputs": [],
   "source": [
    "df = pd.DataFrame(data,index=[0])"
   ]
  },
  {
   "cell_type": "code",
   "execution_count": null,
   "metadata": {},
   "outputs": [],
   "source": [
    "df"
   ]
  },
  {
   "cell_type": "code",
   "execution_count": null,
   "metadata": {},
   "outputs": [],
   "source": [
    "df=df.T"
   ]
  },
  {
   "cell_type": "code",
   "execution_count": null,
   "metadata": {},
   "outputs": [],
   "source": [
    "# # Export the DataFrame to an Excel file\n",
    "# df.to_excel('C:/Users/marcopdsousa/Desktop/Dataframes/mincostprod.xlsx', index=True)"
   ]
  },
  {
   "cell_type": "code",
   "execution_count": null,
   "metadata": {},
   "outputs": [],
   "source": [
    "# data = results_cost.output['global_warming_potential_resource']\n",
    "# df = pd.DataFrame(data,index=[0])\n",
    "# df = df.T\n",
    "# # Export the DataFrame to an Excel file\n",
    "# df.to_excel('C:/Users/marcopdsousa/Desktop/Dataframes/mincostresource_emission.xlsx', index=True)"
   ]
  },
  {
   "cell_type": "code",
   "execution_count": 80,
   "metadata": {},
   "outputs": [
    {
     "name": "stdout",
     "output_type": "stream",
     "text": [
      "constraint_inventory_balance : mass balance across scheduling scale\n",
      "    Size=192, Index=locations*resources*{0}*{0, 1, 2, 3, 4, 5, 6, 7, 8, 9, 10, 11, 12, 13, 14, 15, 16, 17, 18, 19, 20, 21, 22, 23}, Active=True\n",
      "    Key                            : Lower : Body                                                                                                                                                                     : Upper : Active\n",
      "      ('HO', 'CO2 to Stack', 0, 0) :   0.0 :        0*P_m[HO,Grid,0,0,0] + 0*P_m[HO,PEM,0,0,0] + 0*P_m[HO,PV,0,0,0] + 5*P_m[HO,SMR,0,0,0] + 0.4685*P_m[HO,SMRCCS,0,0,0] + 0*P_m[HO,WF,0,0,0] - S[HO,CO2 to Stack,0,0] :   0.0 :   True\n",
      "      ('HO', 'CO2 to Stack', 0, 1) :   0.0 :        0*P_m[HO,Grid,0,0,1] + 0*P_m[HO,PEM,0,0,1] + 0*P_m[HO,PV,0,0,1] + 5*P_m[HO,SMR,0,0,1] + 0.4685*P_m[HO,SMRCCS,0,0,1] + 0*P_m[HO,WF,0,0,1] - S[HO,CO2 to Stack,0,1] :   0.0 :   True\n",
      "      ('HO', 'CO2 to Stack', 0, 2) :   0.0 :        0*P_m[HO,Grid,0,0,2] + 0*P_m[HO,PEM,0,0,2] + 0*P_m[HO,PV,0,0,2] + 5*P_m[HO,SMR,0,0,2] + 0.4685*P_m[HO,SMRCCS,0,0,2] + 0*P_m[HO,WF,0,0,2] - S[HO,CO2 to Stack,0,2] :   0.0 :   True\n",
      "      ('HO', 'CO2 to Stack', 0, 3) :   0.0 :        0*P_m[HO,Grid,0,0,3] + 0*P_m[HO,PEM,0,0,3] + 0*P_m[HO,PV,0,0,3] + 5*P_m[HO,SMR,0,0,3] + 0.4685*P_m[HO,SMRCCS,0,0,3] + 0*P_m[HO,WF,0,0,3] - S[HO,CO2 to Stack,0,3] :   0.0 :   True\n",
      "      ('HO', 'CO2 to Stack', 0, 4) :   0.0 :        0*P_m[HO,Grid,0,0,4] + 0*P_m[HO,PEM,0,0,4] + 0*P_m[HO,PV,0,0,4] + 5*P_m[HO,SMR,0,0,4] + 0.4685*P_m[HO,SMRCCS,0,0,4] + 0*P_m[HO,WF,0,0,4] - S[HO,CO2 to Stack,0,4] :   0.0 :   True\n",
      "      ('HO', 'CO2 to Stack', 0, 5) :   0.0 :        0*P_m[HO,Grid,0,0,5] + 0*P_m[HO,PEM,0,0,5] + 0*P_m[HO,PV,0,0,5] + 5*P_m[HO,SMR,0,0,5] + 0.4685*P_m[HO,SMRCCS,0,0,5] + 0*P_m[HO,WF,0,0,5] - S[HO,CO2 to Stack,0,5] :   0.0 :   True\n",
      "      ('HO', 'CO2 to Stack', 0, 6) :   0.0 :        0*P_m[HO,Grid,0,0,6] + 0*P_m[HO,PEM,0,0,6] + 0*P_m[HO,PV,0,0,6] + 5*P_m[HO,SMR,0,0,6] + 0.4685*P_m[HO,SMRCCS,0,0,6] + 0*P_m[HO,WF,0,0,6] - S[HO,CO2 to Stack,0,6] :   0.0 :   True\n",
      "      ('HO', 'CO2 to Stack', 0, 7) :   0.0 :        0*P_m[HO,Grid,0,0,7] + 0*P_m[HO,PEM,0,0,7] + 0*P_m[HO,PV,0,0,7] + 5*P_m[HO,SMR,0,0,7] + 0.4685*P_m[HO,SMRCCS,0,0,7] + 0*P_m[HO,WF,0,0,7] - S[HO,CO2 to Stack,0,7] :   0.0 :   True\n",
      "      ('HO', 'CO2 to Stack', 0, 8) :   0.0 :        0*P_m[HO,Grid,0,0,8] + 0*P_m[HO,PEM,0,0,8] + 0*P_m[HO,PV,0,0,8] + 5*P_m[HO,SMR,0,0,8] + 0.4685*P_m[HO,SMRCCS,0,0,8] + 0*P_m[HO,WF,0,0,8] - S[HO,CO2 to Stack,0,8] :   0.0 :   True\n",
      "      ('HO', 'CO2 to Stack', 0, 9) :   0.0 :        0*P_m[HO,Grid,0,0,9] + 0*P_m[HO,PEM,0,0,9] + 0*P_m[HO,PV,0,0,9] + 5*P_m[HO,SMR,0,0,9] + 0.4685*P_m[HO,SMRCCS,0,0,9] + 0*P_m[HO,WF,0,0,9] - S[HO,CO2 to Stack,0,9] :   0.0 :   True\n",
      "     ('HO', 'CO2 to Stack', 0, 10) :   0.0 : 0*P_m[HO,Grid,0,0,10] + 0*P_m[HO,PEM,0,0,10] + 0*P_m[HO,PV,0,0,10] + 5*P_m[HO,SMR,0,0,10] + 0.4685*P_m[HO,SMRCCS,0,0,10] + 0*P_m[HO,WF,0,0,10] - S[HO,CO2 to Stack,0,10] :   0.0 :   True\n",
      "     ('HO', 'CO2 to Stack', 0, 11) :   0.0 : 0*P_m[HO,Grid,0,0,11] + 0*P_m[HO,PEM,0,0,11] + 0*P_m[HO,PV,0,0,11] + 5*P_m[HO,SMR,0,0,11] + 0.4685*P_m[HO,SMRCCS,0,0,11] + 0*P_m[HO,WF,0,0,11] - S[HO,CO2 to Stack,0,11] :   0.0 :   True\n",
      "     ('HO', 'CO2 to Stack', 0, 12) :   0.0 : 0*P_m[HO,Grid,0,0,12] + 0*P_m[HO,PEM,0,0,12] + 0*P_m[HO,PV,0,0,12] + 5*P_m[HO,SMR,0,0,12] + 0.4685*P_m[HO,SMRCCS,0,0,12] + 0*P_m[HO,WF,0,0,12] - S[HO,CO2 to Stack,0,12] :   0.0 :   True\n",
      "     ('HO', 'CO2 to Stack', 0, 13) :   0.0 : 0*P_m[HO,Grid,0,0,13] + 0*P_m[HO,PEM,0,0,13] + 0*P_m[HO,PV,0,0,13] + 5*P_m[HO,SMR,0,0,13] + 0.4685*P_m[HO,SMRCCS,0,0,13] + 0*P_m[HO,WF,0,0,13] - S[HO,CO2 to Stack,0,13] :   0.0 :   True\n",
      "     ('HO', 'CO2 to Stack', 0, 14) :   0.0 : 0*P_m[HO,Grid,0,0,14] + 0*P_m[HO,PEM,0,0,14] + 0*P_m[HO,PV,0,0,14] + 5*P_m[HO,SMR,0,0,14] + 0.4685*P_m[HO,SMRCCS,0,0,14] + 0*P_m[HO,WF,0,0,14] - S[HO,CO2 to Stack,0,14] :   0.0 :   True\n",
      "     ('HO', 'CO2 to Stack', 0, 15) :   0.0 : 0*P_m[HO,Grid,0,0,15] + 0*P_m[HO,PEM,0,0,15] + 0*P_m[HO,PV,0,0,15] + 5*P_m[HO,SMR,0,0,15] + 0.4685*P_m[HO,SMRCCS,0,0,15] + 0*P_m[HO,WF,0,0,15] - S[HO,CO2 to Stack,0,15] :   0.0 :   True\n",
      "     ('HO', 'CO2 to Stack', 0, 16) :   0.0 : 0*P_m[HO,Grid,0,0,16] + 0*P_m[HO,PEM,0,0,16] + 0*P_m[HO,PV,0,0,16] + 5*P_m[HO,SMR,0,0,16] + 0.4685*P_m[HO,SMRCCS,0,0,16] + 0*P_m[HO,WF,0,0,16] - S[HO,CO2 to Stack,0,16] :   0.0 :   True\n",
      "     ('HO', 'CO2 to Stack', 0, 17) :   0.0 : 0*P_m[HO,Grid,0,0,17] + 0*P_m[HO,PEM,0,0,17] + 0*P_m[HO,PV,0,0,17] + 5*P_m[HO,SMR,0,0,17] + 0.4685*P_m[HO,SMRCCS,0,0,17] + 0*P_m[HO,WF,0,0,17] - S[HO,CO2 to Stack,0,17] :   0.0 :   True\n",
      "     ('HO', 'CO2 to Stack', 0, 18) :   0.0 : 0*P_m[HO,Grid,0,0,18] + 0*P_m[HO,PEM,0,0,18] + 0*P_m[HO,PV,0,0,18] + 5*P_m[HO,SMR,0,0,18] + 0.4685*P_m[HO,SMRCCS,0,0,18] + 0*P_m[HO,WF,0,0,18] - S[HO,CO2 to Stack,0,18] :   0.0 :   True\n",
      "     ('HO', 'CO2 to Stack', 0, 19) :   0.0 : 0*P_m[HO,Grid,0,0,19] + 0*P_m[HO,PEM,0,0,19] + 0*P_m[HO,PV,0,0,19] + 5*P_m[HO,SMR,0,0,19] + 0.4685*P_m[HO,SMRCCS,0,0,19] + 0*P_m[HO,WF,0,0,19] - S[HO,CO2 to Stack,0,19] :   0.0 :   True\n",
      "     ('HO', 'CO2 to Stack', 0, 20) :   0.0 : 0*P_m[HO,Grid,0,0,20] + 0*P_m[HO,PEM,0,0,20] + 0*P_m[HO,PV,0,0,20] + 5*P_m[HO,SMR,0,0,20] + 0.4685*P_m[HO,SMRCCS,0,0,20] + 0*P_m[HO,WF,0,0,20] - S[HO,CO2 to Stack,0,20] :   0.0 :   True\n",
      "     ('HO', 'CO2 to Stack', 0, 21) :   0.0 : 0*P_m[HO,Grid,0,0,21] + 0*P_m[HO,PEM,0,0,21] + 0*P_m[HO,PV,0,0,21] + 5*P_m[HO,SMR,0,0,21] + 0.4685*P_m[HO,SMRCCS,0,0,21] + 0*P_m[HO,WF,0,0,21] - S[HO,CO2 to Stack,0,21] :   0.0 :   True\n",
      "     ('HO', 'CO2 to Stack', 0, 22) :   0.0 : 0*P_m[HO,Grid,0,0,22] + 0*P_m[HO,PEM,0,0,22] + 0*P_m[HO,PV,0,0,22] + 5*P_m[HO,SMR,0,0,22] + 0.4685*P_m[HO,SMRCCS,0,0,22] + 0*P_m[HO,WF,0,0,22] - S[HO,CO2 to Stack,0,22] :   0.0 :   True\n",
      "     ('HO', 'CO2 to Stack', 0, 23) :   0.0 : 0*P_m[HO,Grid,0,0,23] + 0*P_m[HO,PEM,0,0,23] + 0*P_m[HO,PV,0,0,23] + 5*P_m[HO,SMR,0,0,23] + 0.4685*P_m[HO,SMRCCS,0,0,23] + 0*P_m[HO,WF,0,0,23] - S[HO,CO2 to Stack,0,23] :   0.0 :   True\n",
      "         ('HO', 'GridPower', 0, 0) :   0.0 :                - P_m[HO,Grid,0,0,0] + 0*P_m[HO,PEM,0,0,0] + 0*P_m[HO,PV,0,0,0] + 0*P_m[HO,SMR,0,0,0] + 0*P_m[HO,SMRCCS,0,0,0] + 0*P_m[HO,WF,0,0,0] + C[HO,GridPower,0,0] :   0.0 :   True\n",
      "         ('HO', 'GridPower', 0, 1) :   0.0 :                - P_m[HO,Grid,0,0,1] + 0*P_m[HO,PEM,0,0,1] + 0*P_m[HO,PV,0,0,1] + 0*P_m[HO,SMR,0,0,1] + 0*P_m[HO,SMRCCS,0,0,1] + 0*P_m[HO,WF,0,0,1] + C[HO,GridPower,0,1] :   0.0 :   True\n",
      "         ('HO', 'GridPower', 0, 2) :   0.0 :                - P_m[HO,Grid,0,0,2] + 0*P_m[HO,PEM,0,0,2] + 0*P_m[HO,PV,0,0,2] + 0*P_m[HO,SMR,0,0,2] + 0*P_m[HO,SMRCCS,0,0,2] + 0*P_m[HO,WF,0,0,2] + C[HO,GridPower,0,2] :   0.0 :   True\n",
      "         ('HO', 'GridPower', 0, 3) :   0.0 :                - P_m[HO,Grid,0,0,3] + 0*P_m[HO,PEM,0,0,3] + 0*P_m[HO,PV,0,0,3] + 0*P_m[HO,SMR,0,0,3] + 0*P_m[HO,SMRCCS,0,0,3] + 0*P_m[HO,WF,0,0,3] + C[HO,GridPower,0,3] :   0.0 :   True\n",
      "         ('HO', 'GridPower', 0, 4) :   0.0 :                - P_m[HO,Grid,0,0,4] + 0*P_m[HO,PEM,0,0,4] + 0*P_m[HO,PV,0,0,4] + 0*P_m[HO,SMR,0,0,4] + 0*P_m[HO,SMRCCS,0,0,4] + 0*P_m[HO,WF,0,0,4] + C[HO,GridPower,0,4] :   0.0 :   True\n",
      "         ('HO', 'GridPower', 0, 5) :   0.0 :                - P_m[HO,Grid,0,0,5] + 0*P_m[HO,PEM,0,0,5] + 0*P_m[HO,PV,0,0,5] + 0*P_m[HO,SMR,0,0,5] + 0*P_m[HO,SMRCCS,0,0,5] + 0*P_m[HO,WF,0,0,5] + C[HO,GridPower,0,5] :   0.0 :   True\n",
      "         ('HO', 'GridPower', 0, 6) :   0.0 :                - P_m[HO,Grid,0,0,6] + 0*P_m[HO,PEM,0,0,6] + 0*P_m[HO,PV,0,0,6] + 0*P_m[HO,SMR,0,0,6] + 0*P_m[HO,SMRCCS,0,0,6] + 0*P_m[HO,WF,0,0,6] + C[HO,GridPower,0,6] :   0.0 :   True\n",
      "         ('HO', 'GridPower', 0, 7) :   0.0 :                - P_m[HO,Grid,0,0,7] + 0*P_m[HO,PEM,0,0,7] + 0*P_m[HO,PV,0,0,7] + 0*P_m[HO,SMR,0,0,7] + 0*P_m[HO,SMRCCS,0,0,7] + 0*P_m[HO,WF,0,0,7] + C[HO,GridPower,0,7] :   0.0 :   True\n",
      "         ('HO', 'GridPower', 0, 8) :   0.0 :                - P_m[HO,Grid,0,0,8] + 0*P_m[HO,PEM,0,0,8] + 0*P_m[HO,PV,0,0,8] + 0*P_m[HO,SMR,0,0,8] + 0*P_m[HO,SMRCCS,0,0,8] + 0*P_m[HO,WF,0,0,8] + C[HO,GridPower,0,8] :   0.0 :   True\n",
      "         ('HO', 'GridPower', 0, 9) :   0.0 :                - P_m[HO,Grid,0,0,9] + 0*P_m[HO,PEM,0,0,9] + 0*P_m[HO,PV,0,0,9] + 0*P_m[HO,SMR,0,0,9] + 0*P_m[HO,SMRCCS,0,0,9] + 0*P_m[HO,WF,0,0,9] + C[HO,GridPower,0,9] :   0.0 :   True\n",
      "        ('HO', 'GridPower', 0, 10) :   0.0 :         - P_m[HO,Grid,0,0,10] + 0*P_m[HO,PEM,0,0,10] + 0*P_m[HO,PV,0,0,10] + 0*P_m[HO,SMR,0,0,10] + 0*P_m[HO,SMRCCS,0,0,10] + 0*P_m[HO,WF,0,0,10] + C[HO,GridPower,0,10] :   0.0 :   True\n",
      "        ('HO', 'GridPower', 0, 11) :   0.0 :         - P_m[HO,Grid,0,0,11] + 0*P_m[HO,PEM,0,0,11] + 0*P_m[HO,PV,0,0,11] + 0*P_m[HO,SMR,0,0,11] + 0*P_m[HO,SMRCCS,0,0,11] + 0*P_m[HO,WF,0,0,11] + C[HO,GridPower,0,11] :   0.0 :   True\n",
      "        ('HO', 'GridPower', 0, 12) :   0.0 :         - P_m[HO,Grid,0,0,12] + 0*P_m[HO,PEM,0,0,12] + 0*P_m[HO,PV,0,0,12] + 0*P_m[HO,SMR,0,0,12] + 0*P_m[HO,SMRCCS,0,0,12] + 0*P_m[HO,WF,0,0,12] + C[HO,GridPower,0,12] :   0.0 :   True\n",
      "        ('HO', 'GridPower', 0, 13) :   0.0 :         - P_m[HO,Grid,0,0,13] + 0*P_m[HO,PEM,0,0,13] + 0*P_m[HO,PV,0,0,13] + 0*P_m[HO,SMR,0,0,13] + 0*P_m[HO,SMRCCS,0,0,13] + 0*P_m[HO,WF,0,0,13] + C[HO,GridPower,0,13] :   0.0 :   True\n",
      "        ('HO', 'GridPower', 0, 14) :   0.0 :         - P_m[HO,Grid,0,0,14] + 0*P_m[HO,PEM,0,0,14] + 0*P_m[HO,PV,0,0,14] + 0*P_m[HO,SMR,0,0,14] + 0*P_m[HO,SMRCCS,0,0,14] + 0*P_m[HO,WF,0,0,14] + C[HO,GridPower,0,14] :   0.0 :   True\n",
      "        ('HO', 'GridPower', 0, 15) :   0.0 :         - P_m[HO,Grid,0,0,15] + 0*P_m[HO,PEM,0,0,15] + 0*P_m[HO,PV,0,0,15] + 0*P_m[HO,SMR,0,0,15] + 0*P_m[HO,SMRCCS,0,0,15] + 0*P_m[HO,WF,0,0,15] + C[HO,GridPower,0,15] :   0.0 :   True\n",
      "        ('HO', 'GridPower', 0, 16) :   0.0 :         - P_m[HO,Grid,0,0,16] + 0*P_m[HO,PEM,0,0,16] + 0*P_m[HO,PV,0,0,16] + 0*P_m[HO,SMR,0,0,16] + 0*P_m[HO,SMRCCS,0,0,16] + 0*P_m[HO,WF,0,0,16] + C[HO,GridPower,0,16] :   0.0 :   True\n",
      "        ('HO', 'GridPower', 0, 17) :   0.0 :         - P_m[HO,Grid,0,0,17] + 0*P_m[HO,PEM,0,0,17] + 0*P_m[HO,PV,0,0,17] + 0*P_m[HO,SMR,0,0,17] + 0*P_m[HO,SMRCCS,0,0,17] + 0*P_m[HO,WF,0,0,17] + C[HO,GridPower,0,17] :   0.0 :   True\n",
      "        ('HO', 'GridPower', 0, 18) :   0.0 :         - P_m[HO,Grid,0,0,18] + 0*P_m[HO,PEM,0,0,18] + 0*P_m[HO,PV,0,0,18] + 0*P_m[HO,SMR,0,0,18] + 0*P_m[HO,SMRCCS,0,0,18] + 0*P_m[HO,WF,0,0,18] + C[HO,GridPower,0,18] :   0.0 :   True\n",
      "        ('HO', 'GridPower', 0, 19) :   0.0 :         - P_m[HO,Grid,0,0,19] + 0*P_m[HO,PEM,0,0,19] + 0*P_m[HO,PV,0,0,19] + 0*P_m[HO,SMR,0,0,19] + 0*P_m[HO,SMRCCS,0,0,19] + 0*P_m[HO,WF,0,0,19] + C[HO,GridPower,0,19] :   0.0 :   True\n",
      "        ('HO', 'GridPower', 0, 20) :   0.0 :         - P_m[HO,Grid,0,0,20] + 0*P_m[HO,PEM,0,0,20] + 0*P_m[HO,PV,0,0,20] + 0*P_m[HO,SMR,0,0,20] + 0*P_m[HO,SMRCCS,0,0,20] + 0*P_m[HO,WF,0,0,20] + C[HO,GridPower,0,20] :   0.0 :   True\n",
      "        ('HO', 'GridPower', 0, 21) :   0.0 :         - P_m[HO,Grid,0,0,21] + 0*P_m[HO,PEM,0,0,21] + 0*P_m[HO,PV,0,0,21] + 0*P_m[HO,SMR,0,0,21] + 0*P_m[HO,SMRCCS,0,0,21] + 0*P_m[HO,WF,0,0,21] + C[HO,GridPower,0,21] :   0.0 :   True\n",
      "        ('HO', 'GridPower', 0, 22) :   0.0 :         - P_m[HO,Grid,0,0,22] + 0*P_m[HO,PEM,0,0,22] + 0*P_m[HO,PV,0,0,22] + 0*P_m[HO,SMR,0,0,22] + 0*P_m[HO,SMRCCS,0,0,22] + 0*P_m[HO,WF,0,0,22] + C[HO,GridPower,0,22] :   0.0 :   True\n",
      "        ('HO', 'GridPower', 0, 23) :   0.0 :         - P_m[HO,Grid,0,0,23] + 0*P_m[HO,PEM,0,0,23] + 0*P_m[HO,PV,0,0,23] + 0*P_m[HO,SMR,0,0,23] + 0*P_m[HO,SMRCCS,0,0,23] + 0*P_m[HO,WF,0,0,23] + C[HO,GridPower,0,23] :   0.0 :   True\n",
      "               ('HO', 'H2O', 0, 0) :   0.0 :                                      0*P_m[HO,Grid,0,0,0] - 5*P_m[HO,PEM,0,0,0] + 0*P_m[HO,PV,0,0,0] + 0*P_m[HO,SMR,0,0,0] + 0*P_m[HO,SMRCCS,0,0,0] + 0*P_m[HO,WF,0,0,0] :   0.0 :   True\n",
      "               ('HO', 'H2O', 0, 1) :   0.0 :                                      0*P_m[HO,Grid,0,0,1] - 5*P_m[HO,PEM,0,0,1] + 0*P_m[HO,PV,0,0,1] + 0*P_m[HO,SMR,0,0,1] + 0*P_m[HO,SMRCCS,0,0,1] + 0*P_m[HO,WF,0,0,1] :   0.0 :   True\n",
      "               ('HO', 'H2O', 0, 2) :   0.0 :                                      0*P_m[HO,Grid,0,0,2] - 5*P_m[HO,PEM,0,0,2] + 0*P_m[HO,PV,0,0,2] + 0*P_m[HO,SMR,0,0,2] + 0*P_m[HO,SMRCCS,0,0,2] + 0*P_m[HO,WF,0,0,2] :   0.0 :   True\n",
      "               ('HO', 'H2O', 0, 3) :   0.0 :                                      0*P_m[HO,Grid,0,0,3] - 5*P_m[HO,PEM,0,0,3] + 0*P_m[HO,PV,0,0,3] + 0*P_m[HO,SMR,0,0,3] + 0*P_m[HO,SMRCCS,0,0,3] + 0*P_m[HO,WF,0,0,3] :   0.0 :   True\n",
      "               ('HO', 'H2O', 0, 4) :   0.0 :                                      0*P_m[HO,Grid,0,0,4] - 5*P_m[HO,PEM,0,0,4] + 0*P_m[HO,PV,0,0,4] + 0*P_m[HO,SMR,0,0,4] + 0*P_m[HO,SMRCCS,0,0,4] + 0*P_m[HO,WF,0,0,4] :   0.0 :   True\n",
      "               ('HO', 'H2O', 0, 5) :   0.0 :                                      0*P_m[HO,Grid,0,0,5] - 5*P_m[HO,PEM,0,0,5] + 0*P_m[HO,PV,0,0,5] + 0*P_m[HO,SMR,0,0,5] + 0*P_m[HO,SMRCCS,0,0,5] + 0*P_m[HO,WF,0,0,5] :   0.0 :   True\n",
      "               ('HO', 'H2O', 0, 6) :   0.0 :                                      0*P_m[HO,Grid,0,0,6] - 5*P_m[HO,PEM,0,0,6] + 0*P_m[HO,PV,0,0,6] + 0*P_m[HO,SMR,0,0,6] + 0*P_m[HO,SMRCCS,0,0,6] + 0*P_m[HO,WF,0,0,6] :   0.0 :   True\n",
      "               ('HO', 'H2O', 0, 7) :   0.0 :                                      0*P_m[HO,Grid,0,0,7] - 5*P_m[HO,PEM,0,0,7] + 0*P_m[HO,PV,0,0,7] + 0*P_m[HO,SMR,0,0,7] + 0*P_m[HO,SMRCCS,0,0,7] + 0*P_m[HO,WF,0,0,7] :   0.0 :   True\n",
      "               ('HO', 'H2O', 0, 8) :   0.0 :                                      0*P_m[HO,Grid,0,0,8] - 5*P_m[HO,PEM,0,0,8] + 0*P_m[HO,PV,0,0,8] + 0*P_m[HO,SMR,0,0,8] + 0*P_m[HO,SMRCCS,0,0,8] + 0*P_m[HO,WF,0,0,8] :   0.0 :   True\n",
      "               ('HO', 'H2O', 0, 9) :   0.0 :                                      0*P_m[HO,Grid,0,0,9] - 5*P_m[HO,PEM,0,0,9] + 0*P_m[HO,PV,0,0,9] + 0*P_m[HO,SMR,0,0,9] + 0*P_m[HO,SMRCCS,0,0,9] + 0*P_m[HO,WF,0,0,9] :   0.0 :   True\n",
      "              ('HO', 'H2O', 0, 10) :   0.0 :                                0*P_m[HO,Grid,0,0,10] - 5*P_m[HO,PEM,0,0,10] + 0*P_m[HO,PV,0,0,10] + 0*P_m[HO,SMR,0,0,10] + 0*P_m[HO,SMRCCS,0,0,10] + 0*P_m[HO,WF,0,0,10] :   0.0 :   True\n",
      "              ('HO', 'H2O', 0, 11) :   0.0 :                                0*P_m[HO,Grid,0,0,11] - 5*P_m[HO,PEM,0,0,11] + 0*P_m[HO,PV,0,0,11] + 0*P_m[HO,SMR,0,0,11] + 0*P_m[HO,SMRCCS,0,0,11] + 0*P_m[HO,WF,0,0,11] :   0.0 :   True\n",
      "              ('HO', 'H2O', 0, 12) :   0.0 :                                0*P_m[HO,Grid,0,0,12] - 5*P_m[HO,PEM,0,0,12] + 0*P_m[HO,PV,0,0,12] + 0*P_m[HO,SMR,0,0,12] + 0*P_m[HO,SMRCCS,0,0,12] + 0*P_m[HO,WF,0,0,12] :   0.0 :   True\n",
      "              ('HO', 'H2O', 0, 13) :   0.0 :                                0*P_m[HO,Grid,0,0,13] - 5*P_m[HO,PEM,0,0,13] + 0*P_m[HO,PV,0,0,13] + 0*P_m[HO,SMR,0,0,13] + 0*P_m[HO,SMRCCS,0,0,13] + 0*P_m[HO,WF,0,0,13] :   0.0 :   True\n",
      "              ('HO', 'H2O', 0, 14) :   0.0 :                                0*P_m[HO,Grid,0,0,14] - 5*P_m[HO,PEM,0,0,14] + 0*P_m[HO,PV,0,0,14] + 0*P_m[HO,SMR,0,0,14] + 0*P_m[HO,SMRCCS,0,0,14] + 0*P_m[HO,WF,0,0,14] :   0.0 :   True\n",
      "              ('HO', 'H2O', 0, 15) :   0.0 :                                0*P_m[HO,Grid,0,0,15] - 5*P_m[HO,PEM,0,0,15] + 0*P_m[HO,PV,0,0,15] + 0*P_m[HO,SMR,0,0,15] + 0*P_m[HO,SMRCCS,0,0,15] + 0*P_m[HO,WF,0,0,15] :   0.0 :   True\n",
      "              ('HO', 'H2O', 0, 16) :   0.0 :                                0*P_m[HO,Grid,0,0,16] - 5*P_m[HO,PEM,0,0,16] + 0*P_m[HO,PV,0,0,16] + 0*P_m[HO,SMR,0,0,16] + 0*P_m[HO,SMRCCS,0,0,16] + 0*P_m[HO,WF,0,0,16] :   0.0 :   True\n",
      "              ('HO', 'H2O', 0, 17) :   0.0 :                                0*P_m[HO,Grid,0,0,17] - 5*P_m[HO,PEM,0,0,17] + 0*P_m[HO,PV,0,0,17] + 0*P_m[HO,SMR,0,0,17] + 0*P_m[HO,SMRCCS,0,0,17] + 0*P_m[HO,WF,0,0,17] :   0.0 :   True\n",
      "              ('HO', 'H2O', 0, 18) :   0.0 :                                0*P_m[HO,Grid,0,0,18] - 5*P_m[HO,PEM,0,0,18] + 0*P_m[HO,PV,0,0,18] + 0*P_m[HO,SMR,0,0,18] + 0*P_m[HO,SMRCCS,0,0,18] + 0*P_m[HO,WF,0,0,18] :   0.0 :   True\n",
      "              ('HO', 'H2O', 0, 19) :   0.0 :                                0*P_m[HO,Grid,0,0,19] - 5*P_m[HO,PEM,0,0,19] + 0*P_m[HO,PV,0,0,19] + 0*P_m[HO,SMR,0,0,19] + 0*P_m[HO,SMRCCS,0,0,19] + 0*P_m[HO,WF,0,0,19] :   0.0 :   True\n",
      "              ('HO', 'H2O', 0, 20) :   0.0 :                                0*P_m[HO,Grid,0,0,20] - 5*P_m[HO,PEM,0,0,20] + 0*P_m[HO,PV,0,0,20] + 0*P_m[HO,SMR,0,0,20] + 0*P_m[HO,SMRCCS,0,0,20] + 0*P_m[HO,WF,0,0,20] :   0.0 :   True\n",
      "              ('HO', 'H2O', 0, 21) :   0.0 :                                0*P_m[HO,Grid,0,0,21] - 5*P_m[HO,PEM,0,0,21] + 0*P_m[HO,PV,0,0,21] + 0*P_m[HO,SMR,0,0,21] + 0*P_m[HO,SMRCCS,0,0,21] + 0*P_m[HO,WF,0,0,21] :   0.0 :   True\n",
      "              ('HO', 'H2O', 0, 22) :   0.0 :                                0*P_m[HO,Grid,0,0,22] - 5*P_m[HO,PEM,0,0,22] + 0*P_m[HO,PV,0,0,22] + 0*P_m[HO,SMR,0,0,22] + 0*P_m[HO,SMRCCS,0,0,22] + 0*P_m[HO,WF,0,0,22] :   0.0 :   True\n",
      "              ('HO', 'H2O', 0, 23) :   0.0 :                                0*P_m[HO,Grid,0,0,23] - 5*P_m[HO,PEM,0,0,23] + 0*P_m[HO,PV,0,0,23] + 0*P_m[HO,SMR,0,0,23] + 0*P_m[HO,SMRCCS,0,0,23] + 0*P_m[HO,WF,0,0,23] :   0.0 :   True\n",
      "       ('HO', 'Natural Gas', 0, 0) :   0.0 :                  0*P_m[HO,Grid,0,0,0] + 0*P_m[HO,PEM,0,0,0] + 0*P_m[HO,PV,0,0,0] - P_m[HO,SMR,0,0,0] - P_m[HO,SMRCCS,0,0,0] + 0*P_m[HO,WF,0,0,0] + C[HO,Natural Gas,0,0] :   0.0 :   True\n",
      "       ('HO', 'Natural Gas', 0, 1) :   0.0 :                  0*P_m[HO,Grid,0,0,1] + 0*P_m[HO,PEM,0,0,1] + 0*P_m[HO,PV,0,0,1] - P_m[HO,SMR,0,0,1] - P_m[HO,SMRCCS,0,0,1] + 0*P_m[HO,WF,0,0,1] + C[HO,Natural Gas,0,1] :   0.0 :   True\n",
      "       ('HO', 'Natural Gas', 0, 2) :   0.0 :                  0*P_m[HO,Grid,0,0,2] + 0*P_m[HO,PEM,0,0,2] + 0*P_m[HO,PV,0,0,2] - P_m[HO,SMR,0,0,2] - P_m[HO,SMRCCS,0,0,2] + 0*P_m[HO,WF,0,0,2] + C[HO,Natural Gas,0,2] :   0.0 :   True\n",
      "       ('HO', 'Natural Gas', 0, 3) :   0.0 :                  0*P_m[HO,Grid,0,0,3] + 0*P_m[HO,PEM,0,0,3] + 0*P_m[HO,PV,0,0,3] - P_m[HO,SMR,0,0,3] - P_m[HO,SMRCCS,0,0,3] + 0*P_m[HO,WF,0,0,3] + C[HO,Natural Gas,0,3] :   0.0 :   True\n",
      "       ('HO', 'Natural Gas', 0, 4) :   0.0 :                  0*P_m[HO,Grid,0,0,4] + 0*P_m[HO,PEM,0,0,4] + 0*P_m[HO,PV,0,0,4] - P_m[HO,SMR,0,0,4] - P_m[HO,SMRCCS,0,0,4] + 0*P_m[HO,WF,0,0,4] + C[HO,Natural Gas,0,4] :   0.0 :   True\n",
      "       ('HO', 'Natural Gas', 0, 5) :   0.0 :                  0*P_m[HO,Grid,0,0,5] + 0*P_m[HO,PEM,0,0,5] + 0*P_m[HO,PV,0,0,5] - P_m[HO,SMR,0,0,5] - P_m[HO,SMRCCS,0,0,5] + 0*P_m[HO,WF,0,0,5] + C[HO,Natural Gas,0,5] :   0.0 :   True\n",
      "       ('HO', 'Natural Gas', 0, 6) :   0.0 :                  0*P_m[HO,Grid,0,0,6] + 0*P_m[HO,PEM,0,0,6] + 0*P_m[HO,PV,0,0,6] - P_m[HO,SMR,0,0,6] - P_m[HO,SMRCCS,0,0,6] + 0*P_m[HO,WF,0,0,6] + C[HO,Natural Gas,0,6] :   0.0 :   True\n",
      "       ('HO', 'Natural Gas', 0, 7) :   0.0 :                  0*P_m[HO,Grid,0,0,7] + 0*P_m[HO,PEM,0,0,7] + 0*P_m[HO,PV,0,0,7] - P_m[HO,SMR,0,0,7] - P_m[HO,SMRCCS,0,0,7] + 0*P_m[HO,WF,0,0,7] + C[HO,Natural Gas,0,7] :   0.0 :   True\n",
      "       ('HO', 'Natural Gas', 0, 8) :   0.0 :                  0*P_m[HO,Grid,0,0,8] + 0*P_m[HO,PEM,0,0,8] + 0*P_m[HO,PV,0,0,8] - P_m[HO,SMR,0,0,8] - P_m[HO,SMRCCS,0,0,8] + 0*P_m[HO,WF,0,0,8] + C[HO,Natural Gas,0,8] :   0.0 :   True\n",
      "       ('HO', 'Natural Gas', 0, 9) :   0.0 :                  0*P_m[HO,Grid,0,0,9] + 0*P_m[HO,PEM,0,0,9] + 0*P_m[HO,PV,0,0,9] - P_m[HO,SMR,0,0,9] - P_m[HO,SMRCCS,0,0,9] + 0*P_m[HO,WF,0,0,9] + C[HO,Natural Gas,0,9] :   0.0 :   True\n",
      "      ('HO', 'Natural Gas', 0, 10) :   0.0 :           0*P_m[HO,Grid,0,0,10] + 0*P_m[HO,PEM,0,0,10] + 0*P_m[HO,PV,0,0,10] - P_m[HO,SMR,0,0,10] - P_m[HO,SMRCCS,0,0,10] + 0*P_m[HO,WF,0,0,10] + C[HO,Natural Gas,0,10] :   0.0 :   True\n",
      "      ('HO', 'Natural Gas', 0, 11) :   0.0 :           0*P_m[HO,Grid,0,0,11] + 0*P_m[HO,PEM,0,0,11] + 0*P_m[HO,PV,0,0,11] - P_m[HO,SMR,0,0,11] - P_m[HO,SMRCCS,0,0,11] + 0*P_m[HO,WF,0,0,11] + C[HO,Natural Gas,0,11] :   0.0 :   True\n",
      "      ('HO', 'Natural Gas', 0, 12) :   0.0 :           0*P_m[HO,Grid,0,0,12] + 0*P_m[HO,PEM,0,0,12] + 0*P_m[HO,PV,0,0,12] - P_m[HO,SMR,0,0,12] - P_m[HO,SMRCCS,0,0,12] + 0*P_m[HO,WF,0,0,12] + C[HO,Natural Gas,0,12] :   0.0 :   True\n",
      "      ('HO', 'Natural Gas', 0, 13) :   0.0 :           0*P_m[HO,Grid,0,0,13] + 0*P_m[HO,PEM,0,0,13] + 0*P_m[HO,PV,0,0,13] - P_m[HO,SMR,0,0,13] - P_m[HO,SMRCCS,0,0,13] + 0*P_m[HO,WF,0,0,13] + C[HO,Natural Gas,0,13] :   0.0 :   True\n",
      "      ('HO', 'Natural Gas', 0, 14) :   0.0 :           0*P_m[HO,Grid,0,0,14] + 0*P_m[HO,PEM,0,0,14] + 0*P_m[HO,PV,0,0,14] - P_m[HO,SMR,0,0,14] - P_m[HO,SMRCCS,0,0,14] + 0*P_m[HO,WF,0,0,14] + C[HO,Natural Gas,0,14] :   0.0 :   True\n",
      "      ('HO', 'Natural Gas', 0, 15) :   0.0 :           0*P_m[HO,Grid,0,0,15] + 0*P_m[HO,PEM,0,0,15] + 0*P_m[HO,PV,0,0,15] - P_m[HO,SMR,0,0,15] - P_m[HO,SMRCCS,0,0,15] + 0*P_m[HO,WF,0,0,15] + C[HO,Natural Gas,0,15] :   0.0 :   True\n",
      "      ('HO', 'Natural Gas', 0, 16) :   0.0 :           0*P_m[HO,Grid,0,0,16] + 0*P_m[HO,PEM,0,0,16] + 0*P_m[HO,PV,0,0,16] - P_m[HO,SMR,0,0,16] - P_m[HO,SMRCCS,0,0,16] + 0*P_m[HO,WF,0,0,16] + C[HO,Natural Gas,0,16] :   0.0 :   True\n",
      "      ('HO', 'Natural Gas', 0, 17) :   0.0 :           0*P_m[HO,Grid,0,0,17] + 0*P_m[HO,PEM,0,0,17] + 0*P_m[HO,PV,0,0,17] - P_m[HO,SMR,0,0,17] - P_m[HO,SMRCCS,0,0,17] + 0*P_m[HO,WF,0,0,17] + C[HO,Natural Gas,0,17] :   0.0 :   True\n",
      "      ('HO', 'Natural Gas', 0, 18) :   0.0 :           0*P_m[HO,Grid,0,0,18] + 0*P_m[HO,PEM,0,0,18] + 0*P_m[HO,PV,0,0,18] - P_m[HO,SMR,0,0,18] - P_m[HO,SMRCCS,0,0,18] + 0*P_m[HO,WF,0,0,18] + C[HO,Natural Gas,0,18] :   0.0 :   True\n",
      "      ('HO', 'Natural Gas', 0, 19) :   0.0 :           0*P_m[HO,Grid,0,0,19] + 0*P_m[HO,PEM,0,0,19] + 0*P_m[HO,PV,0,0,19] - P_m[HO,SMR,0,0,19] - P_m[HO,SMRCCS,0,0,19] + 0*P_m[HO,WF,0,0,19] + C[HO,Natural Gas,0,19] :   0.0 :   True\n",
      "      ('HO', 'Natural Gas', 0, 20) :   0.0 :           0*P_m[HO,Grid,0,0,20] + 0*P_m[HO,PEM,0,0,20] + 0*P_m[HO,PV,0,0,20] - P_m[HO,SMR,0,0,20] - P_m[HO,SMRCCS,0,0,20] + 0*P_m[HO,WF,0,0,20] + C[HO,Natural Gas,0,20] :   0.0 :   True\n",
      "      ('HO', 'Natural Gas', 0, 21) :   0.0 :           0*P_m[HO,Grid,0,0,21] + 0*P_m[HO,PEM,0,0,21] + 0*P_m[HO,PV,0,0,21] - P_m[HO,SMR,0,0,21] - P_m[HO,SMRCCS,0,0,21] + 0*P_m[HO,WF,0,0,21] + C[HO,Natural Gas,0,21] :   0.0 :   True\n",
      "      ('HO', 'Natural Gas', 0, 22) :   0.0 :           0*P_m[HO,Grid,0,0,22] + 0*P_m[HO,PEM,0,0,22] + 0*P_m[HO,PV,0,0,22] - P_m[HO,SMR,0,0,22] - P_m[HO,SMRCCS,0,0,22] + 0*P_m[HO,WF,0,0,22] + C[HO,Natural Gas,0,22] :   0.0 :   True\n",
      "      ('HO', 'Natural Gas', 0, 23) :   0.0 :           0*P_m[HO,Grid,0,0,23] + 0*P_m[HO,PEM,0,0,23] + 0*P_m[HO,PV,0,0,23] - P_m[HO,SMR,0,0,23] - P_m[HO,SMRCCS,0,0,23] + 0*P_m[HO,WF,0,0,23] + C[HO,Natural Gas,0,23] :   0.0 :   True\n",
      "             ('HO', 'Power', 0, 0) :   0.0 :                                                P_m[HO,Grid,0,0,0] - 3*P_m[HO,PEM,0,0,0] + P_m[HO,PV,0,0,0] - P_m[HO,SMR,0,0,0] - P_m[HO,SMRCCS,0,0,0] + P_m[HO,WF,0,0,0] :   0.0 :   True\n",
      "             ('HO', 'Power', 0, 1) :   0.0 :                                                P_m[HO,Grid,0,0,1] - 3*P_m[HO,PEM,0,0,1] + P_m[HO,PV,0,0,1] - P_m[HO,SMR,0,0,1] - P_m[HO,SMRCCS,0,0,1] + P_m[HO,WF,0,0,1] :   0.0 :   True\n",
      "             ('HO', 'Power', 0, 2) :   0.0 :                                                P_m[HO,Grid,0,0,2] - 3*P_m[HO,PEM,0,0,2] + P_m[HO,PV,0,0,2] - P_m[HO,SMR,0,0,2] - P_m[HO,SMRCCS,0,0,2] + P_m[HO,WF,0,0,2] :   0.0 :   True\n",
      "             ('HO', 'Power', 0, 3) :   0.0 :                                                P_m[HO,Grid,0,0,3] - 3*P_m[HO,PEM,0,0,3] + P_m[HO,PV,0,0,3] - P_m[HO,SMR,0,0,3] - P_m[HO,SMRCCS,0,0,3] + P_m[HO,WF,0,0,3] :   0.0 :   True\n",
      "             ('HO', 'Power', 0, 4) :   0.0 :                                                P_m[HO,Grid,0,0,4] - 3*P_m[HO,PEM,0,0,4] + P_m[HO,PV,0,0,4] - P_m[HO,SMR,0,0,4] - P_m[HO,SMRCCS,0,0,4] + P_m[HO,WF,0,0,4] :   0.0 :   True\n",
      "             ('HO', 'Power', 0, 5) :   0.0 :                                                P_m[HO,Grid,0,0,5] - 3*P_m[HO,PEM,0,0,5] + P_m[HO,PV,0,0,5] - P_m[HO,SMR,0,0,5] - P_m[HO,SMRCCS,0,0,5] + P_m[HO,WF,0,0,5] :   0.0 :   True\n",
      "             ('HO', 'Power', 0, 6) :   0.0 :                                                P_m[HO,Grid,0,0,6] - 3*P_m[HO,PEM,0,0,6] + P_m[HO,PV,0,0,6] - P_m[HO,SMR,0,0,6] - P_m[HO,SMRCCS,0,0,6] + P_m[HO,WF,0,0,6] :   0.0 :   True\n",
      "             ('HO', 'Power', 0, 7) :   0.0 :                                                P_m[HO,Grid,0,0,7] - 3*P_m[HO,PEM,0,0,7] + P_m[HO,PV,0,0,7] - P_m[HO,SMR,0,0,7] - P_m[HO,SMRCCS,0,0,7] + P_m[HO,WF,0,0,7] :   0.0 :   True\n",
      "             ('HO', 'Power', 0, 8) :   0.0 :                                                P_m[HO,Grid,0,0,8] - 3*P_m[HO,PEM,0,0,8] + P_m[HO,PV,0,0,8] - P_m[HO,SMR,0,0,8] - P_m[HO,SMRCCS,0,0,8] + P_m[HO,WF,0,0,8] :   0.0 :   True\n",
      "             ('HO', 'Power', 0, 9) :   0.0 :                                                P_m[HO,Grid,0,0,9] - 3*P_m[HO,PEM,0,0,9] + P_m[HO,PV,0,0,9] - P_m[HO,SMR,0,0,9] - P_m[HO,SMRCCS,0,0,9] + P_m[HO,WF,0,0,9] :   0.0 :   True\n",
      "            ('HO', 'Power', 0, 10) :   0.0 :                                          P_m[HO,Grid,0,0,10] - 3*P_m[HO,PEM,0,0,10] + P_m[HO,PV,0,0,10] - P_m[HO,SMR,0,0,10] - P_m[HO,SMRCCS,0,0,10] + P_m[HO,WF,0,0,10] :   0.0 :   True\n",
      "            ('HO', 'Power', 0, 11) :   0.0 :                                          P_m[HO,Grid,0,0,11] - 3*P_m[HO,PEM,0,0,11] + P_m[HO,PV,0,0,11] - P_m[HO,SMR,0,0,11] - P_m[HO,SMRCCS,0,0,11] + P_m[HO,WF,0,0,11] :   0.0 :   True\n",
      "            ('HO', 'Power', 0, 12) :   0.0 :                                          P_m[HO,Grid,0,0,12] - 3*P_m[HO,PEM,0,0,12] + P_m[HO,PV,0,0,12] - P_m[HO,SMR,0,0,12] - P_m[HO,SMRCCS,0,0,12] + P_m[HO,WF,0,0,12] :   0.0 :   True\n",
      "            ('HO', 'Power', 0, 13) :   0.0 :                                          P_m[HO,Grid,0,0,13] - 3*P_m[HO,PEM,0,0,13] + P_m[HO,PV,0,0,13] - P_m[HO,SMR,0,0,13] - P_m[HO,SMRCCS,0,0,13] + P_m[HO,WF,0,0,13] :   0.0 :   True\n",
      "            ('HO', 'Power', 0, 14) :   0.0 :                                          P_m[HO,Grid,0,0,14] - 3*P_m[HO,PEM,0,0,14] + P_m[HO,PV,0,0,14] - P_m[HO,SMR,0,0,14] - P_m[HO,SMRCCS,0,0,14] + P_m[HO,WF,0,0,14] :   0.0 :   True\n",
      "            ('HO', 'Power', 0, 15) :   0.0 :                                          P_m[HO,Grid,0,0,15] - 3*P_m[HO,PEM,0,0,15] + P_m[HO,PV,0,0,15] - P_m[HO,SMR,0,0,15] - P_m[HO,SMRCCS,0,0,15] + P_m[HO,WF,0,0,15] :   0.0 :   True\n",
      "            ('HO', 'Power', 0, 16) :   0.0 :                                          P_m[HO,Grid,0,0,16] - 3*P_m[HO,PEM,0,0,16] + P_m[HO,PV,0,0,16] - P_m[HO,SMR,0,0,16] - P_m[HO,SMRCCS,0,0,16] + P_m[HO,WF,0,0,16] :   0.0 :   True\n",
      "            ('HO', 'Power', 0, 17) :   0.0 :                                          P_m[HO,Grid,0,0,17] - 3*P_m[HO,PEM,0,0,17] + P_m[HO,PV,0,0,17] - P_m[HO,SMR,0,0,17] - P_m[HO,SMRCCS,0,0,17] + P_m[HO,WF,0,0,17] :   0.0 :   True\n",
      "            ('HO', 'Power', 0, 18) :   0.0 :                                          P_m[HO,Grid,0,0,18] - 3*P_m[HO,PEM,0,0,18] + P_m[HO,PV,0,0,18] - P_m[HO,SMR,0,0,18] - P_m[HO,SMRCCS,0,0,18] + P_m[HO,WF,0,0,18] :   0.0 :   True\n",
      "            ('HO', 'Power', 0, 19) :   0.0 :                                          P_m[HO,Grid,0,0,19] - 3*P_m[HO,PEM,0,0,19] + P_m[HO,PV,0,0,19] - P_m[HO,SMR,0,0,19] - P_m[HO,SMRCCS,0,0,19] + P_m[HO,WF,0,0,19] :   0.0 :   True\n",
      "            ('HO', 'Power', 0, 20) :   0.0 :                                          P_m[HO,Grid,0,0,20] - 3*P_m[HO,PEM,0,0,20] + P_m[HO,PV,0,0,20] - P_m[HO,SMR,0,0,20] - P_m[HO,SMRCCS,0,0,20] + P_m[HO,WF,0,0,20] :   0.0 :   True\n",
      "            ('HO', 'Power', 0, 21) :   0.0 :                                          P_m[HO,Grid,0,0,21] - 3*P_m[HO,PEM,0,0,21] + P_m[HO,PV,0,0,21] - P_m[HO,SMR,0,0,21] - P_m[HO,SMRCCS,0,0,21] + P_m[HO,WF,0,0,21] :   0.0 :   True\n",
      "            ('HO', 'Power', 0, 22) :   0.0 :                                          P_m[HO,Grid,0,0,22] - 3*P_m[HO,PEM,0,0,22] + P_m[HO,PV,0,0,22] - P_m[HO,SMR,0,0,22] - P_m[HO,SMRCCS,0,0,22] + P_m[HO,WF,0,0,22] :   0.0 :   True\n",
      "            ('HO', 'Power', 0, 23) :   0.0 :                                          P_m[HO,Grid,0,0,23] - 3*P_m[HO,PEM,0,0,23] + P_m[HO,PV,0,0,23] - P_m[HO,SMR,0,0,23] - P_m[HO,SMRCCS,0,0,23] + P_m[HO,WF,0,0,23] :   0.0 :   True\n",
      "     ('HO', 'Pure Hydrogen', 0, 0) :   0.0 :                  0*P_m[HO,Grid,0,0,0] + P_m[HO,PEM,0,0,0] + 0*P_m[HO,PV,0,0,0] + P_m[HO,SMR,0,0,0] + P_m[HO,SMRCCS,0,0,0] + 0*P_m[HO,WF,0,0,0] - S[HO,Pure Hydrogen,0,0] :   0.0 :   True\n",
      "     ('HO', 'Pure Hydrogen', 0, 1) :   0.0 :                  0*P_m[HO,Grid,0,0,1] + P_m[HO,PEM,0,0,1] + 0*P_m[HO,PV,0,0,1] + P_m[HO,SMR,0,0,1] + P_m[HO,SMRCCS,0,0,1] + 0*P_m[HO,WF,0,0,1] - S[HO,Pure Hydrogen,0,1] :   0.0 :   True\n",
      "     ('HO', 'Pure Hydrogen', 0, 2) :   0.0 :                  0*P_m[HO,Grid,0,0,2] + P_m[HO,PEM,0,0,2] + 0*P_m[HO,PV,0,0,2] + P_m[HO,SMR,0,0,2] + P_m[HO,SMRCCS,0,0,2] + 0*P_m[HO,WF,0,0,2] - S[HO,Pure Hydrogen,0,2] :   0.0 :   True\n",
      "     ('HO', 'Pure Hydrogen', 0, 3) :   0.0 :                  0*P_m[HO,Grid,0,0,3] + P_m[HO,PEM,0,0,3] + 0*P_m[HO,PV,0,0,3] + P_m[HO,SMR,0,0,3] + P_m[HO,SMRCCS,0,0,3] + 0*P_m[HO,WF,0,0,3] - S[HO,Pure Hydrogen,0,3] :   0.0 :   True\n",
      "     ('HO', 'Pure Hydrogen', 0, 4) :   0.0 :                  0*P_m[HO,Grid,0,0,4] + P_m[HO,PEM,0,0,4] + 0*P_m[HO,PV,0,0,4] + P_m[HO,SMR,0,0,4] + P_m[HO,SMRCCS,0,0,4] + 0*P_m[HO,WF,0,0,4] - S[HO,Pure Hydrogen,0,4] :   0.0 :   True\n",
      "     ('HO', 'Pure Hydrogen', 0, 5) :   0.0 :                  0*P_m[HO,Grid,0,0,5] + P_m[HO,PEM,0,0,5] + 0*P_m[HO,PV,0,0,5] + P_m[HO,SMR,0,0,5] + P_m[HO,SMRCCS,0,0,5] + 0*P_m[HO,WF,0,0,5] - S[HO,Pure Hydrogen,0,5] :   0.0 :   True\n",
      "     ('HO', 'Pure Hydrogen', 0, 6) :   0.0 :                  0*P_m[HO,Grid,0,0,6] + P_m[HO,PEM,0,0,6] + 0*P_m[HO,PV,0,0,6] + P_m[HO,SMR,0,0,6] + P_m[HO,SMRCCS,0,0,6] + 0*P_m[HO,WF,0,0,6] - S[HO,Pure Hydrogen,0,6] :   0.0 :   True\n",
      "     ('HO', 'Pure Hydrogen', 0, 7) :   0.0 :                  0*P_m[HO,Grid,0,0,7] + P_m[HO,PEM,0,0,7] + 0*P_m[HO,PV,0,0,7] + P_m[HO,SMR,0,0,7] + P_m[HO,SMRCCS,0,0,7] + 0*P_m[HO,WF,0,0,7] - S[HO,Pure Hydrogen,0,7] :   0.0 :   True\n",
      "     ('HO', 'Pure Hydrogen', 0, 8) :   0.0 :                  0*P_m[HO,Grid,0,0,8] + P_m[HO,PEM,0,0,8] + 0*P_m[HO,PV,0,0,8] + P_m[HO,SMR,0,0,8] + P_m[HO,SMRCCS,0,0,8] + 0*P_m[HO,WF,0,0,8] - S[HO,Pure Hydrogen,0,8] :   0.0 :   True\n",
      "     ('HO', 'Pure Hydrogen', 0, 9) :   0.0 :                  0*P_m[HO,Grid,0,0,9] + P_m[HO,PEM,0,0,9] + 0*P_m[HO,PV,0,0,9] + P_m[HO,SMR,0,0,9] + P_m[HO,SMRCCS,0,0,9] + 0*P_m[HO,WF,0,0,9] - S[HO,Pure Hydrogen,0,9] :   0.0 :   True\n",
      "    ('HO', 'Pure Hydrogen', 0, 10) :   0.0 :           0*P_m[HO,Grid,0,0,10] + P_m[HO,PEM,0,0,10] + 0*P_m[HO,PV,0,0,10] + P_m[HO,SMR,0,0,10] + P_m[HO,SMRCCS,0,0,10] + 0*P_m[HO,WF,0,0,10] - S[HO,Pure Hydrogen,0,10] :   0.0 :   True\n",
      "    ('HO', 'Pure Hydrogen', 0, 11) :   0.0 :           0*P_m[HO,Grid,0,0,11] + P_m[HO,PEM,0,0,11] + 0*P_m[HO,PV,0,0,11] + P_m[HO,SMR,0,0,11] + P_m[HO,SMRCCS,0,0,11] + 0*P_m[HO,WF,0,0,11] - S[HO,Pure Hydrogen,0,11] :   0.0 :   True\n",
      "    ('HO', 'Pure Hydrogen', 0, 12) :   0.0 :           0*P_m[HO,Grid,0,0,12] + P_m[HO,PEM,0,0,12] + 0*P_m[HO,PV,0,0,12] + P_m[HO,SMR,0,0,12] + P_m[HO,SMRCCS,0,0,12] + 0*P_m[HO,WF,0,0,12] - S[HO,Pure Hydrogen,0,12] :   0.0 :   True\n",
      "    ('HO', 'Pure Hydrogen', 0, 13) :   0.0 :           0*P_m[HO,Grid,0,0,13] + P_m[HO,PEM,0,0,13] + 0*P_m[HO,PV,0,0,13] + P_m[HO,SMR,0,0,13] + P_m[HO,SMRCCS,0,0,13] + 0*P_m[HO,WF,0,0,13] - S[HO,Pure Hydrogen,0,13] :   0.0 :   True\n",
      "    ('HO', 'Pure Hydrogen', 0, 14) :   0.0 :           0*P_m[HO,Grid,0,0,14] + P_m[HO,PEM,0,0,14] + 0*P_m[HO,PV,0,0,14] + P_m[HO,SMR,0,0,14] + P_m[HO,SMRCCS,0,0,14] + 0*P_m[HO,WF,0,0,14] - S[HO,Pure Hydrogen,0,14] :   0.0 :   True\n",
      "    ('HO', 'Pure Hydrogen', 0, 15) :   0.0 :           0*P_m[HO,Grid,0,0,15] + P_m[HO,PEM,0,0,15] + 0*P_m[HO,PV,0,0,15] + P_m[HO,SMR,0,0,15] + P_m[HO,SMRCCS,0,0,15] + 0*P_m[HO,WF,0,0,15] - S[HO,Pure Hydrogen,0,15] :   0.0 :   True\n",
      "    ('HO', 'Pure Hydrogen', 0, 16) :   0.0 :           0*P_m[HO,Grid,0,0,16] + P_m[HO,PEM,0,0,16] + 0*P_m[HO,PV,0,0,16] + P_m[HO,SMR,0,0,16] + P_m[HO,SMRCCS,0,0,16] + 0*P_m[HO,WF,0,0,16] - S[HO,Pure Hydrogen,0,16] :   0.0 :   True\n",
      "    ('HO', 'Pure Hydrogen', 0, 17) :   0.0 :           0*P_m[HO,Grid,0,0,17] + P_m[HO,PEM,0,0,17] + 0*P_m[HO,PV,0,0,17] + P_m[HO,SMR,0,0,17] + P_m[HO,SMRCCS,0,0,17] + 0*P_m[HO,WF,0,0,17] - S[HO,Pure Hydrogen,0,17] :   0.0 :   True\n",
      "    ('HO', 'Pure Hydrogen', 0, 18) :   0.0 :           0*P_m[HO,Grid,0,0,18] + P_m[HO,PEM,0,0,18] + 0*P_m[HO,PV,0,0,18] + P_m[HO,SMR,0,0,18] + P_m[HO,SMRCCS,0,0,18] + 0*P_m[HO,WF,0,0,18] - S[HO,Pure Hydrogen,0,18] :   0.0 :   True\n",
      "    ('HO', 'Pure Hydrogen', 0, 19) :   0.0 :           0*P_m[HO,Grid,0,0,19] + P_m[HO,PEM,0,0,19] + 0*P_m[HO,PV,0,0,19] + P_m[HO,SMR,0,0,19] + P_m[HO,SMRCCS,0,0,19] + 0*P_m[HO,WF,0,0,19] - S[HO,Pure Hydrogen,0,19] :   0.0 :   True\n",
      "    ('HO', 'Pure Hydrogen', 0, 20) :   0.0 :           0*P_m[HO,Grid,0,0,20] + P_m[HO,PEM,0,0,20] + 0*P_m[HO,PV,0,0,20] + P_m[HO,SMR,0,0,20] + P_m[HO,SMRCCS,0,0,20] + 0*P_m[HO,WF,0,0,20] - S[HO,Pure Hydrogen,0,20] :   0.0 :   True\n",
      "    ('HO', 'Pure Hydrogen', 0, 21) :   0.0 :           0*P_m[HO,Grid,0,0,21] + P_m[HO,PEM,0,0,21] + 0*P_m[HO,PV,0,0,21] + P_m[HO,SMR,0,0,21] + P_m[HO,SMRCCS,0,0,21] + 0*P_m[HO,WF,0,0,21] - S[HO,Pure Hydrogen,0,21] :   0.0 :   True\n",
      "    ('HO', 'Pure Hydrogen', 0, 22) :   0.0 :           0*P_m[HO,Grid,0,0,22] + P_m[HO,PEM,0,0,22] + 0*P_m[HO,PV,0,0,22] + P_m[HO,SMR,0,0,22] + P_m[HO,SMRCCS,0,0,22] + 0*P_m[HO,WF,0,0,22] - S[HO,Pure Hydrogen,0,22] :   0.0 :   True\n",
      "    ('HO', 'Pure Hydrogen', 0, 23) :   0.0 :           0*P_m[HO,Grid,0,0,23] + P_m[HO,PEM,0,0,23] + 0*P_m[HO,PV,0,0,23] + P_m[HO,SMR,0,0,23] + P_m[HO,SMRCCS,0,0,23] + 0*P_m[HO,WF,0,0,23] - S[HO,Pure Hydrogen,0,23] :   0.0 :   True\n",
      "             ('HO', 'Solar', 0, 0) :   0.0 :                      0*P_m[HO,Grid,0,0,0] + 0*P_m[HO,PEM,0,0,0] - P_m[HO,PV,0,0,0] + 0*P_m[HO,SMR,0,0,0] + 0*P_m[HO,SMRCCS,0,0,0] + 0*P_m[HO,WF,0,0,0] + C[HO,Solar,0,0] :   0.0 :   True\n",
      "             ('HO', 'Solar', 0, 1) :   0.0 :                      0*P_m[HO,Grid,0,0,1] + 0*P_m[HO,PEM,0,0,1] - P_m[HO,PV,0,0,1] + 0*P_m[HO,SMR,0,0,1] + 0*P_m[HO,SMRCCS,0,0,1] + 0*P_m[HO,WF,0,0,1] + C[HO,Solar,0,1] :   0.0 :   True\n",
      "             ('HO', 'Solar', 0, 2) :   0.0 :                      0*P_m[HO,Grid,0,0,2] + 0*P_m[HO,PEM,0,0,2] - P_m[HO,PV,0,0,2] + 0*P_m[HO,SMR,0,0,2] + 0*P_m[HO,SMRCCS,0,0,2] + 0*P_m[HO,WF,0,0,2] + C[HO,Solar,0,2] :   0.0 :   True\n",
      "             ('HO', 'Solar', 0, 3) :   0.0 :                      0*P_m[HO,Grid,0,0,3] + 0*P_m[HO,PEM,0,0,3] - P_m[HO,PV,0,0,3] + 0*P_m[HO,SMR,0,0,3] + 0*P_m[HO,SMRCCS,0,0,3] + 0*P_m[HO,WF,0,0,3] + C[HO,Solar,0,3] :   0.0 :   True\n",
      "             ('HO', 'Solar', 0, 4) :   0.0 :                      0*P_m[HO,Grid,0,0,4] + 0*P_m[HO,PEM,0,0,4] - P_m[HO,PV,0,0,4] + 0*P_m[HO,SMR,0,0,4] + 0*P_m[HO,SMRCCS,0,0,4] + 0*P_m[HO,WF,0,0,4] + C[HO,Solar,0,4] :   0.0 :   True\n",
      "             ('HO', 'Solar', 0, 5) :   0.0 :                      0*P_m[HO,Grid,0,0,5] + 0*P_m[HO,PEM,0,0,5] - P_m[HO,PV,0,0,5] + 0*P_m[HO,SMR,0,0,5] + 0*P_m[HO,SMRCCS,0,0,5] + 0*P_m[HO,WF,0,0,5] + C[HO,Solar,0,5] :   0.0 :   True\n",
      "             ('HO', 'Solar', 0, 6) :   0.0 :                      0*P_m[HO,Grid,0,0,6] + 0*P_m[HO,PEM,0,0,6] - P_m[HO,PV,0,0,6] + 0*P_m[HO,SMR,0,0,6] + 0*P_m[HO,SMRCCS,0,0,6] + 0*P_m[HO,WF,0,0,6] + C[HO,Solar,0,6] :   0.0 :   True\n",
      "             ('HO', 'Solar', 0, 7) :   0.0 :                      0*P_m[HO,Grid,0,0,7] + 0*P_m[HO,PEM,0,0,7] - P_m[HO,PV,0,0,7] + 0*P_m[HO,SMR,0,0,7] + 0*P_m[HO,SMRCCS,0,0,7] + 0*P_m[HO,WF,0,0,7] + C[HO,Solar,0,7] :   0.0 :   True\n",
      "             ('HO', 'Solar', 0, 8) :   0.0 :                      0*P_m[HO,Grid,0,0,8] + 0*P_m[HO,PEM,0,0,8] - P_m[HO,PV,0,0,8] + 0*P_m[HO,SMR,0,0,8] + 0*P_m[HO,SMRCCS,0,0,8] + 0*P_m[HO,WF,0,0,8] + C[HO,Solar,0,8] :   0.0 :   True\n",
      "             ('HO', 'Solar', 0, 9) :   0.0 :                      0*P_m[HO,Grid,0,0,9] + 0*P_m[HO,PEM,0,0,9] - P_m[HO,PV,0,0,9] + 0*P_m[HO,SMR,0,0,9] + 0*P_m[HO,SMRCCS,0,0,9] + 0*P_m[HO,WF,0,0,9] + C[HO,Solar,0,9] :   0.0 :   True\n",
      "            ('HO', 'Solar', 0, 10) :   0.0 :               0*P_m[HO,Grid,0,0,10] + 0*P_m[HO,PEM,0,0,10] - P_m[HO,PV,0,0,10] + 0*P_m[HO,SMR,0,0,10] + 0*P_m[HO,SMRCCS,0,0,10] + 0*P_m[HO,WF,0,0,10] + C[HO,Solar,0,10] :   0.0 :   True\n",
      "            ('HO', 'Solar', 0, 11) :   0.0 :               0*P_m[HO,Grid,0,0,11] + 0*P_m[HO,PEM,0,0,11] - P_m[HO,PV,0,0,11] + 0*P_m[HO,SMR,0,0,11] + 0*P_m[HO,SMRCCS,0,0,11] + 0*P_m[HO,WF,0,0,11] + C[HO,Solar,0,11] :   0.0 :   True\n",
      "            ('HO', 'Solar', 0, 12) :   0.0 :               0*P_m[HO,Grid,0,0,12] + 0*P_m[HO,PEM,0,0,12] - P_m[HO,PV,0,0,12] + 0*P_m[HO,SMR,0,0,12] + 0*P_m[HO,SMRCCS,0,0,12] + 0*P_m[HO,WF,0,0,12] + C[HO,Solar,0,12] :   0.0 :   True\n",
      "            ('HO', 'Solar', 0, 13) :   0.0 :               0*P_m[HO,Grid,0,0,13] + 0*P_m[HO,PEM,0,0,13] - P_m[HO,PV,0,0,13] + 0*P_m[HO,SMR,0,0,13] + 0*P_m[HO,SMRCCS,0,0,13] + 0*P_m[HO,WF,0,0,13] + C[HO,Solar,0,13] :   0.0 :   True\n",
      "            ('HO', 'Solar', 0, 14) :   0.0 :               0*P_m[HO,Grid,0,0,14] + 0*P_m[HO,PEM,0,0,14] - P_m[HO,PV,0,0,14] + 0*P_m[HO,SMR,0,0,14] + 0*P_m[HO,SMRCCS,0,0,14] + 0*P_m[HO,WF,0,0,14] + C[HO,Solar,0,14] :   0.0 :   True\n",
      "            ('HO', 'Solar', 0, 15) :   0.0 :               0*P_m[HO,Grid,0,0,15] + 0*P_m[HO,PEM,0,0,15] - P_m[HO,PV,0,0,15] + 0*P_m[HO,SMR,0,0,15] + 0*P_m[HO,SMRCCS,0,0,15] + 0*P_m[HO,WF,0,0,15] + C[HO,Solar,0,15] :   0.0 :   True\n",
      "            ('HO', 'Solar', 0, 16) :   0.0 :               0*P_m[HO,Grid,0,0,16] + 0*P_m[HO,PEM,0,0,16] - P_m[HO,PV,0,0,16] + 0*P_m[HO,SMR,0,0,16] + 0*P_m[HO,SMRCCS,0,0,16] + 0*P_m[HO,WF,0,0,16] + C[HO,Solar,0,16] :   0.0 :   True\n",
      "            ('HO', 'Solar', 0, 17) :   0.0 :               0*P_m[HO,Grid,0,0,17] + 0*P_m[HO,PEM,0,0,17] - P_m[HO,PV,0,0,17] + 0*P_m[HO,SMR,0,0,17] + 0*P_m[HO,SMRCCS,0,0,17] + 0*P_m[HO,WF,0,0,17] + C[HO,Solar,0,17] :   0.0 :   True\n",
      "            ('HO', 'Solar', 0, 18) :   0.0 :               0*P_m[HO,Grid,0,0,18] + 0*P_m[HO,PEM,0,0,18] - P_m[HO,PV,0,0,18] + 0*P_m[HO,SMR,0,0,18] + 0*P_m[HO,SMRCCS,0,0,18] + 0*P_m[HO,WF,0,0,18] + C[HO,Solar,0,18] :   0.0 :   True\n",
      "            ('HO', 'Solar', 0, 19) :   0.0 :               0*P_m[HO,Grid,0,0,19] + 0*P_m[HO,PEM,0,0,19] - P_m[HO,PV,0,0,19] + 0*P_m[HO,SMR,0,0,19] + 0*P_m[HO,SMRCCS,0,0,19] + 0*P_m[HO,WF,0,0,19] + C[HO,Solar,0,19] :   0.0 :   True\n",
      "            ('HO', 'Solar', 0, 20) :   0.0 :               0*P_m[HO,Grid,0,0,20] + 0*P_m[HO,PEM,0,0,20] - P_m[HO,PV,0,0,20] + 0*P_m[HO,SMR,0,0,20] + 0*P_m[HO,SMRCCS,0,0,20] + 0*P_m[HO,WF,0,0,20] + C[HO,Solar,0,20] :   0.0 :   True\n",
      "            ('HO', 'Solar', 0, 21) :   0.0 :               0*P_m[HO,Grid,0,0,21] + 0*P_m[HO,PEM,0,0,21] - P_m[HO,PV,0,0,21] + 0*P_m[HO,SMR,0,0,21] + 0*P_m[HO,SMRCCS,0,0,21] + 0*P_m[HO,WF,0,0,21] + C[HO,Solar,0,21] :   0.0 :   True\n",
      "            ('HO', 'Solar', 0, 22) :   0.0 :               0*P_m[HO,Grid,0,0,22] + 0*P_m[HO,PEM,0,0,22] - P_m[HO,PV,0,0,22] + 0*P_m[HO,SMR,0,0,22] + 0*P_m[HO,SMRCCS,0,0,22] + 0*P_m[HO,WF,0,0,22] + C[HO,Solar,0,22] :   0.0 :   True\n",
      "            ('HO', 'Solar', 0, 23) :   0.0 :               0*P_m[HO,Grid,0,0,23] + 0*P_m[HO,PEM,0,0,23] - P_m[HO,PV,0,0,23] + 0*P_m[HO,SMR,0,0,23] + 0*P_m[HO,SMRCCS,0,0,23] + 0*P_m[HO,WF,0,0,23] + C[HO,Solar,0,23] :   0.0 :   True\n",
      "              ('HO', 'Wind', 0, 0) :   0.0 :                       0*P_m[HO,Grid,0,0,0] + 0*P_m[HO,PEM,0,0,0] + 0*P_m[HO,PV,0,0,0] + 0*P_m[HO,SMR,0,0,0] + 0*P_m[HO,SMRCCS,0,0,0] - P_m[HO,WF,0,0,0] + C[HO,Wind,0,0] :   0.0 :   True\n",
      "              ('HO', 'Wind', 0, 1) :   0.0 :                       0*P_m[HO,Grid,0,0,1] + 0*P_m[HO,PEM,0,0,1] + 0*P_m[HO,PV,0,0,1] + 0*P_m[HO,SMR,0,0,1] + 0*P_m[HO,SMRCCS,0,0,1] - P_m[HO,WF,0,0,1] + C[HO,Wind,0,1] :   0.0 :   True\n",
      "              ('HO', 'Wind', 0, 2) :   0.0 :                       0*P_m[HO,Grid,0,0,2] + 0*P_m[HO,PEM,0,0,2] + 0*P_m[HO,PV,0,0,2] + 0*P_m[HO,SMR,0,0,2] + 0*P_m[HO,SMRCCS,0,0,2] - P_m[HO,WF,0,0,2] + C[HO,Wind,0,2] :   0.0 :   True\n",
      "              ('HO', 'Wind', 0, 3) :   0.0 :                       0*P_m[HO,Grid,0,0,3] + 0*P_m[HO,PEM,0,0,3] + 0*P_m[HO,PV,0,0,3] + 0*P_m[HO,SMR,0,0,3] + 0*P_m[HO,SMRCCS,0,0,3] - P_m[HO,WF,0,0,3] + C[HO,Wind,0,3] :   0.0 :   True\n",
      "              ('HO', 'Wind', 0, 4) :   0.0 :                       0*P_m[HO,Grid,0,0,4] + 0*P_m[HO,PEM,0,0,4] + 0*P_m[HO,PV,0,0,4] + 0*P_m[HO,SMR,0,0,4] + 0*P_m[HO,SMRCCS,0,0,4] - P_m[HO,WF,0,0,4] + C[HO,Wind,0,4] :   0.0 :   True\n",
      "              ('HO', 'Wind', 0, 5) :   0.0 :                       0*P_m[HO,Grid,0,0,5] + 0*P_m[HO,PEM,0,0,5] + 0*P_m[HO,PV,0,0,5] + 0*P_m[HO,SMR,0,0,5] + 0*P_m[HO,SMRCCS,0,0,5] - P_m[HO,WF,0,0,5] + C[HO,Wind,0,5] :   0.0 :   True\n",
      "              ('HO', 'Wind', 0, 6) :   0.0 :                       0*P_m[HO,Grid,0,0,6] + 0*P_m[HO,PEM,0,0,6] + 0*P_m[HO,PV,0,0,6] + 0*P_m[HO,SMR,0,0,6] + 0*P_m[HO,SMRCCS,0,0,6] - P_m[HO,WF,0,0,6] + C[HO,Wind,0,6] :   0.0 :   True\n",
      "              ('HO', 'Wind', 0, 7) :   0.0 :                       0*P_m[HO,Grid,0,0,7] + 0*P_m[HO,PEM,0,0,7] + 0*P_m[HO,PV,0,0,7] + 0*P_m[HO,SMR,0,0,7] + 0*P_m[HO,SMRCCS,0,0,7] - P_m[HO,WF,0,0,7] + C[HO,Wind,0,7] :   0.0 :   True\n",
      "              ('HO', 'Wind', 0, 8) :   0.0 :                       0*P_m[HO,Grid,0,0,8] + 0*P_m[HO,PEM,0,0,8] + 0*P_m[HO,PV,0,0,8] + 0*P_m[HO,SMR,0,0,8] + 0*P_m[HO,SMRCCS,0,0,8] - P_m[HO,WF,0,0,8] + C[HO,Wind,0,8] :   0.0 :   True\n",
      "              ('HO', 'Wind', 0, 9) :   0.0 :                       0*P_m[HO,Grid,0,0,9] + 0*P_m[HO,PEM,0,0,9] + 0*P_m[HO,PV,0,0,9] + 0*P_m[HO,SMR,0,0,9] + 0*P_m[HO,SMRCCS,0,0,9] - P_m[HO,WF,0,0,9] + C[HO,Wind,0,9] :   0.0 :   True\n",
      "             ('HO', 'Wind', 0, 10) :   0.0 :                0*P_m[HO,Grid,0,0,10] + 0*P_m[HO,PEM,0,0,10] + 0*P_m[HO,PV,0,0,10] + 0*P_m[HO,SMR,0,0,10] + 0*P_m[HO,SMRCCS,0,0,10] - P_m[HO,WF,0,0,10] + C[HO,Wind,0,10] :   0.0 :   True\n",
      "             ('HO', 'Wind', 0, 11) :   0.0 :                0*P_m[HO,Grid,0,0,11] + 0*P_m[HO,PEM,0,0,11] + 0*P_m[HO,PV,0,0,11] + 0*P_m[HO,SMR,0,0,11] + 0*P_m[HO,SMRCCS,0,0,11] - P_m[HO,WF,0,0,11] + C[HO,Wind,0,11] :   0.0 :   True\n",
      "             ('HO', 'Wind', 0, 12) :   0.0 :                0*P_m[HO,Grid,0,0,12] + 0*P_m[HO,PEM,0,0,12] + 0*P_m[HO,PV,0,0,12] + 0*P_m[HO,SMR,0,0,12] + 0*P_m[HO,SMRCCS,0,0,12] - P_m[HO,WF,0,0,12] + C[HO,Wind,0,12] :   0.0 :   True\n",
      "             ('HO', 'Wind', 0, 13) :   0.0 :                0*P_m[HO,Grid,0,0,13] + 0*P_m[HO,PEM,0,0,13] + 0*P_m[HO,PV,0,0,13] + 0*P_m[HO,SMR,0,0,13] + 0*P_m[HO,SMRCCS,0,0,13] - P_m[HO,WF,0,0,13] + C[HO,Wind,0,13] :   0.0 :   True\n",
      "             ('HO', 'Wind', 0, 14) :   0.0 :                0*P_m[HO,Grid,0,0,14] + 0*P_m[HO,PEM,0,0,14] + 0*P_m[HO,PV,0,0,14] + 0*P_m[HO,SMR,0,0,14] + 0*P_m[HO,SMRCCS,0,0,14] - P_m[HO,WF,0,0,14] + C[HO,Wind,0,14] :   0.0 :   True\n",
      "             ('HO', 'Wind', 0, 15) :   0.0 :                0*P_m[HO,Grid,0,0,15] + 0*P_m[HO,PEM,0,0,15] + 0*P_m[HO,PV,0,0,15] + 0*P_m[HO,SMR,0,0,15] + 0*P_m[HO,SMRCCS,0,0,15] - P_m[HO,WF,0,0,15] + C[HO,Wind,0,15] :   0.0 :   True\n",
      "             ('HO', 'Wind', 0, 16) :   0.0 :                0*P_m[HO,Grid,0,0,16] + 0*P_m[HO,PEM,0,0,16] + 0*P_m[HO,PV,0,0,16] + 0*P_m[HO,SMR,0,0,16] + 0*P_m[HO,SMRCCS,0,0,16] - P_m[HO,WF,0,0,16] + C[HO,Wind,0,16] :   0.0 :   True\n",
      "             ('HO', 'Wind', 0, 17) :   0.0 :                0*P_m[HO,Grid,0,0,17] + 0*P_m[HO,PEM,0,0,17] + 0*P_m[HO,PV,0,0,17] + 0*P_m[HO,SMR,0,0,17] + 0*P_m[HO,SMRCCS,0,0,17] - P_m[HO,WF,0,0,17] + C[HO,Wind,0,17] :   0.0 :   True\n",
      "             ('HO', 'Wind', 0, 18) :   0.0 :                0*P_m[HO,Grid,0,0,18] + 0*P_m[HO,PEM,0,0,18] + 0*P_m[HO,PV,0,0,18] + 0*P_m[HO,SMR,0,0,18] + 0*P_m[HO,SMRCCS,0,0,18] - P_m[HO,WF,0,0,18] + C[HO,Wind,0,18] :   0.0 :   True\n",
      "             ('HO', 'Wind', 0, 19) :   0.0 :                0*P_m[HO,Grid,0,0,19] + 0*P_m[HO,PEM,0,0,19] + 0*P_m[HO,PV,0,0,19] + 0*P_m[HO,SMR,0,0,19] + 0*P_m[HO,SMRCCS,0,0,19] - P_m[HO,WF,0,0,19] + C[HO,Wind,0,19] :   0.0 :   True\n",
      "             ('HO', 'Wind', 0, 20) :   0.0 :                0*P_m[HO,Grid,0,0,20] + 0*P_m[HO,PEM,0,0,20] + 0*P_m[HO,PV,0,0,20] + 0*P_m[HO,SMR,0,0,20] + 0*P_m[HO,SMRCCS,0,0,20] - P_m[HO,WF,0,0,20] + C[HO,Wind,0,20] :   0.0 :   True\n",
      "             ('HO', 'Wind', 0, 21) :   0.0 :                0*P_m[HO,Grid,0,0,21] + 0*P_m[HO,PEM,0,0,21] + 0*P_m[HO,PV,0,0,21] + 0*P_m[HO,SMR,0,0,21] + 0*P_m[HO,SMRCCS,0,0,21] - P_m[HO,WF,0,0,21] + C[HO,Wind,0,21] :   0.0 :   True\n",
      "             ('HO', 'Wind', 0, 22) :   0.0 :                0*P_m[HO,Grid,0,0,22] + 0*P_m[HO,PEM,0,0,22] + 0*P_m[HO,PV,0,0,22] + 0*P_m[HO,SMR,0,0,22] + 0*P_m[HO,SMRCCS,0,0,22] - P_m[HO,WF,0,0,22] + C[HO,Wind,0,22] :   0.0 :   True\n",
      "             ('HO', 'Wind', 0, 23) :   0.0 :                0*P_m[HO,Grid,0,0,23] + 0*P_m[HO,PEM,0,0,23] + 0*P_m[HO,PV,0,0,23] + 0*P_m[HO,SMR,0,0,23] + 0*P_m[HO,SMRCCS,0,0,23] - P_m[HO,WF,0,0,23] + C[HO,Wind,0,23] :   0.0 :   True\n"
     ]
    }
   ],
   "source": [
    "milp_scope1.constraint_inventory_balance.pprint()"
   ]
  },
  {
   "cell_type": "code",
   "execution_count": 227,
   "metadata": {},
   "outputs": [
    {
     "data": {
      "text/plain": [
       "3000.0"
      ]
     },
     "execution_count": 227,
     "metadata": {},
     "output_type": "execute_result"
    }
   ],
   "source": [
    "results_scope1.output['objective']"
   ]
  },
  {
   "cell_type": "code",
   "execution_count": 230,
   "metadata": {},
   "outputs": [
    {
     "data": {
      "text/plain": [
       "{None: 127643.85999999999}"
      ]
     },
     "execution_count": 230,
     "metadata": {},
     "output_type": "execute_result"
    }
   ],
   "source": [
    "results_scope1.output['Cost']"
   ]
  },
  {
   "cell_type": "code",
   "execution_count": null,
   "metadata": {},
   "outputs": [],
   "source": [
    "# plot_results.cost(results=results_cost, x=CostX.PROCESS_WISE,\n",
    "#                   y=CostY.TOTAL, location='HO', fig_size=(11, 6), )\n",
    "# #plt.rc('xtick', titlesize=8, labelsize=8)\n",
    "# plt.xticks(fontsize=10, rotation=45, ha='right')"
   ]
  },
  {
   "cell_type": "code",
   "execution_count": 229,
   "metadata": {},
   "outputs": [
    {
     "data": {
      "text/plain": [
       "{('HO', 0): 3000.0}"
      ]
     },
     "execution_count": 229,
     "metadata": {},
     "output_type": "execute_result"
    }
   ],
   "source": [
    "results_scope1.output['global_warming_potential_location_scope1']"
   ]
  },
  {
   "cell_type": "code",
   "execution_count": null,
   "metadata": {},
   "outputs": [],
   "source": [
    "results_cost.output['P_network']"
   ]
  },
  {
   "cell_type": "code",
   "execution_count": 232,
   "metadata": {},
   "outputs": [
    {
     "data": {
      "text/plain": [
       "{('HO', 'CO2 to Stack', 0): 600.0,\n",
       " ('HO', 'GridPower', 0): 0.0,\n",
       " ('HO', 'H2O', 0): 0.0,\n",
       " ('HO', 'Natural Gas', 0): 2400.0,\n",
       " ('HO', 'Power', 0): 0.0,\n",
       " ('HO', 'Pure Hydrogen', 0): 0.0,\n",
       " ('HO', 'Solar', 0): 0.0,\n",
       " ('HO', 'Wind', 0): 0.0}"
      ]
     },
     "execution_count": 232,
     "metadata": {},
     "output_type": "execute_result"
    }
   ],
   "source": [
    "results_scope1.output['global_warming_potential_resource_scope1']"
   ]
  },
  {
   "cell_type": "code",
   "execution_count": 234,
   "metadata": {},
   "outputs": [
    {
     "data": {
      "text/plain": [
       "{('HO', 'Grid', 0): None,\n",
       " ('HO', 'PEM', 0): None,\n",
       " ('HO', 'PV', 0): None,\n",
       " ('HO', 'SMR', 0): None,\n",
       " ('HO', 'SMRCCS', 0): None,\n",
       " ('HO', 'WF', 0): None}"
      ]
     },
     "execution_count": 234,
     "metadata": {},
     "output_type": "execute_result"
    }
   ],
   "source": [
    "results_scope1.output['global_warming_potential_process']"
   ]
  },
  {
   "cell_type": "code",
   "execution_count": null,
   "metadata": {},
   "outputs": [],
   "source": [
    "results_cost.output['X_P']"
   ]
  },
  {
   "cell_type": "code",
   "execution_count": 235,
   "metadata": {},
   "outputs": [
    {
     "name": "stdout",
     "output_type": "stream",
     "text": [
      "constraint process capex\n",
      "constraint process fopex\n",
      "constraint process vopex\n",
      "constraint process incidental\n",
      "constraint storage cost\n",
      "constraint storage cost location\n",
      "constraint storage cost network\n",
      "constraint global warming potential process\n",
      "constraint global warming potential resource\n",
      "constraint global warming potential resource consumption\n",
      "constraint global warming potential resource discharge\n",
      "constraint global warming potential location\n",
      "constraint global warming potential network\n",
      "constraint ozone depletion potential process\n",
      "constraint ozone depletion potential resource\n",
      "constraint ozone depletion potential resource consumption\n",
      "constraint ozone depletion potential resource discharge\n",
      "constraint ozone depletion potential location\n",
      "constraint ozone depletion potential network\n",
      "constraint acidification potential process\n",
      "constraint acidification potential resource\n",
      "constraint acidification potential resource consumption\n",
      "constraint acidification potential resource discharge\n",
      "constraint acidification potential location\n",
      "constraint acidification potential network\n",
      "constraint terrestrial eutrophication potential process\n",
      "constraint terrestrial eutrophication potential resource\n",
      "constraint terrestrial eutrophication potential resource consumption\n",
      "constraint terrestrial eutrophication potential resource discharge\n",
      "constraint terrestrial eutrophication potential location\n",
      "constraint terrestrial eutrophication potential network\n",
      "constraint freshwater eutrophication potential process\n",
      "constraint freshwater eutrophication potential resource\n",
      "constraint freshwater eutrophication potential resource consumption\n",
      "constraint freshwater eutrophication potential resource discharge\n",
      "constraint freshwater eutrophication potential location\n",
      "constraint freshwater eutrophication potential network\n",
      "constraint marine eutrophication potential process\n",
      "constraint marine eutrophication potential resource\n",
      "constraint marine eutrophication potential resource consumption\n",
      "constraint marine eutrophication potential resource discharge\n",
      "constraint marine eutrophication potential location\n",
      "constraint marine eutrophication potential network\n",
      "constraint production mode\n",
      "constraint inventory balance\n",
      "constraint inventory network\n",
      "constraint storage facility\n",
      "constraint production facility\n",
      "constraint min production facility\n",
      "constraint min storage facility\n",
      "constraint demand\n",
      "constraint network cost\n",
      "objective gwp min\n"
     ]
    }
   ],
   "source": [
    "milp_gwp = formulate(scenario=scenario, constraints={Constraints.COST, Constraints.INVENTORY, Constraints.PRODUCTION,\n",
    "                     Constraints.RESOURCE_BALANCE, Constraints.NETWORK, Constraints.DEMAND, Constraints.EMISSION}, objective=Objective.MIN_GWP, demand_sign = 'eq')"
   ]
  },
  {
   "cell_type": "code",
   "execution_count": null,
   "metadata": {},
   "outputs": [],
   "source": [
    "\n",
    "from pyomo.environ import ConstraintList\n",
    "\n",
    "ramping_limit = 3\n",
    "\n",
    "milp_gwp.cons1 = ConstraintList()\n",
    "for i in scales.scale_iter(1):\n",
    "    if i != (0,0):\n",
    "        milp_gwp.cons1.add(expr = milp_gwp.P['HO', 'PEM', *i] - milp_gwp.P['HO', 'PEM', *scales.scale_iter(2)[scales.scale_iter(1).index(i) - 1]] <= ramping_limit)\n"
   ]
  },
  {
   "cell_type": "code",
   "execution_count": null,
   "metadata": {},
   "outputs": [],
   "source": [
    "\n",
    "from pyomo.environ import ConstraintList\n",
    "\n",
    "ramping_limit = 3\n",
    "\n",
    "milp_gwp.cons2 = ConstraintList()\n",
    "for i in scales.scale_iter(1):\n",
    "    if i != (0,0):\n",
    "        milp_gwp.cons2.add(expr = milp_gwp.P['HO', 'SMR', *i] - milp_gwp.P['HO', 'SMR', *scales.scale_iter(2)[scales.scale_iter(1).index(i) - 1]] <= ramping_limit)"
   ]
  },
  {
   "cell_type": "code",
   "execution_count": null,
   "metadata": {},
   "outputs": [],
   "source": [
    "# model.component\n",
    "\n",
    "from pyomo.environ import ConstraintList\n",
    "milp_gwp.cons3 = ConstraintList()\n",
    "for i in scales.scale_iter(2):\n",
    "    milp_gwp.cons3.add(expr = milp_gwp.P['HO', 'SMRCCS', *i] >= 5)"
   ]
  },
  {
   "cell_type": "code",
   "execution_count": null,
   "metadata": {},
   "outputs": [],
   "source": [
    "milp_gwp.constraint_resource_purchase_varying.pprint()"
   ]
  },
  {
   "cell_type": "code",
   "execution_count": 236,
   "metadata": {},
   "outputs": [
    {
     "name": "stdout",
     "output_type": "stream",
     "text": [
      "Set parameter QCPDual to value 1\n",
      "Gurobi Optimizer version 11.0.1 build v11.0.1rc0 (win64 - Windows 11.0 (22631.2))\n",
      "\n",
      "CPU model: 13th Gen Intel(R) Core(TM) i7-13700, instruction set [SSE2|AVX|AVX2]\n",
      "Thread count: 16 physical cores, 24 logical processors, using up to 24 threads\n",
      "\n",
      "Optimize a model with 948 rows, 934 columns and 2441 nonzeros\n",
      "Model fingerprint: 0xb22c6a8b\n",
      "Variable types: 928 continuous, 6 integer (6 binary)\n",
      "Coefficient statistics:\n",
      "  Matrix range     [1e-04, 1e+04]\n",
      "  Objective range  [1e+00, 1e+00]\n",
      "  Bounds range     [1e+00, 1e+00]\n",
      "  RHS range        [1e+02, 1e+04]\n",
      "Presolve removed 945 rows and 926 columns\n",
      "Presolve time: 0.00s\n",
      "Presolved: 3 rows, 8 columns, 12 nonzeros\n",
      "Variable types: 8 continuous, 0 integer (0 binary)\n",
      "\n",
      "Root relaxation: objective 0.000000e+00, 0 iterations, 0.00 seconds (0.00 work units)\n",
      "\n",
      "    Nodes    |    Current Node    |     Objective Bounds      |     Work\n",
      " Expl Unexpl |  Obj  Depth IntInf | Incumbent    BestBd   Gap | It/Node Time\n",
      "\n",
      "*    0     0               0       0.0000000    0.00000  0.00%     -    0s\n",
      "\n",
      "Explored 1 nodes (0 simplex iterations) in 0.00 seconds (0.00 work units)\n",
      "Thread count was 24 (of 24 available processors)\n",
      "\n",
      "Solution count 1: 0 \n",
      "\n",
      "Optimal solution found (tolerance 1.00e-04)\n",
      "Best objective 0.000000000000e+00, best bound 0.000000000000e+00, gap 0.0000%\n",
      "WARNING: Cannot get duals for MIP.\n"
     ]
    }
   ],
   "source": [
    "results_gwp = solve(scenario=scenario, instance=milp_gwp,\n",
    "                     solver='gurobi', name=f\"res_gwp\", print_solversteps=True, saveformat = '.pkl')"
   ]
  },
  {
   "cell_type": "code",
   "execution_count": null,
   "metadata": {},
   "outputs": [],
   "source": [
    "plot_results.schedule(results = results_gwp, y_axis= 'P', component = 'PEM', location='HO')"
   ]
  },
  {
   "cell_type": "code",
   "execution_count": 237,
   "metadata": {},
   "outputs": [
    {
     "data": {
      "text/plain": [
       "{None: 152361.22}"
      ]
     },
     "execution_count": 237,
     "metadata": {},
     "output_type": "execute_result"
    }
   ],
   "source": [
    "results_gwp.output['Cost']"
   ]
  },
  {
   "cell_type": "code",
   "execution_count": 238,
   "metadata": {},
   "outputs": [
    {
     "data": {
      "text/plain": [
       "{('HO', 'Grid', 0, 0): 0.0,\n",
       " ('HO', 'Grid', 0, 1): 0.0,\n",
       " ('HO', 'Grid', 0, 2): 0.0,\n",
       " ('HO', 'Grid', 0, 3): 0.0,\n",
       " ('HO', 'Grid', 0, 4): 0.0,\n",
       " ('HO', 'Grid', 0, 5): 0.0,\n",
       " ('HO', 'Grid', 0, 6): 0.0,\n",
       " ('HO', 'Grid', 0, 7): 0.0,\n",
       " ('HO', 'Grid', 0, 8): 0.0,\n",
       " ('HO', 'Grid', 0, 9): 0.0,\n",
       " ('HO', 'Grid', 0, 10): 0.0,\n",
       " ('HO', 'Grid', 0, 11): 0.0,\n",
       " ('HO', 'Grid', 0, 12): 0.0,\n",
       " ('HO', 'Grid', 0, 13): 0.0,\n",
       " ('HO', 'Grid', 0, 14): 0.0,\n",
       " ('HO', 'Grid', 0, 15): 0.0,\n",
       " ('HO', 'Grid', 0, 16): 0.0,\n",
       " ('HO', 'Grid', 0, 17): 0.0,\n",
       " ('HO', 'Grid', 0, 18): 0.0,\n",
       " ('HO', 'Grid', 0, 19): 0.0,\n",
       " ('HO', 'Grid', 0, 20): 0.0,\n",
       " ('HO', 'Grid', 0, 21): 0.0,\n",
       " ('HO', 'Grid', 0, 22): 0.0,\n",
       " ('HO', 'Grid', 0, 23): 0.0,\n",
       " ('HO', 'PEM', 0, 0): 0.0,\n",
       " ('HO', 'PEM', 0, 1): 31.25,\n",
       " ('HO', 'PEM', 0, 2): 0.0,\n",
       " ('HO', 'PEM', 0, 3): 31.25,\n",
       " ('HO', 'PEM', 0, 4): 31.25,\n",
       " ('HO', 'PEM', 0, 5): 31.25,\n",
       " ('HO', 'PEM', 0, 6): 31.25,\n",
       " ('HO', 'PEM', 0, 7): 0.0,\n",
       " ('HO', 'PEM', 0, 8): 31.25,\n",
       " ('HO', 'PEM', 0, 9): 31.25,\n",
       " ('HO', 'PEM', 0, 10): 0.0,\n",
       " ('HO', 'PEM', 0, 11): 31.25,\n",
       " ('HO', 'PEM', 0, 12): 0.0,\n",
       " ('HO', 'PEM', 0, 13): 31.25,\n",
       " ('HO', 'PEM', 0, 14): 0.0,\n",
       " ('HO', 'PEM', 0, 15): 0.0,\n",
       " ('HO', 'PEM', 0, 16): 31.25,\n",
       " ('HO', 'PEM', 0, 17): 31.25,\n",
       " ('HO', 'PEM', 0, 18): 31.25,\n",
       " ('HO', 'PEM', 0, 19): 31.25,\n",
       " ('HO', 'PEM', 0, 20): 0.0,\n",
       " ('HO', 'PEM', 0, 21): 31.25,\n",
       " ('HO', 'PEM', 0, 22): 31.25,\n",
       " ('HO', 'PEM', 0, 23): 31.25,\n",
       " ('HO', 'PV', 0, 0): 0.0,\n",
       " ('HO', 'PV', 0, 1): 0.0,\n",
       " ('HO', 'PV', 0, 2): 0.0,\n",
       " ('HO', 'PV', 0, 3): 0.0,\n",
       " ('HO', 'PV', 0, 4): 0.0,\n",
       " ('HO', 'PV', 0, 5): 0.0,\n",
       " ('HO', 'PV', 0, 6): 0.0,\n",
       " ('HO', 'PV', 0, 7): 0.0,\n",
       " ('HO', 'PV', 0, 8): 0.0,\n",
       " ('HO', 'PV', 0, 9): 0.0,\n",
       " ('HO', 'PV', 0, 10): 0.0,\n",
       " ('HO', 'PV', 0, 11): 0.0,\n",
       " ('HO', 'PV', 0, 12): 0.0,\n",
       " ('HO', 'PV', 0, 13): 0.0,\n",
       " ('HO', 'PV', 0, 14): 0.0,\n",
       " ('HO', 'PV', 0, 15): 0.0,\n",
       " ('HO', 'PV', 0, 16): 0.0,\n",
       " ('HO', 'PV', 0, 17): 0.0,\n",
       " ('HO', 'PV', 0, 18): 0.0,\n",
       " ('HO', 'PV', 0, 19): 0.0,\n",
       " ('HO', 'PV', 0, 20): 0.0,\n",
       " ('HO', 'PV', 0, 21): 0.0,\n",
       " ('HO', 'PV', 0, 22): 0.0,\n",
       " ('HO', 'PV', 0, 23): 0.0,\n",
       " ('HO', 'SMR', 0, 0): 0.0,\n",
       " ('HO', 'SMR', 0, 1): 0.0,\n",
       " ('HO', 'SMR', 0, 2): 0.0,\n",
       " ('HO', 'SMR', 0, 3): 0.0,\n",
       " ('HO', 'SMR', 0, 4): 0.0,\n",
       " ('HO', 'SMR', 0, 5): 0.0,\n",
       " ('HO', 'SMR', 0, 6): 0.0,\n",
       " ('HO', 'SMR', 0, 7): 0.0,\n",
       " ('HO', 'SMR', 0, 8): 0.0,\n",
       " ('HO', 'SMR', 0, 9): 0.0,\n",
       " ('HO', 'SMR', 0, 10): 0.0,\n",
       " ('HO', 'SMR', 0, 11): 0.0,\n",
       " ('HO', 'SMR', 0, 12): 0.0,\n",
       " ('HO', 'SMR', 0, 13): 0.0,\n",
       " ('HO', 'SMR', 0, 14): 0.0,\n",
       " ('HO', 'SMR', 0, 15): 0.0,\n",
       " ('HO', 'SMR', 0, 16): 0.0,\n",
       " ('HO', 'SMR', 0, 17): 0.0,\n",
       " ('HO', 'SMR', 0, 18): 0.0,\n",
       " ('HO', 'SMR', 0, 19): 0.0,\n",
       " ('HO', 'SMR', 0, 20): 0.0,\n",
       " ('HO', 'SMR', 0, 21): 0.0,\n",
       " ('HO', 'SMR', 0, 22): 0.0,\n",
       " ('HO', 'SMR', 0, 23): 0.0,\n",
       " ('HO', 'SMRCCS', 0, 0): 0.0,\n",
       " ('HO', 'SMRCCS', 0, 1): 0.0,\n",
       " ('HO', 'SMRCCS', 0, 2): 0.0,\n",
       " ('HO', 'SMRCCS', 0, 3): 0.0,\n",
       " ('HO', 'SMRCCS', 0, 4): 0.0,\n",
       " ('HO', 'SMRCCS', 0, 5): 0.0,\n",
       " ('HO', 'SMRCCS', 0, 6): 0.0,\n",
       " ('HO', 'SMRCCS', 0, 7): 0.0,\n",
       " ('HO', 'SMRCCS', 0, 8): 0.0,\n",
       " ('HO', 'SMRCCS', 0, 9): 0.0,\n",
       " ('HO', 'SMRCCS', 0, 10): 0.0,\n",
       " ('HO', 'SMRCCS', 0, 11): 0.0,\n",
       " ('HO', 'SMRCCS', 0, 12): 0.0,\n",
       " ('HO', 'SMRCCS', 0, 13): 0.0,\n",
       " ('HO', 'SMRCCS', 0, 14): 0.0,\n",
       " ('HO', 'SMRCCS', 0, 15): 0.0,\n",
       " ('HO', 'SMRCCS', 0, 16): 0.0,\n",
       " ('HO', 'SMRCCS', 0, 17): 0.0,\n",
       " ('HO', 'SMRCCS', 0, 18): 0.0,\n",
       " ('HO', 'SMRCCS', 0, 19): 0.0,\n",
       " ('HO', 'SMRCCS', 0, 20): 0.0,\n",
       " ('HO', 'SMRCCS', 0, 21): 0.0,\n",
       " ('HO', 'SMRCCS', 0, 22): 0.0,\n",
       " ('HO', 'SMRCCS', 0, 23): 0.0,\n",
       " ('HO', 'WF', 0, 0): 0.0,\n",
       " ('HO', 'WF', 0, 1): 93.75,\n",
       " ('HO', 'WF', 0, 2): 0.0,\n",
       " ('HO', 'WF', 0, 3): 93.75,\n",
       " ('HO', 'WF', 0, 4): 93.75,\n",
       " ('HO', 'WF', 0, 5): 93.75,\n",
       " ('HO', 'WF', 0, 6): 93.75,\n",
       " ('HO', 'WF', 0, 7): 0.0,\n",
       " ('HO', 'WF', 0, 8): 93.75,\n",
       " ('HO', 'WF', 0, 9): 93.75,\n",
       " ('HO', 'WF', 0, 10): 0.0,\n",
       " ('HO', 'WF', 0, 11): 93.75,\n",
       " ('HO', 'WF', 0, 12): 0.0,\n",
       " ('HO', 'WF', 0, 13): 93.75,\n",
       " ('HO', 'WF', 0, 14): 0.0,\n",
       " ('HO', 'WF', 0, 15): 0.0,\n",
       " ('HO', 'WF', 0, 16): 93.75,\n",
       " ('HO', 'WF', 0, 17): 93.75,\n",
       " ('HO', 'WF', 0, 18): 93.75,\n",
       " ('HO', 'WF', 0, 19): 93.75,\n",
       " ('HO', 'WF', 0, 20): 0.0,\n",
       " ('HO', 'WF', 0, 21): 93.75,\n",
       " ('HO', 'WF', 0, 22): 93.75,\n",
       " ('HO', 'WF', 0, 23): 93.75}"
      ]
     },
     "execution_count": 238,
     "metadata": {},
     "output_type": "execute_result"
    }
   ],
   "source": [
    "results_gwp.output['P']"
   ]
  },
  {
   "cell_type": "code",
   "execution_count": null,
   "metadata": {},
   "outputs": [],
   "source": [
    "# data = results_gwp.output['P']\n",
    "# df = pd.DataFrame(data,index=[0])\n",
    "# df = df.T\n",
    "# # Export the DataFrame to an Excel file\n",
    "# df.to_excel('C:/Users/marcopdsousa/Desktop/Dataframes/mingwpprod.xlsx', index=True)"
   ]
  },
  {
   "cell_type": "code",
   "execution_count": null,
   "metadata": {},
   "outputs": [],
   "source": [
    "results_cost.output['Cap_P']"
   ]
  },
  {
   "cell_type": "code",
   "execution_count": null,
   "metadata": {},
   "outputs": [],
   "source": [
    "results_gwp.output['Cap_P']"
   ]
  },
  {
   "cell_type": "code",
   "execution_count": null,
   "metadata": {},
   "outputs": [],
   "source": [
    "milp_gwp.constraint_global_warming_potential_resource.pprint()"
   ]
  },
  {
   "cell_type": "code",
   "execution_count": null,
   "metadata": {},
   "outputs": [],
   "source": [
    "scenario.resource_gwp_dict"
   ]
  },
  {
   "cell_type": "code",
   "execution_count": null,
   "metadata": {},
   "outputs": [],
   "source": [
    "results_gwp.output['X_P']"
   ]
  },
  {
   "cell_type": "code",
   "execution_count": null,
   "metadata": {},
   "outputs": [],
   "source": [
    "results_cost.output['X_P']"
   ]
  },
  {
   "cell_type": "code",
   "execution_count": null,
   "metadata": {},
   "outputs": [],
   "source": [
    "results_gwp.output['Cap_P']"
   ]
  },
  {
   "cell_type": "code",
   "execution_count": null,
   "metadata": {},
   "outputs": [],
   "source": [
    "results_cost.output['Cap_P']"
   ]
  },
  {
   "cell_type": "code",
   "execution_count": null,
   "metadata": {},
   "outputs": [],
   "source": [
    "results_gwp.output['Capex_network']"
   ]
  },
  {
   "cell_type": "code",
   "execution_count": null,
   "metadata": {},
   "outputs": [],
   "source": [
    "results_gwp.output['Fopex_network']"
   ]
  },
  {
   "cell_type": "code",
   "execution_count": null,
   "metadata": {},
   "outputs": [],
   "source": [
    "results_gwp.output['Vopex_network']"
   ]
  },
  {
   "cell_type": "code",
   "execution_count": null,
   "metadata": {},
   "outputs": [],
   "source": [
    "results_gwp.output['B_network']"
   ]
  },
  {
   "cell_type": "code",
   "execution_count": null,
   "metadata": {},
   "outputs": [],
   "source": [
    "results_cost.output['B_network']"
   ]
  },
  {
   "cell_type": "code",
   "execution_count": null,
   "metadata": {},
   "outputs": [],
   "source": [
    "results_cost.output['C_network']"
   ]
  },
  {
   "cell_type": "code",
   "execution_count": null,
   "metadata": {},
   "outputs": [],
   "source": [
    "results_cost.output['P']['HO','SMR',0,0]"
   ]
  },
  {
   "cell_type": "code",
   "execution_count": null,
   "metadata": {},
   "outputs": [],
   "source": [
    "print([(key, value) for key, value in results_cost.output['P'].items() if key[1]=='SMR'])"
   ]
  },
  {
   "cell_type": "code",
   "execution_count": null,
   "metadata": {},
   "outputs": [],
   "source": [
    "[results_cost.output['P'][('HO', 'SMR', *i)] for i in scales.scale_iter(2)]"
   ]
  },
  {
   "cell_type": "code",
   "execution_count": null,
   "metadata": {},
   "outputs": [],
   "source": [
    "results_cost.output['C']"
   ]
  },
  {
   "cell_type": "code",
   "execution_count": null,
   "metadata": {},
   "outputs": [],
   "source": [
    "print([(key, value) for key, value in results_cost.output['P'].items() if key[1]=='SMR'])"
   ]
  },
  {
   "cell_type": "code",
   "execution_count": null,
   "metadata": {},
   "outputs": [],
   "source": [
    "results_cost.output['C']"
   ]
  },
  {
   "cell_type": "code",
   "execution_count": null,
   "metadata": {},
   "outputs": [],
   "source": [
    "results_cost.output['P_network']"
   ]
  },
  {
   "cell_type": "code",
   "execution_count": null,
   "metadata": {},
   "outputs": [],
   "source": [
    "results_gwp.output['P_network']"
   ]
  },
  {
   "cell_type": "code",
   "execution_count": null,
   "metadata": {},
   "outputs": [],
   "source": [
    "PEM.conversion[Power]/SMR.conversion[Power]"
   ]
  },
  {
   "cell_type": "code",
   "execution_count": null,
   "metadata": {},
   "outputs": [],
   "source": [
    "SMR.conversion[Power]"
   ]
  },
  {
   "cell_type": "code",
   "execution_count": null,
   "metadata": {},
   "outputs": [],
   "source": [
    "SMRCCS.conversion[Power]"
   ]
  },
  {
   "cell_type": "code",
   "execution_count": null,
   "metadata": {},
   "outputs": [],
   "source": [
    "results_cost.output['Cap_P']"
   ]
  },
  {
   "cell_type": "code",
   "execution_count": null,
   "metadata": {},
   "outputs": [],
   "source": [
    "results_cost.output['S_network']"
   ]
  },
  {
   "cell_type": "code",
   "execution_count": null,
   "metadata": {},
   "outputs": [],
   "source": [
    "results_gwp.output['S_network']"
   ]
  },
  {
   "cell_type": "code",
   "execution_count": null,
   "metadata": {},
   "outputs": [],
   "source": [
    "results_gwp.output['Cost']"
   ]
  },
  {
   "cell_type": "code",
   "execution_count": null,
   "metadata": {},
   "outputs": [],
   "source": [
    "results_gwp.output['X_P']"
   ]
  },
  {
   "cell_type": "code",
   "execution_count": null,
   "metadata": {},
   "outputs": [],
   "source": [
    "results_gwp.output['Cap_P']"
   ]
  },
  {
   "cell_type": "code",
   "execution_count": null,
   "metadata": {},
   "outputs": [],
   "source": [
    "results_cost.output['objective']"
   ]
  },
  {
   "cell_type": "code",
   "execution_count": null,
   "metadata": {},
   "outputs": [],
   "source": [
    "results_gwp.output['objective']"
   ]
  },
  {
   "cell_type": "code",
   "execution_count": null,
   "metadata": {},
   "outputs": [],
   "source": [
    "results_cost.output['global_warming_potential_network']"
   ]
  },
  {
   "cell_type": "code",
   "execution_count": null,
   "metadata": {},
   "outputs": [],
   "source": [
    "results_gwp.output['global_warming_potential_network']"
   ]
  },
  {
   "cell_type": "code",
   "execution_count": null,
   "metadata": {},
   "outputs": [],
   "source": [
    "results_gwp.output['global_warming_potential_resource']"
   ]
  },
  {
   "cell_type": "code",
   "execution_count": null,
   "metadata": {},
   "outputs": [],
   "source": [
    "results_gwp.output['P_network']"
   ]
  },
  {
   "cell_type": "code",
   "execution_count": null,
   "metadata": {},
   "outputs": [],
   "source": [
    "results_cost.output['P_network']"
   ]
  },
  {
   "cell_type": "code",
   "execution_count": null,
   "metadata": {},
   "outputs": [],
   "source": [
    "results_gwp.output"
   ]
  },
  {
   "cell_type": "code",
   "execution_count": null,
   "metadata": {},
   "outputs": [],
   "source": [
    "\n",
    "# plot_results.gwp(results=results_gwp, x=CostX.PROCESS_WISE,\n",
    "#                   y=CostY.TOTAL, location='HO', fig_size=(11, 6), )\n",
    "# #plt.rc('xtick', titlesize=8, labelsize=8)\n",
    "# plt.xticks(fontsize=10, rotation=45, ha='right')"
   ]
  },
  {
   "cell_type": "code",
   "execution_count": null,
   "metadata": {},
   "outputs": [],
   "source": [
    "results_gwp.output['global_warming_potential_location']"
   ]
  },
  {
   "cell_type": "code",
   "execution_count": null,
   "metadata": {},
   "outputs": [],
   "source": [
    "results_gwp.output['P_network']"
   ]
  },
  {
   "cell_type": "markdown",
   "metadata": {},
   "source": [
    "EMISSION RESTRICTIONS"
   ]
  },
  {
   "cell_type": "code",
   "execution_count": null,
   "metadata": {},
   "outputs": [],
   "source": [
    "milp_gwp_10 = formulate(scenario=scenario, constraints={Constraints.COST, Constraints.INVENTORY, Constraints.PRODUCTION,\n",
    "                     Constraints.RESOURCE_BALANCE, Constraints.NETWORK, Constraints.DEMAND, Constraints.EMISSION}, objective=Objective.COST, demand_sign = 'eq')\n",
    "\n",
    "from energiapy.model.constraints.emission import constraint_global_warming_potential_network_reduction\n",
    "constraint_global_warming_potential_network_reduction(instance= milp_gwp_10, network_scale_level = 0, gwp_reduction_pct = 10, gwp = results_cost.output['global_warming_potential_network'][0])"
   ]
  },
  {
   "cell_type": "code",
   "execution_count": null,
   "metadata": {},
   "outputs": [],
   "source": [
    "from pyomo.environ import ConstraintList\n",
    "\n",
    "ramping_limit = 3\n",
    "\n",
    "milp_gwp_10.cons1 = ConstraintList()\n",
    "for i in scales.scale_iter(1):\n",
    "    if i != (0,0):\n",
    "        milp_gwp_10.cons1.add(expr = milp_gwp_10.P['HO', 'PEM', *i] - milp_gwp_10.P['HO', 'PEM', *scales.scale_iter(2)[scales.scale_iter(1).index(i) - 1]] <= ramping_limit)\n",
    "\n",
    "milp_gwp_10.cons2 = ConstraintList()\n",
    "for i in scales.scale_iter(1):\n",
    "    if i != (0,0):\n",
    "        milp_gwp_10.cons2.add(expr = milp_gwp_10.P['HO', 'SMR', *i] - milp_gwp_10.P['HO', 'SMR', *scales.scale_iter(2)[scales.scale_iter(1).index(i) - 1]] <= ramping_limit)\n",
    "\n",
    "milp_gwp_10.cons3 = ConstraintList()\n",
    "for i in scales.scale_iter(1):\n",
    "    if i != (0,0):\n",
    "        milp_gwp_10.cons3.add(expr = milp_gwp_10.P['HO', 'SMRCCS', *i] - milp_gwp_10.P['HO', 'SMRCCS', *scales.scale_iter(2)[scales.scale_iter(1).index(i) - 1]] <= ramping_limit)\n",
    "\n",
    "milp_gwp_10.cons4 = ConstraintList()\n",
    "for i in scales.scale_iter(2):\n",
    "    milp_gwp_10.cons4.add(expr = milp_gwp_10.P['HO', 'SMR', *i] >= 5)"
   ]
  },
  {
   "cell_type": "code",
   "execution_count": null,
   "metadata": {},
   "outputs": [],
   "source": [
    "results_gwp_10 = solve(scenario=scenario, instance=milp_gwp_10,\n",
    "                     solver='gurobi', name=f\"res_gwp_10\", print_solversteps=True, saveformat = '.pkl')"
   ]
  },
  {
   "cell_type": "code",
   "execution_count": null,
   "metadata": {},
   "outputs": [],
   "source": [
    "results_gwp_10.output['objective']"
   ]
  },
  {
   "cell_type": "code",
   "execution_count": null,
   "metadata": {},
   "outputs": [],
   "source": [
    "results_gwp_10.output['global_warming_potential_location']"
   ]
  },
  {
   "cell_type": "code",
   "execution_count": null,
   "metadata": {},
   "outputs": [],
   "source": [
    "results_gwp_10.output['P']"
   ]
  },
  {
   "cell_type": "code",
   "execution_count": null,
   "metadata": {},
   "outputs": [],
   "source": [
    "# data = results_gwp_10.output['P']\n",
    "# df = pd.DataFrame(data,index=[0])\n",
    "# df = df.T\n",
    "# # Export the DataFrame to an Excel file\n",
    "# df.to_excel('C:/Users/marcopdsousa/Desktop/Dataframes/mingwpprod10.xlsx', index=True)"
   ]
  },
  {
   "cell_type": "code",
   "execution_count": null,
   "metadata": {},
   "outputs": [],
   "source": [
    "# data = results_gwp_10.output['global_warming_potential_resource']\n",
    "# df = pd.DataFrame(data,index=[0])\n",
    "# df = df.T\n",
    "# # Export the DataFrame to an Excel file\n",
    "# df.to_excel('C:/Users/marcopdsousa/Desktop/Dataframes/mingwp10resource_emission.xlsx', index=True)"
   ]
  },
  {
   "cell_type": "code",
   "execution_count": null,
   "metadata": {},
   "outputs": [],
   "source": [
    "results_cost.output['global_warming_potential_resource']"
   ]
  },
  {
   "cell_type": "code",
   "execution_count": null,
   "metadata": {},
   "outputs": [],
   "source": [
    "results_gwp_10.output['global_warming_potential_resource']"
   ]
  },
  {
   "cell_type": "code",
   "execution_count": null,
   "metadata": {},
   "outputs": [],
   "source": [
    "milp_gwp_20 = formulate(scenario=scenario, constraints={Constraints.COST, Constraints.INVENTORY, Constraints.PRODUCTION,\n",
    "                     Constraints.RESOURCE_BALANCE, Constraints.NETWORK, Constraints.DEMAND, Constraints.EMISSION}, objective=Objective.COST, demand_sign = 'eq')\n",
    "\n",
    "from energiapy.model.constraints.emission import constraint_global_warming_potential_network_reduction\n",
    "constraint_global_warming_potential_network_reduction(instance= milp_gwp_20, network_scale_level = 0, gwp_reduction_pct = 20, gwp = results_cost.output['global_warming_potential_network'][0])\n"
   ]
  },
  {
   "cell_type": "code",
   "execution_count": null,
   "metadata": {},
   "outputs": [],
   "source": [
    "from pyomo.environ import ConstraintList\n",
    "\n",
    "ramping_limit = 3\n",
    "\n",
    "milp_gwp_20.cons1 = ConstraintList()\n",
    "for i in scales.scale_iter(1):\n",
    "    if i != (0,0):\n",
    "        milp_gwp_20.cons1.add(expr = milp_gwp_20.P['HO', 'PEM', *i] - milp_gwp_20.P['HO', 'PEM', *scales.scale_iter(2)[scales.scale_iter(1).index(i) - 1]] <= ramping_limit)\n",
    "\n",
    "milp_gwp_20.cons2 = ConstraintList()\n",
    "for i in scales.scale_iter(1):\n",
    "    if i != (0,0):\n",
    "        milp_gwp_20.cons2.add(expr = milp_gwp_20.P['HO', 'SMR', *i] - milp_gwp_20.P['HO', 'SMR', *scales.scale_iter(2)[scales.scale_iter(1).index(i) - 1]] <= ramping_limit)\n",
    "\n",
    "milp_gwp_20.cons3 = ConstraintList()\n",
    "for i in scales.scale_iter(1):\n",
    "    if i != (0,0):\n",
    "        milp_gwp_20.cons3.add(expr = milp_gwp_20.P['HO', 'SMRCCS', *i] - milp_gwp_20.P['HO', 'SMRCCS', *scales.scale_iter(2)[scales.scale_iter(1).index(i) - 1]] <= ramping_limit)\n",
    "\n",
    "milp_gwp_20.cons4 = ConstraintList()\n",
    "for i in scales.scale_iter(2):\n",
    "    milp_gwp_20.cons4.add(expr = milp_gwp_20.P['HO', 'SMR', *i] >= 5)"
   ]
  },
  {
   "cell_type": "code",
   "execution_count": null,
   "metadata": {},
   "outputs": [],
   "source": [
    "results_gwp_20 = solve(scenario=scenario, instance=milp_gwp_20,\n",
    "                     solver='gurobi', name=f\"res_gwp_20\", print_solversteps=True, saveformat = '.pkl')"
   ]
  },
  {
   "cell_type": "code",
   "execution_count": null,
   "metadata": {},
   "outputs": [],
   "source": [
    "results_gwp_20.output['objective']\n"
   ]
  },
  {
   "cell_type": "code",
   "execution_count": null,
   "metadata": {},
   "outputs": [],
   "source": [
    "results_gwp_20.output['P']"
   ]
  },
  {
   "cell_type": "code",
   "execution_count": null,
   "metadata": {},
   "outputs": [],
   "source": [
    "results_gwp_20.output['global_warming_potential_location']"
   ]
  },
  {
   "cell_type": "code",
   "execution_count": null,
   "metadata": {},
   "outputs": [],
   "source": [
    "results_gwp_20.output['global_warming_potential_resource']"
   ]
  },
  {
   "cell_type": "code",
   "execution_count": null,
   "metadata": {},
   "outputs": [],
   "source": [
    "results_gwp_20.output['P_network']"
   ]
  },
  {
   "cell_type": "code",
   "execution_count": null,
   "metadata": {},
   "outputs": [],
   "source": [
    "# data = results_gwp_20.output['P']\n",
    "# df = pd.DataFrame(data,index=[0])\n",
    "# df = df.T\n",
    "# # Export the DataFrame to an Excel file\n",
    "# df.to_excel('C:/Users/marcopdsousa/Desktop/Dataframes/mingwpprod20.xlsx', index=True)"
   ]
  },
  {
   "cell_type": "code",
   "execution_count": null,
   "metadata": {},
   "outputs": [],
   "source": [
    "# data = results_gwp_20.output['global_warming_potential_resource']\n",
    "# df = pd.DataFrame(data,index=[0])\n",
    "# df = df.T\n",
    "# # Export the DataFrame to an Excel file\n",
    "# df.to_excel('C:/Users/marcopdsousa/Desktop/Dataframes/mingwp20resource_emission.xlsx', index=True)"
   ]
  },
  {
   "cell_type": "code",
   "execution_count": null,
   "metadata": {},
   "outputs": [],
   "source": [
    "results_gwp_20.output[\"objective\"]"
   ]
  },
  {
   "cell_type": "code",
   "execution_count": null,
   "metadata": {},
   "outputs": [],
   "source": [
    "milp_gwp_30 = formulate(scenario=scenario, constraints={Constraints.COST, Constraints.INVENTORY, Constraints.PRODUCTION,\n",
    "                     Constraints.RESOURCE_BALANCE, Constraints.NETWORK, Constraints.DEMAND, Constraints.EMISSION}, objective=Objective.COST, demand_sign = 'eq')\n",
    "\n",
    "from energiapy.model.constraints.emission import constraint_global_warming_potential_network_reduction\n",
    "constraint_global_warming_potential_network_reduction(instance= milp_gwp_30, network_scale_level = 0, gwp_reduction_pct = 30, gwp = results_cost.output['global_warming_potential_network'][0])\n",
    "\n",
    "\n",
    "\n"
   ]
  },
  {
   "cell_type": "code",
   "execution_count": null,
   "metadata": {},
   "outputs": [],
   "source": [
    "from pyomo.environ import ConstraintList\n",
    "\n",
    "ramping_limit = 3\n",
    "\n",
    "milp_gwp_30.cons1 = ConstraintList()\n",
    "for i in scales.scale_iter(1):\n",
    "    if i != (0,0):\n",
    "        milp_gwp_30.cons1.add(expr = milp_gwp_30.P['HO', 'PEM', *i] - milp_gwp_30.P['HO', 'PEM', *scales.scale_iter(2)[scales.scale_iter(1).index(i) - 1]] <= ramping_limit)\n",
    "\n",
    "milp_gwp_30.cons2 = ConstraintList()\n",
    "for i in scales.scale_iter(1):\n",
    "    if i != (0,0):\n",
    "        milp_gwp_30.cons2.add(expr = milp_gwp_30.P['HO', 'SMR', *i] - milp_gwp_30.P['HO', 'SMR', *scales.scale_iter(2)[scales.scale_iter(1).index(i) - 1]] <= ramping_limit)\n",
    "\n",
    "milp_gwp_30.cons3 = ConstraintList()\n",
    "for i in scales.scale_iter(1):\n",
    "    if i != (0,0):\n",
    "        milp_gwp_30.cons3.add(expr = milp_gwp_30.P['HO', 'SMRCCS', *i] - milp_gwp_30.P['HO', 'SMRCCS', *scales.scale_iter(2)[scales.scale_iter(1).index(i) - 1]] <= ramping_limit)\n",
    "\n",
    "milp_gwp_30.cons4 = ConstraintList()\n",
    "for i in scales.scale_iter(2):\n",
    "    milp_gwp_30.cons4.add(expr = milp_gwp_30.P['HO', 'SMR', *i] >= 5)"
   ]
  },
  {
   "cell_type": "code",
   "execution_count": null,
   "metadata": {},
   "outputs": [],
   "source": [
    "results_gwp_30 = solve(scenario=scenario, instance=milp_gwp_30,\n",
    "                     solver='gurobi', name=f\"res_gwp_30\", print_solversteps=True, saveformat = '.pkl')"
   ]
  },
  {
   "cell_type": "code",
   "execution_count": null,
   "metadata": {},
   "outputs": [],
   "source": [
    "\n",
    "results_gwp_30.output['objective']"
   ]
  },
  {
   "cell_type": "code",
   "execution_count": null,
   "metadata": {},
   "outputs": [],
   "source": [
    "results_gwp_30.output['P']"
   ]
  },
  {
   "cell_type": "code",
   "execution_count": null,
   "metadata": {},
   "outputs": [],
   "source": [
    "results_gwp_30.output['global_warming_potential_location']"
   ]
  },
  {
   "cell_type": "code",
   "execution_count": null,
   "metadata": {},
   "outputs": [],
   "source": [
    "results_gwp_30.output['P_network']"
   ]
  },
  {
   "cell_type": "code",
   "execution_count": null,
   "metadata": {},
   "outputs": [],
   "source": [
    "plot_results.cost(results=results_gwp_30, x=CostX.PROCESS_WISE,\n",
    "                  y=CostY.TOTAL, location='HO', fig_size=(11, 6))"
   ]
  },
  {
   "cell_type": "code",
   "execution_count": null,
   "metadata": {},
   "outputs": [],
   "source": [
    "# data = results_gwp_30.output['P']\n",
    "# df = pd.DataFrame(data,index=[0])\n",
    "# df = df.T\n",
    "# # Export the DataFrame to an Excel file\n",
    "# df.to_excel('C:/Users/marcopdsousa/Desktop/Dataframes/mingwpprod30.xlsx', index=True)"
   ]
  },
  {
   "cell_type": "code",
   "execution_count": null,
   "metadata": {},
   "outputs": [],
   "source": [
    "results_gwp_30.output[\"objective\"]"
   ]
  },
  {
   "cell_type": "code",
   "execution_count": null,
   "metadata": {},
   "outputs": [],
   "source": [
    "# data = results_gwp_30.output['global_warming_potential_resource']\n",
    "# df = pd.DataFrame(data,index=[0])\n",
    "# df = df.T\n",
    "# # Export the DataFrame to an Excel file\n",
    "# df.to_excel('C:/Users/marcopdsousa/Desktop/Dataframes/mingwp30resource_emission.xlsx', index=True)"
   ]
  },
  {
   "cell_type": "code",
   "execution_count": null,
   "metadata": {},
   "outputs": [],
   "source": [
    "milp_gwp_40 = formulate(scenario=scenario, constraints={Constraints.COST, Constraints.INVENTORY, Constraints.PRODUCTION,\n",
    "                     Constraints.RESOURCE_BALANCE, Constraints.NETWORK, Constraints.DEMAND, Constraints.EMISSION}, objective=Objective.COST, demand_sign = 'eq')\n",
    "\n",
    "from energiapy.model.constraints.emission import constraint_global_warming_potential_network_reduction\n",
    "constraint_global_warming_potential_network_reduction(instance= milp_gwp_40, network_scale_level = 0, gwp_reduction_pct = 40, gwp = results_cost.output['global_warming_potential_network'][0])\n"
   ]
  },
  {
   "cell_type": "code",
   "execution_count": null,
   "metadata": {},
   "outputs": [],
   "source": [
    "from pyomo.environ import ConstraintList\n",
    "\n",
    "ramping_limit = 3\n",
    "\n",
    "milp_gwp_40.cons1 = ConstraintList()\n",
    "for i in scales.scale_iter(1):\n",
    "    if i != (0,0):\n",
    "        milp_gwp_40.cons1.add(expr = milp_gwp_40.P['HO', 'PEM', *i] - milp_gwp_40.P['HO', 'PEM', *scales.scale_iter(2)[scales.scale_iter(1).index(i) - 1]] <= ramping_limit)\n",
    "\n",
    "milp_gwp_40.cons2 = ConstraintList()\n",
    "for i in scales.scale_iter(1):\n",
    "    if i != (0,0):\n",
    "        milp_gwp_40.cons2.add(expr = milp_gwp_40.P['HO', 'SMR', *i] - milp_gwp_40.P['HO', 'SMR', *scales.scale_iter(2)[scales.scale_iter(1).index(i) - 1]] <= ramping_limit)\n",
    "\n",
    "milp_gwp_40.cons3 = ConstraintList()\n",
    "for i in scales.scale_iter(1):\n",
    "    if i != (0,0):\n",
    "        milp_gwp_40.cons3.add(expr = milp_gwp_40.P['HO', 'SMRCCS', *i] - milp_gwp_40.P['HO', 'SMRCCS', *scales.scale_iter(2)[scales.scale_iter(1).index(i) - 1]] <= ramping_limit)\n",
    "\n",
    "milp_gwp_40.cons4 = ConstraintList()\n",
    "for i in scales.scale_iter(2):\n",
    "    milp_gwp_40.cons4.add(expr = milp_gwp_40.P['HO', 'SMR', *i] >= 5)"
   ]
  },
  {
   "cell_type": "code",
   "execution_count": null,
   "metadata": {},
   "outputs": [],
   "source": [
    "results_gwp_40 = solve(scenario=scenario, instance=milp_gwp_40,\n",
    "                     solver='gurobi', name=f\"res_gwp_40\", print_solversteps=True, saveformat = '.pkl')"
   ]
  },
  {
   "cell_type": "code",
   "execution_count": null,
   "metadata": {},
   "outputs": [],
   "source": [
    "results_gwp_40.output['objective']"
   ]
  },
  {
   "cell_type": "code",
   "execution_count": null,
   "metadata": {},
   "outputs": [],
   "source": [
    "results_gwp_40.output['global_warming_potential_location']"
   ]
  },
  {
   "cell_type": "code",
   "execution_count": null,
   "metadata": {},
   "outputs": [],
   "source": [
    "results_gwp_40.output['global_warming_potential_resource']"
   ]
  },
  {
   "cell_type": "code",
   "execution_count": null,
   "metadata": {},
   "outputs": [],
   "source": [
    "results_gwp_40.output['P_network']"
   ]
  },
  {
   "cell_type": "code",
   "execution_count": null,
   "metadata": {},
   "outputs": [],
   "source": [
    "results_gwp_40.output['P']"
   ]
  },
  {
   "cell_type": "code",
   "execution_count": null,
   "metadata": {},
   "outputs": [],
   "source": [
    "plot_results.cost(results=results_gwp_40, x=CostX.PROCESS_WISE,\n",
    "                  y=CostY.TOTAL, location='HO', fig_size=(11, 6))"
   ]
  },
  {
   "cell_type": "code",
   "execution_count": null,
   "metadata": {},
   "outputs": [],
   "source": [
    "plot_results.schedule(results = results_gwp_40, y_axis= 'P', component = 'SMR', location='HO')\n",
    "plot_results.schedule(results = results_gwp_40, y_axis= 'P', component = 'SMRCCS', location='HO')\n"
   ]
  },
  {
   "cell_type": "code",
   "execution_count": null,
   "metadata": {},
   "outputs": [],
   "source": [
    "# data = results_gwp_40.output['P']\n",
    "# df = pd.DataFrame(data,index=[0])\n",
    "# df = df.T\n",
    "# # Export the DataFrame to an Excel file\n",
    "# df.to_excel('C:/Users/marcopdsousa/Desktop/Dataframes/mingwpprod40.xlsx', index=True)"
   ]
  },
  {
   "cell_type": "code",
   "execution_count": null,
   "metadata": {},
   "outputs": [],
   "source": [
    "# data = results_gwp_40.output['global_warming_potential_resource']\n",
    "# df = pd.DataFrame(data,index=[0])\n",
    "# df = df.T\n",
    "# # Export the DataFrame to an Excel file\n",
    "# df.to_excel('C:/Users/marcopdsousa/Desktop/Dataframes/mingwp40resource_emission.xlsx', index=True)"
   ]
  },
  {
   "cell_type": "code",
   "execution_count": null,
   "metadata": {},
   "outputs": [],
   "source": [
    "results_gwp_40.output[\"objective\"]"
   ]
  },
  {
   "cell_type": "code",
   "execution_count": null,
   "metadata": {},
   "outputs": [],
   "source": [
    "milp_gwp_50 = formulate(scenario=scenario, constraints={Constraints.COST, Constraints.INVENTORY, Constraints.PRODUCTION,\n",
    "                     Constraints.RESOURCE_BALANCE, Constraints.NETWORK, Constraints.DEMAND, Constraints.EMISSION}, objective=Objective.COST, demand_sign = 'eq')\n",
    "\n",
    "from energiapy.model.constraints.emission import constraint_global_warming_potential_network_reduction\n",
    "constraint_global_warming_potential_network_reduction(instance= milp_gwp_50, network_scale_level = 0, gwp_reduction_pct = 50, gwp = results_cost.output['global_warming_potential_network'][0])"
   ]
  },
  {
   "cell_type": "code",
   "execution_count": null,
   "metadata": {},
   "outputs": [],
   "source": [
    "from pyomo.environ import ConstraintList\n",
    "\n",
    "ramping_limit = 3\n",
    "\n",
    "milp_gwp_50.cons1 = ConstraintList()\n",
    "for i in scales.scale_iter(1):\n",
    "    if i != (0,0):\n",
    "        milp_gwp_50.cons1.add(expr = milp_gwp_50.P['HO', 'PEM', *i] - milp_gwp_50.P['HO', 'PEM', *scales.scale_iter(2)[scales.scale_iter(1).index(i) - 1]] <= ramping_limit)\n",
    "\n",
    "milp_gwp_50.cons2 = ConstraintList()\n",
    "for i in scales.scale_iter(1):\n",
    "    if i != (0,0):\n",
    "        milp_gwp_50.cons2.add(expr = milp_gwp_50.P['HO', 'SMR', *i] - milp_gwp_50.P['HO', 'SMR', *scales.scale_iter(2)[scales.scale_iter(1).index(i) - 1]] <= ramping_limit)\n",
    "\n",
    "milp_gwp_50.cons3 = ConstraintList()\n",
    "for i in scales.scale_iter(1):\n",
    "    if i != (0,0):\n",
    "        milp_gwp_50.cons3.add(expr = milp_gwp_50.P['HO', 'SMRCCS', *i] - milp_gwp_50.P['HO', 'SMRCCS', *scales.scale_iter(2)[scales.scale_iter(1).index(i) - 1]] <= ramping_limit)\n",
    "\n",
    "milp_gwp_50.cons4 = ConstraintList()\n",
    "for i in scales.scale_iter(2):\n",
    "    milp_gwp_50.cons4.add(expr = milp_gwp_50.P['HO', 'SMR', *i] >= 5)"
   ]
  },
  {
   "cell_type": "code",
   "execution_count": null,
   "metadata": {},
   "outputs": [],
   "source": [
    "results_gwp_50 = solve(scenario=scenario, instance=milp_gwp_50,\n",
    "                     solver='gurobi', name=f\"res_gwp_50\", print_solversteps=True, saveformat = '.pkl')"
   ]
  },
  {
   "cell_type": "code",
   "execution_count": null,
   "metadata": {},
   "outputs": [],
   "source": [
    "# data = results_gwp_50.output['P']\n",
    "# df = pd.DataFrame(data,index=[0])\n",
    "# df = df.T\n",
    "# # Export the DataFrame to an Excel file\n",
    "# df.to_excel('C:/Users/marcopdsousa/Desktop/Dataframes/mingwpprod50.xlsx', index=True)"
   ]
  },
  {
   "cell_type": "code",
   "execution_count": null,
   "metadata": {},
   "outputs": [],
   "source": [
    "# data = results_gwp_50.output['global_warming_potential_resource']\n",
    "# df = pd.DataFrame(data,index=[0])\n",
    "# df = df.T\n",
    "# # Export the DataFrame to an Excel file\n",
    "# df.to_excel('C:/Users/marcopdsousa/Desktop/Dataframes/mingwp50resource_emission.xlsx', index=True)"
   ]
  },
  {
   "cell_type": "code",
   "execution_count": null,
   "metadata": {},
   "outputs": [],
   "source": [
    "results_gwp_50.output[\"objective\"]"
   ]
  },
  {
   "cell_type": "code",
   "execution_count": null,
   "metadata": {},
   "outputs": [],
   "source": [
    "results_gwp_50.output['global_warming_potential_location']"
   ]
  },
  {
   "cell_type": "code",
   "execution_count": null,
   "metadata": {},
   "outputs": [],
   "source": [
    "milp_gwp_60 = formulate(scenario=scenario, constraints={Constraints.COST, Constraints.INVENTORY, Constraints.PRODUCTION,\n",
    "                     Constraints.RESOURCE_BALANCE, Constraints.NETWORK, Constraints.DEMAND, Constraints.EMISSION}, objective=Objective.COST, demand_sign = 'eq')\n",
    "\n",
    "from energiapy.model.constraints.emission import constraint_global_warming_potential_network_reduction\n",
    "constraint_global_warming_potential_network_reduction(instance= milp_gwp_60, network_scale_level = 0, gwp_reduction_pct = 60, gwp = results_cost.output['global_warming_potential_network'][0])"
   ]
  },
  {
   "cell_type": "code",
   "execution_count": null,
   "metadata": {},
   "outputs": [],
   "source": [
    "from pyomo.environ import ConstraintList\n",
    "\n",
    "ramping_limit = 3\n",
    "\n",
    "milp_gwp_60.cons1 = ConstraintList()\n",
    "for i in scales.scale_iter(1):\n",
    "    if i != (0,0):\n",
    "        milp_gwp_60.cons1.add(expr = milp_gwp_60.P['HO', 'PEM', *i] - milp_gwp_60.P['HO', 'PEM', *scales.scale_iter(2)[scales.scale_iter(1).index(i) - 1]] <= ramping_limit)\n",
    "\n",
    "milp_gwp_60.cons2 = ConstraintList()\n",
    "for i in scales.scale_iter(1):\n",
    "    if i != (0,0):\n",
    "        milp_gwp_60.cons2.add(expr = milp_gwp_60.P['HO', 'SMR', *i] - milp_gwp_60.P['HO', 'SMR', *scales.scale_iter(2)[scales.scale_iter(1).index(i) - 1]] <= ramping_limit)\n",
    "\n",
    "milp_gwp_60.cons3 = ConstraintList()\n",
    "for i in scales.scale_iter(1):\n",
    "    if i != (0,0):\n",
    "        milp_gwp_60.cons3.add(expr = milp_gwp_60.P['HO', 'SMRCCS', *i] - milp_gwp_60.P['HO', 'SMRCCS', *scales.scale_iter(2)[scales.scale_iter(1).index(i) - 1]] <= ramping_limit)\n",
    "\n",
    "milp_gwp_60.cons4 = ConstraintList()\n",
    "for i in scales.scale_iter(2):\n",
    "    milp_gwp_60.cons4.add(expr = milp_gwp_60.P['HO', 'SMR', *i] >= 5)"
   ]
  },
  {
   "cell_type": "code",
   "execution_count": null,
   "metadata": {},
   "outputs": [],
   "source": [
    "results_gwp_60 = solve(scenario=scenario, instance=milp_gwp_60,\n",
    "                     solver='gurobi', name=f\"res_gwp_60\", print_solversteps=True, saveformat = '.pkl')"
   ]
  },
  {
   "cell_type": "code",
   "execution_count": null,
   "metadata": {},
   "outputs": [],
   "source": [
    "plot_results.schedule(results = results_gwp_60, y_axis= 'P', component = 'SMR', location='HO')\n",
    "plot_results.schedule(results = results_gwp_60, y_axis= 'P', component = 'SMRCCS', location='HO')\n",
    "plot_results.schedule(results = results_gwp_60, y_axis= 'P', component = 'PEM', location='HO')"
   ]
  },
  {
   "cell_type": "code",
   "execution_count": null,
   "metadata": {},
   "outputs": [],
   "source": [
    "# data = results_gwp_60.output['P']\n",
    "# df = pd.DataFrame(data,index=[0])\n",
    "# df = df.T\n",
    "# # Export the DataFrame to an Excel file\n",
    "# df.to_excel('C:/Users/marcopdsousa/Desktop/Dataframes/mingwpprod60.xlsx', index=True)"
   ]
  },
  {
   "cell_type": "code",
   "execution_count": null,
   "metadata": {},
   "outputs": [],
   "source": [
    "# data = results_gwp_60.output['global_warming_potential_resource']\n",
    "# df = pd.DataFrame(data,index=[0])\n",
    "# df = df.T\n",
    "# # Export the DataFrame to an Excel file\n",
    "# df.to_excel('C:/Users/marcopdsousa/Desktop/Dataframes/mingwp60resource_emission.xlsx', index=True)"
   ]
  },
  {
   "cell_type": "code",
   "execution_count": null,
   "metadata": {},
   "outputs": [],
   "source": [
    "results_gwp_60.output[\"objective\"]"
   ]
  },
  {
   "cell_type": "code",
   "execution_count": null,
   "metadata": {},
   "outputs": [],
   "source": [
    "results_gwp_60.output[\"P\"]"
   ]
  },
  {
   "cell_type": "code",
   "execution_count": null,
   "metadata": {},
   "outputs": [],
   "source": [
    "results_gwp_60.output['global_warming_potential_location']"
   ]
  },
  {
   "cell_type": "code",
   "execution_count": null,
   "metadata": {},
   "outputs": [],
   "source": [
    "results_gwp_60.output['global_warming_potential_resource']"
   ]
  },
  {
   "cell_type": "code",
   "execution_count": null,
   "metadata": {},
   "outputs": [],
   "source": [
    "milp_gwp_70 = formulate(scenario=scenario, constraints={Constraints.COST, Constraints.INVENTORY, Constraints.PRODUCTION,\n",
    "                     Constraints.RESOURCE_BALANCE, Constraints.NETWORK, Constraints.DEMAND, Constraints.EMISSION}, objective=Objective.COST, demand_sign = 'eq')\n",
    "\n",
    "from energiapy.model.constraints.emission import constraint_global_warming_potential_network_reduction\n",
    "constraint_global_warming_potential_network_reduction(instance= milp_gwp_70, network_scale_level = 0, gwp_reduction_pct = 70, gwp = results_cost.output['global_warming_potential_network'][0])"
   ]
  },
  {
   "cell_type": "code",
   "execution_count": null,
   "metadata": {},
   "outputs": [],
   "source": [
    "from pyomo.environ import ConstraintList\n",
    "\n",
    "ramping_limit = 3\n",
    "\n",
    "milp_gwp_70.cons1 = ConstraintList()\n",
    "for i in scales.scale_iter(1):\n",
    "    if i != (0,0):\n",
    "        milp_gwp_70.cons1.add(expr = milp_gwp_70.P['HO', 'PEM', *i] - milp_gwp_70.P['HO', 'PEM', *scales.scale_iter(2)[scales.scale_iter(1).index(i) - 1]] <= ramping_limit)\n",
    "\n",
    "milp_gwp_70.cons2 = ConstraintList()\n",
    "for i in scales.scale_iter(1):\n",
    "    if i != (0,0):\n",
    "        milp_gwp_70.cons2.add(expr = milp_gwp_70.P['HO', 'SMR', *i] - milp_gwp_70.P['HO', 'SMR', *scales.scale_iter(2)[scales.scale_iter(1).index(i) - 1]] <= ramping_limit)\n",
    "\n",
    "milp_gwp_70.cons3 = ConstraintList()\n",
    "for i in scales.scale_iter(1):\n",
    "    if i != (0,0):\n",
    "        milp_gwp_70.cons3.add(expr = milp_gwp_70.P['HO', 'SMRCCS', *i] - milp_gwp_70.P['HO', 'SMRCCS', *scales.scale_iter(2)[scales.scale_iter(1).index(i) - 1]] <= ramping_limit)\n",
    "\n",
    "milp_gwp_70.cons4 = ConstraintList()\n",
    "for i in scales.scale_iter(2):\n",
    "    milp_gwp_70.cons4.add(expr = milp_gwp_70.P['HO', 'SMR', *i] >= 5)"
   ]
  },
  {
   "cell_type": "code",
   "execution_count": null,
   "metadata": {},
   "outputs": [],
   "source": [
    "results_gwp_70 = solve(scenario=scenario, instance=milp_gwp_70,\n",
    "                     solver='gurobi', name=f\"res_gwp_70\", print_solversteps=True, saveformat = '.pkl')"
   ]
  },
  {
   "cell_type": "code",
   "execution_count": null,
   "metadata": {},
   "outputs": [],
   "source": [
    "# data = results_gwp_70.output['P']\n",
    "# df = pd.DataFrame(data,index=[0])\n",
    "# df = df.T\n",
    "# # Export the DataFrame to an Excel file\n",
    "# df.to_excel('C:/Users/marcopdsousa/Desktop/Dataframes/mingwpprod70.xlsx', index=True)"
   ]
  },
  {
   "cell_type": "code",
   "execution_count": null,
   "metadata": {},
   "outputs": [],
   "source": [
    "# data = results_gwp_70.output['global_warming_potential_resource']\n",
    "# df = pd.DataFrame(data,index=[0])\n",
    "# df = df.T\n",
    "# # Export the DataFrame to an Excel file\n",
    "# df.to_excel('C:/Users/marcopdsousa/Desktop/Dataframes/mingwp70resource_emission.xlsx', index=True)"
   ]
  },
  {
   "cell_type": "code",
   "execution_count": null,
   "metadata": {},
   "outputs": [],
   "source": [
    "results_gwp_70.output[\"objective\"]"
   ]
  },
  {
   "cell_type": "code",
   "execution_count": null,
   "metadata": {},
   "outputs": [],
   "source": [
    "results_gwp_70.output['global_warming_potential_resource']"
   ]
  },
  {
   "cell_type": "code",
   "execution_count": null,
   "metadata": {},
   "outputs": [],
   "source": [
    "results_gwp_70.output[\"P\"]"
   ]
  },
  {
   "cell_type": "code",
   "execution_count": null,
   "metadata": {},
   "outputs": [],
   "source": [
    "results_gwp_70.output['global_warming_potential_location']"
   ]
  },
  {
   "cell_type": "code",
   "execution_count": null,
   "metadata": {},
   "outputs": [],
   "source": [
    "milp_gwp_75 = formulate(scenario=scenario, constraints={Constraints.COST, Constraints.INVENTORY, Constraints.PRODUCTION,\n",
    "                     Constraints.RESOURCE_BALANCE, Constraints.NETWORK, Constraints.DEMAND, Constraints.EMISSION}, objective=Objective.COST, demand_sign = 'eq')\n",
    "\n",
    "from energiapy.model.constraints.emission import constraint_global_warming_potential_network_reduction\n",
    "constraint_global_warming_potential_network_reduction(instance= milp_gwp_75, network_scale_level = 0, gwp_reduction_pct = 75, gwp = results_cost.output['global_warming_potential_network'][0])"
   ]
  },
  {
   "cell_type": "code",
   "execution_count": null,
   "metadata": {},
   "outputs": [],
   "source": [
    "from pyomo.environ import ConstraintList\n",
    "\n",
    "ramping_limit = 3\n",
    "\n",
    "milp_gwp_75.cons1 = ConstraintList()\n",
    "for i in scales.scale_iter(1):\n",
    "    if i != (0,0):\n",
    "        milp_gwp_75.cons1.add(expr = milp_gwp_75.P['HO', 'PEM', *i] - milp_gwp_75.P['HO', 'PEM', *scales.scale_iter(2)[scales.scale_iter(1).index(i) - 1]] <= ramping_limit)\n",
    "\n",
    "milp_gwp_75.cons2 = ConstraintList()\n",
    "for i in scales.scale_iter(1):\n",
    "    if i != (0,0):\n",
    "        milp_gwp_75.cons2.add(expr = milp_gwp_75.P['HO', 'SMR', *i] - milp_gwp_75.P['HO', 'SMR', *scales.scale_iter(2)[scales.scale_iter(1).index(i) - 1]] <= ramping_limit)\n",
    "\n",
    "milp_gwp_75.cons3 = ConstraintList()\n",
    "for i in scales.scale_iter(1):\n",
    "    if i != (0,0):\n",
    "        milp_gwp_75.cons3.add(expr = milp_gwp_75.P['HO', 'SMRCCS', *i] - milp_gwp_75.P['HO', 'SMRCCS', *scales.scale_iter(2)[scales.scale_iter(1).index(i) - 1]] <= ramping_limit)\n",
    "\n",
    "milp_gwp_75.cons4 = ConstraintList()\n",
    "for i in scales.scale_iter(2):\n",
    "    milp_gwp_75.cons4.add(expr = milp_gwp_75.P['HO', 'SMR', *i] >= 5)"
   ]
  },
  {
   "cell_type": "code",
   "execution_count": null,
   "metadata": {},
   "outputs": [],
   "source": [
    "results_gwp_75 = solve(scenario=scenario, instance=milp_gwp_75,\n",
    "                     solver='gurobi', name=f\"res_gwp_75\", print_solversteps=True, saveformat = '.pkl')"
   ]
  },
  {
   "cell_type": "code",
   "execution_count": null,
   "metadata": {},
   "outputs": [],
   "source": [
    "# data = results_gwp_75.output['P']\n",
    "# df = pd.DataFrame(data,index=[0])\n",
    "# df = df.T\n",
    "# # Export the DataFrame to an Excel file\n",
    "# df.to_excel('C:/Users/marcopdsousa/Desktop/Dataframes/mingwpprod75.xlsx', index=True)"
   ]
  },
  {
   "cell_type": "code",
   "execution_count": null,
   "metadata": {},
   "outputs": [],
   "source": [
    "results_gwp_75.output[\"objective\"]"
   ]
  },
  {
   "cell_type": "code",
   "execution_count": null,
   "metadata": {},
   "outputs": [],
   "source": [
    "results_gwp_75.output[\"P\"]"
   ]
  },
  {
   "cell_type": "code",
   "execution_count": null,
   "metadata": {},
   "outputs": [],
   "source": [
    "results_gwp_75.output['global_warming_potential_location']"
   ]
  },
  {
   "cell_type": "code",
   "execution_count": null,
   "metadata": {},
   "outputs": [],
   "source": [
    "milp_gwp_78 = formulate(scenario=scenario, constraints={Constraints.COST, Constraints.INVENTORY, Constraints.PRODUCTION,\n",
    "                     Constraints.RESOURCE_BALANCE, Constraints.NETWORK, Constraints.DEMAND, Constraints.EMISSION}, objective=Objective.COST, demand_sign = 'eq')\n",
    "\n",
    "from energiapy.model.constraints.emission import constraint_global_warming_potential_network_reduction\n",
    "constraint_global_warming_potential_network_reduction(instance= milp_gwp_78, network_scale_level = 0, gwp_reduction_pct = 78, gwp = results_cost.output['global_warming_potential_network'][0])"
   ]
  },
  {
   "cell_type": "code",
   "execution_count": null,
   "metadata": {},
   "outputs": [],
   "source": [
    "from pyomo.environ import ConstraintList\n",
    "\n",
    "ramping_limit = 3\n",
    "\n",
    "milp_gwp_78.cons1 = ConstraintList()\n",
    "for i in scales.scale_iter(1):\n",
    "    if i != (0,0):\n",
    "        milp_gwp_78.cons1.add(expr = milp_gwp_78.P['HO', 'PEM', *i] - milp_gwp_78.P['HO', 'PEM', *scales.scale_iter(2)[scales.scale_iter(1).index(i) - 1]] <= ramping_limit)\n",
    "\n",
    "milp_gwp_78.cons2 = ConstraintList()\n",
    "for i in scales.scale_iter(1):\n",
    "    if i != (0,0):\n",
    "        milp_gwp_78.cons2.add(expr = milp_gwp_78.P['HO', 'SMR', *i] - milp_gwp_78.P['HO', 'SMR', *scales.scale_iter(2)[scales.scale_iter(1).index(i) - 1]] <= ramping_limit)\n",
    "\n",
    "milp_gwp_78.cons3 = ConstraintList()\n",
    "for i in scales.scale_iter(1):\n",
    "    if i != (0,0):\n",
    "        milp_gwp_78.cons3.add(expr = milp_gwp_78.P['HO', 'SMRCCS', *i] - milp_gwp_78.P['HO', 'SMRCCS', *scales.scale_iter(2)[scales.scale_iter(1).index(i) - 1]] <= ramping_limit)\n",
    "\n",
    "milp_gwp_78.cons4 = ConstraintList()\n",
    "for i in scales.scale_iter(2):\n",
    "    milp_gwp_78.cons4.add(expr = milp_gwp_78.P['HO', 'SMR', *i] >= 5)"
   ]
  },
  {
   "cell_type": "code",
   "execution_count": null,
   "metadata": {},
   "outputs": [],
   "source": [
    "results_gwp_78 = solve(scenario=scenario, instance=milp_gwp_78,\n",
    "                     solver='gurobi', name=f\"res_gwp_78\", print_solversteps=True, saveformat = '.pkl')"
   ]
  },
  {
   "cell_type": "code",
   "execution_count": null,
   "metadata": {},
   "outputs": [],
   "source": [
    "results_gwp_78.output['objective']"
   ]
  },
  {
   "cell_type": "code",
   "execution_count": null,
   "metadata": {},
   "outputs": [],
   "source": [
    "results_gwp_78.output['global_warming_potential_location']"
   ]
  },
  {
   "cell_type": "code",
   "execution_count": null,
   "metadata": {},
   "outputs": [],
   "source": [
    "results_gwp_78.output[\"P\"]"
   ]
  },
  {
   "cell_type": "code",
   "execution_count": null,
   "metadata": {},
   "outputs": [],
   "source": [
    "# data = results_gwp_78.output['P']\n",
    "# df = pd.DataFrame(data,index=[0])\n",
    "# df = df.T\n",
    "# # Export the DataFrame to an Excel file\n",
    "# df.to_excel('C:/Users/marcopdsousa/Desktop/Dataframes/mingwpprod78.xlsx', index=True)"
   ]
  },
  {
   "cell_type": "code",
   "execution_count": null,
   "metadata": {},
   "outputs": [],
   "source": [
    "plot_results.cost(results=results_gwp_78, x=CostX.PROCESS_WISE,\n",
    "                  y=CostY.TOTAL, location='HO', fig_size=(11, 6))"
   ]
  },
  {
   "cell_type": "code",
   "execution_count": null,
   "metadata": {},
   "outputs": [],
   "source": [
    "milp_gwp_79 = formulate(scenario=scenario, constraints={Constraints.COST, Constraints.INVENTORY, Constraints.PRODUCTION,\n",
    "                     Constraints.RESOURCE_BALANCE, Constraints.NETWORK, Constraints.DEMAND, Constraints.EMISSION}, objective=Objective.COST, demand_sign = 'eq')\n",
    "\n",
    "from energiapy.model.constraints.emission import constraint_global_warming_potential_network_reduction\n",
    "constraint_global_warming_potential_network_reduction(instance= milp_gwp_79, network_scale_level = 0, gwp_reduction_pct = 79, gwp = results_cost.output['global_warming_potential_network'][0])"
   ]
  },
  {
   "cell_type": "code",
   "execution_count": null,
   "metadata": {},
   "outputs": [],
   "source": [
    "from pyomo.environ import ConstraintList\n",
    "\n",
    "ramping_limit = 3\n",
    "\n",
    "milp_gwp_79.cons1 = ConstraintList()\n",
    "for i in scales.scale_iter(1):\n",
    "    if i != (0,0):\n",
    "        milp_gwp_79.cons1.add(expr = milp_gwp_79.P['HO', 'PEM', *i] - milp_gwp_79.P['HO', 'PEM', *scales.scale_iter(2)[scales.scale_iter(1).index(i) - 1]] <= ramping_limit)\n",
    "\n",
    "milp_gwp_79.cons2 = ConstraintList()\n",
    "for i in scales.scale_iter(1):\n",
    "    if i != (0,0):\n",
    "        milp_gwp_79.cons2.add(expr = milp_gwp_79.P['HO', 'SMR', *i] - milp_gwp_79.P['HO', 'SMR', *scales.scale_iter(2)[scales.scale_iter(1).index(i) - 1]] <= ramping_limit)\n",
    "\n",
    "milp_gwp_79.cons3 = ConstraintList()\n",
    "for i in scales.scale_iter(1):\n",
    "    if i != (0,0):\n",
    "        milp_gwp_79.cons3.add(expr = milp_gwp_79.P['HO', 'SMRCCS', *i] - milp_gwp_79.P['HO', 'SMRCCS', *scales.scale_iter(2)[scales.scale_iter(1).index(i) - 1]] <= ramping_limit)\n",
    "\n",
    "milp_gwp_79.cons4 = ConstraintList()\n",
    "for i in scales.scale_iter(2):\n",
    "    milp_gwp_79.cons4.add(expr = milp_gwp_79.P['HO', 'SMR', *i] >= 5)"
   ]
  },
  {
   "cell_type": "code",
   "execution_count": null,
   "metadata": {},
   "outputs": [],
   "source": [
    "results_gwp_79 = solve(scenario=scenario, instance=milp_gwp_79,\n",
    "                     solver='gurobi', name=f\"res_gwp_79\", print_solversteps=True, saveformat = '.pkl')"
   ]
  },
  {
   "cell_type": "code",
   "execution_count": null,
   "metadata": {},
   "outputs": [],
   "source": [
    "results_gwp_79.output['objective']"
   ]
  },
  {
   "cell_type": "code",
   "execution_count": null,
   "metadata": {},
   "outputs": [],
   "source": [
    "results_gwp_79.output['global_warming_potential_location']"
   ]
  },
  {
   "cell_type": "code",
   "execution_count": null,
   "metadata": {},
   "outputs": [],
   "source": [
    "results_gwp_79.output['P']"
   ]
  },
  {
   "cell_type": "code",
   "execution_count": null,
   "metadata": {},
   "outputs": [],
   "source": [
    "milp_gwp_85 = formulate(scenario=scenario, constraints={Constraints.COST, Constraints.INVENTORY, Constraints.PRODUCTION,\n",
    "                     Constraints.RESOURCE_BALANCE, Constraints.NETWORK, Constraints.DEMAND, Constraints.EMISSION}, objective=Objective.COST, demand_sign = 'eq')\n",
    "\n",
    "from energiapy.model.constraints.emission import constraint_global_warming_potential_network_reduction\n",
    "constraint_global_warming_potential_network_reduction(instance= milp_gwp_85, network_scale_level = 0, gwp_reduction_pct = 85, gwp = results_cost.output['global_warming_potential_network'][0])"
   ]
  },
  {
   "cell_type": "code",
   "execution_count": null,
   "metadata": {},
   "outputs": [],
   "source": [
    "from pyomo.environ import ConstraintList\n",
    "\n",
    "ramping_limit = 3\n",
    "\n",
    "milp_gwp_85.cons1 = ConstraintList()\n",
    "for i in scales.scale_iter(1):\n",
    "    if i != (0,0):\n",
    "        milp_gwp_85.cons1.add(expr = milp_gwp_85.P['HO', 'PEM', *i] - milp_gwp_85.P['HO', 'PEM', *scales.scale_iter(2)[scales.scale_iter(1).index(i) - 1]] <= ramping_limit)\n",
    "\n",
    "milp_gwp_85.cons2 = ConstraintList()\n",
    "for i in scales.scale_iter(1):\n",
    "    if i != (0,0):\n",
    "        milp_gwp_85.cons2.add(expr = milp_gwp_85.P['HO', 'SMR', *i] - milp_gwp_85.P['HO', 'SMR', *scales.scale_iter(2)[scales.scale_iter(1).index(i) - 1]] <= ramping_limit)\n",
    "\n",
    "milp_gwp_85.cons3 = ConstraintList()\n",
    "for i in scales.scale_iter(1):\n",
    "    if i != (0,0):\n",
    "        milp_gwp_85.cons3.add(expr = milp_gwp_85.P['HO', 'SMRCCS', *i] - milp_gwp_85.P['HO', 'SMRCCS', *scales.scale_iter(2)[scales.scale_iter(1).index(i) - 1]] <= ramping_limit)\n",
    "\n",
    "milp_gwp_85.cons4 = ConstraintList()\n",
    "for i in scales.scale_iter(2):\n",
    "    milp_gwp_85.cons4.add(expr = milp_gwp_85.P['HO', 'SMR', *i] >= 5)"
   ]
  },
  {
   "cell_type": "code",
   "execution_count": null,
   "metadata": {},
   "outputs": [],
   "source": [
    "results_gwp_85 = solve(scenario=scenario, instance=milp_gwp_85,\n",
    "                     solver='gurobi', name=f\"res_gwp_85\", print_solversteps=True, saveformat = '.pkl')"
   ]
  },
  {
   "cell_type": "code",
   "execution_count": null,
   "metadata": {},
   "outputs": [],
   "source": [
    "# data = results_gwp_85.output['P']\n",
    "# df = pd.DataFrame(data,index=[0])\n",
    "# df = df.T\n",
    "# # Export the DataFrame to an Excel file\n",
    "# df.to_excel('C:/Users/marcopdsousa/Desktop/Dataframes/mingwpprod85.xlsx', index=True)"
   ]
  },
  {
   "cell_type": "code",
   "execution_count": null,
   "metadata": {},
   "outputs": [],
   "source": [
    "results_gwp_85.output['objective']"
   ]
  },
  {
   "cell_type": "code",
   "execution_count": null,
   "metadata": {},
   "outputs": [],
   "source": [
    "results_gwp_85.output['global_warming_potential_location']"
   ]
  },
  {
   "cell_type": "code",
   "execution_count": null,
   "metadata": {},
   "outputs": [],
   "source": [
    "results_gwp_85.output['P']"
   ]
  },
  {
   "cell_type": "code",
   "execution_count": null,
   "metadata": {},
   "outputs": [],
   "source": [
    "milp_gwp_80 = formulate(scenario=scenario, constraints={Constraints.COST, Constraints.INVENTORY, Constraints.PRODUCTION,\n",
    "                     Constraints.RESOURCE_BALANCE, Constraints.NETWORK, Constraints.DEMAND, Constraints.EMISSION}, objective=Objective.COST, demand_sign = 'eq')\n",
    "\n",
    "from energiapy.model.constraints.emission import constraint_global_warming_potential_network_reduction\n",
    "constraint_global_warming_potential_network_reduction(instance= milp_gwp_80, network_scale_level = 0, gwp_reduction_pct = 80, gwp = results_cost.output['global_warming_potential_network'][0])"
   ]
  },
  {
   "cell_type": "code",
   "execution_count": null,
   "metadata": {},
   "outputs": [],
   "source": [
    "from pyomo.environ import ConstraintList\n",
    "\n",
    "ramping_limit = 3\n",
    "\n",
    "milp_gwp_80.cons1 = ConstraintList()\n",
    "for i in scales.scale_iter(1):\n",
    "    if i != (0,0):\n",
    "        milp_gwp_80.cons1.add(expr = milp_gwp_80.P['HO', 'PEM', *i] - milp_gwp_80.P['HO', 'PEM', *scales.scale_iter(2)[scales.scale_iter(1).index(i) - 1]] <= ramping_limit)\n",
    "\n",
    "milp_gwp_80.cons2 = ConstraintList()\n",
    "for i in scales.scale_iter(1):\n",
    "    if i != (0,0):\n",
    "        milp_gwp_80.cons2.add(expr = milp_gwp_80.P['HO', 'SMR', *i] - milp_gwp_80.P['HO', 'SMR', *scales.scale_iter(2)[scales.scale_iter(1).index(i) - 1]] <= ramping_limit)\n",
    "\n",
    "milp_gwp_80.cons3 = ConstraintList()\n",
    "for i in scales.scale_iter(1):\n",
    "    if i != (0,0):\n",
    "        milp_gwp_80.cons3.add(expr = milp_gwp_80.P['HO', 'SMRCCS', *i] - milp_gwp_80.P['HO', 'SMRCCS', *scales.scale_iter(2)[scales.scale_iter(1).index(i) - 1]] <= ramping_limit)\n",
    "\n",
    "milp_gwp_80.cons4 = ConstraintList()\n",
    "for i in scales.scale_iter(2):\n",
    "    milp_gwp_80.cons4.add(expr = milp_gwp_80.P['HO', 'SMR', *i] >= 5)"
   ]
  },
  {
   "cell_type": "code",
   "execution_count": null,
   "metadata": {},
   "outputs": [],
   "source": [
    "results_gwp_80 = solve(scenario=scenario, instance=milp_gwp_80,\n",
    "                     solver='gurobi', name=f\"res_gwp_80\", print_solversteps=True, saveformat = '.pkl')"
   ]
  },
  {
   "cell_type": "code",
   "execution_count": null,
   "metadata": {},
   "outputs": [],
   "source": [
    "# data = results_gwp_80.output['P']\n",
    "# df = pd.DataFrame(data,index=[0])\n",
    "# df = df.T\n",
    "# # Export the DataFrame to an Excel file\n",
    "# df.to_excel('C:/Users/marcopdsousa/Desktop/Dataframes/mingwpprod80.xlsx', index=True)"
   ]
  },
  {
   "cell_type": "code",
   "execution_count": null,
   "metadata": {},
   "outputs": [],
   "source": [
    "# data = results_gwp_80.output['global_warming_potential_resource']\n",
    "# df = pd.DataFrame(data,index=[0])\n",
    "# df = df.T\n",
    "# # Export the DataFrame to an Excel file\n",
    "# df.to_excel('C:/Users/marcopdsousa/Desktop/Dataframes/mingwp80resource_emission.xlsx', index=True)"
   ]
  },
  {
   "cell_type": "code",
   "execution_count": null,
   "metadata": {},
   "outputs": [],
   "source": [
    "results_gwp_80.output['objective']"
   ]
  },
  {
   "cell_type": "code",
   "execution_count": null,
   "metadata": {},
   "outputs": [],
   "source": [
    "results_gwp_80.output['global_warming_potential_location']"
   ]
  },
  {
   "cell_type": "code",
   "execution_count": null,
   "metadata": {},
   "outputs": [],
   "source": [
    "milp_gwp_90 = formulate(scenario=scenario, constraints={Constraints.COST, Constraints.INVENTORY, Constraints.PRODUCTION,\n",
    "                     Constraints.RESOURCE_BALANCE, Constraints.NETWORK, Constraints.DEMAND, Constraints.EMISSION}, objective=Objective.COST, demand_sign = 'eq')\n",
    "\n",
    "from energiapy.model.constraints.emission import constraint_global_warming_potential_network_reduction\n",
    "constraint_global_warming_potential_network_reduction(instance= milp_gwp_90, network_scale_level = 0, gwp_reduction_pct = 90, gwp = results_cost.output['global_warming_potential_network'][0])"
   ]
  },
  {
   "cell_type": "code",
   "execution_count": null,
   "metadata": {},
   "outputs": [],
   "source": [
    "from pyomo.environ import ConstraintList\n",
    "\n",
    "ramping_limit = 3\n",
    "\n",
    "milp_gwp_90.cons1 = ConstraintList()\n",
    "for i in scales.scale_iter(1):\n",
    "    if i != (0,0):\n",
    "        milp_gwp_90.cons1.add(expr = milp_gwp_90.P['HO', 'PEM', *i] - milp_gwp_90.P['HO', 'PEM', *scales.scale_iter(2)[scales.scale_iter(1).index(i) - 1]] <= ramping_limit)\n",
    "\n",
    "milp_gwp_90.cons2 = ConstraintList()\n",
    "for i in scales.scale_iter(1):\n",
    "    if i != (0,0):\n",
    "        milp_gwp_90.cons2.add(expr = milp_gwp_90.P['HO', 'SMR', *i] - milp_gwp_90.P['HO', 'SMR', *scales.scale_iter(2)[scales.scale_iter(1).index(i) - 1]] <= ramping_limit)\n",
    "\n",
    "milp_gwp_90.cons3 = ConstraintList()\n",
    "for i in scales.scale_iter(1):\n",
    "    if i != (0,0):\n",
    "        milp_gwp_90.cons3.add(expr = milp_gwp_90.P['HO', 'SMRCCS', *i] - milp_gwp_90.P['HO', 'SMRCCS', *scales.scale_iter(2)[scales.scale_iter(1).index(i) - 1]] <= ramping_limit)\n",
    "\n",
    "milp_gwp_90.cons4 = ConstraintList()\n",
    "for i in scales.scale_iter(2):\n",
    "    milp_gwp_90.cons4.add(expr = milp_gwp_90.P['HO', 'SMR', *i] >= 5)"
   ]
  },
  {
   "cell_type": "code",
   "execution_count": null,
   "metadata": {},
   "outputs": [],
   "source": [
    "results_gwp_90 = solve(scenario=scenario, instance=milp_gwp_90,\n",
    "                     solver='gurobi', name=f\"res_gwp_90\", print_solversteps=True, saveformat = '.pkl')"
   ]
  },
  {
   "cell_type": "code",
   "execution_count": null,
   "metadata": {},
   "outputs": [],
   "source": [
    "# data = results_gwp_90.output['P']\n",
    "# df = pd.DataFrame(data,index=[0])\n",
    "# df = df.T\n",
    "# # Export the DataFrame to an Excel file\n",
    "# df.to_excel('C:/Users/marcopdsousa/Desktop/Dataframes/mingwpprod90.xlsx', index=True)"
   ]
  },
  {
   "cell_type": "code",
   "execution_count": null,
   "metadata": {},
   "outputs": [],
   "source": [
    "# data = results_gwp_90.output['global_warming_potential_resource']\n",
    "# df = pd.DataFrame(data,index=[0])\n",
    "# df = df.T\n",
    "# # Export the DataFrame to an Excel file\n",
    "# df.to_excel('C:/Users/marcopdsousa/Desktop/Dataframes/mingwp90resource_emission.xlsx', index=True)"
   ]
  },
  {
   "cell_type": "code",
   "execution_count": null,
   "metadata": {},
   "outputs": [],
   "source": [
    "results_gwp_90.output['objective']"
   ]
  },
  {
   "cell_type": "code",
   "execution_count": null,
   "metadata": {},
   "outputs": [],
   "source": [
    "results_gwp_90.output['global_warming_potential_location']"
   ]
  },
  {
   "cell_type": "code",
   "execution_count": null,
   "metadata": {},
   "outputs": [],
   "source": [
    "results_gwp_90.output['P']"
   ]
  },
  {
   "cell_type": "code",
   "execution_count": null,
   "metadata": {},
   "outputs": [],
   "source": [
    "milp_gwp_92 = formulate(scenario=scenario, constraints={Constraints.COST, Constraints.INVENTORY, Constraints.PRODUCTION,\n",
    "                     Constraints.RESOURCE_BALANCE, Constraints.NETWORK, Constraints.DEMAND, Constraints.EMISSION}, objective=Objective.COST, demand_sign = 'eq')\n",
    "\n",
    "from energiapy.model.constraints.emission import constraint_global_warming_potential_network_reduction\n",
    "constraint_global_warming_potential_network_reduction(instance= milp_gwp_92, network_scale_level = 0, gwp_reduction_pct = 92, gwp = results_cost.output['global_warming_potential_network'][0])"
   ]
  },
  {
   "cell_type": "code",
   "execution_count": null,
   "metadata": {},
   "outputs": [],
   "source": [
    "from pyomo.environ import ConstraintList\n",
    "\n",
    "ramping_limit = 3\n",
    "\n",
    "milp_gwp_92.cons1 = ConstraintList()\n",
    "for i in scales.scale_iter(1):\n",
    "    if i != (0,0):\n",
    "        milp_gwp_92.cons1.add(expr = milp_gwp_92.P['HO', 'PEM', *i] - milp_gwp_92.P['HO', 'PEM', *scales.scale_iter(2)[scales.scale_iter(1).index(i) - 1]] <= ramping_limit)\n",
    "\n",
    "milp_gwp_92.cons2 = ConstraintList()\n",
    "for i in scales.scale_iter(1):\n",
    "    if i != (0,0):\n",
    "        milp_gwp_92.cons2.add(expr = milp_gwp_92.P['HO', 'SMR', *i] - milp_gwp_92.P['HO', 'SMR', *scales.scale_iter(2)[scales.scale_iter(1).index(i) - 1]] <= ramping_limit)\n",
    "\n",
    "milp_gwp_92.cons3 = ConstraintList()\n",
    "for i in scales.scale_iter(1):\n",
    "    if i != (0,0):\n",
    "        milp_gwp_92.cons3.add(expr = milp_gwp_92.P['HO', 'SMRCCS', *i] - milp_gwp_92.P['HO', 'SMRCCS', *scales.scale_iter(2)[scales.scale_iter(1).index(i) - 1]] <= ramping_limit)\n",
    "\n",
    "milp_gwp_92.cons4 = ConstraintList()\n",
    "for i in scales.scale_iter(2):\n",
    "    milp_gwp_92.cons4.add(expr = milp_gwp_92.P['HO', 'SMR', *i] >= 5)"
   ]
  },
  {
   "cell_type": "code",
   "execution_count": null,
   "metadata": {},
   "outputs": [],
   "source": [
    "results_gwp_92 = solve(scenario=scenario, instance=milp_gwp_92,\n",
    "                     solver='gurobi', name=f\"res_gwp_92\", print_solversteps=True, saveformat = '.pkl')"
   ]
  },
  {
   "cell_type": "code",
   "execution_count": null,
   "metadata": {},
   "outputs": [],
   "source": [
    "results_gwp_92.output['objective']"
   ]
  },
  {
   "cell_type": "code",
   "execution_count": null,
   "metadata": {},
   "outputs": [],
   "source": [
    "results_gwp_92.output['global_warming_potential_location']"
   ]
  },
  {
   "cell_type": "code",
   "execution_count": null,
   "metadata": {},
   "outputs": [],
   "source": [
    "results_gwp_92.output['P']"
   ]
  },
  {
   "cell_type": "code",
   "execution_count": null,
   "metadata": {},
   "outputs": [],
   "source": [
    "# data = results_gwp_92.output['P']\n",
    "# df = pd.DataFrame(data,index=[0])\n",
    "# df = df.T\n",
    "# # Export the DataFrame to an Excel file\n",
    "# df.to_excel('C:/Users/marcopdsousa/Desktop/Dataframes/mingwpprod92.xlsx', index=True)"
   ]
  }
 ],
 "metadata": {
  "kernelspec": {
   "display_name": "Python 3.10.5 ('ki': venv)",
   "language": "python",
   "name": "python3"
  },
  "language_info": {
   "codemirror_mode": {
    "name": "ipython",
    "version": 3
   },
   "file_extension": ".py",
   "mimetype": "text/x-python",
   "name": "python",
   "nbconvert_exporter": "python",
   "pygments_lexer": "ipython3",
   "version": "3.11.8"
  },
  "orig_nbformat": 4,
  "vscode": {
   "interpreter": {
    "hash": "a4a97498e3c1bfef05f70a75d4fcafcb7b5c9c4ed86429a4e7bee46eaa890f24"
   }
  }
 },
 "nbformat": 4,
 "nbformat_minor": 2
}
