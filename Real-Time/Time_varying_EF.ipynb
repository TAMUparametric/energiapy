{
 "cells": [
  {
   "attachments": {},
   "cell_type": "markdown",
   "metadata": {},
   "source": [
    "# Real-time carbon accounting and material transition for hydrogen systems"
   ]
  },
  {
   "attachments": {},
   "cell_type": "markdown",
   "metadata": {},
   "source": [
    "__author__ = \"Marco De Sousa\"\n",
    "__copyright__ = \"Copyright 2023, Multi-parametric Optimization & Control Lab\"\n",
    "__credits__ = [\"Marco De Sousa\", \"Rahul Kakodkar\", \"Efstratios N. Pistikopoulos\"]\n",
    "__license__ = \"MIT\"\n",
    "__version__ = \"1.1.0\"\n",
    "__maintainer__ = \"Marco De Sousa\"\n",
    "__email__ = \"marcopdsousa@tamu.edu\"\n",
    "__status__ = \"Production\"\n"
   ]
  },
  {
   "attachments": {},
   "cell_type": "markdown",
   "metadata": {},
   "source": [
    "## Problem Statement"
   ]
  },
  {
   "attachments": {},
   "cell_type": "markdown",
   "metadata": {},
   "source": [
    "The following case study considers three different type of solar photovoltaics, namely Monocrystalline (PV_Mo), Polycrystalline (PV_Po), and Cadmium Telluride (PV_Cd) and  Lithium-ion batteries made of either rock-based lithium (LiI_Ro) or brine-based lithium (LiI_Br).\n",
    "\n",
    "The goal is to meet a fixed demand of hydrogen on a daily scale while optimizing the production process by using forecasting techniques.\n",
    "\n",
    "It is important to note that three different hydrogen pathways can be utilized each with their respective emissions.\n",
    "\n",
    "Hypothesis: By using real-time carbon accounting, decisions and changes can be made in a more dynamic nature.\n",
    "\n",
    "Users are advised caution in terms of assigning the emissions at the appropriate levels and avoiding double account. For example, if providing the global warming potentials (GWP) for each individual material to make up a process, the GWP for processes should only consider the values for construction. Moreover, the direct emissions are considered through the resource balance constraint."
   ]
  },
  {
   "attachments": {},
   "cell_type": "markdown",
   "metadata": {},
   "source": [
    "## Nomenclature"
   ]
  },
  {
   "attachments": {},
   "cell_type": "markdown",
   "metadata": {},
   "source": [
    "\n",
    "\n",
    "*Sets*\n",
    "\n",
    "\n",
    "$\\mathcal{R}$ - set of all resources r\n",
    "\n",
    "$\\mathcal{P}$ - set of all processes p\n",
    "\n",
    "$\\mathcal{T}$ - set of temporal periods t\n",
    "\n",
    "$\\mathcal{B}$ - set of transport modes b\n",
    "\n",
    "$\\mathcal{L}$ - set of locations l\n",
    "\n",
    "$\\mathcal{M}$ - set of materials m\n",
    "\n",
    "*Subsets*\n",
    "\n",
    "\n",
    "$\\mathcal{R}^{storage}$ - set of resources that can be stored\n",
    "\n",
    "$\\mathcal{R}^{sell}$ - set of resources that can be discharged\n",
    "\n",
    "$\\mathcal{R}^{demand}$ - set of resources that meet  demand\n",
    "\n",
    "$\\mathcal{R}^{cons}$ - set of resources that can be consumed\n",
    "\n",
    "$\\mathcal{R}^{trans}$ - set of resources that can be transported\n",
    "\n",
    "$\\mathcal{P}^{uncertain}$ - set of processes with uncertain capacity\n",
    "\n",
    "$\\mathcal{T}^{net}$ - set of temporal periods t for network level decision making\n",
    "\n",
    "$\\mathcal{T}^{sch}$ - set of temporal periods t for schedule level decision making\n",
    "\n",
    "*Continuous Variables*\n",
    "\n",
    "\n",
    "$P_{l,p,t}$ - production level of p $\\in$  $\\mathcal{P}$ in time period t $\\in$ $\\mathcal{T}^{sch}$  \n",
    "\n",
    "$C_{l,r,t}$ - consumption of r $\\in$ in $\\mathcal{R}^{cons}$ time period t $\\in$ $\\mathcal{T}^{sch}$ \n",
    "\n",
    "$S_{l,r,t}$ - discharge of r $\\in$ in $\\mathcal{R}^{demand}$ time period t $\\in$ $\\mathcal{T}^{sch}$ \n",
    "\n",
    "$Inv_{l,r,t}$ - inventory level of r $\\in$ $\\mathcal{R}^{storage}$  in time period t $\\in$ $\\mathcal{T}^{sch}$\n",
    "\n",
    "$Cap^S_{l,r,t}$ - installed inventory capacity for resource r $\\in$  $\\mathcal{R}^{storage}$ in time period t $\\in$ $\\mathcal{T}^{net}$\n",
    "\n",
    "$Cap^P_{l,p,t}$ - installed production capacity for process p $\\in$ $\\mathcal{P}$ in time period t $\\in$ $\\mathcal{T}^{net}$\n",
    "\n",
    "$Mat^P_{l,p,m,t}$ - material m $\\in$ $\\mathcal{M}$ used by process p $\\in$ $\\mathcal{P}$ in time period t $\\in$ $\\mathcal{T}^{net}$\n",
    "\n",
    "$Em^{p/r/m}_{l,p/r/m,t}$ - emission from process/resource/material in time t $\\in$ $\\mathcal{T}^{net}$\n",
    "\n",
    "\n",
    "*Binary Variables*\n",
    "\n",
    "$X^P_{l,p,t}$ - network binary for production process p $\\in$ $\\mathcal{P}$\n",
    "\n",
    "$X^S_{l,r,t}$ - network binary for inventory of resource r $\\in$  $\\mathcal{R}^{storage}$ \n",
    "\n",
    "*Parameters*\n",
    "\n",
    "$Cap^{P-max}_{l,p,t}$ - maximum production capacity of process p $\\in$ $\\mathcal{P}$ in time t $\\in$ $\\mathcal{T}^{net}$\n",
    "\n",
    "$Cap^{S-max}_{l,r,t}$ - maximum inventory capacity for process r $\\in$ $\\mathcal{R}^{storage}$ in time t $\\in$ $\\mathcal{T}^{net}$\n",
    "\n",
    "$Capex_{l,p,t}$ - capital expenditure for process p $\\in$ $\\mathcal{P}$ in time t $\\in$ $\\mathcal{T}^{net}$\n",
    "\n",
    "$Vopex_{l,p,t}$ - variable operational expenditure for process p $\\in$ $\\mathcal{P}$ in time t $\\in$ $\\mathcal{T}^{sch}$\n",
    "\n",
    "$Price_{l,r,t}$ - purchase price for resource r $\\in$ $\\mathcal{R}^{cons}$ in time t $\\in$ $\\mathcal{T}^{sch}$\n",
    "\n",
    "$C^{max}_{l,r,t}$ - maximum consumption availability for resource r $\\in$ $\\mathcal{R}^{cons}$ in time t $\\in$ $\\mathcal{T}^{sch}$\n",
    "\n",
    "$D_{l,r,t}$ - demand for resource r $in$ $\\mathcal{R}^{sell}$ in time t $\\in$ $\\mathcal{T}^{sch}$\n",
    "\n",
    "$\\alpha$ - annualization factor\n",
    "\n",
    "$Mat^{cons}_{p,m}$ - material m $\\in$ $\\mathcal{M}$ consumed by process p $\\in$ $\\mathcal{P}$\n",
    "\n",
    "$GWP^{p/r/m}_{l,p/r/m,t}$ - global warming indicators for process/resource/material in time t $\\in$ $\\mathcal{T}^{net}$\n"
   ]
  },
  {
   "attachments": {},
   "cell_type": "markdown",
   "metadata": {},
   "source": [
    "## MILP Formulation"
   ]
  },
  {
   "attachments": {},
   "cell_type": "markdown",
   "metadata": {},
   "source": [
    "Given is a mulit-scale modeling and optimization MILP framework for the simultaneous design and schedule planning of a single location energy system \n",
    "\n",
    "\\begin{equation}\n",
    "min \\sum_{l \\in \\mathcal{L}} \\Big(\\sum_{t \\in \\mathcal{T}^{net}} \\sum_{p \\in \\mathcal{P}} (\\alpha \\times Capex_{l,p,t} + Fopex_{l,p,t}) \\times Cap^P_{l,p,t} +  \\sum_{t \\in \\mathcal{T}^{sch}} \\sum_{r \\in \\mathcal{R}}  Vopex_{l,r,t} \\times P_{l,r,t} \n",
    "\\end{equation}\n",
    "\n",
    "\\begin{equation*}\n",
    "+ \\sum_{t \\in \\mathcal{T}^{sch}} \\sum_{r \\in \\mathcal{R}^{cons}} C_{l,r,t} \\times Price_{l,r,t} \\Big)\n",
    "\\end{equation*}\n",
    "\n",
    "\\begin{equation}\n",
    "Cap^S_{l,r,t} \\leq Cap^{S-max}_{l,r,t} \\times X^S_{l,r,t} \\hspace{1cm} \\forall r \\in \\mathcal{R}^{storage}, t \\in \\mathcal{T}^{net}\n",
    "\\end{equation}\n",
    "\n",
    "\\begin{equation}\n",
    "Cap^P_{l,p,t} \\leq Cap^{P-max}_{l,p,t} \\times X^P_{l,p,t}  \\hspace{1cm} \\forall p \\in \\mathcal{P}, t \\in \\mathcal{T}^{net}, l \\in \\mathcal{L}\n",
    "\\end{equation} \n",
    "\n",
    "\\begin{equation}\n",
    "P_{l,p,t} \\leq Cap^{P}_{l,p,t}  \\hspace{1cm} \\forall p \\in \\mathcal{P}, t \\in \\mathcal{T}^{sch}\n",
    "\\end{equation} \n",
    "\n",
    "\\begin{equation}\n",
    "Inv_{l,r,t} \\leq Cap^{S}_{l,r,t}  \\hspace{1cm} \\forall r \\in \\mathcal{R}^{storage}, t \\in \\mathcal{T}^{sch}\n",
    "\\end{equation} \n",
    "\n",
    "\n",
    "\\begin{equation}\n",
    "- S_{l,r,t} \\leq - D_{l,r,t}  \\hspace{1cm} \\forall r \\in \\mathcal{R}, t \\in \\mathcal{T}^{sch}\n",
    "\\end{equation}\n",
    "\n",
    "\\begin{equation}\n",
    "C_{l,r,t} \\leq C^{max}_{l,r,t} \\hspace{1cm} \\forall r \\in \\mathcal{R}, t \\in \\mathcal{T}^{sch}\n",
    "\\end{equation}\n",
    "\n",
    "\\begin{equation}\n",
    "\\sum_{p \\in \\mathcal{P}} P_{l,p,t} \\times \\eta(p,r) + C_{l,r,t} +  Inv_{l,r,t-1}=  Inv_{l,r,t} + S_{l,r,t}  \n",
    "\\end{equation}\n",
    "\n",
    "\\begin{equation*}\n",
    "\\forall r \\in \\mathcal{R}^{cons}, t \\in \\mathcal{T}^{sch}, l \\in \\mathcal{L}\n",
    "\\end{equation*}\n",
    "\n",
    "\\begin{equation}\n",
    "Mat_{l,p,m,t} = Mat^{cons}_{p,m} \\times Cap^P_{l,p,t} \\hspace{1cm} \\forall m \\in \\mathcal{M}, p \\in \\mathcal{P}, t \\in \\mathcal{T}^{net}\n",
    "\\end{equation}\n",
    "\n",
    "\\begin{equation}\n",
    "Em^{r}_{l,r,t} = GWP^{r}_{l,r,t} \\times C_{l,r,t} \\hspace{1cm} \\forall r \\in \\mathcal{R}, t \\in \\mathcal{T}^{sch}\n",
    "\\end{equation}\n",
    "\n",
    "\\begin{equation}\n",
    "Em^{m}_{l,m,t} = GWP^{m}_{l,m,t} \\times \\sum_{p \\in \\mathcal{P}} Mat_{l,p,m,t} \\hspace{1cm} \\forall p \\in \\mathcal{P}, t \\in \\mathcal{T}^{net}\n",
    "\\end{equation}\n",
    "\n",
    "\\begin{equation}\n",
    "Em^{p}_{l,p,t} = GWP^{p}_{l,p,t} \\times Cap_{l,p,t} \\hspace{1cm} \\forall p \\in \\mathcal{P}, t \\in \\mathcal{T}^{net}\n",
    "\\end{equation}\n",
    "\n",
    "\\begin{equation}\n",
    "S_{l,r,t}, C_{l,r,t}, Inv_{l,r,t}, P_{l,p,t}, Cap^P_{l,p,t}, Cap^S_{l,r,t}, Mat_{l,p,m,t}, Em^{p/r/m}_{l,p/r/m,t} \\in R_{\\geq 0}\n",
    "\\end{equation}\n",
    "\n"
   ]
  },
  {
   "attachments": {},
   "cell_type": "markdown",
   "metadata": {},
   "source": [
    "## Import Modules"
   ]
  },
  {
   "cell_type": "code",
   "execution_count": 32,
   "metadata": {},
   "outputs": [],
   "source": [
    "import sys\n",
    "sys.path.append('../src')"
   ]
  },
  {
   "cell_type": "code",
   "execution_count": 33,
   "metadata": {},
   "outputs": [],
   "source": [
    "import pandas as pd\n",
    "import numpy\n",
    "from energiapy.components.temporal_scale import TemporalScale\n",
    "from energiapy.components.resource import Resource, VaryingResource, Scope\n",
    "from energiapy.components.process import Process, VaryingProcess\n",
    "from energiapy.components.material import Material\n",
    "from energiapy.components.location import Location\n",
    "from energiapy.components.network import Network\n",
    "from energiapy.components.scenario import Scenario\n",
    "from energiapy.components.transport import Transport\n",
    "from energiapy.model.formulate import formulate, Constraints, Objective\n",
    "from energiapy.utils.nsrdb_utils import fetch_nsrdb_data\n",
    "from energiapy.plot import plot_results, plot_scenario\n",
    "from energiapy.plot.plot_results import CostY, CostX\n",
    "from energiapy.model.solve import solve\n",
    "from itertools import product\n",
    "from energiapy.components.result import Result\n",
    "from itertools import product\n",
    "from matplotlib import rc\n",
    "import matplotlib.pyplot as plt\n",
    "from energiapy.model.solve import solve\n",
    "from energiapy.plot.plot_results import CostY, CostX\n",
    "from energiapy.components.location import Location\n",
    "from energiapy.plot import plot_results, plot_scenario\n",
    "from energiapy.utils.nsrdb_utils import fetch_nsrdb_data\n",
    "from energiapy.model.formulate import formulate, Constraints, Objective\n",
    "from energiapy.model.bounds import CapacityBounds\n",
    "from energiapy.utils.data_utils import get_data, make_henry_price_df, remove_outliers, load_results\n",
    "from energiapy.conversion.photovoltaic import solar_power_output\n",
    "from energiapy.conversion.windmill import wind_power_output\n",
    "from energiapy.model.constraints.integer_cuts import constraint_block_integer_cut, constraint_block_integer_cut_min"
   ]
  },
  {
   "attachments": {},
   "cell_type": "markdown",
   "metadata": {},
   "source": [
    "## Data Import"
   ]
  },
  {
   "cell_type": "code",
   "execution_count": 34,
   "metadata": {},
   "outputs": [],
   "source": [
    "horizon = 1"
   ]
  },
  {
   "attachments": {},
   "cell_type": "markdown",
   "metadata": {},
   "source": [
    "The following data is needed for the model\n",
    "\n",
    "- Daily demands of hydrogen.\n",
    "- The capacity factor of renewable energy sources and traditional grid power.\n"
   ]
  },
  {
   "attachments": {},
   "cell_type": "markdown",
   "metadata": {},
   "source": [
    "**Declare temporal scale**\n",
    "\n",
    "The variabilities of energy systems are best captured over a discretized spatio-temporal scale. In energiapy, the first declaration is the temporal scale. \n",
    "\n",
    "For e.g.: Here we declare three temporal scales at different levels from right to left. The interpretation of these scales is merely symentic. Scales can be declared as the problem demands.\n",
    "- 0, annual, with 1 discretization\n",
    "- 1, daily with 365 discretization\n",
    "- 2, hourly with 24 discretization\n",
    "\n",
    "In essence, we are creating a temporal scale of 8760 points.\n",
    "\n"
   ]
  },
  {
   "cell_type": "code",
   "execution_count": 35,
   "metadata": {},
   "outputs": [],
   "source": [
    "scales = TemporalScale(discretization_list=[1, 24])"
   ]
  },
  {
   "attachments": {},
   "cell_type": "markdown",
   "metadata": {},
   "source": [
    "## Declare resources"
   ]
  },
  {
   "attachments": {},
   "cell_type": "markdown",
   "metadata": {},
   "source": [
    "Resources can be consumed, produced, stored, discharged (or sold).\n",
    "\n",
    "Power demand follows a varying deterministic demand"
   ]
  },
  {
   "cell_type": "code",
   "execution_count": 36,
   "metadata": {},
   "outputs": [],
   "source": [
    "bigM = 10**8\n",
    "smallM = 0.001"
   ]
  },
  {
   "cell_type": "markdown",
   "metadata": {},
   "source": [
    "Hourly electricity prices"
   ]
  },
  {
   "cell_type": "code",
   "execution_count": 37,
   "metadata": {},
   "outputs": [
    {
     "data": {
      "text/html": [
       "<div>\n",
       "<style scoped>\n",
       "    .dataframe tbody tr th:only-of-type {\n",
       "        vertical-align: middle;\n",
       "    }\n",
       "\n",
       "    .dataframe tbody tr th {\n",
       "        vertical-align: top;\n",
       "    }\n",
       "\n",
       "    .dataframe thead th {\n",
       "        text-align: right;\n",
       "    }\n",
       "</style>\n",
       "<table border=\"1\" class=\"dataframe\">\n",
       "  <thead>\n",
       "    <tr style=\"text-align: right;\">\n",
       "      <th></th>\n",
       "      <th>DAM Houston</th>\n",
       "    </tr>\n",
       "  </thead>\n",
       "  <tbody>\n",
       "    <tr>\n",
       "      <th>0</th>\n",
       "      <td>20.23</td>\n",
       "    </tr>\n",
       "    <tr>\n",
       "      <th>1</th>\n",
       "      <td>18.38</td>\n",
       "    </tr>\n",
       "    <tr>\n",
       "      <th>2</th>\n",
       "      <td>16.45</td>\n",
       "    </tr>\n",
       "    <tr>\n",
       "      <th>3</th>\n",
       "      <td>15.96</td>\n",
       "    </tr>\n",
       "    <tr>\n",
       "      <th>4</th>\n",
       "      <td>16.32</td>\n",
       "    </tr>\n",
       "    <tr>\n",
       "      <th>5</th>\n",
       "      <td>17.54</td>\n",
       "    </tr>\n",
       "    <tr>\n",
       "      <th>6</th>\n",
       "      <td>18.60</td>\n",
       "    </tr>\n",
       "    <tr>\n",
       "      <th>7</th>\n",
       "      <td>17.52</td>\n",
       "    </tr>\n",
       "    <tr>\n",
       "      <th>8</th>\n",
       "      <td>14.98</td>\n",
       "    </tr>\n",
       "    <tr>\n",
       "      <th>9</th>\n",
       "      <td>15.74</td>\n",
       "    </tr>\n",
       "    <tr>\n",
       "      <th>10</th>\n",
       "      <td>17.74</td>\n",
       "    </tr>\n",
       "    <tr>\n",
       "      <th>11</th>\n",
       "      <td>25.36</td>\n",
       "    </tr>\n",
       "    <tr>\n",
       "      <th>12</th>\n",
       "      <td>30.09</td>\n",
       "    </tr>\n",
       "    <tr>\n",
       "      <th>13</th>\n",
       "      <td>43.45</td>\n",
       "    </tr>\n",
       "    <tr>\n",
       "      <th>14</th>\n",
       "      <td>51.09</td>\n",
       "    </tr>\n",
       "    <tr>\n",
       "      <th>15</th>\n",
       "      <td>53.69</td>\n",
       "    </tr>\n",
       "    <tr>\n",
       "      <th>16</th>\n",
       "      <td>57.77</td>\n",
       "    </tr>\n",
       "    <tr>\n",
       "      <th>17</th>\n",
       "      <td>52.90</td>\n",
       "    </tr>\n",
       "    <tr>\n",
       "      <th>18</th>\n",
       "      <td>73.24</td>\n",
       "    </tr>\n",
       "    <tr>\n",
       "      <th>19</th>\n",
       "      <td>117.36</td>\n",
       "    </tr>\n",
       "    <tr>\n",
       "      <th>20</th>\n",
       "      <td>63.83</td>\n",
       "    </tr>\n",
       "    <tr>\n",
       "      <th>21</th>\n",
       "      <td>28.00</td>\n",
       "    </tr>\n",
       "    <tr>\n",
       "      <th>22</th>\n",
       "      <td>22.28</td>\n",
       "    </tr>\n",
       "    <tr>\n",
       "      <th>23</th>\n",
       "      <td>18.47</td>\n",
       "    </tr>\n",
       "  </tbody>\n",
       "</table>\n",
       "</div>"
      ],
      "text/plain": [
       "    DAM Houston\n",
       "0         20.23\n",
       "1         18.38\n",
       "2         16.45\n",
       "3         15.96\n",
       "4         16.32\n",
       "5         17.54\n",
       "6         18.60\n",
       "7         17.52\n",
       "8         14.98\n",
       "9         15.74\n",
       "10        17.74\n",
       "11        25.36\n",
       "12        30.09\n",
       "13        43.45\n",
       "14        51.09\n",
       "15        53.69\n",
       "16        57.77\n",
       "17        52.90\n",
       "18        73.24\n",
       "19       117.36\n",
       "20        63.83\n",
       "21        28.00\n",
       "22        22.28\n",
       "23        18.47"
      ]
     },
     "execution_count": 37,
     "metadata": {},
     "output_type": "execute_result"
    }
   ],
   "source": [
    "elec_price_df = pd.read_csv('C:/Users/marcopdsousa/Documents/energiapy/Real-Time/Dataset/RT 20 AUGUST 2024.csv')\n",
    "#elec_price_df = elec_price_df[elec_price_df['SettlementPoint'] == 'HB_HOUSTON']\n",
    "elec_price_df = elec_price_df[['DAM Houston']].reset_index(drop = True)\n",
    "elec_price_df = elec_price_df[:24]\n",
    "elec_price_df"
   ]
  },
  {
   "cell_type": "markdown",
   "metadata": {},
   "source": [
    "Hourly Natural Gas Prices"
   ]
  },
  {
   "cell_type": "code",
   "execution_count": 38,
   "metadata": {},
   "outputs": [
    {
     "data": {
      "text/html": [
       "<div>\n",
       "<style scoped>\n",
       "    .dataframe tbody tr th:only-of-type {\n",
       "        vertical-align: middle;\n",
       "    }\n",
       "\n",
       "    .dataframe tbody tr th {\n",
       "        vertical-align: top;\n",
       "    }\n",
       "\n",
       "    .dataframe thead th {\n",
       "        text-align: right;\n",
       "    }\n",
       "</style>\n",
       "<table border=\"1\" class=\"dataframe\">\n",
       "  <thead>\n",
       "    <tr style=\"text-align: right;\">\n",
       "      <th></th>\n",
       "      <th>NG_Price</th>\n",
       "    </tr>\n",
       "  </thead>\n",
       "  <tbody>\n",
       "    <tr>\n",
       "      <th>0</th>\n",
       "      <td>0.140173</td>\n",
       "    </tr>\n",
       "    <tr>\n",
       "      <th>1</th>\n",
       "      <td>0.140681</td>\n",
       "    </tr>\n",
       "    <tr>\n",
       "      <th>2</th>\n",
       "      <td>0.140173</td>\n",
       "    </tr>\n",
       "    <tr>\n",
       "      <th>3</th>\n",
       "      <td>0.140173</td>\n",
       "    </tr>\n",
       "    <tr>\n",
       "      <th>4</th>\n",
       "      <td>0.139665</td>\n",
       "    </tr>\n",
       "    <tr>\n",
       "      <th>5</th>\n",
       "      <td>0.138649</td>\n",
       "    </tr>\n",
       "    <tr>\n",
       "      <th>6</th>\n",
       "      <td>0.140681</td>\n",
       "    </tr>\n",
       "    <tr>\n",
       "      <th>7</th>\n",
       "      <td>0.140681</td>\n",
       "    </tr>\n",
       "    <tr>\n",
       "      <th>8</th>\n",
       "      <td>0.143220</td>\n",
       "    </tr>\n",
       "    <tr>\n",
       "      <th>9</th>\n",
       "      <td>0.143728</td>\n",
       "    </tr>\n",
       "    <tr>\n",
       "      <th>10</th>\n",
       "      <td>0.145251</td>\n",
       "    </tr>\n",
       "    <tr>\n",
       "      <th>11</th>\n",
       "      <td>0.141188</td>\n",
       "    </tr>\n",
       "    <tr>\n",
       "      <th>12</th>\n",
       "      <td>0.139157</td>\n",
       "    </tr>\n",
       "    <tr>\n",
       "      <th>13</th>\n",
       "      <td>0.140173</td>\n",
       "    </tr>\n",
       "    <tr>\n",
       "      <th>14</th>\n",
       "      <td>0.142204</td>\n",
       "    </tr>\n",
       "    <tr>\n",
       "      <th>15</th>\n",
       "      <td>0.144236</td>\n",
       "    </tr>\n",
       "    <tr>\n",
       "      <th>16</th>\n",
       "      <td>0.142712</td>\n",
       "    </tr>\n",
       "    <tr>\n",
       "      <th>17</th>\n",
       "      <td>0.142712</td>\n",
       "    </tr>\n",
       "    <tr>\n",
       "      <th>18</th>\n",
       "      <td>0.143220</td>\n",
       "    </tr>\n",
       "    <tr>\n",
       "      <th>19</th>\n",
       "      <td>0.143728</td>\n",
       "    </tr>\n",
       "    <tr>\n",
       "      <th>20</th>\n",
       "      <td>0.144236</td>\n",
       "    </tr>\n",
       "    <tr>\n",
       "      <th>21</th>\n",
       "      <td>0.144236</td>\n",
       "    </tr>\n",
       "    <tr>\n",
       "      <th>22</th>\n",
       "      <td>0.143728</td>\n",
       "    </tr>\n",
       "    <tr>\n",
       "      <th>23</th>\n",
       "      <td>0.143728</td>\n",
       "    </tr>\n",
       "  </tbody>\n",
       "</table>\n",
       "</div>"
      ],
      "text/plain": [
       "    NG_Price\n",
       "0   0.140173\n",
       "1   0.140681\n",
       "2   0.140173\n",
       "3   0.140173\n",
       "4   0.139665\n",
       "5   0.138649\n",
       "6   0.140681\n",
       "7   0.140681\n",
       "8   0.143220\n",
       "9   0.143728\n",
       "10  0.145251\n",
       "11  0.141188\n",
       "12  0.139157\n",
       "13  0.140173\n",
       "14  0.142204\n",
       "15  0.144236\n",
       "16  0.142712\n",
       "17  0.142712\n",
       "18  0.143220\n",
       "19  0.143728\n",
       "20  0.144236\n",
       "21  0.144236\n",
       "22  0.143728\n",
       "23  0.143728"
      ]
     },
     "execution_count": 38,
     "metadata": {},
     "output_type": "execute_result"
    }
   ],
   "source": [
    "#The natural gas price is calculated as the average between the high and low cost, also the unit used is $/kg of natural gas\n",
    "NG_price_df = pd.read_csv('C:/Users/marcopdsousa/Documents/energiapy/Real-Time/Dataset/RT 20 AUGUST 2024.csv')\n",
    "# NG_price_df = pd.DataFrame(NG_price_df['USD/kg'])[::-1].reset_index()\n",
    "NG_price_df = NG_price_df[['NG_Price']]\n",
    "NG_price_df = NG_price_df[:24]\n",
    "NG_price_df"
   ]
  },
  {
   "cell_type": "code",
   "execution_count": 39,
   "metadata": {},
   "outputs": [],
   "source": [
    "# #The natural gas price is calculated as the average between the high and low cost, also the unit used is $/kg of natural gas\n",
    "# Demand_df = pd.read_csv('RT 06 JUNE.csv')\n",
    "# # NG_price_df = pd.DataFrame(NG_price_df['USD/kg'])[::-1].reset_index()\n",
    "# Demand_df = Demand_df[['demand']]\n",
    "# Demand_df = Demand_df[:24]\n",
    "# Demand_df"
   ]
  },
  {
   "cell_type": "code",
   "execution_count": 40,
   "metadata": {},
   "outputs": [
    {
     "data": {
      "text/html": [
       "<div>\n",
       "<style scoped>\n",
       "    .dataframe tbody tr th:only-of-type {\n",
       "        vertical-align: middle;\n",
       "    }\n",
       "\n",
       "    .dataframe tbody tr th {\n",
       "        vertical-align: top;\n",
       "    }\n",
       "\n",
       "    .dataframe thead th {\n",
       "        text-align: right;\n",
       "    }\n",
       "</style>\n",
       "<table border=\"1\" class=\"dataframe\">\n",
       "  <thead>\n",
       "    <tr style=\"text-align: right;\">\n",
       "      <th></th>\n",
       "      <th>GWP</th>\n",
       "    </tr>\n",
       "  </thead>\n",
       "  <tbody>\n",
       "    <tr>\n",
       "      <th>0</th>\n",
       "      <td>348.311221</td>\n",
       "    </tr>\n",
       "    <tr>\n",
       "      <th>1</th>\n",
       "      <td>334.372762</td>\n",
       "    </tr>\n",
       "    <tr>\n",
       "      <th>2</th>\n",
       "      <td>328.714281</td>\n",
       "    </tr>\n",
       "    <tr>\n",
       "      <th>3</th>\n",
       "      <td>320.358485</td>\n",
       "    </tr>\n",
       "    <tr>\n",
       "      <th>4</th>\n",
       "      <td>318.604407</td>\n",
       "    </tr>\n",
       "    <tr>\n",
       "      <th>5</th>\n",
       "      <td>331.342764</td>\n",
       "    </tr>\n",
       "    <tr>\n",
       "      <th>6</th>\n",
       "      <td>352.817494</td>\n",
       "    </tr>\n",
       "    <tr>\n",
       "      <th>7</th>\n",
       "      <td>366.807309</td>\n",
       "    </tr>\n",
       "    <tr>\n",
       "      <th>8</th>\n",
       "      <td>347.579346</td>\n",
       "    </tr>\n",
       "    <tr>\n",
       "      <th>9</th>\n",
       "      <td>300.723807</td>\n",
       "    </tr>\n",
       "    <tr>\n",
       "      <th>10</th>\n",
       "      <td>276.042769</td>\n",
       "    </tr>\n",
       "    <tr>\n",
       "      <th>11</th>\n",
       "      <td>288.134913</td>\n",
       "    </tr>\n",
       "    <tr>\n",
       "      <th>12</th>\n",
       "      <td>313.409167</td>\n",
       "    </tr>\n",
       "    <tr>\n",
       "      <th>13</th>\n",
       "      <td>322.020417</td>\n",
       "    </tr>\n",
       "    <tr>\n",
       "      <th>14</th>\n",
       "      <td>330.363697</td>\n",
       "    </tr>\n",
       "    <tr>\n",
       "      <th>15</th>\n",
       "      <td>333.979555</td>\n",
       "    </tr>\n",
       "    <tr>\n",
       "      <th>16</th>\n",
       "      <td>334.699621</td>\n",
       "    </tr>\n",
       "    <tr>\n",
       "      <th>17</th>\n",
       "      <td>338.228660</td>\n",
       "    </tr>\n",
       "    <tr>\n",
       "      <th>18</th>\n",
       "      <td>344.618583</td>\n",
       "    </tr>\n",
       "    <tr>\n",
       "      <th>19</th>\n",
       "      <td>376.346837</td>\n",
       "    </tr>\n",
       "    <tr>\n",
       "      <th>20</th>\n",
       "      <td>403.745161</td>\n",
       "    </tr>\n",
       "    <tr>\n",
       "      <th>21</th>\n",
       "      <td>403.257773</td>\n",
       "    </tr>\n",
       "    <tr>\n",
       "      <th>22</th>\n",
       "      <td>385.335872</td>\n",
       "    </tr>\n",
       "    <tr>\n",
       "      <th>23</th>\n",
       "      <td>360.036898</td>\n",
       "    </tr>\n",
       "  </tbody>\n",
       "</table>\n",
       "</div>"
      ],
      "text/plain": [
       "           GWP\n",
       "0   348.311221\n",
       "1   334.372762\n",
       "2   328.714281\n",
       "3   320.358485\n",
       "4   318.604407\n",
       "5   331.342764\n",
       "6   352.817494\n",
       "7   366.807309\n",
       "8   347.579346\n",
       "9   300.723807\n",
       "10  276.042769\n",
       "11  288.134913\n",
       "12  313.409167\n",
       "13  322.020417\n",
       "14  330.363697\n",
       "15  333.979555\n",
       "16  334.699621\n",
       "17  338.228660\n",
       "18  344.618583\n",
       "19  376.346837\n",
       "20  403.745161\n",
       "21  403.257773\n",
       "22  385.335872\n",
       "23  360.036898"
      ]
     },
     "execution_count": 40,
     "metadata": {},
     "output_type": "execute_result"
    }
   ],
   "source": [
    "#The natural gas price is calculated as the average between the high and low cost, also the unit used is $/kg of natural gas\n",
    "GWP_df = pd.read_csv('C:/Users/marcopdsousa/Documents/energiapy/Real-Time/Dataset/RT 20 AUGUST 2024.csv')\n",
    "# NG_price_df = pd.DataFrame(NG_price_df['USD/kg'])[::-1].reset_index()\n",
    "GWP_df = GWP_df[['GWP']]\n",
    "GWP_df = GWP_df[:24].reset_index(drop = True)\n",
    "GWP_df"
   ]
  },
  {
   "cell_type": "code",
   "execution_count": 41,
   "metadata": {},
   "outputs": [
    {
     "name": "stderr",
     "output_type": "stream",
     "text": [
      "C:\\Users\\marcopdsousa\\AppData\\Local\\Temp\\ipykernel_29620\\2629842020.py:2: FutureWarning: Series.__getitem__ treating keys as positions is deprecated. In a future version, integer keys will always be treated as labels (consistent with DataFrame behavior). To access a value by position, use `ser.iloc[pos]`\n",
      "  elec_price = elec_price_df.max()[0]\n",
      "C:\\Users\\marcopdsousa\\AppData\\Local\\Temp\\ipykernel_29620\\2629842020.py:3: FutureWarning: Series.__getitem__ treating keys as positions is deprecated. In a future version, integer keys will always be treated as labels (consistent with DataFrame behavior). To access a value by position, use `ser.iloc[pos]`\n",
      "  NG_price = NG_price_df.max()[0]\n",
      "C:\\Users\\marcopdsousa\\AppData\\Local\\Temp\\ipykernel_29620\\2629842020.py:4: FutureWarning: Series.__getitem__ treating keys as positions is deprecated. In a future version, integer keys will always be treated as labels (consistent with DataFrame behavior). To access a value by position, use `ser.iloc[pos]`\n",
      "  GWP_value = GWP_df.max()[0]\n"
     ]
    }
   ],
   "source": [
    "#Gives relevancy to price values again\n",
    "elec_price = elec_price_df.max()[0]\n",
    "NG_price = NG_price_df.max()[0]\n",
    "GWP_value = GWP_df.max()[0]\n",
    "#Demand_value = Demand_df.max()[0]"
   ]
  },
  {
   "cell_type": "markdown",
   "metadata": {},
   "source": [
    "Hourly Wind availability"
   ]
  },
  {
   "cell_type": "code",
   "execution_count": 42,
   "metadata": {},
   "outputs": [
    {
     "data": {
      "text/html": [
       "<div>\n",
       "<style scoped>\n",
       "    .dataframe tbody tr th:only-of-type {\n",
       "        vertical-align: middle;\n",
       "    }\n",
       "\n",
       "    .dataframe tbody tr th {\n",
       "        vertical-align: top;\n",
       "    }\n",
       "\n",
       "    .dataframe thead th {\n",
       "        text-align: right;\n",
       "    }\n",
       "</style>\n",
       "<table border=\"1\" class=\"dataframe\">\n",
       "  <thead>\n",
       "    <tr style=\"text-align: right;\">\n",
       "      <th></th>\n",
       "      <th>WGRPP_HO</th>\n",
       "    </tr>\n",
       "  </thead>\n",
       "  <tbody>\n",
       "    <tr>\n",
       "      <th>0</th>\n",
       "      <td>320.8</td>\n",
       "    </tr>\n",
       "    <tr>\n",
       "      <th>1</th>\n",
       "      <td>287.9</td>\n",
       "    </tr>\n",
       "    <tr>\n",
       "      <th>2</th>\n",
       "      <td>230.4</td>\n",
       "    </tr>\n",
       "    <tr>\n",
       "      <th>3</th>\n",
       "      <td>131.1</td>\n",
       "    </tr>\n",
       "    <tr>\n",
       "      <th>4</th>\n",
       "      <td>58.8</td>\n",
       "    </tr>\n",
       "    <tr>\n",
       "      <th>5</th>\n",
       "      <td>41.1</td>\n",
       "    </tr>\n",
       "    <tr>\n",
       "      <th>6</th>\n",
       "      <td>15.0</td>\n",
       "    </tr>\n",
       "    <tr>\n",
       "      <th>7</th>\n",
       "      <td>15.1</td>\n",
       "    </tr>\n",
       "    <tr>\n",
       "      <th>8</th>\n",
       "      <td>10.0</td>\n",
       "    </tr>\n",
       "    <tr>\n",
       "      <th>9</th>\n",
       "      <td>2.0</td>\n",
       "    </tr>\n",
       "    <tr>\n",
       "      <th>10</th>\n",
       "      <td>0.6</td>\n",
       "    </tr>\n",
       "    <tr>\n",
       "      <th>11</th>\n",
       "      <td>5.3</td>\n",
       "    </tr>\n",
       "    <tr>\n",
       "      <th>12</th>\n",
       "      <td>0.5</td>\n",
       "    </tr>\n",
       "    <tr>\n",
       "      <th>13</th>\n",
       "      <td>0.2</td>\n",
       "    </tr>\n",
       "    <tr>\n",
       "      <th>14</th>\n",
       "      <td>16.0</td>\n",
       "    </tr>\n",
       "    <tr>\n",
       "      <th>15</th>\n",
       "      <td>127.8</td>\n",
       "    </tr>\n",
       "    <tr>\n",
       "      <th>16</th>\n",
       "      <td>333.4</td>\n",
       "    </tr>\n",
       "    <tr>\n",
       "      <th>17</th>\n",
       "      <td>679.5</td>\n",
       "    </tr>\n",
       "    <tr>\n",
       "      <th>18</th>\n",
       "      <td>1004.7</td>\n",
       "    </tr>\n",
       "    <tr>\n",
       "      <th>19</th>\n",
       "      <td>1122.0</td>\n",
       "    </tr>\n",
       "    <tr>\n",
       "      <th>20</th>\n",
       "      <td>1081.0</td>\n",
       "    </tr>\n",
       "    <tr>\n",
       "      <th>21</th>\n",
       "      <td>920.8</td>\n",
       "    </tr>\n",
       "    <tr>\n",
       "      <th>22</th>\n",
       "      <td>893.9</td>\n",
       "    </tr>\n",
       "    <tr>\n",
       "      <th>23</th>\n",
       "      <td>761.9</td>\n",
       "    </tr>\n",
       "  </tbody>\n",
       "</table>\n",
       "</div>"
      ],
      "text/plain": [
       "    WGRPP_HO\n",
       "0      320.8\n",
       "1      287.9\n",
       "2      230.4\n",
       "3      131.1\n",
       "4       58.8\n",
       "5       41.1\n",
       "6       15.0\n",
       "7       15.1\n",
       "8       10.0\n",
       "9        2.0\n",
       "10       0.6\n",
       "11       5.3\n",
       "12       0.5\n",
       "13       0.2\n",
       "14      16.0\n",
       "15     127.8\n",
       "16     333.4\n",
       "17     679.5\n",
       "18    1004.7\n",
       "19    1122.0\n",
       "20    1081.0\n",
       "21     920.8\n",
       "22     893.9\n",
       "23     761.9"
      ]
     },
     "execution_count": 42,
     "metadata": {},
     "output_type": "execute_result"
    }
   ],
   "source": [
    "Wind_df = pd.read_csv('C:/Users/marcopdsousa/Documents/energiapy/Real-Time/Dataset/RT 20 AUGUST 2024.csv')\n",
    "Wind_df = Wind_df[['WGRPP_HO']]\n",
    "Wind_df = Wind_df[:24]\n",
    "Wind_df"
   ]
  },
  {
   "cell_type": "markdown",
   "metadata": {},
   "source": [
    "Hourly Solar availability"
   ]
  },
  {
   "cell_type": "code",
   "execution_count": 43,
   "metadata": {},
   "outputs": [
    {
     "data": {
      "text/html": [
       "<div>\n",
       "<style scoped>\n",
       "    .dataframe tbody tr th:only-of-type {\n",
       "        vertical-align: middle;\n",
       "    }\n",
       "\n",
       "    .dataframe tbody tr th {\n",
       "        vertical-align: top;\n",
       "    }\n",
       "\n",
       "    .dataframe thead th {\n",
       "        text-align: right;\n",
       "    }\n",
       "</style>\n",
       "<table border=\"1\" class=\"dataframe\">\n",
       "  <thead>\n",
       "    <tr style=\"text-align: right;\">\n",
       "      <th></th>\n",
       "      <th>PVGRPP_HO</th>\n",
       "    </tr>\n",
       "  </thead>\n",
       "  <tbody>\n",
       "    <tr>\n",
       "      <th>0</th>\n",
       "      <td>0.0</td>\n",
       "    </tr>\n",
       "    <tr>\n",
       "      <th>1</th>\n",
       "      <td>0.0</td>\n",
       "    </tr>\n",
       "    <tr>\n",
       "      <th>2</th>\n",
       "      <td>0.0</td>\n",
       "    </tr>\n",
       "    <tr>\n",
       "      <th>3</th>\n",
       "      <td>0.0</td>\n",
       "    </tr>\n",
       "    <tr>\n",
       "      <th>4</th>\n",
       "      <td>0.0</td>\n",
       "    </tr>\n",
       "    <tr>\n",
       "      <th>5</th>\n",
       "      <td>0.0</td>\n",
       "    </tr>\n",
       "    <tr>\n",
       "      <th>6</th>\n",
       "      <td>0.0</td>\n",
       "    </tr>\n",
       "    <tr>\n",
       "      <th>7</th>\n",
       "      <td>109.2</td>\n",
       "    </tr>\n",
       "    <tr>\n",
       "      <th>8</th>\n",
       "      <td>777.6</td>\n",
       "    </tr>\n",
       "    <tr>\n",
       "      <th>9</th>\n",
       "      <td>1633.4</td>\n",
       "    </tr>\n",
       "    <tr>\n",
       "      <th>10</th>\n",
       "      <td>1714.1</td>\n",
       "    </tr>\n",
       "    <tr>\n",
       "      <th>11</th>\n",
       "      <td>1810.7</td>\n",
       "    </tr>\n",
       "    <tr>\n",
       "      <th>12</th>\n",
       "      <td>1949.6</td>\n",
       "    </tr>\n",
       "    <tr>\n",
       "      <th>13</th>\n",
       "      <td>1917.0</td>\n",
       "    </tr>\n",
       "    <tr>\n",
       "      <th>14</th>\n",
       "      <td>1866.4</td>\n",
       "    </tr>\n",
       "    <tr>\n",
       "      <th>15</th>\n",
       "      <td>1835.5</td>\n",
       "    </tr>\n",
       "    <tr>\n",
       "      <th>16</th>\n",
       "      <td>1763.9</td>\n",
       "    </tr>\n",
       "    <tr>\n",
       "      <th>17</th>\n",
       "      <td>1588.5</td>\n",
       "    </tr>\n",
       "    <tr>\n",
       "      <th>18</th>\n",
       "      <td>1037.2</td>\n",
       "    </tr>\n",
       "    <tr>\n",
       "      <th>19</th>\n",
       "      <td>266.0</td>\n",
       "    </tr>\n",
       "    <tr>\n",
       "      <th>20</th>\n",
       "      <td>1.4</td>\n",
       "    </tr>\n",
       "    <tr>\n",
       "      <th>21</th>\n",
       "      <td>0.0</td>\n",
       "    </tr>\n",
       "    <tr>\n",
       "      <th>22</th>\n",
       "      <td>0.0</td>\n",
       "    </tr>\n",
       "    <tr>\n",
       "      <th>23</th>\n",
       "      <td>0.0</td>\n",
       "    </tr>\n",
       "  </tbody>\n",
       "</table>\n",
       "</div>"
      ],
      "text/plain": [
       "    PVGRPP_HO\n",
       "0         0.0\n",
       "1         0.0\n",
       "2         0.0\n",
       "3         0.0\n",
       "4         0.0\n",
       "5         0.0\n",
       "6         0.0\n",
       "7       109.2\n",
       "8       777.6\n",
       "9      1633.4\n",
       "10     1714.1\n",
       "11     1810.7\n",
       "12     1949.6\n",
       "13     1917.0\n",
       "14     1866.4\n",
       "15     1835.5\n",
       "16     1763.9\n",
       "17     1588.5\n",
       "18     1037.2\n",
       "19      266.0\n",
       "20        1.4\n",
       "21        0.0\n",
       "22        0.0\n",
       "23        0.0"
      ]
     },
     "execution_count": 43,
     "metadata": {},
     "output_type": "execute_result"
    }
   ],
   "source": [
    "Solar_df = pd.read_csv('C:/Users/marcopdsousa/Documents/energiapy/Real-Time/Dataset/RT 20 AUGUST 2024.csv')\n",
    "Solar_df = Solar_df[['PVGRPP_HO']]\n",
    "Solar_df = Solar_df[:24]\n",
    "Solar_df"
   ]
  },
  {
   "cell_type": "code",
   "execution_count": 44,
   "metadata": {},
   "outputs": [],
   "source": [
    "Solar = Resource(name='Solar', cons_max=bigM, basis='MW', label='Solar Power', price= 52.69, gwp=0, scope=Scope.TWO)\n",
    "\n",
    "Wind = Resource(name='Wind', cons_max=bigM, basis='MW', label='Wind Power', price= 60.11, gwp=0, scope=Scope.TWO)\n",
    "\n",
    "Power = Resource(name='Power', basis='MW',\n",
    "                 label='Power generated')\n",
    "\n",
    "GridPower = Resource(name='GridPower', basis='MW',\n",
    "                     cons_max=bigM, label='Power bought', gwp= GWP_value, price =elec_price,varying = [VaryingResource.DETERMINISTIC_PRICE, VaryingResource.DETERMINISTIC_GWP], scope = Scope.TWO)\n",
    "#elec_price, varying = [VaryingResource.DETERMINISTIC_PRICE]\n",
    "#The following are components of natural gas\n",
    "#\n",
    "\n",
    "CO2 = Resource(name='CO2', basis='kg/hr',\n",
    "               label='Carbon dioxide', block='Resource')\n",
    "\n",
    "CO2_Stack = Resource(name='CO2 to Stack', basis='kg/hr', sell=True,\n",
    "               label='Carbon dioxide to Stack', block='Resource', gwp = 1, scope = Scope.ONE)\n",
    "\n",
    "CO2_Air = Resource(name='CO2 from air', basis='kg/hr',\n",
    "               label='Carbon dioxide from air', block='Resource', cons_max=bigM)\n",
    "\n",
    "CO2_Vent = Resource(name='CO2 Vented from the process', basis='kg/hr',\n",
    "               label='Carbon dioxide vented from the process', block='Resource', gwp = 1, sell=True, scope = Scope.ONE)\n",
    "\n",
    "CO2cpt = Resource(name='CO2 Captured', basis='kg/hr', sell=True, label='Captured carbon dioxide', block='Resource')\n",
    "\n",
    "CH4 = Resource(name='CH4', basis='kg/hr',\n",
    "               label='Methane', block='Resource')\n",
    "\n",
    "#Important: Natural gas consists over different components\n",
    "\n",
    "NG = Resource(name='Natural Gas', basis='kg/hr',\n",
    "                     cons_max=bigM, label='Natural Gas', gwp = 0.660979, price = NG_price, varying = [VaryingResource.DETERMINISTIC_PRICE])\n",
    "\n",
    "\n",
    "# Hydrogen is what I want to sell/satisfy a specific demand for\n",
    "\n",
    "H2 = Resource(name='Hydrogen', basis='kg/hr', label='Hydrogen', block='Resource')\n",
    "\n",
    "H2Pure = Resource(name='Pure Hydrogen', demand = True, basis='kg/hr', label='Pure Hydrogen', block='Resource')\n",
    "\n",
    "# Water is required for the electrolysis process\n",
    "\n",
    "H2O = Resource(name='H2O',\n",
    "               basis='kg/hr', cons_max=bigM, label='Water', block='Resource')\n",
    "\n",
    "#Industrial water price is 0.002 USD/kg of water\n",
    "H2OFresh = Resource(name=\"H2O Fresh\", cons_max=bigM, price = 0.002, basis='kg/hr', label='Fresh Water', block='Resource')\n",
    "\n",
    "H2O_Air = Resource(name='H2O from air', cons_max=bigM,\n",
    "               basis='kg/hr', label='Water from air', block='Resource')\n",
    "\n",
    "H2O_Vent = Resource(name='H2O vented from the process',\n",
    "               basis='kg/hr', sell=True, label='Water vented from the process', block='Resource')\n",
    "\n",
    "\n",
    "H2O_Stack = Resource(name='H2O to Stack',\n",
    "               basis='kg/hr', sell= True, label='Water to Stack', block='Resource')\n",
    "\n",
    "#Industrial water price is 0.002 USD/kg of water\n",
    "\n",
    "# Air components\n",
    "\n",
    "N2 = Resource(name='N2', basis='kg/hr',\n",
    "               label='Nitrogen', block='Resource')\n",
    "\n",
    "N2_SMR = Resource(name='N2 from SMR', basis='kg/hr',\n",
    "               label='Nitrogen from SMR', block='Resource')\n",
    "\n",
    "N2_WGS = Resource(name='N2 from WGS', basis='kg/hr',\n",
    "               label='Nitrogen from WGS', block='Resource')\n",
    "\n",
    "N2_FG = Resource(name='N2 from FG', basis='kg/hr',\n",
    "               label='Nitrogen from FG', block='Resource')\n",
    "\n",
    "N2_Air = Resource(name='N2 from Air', basis='kg/hr', cons_max= bigM,\n",
    "               label='Nitrogen from Air', block='Resource')\n",
    "\n",
    "N2_Vent = Resource(name='N2 vented from the process', basis='kg/hr', sell= True,\n",
    "               label='Nitrogen vented from the process', block='Resource')\n",
    "\n",
    "N2Prod = Resource(name='N2 in product stream', basis='kg/hr',\n",
    "               label='Nitrogen in product stream', block='Resource')\n",
    "\n",
    "N2_Stack = Resource(name='N2 to Stack', basis='kg/hr', sell= True,\n",
    "               label='Nitrogen to stack', block='Resource')\n",
    "\n",
    "O2 = Resource(name='O2', basis='kg/hr',\n",
    "               label='Oxygen', block='Resource')\n",
    "\n",
    "O2_Air = Resource(name='O2 from air', basis='kg/hr',\n",
    "               label='Oxygen from air', block='Resource', cons_max = bigM)\n",
    "\n",
    "O2_Vent = Resource(name='O2 vented from the process', basis='kg/hr', sell=True,\n",
    "               label='Oxygen vented from the process', block='Resource')\n",
    "\n",
    "O2_Stack = Resource(name='O2 to Stack', basis='kg/hr', sell= True,\n",
    "               label='Oxygen to Stack', block='Resource')\n",
    "\n",
    "\n",
    "# Saatvi code starts\n",
    "\n",
    "H2O_Vent_ASU = Resource(name='H2O Vent from ASU',\n",
    "               basis='kg/hr', sell= True, label='Water vented from ASU', block='Resource') # True for ATR - Stream 17\n",
    "\n",
    "H2O_Blowdown = Resource(name='H2O in Blowdown',\n",
    "               basis='kg/hr', sell= True, label='H2O present in air - Stream 5', block='Resource') # True for ATR - Stream 20\n",
    "\n",
    "# Saatvi code ends\n",
    "\n",
    "\n",
    "# Saatvi Code starts\n",
    "\n",
    "N2_Desorped = Resource(name='N2 Desorped', basis='kg/hr',\n",
    "               label='Nitrogen in CO2 desorption stream', block='Resource') # True for ATR\n",
    "N2_Vented_Stack = Resource(name='N2 in Stack', basis='kg/hr',\n",
    "               label='Nitrogen in Stack', block='Resource') # True for ATR\n",
    "N2_Blowdown = Resource(name='N2 in Blowdown', basis='kg/hr',\n",
    "               label='Nitrogen in Blowdown stream', block='Resource') # True for ATR\n",
    "\n",
    "# Saatvi code ends\n",
    "\n",
    "\n",
    "# Saatvi Code starts\n",
    "\n",
    "O2_Desorped = Resource(name='O2 Desorped', basis='kg/hr',\n",
    "               label='Oxygen in CO2 desorption stream', block='Resource') # True for ATR\n",
    "O2_ASU = Resource(name='O2 vented out of ASU', basis='kg/hr',\n",
    "               label='O2 vented out of ASU', block='Resource') # True for ATR\n",
    "O2_Blowdown = Resource(name='O2 in Blowdown', basis='kg/hr',\n",
    "               label='O2 in Blowdown stream', block='Resource') # True for ATR\n",
    "\n",
    "# Saatvi code ends\n",
    "\n",
    "\n",
    "# Saatvi code starts\n",
    "\n",
    "CH4_Desorped = Resource(name='CH4_Desorped', basis='kg/hr',\n",
    "               label='Methane', block='Resource') # True for ATR\n",
    "\n",
    "# Saatvi code ends\n",
    "\n",
    "# Saatvi code starts - Declares CO2 going into the Boiler via Air stream 5 in ATR process\n",
    "\n",
    "CO2_Blowdown= Resource(name='CO2 Blowdown', basis='kg/hr', block='Resource', gwp = 1) # 2 ATR processes, imp, Stream X+20, 16+20\n",
    "\n",
    "# Saatvi code ends"
   ]
  },
  {
   "attachments": {},
   "cell_type": "markdown",
   "metadata": {},
   "source": [
    "## Declare Materials"
   ]
  },
  {
   "attachments": {},
   "cell_type": "markdown",
   "metadata": {},
   "source": [
    "Materials are utilized for the establishment of processes. Materials inturn require resources to be set up. "
   ]
  },
  {
   "cell_type": "code",
   "execution_count": 45,
   "metadata": {},
   "outputs": [
    {
     "data": {
      "text/plain": [
       "'Do I understand it correctly that I will have no material modes'"
      ]
     },
     "execution_count": 45,
     "metadata": {},
     "output_type": "execute_result"
    }
   ],
   "source": [
    "'''Do I understand it correctly that I will have no material modes'''"
   ]
  },
  {
   "attachments": {},
   "cell_type": "markdown",
   "metadata": {},
   "source": [
    "## Declare Processes"
   ]
  },
  {
   "cell_type": "code",
   "execution_count": 46,
   "metadata": {},
   "outputs": [],
   "source": [
    "'''Purchasing electricity from a traditional power production system'''\n",
    "\n",
    "Grid = Process(name='Grid', conversion={GridPower: -1, Power: 1}, prod_min=smallM, prod_max=bigM, label='Grid', basis='MW')\n",
    "\n",
    "PV = Process(name='PV', conversion={Solar: -1, Power: 1},\n",
    "             prod_max=10, prod_min=10,  varying= [VaryingProcess.DETERMINISTIC_CAPACITY], label='Solar PV', basis='MW')\n",
    "\n",
    "# capex=0.0001, fopex=0.0001, vopex=0.0001, gwp = 0.0001\n",
    "\n",
    "WF = Process(name='WF', conversion={Wind: -1, Power: 1},\n",
    "             prod_max=30, prod_min=30, label='Wind mill array', varying=[VaryingProcess.DETERMINISTIC_CAPACITY], basis='MW')\n",
    "\n",
    "\n",
    "# SMRCCS = Process(name='SMRCCS', conversion={Power: -0.00204, NG: -3.535189, H2OFresh: -16.78877421, N2_Air: -22.2315, O2_Air: -6.811924, H2O_Air: -0.183055, CO2_Air: -0.013551, \n",
    "#                                             H2Pure: 1, CO2_Stack: 0.46856, CO2cpt: 8.903, H2O_Stack: 0.558114, H2O_Vent: 3.826767, N2_Stack: 22.32218, O2_Stack: 0.6203032}, capex=0.0001,\n",
    "#                vopex=2.3, fopex=0.001, prod_min=smallM, prod_max=bigM, label='SMR', basis='kg/hr')\n",
    "\n",
    "# SMR = Process(name='SMR', conversion={Power: -0.00065, NG: -3.535189, H2OFresh: -16.78877421, N2_Air: -19.2134, O2_Air: -5.88716, H2O_Air: -0.1582, CO2_Air: -0.01171, \n",
    "#                                             H2Pure: 1, CO2_Stack: 9.3713,  H2O_Stack: 3.94959, N2_Stack: 19.29814, O2_Stack: 0.535434}, capex=0.0001,\n",
    "#                vopex=1.2, fopex=0.001, prod_min=smallM, prod_max=10, label='SMR', basis='kg/hr')\n",
    "\n",
    "\n",
    "# SMRCCS = Process(name='SMRCCS', conversion={Power: -0.00139, N2_Air: -22.2315, O2_Air: -6.811924, H2O_Air: -0.183055, CO2_Air: -0.013551, CO2_Stack: -9.3713,\n",
    "#                                              H2O_Vent: 3.826767, CO2cpt: 8.903, CO2_Vent: 0.46856, H2O_Stack: 0.558114, N2_Stack: 22.32218, O2_Stack: 0.6203032, }, capex=0.0001,\n",
    "#                 vopex=1.1, fopex=0.001, prod_min=smallM, prod_max=10, label='SMRCCS', basis='kg/hr')\n",
    "\n",
    "# PEM = Process(name='PEM', conversion={Power: -0.064, H2OFresh: -9.5,\n",
    "#                                             H2Pure: 1}, capex=0.0001,\n",
    "#                vopex=4.668, fopex=0.001, prod_min=smallM, prod_max=10, label='PEM', basis='kg/hr')\n",
    "\n",
    "ATR_CCS_R = Process(name='ATR_CCS_R', conversion= {Power: -0.00175403726, NG: -3.2080287, H2OFresh: -4.8123228, H2O_Air : -0.1041653, H2O_Vent_ASU : 0.0019387, H2O_Blowdown : 1.7351222, H2O_Vent : 0.5220523,\n",
    "                                                   N2_Air: -12.653394, N2_Vent: 9.970844643, N2Prod: 0.002780318, N2_Vented_Stack: 2.182324573, N2_Desorped: 0.023329689, O2_Air: -3.87607534,\n",
    "                                                   O2_ASU: 0.061984387, O2_Vent: 0.0647028, CO2_Air:-0.007711159, CO2_Vent: 0.457276602, CO2cpt: 7.733322317, H2Pure: 1}, capex=0.0001,\n",
    "               vopex=2.3, fopex=0.001, prod_min=smallM, prod_max=bigM, label='ATR_CCS_R', basis='kg/hr')\n",
    "\n",
    "ATR_CCS_OC = Process(name='ATR_CCS_OC', conversion={Power: -0.0059130434, NG: -3.584338787, CO2_Air: -0.010770164, CO2_Blowdown: 0.11601384, CO2cpt: 9.192057517, N2_Air: -17.67297545, N2_Vent: 16.7175342, N2_Blowdown: 0.000797082, N2_Desorped: 0.131330546, N2Prod: 0.002780318,\n",
    "                                                    H2O_Air: -0.145487576, H2OFresh: -5.377267146, H2O_Vent_ASU: 0.003250534, H2O_Blowdown: 3.598489736, O2_Air: -6.758549377, O2_Vent: 0.10392561, H2Pure: 1}, capex=0.0001,\n",
    "               vopex=2.7, fopex=0.001, prod_min=smallM, prod_max=bigM, label='ATR_CCS_OC', basis='kg/hr')\n",
    "\n",
    "ATR_CCS_R_OC = Process(name='ATR_CCS_R_OC', conversion={Power: -0.00203229813, NG: -3.208028688, CO2_Air: -0.007656042, CO2_Blowdown: 0.671400596, CO2cpt: 8.152141983, \n",
    "                                                        N2_Air: -12.56295099, N2_Vent: 11.88406435, N2_Blowdown: 0.008434949, N2_Desorped: 0.102417105, N2Prod: 0.002780318, \n",
    "                                                        H2OFresh: -4.812322829, H2O_Air: -0.103420802, H2O_Vent_ASU: 0.002310721, H2O_Blowdown: 0.004504513, O2_Air: -4.804359335, \n",
    "                                                        O2_Vent: 0.073878039, H2Pure: 1}, capex=0.0001,\n",
    "               vopex=3, fopex=0.001, prod_min=smallM, prod_max=bigM, label='ATR_CCS_R_OC', basis='kg/hr')\n",
    "# AWE = Process(name='PEM', conversion={Power: -0.05, H2OFresh: -9.4635,\n",
    "#                                             H2Pure: 1}, capex=0.0001,vopex=4.5, fopex=0.001, prod_min=smallM, prod_max=10, label='AWE', basis='kg/hr')"
   ]
  },
  {
   "attachments": {},
   "cell_type": "markdown",
   "metadata": {},
   "source": [
    "## Declare Location"
   ]
  },
  {
   "cell_type": "code",
   "execution_count": 47,
   "metadata": {},
   "outputs": [],
   "source": [
    "process_set = {Grid, PV, WF, ATR_CCS_OC, ATR_CCS_R, ATR_CCS_R_OC}#, SMRCCS, PEM} #Grid,PV, WF, PEM,SMRCCS, , ATR_CCS_OC, ATR_CCS_R, ATR_CCS_R_OC\n",
    "\n",
    "#, SMRCCS, SMR, PEM, AWE,"
   ]
  },
  {
   "cell_type": "code",
   "execution_count": 48,
   "metadata": {},
   "outputs": [],
   "source": [
    "houston = Location(name='HO', processes=process_set,  price_factor={GridPower: elec_price_df, NG: NG_price_df}, gwp_factor={GridPower: GWP_df}, capacity_factor={PV: Solar_df, WF: Wind_df},\n",
    "                   scales=scales, label='Houston', expenditure_scale_level=0, demand_scale_level=0, price_scale_level=1, gwp_scale_level = 1, capacity_scale_level=1)\n",
    "\n",
    "#capacity_factor={PV: Solar_df, WF: Wind_df},"
   ]
  },
  {
   "attachments": {},
   "cell_type": "markdown",
   "metadata": {},
   "source": [
    "## Declare Scenario"
   ]
  },
  {
   "cell_type": "code",
   "execution_count": 49,
   "metadata": {},
   "outputs": [],
   "source": [
    "\n",
    "scenario = Scenario(name='scenario_full',network=houston, scales=scales,  expenditure_scale_level=0, demand_scale_level=0, \n",
    "                    purchase_scale_level = 1, scheduling_scale_level=1, network_scale_level=0, capacity_scale_level=1, gwp_scale_level = 1, \n",
    "                    label='full_case', demand={houston: {H2Pure:240000}})\n",
    "\n",
    "# , demand_penalty= {houston: {H2Pure:100000}} \n",
    "\n"
   ]
  },
  {
   "cell_type": "code",
   "execution_count": 50,
   "metadata": {},
   "outputs": [],
   "source": [
    "# scenario.capacity_factor['HO'].keys()"
   ]
  },
  {
   "cell_type": "code",
   "execution_count": 51,
   "metadata": {},
   "outputs": [],
   "source": [
    "\n",
    "# plot_scenario.price_factor(\n",
    "#     scenario=scenario, location=houston, resource=GridPower, fig_size=(9, 5), color='black')\n"
   ]
  },
  {
   "cell_type": "code",
   "execution_count": 52,
   "metadata": {},
   "outputs": [],
   "source": [
    "# plot_scenario.gwp_factor(\n",
    "#     scenario=scenario, location=houston, resource=GridPower, fig_size=(9, 5), color='midnightblue')"
   ]
  },
  {
   "cell_type": "code",
   "execution_count": 53,
   "metadata": {},
   "outputs": [],
   "source": [
    "\n",
    "# plot_scenario.price_factor(\n",
    "#     scenario=scenario, location=houston, resource=NG, fig_size=(9, 5), color='blue')"
   ]
  },
  {
   "cell_type": "code",
   "execution_count": 54,
   "metadata": {},
   "outputs": [],
   "source": [
    "# plot_scenario.capacity_factor(\n",
    "#     scenario=scenario, location=houston, process=PV, fig_size=(9, 5), color='red')"
   ]
  },
  {
   "cell_type": "code",
   "execution_count": 55,
   "metadata": {},
   "outputs": [],
   "source": [
    "# plot_scenario.capacity_factor(\n",
    "#     scenario=scenario, location=houston, process=WF, fig_size=(9, 5), color='green')"
   ]
  },
  {
   "attachments": {},
   "cell_type": "markdown",
   "metadata": {},
   "source": [
    "## Formulate MILP"
   ]
  },
  {
   "attachments": {},
   "cell_type": "markdown",
   "metadata": {},
   "source": [
    "Here we formulate two milps which differ only in their objectives.\n",
    "\n",
    "For maximizing the discharge of a particular resource, use the objective MAX_DISCHARGE, the objective resource also needs to be specified.\n",
    "\n",
    "Similarly the discharge can also be minimized using MIN_DISCHARGE. This can be used with a demand for another resource being set. For example, minimizing the discharge of carbon dioxide while meeting a hydrogen demand.\n",
    "\n",
    "The second MILP, minimized the cost while meeting a varying demand for power"
   ]
  },
  {
   "cell_type": "code",
   "execution_count": 56,
   "metadata": {},
   "outputs": [
    {
     "name": "stdout",
     "output_type": "stream",
     "text": [
      "WARNING: Element d already exists in Set material_modes; no action taken\n",
      "WARNING: Element d already exists in Set material_modes; no action taken\n",
      "WARNING: Element d already exists in Set material_modes; no action taken\n",
      "WARNING: Element d already exists in Set material_modes; no action taken\n",
      "WARNING: Element d already exists in Set material_modes; no action taken\n",
      "constraint process capex\n",
      "constraint process fopex\n",
      "constraint process vopex\n",
      "constraint storage capex\n",
      "constraint process incidental\n",
      "constraint location capex\n",
      "constraint storage cost\n",
      "constraint storage cost location\n",
      "constraint storage cost network\n",
      "constraint global warming potential resource\n",
      "constraint global warming potential resource consumption\n",
      "constraint global warming potential resource discharge\n",
      "constraint global warming potential location\n",
      "constraint global warming potential network\n",
      "constraint production mode\n",
      "constraint inventory balance\n",
      "constraint inventory network\n",
      "constraint demand\n",
      "objective cost\n"
     ]
    }
   ],
   "source": [
    "#, Constraints.MODE\n",
    "\n",
    "milp_cost = formulate(scenario=scenario, constraints={Constraints.COST, Constraints.INVENTORY, \n",
    "                                                      Constraints.PRODUCTION, Constraints.RESOURCE_BALANCE, Constraints.DEMAND, Constraints.EMISSION}, objective=Objective.COST, demand_sign = 'eq')\n",
    "#, demand_sign = 'eq')"
   ]
  },
  {
   "cell_type": "code",
   "execution_count": 57,
   "metadata": {},
   "outputs": [],
   "source": [
    "# # model.component\n",
    "\n",
    "# from pyomo.environ import ConstraintList\n",
    "# milp_cost.cons1 = ConstraintList()\n",
    "# for i in scales.scale_iter(2):\n",
    "#     milp_cost.cons1.add(expr = milp_cost.P['HO', 'SMR', *i] >= 1000)"
   ]
  },
  {
   "cell_type": "code",
   "execution_count": 58,
   "metadata": {},
   "outputs": [],
   "source": [
    "# #model.component\n",
    "\n",
    "# from pyomo.environ import ConstraintList\n",
    "\n",
    "# ramping_limit = 5000\n",
    "\n",
    "# milp_cost.cons2 = ConstraintList()\n",
    "# for i in scales.scale_iter(1):\n",
    "#     if i != (0,0):\n",
    "#         milp_cost.cons2.add(expr = milp_cost.P['HO', 'SMR', *i] - milp_cost.P['HO', 'SMR', *scales.scale_iter(2)[scales.scale_iter(1).index(i) - 1]] <= 0.05*milp_cost.Cap_P['HO','SMR', i[0]])\n",
    "\n",
    "# milp_cost.cons3 = ConstraintList()\n",
    "# for i in scales.scale_iter(1):\n",
    "#     if i != (0,0):\n",
    "#         milp_cost.cons3.add(expr = milp_cost.P['HO', 'SMR', *i] - milp_cost.P['HO', 'SMR', *scales.scale_iter(2)[scales.scale_iter(1).index(i) - 1]] >= -0.05*milp_cost.Cap_P['HO','SMR', i[0]])\n",
    "\n",
    "\n",
    "# milp_cost.cons10 = ConstraintList()\n",
    "# for i in scales.scale_iter(2):\n",
    "#     #if i != (0,0):\n",
    "#     milp_cost.cons10.add(expr = milp_cost.P['HO', 'SMR', *i] >= 0.3*milp_cost.Cap_P['HO','SMR', i[0]]) #30% of max production rate 6000 * milp_cost.on_smr[i]\n",
    "\n",
    "\n",
    "# milp_cost.cons14 = ConstraintList()\n",
    "# for i in scales.scale_iter(2):\n",
    "#     #if i != (0, 0):\n",
    "#     # Force production to zero if the system is off (on_smr == 0)\n",
    "#     milp_cost.cons14.add(expr = milp_cost.P['HO', 'SMR', *i] <=milp_cost.Cap_P['HO','SMR', i[0]])\n",
    "\n",
    "# # from pyomo.environ import ConstraintList, Binary, Var\n",
    "\n",
    "# # # Define the binary variable\n",
    "# # milp_cost.ramping_up = Var(scales.scale_iter(1), within=Binary)\n",
    "\n",
    "# # ramping_limit = 5000\n",
    "\n",
    "# # milp_cost.cons2 = ConstraintList()\n",
    "# # milp_cost.cons3 = ConstraintList()\n",
    "\n",
    "# # for i in scales.scale_iter(1):\n",
    "# #     if i != (0,0):\n",
    "# #         previous_i = scales.scale_iter(2)[scales.scale_iter(1).index(i) - 1]\n",
    "        \n",
    "# #         # Ramp up constraint\n",
    "# #         milp_cost.cons2.add(expr = milp_cost.P['HO', 'SMR', *i] - milp_cost.P['HO', 'SMR', *previous_i] <= ramping_limit)\n",
    "        \n",
    "# #         # Ramp down constraint\n",
    "# #         milp_cost.cons3.add(expr = milp_cost.P['HO', 'SMR', *i] - milp_cost.P['HO', 'SMR', *previous_i] >= -ramping_limit)\n",
    "        \n",
    "# #         # Ensure if ramped up, cannot ramp down in the next step\n",
    "# #         milp_cost.cons3.add(expr = milp_cost.ramping_up[i] * (milp_cost.P['HO', 'SMR', *i] - milp_cost.P['HO', 'SMR', *previous_i]) >= 0)\n",
    "# #         milp_cost.cons3.add(expr = (1 - milp_cost.ramping_up[i]) * (milp_cost.P['HO', 'SMR', *i] - milp_cost.P['HO', 'SMR', *previous_i]) <= 0)\n"
   ]
  },
  {
   "cell_type": "code",
   "execution_count": 59,
   "metadata": {},
   "outputs": [],
   "source": [
    "# ramping_limit = 8000\n",
    "\n",
    "# milp_cost.cons4 = ConstraintList()\n",
    "# for i in scales.scale_iter(1):\n",
    "#     if i != (0,0):\n",
    "#         milp_cost.cons4.add(expr = milp_cost.P['HO', 'ATR_CCS_R', *i] - milp_cost.P['HO', 'ATR_CCS_R', *scales.scale_iter(2)[scales.scale_iter(1).index(i) - 1]] <= ramping_limit)\n",
    "\n",
    "# milp_cost.cons5 = ConstraintList()\n",
    "# for i in scales.scale_iter(1):\n",
    "#     if i != (0,0):\n",
    "#         milp_cost.cons5.add(expr = milp_cost.P['HO', 'ATR_CCS_R', *i] - milp_cost.P['HO', 'ATR_CCS_R', *scales.scale_iter(2)[scales.scale_iter(1).index(i) - 1]] >= -ramping_limit)\n",
    "\n",
    "# milp_cost.cons6 = ConstraintList()\n",
    "# for i in scales.scale_iter(1):\n",
    "#     if i != (0,0):\n",
    "#         milp_cost.cons6.add(expr = milp_cost.P['HO', 'ATR_CCS_OC', *i] - milp_cost.P['HO', 'ATR_CCS_OC', *scales.scale_iter(2)[scales.scale_iter(1).index(i) - 1]] <= ramping_limit)\n",
    "\n",
    "# milp_cost.cons7 = ConstraintList()\n",
    "# for i in scales.scale_iter(1):\n",
    "#     if i != (0,0):\n",
    "#         milp_cost.cons7.add(expr = milp_cost.P['HO', 'ATR_CCS_OC', *i] - milp_cost.P['HO', 'ATR_CCS_OC', *scales.scale_iter(2)[scales.scale_iter(1).index(i) - 1]] >= -ramping_limit)        \n",
    "\n",
    "# milp_cost.cons8 = ConstraintList()\n",
    "# for i in scales.scale_iter(1):\n",
    "#     if i != (0,0):\n",
    "#         milp_cost.cons8.add(expr = milp_cost.P['HO', 'ATR_CCS_R_OC', *i] - milp_cost.P['HO', 'ATR_CCS_R_OC', *scales.scale_iter(2)[scales.scale_iter(1).index(i) - 1]] <= ramping_limit)\n",
    "\n",
    "# milp_cost.cons9 = ConstraintList()\n",
    "# for i in scales.scale_iter(1):\n",
    "#     if i != (0,0):\n",
    "#         milp_cost.cons9.add(expr = milp_cost.P['HO', 'ATR_CCS_R_OC', *i] - milp_cost.P['HO', 'ATR_CCS_R_OC', *scales.scale_iter(2)[scales.scale_iter(1).index(i) - 1]] >= -ramping_limit)  "
   ]
  },
  {
   "cell_type": "code",
   "execution_count": 60,
   "metadata": {},
   "outputs": [
    {
     "name": "stdout",
     "output_type": "stream",
     "text": [
      "Set parameter QCPDual to value 1\n",
      "Gurobi Optimizer version 11.0.1 build v11.0.1rc0 (win64 - Windows 11+.0 (26100.2))\n",
      "\n",
      "CPU model: 13th Gen Intel(R) Core(TM) i7-13700, instruction set [SSE2|AVX|AVX2]\n",
      "Thread count: 16 physical cores, 24 logical processors, using up to 24 threads\n",
      "\n",
      "Optimize a model with 2345 rows, 12025 columns and 5915 nonzeros\n",
      "Model fingerprint: 0x24aa6ebf\n",
      "Coefficient statistics:\n",
      "  Matrix range     [1e-04, 4e+02]\n",
      "  Objective range  [1e+00, 1e+00]\n",
      "  Bounds range     [0e+00, 0e+00]\n",
      "  RHS range        [1e-03, 1e+08]\n",
      "Presolve removed 2320 rows and 12024 columns\n",
      "Presolve time: 0.00s\n",
      "\n",
      "Solved in 0 iterations and 0.00 seconds (0.00 work units)\n",
      "Infeasible model\n",
      "WARNING: Loading a SolverResults object with a warning status into\n",
      "model.name=\"unknown\";\n",
      "    - termination condition: infeasible\n",
      "    - message from solver: <undefined>\n"
     ]
    }
   ],
   "source": [
    "results_cost = solve(scenario=scenario, instance=milp_cost,\n",
    "                     solver='gurobi', name=f\"res_cost\", print_solversteps=True, saveformat = '.pkl')\n"
   ]
  },
  {
   "cell_type": "code",
   "execution_count": 61,
   "metadata": {},
   "outputs": [],
   "source": [
    "# plot_results.schedule(results = results_cost, y_axis= 'P', component = 'SMR', location='HO')"
   ]
  },
  {
   "cell_type": "code",
   "execution_count": 62,
   "metadata": {},
   "outputs": [
    {
     "ename": "KeyError",
     "evalue": "'objective'",
     "output_type": "error",
     "traceback": [
      "\u001b[1;31m---------------------------------------------------------------------------\u001b[0m",
      "\u001b[1;31mKeyError\u001b[0m                                  Traceback (most recent call last)",
      "Cell \u001b[1;32mIn[62], line 1\u001b[0m\n\u001b[1;32m----> 1\u001b[0m \u001b[43mresults_cost\u001b[49m\u001b[38;5;241;43m.\u001b[39;49m\u001b[43moutput\u001b[49m\u001b[43m[\u001b[49m\u001b[38;5;124;43m'\u001b[39;49m\u001b[38;5;124;43mobjective\u001b[39;49m\u001b[38;5;124;43m'\u001b[39;49m\u001b[43m]\u001b[49m\n",
      "\u001b[1;31mKeyError\u001b[0m: 'objective'"
     ]
    }
   ],
   "source": [
    "results_cost.output['objective']"
   ]
  },
  {
   "cell_type": "code",
   "execution_count": null,
   "metadata": {},
   "outputs": [],
   "source": [
    "results_cost.output['P']"
   ]
  },
  {
   "cell_type": "code",
   "execution_count": null,
   "metadata": {},
   "outputs": [],
   "source": [
    "results_cost.output['global_warming_potential_location']"
   ]
  },
  {
   "cell_type": "code",
   "execution_count": null,
   "metadata": {},
   "outputs": [],
   "source": [
    "results_cost.output['global_warming_potential_resource']"
   ]
  },
  {
   "cell_type": "code",
   "execution_count": null,
   "metadata": {},
   "outputs": [],
   "source": [
    "x = results_cost.output['P']"
   ]
  },
  {
   "cell_type": "code",
   "execution_count": null,
   "metadata": {},
   "outputs": [],
   "source": [
    "import matplotlib.pyplot as plt\n",
    "import matplotlib.dates as mdates\n",
    "from datetime import datetime, timedelta\n",
    "\n",
    "# Generate time labels\n",
    "time_labels = [datetime(2024, 1, 1) + timedelta(days=j, hours=i) for j in range(0,1) for i in range(24)]\n",
    "SMRplot = [x['HO', 'ATR_CCS_R', day, hour] for day in range(0,1) for hour in range(24)]\n",
    "\n",
    "\n",
    "plt.fill_between(time_labels, SMRplot, color= 'maroon', alpha=0.1)\n",
    "\n",
    "plt.plot(time_labels, SMRplot, color='maroon', linestyle='--', label = 'SMR')#, label = \"Hydrogen production rate\")\n",
    "\n",
    "# Labeling axes\n",
    "plt.xlabel('Time', fontsize = 14)\n",
    "plt.ylabel('Hourly Hydrogen Production [kg]', fontsize = 14)\n",
    "\n",
    "# Format the y-axis in scientific notation\n",
    "plt.ticklabel_format(style='sci', axis='y')  \n",
    "\n",
    "# Set limits for y and x axes\n",
    "plt.ylim(bottom=0)\n",
    "plt.xlim([time_labels[0], time_labels[-1]])\n",
    "\n",
    "# Set custom time labels for the x-axis\n",
    "plt.gca().xaxis.set_major_locator(mdates.HourLocator(interval=3))  # Show one tick per month\n",
    "plt.gca().xaxis.set_major_formatter(mdates.DateFormatter('%H:%M'))  # Format as 'Jan 2024', 'Feb 2024', etc.  %Y\n",
    "\n",
    "\n",
    "# Add grid\n",
    "plt.grid(color='gray', linestyle='--', linewidth=0.5, alpha=0.5)\n",
    "\n",
    "# Display legend\n",
    "plt.legend(fontsize = 10)\n",
    "\n",
    "# Show the plot\n",
    "plt.show()"
   ]
  },
  {
   "cell_type": "code",
   "execution_count": null,
   "metadata": {},
   "outputs": [],
   "source": [
    "milp_cost.constraint_production_max.pprint()"
   ]
  },
  {
   "cell_type": "code",
   "execution_count": null,
   "metadata": {},
   "outputs": [],
   "source": [
    "milp_cost.constraint_production_min.pprint()"
   ]
  },
  {
   "cell_type": "code",
   "execution_count": null,
   "metadata": {},
   "outputs": [],
   "source": [
    "milp_cost.constraint_process_capex.pprint()"
   ]
  },
  {
   "cell_type": "code",
   "execution_count": null,
   "metadata": {},
   "outputs": [],
   "source": [
    "milp_cost.Cap_P.pprint()"
   ]
  },
  {
   "cell_type": "code",
   "execution_count": null,
   "metadata": {},
   "outputs": [],
   "source": [
    "results_cost.output['Cap_P']"
   ]
  },
  {
   "cell_type": "code",
   "execution_count": null,
   "metadata": {},
   "outputs": [],
   "source": [
    "data = results_cost.output['P']\n",
    "df = pd.DataFrame(data,index=[0])\n",
    "df = df.T\n",
    "# Export the DataFrame to an Excel file\n",
    "df.to_excel('C:/Users/marcopdsousa/Desktop/Dataframes/Shell August 2024/Newrampinggwpstudy.xlsx', index=True)"
   ]
  },
  {
   "cell_type": "code",
   "execution_count": null,
   "metadata": {},
   "outputs": [],
   "source": [
    "from energiapy.model.constraints.emission import constraint_global_warming_potential_network_reduction"
   ]
  },
  {
   "cell_type": "code",
   "execution_count": null,
   "metadata": {},
   "outputs": [],
   "source": [
    "def modeler(gwp_pct: float):\n",
    "    instance = formulate(scenario=scenario, constraints={Constraints.COST, Constraints.INVENTORY, Constraints.PRODUCTION,\n",
    "                        Constraints.RESOURCE_BALANCE, Constraints.DEMAND, Constraints.EMISSION}, objective=Objective.COST, demand_sign = 'eq')\n",
    "\n",
    "    constraint_global_warming_potential_network_reduction(instance= instance, network_scale_level = 0, gwp_reduction_pct = gwp_pct, gwp = results_cost.output['global_warming_potential_network'][0])\n",
    "\n",
    "    return instance"
   ]
  },
  {
   "cell_type": "code",
   "execution_count": null,
   "metadata": {},
   "outputs": [],
   "source": [
    "models = [modeler(i+1) for i in range(100)]"
   ]
  },
  {
   "cell_type": "code",
   "execution_count": null,
   "metadata": {},
   "outputs": [],
   "source": [
    "def solver(instance, i): \n",
    "    return solve(scenario=scenario, instance=instance,\n",
    "                     solver='gurobi', name=f\"res_red/res_red_{i}\", print_solversteps=True, saveformat = '.pkl')"
   ]
  },
  {
   "cell_type": "code",
   "execution_count": null,
   "metadata": {},
   "outputs": [],
   "source": [
    "results = {i: solver(m,i) for i,m in enumerate(models)}"
   ]
  },
  {
   "cell_type": "code",
   "execution_count": null,
   "metadata": {},
   "outputs": [],
   "source": [
    "for i in range(len(models)):\n",
    "    print(results[i].output['termination'])"
   ]
  },
  {
   "cell_type": "code",
   "execution_count": null,
   "metadata": {},
   "outputs": [],
   "source": [
    "import pickle\n",
    "with open('C:/Users/marcopdsousa/Documents/energiapy/Real-Time/res_red/res_red_0.pkl', 'rb') as file:\n",
    "    data = pickle.load(file)\n",
    "    print(data)"
   ]
  },
  {
   "cell_type": "code",
   "execution_count": null,
   "metadata": {},
   "outputs": [],
   "source": [
    "# Load the pickle file\n",
    "data = pd.read_pickle('C:/Users/marcopdsousa/Documents/energiapy/Real-Time/res_red/res_red_0.pkl')\n",
    "df = pd.DataFrame(data)\n",
    "selected_rows = df.loc[['objective', 'Cost', 'global_warming_potential_network']]\n",
    "selected_rows.to_excel('C:/Users/marcopdsousa/Desktop/Dataframes/Shell August 2024/res_red_0.xlsx', index=True)\n",
    "#df = df.T\n",
    "# # Check the type of the loaded object\n",
    "# print(data.keys())\n",
    "# df.to_excel('C:/Users/marcopdsousa/Desktop/Dataframes/Shell August 2024/res_red_0.xlsx', index=True)"
   ]
  },
  {
   "cell_type": "code",
   "execution_count": null,
   "metadata": {},
   "outputs": [],
   "source": [
    "import pandas as pd\n",
    "import os\n",
    "\n",
    "# Directory paths\n",
    "input_dir = 'C:/Users/marcopdsousa/Documents/energiapy/Real-Time/res_red/'\n",
    "output_dir = 'C:/Users/marcopdsousa/Desktop/Dataframes/Shell August 2024/'\n",
    "\n",
    "# Ensure the output directory exists\n",
    "os.makedirs(output_dir, exist_ok=True)\n",
    "\n",
    "# Loop through the 100 .pkl files\n",
    "for i in range(100):\n",
    "    # Generate the file name\n",
    "    input_file = os.path.join(input_dir, f'res_red_{i}.pkl')\n",
    "    output_file = os.path.join(output_dir, f'res_red_{i}.xlsx')\n",
    "    \n",
    "    # Load the pickle file\n",
    "    df = pd.read_pickle(input_file)\n",
    "    df = pd.DataFrame(df)\n",
    "    # Select the specific rows of interest\n",
    "    selected_rows = df.loc[['objective', 'Cost', 'global_warming_potential_network']]\n",
    "    \n",
    "    # Save the selected rows to an Excel file\n",
    "    selected_rows.to_excel(output_file, index=True)\n",
    "    \n",
    "    print(f\"Processed and saved: {output_file}\")\n"
   ]
  },
  {
   "cell_type": "code",
   "execution_count": null,
   "metadata": {},
   "outputs": [],
   "source": [
    "import pandas as pd\n",
    "import os\n",
    "\n",
    "# Directory containing the Excel files\n",
    "input_dir = 'C:/Users/marcopdsousa/Desktop/Dataframes/Shell August 2024/'\n",
    "\n",
    "# Output file path\n",
    "output_file = 'C:/Users/marcopdsousa/Desktop/Dataframes/Shell August 2024/merged_res_red.xlsx'\n",
    "\n",
    "# Initialize an empty list to hold the DataFrames\n",
    "dfs = []\n",
    "\n",
    "# Loop through each file in the directory\n",
    "for file_name in os.listdir(input_dir):\n",
    "    if file_name.endswith('.xlsx'):\n",
    "        # Construct full file path\n",
    "        file_path = os.path.join(input_dir, file_name)\n",
    "        \n",
    "        # Load the Excel file into a DataFrame\n",
    "        df = pd.read_excel(file_path)\n",
    "        \n",
    "        # Optionally, add a column to identify the source file\n",
    "        df['Source'] = file_name\n",
    "        \n",
    "        # Append the DataFrame to the list\n",
    "        dfs.append(df)\n",
    "        \n",
    "        print(f\"Loaded {file_name}\")\n",
    "\n",
    "# Concatenate all DataFrames in the list into one DataFrame\n",
    "merged_df = pd.concat(dfs, ignore_index=True)\n",
    "\n",
    "# Save the merged DataFrame to a single Excel file\n",
    "merged_df.to_excel(output_file, index=False)\n",
    "\n",
    "print(f\"All files merged into {output_file}\")\n"
   ]
  },
  {
   "cell_type": "code",
   "execution_count": null,
   "metadata": {},
   "outputs": [],
   "source": [
    "# df = pd.DataFrame(data)\n",
    "# df = df.T\n",
    "# # Export the DataFrame to an Excel file,index=[0]\n",
    "# df.to_excel('C:/Users/marcopdsousa/Desktop/Dataframes/Shell August 2024/res_red_0.xlsx', index=True)"
   ]
  },
  {
   "cell_type": "code",
   "execution_count": null,
   "metadata": {},
   "outputs": [],
   "source": [
    "milp_gwp = formulate(scenario=scenario, constraints={Constraints.COST, Constraints.INVENTORY, Constraints.PRODUCTION,\n",
    "                     Constraints.RESOURCE_BALANCE, Constraints.DEMAND, Constraints.EMISSION}, objective=Objective.MIN_GWP, demand_sign = 'eq')"
   ]
  },
  {
   "cell_type": "code",
   "execution_count": null,
   "metadata": {},
   "outputs": [],
   "source": []
  },
  {
   "cell_type": "code",
   "execution_count": null,
   "metadata": {},
   "outputs": [],
   "source": [
    "# model.component\n",
    "\n",
    "from pyomo.environ import ConstraintList\n",
    "milp_gwp.cons4 = ConstraintList()\n",
    "for i in scales.scale_iter(2):\n",
    "    milp_gwp.cons4.add(expr = milp_gwp.P['HO', 'SMR', *i] >= 1000)"
   ]
  },
  {
   "cell_type": "code",
   "execution_count": null,
   "metadata": {},
   "outputs": [],
   "source": [
    "\n",
    "from pyomo.environ import ConstraintList\n",
    "\n",
    "ramping_limit = 5000\n",
    "\n",
    "milp_gwp.cons2 = ConstraintList()\n",
    "for i in scales.scale_iter(1):\n",
    "    if i != (0,0):\n",
    "        milp_gwp.cons2.add(expr = milp_gwp.P['HO', 'SMR', *i] - milp_gwp.P['HO', 'SMR', *scales.scale_iter(2)[scales.scale_iter(1).index(i) - 1]] <= ramping_limit)\n",
    "\n",
    "milp_gwp.cons3 = ConstraintList()\n",
    "for i in scales.scale_iter(1):\n",
    "    if i != (0,0):\n",
    "        milp_gwp.cons3.add(expr = milp_gwp.P['HO', 'SMR', *i] - milp_gwp.P['HO', 'SMR', *scales.scale_iter(2)[scales.scale_iter(1).index(i) - 1]] >= -ramping_limit)\n",
    "\n",
    "# from pyomo.environ import ConstraintList, Binary, Var\n",
    "\n",
    "\n",
    "# # Define the binary variable\n",
    "# milp_gwp.ramping_up = Var(scales.scale_iter(1), within=Binary)\n",
    "\n",
    "# ramping_limit = 5000\n",
    "\n",
    "# milp_gwp.cons2 = ConstraintList()\n",
    "# milp_gwp.cons3 = ConstraintList()\n",
    "\n",
    "# for i in scales.scale_iter(1):\n",
    "#     if i != (0,0):\n",
    "#         previous_i = scales.scale_iter(2)[scales.scale_iter(1).index(i) - 1]\n",
    "        \n",
    "#         # Ramp up constraint\n",
    "#         milp_gwp.cons2.add(expr = milp_cost.P['HO', 'SMR', *i] - milp_gwp.P['HO', 'SMR', *previous_i] <= ramping_limit)\n",
    "        \n",
    "#         # Ramp down constraint\n",
    "#         milp_gwp.cons3.add(expr = milp_gwp.P['HO', 'SMR', *i] - milp_gwp.P['HO', 'SMR', *previous_i] >= -ramping_limit)\n",
    "        \n",
    "#         # Ensure if ramped up, cannot ramp down in the next step\n",
    "#         milp_gwp.cons3.add(expr = milp_gwp.ramping_up[i] * (milp_cost.P['HO', 'SMR', *i] - milp_gwp.P['HO', 'SMR', *previous_i]) >= 0)\n",
    "#         milp_gwp.cons3.add(expr = (1 - milp_gwp.ramping_up[i]) * (milp_cost.P['HO', 'SMR', *i] - milp_gwp.P['HO', 'SMR', *previous_i]) <= 0)"
   ]
  },
  {
   "cell_type": "code",
   "execution_count": null,
   "metadata": {},
   "outputs": [],
   "source": [
    "\n"
   ]
  },
  {
   "cell_type": "code",
   "execution_count": null,
   "metadata": {},
   "outputs": [],
   "source": [
    "milp_gwp.objective_gwp_min.pprint()"
   ]
  },
  {
   "cell_type": "code",
   "execution_count": null,
   "metadata": {},
   "outputs": [],
   "source": [
    "results_gwp = solve(scenario=scenario, instance=milp_gwp,\n",
    "                     solver='gurobi', name=f\"res_gwp\", print_solversteps=True, saveformat = '.pkl')"
   ]
  },
  {
   "cell_type": "code",
   "execution_count": null,
   "metadata": {},
   "outputs": [],
   "source": [
    "results_gwp.output['global_warming_potential_resource']"
   ]
  },
  {
   "cell_type": "code",
   "execution_count": null,
   "metadata": {},
   "outputs": [],
   "source": [
    "results_gwp.output['global_warming_potential_location']"
   ]
  },
  {
   "cell_type": "code",
   "execution_count": null,
   "metadata": {},
   "outputs": [],
   "source": [
    "results_gwp.output['Cost']"
   ]
  },
  {
   "cell_type": "code",
   "execution_count": null,
   "metadata": {},
   "outputs": [],
   "source": [
    "# results_gwp.output['P_network']"
   ]
  },
  {
   "cell_type": "code",
   "execution_count": null,
   "metadata": {},
   "outputs": [],
   "source": [
    "results_gwp.output['P']"
   ]
  },
  {
   "cell_type": "code",
   "execution_count": null,
   "metadata": {},
   "outputs": [],
   "source": [
    "data = results_gwp.output['P']\n",
    "df = pd.DataFrame(data,index=[0])\n",
    "df = df.T\n",
    "# Export the DataFrame to an Excel file\n",
    "df.to_excel('C:/Users/marcopdsousa/Desktop/Dataframes/Shell August 2024/varyingGWPprocessexpanded.xlsx', index=True)"
   ]
  },
  {
   "cell_type": "code",
   "execution_count": null,
   "metadata": {},
   "outputs": [],
   "source": [
    "results_gwp.output['Cost']"
   ]
  },
  {
   "cell_type": "code",
   "execution_count": null,
   "metadata": {},
   "outputs": [],
   "source": [
    "# data = results_gwp.output['P']\n",
    "# df = pd.DataFrame(data,index=[0])\n",
    "# df = df.T\n",
    "# # Export the DataFrame to an Excel file\n",
    "# df.to_excel('C:/Users/marcopdsousa/Desktop/Dataframes/ScopeFormulation/mingwpP.xlsx', index=True)"
   ]
  },
  {
   "cell_type": "markdown",
   "metadata": {},
   "source": [
    "EMISSION RESTRICTIONS"
   ]
  },
  {
   "cell_type": "code",
   "execution_count": null,
   "metadata": {},
   "outputs": [],
   "source": [
    "milp_gwp_10 = formulate(scenario=scenario, constraints={Constraints.COST, Constraints.INVENTORY, Constraints.PRODUCTION,\n",
    "                     Constraints.RESOURCE_BALANCE, Constraints.NETWORK, Constraints.DEMAND, Constraints.EMISSION}, objective=Objective.COST, demand_sign = 'eq')\n",
    "\n",
    "from energiapy.model.constraints.emission import constraint_global_warming_potential_network_reduction\n",
    "constraint_global_warming_potential_network_reduction(instance= milp_gwp_10, network_scale_level = 0, gwp_reduction_pct = 10, gwp = results_cost.output['global_warming_potential_network'][0])"
   ]
  },
  {
   "cell_type": "code",
   "execution_count": null,
   "metadata": {},
   "outputs": [],
   "source": [
    "from pyomo.environ import ConstraintList\n",
    "\n",
    "ramping_limit = 3\n",
    "\n",
    "milp_gwp_10.cons1 = ConstraintList()\n",
    "for i in scales.scale_iter(1):\n",
    "    if i != (0,0):\n",
    "        milp_gwp_10.cons1.add(expr = milp_gwp_10.P['HO', 'PEM', *i] - milp_gwp_10.P['HO', 'PEM', *scales.scale_iter(2)[scales.scale_iter(1).index(i) - 1]] <= ramping_limit)\n",
    "\n",
    "milp_gwp_10.cons2 = ConstraintList()\n",
    "for i in scales.scale_iter(1):\n",
    "    if i != (0,0):\n",
    "        milp_gwp_10.cons2.add(expr = milp_gwp_10.P['HO', 'SMR', *i] - milp_gwp_10.P['HO', 'SMR', *scales.scale_iter(2)[scales.scale_iter(1).index(i) - 1]] <= ramping_limit)\n",
    "\n",
    "milp_gwp_10.cons3 = ConstraintList()\n",
    "for i in scales.scale_iter(1):\n",
    "    if i != (0,0):\n",
    "        milp_gwp_10.cons3.add(expr = milp_gwp_10.P['HO', 'SMRCCS', *i] - milp_gwp_10.P['HO', 'SMRCCS', *scales.scale_iter(2)[scales.scale_iter(1).index(i) - 1]] <= ramping_limit)\n",
    "\n",
    "milp_gwp_10.cons4 = ConstraintList()\n",
    "for i in scales.scale_iter(2):\n",
    "    milp_gwp_10.cons4.add(expr = milp_gwp_10.P['HO', 'SMR', *i] >= 5)"
   ]
  },
  {
   "cell_type": "code",
   "execution_count": null,
   "metadata": {},
   "outputs": [],
   "source": [
    "results_gwp_10 = solve(scenario=scenario, instance=milp_gwp_10,\n",
    "                     solver='gurobi', name=f\"res_gwp_10\", print_solversteps=True, saveformat = '.pkl')"
   ]
  },
  {
   "cell_type": "code",
   "execution_count": null,
   "metadata": {},
   "outputs": [],
   "source": [
    "results_gwp_10.output['objective']"
   ]
  },
  {
   "cell_type": "code",
   "execution_count": null,
   "metadata": {},
   "outputs": [],
   "source": [
    "results_gwp_10.output['global_warming_potential_location']"
   ]
  },
  {
   "cell_type": "code",
   "execution_count": null,
   "metadata": {},
   "outputs": [],
   "source": [
    "results_gwp_10.output['P']"
   ]
  },
  {
   "cell_type": "code",
   "execution_count": null,
   "metadata": {},
   "outputs": [],
   "source": [
    "# data = results_gwp_10.output['P']\n",
    "# df = pd.DataFrame(data,index=[0])\n",
    "# df = df.T\n",
    "# # Export the DataFrame to an Excel file\n",
    "# df.to_excel('C:/Users/marcopdsousa/Desktop/Dataframes/mingwpprod10.xlsx', index=True)"
   ]
  },
  {
   "cell_type": "code",
   "execution_count": null,
   "metadata": {},
   "outputs": [],
   "source": [
    "# data = results_gwp_10.output['global_warming_potential_resource']\n",
    "# df = pd.DataFrame(data,index=[0])\n",
    "# df = df.T\n",
    "# # Export the DataFrame to an Excel file\n",
    "# df.to_excel('C:/Users/marcopdsousa/Desktop/Dataframes/mingwp10resource_emission.xlsx', index=True)"
   ]
  },
  {
   "cell_type": "code",
   "execution_count": null,
   "metadata": {},
   "outputs": [],
   "source": [
    "results_cost.output['global_warming_potential_resource']"
   ]
  },
  {
   "cell_type": "code",
   "execution_count": null,
   "metadata": {},
   "outputs": [],
   "source": [
    "results_gwp_10.output['global_warming_potential_resource']"
   ]
  },
  {
   "cell_type": "code",
   "execution_count": null,
   "metadata": {},
   "outputs": [],
   "source": [
    "milp_gwp_20 = formulate(scenario=scenario, constraints={Constraints.COST, Constraints.INVENTORY, Constraints.PRODUCTION,\n",
    "                     Constraints.RESOURCE_BALANCE, Constraints.NETWORK, Constraints.DEMAND, Constraints.EMISSION}, objective=Objective.COST, demand_sign = 'eq')\n",
    "\n",
    "from energiapy.model.constraints.emission import constraint_global_warming_potential_network_reduction\n",
    "constraint_global_warming_potential_network_reduction(instance= milp_gwp_20, network_scale_level = 0, gwp_reduction_pct = 20, gwp = results_cost.output['global_warming_potential_network'][0])\n"
   ]
  },
  {
   "cell_type": "code",
   "execution_count": null,
   "metadata": {},
   "outputs": [],
   "source": []
  },
  {
   "cell_type": "code",
   "execution_count": null,
   "metadata": {},
   "outputs": [],
   "source": [
    "from pyomo.environ import ConstraintList\n",
    "\n",
    "ramping_limit = 3\n",
    "\n",
    "milp_gwp_20.cons1 = ConstraintList()\n",
    "for i in scales.scale_iter(1):\n",
    "    if i != (0,0):\n",
    "        milp_gwp_20.cons1.add(expr = milp_gwp_20.P['HO', 'PEM', *i] - milp_gwp_20.P['HO', 'PEM', *scales.scale_iter(2)[scales.scale_iter(1).index(i) - 1]] <= ramping_limit)\n",
    "\n",
    "milp_gwp_20.cons2 = ConstraintList()\n",
    "for i in scales.scale_iter(1):\n",
    "    if i != (0,0):\n",
    "        milp_gwp_20.cons2.add(expr = milp_gwp_20.P['HO', 'SMR', *i] - milp_gwp_20.P['HO', 'SMR', *scales.scale_iter(2)[scales.scale_iter(1).index(i) - 1]] <= ramping_limit)\n",
    "\n",
    "milp_gwp_20.cons3 = ConstraintList()\n",
    "for i in scales.scale_iter(1):\n",
    "    if i != (0,0):\n",
    "        milp_gwp_20.cons3.add(expr = milp_gwp_20.P['HO', 'SMRCCS', *i] - milp_gwp_20.P['HO', 'SMRCCS', *scales.scale_iter(2)[scales.scale_iter(1).index(i) - 1]] <= ramping_limit)\n",
    "\n",
    "milp_gwp_20.cons4 = ConstraintList()\n",
    "for i in scales.scale_iter(2):\n",
    "    milp_gwp_20.cons4.add(expr = milp_gwp_20.P['HO', 'SMR', *i] >= 5)"
   ]
  },
  {
   "cell_type": "code",
   "execution_count": null,
   "metadata": {},
   "outputs": [],
   "source": [
    "results_gwp_20 = solve(scenario=scenario, instance=milp_gwp_20,\n",
    "                     solver='gurobi', name=f\"res_gwp_20\", print_solversteps=True, saveformat = '.pkl')"
   ]
  },
  {
   "cell_type": "code",
   "execution_count": null,
   "metadata": {},
   "outputs": [],
   "source": [
    "results_gwp_20.output['objective']\n"
   ]
  },
  {
   "cell_type": "code",
   "execution_count": null,
   "metadata": {},
   "outputs": [],
   "source": [
    "results_gwp_20.output['P']"
   ]
  },
  {
   "cell_type": "code",
   "execution_count": null,
   "metadata": {},
   "outputs": [],
   "source": [
    "results_gwp_20.output['global_warming_potential_location']"
   ]
  },
  {
   "cell_type": "code",
   "execution_count": null,
   "metadata": {},
   "outputs": [],
   "source": [
    "results_gwp_20.output['global_warming_potential_resource']"
   ]
  },
  {
   "cell_type": "code",
   "execution_count": null,
   "metadata": {},
   "outputs": [],
   "source": [
    "results_gwp_20.output['P_network']"
   ]
  },
  {
   "cell_type": "code",
   "execution_count": null,
   "metadata": {},
   "outputs": [],
   "source": [
    "# data = results_gwp_20.output['P']\n",
    "# df = pd.DataFrame(data,index=[0])\n",
    "# df = df.T\n",
    "# # Export the DataFrame to an Excel file\n",
    "# df.to_excel('C:/Users/marcopdsousa/Desktop/Dataframes/mingwpprod20.xlsx', index=True)"
   ]
  },
  {
   "cell_type": "code",
   "execution_count": null,
   "metadata": {},
   "outputs": [],
   "source": [
    "# data = results_gwp_20.output['global_warming_potential_resource']\n",
    "# df = pd.DataFrame(data,index=[0])\n",
    "# df = df.T\n",
    "# # Export the DataFrame to an Excel file\n",
    "# df.to_excel('C:/Users/marcopdsousa/Desktop/Dataframes/mingwp20resource_emission.xlsx', index=True)"
   ]
  },
  {
   "cell_type": "code",
   "execution_count": null,
   "metadata": {},
   "outputs": [],
   "source": [
    "results_gwp_20.output[\"objective\"]"
   ]
  },
  {
   "cell_type": "code",
   "execution_count": null,
   "metadata": {},
   "outputs": [],
   "source": [
    "milp_gwp_30 = formulate(scenario=scenario, constraints={Constraints.COST, Constraints.INVENTORY, Constraints.PRODUCTION,\n",
    "                     Constraints.RESOURCE_BALANCE, Constraints.NETWORK, Constraints.DEMAND, Constraints.EMISSION}, objective=Objective.COST, demand_sign = 'eq')\n",
    "\n",
    "from energiapy.model.constraints.emission import constraint_global_warming_potential_network_reduction\n",
    "constraint_global_warming_potential_network_reduction(instance= milp_gwp_30, network_scale_level = 0, gwp_reduction_pct = 30, gwp = results_cost.output['global_warming_potential_network'][0])\n",
    "\n",
    "\n",
    "\n"
   ]
  },
  {
   "cell_type": "code",
   "execution_count": null,
   "metadata": {},
   "outputs": [],
   "source": [
    "from pyomo.environ import ConstraintList\n",
    "\n",
    "ramping_limit = 3\n",
    "\n",
    "milp_gwp_30.cons1 = ConstraintList()\n",
    "for i in scales.scale_iter(1):\n",
    "    if i != (0,0):\n",
    "        milp_gwp_30.cons1.add(expr = milp_gwp_30.P['HO', 'PEM', *i] - milp_gwp_30.P['HO', 'PEM', *scales.scale_iter(2)[scales.scale_iter(1).index(i) - 1]] <= ramping_limit)\n",
    "\n",
    "milp_gwp_30.cons2 = ConstraintList()\n",
    "for i in scales.scale_iter(1):\n",
    "    if i != (0,0):\n",
    "        milp_gwp_30.cons2.add(expr = milp_gwp_30.P['HO', 'SMR', *i] - milp_gwp_30.P['HO', 'SMR', *scales.scale_iter(2)[scales.scale_iter(1).index(i) - 1]] <= ramping_limit)\n",
    "\n",
    "milp_gwp_30.cons3 = ConstraintList()\n",
    "for i in scales.scale_iter(1):\n",
    "    if i != (0,0):\n",
    "        milp_gwp_30.cons3.add(expr = milp_gwp_30.P['HO', 'SMRCCS', *i] - milp_gwp_30.P['HO', 'SMRCCS', *scales.scale_iter(2)[scales.scale_iter(1).index(i) - 1]] <= ramping_limit)\n",
    "\n",
    "milp_gwp_30.cons4 = ConstraintList()\n",
    "for i in scales.scale_iter(2):\n",
    "    milp_gwp_30.cons4.add(expr = milp_gwp_30.P['HO', 'SMR', *i] >= 5)"
   ]
  },
  {
   "cell_type": "code",
   "execution_count": null,
   "metadata": {},
   "outputs": [],
   "source": [
    "results_gwp_30 = solve(scenario=scenario, instance=milp_gwp_30,\n",
    "                     solver='gurobi', name=f\"res_gwp_30\", print_solversteps=True, saveformat = '.pkl')"
   ]
  },
  {
   "cell_type": "code",
   "execution_count": null,
   "metadata": {},
   "outputs": [],
   "source": [
    "\n",
    "results_gwp_30.output['objective']"
   ]
  },
  {
   "cell_type": "code",
   "execution_count": null,
   "metadata": {},
   "outputs": [],
   "source": [
    "results_gwp_30.output['P']"
   ]
  },
  {
   "cell_type": "code",
   "execution_count": null,
   "metadata": {},
   "outputs": [],
   "source": [
    "results_gwp_30.output['global_warming_potential_location']"
   ]
  },
  {
   "cell_type": "code",
   "execution_count": null,
   "metadata": {},
   "outputs": [],
   "source": [
    "results_gwp_30.output['P_network']"
   ]
  },
  {
   "cell_type": "code",
   "execution_count": null,
   "metadata": {},
   "outputs": [],
   "source": [
    "plot_results.cost(results=results_gwp_30, x=CostX.PROCESS_WISE,\n",
    "                  y=CostY.TOTAL, location='HO', fig_size=(11, 6))"
   ]
  },
  {
   "cell_type": "code",
   "execution_count": null,
   "metadata": {},
   "outputs": [],
   "source": [
    "# data = results_gwp_30.output['P']\n",
    "# df = pd.DataFrame(data,index=[0])\n",
    "# df = df.T\n",
    "# # Export the DataFrame to an Excel file\n",
    "# df.to_excel('C:/Users/marcopdsousa/Desktop/Dataframes/mingwpprod30.xlsx', index=True)"
   ]
  },
  {
   "cell_type": "code",
   "execution_count": null,
   "metadata": {},
   "outputs": [],
   "source": [
    "results_gwp_30.output[\"objective\"]"
   ]
  },
  {
   "cell_type": "code",
   "execution_count": null,
   "metadata": {},
   "outputs": [],
   "source": [
    "# data = results_gwp_30.output['global_warming_potential_resource']\n",
    "# df = pd.DataFrame(data,index=[0])\n",
    "# df = df.T\n",
    "# # Export the DataFrame to an Excel file\n",
    "# df.to_excel('C:/Users/marcopdsousa/Desktop/Dataframes/mingwp30resource_emission.xlsx', index=True)"
   ]
  },
  {
   "cell_type": "code",
   "execution_count": null,
   "metadata": {},
   "outputs": [],
   "source": [
    "milp_gwp_40 = formulate(scenario=scenario, constraints={Constraints.COST, Constraints.INVENTORY, Constraints.PRODUCTION,\n",
    "                     Constraints.RESOURCE_BALANCE, Constraints.NETWORK, Constraints.DEMAND, Constraints.EMISSION}, objective=Objective.COST, demand_sign = 'eq')\n",
    "\n",
    "from energiapy.model.constraints.emission import constraint_global_warming_potential_network_reduction\n",
    "constraint_global_warming_potential_network_reduction(instance= milp_gwp_40, network_scale_level = 0, gwp_reduction_pct = 40, gwp = results_cost.output['global_warming_potential_network'][0])\n"
   ]
  },
  {
   "cell_type": "code",
   "execution_count": null,
   "metadata": {},
   "outputs": [],
   "source": [
    "from pyomo.environ import ConstraintList\n",
    "\n",
    "ramping_limit = 3\n",
    "\n",
    "milp_gwp_40.cons1 = ConstraintList()\n",
    "for i in scales.scale_iter(1):\n",
    "    if i != (0,0):\n",
    "        milp_gwp_40.cons1.add(expr = milp_gwp_40.P['HO', 'PEM', *i] - milp_gwp_40.P['HO', 'PEM', *scales.scale_iter(2)[scales.scale_iter(1).index(i) - 1]] <= ramping_limit)\n",
    "\n",
    "milp_gwp_40.cons2 = ConstraintList()\n",
    "for i in scales.scale_iter(1):\n",
    "    if i != (0,0):\n",
    "        milp_gwp_40.cons2.add(expr = milp_gwp_40.P['HO', 'SMR', *i] - milp_gwp_40.P['HO', 'SMR', *scales.scale_iter(2)[scales.scale_iter(1).index(i) - 1]] <= ramping_limit)\n",
    "\n",
    "milp_gwp_40.cons3 = ConstraintList()\n",
    "for i in scales.scale_iter(1):\n",
    "    if i != (0,0):\n",
    "        milp_gwp_40.cons3.add(expr = milp_gwp_40.P['HO', 'SMRCCS', *i] - milp_gwp_40.P['HO', 'SMRCCS', *scales.scale_iter(2)[scales.scale_iter(1).index(i) - 1]] <= ramping_limit)\n",
    "\n",
    "milp_gwp_40.cons4 = ConstraintList()\n",
    "for i in scales.scale_iter(2):\n",
    "    milp_gwp_40.cons4.add(expr = milp_gwp_40.P['HO', 'SMR', *i] >= 5)"
   ]
  },
  {
   "cell_type": "code",
   "execution_count": null,
   "metadata": {},
   "outputs": [],
   "source": [
    "results_gwp_40 = solve(scenario=scenario, instance=milp_gwp_40,\n",
    "                     solver='gurobi', name=f\"res_gwp_40\", print_solversteps=True, saveformat = '.pkl')"
   ]
  },
  {
   "cell_type": "code",
   "execution_count": null,
   "metadata": {},
   "outputs": [],
   "source": [
    "results_gwp_40.output['objective']"
   ]
  },
  {
   "cell_type": "code",
   "execution_count": null,
   "metadata": {},
   "outputs": [],
   "source": [
    "results_gwp_40.output['global_warming_potential_location']"
   ]
  },
  {
   "cell_type": "code",
   "execution_count": null,
   "metadata": {},
   "outputs": [],
   "source": [
    "results_gwp_40.output['global_warming_potential_resource']"
   ]
  },
  {
   "cell_type": "code",
   "execution_count": null,
   "metadata": {},
   "outputs": [],
   "source": [
    "results_gwp_40.output['P_network']"
   ]
  },
  {
   "cell_type": "code",
   "execution_count": null,
   "metadata": {},
   "outputs": [],
   "source": [
    "results_gwp_40.output['P']"
   ]
  },
  {
   "cell_type": "code",
   "execution_count": null,
   "metadata": {},
   "outputs": [],
   "source": [
    "plot_results.cost(results=results_gwp_40, x=CostX.PROCESS_WISE,\n",
    "                  y=CostY.TOTAL, location='HO', fig_size=(11, 6))"
   ]
  },
  {
   "cell_type": "code",
   "execution_count": null,
   "metadata": {},
   "outputs": [],
   "source": [
    "plot_results.schedule(results = results_gwp_40, y_axis= 'P', component = 'SMR', location='HO')\n",
    "plot_results.schedule(results = results_gwp_40, y_axis= 'P', component = 'SMRCCS', location='HO')\n"
   ]
  },
  {
   "cell_type": "code",
   "execution_count": null,
   "metadata": {},
   "outputs": [],
   "source": [
    "# data = results_gwp_40.output['P']\n",
    "# df = pd.DataFrame(data,index=[0])\n",
    "# df = df.T\n",
    "# # Export the DataFrame to an Excel file\n",
    "# df.to_excel('C:/Users/marcopdsousa/Desktop/Dataframes/mingwpprod40.xlsx', index=True)"
   ]
  },
  {
   "cell_type": "code",
   "execution_count": null,
   "metadata": {},
   "outputs": [],
   "source": [
    "# data = results_gwp_40.output['global_warming_potential_resource']\n",
    "# df = pd.DataFrame(data,index=[0])\n",
    "# df = df.T\n",
    "# # Export the DataFrame to an Excel file\n",
    "# df.to_excel('C:/Users/marcopdsousa/Desktop/Dataframes/mingwp40resource_emission.xlsx', index=True)"
   ]
  },
  {
   "cell_type": "code",
   "execution_count": null,
   "metadata": {},
   "outputs": [],
   "source": [
    "results_gwp_40.output[\"objective\"]"
   ]
  },
  {
   "cell_type": "code",
   "execution_count": null,
   "metadata": {},
   "outputs": [],
   "source": [
    "milp_gwp_50 = formulate(scenario=scenario, constraints={Constraints.COST, Constraints.INVENTORY, Constraints.PRODUCTION,\n",
    "                     Constraints.RESOURCE_BALANCE, Constraints.NETWORK, Constraints.DEMAND, Constraints.EMISSION}, objective=Objective.COST, demand_sign = 'eq')\n",
    "\n",
    "from energiapy.model.constraints.emission import constraint_global_warming_potential_network_reduction\n",
    "constraint_global_warming_potential_network_reduction(instance= milp_gwp_50, network_scale_level = 0, gwp_reduction_pct = 50, gwp = results_cost.output['global_warming_potential_network'][0])"
   ]
  },
  {
   "cell_type": "code",
   "execution_count": null,
   "metadata": {},
   "outputs": [],
   "source": [
    "from pyomo.environ import ConstraintList\n",
    "\n",
    "ramping_limit = 3\n",
    "\n",
    "milp_gwp_50.cons1 = ConstraintList()\n",
    "for i in scales.scale_iter(1):\n",
    "    if i != (0,0):\n",
    "        milp_gwp_50.cons1.add(expr = milp_gwp_50.P['HO', 'PEM', *i] - milp_gwp_50.P['HO', 'PEM', *scales.scale_iter(2)[scales.scale_iter(1).index(i) - 1]] <= ramping_limit)\n",
    "\n",
    "milp_gwp_50.cons2 = ConstraintList()\n",
    "for i in scales.scale_iter(1):\n",
    "    if i != (0,0):\n",
    "        milp_gwp_50.cons2.add(expr = milp_gwp_50.P['HO', 'SMR', *i] - milp_gwp_50.P['HO', 'SMR', *scales.scale_iter(2)[scales.scale_iter(1).index(i) - 1]] <= ramping_limit)\n",
    "\n",
    "milp_gwp_50.cons3 = ConstraintList()\n",
    "for i in scales.scale_iter(1):\n",
    "    if i != (0,0):\n",
    "        milp_gwp_50.cons3.add(expr = milp_gwp_50.P['HO', 'SMRCCS', *i] - milp_gwp_50.P['HO', 'SMRCCS', *scales.scale_iter(2)[scales.scale_iter(1).index(i) - 1]] <= ramping_limit)\n",
    "\n",
    "milp_gwp_50.cons4 = ConstraintList()\n",
    "for i in scales.scale_iter(2):\n",
    "    milp_gwp_50.cons4.add(expr = milp_gwp_50.P['HO', 'SMR', *i] >= 5)"
   ]
  },
  {
   "cell_type": "code",
   "execution_count": null,
   "metadata": {},
   "outputs": [],
   "source": [
    "results_gwp_50 = solve(scenario=scenario, instance=milp_gwp_50,\n",
    "                     solver='gurobi', name=f\"res_gwp_50\", print_solversteps=True, saveformat = '.pkl')"
   ]
  },
  {
   "cell_type": "code",
   "execution_count": null,
   "metadata": {},
   "outputs": [],
   "source": [
    "# data = results_gwp_50.output['P']\n",
    "# df = pd.DataFrame(data,index=[0])\n",
    "# df = df.T\n",
    "# # Export the DataFrame to an Excel file\n",
    "# df.to_excel('C:/Users/marcopdsousa/Desktop/Dataframes/mingwpprod50.xlsx', index=True)"
   ]
  },
  {
   "cell_type": "code",
   "execution_count": null,
   "metadata": {},
   "outputs": [],
   "source": [
    "# data = results_gwp_50.output['global_warming_potential_resource']\n",
    "# df = pd.DataFrame(data,index=[0])\n",
    "# df = df.T\n",
    "# # Export the DataFrame to an Excel file\n",
    "# df.to_excel('C:/Users/marcopdsousa/Desktop/Dataframes/mingwp50resource_emission.xlsx', index=True)"
   ]
  },
  {
   "cell_type": "code",
   "execution_count": null,
   "metadata": {},
   "outputs": [],
   "source": [
    "results_gwp_50.output[\"objective\"]"
   ]
  },
  {
   "cell_type": "code",
   "execution_count": null,
   "metadata": {},
   "outputs": [],
   "source": [
    "results_gwp_50.output['global_warming_potential_location']"
   ]
  },
  {
   "cell_type": "code",
   "execution_count": null,
   "metadata": {},
   "outputs": [],
   "source": [
    "milp_gwp_60 = formulate(scenario=scenario, constraints={Constraints.COST, Constraints.INVENTORY, Constraints.PRODUCTION,\n",
    "                     Constraints.RESOURCE_BALANCE, Constraints.NETWORK, Constraints.DEMAND, Constraints.EMISSION}, objective=Objective.COST, demand_sign = 'eq')\n",
    "\n",
    "from energiapy.model.constraints.emission import constraint_global_warming_potential_network_reduction\n",
    "constraint_global_warming_potential_network_reduction(instance= milp_gwp_60, network_scale_level = 0, gwp_reduction_pct = 60, gwp = results_cost.output['global_warming_potential_network'][0])"
   ]
  },
  {
   "cell_type": "code",
   "execution_count": null,
   "metadata": {},
   "outputs": [],
   "source": [
    "from pyomo.environ import ConstraintList\n",
    "\n",
    "ramping_limit = 3\n",
    "\n",
    "milp_gwp_60.cons1 = ConstraintList()\n",
    "for i in scales.scale_iter(1):\n",
    "    if i != (0,0):\n",
    "        milp_gwp_60.cons1.add(expr = milp_gwp_60.P['HO', 'PEM', *i] - milp_gwp_60.P['HO', 'PEM', *scales.scale_iter(2)[scales.scale_iter(1).index(i) - 1]] <= ramping_limit)\n",
    "\n",
    "milp_gwp_60.cons2 = ConstraintList()\n",
    "for i in scales.scale_iter(1):\n",
    "    if i != (0,0):\n",
    "        milp_gwp_60.cons2.add(expr = milp_gwp_60.P['HO', 'SMR', *i] - milp_gwp_60.P['HO', 'SMR', *scales.scale_iter(2)[scales.scale_iter(1).index(i) - 1]] <= ramping_limit)\n",
    "\n",
    "milp_gwp_60.cons3 = ConstraintList()\n",
    "for i in scales.scale_iter(1):\n",
    "    if i != (0,0):\n",
    "        milp_gwp_60.cons3.add(expr = milp_gwp_60.P['HO', 'SMRCCS', *i] - milp_gwp_60.P['HO', 'SMRCCS', *scales.scale_iter(2)[scales.scale_iter(1).index(i) - 1]] <= ramping_limit)\n",
    "\n",
    "milp_gwp_60.cons4 = ConstraintList()\n",
    "for i in scales.scale_iter(2):\n",
    "    milp_gwp_60.cons4.add(expr = milp_gwp_60.P['HO', 'SMR', *i] >= 5)"
   ]
  },
  {
   "cell_type": "code",
   "execution_count": null,
   "metadata": {},
   "outputs": [],
   "source": [
    "results_gwp_60 = solve(scenario=scenario, instance=milp_gwp_60,\n",
    "                     solver='gurobi', name=f\"res_gwp_60\", print_solversteps=True, saveformat = '.pkl')"
   ]
  },
  {
   "cell_type": "code",
   "execution_count": null,
   "metadata": {},
   "outputs": [],
   "source": [
    "plot_results.schedule(results = results_gwp_60, y_axis= 'P', component = 'SMR', location='HO')\n",
    "plot_results.schedule(results = results_gwp_60, y_axis= 'P', component = 'SMRCCS', location='HO')\n",
    "plot_results.schedule(results = results_gwp_60, y_axis= 'P', component = 'PEM', location='HO')"
   ]
  },
  {
   "cell_type": "code",
   "execution_count": null,
   "metadata": {},
   "outputs": [],
   "source": [
    "# data = results_gwp_60.output['P']\n",
    "# df = pd.DataFrame(data,index=[0])\n",
    "# df = df.T\n",
    "# # Export the DataFrame to an Excel file\n",
    "# df.to_excel('C:/Users/marcopdsousa/Desktop/Dataframes/mingwpprod60.xlsx', index=True)"
   ]
  },
  {
   "cell_type": "code",
   "execution_count": null,
   "metadata": {},
   "outputs": [],
   "source": [
    "# data = results_gwp_60.output['global_warming_potential_resource']\n",
    "# df = pd.DataFrame(data,index=[0])\n",
    "# df = df.T\n",
    "# # Export the DataFrame to an Excel file\n",
    "# df.to_excel('C:/Users/marcopdsousa/Desktop/Dataframes/mingwp60resource_emission.xlsx', index=True)"
   ]
  },
  {
   "cell_type": "code",
   "execution_count": null,
   "metadata": {},
   "outputs": [],
   "source": [
    "results_gwp_60.output[\"objective\"]"
   ]
  },
  {
   "cell_type": "code",
   "execution_count": null,
   "metadata": {},
   "outputs": [],
   "source": [
    "results_gwp_60.output[\"P\"]"
   ]
  },
  {
   "cell_type": "code",
   "execution_count": null,
   "metadata": {},
   "outputs": [],
   "source": [
    "results_gwp_60.output['global_warming_potential_location']"
   ]
  },
  {
   "cell_type": "code",
   "execution_count": null,
   "metadata": {},
   "outputs": [],
   "source": [
    "results_gwp_60.output['global_warming_potential_resource']"
   ]
  },
  {
   "cell_type": "code",
   "execution_count": null,
   "metadata": {},
   "outputs": [],
   "source": [
    "milp_gwp_70 = formulate(scenario=scenario, constraints={Constraints.COST, Constraints.INVENTORY, Constraints.PRODUCTION,\n",
    "                     Constraints.RESOURCE_BALANCE, Constraints.NETWORK, Constraints.DEMAND, Constraints.EMISSION}, objective=Objective.COST, demand_sign = 'eq')\n",
    "\n",
    "from energiapy.model.constraints.emission import constraint_global_warming_potential_network_reduction\n",
    "constraint_global_warming_potential_network_reduction(instance= milp_gwp_70, network_scale_level = 0, gwp_reduction_pct = 70, gwp = results_cost.output['global_warming_potential_network'][0])"
   ]
  },
  {
   "cell_type": "code",
   "execution_count": null,
   "metadata": {},
   "outputs": [],
   "source": [
    "from pyomo.environ import ConstraintList\n",
    "\n",
    "ramping_limit = 3\n",
    "\n",
    "milp_gwp_70.cons1 = ConstraintList()\n",
    "for i in scales.scale_iter(1):\n",
    "    if i != (0,0):\n",
    "        milp_gwp_70.cons1.add(expr = milp_gwp_70.P['HO', 'PEM', *i] - milp_gwp_70.P['HO', 'PEM', *scales.scale_iter(2)[scales.scale_iter(1).index(i) - 1]] <= ramping_limit)\n",
    "\n",
    "milp_gwp_70.cons2 = ConstraintList()\n",
    "for i in scales.scale_iter(1):\n",
    "    if i != (0,0):\n",
    "        milp_gwp_70.cons2.add(expr = milp_gwp_70.P['HO', 'SMR', *i] - milp_gwp_70.P['HO', 'SMR', *scales.scale_iter(2)[scales.scale_iter(1).index(i) - 1]] <= ramping_limit)\n",
    "\n",
    "milp_gwp_70.cons3 = ConstraintList()\n",
    "for i in scales.scale_iter(1):\n",
    "    if i != (0,0):\n",
    "        milp_gwp_70.cons3.add(expr = milp_gwp_70.P['HO', 'SMRCCS', *i] - milp_gwp_70.P['HO', 'SMRCCS', *scales.scale_iter(2)[scales.scale_iter(1).index(i) - 1]] <= ramping_limit)\n",
    "\n",
    "milp_gwp_70.cons4 = ConstraintList()\n",
    "for i in scales.scale_iter(2):\n",
    "    milp_gwp_70.cons4.add(expr = milp_gwp_70.P['HO', 'SMR', *i] >= 5)"
   ]
  },
  {
   "cell_type": "code",
   "execution_count": null,
   "metadata": {},
   "outputs": [],
   "source": [
    "results_gwp_70 = solve(scenario=scenario, instance=milp_gwp_70,\n",
    "                     solver='gurobi', name=f\"res_gwp_70\", print_solversteps=True, saveformat = '.pkl')"
   ]
  },
  {
   "cell_type": "code",
   "execution_count": null,
   "metadata": {},
   "outputs": [],
   "source": [
    "# data = results_gwp_70.output['P']\n",
    "# df = pd.DataFrame(data,index=[0])\n",
    "# df = df.T\n",
    "# # Export the DataFrame to an Excel file\n",
    "# df.to_excel('C:/Users/marcopdsousa/Desktop/Dataframes/mingwpprod70.xlsx', index=True)"
   ]
  },
  {
   "cell_type": "code",
   "execution_count": null,
   "metadata": {},
   "outputs": [],
   "source": [
    "# data = results_gwp_70.output['global_warming_potential_resource']\n",
    "# df = pd.DataFrame(data,index=[0])\n",
    "# df = df.T\n",
    "# # Export the DataFrame to an Excel file\n",
    "# df.to_excel('C:/Users/marcopdsousa/Desktop/Dataframes/mingwp70resource_emission.xlsx', index=True)"
   ]
  },
  {
   "cell_type": "code",
   "execution_count": null,
   "metadata": {},
   "outputs": [],
   "source": [
    "results_gwp_70.output[\"objective\"]"
   ]
  },
  {
   "cell_type": "code",
   "execution_count": null,
   "metadata": {},
   "outputs": [],
   "source": [
    "results_gwp_70.output['global_warming_potential_resource']"
   ]
  },
  {
   "cell_type": "code",
   "execution_count": null,
   "metadata": {},
   "outputs": [],
   "source": [
    "results_gwp_70.output[\"P\"]"
   ]
  },
  {
   "cell_type": "code",
   "execution_count": null,
   "metadata": {},
   "outputs": [],
   "source": [
    "results_gwp_70.output['global_warming_potential_location']"
   ]
  },
  {
   "cell_type": "code",
   "execution_count": null,
   "metadata": {},
   "outputs": [],
   "source": [
    "milp_gwp_75 = formulate(scenario=scenario, constraints={Constraints.COST, Constraints.INVENTORY, Constraints.PRODUCTION,\n",
    "                     Constraints.RESOURCE_BALANCE, Constraints.NETWORK, Constraints.DEMAND, Constraints.EMISSION}, objective=Objective.COST, demand_sign = 'eq')\n",
    "\n",
    "from energiapy.model.constraints.emission import constraint_global_warming_potential_network_reduction\n",
    "constraint_global_warming_potential_network_reduction(instance= milp_gwp_75, network_scale_level = 0, gwp_reduction_pct = 75, gwp = results_cost.output['global_warming_potential_network'][0])"
   ]
  },
  {
   "cell_type": "code",
   "execution_count": null,
   "metadata": {},
   "outputs": [],
   "source": [
    "from pyomo.environ import ConstraintList\n",
    "\n",
    "ramping_limit = 3\n",
    "\n",
    "milp_gwp_75.cons1 = ConstraintList()\n",
    "for i in scales.scale_iter(1):\n",
    "    if i != (0,0):\n",
    "        milp_gwp_75.cons1.add(expr = milp_gwp_75.P['HO', 'PEM', *i] - milp_gwp_75.P['HO', 'PEM', *scales.scale_iter(2)[scales.scale_iter(1).index(i) - 1]] <= ramping_limit)\n",
    "\n",
    "milp_gwp_75.cons2 = ConstraintList()\n",
    "for i in scales.scale_iter(1):\n",
    "    if i != (0,0):\n",
    "        milp_gwp_75.cons2.add(expr = milp_gwp_75.P['HO', 'SMR', *i] - milp_gwp_75.P['HO', 'SMR', *scales.scale_iter(2)[scales.scale_iter(1).index(i) - 1]] <= ramping_limit)\n",
    "\n",
    "milp_gwp_75.cons3 = ConstraintList()\n",
    "for i in scales.scale_iter(1):\n",
    "    if i != (0,0):\n",
    "        milp_gwp_75.cons3.add(expr = milp_gwp_75.P['HO', 'SMRCCS', *i] - milp_gwp_75.P['HO', 'SMRCCS', *scales.scale_iter(2)[scales.scale_iter(1).index(i) - 1]] <= ramping_limit)\n",
    "\n",
    "milp_gwp_75.cons4 = ConstraintList()\n",
    "for i in scales.scale_iter(2):\n",
    "    milp_gwp_75.cons4.add(expr = milp_gwp_75.P['HO', 'SMR', *i] >= 5)"
   ]
  },
  {
   "cell_type": "code",
   "execution_count": null,
   "metadata": {},
   "outputs": [],
   "source": [
    "results_gwp_75 = solve(scenario=scenario, instance=milp_gwp_75,\n",
    "                     solver='gurobi', name=f\"res_gwp_75\", print_solversteps=True, saveformat = '.pkl')"
   ]
  },
  {
   "cell_type": "code",
   "execution_count": null,
   "metadata": {},
   "outputs": [],
   "source": [
    "# data = results_gwp_75.output['P']\n",
    "# df = pd.DataFrame(data,index=[0])\n",
    "# df = df.T\n",
    "# # Export the DataFrame to an Excel file\n",
    "# df.to_excel('C:/Users/marcopdsousa/Desktop/Dataframes/mingwpprod75.xlsx', index=True)"
   ]
  },
  {
   "cell_type": "code",
   "execution_count": null,
   "metadata": {},
   "outputs": [],
   "source": [
    "results_gwp_75.output[\"objective\"]"
   ]
  },
  {
   "cell_type": "code",
   "execution_count": null,
   "metadata": {},
   "outputs": [],
   "source": [
    "results_gwp_75.output[\"P\"]"
   ]
  },
  {
   "cell_type": "code",
   "execution_count": null,
   "metadata": {},
   "outputs": [],
   "source": [
    "results_gwp_75.output['global_warming_potential_location']"
   ]
  },
  {
   "cell_type": "code",
   "execution_count": null,
   "metadata": {},
   "outputs": [],
   "source": [
    "milp_gwp_78 = formulate(scenario=scenario, constraints={Constraints.COST, Constraints.INVENTORY, Constraints.PRODUCTION,\n",
    "                     Constraints.RESOURCE_BALANCE, Constraints.NETWORK, Constraints.DEMAND, Constraints.EMISSION}, objective=Objective.COST, demand_sign = 'eq')\n",
    "\n",
    "from energiapy.model.constraints.emission import constraint_global_warming_potential_network_reduction\n",
    "constraint_global_warming_potential_network_reduction(instance= milp_gwp_78, network_scale_level = 0, gwp_reduction_pct = 78, gwp = results_cost.output['global_warming_potential_network'][0])"
   ]
  },
  {
   "cell_type": "code",
   "execution_count": null,
   "metadata": {},
   "outputs": [],
   "source": [
    "from pyomo.environ import ConstraintList\n",
    "\n",
    "ramping_limit = 3\n",
    "\n",
    "milp_gwp_78.cons1 = ConstraintList()\n",
    "for i in scales.scale_iter(1):\n",
    "    if i != (0,0):\n",
    "        milp_gwp_78.cons1.add(expr = milp_gwp_78.P['HO', 'PEM', *i] - milp_gwp_78.P['HO', 'PEM', *scales.scale_iter(2)[scales.scale_iter(1).index(i) - 1]] <= ramping_limit)\n",
    "\n",
    "milp_gwp_78.cons2 = ConstraintList()\n",
    "for i in scales.scale_iter(1):\n",
    "    if i != (0,0):\n",
    "        milp_gwp_78.cons2.add(expr = milp_gwp_78.P['HO', 'SMR', *i] - milp_gwp_78.P['HO', 'SMR', *scales.scale_iter(2)[scales.scale_iter(1).index(i) - 1]] <= ramping_limit)\n",
    "\n",
    "milp_gwp_78.cons3 = ConstraintList()\n",
    "for i in scales.scale_iter(1):\n",
    "    if i != (0,0):\n",
    "        milp_gwp_78.cons3.add(expr = milp_gwp_78.P['HO', 'SMRCCS', *i] - milp_gwp_78.P['HO', 'SMRCCS', *scales.scale_iter(2)[scales.scale_iter(1).index(i) - 1]] <= ramping_limit)\n",
    "\n",
    "milp_gwp_78.cons4 = ConstraintList()\n",
    "for i in scales.scale_iter(2):\n",
    "    milp_gwp_78.cons4.add(expr = milp_gwp_78.P['HO', 'SMR', *i] >= 5)"
   ]
  },
  {
   "cell_type": "code",
   "execution_count": null,
   "metadata": {},
   "outputs": [],
   "source": [
    "results_gwp_78 = solve(scenario=scenario, instance=milp_gwp_78,\n",
    "                     solver='gurobi', name=f\"res_gwp_78\", print_solversteps=True, saveformat = '.pkl')"
   ]
  },
  {
   "cell_type": "code",
   "execution_count": null,
   "metadata": {},
   "outputs": [],
   "source": [
    "results_gwp_78.output['objective']"
   ]
  },
  {
   "cell_type": "code",
   "execution_count": null,
   "metadata": {},
   "outputs": [],
   "source": [
    "results_gwp_78.output['global_warming_potential_location']"
   ]
  },
  {
   "cell_type": "code",
   "execution_count": null,
   "metadata": {},
   "outputs": [],
   "source": [
    "results_gwp_78.output[\"P\"]"
   ]
  },
  {
   "cell_type": "code",
   "execution_count": null,
   "metadata": {},
   "outputs": [],
   "source": [
    "# data = results_gwp_78.output['P']\n",
    "# df = pd.DataFrame(data,index=[0])\n",
    "# df = df.T\n",
    "# # Export the DataFrame to an Excel file\n",
    "# df.to_excel('C:/Users/marcopdsousa/Desktop/Dataframes/mingwpprod78.xlsx', index=True)"
   ]
  },
  {
   "cell_type": "code",
   "execution_count": null,
   "metadata": {},
   "outputs": [],
   "source": [
    "plot_results.cost(results=results_gwp_78, x=CostX.PROCESS_WISE,\n",
    "                  y=CostY.TOTAL, location='HO', fig_size=(11, 6))"
   ]
  },
  {
   "cell_type": "code",
   "execution_count": null,
   "metadata": {},
   "outputs": [],
   "source": [
    "milp_gwp_79 = formulate(scenario=scenario, constraints={Constraints.COST, Constraints.INVENTORY, Constraints.PRODUCTION,\n",
    "                     Constraints.RESOURCE_BALANCE, Constraints.NETWORK, Constraints.DEMAND, Constraints.EMISSION}, objective=Objective.COST, demand_sign = 'eq')\n",
    "\n",
    "from energiapy.model.constraints.emission import constraint_global_warming_potential_network_reduction\n",
    "constraint_global_warming_potential_network_reduction(instance= milp_gwp_79, network_scale_level = 0, gwp_reduction_pct = 79, gwp = results_cost.output['global_warming_potential_network'][0])"
   ]
  },
  {
   "cell_type": "code",
   "execution_count": null,
   "metadata": {},
   "outputs": [],
   "source": [
    "from pyomo.environ import ConstraintList\n",
    "\n",
    "ramping_limit = 3\n",
    "\n",
    "milp_gwp_79.cons1 = ConstraintList()\n",
    "for i in scales.scale_iter(1):\n",
    "    if i != (0,0):\n",
    "        milp_gwp_79.cons1.add(expr = milp_gwp_79.P['HO', 'PEM', *i] - milp_gwp_79.P['HO', 'PEM', *scales.scale_iter(2)[scales.scale_iter(1).index(i) - 1]] <= ramping_limit)\n",
    "\n",
    "milp_gwp_79.cons2 = ConstraintList()\n",
    "for i in scales.scale_iter(1):\n",
    "    if i != (0,0):\n",
    "        milp_gwp_79.cons2.add(expr = milp_gwp_79.P['HO', 'SMR', *i] - milp_gwp_79.P['HO', 'SMR', *scales.scale_iter(2)[scales.scale_iter(1).index(i) - 1]] <= ramping_limit)\n",
    "\n",
    "milp_gwp_79.cons3 = ConstraintList()\n",
    "for i in scales.scale_iter(1):\n",
    "    if i != (0,0):\n",
    "        milp_gwp_79.cons3.add(expr = milp_gwp_79.P['HO', 'SMRCCS', *i] - milp_gwp_79.P['HO', 'SMRCCS', *scales.scale_iter(2)[scales.scale_iter(1).index(i) - 1]] <= ramping_limit)\n",
    "\n",
    "milp_gwp_79.cons4 = ConstraintList()\n",
    "for i in scales.scale_iter(2):\n",
    "    milp_gwp_79.cons4.add(expr = milp_gwp_79.P['HO', 'SMR', *i] >= 5)"
   ]
  },
  {
   "cell_type": "code",
   "execution_count": null,
   "metadata": {},
   "outputs": [],
   "source": [
    "results_gwp_79 = solve(scenario=scenario, instance=milp_gwp_79,\n",
    "                     solver='gurobi', name=f\"res_gwp_79\", print_solversteps=True, saveformat = '.pkl')"
   ]
  },
  {
   "cell_type": "code",
   "execution_count": null,
   "metadata": {},
   "outputs": [],
   "source": [
    "results_gwp_79.output['objective']"
   ]
  },
  {
   "cell_type": "code",
   "execution_count": null,
   "metadata": {},
   "outputs": [],
   "source": [
    "results_gwp_79.output['global_warming_potential_location']"
   ]
  },
  {
   "cell_type": "code",
   "execution_count": null,
   "metadata": {},
   "outputs": [],
   "source": [
    "results_gwp_79.output['P']"
   ]
  },
  {
   "cell_type": "code",
   "execution_count": null,
   "metadata": {},
   "outputs": [],
   "source": [
    "milp_gwp_85 = formulate(scenario=scenario, constraints={Constraints.COST, Constraints.INVENTORY, Constraints.PRODUCTION,\n",
    "                     Constraints.RESOURCE_BALANCE, Constraints.NETWORK, Constraints.DEMAND, Constraints.EMISSION}, objective=Objective.COST, demand_sign = 'eq')\n",
    "\n",
    "from energiapy.model.constraints.emission import constraint_global_warming_potential_network_reduction\n",
    "constraint_global_warming_potential_network_reduction(instance= milp_gwp_85, network_scale_level = 0, gwp_reduction_pct = 85, gwp = results_cost.output['global_warming_potential_network'][0])"
   ]
  },
  {
   "cell_type": "code",
   "execution_count": null,
   "metadata": {},
   "outputs": [],
   "source": [
    "from pyomo.environ import ConstraintList\n",
    "\n",
    "ramping_limit = 3\n",
    "\n",
    "milp_gwp_85.cons1 = ConstraintList()\n",
    "for i in scales.scale_iter(1):\n",
    "    if i != (0,0):\n",
    "        milp_gwp_85.cons1.add(expr = milp_gwp_85.P['HO', 'PEM', *i] - milp_gwp_85.P['HO', 'PEM', *scales.scale_iter(2)[scales.scale_iter(1).index(i) - 1]] <= ramping_limit)\n",
    "\n",
    "milp_gwp_85.cons2 = ConstraintList()\n",
    "for i in scales.scale_iter(1):\n",
    "    if i != (0,0):\n",
    "        milp_gwp_85.cons2.add(expr = milp_gwp_85.P['HO', 'SMR', *i] - milp_gwp_85.P['HO', 'SMR', *scales.scale_iter(2)[scales.scale_iter(1).index(i) - 1]] <= ramping_limit)\n",
    "\n",
    "milp_gwp_85.cons3 = ConstraintList()\n",
    "for i in scales.scale_iter(1):\n",
    "    if i != (0,0):\n",
    "        milp_gwp_85.cons3.add(expr = milp_gwp_85.P['HO', 'SMRCCS', *i] - milp_gwp_85.P['HO', 'SMRCCS', *scales.scale_iter(2)[scales.scale_iter(1).index(i) - 1]] <= ramping_limit)\n",
    "\n",
    "milp_gwp_85.cons4 = ConstraintList()\n",
    "for i in scales.scale_iter(2):\n",
    "    milp_gwp_85.cons4.add(expr = milp_gwp_85.P['HO', 'SMR', *i] >= 5)"
   ]
  },
  {
   "cell_type": "code",
   "execution_count": null,
   "metadata": {},
   "outputs": [],
   "source": [
    "results_gwp_85 = solve(scenario=scenario, instance=milp_gwp_85,\n",
    "                     solver='gurobi', name=f\"res_gwp_85\", print_solversteps=True, saveformat = '.pkl')"
   ]
  },
  {
   "cell_type": "code",
   "execution_count": null,
   "metadata": {},
   "outputs": [],
   "source": [
    "# data = results_gwp_85.output['P']\n",
    "# df = pd.DataFrame(data,index=[0])\n",
    "# df = df.T\n",
    "# # Export the DataFrame to an Excel file\n",
    "# df.to_excel('C:/Users/marcopdsousa/Desktop/Dataframes/mingwpprod85.xlsx', index=True)"
   ]
  },
  {
   "cell_type": "code",
   "execution_count": null,
   "metadata": {},
   "outputs": [],
   "source": [
    "results_gwp_85.output['objective']"
   ]
  },
  {
   "cell_type": "code",
   "execution_count": null,
   "metadata": {},
   "outputs": [],
   "source": [
    "results_gwp_85.output['global_warming_potential_location']"
   ]
  },
  {
   "cell_type": "code",
   "execution_count": null,
   "metadata": {},
   "outputs": [],
   "source": [
    "results_gwp_85.output['P']"
   ]
  },
  {
   "cell_type": "code",
   "execution_count": null,
   "metadata": {},
   "outputs": [],
   "source": [
    "milp_gwp_80 = formulate(scenario=scenario, constraints={Constraints.COST, Constraints.INVENTORY, Constraints.PRODUCTION,\n",
    "                     Constraints.RESOURCE_BALANCE, Constraints.NETWORK, Constraints.DEMAND, Constraints.EMISSION}, objective=Objective.COST, demand_sign = 'eq')\n",
    "\n",
    "from energiapy.model.constraints.emission import constraint_global_warming_potential_network_reduction\n",
    "constraint_global_warming_potential_network_reduction(instance= milp_gwp_80, network_scale_level = 0, gwp_reduction_pct = 80, gwp = results_cost.output['global_warming_potential_network'][0])"
   ]
  },
  {
   "cell_type": "code",
   "execution_count": null,
   "metadata": {},
   "outputs": [],
   "source": [
    "from pyomo.environ import ConstraintList\n",
    "\n",
    "ramping_limit = 3\n",
    "\n",
    "milp_gwp_80.cons1 = ConstraintList()\n",
    "for i in scales.scale_iter(1):\n",
    "    if i != (0,0):\n",
    "        milp_gwp_80.cons1.add(expr = milp_gwp_80.P['HO', 'PEM', *i] - milp_gwp_80.P['HO', 'PEM', *scales.scale_iter(2)[scales.scale_iter(1).index(i) - 1]] <= ramping_limit)\n",
    "\n",
    "milp_gwp_80.cons2 = ConstraintList()\n",
    "for i in scales.scale_iter(1):\n",
    "    if i != (0,0):\n",
    "        milp_gwp_80.cons2.add(expr = milp_gwp_80.P['HO', 'SMR', *i] - milp_gwp_80.P['HO', 'SMR', *scales.scale_iter(2)[scales.scale_iter(1).index(i) - 1]] <= ramping_limit)\n",
    "\n",
    "milp_gwp_80.cons3 = ConstraintList()\n",
    "for i in scales.scale_iter(1):\n",
    "    if i != (0,0):\n",
    "        milp_gwp_80.cons3.add(expr = milp_gwp_80.P['HO', 'SMRCCS', *i] - milp_gwp_80.P['HO', 'SMRCCS', *scales.scale_iter(2)[scales.scale_iter(1).index(i) - 1]] <= ramping_limit)\n",
    "\n",
    "milp_gwp_80.cons4 = ConstraintList()\n",
    "for i in scales.scale_iter(2):\n",
    "    milp_gwp_80.cons4.add(expr = milp_gwp_80.P['HO', 'SMR', *i] >= 5)"
   ]
  },
  {
   "cell_type": "code",
   "execution_count": null,
   "metadata": {},
   "outputs": [],
   "source": [
    "results_gwp_80 = solve(scenario=scenario, instance=milp_gwp_80,\n",
    "                     solver='gurobi', name=f\"res_gwp_80\", print_solversteps=True, saveformat = '.pkl')"
   ]
  },
  {
   "cell_type": "code",
   "execution_count": null,
   "metadata": {},
   "outputs": [],
   "source": [
    "# data = results_gwp_80.output['P']\n",
    "# df = pd.DataFrame(data,index=[0])\n",
    "# df = df.T\n",
    "# # Export the DataFrame to an Excel file\n",
    "# df.to_excel('C:/Users/marcopdsousa/Desktop/Dataframes/mingwpprod80.xlsx', index=True)"
   ]
  },
  {
   "cell_type": "code",
   "execution_count": null,
   "metadata": {},
   "outputs": [],
   "source": [
    "# data = results_gwp_80.output['global_warming_potential_resource']\n",
    "# df = pd.DataFrame(data,index=[0])\n",
    "# df = df.T\n",
    "# # Export the DataFrame to an Excel file\n",
    "# df.to_excel('C:/Users/marcopdsousa/Desktop/Dataframes/mingwp80resource_emission.xlsx', index=True)"
   ]
  },
  {
   "cell_type": "code",
   "execution_count": null,
   "metadata": {},
   "outputs": [],
   "source": [
    "results_gwp_80.output['objective']"
   ]
  },
  {
   "cell_type": "code",
   "execution_count": null,
   "metadata": {},
   "outputs": [],
   "source": [
    "results_gwp_80.output['global_warming_potential_location']"
   ]
  },
  {
   "cell_type": "code",
   "execution_count": null,
   "metadata": {},
   "outputs": [],
   "source": [
    "milp_gwp_90 = formulate(scenario=scenario, constraints={Constraints.COST, Constraints.INVENTORY, Constraints.PRODUCTION,\n",
    "                     Constraints.RESOURCE_BALANCE, Constraints.NETWORK, Constraints.DEMAND, Constraints.EMISSION}, objective=Objective.COST, demand_sign = 'eq')\n",
    "\n",
    "from energiapy.model.constraints.emission import constraint_global_warming_potential_network_reduction\n",
    "constraint_global_warming_potential_network_reduction(instance= milp_gwp_90, network_scale_level = 0, gwp_reduction_pct = 90, gwp = results_cost.output['global_warming_potential_network'][0])"
   ]
  },
  {
   "cell_type": "code",
   "execution_count": null,
   "metadata": {},
   "outputs": [],
   "source": [
    "from pyomo.environ import ConstraintList\n",
    "\n",
    "ramping_limit = 3\n",
    "\n",
    "milp_gwp_90.cons1 = ConstraintList()\n",
    "for i in scales.scale_iter(1):\n",
    "    if i != (0,0):\n",
    "        milp_gwp_90.cons1.add(expr = milp_gwp_90.P['HO', 'PEM', *i] - milp_gwp_90.P['HO', 'PEM', *scales.scale_iter(2)[scales.scale_iter(1).index(i) - 1]] <= ramping_limit)\n",
    "\n",
    "milp_gwp_90.cons2 = ConstraintList()\n",
    "for i in scales.scale_iter(1):\n",
    "    if i != (0,0):\n",
    "        milp_gwp_90.cons2.add(expr = milp_gwp_90.P['HO', 'SMR', *i] - milp_gwp_90.P['HO', 'SMR', *scales.scale_iter(2)[scales.scale_iter(1).index(i) - 1]] <= ramping_limit)\n",
    "\n",
    "milp_gwp_90.cons3 = ConstraintList()\n",
    "for i in scales.scale_iter(1):\n",
    "    if i != (0,0):\n",
    "        milp_gwp_90.cons3.add(expr = milp_gwp_90.P['HO', 'SMRCCS', *i] - milp_gwp_90.P['HO', 'SMRCCS', *scales.scale_iter(2)[scales.scale_iter(1).index(i) - 1]] <= ramping_limit)\n",
    "\n",
    "milp_gwp_90.cons4 = ConstraintList()\n",
    "for i in scales.scale_iter(2):\n",
    "    milp_gwp_90.cons4.add(expr = milp_gwp_90.P['HO', 'SMR', *i] >= 5)"
   ]
  },
  {
   "cell_type": "code",
   "execution_count": null,
   "metadata": {},
   "outputs": [],
   "source": [
    "results_gwp_90 = solve(scenario=scenario, instance=milp_gwp_90,\n",
    "                     solver='gurobi', name=f\"res_gwp_90\", print_solversteps=True, saveformat = '.pkl')"
   ]
  },
  {
   "cell_type": "code",
   "execution_count": null,
   "metadata": {},
   "outputs": [],
   "source": [
    "# data = results_gwp_90.output['P']\n",
    "# df = pd.DataFrame(data,index=[0])\n",
    "# df = df.T\n",
    "# # Export the DataFrame to an Excel file\n",
    "# df.to_excel('C:/Users/marcopdsousa/Desktop/Dataframes/mingwpprod90.xlsx', index=True)"
   ]
  },
  {
   "cell_type": "code",
   "execution_count": null,
   "metadata": {},
   "outputs": [],
   "source": [
    "# data = results_gwp_90.output['global_warming_potential_resource']\n",
    "# df = pd.DataFrame(data,index=[0])\n",
    "# df = df.T\n",
    "# # Export the DataFrame to an Excel file\n",
    "# df.to_excel('C:/Users/marcopdsousa/Desktop/Dataframes/mingwp90resource_emission.xlsx', index=True)"
   ]
  },
  {
   "cell_type": "code",
   "execution_count": null,
   "metadata": {},
   "outputs": [],
   "source": [
    "results_gwp_90.output['objective']"
   ]
  },
  {
   "cell_type": "code",
   "execution_count": null,
   "metadata": {},
   "outputs": [],
   "source": [
    "results_gwp_90.output['global_warming_potential_location']"
   ]
  },
  {
   "cell_type": "code",
   "execution_count": null,
   "metadata": {},
   "outputs": [],
   "source": [
    "results_gwp_90.output['P']"
   ]
  },
  {
   "cell_type": "code",
   "execution_count": null,
   "metadata": {},
   "outputs": [],
   "source": [
    "milp_gwp_92 = formulate(scenario=scenario, constraints={Constraints.COST, Constraints.INVENTORY, Constraints.PRODUCTION,\n",
    "                     Constraints.RESOURCE_BALANCE, Constraints.NETWORK, Constraints.DEMAND, Constraints.EMISSION}, objective=Objective.COST, demand_sign = 'eq')\n",
    "\n",
    "from energiapy.model.constraints.emission import constraint_global_warming_potential_network_reduction\n",
    "constraint_global_warming_potential_network_reduction(instance= milp_gwp_92, network_scale_level = 0, gwp_reduction_pct = 92, gwp = results_cost.output['global_warming_potential_network'][0])"
   ]
  },
  {
   "cell_type": "code",
   "execution_count": null,
   "metadata": {},
   "outputs": [],
   "source": [
    "from pyomo.environ import ConstraintList\n",
    "\n",
    "ramping_limit = 3\n",
    "\n",
    "milp_gwp_92.cons1 = ConstraintList()\n",
    "for i in scales.scale_iter(1):\n",
    "    if i != (0,0):\n",
    "        milp_gwp_92.cons1.add(expr = milp_gwp_92.P['HO', 'PEM', *i] - milp_gwp_92.P['HO', 'PEM', *scales.scale_iter(2)[scales.scale_iter(1).index(i) - 1]] <= ramping_limit)\n",
    "\n",
    "milp_gwp_92.cons2 = ConstraintList()\n",
    "for i in scales.scale_iter(1):\n",
    "    if i != (0,0):\n",
    "        milp_gwp_92.cons2.add(expr = milp_gwp_92.P['HO', 'SMR', *i] - milp_gwp_92.P['HO', 'SMR', *scales.scale_iter(2)[scales.scale_iter(1).index(i) - 1]] <= ramping_limit)\n",
    "\n",
    "milp_gwp_92.cons3 = ConstraintList()\n",
    "for i in scales.scale_iter(1):\n",
    "    if i != (0,0):\n",
    "        milp_gwp_92.cons3.add(expr = milp_gwp_92.P['HO', 'SMRCCS', *i] - milp_gwp_92.P['HO', 'SMRCCS', *scales.scale_iter(2)[scales.scale_iter(1).index(i) - 1]] <= ramping_limit)\n",
    "\n",
    "milp_gwp_92.cons4 = ConstraintList()\n",
    "for i in scales.scale_iter(2):\n",
    "    milp_gwp_92.cons4.add(expr = milp_gwp_92.P['HO', 'SMR', *i] >= 5)"
   ]
  },
  {
   "cell_type": "code",
   "execution_count": null,
   "metadata": {},
   "outputs": [],
   "source": [
    "results_gwp_92 = solve(scenario=scenario, instance=milp_gwp_92,\n",
    "                     solver='gurobi', name=f\"res_gwp_92\", print_solversteps=True, saveformat = '.pkl')"
   ]
  },
  {
   "cell_type": "code",
   "execution_count": null,
   "metadata": {},
   "outputs": [],
   "source": [
    "results_gwp_92.output['objective']"
   ]
  },
  {
   "cell_type": "code",
   "execution_count": null,
   "metadata": {},
   "outputs": [],
   "source": [
    "results_gwp_92.output['global_warming_potential_location']"
   ]
  },
  {
   "cell_type": "code",
   "execution_count": null,
   "metadata": {},
   "outputs": [],
   "source": [
    "results_gwp_92.output['P']"
   ]
  },
  {
   "cell_type": "code",
   "execution_count": null,
   "metadata": {},
   "outputs": [],
   "source": [
    "# data = results_gwp_92.output['P']\n",
    "# df = pd.DataFrame(data,index=[0])\n",
    "# df = df.T\n",
    "# # Export the DataFrame to an Excel file\n",
    "# df.to_excel('C:/Users/marcopdsousa/Desktop/Dataframes/mingwpprod92.xlsx', index=True)"
   ]
  }
 ],
 "metadata": {
  "kernelspec": {
   "display_name": "Python 3.10.5 ('ki': venv)",
   "language": "python",
   "name": "python3"
  },
  "language_info": {
   "codemirror_mode": {
    "name": "ipython",
    "version": 3
   },
   "file_extension": ".py",
   "mimetype": "text/x-python",
   "name": "python",
   "nbconvert_exporter": "python",
   "pygments_lexer": "ipython3",
   "version": "3.11.8"
  },
  "orig_nbformat": 4,
  "vscode": {
   "interpreter": {
    "hash": "a4a97498e3c1bfef05f70a75d4fcafcb7b5c9c4ed86429a4e7bee46eaa890f24"
   }
  }
 },
 "nbformat": 4,
 "nbformat_minor": 2
}
