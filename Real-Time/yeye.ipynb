{
 "cells": [
  {
   "cell_type": "code",
   "execution_count": 1,
   "metadata": {},
   "outputs": [],
   "source": [
    "import numpy"
   ]
  },
  {
   "cell_type": "code",
   "execution_count": 2,
   "metadata": {},
   "outputs": [],
   "source": [
    "import scipy"
   ]
  },
  {
   "cell_type": "code",
   "execution_count": 18,
   "metadata": {},
   "outputs": [
    {
     "name": "stdout",
     "output_type": "stream",
     "text": [
      "0.09040899428146307\n"
     ]
    }
   ],
   "source": [
    "\n",
    "# simple case study - numerically integrate an integral\n",
    "a = 10\n",
    "samples = numpy.random.rand(10000)\n",
    "f = lambda x: x**a\n",
    "# compute the function at the samples\n",
    "f_x = [f(sample) for sample in samples]\n",
    "average = sum(f_x)/len(samples)\n",
    "\n",
    "print(average)\n"
   ]
  },
  {
   "cell_type": "code",
   "execution_count": 44,
   "metadata": {},
   "outputs": [
    {
     "data": {
      "text/plain": [
       "5.0"
      ]
     },
     "execution_count": 44,
     "metadata": {},
     "output_type": "execute_result"
    }
   ],
   "source": [
    "import gurobipy as gp\n",
    "from gurobipy import GRB\n",
    "\n",
    "a = 5\n",
    "m = gp.Model()\n",
    "m.Params.Outputflag = 0\n",
    "x = m.addVar(lb = a, vtype = GRB.CONTINUOUS)\n",
    "\n",
    "m.setObjective(x, sense = GRB.MINIMIZE)\n",
    "m.optimize()\n",
    "x.x"
   ]
  },
  {
   "cell_type": "code",
   "execution_count": null,
   "metadata": {},
   "outputs": [],
   "source": [
    "# What happens if we want to solve this for a bunch of differnt values of a?"
   ]
  },
  {
   "cell_type": "code",
   "execution_count": 19,
   "metadata": {},
   "outputs": [],
   "source": [
    "def my_case_study(case_study_arg):\n",
    "    a = case_study_arg\n",
    "    m = gp.Model()\n",
    "    m.Params.Outputflag = 0\n",
    "    x = m.addVar(lb = a, vtype = GRB.CONTINUOUS)\n",
    "\n",
    "    m.setObjective(x, sense = GRB.MINIMIZE)\n",
    "    m.optimize()\n",
    "    return x.x"
   ]
  },
  {
   "cell_type": "code",
   "execution_count": 40,
   "metadata": {},
   "outputs": [],
   "source": [
    "diff_as = numpy.linspace(0,10,11)\n",
    "results_dict = list()\n",
    "\n",
    "\n",
    "for a_i in diff_as:\n",
    "    results_dict.append(my_case_study(a_i))"
   ]
  },
  {
   "cell_type": "code",
   "execution_count": 41,
   "metadata": {},
   "outputs": [
    {
     "data": {
      "text/plain": [
       "[1.0,\n",
       " 0.5022676555099804,\n",
       " 0.32755899420360357,\n",
       " 0.2516298896777863,\n",
       " 0.19773895409593745,\n",
       " 0.16900931969769337,\n",
       " 0.14617107920414177,\n",
       " 0.1271677620201659,\n",
       " 0.1105788792399291,\n",
       " 0.10191256418864657,\n",
       " 0.0910249787411004]"
      ]
     },
     "execution_count": 41,
     "metadata": {},
     "output_type": "execute_result"
    }
   ],
   "source": [
    "results_dict"
   ]
  },
  {
   "cell_type": "code",
   "execution_count": null,
   "metadata": {},
   "outputs": [],
   "source": []
  }
 ],
 "metadata": {
  "kernelspec": {
   "display_name": "NRG",
   "language": "python",
   "name": "python3"
  },
  "language_info": {
   "codemirror_mode": {
    "name": "ipython",
    "version": 3
   },
   "file_extension": ".py",
   "mimetype": "text/x-python",
   "name": "python",
   "nbconvert_exporter": "python",
   "pygments_lexer": "ipython3",
   "version": "3.11.8"
  }
 },
 "nbformat": 4,
 "nbformat_minor": 2
}
