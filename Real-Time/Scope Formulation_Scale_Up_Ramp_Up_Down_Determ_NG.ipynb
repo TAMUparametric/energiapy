{
 "cells": [
  {
   "attachments": {},
   "cell_type": "markdown",
   "metadata": {},
   "source": [
    "# Real-time carbon accounting and material transition for hydrogen systems"
   ]
  },
  {
   "attachments": {},
   "cell_type": "markdown",
   "metadata": {},
   "source": [
    "__author__ = \"Marco De Sousa\"\n",
    "__copyright__ = \"Copyright 2023, Multi-parametric Optimization & Control Lab\"\n",
    "__credits__ = [\"Marco De Sousa\", \"Rahul Kakodkar\", \"Efstratios N. Pistikopoulos\"]\n",
    "__license__ = \"MIT\"\n",
    "__version__ = \"1.1.0\"\n",
    "__maintainer__ = \"Marco De Sousa\"\n",
    "__email__ = \"marcopdsousa@tamu.edu\"\n",
    "__status__ = \"Production\"\n"
   ]
  },
  {
   "attachments": {},
   "cell_type": "markdown",
   "metadata": {},
   "source": [
    "## Problem Statement"
   ]
  },
  {
   "attachments": {},
   "cell_type": "markdown",
   "metadata": {},
   "source": [
    "The following case study considers three different type of solar photovoltaics, namely Monocrystalline (PV_Mo), Polycrystalline (PV_Po), and Cadmium Telluride (PV_Cd) and  Lithium-ion batteries made of either rock-based lithium (LiI_Ro) or brine-based lithium (LiI_Br).\n",
    "\n",
    "The goal is to meet a fixed demand of hydrogen on a daily scale while optimizing the production process by using forecasting techniques.\n",
    "\n",
    "It is important to note that three different hydrogen pathways can be utilized each with their respective emissions.\n",
    "\n",
    "Hypothesis: By using real-time carbon accounting, decisions and changes can be made in a more dynamic nature.\n",
    "\n",
    "Users are advised caution in terms of assigning the emissions at the appropriate levels and avoiding double account. For example, if providing the global warming potentials (GWP) for each individual material to make up a process, the GWP for processes should only consider the values for construction. Moreover, the direct emissions are considered through the resource balance constraint."
   ]
  },
  {
   "attachments": {},
   "cell_type": "markdown",
   "metadata": {},
   "source": [
    "## Nomenclature"
   ]
  },
  {
   "attachments": {},
   "cell_type": "markdown",
   "metadata": {},
   "source": [
    "\n",
    "\n",
    "*Sets*\n",
    "\n",
    "\n",
    "$\\mathcal{R}$ - set of all resources r\n",
    "\n",
    "$\\mathcal{P}$ - set of all processes p\n",
    "\n",
    "$\\mathcal{T}$ - set of temporal periods t\n",
    "\n",
    "$\\mathcal{B}$ - set of transport modes b\n",
    "\n",
    "$\\mathcal{L}$ - set of locations l\n",
    "\n",
    "$\\mathcal{M}$ - set of materials m\n",
    "\n",
    "*Subsets*\n",
    "\n",
    "\n",
    "$\\mathcal{R}^{storage}$ - set of resources that can be stored\n",
    "\n",
    "$\\mathcal{R}^{sell}$ - set of resources that can be discharged\n",
    "\n",
    "$\\mathcal{R}^{demand}$ - set of resources that meet  demand\n",
    "\n",
    "$\\mathcal{R}^{cons}$ - set of resources that can be consumed\n",
    "\n",
    "$\\mathcal{R}^{trans}$ - set of resources that can be transported\n",
    "\n",
    "$\\mathcal{P}^{uncertain}$ - set of processes with uncertain capacity\n",
    "\n",
    "$\\mathcal{T}^{net}$ - set of temporal periods t for network level decision making\n",
    "\n",
    "$\\mathcal{T}^{sch}$ - set of temporal periods t for schedule level decision making\n",
    "\n",
    "*Continuous Variables*\n",
    "\n",
    "\n",
    "$P_{l,p,t}$ - production level of p $\\in$  $\\mathcal{P}$ in time period t $\\in$ $\\mathcal{T}^{sch}$  \n",
    "\n",
    "$C_{l,r,t}$ - consumption of r $\\in$ in $\\mathcal{R}^{cons}$ time period t $\\in$ $\\mathcal{T}^{sch}$ \n",
    "\n",
    "$S_{l,r,t}$ - discharge of r $\\in$ in $\\mathcal{R}^{demand}$ time period t $\\in$ $\\mathcal{T}^{sch}$ \n",
    "\n",
    "$Inv_{l,r,t}$ - inventory level of r $\\in$ $\\mathcal{R}^{storage}$  in time period t $\\in$ $\\mathcal{T}^{sch}$\n",
    "\n",
    "$Cap^S_{l,r,t}$ - installed inventory capacity for resource r $\\in$  $\\mathcal{R}^{storage}$ in time period t $\\in$ $\\mathcal{T}^{net}$\n",
    "\n",
    "$Cap^P_{l,p,t}$ - installed production capacity for process p $\\in$ $\\mathcal{P}$ in time period t $\\in$ $\\mathcal{T}^{net}$\n",
    "\n",
    "$Mat^P_{l,p,m,t}$ - material m $\\in$ $\\mathcal{M}$ used by process p $\\in$ $\\mathcal{P}$ in time period t $\\in$ $\\mathcal{T}^{net}$\n",
    "\n",
    "$Em^{p/r/m}_{l,p/r/m,t}$ - emission from process/resource/material in time t $\\in$ $\\mathcal{T}^{net}$\n",
    "\n",
    "\n",
    "*Binary Variables*\n",
    "\n",
    "$X^P_{l,p,t}$ - network binary for production process p $\\in$ $\\mathcal{P}$\n",
    "\n",
    "$X^S_{l,r,t}$ - network binary for inventory of resource r $\\in$  $\\mathcal{R}^{storage}$ \n",
    "\n",
    "*Parameters*\n",
    "\n",
    "$Cap^{P-max}_{l,p,t}$ - maximum production capacity of process p $\\in$ $\\mathcal{P}$ in time t $\\in$ $\\mathcal{T}^{net}$\n",
    "\n",
    "$Cap^{S-max}_{l,r,t}$ - maximum inventory capacity for process r $\\in$ $\\mathcal{R}^{storage}$ in time t $\\in$ $\\mathcal{T}^{net}$\n",
    "\n",
    "$Capex_{l,p,t}$ - capital expenditure for process p $\\in$ $\\mathcal{P}$ in time t $\\in$ $\\mathcal{T}^{net}$\n",
    "\n",
    "$Vopex_{l,p,t}$ - variable operational expenditure for process p $\\in$ $\\mathcal{P}$ in time t $\\in$ $\\mathcal{T}^{sch}$\n",
    "\n",
    "$Price_{l,r,t}$ - purchase price for resource r $\\in$ $\\mathcal{R}^{cons}$ in time t $\\in$ $\\mathcal{T}^{sch}$\n",
    "\n",
    "$C^{max}_{l,r,t}$ - maximum consumption availability for resource r $\\in$ $\\mathcal{R}^{cons}$ in time t $\\in$ $\\mathcal{T}^{sch}$\n",
    "\n",
    "$D_{l,r,t}$ - demand for resource r $in$ $\\mathcal{R}^{sell}$ in time t $\\in$ $\\mathcal{T}^{sch}$\n",
    "\n",
    "$\\alpha$ - annualization factor\n",
    "\n",
    "$Mat^{cons}_{p,m}$ - material m $\\in$ $\\mathcal{M}$ consumed by process p $\\in$ $\\mathcal{P}$\n",
    "\n",
    "$GWP^{p/r/m}_{l,p/r/m,t}$ - global warming indicators for process/resource/material in time t $\\in$ $\\mathcal{T}^{net}$\n"
   ]
  },
  {
   "attachments": {},
   "cell_type": "markdown",
   "metadata": {},
   "source": [
    "## MILP Formulation"
   ]
  },
  {
   "attachments": {},
   "cell_type": "markdown",
   "metadata": {},
   "source": [
    "Given is a mulit-scale modeling and optimization MILP framework for the simultaneous design and schedule planning of a single location energy system \n",
    "\n",
    "\\begin{equation}\n",
    "min \\sum_{l \\in \\mathcal{L}} \\Big(\\sum_{t \\in \\mathcal{T}^{net}} \\sum_{p \\in \\mathcal{P}} (\\alpha \\times Capex_{l,p,t} + Fopex_{l,p,t}) \\times Cap^P_{l,p,t} +  \\sum_{t \\in \\mathcal{T}^{sch}} \\sum_{r \\in \\mathcal{R}}  Vopex_{l,r,t} \\times P_{l,r,t} \n",
    "\\end{equation}\n",
    "\n",
    "\\begin{equation*}\n",
    "+ \\sum_{t \\in \\mathcal{T}^{sch}} \\sum_{r \\in \\mathcal{R}^{cons}} C_{l,r,t} \\times Price_{l,r,t} \\Big)\n",
    "\\end{equation*}\n",
    "\n",
    "\\begin{equation}\n",
    "Cap^S_{l,r,t} \\leq Cap^{S-max}_{l,r,t} \\times X^S_{l,r,t} \\hspace{1cm} \\forall r \\in \\mathcal{R}^{storage}, t \\in \\mathcal{T}^{net}\n",
    "\\end{equation}\n",
    "\n",
    "\\begin{equation}\n",
    "Cap^P_{l,p,t} \\leq Cap^{P-max}_{l,p,t} \\times X^P_{l,p,t}  \\hspace{1cm} \\forall p \\in \\mathcal{P}, t \\in \\mathcal{T}^{net}, l \\in \\mathcal{L}\n",
    "\\end{equation} \n",
    "\n",
    "\\begin{equation}\n",
    "P_{l,p,t} \\leq Cap^{P}_{l,p,t}  \\hspace{1cm} \\forall p \\in \\mathcal{P}, t \\in \\mathcal{T}^{sch}\n",
    "\\end{equation} \n",
    "\n",
    "\\begin{equation}\n",
    "Inv_{l,r,t} \\leq Cap^{S}_{l,r,t}  \\hspace{1cm} \\forall r \\in \\mathcal{R}^{storage}, t \\in \\mathcal{T}^{sch}\n",
    "\\end{equation} \n",
    "\n",
    "\n",
    "\\begin{equation}\n",
    "- S_{l,r,t} \\leq - D_{l,r,t}  \\hspace{1cm} \\forall r \\in \\mathcal{R}, t \\in \\mathcal{T}^{sch}\n",
    "\\end{equation}\n",
    "\n",
    "\\begin{equation}\n",
    "C_{l,r,t} \\leq C^{max}_{l,r,t} \\hspace{1cm} \\forall r \\in \\mathcal{R}, t \\in \\mathcal{T}^{sch}\n",
    "\\end{equation}\n",
    "\n",
    "\\begin{equation}\n",
    "\\sum_{p \\in \\mathcal{P}} P_{l,p,t} \\times \\eta(p,r) + C_{l,r,t} +  Inv_{l,r,t-1}=  Inv_{l,r,t} + S_{l,r,t}  \n",
    "\\end{equation}\n",
    "\n",
    "\\begin{equation*}\n",
    "\\forall r \\in \\mathcal{R}^{cons}, t \\in \\mathcal{T}^{sch}, l \\in \\mathcal{L}\n",
    "\\end{equation*}\n",
    "\n",
    "\\begin{equation}\n",
    "Mat_{l,p,m,t} = Mat^{cons}_{p,m} \\times Cap^P_{l,p,t} \\hspace{1cm} \\forall m \\in \\mathcal{M}, p \\in \\mathcal{P}, t \\in \\mathcal{T}^{net}\n",
    "\\end{equation}\n",
    "\n",
    "\\begin{equation}\n",
    "Em^{r}_{l,r,t} = GWP^{r}_{l,r,t} \\times C_{l,r,t} \\hspace{1cm} \\forall r \\in \\mathcal{R}, t \\in \\mathcal{T}^{sch}\n",
    "\\end{equation}\n",
    "\n",
    "\\begin{equation}\n",
    "Em^{m}_{l,m,t} = GWP^{m}_{l,m,t} \\times \\sum_{p \\in \\mathcal{P}} Mat_{l,p,m,t} \\hspace{1cm} \\forall p \\in \\mathcal{P}, t \\in \\mathcal{T}^{net}\n",
    "\\end{equation}\n",
    "\n",
    "\\begin{equation}\n",
    "Em^{p}_{l,p,t} = GWP^{p}_{l,p,t} \\times Cap_{l,p,t} \\hspace{1cm} \\forall p \\in \\mathcal{P}, t \\in \\mathcal{T}^{net}\n",
    "\\end{equation}\n",
    "\n",
    "\\begin{equation}\n",
    "S_{l,r,t}, C_{l,r,t}, Inv_{l,r,t}, P_{l,p,t}, Cap^P_{l,p,t}, Cap^S_{l,r,t}, Mat_{l,p,m,t}, Em^{p/r/m}_{l,p/r/m,t} \\in R_{\\geq 0}\n",
    "\\end{equation}\n",
    "\n"
   ]
  },
  {
   "attachments": {},
   "cell_type": "markdown",
   "metadata": {},
   "source": [
    "## Import Modules"
   ]
  },
  {
   "cell_type": "code",
   "execution_count": 1,
   "metadata": {},
   "outputs": [],
   "source": [
    "import sys\n",
    "sys.path.append('../src')"
   ]
  },
  {
   "cell_type": "code",
   "execution_count": 2,
   "metadata": {},
   "outputs": [],
   "source": [
    "import pandas as pd\n",
    "import numpy\n",
    "from energiapy.components.temporal_scale import TemporalScale\n",
    "from energiapy.components.resource import Resource, VaryingResource, Scope\n",
    "from energiapy.components.process import Process, VaryingProcess\n",
    "from energiapy.components.material import Material\n",
    "from energiapy.components.location import Location\n",
    "from energiapy.components.network import Network\n",
    "from energiapy.components.scenario import Scenario\n",
    "from energiapy.components.transport import Transport\n",
    "from energiapy.model.formulate import formulate, Constraints, Objective\n",
    "from energiapy.utils.nsrdb_utils import fetch_nsrdb_data\n",
    "from energiapy.plot import plot_results, plot_scenario\n",
    "from energiapy.plot.plot_results import CostY, CostX\n",
    "from energiapy.model.solve import solve\n",
    "from itertools import product\n",
    "from energiapy.components.result import Result\n",
    "from itertools import product\n",
    "from matplotlib import rc\n",
    "import matplotlib.pyplot as plt\n",
    "from energiapy.model.solve import solve\n",
    "from energiapy.plot.plot_results import CostY, CostX\n",
    "from energiapy.components.location import Location\n",
    "from energiapy.plot import plot_results, plot_scenario\n",
    "from energiapy.utils.nsrdb_utils import fetch_nsrdb_data\n",
    "from energiapy.model.formulate import formulate, Constraints, Objective\n",
    "from energiapy.model.bounds import CapacityBounds\n",
    "from energiapy.utils.data_utils import get_data, make_henry_price_df, remove_outliers, load_results\n",
    "from energiapy.conversion.photovoltaic import solar_power_output\n",
    "from energiapy.conversion.windmill import wind_power_output\n",
    "from energiapy.model.constraints.integer_cuts import constraint_block_integer_cut, constraint_block_integer_cut_min"
   ]
  },
  {
   "attachments": {},
   "cell_type": "markdown",
   "metadata": {},
   "source": [
    "## Data Import"
   ]
  },
  {
   "cell_type": "code",
   "execution_count": 3,
   "metadata": {},
   "outputs": [],
   "source": [
    "horizon = 1"
   ]
  },
  {
   "attachments": {},
   "cell_type": "markdown",
   "metadata": {},
   "source": [
    "The following data is needed for the model\n",
    "\n",
    "- Daily demands of hydrogen.\n",
    "- The capacity factor of renewable energy sources and traditional grid power.\n"
   ]
  },
  {
   "attachments": {},
   "cell_type": "markdown",
   "metadata": {},
   "source": [
    "**Declare temporal scale**\n",
    "\n",
    "The variabilities of energy systems are best captured over a discretized spatio-temporal scale. In energiapy, the first declaration is the temporal scale. \n",
    "\n",
    "For e.g.: Here we declare three temporal scales at different levels from right to left. The interpretation of these scales is merely symentic. Scales can be declared as the problem demands.\n",
    "- 0, annual, with 1 discretization\n",
    "- 1, daily with 365 discretization\n",
    "- 2, hourly with 24 discretization\n",
    "\n",
    "In essence, we are creating a temporal scale of 8760 points.\n",
    "\n"
   ]
  },
  {
   "cell_type": "code",
   "execution_count": 4,
   "metadata": {},
   "outputs": [],
   "source": [
    "scales = TemporalScale(discretization_list=[1, 24])"
   ]
  },
  {
   "attachments": {},
   "cell_type": "markdown",
   "metadata": {},
   "source": [
    "## Declare resources"
   ]
  },
  {
   "attachments": {},
   "cell_type": "markdown",
   "metadata": {},
   "source": [
    "Resources can be consumed, produced, stored, discharged (or sold).\n",
    "\n",
    "Power demand follows a varying deterministic demand"
   ]
  },
  {
   "cell_type": "code",
   "execution_count": 5,
   "metadata": {},
   "outputs": [],
   "source": [
    "bigM = 10**6\n",
    "smallM = 0.001"
   ]
  },
  {
   "cell_type": "markdown",
   "metadata": {},
   "source": [
    "Hourly electricity prices"
   ]
  },
  {
   "cell_type": "code",
   "execution_count": 6,
   "metadata": {},
   "outputs": [],
   "source": [
    "#Electricity price is hourly\n",
    "#Electricity price is hourly\n",
    "elec_price_df = pd.read_csv('RT 06 JUNE.csv')\n",
    "# elec_price_df = elec_price_df[elec_price_df['BusName'] == 'FORMOSA_G8']\n",
    "elec_price_df = elec_price_df[['DAM Houston']].reset_index(drop = True)\n",
    "elec_price_df = elec_price_df[:24]"
   ]
  },
  {
   "cell_type": "code",
   "execution_count": 7,
   "metadata": {},
   "outputs": [
    {
     "data": {
      "text/html": [
       "<div>\n",
       "<style scoped>\n",
       "    .dataframe tbody tr th:only-of-type {\n",
       "        vertical-align: middle;\n",
       "    }\n",
       "\n",
       "    .dataframe tbody tr th {\n",
       "        vertical-align: top;\n",
       "    }\n",
       "\n",
       "    .dataframe thead th {\n",
       "        text-align: right;\n",
       "    }\n",
       "</style>\n",
       "<table border=\"1\" class=\"dataframe\">\n",
       "  <thead>\n",
       "    <tr style=\"text-align: right;\">\n",
       "      <th></th>\n",
       "      <th>DAM Houston</th>\n",
       "    </tr>\n",
       "  </thead>\n",
       "  <tbody>\n",
       "    <tr>\n",
       "      <th>0</th>\n",
       "      <td>23.72</td>\n",
       "    </tr>\n",
       "    <tr>\n",
       "      <th>1</th>\n",
       "      <td>20.05</td>\n",
       "    </tr>\n",
       "    <tr>\n",
       "      <th>2</th>\n",
       "      <td>17.42</td>\n",
       "    </tr>\n",
       "    <tr>\n",
       "      <th>3</th>\n",
       "      <td>16.38</td>\n",
       "    </tr>\n",
       "    <tr>\n",
       "      <th>4</th>\n",
       "      <td>15.70</td>\n",
       "    </tr>\n",
       "    <tr>\n",
       "      <th>5</th>\n",
       "      <td>15.23</td>\n",
       "    </tr>\n",
       "    <tr>\n",
       "      <th>6</th>\n",
       "      <td>16.88</td>\n",
       "    </tr>\n",
       "    <tr>\n",
       "      <th>7</th>\n",
       "      <td>20.17</td>\n",
       "    </tr>\n",
       "    <tr>\n",
       "      <th>8</th>\n",
       "      <td>18.50</td>\n",
       "    </tr>\n",
       "    <tr>\n",
       "      <th>9</th>\n",
       "      <td>16.11</td>\n",
       "    </tr>\n",
       "    <tr>\n",
       "      <th>10</th>\n",
       "      <td>15.77</td>\n",
       "    </tr>\n",
       "    <tr>\n",
       "      <th>11</th>\n",
       "      <td>18.50</td>\n",
       "    </tr>\n",
       "    <tr>\n",
       "      <th>12</th>\n",
       "      <td>23.44</td>\n",
       "    </tr>\n",
       "    <tr>\n",
       "      <th>13</th>\n",
       "      <td>37.15</td>\n",
       "    </tr>\n",
       "    <tr>\n",
       "      <th>14</th>\n",
       "      <td>56.36</td>\n",
       "    </tr>\n",
       "    <tr>\n",
       "      <th>15</th>\n",
       "      <td>67.84</td>\n",
       "    </tr>\n",
       "    <tr>\n",
       "      <th>16</th>\n",
       "      <td>95.82</td>\n",
       "    </tr>\n",
       "    <tr>\n",
       "      <th>17</th>\n",
       "      <td>119.33</td>\n",
       "    </tr>\n",
       "    <tr>\n",
       "      <th>18</th>\n",
       "      <td>119.02</td>\n",
       "    </tr>\n",
       "    <tr>\n",
       "      <th>19</th>\n",
       "      <td>96.00</td>\n",
       "    </tr>\n",
       "    <tr>\n",
       "      <th>20</th>\n",
       "      <td>187.62</td>\n",
       "    </tr>\n",
       "    <tr>\n",
       "      <th>21</th>\n",
       "      <td>119.32</td>\n",
       "    </tr>\n",
       "    <tr>\n",
       "      <th>22</th>\n",
       "      <td>37.44</td>\n",
       "    </tr>\n",
       "    <tr>\n",
       "      <th>23</th>\n",
       "      <td>25.19</td>\n",
       "    </tr>\n",
       "  </tbody>\n",
       "</table>\n",
       "</div>"
      ],
      "text/plain": [
       "    DAM Houston\n",
       "0         23.72\n",
       "1         20.05\n",
       "2         17.42\n",
       "3         16.38\n",
       "4         15.70\n",
       "5         15.23\n",
       "6         16.88\n",
       "7         20.17\n",
       "8         18.50\n",
       "9         16.11\n",
       "10        15.77\n",
       "11        18.50\n",
       "12        23.44\n",
       "13        37.15\n",
       "14        56.36\n",
       "15        67.84\n",
       "16        95.82\n",
       "17       119.33\n",
       "18       119.02\n",
       "19        96.00\n",
       "20       187.62\n",
       "21       119.32\n",
       "22        37.44\n",
       "23        25.19"
      ]
     },
     "execution_count": 7,
     "metadata": {},
     "output_type": "execute_result"
    }
   ],
   "source": [
    "elec_price_df"
   ]
  },
  {
   "cell_type": "markdown",
   "metadata": {},
   "source": [
    "Hourly Natural Gas Prices"
   ]
  },
  {
   "cell_type": "code",
   "execution_count": 8,
   "metadata": {},
   "outputs": [
    {
     "data": {
      "text/html": [
       "<div>\n",
       "<style scoped>\n",
       "    .dataframe tbody tr th:only-of-type {\n",
       "        vertical-align: middle;\n",
       "    }\n",
       "\n",
       "    .dataframe tbody tr th {\n",
       "        vertical-align: top;\n",
       "    }\n",
       "\n",
       "    .dataframe thead th {\n",
       "        text-align: right;\n",
       "    }\n",
       "</style>\n",
       "<table border=\"1\" class=\"dataframe\">\n",
       "  <thead>\n",
       "    <tr style=\"text-align: right;\">\n",
       "      <th></th>\n",
       "      <th>NG_Price</th>\n",
       "    </tr>\n",
       "  </thead>\n",
       "  <tbody>\n",
       "    <tr>\n",
       "      <th>0</th>\n",
       "      <td>0.140173</td>\n",
       "    </tr>\n",
       "    <tr>\n",
       "      <th>1</th>\n",
       "      <td>0.140681</td>\n",
       "    </tr>\n",
       "    <tr>\n",
       "      <th>2</th>\n",
       "      <td>0.140173</td>\n",
       "    </tr>\n",
       "    <tr>\n",
       "      <th>3</th>\n",
       "      <td>0.140173</td>\n",
       "    </tr>\n",
       "    <tr>\n",
       "      <th>4</th>\n",
       "      <td>0.139665</td>\n",
       "    </tr>\n",
       "    <tr>\n",
       "      <th>5</th>\n",
       "      <td>0.138649</td>\n",
       "    </tr>\n",
       "    <tr>\n",
       "      <th>6</th>\n",
       "      <td>0.140681</td>\n",
       "    </tr>\n",
       "    <tr>\n",
       "      <th>7</th>\n",
       "      <td>0.140681</td>\n",
       "    </tr>\n",
       "    <tr>\n",
       "      <th>8</th>\n",
       "      <td>0.143220</td>\n",
       "    </tr>\n",
       "    <tr>\n",
       "      <th>9</th>\n",
       "      <td>0.143728</td>\n",
       "    </tr>\n",
       "    <tr>\n",
       "      <th>10</th>\n",
       "      <td>0.145251</td>\n",
       "    </tr>\n",
       "    <tr>\n",
       "      <th>11</th>\n",
       "      <td>0.141188</td>\n",
       "    </tr>\n",
       "    <tr>\n",
       "      <th>12</th>\n",
       "      <td>0.139157</td>\n",
       "    </tr>\n",
       "    <tr>\n",
       "      <th>13</th>\n",
       "      <td>0.140173</td>\n",
       "    </tr>\n",
       "    <tr>\n",
       "      <th>14</th>\n",
       "      <td>0.142204</td>\n",
       "    </tr>\n",
       "    <tr>\n",
       "      <th>15</th>\n",
       "      <td>0.144236</td>\n",
       "    </tr>\n",
       "    <tr>\n",
       "      <th>16</th>\n",
       "      <td>0.142712</td>\n",
       "    </tr>\n",
       "    <tr>\n",
       "      <th>17</th>\n",
       "      <td>0.142712</td>\n",
       "    </tr>\n",
       "    <tr>\n",
       "      <th>18</th>\n",
       "      <td>0.143220</td>\n",
       "    </tr>\n",
       "    <tr>\n",
       "      <th>19</th>\n",
       "      <td>0.143728</td>\n",
       "    </tr>\n",
       "    <tr>\n",
       "      <th>20</th>\n",
       "      <td>0.144236</td>\n",
       "    </tr>\n",
       "    <tr>\n",
       "      <th>21</th>\n",
       "      <td>0.144236</td>\n",
       "    </tr>\n",
       "    <tr>\n",
       "      <th>22</th>\n",
       "      <td>0.143728</td>\n",
       "    </tr>\n",
       "    <tr>\n",
       "      <th>23</th>\n",
       "      <td>0.143728</td>\n",
       "    </tr>\n",
       "  </tbody>\n",
       "</table>\n",
       "</div>"
      ],
      "text/plain": [
       "    NG_Price\n",
       "0   0.140173\n",
       "1   0.140681\n",
       "2   0.140173\n",
       "3   0.140173\n",
       "4   0.139665\n",
       "5   0.138649\n",
       "6   0.140681\n",
       "7   0.140681\n",
       "8   0.143220\n",
       "9   0.143728\n",
       "10  0.145251\n",
       "11  0.141188\n",
       "12  0.139157\n",
       "13  0.140173\n",
       "14  0.142204\n",
       "15  0.144236\n",
       "16  0.142712\n",
       "17  0.142712\n",
       "18  0.143220\n",
       "19  0.143728\n",
       "20  0.144236\n",
       "21  0.144236\n",
       "22  0.143728\n",
       "23  0.143728"
      ]
     },
     "execution_count": 8,
     "metadata": {},
     "output_type": "execute_result"
    }
   ],
   "source": [
    "#The natural gas price is calculated as the average between the high and low cost, also the unit used is $/kg of natural gas\n",
    "NG_price_df = pd.read_csv('RT 06 JUNE.csv')\n",
    "# NG_price_df = pd.DataFrame(NG_price_df['USD/kg'])[::-1].reset_index()\n",
    "NG_price_df = NG_price_df[['NG_Price']]\n",
    "NG_price_df = NG_price_df[:24]\n",
    "NG_price_df"
   ]
  },
  {
   "cell_type": "code",
   "execution_count": 9,
   "metadata": {},
   "outputs": [
    {
     "data": {
      "text/plain": [
       "0.0018878712011848717"
      ]
     },
     "execution_count": 9,
     "metadata": {},
     "output_type": "execute_result"
    }
   ],
   "source": [
    "numpy.std(list(NG_price_df['NG_Price']))"
   ]
  },
  {
   "cell_type": "code",
   "execution_count": 10,
   "metadata": {},
   "outputs": [
    {
     "data": {
      "text/html": [
       "<div>\n",
       "<style scoped>\n",
       "    .dataframe tbody tr th:only-of-type {\n",
       "        vertical-align: middle;\n",
       "    }\n",
       "\n",
       "    .dataframe tbody tr th {\n",
       "        vertical-align: top;\n",
       "    }\n",
       "\n",
       "    .dataframe thead th {\n",
       "        text-align: right;\n",
       "    }\n",
       "</style>\n",
       "<table border=\"1\" class=\"dataframe\">\n",
       "  <thead>\n",
       "    <tr style=\"text-align: right;\">\n",
       "      <th></th>\n",
       "      <th>GWP</th>\n",
       "    </tr>\n",
       "  </thead>\n",
       "  <tbody>\n",
       "    <tr>\n",
       "      <th>0</th>\n",
       "      <td>624.052</td>\n",
       "    </tr>\n",
       "    <tr>\n",
       "      <th>1</th>\n",
       "      <td>614.360</td>\n",
       "    </tr>\n",
       "    <tr>\n",
       "      <th>2</th>\n",
       "      <td>587.887</td>\n",
       "    </tr>\n",
       "    <tr>\n",
       "      <th>3</th>\n",
       "      <td>560.111</td>\n",
       "    </tr>\n",
       "    <tr>\n",
       "      <th>4</th>\n",
       "      <td>537.928</td>\n",
       "    </tr>\n",
       "    <tr>\n",
       "      <th>5</th>\n",
       "      <td>559.521</td>\n",
       "    </tr>\n",
       "    <tr>\n",
       "      <th>6</th>\n",
       "      <td>603.111</td>\n",
       "    </tr>\n",
       "    <tr>\n",
       "      <th>7</th>\n",
       "      <td>617.108</td>\n",
       "    </tr>\n",
       "    <tr>\n",
       "      <th>8</th>\n",
       "      <td>540.695</td>\n",
       "    </tr>\n",
       "    <tr>\n",
       "      <th>9</th>\n",
       "      <td>511.840</td>\n",
       "    </tr>\n",
       "    <tr>\n",
       "      <th>10</th>\n",
       "      <td>523.205</td>\n",
       "    </tr>\n",
       "    <tr>\n",
       "      <th>11</th>\n",
       "      <td>540.049</td>\n",
       "    </tr>\n",
       "    <tr>\n",
       "      <th>12</th>\n",
       "      <td>554.556</td>\n",
       "    </tr>\n",
       "    <tr>\n",
       "      <th>13</th>\n",
       "      <td>565.621</td>\n",
       "    </tr>\n",
       "    <tr>\n",
       "      <th>14</th>\n",
       "      <td>587.839</td>\n",
       "    </tr>\n",
       "    <tr>\n",
       "      <th>15</th>\n",
       "      <td>587.058</td>\n",
       "    </tr>\n",
       "    <tr>\n",
       "      <th>16</th>\n",
       "      <td>585.429</td>\n",
       "    </tr>\n",
       "    <tr>\n",
       "      <th>17</th>\n",
       "      <td>575.615</td>\n",
       "    </tr>\n",
       "    <tr>\n",
       "      <th>18</th>\n",
       "      <td>580.615</td>\n",
       "    </tr>\n",
       "    <tr>\n",
       "      <th>19</th>\n",
       "      <td>592.802</td>\n",
       "    </tr>\n",
       "    <tr>\n",
       "      <th>20</th>\n",
       "      <td>656.317</td>\n",
       "    </tr>\n",
       "    <tr>\n",
       "      <th>21</th>\n",
       "      <td>630.064</td>\n",
       "    </tr>\n",
       "    <tr>\n",
       "      <th>22</th>\n",
       "      <td>608.032</td>\n",
       "    </tr>\n",
       "    <tr>\n",
       "      <th>23</th>\n",
       "      <td>582.480</td>\n",
       "    </tr>\n",
       "  </tbody>\n",
       "</table>\n",
       "</div>"
      ],
      "text/plain": [
       "        GWP\n",
       "0   624.052\n",
       "1   614.360\n",
       "2   587.887\n",
       "3   560.111\n",
       "4   537.928\n",
       "5   559.521\n",
       "6   603.111\n",
       "7   617.108\n",
       "8   540.695\n",
       "9   511.840\n",
       "10  523.205\n",
       "11  540.049\n",
       "12  554.556\n",
       "13  565.621\n",
       "14  587.839\n",
       "15  587.058\n",
       "16  585.429\n",
       "17  575.615\n",
       "18  580.615\n",
       "19  592.802\n",
       "20  656.317\n",
       "21  630.064\n",
       "22  608.032\n",
       "23  582.480"
      ]
     },
     "execution_count": 10,
     "metadata": {},
     "output_type": "execute_result"
    }
   ],
   "source": [
    "#The natural gas price is calculated as the average between the high and low cost, also the unit used is $/kg of natural gas\n",
    "GWP_df = pd.read_csv('RT 06 JUNE.csv')\n",
    "# NG_price_df = pd.DataFrame(NG_price_df['USD/kg'])[::-1].reset_index()\n",
    "GWP_df = GWP_df[['GWP']]\n",
    "GWP_df = GWP_df[:24].reset_index(drop = True)\n",
    "GWP_df"
   ]
  },
  {
   "cell_type": "code",
   "execution_count": 11,
   "metadata": {},
   "outputs": [
    {
     "name": "stderr",
     "output_type": "stream",
     "text": [
      "C:\\Users\\marcopdsousa\\AppData\\Local\\Temp\\ipykernel_7664\\3562337580.py:2: FutureWarning: Series.__getitem__ treating keys as positions is deprecated. In a future version, integer keys will always be treated as labels (consistent with DataFrame behavior). To access a value by position, use `ser.iloc[pos]`\n",
      "  elec_price = elec_price_df.max()[0]\n",
      "C:\\Users\\marcopdsousa\\AppData\\Local\\Temp\\ipykernel_7664\\3562337580.py:3: FutureWarning: Series.__getitem__ treating keys as positions is deprecated. In a future version, integer keys will always be treated as labels (consistent with DataFrame behavior). To access a value by position, use `ser.iloc[pos]`\n",
      "  NG_price = NG_price_df.max()[0]\n",
      "C:\\Users\\marcopdsousa\\AppData\\Local\\Temp\\ipykernel_7664\\3562337580.py:4: FutureWarning: Series.__getitem__ treating keys as positions is deprecated. In a future version, integer keys will always be treated as labels (consistent with DataFrame behavior). To access a value by position, use `ser.iloc[pos]`\n",
      "  GWP_df = GWP_df.max()[0]\n"
     ]
    }
   ],
   "source": [
    "#Gives relevancy to price values again\n",
    "elec_price = elec_price_df.max()[0]\n",
    "NG_price = NG_price_df.max()[0]\n",
    "GWP_df = GWP_df.max()[0]"
   ]
  },
  {
   "cell_type": "markdown",
   "metadata": {},
   "source": [
    "Hourly Wind availability"
   ]
  },
  {
   "cell_type": "code",
   "execution_count": 12,
   "metadata": {},
   "outputs": [
    {
     "data": {
      "text/html": [
       "<div>\n",
       "<style scoped>\n",
       "    .dataframe tbody tr th:only-of-type {\n",
       "        vertical-align: middle;\n",
       "    }\n",
       "\n",
       "    .dataframe tbody tr th {\n",
       "        vertical-align: top;\n",
       "    }\n",
       "\n",
       "    .dataframe thead th {\n",
       "        text-align: right;\n",
       "    }\n",
       "</style>\n",
       "<table border=\"1\" class=\"dataframe\">\n",
       "  <thead>\n",
       "    <tr style=\"text-align: right;\">\n",
       "      <th></th>\n",
       "      <th>WGRPP_HO</th>\n",
       "    </tr>\n",
       "  </thead>\n",
       "  <tbody>\n",
       "    <tr>\n",
       "      <th>0</th>\n",
       "      <td>411.6</td>\n",
       "    </tr>\n",
       "    <tr>\n",
       "      <th>1</th>\n",
       "      <td>296.7</td>\n",
       "    </tr>\n",
       "    <tr>\n",
       "      <th>2</th>\n",
       "      <td>206.6</td>\n",
       "    </tr>\n",
       "    <tr>\n",
       "      <th>3</th>\n",
       "      <td>195.9</td>\n",
       "    </tr>\n",
       "    <tr>\n",
       "      <th>4</th>\n",
       "      <td>151.9</td>\n",
       "    </tr>\n",
       "    <tr>\n",
       "      <th>5</th>\n",
       "      <td>219.5</td>\n",
       "    </tr>\n",
       "    <tr>\n",
       "      <th>6</th>\n",
       "      <td>202.1</td>\n",
       "    </tr>\n",
       "    <tr>\n",
       "      <th>7</th>\n",
       "      <td>238.5</td>\n",
       "    </tr>\n",
       "    <tr>\n",
       "      <th>8</th>\n",
       "      <td>136.0</td>\n",
       "    </tr>\n",
       "    <tr>\n",
       "      <th>9</th>\n",
       "      <td>106.0</td>\n",
       "    </tr>\n",
       "    <tr>\n",
       "      <th>10</th>\n",
       "      <td>298.9</td>\n",
       "    </tr>\n",
       "    <tr>\n",
       "      <th>11</th>\n",
       "      <td>291.9</td>\n",
       "    </tr>\n",
       "    <tr>\n",
       "      <th>12</th>\n",
       "      <td>238.4</td>\n",
       "    </tr>\n",
       "    <tr>\n",
       "      <th>13</th>\n",
       "      <td>244.0</td>\n",
       "    </tr>\n",
       "    <tr>\n",
       "      <th>14</th>\n",
       "      <td>262.1</td>\n",
       "    </tr>\n",
       "    <tr>\n",
       "      <th>15</th>\n",
       "      <td>344.4</td>\n",
       "    </tr>\n",
       "    <tr>\n",
       "      <th>16</th>\n",
       "      <td>586.8</td>\n",
       "    </tr>\n",
       "    <tr>\n",
       "      <th>17</th>\n",
       "      <td>638.2</td>\n",
       "    </tr>\n",
       "    <tr>\n",
       "      <th>18</th>\n",
       "      <td>709.6</td>\n",
       "    </tr>\n",
       "    <tr>\n",
       "      <th>19</th>\n",
       "      <td>896.9</td>\n",
       "    </tr>\n",
       "    <tr>\n",
       "      <th>20</th>\n",
       "      <td>902.8</td>\n",
       "    </tr>\n",
       "    <tr>\n",
       "      <th>21</th>\n",
       "      <td>657.9</td>\n",
       "    </tr>\n",
       "    <tr>\n",
       "      <th>22</th>\n",
       "      <td>484.2</td>\n",
       "    </tr>\n",
       "    <tr>\n",
       "      <th>23</th>\n",
       "      <td>423.1</td>\n",
       "    </tr>\n",
       "  </tbody>\n",
       "</table>\n",
       "</div>"
      ],
      "text/plain": [
       "    WGRPP_HO\n",
       "0      411.6\n",
       "1      296.7\n",
       "2      206.6\n",
       "3      195.9\n",
       "4      151.9\n",
       "5      219.5\n",
       "6      202.1\n",
       "7      238.5\n",
       "8      136.0\n",
       "9      106.0\n",
       "10     298.9\n",
       "11     291.9\n",
       "12     238.4\n",
       "13     244.0\n",
       "14     262.1\n",
       "15     344.4\n",
       "16     586.8\n",
       "17     638.2\n",
       "18     709.6\n",
       "19     896.9\n",
       "20     902.8\n",
       "21     657.9\n",
       "22     484.2\n",
       "23     423.1"
      ]
     },
     "execution_count": 12,
     "metadata": {},
     "output_type": "execute_result"
    }
   ],
   "source": [
    "Wind_df = pd.read_csv('RT 06 JUNE.csv')\n",
    "Wind_df = Wind_df[['WGRPP_HO']]\n",
    "Wind_df = Wind_df[:24]\n",
    "Wind_df"
   ]
  },
  {
   "cell_type": "markdown",
   "metadata": {},
   "source": [
    "Hourly Solar availability"
   ]
  },
  {
   "cell_type": "code",
   "execution_count": 13,
   "metadata": {},
   "outputs": [
    {
     "data": {
      "text/html": [
       "<div>\n",
       "<style scoped>\n",
       "    .dataframe tbody tr th:only-of-type {\n",
       "        vertical-align: middle;\n",
       "    }\n",
       "\n",
       "    .dataframe tbody tr th {\n",
       "        vertical-align: top;\n",
       "    }\n",
       "\n",
       "    .dataframe thead th {\n",
       "        text-align: right;\n",
       "    }\n",
       "</style>\n",
       "<table border=\"1\" class=\"dataframe\">\n",
       "  <thead>\n",
       "    <tr style=\"text-align: right;\">\n",
       "      <th></th>\n",
       "      <th>PVGRPP_HO</th>\n",
       "    </tr>\n",
       "  </thead>\n",
       "  <tbody>\n",
       "    <tr>\n",
       "      <th>0</th>\n",
       "      <td>0.0</td>\n",
       "    </tr>\n",
       "    <tr>\n",
       "      <th>1</th>\n",
       "      <td>0.0</td>\n",
       "    </tr>\n",
       "    <tr>\n",
       "      <th>2</th>\n",
       "      <td>0.0</td>\n",
       "    </tr>\n",
       "    <tr>\n",
       "      <th>3</th>\n",
       "      <td>0.0</td>\n",
       "    </tr>\n",
       "    <tr>\n",
       "      <th>4</th>\n",
       "      <td>0.0</td>\n",
       "    </tr>\n",
       "    <tr>\n",
       "      <th>5</th>\n",
       "      <td>0.0</td>\n",
       "    </tr>\n",
       "    <tr>\n",
       "      <th>6</th>\n",
       "      <td>0.0</td>\n",
       "    </tr>\n",
       "    <tr>\n",
       "      <th>7</th>\n",
       "      <td>4.4</td>\n",
       "    </tr>\n",
       "    <tr>\n",
       "      <th>8</th>\n",
       "      <td>200.1</td>\n",
       "    </tr>\n",
       "    <tr>\n",
       "      <th>9</th>\n",
       "      <td>491.8</td>\n",
       "    </tr>\n",
       "    <tr>\n",
       "      <th>10</th>\n",
       "      <td>546.9</td>\n",
       "    </tr>\n",
       "    <tr>\n",
       "      <th>11</th>\n",
       "      <td>785.8</td>\n",
       "    </tr>\n",
       "    <tr>\n",
       "      <th>12</th>\n",
       "      <td>1042.4</td>\n",
       "    </tr>\n",
       "    <tr>\n",
       "      <th>13</th>\n",
       "      <td>1190.0</td>\n",
       "    </tr>\n",
       "    <tr>\n",
       "      <th>14</th>\n",
       "      <td>1359.4</td>\n",
       "    </tr>\n",
       "    <tr>\n",
       "      <th>15</th>\n",
       "      <td>1516.0</td>\n",
       "    </tr>\n",
       "    <tr>\n",
       "      <th>16</th>\n",
       "      <td>1468.3</td>\n",
       "    </tr>\n",
       "    <tr>\n",
       "      <th>17</th>\n",
       "      <td>1402.2</td>\n",
       "    </tr>\n",
       "    <tr>\n",
       "      <th>18</th>\n",
       "      <td>1284.2</td>\n",
       "    </tr>\n",
       "    <tr>\n",
       "      <th>19</th>\n",
       "      <td>883.4</td>\n",
       "    </tr>\n",
       "    <tr>\n",
       "      <th>20</th>\n",
       "      <td>307.5</td>\n",
       "    </tr>\n",
       "    <tr>\n",
       "      <th>21</th>\n",
       "      <td>9.9</td>\n",
       "    </tr>\n",
       "    <tr>\n",
       "      <th>22</th>\n",
       "      <td>0.0</td>\n",
       "    </tr>\n",
       "    <tr>\n",
       "      <th>23</th>\n",
       "      <td>0.0</td>\n",
       "    </tr>\n",
       "  </tbody>\n",
       "</table>\n",
       "</div>"
      ],
      "text/plain": [
       "    PVGRPP_HO\n",
       "0         0.0\n",
       "1         0.0\n",
       "2         0.0\n",
       "3         0.0\n",
       "4         0.0\n",
       "5         0.0\n",
       "6         0.0\n",
       "7         4.4\n",
       "8       200.1\n",
       "9       491.8\n",
       "10      546.9\n",
       "11      785.8\n",
       "12     1042.4\n",
       "13     1190.0\n",
       "14     1359.4\n",
       "15     1516.0\n",
       "16     1468.3\n",
       "17     1402.2\n",
       "18     1284.2\n",
       "19      883.4\n",
       "20      307.5\n",
       "21        9.9\n",
       "22        0.0\n",
       "23        0.0"
      ]
     },
     "execution_count": 13,
     "metadata": {},
     "output_type": "execute_result"
    }
   ],
   "source": [
    "Solar_df = pd.read_csv('RT 06 JUNE.csv')\n",
    "Solar_df = Solar_df[['PVGRPP_HO']]\n",
    "Solar_df = Solar_df[:24]\n",
    "Solar_df"
   ]
  },
  {
   "cell_type": "code",
   "execution_count": 14,
   "metadata": {},
   "outputs": [],
   "source": [
    "Solar = Resource(name='Solar', cons_max=bigM, basis='MW', label='Solar Power', price= 52.69, gwp=0, scope=Scope.TWO)\n",
    "\n",
    "Wind = Resource(name='Wind', cons_max=bigM, basis='MW', label='Wind Power', price= 60.11, gwp=0, scope=Scope.TWO)\n",
    "\n",
    "Power = Resource(name='Power', basis='MW',\n",
    "                 label='Power generated')\n",
    "\n",
    "GridPower = Resource(name='GridPower', basis='MW',\n",
    "                     cons_max=bigM, label='Power bought', gwp=420.62, price = elec_price, varying = [VaryingResource.DETERMINISTIC_PRICE], scope = Scope.TWO)\n",
    "\n",
    "#The following are components of natural gas\n",
    "\n",
    "CO2 = Resource(name='CO2', basis='kg/hr',\n",
    "               label='Carbon dioxide', block='Resource')\n",
    "\n",
    "CO2_Stack = Resource(name='CO2 to Stack', basis='kg/hr', sell=True,\n",
    "               label='Carbon dioxide to Stack', block='Resource', gwp = 1, scope = Scope.ONE)\n",
    "\n",
    "CO2_Air = Resource(name='CO2 from air', basis='kg/hr',\n",
    "               label='Carbon dioxide from air', block='Resource', cons_max=bigM)\n",
    "\n",
    "CO2_Vent = Resource(name='CO2 Vented from the process', basis='kg/hr',\n",
    "               label='Carbon dioxide vented from the process', block='Resource', gwp = 1, sell=True, scope = Scope.ONE)\n",
    "\n",
    "CO2cpt = Resource(name='CO2 Captured', basis='kg/hr', sell=True, label='Captured carbon dioxide', block='Resource')\n",
    "\n",
    "CH4 = Resource(name='CH4', basis='kg/hr',\n",
    "               label='Methane', block='Resource')\n",
    "\n",
    "#Important: Natural gas consists over different components\n",
    "\n",
    "NG = Resource(name='Natural Gas', basis='kg/hr',\n",
    "                     cons_max=bigM, label='Natural Gas', gwp = 0.660979, price = NG_price, varying = [VaryingResource.DETERMINISTIC_PRICE])\n",
    "\n",
    "\n",
    "# Hydrogen is what I want to sell/satisfy a specific demand for\n",
    "\n",
    "H2 = Resource(name='Hydrogen', basis='kg/hr', label='Hydrogen', block='Resource')\n",
    "\n",
    "H2Pure = Resource(name='Pure Hydrogen', demand = True, basis='kg/hr', label='Pure Hydrogen', block='Resource')\n",
    "\n",
    "# Water is required for the electrolysis process\n",
    "\n",
    "H2O = Resource(name='H2O',\n",
    "               basis='kg/hr', cons_max=bigM, label='Water', block='Resource')\n",
    "\n",
    "#Industrial water price is 0.002 USD/kg of water\n",
    "H2OFresh = Resource(name=\"H2O Fresh\", cons_max=bigM, price = 0.002, basis='kg/hr', label='Fresh Water', block='Resource')\n",
    "\n",
    "H2O_Air = Resource(name='H2O from air', cons_max=bigM,\n",
    "               basis='kg/hr', label='Water from air', block='Resource')\n",
    "\n",
    "H2O_Vent = Resource(name='H2O vented from the process',\n",
    "               basis='kg/hr', sell=True, label='Water vented from the process', block='Resource')\n",
    "\n",
    "\n",
    "H2O_Stack = Resource(name='H2O to Stack',\n",
    "               basis='kg/hr', sell= True, label='Water to Stack', block='Resource')\n",
    "\n",
    "#Industrial water price is 0.002 USD/kg of water\n",
    "\n",
    "# Air components\n",
    "\n",
    "N2 = Resource(name='N2', basis='kg/hr',\n",
    "               label='Nitrogen', block='Resource')\n",
    "\n",
    "N2_SMR = Resource(name='N2 from SMR', basis='kg/hr',\n",
    "               label='Nitrogen from SMR', block='Resource')\n",
    "\n",
    "N2_WGS = Resource(name='N2 from WGS', basis='kg/hr',\n",
    "               label='Nitrogen from WGS', block='Resource')\n",
    "\n",
    "N2_FG = Resource(name='N2 from FG', basis='kg/hr',\n",
    "               label='Nitrogen from FG', block='Resource')\n",
    "\n",
    "N2_Air = Resource(name='N2 from Air', basis='kg/hr', cons_max= bigM,\n",
    "               label='Nitrogen from Air', block='Resource')\n",
    "\n",
    "N2_Vent = Resource(name='N2 vented from the process', basis='kg/hr', sell= True,\n",
    "               label='Nitrogen vented from the process', block='Resource')\n",
    "\n",
    "N2Prod = Resource(name='N2 in product stream', basis='kg/hr',\n",
    "               label='Nitrogen in product stream', block='Resource')\n",
    "\n",
    "N2_Stack = Resource(name='N2 to Stack', basis='kg/hr', sell= True,\n",
    "               label='Nitrogen to stack', block='Resource')\n",
    "\n",
    "O2 = Resource(name='O2', basis='kg/hr',\n",
    "               label='Oxygen', block='Resource')\n",
    "\n",
    "O2_Air = Resource(name='O2 from air', basis='kg/hr',\n",
    "               label='Oxygen from air', block='Resource', cons_max = bigM)\n",
    "\n",
    "O2_Vent = Resource(name='O2 vented from the process', basis='kg/hr', sell=True,\n",
    "               label='Oxygen vented from the process', block='Resource')\n",
    "\n",
    "O2_Stack = Resource(name='O2 to Stack', basis='kg/hr', sell= True,\n",
    "               label='Oxygen to Stack', block='Resource')\n"
   ]
  },
  {
   "attachments": {},
   "cell_type": "markdown",
   "metadata": {},
   "source": [
    "## Declare Materials"
   ]
  },
  {
   "attachments": {},
   "cell_type": "markdown",
   "metadata": {},
   "source": [
    "Materials are utilized for the establishment of processes. Materials inturn require resources to be set up. "
   ]
  },
  {
   "cell_type": "code",
   "execution_count": 15,
   "metadata": {},
   "outputs": [
    {
     "data": {
      "text/plain": [
       "'Do I understand it correctly that I will have no material modes'"
      ]
     },
     "execution_count": 15,
     "metadata": {},
     "output_type": "execute_result"
    }
   ],
   "source": [
    "'''Do I understand it correctly that I will have no material modes'''"
   ]
  },
  {
   "attachments": {},
   "cell_type": "markdown",
   "metadata": {},
   "source": [
    "## Declare Processes"
   ]
  },
  {
   "cell_type": "code",
   "execution_count": 16,
   "metadata": {},
   "outputs": [],
   "source": [
    "'''Purchasing electricity from a traditional power production system'''\n",
    "\n",
    "Grid = Process(name='Grid', conversion={GridPower: -1, Power: 1}, prod_min=smallM, prod_max=bigM, label='Grid', basis='MW')\n",
    "\n",
    "PV = Process(name='PV', conversion={Solar: -1, Power: 1},\n",
    "             prod_max=10, prod_min=10,  varying= [VaryingProcess.DETERMINISTIC_CAPACITY], label='Solar PV', basis='MW')\n",
    "\n",
    "# capex=0.0001, fopex=0.0001, vopex=0.0001, gwp = 0.0001\n",
    "\n",
    "WF = Process(name='WF', conversion={Wind: -1, Power: 1},\n",
    "             prod_max=30, prod_min=30, label='Wind mill array', varying=[VaryingProcess.DETERMINISTIC_CAPACITY], basis='MW')\n",
    "\n",
    "\n",
    "SMR = Process(name='SMR', conversion={Power: -0.00065, NG: -3.535189, H2OFresh: -16.78877421, N2_Air: -19.2134, O2_Air: -5.88716, H2O_Air: -0.1582, CO2_Air: -0.01171, \n",
    "                                            H2Pure: 1, CO2_Stack: 9.3713,  H2O_Stack: 3.94959, N2_Stack: 19.29814, O2_Stack: 0.535434}, capex=0.0001,\n",
    "               vopex=1.2, fopex=0.001, prod_min=smallM, prod_max=bigM, label='SMR', basis='kg/hr')\n",
    "\n",
    "\n",
    "SMRCCS = Process(name='SMRCCS', conversion={Power: -0.00139, N2_Air: -22.2315, O2_Air: -6.811924, H2O_Air: -0.183055, CO2_Air: -0.013551, CO2_Stack: -9.3713,\n",
    "                                             H2O_Vent: 3.826767, CO2cpt: 8.903, CO2_Vent: 0.46856, H2O_Stack: 0.558114, N2_Stack: 22.32218, O2_Stack: 0.6203032, }, capex=0.0001,\n",
    "                vopex=1.1, fopex=0.001, prod_min=smallM, prod_max=bigM, label='SMRCCS', basis='kg/hr')\n",
    "\n",
    "PEM = Process(name='PEM', conversion={Power: -0.157828499, H2OFresh: -7.568707483,\n",
    "                                            H2Pure: 1}, capex=0.0001,\n",
    "               vopex=4.668, fopex=0.001, prod_min=18.75, prod_max=18.75, label='PEM', basis='kg/hr')"
   ]
  },
  {
   "attachments": {},
   "cell_type": "markdown",
   "metadata": {},
   "source": [
    "## Declare Location"
   ]
  },
  {
   "cell_type": "code",
   "execution_count": null,
   "metadata": {},
   "outputs": [],
   "source": []
  },
  {
   "cell_type": "code",
   "execution_count": 17,
   "metadata": {},
   "outputs": [],
   "source": [
    "process_set = {Grid, PV, WF, SMR, PEM,SMRCCS}#, SMRCCS, PEM} #Grid,"
   ]
  },
  {
   "cell_type": "code",
   "execution_count": 18,
   "metadata": {},
   "outputs": [],
   "source": [
    "houston = Location(name='HO', processes=process_set, capacity_factor={PV: Solar_df, WF: Wind_df}, price_factor={GridPower: elec_price_df, NG: NG_price_df}, \n",
    "                   scales=scales, label='Houston', expenditure_scale_level=0, demand_scale_level=0, price_scale_level=1, capacity_scale_level=1)"
   ]
  },
  {
   "attachments": {},
   "cell_type": "markdown",
   "metadata": {},
   "source": [
    "## Declare Scenario"
   ]
  },
  {
   "cell_type": "code",
   "execution_count": 19,
   "metadata": {},
   "outputs": [],
   "source": [
    "\n",
    "scenario = Scenario(name='scenario_full', network=houston, scales=scales,  expenditure_scale_level=0, demand_scale_level=0, \n",
    "                    purchase_scale_level = 1, scheduling_scale_level=1, network_scale_level=0, capacity_scale_level=1,\n",
    "                    label='full_case', demand={houston: {H2Pure:240000}})"
   ]
  },
  {
   "cell_type": "code",
   "execution_count": 20,
   "metadata": {},
   "outputs": [
    {
     "data": {
      "text/plain": [
       "dict_keys(['PV', 'WF'])"
      ]
     },
     "execution_count": 20,
     "metadata": {},
     "output_type": "execute_result"
    }
   ],
   "source": [
    "scenario.capacity_factor['HO'].keys()"
   ]
  },
  {
   "cell_type": "code",
   "execution_count": 21,
   "metadata": {},
   "outputs": [
    {
     "data": {
      "image/png": "[encoded data removed]",
      "text/plain": [
       "<Figure size 900x500 with 1 Axes>"
      ]
     },
     "metadata": {},
     "output_type": "display_data"
    }
   ],
   "source": [
    "\n",
    "plot_scenario.price_factor(\n",
    "    scenario=scenario, location=houston, resource=GridPower, fig_size=(9, 5), color='black')\n"
   ]
  },
  {
   "cell_type": "code",
   "execution_count": 22,
   "metadata": {},
   "outputs": [
    {
     "data": {
      "image/png": "[encoded data removed]",
      "text/plain": [
       "<Figure size 900x500 with 1 Axes>"
      ]
     },
     "metadata": {},
     "output_type": "display_data"
    }
   ],
   "source": [
    "\n",
    "plot_scenario.price_factor(\n",
    "    scenario=scenario, location=houston, resource=NG, fig_size=(9, 5), color='blue')"
   ]
  },
  {
   "cell_type": "code",
   "execution_count": 23,
   "metadata": {},
   "outputs": [
    {
     "data": {
      "image/png": "[encoded data removed]",
      "text/plain": [
       "<Figure size 900x500 with 1 Axes>"
      ]
     },
     "metadata": {},
     "output_type": "display_data"
    }
   ],
   "source": [
    "plot_scenario.capacity_factor(\n",
    "    scenario=scenario, location=houston, process=PV, fig_size=(9, 5), color='red')"
   ]
  },
  {
   "cell_type": "code",
   "execution_count": 24,
   "metadata": {},
   "outputs": [
    {
     "data": {
      "image/png": "[encoded data removed]",
      "text/plain": [
       "<Figure size 900x500 with 1 Axes>"
      ]
     },
     "metadata": {},
     "output_type": "display_data"
    }
   ],
   "source": [
    "plot_scenario.capacity_factor(\n",
    "    scenario=scenario, location=houston, process=WF, fig_size=(9, 5), color='green')"
   ]
  },
  {
   "cell_type": "code",
   "execution_count": 25,
   "metadata": {},
   "outputs": [
    {
     "data": {
      "text/plain": [
       "['GridPower', 'Solar', 'Wind']"
      ]
     },
     "execution_count": 25,
     "metadata": {},
     "output_type": "execute_result"
    }
   ],
   "source": [
    "scenario.set_dict['resources_purch_scope2']"
   ]
  },
  {
   "attachments": {},
   "cell_type": "markdown",
   "metadata": {},
   "source": [
    "## Formulate MILP"
   ]
  },
  {
   "attachments": {},
   "cell_type": "markdown",
   "metadata": {},
   "source": [
    "Here we formulate two milps which differ only in their objectives.\n",
    "\n",
    "For maximizing the discharge of a particular resource, use the objective MAX_DISCHARGE, the objective resource also needs to be specified.\n",
    "\n",
    "Similarly the discharge can also be minimized using MIN_DISCHARGE. This can be used with a demand for another resource being set. For example, minimizing the discharge of carbon dioxide while meeting a hydrogen demand.\n",
    "\n",
    "The second MILP, minimized the cost while meeting a varying demand for power"
   ]
  },
  {
   "cell_type": "code",
   "execution_count": 26,
   "metadata": {},
   "outputs": [
    {
     "name": "stdout",
     "output_type": "stream",
     "text": [
      "constraint process capex\n",
      "constraint process fopex\n",
      "constraint process vopex\n",
      "constraint process incidental\n",
      "constraint storage cost\n",
      "constraint storage cost location\n",
      "constraint storage cost network\n",
      "constraint global warming potential process\n",
      "constraint global warming potential resource\n",
      "constraint global warming potential resource consumption\n",
      "constraint global warming potential resource discharge\n",
      "constraint global warming potential location\n",
      "constraint global warming potential network\n",
      "constraint ozone depletion potential process\n",
      "constraint ozone depletion potential resource\n",
      "constraint ozone depletion potential resource consumption\n",
      "constraint ozone depletion potential resource discharge\n",
      "constraint ozone depletion potential location\n",
      "constraint ozone depletion potential network\n",
      "constraint acidification potential process\n",
      "constraint acidification potential resource\n",
      "constraint acidification potential resource consumption\n",
      "constraint acidification potential resource discharge\n",
      "constraint acidification potential location\n",
      "constraint acidification potential network\n",
      "constraint terrestrial eutrophication potential process\n",
      "constraint terrestrial eutrophication potential resource\n",
      "constraint terrestrial eutrophication potential resource consumption\n",
      "constraint terrestrial eutrophication potential resource discharge\n",
      "constraint terrestrial eutrophication potential location\n",
      "constraint terrestrial eutrophication potential network\n",
      "constraint freshwater eutrophication potential process\n",
      "constraint freshwater eutrophication potential resource\n",
      "constraint freshwater eutrophication potential resource consumption\n",
      "constraint freshwater eutrophication potential resource discharge\n",
      "constraint freshwater eutrophication potential location\n",
      "constraint freshwater eutrophication potential network\n",
      "constraint marine eutrophication potential process\n",
      "constraint marine eutrophication potential resource\n",
      "constraint marine eutrophication potential resource consumption\n",
      "constraint marine eutrophication potential resource discharge\n",
      "constraint marine eutrophication potential location\n",
      "constraint marine eutrophication potential network\n",
      "constraint production mode\n",
      "constraint inventory balance\n",
      "constraint inventory network\n",
      "constraint demand\n",
      "objective cost\n"
     ]
    }
   ],
   "source": [
    "#, Constraints.MODE\n",
    "\n",
    "milp_cost = formulate(scenario=scenario, constraints={Constraints.COST, Constraints.INVENTORY, Constraints.PRODUCTION,\n",
    "                      Constraints.RESOURCE_BALANCE, Constraints.DEMAND, Constraints.EMISSION}, objective=Objective.COST, demand_sign = 'eq')"
   ]
  },
  {
   "cell_type": "code",
   "execution_count": 27,
   "metadata": {},
   "outputs": [],
   "source": [
    "# model.component\n",
    "\n",
    "from pyomo.environ import ConstraintList\n",
    "milp_cost.cons1 = ConstraintList()\n",
    "for i in scales.scale_iter(2):\n",
    "    milp_cost.cons1.add(expr = milp_cost.P['HO', 'SMR', *i] >= 5000)"
   ]
  },
  {
   "cell_type": "code",
   "execution_count": 28,
   "metadata": {},
   "outputs": [],
   "source": [
    "# model.component\n",
    "\n",
    "from pyomo.environ import ConstraintList\n",
    "\n",
    "ramping_limit = 1000\n",
    "\n",
    "milp_cost.cons2 = ConstraintList()\n",
    "for i in scales.scale_iter(1):\n",
    "    if i != (0,0):\n",
    "        milp_cost.cons2.add(expr = milp_cost.P['HO', 'SMR', *i] - milp_cost.P['HO', 'SMR', *scales.scale_iter(2)[scales.scale_iter(1).index(i) - 1]] <= ramping_limit)\n",
    "\n",
    "milp_cost.cons3 = ConstraintList()\n",
    "for i in scales.scale_iter(1):\n",
    "    if i != (0,0):\n",
    "        milp_cost.cons3.add(expr = milp_cost.P['HO', 'SMR', *i] - milp_cost.P['HO', 'SMR', *scales.scale_iter(2)[scales.scale_iter(1).index(i) - 1]] >= -ramping_limit)"
   ]
  },
  {
   "cell_type": "code",
   "execution_count": 29,
   "metadata": {},
   "outputs": [
    {
     "name": "stdout",
     "output_type": "stream",
     "text": [
      "Set parameter QCPDual to value 1\n",
      "Gurobi Optimizer version 11.0.1 build v11.0.1rc0 (win64 - Windows 11.0 (22631.2))\n",
      "\n",
      "CPU model: 13th Gen Intel(R) Core(TM) i7-13700, instruction set [SSE2|AVX|AVX2]\n",
      "Thread count: 16 physical cores, 24 logical processors, using up to 24 threads\n",
      "\n",
      "Optimize a model with 1543 rows, 1590 columns and 3909 nonzeros\n",
      "Model fingerprint: 0xf3f50f8c\n",
      "Coefficient statistics:\n",
      "  Matrix range     [1e-04, 4e+02]\n",
      "  Objective range  [1e+00, 1e+00]\n",
      "  Bounds range     [0e+00, 0e+00]\n",
      "  RHS range        [1e-03, 1e+06]\n",
      "Presolve removed 1399 rows and 1455 columns\n",
      "Presolve time: 0.00s\n",
      "Presolved: 144 rows, 158 columns, 442 nonzeros\n",
      "\n",
      "Iteration    Objective       Primal Inf.    Dual Inf.      Time\n",
      "       0    4.1523796e+05   1.617225e+05   0.000000e+00      0s\n",
      "      51    4.2000208e+05   0.000000e+00   0.000000e+00      0s\n",
      "\n",
      "Solved in 51 iterations and 0.00 seconds (0.00 work units)\n",
      "Optimal objective  4.200020791e+05\n"
     ]
    }
   ],
   "source": [
    "results_cost = solve(scenario=scenario, instance=milp_cost,\n",
    "                     solver='gurobi', name=f\"res_cost\", print_solversteps=True, saveformat = '.pkl')\n"
   ]
  },
  {
   "cell_type": "code",
   "execution_count": 30,
   "metadata": {},
   "outputs": [
    {
     "name": "stdout",
     "output_type": "stream",
     "text": [
      "[20000.0, 19000.0, 18000.0, 17000.0, 16000.0, 15000.0, 14000.0, 13000.0, 12000.0, 11000.0, 10000.0, 9000.0, 8000.0, 7000.0, 6000.0, 5000.0, 5000.0, 5000.0, 5000.0, 5000.0, 5000.0, 5000.0, 5000.0, 5000.0]\n"
     ]
    },
    {
     "data": {
      "image/png": "[encoded data removed]",
      "text/plain": [
       "<Figure size 1200x600 with 1 Axes>"
      ]
     },
     "metadata": {},
     "output_type": "display_data"
    }
   ],
   "source": [
    "plot_results.schedule(results = results_cost, y_axis= 'P', component = 'SMR', location='HO')"
   ]
  },
  {
   "cell_type": "code",
   "execution_count": 31,
   "metadata": {},
   "outputs": [
    {
     "data": {
      "text/plain": [
       "420002.07905799354"
      ]
     },
     "execution_count": 31,
     "metadata": {},
     "output_type": "execute_result"
    }
   ],
   "source": [
    "results_cost.output['objective']"
   ]
  },
  {
   "cell_type": "code",
   "execution_count": 32,
   "metadata": {},
   "outputs": [
    {
     "data": {
      "text/plain": [
       "{('HO', 0): 2864323.7626074404}"
      ]
     },
     "execution_count": 32,
     "metadata": {},
     "output_type": "execute_result"
    }
   ],
   "source": [
    "results_cost.output['global_warming_potential_location']"
   ]
  },
  {
   "cell_type": "code",
   "execution_count": 33,
   "metadata": {},
   "outputs": [
    {
     "data": {
      "text/plain": [
       "{('HO', 'Grid', 0, 0): 13.0,\n",
       " ('HO', 'Grid', 0, 1): 12.35,\n",
       " ('HO', 'Grid', 0, 2): 11.7,\n",
       " ('HO', 'Grid', 0, 3): 11.049999999999999,\n",
       " ('HO', 'Grid', 0, 4): 10.4,\n",
       " ('HO', 'Grid', 0, 5): 9.75,\n",
       " ('HO', 'Grid', 0, 6): 9.1,\n",
       " ('HO', 'Grid', 0, 7): 8.45,\n",
       " ('HO', 'Grid', 0, 8): 7.8,\n",
       " ('HO', 'Grid', 0, 9): 7.1499999999999995,\n",
       " ('HO', 'Grid', 0, 10): 6.5,\n",
       " ('HO', 'Grid', 0, 11): 5.85,\n",
       " ('HO', 'Grid', 0, 12): 5.2,\n",
       " ('HO', 'Grid', 0, 13): 4.55,\n",
       " ('HO', 'Grid', 0, 14): 0.0,\n",
       " ('HO', 'Grid', 0, 15): 0.0,\n",
       " ('HO', 'Grid', 0, 16): 0.0,\n",
       " ('HO', 'Grid', 0, 17): 0.0,\n",
       " ('HO', 'Grid', 0, 18): 0.0,\n",
       " ('HO', 'Grid', 0, 19): 0.0,\n",
       " ('HO', 'Grid', 0, 20): 0.0,\n",
       " ('HO', 'Grid', 0, 21): 0.0,\n",
       " ('HO', 'Grid', 0, 22): 3.25,\n",
       " ('HO', 'Grid', 0, 23): 3.25,\n",
       " ('HO', 'PEM', 0, 0): 0.0,\n",
       " ('HO', 'PEM', 0, 1): 0.0,\n",
       " ('HO', 'PEM', 0, 2): 0.0,\n",
       " ('HO', 'PEM', 0, 3): 0.0,\n",
       " ('HO', 'PEM', 0, 4): 0.0,\n",
       " ('HO', 'PEM', 0, 5): 0.0,\n",
       " ('HO', 'PEM', 0, 6): 0.0,\n",
       " ('HO', 'PEM', 0, 7): 0.0,\n",
       " ('HO', 'PEM', 0, 8): 0.0,\n",
       " ('HO', 'PEM', 0, 9): 0.0,\n",
       " ('HO', 'PEM', 0, 10): 0.0,\n",
       " ('HO', 'PEM', 0, 11): 0.0,\n",
       " ('HO', 'PEM', 0, 12): 0.0,\n",
       " ('HO', 'PEM', 0, 13): 0.0,\n",
       " ('HO', 'PEM', 0, 14): 0.0,\n",
       " ('HO', 'PEM', 0, 15): 0.0,\n",
       " ('HO', 'PEM', 0, 16): 0.0,\n",
       " ('HO', 'PEM', 0, 17): 0.0,\n",
       " ('HO', 'PEM', 0, 18): 0.0,\n",
       " ('HO', 'PEM', 0, 19): 0.0,\n",
       " ('HO', 'PEM', 0, 20): 0.0,\n",
       " ('HO', 'PEM', 0, 21): 0.0,\n",
       " ('HO', 'PEM', 0, 22): 0.0,\n",
       " ('HO', 'PEM', 0, 23): 0.0,\n",
       " ('HO', 'PV', 0, 0): 0.0,\n",
       " ('HO', 'PV', 0, 1): 0.0,\n",
       " ('HO', 'PV', 0, 2): 0.0,\n",
       " ('HO', 'PV', 0, 3): 0.0,\n",
       " ('HO', 'PV', 0, 4): 0.0,\n",
       " ('HO', 'PV', 0, 5): 0.0,\n",
       " ('HO', 'PV', 0, 6): 0.0,\n",
       " ('HO', 'PV', 0, 7): 0.0,\n",
       " ('HO', 'PV', 0, 8): 0.0,\n",
       " ('HO', 'PV', 0, 9): 0.0,\n",
       " ('HO', 'PV', 0, 10): 0.0,\n",
       " ('HO', 'PV', 0, 11): 0.0,\n",
       " ('HO', 'PV', 0, 12): 0.0,\n",
       " ('HO', 'PV', 0, 13): 0.0,\n",
       " ('HO', 'PV', 0, 14): 3.9,\n",
       " ('HO', 'PV', 0, 15): 3.25,\n",
       " ('HO', 'PV', 0, 16): 3.25,\n",
       " ('HO', 'PV', 0, 17): 3.25,\n",
       " ('HO', 'PV', 0, 18): 3.25,\n",
       " ('HO', 'PV', 0, 19): 3.25,\n",
       " ('HO', 'PV', 0, 20): 2.028364116094987,\n",
       " ('HO', 'PV', 0, 21): 0.06530343007915568,\n",
       " ('HO', 'PV', 0, 22): 0.0,\n",
       " ('HO', 'PV', 0, 23): 0.0,\n",
       " ('HO', 'SMR', 0, 0): 20000.0,\n",
       " ('HO', 'SMR', 0, 1): 19000.0,\n",
       " ('HO', 'SMR', 0, 2): 18000.0,\n",
       " ('HO', 'SMR', 0, 3): 17000.0,\n",
       " ('HO', 'SMR', 0, 4): 16000.0,\n",
       " ('HO', 'SMR', 0, 5): 15000.0,\n",
       " ('HO', 'SMR', 0, 6): 14000.0,\n",
       " ('HO', 'SMR', 0, 7): 13000.0,\n",
       " ('HO', 'SMR', 0, 8): 12000.0,\n",
       " ('HO', 'SMR', 0, 9): 11000.0,\n",
       " ('HO', 'SMR', 0, 10): 10000.0,\n",
       " ('HO', 'SMR', 0, 11): 9000.0,\n",
       " ('HO', 'SMR', 0, 12): 8000.0,\n",
       " ('HO', 'SMR', 0, 13): 7000.0,\n",
       " ('HO', 'SMR', 0, 14): 6000.0,\n",
       " ('HO', 'SMR', 0, 15): 5000.0,\n",
       " ('HO', 'SMR', 0, 16): 5000.0,\n",
       " ('HO', 'SMR', 0, 17): 5000.0,\n",
       " ('HO', 'SMR', 0, 18): 5000.0,\n",
       " ('HO', 'SMR', 0, 19): 5000.0,\n",
       " ('HO', 'SMR', 0, 20): 5000.0,\n",
       " ('HO', 'SMR', 0, 21): 5000.0,\n",
       " ('HO', 'SMR', 0, 22): 5000.0,\n",
       " ('HO', 'SMR', 0, 23): 5000.0,\n",
       " ('HO', 'SMRCCS', 0, 0): 0.0,\n",
       " ('HO', 'SMRCCS', 0, 1): 0.0,\n",
       " ('HO', 'SMRCCS', 0, 2): 0.0,\n",
       " ('HO', 'SMRCCS', 0, 3): 0.0,\n",
       " ('HO', 'SMRCCS', 0, 4): 0.0,\n",
       " ('HO', 'SMRCCS', 0, 5): 0.0,\n",
       " ('HO', 'SMRCCS', 0, 6): 0.0,\n",
       " ('HO', 'SMRCCS', 0, 7): 0.0,\n",
       " ('HO', 'SMRCCS', 0, 8): 0.0,\n",
       " ('HO', 'SMRCCS', 0, 9): 0.0,\n",
       " ('HO', 'SMRCCS', 0, 10): 0.0,\n",
       " ('HO', 'SMRCCS', 0, 11): 0.0,\n",
       " ('HO', 'SMRCCS', 0, 12): 0.0,\n",
       " ('HO', 'SMRCCS', 0, 13): 0.0,\n",
       " ('HO', 'SMRCCS', 0, 14): 0.0,\n",
       " ('HO', 'SMRCCS', 0, 15): 0.0,\n",
       " ('HO', 'SMRCCS', 0, 16): 0.0,\n",
       " ('HO', 'SMRCCS', 0, 17): 0.0,\n",
       " ('HO', 'SMRCCS', 0, 18): 0.0,\n",
       " ('HO', 'SMRCCS', 0, 19): 0.0,\n",
       " ('HO', 'SMRCCS', 0, 20): 0.0,\n",
       " ('HO', 'SMRCCS', 0, 21): 0.0,\n",
       " ('HO', 'SMRCCS', 0, 22): 0.0,\n",
       " ('HO', 'SMRCCS', 0, 23): 0.0,\n",
       " ('HO', 'WF', 0, 0): 0.0,\n",
       " ('HO', 'WF', 0, 1): 0.0,\n",
       " ('HO', 'WF', 0, 2): 0.0,\n",
       " ('HO', 'WF', 0, 3): 0.0,\n",
       " ('HO', 'WF', 0, 4): 0.0,\n",
       " ('HO', 'WF', 0, 5): 0.0,\n",
       " ('HO', 'WF', 0, 6): 0.0,\n",
       " ('HO', 'WF', 0, 7): 0.0,\n",
       " ('HO', 'WF', 0, 8): 0.0,\n",
       " ('HO', 'WF', 0, 9): 0.0,\n",
       " ('HO', 'WF', 0, 10): 0.0,\n",
       " ('HO', 'WF', 0, 11): 0.0,\n",
       " ('HO', 'WF', 0, 12): 0.0,\n",
       " ('HO', 'WF', 0, 13): 0.0,\n",
       " ('HO', 'WF', 0, 14): 0.0,\n",
       " ('HO', 'WF', 0, 15): 0.0,\n",
       " ('HO', 'WF', 0, 16): 0.0,\n",
       " ('HO', 'WF', 0, 17): 0.0,\n",
       " ('HO', 'WF', 0, 18): 0.0,\n",
       " ('HO', 'WF', 0, 19): 0.0,\n",
       " ('HO', 'WF', 0, 20): 1.2216358839050132,\n",
       " ('HO', 'WF', 0, 21): 3.1846965699208445,\n",
       " ('HO', 'WF', 0, 22): 0.0,\n",
       " ('HO', 'WF', 0, 23): 0.0}"
      ]
     },
     "execution_count": 33,
     "metadata": {},
     "output_type": "execute_result"
    }
   ],
   "source": [
    "results_cost.output['P']"
   ]
  },
  {
   "cell_type": "code",
   "execution_count": 34,
   "metadata": {},
   "outputs": [
    {
     "name": "stdout",
     "output_type": "stream",
     "text": [
      "constraint process capex\n",
      "constraint process fopex\n",
      "constraint process vopex\n",
      "constraint process incidental\n",
      "constraint storage cost\n",
      "constraint storage cost location\n",
      "constraint storage cost network\n",
      "constraint global warming potential process\n",
      "constraint global warming potential resource\n",
      "constraint global warming potential resource consumption\n",
      "constraint global warming potential resource discharge\n",
      "constraint global warming potential location\n",
      "constraint global warming potential network\n",
      "constraint ozone depletion potential process\n",
      "constraint ozone depletion potential resource\n",
      "constraint ozone depletion potential resource consumption\n",
      "constraint ozone depletion potential resource discharge\n",
      "constraint ozone depletion potential location\n",
      "constraint ozone depletion potential network\n",
      "constraint acidification potential process\n",
      "constraint acidification potential resource\n",
      "constraint acidification potential resource consumption\n",
      "constraint acidification potential resource discharge\n",
      "constraint acidification potential location\n",
      "constraint acidification potential network\n",
      "constraint terrestrial eutrophication potential process\n",
      "constraint terrestrial eutrophication potential resource\n",
      "constraint terrestrial eutrophication potential resource consumption\n",
      "constraint terrestrial eutrophication potential resource discharge\n",
      "constraint terrestrial eutrophication potential location\n",
      "constraint terrestrial eutrophication potential network\n",
      "constraint freshwater eutrophication potential process\n",
      "constraint freshwater eutrophication potential resource\n",
      "constraint freshwater eutrophication potential resource consumption\n",
      "constraint freshwater eutrophication potential resource discharge\n",
      "constraint freshwater eutrophication potential location\n",
      "constraint freshwater eutrophication potential network\n",
      "constraint marine eutrophication potential process\n",
      "constraint marine eutrophication potential resource\n",
      "constraint marine eutrophication potential resource consumption\n",
      "constraint marine eutrophication potential resource discharge\n",
      "constraint marine eutrophication potential location\n",
      "constraint marine eutrophication potential network\n",
      "constraint production mode\n",
      "constraint inventory balance\n",
      "constraint inventory network\n",
      "constraint demand\n",
      "constraint network cost\n",
      "objective gwp min\n"
     ]
    }
   ],
   "source": [
    "milp_gwp = formulate(scenario=scenario, constraints={Constraints.COST, Constraints.INVENTORY, Constraints.PRODUCTION,\n",
    "                     Constraints.RESOURCE_BALANCE, Constraints.DEMAND, Constraints.EMISSION}, objective=Objective.MIN_GWP, demand_sign = 'eq')"
   ]
  },
  {
   "cell_type": "code",
   "execution_count": 35,
   "metadata": {},
   "outputs": [],
   "source": [
    "\n",
    "from pyomo.environ import ConstraintList\n",
    "\n",
    "ramping_limit = 1000\n",
    "\n",
    "milp_gwp.cons2 = ConstraintList()\n",
    "for i in scales.scale_iter(1):\n",
    "    if i != (0,0):\n",
    "        milp_gwp.cons2.add(expr = milp_gwp.P['HO', 'SMR', *i] - milp_gwp.P['HO', 'SMR', *scales.scale_iter(2)[scales.scale_iter(1).index(i) - 1]] <= ramping_limit)\n",
    "\n",
    "milp_gwp.cons3 = ConstraintList()\n",
    "for i in scales.scale_iter(1):\n",
    "    if i != (0,0):\n",
    "        milp_gwp.cons3.add(expr = milp_gwp.P['HO', 'SMR', *i] - milp_gwp.P['HO', 'SMR', *scales.scale_iter(2)[scales.scale_iter(1).index(i) - 1]] >= -ramping_limit)"
   ]
  },
  {
   "cell_type": "code",
   "execution_count": 36,
   "metadata": {},
   "outputs": [],
   "source": [
    "# # model.component\n",
    "\n",
    "# from pyomo.environ import ConstraintList\n",
    "# milp_gwp.cons3 = ConstraintList()\n",
    "# for i in scales.scale_iter(2):\n",
    "#     milp_gwp.cons3.add(expr = milp_gwp.P['HO', 'SMRCCS', *i] >= 5)"
   ]
  },
  {
   "cell_type": "code",
   "execution_count": 37,
   "metadata": {},
   "outputs": [
    {
     "name": "stdout",
     "output_type": "stream",
     "text": [
      "Set parameter QCPDual to value 1\n",
      "Gurobi Optimizer version 11.0.1 build v11.0.1rc0 (win64 - Windows 11.0 (22631.2))\n",
      "\n",
      "CPU model: 13th Gen Intel(R) Core(TM) i7-13700, instruction set [SSE2|AVX|AVX2]\n",
      "Thread count: 16 physical cores, 24 logical processors, using up to 24 threads\n",
      "\n",
      "Optimize a model with 1520 rows, 1590 columns and 3899 nonzeros\n",
      "Model fingerprint: 0x23ae9547\n",
      "Coefficient statistics:\n",
      "  Matrix range     [1e-04, 4e+02]\n",
      "  Objective range  [1e+00, 1e+00]\n",
      "  Bounds range     [0e+00, 0e+00]\n",
      "  RHS range        [1e-03, 1e+06]\n",
      "Presolve removed 1448 rows and 1470 columns\n",
      "Presolve time: 0.00s\n",
      "Presolved: 72 rows, 143 columns, 355 nonzeros\n",
      "\n",
      "Iteration    Objective       Primal Inf.    Dual Inf.      Time\n",
      "       0    0.0000000e+00   3.473251e+04   0.000000e+00      0s\n",
      "      56    7.1674892e+05   0.000000e+00   0.000000e+00      0s\n",
      "\n",
      "Solved in 56 iterations and 0.01 seconds (0.00 work units)\n",
      "Optimal objective  7.167489247e+05\n"
     ]
    }
   ],
   "source": [
    "results_gwp = solve(scenario=scenario, instance=milp_gwp,\n",
    "                     solver='gurobi', name=f\"res_gwp\", print_solversteps=True, saveformat = '.pkl')"
   ]
  },
  {
   "cell_type": "code",
   "execution_count": 38,
   "metadata": {},
   "outputs": [],
   "source": [
    "#plot_results.schedule(results = results_gwp, y_axis= 'P', component = 'PEM', location='HO')"
   ]
  },
  {
   "cell_type": "code",
   "execution_count": 39,
   "metadata": {},
   "outputs": [
    {
     "name": "stdout",
     "output_type": "stream",
     "text": [
      "SUMMARY:\n",
      "            number of constraints: 1520\n",
      "            number of variables: 1590\n",
      "            number of binary variables: 0\n",
      "            number of integer variables: 0\n",
      "            number of continuous variables: 1590\n"
     ]
    }
   ],
   "source": [
    "results_gwp.model_summary()"
   ]
  },
  {
   "cell_type": "code",
   "execution_count": 40,
   "metadata": {},
   "outputs": [
    {
     "data": {
      "text/plain": [
       "{None: 710337.5412356658}"
      ]
     },
     "execution_count": 40,
     "metadata": {},
     "output_type": "execute_result"
    }
   ],
   "source": [
    "results_gwp.output['Cost']"
   ]
  },
  {
   "cell_type": "code",
   "execution_count": 41,
   "metadata": {},
   "outputs": [
    {
     "data": {
      "text/plain": [
       "716748.9247404875"
      ]
     },
     "execution_count": 41,
     "metadata": {},
     "output_type": "execute_result"
    }
   ],
   "source": [
    "results_gwp.output['objective']"
   ]
  },
  {
   "cell_type": "code",
   "execution_count": 42,
   "metadata": {},
   "outputs": [
    {
     "data": {
      "text/plain": [
       "{('HO', 'CO2 Captured', 0): 0.0,\n",
       " ('HO', 'CO2 Vented from the process', 0): 112454.2347216015,\n",
       " ('HO', 'CO2 from air', 0): 0.0,\n",
       " ('HO', 'CO2 to Stack', 0): 0.0,\n",
       " ('HO', 'GridPower', 0): 43490.94864669567,\n",
       " ('HO', 'H2O Fresh', 0): 0.0,\n",
       " ('HO', 'H2O from air', 0): 0.0,\n",
       " ('HO', 'H2O to Stack', 0): 0.0,\n",
       " ('HO', 'H2O vented from the process', 0): 0.0,\n",
       " ('HO', 'N2 from Air', 0): 0.0,\n",
       " ('HO', 'N2 to Stack', 0): 0.0,\n",
       " ('HO', 'Natural Gas', 0): 560803.7413721903,\n",
       " ('HO', 'O2 from air', 0): 0.0,\n",
       " ('HO', 'O2 to Stack', 0): 0.0,\n",
       " ('HO', 'Power', 0): 0.0,\n",
       " ('HO', 'Pure Hydrogen', 0): 0.0,\n",
       " ('HO', 'Solar', 0): 0.0,\n",
       " ('HO', 'Wind', 0): 0.0}"
      ]
     },
     "execution_count": 42,
     "metadata": {},
     "output_type": "execute_result"
    }
   ],
   "source": [
    "results_gwp.output['global_warming_potential_resource']"
   ]
  },
  {
   "cell_type": "code",
   "execution_count": 43,
   "metadata": {},
   "outputs": [],
   "source": [
    "#results_scope2.output['P_network']"
   ]
  },
  {
   "cell_type": "code",
   "execution_count": 44,
   "metadata": {},
   "outputs": [
    {
     "data": {
      "text/plain": [
       "{('Grid', 0): 103.39724370380789,\n",
       " ('PEM', 0): 0.3527368928374078,\n",
       " ('PV', 0): 82.40303430079156,\n",
       " ('SMR', 0): 239999.64726310718,\n",
       " ('SMRCCS', 0): 239999.6472631072,\n",
       " ('WF', 0): 303.85467434647774}"
      ]
     },
     "execution_count": 44,
     "metadata": {},
     "output_type": "execute_result"
    }
   ],
   "source": [
    "results_gwp.output['P_network']"
   ]
  },
  {
   "cell_type": "code",
   "execution_count": 45,
   "metadata": {},
   "outputs": [
    {
     "data": {
      "text/plain": [
       "{('HO', 'Grid', 0, 0): 0.0,\n",
       " ('HO', 'Grid', 0, 1): 1.7781214000886134,\n",
       " ('HO', 'Grid', 0, 2): 2.732140008861321,\n",
       " ('HO', 'Grid', 0, 3): 1.0477004873726194,\n",
       " ('HO', 'Grid', 0, 4): 0.46981834293309754,\n",
       " ('HO', 'Grid', 0, 5): 0.0,\n",
       " ('HO', 'Grid', 0, 6): 2.339674984014647,\n",
       " ('HO', 'Grid', 0, 7): 3.141081011349132,\n",
       " ('HO', 'Grid', 0, 8): 7.296253918154461,\n",
       " ('HO', 'Grid', 0, 9): 8.409009975825523,\n",
       " ('HO', 'Grid', 0, 10): 3.6754959128633864,\n",
       " ('HO', 'Grid', 0, 11): 4.372248051913639,\n",
       " ('HO', 'Grid', 0, 12): 6.497438307266961,\n",
       " ('HO', 'Grid', 0, 13): 7.377735804470033,\n",
       " ('HO', 'Grid', 0, 14): 7.698859438593365,\n",
       " ('HO', 'Grid', 0, 15): 5.971052919327008,\n",
       " ('HO', 'Grid', 0, 16): 0.2707565327115802,\n",
       " ('HO', 'Grid', 0, 17): 1.0387528689413976,\n",
       " ('HO', 'Grid', 0, 18): 1.4844984648768822,\n",
       " ('HO', 'Grid', 0, 19): 0.0,\n",
       " ('HO', 'Grid', 0, 20): 1.5070840181190412,\n",
       " ('HO', 'Grid', 0, 21): 9.568159768379441,\n",
       " ('HO', 'Grid', 0, 22): 13.365505732796217,\n",
       " ('HO', 'Grid', 0, 23): 13.355855754949513,\n",
       " ('HO', 'PEM', 0, 0): 0.0,\n",
       " ('HO', 'PEM', 0, 1): 0.0,\n",
       " ('HO', 'PEM', 0, 2): 0.0,\n",
       " ('HO', 'PEM', 0, 3): 0.0,\n",
       " ('HO', 'PEM', 0, 4): 0.0,\n",
       " ('HO', 'PEM', 0, 5): 0.0,\n",
       " ('HO', 'PEM', 0, 6): 0.0,\n",
       " ('HO', 'PEM', 0, 7): 0.0,\n",
       " ('HO', 'PEM', 0, 8): 0.0,\n",
       " ('HO', 'PEM', 0, 9): 0.0,\n",
       " ('HO', 'PEM', 0, 10): 0.0,\n",
       " ('HO', 'PEM', 0, 11): 0.0,\n",
       " ('HO', 'PEM', 0, 12): 0.0,\n",
       " ('HO', 'PEM', 0, 13): 0.0,\n",
       " ('HO', 'PEM', 0, 14): 0.0,\n",
       " ('HO', 'PEM', 0, 15): 0.0,\n",
       " ('HO', 'PEM', 0, 16): 0.0,\n",
       " ('HO', 'PEM', 0, 17): 0.0,\n",
       " ('HO', 'PEM', 0, 18): 0.0,\n",
       " ('HO', 'PEM', 0, 19): 0.3527368928374078,\n",
       " ('HO', 'PEM', 0, 20): 0.0,\n",
       " ('HO', 'PEM', 0, 21): 0.0,\n",
       " ('HO', 'PEM', 0, 22): 0.0,\n",
       " ('HO', 'PEM', 0, 23): 0.0,\n",
       " ('HO', 'PV', 0, 0): 0.0,\n",
       " ('HO', 'PV', 0, 1): 0.0,\n",
       " ('HO', 'PV', 0, 2): 0.0,\n",
       " ('HO', 'PV', 0, 3): 0.0,\n",
       " ('HO', 'PV', 0, 4): 0.0,\n",
       " ('HO', 'PV', 0, 5): 0.0,\n",
       " ('HO', 'PV', 0, 6): 0.0,\n",
       " ('HO', 'PV', 0, 7): 0.02902374670184697,\n",
       " ('HO', 'PV', 0, 8): 1.3199208443271768,\n",
       " ('HO', 'PV', 0, 9): 3.244063324538259,\n",
       " ('HO', 'PV', 0, 10): 3.607519788918206,\n",
       " ('HO', 'PV', 0, 11): 5.183377308707123,\n",
       " ('HO', 'PV', 0, 12): 6.875989445910291,\n",
       " ('HO', 'PV', 0, 13): 7.849604221635884,\n",
       " ('HO', 'PV', 0, 14): 8.967018469656994,\n",
       " ('HO', 'PV', 0, 15): 10.0,\n",
       " ('HO', 'PV', 0, 16): 9.685356200527703,\n",
       " ('HO', 'PV', 0, 17): 9.24934036939314,\n",
       " ('HO', 'PV', 0, 18): 8.470976253298154,\n",
       " ('HO', 'PV', 0, 19): 5.827176781002638,\n",
       " ('HO', 'PV', 0, 20): 2.028364116094987,\n",
       " ('HO', 'PV', 0, 21): 0.06530343007915568,\n",
       " ('HO', 'PV', 0, 22): 0.0,\n",
       " ('HO', 'PV', 0, 23): 0.0,\n",
       " ('HO', 'SMR', 0, 0): 6704.631343011286,\n",
       " ('HO', 'SMR', 0, 1): 5704.631343011286,\n",
       " ('HO', 'SMR', 0, 2): 4704.631343011286,\n",
       " ('HO', 'SMR', 0, 3): 3704.631343011286,\n",
       " ('HO', 'SMR', 0, 4): 2704.631343011286,\n",
       " ('HO', 'SMR', 0, 5): 3575.4775991034426,\n",
       " ('HO', 'SMR', 0, 6): 4438.945163830405,\n",
       " ('HO', 'SMR', 0, 7): 5438.945163830405,\n",
       " ('HO', 'SMR', 0, 8): 6438.945163830405,\n",
       " ('HO', 'SMR', 0, 9): 7438.945163830405,\n",
       " ('HO', 'SMR', 0, 10): 8438.945163830405,\n",
       " ('HO', 'SMR', 0, 11): 9438.945163830405,\n",
       " ('HO', 'SMR', 0, 12): 10438.945163830405,\n",
       " ('HO', 'SMR', 0, 13): 11438.945163830405,\n",
       " ('HO', 'SMR', 0, 14): 12438.945163830405,\n",
       " ('HO', 'SMR', 0, 15): 13438.945163830405,\n",
       " ('HO', 'SMR', 0, 16): 14438.945163830405,\n",
       " ('HO', 'SMR', 0, 17): 15438.945163830405,\n",
       " ('HO', 'SMR', 0, 18): 16438.945163830405,\n",
       " ('HO', 'SMR', 0, 19): 17438.945163830405,\n",
       " ('HO', 'SMR', 0, 20): 16438.945163830405,\n",
       " ('HO', 'SMR', 0, 21): 15438.945163830405,\n",
       " ('HO', 'SMR', 0, 22): 14438.945163830405,\n",
       " ('HO', 'SMR', 0, 23): 13438.945163830405,\n",
       " ('HO', 'SMRCCS', 0, 0): 6704.631343011286,\n",
       " ('HO', 'SMRCCS', 0, 1): 5704.631343011286,\n",
       " ('HO', 'SMRCCS', 0, 2): 4704.631343011286,\n",
       " ('HO', 'SMRCCS', 0, 3): 3704.631343011286,\n",
       " ('HO', 'SMRCCS', 0, 4): 2704.631343011286,\n",
       " ('HO', 'SMRCCS', 0, 5): 3575.4775991034426,\n",
       " ('HO', 'SMRCCS', 0, 6): 4438.945163830405,\n",
       " ('HO', 'SMRCCS', 0, 7): 5438.945163830405,\n",
       " ('HO', 'SMRCCS', 0, 8): 6438.945163830405,\n",
       " ('HO', 'SMRCCS', 0, 9): 7438.945163830405,\n",
       " ('HO', 'SMRCCS', 0, 10): 8438.945163830405,\n",
       " ('HO', 'SMRCCS', 0, 11): 9438.945163830405,\n",
       " ('HO', 'SMRCCS', 0, 12): 10438.945163830405,\n",
       " ('HO', 'SMRCCS', 0, 13): 11438.945163830405,\n",
       " ('HO', 'SMRCCS', 0, 14): 12438.945163830405,\n",
       " ('HO', 'SMRCCS', 0, 15): 13438.945163830405,\n",
       " ('HO', 'SMRCCS', 0, 16): 14438.945163830407,\n",
       " ('HO', 'SMRCCS', 0, 17): 15438.945163830405,\n",
       " ('HO', 'SMRCCS', 0, 18): 16438.945163830405,\n",
       " ('HO', 'SMRCCS', 0, 19): 17438.945163830405,\n",
       " ('HO', 'SMRCCS', 0, 20): 16438.945163830405,\n",
       " ('HO', 'SMRCCS', 0, 21): 15438.945163830405,\n",
       " ('HO', 'SMRCCS', 0, 22): 14438.945163830407,\n",
       " ('HO', 'SMRCCS', 0, 23): 13438.945163830405,\n",
       " ('HO', 'WF', 0, 0): 13.677447939743024,\n",
       " ('HO', 'WF', 0, 1): 9.85932653965441,\n",
       " ('HO', 'WF', 0, 2): 6.865307930881702,\n",
       " ('HO', 'WF', 0, 3): 6.509747452370403,\n",
       " ('HO', 'WF', 0, 4): 5.047629596809926,\n",
       " ('HO', 'WF', 0, 5): 7.293974302171024,\n",
       " ('HO', 'WF', 0, 6): 6.71577315019938,\n",
       " ('HO', 'WF', 0, 7): 7.925343376163048,\n",
       " ('HO', 'WF', 0, 8): 4.519273371732388,\n",
       " ('HO', 'WF', 0, 9): 3.522374833850244,\n",
       " ('HO', 'WF', 0, 10): 9.932432432432433,\n",
       " ('HO', 'WF', 0, 11): 9.699822773593265,\n",
       " ('HO', 'WF', 0, 12): 7.922020381036775,\n",
       " ('HO', 'WF', 0, 13): 8.108108108108109,\n",
       " ('HO', 'WF', 0, 14): 8.709570225963668,\n",
       " ('HO', 'WF', 0, 15): 11.444395214887018,\n",
       " ('HO', 'WF', 0, 16): 19.499335400974743,\n",
       " ('HO', 'WF', 0, 17): 21.20735489587949,\n",
       " ('HO', 'WF', 0, 18): 23.579973416038992,\n",
       " ('HO', 'WF', 0, 19): 29.803943287549846,\n",
       " ('HO', 'WF', 0, 20): 30.0,\n",
       " ('HO', 'WF', 0, 21): 21.86198493575543,\n",
       " ('HO', 'WF', 0, 22): 16.08994240141781,\n",
       " ('HO', 'WF', 0, 23): 14.059592379264512}"
      ]
     },
     "execution_count": 45,
     "metadata": {},
     "output_type": "execute_result"
    }
   ],
   "source": [
    "results_gwp.output['P']"
   ]
  },
  {
   "cell_type": "code",
   "execution_count": 46,
   "metadata": {},
   "outputs": [],
   "source": [
    "# data = results_gwp.output['P']\n",
    "# df = pd.DataFrame(data,index=[0])\n",
    "# df = df.T\n",
    "# # Export the DataFrame to an Excel file\n",
    "# df.to_excel('C:/Users/marcopdsousa/Desktop/Dataframes/ScopeFormulation/mingwpP.xlsx', index=True)"
   ]
  },
  {
   "cell_type": "code",
   "execution_count": 47,
   "metadata": {},
   "outputs": [
    {
     "name": "stdout",
     "output_type": "stream",
     "text": [
      "constraint process capex\n",
      "constraint process fopex\n",
      "constraint process vopex\n",
      "constraint process incidental\n",
      "constraint storage cost\n",
      "constraint storage cost location\n",
      "constraint storage cost network\n",
      "constraint global warming potential process scope1\n",
      "constraint global warming potential resource scope1\n",
      "constraint global warming potential resource consumption scope1\n",
      "constraint global warming potential resource discharge scope1\n",
      "constraint global warming potential location scope1\n",
      "constraint global warming potential network scope1\n",
      "constraint production mode\n",
      "constraint inventory balance\n",
      "constraint inventory network\n",
      "constraint storage facility\n",
      "constraint production facility\n",
      "constraint min production facility\n",
      "constraint min storage facility\n",
      "constraint demand\n",
      "constraint network cost\n",
      "objective gwp scope1 min\n"
     ]
    }
   ],
   "source": [
    "#, Constraints.MODE\n",
    "\n",
    "milp_scope1 = formulate(scenario=scenario, constraints={Constraints.COST, Constraints.INVENTORY, Constraints.PRODUCTION,\n",
    "                      Constraints.RESOURCE_BALANCE, Constraints.NETWORK, Constraints.DEMAND, Constraints.SCOPEONE}, objective=Objective.MIN_ScopeONE_GWP, demand_sign = 'eq')\n",
    "\n",
    "#, Constraints.SCOPEONE\n",
    "\n",
    "#, Constraints.EMISSION"
   ]
  },
  {
   "cell_type": "markdown",
   "metadata": {},
   "source": []
  },
  {
   "cell_type": "code",
   "execution_count": 48,
   "metadata": {},
   "outputs": [],
   "source": [
    "# # model.component\n",
    "\n",
    "# from pyomo.environ import ConstraintList\n",
    "# milp_scope1.cons1 = ConstraintList()\n",
    "# for i in scales.scale_iter(2):\n",
    "#     milp_scope1.cons1.add(expr = milp_scope1.P['HO', 'SMR', *i] >= 5)"
   ]
  },
  {
   "cell_type": "code",
   "execution_count": 49,
   "metadata": {},
   "outputs": [],
   "source": [
    "# model.component\n",
    "\n",
    "from pyomo.environ import ConstraintList\n",
    "\n",
    "ramping_limit = 1000\n",
    "\n",
    "milp_scope1.cons2 = ConstraintList()\n",
    "for i in scales.scale_iter(1):\n",
    "    if i != (0,0):\n",
    "        milp_scope1.cons2.add(expr = milp_scope1.P['HO', 'SMR', *i] - milp_scope1.P['HO', 'SMR', *scales.scale_iter(2)[scales.scale_iter(1).index(i) - 1]] <= ramping_limit)\n",
    "\n",
    "milp_scope1.cons3 = ConstraintList()\n",
    "for i in scales.scale_iter(1):\n",
    "    if i != (0,0):\n",
    "        milp_scope1.cons3.add(expr = milp_scope1.P['HO', 'SMR', *i] - milp_scope1.P['HO', 'SMR', *scales.scale_iter(2)[scales.scale_iter(1).index(i) - 1]] >= -ramping_limit)"
   ]
  },
  {
   "attachments": {},
   "cell_type": "markdown",
   "metadata": {},
   "source": [
    "## Optimize to minimize cost"
   ]
  },
  {
   "cell_type": "code",
   "execution_count": 50,
   "metadata": {},
   "outputs": [
    {
     "name": "stdout",
     "output_type": "stream",
     "text": [
      "Set parameter QCPDual to value 1\n",
      "Gurobi Optimizer version 11.0.1 build v11.0.1rc0 (win64 - Windows 11.0 (22631.2))\n",
      "\n",
      "CPU model: 13th Gen Intel(R) Core(TM) i7-13700, instruction set [SSE2|AVX|AVX2]\n",
      "Thread count: 16 physical cores, 24 logical processors, using up to 24 threads\n",
      "\n",
      "Optimize a model with 1296 rows, 1596 columns and 3430 nonzeros\n",
      "Model fingerprint: 0x18412c2f\n",
      "Variable types: 1590 continuous, 6 integer (6 binary)\n",
      "Coefficient statistics:\n",
      "  Matrix range     [1e-04, 1e+06]\n",
      "  Objective range  [1e+00, 1e+00]\n",
      "  Bounds range     [1e+00, 1e+00]\n",
      "  RHS range        [1e+01, 1e+06]\n",
      "Presolve removed 1296 rows and 1596 columns\n",
      "Presolve time: 0.00s\n",
      "Presolve: All rows and columns removed\n",
      "\n",
      "Explored 0 nodes (0 simplex iterations) in 0.01 seconds (0.00 work units)\n",
      "Thread count was 1 (of 24 available processors)\n",
      "\n",
      "Solution count 1: 112244 \n",
      "\n",
      "Optimal solution found (tolerance 1.00e-04)\n",
      "Best objective 1.122435480000e+05, best bound 1.122435480000e+05, gap 0.0000%\n",
      "WARNING: Cannot get duals for MIP.\n"
     ]
    }
   ],
   "source": [
    "results_scope1 = solve(scenario=scenario, instance=milp_scope1,\n",
    "                     solver='gurobi', name=f\"res_scope1\", print_solversteps=True, saveformat = '.pkl')\n"
   ]
  },
  {
   "cell_type": "code",
   "execution_count": 51,
   "metadata": {},
   "outputs": [],
   "source": [
    "#plot_results.schedule(results = results_scope1, y_axis= 'P', component = 'PEM', location='HO')"
   ]
  },
  {
   "cell_type": "code",
   "execution_count": 52,
   "metadata": {},
   "outputs": [
    {
     "data": {
      "text/plain": [
       "{('Grid', 0): 559.7048245504898,\n",
       " ('PEM', 0): 450.0000000031432,\n",
       " ('PV', 0): 0.0,\n",
       " ('SMR', 0): 239549.9999999968,\n",
       " ('SMRCCS', 0): 239549.9999999968,\n",
       " ('WF', 0): 0.0}"
      ]
     },
     "execution_count": 52,
     "metadata": {},
     "output_type": "execute_result"
    }
   ],
   "source": [
    "results_scope1.output['P_network']"
   ]
  },
  {
   "cell_type": "code",
   "execution_count": 53,
   "metadata": {},
   "outputs": [
    {
     "data": {
      "text/plain": [
       "{None: 711541.8767495297}"
      ]
     },
     "execution_count": 53,
     "metadata": {},
     "output_type": "execute_result"
    }
   ],
   "source": [
    "results_scope1.output['Cost']"
   ]
  },
  {
   "cell_type": "code",
   "execution_count": 54,
   "metadata": {},
   "outputs": [
    {
     "data": {
      "text/plain": [
       "112243.54799999854"
      ]
     },
     "execution_count": 54,
     "metadata": {},
     "output_type": "execute_result"
    }
   ],
   "source": [
    "results_scope1.output['objective']"
   ]
  },
  {
   "cell_type": "code",
   "execution_count": 55,
   "metadata": {},
   "outputs": [
    {
     "data": {
      "text/plain": [
       "{('HO', 'Grid', 0, 0): 23.32103435624973,\n",
       " ('HO', 'Grid', 0, 1): 23.321034356249733,\n",
       " ('HO', 'Grid', 0, 2): 23.321034356249733,\n",
       " ('HO', 'Grid', 0, 3): 23.321034356249733,\n",
       " ('HO', 'Grid', 0, 4): 23.32103435674582,\n",
       " ('HO', 'Grid', 0, 5): 23.321034356249736,\n",
       " ('HO', 'Grid', 0, 6): 23.321034356249733,\n",
       " ('HO', 'Grid', 0, 7): 23.321034356249733,\n",
       " ('HO', 'Grid', 0, 8): 23.321034356249733,\n",
       " ('HO', 'Grid', 0, 9): 23.321034356249736,\n",
       " ('HO', 'Grid', 0, 10): 23.321034356249733,\n",
       " ('HO', 'Grid', 0, 11): 23.321034356249733,\n",
       " ('HO', 'Grid', 0, 12): 23.32103435624973,\n",
       " ('HO', 'Grid', 0, 13): 23.321034356249733,\n",
       " ('HO', 'Grid', 0, 14): 23.321034356249736,\n",
       " ('HO', 'Grid', 0, 15): 23.321034356249733,\n",
       " ('HO', 'Grid', 0, 16): 23.321034356249733,\n",
       " ('HO', 'Grid', 0, 17): 23.321034356249733,\n",
       " ('HO', 'Grid', 0, 18): 23.32103435624973,\n",
       " ('HO', 'Grid', 0, 19): 23.321034356249733,\n",
       " ('HO', 'Grid', 0, 20): 23.321034356249733,\n",
       " ('HO', 'Grid', 0, 21): 23.321034356249736,\n",
       " ('HO', 'Grid', 0, 22): 23.321034356249733,\n",
       " ('HO', 'Grid', 0, 23): 23.321034356249733,\n",
       " ('HO', 'PEM', 0, 0): 18.75,\n",
       " ('HO', 'PEM', 0, 1): 18.75,\n",
       " ('HO', 'PEM', 0, 2): 18.75,\n",
       " ('HO', 'PEM', 0, 3): 18.75,\n",
       " ('HO', 'PEM', 0, 4): 18.750000003143214,\n",
       " ('HO', 'PEM', 0, 5): 18.75,\n",
       " ('HO', 'PEM', 0, 6): 18.75,\n",
       " ('HO', 'PEM', 0, 7): 18.75,\n",
       " ('HO', 'PEM', 0, 8): 18.75,\n",
       " ('HO', 'PEM', 0, 9): 18.75,\n",
       " ('HO', 'PEM', 0, 10): 18.75,\n",
       " ('HO', 'PEM', 0, 11): 18.75,\n",
       " ('HO', 'PEM', 0, 12): 18.75,\n",
       " ('HO', 'PEM', 0, 13): 18.75,\n",
       " ('HO', 'PEM', 0, 14): 18.75,\n",
       " ('HO', 'PEM', 0, 15): 18.75,\n",
       " ('HO', 'PEM', 0, 16): 18.75,\n",
       " ('HO', 'PEM', 0, 17): 18.75,\n",
       " ('HO', 'PEM', 0, 18): 18.75,\n",
       " ('HO', 'PEM', 0, 19): 18.75,\n",
       " ('HO', 'PEM', 0, 20): 18.75,\n",
       " ('HO', 'PEM', 0, 21): 18.75,\n",
       " ('HO', 'PEM', 0, 22): 18.75,\n",
       " ('HO', 'PEM', 0, 23): 18.75,\n",
       " ('HO', 'PV', 0, 0): 0.0,\n",
       " ('HO', 'PV', 0, 1): 0.0,\n",
       " ('HO', 'PV', 0, 2): 0.0,\n",
       " ('HO', 'PV', 0, 3): 0.0,\n",
       " ('HO', 'PV', 0, 4): 0.0,\n",
       " ('HO', 'PV', 0, 5): 0.0,\n",
       " ('HO', 'PV', 0, 6): 0.0,\n",
       " ('HO', 'PV', 0, 7): 0.0,\n",
       " ('HO', 'PV', 0, 8): 0.0,\n",
       " ('HO', 'PV', 0, 9): 0.0,\n",
       " ('HO', 'PV', 0, 10): 0.0,\n",
       " ('HO', 'PV', 0, 11): 0.0,\n",
       " ('HO', 'PV', 0, 12): 0.0,\n",
       " ('HO', 'PV', 0, 13): 0.0,\n",
       " ('HO', 'PV', 0, 14): 0.0,\n",
       " ('HO', 'PV', 0, 15): 0.0,\n",
       " ('HO', 'PV', 0, 16): 0.0,\n",
       " ('HO', 'PV', 0, 17): 0.0,\n",
       " ('HO', 'PV', 0, 18): 0.0,\n",
       " ('HO', 'PV', 0, 19): 0.0,\n",
       " ('HO', 'PV', 0, 20): 0.0,\n",
       " ('HO', 'PV', 0, 21): 0.0,\n",
       " ('HO', 'PV', 0, 22): 0.0,\n",
       " ('HO', 'PV', 0, 23): 0.0,\n",
       " ('HO', 'SMR', 0, 0): 9981.249999999869,\n",
       " ('HO', 'SMR', 0, 1): 9981.249999999869,\n",
       " ('HO', 'SMR', 0, 2): 9981.249999999869,\n",
       " ('HO', 'SMR', 0, 3): 9981.249999999869,\n",
       " ('HO', 'SMR', 0, 4): 9981.249999999869,\n",
       " ('HO', 'SMR', 0, 5): 9981.249999999869,\n",
       " ('HO', 'SMR', 0, 6): 9981.249999999869,\n",
       " ('HO', 'SMR', 0, 7): 9981.249999999869,\n",
       " ('HO', 'SMR', 0, 8): 9981.249999999869,\n",
       " ('HO', 'SMR', 0, 9): 9981.249999999869,\n",
       " ('HO', 'SMR', 0, 10): 9981.249999999869,\n",
       " ('HO', 'SMR', 0, 11): 9981.249999999869,\n",
       " ('HO', 'SMR', 0, 12): 9981.249999999869,\n",
       " ('HO', 'SMR', 0, 13): 9981.249999999869,\n",
       " ('HO', 'SMR', 0, 14): 9981.249999999869,\n",
       " ('HO', 'SMR', 0, 15): 9981.249999999869,\n",
       " ('HO', 'SMR', 0, 16): 9981.249999999869,\n",
       " ('HO', 'SMR', 0, 17): 9981.249999999869,\n",
       " ('HO', 'SMR', 0, 18): 9981.249999999869,\n",
       " ('HO', 'SMR', 0, 19): 9981.249999999869,\n",
       " ('HO', 'SMR', 0, 20): 9981.249999999869,\n",
       " ('HO', 'SMR', 0, 21): 9981.249999999869,\n",
       " ('HO', 'SMR', 0, 22): 9981.249999999869,\n",
       " ('HO', 'SMR', 0, 23): 9981.249999999869,\n",
       " ('HO', 'SMRCCS', 0, 0): 9981.249999999869,\n",
       " ('HO', 'SMRCCS', 0, 1): 9981.249999999869,\n",
       " ('HO', 'SMRCCS', 0, 2): 9981.249999999869,\n",
       " ('HO', 'SMRCCS', 0, 3): 9981.249999999869,\n",
       " ('HO', 'SMRCCS', 0, 4): 9981.249999999869,\n",
       " ('HO', 'SMRCCS', 0, 5): 9981.249999999869,\n",
       " ('HO', 'SMRCCS', 0, 6): 9981.249999999869,\n",
       " ('HO', 'SMRCCS', 0, 7): 9981.249999999869,\n",
       " ('HO', 'SMRCCS', 0, 8): 9981.249999999869,\n",
       " ('HO', 'SMRCCS', 0, 9): 9981.249999999869,\n",
       " ('HO', 'SMRCCS', 0, 10): 9981.249999999869,\n",
       " ('HO', 'SMRCCS', 0, 11): 9981.249999999869,\n",
       " ('HO', 'SMRCCS', 0, 12): 9981.249999999869,\n",
       " ('HO', 'SMRCCS', 0, 13): 9981.249999999869,\n",
       " ('HO', 'SMRCCS', 0, 14): 9981.249999999869,\n",
       " ('HO', 'SMRCCS', 0, 15): 9981.249999999869,\n",
       " ('HO', 'SMRCCS', 0, 16): 9981.249999999869,\n",
       " ('HO', 'SMRCCS', 0, 17): 9981.249999999869,\n",
       " ('HO', 'SMRCCS', 0, 18): 9981.249999999869,\n",
       " ('HO', 'SMRCCS', 0, 19): 9981.249999999869,\n",
       " ('HO', 'SMRCCS', 0, 20): 9981.249999999869,\n",
       " ('HO', 'SMRCCS', 0, 21): 9981.249999999869,\n",
       " ('HO', 'SMRCCS', 0, 22): 9981.249999999869,\n",
       " ('HO', 'SMRCCS', 0, 23): 9981.249999999869,\n",
       " ('HO', 'WF', 0, 0): 0.0,\n",
       " ('HO', 'WF', 0, 1): 0.0,\n",
       " ('HO', 'WF', 0, 2): 0.0,\n",
       " ('HO', 'WF', 0, 3): 0.0,\n",
       " ('HO', 'WF', 0, 4): 0.0,\n",
       " ('HO', 'WF', 0, 5): 0.0,\n",
       " ('HO', 'WF', 0, 6): 0.0,\n",
       " ('HO', 'WF', 0, 7): 0.0,\n",
       " ('HO', 'WF', 0, 8): 0.0,\n",
       " ('HO', 'WF', 0, 9): 0.0,\n",
       " ('HO', 'WF', 0, 10): 0.0,\n",
       " ('HO', 'WF', 0, 11): 0.0,\n",
       " ('HO', 'WF', 0, 12): 0.0,\n",
       " ('HO', 'WF', 0, 13): 0.0,\n",
       " ('HO', 'WF', 0, 14): 0.0,\n",
       " ('HO', 'WF', 0, 15): 0.0,\n",
       " ('HO', 'WF', 0, 16): 0.0,\n",
       " ('HO', 'WF', 0, 17): 0.0,\n",
       " ('HO', 'WF', 0, 18): 0.0,\n",
       " ('HO', 'WF', 0, 19): 0.0,\n",
       " ('HO', 'WF', 0, 20): 0.0,\n",
       " ('HO', 'WF', 0, 21): 0.0,\n",
       " ('HO', 'WF', 0, 22): 0.0,\n",
       " ('HO', 'WF', 0, 23): 0.0}"
      ]
     },
     "execution_count": 55,
     "metadata": {},
     "output_type": "execute_result"
    }
   ],
   "source": [
    "results_scope1.output['P']"
   ]
  },
  {
   "cell_type": "code",
   "execution_count": null,
   "metadata": {},
   "outputs": [],
   "source": [
    "# data = results_scope1.output['P']\n",
    "# df = pd.DataFrame(data,index=[0])\n",
    "# df = df.T\n",
    "# # Export the DataFrame to an Excel file\n",
    "# df.to_excel('C:/Users/marcopdsousa/Desktop/Dataframes/ScopeFormulation/minscope1.xlsx', index=True)"
   ]
  },
  {
   "cell_type": "code",
   "execution_count": 56,
   "metadata": {},
   "outputs": [
    {
     "name": "stdout",
     "output_type": "stream",
     "text": [
      "constraint process capex\n",
      "constraint process fopex\n",
      "constraint process vopex\n",
      "constraint process incidental\n",
      "constraint storage cost\n",
      "constraint storage cost location\n",
      "constraint storage cost network\n",
      "constraint global warming potential process scope2\n",
      "constraint global warming potential resource scope2\n",
      "constraint global warming potential resource consumption scope2\n",
      "constraint global warming potential resource discharge scope2\n",
      "constraint global warming potential location scope2\n",
      "constraint global warming potential network scope2\n",
      "constraint production mode\n",
      "constraint inventory balance\n",
      "constraint inventory network\n",
      "constraint storage facility\n",
      "constraint production facility\n",
      "constraint min production facility\n",
      "constraint min storage facility\n",
      "constraint demand\n",
      "constraint network cost\n",
      "objective gwp scope2 min\n"
     ]
    }
   ],
   "source": [
    "#, Constraints.MODE\n",
    "\n",
    "milp_scope2 = formulate(scenario=scenario, constraints={Constraints.COST, Constraints.INVENTORY, Constraints.PRODUCTION,\n",
    "                      Constraints.RESOURCE_BALANCE, Constraints.NETWORK, Constraints.DEMAND, Constraints.SCOPETWO}, objective=Objective.MIN_ScopeTWO_GWP, demand_sign = 'eq')\n",
    "\n",
    "#, Constraints.SCOPEONE\n",
    "\n",
    "#, Constraints.EMISSION"
   ]
  },
  {
   "cell_type": "code",
   "execution_count": 57,
   "metadata": {},
   "outputs": [],
   "source": [
    "# # model.component\n",
    "\n",
    "# from pyomo.environ import ConstraintList\n",
    "# milp_scope2.cons1 = ConstraintList()\n",
    "# for i in scales.scale_iter(2):\n",
    "#     milp_scope2.cons1.add(expr = milp_scope2.P['HO', 'SMR', *i] >= 5)"
   ]
  },
  {
   "cell_type": "code",
   "execution_count": 58,
   "metadata": {},
   "outputs": [],
   "source": [
    "# model.component\n",
    "\n",
    "from pyomo.environ import ConstraintList\n",
    "\n",
    "ramping_limit = 1000\n",
    "\n",
    "milp_scope2.cons2 = ConstraintList()\n",
    "for i in scales.scale_iter(1):\n",
    "    if i != (0,0):\n",
    "        milp_scope2.cons2.add(expr = milp_scope2.P['HO', 'SMR', *i] - milp_scope2.P['HO', 'SMR', *scales.scale_iter(2)[scales.scale_iter(1).index(i) - 1]] <= ramping_limit)\n",
    "\n",
    "milp_scope2.cons3 = ConstraintList()\n",
    "for i in scales.scale_iter(1):\n",
    "    if i != (0,0):\n",
    "        milp_scope2.cons3.add(expr = milp_scope2.P['HO', 'SMR', *i] - milp_scope2.P['HO', 'SMR', *scales.scale_iter(2)[scales.scale_iter(1).index(i) - 1]] >= -ramping_limit)"
   ]
  },
  {
   "cell_type": "code",
   "execution_count": 59,
   "metadata": {},
   "outputs": [
    {
     "name": "stdout",
     "output_type": "stream",
     "text": [
      "Set parameter QCPDual to value 1\n",
      "Gurobi Optimizer version 11.0.1 build v11.0.1rc0 (win64 - Windows 11.0 (22631.2))\n",
      "\n",
      "CPU model: 13th Gen Intel(R) Core(TM) i7-13700, instruction set [SSE2|AVX|AVX2]\n",
      "Thread count: 16 physical cores, 24 logical processors, using up to 24 threads\n",
      "\n",
      "Optimize a model with 1297 rows, 1596 columns and 3431 nonzeros\n",
      "Model fingerprint: 0x130014d5\n",
      "Variable types: 1590 continuous, 6 integer (6 binary)\n",
      "Coefficient statistics:\n",
      "  Matrix range     [1e-04, 1e+06]\n",
      "  Objective range  [1e+00, 1e+00]\n",
      "  Bounds range     [1e+00, 1e+00]\n",
      "  RHS range        [1e+01, 1e+06]\n",
      "Presolve removed 1178 rows and 1476 columns\n",
      "Presolve time: 0.00s\n",
      "Presolved: 119 rows, 120 columns, 356 nonzeros\n",
      "Variable types: 120 continuous, 0 integer (0 binary)\n",
      "\n",
      "Root relaxation: objective 0.000000e+00, 73 iterations, 0.00 seconds (0.00 work units)\n",
      "\n",
      "    Nodes    |    Current Node    |     Objective Bounds      |     Work\n",
      " Expl Unexpl |  Obj  Depth IntInf | Incumbent    BestBd   Gap | It/Node Time\n",
      "\n",
      "*    0     0               0       0.0000000    0.00000  0.00%     -    0s\n",
      "\n",
      "Explored 1 nodes (73 simplex iterations) in 0.01 seconds (0.00 work units)\n",
      "Thread count was 24 (of 24 available processors)\n",
      "\n",
      "Solution count 1: 0 \n",
      "\n",
      "Optimal solution found (tolerance 1.00e-04)\n",
      "Best objective 0.000000000000e+00, best bound 0.000000000000e+00, gap 0.0000%\n",
      "WARNING: Cannot get duals for MIP.\n"
     ]
    }
   ],
   "source": [
    "results_scope2 = solve(scenario=scenario, instance=milp_scope2,\n",
    "                     solver='gurobi', name=f\"res_scope2\", print_solversteps=True, saveformat = '.pkl')"
   ]
  },
  {
   "cell_type": "code",
   "execution_count": 60,
   "metadata": {},
   "outputs": [
    {
     "data": {
      "text/plain": [
       "{('CO2 from air', 0): 2806.3653626164087,\n",
       " ('GridPower', 0): 0.0,\n",
       " ('H2O Fresh', 0): 4026129.070357647,\n",
       " ('H2O from air', 0): 37913.49277249496,\n",
       " ('N2 from Air', 0): 4604596.09377405,\n",
       " ('Natural Gas', 0): 847227.3236466731,\n",
       " ('O2 from air', 0): 1410890.0006986184,\n",
       " ('Solar', 0): 21.626653131124236,\n",
       " ('Wind', 0): 188.52861996554748}"
      ]
     },
     "execution_count": 60,
     "metadata": {},
     "output_type": "execute_result"
    }
   ],
   "source": [
    "results_scope2.output['C_network']"
   ]
  },
  {
   "cell_type": "code",
   "execution_count": 61,
   "metadata": {},
   "outputs": [
    {
     "data": {
      "text/plain": [
       "{('HO', 'CO2 Captured', 0): 0.0,\n",
       " ('HO', 'CO2 Vented from the process', 0): 0.0,\n",
       " ('HO', 'CO2 from air', 0): 0.0,\n",
       " ('HO', 'CO2 to Stack', 0): 0.0,\n",
       " ('HO', 'GridPower', 0): 0.0,\n",
       " ('HO', 'H2O Fresh', 0): 0.0,\n",
       " ('HO', 'H2O from air', 0): 0.0,\n",
       " ('HO', 'H2O to Stack', 0): 0.0,\n",
       " ('HO', 'H2O vented from the process', 0): 0.0,\n",
       " ('HO', 'N2 from Air', 0): 0.0,\n",
       " ('HO', 'N2 to Stack', 0): 0.0,\n",
       " ('HO', 'Natural Gas', 0): 0.0,\n",
       " ('HO', 'O2 from air', 0): 0.0,\n",
       " ('HO', 'O2 to Stack', 0): 0.0,\n",
       " ('HO', 'Power', 0): 0.0,\n",
       " ('HO', 'Pure Hydrogen', 0): 0.0,\n",
       " ('HO', 'Solar', 0): 0.0,\n",
       " ('HO', 'Wind', 0): 0.0}"
      ]
     },
     "execution_count": 61,
     "metadata": {},
     "output_type": "execute_result"
    }
   ],
   "source": [
    "results_scope2.output['global_warming_potential_resource_scope2']"
   ]
  },
  {
   "cell_type": "code",
   "execution_count": null,
   "metadata": {},
   "outputs": [],
   "source": [
    "#plot_results.schedule(results = results_scope2, y_axis= 'P', component = 'PEM', location='HO')"
   ]
  },
  {
   "cell_type": "code",
   "execution_count": null,
   "metadata": {},
   "outputs": [],
   "source": [
    "plot_results.schedule(results = results_scope2, y_axis= 'P', component = 'SMR', location='HO')"
   ]
  },
  {
   "cell_type": "code",
   "execution_count": 62,
   "metadata": {},
   "outputs": [
    {
     "data": {
      "text/plain": [
       "{('HO', 'Grid', 0, 0): 0.0,\n",
       " ('HO', 'Grid', 0, 1): 0.0,\n",
       " ('HO', 'Grid', 0, 2): 0.0,\n",
       " ('HO', 'Grid', 0, 3): 0.0,\n",
       " ('HO', 'Grid', 0, 4): 0.0,\n",
       " ('HO', 'Grid', 0, 5): 0.0,\n",
       " ('HO', 'Grid', 0, 6): 0.0,\n",
       " ('HO', 'Grid', 0, 7): 0.0,\n",
       " ('HO', 'Grid', 0, 8): 0.0,\n",
       " ('HO', 'Grid', 0, 9): 0.0,\n",
       " ('HO', 'Grid', 0, 10): 0.0,\n",
       " ('HO', 'Grid', 0, 11): 0.0,\n",
       " ('HO', 'Grid', 0, 12): 0.0,\n",
       " ('HO', 'Grid', 0, 13): 0.0,\n",
       " ('HO', 'Grid', 0, 14): 0.0,\n",
       " ('HO', 'Grid', 0, 15): 0.0,\n",
       " ('HO', 'Grid', 0, 16): 0.0,\n",
       " ('HO', 'Grid', 0, 17): 0.0,\n",
       " ('HO', 'Grid', 0, 18): 0.0,\n",
       " ('HO', 'Grid', 0, 19): 0.0,\n",
       " ('HO', 'Grid', 0, 20): 0.0,\n",
       " ('HO', 'Grid', 0, 21): 0.0,\n",
       " ('HO', 'Grid', 0, 22): 0.0,\n",
       " ('HO', 'Grid', 0, 23): 0.0,\n",
       " ('HO', 'PEM', 0, 0): 18.75,\n",
       " ('HO', 'PEM', 0, 1): 18.13168699554371,\n",
       " ('HO', 'PEM', 0, 2): 3.28000543217341,\n",
       " ('HO', 'PEM', 0, 3): 5.145571685126887,\n",
       " ('HO', 'PEM', 0, 4): 0.0,\n",
       " ('HO', 'PEM', 0, 5): 10.114426199802468,\n",
       " ('HO', 'PEM', 0, 6): 10.569343077826856,\n",
       " ('HO', 'PEM', 0, 7): 14.298669380711587,\n",
       " ('HO', 'PEM', 0, 8): 0.0,\n",
       " ('HO', 'PEM', 0, 9): 1.7566152126235262,\n",
       " ('HO', 'PEM', 0, 10): 18.75,\n",
       " ('HO', 'PEM', 0, 11): 18.75,\n",
       " ('HO', 'PEM', 0, 12): 18.75,\n",
       " ('HO', 'PEM', 0, 13): 18.75,\n",
       " ('HO', 'PEM', 0, 14): 18.75,\n",
       " ('HO', 'PEM', 0, 15): 18.75,\n",
       " ('HO', 'PEM', 0, 16): 18.75,\n",
       " ('HO', 'PEM', 0, 17): 18.75,\n",
       " ('HO', 'PEM', 0, 18): 18.75,\n",
       " ('HO', 'PEM', 0, 19): 18.75,\n",
       " ('HO', 'PEM', 0, 20): 18.75,\n",
       " ('HO', 'PEM', 0, 21): 18.75,\n",
       " ('HO', 'PEM', 0, 22): 18.75,\n",
       " ('HO', 'PEM', 0, 23): 18.75,\n",
       " ('HO', 'PV', 0, 0): 0.0,\n",
       " ('HO', 'PV', 0, 1): 0.0,\n",
       " ('HO', 'PV', 0, 2): 0.0,\n",
       " ('HO', 'PV', 0, 3): 0.0,\n",
       " ('HO', 'PV', 0, 4): 0.0,\n",
       " ('HO', 'PV', 0, 5): 0.0,\n",
       " ('HO', 'PV', 0, 6): 0.0,\n",
       " ('HO', 'PV', 0, 7): 0.029023746701846723,\n",
       " ('HO', 'PV', 0, 8): 1.3199208443271766,\n",
       " ('HO', 'PV', 0, 9): 3.244063324538259,\n",
       " ('HO', 'PV', 0, 10): 0.0,\n",
       " ('HO', 'PV', 0, 11): 0.0,\n",
       " ('HO', 'PV', 0, 12): 0.21702252426407903,\n",
       " ('HO', 'PV', 0, 13): 7.849604221635884,\n",
       " ('HO', 'PV', 0, 14): 8.967018469656994,\n",
       " ('HO', 'PV', 0, 15): 0.0,\n",
       " ('HO', 'PV', 0, 16): 0.0,\n",
       " ('HO', 'PV', 0, 17): 0.0,\n",
       " ('HO', 'PV', 0, 18): 0.0,\n",
       " ('HO', 'PV', 0, 19): 0.0,\n",
       " ('HO', 'PV', 0, 20): 0.0,\n",
       " ('HO', 'PV', 0, 21): 0.0,\n",
       " ('HO', 'PV', 0, 22): 0.0,\n",
       " ('HO', 'PV', 0, 23): 0.0,\n",
       " ('HO', 'SMR', 0, 0): 9765.583995092195,\n",
       " ('HO', 'SMR', 0, 1): 10765.583995092195,\n",
       " ('HO', 'SMR', 0, 2): 9765.583995092195,\n",
       " ('HO', 'SMR', 0, 3): 8765.583995092195,\n",
       " ('HO', 'SMR', 0, 4): 7765.583995092194,\n",
       " ('HO', 'SMR', 0, 5): 8765.583995092195,\n",
       " ('HO', 'SMR', 0, 6): 7765.5839950921945,\n",
       " ('HO', 'SMR', 0, 7): 8765.583995092195,\n",
       " ('HO', 'SMR', 0, 8): 8983.375717014716,\n",
       " ('HO', 'SMR', 0, 9): 9983.375717014716,\n",
       " ('HO', 'SMR', 0, 10): 9968.859306232085,\n",
       " ('HO', 'SMR', 0, 11): 8968.859306232085,\n",
       " ('HO', 'SMR', 0, 12): 7968.859306232085,\n",
       " ('HO', 'SMR', 0, 13): 8968.859306232085,\n",
       " ('HO', 'SMR', 0, 14): 9968.859306232085,\n",
       " ('HO', 'SMR', 0, 15): 10968.859306232085,\n",
       " ('HO', 'SMR', 0, 16): 11968.859306232085,\n",
       " ('HO', 'SMR', 0, 17): 12968.859306232085,\n",
       " ('HO', 'SMR', 0, 18): 11968.859306232085,\n",
       " ('HO', 'SMR', 0, 19): 12968.859306232085,\n",
       " ('HO', 'SMR', 0, 20): 11968.859306232085,\n",
       " ('HO', 'SMR', 0, 21): 10968.859306232085,\n",
       " ('HO', 'SMR', 0, 22): 9968.859306232085,\n",
       " ('HO', 'SMR', 0, 23): 8968.859306232085,\n",
       " ('HO', 'SMRCCS', 0, 0): 0.0,\n",
       " ('HO', 'SMRCCS', 0, 1): 0.0,\n",
       " ('HO', 'SMRCCS', 0, 2): 0.0,\n",
       " ('HO', 'SMRCCS', 0, 3): 0.0,\n",
       " ('HO', 'SMRCCS', 0, 4): 0.0,\n",
       " ('HO', 'SMRCCS', 0, 5): 0.0,\n",
       " ('HO', 'SMRCCS', 0, 6): 0.0,\n",
       " ('HO', 'SMRCCS', 0, 7): 0.0,\n",
       " ('HO', 'SMRCCS', 0, 8): 0.0,\n",
       " ('HO', 'SMRCCS', 0, 9): 0.0,\n",
       " ('HO', 'SMRCCS', 0, 10): 0.0,\n",
       " ('HO', 'SMRCCS', 0, 11): 0.0,\n",
       " ('HO', 'SMRCCS', 0, 12): 0.0,\n",
       " ('HO', 'SMRCCS', 0, 13): 0.0,\n",
       " ('HO', 'SMRCCS', 0, 14): 0.0,\n",
       " ('HO', 'SMRCCS', 0, 15): 0.0,\n",
       " ('HO', 'SMRCCS', 0, 16): 0.0,\n",
       " ('HO', 'SMRCCS', 0, 17): 0.0,\n",
       " ('HO', 'SMRCCS', 0, 18): 0.0,\n",
       " ('HO', 'SMRCCS', 0, 19): 0.0,\n",
       " ('HO', 'SMRCCS', 0, 20): 0.0,\n",
       " ('HO', 'SMRCCS', 0, 21): 0.0,\n",
       " ('HO', 'SMRCCS', 0, 22): 0.0,\n",
       " ('HO', 'SMRCCS', 0, 23): 0.0,\n",
       " ('HO', 'WF', 0, 0): 9.306913953059926,\n",
       " ('HO', 'WF', 0, 1): 9.85932653965441,\n",
       " ('HO', 'WF', 0, 2): 6.865307930881702,\n",
       " ('HO', 'WF', 0, 3): 6.509747452370403,\n",
       " ('HO', 'WF', 0, 4): 5.047629596809926,\n",
       " ('HO', 'WF', 0, 5): 7.293974302171024,\n",
       " ('HO', 'WF', 0, 6): 6.71577315019938,\n",
       " ('HO', 'WF', 0, 7): 7.925343376163048,\n",
       " ('HO', 'WF', 0, 8): 4.519273371732388,\n",
       " ('HO', 'WF', 0, 9): 3.5223748338502436,\n",
       " ('HO', 'WF', 0, 10): 9.439042905300855,\n",
       " ('HO', 'WF', 0, 11): 8.789042905300857,\n",
       " ('HO', 'WF', 0, 12): 7.922020381036775,\n",
       " ('HO', 'WF', 0, 13): 0.9394386836649724,\n",
       " ('HO', 'WF', 0, 14): 0.47202443564385954,\n",
       " ('HO', 'WF', 0, 15): 10.089042905300857,\n",
       " ('HO', 'WF', 0, 16): 10.739042905300856,\n",
       " ('HO', 'WF', 0, 17): 11.389042905300855,\n",
       " ('HO', 'WF', 0, 18): 10.739042905300856,\n",
       " ('HO', 'WF', 0, 19): 11.389042905300855,\n",
       " ('HO', 'WF', 0, 20): 10.739042905300856,\n",
       " ('HO', 'WF', 0, 21): 10.089042905300854,\n",
       " ('HO', 'WF', 0, 22): 9.439042905300855,\n",
       " ('HO', 'WF', 0, 23): 8.789042905300857}"
      ]
     },
     "execution_count": 62,
     "metadata": {},
     "output_type": "execute_result"
    }
   ],
   "source": [
    "results_scope2.output['P']"
   ]
  },
  {
   "cell_type": "code",
   "execution_count": 63,
   "metadata": {},
   "outputs": [
    {
     "data": {
      "text/plain": [
       "{('Grid', 0): 0.0,\n",
       " ('PEM', 0): 344.5463179838085,\n",
       " ('PV', 0): 21.62665313112424,\n",
       " ('SMR', 0): 239655.4536820162,\n",
       " ('SMRCCS', 0): 0.0,\n",
       " ('WF', 0): 188.52861996554748}"
      ]
     },
     "execution_count": 63,
     "metadata": {},
     "output_type": "execute_result"
    }
   ],
   "source": [
    "results_scope2.output['P_network']"
   ]
  },
  {
   "cell_type": "code",
   "execution_count": 64,
   "metadata": {},
   "outputs": [
    {
     "data": {
      "text/plain": [
       "{None: 432382.33359208336}"
      ]
     },
     "execution_count": 64,
     "metadata": {},
     "output_type": "execute_result"
    }
   ],
   "source": [
    "results_scope2.output['Cost']"
   ]
  },
  {
   "cell_type": "code",
   "execution_count": null,
   "metadata": {},
   "outputs": [],
   "source": [
    "results_scope2.output['objective']"
   ]
  },
  {
   "cell_type": "code",
   "execution_count": null,
   "metadata": {},
   "outputs": [],
   "source": [
    "# data = results_scope2.output['P']\n",
    "# df = pd.DataFrame(data,index=[0])\n",
    "# df = df.T\n",
    "# # Export the DataFrame to an Excel file\n",
    "# df.to_excel('C:/Users/marcopdsousa/Desktop/Dataframes/ScopeFormulation/minscope2.xlsx', index=True)"
   ]
  },
  {
   "cell_type": "code",
   "execution_count": null,
   "metadata": {},
   "outputs": [],
   "source": [
    "results_scope2.output['global_warming_potential_location']"
   ]
  },
  {
   "cell_type": "code",
   "execution_count": null,
   "metadata": {},
   "outputs": [],
   "source": [
    "#, Constraints.MODE\n",
    "\n",
    "milp_gwp = formulate(scenario=scenario, constraints={Constraints.COST, Constraints.INVENTORY, Constraints.PRODUCTION,\n",
    "                      Constraints.RESOURCE_BALANCE, Constraints.NETWORK, Constraints.DEMAND, Constraints.EMISSION}, objective=Objective.MIN_GWP, demand_sign = 'eq')\n",
    "\n",
    "#, Constraints.SCOPEONE\n",
    "\n",
    "#, Constraints.EMISSION"
   ]
  },
  {
   "cell_type": "code",
   "execution_count": null,
   "metadata": {},
   "outputs": [],
   "source": [
    "results_gwp = solve(scenario=scenario, instance=milp_gwp,\n",
    "                     solver='gurobi', name=f\"res_gwp\", print_solversteps=True, saveformat = '.pkl')"
   ]
  },
  {
   "cell_type": "code",
   "execution_count": null,
   "metadata": {},
   "outputs": [],
   "source": [
    "results_gwp.output['P_network']"
   ]
  },
  {
   "cell_type": "code",
   "execution_count": null,
   "metadata": {},
   "outputs": [],
   "source": [
    "plot_results.schedule(results = results_scope1, y_axis= 'P', component = 'PEM', location='HO')"
   ]
  },
  {
   "cell_type": "code",
   "execution_count": null,
   "metadata": {},
   "outputs": [],
   "source": [
    "results_scope1.output['global_warming_potential_resource_scope1']"
   ]
  },
  {
   "cell_type": "code",
   "execution_count": null,
   "metadata": {},
   "outputs": [],
   "source": [
    "results_scope1.output['P']"
   ]
  },
  {
   "cell_type": "code",
   "execution_count": null,
   "metadata": {},
   "outputs": [],
   "source": [
    "\n",
    "data = results_cost.output['P']"
   ]
  },
  {
   "cell_type": "code",
   "execution_count": null,
   "metadata": {},
   "outputs": [],
   "source": [
    "df = pd.DataFrame(data,index=[0])"
   ]
  },
  {
   "cell_type": "code",
   "execution_count": null,
   "metadata": {},
   "outputs": [],
   "source": [
    "df"
   ]
  },
  {
   "cell_type": "code",
   "execution_count": null,
   "metadata": {},
   "outputs": [],
   "source": [
    "df=df.T"
   ]
  },
  {
   "cell_type": "code",
   "execution_count": null,
   "metadata": {},
   "outputs": [],
   "source": [
    "# # Export the DataFrame to an Excel file\n",
    "# df.to_excel('C:/Users/marcopdsousa/Desktop/Dataframes/mincostprod.xlsx', index=True)"
   ]
  },
  {
   "cell_type": "code",
   "execution_count": null,
   "metadata": {},
   "outputs": [],
   "source": [
    "# data = results_cost.output['global_warming_potential_resource']\n",
    "# df = pd.DataFrame(data,index=[0])\n",
    "# df = df.T\n",
    "# # Export the DataFrame to an Excel file\n",
    "# df.to_excel('C:/Users/marcopdsousa/Desktop/Dataframes/mincostresource_emission.xlsx', index=True)"
   ]
  },
  {
   "cell_type": "code",
   "execution_count": null,
   "metadata": {},
   "outputs": [],
   "source": [
    "milp_scope1.constraint_inventory_balance.pprint()"
   ]
  },
  {
   "cell_type": "code",
   "execution_count": null,
   "metadata": {},
   "outputs": [],
   "source": [
    "results_scope1.output['objective']"
   ]
  },
  {
   "cell_type": "code",
   "execution_count": null,
   "metadata": {},
   "outputs": [],
   "source": [
    "results_scope1.output['Cost']"
   ]
  },
  {
   "cell_type": "code",
   "execution_count": null,
   "metadata": {},
   "outputs": [],
   "source": [
    "# plot_results.cost(results=results_cost, x=CostX.PROCESS_WISE,\n",
    "#                   y=CostY.TOTAL, location='HO', fig_size=(11, 6), )\n",
    "# #plt.rc('xtick', titlesize=8, labelsize=8)\n",
    "# plt.xticks(fontsize=10, rotation=45, ha='right')"
   ]
  },
  {
   "cell_type": "code",
   "execution_count": null,
   "metadata": {},
   "outputs": [],
   "source": [
    "results_scope1.output['global_warming_potential_location_scope1']"
   ]
  },
  {
   "cell_type": "code",
   "execution_count": null,
   "metadata": {},
   "outputs": [],
   "source": [
    "results_cost.output['P_network']"
   ]
  },
  {
   "cell_type": "code",
   "execution_count": null,
   "metadata": {},
   "outputs": [],
   "source": [
    "results_scope1.output['global_warming_potential_resource_scope1']"
   ]
  },
  {
   "cell_type": "code",
   "execution_count": null,
   "metadata": {},
   "outputs": [],
   "source": [
    "results_scope1.output['global_warming_potential_process']"
   ]
  },
  {
   "cell_type": "code",
   "execution_count": null,
   "metadata": {},
   "outputs": [],
   "source": [
    "milp_gwp = formulate(scenario=scenario, constraints={Constraints.COST, Constraints.INVENTORY, Constraints.PRODUCTION,\n",
    "                     Constraints.RESOURCE_BALANCE, Constraints.NETWORK, Constraints.DEMAND, Constraints.EMISSION}, objective=Objective.MIN_GWP, demand_sign = 'eq')"
   ]
  },
  {
   "cell_type": "code",
   "execution_count": null,
   "metadata": {},
   "outputs": [],
   "source": [
    "\n",
    "from pyomo.environ import ConstraintList\n",
    "\n",
    "ramping_limit = 3\n",
    "\n",
    "milp_gwp.cons1 = ConstraintList()\n",
    "for i in scales.scale_iter(1):\n",
    "    if i != (0,0):\n",
    "        milp_gwp.cons1.add(expr = milp_gwp.P['HO', 'PEM', *i] - milp_gwp.P['HO', 'PEM', *scales.scale_iter(2)[scales.scale_iter(1).index(i) - 1]] <= ramping_limit)\n"
   ]
  },
  {
   "cell_type": "code",
   "execution_count": null,
   "metadata": {},
   "outputs": [],
   "source": [
    "\n",
    "from pyomo.environ import ConstraintList\n",
    "\n",
    "ramping_limit = 3\n",
    "\n",
    "milp_gwp.cons2 = ConstraintList()\n",
    "for i in scales.scale_iter(1):\n",
    "    if i != (0,0):\n",
    "        milp_gwp.cons2.add(expr = milp_gwp.P['HO', 'SMR', *i] - milp_gwp.P['HO', 'SMR', *scales.scale_iter(2)[scales.scale_iter(1).index(i) - 1]] <= ramping_limit)"
   ]
  },
  {
   "cell_type": "code",
   "execution_count": null,
   "metadata": {},
   "outputs": [],
   "source": [
    "# model.component\n",
    "\n",
    "from pyomo.environ import ConstraintList\n",
    "milp_gwp.cons3 = ConstraintList()\n",
    "for i in scales.scale_iter(2):\n",
    "    milp_gwp.cons3.add(expr = milp_gwp.P['HO', 'SMRCCS', *i] >= 5)"
   ]
  },
  {
   "cell_type": "code",
   "execution_count": null,
   "metadata": {},
   "outputs": [],
   "source": [
    "milp_gwp.constraint_resource_purchase_varying.pprint()"
   ]
  },
  {
   "cell_type": "code",
   "execution_count": null,
   "metadata": {},
   "outputs": [],
   "source": [
    "results_gwp = solve(scenario=scenario, instance=milp_gwp,\n",
    "                     solver='gurobi', name=f\"res_gwp\", print_solversteps=True, saveformat = '.pkl')"
   ]
  },
  {
   "cell_type": "code",
   "execution_count": null,
   "metadata": {},
   "outputs": [],
   "source": [
    "plot_results.schedule(results = results_gwp, y_axis= 'P', component = 'PEM', location='HO')"
   ]
  },
  {
   "cell_type": "code",
   "execution_count": null,
   "metadata": {},
   "outputs": [],
   "source": [
    "results_gwp.output['Cost']"
   ]
  },
  {
   "cell_type": "code",
   "execution_count": null,
   "metadata": {},
   "outputs": [],
   "source": [
    "results_gwp.output['P']"
   ]
  },
  {
   "cell_type": "code",
   "execution_count": null,
   "metadata": {},
   "outputs": [],
   "source": [
    "# data = results_gwp.output['P']\n",
    "# df = pd.DataFrame(data,index=[0])\n",
    "# df = df.T\n",
    "# # Export the DataFrame to an Excel file\n",
    "# df.to_excel('C:/Users/marcopdsousa/Desktop/Dataframes/mingwpprod.xlsx', index=True)"
   ]
  },
  {
   "cell_type": "code",
   "execution_count": null,
   "metadata": {},
   "outputs": [],
   "source": [
    "results_cost.output['Cap_P']"
   ]
  },
  {
   "cell_type": "code",
   "execution_count": null,
   "metadata": {},
   "outputs": [],
   "source": [
    "results_gwp.output['Cap_P']"
   ]
  },
  {
   "cell_type": "code",
   "execution_count": null,
   "metadata": {},
   "outputs": [],
   "source": [
    "milp_gwp.constraint_global_warming_potential_resource.pprint()"
   ]
  },
  {
   "cell_type": "code",
   "execution_count": null,
   "metadata": {},
   "outputs": [],
   "source": [
    "scenario.resource_gwp_dict"
   ]
  },
  {
   "cell_type": "code",
   "execution_count": null,
   "metadata": {},
   "outputs": [],
   "source": [
    "results_gwp.output['X_P']"
   ]
  },
  {
   "cell_type": "code",
   "execution_count": null,
   "metadata": {},
   "outputs": [],
   "source": [
    "results_cost.output['X_P']"
   ]
  },
  {
   "cell_type": "code",
   "execution_count": null,
   "metadata": {},
   "outputs": [],
   "source": [
    "results_gwp.output['Cap_P']"
   ]
  },
  {
   "cell_type": "code",
   "execution_count": null,
   "metadata": {},
   "outputs": [],
   "source": [
    "results_cost.output['Cap_P']"
   ]
  },
  {
   "cell_type": "code",
   "execution_count": null,
   "metadata": {},
   "outputs": [],
   "source": [
    "results_gwp.output['Capex_network']"
   ]
  },
  {
   "cell_type": "code",
   "execution_count": null,
   "metadata": {},
   "outputs": [],
   "source": [
    "results_gwp.output['Fopex_network']"
   ]
  },
  {
   "cell_type": "code",
   "execution_count": null,
   "metadata": {},
   "outputs": [],
   "source": [
    "results_gwp.output['Vopex_network']"
   ]
  },
  {
   "cell_type": "code",
   "execution_count": null,
   "metadata": {},
   "outputs": [],
   "source": [
    "results_gwp.output['B_network']"
   ]
  },
  {
   "cell_type": "code",
   "execution_count": null,
   "metadata": {},
   "outputs": [],
   "source": [
    "results_cost.output['B_network']"
   ]
  },
  {
   "cell_type": "code",
   "execution_count": null,
   "metadata": {},
   "outputs": [],
   "source": [
    "results_cost.output['C_network']"
   ]
  },
  {
   "cell_type": "code",
   "execution_count": null,
   "metadata": {},
   "outputs": [],
   "source": [
    "results_cost.output['P']['HO','SMR',0,0]"
   ]
  },
  {
   "cell_type": "code",
   "execution_count": null,
   "metadata": {},
   "outputs": [],
   "source": [
    "print([(key, value) for key, value in results_cost.output['P'].items() if key[1]=='SMR'])"
   ]
  },
  {
   "cell_type": "code",
   "execution_count": null,
   "metadata": {},
   "outputs": [],
   "source": [
    "[results_cost.output['P'][('HO', 'SMR', *i)] for i in scales.scale_iter(2)]"
   ]
  },
  {
   "cell_type": "code",
   "execution_count": null,
   "metadata": {},
   "outputs": [],
   "source": [
    "results_cost.output['C']"
   ]
  },
  {
   "cell_type": "code",
   "execution_count": null,
   "metadata": {},
   "outputs": [],
   "source": [
    "print([(key, value) for key, value in results_cost.output['P'].items() if key[1]=='SMR'])"
   ]
  },
  {
   "cell_type": "code",
   "execution_count": null,
   "metadata": {},
   "outputs": [],
   "source": [
    "results_cost.output['C']"
   ]
  },
  {
   "cell_type": "code",
   "execution_count": null,
   "metadata": {},
   "outputs": [],
   "source": [
    "results_cost.output['P_network']"
   ]
  },
  {
   "cell_type": "code",
   "execution_count": null,
   "metadata": {},
   "outputs": [],
   "source": [
    "results_gwp.output['P_network']"
   ]
  },
  {
   "cell_type": "code",
   "execution_count": null,
   "metadata": {},
   "outputs": [],
   "source": [
    "PEM.conversion[Power]/SMR.conversion[Power]"
   ]
  },
  {
   "cell_type": "code",
   "execution_count": null,
   "metadata": {},
   "outputs": [],
   "source": [
    "SMR.conversion[Power]"
   ]
  },
  {
   "cell_type": "code",
   "execution_count": null,
   "metadata": {},
   "outputs": [],
   "source": [
    "SMRCCS.conversion[Power]"
   ]
  },
  {
   "cell_type": "code",
   "execution_count": null,
   "metadata": {},
   "outputs": [],
   "source": [
    "results_cost.output['Cap_P']"
   ]
  },
  {
   "cell_type": "code",
   "execution_count": null,
   "metadata": {},
   "outputs": [],
   "source": [
    "results_cost.output['S_network']"
   ]
  },
  {
   "cell_type": "code",
   "execution_count": null,
   "metadata": {},
   "outputs": [],
   "source": [
    "results_gwp.output['S_network']"
   ]
  },
  {
   "cell_type": "code",
   "execution_count": null,
   "metadata": {},
   "outputs": [],
   "source": [
    "results_gwp.output['Cost']"
   ]
  },
  {
   "cell_type": "code",
   "execution_count": null,
   "metadata": {},
   "outputs": [],
   "source": [
    "results_gwp.output['X_P']"
   ]
  },
  {
   "cell_type": "code",
   "execution_count": null,
   "metadata": {},
   "outputs": [],
   "source": [
    "results_gwp.output['Cap_P']"
   ]
  },
  {
   "cell_type": "code",
   "execution_count": null,
   "metadata": {},
   "outputs": [],
   "source": [
    "results_cost.output['objective']"
   ]
  },
  {
   "cell_type": "code",
   "execution_count": null,
   "metadata": {},
   "outputs": [],
   "source": [
    "results_gwp.output['objective']"
   ]
  },
  {
   "cell_type": "code",
   "execution_count": null,
   "metadata": {},
   "outputs": [],
   "source": [
    "results_cost.output['global_warming_potential_network']"
   ]
  },
  {
   "cell_type": "code",
   "execution_count": null,
   "metadata": {},
   "outputs": [],
   "source": [
    "results_gwp.output['global_warming_potential_network']"
   ]
  },
  {
   "cell_type": "code",
   "execution_count": null,
   "metadata": {},
   "outputs": [],
   "source": [
    "results_gwp.output['global_warming_potential_resource']"
   ]
  },
  {
   "cell_type": "code",
   "execution_count": null,
   "metadata": {},
   "outputs": [],
   "source": [
    "results_gwp.output['P_network']"
   ]
  },
  {
   "cell_type": "code",
   "execution_count": null,
   "metadata": {},
   "outputs": [],
   "source": [
    "results_cost.output['P_network']"
   ]
  },
  {
   "cell_type": "code",
   "execution_count": null,
   "metadata": {},
   "outputs": [],
   "source": [
    "results_gwp.output"
   ]
  },
  {
   "cell_type": "code",
   "execution_count": null,
   "metadata": {},
   "outputs": [],
   "source": [
    "\n",
    "# plot_results.gwp(results=results_gwp, x=CostX.PROCESS_WISE,\n",
    "#                   y=CostY.TOTAL, location='HO', fig_size=(11, 6), )\n",
    "# #plt.rc('xtick', titlesize=8, labelsize=8)\n",
    "# plt.xticks(fontsize=10, rotation=45, ha='right')"
   ]
  },
  {
   "cell_type": "code",
   "execution_count": null,
   "metadata": {},
   "outputs": [],
   "source": [
    "results_gwp.output['global_warming_potential_location']"
   ]
  },
  {
   "cell_type": "code",
   "execution_count": null,
   "metadata": {},
   "outputs": [],
   "source": [
    "results_gwp.output['P_network']"
   ]
  },
  {
   "cell_type": "markdown",
   "metadata": {},
   "source": [
    "EMISSION RESTRICTIONS"
   ]
  },
  {
   "cell_type": "code",
   "execution_count": null,
   "metadata": {},
   "outputs": [],
   "source": [
    "milp_gwp_10 = formulate(scenario=scenario, constraints={Constraints.COST, Constraints.INVENTORY, Constraints.PRODUCTION,\n",
    "                     Constraints.RESOURCE_BALANCE, Constraints.NETWORK, Constraints.DEMAND, Constraints.EMISSION}, objective=Objective.COST, demand_sign = 'eq')\n",
    "\n",
    "from energiapy.model.constraints.emission import constraint_global_warming_potential_network_reduction\n",
    "constraint_global_warming_potential_network_reduction(instance= milp_gwp_10, network_scale_level = 0, gwp_reduction_pct = 10, gwp = results_cost.output['global_warming_potential_network'][0])"
   ]
  },
  {
   "cell_type": "code",
   "execution_count": null,
   "metadata": {},
   "outputs": [],
   "source": [
    "from pyomo.environ import ConstraintList\n",
    "\n",
    "ramping_limit = 3\n",
    "\n",
    "milp_gwp_10.cons1 = ConstraintList()\n",
    "for i in scales.scale_iter(1):\n",
    "    if i != (0,0):\n",
    "        milp_gwp_10.cons1.add(expr = milp_gwp_10.P['HO', 'PEM', *i] - milp_gwp_10.P['HO', 'PEM', *scales.scale_iter(2)[scales.scale_iter(1).index(i) - 1]] <= ramping_limit)\n",
    "\n",
    "milp_gwp_10.cons2 = ConstraintList()\n",
    "for i in scales.scale_iter(1):\n",
    "    if i != (0,0):\n",
    "        milp_gwp_10.cons2.add(expr = milp_gwp_10.P['HO', 'SMR', *i] - milp_gwp_10.P['HO', 'SMR', *scales.scale_iter(2)[scales.scale_iter(1).index(i) - 1]] <= ramping_limit)\n",
    "\n",
    "milp_gwp_10.cons3 = ConstraintList()\n",
    "for i in scales.scale_iter(1):\n",
    "    if i != (0,0):\n",
    "        milp_gwp_10.cons3.add(expr = milp_gwp_10.P['HO', 'SMRCCS', *i] - milp_gwp_10.P['HO', 'SMRCCS', *scales.scale_iter(2)[scales.scale_iter(1).index(i) - 1]] <= ramping_limit)\n",
    "\n",
    "milp_gwp_10.cons4 = ConstraintList()\n",
    "for i in scales.scale_iter(2):\n",
    "    milp_gwp_10.cons4.add(expr = milp_gwp_10.P['HO', 'SMR', *i] >= 5)"
   ]
  },
  {
   "cell_type": "code",
   "execution_count": null,
   "metadata": {},
   "outputs": [],
   "source": [
    "results_gwp_10 = solve(scenario=scenario, instance=milp_gwp_10,\n",
    "                     solver='gurobi', name=f\"res_gwp_10\", print_solversteps=True, saveformat = '.pkl')"
   ]
  },
  {
   "cell_type": "code",
   "execution_count": null,
   "metadata": {},
   "outputs": [],
   "source": [
    "results_gwp_10.output['objective']"
   ]
  },
  {
   "cell_type": "code",
   "execution_count": null,
   "metadata": {},
   "outputs": [],
   "source": [
    "results_gwp_10.output['global_warming_potential_location']"
   ]
  },
  {
   "cell_type": "code",
   "execution_count": null,
   "metadata": {},
   "outputs": [],
   "source": [
    "results_gwp_10.output['P']"
   ]
  },
  {
   "cell_type": "code",
   "execution_count": null,
   "metadata": {},
   "outputs": [],
   "source": [
    "# data = results_gwp_10.output['P']\n",
    "# df = pd.DataFrame(data,index=[0])\n",
    "# df = df.T\n",
    "# # Export the DataFrame to an Excel file\n",
    "# df.to_excel('C:/Users/marcopdsousa/Desktop/Dataframes/mingwpprod10.xlsx', index=True)"
   ]
  },
  {
   "cell_type": "code",
   "execution_count": null,
   "metadata": {},
   "outputs": [],
   "source": [
    "# data = results_gwp_10.output['global_warming_potential_resource']\n",
    "# df = pd.DataFrame(data,index=[0])\n",
    "# df = df.T\n",
    "# # Export the DataFrame to an Excel file\n",
    "# df.to_excel('C:/Users/marcopdsousa/Desktop/Dataframes/mingwp10resource_emission.xlsx', index=True)"
   ]
  },
  {
   "cell_type": "code",
   "execution_count": null,
   "metadata": {},
   "outputs": [],
   "source": [
    "results_cost.output['global_warming_potential_resource']"
   ]
  },
  {
   "cell_type": "code",
   "execution_count": null,
   "metadata": {},
   "outputs": [],
   "source": [
    "results_gwp_10.output['global_warming_potential_resource']"
   ]
  },
  {
   "cell_type": "code",
   "execution_count": null,
   "metadata": {},
   "outputs": [],
   "source": [
    "milp_gwp_20 = formulate(scenario=scenario, constraints={Constraints.COST, Constraints.INVENTORY, Constraints.PRODUCTION,\n",
    "                     Constraints.RESOURCE_BALANCE, Constraints.NETWORK, Constraints.DEMAND, Constraints.EMISSION}, objective=Objective.COST, demand_sign = 'eq')\n",
    "\n",
    "from energiapy.model.constraints.emission import constraint_global_warming_potential_network_reduction\n",
    "constraint_global_warming_potential_network_reduction(instance= milp_gwp_20, network_scale_level = 0, gwp_reduction_pct = 20, gwp = results_cost.output['global_warming_potential_network'][0])\n"
   ]
  },
  {
   "cell_type": "code",
   "execution_count": null,
   "metadata": {},
   "outputs": [],
   "source": [
    "from pyomo.environ import ConstraintList\n",
    "\n",
    "ramping_limit = 3\n",
    "\n",
    "milp_gwp_20.cons1 = ConstraintList()\n",
    "for i in scales.scale_iter(1):\n",
    "    if i != (0,0):\n",
    "        milp_gwp_20.cons1.add(expr = milp_gwp_20.P['HO', 'PEM', *i] - milp_gwp_20.P['HO', 'PEM', *scales.scale_iter(2)[scales.scale_iter(1).index(i) - 1]] <= ramping_limit)\n",
    "\n",
    "milp_gwp_20.cons2 = ConstraintList()\n",
    "for i in scales.scale_iter(1):\n",
    "    if i != (0,0):\n",
    "        milp_gwp_20.cons2.add(expr = milp_gwp_20.P['HO', 'SMR', *i] - milp_gwp_20.P['HO', 'SMR', *scales.scale_iter(2)[scales.scale_iter(1).index(i) - 1]] <= ramping_limit)\n",
    "\n",
    "milp_gwp_20.cons3 = ConstraintList()\n",
    "for i in scales.scale_iter(1):\n",
    "    if i != (0,0):\n",
    "        milp_gwp_20.cons3.add(expr = milp_gwp_20.P['HO', 'SMRCCS', *i] - milp_gwp_20.P['HO', 'SMRCCS', *scales.scale_iter(2)[scales.scale_iter(1).index(i) - 1]] <= ramping_limit)\n",
    "\n",
    "milp_gwp_20.cons4 = ConstraintList()\n",
    "for i in scales.scale_iter(2):\n",
    "    milp_gwp_20.cons4.add(expr = milp_gwp_20.P['HO', 'SMR', *i] >= 5)"
   ]
  },
  {
   "cell_type": "code",
   "execution_count": null,
   "metadata": {},
   "outputs": [],
   "source": [
    "results_gwp_20 = solve(scenario=scenario, instance=milp_gwp_20,\n",
    "                     solver='gurobi', name=f\"res_gwp_20\", print_solversteps=True, saveformat = '.pkl')"
   ]
  },
  {
   "cell_type": "code",
   "execution_count": null,
   "metadata": {},
   "outputs": [],
   "source": [
    "results_gwp_20.output['objective']\n"
   ]
  },
  {
   "cell_type": "code",
   "execution_count": null,
   "metadata": {},
   "outputs": [],
   "source": [
    "results_gwp_20.output['P']"
   ]
  },
  {
   "cell_type": "code",
   "execution_count": null,
   "metadata": {},
   "outputs": [],
   "source": [
    "results_gwp_20.output['global_warming_potential_location']"
   ]
  },
  {
   "cell_type": "code",
   "execution_count": null,
   "metadata": {},
   "outputs": [],
   "source": [
    "results_gwp_20.output['global_warming_potential_resource']"
   ]
  },
  {
   "cell_type": "code",
   "execution_count": null,
   "metadata": {},
   "outputs": [],
   "source": [
    "results_gwp_20.output['P_network']"
   ]
  },
  {
   "cell_type": "code",
   "execution_count": null,
   "metadata": {},
   "outputs": [],
   "source": [
    "# data = results_gwp_20.output['P']\n",
    "# df = pd.DataFrame(data,index=[0])\n",
    "# df = df.T\n",
    "# # Export the DataFrame to an Excel file\n",
    "# df.to_excel('C:/Users/marcopdsousa/Desktop/Dataframes/mingwpprod20.xlsx', index=True)"
   ]
  },
  {
   "cell_type": "code",
   "execution_count": null,
   "metadata": {},
   "outputs": [],
   "source": [
    "# data = results_gwp_20.output['global_warming_potential_resource']\n",
    "# df = pd.DataFrame(data,index=[0])\n",
    "# df = df.T\n",
    "# # Export the DataFrame to an Excel file\n",
    "# df.to_excel('C:/Users/marcopdsousa/Desktop/Dataframes/mingwp20resource_emission.xlsx', index=True)"
   ]
  },
  {
   "cell_type": "code",
   "execution_count": null,
   "metadata": {},
   "outputs": [],
   "source": [
    "results_gwp_20.output[\"objective\"]"
   ]
  },
  {
   "cell_type": "code",
   "execution_count": null,
   "metadata": {},
   "outputs": [],
   "source": [
    "milp_gwp_30 = formulate(scenario=scenario, constraints={Constraints.COST, Constraints.INVENTORY, Constraints.PRODUCTION,\n",
    "                     Constraints.RESOURCE_BALANCE, Constraints.NETWORK, Constraints.DEMAND, Constraints.EMISSION}, objective=Objective.COST, demand_sign = 'eq')\n",
    "\n",
    "from energiapy.model.constraints.emission import constraint_global_warming_potential_network_reduction\n",
    "constraint_global_warming_potential_network_reduction(instance= milp_gwp_30, network_scale_level = 0, gwp_reduction_pct = 30, gwp = results_cost.output['global_warming_potential_network'][0])\n",
    "\n",
    "\n",
    "\n"
   ]
  },
  {
   "cell_type": "code",
   "execution_count": null,
   "metadata": {},
   "outputs": [],
   "source": [
    "from pyomo.environ import ConstraintList\n",
    "\n",
    "ramping_limit = 3\n",
    "\n",
    "milp_gwp_30.cons1 = ConstraintList()\n",
    "for i in scales.scale_iter(1):\n",
    "    if i != (0,0):\n",
    "        milp_gwp_30.cons1.add(expr = milp_gwp_30.P['HO', 'PEM', *i] - milp_gwp_30.P['HO', 'PEM', *scales.scale_iter(2)[scales.scale_iter(1).index(i) - 1]] <= ramping_limit)\n",
    "\n",
    "milp_gwp_30.cons2 = ConstraintList()\n",
    "for i in scales.scale_iter(1):\n",
    "    if i != (0,0):\n",
    "        milp_gwp_30.cons2.add(expr = milp_gwp_30.P['HO', 'SMR', *i] - milp_gwp_30.P['HO', 'SMR', *scales.scale_iter(2)[scales.scale_iter(1).index(i) - 1]] <= ramping_limit)\n",
    "\n",
    "milp_gwp_30.cons3 = ConstraintList()\n",
    "for i in scales.scale_iter(1):\n",
    "    if i != (0,0):\n",
    "        milp_gwp_30.cons3.add(expr = milp_gwp_30.P['HO', 'SMRCCS', *i] - milp_gwp_30.P['HO', 'SMRCCS', *scales.scale_iter(2)[scales.scale_iter(1).index(i) - 1]] <= ramping_limit)\n",
    "\n",
    "milp_gwp_30.cons4 = ConstraintList()\n",
    "for i in scales.scale_iter(2):\n",
    "    milp_gwp_30.cons4.add(expr = milp_gwp_30.P['HO', 'SMR', *i] >= 5)"
   ]
  },
  {
   "cell_type": "code",
   "execution_count": null,
   "metadata": {},
   "outputs": [],
   "source": [
    "results_gwp_30 = solve(scenario=scenario, instance=milp_gwp_30,\n",
    "                     solver='gurobi', name=f\"res_gwp_30\", print_solversteps=True, saveformat = '.pkl')"
   ]
  },
  {
   "cell_type": "code",
   "execution_count": null,
   "metadata": {},
   "outputs": [],
   "source": [
    "\n",
    "results_gwp_30.output['objective']"
   ]
  },
  {
   "cell_type": "code",
   "execution_count": null,
   "metadata": {},
   "outputs": [],
   "source": [
    "results_gwp_30.output['P']"
   ]
  },
  {
   "cell_type": "code",
   "execution_count": null,
   "metadata": {},
   "outputs": [],
   "source": [
    "results_gwp_30.output['global_warming_potential_location']"
   ]
  },
  {
   "cell_type": "code",
   "execution_count": null,
   "metadata": {},
   "outputs": [],
   "source": [
    "results_gwp_30.output['P_network']"
   ]
  },
  {
   "cell_type": "code",
   "execution_count": null,
   "metadata": {},
   "outputs": [],
   "source": [
    "plot_results.cost(results=results_gwp_30, x=CostX.PROCESS_WISE,\n",
    "                  y=CostY.TOTAL, location='HO', fig_size=(11, 6))"
   ]
  },
  {
   "cell_type": "code",
   "execution_count": null,
   "metadata": {},
   "outputs": [],
   "source": [
    "# data = results_gwp_30.output['P']\n",
    "# df = pd.DataFrame(data,index=[0])\n",
    "# df = df.T\n",
    "# # Export the DataFrame to an Excel file\n",
    "# df.to_excel('C:/Users/marcopdsousa/Desktop/Dataframes/mingwpprod30.xlsx', index=True)"
   ]
  },
  {
   "cell_type": "code",
   "execution_count": null,
   "metadata": {},
   "outputs": [],
   "source": [
    "results_gwp_30.output[\"objective\"]"
   ]
  },
  {
   "cell_type": "code",
   "execution_count": null,
   "metadata": {},
   "outputs": [],
   "source": [
    "# data = results_gwp_30.output['global_warming_potential_resource']\n",
    "# df = pd.DataFrame(data,index=[0])\n",
    "# df = df.T\n",
    "# # Export the DataFrame to an Excel file\n",
    "# df.to_excel('C:/Users/marcopdsousa/Desktop/Dataframes/mingwp30resource_emission.xlsx', index=True)"
   ]
  },
  {
   "cell_type": "code",
   "execution_count": null,
   "metadata": {},
   "outputs": [],
   "source": [
    "milp_gwp_40 = formulate(scenario=scenario, constraints={Constraints.COST, Constraints.INVENTORY, Constraints.PRODUCTION,\n",
    "                     Constraints.RESOURCE_BALANCE, Constraints.NETWORK, Constraints.DEMAND, Constraints.EMISSION}, objective=Objective.COST, demand_sign = 'eq')\n",
    "\n",
    "from energiapy.model.constraints.emission import constraint_global_warming_potential_network_reduction\n",
    "constraint_global_warming_potential_network_reduction(instance= milp_gwp_40, network_scale_level = 0, gwp_reduction_pct = 40, gwp = results_cost.output['global_warming_potential_network'][0])\n"
   ]
  },
  {
   "cell_type": "code",
   "execution_count": null,
   "metadata": {},
   "outputs": [],
   "source": [
    "from pyomo.environ import ConstraintList\n",
    "\n",
    "ramping_limit = 3\n",
    "\n",
    "milp_gwp_40.cons1 = ConstraintList()\n",
    "for i in scales.scale_iter(1):\n",
    "    if i != (0,0):\n",
    "        milp_gwp_40.cons1.add(expr = milp_gwp_40.P['HO', 'PEM', *i] - milp_gwp_40.P['HO', 'PEM', *scales.scale_iter(2)[scales.scale_iter(1).index(i) - 1]] <= ramping_limit)\n",
    "\n",
    "milp_gwp_40.cons2 = ConstraintList()\n",
    "for i in scales.scale_iter(1):\n",
    "    if i != (0,0):\n",
    "        milp_gwp_40.cons2.add(expr = milp_gwp_40.P['HO', 'SMR', *i] - milp_gwp_40.P['HO', 'SMR', *scales.scale_iter(2)[scales.scale_iter(1).index(i) - 1]] <= ramping_limit)\n",
    "\n",
    "milp_gwp_40.cons3 = ConstraintList()\n",
    "for i in scales.scale_iter(1):\n",
    "    if i != (0,0):\n",
    "        milp_gwp_40.cons3.add(expr = milp_gwp_40.P['HO', 'SMRCCS', *i] - milp_gwp_40.P['HO', 'SMRCCS', *scales.scale_iter(2)[scales.scale_iter(1).index(i) - 1]] <= ramping_limit)\n",
    "\n",
    "milp_gwp_40.cons4 = ConstraintList()\n",
    "for i in scales.scale_iter(2):\n",
    "    milp_gwp_40.cons4.add(expr = milp_gwp_40.P['HO', 'SMR', *i] >= 5)"
   ]
  },
  {
   "cell_type": "code",
   "execution_count": null,
   "metadata": {},
   "outputs": [],
   "source": [
    "results_gwp_40 = solve(scenario=scenario, instance=milp_gwp_40,\n",
    "                     solver='gurobi', name=f\"res_gwp_40\", print_solversteps=True, saveformat = '.pkl')"
   ]
  },
  {
   "cell_type": "code",
   "execution_count": null,
   "metadata": {},
   "outputs": [],
   "source": [
    "results_gwp_40.output['objective']"
   ]
  },
  {
   "cell_type": "code",
   "execution_count": null,
   "metadata": {},
   "outputs": [],
   "source": [
    "results_gwp_40.output['global_warming_potential_location']"
   ]
  },
  {
   "cell_type": "code",
   "execution_count": null,
   "metadata": {},
   "outputs": [],
   "source": [
    "results_gwp_40.output['global_warming_potential_resource']"
   ]
  },
  {
   "cell_type": "code",
   "execution_count": null,
   "metadata": {},
   "outputs": [],
   "source": [
    "results_gwp_40.output['P_network']"
   ]
  },
  {
   "cell_type": "code",
   "execution_count": null,
   "metadata": {},
   "outputs": [],
   "source": [
    "results_gwp_40.output['P']"
   ]
  },
  {
   "cell_type": "code",
   "execution_count": null,
   "metadata": {},
   "outputs": [],
   "source": [
    "plot_results.cost(results=results_gwp_40, x=CostX.PROCESS_WISE,\n",
    "                  y=CostY.TOTAL, location='HO', fig_size=(11, 6))"
   ]
  },
  {
   "cell_type": "code",
   "execution_count": null,
   "metadata": {},
   "outputs": [],
   "source": [
    "plot_results.schedule(results = results_gwp_40, y_axis= 'P', component = 'SMR', location='HO')\n",
    "plot_results.schedule(results = results_gwp_40, y_axis= 'P', component = 'SMRCCS', location='HO')\n"
   ]
  },
  {
   "cell_type": "code",
   "execution_count": null,
   "metadata": {},
   "outputs": [],
   "source": [
    "# data = results_gwp_40.output['P']\n",
    "# df = pd.DataFrame(data,index=[0])\n",
    "# df = df.T\n",
    "# # Export the DataFrame to an Excel file\n",
    "# df.to_excel('C:/Users/marcopdsousa/Desktop/Dataframes/mingwpprod40.xlsx', index=True)"
   ]
  },
  {
   "cell_type": "code",
   "execution_count": null,
   "metadata": {},
   "outputs": [],
   "source": [
    "# data = results_gwp_40.output['global_warming_potential_resource']\n",
    "# df = pd.DataFrame(data,index=[0])\n",
    "# df = df.T\n",
    "# # Export the DataFrame to an Excel file\n",
    "# df.to_excel('C:/Users/marcopdsousa/Desktop/Dataframes/mingwp40resource_emission.xlsx', index=True)"
   ]
  },
  {
   "cell_type": "code",
   "execution_count": null,
   "metadata": {},
   "outputs": [],
   "source": [
    "results_gwp_40.output[\"objective\"]"
   ]
  },
  {
   "cell_type": "code",
   "execution_count": null,
   "metadata": {},
   "outputs": [],
   "source": [
    "milp_gwp_50 = formulate(scenario=scenario, constraints={Constraints.COST, Constraints.INVENTORY, Constraints.PRODUCTION,\n",
    "                     Constraints.RESOURCE_BALANCE, Constraints.NETWORK, Constraints.DEMAND, Constraints.EMISSION}, objective=Objective.COST, demand_sign = 'eq')\n",
    "\n",
    "from energiapy.model.constraints.emission import constraint_global_warming_potential_network_reduction\n",
    "constraint_global_warming_potential_network_reduction(instance= milp_gwp_50, network_scale_level = 0, gwp_reduction_pct = 50, gwp = results_cost.output['global_warming_potential_network'][0])"
   ]
  },
  {
   "cell_type": "code",
   "execution_count": null,
   "metadata": {},
   "outputs": [],
   "source": [
    "from pyomo.environ import ConstraintList\n",
    "\n",
    "ramping_limit = 3\n",
    "\n",
    "milp_gwp_50.cons1 = ConstraintList()\n",
    "for i in scales.scale_iter(1):\n",
    "    if i != (0,0):\n",
    "        milp_gwp_50.cons1.add(expr = milp_gwp_50.P['HO', 'PEM', *i] - milp_gwp_50.P['HO', 'PEM', *scales.scale_iter(2)[scales.scale_iter(1).index(i) - 1]] <= ramping_limit)\n",
    "\n",
    "milp_gwp_50.cons2 = ConstraintList()\n",
    "for i in scales.scale_iter(1):\n",
    "    if i != (0,0):\n",
    "        milp_gwp_50.cons2.add(expr = milp_gwp_50.P['HO', 'SMR', *i] - milp_gwp_50.P['HO', 'SMR', *scales.scale_iter(2)[scales.scale_iter(1).index(i) - 1]] <= ramping_limit)\n",
    "\n",
    "milp_gwp_50.cons3 = ConstraintList()\n",
    "for i in scales.scale_iter(1):\n",
    "    if i != (0,0):\n",
    "        milp_gwp_50.cons3.add(expr = milp_gwp_50.P['HO', 'SMRCCS', *i] - milp_gwp_50.P['HO', 'SMRCCS', *scales.scale_iter(2)[scales.scale_iter(1).index(i) - 1]] <= ramping_limit)\n",
    "\n",
    "milp_gwp_50.cons4 = ConstraintList()\n",
    "for i in scales.scale_iter(2):\n",
    "    milp_gwp_50.cons4.add(expr = milp_gwp_50.P['HO', 'SMR', *i] >= 5)"
   ]
  },
  {
   "cell_type": "code",
   "execution_count": null,
   "metadata": {},
   "outputs": [],
   "source": [
    "results_gwp_50 = solve(scenario=scenario, instance=milp_gwp_50,\n",
    "                     solver='gurobi', name=f\"res_gwp_50\", print_solversteps=True, saveformat = '.pkl')"
   ]
  },
  {
   "cell_type": "code",
   "execution_count": null,
   "metadata": {},
   "outputs": [],
   "source": [
    "# data = results_gwp_50.output['P']\n",
    "# df = pd.DataFrame(data,index=[0])\n",
    "# df = df.T\n",
    "# # Export the DataFrame to an Excel file\n",
    "# df.to_excel('C:/Users/marcopdsousa/Desktop/Dataframes/mingwpprod50.xlsx', index=True)"
   ]
  },
  {
   "cell_type": "code",
   "execution_count": null,
   "metadata": {},
   "outputs": [],
   "source": [
    "# data = results_gwp_50.output['global_warming_potential_resource']\n",
    "# df = pd.DataFrame(data,index=[0])\n",
    "# df = df.T\n",
    "# # Export the DataFrame to an Excel file\n",
    "# df.to_excel('C:/Users/marcopdsousa/Desktop/Dataframes/mingwp50resource_emission.xlsx', index=True)"
   ]
  },
  {
   "cell_type": "code",
   "execution_count": null,
   "metadata": {},
   "outputs": [],
   "source": [
    "results_gwp_50.output[\"objective\"]"
   ]
  },
  {
   "cell_type": "code",
   "execution_count": null,
   "metadata": {},
   "outputs": [],
   "source": [
    "results_gwp_50.output['global_warming_potential_location']"
   ]
  },
  {
   "cell_type": "code",
   "execution_count": null,
   "metadata": {},
   "outputs": [],
   "source": [
    "milp_gwp_60 = formulate(scenario=scenario, constraints={Constraints.COST, Constraints.INVENTORY, Constraints.PRODUCTION,\n",
    "                     Constraints.RESOURCE_BALANCE, Constraints.NETWORK, Constraints.DEMAND, Constraints.EMISSION}, objective=Objective.COST, demand_sign = 'eq')\n",
    "\n",
    "from energiapy.model.constraints.emission import constraint_global_warming_potential_network_reduction\n",
    "constraint_global_warming_potential_network_reduction(instance= milp_gwp_60, network_scale_level = 0, gwp_reduction_pct = 60, gwp = results_cost.output['global_warming_potential_network'][0])"
   ]
  },
  {
   "cell_type": "code",
   "execution_count": null,
   "metadata": {},
   "outputs": [],
   "source": [
    "from pyomo.environ import ConstraintList\n",
    "\n",
    "ramping_limit = 3\n",
    "\n",
    "milp_gwp_60.cons1 = ConstraintList()\n",
    "for i in scales.scale_iter(1):\n",
    "    if i != (0,0):\n",
    "        milp_gwp_60.cons1.add(expr = milp_gwp_60.P['HO', 'PEM', *i] - milp_gwp_60.P['HO', 'PEM', *scales.scale_iter(2)[scales.scale_iter(1).index(i) - 1]] <= ramping_limit)\n",
    "\n",
    "milp_gwp_60.cons2 = ConstraintList()\n",
    "for i in scales.scale_iter(1):\n",
    "    if i != (0,0):\n",
    "        milp_gwp_60.cons2.add(expr = milp_gwp_60.P['HO', 'SMR', *i] - milp_gwp_60.P['HO', 'SMR', *scales.scale_iter(2)[scales.scale_iter(1).index(i) - 1]] <= ramping_limit)\n",
    "\n",
    "milp_gwp_60.cons3 = ConstraintList()\n",
    "for i in scales.scale_iter(1):\n",
    "    if i != (0,0):\n",
    "        milp_gwp_60.cons3.add(expr = milp_gwp_60.P['HO', 'SMRCCS', *i] - milp_gwp_60.P['HO', 'SMRCCS', *scales.scale_iter(2)[scales.scale_iter(1).index(i) - 1]] <= ramping_limit)\n",
    "\n",
    "milp_gwp_60.cons4 = ConstraintList()\n",
    "for i in scales.scale_iter(2):\n",
    "    milp_gwp_60.cons4.add(expr = milp_gwp_60.P['HO', 'SMR', *i] >= 5)"
   ]
  },
  {
   "cell_type": "code",
   "execution_count": null,
   "metadata": {},
   "outputs": [],
   "source": [
    "results_gwp_60 = solve(scenario=scenario, instance=milp_gwp_60,\n",
    "                     solver='gurobi', name=f\"res_gwp_60\", print_solversteps=True, saveformat = '.pkl')"
   ]
  },
  {
   "cell_type": "code",
   "execution_count": null,
   "metadata": {},
   "outputs": [],
   "source": [
    "plot_results.schedule(results = results_gwp_60, y_axis= 'P', component = 'SMR', location='HO')\n",
    "plot_results.schedule(results = results_gwp_60, y_axis= 'P', component = 'SMRCCS', location='HO')\n",
    "plot_results.schedule(results = results_gwp_60, y_axis= 'P', component = 'PEM', location='HO')"
   ]
  },
  {
   "cell_type": "code",
   "execution_count": null,
   "metadata": {},
   "outputs": [],
   "source": [
    "# data = results_gwp_60.output['P']\n",
    "# df = pd.DataFrame(data,index=[0])\n",
    "# df = df.T\n",
    "# # Export the DataFrame to an Excel file\n",
    "# df.to_excel('C:/Users/marcopdsousa/Desktop/Dataframes/mingwpprod60.xlsx', index=True)"
   ]
  },
  {
   "cell_type": "code",
   "execution_count": null,
   "metadata": {},
   "outputs": [],
   "source": [
    "# data = results_gwp_60.output['global_warming_potential_resource']\n",
    "# df = pd.DataFrame(data,index=[0])\n",
    "# df = df.T\n",
    "# # Export the DataFrame to an Excel file\n",
    "# df.to_excel('C:/Users/marcopdsousa/Desktop/Dataframes/mingwp60resource_emission.xlsx', index=True)"
   ]
  },
  {
   "cell_type": "code",
   "execution_count": null,
   "metadata": {},
   "outputs": [],
   "source": [
    "results_gwp_60.output[\"objective\"]"
   ]
  },
  {
   "cell_type": "code",
   "execution_count": null,
   "metadata": {},
   "outputs": [],
   "source": [
    "results_gwp_60.output[\"P\"]"
   ]
  },
  {
   "cell_type": "code",
   "execution_count": null,
   "metadata": {},
   "outputs": [],
   "source": [
    "results_gwp_60.output['global_warming_potential_location']"
   ]
  },
  {
   "cell_type": "code",
   "execution_count": null,
   "metadata": {},
   "outputs": [],
   "source": [
    "results_gwp_60.output['global_warming_potential_resource']"
   ]
  },
  {
   "cell_type": "code",
   "execution_count": null,
   "metadata": {},
   "outputs": [],
   "source": [
    "milp_gwp_70 = formulate(scenario=scenario, constraints={Constraints.COST, Constraints.INVENTORY, Constraints.PRODUCTION,\n",
    "                     Constraints.RESOURCE_BALANCE, Constraints.NETWORK, Constraints.DEMAND, Constraints.EMISSION}, objective=Objective.COST, demand_sign = 'eq')\n",
    "\n",
    "from energiapy.model.constraints.emission import constraint_global_warming_potential_network_reduction\n",
    "constraint_global_warming_potential_network_reduction(instance= milp_gwp_70, network_scale_level = 0, gwp_reduction_pct = 70, gwp = results_cost.output['global_warming_potential_network'][0])"
   ]
  },
  {
   "cell_type": "code",
   "execution_count": null,
   "metadata": {},
   "outputs": [],
   "source": [
    "from pyomo.environ import ConstraintList\n",
    "\n",
    "ramping_limit = 3\n",
    "\n",
    "milp_gwp_70.cons1 = ConstraintList()\n",
    "for i in scales.scale_iter(1):\n",
    "    if i != (0,0):\n",
    "        milp_gwp_70.cons1.add(expr = milp_gwp_70.P['HO', 'PEM', *i] - milp_gwp_70.P['HO', 'PEM', *scales.scale_iter(2)[scales.scale_iter(1).index(i) - 1]] <= ramping_limit)\n",
    "\n",
    "milp_gwp_70.cons2 = ConstraintList()\n",
    "for i in scales.scale_iter(1):\n",
    "    if i != (0,0):\n",
    "        milp_gwp_70.cons2.add(expr = milp_gwp_70.P['HO', 'SMR', *i] - milp_gwp_70.P['HO', 'SMR', *scales.scale_iter(2)[scales.scale_iter(1).index(i) - 1]] <= ramping_limit)\n",
    "\n",
    "milp_gwp_70.cons3 = ConstraintList()\n",
    "for i in scales.scale_iter(1):\n",
    "    if i != (0,0):\n",
    "        milp_gwp_70.cons3.add(expr = milp_gwp_70.P['HO', 'SMRCCS', *i] - milp_gwp_70.P['HO', 'SMRCCS', *scales.scale_iter(2)[scales.scale_iter(1).index(i) - 1]] <= ramping_limit)\n",
    "\n",
    "milp_gwp_70.cons4 = ConstraintList()\n",
    "for i in scales.scale_iter(2):\n",
    "    milp_gwp_70.cons4.add(expr = milp_gwp_70.P['HO', 'SMR', *i] >= 5)"
   ]
  },
  {
   "cell_type": "code",
   "execution_count": null,
   "metadata": {},
   "outputs": [],
   "source": [
    "results_gwp_70 = solve(scenario=scenario, instance=milp_gwp_70,\n",
    "                     solver='gurobi', name=f\"res_gwp_70\", print_solversteps=True, saveformat = '.pkl')"
   ]
  },
  {
   "cell_type": "code",
   "execution_count": null,
   "metadata": {},
   "outputs": [],
   "source": [
    "# data = results_gwp_70.output['P']\n",
    "# df = pd.DataFrame(data,index=[0])\n",
    "# df = df.T\n",
    "# # Export the DataFrame to an Excel file\n",
    "# df.to_excel('C:/Users/marcopdsousa/Desktop/Dataframes/mingwpprod70.xlsx', index=True)"
   ]
  },
  {
   "cell_type": "code",
   "execution_count": null,
   "metadata": {},
   "outputs": [],
   "source": [
    "# data = results_gwp_70.output['global_warming_potential_resource']\n",
    "# df = pd.DataFrame(data,index=[0])\n",
    "# df = df.T\n",
    "# # Export the DataFrame to an Excel file\n",
    "# df.to_excel('C:/Users/marcopdsousa/Desktop/Dataframes/mingwp70resource_emission.xlsx', index=True)"
   ]
  },
  {
   "cell_type": "code",
   "execution_count": null,
   "metadata": {},
   "outputs": [],
   "source": [
    "results_gwp_70.output[\"objective\"]"
   ]
  },
  {
   "cell_type": "code",
   "execution_count": null,
   "metadata": {},
   "outputs": [],
   "source": [
    "results_gwp_70.output['global_warming_potential_resource']"
   ]
  },
  {
   "cell_type": "code",
   "execution_count": null,
   "metadata": {},
   "outputs": [],
   "source": [
    "results_gwp_70.output[\"P\"]"
   ]
  },
  {
   "cell_type": "code",
   "execution_count": null,
   "metadata": {},
   "outputs": [],
   "source": [
    "results_gwp_70.output['global_warming_potential_location']"
   ]
  },
  {
   "cell_type": "code",
   "execution_count": null,
   "metadata": {},
   "outputs": [],
   "source": [
    "milp_gwp_75 = formulate(scenario=scenario, constraints={Constraints.COST, Constraints.INVENTORY, Constraints.PRODUCTION,\n",
    "                     Constraints.RESOURCE_BALANCE, Constraints.NETWORK, Constraints.DEMAND, Constraints.EMISSION}, objective=Objective.COST, demand_sign = 'eq')\n",
    "\n",
    "from energiapy.model.constraints.emission import constraint_global_warming_potential_network_reduction\n",
    "constraint_global_warming_potential_network_reduction(instance= milp_gwp_75, network_scale_level = 0, gwp_reduction_pct = 75, gwp = results_cost.output['global_warming_potential_network'][0])"
   ]
  },
  {
   "cell_type": "code",
   "execution_count": null,
   "metadata": {},
   "outputs": [],
   "source": [
    "from pyomo.environ import ConstraintList\n",
    "\n",
    "ramping_limit = 3\n",
    "\n",
    "milp_gwp_75.cons1 = ConstraintList()\n",
    "for i in scales.scale_iter(1):\n",
    "    if i != (0,0):\n",
    "        milp_gwp_75.cons1.add(expr = milp_gwp_75.P['HO', 'PEM', *i] - milp_gwp_75.P['HO', 'PEM', *scales.scale_iter(2)[scales.scale_iter(1).index(i) - 1]] <= ramping_limit)\n",
    "\n",
    "milp_gwp_75.cons2 = ConstraintList()\n",
    "for i in scales.scale_iter(1):\n",
    "    if i != (0,0):\n",
    "        milp_gwp_75.cons2.add(expr = milp_gwp_75.P['HO', 'SMR', *i] - milp_gwp_75.P['HO', 'SMR', *scales.scale_iter(2)[scales.scale_iter(1).index(i) - 1]] <= ramping_limit)\n",
    "\n",
    "milp_gwp_75.cons3 = ConstraintList()\n",
    "for i in scales.scale_iter(1):\n",
    "    if i != (0,0):\n",
    "        milp_gwp_75.cons3.add(expr = milp_gwp_75.P['HO', 'SMRCCS', *i] - milp_gwp_75.P['HO', 'SMRCCS', *scales.scale_iter(2)[scales.scale_iter(1).index(i) - 1]] <= ramping_limit)\n",
    "\n",
    "milp_gwp_75.cons4 = ConstraintList()\n",
    "for i in scales.scale_iter(2):\n",
    "    milp_gwp_75.cons4.add(expr = milp_gwp_75.P['HO', 'SMR', *i] >= 5)"
   ]
  },
  {
   "cell_type": "code",
   "execution_count": null,
   "metadata": {},
   "outputs": [],
   "source": [
    "results_gwp_75 = solve(scenario=scenario, instance=milp_gwp_75,\n",
    "                     solver='gurobi', name=f\"res_gwp_75\", print_solversteps=True, saveformat = '.pkl')"
   ]
  },
  {
   "cell_type": "code",
   "execution_count": null,
   "metadata": {},
   "outputs": [],
   "source": [
    "# data = results_gwp_75.output['P']\n",
    "# df = pd.DataFrame(data,index=[0])\n",
    "# df = df.T\n",
    "# # Export the DataFrame to an Excel file\n",
    "# df.to_excel('C:/Users/marcopdsousa/Desktop/Dataframes/mingwpprod75.xlsx', index=True)"
   ]
  },
  {
   "cell_type": "code",
   "execution_count": null,
   "metadata": {},
   "outputs": [],
   "source": [
    "results_gwp_75.output[\"objective\"]"
   ]
  },
  {
   "cell_type": "code",
   "execution_count": null,
   "metadata": {},
   "outputs": [],
   "source": [
    "results_gwp_75.output[\"P\"]"
   ]
  },
  {
   "cell_type": "code",
   "execution_count": null,
   "metadata": {},
   "outputs": [],
   "source": [
    "results_gwp_75.output['global_warming_potential_location']"
   ]
  },
  {
   "cell_type": "code",
   "execution_count": null,
   "metadata": {},
   "outputs": [],
   "source": [
    "milp_gwp_78 = formulate(scenario=scenario, constraints={Constraints.COST, Constraints.INVENTORY, Constraints.PRODUCTION,\n",
    "                     Constraints.RESOURCE_BALANCE, Constraints.NETWORK, Constraints.DEMAND, Constraints.EMISSION}, objective=Objective.COST, demand_sign = 'eq')\n",
    "\n",
    "from energiapy.model.constraints.emission import constraint_global_warming_potential_network_reduction\n",
    "constraint_global_warming_potential_network_reduction(instance= milp_gwp_78, network_scale_level = 0, gwp_reduction_pct = 78, gwp = results_cost.output['global_warming_potential_network'][0])"
   ]
  },
  {
   "cell_type": "code",
   "execution_count": null,
   "metadata": {},
   "outputs": [],
   "source": [
    "from pyomo.environ import ConstraintList\n",
    "\n",
    "ramping_limit = 3\n",
    "\n",
    "milp_gwp_78.cons1 = ConstraintList()\n",
    "for i in scales.scale_iter(1):\n",
    "    if i != (0,0):\n",
    "        milp_gwp_78.cons1.add(expr = milp_gwp_78.P['HO', 'PEM', *i] - milp_gwp_78.P['HO', 'PEM', *scales.scale_iter(2)[scales.scale_iter(1).index(i) - 1]] <= ramping_limit)\n",
    "\n",
    "milp_gwp_78.cons2 = ConstraintList()\n",
    "for i in scales.scale_iter(1):\n",
    "    if i != (0,0):\n",
    "        milp_gwp_78.cons2.add(expr = milp_gwp_78.P['HO', 'SMR', *i] - milp_gwp_78.P['HO', 'SMR', *scales.scale_iter(2)[scales.scale_iter(1).index(i) - 1]] <= ramping_limit)\n",
    "\n",
    "milp_gwp_78.cons3 = ConstraintList()\n",
    "for i in scales.scale_iter(1):\n",
    "    if i != (0,0):\n",
    "        milp_gwp_78.cons3.add(expr = milp_gwp_78.P['HO', 'SMRCCS', *i] - milp_gwp_78.P['HO', 'SMRCCS', *scales.scale_iter(2)[scales.scale_iter(1).index(i) - 1]] <= ramping_limit)\n",
    "\n",
    "milp_gwp_78.cons4 = ConstraintList()\n",
    "for i in scales.scale_iter(2):\n",
    "    milp_gwp_78.cons4.add(expr = milp_gwp_78.P['HO', 'SMR', *i] >= 5)"
   ]
  },
  {
   "cell_type": "code",
   "execution_count": null,
   "metadata": {},
   "outputs": [],
   "source": [
    "results_gwp_78 = solve(scenario=scenario, instance=milp_gwp_78,\n",
    "                     solver='gurobi', name=f\"res_gwp_78\", print_solversteps=True, saveformat = '.pkl')"
   ]
  },
  {
   "cell_type": "code",
   "execution_count": null,
   "metadata": {},
   "outputs": [],
   "source": [
    "results_gwp_78.output['objective']"
   ]
  },
  {
   "cell_type": "code",
   "execution_count": null,
   "metadata": {},
   "outputs": [],
   "source": [
    "results_gwp_78.output['global_warming_potential_location']"
   ]
  },
  {
   "cell_type": "code",
   "execution_count": null,
   "metadata": {},
   "outputs": [],
   "source": [
    "results_gwp_78.output[\"P\"]"
   ]
  },
  {
   "cell_type": "code",
   "execution_count": null,
   "metadata": {},
   "outputs": [],
   "source": [
    "# data = results_gwp_78.output['P']\n",
    "# df = pd.DataFrame(data,index=[0])\n",
    "# df = df.T\n",
    "# # Export the DataFrame to an Excel file\n",
    "# df.to_excel('C:/Users/marcopdsousa/Desktop/Dataframes/mingwpprod78.xlsx', index=True)"
   ]
  },
  {
   "cell_type": "code",
   "execution_count": null,
   "metadata": {},
   "outputs": [],
   "source": [
    "plot_results.cost(results=results_gwp_78, x=CostX.PROCESS_WISE,\n",
    "                  y=CostY.TOTAL, location='HO', fig_size=(11, 6))"
   ]
  },
  {
   "cell_type": "code",
   "execution_count": null,
   "metadata": {},
   "outputs": [],
   "source": [
    "milp_gwp_79 = formulate(scenario=scenario, constraints={Constraints.COST, Constraints.INVENTORY, Constraints.PRODUCTION,\n",
    "                     Constraints.RESOURCE_BALANCE, Constraints.NETWORK, Constraints.DEMAND, Constraints.EMISSION}, objective=Objective.COST, demand_sign = 'eq')\n",
    "\n",
    "from energiapy.model.constraints.emission import constraint_global_warming_potential_network_reduction\n",
    "constraint_global_warming_potential_network_reduction(instance= milp_gwp_79, network_scale_level = 0, gwp_reduction_pct = 79, gwp = results_cost.output['global_warming_potential_network'][0])"
   ]
  },
  {
   "cell_type": "code",
   "execution_count": null,
   "metadata": {},
   "outputs": [],
   "source": [
    "from pyomo.environ import ConstraintList\n",
    "\n",
    "ramping_limit = 3\n",
    "\n",
    "milp_gwp_79.cons1 = ConstraintList()\n",
    "for i in scales.scale_iter(1):\n",
    "    if i != (0,0):\n",
    "        milp_gwp_79.cons1.add(expr = milp_gwp_79.P['HO', 'PEM', *i] - milp_gwp_79.P['HO', 'PEM', *scales.scale_iter(2)[scales.scale_iter(1).index(i) - 1]] <= ramping_limit)\n",
    "\n",
    "milp_gwp_79.cons2 = ConstraintList()\n",
    "for i in scales.scale_iter(1):\n",
    "    if i != (0,0):\n",
    "        milp_gwp_79.cons2.add(expr = milp_gwp_79.P['HO', 'SMR', *i] - milp_gwp_79.P['HO', 'SMR', *scales.scale_iter(2)[scales.scale_iter(1).index(i) - 1]] <= ramping_limit)\n",
    "\n",
    "milp_gwp_79.cons3 = ConstraintList()\n",
    "for i in scales.scale_iter(1):\n",
    "    if i != (0,0):\n",
    "        milp_gwp_79.cons3.add(expr = milp_gwp_79.P['HO', 'SMRCCS', *i] - milp_gwp_79.P['HO', 'SMRCCS', *scales.scale_iter(2)[scales.scale_iter(1).index(i) - 1]] <= ramping_limit)\n",
    "\n",
    "milp_gwp_79.cons4 = ConstraintList()\n",
    "for i in scales.scale_iter(2):\n",
    "    milp_gwp_79.cons4.add(expr = milp_gwp_79.P['HO', 'SMR', *i] >= 5)"
   ]
  },
  {
   "cell_type": "code",
   "execution_count": null,
   "metadata": {},
   "outputs": [],
   "source": [
    "results_gwp_79 = solve(scenario=scenario, instance=milp_gwp_79,\n",
    "                     solver='gurobi', name=f\"res_gwp_79\", print_solversteps=True, saveformat = '.pkl')"
   ]
  },
  {
   "cell_type": "code",
   "execution_count": null,
   "metadata": {},
   "outputs": [],
   "source": [
    "results_gwp_79.output['objective']"
   ]
  },
  {
   "cell_type": "code",
   "execution_count": null,
   "metadata": {},
   "outputs": [],
   "source": [
    "results_gwp_79.output['global_warming_potential_location']"
   ]
  },
  {
   "cell_type": "code",
   "execution_count": null,
   "metadata": {},
   "outputs": [],
   "source": [
    "results_gwp_79.output['P']"
   ]
  },
  {
   "cell_type": "code",
   "execution_count": null,
   "metadata": {},
   "outputs": [],
   "source": [
    "milp_gwp_85 = formulate(scenario=scenario, constraints={Constraints.COST, Constraints.INVENTORY, Constraints.PRODUCTION,\n",
    "                     Constraints.RESOURCE_BALANCE, Constraints.NETWORK, Constraints.DEMAND, Constraints.EMISSION}, objective=Objective.COST, demand_sign = 'eq')\n",
    "\n",
    "from energiapy.model.constraints.emission import constraint_global_warming_potential_network_reduction\n",
    "constraint_global_warming_potential_network_reduction(instance= milp_gwp_85, network_scale_level = 0, gwp_reduction_pct = 85, gwp = results_cost.output['global_warming_potential_network'][0])"
   ]
  },
  {
   "cell_type": "code",
   "execution_count": null,
   "metadata": {},
   "outputs": [],
   "source": [
    "from pyomo.environ import ConstraintList\n",
    "\n",
    "ramping_limit = 3\n",
    "\n",
    "milp_gwp_85.cons1 = ConstraintList()\n",
    "for i in scales.scale_iter(1):\n",
    "    if i != (0,0):\n",
    "        milp_gwp_85.cons1.add(expr = milp_gwp_85.P['HO', 'PEM', *i] - milp_gwp_85.P['HO', 'PEM', *scales.scale_iter(2)[scales.scale_iter(1).index(i) - 1]] <= ramping_limit)\n",
    "\n",
    "milp_gwp_85.cons2 = ConstraintList()\n",
    "for i in scales.scale_iter(1):\n",
    "    if i != (0,0):\n",
    "        milp_gwp_85.cons2.add(expr = milp_gwp_85.P['HO', 'SMR', *i] - milp_gwp_85.P['HO', 'SMR', *scales.scale_iter(2)[scales.scale_iter(1).index(i) - 1]] <= ramping_limit)\n",
    "\n",
    "milp_gwp_85.cons3 = ConstraintList()\n",
    "for i in scales.scale_iter(1):\n",
    "    if i != (0,0):\n",
    "        milp_gwp_85.cons3.add(expr = milp_gwp_85.P['HO', 'SMRCCS', *i] - milp_gwp_85.P['HO', 'SMRCCS', *scales.scale_iter(2)[scales.scale_iter(1).index(i) - 1]] <= ramping_limit)\n",
    "\n",
    "milp_gwp_85.cons4 = ConstraintList()\n",
    "for i in scales.scale_iter(2):\n",
    "    milp_gwp_85.cons4.add(expr = milp_gwp_85.P['HO', 'SMR', *i] >= 5)"
   ]
  },
  {
   "cell_type": "code",
   "execution_count": null,
   "metadata": {},
   "outputs": [],
   "source": [
    "results_gwp_85 = solve(scenario=scenario, instance=milp_gwp_85,\n",
    "                     solver='gurobi', name=f\"res_gwp_85\", print_solversteps=True, saveformat = '.pkl')"
   ]
  },
  {
   "cell_type": "code",
   "execution_count": null,
   "metadata": {},
   "outputs": [],
   "source": [
    "# data = results_gwp_85.output['P']\n",
    "# df = pd.DataFrame(data,index=[0])\n",
    "# df = df.T\n",
    "# # Export the DataFrame to an Excel file\n",
    "# df.to_excel('C:/Users/marcopdsousa/Desktop/Dataframes/mingwpprod85.xlsx', index=True)"
   ]
  },
  {
   "cell_type": "code",
   "execution_count": null,
   "metadata": {},
   "outputs": [],
   "source": [
    "results_gwp_85.output['objective']"
   ]
  },
  {
   "cell_type": "code",
   "execution_count": null,
   "metadata": {},
   "outputs": [],
   "source": [
    "results_gwp_85.output['global_warming_potential_location']"
   ]
  },
  {
   "cell_type": "code",
   "execution_count": null,
   "metadata": {},
   "outputs": [],
   "source": [
    "results_gwp_85.output['P']"
   ]
  },
  {
   "cell_type": "code",
   "execution_count": null,
   "metadata": {},
   "outputs": [],
   "source": [
    "milp_gwp_80 = formulate(scenario=scenario, constraints={Constraints.COST, Constraints.INVENTORY, Constraints.PRODUCTION,\n",
    "                     Constraints.RESOURCE_BALANCE, Constraints.NETWORK, Constraints.DEMAND, Constraints.EMISSION}, objective=Objective.COST, demand_sign = 'eq')\n",
    "\n",
    "from energiapy.model.constraints.emission import constraint_global_warming_potential_network_reduction\n",
    "constraint_global_warming_potential_network_reduction(instance= milp_gwp_80, network_scale_level = 0, gwp_reduction_pct = 80, gwp = results_cost.output['global_warming_potential_network'][0])"
   ]
  },
  {
   "cell_type": "code",
   "execution_count": null,
   "metadata": {},
   "outputs": [],
   "source": [
    "from pyomo.environ import ConstraintList\n",
    "\n",
    "ramping_limit = 3\n",
    "\n",
    "milp_gwp_80.cons1 = ConstraintList()\n",
    "for i in scales.scale_iter(1):\n",
    "    if i != (0,0):\n",
    "        milp_gwp_80.cons1.add(expr = milp_gwp_80.P['HO', 'PEM', *i] - milp_gwp_80.P['HO', 'PEM', *scales.scale_iter(2)[scales.scale_iter(1).index(i) - 1]] <= ramping_limit)\n",
    "\n",
    "milp_gwp_80.cons2 = ConstraintList()\n",
    "for i in scales.scale_iter(1):\n",
    "    if i != (0,0):\n",
    "        milp_gwp_80.cons2.add(expr = milp_gwp_80.P['HO', 'SMR', *i] - milp_gwp_80.P['HO', 'SMR', *scales.scale_iter(2)[scales.scale_iter(1).index(i) - 1]] <= ramping_limit)\n",
    "\n",
    "milp_gwp_80.cons3 = ConstraintList()\n",
    "for i in scales.scale_iter(1):\n",
    "    if i != (0,0):\n",
    "        milp_gwp_80.cons3.add(expr = milp_gwp_80.P['HO', 'SMRCCS', *i] - milp_gwp_80.P['HO', 'SMRCCS', *scales.scale_iter(2)[scales.scale_iter(1).index(i) - 1]] <= ramping_limit)\n",
    "\n",
    "milp_gwp_80.cons4 = ConstraintList()\n",
    "for i in scales.scale_iter(2):\n",
    "    milp_gwp_80.cons4.add(expr = milp_gwp_80.P['HO', 'SMR', *i] >= 5)"
   ]
  },
  {
   "cell_type": "code",
   "execution_count": null,
   "metadata": {},
   "outputs": [],
   "source": [
    "results_gwp_80 = solve(scenario=scenario, instance=milp_gwp_80,\n",
    "                     solver='gurobi', name=f\"res_gwp_80\", print_solversteps=True, saveformat = '.pkl')"
   ]
  },
  {
   "cell_type": "code",
   "execution_count": null,
   "metadata": {},
   "outputs": [],
   "source": [
    "# data = results_gwp_80.output['P']\n",
    "# df = pd.DataFrame(data,index=[0])\n",
    "# df = df.T\n",
    "# # Export the DataFrame to an Excel file\n",
    "# df.to_excel('C:/Users/marcopdsousa/Desktop/Dataframes/mingwpprod80.xlsx', index=True)"
   ]
  },
  {
   "cell_type": "code",
   "execution_count": null,
   "metadata": {},
   "outputs": [],
   "source": [
    "# data = results_gwp_80.output['global_warming_potential_resource']\n",
    "# df = pd.DataFrame(data,index=[0])\n",
    "# df = df.T\n",
    "# # Export the DataFrame to an Excel file\n",
    "# df.to_excel('C:/Users/marcopdsousa/Desktop/Dataframes/mingwp80resource_emission.xlsx', index=True)"
   ]
  },
  {
   "cell_type": "code",
   "execution_count": null,
   "metadata": {},
   "outputs": [],
   "source": [
    "results_gwp_80.output['objective']"
   ]
  },
  {
   "cell_type": "code",
   "execution_count": null,
   "metadata": {},
   "outputs": [],
   "source": [
    "results_gwp_80.output['global_warming_potential_location']"
   ]
  },
  {
   "cell_type": "code",
   "execution_count": null,
   "metadata": {},
   "outputs": [],
   "source": [
    "milp_gwp_90 = formulate(scenario=scenario, constraints={Constraints.COST, Constraints.INVENTORY, Constraints.PRODUCTION,\n",
    "                     Constraints.RESOURCE_BALANCE, Constraints.NETWORK, Constraints.DEMAND, Constraints.EMISSION}, objective=Objective.COST, demand_sign = 'eq')\n",
    "\n",
    "from energiapy.model.constraints.emission import constraint_global_warming_potential_network_reduction\n",
    "constraint_global_warming_potential_network_reduction(instance= milp_gwp_90, network_scale_level = 0, gwp_reduction_pct = 90, gwp = results_cost.output['global_warming_potential_network'][0])"
   ]
  },
  {
   "cell_type": "code",
   "execution_count": null,
   "metadata": {},
   "outputs": [],
   "source": [
    "from pyomo.environ import ConstraintList\n",
    "\n",
    "ramping_limit = 3\n",
    "\n",
    "milp_gwp_90.cons1 = ConstraintList()\n",
    "for i in scales.scale_iter(1):\n",
    "    if i != (0,0):\n",
    "        milp_gwp_90.cons1.add(expr = milp_gwp_90.P['HO', 'PEM', *i] - milp_gwp_90.P['HO', 'PEM', *scales.scale_iter(2)[scales.scale_iter(1).index(i) - 1]] <= ramping_limit)\n",
    "\n",
    "milp_gwp_90.cons2 = ConstraintList()\n",
    "for i in scales.scale_iter(1):\n",
    "    if i != (0,0):\n",
    "        milp_gwp_90.cons2.add(expr = milp_gwp_90.P['HO', 'SMR', *i] - milp_gwp_90.P['HO', 'SMR', *scales.scale_iter(2)[scales.scale_iter(1).index(i) - 1]] <= ramping_limit)\n",
    "\n",
    "milp_gwp_90.cons3 = ConstraintList()\n",
    "for i in scales.scale_iter(1):\n",
    "    if i != (0,0):\n",
    "        milp_gwp_90.cons3.add(expr = milp_gwp_90.P['HO', 'SMRCCS', *i] - milp_gwp_90.P['HO', 'SMRCCS', *scales.scale_iter(2)[scales.scale_iter(1).index(i) - 1]] <= ramping_limit)\n",
    "\n",
    "milp_gwp_90.cons4 = ConstraintList()\n",
    "for i in scales.scale_iter(2):\n",
    "    milp_gwp_90.cons4.add(expr = milp_gwp_90.P['HO', 'SMR', *i] >= 5)"
   ]
  },
  {
   "cell_type": "code",
   "execution_count": null,
   "metadata": {},
   "outputs": [],
   "source": [
    "results_gwp_90 = solve(scenario=scenario, instance=milp_gwp_90,\n",
    "                     solver='gurobi', name=f\"res_gwp_90\", print_solversteps=True, saveformat = '.pkl')"
   ]
  },
  {
   "cell_type": "code",
   "execution_count": null,
   "metadata": {},
   "outputs": [],
   "source": [
    "# data = results_gwp_90.output['P']\n",
    "# df = pd.DataFrame(data,index=[0])\n",
    "# df = df.T\n",
    "# # Export the DataFrame to an Excel file\n",
    "# df.to_excel('C:/Users/marcopdsousa/Desktop/Dataframes/mingwpprod90.xlsx', index=True)"
   ]
  },
  {
   "cell_type": "code",
   "execution_count": null,
   "metadata": {},
   "outputs": [],
   "source": [
    "# data = results_gwp_90.output['global_warming_potential_resource']\n",
    "# df = pd.DataFrame(data,index=[0])\n",
    "# df = df.T\n",
    "# # Export the DataFrame to an Excel file\n",
    "# df.to_excel('C:/Users/marcopdsousa/Desktop/Dataframes/mingwp90resource_emission.xlsx', index=True)"
   ]
  },
  {
   "cell_type": "code",
   "execution_count": null,
   "metadata": {},
   "outputs": [],
   "source": [
    "results_gwp_90.output['objective']"
   ]
  },
  {
   "cell_type": "code",
   "execution_count": null,
   "metadata": {},
   "outputs": [],
   "source": [
    "results_gwp_90.output['global_warming_potential_location']"
   ]
  },
  {
   "cell_type": "code",
   "execution_count": null,
   "metadata": {},
   "outputs": [],
   "source": [
    "results_gwp_90.output['P']"
   ]
  },
  {
   "cell_type": "code",
   "execution_count": null,
   "metadata": {},
   "outputs": [],
   "source": [
    "milp_gwp_92 = formulate(scenario=scenario, constraints={Constraints.COST, Constraints.INVENTORY, Constraints.PRODUCTION,\n",
    "                     Constraints.RESOURCE_BALANCE, Constraints.NETWORK, Constraints.DEMAND, Constraints.EMISSION}, objective=Objective.COST, demand_sign = 'eq')\n",
    "\n",
    "from energiapy.model.constraints.emission import constraint_global_warming_potential_network_reduction\n",
    "constraint_global_warming_potential_network_reduction(instance= milp_gwp_92, network_scale_level = 0, gwp_reduction_pct = 92, gwp = results_cost.output['global_warming_potential_network'][0])"
   ]
  },
  {
   "cell_type": "code",
   "execution_count": null,
   "metadata": {},
   "outputs": [],
   "source": [
    "from pyomo.environ import ConstraintList\n",
    "\n",
    "ramping_limit = 3\n",
    "\n",
    "milp_gwp_92.cons1 = ConstraintList()\n",
    "for i in scales.scale_iter(1):\n",
    "    if i != (0,0):\n",
    "        milp_gwp_92.cons1.add(expr = milp_gwp_92.P['HO', 'PEM', *i] - milp_gwp_92.P['HO', 'PEM', *scales.scale_iter(2)[scales.scale_iter(1).index(i) - 1]] <= ramping_limit)\n",
    "\n",
    "milp_gwp_92.cons2 = ConstraintList()\n",
    "for i in scales.scale_iter(1):\n",
    "    if i != (0,0):\n",
    "        milp_gwp_92.cons2.add(expr = milp_gwp_92.P['HO', 'SMR', *i] - milp_gwp_92.P['HO', 'SMR', *scales.scale_iter(2)[scales.scale_iter(1).index(i) - 1]] <= ramping_limit)\n",
    "\n",
    "milp_gwp_92.cons3 = ConstraintList()\n",
    "for i in scales.scale_iter(1):\n",
    "    if i != (0,0):\n",
    "        milp_gwp_92.cons3.add(expr = milp_gwp_92.P['HO', 'SMRCCS', *i] - milp_gwp_92.P['HO', 'SMRCCS', *scales.scale_iter(2)[scales.scale_iter(1).index(i) - 1]] <= ramping_limit)\n",
    "\n",
    "milp_gwp_92.cons4 = ConstraintList()\n",
    "for i in scales.scale_iter(2):\n",
    "    milp_gwp_92.cons4.add(expr = milp_gwp_92.P['HO', 'SMR', *i] >= 5)"
   ]
  },
  {
   "cell_type": "code",
   "execution_count": null,
   "metadata": {},
   "outputs": [],
   "source": [
    "results_gwp_92 = solve(scenario=scenario, instance=milp_gwp_92,\n",
    "                     solver='gurobi', name=f\"res_gwp_92\", print_solversteps=True, saveformat = '.pkl')"
   ]
  },
  {
   "cell_type": "code",
   "execution_count": null,
   "metadata": {},
   "outputs": [],
   "source": [
    "results_gwp_92.output['objective']"
   ]
  },
  {
   "cell_type": "code",
   "execution_count": null,
   "metadata": {},
   "outputs": [],
   "source": [
    "results_gwp_92.output['global_warming_potential_location']"
   ]
  },
  {
   "cell_type": "code",
   "execution_count": null,
   "metadata": {},
   "outputs": [],
   "source": [
    "results_gwp_92.output['P']"
   ]
  },
  {
   "cell_type": "code",
   "execution_count": null,
   "metadata": {},
   "outputs": [],
   "source": [
    "# data = results_gwp_92.output['P']\n",
    "# df = pd.DataFrame(data,index=[0])\n",
    "# df = df.T\n",
    "# # Export the DataFrame to an Excel file\n",
    "# df.to_excel('C:/Users/marcopdsousa/Desktop/Dataframes/mingwpprod92.xlsx', index=True)"
   ]
  }
 ],
 "metadata": {
  "kernelspec": {
   "display_name": "Python 3.10.5 ('ki': venv)",
   "language": "python",
   "name": "python3"
  },
  "language_info": {
   "codemirror_mode": {
    "name": "ipython",
    "version": 3
   },
   "file_extension": ".py",
   "mimetype": "text/x-python",
   "name": "python",
   "nbconvert_exporter": "python",
   "pygments_lexer": "ipython3",
   "version": "3.11.8"
  },
  "orig_nbformat": 4,
  "vscode": {
   "interpreter": {
    "hash": "a4a97498e3c1bfef05f70a75d4fcafcb7b5c9c4ed86429a4e7bee46eaa890f24"
   }
  }
 },
 "nbformat": 4,
 "nbformat_minor": 2
}
