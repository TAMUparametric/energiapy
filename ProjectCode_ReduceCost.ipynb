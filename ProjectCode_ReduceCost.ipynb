{
 "cells": [
  {
   "cell_type": "code",
   "execution_count": 1,
   "id": "afb9ec88",
   "metadata": {},
   "outputs": [],
   "source": [
    "import sys\n",
    "sys.path.append('src')"
   ]
  },
  {
   "cell_type": "code",
   "execution_count": 2,
   "id": "961ef9ef",
   "metadata": {},
   "outputs": [],
   "source": [
    "import pandas\n",
    "import numpy\n",
    "from energiapy.components.temporal_scale import TemporalScale\n",
    "from energiapy.components.resource import Resource, VaryingResource\n",
    "from energiapy.components.process import Process, ProcessMode, VaryingProcess\n",
    "from energiapy.components.material import Material\n",
    "from energiapy.components.location import Location\n",
    "from energiapy.components.scenario import Scenario\n",
    "from energiapy.components.result import Result\n",
    "from energiapy.model.formulate import formulate, Constraints, Objective\n",
    "from energiapy.plot import plot_results, plot_scenario\n",
    "from energiapy.plot.plot_results import CostY, CostX\n",
    "from energiapy.model.solve import solve"
   ]
  },
  {
   "cell_type": "markdown",
   "id": "c593b5f8",
   "metadata": {},
   "source": [
    "Scales"
   ]
  },
  {
   "cell_type": "code",
   "execution_count": 3,
   "id": "12c1143b",
   "metadata": {},
   "outputs": [],
   "source": [
    "scales=TemporalScale(discretization_list=[1]) "
   ]
  },
  {
   "cell_type": "markdown",
   "id": "7a54554f",
   "metadata": {},
   "source": [
    "Resources"
   ]
  },
  {
   "cell_type": "code",
   "execution_count": 4,
   "id": "a0473e21",
   "metadata": {},
   "outputs": [],
   "source": [
    "Biomass= Resource(name='Biomass', price=36.11, cons_max= 10**10, basis='GJ', label='Biomass') #table 2\n",
    "\n",
    "GridPower = Resource(name='GridPower', cons_max = 10**10, price=9.72, basis='GJ', label='Grid Electricity')\n",
    "\n",
    "NG = Resource(name='NG', price= 8.89, cons_max= 10*10, basis='GJ', label='Natural gas')\n",
    "Power=Resource(name='Power', basis='kW',label='Electrical Power')\n",
    "Heat=Resource(name='Heat', basis='kW',label='Heat Power')\n",
    "\n",
    "CO2_Vent = Resource(name='CO2_Vent', sell=True, basis='tons', label='Carbon dioxide')\n",
    "\n",
    "Solar = Resource(name = 'Solar', cons_max=10**10, basis ='GJ', label ='Solar energy') \n",
    "Wind = Resource(name = 'Wind', cons_max=10**10, basis ='GJ', label ='Wind energy')\n",
    "\n",
    "Lighting = Resource(name='Lighting', demand=True, basis='kW',label='Lighting')\n",
    "Refrigeration = Resource(name='Refrigeration', demand=True, basis='kW',label='Refrigeration') \n",
    "Heating = Resource(name='Heating', demand=True, basis='kW',label='Heating')\n"
   ]
  },
  {
   "cell_type": "markdown",
   "id": "9db1df3f",
   "metadata": {},
   "source": [
    "Processes"
   ]
  },
  {
   "cell_type": "code",
   "execution_count": 6,
   "id": "f584e041",
   "metadata": {},
   "outputs": [],
   "source": [
    "ST= Process(name='BM_ST', conversion={Biomass: -1, Power: 277.78*0.68, CO2_Vent:100},capex=250, fopex=15,\n",
    "            cap_min=100, cap_max=1000000, label='Biomass ST', basis='PJ') #table 3 \n",
    "\n",
    "\n",
    "CHP= Process(name='NG_CHP', conversion={NG: -1, Power: 277.78*0.44, CO2_Vent: 56, Heat: 277.78*0.28},\n",
    "             capex=500, fopex=15, cap_max=1000000, cap_min=800, label='Natural Gas CHP', basis='PJ')\n",
    "\n",
    "\n",
    "PV= Process(name='PV', conversion={Solar: -1, Power: 277.78*0.09}, capex=2000, fopex = 500, \n",
    "             cap_max=300, cap_min=10, label='Solar PV',  basis='kW')\n",
    "\n",
    "\n",
    "WF= Process(name='WF',conversion={Wind: -1, Power: 277.78*0.22}, capex=2000, fopex=1200,\n",
    "             cap_max=500, cap_min=10, label='Wind Farm', basis='kW') \n",
    "\n",
    "\n",
    "Grid = Process(name = 'Grid', conversion = {GridPower:-1, Power:277.78, CO2_Vent:90}, \n",
    "               basis = 'PJ', label = 'Grid Electricity', cap_max = 1000)"
   ]
  },
  {
   "cell_type": "code",
   "execution_count": 8,
   "id": "0a648956",
   "metadata": {},
   "outputs": [],
   "source": [
    "Refrigerator = Process(name = 'Refrigerator', conversion = {Power:-1, Refrigeration:1*3}, capex = 70, vopex = 4, \n",
    "             basis = 'kW', label = 'Refrigerator', cap_max = 1000)\n",
    "\n",
    "LED = Process(name = 'LED', conversion = {Power:-1, Lighting:1*0.8}, capex = 10, vopex = 1, \n",
    "             basis = 'kW', label = 'LED', cap_max = 1000)\n",
    "\n",
    "Heater = Process(name = 'Heater', conversion = {Heat:-1, Heating:1*0.85}, capex = 30, vopex = 3, \n",
    "             basis = 'kW', label = 'Heater', cap_max = 1000)"
   ]
  },
  {
   "cell_type": "markdown",
   "id": "a60e71bf",
   "metadata": {},
   "source": [
    "Location"
   ]
  },
  {
   "cell_type": "code",
   "execution_count": 9,
   "id": "1934ea2d",
   "metadata": {},
   "outputs": [],
   "source": [
    "place = Location(name = 'place', processes = {ST, CHP, PV, WF, Grid, Refrigerator, LED, Heater}, \n",
    "                 scales = scales, label = 'College Station')"
   ]
  },
  {
   "cell_type": "markdown",
   "id": "d487226b",
   "metadata": {},
   "source": [
    "Scenario"
   ]
  },
  {
   "cell_type": "code",
   "execution_count": 10,
   "id": "5a461db2",
   "metadata": {},
   "outputs": [],
   "source": [
    "scenario= Scenario(name='scenario', network=place, \n",
    "                   demand= {place:{Heating:100, Lighting:200, Refrigeration:1000}},\n",
    "                   network_scale_level=0,scheduling_scale_level=0, scales=scales, label='scenario', demand_scale_level = 0)\n",
    "#26000 is the total power we will need in 20 years running the supermarket\n"
   ]
  },
  {
   "cell_type": "code",
   "execution_count": 11,
   "id": "e0efca39",
   "metadata": {},
   "outputs": [
    {
     "data": {
      "text/plain": [
       "{place: {Heating: 100, Lighting: 200, Refrigeration: 1000}}"
      ]
     },
     "execution_count": 11,
     "metadata": {},
     "output_type": "execute_result"
    }
   ],
   "source": [
    "scenario.demand"
   ]
  },
  {
   "cell_type": "markdown",
   "id": "28c7ec56",
   "metadata": {},
   "source": [
    "Plotting"
   ]
  },
  {
   "cell_type": "code",
   "execution_count": 12,
   "id": "6d5cfa54",
   "metadata": {},
   "outputs": [
    {
     "name": "stdout",
     "output_type": "stream",
     "text": [
      "constraint process capex\n",
      "constraint process fopex\n",
      "constraint process vopex\n",
      "constraint process incidental\n",
      "constraint storage cost\n",
      "constraint storage cost location\n",
      "constraint storage cost network\n",
      "constraint production mode\n",
      "constraint inventory balance\n",
      "constraint inventory network\n",
      "constraint storage facility\n",
      "constraint production facility\n",
      "constraint min production facility\n",
      "constraint min storage facility\n",
      "constraint demand\n",
      "objective cost\n"
     ]
    }
   ],
   "source": [
    "lp=formulate(scenario=scenario, constraints=\n",
    "            {\n",
    "            Constraints.COST,\n",
    "            Constraints.PRODUCTION,\n",
    "            Constraints.RESOURCE_BALANCE,\n",
    "            Constraints.INVENTORY,\n",
    "            Constraints.NETWORK,\n",
    "            Constraints.DEMAND,\n",
    "            }, objective=Objective.COST)"
   ]
  },
  {
   "cell_type": "code",
   "execution_count": 13,
   "id": "681c7135",
   "metadata": {},
   "outputs": [
    {
     "name": "stdout",
     "output_type": "stream",
     "text": [
      "constraint_demand : specific demand for resources\n",
      "    Size=3, Index=constraint_demand_index, Active=True\n",
      "    Key                           : Lower  : Body                     : Upper : Active\n",
      "          ('place', 'Heating', 0) :  100.0 :       S[place,Heating,0] :  +Inf :   True\n",
      "         ('place', 'Lighting', 0) :  200.0 :      S[place,Lighting,0] :  +Inf :   True\n",
      "    ('place', 'Refrigeration', 0) : 1000.0 : S[place,Refrigeration,0] :  +Inf :   True\n"
     ]
    }
   ],
   "source": [
    "lp.constraint_demand.pprint()"
   ]
  },
  {
   "cell_type": "code",
   "execution_count": 14,
   "id": "93fe8dc7",
   "metadata": {},
   "outputs": [
    {
     "name": "stdout",
     "output_type": "stream",
     "text": [
      "Set parameter QCPDual to value 1\n",
      "Gurobi Optimizer version 10.0.2 build v10.0.2rc0 (win64)\n",
      "\n",
      "CPU model: Intel(R) Core(TM) i7-6700 CPU @ 3.40GHz, instruction set [SSE2|AVX|AVX2]\n",
      "Thread count: 4 physical cores, 8 logical processors, using up to 8 threads\n",
      "\n",
      "Optimize a model with 150 rows, 145 columns and 294 nonzeros\n",
      "Model fingerprint: 0x3d97f526\n",
      "Variable types: 137 continuous, 8 integer (8 binary)\n",
      "Coefficient statistics:\n",
      "  Matrix range     [8e-01, 1e+06]\n",
      "  Objective range  [1e+00, 1e+00]\n",
      "  Bounds range     [1e+00, 1e+00]\n",
      "  RHS range        [1e+02, 1e+10]\n",
      "Warning: Model contains large rhs\n",
      "         Consider reformulating model or setting NumericFocus parameter\n",
      "         to avoid numerical issues.\n",
      "Presolve removed 143 rows and 137 columns\n",
      "Presolve time: 0.00s\n",
      "Presolved: 7 rows, 8 columns, 16 nonzeros\n",
      "Variable types: 6 continuous, 2 integer (2 binary)\n",
      "Found heuristic solution: objective 443326.40934\n",
      "\n",
      "Explored 0 nodes (0 simplex iterations) in 0.02 seconds (0.00 work units)\n",
      "Thread count was 8 (of 8 available processors)\n",
      "\n",
      "Solution count 1: 443326 \n",
      "\n",
      "Optimal solution found (tolerance 1.00e-04)\n",
      "Best objective 4.433264093383e+05, best bound 4.433264093383e+05, gap 0.0000%\n",
      "WARNING: Cannot get duals for MIP.\n"
     ]
    }
   ],
   "source": [
    "results=solve(scenario= scenario, instance=lp, solver='gurobi', name='lp')"
   ]
  },
  {
   "cell_type": "code",
   "execution_count": 15,
   "id": "c171843d",
   "metadata": {},
   "outputs": [
    {
     "data": {
      "text/plain": [
       "{('place', 'BM_ST', 0): 0.0,\n",
       " ('place', 'Grid', 0): 1000.0,\n",
       " ('place', 'Heater', 0): 117.64705882352916,\n",
       " ('place', 'LED', 0): 250.0,\n",
       " ('place', 'NG_CHP', 0): 800.0,\n",
       " ('place', 'PV', 0): 0.0,\n",
       " ('place', 'Refrigerator', 0): 333.3333333333333,\n",
       " ('place', 'WF', 0): 0.0}"
      ]
     },
     "execution_count": 15,
     "metadata": {},
     "output_type": "execute_result"
    }
   ],
   "source": [
    "results.output['Cap_P'] #CAPACITY PRODUCED "
   ]
  },
  {
   "cell_type": "code",
   "execution_count": 16,
   "id": "5f29392c",
   "metadata": {},
   "outputs": [
    {
     "data": {
      "text/plain": [
       "{('place', 'Heating', 0): 100.00000000000001,\n",
       " ('place', 'Refrigeration', 0): 1000.0,\n",
       " ('place', 'Lighting', 0): 200.0,\n",
       " ('place', 'CO2_Vent', 0): 213.80501224897768}"
      ]
     },
     "execution_count": 16,
     "metadata": {},
     "output_type": "execute_result"
    }
   ],
   "source": [
    "results.output['S'] #AMOUNT SOLD / DEMAND "
   ]
  },
  {
   "cell_type": "code",
   "execution_count": 17,
   "id": "89f298e6",
   "metadata": {},
   "outputs": [
    {
     "data": {
      "text/plain": [
       "{('place', 'Refrigerator', 0): 333.3333333333333,\n",
       " ('place', 'PV', 0): 0.0,\n",
       " ('place', 'LED', 0): 250.0,\n",
       " ('place', 'WF', 0): 0.0,\n",
       " ('place', 'BM_ST', 0): 0.0,\n",
       " ('place', 'Grid', 0): 1.4344423059741573,\n",
       " ('place', 'NG_CHP', 0): 1.5125929412732766,\n",
       " ('place', 'Heater', 0): 117.64705882352942}"
      ]
     },
     "execution_count": 17,
     "metadata": {},
     "output_type": "execute_result"
    }
   ],
   "source": [
    "results.output['P'] #Amount Produced"
   ]
  },
  {
   "cell_type": "code",
   "execution_count": 18,
   "id": "2c21ee2a",
   "metadata": {},
   "outputs": [
    {
     "data": {
      "text/plain": [
       "{('place', 'NG', 0): 1.5125929412732766,\n",
       " ('place', 'Biomass', 0): 0.0,\n",
       " ('place', 'GridPower', 0): 1.4344423059741573,\n",
       " ('place', 'Solar', 0): 0.0,\n",
       " ('place', 'Wind', 0): 0.0}"
      ]
     },
     "execution_count": 18,
     "metadata": {},
     "output_type": "execute_result"
    }
   ],
   "source": [
    "results.output['C'] #Amount Consumed "
   ]
  },
  {
   "cell_type": "code",
   "execution_count": 20,
   "id": "d069b171",
   "metadata": {},
   "outputs": [
    {
     "data": {
      "image/png": "[encoded data removed]",
      "text/plain": [
       "<Figure size 1200x600 with 1 Axes>"
      ]
     },
     "metadata": {},
     "output_type": "display_data"
    }
   ],
   "source": [
    "plot_results.schedule(results=results, y_axis='P', component='LED',location='place')"
   ]
  },
  {
   "cell_type": "code",
   "execution_count": null,
   "id": "060b249f",
   "metadata": {},
   "outputs": [],
   "source": []
  }
 ],
 "metadata": {
  "kernelspec": {
   "display_name": "Python 3 (ipykernel)",
   "language": "python",
   "name": "python3"
  },
  "language_info": {
   "codemirror_mode": {
    "name": "ipython",
    "version": 3
   },
   "file_extension": ".py",
   "mimetype": "text/x-python",
   "name": "python",
   "nbconvert_exporter": "python",
   "pygments_lexer": "ipython3",
   "version": "3.10.5"
  }
 },
 "nbformat": 4,
 "nbformat_minor": 5
}
