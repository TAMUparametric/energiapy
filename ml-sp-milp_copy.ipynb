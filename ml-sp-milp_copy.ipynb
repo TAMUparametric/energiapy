{
 "cells": [
  {
   "attachments": {},
   "cell_type": "markdown",
   "metadata": {},
   "source": [
    "## Import modules"
   ]
  },
  {
   "cell_type": "code",
   "execution_count": 1,
   "metadata": {},
   "outputs": [],
   "source": [
    "import sys\n",
    "sys.path.append('src')"
   ]
  },
  {
   "cell_type": "code",
   "execution_count": 2,
   "metadata": {},
   "outputs": [],
   "source": [
    "import pandas\n",
    "import numpy\n",
    "\n",
    "from energiapy.components import *\n",
    "from energiapy.utils.data_utils import make_henry_price_df, remove_outliers"
   ]
  },
  {
   "cell_type": "markdown",
   "metadata": {},
   "source": [
    "## Data Import"
   ]
  },
  {
   "cell_type": "markdown",
   "metadata": {},
   "source": [
    "The following data is needed for the model\n",
    "\n",
    "- solar and wind profiles : energiapy.fetch_nsrdb_data imports data from the NREL NSRDB database\n",
    "- power demand : ERCOT for Houston; CAISO for San Diego\n",
    "- Natural Gas prices: Henry Hub Price Index for both\n"
   ]
  },
  {
   "cell_type": "markdown",
   "metadata": {},
   "source": [
    "**Get Weather data**"
   ]
  },
  {
   "cell_type": "code",
   "execution_count": 3,
   "metadata": {},
   "outputs": [],
   "source": [
    "def load_data(loc:str, index:list):\n",
    "    df = pandas.read_csv(f'data/{loc}_solar19.csv')\n",
    "    df['idx'] = index\n",
    "    df = df.set_index('idx')\n",
    "    return df"
   ]
  },
  {
   "cell_type": "code",
   "execution_count": 4,
   "metadata": {},
   "outputs": [],
   "source": [
    "idx = [(i,j,k) for i,j,k in product(range(1), range(365), range(24))]\n"
   ]
  },
  {
   "cell_type": "code",
   "execution_count": 5,
   "metadata": {},
   "outputs": [],
   "source": [
    "weather_ny = load_data('ny', idx)[['DNI', 'Wind Speed']]\n",
    "weather_ny = weather_ny.rename(columns= {'DNI': 'dni', 'Wind Speed': 'wind_speed'})\n",
    "weather_sd = load_data('sd', idx)[['dni', 'wind_speed']]\n",
    "weather_ho = load_data('ho', idx)[['dni', 'wind_speed']]\n"
   ]
  },
  {
   "cell_type": "markdown",
   "metadata": {},
   "source": [
    "**Demand data for San Diego (CAISO for SDGE region) and Houston (ERCOT for COAST region)**"
   ]
  },
  {
   "cell_type": "code",
   "execution_count": 6,
   "metadata": {},
   "outputs": [],
   "source": [
    "demand_sd = pandas.read_excel('data/HistoricalEMSHourlyLoad-2019.xlsx', index_col= 0)[['SDGE']]\n",
    "demand_ho = pandas.read_excel('data/Native_Load_2019.xlsx')[['COAST']]\n",
    "demand_ny = pandas.DataFrame(pandas.read_csv('data/NYC_load.csv')['Load']) #from Will and Doga"
   ]
  },
  {
   "cell_type": "markdown",
   "metadata": {},
   "source": [
    "**Natural gas prices from Henry Hub Price Index**  \n",
    "\n",
    "We use the special function energiapy.make_henry_price_df because of special requirements such as filling in empty data points (weekends, public holidays). Such function will be generalized in the next update of energipy"
   ]
  },
  {
   "cell_type": "code",
   "execution_count": 7,
   "metadata": {},
   "outputs": [],
   "source": [
    "ng_price = make_henry_price_df(\n",
    "    file_name='Henry_Hub_Natural_Gas_Spot_Price_Daily.csv', year=2020)\n",
    "ng_price = ng_price.drop(columns= 'scales')\n",
    "ng_price = remove_outliers(ng_price, sd_cuttoff = 3)\n",
    "ng_price = pandas.concat([ng_price])"
   ]
  },
  {
   "cell_type": "markdown",
   "metadata": {},
   "source": [
    "## Define temporal scale\n"
   ]
  },
  {
   "cell_type": "markdown",
   "metadata": {},
   "source": [
    "The variabilities of energy systems are best captured over a discretized spatio-temporal scale. In energiapy, the first declaration is the temporal scale. \n",
    "\n",
    "For e.g.: Here we declare three temporal scales at different levels from right to left. The interpretation of these scales is merely symentic. Scales can be declared as the problem demands.\n",
    "- 0, annual, with 1 discretization\n",
    "- 1, daily with 365 discretization\n",
    "- 2, hourly with 24 discretization\n",
    "\n",
    "In essence, we are creating a temporal scale of 8760 points."
   ]
  },
  {
   "cell_type": "code",
   "execution_count": 8,
   "metadata": {},
   "outputs": [],
   "source": [
    "scales = TemporalScale(discretization_list=[1, 365, 24], design_scale= 0, scheduling_scale=2)"
   ]
  },
  {
   "cell_type": "code",
   "execution_count": 9,
   "metadata": {},
   "outputs": [],
   "source": [
    "bigM = 10**6"
   ]
  },
  {
   "cell_type": "markdown",
   "metadata": {},
   "source": [
    "## Declare resources"
   ]
  },
  {
   "cell_type": "markdown",
   "metadata": {},
   "source": [
    "Resources can be consumed, produced, stored, discharged (or sold). "
   ]
  },
  {
   "cell_type": "code",
   "execution_count": 10,
   "metadata": {},
   "outputs": [],
   "source": [
    "th_h2 = Theta((0, 10))"
   ]
  },
  {
   "cell_type": "code",
   "execution_count": 11,
   "metadata": {},
   "outputs": [],
   "source": [
    "# Hydrogen = Resource(name='H2', discharge = True, sell_price = Theta((0, 10)))"
   ]
  },
  {
   "cell_type": "code",
   "execution_count": 12,
   "metadata": {},
   "outputs": [],
   "source": [
    "Solar = Resource(name='Solar', cons_max=100, basis='MW', label='Solar Power')\n",
    "\n",
    "Wind = Resource(name='Wind', cons_max= 100, basis='MW', label='Wind Power')\n",
    "\n",
    "Power = Resource(name='Power', basis='MW', discharge= True, label='Power generated')\n",
    "\n",
    "Uranium = Resource(name='Ur', cons_max=100, purchase_price= 42.70/(250/2), basis='kg', label='Uranium')\n",
    "\n",
    "H2 = Resource(name='H2', basis='tons', label='Hydrogen')\n",
    "\n",
    "H2_L = Resource(name='H2_L', store_max = 10000, basis='tons', label='Hydrogen')\n",
    "\n",
    "CO2_AQoff = Resource(name='CO2(Aq)', store_max = 10000, basis='tons', label='Carbon dioxide - sequestered')\n",
    "\n",
    "H2O = Resource(name='H2O', cons_max=100,\n",
    "               purchase_price= 0.001, basis='tons', label='Water')\n",
    "\n",
    "CH4 = Resource(name='CH4', cons_max=100, purchase_price=1, basis='tons', label='Natural gas')\n",
    "\n",
    "CO2 = Resource(name='CO2', basis='tons', label='Carbon dioxide', block='Resource')\n",
    "\n",
    "CO2_Vent = Resource(name='CO2_Vent', discharge= True, basis='tons', label='Carbon dioxide - Vented')\n",
    "\n",
    "O2 = Resource(name='O2', discharge=True, basis='tons', label='Oxygen')\n",
    "\n",
    "CO2_DAC = Resource(name='CO2_DAC', basis='tons', label='Carbon dioxide - captured')\n"
   ]
  },
  {
   "cell_type": "code",
   "execution_count": 13,
   "metadata": {},
   "outputs": [
    {
     "data": {
      "text/plain": [
       "['VOPEX',\n",
       " 'CAPACITY',\n",
       " 'CAPEX',\n",
       " 'FOPEX',\n",
       " 'CREDIT',\n",
       " 'LAND',\n",
       " 'CAP_MAX',\n",
       " 'INCIDENTAL']"
      ]
     },
     "execution_count": 13,
     "metadata": {},
     "output_type": "execute_result"
    }
   ],
   "source": [
    "ProcessType.uncertain()\n"
   ]
  },
  {
   "cell_type": "code",
   "execution_count": 15,
   "metadata": {},
   "outputs": [
    {
     "data": {
      "text/plain": [
       "['SELL_PRICE',\n",
       " 'AVAILABILITY',\n",
       " 'STORE_LOSS',\n",
       " 'STORE_MAX',\n",
       " 'PURCHASE_PRICE',\n",
       " 'STORAGE_COST',\n",
       " 'DEMAND']"
      ]
     },
     "execution_count": 15,
     "metadata": {},
     "output_type": "execute_result"
    }
   ],
   "source": [
    "ResourceType.uncertain()"
   ]
  },
  {
   "cell_type": "code",
   "execution_count": 21,
   "metadata": {},
   "outputs": [],
   "source": [
    "from enum import Enum, auto"
   ]
  },
  {
   "cell_type": "code",
   "execution_count": 26,
   "metadata": {},
   "outputs": [
    {
     "name": "stdout",
     "output_type": "stream",
     "text": [
      "CAP_MAX\n",
      "CAP_MIN\n",
      "CAPEX\n",
      "FOPEX\n",
      "VOPEX\n",
      "INCIDENTAL\n",
      "INTRODUCE\n",
      "RETIRE\n",
      "LIFETIME\n",
      "TRL\n",
      "P_FAIL\n",
      "LAND\n",
      "CREDIT\n"
     ]
    }
   ],
   "source": [
    "class C(Enum):\n",
    "    pass \n",
    "\n",
    "\n",
    "for i in ProcessType.parameters():\n",
    "    print(i)\n",
    "    setattr(C, i, auto())    "
   ]
  },
  {
   "cell_type": "code",
   "execution_count": 20,
   "metadata": {},
   "outputs": [
    {
     "data": {
      "text/plain": [
       "['LAND_COST', 'LAND_MAX']"
      ]
     },
     "execution_count": 20,
     "metadata": {},
     "output_type": "execute_result"
    }
   ],
   "source": [
    "LocationType.parameters()"
   ]
  },
  {
   "cell_type": "code",
   "execution_count": 15,
   "metadata": {},
   "outputs": [
    {
     "data": {
      "text/plain": [
       "['PURCHASE',\n",
       " 'PRODUCE',\n",
       " 'CONSUME',\n",
       " 'MEET_DEMAND',\n",
       " 'STORE',\n",
       " 'SELL',\n",
       " 'IMPLICIT',\n",
       " 'DISCHARGE']"
      ]
     },
     "execution_count": 15,
     "metadata": {},
     "output_type": "execute_result"
    }
   ],
   "source": [
    "ResourceType.resource_level_classifications()"
   ]
  },
  {
   "attachments": {},
   "cell_type": "markdown",
   "metadata": {},
   "source": [
    "## Declare processes"
   ]
  },
  {
   "cell_type": "code",
   "execution_count": 16,
   "metadata": {},
   "outputs": [
    {
     "ename": "AttributeError",
     "evalue": "process_level_classification",
     "output_type": "error",
     "traceback": [
      "\u001b[1;31m---------------------------------------------------------------------------\u001b[0m",
      "\u001b[1;31mAttributeError\u001b[0m                            Traceback (most recent call last)",
      "Cell \u001b[1;32mIn[16], line 1\u001b[0m\n\u001b[1;32m----> 1\u001b[0m LiI \u001b[39m=\u001b[39m Process(name\u001b[39m=\u001b[39;49m\u001b[39m'\u001b[39;49m\u001b[39mLiI\u001b[39;49m\u001b[39m'\u001b[39;49m, storage\u001b[39m=\u001b[39;49m Power, capex \u001b[39m=\u001b[39;49m \u001b[39m3516428\u001b[39;49m, fopex\u001b[39m=\u001b[39;49m \u001b[39m87910\u001b[39;49m, vopex \u001b[39m=\u001b[39;49m \u001b[39m0\u001b[39;49m, store_max \u001b[39m=\u001b[39;49m \u001b[39m10000\u001b[39;49m, cap_max\u001b[39m=\u001b[39;49m\u001b[39m1000\u001b[39;49m, label\u001b[39m=\u001b[39;49m\u001b[39m'\u001b[39;49m\u001b[39mLithium-ion battery\u001b[39;49m\u001b[39m'\u001b[39;49m, basis \u001b[39m=\u001b[39;49m \u001b[39m'\u001b[39;49m\u001b[39mMW\u001b[39;49m\u001b[39m'\u001b[39;49m)\n\u001b[0;32m      3\u001b[0m \u001b[39m# WF = Process(name='WF', conversion={Wind: -1, Power: 1}, capex= (0, 20), fopex= (0, 3), vopex=(0, 1), cap_max= Theta((1, 2)), land = Theta((4, 10)), label='Wind mill array', basis = 'MW')\u001b[39;00m\n\u001b[0;32m      5\u001b[0m WF \u001b[39m=\u001b[39m Process(name\u001b[39m=\u001b[39m\u001b[39m'\u001b[39m\u001b[39mWF\u001b[39m\u001b[39m'\u001b[39m, conversion\u001b[39m=\u001b[39m{Wind: \u001b[39m-\u001b[39m\u001b[39m1\u001b[39m, Power: \u001b[39m1\u001b[39m},capex\u001b[39m=\u001b[39m\u001b[39m1462000\u001b[39m, fopex\u001b[39m=\u001b[39m\u001b[39m43000\u001b[39m, vopex\u001b[39m=\u001b[39m\u001b[39m4953\u001b[39m, cap_max\u001b[39m=\u001b[39m\u001b[39m1000\u001b[39m, land \u001b[39m=\u001b[39m \u001b[39m30\u001b[39m, label\u001b[39m=\u001b[39m\u001b[39m'\u001b[39m\u001b[39mWind mill array\u001b[39m\u001b[39m'\u001b[39m, basis \u001b[39m=\u001b[39m \u001b[39m'\u001b[39m\u001b[39mMW\u001b[39m\u001b[39m'\u001b[39m)\n",
      "File \u001b[1;32m<string>:40\u001b[0m, in \u001b[0;36m__init__\u001b[1;34m(self, name, cap_max, cap_min, land, conversion, material_cons, capex, fopex, vopex, incidental, gwp, odp, acid, eutt, eutf, eutm, introduce, retire, lifetime, trl, p_fail, storage, store_max, store_min, storage_cost, store_loss, ctype, ptype, ltype, ftype, basis, block, citation, label, varying, prod_max, prod_min)\u001b[0m\n",
      "File \u001b[1;32mc:\\Users\\cacodcar\\energiapy\\src\\energiapy\\components\\process.py:226\u001b[0m, in \u001b[0;36mProcess.__post_init__\u001b[1;34m(self)\u001b[0m\n\u001b[0;32m    216\u001b[0m \u001b[39m# *-----------------Set ptype (Parameter)---------------------------------\u001b[39;00m\n\u001b[0;32m    217\u001b[0m \u001b[39m# Default all declared parameters to .CERTAIN initially\u001b[39;00m\n\u001b[0;32m    218\u001b[0m \u001b[39m# They are replaced by .UNCERTAIN if a MPVar Theta or a tuple of bounds is provided\u001b[39;00m\n\u001b[1;32m   (...)\u001b[0m\n\u001b[0;32m    221\u001b[0m \n\u001b[0;32m    222\u001b[0m \u001b[39m# self.ptype = {i: ParameterType.CERTAIN for i in self.ctype}\u001b[39;00m\n\u001b[0;32m    224\u001b[0m \u001b[39mself\u001b[39m\u001b[39m.\u001b[39mptype \u001b[39m=\u001b[39m \u001b[39mdict\u001b[39m()\n\u001b[1;32m--> 226\u001b[0m \u001b[39mfor\u001b[39;00m i \u001b[39min\u001b[39;00m \u001b[39mself\u001b[39;49m\u001b[39m.\u001b[39;49mclassifications_declared_here():\n\u001b[0;32m    227\u001b[0m     ctype_ \u001b[39m=\u001b[39m \u001b[39mgetattr\u001b[39m(ProcessType, i\u001b[39m.\u001b[39mupper())\n\u001b[0;32m    228\u001b[0m     \u001b[39mif\u001b[39;00m ctype_ \u001b[39min\u001b[39;00m \u001b[39mself\u001b[39m\u001b[39m.\u001b[39mctype:\n",
      "File \u001b[1;32mc:\\Users\\cacodcar\\energiapy\\src\\energiapy\\components\\process.py:315\u001b[0m, in \u001b[0;36mProcess.classifications_declared_here\u001b[1;34m(cls)\u001b[0m\n\u001b[0;32m    311\u001b[0m \u001b[39m@classmethod\u001b[39m\n\u001b[0;32m    312\u001b[0m \u001b[39mdef\u001b[39;00m \u001b[39mclassifications_declared_here\u001b[39m(\u001b[39mcls\u001b[39m) \u001b[39m-\u001b[39m\u001b[39m>\u001b[39m List[\u001b[39mstr\u001b[39m]:\n\u001b[0;32m    313\u001b[0m \u001b[39m    \u001b[39m\u001b[39m\"\"\"Classifications decided at Process level\u001b[39;00m\n\u001b[0;32m    314\u001b[0m \u001b[39m    \"\"\"\u001b[39;00m\n\u001b[1;32m--> 315\u001b[0m     \u001b[39mreturn\u001b[39;00m [i\u001b[39m.\u001b[39mlower() \u001b[39mfor\u001b[39;00m i \u001b[39min\u001b[39;00m ProcessType\u001b[39m.\u001b[39;49mprocess_level_classification()]\n",
      "File \u001b[1;32mc:\\Users\\cacodcar\\.pyenv\\pyenv-win\\versions\\3.10.5\\lib\\enum.py:437\u001b[0m, in \u001b[0;36mEnumMeta.__getattr__\u001b[1;34m(cls, name)\u001b[0m\n\u001b[0;32m    435\u001b[0m     \u001b[39mreturn\u001b[39;00m \u001b[39mcls\u001b[39m\u001b[39m.\u001b[39m_member_map_[name]\n\u001b[0;32m    436\u001b[0m \u001b[39mexcept\u001b[39;00m \u001b[39mKeyError\u001b[39;00m:\n\u001b[1;32m--> 437\u001b[0m     \u001b[39mraise\u001b[39;00m \u001b[39mAttributeError\u001b[39;00m(name) \u001b[39mfrom\u001b[39;00m \u001b[39mNone\u001b[39;00m\n",
      "\u001b[1;31mAttributeError\u001b[0m: process_level_classification"
     ]
    }
   ],
   "source": [
    "LiI = Process(name='LiI', storage= Power, capex = 3516428, fopex= 87910, vopex = 0, store_max = 10000, cap_max=1000, label='Lithium-ion battery', basis = 'MW')\n",
    "\n",
    "# WF = Process(name='WF', conversion={Wind: -1, Power: 1}, capex= (0, 20), fopex= (0, 3), vopex=(0, 1), cap_max= Theta((1, 2)), land = Theta((4, 10)), label='Wind mill array', basis = 'MW')\n",
    "\n",
    "WF = Process(name='WF', conversion={Wind: -1, Power: 1},capex=1462000, fopex=43000, vopex=4953, cap_max=1000, land = 30, label='Wind mill array', basis = 'MW')\n",
    "\n",
    "PV = Process(name='PV', conversion={Solar: -1, Power: 1}, capex = 1333262, fopex= 22623, cap_max=1000, label = 'Solar PV', basis = 'MW')\n",
    "\n",
    "SMRH = Process(name='SMRH', conversion={Power: -1.11, CH4: -3.76, H2O: -23.7, H2: 1, CO2_Vent: 1.03, CO2: 9.332}, capex =2520000, fopex = 945000, vopex = 51.5, cap_max= 1000, label='Steam methane reforming + CCUS')\n",
    "\n",
    "NGCC = Process(name= 'NGCC', conversion = {Power: 1, CH4: -0.108, CO2_Vent: 0.297*0.05, CO2:0.297*0.95}, capex = 2158928, fopex= 53320, vopex = 4090, cap_max= 1000, label = 'NGCC + 95% CC')\n",
    "\n",
    "SMR = Process(name='SMR', capex = 2400, fopex = 800, vopex = 0.03,  conversion={Power: -1.11, CH4: -3.76, H2O: -23.7, H2: 1, CO2_Vent: 9.4979}, cap_max=1000, label='Steam methane reforming')\n",
    "\n",
    "H2FC = Process(name='H2FC', conversion = {H2:-0.050, Power: 1}, capex =  1.6*10**6, vopex = 3.5, cap_max = 1000, label = 'hydrogen fuel cell')\n",
    "\n",
    "DAC = Process(name='DAC', capex = 0.02536, fopex = 0.634, conversion={Power: -0.193, H2O: -4.048, CO2_DAC: 1}, cap_max=1000, label='Direct air capture')\n",
    "\n",
    "PSH = Process(name='PSH', storage= Power, capex = 3924781, fopex= 17820, vopex = 512.5, store_max = 10000, cap_max=1000, label='Pumped storage hydropower', basis = 'MW')\n",
    "\n",
    "H2_L_c = Process(name='H2_L_c', conversion={Power: -0.417, H2_L: 1, H2: -1}, capex =  1.6*10**6, vopex = 3.5, cap_max= 1000, label='Hydrogen geological storage')\n",
    "\n",
    "H2_L_d = Process(name='H2_L_d', conversion={H2_L: -1, H2: 1}, capex =  0.01, vopex = 0.001, cap_max= 1000, label='Hydrogen geological storage discharge')\n",
    "\n",
    "DAC = Process(name='DAC', conversion={Power: -0.193, H2O: -4.048, CO2_DAC: 1}, capex = 730, fopex= 114, vopex= 3.6, cap_max=1000, label='Direct air capture')\n",
    "\n",
    "ASMR = Process(name='ASMR', conversion={Uranium: -4.17*10**(-5), H2O: -3.364, Power: 1}, capex = 7988951, fopex= 0.04*0.730, cap_max=1000, label='Small modular reactors (SMRs)')\n",
    "\n",
    "AWE = Process(name='AWE', land = 20,  conversion={Power: -1, H2: 0.019, O2: 0.7632, H2O: -0.1753}, capex = 1.1*10**6, fopex = 16918, cap_max=1000, label='Alkaline water electrolysis (AWE)', citation='Demirhan et al. 2018 AIChE paper') \n",
    "\n",
    "AQoff_SMR = Process(name='AQoff_SMR', conversion={Power: -1.28, CO2_AQoff: 1, CO2: -1}, capex =  5.52, vopex = 4.14, cap_max= 1000,  label='Offshore aquifer CO2 sequestration (SMR)')"
   ]
  },
  {
   "cell_type": "code",
   "execution_count": 16,
   "metadata": {},
   "outputs": [
    {
     "data": {
      "text/plain": [
       "\"<enum 'ProcessType'>\""
      ]
     },
     "execution_count": 16,
     "metadata": {},
     "output_type": "execute_result"
    }
   ],
   "source": [
    "f'{ProcessType}'"
   ]
  },
  {
   "cell_type": "code",
   "execution_count": 16,
   "metadata": {},
   "outputs": [
    {
     "data": {
      "text/plain": [
       "{<ProcessType.CAP_MAX: 12>: <ParameterType.CERTAIN: 1>,\n",
       " <ProcessType.CAPEX: 14>: <ParameterType.CERTAIN: 1>,\n",
       " <ProcessType.FOPEX: 15>: <ParameterType.CERTAIN: 1>,\n",
       " <ProcessType.CAPACITY: 11>: <ParameterType.CERTAIN: 1>,\n",
       " <ProcessType.LINEAR_CAPEX: 9>: <ParameterType.CERTAIN: 1>,\n",
       " <ProcessType.SINGLE_PRODMODE: 1>: <ParameterType.CERTAIN: 1>,\n",
       " <ProcessType.NO_MATMODE: 3>: <ParameterType.CERTAIN: 1>}"
      ]
     },
     "execution_count": 16,
     "metadata": {},
     "output_type": "execute_result"
    }
   ],
   "source": [
    "PV.ptype"
   ]
  },
  {
   "cell_type": "code",
   "execution_count": 18,
   "metadata": {},
   "outputs": [
    {
     "data": {
      "text/plain": [
       "{'cap_max', 'cap_min', 'capex', 'fopex', 'incidental', 'land', 'vopex'}"
      ]
     },
     "execution_count": 18,
     "metadata": {},
     "output_type": "execute_result"
    }
   ],
   "source": [
    "set(Process.parameters_declared_here()) & set(Process.mpvar_parameters())"
   ]
  },
  {
   "cell_type": "code",
   "execution_count": 17,
   "metadata": {},
   "outputs": [
    {
     "data": {
      "text/plain": [
       "['CAPACITY', 'CAPEX', 'FOPEX', 'VOPEX', 'INCIDENTAL', 'CREDIT']"
      ]
     },
     "execution_count": 17,
     "metadata": {},
     "output_type": "execute_result"
    }
   ],
   "source": [
    "MPVarType.process()"
   ]
  },
  {
   "cell_type": "code",
   "execution_count": null,
   "metadata": {},
   "outputs": [
    {
     "data": {
      "text/plain": [
       "['SINGLE_PRODMODE',\n",
       " 'MULTI_PRODMODE',\n",
       " 'NO_MATMODE',\n",
       " 'SINGLE_MATMODE',\n",
       " 'MULTI_MATMODE',\n",
       " 'STORAGE',\n",
       " 'STORAGE_DISCHARGE',\n",
       " 'STORAGE_REQ',\n",
       " 'LINEAR_CAPEX',\n",
       " 'PWL_CAPEX',\n",
       " 'CAPACITY',\n",
       " 'CAP_MAX',\n",
       " 'CAP_MIN',\n",
       " 'CAPEX',\n",
       " 'FOPEX',\n",
       " 'VOPEX',\n",
       " 'INCIDENTAL',\n",
       " 'INCIDENTAL',\n",
       " 'INTRODUCE',\n",
       " 'RETIRE',\n",
       " 'LIFETIME',\n",
       " 'TRL',\n",
       " 'P_FAIL',\n",
       " 'LAND']"
      ]
     },
     "execution_count": 16,
     "metadata": {},
     "output_type": "execute_result"
    }
   ],
   "source": [
    "ProcessType.process_level()"
   ]
  },
  {
   "cell_type": "code",
   "execution_count": 15,
   "metadata": {},
   "outputs": [
    {
     "data": {
      "text/plain": [
       "['SINGLE_PRODMODE',\n",
       " 'MULTI_PRODMODE',\n",
       " 'NO_MATMODE',\n",
       " 'SINGLE_MATMODE',\n",
       " 'MULTI_MATMODE',\n",
       " 'STORAGE',\n",
       " 'STORAGE_DISCHARGE',\n",
       " 'STORAGE_REQ',\n",
       " 'LINEAR_CAPEX',\n",
       " 'PWL_CAPEX',\n",
       " 'CAPACITY',\n",
       " 'CAP_MAX',\n",
       " 'CAP_MIN',\n",
       " 'CAPEX',\n",
       " 'FOPEX',\n",
       " 'VOPEX',\n",
       " 'INCIDENTAL',\n",
       " 'INTRODUCE',\n",
       " 'RETIRE',\n",
       " 'LIFETIME',\n",
       " 'TRL',\n",
       " 'P_FAIL',\n",
       " 'LAND',\n",
       " 'CREDIT']"
      ]
     },
     "execution_count": 15,
     "metadata": {},
     "output_type": "execute_result"
    }
   ],
   "source": [
    "ProcessType._member_names_"
   ]
  },
  {
   "cell_type": "code",
   "execution_count": 15,
   "metadata": {},
   "outputs": [],
   "source": [
    "process_list = {LiI, WF, PV, SMRH, SMR, DAC, AWE, H2_L_c, H2_L_d, AQoff_SMR, ASMR, PSH, NGCC}"
   ]
  },
  {
   "cell_type": "code",
   "execution_count": 17,
   "metadata": {},
   "outputs": [
    {
     "data": {
      "text/plain": [
       "{<ProcessType.CAPACITY: 11>: <ParameterType.CERTAIN: 1>,\n",
       " <ProcessType.CAP_MAX: 12>: <ParameterType.CERTAIN: 1>,\n",
       " <ProcessType.CAPEX: 14>: <ParameterType.CERTAIN: 1>,\n",
       " <ProcessType.LINEAR_CAPEX: 9>: <ParameterType.CERTAIN: 1>,\n",
       " <ProcessType.FOPEX: 15>: <ParameterType.CERTAIN: 1>,\n",
       " <ProcessType.SINGLE_PRODMODE: 1>: <ParameterType.CERTAIN: 1>,\n",
       " <ProcessType.NO_MATMODE: 3>: <ParameterType.CERTAIN: 1>}"
      ]
     },
     "execution_count": 17,
     "metadata": {},
     "output_type": "execute_result"
    }
   ],
   "source": [
    "PV.ptype"
   ]
  },
  {
   "attachments": {},
   "cell_type": "markdown",
   "metadata": {},
   "source": [
    "## Declare locations"
   ]
  },
  {
   "cell_type": "code",
   "execution_count": 18,
   "metadata": {},
   "outputs": [],
   "source": [
    "cc = Factor(data = pandas.DataFrame({'a': [2]}), scales= scales, apply_max_scaler= False)\n",
    "\n",
    "houston = Location(name='HO', processes={LiI, PV, WF, SMRH, AWE, AQoff_SMR}, credit = {PV: 2}, cap_max_localize = {WF: 0.4, AWE: 23}, \n",
    "                   credit_factor ={PV: pandas.DataFrame({'a': [2]})}, cons_max_localize = {Solar: 2}, demand= {Power: (0, 1)}, \n",
    "                   land_cost = 10, land_cost_factor= cc, capacity_factor={PV: weather_ho[['dni']], WF: weather_ho[['wind_speed']]}, demand_factor={\n",
    "                   Power: demand_ho}, purchase_price_factor={CH4: ng_price}, scales=scales, label='Houston')\n",
    "\n",
    "sandiego = Location(name='SD', processes={LiI, PV, WF, SMRH, AWE, AQoff_SMR}, purchase_price_localize = {CH4: 222}, \n",
    "                    cons_max_localize = {Solar: 3}, land_cost = 30, land_cost_factor = pandas.DataFrame({'a': [2]}) , \n",
    "                    credit = {SMRH: 30, AQoff_SMR: Theta((0, 23))}, credit_factor= {SMRH: pandas.DataFrame({'a': [1 - 0.001*i for i in range(365)]})}, \n",
    "                    capacity_factor={PV: weather_sd[['dni']], WF: weather_sd[['wind_speed']]}, demand_factor={\n",
    "                    Power: demand_sd}, purchase_price_factor={CH4: ng_price},  scales=scales, label='SanDiego')\n",
    "\n",
    "newyork = Location(name='NY', processes={LiI, H2FC}, land_max = (0, 50000), land_max_factor = pandas.DataFrame({'a': [2]}), cap_max_localize = {PV: 0.2, AWE: 34}, \n",
    "                   capacity_factor={PV: weather_ny[['dni']], WF: weather_ny[['wind_speed']]}, demand= {Power: 40}, demand_factor={\n",
    "                   Power: demand_ny}, purchase_price_localize = {CH4: 2}, scales=scales, label='NewYork')\n"
   ]
  },
  {
   "cell_type": "code",
   "execution_count": 19,
   "metadata": {},
   "outputs": [
    {
     "data": {
      "text/plain": [
       "{Power}"
      ]
     },
     "execution_count": 19,
     "metadata": {},
     "output_type": "execute_result"
    }
   ],
   "source": [
    "houston.resources_demand"
   ]
  },
  {
   "attachments": {},
   "cell_type": "markdown",
   "metadata": {},
   "source": [
    "## Declare transports"
   ]
  },
  {
   "cell_type": "code",
   "execution_count": 20,
   "metadata": {},
   "outputs": [],
   "source": [
    "\n",
    "# Train_H2 = Transport(name='Train_H2', resources={\n",
    "#                      H2}, trans_max=bigM, trans_loss=0.03, trans_cost=1.667*10**(-3), label='Railway for hydrogen transportation')\n",
    "# Grid = Transport(name='Grid', resources={\n",
    "#                  Power}, trans_max=bigM, trans_loss=0.001, trans_cost=0.5*10**(-3), label='Railroad transport')\n",
    "\n",
    "\n",
    "Train_H2 = Transport(name='Train_H2', resources={\n",
    "                     H2}, cap_max=bigM, trans_loss=0.03, capex = 1000, vopex=1.667, fopex = (0,1), label='Railway for hydrogen transportation')\n",
    "Grid = Transport(name='Grid', resources={\n",
    "                 Power}, cap_max=bigM, trans_loss=0.001, capex = 500, vopex = 0.444, label='Railroad transport')\n",
    "\n"
   ]
  },
  {
   "attachments": {},
   "cell_type": "markdown",
   "metadata": {},
   "source": [
    "## Declare Network"
   ]
  },
  {
   "cell_type": "code",
   "execution_count": 21,
   "metadata": {},
   "outputs": [],
   "source": [
    "distance_matrix = [\n",
    "    [2366], \n",
    "    [2620]\n",
    "]\n",
    "\n",
    "transport_matrix = [\n",
    "    [[Train_H2]], \n",
    "    [[Train_H2]],\n",
    "]\n",
    "capacity_factor  = {(houston, sandiego): {Train_H2: weather_sd[['wind_speed']]}}\n",
    "\n",
    "network = Network(name='Network', scales = scales, land_max= (0,5), land_max_factor= pandas.DataFrame({'a': [5]}), capacity_factor= capacity_factor, sources=[houston, sandiego], sinks=[newyork], distance_matrix=distance_matrix, transport_matrix=transport_matrix)\n"
   ]
  },
  {
   "attachments": {},
   "cell_type": "markdown",
   "metadata": {},
   "source": [
    "## Declare scenario"
   ]
  },
  {
   "cell_type": "code",
   "execution_count": 29,
   "metadata": {},
   "outputs": [
    {
     "data": {
      "text/plain": [
       "mappingproxy({'__module__': 'energiapy.components.process',\n",
       "              '__annotations__': {'name': str,\n",
       "               'cap_max': typing.Union[float, typing.Tuple[float], energiapy.components.parameters.mpvar.Theta],\n",
       "               'cap_min': typing.Union[float, dict],\n",
       "               'land': typing.Union[float, typing.Tuple[float], energiapy.components.parameters.mpvar.Theta],\n",
       "               'conversion': typing.Union[typing.Dict[typing.Union[int, str], typing.Dict[energiapy.components.resource.Resource, float]], typing.Dict[energiapy.components.resource.Resource, float]],\n",
       "               'material_cons': typing.Union[typing.Dict[typing.Union[int, str], typing.Dict[energiapy.components.material.Material, float]], typing.Dict[energiapy.components.material.Material, float]],\n",
       "               'capex': typing.Union[float, dict, typing.Tuple[float], energiapy.components.parameters.mpvar.Theta],\n",
       "               'fopex': typing.Union[float, typing.Tuple[float], energiapy.components.parameters.mpvar.Theta],\n",
       "               'vopex': typing.Union[float, typing.Tuple[float], energiapy.components.parameters.mpvar.Theta],\n",
       "               'incidental': typing.Union[float, typing.Tuple[float], energiapy.components.parameters.mpvar.Theta],\n",
       "               'gwp': float,\n",
       "               'odp': float,\n",
       "               'acid': float,\n",
       "               'eutt': float,\n",
       "               'eutf': float,\n",
       "               'eutm': float,\n",
       "               'introduce': int,\n",
       "               'retire': int,\n",
       "               'lifetime': int,\n",
       "               'trl': str,\n",
       "               'p_fail': float,\n",
       "               'storage': energiapy.components.resource.Resource,\n",
       "               'store_max': float,\n",
       "               'store_min': float,\n",
       "               'storage_cost': float,\n",
       "               'store_loss': float,\n",
       "               'ctype': typing.List[energiapy.components.comptype.ProcessType],\n",
       "               'ptype': typing.Dict[energiapy.components.comptype.ProcessType, energiapy.components.parameters.paratype.ParameterType],\n",
       "               'ltype': typing.Dict[energiapy.components.comptype.ProcessType, typing.List[typing.Tuple[ForwardRef('Location'), energiapy.components.parameters.paratype.LocalizeType]]],\n",
       "               'ftype': typing.Dict[energiapy.components.comptype.ProcessType, typing.List[typing.Tuple[ForwardRef('Location'), energiapy.components.parameters.paratype.FactorType]]],\n",
       "               'basis': str,\n",
       "               'block': str,\n",
       "               'citation': str,\n",
       "               'label': str,\n",
       "               'varying': list,\n",
       "               'prod_max': float,\n",
       "               'prod_min': float},\n",
       "              '__doc__': \"\\n    A Process can produce or store Resource(s) \\n\\n    For production process:\\n        conversion needs to be specified\\n        production modes and material modes can be declared using nested dictionaries. See examples []\\n        piece wise linear capex curves can be declared using a dictionary. See examples []\\n\\n    For storage process:\\n    storage = energiapy.Resource is needed. See examples []\\n    a resource_storage with the name {process name}_{resource name}_stored is created, which features in the resource balance \\n    This new resource will inherit the store_max and store_min from Process even if it was specified for Resource\\n    cap_max and cap_min in this case will bound the maximum rate of charging and discharging \\n    Further, when provided to a Location, a discharge Process is also created\\n    The expenditures (capex, fopex, vopex, incidental) are set to 0 if provided, None otherwise\\n\\n    Given that maximum and minimum capacity (cap_max and cap_min), and expenditure (capex, fopex, vopex, incidental) can vary by location,\\n    localization can be achieved by providing the cap_max_localize, cap_min_localize, capex_localize, fopex_localize, vopex_localize, incidental_localize\\n    at Location level\\n\\n    Credits need to be provided at Location\\n\\n    Args:\\n        name (str): name of process. Enter None to randomly assign a name.\\n        cap_max (Union[float, dict], optional): Maximum production capacity allowed in a time period of the scheduling scale. Defaults to None.\\n        cap_min (Union[float, dict], optional): Minimum production capacity allowed in a time period of the scheduling scale. Defaults to None.\\n        land (Union[float, Tuple[float], Theta], optional): land requirement per unit basis. Defaults to None.\\n        conversion (Union[Dict[Union[int, str],Dict[Resource, float]], Dict[Resource, float]], optional): conversion data (Dict[Resource, float]]), if multimode the of form Dict[int,Dict[Resource, float]]. Defaults to None.\\n        material_cons (Union[Dict[Union[int, str], Dict[Material, float]],Dict[Material, float]], optional): Materials consumed per unit basis of production capacity. Defaults to None.\\n        capex (Union[float, dict, Tuple[float], Theta], None): Capital expenditure per unit basis, can be scaled with capacity. Defaults to None.\\n        fopex (Union[float, Tuple[float], Theta], None): Fixed operational expenditure per unit basis, can be scaled with capacity. Defaults to None.\\n        vopex (Union[float, Tuple[float], Theta], None): Variable operational expenditure per unit basis, can be scaled with capacity. Defaults to None.\\n        incidental (Union[float, Tuple[float], Theta], None): Incidental expenditure. Defaults to None.\\n        gwp (float, optional): global warming potential for settting up facility per unit basis. Defaults to None.\\n        odp (float, optional): ozone depletion potential for settting up facility per unit basis. Defaults to None.\\n        acid (float, optional): acidification potential for settting up facility per unit basis. Defaults to None.\\n        eutt (float, optional): terrestrial eutrophication potential for settting up facility per unit basis. Defaults to None.\\n        eutf (float, optional): fresh water eutrophication potential for settting up facility per unit basis. Defaults to None.\\n        eutm (float, optional): marine eutrophication potential for settting up facility per unit basis. Defaults to None.\\n        introduce (int, optional): Time period in the network scale when introduced. Defaults to None.\\n        lifetime (float, optional): the expected lifetime of process. Defaults to None.\\n        retire (int, optional): Time period in the network scale when retired. Defaults to None.\\n        trl (str, optional): technology readiness level. Defaults to None.\\n        p_fail (float, optional): failure rate of process. Defaults to None.\\n        storage(Resource, optional): Resource that can be stored in process. Defaults to None.\\n        store_max (float, optional): Maximum allowed storage of resource in process. Defaults to None.\\n        store_min (float, optional): Minimum allowed storage of resource in process. Defaults to None.\\n        storage_cost: (float, optional): penalty for mainting inventory per time period in the scheduling scale. Defaults to None.\\n        store_loss: (float, optional): resource loss on the scheduling scale\\n        block (str, optional): define block for convenience. Defaults to None.\\n        citation (str, optional): citation for data. Defaults to 'citation needed'.\\n        label(str, optional):Longer descriptive label if required. Defaults to None\\n        basis(str, optional): base units for operation. Defaults to 'unit'.\\n        ctype (List[ProcessType], optional): process type. Defaults to None\\n        ptype (Dict[ProcessType, List[Tuple['Location', ParameterType]]], optional): paramater type of declared values . Defaults to None\\n        ltype (Dict[ProcessType, List[Tuple['Location', LocalizeType]]], optional): which parameters are localized. Defaults to None.\\n        ftype ()\\n\\n\\n    Examples:\\n        For processes with varying production capacity\\n\\n        >>> WF = Process(name='WF', conversion={Wind: -1, Power: 1}, capex= 100, Fopex= 10, Vopex= 1,cap_max=100, gwp=52700, land= 90, basis = 'MW', block='power', label='Wind mill array')\\n\\n        For process with multiple modes of operation\\n\\n        >>> PEM = Process(name = 'PEM', conversion = {1: {Power: -1, H2: 19.474, O2: 763.2, H2O: -175.266}, 2: {Power: -1, H2: 1.2*19.474, O2: 1.2*763.2, H2O: 1.2*-175.266}, cap_max= 100, capex = 784000, label = 'PEM Electrolysis')\\n\\n        For process with multiple resource inputs\\n\\n        >>> CoolCar = Process(name = 'CoolCar', conversion = {1: {Power: -1, Mile: 1}, 2: {H2: -1, Mile:2}, cap_max= 50, capex = 70, label = 'CoolCar')\\n\\n    \",\n",
       "              'cap_max': None,\n",
       "              'cap_min': None,\n",
       "              'land': None,\n",
       "              'conversion': None,\n",
       "              'material_cons': None,\n",
       "              'capex': None,\n",
       "              'fopex': None,\n",
       "              'vopex': None,\n",
       "              'incidental': None,\n",
       "              'gwp': None,\n",
       "              'odp': None,\n",
       "              'acid': None,\n",
       "              'eutt': None,\n",
       "              'eutf': None,\n",
       "              'eutm': None,\n",
       "              'introduce': None,\n",
       "              'retire': None,\n",
       "              'lifetime': None,\n",
       "              'trl': None,\n",
       "              'p_fail': None,\n",
       "              'storage': None,\n",
       "              'store_max': None,\n",
       "              'store_min': None,\n",
       "              'storage_cost': None,\n",
       "              'store_loss': None,\n",
       "              'ctype': None,\n",
       "              'ptype': None,\n",
       "              'ltype': None,\n",
       "              'ftype': None,\n",
       "              'basis': None,\n",
       "              'block': None,\n",
       "              'citation': None,\n",
       "              'label': None,\n",
       "              'varying': None,\n",
       "              'prod_max': None,\n",
       "              'prod_min': None,\n",
       "              '__post_init__': <function energiapy.components.process.Process.__post_init__(self)>,\n",
       "              'create_storage_resource': <function energiapy.components.process.Process.create_storage_resource(self, resource: energiapy.components.resource.Resource) -> energiapy.components.resource.Resource>,\n",
       "              '__repr__': <function energiapy.components.process.Process.__repr__(self)>,\n",
       "              '__hash__': <function energiapy.components.process.Process.__hash__(self)>,\n",
       "              '__eq__': <function energiapy.components.process.Process.__eq__(self, other)>,\n",
       "              '__dict__': <attribute '__dict__' of 'Process' objects>,\n",
       "              '__weakref__': <attribute '__weakref__' of 'Process' objects>,\n",
       "              '__dataclass_params__': _DataclassParams(init=True,repr=True,eq=True,order=False,unsafe_hash=False,frozen=False),\n",
       "              '__dataclass_fields__': {'name': Field(name='name',type=<class 'str'>,default=<dataclasses._MISSING_TYPE object at 0x00000172CD86C7F0>,default_factory=<dataclasses._MISSING_TYPE object at 0x00000172CD86C7F0>,init=True,repr=True,hash=None,compare=True,metadata=mappingproxy({}),kw_only=False,_field_type=_FIELD),\n",
       "               'cap_max': Field(name='cap_max',type=typing.Union[float, typing.Tuple[float], energiapy.components.parameters.mpvar.Theta],default=None,default_factory=<dataclasses._MISSING_TYPE object at 0x00000172CD86C7F0>,init=True,repr=True,hash=None,compare=True,metadata=mappingproxy({}),kw_only=False,_field_type=_FIELD),\n",
       "               'cap_min': Field(name='cap_min',type=typing.Union[float, dict],default=None,default_factory=<dataclasses._MISSING_TYPE object at 0x00000172CD86C7F0>,init=True,repr=True,hash=None,compare=True,metadata=mappingproxy({}),kw_only=False,_field_type=_FIELD),\n",
       "               'land': Field(name='land',type=typing.Union[float, typing.Tuple[float], energiapy.components.parameters.mpvar.Theta],default=None,default_factory=<dataclasses._MISSING_TYPE object at 0x00000172CD86C7F0>,init=True,repr=True,hash=None,compare=True,metadata=mappingproxy({}),kw_only=False,_field_type=_FIELD),\n",
       "               'conversion': Field(name='conversion',type=typing.Union[typing.Dict[typing.Union[int, str], typing.Dict[energiapy.components.resource.Resource, float]], typing.Dict[energiapy.components.resource.Resource, float]],default=None,default_factory=<dataclasses._MISSING_TYPE object at 0x00000172CD86C7F0>,init=True,repr=True,hash=None,compare=True,metadata=mappingproxy({}),kw_only=False,_field_type=_FIELD),\n",
       "               'material_cons': Field(name='material_cons',type=typing.Union[typing.Dict[typing.Union[int, str], typing.Dict[energiapy.components.material.Material, float]], typing.Dict[energiapy.components.material.Material, float]],default=None,default_factory=<dataclasses._MISSING_TYPE object at 0x00000172CD86C7F0>,init=True,repr=True,hash=None,compare=True,metadata=mappingproxy({}),kw_only=False,_field_type=_FIELD),\n",
       "               'capex': Field(name='capex',type=typing.Union[float, dict, typing.Tuple[float], energiapy.components.parameters.mpvar.Theta],default=None,default_factory=<dataclasses._MISSING_TYPE object at 0x00000172CD86C7F0>,init=True,repr=True,hash=None,compare=True,metadata=mappingproxy({}),kw_only=False,_field_type=_FIELD),\n",
       "               'fopex': Field(name='fopex',type=typing.Union[float, typing.Tuple[float], energiapy.components.parameters.mpvar.Theta],default=None,default_factory=<dataclasses._MISSING_TYPE object at 0x00000172CD86C7F0>,init=True,repr=True,hash=None,compare=True,metadata=mappingproxy({}),kw_only=False,_field_type=_FIELD),\n",
       "               'vopex': Field(name='vopex',type=typing.Union[float, typing.Tuple[float], energiapy.components.parameters.mpvar.Theta],default=None,default_factory=<dataclasses._MISSING_TYPE object at 0x00000172CD86C7F0>,init=True,repr=True,hash=None,compare=True,metadata=mappingproxy({}),kw_only=False,_field_type=_FIELD),\n",
       "               'incidental': Field(name='incidental',type=typing.Union[float, typing.Tuple[float], energiapy.components.parameters.mpvar.Theta],default=None,default_factory=<dataclasses._MISSING_TYPE object at 0x00000172CD86C7F0>,init=True,repr=True,hash=None,compare=True,metadata=mappingproxy({}),kw_only=False,_field_type=_FIELD),\n",
       "               'gwp': Field(name='gwp',type=<class 'float'>,default=None,default_factory=<dataclasses._MISSING_TYPE object at 0x00000172CD86C7F0>,init=True,repr=True,hash=None,compare=True,metadata=mappingproxy({}),kw_only=False,_field_type=_FIELD),\n",
       "               'odp': Field(name='odp',type=<class 'float'>,default=None,default_factory=<dataclasses._MISSING_TYPE object at 0x00000172CD86C7F0>,init=True,repr=True,hash=None,compare=True,metadata=mappingproxy({}),kw_only=False,_field_type=_FIELD),\n",
       "               'acid': Field(name='acid',type=<class 'float'>,default=None,default_factory=<dataclasses._MISSING_TYPE object at 0x00000172CD86C7F0>,init=True,repr=True,hash=None,compare=True,metadata=mappingproxy({}),kw_only=False,_field_type=_FIELD),\n",
       "               'eutt': Field(name='eutt',type=<class 'float'>,default=None,default_factory=<dataclasses._MISSING_TYPE object at 0x00000172CD86C7F0>,init=True,repr=True,hash=None,compare=True,metadata=mappingproxy({}),kw_only=False,_field_type=_FIELD),\n",
       "               'eutf': Field(name='eutf',type=<class 'float'>,default=None,default_factory=<dataclasses._MISSING_TYPE object at 0x00000172CD86C7F0>,init=True,repr=True,hash=None,compare=True,metadata=mappingproxy({}),kw_only=False,_field_type=_FIELD),\n",
       "               'eutm': Field(name='eutm',type=<class 'float'>,default=None,default_factory=<dataclasses._MISSING_TYPE object at 0x00000172CD86C7F0>,init=True,repr=True,hash=None,compare=True,metadata=mappingproxy({}),kw_only=False,_field_type=_FIELD),\n",
       "               'introduce': Field(name='introduce',type=<class 'int'>,default=None,default_factory=<dataclasses._MISSING_TYPE object at 0x00000172CD86C7F0>,init=True,repr=True,hash=None,compare=True,metadata=mappingproxy({}),kw_only=False,_field_type=_FIELD),\n",
       "               'retire': Field(name='retire',type=<class 'int'>,default=None,default_factory=<dataclasses._MISSING_TYPE object at 0x00000172CD86C7F0>,init=True,repr=True,hash=None,compare=True,metadata=mappingproxy({}),kw_only=False,_field_type=_FIELD),\n",
       "               'lifetime': Field(name='lifetime',type=<class 'int'>,default=None,default_factory=<dataclasses._MISSING_TYPE object at 0x00000172CD86C7F0>,init=True,repr=True,hash=None,compare=True,metadata=mappingproxy({}),kw_only=False,_field_type=_FIELD),\n",
       "               'trl': Field(name='trl',type=<class 'str'>,default=None,default_factory=<dataclasses._MISSING_TYPE object at 0x00000172CD86C7F0>,init=True,repr=True,hash=None,compare=True,metadata=mappingproxy({}),kw_only=False,_field_type=_FIELD),\n",
       "               'p_fail': Field(name='p_fail',type=<class 'float'>,default=None,default_factory=<dataclasses._MISSING_TYPE object at 0x00000172CD86C7F0>,init=True,repr=True,hash=None,compare=True,metadata=mappingproxy({}),kw_only=False,_field_type=_FIELD),\n",
       "               'storage': Field(name='storage',type=<class 'energiapy.components.resource.Resource'>,default=None,default_factory=<dataclasses._MISSING_TYPE object at 0x00000172CD86C7F0>,init=True,repr=True,hash=None,compare=True,metadata=mappingproxy({}),kw_only=False,_field_type=_FIELD),\n",
       "               'store_max': Field(name='store_max',type=<class 'float'>,default=None,default_factory=<dataclasses._MISSING_TYPE object at 0x00000172CD86C7F0>,init=True,repr=True,hash=None,compare=True,metadata=mappingproxy({}),kw_only=False,_field_type=_FIELD),\n",
       "               'store_min': Field(name='store_min',type=<class 'float'>,default=None,default_factory=<dataclasses._MISSING_TYPE object at 0x00000172CD86C7F0>,init=True,repr=True,hash=None,compare=True,metadata=mappingproxy({}),kw_only=False,_field_type=_FIELD),\n",
       "               'storage_cost': Field(name='storage_cost',type=<class 'float'>,default=None,default_factory=<dataclasses._MISSING_TYPE object at 0x00000172CD86C7F0>,init=True,repr=True,hash=None,compare=True,metadata=mappingproxy({}),kw_only=False,_field_type=_FIELD),\n",
       "               'store_loss': Field(name='store_loss',type=<class 'float'>,default=None,default_factory=<dataclasses._MISSING_TYPE object at 0x00000172CD86C7F0>,init=True,repr=True,hash=None,compare=True,metadata=mappingproxy({}),kw_only=False,_field_type=_FIELD),\n",
       "               'ctype': Field(name='ctype',type=typing.List[energiapy.components.comptype.ProcessType],default=None,default_factory=<dataclasses._MISSING_TYPE object at 0x00000172CD86C7F0>,init=True,repr=True,hash=None,compare=True,metadata=mappingproxy({}),kw_only=False,_field_type=_FIELD),\n",
       "               'ptype': Field(name='ptype',type=typing.Dict[energiapy.components.comptype.ProcessType, energiapy.components.parameters.paratype.ParameterType],default=None,default_factory=<dataclasses._MISSING_TYPE object at 0x00000172CD86C7F0>,init=True,repr=True,hash=None,compare=True,metadata=mappingproxy({}),kw_only=False,_field_type=_FIELD),\n",
       "               'ltype': Field(name='ltype',type=typing.Dict[energiapy.components.comptype.ProcessType, typing.List[typing.Tuple[ForwardRef('Location'), energiapy.components.parameters.paratype.LocalizeType]]],default=None,default_factory=<dataclasses._MISSING_TYPE object at 0x00000172CD86C7F0>,init=True,repr=True,hash=None,compare=True,metadata=mappingproxy({}),kw_only=False,_field_type=_FIELD),\n",
       "               'ftype': Field(name='ftype',type=typing.Dict[energiapy.components.comptype.ProcessType, typing.List[typing.Tuple[ForwardRef('Location'), energiapy.components.parameters.paratype.FactorType]]],default=None,default_factory=<dataclasses._MISSING_TYPE object at 0x00000172CD86C7F0>,init=True,repr=True,hash=None,compare=True,metadata=mappingproxy({}),kw_only=False,_field_type=_FIELD),\n",
       "               'basis': Field(name='basis',type=<class 'str'>,default=None,default_factory=<dataclasses._MISSING_TYPE object at 0x00000172CD86C7F0>,init=True,repr=True,hash=None,compare=True,metadata=mappingproxy({}),kw_only=False,_field_type=_FIELD),\n",
       "               'block': Field(name='block',type=<class 'str'>,default=None,default_factory=<dataclasses._MISSING_TYPE object at 0x00000172CD86C7F0>,init=True,repr=True,hash=None,compare=True,metadata=mappingproxy({}),kw_only=False,_field_type=_FIELD),\n",
       "               'citation': Field(name='citation',type=<class 'str'>,default=None,default_factory=<dataclasses._MISSING_TYPE object at 0x00000172CD86C7F0>,init=True,repr=True,hash=None,compare=True,metadata=mappingproxy({}),kw_only=False,_field_type=_FIELD),\n",
       "               'label': Field(name='label',type=<class 'str'>,default=None,default_factory=<dataclasses._MISSING_TYPE object at 0x00000172CD86C7F0>,init=True,repr=True,hash=None,compare=True,metadata=mappingproxy({}),kw_only=False,_field_type=_FIELD),\n",
       "               'varying': Field(name='varying',type=<class 'list'>,default=None,default_factory=<dataclasses._MISSING_TYPE object at 0x00000172CD86C7F0>,init=True,repr=True,hash=None,compare=True,metadata=mappingproxy({}),kw_only=False,_field_type=_FIELD),\n",
       "               'prod_max': Field(name='prod_max',type=<class 'float'>,default=None,default_factory=<dataclasses._MISSING_TYPE object at 0x00000172CD86C7F0>,init=True,repr=True,hash=None,compare=True,metadata=mappingproxy({}),kw_only=False,_field_type=_FIELD),\n",
       "               'prod_min': Field(name='prod_min',type=<class 'float'>,default=None,default_factory=<dataclasses._MISSING_TYPE object at 0x00000172CD86C7F0>,init=True,repr=True,hash=None,compare=True,metadata=mappingproxy({}),kw_only=False,_field_type=_FIELD)},\n",
       "              '__init__': <function energiapy.components.process.Process.__init__(self, name: str, cap_max: Union[float, Tuple[float], energiapy.components.parameters.mpvar.Theta] = None, cap_min: Union[float, dict] = None, land: Union[float, Tuple[float], energiapy.components.parameters.mpvar.Theta] = None, conversion: Union[Dict[Union[int, str], Dict[energiapy.components.resource.Resource, float]], Dict[energiapy.components.resource.Resource, float]] = None, material_cons: Union[Dict[Union[int, str], Dict[energiapy.components.material.Material, float]], Dict[energiapy.components.material.Material, float]] = None, capex: Union[float, dict, Tuple[float], energiapy.components.parameters.mpvar.Theta] = None, fopex: Union[float, Tuple[float], energiapy.components.parameters.mpvar.Theta] = None, vopex: Union[float, Tuple[float], energiapy.components.parameters.mpvar.Theta] = None, incidental: Union[float, Tuple[float], energiapy.components.parameters.mpvar.Theta] = None, gwp: float = None, odp: float = None, acid: float = None, eutt: float = None, eutf: float = None, eutm: float = None, introduce: int = None, retire: int = None, lifetime: int = None, trl: str = None, p_fail: float = None, storage: energiapy.components.resource.Resource = None, store_max: float = None, store_min: float = None, storage_cost: float = None, store_loss: float = None, ctype: List[energiapy.components.comptype.ProcessType] = None, ptype: Dict[energiapy.components.comptype.ProcessType, energiapy.components.parameters.paratype.ParameterType] = None, ltype: Dict[energiapy.components.comptype.ProcessType, List[Tuple[ForwardRef('Location'), energiapy.components.parameters.paratype.LocalizeType]]] = None, ftype: Dict[energiapy.components.comptype.ProcessType, List[Tuple[ForwardRef('Location'), energiapy.components.parameters.paratype.FactorType]]] = None, basis: str = None, block: str = None, citation: str = None, label: str = None, varying: list = None, prod_max: float = None, prod_min: float = None) -> None>,\n",
       "              '__match_args__': ('name',\n",
       "               'cap_max',\n",
       "               'cap_min',\n",
       "               'land',\n",
       "               'conversion',\n",
       "               'material_cons',\n",
       "               'capex',\n",
       "               'fopex',\n",
       "               'vopex',\n",
       "               'incidental',\n",
       "               'gwp',\n",
       "               'odp',\n",
       "               'acid',\n",
       "               'eutt',\n",
       "               'eutf',\n",
       "               'eutm',\n",
       "               'introduce',\n",
       "               'retire',\n",
       "               'lifetime',\n",
       "               'trl',\n",
       "               'p_fail',\n",
       "               'storage',\n",
       "               'store_max',\n",
       "               'store_min',\n",
       "               'storage_cost',\n",
       "               'store_loss',\n",
       "               'ctype',\n",
       "               'ptype',\n",
       "               'ltype',\n",
       "               'ftype',\n",
       "               'basis',\n",
       "               'block',\n",
       "               'citation',\n",
       "               'label',\n",
       "               'varying',\n",
       "               'prod_max',\n",
       "               'prod_min')})"
      ]
     },
     "execution_count": 29,
     "metadata": {},
     "output_type": "execute_result"
    }
   ],
   "source": [
    "Process.__dict__"
   ]
  },
  {
   "cell_type": "code",
   "execution_count": 22,
   "metadata": {},
   "outputs": [],
   "source": [
    "\n",
    "scenario = Scenario(name='scenario_full', network=network, scales=scales, label='full_case')\n"
   ]
  },
  {
   "cell_type": "code",
   "execution_count": 27,
   "metadata": {},
   "outputs": [
    {
     "data": {
      "text/plain": [
       "mappingproxy({'__module__': 'energiapy.components.process',\n",
       "              '__annotations__': {'name': str,\n",
       "               'cap_max': typing.Union[float, typing.Tuple[float], energiapy.components.parameters.mpvar.Theta],\n",
       "               'cap_min': typing.Union[float, dict],\n",
       "               'land': typing.Union[float, typing.Tuple[float], energiapy.components.parameters.mpvar.Theta],\n",
       "               'conversion': typing.Union[typing.Dict[typing.Union[int, str], typing.Dict[energiapy.components.resource.Resource, float]], typing.Dict[energiapy.components.resource.Resource, float]],\n",
       "               'material_cons': typing.Union[typing.Dict[typing.Union[int, str], typing.Dict[energiapy.components.material.Material, float]], typing.Dict[energiapy.components.material.Material, float]],\n",
       "               'capex': typing.Union[float, dict, typing.Tuple[float], energiapy.components.parameters.mpvar.Theta],\n",
       "               'fopex': typing.Union[float, typing.Tuple[float], energiapy.components.parameters.mpvar.Theta],\n",
       "               'vopex': typing.Union[float, typing.Tuple[float], energiapy.components.parameters.mpvar.Theta],\n",
       "               'incidental': typing.Union[float, typing.Tuple[float], energiapy.components.parameters.mpvar.Theta],\n",
       "               'gwp': float,\n",
       "               'odp': float,\n",
       "               'acid': float,\n",
       "               'eutt': float,\n",
       "               'eutf': float,\n",
       "               'eutm': float,\n",
       "               'introduce': int,\n",
       "               'retire': int,\n",
       "               'lifetime': int,\n",
       "               'trl': str,\n",
       "               'p_fail': float,\n",
       "               'storage': energiapy.components.resource.Resource,\n",
       "               'store_max': float,\n",
       "               'store_min': float,\n",
       "               'storage_cost': float,\n",
       "               'store_loss': float,\n",
       "               'ctype': typing.List[energiapy.components.comptype.ProcessType],\n",
       "               'ptype': typing.Dict[energiapy.components.comptype.ProcessType, energiapy.components.parameters.paratype.ParameterType],\n",
       "               'ltype': typing.Dict[energiapy.components.comptype.ProcessType, typing.List[typing.Tuple[ForwardRef('Location'), energiapy.components.parameters.paratype.LocalizeType]]],\n",
       "               'ftype': typing.Dict[energiapy.components.comptype.ProcessType, typing.List[typing.Tuple[ForwardRef('Location'), energiapy.components.parameters.paratype.FactorType]]],\n",
       "               'basis': str,\n",
       "               'block': str,\n",
       "               'citation': str,\n",
       "               'label': str,\n",
       "               'varying': list,\n",
       "               'prod_max': float,\n",
       "               'prod_min': float},\n",
       "              '__doc__': \"\\n    A Process can produce or store Resource(s) \\n\\n    For production process:\\n        conversion needs to be specified\\n        production modes and material modes can be declared using nested dictionaries. See examples []\\n        piece wise linear capex curves can be declared using a dictionary. See examples []\\n\\n    For storage process:\\n    storage = energiapy.Resource is needed. See examples []\\n    a resource_storage with the name {process name}_{resource name}_stored is created, which features in the resource balance \\n    This new resource will inherit the store_max and store_min from Process even if it was specified for Resource\\n    cap_max and cap_min in this case will bound the maximum rate of charging and discharging \\n    Further, when provided to a Location, a discharge Process is also created\\n    The expenditures (capex, fopex, vopex, incidental) are set to 0 if provided, None otherwise\\n\\n    Given that maximum and minimum capacity (cap_max and cap_min), and expenditure (capex, fopex, vopex, incidental) can vary by location,\\n    localization can be achieved by providing the cap_max_localize, cap_min_localize, capex_localize, fopex_localize, vopex_localize, incidental_localize\\n    at Location level\\n\\n    Credits need to be provided at Location\\n\\n    Args:\\n        name (str): name of process. Enter None to randomly assign a name.\\n        cap_max (Union[float, dict], optional): Maximum production capacity allowed in a time period of the scheduling scale. Defaults to None.\\n        cap_min (Union[float, dict], optional): Minimum production capacity allowed in a time period of the scheduling scale. Defaults to None.\\n        land (Union[float, Tuple[float], Theta], optional): land requirement per unit basis. Defaults to None.\\n        conversion (Union[Dict[Union[int, str],Dict[Resource, float]], Dict[Resource, float]], optional): conversion data (Dict[Resource, float]]), if multimode the of form Dict[int,Dict[Resource, float]]. Defaults to None.\\n        material_cons (Union[Dict[Union[int, str], Dict[Material, float]],Dict[Material, float]], optional): Materials consumed per unit basis of production capacity. Defaults to None.\\n        capex (Union[float, dict, Tuple[float], Theta], None): Capital expenditure per unit basis, can be scaled with capacity. Defaults to None.\\n        fopex (Union[float, Tuple[float], Theta], None): Fixed operational expenditure per unit basis, can be scaled with capacity. Defaults to None.\\n        vopex (Union[float, Tuple[float], Theta], None): Variable operational expenditure per unit basis, can be scaled with capacity. Defaults to None.\\n        incidental (Union[float, Tuple[float], Theta], None): Incidental expenditure. Defaults to None.\\n        gwp (float, optional): global warming potential for settting up facility per unit basis. Defaults to None.\\n        odp (float, optional): ozone depletion potential for settting up facility per unit basis. Defaults to None.\\n        acid (float, optional): acidification potential for settting up facility per unit basis. Defaults to None.\\n        eutt (float, optional): terrestrial eutrophication potential for settting up facility per unit basis. Defaults to None.\\n        eutf (float, optional): fresh water eutrophication potential for settting up facility per unit basis. Defaults to None.\\n        eutm (float, optional): marine eutrophication potential for settting up facility per unit basis. Defaults to None.\\n        introduce (int, optional): Time period in the network scale when introduced. Defaults to None.\\n        lifetime (float, optional): the expected lifetime of process. Defaults to None.\\n        retire (int, optional): Time period in the network scale when retired. Defaults to None.\\n        trl (str, optional): technology readiness level. Defaults to None.\\n        p_fail (float, optional): failure rate of process. Defaults to None.\\n        storage(Resource, optional): Resource that can be stored in process. Defaults to None.\\n        store_max (float, optional): Maximum allowed storage of resource in process. Defaults to None.\\n        store_min (float, optional): Minimum allowed storage of resource in process. Defaults to None.\\n        storage_cost: (float, optional): penalty for mainting inventory per time period in the scheduling scale. Defaults to None.\\n        store_loss: (float, optional): resource loss on the scheduling scale\\n        block (str, optional): define block for convenience. Defaults to None.\\n        citation (str, optional): citation for data. Defaults to 'citation needed'.\\n        label(str, optional):Longer descriptive label if required. Defaults to None\\n        basis(str, optional): base units for operation. Defaults to 'unit'.\\n        ctype (List[ProcessType], optional): process type. Defaults to None\\n        ptype (Dict[ProcessType, List[Tuple['Location', ParameterType]]], optional): paramater type of declared values . Defaults to None\\n        ltype (Dict[ProcessType, List[Tuple['Location', LocalizeType]]], optional): which parameters are localized. Defaults to None.\\n        ftype ()\\n\\n\\n    Examples:\\n        For processes with varying production capacity\\n\\n        >>> WF = Process(name='WF', conversion={Wind: -1, Power: 1}, capex= 100, Fopex= 10, Vopex= 1,cap_max=100, gwp=52700, land= 90, basis = 'MW', block='power', label='Wind mill array')\\n\\n        For process with multiple modes of operation\\n\\n        >>> PEM = Process(name = 'PEM', conversion = {1: {Power: -1, H2: 19.474, O2: 763.2, H2O: -175.266}, 2: {Power: -1, H2: 1.2*19.474, O2: 1.2*763.2, H2O: 1.2*-175.266}, cap_max= 100, capex = 784000, label = 'PEM Electrolysis')\\n\\n        For process with multiple resource inputs\\n\\n        >>> CoolCar = Process(name = 'CoolCar', conversion = {1: {Power: -1, Mile: 1}, 2: {H2: -1, Mile:2}, cap_max= 50, capex = 70, label = 'CoolCar')\\n\\n    \",\n",
       "              'cap_max': None,\n",
       "              'cap_min': None,\n",
       "              'land': None,\n",
       "              'conversion': None,\n",
       "              'material_cons': None,\n",
       "              'capex': None,\n",
       "              'fopex': None,\n",
       "              'vopex': None,\n",
       "              'incidental': None,\n",
       "              'gwp': None,\n",
       "              'odp': None,\n",
       "              'acid': None,\n",
       "              'eutt': None,\n",
       "              'eutf': None,\n",
       "              'eutm': None,\n",
       "              'introduce': None,\n",
       "              'retire': None,\n",
       "              'lifetime': None,\n",
       "              'trl': None,\n",
       "              'p_fail': None,\n",
       "              'storage': None,\n",
       "              'store_max': None,\n",
       "              'store_min': None,\n",
       "              'storage_cost': None,\n",
       "              'store_loss': None,\n",
       "              'ctype': None,\n",
       "              'ptype': None,\n",
       "              'ltype': None,\n",
       "              'ftype': None,\n",
       "              'basis': None,\n",
       "              'block': None,\n",
       "              'citation': None,\n",
       "              'label': None,\n",
       "              'varying': None,\n",
       "              'prod_max': None,\n",
       "              'prod_min': None,\n",
       "              '__post_init__': <function energiapy.components.process.Process.__post_init__(self)>,\n",
       "              'create_storage_resource': <function energiapy.components.process.Process.create_storage_resource(self, resource: energiapy.components.resource.Resource) -> energiapy.components.resource.Resource>,\n",
       "              '__repr__': <function energiapy.components.process.Process.__repr__(self)>,\n",
       "              '__hash__': <function energiapy.components.process.Process.__hash__(self)>,\n",
       "              '__eq__': <function energiapy.components.process.Process.__eq__(self, other)>,\n",
       "              '__dict__': <attribute '__dict__' of 'Process' objects>,\n",
       "              '__weakref__': <attribute '__weakref__' of 'Process' objects>,\n",
       "              '__dataclass_params__': _DataclassParams(init=True,repr=True,eq=True,order=False,unsafe_hash=False,frozen=False),\n",
       "              '__dataclass_fields__': {'name': Field(name='name',type=<class 'str'>,default=<dataclasses._MISSING_TYPE object at 0x00000172CD86C7F0>,default_factory=<dataclasses._MISSING_TYPE object at 0x00000172CD86C7F0>,init=True,repr=True,hash=None,compare=True,metadata=mappingproxy({}),kw_only=False,_field_type=_FIELD),\n",
       "               'cap_max': Field(name='cap_max',type=typing.Union[float, typing.Tuple[float], energiapy.components.parameters.mpvar.Theta],default=None,default_factory=<dataclasses._MISSING_TYPE object at 0x00000172CD86C7F0>,init=True,repr=True,hash=None,compare=True,metadata=mappingproxy({}),kw_only=False,_field_type=_FIELD),\n",
       "               'cap_min': Field(name='cap_min',type=typing.Union[float, dict],default=None,default_factory=<dataclasses._MISSING_TYPE object at 0x00000172CD86C7F0>,init=True,repr=True,hash=None,compare=True,metadata=mappingproxy({}),kw_only=False,_field_type=_FIELD),\n",
       "               'land': Field(name='land',type=typing.Union[float, typing.Tuple[float], energiapy.components.parameters.mpvar.Theta],default=None,default_factory=<dataclasses._MISSING_TYPE object at 0x00000172CD86C7F0>,init=True,repr=True,hash=None,compare=True,metadata=mappingproxy({}),kw_only=False,_field_type=_FIELD),\n",
       "               'conversion': Field(name='conversion',type=typing.Union[typing.Dict[typing.Union[int, str], typing.Dict[energiapy.components.resource.Resource, float]], typing.Dict[energiapy.components.resource.Resource, float]],default=None,default_factory=<dataclasses._MISSING_TYPE object at 0x00000172CD86C7F0>,init=True,repr=True,hash=None,compare=True,metadata=mappingproxy({}),kw_only=False,_field_type=_FIELD),\n",
       "               'material_cons': Field(name='material_cons',type=typing.Union[typing.Dict[typing.Union[int, str], typing.Dict[energiapy.components.material.Material, float]], typing.Dict[energiapy.components.material.Material, float]],default=None,default_factory=<dataclasses._MISSING_TYPE object at 0x00000172CD86C7F0>,init=True,repr=True,hash=None,compare=True,metadata=mappingproxy({}),kw_only=False,_field_type=_FIELD),\n",
       "               'capex': Field(name='capex',type=typing.Union[float, dict, typing.Tuple[float], energiapy.components.parameters.mpvar.Theta],default=None,default_factory=<dataclasses._MISSING_TYPE object at 0x00000172CD86C7F0>,init=True,repr=True,hash=None,compare=True,metadata=mappingproxy({}),kw_only=False,_field_type=_FIELD),\n",
       "               'fopex': Field(name='fopex',type=typing.Union[float, typing.Tuple[float], energiapy.components.parameters.mpvar.Theta],default=None,default_factory=<dataclasses._MISSING_TYPE object at 0x00000172CD86C7F0>,init=True,repr=True,hash=None,compare=True,metadata=mappingproxy({}),kw_only=False,_field_type=_FIELD),\n",
       "               'vopex': Field(name='vopex',type=typing.Union[float, typing.Tuple[float], energiapy.components.parameters.mpvar.Theta],default=None,default_factory=<dataclasses._MISSING_TYPE object at 0x00000172CD86C7F0>,init=True,repr=True,hash=None,compare=True,metadata=mappingproxy({}),kw_only=False,_field_type=_FIELD),\n",
       "               'incidental': Field(name='incidental',type=typing.Union[float, typing.Tuple[float], energiapy.components.parameters.mpvar.Theta],default=None,default_factory=<dataclasses._MISSING_TYPE object at 0x00000172CD86C7F0>,init=True,repr=True,hash=None,compare=True,metadata=mappingproxy({}),kw_only=False,_field_type=_FIELD),\n",
       "               'gwp': Field(name='gwp',type=<class 'float'>,default=None,default_factory=<dataclasses._MISSING_TYPE object at 0x00000172CD86C7F0>,init=True,repr=True,hash=None,compare=True,metadata=mappingproxy({}),kw_only=False,_field_type=_FIELD),\n",
       "               'odp': Field(name='odp',type=<class 'float'>,default=None,default_factory=<dataclasses._MISSING_TYPE object at 0x00000172CD86C7F0>,init=True,repr=True,hash=None,compare=True,metadata=mappingproxy({}),kw_only=False,_field_type=_FIELD),\n",
       "               'acid': Field(name='acid',type=<class 'float'>,default=None,default_factory=<dataclasses._MISSING_TYPE object at 0x00000172CD86C7F0>,init=True,repr=True,hash=None,compare=True,metadata=mappingproxy({}),kw_only=False,_field_type=_FIELD),\n",
       "               'eutt': Field(name='eutt',type=<class 'float'>,default=None,default_factory=<dataclasses._MISSING_TYPE object at 0x00000172CD86C7F0>,init=True,repr=True,hash=None,compare=True,metadata=mappingproxy({}),kw_only=False,_field_type=_FIELD),\n",
       "               'eutf': Field(name='eutf',type=<class 'float'>,default=None,default_factory=<dataclasses._MISSING_TYPE object at 0x00000172CD86C7F0>,init=True,repr=True,hash=None,compare=True,metadata=mappingproxy({}),kw_only=False,_field_type=_FIELD),\n",
       "               'eutm': Field(name='eutm',type=<class 'float'>,default=None,default_factory=<dataclasses._MISSING_TYPE object at 0x00000172CD86C7F0>,init=True,repr=True,hash=None,compare=True,metadata=mappingproxy({}),kw_only=False,_field_type=_FIELD),\n",
       "               'introduce': Field(name='introduce',type=<class 'int'>,default=None,default_factory=<dataclasses._MISSING_TYPE object at 0x00000172CD86C7F0>,init=True,repr=True,hash=None,compare=True,metadata=mappingproxy({}),kw_only=False,_field_type=_FIELD),\n",
       "               'retire': Field(name='retire',type=<class 'int'>,default=None,default_factory=<dataclasses._MISSING_TYPE object at 0x00000172CD86C7F0>,init=True,repr=True,hash=None,compare=True,metadata=mappingproxy({}),kw_only=False,_field_type=_FIELD),\n",
       "               'lifetime': Field(name='lifetime',type=<class 'int'>,default=None,default_factory=<dataclasses._MISSING_TYPE object at 0x00000172CD86C7F0>,init=True,repr=True,hash=None,compare=True,metadata=mappingproxy({}),kw_only=False,_field_type=_FIELD),\n",
       "               'trl': Field(name='trl',type=<class 'str'>,default=None,default_factory=<dataclasses._MISSING_TYPE object at 0x00000172CD86C7F0>,init=True,repr=True,hash=None,compare=True,metadata=mappingproxy({}),kw_only=False,_field_type=_FIELD),\n",
       "               'p_fail': Field(name='p_fail',type=<class 'float'>,default=None,default_factory=<dataclasses._MISSING_TYPE object at 0x00000172CD86C7F0>,init=True,repr=True,hash=None,compare=True,metadata=mappingproxy({}),kw_only=False,_field_type=_FIELD),\n",
       "               'storage': Field(name='storage',type=<class 'energiapy.components.resource.Resource'>,default=None,default_factory=<dataclasses._MISSING_TYPE object at 0x00000172CD86C7F0>,init=True,repr=True,hash=None,compare=True,metadata=mappingproxy({}),kw_only=False,_field_type=_FIELD),\n",
       "               'store_max': Field(name='store_max',type=<class 'float'>,default=None,default_factory=<dataclasses._MISSING_TYPE object at 0x00000172CD86C7F0>,init=True,repr=True,hash=None,compare=True,metadata=mappingproxy({}),kw_only=False,_field_type=_FIELD),\n",
       "               'store_min': Field(name='store_min',type=<class 'float'>,default=None,default_factory=<dataclasses._MISSING_TYPE object at 0x00000172CD86C7F0>,init=True,repr=True,hash=None,compare=True,metadata=mappingproxy({}),kw_only=False,_field_type=_FIELD),\n",
       "               'storage_cost': Field(name='storage_cost',type=<class 'float'>,default=None,default_factory=<dataclasses._MISSING_TYPE object at 0x00000172CD86C7F0>,init=True,repr=True,hash=None,compare=True,metadata=mappingproxy({}),kw_only=False,_field_type=_FIELD),\n",
       "               'store_loss': Field(name='store_loss',type=<class 'float'>,default=None,default_factory=<dataclasses._MISSING_TYPE object at 0x00000172CD86C7F0>,init=True,repr=True,hash=None,compare=True,metadata=mappingproxy({}),kw_only=False,_field_type=_FIELD),\n",
       "               'ctype': Field(name='ctype',type=typing.List[energiapy.components.comptype.ProcessType],default=None,default_factory=<dataclasses._MISSING_TYPE object at 0x00000172CD86C7F0>,init=True,repr=True,hash=None,compare=True,metadata=mappingproxy({}),kw_only=False,_field_type=_FIELD),\n",
       "               'ptype': Field(name='ptype',type=typing.Dict[energiapy.components.comptype.ProcessType, energiapy.components.parameters.paratype.ParameterType],default=None,default_factory=<dataclasses._MISSING_TYPE object at 0x00000172CD86C7F0>,init=True,repr=True,hash=None,compare=True,metadata=mappingproxy({}),kw_only=False,_field_type=_FIELD),\n",
       "               'ltype': Field(name='ltype',type=typing.Dict[energiapy.components.comptype.ProcessType, typing.List[typing.Tuple[ForwardRef('Location'), energiapy.components.parameters.paratype.LocalizeType]]],default=None,default_factory=<dataclasses._MISSING_TYPE object at 0x00000172CD86C7F0>,init=True,repr=True,hash=None,compare=True,metadata=mappingproxy({}),kw_only=False,_field_type=_FIELD),\n",
       "               'ftype': Field(name='ftype',type=typing.Dict[energiapy.components.comptype.ProcessType, typing.List[typing.Tuple[ForwardRef('Location'), energiapy.components.parameters.paratype.FactorType]]],default=None,default_factory=<dataclasses._MISSING_TYPE object at 0x00000172CD86C7F0>,init=True,repr=True,hash=None,compare=True,metadata=mappingproxy({}),kw_only=False,_field_type=_FIELD),\n",
       "               'basis': Field(name='basis',type=<class 'str'>,default=None,default_factory=<dataclasses._MISSING_TYPE object at 0x00000172CD86C7F0>,init=True,repr=True,hash=None,compare=True,metadata=mappingproxy({}),kw_only=False,_field_type=_FIELD),\n",
       "               'block': Field(name='block',type=<class 'str'>,default=None,default_factory=<dataclasses._MISSING_TYPE object at 0x00000172CD86C7F0>,init=True,repr=True,hash=None,compare=True,metadata=mappingproxy({}),kw_only=False,_field_type=_FIELD),\n",
       "               'citation': Field(name='citation',type=<class 'str'>,default=None,default_factory=<dataclasses._MISSING_TYPE object at 0x00000172CD86C7F0>,init=True,repr=True,hash=None,compare=True,metadata=mappingproxy({}),kw_only=False,_field_type=_FIELD),\n",
       "               'label': Field(name='label',type=<class 'str'>,default=None,default_factory=<dataclasses._MISSING_TYPE object at 0x00000172CD86C7F0>,init=True,repr=True,hash=None,compare=True,metadata=mappingproxy({}),kw_only=False,_field_type=_FIELD),\n",
       "               'varying': Field(name='varying',type=<class 'list'>,default=None,default_factory=<dataclasses._MISSING_TYPE object at 0x00000172CD86C7F0>,init=True,repr=True,hash=None,compare=True,metadata=mappingproxy({}),kw_only=False,_field_type=_FIELD),\n",
       "               'prod_max': Field(name='prod_max',type=<class 'float'>,default=None,default_factory=<dataclasses._MISSING_TYPE object at 0x00000172CD86C7F0>,init=True,repr=True,hash=None,compare=True,metadata=mappingproxy({}),kw_only=False,_field_type=_FIELD),\n",
       "               'prod_min': Field(name='prod_min',type=<class 'float'>,default=None,default_factory=<dataclasses._MISSING_TYPE object at 0x00000172CD86C7F0>,init=True,repr=True,hash=None,compare=True,metadata=mappingproxy({}),kw_only=False,_field_type=_FIELD)},\n",
       "              '__init__': <function energiapy.components.process.Process.__init__(self, name: str, cap_max: Union[float, Tuple[float], energiapy.components.parameters.mpvar.Theta] = None, cap_min: Union[float, dict] = None, land: Union[float, Tuple[float], energiapy.components.parameters.mpvar.Theta] = None, conversion: Union[Dict[Union[int, str], Dict[energiapy.components.resource.Resource, float]], Dict[energiapy.components.resource.Resource, float]] = None, material_cons: Union[Dict[Union[int, str], Dict[energiapy.components.material.Material, float]], Dict[energiapy.components.material.Material, float]] = None, capex: Union[float, dict, Tuple[float], energiapy.components.parameters.mpvar.Theta] = None, fopex: Union[float, Tuple[float], energiapy.components.parameters.mpvar.Theta] = None, vopex: Union[float, Tuple[float], energiapy.components.parameters.mpvar.Theta] = None, incidental: Union[float, Tuple[float], energiapy.components.parameters.mpvar.Theta] = None, gwp: float = None, odp: float = None, acid: float = None, eutt: float = None, eutf: float = None, eutm: float = None, introduce: int = None, retire: int = None, lifetime: int = None, trl: str = None, p_fail: float = None, storage: energiapy.components.resource.Resource = None, store_max: float = None, store_min: float = None, storage_cost: float = None, store_loss: float = None, ctype: List[energiapy.components.comptype.ProcessType] = None, ptype: Dict[energiapy.components.comptype.ProcessType, energiapy.components.parameters.paratype.ParameterType] = None, ltype: Dict[energiapy.components.comptype.ProcessType, List[Tuple[ForwardRef('Location'), energiapy.components.parameters.paratype.LocalizeType]]] = None, ftype: Dict[energiapy.components.comptype.ProcessType, List[Tuple[ForwardRef('Location'), energiapy.components.parameters.paratype.FactorType]]] = None, basis: str = None, block: str = None, citation: str = None, label: str = None, varying: list = None, prod_max: float = None, prod_min: float = None) -> None>,\n",
       "              '__match_args__': ('name',\n",
       "               'cap_max',\n",
       "               'cap_min',\n",
       "               'land',\n",
       "               'conversion',\n",
       "               'material_cons',\n",
       "               'capex',\n",
       "               'fopex',\n",
       "               'vopex',\n",
       "               'incidental',\n",
       "               'gwp',\n",
       "               'odp',\n",
       "               'acid',\n",
       "               'eutt',\n",
       "               'eutf',\n",
       "               'eutm',\n",
       "               'introduce',\n",
       "               'retire',\n",
       "               'lifetime',\n",
       "               'trl',\n",
       "               'p_fail',\n",
       "               'storage',\n",
       "               'store_max',\n",
       "               'store_min',\n",
       "               'storage_cost',\n",
       "               'store_loss',\n",
       "               'ctype',\n",
       "               'ptype',\n",
       "               'ltype',\n",
       "               'ftype',\n",
       "               'basis',\n",
       "               'block',\n",
       "               'citation',\n",
       "               'label',\n",
       "               'varying',\n",
       "               'prod_max',\n",
       "               'prod_min')})"
      ]
     },
     "execution_count": 27,
     "metadata": {},
     "output_type": "execute_result"
    }
   ],
   "source": [
    "Process.__dict__"
   ]
  },
  {
   "cell_type": "code",
   "execution_count": 47,
   "metadata": {},
   "outputs": [
    {
     "data": {
      "text/plain": [
       "True"
      ]
     },
     "execution_count": 47,
     "metadata": {},
     "output_type": "execute_result"
    }
   ],
   "source": [
    "scenario.consider_vopex"
   ]
  },
  {
   "cell_type": "code",
   "execution_count": null,
   "metadata": {},
   "outputs": [],
   "source": [
    "ProcessType.__dict__"
   ]
  },
  {
   "cell_type": "code",
   "execution_count": 24,
   "metadata": {},
   "outputs": [
    {
     "data": {
      "text/plain": [
       "{CO2, CO2(Aq), CO2_Vent, H2, LiI_Power_stored, O2, Power}"
      ]
     },
     "execution_count": 24,
     "metadata": {},
     "output_type": "execute_result"
    }
   ],
   "source": [
    "houston.resources_produce"
   ]
  },
  {
   "cell_type": "code",
   "execution_count": null,
   "metadata": {},
   "outputs": [],
   "source": [
    "houston.ptype"
   ]
  },
  {
   "cell_type": "code",
   "execution_count": null,
   "metadata": {},
   "outputs": [],
   "source": [
    "network.transport_avail_dict"
   ]
  },
  {
   "cell_type": "code",
   "execution_count": null,
   "metadata": {},
   "outputs": [],
   "source": [
    "houston.resources_demand"
   ]
  },
  {
   "cell_type": "code",
   "execution_count": null,
   "metadata": {},
   "outputs": [],
   "source": [
    "houston.resources_demand"
   ]
  },
  {
   "cell_type": "code",
   "execution_count": null,
   "metadata": {},
   "outputs": [],
   "source": [
    "houston.demand"
   ]
  },
  {
   "cell_type": "code",
   "execution_count": null,
   "metadata": {},
   "outputs": [],
   "source": [
    "{i: i.name for i in {}}"
   ]
  },
  {
   "cell_type": "code",
   "execution_count": null,
   "metadata": {},
   "outputs": [],
   "source": [
    "if houston.resources_sell:\n",
    "    print('adsad')"
   ]
  },
  {
   "cell_type": "code",
   "execution_count": null,
   "metadata": {},
   "outputs": [],
   "source": [
    "houston.availability_factor"
   ]
  },
  {
   "cell_type": "code",
   "execution_count": null,
   "metadata": {},
   "outputs": [],
   "source": [
    "network.capacity_factor"
   ]
  },
  {
   "cell_type": "code",
   "execution_count": null,
   "metadata": {},
   "outputs": [],
   "source": [
    "scenario.capacity_factor"
   ]
  },
  {
   "cell_type": "code",
   "execution_count": null,
   "metadata": {},
   "outputs": [],
   "source": [
    "plot_scenario.capacity_factor(scenario = scenario, location= houston, process= PV, fig_size= (9,5), color= 'orange')\n"
   ]
  },
  {
   "attachments": {},
   "cell_type": "markdown",
   "metadata": {},
   "source": [
    "![cap fac pv](plots/cf_ho.png)"
   ]
  },
  {
   "cell_type": "code",
   "execution_count": null,
   "metadata": {},
   "outputs": [],
   "source": [
    "plot_scenario.capacity_factor(scenario = scenario, location= sandiego, process= WF, fig_size= (9,5), color= 'blue')\n"
   ]
  },
  {
   "attachments": {},
   "cell_type": "markdown",
   "metadata": {},
   "source": [
    "![cap fac wf](plots/wf_sd.png)"
   ]
  },
  {
   "cell_type": "code",
   "execution_count": null,
   "metadata": {},
   "outputs": [],
   "source": [
    "plot_scenario.demand_factor(scenario = scenario, location= newyork, resource= Power, fig_size= (9,5), color= 'red')\n"
   ]
  },
  {
   "attachments": {},
   "cell_type": "markdown",
   "metadata": {},
   "source": [
    "![df ny](plots/df_ny.png)"
   ]
  },
  {
   "attachments": {},
   "cell_type": "markdown",
   "metadata": {},
   "source": [
    "## Optimize for minimum cost"
   ]
  },
  {
   "cell_type": "code",
   "execution_count": null,
   "metadata": {},
   "outputs": [],
   "source": [
    "milp_cost = formulate(scenario= scenario, constraints={Constraints.COST, Constraints.INVENTORY, Constraints.PRODUCTION, Constraints.RESOURCE_BALANCE, Constraints.TRANSPORT, Constraints.MODE, Constraints.NETWORK},  objective=Objective.COST)"
   ]
  },
  {
   "attachments": {},
   "cell_type": "markdown",
   "metadata": {},
   "source": [
    "**Ensure no discharge of power in Houston and San Diego**\n",
    "\n",
    "While the demand for power is zero in these locations, Power is still a dischargeable resource. Hence, the discharge bounds need to be set to zero.\n",
    "If not set to zero, the system chooses to dispense power instead of establishing storage networks."
   ]
  },
  {
   "cell_type": "code",
   "execution_count": null,
   "metadata": {},
   "outputs": [],
   "source": [
    "\n",
    "milp_cost.constraint_specific_location_discharge_ho = constraint_specific_location_discharge(\n",
    "        instance=milp_cost, network_scale_level=0, bounds={Power: 0}, location = houston)\n",
    "milp_cost.constraint_specific_location_discharge_sd = constraint_specific_location_discharge(\n",
    "        instance=milp_cost, network_scale_level=0, bounds={Power: 0}, location = sandiego)\n"
   ]
  },
  {
   "cell_type": "code",
   "execution_count": null,
   "metadata": {},
   "outputs": [],
   "source": [
    "\n",
    "results_cost = solve(scenario = scenario, instance= milp_cost, solver= 'gurobi', name=\"results_cost\", print_solversteps = True)\n"
   ]
  },
  {
   "attachments": {},
   "cell_type": "markdown",
   "metadata": {},
   "source": [
    "**Schedule for transport of hydrogen**"
   ]
  },
  {
   "cell_type": "code",
   "execution_count": null,
   "metadata": {},
   "outputs": [],
   "source": [
    "plot_results.transport(results=results_cost, source='SD', sink='NY', resource='H2', transport='Train_H2')\n"
   ]
  },
  {
   "attachments": {},
   "cell_type": "markdown",
   "metadata": {},
   "source": [
    "![sch t sdny](plots/sch_sdny.png)"
   ]
  },
  {
   "cell_type": "code",
   "execution_count": null,
   "metadata": {},
   "outputs": [],
   "source": [
    "plot_results.transport(results=results_cost, source='HO', sink='NY', resource='H2', transport='Train_H2')"
   ]
  },
  {
   "attachments": {},
   "cell_type": "markdown",
   "metadata": {},
   "source": [
    "![sch hony](plots/sch_hony.png)"
   ]
  },
  {
   "attachments": {},
   "cell_type": "markdown",
   "metadata": {},
   "source": [
    "**Cost contribution by technology**"
   ]
  },
  {
   "cell_type": "code",
   "execution_count": null,
   "metadata": {},
   "outputs": [],
   "source": [
    "plot_results.cost(results= results_cost, x = CostX.PROCESS_WISE, y = CostY.CAPEX, location= 'HO', fig_size= (8,6))\n",
    "plot_results.cost(results= results_cost, x = CostX.PROCESS_WISE, y = CostY.VOPEX, location= 'HO', fig_size= (8,6))\n",
    "plot_results.cost(results= results_cost, x = CostX.PROCESS_WISE, y = CostY.FOPEX, location= 'HO', fig_size= (8,6))\n",
    "plot_results.cost(results= results_cost, x = CostX.PROCESS_WISE, y = CostY.TOTAL, location= 'HO', fig_size= (8,6))"
   ]
  },
  {
   "attachments": {},
   "cell_type": "markdown",
   "metadata": {},
   "source": [
    "![total cost ho](plots/total_ho.png)"
   ]
  },
  {
   "attachments": {},
   "cell_type": "markdown",
   "metadata": {},
   "source": [
    "**Location-wise cost contribution by technology**"
   ]
  },
  {
   "cell_type": "code",
   "execution_count": null,
   "metadata": {},
   "outputs": [],
   "source": [
    "\n",
    "plot_results.cost(results= results_cost, x = CostX.LOCATION_WISE, y = CostY.CAPEX, fig_size= (8,6))\n",
    "plot_results.cost(results= results_cost, x = CostX.LOCATION_WISE, y = CostY.VOPEX, fig_size= (8,6))\n",
    "plot_results.cost(results= results_cost, x = CostX.LOCATION_WISE, y = CostY.FOPEX, fig_size= (8,6))\n",
    "plot_results.cost(results= results_cost, x = CostX.LOCATION_WISE, y = CostY.TOTAL, fig_size= (8,6))"
   ]
  },
  {
   "attachments": {},
   "cell_type": "markdown",
   "metadata": {},
   "source": [
    "![total lw](plots/total_lw.png)"
   ]
  },
  {
   "attachments": {},
   "cell_type": "markdown",
   "metadata": {},
   "source": [
    "**Inventory and production schedules**"
   ]
  },
  {
   "cell_type": "code",
   "execution_count": null,
   "metadata": {},
   "outputs": [],
   "source": [
    "plot_results.schedule(results= results_cost, y_axis= 'Inv', component= 'LiI_Power_stored', location = 'SD', fig_size= (9,5), color = 'steelblue')"
   ]
  },
  {
   "attachments": {},
   "cell_type": "markdown",
   "metadata": {},
   "source": [
    "![inv lii](plots/lii_inv.png)"
   ]
  },
  {
   "cell_type": "code",
   "execution_count": null,
   "metadata": {},
   "outputs": [],
   "source": [
    "plot_results.schedule(results= results_cost, y_axis= 'P', component= 'PV', location = 'SD', fig_size= (9,5), color = 'steelblue')"
   ]
  },
  {
   "attachments": {},
   "cell_type": "markdown",
   "metadata": {},
   "source": [
    "![pv p](plots/pv_p.png)"
   ]
  },
  {
   "attachments": {},
   "cell_type": "markdown",
   "metadata": {},
   "source": [
    "## Optimize to maximize resource discharge "
   ]
  },
  {
   "cell_type": "code",
   "execution_count": null,
   "metadata": {},
   "outputs": [],
   "source": [
    "\n",
    "milp_demand = formulate(scenario=scenario, constraints={Constraints.COST, Constraints.INVENTORY, Constraints.PRODUCTION,\n",
    "                        Constraints.RESOURCE_BALANCE, Constraints.TRANSPORT, Constraints.MODE, Constraints.NETWORK},  objective=Objective.MAX_DISCHARGE, objective_resource=Power)\n"
   ]
  },
  {
   "cell_type": "code",
   "execution_count": null,
   "metadata": {},
   "outputs": [],
   "source": [
    "\n",
    "milp_demand.constraint_specific_location_discharge_ho = constraint_specific_location_discharge(\n",
    "        instance=milp_demand, network_scale_level=0, bounds={Power: 0}, location = houston)\n",
    "milp_demand.constraint_specific_location_discharge_sd = constraint_specific_location_discharge(\n",
    "        instance=milp_demand, network_scale_level=0, bounds={Power: 0}, location = sandiego)\n"
   ]
  },
  {
   "cell_type": "code",
   "execution_count": null,
   "metadata": {},
   "outputs": [],
   "source": [
    "\n",
    "results_demand = solve(scenario=scenario, instance=milp_demand, solver='gurobi',\n",
    "                       name=\"results_demand\", print_solversteps=True)\n"
   ]
  },
  {
   "attachments": {},
   "cell_type": "markdown",
   "metadata": {},
   "source": [
    "**Schedule for transport of hydrogen**"
   ]
  },
  {
   "cell_type": "code",
   "execution_count": null,
   "metadata": {},
   "outputs": [],
   "source": [
    "plot_results.transport(results=results_demand, source='SD', sink='NY', resource='H2', transport='Train_H2')\n"
   ]
  },
  {
   "attachments": {},
   "cell_type": "markdown",
   "metadata": {},
   "source": [
    "![sch t sdny2](plots/sch_sdny2.png)"
   ]
  },
  {
   "cell_type": "code",
   "execution_count": null,
   "metadata": {},
   "outputs": [],
   "source": [
    "plot_results.transport(results=results_demand, source='HO', sink='NY', resource='H2', transport='Train_H2')"
   ]
  },
  {
   "attachments": {},
   "cell_type": "markdown",
   "metadata": {},
   "source": [
    "![sch t hony](plots/sch_hony2.png)"
   ]
  }
 ],
 "metadata": {
  "kernelspec": {
   "display_name": "Python 3.10.5 ('ki': venv)",
   "language": "python",
   "name": "python3"
  },
  "language_info": {
   "codemirror_mode": {
    "name": "ipython",
    "version": 3
   },
   "file_extension": ".py",
   "mimetype": "text/x-python",
   "name": "python",
   "nbconvert_exporter": "python",
   "pygments_lexer": "ipython3",
   "version": "3.10.5"
  },
  "orig_nbformat": 4,
  "vscode": {
   "interpreter": {
    "hash": "a4a97498e3c1bfef05f70a75d4fcafcb7b5c9c4ed86429a4e7bee46eaa890f24"
   }
  }
 },
 "nbformat": 4,
 "nbformat_minor": 2
}
