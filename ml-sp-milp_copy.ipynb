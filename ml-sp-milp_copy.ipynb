{
 "cells": [
  {
   "attachments": {},
   "cell_type": "markdown",
   "metadata": {},
   "source": [
    "## Import modules"
   ]
  },
  {
   "cell_type": "code",
   "execution_count": 1,
   "metadata": {},
   "outputs": [],
   "source": [
    "import sys\n",
    "sys.path.append('src')"
   ]
  },
  {
   "cell_type": "code",
   "execution_count": 2,
   "metadata": {},
   "outputs": [],
   "source": [
    "import pandas\n",
    "import numpy\n",
    "\n",
    "from energiapy.components import *\n",
    "from energiapy.utils.data_utils import make_henry_price_df, remove_outliers\n",
    "from itertools import product"
   ]
  },
  {
   "cell_type": "markdown",
   "metadata": {},
   "source": [
    "## Data Import"
   ]
  },
  {
   "cell_type": "markdown",
   "metadata": {},
   "source": [
    "The following data is needed for the model\n",
    "\n",
    "- solar and wind profiles : energiapy.fetch_nsrdb_data imports data from the NREL NSRDB database\n",
    "- power demand : ERCOT for Houston; CAISO for San Diego\n",
    "- Natural Gas prices: Henry Hub Price Index for both\n"
   ]
  },
  {
   "cell_type": "markdown",
   "metadata": {},
   "source": [
    "**Get Weather data**"
   ]
  },
  {
   "cell_type": "code",
   "execution_count": 3,
   "metadata": {},
   "outputs": [],
   "source": [
    "def load_data(loc:str, index:list):\n",
    "    df = pandas.read_csv(f'data/{loc}_solar19.csv')\n",
    "    df['idx'] = index\n",
    "    df = df.set_index('idx')\n",
    "    return df"
   ]
  },
  {
   "cell_type": "code",
   "execution_count": 4,
   "metadata": {},
   "outputs": [],
   "source": [
    "idx = [(i,j,k) for i,j,k in product(range(1), range(365), range(24))]\n"
   ]
  },
  {
   "cell_type": "code",
   "execution_count": 5,
   "metadata": {},
   "outputs": [],
   "source": [
    "weather_ny = load_data('ny', idx)[['DNI', 'Wind Speed']]\n",
    "weather_ny = weather_ny.rename(columns= {'DNI': 'dni', 'Wind Speed': 'wind_speed'})\n",
    "weather_sd = load_data('sd', idx)[['dni', 'wind_speed']]\n",
    "weather_ho = load_data('ho', idx)[['dni', 'wind_speed']]\n"
   ]
  },
  {
   "cell_type": "markdown",
   "metadata": {},
   "source": [
    "**Demand data for San Diego (CAISO for SDGE region) and Houston (ERCOT for COAST region)**"
   ]
  },
  {
   "cell_type": "code",
   "execution_count": 6,
   "metadata": {},
   "outputs": [],
   "source": [
    "demand_sd = pandas.read_excel('data/HistoricalEMSHourlyLoad-2019.xlsx', index_col= 0)[['SDGE']]\n",
    "demand_ho = pandas.read_excel('data/Native_Load_2019.xlsx')[['COAST']]\n",
    "demand_ny = pandas.DataFrame(pandas.read_csv('data/NYC_load.csv')['Load']) #from Will and Doga"
   ]
  },
  {
   "cell_type": "markdown",
   "metadata": {},
   "source": [
    "**Natural gas prices from Henry Hub Price Index**  \n",
    "\n",
    "We use the special function energiapy.make_henry_price_df because of special requirements such as filling in empty data points (weekends, public holidays). Such function will be generalized in the next update of energipy"
   ]
  },
  {
   "cell_type": "code",
   "execution_count": 7,
   "metadata": {},
   "outputs": [],
   "source": [
    "ng_price = make_henry_price_df(\n",
    "    file_name='data/Henry_Hub_Natural_Gas_Spot_Price_Daily.csv', year=2020)\n",
    "ng_price = ng_price.drop(columns= 'scales')\n",
    "ng_price = remove_outliers(ng_price, sd_cuttoff = 3)\n",
    "ng_price = pandas.concat([ng_price])"
   ]
  },
  {
   "cell_type": "markdown",
   "metadata": {},
   "source": [
    "## Define temporal scale\n"
   ]
  },
  {
   "cell_type": "markdown",
   "metadata": {},
   "source": [
    "The variabilities of energy systems are best captured over a discretized spatio-temporal scale. In energiapy, the first declaration is the temporal scale. \n",
    "\n",
    "For e.g.: Here we declare three temporal scales at different levels from right to left. The interpretation of these scales is merely symentic. Scales can be declared as the problem demands.\n",
    "- 0, annual, with 1 discretization\n",
    "- 1, daily with 365 discretization\n",
    "- 2, hourly with 24 discretization\n",
    "\n",
    "In essence, we are creating a temporal scale of 8760 points."
   ]
  },
  {
   "cell_type": "code",
   "execution_count": 8,
   "metadata": {},
   "outputs": [],
   "source": [
    "scales = TemporalScale(discretization_list=[1, 365, 24], design_scale= 0, scheduling_scale=2)"
   ]
  },
  {
   "cell_type": "code",
   "execution_count": 9,
   "metadata": {},
   "outputs": [
    {
     "data": {
      "text/plain": [
       "[<ScaleType.MULTI: 1>, <ScaleType.SCHEDULING: 4>]"
      ]
     },
     "execution_count": 9,
     "metadata": {},
     "output_type": "execute_result"
    }
   ],
   "source": [
    "scales.ctype"
   ]
  },
  {
   "cell_type": "markdown",
   "metadata": {},
   "source": [
    "## Declare resources"
   ]
  },
  {
   "cell_type": "markdown",
   "metadata": {},
   "source": [
    "Resources can be consumed, produced, stored, discharged (or sold). "
   ]
  },
  {
   "cell_type": "code",
   "execution_count": 10,
   "metadata": {},
   "outputs": [],
   "source": [
    "th_h2 = Theta((0, 10))"
   ]
  },
  {
   "cell_type": "code",
   "execution_count": 11,
   "metadata": {},
   "outputs": [],
   "source": [
    "Hydrogen = Resource(name='H2', discharge = True, sell_price = Theta((0, 10)))"
   ]
  },
  {
   "cell_type": "code",
   "execution_count": 12,
   "metadata": {},
   "outputs": [
    {
     "data": {
      "text/plain": [
       "Theta(H2,sell_price)"
      ]
     },
     "execution_count": 12,
     "metadata": {},
     "output_type": "execute_result"
    }
   ],
   "source": [
    "Hydrogen.sell_price"
   ]
  },
  {
   "cell_type": "code",
   "execution_count": 13,
   "metadata": {},
   "outputs": [],
   "source": [
    "Solar = Resource(name='Solar', gwp =50, eutt = 60, consume=BigM, basis='MW', label='Solar Power')\n",
    "\n",
    "Wind = Resource(name='Wind', consume=True, basis='MW', label='Wind Power')\n",
    "\n",
    "Power = Resource(name='Power', basis='MW', label='Power generated')\n",
    "\n",
    "Uranium = Resource(name='Ur', consume=BigM, purchase_price= 42.70/(250/2), basis='kg', label='Uranium')\n",
    "\n",
    "H2 = Resource(name='H2', basis='tons', label='Hydrogen')\n",
    "\n",
    "H2_L = Resource(name='H2_L', store_max = True, basis='tons', label='Hydrogen')\n",
    "\n",
    "CO2_AQoff = Resource(name='CO2(Aq)', store_max = True, basis='tons', label='Carbon dioxide - sequestered')\n",
    "\n",
    "H2O = Resource(name='H2O', consume=BigM,\n",
    "               purchase_price= 0.001, basis='tons', label='Water')\n",
    "\n",
    "CH4 = Resource(name='CH4', consume=BigM, purchase_price=1, basis='tons', label='Natural gas')\n",
    "\n",
    "CO2 = Resource(name='CO2', basis='tons', label='Carbon dioxide', block='Resource')\n",
    "\n",
    "CO2_Vent = Resource(name='CO2_Vent', basis='tons', label='Carbon dioxide - Vented', sell_price= 20)\n",
    "\n",
    "O2 = Resource(name='O2', discharge=True, basis='tons', label='Oxygen')\n",
    "\n",
    "CO2_DAC = Resource(name='CO2_DAC', basis='tons', label='Carbon dioxide - captured')\n"
   ]
  },
  {
   "cell_type": "code",
   "execution_count": 14,
   "metadata": {},
   "outputs": [
    {
     "data": {
      "text/plain": [
       "energiapy.components.parameters.special.Big"
      ]
     },
     "execution_count": 14,
     "metadata": {},
     "output_type": "execute_result"
    }
   ],
   "source": [
    "type(BigM)"
   ]
  },
  {
   "attachments": {},
   "cell_type": "markdown",
   "metadata": {},
   "source": [
    "## Declare processes"
   ]
  },
  {
   "cell_type": "code",
   "execution_count": 15,
   "metadata": {},
   "outputs": [],
   "source": [
    "LiI = Process(name='LiI', storage= Power, capex = 3516428, fopex= 87910, vopex = 0, store_max = 10000, cap_max=1000, label='Lithium-ion battery', basis = 'MW')\n",
    "\n",
    "# WF = Process(name='WF', conversion={Wind: -1, Power: 1}, capex= (0, 20), fopex= (0, 3), vopex=(0, 1), cap_max= Theta((1, 2)), land = Theta((4, 10)), label='Wind mill array', basis = 'MW')\n",
    "\n",
    "WF = Process(name='WF', gwp = 50, odp = 2900, conversion={Wind: -1, Power: 1},capex=1462000, fopex=43000, vopex=4953, cap_max=1000, land = 30, label='Wind mill array', basis = 'MW')\n",
    "\n",
    "# PV = Process(name='PV', conversion={Solar: -1, Power: 1}, capex = 1333262, fopex= 22623, cap_max=1000, label = 'Solar PV', basis = 'MW')\n",
    "PV = Process(name='PV', conversion={1:{Solar: -1, Power: 0.8}, 2: {Solar: -1, Power: 1}}, capex = 1333262, fopex= 22623, cap_max=True, label = 'Solar PV', basis = 'MW')\n",
    "\n",
    "SMRH = Process(name='SMRH', conversion={Power: -1.11, CH4: -3.76, H2O: -23.7, H2: 1, CO2_Vent: 1.03, CO2: 9.332}, capex =2520000, fopex = 945000, vopex = 51.5, cap_max= 1000, label='Steam methane reforming + CCUS')\n",
    "\n",
    "NGCC = Process(name= 'NGCC', conversion = {Power: 1, CH4: -0.108, CO2_Vent: 0.297*0.05, CO2:0.297*0.95}, capex = 2158928, fopex= 53320, vopex = 4090, cap_max= 1000, label = 'NGCC + 95% CC')\n",
    "\n",
    "SMR = Process(name='SMR', capex = 2400, fopex = 800, vopex = 0.03,  conversion={Power: -1.11, CH4: -3.76, H2O: -23.7, H2: 1, CO2_Vent: 9.4979}, cap_max=1000, label='Steam methane reforming')\n",
    "\n",
    "H2FC = Process(name='H2FC', conversion = {H2:-0.050, Power: 1}, capex =  1.6*10**6, vopex = 3.5, cap_max = 1000, label = 'hydrogen fuel cell')\n",
    "\n",
    "DAC = Process(name='DAC', capex = 0.02536, fopex = 0.634, conversion={Power: -0.193, H2O: -4.048, CO2_DAC: 1}, cap_max=1000, label='Direct air capture')\n",
    "\n",
    "PSH = Process(name='PSH', storage= Power, capex = 3924781, fopex= 17820, vopex = 512.5, store_max = 10000, cap_max=1000, label='Pumped storage hydropower', basis = 'MW')\n",
    "\n",
    "H2_L_c = Process(name='H2_L_c', conversion={Power: -0.417, H2_L: 1, H2: -1}, capex =  1.6*10**6, vopex = 3.5, cap_max= 1000, label='Hydrogen geological storage')\n",
    "\n",
    "H2_L_d = Process(name='H2_L_d', conversion={H2_L: -1, H2: 1}, capex =  0.01, vopex = 0.001, cap_max= 1000, label='Hydrogen geological storage discharge')\n",
    "\n",
    "DAC = Process(name='DAC', conversion={Power: -0.193, H2O: -4.048, CO2_DAC: 1}, capex = 730, fopex= 114, vopex= 3.6, cap_max=1000, label='Direct air capture')\n",
    "\n",
    "ASMR = Process(name='ASMR', conversion={Uranium: -4.17*10**(-5), H2O: -3.364, Power: 1}, capex = 7988951, fopex= 0.04*0.730, cap_max=1000, label='Small modular reactors (SMRs)')\n",
    "\n",
    "AWE = Process(name='AWE', land = (0,20),  conversion={Power: -1, H2: 0.019, O2: 0.7632, H2O: -0.1753}, capex = 1.1*10**6, fopex = 16918, cap_max=1000, label='Alkaline water electrolysis (AWE)', citation='Demirhan et al. 2018 AIChE paper') \n",
    "\n",
    "AQoff_SMR = Process(name='AQoff_SMR', conversion={Power: -1.28, CO2_AQoff: 1, CO2: -1}, capex =  5.52, vopex = 4.14, cap_max= 1000,  label='Offshore aquifer CO2 sequestration (SMR)')"
   ]
  },
  {
   "cell_type": "code",
   "execution_count": 16,
   "metadata": {},
   "outputs": [
    {
     "name": "stdout",
     "output_type": "stream",
     "text": [
      "Help on class Process in module energiapy.components.process:\n",
      "\n",
      "class Process(builtins.object)\n",
      " |  Process(name: str, cap_max: Union[float, Tuple[float], energiapy.components.parameters.mpvar.Theta, bool, ForwardRef('Big')], cap_min: float = None, land: float = None, conversion: Union[Dict[Union[int, str], Dict[energiapy.components.resource.Resource, float]], Dict[energiapy.components.resource.Resource, float]] = None, material_cons: Union[Dict[Union[int, str], Dict[energiapy.components.material.Material, float]], Dict[energiapy.components.material.Material, float]] = None, capex: Union[float, dict, Tuple[float], energiapy.components.parameters.mpvar.Theta] = None, fopex: Union[float, Tuple[float], energiapy.components.parameters.mpvar.Theta] = None, vopex: Union[float, Tuple[float], energiapy.components.parameters.mpvar.Theta] = None, incidental: Union[float, Tuple[float], energiapy.components.parameters.mpvar.Theta] = None, gwp: Union[float, Tuple[float], energiapy.components.parameters.mpvar.Theta] = None, odp: Union[float, Tuple[float], energiapy.components.parameters.mpvar.Theta] = None, acid: Union[float, Tuple[float], energiapy.components.parameters.mpvar.Theta] = None, eutt: Union[float, Tuple[float], energiapy.components.parameters.mpvar.Theta] = None, eutf: Union[float, Tuple[float], energiapy.components.parameters.mpvar.Theta] = None, eutm: Union[float, Tuple[float], energiapy.components.parameters.mpvar.Theta] = None, introduce: Union[float, Tuple[float], energiapy.components.parameters.mpvar.Theta] = None, retire: Union[float, Tuple[float], energiapy.components.parameters.mpvar.Theta] = None, lifetime: Union[float, Tuple[float], energiapy.components.parameters.mpvar.Theta] = None, p_fail: Union[float, Tuple[float], energiapy.components.parameters.mpvar.Theta] = None, storage: energiapy.components.resource.Resource = None, store_max: Union[float, Tuple[float], energiapy.components.parameters.mpvar.Theta, bool, ForwardRef('Big')] = None, store_min: float = None, storage_cost: Union[float, Tuple[float], energiapy.components.parameters.mpvar.Theta] = None, store_loss: Union[float, Tuple[float], energiapy.components.parameters.mpvar.Theta] = None, ctype: List[Union[energiapy.components.comptype.process.ProcessType, Dict[energiapy.components.comptype.process.ProcessType, Set[ForwardRef('Location')]]]] = None, ptype: Dict[energiapy.components.parameters.process.ProcessParamType, Union[energiapy.components.parameters.paramtype.ParameterType, Dict[ForwardRef('Location'), energiapy.components.parameters.paramtype.ParameterType]]] = None, ltype: Dict[energiapy.components.parameters.process.ProcessParamType, List[Tuple[ForwardRef('Location'), energiapy.components.parameters.paramtype.LocalizationType]]] = None, ftype: Dict[energiapy.components.parameters.process.ProcessParamType, List[Tuple[ForwardRef('Location'), energiapy.components.parameters.paramtype.FactorType]]] = None, etype: List[energiapy.components.comptype.emission.EmissionType] = None, localizations: Dict[energiapy.components.parameters.process.ProcessParamType, List[Tuple[ForwardRef('Location'), energiapy.components.parameters.localization.Localization]]] = None, factors: Dict[energiapy.components.parameters.process.ProcessParamType, List[Tuple[ForwardRef('Location'), energiapy.components.parameters.factor.Factor]]] = None, emissions: Dict[str, float] = None, basis: str = None, block: str = None, citation: str = None, label: str = None, trl: str = None, varying: list = None, prod_max: float = None, prod_min: float = None) -> None\n",
      " |  \n",
      " |  A Process can produce or store Resource(s) \n",
      " |  \n",
      " |  For production process:\n",
      " |      conversion needs to be specified\n",
      " |      production modes and material modes can be declared using nested dictionaries. See examples []\n",
      " |      piece wise linear capex curves can be declared using a dictionary. See examples []\n",
      " |  \n",
      " |  For storage process:\n",
      " |  storage = energiapy.Resource is needed. See examples []\n",
      " |  a resource_storage with the name {process name}_{resource name}_stored is created, which features in the resource balance \n",
      " |  This new resource will inherit the store_max and store_min from Process even if it was specified for Resource\n",
      " |  cap_max and cap_min in this case will bound the maximum rate of charging and discharging \n",
      " |  Further, when provided to a Location, a discharge Process is also created\n",
      " |  The expenditures (capex, fopex, vopex, incidental) are set to 0 if provided, None otherwise\n",
      " |  \n",
      " |  Given that maximum and minimum capacity (cap_max and cap_min), and expenditure (capex, fopex, vopex, incidental) can vary by location,\n",
      " |  localization can be achieved by providing the cap_max_localize, cap_min_localize, capex_localize, fopex_localize, vopex_localize, incidental_localize\n",
      " |  at Location level\n",
      " |  \n",
      " |  Credits need to be provided at Location\n",
      " |  \n",
      " |  Args:\n",
      " |      name (str): name of process. Enter None to randomly assign a name.\n",
      " |      cap_max (Union[float, Tuple[float], Theta, bool, 'Big']): Maximum production capacity allowed in a time period of the scheduling scale.\n",
      " |      cap_min (Union[float, dict, Tuple[float], Theta], optional): Minimum production capacity allowed in a time period of the scheduling scale. Defaults to None.\n",
      " |      land (Union[float, Tuple[float], Theta], optional): land requirement per unit basis. Defaults to None.\n",
      " |      conversion (Union[Dict[Union[int, str],Dict[Resource, float]], Dict[Resource, float]], optional): conversion data (Dict[Resource, float]]), if multimode the of form Dict[int,Dict[Resource, float]]. Defaults to None.\n",
      " |      material_cons (Union[Dict[Union[int, str], Dict[Material, float]],Dict[Material, float]], optional): Materials consumed per unit basis of production capacity. Defaults to None.\n",
      " |      capex (Union[float, dict, Tuple[float], Theta], None): Capital expenditure per unit basis, can be scaled with capacity. Defaults to None.\n",
      " |      fopex (Union[float, Tuple[float], Theta], None): Fixed operational expenditure per unit basis, can be scaled with capacity. Defaults to None.\n",
      " |      vopex (Union[float, Tuple[float], Theta], None): Variable operational expenditure per unit basis, can be scaled with capacity. Defaults to None.\n",
      " |      incidental (Union[float, Tuple[float], Theta], None): Incidental expenditure. Defaults to None.\n",
      " |      gwp (Union[float, Tuple[float], Theta], optional): global warming potential for settting up facility per unit basis. Defaults to None.\n",
      " |      odp (Union[float, Tuple[float], Theta], optional): ozone depletion potential for settting up facility per unit basis. Defaults to None.\n",
      " |      acid (Union[float, Tuple[float], Theta], optional): acidification potential for settting up facility per unit basis. Defaults to None.\n",
      " |      eutt (Union[float, Tuple[float], Theta], optional): terrestrial eutrophication potential for settting up facility per unit basis. Defaults to None.\n",
      " |      eutf (Union[float, Tuple[float], Theta], optional): fresh water eutrophication potential for settting up facility per unit basis. Defaults to None.\n",
      " |      eutm (Union[float, Tuple[float], Theta], optional): marine eutrophication potential for settting up facility per unit basis. Defaults to None.\n",
      " |      introduce (int, optional): Time period in the network scale when introduced. Defaults to None.\n",
      " |      lifetime (Union[float, Tuple[float], Theta] = None, optional): the expected lifetime of Process. Defaults to None.\n",
      " |      retire (int, optional): Time period in the network scale when retired. Defaults to None.\n",
      " |      p_fail (Union[float, Tuple[float], Theta] = None, optional): failure rate of Process. Defaults to None.\n",
      " |      storage(Resource, optional): Resource that can be stored in process. Defaults to None.\n",
      " |      store_max (Union[float, Tuple[float], Theta] = None, optional): Maximum allowed storage of resource in process. Defaults to None.\n",
      " |      store_min (Union[float, Tuple[float], Theta] = None, optional): Minimum allowed storage of resource in process. Defaults to None.\n",
      " |      storage_cost: (Union[float, Tuple[float], Theta] = None, optional): penalty for mainting inventory per time period in the scheduling scale. Defaults to None.\n",
      " |      store_loss: (Union[float, Tuple[float], Theta] = None, optional): resource loss on the scheduling scale. Defaults to None. \n",
      " |      basis(str, optional): base units for operation. Defaults to 'unit'.\n",
      " |      block (str, optional): define block for convenience. Defaults to None.\n",
      " |      label(str, optional):Longer descriptive label if required. Defaults to None.\n",
      " |      citation (str, optional): citation for data. Defaults to 'citation needed'.\n",
      " |      trl (str, optional): technology readiness level. Defaults to None.\n",
      " |      ctype (List[Union[ProcessType, Dict[ProcessType, Set['Location']]]], optional): list of process ctypes. Defaults to None\n",
      " |      ptype (Dict[ProcessParamType, Union[ParameterType, Dict['Location', ParameterType]]], optional): paramater type of declared values . Defaults to None\n",
      " |      ltype (Dict[ProcessParamType, List[Tuple['Location', LocalizationType]]], optional): which parameters are localized. Defaults to None.\n",
      " |      ftype (Dict[ProcessParamType, List[Tuple['Location',FactorType]]], optional): which parameters are provided with factors at Location. Defaults to None\n",
      " |      etype (List[EmissionType], optional): list of emission types defined. Defaults to None\n",
      " |      localizations (Dict[ProcessParamType, List[Tuple['Location', Localization]]], optional): collects localizations when defined at Location. Defaults to None.\n",
      " |      factors (Dict[ProcessParamType, List[Tuple['Location', Factor]]], optional): collects factors when defined at Location. Defaults to None.\n",
      " |      emissions (Dict[str, float], optional): collects emission data. Defaults to None.\n",
      " |  \n",
      " |  Examples:\n",
      " |      For processes with varying production capacity\n",
      " |  \n",
      " |      >>> WF = Process(name='WF', conversion={Wind: -1, Power: 1}, capex= 100, Fopex= 10, Vopex= 1,cap_max=100, gwp=52700, land= 90, basis = 'MW', block='power', label='Wind mill array')\n",
      " |  \n",
      " |      For process with multiple modes of operation\n",
      " |  \n",
      " |      >>> PEM = Process(name = 'PEM', conversion = {1: {Power: -1, H2: 19.474, O2: 763.2, H2O: -175.266}, 2: {Power: -1, H2: 1.2*19.474, O2: 1.2*763.2, H2O: 1.2*-175.266}, cap_max= 100, capex = 784000, label = 'PEM Electrolysis')\n",
      " |  \n",
      " |      For process with multiple resource inputs\n",
      " |  \n",
      " |      >>> CoolCar = Process(name = 'CoolCar', conversion = {1: {Power: -1, Mile: 1}, 2: {H2: -1, Mile:2}, cap_max= 50, capex = 70, label = 'CoolCar')\n",
      " |  \n",
      " |  Methods defined here:\n",
      " |  \n",
      " |  __eq__(self, other)\n",
      " |      Return self==value.\n",
      " |  \n",
      " |  __hash__(self)\n",
      " |      Return hash(self).\n",
      " |  \n",
      " |  __init__(self, name: str, cap_max: Union[float, Tuple[float], energiapy.components.parameters.mpvar.Theta, bool, ForwardRef('Big')], cap_min: float = None, land: float = None, conversion: Union[Dict[Union[int, str], Dict[energiapy.components.resource.Resource, float]], Dict[energiapy.components.resource.Resource, float]] = None, material_cons: Union[Dict[Union[int, str], Dict[energiapy.components.material.Material, float]], Dict[energiapy.components.material.Material, float]] = None, capex: Union[float, dict, Tuple[float], energiapy.components.parameters.mpvar.Theta] = None, fopex: Union[float, Tuple[float], energiapy.components.parameters.mpvar.Theta] = None, vopex: Union[float, Tuple[float], energiapy.components.parameters.mpvar.Theta] = None, incidental: Union[float, Tuple[float], energiapy.components.parameters.mpvar.Theta] = None, gwp: Union[float, Tuple[float], energiapy.components.parameters.mpvar.Theta] = None, odp: Union[float, Tuple[float], energiapy.components.parameters.mpvar.Theta] = None, acid: Union[float, Tuple[float], energiapy.components.parameters.mpvar.Theta] = None, eutt: Union[float, Tuple[float], energiapy.components.parameters.mpvar.Theta] = None, eutf: Union[float, Tuple[float], energiapy.components.parameters.mpvar.Theta] = None, eutm: Union[float, Tuple[float], energiapy.components.parameters.mpvar.Theta] = None, introduce: Union[float, Tuple[float], energiapy.components.parameters.mpvar.Theta] = None, retire: Union[float, Tuple[float], energiapy.components.parameters.mpvar.Theta] = None, lifetime: Union[float, Tuple[float], energiapy.components.parameters.mpvar.Theta] = None, p_fail: Union[float, Tuple[float], energiapy.components.parameters.mpvar.Theta] = None, storage: energiapy.components.resource.Resource = None, store_max: Union[float, Tuple[float], energiapy.components.parameters.mpvar.Theta, bool, ForwardRef('Big')] = None, store_min: float = None, storage_cost: Union[float, Tuple[float], energiapy.components.parameters.mpvar.Theta] = None, store_loss: Union[float, Tuple[float], energiapy.components.parameters.mpvar.Theta] = None, ctype: List[Union[energiapy.components.comptype.process.ProcessType, Dict[energiapy.components.comptype.process.ProcessType, Set[ForwardRef('Location')]]]] = None, ptype: Dict[energiapy.components.parameters.process.ProcessParamType, Union[energiapy.components.parameters.paramtype.ParameterType, Dict[ForwardRef('Location'), energiapy.components.parameters.paramtype.ParameterType]]] = None, ltype: Dict[energiapy.components.parameters.process.ProcessParamType, List[Tuple[ForwardRef('Location'), energiapy.components.parameters.paramtype.LocalizationType]]] = None, ftype: Dict[energiapy.components.parameters.process.ProcessParamType, List[Tuple[ForwardRef('Location'), energiapy.components.parameters.paramtype.FactorType]]] = None, etype: List[energiapy.components.comptype.emission.EmissionType] = None, localizations: Dict[energiapy.components.parameters.process.ProcessParamType, List[Tuple[ForwardRef('Location'), energiapy.components.parameters.localization.Localization]]] = None, factors: Dict[energiapy.components.parameters.process.ProcessParamType, List[Tuple[ForwardRef('Location'), energiapy.components.parameters.factor.Factor]]] = None, emissions: Dict[str, float] = None, basis: str = None, block: str = None, citation: str = None, label: str = None, trl: str = None, varying: list = None, prod_max: float = None, prod_min: float = None) -> None\n",
      " |  \n",
      " |  __post_init__(self)\n",
      " |  \n",
      " |  __repr__(self)\n",
      " |      Return repr(self).\n",
      " |  \n",
      " |  create_storage_resource(self, resource: energiapy.components.resource.Resource) -> energiapy.components.resource.Resource\n",
      " |      Creates a resource for storage, used if ProcessType is STORAGE\n",
      " |      \n",
      " |      Args:\n",
      " |          resource (Resource): Resource to be stored\n",
      " |      Returns:\n",
      " |          Resource: of ResourceType.STORE, named Process.name_Resource.name_stored\n",
      " |  \n",
      " |  update_process_parameter(self, parameter: str)\n",
      " |      updates parameter, sets ptype\n",
      " |      \n",
      " |      Args:\n",
      " |          parameter (str): parameter to update\n",
      " |  \n",
      " |  ----------------------------------------------------------------------\n",
      " |  Class methods defined here:\n",
      " |  \n",
      " |  class_name() -> str from builtins.type\n",
      " |      Returns class name\n",
      " |  \n",
      " |  ctypes() -> Set[str] from builtins.type\n",
      " |      All Process paramters\n",
      " |  \n",
      " |  etypes() -> Set[str] from builtins.type\n",
      " |      Emission types\n",
      " |  \n",
      " |  ftypes() -> Set[str] from builtins.type\n",
      " |      Factor types\n",
      " |  \n",
      " |  location_level_classifications() -> Set[str] from builtins.type\n",
      " |      Set when Location is declared\n",
      " |  \n",
      " |  location_level_parameters() -> Set[str] from builtins.type\n",
      " |      Set when Location is declared\n",
      " |  \n",
      " |  location_level_uncertain_parameters() -> Set[str] from builtins.type\n",
      " |      Uncertain parameters set a Location level\n",
      " |  \n",
      " |  ltypes() -> Set[str] from builtins.type\n",
      " |      Process parameters than can be localized\n",
      " |  \n",
      " |  process_level_classifications() -> Set[str] from builtins.type\n",
      " |      Set when Process is declared\n",
      " |  \n",
      " |  process_level_failure_parameters() -> Set[str] from builtins.type\n",
      " |      Set when Process are declared\n",
      " |  \n",
      " |  process_level_parameters() -> Set[str] from builtins.type\n",
      " |      Set when Process is declared\n",
      " |  \n",
      " |  process_level_readiness_parameters() -> Set[str] from builtins.type\n",
      " |      Set when Process are declared\n",
      " |  \n",
      " |  process_level_resource_parameters() -> Set[str] from builtins.type\n",
      " |      Resource parameters set when Process is declared\n",
      " |  \n",
      " |  process_level_uncertain_parameters() -> Set[str] from builtins.type\n",
      " |      Uncertain parameters set a Process level\n",
      " |  \n",
      " |  ptypes() -> Set[str] from builtins.type\n",
      " |      All Process paramters\n",
      " |  \n",
      " |  uncertain_factors() -> Set[str] from builtins.type\n",
      " |      Uncertain parameters for which factors are defined\n",
      " |  \n",
      " |  uncertain_parameters() -> Set[str] from builtins.type\n",
      " |      Uncertain parameters\n",
      " |  \n",
      " |  ----------------------------------------------------------------------\n",
      " |  Readonly properties defined here:\n",
      " |  \n",
      " |  capacity\n",
      " |      Sets capacity\n",
      " |  \n",
      " |  ----------------------------------------------------------------------\n",
      " |  Data descriptors defined here:\n",
      " |  \n",
      " |  __dict__\n",
      " |      dictionary for instance variables (if defined)\n",
      " |  \n",
      " |  __weakref__\n",
      " |      list of weak references to the object (if defined)\n",
      " |  \n",
      " |  ----------------------------------------------------------------------\n",
      " |  Data and other attributes defined here:\n",
      " |  \n",
      " |  __annotations__ = {'acid': typing.Union[float, typing.Tuple[float], en...\n",
      " |  \n",
      " |  __dataclass_fields__ = {'acid': Field(name='acid',type=typing.Union[fl...\n",
      " |  \n",
      " |  __dataclass_params__ = _DataclassParams(init=True,repr=True,eq=True,or...\n",
      " |  \n",
      " |  acid = None\n",
      " |  \n",
      " |  basis = None\n",
      " |  \n",
      " |  block = None\n",
      " |  \n",
      " |  cap_min = None\n",
      " |  \n",
      " |  capex = None\n",
      " |  \n",
      " |  citation = None\n",
      " |  \n",
      " |  conversion = None\n",
      " |  \n",
      " |  ctype = None\n",
      " |  \n",
      " |  emissions = None\n",
      " |  \n",
      " |  etype = None\n",
      " |  \n",
      " |  eutf = None\n",
      " |  \n",
      " |  eutm = None\n",
      " |  \n",
      " |  eutt = None\n",
      " |  \n",
      " |  factors = None\n",
      " |  \n",
      " |  fopex = None\n",
      " |  \n",
      " |  ftype = None\n",
      " |  \n",
      " |  gwp = None\n",
      " |  \n",
      " |  incidental = None\n",
      " |  \n",
      " |  introduce = None\n",
      " |  \n",
      " |  label = None\n",
      " |  \n",
      " |  land = None\n",
      " |  \n",
      " |  lifetime = None\n",
      " |  \n",
      " |  localizations = None\n",
      " |  \n",
      " |  ltype = None\n",
      " |  \n",
      " |  material_cons = None\n",
      " |  \n",
      " |  odp = None\n",
      " |  \n",
      " |  p_fail = None\n",
      " |  \n",
      " |  prod_max = None\n",
      " |  \n",
      " |  prod_min = None\n",
      " |  \n",
      " |  ptype = None\n",
      " |  \n",
      " |  retire = None\n",
      " |  \n",
      " |  storage = None\n",
      " |  \n",
      " |  storage_cost = None\n",
      " |  \n",
      " |  store_loss = None\n",
      " |  \n",
      " |  store_max = None\n",
      " |  \n",
      " |  store_min = None\n",
      " |  \n",
      " |  trl = None\n",
      " |  \n",
      " |  varying = None\n",
      " |  \n",
      " |  vopex = None\n",
      "\n"
     ]
    }
   ],
   "source": [
    "help(Process)"
   ]
  },
  {
   "cell_type": "code",
   "execution_count": 17,
   "metadata": {},
   "outputs": [
    {
     "data": {
      "text/plain": [
       "energiapy.components.parameters.special.Big"
      ]
     },
     "execution_count": 17,
     "metadata": {},
     "output_type": "execute_result"
    }
   ],
   "source": [
    "type(BigM)"
   ]
  },
  {
   "cell_type": "code",
   "execution_count": 18,
   "metadata": {},
   "outputs": [],
   "source": [
    "process_list = {LiI, WF, PV, SMRH, SMR, DAC, AWE, H2_L_c, H2_L_d, AQoff_SMR, ASMR, PSH, NGCC}"
   ]
  },
  {
   "attachments": {},
   "cell_type": "markdown",
   "metadata": {},
   "source": [
    "## Declare locations"
   ]
  },
  {
   "cell_type": "code",
   "execution_count": 19,
   "metadata": {},
   "outputs": [],
   "source": [
    "cc = Factor(data = pandas.DataFrame({'a': [2]}), scales= scales, apply_max_scaler= False)\n",
    "\n",
    "houston = Location(name='HO', processes={LiI, PV, WF, SMRH, AWE, AQoff_SMR}, credit = {PV: 2}, cap_max_localize = {WF: 0.4, AWE: 23}, \n",
    "                   credit_factor ={PV: pandas.DataFrame({'a': [2]})}, consume_localize = {Solar: 2}, demand= {Power: (0, 1)}, \n",
    "                   land_cost = 10, land_cost_factor= cc, capacity_factor={PV: weather_ho[['dni']], WF: weather_ho[['wind_speed']]}, demand_factor={\n",
    "                   Power: demand_ho}, discharge_factor={Power: demand_ho}, purchase_price_factor={CH4: ng_price}, land_max= True, scales=scales, label='Houston')\n",
    "\n",
    "sandiego = Location(name='SD', processes={LiI, PV, WF, SMRH, AWE, AQoff_SMR}, purchase_price_localize = {CH4: 222}, \n",
    "                    consume_localize = {Solar: 3}, land_cost = 30, land_cost_factor = pandas.DataFrame({'a': [2]}) , \n",
    "                    credit = {SMRH: 30, AQoff_SMR: Theta((0, 23))}, credit_factor= {SMRH: pandas.DataFrame({'a': [1 - 0.001*i for i in range(365)]})}, \n",
    "                    capacity_factor={PV: weather_sd[['dni']], WF: weather_sd[['wind_speed']]}, demand_factor={\n",
    "                    Power: demand_sd}, purchase_price_factor={CH4: ng_price}, discharge_localize= {O2: 0.2}, scales=scales, label='SanDiego')\n",
    "\n",
    "newyork = Location(name='NY', processes={LiI, H2FC}, land_max = (0, 50000), land_max_factor = pandas.DataFrame({'a': [2]}), cap_max_localize = {PV: 0.2, AWE: 34}, \n",
    "                   capacity_factor={PV: weather_ny[['dni']], WF: weather_ny[['wind_speed']]}, demand= {Power: 40}, demand_factor={\n",
    "                   Power: demand_ny}, credit = {PV: 7}, purchase_price_localize = {CH4: 2}, scales=scales, label='NewYork')\n"
   ]
  },
  {
   "cell_type": "code",
   "execution_count": 20,
   "metadata": {},
   "outputs": [
    {
     "data": {
      "text/plain": [
       "BigM"
      ]
     },
     "execution_count": 20,
     "metadata": {},
     "output_type": "execute_result"
    }
   ],
   "source": [
    "PV.cap_max"
   ]
  },
  {
   "cell_type": "code",
   "execution_count": 21,
   "metadata": {},
   "outputs": [
    {
     "data": {
      "text/plain": [
       "{'PROCESS_CAPACITY': {HO: Factor(PV,HO,capacity),\n",
       "  SD: Factor(PV,SD,capacity),\n",
       "  NY: Factor(PV,NY,capacity)},\n",
       " 'PROCESS_CREDIT': {HO: Factor(PV,HO,credit)}}"
      ]
     },
     "execution_count": 21,
     "metadata": {},
     "output_type": "execute_result"
    }
   ],
   "source": [
    "PV.factors"
   ]
  },
  {
   "cell_type": "code",
   "execution_count": 22,
   "metadata": {},
   "outputs": [
    {
     "data": {
      "text/plain": [
       "{<LocationParamType.LAND_MAX: 2>: <ParameterType.UNBOUNDED: 3>,\n",
       " <LocationParamType.LAND_COST: 1>: <ParameterType.CERTAIN: 1>}"
      ]
     },
     "execution_count": 22,
     "metadata": {},
     "output_type": "execute_result"
    }
   ],
   "source": [
    "houston.ptype"
   ]
  },
  {
   "cell_type": "code",
   "execution_count": 23,
   "metadata": {},
   "outputs": [
    {
     "data": {
      "text/plain": [
       "Factor(HO,land_cost)"
      ]
     },
     "execution_count": 23,
     "metadata": {},
     "output_type": "execute_result"
    }
   ],
   "source": [
    "houston.land_cost_factor"
   ]
  },
  {
   "cell_type": "code",
   "execution_count": 24,
   "metadata": {},
   "outputs": [],
   "source": [
    "# for i in houston.processes | sandiego.processes | newyork.processes:\n",
    "# # for i in houston.resources | sandiego.resources | newyork.resources:\n",
    "#     print(i, i.localizations)\n",
    "#     print(i, i.factors)\n",
    "    "
   ]
  },
  {
   "cell_type": "code",
   "execution_count": 25,
   "metadata": {},
   "outputs": [
    {
     "data": {
      "text/plain": [
       "[<ResourceType.PRODUCE: 2>,\n",
       " <ResourceType.IMPLICIT: 3>,\n",
       " {<ResourceType.DEMAND: 8>: {HO, NY}},\n",
       " <ResourceType.DISCHARGE: 4>]"
      ]
     },
     "execution_count": 25,
     "metadata": {},
     "output_type": "execute_result"
    }
   ],
   "source": [
    "Power.ctype"
   ]
  },
  {
   "attachments": {},
   "cell_type": "markdown",
   "metadata": {},
   "source": [
    "## Declare transports"
   ]
  },
  {
   "cell_type": "code",
   "execution_count": 26,
   "metadata": {},
   "outputs": [],
   "source": [
    "\n",
    "# Train_H2 = Transport(name='Train_H2', resources={\n",
    "#                      H2}, trans_max=bigM, trans_loss=0.03, trans_cost=1.667*10**(-3), label='Railway for hydrogen transportation')\n",
    "# Grid = Transport(name='Grid', resources={\n",
    "#                  Power}, trans_max=bigM, trans_loss=0.001, trans_cost=0.5*10**(-3), label='Railroad transport')\n",
    "\n",
    "\n",
    "Train_H2 = Transport(name='Train_H2', resources={\n",
    "                     H2}, cap_max=BigM, trans_loss=0.03, capex = 1000, vopex=1.667, fopex = (0,1), acid = 34, eutf =55, label='Railway for hydrogen transportation')\n",
    "Grid = Transport(name='Grid', resources={\n",
    "                 H2, Power}, cap_max=BigM, trans_loss=0.001, capex = 500, vopex = 0.444, label='Railroad transport')\n",
    "\n"
   ]
  },
  {
   "cell_type": "code",
   "execution_count": 27,
   "metadata": {},
   "outputs": [
    {
     "data": {
      "text/plain": [
       "BigM"
      ]
     },
     "execution_count": 27,
     "metadata": {},
     "output_type": "execute_result"
    }
   ],
   "source": [
    "Train_H2.cap_max"
   ]
  },
  {
   "attachments": {},
   "cell_type": "markdown",
   "metadata": {},
   "source": [
    "## Declare Network"
   ]
  },
  {
   "cell_type": "code",
   "execution_count": 28,
   "metadata": {},
   "outputs": [],
   "source": [
    "distance_matrix = [\n",
    "    [2366], \n",
    "    [2620]\n",
    "]\n",
    "\n",
    "transport_matrix = [\n",
    "    [[Train_H2]], \n",
    "    [[Grid]],\n",
    "]\n",
    "capacity_factor  = {(houston, newyork): {Train_H2: weather_sd[['wind_speed']]}, (sandiego, newyork): {Train_H2: weather_sd[['wind_speed']]}}\n",
    "\n",
    "network = Network(name='network', scales = scales, land_max= (0,5), land_max_factor= pandas.DataFrame({'a': [5]}),  \n",
    "                  capacity_factor= capacity_factor, vopex_factor = {(houston, sandiego): {Train_H2: weather_sd[['wind_speed']]}}, sources=[houston, sandiego],\n",
    "                  sinks=[newyork], distance_matrix=distance_matrix, transport_matrix=transport_matrix)\n"
   ]
  },
  {
   "cell_type": "code",
   "execution_count": 29,
   "metadata": {},
   "outputs": [
    {
     "data": {
      "text/plain": [
       "{'name': 'network',\n",
       " 'scales': [0, 1, 2],\n",
       " 'sources': [HO, SD],\n",
       " 'sinks': [NY],\n",
       " 'distance_matrix': [[2366], [2620]],\n",
       " 'transport_matrix': [[[Train_H2]], [[Grid]]],\n",
       " 'land_max': Theta(network,land_max),\n",
       " 'land_max_factor': Factor(network,land_max),\n",
       " 'cap_max_factor': None,\n",
       " 'capacity_factor': {(HO, NY): {Train_H2: Factor(Train_H2,(HO,NY),capacity)},\n",
       "  (SD, NY): {Train_H2: Factor(Train_H2,(SD,NY),capacity)}},\n",
       " 'capex_factor': None,\n",
       " 'vopex_factor': {(HO, SD): {Train_H2: Factor(Train_H2,(HO,SD),vopex)}},\n",
       " 'fopex_factor': None,\n",
       " 'incidental_factor': None,\n",
       " 'basis': None,\n",
       " 'label': None,\n",
       " 'citation': None,\n",
       " 'ctype': [<NetworkType.LAND: 1>],\n",
       " 'ptype': {<NetworkParamType.LAND_MAX: 1>: <ParameterType.UNCERTAIN: 2>},\n",
       " 'ftype': {'NETWORK_LAND_MAX'},\n",
       " 'factors': {'NETWORK_LAND_MAX': Factor(network,land_max)},\n",
       " 'capacity_scale_level': None,\n",
       " 'capex_scale_level': None,\n",
       " 'vopex_scale_level': None,\n",
       " 'fopex_scale_level': None,\n",
       " 'transport_dict': {(HO, NY): {Train_H2}, (SD, NY): {Grid}},\n",
       " 'distance_dict': {(HO, NY): 2366, (SD, NY): 2620},\n",
       " 'transport_avail_dict': {(HO, NY): {'Train_H2'}, (SD, NY): {'Grid'}},\n",
       " 'transports': {Grid, Train_H2},\n",
       " 'locations': {HO, NY, SD},\n",
       " 'source_sink_resource_dict': {(HO, NY): {'H2'}, (SD, NY): {'H2', 'Power'}}}"
      ]
     },
     "execution_count": 29,
     "metadata": {},
     "output_type": "execute_result"
    }
   ],
   "source": [
    "network.__dict__ "
   ]
  },
  {
   "cell_type": "code",
   "execution_count": 30,
   "metadata": {},
   "outputs": [
    {
     "ename": "AttributeError",
     "evalue": "'Transport' object has no attribute 'transport_linkage_dict'",
     "output_type": "error",
     "traceback": [
      "\u001b[0;31m---------------------------------------------------------------------------\u001b[0m",
      "\u001b[0;31mAttributeError\u001b[0m                            Traceback (most recent call last)",
      "\u001b[1;32m/Users/cacodcar/Desktop/repos/energiapy/ml-sp-milp_copy.ipynb Cell 43\u001b[0m line \u001b[0;36m1\n\u001b[0;32m----> <a href='vscode-notebook-cell:/Users/cacodcar/Desktop/repos/energiapy/ml-sp-milp_copy.ipynb#Z1040sZmlsZQ%3D%3D?line=0'>1</a>\u001b[0m Train_H2\u001b[39m.\u001b[39;49mtransport_linkage_dict\n",
      "\u001b[0;31mAttributeError\u001b[0m: 'Transport' object has no attribute 'transport_linkage_dict'"
     ]
    }
   ],
   "source": [
    "Train_H2.transport_linkage_dict"
   ]
  },
  {
   "cell_type": "code",
   "execution_count": 45,
   "metadata": {},
   "outputs": [
    {
     "data": {
      "text/plain": [
       "{'name': 'Grid',\n",
       " 'resources': {H2, Power},\n",
       " 'cap_max': BigM,\n",
       " 'cap_min': None,\n",
       " 'land': None,\n",
       " 'trans_loss': 0.001,\n",
       " 'material_cons': None,\n",
       " 'capex': 500,\n",
       " 'vopex': 0.444,\n",
       " 'fopex': None,\n",
       " 'incidental': None,\n",
       " 'gwp': None,\n",
       " 'odp': None,\n",
       " 'acid': None,\n",
       " 'eutt': None,\n",
       " 'eutf': None,\n",
       " 'eutm': None,\n",
       " 'introduce': None,\n",
       " 'retire': None,\n",
       " 'lifetime': None,\n",
       " 'p_fail': None,\n",
       " 'basis': None,\n",
       " 'block': None,\n",
       " 'label': 'Railroad transport',\n",
       " 'citation': None,\n",
       " 'ctype': [<TransportType.NO_MATMODE: 1>,\n",
       "  <TransportType.LINEAR_CAPEX: 4>,\n",
       "  <TransportType.EXPENDITURE: 8>],\n",
       " 'ptype': {<TransportParamType.TRANS_LOSS: 9>: <ParameterType.CERTAIN: 1>,\n",
       "  <TransportParamType.CAPEX: 4>: <ParameterType.CERTAIN: 1>,\n",
       "  <TransportParamType.VOPEX: 6>: <ParameterType.CERTAIN: 1>,\n",
       "  <TransportParamType.CAP_MAX: 1>: <ParameterType.UNBOUNDED: 3>,\n",
       "  <TransportParamType.CAPACITY: 8>: <ParameterType.UNDECIDED: 4>},\n",
       " 'ftype': None,\n",
       " 'etype': None,\n",
       " 'factors': None,\n",
       " 'emissions': None,\n",
       " 'trans_max': None,\n",
       " 'trans_min': None,\n",
       " 'emission': None,\n",
       " 'varying': None,\n",
       " 'materials': set()}"
      ]
     },
     "execution_count": 45,
     "metadata": {},
     "output_type": "execute_result"
    }
   ],
   "source": [
    "Grid.__dict__ "
   ]
  },
  {
   "cell_type": "code",
   "execution_count": 46,
   "metadata": {},
   "outputs": [
    {
     "data": {
      "text/plain": [
       "{'name': 'network',\n",
       " 'scales': [0, 1, 2],\n",
       " 'sources': [HO, SD],\n",
       " 'sinks': [NY],\n",
       " 'distance_matrix': [[2366], [2620]],\n",
       " 'transport_matrix': [[[Train_H2]], [[Grid]]],\n",
       " 'land_max': Theta(network,land_max),\n",
       " 'land_max_factor': Factor(network,land_max),\n",
       " 'cap_max_factor': None,\n",
       " 'capacity_factor': {(HO, NY): {Train_H2: Factor(Train_H2,(HO,NY),capacity)},\n",
       "  (SD, NY): {Train_H2: Factor(Train_H2,(SD,NY),capacity)}},\n",
       " 'capex_factor': None,\n",
       " 'vopex_factor': {(HO, SD): {Train_H2: Factor(Train_H2,(HO,SD),vopex)}},\n",
       " 'fopex_factor': None,\n",
       " 'incidental_factor': None,\n",
       " 'basis': None,\n",
       " 'label': None,\n",
       " 'citation': None,\n",
       " 'ctype': [<NetworkType.LAND: 1>],\n",
       " 'ptype': {<NetworkParamType.LAND_MAX: 1>: <ParameterType.UNCERTAIN: 2>},\n",
       " 'ftype': {'NETWORK_LAND_MAX'},\n",
       " 'factors': {'NETWORK_LAND_MAX': Factor(network,land_max)},\n",
       " 'capacity_scale_level': None,\n",
       " 'capex_scale_level': None,\n",
       " 'vopex_scale_level': None,\n",
       " 'fopex_scale_level': None,\n",
       " 'transport_dict': {(HO, NY): {Train_H2}, (SD, NY): {Grid}},\n",
       " 'distance_dict': {(HO, NY): 2366, (SD, NY): 2620},\n",
       " 'transport_avail_dict': {(HO, NY): {'Train_H2'}, (SD, NY): {'Grid'}},\n",
       " 'transports': {Grid, Train_H2},\n",
       " 'locations': {HO, NY, SD},\n",
       " 'source_sink_resource_dict': {(HO, NY): {'H2'}, (SD, NY): {'H2', 'Power'}}}"
      ]
     },
     "execution_count": 46,
     "metadata": {},
     "output_type": "execute_result"
    }
   ],
   "source": [
    "network.__dict__ "
   ]
  },
  {
   "cell_type": "code",
   "execution_count": null,
   "metadata": {},
   "outputs": [],
   "source": [
    "network.transp"
   ]
  },
  {
   "cell_type": "code",
   "execution_count": 37,
   "metadata": {},
   "outputs": [
    {
     "data": {
      "text/plain": [
       "{HO: Theta(Power,HO,demand), NY: 40}"
      ]
     },
     "execution_count": 37,
     "metadata": {},
     "output_type": "execute_result"
    }
   ],
   "source": [
    "Power.demand "
   ]
  },
  {
   "cell_type": "code",
   "execution_count": 38,
   "metadata": {},
   "outputs": [
    {
     "data": {
      "text/plain": [
       "{Grid}"
      ]
     },
     "execution_count": 38,
     "metadata": {},
     "output_type": "execute_result"
    }
   ],
   "source": [
    "Power.transport"
   ]
  },
  {
   "cell_type": "code",
   "execution_count": 36,
   "metadata": {},
   "outputs": [
    {
     "data": {
      "text/plain": [
       "[<ResourceType.PRODUCE: 2>,\n",
       " {<ResourceType.DEMAND: 8>: {HO, NY}},\n",
       " <ResourceType.DISCHARGE: 4>,\n",
       " <ResourceType.TRANSPORT: 9>]"
      ]
     },
     "execution_count": 36,
     "metadata": {},
     "output_type": "execute_result"
    }
   ],
   "source": [
    "Power.ctype"
   ]
  },
  {
   "cell_type": "code",
   "execution_count": 30,
   "metadata": {},
   "outputs": [
    {
     "name": "stdout",
     "output_type": "stream",
     "text": [
      "{CO2(Aq): {SD, NY, HO}, CO2: {SD, NY, HO}, LiI_Power_stored: {SD, NY, HO}}\n",
      "{CO2_Vent: {SD, NY, HO}, Power: {SD, NY, HO}, O2: {SD, NY, HO}}\n",
      "{CH4: {SD, NY, HO}, Wind: {SD, NY, HO}, H2O: {SD, NY, HO}, Solar: {SD, NY, HO}}\n",
      "{Power: {SD, NY, HO}}\n",
      "{Solar: {SD, NY, HO}}\n",
      "{CO2: {SD, NY, HO}, LiI_Power_stored: {SD, NY, HO}, H2: {SD, NY, HO}, CO2_Vent: {SD, NY, HO}, O2: {SD, NY, HO}, CO2(Aq): {SD, NY, HO}, Power: {SD, NY, HO}}\n",
      "{Power: {SD, NY, HO}, H2: {SD, NY, HO}}\n",
      "{CO2(Aq): {SD, NY, HO}, LiI_Power_stored: {SD, NY, HO}}\n",
      "{CO2_Vent: {SD, NY, HO}}\n",
      "{CH4: {SD, NY, HO}, H2O: {SD, NY, HO}}\n",
      "{AQoff_SMR: {SD, NY, HO}, WF: {SD, NY, HO}, H2FC: {SD, NY, HO}, SMRH: {SD, NY, HO}, AWE: {SD, NY, HO}, LiI: {SD, NY, HO}, PV: {SD, NY, HO}}\n",
      "{AWE: {SD, NY, HO}, WF: {SD, NY, HO}}\n",
      "{LiI_discharge: {SD, NY, HO}}\n",
      "{AQoff_SMR: {SD, NY, HO}, WF: {SD, NY, HO}, H2FC: {SD, NY, HO}, SMRH: {SD, NY, HO}, AWE: {SD, NY, HO}, LiI: {SD, NY, HO}, PV: {SD, NY, HO}}\n",
      "{AQoff_SMR: {SD, NY, HO}, WF: {SD, NY, HO}, H2FC: {SD, NY, HO}, SMRH: {SD, NY, HO}, LiI_discharge: {SD, NY, HO}, AWE: {SD, NY, HO}, LiI: {SD, NY, HO}, PV: {SD, NY, HO}}\n",
      "{PV: {SD, NY, HO}}\n",
      "{AQoff_SMR: {SD, NY, HO}, SMRH: {SD, NY, HO}, PV: {SD, NY, HO}}\n",
      "{WF: {SD, NY, HO}}\n",
      "{LiI: {SD, NY, HO}}\n",
      "{WF: {SD, NY, HO}, PV: {SD, NY, HO}}\n",
      "{AQoff_SMR: {SD, NY, HO}, WF: {SD, NY, HO}, H2FC: {SD, NY, HO}, SMRH: {SD, NY, HO}, LiI_discharge: {SD, NY, HO}, AWE: {SD, NY, HO}}\n",
      "{SD: {SD, NY, HO}, HO: {SD, NY, HO}}\n",
      "{SD: {SD, NY, HO}, NY: {SD, NY, HO}, HO: {SD, NY, HO}}\n",
      "{NY: {SD, NY, HO}}\n",
      "{Train_H2: {SD, NY, HO}, Grid: {SD, NY, HO}}\n",
      "{Train_H2: {SD, NY, HO}, Grid: {SD, NY, HO}}\n",
      "{Train_H2: {SD, NY, HO}}\n",
      "{Train_H2: {SD, NY, HO}}\n",
      "{Train_H2: {SD, NY, HO}, Grid: {SD, NY, HO}}\n"
     ]
    }
   ],
   "source": [
    "\n",
    "scenario = Scenario(name='scenario_full', network=network, scales=scales, label='full_case')\n"
   ]
  },
  {
   "cell_type": "code",
   "execution_count": 45,
   "metadata": {},
   "outputs": [
    {
     "name": "stdout",
     "output_type": "stream",
     "text": [
      "[<ResourceType.CONSUME: 6>]\n",
      "[<ResourceType.PRODUCE: 2>, <ResourceType.IMPLICIT: 3>, <ResourceType.STORE: 1>]\n",
      "[<ResourceType.CONSUME: 6>, <ResourceType.PURCHASE: 7>]\n",
      "[<ResourceType.DISCHARGE: 4>, <ResourceType.PRODUCE: 2>]\n",
      "[<ResourceType.SELL: 5>, <ResourceType.DISCHARGE: 4>, <ResourceType.PRODUCE: 2>]\n",
      "[<ResourceType.PRODUCE: 2>, <ResourceType.IMPLICIT: 3>, <ResourceType.STORE: 1>]\n",
      "[<ResourceType.DISCHARGE: 4>, <ResourceType.PRODUCE: 2>, {<ResourceType.DEMAND: 8>: {NY, HO}}, <ResourceType.TRANSPORT: 9>]\n",
      "[<ResourceType.PRODUCE: 2>, <ResourceType.IMPLICIT: 3>]\n",
      "[<ResourceType.CONSUME: 6>, <ResourceType.EMISSION: 10>]\n",
      "[<ResourceType.PRODUCE: 2>, <ResourceType.TRANSPORT: 9>]\n",
      "[<ResourceType.CONSUME: 6>, <ResourceType.PURCHASE: 7>]\n"
     ]
    }
   ],
   "source": [
    "for i in houston.resources:\n",
    "    print(i.ctype)"
   ]
  },
  {
   "cell_type": "code",
   "execution_count": 26,
   "metadata": {},
   "outputs": [
    {
     "data": {
      "text/plain": [
       "{CO2, CO2(Aq), CO2_Vent, H2, LiI_Power_stored, O2, Power}"
      ]
     },
     "execution_count": 26,
     "metadata": {},
     "output_type": "execute_result"
    }
   ],
   "source": [
    "houston.resources_produce"
   ]
  },
  {
   "cell_type": "code",
   "execution_count": null,
   "metadata": {},
   "outputs": [],
   "source": []
  },
  {
   "cell_type": "code",
   "execution_count": 46,
   "metadata": {},
   "outputs": [
    {
     "data": {
      "text/plain": [
       "{'CONSUME',\n",
       " 'DEMAND',\n",
       " 'DISCHARGE',\n",
       " 'EMISSION',\n",
       " 'IMPLICIT',\n",
       " 'PRODUCE',\n",
       " 'PURCHASE',\n",
       " 'SELL',\n",
       " 'STORE',\n",
       " 'TRANSPORT'}"
      ]
     },
     "execution_count": 46,
     "metadata": {},
     "output_type": "execute_result"
    }
   ],
   "source": [
    "ResourceType.all()"
   ]
  },
  {
   "cell_type": "code",
   "execution_count": 37,
   "metadata": {},
   "outputs": [
    {
     "data": {
      "text/plain": [
       "{'CONSUME',\n",
       " 'DISCHARGE',\n",
       " 'EMISSION',\n",
       " 'IMPLICIT',\n",
       " 'PRODUCE',\n",
       " 'PURCHASE',\n",
       " 'SELL',\n",
       " 'STORE'}"
      ]
     },
     "execution_count": 37,
     "metadata": {},
     "output_type": "execute_result"
    }
   ],
   "source": [
    "ResourceType.resource_level()"
   ]
  },
  {
   "cell_type": "code",
   "execution_count": 36,
   "metadata": {},
   "outputs": [
    {
     "data": {
      "text/plain": [
       "{'DEMAND'}"
      ]
     },
     "execution_count": 36,
     "metadata": {},
     "output_type": "execute_result"
    }
   ],
   "source": [
    "ResourceType.location_level()"
   ]
  },
  {
   "cell_type": "code",
   "execution_count": 38,
   "metadata": {},
   "outputs": [
    {
     "data": {
      "text/plain": [
       "{'TRANSPORT'}"
      ]
     },
     "execution_count": 38,
     "metadata": {},
     "output_type": "execute_result"
    }
   ],
   "source": [
    "ResourceType.transport_level()"
   ]
  },
  {
   "cell_type": "code",
   "execution_count": 59,
   "metadata": {},
   "outputs": [
    {
     "data": {
      "text/plain": [
       "{'CREDIT',\n",
       " 'EMISSION',\n",
       " 'EXPENDITURE',\n",
       " 'FAILURE',\n",
       " 'INTERMITTENT',\n",
       " 'LAND',\n",
       " 'LINEAR_CAPEX',\n",
       " 'MULTI_MATMODE',\n",
       " 'MULTI_PRODMODE',\n",
       " 'NO_MATMODE',\n",
       " 'PWL_CAPEX',\n",
       " 'READINESS',\n",
       " 'SINGLE_MATMODE',\n",
       " 'SINGLE_PRODMODE',\n",
       " 'STORAGE',\n",
       " 'STORAGE_DISCHARGE',\n",
       " 'STORAGE_REQ'}"
      ]
     },
     "execution_count": 59,
     "metadata": {},
     "output_type": "execute_result"
    }
   ],
   "source": [
    "ProcessType.all()"
   ]
  },
  {
   "cell_type": "code",
   "execution_count": 60,
   "metadata": {},
   "outputs": [
    {
     "data": {
      "text/plain": [
       "{'EMISSION',\n",
       " 'EXPENDITURE',\n",
       " 'FAILURE',\n",
       " 'LAND',\n",
       " 'LINEAR_CAPEX',\n",
       " 'MULTI_MATMODE',\n",
       " 'MULTI_PRODMODE',\n",
       " 'NO_MATMODE',\n",
       " 'PWL_CAPEX',\n",
       " 'READINESS',\n",
       " 'SINGLE_MATMODE',\n",
       " 'SINGLE_PRODMODE',\n",
       " 'STORAGE',\n",
       " 'STORAGE_REQ'}"
      ]
     },
     "execution_count": 60,
     "metadata": {},
     "output_type": "execute_result"
    }
   ],
   "source": [
    "ProcessType.process_level()"
   ]
  },
  {
   "cell_type": "code",
   "execution_count": 61,
   "metadata": {},
   "outputs": [
    {
     "data": {
      "text/plain": [
       "{'CREDIT', 'INTERMITTENT', 'STORAGE_DISCHARGE'}"
      ]
     },
     "execution_count": 61,
     "metadata": {},
     "output_type": "execute_result"
    }
   ],
   "source": [
    "ProcessType.location_level()"
   ]
  },
  {
   "cell_type": "code",
   "execution_count": 62,
   "metadata": {},
   "outputs": [
    {
     "data": {
      "text/plain": [
       "{'LAND'}"
      ]
     },
     "execution_count": 62,
     "metadata": {},
     "output_type": "execute_result"
    }
   ],
   "source": [
    "LocationType.location_level()"
   ]
  },
  {
   "cell_type": "code",
   "execution_count": 39,
   "metadata": {},
   "outputs": [
    {
     "data": {
      "text/plain": [
       "{Grid}"
      ]
     },
     "execution_count": 39,
     "metadata": {},
     "output_type": "execute_result"
    }
   ],
   "source": [
    "Power.transport"
   ]
  },
  {
   "cell_type": "code",
   "execution_count": 46,
   "metadata": {},
   "outputs": [
    {
     "data": {
      "text/plain": [
       "100"
      ]
     },
     "execution_count": 46,
     "metadata": {},
     "output_type": "execute_result"
    }
   ],
   "source": [
    "Solar.availability"
   ]
  },
  {
   "cell_type": "code",
   "execution_count": 40,
   "metadata": {},
   "outputs": [
    {
     "data": {
      "text/plain": [
       "{HO: Theta(Power,HO,demand), NY: 40}"
      ]
     },
     "execution_count": 40,
     "metadata": {},
     "output_type": "execute_result"
    }
   ],
   "source": [
    "Power.demand"
   ]
  },
  {
   "cell_type": "code",
   "execution_count": null,
   "metadata": {},
   "outputs": [],
   "source": [
    "[((houston, sandiego), CO2), ((houston, sandiego), H2), ((houston, newyork), CO2)]"
   ]
  },
  {
   "cell_type": "code",
   "execution_count": 24,
   "metadata": {},
   "outputs": [],
   "source": [
    "comp_loc_dict = scenario.resources_locations_discharge"
   ]
  },
  {
   "cell_type": "code",
   "execution_count": 33,
   "metadata": {},
   "outputs": [
    {
     "data": {
      "text/plain": [
       "{HO, NY, SD}"
      ]
     },
     "execution_count": 33,
     "metadata": {},
     "output_type": "execute_result"
    }
   ],
   "source": [
    "scenario.locations_land"
   ]
  },
  {
   "cell_type": "code",
   "execution_count": 31,
   "metadata": {},
   "outputs": [
    {
     "data": {
      "text/plain": [
       "{HO: set(), SD: set(), NY: set()}"
      ]
     },
     "execution_count": 31,
     "metadata": {},
     "output_type": "execute_result"
    }
   ],
   "source": [
    "scenario.locations_locations_land"
   ]
  },
  {
   "cell_type": "code",
   "execution_count": 28,
   "metadata": {},
   "outputs": [],
   "source": [
    "comp_loc_ordered_set = [(i, j) for i in comp_loc_dict for j in comp_loc_dict[i]]"
   ]
  },
  {
   "cell_type": "code",
   "execution_count": 30,
   "metadata": {},
   "outputs": [
    {
     "data": {
      "text/plain": [
       "{CO2(Aq): {HO, SD}, LiI_Power_stored: {HO, NY, SD}}"
      ]
     },
     "execution_count": 30,
     "metadata": {},
     "output_type": "execute_result"
    }
   ],
   "source": [
    "scenario.resources_locations_store"
   ]
  },
  {
   "cell_type": "code",
   "execution_count": 29,
   "metadata": {},
   "outputs": [
    {
     "data": {
      "text/plain": [
       "[(Power, HO),\n",
       " (Power, SD),\n",
       " (Power, NY),\n",
       " (CO2_Vent, HO),\n",
       " (CO2_Vent, SD),\n",
       " (O2, HO),\n",
       " (O2, SD)]"
      ]
     },
     "execution_count": 29,
     "metadata": {},
     "output_type": "execute_result"
    }
   ],
   "source": [
    "comp_loc_ordered_set"
   ]
  },
  {
   "cell_type": "code",
   "execution_count": 26,
   "metadata": {},
   "outputs": [
    {
     "data": {
      "text/plain": [
       "[('Power', 'HO'),\n",
       " ('Power', 'SD'),\n",
       " ('Power', 'NY'),\n",
       " ('CO2_Vent', 'HO'),\n",
       " ('CO2_Vent', 'SD'),\n",
       " ('O2', 'HO'),\n",
       " ('O2', 'SD')]"
      ]
     },
     "execution_count": 26,
     "metadata": {},
     "output_type": "execute_result"
    }
   ],
   "source": [
    "comp_loc_ordered_set"
   ]
  },
  {
   "cell_type": "code",
   "execution_count": 23,
   "metadata": {},
   "outputs": [
    {
     "data": {
      "text/plain": [
       "{CO2_Vent: {HO, SD}, Power: {HO, NY, SD}, O2: {HO, SD}}"
      ]
     },
     "execution_count": 23,
     "metadata": {},
     "output_type": "execute_result"
    }
   ],
   "source": [
    "scenario.resources_locations_discharge"
   ]
  },
  {
   "cell_type": "code",
   "execution_count": 27,
   "metadata": {},
   "outputs": [
    {
     "data": {
      "text/plain": [
       "{CO2_Vent, O2, Power}"
      ]
     },
     "execution_count": 27,
     "metadata": {},
     "output_type": "execute_result"
    }
   ],
   "source": [
    "scenario.resources_discharge"
   ]
  },
  {
   "cell_type": "code",
   "execution_count": 24,
   "metadata": {},
   "outputs": [
    {
     "data": {
      "text/plain": [
       "{AWE: {HO, SD},\n",
       " PV: {HO, SD},\n",
       " SMRH: {HO, SD},\n",
       " LiI: {HO, NY, SD},\n",
       " H2FC: {NY},\n",
       " WF: {HO, SD},\n",
       " AQoff_SMR: {HO, SD}}"
      ]
     },
     "execution_count": 24,
     "metadata": {},
     "output_type": "execute_result"
    }
   ],
   "source": [
    "scenario.processes_locations_expenditure"
   ]
  },
  {
   "cell_type": "code",
   "execution_count": null,
   "metadata": {},
   "outputs": [],
   "source": [
    "resources_consume_locations = {resource: set() for resource in scenario.resources_consume}\n",
    "for resource in scenario.resources_consume:\n",
    "    for location in scenario.locations:\n",
    "        if hasattr(location, 'resources_consume'):\n",
    "            if resource in location.resources_consume:\n",
    "                resources_consume_locations[resource].add(location)"
   ]
  },
  {
   "cell_type": "code",
   "execution_count": null,
   "metadata": {},
   "outputs": [],
   "source": [
    "resources_consume_locations = {resource: {location for location in scenario.locations if hasattr(location, 'resources_consume') and resource in location.resources_consume} for resource in scenario.resources_consume}"
   ]
  },
  {
   "cell_type": "code",
   "execution_count": null,
   "metadata": {},
   "outputs": [
    {
     "data": {
      "text/plain": [
       "{CH4, H2O, Solar, Wind}"
      ]
     },
     "execution_count": 110,
     "metadata": {},
     "output_type": "execute_result"
    }
   ],
   "source": [
    "scenario.resources_consume"
   ]
  },
  {
   "cell_type": "code",
   "execution_count": null,
   "metadata": {},
   "outputs": [],
   "source": [
    "resources_consume_locations = {resource: {location for location in self.locations if hasattr(location, 'resources_consume') and resource in location.resources_consume} for resource in self.resources_consume}"
   ]
  },
  {
   "cell_type": "code",
   "execution_count": null,
   "metadata": {},
   "outputs": [
    {
     "data": {
      "text/plain": [
       "{Solar: {HO, SD}, CH4: {HO, SD}, Wind: {HO, SD}, H2O: {HO, SD}}"
      ]
     },
     "execution_count": 118,
     "metadata": {},
     "output_type": "execute_result"
    }
   ],
   "source": [
    "resources_consume_locations "
   ]
  },
  {
   "cell_type": "code",
   "execution_count": null,
   "metadata": {},
   "outputs": [],
   "source": [
    "resources_demand_locations = {resource: {location for location in scenario.locations if hasattr(location, 'resources_demand') and resource in location.resources_demand} for resource in scenario.resources_demand}"
   ]
  },
  {
   "cell_type": "code",
   "execution_count": null,
   "metadata": {},
   "outputs": [
    {
     "data": {
      "text/plain": [
       "{'CONSUME',\n",
       " 'DEMAND',\n",
       " 'DISCHARGE',\n",
       " 'EMISSION',\n",
       " 'IMPLICIT',\n",
       " 'PRODUCE',\n",
       " 'PURCHASE',\n",
       " 'SELL',\n",
       " 'STORE',\n",
       " 'TRANSPORT'}"
      ]
     },
     "execution_count": 115,
     "metadata": {},
     "output_type": "execute_result"
    }
   ],
   "source": [
    "scenario.resource_classifications()"
   ]
  },
  {
   "cell_type": "code",
   "execution_count": null,
   "metadata": {},
   "outputs": [],
   "source": [
    "{component: {location for location in getattr(self, 'locations') if hasattr(location, f'{component_set}_{parameter.lower()}') and resource in getattr(location, f'{component_set}_{parameter.lower()}')} for resource in getattr(self, f'{component_set}_{parameter.lower()}')}"
   ]
  },
  {
   "cell_type": "code",
   "execution_count": null,
   "metadata": {},
   "outputs": [
    {
     "data": {
      "text/plain": [
       "{'CREDIT',\n",
       " 'EMISSION',\n",
       " 'EXPENDITURE',\n",
       " 'FAILURE',\n",
       " 'INTERMITTENT',\n",
       " 'LAND',\n",
       " 'LINEAR_CAPEX',\n",
       " 'MULTI_MATMODE',\n",
       " 'MULTI_PRODMODE',\n",
       " 'NO_MATMODE',\n",
       " 'PWL_CAPEX',\n",
       " 'READINESS',\n",
       " 'SINGLE_MATMODE',\n",
       " 'SINGLE_PRODMODE',\n",
       " 'STORAGE',\n",
       " 'STORAGE_DISCHARGE',\n",
       " 'STORAGE_REQ'}"
      ]
     },
     "execution_count": 116,
     "metadata": {},
     "output_type": "execute_result"
    }
   ],
   "source": [
    "scenario.process_classifications()\n"
   ]
  },
  {
   "cell_type": "code",
   "execution_count": 47,
   "metadata": {},
   "outputs": [
    {
     "data": {
      "text/plain": [
       "[(('HO', 'SD'), 'CO2'), (('HO', 'SD'), 'H2'), (('HO', 'NY'), 'CO2')]"
      ]
     },
     "execution_count": 47,
     "metadata": {},
     "output_type": "execute_result"
    }
   ],
   "source": [
    "[((houston.name, sandiego.name), CO2.name), ((houston.name, sandiego.name), H2.name), ((houston.name, newyork.name), CO2.name)]"
   ]
  },
  {
   "cell_type": "code",
   "execution_count": 25,
   "metadata": {},
   "outputs": [
    {
     "name": "stdout",
     "output_type": "stream",
     "text": [
      "Help on class ResourceParamType in module energiapy.components.parameters.resource:\n",
      "\n",
      "class ResourceParamType(enum.Enum)\n",
      " |  ResourceParamType(value, names=None, *, module=None, qualname=None, type=None, start=1)\n",
      " |  \n",
      " |  Resource Parameters\n",
      " |  \n",
      " |  Method resolution order:\n",
      " |      ResourceParamType\n",
      " |      enum.Enum\n",
      " |      builtins.object\n",
      " |  \n",
      " |  Data and other attributes defined here:\n",
      " |  \n",
      " |  CONSUME = <ResourceParamType.CONSUME: 3>\n",
      " |  \n",
      " |  DEMAND = <ResourceParamType.DEMAND: 5>\n",
      " |  \n",
      " |  DISCHARGE = <ResourceParamType.DISCHARGE: 4>\n",
      " |  \n",
      " |  PURCHASE_PRICE = <ResourceParamType.PURCHASE_PRICE: 2>\n",
      " |  \n",
      " |  SELL_PRICE = <ResourceParamType.SELL_PRICE: 1>\n",
      " |  \n",
      " |  STORAGE_COST = <ResourceParamType.STORAGE_COST: 9>\n",
      " |  \n",
      " |  STORE_LOSS = <ResourceParamType.STORE_LOSS: 8>\n",
      " |  \n",
      " |  STORE_MAX = <ResourceParamType.STORE_MAX: 6>\n",
      " |  \n",
      " |  STORE_MIN = <ResourceParamType.STORE_MIN: 7>\n",
      " |  \n",
      " |  ----------------------------------------------------------------------\n",
      " |  Data descriptors inherited from enum.Enum:\n",
      " |  \n",
      " |  name\n",
      " |      The name of the Enum member.\n",
      " |  \n",
      " |  value\n",
      " |      The value of the Enum member.\n",
      " |  \n",
      " |  ----------------------------------------------------------------------\n",
      " |  Readonly properties inherited from enum.EnumMeta:\n",
      " |  \n",
      " |  __members__\n",
      " |      Returns a mapping of member name->value.\n",
      " |      \n",
      " |      This mapping lists all enum members, including aliases. Note that this\n",
      " |      is a read-only view of the internal mapping.\n",
      "\n"
     ]
    }
   ],
   "source": [
    "help(ResourceParamType)"
   ]
  },
  {
   "cell_type": "code",
   "execution_count": null,
   "metadata": {},
   "outputs": [],
   "source": []
  },
  {
   "cell_type": "code",
   "execution_count": 22,
   "metadata": {},
   "outputs": [],
   "source": [
    "from pyomo.environ import *\n",
    "from energiapy.utils.scale_utils import scale_pyomo_set\n"
   ]
  },
  {
   "cell_type": "code",
   "execution_count": 23,
   "metadata": {},
   "outputs": [],
   "source": [
    "scales1 = TemporalScale(discretization_list=[1, 4], design_scale= 0, scheduling_scale=1)"
   ]
  },
  {
   "cell_type": "code",
   "execution_count": 24,
   "metadata": {},
   "outputs": [
    {
     "data": {
      "text/plain": [
       "energiapy.components.temporal_scale.TemporalScale"
      ]
     },
     "execution_count": 24,
     "metadata": {},
     "output_type": "execute_result"
    }
   ],
   "source": [
    "type(scales1)"
   ]
  },
  {
   "cell_type": "code",
   "execution_count": 50,
   "metadata": {},
   "outputs": [],
   "source": [
    "scales2 = TemporalScale(discretization_list=[2, 2, 2], design_scale= 0, scheduling_scale=2)\n"
   ]
  },
  {
   "cell_type": "code",
   "execution_count": 51,
   "metadata": {},
   "outputs": [
    {
     "data": {
      "text/plain": [
       "[[(0,)], [(0, 0), (0, 1), (0, 2), (0, 3)]]"
      ]
     },
     "execution_count": 51,
     "metadata": {},
     "output_type": "execute_result"
    }
   ],
   "source": [
    "scales1.index_list"
   ]
  },
  {
   "cell_type": "code",
   "execution_count": 52,
   "metadata": {},
   "outputs": [
    {
     "data": {
      "text/plain": [
       "[[(0,), (1,)],\n",
       " [(0, 0), (0, 1), (1, 0), (1, 1)],\n",
       " [(0, 0, 0),\n",
       "  (0, 0, 1),\n",
       "  (0, 1, 0),\n",
       "  (0, 1, 1),\n",
       "  (1, 0, 0),\n",
       "  (1, 0, 1),\n",
       "  (1, 1, 0),\n",
       "  (1, 1, 1)]]"
      ]
     },
     "execution_count": 52,
     "metadata": {},
     "output_type": "execute_result"
    }
   ],
   "source": [
    "scales2.index_list"
   ]
  },
  {
   "cell_type": "code",
   "execution_count": 56,
   "metadata": {},
   "outputs": [],
   "source": [
    "m = ConcreteModel()\n",
    "m.scales = Set(scales1.list,\n",
    "                    initialize=scales1.scale)\n",
    "m.scales_scheduling = scale_pyomo_set(\n",
    "        instance=m, scale_level=scales1.scheduling_scale)\n",
    "m.scales_design = scale_pyomo_set(\n",
    "        instance=m, scale_level=scales1.design_scale)\n",
    "\n"
   ]
  },
  {
   "cell_type": "code",
   "execution_count": 111,
   "metadata": {},
   "outputs": [
    {
     "data": {
      "text/plain": [
       "1"
      ]
     },
     "execution_count": 111,
     "metadata": {},
     "output_type": "execute_result"
    }
   ],
   "source": [
    "scales.scheduling_scale"
   ]
  },
  {
   "cell_type": "code",
   "execution_count": 103,
   "metadata": {},
   "outputs": [],
   "source": [
    "# m.a = Set(initialize = [(i, j) for i in resources_consume_locations for j in resources_consume_locations[i]])\n",
    "# m.b = Set(initialize = [(i.name, j.name) for i in scenario.resources_locations_consume for j in scenario.resources_locations_consume[i]])\n",
    "# m.c = Set(initialize = [((houston.name, sandiego.name), CO2.name), ((houston.name, sandiego.name), H2.name), ((houston.name, newyork.name), CO2.name)])\n",
    "# m.A = Var(m.a, m.scales_scheduling, within = NonNegativeReals)\n",
    "# m.B = Var(m.b, m.scales_design, within = NonNegativeReals)\n",
    "# m.C = Var(m.c, m.scales_scheduling, within = NonNegativeReals)"
   ]
  },
  {
   "cell_type": "code",
   "execution_count": 104,
   "metadata": {},
   "outputs": [],
   "source": [
    "m.d = Set(initialize = [(Train_H2.name, (houston.name, sandiego.name)), (Grid.name, (houston.name, sandiego.name)), (Grid.name, (houston.name, newyork.name))])\n",
    "m.D = Var(m.d, m.scales_design, within = NonNegativeReals)\n"
   ]
  },
  {
   "cell_type": "code",
   "execution_count": 105,
   "metadata": {},
   "outputs": [],
   "source": [
    "m.f = Set(initialize = [Train_H2.name, Grid.name])\n",
    "m.F = Var(m.f, m.scales_design, within = NonNegativeReals)\n"
   ]
  },
  {
   "cell_type": "code",
   "execution_count": 57,
   "metadata": {},
   "outputs": [],
   "source": [
    "m.g = Set(initialize = [(CO2.name, (houston.name, sandiego.name)), (Power.name, (houston.name, sandiego.name)), (H2.name, (houston.name, newyork.name))])"
   ]
  },
  {
   "cell_type": "code",
   "execution_count": 58,
   "metadata": {},
   "outputs": [],
   "source": [
    "m.G = Var(m.g, m.scales_scheduling, within = NonNegativeReals)"
   ]
  },
  {
   "cell_type": "code",
   "execution_count": 59,
   "metadata": {},
   "outputs": [
    {
     "name": "stdout",
     "output_type": "stream",
     "text": [
      "G : Size=12, Index=G_index\n",
      "    Key                         : Lower : Value : Upper : Fixed : Stale : Domain\n",
      "      ('CO2', 'HO', 'SD', 0, 0) :     0 :  None :  None : False :  True : NonNegativeReals\n",
      "      ('CO2', 'HO', 'SD', 0, 1) :     0 :  None :  None : False :  True : NonNegativeReals\n",
      "      ('CO2', 'HO', 'SD', 0, 2) :     0 :  None :  None : False :  True : NonNegativeReals\n",
      "      ('CO2', 'HO', 'SD', 0, 3) :     0 :  None :  None : False :  True : NonNegativeReals\n",
      "       ('H2', 'HO', 'NY', 0, 0) :     0 :  None :  None : False :  True : NonNegativeReals\n",
      "       ('H2', 'HO', 'NY', 0, 1) :     0 :  None :  None : False :  True : NonNegativeReals\n",
      "       ('H2', 'HO', 'NY', 0, 2) :     0 :  None :  None : False :  True : NonNegativeReals\n",
      "       ('H2', 'HO', 'NY', 0, 3) :     0 :  None :  None : False :  True : NonNegativeReals\n",
      "    ('Power', 'HO', 'SD', 0, 0) :     0 :  None :  None : False :  True : NonNegativeReals\n",
      "    ('Power', 'HO', 'SD', 0, 1) :     0 :  None :  None : False :  True : NonNegativeReals\n",
      "    ('Power', 'HO', 'SD', 0, 2) :     0 :  None :  None : False :  True : NonNegativeReals\n",
      "    ('Power', 'HO', 'SD', 0, 3) :     0 :  None :  None : False :  True : NonNegativeReals\n"
     ]
    }
   ],
   "source": [
    "m.G.pprint()"
   ]
  },
  {
   "cell_type": "code",
   "execution_count": null,
   "metadata": {},
   "outputs": [],
   "source": [
    "[(0, 0, 0),\n",
    "  (1, 0, 0),\n",
    "  (0, 1, 0),\n",
    "  (1, 1, 0),\n",
    "  (1, 0, 0),\n",
    "  (1, 0, 1),\n",
    "  (1, 1, 0),\n",
    "  (1, 1, 1)]]"
   ]
  },
  {
   "cell_type": "code",
   "execution_count": null,
   "metadata": {},
   "outputs": [
    {
     "name": "stdout",
     "output_type": "stream",
     "text": [
      "{'RESOURCE_PURCHASE_PRICE': {HO, SD}}\n",
      "{'PROCESS_CAPACITY': {HO, NY, SD, as}, 'PROCESS_CREDIT': {HO}}\n",
      "{'LOCATION_LAND_COST'}\n",
      "{'TRANSPORT_CAPACITY': {(SD, NY), (HO, NY)}, 'TRANSPORT_VOPEX': {(HO, SD)}}\n",
      "{'NETWORK_LAND_MAX'}\n"
     ]
    }
   ],
   "source": [
    "print(CH4.ftype)\n",
    "print(PV.ftype)\n",
    "print(sandiego.ftype)\n",
    "print(Train_H2.ftype)\n",
    "print(network.ftype)"
   ]
  },
  {
   "cell_type": "code",
   "execution_count": null,
   "metadata": {},
   "outputs": [
    {
     "name": "stdout",
     "output_type": "stream",
     "text": [
      "{'RESOURCE_PURCHASE_PRICE': {HO: Factor(CH4,HO,purchase_price), SD: Factor(CH4,SD,purchase_price)}}\n",
      "{'PROCESS_CAPACITY': {HO: Factor(PV,HO,capacity), SD: Factor(PV,SD,capacity), NY: Factor(PV,NY,capacity), as: Factor(PV,as,capacity)}, 'PROCESS_CREDIT': {HO: Factor(PV,HO,credit)}}\n",
      "{'LOCATION_LAND_COST': Factor(SD,land_cost)}\n",
      "{'TRANSPORT_CAPACITY': {(HO, NY): Factor(Train_H2,(HO,NY),capacity), (SD, NY): Factor(Train_H2,(SD,NY),capacity)}, 'TRANSPORT_VOPEX': {(HO, SD): Factor(Train_H2,(HO,SD),vopex)}}\n",
      "{'NETWORK_LAND_MAX': Factor(network,land_max)}\n"
     ]
    }
   ],
   "source": [
    "print(CH4.factors)\n",
    "print(PV.factors)\n",
    "print(sandiego.factors)\n",
    "print(Train_H2.factors)\n",
    "print(network.factors)"
   ]
  },
  {
   "cell_type": "code",
   "execution_count": 34,
   "metadata": {},
   "outputs": [
    {
     "name": "stdout",
     "output_type": "stream",
     "text": [
      "{'RESOURCE_PURCHASE_PRICE': {NY, SD, as}}\n",
      "{'PROCESS_CAP_MAX': {NY, as}}\n"
     ]
    }
   ],
   "source": [
    "print(CH4.ltype)\n",
    "print(PV.ltype)"
   ]
  },
  {
   "cell_type": "code",
   "execution_count": 35,
   "metadata": {},
   "outputs": [
    {
     "name": "stdout",
     "output_type": "stream",
     "text": [
      "{'RESOURCE_PURCHASE_PRICE': {SD: Localize(CH4,SD,purchase_price), NY: Localize(CH4,NY,purchase_price), as: Localize(CH4,as,purchase_price)}}\n",
      "{'PROCESS_CAP_MAX': {NY: Localize(PV,NY,cap_max), as: Localize(PV,as,cap_max)}}\n"
     ]
    }
   ],
   "source": [
    "print(CH4.localizations)\n",
    "print(PV.localizations)"
   ]
  },
  {
   "cell_type": "code",
   "execution_count": 36,
   "metadata": {},
   "outputs": [
    {
     "data": {
      "text/plain": [
       "'PROCESS_CAP_MAX'"
      ]
     },
     "execution_count": 36,
     "metadata": {},
     "output_type": "execute_result"
    }
   ],
   "source": [
    "PV.localizations['PROCESS_CAP_MAX'][newyork].ltype"
   ]
  },
  {
   "cell_type": "code",
   "execution_count": 37,
   "metadata": {},
   "outputs": [
    {
     "name": "stdout",
     "output_type": "stream",
     "text": [
      "[<ScaleType.MULTI: 1>, <ScaleType.SCHEDULING: 4>]\n",
      "[<ResourceType.DISCHARGE: 4>, <ResourceType.PRODUCE: 2>, {<ResourceType.DEMAND: 8>: {HO, NY, as}}, <ResourceType.TRANSPORT: 9>, <ResourceType.TRANSPORT: 9>]\n",
      "[<ProcessType.MULTI_PRODMODE: 2>, <ProcessType.NO_MATMODE: 3>, <ProcessType.LINEAR_CAPEX: 9>, <ProcessType.EXPENDITURE: 14>, {<ProcessType.CREDIT: 12>: {HO, NY, as}}, {<ProcessType.INTERMITTENT: 11>: {HO, NY, SD, as}}]\n",
      "[<LocationType.LAND: 3>, <LocationType.SOURCE: 1>, <LocationType.SOURCE: 1>]\n",
      "[<TransportType.NO_MATMODE: 1>, <TransportType.LINEAR_CAPEX: 4>, <TransportType.EXPENDITURE: 8>, <TransportType.EMISSION: 11>, {<TransportType.INTERMITTENT: 6>: {(SD, NY), (HO, NY)}}]\n",
      "[<NetworkType.LAND: 1>]\n"
     ]
    }
   ],
   "source": [
    "print(scales.ctype)\n",
    "print(Power.ctype)\n",
    "print(PV.ctype)\n",
    "print(sandiego.ctype)\n",
    "print(Train_H2.ctype)\n",
    "print(network.ctype)"
   ]
  },
  {
   "cell_type": "code",
   "execution_count": 33,
   "metadata": {},
   "outputs": [
    {
     "data": {
      "text/plain": [
       "{'CONSUME',\n",
       " 'DEMAND',\n",
       " 'DISCHARGE',\n",
       " 'EMISSION',\n",
       " 'IMPLICIT',\n",
       " 'PRODUCE',\n",
       " 'PURCHASE',\n",
       " 'SELL',\n",
       " 'STORE',\n",
       " 'TRANSPORT'}"
      ]
     },
     "execution_count": 33,
     "metadata": {},
     "output_type": "execute_result"
    }
   ],
   "source": [
    "ResourceType.all()"
   ]
  },
  {
   "cell_type": "code",
   "execution_count": 34,
   "metadata": {},
   "outputs": [
    {
     "data": {
      "text/plain": [
       "{'DEMAND'}"
      ]
     },
     "execution_count": 34,
     "metadata": {},
     "output_type": "execute_result"
    }
   ],
   "source": [
    "ResourceType.location_level()"
   ]
  },
  {
   "cell_type": "code",
   "execution_count": 36,
   "metadata": {},
   "outputs": [
    {
     "data": {
      "text/plain": [
       "{'TRANSPORT'}"
      ]
     },
     "execution_count": 36,
     "metadata": {},
     "output_type": "execute_result"
    }
   ],
   "source": [
    "ResourceType.transport_level()"
   ]
  },
  {
   "cell_type": "code",
   "execution_count": 38,
   "metadata": {},
   "outputs": [
    {
     "data": {
      "text/plain": [
       "{'CREDIT', 'INTERMITTENT', 'STORAGE_DISCHARGE'}"
      ]
     },
     "execution_count": 38,
     "metadata": {},
     "output_type": "execute_result"
    }
   ],
   "source": [
    "ProcessType.location_level()"
   ]
  },
  {
   "cell_type": "code",
   "execution_count": 38,
   "metadata": {},
   "outputs": [
    {
     "name": "stdout",
     "output_type": "stream",
     "text": [
      "{<ResourceParamType.DEMAND: 4>: {HO: <ParameterType.UNCERTAIN: 2>, NY: <ParameterType.UNCERTAIN: 2>, as: <ParameterType.UNCERTAIN: 2>}}\n",
      "{<ProcessParamType.CAPACITY: 8>: <ParameterType.CERTAIN: 1>, <ProcessParamType.CAP_MAX: 1>: <ParameterType.CERTAIN: 1>, <ProcessParamType.FOPEX: 5>: <ParameterType.CERTAIN: 1>, <ProcessParamType.CAPEX: 4>: <ParameterType.CERTAIN: 1>, <ProcessParamType.CREDIT: 9>: {HO: <ParameterType.UNCERTAIN: 2>, NY: <ParameterType.UNCERTAIN: 2>, as: <ParameterType.UNCERTAIN: 2>}}\n",
      "{<LocationParamType.LAND_COST: 1>: <ParameterType.CERTAIN: 1>}\n",
      "{<TransportParamType.CAPACITY: 8>: <ParameterType.CERTAIN: 1>, <TransportParamType.TRANS_LOSS: 9>: <ParameterType.CERTAIN: 1>, <TransportParamType.VOPEX: 6>: <ParameterType.CERTAIN: 1>, <TransportParamType.CAP_MAX: 1>: <ParameterType.CERTAIN: 1>, <TransportParamType.FOPEX: 5>: <ParameterType.UNCERTAIN: 2>, <TransportParamType.CAPEX: 4>: <ParameterType.CERTAIN: 1>}\n",
      "{<NetworkParamType.LAND_MAX: 1>: <ParameterType.UNCERTAIN: 2>}\n"
     ]
    }
   ],
   "source": [
    "print(Power.ptype)\n",
    "print(PV.ptype)\n",
    "print(sandiego.ptype)\n",
    "print(Train_H2.ptype)\n",
    "print(network.ptype)"
   ]
  },
  {
   "cell_type": "code",
   "execution_count": 42,
   "metadata": {},
   "outputs": [
    {
     "data": {
      "text/plain": [
       "Theta(Power,HO,demand)"
      ]
     },
     "execution_count": 42,
     "metadata": {},
     "output_type": "execute_result"
    }
   ],
   "source": [
    "Power.demand[houston]"
   ]
  },
  {
   "cell_type": "code",
   "execution_count": null,
   "metadata": {},
   "outputs": [],
   "source": []
  },
  {
   "cell_type": "code",
   "execution_count": 53,
   "metadata": {},
   "outputs": [
    {
     "data": {
      "text/plain": [
       "{'distance_dict': {(HO, NY): 2366, (SD, NY): 2620},\n",
       " 'transport_dict': {(HO, NY): {Train_H2}, (SD, NY): {Grid}},\n",
       " 'land_max': Theta(network,land_max)}"
      ]
     },
     "execution_count": 53,
     "metadata": {},
     "output_type": "execute_result"
    }
   ],
   "source": [
    "scenario.data_network"
   ]
  },
  {
   "cell_type": "code",
   "execution_count": 54,
   "metadata": {},
   "outputs": [
    {
     "data": {
      "text/plain": [
       "{SD: Theta(AQoff_SMR,SD,credit)}"
      ]
     },
     "execution_count": 54,
     "metadata": {},
     "output_type": "execute_result"
    }
   ],
   "source": [
    "AQoff_SMR.credit"
   ]
  },
  {
   "cell_type": "code",
   "execution_count": 55,
   "metadata": {},
   "outputs": [
    {
     "data": {
      "text/plain": [
       "Theta(network,land_max)"
      ]
     },
     "execution_count": 55,
     "metadata": {},
     "output_type": "execute_result"
    }
   ],
   "source": [
    "network.land_max"
   ]
  },
  {
   "cell_type": "code",
   "execution_count": 56,
   "metadata": {},
   "outputs": [
    {
     "name": "stdout",
     "output_type": "stream",
     "text": [
      "asa\n"
     ]
    }
   ],
   "source": [
    "a = ['as']\n",
    "\n",
    "if a:\n",
    "    print('asa')"
   ]
  },
  {
   "cell_type": "code",
   "execution_count": 57,
   "metadata": {},
   "outputs": [
    {
     "data": {
      "text/plain": [
       "{(HO, NY): {'Train_H2'}, (SD, NY): {'Grid'}}"
      ]
     },
     "execution_count": 57,
     "metadata": {},
     "output_type": "execute_result"
    }
   ],
   "source": [
    "network.transport_avail_dict"
   ]
  },
  {
   "cell_type": "code",
   "execution_count": 58,
   "metadata": {},
   "outputs": [
    {
     "data": {
      "text/plain": [
       "{(HO, NY): {Train_H2}, (SD, NY): {Grid}}"
      ]
     },
     "execution_count": 58,
     "metadata": {},
     "output_type": "execute_result"
    }
   ],
   "source": [
    "network.transport_dict"
   ]
  },
  {
   "cell_type": "code",
   "execution_count": 59,
   "metadata": {},
   "outputs": [
    {
     "data": {
      "text/plain": [
       "{(HO, NY): 2366, (SD, NY): 2620}"
      ]
     },
     "execution_count": 59,
     "metadata": {},
     "output_type": "execute_result"
    }
   ],
   "source": [
    "network.distance_dict"
   ]
  },
  {
   "cell_type": "code",
   "execution_count": 60,
   "metadata": {},
   "outputs": [
    {
     "data": {
      "text/plain": [
       "['a', 's']"
      ]
     },
     "execution_count": 60,
     "metadata": {},
     "output_type": "execute_result"
    }
   ],
   "source": [
    "list('as')"
   ]
  },
  {
   "cell_type": "code",
   "execution_count": 61,
   "metadata": {},
   "outputs": [],
   "source": [
    "a = set()"
   ]
  },
  {
   "cell_type": "code",
   "execution_count": 62,
   "metadata": {},
   "outputs": [],
   "source": [
    "a.add('as')"
   ]
  },
  {
   "cell_type": "code",
   "execution_count": 63,
   "metadata": {},
   "outputs": [
    {
     "data": {
      "text/plain": [
       "{'as'}"
      ]
     },
     "execution_count": 63,
     "metadata": {},
     "output_type": "execute_result"
    }
   ],
   "source": [
    "a"
   ]
  },
  {
   "cell_type": "code",
   "execution_count": null,
   "metadata": {},
   "outputs": [],
   "source": [
    "plot_scenario.capacity_factor(scenario = scenario, location= houston, process= PV, fig_size= (9,5), color= 'orange')\n"
   ]
  },
  {
   "attachments": {},
   "cell_type": "markdown",
   "metadata": {},
   "source": [
    "![cap fac pv](plots/cf_ho.png)"
   ]
  },
  {
   "cell_type": "code",
   "execution_count": null,
   "metadata": {},
   "outputs": [],
   "source": [
    "plot_scenario.capacity_factor(scenario = scenario, location= sandiego, process= WF, fig_size= (9,5), color= 'blue')\n"
   ]
  },
  {
   "attachments": {},
   "cell_type": "markdown",
   "metadata": {},
   "source": [
    "![cap fac wf](plots/wf_sd.png)"
   ]
  },
  {
   "cell_type": "code",
   "execution_count": null,
   "metadata": {},
   "outputs": [],
   "source": [
    "plot_scenario.demand_factor(scenario = scenario, location= newyork, resource= Power, fig_size= (9,5), color= 'red')\n"
   ]
  },
  {
   "attachments": {},
   "cell_type": "markdown",
   "metadata": {},
   "source": [
    "![df ny](plots/df_ny.png)"
   ]
  },
  {
   "attachments": {},
   "cell_type": "markdown",
   "metadata": {},
   "source": [
    "## Optimize for minimum cost"
   ]
  },
  {
   "cell_type": "code",
   "execution_count": null,
   "metadata": {},
   "outputs": [],
   "source": [
    "milp_cost = formulate(scenario= scenario, constraints={Constraints.COST, Constraints.INVENTORY, Constraints.PRODUCTION, Constraints.RESOURCE_BALANCE, Constraints.TRANSPORT, Constraints.MODE, Constraints.NETWORK},  objective=Objective.COST)"
   ]
  },
  {
   "attachments": {},
   "cell_type": "markdown",
   "metadata": {},
   "source": [
    "**Ensure no discharge of power in Houston and San Diego**\n",
    "\n",
    "While the demand for power is zero in these locations, Power is still a dischargeable resource. Hence, the discharge bounds need to be set to zero.\n",
    "If not set to zero, the system chooses to dispense power instead of establishing storage networks."
   ]
  },
  {
   "cell_type": "code",
   "execution_count": null,
   "metadata": {},
   "outputs": [],
   "source": [
    "\n",
    "milp_cost.constraint_specific_location_discharge_ho = constraint_specific_location_discharge(\n",
    "        instance=milp_cost, network_scale_level=0, bounds={Power: 0}, location = houston)\n",
    "milp_cost.constraint_specific_location_discharge_sd = constraint_specific_location_discharge(\n",
    "        instance=milp_cost, network_scale_level=0, bounds={Power: 0}, location = sandiego)\n"
   ]
  },
  {
   "cell_type": "code",
   "execution_count": null,
   "metadata": {},
   "outputs": [],
   "source": [
    "\n",
    "results_cost = solve(scenario = scenario, instance= milp_cost, solver= 'gurobi', name=\"results_cost\", print_solversteps = True)\n"
   ]
  },
  {
   "attachments": {},
   "cell_type": "markdown",
   "metadata": {},
   "source": [
    "**Schedule for transport of hydrogen**"
   ]
  },
  {
   "cell_type": "code",
   "execution_count": null,
   "metadata": {},
   "outputs": [],
   "source": [
    "plot_results.transport(results=results_cost, source='SD', sink='NY', resource='H2', transport='Train_H2')\n"
   ]
  },
  {
   "attachments": {},
   "cell_type": "markdown",
   "metadata": {},
   "source": [
    "![sch t sdny](plots/sch_sdny.png)"
   ]
  },
  {
   "cell_type": "code",
   "execution_count": null,
   "metadata": {},
   "outputs": [],
   "source": [
    "plot_results.transport(results=results_cost, source='HO', sink='NY', resource='H2', transport='Train_H2')"
   ]
  },
  {
   "attachments": {},
   "cell_type": "markdown",
   "metadata": {},
   "source": [
    "![sch hony](plots/sch_hony.png)"
   ]
  },
  {
   "attachments": {},
   "cell_type": "markdown",
   "metadata": {},
   "source": [
    "**Cost contribution by technology**"
   ]
  },
  {
   "cell_type": "code",
   "execution_count": null,
   "metadata": {},
   "outputs": [],
   "source": [
    "plot_results.cost(results= results_cost, x = CostX.PROCESS_WISE, y = CostY.CAPEX, location= 'HO', fig_size= (8,6))\n",
    "plot_results.cost(results= results_cost, x = CostX.PROCESS_WISE, y = CostY.VOPEX, location= 'HO', fig_size= (8,6))\n",
    "plot_results.cost(results= results_cost, x = CostX.PROCESS_WISE, y = CostY.FOPEX, location= 'HO', fig_size= (8,6))\n",
    "plot_results.cost(results= results_cost, x = CostX.PROCESS_WISE, y = CostY.TOTAL, location= 'HO', fig_size= (8,6))"
   ]
  },
  {
   "attachments": {},
   "cell_type": "markdown",
   "metadata": {},
   "source": [
    "![total cost ho](plots/total_ho.png)"
   ]
  },
  {
   "attachments": {},
   "cell_type": "markdown",
   "metadata": {},
   "source": [
    "**Location-wise cost contribution by technology**"
   ]
  },
  {
   "cell_type": "code",
   "execution_count": null,
   "metadata": {},
   "outputs": [],
   "source": [
    "\n",
    "plot_results.cost(results= results_cost, x = CostX.LOCATION_WISE, y = CostY.CAPEX, fig_size= (8,6))\n",
    "plot_results.cost(results= results_cost, x = CostX.LOCATION_WISE, y = CostY.VOPEX, fig_size= (8,6))\n",
    "plot_results.cost(results= results_cost, x = CostX.LOCATION_WISE, y = CostY.FOPEX, fig_size= (8,6))\n",
    "plot_results.cost(results= results_cost, x = CostX.LOCATION_WISE, y = CostY.TOTAL, fig_size= (8,6))"
   ]
  },
  {
   "attachments": {},
   "cell_type": "markdown",
   "metadata": {},
   "source": [
    "![total lw](plots/total_lw.png)"
   ]
  },
  {
   "attachments": {},
   "cell_type": "markdown",
   "metadata": {},
   "source": [
    "**Inventory and production schedules**"
   ]
  },
  {
   "cell_type": "code",
   "execution_count": null,
   "metadata": {},
   "outputs": [],
   "source": [
    "plot_results.schedule(results= results_cost, y_axis= 'Inv', component= 'LiI_Power_stored', location = 'SD', fig_size= (9,5), color = 'steelblue')"
   ]
  },
  {
   "attachments": {},
   "cell_type": "markdown",
   "metadata": {},
   "source": [
    "![inv lii](plots/lii_inv.png)"
   ]
  },
  {
   "cell_type": "code",
   "execution_count": null,
   "metadata": {},
   "outputs": [],
   "source": [
    "plot_results.schedule(results= results_cost, y_axis= 'P', component= 'PV', location = 'SD', fig_size= (9,5), color = 'steelblue')"
   ]
  },
  {
   "attachments": {},
   "cell_type": "markdown",
   "metadata": {},
   "source": [
    "![pv p](plots/pv_p.png)"
   ]
  },
  {
   "attachments": {},
   "cell_type": "markdown",
   "metadata": {},
   "source": [
    "## Optimize to maximize resource discharge "
   ]
  },
  {
   "cell_type": "code",
   "execution_count": null,
   "metadata": {},
   "outputs": [],
   "source": [
    "\n",
    "milp_demand = formulate(scenario=scenario, constraints={Constraints.COST, Constraints.INVENTORY, Constraints.PRODUCTION,\n",
    "                        Constraints.RESOURCE_BALANCE, Constraints.TRANSPORT, Constraints.MODE, Constraints.NETWORK},  objective=Objective.MAX_DISCHARGE, objective_resource=Power)\n"
   ]
  },
  {
   "cell_type": "code",
   "execution_count": null,
   "metadata": {},
   "outputs": [],
   "source": [
    "\n",
    "milp_demand.constraint_specific_location_discharge_ho = constraint_specific_location_discharge(\n",
    "        instance=milp_demand, network_scale_level=0, bounds={Power: 0}, location = houston)\n",
    "milp_demand.constraint_specific_location_discharge_sd = constraint_specific_location_discharge(\n",
    "        instance=milp_demand, network_scale_level=0, bounds={Power: 0}, location = sandiego)\n"
   ]
  },
  {
   "cell_type": "code",
   "execution_count": null,
   "metadata": {},
   "outputs": [],
   "source": [
    "\n",
    "results_demand = solve(scenario=scenario, instance=milp_demand, solver='gurobi',\n",
    "                       name=\"results_demand\", print_solversteps=True)\n"
   ]
  },
  {
   "attachments": {},
   "cell_type": "markdown",
   "metadata": {},
   "source": [
    "**Schedule for transport of hydrogen**"
   ]
  },
  {
   "cell_type": "code",
   "execution_count": null,
   "metadata": {},
   "outputs": [],
   "source": [
    "plot_results.transport(results=results_demand, source='SD', sink='NY', resource='H2', transport='Train_H2')\n"
   ]
  },
  {
   "attachments": {},
   "cell_type": "markdown",
   "metadata": {},
   "source": [
    "![sch t sdny2](plots/sch_sdny2.png)"
   ]
  },
  {
   "cell_type": "code",
   "execution_count": null,
   "metadata": {},
   "outputs": [],
   "source": [
    "plot_results.transport(results=results_demand, source='HO', sink='NY', resource='H2', transport='Train_H2')"
   ]
  },
  {
   "attachments": {},
   "cell_type": "markdown",
   "metadata": {},
   "source": [
    "![sch t hony](plots/sch_hony2.png)"
   ]
  }
 ],
 "metadata": {
  "kernelspec": {
   "display_name": "Python 3.10.5 ('ki': venv)",
   "language": "python",
   "name": "python3"
  },
  "language_info": {
   "codemirror_mode": {
    "name": "ipython",
    "version": 3
   },
   "file_extension": ".py",
   "mimetype": "text/x-python",
   "name": "python",
   "nbconvert_exporter": "python",
   "pygments_lexer": "ipython3",
   "version": "3.10.5"
  },
  "orig_nbformat": 4,
  "vscode": {
   "interpreter": {
    "hash": "a4a97498e3c1bfef05f70a75d4fcafcb7b5c9c4ed86429a4e7bee46eaa890f24"
   }
  }
 },
 "nbformat": 4,
 "nbformat_minor": 2
}
