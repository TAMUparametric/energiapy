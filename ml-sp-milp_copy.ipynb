{
 "cells": [
  {
   "attachments": {},
   "cell_type": "markdown",
   "metadata": {},
   "source": [
    "## Import modules"
   ]
  },
  {
   "cell_type": "code",
   "execution_count": 1,
   "metadata": {},
   "outputs": [],
   "source": [
    "import sys\n",
    "sys.path.append('src')"
   ]
  },
  {
   "cell_type": "code",
   "execution_count": 2,
   "metadata": {},
   "outputs": [],
   "source": [
    "import pandas\n",
    "import numpy\n",
    "\n",
    "from energiapy.components import *\n",
    "from energiapy.utils.data_utils import make_henry_price_df, remove_outliers\n",
    "from itertools import product"
   ]
  },
  {
   "cell_type": "markdown",
   "metadata": {},
   "source": [
    "## Data Import"
   ]
  },
  {
   "cell_type": "markdown",
   "metadata": {},
   "source": [
    "The following data is needed for the model\n",
    "\n",
    "- solar and wind profiles : energiapy.fetch_nsrdb_data imports data from the NREL NSRDB database\n",
    "- power demand : ERCOT for Houston; CAISO for San Diego\n",
    "- Natural Gas prices: Henry Hub Price Index for both\n"
   ]
  },
  {
   "cell_type": "markdown",
   "metadata": {},
   "source": [
    "**Get Weather data**"
   ]
  },
  {
   "cell_type": "code",
   "execution_count": 3,
   "metadata": {},
   "outputs": [],
   "source": [
    "def load_data(loc:str, index:list):\n",
    "    df = pandas.read_csv(f'data/{loc}_solar19.csv')\n",
    "    df['idx'] = index\n",
    "    df = df.set_index('idx')\n",
    "    return df"
   ]
  },
  {
   "cell_type": "code",
   "execution_count": 4,
   "metadata": {},
   "outputs": [],
   "source": [
    "idx = [(i,j,k) for i,j,k in product(range(1), range(365), range(24))]\n"
   ]
  },
  {
   "cell_type": "code",
   "execution_count": 5,
   "metadata": {},
   "outputs": [],
   "source": [
    "weather_ny = load_data('ny', idx)[['DNI', 'Wind Speed']]\n",
    "weather_ny = weather_ny.rename(columns= {'DNI': 'dni', 'Wind Speed': 'wind_speed'})\n",
    "weather_sd = load_data('sd', idx)[['dni', 'wind_speed']]\n",
    "weather_ho = load_data('ho', idx)[['dni', 'wind_speed']]\n"
   ]
  },
  {
   "cell_type": "markdown",
   "metadata": {},
   "source": [
    "**Demand data for San Diego (CAISO for SDGE region) and Houston (ERCOT for COAST region)**"
   ]
  },
  {
   "cell_type": "code",
   "execution_count": 6,
   "metadata": {},
   "outputs": [],
   "source": [
    "demand_sd = pandas.read_excel('data/HistoricalEMSHourlyLoad-2019.xlsx', index_col= 0)[['SDGE']]\n",
    "demand_ho = pandas.read_excel('data/Native_Load_2019.xlsx')[['COAST']]\n",
    "demand_ny = pandas.DataFrame(pandas.read_csv('data/NYC_load.csv')['Load']) #from Will and Doga"
   ]
  },
  {
   "cell_type": "markdown",
   "metadata": {},
   "source": [
    "**Natural gas prices from Henry Hub Price Index**  \n",
    "\n",
    "We use the special function energiapy.make_henry_price_df because of special requirements such as filling in empty data points (weekends, public holidays). Such function will be generalized in the next update of energipy"
   ]
  },
  {
   "cell_type": "code",
   "execution_count": 7,
   "metadata": {},
   "outputs": [],
   "source": [
    "ng_price = make_henry_price_df(\n",
    "    file_name='data/Henry_Hub_Natural_Gas_Spot_Price_Daily.csv', year=2020)\n",
    "ng_price = ng_price.drop(columns= 'scales')\n",
    "ng_price = remove_outliers(ng_price, sd_cuttoff = 3)\n",
    "ng_price = pandas.concat([ng_price])"
   ]
  },
  {
   "cell_type": "markdown",
   "metadata": {},
   "source": [
    "## Define temporal scale\n"
   ]
  },
  {
   "cell_type": "markdown",
   "metadata": {},
   "source": [
    "The variabilities of energy systems are best captured over a discretized spatio-temporal scale. In energiapy, the first declaration is the temporal scale. \n",
    "\n",
    "For e.g.: Here we declare three temporal scales at different levels from right to left. The interpretation of these scales is merely symentic. Scales can be declared as the problem demands.\n",
    "- 0, annual, with 1 discretization\n",
    "- 1, daily with 365 discretization\n",
    "- 2, hourly with 24 discretization\n",
    "\n",
    "In essence, we are creating a temporal scale of 8760 points."
   ]
  },
  {
   "cell_type": "code",
   "execution_count": 8,
   "metadata": {},
   "outputs": [],
   "source": [
    "scales = TemporalScale(discretization_list=[1, 365, 24], design_scale= 0, scheduling_scale=2)"
   ]
  },
  {
   "cell_type": "code",
   "execution_count": 9,
   "metadata": {},
   "outputs": [
    {
     "data": {
      "text/plain": [
       "[<ScaleType.MULTI: 1>, <ScaleType.SCHEDULING: 4>]"
      ]
     },
     "execution_count": 9,
     "metadata": {},
     "output_type": "execute_result"
    }
   ],
   "source": [
    "scales.ctype"
   ]
  },
  {
   "cell_type": "code",
   "execution_count": 10,
   "metadata": {},
   "outputs": [],
   "source": [
    "bigM = 10**6"
   ]
  },
  {
   "cell_type": "markdown",
   "metadata": {},
   "source": [
    "## Declare resources"
   ]
  },
  {
   "cell_type": "markdown",
   "metadata": {},
   "source": [
    "Resources can be consumed, produced, stored, discharged (or sold). "
   ]
  },
  {
   "cell_type": "code",
   "execution_count": 11,
   "metadata": {},
   "outputs": [],
   "source": [
    "th_h2 = Theta((0, 10))"
   ]
  },
  {
   "cell_type": "code",
   "execution_count": 12,
   "metadata": {},
   "outputs": [],
   "source": [
    "Hydrogen = Resource(name='H2', discharge = True, sell_price = Theta((0, 10)))"
   ]
  },
  {
   "cell_type": "code",
   "execution_count": 13,
   "metadata": {},
   "outputs": [],
   "source": [
    "Solar = Resource(name='Solar', gwp =50, eutt = 60, cons_max=100, basis='MW', label='Solar Power')\n",
    "\n",
    "Wind = Resource(name='Wind', cons_max= 100, basis='MW', label='Wind Power')\n",
    "\n",
    "Power = Resource(name='Power', basis='MW', discharge= True, label='Power generated')\n",
    "\n",
    "Uranium = Resource(name='Ur', cons_max=100, purchase_price= 42.70/(250/2), basis='kg', label='Uranium')\n",
    "\n",
    "H2 = Resource(name='H2', basis='tons', label='Hydrogen')\n",
    "\n",
    "H2_L = Resource(name='H2_L', store_max = 10000, basis='tons', label='Hydrogen')\n",
    "\n",
    "CO2_AQoff = Resource(name='CO2(Aq)', store_max = 10000, basis='tons', label='Carbon dioxide - sequestered')\n",
    "\n",
    "H2O = Resource(name='H2O', cons_max=100,\n",
    "               purchase_price= 0.001, basis='tons', label='Water')\n",
    "\n",
    "CH4 = Resource(name='CH4', cons_max=100, purchase_price=1, basis='tons', label='Natural gas')\n",
    "\n",
    "CO2 = Resource(name='CO2', basis='tons', label='Carbon dioxide', block='Resource')\n",
    "\n",
    "CO2_Vent = Resource(name='CO2_Vent', discharge= True, basis='tons', label='Carbon dioxide - Vented', sell_price= 20)\n",
    "\n",
    "O2 = Resource(name='O2', discharge=True, basis='tons', label='Oxygen')\n",
    "\n",
    "CO2_DAC = Resource(name='CO2_DAC', basis='tons', label='Carbon dioxide - captured')\n"
   ]
  },
  {
   "attachments": {},
   "cell_type": "markdown",
   "metadata": {},
   "source": [
    "## Declare processes"
   ]
  },
  {
   "cell_type": "code",
   "execution_count": 14,
   "metadata": {},
   "outputs": [],
   "source": [
    "LiI = Process(name='LiI', storage= Power, capex = 3516428, fopex= 87910, vopex = 0, store_max = 10000, cap_max=1000, label='Lithium-ion battery', basis = 'MW')\n",
    "\n",
    "# WF = Process(name='WF', conversion={Wind: -1, Power: 1}, capex= (0, 20), fopex= (0, 3), vopex=(0, 1), cap_max= Theta((1, 2)), land = Theta((4, 10)), label='Wind mill array', basis = 'MW')\n",
    "\n",
    "WF = Process(name='WF', gwp = 50, odp = 2900, conversion={Wind: -1, Power: 1},capex=1462000, fopex=43000, vopex=4953, cap_max=1000, land = 30, label='Wind mill array', basis = 'MW')\n",
    "\n",
    "# PV = Process(name='PV', conversion={Solar: -1, Power: 1}, capex = 1333262, fopex= 22623, cap_max=1000, label = 'Solar PV', basis = 'MW')\n",
    "PV = Process(name='PV', conversion={1:{Solar: -1, Power: 0.8}, 2: {Solar: -1, Power: 1}}, capex = 1333262, fopex= 22623, cap_max=1000, label = 'Solar PV', basis = 'MW')\n",
    "\n",
    "SMRH = Process(name='SMRH', conversion={Power: -1.11, CH4: -3.76, H2O: -23.7, H2: 1, CO2_Vent: 1.03, CO2: 9.332}, capex =2520000, fopex = 945000, vopex = 51.5, cap_max= 1000, label='Steam methane reforming + CCUS')\n",
    "\n",
    "NGCC = Process(name= 'NGCC', conversion = {Power: 1, CH4: -0.108, CO2_Vent: 0.297*0.05, CO2:0.297*0.95}, capex = 2158928, fopex= 53320, vopex = 4090, cap_max= 1000, label = 'NGCC + 95% CC')\n",
    "\n",
    "SMR = Process(name='SMR', capex = 2400, fopex = 800, vopex = 0.03,  conversion={Power: -1.11, CH4: -3.76, H2O: -23.7, H2: 1, CO2_Vent: 9.4979}, cap_max=1000, label='Steam methane reforming')\n",
    "\n",
    "H2FC = Process(name='H2FC', conversion = {H2:-0.050, Power: 1}, capex =  1.6*10**6, vopex = 3.5, cap_max = 1000, label = 'hydrogen fuel cell')\n",
    "\n",
    "DAC = Process(name='DAC', capex = 0.02536, fopex = 0.634, conversion={Power: -0.193, H2O: -4.048, CO2_DAC: 1}, cap_max=1000, label='Direct air capture')\n",
    "\n",
    "PSH = Process(name='PSH', storage= Power, capex = 3924781, fopex= 17820, vopex = 512.5, store_max = 10000, cap_max=1000, label='Pumped storage hydropower', basis = 'MW')\n",
    "\n",
    "H2_L_c = Process(name='H2_L_c', conversion={Power: -0.417, H2_L: 1, H2: -1}, capex =  1.6*10**6, vopex = 3.5, cap_max= 1000, label='Hydrogen geological storage')\n",
    "\n",
    "H2_L_d = Process(name='H2_L_d', conversion={H2_L: -1, H2: 1}, capex =  0.01, vopex = 0.001, cap_max= 1000, label='Hydrogen geological storage discharge')\n",
    "\n",
    "DAC = Process(name='DAC', conversion={Power: -0.193, H2O: -4.048, CO2_DAC: 1}, capex = 730, fopex= 114, vopex= 3.6, cap_max=1000, label='Direct air capture')\n",
    "\n",
    "ASMR = Process(name='ASMR', conversion={Uranium: -4.17*10**(-5), H2O: -3.364, Power: 1}, capex = 7988951, fopex= 0.04*0.730, cap_max=1000, label='Small modular reactors (SMRs)')\n",
    "\n",
    "AWE = Process(name='AWE', land = (0,20),  conversion={Power: -1, H2: 0.019, O2: 0.7632, H2O: -0.1753}, capex = 1.1*10**6, fopex = 16918, cap_max=1000, label='Alkaline water electrolysis (AWE)', citation='Demirhan et al. 2018 AIChE paper') \n",
    "\n",
    "AQoff_SMR = Process(name='AQoff_SMR', conversion={Power: -1.28, CO2_AQoff: 1, CO2: -1}, capex =  5.52, vopex = 4.14, cap_max= 1000,  label='Offshore aquifer CO2 sequestration (SMR)')"
   ]
  },
  {
   "cell_type": "code",
   "execution_count": 15,
   "metadata": {},
   "outputs": [
    {
     "data": {
      "text/plain": [
       "Theta(H2,sell_price)"
      ]
     },
     "execution_count": 15,
     "metadata": {},
     "output_type": "execute_result"
    }
   ],
   "source": [
    "Hydrogen.sell_price"
   ]
  },
  {
   "cell_type": "code",
   "execution_count": 16,
   "metadata": {},
   "outputs": [],
   "source": [
    "process_list = {LiI, WF, PV, SMRH, SMR, DAC, AWE, H2_L_c, H2_L_d, AQoff_SMR, ASMR, PSH, NGCC}"
   ]
  },
  {
   "attachments": {},
   "cell_type": "markdown",
   "metadata": {},
   "source": [
    "## Declare locations"
   ]
  },
  {
   "cell_type": "code",
   "execution_count": 17,
   "metadata": {},
   "outputs": [],
   "source": [
    "cc = Factor(data = pandas.DataFrame({'a': [2]}), scales= scales, apply_max_scaler= False)\n",
    "\n",
    "houston = Location(name='HO', processes={LiI, PV, WF, SMRH, AWE, AQoff_SMR}, credit = {PV: 2}, cap_max_localize = {WF: 0.4, AWE: 23}, \n",
    "                   credit_factor ={PV: pandas.DataFrame({'a': [2]})}, cons_max_localize = {Solar: 2}, demand= {Power: (0, 1)}, \n",
    "                   land_cost = 10, land_cost_factor= cc, capacity_factor={PV: weather_ho[['dni']], WF: weather_ho[['wind_speed']]}, demand_factor={\n",
    "                   Power: demand_ho}, purchase_price_factor={CH4: ng_price}, scales=scales, label='Houston')\n",
    "\n",
    "sandiego = Location(name='SD', processes={LiI, PV, WF, SMRH, AWE, AQoff_SMR}, purchase_price_localize = {CH4: 222}, \n",
    "                    cons_max_localize = {Solar: 3}, land_cost = 30, land_cost_factor = pandas.DataFrame({'a': [2]}) , \n",
    "                    credit = {SMRH: 30, AQoff_SMR: Theta((0, 23))}, credit_factor= {SMRH: pandas.DataFrame({'a': [1 - 0.001*i for i in range(365)]})}, \n",
    "                    capacity_factor={PV: weather_sd[['dni']], WF: weather_sd[['wind_speed']]}, demand_factor={\n",
    "                    Power: demand_sd}, purchase_price_factor={CH4: ng_price},  scales=scales, label='SanDiego')\n",
    "\n",
    "newyork = Location(name='NY', processes={LiI, H2FC}, land_max = (0, 50000), land_max_factor = pandas.DataFrame({'a': [2]}), cap_max_localize = {PV: 0.2, AWE: 34}, \n",
    "                   capacity_factor={PV: weather_ny[['dni']], WF: weather_ny[['wind_speed']]}, demand= {Power: 40}, demand_factor={\n",
    "                   Power: demand_ny}, credit = {PV: 7}, purchase_price_localize = {CH4: 2}, scales=scales, label='NewYork')\n"
   ]
  },
  {
   "cell_type": "code",
   "execution_count": 18,
   "metadata": {},
   "outputs": [],
   "source": [
    "testk = Location(name='as', processes={LiI, H2FC}, land_max = (0, 50000), cap_max_localize = {PV: 0.2, AWE: 34}, \n",
    "                   capacity_factor={PV: weather_ny[['dni']], WF: weather_ny[['wind_speed']]}, demand= {Power: 40}, demand_factor={\n",
    "                   Power: demand_ny}, credit = {PV: 7}, purchase_price_localize = {CH4: 2}, scales=scales, label='NewYork')"
   ]
  },
  {
   "cell_type": "code",
   "execution_count": 19,
   "metadata": {},
   "outputs": [],
   "source": [
    "testk.ftype"
   ]
  },
  {
   "cell_type": "code",
   "execution_count": 20,
   "metadata": {},
   "outputs": [],
   "source": [
    "# for i in houston.processes | sandiego.processes | newyork.processes:\n",
    "# # for i in houston.resources | sandiego.resources | newyork.resources:\n",
    "#     print(i, i.localizations)\n",
    "#     print(i, i.factors)\n",
    "    "
   ]
  },
  {
   "attachments": {},
   "cell_type": "markdown",
   "metadata": {},
   "source": [
    "## Declare transports"
   ]
  },
  {
   "cell_type": "code",
   "execution_count": 21,
   "metadata": {},
   "outputs": [],
   "source": [
    "\n",
    "# Train_H2 = Transport(name='Train_H2', resources={\n",
    "#                      H2}, trans_max=bigM, trans_loss=0.03, trans_cost=1.667*10**(-3), label='Railway for hydrogen transportation')\n",
    "# Grid = Transport(name='Grid', resources={\n",
    "#                  Power}, trans_max=bigM, trans_loss=0.001, trans_cost=0.5*10**(-3), label='Railroad transport')\n",
    "\n",
    "\n",
    "Train_H2 = Transport(name='Train_H2', resources={\n",
    "                     H2, Power}, cap_max=bigM, trans_loss=0.03, capex = 1000, vopex=1.667, fopex = (0,1), acid = 34, eutf =55, label='Railway for hydrogen transportation')\n",
    "Grid = Transport(name='Grid', resources={\n",
    "                 Power}, cap_max=bigM, trans_loss=0.001, capex = 500, vopex = 0.444, label='Railroad transport')\n",
    "\n"
   ]
  },
  {
   "cell_type": "code",
   "execution_count": 22,
   "metadata": {},
   "outputs": [
    {
     "data": {
      "text/plain": [
       "Theta(Train_H2,fopex)"
      ]
     },
     "execution_count": 22,
     "metadata": {},
     "output_type": "execute_result"
    }
   ],
   "source": [
    "Train_H2.fopex"
   ]
  },
  {
   "attachments": {},
   "cell_type": "markdown",
   "metadata": {},
   "source": [
    "## Declare Network"
   ]
  },
  {
   "cell_type": "code",
   "execution_count": 23,
   "metadata": {},
   "outputs": [],
   "source": [
    "distance_matrix = [\n",
    "    [2366], \n",
    "    [2620]\n",
    "]\n",
    "\n",
    "transport_matrix = [\n",
    "    [[Train_H2]], \n",
    "    [[Grid]],\n",
    "]\n",
    "capacity_factor  = {(houston, newyork): {Train_H2: weather_sd[['wind_speed']]}, (sandiego, newyork): {Train_H2: weather_sd[['wind_speed']]}}\n",
    "\n",
    "network = Network(name='network', scales = scales, land_max= (0,5), land_max_factor= pandas.DataFrame({'a': [5]}),  \n",
    "                  capacity_factor= capacity_factor, vopex_factor = {(houston, sandiego): {Train_H2: weather_sd[['wind_speed']]}}, sources=[houston, sandiego],\n",
    "                  sinks=[newyork], distance_matrix=distance_matrix, transport_matrix=transport_matrix)\n"
   ]
  },
  {
   "cell_type": "code",
   "execution_count": 24,
   "metadata": {},
   "outputs": [
    {
     "data": {
      "text/plain": [
       "{Grid, Train_H2}"
      ]
     },
     "execution_count": 24,
     "metadata": {},
     "output_type": "execute_result"
    }
   ],
   "source": [
    "Power.transport"
   ]
  },
  {
   "cell_type": "code",
   "execution_count": null,
   "metadata": {},
   "outputs": [],
   "source": []
  },
  {
   "cell_type": "code",
   "execution_count": 25,
   "metadata": {},
   "outputs": [
    {
     "data": {
      "text/plain": [
       "{<ResourceParamType.DEMAND: 4>: {HO: <ParameterType.UNCERTAIN: 2>,\n",
       "  NY: <ParameterType.UNCERTAIN: 2>,\n",
       "  as: <ParameterType.UNCERTAIN: 2>}}"
      ]
     },
     "execution_count": 25,
     "metadata": {},
     "output_type": "execute_result"
    }
   ],
   "source": [
    "Power.ptype"
   ]
  },
  {
   "cell_type": "code",
   "execution_count": 26,
   "metadata": {},
   "outputs": [
    {
     "data": {
      "text/plain": [
       "{'RESOURCE_DEMAND': {HO, NY, SD, as}}"
      ]
     },
     "execution_count": 26,
     "metadata": {},
     "output_type": "execute_result"
    }
   ],
   "source": [
    "Power.ftype"
   ]
  },
  {
   "cell_type": "code",
   "execution_count": 27,
   "metadata": {},
   "outputs": [
    {
     "data": {
      "text/plain": [
       "{'RESOURCE_DEMAND': {HO: Factor(Power,HO,demand),\n",
       "  SD: Factor(Power,SD,demand),\n",
       "  NY: Factor(Power,NY,demand),\n",
       "  as: Factor(Power,as,demand)}}"
      ]
     },
     "execution_count": 27,
     "metadata": {},
     "output_type": "execute_result"
    }
   ],
   "source": [
    "Power.factors "
   ]
  },
  {
   "cell_type": "code",
   "execution_count": 28,
   "metadata": {},
   "outputs": [],
   "source": [
    "network2 = Network(name='network2', scales = scales, vopex_factor = {(houston, sandiego): {Train_H2: weather_sd[['wind_speed']]}}, sources=[houston, sandiego],\n",
    "                  sinks=[newyork], distance_matrix=distance_matrix, transport_matrix=transport_matrix)"
   ]
  },
  {
   "cell_type": "code",
   "execution_count": 29,
   "metadata": {},
   "outputs": [],
   "source": [
    "network2.ctype"
   ]
  },
  {
   "cell_type": "code",
   "execution_count": 30,
   "metadata": {},
   "outputs": [],
   "source": [
    "CO2.ptype"
   ]
  },
  {
   "cell_type": "code",
   "execution_count": 31,
   "metadata": {},
   "outputs": [],
   "source": [
    "\n",
    "scenario = Scenario(name='scenario_full', network=network, scales=scales, label='full_case')\n"
   ]
  },
  {
   "cell_type": "code",
   "execution_count": 33,
   "metadata": {},
   "outputs": [
    {
     "data": {
      "text/plain": [
       "{'name': 'scenario_full',\n",
       " 'scales': [0, 1, 2],\n",
       " 'network': network,\n",
       " 'cluster_wt': None,\n",
       " 'label': 'full_case',\n",
       " 'capacity_bounds': None,\n",
       " 'annualization_factor': None,\n",
       " 'demand_penalty': None,\n",
       " 'error': None,\n",
       " 'rep_dict': None,\n",
       " 'emission_weights': None,\n",
       " 'ctype': [<ScenarioType.MULTI_LOCATION: 2>],\n",
       " 'purchase_scale_level': None,\n",
       " 'expenditure_scale_level': None,\n",
       " 'scheduling_scale_level': None,\n",
       " 'availability_scale_level': None,\n",
       " 'network_scale_level': None,\n",
       " 'demand_scale_level': None,\n",
       " 'capacity_scale_level': None,\n",
       " 'demand': None,\n",
       " 'design_scale': 0,\n",
       " 'scheduling_scale': 2,\n",
       " 'transports': {Grid, Train_H2},\n",
       " 'locations': {HO, NY, SD},\n",
       " 'defined_ptypes_network': {'DISTANCE_DICT', 'LAND_MAX', 'TRANSPORT_DICT'},\n",
       " 'sources': [HO, SD],\n",
       " 'sinks': [NY],\n",
       " 'transport_dict': {(HO, NY): {Train_H2}, (SD, NY): {Grid}},\n",
       " 'transport_avail_dict': {(HO, NY): {'Train_H2'}, (SD, NY): {'Grid'}},\n",
       " 'resources': {CH4,\n",
       "  CO2,\n",
       "  CO2(Aq),\n",
       "  CO2_Vent,\n",
       "  H2,\n",
       "  H2O,\n",
       "  LiI_Power_stored,\n",
       "  O2,\n",
       "  Power,\n",
       "  Solar,\n",
       "  Wind},\n",
       " 'processes': {AQoff_SMR, AWE, H2FC, LiI, LiI_discharge, PV, SMRH, WF},\n",
       " 'materials': set(),\n",
       " 'defined_ptypes_resources': {'AVAILABILITY',\n",
       "  'DEMAND',\n",
       "  'PURCHASE_PRICE',\n",
       "  'SELL_PRICE',\n",
       "  'STORE_MAX'},\n",
       " 'defined_ptypes_processes': {'CAPEX',\n",
       "  'CAP_MAX',\n",
       "  'CONVERSION',\n",
       "  'CREDIT',\n",
       "  'FOPEX',\n",
       "  'LAND',\n",
       "  'MATERIAL_CONS',\n",
       "  'VOPEX'},\n",
       " 'defined_ptypes_locations': {'LAND_COST', 'LAND_MAX'},\n",
       " 'defined_ptypes_transports': {'CAPEX',\n",
       "  'CAP_MAX',\n",
       "  'FOPEX',\n",
       "  'MATERIAL_CONS',\n",
       "  'RESOURCES',\n",
       "  'TRANS_LOSS',\n",
       "  'VOPEX'},\n",
       " 'data_resources': {Power: {'demand': {HO: Theta(Power,HO,demand),\n",
       "    NY: 40,\n",
       "    as: 40}},\n",
       "  Wind: {'availability': 100},\n",
       "  CO2(Aq): {'store_max': 10000},\n",
       "  CO2_Vent: {'sell_price': 20},\n",
       "  LiI_Power_stored: {'store_max': 10000},\n",
       "  Solar: {'availability': 100},\n",
       "  CH4: {'purchase_price': 1, 'availability': 100},\n",
       "  H2O: {'purchase_price': 0.001, 'availability': 100}},\n",
       " 'data_processes': {PV: {'fopex': 22623,\n",
       "   'conversion': {1: {Solar: -1, Power: 0.8}, 2: {Solar: -1, Power: 1}},\n",
       "   'capex': 1333262,\n",
       "   'cap_max': 1000,\n",
       "   'credit': {HO: 2, NY: 7, as: 7}},\n",
       "  H2FC: {'conversion': {H2: -0.05, Power: 1},\n",
       "   'capex': 1600000.0,\n",
       "   'cap_max': 1000,\n",
       "   'vopex': 3.5},\n",
       "  LiI: {'fopex': 87910,\n",
       "   'conversion': {Power: -1, LiI_Power_stored: 1},\n",
       "   'capex': 3516428,\n",
       "   'cap_max': 1000},\n",
       "  SMRH: {'fopex': 945000,\n",
       "   'conversion': {Power: -1.11,\n",
       "    CH4: -3.76,\n",
       "    H2O: -23.7,\n",
       "    H2: 1,\n",
       "    CO2_Vent: 1.03,\n",
       "    CO2: 9.332},\n",
       "   'capex': 2520000,\n",
       "   'cap_max': 1000,\n",
       "   'credit': {SD: 30},\n",
       "   'vopex': 51.5},\n",
       "  AWE: {'fopex': 16918,\n",
       "   'conversion': {Power: -1, H2: 0.019, O2: 0.7632, H2O: -0.1753},\n",
       "   'capex': 1100000.0,\n",
       "   'cap_max': 1000,\n",
       "   'land': Theta(AWE,land)},\n",
       "  AQoff_SMR: {'conversion': {Power: -1.28, CO2(Aq): 1, CO2: -1},\n",
       "   'capex': 5.52,\n",
       "   'cap_max': 1000,\n",
       "   'credit': {SD: Theta(AQoff_SMR,SD,credit)},\n",
       "   'vopex': 4.14},\n",
       "  WF: {'fopex': 43000,\n",
       "   'conversion': {Wind: -1, Power: 1},\n",
       "   'capex': 1462000,\n",
       "   'cap_max': 1000,\n",
       "   'vopex': 4953,\n",
       "   'land': 30},\n",
       "  LiI_discharge: {'conversion': {LiI_Power_stored: -1, Power: 1},\n",
       "   'cap_max': 1000}},\n",
       " 'data_locations': {NY: {'land_max': Theta(NY,land_max)},\n",
       "  HO: {'land_cost': 10},\n",
       "  SD: {'land_cost': 30}},\n",
       " 'data_transports': {Train_H2: {'fopex': Theta(Train_H2,fopex),\n",
       "   'resources': {H2, Power},\n",
       "   'capex': 1000,\n",
       "   'cap_max': 1000000,\n",
       "   'trans_loss': 0.03,\n",
       "   'vopex': 1.667},\n",
       "  Grid: {'resources': {Power},\n",
       "   'capex': 500,\n",
       "   'cap_max': 1000000,\n",
       "   'trans_loss': 0.001,\n",
       "   'vopex': 0.444}},\n",
       " 'data_network': {'distance_dict': {(HO, NY): 2366, (SD, NY): 2620},\n",
       "  'land_max': Theta(network,land_max),\n",
       "  'transport_dict': {(HO, NY): {Train_H2}, (SD, NY): {Grid}}},\n",
       " 'resources_store': {CO2(Aq), LiI_Power_stored},\n",
       " 'resources_produce': {CO2,\n",
       "  CO2(Aq),\n",
       "  CO2_Vent,\n",
       "  H2,\n",
       "  LiI_Power_stored,\n",
       "  O2,\n",
       "  Power},\n",
       " 'resources_implicit': {CO2, CO2(Aq), H2, LiI_Power_stored},\n",
       " 'resources_discharge': {CO2_Vent, O2, Power},\n",
       " 'resources_sell': {CO2_Vent},\n",
       " 'resources_consume': {CH4, H2O, Solar, Wind},\n",
       " 'resources_purchase': {CH4, H2O},\n",
       " 'resources_demand': {Power},\n",
       " 'resources_transport': {H2, Power},\n",
       " 'resources_emission': {Solar},\n",
       " 'processes_single_prodmode': {AQoff_SMR, AWE, H2FC, LiI_discharge, SMRH, WF},\n",
       " 'processes_multi_prodmode': {PV},\n",
       " 'processes_no_matmode': {AQoff_SMR,\n",
       "  AWE,\n",
       "  H2FC,\n",
       "  LiI,\n",
       "  LiI_discharge,\n",
       "  PV,\n",
       "  SMRH,\n",
       "  WF},\n",
       " 'processes_storage': {LiI},\n",
       " 'processes_storage_discharge': {LiI_discharge},\n",
       " 'processes_linear_capex': {AQoff_SMR, AWE, H2FC, LiI, PV, SMRH, WF},\n",
       " 'processes_intermittent': {PV, WF},\n",
       " 'processes_credit': {AQoff_SMR, PV, SMRH},\n",
       " 'processes_land': {AWE, WF},\n",
       " 'processes_expenditure': {AQoff_SMR, AWE, H2FC, LiI, PV, SMRH, WF},\n",
       " 'processes_emission': {WF},\n",
       " 'locations_source': {HO, SD},\n",
       " 'locations_sink': {NY},\n",
       " 'locations_land': {HO, NY, SD},\n",
       " 'transports_no_matmode': {Grid, Train_H2},\n",
       " 'transports_linear_capex': {Grid, Train_H2},\n",
       " 'transports_intermittent': {Train_H2},\n",
       " 'transports_expenditure': {Grid, Train_H2},\n",
       " 'transports_emission': {Train_H2}}"
      ]
     },
     "execution_count": 33,
     "metadata": {},
     "output_type": "execute_result"
    }
   ],
   "source": [
    "scenario.__dict__"
   ]
  },
  {
   "cell_type": "code",
   "execution_count": 36,
   "metadata": {},
   "outputs": [
    {
     "data": {
      "text/plain": [
       "{'LOCATION_LAND_COST': Factor(HO,land_cost)}"
      ]
     },
     "execution_count": 36,
     "metadata": {},
     "output_type": "execute_result"
    }
   ],
   "source": [
    "houston.factors"
   ]
  },
  {
   "cell_type": "code",
   "execution_count": 37,
   "metadata": {},
   "outputs": [
    {
     "data": {
      "text/plain": [
       "{'PROCESS_CREDIT': {HO: Factor(PV,HO,credit)},\n",
       " 'PROCESS_CAPACITY': {HO: Factor(PV,HO,capacity),\n",
       "  SD: Factor(PV,SD,capacity),\n",
       "  NY: Factor(PV,NY,capacity),\n",
       "  as: Factor(PV,as,capacity)}}"
      ]
     },
     "execution_count": 37,
     "metadata": {},
     "output_type": "execute_result"
    }
   ],
   "source": [
    "PV.factors"
   ]
  },
  {
   "cell_type": "code",
   "execution_count": 39,
   "metadata": {},
   "outputs": [
    {
     "data": {
      "text/plain": [
       "{PV: {'PROCESS_CREDIT': {HO: Factor(PV,HO,credit)},\n",
       "  'PROCESS_CAPACITY': {HO: Factor(PV,HO,capacity),\n",
       "   SD: Factor(PV,SD,capacity),\n",
       "   NY: Factor(PV,NY,capacity),\n",
       "   as: Factor(PV,as,capacity)}},\n",
       " H2FC: None,\n",
       " LiI: None,\n",
       " SMRH: {'PROCESS_CREDIT': {SD: Factor(SMRH,SD,credit)}},\n",
       " AWE: None,\n",
       " AQoff_SMR: None,\n",
       " WF: {'PROCESS_CAPACITY': {HO: Factor(WF,HO,capacity),\n",
       "   SD: Factor(WF,SD,capacity),\n",
       "   NY: Factor(WF,NY,capacity),\n",
       "   as: Factor(WF,as,capacity)}},\n",
       " LiI_discharge: None}"
      ]
     },
     "execution_count": 39,
     "metadata": {},
     "output_type": "execute_result"
    }
   ],
   "source": [
    "{i: i.factors for i in scenario.processes}    "
   ]
  },
  {
   "cell_type": "code",
   "execution_count": 44,
   "metadata": {},
   "outputs": [],
   "source": [
    "lll = [i.lower() for i in ResourceParamType.all()]"
   ]
  },
  {
   "cell_type": "code",
   "execution_count": 50,
   "metadata": {},
   "outputs": [
    {
     "data": {
      "text/plain": [
       "{Power: {'demand': {HO: Theta(Power,HO,demand), NY: 40, as: 40}},\n",
       " Wind: {'availability': 100},\n",
       " CO2(Aq): {'store_max': 10000},\n",
       " CO2_Vent: {'sell_price': 20},\n",
       " LiI_Power_stored: {'store_max': 10000},\n",
       " Solar: {'availability': 100},\n",
       " CH4: {'purchase_price': 1, 'availability': 100},\n",
       " H2O: {'purchase_price': 0.001, 'availability': 100}}"
      ]
     },
     "execution_count": 50,
     "metadata": {},
     "output_type": "execute_result"
    }
   ],
   "source": [
    "{i: {j: getattr(i,j) for j in lll if hasattr(i,j) and  getattr(i,j)} for i in scenario.resources if i.ptype}"
   ]
  },
  {
   "cell_type": "code",
   "execution_count": 51,
   "metadata": {},
   "outputs": [
    {
     "data": {
      "text/plain": [
       "{'DISTANCE_DICT', 'LAND_MAX', 'TRANSPORT_DICT'}"
      ]
     },
     "execution_count": 51,
     "metadata": {},
     "output_type": "execute_result"
    }
   ],
   "source": [
    "scenario.defined_ptypes_network"
   ]
  },
  {
   "cell_type": "code",
   "execution_count": 52,
   "metadata": {},
   "outputs": [
    {
     "data": {
      "text/plain": [
       "{'AVAILABILITY', 'DEMAND', 'PURCHASE_PRICE', 'SELL_PRICE', 'STORE_MAX'}"
      ]
     },
     "execution_count": 52,
     "metadata": {},
     "output_type": "execute_result"
    }
   ],
   "source": [
    "scenario.defined_ptypes_resources"
   ]
  },
  {
   "cell_type": "code",
   "execution_count": 53,
   "metadata": {},
   "outputs": [
    {
     "data": {
      "text/plain": [
       "{Power: {'demand': {HO: Theta(Power,HO,demand), NY: 40, as: 40}},\n",
       " Wind: {'availability': 100},\n",
       " CO2(Aq): {'store_max': 10000},\n",
       " CO2_Vent: {'sell_price': 20},\n",
       " LiI_Power_stored: {'store_max': 10000},\n",
       " Solar: {'availability': 100},\n",
       " CH4: {'purchase_price': 1, 'availability': 100},\n",
       " H2O: {'purchase_price': 0.001, 'availability': 100}}"
      ]
     },
     "execution_count": 53,
     "metadata": {},
     "output_type": "execute_result"
    }
   ],
   "source": [
    "scenario.data_resources"
   ]
  },
  {
   "cell_type": "code",
   "execution_count": 49,
   "metadata": {},
   "outputs": [
    {
     "name": "stdout",
     "output_type": "stream",
     "text": [
      "{<ResourceParamType.DEMAND: 4>: {HO: <ParameterType.UNCERTAIN: 2>, NY: <ParameterType.UNCERTAIN: 2>, as: <ParameterType.UNCERTAIN: 2>}}\n",
      "None\n",
      "{<ResourceParamType.AVAILABILITY: 3>: <ParameterType.CERTAIN: 1>}\n",
      "{<ResourceParamType.STORE_MAX: 5>: <ParameterType.CERTAIN: 1>}\n",
      "None\n",
      "{<ResourceParamType.SELL_PRICE: 1>: <ParameterType.CERTAIN: 1>}\n",
      "None\n",
      "{<ResourceParamType.STORE_MAX: 5>: <ParameterType.CERTAIN: 1>}\n",
      "{<ResourceParamType.AVAILABILITY: 3>: <ParameterType.CERTAIN: 1>}\n",
      "{<ResourceParamType.AVAILABILITY: 3>: <ParameterType.CERTAIN: 1>, <ResourceParamType.PURCHASE_PRICE: 2>: <ParameterType.CERTAIN: 1>}\n",
      "{<ResourceParamType.AVAILABILITY: 3>: <ParameterType.CERTAIN: 1>, <ResourceParamType.PURCHASE_PRICE: 2>: <ParameterType.CERTAIN: 1>}\n"
     ]
    }
   ],
   "source": [
    "for i in scenario.resources:\n",
    "    print(i.ptype)"
   ]
  },
  {
   "cell_type": "code",
   "execution_count": 48,
   "metadata": {},
   "outputs": [
    {
     "data": {
      "text/plain": [
       "{Power: {'demand': {HO: Theta(Power,HO,demand), NY: 40, as: 40}},\n",
       " Wind: {'availability': 100},\n",
       " CO2(Aq): {'store_max': 10000},\n",
       " CO2_Vent: {'sell_price': 20},\n",
       " LiI_Power_stored: {'store_max': 10000},\n",
       " Solar: {'availability': 100},\n",
       " CH4: {'purchase_price': 1, 'availability': 100},\n",
       " H2O: {'purchase_price': 0.001, 'availability': 100}}"
      ]
     },
     "execution_count": 48,
     "metadata": {},
     "output_type": "execute_result"
    }
   ],
   "source": [
    "scenario.data_resources"
   ]
  },
  {
   "cell_type": "code",
   "execution_count": null,
   "metadata": {},
   "outputs": [
    {
     "data": {
      "text/plain": [
       "{<ProcessParamType.CAP_MAX: 1>: <ParameterType.CERTAIN: 1>,\n",
       " <ProcessParamType.CAPEX: 4>: <ParameterType.CERTAIN: 1>,\n",
       " <ProcessParamType.CAPACITY: 8>: <ParameterType.CERTAIN: 1>,\n",
       " <ProcessParamType.FOPEX: 5>: <ParameterType.CERTAIN: 1>,\n",
       " <ProcessParamType.CREDIT: 9>: {HO: <ParameterType.UNCERTAIN: 2>,\n",
       "  NY: <ParameterType.UNCERTAIN: 2>,\n",
       "  as: <ParameterType.UNCERTAIN: 2>}}"
      ]
     },
     "execution_count": 34,
     "metadata": {},
     "output_type": "execute_result"
    }
   ],
   "source": [
    "PV.ptype"
   ]
  },
  {
   "cell_type": "code",
   "execution_count": null,
   "metadata": {},
   "outputs": [
    {
     "data": {
      "text/plain": [
       "{'RESOURCE_DEMAND': {HO: Factor(Power,HO,demand),\n",
       "  SD: Factor(Power,SD,demand),\n",
       "  NY: Factor(Power,NY,demand),\n",
       "  as: Factor(Power,as,demand)}}"
      ]
     },
     "execution_count": 35,
     "metadata": {},
     "output_type": "execute_result"
    }
   ],
   "source": [
    "Power.factors"
   ]
  },
  {
   "cell_type": "code",
   "execution_count": null,
   "metadata": {},
   "outputs": [
    {
     "data": {
      "text/plain": [
       "{Grid, Train_H2}"
      ]
     },
     "execution_count": 36,
     "metadata": {},
     "output_type": "execute_result"
    }
   ],
   "source": [
    "Power.transport"
   ]
  },
  {
   "cell_type": "code",
   "execution_count": null,
   "metadata": {},
   "outputs": [
    {
     "data": {
      "text/plain": [
       "{Train_H2}"
      ]
     },
     "execution_count": 37,
     "metadata": {},
     "output_type": "execute_result"
    }
   ],
   "source": [
    "H2.transport"
   ]
  },
  {
   "cell_type": "code",
   "execution_count": null,
   "metadata": {},
   "outputs": [
    {
     "data": {
      "text/plain": [
       "[<ResourceType.PRODUCE: 2>,\n",
       " <ResourceType.IMPLICIT: 3>,\n",
       " <ResourceType.TRANSPORT: 9>]"
      ]
     },
     "execution_count": 38,
     "metadata": {},
     "output_type": "execute_result"
    }
   ],
   "source": [
    "H2.ctype"
   ]
  },
  {
   "cell_type": "code",
   "execution_count": null,
   "metadata": {},
   "outputs": [
    {
     "name": "stdout",
     "output_type": "stream",
     "text": [
      "{<ResourceParamType.STORE_MAX: 5>: <ParameterType.CERTAIN: 1>}\n",
      "None\n",
      "{<ResourceParamType.AVAILABILITY: 3>: <ParameterType.CERTAIN: 1>}\n",
      "{<ResourceParamType.DEMAND: 4>: {HO: <ParameterType.UNCERTAIN: 2>, NY: <ParameterType.UNCERTAIN: 2>, as: <ParameterType.UNCERTAIN: 2>}}\n",
      "{<ResourceParamType.PURCHASE_PRICE: 2>: <ParameterType.CERTAIN: 1>, <ResourceParamType.AVAILABILITY: 3>: <ParameterType.CERTAIN: 1>}\n",
      "{<ResourceParamType.SELL_PRICE: 1>: <ParameterType.CERTAIN: 1>}\n",
      "{<ResourceParamType.AVAILABILITY: 3>: <ParameterType.CERTAIN: 1>}\n",
      "None\n",
      "{<ResourceParamType.PURCHASE_PRICE: 2>: <ParameterType.CERTAIN: 1>, <ResourceParamType.AVAILABILITY: 3>: <ParameterType.CERTAIN: 1>}\n",
      "{<ResourceParamType.STORE_MAX: 5>: <ParameterType.CERTAIN: 1>}\n",
      "None\n"
     ]
    }
   ],
   "source": [
    "for i in scenario.resources:\n",
    "    print(i.ptype)"
   ]
  },
  {
   "cell_type": "code",
   "execution_count": null,
   "metadata": {},
   "outputs": [
    {
     "data": {
      "text/plain": [
       "{'name': 'HO',\n",
       " 'processes': {AQoff_SMR, AWE, LiI, LiI_discharge, PV, SMRH, WF},\n",
       " 'scales': [0, 1, 2],\n",
       " 'land_max': None,\n",
       " 'land_cost': 10,\n",
       " 'land_max_factor': None,\n",
       " 'land_cost_factor': Factor(HO,land_cost),\n",
       " 'demand': {Power: Theta(Power,HO,demand)},\n",
       " 'sell_price_factor': None,\n",
       " 'purchase_price_factor': {CH4: Factor(CH4,HO,purchase_price)},\n",
       " 'cons_max_factor': None,\n",
       " 'demand_factor': {Power: Factor(Power,HO,demand)},\n",
       " 'store_max_factor': None,\n",
       " 'store_loss_factor': None,\n",
       " 'storage_cost_factor': None,\n",
       " 'credit': {PV: 2},\n",
       " 'capacity_factor': {PV: Factor(PV,HO,capacity), WF: Factor(WF,HO,capacity)},\n",
       " 'cap_max_factor': None,\n",
       " 'capex_factor': None,\n",
       " 'vopex_factor': None,\n",
       " 'fopex_factor': None,\n",
       " 'incidental_factor': None,\n",
       " 'credit_factor': {PV: Factor(PV,HO,credit)},\n",
       " 'sell_price_localize': None,\n",
       " 'purchase_price_localize': None,\n",
       " 'cons_max_localize': {Solar: Localize(Solar,HO,availability)},\n",
       " 'store_max_localize': None,\n",
       " 'store_min_localize': None,\n",
       " 'store_loss_localize': None,\n",
       " 'storage_cost_localize': None,\n",
       " 'cap_max_localize': {WF: Localize(WF,HO,cap_max),\n",
       "  AWE: Localize(AWE,HO,cap_max)},\n",
       " 'cap_min_localize': None,\n",
       " 'capex_localize': None,\n",
       " 'vopex_localize': None,\n",
       " 'fopex_localize': None,\n",
       " 'incidental_localize': None,\n",
       " 'land_localize': None,\n",
       " 'basis': None,\n",
       " 'block': None,\n",
       " 'label': 'Houston',\n",
       " 'citation': None,\n",
       " 'ctype': [<LocationType.LAND: 3>,\n",
       "  <LocationType.SOURCE: 1>,\n",
       "  <LocationType.SOURCE: 1>],\n",
       " 'ptype': {<LocationParamType.LAND_COST: 1>: <ParameterType.CERTAIN: 1>},\n",
       " 'ftype': {'LOCATION_LAND_COST'},\n",
       " 'factors': {'LOCATION_LAND_COST': Factor(HO,land_cost)},\n",
       " 'demand_scale_level': None,\n",
       " 'price_scale_level': None,\n",
       " 'capacity_scale_level': None,\n",
       " 'expenditure_scale_level': None,\n",
       " 'availability_scale_level': None,\n",
       " 'price_factor': None,\n",
       " 'revenue_factor': None,\n",
       " 'resources': {CH4,\n",
       "  CO2,\n",
       "  CO2(Aq),\n",
       "  CO2_Vent,\n",
       "  H2,\n",
       "  H2O,\n",
       "  LiI_Power_stored,\n",
       "  O2,\n",
       "  Power,\n",
       "  Solar,\n",
       "  Wind},\n",
       " 'materials': set(),\n",
       " 'processes_single_prodmode': {AQoff_SMR, AWE, LiI_discharge, SMRH, WF},\n",
       " 'processes_multi_prodmode': {PV},\n",
       " 'processes_no_matmode': {AQoff_SMR, AWE, LiI, LiI_discharge, PV, SMRH, WF},\n",
       " 'processes_storage': {LiI},\n",
       " 'processes_storage_discharge': {LiI_discharge},\n",
       " 'processes_linear_capex': {AQoff_SMR, AWE, LiI, PV, SMRH, WF},\n",
       " 'processes_intermittent': {PV, WF},\n",
       " 'processes_credit': {PV},\n",
       " 'processes_land': {AWE, WF},\n",
       " 'processes_expenditure': {AQoff_SMR, AWE, LiI, PV, SMRH, WF},\n",
       " 'processes_emission': {WF},\n",
       " 'resources_emission': {Solar},\n",
       " 'resources_purchase': {CH4, H2O},\n",
       " 'resources_store': {CO2(Aq), LiI_Power_stored},\n",
       " 'resources_sell': {CO2_Vent},\n",
       " 'resources_consume': {CH4, H2O, Solar, Wind},\n",
       " 'resources_discharge': {CO2_Vent, O2, Power},\n",
       " 'resources_implicit': {CO2, CO2(Aq), H2, LiI_Power_stored},\n",
       " 'resources_produce': {CO2,\n",
       "  CO2(Aq),\n",
       "  CO2_Vent,\n",
       "  H2,\n",
       "  LiI_Power_stored,\n",
       "  O2,\n",
       "  Power},\n",
       " 'resources_demand': {Power}}"
      ]
     },
     "execution_count": 40,
     "metadata": {},
     "output_type": "execute_result"
    }
   ],
   "source": [
    "houston.__dict__"
   ]
  },
  {
   "cell_type": "code",
   "execution_count": null,
   "metadata": {},
   "outputs": [
    {
     "data": {
      "text/plain": [
       "{'name': 'scenario_full',\n",
       " 'scales': [0, 1, 2],\n",
       " 'network': network,\n",
       " 'cluster_wt': None,\n",
       " 'label': 'full_case',\n",
       " 'capacity_bounds': None,\n",
       " 'annualization_factor': None,\n",
       " 'demand_penalty': None,\n",
       " 'error': None,\n",
       " 'rep_dict': None,\n",
       " 'emission_weights': None,\n",
       " 'ctype': [<ScenarioType.MULTI_LOCATION: 2>],\n",
       " 'purchase_scale_level': None,\n",
       " 'expenditure_scale_level': None,\n",
       " 'scheduling_scale_level': None,\n",
       " 'availability_scale_level': None,\n",
       " 'network_scale_level': None,\n",
       " 'demand_scale_level': None,\n",
       " 'capacity_scale_level': None,\n",
       " 'demand': None,\n",
       " 'design_scale': 0,\n",
       " 'scheduling_scale': 2,\n",
       " 'transports': {Grid, Train_H2},\n",
       " 'locations': {HO, NY, SD},\n",
       " 'defined_ptypes_network': {'DISTANCE_DICT', 'LAND_MAX', 'TRANSPORT_DICT'},\n",
       " 'sources': [HO, SD],\n",
       " 'sinks': [NY],\n",
       " 'transport_dict': {(HO, NY): {Train_H2}, (SD, NY): {Grid}},\n",
       " 'transport_avail_dict': {(HO, NY): {'Train_H2'}, (SD, NY): {'Grid'}},\n",
       " 'resources': {CH4,\n",
       "  CO2,\n",
       "  CO2(Aq),\n",
       "  CO2_Vent,\n",
       "  H2,\n",
       "  H2O,\n",
       "  LiI_Power_stored,\n",
       "  O2,\n",
       "  Power,\n",
       "  Solar,\n",
       "  Wind},\n",
       " 'processes': {AQoff_SMR, AWE, H2FC, LiI, LiI_discharge, PV, SMRH, WF},\n",
       " 'materials': set(),\n",
       " 'defined_ptypes_resources': {'AVAILABILITY',\n",
       "  'DEMAND',\n",
       "  'PURCHASE_PRICE',\n",
       "  'SELL_PRICE',\n",
       "  'STORE_MAX'},\n",
       " 'defined_ptypes_processes': {'CAPEX',\n",
       "  'CAP_MAX',\n",
       "  'CONVERSION',\n",
       "  'CREDIT',\n",
       "  'FOPEX',\n",
       "  'LAND',\n",
       "  'MATERIAL_CONS',\n",
       "  'VOPEX'},\n",
       " 'defined_ptypes_locations': {'LAND_COST', 'LAND_MAX'},\n",
       " 'defined_ptypes_transports': {'CAPEX',\n",
       "  'CAP_MAX',\n",
       "  'FOPEX',\n",
       "  'MATERIAL_CONS',\n",
       "  'RESOURCES',\n",
       "  'TRANS_LOSS',\n",
       "  'VOPEX'},\n",
       " 'data_resources': {LiI_Power_stored: {'store_max': 10000},\n",
       "  Solar: {'availability': 100},\n",
       "  Power: {'demand': {HO: Theta(Power,HO,demand), NY: 40, as: 40}},\n",
       "  H2O: {'purchase_price': 0.001, 'availability': 100},\n",
       "  CO2_Vent: {'sell_price': 20},\n",
       "  Wind: {'availability': 100},\n",
       "  CH4: {'purchase_price': 1, 'availability': 100},\n",
       "  CO2(Aq): {'store_max': 10000}},\n",
       " 'data_processes': {AQoff_SMR: {'vopex': 4.14,\n",
       "   'conversion': {Power: -1.28, CO2(Aq): 1, CO2: -1},\n",
       "   'cap_max': 1000,\n",
       "   'credit': {SD: Theta(AQoff_SMR,SD,credit)},\n",
       "   'capex': 5.52},\n",
       "  PV: {'conversion': {1: {Solar: -1, Power: 0.8}, 2: {Solar: -1, Power: 1}},\n",
       "   'cap_max': 1000,\n",
       "   'credit': {HO: 2, NY: 7, as: 7},\n",
       "   'fopex': 22623,\n",
       "   'capex': 1333262},\n",
       "  WF: {'vopex': 4953,\n",
       "   'land': 30,\n",
       "   'conversion': {Wind: -1, Power: 1},\n",
       "   'cap_max': 1000,\n",
       "   'fopex': 43000,\n",
       "   'capex': 1462000},\n",
       "  LiI_discharge: {'conversion': {LiI_Power_stored: -1, Power: 1},\n",
       "   'cap_max': 1000},\n",
       "  H2FC: {'vopex': 3.5,\n",
       "   'conversion': {H2: -0.05, Power: 1},\n",
       "   'cap_max': 1000,\n",
       "   'capex': 1600000.0},\n",
       "  AWE: {'land': Theta(AWE,land),\n",
       "   'conversion': {Power: -1, H2: 0.019, O2: 0.7632, H2O: -0.1753},\n",
       "   'cap_max': 1000,\n",
       "   'fopex': 16918,\n",
       "   'capex': 1100000.0},\n",
       "  SMRH: {'vopex': 51.5,\n",
       "   'conversion': {Power: -1.11,\n",
       "    CH4: -3.76,\n",
       "    H2O: -23.7,\n",
       "    H2: 1,\n",
       "    CO2_Vent: 1.03,\n",
       "    CO2: 9.332},\n",
       "   'cap_max': 1000,\n",
       "   'credit': {SD: 30},\n",
       "   'fopex': 945000,\n",
       "   'capex': 2520000},\n",
       "  LiI: {'conversion': {Power: -1, LiI_Power_stored: 1},\n",
       "   'cap_max': 1000,\n",
       "   'fopex': 87910,\n",
       "   'capex': 3516428}},\n",
       " 'data_locations': {NY: {'land_max': Theta(NY,land_max)},\n",
       "  SD: {'land_cost': 30},\n",
       "  HO: {'land_cost': 10}},\n",
       " 'data_transports': {Train_H2: {'vopex': 1.667,\n",
       "   'trans_loss': 0.03,\n",
       "   'cap_max': 1000000,\n",
       "   'fopex': Theta(Train_H2,fopex),\n",
       "   'resources': {H2, Power},\n",
       "   'capex': 1000},\n",
       "  Grid: {'vopex': 0.444,\n",
       "   'trans_loss': 0.001,\n",
       "   'cap_max': 1000000,\n",
       "   'resources': {Power},\n",
       "   'capex': 500}},\n",
       " 'data_network': {'distance_dict': {(HO, NY): 2366, (SD, NY): 2620},\n",
       "  'transport_dict': {(HO, NY): {Train_H2}, (SD, NY): {Grid}},\n",
       "  'land_max': Theta(network,land_max)}}"
      ]
     },
     "execution_count": 65,
     "metadata": {},
     "output_type": "execute_result"
    }
   ],
   "source": [
    "scenario.__dict__"
   ]
  },
  {
   "cell_type": "code",
   "execution_count": null,
   "metadata": {},
   "outputs": [
    {
     "data": {
      "text/plain": [
       "{LiI_Power_stored: {'store_max': 10000},\n",
       " Solar: {'availability': 100},\n",
       " Power: {'demand': {HO: Theta(Power,HO,demand), NY: 40, as: 40}},\n",
       " H2O: {'purchase_price': 0.001, 'availability': 100},\n",
       " CO2_Vent: {'sell_price': 20},\n",
       " Wind: {'availability': 100},\n",
       " CH4: {'purchase_price': 1, 'availability': 100},\n",
       " CO2(Aq): {'store_max': 10000}}"
      ]
     },
     "execution_count": 42,
     "metadata": {},
     "output_type": "execute_result"
    }
   ],
   "source": [
    "scenario.__dict__"
   ]
  },
  {
   "cell_type": "code",
   "execution_count": 43,
   "metadata": {},
   "outputs": [
    {
     "name": "stdout",
     "output_type": "stream",
     "text": [
      "LiI_Power_stored {<ResourceParamType.STORE_MAX: 5>: <ParameterType.CERTAIN: 1>}\n",
      "H2 None\n",
      "Solar {<ResourceParamType.AVAILABILITY: 3>: <ParameterType.CERTAIN: 1>}\n",
      "Power {<ResourceParamType.DEMAND: 4>: {HO: <ParameterType.UNCERTAIN: 2>, NY: <ParameterType.UNCERTAIN: 2>, as: <ParameterType.UNCERTAIN: 2>}}\n",
      "H2O {<ResourceParamType.PURCHASE_PRICE: 2>: <ParameterType.CERTAIN: 1>, <ResourceParamType.AVAILABILITY: 3>: <ParameterType.CERTAIN: 1>}\n",
      "CO2_Vent {<ResourceParamType.SELL_PRICE: 1>: <ParameterType.CERTAIN: 1>}\n",
      "Wind {<ResourceParamType.AVAILABILITY: 3>: <ParameterType.CERTAIN: 1>}\n",
      "CO2 None\n",
      "CH4 {<ResourceParamType.PURCHASE_PRICE: 2>: <ParameterType.CERTAIN: 1>, <ResourceParamType.AVAILABILITY: 3>: <ParameterType.CERTAIN: 1>}\n",
      "CO2(Aq) {<ResourceParamType.STORE_MAX: 5>: <ParameterType.CERTAIN: 1>}\n",
      "O2 None\n"
     ]
    }
   ],
   "source": [
    "for i in scenario.resources:\n",
    "    print(i, i.ptype)"
   ]
  },
  {
   "cell_type": "code",
   "execution_count": 44,
   "metadata": {},
   "outputs": [
    {
     "data": {
      "text/plain": [
       "{Power}"
      ]
     },
     "execution_count": 44,
     "metadata": {},
     "output_type": "execute_result"
    }
   ],
   "source": [
    "houston.resources_demand"
   ]
  },
  {
   "cell_type": "code",
   "execution_count": 45,
   "metadata": {},
   "outputs": [
    {
     "name": "stdout",
     "output_type": "stream",
     "text": [
      "{'RESOURCE_PURCHASE_PRICE': {SD, HO}}\n",
      "{'PROCESS_CAPACITY': {NY, as, SD, HO}, 'PROCESS_CREDIT': {HO}}\n",
      "{'LOCATION_LAND_COST'}\n",
      "{'TRANSPORT_VOPEX': {(HO, SD)}, 'TRANSPORT_CAPACITY': {(HO, NY), (SD, NY)}}\n",
      "{'NETWORK_LAND_MAX'}\n"
     ]
    }
   ],
   "source": [
    "print(CH4.ftype)\n",
    "print(PV.ftype)\n",
    "print(sandiego.ftype)\n",
    "print(Train_H2.ftype)\n",
    "print(network.ftype)"
   ]
  },
  {
   "cell_type": "code",
   "execution_count": 46,
   "metadata": {},
   "outputs": [
    {
     "name": "stdout",
     "output_type": "stream",
     "text": [
      "{'RESOURCE_PURCHASE_PRICE': {HO: Factor(CH4,HO,purchase_price), SD: Factor(CH4,SD,purchase_price)}}\n",
      "{'PROCESS_CAPACITY': {HO: Factor(PV,HO,capacity), SD: Factor(PV,SD,capacity), NY: Factor(PV,NY,capacity), as: Factor(PV,as,capacity)}, 'PROCESS_CREDIT': {HO: Factor(PV,HO,credit)}}\n",
      "{'LOCATION_LAND_COST': Factor(SD,land_cost)}\n",
      "{'TRANSPORT_VOPEX': {(HO, SD): Factor(Train_H2,(HO,SD),vopex)}, 'TRANSPORT_CAPACITY': {(HO, NY): Factor(Train_H2,(HO,NY),capacity), (SD, NY): Factor(Train_H2,(SD,NY),capacity)}}\n",
      "{'NETWORK_LAND_MAX': Factor(network,land_max)}\n"
     ]
    }
   ],
   "source": [
    "print(CH4.factors)\n",
    "print(PV.factors)\n",
    "print(sandiego.factors)\n",
    "print(Train_H2.factors)\n",
    "print(network.factors)"
   ]
  },
  {
   "cell_type": "code",
   "execution_count": 47,
   "metadata": {},
   "outputs": [
    {
     "name": "stdout",
     "output_type": "stream",
     "text": [
      "{'RESOURCE_PURCHASE_PRICE': {NY, as, SD}}\n",
      "{'PROCESS_CAP_MAX': {NY, as}}\n"
     ]
    }
   ],
   "source": [
    "print(CH4.ltype)\n",
    "print(PV.ltype)"
   ]
  },
  {
   "cell_type": "code",
   "execution_count": 48,
   "metadata": {},
   "outputs": [
    {
     "name": "stdout",
     "output_type": "stream",
     "text": [
      "{'RESOURCE_PURCHASE_PRICE': {SD: Localize(CH4,SD,purchase_price), NY: Localize(CH4,NY,purchase_price), as: Localize(CH4,as,purchase_price)}}\n",
      "{'PROCESS_CAP_MAX': {NY: Localize(PV,NY,cap_max), as: Localize(PV,as,cap_max)}}\n"
     ]
    }
   ],
   "source": [
    "print(CH4.localizations)\n",
    "print(PV.localizations)"
   ]
  },
  {
   "cell_type": "code",
   "execution_count": 49,
   "metadata": {},
   "outputs": [
    {
     "data": {
      "text/plain": [
       "'PROCESS_CAP_MAX'"
      ]
     },
     "execution_count": 49,
     "metadata": {},
     "output_type": "execute_result"
    }
   ],
   "source": [
    "PV.localizations['PROCESS_CAP_MAX'][newyork].ltype"
   ]
  },
  {
   "cell_type": "code",
   "execution_count": 50,
   "metadata": {},
   "outputs": [
    {
     "name": "stdout",
     "output_type": "stream",
     "text": [
      "[<ScaleType.MULTI: 1>, <ScaleType.SCHEDULING: 4>]\n",
      "[<ResourceType.DISCHARGE: 4>, <ResourceType.PRODUCE: 2>, {<ResourceType.DEMAND: 8>: {NY, as, HO}}, <ResourceType.TRANSPORT: 9>, <ResourceType.TRANSPORT: 9>]\n",
      "[<ProcessType.MULTI_PRODMODE: 2>, <ProcessType.NO_MATMODE: 3>, <ProcessType.LINEAR_CAPEX: 9>, <ProcessType.EXPENDITURE: 14>, {<ProcessType.CREDIT: 12>: {NY, as, HO}}, {<ProcessType.INTERMITTENT: 11>: {NY, as, SD, HO}}]\n",
      "[<LocationType.LAND: 3>, <LocationType.SOURCE: 1>, <LocationType.SOURCE: 1>]\n",
      "[<TransportType.NO_MATMODE: 1>, <TransportType.LINEAR_CAPEX: 4>, <TransportType.EXPENDITURE: 8>, <TransportType.EMISSION: 11>, {<TransportType.INTERMITTENT: 6>: {(HO, NY), (SD, NY)}}]\n",
      "[<NetworkType.LAND: 1>]\n"
     ]
    }
   ],
   "source": [
    "print(scales.ctype)\n",
    "print(Power.ctype)\n",
    "print(PV.ctype)\n",
    "print(sandiego.ctype)\n",
    "print(Train_H2.ctype)\n",
    "print(network.ctype)"
   ]
  },
  {
   "cell_type": "code",
   "execution_count": 51,
   "metadata": {},
   "outputs": [
    {
     "name": "stdout",
     "output_type": "stream",
     "text": [
      "{<ResourceParamType.DEMAND: 4>: {HO: <ParameterType.UNCERTAIN: 2>, NY: <ParameterType.UNCERTAIN: 2>, as: <ParameterType.UNCERTAIN: 2>}}\n",
      "{<ProcessParamType.CAP_MAX: 1>: <ParameterType.CERTAIN: 1>, <ProcessParamType.CAPEX: 4>: <ParameterType.CERTAIN: 1>, <ProcessParamType.CAPACITY: 8>: <ParameterType.CERTAIN: 1>, <ProcessParamType.FOPEX: 5>: <ParameterType.CERTAIN: 1>, <ProcessParamType.CREDIT: 9>: {HO: <ParameterType.UNCERTAIN: 2>, NY: <ParameterType.UNCERTAIN: 2>, as: <ParameterType.UNCERTAIN: 2>}}\n",
      "{<LocationParamType.LAND_COST: 1>: <ParameterType.CERTAIN: 1>}\n",
      "{<TransportParamType.CAP_MAX: 1>: <ParameterType.CERTAIN: 1>, <TransportParamType.CAPEX: 4>: <ParameterType.CERTAIN: 1>, <TransportParamType.FOPEX: 5>: <ParameterType.UNCERTAIN: 2>, <TransportParamType.VOPEX: 6>: <ParameterType.CERTAIN: 1>, <TransportParamType.CAPACITY: 8>: <ParameterType.CERTAIN: 1>, <TransportParamType.TRANS_LOSS: 9>: <ParameterType.CERTAIN: 1>}\n",
      "{<NetworkParamType.LAND_MAX: 1>: <ParameterType.UNCERTAIN: 2>}\n"
     ]
    }
   ],
   "source": [
    "print(Power.ptype)\n",
    "print(PV.ptype)\n",
    "print(sandiego.ptype)\n",
    "print(Train_H2.ptype)\n",
    "print(network.ptype)"
   ]
  },
  {
   "cell_type": "code",
   "execution_count": 52,
   "metadata": {},
   "outputs": [
    {
     "data": {
      "text/plain": [
       "{CH4, H2O, Solar, Wind}"
      ]
     },
     "execution_count": 52,
     "metadata": {},
     "output_type": "execute_result"
    }
   ],
   "source": [
    "houston.resources_consume"
   ]
  },
  {
   "cell_type": "code",
   "execution_count": 53,
   "metadata": {},
   "outputs": [
    {
     "data": {
      "text/plain": [
       "{'distance_dict': {(HO, NY): 2366, (SD, NY): 2620},\n",
       " 'transport_dict': {(HO, NY): {Train_H2}, (SD, NY): {Grid}},\n",
       " 'land_max': Theta(network,land_max)}"
      ]
     },
     "execution_count": 53,
     "metadata": {},
     "output_type": "execute_result"
    }
   ],
   "source": [
    "scenario.data_network"
   ]
  },
  {
   "cell_type": "code",
   "execution_count": 54,
   "metadata": {},
   "outputs": [
    {
     "data": {
      "text/plain": [
       "{SD: Theta(AQoff_SMR,SD,credit)}"
      ]
     },
     "execution_count": 54,
     "metadata": {},
     "output_type": "execute_result"
    }
   ],
   "source": [
    "AQoff_SMR.credit"
   ]
  },
  {
   "cell_type": "code",
   "execution_count": 55,
   "metadata": {},
   "outputs": [
    {
     "data": {
      "text/plain": [
       "Theta(network,land_max)"
      ]
     },
     "execution_count": 55,
     "metadata": {},
     "output_type": "execute_result"
    }
   ],
   "source": [
    "network.land_max"
   ]
  },
  {
   "cell_type": "code",
   "execution_count": 56,
   "metadata": {},
   "outputs": [
    {
     "name": "stdout",
     "output_type": "stream",
     "text": [
      "asa\n"
     ]
    }
   ],
   "source": [
    "a = ['as']\n",
    "\n",
    "if a:\n",
    "    print('asa')"
   ]
  },
  {
   "cell_type": "code",
   "execution_count": 57,
   "metadata": {},
   "outputs": [
    {
     "data": {
      "text/plain": [
       "{(HO, NY): {'Train_H2'}, (SD, NY): {'Grid'}}"
      ]
     },
     "execution_count": 57,
     "metadata": {},
     "output_type": "execute_result"
    }
   ],
   "source": [
    "network.transport_avail_dict"
   ]
  },
  {
   "cell_type": "code",
   "execution_count": 58,
   "metadata": {},
   "outputs": [
    {
     "data": {
      "text/plain": [
       "{(HO, NY): {Train_H2}, (SD, NY): {Grid}}"
      ]
     },
     "execution_count": 58,
     "metadata": {},
     "output_type": "execute_result"
    }
   ],
   "source": [
    "network.transport_dict"
   ]
  },
  {
   "cell_type": "code",
   "execution_count": 59,
   "metadata": {},
   "outputs": [
    {
     "data": {
      "text/plain": [
       "{(HO, NY): 2366, (SD, NY): 2620}"
      ]
     },
     "execution_count": 59,
     "metadata": {},
     "output_type": "execute_result"
    }
   ],
   "source": [
    "network.distance_dict"
   ]
  },
  {
   "cell_type": "code",
   "execution_count": 60,
   "metadata": {},
   "outputs": [
    {
     "data": {
      "text/plain": [
       "['a', 's']"
      ]
     },
     "execution_count": 60,
     "metadata": {},
     "output_type": "execute_result"
    }
   ],
   "source": [
    "list('as')"
   ]
  },
  {
   "cell_type": "code",
   "execution_count": 61,
   "metadata": {},
   "outputs": [],
   "source": [
    "a = set()"
   ]
  },
  {
   "cell_type": "code",
   "execution_count": 62,
   "metadata": {},
   "outputs": [],
   "source": [
    "a.add('as')"
   ]
  },
  {
   "cell_type": "code",
   "execution_count": 63,
   "metadata": {},
   "outputs": [
    {
     "data": {
      "text/plain": [
       "{'as'}"
      ]
     },
     "execution_count": 63,
     "metadata": {},
     "output_type": "execute_result"
    }
   ],
   "source": [
    "a"
   ]
  },
  {
   "cell_type": "code",
   "execution_count": null,
   "metadata": {},
   "outputs": [],
   "source": [
    "plot_scenario.capacity_factor(scenario = scenario, location= houston, process= PV, fig_size= (9,5), color= 'orange')\n"
   ]
  },
  {
   "attachments": {},
   "cell_type": "markdown",
   "metadata": {},
   "source": [
    "![cap fac pv](plots/cf_ho.png)"
   ]
  },
  {
   "cell_type": "code",
   "execution_count": null,
   "metadata": {},
   "outputs": [],
   "source": [
    "plot_scenario.capacity_factor(scenario = scenario, location= sandiego, process= WF, fig_size= (9,5), color= 'blue')\n"
   ]
  },
  {
   "attachments": {},
   "cell_type": "markdown",
   "metadata": {},
   "source": [
    "![cap fac wf](plots/wf_sd.png)"
   ]
  },
  {
   "cell_type": "code",
   "execution_count": null,
   "metadata": {},
   "outputs": [],
   "source": [
    "plot_scenario.demand_factor(scenario = scenario, location= newyork, resource= Power, fig_size= (9,5), color= 'red')\n"
   ]
  },
  {
   "attachments": {},
   "cell_type": "markdown",
   "metadata": {},
   "source": [
    "![df ny](plots/df_ny.png)"
   ]
  },
  {
   "attachments": {},
   "cell_type": "markdown",
   "metadata": {},
   "source": [
    "## Optimize for minimum cost"
   ]
  },
  {
   "cell_type": "code",
   "execution_count": null,
   "metadata": {},
   "outputs": [],
   "source": [
    "milp_cost = formulate(scenario= scenario, constraints={Constraints.COST, Constraints.INVENTORY, Constraints.PRODUCTION, Constraints.RESOURCE_BALANCE, Constraints.TRANSPORT, Constraints.MODE, Constraints.NETWORK},  objective=Objective.COST)"
   ]
  },
  {
   "attachments": {},
   "cell_type": "markdown",
   "metadata": {},
   "source": [
    "**Ensure no discharge of power in Houston and San Diego**\n",
    "\n",
    "While the demand for power is zero in these locations, Power is still a dischargeable resource. Hence, the discharge bounds need to be set to zero.\n",
    "If not set to zero, the system chooses to dispense power instead of establishing storage networks."
   ]
  },
  {
   "cell_type": "code",
   "execution_count": null,
   "metadata": {},
   "outputs": [],
   "source": [
    "\n",
    "milp_cost.constraint_specific_location_discharge_ho = constraint_specific_location_discharge(\n",
    "        instance=milp_cost, network_scale_level=0, bounds={Power: 0}, location = houston)\n",
    "milp_cost.constraint_specific_location_discharge_sd = constraint_specific_location_discharge(\n",
    "        instance=milp_cost, network_scale_level=0, bounds={Power: 0}, location = sandiego)\n"
   ]
  },
  {
   "cell_type": "code",
   "execution_count": null,
   "metadata": {},
   "outputs": [],
   "source": [
    "\n",
    "results_cost = solve(scenario = scenario, instance= milp_cost, solver= 'gurobi', name=\"results_cost\", print_solversteps = True)\n"
   ]
  },
  {
   "attachments": {},
   "cell_type": "markdown",
   "metadata": {},
   "source": [
    "**Schedule for transport of hydrogen**"
   ]
  },
  {
   "cell_type": "code",
   "execution_count": null,
   "metadata": {},
   "outputs": [],
   "source": [
    "plot_results.transport(results=results_cost, source='SD', sink='NY', resource='H2', transport='Train_H2')\n"
   ]
  },
  {
   "attachments": {},
   "cell_type": "markdown",
   "metadata": {},
   "source": [
    "![sch t sdny](plots/sch_sdny.png)"
   ]
  },
  {
   "cell_type": "code",
   "execution_count": null,
   "metadata": {},
   "outputs": [],
   "source": [
    "plot_results.transport(results=results_cost, source='HO', sink='NY', resource='H2', transport='Train_H2')"
   ]
  },
  {
   "attachments": {},
   "cell_type": "markdown",
   "metadata": {},
   "source": [
    "![sch hony](plots/sch_hony.png)"
   ]
  },
  {
   "attachments": {},
   "cell_type": "markdown",
   "metadata": {},
   "source": [
    "**Cost contribution by technology**"
   ]
  },
  {
   "cell_type": "code",
   "execution_count": null,
   "metadata": {},
   "outputs": [],
   "source": [
    "plot_results.cost(results= results_cost, x = CostX.PROCESS_WISE, y = CostY.CAPEX, location= 'HO', fig_size= (8,6))\n",
    "plot_results.cost(results= results_cost, x = CostX.PROCESS_WISE, y = CostY.VOPEX, location= 'HO', fig_size= (8,6))\n",
    "plot_results.cost(results= results_cost, x = CostX.PROCESS_WISE, y = CostY.FOPEX, location= 'HO', fig_size= (8,6))\n",
    "plot_results.cost(results= results_cost, x = CostX.PROCESS_WISE, y = CostY.TOTAL, location= 'HO', fig_size= (8,6))"
   ]
  },
  {
   "attachments": {},
   "cell_type": "markdown",
   "metadata": {},
   "source": [
    "![total cost ho](plots/total_ho.png)"
   ]
  },
  {
   "attachments": {},
   "cell_type": "markdown",
   "metadata": {},
   "source": [
    "**Location-wise cost contribution by technology**"
   ]
  },
  {
   "cell_type": "code",
   "execution_count": null,
   "metadata": {},
   "outputs": [],
   "source": [
    "\n",
    "plot_results.cost(results= results_cost, x = CostX.LOCATION_WISE, y = CostY.CAPEX, fig_size= (8,6))\n",
    "plot_results.cost(results= results_cost, x = CostX.LOCATION_WISE, y = CostY.VOPEX, fig_size= (8,6))\n",
    "plot_results.cost(results= results_cost, x = CostX.LOCATION_WISE, y = CostY.FOPEX, fig_size= (8,6))\n",
    "plot_results.cost(results= results_cost, x = CostX.LOCATION_WISE, y = CostY.TOTAL, fig_size= (8,6))"
   ]
  },
  {
   "attachments": {},
   "cell_type": "markdown",
   "metadata": {},
   "source": [
    "![total lw](plots/total_lw.png)"
   ]
  },
  {
   "attachments": {},
   "cell_type": "markdown",
   "metadata": {},
   "source": [
    "**Inventory and production schedules**"
   ]
  },
  {
   "cell_type": "code",
   "execution_count": null,
   "metadata": {},
   "outputs": [],
   "source": [
    "plot_results.schedule(results= results_cost, y_axis= 'Inv', component= 'LiI_Power_stored', location = 'SD', fig_size= (9,5), color = 'steelblue')"
   ]
  },
  {
   "attachments": {},
   "cell_type": "markdown",
   "metadata": {},
   "source": [
    "![inv lii](plots/lii_inv.png)"
   ]
  },
  {
   "cell_type": "code",
   "execution_count": null,
   "metadata": {},
   "outputs": [],
   "source": [
    "plot_results.schedule(results= results_cost, y_axis= 'P', component= 'PV', location = 'SD', fig_size= (9,5), color = 'steelblue')"
   ]
  },
  {
   "attachments": {},
   "cell_type": "markdown",
   "metadata": {},
   "source": [
    "![pv p](plots/pv_p.png)"
   ]
  },
  {
   "attachments": {},
   "cell_type": "markdown",
   "metadata": {},
   "source": [
    "## Optimize to maximize resource discharge "
   ]
  },
  {
   "cell_type": "code",
   "execution_count": null,
   "metadata": {},
   "outputs": [],
   "source": [
    "\n",
    "milp_demand = formulate(scenario=scenario, constraints={Constraints.COST, Constraints.INVENTORY, Constraints.PRODUCTION,\n",
    "                        Constraints.RESOURCE_BALANCE, Constraints.TRANSPORT, Constraints.MODE, Constraints.NETWORK},  objective=Objective.MAX_DISCHARGE, objective_resource=Power)\n"
   ]
  },
  {
   "cell_type": "code",
   "execution_count": null,
   "metadata": {},
   "outputs": [],
   "source": [
    "\n",
    "milp_demand.constraint_specific_location_discharge_ho = constraint_specific_location_discharge(\n",
    "        instance=milp_demand, network_scale_level=0, bounds={Power: 0}, location = houston)\n",
    "milp_demand.constraint_specific_location_discharge_sd = constraint_specific_location_discharge(\n",
    "        instance=milp_demand, network_scale_level=0, bounds={Power: 0}, location = sandiego)\n"
   ]
  },
  {
   "cell_type": "code",
   "execution_count": null,
   "metadata": {},
   "outputs": [],
   "source": [
    "\n",
    "results_demand = solve(scenario=scenario, instance=milp_demand, solver='gurobi',\n",
    "                       name=\"results_demand\", print_solversteps=True)\n"
   ]
  },
  {
   "attachments": {},
   "cell_type": "markdown",
   "metadata": {},
   "source": [
    "**Schedule for transport of hydrogen**"
   ]
  },
  {
   "cell_type": "code",
   "execution_count": null,
   "metadata": {},
   "outputs": [],
   "source": [
    "plot_results.transport(results=results_demand, source='SD', sink='NY', resource='H2', transport='Train_H2')\n"
   ]
  },
  {
   "attachments": {},
   "cell_type": "markdown",
   "metadata": {},
   "source": [
    "![sch t sdny2](plots/sch_sdny2.png)"
   ]
  },
  {
   "cell_type": "code",
   "execution_count": null,
   "metadata": {},
   "outputs": [],
   "source": [
    "plot_results.transport(results=results_demand, source='HO', sink='NY', resource='H2', transport='Train_H2')"
   ]
  },
  {
   "attachments": {},
   "cell_type": "markdown",
   "metadata": {},
   "source": [
    "![sch t hony](plots/sch_hony2.png)"
   ]
  }
 ],
 "metadata": {
  "kernelspec": {
   "display_name": "Python 3.10.5 ('ki': venv)",
   "language": "python",
   "name": "python3"
  },
  "language_info": {
   "codemirror_mode": {
    "name": "ipython",
    "version": 3
   },
   "file_extension": ".py",
   "mimetype": "text/x-python",
   "name": "python",
   "nbconvert_exporter": "python",
   "pygments_lexer": "ipython3",
   "version": "3.10.5"
  },
  "orig_nbformat": 4,
  "vscode": {
   "interpreter": {
    "hash": "a4a97498e3c1bfef05f70a75d4fcafcb7b5c9c4ed86429a4e7bee46eaa890f24"
   }
  }
 },
 "nbformat": 4,
 "nbformat_minor": 2
}
