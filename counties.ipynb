{
 "cells": [
  {
   "cell_type": "code",
   "execution_count": 1,
   "metadata": {},
   "outputs": [],
   "source": [
    "import sys\n",
    "sys.path.append('src')\n",
    "import pandas"
   ]
  },
  {
   "cell_type": "code",
   "execution_count": 2,
   "metadata": {},
   "outputs": [],
   "source": [
    "from energiapy.utils.nsrdb_utils import fetch_nsrdb_data"
   ]
  },
  {
   "cell_type": "code",
   "execution_count": 3,
   "metadata": {},
   "outputs": [],
   "source": [
    "county_df = pandas.read_csv('Texas_Counties_Centroid_Map.csv')"
   ]
  },
  {
   "cell_type": "code",
   "execution_count": 4,
   "metadata": {},
   "outputs": [
    {
     "data": {
      "text/html": [
       "<div>\n",
       "<style scoped>\n",
       "    .dataframe tbody tr th:only-of-type {\n",
       "        vertical-align: middle;\n",
       "    }\n",
       "\n",
       "    .dataframe tbody tr th {\n",
       "        vertical-align: top;\n",
       "    }\n",
       "\n",
       "    .dataframe thead th {\n",
       "        text-align: right;\n",
       "    }\n",
       "</style>\n",
       "<table border=\"1\" class=\"dataframe\">\n",
       "  <thead>\n",
       "    <tr style=\"text-align: right;\">\n",
       "      <th></th>\n",
       "      <th>X (Lat)</th>\n",
       "      <th>Y (Long)</th>\n",
       "      <th>CNTY_NM</th>\n",
       "      <th>CNTY_NBR</th>\n",
       "      <th>FIPS</th>\n",
       "      <th>Shape_Leng</th>\n",
       "      <th>Shape_Area</th>\n",
       "      <th>County Centroid Location</th>\n",
       "    </tr>\n",
       "  </thead>\n",
       "  <tbody>\n",
       "    <tr>\n",
       "      <th>0</th>\n",
       "      <td>33.974085</td>\n",
       "      <td>-99.778711</td>\n",
       "      <td>Foard</td>\n",
       "      <td>79</td>\n",
       "      <td>48155</td>\n",
       "      <td>2.302711</td>\n",
       "      <td>0.177999</td>\n",
       "      <td>POINT (-99.77871109 33.97408519)</td>\n",
       "    </tr>\n",
       "    <tr>\n",
       "      <th>1</th>\n",
       "      <td>30.266361</td>\n",
       "      <td>-98.399741</td>\n",
       "      <td>Blanco</td>\n",
       "      <td>16</td>\n",
       "      <td>48031</td>\n",
       "      <td>1.683597</td>\n",
       "      <td>0.173306</td>\n",
       "      <td>POINT (-98.39974086 30.26636128)</td>\n",
       "    </tr>\n",
       "    <tr>\n",
       "      <th>2</th>\n",
       "      <td>33.607504</td>\n",
       "      <td>-102.343092</td>\n",
       "      <td>Hockley</td>\n",
       "      <td>111</td>\n",
       "      <td>48219</td>\n",
       "      <td>1.922124</td>\n",
       "      <td>0.228718</td>\n",
       "      <td>POINT (-102.3430919 33.60750375)</td>\n",
       "    </tr>\n",
       "    <tr>\n",
       "      <th>3</th>\n",
       "      <td>30.705666</td>\n",
       "      <td>-98.683874</td>\n",
       "      <td>Llano</td>\n",
       "      <td>150</td>\n",
       "      <td>48299</td>\n",
       "      <td>2.323276</td>\n",
       "      <td>0.235689</td>\n",
       "      <td>POINT (-98.68387398 30.70566579)</td>\n",
       "    </tr>\n",
       "    <tr>\n",
       "      <th>4</th>\n",
       "      <td>34.530650</td>\n",
       "      <td>-101.734951</td>\n",
       "      <td>Swisher</td>\n",
       "      <td>219</td>\n",
       "      <td>48437</td>\n",
       "      <td>1.924577</td>\n",
       "      <td>0.229376</td>\n",
       "      <td>POINT (-101.734951 34.53064989)</td>\n",
       "    </tr>\n",
       "    <tr>\n",
       "      <th>...</th>\n",
       "      <td>...</td>\n",
       "      <td>...</td>\n",
       "      <td>...</td>\n",
       "      <td>...</td>\n",
       "      <td>...</td>\n",
       "      <td>...</td>\n",
       "      <td>...</td>\n",
       "      <td>...</td>\n",
       "    </tr>\n",
       "    <tr>\n",
       "      <th>249</th>\n",
       "      <td>32.301382</td>\n",
       "      <td>-99.890039</td>\n",
       "      <td>Taylor</td>\n",
       "      <td>221</td>\n",
       "      <td>48441</td>\n",
       "      <td>1.920012</td>\n",
       "      <td>0.227959</td>\n",
       "      <td>POINT (-99.89003941 32.30138229)</td>\n",
       "    </tr>\n",
       "    <tr>\n",
       "      <th>250</th>\n",
       "      <td>27.000891</td>\n",
       "      <td>-99.168601</td>\n",
       "      <td>Zapata</td>\n",
       "      <td>253</td>\n",
       "      <td>48505</td>\n",
       "      <td>2.246982</td>\n",
       "      <td>0.249215</td>\n",
       "      <td>POINT (-99.16860134 27.00089072)</td>\n",
       "    </tr>\n",
       "    <tr>\n",
       "      <th>251</th>\n",
       "      <td>28.009222</td>\n",
       "      <td>-97.518599</td>\n",
       "      <td>San Patricio</td>\n",
       "      <td>205</td>\n",
       "      <td>48409</td>\n",
       "      <td>3.462106</td>\n",
       "      <td>0.167654</td>\n",
       "      <td>POINT (-97.51859857 28.00922186)</td>\n",
       "    </tr>\n",
       "    <tr>\n",
       "      <th>252</th>\n",
       "      <td>30.543607</td>\n",
       "      <td>-95.985573</td>\n",
       "      <td>Grimes</td>\n",
       "      <td>94</td>\n",
       "      <td>48185</td>\n",
       "      <td>2.427391</td>\n",
       "      <td>0.195299</td>\n",
       "      <td>POINT (-95.98557334 30.54360689)</td>\n",
       "    </tr>\n",
       "    <tr>\n",
       "      <th>253</th>\n",
       "      <td>34.068612</td>\n",
       "      <td>-102.351709</td>\n",
       "      <td>Lamb</td>\n",
       "      <td>140</td>\n",
       "      <td>48279</td>\n",
       "      <td>2.031175</td>\n",
       "      <td>0.257465</td>\n",
       "      <td>POINT (-102.3517095 34.06861242)</td>\n",
       "    </tr>\n",
       "  </tbody>\n",
       "</table>\n",
       "<p>254 rows × 8 columns</p>\n",
       "</div>"
      ],
      "text/plain": [
       "       X (Lat)    Y (Long)       CNTY_NM  CNTY_NBR   FIPS  Shape_Leng  \\\n",
       "0    33.974085  -99.778711         Foard        79  48155    2.302711   \n",
       "1    30.266361  -98.399741        Blanco        16  48031    1.683597   \n",
       "2    33.607504 -102.343092       Hockley       111  48219    1.922124   \n",
       "3    30.705666  -98.683874         Llano       150  48299    2.323276   \n",
       "4    34.530650 -101.734951       Swisher       219  48437    1.924577   \n",
       "..         ...         ...           ...       ...    ...         ...   \n",
       "249  32.301382  -99.890039        Taylor       221  48441    1.920012   \n",
       "250  27.000891  -99.168601        Zapata       253  48505    2.246982   \n",
       "251  28.009222  -97.518599  San Patricio       205  48409    3.462106   \n",
       "252  30.543607  -95.985573        Grimes        94  48185    2.427391   \n",
       "253  34.068612 -102.351709          Lamb       140  48279    2.031175   \n",
       "\n",
       "     Shape_Area          County Centroid Location  \n",
       "0      0.177999  POINT (-99.77871109 33.97408519)  \n",
       "1      0.173306  POINT (-98.39974086 30.26636128)  \n",
       "2      0.228718  POINT (-102.3430919 33.60750375)  \n",
       "3      0.235689  POINT (-98.68387398 30.70566579)  \n",
       "4      0.229376   POINT (-101.734951 34.53064989)  \n",
       "..          ...                               ...  \n",
       "249    0.227959  POINT (-99.89003941 32.30138229)  \n",
       "250    0.249215  POINT (-99.16860134 27.00089072)  \n",
       "251    0.167654  POINT (-97.51859857 28.00922186)  \n",
       "252    0.195299  POINT (-95.98557334 30.54360689)  \n",
       "253    0.257465  POINT (-102.3517095 34.06861242)  \n",
       "\n",
       "[254 rows x 8 columns]"
      ]
     },
     "execution_count": 4,
     "metadata": {},
     "output_type": "execute_result"
    }
   ],
   "source": [
    "county_df"
   ]
  },
  {
   "cell_type": "code",
   "execution_count": 5,
   "metadata": {},
   "outputs": [],
   "source": [
    "county_list = county_df['CNTY_NM']"
   ]
  },
  {
   "cell_type": "code",
   "execution_count": 6,
   "metadata": {},
   "outputs": [
    {
     "name": "stdout",
     "output_type": "stream",
     "text": [
      "Help on function fetch_nsrdb_data in module energiapy.utils.nsrdb_utils:\n",
      "\n",
      "fetch_nsrdb_data(attrs: List[str], year: int, lat_lon: Tuple[float] = None, state: str = '', county: str = '', resolution: str = '', get: str = 'max-population', save: str = None) -> Union[pandas.core.frame.DataFrame, tuple]\n",
      "    fetches nsrdb data from nearest coordinates (latitude, longitude)\n",
      "    or from county in a state matching a particular 'get' metric\n",
      "    \n",
      "    Args:\n",
      "        attrs (List[str]): attributes to fetch ['air_temperature', 'clearsky_dhi', 'clearsky_dni', 'clearsky_ghi', 'cloud_type', 'coordinates', 'dew_point', 'dhi', 'dni', 'fill_flag', 'ghi', 'meta', 'relative_humidity', 'solar_zenith_angle', 'surface_albedo', 'surface_pressure', 'time_index', 'total_precipitable_water', 'wind_direction', 'wind_speed']\n",
      "        year (int): year of choice, e.g. 2019\n",
      "        lat_lon (Tuple[float], optional): (latitude, longitude) to fetch closest data point. Defaults to None.\n",
      "        state (str, optional): capitalized state name, e.g. 'Texas' . Defaults to ''.\n",
      "        county (str, optional): capitalized county name, e.g. 'Brazos' . Defaults to ''.\n",
      "        resolution (str, optional): choose from 'halfhourly', 'hourly', 'daily'. Defaults to ''.\n",
      "        get (str, optional): Defaults to 'max-population'. From within county choose the data point that matches one of the following. 'max-population', 'max-elevation', 'max-landcover' 'min-population', 'min-elevation', 'min-landcover'\n",
      "    \n",
      "    Returns:\n",
      "        pandas.DataFrame, tuple: Dataframe with output data, (latitude, longitude)\n",
      "\n"
     ]
    }
   ],
   "source": [
    "help(fetch_nsrdb_data)"
   ]
  },
  {
   "cell_type": "code",
   "execution_count": 7,
   "metadata": {},
   "outputs": [
    {
     "data": {
      "text/plain": [
       "30.6610425"
      ]
     },
     "execution_count": 7,
     "metadata": {},
     "output_type": "execute_result"
    }
   ],
   "source": [
    "county_df[county_df['CNTY_NM'] == 'Brazos']['X (Lat)'].values[0]"
   ]
  },
  {
   "cell_type": "code",
   "execution_count": 8,
   "metadata": {},
   "outputs": [
    {
     "ename": "KeyboardInterrupt",
     "evalue": "",
     "output_type": "error",
     "traceback": [
      "\u001b[1;31m---------------------------------------------------------------------------\u001b[0m",
      "\u001b[1;31mKeyboardInterrupt\u001b[0m                         Traceback (most recent call last)",
      "Cell \u001b[1;32mIn[8], line 2\u001b[0m\n\u001b[0;32m      1\u001b[0m \u001b[39mfor\u001b[39;00m county \u001b[39min\u001b[39;00m county_list:\n\u001b[1;32m----> 2\u001b[0m     fetch_nsrdb_data(attrs\u001b[39m=\u001b[39;49m[\u001b[39m'\u001b[39;49m\u001b[39mghi\u001b[39;49m\u001b[39m'\u001b[39;49m, \u001b[39m'\u001b[39;49m\u001b[39mwind_speed\u001b[39;49m\u001b[39m'\u001b[39;49m], year\u001b[39m=\u001b[39;49m\u001b[39m2020\u001b[39;49m , resolution\u001b[39m=\u001b[39;49m \u001b[39m'\u001b[39;49m\u001b[39mhourly\u001b[39;49m\u001b[39m'\u001b[39;49m, lat_lon\u001b[39m=\u001b[39;49m (county_df[county_df[\u001b[39m'\u001b[39;49m\u001b[39mCNTY_NM\u001b[39;49m\u001b[39m'\u001b[39;49m] \u001b[39m==\u001b[39;49m county][\u001b[39m'\u001b[39;49m\u001b[39mX (Lat)\u001b[39;49m\u001b[39m'\u001b[39;49m]\u001b[39m.\u001b[39;49mvalues[\u001b[39m0\u001b[39;49m], county_df[county_df[\u001b[39m'\u001b[39;49m\u001b[39mCNTY_NM\u001b[39;49m\u001b[39m'\u001b[39;49m] \u001b[39m==\u001b[39;49m county][\u001b[39m'\u001b[39;49m\u001b[39mY (Long)\u001b[39;49m\u001b[39m'\u001b[39;49m]\u001b[39m.\u001b[39;49mvalues[\u001b[39m0\u001b[39;49m]))[\u001b[39m1\u001b[39m]\u001b[39m.\u001b[39mto_csv(\u001b[39mf\u001b[39m\u001b[39m'\u001b[39m\u001b[39m{\u001b[39;00mcounty\u001b[39m}\u001b[39;00m\u001b[39m.csv\u001b[39m\u001b[39m'\u001b[39m)\n",
      "File \u001b[1;32mc:\\Users\\cacodcar\\energiapy\\src\\energiapy\\utils\\nsrdb_utils.py:45\u001b[0m, in \u001b[0;36mfetch_nsrdb_data\u001b[1;34m(attrs, year, lat_lon, state, county, resolution, get, save)\u001b[0m\n\u001b[0;32m     41\u001b[0m time_index \u001b[39m=\u001b[39m pandas\u001b[39m.\u001b[39mto_datetime(nsrdb_data[\u001b[39m'\u001b[39m\u001b[39mtime_index\u001b[39m\u001b[39m'\u001b[39m][\u001b[39m.\u001b[39m\u001b[39m.\u001b[39m\u001b[39m.\u001b[39m]\u001b[39m.\u001b[39mastype(\u001b[39mstr\u001b[39m))\n\u001b[0;32m     43\u001b[0m \u001b[39mif\u001b[39;00m lat_lon \u001b[39mis\u001b[39;00m \u001b[39mnot\u001b[39;00m \u001b[39mNone\u001b[39;00m:\n\u001b[0;32m     44\u001b[0m     \u001b[39m# get coordinates for all locations\u001b[39;00m\n\u001b[1;32m---> 45\u001b[0m     coords \u001b[39m=\u001b[39m nsrdb_data[\u001b[39m'\u001b[39;49m\u001b[39mcoordinates\u001b[39;49m\u001b[39m'\u001b[39;49m][\u001b[39m.\u001b[39;49m\u001b[39m.\u001b[39;49m\u001b[39m.\u001b[39;49m]\n\u001b[0;32m     47\u001b[0m     tree \u001b[39m=\u001b[39m cKDTree(coords)\n\u001b[0;32m     49\u001b[0m     \u001b[39m# find the data point closest to latitude and longitude\u001b[39;00m\n",
      "File \u001b[1;32mc:\\Users\\cacodcar\\energiapy\\.venv\\lib\\site-packages\\h5pyd\\_hl\\dataset.py:1171\u001b[0m, in \u001b[0;36mDataset.__getitem__\u001b[1;34m(self, args, new_dtype)\u001b[0m\n\u001b[0;32m   1169\u001b[0m params[\u001b[39m\"\u001b[39m\u001b[39mselect\u001b[39m\u001b[39m\"\u001b[39m] \u001b[39m=\u001b[39m \u001b[39mself\u001b[39m\u001b[39m.\u001b[39m_getQueryParam( page_start, page_stop, sel_step)\n\u001b[0;32m   1170\u001b[0m \u001b[39mtry\u001b[39;00m:\n\u001b[1;32m-> 1171\u001b[0m     rsp \u001b[39m=\u001b[39m \u001b[39mself\u001b[39;49m\u001b[39m.\u001b[39;49mGET(req, params\u001b[39m=\u001b[39;49mparams, \u001b[39mformat\u001b[39;49m\u001b[39m=\u001b[39;49m\u001b[39m\"\u001b[39;49m\u001b[39mbinary\u001b[39;49m\u001b[39m\"\u001b[39;49m)\n\u001b[0;32m   1172\u001b[0m \u001b[39mexcept\u001b[39;00m \u001b[39mIOError\u001b[39;00m \u001b[39mas\u001b[39;00m ioe:\n\u001b[0;32m   1173\u001b[0m     \u001b[39mself\u001b[39m\u001b[39m.\u001b[39mlog\u001b[39m.\u001b[39minfo(\u001b[39mf\u001b[39m\u001b[39m\"\u001b[39m\u001b[39mgot IOError: \u001b[39m\u001b[39m{\u001b[39;00mioe\u001b[39m.\u001b[39merrno\u001b[39m}\u001b[39;00m\u001b[39m\"\u001b[39m)\n",
      "File \u001b[1;32mc:\\Users\\cacodcar\\energiapy\\.venv\\lib\\site-packages\\h5pyd\\_hl\\base.py:974\u001b[0m, in \u001b[0;36mHLObject.GET\u001b[1;34m(self, req, params, use_cache, format)\u001b[0m\n\u001b[0;32m    972\u001b[0m http_chunks \u001b[39m=\u001b[39m []\n\u001b[0;32m    973\u001b[0m downloaded_bytes \u001b[39m=\u001b[39m \u001b[39m0\u001b[39m\n\u001b[1;32m--> 974\u001b[0m \u001b[39mfor\u001b[39;00m http_chunk \u001b[39min\u001b[39;00m rsp\u001b[39m.\u001b[39miter_content(chunk_size\u001b[39m=\u001b[39mHTTP_CHUNK_SIZE):\n\u001b[0;32m    975\u001b[0m     \u001b[39mif\u001b[39;00m http_chunk:  \u001b[39m# filter out keep alive chunks\u001b[39;00m\n\u001b[0;32m    976\u001b[0m         \u001b[39mself\u001b[39m\u001b[39m.\u001b[39mlog\u001b[39m.\u001b[39mdebug(\u001b[39mf\u001b[39m\u001b[39m\"\u001b[39m\u001b[39mgot http_chunk - \u001b[39m\u001b[39m{\u001b[39;00m\u001b[39mlen\u001b[39m(http_chunk)\u001b[39m}\u001b[39;00m\u001b[39m bytes\u001b[39m\u001b[39m\"\u001b[39m)\n",
      "File \u001b[1;32mc:\\Users\\cacodcar\\energiapy\\.venv\\lib\\site-packages\\requests\\models.py:816\u001b[0m, in \u001b[0;36mResponse.iter_content.<locals>.generate\u001b[1;34m()\u001b[0m\n\u001b[0;32m    814\u001b[0m \u001b[39mif\u001b[39;00m \u001b[39mhasattr\u001b[39m(\u001b[39mself\u001b[39m\u001b[39m.\u001b[39mraw, \u001b[39m\"\u001b[39m\u001b[39mstream\u001b[39m\u001b[39m\"\u001b[39m):\n\u001b[0;32m    815\u001b[0m     \u001b[39mtry\u001b[39;00m:\n\u001b[1;32m--> 816\u001b[0m         \u001b[39myield from\u001b[39;00m \u001b[39mself\u001b[39m\u001b[39m.\u001b[39mraw\u001b[39m.\u001b[39mstream(chunk_size, decode_content\u001b[39m=\u001b[39m\u001b[39mTrue\u001b[39;00m)\n\u001b[0;32m    817\u001b[0m     \u001b[39mexcept\u001b[39;00m ProtocolError \u001b[39mas\u001b[39;00m e:\n\u001b[0;32m    818\u001b[0m         \u001b[39mraise\u001b[39;00m ChunkedEncodingError(e)\n",
      "File \u001b[1;32mc:\\Users\\cacodcar\\energiapy\\.venv\\lib\\site-packages\\urllib3\\response.py:940\u001b[0m, in \u001b[0;36mHTTPResponse.stream\u001b[1;34m(self, amt, decode_content)\u001b[0m\n\u001b[0;32m    938\u001b[0m \u001b[39melse\u001b[39;00m:\n\u001b[0;32m    939\u001b[0m     \u001b[39mwhile\u001b[39;00m \u001b[39mnot\u001b[39;00m is_fp_closed(\u001b[39mself\u001b[39m\u001b[39m.\u001b[39m_fp) \u001b[39mor\u001b[39;00m \u001b[39mlen\u001b[39m(\u001b[39mself\u001b[39m\u001b[39m.\u001b[39m_decoded_buffer) \u001b[39m>\u001b[39m \u001b[39m0\u001b[39m:\n\u001b[1;32m--> 940\u001b[0m         data \u001b[39m=\u001b[39m \u001b[39mself\u001b[39;49m\u001b[39m.\u001b[39;49mread(amt\u001b[39m=\u001b[39;49mamt, decode_content\u001b[39m=\u001b[39;49mdecode_content)\n\u001b[0;32m    942\u001b[0m         \u001b[39mif\u001b[39;00m data:\n\u001b[0;32m    943\u001b[0m             \u001b[39myield\u001b[39;00m data\n",
      "File \u001b[1;32mc:\\Users\\cacodcar\\energiapy\\.venv\\lib\\site-packages\\urllib3\\response.py:879\u001b[0m, in \u001b[0;36mHTTPResponse.read\u001b[1;34m(self, amt, decode_content, cache_content)\u001b[0m\n\u001b[0;32m    876\u001b[0m     \u001b[39mif\u001b[39;00m \u001b[39mlen\u001b[39m(\u001b[39mself\u001b[39m\u001b[39m.\u001b[39m_decoded_buffer) \u001b[39m>\u001b[39m\u001b[39m=\u001b[39m amt:\n\u001b[0;32m    877\u001b[0m         \u001b[39mreturn\u001b[39;00m \u001b[39mself\u001b[39m\u001b[39m.\u001b[39m_decoded_buffer\u001b[39m.\u001b[39mget(amt)\n\u001b[1;32m--> 879\u001b[0m data \u001b[39m=\u001b[39m \u001b[39mself\u001b[39;49m\u001b[39m.\u001b[39;49m_raw_read(amt)\n\u001b[0;32m    881\u001b[0m flush_decoder \u001b[39m=\u001b[39m \u001b[39mFalse\u001b[39;00m\n\u001b[0;32m    882\u001b[0m \u001b[39mif\u001b[39;00m amt \u001b[39mis\u001b[39;00m \u001b[39mNone\u001b[39;00m:\n",
      "File \u001b[1;32mc:\\Users\\cacodcar\\energiapy\\.venv\\lib\\site-packages\\urllib3\\response.py:814\u001b[0m, in \u001b[0;36mHTTPResponse._raw_read\u001b[1;34m(self, amt)\u001b[0m\n\u001b[0;32m    811\u001b[0m fp_closed \u001b[39m=\u001b[39m \u001b[39mgetattr\u001b[39m(\u001b[39mself\u001b[39m\u001b[39m.\u001b[39m_fp, \u001b[39m\"\u001b[39m\u001b[39mclosed\u001b[39m\u001b[39m\"\u001b[39m, \u001b[39mFalse\u001b[39;00m)\n\u001b[0;32m    813\u001b[0m \u001b[39mwith\u001b[39;00m \u001b[39mself\u001b[39m\u001b[39m.\u001b[39m_error_catcher():\n\u001b[1;32m--> 814\u001b[0m     data \u001b[39m=\u001b[39m \u001b[39mself\u001b[39;49m\u001b[39m.\u001b[39;49m_fp_read(amt) \u001b[39mif\u001b[39;00m \u001b[39mnot\u001b[39;00m fp_closed \u001b[39melse\u001b[39;00m \u001b[39mb\u001b[39m\u001b[39m\"\u001b[39m\u001b[39m\"\u001b[39m\n\u001b[0;32m    815\u001b[0m     \u001b[39mif\u001b[39;00m amt \u001b[39mis\u001b[39;00m \u001b[39mnot\u001b[39;00m \u001b[39mNone\u001b[39;00m \u001b[39mand\u001b[39;00m amt \u001b[39m!=\u001b[39m \u001b[39m0\u001b[39m \u001b[39mand\u001b[39;00m \u001b[39mnot\u001b[39;00m data:\n\u001b[0;32m    816\u001b[0m         \u001b[39m# Platform-specific: Buggy versions of Python.\u001b[39;00m\n\u001b[0;32m    817\u001b[0m         \u001b[39m# Close the connection when no data is returned\u001b[39;00m\n\u001b[1;32m   (...)\u001b[0m\n\u001b[0;32m    822\u001b[0m         \u001b[39m# not properly close the connection in all cases. There is\u001b[39;00m\n\u001b[0;32m    823\u001b[0m         \u001b[39m# no harm in redundantly calling close.\u001b[39;00m\n\u001b[0;32m    824\u001b[0m         \u001b[39mself\u001b[39m\u001b[39m.\u001b[39m_fp\u001b[39m.\u001b[39mclose()\n",
      "File \u001b[1;32mc:\\Users\\cacodcar\\energiapy\\.venv\\lib\\site-packages\\urllib3\\response.py:799\u001b[0m, in \u001b[0;36mHTTPResponse._fp_read\u001b[1;34m(self, amt)\u001b[0m\n\u001b[0;32m    796\u001b[0m     \u001b[39mreturn\u001b[39;00m buffer\u001b[39m.\u001b[39mgetvalue()\n\u001b[0;32m    797\u001b[0m \u001b[39melse\u001b[39;00m:\n\u001b[0;32m    798\u001b[0m     \u001b[39m# StringIO doesn't like amt=None\u001b[39;00m\n\u001b[1;32m--> 799\u001b[0m     \u001b[39mreturn\u001b[39;00m \u001b[39mself\u001b[39;49m\u001b[39m.\u001b[39;49m_fp\u001b[39m.\u001b[39;49mread(amt) \u001b[39mif\u001b[39;00m amt \u001b[39mis\u001b[39;00m \u001b[39mnot\u001b[39;00m \u001b[39mNone\u001b[39;00m \u001b[39melse\u001b[39;00m \u001b[39mself\u001b[39m\u001b[39m.\u001b[39m_fp\u001b[39m.\u001b[39mread()\n",
      "File \u001b[1;32mc:\\Users\\cacodcar\\.pyenv\\pyenv-win\\versions\\3.10.5\\lib\\http\\client.py:465\u001b[0m, in \u001b[0;36mHTTPResponse.read\u001b[1;34m(self, amt)\u001b[0m\n\u001b[0;32m    462\u001b[0m \u001b[39mif\u001b[39;00m \u001b[39mself\u001b[39m\u001b[39m.\u001b[39mlength \u001b[39mis\u001b[39;00m \u001b[39mnot\u001b[39;00m \u001b[39mNone\u001b[39;00m \u001b[39mand\u001b[39;00m amt \u001b[39m>\u001b[39m \u001b[39mself\u001b[39m\u001b[39m.\u001b[39mlength:\n\u001b[0;32m    463\u001b[0m     \u001b[39m# clip the read to the \"end of response\"\u001b[39;00m\n\u001b[0;32m    464\u001b[0m     amt \u001b[39m=\u001b[39m \u001b[39mself\u001b[39m\u001b[39m.\u001b[39mlength\n\u001b[1;32m--> 465\u001b[0m s \u001b[39m=\u001b[39m \u001b[39mself\u001b[39;49m\u001b[39m.\u001b[39;49mfp\u001b[39m.\u001b[39;49mread(amt)\n\u001b[0;32m    466\u001b[0m \u001b[39mif\u001b[39;00m \u001b[39mnot\u001b[39;00m s \u001b[39mand\u001b[39;00m amt:\n\u001b[0;32m    467\u001b[0m     \u001b[39m# Ideally, we would raise IncompleteRead if the content-length\u001b[39;00m\n\u001b[0;32m    468\u001b[0m     \u001b[39m# wasn't satisfied, but it might break compatibility.\u001b[39;00m\n\u001b[0;32m    469\u001b[0m     \u001b[39mself\u001b[39m\u001b[39m.\u001b[39m_close_conn()\n",
      "File \u001b[1;32mc:\\Users\\cacodcar\\.pyenv\\pyenv-win\\versions\\3.10.5\\lib\\socket.py:705\u001b[0m, in \u001b[0;36mSocketIO.readinto\u001b[1;34m(self, b)\u001b[0m\n\u001b[0;32m    703\u001b[0m \u001b[39mwhile\u001b[39;00m \u001b[39mTrue\u001b[39;00m:\n\u001b[0;32m    704\u001b[0m     \u001b[39mtry\u001b[39;00m:\n\u001b[1;32m--> 705\u001b[0m         \u001b[39mreturn\u001b[39;00m \u001b[39mself\u001b[39;49m\u001b[39m.\u001b[39;49m_sock\u001b[39m.\u001b[39;49mrecv_into(b)\n\u001b[0;32m    706\u001b[0m     \u001b[39mexcept\u001b[39;00m timeout:\n\u001b[0;32m    707\u001b[0m         \u001b[39mself\u001b[39m\u001b[39m.\u001b[39m_timeout_occurred \u001b[39m=\u001b[39m \u001b[39mTrue\u001b[39;00m\n",
      "File \u001b[1;32mc:\\Users\\cacodcar\\.pyenv\\pyenv-win\\versions\\3.10.5\\lib\\ssl.py:1274\u001b[0m, in \u001b[0;36mSSLSocket.recv_into\u001b[1;34m(self, buffer, nbytes, flags)\u001b[0m\n\u001b[0;32m   1270\u001b[0m     \u001b[39mif\u001b[39;00m flags \u001b[39m!=\u001b[39m \u001b[39m0\u001b[39m:\n\u001b[0;32m   1271\u001b[0m         \u001b[39mraise\u001b[39;00m \u001b[39mValueError\u001b[39;00m(\n\u001b[0;32m   1272\u001b[0m           \u001b[39m\"\u001b[39m\u001b[39mnon-zero flags not allowed in calls to recv_into() on \u001b[39m\u001b[39m%s\u001b[39;00m\u001b[39m\"\u001b[39m \u001b[39m%\u001b[39m\n\u001b[0;32m   1273\u001b[0m           \u001b[39mself\u001b[39m\u001b[39m.\u001b[39m\u001b[39m__class__\u001b[39m)\n\u001b[1;32m-> 1274\u001b[0m     \u001b[39mreturn\u001b[39;00m \u001b[39mself\u001b[39;49m\u001b[39m.\u001b[39;49mread(nbytes, buffer)\n\u001b[0;32m   1275\u001b[0m \u001b[39melse\u001b[39;00m:\n\u001b[0;32m   1276\u001b[0m     \u001b[39mreturn\u001b[39;00m \u001b[39msuper\u001b[39m()\u001b[39m.\u001b[39mrecv_into(buffer, nbytes, flags)\n",
      "File \u001b[1;32mc:\\Users\\cacodcar\\.pyenv\\pyenv-win\\versions\\3.10.5\\lib\\ssl.py:1130\u001b[0m, in \u001b[0;36mSSLSocket.read\u001b[1;34m(self, len, buffer)\u001b[0m\n\u001b[0;32m   1128\u001b[0m \u001b[39mtry\u001b[39;00m:\n\u001b[0;32m   1129\u001b[0m     \u001b[39mif\u001b[39;00m buffer \u001b[39mis\u001b[39;00m \u001b[39mnot\u001b[39;00m \u001b[39mNone\u001b[39;00m:\n\u001b[1;32m-> 1130\u001b[0m         \u001b[39mreturn\u001b[39;00m \u001b[39mself\u001b[39;49m\u001b[39m.\u001b[39;49m_sslobj\u001b[39m.\u001b[39;49mread(\u001b[39mlen\u001b[39;49m, buffer)\n\u001b[0;32m   1131\u001b[0m     \u001b[39melse\u001b[39;00m:\n\u001b[0;32m   1132\u001b[0m         \u001b[39mreturn\u001b[39;00m \u001b[39mself\u001b[39m\u001b[39m.\u001b[39m_sslobj\u001b[39m.\u001b[39mread(\u001b[39mlen\u001b[39m)\n",
      "\u001b[1;31mKeyboardInterrupt\u001b[0m: "
     ]
    }
   ],
   "source": [
    "for county in county_list:\n",
    "    fetch_nsrdb_data(attrs=['ghi', 'wind_speed'], year=2020 , resolution= 'hourly', lat_lon= (county_df[county_df['CNTY_NM'] == county]['X (Lat)'].values[0], county_df[county_df['CNTY_NM'] == county]['Y (Long)'].values[0]))[1].to_csv(f'{county}.csv')"
   ]
  },
  {
   "cell_type": "code",
   "execution_count": null,
   "metadata": {},
   "outputs": [],
   "source": []
  }
 ],
 "metadata": {
  "kernelspec": {
   "display_name": ".venv",
   "language": "python",
   "name": "python3"
  },
  "language_info": {
   "codemirror_mode": {
    "name": "ipython",
    "version": 3
   },
   "file_extension": ".py",
   "mimetype": "text/x-python",
   "name": "python",
   "nbconvert_exporter": "python",
   "pygments_lexer": "ipython3",
   "version": "3.10.5"
  },
  "orig_nbformat": 4
 },
 "nbformat": 4,
 "nbformat_minor": 2
}
