{
 "cells": [
  {
   "attachments": {},
   "cell_type": "markdown",
   "metadata": {},
   "source": [
    "# Real-time carbon accounting and material transition for hydrogen systems"
   ]
  },
  {
   "attachments": {},
   "cell_type": "markdown",
   "metadata": {},
   "source": [
    "__author__ = \"Marco De Sousa\"\n",
    "__copyright__ = \"Copyright 2023, Multi-parametric Optimization & Control Lab\"\n",
    "__credits__ = [\"Marco De Sousa\", \"Rahul Kakodkar\", \"Efstratios N. Pistikopoulos\"]\n",
    "__license__ = \"MIT\"\n",
    "__version__ = \"1.1.0\"\n",
    "__maintainer__ = \"Marco De Sousa\"\n",
    "__email__ = \"marcopdsousa@tamu.edu\"\n",
    "__status__ = \"Production\"\n"
   ]
  },
  {
   "attachments": {},
   "cell_type": "markdown",
   "metadata": {},
   "source": [
    "## Problem Statement"
   ]
  },
  {
   "attachments": {},
   "cell_type": "markdown",
   "metadata": {},
   "source": [
    "The following case study considers three different type of solar photovoltaics, namely Monocrystalline (PV_Mo), Polycrystalline (PV_Po), and Cadmium Telluride (PV_Cd) and  Lithium-ion batteries made of either rock-based lithium (LiI_Ro) or brine-based lithium (LiI_Br).\n",
    "\n",
    "The goal is to meet a fixed demand of hydrogen on a daily scale while optimizing the production process by using forecasting techniques.\n",
    "\n",
    "It is important to note that three different hydrogen pathways can be utilized each with their respective emissions.\n",
    "\n",
    "Hypothesis: By using real-time carbon accounting, decisions and changes can be made in a more dynamic nature.\n",
    "\n",
    "Users are advised caution in terms of assigning the emissions at the appropriate levels and avoiding double account. For example, if providing the global warming potentials (GWP) for each individual material to make up a process, the GWP for processes should only consider the values for construction. Moreover, the direct emissions are considered through the resource balance constraint."
   ]
  },
  {
   "attachments": {},
   "cell_type": "markdown",
   "metadata": {},
   "source": [
    "## Nomenclature"
   ]
  },
  {
   "attachments": {},
   "cell_type": "markdown",
   "metadata": {},
   "source": [
    "\n",
    "\n",
    "*Sets*\n",
    "\n",
    "\n",
    "$\\mathcal{R}$ - set of all resources r\n",
    "\n",
    "$\\mathcal{P}$ - set of all processes p\n",
    "\n",
    "$\\mathcal{T}$ - set of temporal periods t\n",
    "\n",
    "$\\mathcal{B}$ - set of transport modes b\n",
    "\n",
    "$\\mathcal{L}$ - set of locations l\n",
    "\n",
    "$\\mathcal{M}$ - set of materials m\n",
    "\n",
    "*Subsets*\n",
    "\n",
    "\n",
    "$\\mathcal{R}^{storage}$ - set of resources that can be stored\n",
    "\n",
    "$\\mathcal{R}^{sell}$ - set of resources that can be discharged\n",
    "\n",
    "$\\mathcal{R}^{demand}$ - set of resources that meet  demand\n",
    "\n",
    "$\\mathcal{R}^{cons}$ - set of resources that can be consumed\n",
    "\n",
    "$\\mathcal{R}^{trans}$ - set of resources that can be transported\n",
    "\n",
    "$\\mathcal{P}^{uncertain}$ - set of processes with uncertain capacity\n",
    "\n",
    "$\\mathcal{T}^{net}$ - set of temporal periods t for network level decision making\n",
    "\n",
    "$\\mathcal{T}^{sch}$ - set of temporal periods t for schedule level decision making\n",
    "\n",
    "*Continuous Variables*\n",
    "\n",
    "\n",
    "$P_{l,p,t}$ - production level of p $\\in$  $\\mathcal{P}$ in time period t $\\in$ $\\mathcal{T}^{sch}$  \n",
    "\n",
    "$C_{l,r,t}$ - consumption of r $\\in$ in $\\mathcal{R}^{cons}$ time period t $\\in$ $\\mathcal{T}^{sch}$ \n",
    "\n",
    "$S_{l,r,t}$ - discharge of r $\\in$ in $\\mathcal{R}^{demand}$ time period t $\\in$ $\\mathcal{T}^{sch}$ \n",
    "\n",
    "$Inv_{l,r,t}$ - inventory level of r $\\in$ $\\mathcal{R}^{storage}$  in time period t $\\in$ $\\mathcal{T}^{sch}$\n",
    "\n",
    "$Cap^S_{l,r,t}$ - installed inventory capacity for resource r $\\in$  $\\mathcal{R}^{storage}$ in time period t $\\in$ $\\mathcal{T}^{net}$\n",
    "\n",
    "$Cap^P_{l,p,t}$ - installed production capacity for process p $\\in$ $\\mathcal{P}$ in time period t $\\in$ $\\mathcal{T}^{net}$\n",
    "\n",
    "$Mat^P_{l,p,m,t}$ - material m $\\in$ $\\mathcal{M}$ used by process p $\\in$ $\\mathcal{P}$ in time period t $\\in$ $\\mathcal{T}^{net}$\n",
    "\n",
    "$Em^{p/r/m}_{l,p/r/m,t}$ - emission from process/resource/material in time t $\\in$ $\\mathcal{T}^{net}$\n",
    "\n",
    "\n",
    "*Binary Variables*\n",
    "\n",
    "$X^P_{l,p,t}$ - network binary for production process p $\\in$ $\\mathcal{P}$\n",
    "\n",
    "$X^S_{l,r,t}$ - network binary for inventory of resource r $\\in$  $\\mathcal{R}^{storage}$ \n",
    "\n",
    "*Parameters*\n",
    "\n",
    "$Cap^{P-max}_{l,p,t}$ - maximum production capacity of process p $\\in$ $\\mathcal{P}$ in time t $\\in$ $\\mathcal{T}^{net}$\n",
    "\n",
    "$Cap^{S-max}_{l,r,t}$ - maximum inventory capacity for process r $\\in$ $\\mathcal{R}^{storage}$ in time t $\\in$ $\\mathcal{T}^{net}$\n",
    "\n",
    "$Capex_{l,p,t}$ - capital expenditure for process p $\\in$ $\\mathcal{P}$ in time t $\\in$ $\\mathcal{T}^{net}$\n",
    "\n",
    "$Vopex_{l,p,t}$ - variable operational expenditure for process p $\\in$ $\\mathcal{P}$ in time t $\\in$ $\\mathcal{T}^{sch}$\n",
    "\n",
    "$Price_{l,r,t}$ - purchase price for resource r $\\in$ $\\mathcal{R}^{cons}$ in time t $\\in$ $\\mathcal{T}^{sch}$\n",
    "\n",
    "$C^{max}_{l,r,t}$ - maximum consumption availability for resource r $\\in$ $\\mathcal{R}^{cons}$ in time t $\\in$ $\\mathcal{T}^{sch}$\n",
    "\n",
    "$D_{l,r,t}$ - demand for resource r $in$ $\\mathcal{R}^{sell}$ in time t $\\in$ $\\mathcal{T}^{sch}$\n",
    "\n",
    "$\\alpha$ - annualization factor\n",
    "\n",
    "$Mat^{cons}_{p,m}$ - material m $\\in$ $\\mathcal{M}$ consumed by process p $\\in$ $\\mathcal{P}$\n",
    "\n",
    "$GWP^{p/r/m}_{l,p/r/m,t}$ - global warming indicators for process/resource/material in time t $\\in$ $\\mathcal{T}^{net}$\n"
   ]
  },
  {
   "attachments": {},
   "cell_type": "markdown",
   "metadata": {},
   "source": [
    "## MILP Formulation"
   ]
  },
  {
   "attachments": {},
   "cell_type": "markdown",
   "metadata": {},
   "source": [
    "Given is a mulit-scale modeling and optimization MILP framework for the simultaneous design and schedule planning of a single location energy system \n",
    "\n",
    "\\begin{equation}\n",
    "min \\sum_{l \\in \\mathcal{L}} \\Big(\\sum_{t \\in \\mathcal{T}^{net}} \\sum_{p \\in \\mathcal{P}} (\\alpha \\times Capex_{l,p,t} + Fopex_{l,p,t}) \\times Cap^P_{l,p,t} +  \\sum_{t \\in \\mathcal{T}^{sch}} \\sum_{r \\in \\mathcal{R}}  Vopex_{l,r,t} \\times P_{l,r,t} \n",
    "\\end{equation}\n",
    "\n",
    "\\begin{equation*}\n",
    "+ \\sum_{t \\in \\mathcal{T}^{sch}} \\sum_{r \\in \\mathcal{R}^{cons}} C_{l,r,t} \\times Price_{l,r,t} \\Big)\n",
    "\\end{equation*}\n",
    "\n",
    "\\begin{equation}\n",
    "Cap^S_{l,r,t} \\leq Cap^{S-max}_{l,r,t} \\times X^S_{l,r,t} \\hspace{1cm} \\forall r \\in \\mathcal{R}^{storage}, t \\in \\mathcal{T}^{net}\n",
    "\\end{equation}\n",
    "\n",
    "\\begin{equation}\n",
    "Cap^P_{l,p,t} \\leq Cap^{P-max}_{l,p,t} \\times X^P_{l,p,t}  \\hspace{1cm} \\forall p \\in \\mathcal{P}, t \\in \\mathcal{T}^{net}, l \\in \\mathcal{L}\n",
    "\\end{equation} \n",
    "\n",
    "\\begin{equation}\n",
    "P_{l,p,t} \\leq Cap^{P}_{l,p,t}  \\hspace{1cm} \\forall p \\in \\mathcal{P}, t \\in \\mathcal{T}^{sch}\n",
    "\\end{equation} \n",
    "\n",
    "\\begin{equation}\n",
    "Inv_{l,r,t} \\leq Cap^{S}_{l,r,t}  \\hspace{1cm} \\forall r \\in \\mathcal{R}^{storage}, t \\in \\mathcal{T}^{sch}\n",
    "\\end{equation} \n",
    "\n",
    "\n",
    "\\begin{equation}\n",
    "- S_{l,r,t} \\leq - D_{l,r,t}  \\hspace{1cm} \\forall r \\in \\mathcal{R}, t \\in \\mathcal{T}^{sch}\n",
    "\\end{equation}\n",
    "\n",
    "\\begin{equation}\n",
    "C_{l,r,t} \\leq C^{max}_{l,r,t} \\hspace{1cm} \\forall r \\in \\mathcal{R}, t \\in \\mathcal{T}^{sch}\n",
    "\\end{equation}\n",
    "\n",
    "\\begin{equation}\n",
    "\\sum_{p \\in \\mathcal{P}} P_{l,p,t} \\times \\eta(p,r) + C_{l,r,t} +  Inv_{l,r,t-1}=  Inv_{l,r,t} + S_{l,r,t}  \n",
    "\\end{equation}\n",
    "\n",
    "\\begin{equation*}\n",
    "\\forall r \\in \\mathcal{R}^{cons}, t \\in \\mathcal{T}^{sch}, l \\in \\mathcal{L}\n",
    "\\end{equation*}\n",
    "\n",
    "\\begin{equation}\n",
    "Mat_{l,p,m,t} = Mat^{cons}_{p,m} \\times Cap^P_{l,p,t} \\hspace{1cm} \\forall m \\in \\mathcal{M}, p \\in \\mathcal{P}, t \\in \\mathcal{T}^{net}\n",
    "\\end{equation}\n",
    "\n",
    "\\begin{equation}\n",
    "Em^{r}_{l,r,t} = GWP^{r}_{l,r,t} \\times C_{l,r,t} \\hspace{1cm} \\forall r \\in \\mathcal{R}, t \\in \\mathcal{T}^{sch}\n",
    "\\end{equation}\n",
    "\n",
    "\\begin{equation}\n",
    "Em^{m}_{l,m,t} = GWP^{m}_{l,m,t} \\times \\sum_{p \\in \\mathcal{P}} Mat_{l,p,m,t} \\hspace{1cm} \\forall p \\in \\mathcal{P}, t \\in \\mathcal{T}^{net}\n",
    "\\end{equation}\n",
    "\n",
    "\\begin{equation}\n",
    "Em^{p}_{l,p,t} = GWP^{p}_{l,p,t} \\times Cap_{l,p,t} \\hspace{1cm} \\forall p \\in \\mathcal{P}, t \\in \\mathcal{T}^{net}\n",
    "\\end{equation}\n",
    "\n",
    "\\begin{equation}\n",
    "S_{l,r,t}, C_{l,r,t}, Inv_{l,r,t}, P_{l,p,t}, Cap^P_{l,p,t}, Cap^S_{l,r,t}, Mat_{l,p,m,t}, Em^{p/r/m}_{l,p/r/m,t} \\in R_{\\geq 0}\n",
    "\\end{equation}\n",
    "\n"
   ]
  },
  {
   "attachments": {},
   "cell_type": "markdown",
   "metadata": {},
   "source": [
    "## Import Modules"
   ]
  },
  {
   "cell_type": "code",
   "execution_count": 1,
   "metadata": {},
   "outputs": [],
   "source": [
    "import sys\n",
    "sys.path.append('../src')"
   ]
  },
  {
   "cell_type": "code",
   "execution_count": 2,
   "metadata": {},
   "outputs": [],
   "source": [
    "import pandas as pd\n",
    "import numpy\n",
    "from energiapy.components.temporal_scale import TemporalScale\n",
    "from energiapy.components.resource import Resource, VaryingResource, Scope\n",
    "from energiapy.components.process import Process, VaryingProcess\n",
    "from energiapy.components.material import Material\n",
    "from energiapy.components.location import Location\n",
    "from energiapy.components.network import Network\n",
    "from energiapy.components.scenario import Scenario\n",
    "from energiapy.components.transport import Transport\n",
    "from energiapy.model.formulate import formulate, Constraints, Objective\n",
    "from energiapy.utils.nsrdb_utils import fetch_nsrdb_data\n",
    "from energiapy.plot import plot_results, plot_scenario\n",
    "from energiapy.plot.plot_results import CostY, CostX\n",
    "from energiapy.model.solve import solve\n",
    "from itertools import product\n",
    "from energiapy.components.result import Result\n",
    "from itertools import product\n",
    "from matplotlib import rc\n",
    "import matplotlib.pyplot as plt\n",
    "from energiapy.model.solve import solve\n",
    "from energiapy.plot.plot_results import CostY, CostX\n",
    "from energiapy.components.location import Location\n",
    "from energiapy.plot import plot_results, plot_scenario\n",
    "from energiapy.utils.nsrdb_utils import fetch_nsrdb_data\n",
    "from energiapy.model.formulate import formulate, Constraints, Objective\n",
    "from energiapy.model.bounds import CapacityBounds\n",
    "from energiapy.utils.data_utils import get_data, make_henry_price_df, remove_outliers, load_results\n",
    "from energiapy.conversion.photovoltaic import solar_power_output\n",
    "from energiapy.conversion.windmill import wind_power_output\n",
    "from energiapy.model.constraints.integer_cuts import constraint_block_integer_cut, constraint_block_integer_cut_min"
   ]
  },
  {
   "attachments": {},
   "cell_type": "markdown",
   "metadata": {},
   "source": [
    "## Data Import"
   ]
  },
  {
   "cell_type": "code",
   "execution_count": 3,
   "metadata": {},
   "outputs": [],
   "source": [
    "horizon = 1"
   ]
  },
  {
   "attachments": {},
   "cell_type": "markdown",
   "metadata": {},
   "source": [
    "The following data is needed for the model\n",
    "\n",
    "- Daily demands of hydrogen.\n",
    "- The capacity factor of renewable energy sources and traditional grid power.\n"
   ]
  },
  {
   "attachments": {},
   "cell_type": "markdown",
   "metadata": {},
   "source": [
    "**Declare temporal scale**\n",
    "\n",
    "The variabilities of energy systems are best captured over a discretized spatio-temporal scale. In energiapy, the first declaration is the temporal scale. \n",
    "\n",
    "For e.g.: Here we declare three temporal scales at different levels from right to left. The interpretation of these scales is merely symentic. Scales can be declared as the problem demands.\n",
    "- 0, annual, with 1 discretization\n",
    "- 1, daily with 365 discretization\n",
    "- 2, hourly with 24 discretization\n",
    "\n",
    "In essence, we are creating a temporal scale of 8760 points.\n",
    "\n"
   ]
  },
  {
   "cell_type": "code",
   "execution_count": 4,
   "metadata": {},
   "outputs": [],
   "source": [
    "scales = TemporalScale(discretization_list=[1,365,24])"
   ]
  },
  {
   "attachments": {},
   "cell_type": "markdown",
   "metadata": {},
   "source": [
    "## Declare resources"
   ]
  },
  {
   "attachments": {},
   "cell_type": "markdown",
   "metadata": {},
   "source": [
    "Resources can be consumed, produced, stored, discharged (or sold).\n",
    "\n",
    "Power demand follows a varying deterministic demand"
   ]
  },
  {
   "cell_type": "code",
   "execution_count": 5,
   "metadata": {},
   "outputs": [],
   "source": [
    "bigM = 10**8\n",
    "smallM = 0.001"
   ]
  },
  {
   "cell_type": "markdown",
   "metadata": {},
   "source": [
    "Hourly electricity prices"
   ]
  },
  {
   "cell_type": "code",
   "execution_count": 6,
   "metadata": {},
   "outputs": [
    {
     "data": {
      "text/html": [
       "<div>\n",
       "<style scoped>\n",
       "    .dataframe tbody tr th:only-of-type {\n",
       "        vertical-align: middle;\n",
       "    }\n",
       "\n",
       "    .dataframe tbody tr th {\n",
       "        vertical-align: top;\n",
       "    }\n",
       "\n",
       "    .dataframe thead th {\n",
       "        text-align: right;\n",
       "    }\n",
       "</style>\n",
       "<table border=\"1\" class=\"dataframe\">\n",
       "  <thead>\n",
       "    <tr style=\"text-align: right;\">\n",
       "      <th></th>\n",
       "      <th>Price (EUR/MWhe)</th>\n",
       "    </tr>\n",
       "  </thead>\n",
       "  <tbody>\n",
       "    <tr>\n",
       "      <th>0</th>\n",
       "      <td>0.01</td>\n",
       "    </tr>\n",
       "    <tr>\n",
       "      <th>1</th>\n",
       "      <td>0.00</td>\n",
       "    </tr>\n",
       "    <tr>\n",
       "      <th>2</th>\n",
       "      <td>0.00</td>\n",
       "    </tr>\n",
       "    <tr>\n",
       "      <th>3</th>\n",
       "      <td>0.00</td>\n",
       "    </tr>\n",
       "    <tr>\n",
       "      <th>4</th>\n",
       "      <td>0.00</td>\n",
       "    </tr>\n",
       "    <tr>\n",
       "      <th>...</th>\n",
       "      <td>...</td>\n",
       "    </tr>\n",
       "    <tr>\n",
       "      <th>8755</th>\n",
       "      <td>108.18</td>\n",
       "    </tr>\n",
       "    <tr>\n",
       "      <th>8756</th>\n",
       "      <td>100.26</td>\n",
       "    </tr>\n",
       "    <tr>\n",
       "      <th>8757</th>\n",
       "      <td>99.19</td>\n",
       "    </tr>\n",
       "    <tr>\n",
       "      <th>8758</th>\n",
       "      <td>82.73</td>\n",
       "    </tr>\n",
       "    <tr>\n",
       "      <th>8759</th>\n",
       "      <td>61.18</td>\n",
       "    </tr>\n",
       "  </tbody>\n",
       "</table>\n",
       "<p>8760 rows × 1 columns</p>\n",
       "</div>"
      ],
      "text/plain": [
       "      Price (EUR/MWhe)\n",
       "0                 0.01\n",
       "1                 0.00\n",
       "2                 0.00\n",
       "3                 0.00\n",
       "4                 0.00\n",
       "...                ...\n",
       "8755            108.18\n",
       "8756            100.26\n",
       "8757             99.19\n",
       "8758             82.73\n",
       "8759             61.18\n",
       "\n",
       "[8760 rows x 1 columns]"
      ]
     },
     "execution_count": 6,
     "metadata": {},
     "output_type": "execute_result"
    }
   ],
   "source": [
    "elec_price_df = pd.read_csv('C:/Users/marcopdsousa/Documents/energiapy/ESCAPE/Belgium Data/2024 Hourly Prices Belgium.csv')\n",
    "#elec_price_df = elec_price_df[elec_price_df['SettlementPoint'] == 'HB_HOUSTON']\n",
    "elec_price_df = elec_price_df[['Price (EUR/MWhe)']].reset_index(drop = True)\n",
    "elec_price_df = elec_price_df[:8760]\n",
    "elec_price_df['Price (EUR/MWhe)'] = elec_price_df['Price (EUR/MWhe)'].clip(lower=0)\n",
    "elec_price_df"
   ]
  },
  {
   "cell_type": "markdown",
   "metadata": {},
   "source": [
    "Hourly Natural Gas Prices"
   ]
  },
  {
   "cell_type": "code",
   "execution_count": 7,
   "metadata": {},
   "outputs": [
    {
     "data": {
      "text/html": [
       "<div>\n",
       "<style scoped>\n",
       "    .dataframe tbody tr th:only-of-type {\n",
       "        vertical-align: middle;\n",
       "    }\n",
       "\n",
       "    .dataframe tbody tr th {\n",
       "        vertical-align: top;\n",
       "    }\n",
       "\n",
       "    .dataframe thead th {\n",
       "        text-align: right;\n",
       "    }\n",
       "</style>\n",
       "<table border=\"1\" class=\"dataframe\">\n",
       "  <thead>\n",
       "    <tr style=\"text-align: right;\">\n",
       "      <th></th>\n",
       "      <th>Henry Hub Natural Gas Spot Price (Dollars per Million Btu)</th>\n",
       "    </tr>\n",
       "  </thead>\n",
       "  <tbody>\n",
       "    <tr>\n",
       "      <th>0</th>\n",
       "      <td>2.39</td>\n",
       "    </tr>\n",
       "    <tr>\n",
       "      <th>0</th>\n",
       "      <td>2.39</td>\n",
       "    </tr>\n",
       "    <tr>\n",
       "      <th>0</th>\n",
       "      <td>2.39</td>\n",
       "    </tr>\n",
       "    <tr>\n",
       "      <th>0</th>\n",
       "      <td>2.39</td>\n",
       "    </tr>\n",
       "    <tr>\n",
       "      <th>0</th>\n",
       "      <td>2.39</td>\n",
       "    </tr>\n",
       "    <tr>\n",
       "      <th>...</th>\n",
       "      <td>...</td>\n",
       "    </tr>\n",
       "    <tr>\n",
       "      <th>291</th>\n",
       "      <td>4.63</td>\n",
       "    </tr>\n",
       "    <tr>\n",
       "      <th>291</th>\n",
       "      <td>4.63</td>\n",
       "    </tr>\n",
       "    <tr>\n",
       "      <th>291</th>\n",
       "      <td>4.63</td>\n",
       "    </tr>\n",
       "    <tr>\n",
       "      <th>291</th>\n",
       "      <td>4.63</td>\n",
       "    </tr>\n",
       "    <tr>\n",
       "      <th>291</th>\n",
       "      <td>4.63</td>\n",
       "    </tr>\n",
       "  </tbody>\n",
       "</table>\n",
       "<p>8760 rows × 1 columns</p>\n",
       "</div>"
      ],
      "text/plain": [
       "     Henry Hub Natural Gas Spot Price (Dollars per Million Btu)\n",
       "0                                                 2.39         \n",
       "0                                                 2.39         \n",
       "0                                                 2.39         \n",
       "0                                                 2.39         \n",
       "0                                                 2.39         \n",
       "..                                                 ...         \n",
       "291                                               4.63         \n",
       "291                                               4.63         \n",
       "291                                               4.63         \n",
       "291                                               4.63         \n",
       "291                                               4.63         \n",
       "\n",
       "[8760 rows x 1 columns]"
      ]
     },
     "execution_count": 7,
     "metadata": {},
     "output_type": "execute_result"
    }
   ],
   "source": [
    "# #The natural gas price is calculated as the average between the high and low cost, also the unit used is $/kg of natural gas\n",
    "# NG_price_df = pd.read_csv('C:/Users/marcopdsousa/Documents/energiapy/Real-Time/Dataset/23 June Belgium.csv')\n",
    "# # NG_price_df = pd.DataFrame(NG_price_df['USD/kg'])[::-1].reset_index()\n",
    "# NG_price_df = NG_price_df[['NG_Price']]\n",
    "# NG_price_df = NG_price_df[:24]\n",
    "# NG_price_df\n",
    "\n",
    "#The natural gas price is calculated as the average between the high and low cost, also the unit used is $/kg of natural gas\n",
    "NG_price_df = pd.read_csv('C:/Users/marcopdsousa/Documents/energiapy/AICHE/Historical natural gas prices/Natural gas historical data.csv')\n",
    "NG_price_df = NG_price_df[['Henry Hub Natural Gas Spot Price (Dollars per Million Btu)']]\n",
    "# NG_price_df = NG_price_df[:24]\n",
    "NG_price_df\n",
    "NG_price_hourly = NG_price_df.reindex(NG_price_df.index.repeat(30))\n",
    "NG_price_hourly = NG_price_hourly[:8760]\n",
    "NG_price_hourly\n",
    "NG_price_hourly = pd.DataFrame(NG_price_hourly)\n",
    "\n",
    "mean = NG_price_hourly.mean()\n",
    "std = NG_price_hourly.std()\n",
    "\n",
    "\n",
    "outliers = numpy.abs(NG_price_hourly - mean) > 3 * std\n",
    "# Prune outliers beyond 3 standard deviations\n",
    "NG_price_hourly = NG_price_hourly.mask(outliers)\n",
    "fill_value = NG_price_hourly.mean()\n",
    "NG_price_hourly = NG_price_hourly.fillna(fill_value)\n",
    "NG_price_hourly\n"
   ]
  },
  {
   "cell_type": "code",
   "execution_count": 8,
   "metadata": {},
   "outputs": [],
   "source": [
    "# #The natural gas price is calculated as the average between the high and low cost, also the unit used is $/kg of natural gas\n",
    "# Demand_df = pd.read_csv('RT 06 JUNE.csv')\n",
    "# # NG_price_df = pd.DataFrame(NG_price_df['USD/kg'])[::-1].reset_index()\n",
    "# Demand_df = Demand_df[['demand']]\n",
    "# Demand_df = Demand_df[:24]\n",
    "# Demand_df"
   ]
  },
  {
   "cell_type": "code",
   "execution_count": 9,
   "metadata": {},
   "outputs": [
    {
     "data": {
      "text/html": [
       "<div>\n",
       "<style scoped>\n",
       "    .dataframe tbody tr th:only-of-type {\n",
       "        vertical-align: middle;\n",
       "    }\n",
       "\n",
       "    .dataframe tbody tr th {\n",
       "        vertical-align: top;\n",
       "    }\n",
       "\n",
       "    .dataframe thead th {\n",
       "        text-align: right;\n",
       "    }\n",
       "</style>\n",
       "<table border=\"1\" class=\"dataframe\">\n",
       "  <thead>\n",
       "    <tr style=\"text-align: right;\">\n",
       "      <th></th>\n",
       "      <th>Carbon intensity Full</th>\n",
       "    </tr>\n",
       "  </thead>\n",
       "  <tbody>\n",
       "    <tr>\n",
       "      <th>0</th>\n",
       "      <td>94.01</td>\n",
       "    </tr>\n",
       "    <tr>\n",
       "      <th>1</th>\n",
       "      <td>96.43</td>\n",
       "    </tr>\n",
       "    <tr>\n",
       "      <th>2</th>\n",
       "      <td>97.57</td>\n",
       "    </tr>\n",
       "    <tr>\n",
       "      <th>3</th>\n",
       "      <td>95.23</td>\n",
       "    </tr>\n",
       "    <tr>\n",
       "      <th>4</th>\n",
       "      <td>95.28</td>\n",
       "    </tr>\n",
       "    <tr>\n",
       "      <th>...</th>\n",
       "      <td>...</td>\n",
       "    </tr>\n",
       "    <tr>\n",
       "      <th>8755</th>\n",
       "      <td>179.82</td>\n",
       "    </tr>\n",
       "    <tr>\n",
       "      <th>8756</th>\n",
       "      <td>171.85</td>\n",
       "    </tr>\n",
       "    <tr>\n",
       "      <th>8757</th>\n",
       "      <td>172.25</td>\n",
       "    </tr>\n",
       "    <tr>\n",
       "      <th>8758</th>\n",
       "      <td>168.09</td>\n",
       "    </tr>\n",
       "    <tr>\n",
       "      <th>8759</th>\n",
       "      <td>155.81</td>\n",
       "    </tr>\n",
       "  </tbody>\n",
       "</table>\n",
       "<p>8760 rows × 1 columns</p>\n",
       "</div>"
      ],
      "text/plain": [
       "      Carbon intensity Full\n",
       "0                     94.01\n",
       "1                     96.43\n",
       "2                     97.57\n",
       "3                     95.23\n",
       "4                     95.28\n",
       "...                     ...\n",
       "8755                 179.82\n",
       "8756                 171.85\n",
       "8757                 172.25\n",
       "8758                 168.09\n",
       "8759                 155.81\n",
       "\n",
       "[8760 rows x 1 columns]"
      ]
     },
     "execution_count": 9,
     "metadata": {},
     "output_type": "execute_result"
    }
   ],
   "source": [
    "#The natural gas price is calculated as the average between the high and low cost, also the unit used is $/kg of natural gas\n",
    "GWP_df = pd.read_csv('C:/Users/marcopdsousa/Documents/energiapy/ESCAPE/Belgium Data/2024 Carbon Intensity Belgium.csv')\n",
    "# NG_price_df = pd.DataFrame(NG_price_df['USD/kg'])[::-1].reset_index()\n",
    "GWP_df = GWP_df[['Carbon intensity Full']]\n",
    "GWP_df = GWP_df[:8760].reset_index(drop = True)\n",
    "GWP_df"
   ]
  },
  {
   "cell_type": "code",
   "execution_count": 10,
   "metadata": {},
   "outputs": [
    {
     "name": "stderr",
     "output_type": "stream",
     "text": [
      "C:\\Users\\marcopdsousa\\AppData\\Local\\Temp\\ipykernel_41248\\2629842020.py:2: FutureWarning: Series.__getitem__ treating keys as positions is deprecated. In a future version, integer keys will always be treated as labels (consistent with DataFrame behavior). To access a value by position, use `ser.iloc[pos]`\n",
      "  elec_price = elec_price_df.max()[0]\n",
      "C:\\Users\\marcopdsousa\\AppData\\Local\\Temp\\ipykernel_41248\\2629842020.py:3: FutureWarning: Series.__getitem__ treating keys as positions is deprecated. In a future version, integer keys will always be treated as labels (consistent with DataFrame behavior). To access a value by position, use `ser.iloc[pos]`\n",
      "  NG_price = NG_price_df.max()[0]\n",
      "C:\\Users\\marcopdsousa\\AppData\\Local\\Temp\\ipykernel_41248\\2629842020.py:4: FutureWarning: Series.__getitem__ treating keys as positions is deprecated. In a future version, integer keys will always be treated as labels (consistent with DataFrame behavior). To access a value by position, use `ser.iloc[pos]`\n",
      "  GWP_value = GWP_df.max()[0]\n"
     ]
    }
   ],
   "source": [
    "#Gives relevancy to price values again\n",
    "elec_price = elec_price_df.max()[0]\n",
    "NG_price = NG_price_df.max()[0]\n",
    "GWP_value = GWP_df.max()[0]\n",
    "#Demand_value = Demand_df.max()[0]"
   ]
  },
  {
   "cell_type": "markdown",
   "metadata": {},
   "source": [
    "Hourly Wind availability"
   ]
  },
  {
   "cell_type": "code",
   "execution_count": 11,
   "metadata": {},
   "outputs": [
    {
     "data": {
      "text/html": [
       "<div>\n",
       "<style scoped>\n",
       "    .dataframe tbody tr th:only-of-type {\n",
       "        vertical-align: middle;\n",
       "    }\n",
       "\n",
       "    .dataframe tbody tr th {\n",
       "        vertical-align: top;\n",
       "    }\n",
       "\n",
       "    .dataframe thead th {\n",
       "        text-align: right;\n",
       "    }\n",
       "</style>\n",
       "<table border=\"1\" class=\"dataframe\">\n",
       "  <thead>\n",
       "    <tr style=\"text-align: right;\">\n",
       "      <th></th>\n",
       "      <th>Wind_avg_MW</th>\n",
       "    </tr>\n",
       "  </thead>\n",
       "  <tbody>\n",
       "    <tr>\n",
       "      <th>0</th>\n",
       "      <td>0.64625</td>\n",
       "    </tr>\n",
       "    <tr>\n",
       "      <th>1</th>\n",
       "      <td>0.64125</td>\n",
       "    </tr>\n",
       "    <tr>\n",
       "      <th>2</th>\n",
       "      <td>0.63250</td>\n",
       "    </tr>\n",
       "    <tr>\n",
       "      <th>3</th>\n",
       "      <td>0.65000</td>\n",
       "    </tr>\n",
       "    <tr>\n",
       "      <th>4</th>\n",
       "      <td>0.64750</td>\n",
       "    </tr>\n",
       "    <tr>\n",
       "      <th>...</th>\n",
       "      <td>...</td>\n",
       "    </tr>\n",
       "    <tr>\n",
       "      <th>8755</th>\n",
       "      <td>0.28125</td>\n",
       "    </tr>\n",
       "    <tr>\n",
       "      <th>8756</th>\n",
       "      <td>0.29125</td>\n",
       "    </tr>\n",
       "    <tr>\n",
       "      <th>8757</th>\n",
       "      <td>0.27125</td>\n",
       "    </tr>\n",
       "    <tr>\n",
       "      <th>8758</th>\n",
       "      <td>0.23000</td>\n",
       "    </tr>\n",
       "    <tr>\n",
       "      <th>8759</th>\n",
       "      <td>0.22625</td>\n",
       "    </tr>\n",
       "  </tbody>\n",
       "</table>\n",
       "<p>8760 rows × 1 columns</p>\n",
       "</div>"
      ],
      "text/plain": [
       "      Wind_avg_MW\n",
       "0         0.64625\n",
       "1         0.64125\n",
       "2         0.63250\n",
       "3         0.65000\n",
       "4         0.64750\n",
       "...           ...\n",
       "8755      0.28125\n",
       "8756      0.29125\n",
       "8757      0.27125\n",
       "8758      0.23000\n",
       "8759      0.22625\n",
       "\n",
       "[8760 rows x 1 columns]"
      ]
     },
     "execution_count": 11,
     "metadata": {},
     "output_type": "execute_result"
    }
   ],
   "source": [
    "Wind_df = pd.read_csv('C:/Users/marcopdsousa/Documents/energiapy/ESCAPE/Belgium Data/2024 Wind Flanders.csv')\n",
    "Wind_df = Wind_df[['Wind_avg_MW']]\n",
    "Wind_df = Wind_df[:8760]\n",
    "Wind_df"
   ]
  },
  {
   "cell_type": "markdown",
   "metadata": {},
   "source": [
    "Hourly Solar availability"
   ]
  },
  {
   "cell_type": "code",
   "execution_count": 12,
   "metadata": {},
   "outputs": [],
   "source": [
    "# import pandas as pd\n",
    "\n",
    "# # Step 1: Load the CSV (adjust delimiter if needed)\n",
    "# df = pd.read_csv(\"C:/Users/marcopdsousa/Documents/energiapy/ESCAPE/Belgium Data/2024 Wind Belgium.csv\", delimiter=\";\")\n",
    "\n",
    "# # Step 2: Check the column names to locate region + datetime\n",
    "# print(\"Columns:\", df.columns)"
   ]
  },
  {
   "cell_type": "code",
   "execution_count": 13,
   "metadata": {},
   "outputs": [],
   "source": [
    "# import pandas as pd\n",
    "\n",
    "# # Step 1: Load the CSV (adjust delimiter if needed)\n",
    "# df = pd.read_csv(\"C:/Users/marcopdsousa/Documents/energiapy/ESCAPE/Belgium Data/2024 Wind Belgium.csv\", delimiter=\";\")\n",
    "\n",
    "# # Step 2: Check the column names to locate region + datetime\n",
    "# print(\"Columns:\", df.columns)\n",
    "\n",
    "# # Example: your file may have columns like:\n",
    "# # ['Datetime', 'Region', 'Technology', 'Production [MW]']\n",
    "\n",
    "# # Step 3: Convert datetime (with UTC to suppress warning)\n",
    "# datetime_col = 'Datetime'  # adjust if your file shows a different name\n",
    "# df[datetime_col] = pd.to_datetime(df[datetime_col], errors='coerce', utc=True)\n",
    "\n",
    "# # Step 4: Drop rows with missing datetime\n",
    "# df = df.dropna(subset=[datetime_col])\n",
    "\n",
    "# # Step 5: Filter only Flanders rows\n",
    "# # Adjust column name if it's not exactly 'Region'\n",
    "# df_flanders = df[df['Region'].str.lower() == 'flanders']\n",
    "\n",
    "# # Step 6: Floor datetime to the hour\n",
    "# df_flanders['hour'] = df_flanders[datetime_col].dt.floor('H')\n",
    "\n",
    "# # Step 7: Aggregate to hourly average\n",
    "# # Adjust the production column name if it's different (like 'Production [MW]')\n",
    "# df_hourly = df_flanders.groupby('hour')[\"Load factor\"].mean().reset_index()\n",
    "# df_hourly.columns = ['datetime', 'Wind_avg_MW']\n",
    "\n",
    "# # Step 8: Save to CSV\n",
    "# df_hourly.to_csv(\"wind_hourly_avg_MW_flanders.csv\", index=False)"
   ]
  },
  {
   "cell_type": "code",
   "execution_count": 14,
   "metadata": {},
   "outputs": [
    {
     "data": {
      "text/html": [
       "<div>\n",
       "<style scoped>\n",
       "    .dataframe tbody tr th:only-of-type {\n",
       "        vertical-align: middle;\n",
       "    }\n",
       "\n",
       "    .dataframe tbody tr th {\n",
       "        vertical-align: top;\n",
       "    }\n",
       "\n",
       "    .dataframe thead th {\n",
       "        text-align: right;\n",
       "    }\n",
       "</style>\n",
       "<table border=\"1\" class=\"dataframe\">\n",
       "  <thead>\n",
       "    <tr style=\"text-align: right;\">\n",
       "      <th></th>\n",
       "      <th>solar_avg_MW</th>\n",
       "    </tr>\n",
       "  </thead>\n",
       "  <tbody>\n",
       "    <tr>\n",
       "      <th>0</th>\n",
       "      <td>0.0</td>\n",
       "    </tr>\n",
       "    <tr>\n",
       "      <th>1</th>\n",
       "      <td>0.0</td>\n",
       "    </tr>\n",
       "    <tr>\n",
       "      <th>2</th>\n",
       "      <td>0.0</td>\n",
       "    </tr>\n",
       "    <tr>\n",
       "      <th>3</th>\n",
       "      <td>0.0</td>\n",
       "    </tr>\n",
       "    <tr>\n",
       "      <th>4</th>\n",
       "      <td>0.0</td>\n",
       "    </tr>\n",
       "    <tr>\n",
       "      <th>...</th>\n",
       "      <td>...</td>\n",
       "    </tr>\n",
       "    <tr>\n",
       "      <th>8755</th>\n",
       "      <td>0.0</td>\n",
       "    </tr>\n",
       "    <tr>\n",
       "      <th>8756</th>\n",
       "      <td>0.0</td>\n",
       "    </tr>\n",
       "    <tr>\n",
       "      <th>8757</th>\n",
       "      <td>0.0</td>\n",
       "    </tr>\n",
       "    <tr>\n",
       "      <th>8758</th>\n",
       "      <td>0.0</td>\n",
       "    </tr>\n",
       "    <tr>\n",
       "      <th>8759</th>\n",
       "      <td>0.0</td>\n",
       "    </tr>\n",
       "  </tbody>\n",
       "</table>\n",
       "<p>8760 rows × 1 columns</p>\n",
       "</div>"
      ],
      "text/plain": [
       "      solar_avg_MW\n",
       "0              0.0\n",
       "1              0.0\n",
       "2              0.0\n",
       "3              0.0\n",
       "4              0.0\n",
       "...            ...\n",
       "8755           0.0\n",
       "8756           0.0\n",
       "8757           0.0\n",
       "8758           0.0\n",
       "8759           0.0\n",
       "\n",
       "[8760 rows x 1 columns]"
      ]
     },
     "execution_count": 14,
     "metadata": {},
     "output_type": "execute_result"
    }
   ],
   "source": [
    "Solar_df = pd.read_csv('C:/Users/marcopdsousa/Documents/energiapy/ESCAPE/Belgium Data/2024 Solar Flanders.csv')\n",
    "Solar_df = Solar_df[['solar_avg_MW']]\n",
    "Solar_df = Solar_df[:8760]\n",
    "Solar_df\n",
    "\n"
   ]
  },
  {
   "cell_type": "code",
   "execution_count": 15,
   "metadata": {},
   "outputs": [],
   "source": [
    "Solar = Resource(name='Solar', cons_max=bigM, basis='MW', label='Solar Power', price= 52.69, gwp=0, scope=Scope.TWO)\n",
    "\n",
    "Wind = Resource(name='Wind', cons_max=bigM, basis='MW', label='Wind Power', price= 60.11, gwp=0, scope=Scope.TWO)\n",
    "\n",
    "Power = Resource(name='Power', basis='MW',\n",
    "                 label='Power generated')\n",
    "\n",
    "# GridPower = Resource(name='GridPower', basis='MW',\n",
    "#                      cons_max=bigM, label='Power bought', gwp=420.62, price = ecombined, varying = [VaryingResource.DETERMINISTIC_PRICE], scope = Scope.TWO)\n",
    "\n",
    "GridPower = Resource(name='GridPower', basis='MW',\n",
    "                     cons_max=bigM, label='Power bought', gwp= 353.83, price =elec_price ,varying = [VaryingResource.DETERMINISTIC_PRICE], scope = Scope.TWO)\n",
    "\n",
    "#The following are components of natural gas\n",
    "\n",
    "CO2 = Resource(name='CO2', basis='kg/hr',\n",
    "               label='Carbon dioxide', block='Resource')\n",
    "\n",
    "CO2_Stack = Resource(name='CO2 to Stack', basis='kg/hr', sell=True,\n",
    "               label='Carbon dioxide to Stack', block='Resource', gwp = 1, scope = Scope.ONE)\n",
    "\n",
    "CO2_Air = Resource(name='CO2 from air', basis='kg/hr',\n",
    "               label='Carbon dioxide from air', block='Resource', cons_max=bigM)\n",
    "\n",
    "CO2_Vent = Resource(name='CO2 Vented from the process', basis='kg/hr',\n",
    "               label='Carbon dioxide vented from the process', block='Resource', gwp = 1, sell=True, scope = Scope.ONE)\n",
    "\n",
    "CO2cpt = Resource(name='CO2 Captured', basis='kg/hr', sell=True, label='Captured carbon dioxide', block='Resource')\n",
    "\n",
    "#CO2_Blowdown= Resource(name='CO2 Blowdown', basis='kg/hr', sell=True, block='Resource', gwp = 1) # 2 ATR processes, imp, Stream X+20, 16+20 Declares CO2 going into the Boiler via Air stream 5 in ATR process\n",
    "\n",
    "CH4 = Resource(name='CH4', basis='kg/hr',\n",
    "               label='Methane', block='Resource')\n",
    "\n",
    "CH4_Desorped = Resource(name='CH4_Desorped', basis='kg/hr',\n",
    "               label='Methane', block='Resource') # True for ATR Occurs during ATR process\n",
    "\n",
    "#Important: Natural gas consists over different components\n",
    "\n",
    "NG = Resource(name='Natural Gas', basis='kg/hr',\n",
    "                     cons_max=bigM, label='Natural Gas', gwp = 0.960979, price = NG_price/20, varying = [VaryingResource.DETERMINISTIC_PRICE]) #, varying = [VaryingResource.DETERMINISTIC_PRICE])\n",
    "\n",
    "#NG_price_hourly\n",
    "# Hydrogen is what I want to sell/satisfy a specific demand for\n",
    "\n",
    "H2 = Resource(name='Hydrogen', basis='kg/hr', label='Hydrogen', block='Resource')\n",
    "\n",
    "H2Pure = Resource(name='Pure Hydrogen', demand = True, basis='kg/hr', label='Pure Hydrogen', block='Resource')\n",
    "\n",
    "# Water is required for the electrolysis process\n",
    "\n",
    "H2O = Resource(name='H2O',\n",
    "               basis='kg/hr', cons_max=bigM, label='Water', block='Resource')\n",
    "\n",
    "#Industrial water price is 0.002 USD/kg of water\n",
    "H2OFresh = Resource(name=\"H2O Fresh\", cons_max=bigM, price = 0.002, basis='kg/hr', label='Fresh Water', block='Resource')\n",
    "\n",
    "H2O_Air = Resource(name='H2O from air', cons_max=bigM,\n",
    "               basis='kg/hr', label='Water from air', block='Resource')\n",
    "\n",
    "H2O_Vent = Resource(name='H2O vented from the process',\n",
    "               basis='kg/hr', sell=True, label='Water vented from the process', block='Resource')\n",
    "\n",
    "\n",
    "H2O_Stack = Resource(name='H2O to Stack',\n",
    "               basis='kg/hr', sell= True, label='Water to Stack', block='Resource')\n",
    "\n",
    "'''Do we need h20 vent asu and just h20 vent?'''\n",
    "H2O_Vent_ASU = Resource(name='H2O Vent from ASU',\n",
    "               basis='kg/hr', sell= True, label='Water vented from ASU', block='Resource') # True for ATR - Stream 17\n",
    "\n",
    "H2O_Blowdown = Resource(name='H2O in Blowdown',\n",
    "               basis='kg/hr', sell= True, label='H2O present in air - Stream 5', block='Resource') # True for ATR - Stream 20\n",
    "\n",
    "#Industrial water price is 0.002 USD/kg of water\n",
    "\n",
    "# Air components\n",
    "\n",
    "N2 = Resource(name='N2', basis='kg/hr',\n",
    "               label='Nitrogen', block='Resource')\n",
    "\n",
    "N2_SMR = Resource(name='N2 from SMR', basis='kg/hr',\n",
    "               label='Nitrogen from SMR', block='Resource')\n",
    "\n",
    "N2_WGS = Resource(name='N2 from WGS', basis='kg/hr',\n",
    "               label='Nitrogen from WGS', block='Resource')\n",
    "\n",
    "N2_FG = Resource(name='N2 from FG', basis='kg/hr',\n",
    "               label='Nitrogen from FG', block='Resource')\n",
    "\n",
    "N2_Air = Resource(name='N2 from Air', basis='kg/hr', cons_max= bigM,\n",
    "               label='Nitrogen from Air', block='Resource')\n",
    "\n",
    "N2_Vent = Resource(name='N2 vented from the process', basis='kg/hr', sell= True,\n",
    "               label='Nitrogen vented from the process', block='Resource')\n",
    "\n",
    "N2Prod = Resource(name='N2 in product stream', basis='kg/hr',\n",
    "               label='Nitrogen in product stream', block='Resource')\n",
    "\n",
    "N2_Stack = Resource(name='N2 to Stack', basis='kg/hr', sell= True,\n",
    "               label='Nitrogen to stack', block='Resource')\n",
    "\n",
    "N2_Desorped = Resource(name='N2 Desorped', basis='kg/hr',\n",
    "               label='Nitrogen in CO2 desorption stream', block='Resource') # True for ATR\n",
    "N2_Vented_Stack = Resource(name='N2 in Stack', basis='kg/hr',\n",
    "               label='Nitrogen in Stack', block='Resource') # True for ATR\n",
    "N2_Blowdown = Resource(name='N2 in Blowdown', basis='kg/hr',\n",
    "               label='Nitrogen in Blowdown stream', block='Resource') # True for ATR\n",
    "\n",
    "O2 = Resource(name='O2', basis='kg/hr',\n",
    "               label='Oxygen', block='Resource')\n",
    "\n",
    "O2_Air = Resource(name='O2 from air', basis='kg/hr',\n",
    "               label='Oxygen from air', block='Resource', cons_max = bigM)\n",
    "\n",
    "O2_Vent = Resource(name='O2 vented from the process', basis='kg/hr', sell=True,\n",
    "               label='Oxygen vented from the process', block='Resource')\n",
    "\n",
    "O2_Stack = Resource(name='O2 to Stack', basis='kg/hr', sell= True,\n",
    "               label='Oxygen to Stack', block='Resource')\n",
    "\n",
    "O2_Desorped = Resource(name='O2 Desorped', basis='kg/hr',\n",
    "               label='Oxygen in CO2 desorption stream', block='Resource') # True for ATR\n",
    "\n",
    "O2_ASU = Resource(name='O2 vented out of ASU', basis='kg/hr',\n",
    "               label='O2 vented out of ASU', block='Resource') # True for ATR\n",
    "\n",
    "O2_Blowdown = Resource(name='O2 in Blowdown', basis='kg/hr',\n",
    "               label='O2 in Blowdown stream', block='Resource') # True for ATR\n"
   ]
  },
  {
   "attachments": {},
   "cell_type": "markdown",
   "metadata": {},
   "source": [
    "## Declare Materials"
   ]
  },
  {
   "attachments": {},
   "cell_type": "markdown",
   "metadata": {},
   "source": [
    "Materials are utilized for the establishment of processes. Materials inturn require resources to be set up. "
   ]
  },
  {
   "cell_type": "code",
   "execution_count": 16,
   "metadata": {},
   "outputs": [
    {
     "data": {
      "text/plain": [
       "'Do I understand it correctly that I will have no material modes'"
      ]
     },
     "execution_count": 16,
     "metadata": {},
     "output_type": "execute_result"
    }
   ],
   "source": [
    "'''Do I understand it correctly that I will have no material modes'''"
   ]
  },
  {
   "attachments": {},
   "cell_type": "markdown",
   "metadata": {},
   "source": [
    "## Declare Processes"
   ]
  },
  {
   "cell_type": "code",
   "execution_count": 17,
   "metadata": {},
   "outputs": [],
   "source": [
    "'''Purchasing electricity from a traditional power production system'''\n",
    "\n",
    "Grid = Process(name='Grid', conversion={GridPower: -1, Power: 1}, prod_min=bigM, prod_max=bigM, label='Grid', basis='MW')\n",
    "\n",
    "PV = Process(name='PV', conversion={Solar: -1, Power: 1},\n",
    "             prod_max=150, prod_min=150,  varying= [VaryingProcess.DETERMINISTIC_CAPACITY], label='Solar PV', basis='MW')\n",
    "#PV - PPA was constructed as a 10 MWh system\n",
    "# capex=0.0001, fopex=0.0001, vopex=0.0001, gwp = 0.0001\n",
    "\n",
    "WF = Process(name='WF', conversion={Wind: -1, Power: 1},\n",
    "             prod_max=300, prod_min=300, label='Wind mill array', varying=[VaryingProcess.DETERMINISTIC_CAPACITY], basis='MW')\n",
    "#WF  - PPA was constructed as a 30 MWh system\n",
    "SMR = Process(name='SMR', conversion={Power: -0.00065, NG: -3.535189, H2OFresh: -16.78877421, N2_Air: -19.2134, O2_Air: -5.88716, H2O_Air: -0.1582, CO2_Air: -0.01171, \n",
    "                                            H2Pure: 1, CO2_Stack: 9.3713,  H2O_Stack: 3.94959, N2_Stack: 19.29814, O2_Stack: 0.535434}, capex=0.2,\n",
    "               vopex=0.78, fopex=0.06, prod_min=smallM, prod_max=bigM, label='SMR', basis='kg/hr')\n",
    "\n",
    "SMRCCS = Process(name='SMRCCS', conversion={Power: -0.00139, N2_Air: -22.2315, O2_Air: -6.811924, H2O_Air: -0.183055, CO2_Air: -0.013551, CO2_Stack: -9.3713,\n",
    "                                             H2O_Vent: 3.826767, CO2cpt: 8.903, CO2_Vent: 0.46856, H2O_Stack: 0.558114, N2_Stack: 22.32218, O2_Stack: 0.6203032, }, capex=0.45,\n",
    "                vopex=1.01, fopex=0.1, prod_min=smallM, prod_max=bigM, label='SMRCCS', basis='kg/hr')\n",
    "\n",
    "PEM = Process(name='PEM', conversion={Power: -0.064, H2OFresh: -9.5,\n",
    "                                            H2Pure: 1}, capex=1.2, vopex=2.2, fopex=0.7, prod_min=smallM, prod_max=bigM, label='PEM', basis='kg/hr')\n",
    "#1.) 1.2 capex and 3.03 vopex\n",
    "#2.) 0.5 capex and 1.03 vopex\n",
    "#3.) 0.109 capex and  0.22454 vopex\n",
    "#4.) 0.063 capex and 0.22454 vopex\n",
    "#Fact check = 6.5647:PEM, 35.06640796:AWE, 0.9375:SMR, 0.9375:ATR_CCS_R, 0.9375:ATR_CCS_R_OC - Conversion issue\n",
    "\n",
    "ATR_CCS_R = Process(name='ATR_CCS_R', conversion= {Power: -0.00175403726, NG: -3.2080287, H2OFresh: -4.8123228, H2O_Air : -0.1041653, H2O_Vent_ASU : 0.0019387, H2O_Blowdown : 1.7351222, H2O_Vent : 0.5220523,\n",
    "                                                   N2_Air: -12.653394, N2_Vent: 9.970844643, N2Prod: 0.002780318, N2_Vented_Stack: 2.182324573, N2_Desorped: 0.023329689, O2_Air: -3.87607534,\n",
    "                                                   O2_ASU: 0.061984387, O2_Vent: 0.0647028, CO2_Air:-0.007711159, CO2_Vent: 0.457276602, CO2cpt: 7.733322317, H2Pure: 1}, capex=0.35,\n",
    "               vopex=0.74, fopex=0.08, prod_min=smallM, prod_max=bigM, label='ATR_CCS_R', basis='kg/hr')\n",
    "\n",
    "# ATR_CCS_OC = Process(name='ATR_CCS_OC', conversion={Power: -0.0059130434, NG: -3.584338787, CO2_Air: -0.010770164, CO2_Vent: 0.11601384, CO2cpt: 9.192057517, N2_Air: -17.67297545, N2_Vent: 16.7175342, N2_Blowdown: 0.000797082, N2_Desorped: 0.131330546, N2Prod: 0.002780318,\n",
    "#                                                     H2O_Air: -0.145487576, H2OFresh: -5.377267146, H2O_Vent_ASU: 0.003250534, H2O_Blowdown: 3.598489736, O2_Air: -6.758549377, O2_Vent: 0.10392561, H2Pure: 1}, capex=0.45,\n",
    "#                vopex=0.77, fopex=0.1, prod_min=smallM, prod_max=bigM, label='ATR_CCS_OC', basis='kg/hr')\n",
    "\n",
    "ATR_CCS_R_OC = Process(name='ATR_CCS_R_OC', conversion={Power: -0.00203229813, NG: -3.208028688, CO2_Air: -0.007656042, CO2_Vent: 0.671400596, CO2cpt: 8.152141983, \n",
    "                                                        N2_Air: -12.56295099, N2_Vent: 11.88406435, N2_Blowdown: 0.008434949, N2_Desorped: 0.102417105, N2Prod: 0.002780318, \n",
    "                                                        H2OFresh: -4.812322829, H2O_Air: -0.103420802, H2O_Vent_ASU: 0.002310721, H2O_Blowdown: 0.004504513, O2_Air: -4.804359335, \n",
    "                                                        O2_Vent: 0.073878039, H2Pure: 1}, capex=0.35,\n",
    "               vopex=0.75, fopex=0.1, prod_min=smallM, prod_max=bigM, label='ATR_CCS_R_OC', basis='kg/hr')\n",
    "\n",
    "AWE = Process(name='AWE', conversion={Power: -0.05, H2OFresh: -9.4635,\n",
    "                                            H2Pure: 1}, capex=0.810127,vopex=4.050633, fopex=0.202532, prod_min=smallM, prod_max=bigM, label='AWE', basis='kg/hr')"
   ]
  },
  {
   "attachments": {},
   "cell_type": "markdown",
   "metadata": {},
   "source": [
    "## Declare Location"
   ]
  },
  {
   "cell_type": "code",
   "execution_count": 18,
   "metadata": {},
   "outputs": [],
   "source": [
    "process_set = {Grid, PV, WF, SMRCCS, SMR, PEM, AWE, ATR_CCS_R, ATR_CCS_R_OC}#, SMRCCS, PEM} #Grid,PV, WF, PEM,SMRCCS, , ATR_CCS_OC, ATR_CCS_R, ATR_CCS_R_OC"
   ]
  },
  {
   "cell_type": "code",
   "execution_count": 19,
   "metadata": {},
   "outputs": [],
   "source": [
    "Belgium = Location(name='BG', processes=process_set,  price_factor={GridPower: elec_price_df, NG: NG_price_hourly}, gwp_factor={GridPower: GWP_df}, capacity_factor={PV: Solar_df, WF: Wind_df},\n",
    "                   scales=scales, label='Belgium', expenditure_scale_level=0, demand_scale_level=1, price_scale_level=2, gwp_scale_level =2, capacity_scale_level=2)\n",
    "\n",
    "#capacity_factor={PV: Solar_df, WF: Wind_df},"
   ]
  },
  {
   "attachments": {},
   "cell_type": "markdown",
   "metadata": {},
   "source": [
    "## Declare Scenario"
   ]
  },
  {
   "cell_type": "code",
   "execution_count": 20,
   "metadata": {},
   "outputs": [],
   "source": [
    "\n",
    "scenario = Scenario(name='scenario_full', network=Belgium, scales=scales,  expenditure_scale_level=0, demand_scale_level=1, \n",
    "                    purchase_scale_level = 2, scheduling_scale_level=2, network_scale_level=0, capacity_scale_level=2, gwp_scale_level = 2, \n",
    "                    label='full_case', demand={Belgium: {H2Pure:300000}})\n",
    "\n"
   ]
  },
  {
   "cell_type": "code",
   "execution_count": 21,
   "metadata": {},
   "outputs": [],
   "source": [
    "# scenario.capacity_factor['HO'].keys()"
   ]
  },
  {
   "cell_type": "code",
   "execution_count": 22,
   "metadata": {},
   "outputs": [
    {
     "data": {
      "image/png": "[encoded data removed]",
      "text/plain": [
       "<Figure size 900x500 with 1 Axes>"
      ]
     },
     "metadata": {},
     "output_type": "display_data"
    }
   ],
   "source": [
    "\n",
    "plot_scenario.price_factor(\n",
    "    scenario=scenario, location=Belgium, resource=GridPower, fig_size=(9, 5), color='black')\n"
   ]
  },
  {
   "cell_type": "code",
   "execution_count": 23,
   "metadata": {},
   "outputs": [
    {
     "data": {
      "image/png": "[encoded data removed]",
      "text/plain": [
       "<Figure size 900x500 with 1 Axes>"
      ]
     },
     "metadata": {},
     "output_type": "display_data"
    }
   ],
   "source": [
    "plot_scenario.gwp_factor(\n",
    "    scenario=scenario, location=Belgium, resource=GridPower, fig_size=(9, 5), color='midnightblue')"
   ]
  },
  {
   "cell_type": "code",
   "execution_count": 24,
   "metadata": {},
   "outputs": [
    {
     "data": {
      "image/png": "[encoded data removed]",
      "text/plain": [
       "<Figure size 900x500 with 1 Axes>"
      ]
     },
     "metadata": {},
     "output_type": "display_data"
    }
   ],
   "source": [
    "\n",
    "plot_scenario.price_factor(\n",
    "    scenario=scenario, location=Belgium, resource=NG, fig_size=(9, 5), color='blue')"
   ]
  },
  {
   "cell_type": "code",
   "execution_count": 25,
   "metadata": {},
   "outputs": [
    {
     "data": {
      "image/png": "[encoded data removed]",
      "text/plain": [
       "<Figure size 900x500 with 1 Axes>"
      ]
     },
     "metadata": {},
     "output_type": "display_data"
    }
   ],
   "source": [
    "plot_scenario.capacity_factor(\n",
    "    scenario=scenario, location=Belgium, process=PV, fig_size=(9, 5), color='red')"
   ]
  },
  {
   "cell_type": "code",
   "execution_count": 26,
   "metadata": {},
   "outputs": [
    {
     "data": {
      "image/png": "[encoded data removed]",
      "text/plain": [
       "<Figure size 900x500 with 1 Axes>"
      ]
     },
     "metadata": {},
     "output_type": "display_data"
    }
   ],
   "source": [
    "plot_scenario.capacity_factor(\n",
    "    scenario=scenario, location=Belgium, process=WF, fig_size=(9, 5), color='green')"
   ]
  },
  {
   "attachments": {},
   "cell_type": "markdown",
   "metadata": {},
   "source": [
    "## Formulate MILP"
   ]
  },
  {
   "attachments": {},
   "cell_type": "markdown",
   "metadata": {},
   "source": [
    "Here we formulate two milps which differ only in their objectives.\n",
    "\n",
    "For maximizing the discharge of a particular resource, use the objective MAX_DISCHARGE, the objective resource also needs to be specified.\n",
    "\n",
    "Similarly the discharge can also be minimized using MIN_DISCHARGE. This can be used with a demand for another resource being set. For example, minimizing the discharge of carbon dioxide while meeting a hydrogen demand.\n",
    "\n",
    "The second MILP, minimized the cost while meeting a varying demand for power"
   ]
  },
  {
   "cell_type": "code",
   "execution_count": 27,
   "metadata": {},
   "outputs": [
    {
     "name": "stdout",
     "output_type": "stream",
     "text": [
      "constraint process capex\n",
      "constraint process fopex\n",
      "constraint process vopex\n",
      "constraint storage capex\n",
      "constraint process incidental\n",
      "constraint location capex\n",
      "constraint storage cost\n",
      "constraint storage cost location\n",
      "constraint storage cost network\n",
      "constraint global warming potential resource\n",
      "constraint global warming potential resource consumption\n",
      "constraint global warming potential resource discharge\n",
      "constraint global warming potential location\n",
      "constraint global warming potential network\n",
      "constraint production mode\n",
      "constraint inventory balance\n",
      "constraint inventory network\n",
      "constraint storage facility\n",
      "constraint production facility\n",
      "constraint min production facility\n",
      "constraint min storage facility\n",
      "constraint demand\n",
      "objective cost\n"
     ]
    }
   ],
   "source": [
    "#, Constraints.MODE\n",
    "\n",
    "milp_cost = formulate(scenario=scenario, constraints={Constraints.COST, Constraints.INVENTORY, Constraints.NETWORK, Constraints.PRODUCTION,\n",
    "                      Constraints.RESOURCE_BALANCE, Constraints.DEMAND, Constraints.EMISSION}, objective=Objective.COST, demand_sign = 'eq')"
   ]
  },
  {
   "cell_type": "code",
   "execution_count": 28,
   "metadata": {},
   "outputs": [],
   "source": [
    "# # model.component\n",
    "\n",
    "# from pyomo.environ import ConstraintList\n",
    "# milp_cost.cons1 = ConstraintList()\n",
    "# for i in scales.scale_iter(2):\n",
    "#     milp_cost.cons1.add(expr = milp_cost.P['HO', 'SMR', *i] >= 1000)"
   ]
  },
  {
   "cell_type": "code",
   "execution_count": 29,
   "metadata": {},
   "outputs": [],
   "source": [
    "from pyomo.environ import Var, Binary, ConstraintList\n",
    "\n",
    "\n",
    "milp_cost.cons2 = ConstraintList()\n",
    "for i in scales.scale_iter(2):\n",
    "    if i != (0,0,0):\n",
    "        milp_cost.cons2.add(expr = milp_cost.P['BG', 'SMR', *i] - milp_cost.P['BG', 'SMR', *scales.scale_iter(2)[scales.scale_iter(2).index(i) - 1]] <= 0.05*milp_cost.Cap_P['BG','SMR', i[0]])\n",
    "        # milp_cost.cons2.add(expr = milp_cost.P['HO', 'SMR', *i] - milp_cost.P['HO', 'SMR', *scales.scale_iter(2)[scales.scale_iter(2).index(i) - 1]] <= 0.05*milp_cost.Cap_P['HO','SMR', i[0]])\n",
    "\n",
    "milp_cost.cons3 = ConstraintList()\n",
    "for i in scales.scale_iter(2):\n",
    "    if i != (0,0,0):\n",
    "        milp_cost.cons3.add(expr = milp_cost.P['BG', 'SMR', *i] - milp_cost.P['BG', 'SMR', *scales.scale_iter(2)[scales.scale_iter(2).index(i) - 1]] >= -0.05*milp_cost.Cap_P['BG','SMR', i[0]])\n",
    "\n",
    "# #ramping_limitz = 2000\n",
    "\n",
    "milp_cost.cons4 = ConstraintList()\n",
    "for i in scales.scale_iter(2):\n",
    "    if i != (0,0,0):\n",
    "        milp_cost.cons4.add(expr = milp_cost.P['BG', 'ATR_CCS_R', *i] - milp_cost.P['BG', 'ATR_CCS_R', *scales.scale_iter(2)[scales.scale_iter(2).index(i) - 1]] <= 0.1*milp_cost.Cap_P['BG','ATR_CCS_R', i[0]])\n",
    "\n",
    "milp_cost.cons5 = ConstraintList()\n",
    "for i in scales.scale_iter(2):\n",
    "    if i != (0,0,0):\n",
    "        milp_cost.cons5.add(expr = milp_cost.P['BG', 'ATR_CCS_R', *i] - milp_cost.P['BG', 'ATR_CCS_R', *scales.scale_iter(2)[scales.scale_iter(2).index(i) - 1]] >= -0.1*milp_cost.Cap_P['BG','ATR_CCS_R', i[0]])\n",
    "\n",
    "# milp_cost.cons6 = ConstraintList()\n",
    "# for i in scales.scale_iter(2):\n",
    "#     if i != (0,0,0):\n",
    "#         milp_cost.cons6.add(expr = milp_cost.P['HO', 'ATR_CCS_OC', *i] - milp_cost.P['HO', 'ATR_CCS_OC', *scales.scale_iter(2)[scales.scale_iter(2).index(i) - 1]] <= 0.1*milp_cost.Cap_P['HO','ATR_CCS_OC', i[0]])\n",
    "\n",
    "# milp_cost.cons7 = ConstraintList()\n",
    "# for i in scales.scale_iter(2):\n",
    "#     if i != (0,0,0):\n",
    "#         milp_cost.cons7.add(expr = milp_cost.P['HO', 'ATR_CCS_OC', *i] - milp_cost.P['HO', 'ATR_CCS_OC', *scales.scale_iter(2)[scales.scale_iter(2).index(i) - 1]] >= -0.1*milp_cost.Cap_P['HO','ATR_CCS_OC', i[0]])        \n",
    "\n",
    "milp_cost.cons8 = ConstraintList()\n",
    "for i in scales.scale_iter(2):\n",
    "    if i != (0,0,0):\n",
    "        milp_cost.cons8.add(expr = milp_cost.P['BG', 'ATR_CCS_R_OC', *i] - milp_cost.P['BG', 'ATR_CCS_R_OC', *scales.scale_iter(2)[scales.scale_iter(2).index(i) - 1]] <= 0.1*milp_cost.Cap_P['BG','ATR_CCS_R_OC', i[0]])\n",
    "\n",
    "milp_cost.cons9 = ConstraintList()\n",
    "for i in scales.scale_iter(2):\n",
    "    if i != (0,0,0):\n",
    "        milp_cost.cons9.add(expr = milp_cost.P['BG', 'ATR_CCS_R_OC', *i] - milp_cost.P['BG', 'ATR_CCS_R_OC', *scales.scale_iter(2)[scales.scale_iter(2).index(i) - 1]] >= -0.1*milp_cost.Cap_P['BG','ATR_CCS_R_OC', i[0]])  \n",
    "\n",
    "    # Minimum production rate\n",
    "    # milp_cost.cons1 = ConstraintList()\n",
    "    # for i in scales.scale_iter(1):\n",
    "    #  milp_cost.cons1.add(expr = milp_cost.P['HO', 'SMR', *i] >= 1000)\n",
    "\n",
    "    # Add binary variables for on/off control\n",
    "# milp_cost.on_smr = Var(scales.scale_iter(2), domain=Binary)  # Binary variable for SMR system\n",
    "# milp_cost.on_atr_ccs_r = Var(scales.scale_iter(2), domain=Binary)  # Binary variable for ATR_CCS_R system\n",
    "# milp_cost.on_atr_ccs_oc = Var(scales.scale_iter(2), domain=Binary)  # Binary variable for ATR_CCS_OC system\n",
    "# milp_cost.on_atr_ccs_r_oc = Var(scales.scale_iter(2), domain=Binary)  # Binary variable for ATR_CCS_R_OC system\n",
    "\n",
    "milp_cost.cons10 = ConstraintList()\n",
    "for i in scales.scale_iter(2):\n",
    "    #if i != (0,0):\n",
    "    milp_cost.cons10.add(expr = milp_cost.P['BG', 'SMR', *i] >= 0.3*milp_cost.Cap_P['BG','SMR', i[0]]) #30% of max production rate 6000 * milp_cost.on_smr[i]\n",
    "\n",
    "milp_cost.cons11 = ConstraintList()\n",
    "for i in scales.scale_iter(2):\n",
    "    #if i != (0,0):\n",
    "    milp_cost.cons11.add(expr = milp_cost.P['BG', 'ATR_CCS_R', *i] >= 0.2*milp_cost.Cap_P['BG','ATR_CCS_R', i[0]]) #20% of max production rate\n",
    "    \n",
    "# milp_cost.cons12 = ConstraintList()\n",
    "# for i in scales.scale_iter(2):\n",
    "#     #if i != (0,0):\n",
    "#     milp_cost.cons12.add(expr = milp_cost.P['HO', 'ATR_CCS_OC', *i] >= 0.2*milp_cost.Cap_P['HO','ATR_CCS_OC', i[0]]) #20% of max production rate\n",
    "\n",
    "milp_cost.cons13 = ConstraintList()\n",
    "for i in scales.scale_iter(2):\n",
    "    #if i != (0,0):\n",
    "    milp_cost.cons13.add(expr = milp_cost.P['BG', 'ATR_CCS_R_OC', *i] >= 0.2*milp_cost.Cap_P['BG','ATR_CCS_R_OC', i[0]]) #20% of max production rate\n",
    "\n",
    "    # For SMR\n",
    "milp_cost.cons14 = ConstraintList()\n",
    "for i in scales.scale_iter(2):\n",
    "    #if i != (0, 0):\n",
    "    # Force production to zero if the system is off (on_smr == 0)\n",
    "    milp_cost.cons14.add(expr = milp_cost.P['BG', 'SMR', *i] <=milp_cost.Cap_P['BG','SMR', i[0]])\n",
    "\n",
    "# For ATR_CCS_R\n",
    "milp_cost.cons15 = ConstraintList()\n",
    "for i in scales.scale_iter(2):\n",
    "    #if i != (0, 0):\n",
    "    # Force production to zero if the system is off (on_atr_ccs_r == 0)\n",
    "    milp_cost.cons15.add(expr = milp_cost.P['BG', 'ATR_CCS_R', *i] <= milp_cost.Cap_P['BG','ATR_CCS_R', i[0]])\n",
    "\n",
    "# # For ATR_CCS_OC\n",
    "# milp_cost.cons16 = ConstraintList()\n",
    "# for i in scales.scale_iter(2):\n",
    "#     #if i != (0, 0):\n",
    "#     # Force production to zero if the system is off (on_atr_ccs_oc == 0)\n",
    "#     milp_cost.cons16.add(expr = milp_cost.P['HO', 'ATR_CCS_OC', *i] <= milp_cost.Cap_P['HO','ATR_CCS_OC', i[0]])\n",
    "\n",
    "# For ATR_CCS_R_OC\n",
    "milp_cost.cons17 = ConstraintList()\n",
    "for i in scales.scale_iter(2):\n",
    "    #if i != (0, 0):\n",
    "    # Force production to zero if the system is off (on_atr_ccs_r_oc == 0)\n",
    "    milp_cost.cons17.add(expr = milp_cost.P['BG', 'ATR_CCS_R_OC', *i] <= milp_cost.Cap_P['BG','ATR_CCS_R_OC', i[0]])\n"
   ]
  },
  {
   "cell_type": "code",
   "execution_count": 30,
   "metadata": {},
   "outputs": [
    {
     "name": "stdout",
     "output_type": "stream",
     "text": [
      "Set parameter OutputFlag to value 1\n",
      "Set parameter QCPDual to value 1\n",
      "Gurobi Optimizer version 12.0.1 build v12.0.1rc0 (win64 - Windows 11.0 (26100.2))\n",
      "\n",
      "CPU model: 13th Gen Intel(R) Core(TM) i7-13700, instruction set [SSE2|AVX|AVX2]\n",
      "Thread count: 16 physical cores, 24 logical processors, using up to 24 threads\n",
      "\n",
      "Non-default parameters:\n",
      "QCPDual  1\n",
      "\n",
      "Optimize a model with 1060472 rows, 5483960 columns and 2798810 nonzeros\n",
      "Model fingerprint: 0x59ef75af\n",
      "Variable types: 5483951 continuous, 9 integer (9 binary)\n",
      "Coefficient statistics:\n",
      "  Matrix range     [3e-06, 1e+08]\n",
      "  Objective range  [1e+00, 1e+00]\n",
      "  Bounds range     [1e+00, 1e+00]\n",
      "  RHS range        [2e+02, 1e+08]\n",
      "Warning: Model contains large matrix coefficient range\n",
      "         Consider reformulating model or setting NumericFocus parameter\n",
      "         to avoid numerical issues.\n",
      "Presolve removed 941650 rows and 5418061 columns\n",
      "Presolve time: 0.62s\n",
      "Presolved: 118822 rows, 65899 columns, 320317 nonzeros\n",
      "Variable types: 65889 continuous, 10 integer (7 binary)\n",
      "Performing another presolve...\n",
      "Presolve removed 31191 rows and 8936 columns\n",
      "Presolve time: 0.56s\n",
      "\n",
      "Deterministic concurrent LP optimizer: primal and dual simplex (primal and dual model)\n",
      "Showing primal log only...\n",
      "\n",
      "Root relaxation presolved: 87625 rows, 56960 columns, 257668 nonzeros\n",
      "\n",
      "\n",
      "Root simplex log...\n",
      "\n",
      "Iteration    Objective       Primal Inf.    Dual Inf.      Time\n",
      "   23336    4.7462412e+08   0.000000e+00   3.099211e+06      5s\n",
      "Concurrent spin time: 0.04s\n",
      "\n",
      "Solved with primal simplex\n",
      "\n",
      "Root relaxation: objective 2.860894e+08, 75178 iterations, 5.03 seconds (8.24 work units)\n",
      "\n",
      "    Nodes    |    Current Node    |     Objective Bounds      |     Work\n",
      " Expl Unexpl |  Obj  Depth IntInf | Incumbent    BestBd   Gap | It/Node Time\n",
      "\n",
      "*    0     0               0    2.860894e+08 2.8609e+08  0.00%     -    6s\n",
      "\n",
      "Explored 1 nodes (75178 simplex iterations) in 8.13 seconds (12.37 work units)\n",
      "Thread count was 24 (of 24 available processors)\n",
      "\n",
      "Solution count 2: 2.86089e+08 2.86089e+08 \n",
      "\n",
      "Optimal solution found (tolerance 1.00e-04)\n",
      "Warning: max constraint violation (1.9015e-04) exceeds tolerance\n",
      "Warning: max bound violation (4.1485e-05) exceeds tolerance\n",
      "Best objective 2.860894299477e+08, best bound 2.860894299477e+08, gap 0.0000%\n",
      "WARNING: Cannot get duals for MIP.\n"
     ]
    }
   ],
   "source": [
    "results_cost = solve(scenario=scenario, instance=milp_cost,\n",
    "                     solver='gurobi', name=f\"res_cost\", print_solversteps=True, saveformat = '.pkl')\n"
   ]
  },
  {
   "cell_type": "code",
   "execution_count": 31,
   "metadata": {},
   "outputs": [],
   "source": [
    "#plot_results.schedule(results = results_cost, y_axis= 'P', component = 'SMR', location='BG')"
   ]
  },
  {
   "cell_type": "code",
   "execution_count": 32,
   "metadata": {},
   "outputs": [],
   "source": [
    "#plot_results.schedule(results = results_cost, y_axis= 'P', component = 'Grid', location='BG')"
   ]
  },
  {
   "cell_type": "code",
   "execution_count": 33,
   "metadata": {},
   "outputs": [
    {
     "data": {
      "text/plain": [
       "286089429.94766784"
      ]
     },
     "execution_count": 33,
     "metadata": {},
     "output_type": "execute_result"
    }
   ],
   "source": [
    "results_cost.output['objective']"
   ]
  },
  {
   "cell_type": "code",
   "execution_count": 35,
   "metadata": {},
   "outputs": [
    {
     "data": {
      "text/plain": [
       "{('BG', 0): 1632192798.07721}"
      ]
     },
     "execution_count": 35,
     "metadata": {},
     "output_type": "execute_result"
    }
   ],
   "source": [
    "results_cost.output['global_warming_potential_location']"
   ]
  },
  {
   "cell_type": "code",
   "execution_count": 36,
   "metadata": {},
   "outputs": [
    {
     "data": {
      "text/plain": [
       "{('BG', 'CO2 Captured', 0, 0, 0): 0.0,\n",
       " ('BG', 'CO2 Captured', 0, 0, 1): 0.0,\n",
       " ('BG', 'CO2 Captured', 0, 0, 2): 0.0,\n",
       " ('BG', 'CO2 Captured', 0, 0, 3): 0.0,\n",
       " ('BG', 'CO2 Captured', 0, 0, 4): 0.0,\n",
       " ('BG', 'CO2 Captured', 0, 0, 5): 0.0,\n",
       " ('BG', 'CO2 Captured', 0, 0, 6): 0.0,\n",
       " ('BG', 'CO2 Captured', 0, 0, 7): 0.0,\n",
       " ('BG', 'CO2 Captured', 0, 0, 8): 0.0,\n",
       " ('BG', 'CO2 Captured', 0, 0, 9): 0.0,\n",
       " ('BG', 'CO2 Captured', 0, 0, 10): 0.0,\n",
       " ('BG', 'CO2 Captured', 0, 0, 11): 0.0,\n",
       " ('BG', 'CO2 Captured', 0, 0, 12): 0.0,\n",
       " ('BG', 'CO2 Captured', 0, 0, 13): 0.0,\n",
       " ('BG', 'CO2 Captured', 0, 0, 14): 0.0,\n",
       " ('BG', 'CO2 Captured', 0, 0, 15): 0.0,\n",
       " ('BG', 'CO2 Captured', 0, 0, 16): 0.0,\n",
       " ('BG', 'CO2 Captured', 0, 0, 17): 0.0,\n",
       " ('BG', 'CO2 Captured', 0, 0, 18): 0.0,\n",
       " ('BG', 'CO2 Captured', 0, 0, 19): 0.0,\n",
       " ('BG', 'CO2 Captured', 0, 0, 20): 0.0,\n",
       " ('BG', 'CO2 Captured', 0, 0, 21): 0.0,\n",
       " ('BG', 'CO2 Captured', 0, 0, 22): 0.0,\n",
       " ('BG', 'CO2 Captured', 0, 0, 23): 0.0,\n",
       " ('BG', 'CO2 Captured', 0, 1, 0): 0.0,\n",
       " ('BG', 'CO2 Captured', 0, 1, 1): 0.0,\n",
       " ('BG', 'CO2 Captured', 0, 1, 2): 0.0,\n",
       " ('BG', 'CO2 Captured', 0, 1, 3): 0.0,\n",
       " ('BG', 'CO2 Captured', 0, 1, 4): 0.0,\n",
       " ('BG', 'CO2 Captured', 0, 1, 5): 0.0,\n",
       " ('BG', 'CO2 Captured', 0, 1, 6): 0.0,\n",
       " ('BG', 'CO2 Captured', 0, 1, 7): 0.0,\n",
       " ('BG', 'CO2 Captured', 0, 1, 8): 0.0,\n",
       " ('BG', 'CO2 Captured', 0, 1, 9): 0.0,\n",
       " ('BG', 'CO2 Captured', 0, 1, 10): 0.0,\n",
       " ('BG', 'CO2 Captured', 0, 1, 11): 0.0,\n",
       " ('BG', 'CO2 Captured', 0, 1, 12): 0.0,\n",
       " ('BG', 'CO2 Captured', 0, 1, 13): 0.0,\n",
       " ('BG', 'CO2 Captured', 0, 1, 14): 0.0,\n",
       " ('BG', 'CO2 Captured', 0, 1, 15): 0.0,\n",
       " ('BG', 'CO2 Captured', 0, 1, 16): 0.0,\n",
       " ('BG', 'CO2 Captured', 0, 1, 17): 0.0,\n",
       " ('BG', 'CO2 Captured', 0, 1, 18): 0.0,\n",
       " ('BG', 'CO2 Captured', 0, 1, 19): 0.0,\n",
       " ('BG', 'CO2 Captured', 0, 1, 20): 0.0,\n",
       " ('BG', 'CO2 Captured', 0, 1, 21): 0.0,\n",
       " ('BG', 'CO2 Captured', 0, 1, 22): 0.0,\n",
       " ('BG', 'CO2 Captured', 0, 1, 23): 0.0,\n",
       " ('BG', 'CO2 Captured', 0, 2, 0): 0.0,\n",
       " ('BG', 'CO2 Captured', 0, 2, 1): 0.0,\n",
       " ('BG', 'CO2 Captured', 0, 2, 2): 0.0,\n",
       " ('BG', 'CO2 Captured', 0, 2, 3): 0.0,\n",
       " ('BG', 'CO2 Captured', 0, 2, 4): 0.0,\n",
       " ('BG', 'CO2 Captured', 0, 2, 5): 0.0,\n",
       " ('BG', 'CO2 Captured', 0, 2, 6): 0.0,\n",
       " ('BG', 'CO2 Captured', 0, 2, 7): 0.0,\n",
       " ('BG', 'CO2 Captured', 0, 2, 8): 0.0,\n",
       " ('BG', 'CO2 Captured', 0, 2, 9): 0.0,\n",
       " ('BG', 'CO2 Captured', 0, 2, 10): 0.0,\n",
       " ('BG', 'CO2 Captured', 0, 2, 11): 0.0,\n",
       " ('BG', 'CO2 Captured', 0, 2, 12): 0.0,\n",
       " ('BG', 'CO2 Captured', 0, 2, 13): 0.0,\n",
       " ('BG', 'CO2 Captured', 0, 2, 14): 0.0,\n",
       " ('BG', 'CO2 Captured', 0, 2, 15): 0.0,\n",
       " ('BG', 'CO2 Captured', 0, 2, 16): 0.0,\n",
       " ('BG', 'CO2 Captured', 0, 2, 17): 0.0,\n",
       " ('BG', 'CO2 Captured', 0, 2, 18): 0.0,\n",
       " ('BG', 'CO2 Captured', 0, 2, 19): 0.0,\n",
       " ('BG', 'CO2 Captured', 0, 2, 20): 0.0,\n",
       " ('BG', 'CO2 Captured', 0, 2, 21): 0.0,\n",
       " ('BG', 'CO2 Captured', 0, 2, 22): 0.0,\n",
       " ('BG', 'CO2 Captured', 0, 2, 23): 0.0,\n",
       " ('BG', 'CO2 Captured', 0, 3, 0): 0.0,\n",
       " ('BG', 'CO2 Captured', 0, 3, 1): 0.0,\n",
       " ('BG', 'CO2 Captured', 0, 3, 2): 0.0,\n",
       " ('BG', 'CO2 Captured', 0, 3, 3): 0.0,\n",
       " ('BG', 'CO2 Captured', 0, 3, 4): 0.0,\n",
       " ('BG', 'CO2 Captured', 0, 3, 5): 0.0,\n",
       " ('BG', 'CO2 Captured', 0, 3, 6): 0.0,\n",
       " ('BG', 'CO2 Captured', 0, 3, 7): 0.0,\n",
       " ('BG', 'CO2 Captured', 0, 3, 8): 0.0,\n",
       " ('BG', 'CO2 Captured', 0, 3, 9): 0.0,\n",
       " ('BG', 'CO2 Captured', 0, 3, 10): 0.0,\n",
       " ('BG', 'CO2 Captured', 0, 3, 11): 0.0,\n",
       " ('BG', 'CO2 Captured', 0, 3, 12): 0.0,\n",
       " ('BG', 'CO2 Captured', 0, 3, 13): 0.0,\n",
       " ('BG', 'CO2 Captured', 0, 3, 14): 0.0,\n",
       " ('BG', 'CO2 Captured', 0, 3, 15): 0.0,\n",
       " ('BG', 'CO2 Captured', 0, 3, 16): 0.0,\n",
       " ('BG', 'CO2 Captured', 0, 3, 17): 0.0,\n",
       " ('BG', 'CO2 Captured', 0, 3, 18): 0.0,\n",
       " ('BG', 'CO2 Captured', 0, 3, 19): 0.0,\n",
       " ('BG', 'CO2 Captured', 0, 3, 20): 0.0,\n",
       " ('BG', 'CO2 Captured', 0, 3, 21): 0.0,\n",
       " ('BG', 'CO2 Captured', 0, 3, 22): 0.0,\n",
       " ('BG', 'CO2 Captured', 0, 3, 23): 0.0,\n",
       " ('BG', 'CO2 Captured', 0, 4, 0): 0.0,\n",
       " ('BG', 'CO2 Captured', 0, 4, 1): 0.0,\n",
       " ('BG', 'CO2 Captured', 0, 4, 2): 0.0,\n",
       " ('BG', 'CO2 Captured', 0, 4, 3): 0.0,\n",
       " ('BG', 'CO2 Captured', 0, 4, 4): 0.0,\n",
       " ('BG', 'CO2 Captured', 0, 4, 5): 0.0,\n",
       " ('BG', 'CO2 Captured', 0, 4, 6): 0.0,\n",
       " ('BG', 'CO2 Captured', 0, 4, 7): 0.0,\n",
       " ('BG', 'CO2 Captured', 0, 4, 8): 0.0,\n",
       " ('BG', 'CO2 Captured', 0, 4, 9): 0.0,\n",
       " ('BG', 'CO2 Captured', 0, 4, 10): 0.0,\n",
       " ('BG', 'CO2 Captured', 0, 4, 11): 0.0,\n",
       " ('BG', 'CO2 Captured', 0, 4, 12): 0.0,\n",
       " ('BG', 'CO2 Captured', 0, 4, 13): 0.0,\n",
       " ('BG', 'CO2 Captured', 0, 4, 14): 0.0,\n",
       " ('BG', 'CO2 Captured', 0, 4, 15): 0.0,\n",
       " ('BG', 'CO2 Captured', 0, 4, 16): 0.0,\n",
       " ('BG', 'CO2 Captured', 0, 4, 17): 0.0,\n",
       " ('BG', 'CO2 Captured', 0, 4, 18): 0.0,\n",
       " ('BG', 'CO2 Captured', 0, 4, 19): 0.0,\n",
       " ('BG', 'CO2 Captured', 0, 4, 20): 0.0,\n",
       " ('BG', 'CO2 Captured', 0, 4, 21): 0.0,\n",
       " ('BG', 'CO2 Captured', 0, 4, 22): 0.0,\n",
       " ('BG', 'CO2 Captured', 0, 4, 23): 0.0,\n",
       " ('BG', 'CO2 Captured', 0, 5, 0): 0.0,\n",
       " ('BG', 'CO2 Captured', 0, 5, 1): 0.0,\n",
       " ('BG', 'CO2 Captured', 0, 5, 2): 0.0,\n",
       " ('BG', 'CO2 Captured', 0, 5, 3): 0.0,\n",
       " ('BG', 'CO2 Captured', 0, 5, 4): 0.0,\n",
       " ('BG', 'CO2 Captured', 0, 5, 5): 0.0,\n",
       " ('BG', 'CO2 Captured', 0, 5, 6): 0.0,\n",
       " ('BG', 'CO2 Captured', 0, 5, 7): 0.0,\n",
       " ('BG', 'CO2 Captured', 0, 5, 8): 0.0,\n",
       " ('BG', 'CO2 Captured', 0, 5, 9): 0.0,\n",
       " ('BG', 'CO2 Captured', 0, 5, 10): 0.0,\n",
       " ('BG', 'CO2 Captured', 0, 5, 11): 0.0,\n",
       " ('BG', 'CO2 Captured', 0, 5, 12): 0.0,\n",
       " ('BG', 'CO2 Captured', 0, 5, 13): 0.0,\n",
       " ('BG', 'CO2 Captured', 0, 5, 14): 0.0,\n",
       " ('BG', 'CO2 Captured', 0, 5, 15): 0.0,\n",
       " ('BG', 'CO2 Captured', 0, 5, 16): 0.0,\n",
       " ('BG', 'CO2 Captured', 0, 5, 17): 0.0,\n",
       " ('BG', 'CO2 Captured', 0, 5, 18): 0.0,\n",
       " ('BG', 'CO2 Captured', 0, 5, 19): 0.0,\n",
       " ('BG', 'CO2 Captured', 0, 5, 20): 0.0,\n",
       " ('BG', 'CO2 Captured', 0, 5, 21): 0.0,\n",
       " ('BG', 'CO2 Captured', 0, 5, 22): 0.0,\n",
       " ('BG', 'CO2 Captured', 0, 5, 23): 0.0,\n",
       " ('BG', 'CO2 Captured', 0, 6, 0): 0.0,\n",
       " ('BG', 'CO2 Captured', 0, 6, 1): 0.0,\n",
       " ('BG', 'CO2 Captured', 0, 6, 2): 0.0,\n",
       " ('BG', 'CO2 Captured', 0, 6, 3): 0.0,\n",
       " ('BG', 'CO2 Captured', 0, 6, 4): 0.0,\n",
       " ('BG', 'CO2 Captured', 0, 6, 5): 0.0,\n",
       " ('BG', 'CO2 Captured', 0, 6, 6): 0.0,\n",
       " ('BG', 'CO2 Captured', 0, 6, 7): 0.0,\n",
       " ('BG', 'CO2 Captured', 0, 6, 8): 0.0,\n",
       " ('BG', 'CO2 Captured', 0, 6, 9): 0.0,\n",
       " ('BG', 'CO2 Captured', 0, 6, 10): 0.0,\n",
       " ('BG', 'CO2 Captured', 0, 6, 11): 0.0,\n",
       " ('BG', 'CO2 Captured', 0, 6, 12): 0.0,\n",
       " ('BG', 'CO2 Captured', 0, 6, 13): 0.0,\n",
       " ('BG', 'CO2 Captured', 0, 6, 14): 0.0,\n",
       " ('BG', 'CO2 Captured', 0, 6, 15): 0.0,\n",
       " ('BG', 'CO2 Captured', 0, 6, 16): 0.0,\n",
       " ('BG', 'CO2 Captured', 0, 6, 17): 0.0,\n",
       " ('BG', 'CO2 Captured', 0, 6, 18): 0.0,\n",
       " ('BG', 'CO2 Captured', 0, 6, 19): 0.0,\n",
       " ('BG', 'CO2 Captured', 0, 6, 20): 0.0,\n",
       " ('BG', 'CO2 Captured', 0, 6, 21): 0.0,\n",
       " ('BG', 'CO2 Captured', 0, 6, 22): 0.0,\n",
       " ('BG', 'CO2 Captured', 0, 6, 23): 0.0,\n",
       " ('BG', 'CO2 Captured', 0, 7, 0): 0.0,\n",
       " ('BG', 'CO2 Captured', 0, 7, 1): 0.0,\n",
       " ('BG', 'CO2 Captured', 0, 7, 2): 0.0,\n",
       " ('BG', 'CO2 Captured', 0, 7, 3): 0.0,\n",
       " ('BG', 'CO2 Captured', 0, 7, 4): 0.0,\n",
       " ('BG', 'CO2 Captured', 0, 7, 5): 0.0,\n",
       " ('BG', 'CO2 Captured', 0, 7, 6): 0.0,\n",
       " ('BG', 'CO2 Captured', 0, 7, 7): 0.0,\n",
       " ('BG', 'CO2 Captured', 0, 7, 8): 0.0,\n",
       " ('BG', 'CO2 Captured', 0, 7, 9): 0.0,\n",
       " ('BG', 'CO2 Captured', 0, 7, 10): 0.0,\n",
       " ('BG', 'CO2 Captured', 0, 7, 11): 0.0,\n",
       " ('BG', 'CO2 Captured', 0, 7, 12): 0.0,\n",
       " ('BG', 'CO2 Captured', 0, 7, 13): 0.0,\n",
       " ('BG', 'CO2 Captured', 0, 7, 14): 0.0,\n",
       " ('BG', 'CO2 Captured', 0, 7, 15): 0.0,\n",
       " ('BG', 'CO2 Captured', 0, 7, 16): 0.0,\n",
       " ('BG', 'CO2 Captured', 0, 7, 17): 0.0,\n",
       " ('BG', 'CO2 Captured', 0, 7, 18): 0.0,\n",
       " ('BG', 'CO2 Captured', 0, 7, 19): 0.0,\n",
       " ('BG', 'CO2 Captured', 0, 7, 20): 0.0,\n",
       " ('BG', 'CO2 Captured', 0, 7, 21): 0.0,\n",
       " ('BG', 'CO2 Captured', 0, 7, 22): 0.0,\n",
       " ('BG', 'CO2 Captured', 0, 7, 23): 0.0,\n",
       " ('BG', 'CO2 Captured', 0, 8, 0): 0.0,\n",
       " ('BG', 'CO2 Captured', 0, 8, 1): 0.0,\n",
       " ('BG', 'CO2 Captured', 0, 8, 2): 0.0,\n",
       " ('BG', 'CO2 Captured', 0, 8, 3): 0.0,\n",
       " ('BG', 'CO2 Captured', 0, 8, 4): 0.0,\n",
       " ('BG', 'CO2 Captured', 0, 8, 5): 0.0,\n",
       " ('BG', 'CO2 Captured', 0, 8, 6): 0.0,\n",
       " ('BG', 'CO2 Captured', 0, 8, 7): 0.0,\n",
       " ('BG', 'CO2 Captured', 0, 8, 8): 0.0,\n",
       " ('BG', 'CO2 Captured', 0, 8, 9): 0.0,\n",
       " ('BG', 'CO2 Captured', 0, 8, 10): 0.0,\n",
       " ('BG', 'CO2 Captured', 0, 8, 11): 0.0,\n",
       " ('BG', 'CO2 Captured', 0, 8, 12): 0.0,\n",
       " ('BG', 'CO2 Captured', 0, 8, 13): 0.0,\n",
       " ('BG', 'CO2 Captured', 0, 8, 14): 0.0,\n",
       " ('BG', 'CO2 Captured', 0, 8, 15): 0.0,\n",
       " ('BG', 'CO2 Captured', 0, 8, 16): 0.0,\n",
       " ('BG', 'CO2 Captured', 0, 8, 17): 0.0,\n",
       " ('BG', 'CO2 Captured', 0, 8, 18): 0.0,\n",
       " ('BG', 'CO2 Captured', 0, 8, 19): 0.0,\n",
       " ('BG', 'CO2 Captured', 0, 8, 20): 0.0,\n",
       " ('BG', 'CO2 Captured', 0, 8, 21): 0.0,\n",
       " ('BG', 'CO2 Captured', 0, 8, 22): 0.0,\n",
       " ('BG', 'CO2 Captured', 0, 8, 23): 0.0,\n",
       " ('BG', 'CO2 Captured', 0, 9, 0): 0.0,\n",
       " ('BG', 'CO2 Captured', 0, 9, 1): 0.0,\n",
       " ('BG', 'CO2 Captured', 0, 9, 2): 0.0,\n",
       " ('BG', 'CO2 Captured', 0, 9, 3): 0.0,\n",
       " ('BG', 'CO2 Captured', 0, 9, 4): 0.0,\n",
       " ('BG', 'CO2 Captured', 0, 9, 5): 0.0,\n",
       " ('BG', 'CO2 Captured', 0, 9, 6): 0.0,\n",
       " ('BG', 'CO2 Captured', 0, 9, 7): 0.0,\n",
       " ('BG', 'CO2 Captured', 0, 9, 8): 0.0,\n",
       " ('BG', 'CO2 Captured', 0, 9, 9): 0.0,\n",
       " ('BG', 'CO2 Captured', 0, 9, 10): 0.0,\n",
       " ('BG', 'CO2 Captured', 0, 9, 11): 0.0,\n",
       " ('BG', 'CO2 Captured', 0, 9, 12): 0.0,\n",
       " ('BG', 'CO2 Captured', 0, 9, 13): 0.0,\n",
       " ('BG', 'CO2 Captured', 0, 9, 14): 0.0,\n",
       " ('BG', 'CO2 Captured', 0, 9, 15): 0.0,\n",
       " ('BG', 'CO2 Captured', 0, 9, 16): 0.0,\n",
       " ('BG', 'CO2 Captured', 0, 9, 17): 0.0,\n",
       " ('BG', 'CO2 Captured', 0, 9, 18): 0.0,\n",
       " ('BG', 'CO2 Captured', 0, 9, 19): 0.0,\n",
       " ('BG', 'CO2 Captured', 0, 9, 20): 0.0,\n",
       " ('BG', 'CO2 Captured', 0, 9, 21): 0.0,\n",
       " ('BG', 'CO2 Captured', 0, 9, 22): 0.0,\n",
       " ('BG', 'CO2 Captured', 0, 9, 23): 0.0,\n",
       " ('BG', 'CO2 Captured', 0, 10, 0): 0.0,\n",
       " ('BG', 'CO2 Captured', 0, 10, 1): 0.0,\n",
       " ('BG', 'CO2 Captured', 0, 10, 2): 0.0,\n",
       " ('BG', 'CO2 Captured', 0, 10, 3): 0.0,\n",
       " ('BG', 'CO2 Captured', 0, 10, 4): 0.0,\n",
       " ('BG', 'CO2 Captured', 0, 10, 5): 0.0,\n",
       " ('BG', 'CO2 Captured', 0, 10, 6): 0.0,\n",
       " ('BG', 'CO2 Captured', 0, 10, 7): 0.0,\n",
       " ('BG', 'CO2 Captured', 0, 10, 8): 0.0,\n",
       " ('BG', 'CO2 Captured', 0, 10, 9): 0.0,\n",
       " ('BG', 'CO2 Captured', 0, 10, 10): 0.0,\n",
       " ('BG', 'CO2 Captured', 0, 10, 11): 0.0,\n",
       " ('BG', 'CO2 Captured', 0, 10, 12): 0.0,\n",
       " ('BG', 'CO2 Captured', 0, 10, 13): 0.0,\n",
       " ('BG', 'CO2 Captured', 0, 10, 14): 0.0,\n",
       " ('BG', 'CO2 Captured', 0, 10, 15): 0.0,\n",
       " ('BG', 'CO2 Captured', 0, 10, 16): 0.0,\n",
       " ('BG', 'CO2 Captured', 0, 10, 17): 0.0,\n",
       " ('BG', 'CO2 Captured', 0, 10, 18): 0.0,\n",
       " ('BG', 'CO2 Captured', 0, 10, 19): 0.0,\n",
       " ('BG', 'CO2 Captured', 0, 10, 20): 0.0,\n",
       " ('BG', 'CO2 Captured', 0, 10, 21): 0.0,\n",
       " ('BG', 'CO2 Captured', 0, 10, 22): 0.0,\n",
       " ('BG', 'CO2 Captured', 0, 10, 23): 0.0,\n",
       " ('BG', 'CO2 Captured', 0, 11, 0): 0.0,\n",
       " ('BG', 'CO2 Captured', 0, 11, 1): 0.0,\n",
       " ('BG', 'CO2 Captured', 0, 11, 2): 0.0,\n",
       " ('BG', 'CO2 Captured', 0, 11, 3): 0.0,\n",
       " ('BG', 'CO2 Captured', 0, 11, 4): 0.0,\n",
       " ('BG', 'CO2 Captured', 0, 11, 5): 0.0,\n",
       " ('BG', 'CO2 Captured', 0, 11, 6): 0.0,\n",
       " ('BG', 'CO2 Captured', 0, 11, 7): 0.0,\n",
       " ('BG', 'CO2 Captured', 0, 11, 8): 0.0,\n",
       " ('BG', 'CO2 Captured', 0, 11, 9): 0.0,\n",
       " ('BG', 'CO2 Captured', 0, 11, 10): 0.0,\n",
       " ('BG', 'CO2 Captured', 0, 11, 11): 0.0,\n",
       " ('BG', 'CO2 Captured', 0, 11, 12): 0.0,\n",
       " ('BG', 'CO2 Captured', 0, 11, 13): 0.0,\n",
       " ('BG', 'CO2 Captured', 0, 11, 14): 0.0,\n",
       " ('BG', 'CO2 Captured', 0, 11, 15): 0.0,\n",
       " ('BG', 'CO2 Captured', 0, 11, 16): 0.0,\n",
       " ('BG', 'CO2 Captured', 0, 11, 17): 0.0,\n",
       " ('BG', 'CO2 Captured', 0, 11, 18): 0.0,\n",
       " ('BG', 'CO2 Captured', 0, 11, 19): 0.0,\n",
       " ('BG', 'CO2 Captured', 0, 11, 20): 0.0,\n",
       " ('BG', 'CO2 Captured', 0, 11, 21): 0.0,\n",
       " ('BG', 'CO2 Captured', 0, 11, 22): 0.0,\n",
       " ('BG', 'CO2 Captured', 0, 11, 23): 0.0,\n",
       " ('BG', 'CO2 Captured', 0, 12, 0): 0.0,\n",
       " ('BG', 'CO2 Captured', 0, 12, 1): 0.0,\n",
       " ('BG', 'CO2 Captured', 0, 12, 2): 0.0,\n",
       " ('BG', 'CO2 Captured', 0, 12, 3): 0.0,\n",
       " ('BG', 'CO2 Captured', 0, 12, 4): 0.0,\n",
       " ('BG', 'CO2 Captured', 0, 12, 5): 0.0,\n",
       " ('BG', 'CO2 Captured', 0, 12, 6): 0.0,\n",
       " ('BG', 'CO2 Captured', 0, 12, 7): 0.0,\n",
       " ('BG', 'CO2 Captured', 0, 12, 8): 0.0,\n",
       " ('BG', 'CO2 Captured', 0, 12, 9): 0.0,\n",
       " ('BG', 'CO2 Captured', 0, 12, 10): 0.0,\n",
       " ('BG', 'CO2 Captured', 0, 12, 11): 0.0,\n",
       " ('BG', 'CO2 Captured', 0, 12, 12): 0.0,\n",
       " ('BG', 'CO2 Captured', 0, 12, 13): 0.0,\n",
       " ('BG', 'CO2 Captured', 0, 12, 14): 0.0,\n",
       " ('BG', 'CO2 Captured', 0, 12, 15): 0.0,\n",
       " ('BG', 'CO2 Captured', 0, 12, 16): 0.0,\n",
       " ('BG', 'CO2 Captured', 0, 12, 17): 0.0,\n",
       " ('BG', 'CO2 Captured', 0, 12, 18): 0.0,\n",
       " ('BG', 'CO2 Captured', 0, 12, 19): 0.0,\n",
       " ('BG', 'CO2 Captured', 0, 12, 20): 0.0,\n",
       " ('BG', 'CO2 Captured', 0, 12, 21): 0.0,\n",
       " ('BG', 'CO2 Captured', 0, 12, 22): 0.0,\n",
       " ('BG', 'CO2 Captured', 0, 12, 23): 0.0,\n",
       " ('BG', 'CO2 Captured', 0, 13, 0): 0.0,\n",
       " ('BG', 'CO2 Captured', 0, 13, 1): 0.0,\n",
       " ('BG', 'CO2 Captured', 0, 13, 2): 0.0,\n",
       " ('BG', 'CO2 Captured', 0, 13, 3): 0.0,\n",
       " ('BG', 'CO2 Captured', 0, 13, 4): 0.0,\n",
       " ('BG', 'CO2 Captured', 0, 13, 5): 0.0,\n",
       " ('BG', 'CO2 Captured', 0, 13, 6): 0.0,\n",
       " ('BG', 'CO2 Captured', 0, 13, 7): 0.0,\n",
       " ('BG', 'CO2 Captured', 0, 13, 8): 0.0,\n",
       " ('BG', 'CO2 Captured', 0, 13, 9): 0.0,\n",
       " ('BG', 'CO2 Captured', 0, 13, 10): 0.0,\n",
       " ('BG', 'CO2 Captured', 0, 13, 11): 0.0,\n",
       " ('BG', 'CO2 Captured', 0, 13, 12): 0.0,\n",
       " ('BG', 'CO2 Captured', 0, 13, 13): 0.0,\n",
       " ('BG', 'CO2 Captured', 0, 13, 14): 0.0,\n",
       " ('BG', 'CO2 Captured', 0, 13, 15): 0.0,\n",
       " ('BG', 'CO2 Captured', 0, 13, 16): 0.0,\n",
       " ('BG', 'CO2 Captured', 0, 13, 17): 0.0,\n",
       " ('BG', 'CO2 Captured', 0, 13, 18): 0.0,\n",
       " ('BG', 'CO2 Captured', 0, 13, 19): 0.0,\n",
       " ('BG', 'CO2 Captured', 0, 13, 20): 0.0,\n",
       " ('BG', 'CO2 Captured', 0, 13, 21): 0.0,\n",
       " ('BG', 'CO2 Captured', 0, 13, 22): 0.0,\n",
       " ('BG', 'CO2 Captured', 0, 13, 23): 0.0,\n",
       " ('BG', 'CO2 Captured', 0, 14, 0): 0.0,\n",
       " ('BG', 'CO2 Captured', 0, 14, 1): 0.0,\n",
       " ('BG', 'CO2 Captured', 0, 14, 2): 0.0,\n",
       " ('BG', 'CO2 Captured', 0, 14, 3): 0.0,\n",
       " ('BG', 'CO2 Captured', 0, 14, 4): 0.0,\n",
       " ('BG', 'CO2 Captured', 0, 14, 5): 0.0,\n",
       " ('BG', 'CO2 Captured', 0, 14, 6): 0.0,\n",
       " ('BG', 'CO2 Captured', 0, 14, 7): 0.0,\n",
       " ('BG', 'CO2 Captured', 0, 14, 8): 0.0,\n",
       " ('BG', 'CO2 Captured', 0, 14, 9): 0.0,\n",
       " ('BG', 'CO2 Captured', 0, 14, 10): 0.0,\n",
       " ('BG', 'CO2 Captured', 0, 14, 11): 0.0,\n",
       " ('BG', 'CO2 Captured', 0, 14, 12): 0.0,\n",
       " ('BG', 'CO2 Captured', 0, 14, 13): 0.0,\n",
       " ('BG', 'CO2 Captured', 0, 14, 14): 0.0,\n",
       " ('BG', 'CO2 Captured', 0, 14, 15): 0.0,\n",
       " ('BG', 'CO2 Captured', 0, 14, 16): 0.0,\n",
       " ('BG', 'CO2 Captured', 0, 14, 17): 0.0,\n",
       " ('BG', 'CO2 Captured', 0, 14, 18): 0.0,\n",
       " ('BG', 'CO2 Captured', 0, 14, 19): 0.0,\n",
       " ('BG', 'CO2 Captured', 0, 14, 20): 0.0,\n",
       " ('BG', 'CO2 Captured', 0, 14, 21): 0.0,\n",
       " ('BG', 'CO2 Captured', 0, 14, 22): 0.0,\n",
       " ('BG', 'CO2 Captured', 0, 14, 23): 0.0,\n",
       " ('BG', 'CO2 Captured', 0, 15, 0): 0.0,\n",
       " ('BG', 'CO2 Captured', 0, 15, 1): 0.0,\n",
       " ('BG', 'CO2 Captured', 0, 15, 2): 0.0,\n",
       " ('BG', 'CO2 Captured', 0, 15, 3): 0.0,\n",
       " ('BG', 'CO2 Captured', 0, 15, 4): 0.0,\n",
       " ('BG', 'CO2 Captured', 0, 15, 5): 0.0,\n",
       " ('BG', 'CO2 Captured', 0, 15, 6): 0.0,\n",
       " ('BG', 'CO2 Captured', 0, 15, 7): 0.0,\n",
       " ('BG', 'CO2 Captured', 0, 15, 8): 0.0,\n",
       " ('BG', 'CO2 Captured', 0, 15, 9): 0.0,\n",
       " ('BG', 'CO2 Captured', 0, 15, 10): 0.0,\n",
       " ('BG', 'CO2 Captured', 0, 15, 11): 0.0,\n",
       " ('BG', 'CO2 Captured', 0, 15, 12): 0.0,\n",
       " ('BG', 'CO2 Captured', 0, 15, 13): 0.0,\n",
       " ('BG', 'CO2 Captured', 0, 15, 14): 0.0,\n",
       " ('BG', 'CO2 Captured', 0, 15, 15): 0.0,\n",
       " ('BG', 'CO2 Captured', 0, 15, 16): 0.0,\n",
       " ('BG', 'CO2 Captured', 0, 15, 17): 0.0,\n",
       " ('BG', 'CO2 Captured', 0, 15, 18): 0.0,\n",
       " ('BG', 'CO2 Captured', 0, 15, 19): 0.0,\n",
       " ('BG', 'CO2 Captured', 0, 15, 20): 0.0,\n",
       " ('BG', 'CO2 Captured', 0, 15, 21): 0.0,\n",
       " ('BG', 'CO2 Captured', 0, 15, 22): 0.0,\n",
       " ('BG', 'CO2 Captured', 0, 15, 23): 0.0,\n",
       " ('BG', 'CO2 Captured', 0, 16, 0): 0.0,\n",
       " ('BG', 'CO2 Captured', 0, 16, 1): 0.0,\n",
       " ('BG', 'CO2 Captured', 0, 16, 2): 0.0,\n",
       " ('BG', 'CO2 Captured', 0, 16, 3): 0.0,\n",
       " ('BG', 'CO2 Captured', 0, 16, 4): 0.0,\n",
       " ('BG', 'CO2 Captured', 0, 16, 5): 0.0,\n",
       " ('BG', 'CO2 Captured', 0, 16, 6): 0.0,\n",
       " ('BG', 'CO2 Captured', 0, 16, 7): 0.0,\n",
       " ('BG', 'CO2 Captured', 0, 16, 8): 0.0,\n",
       " ('BG', 'CO2 Captured', 0, 16, 9): 0.0,\n",
       " ('BG', 'CO2 Captured', 0, 16, 10): 0.0,\n",
       " ('BG', 'CO2 Captured', 0, 16, 11): 0.0,\n",
       " ('BG', 'CO2 Captured', 0, 16, 12): 0.0,\n",
       " ('BG', 'CO2 Captured', 0, 16, 13): 0.0,\n",
       " ('BG', 'CO2 Captured', 0, 16, 14): 0.0,\n",
       " ('BG', 'CO2 Captured', 0, 16, 15): 0.0,\n",
       " ('BG', 'CO2 Captured', 0, 16, 16): 0.0,\n",
       " ('BG', 'CO2 Captured', 0, 16, 17): 0.0,\n",
       " ('BG', 'CO2 Captured', 0, 16, 18): 0.0,\n",
       " ('BG', 'CO2 Captured', 0, 16, 19): 0.0,\n",
       " ('BG', 'CO2 Captured', 0, 16, 20): 0.0,\n",
       " ('BG', 'CO2 Captured', 0, 16, 21): 0.0,\n",
       " ('BG', 'CO2 Captured', 0, 16, 22): 0.0,\n",
       " ('BG', 'CO2 Captured', 0, 16, 23): 0.0,\n",
       " ('BG', 'CO2 Captured', 0, 17, 0): 0.0,\n",
       " ('BG', 'CO2 Captured', 0, 17, 1): 0.0,\n",
       " ('BG', 'CO2 Captured', 0, 17, 2): 0.0,\n",
       " ('BG', 'CO2 Captured', 0, 17, 3): 0.0,\n",
       " ('BG', 'CO2 Captured', 0, 17, 4): 0.0,\n",
       " ('BG', 'CO2 Captured', 0, 17, 5): 0.0,\n",
       " ('BG', 'CO2 Captured', 0, 17, 6): 0.0,\n",
       " ('BG', 'CO2 Captured', 0, 17, 7): 0.0,\n",
       " ('BG', 'CO2 Captured', 0, 17, 8): 0.0,\n",
       " ('BG', 'CO2 Captured', 0, 17, 9): 0.0,\n",
       " ('BG', 'CO2 Captured', 0, 17, 10): 0.0,\n",
       " ('BG', 'CO2 Captured', 0, 17, 11): 0.0,\n",
       " ('BG', 'CO2 Captured', 0, 17, 12): 0.0,\n",
       " ('BG', 'CO2 Captured', 0, 17, 13): 0.0,\n",
       " ('BG', 'CO2 Captured', 0, 17, 14): 0.0,\n",
       " ('BG', 'CO2 Captured', 0, 17, 15): 0.0,\n",
       " ('BG', 'CO2 Captured', 0, 17, 16): 0.0,\n",
       " ('BG', 'CO2 Captured', 0, 17, 17): 0.0,\n",
       " ('BG', 'CO2 Captured', 0, 17, 18): 0.0,\n",
       " ('BG', 'CO2 Captured', 0, 17, 19): 0.0,\n",
       " ('BG', 'CO2 Captured', 0, 17, 20): 0.0,\n",
       " ('BG', 'CO2 Captured', 0, 17, 21): 0.0,\n",
       " ('BG', 'CO2 Captured', 0, 17, 22): 0.0,\n",
       " ('BG', 'CO2 Captured', 0, 17, 23): 0.0,\n",
       " ('BG', 'CO2 Captured', 0, 18, 0): 0.0,\n",
       " ('BG', 'CO2 Captured', 0, 18, 1): 0.0,\n",
       " ('BG', 'CO2 Captured', 0, 18, 2): 0.0,\n",
       " ('BG', 'CO2 Captured', 0, 18, 3): 0.0,\n",
       " ('BG', 'CO2 Captured', 0, 18, 4): 0.0,\n",
       " ('BG', 'CO2 Captured', 0, 18, 5): 0.0,\n",
       " ('BG', 'CO2 Captured', 0, 18, 6): 0.0,\n",
       " ('BG', 'CO2 Captured', 0, 18, 7): 0.0,\n",
       " ('BG', 'CO2 Captured', 0, 18, 8): 0.0,\n",
       " ('BG', 'CO2 Captured', 0, 18, 9): 0.0,\n",
       " ('BG', 'CO2 Captured', 0, 18, 10): 0.0,\n",
       " ('BG', 'CO2 Captured', 0, 18, 11): 0.0,\n",
       " ('BG', 'CO2 Captured', 0, 18, 12): 0.0,\n",
       " ('BG', 'CO2 Captured', 0, 18, 13): 0.0,\n",
       " ('BG', 'CO2 Captured', 0, 18, 14): 0.0,\n",
       " ('BG', 'CO2 Captured', 0, 18, 15): 0.0,\n",
       " ('BG', 'CO2 Captured', 0, 18, 16): 0.0,\n",
       " ('BG', 'CO2 Captured', 0, 18, 17): 0.0,\n",
       " ('BG', 'CO2 Captured', 0, 18, 18): 0.0,\n",
       " ('BG', 'CO2 Captured', 0, 18, 19): 0.0,\n",
       " ('BG', 'CO2 Captured', 0, 18, 20): 0.0,\n",
       " ('BG', 'CO2 Captured', 0, 18, 21): 0.0,\n",
       " ('BG', 'CO2 Captured', 0, 18, 22): 0.0,\n",
       " ('BG', 'CO2 Captured', 0, 18, 23): 0.0,\n",
       " ('BG', 'CO2 Captured', 0, 19, 0): 0.0,\n",
       " ('BG', 'CO2 Captured', 0, 19, 1): 0.0,\n",
       " ('BG', 'CO2 Captured', 0, 19, 2): 0.0,\n",
       " ('BG', 'CO2 Captured', 0, 19, 3): 0.0,\n",
       " ('BG', 'CO2 Captured', 0, 19, 4): 0.0,\n",
       " ('BG', 'CO2 Captured', 0, 19, 5): 0.0,\n",
       " ('BG', 'CO2 Captured', 0, 19, 6): 0.0,\n",
       " ('BG', 'CO2 Captured', 0, 19, 7): 0.0,\n",
       " ('BG', 'CO2 Captured', 0, 19, 8): 0.0,\n",
       " ('BG', 'CO2 Captured', 0, 19, 9): 0.0,\n",
       " ('BG', 'CO2 Captured', 0, 19, 10): 0.0,\n",
       " ('BG', 'CO2 Captured', 0, 19, 11): 0.0,\n",
       " ('BG', 'CO2 Captured', 0, 19, 12): 0.0,\n",
       " ('BG', 'CO2 Captured', 0, 19, 13): 0.0,\n",
       " ('BG', 'CO2 Captured', 0, 19, 14): 0.0,\n",
       " ('BG', 'CO2 Captured', 0, 19, 15): 0.0,\n",
       " ('BG', 'CO2 Captured', 0, 19, 16): 0.0,\n",
       " ('BG', 'CO2 Captured', 0, 19, 17): 0.0,\n",
       " ('BG', 'CO2 Captured', 0, 19, 18): 0.0,\n",
       " ('BG', 'CO2 Captured', 0, 19, 19): 0.0,\n",
       " ('BG', 'CO2 Captured', 0, 19, 20): 0.0,\n",
       " ('BG', 'CO2 Captured', 0, 19, 21): 0.0,\n",
       " ('BG', 'CO2 Captured', 0, 19, 22): 0.0,\n",
       " ('BG', 'CO2 Captured', 0, 19, 23): 0.0,\n",
       " ('BG', 'CO2 Captured', 0, 20, 0): 0.0,\n",
       " ('BG', 'CO2 Captured', 0, 20, 1): 0.0,\n",
       " ('BG', 'CO2 Captured', 0, 20, 2): 0.0,\n",
       " ('BG', 'CO2 Captured', 0, 20, 3): 0.0,\n",
       " ('BG', 'CO2 Captured', 0, 20, 4): 0.0,\n",
       " ('BG', 'CO2 Captured', 0, 20, 5): 0.0,\n",
       " ('BG', 'CO2 Captured', 0, 20, 6): 0.0,\n",
       " ('BG', 'CO2 Captured', 0, 20, 7): 0.0,\n",
       " ('BG', 'CO2 Captured', 0, 20, 8): 0.0,\n",
       " ('BG', 'CO2 Captured', 0, 20, 9): 0.0,\n",
       " ('BG', 'CO2 Captured', 0, 20, 10): 0.0,\n",
       " ('BG', 'CO2 Captured', 0, 20, 11): 0.0,\n",
       " ('BG', 'CO2 Captured', 0, 20, 12): 0.0,\n",
       " ('BG', 'CO2 Captured', 0, 20, 13): 0.0,\n",
       " ('BG', 'CO2 Captured', 0, 20, 14): 0.0,\n",
       " ('BG', 'CO2 Captured', 0, 20, 15): 0.0,\n",
       " ('BG', 'CO2 Captured', 0, 20, 16): 0.0,\n",
       " ('BG', 'CO2 Captured', 0, 20, 17): 0.0,\n",
       " ('BG', 'CO2 Captured', 0, 20, 18): 0.0,\n",
       " ('BG', 'CO2 Captured', 0, 20, 19): 0.0,\n",
       " ('BG', 'CO2 Captured', 0, 20, 20): 0.0,\n",
       " ('BG', 'CO2 Captured', 0, 20, 21): 0.0,\n",
       " ('BG', 'CO2 Captured', 0, 20, 22): 0.0,\n",
       " ('BG', 'CO2 Captured', 0, 20, 23): 0.0,\n",
       " ('BG', 'CO2 Captured', 0, 21, 0): 0.0,\n",
       " ('BG', 'CO2 Captured', 0, 21, 1): 0.0,\n",
       " ('BG', 'CO2 Captured', 0, 21, 2): 0.0,\n",
       " ('BG', 'CO2 Captured', 0, 21, 3): 0.0,\n",
       " ('BG', 'CO2 Captured', 0, 21, 4): 0.0,\n",
       " ('BG', 'CO2 Captured', 0, 21, 5): 0.0,\n",
       " ('BG', 'CO2 Captured', 0, 21, 6): 0.0,\n",
       " ('BG', 'CO2 Captured', 0, 21, 7): 0.0,\n",
       " ('BG', 'CO2 Captured', 0, 21, 8): 0.0,\n",
       " ('BG', 'CO2 Captured', 0, 21, 9): 0.0,\n",
       " ('BG', 'CO2 Captured', 0, 21, 10): 0.0,\n",
       " ('BG', 'CO2 Captured', 0, 21, 11): 0.0,\n",
       " ('BG', 'CO2 Captured', 0, 21, 12): 0.0,\n",
       " ('BG', 'CO2 Captured', 0, 21, 13): 0.0,\n",
       " ('BG', 'CO2 Captured', 0, 21, 14): 0.0,\n",
       " ('BG', 'CO2 Captured', 0, 21, 15): 0.0,\n",
       " ('BG', 'CO2 Captured', 0, 21, 16): 0.0,\n",
       " ('BG', 'CO2 Captured', 0, 21, 17): 0.0,\n",
       " ('BG', 'CO2 Captured', 0, 21, 18): 0.0,\n",
       " ('BG', 'CO2 Captured', 0, 21, 19): 0.0,\n",
       " ('BG', 'CO2 Captured', 0, 21, 20): 0.0,\n",
       " ('BG', 'CO2 Captured', 0, 21, 21): 0.0,\n",
       " ('BG', 'CO2 Captured', 0, 21, 22): 0.0,\n",
       " ('BG', 'CO2 Captured', 0, 21, 23): 0.0,\n",
       " ('BG', 'CO2 Captured', 0, 22, 0): 0.0,\n",
       " ('BG', 'CO2 Captured', 0, 22, 1): 0.0,\n",
       " ('BG', 'CO2 Captured', 0, 22, 2): 0.0,\n",
       " ('BG', 'CO2 Captured', 0, 22, 3): 0.0,\n",
       " ('BG', 'CO2 Captured', 0, 22, 4): 0.0,\n",
       " ('BG', 'CO2 Captured', 0, 22, 5): 0.0,\n",
       " ('BG', 'CO2 Captured', 0, 22, 6): 0.0,\n",
       " ('BG', 'CO2 Captured', 0, 22, 7): 0.0,\n",
       " ('BG', 'CO2 Captured', 0, 22, 8): 0.0,\n",
       " ('BG', 'CO2 Captured', 0, 22, 9): 0.0,\n",
       " ('BG', 'CO2 Captured', 0, 22, 10): 0.0,\n",
       " ('BG', 'CO2 Captured', 0, 22, 11): 0.0,\n",
       " ('BG', 'CO2 Captured', 0, 22, 12): 0.0,\n",
       " ('BG', 'CO2 Captured', 0, 22, 13): 0.0,\n",
       " ('BG', 'CO2 Captured', 0, 22, 14): 0.0,\n",
       " ('BG', 'CO2 Captured', 0, 22, 15): 0.0,\n",
       " ('BG', 'CO2 Captured', 0, 22, 16): 0.0,\n",
       " ('BG', 'CO2 Captured', 0, 22, 17): 0.0,\n",
       " ('BG', 'CO2 Captured', 0, 22, 18): 0.0,\n",
       " ('BG', 'CO2 Captured', 0, 22, 19): 0.0,\n",
       " ('BG', 'CO2 Captured', 0, 22, 20): 0.0,\n",
       " ('BG', 'CO2 Captured', 0, 22, 21): 0.0,\n",
       " ('BG', 'CO2 Captured', 0, 22, 22): 0.0,\n",
       " ('BG', 'CO2 Captured', 0, 22, 23): 0.0,\n",
       " ('BG', 'CO2 Captured', 0, 23, 0): 0.0,\n",
       " ('BG', 'CO2 Captured', 0, 23, 1): 0.0,\n",
       " ('BG', 'CO2 Captured', 0, 23, 2): 0.0,\n",
       " ('BG', 'CO2 Captured', 0, 23, 3): 0.0,\n",
       " ('BG', 'CO2 Captured', 0, 23, 4): 0.0,\n",
       " ('BG', 'CO2 Captured', 0, 23, 5): 0.0,\n",
       " ('BG', 'CO2 Captured', 0, 23, 6): 0.0,\n",
       " ('BG', 'CO2 Captured', 0, 23, 7): 0.0,\n",
       " ('BG', 'CO2 Captured', 0, 23, 8): 0.0,\n",
       " ('BG', 'CO2 Captured', 0, 23, 9): 0.0,\n",
       " ('BG', 'CO2 Captured', 0, 23, 10): 0.0,\n",
       " ('BG', 'CO2 Captured', 0, 23, 11): 0.0,\n",
       " ('BG', 'CO2 Captured', 0, 23, 12): 0.0,\n",
       " ('BG', 'CO2 Captured', 0, 23, 13): 0.0,\n",
       " ('BG', 'CO2 Captured', 0, 23, 14): 0.0,\n",
       " ('BG', 'CO2 Captured', 0, 23, 15): 0.0,\n",
       " ('BG', 'CO2 Captured', 0, 23, 16): 0.0,\n",
       " ('BG', 'CO2 Captured', 0, 23, 17): 0.0,\n",
       " ('BG', 'CO2 Captured', 0, 23, 18): 0.0,\n",
       " ('BG', 'CO2 Captured', 0, 23, 19): 0.0,\n",
       " ('BG', 'CO2 Captured', 0, 23, 20): 0.0,\n",
       " ('BG', 'CO2 Captured', 0, 23, 21): 0.0,\n",
       " ('BG', 'CO2 Captured', 0, 23, 22): 0.0,\n",
       " ('BG', 'CO2 Captured', 0, 23, 23): 0.0,\n",
       " ('BG', 'CO2 Captured', 0, 24, 0): 0.0,\n",
       " ('BG', 'CO2 Captured', 0, 24, 1): 0.0,\n",
       " ('BG', 'CO2 Captured', 0, 24, 2): 0.0,\n",
       " ('BG', 'CO2 Captured', 0, 24, 3): 0.0,\n",
       " ('BG', 'CO2 Captured', 0, 24, 4): 0.0,\n",
       " ('BG', 'CO2 Captured', 0, 24, 5): 0.0,\n",
       " ('BG', 'CO2 Captured', 0, 24, 6): 0.0,\n",
       " ('BG', 'CO2 Captured', 0, 24, 7): 0.0,\n",
       " ('BG', 'CO2 Captured', 0, 24, 8): 0.0,\n",
       " ('BG', 'CO2 Captured', 0, 24, 9): 0.0,\n",
       " ('BG', 'CO2 Captured', 0, 24, 10): 0.0,\n",
       " ('BG', 'CO2 Captured', 0, 24, 11): 0.0,\n",
       " ('BG', 'CO2 Captured', 0, 24, 12): 0.0,\n",
       " ('BG', 'CO2 Captured', 0, 24, 13): 0.0,\n",
       " ('BG', 'CO2 Captured', 0, 24, 14): 0.0,\n",
       " ('BG', 'CO2 Captured', 0, 24, 15): 0.0,\n",
       " ('BG', 'CO2 Captured', 0, 24, 16): 0.0,\n",
       " ('BG', 'CO2 Captured', 0, 24, 17): 0.0,\n",
       " ('BG', 'CO2 Captured', 0, 24, 18): 0.0,\n",
       " ('BG', 'CO2 Captured', 0, 24, 19): 0.0,\n",
       " ('BG', 'CO2 Captured', 0, 24, 20): 0.0,\n",
       " ('BG', 'CO2 Captured', 0, 24, 21): 0.0,\n",
       " ('BG', 'CO2 Captured', 0, 24, 22): 0.0,\n",
       " ('BG', 'CO2 Captured', 0, 24, 23): 0.0,\n",
       " ('BG', 'CO2 Captured', 0, 25, 0): 0.0,\n",
       " ('BG', 'CO2 Captured', 0, 25, 1): 0.0,\n",
       " ('BG', 'CO2 Captured', 0, 25, 2): 0.0,\n",
       " ('BG', 'CO2 Captured', 0, 25, 3): 0.0,\n",
       " ('BG', 'CO2 Captured', 0, 25, 4): 0.0,\n",
       " ('BG', 'CO2 Captured', 0, 25, 5): 0.0,\n",
       " ('BG', 'CO2 Captured', 0, 25, 6): 0.0,\n",
       " ('BG', 'CO2 Captured', 0, 25, 7): 0.0,\n",
       " ('BG', 'CO2 Captured', 0, 25, 8): 0.0,\n",
       " ('BG', 'CO2 Captured', 0, 25, 9): 0.0,\n",
       " ('BG', 'CO2 Captured', 0, 25, 10): 0.0,\n",
       " ('BG', 'CO2 Captured', 0, 25, 11): 0.0,\n",
       " ('BG', 'CO2 Captured', 0, 25, 12): 0.0,\n",
       " ('BG', 'CO2 Captured', 0, 25, 13): 0.0,\n",
       " ('BG', 'CO2 Captured', 0, 25, 14): 0.0,\n",
       " ('BG', 'CO2 Captured', 0, 25, 15): 0.0,\n",
       " ('BG', 'CO2 Captured', 0, 25, 16): 0.0,\n",
       " ('BG', 'CO2 Captured', 0, 25, 17): 0.0,\n",
       " ('BG', 'CO2 Captured', 0, 25, 18): 0.0,\n",
       " ('BG', 'CO2 Captured', 0, 25, 19): 0.0,\n",
       " ('BG', 'CO2 Captured', 0, 25, 20): 0.0,\n",
       " ('BG', 'CO2 Captured', 0, 25, 21): 0.0,\n",
       " ('BG', 'CO2 Captured', 0, 25, 22): 0.0,\n",
       " ('BG', 'CO2 Captured', 0, 25, 23): 0.0,\n",
       " ('BG', 'CO2 Captured', 0, 26, 0): 0.0,\n",
       " ('BG', 'CO2 Captured', 0, 26, 1): 0.0,\n",
       " ('BG', 'CO2 Captured', 0, 26, 2): 0.0,\n",
       " ('BG', 'CO2 Captured', 0, 26, 3): 0.0,\n",
       " ('BG', 'CO2 Captured', 0, 26, 4): 0.0,\n",
       " ('BG', 'CO2 Captured', 0, 26, 5): 0.0,\n",
       " ('BG', 'CO2 Captured', 0, 26, 6): 0.0,\n",
       " ('BG', 'CO2 Captured', 0, 26, 7): 0.0,\n",
       " ('BG', 'CO2 Captured', 0, 26, 8): 0.0,\n",
       " ('BG', 'CO2 Captured', 0, 26, 9): 0.0,\n",
       " ('BG', 'CO2 Captured', 0, 26, 10): 0.0,\n",
       " ('BG', 'CO2 Captured', 0, 26, 11): 0.0,\n",
       " ('BG', 'CO2 Captured', 0, 26, 12): 0.0,\n",
       " ('BG', 'CO2 Captured', 0, 26, 13): 0.0,\n",
       " ('BG', 'CO2 Captured', 0, 26, 14): 0.0,\n",
       " ('BG', 'CO2 Captured', 0, 26, 15): 0.0,\n",
       " ('BG', 'CO2 Captured', 0, 26, 16): 0.0,\n",
       " ('BG', 'CO2 Captured', 0, 26, 17): 0.0,\n",
       " ('BG', 'CO2 Captured', 0, 26, 18): 0.0,\n",
       " ('BG', 'CO2 Captured', 0, 26, 19): 0.0,\n",
       " ('BG', 'CO2 Captured', 0, 26, 20): 0.0,\n",
       " ('BG', 'CO2 Captured', 0, 26, 21): 0.0,\n",
       " ('BG', 'CO2 Captured', 0, 26, 22): 0.0,\n",
       " ('BG', 'CO2 Captured', 0, 26, 23): 0.0,\n",
       " ('BG', 'CO2 Captured', 0, 27, 0): 0.0,\n",
       " ('BG', 'CO2 Captured', 0, 27, 1): 0.0,\n",
       " ('BG', 'CO2 Captured', 0, 27, 2): 0.0,\n",
       " ('BG', 'CO2 Captured', 0, 27, 3): 0.0,\n",
       " ('BG', 'CO2 Captured', 0, 27, 4): 0.0,\n",
       " ('BG', 'CO2 Captured', 0, 27, 5): 0.0,\n",
       " ('BG', 'CO2 Captured', 0, 27, 6): 0.0,\n",
       " ('BG', 'CO2 Captured', 0, 27, 7): 0.0,\n",
       " ('BG', 'CO2 Captured', 0, 27, 8): 0.0,\n",
       " ('BG', 'CO2 Captured', 0, 27, 9): 0.0,\n",
       " ('BG', 'CO2 Captured', 0, 27, 10): 0.0,\n",
       " ('BG', 'CO2 Captured', 0, 27, 11): 0.0,\n",
       " ('BG', 'CO2 Captured', 0, 27, 12): 0.0,\n",
       " ('BG', 'CO2 Captured', 0, 27, 13): 0.0,\n",
       " ('BG', 'CO2 Captured', 0, 27, 14): 0.0,\n",
       " ('BG', 'CO2 Captured', 0, 27, 15): 0.0,\n",
       " ('BG', 'CO2 Captured', 0, 27, 16): 0.0,\n",
       " ('BG', 'CO2 Captured', 0, 27, 17): 0.0,\n",
       " ('BG', 'CO2 Captured', 0, 27, 18): 0.0,\n",
       " ('BG', 'CO2 Captured', 0, 27, 19): 0.0,\n",
       " ('BG', 'CO2 Captured', 0, 27, 20): 0.0,\n",
       " ('BG', 'CO2 Captured', 0, 27, 21): 0.0,\n",
       " ('BG', 'CO2 Captured', 0, 27, 22): 0.0,\n",
       " ('BG', 'CO2 Captured', 0, 27, 23): 0.0,\n",
       " ('BG', 'CO2 Captured', 0, 28, 0): 0.0,\n",
       " ('BG', 'CO2 Captured', 0, 28, 1): 0.0,\n",
       " ('BG', 'CO2 Captured', 0, 28, 2): 0.0,\n",
       " ('BG', 'CO2 Captured', 0, 28, 3): 0.0,\n",
       " ('BG', 'CO2 Captured', 0, 28, 4): 0.0,\n",
       " ('BG', 'CO2 Captured', 0, 28, 5): 0.0,\n",
       " ('BG', 'CO2 Captured', 0, 28, 6): 0.0,\n",
       " ('BG', 'CO2 Captured', 0, 28, 7): 0.0,\n",
       " ('BG', 'CO2 Captured', 0, 28, 8): 0.0,\n",
       " ('BG', 'CO2 Captured', 0, 28, 9): 0.0,\n",
       " ('BG', 'CO2 Captured', 0, 28, 10): 0.0,\n",
       " ('BG', 'CO2 Captured', 0, 28, 11): 0.0,\n",
       " ('BG', 'CO2 Captured', 0, 28, 12): 0.0,\n",
       " ('BG', 'CO2 Captured', 0, 28, 13): 0.0,\n",
       " ('BG', 'CO2 Captured', 0, 28, 14): 0.0,\n",
       " ('BG', 'CO2 Captured', 0, 28, 15): 0.0,\n",
       " ('BG', 'CO2 Captured', 0, 28, 16): 0.0,\n",
       " ('BG', 'CO2 Captured', 0, 28, 17): 0.0,\n",
       " ('BG', 'CO2 Captured', 0, 28, 18): 0.0,\n",
       " ('BG', 'CO2 Captured', 0, 28, 19): 0.0,\n",
       " ('BG', 'CO2 Captured', 0, 28, 20): 0.0,\n",
       " ('BG', 'CO2 Captured', 0, 28, 21): 0.0,\n",
       " ('BG', 'CO2 Captured', 0, 28, 22): 0.0,\n",
       " ('BG', 'CO2 Captured', 0, 28, 23): 0.0,\n",
       " ('BG', 'CO2 Captured', 0, 29, 0): 0.0,\n",
       " ('BG', 'CO2 Captured', 0, 29, 1): 0.0,\n",
       " ('BG', 'CO2 Captured', 0, 29, 2): 0.0,\n",
       " ('BG', 'CO2 Captured', 0, 29, 3): 0.0,\n",
       " ('BG', 'CO2 Captured', 0, 29, 4): 0.0,\n",
       " ('BG', 'CO2 Captured', 0, 29, 5): 0.0,\n",
       " ('BG', 'CO2 Captured', 0, 29, 6): 0.0,\n",
       " ('BG', 'CO2 Captured', 0, 29, 7): 0.0,\n",
       " ('BG', 'CO2 Captured', 0, 29, 8): 0.0,\n",
       " ('BG', 'CO2 Captured', 0, 29, 9): 0.0,\n",
       " ('BG', 'CO2 Captured', 0, 29, 10): 0.0,\n",
       " ('BG', 'CO2 Captured', 0, 29, 11): 0.0,\n",
       " ('BG', 'CO2 Captured', 0, 29, 12): 0.0,\n",
       " ('BG', 'CO2 Captured', 0, 29, 13): 0.0,\n",
       " ('BG', 'CO2 Captured', 0, 29, 14): 0.0,\n",
       " ('BG', 'CO2 Captured', 0, 29, 15): 0.0,\n",
       " ('BG', 'CO2 Captured', 0, 29, 16): 0.0,\n",
       " ('BG', 'CO2 Captured', 0, 29, 17): 0.0,\n",
       " ('BG', 'CO2 Captured', 0, 29, 18): 0.0,\n",
       " ('BG', 'CO2 Captured', 0, 29, 19): 0.0,\n",
       " ('BG', 'CO2 Captured', 0, 29, 20): 0.0,\n",
       " ('BG', 'CO2 Captured', 0, 29, 21): 0.0,\n",
       " ('BG', 'CO2 Captured', 0, 29, 22): 0.0,\n",
       " ('BG', 'CO2 Captured', 0, 29, 23): 0.0,\n",
       " ('BG', 'CO2 Captured', 0, 30, 0): 0.0,\n",
       " ('BG', 'CO2 Captured', 0, 30, 1): 0.0,\n",
       " ('BG', 'CO2 Captured', 0, 30, 2): 0.0,\n",
       " ('BG', 'CO2 Captured', 0, 30, 3): 0.0,\n",
       " ('BG', 'CO2 Captured', 0, 30, 4): 0.0,\n",
       " ('BG', 'CO2 Captured', 0, 30, 5): 0.0,\n",
       " ('BG', 'CO2 Captured', 0, 30, 6): 0.0,\n",
       " ('BG', 'CO2 Captured', 0, 30, 7): 0.0,\n",
       " ('BG', 'CO2 Captured', 0, 30, 8): 0.0,\n",
       " ('BG', 'CO2 Captured', 0, 30, 9): 0.0,\n",
       " ('BG', 'CO2 Captured', 0, 30, 10): 0.0,\n",
       " ('BG', 'CO2 Captured', 0, 30, 11): 0.0,\n",
       " ('BG', 'CO2 Captured', 0, 30, 12): 0.0,\n",
       " ('BG', 'CO2 Captured', 0, 30, 13): 0.0,\n",
       " ('BG', 'CO2 Captured', 0, 30, 14): 0.0,\n",
       " ('BG', 'CO2 Captured', 0, 30, 15): 0.0,\n",
       " ('BG', 'CO2 Captured', 0, 30, 16): 0.0,\n",
       " ('BG', 'CO2 Captured', 0, 30, 17): 0.0,\n",
       " ('BG', 'CO2 Captured', 0, 30, 18): 0.0,\n",
       " ('BG', 'CO2 Captured', 0, 30, 19): 0.0,\n",
       " ('BG', 'CO2 Captured', 0, 30, 20): 0.0,\n",
       " ('BG', 'CO2 Captured', 0, 30, 21): 0.0,\n",
       " ('BG', 'CO2 Captured', 0, 30, 22): 0.0,\n",
       " ('BG', 'CO2 Captured', 0, 30, 23): 0.0,\n",
       " ('BG', 'CO2 Captured', 0, 31, 0): 0.0,\n",
       " ('BG', 'CO2 Captured', 0, 31, 1): 0.0,\n",
       " ('BG', 'CO2 Captured', 0, 31, 2): 0.0,\n",
       " ('BG', 'CO2 Captured', 0, 31, 3): 0.0,\n",
       " ('BG', 'CO2 Captured', 0, 31, 4): 0.0,\n",
       " ('BG', 'CO2 Captured', 0, 31, 5): 0.0,\n",
       " ('BG', 'CO2 Captured', 0, 31, 6): 0.0,\n",
       " ('BG', 'CO2 Captured', 0, 31, 7): 0.0,\n",
       " ('BG', 'CO2 Captured', 0, 31, 8): 0.0,\n",
       " ('BG', 'CO2 Captured', 0, 31, 9): 0.0,\n",
       " ('BG', 'CO2 Captured', 0, 31, 10): 0.0,\n",
       " ('BG', 'CO2 Captured', 0, 31, 11): 0.0,\n",
       " ('BG', 'CO2 Captured', 0, 31, 12): 0.0,\n",
       " ('BG', 'CO2 Captured', 0, 31, 13): 0.0,\n",
       " ('BG', 'CO2 Captured', 0, 31, 14): 0.0,\n",
       " ('BG', 'CO2 Captured', 0, 31, 15): 0.0,\n",
       " ('BG', 'CO2 Captured', 0, 31, 16): 0.0,\n",
       " ('BG', 'CO2 Captured', 0, 31, 17): 0.0,\n",
       " ('BG', 'CO2 Captured', 0, 31, 18): 0.0,\n",
       " ('BG', 'CO2 Captured', 0, 31, 19): 0.0,\n",
       " ('BG', 'CO2 Captured', 0, 31, 20): 0.0,\n",
       " ('BG', 'CO2 Captured', 0, 31, 21): 0.0,\n",
       " ('BG', 'CO2 Captured', 0, 31, 22): 0.0,\n",
       " ('BG', 'CO2 Captured', 0, 31, 23): 0.0,\n",
       " ('BG', 'CO2 Captured', 0, 32, 0): 0.0,\n",
       " ('BG', 'CO2 Captured', 0, 32, 1): 0.0,\n",
       " ('BG', 'CO2 Captured', 0, 32, 2): 0.0,\n",
       " ('BG', 'CO2 Captured', 0, 32, 3): 0.0,\n",
       " ('BG', 'CO2 Captured', 0, 32, 4): 0.0,\n",
       " ('BG', 'CO2 Captured', 0, 32, 5): 0.0,\n",
       " ('BG', 'CO2 Captured', 0, 32, 6): 0.0,\n",
       " ('BG', 'CO2 Captured', 0, 32, 7): 0.0,\n",
       " ('BG', 'CO2 Captured', 0, 32, 8): 0.0,\n",
       " ('BG', 'CO2 Captured', 0, 32, 9): 0.0,\n",
       " ('BG', 'CO2 Captured', 0, 32, 10): 0.0,\n",
       " ('BG', 'CO2 Captured', 0, 32, 11): 0.0,\n",
       " ('BG', 'CO2 Captured', 0, 32, 12): 0.0,\n",
       " ('BG', 'CO2 Captured', 0, 32, 13): 0.0,\n",
       " ('BG', 'CO2 Captured', 0, 32, 14): 0.0,\n",
       " ('BG', 'CO2 Captured', 0, 32, 15): 0.0,\n",
       " ('BG', 'CO2 Captured', 0, 32, 16): 0.0,\n",
       " ('BG', 'CO2 Captured', 0, 32, 17): 0.0,\n",
       " ('BG', 'CO2 Captured', 0, 32, 18): 0.0,\n",
       " ('BG', 'CO2 Captured', 0, 32, 19): 0.0,\n",
       " ('BG', 'CO2 Captured', 0, 32, 20): 0.0,\n",
       " ('BG', 'CO2 Captured', 0, 32, 21): 0.0,\n",
       " ('BG', 'CO2 Captured', 0, 32, 22): 0.0,\n",
       " ('BG', 'CO2 Captured', 0, 32, 23): 0.0,\n",
       " ('BG', 'CO2 Captured', 0, 33, 0): 0.0,\n",
       " ('BG', 'CO2 Captured', 0, 33, 1): 0.0,\n",
       " ('BG', 'CO2 Captured', 0, 33, 2): 0.0,\n",
       " ('BG', 'CO2 Captured', 0, 33, 3): 0.0,\n",
       " ('BG', 'CO2 Captured', 0, 33, 4): 0.0,\n",
       " ('BG', 'CO2 Captured', 0, 33, 5): 0.0,\n",
       " ('BG', 'CO2 Captured', 0, 33, 6): 0.0,\n",
       " ('BG', 'CO2 Captured', 0, 33, 7): 0.0,\n",
       " ('BG', 'CO2 Captured', 0, 33, 8): 0.0,\n",
       " ('BG', 'CO2 Captured', 0, 33, 9): 0.0,\n",
       " ('BG', 'CO2 Captured', 0, 33, 10): 0.0,\n",
       " ('BG', 'CO2 Captured', 0, 33, 11): 0.0,\n",
       " ('BG', 'CO2 Captured', 0, 33, 12): 0.0,\n",
       " ('BG', 'CO2 Captured', 0, 33, 13): 0.0,\n",
       " ('BG', 'CO2 Captured', 0, 33, 14): 0.0,\n",
       " ('BG', 'CO2 Captured', 0, 33, 15): 0.0,\n",
       " ('BG', 'CO2 Captured', 0, 33, 16): 0.0,\n",
       " ('BG', 'CO2 Captured', 0, 33, 17): 0.0,\n",
       " ('BG', 'CO2 Captured', 0, 33, 18): 0.0,\n",
       " ('BG', 'CO2 Captured', 0, 33, 19): 0.0,\n",
       " ('BG', 'CO2 Captured', 0, 33, 20): 0.0,\n",
       " ('BG', 'CO2 Captured', 0, 33, 21): 0.0,\n",
       " ('BG', 'CO2 Captured', 0, 33, 22): 0.0,\n",
       " ('BG', 'CO2 Captured', 0, 33, 23): 0.0,\n",
       " ('BG', 'CO2 Captured', 0, 34, 0): 0.0,\n",
       " ('BG', 'CO2 Captured', 0, 34, 1): 0.0,\n",
       " ('BG', 'CO2 Captured', 0, 34, 2): 0.0,\n",
       " ('BG', 'CO2 Captured', 0, 34, 3): 0.0,\n",
       " ('BG', 'CO2 Captured', 0, 34, 4): 0.0,\n",
       " ('BG', 'CO2 Captured', 0, 34, 5): 0.0,\n",
       " ('BG', 'CO2 Captured', 0, 34, 6): 0.0,\n",
       " ('BG', 'CO2 Captured', 0, 34, 7): 0.0,\n",
       " ('BG', 'CO2 Captured', 0, 34, 8): 0.0,\n",
       " ('BG', 'CO2 Captured', 0, 34, 9): 0.0,\n",
       " ('BG', 'CO2 Captured', 0, 34, 10): 0.0,\n",
       " ('BG', 'CO2 Captured', 0, 34, 11): 0.0,\n",
       " ('BG', 'CO2 Captured', 0, 34, 12): 0.0,\n",
       " ('BG', 'CO2 Captured', 0, 34, 13): 0.0,\n",
       " ('BG', 'CO2 Captured', 0, 34, 14): 0.0,\n",
       " ('BG', 'CO2 Captured', 0, 34, 15): 0.0,\n",
       " ('BG', 'CO2 Captured', 0, 34, 16): 0.0,\n",
       " ('BG', 'CO2 Captured', 0, 34, 17): 0.0,\n",
       " ('BG', 'CO2 Captured', 0, 34, 18): 0.0,\n",
       " ('BG', 'CO2 Captured', 0, 34, 19): 0.0,\n",
       " ('BG', 'CO2 Captured', 0, 34, 20): 0.0,\n",
       " ('BG', 'CO2 Captured', 0, 34, 21): 0.0,\n",
       " ('BG', 'CO2 Captured', 0, 34, 22): 0.0,\n",
       " ('BG', 'CO2 Captured', 0, 34, 23): 0.0,\n",
       " ('BG', 'CO2 Captured', 0, 35, 0): 0.0,\n",
       " ('BG', 'CO2 Captured', 0, 35, 1): 0.0,\n",
       " ('BG', 'CO2 Captured', 0, 35, 2): 0.0,\n",
       " ('BG', 'CO2 Captured', 0, 35, 3): 0.0,\n",
       " ('BG', 'CO2 Captured', 0, 35, 4): 0.0,\n",
       " ('BG', 'CO2 Captured', 0, 35, 5): 0.0,\n",
       " ('BG', 'CO2 Captured', 0, 35, 6): 0.0,\n",
       " ('BG', 'CO2 Captured', 0, 35, 7): 0.0,\n",
       " ('BG', 'CO2 Captured', 0, 35, 8): 0.0,\n",
       " ('BG', 'CO2 Captured', 0, 35, 9): 0.0,\n",
       " ('BG', 'CO2 Captured', 0, 35, 10): 0.0,\n",
       " ('BG', 'CO2 Captured', 0, 35, 11): 0.0,\n",
       " ('BG', 'CO2 Captured', 0, 35, 12): 0.0,\n",
       " ('BG', 'CO2 Captured', 0, 35, 13): 0.0,\n",
       " ('BG', 'CO2 Captured', 0, 35, 14): 0.0,\n",
       " ('BG', 'CO2 Captured', 0, 35, 15): 0.0,\n",
       " ('BG', 'CO2 Captured', 0, 35, 16): 0.0,\n",
       " ('BG', 'CO2 Captured', 0, 35, 17): 0.0,\n",
       " ('BG', 'CO2 Captured', 0, 35, 18): 0.0,\n",
       " ('BG', 'CO2 Captured', 0, 35, 19): 0.0,\n",
       " ('BG', 'CO2 Captured', 0, 35, 20): 0.0,\n",
       " ('BG', 'CO2 Captured', 0, 35, 21): 0.0,\n",
       " ('BG', 'CO2 Captured', 0, 35, 22): 0.0,\n",
       " ('BG', 'CO2 Captured', 0, 35, 23): 0.0,\n",
       " ('BG', 'CO2 Captured', 0, 36, 0): 0.0,\n",
       " ('BG', 'CO2 Captured', 0, 36, 1): 0.0,\n",
       " ('BG', 'CO2 Captured', 0, 36, 2): 0.0,\n",
       " ('BG', 'CO2 Captured', 0, 36, 3): 0.0,\n",
       " ('BG', 'CO2 Captured', 0, 36, 4): 0.0,\n",
       " ('BG', 'CO2 Captured', 0, 36, 5): 0.0,\n",
       " ('BG', 'CO2 Captured', 0, 36, 6): 0.0,\n",
       " ('BG', 'CO2 Captured', 0, 36, 7): 0.0,\n",
       " ('BG', 'CO2 Captured', 0, 36, 8): 0.0,\n",
       " ('BG', 'CO2 Captured', 0, 36, 9): 0.0,\n",
       " ('BG', 'CO2 Captured', 0, 36, 10): 0.0,\n",
       " ('BG', 'CO2 Captured', 0, 36, 11): 0.0,\n",
       " ('BG', 'CO2 Captured', 0, 36, 12): 0.0,\n",
       " ('BG', 'CO2 Captured', 0, 36, 13): 0.0,\n",
       " ('BG', 'CO2 Captured', 0, 36, 14): 0.0,\n",
       " ('BG', 'CO2 Captured', 0, 36, 15): 0.0,\n",
       " ('BG', 'CO2 Captured', 0, 36, 16): 0.0,\n",
       " ('BG', 'CO2 Captured', 0, 36, 17): 0.0,\n",
       " ('BG', 'CO2 Captured', 0, 36, 18): 0.0,\n",
       " ('BG', 'CO2 Captured', 0, 36, 19): 0.0,\n",
       " ('BG', 'CO2 Captured', 0, 36, 20): 0.0,\n",
       " ('BG', 'CO2 Captured', 0, 36, 21): 0.0,\n",
       " ('BG', 'CO2 Captured', 0, 36, 22): 0.0,\n",
       " ('BG', 'CO2 Captured', 0, 36, 23): 0.0,\n",
       " ('BG', 'CO2 Captured', 0, 37, 0): 0.0,\n",
       " ('BG', 'CO2 Captured', 0, 37, 1): 0.0,\n",
       " ('BG', 'CO2 Captured', 0, 37, 2): 0.0,\n",
       " ('BG', 'CO2 Captured', 0, 37, 3): 0.0,\n",
       " ('BG', 'CO2 Captured', 0, 37, 4): 0.0,\n",
       " ('BG', 'CO2 Captured', 0, 37, 5): 0.0,\n",
       " ('BG', 'CO2 Captured', 0, 37, 6): 0.0,\n",
       " ('BG', 'CO2 Captured', 0, 37, 7): 0.0,\n",
       " ('BG', 'CO2 Captured', 0, 37, 8): 0.0,\n",
       " ('BG', 'CO2 Captured', 0, 37, 9): 0.0,\n",
       " ('BG', 'CO2 Captured', 0, 37, 10): 0.0,\n",
       " ('BG', 'CO2 Captured', 0, 37, 11): 0.0,\n",
       " ('BG', 'CO2 Captured', 0, 37, 12): 0.0,\n",
       " ('BG', 'CO2 Captured', 0, 37, 13): 0.0,\n",
       " ('BG', 'CO2 Captured', 0, 37, 14): 0.0,\n",
       " ('BG', 'CO2 Captured', 0, 37, 15): 0.0,\n",
       " ('BG', 'CO2 Captured', 0, 37, 16): 0.0,\n",
       " ('BG', 'CO2 Captured', 0, 37, 17): 0.0,\n",
       " ('BG', 'CO2 Captured', 0, 37, 18): 0.0,\n",
       " ('BG', 'CO2 Captured', 0, 37, 19): 0.0,\n",
       " ('BG', 'CO2 Captured', 0, 37, 20): 0.0,\n",
       " ('BG', 'CO2 Captured', 0, 37, 21): 0.0,\n",
       " ('BG', 'CO2 Captured', 0, 37, 22): 0.0,\n",
       " ('BG', 'CO2 Captured', 0, 37, 23): 0.0,\n",
       " ('BG', 'CO2 Captured', 0, 38, 0): 0.0,\n",
       " ('BG', 'CO2 Captured', 0, 38, 1): 0.0,\n",
       " ('BG', 'CO2 Captured', 0, 38, 2): 0.0,\n",
       " ('BG', 'CO2 Captured', 0, 38, 3): 0.0,\n",
       " ('BG', 'CO2 Captured', 0, 38, 4): 0.0,\n",
       " ('BG', 'CO2 Captured', 0, 38, 5): 0.0,\n",
       " ('BG', 'CO2 Captured', 0, 38, 6): 0.0,\n",
       " ('BG', 'CO2 Captured', 0, 38, 7): 0.0,\n",
       " ('BG', 'CO2 Captured', 0, 38, 8): 0.0,\n",
       " ('BG', 'CO2 Captured', 0, 38, 9): 0.0,\n",
       " ('BG', 'CO2 Captured', 0, 38, 10): 0.0,\n",
       " ('BG', 'CO2 Captured', 0, 38, 11): 0.0,\n",
       " ('BG', 'CO2 Captured', 0, 38, 12): 0.0,\n",
       " ('BG', 'CO2 Captured', 0, 38, 13): 0.0,\n",
       " ('BG', 'CO2 Captured', 0, 38, 14): 0.0,\n",
       " ('BG', 'CO2 Captured', 0, 38, 15): 0.0,\n",
       " ('BG', 'CO2 Captured', 0, 38, 16): 0.0,\n",
       " ('BG', 'CO2 Captured', 0, 38, 17): 0.0,\n",
       " ('BG', 'CO2 Captured', 0, 38, 18): 0.0,\n",
       " ('BG', 'CO2 Captured', 0, 38, 19): 0.0,\n",
       " ('BG', 'CO2 Captured', 0, 38, 20): 0.0,\n",
       " ('BG', 'CO2 Captured', 0, 38, 21): 0.0,\n",
       " ('BG', 'CO2 Captured', 0, 38, 22): 0.0,\n",
       " ('BG', 'CO2 Captured', 0, 38, 23): 0.0,\n",
       " ('BG', 'CO2 Captured', 0, 39, 0): 0.0,\n",
       " ('BG', 'CO2 Captured', 0, 39, 1): 0.0,\n",
       " ('BG', 'CO2 Captured', 0, 39, 2): 0.0,\n",
       " ('BG', 'CO2 Captured', 0, 39, 3): 0.0,\n",
       " ('BG', 'CO2 Captured', 0, 39, 4): 0.0,\n",
       " ('BG', 'CO2 Captured', 0, 39, 5): 0.0,\n",
       " ('BG', 'CO2 Captured', 0, 39, 6): 0.0,\n",
       " ('BG', 'CO2 Captured', 0, 39, 7): 0.0,\n",
       " ('BG', 'CO2 Captured', 0, 39, 8): 0.0,\n",
       " ('BG', 'CO2 Captured', 0, 39, 9): 0.0,\n",
       " ('BG', 'CO2 Captured', 0, 39, 10): 0.0,\n",
       " ('BG', 'CO2 Captured', 0, 39, 11): 0.0,\n",
       " ('BG', 'CO2 Captured', 0, 39, 12): 0.0,\n",
       " ('BG', 'CO2 Captured', 0, 39, 13): 0.0,\n",
       " ('BG', 'CO2 Captured', 0, 39, 14): 0.0,\n",
       " ('BG', 'CO2 Captured', 0, 39, 15): 0.0,\n",
       " ('BG', 'CO2 Captured', 0, 39, 16): 0.0,\n",
       " ('BG', 'CO2 Captured', 0, 39, 17): 0.0,\n",
       " ('BG', 'CO2 Captured', 0, 39, 18): 0.0,\n",
       " ('BG', 'CO2 Captured', 0, 39, 19): 0.0,\n",
       " ('BG', 'CO2 Captured', 0, 39, 20): 0.0,\n",
       " ('BG', 'CO2 Captured', 0, 39, 21): 0.0,\n",
       " ('BG', 'CO2 Captured', 0, 39, 22): 0.0,\n",
       " ('BG', 'CO2 Captured', 0, 39, 23): 0.0,\n",
       " ('BG', 'CO2 Captured', 0, 40, 0): 0.0,\n",
       " ('BG', 'CO2 Captured', 0, 40, 1): 0.0,\n",
       " ('BG', 'CO2 Captured', 0, 40, 2): 0.0,\n",
       " ('BG', 'CO2 Captured', 0, 40, 3): 0.0,\n",
       " ('BG', 'CO2 Captured', 0, 40, 4): 0.0,\n",
       " ('BG', 'CO2 Captured', 0, 40, 5): 0.0,\n",
       " ('BG', 'CO2 Captured', 0, 40, 6): 0.0,\n",
       " ('BG', 'CO2 Captured', 0, 40, 7): 0.0,\n",
       " ('BG', 'CO2 Captured', 0, 40, 8): 0.0,\n",
       " ('BG', 'CO2 Captured', 0, 40, 9): 0.0,\n",
       " ('BG', 'CO2 Captured', 0, 40, 10): 0.0,\n",
       " ('BG', 'CO2 Captured', 0, 40, 11): 0.0,\n",
       " ('BG', 'CO2 Captured', 0, 40, 12): 0.0,\n",
       " ('BG', 'CO2 Captured', 0, 40, 13): 0.0,\n",
       " ('BG', 'CO2 Captured', 0, 40, 14): 0.0,\n",
       " ('BG', 'CO2 Captured', 0, 40, 15): 0.0,\n",
       " ('BG', 'CO2 Captured', 0, 40, 16): 0.0,\n",
       " ('BG', 'CO2 Captured', 0, 40, 17): 0.0,\n",
       " ('BG', 'CO2 Captured', 0, 40, 18): 0.0,\n",
       " ('BG', 'CO2 Captured', 0, 40, 19): 0.0,\n",
       " ('BG', 'CO2 Captured', 0, 40, 20): 0.0,\n",
       " ('BG', 'CO2 Captured', 0, 40, 21): 0.0,\n",
       " ('BG', 'CO2 Captured', 0, 40, 22): 0.0,\n",
       " ('BG', 'CO2 Captured', 0, 40, 23): 0.0,\n",
       " ('BG', 'CO2 Captured', 0, 41, 0): 0.0,\n",
       " ('BG', 'CO2 Captured', 0, 41, 1): 0.0,\n",
       " ('BG', 'CO2 Captured', 0, 41, 2): 0.0,\n",
       " ('BG', 'CO2 Captured', 0, 41, 3): 0.0,\n",
       " ('BG', 'CO2 Captured', 0, 41, 4): 0.0,\n",
       " ('BG', 'CO2 Captured', 0, 41, 5): 0.0,\n",
       " ('BG', 'CO2 Captured', 0, 41, 6): 0.0,\n",
       " ('BG', 'CO2 Captured', 0, 41, 7): 0.0,\n",
       " ('BG', 'CO2 Captured', 0, 41, 8): 0.0,\n",
       " ('BG', 'CO2 Captured', 0, 41, 9): 0.0,\n",
       " ('BG', 'CO2 Captured', 0, 41, 10): 0.0,\n",
       " ('BG', 'CO2 Captured', 0, 41, 11): 0.0,\n",
       " ('BG', 'CO2 Captured', 0, 41, 12): 0.0,\n",
       " ('BG', 'CO2 Captured', 0, 41, 13): 0.0,\n",
       " ('BG', 'CO2 Captured', 0, 41, 14): 0.0,\n",
       " ('BG', 'CO2 Captured', 0, 41, 15): 0.0,\n",
       " ...}"
      ]
     },
     "execution_count": 36,
     "metadata": {},
     "output_type": "execute_result"
    }
   ],
   "source": [
    "results_cost.output['global_warming_potential_resource']"
   ]
  },
  {
   "cell_type": "code",
   "execution_count": null,
   "metadata": {},
   "outputs": [],
   "source": [
    "x = results_cost.output['P']"
   ]
  },
  {
   "cell_type": "code",
   "execution_count": null,
   "metadata": {},
   "outputs": [],
   "source": [
    "import matplotlib.pyplot as plt\n",
    "import matplotlib.dates as mdates\n",
    "from datetime import datetime, timedelta\n",
    "\n",
    "# Generate time labels\n",
    "time_labels = [datetime(2024, 1, 1) + timedelta(days=j, hours=i) for j in range(0,100) for i in range(24)]\n",
    "#SMRplot = [x['BG', 'SMR', day, hour] for day in range(0,1) for hour in range(24)]\n",
    "\n",
    "\n",
    "#plt.fill_between(time_labels, SMRplot, color= 'maroon', alpha=0.1)\n",
    "\n",
    "plt.plot(time_labels, [x['BG', 'SMR', 0, day, hour] for day in range(0,100) for hour in range(24)], color='maroon', label=\"SMR Production\")\n",
    "#plt.plot(time_labels, SMRplot, color='maroon', linestyle='--', label = 'SMR')#, label = \"Hydrogen production rate\")\n",
    "\n",
    "# Labeling axes\n",
    "plt.xlabel('Time', fontsize = 14)\n",
    "plt.ylabel('Hourly Hydrogen Production [kg]', fontsize = 14)\n",
    "\n",
    "# Format the y-axis in scientific notation\n",
    "plt.ticklabel_format(style='sci', axis='y')  \n",
    "\n",
    "# Set limits for y and x axes\n",
    "plt.ylim(bottom=0)\n",
    "plt.xlim([time_labels[0], time_labels[-1]])\n",
    "\n",
    "# Set custom time labels for the x-axis\n",
    "plt.gca().xaxis.set_major_locator(mdates.HourLocator(interval=3))  # Show one tick per month\n",
    "plt.gca().xaxis.set_major_formatter(mdates.DateFormatter('%H:%M'))  # Format as 'Jan 2024', 'Feb 2024', etc.  %Y\n",
    "\n",
    "\n",
    "# Add grid\n",
    "plt.grid(color='gray', linestyle='--', linewidth=0.5, alpha=0.5)\n",
    "\n",
    "# Display legend\n",
    "plt.legend(fontsize = 10)\n",
    "\n",
    "# Show the plot\n",
    "plt.show()"
   ]
  },
  {
   "cell_type": "code",
   "execution_count": null,
   "metadata": {},
   "outputs": [],
   "source": [
    "import matplotlib.pyplot as plt\n",
    "import matplotlib.dates as mdates\n",
    "from datetime import datetime, timedelta\n",
    "\n",
    "# Generate time labels\n",
    "time_labels = [datetime(2024, 1, 1) + timedelta(days=j, hours=i) for j in range(0,1) for i in range(24)]\n",
    "#SMRplot = [x['BG', 'Grid', day, hour] for day in range(0,1) for hour in range(24)]\n",
    "\n",
    "\n",
    "#plt.fill_between(time_labels, SMRplot, color= 'maroon', alpha=0.1)\n",
    "\n",
    "#plt.plot(time_labels, SMRplot, color='maroon', linestyle='--', label = 'SMR')#, label = \"Hydrogen production rate\")\n",
    "plt.plot(time_labels, [x['BG', 'Grid', day, hour] for day in range(0,1) for hour in range(24)], color='purple', label=\"Grid\")\n",
    "plt.plot(time_labels, [x['BG', 'WF', day, hour] for day in range(0,1) for hour in range(24)], color='g', linestyle=':', label=\"WF\")\n",
    "plt.plot(time_labels, [x['BG', 'PV', day, hour] for day in range(0,1) for hour in range(24)], color='red', linestyle='--', label=\"PV\")\n",
    "\n",
    "# Labeling axes\n",
    "plt.xlabel('Time', fontsize = 14)\n",
    "plt.ylabel('Total Electricity Consumed [MWh]', fontsize = 14)\n",
    "\n",
    "# Format the y-axis in scientific notation\n",
    "plt.ticklabel_format(style='sci', axis='y')  \n",
    "\n",
    "# Set limits for y and x axes\n",
    "plt.ylim(bottom=0)\n",
    "plt.xlim([time_labels[0], time_labels[-1]])\n",
    "\n",
    "# Set custom time labels for the x-axis\n",
    "plt.gca().xaxis.set_major_locator(mdates.HourLocator(interval=3))  # Show one tick per month\n",
    "plt.gca().xaxis.set_major_formatter(mdates.DateFormatter('%H:%M'))  # Format as 'Jan 2024', 'Feb 2024', etc.  %Y\n",
    "\n",
    "\n",
    "# Add grid\n",
    "plt.grid(color='gray', linestyle='--', linewidth=0.5, alpha=0.5)\n",
    "\n",
    "# Display legend\n",
    "plt.legend(fontsize = 10)\n",
    "\n",
    "# Show the plot\n",
    "plt.show()"
   ]
  },
  {
   "cell_type": "code",
   "execution_count": null,
   "metadata": {},
   "outputs": [],
   "source": [
    "from energiapy.model.constraints.emission import constraint_global_warming_potential_network_reduction\n",
    "from pyomo.environ import Var, Binary\n",
    "\n",
    "def modeler(gwp_pct: float):\n",
    "    gwp_eval = formulate(scenario=scenario, constraints={Constraints.COST, Constraints.INVENTORY, Constraints.PRODUCTION, Constraints.NETWORK,\n",
    "                        Constraints.RESOURCE_BALANCE, Constraints.DEMAND, Constraints.EMISSION}, objective=Objective.COST, demand_sign = 'geq')\n",
    "    gwp_eval.cons2 = ConstraintList()\n",
    "    gwp_eval.cons3 = ConstraintList()\n",
    "    gwp_eval.cons4 = ConstraintList()\n",
    "    gwp_eval.cons5 = ConstraintList()\n",
    "    gwp_eval.cons8 = ConstraintList()\n",
    "    gwp_eval.cons9 = ConstraintList()\n",
    "    gwp_eval.cons10 = ConstraintList()\n",
    "    gwp_eval.cons11 = ConstraintList()\n",
    "    gwp_eval.cons13 = ConstraintList()\n",
    "    gwp_eval.cons14 = ConstraintList()\n",
    "    gwp_eval.cons15 = ConstraintList()\n",
    "    gwp_eval.cons17 = ConstraintList()\n",
    "\n",
    "    for i in scales.scale_iter(2):\n",
    "        gwp_eval.cons10.add(expr = gwp_eval.P['BG', 'SMR', *i] >= 0.3*gwp_eval.Cap_P['BG','SMR', i[0]]) #30% of max production rate 6000 * milp_cost.on_smr[i]\n",
    "        gwp_eval.cons11.add(expr = gwp_eval.P['BG', 'ATR_CCS_R', *i] >= 0.2*gwp_eval.Cap_P['BG','ATR_CCS_R', i[0]]) #20% of max production rate\n",
    "        gwp_eval.cons13.add(expr = gwp_eval.P['BG', 'ATR_CCS_R_OC', *i] >= 0.2*gwp_eval.Cap_P['BG','ATR_CCS_R_OC', i[0]]) #20% of max production rate\n",
    "        gwp_eval.cons14.add(expr = gwp_eval.P['BG', 'SMR', *i] <=gwp_eval.Cap_P['BG','SMR', i[0]])\n",
    "        gwp_eval.cons15.add(expr = gwp_eval.P['BG', 'ATR_CCS_R', *i] <= gwp_eval.Cap_P['BG','ATR_CCS_R', i[0]])\n",
    "        gwp_eval.cons17.add(expr = gwp_eval.P['BG', 'ATR_CCS_R_OC', *i] <= gwp_eval.Cap_P['BG','ATR_CCS_R_OC', i[0]])\n",
    "        if i != (0,0,0):\n",
    "            gwp_eval.cons2.add(expr = gwp_eval.P['BG', 'SMR', *i] - gwp_eval.P['BG', 'SMR', *scales.scale_iter(2)[scales.scale_iter(2).index(i) - 1]] <= 0.05*gwp_eval.Cap_P['BG','SMR', i[0]])\n",
    "            gwp_eval.cons3.add(expr = gwp_eval.P['BG', 'SMR', *i] - gwp_eval.P['BG', 'SMR', *scales.scale_iter(2)[scales.scale_iter(2).index(i) - 1]] >= -0.05*gwp_eval.Cap_P['BG','SMR', i[0]])\n",
    "            gwp_eval.cons4.add(expr = gwp_eval.P['BG', 'ATR_CCS_R', *i] - gwp_eval.P['BG', 'ATR_CCS_R', *scales.scale_iter(2)[scales.scale_iter(2).index(i) - 1]] <= 0.1*gwp_eval.Cap_P['BG','ATR_CCS_R', i[0]])\n",
    "            gwp_eval.cons5.add(expr = gwp_eval.P['BG', 'ATR_CCS_R', *i] - gwp_eval.P['BG', 'ATR_CCS_R', *scales.scale_iter(2)[scales.scale_iter(2).index(i) - 1]] >= -0.1*gwp_eval.Cap_P['BG','ATR_CCS_R', i[0]])\n",
    "            gwp_eval.cons8.add(expr = gwp_eval.P['BG', 'ATR_CCS_R_OC', *i] - gwp_eval.P['BG', 'ATR_CCS_R_OC', *scales.scale_iter(2)[scales.scale_iter(2).index(i) - 1]] <= 0.1*gwp_eval.Cap_P['BG','ATR_CCS_R_OC', i[0]])\n",
    "            gwp_eval.cons9.add(expr = gwp_eval.P['BG', 'ATR_CCS_R_OC', *i] - gwp_eval.P['BG', 'ATR_CCS_R_OC', *scales.scale_iter(2)[scales.scale_iter(2).index(i) - 1]] >= -0.1*gwp_eval.Cap_P['BG','ATR_CCS_R_OC', i[0]])\n",
    "\n",
    "\n",
    "    constraint_global_warming_potential_network_reduction(instance= gwp_eval, network_scale_level = 0, gwp_reduction_pct = gwp_pct, gwp = results_cost.output['global_warming_potential_network'][0])\n",
    "    \n",
    "    return gwp_eval"
   ]
  },
  {
   "cell_type": "code",
   "execution_count": null,
   "metadata": {},
   "outputs": [],
   "source": [
    "models = [modeler((i+1)) for i in range(100)]"
   ]
  },
  {
   "cell_type": "code",
   "execution_count": null,
   "metadata": {},
   "outputs": [],
   "source": [
    "import os\n",
    "\n",
    "# Create the 'res_red' directory if it doesn't exist\n",
    "os.makedirs('res_red', exist_ok=True)\n",
    "\n",
    "def solver(instance, i): \n",
    "    return solve(\n",
    "        scenario=scenario, \n",
    "        instance=instance,\n",
    "        solver='gurobi', \n",
    "        name=f\"res_red/res_red_{i}\", \n",
    "        print_solversteps=True, \n",
    "        saveformat='.pkl'\n",
    "    )\n",
    "\n",
    "# Assuming 'models' is a list of instances to be solved\n",
    "results = {i: solver(m, i) for i, m in enumerate(models)}\n"
   ]
  },
  {
   "cell_type": "code",
   "execution_count": null,
   "metadata": {},
   "outputs": [],
   "source": [
    "for i in range(len(models)):\n",
    "    print(results[i].output['termination'])"
   ]
  },
  {
   "cell_type": "code",
   "execution_count": null,
   "metadata": {},
   "outputs": [],
   "source": [
    "cost = [None for i in range(len(results))]\n",
    "gwp_study = [None for i in range(len(results))]\n",
    "gwpm_study = [None for i in range(len(results))]\n",
    "prod_study = [None for i in range(len(results))]\n",
    "\n",
    "\n",
    "for gwp_red, result in results.items():\n",
    "\n",
    "    if result.output['termination'] == 'optimal':\n",
    "        cost[gwp_red] = result.output['objective']\n",
    "        gwp_study[gwp_red] = result.output['global_warming_potential_location']['BG', 0]\n",
    "        gwpm_study[gwp_red] = result.output['global_warming_potential_material']\n",
    "        prod_study[gwp_red] = result.output['P']\n",
    "\n",
    "#print(type(gwp_study[0]))\n",
    "\n",
    "plt.plot(cost, gwp_study, color='blue', linestyle='--', alpha=0.5)\n",
    "\n",
    "plt.xlabel('Total Cost of Hydrogen Production [USD]')\n",
    "plt.ylabel('Carbon Intensity [kg CO$_2$ eq.]')\n",
    "plt.ticklabel_format(style='sci', axis='x', scilimits=(0, 0))  # For x-axis\n",
    "plt.ticklabel_format(style='sci', axis='y', scilimits=(0, 0))  # For y-axis\n",
    "plt.grid(color='gray', linestyle='--', linewidth=0.5, alpha = 0.5)\n",
    "# gwp_study[0]"
   ]
  },
  {
   "cell_type": "code",
   "execution_count": null,
   "metadata": {},
   "outputs": [],
   "source": [
    "cost"
   ]
  },
  {
   "cell_type": "code",
   "execution_count": null,
   "metadata": {},
   "outputs": [],
   "source": [
    "import matplotlib.pyplot as plt\n",
    "import matplotlib.dates as mdates\n",
    "from datetime import datetime, timedelta\n",
    "\n",
    "# Generate time labels\n",
    "time_labels = [datetime(2024, 1, 1) + timedelta(days=j, hours=i) for j in range(0,1) for i in range(24)]\n",
    "\n",
    "# # Plotting the data\n",
    "\n",
    "plt.plot(time_labels, [prod_study[12]['BG', 'PEM', day, hour] for day in range(0,1) for hour in range(24)], label=\"PEM\")\n",
    "plt.plot(time_labels, [prod_study[12]['BG', 'AWE', day, hour] for day in range(0,1) for hour in range(24)], label=\"AWE\")\n",
    "plt.plot(time_labels, [prod_study[12]['BG', 'SMRCCS', day, hour] for day in range(0,1) for hour in range(24)], label=\"SMRCCS\")\n",
    "plt.plot(time_labels, [prod_study[12]['BG', 'SMR', day, hour] for day in range(0,1) for hour in range(24)], label=\"SMR\")\n",
    "plt.plot(time_labels, [prod_study[12]['BG', 'ATR_CCS_R', day, hour] for day in range(0,1) for hour in range(24)], label=\"ATR_CCS_R\")\n",
    "plt.plot(time_labels, [prod_study[12]['BG', 'ATR_CCS_R_OC', day, hour] for day in range(0,1) for hour in range(24)], label=\"ATR_CCS_R_OC\")\n",
    "\n",
    "\n",
    "# plt.plot(time_labels, [prod_study[7]['HO', 'Grid', 0, day, hour] for day in range(0,365) for hour in range(24)], color='purple', label=\"Grid\")\n",
    "# plt.plot(time_labels, [prod_study[7]['HO', 'WF', 0, day, hour] for day in range(174,175) for hour in range(24)], color='g', linestyle=':', label=\"WF\")\n",
    "# plt.plot(time_labels, [prod_study[7]['HO', 'PV', 0, day, hour] for day in range(174,175) for hour in range(24)], color='red', linestyle='--', label=\"PV\")\n",
    "\n",
    "# Labeling axes\n",
    "plt.xlabel('Time')\n",
    "plt.ylabel('Hourly Hydrogen Production [kg/hr]')\n",
    "\n",
    "# Format the y-axis in scientific notation\n",
    "plt.ticklabel_format(style='sci', axis='y')  \n",
    "\n",
    "# Set limits for y and x axes\n",
    "#plt.ylim(bottom=0)\n",
    "plt.xlim([time_labels[0], time_labels[-1]])\n",
    "\n",
    "# # Set custom time labels for the x-axis\n",
    "# plt.gca().xaxis.set_major_formatter(mdates.DateFormatter('%H:%M'))  # Hour:Minute format %D:%H:%M\n",
    "# plt.xticks(time_labels[::3])  # Show every second hour for better spacing\n",
    "\n",
    "plt.gca().xaxis.set_major_locator(mdates.HourLocator(interval=3))  # Show one tick per month\n",
    "plt.gca().xaxis.set_major_formatter(mdates.DateFormatter('%H:%M'))  # Format as 'Jan 2024', 'Feb 2024', etc.  %Y\n",
    "\n",
    "# Set custom time labels for the x-axis\n",
    "# plt.gca().xaxis.set_major_locator(mdates.MonthLocator())  # Show one tick per month\n",
    "# plt.gca().xaxis.set_major_formatter(mdates.DateFormatter('%b'))  # Format as 'Jan 2024', 'Feb 2024', etc.  %Y\n",
    "\n",
    "\n",
    "# Add grid\n",
    "plt.grid(color='gray', linestyle='--', linewidth=0.5, alpha=0.5)\n",
    "\n",
    "# Display legend\n",
    "plt.legend()\n",
    "\n",
    "# Show the plot\n",
    "plt.show()"
   ]
  },
  {
   "cell_type": "code",
   "execution_count": null,
   "metadata": {},
   "outputs": [],
   "source": [
    "cost[69]"
   ]
  },
  {
   "cell_type": "code",
   "execution_count": null,
   "metadata": {},
   "outputs": [],
   "source": [
    "import matplotlib.pyplot as plt\n",
    "import matplotlib.dates as mdates\n",
    "from datetime import datetime, timedelta\n",
    "\n",
    "# Generate time labels\n",
    "time_labels = [datetime(2024, 1, 1) + timedelta(days=j, hours=i) for j in range(0,1) for i in range(24)]\n",
    "\n",
    "# # Plotting the data\n",
    "\n",
    "# plt.plot(time_labels, [prod_study[75]['BG', 'PEM', day, hour] for day in range(0,1) for hour in range(24)], label=\"PEM\")\n",
    "# plt.plot(time_labels, [prod_study[75]['BG', 'AWE', day, hour] for day in range(0,1) for hour in range(24)], label=\"AWE\")\n",
    "# plt.plot(time_labels, [prod_study[75]['BG', 'SMRCCS', day, hour] for day in range(0,1) for hour in range(24)], label=\"SMRCCS\")\n",
    "# plt.plot(time_labels, [prod_study[75]['BG', 'SMR', day, hour] for day in range(0,1) for hour in range(24)], label=\"SMR\")\n",
    "# plt.plot(time_labels, [prod_study[75]['BG', 'ATR_CCS_R', day, hour] for day in range(0,1) for hour in range(24)], label=\"ATR_CCS_R\")\n",
    "# plt.plot(time_labels, [prod_study[75]['BG', 'ATR_CCS_R_OC', day, hour] for day in range(0,1) for hour in range(24)], label=\"ATR_CCS_R_OC\")\n",
    "\n",
    "\n",
    "plt.plot(time_labels, [prod_study[69]['BG', 'Grid', day, hour] for day in range(0,1) for hour in range(24)], color='purple', label=\"Grid\")\n",
    "plt.plot(time_labels, [prod_study[69]['BG', 'WF',  day, hour] for day in range(0,1) for hour in range(24)], color='g', linestyle=':', label=\"WF\")\n",
    "plt.plot(time_labels, [prod_study[69]['BG', 'PV', day, hour] for day in range(0,1) for hour in range(24)], color='red', linestyle='--', label=\"PV\")\n",
    "\n",
    "# Labeling axes\n",
    "plt.xlabel('Time')\n",
    "plt.ylabel('Hourly Hydrogen Production [kg/hr]')\n",
    "\n",
    "# Format the y-axis in scientific notation\n",
    "plt.ticklabel_format(style='sci', axis='y')  \n",
    "\n",
    "# Set limits for y and x axes\n",
    "#plt.ylim(bottom=0)\n",
    "plt.xlim([time_labels[0], time_labels[-1]])\n",
    "\n",
    "# # Set custom time labels for the x-axis\n",
    "# plt.gca().xaxis.set_major_formatter(mdates.DateFormatter('%H:%M'))  # Hour:Minute format %D:%H:%M\n",
    "# plt.xticks(time_labels[::3])  # Show every second hour for better spacing\n",
    "\n",
    "plt.gca().xaxis.set_major_locator(mdates.HourLocator(interval=3))  # Show one tick per month\n",
    "plt.gca().xaxis.set_major_formatter(mdates.DateFormatter('%H:%M'))  # Format as 'Jan 2024', 'Feb 2024', etc.  %Y\n",
    "\n",
    "# Set custom time labels for the x-axis\n",
    "# plt.gca().xaxis.set_major_locator(mdates.MonthLocator())  # Show one tick per month\n",
    "# plt.gca().xaxis.set_major_formatter(mdates.DateFormatter('%b'))  # Format as 'Jan 2024', 'Feb 2024', etc.  %Y\n",
    "\n",
    "\n",
    "# Add grid\n",
    "plt.grid(color='gray', linestyle='--', linewidth=0.5, alpha=0.5)\n",
    "\n",
    "# Display legend\n",
    "plt.legend()\n",
    "\n",
    "# Show the plot\n",
    "plt.show()"
   ]
  },
  {
   "cell_type": "markdown",
   "metadata": {},
   "source": [
    "## Alternative method to do reduction in emissions"
   ]
  },
  {
   "cell_type": "code",
   "execution_count": null,
   "metadata": {},
   "outputs": [],
   "source": [
    "from energiapy.model.constraints.emission import constraint_global_warming_potential_network_reduction"
   ]
  },
  {
   "cell_type": "code",
   "execution_count": null,
   "metadata": {},
   "outputs": [],
   "source": [
    "def modeler(gwp_pct: float):\n",
    "    instance = formulate(scenario=scenario, constraints={Constraints.COST, Constraints.INVENTORY, Constraints.PRODUCTION,\n",
    "                        Constraints.RESOURCE_BALANCE, Constraints.DEMAND, Constraints.EMISSION}, objective=Objective.COST, demand_sign = 'eq')\n",
    "\n",
    "    constraint_global_warming_potential_network_reduction(instance= instance, network_scale_level = 0, gwp_reduction_pct = gwp_pct, gwp = results_cost.output['global_warming_potential_network'][0])\n",
    "\n",
    "    return instance"
   ]
  },
  {
   "cell_type": "code",
   "execution_count": null,
   "metadata": {},
   "outputs": [],
   "source": [
    "models = [modeler(i+1) for i in range(100)]"
   ]
  },
  {
   "cell_type": "code",
   "execution_count": null,
   "metadata": {},
   "outputs": [],
   "source": [
    "def solver(instance, i): \n",
    "    return solve(scenario=scenario, instance=instance,\n",
    "                     solver='gurobi', name=f\"res_red/res_red_{i}\", print_solversteps=True, saveformat = '.pkl')"
   ]
  },
  {
   "cell_type": "code",
   "execution_count": null,
   "metadata": {},
   "outputs": [],
   "source": [
    "results = {i: solver(m,i) for i,m in enumerate(models)}"
   ]
  },
  {
   "cell_type": "code",
   "execution_count": null,
   "metadata": {},
   "outputs": [],
   "source": [
    "for i in range(len(models)):\n",
    "    print(results[i].output['termination'])"
   ]
  },
  {
   "cell_type": "code",
   "execution_count": null,
   "metadata": {},
   "outputs": [],
   "source": [
    "import pickle\n",
    "with open('C:/Users/marcopdsousa/Documents/energiapy/Real-Time/res_red/res_red_0.pkl', 'rb') as file:\n",
    "    data = pickle.load(file)\n",
    "    print(data)"
   ]
  },
  {
   "cell_type": "code",
   "execution_count": null,
   "metadata": {},
   "outputs": [],
   "source": [
    "# Load the pickle file\n",
    "data = pd.read_pickle('C:/Users/marcopdsousa/Documents/energiapy/Real-Time/res_red/res_red_0.pkl')\n",
    "df = pd.DataFrame(data)\n",
    "selected_rows = df.loc[['objective', 'Cost', 'global_warming_potential_network']]\n",
    "selected_rows.to_excel('C:/Users/marcopdsousa/Desktop/Dataframes/Shell August 2024/res_red_0.xlsx', index=True)\n",
    "#df = df.T\n",
    "# # Check the type of the loaded object\n",
    "# print(data.keys())\n",
    "# df.to_excel('C:/Users/marcopdsousa/Desktop/Dataframes/Shell August 2024/res_red_0.xlsx', index=True)"
   ]
  },
  {
   "cell_type": "code",
   "execution_count": null,
   "metadata": {},
   "outputs": [],
   "source": [
    "import pandas as pd\n",
    "import os\n",
    "\n",
    "# Directory paths\n",
    "input_dir = 'C:/Users/marcopdsousa/Documents/energiapy/Real-Time/res_red/'\n",
    "output_dir = 'C:/Users/marcopdsousa/Desktop/Dataframes/Shell August 2024/'\n",
    "\n",
    "# Ensure the output directory exists\n",
    "os.makedirs(output_dir, exist_ok=True)\n",
    "\n",
    "# Loop through the 100 .pkl files\n",
    "for i in range(100):\n",
    "    # Generate the file name\n",
    "    input_file = os.path.join(input_dir, f'res_red_{i}.pkl')\n",
    "    output_file = os.path.join(output_dir, f'res_red_{i}.xlsx')\n",
    "    \n",
    "    # Load the pickle file\n",
    "    df = pd.read_pickle(input_file)\n",
    "    df = pd.DataFrame(df)\n",
    "    # Select the specific rows of interest\n",
    "    selected_rows = df.loc[['objective', 'Cost', 'global_warming_potential_network']]\n",
    "    \n",
    "    # Save the selected rows to an Excel file\n",
    "    selected_rows.to_excel(output_file, index=True)\n",
    "    \n",
    "    print(f\"Processed and saved: {output_file}\")\n"
   ]
  },
  {
   "cell_type": "code",
   "execution_count": null,
   "metadata": {},
   "outputs": [],
   "source": [
    "import pandas as pd\n",
    "import os\n",
    "\n",
    "# Directory containing the Excel files\n",
    "input_dir = 'C:/Users/marcopdsousa/Desktop/Dataframes/Shell August 2024/'\n",
    "\n",
    "# Output file path\n",
    "output_file = 'C:/Users/marcopdsousa/Desktop/Dataframes/Shell August 2024/merged_res_red.xlsx'\n",
    "\n",
    "# Initialize an empty list to hold the DataFrames\n",
    "dfs = []\n",
    "\n",
    "# Loop through each file in the directory\n",
    "for file_name in os.listdir(input_dir):\n",
    "    if file_name.endswith('.xlsx'):\n",
    "        # Construct full file path\n",
    "        file_path = os.path.join(input_dir, file_name)\n",
    "        \n",
    "        # Load the Excel file into a DataFrame\n",
    "        df = pd.read_excel(file_path)\n",
    "        \n",
    "        # Optionally, add a column to identify the source file\n",
    "        df['Source'] = file_name\n",
    "        \n",
    "        # Append the DataFrame to the list\n",
    "        dfs.append(df)\n",
    "        \n",
    "        print(f\"Loaded {file_name}\")\n",
    "\n",
    "# Concatenate all DataFrames in the list into one DataFrame\n",
    "merged_df = pd.concat(dfs, ignore_index=True)\n",
    "\n",
    "# Save the merged DataFrame to a single Excel file\n",
    "merged_df.to_excel(output_file, index=False)\n",
    "\n",
    "print(f\"All files merged into {output_file}\")\n"
   ]
  },
  {
   "cell_type": "code",
   "execution_count": null,
   "metadata": {},
   "outputs": [],
   "source": [
    "# df = pd.DataFrame(data)\n",
    "# df = df.T\n",
    "# # Export the DataFrame to an Excel file,index=[0]\n",
    "# df.to_excel('C:/Users/marcopdsousa/Desktop/Dataframes/Shell August 2024/res_red_0.xlsx', index=True)"
   ]
  },
  {
   "cell_type": "code",
   "execution_count": null,
   "metadata": {},
   "outputs": [],
   "source": [
    "milp_gwp = formulate(scenario=scenario, constraints={Constraints.COST, Constraints.INVENTORY, Constraints.PRODUCTION,\n",
    "                     Constraints.RESOURCE_BALANCE, Constraints.DEMAND, Constraints.EMISSION}, objective=Objective.MIN_GWP, demand_sign = 'eq')"
   ]
  },
  {
   "cell_type": "code",
   "execution_count": null,
   "metadata": {},
   "outputs": [],
   "source": []
  },
  {
   "cell_type": "code",
   "execution_count": null,
   "metadata": {},
   "outputs": [],
   "source": [
    "# model.component\n",
    "\n",
    "from pyomo.environ import ConstraintList\n",
    "milp_gwp.cons4 = ConstraintList()\n",
    "for i in scales.scale_iter(2):\n",
    "    milp_gwp.cons4.add(expr = milp_gwp.P['HO', 'SMR', *i] >= 1000)"
   ]
  },
  {
   "cell_type": "code",
   "execution_count": null,
   "metadata": {},
   "outputs": [],
   "source": [
    "\n",
    "from pyomo.environ import ConstraintList\n",
    "\n",
    "ramping_limit = 5000\n",
    "\n",
    "milp_gwp.cons2 = ConstraintList()\n",
    "for i in scales.scale_iter(1):\n",
    "    if i != (0,0):\n",
    "        milp_gwp.cons2.add(expr = milp_gwp.P['HO', 'SMR', *i] - milp_gwp.P['HO', 'SMR', *scales.scale_iter(2)[scales.scale_iter(1).index(i) - 1]] <= ramping_limit)\n",
    "\n",
    "milp_gwp.cons3 = ConstraintList()\n",
    "for i in scales.scale_iter(1):\n",
    "    if i != (0,0):\n",
    "        milp_gwp.cons3.add(expr = milp_gwp.P['HO', 'SMR', *i] - milp_gwp.P['HO', 'SMR', *scales.scale_iter(2)[scales.scale_iter(1).index(i) - 1]] >= -ramping_limit)\n",
    "\n",
    "# from pyomo.environ import ConstraintList, Binary, Var\n",
    "\n",
    "\n",
    "# # Define the binary variable\n",
    "# milp_gwp.ramping_up = Var(scales.scale_iter(1), within=Binary)\n",
    "\n",
    "# ramping_limit = 5000\n",
    "\n",
    "# milp_gwp.cons2 = ConstraintList()\n",
    "# milp_gwp.cons3 = ConstraintList()\n",
    "\n",
    "# for i in scales.scale_iter(1):\n",
    "#     if i != (0,0):\n",
    "#         previous_i = scales.scale_iter(2)[scales.scale_iter(1).index(i) - 1]\n",
    "        \n",
    "#         # Ramp up constraint\n",
    "#         milp_gwp.cons2.add(expr = milp_cost.P['HO', 'SMR', *i] - milp_gwp.P['HO', 'SMR', *previous_i] <= ramping_limit)\n",
    "        \n",
    "#         # Ramp down constraint\n",
    "#         milp_gwp.cons3.add(expr = milp_gwp.P['HO', 'SMR', *i] - milp_gwp.P['HO', 'SMR', *previous_i] >= -ramping_limit)\n",
    "        \n",
    "#         # Ensure if ramped up, cannot ramp down in the next step\n",
    "#         milp_gwp.cons3.add(expr = milp_gwp.ramping_up[i] * (milp_cost.P['HO', 'SMR', *i] - milp_gwp.P['HO', 'SMR', *previous_i]) >= 0)\n",
    "#         milp_gwp.cons3.add(expr = (1 - milp_gwp.ramping_up[i]) * (milp_cost.P['HO', 'SMR', *i] - milp_gwp.P['HO', 'SMR', *previous_i]) <= 0)"
   ]
  },
  {
   "cell_type": "code",
   "execution_count": null,
   "metadata": {},
   "outputs": [],
   "source": [
    "\n"
   ]
  },
  {
   "cell_type": "code",
   "execution_count": null,
   "metadata": {},
   "outputs": [],
   "source": [
    "milp_gwp.objective_gwp_min.pprint()"
   ]
  },
  {
   "cell_type": "code",
   "execution_count": null,
   "metadata": {},
   "outputs": [],
   "source": [
    "results_gwp = solve(scenario=scenario, instance=milp_gwp,\n",
    "                     solver='gurobi', name=f\"res_gwp\", print_solversteps=True, saveformat = '.pkl')"
   ]
  },
  {
   "cell_type": "code",
   "execution_count": null,
   "metadata": {},
   "outputs": [],
   "source": [
    "results_gwp.output['global_warming_potential_resource']"
   ]
  },
  {
   "cell_type": "code",
   "execution_count": null,
   "metadata": {},
   "outputs": [],
   "source": [
    "results_gwp.output['global_warming_potential_location']"
   ]
  },
  {
   "cell_type": "code",
   "execution_count": null,
   "metadata": {},
   "outputs": [],
   "source": [
    "results_gwp.output['Cost']"
   ]
  },
  {
   "cell_type": "code",
   "execution_count": null,
   "metadata": {},
   "outputs": [],
   "source": [
    "# results_gwp.output['P_network']"
   ]
  },
  {
   "cell_type": "code",
   "execution_count": null,
   "metadata": {},
   "outputs": [],
   "source": [
    "results_gwp.output['P']"
   ]
  },
  {
   "cell_type": "code",
   "execution_count": null,
   "metadata": {},
   "outputs": [],
   "source": [
    "data = results_gwp.output['P']\n",
    "df = pd.DataFrame(data,index=[0])\n",
    "df = df.T\n",
    "# Export the DataFrame to an Excel file\n",
    "df.to_excel('C:/Users/marcopdsousa/Desktop/Dataframes/Shell August 2024/varyingGWPprocessexpanded.xlsx', index=True)"
   ]
  },
  {
   "cell_type": "code",
   "execution_count": null,
   "metadata": {},
   "outputs": [],
   "source": [
    "results_gwp.output['Cost']"
   ]
  },
  {
   "cell_type": "code",
   "execution_count": null,
   "metadata": {},
   "outputs": [],
   "source": [
    "# data = results_gwp.output['P']\n",
    "# df = pd.DataFrame(data,index=[0])\n",
    "# df = df.T\n",
    "# # Export the DataFrame to an Excel file\n",
    "# df.to_excel('C:/Users/marcopdsousa/Desktop/Dataframes/ScopeFormulation/mingwpP.xlsx', index=True)"
   ]
  },
  {
   "cell_type": "markdown",
   "metadata": {},
   "source": [
    "EMISSION RESTRICTIONS"
   ]
  },
  {
   "cell_type": "code",
   "execution_count": null,
   "metadata": {},
   "outputs": [],
   "source": [
    "milp_gwp_10 = formulate(scenario=scenario, constraints={Constraints.COST, Constraints.INVENTORY, Constraints.PRODUCTION,\n",
    "                     Constraints.RESOURCE_BALANCE, Constraints.NETWORK, Constraints.DEMAND, Constraints.EMISSION}, objective=Objective.COST, demand_sign = 'eq')\n",
    "\n",
    "from energiapy.model.constraints.emission import constraint_global_warming_potential_network_reduction\n",
    "constraint_global_warming_potential_network_reduction(instance= milp_gwp_10, network_scale_level = 0, gwp_reduction_pct = 10, gwp = results_cost.output['global_warming_potential_network'][0])"
   ]
  },
  {
   "cell_type": "code",
   "execution_count": null,
   "metadata": {},
   "outputs": [],
   "source": [
    "from pyomo.environ import ConstraintList\n",
    "\n",
    "ramping_limit = 3\n",
    "\n",
    "milp_gwp_10.cons1 = ConstraintList()\n",
    "for i in scales.scale_iter(1):\n",
    "    if i != (0,0):\n",
    "        milp_gwp_10.cons1.add(expr = milp_gwp_10.P['HO', 'PEM', *i] - milp_gwp_10.P['HO', 'PEM', *scales.scale_iter(2)[scales.scale_iter(1).index(i) - 1]] <= ramping_limit)\n",
    "\n",
    "milp_gwp_10.cons2 = ConstraintList()\n",
    "for i in scales.scale_iter(1):\n",
    "    if i != (0,0):\n",
    "        milp_gwp_10.cons2.add(expr = milp_gwp_10.P['HO', 'SMR', *i] - milp_gwp_10.P['HO', 'SMR', *scales.scale_iter(2)[scales.scale_iter(1).index(i) - 1]] <= ramping_limit)\n",
    "\n",
    "milp_gwp_10.cons3 = ConstraintList()\n",
    "for i in scales.scale_iter(1):\n",
    "    if i != (0,0):\n",
    "        milp_gwp_10.cons3.add(expr = milp_gwp_10.P['HO', 'SMRCCS', *i] - milp_gwp_10.P['HO', 'SMRCCS', *scales.scale_iter(2)[scales.scale_iter(1).index(i) - 1]] <= ramping_limit)\n",
    "\n",
    "milp_gwp_10.cons4 = ConstraintList()\n",
    "for i in scales.scale_iter(2):\n",
    "    milp_gwp_10.cons4.add(expr = milp_gwp_10.P['HO', 'SMR', *i] >= 5)"
   ]
  },
  {
   "cell_type": "code",
   "execution_count": null,
   "metadata": {},
   "outputs": [],
   "source": [
    "results_gwp_10 = solve(scenario=scenario, instance=milp_gwp_10,\n",
    "                     solver='gurobi', name=f\"res_gwp_10\", print_solversteps=True, saveformat = '.pkl')"
   ]
  },
  {
   "cell_type": "code",
   "execution_count": null,
   "metadata": {},
   "outputs": [],
   "source": [
    "results_gwp_10.output['objective']"
   ]
  },
  {
   "cell_type": "code",
   "execution_count": null,
   "metadata": {},
   "outputs": [],
   "source": [
    "results_gwp_10.output['global_warming_potential_location']"
   ]
  },
  {
   "cell_type": "code",
   "execution_count": null,
   "metadata": {},
   "outputs": [],
   "source": [
    "results_gwp_10.output['P']"
   ]
  },
  {
   "cell_type": "code",
   "execution_count": null,
   "metadata": {},
   "outputs": [],
   "source": [
    "# data = results_gwp_10.output['P']\n",
    "# df = pd.DataFrame(data,index=[0])\n",
    "# df = df.T\n",
    "# # Export the DataFrame to an Excel file\n",
    "# df.to_excel('C:/Users/marcopdsousa/Desktop/Dataframes/mingwpprod10.xlsx', index=True)"
   ]
  },
  {
   "cell_type": "code",
   "execution_count": null,
   "metadata": {},
   "outputs": [],
   "source": [
    "# data = results_gwp_10.output['global_warming_potential_resource']\n",
    "# df = pd.DataFrame(data,index=[0])\n",
    "# df = df.T\n",
    "# # Export the DataFrame to an Excel file\n",
    "# df.to_excel('C:/Users/marcopdsousa/Desktop/Dataframes/mingwp10resource_emission.xlsx', index=True)"
   ]
  },
  {
   "cell_type": "code",
   "execution_count": null,
   "metadata": {},
   "outputs": [],
   "source": [
    "results_cost.output['global_warming_potential_resource']"
   ]
  },
  {
   "cell_type": "code",
   "execution_count": null,
   "metadata": {},
   "outputs": [],
   "source": [
    "results_gwp_10.output['global_warming_potential_resource']"
   ]
  },
  {
   "cell_type": "code",
   "execution_count": null,
   "metadata": {},
   "outputs": [],
   "source": [
    "milp_gwp_20 = formulate(scenario=scenario, constraints={Constraints.COST, Constraints.INVENTORY, Constraints.PRODUCTION,\n",
    "                     Constraints.RESOURCE_BALANCE, Constraints.NETWORK, Constraints.DEMAND, Constraints.EMISSION}, objective=Objective.COST, demand_sign = 'eq')\n",
    "\n",
    "from energiapy.model.constraints.emission import constraint_global_warming_potential_network_reduction\n",
    "constraint_global_warming_potential_network_reduction(instance= milp_gwp_20, network_scale_level = 0, gwp_reduction_pct = 20, gwp = results_cost.output['global_warming_potential_network'][0])\n"
   ]
  },
  {
   "cell_type": "code",
   "execution_count": null,
   "metadata": {},
   "outputs": [],
   "source": []
  },
  {
   "cell_type": "code",
   "execution_count": null,
   "metadata": {},
   "outputs": [],
   "source": [
    "from pyomo.environ import ConstraintList\n",
    "\n",
    "ramping_limit = 3\n",
    "\n",
    "milp_gwp_20.cons1 = ConstraintList()\n",
    "for i in scales.scale_iter(1):\n",
    "    if i != (0,0):\n",
    "        milp_gwp_20.cons1.add(expr = milp_gwp_20.P['HO', 'PEM', *i] - milp_gwp_20.P['HO', 'PEM', *scales.scale_iter(2)[scales.scale_iter(1).index(i) - 1]] <= ramping_limit)\n",
    "\n",
    "milp_gwp_20.cons2 = ConstraintList()\n",
    "for i in scales.scale_iter(1):\n",
    "    if i != (0,0):\n",
    "        milp_gwp_20.cons2.add(expr = milp_gwp_20.P['HO', 'SMR', *i] - milp_gwp_20.P['HO', 'SMR', *scales.scale_iter(2)[scales.scale_iter(1).index(i) - 1]] <= ramping_limit)\n",
    "\n",
    "milp_gwp_20.cons3 = ConstraintList()\n",
    "for i in scales.scale_iter(1):\n",
    "    if i != (0,0):\n",
    "        milp_gwp_20.cons3.add(expr = milp_gwp_20.P['HO', 'SMRCCS', *i] - milp_gwp_20.P['HO', 'SMRCCS', *scales.scale_iter(2)[scales.scale_iter(1).index(i) - 1]] <= ramping_limit)\n",
    "\n",
    "milp_gwp_20.cons4 = ConstraintList()\n",
    "for i in scales.scale_iter(2):\n",
    "    milp_gwp_20.cons4.add(expr = milp_gwp_20.P['HO', 'SMR', *i] >= 5)"
   ]
  },
  {
   "cell_type": "code",
   "execution_count": null,
   "metadata": {},
   "outputs": [],
   "source": [
    "results_gwp_20 = solve(scenario=scenario, instance=milp_gwp_20,\n",
    "                     solver='gurobi', name=f\"res_gwp_20\", print_solversteps=True, saveformat = '.pkl')"
   ]
  },
  {
   "cell_type": "code",
   "execution_count": null,
   "metadata": {},
   "outputs": [],
   "source": [
    "results_gwp_20.output['objective']\n"
   ]
  },
  {
   "cell_type": "code",
   "execution_count": null,
   "metadata": {},
   "outputs": [],
   "source": [
    "results_gwp_20.output['P']"
   ]
  },
  {
   "cell_type": "code",
   "execution_count": null,
   "metadata": {},
   "outputs": [],
   "source": [
    "results_gwp_20.output['global_warming_potential_location']"
   ]
  },
  {
   "cell_type": "code",
   "execution_count": null,
   "metadata": {},
   "outputs": [],
   "source": [
    "results_gwp_20.output['global_warming_potential_resource']"
   ]
  },
  {
   "cell_type": "code",
   "execution_count": null,
   "metadata": {},
   "outputs": [],
   "source": [
    "results_gwp_20.output['P_network']"
   ]
  },
  {
   "cell_type": "code",
   "execution_count": null,
   "metadata": {},
   "outputs": [],
   "source": [
    "# data = results_gwp_20.output['P']\n",
    "# df = pd.DataFrame(data,index=[0])\n",
    "# df = df.T\n",
    "# # Export the DataFrame to an Excel file\n",
    "# df.to_excel('C:/Users/marcopdsousa/Desktop/Dataframes/mingwpprod20.xlsx', index=True)"
   ]
  },
  {
   "cell_type": "code",
   "execution_count": null,
   "metadata": {},
   "outputs": [],
   "source": [
    "# data = results_gwp_20.output['global_warming_potential_resource']\n",
    "# df = pd.DataFrame(data,index=[0])\n",
    "# df = df.T\n",
    "# # Export the DataFrame to an Excel file\n",
    "# df.to_excel('C:/Users/marcopdsousa/Desktop/Dataframes/mingwp20resource_emission.xlsx', index=True)"
   ]
  },
  {
   "cell_type": "code",
   "execution_count": null,
   "metadata": {},
   "outputs": [],
   "source": [
    "results_gwp_20.output[\"objective\"]"
   ]
  },
  {
   "cell_type": "code",
   "execution_count": null,
   "metadata": {},
   "outputs": [],
   "source": [
    "milp_gwp_30 = formulate(scenario=scenario, constraints={Constraints.COST, Constraints.INVENTORY, Constraints.PRODUCTION,\n",
    "                     Constraints.RESOURCE_BALANCE, Constraints.NETWORK, Constraints.DEMAND, Constraints.EMISSION}, objective=Objective.COST, demand_sign = 'eq')\n",
    "\n",
    "from energiapy.model.constraints.emission import constraint_global_warming_potential_network_reduction\n",
    "constraint_global_warming_potential_network_reduction(instance= milp_gwp_30, network_scale_level = 0, gwp_reduction_pct = 30, gwp = results_cost.output['global_warming_potential_network'][0])\n",
    "\n",
    "\n",
    "\n"
   ]
  },
  {
   "cell_type": "code",
   "execution_count": null,
   "metadata": {},
   "outputs": [],
   "source": [
    "from pyomo.environ import ConstraintList\n",
    "\n",
    "ramping_limit = 3\n",
    "\n",
    "milp_gwp_30.cons1 = ConstraintList()\n",
    "for i in scales.scale_iter(1):\n",
    "    if i != (0,0):\n",
    "        milp_gwp_30.cons1.add(expr = milp_gwp_30.P['HO', 'PEM', *i] - milp_gwp_30.P['HO', 'PEM', *scales.scale_iter(2)[scales.scale_iter(1).index(i) - 1]] <= ramping_limit)\n",
    "\n",
    "milp_gwp_30.cons2 = ConstraintList()\n",
    "for i in scales.scale_iter(1):\n",
    "    if i != (0,0):\n",
    "        milp_gwp_30.cons2.add(expr = milp_gwp_30.P['HO', 'SMR', *i] - milp_gwp_30.P['HO', 'SMR', *scales.scale_iter(2)[scales.scale_iter(1).index(i) - 1]] <= ramping_limit)\n",
    "\n",
    "milp_gwp_30.cons3 = ConstraintList()\n",
    "for i in scales.scale_iter(1):\n",
    "    if i != (0,0):\n",
    "        milp_gwp_30.cons3.add(expr = milp_gwp_30.P['HO', 'SMRCCS', *i] - milp_gwp_30.P['HO', 'SMRCCS', *scales.scale_iter(2)[scales.scale_iter(1).index(i) - 1]] <= ramping_limit)\n",
    "\n",
    "milp_gwp_30.cons4 = ConstraintList()\n",
    "for i in scales.scale_iter(2):\n",
    "    milp_gwp_30.cons4.add(expr = milp_gwp_30.P['HO', 'SMR', *i] >= 5)"
   ]
  },
  {
   "cell_type": "code",
   "execution_count": null,
   "metadata": {},
   "outputs": [],
   "source": [
    "results_gwp_30 = solve(scenario=scenario, instance=milp_gwp_30,\n",
    "                     solver='gurobi', name=f\"res_gwp_30\", print_solversteps=True, saveformat = '.pkl')"
   ]
  },
  {
   "cell_type": "code",
   "execution_count": null,
   "metadata": {},
   "outputs": [],
   "source": [
    "\n",
    "results_gwp_30.output['objective']"
   ]
  },
  {
   "cell_type": "code",
   "execution_count": null,
   "metadata": {},
   "outputs": [],
   "source": [
    "results_gwp_30.output['P']"
   ]
  },
  {
   "cell_type": "code",
   "execution_count": null,
   "metadata": {},
   "outputs": [],
   "source": [
    "results_gwp_30.output['global_warming_potential_location']"
   ]
  },
  {
   "cell_type": "code",
   "execution_count": null,
   "metadata": {},
   "outputs": [],
   "source": [
    "results_gwp_30.output['P_network']"
   ]
  },
  {
   "cell_type": "code",
   "execution_count": null,
   "metadata": {},
   "outputs": [],
   "source": [
    "plot_results.cost(results=results_gwp_30, x=CostX.PROCESS_WISE,\n",
    "                  y=CostY.TOTAL, location='HO', fig_size=(11, 6))"
   ]
  },
  {
   "cell_type": "code",
   "execution_count": null,
   "metadata": {},
   "outputs": [],
   "source": [
    "# data = results_gwp_30.output['P']\n",
    "# df = pd.DataFrame(data,index=[0])\n",
    "# df = df.T\n",
    "# # Export the DataFrame to an Excel file\n",
    "# df.to_excel('C:/Users/marcopdsousa/Desktop/Dataframes/mingwpprod30.xlsx', index=True)"
   ]
  },
  {
   "cell_type": "code",
   "execution_count": null,
   "metadata": {},
   "outputs": [],
   "source": [
    "results_gwp_30.output[\"objective\"]"
   ]
  },
  {
   "cell_type": "code",
   "execution_count": null,
   "metadata": {},
   "outputs": [],
   "source": [
    "# data = results_gwp_30.output['global_warming_potential_resource']\n",
    "# df = pd.DataFrame(data,index=[0])\n",
    "# df = df.T\n",
    "# # Export the DataFrame to an Excel file\n",
    "# df.to_excel('C:/Users/marcopdsousa/Desktop/Dataframes/mingwp30resource_emission.xlsx', index=True)"
   ]
  },
  {
   "cell_type": "code",
   "execution_count": null,
   "metadata": {},
   "outputs": [],
   "source": [
    "milp_gwp_40 = formulate(scenario=scenario, constraints={Constraints.COST, Constraints.INVENTORY, Constraints.PRODUCTION,\n",
    "                     Constraints.RESOURCE_BALANCE, Constraints.NETWORK, Constraints.DEMAND, Constraints.EMISSION}, objective=Objective.COST, demand_sign = 'eq')\n",
    "\n",
    "from energiapy.model.constraints.emission import constraint_global_warming_potential_network_reduction\n",
    "constraint_global_warming_potential_network_reduction(instance= milp_gwp_40, network_scale_level = 0, gwp_reduction_pct = 40, gwp = results_cost.output['global_warming_potential_network'][0])\n"
   ]
  },
  {
   "cell_type": "code",
   "execution_count": null,
   "metadata": {},
   "outputs": [],
   "source": [
    "from pyomo.environ import ConstraintList\n",
    "\n",
    "ramping_limit = 3\n",
    "\n",
    "milp_gwp_40.cons1 = ConstraintList()\n",
    "for i in scales.scale_iter(1):\n",
    "    if i != (0,0):\n",
    "        milp_gwp_40.cons1.add(expr = milp_gwp_40.P['HO', 'PEM', *i] - milp_gwp_40.P['HO', 'PEM', *scales.scale_iter(2)[scales.scale_iter(1).index(i) - 1]] <= ramping_limit)\n",
    "\n",
    "milp_gwp_40.cons2 = ConstraintList()\n",
    "for i in scales.scale_iter(1):\n",
    "    if i != (0,0):\n",
    "        milp_gwp_40.cons2.add(expr = milp_gwp_40.P['HO', 'SMR', *i] - milp_gwp_40.P['HO', 'SMR', *scales.scale_iter(2)[scales.scale_iter(1).index(i) - 1]] <= ramping_limit)\n",
    "\n",
    "milp_gwp_40.cons3 = ConstraintList()\n",
    "for i in scales.scale_iter(1):\n",
    "    if i != (0,0):\n",
    "        milp_gwp_40.cons3.add(expr = milp_gwp_40.P['HO', 'SMRCCS', *i] - milp_gwp_40.P['HO', 'SMRCCS', *scales.scale_iter(2)[scales.scale_iter(1).index(i) - 1]] <= ramping_limit)\n",
    "\n",
    "milp_gwp_40.cons4 = ConstraintList()\n",
    "for i in scales.scale_iter(2):\n",
    "    milp_gwp_40.cons4.add(expr = milp_gwp_40.P['HO', 'SMR', *i] >= 5)"
   ]
  },
  {
   "cell_type": "code",
   "execution_count": null,
   "metadata": {},
   "outputs": [],
   "source": [
    "results_gwp_40 = solve(scenario=scenario, instance=milp_gwp_40,\n",
    "                     solver='gurobi', name=f\"res_gwp_40\", print_solversteps=True, saveformat = '.pkl')"
   ]
  },
  {
   "cell_type": "code",
   "execution_count": null,
   "metadata": {},
   "outputs": [],
   "source": [
    "results_gwp_40.output['objective']"
   ]
  },
  {
   "cell_type": "code",
   "execution_count": null,
   "metadata": {},
   "outputs": [],
   "source": [
    "results_gwp_40.output['global_warming_potential_location']"
   ]
  },
  {
   "cell_type": "code",
   "execution_count": null,
   "metadata": {},
   "outputs": [],
   "source": [
    "results_gwp_40.output['global_warming_potential_resource']"
   ]
  },
  {
   "cell_type": "code",
   "execution_count": null,
   "metadata": {},
   "outputs": [],
   "source": [
    "results_gwp_40.output['P_network']"
   ]
  },
  {
   "cell_type": "code",
   "execution_count": null,
   "metadata": {},
   "outputs": [],
   "source": [
    "results_gwp_40.output['P']"
   ]
  },
  {
   "cell_type": "code",
   "execution_count": null,
   "metadata": {},
   "outputs": [],
   "source": [
    "plot_results.cost(results=results_gwp_40, x=CostX.PROCESS_WISE,\n",
    "                  y=CostY.TOTAL, location='HO', fig_size=(11, 6))"
   ]
  },
  {
   "cell_type": "code",
   "execution_count": null,
   "metadata": {},
   "outputs": [],
   "source": [
    "plot_results.schedule(results = results_gwp_40, y_axis= 'P', component = 'SMR', location='HO')\n",
    "plot_results.schedule(results = results_gwp_40, y_axis= 'P', component = 'SMRCCS', location='HO')\n"
   ]
  },
  {
   "cell_type": "code",
   "execution_count": null,
   "metadata": {},
   "outputs": [],
   "source": [
    "# data = results_gwp_40.output['P']\n",
    "# df = pd.DataFrame(data,index=[0])\n",
    "# df = df.T\n",
    "# # Export the DataFrame to an Excel file\n",
    "# df.to_excel('C:/Users/marcopdsousa/Desktop/Dataframes/mingwpprod40.xlsx', index=True)"
   ]
  },
  {
   "cell_type": "code",
   "execution_count": null,
   "metadata": {},
   "outputs": [],
   "source": [
    "# data = results_gwp_40.output['global_warming_potential_resource']\n",
    "# df = pd.DataFrame(data,index=[0])\n",
    "# df = df.T\n",
    "# # Export the DataFrame to an Excel file\n",
    "# df.to_excel('C:/Users/marcopdsousa/Desktop/Dataframes/mingwp40resource_emission.xlsx', index=True)"
   ]
  },
  {
   "cell_type": "code",
   "execution_count": null,
   "metadata": {},
   "outputs": [],
   "source": [
    "results_gwp_40.output[\"objective\"]"
   ]
  },
  {
   "cell_type": "code",
   "execution_count": null,
   "metadata": {},
   "outputs": [],
   "source": [
    "milp_gwp_50 = formulate(scenario=scenario, constraints={Constraints.COST, Constraints.INVENTORY, Constraints.PRODUCTION,\n",
    "                     Constraints.RESOURCE_BALANCE, Constraints.NETWORK, Constraints.DEMAND, Constraints.EMISSION}, objective=Objective.COST, demand_sign = 'eq')\n",
    "\n",
    "from energiapy.model.constraints.emission import constraint_global_warming_potential_network_reduction\n",
    "constraint_global_warming_potential_network_reduction(instance= milp_gwp_50, network_scale_level = 0, gwp_reduction_pct = 50, gwp = results_cost.output['global_warming_potential_network'][0])"
   ]
  },
  {
   "cell_type": "code",
   "execution_count": null,
   "metadata": {},
   "outputs": [],
   "source": [
    "from pyomo.environ import ConstraintList\n",
    "\n",
    "ramping_limit = 3\n",
    "\n",
    "milp_gwp_50.cons1 = ConstraintList()\n",
    "for i in scales.scale_iter(1):\n",
    "    if i != (0,0):\n",
    "        milp_gwp_50.cons1.add(expr = milp_gwp_50.P['HO', 'PEM', *i] - milp_gwp_50.P['HO', 'PEM', *scales.scale_iter(2)[scales.scale_iter(1).index(i) - 1]] <= ramping_limit)\n",
    "\n",
    "milp_gwp_50.cons2 = ConstraintList()\n",
    "for i in scales.scale_iter(1):\n",
    "    if i != (0,0):\n",
    "        milp_gwp_50.cons2.add(expr = milp_gwp_50.P['HO', 'SMR', *i] - milp_gwp_50.P['HO', 'SMR', *scales.scale_iter(2)[scales.scale_iter(1).index(i) - 1]] <= ramping_limit)\n",
    "\n",
    "milp_gwp_50.cons3 = ConstraintList()\n",
    "for i in scales.scale_iter(1):\n",
    "    if i != (0,0):\n",
    "        milp_gwp_50.cons3.add(expr = milp_gwp_50.P['HO', 'SMRCCS', *i] - milp_gwp_50.P['HO', 'SMRCCS', *scales.scale_iter(2)[scales.scale_iter(1).index(i) - 1]] <= ramping_limit)\n",
    "\n",
    "milp_gwp_50.cons4 = ConstraintList()\n",
    "for i in scales.scale_iter(2):\n",
    "    milp_gwp_50.cons4.add(expr = milp_gwp_50.P['HO', 'SMR', *i] >= 5)"
   ]
  },
  {
   "cell_type": "code",
   "execution_count": null,
   "metadata": {},
   "outputs": [],
   "source": [
    "results_gwp_50 = solve(scenario=scenario, instance=milp_gwp_50,\n",
    "                     solver='gurobi', name=f\"res_gwp_50\", print_solversteps=True, saveformat = '.pkl')"
   ]
  },
  {
   "cell_type": "code",
   "execution_count": null,
   "metadata": {},
   "outputs": [],
   "source": [
    "# data = results_gwp_50.output['P']\n",
    "# df = pd.DataFrame(data,index=[0])\n",
    "# df = df.T\n",
    "# # Export the DataFrame to an Excel file\n",
    "# df.to_excel('C:/Users/marcopdsousa/Desktop/Dataframes/mingwpprod50.xlsx', index=True)"
   ]
  },
  {
   "cell_type": "code",
   "execution_count": null,
   "metadata": {},
   "outputs": [],
   "source": [
    "# data = results_gwp_50.output['global_warming_potential_resource']\n",
    "# df = pd.DataFrame(data,index=[0])\n",
    "# df = df.T\n",
    "# # Export the DataFrame to an Excel file\n",
    "# df.to_excel('C:/Users/marcopdsousa/Desktop/Dataframes/mingwp50resource_emission.xlsx', index=True)"
   ]
  },
  {
   "cell_type": "code",
   "execution_count": null,
   "metadata": {},
   "outputs": [],
   "source": [
    "results_gwp_50.output[\"objective\"]"
   ]
  },
  {
   "cell_type": "code",
   "execution_count": null,
   "metadata": {},
   "outputs": [],
   "source": [
    "results_gwp_50.output['global_warming_potential_location']"
   ]
  },
  {
   "cell_type": "code",
   "execution_count": null,
   "metadata": {},
   "outputs": [],
   "source": [
    "milp_gwp_60 = formulate(scenario=scenario, constraints={Constraints.COST, Constraints.INVENTORY, Constraints.PRODUCTION,\n",
    "                     Constraints.RESOURCE_BALANCE, Constraints.NETWORK, Constraints.DEMAND, Constraints.EMISSION}, objective=Objective.COST, demand_sign = 'eq')\n",
    "\n",
    "from energiapy.model.constraints.emission import constraint_global_warming_potential_network_reduction\n",
    "constraint_global_warming_potential_network_reduction(instance= milp_gwp_60, network_scale_level = 0, gwp_reduction_pct = 60, gwp = results_cost.output['global_warming_potential_network'][0])"
   ]
  },
  {
   "cell_type": "code",
   "execution_count": null,
   "metadata": {},
   "outputs": [],
   "source": [
    "from pyomo.environ import ConstraintList\n",
    "\n",
    "ramping_limit = 3\n",
    "\n",
    "milp_gwp_60.cons1 = ConstraintList()\n",
    "for i in scales.scale_iter(1):\n",
    "    if i != (0,0):\n",
    "        milp_gwp_60.cons1.add(expr = milp_gwp_60.P['HO', 'PEM', *i] - milp_gwp_60.P['HO', 'PEM', *scales.scale_iter(2)[scales.scale_iter(1).index(i) - 1]] <= ramping_limit)\n",
    "\n",
    "milp_gwp_60.cons2 = ConstraintList()\n",
    "for i in scales.scale_iter(1):\n",
    "    if i != (0,0):\n",
    "        milp_gwp_60.cons2.add(expr = milp_gwp_60.P['HO', 'SMR', *i] - milp_gwp_60.P['HO', 'SMR', *scales.scale_iter(2)[scales.scale_iter(1).index(i) - 1]] <= ramping_limit)\n",
    "\n",
    "milp_gwp_60.cons3 = ConstraintList()\n",
    "for i in scales.scale_iter(1):\n",
    "    if i != (0,0):\n",
    "        milp_gwp_60.cons3.add(expr = milp_gwp_60.P['HO', 'SMRCCS', *i] - milp_gwp_60.P['HO', 'SMRCCS', *scales.scale_iter(2)[scales.scale_iter(1).index(i) - 1]] <= ramping_limit)\n",
    "\n",
    "milp_gwp_60.cons4 = ConstraintList()\n",
    "for i in scales.scale_iter(2):\n",
    "    milp_gwp_60.cons4.add(expr = milp_gwp_60.P['HO', 'SMR', *i] >= 5)"
   ]
  },
  {
   "cell_type": "code",
   "execution_count": null,
   "metadata": {},
   "outputs": [],
   "source": [
    "results_gwp_60 = solve(scenario=scenario, instance=milp_gwp_60,\n",
    "                     solver='gurobi', name=f\"res_gwp_60\", print_solversteps=True, saveformat = '.pkl')"
   ]
  },
  {
   "cell_type": "code",
   "execution_count": null,
   "metadata": {},
   "outputs": [],
   "source": [
    "plot_results.schedule(results = results_gwp_60, y_axis= 'P', component = 'SMR', location='HO')\n",
    "plot_results.schedule(results = results_gwp_60, y_axis= 'P', component = 'SMRCCS', location='HO')\n",
    "plot_results.schedule(results = results_gwp_60, y_axis= 'P', component = 'PEM', location='HO')"
   ]
  },
  {
   "cell_type": "code",
   "execution_count": null,
   "metadata": {},
   "outputs": [],
   "source": [
    "# data = results_gwp_60.output['P']\n",
    "# df = pd.DataFrame(data,index=[0])\n",
    "# df = df.T\n",
    "# # Export the DataFrame to an Excel file\n",
    "# df.to_excel('C:/Users/marcopdsousa/Desktop/Dataframes/mingwpprod60.xlsx', index=True)"
   ]
  },
  {
   "cell_type": "code",
   "execution_count": null,
   "metadata": {},
   "outputs": [],
   "source": [
    "# data = results_gwp_60.output['global_warming_potential_resource']\n",
    "# df = pd.DataFrame(data,index=[0])\n",
    "# df = df.T\n",
    "# # Export the DataFrame to an Excel file\n",
    "# df.to_excel('C:/Users/marcopdsousa/Desktop/Dataframes/mingwp60resource_emission.xlsx', index=True)"
   ]
  },
  {
   "cell_type": "code",
   "execution_count": null,
   "metadata": {},
   "outputs": [],
   "source": [
    "results_gwp_60.output[\"objective\"]"
   ]
  },
  {
   "cell_type": "code",
   "execution_count": null,
   "metadata": {},
   "outputs": [],
   "source": [
    "results_gwp_60.output[\"P\"]"
   ]
  },
  {
   "cell_type": "code",
   "execution_count": null,
   "metadata": {},
   "outputs": [],
   "source": [
    "results_gwp_60.output['global_warming_potential_location']"
   ]
  },
  {
   "cell_type": "code",
   "execution_count": null,
   "metadata": {},
   "outputs": [],
   "source": [
    "results_gwp_60.output['global_warming_potential_resource']"
   ]
  },
  {
   "cell_type": "code",
   "execution_count": null,
   "metadata": {},
   "outputs": [],
   "source": [
    "milp_gwp_70 = formulate(scenario=scenario, constraints={Constraints.COST, Constraints.INVENTORY, Constraints.PRODUCTION,\n",
    "                     Constraints.RESOURCE_BALANCE, Constraints.NETWORK, Constraints.DEMAND, Constraints.EMISSION}, objective=Objective.COST, demand_sign = 'eq')\n",
    "\n",
    "from energiapy.model.constraints.emission import constraint_global_warming_potential_network_reduction\n",
    "constraint_global_warming_potential_network_reduction(instance= milp_gwp_70, network_scale_level = 0, gwp_reduction_pct = 70, gwp = results_cost.output['global_warming_potential_network'][0])"
   ]
  },
  {
   "cell_type": "code",
   "execution_count": null,
   "metadata": {},
   "outputs": [],
   "source": [
    "from pyomo.environ import ConstraintList\n",
    "\n",
    "ramping_limit = 3\n",
    "\n",
    "milp_gwp_70.cons1 = ConstraintList()\n",
    "for i in scales.scale_iter(1):\n",
    "    if i != (0,0):\n",
    "        milp_gwp_70.cons1.add(expr = milp_gwp_70.P['HO', 'PEM', *i] - milp_gwp_70.P['HO', 'PEM', *scales.scale_iter(2)[scales.scale_iter(1).index(i) - 1]] <= ramping_limit)\n",
    "\n",
    "milp_gwp_70.cons2 = ConstraintList()\n",
    "for i in scales.scale_iter(1):\n",
    "    if i != (0,0):\n",
    "        milp_gwp_70.cons2.add(expr = milp_gwp_70.P['HO', 'SMR', *i] - milp_gwp_70.P['HO', 'SMR', *scales.scale_iter(2)[scales.scale_iter(1).index(i) - 1]] <= ramping_limit)\n",
    "\n",
    "milp_gwp_70.cons3 = ConstraintList()\n",
    "for i in scales.scale_iter(1):\n",
    "    if i != (0,0):\n",
    "        milp_gwp_70.cons3.add(expr = milp_gwp_70.P['HO', 'SMRCCS', *i] - milp_gwp_70.P['HO', 'SMRCCS', *scales.scale_iter(2)[scales.scale_iter(1).index(i) - 1]] <= ramping_limit)\n",
    "\n",
    "milp_gwp_70.cons4 = ConstraintList()\n",
    "for i in scales.scale_iter(2):\n",
    "    milp_gwp_70.cons4.add(expr = milp_gwp_70.P['HO', 'SMR', *i] >= 5)"
   ]
  },
  {
   "cell_type": "code",
   "execution_count": null,
   "metadata": {},
   "outputs": [],
   "source": [
    "results_gwp_70 = solve(scenario=scenario, instance=milp_gwp_70,\n",
    "                     solver='gurobi', name=f\"res_gwp_70\", print_solversteps=True, saveformat = '.pkl')"
   ]
  },
  {
   "cell_type": "code",
   "execution_count": null,
   "metadata": {},
   "outputs": [],
   "source": [
    "# data = results_gwp_70.output['P']\n",
    "# df = pd.DataFrame(data,index=[0])\n",
    "# df = df.T\n",
    "# # Export the DataFrame to an Excel file\n",
    "# df.to_excel('C:/Users/marcopdsousa/Desktop/Dataframes/mingwpprod70.xlsx', index=True)"
   ]
  },
  {
   "cell_type": "code",
   "execution_count": null,
   "metadata": {},
   "outputs": [],
   "source": [
    "# data = results_gwp_70.output['global_warming_potential_resource']\n",
    "# df = pd.DataFrame(data,index=[0])\n",
    "# df = df.T\n",
    "# # Export the DataFrame to an Excel file\n",
    "# df.to_excel('C:/Users/marcopdsousa/Desktop/Dataframes/mingwp70resource_emission.xlsx', index=True)"
   ]
  },
  {
   "cell_type": "code",
   "execution_count": null,
   "metadata": {},
   "outputs": [],
   "source": [
    "results_gwp_70.output[\"objective\"]"
   ]
  },
  {
   "cell_type": "code",
   "execution_count": null,
   "metadata": {},
   "outputs": [],
   "source": [
    "results_gwp_70.output['global_warming_potential_resource']"
   ]
  },
  {
   "cell_type": "code",
   "execution_count": null,
   "metadata": {},
   "outputs": [],
   "source": [
    "results_gwp_70.output[\"P\"]"
   ]
  },
  {
   "cell_type": "code",
   "execution_count": null,
   "metadata": {},
   "outputs": [],
   "source": [
    "results_gwp_70.output['global_warming_potential_location']"
   ]
  },
  {
   "cell_type": "code",
   "execution_count": null,
   "metadata": {},
   "outputs": [],
   "source": [
    "milp_gwp_75 = formulate(scenario=scenario, constraints={Constraints.COST, Constraints.INVENTORY, Constraints.PRODUCTION,\n",
    "                     Constraints.RESOURCE_BALANCE, Constraints.NETWORK, Constraints.DEMAND, Constraints.EMISSION}, objective=Objective.COST, demand_sign = 'eq')\n",
    "\n",
    "from energiapy.model.constraints.emission import constraint_global_warming_potential_network_reduction\n",
    "constraint_global_warming_potential_network_reduction(instance= milp_gwp_75, network_scale_level = 0, gwp_reduction_pct = 75, gwp = results_cost.output['global_warming_potential_network'][0])"
   ]
  },
  {
   "cell_type": "code",
   "execution_count": null,
   "metadata": {},
   "outputs": [],
   "source": [
    "from pyomo.environ import ConstraintList\n",
    "\n",
    "ramping_limit = 3\n",
    "\n",
    "milp_gwp_75.cons1 = ConstraintList()\n",
    "for i in scales.scale_iter(1):\n",
    "    if i != (0,0):\n",
    "        milp_gwp_75.cons1.add(expr = milp_gwp_75.P['HO', 'PEM', *i] - milp_gwp_75.P['HO', 'PEM', *scales.scale_iter(2)[scales.scale_iter(1).index(i) - 1]] <= ramping_limit)\n",
    "\n",
    "milp_gwp_75.cons2 = ConstraintList()\n",
    "for i in scales.scale_iter(1):\n",
    "    if i != (0,0):\n",
    "        milp_gwp_75.cons2.add(expr = milp_gwp_75.P['HO', 'SMR', *i] - milp_gwp_75.P['HO', 'SMR', *scales.scale_iter(2)[scales.scale_iter(1).index(i) - 1]] <= ramping_limit)\n",
    "\n",
    "milp_gwp_75.cons3 = ConstraintList()\n",
    "for i in scales.scale_iter(1):\n",
    "    if i != (0,0):\n",
    "        milp_gwp_75.cons3.add(expr = milp_gwp_75.P['HO', 'SMRCCS', *i] - milp_gwp_75.P['HO', 'SMRCCS', *scales.scale_iter(2)[scales.scale_iter(1).index(i) - 1]] <= ramping_limit)\n",
    "\n",
    "milp_gwp_75.cons4 = ConstraintList()\n",
    "for i in scales.scale_iter(2):\n",
    "    milp_gwp_75.cons4.add(expr = milp_gwp_75.P['HO', 'SMR', *i] >= 5)"
   ]
  },
  {
   "cell_type": "code",
   "execution_count": null,
   "metadata": {},
   "outputs": [],
   "source": [
    "results_gwp_75 = solve(scenario=scenario, instance=milp_gwp_75,\n",
    "                     solver='gurobi', name=f\"res_gwp_75\", print_solversteps=True, saveformat = '.pkl')"
   ]
  },
  {
   "cell_type": "code",
   "execution_count": null,
   "metadata": {},
   "outputs": [],
   "source": [
    "# data = results_gwp_75.output['P']\n",
    "# df = pd.DataFrame(data,index=[0])\n",
    "# df = df.T\n",
    "# # Export the DataFrame to an Excel file\n",
    "# df.to_excel('C:/Users/marcopdsousa/Desktop/Dataframes/mingwpprod75.xlsx', index=True)"
   ]
  },
  {
   "cell_type": "code",
   "execution_count": null,
   "metadata": {},
   "outputs": [],
   "source": [
    "results_gwp_75.output[\"objective\"]"
   ]
  },
  {
   "cell_type": "code",
   "execution_count": null,
   "metadata": {},
   "outputs": [],
   "source": [
    "results_gwp_75.output[\"P\"]"
   ]
  },
  {
   "cell_type": "code",
   "execution_count": null,
   "metadata": {},
   "outputs": [],
   "source": [
    "results_gwp_75.output['global_warming_potential_location']"
   ]
  },
  {
   "cell_type": "code",
   "execution_count": null,
   "metadata": {},
   "outputs": [],
   "source": [
    "milp_gwp_78 = formulate(scenario=scenario, constraints={Constraints.COST, Constraints.INVENTORY, Constraints.PRODUCTION,\n",
    "                     Constraints.RESOURCE_BALANCE, Constraints.NETWORK, Constraints.DEMAND, Constraints.EMISSION}, objective=Objective.COST, demand_sign = 'eq')\n",
    "\n",
    "from energiapy.model.constraints.emission import constraint_global_warming_potential_network_reduction\n",
    "constraint_global_warming_potential_network_reduction(instance= milp_gwp_78, network_scale_level = 0, gwp_reduction_pct = 78, gwp = results_cost.output['global_warming_potential_network'][0])"
   ]
  },
  {
   "cell_type": "code",
   "execution_count": null,
   "metadata": {},
   "outputs": [],
   "source": [
    "from pyomo.environ import ConstraintList\n",
    "\n",
    "ramping_limit = 3\n",
    "\n",
    "milp_gwp_78.cons1 = ConstraintList()\n",
    "for i in scales.scale_iter(1):\n",
    "    if i != (0,0):\n",
    "        milp_gwp_78.cons1.add(expr = milp_gwp_78.P['HO', 'PEM', *i] - milp_gwp_78.P['HO', 'PEM', *scales.scale_iter(2)[scales.scale_iter(1).index(i) - 1]] <= ramping_limit)\n",
    "\n",
    "milp_gwp_78.cons2 = ConstraintList()\n",
    "for i in scales.scale_iter(1):\n",
    "    if i != (0,0):\n",
    "        milp_gwp_78.cons2.add(expr = milp_gwp_78.P['HO', 'SMR', *i] - milp_gwp_78.P['HO', 'SMR', *scales.scale_iter(2)[scales.scale_iter(1).index(i) - 1]] <= ramping_limit)\n",
    "\n",
    "milp_gwp_78.cons3 = ConstraintList()\n",
    "for i in scales.scale_iter(1):\n",
    "    if i != (0,0):\n",
    "        milp_gwp_78.cons3.add(expr = milp_gwp_78.P['HO', 'SMRCCS', *i] - milp_gwp_78.P['HO', 'SMRCCS', *scales.scale_iter(2)[scales.scale_iter(1).index(i) - 1]] <= ramping_limit)\n",
    "\n",
    "milp_gwp_78.cons4 = ConstraintList()\n",
    "for i in scales.scale_iter(2):\n",
    "    milp_gwp_78.cons4.add(expr = milp_gwp_78.P['HO', 'SMR', *i] >= 5)"
   ]
  },
  {
   "cell_type": "code",
   "execution_count": null,
   "metadata": {},
   "outputs": [],
   "source": [
    "results_gwp_78 = solve(scenario=scenario, instance=milp_gwp_78,\n",
    "                     solver='gurobi', name=f\"res_gwp_78\", print_solversteps=True, saveformat = '.pkl')"
   ]
  },
  {
   "cell_type": "code",
   "execution_count": null,
   "metadata": {},
   "outputs": [],
   "source": [
    "results_gwp_78.output['objective']"
   ]
  },
  {
   "cell_type": "code",
   "execution_count": null,
   "metadata": {},
   "outputs": [],
   "source": [
    "results_gwp_78.output['global_warming_potential_location']"
   ]
  },
  {
   "cell_type": "code",
   "execution_count": null,
   "metadata": {},
   "outputs": [],
   "source": [
    "results_gwp_78.output[\"P\"]"
   ]
  },
  {
   "cell_type": "code",
   "execution_count": null,
   "metadata": {},
   "outputs": [],
   "source": [
    "# data = results_gwp_78.output['P']\n",
    "# df = pd.DataFrame(data,index=[0])\n",
    "# df = df.T\n",
    "# # Export the DataFrame to an Excel file\n",
    "# df.to_excel('C:/Users/marcopdsousa/Desktop/Dataframes/mingwpprod78.xlsx', index=True)"
   ]
  },
  {
   "cell_type": "code",
   "execution_count": null,
   "metadata": {},
   "outputs": [],
   "source": [
    "plot_results.cost(results=results_gwp_78, x=CostX.PROCESS_WISE,\n",
    "                  y=CostY.TOTAL, location='HO', fig_size=(11, 6))"
   ]
  },
  {
   "cell_type": "code",
   "execution_count": null,
   "metadata": {},
   "outputs": [],
   "source": [
    "milp_gwp_79 = formulate(scenario=scenario, constraints={Constraints.COST, Constraints.INVENTORY, Constraints.PRODUCTION,\n",
    "                     Constraints.RESOURCE_BALANCE, Constraints.NETWORK, Constraints.DEMAND, Constraints.EMISSION}, objective=Objective.COST, demand_sign = 'eq')\n",
    "\n",
    "from energiapy.model.constraints.emission import constraint_global_warming_potential_network_reduction\n",
    "constraint_global_warming_potential_network_reduction(instance= milp_gwp_79, network_scale_level = 0, gwp_reduction_pct = 79, gwp = results_cost.output['global_warming_potential_network'][0])"
   ]
  },
  {
   "cell_type": "code",
   "execution_count": null,
   "metadata": {},
   "outputs": [],
   "source": [
    "from pyomo.environ import ConstraintList\n",
    "\n",
    "ramping_limit = 3\n",
    "\n",
    "milp_gwp_79.cons1 = ConstraintList()\n",
    "for i in scales.scale_iter(1):\n",
    "    if i != (0,0):\n",
    "        milp_gwp_79.cons1.add(expr = milp_gwp_79.P['HO', 'PEM', *i] - milp_gwp_79.P['HO', 'PEM', *scales.scale_iter(2)[scales.scale_iter(1).index(i) - 1]] <= ramping_limit)\n",
    "\n",
    "milp_gwp_79.cons2 = ConstraintList()\n",
    "for i in scales.scale_iter(1):\n",
    "    if i != (0,0):\n",
    "        milp_gwp_79.cons2.add(expr = milp_gwp_79.P['HO', 'SMR', *i] - milp_gwp_79.P['HO', 'SMR', *scales.scale_iter(2)[scales.scale_iter(1).index(i) - 1]] <= ramping_limit)\n",
    "\n",
    "milp_gwp_79.cons3 = ConstraintList()\n",
    "for i in scales.scale_iter(1):\n",
    "    if i != (0,0):\n",
    "        milp_gwp_79.cons3.add(expr = milp_gwp_79.P['HO', 'SMRCCS', *i] - milp_gwp_79.P['HO', 'SMRCCS', *scales.scale_iter(2)[scales.scale_iter(1).index(i) - 1]] <= ramping_limit)\n",
    "\n",
    "milp_gwp_79.cons4 = ConstraintList()\n",
    "for i in scales.scale_iter(2):\n",
    "    milp_gwp_79.cons4.add(expr = milp_gwp_79.P['HO', 'SMR', *i] >= 5)"
   ]
  },
  {
   "cell_type": "code",
   "execution_count": null,
   "metadata": {},
   "outputs": [],
   "source": [
    "results_gwp_79 = solve(scenario=scenario, instance=milp_gwp_79,\n",
    "                     solver='gurobi', name=f\"res_gwp_79\", print_solversteps=True, saveformat = '.pkl')"
   ]
  },
  {
   "cell_type": "code",
   "execution_count": null,
   "metadata": {},
   "outputs": [],
   "source": [
    "results_gwp_79.output['objective']"
   ]
  },
  {
   "cell_type": "code",
   "execution_count": null,
   "metadata": {},
   "outputs": [],
   "source": [
    "results_gwp_79.output['global_warming_potential_location']"
   ]
  },
  {
   "cell_type": "code",
   "execution_count": null,
   "metadata": {},
   "outputs": [],
   "source": [
    "results_gwp_79.output['P']"
   ]
  },
  {
   "cell_type": "code",
   "execution_count": null,
   "metadata": {},
   "outputs": [],
   "source": [
    "milp_gwp_85 = formulate(scenario=scenario, constraints={Constraints.COST, Constraints.INVENTORY, Constraints.PRODUCTION,\n",
    "                     Constraints.RESOURCE_BALANCE, Constraints.NETWORK, Constraints.DEMAND, Constraints.EMISSION}, objective=Objective.COST, demand_sign = 'eq')\n",
    "\n",
    "from energiapy.model.constraints.emission import constraint_global_warming_potential_network_reduction\n",
    "constraint_global_warming_potential_network_reduction(instance= milp_gwp_85, network_scale_level = 0, gwp_reduction_pct = 85, gwp = results_cost.output['global_warming_potential_network'][0])"
   ]
  },
  {
   "cell_type": "code",
   "execution_count": null,
   "metadata": {},
   "outputs": [],
   "source": [
    "from pyomo.environ import ConstraintList\n",
    "\n",
    "ramping_limit = 3\n",
    "\n",
    "milp_gwp_85.cons1 = ConstraintList()\n",
    "for i in scales.scale_iter(1):\n",
    "    if i != (0,0):\n",
    "        milp_gwp_85.cons1.add(expr = milp_gwp_85.P['HO', 'PEM', *i] - milp_gwp_85.P['HO', 'PEM', *scales.scale_iter(2)[scales.scale_iter(1).index(i) - 1]] <= ramping_limit)\n",
    "\n",
    "milp_gwp_85.cons2 = ConstraintList()\n",
    "for i in scales.scale_iter(1):\n",
    "    if i != (0,0):\n",
    "        milp_gwp_85.cons2.add(expr = milp_gwp_85.P['HO', 'SMR', *i] - milp_gwp_85.P['HO', 'SMR', *scales.scale_iter(2)[scales.scale_iter(1).index(i) - 1]] <= ramping_limit)\n",
    "\n",
    "milp_gwp_85.cons3 = ConstraintList()\n",
    "for i in scales.scale_iter(1):\n",
    "    if i != (0,0):\n",
    "        milp_gwp_85.cons3.add(expr = milp_gwp_85.P['HO', 'SMRCCS', *i] - milp_gwp_85.P['HO', 'SMRCCS', *scales.scale_iter(2)[scales.scale_iter(1).index(i) - 1]] <= ramping_limit)\n",
    "\n",
    "milp_gwp_85.cons4 = ConstraintList()\n",
    "for i in scales.scale_iter(2):\n",
    "    milp_gwp_85.cons4.add(expr = milp_gwp_85.P['HO', 'SMR', *i] >= 5)"
   ]
  },
  {
   "cell_type": "code",
   "execution_count": null,
   "metadata": {},
   "outputs": [],
   "source": [
    "results_gwp_85 = solve(scenario=scenario, instance=milp_gwp_85,\n",
    "                     solver='gurobi', name=f\"res_gwp_85\", print_solversteps=True, saveformat = '.pkl')"
   ]
  },
  {
   "cell_type": "code",
   "execution_count": null,
   "metadata": {},
   "outputs": [],
   "source": [
    "# data = results_gwp_85.output['P']\n",
    "# df = pd.DataFrame(data,index=[0])\n",
    "# df = df.T\n",
    "# # Export the DataFrame to an Excel file\n",
    "# df.to_excel('C:/Users/marcopdsousa/Desktop/Dataframes/mingwpprod85.xlsx', index=True)"
   ]
  },
  {
   "cell_type": "code",
   "execution_count": null,
   "metadata": {},
   "outputs": [],
   "source": [
    "results_gwp_85.output['objective']"
   ]
  },
  {
   "cell_type": "code",
   "execution_count": null,
   "metadata": {},
   "outputs": [],
   "source": [
    "results_gwp_85.output['global_warming_potential_location']"
   ]
  },
  {
   "cell_type": "code",
   "execution_count": null,
   "metadata": {},
   "outputs": [],
   "source": [
    "results_gwp_85.output['P']"
   ]
  },
  {
   "cell_type": "code",
   "execution_count": null,
   "metadata": {},
   "outputs": [],
   "source": [
    "milp_gwp_80 = formulate(scenario=scenario, constraints={Constraints.COST, Constraints.INVENTORY, Constraints.PRODUCTION,\n",
    "                     Constraints.RESOURCE_BALANCE, Constraints.NETWORK, Constraints.DEMAND, Constraints.EMISSION}, objective=Objective.COST, demand_sign = 'eq')\n",
    "\n",
    "from energiapy.model.constraints.emission import constraint_global_warming_potential_network_reduction\n",
    "constraint_global_warming_potential_network_reduction(instance= milp_gwp_80, network_scale_level = 0, gwp_reduction_pct = 80, gwp = results_cost.output['global_warming_potential_network'][0])"
   ]
  },
  {
   "cell_type": "code",
   "execution_count": null,
   "metadata": {},
   "outputs": [],
   "source": [
    "from pyomo.environ import ConstraintList\n",
    "\n",
    "ramping_limit = 3\n",
    "\n",
    "milp_gwp_80.cons1 = ConstraintList()\n",
    "for i in scales.scale_iter(1):\n",
    "    if i != (0,0):\n",
    "        milp_gwp_80.cons1.add(expr = milp_gwp_80.P['HO', 'PEM', *i] - milp_gwp_80.P['HO', 'PEM', *scales.scale_iter(2)[scales.scale_iter(1).index(i) - 1]] <= ramping_limit)\n",
    "\n",
    "milp_gwp_80.cons2 = ConstraintList()\n",
    "for i in scales.scale_iter(1):\n",
    "    if i != (0,0):\n",
    "        milp_gwp_80.cons2.add(expr = milp_gwp_80.P['HO', 'SMR', *i] - milp_gwp_80.P['HO', 'SMR', *scales.scale_iter(2)[scales.scale_iter(1).index(i) - 1]] <= ramping_limit)\n",
    "\n",
    "milp_gwp_80.cons3 = ConstraintList()\n",
    "for i in scales.scale_iter(1):\n",
    "    if i != (0,0):\n",
    "        milp_gwp_80.cons3.add(expr = milp_gwp_80.P['HO', 'SMRCCS', *i] - milp_gwp_80.P['HO', 'SMRCCS', *scales.scale_iter(2)[scales.scale_iter(1).index(i) - 1]] <= ramping_limit)\n",
    "\n",
    "milp_gwp_80.cons4 = ConstraintList()\n",
    "for i in scales.scale_iter(2):\n",
    "    milp_gwp_80.cons4.add(expr = milp_gwp_80.P['HO', 'SMR', *i] >= 5)"
   ]
  },
  {
   "cell_type": "code",
   "execution_count": null,
   "metadata": {},
   "outputs": [],
   "source": [
    "results_gwp_80 = solve(scenario=scenario, instance=milp_gwp_80,\n",
    "                     solver='gurobi', name=f\"res_gwp_80\", print_solversteps=True, saveformat = '.pkl')"
   ]
  },
  {
   "cell_type": "code",
   "execution_count": null,
   "metadata": {},
   "outputs": [],
   "source": [
    "# data = results_gwp_80.output['P']\n",
    "# df = pd.DataFrame(data,index=[0])\n",
    "# df = df.T\n",
    "# # Export the DataFrame to an Excel file\n",
    "# df.to_excel('C:/Users/marcopdsousa/Desktop/Dataframes/mingwpprod80.xlsx', index=True)"
   ]
  },
  {
   "cell_type": "code",
   "execution_count": null,
   "metadata": {},
   "outputs": [],
   "source": [
    "# data = results_gwp_80.output['global_warming_potential_resource']\n",
    "# df = pd.DataFrame(data,index=[0])\n",
    "# df = df.T\n",
    "# # Export the DataFrame to an Excel file\n",
    "# df.to_excel('C:/Users/marcopdsousa/Desktop/Dataframes/mingwp80resource_emission.xlsx', index=True)"
   ]
  },
  {
   "cell_type": "code",
   "execution_count": null,
   "metadata": {},
   "outputs": [],
   "source": [
    "results_gwp_80.output['objective']"
   ]
  },
  {
   "cell_type": "code",
   "execution_count": null,
   "metadata": {},
   "outputs": [],
   "source": [
    "results_gwp_80.output['global_warming_potential_location']"
   ]
  },
  {
   "cell_type": "code",
   "execution_count": null,
   "metadata": {},
   "outputs": [],
   "source": [
    "milp_gwp_90 = formulate(scenario=scenario, constraints={Constraints.COST, Constraints.INVENTORY, Constraints.PRODUCTION,\n",
    "                     Constraints.RESOURCE_BALANCE, Constraints.NETWORK, Constraints.DEMAND, Constraints.EMISSION}, objective=Objective.COST, demand_sign = 'eq')\n",
    "\n",
    "from energiapy.model.constraints.emission import constraint_global_warming_potential_network_reduction\n",
    "constraint_global_warming_potential_network_reduction(instance= milp_gwp_90, network_scale_level = 0, gwp_reduction_pct = 90, gwp = results_cost.output['global_warming_potential_network'][0])"
   ]
  },
  {
   "cell_type": "code",
   "execution_count": null,
   "metadata": {},
   "outputs": [],
   "source": [
    "from pyomo.environ import ConstraintList\n",
    "\n",
    "ramping_limit = 3\n",
    "\n",
    "milp_gwp_90.cons1 = ConstraintList()\n",
    "for i in scales.scale_iter(1):\n",
    "    if i != (0,0):\n",
    "        milp_gwp_90.cons1.add(expr = milp_gwp_90.P['HO', 'PEM', *i] - milp_gwp_90.P['HO', 'PEM', *scales.scale_iter(2)[scales.scale_iter(1).index(i) - 1]] <= ramping_limit)\n",
    "\n",
    "milp_gwp_90.cons2 = ConstraintList()\n",
    "for i in scales.scale_iter(1):\n",
    "    if i != (0,0):\n",
    "        milp_gwp_90.cons2.add(expr = milp_gwp_90.P['HO', 'SMR', *i] - milp_gwp_90.P['HO', 'SMR', *scales.scale_iter(2)[scales.scale_iter(1).index(i) - 1]] <= ramping_limit)\n",
    "\n",
    "milp_gwp_90.cons3 = ConstraintList()\n",
    "for i in scales.scale_iter(1):\n",
    "    if i != (0,0):\n",
    "        milp_gwp_90.cons3.add(expr = milp_gwp_90.P['HO', 'SMRCCS', *i] - milp_gwp_90.P['HO', 'SMRCCS', *scales.scale_iter(2)[scales.scale_iter(1).index(i) - 1]] <= ramping_limit)\n",
    "\n",
    "milp_gwp_90.cons4 = ConstraintList()\n",
    "for i in scales.scale_iter(2):\n",
    "    milp_gwp_90.cons4.add(expr = milp_gwp_90.P['HO', 'SMR', *i] >= 5)"
   ]
  },
  {
   "cell_type": "code",
   "execution_count": null,
   "metadata": {},
   "outputs": [],
   "source": [
    "results_gwp_90 = solve(scenario=scenario, instance=milp_gwp_90,\n",
    "                     solver='gurobi', name=f\"res_gwp_90\", print_solversteps=True, saveformat = '.pkl')"
   ]
  },
  {
   "cell_type": "code",
   "execution_count": null,
   "metadata": {},
   "outputs": [],
   "source": [
    "# data = results_gwp_90.output['P']\n",
    "# df = pd.DataFrame(data,index=[0])\n",
    "# df = df.T\n",
    "# # Export the DataFrame to an Excel file\n",
    "# df.to_excel('C:/Users/marcopdsousa/Desktop/Dataframes/mingwpprod90.xlsx', index=True)"
   ]
  },
  {
   "cell_type": "code",
   "execution_count": null,
   "metadata": {},
   "outputs": [],
   "source": [
    "# data = results_gwp_90.output['global_warming_potential_resource']\n",
    "# df = pd.DataFrame(data,index=[0])\n",
    "# df = df.T\n",
    "# # Export the DataFrame to an Excel file\n",
    "# df.to_excel('C:/Users/marcopdsousa/Desktop/Dataframes/mingwp90resource_emission.xlsx', index=True)"
   ]
  },
  {
   "cell_type": "code",
   "execution_count": null,
   "metadata": {},
   "outputs": [],
   "source": [
    "results_gwp_90.output['objective']"
   ]
  },
  {
   "cell_type": "code",
   "execution_count": null,
   "metadata": {},
   "outputs": [],
   "source": [
    "results_gwp_90.output['global_warming_potential_location']"
   ]
  },
  {
   "cell_type": "code",
   "execution_count": null,
   "metadata": {},
   "outputs": [],
   "source": [
    "results_gwp_90.output['P']"
   ]
  },
  {
   "cell_type": "code",
   "execution_count": null,
   "metadata": {},
   "outputs": [],
   "source": [
    "milp_gwp_92 = formulate(scenario=scenario, constraints={Constraints.COST, Constraints.INVENTORY, Constraints.PRODUCTION,\n",
    "                     Constraints.RESOURCE_BALANCE, Constraints.NETWORK, Constraints.DEMAND, Constraints.EMISSION}, objective=Objective.COST, demand_sign = 'eq')\n",
    "\n",
    "from energiapy.model.constraints.emission import constraint_global_warming_potential_network_reduction\n",
    "constraint_global_warming_potential_network_reduction(instance= milp_gwp_92, network_scale_level = 0, gwp_reduction_pct = 92, gwp = results_cost.output['global_warming_potential_network'][0])"
   ]
  },
  {
   "cell_type": "code",
   "execution_count": null,
   "metadata": {},
   "outputs": [],
   "source": [
    "from pyomo.environ import ConstraintList\n",
    "\n",
    "ramping_limit = 3\n",
    "\n",
    "milp_gwp_92.cons1 = ConstraintList()\n",
    "for i in scales.scale_iter(1):\n",
    "    if i != (0,0):\n",
    "        milp_gwp_92.cons1.add(expr = milp_gwp_92.P['HO', 'PEM', *i] - milp_gwp_92.P['HO', 'PEM', *scales.scale_iter(2)[scales.scale_iter(1).index(i) - 1]] <= ramping_limit)\n",
    "\n",
    "milp_gwp_92.cons2 = ConstraintList()\n",
    "for i in scales.scale_iter(1):\n",
    "    if i != (0,0):\n",
    "        milp_gwp_92.cons2.add(expr = milp_gwp_92.P['HO', 'SMR', *i] - milp_gwp_92.P['HO', 'SMR', *scales.scale_iter(2)[scales.scale_iter(1).index(i) - 1]] <= ramping_limit)\n",
    "\n",
    "milp_gwp_92.cons3 = ConstraintList()\n",
    "for i in scales.scale_iter(1):\n",
    "    if i != (0,0):\n",
    "        milp_gwp_92.cons3.add(expr = milp_gwp_92.P['HO', 'SMRCCS', *i] - milp_gwp_92.P['HO', 'SMRCCS', *scales.scale_iter(2)[scales.scale_iter(1).index(i) - 1]] <= ramping_limit)\n",
    "\n",
    "milp_gwp_92.cons4 = ConstraintList()\n",
    "for i in scales.scale_iter(2):\n",
    "    milp_gwp_92.cons4.add(expr = milp_gwp_92.P['HO', 'SMR', *i] >= 5)"
   ]
  },
  {
   "cell_type": "code",
   "execution_count": null,
   "metadata": {},
   "outputs": [],
   "source": [
    "results_gwp_92 = solve(scenario=scenario, instance=milp_gwp_92,\n",
    "                     solver='gurobi', name=f\"res_gwp_92\", print_solversteps=True, saveformat = '.pkl')"
   ]
  },
  {
   "cell_type": "code",
   "execution_count": null,
   "metadata": {},
   "outputs": [],
   "source": [
    "results_gwp_92.output['objective']"
   ]
  },
  {
   "cell_type": "code",
   "execution_count": null,
   "metadata": {},
   "outputs": [],
   "source": [
    "results_gwp_92.output['global_warming_potential_location']"
   ]
  },
  {
   "cell_type": "code",
   "execution_count": null,
   "metadata": {},
   "outputs": [],
   "source": [
    "results_gwp_92.output['P']"
   ]
  },
  {
   "cell_type": "code",
   "execution_count": null,
   "metadata": {},
   "outputs": [],
   "source": [
    "# data = results_gwp_92.output['P']\n",
    "# df = pd.DataFrame(data,index=[0])\n",
    "# df = df.T\n",
    "# # Export the DataFrame to an Excel file\n",
    "# df.to_excel('C:/Users/marcopdsousa/Desktop/Dataframes/mingwpprod92.xlsx', index=True)"
   ]
  }
 ],
 "metadata": {
  "kernelspec": {
   "display_name": "Python 3.10.5 ('ki': venv)",
   "language": "python",
   "name": "python3"
  },
  "language_info": {
   "codemirror_mode": {
    "name": "ipython",
    "version": 3
   },
   "file_extension": ".py",
   "mimetype": "text/x-python",
   "name": "python",
   "nbconvert_exporter": "python",
   "pygments_lexer": "ipython3",
   "version": "3.11.9"
  },
  "orig_nbformat": 4,
  "vscode": {
   "interpreter": {
    "hash": "a4a97498e3c1bfef05f70a75d4fcafcb7b5c9c4ed86429a4e7bee46eaa890f24"
   }
  }
 },
 "nbformat": 4,
 "nbformat_minor": 2
}
