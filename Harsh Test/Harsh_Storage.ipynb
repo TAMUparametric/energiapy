{
 "cells": [
  {
   "cell_type": "code",
   "execution_count": 2,
   "metadata": {},
   "outputs": [],
   "source": [
    "import sys\n",
    "sys.path.append('../src')"
   ]
  },
  {
   "cell_type": "code",
   "execution_count": 3,
   "metadata": {},
   "outputs": [],
   "source": [
    "import pandas as pd\n",
    "import numpy\n",
    "from energiapy.components.temporal_scale import TemporalScale\n",
    "from energiapy.components.resource import Resource, VaryingResource, Scope\n",
    "from energiapy.components.process import Process, VaryingProcess\n",
    "from energiapy.components.material import Material\n",
    "from energiapy.components.location import Location\n",
    "from energiapy.components.network import Network\n",
    "from energiapy.components.scenario import Scenario\n",
    "from energiapy.components.transport import Transport\n",
    "from energiapy.model.formulate import formulate, Constraints, Objective\n",
    "from energiapy.utils.nsrdb_utils import fetch_nsrdb_data\n",
    "from energiapy.plot import plot_results, plot_scenario\n",
    "from energiapy.plot.plot_results import CostY, CostX\n",
    "from energiapy.model.solve import solve\n",
    "from itertools import product\n",
    "from energiapy.components.result import Result\n",
    "from itertools import product\n",
    "from matplotlib import rc\n",
    "import matplotlib.pyplot as plt\n",
    "from energiapy.model.solve import solve\n",
    "from energiapy.plot.plot_results import CostY, CostX\n",
    "from energiapy.components.location import Location\n",
    "from energiapy.plot import plot_results, plot_scenario\n",
    "from energiapy.utils.nsrdb_utils import fetch_nsrdb_data\n",
    "from energiapy.model.formulate import formulate, Constraints, Objective\n",
    "from energiapy.model.bounds import CapacityBounds\n",
    "from energiapy.utils.data_utils import get_data, make_henry_price_df, remove_outliers, load_results\n",
    "from energiapy.conversion.photovoltaic import solar_power_output\n",
    "from energiapy.conversion.windmill import wind_power_output\n",
    "from energiapy.model.constraints.integer_cuts import constraint_block_integer_cut, constraint_block_integer_cut_min\n",
    "from scipy import stats"
   ]
  },
  {
   "cell_type": "code",
   "execution_count": 4,
   "metadata": {},
   "outputs": [],
   "source": [
    "scales = TemporalScale(discretization_list=[1, 24])"
   ]
  },
  {
   "cell_type": "code",
   "execution_count": 5,
   "metadata": {},
   "outputs": [],
   "source": [
    "bigM = 10**7\n",
    "smallM = 0.001"
   ]
  },
  {
   "cell_type": "code",
   "execution_count": 6,
   "metadata": {},
   "outputs": [],
   "source": [
    "wind_pred = pd.read_csv('WindPred.csv')\n",
    "demand_pred = pd.read_csv('DemandPred.csv')\n",
    "demand_pred = demand_pred.set_index('Unnamed: 0')\n",
    "wind_pred = wind_pred.set_index('Unnamed: 0')"
   ]
  },
  {
   "cell_type": "code",
   "execution_count": 7,
   "metadata": {},
   "outputs": [],
   "source": [
    "Wind = Resource(name='Wind', cons_max=bigM, basis='MW', label='Wind Power')\n",
    "\n",
    "Power = Resource(name='Power', basis='MW',\n",
    "                 label='Power generated', demand=True, varying=[VaryingResource.DETERMINISTIC_DEMAND])\n",
    "\n",
    "H2O = Resource(name='H2O', cons_max=bigM, basis='tons', label='Water')\n",
    "\n",
    "Uranium = Resource(name='Uranium', cons_max=1000,\n",
    "                   price=42.70/(250/2), basis='kg', label='Uranium')\n",
    "\n"
   ]
  },
  {
   "cell_type": "code",
   "execution_count": 8,
   "metadata": {},
   "outputs": [],
   "source": [
    "LiI = Process(name='LiI', storage=Power, vopex=1302, capex=35164, fopex=0, prod_min=0,  prod_max=200,\n",
    "              storage_loss=0.11,  label='Lithium-ion battery', basis='MW', store_max=bigM)\n",
    "\n",
    "WF = Process(name='WF', conversion={Wind: -1/0.85, Power: 1}, vopex=990, capex=146200, fopex=0, prod_min=0,\n",
    "             prod_max=70, label='Wind mill array', basis='MW', varying=[VaryingProcess.DETERMINISTIC_CAPACITY])\n",
    "\n",
    "ASMR = Process(name='ASMR', conversion={Uranium: -4.17*10**(-5), H2O: -3.364, Power: 1},\n",
    "               capex=7988951, fopex=0.04*0.730, vopex=7988, prod_min=0, prod_max=bigM, label='Small modular reactors (SMRs)', block='power_gen')"
   ]
  },
  {
   "cell_type": "code",
   "execution_count": 9,
   "metadata": {},
   "outputs": [],
   "source": [
    "process_set = {LiI, WF, ASMR}"
   ]
  },
  {
   "cell_type": "code",
   "execution_count": 10,
   "metadata": {},
   "outputs": [],
   "source": [
    "houston = Location(name='HO', processes=process_set, capacity_factor={WF: wind_pred}, demand_factor={Power: demand_pred},\n",
    "                   scales=scales, label='Houston', expenditure_scale_level=0, demand_scale_level=1, price_scale_level=1, capacity_scale_level=1, gwp_scale_level = 1)"
   ]
  },
  {
   "cell_type": "code",
   "execution_count": 11,
   "metadata": {},
   "outputs": [],
   "source": [
    "\n",
    "scenario = Scenario(name='scenario_full', network=houston, scales=scales,  expenditure_scale_level=0, demand_scale_level=1, \n",
    "                    purchase_scale_level = 1, scheduling_scale_level=1, network_scale_level=0, capacity_scale_level=1, gwp_scale_level = 1,\n",
    "                    label='full_case', demand={houston: {Power:60}})"
   ]
  },
  {
   "cell_type": "code",
   "execution_count": 12,
   "metadata": {},
   "outputs": [
    {
     "name": "stdout",
     "output_type": "stream",
     "text": [
      "WARNING: Element d already exists in Set material_modes; no action taken\n",
      "WARNING: Element d already exists in Set material_modes; no action taken\n",
      "WARNING: Element d already exists in Set material_modes; no action taken\n",
      "constraint process capex\n",
      "constraint process fopex\n",
      "constraint process vopex\n",
      "constraint process incidental\n",
      "constraint storage cost\n",
      "constraint storage cost location\n",
      "constraint storage cost network\n",
      "constraint production mode\n",
      "constraint inventory balance\n",
      "constraint inventory network\n",
      "constraint demand\n",
      "objective cost\n"
     ]
    }
   ],
   "source": [
    "milp_cost = formulate(scenario=scenario, constraints={Constraints.COST, Constraints.INVENTORY, Constraints.PRODUCTION,\n",
    "                      Constraints.RESOURCE_BALANCE, Constraints.DEMAND}, objective=Objective.COST, inventory_zero={houston: {(LiI, Power): 10}})\n"
   ]
  },
  {
   "cell_type": "code",
   "execution_count": 13,
   "metadata": {},
   "outputs": [
    {
     "name": "stdout",
     "output_type": "stream",
     "text": [
      "Set parameter QCPDual to value 1\n",
      "Gurobi Optimizer version 11.0.1 build v11.0.1rc0 (win64 - Windows 11.0 (22631.2))\n",
      "\n",
      "CPU model: 13th Gen Intel(R) Core(TM) i7-13700, instruction set [SSE2|AVX|AVX2]\n",
      "Thread count: 16 physical cores, 24 logical processors, using up to 24 threads\n",
      "\n",
      "Optimize a model with 564 rows, 566 columns and 1371 nonzeros\n",
      "Model fingerprint: 0xccaa3880\n",
      "Coefficient statistics:\n",
      "  Matrix range     [4e-05, 8e+06]\n",
      "  Objective range  [1e+00, 1e+00]\n",
      "  Bounds range     [0e+00, 0e+00]\n",
      "  RHS range        [1e+01, 1e+07]\n",
      "Presolve removed 444 rows and 443 columns\n",
      "Presolve time: 0.00s\n",
      "Presolved: 120 rows, 123 columns, 335 nonzeros\n",
      "\n",
      "Iteration    Objective       Primal Inf.    Dual Inf.      Time\n",
      "       0    0.0000000e+00   1.391037e+02   0.000000e+00      0s\n",
      "     109    1.0784845e+07   0.000000e+00   0.000000e+00      0s\n",
      "\n",
      "Solved in 109 iterations and 0.01 seconds (0.00 work units)\n",
      "Optimal objective  1.078484524e+07\n"
     ]
    }
   ],
   "source": [
    "\n",
    "results = solve(scenario=scenario, instance=milp_cost,\n",
    "                solver='gurobi', saveformat='.pkl', name='det_1')\n"
   ]
  },
  {
   "cell_type": "code",
   "execution_count": 14,
   "metadata": {},
   "outputs": [
    {
     "data": {
      "text/plain": [
       "{('HO', 'ASMR', 0): 0.0,\n",
       " ('HO', 'LiI', 0): 22.03648351515046,\n",
       " ('HO', 'LiI_discharge', 0): 200.0,\n",
       " ('HO', 'WF', 0): 59.63087763097866}"
      ]
     },
     "execution_count": 14,
     "metadata": {},
     "output_type": "execute_result"
    }
   ],
   "source": [
    "results.output['Cap_P']"
   ]
  },
  {
   "cell_type": "code",
   "execution_count": 15,
   "metadata": {},
   "outputs": [
    {
     "data": {
      "text/plain": [
       "{('HO', 'ASMR', 0, 0): 0.0,\n",
       " ('HO', 'ASMR', 0, 1): 0.0,\n",
       " ('HO', 'ASMR', 0, 2): 0.0,\n",
       " ('HO', 'ASMR', 0, 3): 0.0,\n",
       " ('HO', 'ASMR', 0, 4): 0.0,\n",
       " ('HO', 'ASMR', 0, 5): 0.0,\n",
       " ('HO', 'ASMR', 0, 6): 0.0,\n",
       " ('HO', 'ASMR', 0, 7): 0.0,\n",
       " ('HO', 'ASMR', 0, 8): 0.0,\n",
       " ('HO', 'ASMR', 0, 9): 0.0,\n",
       " ('HO', 'ASMR', 0, 10): 0.0,\n",
       " ('HO', 'ASMR', 0, 11): 0.0,\n",
       " ('HO', 'ASMR', 0, 12): 0.0,\n",
       " ('HO', 'ASMR', 0, 13): 0.0,\n",
       " ('HO', 'ASMR', 0, 14): 0.0,\n",
       " ('HO', 'ASMR', 0, 15): 0.0,\n",
       " ('HO', 'ASMR', 0, 16): 0.0,\n",
       " ('HO', 'ASMR', 0, 17): 0.0,\n",
       " ('HO', 'ASMR', 0, 18): 0.0,\n",
       " ('HO', 'ASMR', 0, 19): 0.0,\n",
       " ('HO', 'ASMR', 0, 20): 0.0,\n",
       " ('HO', 'ASMR', 0, 21): 0.0,\n",
       " ('HO', 'ASMR', 0, 22): 0.0,\n",
       " ('HO', 'ASMR', 0, 23): 0.0,\n",
       " ('HO', 'LiI', 0, 0): 22.036483515150465,\n",
       " ('HO', 'LiI', 0, 1): 22.03648351515046,\n",
       " ('HO', 'LiI', 0, 2): 22.03648351515046,\n",
       " ('HO', 'LiI', 0, 3): 22.03648351515046,\n",
       " ('HO', 'LiI', 0, 4): 22.03648351515046,\n",
       " ('HO', 'LiI', 0, 5): 16.841863502923943,\n",
       " ('HO', 'LiI', 0, 6): 11.443521175815988,\n",
       " ('HO', 'LiI', 0, 7): 6.871240604463026,\n",
       " ('HO', 'LiI', 0, 8): 2.7435027451297174,\n",
       " ('HO', 'LiI', 0, 9): 0.0,\n",
       " ('HO', 'LiI', 0, 10): 0.0,\n",
       " ('HO', 'LiI', 0, 11): 0.0,\n",
       " ('HO', 'LiI', 0, 12): 0.0,\n",
       " ('HO', 'LiI', 0, 13): 0.0,\n",
       " ('HO', 'LiI', 0, 14): 0.0,\n",
       " ('HO', 'LiI', 0, 15): 0.0,\n",
       " ('HO', 'LiI', 0, 16): 0.0,\n",
       " ('HO', 'LiI', 0, 17): 0.0,\n",
       " ('HO', 'LiI', 0, 18): 0.0,\n",
       " ('HO', 'LiI', 0, 19): 0.0,\n",
       " ('HO', 'LiI', 0, 20): 0.0,\n",
       " ('HO', 'LiI', 0, 21): 0.0,\n",
       " ('HO', 'LiI', 0, 22): 0.0,\n",
       " ('HO', 'LiI', 0, 23): 0.0,\n",
       " ('HO', 'LiI_discharge', 0, 0): 0.0,\n",
       " ('HO', 'LiI_discharge', 0, 1): 0.0,\n",
       " ('HO', 'LiI_discharge', 0, 2): 0.0,\n",
       " ('HO', 'LiI_discharge', 0, 3): 0.0,\n",
       " ('HO', 'LiI_discharge', 0, 4): 0.0,\n",
       " ('HO', 'LiI_discharge', 0, 5): 0.0,\n",
       " ('HO', 'LiI_discharge', 0, 6): 0.0,\n",
       " ('HO', 'LiI_discharge', 0, 7): 0.0,\n",
       " ('HO', 'LiI_discharge', 0, 8): 0.0,\n",
       " ('HO', 'LiI_discharge', 0, 9): 2.440155303403186,\n",
       " ('HO', 'LiI_discharge', 0, 10): 8.961549792694273,\n",
       " ('HO', 'LiI_discharge', 0, 11): 14.179657174078018,\n",
       " ('HO', 'LiI_discharge', 0, 12): 15.744629539125961,\n",
       " ('HO', 'LiI_discharge', 0, 13): 14.178729610816866,\n",
       " ('HO', 'LiI_discharge', 0, 14): 10.92640654025766,\n",
       " ('HO', 'LiI_discharge', 0, 15): 7.783487802392785,\n",
       " ('HO', 'LiI_discharge', 0, 16): 5.9042103847244025,\n",
       " ('HO', 'LiI_discharge', 0, 17): 8.136293752456409,\n",
       " ('HO', 'LiI_discharge', 0, 18): 10.507971683594718,\n",
       " ('HO', 'LiI_discharge', 0, 19): 10.35664925311583,\n",
       " ('HO', 'LiI_discharge', 0, 20): 10.256632362516594,\n",
       " ('HO', 'LiI_discharge', 0, 21): 12.021514298760179,\n",
       " ('HO', 'LiI_discharge', 0, 22): 13.924070029261866,\n",
       " ('HO', 'LiI_discharge', 0, 23): 12.760588076885833,\n",
       " ('HO', 'WF', 0, 0): 51.95177655760943,\n",
       " ('HO', 'WF', 0, 1): 50.96000340215109,\n",
       " ('HO', 'WF', 0, 2): 50.54953511321554,\n",
       " ('HO', 'WF', 0, 3): 50.96161409735646,\n",
       " ('HO', 'WF', 0, 4): 52.31873124149216,\n",
       " ('HO', 'WF', 0, 5): 49.915357325517576,\n",
       " ('HO', 'WF', 0, 6): 48.271396515102666,\n",
       " ('HO', 'WF', 0, 7): 47.076364176242315,\n",
       " ('HO', 'WF', 0, 8): 46.040526057400236,\n",
       " ('HO', 'WF', 0, 9): 44.17626111204117,\n",
       " ('HO', 'WF', 0, 10): 41.08675586672115,\n",
       " ('HO', 'WF', 0, 11): 38.34838009598347,\n",
       " ('HO', 'WF', 0, 12): 38.2206777236065,\n",
       " ('HO', 'WF', 0, 13): 40.86672932886688,\n",
       " ('HO', 'WF', 0, 14): 44.58683491901006,\n",
       " ('HO', 'WF', 0, 15): 47.64111232252075,\n",
       " ('HO', 'WF', 0, 16): 50.01726630162615,\n",
       " ('HO', 'WF', 0, 17): 50.59894787038752,\n",
       " ('HO', 'WF', 0, 18): 50.6479052016007,\n",
       " ('HO', 'WF', 0, 19): 49.78805592671488,\n",
       " ('HO', 'WF', 0, 20): 47.38887681120965,\n",
       " ('HO', 'WF', 0, 21): 43.3054544631352,\n",
       " ('HO', 'WF', 0, 22): 38.74499693815542,\n",
       " ('HO', 'WF', 0, 23): 36.755180997865985}"
      ]
     },
     "execution_count": 15,
     "metadata": {},
     "output_type": "execute_result"
    }
   ],
   "source": [
    "results.output['P']"
   ]
  }
 ],
 "metadata": {
  "kernelspec": {
   "display_name": "NRG",
   "language": "python",
   "name": "python3"
  },
  "language_info": {
   "codemirror_mode": {
    "name": "ipython",
    "version": 3
   },
   "file_extension": ".py",
   "mimetype": "text/x-python",
   "name": "python",
   "nbconvert_exporter": "python",
   "pygments_lexer": "ipython3",
   "version": "3.11.8"
  }
 },
 "nbformat": 4,
 "nbformat_minor": 2
}
