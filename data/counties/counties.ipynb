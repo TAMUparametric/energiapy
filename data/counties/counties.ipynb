{
 "cells": [
  {
   "cell_type": "code",
   "execution_count": 7,
   "metadata": {},
   "outputs": [],
   "source": [
    "import sys\n",
    "sys.path.append('../../../src')\n",
    "import pandas"
   ]
  },
  {
   "cell_type": "code",
   "execution_count": 8,
   "metadata": {},
   "outputs": [],
   "source": [
    "from energiapy.utils.nsrdb_utils import fetch_nsrdb_data"
   ]
  },
  {
   "cell_type": "code",
   "execution_count": 10,
   "metadata": {},
   "outputs": [],
   "source": [
    "county_df = pandas.read_csv('Texas_Counties_Centroid_Map.csv')"
   ]
  },
  {
   "cell_type": "code",
   "execution_count": 11,
   "metadata": {},
   "outputs": [
    {
     "data": {
      "text/html": [
       "<div>\n",
       "<style scoped>\n",
       "    .dataframe tbody tr th:only-of-type {\n",
       "        vertical-align: middle;\n",
       "    }\n",
       "\n",
       "    .dataframe tbody tr th {\n",
       "        vertical-align: top;\n",
       "    }\n",
       "\n",
       "    .dataframe thead th {\n",
       "        text-align: right;\n",
       "    }\n",
       "</style>\n",
       "<table border=\"1\" class=\"dataframe\">\n",
       "  <thead>\n",
       "    <tr style=\"text-align: right;\">\n",
       "      <th></th>\n",
       "      <th>X (Lat)</th>\n",
       "      <th>Y (Long)</th>\n",
       "      <th>CNTY_NM</th>\n",
       "      <th>CNTY_NBR</th>\n",
       "      <th>FIPS</th>\n",
       "      <th>Shape_Leng</th>\n",
       "      <th>Shape_Area</th>\n",
       "      <th>County Centroid Location</th>\n",
       "    </tr>\n",
       "  </thead>\n",
       "  <tbody>\n",
       "    <tr>\n",
       "      <th>0</th>\n",
       "      <td>33.974085</td>\n",
       "      <td>-99.778711</td>\n",
       "      <td>Foard</td>\n",
       "      <td>79</td>\n",
       "      <td>48155</td>\n",
       "      <td>2.302711</td>\n",
       "      <td>0.177999</td>\n",
       "      <td>POINT (-99.77871109 33.97408519)</td>\n",
       "    </tr>\n",
       "    <tr>\n",
       "      <th>1</th>\n",
       "      <td>30.266361</td>\n",
       "      <td>-98.399741</td>\n",
       "      <td>Blanco</td>\n",
       "      <td>16</td>\n",
       "      <td>48031</td>\n",
       "      <td>1.683597</td>\n",
       "      <td>0.173306</td>\n",
       "      <td>POINT (-98.39974086 30.26636128)</td>\n",
       "    </tr>\n",
       "    <tr>\n",
       "      <th>2</th>\n",
       "      <td>33.607504</td>\n",
       "      <td>-102.343092</td>\n",
       "      <td>Hockley</td>\n",
       "      <td>111</td>\n",
       "      <td>48219</td>\n",
       "      <td>1.922124</td>\n",
       "      <td>0.228718</td>\n",
       "      <td>POINT (-102.3430919 33.60750375)</td>\n",
       "    </tr>\n",
       "    <tr>\n",
       "      <th>3</th>\n",
       "      <td>30.705666</td>\n",
       "      <td>-98.683874</td>\n",
       "      <td>Llano</td>\n",
       "      <td>150</td>\n",
       "      <td>48299</td>\n",
       "      <td>2.323276</td>\n",
       "      <td>0.235689</td>\n",
       "      <td>POINT (-98.68387398 30.70566579)</td>\n",
       "    </tr>\n",
       "    <tr>\n",
       "      <th>4</th>\n",
       "      <td>34.530650</td>\n",
       "      <td>-101.734951</td>\n",
       "      <td>Swisher</td>\n",
       "      <td>219</td>\n",
       "      <td>48437</td>\n",
       "      <td>1.924577</td>\n",
       "      <td>0.229376</td>\n",
       "      <td>POINT (-101.734951 34.53064989)</td>\n",
       "    </tr>\n",
       "    <tr>\n",
       "      <th>...</th>\n",
       "      <td>...</td>\n",
       "      <td>...</td>\n",
       "      <td>...</td>\n",
       "      <td>...</td>\n",
       "      <td>...</td>\n",
       "      <td>...</td>\n",
       "      <td>...</td>\n",
       "      <td>...</td>\n",
       "    </tr>\n",
       "    <tr>\n",
       "      <th>249</th>\n",
       "      <td>32.301382</td>\n",
       "      <td>-99.890039</td>\n",
       "      <td>Taylor</td>\n",
       "      <td>221</td>\n",
       "      <td>48441</td>\n",
       "      <td>1.920012</td>\n",
       "      <td>0.227959</td>\n",
       "      <td>POINT (-99.89003941 32.30138229)</td>\n",
       "    </tr>\n",
       "    <tr>\n",
       "      <th>250</th>\n",
       "      <td>27.000891</td>\n",
       "      <td>-99.168601</td>\n",
       "      <td>Zapata</td>\n",
       "      <td>253</td>\n",
       "      <td>48505</td>\n",
       "      <td>2.246982</td>\n",
       "      <td>0.249215</td>\n",
       "      <td>POINT (-99.16860134 27.00089072)</td>\n",
       "    </tr>\n",
       "    <tr>\n",
       "      <th>251</th>\n",
       "      <td>28.009222</td>\n",
       "      <td>-97.518599</td>\n",
       "      <td>San Patricio</td>\n",
       "      <td>205</td>\n",
       "      <td>48409</td>\n",
       "      <td>3.462106</td>\n",
       "      <td>0.167654</td>\n",
       "      <td>POINT (-97.51859857 28.00922186)</td>\n",
       "    </tr>\n",
       "    <tr>\n",
       "      <th>252</th>\n",
       "      <td>30.543607</td>\n",
       "      <td>-95.985573</td>\n",
       "      <td>Grimes</td>\n",
       "      <td>94</td>\n",
       "      <td>48185</td>\n",
       "      <td>2.427391</td>\n",
       "      <td>0.195299</td>\n",
       "      <td>POINT (-95.98557334 30.54360689)</td>\n",
       "    </tr>\n",
       "    <tr>\n",
       "      <th>253</th>\n",
       "      <td>34.068612</td>\n",
       "      <td>-102.351709</td>\n",
       "      <td>Lamb</td>\n",
       "      <td>140</td>\n",
       "      <td>48279</td>\n",
       "      <td>2.031175</td>\n",
       "      <td>0.257465</td>\n",
       "      <td>POINT (-102.3517095 34.06861242)</td>\n",
       "    </tr>\n",
       "  </tbody>\n",
       "</table>\n",
       "<p>254 rows × 8 columns</p>\n",
       "</div>"
      ],
      "text/plain": [
       "       X (Lat)    Y (Long)  ... Shape_Area          County Centroid Location\n",
       "0    33.974085  -99.778711  ...   0.177999  POINT (-99.77871109 33.97408519)\n",
       "1    30.266361  -98.399741  ...   0.173306  POINT (-98.39974086 30.26636128)\n",
       "2    33.607504 -102.343092  ...   0.228718  POINT (-102.3430919 33.60750375)\n",
       "3    30.705666  -98.683874  ...   0.235689  POINT (-98.68387398 30.70566579)\n",
       "4    34.530650 -101.734951  ...   0.229376   POINT (-101.734951 34.53064989)\n",
       "..         ...         ...  ...        ...                               ...\n",
       "249  32.301382  -99.890039  ...   0.227959  POINT (-99.89003941 32.30138229)\n",
       "250  27.000891  -99.168601  ...   0.249215  POINT (-99.16860134 27.00089072)\n",
       "251  28.009222  -97.518599  ...   0.167654  POINT (-97.51859857 28.00922186)\n",
       "252  30.543607  -95.985573  ...   0.195299  POINT (-95.98557334 30.54360689)\n",
       "253  34.068612 -102.351709  ...   0.257465  POINT (-102.3517095 34.06861242)\n",
       "\n",
       "[254 rows x 8 columns]"
      ]
     },
     "execution_count": 11,
     "metadata": {},
     "output_type": "execute_result"
    }
   ],
   "source": [
    "county_df"
   ]
  },
  {
   "cell_type": "code",
   "execution_count": 12,
   "metadata": {},
   "outputs": [],
   "source": [
    "county_list = county_df['CNTY_NM']"
   ]
  },
  {
   "cell_type": "code",
   "execution_count": 13,
   "metadata": {},
   "outputs": [
    {
     "name": "stdout",
     "output_type": "stream",
     "text": [
      "Help on function fetch_nsrdb_data in module energiapy.utils.nsrdb_utils:\n",
      "\n",
      "fetch_nsrdb_data(attrs: List[str], year: int, lat_lon: Tuple[float] = None, state: str = '', county: str = '', resolution: str = '', get: str = 'max-population', save: str = None) -> Union[pandas.core.frame.DataFrame, tuple]\n",
      "    fetches nsrdb data from nearest coordinates (latitude, longitude)\n",
      "    or from county in a state matching a particular 'get' metric\n",
      "    \n",
      "    Args:\n",
      "        attrs (List[str]): attributes to fetch ['air_temperature', 'clearsky_dhi', 'clearsky_dni', 'clearsky_ghi', 'cloud_type', 'coordinates', 'dew_point', 'dhi', 'dni', 'fill_flag', 'ghi', 'meta', 'relative_humidity', 'solar_zenith_angle', 'surface_albedo', 'surface_pressure', 'time_index', 'total_precipitable_water', 'wind_direction', 'wind_speed']\n",
      "        year (int): year of choice, e.g. 2019\n",
      "        lat_lon (Tuple[float], optional): (latitude, longitude) to fetch closest data point. Defaults to None.\n",
      "        state (str, optional): capitalized state name, e.g. 'Texas' . Defaults to ''.\n",
      "        county (str, optional): capitalized county name, e.g. 'Brazos' . Defaults to ''.\n",
      "        resolution (str, optional): choose from 'halfhourly', 'hourly', 'daily'. Defaults to ''.\n",
      "        get (str, optional): Defaults to 'max-population'. From within county choose the data point that matches one of the following. 'max-population', 'max-elevation', 'max-landcover' 'min-population', 'min-elevation', 'min-landcover'\n",
      "    \n",
      "    Returns:\n",
      "        pandas.DataFrame, tuple: Dataframe with output data, (latitude, longitude)\n",
      "\n"
     ]
    }
   ],
   "source": [
    "help(fetch_nsrdb_data)"
   ]
  },
  {
   "cell_type": "code",
   "execution_count": 22,
   "metadata": {},
   "outputs": [
    {
     "data": {
      "text/plain": [
       "30.6610425"
      ]
     },
     "execution_count": 22,
     "metadata": {},
     "output_type": "execute_result"
    }
   ],
   "source": [
    "county_df[county_df['CNTY_NM'] == 'Brazos']['X (Lat)'].values[0]"
   ]
  },
  {
   "cell_type": "code",
   "execution_count": 24,
   "metadata": {},
   "outputs": [],
   "source": [
    "for county in county_list:\n",
    "    fetch_nsrdb_data(attrs=['ghi', 'wind_speed'], year=2020 , resolution= 'hourly', lat_lon= (county_df[county_df['CNTY_NM'] == county]['X (Lat)'].values[0], county_df[county_df['CNTY_NM'] == county]['Y (Long)'].values[0]))[1].to_csv(f'{county}.csv')"
   ]
  },
  {
   "cell_type": "code",
   "execution_count": null,
   "metadata": {},
   "outputs": [],
   "source": []
  }
 ],
 "metadata": {
  "kernelspec": {
   "display_name": ".venv",
   "language": "python",
   "name": "python3"
  },
  "language_info": {
   "codemirror_mode": {
    "name": "ipython",
    "version": 3
   },
   "file_extension": ".py",
   "mimetype": "text/x-python",
   "name": "python",
   "nbconvert_exporter": "python",
   "pygments_lexer": "ipython3",
   "version": "3.10.5"
  },
  "orig_nbformat": 4
 },
 "nbformat": 4,
 "nbformat_minor": 2
}
