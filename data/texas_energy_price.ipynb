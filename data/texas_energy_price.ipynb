{
 "cells": [
  {
   "cell_type": "code",
   "execution_count": 56,
   "metadata": {},
   "outputs": [],
   "source": [
    "import numpy\n",
    "import pandas"
   ]
  },
  {
   "cell_type": "code",
   "execution_count": 89,
   "metadata": {},
   "outputs": [],
   "source": [
    "prices = [pandas.read_excel('texas_energy_prices2.xlsx', sheet_name=i) for i in ['Jan', 'Feb', 'Mar', 'Apr', 'May', 'Jun', 'Jul', 'Aug', 'Sep', 'Oct', 'Nov', 'Dec']]"
   ]
  },
  {
   "cell_type": "code",
   "execution_count": 90,
   "metadata": {},
   "outputs": [],
   "source": [
    "prices_df = pandas.concat(prices, axis=0)"
   ]
  },
  {
   "cell_type": "code",
   "execution_count": 91,
   "metadata": {},
   "outputs": [
    {
     "data": {
      "text/html": [
       "<div>\n",
       "<style scoped>\n",
       "    .dataframe tbody tr th:only-of-type {\n",
       "        vertical-align: middle;\n",
       "    }\n",
       "\n",
       "    .dataframe tbody tr th {\n",
       "        vertical-align: top;\n",
       "    }\n",
       "\n",
       "    .dataframe thead th {\n",
       "        text-align: right;\n",
       "    }\n",
       "</style>\n",
       "<table border=\"1\" class=\"dataframe\">\n",
       "  <thead>\n",
       "    <tr style=\"text-align: right;\">\n",
       "      <th></th>\n",
       "      <th>Delivery Date</th>\n",
       "      <th>Hour Ending</th>\n",
       "      <th>Repeated Hour Flag</th>\n",
       "      <th>Settlement Point</th>\n",
       "      <th>Settlement Point Price</th>\n",
       "    </tr>\n",
       "  </thead>\n",
       "  <tbody>\n",
       "    <tr>\n",
       "      <th>0</th>\n",
       "      <td>01/01/2020</td>\n",
       "      <td>01:00</td>\n",
       "      <td>N</td>\n",
       "      <td>HB_BUSAVG</td>\n",
       "      <td>11.27</td>\n",
       "    </tr>\n",
       "    <tr>\n",
       "      <th>1</th>\n",
       "      <td>01/01/2020</td>\n",
       "      <td>01:00</td>\n",
       "      <td>N</td>\n",
       "      <td>HB_HOUSTON</td>\n",
       "      <td>11.27</td>\n",
       "    </tr>\n",
       "    <tr>\n",
       "      <th>2</th>\n",
       "      <td>01/01/2020</td>\n",
       "      <td>01:00</td>\n",
       "      <td>N</td>\n",
       "      <td>HB_HUBAVG</td>\n",
       "      <td>11.23</td>\n",
       "    </tr>\n",
       "    <tr>\n",
       "      <th>3</th>\n",
       "      <td>01/01/2020</td>\n",
       "      <td>01:00</td>\n",
       "      <td>N</td>\n",
       "      <td>HB_NORTH</td>\n",
       "      <td>11.29</td>\n",
       "    </tr>\n",
       "    <tr>\n",
       "      <th>4</th>\n",
       "      <td>01/01/2020</td>\n",
       "      <td>01:00</td>\n",
       "      <td>N</td>\n",
       "      <td>HB_PAN</td>\n",
       "      <td>0.00</td>\n",
       "    </tr>\n",
       "    <tr>\n",
       "      <th>...</th>\n",
       "      <td>...</td>\n",
       "      <td>...</td>\n",
       "      <td>...</td>\n",
       "      <td>...</td>\n",
       "      <td>...</td>\n",
       "    </tr>\n",
       "    <tr>\n",
       "      <th>11155</th>\n",
       "      <td>12/31/2020</td>\n",
       "      <td>24:00</td>\n",
       "      <td>N</td>\n",
       "      <td>LZ_LCRA</td>\n",
       "      <td>23.64</td>\n",
       "    </tr>\n",
       "    <tr>\n",
       "      <th>11156</th>\n",
       "      <td>12/31/2020</td>\n",
       "      <td>24:00</td>\n",
       "      <td>N</td>\n",
       "      <td>LZ_NORTH</td>\n",
       "      <td>22.80</td>\n",
       "    </tr>\n",
       "    <tr>\n",
       "      <th>11157</th>\n",
       "      <td>12/31/2020</td>\n",
       "      <td>24:00</td>\n",
       "      <td>N</td>\n",
       "      <td>LZ_RAYBN</td>\n",
       "      <td>22.81</td>\n",
       "    </tr>\n",
       "    <tr>\n",
       "      <th>11158</th>\n",
       "      <td>12/31/2020</td>\n",
       "      <td>24:00</td>\n",
       "      <td>N</td>\n",
       "      <td>LZ_SOUTH</td>\n",
       "      <td>23.27</td>\n",
       "    </tr>\n",
       "    <tr>\n",
       "      <th>11159</th>\n",
       "      <td>12/31/2020</td>\n",
       "      <td>24:00</td>\n",
       "      <td>N</td>\n",
       "      <td>LZ_WEST</td>\n",
       "      <td>24.82</td>\n",
       "    </tr>\n",
       "  </tbody>\n",
       "</table>\n",
       "<p>131760 rows × 5 columns</p>\n",
       "</div>"
      ],
      "text/plain": [
       "      Delivery Date Hour Ending Repeated Hour Flag Settlement Point  \\\n",
       "0        01/01/2020       01:00                  N        HB_BUSAVG   \n",
       "1        01/01/2020       01:00                  N       HB_HOUSTON   \n",
       "2        01/01/2020       01:00                  N        HB_HUBAVG   \n",
       "3        01/01/2020       01:00                  N         HB_NORTH   \n",
       "4        01/01/2020       01:00                  N           HB_PAN   \n",
       "...             ...         ...                ...              ...   \n",
       "11155    12/31/2020       24:00                  N          LZ_LCRA   \n",
       "11156    12/31/2020       24:00                  N         LZ_NORTH   \n",
       "11157    12/31/2020       24:00                  N         LZ_RAYBN   \n",
       "11158    12/31/2020       24:00                  N         LZ_SOUTH   \n",
       "11159    12/31/2020       24:00                  N          LZ_WEST   \n",
       "\n",
       "       Settlement Point Price  \n",
       "0                       11.27  \n",
       "1                       11.27  \n",
       "2                       11.23  \n",
       "3                       11.29  \n",
       "4                        0.00  \n",
       "...                       ...  \n",
       "11155                   23.64  \n",
       "11156                   22.80  \n",
       "11157                   22.81  \n",
       "11158                   23.27  \n",
       "11159                   24.82  \n",
       "\n",
       "[131760 rows x 5 columns]"
      ]
     },
     "execution_count": 91,
     "metadata": {},
     "output_type": "execute_result"
    }
   ],
   "source": [
    "prices_df"
   ]
  },
  {
   "cell_type": "code",
   "execution_count": 112,
   "metadata": {},
   "outputs": [],
   "source": [
    "prices_ho = prices_df[prices_df['Settlement Point'] == 'HB_HUBAVG']"
   ]
  },
  {
   "cell_type": "code",
   "execution_count": 113,
   "metadata": {},
   "outputs": [],
   "source": [
    "prices_ho = prices_ho.reset_index(drop= True)"
   ]
  },
  {
   "cell_type": "code",
   "execution_count": 114,
   "metadata": {},
   "outputs": [
    {
     "data": {
      "text/plain": [
       "8784"
      ]
     },
     "execution_count": 114,
     "metadata": {},
     "output_type": "execute_result"
    }
   ],
   "source": [
    "len(prices_ho)"
   ]
  },
  {
   "cell_type": "code",
   "execution_count": 115,
   "metadata": {},
   "outputs": [],
   "source": [
    "hours = [f'0{i}:00' for i in range(10)] + [f'{i}:00' for i in range(10,24)]"
   ]
  },
  {
   "cell_type": "code",
   "execution_count": 116,
   "metadata": {},
   "outputs": [],
   "source": [
    "prices_ho['Hour Ending'] = hours*366"
   ]
  },
  {
   "cell_type": "code",
   "execution_count": 117,
   "metadata": {},
   "outputs": [],
   "source": [
    "prices_ho['Time'] = prices_ho['Delivery Date'] + ' ' +  prices_ho['Hour Ending']"
   ]
  },
  {
   "cell_type": "code",
   "execution_count": 118,
   "metadata": {},
   "outputs": [],
   "source": [
    "prices_ho['Time'] = pandas.to_datetime(prices_ho['Time'])"
   ]
  },
  {
   "cell_type": "code",
   "execution_count": 119,
   "metadata": {},
   "outputs": [],
   "source": [
    "prices_ho.index = prices_ho['Time']"
   ]
  },
  {
   "cell_type": "code",
   "execution_count": 121,
   "metadata": {},
   "outputs": [
    {
     "data": {
      "image/png": "[encoded data removed]",
      "text/plain": [
       "<Figure size 1000x600 with 1 Axes>"
      ]
     },
     "metadata": {},
     "output_type": "display_data"
    }
   ],
   "source": [
    "from matplotlib import rc \n",
    "\n",
    "rc('font', **{'family': 'serif',\n",
    "    'serif': ['Computer Modern'], 'size': 16})\n",
    "fig, ax = plt.subplots(figsize= (10,6))\n",
    "plt.plot(prices_ho['Settlement Point Price'])\n",
    "plt.ylabel(\"$\")\n",
    "plt.xlabel(\"Date\")\n",
    "plt.title(\n",
    "    f\"Average Settlement Price Point in Texas\")\n",
    "# plt.xticks(rotation=90)\n",
    "plt.grid(alpha=0.3)\n",
    "plt.rcdefaults()\n"
   ]
  },
  {
   "cell_type": "code",
   "execution_count": 17,
   "metadata": {},
   "outputs": [],
   "source": [
    "prices_df['Time'] = pandas.to_datetime(prices_df['Time'], format='%m/%d/%Y %H:%M', errors='coerce')\n",
    "\n",
    "# Replace \"24:00\" with \"00:00\" of the following day\n",
    "prices_df['Time'] = prices_df['Time'].apply(lambda x: x + pandas.DateOffset(days=1) if x.hour == 0 and x.minute == 0 else x)"
   ]
  }
 ],
 "metadata": {
  "kernelspec": {
   "display_name": ".venv",
   "language": "python",
   "name": "python3"
  },
  "language_info": {
   "codemirror_mode": {
    "name": "ipython",
    "version": 3
   },
   "file_extension": ".py",
   "mimetype": "text/x-python",
   "name": "python",
   "nbconvert_exporter": "python",
   "pygments_lexer": "ipython3",
   "version": "3.10.5"
  },
  "orig_nbformat": 4
 },
 "nbformat": 4,
 "nbformat_minor": 2
}
