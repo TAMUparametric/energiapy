{
 "cells": [
  {
   "attachments": {},
   "cell_type": "markdown",
   "metadata": {},
   "source": [
    "# Multiscale PV Recycling MILP"
   ]
  },
  {
   "cell_type": "code",
   "execution_count": 1,
   "metadata": {},
   "outputs": [],
   "source": [
    "__author__ = \"Natasha Jane Chrisandina, Funda Iseri\"\n",
    "__copyright__ = \"Copyright 2023, Multi-parametric Optimization & Control Lab\"\n",
    "__credits__ = [\"Natasha Jane Chrisandina\", \"Funda Iseri\", \"Efstratios N. Pistikopoulos\"]\n",
    "__license__ = \"MIT\"\n",
    "__version__ = \"1.0.0\"\n",
    "__maintainer__ = \"Natasha Jane Chrisandina\"\n",
    "__email__ = \"nchrisandina@tamu.edu\"\n",
    "__status__ = \"Production\"\n"
   ]
  },
  {
   "attachments": {},
   "cell_type": "markdown",
   "metadata": {},
   "source": [
    "## Problem Statement\n",
    "\n",
    "The following case study considers one type of solar PV panel (crystalline silicon, c-Si) that is to be recycled into separate components. The goal is to maximize economic profit obtained from the recycling process.\n",
    "\n",
    "Data source: https://www.sciencedirect.com/science/article/pii/S0927024822000162"
   ]
  },
  {
   "attachments": {},
   "cell_type": "markdown",
   "metadata": {},
   "source": [
    "Module imports"
   ]
  },
  {
   "cell_type": "code",
   "execution_count": 3,
   "metadata": {},
   "outputs": [],
   "source": [
    "import pandas \n",
    "import numpy\n",
    "\n",
    "from src.energiapy.components.temporal_scale import TemporalScale\n",
    "from src.energiapy.components.resource import Resource\n",
    "from src.energiapy.components.process import Process\n",
    "from src.energiapy.components.location import Location\n",
    "from src.energiapy.components.transport import Transport\n",
    "from src.energiapy.components.network import Network\n",
    "from src.energiapy.components.scenario import Scenario\n",
    "from src.energiapy.components.result import Result \n",
    "from src.energiapy.model.formulate import formulate, Constraints, Objective\n",
    "from src.energiapy.plot import plot_results, plot_scenario\n",
    "from src.energiapy.plot.plot_results import CostY, CostX\n",
    "from src.energiapy.model.solve import solve\n",
    "import matplotlib.pyplot as plt\n",
    "from matplotlib import rc\n",
    "from itertools import product"
   ]
  },
  {
   "attachments": {},
   "cell_type": "markdown",
   "metadata": {},
   "source": [
    "### Initialize model"
   ]
  },
  {
   "attachments": {},
   "cell_type": "markdown",
   "metadata": {},
   "source": [
    "Define temporal scales at different levels:\n",
    "- 0 is annual, with 1 discretization\n",
    "- 1 is daily, with 365 discretization"
   ]
  },
  {
   "cell_type": "code",
   "execution_count": 23,
   "metadata": {},
   "outputs": [],
   "source": [
    "scales = TemporalScale(discretization_list=[1, 365])"
   ]
  },
  {
   "attachments": {},
   "cell_type": "markdown",
   "metadata": {},
   "source": [
    "Define resources, which are things to be consumed, produced, stored, or sold. In this case, the feedstock is silicon PV and the products are the different major recyclable materials. We will assume that *glass* is a product in demand, whereas everything else can simply be sold."
   ]
  },
  {
   "cell_type": "code",
   "execution_count": 24,
   "metadata": {},
   "outputs": [],
   "source": [
    "SiPV_dummy = Resource(name = 'sipv_dummy', label='Silicon PV Dummy', price=50, basis = 'module', cons_max=130000)\n",
    "SiPV = Resource(name = 'sipv', label='Silicon Photovoltaic', price=50, basis = 'module', cons_max=130000)\n",
    "glass = Resource(name = 'glass', label='Recycled glass', revenue=100, basis = 'kg', cons_max=10**6)\n",
    "aluminum = Resource(name = 'al', label='Recycled aluminum', revenue=100, basis = 'kg', sell=True)\n",
    "polymer = Resource(name = 'polymer', label='Recycled polymer', revenue=100, basis = 'kg', sell=True)\n",
    "copper = Resource(name = 'cu', label='Recycled copper', revenue=100, basis = 'kg', sell=True)\n",
    "silver = Resource(name = 'ag', label='Recycled silver', revenue=100, basis = 'kg', sell=True)\n",
    "silicon = Resource(name = 'si', label='Recycled silicon', revenue=100, basis = 'kg', sell=True)\n",
    "glass_dummy = Resource(name = 'glass_dummy', label='Recycled glass Dummy', revenue=100, basis = 'kg', demand=True)\n"
   ]
  },
  {
   "attachments": {},
   "cell_type": "markdown",
   "metadata": {},
   "source": [
    "Define processes, which are the different potential recycling processes. There are three types of process: FRELP, ASU, and Hybrid, and each process has two separate max production level to represent large-scale vs small-scale recycling.\n",
    "\n",
    "The \"collection\" process is essentially a dummy process to represent PVs being shipped off from a collection center to recycling center locations."
   ]
  },
  {
   "cell_type": "code",
   "execution_count": 25,
   "metadata": {},
   "outputs": [],
   "source": [
    "collection = Process(name = 'collection', label='dummy process', conversion = {SiPV_dummy: -1, SiPV: 1}, prod_max = 130000)\n",
    "glass_collect = Process(name = 'glass_collection', label='dummy process for product', conversion = {glass: -1, glass_dummy: 1}, prod_max = 10**6)\n",
    "\n",
    "\n",
    "FRELP = Process(name = 'FRELP', label='FRELP recycling', conversion = {SiPV: -1, glass: 13.5975, polymer: 2.22, aluminum: 1.65501, silicon: 0.53835, copper: 0.17945, silver: 0.001739}, prod_max = 1300, capex = 4, vopex = 8)\n",
    "ASU = Process(name = 'ASU', label='ASU recycling', conversion = {SiPV: -1, glass: 13.73625, polymer: 2.22, aluminum: 1.5651, silicon: 0.4995, copper: 0.15355, silver: 0.001369}, prod_max = 1300, capex = 17, vopex = 9)\n",
    "hybrid = Process(name = 'hybrid', label='Hybrid recycling', conversion = {SiPV: -1, glass: 13.5975, polymer: 2.22, aluminum: 1.65501, silicon: 0.53835, copper: 0.15355, silver: 0.001369}, prod_max = 1300, capex = 3, vopex = 7)\n",
    "\n",
    "\n",
    "FRELP_big = Process(name = 'FRELP_big', label='big FRELP recycling', conversion = {SiPV: -1, glass: 13.5975, polymer: 2.22, aluminum: 1.65501, silicon: 0.53835, copper: 0.17945, silver: 0.001739}, prod_max = 13000, capex = 3, vopex = 5)\n",
    "ASU_big = Process(name = 'ASU_big', label='big ASU recycling', conversion = {SiPV: -1, glass: 13.73625, polymer: 2.22, aluminum: 1.5651, silicon: 0.4995, copper: 0.15355, silver: 0.001369}, prod_max = 13000, capex = 8, vopex = 6)\n",
    "hybrid_big = Process(name = 'hybrid_big', label='big Hybrid recycling', conversion = {SiPV: -1, glass: 13.5975, polymer: 2.22, aluminum: 1.65501, silicon: 0.53835, copper: 0.15355, silver: 0.001369}, prod_max = 13000, capex = 3, vopex = 4)\n"
   ]
  },
  {
   "attachments": {},
   "cell_type": "markdown",
   "metadata": {},
   "source": [
    "Define locations"
   ]
  },
  {
   "cell_type": "code",
   "execution_count": 26,
   "metadata": {},
   "outputs": [],
   "source": [
    "cc1 = Location(name='cc1', label = 'Collection Center 1', scales = scales, processes = {collection})\n",
    "cc2 = Location(name='cc2', label = 'Collection Center 2', scales = scales, processes = {collection})\n",
    "\n",
    "\n",
    "rc1 = Location(name='rc1', label = 'Recycling Center 1', scales = scales, processes = {FRELP, ASU, hybrid, FRELP_big, ASU_big, hybrid_big})\n",
    "\n",
    "gc1 = Location(name='gc1', label = 'Glass Recycling Center 1', scales = scales, processes= {glass_collect})\n"
   ]
  },
  {
   "attachments": {},
   "cell_type": "markdown",
   "metadata": {},
   "source": [
    "Define transportation modes"
   ]
  },
  {
   "cell_type": "code",
   "execution_count": 36,
   "metadata": {},
   "outputs": [],
   "source": [
    "Truck = Transport(name = 'Truck', resources = {SiPV, SiPV_dummy, glass, aluminum, polymer, copper, silver, silicon, glass_dummy}, trans_max = 10**6, trans_cost = 0.01, label = 'Generic truck for everything')\n",
    "\n",
    "distance_matrix = [\n",
    "    [0, 100, 100, 100],\n",
    "    [100, 0, 100, 100],\n",
    "    [100, 100, 0, 100],\n",
    "    [100, 100, 100, 0]\n",
    "]\n",
    "\n",
    "transport_matrix = [\n",
    "    [[], [Truck], [Truck],[Truck]],\n",
    "    [[Truck],[], [Truck], [Truck]],\n",
    "    [[Truck], [Truck], [], [Truck]],\n",
    "    [[Truck], [Truck],[Truck],[]]\n",
    "]\n",
    "\n",
    "network = Network(name = 'Network', label= 'Generic network', source_locations = [cc1, cc2, rc1, gc1], sink_locations = [gc1], distance_matrix = distance_matrix, transport_matrix= transport_matrix)"
   ]
  },
  {
   "attachments": {},
   "cell_type": "markdown",
   "metadata": {},
   "source": [
    "Define scenario"
   ]
  },
  {
   "cell_type": "code",
   "execution_count": 37,
   "metadata": {},
   "outputs": [],
   "source": [
    "genericScenario = Scenario(name = 'genericScenario', network = network, scales= scales, demand={gc1: {glass_dummy: 1000}}, label = 'genericScenario', network_scale_level = 0, purchase_scale_level = 1, scheduling_scale_level = 1, demand_scale_level = 1, expenditure_scale_level = 0)"
   ]
  },
  {
   "attachments": {},
   "cell_type": "markdown",
   "metadata": {},
   "source": [
    "MILP formulation"
   ]
  },
  {
   "cell_type": "code",
   "execution_count": 38,
   "metadata": {},
   "outputs": [
    {
     "name": "stdout",
     "output_type": "stream",
     "text": [
      "constraint process capex\n",
      "constraint process fopex\n",
      "constraint process vopex\n",
      "constraint process incidental\n",
      "constraint location capex\n",
      "constraint location fopex\n",
      "constraint location vopex\n",
      "constraint location incidental\n",
      "constraint network capex\n",
      "constraint network fopex\n",
      "constraint network vopex\n",
      "constraint network incidental\n",
      "constraint nameplate inventory\n",
      "constraint storage max\n",
      "constraint storage min\n",
      "constraint production mode\n",
      "constraint nameplate production\n",
      "constraint production max\n",
      "constraint production min\n",
      "constraint inventory balance\n",
      "constraint resource consumption\n",
      "constraint resource purchase\n",
      "constraint location production\n",
      "constraint location discharge\n",
      "constraint location consumption\n",
      "constraint location purchase\n",
      "constraint network production\n",
      "constraint network discharge\n",
      "constraint network consumption\n",
      "constraint network purchase\n",
      "constraint transport export\n",
      "constraint transport import\n",
      "constraint transport exp UB\n",
      "constraint transport imp UB\n",
      "constraint transport balance\n",
      "constraint transport imp cost\n",
      "constraint transport cost\n",
      "constraint transport cost network\n",
      "constraint demand\n",
      "constraint network cost\n",
      "objective discharge max\n"
     ]
    }
   ],
   "source": [
    "milp_demand = formulate(scenario = genericScenario, constraints={Constraints.INVENTORY,Constraints.COST, Constraints.PRODUCTION, Constraints.RESOURCE_BALANCE, Constraints.TRANSPORT}, objective=Objective.MAX_DISCHARGE, objective_resource=glass_dummy)"
   ]
  },
  {
   "cell_type": "code",
   "execution_count": 40,
   "metadata": {},
   "outputs": [
    {
     "name": "stdout",
     "output_type": "stream",
     "text": [
      "Parameter OutputFlag unchanged\n",
      "   Value: 1  Min: 0  Max: 1  Default: 1\n",
      "Changed value of parameter LogFile to C:\\Users\\NCHRIS~1\\AppData\\Local\\Temp\\tmp2b_ci4zh.log\n",
      "   Prev:   Default: \n",
      "Changed value of parameter QCPDual to 1\n",
      "   Prev: 0  Min: 0  Max: 1  Default: 0\n",
      "Gurobi Optimizer version 9.1.2 build v9.1.2rc0 (win64)\n",
      "Thread count: 4 physical cores, 8 logical processors, using up to 8 threads\n",
      "Optimize a model with 116749 rows, 120371 columns and 325809 nonzeros\n",
      "Model fingerprint: 0xbebbbce4\n",
      "Variable types: 120367 continuous, 4 integer (4 binary)\n",
      "Coefficient statistics:\n",
      "  Matrix range     [1e-03, 1e+06]\n",
      "  Objective range  [1e+00, 1e+00]\n",
      "  Bounds range     [1e+00, 1e+00]\n",
      "  RHS range        [1e+03, 1e+06]\n",
      "Presolve removed 116749 rows and 120371 columns\n",
      "Presolve time: 0.11s\n",
      "Presolve: All rows and columns removed\n",
      "\n",
      "Explored 0 nodes (0 simplex iterations) in 0.14 seconds\n",
      "Thread count was 1 (of 8 available processors)\n",
      "\n",
      "Solution count 1: 3.55078e+09 \n",
      "\n",
      "Optimal solution found (tolerance 1.00e-04)\n",
      "Best objective 3.550780909375e+09, best bound 3.550780909375e+09, gap 0.0000%\n",
      "Changed value of parameter LogFile to \n",
      "   Prev: C:\\Users\\NCHRIS~1\\AppData\\Local\\Temp\\tmp2b_ci4zh.log  Default: \n"
     ]
    },
    {
     "ename": "KeyboardInterrupt",
     "evalue": "",
     "output_type": "error",
     "traceback": [
      "\u001b[1;31m---------------------------------------------------------------------------\u001b[0m",
      "\u001b[1;31mKeyboardInterrupt\u001b[0m                         Traceback (most recent call last)",
      "\u001b[1;32mc:\\Users\\nchrisandina\\OneDrive - Texas A&M University\\Repositories\\energiapy\\solar.ipynb Cell 21\u001b[0m in \u001b[0;36m<cell line: 1>\u001b[1;34m()\u001b[0m\n\u001b[1;32m----> <a href='vscode-notebook-cell:/c%3A/Users/nchrisandina/OneDrive%20-%20Texas%20A%26M%20University/Repositories/energiapy/solar.ipynb#X21sZmlsZQ%3D%3D?line=0'>1</a>\u001b[0m results \u001b[39m=\u001b[39m solve(scenario \u001b[39m=\u001b[39;49m genericScenario, instance\u001b[39m=\u001b[39;49mmilp_demand, solver\u001b[39m=\u001b[39;49m\u001b[39m'\u001b[39;49m\u001b[39mgurobi\u001b[39;49m\u001b[39m'\u001b[39;49m, print_solversteps\u001b[39m=\u001b[39;49m\u001b[39mTrue\u001b[39;49;00m, name \u001b[39m=\u001b[39;49m \u001b[39m'\u001b[39;49m\u001b[39mresults\u001b[39;49m\u001b[39m'\u001b[39;49m)\n",
      "File \u001b[1;32mc:\\Users\\nchrisandina\\OneDrive - Texas A&M University\\Repositories\\energiapy\\src\\energiapy\\model\\solve.py:81\u001b[0m, in \u001b[0;36msolve\u001b[1;34m(instance, solver, name, scenario, saveformat, print_solversteps)\u001b[0m\n\u001b[0;32m     76\u001b[0m         duals_dict \u001b[39m=\u001b[39m {cons\u001b[39m.\u001b[39mname: {index: instance\u001b[39m.\u001b[39mdual[cons[index]] \u001b[39mfor\u001b[39;00m index\n\u001b[0;32m     77\u001b[0m                                   \u001b[39min\u001b[39;00m index_dict[cons]} \u001b[39mfor\u001b[39;00m cons \u001b[39min\u001b[39;00m model_cons}\n\u001b[0;32m     79\u001b[0m     logging\u001b[39m.\u001b[39mbasicConfig(\n\u001b[0;32m     80\u001b[0m         filename\u001b[39m=\u001b[39m\u001b[39mf\u001b[39m\u001b[39m\"\u001b[39m\u001b[39m{\u001b[39;00mscenario\u001b[39m.\u001b[39mname\u001b[39m}\u001b[39;00m\u001b[39m_nearbound.log\u001b[39m\u001b[39m\"\u001b[39m, encoding\u001b[39m=\u001b[39m\u001b[39m'\u001b[39m\u001b[39mutf-8\u001b[39m\u001b[39m'\u001b[39m, level\u001b[39m=\u001b[39mlogging\u001b[39m.\u001b[39mINFO)\n\u001b[1;32m---> 81\u001b[0m     log_close_to_bounds(instance)\n\u001b[0;32m     83\u001b[0m \u001b[39melse\u001b[39;00m:\n\u001b[0;32m     84\u001b[0m     output_dict \u001b[39m=\u001b[39m solution_dict\n",
      "File \u001b[1;32mc:\\Users\\nchrisandina\\.conda\\envs\\envpython38\\lib\\site-packages\\pyomo\\util\\infeasible.py:163\u001b[0m, in \u001b[0;36mlog_close_to_bounds\u001b[1;34m(m, tol, logger)\u001b[0m\n\u001b[0;32m    161\u001b[0m     \u001b[39mcontinue\u001b[39;00m  \u001b[39m# if the bounds are too close, skip.\u001b[39;00m\n\u001b[0;32m    162\u001b[0m \u001b[39mif\u001b[39;00m var\u001b[39m.\u001b[39mhas_lb() \u001b[39mand\u001b[39;00m fabs(value(var\u001b[39m.\u001b[39mlb \u001b[39m-\u001b[39m var)) \u001b[39m<\u001b[39m\u001b[39m=\u001b[39m tol:\n\u001b[1;32m--> 163\u001b[0m     logger\u001b[39m.\u001b[39minfo(\u001b[39m'\u001b[39m\u001b[39m{}\u001b[39;00m\u001b[39m near LB of \u001b[39m\u001b[39m{}\u001b[39;00m\u001b[39m'\u001b[39m\u001b[39m.\u001b[39mformat(var\u001b[39m.\u001b[39;49mname, value(var\u001b[39m.\u001b[39mlb)))\n\u001b[0;32m    164\u001b[0m \u001b[39melif\u001b[39;00m var\u001b[39m.\u001b[39mhas_ub() \u001b[39mand\u001b[39;00m fabs(value(var\u001b[39m.\u001b[39mub \u001b[39m-\u001b[39m var)) \u001b[39m<\u001b[39m\u001b[39m=\u001b[39m tol:\n\u001b[0;32m    165\u001b[0m     logger\u001b[39m.\u001b[39minfo(\u001b[39m'\u001b[39m\u001b[39m{}\u001b[39;00m\u001b[39m near UB of \u001b[39m\u001b[39m{}\u001b[39;00m\u001b[39m'\u001b[39m\u001b[39m.\u001b[39mformat(var\u001b[39m.\u001b[39mname, value(var\u001b[39m.\u001b[39mub)))\n",
      "File \u001b[1;32mc:\\Users\\nchrisandina\\.conda\\envs\\envpython38\\lib\\site-packages\\pyomo\\core\\base\\component.py:276\u001b[0m, in \u001b[0;36m_ComponentBase.name\u001b[1;34m(self)\u001b[0m\n\u001b[0;32m    273\u001b[0m \u001b[39m@property\u001b[39m\n\u001b[0;32m    274\u001b[0m \u001b[39mdef\u001b[39;00m \u001b[39mname\u001b[39m(\u001b[39mself\u001b[39m):\n\u001b[0;32m    275\u001b[0m     \u001b[39m\"\"\"Get the fully qualifed component name.\"\"\"\u001b[39;00m\n\u001b[1;32m--> 276\u001b[0m     \u001b[39mreturn\u001b[39;00m \u001b[39mself\u001b[39;49m\u001b[39m.\u001b[39;49mgetname(fully_qualified\u001b[39m=\u001b[39;49m\u001b[39mTrue\u001b[39;49;00m)\n",
      "File \u001b[1;32mc:\\Users\\nchrisandina\\.conda\\envs\\envpython38\\lib\\site-packages\\pyomo\\core\\base\\component.py:919\u001b[0m, in \u001b[0;36mComponentData.getname\u001b[1;34m(self, fully_qualified, name_buffer, relative_to)\u001b[0m\n\u001b[0;32m    912\u001b[0m         \u001b[39mreturn\u001b[39;00m name_buffer[\u001b[39mid\u001b[39m(\u001b[39mself\u001b[39m)]\n\u001b[0;32m    913\u001b[0m \u001b[39melse\u001b[39;00m:\n\u001b[0;32m    914\u001b[0m     \u001b[39m#\u001b[39;00m\n\u001b[0;32m    915\u001b[0m     \u001b[39m# No buffer, so we iterate through the component _data\u001b[39;00m\n\u001b[0;32m    916\u001b[0m     \u001b[39m# dictionary until we find this object.  This can be much\u001b[39;00m\n\u001b[0;32m    917\u001b[0m     \u001b[39m# more expensive than if a buffer is provided.\u001b[39;00m\n\u001b[0;32m    918\u001b[0m     \u001b[39m#\u001b[39;00m\n\u001b[1;32m--> 919\u001b[0m     \u001b[39mfor\u001b[39;00m idx, obj \u001b[39min\u001b[39;00m c\u001b[39m.\u001b[39;49mitems():\n\u001b[0;32m    920\u001b[0m         \u001b[39mif\u001b[39;00m obj \u001b[39mis\u001b[39;00m \u001b[39mself\u001b[39m:\n\u001b[0;32m    921\u001b[0m             \u001b[39mreturn\u001b[39;00m base \u001b[39m+\u001b[39m index_repr(idx)\n",
      "File \u001b[1;32mc:\\Users\\nchrisandina\\.conda\\envs\\envpython38\\lib\\site-packages\\pyomo\\core\\base\\indexed_component.py:371\u001b[0m, in \u001b[0;36mIndexedComponent.items\u001b[1;34m(self)\u001b[0m\n\u001b[0;32m    369\u001b[0m \u001b[39mdef\u001b[39;00m \u001b[39mitems\u001b[39m(\u001b[39mself\u001b[39m):\n\u001b[0;32m    370\u001b[0m     \u001b[39m\"\"\"Return an iterator of (index,data) tuples from the dictionary\"\"\"\u001b[39;00m\n\u001b[1;32m--> 371\u001b[0m     \u001b[39mreturn\u001b[39;00m [ (x, \u001b[39mself\u001b[39m[x]) \u001b[39mfor\u001b[39;00m x \u001b[39min\u001b[39;00m \u001b[39mself\u001b[39m ]\n",
      "File \u001b[1;32mc:\\Users\\nchrisandina\\.conda\\envs\\envpython38\\lib\\site-packages\\pyomo\\core\\base\\indexed_component.py:371\u001b[0m, in \u001b[0;36m<listcomp>\u001b[1;34m(.0)\u001b[0m\n\u001b[0;32m    369\u001b[0m \u001b[39mdef\u001b[39;00m \u001b[39mitems\u001b[39m(\u001b[39mself\u001b[39m):\n\u001b[0;32m    370\u001b[0m     \u001b[39m\"\"\"Return an iterator of (index,data) tuples from the dictionary\"\"\"\u001b[39;00m\n\u001b[1;32m--> 371\u001b[0m     \u001b[39mreturn\u001b[39;00m [ (x, \u001b[39mself\u001b[39;49m[x]) \u001b[39mfor\u001b[39;00m x \u001b[39min\u001b[39;00m \u001b[39mself\u001b[39m ]\n",
      "File \u001b[1;32mc:\\Users\\nchrisandina\\.conda\\envs\\envpython38\\lib\\site-packages\\pyomo\\core\\base\\indexed_component.py:381\u001b[0m, in \u001b[0;36mIndexedComponent.__getitem__\u001b[1;34m(self, index)\u001b[0m\n\u001b[0;32m    378\u001b[0m     \u001b[39mself\u001b[39m\u001b[39m.\u001b[39m_not_constructed_error(index)\n\u001b[0;32m    380\u001b[0m \u001b[39mtry\u001b[39;00m:\n\u001b[1;32m--> 381\u001b[0m     obj \u001b[39m=\u001b[39m \u001b[39mself\u001b[39m\u001b[39m.\u001b[39m_data\u001b[39m.\u001b[39mget(index, _NotFound)\n\u001b[0;32m    382\u001b[0m \u001b[39mexcept\u001b[39;00m \u001b[39mTypeError\u001b[39;00m:\n\u001b[0;32m    383\u001b[0m     \u001b[39mtry\u001b[39;00m:\n",
      "\u001b[1;31mKeyboardInterrupt\u001b[0m: "
     ]
    }
   ],
   "source": [
    "results = solve(scenario = genericScenario, instance=milp_demand, solver='gurobi', print_solversteps=True, name = 'results')"
   ]
  },
  {
   "cell_type": "code",
   "execution_count": null,
   "metadata": {},
   "outputs": [],
   "source": []
  }
 ],
 "metadata": {
  "kernelspec": {
   "display_name": "envpython38",
   "language": "python",
   "name": "python3"
  },
  "language_info": {
   "codemirror_mode": {
    "name": "ipython",
    "version": 3
   },
   "file_extension": ".py",
   "mimetype": "text/x-python",
   "name": "python",
   "nbconvert_exporter": "python",
   "pygments_lexer": "ipython3",
   "version": "3.8.13"
  },
  "orig_nbformat": 4
 },
 "nbformat": 4,
 "nbformat_minor": 2
}
